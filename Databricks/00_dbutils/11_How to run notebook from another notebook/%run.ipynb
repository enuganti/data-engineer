{
 "cells": [
  {
   "cell_type": "code",
   "execution_count": 0,
   "metadata": {
    "application/vnd.databricks.v1+cell": {
     "cellMetadata": {
      "byteLimit": 2048000,
      "rowLimit": 10000
     },
     "inputWidgets": {},
     "nuid": "e7e53c70-c75a-433b-a1ed-df655ca70252",
     "showTitle": false,
     "tableResultSettingsMap": {},
     "title": ""
    }
   },
   "outputs": [
    {
     "output_type": "execute_result",
     "data": {
      "text/plain": [
       "True"
      ]
     },
     "execution_count": 28,
     "metadata": {},
     "output_type": "execute_result"
    }
   ],
   "source": [
    "dbutils.fs.mkdirs(\"dbfs:/FileStore/tables/source_to_bronze\")"
   ]
  },
  {
   "cell_type": "code",
   "execution_count": 0,
   "metadata": {
    "application/vnd.databricks.v1+cell": {
     "cellMetadata": {
      "byteLimit": 2048000,
      "rowLimit": 10000
     },
     "inputWidgets": {},
     "nuid": "ae1dd216-9379-4e17-b692-fd67b672ca66",
     "showTitle": true,
     "tableResultSettingsMap": {},
     "title": "Import Utils function notebook."
    }
   },
   "outputs": [],
   "source": [
    "%run ./utility"
   ]
  },
  {
   "cell_type": "code",
   "execution_count": 0,
   "metadata": {
    "application/vnd.databricks.v1+cell": {
     "cellMetadata": {
      "byteLimit": 2048000,
      "rowLimit": 10000
     },
     "inputWidgets": {},
     "nuid": "8bb076a0-4ccb-43bb-8db6-cdb8ee0e74fb",
     "showTitle": false,
     "tableResultSettingsMap": {},
     "title": ""
    }
   },
   "outputs": [
    {
     "output_type": "display_data",
     "data": {
      "text/html": [
       "<style scoped>\n",
       "  .table-result-container {\n",
       "    max-height: 300px;\n",
       "    overflow: auto;\n",
       "  }\n",
       "  table, th, td {\n",
       "    border: 1px solid black;\n",
       "    border-collapse: collapse;\n",
       "  }\n",
       "  th, td {\n",
       "    padding: 5px;\n",
       "  }\n",
       "  th {\n",
       "    text-align: left;\n",
       "  }\n",
       "</style><div class='table-result-container'><table class='table-result'><thead style='background-color: white'><tr><th>path</th><th>name</th><th>size</th><th>modificationTime</th></tr></thead><tbody><tr><td>dbfs:/FileStore/</td><td>FileStore/</td><td>0</td><td>0</td></tr><tr><td>dbfs:/content/</td><td>content/</td><td>0</td><td>0</td></tr><tr><td>dbfs:/data/</td><td>data/</td><td>0</td><td>0</td></tr><tr><td>dbfs:/databricks/</td><td>databricks/</td><td>0</td><td>0</td></tr><tr><td>dbfs:/databricks-datasets/</td><td>databricks-datasets/</td><td>0</td><td>0</td></tr><tr><td>dbfs:/databricks-results/</td><td>databricks-results/</td><td>0</td><td>0</td></tr><tr><td>dbfs:/local_disk0/</td><td>local_disk0/</td><td>0</td><td>0</td></tr><tr><td>dbfs:/user/</td><td>user/</td><td>0</td><td>0</td></tr></tbody></table></div>"
      ]
     },
     "metadata": {
      "application/vnd.databricks.v1+output": {
       "addedWidgets": {},
       "aggData": [],
       "aggError": "",
       "aggOverflow": false,
       "aggSchema": [],
       "aggSeriesLimitReached": false,
       "aggType": "",
       "arguments": {},
       "columnCustomDisplayInfos": {},
       "data": [
        [
         "dbfs:/FileStore/",
         "FileStore/",
         0,
         0
        ],
        [
         "dbfs:/content/",
         "content/",
         0,
         0
        ],
        [
         "dbfs:/data/",
         "data/",
         0,
         0
        ],
        [
         "dbfs:/databricks/",
         "databricks/",
         0,
         0
        ],
        [
         "dbfs:/databricks-datasets/",
         "databricks-datasets/",
         0,
         0
        ],
        [
         "dbfs:/databricks-results/",
         "databricks-results/",
         0,
         0
        ],
        [
         "dbfs:/local_disk0/",
         "local_disk0/",
         0,
         0
        ],
        [
         "dbfs:/user/",
         "user/",
         0,
         0
        ]
       ],
       "datasetInfos": [],
       "dbfsResultPath": null,
       "isJsonSchema": true,
       "metadata": {
        "isDbfsCommandResult": false
       },
       "overflow": false,
       "plotOptions": {
        "customPlotOptions": {},
        "displayType": "table",
        "pivotAggregation": null,
        "pivotColumns": null,
        "xColumns": null,
        "yColumns": null
       },
       "removedWidgets": [],
       "schema": [
        {
         "metadata": "{}",
         "name": "path",
         "type": "\"string\""
        },
        {
         "metadata": "{}",
         "name": "name",
         "type": "\"string\""
        },
        {
         "metadata": "{}",
         "name": "size",
         "type": "\"long\""
        },
        {
         "metadata": "{}",
         "name": "modificationTime",
         "type": "\"long\""
        }
       ],
       "type": "table"
      }
     },
     "output_type": "display_data"
    }
   ],
   "source": [
    "%fs ls"
   ]
  },
  {
   "cell_type": "code",
   "execution_count": 0,
   "metadata": {
    "application/vnd.databricks.v1+cell": {
     "cellMetadata": {
      "byteLimit": 2048000,
      "rowLimit": 10000
     },
     "inputWidgets": {},
     "nuid": "24b9473a-1639-4b46-80fa-a64e5d4fcf43",
     "showTitle": false,
     "tableResultSettingsMap": {},
     "title": ""
    }
   },
   "outputs": [
    {
     "output_type": "display_data",
     "data": {
      "text/html": [
       "<style scoped>\n",
       "  .table-result-container {\n",
       "    max-height: 300px;\n",
       "    overflow: auto;\n",
       "  }\n",
       "  table, th, td {\n",
       "    border: 1px solid black;\n",
       "    border-collapse: collapse;\n",
       "  }\n",
       "  th, td {\n",
       "    padding: 5px;\n",
       "  }\n",
       "  th {\n",
       "    text-align: left;\n",
       "  }\n",
       "</style><div class='table-result-container'><table class='table-result'><thead style='background-color: white'><tr><th>path</th><th>name</th><th>size</th><th>modificationTime</th></tr></thead><tbody><tr><td>dbfs:/FileStore/Question7.csv</td><td>Question7.csv</td><td>154</td><td>1721635338000</td></tr><tr><td>dbfs:/FileStore/multiLine_nested_02-1.json</td><td>multiLine_nested_02-1.json</td><td>3214</td><td>1741273195000</td></tr><tr><td>dbfs:/FileStore/multiLine_nested_02.json</td><td>multiLine_nested_02.json</td><td>3214</td><td>1741272887000</td></tr><tr><td>dbfs:/FileStore/syntax-1.png</td><td>syntax-1.png</td><td>46059</td><td>1725977759000</td></tr><tr><td>dbfs:/FileStore/syntax.png</td><td>syntax.png</td><td>60188</td><td>1725976964000</td></tr><tr><td>dbfs:/FileStore/tables/</td><td>tables/</td><td>0</td><td>0</td></tr></tbody></table></div>"
      ]
     },
     "metadata": {
      "application/vnd.databricks.v1+output": {
       "addedWidgets": {},
       "aggData": [],
       "aggError": "",
       "aggOverflow": false,
       "aggSchema": [],
       "aggSeriesLimitReached": false,
       "aggType": "",
       "arguments": {},
       "columnCustomDisplayInfos": {},
       "data": [
        [
         "dbfs:/FileStore/Question7.csv",
         "Question7.csv",
         154,
         1721635338000
        ],
        [
         "dbfs:/FileStore/multiLine_nested_02-1.json",
         "multiLine_nested_02-1.json",
         3214,
         1741273195000
        ],
        [
         "dbfs:/FileStore/multiLine_nested_02.json",
         "multiLine_nested_02.json",
         3214,
         1741272887000
        ],
        [
         "dbfs:/FileStore/syntax-1.png",
         "syntax-1.png",
         46059,
         1725977759000
        ],
        [
         "dbfs:/FileStore/syntax.png",
         "syntax.png",
         60188,
         1725976964000
        ],
        [
         "dbfs:/FileStore/tables/",
         "tables/",
         0,
         0
        ]
       ],
       "datasetInfos": [],
       "dbfsResultPath": null,
       "isJsonSchema": true,
       "metadata": {
        "isDbfsCommandResult": false
       },
       "overflow": false,
       "plotOptions": {
        "customPlotOptions": {},
        "displayType": "table",
        "pivotAggregation": null,
        "pivotColumns": null,
        "xColumns": null,
        "yColumns": null
       },
       "removedWidgets": [],
       "schema": [
        {
         "metadata": "{}",
         "name": "path",
         "type": "\"string\""
        },
        {
         "metadata": "{}",
         "name": "name",
         "type": "\"string\""
        },
        {
         "metadata": "{}",
         "name": "size",
         "type": "\"long\""
        },
        {
         "metadata": "{}",
         "name": "modificationTime",
         "type": "\"long\""
        }
       ],
       "type": "table"
      }
     },
     "output_type": "display_data"
    }
   ],
   "source": [
    "%fs ls dbfs:/FileStore/"
   ]
  },
  {
   "cell_type": "code",
   "execution_count": 0,
   "metadata": {
    "application/vnd.databricks.v1+cell": {
     "cellMetadata": {
      "byteLimit": 2048000,
      "rowLimit": 10000
     },
     "inputWidgets": {},
     "nuid": "541703e3-9847-4702-bc3f-4184ae550619",
     "showTitle": false,
     "tableResultSettingsMap": {},
     "title": ""
    }
   },
   "outputs": [
    {
     "output_type": "display_data",
     "data": {
      "text/html": [
       "<style scoped>\n",
       "  .table-result-container {\n",
       "    max-height: 300px;\n",
       "    overflow: auto;\n",
       "  }\n",
       "  table, th, td {\n",
       "    border: 1px solid black;\n",
       "    border-collapse: collapse;\n",
       "  }\n",
       "  th, td {\n",
       "    padding: 5px;\n",
       "  }\n",
       "  th {\n",
       "    text-align: left;\n",
       "  }\n",
       "</style><div class='table-result-container'><table class='table-result'><thead style='background-color: white'><tr><th>path</th><th>name</th><th>size</th><th>modificationTime</th></tr></thead><tbody><tr><td>dbfs:/FileStore/tables/Emp_Hash-1.csv</td><td>Emp_Hash-1.csv</td><td>3312</td><td>1733110041000</td></tr><tr><td>dbfs:/FileStore/tables/Emp_Hash-2.csv</td><td>Emp_Hash-2.csv</td><td>6365</td><td>1733125960000</td></tr><tr><td>dbfs:/FileStore/tables/Emp_Hash-3.csv</td><td>Emp_Hash-3.csv</td><td>6385</td><td>1733126482000</td></tr><tr><td>dbfs:/FileStore/tables/Emp_Hash.csv</td><td>Emp_Hash.csv</td><td>3310</td><td>1733108841000</td></tr><tr><td>dbfs:/FileStore/tables/Flatten Nested Array.json</td><td>Flatten Nested Array.json</td><td>3756</td><td>1718618620000</td></tr><tr><td>dbfs:/FileStore/tables/Generate_Random_Data/</td><td>Generate_Random_Data/</td><td>0</td><td>0</td></tr><tr><td>dbfs:/FileStore/tables/InterviewQuestions/</td><td>InterviewQuestions/</td><td>0</td><td>0</td></tr><tr><td>dbfs:/FileStore/tables/MarketPrice.csv</td><td>MarketPrice.csv</td><td>19528</td><td>1719656208000</td></tr><tr><td>dbfs:/FileStore/tables/MultiLineJSON.json/</td><td>MultiLineJSON.json/</td><td>0</td><td>0</td></tr><tr><td>dbfs:/FileStore/tables/MultiLineJSON01.json/</td><td>MultiLineJSON01.json/</td><td>0</td><td>0</td></tr><tr><td>dbfs:/FileStore/tables/MultiLineJSON1.json/</td><td>MultiLineJSON1.json/</td><td>0</td><td>0</td></tr><tr><td>dbfs:/FileStore/tables/MultiLineJSON123.json/</td><td>MultiLineJSON123.json/</td><td>0</td><td>0</td></tr><tr><td>dbfs:/FileStore/tables/MultiLineJSON2.json/</td><td>MultiLineJSON2.json/</td><td>0</td><td>0</td></tr><tr><td>dbfs:/FileStore/tables/Question7.csv</td><td>Question7.csv</td><td>154</td><td>1725816645000</td></tr><tr><td>dbfs:/FileStore/tables/RunningData_Rev03.csv</td><td>RunningData_Rev03.csv</td><td>1216</td><td>1719810946000</td></tr><tr><td>dbfs:/FileStore/tables/SalesData_Rev02.csv</td><td>SalesData_Rev02.csv</td><td>472</td><td>1719810784000</td></tr><tr><td>dbfs:/FileStore/tables/SalesData_Rev03.csv</td><td>SalesData_Rev03.csv</td><td>460</td><td>1719810973000</td></tr><tr><td>dbfs:/FileStore/tables/Sales_Collect.csv</td><td>Sales_Collect.csv</td><td>182972</td><td>1720293547000</td></tr><tr><td>dbfs:/FileStore/tables/Sales_Collect_Rev03.csv</td><td>Sales_Collect_Rev03.csv</td><td>182828</td><td>1719811001000</td></tr><tr><td>dbfs:/FileStore/tables/Streaming/</td><td>Streaming/</td><td>0</td><td>0</td></tr><tr><td>dbfs:/FileStore/tables/StringToMaptype-1.csv</td><td>StringToMaptype-1.csv</td><td>5462</td><td>1731172334000</td></tr><tr><td>dbfs:/FileStore/tables/StringToMaptype.csv</td><td>StringToMaptype.csv</td><td>4974</td><td>1730969018000</td></tr><tr><td>dbfs:/FileStore/tables/StructType-4.csv</td><td>StructType-4.csv</td><td>648</td><td>1717936144000</td></tr><tr><td>dbfs:/FileStore/tables/StructType-5.csv</td><td>StructType-5.csv</td><td>648</td><td>1717936276000</td></tr><tr><td>dbfs:/FileStore/tables/StructType.csv</td><td>StructType.csv</td><td>648</td><td>1717934306000</td></tr><tr><td>dbfs:/FileStore/tables/avro/</td><td>avro/</td><td>0</td><td>0</td></tr><tr><td>dbfs:/FileStore/tables/avro_schema.json</td><td>avro_schema.json</td><td>220</td><td>1740157599000</td></tr><tr><td>dbfs:/FileStore/tables/booleantype-1.csv</td><td>booleantype-1.csv</td><td>4670</td><td>1726837953000</td></tr><tr><td>dbfs:/FileStore/tables/booleantype-2.csv</td><td>booleantype-2.csv</td><td>5337</td><td>1726841165000</td></tr><tr><td>dbfs:/FileStore/tables/booleantype-3.csv</td><td>booleantype-3.csv</td><td>3167</td><td>1726843335000</td></tr><tr><td>dbfs:/FileStore/tables/booleantype-4.csv</td><td>booleantype-4.csv</td><td>2889</td><td>1726843641000</td></tr><tr><td>dbfs:/FileStore/tables/booleantype-5.csv</td><td>booleantype-5.csv</td><td>3164</td><td>1726851645000</td></tr><tr><td>dbfs:/FileStore/tables/booleantype.csv</td><td>booleantype.csv</td><td>4670</td><td>1726837542000</td></tr><tr><td>dbfs:/FileStore/tables/cast_data.txt</td><td>cast_data.txt</td><td>219</td><td>1720376019000</td></tr><tr><td>dbfs:/FileStore/tables/checkpoint/</td><td>checkpoint/</td><td>0</td><td>0</td></tr><tr><td>dbfs:/FileStore/tables/cross_join-1.csv</td><td>cross_join-1.csv</td><td>5083</td><td>1733065301000</td></tr><tr><td>dbfs:/FileStore/tables/cross_join.csv</td><td>cross_join.csv</td><td>5142</td><td>1733055194000</td></tr><tr><td>dbfs:/FileStore/tables/cross_join_million-1.csv</td><td>cross_join_million-1.csv</td><td>5839</td><td>1734498212000</td></tr><tr><td>dbfs:/FileStore/tables/cross_join_million.csv</td><td>cross_join_million.csv</td><td>5958</td><td>1734493631000</td></tr><tr><td>dbfs:/FileStore/tables/current_date___current_user___current_timestamp__.csv</td><td>current_date___current_user___current_timestamp__.csv</td><td>4040</td><td>1726313822000</td></tr><tr><td>dbfs:/FileStore/tables/date_format-1.csv</td><td>date_format-1.csv</td><td>1656</td><td>1725709118000</td></tr><tr><td>dbfs:/FileStore/tables/date_format-2.csv</td><td>date_format-2.csv</td><td>1923</td><td>1725709313000</td></tr><tr><td>dbfs:/FileStore/tables/date_format.csv</td><td>date_format.csv</td><td>1119</td><td>1725645247000</td></tr><tr><td>dbfs:/FileStore/tables/delta_table/</td><td>delta_table/</td><td>0</td><td>0</td></tr><tr><td>dbfs:/FileStore/tables/doubletotimestamp-1.csv</td><td>doubletotimestamp-1.csv</td><td>4767</td><td>1730947139000</td></tr><tr><td>dbfs:/FileStore/tables/doubletotimestamp-2.csv</td><td>doubletotimestamp-2.csv</td><td>4771</td><td>1730947739000</td></tr><tr><td>dbfs:/FileStore/tables/doubletotimestamp.csv</td><td>doubletotimestamp.csv</td><td>5679</td><td>1730946610000</td></tr><tr><td>dbfs:/FileStore/tables/except-1.csv</td><td>except-1.csv</td><td>16063</td><td>1731983081000</td></tr><tr><td>dbfs:/FileStore/tables/except-2.csv</td><td>except-2.csv</td><td>16060</td><td>1731984506000</td></tr><tr><td>dbfs:/FileStore/tables/except.csv</td><td>except.csv</td><td>27363</td><td>1731982556000</td></tr><tr><td>dbfs:/FileStore/tables/exceptAll_rev01.csv</td><td>exceptAll_rev01.csv</td><td>4771</td><td>1732000140000</td></tr><tr><td>dbfs:/FileStore/tables/exceptAll_rev02.csv</td><td>exceptAll_rev02.csv</td><td>6678</td><td>1732000140000</td></tr><tr><td>dbfs:/FileStore/tables/from_unixtime-1.csv</td><td>from_unixtime-1.csv</td><td>9523</td><td>1725903833000</td></tr><tr><td>dbfs:/FileStore/tables/from_unixtime.csv</td><td>from_unixtime.csv</td><td>9523</td><td>1725901373000</td></tr><tr><td>dbfs:/FileStore/tables/fullload_uat.csv</td><td>fullload_uat.csv</td><td>4771</td><td>1732120652000</td></tr><tr><td>dbfs:/FileStore/tables/hourly_cal.csv</td><td>hourly_cal.csv</td><td>2239</td><td>1739548267000</td></tr><tr><td>dbfs:/FileStore/tables/incrementalload.csv</td><td>incrementalload.csv</td><td>6678</td><td>1732120652000</td></tr><tr><td>dbfs:/FileStore/tables/initload.csv</td><td>initload.csv</td><td>4870</td><td>1732170403000</td></tr><tr><td>dbfs:/FileStore/tables/iterate_columns.csv</td><td>iterate_columns.csv</td><td>2023849</td><td>1719767610000</td></tr><tr><td>dbfs:/FileStore/tables/json_string.json</td><td>json_string.json</td><td>187</td><td>1741095708000</td></tr><tr><td>dbfs:/FileStore/tables/maptypeaccess.csv</td><td>maptypeaccess.csv</td><td>4219</td><td>1731782940000</td></tr><tr><td>dbfs:/FileStore/tables/multiLine_nested_01.json</td><td>multiLine_nested_01.json</td><td>2233</td><td>1732089333000</td></tr><tr><td>dbfs:/FileStore/tables/multiline.json</td><td>multiline.json</td><td>1262</td><td>1725858755000</td></tr><tr><td>dbfs:/FileStore/tables/multiline.txt</td><td>multiline.txt</td><td>178</td><td>1721655243000</td></tr><tr><td>dbfs:/FileStore/tables/multiline_nested-1.json</td><td>multiline_nested-1.json</td><td>2233</td><td>1725884748000</td></tr><tr><td>dbfs:/FileStore/tables/multiline_nested.json</td><td>multiline_nested.json</td><td>1731</td><td>1725870338000</td></tr><tr><td>dbfs:/FileStore/tables/multiline_nested_01.avro</td><td>multiline_nested_01.avro</td><td>910</td><td>1732088760000</td></tr><tr><td>dbfs:/FileStore/tables/multiline_nested_01.orc</td><td>multiline_nested_01.orc</td><td>1449</td><td>1732089020000</td></tr><tr><td>dbfs:/FileStore/tables/multiline_nested_parquet_01.parquet</td><td>multiline_nested_parquet_01.parquet</td><td>2298</td><td>1732088921000</td></tr><tr><td>dbfs:/FileStore/tables/newload.csv</td><td>newload.csv</td><td>7739</td><td>1732170403000</td></tr><tr><td>dbfs:/FileStore/tables/person-2.json</td><td>person-2.json</td><td>4616</td><td>1718610165000</td></tr><tr><td>dbfs:/FileStore/tables/person.json</td><td>person.json</td><td>4616</td><td>1718609425000</td></tr><tr><td>dbfs:/FileStore/tables/posexplode.txt</td><td>posexplode.txt</td><td>264</td><td>1718525465000</td></tr><tr><td>dbfs:/FileStore/tables/random_data-1.csv</td><td>random_data-1.csv</td><td>5354</td><td>1733202817000</td></tr><tr><td>dbfs:/FileStore/tables/random_data-2.csv</td><td>random_data-2.csv</td><td>7532</td><td>1734345266000</td></tr><tr><td>dbfs:/FileStore/tables/random_data-3.csv</td><td>random_data-3.csv</td><td>7524</td><td>1734347659000</td></tr><tr><td>dbfs:/FileStore/tables/random_data.csv</td><td>random_data.csv</td><td>5354</td><td>1733202754000</td></tr><tr><td>dbfs:/FileStore/tables/sales_json-1.txt</td><td>sales_json-1.txt</td><td>1319</td><td>1729954422000</td></tr><tr><td>dbfs:/FileStore/tables/sales_json-2.txt</td><td>sales_json-2.txt</td><td>766</td><td>1729957114000</td></tr><tr><td>dbfs:/FileStore/tables/sales_json-3.txt</td><td>sales_json-3.txt</td><td>766</td><td>1729957563000</td></tr><tr><td>dbfs:/FileStore/tables/sales_json.csv</td><td>sales_json.csv</td><td>193</td><td>1729954240000</td></tr><tr><td>dbfs:/FileStore/tables/sales_json.txt</td><td>sales_json.txt</td><td>944</td><td>1729953800000</td></tr><tr><td>dbfs:/FileStore/tables/singleline-1.json</td><td>singleline-1.json</td><td>1000</td><td>1725857789000</td></tr><tr><td>dbfs:/FileStore/tables/singleline-2.json</td><td>singleline-2.json</td><td>999</td><td>1725858047000</td></tr><tr><td>dbfs:/FileStore/tables/singleline-3.json</td><td>singleline-3.json</td><td>1003</td><td>1725858173000</td></tr><tr><td>dbfs:/FileStore/tables/singleline-4.json</td><td>singleline-4.json</td><td>1004</td><td>1725858244000</td></tr><tr><td>dbfs:/FileStore/tables/singleline-5.json</td><td>singleline-5.json</td><td>1006</td><td>1725858294000</td></tr><tr><td>dbfs:/FileStore/tables/singleline-6.json</td><td>singleline-6.json</td><td>1006</td><td>1725858459000</td></tr><tr><td>dbfs:/FileStore/tables/singleline.json</td><td>singleline.json</td><td>1006</td><td>1725856537000</td></tr><tr><td>dbfs:/FileStore/tables/singlelineList.json</td><td>singlelineList.json</td><td>1032</td><td>1725892526000</td></tr><tr><td>dbfs:/FileStore/tables/singleline_nested-1.json</td><td>singleline_nested-1.json</td><td>1388</td><td>1725883300000</td></tr><tr><td>dbfs:/FileStore/tables/singleline_nested.json</td><td>singleline_nested.json</td><td>1096</td><td>1725870020000</td></tr><tr><td>dbfs:/FileStore/tables/source_to_bronze/</td><td>source_to_bronze/</td><td>0</td><td>0</td></tr><tr><td>dbfs:/FileStore/tables/split.txt</td><td>split.txt</td><td>390</td><td>1721625608000</td></tr><tr><td>dbfs:/FileStore/tables/streaming.csv</td><td>streaming.csv</td><td>140</td><td>1728400280000</td></tr><tr><td>dbfs:/FileStore/tables/syntax.jpg</td><td>syntax.jpg</td><td>32647</td><td>1725976365000</td></tr><tr><td>dbfs:/FileStore/tables/temp_data/</td><td>temp_data/</td><td>0</td><td>0</td></tr><tr><td>dbfs:/FileStore/tables/temp_data_sales/</td><td>temp_data_sales/</td><td>0</td><td>0</td></tr><tr><td>dbfs:/FileStore/tables/timestamp_millis-1.csv</td><td>timestamp_millis-1.csv</td><td>7513</td><td>1725903371000</td></tr><tr><td>dbfs:/FileStore/tables/timestamp_millis-2.csv</td><td>timestamp_millis-2.csv</td><td>7513</td><td>1725903430000</td></tr><tr><td>dbfs:/FileStore/tables/timestamp_millis-3.csv</td><td>timestamp_millis-3.csv</td><td>8613</td><td>1725903701000</td></tr><tr><td>dbfs:/FileStore/tables/timestamp_millis.csv</td><td>timestamp_millis.csv</td><td>7533</td><td>1725903084000</td></tr><tr><td>dbfs:/FileStore/tables/titanic.csv</td><td>titanic.csv</td><td>60302</td><td>1717853233000</td></tr><tr><td>dbfs:/FileStore/tables/to_date.csv</td><td>to_date.csv</td><td>1923</td><td>1726112031000</td></tr><tr><td>dbfs:/FileStore/tables/to_json.csv</td><td>to_json.csv</td><td>50792</td><td>1726583981000</td></tr><tr><td>dbfs:/FileStore/tables/to_timestamp-1.csv</td><td>to_timestamp-1.csv</td><td>5536</td><td>1726303458000</td></tr><tr><td>dbfs:/FileStore/tables/to_timestamp-2.csv</td><td>to_timestamp-2.csv</td><td>5425</td><td>1726303695000</td></tr><tr><td>dbfs:/FileStore/tables/to_timestamp-3.csv</td><td>to_timestamp-3.csv</td><td>5545</td><td>1726304079000</td></tr><tr><td>dbfs:/FileStore/tables/to_timestamp.csv</td><td>to_timestamp.csv</td><td>6451</td><td>1726300120000</td></tr><tr><td>dbfs:/FileStore/tables/user-1.avsc</td><td>user-1.avsc</td><td>190</td><td>1739941679000</td></tr><tr><td>dbfs:/FileStore/tables/user.avsc</td><td>user.avsc</td><td>190</td><td>1739940584000</td></tr></tbody></table></div>"
      ]
     },
     "metadata": {
      "application/vnd.databricks.v1+output": {
       "addedWidgets": {},
       "aggData": [],
       "aggError": "",
       "aggOverflow": false,
       "aggSchema": [],
       "aggSeriesLimitReached": false,
       "aggType": "",
       "arguments": {},
       "columnCustomDisplayInfos": {},
       "data": [
        [
         "dbfs:/FileStore/tables/Emp_Hash-1.csv",
         "Emp_Hash-1.csv",
         3312,
         1733110041000
        ],
        [
         "dbfs:/FileStore/tables/Emp_Hash-2.csv",
         "Emp_Hash-2.csv",
         6365,
         1733125960000
        ],
        [
         "dbfs:/FileStore/tables/Emp_Hash-3.csv",
         "Emp_Hash-3.csv",
         6385,
         1733126482000
        ],
        [
         "dbfs:/FileStore/tables/Emp_Hash.csv",
         "Emp_Hash.csv",
         3310,
         1733108841000
        ],
        [
         "dbfs:/FileStore/tables/Flatten Nested Array.json",
         "Flatten Nested Array.json",
         3756,
         1718618620000
        ],
        [
         "dbfs:/FileStore/tables/Generate_Random_Data/",
         "Generate_Random_Data/",
         0,
         0
        ],
        [
         "dbfs:/FileStore/tables/InterviewQuestions/",
         "InterviewQuestions/",
         0,
         0
        ],
        [
         "dbfs:/FileStore/tables/MarketPrice.csv",
         "MarketPrice.csv",
         19528,
         1719656208000
        ],
        [
         "dbfs:/FileStore/tables/MultiLineJSON.json/",
         "MultiLineJSON.json/",
         0,
         0
        ],
        [
         "dbfs:/FileStore/tables/MultiLineJSON01.json/",
         "MultiLineJSON01.json/",
         0,
         0
        ],
        [
         "dbfs:/FileStore/tables/MultiLineJSON1.json/",
         "MultiLineJSON1.json/",
         0,
         0
        ],
        [
         "dbfs:/FileStore/tables/MultiLineJSON123.json/",
         "MultiLineJSON123.json/",
         0,
         0
        ],
        [
         "dbfs:/FileStore/tables/MultiLineJSON2.json/",
         "MultiLineJSON2.json/",
         0,
         0
        ],
        [
         "dbfs:/FileStore/tables/Question7.csv",
         "Question7.csv",
         154,
         1725816645000
        ],
        [
         "dbfs:/FileStore/tables/RunningData_Rev03.csv",
         "RunningData_Rev03.csv",
         1216,
         1719810946000
        ],
        [
         "dbfs:/FileStore/tables/SalesData_Rev02.csv",
         "SalesData_Rev02.csv",
         472,
         1719810784000
        ],
        [
         "dbfs:/FileStore/tables/SalesData_Rev03.csv",
         "SalesData_Rev03.csv",
         460,
         1719810973000
        ],
        [
         "dbfs:/FileStore/tables/Sales_Collect.csv",
         "Sales_Collect.csv",
         182972,
         1720293547000
        ],
        [
         "dbfs:/FileStore/tables/Sales_Collect_Rev03.csv",
         "Sales_Collect_Rev03.csv",
         182828,
         1719811001000
        ],
        [
         "dbfs:/FileStore/tables/Streaming/",
         "Streaming/",
         0,
         0
        ],
        [
         "dbfs:/FileStore/tables/StringToMaptype-1.csv",
         "StringToMaptype-1.csv",
         5462,
         1731172334000
        ],
        [
         "dbfs:/FileStore/tables/StringToMaptype.csv",
         "StringToMaptype.csv",
         4974,
         1730969018000
        ],
        [
         "dbfs:/FileStore/tables/StructType-4.csv",
         "StructType-4.csv",
         648,
         1717936144000
        ],
        [
         "dbfs:/FileStore/tables/StructType-5.csv",
         "StructType-5.csv",
         648,
         1717936276000
        ],
        [
         "dbfs:/FileStore/tables/StructType.csv",
         "StructType.csv",
         648,
         1717934306000
        ],
        [
         "dbfs:/FileStore/tables/avro/",
         "avro/",
         0,
         0
        ],
        [
         "dbfs:/FileStore/tables/avro_schema.json",
         "avro_schema.json",
         220,
         1740157599000
        ],
        [
         "dbfs:/FileStore/tables/booleantype-1.csv",
         "booleantype-1.csv",
         4670,
         1726837953000
        ],
        [
         "dbfs:/FileStore/tables/booleantype-2.csv",
         "booleantype-2.csv",
         5337,
         1726841165000
        ],
        [
         "dbfs:/FileStore/tables/booleantype-3.csv",
         "booleantype-3.csv",
         3167,
         1726843335000
        ],
        [
         "dbfs:/FileStore/tables/booleantype-4.csv",
         "booleantype-4.csv",
         2889,
         1726843641000
        ],
        [
         "dbfs:/FileStore/tables/booleantype-5.csv",
         "booleantype-5.csv",
         3164,
         1726851645000
        ],
        [
         "dbfs:/FileStore/tables/booleantype.csv",
         "booleantype.csv",
         4670,
         1726837542000
        ],
        [
         "dbfs:/FileStore/tables/cast_data.txt",
         "cast_data.txt",
         219,
         1720376019000
        ],
        [
         "dbfs:/FileStore/tables/checkpoint/",
         "checkpoint/",
         0,
         0
        ],
        [
         "dbfs:/FileStore/tables/cross_join-1.csv",
         "cross_join-1.csv",
         5083,
         1733065301000
        ],
        [
         "dbfs:/FileStore/tables/cross_join.csv",
         "cross_join.csv",
         5142,
         1733055194000
        ],
        [
         "dbfs:/FileStore/tables/cross_join_million-1.csv",
         "cross_join_million-1.csv",
         5839,
         1734498212000
        ],
        [
         "dbfs:/FileStore/tables/cross_join_million.csv",
         "cross_join_million.csv",
         5958,
         1734493631000
        ],
        [
         "dbfs:/FileStore/tables/current_date___current_user___current_timestamp__.csv",
         "current_date___current_user___current_timestamp__.csv",
         4040,
         1726313822000
        ],
        [
         "dbfs:/FileStore/tables/date_format-1.csv",
         "date_format-1.csv",
         1656,
         1725709118000
        ],
        [
         "dbfs:/FileStore/tables/date_format-2.csv",
         "date_format-2.csv",
         1923,
         1725709313000
        ],
        [
         "dbfs:/FileStore/tables/date_format.csv",
         "date_format.csv",
         1119,
         1725645247000
        ],
        [
         "dbfs:/FileStore/tables/delta_table/",
         "delta_table/",
         0,
         0
        ],
        [
         "dbfs:/FileStore/tables/doubletotimestamp-1.csv",
         "doubletotimestamp-1.csv",
         4767,
         1730947139000
        ],
        [
         "dbfs:/FileStore/tables/doubletotimestamp-2.csv",
         "doubletotimestamp-2.csv",
         4771,
         1730947739000
        ],
        [
         "dbfs:/FileStore/tables/doubletotimestamp.csv",
         "doubletotimestamp.csv",
         5679,
         1730946610000
        ],
        [
         "dbfs:/FileStore/tables/except-1.csv",
         "except-1.csv",
         16063,
         1731983081000
        ],
        [
         "dbfs:/FileStore/tables/except-2.csv",
         "except-2.csv",
         16060,
         1731984506000
        ],
        [
         "dbfs:/FileStore/tables/except.csv",
         "except.csv",
         27363,
         1731982556000
        ],
        [
         "dbfs:/FileStore/tables/exceptAll_rev01.csv",
         "exceptAll_rev01.csv",
         4771,
         1732000140000
        ],
        [
         "dbfs:/FileStore/tables/exceptAll_rev02.csv",
         "exceptAll_rev02.csv",
         6678,
         1732000140000
        ],
        [
         "dbfs:/FileStore/tables/from_unixtime-1.csv",
         "from_unixtime-1.csv",
         9523,
         1725903833000
        ],
        [
         "dbfs:/FileStore/tables/from_unixtime.csv",
         "from_unixtime.csv",
         9523,
         1725901373000
        ],
        [
         "dbfs:/FileStore/tables/fullload_uat.csv",
         "fullload_uat.csv",
         4771,
         1732120652000
        ],
        [
         "dbfs:/FileStore/tables/hourly_cal.csv",
         "hourly_cal.csv",
         2239,
         1739548267000
        ],
        [
         "dbfs:/FileStore/tables/incrementalload.csv",
         "incrementalload.csv",
         6678,
         1732120652000
        ],
        [
         "dbfs:/FileStore/tables/initload.csv",
         "initload.csv",
         4870,
         1732170403000
        ],
        [
         "dbfs:/FileStore/tables/iterate_columns.csv",
         "iterate_columns.csv",
         2023849,
         1719767610000
        ],
        [
         "dbfs:/FileStore/tables/json_string.json",
         "json_string.json",
         187,
         1741095708000
        ],
        [
         "dbfs:/FileStore/tables/maptypeaccess.csv",
         "maptypeaccess.csv",
         4219,
         1731782940000
        ],
        [
         "dbfs:/FileStore/tables/multiLine_nested_01.json",
         "multiLine_nested_01.json",
         2233,
         1732089333000
        ],
        [
         "dbfs:/FileStore/tables/multiline.json",
         "multiline.json",
         1262,
         1725858755000
        ],
        [
         "dbfs:/FileStore/tables/multiline.txt",
         "multiline.txt",
         178,
         1721655243000
        ],
        [
         "dbfs:/FileStore/tables/multiline_nested-1.json",
         "multiline_nested-1.json",
         2233,
         1725884748000
        ],
        [
         "dbfs:/FileStore/tables/multiline_nested.json",
         "multiline_nested.json",
         1731,
         1725870338000
        ],
        [
         "dbfs:/FileStore/tables/multiline_nested_01.avro",
         "multiline_nested_01.avro",
         910,
         1732088760000
        ],
        [
         "dbfs:/FileStore/tables/multiline_nested_01.orc",
         "multiline_nested_01.orc",
         1449,
         1732089020000
        ],
        [
         "dbfs:/FileStore/tables/multiline_nested_parquet_01.parquet",
         "multiline_nested_parquet_01.parquet",
         2298,
         1732088921000
        ],
        [
         "dbfs:/FileStore/tables/newload.csv",
         "newload.csv",
         7739,
         1732170403000
        ],
        [
         "dbfs:/FileStore/tables/person-2.json",
         "person-2.json",
         4616,
         1718610165000
        ],
        [
         "dbfs:/FileStore/tables/person.json",
         "person.json",
         4616,
         1718609425000
        ],
        [
         "dbfs:/FileStore/tables/posexplode.txt",
         "posexplode.txt",
         264,
         1718525465000
        ],
        [
         "dbfs:/FileStore/tables/random_data-1.csv",
         "random_data-1.csv",
         5354,
         1733202817000
        ],
        [
         "dbfs:/FileStore/tables/random_data-2.csv",
         "random_data-2.csv",
         7532,
         1734345266000
        ],
        [
         "dbfs:/FileStore/tables/random_data-3.csv",
         "random_data-3.csv",
         7524,
         1734347659000
        ],
        [
         "dbfs:/FileStore/tables/random_data.csv",
         "random_data.csv",
         5354,
         1733202754000
        ],
        [
         "dbfs:/FileStore/tables/sales_json-1.txt",
         "sales_json-1.txt",
         1319,
         1729954422000
        ],
        [
         "dbfs:/FileStore/tables/sales_json-2.txt",
         "sales_json-2.txt",
         766,
         1729957114000
        ],
        [
         "dbfs:/FileStore/tables/sales_json-3.txt",
         "sales_json-3.txt",
         766,
         1729957563000
        ],
        [
         "dbfs:/FileStore/tables/sales_json.csv",
         "sales_json.csv",
         193,
         1729954240000
        ],
        [
         "dbfs:/FileStore/tables/sales_json.txt",
         "sales_json.txt",
         944,
         1729953800000
        ],
        [
         "dbfs:/FileStore/tables/singleline-1.json",
         "singleline-1.json",
         1000,
         1725857789000
        ],
        [
         "dbfs:/FileStore/tables/singleline-2.json",
         "singleline-2.json",
         999,
         1725858047000
        ],
        [
         "dbfs:/FileStore/tables/singleline-3.json",
         "singleline-3.json",
         1003,
         1725858173000
        ],
        [
         "dbfs:/FileStore/tables/singleline-4.json",
         "singleline-4.json",
         1004,
         1725858244000
        ],
        [
         "dbfs:/FileStore/tables/singleline-5.json",
         "singleline-5.json",
         1006,
         1725858294000
        ],
        [
         "dbfs:/FileStore/tables/singleline-6.json",
         "singleline-6.json",
         1006,
         1725858459000
        ],
        [
         "dbfs:/FileStore/tables/singleline.json",
         "singleline.json",
         1006,
         1725856537000
        ],
        [
         "dbfs:/FileStore/tables/singlelineList.json",
         "singlelineList.json",
         1032,
         1725892526000
        ],
        [
         "dbfs:/FileStore/tables/singleline_nested-1.json",
         "singleline_nested-1.json",
         1388,
         1725883300000
        ],
        [
         "dbfs:/FileStore/tables/singleline_nested.json",
         "singleline_nested.json",
         1096,
         1725870020000
        ],
        [
         "dbfs:/FileStore/tables/source_to_bronze/",
         "source_to_bronze/",
         0,
         0
        ],
        [
         "dbfs:/FileStore/tables/split.txt",
         "split.txt",
         390,
         1721625608000
        ],
        [
         "dbfs:/FileStore/tables/streaming.csv",
         "streaming.csv",
         140,
         1728400280000
        ],
        [
         "dbfs:/FileStore/tables/syntax.jpg",
         "syntax.jpg",
         32647,
         1725976365000
        ],
        [
         "dbfs:/FileStore/tables/temp_data/",
         "temp_data/",
         0,
         0
        ],
        [
         "dbfs:/FileStore/tables/temp_data_sales/",
         "temp_data_sales/",
         0,
         0
        ],
        [
         "dbfs:/FileStore/tables/timestamp_millis-1.csv",
         "timestamp_millis-1.csv",
         7513,
         1725903371000
        ],
        [
         "dbfs:/FileStore/tables/timestamp_millis-2.csv",
         "timestamp_millis-2.csv",
         7513,
         1725903430000
        ],
        [
         "dbfs:/FileStore/tables/timestamp_millis-3.csv",
         "timestamp_millis-3.csv",
         8613,
         1725903701000
        ],
        [
         "dbfs:/FileStore/tables/timestamp_millis.csv",
         "timestamp_millis.csv",
         7533,
         1725903084000
        ],
        [
         "dbfs:/FileStore/tables/titanic.csv",
         "titanic.csv",
         60302,
         1717853233000
        ],
        [
         "dbfs:/FileStore/tables/to_date.csv",
         "to_date.csv",
         1923,
         1726112031000
        ],
        [
         "dbfs:/FileStore/tables/to_json.csv",
         "to_json.csv",
         50792,
         1726583981000
        ],
        [
         "dbfs:/FileStore/tables/to_timestamp-1.csv",
         "to_timestamp-1.csv",
         5536,
         1726303458000
        ],
        [
         "dbfs:/FileStore/tables/to_timestamp-2.csv",
         "to_timestamp-2.csv",
         5425,
         1726303695000
        ],
        [
         "dbfs:/FileStore/tables/to_timestamp-3.csv",
         "to_timestamp-3.csv",
         5545,
         1726304079000
        ],
        [
         "dbfs:/FileStore/tables/to_timestamp.csv",
         "to_timestamp.csv",
         6451,
         1726300120000
        ],
        [
         "dbfs:/FileStore/tables/user-1.avsc",
         "user-1.avsc",
         190,
         1739941679000
        ],
        [
         "dbfs:/FileStore/tables/user.avsc",
         "user.avsc",
         190,
         1739940584000
        ]
       ],
       "datasetInfos": [],
       "dbfsResultPath": null,
       "isJsonSchema": true,
       "metadata": {
        "isDbfsCommandResult": false
       },
       "overflow": false,
       "plotOptions": {
        "customPlotOptions": {},
        "displayType": "table",
        "pivotAggregation": null,
        "pivotColumns": null,
        "xColumns": null,
        "yColumns": null
       },
       "removedWidgets": [],
       "schema": [
        {
         "metadata": "{}",
         "name": "path",
         "type": "\"string\""
        },
        {
         "metadata": "{}",
         "name": "name",
         "type": "\"string\""
        },
        {
         "metadata": "{}",
         "name": "size",
         "type": "\"long\""
        },
        {
         "metadata": "{}",
         "name": "modificationTime",
         "type": "\"long\""
        }
       ],
       "type": "table"
      }
     },
     "output_type": "display_data"
    }
   ],
   "source": [
    "%fs ls dbfs:/FileStore/tables/"
   ]
  },
  {
   "cell_type": "code",
   "execution_count": 0,
   "metadata": {
    "application/vnd.databricks.v1+cell": {
     "cellMetadata": {
      "byteLimit": 2048000,
      "rowLimit": 10000
     },
     "inputWidgets": {},
     "nuid": "67076e0b-c6eb-4676-8ef5-cbf03794d772",
     "showTitle": false,
     "tableResultSettingsMap": {},
     "title": ""
    }
   },
   "outputs": [
    {
     "output_type": "display_data",
     "data": {
      "text/html": [
       "<style scoped>\n",
       "  .table-result-container {\n",
       "    max-height: 300px;\n",
       "    overflow: auto;\n",
       "  }\n",
       "  table, th, td {\n",
       "    border: 1px solid black;\n",
       "    border-collapse: collapse;\n",
       "  }\n",
       "  th, td {\n",
       "    padding: 5px;\n",
       "  }\n",
       "  th {\n",
       "    text-align: left;\n",
       "  }\n",
       "</style><div class='table-result-container'><table class='table-result'><thead style='background-color: white'><tr><th>path</th><th>name</th><th>size</th><th>modificationTime</th></tr></thead><tbody><tr><td>dbfs:/FileStore/tables/source_to_bronze/multiLine_nested_02.json</td><td>multiLine_nested_02.json</td><td>3214</td><td>1741273916000</td></tr></tbody></table></div>"
      ]
     },
     "metadata": {
      "application/vnd.databricks.v1+output": {
       "addedWidgets": {},
       "aggData": [],
       "aggError": "",
       "aggOverflow": false,
       "aggSchema": [],
       "aggSeriesLimitReached": false,
       "aggType": "",
       "arguments": {},
       "columnCustomDisplayInfos": {},
       "data": [
        [
         "dbfs:/FileStore/tables/source_to_bronze/multiLine_nested_02.json",
         "multiLine_nested_02.json",
         3214,
         1741273916000
        ]
       ],
       "datasetInfos": [],
       "dbfsResultPath": null,
       "isJsonSchema": true,
       "metadata": {
        "isDbfsCommandResult": false
       },
       "overflow": false,
       "plotOptions": {
        "customPlotOptions": {},
        "displayType": "table",
        "pivotAggregation": null,
        "pivotColumns": null,
        "xColumns": null,
        "yColumns": null
       },
       "removedWidgets": [],
       "schema": [
        {
         "metadata": "{}",
         "name": "path",
         "type": "\"string\""
        },
        {
         "metadata": "{}",
         "name": "name",
         "type": "\"string\""
        },
        {
         "metadata": "{}",
         "name": "size",
         "type": "\"long\""
        },
        {
         "metadata": "{}",
         "name": "modificationTime",
         "type": "\"long\""
        }
       ],
       "type": "table"
      }
     },
     "output_type": "display_data"
    }
   ],
   "source": [
    "%fs ls /FileStore/tables/source_to_bronze/"
   ]
  },
  {
   "cell_type": "code",
   "execution_count": 0,
   "metadata": {
    "application/vnd.databricks.v1+cell": {
     "cellMetadata": {
      "byteLimit": 2048000,
      "rowLimit": 10000
     },
     "inputWidgets": {},
     "nuid": "0f2163df-3453-45ad-bb7f-f24649d7a0d2",
     "showTitle": false,
     "tableResultSettingsMap": {},
     "title": ""
    }
   },
   "outputs": [],
   "source": [
    "bronze_layer_path = '/FileStore/tables/source_to_bronze/multiLine_nested_02.json'"
   ]
  },
  {
   "cell_type": "code",
   "execution_count": 0,
   "metadata": {
    "application/vnd.databricks.v1+cell": {
     "cellMetadata": {
      "byteLimit": 2048000,
      "rowLimit": 10000
     },
     "inputWidgets": {},
     "nuid": "e88cc924-4e69-4dfe-ac45-47f3688ca644",
     "showTitle": true,
     "tableResultSettingsMap": {},
     "title": "Check if the file exists in the bronze layer"
    }
   },
   "outputs": [],
   "source": [
    "try:\n",
    "  file_exists = dbutils.fs.ls(bronze_layer_path)\n",
    "  if file_exists:\n",
    "    file_found = True\n",
    "except:\n",
    "  file_found = False"
   ]
  },
  {
   "cell_type": "markdown",
   "metadata": {
    "application/vnd.databricks.v1+cell": {
     "cellMetadata": {},
     "inputWidgets": {},
     "nuid": "150a70be-432a-48db-81af-675f8101ef40",
     "showTitle": false,
     "tableResultSettingsMap": {},
     "title": ""
    }
   },
   "source": [
    "### **Read JSON File**\n",
    "#### **Method 01**"
   ]
  },
  {
   "cell_type": "code",
   "execution_count": 0,
   "metadata": {
    "application/vnd.databricks.v1+cell": {
     "cellMetadata": {
      "byteLimit": 2048000,
      "rowLimit": 10000
     },
     "inputWidgets": {},
     "nuid": "28a5a93d-aacc-4b4b-ad52-16b613524552",
     "showTitle": false,
     "tableResultSettingsMap": {},
     "title": ""
    }
   },
   "outputs": [],
   "source": [
    "from pyspark.sql.types import StructField, StructType, IntegerType, StringType, LongType\n",
    "\n",
    "# Define custom schema for the nested structure\n",
    "AddSchema = StructType([StructField('country',StringType(),False),\n",
    "                        StructField('user',StringType(),False),\n",
    "                        StructField('Location',StringType(),False),\n",
    "                        StructField('Zipcode',StringType(),False),]\n",
    "                      )\n",
    "# Define the main schema including the nested structure\n",
    "schema_json = StructType([StructField('source',StringType(),False),\n",
    "                          StructField('description',StringType(),False),\n",
    "                          StructField('input_timestamp',LongType(),False),\n",
    "                          StructField('last_update_timestamp',LongType(),False),\n",
    "                          StructField('Address',AddSchema)]\n",
    "                        )"
   ]
  },
  {
   "cell_type": "code",
   "execution_count": 0,
   "metadata": {
    "application/vnd.databricks.v1+cell": {
     "cellMetadata": {
      "byteLimit": 2048000,
      "rowLimit": 10000
     },
     "inputWidgets": {},
     "nuid": "c38bec4d-915c-4e57-9640-e77c429cdfde",
     "showTitle": true,
     "tableResultSettingsMap": {},
     "title": "Read the Json data with Custom Schema"
    }
   },
   "outputs": [
    {
     "output_type": "display_data",
     "data": {
      "text/html": [
       "<style scoped>\n",
       "  .table-result-container {\n",
       "    max-height: 300px;\n",
       "    overflow: auto;\n",
       "  }\n",
       "  table, th, td {\n",
       "    border: 1px solid black;\n",
       "    border-collapse: collapse;\n",
       "  }\n",
       "  th, td {\n",
       "    padding: 5px;\n",
       "  }\n",
       "  th {\n",
       "    text-align: left;\n",
       "  }\n",
       "</style><div class='table-result-container'><table class='table-result'><thead style='background-color: white'><tr><th>source</th><th>description</th><th>input_timestamp</th><th>last_update_timestamp</th><th>Address</th></tr></thead><tbody><tr><td>catalog</td><td>bravia</td><td>1124256609</td><td>1524256609</td><td>List(IND, Hari, Bangalore, 560103)</td></tr><tr><td>SAP</td><td>sony</td><td>1224256609</td><td>1424256609</td><td>List(US, Rajesh, Chennai, 860103)</td></tr><tr><td>ADLS</td><td>bse</td><td>1324256609</td><td>1524256609</td><td>List(CANADA, Lokesh, Hyderabad, 755103)</td></tr><tr><td>Blob</td><td>exchange</td><td>1424256609</td><td>1724256609</td><td>List(US, Sharath, Kochin, 120103)</td></tr><tr><td>SQL</td><td>Stock</td><td>1524256609</td><td>1664256609</td><td>List(SWEDEN, Sheetal, Delhi, 875103)</td></tr><tr><td>datawarehouse</td><td>azure</td><td>1624256609</td><td>1874256609</td><td>List(UK, Raj, Mumbai, 123403)</td></tr><tr><td>oracle</td><td>ADF</td><td>1779256609</td><td>188256609</td><td>List(Norway, Synapse, Nasik, 456103)</td></tr><tr><td>SQL Server</td><td>Stock market</td><td>1524257709</td><td>1664258809</td><td>List(TURKEY, Swetha, Delhi, 875105)</td></tr><tr><td>data</td><td>Azure</td><td>16242569909</td><td>1874259909</td><td>List(London, Rajesh, Mumbai, 156403)</td></tr><tr><td>xml</td><td>data factory</td><td>1999256909</td><td>199258811</td><td>List(Paris, Azure Synapse, Nasik, 9876103)</td></tr></tbody></table></div>"
      ]
     },
     "metadata": {
      "application/vnd.databricks.v1+output": {
       "addedWidgets": {},
       "aggData": [],
       "aggError": "",
       "aggOverflow": false,
       "aggSchema": [],
       "aggSeriesLimitReached": false,
       "aggType": "",
       "arguments": {},
       "columnCustomDisplayInfos": {},
       "data": [
        [
         "catalog",
         "bravia",
         1124256609,
         1524256609,
         [
          "IND",
          "Hari",
          "Bangalore",
          "560103"
         ]
        ],
        [
         "SAP",
         "sony",
         1224256609,
         1424256609,
         [
          "US",
          "Rajesh",
          "Chennai",
          "860103"
         ]
        ],
        [
         "ADLS",
         "bse",
         1324256609,
         1524256609,
         [
          "CANADA",
          "Lokesh",
          "Hyderabad",
          "755103"
         ]
        ],
        [
         "Blob",
         "exchange",
         1424256609,
         1724256609,
         [
          "US",
          "Sharath",
          "Kochin",
          "120103"
         ]
        ],
        [
         "SQL",
         "Stock",
         1524256609,
         1664256609,
         [
          "SWEDEN",
          "Sheetal",
          "Delhi",
          "875103"
         ]
        ],
        [
         "datawarehouse",
         "azure",
         1624256609,
         1874256609,
         [
          "UK",
          "Raj",
          "Mumbai",
          "123403"
         ]
        ],
        [
         "oracle",
         "ADF",
         1779256609,
         188256609,
         [
          "Norway",
          "Synapse",
          "Nasik",
          "456103"
         ]
        ],
        [
         "SQL Server",
         "Stock market",
         1524257709,
         1664258809,
         [
          "TURKEY",
          "Swetha",
          "Delhi",
          "875105"
         ]
        ],
        [
         "data",
         "Azure",
         16242569909,
         1874259909,
         [
          "London",
          "Rajesh",
          "Mumbai",
          "156403"
         ]
        ],
        [
         "xml",
         "data factory",
         1999256909,
         199258811,
         [
          "Paris",
          "Azure Synapse",
          "Nasik",
          "9876103"
         ]
        ]
       ],
       "datasetInfos": [],
       "dbfsResultPath": null,
       "isJsonSchema": true,
       "metadata": {},
       "overflow": false,
       "plotOptions": {
        "customPlotOptions": {},
        "displayType": "table",
        "pivotAggregation": null,
        "pivotColumns": null,
        "xColumns": null,
        "yColumns": null
       },
       "removedWidgets": [],
       "schema": [
        {
         "metadata": "{}",
         "name": "source",
         "type": "\"string\""
        },
        {
         "metadata": "{}",
         "name": "description",
         "type": "\"string\""
        },
        {
         "metadata": "{}",
         "name": "input_timestamp",
         "type": "\"long\""
        },
        {
         "metadata": "{}",
         "name": "last_update_timestamp",
         "type": "\"long\""
        },
        {
         "metadata": "{}",
         "name": "Address",
         "type": "{\"type\":\"struct\",\"fields\":[{\"name\":\"country\",\"type\":\"string\",\"nullable\":true,\"metadata\":{}},{\"name\":\"user\",\"type\":\"string\",\"nullable\":true,\"metadata\":{}},{\"name\":\"Location\",\"type\":\"string\",\"nullable\":true,\"metadata\":{}},{\"name\":\"Zipcode\",\"type\":\"string\",\"nullable\":true,\"metadata\":{}}]}"
        }
       ],
       "type": "table"
      }
     },
     "output_type": "display_data"
    }
   ],
   "source": [
    "if file_found:\n",
    "    df_man = spark.read.json(\"/FileStore/tables/source_to_bronze/multiLine_nested_02.json\", multiLine=True, schema=schema_json)\n",
    "    display(df_man)"
   ]
  },
  {
   "cell_type": "markdown",
   "metadata": {
    "application/vnd.databricks.v1+cell": {
     "cellMetadata": {},
     "inputWidgets": {},
     "nuid": "bba50a2d-734d-4b0f-bce6-b28bf663ca2d",
     "showTitle": false,
     "tableResultSettingsMap": {},
     "title": ""
    }
   },
   "source": [
    "#### **Method 02**"
   ]
  },
  {
   "cell_type": "code",
   "execution_count": 0,
   "metadata": {
    "application/vnd.databricks.v1+cell": {
     "cellMetadata": {
      "byteLimit": 2048000,
      "rowLimit": 10000
     },
     "inputWidgets": {},
     "nuid": "0a17afe4-f57f-4ab6-9b75-a768fa0208f1",
     "showTitle": true,
     "tableResultSettingsMap": {},
     "title": "Read the Json data with Custom Schema"
    }
   },
   "outputs": [
    {
     "output_type": "display_data",
     "data": {
      "text/html": [
       "<style scoped>\n",
       "  .table-result-container {\n",
       "    max-height: 300px;\n",
       "    overflow: auto;\n",
       "  }\n",
       "  table, th, td {\n",
       "    border: 1px solid black;\n",
       "    border-collapse: collapse;\n",
       "  }\n",
       "  th, td {\n",
       "    padding: 5px;\n",
       "  }\n",
       "  th {\n",
       "    text-align: left;\n",
       "  }\n",
       "</style><div class='table-result-container'><table class='table-result'><thead style='background-color: white'><tr><th>source</th><th>description</th><th>input_timestamp</th><th>last_update_timestamp</th><th>Address</th></tr></thead><tbody><tr><td>catalog</td><td>bravia</td><td>1124256609</td><td>1524256609</td><td>List(IND, Hari, Bangalore, 560103)</td></tr><tr><td>SAP</td><td>sony</td><td>1224256609</td><td>1424256609</td><td>List(US, Rajesh, Chennai, 860103)</td></tr><tr><td>ADLS</td><td>bse</td><td>1324256609</td><td>1524256609</td><td>List(CANADA, Lokesh, Hyderabad, 755103)</td></tr><tr><td>Blob</td><td>exchange</td><td>1424256609</td><td>1724256609</td><td>List(US, Sharath, Kochin, 120103)</td></tr><tr><td>SQL</td><td>Stock</td><td>1524256609</td><td>1664256609</td><td>List(SWEDEN, Sheetal, Delhi, 875103)</td></tr><tr><td>datawarehouse</td><td>azure</td><td>1624256609</td><td>1874256609</td><td>List(UK, Raj, Mumbai, 123403)</td></tr><tr><td>oracle</td><td>ADF</td><td>1779256609</td><td>188256609</td><td>List(Norway, Synapse, Nasik, 456103)</td></tr><tr><td>SQL Server</td><td>Stock market</td><td>1524257709</td><td>1664258809</td><td>List(TURKEY, Swetha, Delhi, 875105)</td></tr><tr><td>data</td><td>Azure</td><td>16242569909</td><td>1874259909</td><td>List(London, Rajesh, Mumbai, 156403)</td></tr><tr><td>xml</td><td>data factory</td><td>1999256909</td><td>199258811</td><td>List(Paris, Azure Synapse, Nasik, 9876103)</td></tr></tbody></table></div>"
      ]
     },
     "metadata": {
      "application/vnd.databricks.v1+output": {
       "addedWidgets": {},
       "aggData": [],
       "aggError": "",
       "aggOverflow": false,
       "aggSchema": [],
       "aggSeriesLimitReached": false,
       "aggType": "",
       "arguments": {},
       "columnCustomDisplayInfos": {},
       "data": [
        [
         "catalog",
         "bravia",
         1124256609,
         1524256609,
         [
          "IND",
          "Hari",
          "Bangalore",
          "560103"
         ]
        ],
        [
         "SAP",
         "sony",
         1224256609,
         1424256609,
         [
          "US",
          "Rajesh",
          "Chennai",
          "860103"
         ]
        ],
        [
         "ADLS",
         "bse",
         1324256609,
         1524256609,
         [
          "CANADA",
          "Lokesh",
          "Hyderabad",
          "755103"
         ]
        ],
        [
         "Blob",
         "exchange",
         1424256609,
         1724256609,
         [
          "US",
          "Sharath",
          "Kochin",
          "120103"
         ]
        ],
        [
         "SQL",
         "Stock",
         1524256609,
         1664256609,
         [
          "SWEDEN",
          "Sheetal",
          "Delhi",
          "875103"
         ]
        ],
        [
         "datawarehouse",
         "azure",
         1624256609,
         1874256609,
         [
          "UK",
          "Raj",
          "Mumbai",
          "123403"
         ]
        ],
        [
         "oracle",
         "ADF",
         1779256609,
         188256609,
         [
          "Norway",
          "Synapse",
          "Nasik",
          "456103"
         ]
        ],
        [
         "SQL Server",
         "Stock market",
         1524257709,
         1664258809,
         [
          "TURKEY",
          "Swetha",
          "Delhi",
          "875105"
         ]
        ],
        [
         "data",
         "Azure",
         16242569909,
         1874259909,
         [
          "London",
          "Rajesh",
          "Mumbai",
          "156403"
         ]
        ],
        [
         "xml",
         "data factory",
         1999256909,
         199258811,
         [
          "Paris",
          "Azure Synapse",
          "Nasik",
          "9876103"
         ]
        ]
       ],
       "datasetInfos": [],
       "dbfsResultPath": null,
       "isJsonSchema": true,
       "metadata": {},
       "overflow": false,
       "plotOptions": {
        "customPlotOptions": {},
        "displayType": "table",
        "pivotAggregation": null,
        "pivotColumns": null,
        "xColumns": null,
        "yColumns": null
       },
       "removedWidgets": [],
       "schema": [
        {
         "metadata": "{}",
         "name": "source",
         "type": "\"string\""
        },
        {
         "metadata": "{}",
         "name": "description",
         "type": "\"string\""
        },
        {
         "metadata": "{}",
         "name": "input_timestamp",
         "type": "\"long\""
        },
        {
         "metadata": "{}",
         "name": "last_update_timestamp",
         "type": "\"long\""
        },
        {
         "metadata": "{}",
         "name": "Address",
         "type": "{\"type\":\"struct\",\"fields\":[{\"name\":\"country\",\"type\":\"string\",\"nullable\":true,\"metadata\":{}},{\"name\":\"user\",\"type\":\"string\",\"nullable\":true,\"metadata\":{}},{\"name\":\"Location\",\"type\":\"string\",\"nullable\":true,\"metadata\":{}},{\"name\":\"Zipcode\",\"type\":\"string\",\"nullable\":true,\"metadata\":{}}]}"
        }
       ],
       "type": "table"
      }
     },
     "output_type": "display_data"
    }
   ],
   "source": [
    "if file_found:\n",
    "  df_run = read_from_bronze(bronze_layer_path)\n",
    "  display(df_run)"
   ]
  }
 ],
 "metadata": {
  "application/vnd.databricks.v1+notebook": {
   "computePreferences": null,
   "dashboards": [],
   "environmentMetadata": {
    "base_environment": "",
    "client": "1"
   },
   "language": "python",
   "notebookMetadata": {
    "mostRecentlyExecutedCommandWithImplicitDF": {
     "commandId": 1940961263792211,
     "dataframes": [
      "_sqldf"
     ]
    },
    "pythonIndentUnit": 4
   },
   "notebookName": "%run",
   "widgets": {}
  }
 },
 "nbformat": 4,
 "nbformat_minor": 0
}
