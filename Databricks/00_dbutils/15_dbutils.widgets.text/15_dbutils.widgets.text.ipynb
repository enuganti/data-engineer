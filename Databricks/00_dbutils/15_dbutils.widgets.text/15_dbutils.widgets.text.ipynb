{
 "cells": [
  {
   "cell_type": "markdown",
   "metadata": {
    "application/vnd.databricks.v1+cell": {
     "cellMetadata": {},
     "inputWidgets": {},
     "nuid": "0ebba35d-e035-4d53-b52a-178c0a4e8bd2",
     "showTitle": false,
     "tableResultSettingsMap": {},
     "title": ""
    }
   },
   "source": [
    "- Databricks widgets are interactive input components that can be added to notebooks to **parameterize** them and make them more **reusable**. Widgets enable the passing of **arguments and variables** into notebooks in a simple way, **eliminating** the need to **hardcode values**.\n",
    "\n",
    "- Databricks widgets make notebooks **highly reusable** by letting users **change inputs dynamically** at runtime instead of having **hardcoded values**, which allows the same notebook to be used repeatedly with different configurations."
   ]
  },
  {
   "cell_type": "markdown",
   "metadata": {
    "application/vnd.databricks.v1+cell": {
     "cellMetadata": {},
     "inputWidgets": {},
     "nuid": "ae048b57-59b3-43ae-9ec9-f34d8cc401e6",
     "showTitle": false,
     "tableResultSettingsMap": {},
     "title": ""
    }
   },
   "source": [
    "#### **Syntax**\n",
    "\n",
    "     # PySpark\n",
    "     dbutils.widgets.text(name='your_name_text', defaultValue='Enter your name', label='Your name')\n",
    "\n",
    "     # SQL\n",
    "     CREATE WIDGET TEXT table DEFAULT \"\"\n",
    "     CREATE WIDGET TEXT filter_value DEFAULT \"100\"\n",
    "\n",
    "- You can **access** the **current value of the widget** or get a mapping of **all widgets**.\n",
    "\n",
    "      dbutils.widgets.get(\"state\")\n",
    "      dbutils.widgets.getAll()\n",
    "\n",
    "- you can **remove** a widget or all widgets in a notebook.\n",
    "- If you **remove** a widget, you **cannot create** one in the **same cell**. You must create the widget in **another cell**.\n",
    "\n",
    "      dbutils.widgets.remove(\"state\")\n",
    "      dbutils.widgets.removeAll()\n",
    "\n",
    "      # SQL\n",
    "      REMOVE WIDGET state"
   ]
  },
  {
   "cell_type": "code",
   "execution_count": 0,
   "metadata": {
    "application/vnd.databricks.v1+cell": {
     "cellMetadata": {
      "byteLimit": 2048000,
      "rowLimit": 10000
     },
     "inputWidgets": {},
     "nuid": "1069a3af-9757-4e87-b49a-185c00cb05c4",
     "showTitle": false,
     "tableResultSettingsMap": {},
     "title": ""
    }
   },
   "outputs": [
    {
     "output_type": "display_data",
     "data": {
      "text/html": [
       "<div class = \"ansiout\">/**<br /> * Creates a text input widget with a given name and default value. Optionally, you can provide<br /> * a label for the text widget that will be rendered in place of the name. If widget with a<br /> * given name already exists, its properties will be overwritten.<br /> * <br /> * Example: dbutils.widgets.text(\"product\", \"Camera\", label = \"Product Name\")<br /> * <br /> * @param name unique name identifying the widget<br /> * @param defaultValue value with which widget is populated by default<br /> * @param label optional widget label<br /> */<br /><b>text(name: java.lang.String, defaultValue: java.lang.String, label: java.lang.String): void</b></div><br />"
      ]
     },
     "metadata": {},
     "output_type": "display_data"
    }
   ],
   "source": [
    "dbutils.widgets.help(\"text\")"
   ]
  },
  {
   "cell_type": "code",
   "execution_count": 0,
   "metadata": {
    "application/vnd.databricks.v1+cell": {
     "cellMetadata": {
      "byteLimit": 2048000,
      "rowLimit": 10000
     },
     "inputWidgets": {},
     "nuid": "ce4d09f6-3f20-44eb-a870-77d241cf281c",
     "showTitle": true,
     "tableResultSettingsMap": {},
     "title": "Method 01"
    }
   },
   "outputs": [
    {
     "output_type": "stream",
     "name": "stdout",
     "output_type": "stream",
     "text": [
      "topic\n"
     ]
    }
   ],
   "source": [
    "dbutils.widgets.text(name='Set_Value', defaultValue='topic', label='Set Value')\n",
    "print(dbutils.widgets.get(\"Set_Value\"))"
   ]
  },
  {
   "cell_type": "code",
   "execution_count": 0,
   "metadata": {
    "application/vnd.databricks.v1+cell": {
     "cellMetadata": {
      "byteLimit": 2048000,
      "rowLimit": 10000
     },
     "inputWidgets": {},
     "nuid": "d29e21a3-cc9c-45d3-a02f-53e85f84bfe6",
     "showTitle": false,
     "tableResultSettingsMap": {},
     "title": ""
    }
   },
   "outputs": [
    {
     "output_type": "stream",
     "name": "stdout",
     "output_type": "stream",
     "text": [
      "topic\n"
     ]
    }
   ],
   "source": [
    "dbutils.widgets.text(name='Set_Value', defaultValue='topic', label='Set_Value')\n",
    "print(dbutils.widgets.get(\"Set_Value\"))"
   ]
  },
  {
   "cell_type": "code",
   "execution_count": 0,
   "metadata": {
    "application/vnd.databricks.v1+cell": {
     "cellMetadata": {
      "byteLimit": 2048000,
      "rowLimit": 10000
     },
     "inputWidgets": {},
     "nuid": "3e569398-fa21-4aeb-8b46-6458da6ce98e",
     "showTitle": true,
     "tableResultSettingsMap": {},
     "title": "Method 02"
    }
   },
   "outputs": [
    {
     "output_type": "stream",
     "name": "stdout",
     "output_type": "stream",
     "text": [
      "rev01\n"
     ]
    }
   ],
   "source": [
    "dbutils.widgets.text(name='Rev_Value', defaultValue='', label='Rev Value')\n",
    "print(dbutils.widgets.get(\"Rev_Value\"))"
   ]
  },
  {
   "cell_type": "code",
   "execution_count": 0,
   "metadata": {
    "application/vnd.databricks.v1+cell": {
     "cellMetadata": {
      "byteLimit": 2048000,
      "rowLimit": 10000
     },
     "inputWidgets": {},
     "nuid": "cd70a8af-6908-4e57-b547-fd7cc94c028f",
     "showTitle": true,
     "tableResultSettingsMap": {},
     "title": "Method 03"
    }
   },
   "outputs": [
    {
     "output_type": "stream",
     "name": "stdout",
     "output_type": "stream",
     "text": [
      "set01\n"
     ]
    }
   ],
   "source": [
    "dbutils.widgets.text('Ver_Value', '', 'Ver Value')\n",
    "print(dbutils.widgets.get(\"Ver_Value\"))"
   ]
  },
  {
   "cell_type": "code",
   "execution_count": 0,
   "metadata": {
    "application/vnd.databricks.v1+cell": {
     "cellMetadata": {
      "byteLimit": 2048000,
      "rowLimit": 10000
     },
     "inputWidgets": {},
     "nuid": "916c2b8a-0fed-499a-aa66-3ac6efa2ea0f",
     "showTitle": false,
     "tableResultSettingsMap": {},
     "title": ""
    }
   },
   "outputs": [
    {
     "output_type": "stream",
     "name": "stdout",
     "output_type": "stream",
     "text": [
      "text01\n"
     ]
    }
   ],
   "source": [
    "dbutils.widgets.text('run_Value', '')\n",
    "print(dbutils.widgets.get(\"run_Value\"))"
   ]
  },
  {
   "cell_type": "code",
   "execution_count": 0,
   "metadata": {
    "application/vnd.databricks.v1+cell": {
     "cellMetadata": {
      "byteLimit": 2048000,
      "rowLimit": 10000
     },
     "inputWidgets": {},
     "nuid": "eeae21bc-c6d5-45fb-b9f8-4b11fe574d32",
     "showTitle": true,
     "tableResultSettingsMap": {},
     "title": "Remove Individual widget"
    }
   },
   "outputs": [],
   "source": [
    "dbutils.widgets.remove('Set_Value')"
   ]
  },
  {
   "cell_type": "code",
   "execution_count": 0,
   "metadata": {
    "application/vnd.databricks.v1+cell": {
     "cellMetadata": {
      "byteLimit": 2048000,
      "rowLimit": 10000
     },
     "inputWidgets": {},
     "nuid": "1048b71e-19e1-4241-a9f8-cef770dd95b4",
     "showTitle": true,
     "tableResultSettingsMap": {},
     "title": "Remove All Widgets"
    }
   },
   "outputs": [],
   "source": [
    "dbutils.widgets.removeAll()"
   ]
  },
  {
   "cell_type": "markdown",
   "metadata": {
    "application/vnd.databricks.v1+cell": {
     "cellMetadata": {},
     "inputWidgets": {},
     "nuid": "006e4ed1-dfe2-4a92-8a33-249a902a210d",
     "showTitle": false,
     "tableResultSettingsMap": {},
     "title": ""
    }
   },
   "source": [
    "#### **Ex 01**"
   ]
  },
  {
   "cell_type": "code",
   "execution_count": 0,
   "metadata": {
    "application/vnd.databricks.v1+cell": {
     "cellMetadata": {
      "byteLimit": 2048000,
      "rowLimit": 10000
     },
     "inputWidgets": {},
     "nuid": "85d8475c-a249-4a7c-9aaf-40a5d609fd52",
     "showTitle": false,
     "tableResultSettingsMap": {},
     "title": ""
    }
   },
   "outputs": [],
   "source": [
    "dbutils.widgets.text(\"kafka_topic\", \"\", label=\"kafka topic\")\n",
    "kafka_topic =  dbutils.widgets.get(\"kafka_topic\")  \n",
    "\n",
    "dbutils.widgets.text(\"adls_prefix\", \"\", label=\"adls prefix\")\n",
    "adls_prefix =  dbutils.widgets.get(\"adls_prefix\")"
   ]
  },
  {
   "cell_type": "code",
   "execution_count": 0,
   "metadata": {
    "application/vnd.databricks.v1+cell": {
     "cellMetadata": {
      "byteLimit": 2048000,
      "rowLimit": 10000
     },
     "inputWidgets": {},
     "nuid": "c7863626-7def-455c-affe-f61a4aa64cf6",
     "showTitle": false,
     "tableResultSettingsMap": {},
     "title": ""
    }
   },
   "outputs": [],
   "source": [
    "dbutils.widgets.text(\"kafka_topic\", \"\", label=\"kafka topic\")\n",
    "kafka_topic =  dbutils.widgets.get(\"kafka_topic\")  \n",
    "\n",
    "dbutils.widgets.text(\"adls_prefix\", \"\", label=\"adls prefix\")\n",
    "adls_prefix =  dbutils.widgets.get(\"adls_prefix\")  \n",
    "\n",
    "if (kafka_topic == \"\"):\n",
    "    dbutils.notebook.exit(\"Topic is mandatory\")\n",
    "\n",
    "if (adls_prefix == \"\"):\n",
    "    dbutils.notebook.exit(\"adls_prefix is mandatory\")\n",
    "\n",
    "print(\"Topic - \",kafka_topic)\n",
    "print(\"ADLS Prefix - \",adls_prefix)"
   ]
  },
  {
   "cell_type": "code",
   "execution_count": 0,
   "metadata": {
    "application/vnd.databricks.v1+cell": {
     "cellMetadata": {
      "byteLimit": 2048000,
      "rowLimit": 10000
     },
     "inputWidgets": {},
     "nuid": "1ccbf56b-fe03-4f1f-8276-97f8901356fd",
     "showTitle": false,
     "tableResultSettingsMap": {},
     "title": ""
    }
   },
   "outputs": [],
   "source": [
    "dbutils.widgets.remove('kafka_topic')\n",
    "dbutils.widgets.remove('adls_prefix')\n",
    "# dbutils.widgets.removeAll()"
   ]
  },
  {
   "cell_type": "markdown",
   "metadata": {
    "application/vnd.databricks.v1+cell": {
     "cellMetadata": {},
     "inputWidgets": {},
     "nuid": "c2cdbb12-833e-4c07-80b4-550ea8bd9de7",
     "showTitle": false,
     "tableResultSettingsMap": {},
     "title": ""
    }
   },
   "source": [
    "#### **Real Time Use CASE: 01**"
   ]
  },
  {
   "cell_type": "code",
   "execution_count": 0,
   "metadata": {
    "application/vnd.databricks.v1+cell": {
     "cellMetadata": {
      "byteLimit": 2048000,
      "rowLimit": 10000
     },
     "inputWidgets": {},
     "nuid": "e8fed056-2baa-4ee4-b1d2-9c2a00dd47e7",
     "showTitle": false,
     "tableResultSettingsMap": {},
     "title": ""
    }
   },
   "outputs": [
    {
     "output_type": "display_data",
     "data": {
      "text/html": [
       "<style scoped>\n",
       "  .table-result-container {\n",
       "    max-height: 300px;\n",
       "    overflow: auto;\n",
       "  }\n",
       "  table, th, td {\n",
       "    border: 1px solid black;\n",
       "    border-collapse: collapse;\n",
       "  }\n",
       "  th, td {\n",
       "    padding: 5px;\n",
       "  }\n",
       "  th {\n",
       "    text-align: left;\n",
       "  }\n",
       "</style><div class='table-result-container'><table class='table-result'><thead style='background-color: white'><tr><th>S.No</th><th>Status</th><th>Start_Date</th><th>End_Date</th><th>Expiration_Date</th><th>Last_Date</th><th>Input_Start_Date</th><th>Input_End_Date</th><th>Delivery_Start_Date8</th><th>Delivery_End_Date</th><th>Delivery_Start_Date10</th><th>Pricing_Date</th></tr></thead><tbody><tr><td>1</td><td>Sell</td><td>26-Jan-24</td><td>2024-03-31</td><td>2024-02-26</td><td>26-Jan-24</td><td>2024-03-11</td><td>2024-02-26</td><td>2023-12-21</td><td>1/3/2024</td><td>2024-04-02</td><td>26-Jan-24</td></tr><tr><td>2</td><td>Buy</td><td>21-Dec-23</td><td>2024-01-31</td><td>2023-12-21</td><td>21-Dec-23</td><td>2024-12-11</td><td>2023-12-27</td><td>2024-11-28</td><td>1/1/2024</td><td>2024-01-31</td><td>21-Dec-23</td></tr><tr><td>3</td><td>Buy</td><td>27-Mar-25</td><td>2025-06-30</td><td>2025-03-27</td><td>27-Mar-25</td><td>2025-04-21</td><td>2024-12-27</td><td>2024-02-26</td><td>1/4/2025</td><td>2025-06-30</td><td>27-Mar-25</td></tr><tr><td>4</td><td>Sell</td><td>27-Dec-23</td><td>2024-12-31</td><td>2023-12-27</td><td>27-Dec-23</td><td>2024-07-16</td><td>2023-12-27</td><td>2023-12-27</td><td>1/1/2024</td><td>2023-12-27</td><td>27-Dec-23</td></tr><tr><td>5</td><td>Buy</td><td>29-Apr-24</td><td>2024-04-30</td><td>2024-04-29</td><td>29-Apr-24</td><td>2024-04-22</td><td>2024-03-26</td><td>2023-01-09</td><td>1/4/2024</td><td>2024-04-30</td><td>29-Apr-24</td></tr><tr><td>6</td><td>Buy</td><td>27-Dec-24</td><td>2025-12-31</td><td>2024-12-27</td><td>27-Dec-24</td><td>2025-01-01</td><td>2023-12-21</td><td>2023-02-21</td><td>1/1/2025</td><td>2025-12-31</td><td>27-Dec-24</td></tr><tr><td>7</td><td>Sell</td><td>21-Dec-23</td><td>2023-02-28</td><td>2023-12-27</td><td>21-Dec-23</td><td>2023-02-01</td><td>2024-11-28</td><td>2023-05-29</td><td>1/2/2023</td><td>2023-03-20</td><td>21-Dec-23</td></tr><tr><td>8</td><td>Buy</td><td>26-Mar-24</td><td>2024-06-30</td><td>2024-03-26</td><td>26-Mar-24</td><td>2023-02-01</td><td>2024-02-26</td><td>1985-05-19</td><td>1/2/2023</td><td>2023-03-20</td><td>26-Mar-24</td></tr><tr><td>9</td><td>Buy</td><td>27-Dec-23</td><td>2023-02-28</td><td>2023-12-21</td><td>27-Dec-23</td><td>2024-04-21</td><td>2023-12-27</td><td>2023-04-27</td><td>1/4/2024</td><td>2024-03-26</td><td>27-Dec-23</td></tr><tr><td>10</td><td>Buy</td><td>26-Jan-24</td><td>2024-11-29</td><td>2024-11-28</td><td>26-Jan-24</td><td>2023-02-21</td><td>2023-02-01</td><td>2020-04-17</td><td>1/2/2023</td><td>2023-03-20</td><td>26-Jan-24</td></tr></tbody></table></div>"
      ]
     },
     "metadata": {
      "application/vnd.databricks.v1+output": {
       "addedWidgets": {},
       "aggData": [],
       "aggError": "",
       "aggOverflow": false,
       "aggSchema": [],
       "aggSeriesLimitReached": false,
       "aggType": "",
       "arguments": {},
       "columnCustomDisplayInfos": {},
       "data": [
        [
         1,
         "Sell",
         "26-Jan-24",
         "2024-03-31",
         "2024-02-26",
         "26-Jan-24",
         "2024-03-11",
         "2024-02-26",
         "2023-12-21",
         "1/3/2024",
         "2024-04-02",
         "26-Jan-24"
        ],
        [
         2,
         "Buy",
         "21-Dec-23",
         "2024-01-31",
         "2023-12-21",
         "21-Dec-23",
         "2024-12-11",
         "2023-12-27",
         "2024-11-28",
         "1/1/2024",
         "2024-01-31",
         "21-Dec-23"
        ],
        [
         3,
         "Buy",
         "27-Mar-25",
         "2025-06-30",
         "2025-03-27",
         "27-Mar-25",
         "2025-04-21",
         "2024-12-27",
         "2024-02-26",
         "1/4/2025",
         "2025-06-30",
         "27-Mar-25"
        ],
        [
         4,
         "Sell",
         "27-Dec-23",
         "2024-12-31",
         "2023-12-27",
         "27-Dec-23",
         "2024-07-16",
         "2023-12-27",
         "2023-12-27",
         "1/1/2024",
         "2023-12-27",
         "27-Dec-23"
        ],
        [
         5,
         "Buy",
         "29-Apr-24",
         "2024-04-30",
         "2024-04-29",
         "29-Apr-24",
         "2024-04-22",
         "2024-03-26",
         "2023-01-09",
         "1/4/2024",
         "2024-04-30",
         "29-Apr-24"
        ],
        [
         6,
         "Buy",
         "27-Dec-24",
         "2025-12-31",
         "2024-12-27",
         "27-Dec-24",
         "2025-01-01",
         "2023-12-21",
         "2023-02-21",
         "1/1/2025",
         "2025-12-31",
         "27-Dec-24"
        ],
        [
         7,
         "Sell",
         "21-Dec-23",
         "2023-02-28",
         "2023-12-27",
         "21-Dec-23",
         "2023-02-01",
         "2024-11-28",
         "2023-05-29",
         "1/2/2023",
         "2023-03-20",
         "21-Dec-23"
        ],
        [
         8,
         "Buy",
         "26-Mar-24",
         "2024-06-30",
         "2024-03-26",
         "26-Mar-24",
         "2023-02-01",
         "2024-02-26",
         "1985-05-19",
         "1/2/2023",
         "2023-03-20",
         "26-Mar-24"
        ],
        [
         9,
         "Buy",
         "27-Dec-23",
         "2023-02-28",
         "2023-12-21",
         "27-Dec-23",
         "2024-04-21",
         "2023-12-27",
         "2023-04-27",
         "1/4/2024",
         "2024-03-26",
         "27-Dec-23"
        ],
        [
         10,
         "Buy",
         "26-Jan-24",
         "2024-11-29",
         "2024-11-28",
         "26-Jan-24",
         "2023-02-21",
         "2023-02-01",
         "2020-04-17",
         "1/2/2023",
         "2023-03-20",
         "26-Jan-24"
        ]
       ],
       "datasetInfos": [],
       "dbfsResultPath": null,
       "isJsonSchema": true,
       "metadata": {},
       "overflow": false,
       "plotOptions": {
        "customPlotOptions": {},
        "displayType": "table",
        "pivotAggregation": null,
        "pivotColumns": null,
        "xColumns": null,
        "yColumns": null
       },
       "removedWidgets": [],
       "schema": [
        {
         "metadata": "{}",
         "name": "S.No",
         "type": "\"integer\""
        },
        {
         "metadata": "{}",
         "name": "Status",
         "type": "\"string\""
        },
        {
         "metadata": "{}",
         "name": "Start_Date",
         "type": "\"string\""
        },
        {
         "metadata": "{\"__detected_date_formats\":\"d/M/yyyy\"}",
         "name": "End_Date",
         "type": "\"date\""
        },
        {
         "metadata": "{\"__detected_date_formats\":\"d/M/yyyy\"}",
         "name": "Expiration_Date",
         "type": "\"date\""
        },
        {
         "metadata": "{}",
         "name": "Last_Date",
         "type": "\"string\""
        },
        {
         "metadata": "{\"__detected_date_formats\":\"d/M/yyyy\"}",
         "name": "Input_Start_Date",
         "type": "\"date\""
        },
        {
         "metadata": "{\"__detected_date_formats\":\"d/M/yyyy\"}",
         "name": "Input_End_Date",
         "type": "\"date\""
        },
        {
         "metadata": "{\"__detected_date_formats\":\"d/M/yyyy\"}",
         "name": "Delivery_Start_Date8",
         "type": "\"date\""
        },
        {
         "metadata": "{}",
         "name": "Delivery_End_Date",
         "type": "\"string\""
        },
        {
         "metadata": "{\"__detected_date_formats\":\"d/M/yyyy\"}",
         "name": "Delivery_Start_Date10",
         "type": "\"date\""
        },
        {
         "metadata": "{}",
         "name": "Pricing_Date",
         "type": "\"string\""
        }
       ],
       "type": "table"
      }
     },
     "output_type": "display_data"
    }
   ],
   "source": [
    "df_text = spark.read.csv(\"dbfs:/FileStore/tables/to_timestamp-3.csv\", header=True, inferSchema=True)\n",
    "display(df_text.limit(10))"
   ]
  },
  {
   "cell_type": "code",
   "execution_count": 0,
   "metadata": {
    "application/vnd.databricks.v1+cell": {
     "cellMetadata": {
      "byteLimit": 2048000,
      "rowLimit": 10000
     },
     "inputWidgets": {},
     "nuid": "80ad0339-9584-4958-b411-e1a3bffeb36c",
     "showTitle": false,
     "tableResultSettingsMap": {},
     "title": ""
    }
   },
   "outputs": [],
   "source": [
    "df_text.createOrReplaceTempView(\"marketing\")"
   ]
  },
  {
   "cell_type": "code",
   "execution_count": 0,
   "metadata": {
    "application/vnd.databricks.v1+cell": {
     "cellMetadata": {
      "byteLimit": 2048000,
      "rowLimit": 10000
     },
     "inputWidgets": {},
     "nuid": "e9b6b82f-df3c-438c-9c75-0df0412350ca",
     "showTitle": false,
     "tableResultSettingsMap": {},
     "title": ""
    }
   },
   "outputs": [],
   "source": [
    "dbutils.widgets.text(\"view\", \"\")\n",
    "dbutils.widgets.text(\"filter_value\", \"\")"
   ]
  },
  {
   "cell_type": "code",
   "execution_count": 0,
   "metadata": {
    "application/vnd.databricks.v1+cell": {
     "cellMetadata": {
      "byteLimit": 2048000,
      "implicitDf": true,
      "rowLimit": 10000
     },
     "inputWidgets": {},
     "nuid": "b291f534-626c-4e3c-93d3-def8d7ef0c73",
     "showTitle": false,
     "tableResultSettingsMap": {},
     "title": ""
    }
   },
   "outputs": [
    {
     "output_type": "display_data",
     "data": {
      "text/html": [
       "<style scoped>\n",
       "  .table-result-container {\n",
       "    max-height: 300px;\n",
       "    overflow: auto;\n",
       "  }\n",
       "  table, th, td {\n",
       "    border: 1px solid black;\n",
       "    border-collapse: collapse;\n",
       "  }\n",
       "  th, td {\n",
       "    padding: 5px;\n",
       "  }\n",
       "  th {\n",
       "    text-align: left;\n",
       "  }\n",
       "</style><div class='table-result-container'><table class='table-result'><thead style='background-color: white'><tr><th>S.No</th><th>Status</th><th>Start_Date</th><th>End_Date</th><th>Expiration_Date</th><th>Last_Date</th><th>Input_Start_Date</th><th>Input_End_Date</th><th>Delivery_Start_Date8</th><th>Delivery_End_Date</th><th>Delivery_Start_Date10</th><th>Pricing_Date</th></tr></thead><tbody><tr><td>1</td><td>Sell</td><td>26-Jan-24</td><td>2024-03-31</td><td>2024-02-26</td><td>26-Jan-24</td><td>2024-03-11</td><td>2024-02-26</td><td>2023-12-21</td><td>1/3/2024</td><td>2024-04-02</td><td>26-Jan-24</td></tr><tr><td>4</td><td>Sell</td><td>27-Dec-23</td><td>2024-12-31</td><td>2023-12-27</td><td>27-Dec-23</td><td>2024-07-16</td><td>2023-12-27</td><td>2023-12-27</td><td>1/1/2024</td><td>2023-12-27</td><td>27-Dec-23</td></tr><tr><td>7</td><td>Sell</td><td>21-Dec-23</td><td>2023-02-28</td><td>2023-12-27</td><td>21-Dec-23</td><td>2023-02-01</td><td>2024-11-28</td><td>2023-05-29</td><td>1/2/2023</td><td>2023-03-20</td><td>21-Dec-23</td></tr><tr><td>11</td><td>Sell</td><td>13-Dec-23</td><td>2023-06-30</td><td>2024-02-26</td><td>13-Dec-23</td><td>2023-02-11</td><td>2023-02-01</td><td>2021-04-28</td><td>1/2/2023</td><td>2023-03-20</td><td>13-Dec-23</td></tr><tr><td>13</td><td>Sell</td><td>27-Dec-23</td><td>2024-12-31</td><td>2023-05-15</td><td>27-Dec-23</td><td>2023-04-01</td><td>2023-04-01</td><td>2023-04-01</td><td>1/4/2023</td><td>2023-05-22</td><td>27-Dec-23</td></tr><tr><td>18</td><td>Sell</td><td>20-Dec-23</td><td>2023-07-31</td><td>2023-06-28</td><td>20-Dec-23</td><td>2023-02-01</td><td>2023-06-01</td><td>2023-12-27</td><td>1/6/2023</td><td>2023-07-20</td><td>20-Dec-23</td></tr><tr><td>19</td><td>Sell</td><td>26-Feb-24</td><td>2023-06-30</td><td>2023-12-27</td><td>26-Feb-24</td><td>2023-02-01</td><td>2024-01-01</td><td>2024-12-27</td><td>1/1/2024</td><td>2023-12-27</td><td>26-Feb-24</td></tr><tr><td>20</td><td>Sell</td><td>21-Oct-23</td><td>2024-12-31</td><td>2025-02-27</td><td>21-Oct-23</td><td>2023-12-21</td><td>2024-01-01</td><td>2023-12-27</td><td>1/1/2024</td><td>2024-02-20</td><td>21-Oct-23</td></tr><tr><td>22</td><td>Sell</td><td>27-Dec-23</td><td>2023-06-30</td><td>2023-12-27</td><td>27-Dec-23</td><td>2024-02-26</td><td>2024-03-01</td><td>2023-12-21</td><td>1/3/2024</td><td>2024-04-22</td><td>27-Dec-23</td></tr><tr><td>31</td><td>Sell</td><td>27-Dec-23</td><td>2023-02-28</td><td>2023-12-27</td><td>27-Dec-23</td><td>2023-05-15</td><td>2024-02-26</td><td>2024-12-01</td><td>1/12/2024</td><td>2025-01-20</td><td>27-Dec-23</td></tr></tbody></table></div>"
      ]
     },
     "metadata": {
      "application/vnd.databricks.v1+output": {
       "addedWidgets": {},
       "aggData": [],
       "aggError": "",
       "aggOverflow": false,
       "aggSchema": [],
       "aggSeriesLimitReached": false,
       "aggType": "",
       "arguments": {},
       "columnCustomDisplayInfos": {},
       "data": [
        [
         1,
         "Sell",
         "26-Jan-24",
         "2024-03-31",
         "2024-02-26",
         "26-Jan-24",
         "2024-03-11",
         "2024-02-26",
         "2023-12-21",
         "1/3/2024",
         "2024-04-02",
         "26-Jan-24"
        ],
        [
         4,
         "Sell",
         "27-Dec-23",
         "2024-12-31",
         "2023-12-27",
         "27-Dec-23",
         "2024-07-16",
         "2023-12-27",
         "2023-12-27",
         "1/1/2024",
         "2023-12-27",
         "27-Dec-23"
        ],
        [
         7,
         "Sell",
         "21-Dec-23",
         "2023-02-28",
         "2023-12-27",
         "21-Dec-23",
         "2023-02-01",
         "2024-11-28",
         "2023-05-29",
         "1/2/2023",
         "2023-03-20",
         "21-Dec-23"
        ],
        [
         11,
         "Sell",
         "13-Dec-23",
         "2023-06-30",
         "2024-02-26",
         "13-Dec-23",
         "2023-02-11",
         "2023-02-01",
         "2021-04-28",
         "1/2/2023",
         "2023-03-20",
         "13-Dec-23"
        ],
        [
         13,
         "Sell",
         "27-Dec-23",
         "2024-12-31",
         "2023-05-15",
         "27-Dec-23",
         "2023-04-01",
         "2023-04-01",
         "2023-04-01",
         "1/4/2023",
         "2023-05-22",
         "27-Dec-23"
        ],
        [
         18,
         "Sell",
         "20-Dec-23",
         "2023-07-31",
         "2023-06-28",
         "20-Dec-23",
         "2023-02-01",
         "2023-06-01",
         "2023-12-27",
         "1/6/2023",
         "2023-07-20",
         "20-Dec-23"
        ],
        [
         19,
         "Sell",
         "26-Feb-24",
         "2023-06-30",
         "2023-12-27",
         "26-Feb-24",
         "2023-02-01",
         "2024-01-01",
         "2024-12-27",
         "1/1/2024",
         "2023-12-27",
         "26-Feb-24"
        ],
        [
         20,
         "Sell",
         "21-Oct-23",
         "2024-12-31",
         "2025-02-27",
         "21-Oct-23",
         "2023-12-21",
         "2024-01-01",
         "2023-12-27",
         "1/1/2024",
         "2024-02-20",
         "21-Oct-23"
        ],
        [
         22,
         "Sell",
         "27-Dec-23",
         "2023-06-30",
         "2023-12-27",
         "27-Dec-23",
         "2024-02-26",
         "2024-03-01",
         "2023-12-21",
         "1/3/2024",
         "2024-04-22",
         "27-Dec-23"
        ],
        [
         31,
         "Sell",
         "27-Dec-23",
         "2023-02-28",
         "2023-12-27",
         "27-Dec-23",
         "2023-05-15",
         "2024-02-26",
         "2024-12-01",
         "1/12/2024",
         "2025-01-20",
         "27-Dec-23"
        ]
       ],
       "datasetInfos": [],
       "dbfsResultPath": null,
       "isJsonSchema": true,
       "metadata": {
        "createTempViewForImplicitDf": true,
        "dataframeName": "_sqldf",
        "executionCount": 33
       },
       "overflow": false,
       "plotOptions": {
        "customPlotOptions": {},
        "displayType": "table",
        "pivotAggregation": null,
        "pivotColumns": null,
        "xColumns": null,
        "yColumns": null
       },
       "removedWidgets": [],
       "schema": [
        {
         "metadata": "{}",
         "name": "S.No",
         "type": "\"integer\""
        },
        {
         "metadata": "{}",
         "name": "Status",
         "type": "\"string\""
        },
        {
         "metadata": "{}",
         "name": "Start_Date",
         "type": "\"string\""
        },
        {
         "metadata": "{\"__detected_date_formats\":\"d/M/yyyy\"}",
         "name": "End_Date",
         "type": "\"date\""
        },
        {
         "metadata": "{\"__detected_date_formats\":\"d/M/yyyy\"}",
         "name": "Expiration_Date",
         "type": "\"date\""
        },
        {
         "metadata": "{}",
         "name": "Last_Date",
         "type": "\"string\""
        },
        {
         "metadata": "{\"__detected_date_formats\":\"d/M/yyyy\"}",
         "name": "Input_Start_Date",
         "type": "\"date\""
        },
        {
         "metadata": "{\"__detected_date_formats\":\"d/M/yyyy\"}",
         "name": "Input_End_Date",
         "type": "\"date\""
        },
        {
         "metadata": "{\"__detected_date_formats\":\"d/M/yyyy\"}",
         "name": "Delivery_Start_Date8",
         "type": "\"date\""
        },
        {
         "metadata": "{}",
         "name": "Delivery_End_Date",
         "type": "\"string\""
        },
        {
         "metadata": "{\"__detected_date_formats\":\"d/M/yyyy\"}",
         "name": "Delivery_Start_Date10",
         "type": "\"date\""
        },
        {
         "metadata": "{}",
         "name": "Pricing_Date",
         "type": "\"string\""
        }
       ],
       "type": "table"
      }
     },
     "output_type": "display_data"
    }
   ],
   "source": [
    "%sql\n",
    "SELECT *\n",
    "FROM ${view}\n",
    "WHERE Status == ${filter_value}\n",
    "LIMIT 10"
   ]
  },
  {
   "cell_type": "markdown",
   "metadata": {
    "application/vnd.databricks.v1+cell": {
     "cellMetadata": {},
     "inputWidgets": {},
     "nuid": "2b0934f7-dd6c-44b2-aa9f-6d2e8ea4cbdd",
     "showTitle": false,
     "tableResultSettingsMap": {},
     "title": ""
    }
   },
   "source": [
    "#### **Real Time Use CASE: 02**"
   ]
  },
  {
   "cell_type": "code",
   "execution_count": 0,
   "metadata": {
    "application/vnd.databricks.v1+cell": {
     "cellMetadata": {
      "byteLimit": 2048000,
      "rowLimit": 10000
     },
     "inputWidgets": {},
     "nuid": "a34ed6b0-2268-4b47-95a1-9085e9a7e68d",
     "showTitle": true,
     "tableResultSettingsMap": {},
     "title": "create widget with default value"
    }
   },
   "outputs": [
    {
     "output_type": "display_data",
     "data": {
      "text/plain": [
       "'_Rev01'"
      ]
     },
     "metadata": {},
     "output_type": "display_data"
    }
   ],
   "source": [
    "# Create a text input widget with default value 'Rev01'\n",
    "dbutils.widgets.text(\"Rev_Ver\", \"Rev01\", \"Rev Ver\")\n",
    "\n",
    "# Now, retrieve the value of the widget\n",
    "Rev_Ver = '_' + dbutils.widgets.get('Rev_Ver')\n",
    "display(Rev_Ver)"
   ]
  },
  {
   "cell_type": "code",
   "execution_count": 0,
   "metadata": {
    "application/vnd.databricks.v1+cell": {
     "cellMetadata": {
      "byteLimit": 2048000,
      "rowLimit": 10000
     },
     "inputWidgets": {},
     "nuid": "90f8b83f-af6a-4b55-8a88-0837db28f0e3",
     "showTitle": true,
     "tableResultSettingsMap": {},
     "title": "Create Text Input Widget with Empty Value"
    }
   },
   "outputs": [
    {
     "output_type": "display_data",
     "data": {
      "text/plain": [
       "'Set02'"
      ]
     },
     "metadata": {},
     "output_type": "display_data"
    },
    {
     "output_type": "stream",
     "name": "stdout",
     "output_type": "stream",
     "text": [
      "Set02\n"
     ]
    }
   ],
   "source": [
    "# Create a text input widget with empty value\n",
    "dbutils.widgets.text(\"Source_Ver\", \"\", \"Source Ver\")\n",
    "\n",
    "try:\n",
    "    Source_Ver = dbutils.widgets.get(\"Source_Ver\")\n",
    "    display(Source_Ver)\n",
    "except Exception as e:\n",
    "    Source_Ver = ''\n",
    "\n",
    "print(Source_Ver)"
   ]
  },
  {
   "cell_type": "code",
   "execution_count": 0,
   "metadata": {
    "application/vnd.databricks.v1+cell": {
     "cellMetadata": {
      "byteLimit": 2048000,
      "rowLimit": 10000
     },
     "inputWidgets": {},
     "nuid": "d9fad810-8ebe-4aa6-95c9-c63406bcdccc",
     "showTitle": false,
     "tableResultSettingsMap": {},
     "title": ""
    }
   },
   "outputs": [
    {
     "output_type": "execute_result",
     "data": {
      "text/plain": [
       "True"
      ]
     },
     "execution_count": 41,
     "metadata": {},
     "output_type": "execute_result"
    }
   ],
   "source": [
    "# dbutils.fs.rm(\"/FileStore/tables/Streaming\", True)"
   ]
  },
  {
   "cell_type": "code",
   "execution_count": 0,
   "metadata": {
    "application/vnd.databricks.v1+cell": {
     "cellMetadata": {
      "byteLimit": 2048000,
      "rowLimit": 10000
     },
     "inputWidgets": {},
     "nuid": "8c9761a4-b0eb-49de-900e-a11edd794010",
     "showTitle": false,
     "tableResultSettingsMap": {},
     "title": ""
    }
   },
   "outputs": [
    {
     "output_type": "execute_result",
     "data": {
      "text/plain": [
       "True"
      ]
     },
     "execution_count": 43,
     "metadata": {},
     "output_type": "execute_result"
    }
   ],
   "source": [
    "dbutils.fs.mkdirs(\"/FileStore/tables/Streaming/Stream_checkpoint/json/Set01\")\n",
    "dbutils.fs.mkdirs(\"/FileStore/tables/Streaming/Stream_checkpoint/json/Set02\")\n",
    "dbutils.fs.mkdirs(\"/FileStore/tables/Streaming/Stream_checkpoint/json/Set03\")\n",
    "dbutils.fs.mkdirs(\"/FileStore/tables/Streaming/Stream_checkpoint/json/Set04\")\n",
    "dbutils.fs.mkdirs(\"/FileStore/tables/Streaming/Stream_checkpoint/json/Set05\")\n",
    "\n",
    "dbutils.fs.mkdirs(\"/FileStore/tables/Streaming/Stream_readStream/json/Set01\")\n",
    "dbutils.fs.mkdirs(\"/FileStore/tables/Streaming/Stream_readStream/json/Set02\")\n",
    "dbutils.fs.mkdirs(\"/FileStore/tables/Streaming/Stream_readStream/json/Set03\")\n",
    "dbutils.fs.mkdirs(\"/FileStore/tables/Streaming/Stream_readStream/json/Set04\")\n",
    "dbutils.fs.mkdirs(\"/FileStore/tables/Streaming/Stream_readStream/json/Set05\")\n",
    "\n",
    "dbutils.fs.mkdirs(\"/FileStore/tables/Streaming/Stream_writeStream/json/Set01\")\n",
    "dbutils.fs.mkdirs(\"/FileStore/tables/Streaming/Stream_writeStream/json/Set02\")\n",
    "dbutils.fs.mkdirs(\"/FileStore/tables/Streaming/Stream_writeStream/json/Set03\")\n",
    "dbutils.fs.mkdirs(\"/FileStore/tables/Streaming/Stream_writeStream/json/Set04\")\n",
    "dbutils.fs.mkdirs(\"/FileStore/tables/Streaming/Stream_writeStream/json/Set05\")"
   ]
  },
  {
   "cell_type": "code",
   "execution_count": 0,
   "metadata": {
    "application/vnd.databricks.v1+cell": {
     "cellMetadata": {
      "byteLimit": 2048000,
      "rowLimit": 10000
     },
     "inputWidgets": {},
     "nuid": "f66dab51-bde1-40db-ae3f-a042748c9d99",
     "showTitle": false,
     "tableResultSettingsMap": {},
     "title": ""
    }
   },
   "outputs": [
    {
     "output_type": "execute_result",
     "data": {
      "text/plain": [
       "'/FileStore/tables/Streaming/Stream_readStream/json/Set02/'"
      ]
     },
     "execution_count": 80,
     "metadata": {},
     "output_type": "execute_result"
    }
   ],
   "source": [
    "root_path"
   ]
  },
  {
   "cell_type": "code",
   "execution_count": 0,
   "metadata": {
    "application/vnd.databricks.v1+cell": {
     "cellMetadata": {
      "byteLimit": 2048000,
      "rowLimit": 10000
     },
     "inputWidgets": {},
     "nuid": "12673f58-2f7c-4a8a-b1c2-cb6e3a095e47",
     "showTitle": false,
     "tableResultSettingsMap": {},
     "title": ""
    }
   },
   "outputs": [
    {
     "output_type": "display_data",
     "data": {
      "text/html": [
       "<style scoped>\n",
       "  .table-result-container {\n",
       "    max-height: 300px;\n",
       "    overflow: auto;\n",
       "  }\n",
       "  table, th, td {\n",
       "    border: 1px solid black;\n",
       "    border-collapse: collapse;\n",
       "  }\n",
       "  th, td {\n",
       "    padding: 5px;\n",
       "  }\n",
       "  th {\n",
       "    text-align: left;\n",
       "  }\n",
       "</style><div class='table-result-container'><table class='table-result'><thead style='background-color: white'><tr><th>[</th></tr></thead><tbody><tr><td>  {</td></tr><tr><td>    \"source\": \"catalog\"</td></tr><tr><td>    \"description\": \"bravia\"</td></tr><tr><td>    \"input_timestamp\": 1124256609</td></tr><tr><td>    \"last_update_timestamp\": 1524256609</td></tr><tr><td>    \"Address\":</td></tr><tr><td>             {</td></tr><tr><td>               \"country\": \"IND\"</td></tr><tr><td>               \"user\": \"Hari\"</td></tr><tr><td>               \"Location\":\"Bangalore\"</td></tr><tr><td>               \"Zipcode\":\"560103\"</td></tr><tr><td>             }</td></tr><tr><td>  }</td></tr><tr><td>  {</td></tr><tr><td>    \"source\": \"SAP\"</td></tr><tr><td>    \"description\": \"sony\"</td></tr><tr><td>    \"input_timestamp\": 1224256609</td></tr><tr><td>    \"last_update_timestamp\": 1424256609</td></tr><tr><td>    \"Address\":</td></tr><tr><td>             {</td></tr><tr><td>               \"country\": \"US\"</td></tr><tr><td>               \"user\": \"Rajesh\"</td></tr><tr><td>               \"Location\":\"Chennai\"</td></tr><tr><td>               \"Zipcode\":\"860103\"</td></tr><tr><td>             }</td></tr><tr><td>  }</td></tr><tr><td>  {</td></tr><tr><td>    \"source\": \"ADLS\"</td></tr><tr><td>    \"description\": \"bse\"</td></tr><tr><td>    \"input_timestamp\": 1324256609</td></tr><tr><td>    \"last_update_timestamp\": 1524256609</td></tr><tr><td>    \"Address\":</td></tr><tr><td>             {</td></tr><tr><td>               \"country\": \"CANADA\"</td></tr><tr><td>               \"user\": \"Lokesh\"</td></tr><tr><td>               \"Location\":\"Hyderabad\"</td></tr><tr><td>               \"Zipcode\":\"755103\"</td></tr><tr><td>             }</td></tr><tr><td>  }</td></tr><tr><td>  {</td></tr><tr><td>    \"source\": \"Blob\"</td></tr><tr><td>    \"description\": \"exchange\"</td></tr><tr><td>    \"input_timestamp\": 1424256609</td></tr><tr><td>    \"last_update_timestamp\": 1724256609</td></tr><tr><td>    \"Address\":</td></tr><tr><td>             {</td></tr><tr><td>               \"country\": \"US\"</td></tr><tr><td>               \"user\": \"Sharath\"</td></tr><tr><td>               \"Location\":\"Kochin\"</td></tr><tr><td>               \"Zipcode\":\"120103\"</td></tr><tr><td>             }</td></tr><tr><td>  }</td></tr><tr><td>  {</td></tr><tr><td>    \"source\": \"SQL\"</td></tr><tr><td>    \"description\": \"Stock\"</td></tr><tr><td>    \"input_timestamp\": 1524256609</td></tr><tr><td>    \"last_update_timestamp\": 1664256609</td></tr><tr><td>    \"Address\":</td></tr><tr><td>             {</td></tr><tr><td>               \"country\": \"SWEDEN\"</td></tr><tr><td>               \"user\": \"Sheetal\"</td></tr><tr><td>               \"Location\":\"Delhi\"</td></tr><tr><td>               \"Zipcode\":\"875103\"</td></tr><tr><td>             }</td></tr><tr><td>  }</td></tr><tr><td>  {</td></tr><tr><td>    \"source\": \"datawarehouse\"</td></tr><tr><td>    \"description\": \"azure\"</td></tr><tr><td>    \"input_timestamp\": 1624256609</td></tr><tr><td>    \"last_update_timestamp\": 1874256609</td></tr><tr><td>    \"Address\":</td></tr><tr><td>             {</td></tr><tr><td>               \"country\": \"UK\"</td></tr><tr><td>               \"user\": \"Raj\"</td></tr><tr><td>               \"Location\":\"Mumbai\"</td></tr><tr><td>               \"Zipcode\":\"123403\"</td></tr><tr><td>             }</td></tr><tr><td>  }</td></tr><tr><td>  {</td></tr><tr><td>    \"source\": \"oracle\"</td></tr><tr><td>    \"description\": \"ADF\"</td></tr><tr><td>    \"input_timestamp\": 1779256609</td></tr><tr><td>    \"last_update_timestamp\": 188256609</td></tr><tr><td>    \"Address\":</td></tr><tr><td>             {</td></tr><tr><td>               \"country\": \"Norway\"</td></tr><tr><td>               \"user\": \"Synapse\"</td></tr><tr><td>               \"Location\":\"Nasik\"</td></tr><tr><td>               \"Zipcode\":\"456103\"</td></tr><tr><td>             }</td></tr><tr><td>  }</td></tr><tr><td>  {</td></tr><tr><td>    \"source\": \"SQL Server\"</td></tr><tr><td>    \"description\": \"Stock market\"</td></tr><tr><td>    \"input_timestamp\": 1524257709</td></tr><tr><td>    \"last_update_timestamp\": 1664258809</td></tr><tr><td>    \"Address\":</td></tr><tr><td>             {</td></tr><tr><td>               \"country\": \"TURKEY\"</td></tr><tr><td>               \"user\": \"Swetha\"</td></tr><tr><td>               \"Location\":\"Delhi\"</td></tr><tr><td>               \"Zipcode\":\"875105\"</td></tr><tr><td>             }</td></tr><tr><td>  }</td></tr><tr><td>  {</td></tr><tr><td>    \"source\": \"data\"</td></tr><tr><td>    \"description\": \"Azure\"</td></tr><tr><td>    \"input_timestamp\": 16242569909</td></tr><tr><td>    \"last_update_timestamp\": 1874259909</td></tr><tr><td>    \"Address\":</td></tr><tr><td>             {</td></tr><tr><td>               \"country\": \"London\"</td></tr><tr><td>               \"user\": \"Rajesh\"</td></tr><tr><td>               \"Location\":\"Mumbai\"</td></tr><tr><td>               \"Zipcode\":\"156403\"</td></tr><tr><td>             }</td></tr><tr><td>  }</td></tr><tr><td>  {</td></tr><tr><td>    \"source\": \"xml\"</td></tr><tr><td>    \"description\": \"data factory\"</td></tr><tr><td>    \"input_timestamp\": 1999256909</td></tr><tr><td>    \"last_update_timestamp\": 199258811</td></tr><tr><td>    \"Address\":</td></tr><tr><td>             {</td></tr><tr><td>               \"country\": \"Paris\"</td></tr><tr><td>               \"user\": \"Azure Synapse\"</td></tr><tr><td>               \"Location\":\"Nasik\"</td></tr><tr><td>               \"Zipcode\":\"9876103\"</td></tr><tr><td>             }</td></tr><tr><td>  }</td></tr><tr><td>]</td></tr></tbody></table></div>"
      ]
     },
     "metadata": {
      "application/vnd.databricks.v1+output": {
       "addedWidgets": {},
       "aggData": [],
       "aggError": "",
       "aggOverflow": false,
       "aggSchema": [],
       "aggSeriesLimitReached": false,
       "aggType": "",
       "arguments": {},
       "columnCustomDisplayInfos": {},
       "data": [
        [
         "  {"
        ],
        [
         "    \"source\": \"catalog\""
        ],
        [
         "    \"description\": \"bravia\""
        ],
        [
         "    \"input_timestamp\": 1124256609"
        ],
        [
         "    \"last_update_timestamp\": 1524256609"
        ],
        [
         "    \"Address\":"
        ],
        [
         "             {"
        ],
        [
         "               \"country\": \"IND\""
        ],
        [
         "               \"user\": \"Hari\""
        ],
        [
         "               \"Location\":\"Bangalore\""
        ],
        [
         "               \"Zipcode\":\"560103\""
        ],
        [
         "             }"
        ],
        [
         "  }"
        ],
        [
         "  {"
        ],
        [
         "    \"source\": \"SAP\""
        ],
        [
         "    \"description\": \"sony\""
        ],
        [
         "    \"input_timestamp\": 1224256609"
        ],
        [
         "    \"last_update_timestamp\": 1424256609"
        ],
        [
         "    \"Address\":"
        ],
        [
         "             {"
        ],
        [
         "               \"country\": \"US\""
        ],
        [
         "               \"user\": \"Rajesh\""
        ],
        [
         "               \"Location\":\"Chennai\""
        ],
        [
         "               \"Zipcode\":\"860103\""
        ],
        [
         "             }"
        ],
        [
         "  }"
        ],
        [
         "  {"
        ],
        [
         "    \"source\": \"ADLS\""
        ],
        [
         "    \"description\": \"bse\""
        ],
        [
         "    \"input_timestamp\": 1324256609"
        ],
        [
         "    \"last_update_timestamp\": 1524256609"
        ],
        [
         "    \"Address\":"
        ],
        [
         "             {"
        ],
        [
         "               \"country\": \"CANADA\""
        ],
        [
         "               \"user\": \"Lokesh\""
        ],
        [
         "               \"Location\":\"Hyderabad\""
        ],
        [
         "               \"Zipcode\":\"755103\""
        ],
        [
         "             }"
        ],
        [
         "  }"
        ],
        [
         "  {"
        ],
        [
         "    \"source\": \"Blob\""
        ],
        [
         "    \"description\": \"exchange\""
        ],
        [
         "    \"input_timestamp\": 1424256609"
        ],
        [
         "    \"last_update_timestamp\": 1724256609"
        ],
        [
         "    \"Address\":"
        ],
        [
         "             {"
        ],
        [
         "               \"country\": \"US\""
        ],
        [
         "               \"user\": \"Sharath\""
        ],
        [
         "               \"Location\":\"Kochin\""
        ],
        [
         "               \"Zipcode\":\"120103\""
        ],
        [
         "             }"
        ],
        [
         "  }"
        ],
        [
         "  {"
        ],
        [
         "    \"source\": \"SQL\""
        ],
        [
         "    \"description\": \"Stock\""
        ],
        [
         "    \"input_timestamp\": 1524256609"
        ],
        [
         "    \"last_update_timestamp\": 1664256609"
        ],
        [
         "    \"Address\":"
        ],
        [
         "             {"
        ],
        [
         "               \"country\": \"SWEDEN\""
        ],
        [
         "               \"user\": \"Sheetal\""
        ],
        [
         "               \"Location\":\"Delhi\""
        ],
        [
         "               \"Zipcode\":\"875103\""
        ],
        [
         "             }"
        ],
        [
         "  }"
        ],
        [
         "  {"
        ],
        [
         "    \"source\": \"datawarehouse\""
        ],
        [
         "    \"description\": \"azure\""
        ],
        [
         "    \"input_timestamp\": 1624256609"
        ],
        [
         "    \"last_update_timestamp\": 1874256609"
        ],
        [
         "    \"Address\":"
        ],
        [
         "             {"
        ],
        [
         "               \"country\": \"UK\""
        ],
        [
         "               \"user\": \"Raj\""
        ],
        [
         "               \"Location\":\"Mumbai\""
        ],
        [
         "               \"Zipcode\":\"123403\""
        ],
        [
         "             }"
        ],
        [
         "  }"
        ],
        [
         "  {"
        ],
        [
         "    \"source\": \"oracle\""
        ],
        [
         "    \"description\": \"ADF\""
        ],
        [
         "    \"input_timestamp\": 1779256609"
        ],
        [
         "    \"last_update_timestamp\": 188256609"
        ],
        [
         "    \"Address\":"
        ],
        [
         "             {"
        ],
        [
         "               \"country\": \"Norway\""
        ],
        [
         "               \"user\": \"Synapse\""
        ],
        [
         "               \"Location\":\"Nasik\""
        ],
        [
         "               \"Zipcode\":\"456103\""
        ],
        [
         "             }"
        ],
        [
         "  }"
        ],
        [
         "  {"
        ],
        [
         "    \"source\": \"SQL Server\""
        ],
        [
         "    \"description\": \"Stock market\""
        ],
        [
         "    \"input_timestamp\": 1524257709"
        ],
        [
         "    \"last_update_timestamp\": 1664258809"
        ],
        [
         "    \"Address\":"
        ],
        [
         "             {"
        ],
        [
         "               \"country\": \"TURKEY\""
        ],
        [
         "               \"user\": \"Swetha\""
        ],
        [
         "               \"Location\":\"Delhi\""
        ],
        [
         "               \"Zipcode\":\"875105\""
        ],
        [
         "             }"
        ],
        [
         "  }"
        ],
        [
         "  {"
        ],
        [
         "    \"source\": \"data\""
        ],
        [
         "    \"description\": \"Azure\""
        ],
        [
         "    \"input_timestamp\": 16242569909"
        ],
        [
         "    \"last_update_timestamp\": 1874259909"
        ],
        [
         "    \"Address\":"
        ],
        [
         "             {"
        ],
        [
         "               \"country\": \"London\""
        ],
        [
         "               \"user\": \"Rajesh\""
        ],
        [
         "               \"Location\":\"Mumbai\""
        ],
        [
         "               \"Zipcode\":\"156403\""
        ],
        [
         "             }"
        ],
        [
         "  }"
        ],
        [
         "  {"
        ],
        [
         "    \"source\": \"xml\""
        ],
        [
         "    \"description\": \"data factory\""
        ],
        [
         "    \"input_timestamp\": 1999256909"
        ],
        [
         "    \"last_update_timestamp\": 199258811"
        ],
        [
         "    \"Address\":"
        ],
        [
         "             {"
        ],
        [
         "               \"country\": \"Paris\""
        ],
        [
         "               \"user\": \"Azure Synapse\""
        ],
        [
         "               \"Location\":\"Nasik\""
        ],
        [
         "               \"Zipcode\":\"9876103\""
        ],
        [
         "             }"
        ],
        [
         "  }"
        ],
        [
         "]"
        ]
       ],
       "datasetInfos": [],
       "dbfsResultPath": null,
       "isJsonSchema": true,
       "metadata": {},
       "overflow": false,
       "plotOptions": {
        "customPlotOptions": {},
        "displayType": "table",
        "pivotAggregation": null,
        "pivotColumns": null,
        "xColumns": null,
        "yColumns": null
       },
       "removedWidgets": [],
       "schema": [
        {
         "metadata": "{}",
         "name": "[",
         "type": "\"string\""
        }
       ],
       "type": "table"
      }
     },
     "output_type": "display_data"
    }
   ],
   "source": [
    "import pyspark.sql.functions as f\n",
    "from pyspark.sql.types import StringType,LongType\n",
    "\n",
    "# Get file paths for Party\n",
    "root_path = f\"/FileStore/tables/Streaming/Stream_readStream/json/{Source_Ver}/\"\n",
    "\n",
    "# Read the input data from CSV file\n",
    "sales_df = spark.read.option('header', True).option('InferSchema', True).csv(root_path)\n",
    "display(sales_df)"
   ]
  },
  {
   "cell_type": "code",
   "execution_count": 0,
   "metadata": {
    "application/vnd.databricks.v1+cell": {
     "cellMetadata": {
      "byteLimit": 2048000,
      "rowLimit": 10000
     },
     "inputWidgets": {},
     "nuid": "96ddc310-bec3-42f1-b198-bcc6fb57bbf4",
     "showTitle": true,
     "tableResultSettingsMap": {},
     "title": "Gas Physical Position Data"
    }
   },
   "outputs": [
    {
     "output_type": "stream",
     "name": "stdout",
     "output_type": "stream",
     "text": [
      "/FileStore/tables/Streaming/Stream_checkpoint/json/Set02/_chkpoint_tbl_enriched_gas/\n"
     ]
    }
   ],
   "source": [
    "# get raw streaming checkpoint\n",
    "# sales_raw_chkpoint = f\"/FileStore/tables/Streaming/Stream_checkpoint/json/_chkpoint_tbl_raw_gas/{Source_Ver}/\"\n",
    "# print(sales_raw_chkpoint)\n",
    "\n",
    "# get enriched streaming checkpoint\n",
    "sales_enr_chkpoint = f\"/FileStore/tables/Streaming/Stream_checkpoint/json/{Source_Ver}/_chkpoint_tbl_enriched_gas/\"\n",
    "print(sales_enr_chkpoint)\n",
    "\n",
    "# get raw target table \n",
    "# raw_table = f\"/FileStore/tables/Streaming/Stream_writeStream/json/tbl_src_raw_fact_tbl_01/{Source_Ver}\"\n",
    "# print(raw_table)\n",
    "\n",
    "# get enriched target table \n",
    "# target_table = f\"/FileStore/tables/Streaming/Stream_writeStream/json/tbl_src_enr_fact_tbl_01/{Source_Ver}\"\n",
    "# print(target_table)"
   ]
  },
  {
   "cell_type": "code",
   "execution_count": 0,
   "metadata": {
    "application/vnd.databricks.v1+cell": {
     "cellMetadata": {
      "byteLimit": 2048000,
      "rowLimit": 10000
     },
     "inputWidgets": {},
     "nuid": "15bf5067-14a6-4a43-a4ee-8c0b14905920",
     "showTitle": false,
     "tableResultSettingsMap": {},
     "title": ""
    }
   },
   "outputs": [],
   "source": [
    "from pyspark.sql.types import StructField, StructType, IntegerType, StringType, LongType\n",
    "\n",
    "# Define custom schema for the nested structure\n",
    "AddSchema = StructType([StructField('country',StringType(),False),\n",
    "                        StructField('user',StringType(),False),\n",
    "                        StructField('Location',StringType(),False),\n",
    "                        StructField('Zipcode',StringType(),False),]\n",
    "                      )\n",
    "# Define the main schema including the nested structure\n",
    "schema_json = StructType([StructField('source',StringType(),False),\n",
    "                          StructField('description',StringType(),False),\n",
    "                          StructField('input_timestamp',LongType(),False),\n",
    "                          StructField('last_update_timestamp',LongType(),False),\n",
    "                          StructField('Address',AddSchema)]\n",
    "                        )"
   ]
  },
  {
   "cell_type": "code",
   "execution_count": 0,
   "metadata": {
    "application/vnd.databricks.v1+cell": {
     "cellMetadata": {
      "byteLimit": 2048000,
      "rowLimit": 10000
     },
     "inputWidgets": {},
     "nuid": "217902f8-cf3f-4104-8450-74aa44d5aca3",
     "showTitle": false,
     "tableResultSettingsMap": {},
     "title": ""
    }
   },
   "outputs": [
    {
     "output_type": "display_data",
     "data": {
      "text/html": [
       "<style scoped>\n",
       "  .table-result-container {\n",
       "    max-height: 300px;\n",
       "    overflow: auto;\n",
       "  }\n",
       "  table, th, td {\n",
       "    border: 1px solid black;\n",
       "    border-collapse: collapse;\n",
       "  }\n",
       "  th, td {\n",
       "    padding: 5px;\n",
       "  }\n",
       "  th {\n",
       "    text-align: left;\n",
       "  }\n",
       "</style><div class='table-result-container'><table class='table-result'><thead style='background-color: white'><tr><th>source</th><th>description</th><th>input_timestamp</th><th>last_update_timestamp</th><th>Address</th></tr></thead><tbody><tr><td>catalog</td><td>bravia</td><td>1124256609</td><td>1524256609</td><td>List(IND, Hari, Bangalore, 560103)</td></tr><tr><td>SAP</td><td>sony</td><td>1224256609</td><td>1424256609</td><td>List(US, Rajesh, Chennai, 860103)</td></tr><tr><td>ADLS</td><td>bse</td><td>1324256609</td><td>1524256609</td><td>List(CANADA, Lokesh, Hyderabad, 755103)</td></tr><tr><td>Blob</td><td>exchange</td><td>1424256609</td><td>1724256609</td><td>List(US, Sharath, Kochin, 120103)</td></tr><tr><td>SQL</td><td>Stock</td><td>1524256609</td><td>1664256609</td><td>List(SWEDEN, Sheetal, Delhi, 875103)</td></tr><tr><td>datawarehouse</td><td>azure</td><td>1624256609</td><td>1874256609</td><td>List(UK, Raj, Mumbai, 123403)</td></tr><tr><td>oracle</td><td>ADF</td><td>1779256609</td><td>188256609</td><td>List(Norway, Synapse, Nasik, 456103)</td></tr><tr><td>SQL Server</td><td>Stock market</td><td>1524257709</td><td>1664258809</td><td>List(TURKEY, Swetha, Delhi, 875105)</td></tr><tr><td>data</td><td>Azure</td><td>16242569909</td><td>1874259909</td><td>List(London, Rajesh, Mumbai, 156403)</td></tr><tr><td>xml</td><td>data factory</td><td>1999256909</td><td>199258811</td><td>List(Paris, Azure Synapse, Nasik, 9876103)</td></tr></tbody></table></div>"
      ]
     },
     "metadata": {
      "application/vnd.databricks.v1+output": {
       "addedWidgets": {},
       "aggData": [],
       "aggError": "",
       "aggOverflow": false,
       "aggSchema": [],
       "aggSeriesLimitReached": false,
       "aggType": "",
       "arguments": {},
       "columnCustomDisplayInfos": {},
       "data": [
        [
         "catalog",
         "bravia",
         1124256609,
         1524256609,
         [
          "IND",
          "Hari",
          "Bangalore",
          "560103"
         ]
        ],
        [
         "SAP",
         "sony",
         1224256609,
         1424256609,
         [
          "US",
          "Rajesh",
          "Chennai",
          "860103"
         ]
        ],
        [
         "ADLS",
         "bse",
         1324256609,
         1524256609,
         [
          "CANADA",
          "Lokesh",
          "Hyderabad",
          "755103"
         ]
        ],
        [
         "Blob",
         "exchange",
         1424256609,
         1724256609,
         [
          "US",
          "Sharath",
          "Kochin",
          "120103"
         ]
        ],
        [
         "SQL",
         "Stock",
         1524256609,
         1664256609,
         [
          "SWEDEN",
          "Sheetal",
          "Delhi",
          "875103"
         ]
        ],
        [
         "datawarehouse",
         "azure",
         1624256609,
         1874256609,
         [
          "UK",
          "Raj",
          "Mumbai",
          "123403"
         ]
        ],
        [
         "oracle",
         "ADF",
         1779256609,
         188256609,
         [
          "Norway",
          "Synapse",
          "Nasik",
          "456103"
         ]
        ],
        [
         "SQL Server",
         "Stock market",
         1524257709,
         1664258809,
         [
          "TURKEY",
          "Swetha",
          "Delhi",
          "875105"
         ]
        ],
        [
         "data",
         "Azure",
         16242569909,
         1874259909,
         [
          "London",
          "Rajesh",
          "Mumbai",
          "156403"
         ]
        ],
        [
         "xml",
         "data factory",
         1999256909,
         199258811,
         [
          "Paris",
          "Azure Synapse",
          "Nasik",
          "9876103"
         ]
        ]
       ],
       "datasetInfos": [],
       "dbfsResultPath": null,
       "isJsonSchema": true,
       "metadata": {
        "isDbfsCommandResult": false
       },
       "overflow": false,
       "plotOptions": {
        "customPlotOptions": {},
        "displayType": "table",
        "pivotAggregation": null,
        "pivotColumns": null,
        "xColumns": null,
        "yColumns": null
       },
       "removedWidgets": [],
       "schema": [
        {
         "metadata": "{}",
         "name": "source",
         "type": "\"string\""
        },
        {
         "metadata": "{}",
         "name": "description",
         "type": "\"string\""
        },
        {
         "metadata": "{}",
         "name": "input_timestamp",
         "type": "\"long\""
        },
        {
         "metadata": "{}",
         "name": "last_update_timestamp",
         "type": "\"long\""
        },
        {
         "metadata": "{}",
         "name": "Address",
         "type": "{\"type\":\"struct\",\"fields\":[{\"name\":\"country\",\"type\":\"string\",\"nullable\":true,\"metadata\":{}},{\"name\":\"user\",\"type\":\"string\",\"nullable\":true,\"metadata\":{}},{\"name\":\"Location\",\"type\":\"string\",\"nullable\":true,\"metadata\":{}},{\"name\":\"Zipcode\",\"type\":\"string\",\"nullable\":true,\"metadata\":{}}]}"
        }
       ],
       "type": "table"
      }
     },
     "output_type": "display_data"
    }
   ],
   "source": [
    "stream_json = spark.readStream\\\n",
    "                   .option(\"multiline\", \"true\")\\\n",
    "                   .format(\"json\")\\\n",
    "                   .schema(schema_json)\\\n",
    "                   .json(f\"/FileStore/tables/Streaming/Stream_readStream/json/{Source_Ver}\")\n",
    "\n",
    "print(stream_json.isStreaming)\n",
    "print(stream_json.printSchema()) \n",
    "\n",
    "display(stream_json)\n",
    "\n",
    "# stream_json.awaitTermination()"
   ]
  },
  {
   "cell_type": "code",
   "execution_count": 0,
   "metadata": {
    "application/vnd.databricks.v1+cell": {
     "cellMetadata": {
      "byteLimit": 2048000,
      "rowLimit": 10000
     },
     "inputWidgets": {},
     "nuid": "07d73058-58fd-42aa-a8c7-e4ea85ac9755",
     "showTitle": false,
     "tableResultSettingsMap": {},
     "title": ""
    }
   },
   "outputs": [
    {
     "output_type": "display_data",
     "data": {
      "text/html": [
       "<style scoped>\n",
       "  .table-result-container {\n",
       "    max-height: 300px;\n",
       "    overflow: auto;\n",
       "  }\n",
       "  table, th, td {\n",
       "    border: 1px solid black;\n",
       "    border-collapse: collapse;\n",
       "  }\n",
       "  th, td {\n",
       "    padding: 5px;\n",
       "  }\n",
       "  th {\n",
       "    text-align: left;\n",
       "  }\n",
       "</style><div class='table-result-container'><table class='table-result'><thead style='background-color: white'><tr><th>source</th><th>description</th><th>input_timestamp</th><th>last_update_timestamp</th><th>Address</th></tr></thead><tbody><tr><td>catalog</td><td>bravia</td><td>1124256609</td><td>1524256609</td><td>List(IND, Hari, Bangalore, 560103)</td></tr><tr><td>SAP</td><td>sony</td><td>1224256609</td><td>1424256609</td><td>List(US, Rajesh, Chennai, 860103)</td></tr><tr><td>ADLS</td><td>bse</td><td>1324256609</td><td>1524256609</td><td>List(CANADA, Lokesh, Hyderabad, 755103)</td></tr><tr><td>Blob</td><td>exchange</td><td>1424256609</td><td>1724256609</td><td>List(US, Sharath, Kochin, 120103)</td></tr><tr><td>SQL</td><td>Stock</td><td>1524256609</td><td>1664256609</td><td>List(SWEDEN, Sheetal, Delhi, 875103)</td></tr><tr><td>datawarehouse</td><td>azure</td><td>1624256609</td><td>1874256609</td><td>List(UK, Raj, Mumbai, 123403)</td></tr><tr><td>oracle</td><td>ADF</td><td>1779256609</td><td>188256609</td><td>List(Norway, Synapse, Nasik, 456103)</td></tr><tr><td>SQL Server</td><td>Stock market</td><td>1524257709</td><td>1664258809</td><td>List(TURKEY, Swetha, Delhi, 875105)</td></tr><tr><td>data</td><td>Azure</td><td>16242569909</td><td>1874259909</td><td>List(London, Rajesh, Mumbai, 156403)</td></tr><tr><td>xml</td><td>data factory</td><td>1999256909</td><td>199258811</td><td>List(Paris, Azure Synapse, Nasik, 9876103)</td></tr></tbody></table></div>"
      ]
     },
     "metadata": {
      "application/vnd.databricks.v1+output": {
       "addedWidgets": {},
       "aggData": [],
       "aggError": "",
       "aggOverflow": false,
       "aggSchema": [],
       "aggSeriesLimitReached": false,
       "aggType": "",
       "arguments": {},
       "columnCustomDisplayInfos": {},
       "data": [
        [
         "catalog",
         "bravia",
         1124256609,
         1524256609,
         [
          "IND",
          "Hari",
          "Bangalore",
          "560103"
         ]
        ],
        [
         "SAP",
         "sony",
         1224256609,
         1424256609,
         [
          "US",
          "Rajesh",
          "Chennai",
          "860103"
         ]
        ],
        [
         "ADLS",
         "bse",
         1324256609,
         1524256609,
         [
          "CANADA",
          "Lokesh",
          "Hyderabad",
          "755103"
         ]
        ],
        [
         "Blob",
         "exchange",
         1424256609,
         1724256609,
         [
          "US",
          "Sharath",
          "Kochin",
          "120103"
         ]
        ],
        [
         "SQL",
         "Stock",
         1524256609,
         1664256609,
         [
          "SWEDEN",
          "Sheetal",
          "Delhi",
          "875103"
         ]
        ],
        [
         "datawarehouse",
         "azure",
         1624256609,
         1874256609,
         [
          "UK",
          "Raj",
          "Mumbai",
          "123403"
         ]
        ],
        [
         "oracle",
         "ADF",
         1779256609,
         188256609,
         [
          "Norway",
          "Synapse",
          "Nasik",
          "456103"
         ]
        ],
        [
         "SQL Server",
         "Stock market",
         1524257709,
         1664258809,
         [
          "TURKEY",
          "Swetha",
          "Delhi",
          "875105"
         ]
        ],
        [
         "data",
         "Azure",
         16242569909,
         1874259909,
         [
          "London",
          "Rajesh",
          "Mumbai",
          "156403"
         ]
        ],
        [
         "xml",
         "data factory",
         1999256909,
         199258811,
         [
          "Paris",
          "Azure Synapse",
          "Nasik",
          "9876103"
         ]
        ]
       ],
       "datasetInfos": [],
       "dbfsResultPath": null,
       "isJsonSchema": true,
       "metadata": {
        "isDbfsCommandResult": false
       },
       "overflow": false,
       "plotOptions": {
        "customPlotOptions": {},
        "displayType": "table",
        "pivotAggregation": null,
        "pivotColumns": null,
        "xColumns": null,
        "yColumns": null
       },
       "removedWidgets": [],
       "schema": [
        {
         "metadata": "{}",
         "name": "source",
         "type": "\"string\""
        },
        {
         "metadata": "{}",
         "name": "description",
         "type": "\"string\""
        },
        {
         "metadata": "{}",
         "name": "input_timestamp",
         "type": "\"long\""
        },
        {
         "metadata": "{}",
         "name": "last_update_timestamp",
         "type": "\"long\""
        },
        {
         "metadata": "{}",
         "name": "Address",
         "type": "{\"type\":\"struct\",\"fields\":[{\"name\":\"country\",\"type\":\"string\",\"nullable\":true,\"metadata\":{}},{\"name\":\"user\",\"type\":\"string\",\"nullable\":true,\"metadata\":{}},{\"name\":\"Location\",\"type\":\"string\",\"nullable\":true,\"metadata\":{}},{\"name\":\"Zipcode\",\"type\":\"string\",\"nullable\":true,\"metadata\":{}}]}"
        }
       ],
       "type": "table"
      }
     },
     "output_type": "display_data"
    }
   ],
   "source": [
    "stream_json.writeStream\\\n",
    "           .format('parquet')\\\n",
    "           .outputMode('append')\\\n",
    "           .option(\"path\", f\"/FileStore/tables/Streaming/Stream_writeStream/json/{Source_Ver}\")\\\n",
    "           .option(\"checkpointLocation\", sales_enr_chkpoint)\\\n",
    "           .start()\n",
    "\n",
    "display(stream_json)"
   ]
  },
  {
   "cell_type": "markdown",
   "metadata": {
    "application/vnd.databricks.v1+cell": {
     "cellMetadata": {},
     "inputWidgets": {},
     "nuid": "02a6455a-c0d3-49f0-8bd0-7df5f591eed1",
     "showTitle": false,
     "tableResultSettingsMap": {},
     "title": ""
    }
   },
   "source": [
    "You can access the **current value** of the widget or get a mapping of **all widgets**:\n",
    "\n",
    "     dbutils.widgets.get(\"state\")\n",
    "     dbutils.widgets.getAll()"
   ]
  },
  {
   "cell_type": "code",
   "execution_count": 0,
   "metadata": {
    "application/vnd.databricks.v1+cell": {
     "cellMetadata": {
      "byteLimit": 2048000,
      "rowLimit": 10000
     },
     "inputWidgets": {},
     "nuid": "e0662d3e-3b6f-4aaa-a5ba-27738a5c7478",
     "showTitle": true,
     "tableResultSettingsMap": {},
     "title": "retrieve all widgets"
    }
   },
   "outputs": [
    {
     "output_type": "execute_result",
     "data": {
      "text/plain": [
       "{'Rev_Ver': 'Rev01', 'Source_Ver': 'Set01'}"
      ]
     },
     "execution_count": 74,
     "metadata": {},
     "output_type": "execute_result"
    }
   ],
   "source": [
    "# retrieve all widgets\n",
    "dbutils.widgets.getAll()"
   ]
  }
 ],
 "metadata": {
  "application/vnd.databricks.v1+notebook": {
   "dashboards": [],
   "environmentMetadata": null,
   "language": "python",
   "notebookMetadata": {
    "mostRecentlyExecutedCommandWithImplicitDF": {
     "commandId": 2891388696015995,
     "dataframes": [
      "_sqldf"
     ]
    },
    "pythonIndentUnit": 4
   },
   "notebookName": "15_dbutils.widgets.text",
   "widgets": {
    "Rev_Ver": {
     "currentValue": "Rev01",
     "nuid": "126a6e21-23ad-4e9c-b05b-cf5b241e4e19",
     "typedWidgetInfo": null,
     "widgetInfo": {
      "widgetType": "text",
      "defaultValue": "Rev01",
      "label": "Rev Ver",
      "name": "Rev_Ver",
      "options": {
       "widgetType": "text",
       "autoCreated": null,
       "validationRegex": null
      }
     }
    },
    "Source_Ver": {
     "currentValue": "Set02",
     "nuid": "7e4ef1ef-8417-4aef-abed-16b86f2b6d35",
     "typedWidgetInfo": null,
     "widgetInfo": {
      "widgetType": "text",
      "defaultValue": "",
      "label": "Source Ver",
      "name": "Source_Ver",
      "options": {
       "widgetType": "text",
       "autoCreated": null,
       "validationRegex": null
      }
     }
    }
   }
  }
 },
 "nbformat": 4,
 "nbformat_minor": 0
}
