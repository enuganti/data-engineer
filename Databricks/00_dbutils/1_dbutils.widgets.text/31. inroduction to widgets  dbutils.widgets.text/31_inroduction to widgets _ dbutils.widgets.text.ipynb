{
 "cells": [
  {
   "cell_type": "markdown",
   "metadata": {
    "application/vnd.databricks.v1+cell": {
     "cellMetadata": {},
     "inputWidgets": {},
     "nuid": "7bab6c0e-b9c8-4564-accc-f0a798e62b8c",
     "showTitle": false,
     "tableResultSettingsMap": {},
     "title": ""
    }
   },
   "source": [
    "**widgets**\n",
    "\n",
    "- Databricks widgets are interactive input components that can be added to notebooks to **parameterize** them and make them more **reusable**. Widgets enable the passing of **arguments and variables** into notebooks in a simple way, **eliminating** the need to **hardcode values**.\n",
    "\n",
    "- Databricks widgets make notebooks **highly reusable** by letting users **change inputs dynamically** at runtime instead of having **hardcoded values**, which allows the same notebook to be used repeatedly with different configurations."
   ]
  },
  {
   "cell_type": "markdown",
   "metadata": {
    "application/vnd.databricks.v1+cell": {
     "cellMetadata": {},
     "inputWidgets": {},
     "nuid": "3492d211-0885-435b-971b-6fadf6f8b5a4",
     "showTitle": false,
     "tableResultSettingsMap": {},
     "title": ""
    }
   },
   "source": [
    "**There are 4 types of widgets:**\n",
    "- text\n",
    "- dropdown\n",
    "- combobox\n",
    "- multiselect"
   ]
  },
  {
   "cell_type": "markdown",
   "metadata": {
    "application/vnd.databricks.v1+cell": {
     "cellMetadata": {},
     "inputWidgets": {},
     "nuid": "d2f01925-c89b-451b-b2e8-7dc91d2437c1",
     "showTitle": false,
     "tableResultSettingsMap": {},
     "title": ""
    }
   },
   "source": [
    "#### Syntax\n",
    "\n",
    "     dbutils.widgets.text(name='your_name_text', defaultValue='Enter your name', label='Your name')"
   ]
  },
  {
   "cell_type": "code",
   "execution_count": 0,
   "metadata": {
    "application/vnd.databricks.v1+cell": {
     "cellMetadata": {
      "byteLimit": 2048000,
      "rowLimit": 10000
     },
     "inputWidgets": {},
     "nuid": "fd75f613-1f11-4ec8-965f-495a9ebd45ce",
     "showTitle": false,
     "tableResultSettingsMap": {},
     "title": ""
    }
   },
   "outputs": [
    {
     "output_type": "display_data",
     "data": {
      "text/html": [
       "<div class = \"ansiout\">\n",
       "This module provides various utilities for users to interact with the rest of Databricks.\n",
       "  <h3></h3><b>credentials: DatabricksCredentialUtils</b> -> Utilities for interacting with credentials within notebooks<br /><b>data: DataUtils</b> -> Utilities for understanding and interacting with datasets (EXPERIMENTAL)<br /><b>fs: DbfsUtils</b> -> Manipulates the Databricks filesystem (DBFS) from the console<br /><b>jobs: JobsUtils</b> -> Utilities for leveraging jobs features<br /><b>library: LibraryUtils</b> -> Utilities for session isolated libraries<br /><b>meta: MetaUtils</b> -> Methods to hook into the compiler (EXPERIMENTAL)<br /><b>notebook: NotebookUtils</b> -> Utilities for the control flow of a notebook (EXPERIMENTAL)<br /><b>preview: Preview</b> -> Utilities under preview category<br /><b>secrets: SecretUtils</b> -> Provides utilities for leveraging secrets within notebooks<br /><b>widgets: WidgetsUtils</b> -> Methods to create and get bound value of input widgets inside notebooks<br /><br /></div>"
      ]
     },
     "metadata": {},
     "output_type": "display_data"
    }
   ],
   "source": [
    "dbutils.help()"
   ]
  },
  {
   "cell_type": "code",
   "execution_count": 0,
   "metadata": {
    "application/vnd.databricks.v1+cell": {
     "cellMetadata": {
      "byteLimit": 2048000,
      "rowLimit": 10000
     },
     "inputWidgets": {},
     "nuid": "3f3e1c4e-34be-4f83-b386-399f0f9ad5c4",
     "showTitle": false,
     "tableResultSettingsMap": {},
     "title": ""
    }
   },
   "outputs": [
    {
     "output_type": "display_data",
     "data": {
      "text/html": [
       "<div class = \"ansiout\"><b>dbutils.widgets</b> provides utilities for working with notebook widgets. You can create\n",
       "different types of widgets and get their bound value.\n",
       "\n",
       "For more info about a method, use <b>dbutils.widgets.help(\"methodName\")</b>.\n",
       "    <h3></h3><b>combobox(name: String, defaultValue: String, choices: Seq, label: String): void</b> -> Creates a combobox input widget with a given name, default value and choices<br /><b>dropdown(name: String, defaultValue: String, choices: Seq, label: String): void</b> -> Creates a dropdown input widget a with given name, default value and choices<br /><b>get(name: String): String</b> -> Retrieves current value of an input widget<br /><b>getAll: Map</b> -> Retrieves a mapping of all current values of the input widgets<br /><b>getArgument(name: String, optional: String): String</b> -> (DEPRECATED) Equivalent to get<br /><b>multiselect(name: String, defaultValue: String, choices: Seq, label: String): void</b> -> Creates a multiselect input widget with a given name, default value and choices<br /><b>remove(name: String): void</b> -> Removes an input widget from the notebook<br /><b>removeAll: void</b> -> Removes all widgets in the notebook<br /><b>text(name: String, defaultValue: String, label: String): void</b> -> Creates a text input widget with a given name and default value<br /><br /></div>"
      ]
     },
     "metadata": {},
     "output_type": "display_data"
    }
   ],
   "source": [
    "# Get widgets documentation\n",
    "dbutils.widgets.help()"
   ]
  },
  {
   "cell_type": "code",
   "execution_count": 0,
   "metadata": {
    "application/vnd.databricks.v1+cell": {
     "cellMetadata": {
      "byteLimit": 2048000,
      "rowLimit": 10000
     },
     "inputWidgets": {},
     "nuid": "ee11956e-9ea4-46c8-a0c0-ca0f142c153a",
     "showTitle": false,
     "tableResultSettingsMap": {},
     "title": ""
    }
   },
   "outputs": [
    {
     "output_type": "display_data",
     "data": {
      "text/html": [
       "<div class = \"ansiout\">/**<br /> * Creates a text input widget with a given name and default value. Optionally, you can provide<br /> * a label for the text widget that will be rendered in place of the name. If widget with a<br /> * given name already exists, its properties will be overwritten.<br /> * <br /> * Example: dbutils.widgets.text(\"product\", \"Camera\", label = \"Product Name\")<br /> * <br /> * @param name unique name identifying the widget<br /> * @param defaultValue value with which widget is populated by default<br /> * @param label optional widget label<br /> */<br /><b>text(name: java.lang.String, defaultValue: java.lang.String, label: java.lang.String): void</b></div><br />"
      ]
     },
     "metadata": {},
     "output_type": "display_data"
    }
   ],
   "source": [
    "dbutils.widgets.help(\"text\")"
   ]
  },
  {
   "cell_type": "markdown",
   "metadata": {
    "application/vnd.databricks.v1+cell": {
     "cellMetadata": {},
     "inputWidgets": {},
     "nuid": "d257ad70-c5ee-4d65-a2b5-d900e5ccfe11",
     "showTitle": false,
     "tableResultSettingsMap": {},
     "title": ""
    }
   },
   "source": [
    "##### Method 1:\n",
    "- **Create widgets using the UI**\n",
    "  - **Edit => Add Parameter**"
   ]
  },
  {
   "cell_type": "markdown",
   "metadata": {
    "application/vnd.databricks.v1+cell": {
     "cellMetadata": {},
     "inputWidgets": {},
     "nuid": "2a55779a-0939-4c58-a525-c71797f47296",
     "showTitle": false,
     "tableResultSettingsMap": {},
     "title": ""
    }
   },
   "source": [
    "##### Method 2:\n",
    "- With **widget name + default value (\"\")**"
   ]
  },
  {
   "cell_type": "markdown",
   "metadata": {
    "application/vnd.databricks.v1+cell": {
     "cellMetadata": {},
     "inputWidgets": {},
     "nuid": "7edebdc6-dfd4-44a2-9278-44a5c07ff46b",
     "showTitle": false,
     "tableResultSettingsMap": {},
     "title": ""
    }
   },
   "source": [
    "      dbutils.widgets.text(name=\"input\", defaultValue=\"\")\n",
    "                       (or)\n",
    "      dbutils.widgets.text(\"input\", \"\")"
   ]
  },
  {
   "cell_type": "code",
   "execution_count": 0,
   "metadata": {
    "application/vnd.databricks.v1+cell": {
     "cellMetadata": {
      "byteLimit": 2048000,
      "rowLimit": 10000
     },
     "inputWidgets": {},
     "nuid": "6e01e1f7-4587-4c7e-bffd-4f851a9e1fe5",
     "showTitle": false,
     "tableResultSettingsMap": {},
     "title": ""
    }
   },
   "outputs": [],
   "source": [
    "dbutils.widgets.text(\"bronze_empty\", \"\")"
   ]
  },
  {
   "cell_type": "code",
   "execution_count": 0,
   "metadata": {
    "application/vnd.databricks.v1+cell": {
     "cellMetadata": {
      "byteLimit": 2048000,
      "rowLimit": 10000
     },
     "inputWidgets": {},
     "nuid": "edb2ec76-a19e-4595-aab8-15d6a1c4df6e",
     "showTitle": false,
     "tableResultSettingsMap": {},
     "title": ""
    }
   },
   "outputs": [
    {
     "output_type": "stream",
     "name": "stdout",
     "output_type": "stream",
     "text": [
      "\n"
     ]
    }
   ],
   "source": [
    "dbutils.widgets.text(\"bronze_empty\", \"\")\n",
    "print(dbutils.widgets.get(\"bronze_empty\"))"
   ]
  },
  {
   "cell_type": "markdown",
   "metadata": {
    "application/vnd.databricks.v1+cell": {
     "cellMetadata": {},
     "inputWidgets": {},
     "nuid": "a2add066-23f4-462d-bda1-93aa82bdf02e",
     "showTitle": false,
     "tableResultSettingsMap": {},
     "title": ""
    }
   },
   "source": [
    "      dbutils.widgets.text(name=\"input\", defaultValue=\"internal\")\n",
    "                       (or)\n",
    "      dbutils.widgets.text(\"input\", \"internal\")"
   ]
  },
  {
   "cell_type": "code",
   "execution_count": 0,
   "metadata": {
    "application/vnd.databricks.v1+cell": {
     "cellMetadata": {
      "byteLimit": 2048000,
      "rowLimit": 10000
     },
     "inputWidgets": {},
     "nuid": "a3daa4bf-cdb3-4663-8435-f85b6296ebba",
     "showTitle": false,
     "tableResultSettingsMap": {},
     "title": ""
    }
   },
   "outputs": [
    {
     "output_type": "stream",
     "name": "stdout",
     "output_type": "stream",
     "text": [
      "internal\n"
     ]
    }
   ],
   "source": [
    "dbutils.widgets.text(\"bronze_default\", \"internal\")\n",
    "print(dbutils.widgets.get(\"bronze_default\"))"
   ]
  },
  {
   "cell_type": "markdown",
   "metadata": {
    "application/vnd.databricks.v1+cell": {
     "cellMetadata": {},
     "inputWidgets": {},
     "nuid": "55fe437d-d373-4a1e-94c8-6b9979ff1a15",
     "showTitle": false,
     "tableResultSettingsMap": {},
     "title": ""
    }
   },
   "source": [
    "##### Method 3:\n",
    "- With **widget name + default value + custom label**"
   ]
  },
  {
   "cell_type": "markdown",
   "metadata": {
    "application/vnd.databricks.v1+cell": {
     "cellMetadata": {},
     "inputWidgets": {},
     "nuid": "b0fb31f3-7f0d-4c3a-b4f7-4104d491ced2",
     "showTitle": false,
     "tableResultSettingsMap": {},
     "title": ""
    }
   },
   "source": [
    "      dbutils.widgets.text(\"bronze_custom\", \"\", \"Input Label\")\n",
    "      print(dbutils.widgets.get(\"bronze_custom\"))\n",
    "                       (or)\n",
    "      dbutils.widgets.text(name=\"bronze_custom\", defaultValue=\"\", label=\"Input Label\")\n",
    "      print(dbutils.widgets.get(\"bronze_custom\"))                 "
   ]
  },
  {
   "cell_type": "code",
   "execution_count": 0,
   "metadata": {
    "application/vnd.databricks.v1+cell": {
     "cellMetadata": {
      "byteLimit": 2048000,
      "rowLimit": 10000
     },
     "inputWidgets": {},
     "nuid": "15cb110c-c0ec-42bf-bf68-b619b7509c05",
     "showTitle": false,
     "tableResultSettingsMap": {},
     "title": ""
    }
   },
   "outputs": [
    {
     "output_type": "stream",
     "name": "stdout",
     "output_type": "stream",
     "text": [
      "The widget value is: \n"
     ]
    }
   ],
   "source": [
    "# Create a text widget with name \"input\" and default value \"\"\n",
    "dbutils.widgets.text(\"bronze_custom\", \"\", \"Input Label\")\n",
    "\n",
    "# Get the value from the widget\n",
    "value = dbutils.widgets.get(\"bronze_custom\")\n",
    "print(f\"The widget value is: {value}\")"
   ]
  },
  {
   "cell_type": "code",
   "execution_count": 0,
   "metadata": {
    "application/vnd.databricks.v1+cell": {
     "cellMetadata": {
      "byteLimit": 2048000,
      "rowLimit": 10000
     },
     "inputWidgets": {},
     "nuid": "a716404c-d58a-451f-b72b-453d3cae1d2b",
     "showTitle": false,
     "tableResultSettingsMap": {},
     "title": ""
    }
   },
   "outputs": [
    {
     "output_type": "stream",
     "name": "stdout",
     "output_type": "stream",
     "text": [
      "The widget value is: classified\n"
     ]
    }
   ],
   "source": [
    "# Create a text widget with name \"input\" and default value \"classified\"\n",
    "dbutils.widgets.text(\"bronze_custom_default\", \"classified\", \"bronze Label\")\n",
    "\n",
    "# Get the value from the widget\n",
    "value = dbutils.widgets.get(\"bronze_custom_default\")\n",
    "print(f\"The widget value is: {value}\")"
   ]
  },
  {
   "cell_type": "markdown",
   "metadata": {
    "application/vnd.databricks.v1+cell": {
     "cellMetadata": {},
     "inputWidgets": {},
     "nuid": "bca78ad5-9521-4988-9fc7-2478fdf33b3c",
     "showTitle": false,
     "tableResultSettingsMap": {},
     "title": ""
    }
   },
   "source": [
    "##### Method 4:\n",
    "- **Overwrite an existing widget**\n",
    "- If the widget **already exists**, calling the same method again will **overwrite** it."
   ]
  },
  {
   "cell_type": "code",
   "execution_count": 0,
   "metadata": {
    "application/vnd.databricks.v1+cell": {
     "cellMetadata": {
      "byteLimit": 2048000,
      "rowLimit": 10000
     },
     "inputWidgets": {},
     "nuid": "8b9a043e-a19a-4977-9efd-7bdef39e7478",
     "showTitle": true,
     "tableResultSettingsMap": {},
     "title": "overwrite: label"
    }
   },
   "outputs": [
    {
     "output_type": "stream",
     "name": "stdout",
     "output_type": "stream",
     "text": [
      "The widget value is: classified\n"
     ]
    }
   ],
   "source": [
    "# Replace with new label\n",
    "\n",
    "# Create a text widget with name \"input\" and default value \"classified\"\n",
    "dbutils.widgets.text(\"bronze_custom_default\", \"classified\", \"silver Label\")\n",
    "\n",
    "# Get the value from the widget\n",
    "value = dbutils.widgets.get(\"bronze_custom_default\")\n",
    "print(f\"The widget value is: {value}\")"
   ]
  },
  {
   "cell_type": "code",
   "execution_count": 0,
   "metadata": {
    "application/vnd.databricks.v1+cell": {
     "cellMetadata": {
      "byteLimit": 2048000,
      "rowLimit": 10000
     },
     "inputWidgets": {},
     "nuid": "78347c9d-80e1-4f6f-9b52-fbb6579f4005",
     "showTitle": false,
     "tableResultSettingsMap": {},
     "title": ""
    }
   },
   "outputs": [
    {
     "output_type": "stream",
     "name": "stdout",
     "output_type": "stream",
     "text": [
      "Run date is: 2025-08-22\n"
     ]
    }
   ],
   "source": [
    "# First definition\n",
    "dbutils.widgets.text(\"run_date\", \"2025-01-01\", \"Run Date\")\n",
    "\n",
    "# Redefine with a new default value\n",
    "dbutils.widgets.text(\"run_date\", \"2025-08-22\", \"Run Date (Updated)\")\n",
    "\n",
    "# Get the latest value\n",
    "run_date = dbutils.widgets.get(\"run_date\")\n",
    "print(f\"Run date is: {run_date}\")"
   ]
  },
  {
   "cell_type": "markdown",
   "metadata": {
    "application/vnd.databricks.v1+cell": {
     "cellMetadata": {},
     "inputWidgets": {},
     "nuid": "6e3dd702-60ab-4a8a-82b9-9eec937f2682",
     "showTitle": false,
     "tableResultSettingsMap": {},
     "title": ""
    }
   },
   "source": [
    "##### 1) Displaying All Widget Values"
   ]
  },
  {
   "cell_type": "code",
   "execution_count": 0,
   "metadata": {
    "application/vnd.databricks.v1+cell": {
     "cellMetadata": {
      "byteLimit": 2048000,
      "rowLimit": 10000
     },
     "inputWidgets": {},
     "nuid": "f0ff342f-7608-48bb-b3e5-190881c25a1d",
     "showTitle": true,
     "tableResultSettingsMap": {},
     "title": "Method 01"
    }
   },
   "outputs": [
    {
     "output_type": "stream",
     "name": "stdout",
     "output_type": "stream",
     "text": [
      "username : \ncity : \nrun_date : \ninput_path : \ncountry : \n"
     ]
    }
   ],
   "source": [
    "# Define widgets with default values\n",
    "dbutils.widgets.text(\"username\", \"\")\n",
    "dbutils.widgets.text(\"city\", \"\")\n",
    "dbutils.widgets.text(\"run_date\", \"\")\n",
    "dbutils.widgets.text(\"input_path\", \"\")\n",
    "dbutils.widgets.text(\"country\", \"\")\n",
    "\n",
    "# Print out all current widget values\n",
    "for widget_name in [\n",
    "    \"username\",\n",
    "    \"city\",\n",
    "    \"run_date\",\n",
    "    \"input_path\",\n",
    "    \"country\"\n",
    "]:\n",
    "    print(\n",
    "        widget_name,\n",
    "        \":\",\n",
    "        dbutils.widgets.get(widget_name)\n",
    "    )"
   ]
  },
  {
   "cell_type": "code",
   "execution_count": 0,
   "metadata": {
    "application/vnd.databricks.v1+cell": {
     "cellMetadata": {
      "byteLimit": 2048000,
      "rowLimit": 10000
     },
     "inputWidgets": {},
     "nuid": "cbd1524a-18b5-4821-a3e6-d1bbbe714668",
     "showTitle": true,
     "tableResultSettingsMap": {},
     "title": "Method 02"
    }
   },
   "outputs": [
    {
     "output_type": "execute_result",
     "data": {
      "text/plain": [
       "{'city': 'bangalore',\n",
       " 'bronze_custom_default': 'classified',\n",
       " 'username': '@AzureADB',\n",
       " 'run_date': '2025-08-22',\n",
       " 'bronze_custom': '',\n",
       " 'country': 'india',\n",
       " 'bronze_empty': '',\n",
       " 'input_path': 'bronze/silver/gold',\n",
       " 'adlsname': 'container',\n",
       " 'bronze_default': 'internal'}"
      ]
     },
     "execution_count": 53,
     "metadata": {},
     "output_type": "execute_result"
    }
   ],
   "source": [
    "dbutils.widgets.getAll()"
   ]
  },
  {
   "cell_type": "markdown",
   "metadata": {
    "application/vnd.databricks.v1+cell": {
     "cellMetadata": {},
     "inputWidgets": {},
     "nuid": "dc8e01d8-6100-479b-8822-311b5a3cb2fb",
     "showTitle": false,
     "tableResultSettingsMap": {},
     "title": ""
    }
   },
   "source": [
    "##### 2) Remove widgets"
   ]
  },
  {
   "cell_type": "markdown",
   "metadata": {
    "application/vnd.databricks.v1+cell": {
     "cellMetadata": {},
     "inputWidgets": {},
     "nuid": "15f0107c-db94-4b5f-a38c-37a7e4427aba",
     "showTitle": false,
     "tableResultSettingsMap": {},
     "title": ""
    }
   },
   "source": [
    "**Method 01:**\n",
    "- Remove widget by manual way (**Remove parameter**)"
   ]
  },
  {
   "cell_type": "code",
   "execution_count": 0,
   "metadata": {
    "application/vnd.databricks.v1+cell": {
     "cellMetadata": {},
     "inputWidgets": {},
     "nuid": "403f4ae2-b32f-4118-9f4f-5c8cdfb52f90",
     "showTitle": false,
     "tableResultSettingsMap": {},
     "title": ""
    }
   },
   "outputs": [],
   "source": [
    "# Remove a specific widget\n",
    "dbutils.widgets.remove(\"city\")"
   ]
  },
  {
   "cell_type": "code",
   "execution_count": 0,
   "metadata": {
    "application/vnd.databricks.v1+cell": {
     "cellMetadata": {
      "byteLimit": 2048000,
      "rowLimit": 10000
     },
     "inputWidgets": {},
     "nuid": "602c32b3-5c56-43aa-8474-f8f56820420b",
     "showTitle": true,
     "tableResultSettingsMap": {},
     "title": "Method 02"
    }
   },
   "outputs": [],
   "source": [
    "# Remove a specific widget\n",
    "# dbutils.widgets.remove(\"city\")\n",
    "dbutils.widgets.remove(\"country\")"
   ]
  },
  {
   "cell_type": "code",
   "execution_count": 0,
   "metadata": {
    "application/vnd.databricks.v1+cell": {
     "cellMetadata": {
      "byteLimit": 2048000,
      "rowLimit": 10000
     },
     "inputWidgets": {},
     "nuid": "6647adfc-db00-49b6-82fe-99eeba23f8fc",
     "showTitle": false,
     "tableResultSettingsMap": {},
     "title": ""
    }
   },
   "outputs": [],
   "source": [
    "dbutils.widgets.remove(\"bronze_custom\")"
   ]
  },
  {
   "cell_type": "code",
   "execution_count": 0,
   "metadata": {
    "application/vnd.databricks.v1+cell": {
     "cellMetadata": {
      "byteLimit": 2048000,
      "rowLimit": 10000
     },
     "inputWidgets": {},
     "nuid": "cc5c6578-1787-4c36-8b9d-e5fff167abde",
     "showTitle": true,
     "tableResultSettingsMap": {},
     "title": "Method 03"
    }
   },
   "outputs": [],
   "source": [
    "# Remove all widgets\n",
    "dbutils.widgets.removeAll()"
   ]
  }
 ],
 "metadata": {
  "application/vnd.databricks.v1+notebook": {
   "computePreferences": {
    "hardware": {
     "accelerator": null,
     "gpuPoolId": null,
     "memory": null
    }
   },
   "dashboards": [],
   "environmentMetadata": {
    "base_environment": "",
    "environment_version": "3"
   },
   "inputWidgetPreferences": null,
   "language": "python",
   "notebookMetadata": {
    "pythonIndentUnit": 4
   },
   "notebookName": "31_inroduction to widgets | dbutils.widgets.text",
   "widgets": {
    "city": {
     "currentValue": "",
     "nuid": "f003f301-7c36-4f25-9a2e-28255459f4c3",
     "typedWidgetInfo": {
      "autoCreated": false,
      "defaultValue": "",
      "label": null,
      "name": "city",
      "options": {
       "widgetDisplayType": "Text",
       "validationRegex": null
      },
      "parameterDataType": "String"
     },
     "widgetInfo": {
      "widgetType": "text",
      "defaultValue": "",
      "label": null,
      "name": "city",
      "options": {
       "widgetType": "text",
       "autoCreated": null,
       "validationRegex": null
      }
     }
    },
    "input_path": {
     "currentValue": "",
     "nuid": "8d836e2a-e004-48ba-bd56-8b02a28d94dc",
     "typedWidgetInfo": {
      "autoCreated": false,
      "defaultValue": "",
      "label": null,
      "name": "input_path",
      "options": {
       "widgetDisplayType": "Text",
       "validationRegex": null
      },
      "parameterDataType": "String"
     },
     "widgetInfo": {
      "widgetType": "text",
      "defaultValue": "",
      "label": null,
      "name": "input_path",
      "options": {
       "widgetType": "text",
       "autoCreated": null,
       "validationRegex": null
      }
     }
    },
    "run_date": {
     "currentValue": "",
     "nuid": "825c55be-01f0-4ec8-8d9d-20bc508d641b",
     "typedWidgetInfo": {
      "autoCreated": false,
      "defaultValue": "",
      "label": null,
      "name": "run_date",
      "options": {
       "widgetDisplayType": "Text",
       "validationRegex": null
      },
      "parameterDataType": "String"
     },
     "widgetInfo": {
      "widgetType": "text",
      "defaultValue": "",
      "label": null,
      "name": "run_date",
      "options": {
       "widgetType": "text",
       "autoCreated": null,
       "validationRegex": null
      }
     }
    },
    "username": {
     "currentValue": "",
     "nuid": "ab645ff6-2068-4c8f-99da-70c110372d85",
     "typedWidgetInfo": {
      "autoCreated": false,
      "defaultValue": "",
      "label": null,
      "name": "username",
      "options": {
       "widgetDisplayType": "Text",
       "validationRegex": null
      },
      "parameterDataType": "String"
     },
     "widgetInfo": {
      "widgetType": "text",
      "defaultValue": "",
      "label": null,
      "name": "username",
      "options": {
       "widgetType": "text",
       "autoCreated": null,
       "validationRegex": null
      }
     }
    }
   }
  },
  "language_info": {
   "name": "python"
  }
 },
 "nbformat": 4,
 "nbformat_minor": 0
}