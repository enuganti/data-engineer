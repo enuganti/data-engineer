{
 "cells": [
  {
   "cell_type": "markdown",
   "metadata": {
    "application/vnd.databricks.v1+cell": {
     "cellMetadata": {},
     "inputWidgets": {},
     "nuid": "e79cd925-fd97-4326-986d-4239e8850ee3",
     "showTitle": false,
     "tableResultSettingsMap": {},
     "title": ""
    }
   },
   "source": [
    "#### How to generate below parameters using databricks.widgets.text & databricks.widgets.get?\n",
    "- **restapi url**\n",
    "- **Full table name** (catalog name.schema.table name)\n",
    "- Extract **catalog name** from full table name\n",
    "- Extract **schema** from full table name"
   ]
  },
  {
   "cell_type": "markdown",
   "metadata": {
    "application/vnd.databricks.v1+cell": {
     "cellMetadata": {},
     "inputWidgets": {},
     "nuid": "3c4ddb03-ac98-4fee-9668-599b4e0b0eba",
     "showTitle": false,
     "tableResultSettingsMap": {},
     "title": ""
    }
   },
   "source": [
    "#### Syntax\n",
    "\n",
    "     dbutils.widgets.text(name='your_name_text', defaultValue='Enter your name', label='Your name')"
   ]
  },
  {
   "cell_type": "markdown",
   "metadata": {
    "application/vnd.databricks.v1+cell": {
     "cellMetadata": {},
     "inputWidgets": {},
     "nuid": "26246d28-e6ff-415b-b68e-b60536a95341",
     "showTitle": false,
     "tableResultSettingsMap": {},
     "title": ""
    }
   },
   "source": [
    "     # Remove a specific widget\n",
    "     dbutils.widgets.remove(\"API_URL\")\n",
    "\n",
    "     # Remove all widgets\n",
    "     dbutils.widgets.removeAll()"
   ]
  },
  {
   "cell_type": "code",
   "execution_count": 0,
   "metadata": {
    "application/vnd.databricks.v1+cell": {
     "cellMetadata": {
      "byteLimit": 2048000,
      "rowLimit": 10000
     },
     "inputWidgets": {},
     "nuid": "d2b81619-d010-4ef6-88d4-3b440ba088e8",
     "showTitle": false,
     "tableResultSettingsMap": {},
     "title": ""
    }
   },
   "outputs": [],
   "source": [
    "# Remove a specific widget\n",
    "dbutils.widgets.remove(\"ENV_ID\")"
   ]
  },
  {
   "cell_type": "code",
   "execution_count": 0,
   "metadata": {
    "application/vnd.databricks.v1+cell": {
     "cellMetadata": {
      "byteLimit": 2048000,
      "rowLimit": 10000
     },
     "inputWidgets": {},
     "nuid": "775e9c9f-33d8-4811-bd62-d460abe56ac4",
     "showTitle": false,
     "tableResultSettingsMap": {},
     "title": ""
    }
   },
   "outputs": [],
   "source": [
    "# Remove all widgets\n",
    "dbutils.widgets.removeAll()"
   ]
  },
  {
   "cell_type": "code",
   "execution_count": 0,
   "metadata": {
    "application/vnd.databricks.v1+cell": {
     "cellMetadata": {
      "byteLimit": 2048000,
      "rowLimit": 10000
     },
     "inputWidgets": {},
     "nuid": "5b37b4ee-7935-4185-882e-e63bb4b28886",
     "showTitle": false,
     "tableResultSettingsMap": {},
     "title": ""
    }
   },
   "outputs": [],
   "source": [
    "dbutils.widgets.text(\"SCHEDULE_DATE\", \"\", \"SCHEDULE DATE\")"
   ]
  },
  {
   "cell_type": "code",
   "execution_count": 0,
   "metadata": {
    "application/vnd.databricks.v1+cell": {
     "cellMetadata": {
      "byteLimit": 2048000,
      "rowLimit": 10000
     },
     "inputWidgets": {},
     "nuid": "9f82019b-998e-4ba3-a57f-83aa3b310e9e",
     "showTitle": false,
     "tableResultSettingsMap": {},
     "title": ""
    }
   },
   "outputs": [
    {
     "output_type": "execute_result",
     "data": {
      "text/plain": [
       "'2025-08-26'"
      ]
     },
     "execution_count": 50,
     "metadata": {},
     "output_type": "execute_result"
    }
   ],
   "source": [
    "dbutils.widgets.get(\"SCHEDULE_DATE\")"
   ]
  },
  {
   "cell_type": "code",
   "execution_count": 0,
   "metadata": {
    "application/vnd.databricks.v1+cell": {
     "cellMetadata": {
      "byteLimit": 2048000,
      "rowLimit": 10000
     },
     "inputWidgets": {},
     "nuid": "90843397-06a1-4e93-88aa-f1ce54b5fcdb",
     "showTitle": false,
     "tableResultSettingsMap": {},
     "title": ""
    }
   },
   "outputs": [
    {
     "output_type": "stream",
     "name": "stdout",
     "output_type": "stream",
     "text": [
      "2025-08-26\n"
     ]
    }
   ],
   "source": [
    "PARAM_SCHEDULE_DATE = dbutils.widgets.get(\"SCHEDULE_DATE\")\n",
    "print(PARAM_SCHEDULE_DATE)"
   ]
  },
  {
   "cell_type": "code",
   "execution_count": 0,
   "metadata": {
    "application/vnd.databricks.v1+cell": {
     "cellMetadata": {
      "byteLimit": 2048000,
      "rowLimit": 10000
     },
     "inputWidgets": {},
     "nuid": "701601dc-4209-4316-a66c-c2c2c6e02af5",
     "showTitle": false,
     "tableResultSettingsMap": {},
     "title": ""
    }
   },
   "outputs": [],
   "source": [
    "dbutils.widgets.text(\"DATABASE_NAME\", \"sap_dev.bronze\", \"DATABASE_NAME\")"
   ]
  },
  {
   "cell_type": "code",
   "execution_count": 0,
   "metadata": {
    "application/vnd.databricks.v1+cell": {
     "cellMetadata": {
      "byteLimit": 2048000,
      "rowLimit": 10000
     },
     "inputWidgets": {},
     "nuid": "ba5f6805-ee39-4e55-aed7-417f38289090",
     "showTitle": false,
     "tableResultSettingsMap": {},
     "title": ""
    }
   },
   "outputs": [
    {
     "output_type": "stream",
     "name": "stdout",
     "output_type": "stream",
     "text": [
      "sap_dev.bronze\n"
     ]
    }
   ],
   "source": [
    "PARAM_DATABASE_NAME = dbutils.widgets.get(\"DATABASE_NAME\")\n",
    "print(PARAM_DATABASE_NAME)"
   ]
  },
  {
   "cell_type": "code",
   "execution_count": 0,
   "metadata": {
    "application/vnd.databricks.v1+cell": {
     "cellMetadata": {
      "byteLimit": 2048000,
      "rowLimit": 10000
     },
     "inputWidgets": {},
     "nuid": "2c8110f1-cab1-4295-8eb1-21d5069da91f",
     "showTitle": false,
     "tableResultSettingsMap": {},
     "title": ""
    }
   },
   "outputs": [
    {
     "output_type": "stream",
     "name": "stdout",
     "output_type": "stream",
     "text": [
      "PARAM_SCHEDULE_DATE: 2025-08-26\nPARAM_ENV_ID: 15346\nPARAM_DATABASE_NAME: sap_dev.bronze\nPARAM_SOURCE_TABLE_NAME: sales\nPARAM_TARGET_TABLE_NAME: salesOrder\nPARAM_API_URL: restapi\nPARAM_TYPE_OF_INGESTION: FULL\n"
     ]
    }
   ],
   "source": [
    "dbutils.widgets.removeAll()\n",
    "\n",
    "dbutils.widgets.text(\"SCHEDULE_DATE\", \"\", \"SCHEDULE_DATE\")\n",
    "dbutils.widgets.text(\"ENV_ID\", \"\", \"ENV_ID\")\n",
    "dbutils.widgets.text(\"DATABASE_NAME\", \"sap_dev.bronze\", \"DATABASE_NAME\")\n",
    "dbutils.widgets.text(\"SOURCE_TABLE_NAME\", \"\", \"SOURCE_TABLE_NAME\")\n",
    "dbutils.widgets.text(\"TARGET_TABLE_NAME\", \"\", \"TARGET_TABLE_NAME\")\n",
    "dbutils.widgets.text(\"API_URL\", \"\", \"API_URL\")\n",
    "dbutils.widgets.text(\"INGESTION_TYPE\", \"\", \"INGESTION_TYPE\")\n",
    "\n",
    "PARAM_SCHEDULE_DATE = dbutils.widgets.get(\"SCHEDULE_DATE\")\n",
    "PARAM_ENV_ID = dbutils.widgets.get(\"ENV_ID\")\n",
    "PARAM_DATABASE_NAME = dbutils.widgets.get(\"DATABASE_NAME\")\n",
    "PARAM_SOURCE_TABLE_NAME = dbutils.widgets.get(\"SOURCE_TABLE_NAME\")\n",
    "PARAM_TARGET_TABLE_NAME = dbutils.widgets.get(\"TARGET_TABLE_NAME\")\n",
    "PARAM_API_URL = dbutils.widgets.get(\"API_URL\")\n",
    "PARAM_TYPE_OF_INGESTION = dbutils.widgets.get(\"INGESTION_TYPE\")\n",
    "\n",
    "print(\"PARAM_SCHEDULE_DATE:\", PARAM_SCHEDULE_DATE)\n",
    "print(\"PARAM_ENV_ID:\", PARAM_ENV_ID)\n",
    "print(\"PARAM_DATABASE_NAME:\", PARAM_DATABASE_NAME)\n",
    "print(\"PARAM_SOURCE_TABLE_NAME:\", PARAM_SOURCE_TABLE_NAME)\n",
    "print(\"PARAM_TARGET_TABLE_NAME:\", PARAM_TARGET_TABLE_NAME)\n",
    "print(\"PARAM_API_URL:\", PARAM_API_URL)\n",
    "print(\"PARAM_TYPE_OF_INGESTION:\", PARAM_TYPE_OF_INGESTION)"
   ]
  },
  {
   "cell_type": "code",
   "execution_count": 0,
   "metadata": {
    "application/vnd.databricks.v1+cell": {
     "cellMetadata": {
      "byteLimit": 2048000,
      "rowLimit": 10000
     },
     "inputWidgets": {},
     "nuid": "c0c5f1af-2bf0-4003-abf1-fb9d546be8fb",
     "showTitle": false,
     "tableResultSettingsMap": {},
     "title": ""
    }
   },
   "outputs": [
    {
     "output_type": "stream",
     "name": "stdout",
     "output_type": "stream",
     "text": [
      "PARAM_UNITY_CATELOG_NAME: sap_dev\nPARAM_TABLE_NAME: bronze\nfull_tableName: sap_dev.bronze.sales\nURL_PREFIX: https://my15346restapi&$format=json&$inlinecount=allpages\n"
     ]
    }
   ],
   "source": [
    "PARAM_UNITY_CATELOG_NAME = PARAM_DATABASE_NAME.split(\".\")[0]\n",
    "PARAM_TABLE_NAME = PARAM_DATABASE_NAME.split(\".\")[1]\n",
    "\n",
    "full_tableName = PARAM_DATABASE_NAME + \".\" + PARAM_SOURCE_TABLE_NAME\n",
    "\n",
    "URL_PREFIX = (\"https://my\" + PARAM_ENV_ID + PARAM_API_URL + \"&$format=json\" + \"&$inlinecount=allpages\")\n",
    "\n",
    "print(\"PARAM_UNITY_CATELOG_NAME:\", PARAM_UNITY_CATELOG_NAME)\n",
    "print(\"PARAM_TABLE_NAME:\", PARAM_TABLE_NAME)\n",
    "print(\"full_tableName:\", full_tableName)\n",
    "print(\"URL_PREFIX:\", URL_PREFIX)"
   ]
  }
 ],
 "metadata": {
  "application/vnd.databricks.v1+notebook": {
   "computePreferences": {
    "hardware": {
     "accelerator": null,
     "gpuPoolId": null,
     "memory": null
    }
   },
   "dashboards": [],
   "environmentMetadata": {
    "base_environment": "",
    "environment_version": "3"
   },
   "inputWidgetPreferences": null,
   "language": "python",
   "notebookMetadata": {
    "pythonIndentUnit": 4
   },
   "notebookName": "35_How to create url, table name using databricks.widgets.text",
   "widgets": {
    "API_URL": {
     "currentValue": "restapi",
     "nuid": "e169f7f7-0481-43ab-a09a-13d3e14f1193",
     "typedWidgetInfo": {
      "autoCreated": false,
      "defaultValue": "",
      "label": "API_URL",
      "name": "API_URL",
      "options": {
       "widgetDisplayType": "Text",
       "validationRegex": null
      },
      "parameterDataType": "String"
     },
     "widgetInfo": {
      "widgetType": "text",
      "defaultValue": "",
      "label": "API_URL",
      "name": "API_URL",
      "options": {
       "widgetType": "text",
       "autoCreated": null,
       "validationRegex": null
      }
     }
    },
    "DATABASE_NAME": {
     "currentValue": "sap_dev.bronze",
     "nuid": "ffa116bb-b786-4971-9d99-e1458c7251d7",
     "typedWidgetInfo": {
      "autoCreated": false,
      "defaultValue": "sap_dev.bronze",
      "label": "DATABASE_NAME",
      "name": "DATABASE_NAME",
      "options": {
       "widgetDisplayType": "Text",
       "validationRegex": null
      },
      "parameterDataType": "String"
     },
     "widgetInfo": {
      "widgetType": "text",
      "defaultValue": "sap_dev.bronze",
      "label": "DATABASE_NAME",
      "name": "DATABASE_NAME",
      "options": {
       "widgetType": "text",
       "autoCreated": null,
       "validationRegex": null
      }
     }
    },
    "ENV_ID": {
     "currentValue": "15346",
     "nuid": "e653724f-dddc-4cec-904f-fab2dd9fe801",
     "typedWidgetInfo": {
      "autoCreated": false,
      "defaultValue": "",
      "label": "ENV_ID",
      "name": "ENV_ID",
      "options": {
       "widgetDisplayType": "Text",
       "validationRegex": null
      },
      "parameterDataType": "String"
     },
     "widgetInfo": {
      "widgetType": "text",
      "defaultValue": "",
      "label": "ENV_ID",
      "name": "ENV_ID",
      "options": {
       "widgetType": "text",
       "autoCreated": null,
       "validationRegex": null
      }
     }
    },
    "INGESTION_TYPE": {
     "currentValue": "FULL",
     "nuid": "36d215c4-1b38-4f2c-8a39-5453780bd3fe",
     "typedWidgetInfo": {
      "autoCreated": false,
      "defaultValue": "",
      "label": "INGESTION_TYPE",
      "name": "INGESTION_TYPE",
      "options": {
       "widgetDisplayType": "Text",
       "validationRegex": null
      },
      "parameterDataType": "String"
     },
     "widgetInfo": {
      "widgetType": "text",
      "defaultValue": "",
      "label": "INGESTION_TYPE",
      "name": "INGESTION_TYPE",
      "options": {
       "widgetType": "text",
       "autoCreated": null,
       "validationRegex": null
      }
     }
    },
    "SCHEDULE_DATE": {
     "currentValue": "2025-08-26",
     "nuid": "8a6969e2-a5b3-4b8b-919a-db9a8ecbf581",
     "typedWidgetInfo": {
      "autoCreated": false,
      "defaultValue": "",
      "label": "SCHEDULE_DATE",
      "name": "SCHEDULE_DATE",
      "options": {
       "widgetDisplayType": "Text",
       "validationRegex": null
      },
      "parameterDataType": "String"
     },
     "widgetInfo": {
      "widgetType": "text",
      "defaultValue": "",
      "label": "SCHEDULE_DATE",
      "name": "SCHEDULE_DATE",
      "options": {
       "widgetType": "text",
       "autoCreated": null,
       "validationRegex": null
      }
     }
    },
    "SOURCE_TABLE_NAME": {
     "currentValue": "sales",
     "nuid": "ae610bda-f124-4822-8aa9-94b119053c9d",
     "typedWidgetInfo": {
      "autoCreated": false,
      "defaultValue": "",
      "label": "SOURCE_TABLE_NAME",
      "name": "SOURCE_TABLE_NAME",
      "options": {
       "widgetDisplayType": "Text",
       "validationRegex": null
      },
      "parameterDataType": "String"
     },
     "widgetInfo": {
      "widgetType": "text",
      "defaultValue": "",
      "label": "SOURCE_TABLE_NAME",
      "name": "SOURCE_TABLE_NAME",
      "options": {
       "widgetType": "text",
       "autoCreated": null,
       "validationRegex": null
      }
     }
    },
    "TARGET_TABLE_NAME": {
     "currentValue": "salesOrder",
     "nuid": "212c8b77-2487-4ea0-af7a-7c547ae2cfa4",
     "typedWidgetInfo": {
      "autoCreated": false,
      "defaultValue": "",
      "label": "TARGET_TABLE_NAME",
      "name": "TARGET_TABLE_NAME",
      "options": {
       "widgetDisplayType": "Text",
       "validationRegex": null
      },
      "parameterDataType": "String"
     },
     "widgetInfo": {
      "widgetType": "text",
      "defaultValue": "",
      "label": "TARGET_TABLE_NAME",
      "name": "TARGET_TABLE_NAME",
      "options": {
       "widgetType": "text",
       "autoCreated": null,
       "validationRegex": null
      }
     }
    }
   }
  },
  "language_info": {
   "name": "python"
  }
 },
 "nbformat": 4,
 "nbformat_minor": 0
}