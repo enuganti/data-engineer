{
 "cells": [
  {
   "cell_type": "markdown",
   "metadata": {
    "application/vnd.databricks.v1+cell": {
     "cellMetadata": {},
     "inputWidgets": {},
     "nuid": "e1443080-385d-4ecc-85a8-f9095b23d9f2",
     "showTitle": false,
     "tableResultSettingsMap": {},
     "title": ""
    }
   },
   "source": [
    "- Databricks widgets are interactive input components that can be added to notebooks to **parameterize** them and make them more **reusable**. Widgets enable the passing of **arguments and variables** into notebooks in a simple way, **eliminating** the need to **hardcode values**.\n",
    "\n",
    "- Databricks widgets make notebooks **highly reusable** by letting users **change inputs dynamically** at runtime instead of having **hardcoded values**, which allows the same notebook to be used repeatedly with different configurations."
   ]
  },
  {
   "cell_type": "markdown",
   "metadata": {
    "application/vnd.databricks.v1+cell": {
     "cellMetadata": {},
     "inputWidgets": {},
     "nuid": "a2bdf904-2e7e-49d1-9d60-61756f43f5c6",
     "showTitle": false,
     "tableResultSettingsMap": {},
     "title": ""
    }
   },
   "source": [
    "#### **Syntax**\n",
    "\n",
    "     # PySpark\n",
    "     dbutils.widgets.text(name='your_name_text', defaultValue='Enter your name', label='Your name')\n",
    "\n",
    "     # SQL\n",
    "     CREATE WIDGET TEXT table DEFAULT \"\"\n",
    "     CREATE WIDGET TEXT filter_value DEFAULT \"100\"\n",
    "\n",
    "- You can **access** the **current value of the widget** or get a mapping of **all widgets**.\n",
    "\n",
    "      dbutils.widgets.get(\"state\")\n",
    "      dbutils.widgets.getAll()\n",
    "\n",
    "- you can **remove** a widget or all widgets in a notebook.\n",
    "- If you **remove** a widget, you **cannot create** one in the **same cell**. You must create the widget in **another cell**.\n",
    "\n",
    "      dbutils.widgets.remove(\"state\")\n",
    "      dbutils.widgets.removeAll()\n",
    "\n",
    "      # SQL\n",
    "      REMOVE WIDGET state"
   ]
  },
  {
   "cell_type": "code",
   "execution_count": 0,
   "metadata": {
    "application/vnd.databricks.v1+cell": {
     "cellMetadata": {},
     "inputWidgets": {},
     "nuid": "ffc4dde9-700e-43ce-ab74-d9c23379b937",
     "showTitle": false,
     "tableResultSettingsMap": {},
     "title": ""
    }
   },
   "outputs": [],
   "source": [
    "dbutils.widgets.help(\"text\")"
   ]
  },
  {
   "cell_type": "code",
   "execution_count": 0,
   "metadata": {
    "application/vnd.databricks.v1+cell": {
     "cellMetadata": {},
     "inputWidgets": {},
     "nuid": "c9a2e16f-7ebb-46df-a400-aff6ac80fdd2",
     "showTitle": true,
     "tableResultSettingsMap": {},
     "title": "Method 01"
    }
   },
   "outputs": [],
   "source": [
    "dbutils.widgets.text(name='Set_Value', defaultValue='topic', label='Set Value')\n",
    "print(dbutils.widgets.get(\"Set_Value\"))"
   ]
  },
  {
   "cell_type": "code",
   "execution_count": 0,
   "metadata": {
    "application/vnd.databricks.v1+cell": {
     "cellMetadata": {},
     "inputWidgets": {},
     "nuid": "de26ed55-c31e-4f41-8ee3-79759574bd9a",
     "showTitle": false,
     "tableResultSettingsMap": {},
     "title": ""
    }
   },
   "outputs": [],
   "source": [
    "dbutils.widgets.text(name='Set_Value', defaultValue='topic', label='Set_Value')\n",
    "print(dbutils.widgets.get(\"Set_Value\"))"
   ]
  },
  {
   "cell_type": "code",
   "execution_count": 0,
   "metadata": {
    "application/vnd.databricks.v1+cell": {
     "cellMetadata": {},
     "inputWidgets": {},
     "nuid": "17cbbdcf-2a39-43e5-bb2e-b54fe124743c",
     "showTitle": true,
     "tableResultSettingsMap": {},
     "title": "Method 02"
    }
   },
   "outputs": [],
   "source": [
    "dbutils.widgets.text(name='Rev_Value', defaultValue='', label='Rev Value')\n",
    "print(dbutils.widgets.get(\"Rev_Value\"))"
   ]
  },
  {
   "cell_type": "code",
   "execution_count": 0,
   "metadata": {
    "application/vnd.databricks.v1+cell": {
     "cellMetadata": {},
     "inputWidgets": {},
     "nuid": "7f7fc828-301a-4321-b539-bc08c92cbbce",
     "showTitle": true,
     "tableResultSettingsMap": {},
     "title": "Method 03"
    }
   },
   "outputs": [],
   "source": [
    "dbutils.widgets.text('Ver_Value', '', 'Ver Value')\n",
    "print(dbutils.widgets.get(\"Ver_Value\"))"
   ]
  },
  {
   "cell_type": "code",
   "execution_count": 0,
   "metadata": {
    "application/vnd.databricks.v1+cell": {
     "cellMetadata": {},
     "inputWidgets": {},
     "nuid": "b3c447da-50a3-4b45-b5a7-efe87694135a",
     "showTitle": false,
     "tableResultSettingsMap": {},
     "title": ""
    }
   },
   "outputs": [],
   "source": [
    "dbutils.widgets.text('run_Value', '')\n",
    "print(dbutils.widgets.get(\"run_Value\"))"
   ]
  },
  {
   "cell_type": "code",
   "execution_count": 0,
   "metadata": {
    "application/vnd.databricks.v1+cell": {
     "cellMetadata": {},
     "inputWidgets": {},
     "nuid": "bdd19a57-b48b-48d3-8303-746d92c7a5d1",
     "showTitle": true,
     "tableResultSettingsMap": {},
     "title": "Remove Individual widget"
    }
   },
   "outputs": [],
   "source": [
    "dbutils.widgets.remove('Set_Value')"
   ]
  },
  {
   "cell_type": "code",
   "execution_count": 0,
   "metadata": {
    "application/vnd.databricks.v1+cell": {
     "cellMetadata": {},
     "inputWidgets": {},
     "nuid": "6fb88f46-60e1-44d7-82ff-a3a6e83608a0",
     "showTitle": true,
     "tableResultSettingsMap": {},
     "title": "Remove All Widgets"
    }
   },
   "outputs": [],
   "source": [
    "dbutils.widgets.removeAll()"
   ]
  },
  {
   "cell_type": "markdown",
   "metadata": {
    "application/vnd.databricks.v1+cell": {
     "cellMetadata": {},
     "inputWidgets": {},
     "nuid": "0bfca3af-3f4f-4fc4-ae9c-1b1c2ffdc486",
     "showTitle": false,
     "tableResultSettingsMap": {},
     "title": ""
    }
   },
   "source": [
    "#### **Ex 01**"
   ]
  },
  {
   "cell_type": "code",
   "execution_count": 0,
   "metadata": {
    "application/vnd.databricks.v1+cell": {
     "cellMetadata": {},
     "inputWidgets": {},
     "nuid": "104775aa-28dc-4b4a-a11d-576e4d115a14",
     "showTitle": false,
     "tableResultSettingsMap": {},
     "title": ""
    }
   },
   "outputs": [],
   "source": [
    "dbutils.widgets.text(\"kafka_topic\", \"\", label=\"kafka topic\")\n",
    "kafka_topic =  dbutils.widgets.get(\"kafka_topic\")  \n",
    "\n",
    "dbutils.widgets.text(\"adls_prefix\", \"\", label=\"adls prefix\")\n",
    "adls_prefix =  dbutils.widgets.get(\"adls_prefix\")"
   ]
  },
  {
   "cell_type": "code",
   "execution_count": 0,
   "metadata": {
    "application/vnd.databricks.v1+cell": {
     "cellMetadata": {},
     "inputWidgets": {},
     "nuid": "9bbbfaee-c5ee-4823-9d5b-769bf2ea749b",
     "showTitle": false,
     "tableResultSettingsMap": {},
     "title": ""
    }
   },
   "outputs": [],
   "source": [
    "dbutils.widgets.text(\"kafka_topic\", \"\", label=\"kafka topic\")\n",
    "kafka_topic =  dbutils.widgets.get(\"kafka_topic\")  \n",
    "\n",
    "dbutils.widgets.text(\"adls_prefix\", \"\", label=\"adls prefix\")\n",
    "adls_prefix =  dbutils.widgets.get(\"adls_prefix\")  \n",
    "\n",
    "if (kafka_topic == \"\"):\n",
    "    dbutils.notebook.exit(\"Topic is mandatory\")\n",
    "\n",
    "if (adls_prefix == \"\"):\n",
    "    dbutils.notebook.exit(\"adls_prefix is mandatory\")\n",
    "\n",
    "print(\"Topic - \",kafka_topic)\n",
    "print(\"ADLS Prefix - \",adls_prefix)"
   ]
  },
  {
   "cell_type": "code",
   "execution_count": 0,
   "metadata": {
    "application/vnd.databricks.v1+cell": {
     "cellMetadata": {},
     "inputWidgets": {},
     "nuid": "432ee310-910e-4b51-946b-da8f1af63768",
     "showTitle": false,
     "tableResultSettingsMap": {},
     "title": ""
    }
   },
   "outputs": [],
   "source": [
    "dbutils.widgets.remove('kafka_topic')\n",
    "dbutils.widgets.remove('adls_prefix')\n",
    "# dbutils.widgets.removeAll()"
   ]
  },
  {
   "cell_type": "markdown",
   "metadata": {
    "application/vnd.databricks.v1+cell": {
     "cellMetadata": {},
     "inputWidgets": {},
     "nuid": "4c9691e3-3fda-49ad-a67b-c8a7591f0a19",
     "showTitle": false,
     "tableResultSettingsMap": {},
     "title": ""
    }
   },
   "source": [
    "#### **Real Time Use CASE: 01**"
   ]
  },
  {
   "cell_type": "code",
   "execution_count": 0,
   "metadata": {
    "application/vnd.databricks.v1+cell": {
     "cellMetadata": {},
     "inputWidgets": {},
     "nuid": "c7450578-effc-492e-9026-cfc5c16e36ca",
     "showTitle": false,
     "tableResultSettingsMap": {},
     "title": ""
    }
   },
   "outputs": [],
   "source": [
    "df_text = spark.read.csv(\"dbfs:/FileStore/tables/to_timestamp-3.csv\", header=True, inferSchema=True)\n",
    "display(df_text.limit(10))"
   ]
  },
  {
   "cell_type": "code",
   "execution_count": 0,
   "metadata": {
    "application/vnd.databricks.v1+cell": {
     "cellMetadata": {},
     "inputWidgets": {},
     "nuid": "da8614fe-d11e-4a14-a358-f2da23da05d6",
     "showTitle": false,
     "tableResultSettingsMap": {},
     "title": ""
    }
   },
   "outputs": [],
   "source": [
    "df_text.createOrReplaceTempView(\"marketing\")"
   ]
  },
  {
   "cell_type": "code",
   "execution_count": 0,
   "metadata": {
    "application/vnd.databricks.v1+cell": {
     "cellMetadata": {},
     "inputWidgets": {},
     "nuid": "4015feab-8589-4ec4-8977-20b1f8cbd945",
     "showTitle": false,
     "tableResultSettingsMap": {},
     "title": ""
    }
   },
   "outputs": [],
   "source": [
    "dbutils.widgets.text(\"view\", \"\")\n",
    "dbutils.widgets.text(\"filter_value\", \"\")"
   ]
  },
  {
   "cell_type": "code",
   "execution_count": 0,
   "metadata": {
    "application/vnd.databricks.v1+cell": {
     "cellMetadata": {},
     "inputWidgets": {},
     "nuid": "e635e91c-afe9-4cb4-8bb4-4c884eecb244",
     "showTitle": false,
     "tableResultSettingsMap": {},
     "title": ""
    }
   },
   "outputs": [],
   "source": [
    "%sql\n",
    "SELECT *\n",
    "FROM ${view}\n",
    "WHERE Status == ${filter_value}\n",
    "LIMIT 10"
   ]
  },
  {
   "cell_type": "markdown",
   "metadata": {
    "application/vnd.databricks.v1+cell": {
     "cellMetadata": {},
     "inputWidgets": {},
     "nuid": "054cb549-b846-4056-b55f-4407408b2c8d",
     "showTitle": false,
     "tableResultSettingsMap": {},
     "title": ""
    }
   },
   "source": [
    "#### **Real Time Use CASE: 02**"
   ]
  },
  {
   "cell_type": "code",
   "execution_count": 0,
   "metadata": {
    "application/vnd.databricks.v1+cell": {
     "cellMetadata": {},
     "inputWidgets": {},
     "nuid": "20c79a6b-c682-4b17-9c8a-2598caa3853a",
     "showTitle": true,
     "tableResultSettingsMap": {},
     "title": "create widget with default value"
    }
   },
   "outputs": [],
   "source": [
    "# Create a text input widget with default value 'Rev01'\n",
    "dbutils.widgets.text(\"Rev_Ver\", \"Rev01\", \"Rev Ver\")\n",
    "\n",
    "# Now, retrieve the value of the widget\n",
    "Rev_Ver = '_' + dbutils.widgets.get('Rev_Ver')\n",
    "display(Rev_Ver)"
   ]
  },
  {
   "cell_type": "code",
   "execution_count": 0,
   "metadata": {
    "application/vnd.databricks.v1+cell": {
     "cellMetadata": {},
     "inputWidgets": {},
     "nuid": "3555fc64-35d2-43d2-b092-ba2f6db954cc",
     "showTitle": true,
     "tableResultSettingsMap": {},
     "title": "Create Text Input Widget with Empty Value"
    }
   },
   "outputs": [],
   "source": [
    "# Create a text input widget with empty value\n",
    "dbutils.widgets.text(\"Source_Ver\", \"\", \"Source Ver\")\n",
    "\n",
    "try:\n",
    "    Source_Ver = dbutils.widgets.get(\"Source_Ver\")\n",
    "    display(Source_Ver)\n",
    "except Exception as e:\n",
    "    Source_Ver = ''\n",
    "\n",
    "print(Source_Ver)"
   ]
  },
  {
   "cell_type": "code",
   "execution_count": 0,
   "metadata": {
    "application/vnd.databricks.v1+cell": {
     "cellMetadata": {},
     "inputWidgets": {},
     "nuid": "f1cef5cd-84ca-4700-9a19-4067fd720b0c",
     "showTitle": false,
     "tableResultSettingsMap": {},
     "title": ""
    }
   },
   "outputs": [],
   "source": [
    "# dbutils.fs.rm(\"/FileStore/tables/Streaming\", True)"
   ]
  },
  {
   "cell_type": "code",
   "execution_count": 0,
   "metadata": {
    "application/vnd.databricks.v1+cell": {
     "cellMetadata": {},
     "inputWidgets": {},
     "nuid": "fd6cb9b7-3703-4756-ac29-0494a58d9690",
     "showTitle": false,
     "tableResultSettingsMap": {},
     "title": ""
    }
   },
   "outputs": [],
   "source": [
    "dbutils.fs.mkdirs(\"/FileStore/tables/Streaming/Stream_checkpoint/json/Set01\")\n",
    "dbutils.fs.mkdirs(\"/FileStore/tables/Streaming/Stream_checkpoint/json/Set02\")\n",
    "dbutils.fs.mkdirs(\"/FileStore/tables/Streaming/Stream_checkpoint/json/Set03\")\n",
    "dbutils.fs.mkdirs(\"/FileStore/tables/Streaming/Stream_checkpoint/json/Set04\")\n",
    "dbutils.fs.mkdirs(\"/FileStore/tables/Streaming/Stream_checkpoint/json/Set05\")\n",
    "\n",
    "dbutils.fs.mkdirs(\"/FileStore/tables/Streaming/Stream_readStream/json/Set01\")\n",
    "dbutils.fs.mkdirs(\"/FileStore/tables/Streaming/Stream_readStream/json/Set02\")\n",
    "dbutils.fs.mkdirs(\"/FileStore/tables/Streaming/Stream_readStream/json/Set03\")\n",
    "dbutils.fs.mkdirs(\"/FileStore/tables/Streaming/Stream_readStream/json/Set04\")\n",
    "dbutils.fs.mkdirs(\"/FileStore/tables/Streaming/Stream_readStream/json/Set05\")\n",
    "\n",
    "dbutils.fs.mkdirs(\"/FileStore/tables/Streaming/Stream_writeStream/json/Set01\")\n",
    "dbutils.fs.mkdirs(\"/FileStore/tables/Streaming/Stream_writeStream/json/Set02\")\n",
    "dbutils.fs.mkdirs(\"/FileStore/tables/Streaming/Stream_writeStream/json/Set03\")\n",
    "dbutils.fs.mkdirs(\"/FileStore/tables/Streaming/Stream_writeStream/json/Set04\")\n",
    "dbutils.fs.mkdirs(\"/FileStore/tables/Streaming/Stream_writeStream/json/Set05\")"
   ]
  },
  {
   "cell_type": "code",
   "execution_count": 0,
   "metadata": {
    "application/vnd.databricks.v1+cell": {
     "cellMetadata": {},
     "inputWidgets": {},
     "nuid": "62b820c9-194f-47d7-965b-61cf4de76a72",
     "showTitle": false,
     "tableResultSettingsMap": {},
     "title": ""
    }
   },
   "outputs": [],
   "source": [
    "root_path"
   ]
  },
  {
   "cell_type": "code",
   "execution_count": 0,
   "metadata": {
    "application/vnd.databricks.v1+cell": {
     "cellMetadata": {},
     "inputWidgets": {},
     "nuid": "783c64a2-fddb-4fbb-a850-04a967576857",
     "showTitle": false,
     "tableResultSettingsMap": {},
     "title": ""
    }
   },
   "outputs": [],
   "source": [
    "import pyspark.sql.functions as f\n",
    "from pyspark.sql.types import StringType,LongType\n",
    "\n",
    "# Get file paths for Party\n",
    "root_path = f\"/FileStore/tables/Streaming/Stream_readStream/json/{Source_Ver}/\"\n",
    "\n",
    "# Read the input data from CSV file\n",
    "sales_df = spark.read.option('header', True).option('InferSchema', True).csv(root_path)\n",
    "display(sales_df)"
   ]
  },
  {
   "cell_type": "code",
   "execution_count": 0,
   "metadata": {
    "application/vnd.databricks.v1+cell": {
     "cellMetadata": {},
     "inputWidgets": {},
     "nuid": "e1c59759-d603-4460-bc2a-632606dbbc6d",
     "showTitle": true,
     "tableResultSettingsMap": {},
     "title": "Gas Physical Position Data"
    }
   },
   "outputs": [],
   "source": [
    "# get raw streaming checkpoint\n",
    "# sales_raw_chkpoint = f\"/FileStore/tables/Streaming/Stream_checkpoint/json/_chkpoint_tbl_raw_gas/{Source_Ver}/\"\n",
    "# print(sales_raw_chkpoint)\n",
    "\n",
    "# get enriched streaming checkpoint\n",
    "sales_enr_chkpoint = f\"/FileStore/tables/Streaming/Stream_checkpoint/json/{Source_Ver}/_chkpoint_tbl_enriched_gas/\"\n",
    "print(sales_enr_chkpoint)\n",
    "\n",
    "# get raw target table \n",
    "# raw_table = f\"/FileStore/tables/Streaming/Stream_writeStream/json/tbl_src_raw_fact_tbl_01/{Source_Ver}\"\n",
    "# print(raw_table)\n",
    "\n",
    "# get enriched target table \n",
    "# target_table = f\"/FileStore/tables/Streaming/Stream_writeStream/json/tbl_src_enr_fact_tbl_01/{Source_Ver}\"\n",
    "# print(target_table)"
   ]
  },
  {
   "cell_type": "code",
   "execution_count": 0,
   "metadata": {
    "application/vnd.databricks.v1+cell": {
     "cellMetadata": {},
     "inputWidgets": {},
     "nuid": "b0b3e9fa-d8cf-40d2-b9d2-3b7713ec443f",
     "showTitle": false,
     "tableResultSettingsMap": {},
     "title": ""
    }
   },
   "outputs": [],
   "source": [
    "from pyspark.sql.types import StructField, StructType, IntegerType, StringType, LongType\n",
    "\n",
    "# Define custom schema for the nested structure\n",
    "AddSchema = StructType([StructField('country',StringType(),False),\n",
    "                        StructField('user',StringType(),False),\n",
    "                        StructField('Location',StringType(),False),\n",
    "                        StructField('Zipcode',StringType(),False),]\n",
    "                      )\n",
    "# Define the main schema including the nested structure\n",
    "schema_json = StructType([StructField('source',StringType(),False),\n",
    "                          StructField('description',StringType(),False),\n",
    "                          StructField('input_timestamp',LongType(),False),\n",
    "                          StructField('last_update_timestamp',LongType(),False),\n",
    "                          StructField('Address',AddSchema)]\n",
    "                        )"
   ]
  },
  {
   "cell_type": "code",
   "execution_count": 0,
   "metadata": {
    "application/vnd.databricks.v1+cell": {
     "cellMetadata": {},
     "inputWidgets": {},
     "nuid": "ee86322e-4416-4341-9233-db9aecabe23f",
     "showTitle": false,
     "tableResultSettingsMap": {},
     "title": ""
    }
   },
   "outputs": [],
   "source": [
    "stream_json = spark.readStream\\\n",
    "                   .option(\"multiline\", \"true\")\\\n",
    "                   .format(\"json\")\\\n",
    "                   .schema(schema_json)\\\n",
    "                   .json(f\"/FileStore/tables/Streaming/Stream_readStream/json/{Source_Ver}\")\n",
    "\n",
    "print(stream_json.isStreaming)\n",
    "print(stream_json.printSchema()) \n",
    "\n",
    "display(stream_json)\n",
    "\n",
    "# stream_json.awaitTermination()"
   ]
  },
  {
   "cell_type": "code",
   "execution_count": 0,
   "metadata": {
    "application/vnd.databricks.v1+cell": {
     "cellMetadata": {},
     "inputWidgets": {},
     "nuid": "47f1ade6-fdb1-4105-95d8-d98bf194e51d",
     "showTitle": false,
     "tableResultSettingsMap": {},
     "title": ""
    }
   },
   "outputs": [],
   "source": [
    "stream_json.writeStream\\\n",
    "           .format('parquet')\\\n",
    "           .outputMode('append')\\\n",
    "           .option(\"path\", f\"/FileStore/tables/Streaming/Stream_writeStream/json/{Source_Ver}\")\\\n",
    "           .option(\"checkpointLocation\", sales_enr_chkpoint)\\\n",
    "           .start()\n",
    "\n",
    "display(stream_json)"
   ]
  },
  {
   "cell_type": "markdown",
   "metadata": {
    "application/vnd.databricks.v1+cell": {
     "cellMetadata": {},
     "inputWidgets": {},
     "nuid": "ced59ee1-3994-4642-b49f-c324f1dcc81d",
     "showTitle": false,
     "tableResultSettingsMap": {},
     "title": ""
    }
   },
   "source": [
    "You can access the **current value** of the widget or get a mapping of **all widgets**:\n",
    "\n",
    "     dbutils.widgets.get(\"state\")\n",
    "     dbutils.widgets.getAll()"
   ]
  },
  {
   "cell_type": "code",
   "execution_count": 0,
   "metadata": {
    "application/vnd.databricks.v1+cell": {
     "cellMetadata": {},
     "inputWidgets": {},
     "nuid": "1b9bbcfa-4b6f-4f91-afcd-06a749b982d0",
     "showTitle": true,
     "tableResultSettingsMap": {},
     "title": "retrieve all widgets"
    }
   },
   "outputs": [],
   "source": [
    "# retrieve all widgets\n",
    "dbutils.widgets.getAll()"
   ]
  }
 ],
 "metadata": {
  "application/vnd.databricks.v1+notebook": {
   "computePreferences": null,
   "dashboards": [],
   "environmentMetadata": null,
   "inputWidgetPreferences": null,
   "language": "python",
   "notebookMetadata": {
    "pythonIndentUnit": 4
   },
   "notebookName": "36_dbutils.widgets.text, databricks widgets, parameterize notebooks",
   "widgets": {}
  },
  "language_info": {
   "name": "python"
  }
 },
 "nbformat": 4,
 "nbformat_minor": 0
}