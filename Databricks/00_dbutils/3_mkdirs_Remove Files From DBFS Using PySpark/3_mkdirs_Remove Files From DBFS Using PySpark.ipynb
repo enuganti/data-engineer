{
 "cells": [
  {
   "cell_type": "markdown",
   "metadata": {
    "application/vnd.databricks.v1+cell": {
     "cellMetadata": {},
     "inputWidgets": {},
     "nuid": "d7cc78c5-35be-4ef9-b7b8-150ce9310875",
     "showTitle": false,
     "title": ""
    }
   },
   "source": [
    "#### **How to delete Files from Databricks File System (DBFS)?**\n",
    "\n",
    "- **Removes** a **file or directory** and optionally all of its contents.\n",
    "- If a **file** is specified, the **recurse** parameter is **ignored**.\n",
    "- If a **directory** is specified, an **error** occurs if **recurse is disabled** and the directory is not empty."
   ]
  },
  {
   "cell_type": "markdown",
   "metadata": {
    "application/vnd.databricks.v1+cell": {
     "cellMetadata": {},
     "inputWidgets": {},
     "nuid": "3fe65ce4-7086-469a-809a-e1c76d9f348b",
     "showTitle": false,
     "title": ""
    }
   },
   "source": [
    "**dbutils.fs.rm()**\n",
    "\n",
    "- How to remove Files?\n",
    "- How to remove Folders?\n",
    "- How to remove checkpoints?\n",
    "- How to create folder and Remove folders?\n",
    "\n",
    "**dbutils.fs.mkdirs()**\n",
    "\n",
    "**dbutils.fs.put()**"
   ]
  },
  {
   "cell_type": "markdown",
   "metadata": {
    "application/vnd.databricks.v1+cell": {
     "cellMetadata": {},
     "inputWidgets": {},
     "nuid": "c34722c4-72ce-496a-b335-bb670a8b7ce1",
     "showTitle": false,
     "title": ""
    }
   },
   "source": [
    "#### **Syntax**\n",
    "\n",
    "     dbutils.fs.rm(\"/FileStore/tables/Show_truncate-1.csv\")\n",
    "                         (or)\n",
    "     dbutils.fs.rm(\"/FileStore/tables/circuits.csv\", recurse=False)\n",
    "                         (or)\n",
    "     %fs rm -r /FileStore/tables/Party_Relationship.csv\n",
    "                         (or)\n",
    "     %fs rm -r /FileStore/tables/Parquet_Userdata3\n",
    "\n",
    "       where,\n",
    "              %fs magic command to use dbutils\n",
    "              rm remove command\n",
    "              -r recursive flag to delete a directory and all its contents\n",
    "              /mnt/driver-daemon/jars/ path to directory"
   ]
  },
  {
   "cell_type": "code",
   "execution_count": 0,
   "metadata": {
    "application/vnd.databricks.v1+cell": {
     "cellMetadata": {
      "byteLimit": 2048000,
      "rowLimit": 10000
     },
     "inputWidgets": {},
     "nuid": "78468491-4cbc-466d-b3f1-8966d8754aea",
     "showTitle": false,
     "title": ""
    }
   },
   "outputs": [
    {
     "output_type": "display_data",
     "data": {
      "text/html": [
       "<div class = \"ansiout\">/**<br /> * Removes a file or directory.<br /> * <br /> * Example: rm(\"/mnt/my-folder/\", true)<br /> * <br /> * @param dir FileSystem URI for a single file or a directory<br /> * @param recurse if true, all files and directories will be recursively deleted<br /> * @return true if the file or directory was present and is now deleted<br /> */<br /><b>rm(dir: java.lang.String, recurse: boolean = false): boolean</b></div><br />"
      ]
     },
     "metadata": {
      "application/vnd.databricks.v1+output": {
       "addedWidgets": {},
       "arguments": {},
       "data": "<div class = \"ansiout\">/**<br /> * Removes a file or directory.<br /> * <br /> * Example: rm(\"/mnt/my-folder/\", true)<br /> * <br /> * @param dir FileSystem URI for a single file or a directory<br /> * @param recurse if true, all files and directories will be recursively deleted<br /> * @return true if the file or directory was present and is now deleted<br /> */<br /><b>rm(dir: java.lang.String, recurse: boolean = false): boolean</b></div><br />",
       "datasetInfos": [],
       "metadata": {},
       "removedWidgets": [],
       "textData": null,
       "type": "htmlSandbox"
      }
     },
     "output_type": "display_data"
    }
   ],
   "source": [
    "dbutils.fs.help(\"rm\")"
   ]
  },
  {
   "cell_type": "markdown",
   "metadata": {
    "application/vnd.databricks.v1+cell": {
     "cellMetadata": {},
     "inputWidgets": {},
     "nuid": "e1131998-0930-4ed9-88d9-722d53c191d7",
     "showTitle": false,
     "title": ""
    }
   },
   "source": [
    "#### **Three ways to check for existance / deletion of file**\n",
    "\n",
    "- %fs ls /FileStore/tables/\n",
    "\n",
    "- read csv file --> df = spark.read.csv(\"dbfs:/FileStore/tables/MarketPrice-1.csv\", header=True, inferSchema=True)\n",
    "\n",
    "- Catalog --> DBFS --> /FileStore/tables/ --> MarketPrice-1.csv"
   ]
  },
  {
   "cell_type": "code",
   "execution_count": 0,
   "metadata": {
    "application/vnd.databricks.v1+cell": {
     "cellMetadata": {
      "byteLimit": 2048000,
      "rowLimit": 10000
     },
     "inputWidgets": {},
     "nuid": "20b306bd-b3bf-45ba-928d-b01c07f17489",
     "showTitle": false,
     "title": ""
    }
   },
   "outputs": [
    {
     "output_type": "display_data",
     "data": {
      "text/html": [
       "<style scoped>\n",
       "  .table-result-container {\n",
       "    max-height: 300px;\n",
       "    overflow: auto;\n",
       "  }\n",
       "  table, th, td {\n",
       "    border: 1px solid black;\n",
       "    border-collapse: collapse;\n",
       "  }\n",
       "  th, td {\n",
       "    padding: 5px;\n",
       "  }\n",
       "  th {\n",
       "    text-align: left;\n",
       "  }\n",
       "</style><div class='table-result-container'><table class='table-result'><thead style='background-color: white'><tr><th>path</th><th>name</th><th>size</th><th>modificationTime</th></tr></thead><tbody><tr><td>dbfs:/FileStore/tables/Flatten Nested Array.json</td><td>Flatten Nested Array.json</td><td>3756</td><td>1718618620000</td></tr><tr><td>dbfs:/FileStore/tables/MarketPrice-1.csv</td><td>MarketPrice-1.csv</td><td>19528</td><td>1728118055000</td></tr><tr><td>dbfs:/FileStore/tables/MarketPrice.csv</td><td>MarketPrice.csv</td><td>19528</td><td>1719656208000</td></tr><tr><td>dbfs:/FileStore/tables/MultiLineJSON.json/</td><td>MultiLineJSON.json/</td><td>0</td><td>0</td></tr><tr><td>dbfs:/FileStore/tables/MultiLineJSON01.json/</td><td>MultiLineJSON01.json/</td><td>0</td><td>0</td></tr><tr><td>dbfs:/FileStore/tables/MultiLineJSON1.json/</td><td>MultiLineJSON1.json/</td><td>0</td><td>0</td></tr><tr><td>dbfs:/FileStore/tables/MultiLineJSON123.json/</td><td>MultiLineJSON123.json/</td><td>0</td><td>0</td></tr><tr><td>dbfs:/FileStore/tables/MultiLineJSON2.json/</td><td>MultiLineJSON2.json/</td><td>0</td><td>0</td></tr><tr><td>dbfs:/FileStore/tables/Question7.csv</td><td>Question7.csv</td><td>154</td><td>1725816645000</td></tr><tr><td>dbfs:/FileStore/tables/RunningData_Rev02.csv</td><td>RunningData_Rev02.csv</td><td>1222</td><td>1719810609000</td></tr><tr><td>dbfs:/FileStore/tables/RunningData_Rev03.csv</td><td>RunningData_Rev03.csv</td><td>1216</td><td>1719810946000</td></tr><tr><td>dbfs:/FileStore/tables/SalesData_Rev02.csv</td><td>SalesData_Rev02.csv</td><td>472</td><td>1719810784000</td></tr><tr><td>dbfs:/FileStore/tables/SalesData_Rev03.csv</td><td>SalesData_Rev03.csv</td><td>460</td><td>1719810973000</td></tr><tr><td>dbfs:/FileStore/tables/Sales_Collect.csv</td><td>Sales_Collect.csv</td><td>182972</td><td>1720293547000</td></tr><tr><td>dbfs:/FileStore/tables/Sales_Collect_Rev02.csv</td><td>Sales_Collect_Rev02.csv</td><td>166107</td><td>1719810826000</td></tr><tr><td>dbfs:/FileStore/tables/Sales_Collect_Rev03.csv</td><td>Sales_Collect_Rev03.csv</td><td>182828</td><td>1719811001000</td></tr><tr><td>dbfs:/FileStore/tables/Streaming/</td><td>Streaming/</td><td>0</td><td>0</td></tr><tr><td>dbfs:/FileStore/tables/StructType-1.csv</td><td>StructType-1.csv</td><td>648</td><td>1717934508000</td></tr><tr><td>dbfs:/FileStore/tables/StructType-2.csv</td><td>StructType-2.csv</td><td>648</td><td>1717935891000</td></tr><tr><td>dbfs:/FileStore/tables/StructType-3.csv</td><td>StructType-3.csv</td><td>648</td><td>1717936009000</td></tr><tr><td>dbfs:/FileStore/tables/StructType-4.csv</td><td>StructType-4.csv</td><td>648</td><td>1717936144000</td></tr><tr><td>dbfs:/FileStore/tables/StructType-5.csv</td><td>StructType-5.csv</td><td>648</td><td>1717936276000</td></tr><tr><td>dbfs:/FileStore/tables/StructType.csv</td><td>StructType.csv</td><td>648</td><td>1717934306000</td></tr><tr><td>dbfs:/FileStore/tables/booleantype-1.csv</td><td>booleantype-1.csv</td><td>4670</td><td>1726837953000</td></tr><tr><td>dbfs:/FileStore/tables/booleantype-2.csv</td><td>booleantype-2.csv</td><td>5337</td><td>1726841165000</td></tr><tr><td>dbfs:/FileStore/tables/booleantype-3.csv</td><td>booleantype-3.csv</td><td>3167</td><td>1726843335000</td></tr><tr><td>dbfs:/FileStore/tables/booleantype-4.csv</td><td>booleantype-4.csv</td><td>2889</td><td>1726843641000</td></tr><tr><td>dbfs:/FileStore/tables/booleantype-5.csv</td><td>booleantype-5.csv</td><td>3164</td><td>1726851645000</td></tr><tr><td>dbfs:/FileStore/tables/booleantype.csv</td><td>booleantype.csv</td><td>4670</td><td>1726837542000</td></tr><tr><td>dbfs:/FileStore/tables/cast_data.txt</td><td>cast_data.txt</td><td>219</td><td>1720376019000</td></tr><tr><td>dbfs:/FileStore/tables/checkpoint/</td><td>checkpoint/</td><td>0</td><td>0</td></tr><tr><td>dbfs:/FileStore/tables/current_date___current_user___current_timestamp__.csv</td><td>current_date___current_user___current_timestamp__.csv</td><td>4040</td><td>1726313822000</td></tr><tr><td>dbfs:/FileStore/tables/date_format-1.csv</td><td>date_format-1.csv</td><td>1656</td><td>1725709118000</td></tr><tr><td>dbfs:/FileStore/tables/date_format-2.csv</td><td>date_format-2.csv</td><td>1923</td><td>1725709313000</td></tr><tr><td>dbfs:/FileStore/tables/date_format.csv</td><td>date_format.csv</td><td>1119</td><td>1725645247000</td></tr><tr><td>dbfs:/FileStore/tables/from_unixtime-1.csv</td><td>from_unixtime-1.csv</td><td>9523</td><td>1725903833000</td></tr><tr><td>dbfs:/FileStore/tables/from_unixtime.csv</td><td>from_unixtime.csv</td><td>9523</td><td>1725901373000</td></tr><tr><td>dbfs:/FileStore/tables/iterate_columns.csv</td><td>iterate_columns.csv</td><td>2023849</td><td>1719767610000</td></tr><tr><td>dbfs:/FileStore/tables/multiline.json</td><td>multiline.json</td><td>1262</td><td>1725858755000</td></tr><tr><td>dbfs:/FileStore/tables/multiline.txt</td><td>multiline.txt</td><td>178</td><td>1721655243000</td></tr><tr><td>dbfs:/FileStore/tables/multiline_nested-1.json</td><td>multiline_nested-1.json</td><td>2233</td><td>1725884748000</td></tr><tr><td>dbfs:/FileStore/tables/multiline_nested.json</td><td>multiline_nested.json</td><td>1731</td><td>1725870338000</td></tr><tr><td>dbfs:/FileStore/tables/person-1.json</td><td>person-1.json</td><td>4608</td><td>1718609578000</td></tr><tr><td>dbfs:/FileStore/tables/person-2.json</td><td>person-2.json</td><td>4616</td><td>1718610165000</td></tr><tr><td>dbfs:/FileStore/tables/person.json</td><td>person.json</td><td>4616</td><td>1718609425000</td></tr><tr><td>dbfs:/FileStore/tables/posexplode.txt</td><td>posexplode.txt</td><td>264</td><td>1718525465000</td></tr><tr><td>dbfs:/FileStore/tables/singleline-1.json</td><td>singleline-1.json</td><td>1000</td><td>1725857789000</td></tr><tr><td>dbfs:/FileStore/tables/singleline-2.json</td><td>singleline-2.json</td><td>999</td><td>1725858047000</td></tr><tr><td>dbfs:/FileStore/tables/singleline-3.json</td><td>singleline-3.json</td><td>1003</td><td>1725858173000</td></tr><tr><td>dbfs:/FileStore/tables/singleline-4.json</td><td>singleline-4.json</td><td>1004</td><td>1725858244000</td></tr><tr><td>dbfs:/FileStore/tables/singleline-5.json</td><td>singleline-5.json</td><td>1006</td><td>1725858294000</td></tr><tr><td>dbfs:/FileStore/tables/singleline-6.json</td><td>singleline-6.json</td><td>1006</td><td>1725858459000</td></tr><tr><td>dbfs:/FileStore/tables/singleline.json</td><td>singleline.json</td><td>1006</td><td>1725856537000</td></tr><tr><td>dbfs:/FileStore/tables/singlelineList.json</td><td>singlelineList.json</td><td>1032</td><td>1725892526000</td></tr><tr><td>dbfs:/FileStore/tables/singleline_nested-1.json</td><td>singleline_nested-1.json</td><td>1388</td><td>1725883300000</td></tr><tr><td>dbfs:/FileStore/tables/singleline_nested.json</td><td>singleline_nested.json</td><td>1096</td><td>1725870020000</td></tr><tr><td>dbfs:/FileStore/tables/split.txt</td><td>split.txt</td><td>390</td><td>1721625608000</td></tr><tr><td>dbfs:/FileStore/tables/streaming.csv</td><td>streaming.csv</td><td>140</td><td>1728400280000</td></tr><tr><td>dbfs:/FileStore/tables/syntax.jpg</td><td>syntax.jpg</td><td>32647</td><td>1725976365000</td></tr><tr><td>dbfs:/FileStore/tables/temp/</td><td>temp/</td><td>0</td><td>0</td></tr><tr><td>dbfs:/FileStore/tables/temp_data/</td><td>temp_data/</td><td>0</td><td>0</td></tr><tr><td>dbfs:/FileStore/tables/temp_data_sales/</td><td>temp_data_sales/</td><td>0</td><td>0</td></tr><tr><td>dbfs:/FileStore/tables/timestamp_millis-1.csv</td><td>timestamp_millis-1.csv</td><td>7513</td><td>1725903371000</td></tr><tr><td>dbfs:/FileStore/tables/timestamp_millis-2.csv</td><td>timestamp_millis-2.csv</td><td>7513</td><td>1725903430000</td></tr><tr><td>dbfs:/FileStore/tables/timestamp_millis-3.csv</td><td>timestamp_millis-3.csv</td><td>8613</td><td>1725903701000</td></tr><tr><td>dbfs:/FileStore/tables/timestamp_millis.csv</td><td>timestamp_millis.csv</td><td>7533</td><td>1725903084000</td></tr><tr><td>dbfs:/FileStore/tables/titanic.csv</td><td>titanic.csv</td><td>60302</td><td>1717853233000</td></tr><tr><td>dbfs:/FileStore/tables/to_date.csv</td><td>to_date.csv</td><td>1923</td><td>1726112031000</td></tr><tr><td>dbfs:/FileStore/tables/to_json.csv</td><td>to_json.csv</td><td>50792</td><td>1726583981000</td></tr><tr><td>dbfs:/FileStore/tables/to_timestamp-1.csv</td><td>to_timestamp-1.csv</td><td>5536</td><td>1726303458000</td></tr><tr><td>dbfs:/FileStore/tables/to_timestamp-2.csv</td><td>to_timestamp-2.csv</td><td>5425</td><td>1726303695000</td></tr><tr><td>dbfs:/FileStore/tables/to_timestamp-3.csv</td><td>to_timestamp-3.csv</td><td>5545</td><td>1726304079000</td></tr><tr><td>dbfs:/FileStore/tables/to_timestamp.csv</td><td>to_timestamp.csv</td><td>6451</td><td>1726300120000</td></tr></tbody></table></div>"
      ]
     },
     "metadata": {
      "application/vnd.databricks.v1+output": {
       "addedWidgets": {},
       "aggData": [],
       "aggError": "",
       "aggOverflow": false,
       "aggSchema": [],
       "aggSeriesLimitReached": false,
       "aggType": "",
       "arguments": {},
       "columnCustomDisplayInfos": {},
       "data": [
        [
         "dbfs:/FileStore/tables/Flatten Nested Array.json",
         "Flatten Nested Array.json",
         3756,
         1718618620000
        ],
        [
         "dbfs:/FileStore/tables/MarketPrice-1.csv",
         "MarketPrice-1.csv",
         19528,
         1728118055000
        ],
        [
         "dbfs:/FileStore/tables/MarketPrice.csv",
         "MarketPrice.csv",
         19528,
         1719656208000
        ],
        [
         "dbfs:/FileStore/tables/MultiLineJSON.json/",
         "MultiLineJSON.json/",
         0,
         0
        ],
        [
         "dbfs:/FileStore/tables/MultiLineJSON01.json/",
         "MultiLineJSON01.json/",
         0,
         0
        ],
        [
         "dbfs:/FileStore/tables/MultiLineJSON1.json/",
         "MultiLineJSON1.json/",
         0,
         0
        ],
        [
         "dbfs:/FileStore/tables/MultiLineJSON123.json/",
         "MultiLineJSON123.json/",
         0,
         0
        ],
        [
         "dbfs:/FileStore/tables/MultiLineJSON2.json/",
         "MultiLineJSON2.json/",
         0,
         0
        ],
        [
         "dbfs:/FileStore/tables/Question7.csv",
         "Question7.csv",
         154,
         1725816645000
        ],
        [
         "dbfs:/FileStore/tables/RunningData_Rev02.csv",
         "RunningData_Rev02.csv",
         1222,
         1719810609000
        ],
        [
         "dbfs:/FileStore/tables/RunningData_Rev03.csv",
         "RunningData_Rev03.csv",
         1216,
         1719810946000
        ],
        [
         "dbfs:/FileStore/tables/SalesData_Rev02.csv",
         "SalesData_Rev02.csv",
         472,
         1719810784000
        ],
        [
         "dbfs:/FileStore/tables/SalesData_Rev03.csv",
         "SalesData_Rev03.csv",
         460,
         1719810973000
        ],
        [
         "dbfs:/FileStore/tables/Sales_Collect.csv",
         "Sales_Collect.csv",
         182972,
         1720293547000
        ],
        [
         "dbfs:/FileStore/tables/Sales_Collect_Rev02.csv",
         "Sales_Collect_Rev02.csv",
         166107,
         1719810826000
        ],
        [
         "dbfs:/FileStore/tables/Sales_Collect_Rev03.csv",
         "Sales_Collect_Rev03.csv",
         182828,
         1719811001000
        ],
        [
         "dbfs:/FileStore/tables/Streaming/",
         "Streaming/",
         0,
         0
        ],
        [
         "dbfs:/FileStore/tables/StructType-1.csv",
         "StructType-1.csv",
         648,
         1717934508000
        ],
        [
         "dbfs:/FileStore/tables/StructType-2.csv",
         "StructType-2.csv",
         648,
         1717935891000
        ],
        [
         "dbfs:/FileStore/tables/StructType-3.csv",
         "StructType-3.csv",
         648,
         1717936009000
        ],
        [
         "dbfs:/FileStore/tables/StructType-4.csv",
         "StructType-4.csv",
         648,
         1717936144000
        ],
        [
         "dbfs:/FileStore/tables/StructType-5.csv",
         "StructType-5.csv",
         648,
         1717936276000
        ],
        [
         "dbfs:/FileStore/tables/StructType.csv",
         "StructType.csv",
         648,
         1717934306000
        ],
        [
         "dbfs:/FileStore/tables/booleantype-1.csv",
         "booleantype-1.csv",
         4670,
         1726837953000
        ],
        [
         "dbfs:/FileStore/tables/booleantype-2.csv",
         "booleantype-2.csv",
         5337,
         1726841165000
        ],
        [
         "dbfs:/FileStore/tables/booleantype-3.csv",
         "booleantype-3.csv",
         3167,
         1726843335000
        ],
        [
         "dbfs:/FileStore/tables/booleantype-4.csv",
         "booleantype-4.csv",
         2889,
         1726843641000
        ],
        [
         "dbfs:/FileStore/tables/booleantype-5.csv",
         "booleantype-5.csv",
         3164,
         1726851645000
        ],
        [
         "dbfs:/FileStore/tables/booleantype.csv",
         "booleantype.csv",
         4670,
         1726837542000
        ],
        [
         "dbfs:/FileStore/tables/cast_data.txt",
         "cast_data.txt",
         219,
         1720376019000
        ],
        [
         "dbfs:/FileStore/tables/checkpoint/",
         "checkpoint/",
         0,
         0
        ],
        [
         "dbfs:/FileStore/tables/current_date___current_user___current_timestamp__.csv",
         "current_date___current_user___current_timestamp__.csv",
         4040,
         1726313822000
        ],
        [
         "dbfs:/FileStore/tables/date_format-1.csv",
         "date_format-1.csv",
         1656,
         1725709118000
        ],
        [
         "dbfs:/FileStore/tables/date_format-2.csv",
         "date_format-2.csv",
         1923,
         1725709313000
        ],
        [
         "dbfs:/FileStore/tables/date_format.csv",
         "date_format.csv",
         1119,
         1725645247000
        ],
        [
         "dbfs:/FileStore/tables/from_unixtime-1.csv",
         "from_unixtime-1.csv",
         9523,
         1725903833000
        ],
        [
         "dbfs:/FileStore/tables/from_unixtime.csv",
         "from_unixtime.csv",
         9523,
         1725901373000
        ],
        [
         "dbfs:/FileStore/tables/iterate_columns.csv",
         "iterate_columns.csv",
         2023849,
         1719767610000
        ],
        [
         "dbfs:/FileStore/tables/multiline.json",
         "multiline.json",
         1262,
         1725858755000
        ],
        [
         "dbfs:/FileStore/tables/multiline.txt",
         "multiline.txt",
         178,
         1721655243000
        ],
        [
         "dbfs:/FileStore/tables/multiline_nested-1.json",
         "multiline_nested-1.json",
         2233,
         1725884748000
        ],
        [
         "dbfs:/FileStore/tables/multiline_nested.json",
         "multiline_nested.json",
         1731,
         1725870338000
        ],
        [
         "dbfs:/FileStore/tables/person-1.json",
         "person-1.json",
         4608,
         1718609578000
        ],
        [
         "dbfs:/FileStore/tables/person-2.json",
         "person-2.json",
         4616,
         1718610165000
        ],
        [
         "dbfs:/FileStore/tables/person.json",
         "person.json",
         4616,
         1718609425000
        ],
        [
         "dbfs:/FileStore/tables/posexplode.txt",
         "posexplode.txt",
         264,
         1718525465000
        ],
        [
         "dbfs:/FileStore/tables/singleline-1.json",
         "singleline-1.json",
         1000,
         1725857789000
        ],
        [
         "dbfs:/FileStore/tables/singleline-2.json",
         "singleline-2.json",
         999,
         1725858047000
        ],
        [
         "dbfs:/FileStore/tables/singleline-3.json",
         "singleline-3.json",
         1003,
         1725858173000
        ],
        [
         "dbfs:/FileStore/tables/singleline-4.json",
         "singleline-4.json",
         1004,
         1725858244000
        ],
        [
         "dbfs:/FileStore/tables/singleline-5.json",
         "singleline-5.json",
         1006,
         1725858294000
        ],
        [
         "dbfs:/FileStore/tables/singleline-6.json",
         "singleline-6.json",
         1006,
         1725858459000
        ],
        [
         "dbfs:/FileStore/tables/singleline.json",
         "singleline.json",
         1006,
         1725856537000
        ],
        [
         "dbfs:/FileStore/tables/singlelineList.json",
         "singlelineList.json",
         1032,
         1725892526000
        ],
        [
         "dbfs:/FileStore/tables/singleline_nested-1.json",
         "singleline_nested-1.json",
         1388,
         1725883300000
        ],
        [
         "dbfs:/FileStore/tables/singleline_nested.json",
         "singleline_nested.json",
         1096,
         1725870020000
        ],
        [
         "dbfs:/FileStore/tables/split.txt",
         "split.txt",
         390,
         1721625608000
        ],
        [
         "dbfs:/FileStore/tables/streaming.csv",
         "streaming.csv",
         140,
         1728400280000
        ],
        [
         "dbfs:/FileStore/tables/syntax.jpg",
         "syntax.jpg",
         32647,
         1725976365000
        ],
        [
         "dbfs:/FileStore/tables/temp/",
         "temp/",
         0,
         0
        ],
        [
         "dbfs:/FileStore/tables/temp_data/",
         "temp_data/",
         0,
         0
        ],
        [
         "dbfs:/FileStore/tables/temp_data_sales/",
         "temp_data_sales/",
         0,
         0
        ],
        [
         "dbfs:/FileStore/tables/timestamp_millis-1.csv",
         "timestamp_millis-1.csv",
         7513,
         1725903371000
        ],
        [
         "dbfs:/FileStore/tables/timestamp_millis-2.csv",
         "timestamp_millis-2.csv",
         7513,
         1725903430000
        ],
        [
         "dbfs:/FileStore/tables/timestamp_millis-3.csv",
         "timestamp_millis-3.csv",
         8613,
         1725903701000
        ],
        [
         "dbfs:/FileStore/tables/timestamp_millis.csv",
         "timestamp_millis.csv",
         7533,
         1725903084000
        ],
        [
         "dbfs:/FileStore/tables/titanic.csv",
         "titanic.csv",
         60302,
         1717853233000
        ],
        [
         "dbfs:/FileStore/tables/to_date.csv",
         "to_date.csv",
         1923,
         1726112031000
        ],
        [
         "dbfs:/FileStore/tables/to_json.csv",
         "to_json.csv",
         50792,
         1726583981000
        ],
        [
         "dbfs:/FileStore/tables/to_timestamp-1.csv",
         "to_timestamp-1.csv",
         5536,
         1726303458000
        ],
        [
         "dbfs:/FileStore/tables/to_timestamp-2.csv",
         "to_timestamp-2.csv",
         5425,
         1726303695000
        ],
        [
         "dbfs:/FileStore/tables/to_timestamp-3.csv",
         "to_timestamp-3.csv",
         5545,
         1726304079000
        ],
        [
         "dbfs:/FileStore/tables/to_timestamp.csv",
         "to_timestamp.csv",
         6451,
         1726300120000
        ]
       ],
       "datasetInfos": [],
       "dbfsResultPath": null,
       "isJsonSchema": true,
       "metadata": {
        "isDbfsCommandResult": false
       },
       "overflow": false,
       "plotOptions": {
        "customPlotOptions": {},
        "displayType": "table",
        "pivotAggregation": null,
        "pivotColumns": null,
        "xColumns": null,
        "yColumns": null
       },
       "removedWidgets": [],
       "schema": [
        {
         "metadata": "{}",
         "name": "path",
         "type": "\"string\""
        },
        {
         "metadata": "{}",
         "name": "name",
         "type": "\"string\""
        },
        {
         "metadata": "{}",
         "name": "size",
         "type": "\"long\""
        },
        {
         "metadata": "{}",
         "name": "modificationTime",
         "type": "\"long\""
        }
       ],
       "type": "table"
      }
     },
     "output_type": "display_data"
    }
   ],
   "source": [
    "%fs ls /FileStore/tables/"
   ]
  },
  {
   "cell_type": "code",
   "execution_count": 0,
   "metadata": {
    "application/vnd.databricks.v1+cell": {
     "cellMetadata": {
      "byteLimit": 2048000,
      "rowLimit": 10000
     },
     "inputWidgets": {},
     "nuid": "ea477a71-9bbd-4a64-b3ad-625e20a62608",
     "showTitle": false,
     "title": ""
    }
   },
   "outputs": [
    {
     "output_type": "display_data",
     "data": {
      "text/html": [
       "<style scoped>\n",
       "  .table-result-container {\n",
       "    max-height: 300px;\n",
       "    overflow: auto;\n",
       "  }\n",
       "  table, th, td {\n",
       "    border: 1px solid black;\n",
       "    border-collapse: collapse;\n",
       "  }\n",
       "  th, td {\n",
       "    padding: 5px;\n",
       "  }\n",
       "  th {\n",
       "    text-align: left;\n",
       "  }\n",
       "</style><div class='table-result-container'><table class='table-result'><thead style='background-color: white'><tr><th>path</th><th>name</th><th>size</th><th>modificationTime</th></tr></thead><tbody><tr><td>dbfs:/FileStore/tables/Flatten Nested Array.json</td><td>Flatten Nested Array.json</td><td>3756</td><td>1718618620000</td></tr><tr><td>dbfs:/FileStore/tables/MarketPrice-1.csv</td><td>MarketPrice-1.csv</td><td>19528</td><td>1728118055000</td></tr><tr><td>dbfs:/FileStore/tables/MarketPrice.csv</td><td>MarketPrice.csv</td><td>19528</td><td>1719656208000</td></tr><tr><td>dbfs:/FileStore/tables/MultiLineJSON.json/</td><td>MultiLineJSON.json/</td><td>0</td><td>0</td></tr><tr><td>dbfs:/FileStore/tables/MultiLineJSON01.json/</td><td>MultiLineJSON01.json/</td><td>0</td><td>0</td></tr><tr><td>dbfs:/FileStore/tables/MultiLineJSON1.json/</td><td>MultiLineJSON1.json/</td><td>0</td><td>0</td></tr><tr><td>dbfs:/FileStore/tables/MultiLineJSON123.json/</td><td>MultiLineJSON123.json/</td><td>0</td><td>0</td></tr><tr><td>dbfs:/FileStore/tables/MultiLineJSON2.json/</td><td>MultiLineJSON2.json/</td><td>0</td><td>0</td></tr><tr><td>dbfs:/FileStore/tables/Question7.csv</td><td>Question7.csv</td><td>154</td><td>1725816645000</td></tr><tr><td>dbfs:/FileStore/tables/RunningData_Rev02.csv</td><td>RunningData_Rev02.csv</td><td>1222</td><td>1719810609000</td></tr><tr><td>dbfs:/FileStore/tables/RunningData_Rev03.csv</td><td>RunningData_Rev03.csv</td><td>1216</td><td>1719810946000</td></tr><tr><td>dbfs:/FileStore/tables/SalesData_Rev02.csv</td><td>SalesData_Rev02.csv</td><td>472</td><td>1719810784000</td></tr><tr><td>dbfs:/FileStore/tables/SalesData_Rev03.csv</td><td>SalesData_Rev03.csv</td><td>460</td><td>1719810973000</td></tr><tr><td>dbfs:/FileStore/tables/Sales_Collect.csv</td><td>Sales_Collect.csv</td><td>182972</td><td>1720293547000</td></tr><tr><td>dbfs:/FileStore/tables/Sales_Collect_Rev02.csv</td><td>Sales_Collect_Rev02.csv</td><td>166107</td><td>1719810826000</td></tr><tr><td>dbfs:/FileStore/tables/Sales_Collect_Rev03.csv</td><td>Sales_Collect_Rev03.csv</td><td>182828</td><td>1719811001000</td></tr><tr><td>dbfs:/FileStore/tables/StructType-1.csv</td><td>StructType-1.csv</td><td>648</td><td>1717934508000</td></tr><tr><td>dbfs:/FileStore/tables/StructType-2.csv</td><td>StructType-2.csv</td><td>648</td><td>1717935891000</td></tr><tr><td>dbfs:/FileStore/tables/StructType-3.csv</td><td>StructType-3.csv</td><td>648</td><td>1717936009000</td></tr><tr><td>dbfs:/FileStore/tables/StructType-4.csv</td><td>StructType-4.csv</td><td>648</td><td>1717936144000</td></tr><tr><td>dbfs:/FileStore/tables/StructType-5.csv</td><td>StructType-5.csv</td><td>648</td><td>1717936276000</td></tr><tr><td>dbfs:/FileStore/tables/StructType.csv</td><td>StructType.csv</td><td>648</td><td>1717934306000</td></tr><tr><td>dbfs:/FileStore/tables/booleantype-1.csv</td><td>booleantype-1.csv</td><td>4670</td><td>1726837953000</td></tr><tr><td>dbfs:/FileStore/tables/booleantype-2.csv</td><td>booleantype-2.csv</td><td>5337</td><td>1726841165000</td></tr><tr><td>dbfs:/FileStore/tables/booleantype-3.csv</td><td>booleantype-3.csv</td><td>3167</td><td>1726843335000</td></tr><tr><td>dbfs:/FileStore/tables/booleantype-4.csv</td><td>booleantype-4.csv</td><td>2889</td><td>1726843641000</td></tr><tr><td>dbfs:/FileStore/tables/booleantype-5.csv</td><td>booleantype-5.csv</td><td>3164</td><td>1726851645000</td></tr><tr><td>dbfs:/FileStore/tables/booleantype.csv</td><td>booleantype.csv</td><td>4670</td><td>1726837542000</td></tr><tr><td>dbfs:/FileStore/tables/cast_data.txt</td><td>cast_data.txt</td><td>219</td><td>1720376019000</td></tr><tr><td>dbfs:/FileStore/tables/checkpoint/</td><td>checkpoint/</td><td>0</td><td>0</td></tr><tr><td>dbfs:/FileStore/tables/current_date___current_user___current_timestamp__.csv</td><td>current_date___current_user___current_timestamp__.csv</td><td>4040</td><td>1726313822000</td></tr><tr><td>dbfs:/FileStore/tables/date_format-1.csv</td><td>date_format-1.csv</td><td>1656</td><td>1725709118000</td></tr><tr><td>dbfs:/FileStore/tables/date_format-2.csv</td><td>date_format-2.csv</td><td>1923</td><td>1725709313000</td></tr><tr><td>dbfs:/FileStore/tables/date_format.csv</td><td>date_format.csv</td><td>1119</td><td>1725645247000</td></tr><tr><td>dbfs:/FileStore/tables/from_unixtime-1.csv</td><td>from_unixtime-1.csv</td><td>9523</td><td>1725903833000</td></tr><tr><td>dbfs:/FileStore/tables/from_unixtime.csv</td><td>from_unixtime.csv</td><td>9523</td><td>1725901373000</td></tr><tr><td>dbfs:/FileStore/tables/iterate_columns.csv</td><td>iterate_columns.csv</td><td>2023849</td><td>1719767610000</td></tr><tr><td>dbfs:/FileStore/tables/multiline.json</td><td>multiline.json</td><td>1262</td><td>1725858755000</td></tr><tr><td>dbfs:/FileStore/tables/multiline.txt</td><td>multiline.txt</td><td>178</td><td>1721655243000</td></tr><tr><td>dbfs:/FileStore/tables/multiline_nested-1.json</td><td>multiline_nested-1.json</td><td>2233</td><td>1725884748000</td></tr><tr><td>dbfs:/FileStore/tables/multiline_nested.json</td><td>multiline_nested.json</td><td>1731</td><td>1725870338000</td></tr><tr><td>dbfs:/FileStore/tables/person-1.json</td><td>person-1.json</td><td>4608</td><td>1718609578000</td></tr><tr><td>dbfs:/FileStore/tables/person-2.json</td><td>person-2.json</td><td>4616</td><td>1718610165000</td></tr><tr><td>dbfs:/FileStore/tables/person.json</td><td>person.json</td><td>4616</td><td>1718609425000</td></tr><tr><td>dbfs:/FileStore/tables/posexplode.txt</td><td>posexplode.txt</td><td>264</td><td>1718525465000</td></tr><tr><td>dbfs:/FileStore/tables/singleline-1.json</td><td>singleline-1.json</td><td>1000</td><td>1725857789000</td></tr><tr><td>dbfs:/FileStore/tables/singleline-2.json</td><td>singleline-2.json</td><td>999</td><td>1725858047000</td></tr><tr><td>dbfs:/FileStore/tables/singleline-3.json</td><td>singleline-3.json</td><td>1003</td><td>1725858173000</td></tr><tr><td>dbfs:/FileStore/tables/singleline-4.json</td><td>singleline-4.json</td><td>1004</td><td>1725858244000</td></tr><tr><td>dbfs:/FileStore/tables/singleline-5.json</td><td>singleline-5.json</td><td>1006</td><td>1725858294000</td></tr><tr><td>dbfs:/FileStore/tables/singleline-6.json</td><td>singleline-6.json</td><td>1006</td><td>1725858459000</td></tr><tr><td>dbfs:/FileStore/tables/singleline.json</td><td>singleline.json</td><td>1006</td><td>1725856537000</td></tr><tr><td>dbfs:/FileStore/tables/singlelineList.json</td><td>singlelineList.json</td><td>1032</td><td>1725892526000</td></tr><tr><td>dbfs:/FileStore/tables/singleline_nested-1.json</td><td>singleline_nested-1.json</td><td>1388</td><td>1725883300000</td></tr><tr><td>dbfs:/FileStore/tables/singleline_nested.json</td><td>singleline_nested.json</td><td>1096</td><td>1725870020000</td></tr><tr><td>dbfs:/FileStore/tables/split.txt</td><td>split.txt</td><td>390</td><td>1721625608000</td></tr><tr><td>dbfs:/FileStore/tables/syntax.jpg</td><td>syntax.jpg</td><td>32647</td><td>1725976365000</td></tr><tr><td>dbfs:/FileStore/tables/temp/</td><td>temp/</td><td>0</td><td>0</td></tr><tr><td>dbfs:/FileStore/tables/temp_data/</td><td>temp_data/</td><td>0</td><td>0</td></tr><tr><td>dbfs:/FileStore/tables/temp_data_sales/</td><td>temp_data_sales/</td><td>0</td><td>0</td></tr><tr><td>dbfs:/FileStore/tables/timestamp_millis-1.csv</td><td>timestamp_millis-1.csv</td><td>7513</td><td>1725903371000</td></tr><tr><td>dbfs:/FileStore/tables/timestamp_millis-2.csv</td><td>timestamp_millis-2.csv</td><td>7513</td><td>1725903430000</td></tr><tr><td>dbfs:/FileStore/tables/timestamp_millis-3.csv</td><td>timestamp_millis-3.csv</td><td>8613</td><td>1725903701000</td></tr><tr><td>dbfs:/FileStore/tables/timestamp_millis.csv</td><td>timestamp_millis.csv</td><td>7533</td><td>1725903084000</td></tr><tr><td>dbfs:/FileStore/tables/titanic.csv</td><td>titanic.csv</td><td>60302</td><td>1717853233000</td></tr><tr><td>dbfs:/FileStore/tables/to_date.csv</td><td>to_date.csv</td><td>1923</td><td>1726112031000</td></tr><tr><td>dbfs:/FileStore/tables/to_json.csv</td><td>to_json.csv</td><td>50792</td><td>1726583981000</td></tr><tr><td>dbfs:/FileStore/tables/to_timestamp-1.csv</td><td>to_timestamp-1.csv</td><td>5536</td><td>1726303458000</td></tr><tr><td>dbfs:/FileStore/tables/to_timestamp-2.csv</td><td>to_timestamp-2.csv</td><td>5425</td><td>1726303695000</td></tr><tr><td>dbfs:/FileStore/tables/to_timestamp-3.csv</td><td>to_timestamp-3.csv</td><td>5545</td><td>1726304079000</td></tr><tr><td>dbfs:/FileStore/tables/to_timestamp.csv</td><td>to_timestamp.csv</td><td>6451</td><td>1726300120000</td></tr></tbody></table></div>"
      ]
     },
     "metadata": {
      "application/vnd.databricks.v1+output": {
       "addedWidgets": {},
       "aggData": [],
       "aggError": "",
       "aggOverflow": false,
       "aggSchema": [],
       "aggSeriesLimitReached": false,
       "aggType": "",
       "arguments": {},
       "columnCustomDisplayInfos": {},
       "data": [
        [
         "dbfs:/FileStore/tables/Flatten Nested Array.json",
         "Flatten Nested Array.json",
         3756,
         1718618620000
        ],
        [
         "dbfs:/FileStore/tables/MarketPrice-1.csv",
         "MarketPrice-1.csv",
         19528,
         1728118055000
        ],
        [
         "dbfs:/FileStore/tables/MarketPrice.csv",
         "MarketPrice.csv",
         19528,
         1719656208000
        ],
        [
         "dbfs:/FileStore/tables/MultiLineJSON.json/",
         "MultiLineJSON.json/",
         0,
         0
        ],
        [
         "dbfs:/FileStore/tables/MultiLineJSON01.json/",
         "MultiLineJSON01.json/",
         0,
         0
        ],
        [
         "dbfs:/FileStore/tables/MultiLineJSON1.json/",
         "MultiLineJSON1.json/",
         0,
         0
        ],
        [
         "dbfs:/FileStore/tables/MultiLineJSON123.json/",
         "MultiLineJSON123.json/",
         0,
         0
        ],
        [
         "dbfs:/FileStore/tables/MultiLineJSON2.json/",
         "MultiLineJSON2.json/",
         0,
         0
        ],
        [
         "dbfs:/FileStore/tables/Question7.csv",
         "Question7.csv",
         154,
         1725816645000
        ],
        [
         "dbfs:/FileStore/tables/RunningData_Rev02.csv",
         "RunningData_Rev02.csv",
         1222,
         1719810609000
        ],
        [
         "dbfs:/FileStore/tables/RunningData_Rev03.csv",
         "RunningData_Rev03.csv",
         1216,
         1719810946000
        ],
        [
         "dbfs:/FileStore/tables/SalesData_Rev02.csv",
         "SalesData_Rev02.csv",
         472,
         1719810784000
        ],
        [
         "dbfs:/FileStore/tables/SalesData_Rev03.csv",
         "SalesData_Rev03.csv",
         460,
         1719810973000
        ],
        [
         "dbfs:/FileStore/tables/Sales_Collect.csv",
         "Sales_Collect.csv",
         182972,
         1720293547000
        ],
        [
         "dbfs:/FileStore/tables/Sales_Collect_Rev02.csv",
         "Sales_Collect_Rev02.csv",
         166107,
         1719810826000
        ],
        [
         "dbfs:/FileStore/tables/Sales_Collect_Rev03.csv",
         "Sales_Collect_Rev03.csv",
         182828,
         1719811001000
        ],
        [
         "dbfs:/FileStore/tables/StructType-1.csv",
         "StructType-1.csv",
         648,
         1717934508000
        ],
        [
         "dbfs:/FileStore/tables/StructType-2.csv",
         "StructType-2.csv",
         648,
         1717935891000
        ],
        [
         "dbfs:/FileStore/tables/StructType-3.csv",
         "StructType-3.csv",
         648,
         1717936009000
        ],
        [
         "dbfs:/FileStore/tables/StructType-4.csv",
         "StructType-4.csv",
         648,
         1717936144000
        ],
        [
         "dbfs:/FileStore/tables/StructType-5.csv",
         "StructType-5.csv",
         648,
         1717936276000
        ],
        [
         "dbfs:/FileStore/tables/StructType.csv",
         "StructType.csv",
         648,
         1717934306000
        ],
        [
         "dbfs:/FileStore/tables/booleantype-1.csv",
         "booleantype-1.csv",
         4670,
         1726837953000
        ],
        [
         "dbfs:/FileStore/tables/booleantype-2.csv",
         "booleantype-2.csv",
         5337,
         1726841165000
        ],
        [
         "dbfs:/FileStore/tables/booleantype-3.csv",
         "booleantype-3.csv",
         3167,
         1726843335000
        ],
        [
         "dbfs:/FileStore/tables/booleantype-4.csv",
         "booleantype-4.csv",
         2889,
         1726843641000
        ],
        [
         "dbfs:/FileStore/tables/booleantype-5.csv",
         "booleantype-5.csv",
         3164,
         1726851645000
        ],
        [
         "dbfs:/FileStore/tables/booleantype.csv",
         "booleantype.csv",
         4670,
         1726837542000
        ],
        [
         "dbfs:/FileStore/tables/cast_data.txt",
         "cast_data.txt",
         219,
         1720376019000
        ],
        [
         "dbfs:/FileStore/tables/checkpoint/",
         "checkpoint/",
         0,
         0
        ],
        [
         "dbfs:/FileStore/tables/current_date___current_user___current_timestamp__.csv",
         "current_date___current_user___current_timestamp__.csv",
         4040,
         1726313822000
        ],
        [
         "dbfs:/FileStore/tables/date_format-1.csv",
         "date_format-1.csv",
         1656,
         1725709118000
        ],
        [
         "dbfs:/FileStore/tables/date_format-2.csv",
         "date_format-2.csv",
         1923,
         1725709313000
        ],
        [
         "dbfs:/FileStore/tables/date_format.csv",
         "date_format.csv",
         1119,
         1725645247000
        ],
        [
         "dbfs:/FileStore/tables/from_unixtime-1.csv",
         "from_unixtime-1.csv",
         9523,
         1725903833000
        ],
        [
         "dbfs:/FileStore/tables/from_unixtime.csv",
         "from_unixtime.csv",
         9523,
         1725901373000
        ],
        [
         "dbfs:/FileStore/tables/iterate_columns.csv",
         "iterate_columns.csv",
         2023849,
         1719767610000
        ],
        [
         "dbfs:/FileStore/tables/multiline.json",
         "multiline.json",
         1262,
         1725858755000
        ],
        [
         "dbfs:/FileStore/tables/multiline.txt",
         "multiline.txt",
         178,
         1721655243000
        ],
        [
         "dbfs:/FileStore/tables/multiline_nested-1.json",
         "multiline_nested-1.json",
         2233,
         1725884748000
        ],
        [
         "dbfs:/FileStore/tables/multiline_nested.json",
         "multiline_nested.json",
         1731,
         1725870338000
        ],
        [
         "dbfs:/FileStore/tables/person-1.json",
         "person-1.json",
         4608,
         1718609578000
        ],
        [
         "dbfs:/FileStore/tables/person-2.json",
         "person-2.json",
         4616,
         1718610165000
        ],
        [
         "dbfs:/FileStore/tables/person.json",
         "person.json",
         4616,
         1718609425000
        ],
        [
         "dbfs:/FileStore/tables/posexplode.txt",
         "posexplode.txt",
         264,
         1718525465000
        ],
        [
         "dbfs:/FileStore/tables/singleline-1.json",
         "singleline-1.json",
         1000,
         1725857789000
        ],
        [
         "dbfs:/FileStore/tables/singleline-2.json",
         "singleline-2.json",
         999,
         1725858047000
        ],
        [
         "dbfs:/FileStore/tables/singleline-3.json",
         "singleline-3.json",
         1003,
         1725858173000
        ],
        [
         "dbfs:/FileStore/tables/singleline-4.json",
         "singleline-4.json",
         1004,
         1725858244000
        ],
        [
         "dbfs:/FileStore/tables/singleline-5.json",
         "singleline-5.json",
         1006,
         1725858294000
        ],
        [
         "dbfs:/FileStore/tables/singleline-6.json",
         "singleline-6.json",
         1006,
         1725858459000
        ],
        [
         "dbfs:/FileStore/tables/singleline.json",
         "singleline.json",
         1006,
         1725856537000
        ],
        [
         "dbfs:/FileStore/tables/singlelineList.json",
         "singlelineList.json",
         1032,
         1725892526000
        ],
        [
         "dbfs:/FileStore/tables/singleline_nested-1.json",
         "singleline_nested-1.json",
         1388,
         1725883300000
        ],
        [
         "dbfs:/FileStore/tables/singleline_nested.json",
         "singleline_nested.json",
         1096,
         1725870020000
        ],
        [
         "dbfs:/FileStore/tables/split.txt",
         "split.txt",
         390,
         1721625608000
        ],
        [
         "dbfs:/FileStore/tables/syntax.jpg",
         "syntax.jpg",
         32647,
         1725976365000
        ],
        [
         "dbfs:/FileStore/tables/temp/",
         "temp/",
         0,
         0
        ],
        [
         "dbfs:/FileStore/tables/temp_data/",
         "temp_data/",
         0,
         0
        ],
        [
         "dbfs:/FileStore/tables/temp_data_sales/",
         "temp_data_sales/",
         0,
         0
        ],
        [
         "dbfs:/FileStore/tables/timestamp_millis-1.csv",
         "timestamp_millis-1.csv",
         7513,
         1725903371000
        ],
        [
         "dbfs:/FileStore/tables/timestamp_millis-2.csv",
         "timestamp_millis-2.csv",
         7513,
         1725903430000
        ],
        [
         "dbfs:/FileStore/tables/timestamp_millis-3.csv",
         "timestamp_millis-3.csv",
         8613,
         1725903701000
        ],
        [
         "dbfs:/FileStore/tables/timestamp_millis.csv",
         "timestamp_millis.csv",
         7533,
         1725903084000
        ],
        [
         "dbfs:/FileStore/tables/titanic.csv",
         "titanic.csv",
         60302,
         1717853233000
        ],
        [
         "dbfs:/FileStore/tables/to_date.csv",
         "to_date.csv",
         1923,
         1726112031000
        ],
        [
         "dbfs:/FileStore/tables/to_json.csv",
         "to_json.csv",
         50792,
         1726583981000
        ],
        [
         "dbfs:/FileStore/tables/to_timestamp-1.csv",
         "to_timestamp-1.csv",
         5536,
         1726303458000
        ],
        [
         "dbfs:/FileStore/tables/to_timestamp-2.csv",
         "to_timestamp-2.csv",
         5425,
         1726303695000
        ],
        [
         "dbfs:/FileStore/tables/to_timestamp-3.csv",
         "to_timestamp-3.csv",
         5545,
         1726304079000
        ],
        [
         "dbfs:/FileStore/tables/to_timestamp.csv",
         "to_timestamp.csv",
         6451,
         1726300120000
        ]
       ],
       "datasetInfos": [],
       "dbfsResultPath": null,
       "isJsonSchema": true,
       "metadata": {},
       "overflow": false,
       "plotOptions": {
        "customPlotOptions": {},
        "displayType": "table",
        "pivotAggregation": null,
        "pivotColumns": null,
        "xColumns": null,
        "yColumns": null
       },
       "removedWidgets": [],
       "schema": [
        {
         "metadata": "{}",
         "name": "path",
         "type": "\"string\""
        },
        {
         "metadata": "{}",
         "name": "name",
         "type": "\"string\""
        },
        {
         "metadata": "{}",
         "name": "size",
         "type": "\"long\""
        },
        {
         "metadata": "{}",
         "name": "modificationTime",
         "type": "\"long\""
        }
       ],
       "type": "table"
      }
     },
     "output_type": "display_data"
    }
   ],
   "source": [
    "# To check whether a folder has been deleted\n",
    "display(dbutils.fs.ls(\"/FileStore/tables/\"))"
   ]
  },
  {
   "cell_type": "code",
   "execution_count": 0,
   "metadata": {
    "application/vnd.databricks.v1+cell": {
     "cellMetadata": {
      "byteLimit": 2048000,
      "rowLimit": 10000
     },
     "inputWidgets": {},
     "nuid": "3b13b644-7ce5-4735-a254-b6862740540f",
     "showTitle": false,
     "title": ""
    }
   },
   "outputs": [
    {
     "output_type": "display_data",
     "data": {
      "text/html": [
       "<style scoped>\n",
       "  .table-result-container {\n",
       "    max-height: 300px;\n",
       "    overflow: auto;\n",
       "  }\n",
       "  table, th, td {\n",
       "    border: 1px solid black;\n",
       "    border-collapse: collapse;\n",
       "  }\n",
       "  th, td {\n",
       "    padding: 5px;\n",
       "  }\n",
       "  th {\n",
       "    text-align: left;\n",
       "  }\n",
       "</style><div class='table-result-container'><table class='table-result'><thead style='background-color: white'><tr><th>path</th><th>name</th><th>size</th><th>modificationTime</th></tr></thead><tbody><tr><td>dbfs:/FileStore/tables/temp_data/data_16062023/</td><td>data_16062023/</td><td>0</td><td>0</td></tr><tr><td>dbfs:/FileStore/tables/temp_data/data_16062024/</td><td>data_16062024/</td><td>0</td><td>0</td></tr><tr><td>dbfs:/FileStore/tables/temp_data/sales_01.csv</td><td>sales_01.csv</td><td>1423</td><td>1728143544000</td></tr><tr><td>dbfs:/FileStore/tables/temp_data/sales_02.csv</td><td>sales_02.csv</td><td>1423</td><td>1728143544000</td></tr></tbody></table></div>"
      ]
     },
     "metadata": {
      "application/vnd.databricks.v1+output": {
       "addedWidgets": {},
       "aggData": [],
       "aggError": "",
       "aggOverflow": false,
       "aggSchema": [],
       "aggSeriesLimitReached": false,
       "aggType": "",
       "arguments": {},
       "columnCustomDisplayInfos": {},
       "data": [
        [
         "dbfs:/FileStore/tables/temp_data/data_16062023/",
         "data_16062023/",
         0,
         0
        ],
        [
         "dbfs:/FileStore/tables/temp_data/data_16062024/",
         "data_16062024/",
         0,
         0
        ],
        [
         "dbfs:/FileStore/tables/temp_data/sales_01.csv",
         "sales_01.csv",
         1423,
         1728143544000
        ],
        [
         "dbfs:/FileStore/tables/temp_data/sales_02.csv",
         "sales_02.csv",
         1423,
         1728143544000
        ]
       ],
       "datasetInfos": [],
       "dbfsResultPath": null,
       "isJsonSchema": true,
       "metadata": {
        "isDbfsCommandResult": false
       },
       "overflow": false,
       "plotOptions": {
        "customPlotOptions": {},
        "displayType": "table",
        "pivotAggregation": null,
        "pivotColumns": null,
        "xColumns": null,
        "yColumns": null
       },
       "removedWidgets": [],
       "schema": [
        {
         "metadata": "{}",
         "name": "path",
         "type": "\"string\""
        },
        {
         "metadata": "{}",
         "name": "name",
         "type": "\"string\""
        },
        {
         "metadata": "{}",
         "name": "size",
         "type": "\"long\""
        },
        {
         "metadata": "{}",
         "name": "modificationTime",
         "type": "\"long\""
        }
       ],
       "type": "table"
      }
     },
     "output_type": "display_data"
    }
   ],
   "source": [
    "%fs ls dbfs:/FileStore/tables/temp_data/"
   ]
  },
  {
   "cell_type": "markdown",
   "metadata": {
    "application/vnd.databricks.v1+cell": {
     "cellMetadata": {},
     "inputWidgets": {},
     "nuid": "2949bb39-a00e-4f02-9eaa-e7370beb30c4",
     "showTitle": false,
     "title": ""
    }
   },
   "source": [
    "#### **1) How to remove Files?**"
   ]
  },
  {
   "cell_type": "markdown",
   "metadata": {
    "application/vnd.databricks.v1+cell": {
     "cellMetadata": {},
     "inputWidgets": {},
     "nuid": "4eef8b04-4753-447a-a857-342f4f00bc43",
     "showTitle": false,
     "title": ""
    }
   },
   "source": [
    "     dbutils.fs.rm(\"/FileStore/tables/Show_truncate-1.csv\")\n",
    "                         (or)\n",
    "     dbutils.fs.rm(\"/FileStore/tables/circuits.csv\", recurse=False)\n",
    "                         (or)\n",
    "     %fs rm -r /FileStore/tables/Party_Relationship.csv"
   ]
  },
  {
   "cell_type": "markdown",
   "metadata": {
    "application/vnd.databricks.v1+cell": {
     "cellMetadata": {},
     "inputWidgets": {},
     "nuid": "cd364290-56b8-4db2-b348-fe906e0d9dc2",
     "showTitle": false,
     "title": ""
    }
   },
   "source": [
    "**How to remove single file?**"
   ]
  },
  {
   "cell_type": "code",
   "execution_count": 0,
   "metadata": {
    "application/vnd.databricks.v1+cell": {
     "cellMetadata": {
      "byteLimit": 2048000,
      "rowLimit": 10000
     },
     "inputWidgets": {},
     "nuid": "c39fb1b1-1196-406b-a137-31eb5c91b5a0",
     "showTitle": false,
     "title": ""
    }
   },
   "outputs": [
    {
     "output_type": "stream",
     "name": "stdout",
     "output_type": "stream",
     "text": [
      "Out[1]: False"
     ]
    }
   ],
   "source": [
    "dbutils.fs.rm(\"dbfs:/FileStore/tables/MarketPrice-1.csv\")"
   ]
  },
  {
   "cell_type": "code",
   "execution_count": 0,
   "metadata": {
    "application/vnd.databricks.v1+cell": {
     "cellMetadata": {},
     "inputWidgets": {},
     "nuid": "1548a3b0-3538-40d3-a01f-a7f6f838c051",
     "showTitle": false,
     "title": ""
    }
   },
   "outputs": [],
   "source": [
    "df = spark.read.csv(\"dbfs:/FileStore/tables/MarketPrice-1.csv\", header=True, inferSchema=True)"
   ]
  },
  {
   "cell_type": "markdown",
   "metadata": {
    "application/vnd.databricks.v1+cell": {
     "cellMetadata": {},
     "inputWidgets": {},
     "nuid": "e0732b4c-26c3-4f93-bcfe-cec8cb34cfd7",
     "showTitle": false,
     "title": ""
    }
   },
   "source": [
    "**How to remove multiple files?**"
   ]
  },
  {
   "cell_type": "code",
   "execution_count": 0,
   "metadata": {
    "application/vnd.databricks.v1+cell": {
     "cellMetadata": {},
     "inputWidgets": {},
     "nuid": "d51cb72e-8558-420b-9130-c6cb928b8726",
     "showTitle": true,
     "title": "Remove multiple files"
    }
   },
   "outputs": [],
   "source": [
    "dbutils.fs.rm(\"dbfs:/FileStore/tables/RunningData_Rev02.csv\")\n",
    "dbutils.fs.rm(\"dbfs:/FileStore/tables/Sales_Collect_Rev02.csv\")\n",
    "dbutils.fs.rm(\"dbfs:/FileStore/tables/StructType-1.csv\")\n",
    "dbutils.fs.rm(\"dbfs:/FileStore/tables/StructType-2.csv\")\n",
    "dbutils.fs.rm(\"dbfs:/FileStore/tables/StructType-3.csv\")\n",
    "dbutils.fs.rm(\"dbfs:/FileStore/tables/person-1.json\")"
   ]
  },
  {
   "cell_type": "markdown",
   "metadata": {
    "application/vnd.databricks.v1+cell": {
     "cellMetadata": {},
     "inputWidgets": {},
     "nuid": "9c4e12bb-9b78-4b8e-91c0-c201caa2bcc3",
     "showTitle": false,
     "title": ""
    }
   },
   "source": [
    "**How to check and delete files?**"
   ]
  },
  {
   "cell_type": "code",
   "execution_count": 0,
   "metadata": {
    "application/vnd.databricks.v1+cell": {
     "cellMetadata": {
      "byteLimit": 2048000,
      "rowLimit": 10000
     },
     "inputWidgets": {},
     "nuid": "d375283f-87d2-4b80-8622-0c6b32787133",
     "showTitle": false,
     "title": ""
    }
   },
   "outputs": [
    {
     "output_type": "display_data",
     "data": {
      "text/html": [
       "<style scoped>\n",
       "  .table-result-container {\n",
       "    max-height: 300px;\n",
       "    overflow: auto;\n",
       "  }\n",
       "  table, th, td {\n",
       "    border: 1px solid black;\n",
       "    border-collapse: collapse;\n",
       "  }\n",
       "  th, td {\n",
       "    padding: 5px;\n",
       "  }\n",
       "  th {\n",
       "    text-align: left;\n",
       "  }\n",
       "</style><div class='table-result-container'><table class='table-result'><thead style='background-color: white'><tr><th>path</th><th>name</th><th>size</th><th>modificationTime</th></tr></thead><tbody><tr><td>dbfs:/user/hive/warehouse/tbl_enriched_marketprice/_delta_log/</td><td>_delta_log/</td><td>0</td><td>0</td></tr><tr><td>dbfs:/user/hive/warehouse/tbl_enriched_marketprice/part-00000-f100a20e-3ae2-4121-b294-bdbd582ca9c7-c000.snappy.parquet</td><td>part-00000-f100a20e-3ae2-4121-b294-bdbd582ca9c7-c000.snappy.parquet</td><td>7689</td><td>1719675399000</td></tr></tbody></table></div>"
      ]
     },
     "metadata": {
      "application/vnd.databricks.v1+output": {
       "addedWidgets": {},
       "aggData": [],
       "aggError": "",
       "aggOverflow": false,
       "aggSchema": [],
       "aggSeriesLimitReached": false,
       "aggType": "",
       "arguments": {},
       "columnCustomDisplayInfos": {},
       "data": [
        [
         "dbfs:/user/hive/warehouse/tbl_enriched_marketprice/_delta_log/",
         "_delta_log/",
         0,
         0
        ],
        [
         "dbfs:/user/hive/warehouse/tbl_enriched_marketprice/part-00000-f100a20e-3ae2-4121-b294-bdbd582ca9c7-c000.snappy.parquet",
         "part-00000-f100a20e-3ae2-4121-b294-bdbd582ca9c7-c000.snappy.parquet",
         7689,
         1719675399000
        ]
       ],
       "datasetInfos": [],
       "dbfsResultPath": null,
       "isJsonSchema": true,
       "metadata": {},
       "overflow": false,
       "plotOptions": {
        "customPlotOptions": {},
        "displayType": "table",
        "pivotAggregation": null,
        "pivotColumns": null,
        "xColumns": null,
        "yColumns": null
       },
       "removedWidgets": [],
       "schema": [
        {
         "metadata": "{}",
         "name": "path",
         "type": "\"string\""
        },
        {
         "metadata": "{}",
         "name": "name",
         "type": "\"string\""
        },
        {
         "metadata": "{}",
         "name": "size",
         "type": "\"long\""
        },
        {
         "metadata": "{}",
         "name": "modificationTime",
         "type": "\"long\""
        }
       ],
       "type": "table"
      }
     },
     "output_type": "display_data"
    }
   ],
   "source": [
    "# Check the folder and list the content\n",
    "display(dbutils.fs.ls(\"dbfs:/user/hive/warehouse/tbl_enriched_marketprice\"))"
   ]
  },
  {
   "cell_type": "code",
   "execution_count": 0,
   "metadata": {
    "application/vnd.databricks.v1+cell": {
     "cellMetadata": {},
     "inputWidgets": {},
     "nuid": "64a5771b-5672-46b9-9daf-d6748f4e472a",
     "showTitle": false,
     "title": ""
    }
   },
   "outputs": [],
   "source": [
    "dbutils.fs.rm(\"dbfs:/user/hive/warehouse/tbl_enriched_marketprice\", recurse=true)"
   ]
  },
  {
   "cell_type": "markdown",
   "metadata": {
    "application/vnd.databricks.v1+cell": {
     "cellMetadata": {},
     "inputWidgets": {},
     "nuid": "79d16ba0-680a-4968-a259-b9875a419b2e",
     "showTitle": false,
     "title": ""
    }
   },
   "source": [
    "#### **2) How to remove folder?**"
   ]
  },
  {
   "cell_type": "markdown",
   "metadata": {
    "application/vnd.databricks.v1+cell": {
     "cellMetadata": {},
     "inputWidgets": {},
     "nuid": "250f5372-21b1-43e9-998a-1640e1a95613",
     "showTitle": false,
     "title": ""
    }
   },
   "source": [
    "     dbutils.fs.rm(\"/FileStore/tables/Parquet_Userdata1\", recurse=True)\n",
    "                                 (or)\n",
    "     dbutils.fs.rm(\"/FileStore/tables/Parquet_Userdata1\", True)\n",
    "                                 (or)\n",
    "     %fs rm -r /FileStore/tables/Parquet_Userdata3\n",
    "     where,\n",
    "           %fs magic command to use dbutils\n",
    "           rm remove command\n",
    "           -r recursive flag to delete a directory and all its contents\n",
    "           /mnt/driver-daemon/jars/ path to directory                            "
   ]
  },
  {
   "cell_type": "markdown",
   "metadata": {
    "application/vnd.databricks.v1+cell": {
     "cellMetadata": {},
     "inputWidgets": {},
     "nuid": "1c9456b6-24d2-458b-9c5c-0e0f8a803b47",
     "showTitle": false,
     "title": ""
    }
   },
   "source": [
    "**EX 01**"
   ]
  },
  {
   "cell_type": "code",
   "execution_count": 0,
   "metadata": {
    "application/vnd.databricks.v1+cell": {
     "cellMetadata": {
      "byteLimit": 2048000,
      "rowLimit": 10000
     },
     "inputWidgets": {},
     "nuid": "db47cddb-0a4e-42b9-882e-c7185cdf0ad2",
     "showTitle": true,
     "title": "Remove Root folder"
    }
   },
   "outputs": [
    {
     "output_type": "stream",
     "name": "stdout",
     "output_type": "stream",
     "text": [
      "Out[1]: True"
     ]
    }
   ],
   "source": [
    "# remove root folder\n",
    "dbutils.fs.rm(\"dbfs:/FileStore/tables/temp\", recurse=True)"
   ]
  },
  {
   "cell_type": "code",
   "execution_count": 0,
   "metadata": {
    "application/vnd.databricks.v1+cell": {
     "cellMetadata": {
      "byteLimit": 2048000,
      "rowLimit": 10000
     },
     "inputWidgets": {},
     "nuid": "7ef93949-1900-4c23-bc29-191c9f7eedf8",
     "showTitle": true,
     "title": "Remove sub-folder"
    }
   },
   "outputs": [
    {
     "output_type": "stream",
     "name": "stdout",
     "output_type": "stream",
     "text": [
      "Out[5]: True"
     ]
    }
   ],
   "source": [
    "# remove sub folder\n",
    "dbutils.fs.rm(\"dbfs:/FileStore/tables/temp_data/data_16062024/\", recurse=True)"
   ]
  },
  {
   "cell_type": "markdown",
   "metadata": {
    "application/vnd.databricks.v1+cell": {
     "cellMetadata": {},
     "inputWidgets": {},
     "nuid": "31a968cd-fe5b-4802-9bc5-76573740a1d7",
     "showTitle": false,
     "title": ""
    }
   },
   "source": [
    "**EX 02**"
   ]
  },
  {
   "cell_type": "code",
   "execution_count": 0,
   "metadata": {
    "application/vnd.databricks.v1+cell": {
     "cellMetadata": {},
     "inputWidgets": {},
     "nuid": "d81c0be5-c056-46b7-ae4a-ef619b9da88f",
     "showTitle": false,
     "title": ""
    }
   },
   "outputs": [],
   "source": [
    "data = \"Name, Location, Domain, Country, Age\\nSuresh, Bangalore, ADE, India, 25\\nSampath, Bihar, Excel, India, 35\\nKishore, Chennai, ADf, India, 28\\nBharath, Hyderabad, Admin, India, 38\\nBharani, Amaravathi, GITHUB, India, 45\"\n",
    "\n",
    "dbutils.fs.put(\"/Volumes/main/default/my-volume/hello.txt\", data, True)"
   ]
  },
  {
   "cell_type": "code",
   "execution_count": 0,
   "metadata": {
    "application/vnd.databricks.v1+cell": {
     "cellMetadata": {},
     "inputWidgets": {},
     "nuid": "ea6f30f1-2661-4104-a261-675cafed539c",
     "showTitle": false,
     "title": ""
    }
   },
   "outputs": [],
   "source": [
    "dbutils.fs.rm(\"dbfs:/Volumes\", True)"
   ]
  },
  {
   "cell_type": "markdown",
   "metadata": {
    "application/vnd.databricks.v1+cell": {
     "cellMetadata": {},
     "inputWidgets": {},
     "nuid": "6500599f-8cec-4240-8145-8e868754f3d0",
     "showTitle": false,
     "title": ""
    }
   },
   "source": [
    "#### **3) How to remove checkpoint?**"
   ]
  },
  {
   "cell_type": "code",
   "execution_count": 0,
   "metadata": {
    "application/vnd.databricks.v1+cell": {
     "cellMetadata": {
      "byteLimit": 2048000,
      "rowLimit": 10000
     },
     "inputWidgets": {},
     "nuid": "99c9e970-cf3f-4a5e-908a-158ac97411ea",
     "showTitle": false,
     "title": ""
    }
   },
   "outputs": [],
   "source": [
    "from pyspark.sql.types import StructType, StructField, IntegerType, StringType\n",
    "\n",
    "# Define the schema based on the CSV structure\n",
    "schema_csv = StructType([\n",
    "    StructField(\"Id\", IntegerType(), True),\n",
    "    StructField(\"Name\", StringType(), True),\n",
    "    StructField(\"Age\", IntegerType(), True)\n",
    "])"
   ]
  },
  {
   "cell_type": "code",
   "execution_count": 0,
   "metadata": {
    "application/vnd.databricks.v1+cell": {
     "cellMetadata": {
      "byteLimit": 2048000,
      "rowLimit": 10000
     },
     "inputWidgets": {},
     "nuid": "a3719257-7816-4c53-9b83-5ed84820d3d3",
     "showTitle": false,
     "title": ""
    }
   },
   "outputs": [
    {
     "output_type": "display_data",
     "data": {
      "text/html": [
       "<style scoped>\n",
       "  .table-result-container {\n",
       "    max-height: 300px;\n",
       "    overflow: auto;\n",
       "  }\n",
       "  table, th, td {\n",
       "    border: 1px solid black;\n",
       "    border-collapse: collapse;\n",
       "  }\n",
       "  th, td {\n",
       "    padding: 5px;\n",
       "  }\n",
       "  th {\n",
       "    text-align: left;\n",
       "  }\n",
       "</style><div class='table-result-container'><table class='table-result'><thead style='background-color: white'><tr><th>Id</th><th>Name</th><th>Age</th></tr></thead><tbody></tbody></table></div>"
      ]
     },
     "metadata": {
      "application/vnd.databricks.v1+output": {
       "addedWidgets": {},
       "aggData": [],
       "aggError": "",
       "aggOverflow": false,
       "aggSchema": [],
       "aggSeriesLimitReached": false,
       "aggType": "",
       "arguments": {},
       "columnCustomDisplayInfos": {},
       "data": [],
       "datasetInfos": [],
       "dbfsResultPath": null,
       "isJsonSchema": true,
       "metadata": {
        "isDbfsCommandResult": false
       },
       "overflow": false,
       "plotOptions": {
        "customPlotOptions": {},
        "displayType": "table",
        "pivotAggregation": null,
        "pivotColumns": null,
        "xColumns": null,
        "yColumns": null
       },
       "removedWidgets": [],
       "schema": [
        {
         "metadata": "{}",
         "name": "Id",
         "type": "\"integer\""
        },
        {
         "metadata": "{}",
         "name": "Name",
         "type": "\"string\""
        },
        {
         "metadata": "{}",
         "name": "Age",
         "type": "\"integer\""
        }
       ],
       "type": "table"
      }
     },
     "output_type": "display_data"
    }
   ],
   "source": [
    "df_stream_Single = spark.readStream\\\n",
    "                        .format(\"csv\")\\\n",
    "                        .option(\"header\", True)\\\n",
    "                        .schema(schema_csv)\\\n",
    "                        .csv(\"/FileStore/tables/Streaming/Stream_readStream/\")\n",
    "                        \n",
    "display(df_stream_Single)"
   ]
  },
  {
   "cell_type": "code",
   "execution_count": 0,
   "metadata": {
    "application/vnd.databricks.v1+cell": {
     "cellMetadata": {
      "byteLimit": 2048000,
      "rowLimit": 10000
     },
     "inputWidgets": {},
     "nuid": "c6f78473-3c57-4ceb-a973-164f1d9c2468",
     "showTitle": false,
     "title": ""
    }
   },
   "outputs": [
    {
     "output_type": "display_data",
     "data": {
      "text/html": [
       "<style scoped>\n",
       "  .table-result-container {\n",
       "    max-height: 300px;\n",
       "    overflow: auto;\n",
       "  }\n",
       "  table, th, td {\n",
       "    border: 1px solid black;\n",
       "    border-collapse: collapse;\n",
       "  }\n",
       "  th, td {\n",
       "    padding: 5px;\n",
       "  }\n",
       "  th {\n",
       "    text-align: left;\n",
       "  }\n",
       "</style><div class='table-result-container'><table class='table-result'><thead style='background-color: white'><tr><th>Id</th><th>Name</th><th>Age</th></tr></thead><tbody><tr><td>1</td><td>Niroop</td><td>35</td></tr><tr><td>2</td><td>Nayani</td><td>25</td></tr><tr><td>3</td><td>Swaroop</td><td>33</td></tr><tr><td>4</td><td>Sam</td><td>29</td></tr><tr><td>5</td><td>Rashi</td><td>42</td></tr><tr><td>6</td><td>Tanvee</td><td>22</td></tr><tr><td>7</td><td>Shobha</td><td>34</td></tr><tr><td>8</td><td>Divya</td><td>37</td></tr><tr><td>9</td><td>Vivek</td><td>39</td></tr><tr><td>10</td><td>Narayan</td><td>28</td></tr><tr><td>null</td><td>null</td><td>null</td></tr><tr><td>null</td><td>null</td><td>null</td></tr><tr><td>null</td><td>null</td><td>null</td></tr><tr><td>null</td><td>null</td><td>null</td></tr><tr><td>null</td><td>null</td><td>null</td></tr><tr><td>null</td><td>null</td><td>null</td></tr><tr><td>null</td><td>null</td><td>null</td></tr><tr><td>null</td><td>null</td><td>null</td></tr><tr><td>null</td><td>null</td><td>null</td></tr><tr><td>null</td><td>null</td><td>null</td></tr><tr><td>null</td><td>null</td><td>null</td></tr><tr><td>null</td><td>null</td><td>null</td></tr><tr><td>null</td><td>null</td><td>null</td></tr><tr><td>null</td><td>null</td><td>null</td></tr><tr><td>null</td><td>null</td><td>null</td></tr><tr><td>null</td><td>null</td><td>null</td></tr><tr><td>null</td><td>null</td><td>null</td></tr><tr><td>null</td><td>null</td><td>null</td></tr><tr><td>null</td><td>null</td><td>null</td></tr><tr><td>null</td><td>null</td><td>null</td></tr><tr><td>null</td><td>null</td><td>null</td></tr><tr><td>null</td><td>null</td><td>null</td></tr><tr><td>null</td><td>null</td><td>null</td></tr><tr><td>null</td><td>null</td><td>null</td></tr><tr><td>null</td><td>null</td><td>null</td></tr><tr><td>null</td><td>null</td><td>null</td></tr><tr><td>null</td><td>null</td><td>null</td></tr><tr><td>null</td><td>null</td><td>null</td></tr><tr><td>null</td><td>null</td><td>null</td></tr><tr><td>null</td><td>null</td><td>null</td></tr><tr><td>null</td><td>null</td><td>null</td></tr><tr><td>null</td><td>null</td><td>null</td></tr><tr><td>null</td><td>null</td><td>null</td></tr><tr><td>null</td><td>null</td><td>null</td></tr><tr><td>null</td><td>null</td><td>null</td></tr><tr><td>null</td><td>null</td><td>null</td></tr><tr><td>null</td><td>null</td><td>null</td></tr><tr><td>null</td><td>null</td><td>null</td></tr><tr><td>null</td><td>null</td><td>null</td></tr><tr><td>null</td><td>null</td><td>null</td></tr></tbody></table></div>"
      ]
     },
     "metadata": {
      "application/vnd.databricks.v1+output": {
       "addedWidgets": {},
       "aggData": [],
       "aggError": "",
       "aggOverflow": false,
       "aggSchema": [],
       "aggSeriesLimitReached": false,
       "aggType": "",
       "arguments": {},
       "columnCustomDisplayInfos": {},
       "data": [
        [
         1,
         "Niroop",
         35
        ],
        [
         2,
         "Nayani",
         25
        ],
        [
         3,
         "Swaroop",
         33
        ],
        [
         4,
         "Sam",
         29
        ],
        [
         5,
         "Rashi",
         42
        ],
        [
         6,
         "Tanvee",
         22
        ],
        [
         7,
         "Shobha",
         34
        ],
        [
         8,
         "Divya",
         37
        ],
        [
         9,
         "Vivek",
         39
        ],
        [
         10,
         "Narayan",
         28
        ],
        [
         null,
         null,
         null
        ],
        [
         null,
         null,
         null
        ],
        [
         null,
         null,
         null
        ],
        [
         null,
         null,
         null
        ],
        [
         null,
         null,
         null
        ],
        [
         null,
         null,
         null
        ],
        [
         null,
         null,
         null
        ],
        [
         null,
         null,
         null
        ],
        [
         null,
         null,
         null
        ],
        [
         null,
         null,
         null
        ],
        [
         null,
         null,
         null
        ],
        [
         null,
         null,
         null
        ],
        [
         null,
         null,
         null
        ],
        [
         null,
         null,
         null
        ],
        [
         null,
         null,
         null
        ],
        [
         null,
         null,
         null
        ],
        [
         null,
         null,
         null
        ],
        [
         null,
         null,
         null
        ],
        [
         null,
         null,
         null
        ],
        [
         null,
         null,
         null
        ],
        [
         null,
         null,
         null
        ],
        [
         null,
         null,
         null
        ],
        [
         null,
         null,
         null
        ],
        [
         null,
         null,
         null
        ],
        [
         null,
         null,
         null
        ],
        [
         null,
         null,
         null
        ],
        [
         null,
         null,
         null
        ],
        [
         null,
         null,
         null
        ],
        [
         null,
         null,
         null
        ],
        [
         null,
         null,
         null
        ],
        [
         null,
         null,
         null
        ],
        [
         null,
         null,
         null
        ],
        [
         null,
         null,
         null
        ],
        [
         null,
         null,
         null
        ],
        [
         null,
         null,
         null
        ],
        [
         null,
         null,
         null
        ],
        [
         null,
         null,
         null
        ],
        [
         null,
         null,
         null
        ],
        [
         null,
         null,
         null
        ],
        [
         null,
         null,
         null
        ]
       ],
       "datasetInfos": [],
       "dbfsResultPath": null,
       "isJsonSchema": true,
       "metadata": {
        "isDbfsCommandResult": false
       },
       "overflow": false,
       "plotOptions": {
        "customPlotOptions": {},
        "displayType": "table",
        "pivotAggregation": null,
        "pivotColumns": null,
        "xColumns": null,
        "yColumns": null
       },
       "removedWidgets": [],
       "schema": [
        {
         "metadata": "{}",
         "name": "Id",
         "type": "\"integer\""
        },
        {
         "metadata": "{}",
         "name": "Name",
         "type": "\"string\""
        },
        {
         "metadata": "{}",
         "name": "Age",
         "type": "\"integer\""
        }
       ],
       "type": "table"
      }
     },
     "output_type": "display_data"
    }
   ],
   "source": [
    "checkpoint = \"dbfs:/FileStore/tables/Streaming/Stream_checkpoint\"\n",
    "\n",
    "df_stream_Single.writeStream\\\n",
    "                .format('parquet')\\\n",
    "                .outputMode('append')\\\n",
    "                .option(\"path\", \"/FileStore/tables/Streaming/Stream_writeStream/\")\\\n",
    "                .option(\"checkpointLocation\", checkpoint)\\\n",
    "                .start()\n",
    "\n",
    "display(df_stream_Single)"
   ]
  },
  {
   "cell_type": "code",
   "execution_count": 0,
   "metadata": {
    "application/vnd.databricks.v1+cell": {
     "cellMetadata": {
      "byteLimit": 2048000,
      "rowLimit": 10000
     },
     "inputWidgets": {},
     "nuid": "0f9d4dfe-9afe-44c4-bb28-dca526022c11",
     "showTitle": false,
     "title": ""
    }
   },
   "outputs": [
    {
     "output_type": "stream",
     "name": "stdout",
     "output_type": "stream",
     "text": [
      "Out[22]: True"
     ]
    }
   ],
   "source": [
    "dbutils.fs.rm(checkpoint, recurse=True)"
   ]
  },
  {
   "cell_type": "markdown",
   "metadata": {
    "application/vnd.databricks.v1+cell": {
     "cellMetadata": {},
     "inputWidgets": {},
     "nuid": "9e4eb273-bec8-435e-aa18-61c9a4afc71b",
     "showTitle": false,
     "title": ""
    }
   },
   "source": [
    "#### **4) Create folder and Remove folders**"
   ]
  },
  {
   "cell_type": "markdown",
   "metadata": {
    "application/vnd.databricks.v1+cell": {
     "cellMetadata": {},
     "inputWidgets": {},
     "nuid": "3ea809e5-3f2f-4e00-88ae-28cdcd43ef62",
     "showTitle": false,
     "title": ""
    }
   },
   "source": [
    "#### **mkdirs command (dbutils.fs.mkdirs)**\n",
    "\n",
    "- Creates the given **directory if it does not exist**."
   ]
  },
  {
   "cell_type": "code",
   "execution_count": 0,
   "metadata": {
    "application/vnd.databricks.v1+cell": {
     "cellMetadata": {},
     "inputWidgets": {},
     "nuid": "e907a61f-bb38-4b49-8d31-062f86b86588",
     "showTitle": false,
     "title": ""
    }
   },
   "outputs": [],
   "source": [
    "dbutils.fs.help(\"mkdirs\")"
   ]
  },
  {
   "cell_type": "code",
   "execution_count": 0,
   "metadata": {
    "application/vnd.databricks.v1+cell": {
     "cellMetadata": {},
     "inputWidgets": {},
     "nuid": "61dd2733-b524-498a-b3b4-7b6220e8266d",
     "showTitle": false,
     "title": ""
    }
   },
   "outputs": [],
   "source": [
    "dbutils.fs.mkdirs(\"/FileStore/tables/Streaming/Stream_checkpoint/csv\")\n",
    "dbutils.fs.mkdirs(\"/FileStore/tables/Streaming/Stream_checkpoint/json\")\n",
    "dbutils.fs.mkdirs(\"/FileStore/tables/Streaming/Stream_checkpoint/parquet\")\n",
    "dbutils.fs.mkdirs(\"/FileStore/tables/Streaming/Stream_checkpoint/orc\")\n",
    "dbutils.fs.mkdirs(\"/FileStore/tables/Streaming/Stream_checkpoint/avro\")\n",
    "\n",
    "dbutils.fs.mkdirs(\"/FileStore/tables/Streaming/Stream_readStream/csv/\")\n",
    "dbutils.fs.mkdirs(\"/FileStore/tables/Streaming/Stream_readStream/json/\")\n",
    "dbutils.fs.mkdirs(\"/FileStore/tables/Streaming/Stream_readStream/parquet/\")\n",
    "dbutils.fs.mkdirs(\"/FileStore/tables/Streaming/Stream_readStream/orc/\")\n",
    "dbutils.fs.mkdirs(\"/FileStore/tables/Streaming/Stream_readStream/avro/\")\n",
    "\n",
    "dbutils.fs.mkdirs(\"/FileStore/tables/Streaming/Stream_writeStream/csv/\")\n",
    "dbutils.fs.mkdirs(\"/FileStore/tables/Streaming/Stream_writeStream/json/\")\n",
    "dbutils.fs.mkdirs(\"/FileStore/tables/Streaming/Stream_writeStream/parquet/\")\n",
    "dbutils.fs.mkdirs(\"/FileStore/tables/Streaming/Stream_writeStream/orc/\")\n",
    "dbutils.fs.mkdirs(\"/FileStore/tables/Streaming/Stream_writeStream/avro/\")"
   ]
  },
  {
   "cell_type": "code",
   "execution_count": 0,
   "metadata": {
    "application/vnd.databricks.v1+cell": {
     "cellMetadata": {},
     "inputWidgets": {},
     "nuid": "f386e9fe-9d88-4c84-a751-3aea20a57d18",
     "showTitle": false,
     "title": ""
    }
   },
   "outputs": [],
   "source": [
    "dbutils.fs.rm(\"/FileStore/tables/Streaming/Stream_checkpoint/csv\", True)\n",
    "dbutils.fs.rm(\"/FileStore/tables/Streaming/Stream_checkpoint/json\", True)\n",
    "dbutils.fs.rm(\"/FileStore/tables/Streaming/Stream_checkpoint/parquet\", True)\n",
    "dbutils.fs.rm(\"/FileStore/tables/Streaming/Stream_checkpoint/orc\", True)\n",
    "dbutils.fs.rm(\"/FileStore/tables/Streaming/Stream_checkpoint/avro\", True)\n",
    "\n",
    "dbutils.fs.rm(\"/FileStore/tables/Streaming/Stream_readStream/csv\", True)\n",
    "dbutils.fs.rm(\"/FileStore/tables/Streaming/Stream_readStream/json\", True)\n",
    "dbutils.fs.rm(\"/FileStore/tables/Streaming/Stream_readStream/parquet\", True)\n",
    "dbutils.fs.rm(\"/FileStore/tables/Streaming/Stream_readStream/orc\", True)\n",
    "dbutils.fs.rm(\"/FileStore/tables/Streaming/Stream_readStream/avro\", True)\n",
    "\n",
    "dbutils.fs.rm(\"/FileStore/tables/Streaming/Stream_writeStream/csv\", True)\n",
    "dbutils.fs.rm(\"/FileStore/tables/Streaming/Stream_writeStream/json\", True)\n",
    "dbutils.fs.rm(\"/FileStore/tables/Streaming/Stream_writeStream/parquet\", True)\n",
    "dbutils.fs.rm(\"/FileStore/tables/Streaming/Stream_writeStream/orc\", True)\n",
    "dbutils.fs.rm(\"/FileStore/tables/Streaming/Stream_writeStream/avro\", True)"
   ]
  }
 ],
 "metadata": {
  "application/vnd.databricks.v1+notebook": {
   "dashboards": [],
   "environmentMetadata": null,
   "language": "python",
   "notebookMetadata": {
    "mostRecentlyExecutedCommandWithImplicitDF": {
     "commandId": 2102123291707201,
     "dataframes": [
      "_sqldf"
     ]
    },
    "pythonIndentUnit": 4
   },
   "notebookName": "3_mkdirs_Remove Files From DBFS Using PySpark",
   "widgets": {}
  }
 },
 "nbformat": 4,
 "nbformat_minor": 0
}
