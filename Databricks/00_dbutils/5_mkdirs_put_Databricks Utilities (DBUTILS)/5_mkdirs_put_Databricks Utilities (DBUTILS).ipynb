{
 "cells": [
  {
   "cell_type": "markdown",
   "metadata": {
    "application/vnd.databricks.v1+cell": {
     "cellMetadata": {},
     "inputWidgets": {},
     "nuid": "5cdd34e9-67e8-4b2c-8864-780f990635aa",
     "showTitle": false,
     "title": ""
    }
   },
   "source": [
    "#### **dbutils.fs.mkdirs**: Create Directories and Files\n",
    "\n",
    "- Utility can be used to create **new directories** and **add new files/scripts** within the newly created directories.\n",
    "\n",
    "- The example below shows how **dbutils.fs.mkdirs()** can be used to create a **new directory** called **scripts** within “dbfs” file system."
   ]
  },
  {
   "cell_type": "code",
   "execution_count": 0,
   "metadata": {
    "application/vnd.databricks.v1+cell": {
     "cellMetadata": {
      "byteLimit": 2048000,
      "rowLimit": 10000
     },
     "inputWidgets": {},
     "nuid": "c343c701-849c-4685-989a-f8d1b02432f9",
     "showTitle": false,
     "title": ""
    }
   },
   "outputs": [
    {
     "output_type": "display_data",
     "data": {
      "text/html": [
       "<div class = \"ansiout\">/**<br /> * Creates the given directory if it does not exist, also creating any necessary parent<br /> * directories.<br /> * <br /> * Example: mkdirs(\"/mnt/my-folder/a/b/c\")<br /> * <br /> * @param dir FileSystem URI<br /> * @return true if the directory was successfully created<br /> */<br /><b>mkdirs(dir: java.lang.String): boolean</b></div><br />"
      ]
     },
     "metadata": {
      "application/vnd.databricks.v1+output": {
       "addedWidgets": {},
       "arguments": {},
       "data": "<div class = \"ansiout\">/**<br /> * Creates the given directory if it does not exist, also creating any necessary parent<br /> * directories.<br /> * <br /> * Example: mkdirs(\"/mnt/my-folder/a/b/c\")<br /> * <br /> * @param dir FileSystem URI<br /> * @return true if the directory was successfully created<br /> */<br /><b>mkdirs(dir: java.lang.String): boolean</b></div><br />",
       "datasetInfos": [],
       "metadata": {},
       "removedWidgets": [],
       "textData": null,
       "type": "htmlSandbox"
      }
     },
     "output_type": "display_data"
    }
   ],
   "source": [
    "dbutils.fs.help(\"mkdirs\")"
   ]
  },
  {
   "cell_type": "code",
   "execution_count": 0,
   "metadata": {
    "application/vnd.databricks.v1+cell": {
     "cellMetadata": {
      "byteLimit": 2048000,
      "rowLimit": 10000
     },
     "inputWidgets": {},
     "nuid": "01d4678d-4e6c-4c70-bc10-a467411a4c9e",
     "showTitle": false,
     "title": ""
    }
   },
   "outputs": [
    {
     "output_type": "display_data",
     "data": {
      "text/html": [
       "<div class = \"ansiout\">/**<br /> * Writes the given String out to a file, encoded in UTF-8.<br /> * <br /> * Example: put(\"/mnt/my-folder/my-file\", \"Hello world!\", true)<br /> * <br /> * @param file FileSystem URI<br /> * @param contents Contents of file to write, encoded in System default charset.<br /> * @param overwrite If set to true, the file will be overwritten if it existed already.<br /> *                  Note that if overwrite is true and the the write fails, the original file<br /> *                  may still be deleted.<br /> */<br /><b>put(file: java.lang.String, contents: java.lang.String, overwrite: boolean = false): boolean</b></div><br />"
      ]
     },
     "metadata": {
      "application/vnd.databricks.v1+output": {
       "addedWidgets": {},
       "arguments": {},
       "data": "<div class = \"ansiout\">/**<br /> * Writes the given String out to a file, encoded in UTF-8.<br /> * <br /> * Example: put(\"/mnt/my-folder/my-file\", \"Hello world!\", true)<br /> * <br /> * @param file FileSystem URI<br /> * @param contents Contents of file to write, encoded in System default charset.<br /> * @param overwrite If set to true, the file will be overwritten if it existed already.<br /> *                  Note that if overwrite is true and the the write fails, the original file<br /> *                  may still be deleted.<br /> */<br /><b>put(file: java.lang.String, contents: java.lang.String, overwrite: boolean = false): boolean</b></div><br />",
       "datasetInfos": [],
       "metadata": {},
       "removedWidgets": [],
       "textData": null,
       "type": "htmlSandbox"
      }
     },
     "output_type": "display_data"
    }
   ],
   "source": [
    "dbutils.fs.help(\"put\")"
   ]
  },
  {
   "cell_type": "code",
   "execution_count": 0,
   "metadata": {
    "application/vnd.databricks.v1+cell": {
     "cellMetadata": {
      "byteLimit": 2048000,
      "rowLimit": 10000
     },
     "inputWidgets": {},
     "nuid": "41c9f3a4-0364-4065-9026-d9452620e567",
     "showTitle": false,
     "title": ""
    }
   },
   "outputs": [
    {
     "output_type": "stream",
     "name": "stdout",
     "output_type": "stream",
     "text": [
      "Out[4]: True"
     ]
    }
   ],
   "source": [
    "# create directory \"databricks\"\n",
    "# create script within directory \"databricks\"\n",
    "dbutils.fs.mkdirs(\"dbfs:/databricks/scripts/\")"
   ]
  },
  {
   "cell_type": "code",
   "execution_count": 0,
   "metadata": {
    "application/vnd.databricks.v1+cell": {
     "cellMetadata": {
      "byteLimit": 2048000,
      "rowLimit": 10000
     },
     "inputWidgets": {},
     "nuid": "e25dbff4-1cb8-4ce3-9742-ed89c719ac3a",
     "showTitle": false,
     "title": ""
    }
   },
   "outputs": [
    {
     "output_type": "stream",
     "name": "stdout",
     "output_type": "stream",
     "text": [
      "Out[3]: True"
     ]
    }
   ],
   "source": [
    "dbutils.fs.rm(\"dbfs:/databricks\", True)"
   ]
  },
  {
   "cell_type": "code",
   "execution_count": 0,
   "metadata": {
    "application/vnd.databricks.v1+cell": {
     "cellMetadata": {
      "byteLimit": 2048000,
      "rowLimit": 10000
     },
     "inputWidgets": {},
     "nuid": "b29dd148-fd48-4bc2-9754-159cb5fcc35b",
     "showTitle": false,
     "title": ""
    }
   },
   "outputs": [
    {
     "output_type": "display_data",
     "data": {
      "text/html": [
       "<style scoped>\n",
       "  .table-result-container {\n",
       "    max-height: 300px;\n",
       "    overflow: auto;\n",
       "  }\n",
       "  table, th, td {\n",
       "    border: 1px solid black;\n",
       "    border-collapse: collapse;\n",
       "  }\n",
       "  th, td {\n",
       "    padding: 5px;\n",
       "  }\n",
       "  th {\n",
       "    text-align: left;\n",
       "  }\n",
       "</style><div class='table-result-container'><table class='table-result'><thead style='background-color: white'><tr><th>path</th><th>name</th><th>size</th><th>modificationTime</th></tr></thead><tbody><tr><td>dbfs:/FileStore/</td><td>FileStore/</td><td>0</td><td>0</td></tr><tr><td>dbfs:/content/</td><td>content/</td><td>0</td><td>0</td></tr><tr><td>dbfs:/data/</td><td>data/</td><td>0</td><td>0</td></tr><tr><td>dbfs:/databricks/</td><td>databricks/</td><td>0</td><td>0</td></tr><tr><td>dbfs:/databricks-datasets/</td><td>databricks-datasets/</td><td>0</td><td>0</td></tr><tr><td>dbfs:/databricks-results/</td><td>databricks-results/</td><td>0</td><td>0</td></tr><tr><td>dbfs:/local_disk0/</td><td>local_disk0/</td><td>0</td><td>0</td></tr><tr><td>dbfs:/user/</td><td>user/</td><td>0</td><td>0</td></tr></tbody></table></div>"
      ]
     },
     "metadata": {
      "application/vnd.databricks.v1+output": {
       "addedWidgets": {},
       "aggData": [],
       "aggError": "",
       "aggOverflow": false,
       "aggSchema": [],
       "aggSeriesLimitReached": false,
       "aggType": "",
       "arguments": {},
       "columnCustomDisplayInfos": {},
       "data": [
        [
         "dbfs:/FileStore/",
         "FileStore/",
         0,
         0
        ],
        [
         "dbfs:/content/",
         "content/",
         0,
         0
        ],
        [
         "dbfs:/data/",
         "data/",
         0,
         0
        ],
        [
         "dbfs:/databricks/",
         "databricks/",
         0,
         0
        ],
        [
         "dbfs:/databricks-datasets/",
         "databricks-datasets/",
         0,
         0
        ],
        [
         "dbfs:/databricks-results/",
         "databricks-results/",
         0,
         0
        ],
        [
         "dbfs:/local_disk0/",
         "local_disk0/",
         0,
         0
        ],
        [
         "dbfs:/user/",
         "user/",
         0,
         0
        ]
       ],
       "datasetInfos": [],
       "dbfsResultPath": null,
       "isJsonSchema": true,
       "metadata": {
        "isDbfsCommandResult": false
       },
       "overflow": false,
       "plotOptions": {
        "customPlotOptions": {},
        "displayType": "table",
        "pivotAggregation": null,
        "pivotColumns": null,
        "xColumns": null,
        "yColumns": null
       },
       "removedWidgets": [],
       "schema": [
        {
         "metadata": "{}",
         "name": "path",
         "type": "\"string\""
        },
        {
         "metadata": "{}",
         "name": "name",
         "type": "\"string\""
        },
        {
         "metadata": "{}",
         "name": "size",
         "type": "\"long\""
        },
        {
         "metadata": "{}",
         "name": "modificationTime",
         "type": "\"long\""
        }
       ],
       "type": "table"
      }
     },
     "output_type": "display_data"
    }
   ],
   "source": [
    "%fs ls"
   ]
  },
  {
   "cell_type": "code",
   "execution_count": 0,
   "metadata": {
    "application/vnd.databricks.v1+cell": {
     "cellMetadata": {
      "byteLimit": 2048000,
      "rowLimit": 10000
     },
     "inputWidgets": {},
     "nuid": "09d4ded1-816d-47d6-80cf-29809d3e7f78",
     "showTitle": false,
     "title": ""
    }
   },
   "outputs": [
    {
     "output_type": "display_data",
     "data": {
      "text/html": [
       "<style scoped>\n",
       "  .table-result-container {\n",
       "    max-height: 300px;\n",
       "    overflow: auto;\n",
       "  }\n",
       "  table, th, td {\n",
       "    border: 1px solid black;\n",
       "    border-collapse: collapse;\n",
       "  }\n",
       "  th, td {\n",
       "    padding: 5px;\n",
       "  }\n",
       "  th {\n",
       "    text-align: left;\n",
       "  }\n",
       "</style><div class='table-result-container'><table class='table-result'><thead style='background-color: white'><tr><th>path</th><th>name</th><th>size</th><th>modificationTime</th></tr></thead><tbody><tr><td>dbfs:/databricks/mlflow-registry/</td><td>mlflow-registry/</td><td>0</td><td>0</td></tr><tr><td>dbfs:/databricks/mlflow-tracking/</td><td>mlflow-tracking/</td><td>0</td><td>0</td></tr><tr><td>dbfs:/databricks/scripts/</td><td>scripts/</td><td>0</td><td>0</td></tr></tbody></table></div>"
      ]
     },
     "metadata": {
      "application/vnd.databricks.v1+output": {
       "addedWidgets": {},
       "aggData": [],
       "aggError": "",
       "aggOverflow": false,
       "aggSchema": [],
       "aggSeriesLimitReached": false,
       "aggType": "",
       "arguments": {},
       "columnCustomDisplayInfos": {},
       "data": [
        [
         "dbfs:/databricks/mlflow-registry/",
         "mlflow-registry/",
         0,
         0
        ],
        [
         "dbfs:/databricks/mlflow-tracking/",
         "mlflow-tracking/",
         0,
         0
        ],
        [
         "dbfs:/databricks/scripts/",
         "scripts/",
         0,
         0
        ]
       ],
       "datasetInfos": [],
       "dbfsResultPath": null,
       "isJsonSchema": true,
       "metadata": {
        "isDbfsCommandResult": false
       },
       "overflow": false,
       "plotOptions": {
        "customPlotOptions": {},
        "displayType": "table",
        "pivotAggregation": null,
        "pivotColumns": null,
        "xColumns": null,
        "yColumns": null
       },
       "removedWidgets": [],
       "schema": [
        {
         "metadata": "{}",
         "name": "path",
         "type": "\"string\""
        },
        {
         "metadata": "{}",
         "name": "name",
         "type": "\"string\""
        },
        {
         "metadata": "{}",
         "name": "size",
         "type": "\"long\""
        },
        {
         "metadata": "{}",
         "name": "modificationTime",
         "type": "\"long\""
        }
       ],
       "type": "table"
      }
     },
     "output_type": "display_data"
    }
   ],
   "source": [
    "%fs ls dbfs:/databricks/"
   ]
  },
  {
   "cell_type": "markdown",
   "metadata": {
    "application/vnd.databricks.v1+cell": {
     "cellMetadata": {},
     "inputWidgets": {},
     "nuid": "bd2fdc69-81f6-478e-a30c-401440dbf123",
     "showTitle": false,
     "title": ""
    }
   },
   "source": [
    "#### **dbutils.fs.put**"
   ]
  },
  {
   "cell_type": "markdown",
   "metadata": {
    "application/vnd.databricks.v1+cell": {
     "cellMetadata": {},
     "inputWidgets": {},
     "nuid": "e2b18bfc-b8df-43fc-9788-b2a01e14332f",
     "showTitle": false,
     "title": ""
    }
   },
   "source": [
    "#### **1) Format: json**"
   ]
  },
  {
   "cell_type": "code",
   "execution_count": 0,
   "metadata": {
    "application/vnd.databricks.v1+cell": {
     "cellMetadata": {
      "byteLimit": 2048000,
      "rowLimit": 10000
     },
     "inputWidgets": {},
     "nuid": "352a8019-3dce-4d6e-a75b-f8af81e004ee",
     "showTitle": false,
     "title": ""
    }
   },
   "outputs": [
    {
     "output_type": "stream",
     "name": "stdout",
     "output_type": "stream",
     "text": [
      "Wrote 2233 bytes.\nOut[7]: True"
     ]
    }
   ],
   "source": [
    "dbutils.fs.put(\"/databricks/scripts/multiLine_nested.json\", \"\"\"[\n",
    "  {\n",
    "    \"source\": \"catalog\",\n",
    "    \"description\": \"bravia\",\n",
    "    \"input_timestamp\": 1124256609,\n",
    "    \"last_update_timestamp\": 1524256609,\n",
    "    \"Address\":\n",
    "             {\n",
    "               \"country\": \"IND\",\n",
    "               \"user\": \"Hari\",\n",
    "               \"Location\":\"Bangalore\",\n",
    "               \"Zipcode\":\"560103\"\n",
    "             }\n",
    "  },\n",
    "  {\n",
    "    \"source\": \"SAP\",\n",
    "    \"description\": \"sony\",\n",
    "    \"input_timestamp\": 1224256609,\n",
    "    \"last_update_timestamp\": 1424256609,\n",
    "    \"Address\":\n",
    "             {\n",
    "               \"country\": \"US\",\n",
    "               \"user\": \"Rajesh\",\n",
    "               \"Location\":\"Chennai\",\n",
    "               \"Zipcode\":\"860103\"\n",
    "             }\n",
    "  },\n",
    "  {\n",
    "    \"source\": \"ADLS\",\n",
    "    \"description\": \"bse\",\n",
    "    \"input_timestamp\": 1324256609,\n",
    "    \"last_update_timestamp\": 1524256609,\n",
    "    \"Address\":\n",
    "             {\n",
    "               \"country\": \"CANADA\",\n",
    "               \"user\": \"Lokesh\",\n",
    "               \"Location\":\"Hyderabad\",\n",
    "               \"Zipcode\":\"755103\"\n",
    "             }\n",
    "  },\n",
    "  {\n",
    "    \"source\": \"Blob\",\n",
    "    \"description\": \"exchange\",\n",
    "    \"input_timestamp\": 1424256609,\n",
    "    \"last_update_timestamp\": 1724256609,\n",
    "    \"Address\":\n",
    "             {\n",
    "               \"country\": \"US\",\n",
    "               \"user\": \"Sharath\",\n",
    "               \"Location\":\"Kochin\",\n",
    "               \"Zipcode\":\"120103\"\n",
    "             }\n",
    "  },\n",
    "  {\n",
    "    \"source\": \"SQL\",\n",
    "    \"description\": \"Stock\",\n",
    "    \"input_timestamp\": 1524256609,\n",
    "    \"last_update_timestamp\": 1664256609,\n",
    "    \"Address\":\n",
    "             {\n",
    "               \"country\": \"SWEDEN\",\n",
    "               \"user\": \"Sheetal\",\n",
    "               \"Location\":\"Delhi\",\n",
    "               \"Zipcode\":\"875103\"\n",
    "             }\n",
    "  },\n",
    "  {\n",
    "    \"source\": \"datawarehouse\",\n",
    "    \"description\": \"azure\",\n",
    "    \"input_timestamp\": 1624256609,\n",
    "    \"last_update_timestamp\": 1874256609,\n",
    "    \"Address\":\n",
    "             {\n",
    "               \"country\": \"UK\",\n",
    "               \"user\": \"Raj\",\n",
    "               \"Location\":\"Mumbai\",\n",
    "               \"Zipcode\":\"123403\"\n",
    "             }\n",
    "  },\n",
    "  {\n",
    "    \"source\": \"oracle\",\n",
    "    \"description\": \"ADF\",\n",
    "    \"input_timestamp\": 1779256609,\n",
    "    \"last_update_timestamp\": 188256609,\n",
    "    \"Address\":\n",
    "             {\n",
    "               \"country\": \"Norway\",\n",
    "               \"user\": \"Synapse\",\n",
    "               \"Location\":\"Nasik\",\n",
    "               \"Zipcode\":\"456103\"\n",
    "             }\n",
    "  }\n",
    "]\"\"\", True)"
   ]
  },
  {
   "cell_type": "code",
   "execution_count": 0,
   "metadata": {
    "application/vnd.databricks.v1+cell": {
     "cellMetadata": {
      "byteLimit": 2048000,
      "rowLimit": 10000
     },
     "inputWidgets": {},
     "nuid": "773e2dc0-23e3-4160-9c72-3a74b882aa1f",
     "showTitle": false,
     "title": ""
    }
   },
   "outputs": [
    {
     "output_type": "display_data",
     "data": {
      "text/html": [
       "<style scoped>\n",
       "  .ansiout {\n",
       "    display: block;\n",
       "    unicode-bidi: embed;\n",
       "    white-space: pre-wrap;\n",
       "    word-wrap: break-word;\n",
       "    word-break: break-all;\n",
       "    font-family: \"Menlo\", \"Monaco\", \"Consolas\", \"Ubuntu Mono\", \"Source Code Pro\", monospace;\n",
       "    font-size: 13px;\n",
       "    color: #555;\n",
       "    margin-left: 4px;\n",
       "    line-height: 19px;\n",
       "  }\n",
       "</style>\n",
       "<div class=\"ansiout\">[\n",
       "  {\n",
       "    &quot;source&quot;: &quot;catalog&quot;,\n",
       "    &quot;description&quot;: &quot;bravia&quot;,\n",
       "    &quot;input_timestamp&quot;: 1124256609,\n",
       "    &quot;last_update_timestamp&quot;: 1524256609,\n",
       "    &quot;Address&quot;:\n",
       "             {\n",
       "               &quot;country&quot;: &quot;IND&quot;,\n",
       "               &quot;user&quot;: &quot;Hari&quot;,\n",
       "               &quot;Location&quot;:&quot;Bangalore&quot;,\n",
       "               &quot;Zipcode&quot;:&quot;560103&quot;\n",
       "             }\n",
       "  },\n",
       "  {\n",
       "    &quot;source&quot;: &quot;SAP&quot;,\n",
       "    &quot;description&quot;: &quot;sony&quot;,\n",
       "    &quot;input_timestamp&quot;: 1224256609,\n",
       "    &quot;last_update_timestamp&quot;: 1424256609,\n",
       "    &quot;Address&quot;:\n",
       "             {\n",
       "               &quot;country&quot;: &quot;US&quot;,\n",
       "               &quot;user&quot;: &quot;Rajesh&quot;,\n",
       "               &quot;Location&quot;:&quot;Chennai&quot;,\n",
       "               &quot;Zipcode&quot;:&quot;860103&quot;\n",
       "             }\n",
       "  },\n",
       "  {\n",
       "    &quot;source&quot;: &quot;ADLS&quot;,\n",
       "    &quot;description&quot;: &quot;bse&quot;,\n",
       "    &quot;input_timestamp&quot;: 1324256609,\n",
       "    &quot;last_update_timestamp&quot;: 1524256609,\n",
       "    &quot;Address&quot;:\n",
       "             {\n",
       "               &quot;country&quot;: &quot;CANADA&quot;,\n",
       "               &quot;user&quot;: &quot;Lokesh&quot;,\n",
       "               &quot;Location&quot;:&quot;Hyderabad&quot;,\n",
       "               &quot;Zipcode&quot;:&quot;755103&quot;\n",
       "             }\n",
       "  },\n",
       "  {\n",
       "    &quot;source&quot;: &quot;Blob&quot;,\n",
       "    &quot;description&quot;: &quot;exchange&quot;,\n",
       "    &quot;input_timestamp&quot;: 1424256609,\n",
       "    &quot;last_update_timestamp&quot;: 1724256609,\n",
       "    &quot;Address&quot;:\n",
       "             {\n",
       "               &quot;country&quot;: &quot;US&quot;,\n",
       "               &quot;user&quot;: &quot;Sharath&quot;,\n",
       "               &quot;Location&quot;:&quot;Kochin&quot;,\n",
       "               &quot;Zipcode&quot;:&quot;120103&quot;\n",
       "             }\n",
       "  },\n",
       "  {\n",
       "    &quot;source&quot;: &quot;SQL&quot;,\n",
       "    &quot;description&quot;: &quot;Stock&quot;,\n",
       "    &quot;input_timestamp&quot;: 1524256609,\n",
       "    &quot;last_update_timestamp&quot;: 1664256609,\n",
       "    &quot;Address&quot;:\n",
       "             {\n",
       "               &quot;country&quot;: &quot;SWEDEN&quot;,\n",
       "               &quot;user&quot;: &quot;Sheetal&quot;,\n",
       "               &quot;Location&quot;:&quot;Delhi&quot;,\n",
       "               &quot;Zipcode&quot;:&quot;875103&quot;\n",
       "             }\n",
       "  },\n",
       "  {\n",
       "    &quot;source&quot;: &quot;datawarehouse&quot;,\n",
       "    &quot;description&quot;: &quot;azure&quot;,\n",
       "    &quot;input_timestamp&quot;: 1624256609,\n",
       "    &quot;last_update_timestamp&quot;: 1874256609,\n",
       "    &quot;Address&quot;:\n",
       "             {\n",
       "               &quot;country&quot;: &quot;UK&quot;,\n",
       "               &quot;user&quot;: &quot;Raj&quot;,\n",
       "               &quot;Location&quot;:&quot;Mumbai&quot;,\n",
       "               &quot;Zipcode&quot;:&quot;123403&quot;\n",
       "             }\n",
       "  },\n",
       "  {\n",
       "    &quot;source&quot;: &quot;oracle&quot;,\n",
       "    &quot;description&quot;: &quot;ADF&quot;,\n",
       "    &quot;input_timestamp&quot;: 1779256609,\n",
       "    &quot;last_update_timestamp&quot;: 188256609,\n",
       "    &quot;Address&quot;:\n",
       "             {\n",
       "               &quot;country&quot;: &quot;Norway&quot;,\n",
       "               &quot;user&quot;: &quot;Synapse&quot;,\n",
       "               &quot;Location&quot;:&quot;Nasik&quot;,\n",
       "               &quot;Zipcode&quot;:&quot;456103&quot;\n",
       "             }\n",
       "  }\n",
       "]\n",
       "</div>"
      ]
     },
     "metadata": {
      "application/vnd.databricks.v1+output": {
       "addedWidgets": {},
       "arguments": {},
       "data": "<div class=\"ansiout\">[\n  {\n    &quot;source&quot;: &quot;catalog&quot;,\n    &quot;description&quot;: &quot;bravia&quot;,\n    &quot;input_timestamp&quot;: 1124256609,\n    &quot;last_update_timestamp&quot;: 1524256609,\n    &quot;Address&quot;:\n             {\n               &quot;country&quot;: &quot;IND&quot;,\n               &quot;user&quot;: &quot;Hari&quot;,\n               &quot;Location&quot;:&quot;Bangalore&quot;,\n               &quot;Zipcode&quot;:&quot;560103&quot;\n             }\n  },\n  {\n    &quot;source&quot;: &quot;SAP&quot;,\n    &quot;description&quot;: &quot;sony&quot;,\n    &quot;input_timestamp&quot;: 1224256609,\n    &quot;last_update_timestamp&quot;: 1424256609,\n    &quot;Address&quot;:\n             {\n               &quot;country&quot;: &quot;US&quot;,\n               &quot;user&quot;: &quot;Rajesh&quot;,\n               &quot;Location&quot;:&quot;Chennai&quot;,\n               &quot;Zipcode&quot;:&quot;860103&quot;\n             }\n  },\n  {\n    &quot;source&quot;: &quot;ADLS&quot;,\n    &quot;description&quot;: &quot;bse&quot;,\n    &quot;input_timestamp&quot;: 1324256609,\n    &quot;last_update_timestamp&quot;: 1524256609,\n    &quot;Address&quot;:\n             {\n               &quot;country&quot;: &quot;CANADA&quot;,\n               &quot;user&quot;: &quot;Lokesh&quot;,\n               &quot;Location&quot;:&quot;Hyderabad&quot;,\n               &quot;Zipcode&quot;:&quot;755103&quot;\n             }\n  },\n  {\n    &quot;source&quot;: &quot;Blob&quot;,\n    &quot;description&quot;: &quot;exchange&quot;,\n    &quot;input_timestamp&quot;: 1424256609,\n    &quot;last_update_timestamp&quot;: 1724256609,\n    &quot;Address&quot;:\n             {\n               &quot;country&quot;: &quot;US&quot;,\n               &quot;user&quot;: &quot;Sharath&quot;,\n               &quot;Location&quot;:&quot;Kochin&quot;,\n               &quot;Zipcode&quot;:&quot;120103&quot;\n             }\n  },\n  {\n    &quot;source&quot;: &quot;SQL&quot;,\n    &quot;description&quot;: &quot;Stock&quot;,\n    &quot;input_timestamp&quot;: 1524256609,\n    &quot;last_update_timestamp&quot;: 1664256609,\n    &quot;Address&quot;:\n             {\n               &quot;country&quot;: &quot;SWEDEN&quot;,\n               &quot;user&quot;: &quot;Sheetal&quot;,\n               &quot;Location&quot;:&quot;Delhi&quot;,\n               &quot;Zipcode&quot;:&quot;875103&quot;\n             }\n  },\n  {\n    &quot;source&quot;: &quot;datawarehouse&quot;,\n    &quot;description&quot;: &quot;azure&quot;,\n    &quot;input_timestamp&quot;: 1624256609,\n    &quot;last_update_timestamp&quot;: 1874256609,\n    &quot;Address&quot;:\n             {\n               &quot;country&quot;: &quot;UK&quot;,\n               &quot;user&quot;: &quot;Raj&quot;,\n               &quot;Location&quot;:&quot;Mumbai&quot;,\n               &quot;Zipcode&quot;:&quot;123403&quot;\n             }\n  },\n  {\n    &quot;source&quot;: &quot;oracle&quot;,\n    &quot;description&quot;: &quot;ADF&quot;,\n    &quot;input_timestamp&quot;: 1779256609,\n    &quot;last_update_timestamp&quot;: 188256609,\n    &quot;Address&quot;:\n             {\n               &quot;country&quot;: &quot;Norway&quot;,\n               &quot;user&quot;: &quot;Synapse&quot;,\n               &quot;Location&quot;:&quot;Nasik&quot;,\n               &quot;Zipcode&quot;:&quot;456103&quot;\n             }\n  }\n]\n</div>",
       "datasetInfos": [],
       "metadata": {
        "isDbfsCommandResult": false
       },
       "removedWidgets": [],
       "type": "html"
      }
     },
     "output_type": "display_data"
    }
   ],
   "source": [
    "%fs head dbfs:/databricks/scripts/multiLine_nested.json"
   ]
  },
  {
   "cell_type": "code",
   "execution_count": 0,
   "metadata": {
    "application/vnd.databricks.v1+cell": {
     "cellMetadata": {
      "byteLimit": 2048000,
      "rowLimit": 10000
     },
     "inputWidgets": {},
     "nuid": "5c6f776d-04c8-448d-92f5-3fb20e0f7279",
     "showTitle": false,
     "title": ""
    }
   },
   "outputs": [
    {
     "output_type": "display_data",
     "data": {
      "text/html": [
       "<style scoped>\n",
       "  .table-result-container {\n",
       "    max-height: 300px;\n",
       "    overflow: auto;\n",
       "  }\n",
       "  table, th, td {\n",
       "    border: 1px solid black;\n",
       "    border-collapse: collapse;\n",
       "  }\n",
       "  th, td {\n",
       "    padding: 5px;\n",
       "  }\n",
       "  th {\n",
       "    text-align: left;\n",
       "  }\n",
       "</style><div class='table-result-container'><table class='table-result'><thead style='background-color: white'><tr><th>Address</th><th>description</th><th>input_timestamp</th><th>last_update_timestamp</th><th>source</th></tr></thead><tbody><tr><td>List(Bangalore, 560103, IND, Hari)</td><td>bravia</td><td>1124256609</td><td>1524256609</td><td>catalog</td></tr><tr><td>List(Chennai, 860103, US, Rajesh)</td><td>sony</td><td>1224256609</td><td>1424256609</td><td>SAP</td></tr><tr><td>List(Hyderabad, 755103, CANADA, Lokesh)</td><td>bse</td><td>1324256609</td><td>1524256609</td><td>ADLS</td></tr><tr><td>List(Kochin, 120103, US, Sharath)</td><td>exchange</td><td>1424256609</td><td>1724256609</td><td>Blob</td></tr><tr><td>List(Delhi, 875103, SWEDEN, Sheetal)</td><td>Stock</td><td>1524256609</td><td>1664256609</td><td>SQL</td></tr><tr><td>List(Mumbai, 123403, UK, Raj)</td><td>azure</td><td>1624256609</td><td>1874256609</td><td>datawarehouse</td></tr><tr><td>List(Nasik, 456103, Norway, Synapse)</td><td>ADF</td><td>1779256609</td><td>188256609</td><td>oracle</td></tr></tbody></table></div>"
      ]
     },
     "metadata": {
      "application/vnd.databricks.v1+output": {
       "addedWidgets": {},
       "aggData": [],
       "aggError": "",
       "aggOverflow": false,
       "aggSchema": [],
       "aggSeriesLimitReached": false,
       "aggType": "",
       "arguments": {},
       "columnCustomDisplayInfos": {},
       "data": [
        [
         [
          "Bangalore",
          "560103",
          "IND",
          "Hari"
         ],
         "bravia",
         1124256609,
         1524256609,
         "catalog"
        ],
        [
         [
          "Chennai",
          "860103",
          "US",
          "Rajesh"
         ],
         "sony",
         1224256609,
         1424256609,
         "SAP"
        ],
        [
         [
          "Hyderabad",
          "755103",
          "CANADA",
          "Lokesh"
         ],
         "bse",
         1324256609,
         1524256609,
         "ADLS"
        ],
        [
         [
          "Kochin",
          "120103",
          "US",
          "Sharath"
         ],
         "exchange",
         1424256609,
         1724256609,
         "Blob"
        ],
        [
         [
          "Delhi",
          "875103",
          "SWEDEN",
          "Sheetal"
         ],
         "Stock",
         1524256609,
         1664256609,
         "SQL"
        ],
        [
         [
          "Mumbai",
          "123403",
          "UK",
          "Raj"
         ],
         "azure",
         1624256609,
         1874256609,
         "datawarehouse"
        ],
        [
         [
          "Nasik",
          "456103",
          "Norway",
          "Synapse"
         ],
         "ADF",
         1779256609,
         188256609,
         "oracle"
        ]
       ],
       "datasetInfos": [],
       "dbfsResultPath": null,
       "isJsonSchema": true,
       "metadata": {},
       "overflow": false,
       "plotOptions": {
        "customPlotOptions": {},
        "displayType": "table",
        "pivotAggregation": null,
        "pivotColumns": null,
        "xColumns": null,
        "yColumns": null
       },
       "removedWidgets": [],
       "schema": [
        {
         "metadata": "{}",
         "name": "Address",
         "type": "{\"type\":\"struct\",\"fields\":[{\"name\":\"Location\",\"type\":\"string\",\"nullable\":true,\"metadata\":{}},{\"name\":\"Zipcode\",\"type\":\"string\",\"nullable\":true,\"metadata\":{}},{\"name\":\"country\",\"type\":\"string\",\"nullable\":true,\"metadata\":{}},{\"name\":\"user\",\"type\":\"string\",\"nullable\":true,\"metadata\":{}}]}"
        },
        {
         "metadata": "{}",
         "name": "description",
         "type": "\"string\""
        },
        {
         "metadata": "{}",
         "name": "input_timestamp",
         "type": "\"long\""
        },
        {
         "metadata": "{}",
         "name": "last_update_timestamp",
         "type": "\"long\""
        },
        {
         "metadata": "{}",
         "name": "source",
         "type": "\"string\""
        }
       ],
       "type": "table"
      }
     },
     "output_type": "display_data"
    }
   ],
   "source": [
    "df = spark.read.json(\"dbfs:/databricks/scripts/multiLine_nested.json\", multiLine=True)\n",
    "display(df)"
   ]
  },
  {
   "cell_type": "markdown",
   "metadata": {
    "application/vnd.databricks.v1+cell": {
     "cellMetadata": {},
     "inputWidgets": {},
     "nuid": "3c26e8b6-c2b8-494f-939c-69a7b8dbfdb5",
     "showTitle": false,
     "title": ""
    }
   },
   "source": [
    "#### **2) Format: txt**"
   ]
  },
  {
   "cell_type": "code",
   "execution_count": 0,
   "metadata": {
    "application/vnd.databricks.v1+cell": {
     "cellMetadata": {
      "byteLimit": 2048000,
      "rowLimit": 10000
     },
     "inputWidgets": {},
     "nuid": "fbf4421f-0fd0-445f-b903-938251e1a215",
     "showTitle": false,
     "title": ""
    }
   },
   "outputs": [
    {
     "output_type": "stream",
     "name": "stdout",
     "output_type": "stream",
     "text": [
      "Wrote 358 bytes.\nOut[9]: True"
     ]
    }
   ],
   "source": [
    "data = \"Name, Location, Domain, Country, Age\\nSuresh, Bangalore, ADE, India, 25\\nSampath, Bihar, Excel, India, 35\\nKishore, Chennai, ADf, India, 28\\nBharath, Hyderabad, Admin, India, 38\\nBharani, Amaravathi, GITHUB, India, 45\\nNiroop, Tituchi, Devops, India, 365\\nSardar, Bangalore, JAVA, India, 32\\nSwapnil, Bangalore, Automotive, India, 28\\nRavi, Madurai, Python, India, 35\"\n",
    "\n",
    "dbutils.fs.put(\"/data/main_branch/Repo/project/sales.txt\", data, True)"
   ]
  },
  {
   "cell_type": "code",
   "execution_count": 0,
   "metadata": {
    "application/vnd.databricks.v1+cell": {
     "cellMetadata": {
      "byteLimit": 2048000,
      "rowLimit": 10000
     },
     "inputWidgets": {},
     "nuid": "a14513d9-24e9-493c-87d1-0c4fa1328fb4",
     "showTitle": false,
     "title": ""
    }
   },
   "outputs": [
    {
     "output_type": "stream",
     "name": "stdout",
     "output_type": "stream",
     "text": [
      "Out[8]: True"
     ]
    }
   ],
   "source": [
    "dbutils.fs.rm(\"dbfs:/data\", True)"
   ]
  },
  {
   "cell_type": "code",
   "execution_count": 0,
   "metadata": {
    "application/vnd.databricks.v1+cell": {
     "cellMetadata": {
      "byteLimit": 2048000,
      "rowLimit": 10000
     },
     "inputWidgets": {},
     "nuid": "db29f22f-d262-4761-878e-6ac2131f4077",
     "showTitle": false,
     "title": ""
    }
   },
   "outputs": [
    {
     "output_type": "display_data",
     "data": {
      "text/html": [
       "<style scoped>\n",
       "  .ansiout {\n",
       "    display: block;\n",
       "    unicode-bidi: embed;\n",
       "    white-space: pre-wrap;\n",
       "    word-wrap: break-word;\n",
       "    word-break: break-all;\n",
       "    font-family: \"Menlo\", \"Monaco\", \"Consolas\", \"Ubuntu Mono\", \"Source Code Pro\", monospace;\n",
       "    font-size: 13px;\n",
       "    color: #555;\n",
       "    margin-left: 4px;\n",
       "    line-height: 19px;\n",
       "  }\n",
       "</style>\n",
       "<div class=\"ansiout\">Name, Location, Domain, Country, Age\n",
       "Suresh, Bangalore, ADE, India, 25\n",
       "Sampath, Bihar, Excel, India, 35\n",
       "Kishore, Chennai, ADf, India, 28\n",
       "Bharath, Hyderabad, Admin, India, 38\n",
       "Bharani, Amaravathi, GITHUB, India, 45\n",
       "Niroop, Tituchi, Devops, India, 365\n",
       "Sardar, Bangalore, JAVA, India, 32\n",
       "Swapnil, Bangalore, Automotive, India, 28\n",
       "Ravi, Madurai, Python, India, 35\n",
       "</div>"
      ]
     },
     "metadata": {
      "application/vnd.databricks.v1+output": {
       "addedWidgets": {},
       "arguments": {},
       "data": "<div class=\"ansiout\">Name, Location, Domain, Country, Age\nSuresh, Bangalore, ADE, India, 25\nSampath, Bihar, Excel, India, 35\nKishore, Chennai, ADf, India, 28\nBharath, Hyderabad, Admin, India, 38\nBharani, Amaravathi, GITHUB, India, 45\nNiroop, Tituchi, Devops, India, 365\nSardar, Bangalore, JAVA, India, 32\nSwapnil, Bangalore, Automotive, India, 28\nRavi, Madurai, Python, India, 35\n</div>",
       "datasetInfos": [],
       "metadata": {
        "isDbfsCommandResult": false
       },
       "removedWidgets": [],
       "type": "html"
      }
     },
     "output_type": "display_data"
    }
   ],
   "source": [
    "%fs head /data/main_branch/Repo/project/sales.txt"
   ]
  },
  {
   "cell_type": "code",
   "execution_count": 0,
   "metadata": {
    "application/vnd.databricks.v1+cell": {
     "cellMetadata": {
      "byteLimit": 2048000,
      "rowLimit": 10000
     },
     "inputWidgets": {},
     "nuid": "c7f33700-7671-47c8-a3f4-616ea100064c",
     "showTitle": false,
     "title": ""
    }
   },
   "outputs": [
    {
     "output_type": "display_data",
     "data": {
      "text/html": [
       "<style scoped>\n",
       "  .table-result-container {\n",
       "    max-height: 300px;\n",
       "    overflow: auto;\n",
       "  }\n",
       "  table, th, td {\n",
       "    border: 1px solid black;\n",
       "    border-collapse: collapse;\n",
       "  }\n",
       "  th, td {\n",
       "    padding: 5px;\n",
       "  }\n",
       "  th {\n",
       "    text-align: left;\n",
       "  }\n",
       "</style><div class='table-result-container'><table class='table-result'><thead style='background-color: white'><tr><th>Name</th><th> Location</th><th> Domain</th><th> Country</th><th> Age</th></tr></thead><tbody><tr><td>Suresh</td><td> Bangalore</td><td> ADE</td><td> India</td><td>25.0</td></tr><tr><td>Sampath</td><td> Bihar</td><td> Excel</td><td> India</td><td>35.0</td></tr><tr><td>Kishore</td><td> Chennai</td><td> ADf</td><td> India</td><td>28.0</td></tr><tr><td>Bharath</td><td> Hyderabad</td><td> Admin</td><td> India</td><td>38.0</td></tr><tr><td>Bharani</td><td> Amaravathi</td><td> GITHUB</td><td> India</td><td>45.0</td></tr><tr><td>Niroop</td><td> Tituchi</td><td> Devops</td><td> India</td><td>365.0</td></tr><tr><td>Sardar</td><td> Bangalore</td><td> JAVA</td><td> India</td><td>32.0</td></tr><tr><td>Swapnil</td><td> Bangalore</td><td> Automotive</td><td> India</td><td>28.0</td></tr><tr><td>Ravi</td><td> Madurai</td><td> Python</td><td> India</td><td>35.0</td></tr></tbody></table></div>"
      ]
     },
     "metadata": {
      "application/vnd.databricks.v1+output": {
       "addedWidgets": {},
       "aggData": [],
       "aggError": "",
       "aggOverflow": false,
       "aggSchema": [],
       "aggSeriesLimitReached": false,
       "aggType": "",
       "arguments": {},
       "columnCustomDisplayInfos": {},
       "data": [
        [
         "Suresh",
         " Bangalore",
         " ADE",
         " India",
         25.0
        ],
        [
         "Sampath",
         " Bihar",
         " Excel",
         " India",
         35.0
        ],
        [
         "Kishore",
         " Chennai",
         " ADf",
         " India",
         28.0
        ],
        [
         "Bharath",
         " Hyderabad",
         " Admin",
         " India",
         38.0
        ],
        [
         "Bharani",
         " Amaravathi",
         " GITHUB",
         " India",
         45.0
        ],
        [
         "Niroop",
         " Tituchi",
         " Devops",
         " India",
         365.0
        ],
        [
         "Sardar",
         " Bangalore",
         " JAVA",
         " India",
         32.0
        ],
        [
         "Swapnil",
         " Bangalore",
         " Automotive",
         " India",
         28.0
        ],
        [
         "Ravi",
         " Madurai",
         " Python",
         " India",
         35.0
        ]
       ],
       "datasetInfos": [],
       "dbfsResultPath": null,
       "isJsonSchema": true,
       "metadata": {},
       "overflow": false,
       "plotOptions": {
        "customPlotOptions": {},
        "displayType": "table",
        "pivotAggregation": null,
        "pivotColumns": null,
        "xColumns": null,
        "yColumns": null
       },
       "removedWidgets": [],
       "schema": [
        {
         "metadata": "{}",
         "name": "Name",
         "type": "\"string\""
        },
        {
         "metadata": "{}",
         "name": " Location",
         "type": "\"string\""
        },
        {
         "metadata": "{}",
         "name": " Domain",
         "type": "\"string\""
        },
        {
         "metadata": "{}",
         "name": " Country",
         "type": "\"string\""
        },
        {
         "metadata": "{}",
         "name": " Age",
         "type": "\"double\""
        }
       ],
       "type": "table"
      }
     },
     "output_type": "display_data"
    }
   ],
   "source": [
    "dft = spark.read.csv(\"dbfs:/data/main_branch/Repo/project/sales.txt\", header=True, inferSchema=True)\n",
    "display(dft)"
   ]
  },
  {
   "cell_type": "markdown",
   "metadata": {
    "application/vnd.databricks.v1+cell": {
     "cellMetadata": {},
     "inputWidgets": {},
     "nuid": "3170bf29-a348-4fe9-89f0-99e389946332",
     "showTitle": false,
     "title": ""
    }
   },
   "source": [
    "#### **3) Format: CSV**"
   ]
  },
  {
   "cell_type": "code",
   "execution_count": 0,
   "metadata": {
    "application/vnd.databricks.v1+cell": {
     "cellMetadata": {
      "byteLimit": 2048000,
      "rowLimit": 10000
     },
     "inputWidgets": {},
     "nuid": "8f7f5214-5296-47cd-9f86-69706459b6e5",
     "showTitle": false,
     "title": ""
    }
   },
   "outputs": [
    {
     "output_type": "stream",
     "name": "stdout",
     "output_type": "stream",
     "text": [
      "Wrote 918 bytes.\nOut[11]: True"
     ]
    }
   ],
   "source": [
    "data_csv = \"Index, Effective_Date, Start_Date\tEnd_Date, Income, Delta_Value, Target_Id, Input_Timestamp_UTC, Update_Timestamp_UTC\\n123, 6-Feb-23, 14-Jan-23, 6-Feb-23, 1500, 10, 1068, 1724256609000, 1724256609000\\n124, 8-Jan-24, 7-Oct-23, 8-Jan-24, 1500, 10, 1068, 1724256609000, 1724256609000\\n125, 6-Mar-23, 7-Feb-23, 6-Mar-23, 1500, 10, 1068, 1724256609000, 1724256609000\\n126, 6-Jan-25, 9-Jan-24, 6-Jan-25, 1500, 10, 1068, 1724256609000, 1724256609000\\n127, 31-Jan-24, 1-Jan-24, 31-Jan-24, 74, 12, 1065, 1724256609000, 1724256609000\\n128, 31-Oct-24, 1-Oct-24, 31-Oct-24, 83, 12, 1065, 1724256609000, 1724256609000\\n129, 30-Jun-24, 1-Jun-24, 30-Jun-24, 79, 11, 1065, 1724256609000, 1724256609000\\n130, 9-Feb-23, 9-Feb-23, 9-Feb-23, 38, 17, 1071, 1724256609000, 1724256609000\\n131, 23-Deb-23, 11-Deb-23, 25-Nov-23, 38, 17, 1071, 1724256609000, 1724256609000\\n131, 23-Deb-23, 11-Deb-23, 25-Nov-23, 38, 17, 1071, 1724256609000, 1724256609000\"\n",
    "\n",
    "dbutils.fs.put(\"/data/main_branch/Repo/project/Marketing.csv\", data_csv, True)"
   ]
  },
  {
   "cell_type": "code",
   "execution_count": 0,
   "metadata": {
    "application/vnd.databricks.v1+cell": {
     "cellMetadata": {
      "byteLimit": 2048000,
      "rowLimit": 10000
     },
     "inputWidgets": {},
     "nuid": "44d2c9d3-dd8d-4181-a91a-2e0d5494f4fa",
     "showTitle": false,
     "title": ""
    }
   },
   "outputs": [
    {
     "output_type": "display_data",
     "data": {
      "text/html": [
       "<style scoped>\n",
       "  .ansiout {\n",
       "    display: block;\n",
       "    unicode-bidi: embed;\n",
       "    white-space: pre-wrap;\n",
       "    word-wrap: break-word;\n",
       "    word-break: break-all;\n",
       "    font-family: \"Menlo\", \"Monaco\", \"Consolas\", \"Ubuntu Mono\", \"Source Code Pro\", monospace;\n",
       "    font-size: 13px;\n",
       "    color: #555;\n",
       "    margin-left: 4px;\n",
       "    line-height: 19px;\n",
       "  }\n",
       "</style>\n",
       "<div class=\"ansiout\">Index, Effective_Date, Start_Date\tEnd_Date, Income, Delta_Value, Target_Id, Input_Timestamp_UTC, Update_Timestamp_UTC\n",
       "123, 6-Feb-23, 14-Jan-23, 6-Feb-23, 1500, 10, 1068, 1724256609000, 1724256609000\n",
       "124, 8-Jan-24, 7-Oct-23, 8-Jan-24, 1500, 10, 1068, 1724256609000, 1724256609000\n",
       "125, 6-Mar-23, 7-Feb-23, 6-Mar-23, 1500, 10, 1068, 1724256609000, 1724256609000\n",
       "126, 6-Jan-25, 9-Jan-24, 6-Jan-25, 1500, 10, 1068, 1724256609000, 1724256609000\n",
       "127, 31-Jan-24, 1-Jan-24, 31-Jan-24, 74, 12, 1065, 1724256609000, 1724256609000\n",
       "128, 31-Oct-24, 1-Oct-24, 31-Oct-24, 83, 12, 1065, 1724256609000, 1724256609000\n",
       "129, 30-Jun-24, 1-Jun-24, 30-Jun-24, 79, 11, 1065, 1724256609000, 1724256609000\n",
       "130, 9-Feb-23, 9-Feb-23, 9-Feb-23, 38, 17, 1071, 1724256609000, 1724256609000\n",
       "131, 23-Deb-23, 11-Deb-23, 25-Nov-23, 38, 17, 1071, 1724256609000, 1724256609000\n",
       "</div>"
      ]
     },
     "metadata": {
      "application/vnd.databricks.v1+output": {
       "addedWidgets": {},
       "arguments": {},
       "data": "<div class=\"ansiout\">Index, Effective_Date, Start_Date\tEnd_Date, Income, Delta_Value, Target_Id, Input_Timestamp_UTC, Update_Timestamp_UTC\n123, 6-Feb-23, 14-Jan-23, 6-Feb-23, 1500, 10, 1068, 1724256609000, 1724256609000\n124, 8-Jan-24, 7-Oct-23, 8-Jan-24, 1500, 10, 1068, 1724256609000, 1724256609000\n125, 6-Mar-23, 7-Feb-23, 6-Mar-23, 1500, 10, 1068, 1724256609000, 1724256609000\n126, 6-Jan-25, 9-Jan-24, 6-Jan-25, 1500, 10, 1068, 1724256609000, 1724256609000\n127, 31-Jan-24, 1-Jan-24, 31-Jan-24, 74, 12, 1065, 1724256609000, 1724256609000\n128, 31-Oct-24, 1-Oct-24, 31-Oct-24, 83, 12, 1065, 1724256609000, 1724256609000\n129, 30-Jun-24, 1-Jun-24, 30-Jun-24, 79, 11, 1065, 1724256609000, 1724256609000\n130, 9-Feb-23, 9-Feb-23, 9-Feb-23, 38, 17, 1071, 1724256609000, 1724256609000\n131, 23-Deb-23, 11-Deb-23, 25-Nov-23, 38, 17, 1071, 1724256609000, 1724256609000\n</div>",
       "datasetInfos": [],
       "metadata": {
        "isDbfsCommandResult": false
       },
       "removedWidgets": [],
       "type": "html"
      }
     },
     "output_type": "display_data"
    }
   ],
   "source": [
    "%fs head /data/main_branch/Repo/project/Marketing.csv"
   ]
  },
  {
   "cell_type": "code",
   "execution_count": 0,
   "metadata": {
    "application/vnd.databricks.v1+cell": {
     "cellMetadata": {
      "byteLimit": 2048000,
      "rowLimit": 10000
     },
     "inputWidgets": {},
     "nuid": "44b742c0-a296-4d45-9608-d702842348e6",
     "showTitle": false,
     "title": ""
    }
   },
   "outputs": [
    {
     "output_type": "display_data",
     "data": {
      "text/html": [
       "<style scoped>\n",
       "  .table-result-container {\n",
       "    max-height: 300px;\n",
       "    overflow: auto;\n",
       "  }\n",
       "  table, th, td {\n",
       "    border: 1px solid black;\n",
       "    border-collapse: collapse;\n",
       "  }\n",
       "  th, td {\n",
       "    padding: 5px;\n",
       "  }\n",
       "  th {\n",
       "    text-align: left;\n",
       "  }\n",
       "</style><div class='table-result-container'><table class='table-result'><thead style='background-color: white'><tr><th>Index</th><th> Effective_Date</th><th> Start_Date\tEnd_Date</th><th> Income</th><th> Delta_Value</th><th> Target_Id</th><th> Input_Timestamp_UTC</th><th> Update_Timestamp_UTC</th></tr></thead><tbody><tr><td>123</td><td> 6-Feb-23</td><td> 14-Jan-23</td><td> 6-Feb-23</td><td>1500.0</td><td>10.0</td><td>1068.0</td><td>1.724256609E12</td></tr><tr><td>124</td><td> 8-Jan-24</td><td> 7-Oct-23</td><td> 8-Jan-24</td><td>1500.0</td><td>10.0</td><td>1068.0</td><td>1.724256609E12</td></tr><tr><td>125</td><td> 6-Mar-23</td><td> 7-Feb-23</td><td> 6-Mar-23</td><td>1500.0</td><td>10.0</td><td>1068.0</td><td>1.724256609E12</td></tr><tr><td>126</td><td> 6-Jan-25</td><td> 9-Jan-24</td><td> 6-Jan-25</td><td>1500.0</td><td>10.0</td><td>1068.0</td><td>1.724256609E12</td></tr><tr><td>127</td><td> 31-Jan-24</td><td> 1-Jan-24</td><td> 31-Jan-24</td><td>74.0</td><td>12.0</td><td>1065.0</td><td>1.724256609E12</td></tr><tr><td>128</td><td> 31-Oct-24</td><td> 1-Oct-24</td><td> 31-Oct-24</td><td>83.0</td><td>12.0</td><td>1065.0</td><td>1.724256609E12</td></tr><tr><td>129</td><td> 30-Jun-24</td><td> 1-Jun-24</td><td> 30-Jun-24</td><td>79.0</td><td>11.0</td><td>1065.0</td><td>1.724256609E12</td></tr><tr><td>130</td><td> 9-Feb-23</td><td> 9-Feb-23</td><td> 9-Feb-23</td><td>38.0</td><td>17.0</td><td>1071.0</td><td>1.724256609E12</td></tr><tr><td>131</td><td> 23-Deb-23</td><td> 11-Deb-23</td><td> 25-Nov-23</td><td>38.0</td><td>17.0</td><td>1071.0</td><td>1.724256609E12</td></tr></tbody></table></div>"
      ]
     },
     "metadata": {
      "application/vnd.databricks.v1+output": {
       "addedWidgets": {},
       "aggData": [],
       "aggError": "",
       "aggOverflow": false,
       "aggSchema": [],
       "aggSeriesLimitReached": false,
       "aggType": "",
       "arguments": {},
       "columnCustomDisplayInfos": {},
       "data": [
        [
         123,
         " 6-Feb-23",
         " 14-Jan-23",
         " 6-Feb-23",
         1500.0,
         10.0,
         1068.0,
         1.724256609E12
        ],
        [
         124,
         " 8-Jan-24",
         " 7-Oct-23",
         " 8-Jan-24",
         1500.0,
         10.0,
         1068.0,
         1.724256609E12
        ],
        [
         125,
         " 6-Mar-23",
         " 7-Feb-23",
         " 6-Mar-23",
         1500.0,
         10.0,
         1068.0,
         1.724256609E12
        ],
        [
         126,
         " 6-Jan-25",
         " 9-Jan-24",
         " 6-Jan-25",
         1500.0,
         10.0,
         1068.0,
         1.724256609E12
        ],
        [
         127,
         " 31-Jan-24",
         " 1-Jan-24",
         " 31-Jan-24",
         74.0,
         12.0,
         1065.0,
         1.724256609E12
        ],
        [
         128,
         " 31-Oct-24",
         " 1-Oct-24",
         " 31-Oct-24",
         83.0,
         12.0,
         1065.0,
         1.724256609E12
        ],
        [
         129,
         " 30-Jun-24",
         " 1-Jun-24",
         " 30-Jun-24",
         79.0,
         11.0,
         1065.0,
         1.724256609E12
        ],
        [
         130,
         " 9-Feb-23",
         " 9-Feb-23",
         " 9-Feb-23",
         38.0,
         17.0,
         1071.0,
         1.724256609E12
        ],
        [
         131,
         " 23-Deb-23",
         " 11-Deb-23",
         " 25-Nov-23",
         38.0,
         17.0,
         1071.0,
         1.724256609E12
        ]
       ],
       "datasetInfos": [],
       "dbfsResultPath": null,
       "isJsonSchema": true,
       "metadata": {},
       "overflow": false,
       "plotOptions": {
        "customPlotOptions": {},
        "displayType": "table",
        "pivotAggregation": null,
        "pivotColumns": null,
        "xColumns": null,
        "yColumns": null
       },
       "removedWidgets": [],
       "schema": [
        {
         "metadata": "{}",
         "name": "Index",
         "type": "\"integer\""
        },
        {
         "metadata": "{}",
         "name": " Effective_Date",
         "type": "\"string\""
        },
        {
         "metadata": "{}",
         "name": " Start_Date\tEnd_Date",
         "type": "\"string\""
        },
        {
         "metadata": "{}",
         "name": " Income",
         "type": "\"string\""
        },
        {
         "metadata": "{}",
         "name": " Delta_Value",
         "type": "\"double\""
        },
        {
         "metadata": "{}",
         "name": " Target_Id",
         "type": "\"double\""
        },
        {
         "metadata": "{}",
         "name": " Input_Timestamp_UTC",
         "type": "\"double\""
        },
        {
         "metadata": "{}",
         "name": " Update_Timestamp_UTC",
         "type": "\"double\""
        }
       ],
       "type": "table"
      }
     },
     "output_type": "display_data"
    }
   ],
   "source": [
    "dfm = spark.read.csv(\"/data/main_branch/Repo/project/Marketing.csv\", header=True, inferSchema=True)\n",
    "display(dfm)"
   ]
  },
  {
   "cell_type": "markdown",
   "metadata": {
    "application/vnd.databricks.v1+cell": {
     "cellMetadata": {},
     "inputWidgets": {},
     "nuid": "8baafad0-dfc9-4941-8eb9-0383adde400d",
     "showTitle": false,
     "title": ""
    }
   },
   "source": [
    "#### **4) Format: avro / parquet / orc**\n",
    "\n",
    "- **dbutils.fs.put** is primarily for writing **string or text** data to a file in DBFS (Databricks File System).\n",
    "-  It **does not** directly support writing data in **binary formats** such as **Avro, parquet and orc**. "
   ]
  }
 ],
 "metadata": {
  "application/vnd.databricks.v1+notebook": {
   "dashboards": [],
   "environmentMetadata": null,
   "language": "python",
   "notebookMetadata": {
    "mostRecentlyExecutedCommandWithImplicitDF": {
     "commandId": 3831221481861385,
     "dataframes": [
      "_sqldf"
     ]
    },
    "pythonIndentUnit": 4
   },
   "notebookName": "5_mkdirs_put_Databricks Utilities (DBUTILS)",
   "widgets": {}
  }
 },
 "nbformat": 4,
 "nbformat_minor": 0
}
