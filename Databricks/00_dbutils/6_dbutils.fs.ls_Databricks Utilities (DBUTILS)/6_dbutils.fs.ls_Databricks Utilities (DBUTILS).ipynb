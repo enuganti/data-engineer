{
 "cells": [
  {
   "cell_type": "markdown",
   "metadata": {
    "application/vnd.databricks.v1+cell": {
     "cellMetadata": {},
     "inputWidgets": {},
     "nuid": "e5292ebc-665e-48a2-a950-fb4292077c2b",
     "showTitle": false,
     "tableResultSettingsMap": {},
     "title": ""
    }
   },
   "source": [
    "#### **dbutils.fs.ls**\n",
    "\n",
    "- command is used to list the **contents of a directory** in DBFS (Databricks File System)."
   ]
  },
  {
   "cell_type": "code",
   "execution_count": 0,
   "metadata": {
    "application/vnd.databricks.v1+cell": {
     "cellMetadata": {
      "byteLimit": 2048000,
      "rowLimit": 10000
     },
     "inputWidgets": {},
     "nuid": "fc61865c-d0b6-415d-9738-b894ef46acb6",
     "showTitle": false,
     "tableResultSettingsMap": {},
     "title": ""
    }
   },
   "outputs": [
    {
     "output_type": "display_data",
     "data": {
      "text/html": [
       "<div class = \"ansiout\">\n",
       "This module provides various utilities for users to interact with the rest of Databricks.\n",
       "  <h3></h3><b>credentials: DatabricksCredentialUtils</b> -> Utilities for interacting with credentials within notebooks<br /><b>data: DataUtils</b> -> Utilities for understanding and interacting with datasets (EXPERIMENTAL)<br /><b>fs: DbfsUtils</b> -> Manipulates the Databricks filesystem (DBFS) from the console<br /><b>jobs: JobsUtils</b> -> Utilities for leveraging jobs features<br /><b>library: LibraryUtils</b> -> Utilities for session isolated libraries<br /><b>meta: MetaUtils</b> -> Methods to hook into the compiler (EXPERIMENTAL)<br /><b>notebook: NotebookUtils</b> -> Utilities for the control flow of a notebook (EXPERIMENTAL)<br /><b>preview: Preview</b> -> Utilities under preview category<br /><b>secrets: SecretUtils</b> -> Provides utilities for leveraging secrets within notebooks<br /><b>widgets: WidgetsUtils</b> -> Methods to create and get bound value of input widgets inside notebooks<br /><br /></div>"
      ]
     },
     "metadata": {},
     "output_type": "display_data"
    }
   ],
   "source": [
    "dbutils.help()"
   ]
  },
  {
   "cell_type": "code",
   "execution_count": 0,
   "metadata": {
    "application/vnd.databricks.v1+cell": {
     "cellMetadata": {
      "byteLimit": 2048000,
      "rowLimit": 10000
     },
     "inputWidgets": {},
     "nuid": "0d572ec7-3ac2-4ac1-8bfa-8ce28ffa1e23",
     "showTitle": false,
     "tableResultSettingsMap": {},
     "title": ""
    }
   },
   "outputs": [
    {
     "output_type": "display_data",
     "data": {
      "text/html": [
       "<div class = \"ansiout\">/**<br /> * Lists the contents of a directory.<br /> * <br /> * Example: display(ls(\"/mnt/my-folder/\"))<br /> * <br /> * The FileInfo object that is returned has the following helper methods:<br /> * val files = ls(\"/mnt/my-folder/\")<br /> * files.map(_.name)    // [myFile, myDir/]<br /> * files.map(_.length)  // [1286, 0]<br /> * files.map(_.path)    // [/mnt/my-folder/myFile, /mnt/my-folder/myDir/]<br /> * files.map(_.isDir)   // [false, true]<br /> * files.map(_.isFile)  // [true, false]<br /> * files.map(_.modificationTime)  // [1615937446000, 1615937224000]<br /> * <br /> * @param dir FileSystem URI<br /> * @return Ordered sequence of FileInfos containing the name, size and modification time<br /> *  of each file.<br /> */<br /><b>ls(dir: java.lang.String): scala.collection.Seq</b></div><br />"
      ]
     },
     "metadata": {},
     "output_type": "display_data"
    }
   ],
   "source": [
    "dbutils.fs.help(\"ls\")"
   ]
  },
  {
   "cell_type": "markdown",
   "metadata": {
    "application/vnd.databricks.v1+cell": {
     "cellMetadata": {},
     "inputWidgets": {},
     "nuid": "40ff7d4b-617a-4ea5-b005-9b8fed5d6ced",
     "showTitle": false,
     "tableResultSettingsMap": {},
     "title": ""
    }
   },
   "source": [
    "#### **1) Listing Contents of the Root Directory**\n",
    "\n",
    "- To list the **contents** of the **root directory**, you can simply pass **\"/\"** as the path:\n",
    "\n",
    "      root_files = dbutils.fs.ls(\"/\")\n",
    "      for file in root_files:\n",
    "          print(file)"
   ]
  },
  {
   "cell_type": "markdown",
   "metadata": {
    "application/vnd.databricks.v1+cell": {
     "cellMetadata": {},
     "inputWidgets": {},
     "nuid": "0452bf6f-5192-4d03-afa6-49a3c4c83322",
     "showTitle": false,
     "tableResultSettingsMap": {},
     "title": ""
    }
   },
   "source": [
    "     # List Files and Directories\n",
    "     %fs ls /\n",
    "     dbutils.fs.ls(\"/\")\n",
    "     %sh ls /dbfs/\n",
    "\n",
    "     # Default Upload Directory\n",
    "     %fs ls /FileStore/tables/\n",
    "     dbutils.fs.ls(\"/FileStore/tables/\") \n",
    "     %sh ls /dbfs/FileStore/tables/"
   ]
  },
  {
   "cell_type": "code",
   "execution_count": 0,
   "metadata": {
    "application/vnd.databricks.v1+cell": {
     "cellMetadata": {
      "byteLimit": 2048000,
      "rowLimit": 10000
     },
     "inputWidgets": {},
     "nuid": "40efa53e-2e80-438a-8bc1-45ade6c71ae5",
     "showTitle": false,
     "tableResultSettingsMap": {},
     "title": ""
    }
   },
   "outputs": [
    {
     "output_type": "display_data",
     "data": {
      "text/html": [
       "<style scoped>\n",
       "  .table-result-container {\n",
       "    max-height: 300px;\n",
       "    overflow: auto;\n",
       "  }\n",
       "  table, th, td {\n",
       "    border: 1px solid black;\n",
       "    border-collapse: collapse;\n",
       "  }\n",
       "  th, td {\n",
       "    padding: 5px;\n",
       "  }\n",
       "  th {\n",
       "    text-align: left;\n",
       "  }\n",
       "</style><div class='table-result-container'><table class='table-result'><thead style='background-color: white'><tr><th>path</th><th>name</th><th>size</th><th>modificationTime</th></tr></thead><tbody><tr><td>dbfs:/FileStore/</td><td>FileStore/</td><td>0</td><td>0</td></tr><tr><td>dbfs:/content/</td><td>content/</td><td>0</td><td>0</td></tr><tr><td>dbfs:/data/</td><td>data/</td><td>0</td><td>0</td></tr><tr><td>dbfs:/databricks/</td><td>databricks/</td><td>0</td><td>0</td></tr><tr><td>dbfs:/databricks-datasets/</td><td>databricks-datasets/</td><td>0</td><td>0</td></tr><tr><td>dbfs:/databricks-results/</td><td>databricks-results/</td><td>0</td><td>0</td></tr><tr><td>dbfs:/local_disk0/</td><td>local_disk0/</td><td>0</td><td>0</td></tr><tr><td>dbfs:/user/</td><td>user/</td><td>0</td><td>0</td></tr></tbody></table></div>"
      ]
     },
     "metadata": {
      "application/vnd.databricks.v1+output": {
       "addedWidgets": {},
       "aggData": [],
       "aggError": "",
       "aggOverflow": false,
       "aggSchema": [],
       "aggSeriesLimitReached": false,
       "aggType": "",
       "arguments": {},
       "columnCustomDisplayInfos": {},
       "data": [
        [
         "dbfs:/FileStore/",
         "FileStore/",
         0,
         0
        ],
        [
         "dbfs:/content/",
         "content/",
         0,
         0
        ],
        [
         "dbfs:/data/",
         "data/",
         0,
         0
        ],
        [
         "dbfs:/databricks/",
         "databricks/",
         0,
         0
        ],
        [
         "dbfs:/databricks-datasets/",
         "databricks-datasets/",
         0,
         0
        ],
        [
         "dbfs:/databricks-results/",
         "databricks-results/",
         0,
         0
        ],
        [
         "dbfs:/local_disk0/",
         "local_disk0/",
         0,
         0
        ],
        [
         "dbfs:/user/",
         "user/",
         0,
         0
        ]
       ],
       "datasetInfos": [],
       "dbfsResultPath": null,
       "isJsonSchema": true,
       "metadata": {
        "isDbfsCommandResult": false
       },
       "overflow": false,
       "plotOptions": {
        "customPlotOptions": {},
        "displayType": "table",
        "pivotAggregation": null,
        "pivotColumns": null,
        "xColumns": null,
        "yColumns": null
       },
       "removedWidgets": [],
       "schema": [
        {
         "metadata": "{}",
         "name": "path",
         "type": "\"string\""
        },
        {
         "metadata": "{}",
         "name": "name",
         "type": "\"string\""
        },
        {
         "metadata": "{}",
         "name": "size",
         "type": "\"long\""
        },
        {
         "metadata": "{}",
         "name": "modificationTime",
         "type": "\"long\""
        }
       ],
       "type": "table"
      }
     },
     "output_type": "display_data"
    }
   ],
   "source": [
    "# output in tabular format\n",
    "%fs ls"
   ]
  },
  {
   "cell_type": "code",
   "execution_count": 0,
   "metadata": {
    "application/vnd.databricks.v1+cell": {
     "cellMetadata": {
      "byteLimit": 2048000,
      "rowLimit": 10000
     },
     "inputWidgets": {},
     "nuid": "9b5b8cee-502e-4193-9eaf-9c937860b8b2",
     "showTitle": false,
     "tableResultSettingsMap": {},
     "title": ""
    }
   },
   "outputs": [
    {
     "output_type": "display_data",
     "data": {
      "text/html": [
       "<style scoped>\n",
       "  .table-result-container {\n",
       "    max-height: 300px;\n",
       "    overflow: auto;\n",
       "  }\n",
       "  table, th, td {\n",
       "    border: 1px solid black;\n",
       "    border-collapse: collapse;\n",
       "  }\n",
       "  th, td {\n",
       "    padding: 5px;\n",
       "  }\n",
       "  th {\n",
       "    text-align: left;\n",
       "  }\n",
       "</style><div class='table-result-container'><table class='table-result'><thead style='background-color: white'><tr><th>path</th><th>name</th><th>size</th><th>modificationTime</th></tr></thead><tbody><tr><td>dbfs:/FileStore/</td><td>FileStore/</td><td>0</td><td>0</td></tr><tr><td>dbfs:/content/</td><td>content/</td><td>0</td><td>0</td></tr><tr><td>dbfs:/data/</td><td>data/</td><td>0</td><td>0</td></tr><tr><td>dbfs:/databricks/</td><td>databricks/</td><td>0</td><td>0</td></tr><tr><td>dbfs:/databricks-datasets/</td><td>databricks-datasets/</td><td>0</td><td>0</td></tr><tr><td>dbfs:/databricks-results/</td><td>databricks-results/</td><td>0</td><td>0</td></tr><tr><td>dbfs:/local_disk0/</td><td>local_disk0/</td><td>0</td><td>0</td></tr><tr><td>dbfs:/user/</td><td>user/</td><td>0</td><td>0</td></tr></tbody></table></div>"
      ]
     },
     "metadata": {
      "application/vnd.databricks.v1+output": {
       "addedWidgets": {},
       "aggData": [],
       "aggError": "",
       "aggOverflow": false,
       "aggSchema": [],
       "aggSeriesLimitReached": false,
       "aggType": "",
       "arguments": {},
       "columnCustomDisplayInfos": {},
       "data": [
        [
         "dbfs:/FileStore/",
         "FileStore/",
         0,
         0
        ],
        [
         "dbfs:/content/",
         "content/",
         0,
         0
        ],
        [
         "dbfs:/data/",
         "data/",
         0,
         0
        ],
        [
         "dbfs:/databricks/",
         "databricks/",
         0,
         0
        ],
        [
         "dbfs:/databricks-datasets/",
         "databricks-datasets/",
         0,
         0
        ],
        [
         "dbfs:/databricks-results/",
         "databricks-results/",
         0,
         0
        ],
        [
         "dbfs:/local_disk0/",
         "local_disk0/",
         0,
         0
        ],
        [
         "dbfs:/user/",
         "user/",
         0,
         0
        ]
       ],
       "datasetInfos": [],
       "dbfsResultPath": null,
       "isJsonSchema": true,
       "metadata": {
        "isDbfsCommandResult": false
       },
       "overflow": false,
       "plotOptions": {
        "customPlotOptions": {},
        "displayType": "table",
        "pivotAggregation": null,
        "pivotColumns": null,
        "xColumns": null,
        "yColumns": null
       },
       "removedWidgets": [],
       "schema": [
        {
         "metadata": "{}",
         "name": "path",
         "type": "\"string\""
        },
        {
         "metadata": "{}",
         "name": "name",
         "type": "\"string\""
        },
        {
         "metadata": "{}",
         "name": "size",
         "type": "\"long\""
        },
        {
         "metadata": "{}",
         "name": "modificationTime",
         "type": "\"long\""
        }
       ],
       "type": "table"
      }
     },
     "output_type": "display_data"
    }
   ],
   "source": [
    "%fs ls /"
   ]
  },
  {
   "cell_type": "code",
   "execution_count": 0,
   "metadata": {
    "application/vnd.databricks.v1+cell": {
     "cellMetadata": {
      "byteLimit": 2048000,
      "rowLimit": 10000
     },
     "inputWidgets": {},
     "nuid": "5c60cab8-87c6-4588-89e3-8e7558b568bb",
     "showTitle": false,
     "tableResultSettingsMap": {},
     "title": ""
    }
   },
   "outputs": [
    {
     "output_type": "execute_result",
     "data": {
      "text/plain": [
       "[FileInfo(path='dbfs:/FileStore/', name='FileStore/', size=0, modificationTime=0),\n",
       " FileInfo(path='dbfs:/content/', name='content/', size=0, modificationTime=0),\n",
       " FileInfo(path='dbfs:/data/', name='data/', size=0, modificationTime=0),\n",
       " FileInfo(path='dbfs:/databricks/', name='databricks/', size=0, modificationTime=0),\n",
       " FileInfo(path='dbfs:/databricks-datasets/', name='databricks-datasets/', size=0, modificationTime=0),\n",
       " FileInfo(path='dbfs:/databricks-results/', name='databricks-results/', size=0, modificationTime=0),\n",
       " FileInfo(path='dbfs:/local_disk0/', name='local_disk0/', size=0, modificationTime=0),\n",
       " FileInfo(path='dbfs:/user/', name='user/', size=0, modificationTime=0)]"
      ]
     },
     "execution_count": 8,
     "metadata": {},
     "output_type": "execute_result"
    }
   ],
   "source": [
    "# output as List\n",
    "dbutils.fs.ls('/')"
   ]
  },
  {
   "cell_type": "code",
   "execution_count": 0,
   "metadata": {
    "application/vnd.databricks.v1+cell": {
     "cellMetadata": {
      "byteLimit": 2048000,
      "rowLimit": 10000
     },
     "inputWidgets": {},
     "nuid": "9c574143-bed1-4603-8c4c-7b12cb4484a2",
     "showTitle": false,
     "tableResultSettingsMap": {},
     "title": ""
    }
   },
   "outputs": [
    {
     "output_type": "display_data",
     "data": {
      "text/html": [
       "<style scoped>\n",
       "  .table-result-container {\n",
       "    max-height: 300px;\n",
       "    overflow: auto;\n",
       "  }\n",
       "  table, th, td {\n",
       "    border: 1px solid black;\n",
       "    border-collapse: collapse;\n",
       "  }\n",
       "  th, td {\n",
       "    padding: 5px;\n",
       "  }\n",
       "  th {\n",
       "    text-align: left;\n",
       "  }\n",
       "</style><div class='table-result-container'><table class='table-result'><thead style='background-color: white'><tr><th>path</th><th>name</th><th>size</th><th>modificationTime</th></tr></thead><tbody><tr><td>dbfs:/FileStore/</td><td>FileStore/</td><td>0</td><td>0</td></tr><tr><td>dbfs:/content/</td><td>content/</td><td>0</td><td>0</td></tr><tr><td>dbfs:/data/</td><td>data/</td><td>0</td><td>0</td></tr><tr><td>dbfs:/databricks/</td><td>databricks/</td><td>0</td><td>0</td></tr><tr><td>dbfs:/databricks-datasets/</td><td>databricks-datasets/</td><td>0</td><td>0</td></tr><tr><td>dbfs:/databricks-results/</td><td>databricks-results/</td><td>0</td><td>0</td></tr><tr><td>dbfs:/local_disk0/</td><td>local_disk0/</td><td>0</td><td>0</td></tr><tr><td>dbfs:/user/</td><td>user/</td><td>0</td><td>0</td></tr></tbody></table></div>"
      ]
     },
     "metadata": {
      "application/vnd.databricks.v1+output": {
       "addedWidgets": {},
       "aggData": [],
       "aggError": "",
       "aggOverflow": false,
       "aggSchema": [],
       "aggSeriesLimitReached": false,
       "aggType": "",
       "arguments": {},
       "columnCustomDisplayInfos": {},
       "data": [
        [
         "dbfs:/FileStore/",
         "FileStore/",
         0,
         0
        ],
        [
         "dbfs:/content/",
         "content/",
         0,
         0
        ],
        [
         "dbfs:/data/",
         "data/",
         0,
         0
        ],
        [
         "dbfs:/databricks/",
         "databricks/",
         0,
         0
        ],
        [
         "dbfs:/databricks-datasets/",
         "databricks-datasets/",
         0,
         0
        ],
        [
         "dbfs:/databricks-results/",
         "databricks-results/",
         0,
         0
        ],
        [
         "dbfs:/local_disk0/",
         "local_disk0/",
         0,
         0
        ],
        [
         "dbfs:/user/",
         "user/",
         0,
         0
        ]
       ],
       "datasetInfos": [],
       "dbfsResultPath": null,
       "isJsonSchema": true,
       "metadata": {},
       "overflow": false,
       "plotOptions": {
        "customPlotOptions": {},
        "displayType": "table",
        "pivotAggregation": null,
        "pivotColumns": null,
        "xColumns": null,
        "yColumns": null
       },
       "removedWidgets": [],
       "schema": [
        {
         "metadata": "{}",
         "name": "path",
         "type": "\"string\""
        },
        {
         "metadata": "{}",
         "name": "name",
         "type": "\"string\""
        },
        {
         "metadata": "{}",
         "name": "size",
         "type": "\"long\""
        },
        {
         "metadata": "{}",
         "name": "modificationTime",
         "type": "\"long\""
        }
       ],
       "type": "table"
      }
     },
     "output_type": "display_data"
    }
   ],
   "source": [
    "# output in tabular format\n",
    "display(dbutils.fs.ls('/'))"
   ]
  },
  {
   "cell_type": "markdown",
   "metadata": {
    "application/vnd.databricks.v1+cell": {
     "cellMetadata": {},
     "inputWidgets": {},
     "nuid": "cddff802-db73-48eb-b39e-adc4c7489b07",
     "showTitle": false,
     "tableResultSettingsMap": {},
     "title": ""
    }
   },
   "source": [
    "#### **2) Listing Contents of a Directory**\n",
    "\n",
    "- To list all files and directories within a specific directory, you can use:\n",
    "\n",
    "       files = dbutils.fs.ls(\"/mnt/your-directory/\")\n",
    "       for file in files:\n",
    "           print(file)"
   ]
  },
  {
   "cell_type": "code",
   "execution_count": 0,
   "metadata": {
    "application/vnd.databricks.v1+cell": {
     "cellMetadata": {
      "byteLimit": 2048000,
      "rowLimit": 10000
     },
     "inputWidgets": {},
     "nuid": "90de801c-1553-4d02-be64-cb160b4e3f6e",
     "showTitle": false,
     "tableResultSettingsMap": {},
     "title": ""
    }
   },
   "outputs": [
    {
     "output_type": "display_data",
     "data": {
      "text/html": [
       "<style scoped>\n",
       "  .table-result-container {\n",
       "    max-height: 300px;\n",
       "    overflow: auto;\n",
       "  }\n",
       "  table, th, td {\n",
       "    border: 1px solid black;\n",
       "    border-collapse: collapse;\n",
       "  }\n",
       "  th, td {\n",
       "    padding: 5px;\n",
       "  }\n",
       "  th {\n",
       "    text-align: left;\n",
       "  }\n",
       "</style><div class='table-result-container'><table class='table-result'><thead style='background-color: white'><tr><th>path</th><th>name</th><th>size</th><th>modificationTime</th></tr></thead><tbody><tr><td>dbfs:/databricks-datasets/COVID/</td><td>COVID/</td><td>0</td><td>0</td></tr><tr><td>dbfs:/databricks-datasets/README.md</td><td>README.md</td><td>976</td><td>1532468253000</td></tr><tr><td>dbfs:/databricks-datasets/Rdatasets/</td><td>Rdatasets/</td><td>0</td><td>0</td></tr><tr><td>dbfs:/databricks-datasets/SPARK_README.md</td><td>SPARK_README.md</td><td>3359</td><td>1455043490000</td></tr><tr><td>dbfs:/databricks-datasets/adult/</td><td>adult/</td><td>0</td><td>0</td></tr><tr><td>dbfs:/databricks-datasets/airlines/</td><td>airlines/</td><td>0</td><td>0</td></tr><tr><td>dbfs:/databricks-datasets/amazon/</td><td>amazon/</td><td>0</td><td>0</td></tr><tr><td>dbfs:/databricks-datasets/asa/</td><td>asa/</td><td>0</td><td>0</td></tr><tr><td>dbfs:/databricks-datasets/atlas_higgs/</td><td>atlas_higgs/</td><td>0</td><td>0</td></tr><tr><td>dbfs:/databricks-datasets/bikeSharing/</td><td>bikeSharing/</td><td>0</td><td>0</td></tr><tr><td>dbfs:/databricks-datasets/cctvVideos/</td><td>cctvVideos/</td><td>0</td><td>0</td></tr><tr><td>dbfs:/databricks-datasets/credit-card-fraud/</td><td>credit-card-fraud/</td><td>0</td><td>0</td></tr><tr><td>dbfs:/databricks-datasets/cs100/</td><td>cs100/</td><td>0</td><td>0</td></tr><tr><td>dbfs:/databricks-datasets/cs110x/</td><td>cs110x/</td><td>0</td><td>0</td></tr><tr><td>dbfs:/databricks-datasets/cs190/</td><td>cs190/</td><td>0</td><td>0</td></tr><tr><td>dbfs:/databricks-datasets/data.gov/</td><td>data.gov/</td><td>0</td><td>0</td></tr><tr><td>dbfs:/databricks-datasets/definitive-guide/</td><td>definitive-guide/</td><td>0</td><td>0</td></tr><tr><td>dbfs:/databricks-datasets/delta-sharing/</td><td>delta-sharing/</td><td>0</td><td>0</td></tr><tr><td>dbfs:/databricks-datasets/flights/</td><td>flights/</td><td>0</td><td>0</td></tr><tr><td>dbfs:/databricks-datasets/flower_photos/</td><td>flower_photos/</td><td>0</td><td>0</td></tr><tr><td>dbfs:/databricks-datasets/flowers/</td><td>flowers/</td><td>0</td><td>0</td></tr><tr><td>dbfs:/databricks-datasets/genomics/</td><td>genomics/</td><td>0</td><td>0</td></tr><tr><td>dbfs:/databricks-datasets/hail/</td><td>hail/</td><td>0</td><td>0</td></tr><tr><td>dbfs:/databricks-datasets/identifying-campaign-effectiveness/</td><td>identifying-campaign-effectiveness/</td><td>0</td><td>0</td></tr><tr><td>dbfs:/databricks-datasets/iot/</td><td>iot/</td><td>0</td><td>0</td></tr><tr><td>dbfs:/databricks-datasets/iot-stream/</td><td>iot-stream/</td><td>0</td><td>0</td></tr><tr><td>dbfs:/databricks-datasets/learning-spark/</td><td>learning-spark/</td><td>0</td><td>0</td></tr><tr><td>dbfs:/databricks-datasets/learning-spark-v2/</td><td>learning-spark-v2/</td><td>0</td><td>0</td></tr><tr><td>dbfs:/databricks-datasets/lending-club-loan-stats/</td><td>lending-club-loan-stats/</td><td>0</td><td>0</td></tr><tr><td>dbfs:/databricks-datasets/med-images/</td><td>med-images/</td><td>0</td><td>0</td></tr><tr><td>dbfs:/databricks-datasets/media/</td><td>media/</td><td>0</td><td>0</td></tr><tr><td>dbfs:/databricks-datasets/mnist-digits/</td><td>mnist-digits/</td><td>0</td><td>0</td></tr><tr><td>dbfs:/databricks-datasets/news20.binary/</td><td>news20.binary/</td><td>0</td><td>0</td></tr><tr><td>dbfs:/databricks-datasets/nyctaxi/</td><td>nyctaxi/</td><td>0</td><td>0</td></tr><tr><td>dbfs:/databricks-datasets/nyctaxi-with-zipcodes/</td><td>nyctaxi-with-zipcodes/</td><td>0</td><td>0</td></tr><tr><td>dbfs:/databricks-datasets/online_retail/</td><td>online_retail/</td><td>0</td><td>0</td></tr><tr><td>dbfs:/databricks-datasets/overlap-join/</td><td>overlap-join/</td><td>0</td><td>0</td></tr><tr><td>dbfs:/databricks-datasets/power-plant/</td><td>power-plant/</td><td>0</td><td>0</td></tr><tr><td>dbfs:/databricks-datasets/retail-org/</td><td>retail-org/</td><td>0</td><td>0</td></tr><tr><td>dbfs:/databricks-datasets/rwe/</td><td>rwe/</td><td>0</td><td>0</td></tr><tr><td>dbfs:/databricks-datasets/sai-summit-2019-sf/</td><td>sai-summit-2019-sf/</td><td>0</td><td>0</td></tr><tr><td>dbfs:/databricks-datasets/sample_logs/</td><td>sample_logs/</td><td>0</td><td>0</td></tr><tr><td>dbfs:/databricks-datasets/samples/</td><td>samples/</td><td>0</td><td>0</td></tr><tr><td>dbfs:/databricks-datasets/sfo_customer_survey/</td><td>sfo_customer_survey/</td><td>0</td><td>0</td></tr><tr><td>dbfs:/databricks-datasets/sms_spam_collection/</td><td>sms_spam_collection/</td><td>0</td><td>0</td></tr><tr><td>dbfs:/databricks-datasets/songs/</td><td>songs/</td><td>0</td><td>0</td></tr><tr><td>dbfs:/databricks-datasets/structured-streaming/</td><td>structured-streaming/</td><td>0</td><td>0</td></tr><tr><td>dbfs:/databricks-datasets/timeseries/</td><td>timeseries/</td><td>0</td><td>0</td></tr><tr><td>dbfs:/databricks-datasets/tpch/</td><td>tpch/</td><td>0</td><td>0</td></tr><tr><td>dbfs:/databricks-datasets/travel_recommendations_realtime/</td><td>travel_recommendations_realtime/</td><td>0</td><td>0</td></tr><tr><td>dbfs:/databricks-datasets/warmup/</td><td>warmup/</td><td>0</td><td>0</td></tr><tr><td>dbfs:/databricks-datasets/weather/</td><td>weather/</td><td>0</td><td>0</td></tr><tr><td>dbfs:/databricks-datasets/wiki/</td><td>wiki/</td><td>0</td><td>0</td></tr><tr><td>dbfs:/databricks-datasets/wikipedia-datasets/</td><td>wikipedia-datasets/</td><td>0</td><td>0</td></tr><tr><td>dbfs:/databricks-datasets/wine-quality/</td><td>wine-quality/</td><td>0</td><td>0</td></tr></tbody></table></div>"
      ]
     },
     "metadata": {
      "application/vnd.databricks.v1+output": {
       "addedWidgets": {},
       "aggData": [],
       "aggError": "",
       "aggOverflow": false,
       "aggSchema": [],
       "aggSeriesLimitReached": false,
       "aggType": "",
       "arguments": {},
       "columnCustomDisplayInfos": {},
       "data": [
        [
         "dbfs:/databricks-datasets/COVID/",
         "COVID/",
         0,
         0
        ],
        [
         "dbfs:/databricks-datasets/README.md",
         "README.md",
         976,
         1532468253000
        ],
        [
         "dbfs:/databricks-datasets/Rdatasets/",
         "Rdatasets/",
         0,
         0
        ],
        [
         "dbfs:/databricks-datasets/SPARK_README.md",
         "SPARK_README.md",
         3359,
         1455043490000
        ],
        [
         "dbfs:/databricks-datasets/adult/",
         "adult/",
         0,
         0
        ],
        [
         "dbfs:/databricks-datasets/airlines/",
         "airlines/",
         0,
         0
        ],
        [
         "dbfs:/databricks-datasets/amazon/",
         "amazon/",
         0,
         0
        ],
        [
         "dbfs:/databricks-datasets/asa/",
         "asa/",
         0,
         0
        ],
        [
         "dbfs:/databricks-datasets/atlas_higgs/",
         "atlas_higgs/",
         0,
         0
        ],
        [
         "dbfs:/databricks-datasets/bikeSharing/",
         "bikeSharing/",
         0,
         0
        ],
        [
         "dbfs:/databricks-datasets/cctvVideos/",
         "cctvVideos/",
         0,
         0
        ],
        [
         "dbfs:/databricks-datasets/credit-card-fraud/",
         "credit-card-fraud/",
         0,
         0
        ],
        [
         "dbfs:/databricks-datasets/cs100/",
         "cs100/",
         0,
         0
        ],
        [
         "dbfs:/databricks-datasets/cs110x/",
         "cs110x/",
         0,
         0
        ],
        [
         "dbfs:/databricks-datasets/cs190/",
         "cs190/",
         0,
         0
        ],
        [
         "dbfs:/databricks-datasets/data.gov/",
         "data.gov/",
         0,
         0
        ],
        [
         "dbfs:/databricks-datasets/definitive-guide/",
         "definitive-guide/",
         0,
         0
        ],
        [
         "dbfs:/databricks-datasets/delta-sharing/",
         "delta-sharing/",
         0,
         0
        ],
        [
         "dbfs:/databricks-datasets/flights/",
         "flights/",
         0,
         0
        ],
        [
         "dbfs:/databricks-datasets/flower_photos/",
         "flower_photos/",
         0,
         0
        ],
        [
         "dbfs:/databricks-datasets/flowers/",
         "flowers/",
         0,
         0
        ],
        [
         "dbfs:/databricks-datasets/genomics/",
         "genomics/",
         0,
         0
        ],
        [
         "dbfs:/databricks-datasets/hail/",
         "hail/",
         0,
         0
        ],
        [
         "dbfs:/databricks-datasets/identifying-campaign-effectiveness/",
         "identifying-campaign-effectiveness/",
         0,
         0
        ],
        [
         "dbfs:/databricks-datasets/iot/",
         "iot/",
         0,
         0
        ],
        [
         "dbfs:/databricks-datasets/iot-stream/",
         "iot-stream/",
         0,
         0
        ],
        [
         "dbfs:/databricks-datasets/learning-spark/",
         "learning-spark/",
         0,
         0
        ],
        [
         "dbfs:/databricks-datasets/learning-spark-v2/",
         "learning-spark-v2/",
         0,
         0
        ],
        [
         "dbfs:/databricks-datasets/lending-club-loan-stats/",
         "lending-club-loan-stats/",
         0,
         0
        ],
        [
         "dbfs:/databricks-datasets/med-images/",
         "med-images/",
         0,
         0
        ],
        [
         "dbfs:/databricks-datasets/media/",
         "media/",
         0,
         0
        ],
        [
         "dbfs:/databricks-datasets/mnist-digits/",
         "mnist-digits/",
         0,
         0
        ],
        [
         "dbfs:/databricks-datasets/news20.binary/",
         "news20.binary/",
         0,
         0
        ],
        [
         "dbfs:/databricks-datasets/nyctaxi/",
         "nyctaxi/",
         0,
         0
        ],
        [
         "dbfs:/databricks-datasets/nyctaxi-with-zipcodes/",
         "nyctaxi-with-zipcodes/",
         0,
         0
        ],
        [
         "dbfs:/databricks-datasets/online_retail/",
         "online_retail/",
         0,
         0
        ],
        [
         "dbfs:/databricks-datasets/overlap-join/",
         "overlap-join/",
         0,
         0
        ],
        [
         "dbfs:/databricks-datasets/power-plant/",
         "power-plant/",
         0,
         0
        ],
        [
         "dbfs:/databricks-datasets/retail-org/",
         "retail-org/",
         0,
         0
        ],
        [
         "dbfs:/databricks-datasets/rwe/",
         "rwe/",
         0,
         0
        ],
        [
         "dbfs:/databricks-datasets/sai-summit-2019-sf/",
         "sai-summit-2019-sf/",
         0,
         0
        ],
        [
         "dbfs:/databricks-datasets/sample_logs/",
         "sample_logs/",
         0,
         0
        ],
        [
         "dbfs:/databricks-datasets/samples/",
         "samples/",
         0,
         0
        ],
        [
         "dbfs:/databricks-datasets/sfo_customer_survey/",
         "sfo_customer_survey/",
         0,
         0
        ],
        [
         "dbfs:/databricks-datasets/sms_spam_collection/",
         "sms_spam_collection/",
         0,
         0
        ],
        [
         "dbfs:/databricks-datasets/songs/",
         "songs/",
         0,
         0
        ],
        [
         "dbfs:/databricks-datasets/structured-streaming/",
         "structured-streaming/",
         0,
         0
        ],
        [
         "dbfs:/databricks-datasets/timeseries/",
         "timeseries/",
         0,
         0
        ],
        [
         "dbfs:/databricks-datasets/tpch/",
         "tpch/",
         0,
         0
        ],
        [
         "dbfs:/databricks-datasets/travel_recommendations_realtime/",
         "travel_recommendations_realtime/",
         0,
         0
        ],
        [
         "dbfs:/databricks-datasets/warmup/",
         "warmup/",
         0,
         0
        ],
        [
         "dbfs:/databricks-datasets/weather/",
         "weather/",
         0,
         0
        ],
        [
         "dbfs:/databricks-datasets/wiki/",
         "wiki/",
         0,
         0
        ],
        [
         "dbfs:/databricks-datasets/wikipedia-datasets/",
         "wikipedia-datasets/",
         0,
         0
        ],
        [
         "dbfs:/databricks-datasets/wine-quality/",
         "wine-quality/",
         0,
         0
        ]
       ],
       "datasetInfos": [],
       "dbfsResultPath": null,
       "isJsonSchema": true,
       "metadata": {},
       "overflow": false,
       "plotOptions": {
        "customPlotOptions": {},
        "displayType": "table",
        "pivotAggregation": null,
        "pivotColumns": null,
        "xColumns": null,
        "yColumns": null
       },
       "removedWidgets": [],
       "schema": [
        {
         "metadata": "{}",
         "name": "path",
         "type": "\"string\""
        },
        {
         "metadata": "{}",
         "name": "name",
         "type": "\"string\""
        },
        {
         "metadata": "{}",
         "name": "size",
         "type": "\"long\""
        },
        {
         "metadata": "{}",
         "name": "modificationTime",
         "type": "\"long\""
        }
       ],
       "type": "table"
      }
     },
     "output_type": "display_data"
    }
   ],
   "source": [
    "display(dbutils.fs.ls(\"dbfs:/databricks-datasets/\"))"
   ]
  },
  {
   "cell_type": "code",
   "execution_count": 0,
   "metadata": {
    "application/vnd.databricks.v1+cell": {
     "cellMetadata": {
      "byteLimit": 2048000,
      "rowLimit": 10000
     },
     "inputWidgets": {},
     "nuid": "af0d17ca-d19e-4724-ac8e-eb73f1fdc966",
     "showTitle": false,
     "tableResultSettingsMap": {},
     "title": ""
    }
   },
   "outputs": [
    {
     "output_type": "stream",
     "name": "stdout",
     "output_type": "stream",
     "text": [
      "FileInfo(path='dbfs:/databricks-datasets/COVID/', name='COVID/', size=0, modificationTime=0)\nFileInfo(path='dbfs:/databricks-datasets/README.md', name='README.md', size=976, modificationTime=1532468253000)\nFileInfo(path='dbfs:/databricks-datasets/Rdatasets/', name='Rdatasets/', size=0, modificationTime=0)\nFileInfo(path='dbfs:/databricks-datasets/SPARK_README.md', name='SPARK_README.md', size=3359, modificationTime=1455043490000)\nFileInfo(path='dbfs:/databricks-datasets/adult/', name='adult/', size=0, modificationTime=0)\nFileInfo(path='dbfs:/databricks-datasets/airlines/', name='airlines/', size=0, modificationTime=0)\nFileInfo(path='dbfs:/databricks-datasets/amazon/', name='amazon/', size=0, modificationTime=0)\nFileInfo(path='dbfs:/databricks-datasets/asa/', name='asa/', size=0, modificationTime=0)\nFileInfo(path='dbfs:/databricks-datasets/atlas_higgs/', name='atlas_higgs/', size=0, modificationTime=0)\nFileInfo(path='dbfs:/databricks-datasets/bikeSharing/', name='bikeSharing/', size=0, modificationTime=0)\nFileInfo(path='dbfs:/databricks-datasets/cctvVideos/', name='cctvVideos/', size=0, modificationTime=0)\nFileInfo(path='dbfs:/databricks-datasets/credit-card-fraud/', name='credit-card-fraud/', size=0, modificationTime=0)\nFileInfo(path='dbfs:/databricks-datasets/cs100/', name='cs100/', size=0, modificationTime=0)\nFileInfo(path='dbfs:/databricks-datasets/cs110x/', name='cs110x/', size=0, modificationTime=0)\nFileInfo(path='dbfs:/databricks-datasets/cs190/', name='cs190/', size=0, modificationTime=0)\nFileInfo(path='dbfs:/databricks-datasets/data.gov/', name='data.gov/', size=0, modificationTime=0)\nFileInfo(path='dbfs:/databricks-datasets/definitive-guide/', name='definitive-guide/', size=0, modificationTime=0)\nFileInfo(path='dbfs:/databricks-datasets/delta-sharing/', name='delta-sharing/', size=0, modificationTime=0)\nFileInfo(path='dbfs:/databricks-datasets/flights/', name='flights/', size=0, modificationTime=0)\nFileInfo(path='dbfs:/databricks-datasets/flower_photos/', name='flower_photos/', size=0, modificationTime=0)\nFileInfo(path='dbfs:/databricks-datasets/flowers/', name='flowers/', size=0, modificationTime=0)\nFileInfo(path='dbfs:/databricks-datasets/genomics/', name='genomics/', size=0, modificationTime=0)\nFileInfo(path='dbfs:/databricks-datasets/hail/', name='hail/', size=0, modificationTime=0)\nFileInfo(path='dbfs:/databricks-datasets/identifying-campaign-effectiveness/', name='identifying-campaign-effectiveness/', size=0, modificationTime=0)\nFileInfo(path='dbfs:/databricks-datasets/iot/', name='iot/', size=0, modificationTime=0)\nFileInfo(path='dbfs:/databricks-datasets/iot-stream/', name='iot-stream/', size=0, modificationTime=0)\nFileInfo(path='dbfs:/databricks-datasets/learning-spark/', name='learning-spark/', size=0, modificationTime=0)\nFileInfo(path='dbfs:/databricks-datasets/learning-spark-v2/', name='learning-spark-v2/', size=0, modificationTime=0)\nFileInfo(path='dbfs:/databricks-datasets/lending-club-loan-stats/', name='lending-club-loan-stats/', size=0, modificationTime=0)\nFileInfo(path='dbfs:/databricks-datasets/med-images/', name='med-images/', size=0, modificationTime=0)\nFileInfo(path='dbfs:/databricks-datasets/media/', name='media/', size=0, modificationTime=0)\nFileInfo(path='dbfs:/databricks-datasets/mnist-digits/', name='mnist-digits/', size=0, modificationTime=0)\nFileInfo(path='dbfs:/databricks-datasets/news20.binary/', name='news20.binary/', size=0, modificationTime=0)\nFileInfo(path='dbfs:/databricks-datasets/nyctaxi/', name='nyctaxi/', size=0, modificationTime=0)\nFileInfo(path='dbfs:/databricks-datasets/nyctaxi-with-zipcodes/', name='nyctaxi-with-zipcodes/', size=0, modificationTime=0)\nFileInfo(path='dbfs:/databricks-datasets/online_retail/', name='online_retail/', size=0, modificationTime=0)\nFileInfo(path='dbfs:/databricks-datasets/overlap-join/', name='overlap-join/', size=0, modificationTime=0)\nFileInfo(path='dbfs:/databricks-datasets/power-plant/', name='power-plant/', size=0, modificationTime=0)\nFileInfo(path='dbfs:/databricks-datasets/retail-org/', name='retail-org/', size=0, modificationTime=0)\nFileInfo(path='dbfs:/databricks-datasets/rwe/', name='rwe/', size=0, modificationTime=0)\nFileInfo(path='dbfs:/databricks-datasets/sai-summit-2019-sf/', name='sai-summit-2019-sf/', size=0, modificationTime=0)\nFileInfo(path='dbfs:/databricks-datasets/sample_logs/', name='sample_logs/', size=0, modificationTime=0)\nFileInfo(path='dbfs:/databricks-datasets/samples/', name='samples/', size=0, modificationTime=0)\nFileInfo(path='dbfs:/databricks-datasets/sfo_customer_survey/', name='sfo_customer_survey/', size=0, modificationTime=0)\nFileInfo(path='dbfs:/databricks-datasets/sms_spam_collection/', name='sms_spam_collection/', size=0, modificationTime=0)\nFileInfo(path='dbfs:/databricks-datasets/songs/', name='songs/', size=0, modificationTime=0)\nFileInfo(path='dbfs:/databricks-datasets/structured-streaming/', name='structured-streaming/', size=0, modificationTime=0)\nFileInfo(path='dbfs:/databricks-datasets/timeseries/', name='timeseries/', size=0, modificationTime=0)\nFileInfo(path='dbfs:/databricks-datasets/tpch/', name='tpch/', size=0, modificationTime=0)\nFileInfo(path='dbfs:/databricks-datasets/travel_recommendations_realtime/', name='travel_recommendations_realtime/', size=0, modificationTime=0)\nFileInfo(path='dbfs:/databricks-datasets/warmup/', name='warmup/', size=0, modificationTime=0)\nFileInfo(path='dbfs:/databricks-datasets/weather/', name='weather/', size=0, modificationTime=0)\nFileInfo(path='dbfs:/databricks-datasets/wiki/', name='wiki/', size=0, modificationTime=0)\nFileInfo(path='dbfs:/databricks-datasets/wikipedia-datasets/', name='wikipedia-datasets/', size=0, modificationTime=0)\nFileInfo(path='dbfs:/databricks-datasets/wine-quality/', name='wine-quality/', size=0, modificationTime=0)\n"
     ]
    }
   ],
   "source": [
    "files = dbutils.fs.ls(\"dbfs:/databricks-datasets/\")\n",
    "for file in files:\n",
    "    print(file)"
   ]
  },
  {
   "cell_type": "code",
   "execution_count": 0,
   "metadata": {
    "application/vnd.databricks.v1+cell": {
     "cellMetadata": {
      "byteLimit": 2048000,
      "rowLimit": 10000
     },
     "inputWidgets": {},
     "nuid": "504fb640-27a7-4d59-bf2c-731db4993bb2",
     "showTitle": false,
     "tableResultSettingsMap": {},
     "title": ""
    }
   },
   "outputs": [
    {
     "output_type": "display_data",
     "data": {
      "text/plain": [
       "\u001B[0;31m---------------------------------------------------------------------------\u001B[0m\n",
       "\u001B[0;31mExecutionError\u001B[0m                            Traceback (most recent call last)\n",
       "File \u001B[0;32m<command-2431506887767997>, line 1\u001B[0m\n",
       "\u001B[0;32m----> 1\u001B[0m display(dbutils\u001B[38;5;241m.\u001B[39mfs\u001B[38;5;241m.\u001B[39mls(\u001B[38;5;124m\"\u001B[39m\u001B[38;5;124mdbfs:/databricks-results/\u001B[39m\u001B[38;5;124m\"\u001B[39m))\n",
       "\n",
       "File \u001B[0;32m/databricks/python_shell/dbruntime/dbutils.py:158\u001B[0m, in \u001B[0;36mprettify_exception_message.<locals>.f_with_exception_handling\u001B[0;34m(*args, **kwargs)\u001B[0m\n",
       "\u001B[1;32m    156\u001B[0m exc\u001B[38;5;241m.\u001B[39m__context__ \u001B[38;5;241m=\u001B[39m \u001B[38;5;28;01mNone\u001B[39;00m\n",
       "\u001B[1;32m    157\u001B[0m exc\u001B[38;5;241m.\u001B[39m__cause__ \u001B[38;5;241m=\u001B[39m \u001B[38;5;28;01mNone\u001B[39;00m\n",
       "\u001B[0;32m--> 158\u001B[0m \u001B[38;5;28;01mraise\u001B[39;00m exc\n",
       "\n",
       "\u001B[0;31mExecutionError\u001B[0m: An error occurred while calling o412.ls.\n",
       ": java.io.FileNotFoundException: /databricks-results\n",
       "\tat com.databricks.backend.daemon.data.client.DbfsClient.send0(DbfsClient.scala:122)\n",
       "\tat com.databricks.backend.daemon.data.client.DbfsClient.sendIdempotent(DbfsClient.scala:70)\n",
       "\tat com.databricks.backend.daemon.data.client.DatabricksFileSystemV1.listStatus(DatabricksFileSystemV1.scala:179)\n",
       "\tat com.databricks.backend.daemon.data.client.DatabricksFileSystem.listStatus(DatabricksFileSystem.scala:165)\n",
       "\tat com.databricks.common.filesystem.LokiFileSystem.listStatus(LokiFileSystem.scala:306)\n",
       "\tat com.databricks.backend.daemon.dbutils.FSUtils.lsWithLimit(DBUtilsCore.scala:296)\n",
       "\tat com.databricks.backend.daemon.dbutils.FSUtils.$anonfun$lsImpl$4(DBUtilsCore.scala:265)\n",
       "\tat com.databricks.backend.daemon.dbutils.FSUtils.withFsSafetyCheck(DBUtilsCore.scala:152)\n",
       "\tat com.databricks.backend.daemon.dbutils.FSUtils.$anonfun$lsImpl$3(DBUtilsCore.scala:265)\n",
       "\tat com.databricks.backend.daemon.dbutils.FSUtils.checkPermission(DBUtilsCore.scala:147)\n",
       "\tat com.databricks.backend.daemon.dbutils.FSUtils.lsImpl(DBUtilsCore.scala:264)\n",
       "\tat com.databricks.backend.daemon.dbutils.FSUtils.$anonfun$ls$1(DBUtilsCore.scala:237)\n",
       "\tat com.databricks.logging.UsageLogging.$anonfun$recordOperation$1(UsageLogging.scala:528)\n",
       "\tat com.databricks.logging.UsageLogging.executeThunkAndCaptureResultTags$1(UsageLogging.scala:633)\n",
       "\tat com.databricks.logging.UsageLogging.$anonfun$recordOperationWithResultTags$4(UsageLogging.scala:656)\n",
       "\tat com.databricks.logging.AttributionContextTracing.$anonfun$withAttributionContext$1(AttributionContextTracing.scala:48)\n",
       "\tat com.databricks.logging.AttributionContext$.$anonfun$withValue$1(AttributionContext.scala:276)\n",
       "\tat scala.util.DynamicVariable.withValue(DynamicVariable.scala:62)\n",
       "\tat com.databricks.logging.AttributionContext$.withValue(AttributionContext.scala:272)\n",
       "\tat com.databricks.logging.AttributionContextTracing.withAttributionContext(AttributionContextTracing.scala:46)\n",
       "\tat com.databricks.logging.AttributionContextTracing.withAttributionContext$(AttributionContextTracing.scala:43)\n",
       "\tat com.databricks.backend.daemon.dbutils.FSUtils.withAttributionContext(DBUtilsCore.scala:74)\n",
       "\tat com.databricks.logging.AttributionContextTracing.withAttributionTags(AttributionContextTracing.scala:95)\n",
       "\tat com.databricks.logging.AttributionContextTracing.withAttributionTags$(AttributionContextTracing.scala:76)\n",
       "\tat com.databricks.backend.daemon.dbutils.FSUtils.withAttributionTags(DBUtilsCore.scala:74)\n",
       "\tat com.databricks.logging.UsageLogging.recordOperationWithResultTags(UsageLogging.scala:628)\n",
       "\tat com.databricks.logging.UsageLogging.recordOperationWithResultTags$(UsageLogging.scala:537)\n",
       "\tat com.databricks.backend.daemon.dbutils.FSUtils.recordOperationWithResultTags(DBUtilsCore.scala:74)\n",
       "\tat com.databricks.logging.UsageLogging.recordOperation(UsageLogging.scala:529)\n",
       "\tat com.databricks.logging.UsageLogging.recordOperation$(UsageLogging.scala:495)\n",
       "\tat com.databricks.backend.daemon.dbutils.FSUtils.recordOperation(DBUtilsCore.scala:74)\n",
       "\tat com.databricks.backend.daemon.dbutils.FSUtils.recordDbutilsFsOp(DBUtilsCore.scala:138)\n",
       "\tat com.databricks.backend.daemon.dbutils.FSUtils.ls(DBUtilsCore.scala:237)\n",
       "\tat sun.reflect.GeneratedMethodAccessor572.invoke(Unknown Source)\n",
       "\tat sun.reflect.DelegatingMethodAccessorImpl.invoke(DelegatingMethodAccessorImpl.java:43)\n",
       "\tat java.lang.reflect.Method.invoke(Method.java:498)\n",
       "\tat py4j.reflection.MethodInvoker.invoke(MethodInvoker.java:244)\n",
       "\tat py4j.reflection.ReflectionEngine.invoke(ReflectionEngine.java:397)\n",
       "\tat py4j.Gateway.invoke(Gateway.java:306)\n",
       "\tat py4j.commands.AbstractCommand.invokeMethod(AbstractCommand.java:132)\n",
       "\tat py4j.commands.CallCommand.execute(CallCommand.java:79)\n",
       "\tat py4j.ClientServerConnection.waitForCommands(ClientServerConnection.java:199)\n",
       "\tat py4j.ClientServerConnection.run(ClientServerConnection.java:119)\n",
       "\tat java.lang.Thread.run(Thread.java:750)\n"
      ]
     },
     "metadata": {
      "application/vnd.databricks.v1+output": {
       "addedWidgets": {},
       "arguments": {},
       "datasetInfos": [],
       "jupyterProps": {
        "ename": "ExecutionError",
        "evalue": "An error occurred while calling o412.ls.\n: java.io.FileNotFoundException: /databricks-results\n\tat com.databricks.backend.daemon.data.client.DbfsClient.send0(DbfsClient.scala:122)\n\tat com.databricks.backend.daemon.data.client.DbfsClient.sendIdempotent(DbfsClient.scala:70)\n\tat com.databricks.backend.daemon.data.client.DatabricksFileSystemV1.listStatus(DatabricksFileSystemV1.scala:179)\n\tat com.databricks.backend.daemon.data.client.DatabricksFileSystem.listStatus(DatabricksFileSystem.scala:165)\n\tat com.databricks.common.filesystem.LokiFileSystem.listStatus(LokiFileSystem.scala:306)\n\tat com.databricks.backend.daemon.dbutils.FSUtils.lsWithLimit(DBUtilsCore.scala:296)\n\tat com.databricks.backend.daemon.dbutils.FSUtils.$anonfun$lsImpl$4(DBUtilsCore.scala:265)\n\tat com.databricks.backend.daemon.dbutils.FSUtils.withFsSafetyCheck(DBUtilsCore.scala:152)\n\tat com.databricks.backend.daemon.dbutils.FSUtils.$anonfun$lsImpl$3(DBUtilsCore.scala:265)\n\tat com.databricks.backend.daemon.dbutils.FSUtils.checkPermission(DBUtilsCore.scala:147)\n\tat com.databricks.backend.daemon.dbutils.FSUtils.lsImpl(DBUtilsCore.scala:264)\n\tat com.databricks.backend.daemon.dbutils.FSUtils.$anonfun$ls$1(DBUtilsCore.scala:237)\n\tat com.databricks.logging.UsageLogging.$anonfun$recordOperation$1(UsageLogging.scala:528)\n\tat com.databricks.logging.UsageLogging.executeThunkAndCaptureResultTags$1(UsageLogging.scala:633)\n\tat com.databricks.logging.UsageLogging.$anonfun$recordOperationWithResultTags$4(UsageLogging.scala:656)\n\tat com.databricks.logging.AttributionContextTracing.$anonfun$withAttributionContext$1(AttributionContextTracing.scala:48)\n\tat com.databricks.logging.AttributionContext$.$anonfun$withValue$1(AttributionContext.scala:276)\n\tat scala.util.DynamicVariable.withValue(DynamicVariable.scala:62)\n\tat com.databricks.logging.AttributionContext$.withValue(AttributionContext.scala:272)\n\tat com.databricks.logging.AttributionContextTracing.withAttributionContext(AttributionContextTracing.scala:46)\n\tat com.databricks.logging.AttributionContextTracing.withAttributionContext$(AttributionContextTracing.scala:43)\n\tat com.databricks.backend.daemon.dbutils.FSUtils.withAttributionContext(DBUtilsCore.scala:74)\n\tat com.databricks.logging.AttributionContextTracing.withAttributionTags(AttributionContextTracing.scala:95)\n\tat com.databricks.logging.AttributionContextTracing.withAttributionTags$(AttributionContextTracing.scala:76)\n\tat com.databricks.backend.daemon.dbutils.FSUtils.withAttributionTags(DBUtilsCore.scala:74)\n\tat com.databricks.logging.UsageLogging.recordOperationWithResultTags(UsageLogging.scala:628)\n\tat com.databricks.logging.UsageLogging.recordOperationWithResultTags$(UsageLogging.scala:537)\n\tat com.databricks.backend.daemon.dbutils.FSUtils.recordOperationWithResultTags(DBUtilsCore.scala:74)\n\tat com.databricks.logging.UsageLogging.recordOperation(UsageLogging.scala:529)\n\tat com.databricks.logging.UsageLogging.recordOperation$(UsageLogging.scala:495)\n\tat com.databricks.backend.daemon.dbutils.FSUtils.recordOperation(DBUtilsCore.scala:74)\n\tat com.databricks.backend.daemon.dbutils.FSUtils.recordDbutilsFsOp(DBUtilsCore.scala:138)\n\tat com.databricks.backend.daemon.dbutils.FSUtils.ls(DBUtilsCore.scala:237)\n\tat sun.reflect.GeneratedMethodAccessor572.invoke(Unknown Source)\n\tat sun.reflect.DelegatingMethodAccessorImpl.invoke(DelegatingMethodAccessorImpl.java:43)\n\tat java.lang.reflect.Method.invoke(Method.java:498)\n\tat py4j.reflection.MethodInvoker.invoke(MethodInvoker.java:244)\n\tat py4j.reflection.ReflectionEngine.invoke(ReflectionEngine.java:397)\n\tat py4j.Gateway.invoke(Gateway.java:306)\n\tat py4j.commands.AbstractCommand.invokeMethod(AbstractCommand.java:132)\n\tat py4j.commands.CallCommand.execute(CallCommand.java:79)\n\tat py4j.ClientServerConnection.waitForCommands(ClientServerConnection.java:199)\n\tat py4j.ClientServerConnection.run(ClientServerConnection.java:119)\n\tat java.lang.Thread.run(Thread.java:750)\n"
       },
       "metadata": {
        "errorSummary": "<span class='ansi-red-fg'>ExecutionError</span>: An error occurred while calling o412.ls.\n: java.io.FileNotFoundException: /databricks-results\n\tat com.databricks.backend.daemon.data.client.DbfsClient.send0(DbfsClient.scala:122)\n\tat com.databricks.backend.daemon.data.client.DbfsClient.sendIdempotent(DbfsClient.scala:70)\n\tat com.databricks.backend.daemon.data.client.DatabricksFileSystemV1.listStatus(DatabricksFileSystemV1.scala:179)\n\tat com.databricks.backend.daemon.data.client.DatabricksFileSystem.listStatus(DatabricksFileSystem.scala:165)\n\tat com.databricks.common.filesystem.LokiFileSystem.listStatus(LokiFileSystem.scala:306)\n\tat com.databricks.backend.daemon.dbutils.FSUtils.lsWithLimit(DBUtilsCore.scala:296)\n\tat com.databricks.backend.daemon.dbutils.FSUtils.$anonfun$lsImpl$4(DBUtilsCore.scala:265)\n\tat com.databricks.backend.daemon.dbutils.FSUtils.withFsSafetyCheck(DBUtilsCore.scala:152)\n\tat com.databricks.backend.daemon.dbutils.FSUtils.$anonfun$lsImpl$3(DBUtilsCore.scala:265)\n\tat com.databricks.backend.daemon.dbutils.FSUtils.checkPermission(DBUtilsCore.scala:147)\n\tat com.databricks.backend.daemon.dbutils.FSUtils.lsImpl(DBUtilsCore.scala:264)\n\tat com.databricks.backend.daemon.dbutils.FSUtils.$anonfun$ls$1(DBUtilsCore.scala:237)\n\tat com.databricks.logging.UsageLogging.$anonfun$recordOperation$1(UsageLogging.scala:528)\n\tat com.databricks.logging.UsageLogging.executeThunkAndCaptureResultTags$1(UsageLogging.scala:633)\n\tat com.databricks.logging.UsageLogging.$anonfun$recordOperationWithResultTags$4(UsageLogging.scala:656)\n\tat com.databricks.logging.AttributionContextTracing.$anonfun$withAttributionContext$1(AttributionContextTracing.scala:48)\n\tat com.databricks.logging.AttributionContext$.$anonfun$withValue$1(AttributionContext.scala:276)\n\tat scala.util.DynamicVariable.withValue(DynamicVariable.scala:62)\n\tat com.databricks.logging.AttributionContext$.withValue(AttributionContext.scala:272)\n\tat com.databricks.logging.AttributionContextTracing.withAttributionContext(AttributionContextTracing.scala:46)\n\tat com.databricks.logging.AttributionContextTracing.withAttributionContext$(AttributionContextTracing.scala:43)\n\tat com.databricks.backend.daemon.dbutils.FSUtils.withAttributionContext(DBUtilsCore.scala:74)\n\tat com.databricks.logging.AttributionContextTracing.withAttributionTags(AttributionContextTracing.scala:95)\n\tat com.databricks.logging.AttributionContextTracing.withAttributionTags$(AttributionContextTracing.scala:76)\n\tat com.databricks.backend.daemon.dbutils.FSUtils.withAttributionTags(DBUtilsCore.scala:74)\n\tat com.databricks.logging.UsageLogging.recordOperationWithResultTags(UsageLogging.scala:628)\n\tat com.databricks.logging.UsageLogging.recordOperationWithResultTags$(UsageLogging.scala:537)\n\tat com.databricks.backend.daemon.dbutils.FSUtils.recordOperationWithResultTags(DBUtilsCore.scala:74)\n\tat com.databricks.logging.UsageLogging.recordOperation(UsageLogging.scala:529)\n\tat com.databricks.logging.UsageLogging.recordOperation$(UsageLogging.scala:495)\n\tat com.databricks.backend.daemon.dbutils.FSUtils.recordOperation(DBUtilsCore.scala:74)\n\tat com.databricks.backend.daemon.dbutils.FSUtils.recordDbutilsFsOp(DBUtilsCore.scala:138)\n\tat com.databricks.backend.daemon.dbutils.FSUtils.ls(DBUtilsCore.scala:237)\n\tat sun.reflect.GeneratedMethodAccessor572.invoke(Unknown Source)\n\tat sun.reflect.DelegatingMethodAccessorImpl.invoke(DelegatingMethodAccessorImpl.java:43)\n\tat java.lang.reflect.Method.invoke(Method.java:498)\n\tat py4j.reflection.MethodInvoker.invoke(MethodInvoker.java:244)\n\tat py4j.reflection.ReflectionEngine.invoke(ReflectionEngine.java:397)\n\tat py4j.Gateway.invoke(Gateway.java:306)\n\tat py4j.commands.AbstractCommand.invokeMethod(AbstractCommand.java:132)\n\tat py4j.commands.CallCommand.execute(CallCommand.java:79)\n\tat py4j.ClientServerConnection.waitForCommands(ClientServerConnection.java:199)\n\tat py4j.ClientServerConnection.run(ClientServerConnection.java:119)\n\tat java.lang.Thread.run(Thread.java:750)\n"
       },
       "removedWidgets": [],
       "sqlProps": null,
       "stackFrames": [
        "\u001B[0;31m---------------------------------------------------------------------------\u001B[0m",
        "\u001B[0;31mExecutionError\u001B[0m                            Traceback (most recent call last)",
        "File \u001B[0;32m<command-2431506887767997>, line 1\u001B[0m\n\u001B[0;32m----> 1\u001B[0m display(dbutils\u001B[38;5;241m.\u001B[39mfs\u001B[38;5;241m.\u001B[39mls(\u001B[38;5;124m\"\u001B[39m\u001B[38;5;124mdbfs:/databricks-results/\u001B[39m\u001B[38;5;124m\"\u001B[39m))\n",
        "File \u001B[0;32m/databricks/python_shell/dbruntime/dbutils.py:158\u001B[0m, in \u001B[0;36mprettify_exception_message.<locals>.f_with_exception_handling\u001B[0;34m(*args, **kwargs)\u001B[0m\n\u001B[1;32m    156\u001B[0m exc\u001B[38;5;241m.\u001B[39m__context__ \u001B[38;5;241m=\u001B[39m \u001B[38;5;28;01mNone\u001B[39;00m\n\u001B[1;32m    157\u001B[0m exc\u001B[38;5;241m.\u001B[39m__cause__ \u001B[38;5;241m=\u001B[39m \u001B[38;5;28;01mNone\u001B[39;00m\n\u001B[0;32m--> 158\u001B[0m \u001B[38;5;28;01mraise\u001B[39;00m exc\n",
        "\u001B[0;31mExecutionError\u001B[0m: An error occurred while calling o412.ls.\n: java.io.FileNotFoundException: /databricks-results\n\tat com.databricks.backend.daemon.data.client.DbfsClient.send0(DbfsClient.scala:122)\n\tat com.databricks.backend.daemon.data.client.DbfsClient.sendIdempotent(DbfsClient.scala:70)\n\tat com.databricks.backend.daemon.data.client.DatabricksFileSystemV1.listStatus(DatabricksFileSystemV1.scala:179)\n\tat com.databricks.backend.daemon.data.client.DatabricksFileSystem.listStatus(DatabricksFileSystem.scala:165)\n\tat com.databricks.common.filesystem.LokiFileSystem.listStatus(LokiFileSystem.scala:306)\n\tat com.databricks.backend.daemon.dbutils.FSUtils.lsWithLimit(DBUtilsCore.scala:296)\n\tat com.databricks.backend.daemon.dbutils.FSUtils.$anonfun$lsImpl$4(DBUtilsCore.scala:265)\n\tat com.databricks.backend.daemon.dbutils.FSUtils.withFsSafetyCheck(DBUtilsCore.scala:152)\n\tat com.databricks.backend.daemon.dbutils.FSUtils.$anonfun$lsImpl$3(DBUtilsCore.scala:265)\n\tat com.databricks.backend.daemon.dbutils.FSUtils.checkPermission(DBUtilsCore.scala:147)\n\tat com.databricks.backend.daemon.dbutils.FSUtils.lsImpl(DBUtilsCore.scala:264)\n\tat com.databricks.backend.daemon.dbutils.FSUtils.$anonfun$ls$1(DBUtilsCore.scala:237)\n\tat com.databricks.logging.UsageLogging.$anonfun$recordOperation$1(UsageLogging.scala:528)\n\tat com.databricks.logging.UsageLogging.executeThunkAndCaptureResultTags$1(UsageLogging.scala:633)\n\tat com.databricks.logging.UsageLogging.$anonfun$recordOperationWithResultTags$4(UsageLogging.scala:656)\n\tat com.databricks.logging.AttributionContextTracing.$anonfun$withAttributionContext$1(AttributionContextTracing.scala:48)\n\tat com.databricks.logging.AttributionContext$.$anonfun$withValue$1(AttributionContext.scala:276)\n\tat scala.util.DynamicVariable.withValue(DynamicVariable.scala:62)\n\tat com.databricks.logging.AttributionContext$.withValue(AttributionContext.scala:272)\n\tat com.databricks.logging.AttributionContextTracing.withAttributionContext(AttributionContextTracing.scala:46)\n\tat com.databricks.logging.AttributionContextTracing.withAttributionContext$(AttributionContextTracing.scala:43)\n\tat com.databricks.backend.daemon.dbutils.FSUtils.withAttributionContext(DBUtilsCore.scala:74)\n\tat com.databricks.logging.AttributionContextTracing.withAttributionTags(AttributionContextTracing.scala:95)\n\tat com.databricks.logging.AttributionContextTracing.withAttributionTags$(AttributionContextTracing.scala:76)\n\tat com.databricks.backend.daemon.dbutils.FSUtils.withAttributionTags(DBUtilsCore.scala:74)\n\tat com.databricks.logging.UsageLogging.recordOperationWithResultTags(UsageLogging.scala:628)\n\tat com.databricks.logging.UsageLogging.recordOperationWithResultTags$(UsageLogging.scala:537)\n\tat com.databricks.backend.daemon.dbutils.FSUtils.recordOperationWithResultTags(DBUtilsCore.scala:74)\n\tat com.databricks.logging.UsageLogging.recordOperation(UsageLogging.scala:529)\n\tat com.databricks.logging.UsageLogging.recordOperation$(UsageLogging.scala:495)\n\tat com.databricks.backend.daemon.dbutils.FSUtils.recordOperation(DBUtilsCore.scala:74)\n\tat com.databricks.backend.daemon.dbutils.FSUtils.recordDbutilsFsOp(DBUtilsCore.scala:138)\n\tat com.databricks.backend.daemon.dbutils.FSUtils.ls(DBUtilsCore.scala:237)\n\tat sun.reflect.GeneratedMethodAccessor572.invoke(Unknown Source)\n\tat sun.reflect.DelegatingMethodAccessorImpl.invoke(DelegatingMethodAccessorImpl.java:43)\n\tat java.lang.reflect.Method.invoke(Method.java:498)\n\tat py4j.reflection.MethodInvoker.invoke(MethodInvoker.java:244)\n\tat py4j.reflection.ReflectionEngine.invoke(ReflectionEngine.java:397)\n\tat py4j.Gateway.invoke(Gateway.java:306)\n\tat py4j.commands.AbstractCommand.invokeMethod(AbstractCommand.java:132)\n\tat py4j.commands.CallCommand.execute(CallCommand.java:79)\n\tat py4j.ClientServerConnection.waitForCommands(ClientServerConnection.java:199)\n\tat py4j.ClientServerConnection.run(ClientServerConnection.java:119)\n\tat java.lang.Thread.run(Thread.java:750)\n"
       ],
       "type": "baseError"
      }
     },
     "output_type": "display_data"
    }
   ],
   "source": [
    "display(dbutils.fs.ls(\"dbfs:/databricks-results/\"))"
   ]
  },
  {
   "cell_type": "code",
   "execution_count": 0,
   "metadata": {
    "application/vnd.databricks.v1+cell": {
     "cellMetadata": {
      "byteLimit": 2048000,
      "rowLimit": 10000
     },
     "inputWidgets": {},
     "nuid": "801b684c-c44c-4f07-ae0b-597595b70251",
     "showTitle": false,
     "tableResultSettingsMap": {},
     "title": ""
    }
   },
   "outputs": [
    {
     "output_type": "display_data",
     "data": {
      "text/html": [
       "<style scoped>\n",
       "  .table-result-container {\n",
       "    max-height: 300px;\n",
       "    overflow: auto;\n",
       "  }\n",
       "  table, th, td {\n",
       "    border: 1px solid black;\n",
       "    border-collapse: collapse;\n",
       "  }\n",
       "  th, td {\n",
       "    padding: 5px;\n",
       "  }\n",
       "  th {\n",
       "    text-align: left;\n",
       "  }\n",
       "</style><div class='table-result-container'><table class='table-result'><thead style='background-color: white'><tr><th>path</th><th>name</th><th>size</th><th>modificationTime</th></tr></thead><tbody><tr><td>dbfs:/user/hive/</td><td>hive/</td><td>0</td><td>0</td></tr></tbody></table></div>"
      ]
     },
     "metadata": {
      "application/vnd.databricks.v1+output": {
       "addedWidgets": {},
       "aggData": [],
       "aggError": "",
       "aggOverflow": false,
       "aggSchema": [],
       "aggSeriesLimitReached": false,
       "aggType": "",
       "arguments": {},
       "columnCustomDisplayInfos": {},
       "data": [
        [
         "dbfs:/user/hive/",
         "hive/",
         0,
         0
        ]
       ],
       "datasetInfos": [],
       "dbfsResultPath": null,
       "isJsonSchema": true,
       "metadata": {},
       "overflow": false,
       "plotOptions": {
        "customPlotOptions": {},
        "displayType": "table",
        "pivotAggregation": null,
        "pivotColumns": null,
        "xColumns": null,
        "yColumns": null
       },
       "removedWidgets": [],
       "schema": [
        {
         "metadata": "{}",
         "name": "path",
         "type": "\"string\""
        },
        {
         "metadata": "{}",
         "name": "name",
         "type": "\"string\""
        },
        {
         "metadata": "{}",
         "name": "size",
         "type": "\"long\""
        },
        {
         "metadata": "{}",
         "name": "modificationTime",
         "type": "\"long\""
        }
       ],
       "type": "table"
      }
     },
     "output_type": "display_data"
    }
   ],
   "source": [
    "display(dbutils.fs.ls(\"dbfs:/user/\"))"
   ]
  },
  {
   "cell_type": "code",
   "execution_count": 0,
   "metadata": {
    "application/vnd.databricks.v1+cell": {
     "cellMetadata": {
      "byteLimit": 2048000,
      "rowLimit": 10000
     },
     "inputWidgets": {},
     "nuid": "68eb2c76-66cd-4a95-9013-a17219a8763a",
     "showTitle": false,
     "tableResultSettingsMap": {},
     "title": ""
    }
   },
   "outputs": [
    {
     "output_type": "display_data",
     "data": {
      "text/html": [
       "<style scoped>\n",
       "  .table-result-container {\n",
       "    max-height: 300px;\n",
       "    overflow: auto;\n",
       "  }\n",
       "  table, th, td {\n",
       "    border: 1px solid black;\n",
       "    border-collapse: collapse;\n",
       "  }\n",
       "  th, td {\n",
       "    padding: 5px;\n",
       "  }\n",
       "  th {\n",
       "    text-align: left;\n",
       "  }\n",
       "</style><div class='table-result-container'><table class='table-result'><thead style='background-color: white'><tr><th>path</th><th>name</th><th>size</th><th>modificationTime</th></tr></thead><tbody><tr><td>dbfs:/FileStore/Question7.csv</td><td>Question7.csv</td><td>154</td><td>1721635338000</td></tr><tr><td>dbfs:/FileStore/syntax-1.png</td><td>syntax-1.png</td><td>46059</td><td>1725977759000</td></tr><tr><td>dbfs:/FileStore/syntax.png</td><td>syntax.png</td><td>60188</td><td>1725976964000</td></tr><tr><td>dbfs:/FileStore/tables/</td><td>tables/</td><td>0</td><td>0</td></tr></tbody></table></div>"
      ]
     },
     "metadata": {
      "application/vnd.databricks.v1+output": {
       "addedWidgets": {},
       "aggData": [],
       "aggError": "",
       "aggOverflow": false,
       "aggSchema": [],
       "aggSeriesLimitReached": false,
       "aggType": "",
       "arguments": {},
       "columnCustomDisplayInfos": {},
       "data": [
        [
         "dbfs:/FileStore/Question7.csv",
         "Question7.csv",
         154,
         1721635338000
        ],
        [
         "dbfs:/FileStore/syntax-1.png",
         "syntax-1.png",
         46059,
         1725977759000
        ],
        [
         "dbfs:/FileStore/syntax.png",
         "syntax.png",
         60188,
         1725976964000
        ],
        [
         "dbfs:/FileStore/tables/",
         "tables/",
         0,
         0
        ]
       ],
       "datasetInfos": [],
       "dbfsResultPath": null,
       "isJsonSchema": true,
       "metadata": {},
       "overflow": false,
       "plotOptions": {
        "customPlotOptions": {},
        "displayType": "table",
        "pivotAggregation": null,
        "pivotColumns": null,
        "xColumns": null,
        "yColumns": null
       },
       "removedWidgets": [],
       "schema": [
        {
         "metadata": "{}",
         "name": "path",
         "type": "\"string\""
        },
        {
         "metadata": "{}",
         "name": "name",
         "type": "\"string\""
        },
        {
         "metadata": "{}",
         "name": "size",
         "type": "\"long\""
        },
        {
         "metadata": "{}",
         "name": "modificationTime",
         "type": "\"long\""
        }
       ],
       "type": "table"
      }
     },
     "output_type": "display_data"
    }
   ],
   "source": [
    "# To check whether a folder has been deleted\n",
    "display(dbutils.fs.ls(\"/FileStore\"))"
   ]
  },
  {
   "cell_type": "code",
   "execution_count": 0,
   "metadata": {
    "application/vnd.databricks.v1+cell": {
     "cellMetadata": {
      "byteLimit": 2048000,
      "rowLimit": 10000
     },
     "inputWidgets": {},
     "nuid": "e4035b77-031f-4f91-ba2b-0d381733ef95",
     "showTitle": false,
     "tableResultSettingsMap": {},
     "title": ""
    }
   },
   "outputs": [
    {
     "output_type": "display_data",
     "data": {
      "text/html": [
       "<style scoped>\n",
       "  .table-result-container {\n",
       "    max-height: 300px;\n",
       "    overflow: auto;\n",
       "  }\n",
       "  table, th, td {\n",
       "    border: 1px solid black;\n",
       "    border-collapse: collapse;\n",
       "  }\n",
       "  th, td {\n",
       "    padding: 5px;\n",
       "  }\n",
       "  th {\n",
       "    text-align: left;\n",
       "  }\n",
       "</style><div class='table-result-container'><table class='table-result'><thead style='background-color: white'><tr><th>path</th><th>name</th><th>size</th><th>modificationTime</th></tr></thead><tbody><tr><td>dbfs:/FileStore/tables/Emp_Hash-1.csv</td><td>Emp_Hash-1.csv</td><td>3312</td><td>1733110041000</td></tr><tr><td>dbfs:/FileStore/tables/Emp_Hash-2.csv</td><td>Emp_Hash-2.csv</td><td>6365</td><td>1733125960000</td></tr><tr><td>dbfs:/FileStore/tables/Emp_Hash-3.csv</td><td>Emp_Hash-3.csv</td><td>6385</td><td>1733126482000</td></tr><tr><td>dbfs:/FileStore/tables/Emp_Hash.csv</td><td>Emp_Hash.csv</td><td>3310</td><td>1733108841000</td></tr><tr><td>dbfs:/FileStore/tables/Flatten Nested Array.json</td><td>Flatten Nested Array.json</td><td>3756</td><td>1718618620000</td></tr><tr><td>dbfs:/FileStore/tables/Generate_Random_Data/</td><td>Generate_Random_Data/</td><td>0</td><td>0</td></tr><tr><td>dbfs:/FileStore/tables/InterviewQuestions/</td><td>InterviewQuestions/</td><td>0</td><td>0</td></tr><tr><td>dbfs:/FileStore/tables/MarketPrice.csv</td><td>MarketPrice.csv</td><td>19528</td><td>1719656208000</td></tr><tr><td>dbfs:/FileStore/tables/MultiLineJSON.json/</td><td>MultiLineJSON.json/</td><td>0</td><td>0</td></tr><tr><td>dbfs:/FileStore/tables/MultiLineJSON01.json/</td><td>MultiLineJSON01.json/</td><td>0</td><td>0</td></tr><tr><td>dbfs:/FileStore/tables/MultiLineJSON1.json/</td><td>MultiLineJSON1.json/</td><td>0</td><td>0</td></tr><tr><td>dbfs:/FileStore/tables/MultiLineJSON123.json/</td><td>MultiLineJSON123.json/</td><td>0</td><td>0</td></tr><tr><td>dbfs:/FileStore/tables/MultiLineJSON2.json/</td><td>MultiLineJSON2.json/</td><td>0</td><td>0</td></tr><tr><td>dbfs:/FileStore/tables/Question7.csv</td><td>Question7.csv</td><td>154</td><td>1725816645000</td></tr><tr><td>dbfs:/FileStore/tables/RunningData_Rev03.csv</td><td>RunningData_Rev03.csv</td><td>1216</td><td>1719810946000</td></tr><tr><td>dbfs:/FileStore/tables/SalesData_Rev02.csv</td><td>SalesData_Rev02.csv</td><td>472</td><td>1719810784000</td></tr><tr><td>dbfs:/FileStore/tables/SalesData_Rev03.csv</td><td>SalesData_Rev03.csv</td><td>460</td><td>1719810973000</td></tr><tr><td>dbfs:/FileStore/tables/Sales_Collect.csv</td><td>Sales_Collect.csv</td><td>182972</td><td>1720293547000</td></tr><tr><td>dbfs:/FileStore/tables/Sales_Collect_Rev03.csv</td><td>Sales_Collect_Rev03.csv</td><td>182828</td><td>1719811001000</td></tr><tr><td>dbfs:/FileStore/tables/Streaming/</td><td>Streaming/</td><td>0</td><td>0</td></tr><tr><td>dbfs:/FileStore/tables/StringToMaptype-1.csv</td><td>StringToMaptype-1.csv</td><td>5462</td><td>1731172334000</td></tr><tr><td>dbfs:/FileStore/tables/StringToMaptype.csv</td><td>StringToMaptype.csv</td><td>4974</td><td>1730969018000</td></tr><tr><td>dbfs:/FileStore/tables/StructType-4.csv</td><td>StructType-4.csv</td><td>648</td><td>1717936144000</td></tr><tr><td>dbfs:/FileStore/tables/StructType-5.csv</td><td>StructType-5.csv</td><td>648</td><td>1717936276000</td></tr><tr><td>dbfs:/FileStore/tables/StructType.csv</td><td>StructType.csv</td><td>648</td><td>1717934306000</td></tr><tr><td>dbfs:/FileStore/tables/avro/</td><td>avro/</td><td>0</td><td>0</td></tr><tr><td>dbfs:/FileStore/tables/booleantype-1.csv</td><td>booleantype-1.csv</td><td>4670</td><td>1726837953000</td></tr><tr><td>dbfs:/FileStore/tables/booleantype-2.csv</td><td>booleantype-2.csv</td><td>5337</td><td>1726841165000</td></tr><tr><td>dbfs:/FileStore/tables/booleantype-3.csv</td><td>booleantype-3.csv</td><td>3167</td><td>1726843335000</td></tr><tr><td>dbfs:/FileStore/tables/booleantype-4.csv</td><td>booleantype-4.csv</td><td>2889</td><td>1726843641000</td></tr><tr><td>dbfs:/FileStore/tables/booleantype-5.csv</td><td>booleantype-5.csv</td><td>3164</td><td>1726851645000</td></tr><tr><td>dbfs:/FileStore/tables/booleantype.csv</td><td>booleantype.csv</td><td>4670</td><td>1726837542000</td></tr><tr><td>dbfs:/FileStore/tables/cast_data.txt</td><td>cast_data.txt</td><td>219</td><td>1720376019000</td></tr><tr><td>dbfs:/FileStore/tables/checkpoint/</td><td>checkpoint/</td><td>0</td><td>0</td></tr><tr><td>dbfs:/FileStore/tables/cross_join-1.csv</td><td>cross_join-1.csv</td><td>5083</td><td>1733065301000</td></tr><tr><td>dbfs:/FileStore/tables/cross_join.csv</td><td>cross_join.csv</td><td>5142</td><td>1733055194000</td></tr><tr><td>dbfs:/FileStore/tables/cross_join_million-1.csv</td><td>cross_join_million-1.csv</td><td>5839</td><td>1734498212000</td></tr><tr><td>dbfs:/FileStore/tables/cross_join_million.csv</td><td>cross_join_million.csv</td><td>5958</td><td>1734493631000</td></tr><tr><td>dbfs:/FileStore/tables/current_date___current_user___current_timestamp__.csv</td><td>current_date___current_user___current_timestamp__.csv</td><td>4040</td><td>1726313822000</td></tr><tr><td>dbfs:/FileStore/tables/date_format-1.csv</td><td>date_format-1.csv</td><td>1656</td><td>1725709118000</td></tr><tr><td>dbfs:/FileStore/tables/date_format-2.csv</td><td>date_format-2.csv</td><td>1923</td><td>1725709313000</td></tr><tr><td>dbfs:/FileStore/tables/date_format.csv</td><td>date_format.csv</td><td>1119</td><td>1725645247000</td></tr><tr><td>dbfs:/FileStore/tables/doubletotimestamp-1.csv</td><td>doubletotimestamp-1.csv</td><td>4767</td><td>1730947139000</td></tr><tr><td>dbfs:/FileStore/tables/doubletotimestamp-2.csv</td><td>doubletotimestamp-2.csv</td><td>4771</td><td>1730947739000</td></tr><tr><td>dbfs:/FileStore/tables/doubletotimestamp.csv</td><td>doubletotimestamp.csv</td><td>5679</td><td>1730946610000</td></tr><tr><td>dbfs:/FileStore/tables/except-1.csv</td><td>except-1.csv</td><td>16063</td><td>1731983081000</td></tr><tr><td>dbfs:/FileStore/tables/except-2.csv</td><td>except-2.csv</td><td>16060</td><td>1731984506000</td></tr><tr><td>dbfs:/FileStore/tables/except.csv</td><td>except.csv</td><td>27363</td><td>1731982556000</td></tr><tr><td>dbfs:/FileStore/tables/exceptAll_rev01.csv</td><td>exceptAll_rev01.csv</td><td>4771</td><td>1732000140000</td></tr><tr><td>dbfs:/FileStore/tables/exceptAll_rev02.csv</td><td>exceptAll_rev02.csv</td><td>6678</td><td>1732000140000</td></tr><tr><td>dbfs:/FileStore/tables/from_unixtime-1.csv</td><td>from_unixtime-1.csv</td><td>9523</td><td>1725903833000</td></tr><tr><td>dbfs:/FileStore/tables/from_unixtime.csv</td><td>from_unixtime.csv</td><td>9523</td><td>1725901373000</td></tr><tr><td>dbfs:/FileStore/tables/fullload_uat.csv</td><td>fullload_uat.csv</td><td>4771</td><td>1732120652000</td></tr><tr><td>dbfs:/FileStore/tables/hourly_cal.csv</td><td>hourly_cal.csv</td><td>2239</td><td>1739548267000</td></tr><tr><td>dbfs:/FileStore/tables/incrementalload.csv</td><td>incrementalload.csv</td><td>6678</td><td>1732120652000</td></tr><tr><td>dbfs:/FileStore/tables/initload.csv</td><td>initload.csv</td><td>4870</td><td>1732170403000</td></tr><tr><td>dbfs:/FileStore/tables/iterate_columns.csv</td><td>iterate_columns.csv</td><td>2023849</td><td>1719767610000</td></tr><tr><td>dbfs:/FileStore/tables/maptypeaccess.csv</td><td>maptypeaccess.csv</td><td>4219</td><td>1731782940000</td></tr><tr><td>dbfs:/FileStore/tables/multiLine_nested_01.json</td><td>multiLine_nested_01.json</td><td>2233</td><td>1732089333000</td></tr><tr><td>dbfs:/FileStore/tables/multiline.json</td><td>multiline.json</td><td>1262</td><td>1725858755000</td></tr><tr><td>dbfs:/FileStore/tables/multiline.txt</td><td>multiline.txt</td><td>178</td><td>1721655243000</td></tr><tr><td>dbfs:/FileStore/tables/multiline_nested-1.json</td><td>multiline_nested-1.json</td><td>2233</td><td>1725884748000</td></tr><tr><td>dbfs:/FileStore/tables/multiline_nested.json</td><td>multiline_nested.json</td><td>1731</td><td>1725870338000</td></tr><tr><td>dbfs:/FileStore/tables/multiline_nested_01.avro</td><td>multiline_nested_01.avro</td><td>910</td><td>1732088760000</td></tr><tr><td>dbfs:/FileStore/tables/multiline_nested_01.orc</td><td>multiline_nested_01.orc</td><td>1449</td><td>1732089020000</td></tr><tr><td>dbfs:/FileStore/tables/multiline_nested_parquet_01.parquet</td><td>multiline_nested_parquet_01.parquet</td><td>2298</td><td>1732088921000</td></tr><tr><td>dbfs:/FileStore/tables/newload.csv</td><td>newload.csv</td><td>7739</td><td>1732170403000</td></tr><tr><td>dbfs:/FileStore/tables/person-2.json</td><td>person-2.json</td><td>4616</td><td>1718610165000</td></tr><tr><td>dbfs:/FileStore/tables/person.json</td><td>person.json</td><td>4616</td><td>1718609425000</td></tr><tr><td>dbfs:/FileStore/tables/posexplode.txt</td><td>posexplode.txt</td><td>264</td><td>1718525465000</td></tr><tr><td>dbfs:/FileStore/tables/random_data-1.csv</td><td>random_data-1.csv</td><td>5354</td><td>1733202817000</td></tr><tr><td>dbfs:/FileStore/tables/random_data-2.csv</td><td>random_data-2.csv</td><td>7532</td><td>1734345266000</td></tr><tr><td>dbfs:/FileStore/tables/random_data-3.csv</td><td>random_data-3.csv</td><td>7524</td><td>1734347659000</td></tr><tr><td>dbfs:/FileStore/tables/random_data.csv</td><td>random_data.csv</td><td>5354</td><td>1733202754000</td></tr><tr><td>dbfs:/FileStore/tables/sales_json-1.txt</td><td>sales_json-1.txt</td><td>1319</td><td>1729954422000</td></tr><tr><td>dbfs:/FileStore/tables/sales_json-2.txt</td><td>sales_json-2.txt</td><td>766</td><td>1729957114000</td></tr><tr><td>dbfs:/FileStore/tables/sales_json-3.txt</td><td>sales_json-3.txt</td><td>766</td><td>1729957563000</td></tr><tr><td>dbfs:/FileStore/tables/sales_json.csv</td><td>sales_json.csv</td><td>193</td><td>1729954240000</td></tr><tr><td>dbfs:/FileStore/tables/sales_json.txt</td><td>sales_json.txt</td><td>944</td><td>1729953800000</td></tr><tr><td>dbfs:/FileStore/tables/singleline-1.json</td><td>singleline-1.json</td><td>1000</td><td>1725857789000</td></tr><tr><td>dbfs:/FileStore/tables/singleline-2.json</td><td>singleline-2.json</td><td>999</td><td>1725858047000</td></tr><tr><td>dbfs:/FileStore/tables/singleline-3.json</td><td>singleline-3.json</td><td>1003</td><td>1725858173000</td></tr><tr><td>dbfs:/FileStore/tables/singleline-4.json</td><td>singleline-4.json</td><td>1004</td><td>1725858244000</td></tr><tr><td>dbfs:/FileStore/tables/singleline-5.json</td><td>singleline-5.json</td><td>1006</td><td>1725858294000</td></tr><tr><td>dbfs:/FileStore/tables/singleline-6.json</td><td>singleline-6.json</td><td>1006</td><td>1725858459000</td></tr><tr><td>dbfs:/FileStore/tables/singleline.json</td><td>singleline.json</td><td>1006</td><td>1725856537000</td></tr><tr><td>dbfs:/FileStore/tables/singlelineList.json</td><td>singlelineList.json</td><td>1032</td><td>1725892526000</td></tr><tr><td>dbfs:/FileStore/tables/singleline_nested-1.json</td><td>singleline_nested-1.json</td><td>1388</td><td>1725883300000</td></tr><tr><td>dbfs:/FileStore/tables/singleline_nested.json</td><td>singleline_nested.json</td><td>1096</td><td>1725870020000</td></tr><tr><td>dbfs:/FileStore/tables/split.txt</td><td>split.txt</td><td>390</td><td>1721625608000</td></tr><tr><td>dbfs:/FileStore/tables/streaming.csv</td><td>streaming.csv</td><td>140</td><td>1728400280000</td></tr><tr><td>dbfs:/FileStore/tables/syntax.jpg</td><td>syntax.jpg</td><td>32647</td><td>1725976365000</td></tr><tr><td>dbfs:/FileStore/tables/temp_data/</td><td>temp_data/</td><td>0</td><td>0</td></tr><tr><td>dbfs:/FileStore/tables/temp_data_sales/</td><td>temp_data_sales/</td><td>0</td><td>0</td></tr><tr><td>dbfs:/FileStore/tables/timestamp_millis-1.csv</td><td>timestamp_millis-1.csv</td><td>7513</td><td>1725903371000</td></tr><tr><td>dbfs:/FileStore/tables/timestamp_millis-2.csv</td><td>timestamp_millis-2.csv</td><td>7513</td><td>1725903430000</td></tr><tr><td>dbfs:/FileStore/tables/timestamp_millis-3.csv</td><td>timestamp_millis-3.csv</td><td>8613</td><td>1725903701000</td></tr><tr><td>dbfs:/FileStore/tables/timestamp_millis.csv</td><td>timestamp_millis.csv</td><td>7533</td><td>1725903084000</td></tr><tr><td>dbfs:/FileStore/tables/titanic.csv</td><td>titanic.csv</td><td>60302</td><td>1717853233000</td></tr><tr><td>dbfs:/FileStore/tables/to_date.csv</td><td>to_date.csv</td><td>1923</td><td>1726112031000</td></tr><tr><td>dbfs:/FileStore/tables/to_json.csv</td><td>to_json.csv</td><td>50792</td><td>1726583981000</td></tr><tr><td>dbfs:/FileStore/tables/to_timestamp-1.csv</td><td>to_timestamp-1.csv</td><td>5536</td><td>1726303458000</td></tr><tr><td>dbfs:/FileStore/tables/to_timestamp-2.csv</td><td>to_timestamp-2.csv</td><td>5425</td><td>1726303695000</td></tr><tr><td>dbfs:/FileStore/tables/to_timestamp-3.csv</td><td>to_timestamp-3.csv</td><td>5545</td><td>1726304079000</td></tr><tr><td>dbfs:/FileStore/tables/to_timestamp.csv</td><td>to_timestamp.csv</td><td>6451</td><td>1726300120000</td></tr></tbody></table></div>"
      ]
     },
     "metadata": {
      "application/vnd.databricks.v1+output": {
       "addedWidgets": {},
       "aggData": [],
       "aggError": "",
       "aggOverflow": false,
       "aggSchema": [],
       "aggSeriesLimitReached": false,
       "aggType": "",
       "arguments": {},
       "columnCustomDisplayInfos": {},
       "data": [
        [
         "dbfs:/FileStore/tables/Emp_Hash-1.csv",
         "Emp_Hash-1.csv",
         3312,
         1733110041000
        ],
        [
         "dbfs:/FileStore/tables/Emp_Hash-2.csv",
         "Emp_Hash-2.csv",
         6365,
         1733125960000
        ],
        [
         "dbfs:/FileStore/tables/Emp_Hash-3.csv",
         "Emp_Hash-3.csv",
         6385,
         1733126482000
        ],
        [
         "dbfs:/FileStore/tables/Emp_Hash.csv",
         "Emp_Hash.csv",
         3310,
         1733108841000
        ],
        [
         "dbfs:/FileStore/tables/Flatten Nested Array.json",
         "Flatten Nested Array.json",
         3756,
         1718618620000
        ],
        [
         "dbfs:/FileStore/tables/Generate_Random_Data/",
         "Generate_Random_Data/",
         0,
         0
        ],
        [
         "dbfs:/FileStore/tables/InterviewQuestions/",
         "InterviewQuestions/",
         0,
         0
        ],
        [
         "dbfs:/FileStore/tables/MarketPrice.csv",
         "MarketPrice.csv",
         19528,
         1719656208000
        ],
        [
         "dbfs:/FileStore/tables/MultiLineJSON.json/",
         "MultiLineJSON.json/",
         0,
         0
        ],
        [
         "dbfs:/FileStore/tables/MultiLineJSON01.json/",
         "MultiLineJSON01.json/",
         0,
         0
        ],
        [
         "dbfs:/FileStore/tables/MultiLineJSON1.json/",
         "MultiLineJSON1.json/",
         0,
         0
        ],
        [
         "dbfs:/FileStore/tables/MultiLineJSON123.json/",
         "MultiLineJSON123.json/",
         0,
         0
        ],
        [
         "dbfs:/FileStore/tables/MultiLineJSON2.json/",
         "MultiLineJSON2.json/",
         0,
         0
        ],
        [
         "dbfs:/FileStore/tables/Question7.csv",
         "Question7.csv",
         154,
         1725816645000
        ],
        [
         "dbfs:/FileStore/tables/RunningData_Rev03.csv",
         "RunningData_Rev03.csv",
         1216,
         1719810946000
        ],
        [
         "dbfs:/FileStore/tables/SalesData_Rev02.csv",
         "SalesData_Rev02.csv",
         472,
         1719810784000
        ],
        [
         "dbfs:/FileStore/tables/SalesData_Rev03.csv",
         "SalesData_Rev03.csv",
         460,
         1719810973000
        ],
        [
         "dbfs:/FileStore/tables/Sales_Collect.csv",
         "Sales_Collect.csv",
         182972,
         1720293547000
        ],
        [
         "dbfs:/FileStore/tables/Sales_Collect_Rev03.csv",
         "Sales_Collect_Rev03.csv",
         182828,
         1719811001000
        ],
        [
         "dbfs:/FileStore/tables/Streaming/",
         "Streaming/",
         0,
         0
        ],
        [
         "dbfs:/FileStore/tables/StringToMaptype-1.csv",
         "StringToMaptype-1.csv",
         5462,
         1731172334000
        ],
        [
         "dbfs:/FileStore/tables/StringToMaptype.csv",
         "StringToMaptype.csv",
         4974,
         1730969018000
        ],
        [
         "dbfs:/FileStore/tables/StructType-4.csv",
         "StructType-4.csv",
         648,
         1717936144000
        ],
        [
         "dbfs:/FileStore/tables/StructType-5.csv",
         "StructType-5.csv",
         648,
         1717936276000
        ],
        [
         "dbfs:/FileStore/tables/StructType.csv",
         "StructType.csv",
         648,
         1717934306000
        ],
        [
         "dbfs:/FileStore/tables/avro/",
         "avro/",
         0,
         0
        ],
        [
         "dbfs:/FileStore/tables/booleantype-1.csv",
         "booleantype-1.csv",
         4670,
         1726837953000
        ],
        [
         "dbfs:/FileStore/tables/booleantype-2.csv",
         "booleantype-2.csv",
         5337,
         1726841165000
        ],
        [
         "dbfs:/FileStore/tables/booleantype-3.csv",
         "booleantype-3.csv",
         3167,
         1726843335000
        ],
        [
         "dbfs:/FileStore/tables/booleantype-4.csv",
         "booleantype-4.csv",
         2889,
         1726843641000
        ],
        [
         "dbfs:/FileStore/tables/booleantype-5.csv",
         "booleantype-5.csv",
         3164,
         1726851645000
        ],
        [
         "dbfs:/FileStore/tables/booleantype.csv",
         "booleantype.csv",
         4670,
         1726837542000
        ],
        [
         "dbfs:/FileStore/tables/cast_data.txt",
         "cast_data.txt",
         219,
         1720376019000
        ],
        [
         "dbfs:/FileStore/tables/checkpoint/",
         "checkpoint/",
         0,
         0
        ],
        [
         "dbfs:/FileStore/tables/cross_join-1.csv",
         "cross_join-1.csv",
         5083,
         1733065301000
        ],
        [
         "dbfs:/FileStore/tables/cross_join.csv",
         "cross_join.csv",
         5142,
         1733055194000
        ],
        [
         "dbfs:/FileStore/tables/cross_join_million-1.csv",
         "cross_join_million-1.csv",
         5839,
         1734498212000
        ],
        [
         "dbfs:/FileStore/tables/cross_join_million.csv",
         "cross_join_million.csv",
         5958,
         1734493631000
        ],
        [
         "dbfs:/FileStore/tables/current_date___current_user___current_timestamp__.csv",
         "current_date___current_user___current_timestamp__.csv",
         4040,
         1726313822000
        ],
        [
         "dbfs:/FileStore/tables/date_format-1.csv",
         "date_format-1.csv",
         1656,
         1725709118000
        ],
        [
         "dbfs:/FileStore/tables/date_format-2.csv",
         "date_format-2.csv",
         1923,
         1725709313000
        ],
        [
         "dbfs:/FileStore/tables/date_format.csv",
         "date_format.csv",
         1119,
         1725645247000
        ],
        [
         "dbfs:/FileStore/tables/doubletotimestamp-1.csv",
         "doubletotimestamp-1.csv",
         4767,
         1730947139000
        ],
        [
         "dbfs:/FileStore/tables/doubletotimestamp-2.csv",
         "doubletotimestamp-2.csv",
         4771,
         1730947739000
        ],
        [
         "dbfs:/FileStore/tables/doubletotimestamp.csv",
         "doubletotimestamp.csv",
         5679,
         1730946610000
        ],
        [
         "dbfs:/FileStore/tables/except-1.csv",
         "except-1.csv",
         16063,
         1731983081000
        ],
        [
         "dbfs:/FileStore/tables/except-2.csv",
         "except-2.csv",
         16060,
         1731984506000
        ],
        [
         "dbfs:/FileStore/tables/except.csv",
         "except.csv",
         27363,
         1731982556000
        ],
        [
         "dbfs:/FileStore/tables/exceptAll_rev01.csv",
         "exceptAll_rev01.csv",
         4771,
         1732000140000
        ],
        [
         "dbfs:/FileStore/tables/exceptAll_rev02.csv",
         "exceptAll_rev02.csv",
         6678,
         1732000140000
        ],
        [
         "dbfs:/FileStore/tables/from_unixtime-1.csv",
         "from_unixtime-1.csv",
         9523,
         1725903833000
        ],
        [
         "dbfs:/FileStore/tables/from_unixtime.csv",
         "from_unixtime.csv",
         9523,
         1725901373000
        ],
        [
         "dbfs:/FileStore/tables/fullload_uat.csv",
         "fullload_uat.csv",
         4771,
         1732120652000
        ],
        [
         "dbfs:/FileStore/tables/hourly_cal.csv",
         "hourly_cal.csv",
         2239,
         1739548267000
        ],
        [
         "dbfs:/FileStore/tables/incrementalload.csv",
         "incrementalload.csv",
         6678,
         1732120652000
        ],
        [
         "dbfs:/FileStore/tables/initload.csv",
         "initload.csv",
         4870,
         1732170403000
        ],
        [
         "dbfs:/FileStore/tables/iterate_columns.csv",
         "iterate_columns.csv",
         2023849,
         1719767610000
        ],
        [
         "dbfs:/FileStore/tables/maptypeaccess.csv",
         "maptypeaccess.csv",
         4219,
         1731782940000
        ],
        [
         "dbfs:/FileStore/tables/multiLine_nested_01.json",
         "multiLine_nested_01.json",
         2233,
         1732089333000
        ],
        [
         "dbfs:/FileStore/tables/multiline.json",
         "multiline.json",
         1262,
         1725858755000
        ],
        [
         "dbfs:/FileStore/tables/multiline.txt",
         "multiline.txt",
         178,
         1721655243000
        ],
        [
         "dbfs:/FileStore/tables/multiline_nested-1.json",
         "multiline_nested-1.json",
         2233,
         1725884748000
        ],
        [
         "dbfs:/FileStore/tables/multiline_nested.json",
         "multiline_nested.json",
         1731,
         1725870338000
        ],
        [
         "dbfs:/FileStore/tables/multiline_nested_01.avro",
         "multiline_nested_01.avro",
         910,
         1732088760000
        ],
        [
         "dbfs:/FileStore/tables/multiline_nested_01.orc",
         "multiline_nested_01.orc",
         1449,
         1732089020000
        ],
        [
         "dbfs:/FileStore/tables/multiline_nested_parquet_01.parquet",
         "multiline_nested_parquet_01.parquet",
         2298,
         1732088921000
        ],
        [
         "dbfs:/FileStore/tables/newload.csv",
         "newload.csv",
         7739,
         1732170403000
        ],
        [
         "dbfs:/FileStore/tables/person-2.json",
         "person-2.json",
         4616,
         1718610165000
        ],
        [
         "dbfs:/FileStore/tables/person.json",
         "person.json",
         4616,
         1718609425000
        ],
        [
         "dbfs:/FileStore/tables/posexplode.txt",
         "posexplode.txt",
         264,
         1718525465000
        ],
        [
         "dbfs:/FileStore/tables/random_data-1.csv",
         "random_data-1.csv",
         5354,
         1733202817000
        ],
        [
         "dbfs:/FileStore/tables/random_data-2.csv",
         "random_data-2.csv",
         7532,
         1734345266000
        ],
        [
         "dbfs:/FileStore/tables/random_data-3.csv",
         "random_data-3.csv",
         7524,
         1734347659000
        ],
        [
         "dbfs:/FileStore/tables/random_data.csv",
         "random_data.csv",
         5354,
         1733202754000
        ],
        [
         "dbfs:/FileStore/tables/sales_json-1.txt",
         "sales_json-1.txt",
         1319,
         1729954422000
        ],
        [
         "dbfs:/FileStore/tables/sales_json-2.txt",
         "sales_json-2.txt",
         766,
         1729957114000
        ],
        [
         "dbfs:/FileStore/tables/sales_json-3.txt",
         "sales_json-3.txt",
         766,
         1729957563000
        ],
        [
         "dbfs:/FileStore/tables/sales_json.csv",
         "sales_json.csv",
         193,
         1729954240000
        ],
        [
         "dbfs:/FileStore/tables/sales_json.txt",
         "sales_json.txt",
         944,
         1729953800000
        ],
        [
         "dbfs:/FileStore/tables/singleline-1.json",
         "singleline-1.json",
         1000,
         1725857789000
        ],
        [
         "dbfs:/FileStore/tables/singleline-2.json",
         "singleline-2.json",
         999,
         1725858047000
        ],
        [
         "dbfs:/FileStore/tables/singleline-3.json",
         "singleline-3.json",
         1003,
         1725858173000
        ],
        [
         "dbfs:/FileStore/tables/singleline-4.json",
         "singleline-4.json",
         1004,
         1725858244000
        ],
        [
         "dbfs:/FileStore/tables/singleline-5.json",
         "singleline-5.json",
         1006,
         1725858294000
        ],
        [
         "dbfs:/FileStore/tables/singleline-6.json",
         "singleline-6.json",
         1006,
         1725858459000
        ],
        [
         "dbfs:/FileStore/tables/singleline.json",
         "singleline.json",
         1006,
         1725856537000
        ],
        [
         "dbfs:/FileStore/tables/singlelineList.json",
         "singlelineList.json",
         1032,
         1725892526000
        ],
        [
         "dbfs:/FileStore/tables/singleline_nested-1.json",
         "singleline_nested-1.json",
         1388,
         1725883300000
        ],
        [
         "dbfs:/FileStore/tables/singleline_nested.json",
         "singleline_nested.json",
         1096,
         1725870020000
        ],
        [
         "dbfs:/FileStore/tables/split.txt",
         "split.txt",
         390,
         1721625608000
        ],
        [
         "dbfs:/FileStore/tables/streaming.csv",
         "streaming.csv",
         140,
         1728400280000
        ],
        [
         "dbfs:/FileStore/tables/syntax.jpg",
         "syntax.jpg",
         32647,
         1725976365000
        ],
        [
         "dbfs:/FileStore/tables/temp_data/",
         "temp_data/",
         0,
         0
        ],
        [
         "dbfs:/FileStore/tables/temp_data_sales/",
         "temp_data_sales/",
         0,
         0
        ],
        [
         "dbfs:/FileStore/tables/timestamp_millis-1.csv",
         "timestamp_millis-1.csv",
         7513,
         1725903371000
        ],
        [
         "dbfs:/FileStore/tables/timestamp_millis-2.csv",
         "timestamp_millis-2.csv",
         7513,
         1725903430000
        ],
        [
         "dbfs:/FileStore/tables/timestamp_millis-3.csv",
         "timestamp_millis-3.csv",
         8613,
         1725903701000
        ],
        [
         "dbfs:/FileStore/tables/timestamp_millis.csv",
         "timestamp_millis.csv",
         7533,
         1725903084000
        ],
        [
         "dbfs:/FileStore/tables/titanic.csv",
         "titanic.csv",
         60302,
         1717853233000
        ],
        [
         "dbfs:/FileStore/tables/to_date.csv",
         "to_date.csv",
         1923,
         1726112031000
        ],
        [
         "dbfs:/FileStore/tables/to_json.csv",
         "to_json.csv",
         50792,
         1726583981000
        ],
        [
         "dbfs:/FileStore/tables/to_timestamp-1.csv",
         "to_timestamp-1.csv",
         5536,
         1726303458000
        ],
        [
         "dbfs:/FileStore/tables/to_timestamp-2.csv",
         "to_timestamp-2.csv",
         5425,
         1726303695000
        ],
        [
         "dbfs:/FileStore/tables/to_timestamp-3.csv",
         "to_timestamp-3.csv",
         5545,
         1726304079000
        ],
        [
         "dbfs:/FileStore/tables/to_timestamp.csv",
         "to_timestamp.csv",
         6451,
         1726300120000
        ]
       ],
       "datasetInfos": [],
       "dbfsResultPath": null,
       "isJsonSchema": true,
       "metadata": {},
       "overflow": false,
       "plotOptions": {
        "customPlotOptions": {},
        "displayType": "table",
        "pivotAggregation": null,
        "pivotColumns": null,
        "xColumns": null,
        "yColumns": null
       },
       "removedWidgets": [],
       "schema": [
        {
         "metadata": "{}",
         "name": "path",
         "type": "\"string\""
        },
        {
         "metadata": "{}",
         "name": "name",
         "type": "\"string\""
        },
        {
         "metadata": "{}",
         "name": "size",
         "type": "\"long\""
        },
        {
         "metadata": "{}",
         "name": "modificationTime",
         "type": "\"long\""
        }
       ],
       "type": "table"
      }
     },
     "output_type": "display_data"
    }
   ],
   "source": [
    "# To check whether a folder has been deleted\n",
    "display(dbutils.fs.ls(\"/FileStore/tables/\"))"
   ]
  },
  {
   "cell_type": "markdown",
   "metadata": {
    "application/vnd.databricks.v1+cell": {
     "cellMetadata": {},
     "inputWidgets": {},
     "nuid": "ea38ac4d-229b-4ab5-86b0-ad733244b031",
     "showTitle": false,
     "tableResultSettingsMap": {},
     "title": ""
    }
   },
   "source": [
    "**Check the folder and list the content**"
   ]
  },
  {
   "cell_type": "code",
   "execution_count": 0,
   "metadata": {
    "application/vnd.databricks.v1+cell": {
     "cellMetadata": {
      "byteLimit": 2048000,
      "rowLimit": 10000
     },
     "inputWidgets": {},
     "nuid": "f4062785-ec41-4712-a308-fc4d3d8e9742",
     "showTitle": false,
     "tableResultSettingsMap": {},
     "title": ""
    }
   },
   "outputs": [
    {
     "output_type": "display_data",
     "data": {
      "text/html": [
       "<style scoped>\n",
       "  .table-result-container {\n",
       "    max-height: 300px;\n",
       "    overflow: auto;\n",
       "  }\n",
       "  table, th, td {\n",
       "    border: 1px solid black;\n",
       "    border-collapse: collapse;\n",
       "  }\n",
       "  th, td {\n",
       "    padding: 5px;\n",
       "  }\n",
       "  th {\n",
       "    text-align: left;\n",
       "  }\n",
       "</style><div class='table-result-container'><table class='table-result'><thead style='background-color: white'><tr><th>path</th><th>name</th><th>size</th><th>modificationTime</th></tr></thead><tbody><tr><td>dbfs:/user/hive/warehouse/</td><td>warehouse/</td><td>0</td><td>0</td></tr></tbody></table></div>"
      ]
     },
     "metadata": {
      "application/vnd.databricks.v1+output": {
       "addedWidgets": {},
       "aggData": [],
       "aggError": "",
       "aggOverflow": false,
       "aggSchema": [],
       "aggSeriesLimitReached": false,
       "aggType": "",
       "arguments": {},
       "columnCustomDisplayInfos": {},
       "data": [
        [
         "dbfs:/user/hive/warehouse/",
         "warehouse/",
         0,
         0
        ]
       ],
       "datasetInfos": [],
       "dbfsResultPath": null,
       "isJsonSchema": true,
       "metadata": {},
       "overflow": false,
       "plotOptions": {
        "customPlotOptions": {},
        "displayType": "table",
        "pivotAggregation": null,
        "pivotColumns": null,
        "xColumns": null,
        "yColumns": null
       },
       "removedWidgets": [],
       "schema": [
        {
         "metadata": "{}",
         "name": "path",
         "type": "\"string\""
        },
        {
         "metadata": "{}",
         "name": "name",
         "type": "\"string\""
        },
        {
         "metadata": "{}",
         "name": "size",
         "type": "\"long\""
        },
        {
         "metadata": "{}",
         "name": "modificationTime",
         "type": "\"long\""
        }
       ],
       "type": "table"
      }
     },
     "output_type": "display_data"
    },
    {
     "output_type": "display_data",
     "data": {
      "text/html": [
       "<style scoped>\n",
       "  .table-result-container {\n",
       "    max-height: 300px;\n",
       "    overflow: auto;\n",
       "  }\n",
       "  table, th, td {\n",
       "    border: 1px solid black;\n",
       "    border-collapse: collapse;\n",
       "  }\n",
       "  th, td {\n",
       "    padding: 5px;\n",
       "  }\n",
       "  th {\n",
       "    text-align: left;\n",
       "  }\n",
       "</style><div class='table-result-container'><table class='table-result'><thead style='background-color: white'><tr><th>path</th><th>name</th><th>size</th><th>modificationTime</th></tr></thead><tbody><tr><td>dbfs:/user/hive/warehouse/colors/</td><td>colors/</td><td>0</td><td>0</td></tr><tr><td>dbfs:/user/hive/warehouse/customer123/</td><td>customer123/</td><td>0</td><td>0</td></tr><tr><td>dbfs:/user/hive/warehouse/customers/</td><td>customers/</td><td>0</td><td>0</td></tr><tr><td>dbfs:/user/hive/warehouse/customers01/</td><td>customers01/</td><td>0</td><td>0</td></tr><tr><td>dbfs:/user/hive/warehouse/dprt/</td><td>dprt/</td><td>0</td><td>0</td></tr><tr><td>dbfs:/user/hive/warehouse/emp/</td><td>emp/</td><td>0</td><td>0</td></tr><tr><td>dbfs:/user/hive/warehouse/emp1/</td><td>emp1/</td><td>0</td><td>0</td></tr><tr><td>dbfs:/user/hive/warehouse/empaa/</td><td>empaa/</td><td>0</td><td>0</td></tr><tr><td>dbfs:/user/hive/warehouse/empccc/</td><td>empccc/</td><td>0</td><td>0</td></tr><tr><td>dbfs:/user/hive/warehouse/empdup/</td><td>empdup/</td><td>0</td><td>0</td></tr><tr><td>dbfs:/user/hive/warehouse/empdup_bkp/</td><td>empdup_bkp/</td><td>0</td><td>0</td></tr><tr><td>dbfs:/user/hive/warehouse/employee001/</td><td>employee001/</td><td>0</td><td>0</td></tr><tr><td>dbfs:/user/hive/warehouse/employee111/</td><td>employee111/</td><td>0</td><td>0</td></tr><tr><td>dbfs:/user/hive/warehouse/employeeddd/</td><td>employeeddd/</td><td>0</td><td>0</td></tr><tr><td>dbfs:/user/hive/warehouse/employees/</td><td>employees/</td><td>0</td><td>0</td></tr><tr><td>dbfs:/user/hive/warehouse/employees_aa/</td><td>employees_aa/</td><td>0</td><td>0</td></tr><tr><td>dbfs:/user/hive/warehouse/emply/</td><td>emply/</td><td>0</td><td>0</td></tr><tr><td>dbfs:/user/hive/warehouse/empself/</td><td>empself/</td><td>0</td><td>0</td></tr><tr><td>dbfs:/user/hive/warehouse/empself1/</td><td>empself1/</td><td>0</td><td>0</td></tr><tr><td>dbfs:/user/hive/warehouse/empself2/</td><td>empself2/</td><td>0</td><td>0</td></tr><tr><td>dbfs:/user/hive/warehouse/full_load_table/</td><td>full_load_table/</td><td>0</td><td>0</td></tr><tr><td>dbfs:/user/hive/warehouse/new_load_table/</td><td>new_load_table/</td><td>0</td><td>0</td></tr><tr><td>dbfs:/user/hive/warehouse/nytrips/</td><td>nytrips/</td><td>0</td><td>0</td></tr><tr><td>dbfs:/user/hive/warehouse/orders/</td><td>orders/</td><td>0</td><td>0</td></tr><tr><td>dbfs:/user/hive/warehouse/orders123/</td><td>orders123/</td><td>0</td><td>0</td></tr><tr><td>dbfs:/user/hive/warehouse/product/</td><td>product/</td><td>0</td><td>0</td></tr><tr><td>dbfs:/user/hive/warehouse/products/</td><td>products/</td><td>0</td><td>0</td></tr><tr><td>dbfs:/user/hive/warehouse/project/</td><td>project/</td><td>0</td><td>0</td></tr><tr><td>dbfs:/user/hive/warehouse/project011/</td><td>project011/</td><td>0</td><td>0</td></tr><tr><td>dbfs:/user/hive/warehouse/sales/</td><td>sales/</td><td>0</td><td>0</td></tr><tr><td>dbfs:/user/hive/warehouse/sales1/</td><td>sales1/</td><td>0</td><td>0</td></tr><tr><td>dbfs:/user/hive/warehouse/sizes/</td><td>sizes/</td><td>0</td><td>0</td></tr><tr><td>dbfs:/user/hive/warehouse/supplier/</td><td>supplier/</td><td>0</td><td>0</td></tr><tr><td>dbfs:/user/hive/warehouse/suppliers/</td><td>suppliers/</td><td>0</td><td>0</td></tr><tr><td>dbfs:/user/hive/warehouse/tab1/</td><td>tab1/</td><td>0</td><td>0</td></tr><tr><td>dbfs:/user/hive/warehouse/tab2/</td><td>tab2/</td><td>0</td><td>0</td></tr><tr><td>dbfs:/user/hive/warehouse/table1/</td><td>table1/</td><td>0</td><td>0</td></tr><tr><td>dbfs:/user/hive/warehouse/targetnew_load_table/</td><td>targetnew_load_table/</td><td>0</td><td>0</td></tr><tr><td>dbfs:/user/hive/warehouse/tbl_1a/</td><td>tbl_1a/</td><td>0</td><td>0</td></tr><tr><td>dbfs:/user/hive/warehouse/tbl_2a/</td><td>tbl_2a/</td><td>0</td><td>0</td></tr><tr><td>dbfs:/user/hive/warehouse/tbl_a/</td><td>tbl_a/</td><td>0</td><td>0</td></tr><tr><td>dbfs:/user/hive/warehouse/tbl_a1/</td><td>tbl_a1/</td><td>0</td><td>0</td></tr><tr><td>dbfs:/user/hive/warehouse/tbl_a2/</td><td>tbl_a2/</td><td>0</td><td>0</td></tr><tr><td>dbfs:/user/hive/warehouse/tbl_aa1/</td><td>tbl_aa1/</td><td>0</td><td>0</td></tr><tr><td>dbfs:/user/hive/warehouse/tbl_aa2/</td><td>tbl_aa2/</td><td>0</td><td>0</td></tr><tr><td>dbfs:/user/hive/warehouse/tbl_aaa/</td><td>tbl_aaa/</td><td>0</td><td>0</td></tr><tr><td>dbfs:/user/hive/warehouse/tbl_aaa1/</td><td>tbl_aaa1/</td><td>0</td><td>0</td></tr><tr><td>dbfs:/user/hive/warehouse/tbl_aaa2/</td><td>tbl_aaa2/</td><td>0</td><td>0</td></tr><tr><td>dbfs:/user/hive/warehouse/tbl_aaz/</td><td>tbl_aaz/</td><td>0</td><td>0</td></tr><tr><td>dbfs:/user/hive/warehouse/tbl_b/</td><td>tbl_b/</td><td>0</td><td>0</td></tr><tr><td>dbfs:/user/hive/warehouse/tbl_bb/</td><td>tbl_bb/</td><td>0</td><td>0</td></tr><tr><td>dbfs:/user/hive/warehouse/tbl_bbb/</td><td>tbl_bbb/</td><td>0</td><td>0</td></tr><tr><td>dbfs:/user/hive/warehouse/tbl_bbz/</td><td>tbl_bbz/</td><td>0</td><td>0</td></tr><tr><td>dbfs:/user/hive/warehouse/tbl_c1/</td><td>tbl_c1/</td><td>0</td><td>0</td></tr><tr><td>dbfs:/user/hive/warehouse/tbl_c2/</td><td>tbl_c2/</td><td>0</td><td>0</td></tr><tr><td>dbfs:/user/hive/warehouse/tbl_cc1/</td><td>tbl_cc1/</td><td>0</td><td>0</td></tr><tr><td>dbfs:/user/hive/warehouse/tbl_cc2/</td><td>tbl_cc2/</td><td>0</td><td>0</td></tr><tr><td>dbfs:/user/hive/warehouse/tbl_crs_join/</td><td>tbl_crs_join/</td><td>0</td><td>0</td></tr><tr><td>dbfs:/user/hive/warehouse/tbl_crs_joins/</td><td>tbl_crs_joins/</td><td>0</td><td>0</td></tr><tr><td>dbfs:/user/hive/warehouse/tbl_q2/</td><td>tbl_q2/</td><td>0</td><td>0</td></tr><tr><td>dbfs:/user/hive/warehouse/tbl_q2_01/</td><td>tbl_q2_01/</td><td>0</td><td>0</td></tr><tr><td>dbfs:/user/hive/warehouse/tbl_q2_02/</td><td>tbl_q2_02/</td><td>0</td><td>0</td></tr><tr><td>dbfs:/user/hive/warehouse/tblemployee/</td><td>tblemployee/</td><td>0</td><td>0</td></tr><tr><td>dbfs:/user/hive/warehouse/tblemployee_doj/</td><td>tblemployee_doj/</td><td>0</td><td>0</td></tr><tr><td>dbfs:/user/hive/warehouse/tenmillionrecords/</td><td>tenmillionrecords/</td><td>0</td><td>0</td></tr><tr><td>dbfs:/user/hive/warehouse/transactions/</td><td>transactions/</td><td>0</td><td>0</td></tr><tr><td>dbfs:/user/hive/warehouse/trg_load_table/</td><td>trg_load_table/</td><td>0</td><td>0</td></tr></tbody></table></div>"
      ]
     },
     "metadata": {
      "application/vnd.databricks.v1+output": {
       "addedWidgets": {},
       "aggData": [],
       "aggError": "",
       "aggOverflow": false,
       "aggSchema": [],
       "aggSeriesLimitReached": false,
       "aggType": "",
       "arguments": {},
       "columnCustomDisplayInfos": {},
       "data": [
        [
         "dbfs:/user/hive/warehouse/colors/",
         "colors/",
         0,
         0
        ],
        [
         "dbfs:/user/hive/warehouse/customer123/",
         "customer123/",
         0,
         0
        ],
        [
         "dbfs:/user/hive/warehouse/customers/",
         "customers/",
         0,
         0
        ],
        [
         "dbfs:/user/hive/warehouse/customers01/",
         "customers01/",
         0,
         0
        ],
        [
         "dbfs:/user/hive/warehouse/dprt/",
         "dprt/",
         0,
         0
        ],
        [
         "dbfs:/user/hive/warehouse/emp/",
         "emp/",
         0,
         0
        ],
        [
         "dbfs:/user/hive/warehouse/emp1/",
         "emp1/",
         0,
         0
        ],
        [
         "dbfs:/user/hive/warehouse/empaa/",
         "empaa/",
         0,
         0
        ],
        [
         "dbfs:/user/hive/warehouse/empccc/",
         "empccc/",
         0,
         0
        ],
        [
         "dbfs:/user/hive/warehouse/empdup/",
         "empdup/",
         0,
         0
        ],
        [
         "dbfs:/user/hive/warehouse/empdup_bkp/",
         "empdup_bkp/",
         0,
         0
        ],
        [
         "dbfs:/user/hive/warehouse/employee001/",
         "employee001/",
         0,
         0
        ],
        [
         "dbfs:/user/hive/warehouse/employee111/",
         "employee111/",
         0,
         0
        ],
        [
         "dbfs:/user/hive/warehouse/employeeddd/",
         "employeeddd/",
         0,
         0
        ],
        [
         "dbfs:/user/hive/warehouse/employees/",
         "employees/",
         0,
         0
        ],
        [
         "dbfs:/user/hive/warehouse/employees_aa/",
         "employees_aa/",
         0,
         0
        ],
        [
         "dbfs:/user/hive/warehouse/emply/",
         "emply/",
         0,
         0
        ],
        [
         "dbfs:/user/hive/warehouse/empself/",
         "empself/",
         0,
         0
        ],
        [
         "dbfs:/user/hive/warehouse/empself1/",
         "empself1/",
         0,
         0
        ],
        [
         "dbfs:/user/hive/warehouse/empself2/",
         "empself2/",
         0,
         0
        ],
        [
         "dbfs:/user/hive/warehouse/full_load_table/",
         "full_load_table/",
         0,
         0
        ],
        [
         "dbfs:/user/hive/warehouse/new_load_table/",
         "new_load_table/",
         0,
         0
        ],
        [
         "dbfs:/user/hive/warehouse/nytrips/",
         "nytrips/",
         0,
         0
        ],
        [
         "dbfs:/user/hive/warehouse/orders/",
         "orders/",
         0,
         0
        ],
        [
         "dbfs:/user/hive/warehouse/orders123/",
         "orders123/",
         0,
         0
        ],
        [
         "dbfs:/user/hive/warehouse/product/",
         "product/",
         0,
         0
        ],
        [
         "dbfs:/user/hive/warehouse/products/",
         "products/",
         0,
         0
        ],
        [
         "dbfs:/user/hive/warehouse/project/",
         "project/",
         0,
         0
        ],
        [
         "dbfs:/user/hive/warehouse/project011/",
         "project011/",
         0,
         0
        ],
        [
         "dbfs:/user/hive/warehouse/sales/",
         "sales/",
         0,
         0
        ],
        [
         "dbfs:/user/hive/warehouse/sales1/",
         "sales1/",
         0,
         0
        ],
        [
         "dbfs:/user/hive/warehouse/sizes/",
         "sizes/",
         0,
         0
        ],
        [
         "dbfs:/user/hive/warehouse/supplier/",
         "supplier/",
         0,
         0
        ],
        [
         "dbfs:/user/hive/warehouse/suppliers/",
         "suppliers/",
         0,
         0
        ],
        [
         "dbfs:/user/hive/warehouse/tab1/",
         "tab1/",
         0,
         0
        ],
        [
         "dbfs:/user/hive/warehouse/tab2/",
         "tab2/",
         0,
         0
        ],
        [
         "dbfs:/user/hive/warehouse/table1/",
         "table1/",
         0,
         0
        ],
        [
         "dbfs:/user/hive/warehouse/targetnew_load_table/",
         "targetnew_load_table/",
         0,
         0
        ],
        [
         "dbfs:/user/hive/warehouse/tbl_1a/",
         "tbl_1a/",
         0,
         0
        ],
        [
         "dbfs:/user/hive/warehouse/tbl_2a/",
         "tbl_2a/",
         0,
         0
        ],
        [
         "dbfs:/user/hive/warehouse/tbl_a/",
         "tbl_a/",
         0,
         0
        ],
        [
         "dbfs:/user/hive/warehouse/tbl_a1/",
         "tbl_a1/",
         0,
         0
        ],
        [
         "dbfs:/user/hive/warehouse/tbl_a2/",
         "tbl_a2/",
         0,
         0
        ],
        [
         "dbfs:/user/hive/warehouse/tbl_aa1/",
         "tbl_aa1/",
         0,
         0
        ],
        [
         "dbfs:/user/hive/warehouse/tbl_aa2/",
         "tbl_aa2/",
         0,
         0
        ],
        [
         "dbfs:/user/hive/warehouse/tbl_aaa/",
         "tbl_aaa/",
         0,
         0
        ],
        [
         "dbfs:/user/hive/warehouse/tbl_aaa1/",
         "tbl_aaa1/",
         0,
         0
        ],
        [
         "dbfs:/user/hive/warehouse/tbl_aaa2/",
         "tbl_aaa2/",
         0,
         0
        ],
        [
         "dbfs:/user/hive/warehouse/tbl_aaz/",
         "tbl_aaz/",
         0,
         0
        ],
        [
         "dbfs:/user/hive/warehouse/tbl_b/",
         "tbl_b/",
         0,
         0
        ],
        [
         "dbfs:/user/hive/warehouse/tbl_bb/",
         "tbl_bb/",
         0,
         0
        ],
        [
         "dbfs:/user/hive/warehouse/tbl_bbb/",
         "tbl_bbb/",
         0,
         0
        ],
        [
         "dbfs:/user/hive/warehouse/tbl_bbz/",
         "tbl_bbz/",
         0,
         0
        ],
        [
         "dbfs:/user/hive/warehouse/tbl_c1/",
         "tbl_c1/",
         0,
         0
        ],
        [
         "dbfs:/user/hive/warehouse/tbl_c2/",
         "tbl_c2/",
         0,
         0
        ],
        [
         "dbfs:/user/hive/warehouse/tbl_cc1/",
         "tbl_cc1/",
         0,
         0
        ],
        [
         "dbfs:/user/hive/warehouse/tbl_cc2/",
         "tbl_cc2/",
         0,
         0
        ],
        [
         "dbfs:/user/hive/warehouse/tbl_crs_join/",
         "tbl_crs_join/",
         0,
         0
        ],
        [
         "dbfs:/user/hive/warehouse/tbl_crs_joins/",
         "tbl_crs_joins/",
         0,
         0
        ],
        [
         "dbfs:/user/hive/warehouse/tbl_q2/",
         "tbl_q2/",
         0,
         0
        ],
        [
         "dbfs:/user/hive/warehouse/tbl_q2_01/",
         "tbl_q2_01/",
         0,
         0
        ],
        [
         "dbfs:/user/hive/warehouse/tbl_q2_02/",
         "tbl_q2_02/",
         0,
         0
        ],
        [
         "dbfs:/user/hive/warehouse/tblemployee/",
         "tblemployee/",
         0,
         0
        ],
        [
         "dbfs:/user/hive/warehouse/tblemployee_doj/",
         "tblemployee_doj/",
         0,
         0
        ],
        [
         "dbfs:/user/hive/warehouse/tenmillionrecords/",
         "tenmillionrecords/",
         0,
         0
        ],
        [
         "dbfs:/user/hive/warehouse/transactions/",
         "transactions/",
         0,
         0
        ],
        [
         "dbfs:/user/hive/warehouse/trg_load_table/",
         "trg_load_table/",
         0,
         0
        ]
       ],
       "datasetInfos": [],
       "dbfsResultPath": null,
       "isJsonSchema": true,
       "metadata": {},
       "overflow": false,
       "plotOptions": {
        "customPlotOptions": {},
        "displayType": "table",
        "pivotAggregation": null,
        "pivotColumns": null,
        "xColumns": null,
        "yColumns": null
       },
       "removedWidgets": [],
       "schema": [
        {
         "metadata": "{}",
         "name": "path",
         "type": "\"string\""
        },
        {
         "metadata": "{}",
         "name": "name",
         "type": "\"string\""
        },
        {
         "metadata": "{}",
         "name": "size",
         "type": "\"long\""
        },
        {
         "metadata": "{}",
         "name": "modificationTime",
         "type": "\"long\""
        }
       ],
       "type": "table"
      }
     },
     "output_type": "display_data"
    }
   ],
   "source": [
    "display(dbutils.fs.ls(\"dbfs:/user/hive/\"))\n",
    "display(dbutils.fs.ls(\"dbfs:/user/hive/warehouse/\"))"
   ]
  },
  {
   "cell_type": "code",
   "execution_count": 0,
   "metadata": {
    "application/vnd.databricks.v1+cell": {
     "cellMetadata": {
      "byteLimit": 2048000,
      "rowLimit": 10000
     },
     "inputWidgets": {},
     "nuid": "a6be4ad8-a099-4713-a7ce-5f5d4641c5c6",
     "showTitle": true,
     "tableResultSettingsMap": {},
     "title": "Check the folder and list the content"
    }
   },
   "outputs": [
    {
     "output_type": "display_data",
     "data": {
      "text/html": [
       "<style scoped>\n",
       "  .table-result-container {\n",
       "    max-height: 300px;\n",
       "    overflow: auto;\n",
       "  }\n",
       "  table, th, td {\n",
       "    border: 1px solid black;\n",
       "    border-collapse: collapse;\n",
       "  }\n",
       "  th, td {\n",
       "    padding: 5px;\n",
       "  }\n",
       "  th {\n",
       "    text-align: left;\n",
       "  }\n",
       "</style><div class='table-result-container'><table class='table-result'><thead style='background-color: white'><tr><th>path</th><th>name</th><th>size</th><th>modificationTime</th></tr></thead><tbody><tr><td>dbfs:/user/hive/warehouse/tbl_crs_join/_delta_log/</td><td>_delta_log/</td><td>0</td><td>0</td></tr><tr><td>dbfs:/user/hive/warehouse/tbl_crs_join/part-00000-c155a694-f981-457b-a577-56dc66761b2c-c000.snappy.parquet</td><td>part-00000-c155a694-f981-457b-a577-56dc66761b2c-c000.snappy.parquet</td><td>6095</td><td>1733061318000</td></tr></tbody></table></div>"
      ]
     },
     "metadata": {
      "application/vnd.databricks.v1+output": {
       "addedWidgets": {},
       "aggData": [],
       "aggError": "",
       "aggOverflow": false,
       "aggSchema": [],
       "aggSeriesLimitReached": false,
       "aggType": "",
       "arguments": {},
       "columnCustomDisplayInfos": {},
       "data": [
        [
         "dbfs:/user/hive/warehouse/tbl_crs_join/_delta_log/",
         "_delta_log/",
         0,
         0
        ],
        [
         "dbfs:/user/hive/warehouse/tbl_crs_join/part-00000-c155a694-f981-457b-a577-56dc66761b2c-c000.snappy.parquet",
         "part-00000-c155a694-f981-457b-a577-56dc66761b2c-c000.snappy.parquet",
         6095,
         1733061318000
        ]
       ],
       "datasetInfos": [],
       "dbfsResultPath": null,
       "isJsonSchema": true,
       "metadata": {},
       "overflow": false,
       "plotOptions": {
        "customPlotOptions": {},
        "displayType": "table",
        "pivotAggregation": null,
        "pivotColumns": null,
        "xColumns": null,
        "yColumns": null
       },
       "removedWidgets": [],
       "schema": [
        {
         "metadata": "{}",
         "name": "path",
         "type": "\"string\""
        },
        {
         "metadata": "{}",
         "name": "name",
         "type": "\"string\""
        },
        {
         "metadata": "{}",
         "name": "size",
         "type": "\"long\""
        },
        {
         "metadata": "{}",
         "name": "modificationTime",
         "type": "\"long\""
        }
       ],
       "type": "table"
      }
     },
     "output_type": "display_data"
    }
   ],
   "source": [
    "# Check the folder and list the content\n",
    "display(dbutils.fs.ls(\"dbfs:/user/hive/warehouse/tbl_crs_join\"))"
   ]
  },
  {
   "cell_type": "code",
   "execution_count": 0,
   "metadata": {
    "application/vnd.databricks.v1+cell": {
     "cellMetadata": {
      "byteLimit": 2048000,
      "rowLimit": 10000
     },
     "inputWidgets": {},
     "nuid": "edf04982-7dd8-4071-a8ee-bcaeab4df061",
     "showTitle": false,
     "tableResultSettingsMap": {},
     "title": ""
    }
   },
   "outputs": [
    {
     "output_type": "display_data",
     "data": {
      "text/html": [
       "<style scoped>\n",
       "  .table-result-container {\n",
       "    max-height: 300px;\n",
       "    overflow: auto;\n",
       "  }\n",
       "  table, th, td {\n",
       "    border: 1px solid black;\n",
       "    border-collapse: collapse;\n",
       "  }\n",
       "  th, td {\n",
       "    padding: 5px;\n",
       "  }\n",
       "  th {\n",
       "    text-align: left;\n",
       "  }\n",
       "</style><div class='table-result-container'><table class='table-result'><thead style='background-color: white'><tr><th>path</th><th>name</th><th>size</th><th>modificationTime</th></tr></thead><tbody><tr><td>dbfs:/FileStore/tables/InterviewQuestions/PySpark/</td><td>PySpark/</td><td>0</td><td>0</td></tr></tbody></table></div>"
      ]
     },
     "metadata": {
      "application/vnd.databricks.v1+output": {
       "addedWidgets": {},
       "aggData": [],
       "aggError": "",
       "aggOverflow": false,
       "aggSchema": [],
       "aggSeriesLimitReached": false,
       "aggType": "",
       "arguments": {},
       "columnCustomDisplayInfos": {},
       "data": [
        [
         "dbfs:/FileStore/tables/InterviewQuestions/PySpark/",
         "PySpark/",
         0,
         0
        ]
       ],
       "datasetInfos": [],
       "dbfsResultPath": null,
       "isJsonSchema": true,
       "metadata": {},
       "overflow": false,
       "plotOptions": {
        "customPlotOptions": {},
        "displayType": "table",
        "pivotAggregation": null,
        "pivotColumns": null,
        "xColumns": null,
        "yColumns": null
       },
       "removedWidgets": [],
       "schema": [
        {
         "metadata": "{}",
         "name": "path",
         "type": "\"string\""
        },
        {
         "metadata": "{}",
         "name": "name",
         "type": "\"string\""
        },
        {
         "metadata": "{}",
         "name": "size",
         "type": "\"long\""
        },
        {
         "metadata": "{}",
         "name": "modificationTime",
         "type": "\"long\""
        }
       ],
       "type": "table"
      }
     },
     "output_type": "display_data"
    },
    {
     "output_type": "display_data",
     "data": {
      "text/html": [
       "<style scoped>\n",
       "  .table-result-container {\n",
       "    max-height: 300px;\n",
       "    overflow: auto;\n",
       "  }\n",
       "  table, th, td {\n",
       "    border: 1px solid black;\n",
       "    border-collapse: collapse;\n",
       "  }\n",
       "  th, td {\n",
       "    padding: 5px;\n",
       "  }\n",
       "  th {\n",
       "    text-align: left;\n",
       "  }\n",
       "</style><div class='table-result-container'><table class='table-result'><thead style='background-color: white'><tr><th>path</th><th>name</th><th>size</th><th>modificationTime</th></tr></thead><tbody><tr><td>dbfs:/FileStore/tables/InterviewQuestions/PySpark/18_highest_lowest_salary_department_wise/</td><td>18_highest_lowest_salary_department_wise/</td><td>0</td><td>0</td></tr><tr><td>dbfs:/FileStore/tables/InterviewQuestions/PySpark/deptsal.csv</td><td>deptsal.csv</td><td>165</td><td>1736858422000</td></tr><tr><td>dbfs:/FileStore/tables/InterviewQuestions/PySpark/json_data.json</td><td>json_data.json</td><td>304</td><td>1736861340000</td></tr></tbody></table></div>"
      ]
     },
     "metadata": {
      "application/vnd.databricks.v1+output": {
       "addedWidgets": {},
       "aggData": [],
       "aggError": "",
       "aggOverflow": false,
       "aggSchema": [],
       "aggSeriesLimitReached": false,
       "aggType": "",
       "arguments": {},
       "columnCustomDisplayInfos": {},
       "data": [
        [
         "dbfs:/FileStore/tables/InterviewQuestions/PySpark/18_highest_lowest_salary_department_wise/",
         "18_highest_lowest_salary_department_wise/",
         0,
         0
        ],
        [
         "dbfs:/FileStore/tables/InterviewQuestions/PySpark/deptsal.csv",
         "deptsal.csv",
         165,
         1736858422000
        ],
        [
         "dbfs:/FileStore/tables/InterviewQuestions/PySpark/json_data.json",
         "json_data.json",
         304,
         1736861340000
        ]
       ],
       "datasetInfos": [],
       "dbfsResultPath": null,
       "isJsonSchema": true,
       "metadata": {},
       "overflow": false,
       "plotOptions": {
        "customPlotOptions": {},
        "displayType": "table",
        "pivotAggregation": null,
        "pivotColumns": null,
        "xColumns": null,
        "yColumns": null
       },
       "removedWidgets": [],
       "schema": [
        {
         "metadata": "{}",
         "name": "path",
         "type": "\"string\""
        },
        {
         "metadata": "{}",
         "name": "name",
         "type": "\"string\""
        },
        {
         "metadata": "{}",
         "name": "size",
         "type": "\"long\""
        },
        {
         "metadata": "{}",
         "name": "modificationTime",
         "type": "\"long\""
        }
       ],
       "type": "table"
      }
     },
     "output_type": "display_data"
    }
   ],
   "source": [
    "display(dbutils.fs.ls(\"dbfs:/FileStore/tables/InterviewQuestions/\"))\n",
    "display(dbutils.fs.ls(\"dbfs:/FileStore/tables/InterviewQuestions/PySpark/\"))"
   ]
  },
  {
   "cell_type": "code",
   "execution_count": 0,
   "metadata": {
    "application/vnd.databricks.v1+cell": {
     "cellMetadata": {},
     "inputWidgets": {},
     "nuid": "566feeb1-1d67-498b-8325-fd4947f54a89",
     "showTitle": false,
     "tableResultSettingsMap": {},
     "title": ""
    }
   },
   "outputs": [],
   "source": [
    "dbutils.fs.rm(\"dbfs:/user/hive/warehouse/tbl_enriched_marketprice\", recurse=true)"
   ]
  },
  {
   "cell_type": "code",
   "execution_count": 0,
   "metadata": {
    "application/vnd.databricks.v1+cell": {
     "cellMetadata": {
      "byteLimit": 2048000,
      "rowLimit": 10000
     },
     "inputWidgets": {},
     "nuid": "935b6526-45b9-411e-8b8b-9ddb9398e1d5",
     "showTitle": false,
     "tableResultSettingsMap": {},
     "title": ""
    }
   },
   "outputs": [
    {
     "output_type": "display_data",
     "data": {
      "text/html": [
       "<style scoped>\n",
       "  .table-result-container {\n",
       "    max-height: 300px;\n",
       "    overflow: auto;\n",
       "  }\n",
       "  table, th, td {\n",
       "    border: 1px solid black;\n",
       "    border-collapse: collapse;\n",
       "  }\n",
       "  th, td {\n",
       "    padding: 5px;\n",
       "  }\n",
       "  th {\n",
       "    text-align: left;\n",
       "  }\n",
       "</style><div class='table-result-container'><table class='table-result'><thead style='background-color: white'><tr><th>path</th><th>name</th><th>size</th><th>modificationTime</th></tr></thead><tbody><tr><td>dbfs:/FileStore/tables/Generate_Random_Data/million_random_data.csv/</td><td>million_random_data.csv/</td><td>0</td><td>0</td></tr></tbody></table></div>"
      ]
     },
     "metadata": {
      "application/vnd.databricks.v1+output": {
       "addedWidgets": {},
       "aggData": [],
       "aggError": "",
       "aggOverflow": false,
       "aggSchema": [],
       "aggSeriesLimitReached": false,
       "aggType": "",
       "arguments": {},
       "columnCustomDisplayInfos": {},
       "data": [
        [
         "dbfs:/FileStore/tables/Generate_Random_Data/million_random_data.csv/",
         "million_random_data.csv/",
         0,
         0
        ]
       ],
       "datasetInfos": [],
       "dbfsResultPath": null,
       "isJsonSchema": true,
       "metadata": {},
       "overflow": false,
       "plotOptions": {
        "customPlotOptions": {},
        "displayType": "table",
        "pivotAggregation": null,
        "pivotColumns": null,
        "xColumns": null,
        "yColumns": null
       },
       "removedWidgets": [],
       "schema": [
        {
         "metadata": "{}",
         "name": "path",
         "type": "\"string\""
        },
        {
         "metadata": "{}",
         "name": "name",
         "type": "\"string\""
        },
        {
         "metadata": "{}",
         "name": "size",
         "type": "\"long\""
        },
        {
         "metadata": "{}",
         "name": "modificationTime",
         "type": "\"long\""
        }
       ],
       "type": "table"
      }
     },
     "output_type": "display_data"
    }
   ],
   "source": [
    "display(dbutils.fs.ls(\"dbfs:/FileStore/tables/Generate_Random_Data/\"))"
   ]
  },
  {
   "cell_type": "code",
   "execution_count": 0,
   "metadata": {
    "application/vnd.databricks.v1+cell": {
     "cellMetadata": {
      "byteLimit": 2048000,
      "rowLimit": 10000
     },
     "inputWidgets": {},
     "nuid": "eb2905e9-2cc8-42ab-a9a9-fc9fb88658c0",
     "showTitle": false,
     "tableResultSettingsMap": {},
     "title": ""
    }
   },
   "outputs": [
    {
     "output_type": "display_data",
     "data": {
      "text/html": [
       "<style scoped>\n",
       "  .table-result-container {\n",
       "    max-height: 300px;\n",
       "    overflow: auto;\n",
       "  }\n",
       "  table, th, td {\n",
       "    border: 1px solid black;\n",
       "    border-collapse: collapse;\n",
       "  }\n",
       "  th, td {\n",
       "    padding: 5px;\n",
       "  }\n",
       "  th {\n",
       "    text-align: left;\n",
       "  }\n",
       "</style><div class='table-result-container'><table class='table-result'><thead style='background-color: white'><tr><th>path</th><th>name</th><th>size</th><th>modificationTime</th></tr></thead><tbody><tr><td>dbfs:/user/hive/</td><td>hive/</td><td>0</td><td>0</td></tr></tbody></table></div>"
      ]
     },
     "metadata": {
      "application/vnd.databricks.v1+output": {
       "addedWidgets": {},
       "aggData": [],
       "aggError": "",
       "aggOverflow": false,
       "aggSchema": [],
       "aggSeriesLimitReached": false,
       "aggType": "",
       "arguments": {},
       "columnCustomDisplayInfos": {},
       "data": [
        [
         "dbfs:/user/hive/",
         "hive/",
         0,
         0
        ]
       ],
       "datasetInfos": [],
       "dbfsResultPath": null,
       "isJsonSchema": true,
       "metadata": {},
       "overflow": false,
       "plotOptions": {
        "customPlotOptions": {},
        "displayType": "table",
        "pivotAggregation": null,
        "pivotColumns": null,
        "xColumns": null,
        "yColumns": null
       },
       "removedWidgets": [],
       "schema": [
        {
         "metadata": "{}",
         "name": "path",
         "type": "\"string\""
        },
        {
         "metadata": "{}",
         "name": "name",
         "type": "\"string\""
        },
        {
         "metadata": "{}",
         "name": "size",
         "type": "\"long\""
        },
        {
         "metadata": "{}",
         "name": "modificationTime",
         "type": "\"long\""
        }
       ],
       "type": "table"
      }
     },
     "output_type": "display_data"
    },
    {
     "output_type": "display_data",
     "data": {
      "text/html": [
       "<style scoped>\n",
       "  .table-result-container {\n",
       "    max-height: 300px;\n",
       "    overflow: auto;\n",
       "  }\n",
       "  table, th, td {\n",
       "    border: 1px solid black;\n",
       "    border-collapse: collapse;\n",
       "  }\n",
       "  th, td {\n",
       "    padding: 5px;\n",
       "  }\n",
       "  th {\n",
       "    text-align: left;\n",
       "  }\n",
       "</style><div class='table-result-container'><table class='table-result'><thead style='background-color: white'><tr><th>path</th><th>name</th><th>size</th><th>modificationTime</th></tr></thead><tbody><tr><td>dbfs:/user/hive/warehouse/</td><td>warehouse/</td><td>0</td><td>0</td></tr></tbody></table></div>"
      ]
     },
     "metadata": {
      "application/vnd.databricks.v1+output": {
       "addedWidgets": {},
       "aggData": [],
       "aggError": "",
       "aggOverflow": false,
       "aggSchema": [],
       "aggSeriesLimitReached": false,
       "aggType": "",
       "arguments": {},
       "columnCustomDisplayInfos": {},
       "data": [
        [
         "dbfs:/user/hive/warehouse/",
         "warehouse/",
         0,
         0
        ]
       ],
       "datasetInfos": [],
       "dbfsResultPath": null,
       "isJsonSchema": true,
       "metadata": {},
       "overflow": false,
       "plotOptions": {
        "customPlotOptions": {},
        "displayType": "table",
        "pivotAggregation": null,
        "pivotColumns": null,
        "xColumns": null,
        "yColumns": null
       },
       "removedWidgets": [],
       "schema": [
        {
         "metadata": "{}",
         "name": "path",
         "type": "\"string\""
        },
        {
         "metadata": "{}",
         "name": "name",
         "type": "\"string\""
        },
        {
         "metadata": "{}",
         "name": "size",
         "type": "\"long\""
        },
        {
         "metadata": "{}",
         "name": "modificationTime",
         "type": "\"long\""
        }
       ],
       "type": "table"
      }
     },
     "output_type": "display_data"
    },
    {
     "output_type": "display_data",
     "data": {
      "text/html": [
       "<style scoped>\n",
       "  .table-result-container {\n",
       "    max-height: 300px;\n",
       "    overflow: auto;\n",
       "  }\n",
       "  table, th, td {\n",
       "    border: 1px solid black;\n",
       "    border-collapse: collapse;\n",
       "  }\n",
       "  th, td {\n",
       "    padding: 5px;\n",
       "  }\n",
       "  th {\n",
       "    text-align: left;\n",
       "  }\n",
       "</style><div class='table-result-container'><table class='table-result'><thead style='background-color: white'><tr><th>path</th><th>name</th><th>size</th><th>modificationTime</th></tr></thead><tbody><tr><td>dbfs:/user/hive/warehouse/colors/</td><td>colors/</td><td>0</td><td>0</td></tr><tr><td>dbfs:/user/hive/warehouse/customer123/</td><td>customer123/</td><td>0</td><td>0</td></tr><tr><td>dbfs:/user/hive/warehouse/customers/</td><td>customers/</td><td>0</td><td>0</td></tr><tr><td>dbfs:/user/hive/warehouse/customers01/</td><td>customers01/</td><td>0</td><td>0</td></tr><tr><td>dbfs:/user/hive/warehouse/dprt/</td><td>dprt/</td><td>0</td><td>0</td></tr><tr><td>dbfs:/user/hive/warehouse/emp/</td><td>emp/</td><td>0</td><td>0</td></tr><tr><td>dbfs:/user/hive/warehouse/emp1/</td><td>emp1/</td><td>0</td><td>0</td></tr><tr><td>dbfs:/user/hive/warehouse/empaa/</td><td>empaa/</td><td>0</td><td>0</td></tr><tr><td>dbfs:/user/hive/warehouse/empccc/</td><td>empccc/</td><td>0</td><td>0</td></tr><tr><td>dbfs:/user/hive/warehouse/empdup/</td><td>empdup/</td><td>0</td><td>0</td></tr><tr><td>dbfs:/user/hive/warehouse/empdup_bkp/</td><td>empdup_bkp/</td><td>0</td><td>0</td></tr><tr><td>dbfs:/user/hive/warehouse/employee001/</td><td>employee001/</td><td>0</td><td>0</td></tr><tr><td>dbfs:/user/hive/warehouse/employee111/</td><td>employee111/</td><td>0</td><td>0</td></tr><tr><td>dbfs:/user/hive/warehouse/employeeddd/</td><td>employeeddd/</td><td>0</td><td>0</td></tr><tr><td>dbfs:/user/hive/warehouse/employees/</td><td>employees/</td><td>0</td><td>0</td></tr><tr><td>dbfs:/user/hive/warehouse/employees_aa/</td><td>employees_aa/</td><td>0</td><td>0</td></tr><tr><td>dbfs:/user/hive/warehouse/emply/</td><td>emply/</td><td>0</td><td>0</td></tr><tr><td>dbfs:/user/hive/warehouse/empself/</td><td>empself/</td><td>0</td><td>0</td></tr><tr><td>dbfs:/user/hive/warehouse/empself1/</td><td>empself1/</td><td>0</td><td>0</td></tr><tr><td>dbfs:/user/hive/warehouse/empself2/</td><td>empself2/</td><td>0</td><td>0</td></tr><tr><td>dbfs:/user/hive/warehouse/full_load_table/</td><td>full_load_table/</td><td>0</td><td>0</td></tr><tr><td>dbfs:/user/hive/warehouse/new_load_table/</td><td>new_load_table/</td><td>0</td><td>0</td></tr><tr><td>dbfs:/user/hive/warehouse/nytrips/</td><td>nytrips/</td><td>0</td><td>0</td></tr><tr><td>dbfs:/user/hive/warehouse/orders/</td><td>orders/</td><td>0</td><td>0</td></tr><tr><td>dbfs:/user/hive/warehouse/orders123/</td><td>orders123/</td><td>0</td><td>0</td></tr><tr><td>dbfs:/user/hive/warehouse/product/</td><td>product/</td><td>0</td><td>0</td></tr><tr><td>dbfs:/user/hive/warehouse/products/</td><td>products/</td><td>0</td><td>0</td></tr><tr><td>dbfs:/user/hive/warehouse/project/</td><td>project/</td><td>0</td><td>0</td></tr><tr><td>dbfs:/user/hive/warehouse/project011/</td><td>project011/</td><td>0</td><td>0</td></tr><tr><td>dbfs:/user/hive/warehouse/sales/</td><td>sales/</td><td>0</td><td>0</td></tr><tr><td>dbfs:/user/hive/warehouse/sales1/</td><td>sales1/</td><td>0</td><td>0</td></tr><tr><td>dbfs:/user/hive/warehouse/sizes/</td><td>sizes/</td><td>0</td><td>0</td></tr><tr><td>dbfs:/user/hive/warehouse/supplier/</td><td>supplier/</td><td>0</td><td>0</td></tr><tr><td>dbfs:/user/hive/warehouse/suppliers/</td><td>suppliers/</td><td>0</td><td>0</td></tr><tr><td>dbfs:/user/hive/warehouse/tab1/</td><td>tab1/</td><td>0</td><td>0</td></tr><tr><td>dbfs:/user/hive/warehouse/tab2/</td><td>tab2/</td><td>0</td><td>0</td></tr><tr><td>dbfs:/user/hive/warehouse/table1/</td><td>table1/</td><td>0</td><td>0</td></tr><tr><td>dbfs:/user/hive/warehouse/targetnew_load_table/</td><td>targetnew_load_table/</td><td>0</td><td>0</td></tr><tr><td>dbfs:/user/hive/warehouse/tbl_1a/</td><td>tbl_1a/</td><td>0</td><td>0</td></tr><tr><td>dbfs:/user/hive/warehouse/tbl_2a/</td><td>tbl_2a/</td><td>0</td><td>0</td></tr><tr><td>dbfs:/user/hive/warehouse/tbl_a/</td><td>tbl_a/</td><td>0</td><td>0</td></tr><tr><td>dbfs:/user/hive/warehouse/tbl_a1/</td><td>tbl_a1/</td><td>0</td><td>0</td></tr><tr><td>dbfs:/user/hive/warehouse/tbl_a2/</td><td>tbl_a2/</td><td>0</td><td>0</td></tr><tr><td>dbfs:/user/hive/warehouse/tbl_aa1/</td><td>tbl_aa1/</td><td>0</td><td>0</td></tr><tr><td>dbfs:/user/hive/warehouse/tbl_aa2/</td><td>tbl_aa2/</td><td>0</td><td>0</td></tr><tr><td>dbfs:/user/hive/warehouse/tbl_aaa/</td><td>tbl_aaa/</td><td>0</td><td>0</td></tr><tr><td>dbfs:/user/hive/warehouse/tbl_aaa1/</td><td>tbl_aaa1/</td><td>0</td><td>0</td></tr><tr><td>dbfs:/user/hive/warehouse/tbl_aaa2/</td><td>tbl_aaa2/</td><td>0</td><td>0</td></tr><tr><td>dbfs:/user/hive/warehouse/tbl_aaz/</td><td>tbl_aaz/</td><td>0</td><td>0</td></tr><tr><td>dbfs:/user/hive/warehouse/tbl_b/</td><td>tbl_b/</td><td>0</td><td>0</td></tr><tr><td>dbfs:/user/hive/warehouse/tbl_bb/</td><td>tbl_bb/</td><td>0</td><td>0</td></tr><tr><td>dbfs:/user/hive/warehouse/tbl_bbb/</td><td>tbl_bbb/</td><td>0</td><td>0</td></tr><tr><td>dbfs:/user/hive/warehouse/tbl_bbz/</td><td>tbl_bbz/</td><td>0</td><td>0</td></tr><tr><td>dbfs:/user/hive/warehouse/tbl_c1/</td><td>tbl_c1/</td><td>0</td><td>0</td></tr><tr><td>dbfs:/user/hive/warehouse/tbl_c2/</td><td>tbl_c2/</td><td>0</td><td>0</td></tr><tr><td>dbfs:/user/hive/warehouse/tbl_cc1/</td><td>tbl_cc1/</td><td>0</td><td>0</td></tr><tr><td>dbfs:/user/hive/warehouse/tbl_cc2/</td><td>tbl_cc2/</td><td>0</td><td>0</td></tr><tr><td>dbfs:/user/hive/warehouse/tbl_crs_join/</td><td>tbl_crs_join/</td><td>0</td><td>0</td></tr><tr><td>dbfs:/user/hive/warehouse/tbl_crs_joins/</td><td>tbl_crs_joins/</td><td>0</td><td>0</td></tr><tr><td>dbfs:/user/hive/warehouse/tbl_q2/</td><td>tbl_q2/</td><td>0</td><td>0</td></tr><tr><td>dbfs:/user/hive/warehouse/tbl_q2_01/</td><td>tbl_q2_01/</td><td>0</td><td>0</td></tr><tr><td>dbfs:/user/hive/warehouse/tbl_q2_02/</td><td>tbl_q2_02/</td><td>0</td><td>0</td></tr><tr><td>dbfs:/user/hive/warehouse/tblemployee/</td><td>tblemployee/</td><td>0</td><td>0</td></tr><tr><td>dbfs:/user/hive/warehouse/tblemployee_doj/</td><td>tblemployee_doj/</td><td>0</td><td>0</td></tr><tr><td>dbfs:/user/hive/warehouse/tenmillionrecords/</td><td>tenmillionrecords/</td><td>0</td><td>0</td></tr><tr><td>dbfs:/user/hive/warehouse/transactions/</td><td>transactions/</td><td>0</td><td>0</td></tr><tr><td>dbfs:/user/hive/warehouse/trg_load_table/</td><td>trg_load_table/</td><td>0</td><td>0</td></tr></tbody></table></div>"
      ]
     },
     "metadata": {
      "application/vnd.databricks.v1+output": {
       "addedWidgets": {},
       "aggData": [],
       "aggError": "",
       "aggOverflow": false,
       "aggSchema": [],
       "aggSeriesLimitReached": false,
       "aggType": "",
       "arguments": {},
       "columnCustomDisplayInfos": {},
       "data": [
        [
         "dbfs:/user/hive/warehouse/colors/",
         "colors/",
         0,
         0
        ],
        [
         "dbfs:/user/hive/warehouse/customer123/",
         "customer123/",
         0,
         0
        ],
        [
         "dbfs:/user/hive/warehouse/customers/",
         "customers/",
         0,
         0
        ],
        [
         "dbfs:/user/hive/warehouse/customers01/",
         "customers01/",
         0,
         0
        ],
        [
         "dbfs:/user/hive/warehouse/dprt/",
         "dprt/",
         0,
         0
        ],
        [
         "dbfs:/user/hive/warehouse/emp/",
         "emp/",
         0,
         0
        ],
        [
         "dbfs:/user/hive/warehouse/emp1/",
         "emp1/",
         0,
         0
        ],
        [
         "dbfs:/user/hive/warehouse/empaa/",
         "empaa/",
         0,
         0
        ],
        [
         "dbfs:/user/hive/warehouse/empccc/",
         "empccc/",
         0,
         0
        ],
        [
         "dbfs:/user/hive/warehouse/empdup/",
         "empdup/",
         0,
         0
        ],
        [
         "dbfs:/user/hive/warehouse/empdup_bkp/",
         "empdup_bkp/",
         0,
         0
        ],
        [
         "dbfs:/user/hive/warehouse/employee001/",
         "employee001/",
         0,
         0
        ],
        [
         "dbfs:/user/hive/warehouse/employee111/",
         "employee111/",
         0,
         0
        ],
        [
         "dbfs:/user/hive/warehouse/employeeddd/",
         "employeeddd/",
         0,
         0
        ],
        [
         "dbfs:/user/hive/warehouse/employees/",
         "employees/",
         0,
         0
        ],
        [
         "dbfs:/user/hive/warehouse/employees_aa/",
         "employees_aa/",
         0,
         0
        ],
        [
         "dbfs:/user/hive/warehouse/emply/",
         "emply/",
         0,
         0
        ],
        [
         "dbfs:/user/hive/warehouse/empself/",
         "empself/",
         0,
         0
        ],
        [
         "dbfs:/user/hive/warehouse/empself1/",
         "empself1/",
         0,
         0
        ],
        [
         "dbfs:/user/hive/warehouse/empself2/",
         "empself2/",
         0,
         0
        ],
        [
         "dbfs:/user/hive/warehouse/full_load_table/",
         "full_load_table/",
         0,
         0
        ],
        [
         "dbfs:/user/hive/warehouse/new_load_table/",
         "new_load_table/",
         0,
         0
        ],
        [
         "dbfs:/user/hive/warehouse/nytrips/",
         "nytrips/",
         0,
         0
        ],
        [
         "dbfs:/user/hive/warehouse/orders/",
         "orders/",
         0,
         0
        ],
        [
         "dbfs:/user/hive/warehouse/orders123/",
         "orders123/",
         0,
         0
        ],
        [
         "dbfs:/user/hive/warehouse/product/",
         "product/",
         0,
         0
        ],
        [
         "dbfs:/user/hive/warehouse/products/",
         "products/",
         0,
         0
        ],
        [
         "dbfs:/user/hive/warehouse/project/",
         "project/",
         0,
         0
        ],
        [
         "dbfs:/user/hive/warehouse/project011/",
         "project011/",
         0,
         0
        ],
        [
         "dbfs:/user/hive/warehouse/sales/",
         "sales/",
         0,
         0
        ],
        [
         "dbfs:/user/hive/warehouse/sales1/",
         "sales1/",
         0,
         0
        ],
        [
         "dbfs:/user/hive/warehouse/sizes/",
         "sizes/",
         0,
         0
        ],
        [
         "dbfs:/user/hive/warehouse/supplier/",
         "supplier/",
         0,
         0
        ],
        [
         "dbfs:/user/hive/warehouse/suppliers/",
         "suppliers/",
         0,
         0
        ],
        [
         "dbfs:/user/hive/warehouse/tab1/",
         "tab1/",
         0,
         0
        ],
        [
         "dbfs:/user/hive/warehouse/tab2/",
         "tab2/",
         0,
         0
        ],
        [
         "dbfs:/user/hive/warehouse/table1/",
         "table1/",
         0,
         0
        ],
        [
         "dbfs:/user/hive/warehouse/targetnew_load_table/",
         "targetnew_load_table/",
         0,
         0
        ],
        [
         "dbfs:/user/hive/warehouse/tbl_1a/",
         "tbl_1a/",
         0,
         0
        ],
        [
         "dbfs:/user/hive/warehouse/tbl_2a/",
         "tbl_2a/",
         0,
         0
        ],
        [
         "dbfs:/user/hive/warehouse/tbl_a/",
         "tbl_a/",
         0,
         0
        ],
        [
         "dbfs:/user/hive/warehouse/tbl_a1/",
         "tbl_a1/",
         0,
         0
        ],
        [
         "dbfs:/user/hive/warehouse/tbl_a2/",
         "tbl_a2/",
         0,
         0
        ],
        [
         "dbfs:/user/hive/warehouse/tbl_aa1/",
         "tbl_aa1/",
         0,
         0
        ],
        [
         "dbfs:/user/hive/warehouse/tbl_aa2/",
         "tbl_aa2/",
         0,
         0
        ],
        [
         "dbfs:/user/hive/warehouse/tbl_aaa/",
         "tbl_aaa/",
         0,
         0
        ],
        [
         "dbfs:/user/hive/warehouse/tbl_aaa1/",
         "tbl_aaa1/",
         0,
         0
        ],
        [
         "dbfs:/user/hive/warehouse/tbl_aaa2/",
         "tbl_aaa2/",
         0,
         0
        ],
        [
         "dbfs:/user/hive/warehouse/tbl_aaz/",
         "tbl_aaz/",
         0,
         0
        ],
        [
         "dbfs:/user/hive/warehouse/tbl_b/",
         "tbl_b/",
         0,
         0
        ],
        [
         "dbfs:/user/hive/warehouse/tbl_bb/",
         "tbl_bb/",
         0,
         0
        ],
        [
         "dbfs:/user/hive/warehouse/tbl_bbb/",
         "tbl_bbb/",
         0,
         0
        ],
        [
         "dbfs:/user/hive/warehouse/tbl_bbz/",
         "tbl_bbz/",
         0,
         0
        ],
        [
         "dbfs:/user/hive/warehouse/tbl_c1/",
         "tbl_c1/",
         0,
         0
        ],
        [
         "dbfs:/user/hive/warehouse/tbl_c2/",
         "tbl_c2/",
         0,
         0
        ],
        [
         "dbfs:/user/hive/warehouse/tbl_cc1/",
         "tbl_cc1/",
         0,
         0
        ],
        [
         "dbfs:/user/hive/warehouse/tbl_cc2/",
         "tbl_cc2/",
         0,
         0
        ],
        [
         "dbfs:/user/hive/warehouse/tbl_crs_join/",
         "tbl_crs_join/",
         0,
         0
        ],
        [
         "dbfs:/user/hive/warehouse/tbl_crs_joins/",
         "tbl_crs_joins/",
         0,
         0
        ],
        [
         "dbfs:/user/hive/warehouse/tbl_q2/",
         "tbl_q2/",
         0,
         0
        ],
        [
         "dbfs:/user/hive/warehouse/tbl_q2_01/",
         "tbl_q2_01/",
         0,
         0
        ],
        [
         "dbfs:/user/hive/warehouse/tbl_q2_02/",
         "tbl_q2_02/",
         0,
         0
        ],
        [
         "dbfs:/user/hive/warehouse/tblemployee/",
         "tblemployee/",
         0,
         0
        ],
        [
         "dbfs:/user/hive/warehouse/tblemployee_doj/",
         "tblemployee_doj/",
         0,
         0
        ],
        [
         "dbfs:/user/hive/warehouse/tenmillionrecords/",
         "tenmillionrecords/",
         0,
         0
        ],
        [
         "dbfs:/user/hive/warehouse/transactions/",
         "transactions/",
         0,
         0
        ],
        [
         "dbfs:/user/hive/warehouse/trg_load_table/",
         "trg_load_table/",
         0,
         0
        ]
       ],
       "datasetInfos": [],
       "dbfsResultPath": null,
       "isJsonSchema": true,
       "metadata": {},
       "overflow": false,
       "plotOptions": {
        "customPlotOptions": {},
        "displayType": "table",
        "pivotAggregation": null,
        "pivotColumns": null,
        "xColumns": null,
        "yColumns": null
       },
       "removedWidgets": [],
       "schema": [
        {
         "metadata": "{}",
         "name": "path",
         "type": "\"string\""
        },
        {
         "metadata": "{}",
         "name": "name",
         "type": "\"string\""
        },
        {
         "metadata": "{}",
         "name": "size",
         "type": "\"long\""
        },
        {
         "metadata": "{}",
         "name": "modificationTime",
         "type": "\"long\""
        }
       ],
       "type": "table"
      }
     },
     "output_type": "display_data"
    },
    {
     "output_type": "display_data",
     "data": {
      "text/html": [
       "<style scoped>\n",
       "  .table-result-container {\n",
       "    max-height: 300px;\n",
       "    overflow: auto;\n",
       "  }\n",
       "  table, th, td {\n",
       "    border: 1px solid black;\n",
       "    border-collapse: collapse;\n",
       "  }\n",
       "  th, td {\n",
       "    padding: 5px;\n",
       "  }\n",
       "  th {\n",
       "    text-align: left;\n",
       "  }\n",
       "</style><div class='table-result-container'><table class='table-result'><thead style='background-color: white'><tr><th>path</th><th>name</th><th>size</th><th>modificationTime</th></tr></thead><tbody><tr><td>dbfs:/user/hive/warehouse/colors/_delta_log/</td><td>_delta_log/</td><td>0</td><td>0</td></tr><tr><td>dbfs:/user/hive/warehouse/colors/part-00000-acdd3d13-566a-4eb3-84cc-bb22f493dc39-c000.snappy.parquet</td><td>part-00000-acdd3d13-566a-4eb3-84cc-bb22f493dc39-c000.snappy.parquet</td><td>849</td><td>1733058806000</td></tr><tr><td>dbfs:/user/hive/warehouse/colors/part-00000-f610b855-1210-4a6d-83ef-d6069a65b35d-c000.snappy.parquet</td><td>part-00000-f610b855-1210-4a6d-83ef-d6069a65b35d-c000.snappy.parquet</td><td>849</td><td>1733066792000</td></tr></tbody></table></div>"
      ]
     },
     "metadata": {
      "application/vnd.databricks.v1+output": {
       "addedWidgets": {},
       "aggData": [],
       "aggError": "",
       "aggOverflow": false,
       "aggSchema": [],
       "aggSeriesLimitReached": false,
       "aggType": "",
       "arguments": {},
       "columnCustomDisplayInfos": {},
       "data": [
        [
         "dbfs:/user/hive/warehouse/colors/_delta_log/",
         "_delta_log/",
         0,
         0
        ],
        [
         "dbfs:/user/hive/warehouse/colors/part-00000-acdd3d13-566a-4eb3-84cc-bb22f493dc39-c000.snappy.parquet",
         "part-00000-acdd3d13-566a-4eb3-84cc-bb22f493dc39-c000.snappy.parquet",
         849,
         1733058806000
        ],
        [
         "dbfs:/user/hive/warehouse/colors/part-00000-f610b855-1210-4a6d-83ef-d6069a65b35d-c000.snappy.parquet",
         "part-00000-f610b855-1210-4a6d-83ef-d6069a65b35d-c000.snappy.parquet",
         849,
         1733066792000
        ]
       ],
       "datasetInfos": [],
       "dbfsResultPath": null,
       "isJsonSchema": true,
       "metadata": {},
       "overflow": false,
       "plotOptions": {
        "customPlotOptions": {},
        "displayType": "table",
        "pivotAggregation": null,
        "pivotColumns": null,
        "xColumns": null,
        "yColumns": null
       },
       "removedWidgets": [],
       "schema": [
        {
         "metadata": "{}",
         "name": "path",
         "type": "\"string\""
        },
        {
         "metadata": "{}",
         "name": "name",
         "type": "\"string\""
        },
        {
         "metadata": "{}",
         "name": "size",
         "type": "\"long\""
        },
        {
         "metadata": "{}",
         "name": "modificationTime",
         "type": "\"long\""
        }
       ],
       "type": "table"
      }
     },
     "output_type": "display_data"
    },
    {
     "output_type": "display_data",
     "data": {
      "text/html": [
       "<style scoped>\n",
       "  .table-result-container {\n",
       "    max-height: 300px;\n",
       "    overflow: auto;\n",
       "  }\n",
       "  table, th, td {\n",
       "    border: 1px solid black;\n",
       "    border-collapse: collapse;\n",
       "  }\n",
       "  th, td {\n",
       "    padding: 5px;\n",
       "  }\n",
       "  th {\n",
       "    text-align: left;\n",
       "  }\n",
       "</style><div class='table-result-container'><table class='table-result'><thead style='background-color: white'><tr><th>path</th><th>name</th><th>size</th><th>modificationTime</th></tr></thead><tbody><tr><td>dbfs:/user/hive/warehouse/customer123/_delta_log/</td><td>_delta_log/</td><td>0</td><td>0</td></tr><tr><td>dbfs:/user/hive/warehouse/customer123/part-00000-d13d858c-e578-48af-8336-59cfbf3e7460-c000.snappy.parquet</td><td>part-00000-d13d858c-e578-48af-8336-59cfbf3e7460-c000.snappy.parquet</td><td>1125</td><td>1736335058000</td></tr></tbody></table></div>"
      ]
     },
     "metadata": {
      "application/vnd.databricks.v1+output": {
       "addedWidgets": {},
       "aggData": [],
       "aggError": "",
       "aggOverflow": false,
       "aggSchema": [],
       "aggSeriesLimitReached": false,
       "aggType": "",
       "arguments": {},
       "columnCustomDisplayInfos": {},
       "data": [
        [
         "dbfs:/user/hive/warehouse/customer123/_delta_log/",
         "_delta_log/",
         0,
         0
        ],
        [
         "dbfs:/user/hive/warehouse/customer123/part-00000-d13d858c-e578-48af-8336-59cfbf3e7460-c000.snappy.parquet",
         "part-00000-d13d858c-e578-48af-8336-59cfbf3e7460-c000.snappy.parquet",
         1125,
         1736335058000
        ]
       ],
       "datasetInfos": [],
       "dbfsResultPath": null,
       "isJsonSchema": true,
       "metadata": {},
       "overflow": false,
       "plotOptions": {
        "customPlotOptions": {},
        "displayType": "table",
        "pivotAggregation": null,
        "pivotColumns": null,
        "xColumns": null,
        "yColumns": null
       },
       "removedWidgets": [],
       "schema": [
        {
         "metadata": "{}",
         "name": "path",
         "type": "\"string\""
        },
        {
         "metadata": "{}",
         "name": "name",
         "type": "\"string\""
        },
        {
         "metadata": "{}",
         "name": "size",
         "type": "\"long\""
        },
        {
         "metadata": "{}",
         "name": "modificationTime",
         "type": "\"long\""
        }
       ],
       "type": "table"
      }
     },
     "output_type": "display_data"
    },
    {
     "output_type": "display_data",
     "data": {
      "text/html": [
       "<style scoped>\n",
       "  .table-result-container {\n",
       "    max-height: 300px;\n",
       "    overflow: auto;\n",
       "  }\n",
       "  table, th, td {\n",
       "    border: 1px solid black;\n",
       "    border-collapse: collapse;\n",
       "  }\n",
       "  th, td {\n",
       "    padding: 5px;\n",
       "  }\n",
       "  th {\n",
       "    text-align: left;\n",
       "  }\n",
       "</style><div class='table-result-container'><table class='table-result'><thead style='background-color: white'><tr><th>path</th><th>name</th><th>size</th><th>modificationTime</th></tr></thead><tbody><tr><td>dbfs:/user/hive/warehouse/customers/_delta_log/</td><td>_delta_log/</td><td>0</td><td>0</td></tr><tr><td>dbfs:/user/hive/warehouse/customers/part-00000-10a03be8-997b-453d-afbe-1ec29001d05f-c000.snappy.parquet</td><td>part-00000-10a03be8-997b-453d-afbe-1ec29001d05f-c000.snappy.parquet</td><td>2729</td><td>1736322442000</td></tr></tbody></table></div>"
      ]
     },
     "metadata": {
      "application/vnd.databricks.v1+output": {
       "addedWidgets": {},
       "aggData": [],
       "aggError": "",
       "aggOverflow": false,
       "aggSchema": [],
       "aggSeriesLimitReached": false,
       "aggType": "",
       "arguments": {},
       "columnCustomDisplayInfos": {},
       "data": [
        [
         "dbfs:/user/hive/warehouse/customers/_delta_log/",
         "_delta_log/",
         0,
         0
        ],
        [
         "dbfs:/user/hive/warehouse/customers/part-00000-10a03be8-997b-453d-afbe-1ec29001d05f-c000.snappy.parquet",
         "part-00000-10a03be8-997b-453d-afbe-1ec29001d05f-c000.snappy.parquet",
         2729,
         1736322442000
        ]
       ],
       "datasetInfos": [],
       "dbfsResultPath": null,
       "isJsonSchema": true,
       "metadata": {},
       "overflow": false,
       "plotOptions": {
        "customPlotOptions": {},
        "displayType": "table",
        "pivotAggregation": null,
        "pivotColumns": null,
        "xColumns": null,
        "yColumns": null
       },
       "removedWidgets": [],
       "schema": [
        {
         "metadata": "{}",
         "name": "path",
         "type": "\"string\""
        },
        {
         "metadata": "{}",
         "name": "name",
         "type": "\"string\""
        },
        {
         "metadata": "{}",
         "name": "size",
         "type": "\"long\""
        },
        {
         "metadata": "{}",
         "name": "modificationTime",
         "type": "\"long\""
        }
       ],
       "type": "table"
      }
     },
     "output_type": "display_data"
    }
   ],
   "source": [
    "display(dbutils.fs.ls(\"dbfs:/user/\"))\n",
    "display(dbutils.fs.ls(\"dbfs:/user/hive/\"))\n",
    "display(dbutils.fs.ls(\"dbfs:/user/hive/warehouse/\"))\n",
    "display(dbutils.fs.ls(\"dbfs:/user/hive/warehouse/colors/\"))\n",
    "display(dbutils.fs.ls(\"dbfs:/user/hive/warehouse/customer123/\"))\n",
    "display(dbutils.fs.ls(\"dbfs:/user/hive/warehouse/customers/\"))"
   ]
  },
  {
   "cell_type": "code",
   "execution_count": 0,
   "metadata": {
    "application/vnd.databricks.v1+cell": {
     "cellMetadata": {
      "byteLimit": 2048000,
      "rowLimit": 10000
     },
     "inputWidgets": {},
     "nuid": "7b376625-9df2-4b52-a750-9777c23dc4df",
     "showTitle": false,
     "tableResultSettingsMap": {},
     "title": ""
    }
   },
   "outputs": [
    {
     "output_type": "display_data",
     "data": {
      "text/html": [
       "<style scoped>\n",
       "  .table-result-container {\n",
       "    max-height: 300px;\n",
       "    overflow: auto;\n",
       "  }\n",
       "  table, th, td {\n",
       "    border: 1px solid black;\n",
       "    border-collapse: collapse;\n",
       "  }\n",
       "  th, td {\n",
       "    padding: 5px;\n",
       "  }\n",
       "  th {\n",
       "    text-align: left;\n",
       "  }\n",
       "</style><div class='table-result-container'><table class='table-result'><thead style='background-color: white'><tr><th>path</th><th>name</th><th>size</th><th>modificationTime</th></tr></thead><tbody><tr><td>dbfs:/databricks-datasets/COVID/</td><td>COVID/</td><td>0</td><td>0</td></tr><tr><td>dbfs:/databricks-datasets/README.md</td><td>README.md</td><td>976</td><td>1532468253000</td></tr><tr><td>dbfs:/databricks-datasets/Rdatasets/</td><td>Rdatasets/</td><td>0</td><td>0</td></tr><tr><td>dbfs:/databricks-datasets/SPARK_README.md</td><td>SPARK_README.md</td><td>3359</td><td>1455043490000</td></tr><tr><td>dbfs:/databricks-datasets/adult/</td><td>adult/</td><td>0</td><td>0</td></tr><tr><td>dbfs:/databricks-datasets/airlines/</td><td>airlines/</td><td>0</td><td>0</td></tr><tr><td>dbfs:/databricks-datasets/amazon/</td><td>amazon/</td><td>0</td><td>0</td></tr><tr><td>dbfs:/databricks-datasets/asa/</td><td>asa/</td><td>0</td><td>0</td></tr><tr><td>dbfs:/databricks-datasets/atlas_higgs/</td><td>atlas_higgs/</td><td>0</td><td>0</td></tr><tr><td>dbfs:/databricks-datasets/bikeSharing/</td><td>bikeSharing/</td><td>0</td><td>0</td></tr><tr><td>dbfs:/databricks-datasets/cctvVideos/</td><td>cctvVideos/</td><td>0</td><td>0</td></tr><tr><td>dbfs:/databricks-datasets/credit-card-fraud/</td><td>credit-card-fraud/</td><td>0</td><td>0</td></tr><tr><td>dbfs:/databricks-datasets/cs100/</td><td>cs100/</td><td>0</td><td>0</td></tr><tr><td>dbfs:/databricks-datasets/cs110x/</td><td>cs110x/</td><td>0</td><td>0</td></tr><tr><td>dbfs:/databricks-datasets/cs190/</td><td>cs190/</td><td>0</td><td>0</td></tr><tr><td>dbfs:/databricks-datasets/data.gov/</td><td>data.gov/</td><td>0</td><td>0</td></tr><tr><td>dbfs:/databricks-datasets/definitive-guide/</td><td>definitive-guide/</td><td>0</td><td>0</td></tr><tr><td>dbfs:/databricks-datasets/delta-sharing/</td><td>delta-sharing/</td><td>0</td><td>0</td></tr><tr><td>dbfs:/databricks-datasets/flights/</td><td>flights/</td><td>0</td><td>0</td></tr><tr><td>dbfs:/databricks-datasets/flower_photos/</td><td>flower_photos/</td><td>0</td><td>0</td></tr><tr><td>dbfs:/databricks-datasets/flowers/</td><td>flowers/</td><td>0</td><td>0</td></tr><tr><td>dbfs:/databricks-datasets/genomics/</td><td>genomics/</td><td>0</td><td>0</td></tr><tr><td>dbfs:/databricks-datasets/hail/</td><td>hail/</td><td>0</td><td>0</td></tr><tr><td>dbfs:/databricks-datasets/identifying-campaign-effectiveness/</td><td>identifying-campaign-effectiveness/</td><td>0</td><td>0</td></tr><tr><td>dbfs:/databricks-datasets/iot/</td><td>iot/</td><td>0</td><td>0</td></tr><tr><td>dbfs:/databricks-datasets/iot-stream/</td><td>iot-stream/</td><td>0</td><td>0</td></tr><tr><td>dbfs:/databricks-datasets/learning-spark/</td><td>learning-spark/</td><td>0</td><td>0</td></tr><tr><td>dbfs:/databricks-datasets/learning-spark-v2/</td><td>learning-spark-v2/</td><td>0</td><td>0</td></tr><tr><td>dbfs:/databricks-datasets/lending-club-loan-stats/</td><td>lending-club-loan-stats/</td><td>0</td><td>0</td></tr><tr><td>dbfs:/databricks-datasets/med-images/</td><td>med-images/</td><td>0</td><td>0</td></tr><tr><td>dbfs:/databricks-datasets/media/</td><td>media/</td><td>0</td><td>0</td></tr><tr><td>dbfs:/databricks-datasets/mnist-digits/</td><td>mnist-digits/</td><td>0</td><td>0</td></tr><tr><td>dbfs:/databricks-datasets/news20.binary/</td><td>news20.binary/</td><td>0</td><td>0</td></tr><tr><td>dbfs:/databricks-datasets/nyctaxi/</td><td>nyctaxi/</td><td>0</td><td>0</td></tr><tr><td>dbfs:/databricks-datasets/nyctaxi-with-zipcodes/</td><td>nyctaxi-with-zipcodes/</td><td>0</td><td>0</td></tr><tr><td>dbfs:/databricks-datasets/online_retail/</td><td>online_retail/</td><td>0</td><td>0</td></tr><tr><td>dbfs:/databricks-datasets/overlap-join/</td><td>overlap-join/</td><td>0</td><td>0</td></tr><tr><td>dbfs:/databricks-datasets/power-plant/</td><td>power-plant/</td><td>0</td><td>0</td></tr><tr><td>dbfs:/databricks-datasets/retail-org/</td><td>retail-org/</td><td>0</td><td>0</td></tr><tr><td>dbfs:/databricks-datasets/rwe/</td><td>rwe/</td><td>0</td><td>0</td></tr><tr><td>dbfs:/databricks-datasets/sai-summit-2019-sf/</td><td>sai-summit-2019-sf/</td><td>0</td><td>0</td></tr><tr><td>dbfs:/databricks-datasets/sample_logs/</td><td>sample_logs/</td><td>0</td><td>0</td></tr><tr><td>dbfs:/databricks-datasets/samples/</td><td>samples/</td><td>0</td><td>0</td></tr><tr><td>dbfs:/databricks-datasets/sfo_customer_survey/</td><td>sfo_customer_survey/</td><td>0</td><td>0</td></tr><tr><td>dbfs:/databricks-datasets/sms_spam_collection/</td><td>sms_spam_collection/</td><td>0</td><td>0</td></tr><tr><td>dbfs:/databricks-datasets/songs/</td><td>songs/</td><td>0</td><td>0</td></tr><tr><td>dbfs:/databricks-datasets/structured-streaming/</td><td>structured-streaming/</td><td>0</td><td>0</td></tr><tr><td>dbfs:/databricks-datasets/timeseries/</td><td>timeseries/</td><td>0</td><td>0</td></tr><tr><td>dbfs:/databricks-datasets/tpch/</td><td>tpch/</td><td>0</td><td>0</td></tr><tr><td>dbfs:/databricks-datasets/travel_recommendations_realtime/</td><td>travel_recommendations_realtime/</td><td>0</td><td>0</td></tr><tr><td>dbfs:/databricks-datasets/warmup/</td><td>warmup/</td><td>0</td><td>0</td></tr><tr><td>dbfs:/databricks-datasets/weather/</td><td>weather/</td><td>0</td><td>0</td></tr><tr><td>dbfs:/databricks-datasets/wiki/</td><td>wiki/</td><td>0</td><td>0</td></tr><tr><td>dbfs:/databricks-datasets/wikipedia-datasets/</td><td>wikipedia-datasets/</td><td>0</td><td>0</td></tr><tr><td>dbfs:/databricks-datasets/wine-quality/</td><td>wine-quality/</td><td>0</td><td>0</td></tr></tbody></table></div>"
      ]
     },
     "metadata": {
      "application/vnd.databricks.v1+output": {
       "addedWidgets": {},
       "aggData": [],
       "aggError": "",
       "aggOverflow": false,
       "aggSchema": [],
       "aggSeriesLimitReached": false,
       "aggType": "",
       "arguments": {},
       "columnCustomDisplayInfos": {},
       "data": [
        [
         "dbfs:/databricks-datasets/COVID/",
         "COVID/",
         0,
         0
        ],
        [
         "dbfs:/databricks-datasets/README.md",
         "README.md",
         976,
         1532468253000
        ],
        [
         "dbfs:/databricks-datasets/Rdatasets/",
         "Rdatasets/",
         0,
         0
        ],
        [
         "dbfs:/databricks-datasets/SPARK_README.md",
         "SPARK_README.md",
         3359,
         1455043490000
        ],
        [
         "dbfs:/databricks-datasets/adult/",
         "adult/",
         0,
         0
        ],
        [
         "dbfs:/databricks-datasets/airlines/",
         "airlines/",
         0,
         0
        ],
        [
         "dbfs:/databricks-datasets/amazon/",
         "amazon/",
         0,
         0
        ],
        [
         "dbfs:/databricks-datasets/asa/",
         "asa/",
         0,
         0
        ],
        [
         "dbfs:/databricks-datasets/atlas_higgs/",
         "atlas_higgs/",
         0,
         0
        ],
        [
         "dbfs:/databricks-datasets/bikeSharing/",
         "bikeSharing/",
         0,
         0
        ],
        [
         "dbfs:/databricks-datasets/cctvVideos/",
         "cctvVideos/",
         0,
         0
        ],
        [
         "dbfs:/databricks-datasets/credit-card-fraud/",
         "credit-card-fraud/",
         0,
         0
        ],
        [
         "dbfs:/databricks-datasets/cs100/",
         "cs100/",
         0,
         0
        ],
        [
         "dbfs:/databricks-datasets/cs110x/",
         "cs110x/",
         0,
         0
        ],
        [
         "dbfs:/databricks-datasets/cs190/",
         "cs190/",
         0,
         0
        ],
        [
         "dbfs:/databricks-datasets/data.gov/",
         "data.gov/",
         0,
         0
        ],
        [
         "dbfs:/databricks-datasets/definitive-guide/",
         "definitive-guide/",
         0,
         0
        ],
        [
         "dbfs:/databricks-datasets/delta-sharing/",
         "delta-sharing/",
         0,
         0
        ],
        [
         "dbfs:/databricks-datasets/flights/",
         "flights/",
         0,
         0
        ],
        [
         "dbfs:/databricks-datasets/flower_photos/",
         "flower_photos/",
         0,
         0
        ],
        [
         "dbfs:/databricks-datasets/flowers/",
         "flowers/",
         0,
         0
        ],
        [
         "dbfs:/databricks-datasets/genomics/",
         "genomics/",
         0,
         0
        ],
        [
         "dbfs:/databricks-datasets/hail/",
         "hail/",
         0,
         0
        ],
        [
         "dbfs:/databricks-datasets/identifying-campaign-effectiveness/",
         "identifying-campaign-effectiveness/",
         0,
         0
        ],
        [
         "dbfs:/databricks-datasets/iot/",
         "iot/",
         0,
         0
        ],
        [
         "dbfs:/databricks-datasets/iot-stream/",
         "iot-stream/",
         0,
         0
        ],
        [
         "dbfs:/databricks-datasets/learning-spark/",
         "learning-spark/",
         0,
         0
        ],
        [
         "dbfs:/databricks-datasets/learning-spark-v2/",
         "learning-spark-v2/",
         0,
         0
        ],
        [
         "dbfs:/databricks-datasets/lending-club-loan-stats/",
         "lending-club-loan-stats/",
         0,
         0
        ],
        [
         "dbfs:/databricks-datasets/med-images/",
         "med-images/",
         0,
         0
        ],
        [
         "dbfs:/databricks-datasets/media/",
         "media/",
         0,
         0
        ],
        [
         "dbfs:/databricks-datasets/mnist-digits/",
         "mnist-digits/",
         0,
         0
        ],
        [
         "dbfs:/databricks-datasets/news20.binary/",
         "news20.binary/",
         0,
         0
        ],
        [
         "dbfs:/databricks-datasets/nyctaxi/",
         "nyctaxi/",
         0,
         0
        ],
        [
         "dbfs:/databricks-datasets/nyctaxi-with-zipcodes/",
         "nyctaxi-with-zipcodes/",
         0,
         0
        ],
        [
         "dbfs:/databricks-datasets/online_retail/",
         "online_retail/",
         0,
         0
        ],
        [
         "dbfs:/databricks-datasets/overlap-join/",
         "overlap-join/",
         0,
         0
        ],
        [
         "dbfs:/databricks-datasets/power-plant/",
         "power-plant/",
         0,
         0
        ],
        [
         "dbfs:/databricks-datasets/retail-org/",
         "retail-org/",
         0,
         0
        ],
        [
         "dbfs:/databricks-datasets/rwe/",
         "rwe/",
         0,
         0
        ],
        [
         "dbfs:/databricks-datasets/sai-summit-2019-sf/",
         "sai-summit-2019-sf/",
         0,
         0
        ],
        [
         "dbfs:/databricks-datasets/sample_logs/",
         "sample_logs/",
         0,
         0
        ],
        [
         "dbfs:/databricks-datasets/samples/",
         "samples/",
         0,
         0
        ],
        [
         "dbfs:/databricks-datasets/sfo_customer_survey/",
         "sfo_customer_survey/",
         0,
         0
        ],
        [
         "dbfs:/databricks-datasets/sms_spam_collection/",
         "sms_spam_collection/",
         0,
         0
        ],
        [
         "dbfs:/databricks-datasets/songs/",
         "songs/",
         0,
         0
        ],
        [
         "dbfs:/databricks-datasets/structured-streaming/",
         "structured-streaming/",
         0,
         0
        ],
        [
         "dbfs:/databricks-datasets/timeseries/",
         "timeseries/",
         0,
         0
        ],
        [
         "dbfs:/databricks-datasets/tpch/",
         "tpch/",
         0,
         0
        ],
        [
         "dbfs:/databricks-datasets/travel_recommendations_realtime/",
         "travel_recommendations_realtime/",
         0,
         0
        ],
        [
         "dbfs:/databricks-datasets/warmup/",
         "warmup/",
         0,
         0
        ],
        [
         "dbfs:/databricks-datasets/weather/",
         "weather/",
         0,
         0
        ],
        [
         "dbfs:/databricks-datasets/wiki/",
         "wiki/",
         0,
         0
        ],
        [
         "dbfs:/databricks-datasets/wikipedia-datasets/",
         "wikipedia-datasets/",
         0,
         0
        ],
        [
         "dbfs:/databricks-datasets/wine-quality/",
         "wine-quality/",
         0,
         0
        ]
       ],
       "datasetInfos": [],
       "dbfsResultPath": null,
       "isJsonSchema": true,
       "metadata": {},
       "overflow": false,
       "plotOptions": {
        "customPlotOptions": {},
        "displayType": "table",
        "pivotAggregation": null,
        "pivotColumns": null,
        "xColumns": null,
        "yColumns": null
       },
       "removedWidgets": [],
       "schema": [
        {
         "metadata": "{}",
         "name": "path",
         "type": "\"string\""
        },
        {
         "metadata": "{}",
         "name": "name",
         "type": "\"string\""
        },
        {
         "metadata": "{}",
         "name": "size",
         "type": "\"long\""
        },
        {
         "metadata": "{}",
         "name": "modificationTime",
         "type": "\"long\""
        }
       ],
       "type": "table"
      }
     },
     "output_type": "display_data"
    },
    {
     "output_type": "display_data",
     "data": {
      "text/html": [
       "<style scoped>\n",
       "  .table-result-container {\n",
       "    max-height: 300px;\n",
       "    overflow: auto;\n",
       "  }\n",
       "  table, th, td {\n",
       "    border: 1px solid black;\n",
       "    border-collapse: collapse;\n",
       "  }\n",
       "  th, td {\n",
       "    padding: 5px;\n",
       "  }\n",
       "  th {\n",
       "    text-align: left;\n",
       "  }\n",
       "</style><div class='table-result-container'><table class='table-result'><thead style='background-color: white'><tr><th>path</th><th>name</th><th>size</th><th>modificationTime</th></tr></thead><tbody><tr><td>dbfs:/databricks-datasets/bikeSharing/README.md</td><td>README.md</td><td>5016</td><td>1454554606000</td></tr><tr><td>dbfs:/databricks-datasets/bikeSharing/data-001/</td><td>data-001/</td><td>0</td><td>0</td></tr></tbody></table></div>"
      ]
     },
     "metadata": {
      "application/vnd.databricks.v1+output": {
       "addedWidgets": {},
       "aggData": [],
       "aggError": "",
       "aggOverflow": false,
       "aggSchema": [],
       "aggSeriesLimitReached": false,
       "aggType": "",
       "arguments": {},
       "columnCustomDisplayInfos": {},
       "data": [
        [
         "dbfs:/databricks-datasets/bikeSharing/README.md",
         "README.md",
         5016,
         1454554606000
        ],
        [
         "dbfs:/databricks-datasets/bikeSharing/data-001/",
         "data-001/",
         0,
         0
        ]
       ],
       "datasetInfos": [],
       "dbfsResultPath": null,
       "isJsonSchema": true,
       "metadata": {},
       "overflow": false,
       "plotOptions": {
        "customPlotOptions": {},
        "displayType": "table",
        "pivotAggregation": null,
        "pivotColumns": null,
        "xColumns": null,
        "yColumns": null
       },
       "removedWidgets": [],
       "schema": [
        {
         "metadata": "{}",
         "name": "path",
         "type": "\"string\""
        },
        {
         "metadata": "{}",
         "name": "name",
         "type": "\"string\""
        },
        {
         "metadata": "{}",
         "name": "size",
         "type": "\"long\""
        },
        {
         "metadata": "{}",
         "name": "modificationTime",
         "type": "\"long\""
        }
       ],
       "type": "table"
      }
     },
     "output_type": "display_data"
    },
    {
     "output_type": "display_data",
     "data": {
      "text/html": [
       "<style scoped>\n",
       "  .table-result-container {\n",
       "    max-height: 300px;\n",
       "    overflow: auto;\n",
       "  }\n",
       "  table, th, td {\n",
       "    border: 1px solid black;\n",
       "    border-collapse: collapse;\n",
       "  }\n",
       "  th, td {\n",
       "    padding: 5px;\n",
       "  }\n",
       "  th {\n",
       "    text-align: left;\n",
       "  }\n",
       "</style><div class='table-result-container'><table class='table-result'><thead style='background-color: white'><tr><th>path</th><th>name</th><th>size</th><th>modificationTime</th></tr></thead><tbody><tr><td>dbfs:/databricks-datasets/bikeSharing/data-001/day.csv</td><td>day.csv</td><td>57569</td><td>1454547079000</td></tr><tr><td>dbfs:/databricks-datasets/bikeSharing/data-001/hour.csv</td><td>hour.csv</td><td>1156736</td><td>1454547079000</td></tr></tbody></table></div>"
      ]
     },
     "metadata": {
      "application/vnd.databricks.v1+output": {
       "addedWidgets": {},
       "aggData": [],
       "aggError": "",
       "aggOverflow": false,
       "aggSchema": [],
       "aggSeriesLimitReached": false,
       "aggType": "",
       "arguments": {},
       "columnCustomDisplayInfos": {},
       "data": [
        [
         "dbfs:/databricks-datasets/bikeSharing/data-001/day.csv",
         "day.csv",
         57569,
         1454547079000
        ],
        [
         "dbfs:/databricks-datasets/bikeSharing/data-001/hour.csv",
         "hour.csv",
         1156736,
         1454547079000
        ]
       ],
       "datasetInfos": [],
       "dbfsResultPath": null,
       "isJsonSchema": true,
       "metadata": {},
       "overflow": false,
       "plotOptions": {
        "customPlotOptions": {},
        "displayType": "table",
        "pivotAggregation": null,
        "pivotColumns": null,
        "xColumns": null,
        "yColumns": null
       },
       "removedWidgets": [],
       "schema": [
        {
         "metadata": "{}",
         "name": "path",
         "type": "\"string\""
        },
        {
         "metadata": "{}",
         "name": "name",
         "type": "\"string\""
        },
        {
         "metadata": "{}",
         "name": "size",
         "type": "\"long\""
        },
        {
         "metadata": "{}",
         "name": "modificationTime",
         "type": "\"long\""
        }
       ],
       "type": "table"
      }
     },
     "output_type": "display_data"
    },
    {
     "output_type": "display_data",
     "data": {
      "text/html": [
       "<style scoped>\n",
       "  .table-result-container {\n",
       "    max-height: 300px;\n",
       "    overflow: auto;\n",
       "  }\n",
       "  table, th, td {\n",
       "    border: 1px solid black;\n",
       "    border-collapse: collapse;\n",
       "  }\n",
       "  th, td {\n",
       "    padding: 5px;\n",
       "  }\n",
       "  th {\n",
       "    text-align: left;\n",
       "  }\n",
       "</style><div class='table-result-container'><table class='table-result'><thead style='background-color: white'><tr><th>path</th><th>name</th><th>size</th><th>modificationTime</th></tr></thead><tbody><tr><td>dbfs:/databricks-datasets/airlines/README.md</td><td>README.md</td><td>1089</td><td>1454697889000</td></tr><tr><td>dbfs:/databricks-datasets/airlines/_SUCCESS</td><td>_SUCCESS</td><td>0</td><td>1436493184000</td></tr><tr><td>dbfs:/databricks-datasets/airlines/part-00000</td><td>part-00000</td><td>67108879</td><td>1436493184000</td></tr><tr><td>dbfs:/databricks-datasets/airlines/part-00001</td><td>part-00001</td><td>67108862</td><td>1436493185000</td></tr><tr><td>dbfs:/databricks-datasets/airlines/part-00002</td><td>part-00002</td><td>67108930</td><td>1436493185000</td></tr><tr><td>dbfs:/databricks-datasets/airlines/part-00003</td><td>part-00003</td><td>67108804</td><td>1436493186000</td></tr><tr><td>dbfs:/databricks-datasets/airlines/part-00004</td><td>part-00004</td><td>67108908</td><td>1436493186000</td></tr><tr><td>dbfs:/databricks-datasets/airlines/part-00005</td><td>part-00005</td><td>67108890</td><td>1436493187000</td></tr><tr><td>dbfs:/databricks-datasets/airlines/part-00006</td><td>part-00006</td><td>67108825</td><td>1436493187000</td></tr><tr><td>dbfs:/databricks-datasets/airlines/part-00007</td><td>part-00007</td><td>67108880</td><td>1436493187000</td></tr><tr><td>dbfs:/databricks-datasets/airlines/part-00008</td><td>part-00008</td><td>67108832</td><td>1436493188000</td></tr><tr><td>dbfs:/databricks-datasets/airlines/part-00009</td><td>part-00009</td><td>67108857</td><td>1436493188000</td></tr><tr><td>dbfs:/databricks-datasets/airlines/part-00010</td><td>part-00010</td><td>67108931</td><td>1436493189000</td></tr><tr><td>dbfs:/databricks-datasets/airlines/part-00011</td><td>part-00011</td><td>67108872</td><td>1436493189000</td></tr><tr><td>dbfs:/databricks-datasets/airlines/part-00012</td><td>part-00012</td><td>67108791</td><td>1436493189000</td></tr><tr><td>dbfs:/databricks-datasets/airlines/part-00013</td><td>part-00013</td><td>67108856</td><td>1436493190000</td></tr><tr><td>dbfs:/databricks-datasets/airlines/part-00014</td><td>part-00014</td><td>67108855</td><td>1436493190000</td></tr><tr><td>dbfs:/databricks-datasets/airlines/part-00015</td><td>part-00015</td><td>67108875</td><td>1436493191000</td></tr><tr><td>dbfs:/databricks-datasets/airlines/part-00016</td><td>part-00016</td><td>67108898</td><td>1436493191000</td></tr><tr><td>dbfs:/databricks-datasets/airlines/part-00017</td><td>part-00017</td><td>67108873</td><td>1436493191000</td></tr><tr><td>dbfs:/databricks-datasets/airlines/part-00018</td><td>part-00018</td><td>67108881</td><td>1436493192000</td></tr><tr><td>dbfs:/databricks-datasets/airlines/part-00019</td><td>part-00019</td><td>67108829</td><td>1436493192000</td></tr><tr><td>dbfs:/databricks-datasets/airlines/part-00020</td><td>part-00020</td><td>67108863</td><td>1436493193000</td></tr><tr><td>dbfs:/databricks-datasets/airlines/part-00021</td><td>part-00021</td><td>67108868</td><td>1436493193000</td></tr><tr><td>dbfs:/databricks-datasets/airlines/part-00022</td><td>part-00022</td><td>67108827</td><td>1436493193000</td></tr><tr><td>dbfs:/databricks-datasets/airlines/part-00023</td><td>part-00023</td><td>67108926</td><td>1436493194000</td></tr><tr><td>dbfs:/databricks-datasets/airlines/part-00024</td><td>part-00024</td><td>67108885</td><td>1436493194000</td></tr><tr><td>dbfs:/databricks-datasets/airlines/part-00025</td><td>part-00025</td><td>67108843</td><td>1436493195000</td></tr><tr><td>dbfs:/databricks-datasets/airlines/part-00026</td><td>part-00026</td><td>67108837</td><td>1436493195000</td></tr><tr><td>dbfs:/databricks-datasets/airlines/part-00027</td><td>part-00027</td><td>67108911</td><td>1436493195000</td></tr><tr><td>dbfs:/databricks-datasets/airlines/part-00028</td><td>part-00028</td><td>67108776</td><td>1436493196000</td></tr><tr><td>dbfs:/databricks-datasets/airlines/part-00029</td><td>part-00029</td><td>67108929</td><td>1436493196000</td></tr><tr><td>dbfs:/databricks-datasets/airlines/part-00030</td><td>part-00030</td><td>67108839</td><td>1436493197000</td></tr><tr><td>dbfs:/databricks-datasets/airlines/part-00031</td><td>part-00031</td><td>67108867</td><td>1436493197000</td></tr><tr><td>dbfs:/databricks-datasets/airlines/part-00032</td><td>part-00032</td><td>67108865</td><td>1436493197000</td></tr><tr><td>dbfs:/databricks-datasets/airlines/part-00033</td><td>part-00033</td><td>67108864</td><td>1436493198000</td></tr><tr><td>dbfs:/databricks-datasets/airlines/part-00034</td><td>part-00034</td><td>67108854</td><td>1436493198000</td></tr><tr><td>dbfs:/databricks-datasets/airlines/part-00035</td><td>part-00035</td><td>67108878</td><td>1436493199000</td></tr><tr><td>dbfs:/databricks-datasets/airlines/part-00036</td><td>part-00036</td><td>67108847</td><td>1436493199000</td></tr><tr><td>dbfs:/databricks-datasets/airlines/part-00037</td><td>part-00037</td><td>67108895</td><td>1436493200000</td></tr><tr><td>dbfs:/databricks-datasets/airlines/part-00038</td><td>part-00038</td><td>67108885</td><td>1436493200000</td></tr><tr><td>dbfs:/databricks-datasets/airlines/part-00039</td><td>part-00039</td><td>67108791</td><td>1436493201000</td></tr><tr><td>dbfs:/databricks-datasets/airlines/part-00040</td><td>part-00040</td><td>67108856</td><td>1436493201000</td></tr><tr><td>dbfs:/databricks-datasets/airlines/part-00041</td><td>part-00041</td><td>67108917</td><td>1436493202000</td></tr><tr><td>dbfs:/databricks-datasets/airlines/part-00042</td><td>part-00042</td><td>67108862</td><td>1436493202000</td></tr><tr><td>dbfs:/databricks-datasets/airlines/part-00043</td><td>part-00043</td><td>67108881</td><td>1436493203000</td></tr><tr><td>dbfs:/databricks-datasets/airlines/part-00044</td><td>part-00044</td><td>67108840</td><td>1436493203000</td></tr><tr><td>dbfs:/databricks-datasets/airlines/part-00045</td><td>part-00045</td><td>67108854</td><td>1436493204000</td></tr><tr><td>dbfs:/databricks-datasets/airlines/part-00046</td><td>part-00046</td><td>67108826</td><td>1436493204000</td></tr><tr><td>dbfs:/databricks-datasets/airlines/part-00047</td><td>part-00047</td><td>67108941</td><td>1436493205000</td></tr><tr><td>dbfs:/databricks-datasets/airlines/part-00048</td><td>part-00048</td><td>67108820</td><td>1436493205000</td></tr><tr><td>dbfs:/databricks-datasets/airlines/part-00049</td><td>part-00049</td><td>67108841</td><td>1436493206000</td></tr><tr><td>dbfs:/databricks-datasets/airlines/part-00050</td><td>part-00050</td><td>67108950</td><td>1436493206000</td></tr><tr><td>dbfs:/databricks-datasets/airlines/part-00051</td><td>part-00051</td><td>67108855</td><td>1436493207000</td></tr><tr><td>dbfs:/databricks-datasets/airlines/part-00052</td><td>part-00052</td><td>67108774</td><td>1436493207000</td></tr><tr><td>dbfs:/databricks-datasets/airlines/part-00053</td><td>part-00053</td><td>67108878</td><td>1436493207000</td></tr><tr><td>dbfs:/databricks-datasets/airlines/part-00054</td><td>part-00054</td><td>67108853</td><td>1436493208000</td></tr><tr><td>dbfs:/databricks-datasets/airlines/part-00055</td><td>part-00055</td><td>67108874</td><td>1436493208000</td></tr><tr><td>dbfs:/databricks-datasets/airlines/part-00056</td><td>part-00056</td><td>67108907</td><td>1436493209000</td></tr><tr><td>dbfs:/databricks-datasets/airlines/part-00057</td><td>part-00057</td><td>67108839</td><td>1436493209000</td></tr><tr><td>dbfs:/databricks-datasets/airlines/part-00058</td><td>part-00058</td><td>67108936</td><td>1436493210000</td></tr><tr><td>dbfs:/databricks-datasets/airlines/part-00059</td><td>part-00059</td><td>67108850</td><td>1436493210000</td></tr><tr><td>dbfs:/databricks-datasets/airlines/part-00060</td><td>part-00060</td><td>67108809</td><td>1436493211000</td></tr><tr><td>dbfs:/databricks-datasets/airlines/part-00061</td><td>part-00061</td><td>67108882</td><td>1436493211000</td></tr><tr><td>dbfs:/databricks-datasets/airlines/part-00062</td><td>part-00062</td><td>67108852</td><td>1436493212000</td></tr><tr><td>dbfs:/databricks-datasets/airlines/part-00063</td><td>part-00063</td><td>67108829</td><td>1436493212000</td></tr><tr><td>dbfs:/databricks-datasets/airlines/part-00064</td><td>part-00064</td><td>67108864</td><td>1436493213000</td></tr><tr><td>dbfs:/databricks-datasets/airlines/part-00065</td><td>part-00065</td><td>67108938</td><td>1436493213000</td></tr><tr><td>dbfs:/databricks-datasets/airlines/part-00066</td><td>part-00066</td><td>67108815</td><td>1436493213000</td></tr><tr><td>dbfs:/databricks-datasets/airlines/part-00067</td><td>part-00067</td><td>67108876</td><td>1436493214000</td></tr><tr><td>dbfs:/databricks-datasets/airlines/part-00068</td><td>part-00068</td><td>67108847</td><td>1436493214000</td></tr><tr><td>dbfs:/databricks-datasets/airlines/part-00069</td><td>part-00069</td><td>67108925</td><td>1436493215000</td></tr><tr><td>dbfs:/databricks-datasets/airlines/part-00070</td><td>part-00070</td><td>67108802</td><td>1436493215000</td></tr><tr><td>dbfs:/databricks-datasets/airlines/part-00071</td><td>part-00071</td><td>67108923</td><td>1436493215000</td></tr><tr><td>dbfs:/databricks-datasets/airlines/part-00072</td><td>part-00072</td><td>67108848</td><td>1436493216000</td></tr><tr><td>dbfs:/databricks-datasets/airlines/part-00073</td><td>part-00073</td><td>67108891</td><td>1436493216000</td></tr><tr><td>dbfs:/databricks-datasets/airlines/part-00074</td><td>part-00074</td><td>67108785</td><td>1436493216000</td></tr><tr><td>dbfs:/databricks-datasets/airlines/part-00075</td><td>part-00075</td><td>67108860</td><td>1436493217000</td></tr><tr><td>dbfs:/databricks-datasets/airlines/part-00076</td><td>part-00076</td><td>67108885</td><td>1436493217000</td></tr><tr><td>dbfs:/databricks-datasets/airlines/part-00077</td><td>part-00077</td><td>67108867</td><td>1436493218000</td></tr><tr><td>dbfs:/databricks-datasets/airlines/part-00078</td><td>part-00078</td><td>67108929</td><td>1436493218000</td></tr><tr><td>dbfs:/databricks-datasets/airlines/part-00079</td><td>part-00079</td><td>67108764</td><td>1436493218000</td></tr><tr><td>dbfs:/databricks-datasets/airlines/part-00080</td><td>part-00080</td><td>67108944</td><td>1436493219000</td></tr><tr><td>dbfs:/databricks-datasets/airlines/part-00081</td><td>part-00081</td><td>67108849</td><td>1436493219000</td></tr><tr><td>dbfs:/databricks-datasets/airlines/part-00082</td><td>part-00082</td><td>67108835</td><td>1436493220000</td></tr><tr><td>dbfs:/databricks-datasets/airlines/part-00083</td><td>part-00083</td><td>67108874</td><td>1436493220000</td></tr><tr><td>dbfs:/databricks-datasets/airlines/part-00084</td><td>part-00084</td><td>67108900</td><td>1436493220000</td></tr><tr><td>dbfs:/databricks-datasets/airlines/part-00085</td><td>part-00085</td><td>67108832</td><td>1436493221000</td></tr><tr><td>dbfs:/databricks-datasets/airlines/part-00086</td><td>part-00086</td><td>67108888</td><td>1436493221000</td></tr><tr><td>dbfs:/databricks-datasets/airlines/part-00087</td><td>part-00087</td><td>67108835</td><td>1436493222000</td></tr><tr><td>dbfs:/databricks-datasets/airlines/part-00088</td><td>part-00088</td><td>67108835</td><td>1436493222000</td></tr><tr><td>dbfs:/databricks-datasets/airlines/part-00089</td><td>part-00089</td><td>67108879</td><td>1436493222000</td></tr><tr><td>dbfs:/databricks-datasets/airlines/part-00090</td><td>part-00090</td><td>67108918</td><td>1436493223000</td></tr><tr><td>dbfs:/databricks-datasets/airlines/part-00091</td><td>part-00091</td><td>67108830</td><td>1436493223000</td></tr><tr><td>dbfs:/databricks-datasets/airlines/part-00092</td><td>part-00092</td><td>67108826</td><td>1436493223000</td></tr><tr><td>dbfs:/databricks-datasets/airlines/part-00093</td><td>part-00093</td><td>67108954</td><td>1436493224000</td></tr><tr><td>dbfs:/databricks-datasets/airlines/part-00094</td><td>part-00094</td><td>67108786</td><td>1436493224000</td></tr><tr><td>dbfs:/databricks-datasets/airlines/part-00095</td><td>part-00095</td><td>67108919</td><td>1436493225000</td></tr><tr><td>dbfs:/databricks-datasets/airlines/part-00096</td><td>part-00096</td><td>67108820</td><td>1436493225000</td></tr><tr><td>dbfs:/databricks-datasets/airlines/part-00097</td><td>part-00097</td><td>67108864</td><td>1436493225000</td></tr><tr><td>dbfs:/databricks-datasets/airlines/part-00098</td><td>part-00098</td><td>67108886</td><td>1436493226000</td></tr><tr><td>dbfs:/databricks-datasets/airlines/part-00099</td><td>part-00099</td><td>67108833</td><td>1436493226000</td></tr><tr><td>dbfs:/databricks-datasets/airlines/part-00100</td><td>part-00100</td><td>67108879</td><td>1436493227000</td></tr><tr><td>dbfs:/databricks-datasets/airlines/part-00101</td><td>part-00101</td><td>67108845</td><td>1436493227000</td></tr><tr><td>dbfs:/databricks-datasets/airlines/part-00102</td><td>part-00102</td><td>67108940</td><td>1436493227000</td></tr><tr><td>dbfs:/databricks-datasets/airlines/part-00103</td><td>part-00103</td><td>67108789</td><td>1436493228000</td></tr><tr><td>dbfs:/databricks-datasets/airlines/part-00104</td><td>part-00104</td><td>67108847</td><td>1436493228000</td></tr><tr><td>dbfs:/databricks-datasets/airlines/part-00105</td><td>part-00105</td><td>67108902</td><td>1436493228000</td></tr><tr><td>dbfs:/databricks-datasets/airlines/part-00106</td><td>part-00106</td><td>67108863</td><td>1436493229000</td></tr><tr><td>dbfs:/databricks-datasets/airlines/part-00107</td><td>part-00107</td><td>67108862</td><td>1436493229000</td></tr><tr><td>dbfs:/databricks-datasets/airlines/part-00108</td><td>part-00108</td><td>67108845</td><td>1436493230000</td></tr><tr><td>dbfs:/databricks-datasets/airlines/part-00109</td><td>part-00109</td><td>67560179</td><td>1436493230000</td></tr><tr><td>dbfs:/databricks-datasets/airlines/part-00110</td><td>part-00110</td><td>67776993</td><td>1436493231000</td></tr><tr><td>dbfs:/databricks-datasets/airlines/part-00111</td><td>part-00111</td><td>67780358</td><td>1436493231000</td></tr><tr><td>dbfs:/databricks-datasets/airlines/part-00112</td><td>part-00112</td><td>67876218</td><td>1436493232000</td></tr><tr><td>dbfs:/databricks-datasets/airlines/part-00113</td><td>part-00113</td><td>67803953</td><td>1436493232000</td></tr><tr><td>dbfs:/databricks-datasets/airlines/part-00114</td><td>part-00114</td><td>67912915</td><td>1436493232000</td></tr><tr><td>dbfs:/databricks-datasets/airlines/part-00115</td><td>part-00115</td><td>67779472</td><td>1436493233000</td></tr><tr><td>dbfs:/databricks-datasets/airlines/part-00116</td><td>part-00116</td><td>67928061</td><td>1436493233000</td></tr><tr><td>dbfs:/databricks-datasets/airlines/part-00117</td><td>part-00117</td><td>67758334</td><td>1436493233000</td></tr><tr><td>dbfs:/databricks-datasets/airlines/part-00118</td><td>part-00118</td><td>67880129</td><td>1436493234000</td></tr><tr><td>dbfs:/databricks-datasets/airlines/part-00119</td><td>part-00119</td><td>67699357</td><td>1436493234000</td></tr><tr><td>dbfs:/databricks-datasets/airlines/part-00120</td><td>part-00120</td><td>67493959</td><td>1436493234000</td></tr><tr><td>dbfs:/databricks-datasets/airlines/part-00121</td><td>part-00121</td><td>67108916</td><td>1436493235000</td></tr><tr><td>dbfs:/databricks-datasets/airlines/part-00122</td><td>part-00122</td><td>67108850</td><td>1436493235000</td></tr><tr><td>dbfs:/databricks-datasets/airlines/part-00123</td><td>part-00123</td><td>67108895</td><td>1436493236000</td></tr><tr><td>dbfs:/databricks-datasets/airlines/part-00124</td><td>part-00124</td><td>67108848</td><td>1436493236000</td></tr><tr><td>dbfs:/databricks-datasets/airlines/part-00125</td><td>part-00125</td><td>67108893</td><td>1436493236000</td></tr><tr><td>dbfs:/databricks-datasets/airlines/part-00126</td><td>part-00126</td><td>67108834</td><td>1436493237000</td></tr><tr><td>dbfs:/databricks-datasets/airlines/part-00127</td><td>part-00127</td><td>67108857</td><td>1436493237000</td></tr><tr><td>dbfs:/databricks-datasets/airlines/part-00128</td><td>part-00128</td><td>67108826</td><td>1436493238000</td></tr><tr><td>dbfs:/databricks-datasets/airlines/part-00129</td><td>part-00129</td><td>67108852</td><td>1436493238000</td></tr><tr><td>dbfs:/databricks-datasets/airlines/part-00130</td><td>part-00130</td><td>67108883</td><td>1436493238000</td></tr><tr><td>dbfs:/databricks-datasets/airlines/part-00131</td><td>part-00131</td><td>67108852</td><td>1436493239000</td></tr><tr><td>dbfs:/databricks-datasets/airlines/part-00132</td><td>part-00132</td><td>67108939</td><td>1436493239000</td></tr><tr><td>dbfs:/databricks-datasets/airlines/part-00133</td><td>part-00133</td><td>67108833</td><td>1436493240000</td></tr><tr><td>dbfs:/databricks-datasets/airlines/part-00134</td><td>part-00134</td><td>67108864</td><td>1436493240000</td></tr><tr><td>dbfs:/databricks-datasets/airlines/part-00135</td><td>part-00135</td><td>67108821</td><td>1436493240000</td></tr><tr><td>dbfs:/databricks-datasets/airlines/part-00136</td><td>part-00136</td><td>67108919</td><td>1436493241000</td></tr><tr><td>dbfs:/databricks-datasets/airlines/part-00137</td><td>part-00137</td><td>67108861</td><td>1436493241000</td></tr><tr><td>dbfs:/databricks-datasets/airlines/part-00138</td><td>part-00138</td><td>67108855</td><td>1436493242000</td></tr><tr><td>dbfs:/databricks-datasets/airlines/part-00139</td><td>part-00139</td><td>67108841</td><td>1436493242000</td></tr><tr><td>dbfs:/databricks-datasets/airlines/part-00140</td><td>part-00140</td><td>67108891</td><td>1436493242000</td></tr><tr><td>dbfs:/databricks-datasets/airlines/part-00141</td><td>part-00141</td><td>67108817</td><td>1436493243000</td></tr><tr><td>dbfs:/databricks-datasets/airlines/part-00142</td><td>part-00142</td><td>67108929</td><td>1436493243000</td></tr><tr><td>dbfs:/databricks-datasets/airlines/part-00143</td><td>part-00143</td><td>67108819</td><td>1436493243000</td></tr><tr><td>dbfs:/databricks-datasets/airlines/part-00144</td><td>part-00144</td><td>67108917</td><td>1436493244000</td></tr><tr><td>dbfs:/databricks-datasets/airlines/part-00145</td><td>part-00145</td><td>67108852</td><td>1436493244000</td></tr><tr><td>dbfs:/databricks-datasets/airlines/part-00146</td><td>part-00146</td><td>67108839</td><td>1436493245000</td></tr><tr><td>dbfs:/databricks-datasets/airlines/part-00147</td><td>part-00147</td><td>67108859</td><td>1436493245000</td></tr><tr><td>dbfs:/databricks-datasets/airlines/part-00148</td><td>part-00148</td><td>67108910</td><td>1436493246000</td></tr><tr><td>dbfs:/databricks-datasets/airlines/part-00149</td><td>part-00149</td><td>67108799</td><td>1436493246000</td></tr><tr><td>dbfs:/databricks-datasets/airlines/part-00150</td><td>part-00150</td><td>67108835</td><td>1436493247000</td></tr><tr><td>dbfs:/databricks-datasets/airlines/part-00151</td><td>part-00151</td><td>67108876</td><td>1436493247000</td></tr><tr><td>dbfs:/databricks-datasets/airlines/part-00152</td><td>part-00152</td><td>67108922</td><td>1436493247000</td></tr><tr><td>dbfs:/databricks-datasets/airlines/part-00153</td><td>part-00153</td><td>67108813</td><td>1436493248000</td></tr><tr><td>dbfs:/databricks-datasets/airlines/part-00154</td><td>part-00154</td><td>67108888</td><td>1436493248000</td></tr><tr><td>dbfs:/databricks-datasets/airlines/part-00155</td><td>part-00155</td><td>67108882</td><td>1436493249000</td></tr><tr><td>dbfs:/databricks-datasets/airlines/part-00156</td><td>part-00156</td><td>67108802</td><td>1436493249000</td></tr><tr><td>dbfs:/databricks-datasets/airlines/part-00157</td><td>part-00157</td><td>67108867</td><td>1436493249000</td></tr><tr><td>dbfs:/databricks-datasets/airlines/part-00158</td><td>part-00158</td><td>67108900</td><td>1436493250000</td></tr><tr><td>dbfs:/databricks-datasets/airlines/part-00159</td><td>part-00159</td><td>67108881</td><td>1436493250000</td></tr><tr><td>dbfs:/databricks-datasets/airlines/part-00160</td><td>part-00160</td><td>67108835</td><td>1436493251000</td></tr><tr><td>dbfs:/databricks-datasets/airlines/part-00161</td><td>part-00161</td><td>67108873</td><td>1436493251000</td></tr><tr><td>dbfs:/databricks-datasets/airlines/part-00162</td><td>part-00162</td><td>67108840</td><td>1436493251000</td></tr><tr><td>dbfs:/databricks-datasets/airlines/part-00163</td><td>part-00163</td><td>67108881</td><td>1436493252000</td></tr><tr><td>dbfs:/databricks-datasets/airlines/part-00164</td><td>part-00164</td><td>67108903</td><td>1436493252000</td></tr><tr><td>dbfs:/databricks-datasets/airlines/part-00165</td><td>part-00165</td><td>67108844</td><td>1436493253000</td></tr><tr><td>dbfs:/databricks-datasets/airlines/part-00166</td><td>part-00166</td><td>67108814</td><td>1436493253000</td></tr><tr><td>dbfs:/databricks-datasets/airlines/part-00167</td><td>part-00167</td><td>67108955</td><td>1436493253000</td></tr><tr><td>dbfs:/databricks-datasets/airlines/part-00168</td><td>part-00168</td><td>67108844</td><td>1436493254000</td></tr><tr><td>dbfs:/databricks-datasets/airlines/part-00169</td><td>part-00169</td><td>67108802</td><td>1436493254000</td></tr><tr><td>dbfs:/databricks-datasets/airlines/part-00170</td><td>part-00170</td><td>67108885</td><td>1436493254000</td></tr><tr><td>dbfs:/databricks-datasets/airlines/part-00171</td><td>part-00171</td><td>67108870</td><td>1436493255000</td></tr><tr><td>dbfs:/databricks-datasets/airlines/part-00172</td><td>part-00172</td><td>67108880</td><td>1436493255000</td></tr><tr><td>dbfs:/databricks-datasets/airlines/part-00173</td><td>part-00173</td><td>67108846</td><td>1436493256000</td></tr><tr><td>dbfs:/databricks-datasets/airlines/part-00174</td><td>part-00174</td><td>67108901</td><td>1436493256000</td></tr><tr><td>dbfs:/databricks-datasets/airlines/part-00175</td><td>part-00175</td><td>67108817</td><td>1436493257000</td></tr><tr><td>dbfs:/databricks-datasets/airlines/part-00176</td><td>part-00176</td><td>67108876</td><td>1436493257000</td></tr><tr><td>dbfs:/databricks-datasets/airlines/part-00177</td><td>part-00177</td><td>67108910</td><td>1436493258000</td></tr><tr><td>dbfs:/databricks-datasets/airlines/part-00178</td><td>part-00178</td><td>67108807</td><td>1436493258000</td></tr><tr><td>dbfs:/databricks-datasets/airlines/part-00179</td><td>part-00179</td><td>67108857</td><td>1436493259000</td></tr><tr><td>dbfs:/databricks-datasets/airlines/part-00180</td><td>part-00180</td><td>67108935</td><td>1436493259000</td></tr><tr><td>dbfs:/databricks-datasets/airlines/part-00181</td><td>part-00181</td><td>67108817</td><td>1436493260000</td></tr><tr><td>dbfs:/databricks-datasets/airlines/part-00182</td><td>part-00182</td><td>67108893</td><td>1436493260000</td></tr><tr><td>dbfs:/databricks-datasets/airlines/part-00183</td><td>part-00183</td><td>67108898</td><td>1436493261000</td></tr><tr><td>dbfs:/databricks-datasets/airlines/part-00184</td><td>part-00184</td><td>67108831</td><td>1436493261000</td></tr><tr><td>dbfs:/databricks-datasets/airlines/part-00185</td><td>part-00185</td><td>67108857</td><td>1436493262000</td></tr><tr><td>dbfs:/databricks-datasets/airlines/part-00186</td><td>part-00186</td><td>67108843</td><td>1436493262000</td></tr><tr><td>dbfs:/databricks-datasets/airlines/part-00187</td><td>part-00187</td><td>67108909</td><td>1436493263000</td></tr><tr><td>dbfs:/databricks-datasets/airlines/part-00188</td><td>part-00188</td><td>67108806</td><td>1436493263000</td></tr><tr><td>dbfs:/databricks-datasets/airlines/part-00189</td><td>part-00189</td><td>67108911</td><td>1436493264000</td></tr><tr><td>dbfs:/databricks-datasets/airlines/part-00190</td><td>part-00190</td><td>67108831</td><td>1436493264000</td></tr><tr><td>dbfs:/databricks-datasets/airlines/part-00191</td><td>part-00191</td><td>67108899</td><td>1436493265000</td></tr><tr><td>dbfs:/databricks-datasets/airlines/part-00192</td><td>part-00192</td><td>67108869</td><td>1436493265000</td></tr><tr><td>dbfs:/databricks-datasets/airlines/part-00193</td><td>part-00193</td><td>67108810</td><td>1436493266000</td></tr><tr><td>dbfs:/databricks-datasets/airlines/part-00194</td><td>part-00194</td><td>67108837</td><td>1436493266000</td></tr><tr><td>dbfs:/databricks-datasets/airlines/part-00195</td><td>part-00195</td><td>67108930</td><td>1436493267000</td></tr><tr><td>dbfs:/databricks-datasets/airlines/part-00196</td><td>part-00196</td><td>67108837</td><td>1436493267000</td></tr><tr><td>dbfs:/databricks-datasets/airlines/part-00197</td><td>part-00197</td><td>67108822</td><td>1436493268000</td></tr><tr><td>dbfs:/databricks-datasets/airlines/part-00198</td><td>part-00198</td><td>67108881</td><td>1436493268000</td></tr><tr><td>dbfs:/databricks-datasets/airlines/part-00199</td><td>part-00199</td><td>67108897</td><td>1436493269000</td></tr><tr><td>dbfs:/databricks-datasets/airlines/part-00200</td><td>part-00200</td><td>67108911</td><td>1436493269000</td></tr><tr><td>dbfs:/databricks-datasets/airlines/part-00201</td><td>part-00201</td><td>67108848</td><td>1436493270000</td></tr><tr><td>dbfs:/databricks-datasets/airlines/part-00202</td><td>part-00202</td><td>67108846</td><td>1436493270000</td></tr><tr><td>dbfs:/databricks-datasets/airlines/part-00203</td><td>part-00203</td><td>67108888</td><td>1436493270000</td></tr><tr><td>dbfs:/databricks-datasets/airlines/part-00204</td><td>part-00204</td><td>67108837</td><td>1436493271000</td></tr><tr><td>dbfs:/databricks-datasets/airlines/part-00205</td><td>part-00205</td><td>67108827</td><td>1436493271000</td></tr><tr><td>dbfs:/databricks-datasets/airlines/part-00206</td><td>part-00206</td><td>67108840</td><td>1436493272000</td></tr><tr><td>dbfs:/databricks-datasets/airlines/part-00207</td><td>part-00207</td><td>67108920</td><td>1436493272000</td></tr><tr><td>dbfs:/databricks-datasets/airlines/part-00208</td><td>part-00208</td><td>67108899</td><td>1436493272000</td></tr><tr><td>dbfs:/databricks-datasets/airlines/part-00209</td><td>part-00209</td><td>67108795</td><td>1436493273000</td></tr><tr><td>dbfs:/databricks-datasets/airlines/part-00210</td><td>part-00210</td><td>67108880</td><td>1436493273000</td></tr><tr><td>dbfs:/databricks-datasets/airlines/part-00211</td><td>part-00211</td><td>67108866</td><td>1436493274000</td></tr><tr><td>dbfs:/databricks-datasets/airlines/part-00212</td><td>part-00212</td><td>67108865</td><td>1436493274000</td></tr><tr><td>dbfs:/databricks-datasets/airlines/part-00213</td><td>part-00213</td><td>67108848</td><td>1436493275000</td></tr><tr><td>dbfs:/databricks-datasets/airlines/part-00214</td><td>part-00214</td><td>67108888</td><td>1436493275000</td></tr><tr><td>dbfs:/databricks-datasets/airlines/part-00215</td><td>part-00215</td><td>67108857</td><td>1436493275000</td></tr><tr><td>dbfs:/databricks-datasets/airlines/part-00216</td><td>part-00216</td><td>67108908</td><td>1436493276000</td></tr><tr><td>dbfs:/databricks-datasets/airlines/part-00217</td><td>part-00217</td><td>67108877</td><td>1436493276000</td></tr><tr><td>dbfs:/databricks-datasets/airlines/part-00218</td><td>part-00218</td><td>67108766</td><td>1436493276000</td></tr><tr><td>dbfs:/databricks-datasets/airlines/part-00219</td><td>part-00219</td><td>67108885</td><td>1436493277000</td></tr><tr><td>dbfs:/databricks-datasets/airlines/part-00220</td><td>part-00220</td><td>67108904</td><td>1436493277000</td></tr><tr><td>dbfs:/databricks-datasets/airlines/part-00221</td><td>part-00221</td><td>67108879</td><td>1436493278000</td></tr><tr><td>dbfs:/databricks-datasets/airlines/part-00222</td><td>part-00222</td><td>67108889</td><td>1436493278000</td></tr><tr><td>dbfs:/databricks-datasets/airlines/part-00223</td><td>part-00223</td><td>67108822</td><td>1436493279000</td></tr><tr><td>dbfs:/databricks-datasets/airlines/part-00224</td><td>part-00224</td><td>67108867</td><td>1436493279000</td></tr><tr><td>dbfs:/databricks-datasets/airlines/part-00225</td><td>part-00225</td><td>67108861</td><td>1436493279000</td></tr><tr><td>dbfs:/databricks-datasets/airlines/part-00226</td><td>part-00226</td><td>67108876</td><td>1436493280000</td></tr><tr><td>dbfs:/databricks-datasets/airlines/part-00227</td><td>part-00227</td><td>67108811</td><td>1436493280000</td></tr><tr><td>dbfs:/databricks-datasets/airlines/part-00228</td><td>part-00228</td><td>67108882</td><td>1436493281000</td></tr><tr><td>dbfs:/databricks-datasets/airlines/part-00229</td><td>part-00229</td><td>67108840</td><td>1436493281000</td></tr><tr><td>dbfs:/databricks-datasets/airlines/part-00230</td><td>part-00230</td><td>67108931</td><td>1436493282000</td></tr><tr><td>dbfs:/databricks-datasets/airlines/part-00231</td><td>part-00231</td><td>67108836</td><td>1436493282000</td></tr><tr><td>dbfs:/databricks-datasets/airlines/part-00232</td><td>part-00232</td><td>67108890</td><td>1436493283000</td></tr><tr><td>dbfs:/databricks-datasets/airlines/part-00233</td><td>part-00233</td><td>67108884</td><td>1436493283000</td></tr><tr><td>dbfs:/databricks-datasets/airlines/part-00234</td><td>part-00234</td><td>67108863</td><td>1436493284000</td></tr><tr><td>dbfs:/databricks-datasets/airlines/part-00235</td><td>part-00235</td><td>67108770</td><td>1436493284000</td></tr><tr><td>dbfs:/databricks-datasets/airlines/part-00236</td><td>part-00236</td><td>67108933</td><td>1436493284000</td></tr><tr><td>dbfs:/databricks-datasets/airlines/part-00237</td><td>part-00237</td><td>67108840</td><td>1436493285000</td></tr><tr><td>dbfs:/databricks-datasets/airlines/part-00238</td><td>part-00238</td><td>67108816</td><td>1436493285000</td></tr><tr><td>dbfs:/databricks-datasets/airlines/part-00239</td><td>part-00239</td><td>67108874</td><td>1436493286000</td></tr><tr><td>dbfs:/databricks-datasets/airlines/part-00240</td><td>part-00240</td><td>67108885</td><td>1436493286000</td></tr><tr><td>dbfs:/databricks-datasets/airlines/part-00241</td><td>part-00241</td><td>67108913</td><td>1436493287000</td></tr><tr><td>dbfs:/databricks-datasets/airlines/part-00242</td><td>part-00242</td><td>67108834</td><td>1436493287000</td></tr><tr><td>dbfs:/databricks-datasets/airlines/part-00243</td><td>part-00243</td><td>67108867</td><td>1436493288000</td></tr><tr><td>dbfs:/databricks-datasets/airlines/part-00244</td><td>part-00244</td><td>67108905</td><td>1436493288000</td></tr><tr><td>dbfs:/databricks-datasets/airlines/part-00245</td><td>part-00245</td><td>67108790</td><td>1436493288000</td></tr><tr><td>dbfs:/databricks-datasets/airlines/part-00246</td><td>part-00246</td><td>67108852</td><td>1436493289000</td></tr><tr><td>dbfs:/databricks-datasets/airlines/part-00247</td><td>part-00247</td><td>67108862</td><td>1436493289000</td></tr><tr><td>dbfs:/databricks-datasets/airlines/part-00248</td><td>part-00248</td><td>67108894</td><td>1436493290000</td></tr><tr><td>dbfs:/databricks-datasets/airlines/part-00249</td><td>part-00249</td><td>67108911</td><td>1436493290000</td></tr><tr><td>dbfs:/databricks-datasets/airlines/part-00250</td><td>part-00250</td><td>67108790</td><td>1436493290000</td></tr><tr><td>dbfs:/databricks-datasets/airlines/part-00251</td><td>part-00251</td><td>67108906</td><td>1436493291000</td></tr><tr><td>dbfs:/databricks-datasets/airlines/part-00252</td><td>part-00252</td><td>67108877</td><td>1436493291000</td></tr><tr><td>dbfs:/databricks-datasets/airlines/part-00253</td><td>part-00253</td><td>67108808</td><td>1436493292000</td></tr><tr><td>dbfs:/databricks-datasets/airlines/part-00254</td><td>part-00254</td><td>67108946</td><td>1436493292000</td></tr><tr><td>dbfs:/databricks-datasets/airlines/part-00255</td><td>part-00255</td><td>67108811</td><td>1436493293000</td></tr><tr><td>dbfs:/databricks-datasets/airlines/part-00256</td><td>part-00256</td><td>67108829</td><td>1436493293000</td></tr><tr><td>dbfs:/databricks-datasets/airlines/part-00257</td><td>part-00257</td><td>67108879</td><td>1436493294000</td></tr><tr><td>dbfs:/databricks-datasets/airlines/part-00258</td><td>part-00258</td><td>67108895</td><td>1436493294000</td></tr><tr><td>dbfs:/databricks-datasets/airlines/part-00259</td><td>part-00259</td><td>67108840</td><td>1436493295000</td></tr><tr><td>dbfs:/databricks-datasets/airlines/part-00260</td><td>part-00260</td><td>67108925</td><td>1436493295000</td></tr><tr><td>dbfs:/databricks-datasets/airlines/part-00261</td><td>part-00261</td><td>67108840</td><td>1436493295000</td></tr><tr><td>dbfs:/databricks-datasets/airlines/part-00262</td><td>part-00262</td><td>67108894</td><td>1436493296000</td></tr><tr><td>dbfs:/databricks-datasets/airlines/part-00263</td><td>part-00263</td><td>67108854</td><td>1436493296000</td></tr><tr><td>dbfs:/databricks-datasets/airlines/part-00264</td><td>part-00264</td><td>67108873</td><td>1436493297000</td></tr><tr><td>dbfs:/databricks-datasets/airlines/part-00265</td><td>part-00265</td><td>67108862</td><td>1436493297000</td></tr><tr><td>dbfs:/databricks-datasets/airlines/part-00266</td><td>part-00266</td><td>67108813</td><td>1436493297000</td></tr><tr><td>dbfs:/databricks-datasets/airlines/part-00267</td><td>part-00267</td><td>67108835</td><td>1436493298000</td></tr><tr><td>dbfs:/databricks-datasets/airlines/part-00268</td><td>part-00268</td><td>67108938</td><td>1436493299000</td></tr><tr><td>dbfs:/databricks-datasets/airlines/part-00269</td><td>part-00269</td><td>67108817</td><td>1436493299000</td></tr><tr><td>dbfs:/databricks-datasets/airlines/part-00270</td><td>part-00270</td><td>67108899</td><td>1436493299000</td></tr><tr><td>dbfs:/databricks-datasets/airlines/part-00271</td><td>part-00271</td><td>67108826</td><td>1436493300000</td></tr><tr><td>dbfs:/databricks-datasets/airlines/part-00272</td><td>part-00272</td><td>67108887</td><td>1436493300000</td></tr><tr><td>dbfs:/databricks-datasets/airlines/part-00273</td><td>part-00273</td><td>67108875</td><td>1436493301000</td></tr><tr><td>dbfs:/databricks-datasets/airlines/part-00274</td><td>part-00274</td><td>67108896</td><td>1436493301000</td></tr><tr><td>dbfs:/databricks-datasets/airlines/part-00275</td><td>part-00275</td><td>67108826</td><td>1436493302000</td></tr><tr><td>dbfs:/databricks-datasets/airlines/part-00276</td><td>part-00276</td><td>67108838</td><td>1436493302000</td></tr><tr><td>dbfs:/databricks-datasets/airlines/part-00277</td><td>part-00277</td><td>67108913</td><td>1436493302000</td></tr><tr><td>dbfs:/databricks-datasets/airlines/part-00278</td><td>part-00278</td><td>67108846</td><td>1436493303000</td></tr><tr><td>dbfs:/databricks-datasets/airlines/part-00279</td><td>part-00279</td><td>67108860</td><td>1436493303000</td></tr><tr><td>dbfs:/databricks-datasets/airlines/part-00280</td><td>part-00280</td><td>67108867</td><td>1436493304000</td></tr><tr><td>dbfs:/databricks-datasets/airlines/part-00281</td><td>part-00281</td><td>67108882</td><td>1436493304000</td></tr><tr><td>dbfs:/databricks-datasets/airlines/part-00282</td><td>part-00282</td><td>67108823</td><td>1436493304000</td></tr><tr><td>dbfs:/databricks-datasets/airlines/part-00283</td><td>part-00283</td><td>67108877</td><td>1436493305000</td></tr><tr><td>dbfs:/databricks-datasets/airlines/part-00284</td><td>part-00284</td><td>67108818</td><td>1436493305000</td></tr><tr><td>dbfs:/databricks-datasets/airlines/part-00285</td><td>part-00285</td><td>67108956</td><td>1436493306000</td></tr><tr><td>dbfs:/databricks-datasets/airlines/part-00286</td><td>part-00286</td><td>67108811</td><td>1436493306000</td></tr><tr><td>dbfs:/databricks-datasets/airlines/part-00287</td><td>part-00287</td><td>67108906</td><td>1436493306000</td></tr><tr><td>dbfs:/databricks-datasets/airlines/part-00288</td><td>part-00288</td><td>67108785</td><td>1436493307000</td></tr><tr><td>dbfs:/databricks-datasets/airlines/part-00289</td><td>part-00289</td><td>67108870</td><td>1436493307000</td></tr><tr><td>dbfs:/databricks-datasets/airlines/part-00290</td><td>part-00290</td><td>67108944</td><td>1436493308000</td></tr><tr><td>dbfs:/databricks-datasets/airlines/part-00291</td><td>part-00291</td><td>67108786</td><td>1436493308000</td></tr><tr><td>dbfs:/databricks-datasets/airlines/part-00292</td><td>part-00292</td><td>67108887</td><td>1436493309000</td></tr><tr><td>dbfs:/databricks-datasets/airlines/part-00293</td><td>part-00293</td><td>67108872</td><td>1436493309000</td></tr><tr><td>dbfs:/databricks-datasets/airlines/part-00294</td><td>part-00294</td><td>67108825</td><td>1436493310000</td></tr><tr><td>dbfs:/databricks-datasets/airlines/part-00295</td><td>part-00295</td><td>67108921</td><td>1436493310000</td></tr><tr><td>dbfs:/databricks-datasets/airlines/part-00296</td><td>part-00296</td><td>67108876</td><td>1436493311000</td></tr><tr><td>dbfs:/databricks-datasets/airlines/part-00297</td><td>part-00297</td><td>67108806</td><td>1436493311000</td></tr><tr><td>dbfs:/databricks-datasets/airlines/part-00298</td><td>part-00298</td><td>67108866</td><td>1436493312000</td></tr><tr><td>dbfs:/databricks-datasets/airlines/part-00299</td><td>part-00299</td><td>67108915</td><td>1436493312000</td></tr><tr><td>dbfs:/databricks-datasets/airlines/part-00300</td><td>part-00300</td><td>67108879</td><td>1436493313000</td></tr><tr><td>dbfs:/databricks-datasets/airlines/part-00301</td><td>part-00301</td><td>67581870</td><td>1436493313000</td></tr><tr><td>dbfs:/databricks-datasets/airlines/part-00302</td><td>part-00302</td><td>67768197</td><td>1436493314000</td></tr><tr><td>dbfs:/databricks-datasets/airlines/part-00303</td><td>part-00303</td><td>67768967</td><td>1436493314000</td></tr><tr><td>dbfs:/databricks-datasets/airlines/part-00304</td><td>part-00304</td><td>67875084</td><td>1436493314000</td></tr><tr><td>dbfs:/databricks-datasets/airlines/part-00305</td><td>part-00305</td><td>67839917</td><td>1436493315000</td></tr><tr><td>dbfs:/databricks-datasets/airlines/part-00306</td><td>part-00306</td><td>67880940</td><td>1436493315000</td></tr><tr><td>dbfs:/databricks-datasets/airlines/part-00307</td><td>part-00307</td><td>67779921</td><td>1436493316000</td></tr><tr><td>dbfs:/databricks-datasets/airlines/part-00308</td><td>part-00308</td><td>67937879</td><td>1436493316000</td></tr><tr><td>dbfs:/databricks-datasets/airlines/part-00309</td><td>part-00309</td><td>67778709</td><td>1436493316000</td></tr><tr><td>dbfs:/databricks-datasets/airlines/part-00310</td><td>part-00310</td><td>67848344</td><td>1436493317000</td></tr><tr><td>dbfs:/databricks-datasets/airlines/part-00311</td><td>part-00311</td><td>67720587</td><td>1436493317000</td></tr><tr><td>dbfs:/databricks-datasets/airlines/part-00312</td><td>part-00312</td><td>67469470</td><td>1436493318000</td></tr><tr><td>dbfs:/databricks-datasets/airlines/part-00313</td><td>part-00313</td><td>67108925</td><td>1436493318000</td></tr><tr><td>dbfs:/databricks-datasets/airlines/part-00314</td><td>part-00314</td><td>67108823</td><td>1436493319000</td></tr><tr><td>dbfs:/databricks-datasets/airlines/part-00315</td><td>part-00315</td><td>67108846</td><td>1436493319000</td></tr><tr><td>dbfs:/databricks-datasets/airlines/part-00316</td><td>part-00316</td><td>67108842</td><td>1436493319000</td></tr><tr><td>dbfs:/databricks-datasets/airlines/part-00317</td><td>part-00317</td><td>67108888</td><td>1436493320000</td></tr><tr><td>dbfs:/databricks-datasets/airlines/part-00318</td><td>part-00318</td><td>67108920</td><td>1436493320000</td></tr><tr><td>dbfs:/databricks-datasets/airlines/part-00319</td><td>part-00319</td><td>67108790</td><td>1436493320000</td></tr><tr><td>dbfs:/databricks-datasets/airlines/part-00320</td><td>part-00320</td><td>67108853</td><td>1436493321000</td></tr><tr><td>dbfs:/databricks-datasets/airlines/part-00321</td><td>part-00321</td><td>67108879</td><td>1436493321000</td></tr><tr><td>dbfs:/databricks-datasets/airlines/part-00322</td><td>part-00322</td><td>67108887</td><td>1436493322000</td></tr><tr><td>dbfs:/databricks-datasets/airlines/part-00323</td><td>part-00323</td><td>67108871</td><td>1436493322000</td></tr><tr><td>dbfs:/databricks-datasets/airlines/part-00324</td><td>part-00324</td><td>67108821</td><td>1436493322000</td></tr><tr><td>dbfs:/databricks-datasets/airlines/part-00325</td><td>part-00325</td><td>67108865</td><td>1436493323000</td></tr><tr><td>dbfs:/databricks-datasets/airlines/part-00326</td><td>part-00326</td><td>67108922</td><td>1436493323000</td></tr><tr><td>dbfs:/databricks-datasets/airlines/part-00327</td><td>part-00327</td><td>67108805</td><td>1436493324000</td></tr><tr><td>dbfs:/databricks-datasets/airlines/part-00328</td><td>part-00328</td><td>67108856</td><td>1436493324000</td></tr><tr><td>dbfs:/databricks-datasets/airlines/part-00329</td><td>part-00329</td><td>67108939</td><td>1436493325000</td></tr><tr><td>dbfs:/databricks-datasets/airlines/part-00330</td><td>part-00330</td><td>67108809</td><td>1436493325000</td></tr><tr><td>dbfs:/databricks-datasets/airlines/part-00331</td><td>part-00331</td><td>67108933</td><td>1436493326000</td></tr><tr><td>dbfs:/databricks-datasets/airlines/part-00332</td><td>part-00332</td><td>67108789</td><td>1436493326000</td></tr><tr><td>dbfs:/databricks-datasets/airlines/part-00333</td><td>part-00333</td><td>67108919</td><td>1436493326000</td></tr><tr><td>dbfs:/databricks-datasets/airlines/part-00334</td><td>part-00334</td><td>67108863</td><td>1436493327000</td></tr><tr><td>dbfs:/databricks-datasets/airlines/part-00335</td><td>part-00335</td><td>67108814</td><td>1436493327000</td></tr><tr><td>dbfs:/databricks-datasets/airlines/part-00336</td><td>part-00336</td><td>67108844</td><td>1436493328000</td></tr><tr><td>dbfs:/databricks-datasets/airlines/part-00337</td><td>part-00337</td><td>67108916</td><td>1436493328000</td></tr><tr><td>dbfs:/databricks-datasets/airlines/part-00338</td><td>part-00338</td><td>67108890</td><td>1436493328000</td></tr><tr><td>dbfs:/databricks-datasets/airlines/part-00339</td><td>part-00339</td><td>67108840</td><td>1436493329000</td></tr><tr><td>dbfs:/databricks-datasets/airlines/part-00340</td><td>part-00340</td><td>67108818</td><td>1436493329000</td></tr><tr><td>dbfs:/databricks-datasets/airlines/part-00341</td><td>part-00341</td><td>67108889</td><td>1436493329000</td></tr><tr><td>dbfs:/databricks-datasets/airlines/part-00342</td><td>part-00342</td><td>67108899</td><td>1436493330000</td></tr><tr><td>dbfs:/databricks-datasets/airlines/part-00343</td><td>part-00343</td><td>67108800</td><td>1436493330000</td></tr><tr><td>dbfs:/databricks-datasets/airlines/part-00344</td><td>part-00344</td><td>67108932</td><td>1436493331000</td></tr><tr><td>dbfs:/databricks-datasets/airlines/part-00345</td><td>part-00345</td><td>67108837</td><td>1436493331000</td></tr><tr><td>dbfs:/databricks-datasets/airlines/part-00346</td><td>part-00346</td><td>67108890</td><td>1436493331000</td></tr><tr><td>dbfs:/databricks-datasets/airlines/part-00347</td><td>part-00347</td><td>67108817</td><td>1436493332000</td></tr><tr><td>dbfs:/databricks-datasets/airlines/part-00348</td><td>part-00348</td><td>67108839</td><td>1436493332000</td></tr><tr><td>dbfs:/databricks-datasets/airlines/part-00349</td><td>part-00349</td><td>67108887</td><td>1436493332000</td></tr><tr><td>dbfs:/databricks-datasets/airlines/part-00350</td><td>part-00350</td><td>67108838</td><td>1436493333000</td></tr><tr><td>dbfs:/databricks-datasets/airlines/part-00351</td><td>part-00351</td><td>67108894</td><td>1436493333000</td></tr><tr><td>dbfs:/databricks-datasets/airlines/part-00352</td><td>part-00352</td><td>67108918</td><td>1436493334000</td></tr><tr><td>dbfs:/databricks-datasets/airlines/part-00353</td><td>part-00353</td><td>67108828</td><td>1436493334000</td></tr><tr><td>dbfs:/databricks-datasets/airlines/part-00354</td><td>part-00354</td><td>67108902</td><td>1436493334000</td></tr><tr><td>dbfs:/databricks-datasets/airlines/part-00355</td><td>part-00355</td><td>67108808</td><td>1436493335000</td></tr><tr><td>dbfs:/databricks-datasets/airlines/part-00356</td><td>part-00356</td><td>67108882</td><td>1436493335000</td></tr><tr><td>dbfs:/databricks-datasets/airlines/part-00357</td><td>part-00357</td><td>67108846</td><td>1436493335000</td></tr><tr><td>dbfs:/databricks-datasets/airlines/part-00358</td><td>part-00358</td><td>67108899</td><td>1436493336000</td></tr><tr><td>dbfs:/databricks-datasets/airlines/part-00359</td><td>part-00359</td><td>67108808</td><td>1436493336000</td></tr><tr><td>dbfs:/databricks-datasets/airlines/part-00360</td><td>part-00360</td><td>67108950</td><td>1436493337000</td></tr><tr><td>dbfs:/databricks-datasets/airlines/part-00361</td><td>part-00361</td><td>67108808</td><td>1436493337000</td></tr><tr><td>dbfs:/databricks-datasets/airlines/part-00362</td><td>part-00362</td><td>67108900</td><td>1436493337000</td></tr><tr><td>dbfs:/databricks-datasets/airlines/part-00363</td><td>part-00363</td><td>67108811</td><td>1436493338000</td></tr><tr><td>dbfs:/databricks-datasets/airlines/part-00364</td><td>part-00364</td><td>67108858</td><td>1436493339000</td></tr><tr><td>dbfs:/databricks-datasets/airlines/part-00365</td><td>part-00365</td><td>67108874</td><td>1436493339000</td></tr><tr><td>dbfs:/databricks-datasets/airlines/part-00366</td><td>part-00366</td><td>67108893</td><td>1436493340000</td></tr><tr><td>dbfs:/databricks-datasets/airlines/part-00367</td><td>part-00367</td><td>67108895</td><td>1436493341000</td></tr><tr><td>dbfs:/databricks-datasets/airlines/part-00368</td><td>part-00368</td><td>67108818</td><td>1436493341000</td></tr><tr><td>dbfs:/databricks-datasets/airlines/part-00369</td><td>part-00369</td><td>67108892</td><td>1436493342000</td></tr><tr><td>dbfs:/databricks-datasets/airlines/part-00370</td><td>part-00370</td><td>67108834</td><td>1436493342000</td></tr><tr><td>dbfs:/databricks-datasets/airlines/part-00371</td><td>part-00371</td><td>67108863</td><td>1436493342000</td></tr><tr><td>dbfs:/databricks-datasets/airlines/part-00372</td><td>part-00372</td><td>67108917</td><td>1436493343000</td></tr><tr><td>dbfs:/databricks-datasets/airlines/part-00373</td><td>part-00373</td><td>67108837</td><td>1436493343000</td></tr><tr><td>dbfs:/databricks-datasets/airlines/part-00374</td><td>part-00374</td><td>67108877</td><td>1436493343000</td></tr><tr><td>dbfs:/databricks-datasets/airlines/part-00375</td><td>part-00375</td><td>67108877</td><td>1436493344000</td></tr><tr><td>dbfs:/databricks-datasets/airlines/part-00376</td><td>part-00376</td><td>67108821</td><td>1436493344000</td></tr><tr><td>dbfs:/databricks-datasets/airlines/part-00377</td><td>part-00377</td><td>67108848</td><td>1436493344000</td></tr><tr><td>dbfs:/databricks-datasets/airlines/part-00378</td><td>part-00378</td><td>67108916</td><td>1436493345000</td></tr><tr><td>dbfs:/databricks-datasets/airlines/part-00379</td><td>part-00379</td><td>67108828</td><td>1436493345000</td></tr><tr><td>dbfs:/databricks-datasets/airlines/part-00380</td><td>part-00380</td><td>67108918</td><td>1436493346000</td></tr><tr><td>dbfs:/databricks-datasets/airlines/part-00381</td><td>part-00381</td><td>67108784</td><td>1436493347000</td></tr><tr><td>dbfs:/databricks-datasets/airlines/part-00382</td><td>part-00382</td><td>67108918</td><td>1436493347000</td></tr><tr><td>dbfs:/databricks-datasets/airlines/part-00383</td><td>part-00383</td><td>67108846</td><td>1436493347000</td></tr><tr><td>dbfs:/databricks-datasets/airlines/part-00384</td><td>part-00384</td><td>67108808</td><td>1436493348000</td></tr><tr><td>dbfs:/databricks-datasets/airlines/part-00385</td><td>part-00385</td><td>67108955</td><td>1436493348000</td></tr><tr><td>dbfs:/databricks-datasets/airlines/part-00386</td><td>part-00386</td><td>67108784</td><td>1436493349000</td></tr><tr><td>dbfs:/databricks-datasets/airlines/part-00387</td><td>part-00387</td><td>67108904</td><td>1436493349000</td></tr><tr><td>dbfs:/databricks-datasets/airlines/part-00388</td><td>part-00388</td><td>67108841</td><td>1436493350000</td></tr><tr><td>dbfs:/databricks-datasets/airlines/part-00389</td><td>part-00389</td><td>67108892</td><td>1436493350000</td></tr><tr><td>dbfs:/databricks-datasets/airlines/part-00390</td><td>part-00390</td><td>67108881</td><td>1436493351000</td></tr><tr><td>dbfs:/databricks-datasets/airlines/part-00391</td><td>part-00391</td><td>67108875</td><td>1436493351000</td></tr><tr><td>dbfs:/databricks-datasets/airlines/part-00392</td><td>part-00392</td><td>67108836</td><td>1436493351000</td></tr><tr><td>dbfs:/databricks-datasets/airlines/part-00393</td><td>part-00393</td><td>67108893</td><td>1436493352000</td></tr><tr><td>dbfs:/databricks-datasets/airlines/part-00394</td><td>part-00394</td><td>67108877</td><td>1436493352000</td></tr><tr><td>dbfs:/databricks-datasets/airlines/part-00395</td><td>part-00395</td><td>67108828</td><td>1436493353000</td></tr><tr><td>dbfs:/databricks-datasets/airlines/part-00396</td><td>part-00396</td><td>67108863</td><td>1436493353000</td></tr><tr><td>dbfs:/databricks-datasets/airlines/part-00397</td><td>part-00397</td><td>67108835</td><td>1436493353000</td></tr><tr><td>dbfs:/databricks-datasets/airlines/part-00398</td><td>part-00398</td><td>67108855</td><td>1436493354000</td></tr><tr><td>dbfs:/databricks-datasets/airlines/part-00399</td><td>part-00399</td><td>67108867</td><td>1436493354000</td></tr><tr><td>dbfs:/databricks-datasets/airlines/part-00400</td><td>part-00400</td><td>67108877</td><td>1436493355000</td></tr><tr><td>dbfs:/databricks-datasets/airlines/part-00401</td><td>part-00401</td><td>67108868</td><td>1436493355000</td></tr><tr><td>dbfs:/databricks-datasets/airlines/part-00402</td><td>part-00402</td><td>67108838</td><td>1436493355000</td></tr><tr><td>dbfs:/databricks-datasets/airlines/part-00403</td><td>part-00403</td><td>67108887</td><td>1436493356000</td></tr><tr><td>dbfs:/databricks-datasets/airlines/part-00404</td><td>part-00404</td><td>67108826</td><td>1436493356000</td></tr><tr><td>dbfs:/databricks-datasets/airlines/part-00405</td><td>part-00405</td><td>67108909</td><td>1436493356000</td></tr><tr><td>dbfs:/databricks-datasets/airlines/part-00406</td><td>part-00406</td><td>67108879</td><td>1436493357000</td></tr><tr><td>dbfs:/databricks-datasets/airlines/part-00407</td><td>part-00407</td><td>67108838</td><td>1436493357000</td></tr><tr><td>dbfs:/databricks-datasets/airlines/part-00408</td><td>part-00408</td><td>67108919</td><td>1436493358000</td></tr><tr><td>dbfs:/databricks-datasets/airlines/part-00409</td><td>part-00409</td><td>67108818</td><td>1436493358000</td></tr><tr><td>dbfs:/databricks-datasets/airlines/part-00410</td><td>part-00410</td><td>67108891</td><td>1436493358000</td></tr><tr><td>dbfs:/databricks-datasets/airlines/part-00411</td><td>part-00411</td><td>67108794</td><td>1436493359000</td></tr><tr><td>dbfs:/databricks-datasets/airlines/part-00412</td><td>part-00412</td><td>67108955</td><td>1436493359000</td></tr><tr><td>dbfs:/databricks-datasets/airlines/part-00413</td><td>part-00413</td><td>67108817</td><td>1436493360000</td></tr><tr><td>dbfs:/databricks-datasets/airlines/part-00414</td><td>part-00414</td><td>67108900</td><td>1436493360000</td></tr><tr><td>dbfs:/databricks-datasets/airlines/part-00415</td><td>part-00415</td><td>67108791</td><td>1436493361000</td></tr><tr><td>dbfs:/databricks-datasets/airlines/part-00416</td><td>part-00416</td><td>67108891</td><td>1436493361000</td></tr><tr><td>dbfs:/databricks-datasets/airlines/part-00417</td><td>part-00417</td><td>67108844</td><td>1436493362000</td></tr><tr><td>dbfs:/databricks-datasets/airlines/part-00418</td><td>part-00418</td><td>67108950</td><td>1436493362000</td></tr><tr><td>dbfs:/databricks-datasets/airlines/part-00419</td><td>part-00419</td><td>67108799</td><td>1436493362000</td></tr><tr><td>dbfs:/databricks-datasets/airlines/part-00420</td><td>part-00420</td><td>67108846</td><td>1436493363000</td></tr><tr><td>dbfs:/databricks-datasets/airlines/part-00421</td><td>part-00421</td><td>67108920</td><td>1436493363000</td></tr><tr><td>dbfs:/databricks-datasets/airlines/part-00422</td><td>part-00422</td><td>67108794</td><td>1436493363000</td></tr><tr><td>dbfs:/databricks-datasets/airlines/part-00423</td><td>part-00423</td><td>67108939</td><td>1436493364000</td></tr><tr><td>dbfs:/databricks-datasets/airlines/part-00424</td><td>part-00424</td><td>67108788</td><td>1436493364000</td></tr><tr><td>dbfs:/databricks-datasets/airlines/part-00425</td><td>part-00425</td><td>67108864</td><td>1436493365000</td></tr><tr><td>dbfs:/databricks-datasets/airlines/part-00426</td><td>part-00426</td><td>67108894</td><td>1436493365000</td></tr><tr><td>dbfs:/databricks-datasets/airlines/part-00427</td><td>part-00427</td><td>67108888</td><td>1436493365000</td></tr><tr><td>dbfs:/databricks-datasets/airlines/part-00428</td><td>part-00428</td><td>67108844</td><td>1436493366000</td></tr><tr><td>dbfs:/databricks-datasets/airlines/part-00429</td><td>part-00429</td><td>67108827</td><td>1436493366000</td></tr><tr><td>dbfs:/databricks-datasets/airlines/part-00430</td><td>part-00430</td><td>67108882</td><td>1436493367000</td></tr><tr><td>dbfs:/databricks-datasets/airlines/part-00431</td><td>part-00431</td><td>67108946</td><td>1436493367000</td></tr><tr><td>dbfs:/databricks-datasets/airlines/part-00432</td><td>part-00432</td><td>67108813</td><td>1436493367000</td></tr><tr><td>dbfs:/databricks-datasets/airlines/part-00433</td><td>part-00433</td><td>67108821</td><td>1436493368000</td></tr><tr><td>dbfs:/databricks-datasets/airlines/part-00434</td><td>part-00434</td><td>67108956</td><td>1436493368000</td></tr><tr><td>dbfs:/databricks-datasets/airlines/part-00435</td><td>part-00435</td><td>67108771</td><td>1436493369000</td></tr><tr><td>dbfs:/databricks-datasets/airlines/part-00436</td><td>part-00436</td><td>67108861</td><td>1436493369000</td></tr><tr><td>dbfs:/databricks-datasets/airlines/part-00437</td><td>part-00437</td><td>67108899</td><td>1436493369000</td></tr><tr><td>dbfs:/databricks-datasets/airlines/part-00438</td><td>part-00438</td><td>67108842</td><td>1436493370000</td></tr><tr><td>dbfs:/databricks-datasets/airlines/part-00439</td><td>part-00439</td><td>67108917</td><td>1436493370000</td></tr><tr><td>dbfs:/databricks-datasets/airlines/part-00440</td><td>part-00440</td><td>67108823</td><td>1436493371000</td></tr><tr><td>dbfs:/databricks-datasets/airlines/part-00441</td><td>part-00441</td><td>67108859</td><td>1436493371000</td></tr><tr><td>dbfs:/databricks-datasets/airlines/part-00442</td><td>part-00442</td><td>67108924</td><td>1436493372000</td></tr><tr><td>dbfs:/databricks-datasets/airlines/part-00443</td><td>part-00443</td><td>67108799</td><td>1436493372000</td></tr><tr><td>dbfs:/databricks-datasets/airlines/part-00444</td><td>part-00444</td><td>67108867</td><td>1436493372000</td></tr><tr><td>dbfs:/databricks-datasets/airlines/part-00445</td><td>part-00445</td><td>67108849</td><td>1436493373000</td></tr><tr><td>dbfs:/databricks-datasets/airlines/part-00446</td><td>part-00446</td><td>67108932</td><td>1436493373000</td></tr><tr><td>dbfs:/databricks-datasets/airlines/part-00447</td><td>part-00447</td><td>67108873</td><td>1436493374000</td></tr><tr><td>dbfs:/databricks-datasets/airlines/part-00448</td><td>part-00448</td><td>67108876</td><td>1436493374000</td></tr><tr><td>dbfs:/databricks-datasets/airlines/part-00449</td><td>part-00449</td><td>67108771</td><td>1436493374000</td></tr><tr><td>dbfs:/databricks-datasets/airlines/part-00450</td><td>part-00450</td><td>67108941</td><td>1436493375000</td></tr><tr><td>dbfs:/databricks-datasets/airlines/part-00451</td><td>part-00451</td><td>67108831</td><td>1436493375000</td></tr><tr><td>dbfs:/databricks-datasets/airlines/part-00452</td><td>part-00452</td><td>67108818</td><td>1436493375000</td></tr><tr><td>dbfs:/databricks-datasets/airlines/part-00453</td><td>part-00453</td><td>67108882</td><td>1436493376000</td></tr><tr><td>dbfs:/databricks-datasets/airlines/part-00454</td><td>part-00454</td><td>67108852</td><td>1436493376000</td></tr><tr><td>dbfs:/databricks-datasets/airlines/part-00455</td><td>part-00455</td><td>67108904</td><td>1436493377000</td></tr><tr><td>dbfs:/databricks-datasets/airlines/part-00456</td><td>part-00456</td><td>67108838</td><td>1436493377000</td></tr><tr><td>dbfs:/databricks-datasets/airlines/part-00457</td><td>part-00457</td><td>67108859</td><td>1436493377000</td></tr><tr><td>dbfs:/databricks-datasets/airlines/part-00458</td><td>part-00458</td><td>67108928</td><td>1436493378000</td></tr><tr><td>dbfs:/databricks-datasets/airlines/part-00459</td><td>part-00459</td><td>67108887</td><td>1436493378000</td></tr><tr><td>dbfs:/databricks-datasets/airlines/part-00460</td><td>part-00460</td><td>67108789</td><td>1436493379000</td></tr><tr><td>dbfs:/databricks-datasets/airlines/part-00461</td><td>part-00461</td><td>67108906</td><td>1436493379000</td></tr><tr><td>dbfs:/databricks-datasets/airlines/part-00462</td><td>part-00462</td><td>67108879</td><td>1436493379000</td></tr><tr><td>dbfs:/databricks-datasets/airlines/part-00463</td><td>part-00463</td><td>67108876</td><td>1436493380000</td></tr><tr><td>dbfs:/databricks-datasets/airlines/part-00464</td><td>part-00464</td><td>67108867</td><td>1436493380000</td></tr><tr><td>dbfs:/databricks-datasets/airlines/part-00465</td><td>part-00465</td><td>67108820</td><td>1436493380000</td></tr><tr><td>dbfs:/databricks-datasets/airlines/part-00466</td><td>part-00466</td><td>67108897</td><td>1436493381000</td></tr><tr><td>dbfs:/databricks-datasets/airlines/part-00467</td><td>part-00467</td><td>67108801</td><td>1436493381000</td></tr><tr><td>dbfs:/databricks-datasets/airlines/part-00468</td><td>part-00468</td><td>67108858</td><td>1436493382000</td></tr><tr><td>dbfs:/databricks-datasets/airlines/part-00469</td><td>part-00469</td><td>67108851</td><td>1436493382000</td></tr><tr><td>dbfs:/databricks-datasets/airlines/part-00470</td><td>part-00470</td><td>67108896</td><td>1436493382000</td></tr><tr><td>dbfs:/databricks-datasets/airlines/part-00471</td><td>part-00471</td><td>67108864</td><td>1436493383000</td></tr><tr><td>dbfs:/databricks-datasets/airlines/part-00472</td><td>part-00472</td><td>67108836</td><td>1436493383000</td></tr><tr><td>dbfs:/databricks-datasets/airlines/part-00473</td><td>part-00473</td><td>67108895</td><td>1436493384000</td></tr><tr><td>dbfs:/databricks-datasets/airlines/part-00474</td><td>part-00474</td><td>67108925</td><td>1436493384000</td></tr><tr><td>dbfs:/databricks-datasets/airlines/part-00475</td><td>part-00475</td><td>67108798</td><td>1436493385000</td></tr><tr><td>dbfs:/databricks-datasets/airlines/part-00476</td><td>part-00476</td><td>67108848</td><td>1436493385000</td></tr><tr><td>dbfs:/databricks-datasets/airlines/part-00477</td><td>part-00477</td><td>67108886</td><td>1436493386000</td></tr><tr><td>dbfs:/databricks-datasets/airlines/part-00478</td><td>part-00478</td><td>67108929</td><td>1436493386000</td></tr><tr><td>dbfs:/databricks-datasets/airlines/part-00479</td><td>part-00479</td><td>67108775</td><td>1436493387000</td></tr><tr><td>dbfs:/databricks-datasets/airlines/part-00480</td><td>part-00480</td><td>67108858</td><td>1436493387000</td></tr><tr><td>dbfs:/databricks-datasets/airlines/part-00481</td><td>part-00481</td><td>67108934</td><td>1436493388000</td></tr><tr><td>dbfs:/databricks-datasets/airlines/part-00482</td><td>part-00482</td><td>67108837</td><td>1436493388000</td></tr><tr><td>dbfs:/databricks-datasets/airlines/part-00483</td><td>part-00483</td><td>67108881</td><td>1436493389000</td></tr><tr><td>dbfs:/databricks-datasets/airlines/part-00484</td><td>part-00484</td><td>67108816</td><td>1436493389000</td></tr><tr><td>dbfs:/databricks-datasets/airlines/part-00485</td><td>part-00485</td><td>67108842</td><td>1436493389000</td></tr><tr><td>dbfs:/databricks-datasets/airlines/part-00486</td><td>part-00486</td><td>67108920</td><td>1436493390000</td></tr><tr><td>dbfs:/databricks-datasets/airlines/part-00487</td><td>part-00487</td><td>67108858</td><td>1436493390000</td></tr><tr><td>dbfs:/databricks-datasets/airlines/part-00488</td><td>part-00488</td><td>67108888</td><td>1436493391000</td></tr><tr><td>dbfs:/databricks-datasets/airlines/part-00489</td><td>part-00489</td><td>67108820</td><td>1436493391000</td></tr><tr><td>dbfs:/databricks-datasets/airlines/part-00490</td><td>part-00490</td><td>67108937</td><td>1436493391000</td></tr><tr><td>dbfs:/databricks-datasets/airlines/part-00491</td><td>part-00491</td><td>67108776</td><td>1436493392000</td></tr><tr><td>dbfs:/databricks-datasets/airlines/part-00492</td><td>part-00492</td><td>67108955</td><td>1436493392000</td></tr><tr><td>dbfs:/databricks-datasets/airlines/part-00493</td><td>part-00493</td><td>67586354</td><td>1436493393000</td></tr><tr><td>dbfs:/databricks-datasets/airlines/part-00494</td><td>part-00494</td><td>67768623</td><td>1436493393000</td></tr><tr><td>dbfs:/databricks-datasets/airlines/part-00495</td><td>part-00495</td><td>67775866</td><td>1436493393000</td></tr><tr><td>dbfs:/databricks-datasets/airlines/part-00496</td><td>part-00496</td><td>67863642</td><td>1436493394000</td></tr><tr><td>dbfs:/databricks-datasets/airlines/part-00497</td><td>part-00497</td><td>67873585</td><td>1436493394000</td></tr><tr><td>dbfs:/databricks-datasets/airlines/part-00498</td><td>part-00498</td><td>67851693</td><td>1436493395000</td></tr><tr><td>dbfs:/databricks-datasets/airlines/part-00499</td><td>part-00499</td><td>67790832</td><td>1436493395000</td></tr><tr><td>dbfs:/databricks-datasets/airlines/part-00500</td><td>part-00500</td><td>67927136</td><td>1436493396000</td></tr><tr><td>dbfs:/databricks-datasets/airlines/part-00501</td><td>part-00501</td><td>67805799</td><td>1436493396000</td></tr><tr><td>dbfs:/databricks-datasets/airlines/part-00502</td><td>part-00502</td><td>67819793</td><td>1436493396000</td></tr><tr><td>dbfs:/databricks-datasets/airlines/part-00503</td><td>part-00503</td><td>67742992</td><td>1436493397000</td></tr><tr><td>dbfs:/databricks-datasets/airlines/part-00504</td><td>part-00504</td><td>67443592</td><td>1436493397000</td></tr><tr><td>dbfs:/databricks-datasets/airlines/part-00505</td><td>part-00505</td><td>67108809</td><td>1436493398000</td></tr><tr><td>dbfs:/databricks-datasets/airlines/part-00506</td><td>part-00506</td><td>67108890</td><td>1436493398000</td></tr><tr><td>dbfs:/databricks-datasets/airlines/part-00507</td><td>part-00507</td><td>67108879</td><td>1436493399000</td></tr><tr><td>dbfs:/databricks-datasets/airlines/part-00508</td><td>part-00508</td><td>67108811</td><td>1436493399000</td></tr><tr><td>dbfs:/databricks-datasets/airlines/part-00509</td><td>part-00509</td><td>67108851</td><td>1436493399000</td></tr><tr><td>dbfs:/databricks-datasets/airlines/part-00510</td><td>part-00510</td><td>67108885</td><td>1436493400000</td></tr><tr><td>dbfs:/databricks-datasets/airlines/part-00511</td><td>part-00511</td><td>67108944</td><td>1436493400000</td></tr><tr><td>dbfs:/databricks-datasets/airlines/part-00512</td><td>part-00512</td><td>67108765</td><td>1436493401000</td></tr><tr><td>dbfs:/databricks-datasets/airlines/part-00513</td><td>part-00513</td><td>67108920</td><td>1436493401000</td></tr><tr><td>dbfs:/databricks-datasets/airlines/part-00514</td><td>part-00514</td><td>67108855</td><td>1436493401000</td></tr><tr><td>dbfs:/databricks-datasets/airlines/part-00515</td><td>part-00515</td><td>67108907</td><td>1436493402000</td></tr><tr><td>dbfs:/databricks-datasets/airlines/part-00516</td><td>part-00516</td><td>67108834</td><td>1436493402000</td></tr><tr><td>dbfs:/databricks-datasets/airlines/part-00517</td><td>part-00517</td><td>67108885</td><td>1436493403000</td></tr><tr><td>dbfs:/databricks-datasets/airlines/part-00518</td><td>part-00518</td><td>67108854</td><td>1436493403000</td></tr><tr><td>dbfs:/databricks-datasets/airlines/part-00519</td><td>part-00519</td><td>67108842</td><td>1436493403000</td></tr><tr><td>dbfs:/databricks-datasets/airlines/part-00520</td><td>part-00520</td><td>67108873</td><td>1436493404000</td></tr><tr><td>dbfs:/databricks-datasets/airlines/part-00521</td><td>part-00521</td><td>67108890</td><td>1436493404000</td></tr><tr><td>dbfs:/databricks-datasets/airlines/part-00522</td><td>part-00522</td><td>67108816</td><td>1436493404000</td></tr><tr><td>dbfs:/databricks-datasets/airlines/part-00523</td><td>part-00523</td><td>67108882</td><td>1436493405000</td></tr><tr><td>dbfs:/databricks-datasets/airlines/part-00524</td><td>part-00524</td><td>67108853</td><td>1436493405000</td></tr><tr><td>dbfs:/databricks-datasets/airlines/part-00525</td><td>part-00525</td><td>67108852</td><td>1436493406000</td></tr><tr><td>dbfs:/databricks-datasets/airlines/part-00526</td><td>part-00526</td><td>67108851</td><td>1436493406000</td></tr><tr><td>dbfs:/databricks-datasets/airlines/part-00527</td><td>part-00527</td><td>67108934</td><td>1436493406000</td></tr><tr><td>dbfs:/databricks-datasets/airlines/part-00528</td><td>part-00528</td><td>67108795</td><td>1436493407000</td></tr><tr><td>dbfs:/databricks-datasets/airlines/part-00529</td><td>part-00529</td><td>67108897</td><td>1436493407000</td></tr><tr><td>dbfs:/databricks-datasets/airlines/part-00530</td><td>part-00530</td><td>67108827</td><td>1436493408000</td></tr><tr><td>dbfs:/databricks-datasets/airlines/part-00531</td><td>part-00531</td><td>67108863</td><td>1436493408000</td></tr><tr><td>dbfs:/databricks-datasets/airlines/part-00532</td><td>part-00532</td><td>67108930</td><td>1436493409000</td></tr><tr><td>dbfs:/databricks-datasets/airlines/part-00533</td><td>part-00533</td><td>67108858</td><td>1436493409000</td></tr><tr><td>dbfs:/databricks-datasets/airlines/part-00534</td><td>part-00534</td><td>67108809</td><td>1436493409000</td></tr><tr><td>dbfs:/databricks-datasets/airlines/part-00535</td><td>part-00535</td><td>67108919</td><td>1436493410000</td></tr><tr><td>dbfs:/databricks-datasets/airlines/part-00536</td><td>part-00536</td><td>67108821</td><td>1436493410000</td></tr><tr><td>dbfs:/databricks-datasets/airlines/part-00537</td><td>part-00537</td><td>67108878</td><td>1436493410000</td></tr><tr><td>dbfs:/databricks-datasets/airlines/part-00538</td><td>part-00538</td><td>67108828</td><td>1436493411000</td></tr><tr><td>dbfs:/databricks-datasets/airlines/part-00539</td><td>part-00539</td><td>67108911</td><td>1436493411000</td></tr><tr><td>dbfs:/databricks-datasets/airlines/part-00540</td><td>part-00540</td><td>67108838</td><td>1436493412000</td></tr><tr><td>dbfs:/databricks-datasets/airlines/part-00541</td><td>part-00541</td><td>67108835</td><td>1436493412000</td></tr><tr><td>dbfs:/databricks-datasets/airlines/part-00542</td><td>part-00542</td><td>67108948</td><td>1436493413000</td></tr><tr><td>dbfs:/databricks-datasets/airlines/part-00543</td><td>part-00543</td><td>67108845</td><td>1436493413000</td></tr><tr><td>dbfs:/databricks-datasets/airlines/part-00544</td><td>part-00544</td><td>67108842</td><td>1436493413000</td></tr><tr><td>dbfs:/databricks-datasets/airlines/part-00545</td><td>part-00545</td><td>67108819</td><td>1436493414000</td></tr><tr><td>dbfs:/databricks-datasets/airlines/part-00546</td><td>part-00546</td><td>67108950</td><td>1436493414000</td></tr><tr><td>dbfs:/databricks-datasets/airlines/part-00547</td><td>part-00547</td><td>67108829</td><td>1436493415000</td></tr><tr><td>dbfs:/databricks-datasets/airlines/part-00548</td><td>part-00548</td><td>67108881</td><td>1436493415000</td></tr><tr><td>dbfs:/databricks-datasets/airlines/part-00549</td><td>part-00549</td><td>67108877</td><td>1436493415000</td></tr><tr><td>dbfs:/databricks-datasets/airlines/part-00550</td><td>part-00550</td><td>67108822</td><td>1436493416000</td></tr><tr><td>dbfs:/databricks-datasets/airlines/part-00551</td><td>part-00551</td><td>67108850</td><td>1436493416000</td></tr><tr><td>dbfs:/databricks-datasets/airlines/part-00552</td><td>part-00552</td><td>67108886</td><td>1436493416000</td></tr><tr><td>dbfs:/databricks-datasets/airlines/part-00553</td><td>part-00553</td><td>67108875</td><td>1436493417000</td></tr><tr><td>dbfs:/databricks-datasets/airlines/part-00554</td><td>part-00554</td><td>67108845</td><td>1436493417000</td></tr><tr><td>dbfs:/databricks-datasets/airlines/part-00555</td><td>part-00555</td><td>67108918</td><td>1436493418000</td></tr><tr><td>dbfs:/databricks-datasets/airlines/part-00556</td><td>part-00556</td><td>67108774</td><td>1436493418000</td></tr><tr><td>dbfs:/databricks-datasets/airlines/part-00557</td><td>part-00557</td><td>67108897</td><td>1436493418000</td></tr><tr><td>dbfs:/databricks-datasets/airlines/part-00558</td><td>part-00558</td><td>67108872</td><td>1436493419000</td></tr><tr><td>dbfs:/databricks-datasets/airlines/part-00559</td><td>part-00559</td><td>67108912</td><td>1436493419000</td></tr><tr><td>dbfs:/databricks-datasets/airlines/part-00560</td><td>part-00560</td><td>67108798</td><td>1436493419000</td></tr><tr><td>dbfs:/databricks-datasets/airlines/part-00561</td><td>part-00561</td><td>67108903</td><td>1436493420000</td></tr><tr><td>dbfs:/databricks-datasets/airlines/part-00562</td><td>part-00562</td><td>67108852</td><td>1436493420000</td></tr><tr><td>dbfs:/databricks-datasets/airlines/part-00563</td><td>part-00563</td><td>67108890</td><td>1436493421000</td></tr><tr><td>dbfs:/databricks-datasets/airlines/part-00564</td><td>part-00564</td><td>67108790</td><td>1436493421000</td></tr><tr><td>dbfs:/databricks-datasets/airlines/part-00565</td><td>part-00565</td><td>67108920</td><td>1436493422000</td></tr><tr><td>dbfs:/databricks-datasets/airlines/part-00566</td><td>part-00566</td><td>67108847</td><td>1436493422000</td></tr><tr><td>dbfs:/databricks-datasets/airlines/part-00567</td><td>part-00567</td><td>67108889</td><td>1436493422000</td></tr><tr><td>dbfs:/databricks-datasets/airlines/part-00568</td><td>part-00568</td><td>67108843</td><td>1436493423000</td></tr><tr><td>dbfs:/databricks-datasets/airlines/part-00569</td><td>part-00569</td><td>67108878</td><td>1436493423000</td></tr><tr><td>dbfs:/databricks-datasets/airlines/part-00570</td><td>part-00570</td><td>67108903</td><td>1436493424000</td></tr><tr><td>dbfs:/databricks-datasets/airlines/part-00571</td><td>part-00571</td><td>67108772</td><td>1436493424000</td></tr><tr><td>dbfs:/databricks-datasets/airlines/part-00572</td><td>part-00572</td><td>67108874</td><td>1436493424000</td></tr><tr><td>dbfs:/databricks-datasets/airlines/part-00573</td><td>part-00573</td><td>67108921</td><td>1436493425000</td></tr><tr><td>dbfs:/databricks-datasets/airlines/part-00574</td><td>part-00574</td><td>67108829</td><td>1436493425000</td></tr><tr><td>dbfs:/databricks-datasets/airlines/part-00575</td><td>part-00575</td><td>67108912</td><td>1436493425000</td></tr><tr><td>dbfs:/databricks-datasets/airlines/part-00576</td><td>part-00576</td><td>67108845</td><td>1436493426000</td></tr><tr><td>dbfs:/databricks-datasets/airlines/part-00577</td><td>part-00577</td><td>67108859</td><td>1436493426000</td></tr><tr><td>dbfs:/databricks-datasets/airlines/part-00578</td><td>part-00578</td><td>67108860</td><td>1436493427000</td></tr><tr><td>dbfs:/databricks-datasets/airlines/part-00579</td><td>part-00579</td><td>67108841</td><td>1436493427000</td></tr><tr><td>dbfs:/databricks-datasets/airlines/part-00580</td><td>part-00580</td><td>67108871</td><td>1436493427000</td></tr><tr><td>dbfs:/databricks-datasets/airlines/part-00581</td><td>part-00581</td><td>67108835</td><td>1436493428000</td></tr><tr><td>dbfs:/databricks-datasets/airlines/part-00582</td><td>part-00582</td><td>67108932</td><td>1436493428000</td></tr><tr><td>dbfs:/databricks-datasets/airlines/part-00583</td><td>part-00583</td><td>67108779</td><td>1436493428000</td></tr><tr><td>dbfs:/databricks-datasets/airlines/part-00584</td><td>part-00584</td><td>67108947</td><td>1436493429000</td></tr><tr><td>dbfs:/databricks-datasets/airlines/part-00585</td><td>part-00585</td><td>67108849</td><td>1436493429000</td></tr><tr><td>dbfs:/databricks-datasets/airlines/part-00586</td><td>part-00586</td><td>67108860</td><td>1436493430000</td></tr><tr><td>dbfs:/databricks-datasets/airlines/part-00587</td><td>part-00587</td><td>67108809</td><td>1436493430000</td></tr><tr><td>dbfs:/databricks-datasets/airlines/part-00588</td><td>part-00588</td><td>67108950</td><td>1436493431000</td></tr><tr><td>dbfs:/databricks-datasets/airlines/part-00589</td><td>part-00589</td><td>67108777</td><td>1436493431000</td></tr><tr><td>dbfs:/databricks-datasets/airlines/part-00590</td><td>part-00590</td><td>67108946</td><td>1436493431000</td></tr><tr><td>dbfs:/databricks-datasets/airlines/part-00591</td><td>part-00591</td><td>67108874</td><td>1436493432000</td></tr><tr><td>dbfs:/databricks-datasets/airlines/part-00592</td><td>part-00592</td><td>67108810</td><td>1436493432000</td></tr><tr><td>dbfs:/databricks-datasets/airlines/part-00593</td><td>part-00593</td><td>67108834</td><td>1436493433000</td></tr><tr><td>dbfs:/databricks-datasets/airlines/part-00594</td><td>part-00594</td><td>67108913</td><td>1436493433000</td></tr><tr><td>dbfs:/databricks-datasets/airlines/part-00595</td><td>part-00595</td><td>67108899</td><td>1436493433000</td></tr><tr><td>dbfs:/databricks-datasets/airlines/part-00596</td><td>part-00596</td><td>67108770</td><td>1436493434000</td></tr><tr><td>dbfs:/databricks-datasets/airlines/part-00597</td><td>part-00597</td><td>67108942</td><td>1436493434000</td></tr><tr><td>dbfs:/databricks-datasets/airlines/part-00598</td><td>part-00598</td><td>67108831</td><td>1436493434000</td></tr><tr><td>dbfs:/databricks-datasets/airlines/part-00599</td><td>part-00599</td><td>67108834</td><td>1436493435000</td></tr><tr><td>dbfs:/databricks-datasets/airlines/part-00600</td><td>part-00600</td><td>67108882</td><td>1436493435000</td></tr><tr><td>dbfs:/databricks-datasets/airlines/part-00601</td><td>part-00601</td><td>67108911</td><td>1436493435000</td></tr><tr><td>dbfs:/databricks-datasets/airlines/part-00602</td><td>part-00602</td><td>67108878</td><td>1436493436000</td></tr><tr><td>dbfs:/databricks-datasets/airlines/part-00603</td><td>part-00603</td><td>67108831</td><td>1436493436000</td></tr><tr><td>dbfs:/databricks-datasets/airlines/part-00604</td><td>part-00604</td><td>67108799</td><td>1436493437000</td></tr><tr><td>dbfs:/databricks-datasets/airlines/part-00605</td><td>part-00605</td><td>67108907</td><td>1436493437000</td></tr><tr><td>dbfs:/databricks-datasets/airlines/part-00606</td><td>part-00606</td><td>67108880</td><td>1436493438000</td></tr><tr><td>dbfs:/databricks-datasets/airlines/part-00607</td><td>part-00607</td><td>67108886</td><td>1436493438000</td></tr><tr><td>dbfs:/databricks-datasets/airlines/part-00608</td><td>part-00608</td><td>67108849</td><td>1436493438000</td></tr><tr><td>dbfs:/databricks-datasets/airlines/part-00609</td><td>part-00609</td><td>67108854</td><td>1436493439000</td></tr><tr><td>dbfs:/databricks-datasets/airlines/part-00610</td><td>part-00610</td><td>67108842</td><td>1436493439000</td></tr><tr><td>dbfs:/databricks-datasets/airlines/part-00611</td><td>part-00611</td><td>67108844</td><td>1436493440000</td></tr><tr><td>dbfs:/databricks-datasets/airlines/part-00612</td><td>part-00612</td><td>67108926</td><td>1436493440000</td></tr><tr><td>dbfs:/databricks-datasets/airlines/part-00613</td><td>part-00613</td><td>67108814</td><td>1436493441000</td></tr><tr><td>dbfs:/databricks-datasets/airlines/part-00614</td><td>part-00614</td><td>67108847</td><td>1436493441000</td></tr><tr><td>dbfs:/databricks-datasets/airlines/part-00615</td><td>part-00615</td><td>67108922</td><td>1436493441000</td></tr><tr><td>dbfs:/databricks-datasets/airlines/part-00616</td><td>part-00616</td><td>67108872</td><td>1436493442000</td></tr><tr><td>dbfs:/databricks-datasets/airlines/part-00617</td><td>part-00617</td><td>67108874</td><td>1436493442000</td></tr><tr><td>dbfs:/databricks-datasets/airlines/part-00618</td><td>part-00618</td><td>67108859</td><td>1436493443000</td></tr><tr><td>dbfs:/databricks-datasets/airlines/part-00619</td><td>part-00619</td><td>67108847</td><td>1436493443000</td></tr><tr><td>dbfs:/databricks-datasets/airlines/part-00620</td><td>part-00620</td><td>67108855</td><td>1436493443000</td></tr><tr><td>dbfs:/databricks-datasets/airlines/part-00621</td><td>part-00621</td><td>67108841</td><td>1436493444000</td></tr><tr><td>dbfs:/databricks-datasets/airlines/part-00622</td><td>part-00622</td><td>67108900</td><td>1436493444000</td></tr><tr><td>dbfs:/databricks-datasets/airlines/part-00623</td><td>part-00623</td><td>67108829</td><td>1436493444000</td></tr><tr><td>dbfs:/databricks-datasets/airlines/part-00624</td><td>part-00624</td><td>67108919</td><td>1436493445000</td></tr><tr><td>dbfs:/databricks-datasets/airlines/part-00625</td><td>part-00625</td><td>67108864</td><td>1436493445000</td></tr><tr><td>dbfs:/databricks-datasets/airlines/part-00626</td><td>part-00626</td><td>67108820</td><td>1436493446000</td></tr><tr><td>dbfs:/databricks-datasets/airlines/part-00627</td><td>part-00627</td><td>67108873</td><td>1436493446000</td></tr><tr><td>dbfs:/databricks-datasets/airlines/part-00628</td><td>part-00628</td><td>67108831</td><td>1436493447000</td></tr><tr><td>dbfs:/databricks-datasets/airlines/part-00629</td><td>part-00629</td><td>67108859</td><td>1436493447000</td></tr><tr><td>dbfs:/databricks-datasets/airlines/part-00630</td><td>part-00630</td><td>67108905</td><td>1436493447000</td></tr><tr><td>dbfs:/databricks-datasets/airlines/part-00631</td><td>part-00631</td><td>67108843</td><td>1436493448000</td></tr><tr><td>dbfs:/databricks-datasets/airlines/part-00632</td><td>part-00632</td><td>67108847</td><td>1436493448000</td></tr><tr><td>dbfs:/databricks-datasets/airlines/part-00633</td><td>part-00633</td><td>67108929</td><td>1436493449000</td></tr><tr><td>dbfs:/databricks-datasets/airlines/part-00634</td><td>part-00634</td><td>67108837</td><td>1436493449000</td></tr><tr><td>dbfs:/databricks-datasets/airlines/part-00635</td><td>part-00635</td><td>67108808</td><td>1436493449000</td></tr><tr><td>dbfs:/databricks-datasets/airlines/part-00636</td><td>part-00636</td><td>67108919</td><td>1436493450000</td></tr><tr><td>dbfs:/databricks-datasets/airlines/part-00637</td><td>part-00637</td><td>67108897</td><td>1436493450000</td></tr><tr><td>dbfs:/databricks-datasets/airlines/part-00638</td><td>part-00638</td><td>67108862</td><td>1436493451000</td></tr><tr><td>dbfs:/databricks-datasets/airlines/part-00639</td><td>part-00639</td><td>67108870</td><td>1436493451000</td></tr><tr><td>dbfs:/databricks-datasets/airlines/part-00640</td><td>part-00640</td><td>67108841</td><td>1436493452000</td></tr><tr><td>dbfs:/databricks-datasets/airlines/part-00641</td><td>part-00641</td><td>67108869</td><td>1436493452000</td></tr><tr><td>dbfs:/databricks-datasets/airlines/part-00642</td><td>part-00642</td><td>67108853</td><td>1436493453000</td></tr><tr><td>dbfs:/databricks-datasets/airlines/part-00643</td><td>part-00643</td><td>67108815</td><td>1436493453000</td></tr><tr><td>dbfs:/databricks-datasets/airlines/part-00644</td><td>part-00644</td><td>67108900</td><td>1436493454000</td></tr><tr><td>dbfs:/databricks-datasets/airlines/part-00645</td><td>part-00645</td><td>67108873</td><td>1436493454000</td></tr><tr><td>dbfs:/databricks-datasets/airlines/part-00646</td><td>part-00646</td><td>67108896</td><td>1436493455000</td></tr><tr><td>dbfs:/databricks-datasets/airlines/part-00647</td><td>part-00647</td><td>67108865</td><td>1436493456000</td></tr><tr><td>dbfs:/databricks-datasets/airlines/part-00648</td><td>part-00648</td><td>67108824</td><td>1436493456000</td></tr><tr><td>dbfs:/databricks-datasets/airlines/part-00649</td><td>part-00649</td><td>67108847</td><td>1436493457000</td></tr><tr><td>dbfs:/databricks-datasets/airlines/part-00650</td><td>part-00650</td><td>67108893</td><td>1436493457000</td></tr><tr><td>dbfs:/databricks-datasets/airlines/part-00651</td><td>part-00651</td><td>67108891</td><td>1436493458000</td></tr><tr><td>dbfs:/databricks-datasets/airlines/part-00652</td><td>part-00652</td><td>67108830</td><td>1436493458000</td></tr><tr><td>dbfs:/databricks-datasets/airlines/part-00653</td><td>part-00653</td><td>67108879</td><td>1436493459000</td></tr><tr><td>dbfs:/databricks-datasets/airlines/part-00654</td><td>part-00654</td><td>67108870</td><td>1436493459000</td></tr><tr><td>dbfs:/databricks-datasets/airlines/part-00655</td><td>part-00655</td><td>67108830</td><td>1436493460000</td></tr><tr><td>dbfs:/databricks-datasets/airlines/part-00656</td><td>part-00656</td><td>67108897</td><td>1436493461000</td></tr><tr><td>dbfs:/databricks-datasets/airlines/part-00657</td><td>part-00657</td><td>67108811</td><td>1436493461000</td></tr><tr><td>dbfs:/databricks-datasets/airlines/part-00658</td><td>part-00658</td><td>67108928</td><td>1436493462000</td></tr><tr><td>dbfs:/databricks-datasets/airlines/part-00659</td><td>part-00659</td><td>67108827</td><td>1436493462000</td></tr><tr><td>dbfs:/databricks-datasets/airlines/part-00660</td><td>part-00660</td><td>67108867</td><td>1436493463000</td></tr><tr><td>dbfs:/databricks-datasets/airlines/part-00661</td><td>part-00661</td><td>67108824</td><td>1436493463000</td></tr><tr><td>dbfs:/databricks-datasets/airlines/part-00662</td><td>part-00662</td><td>67108948</td><td>1436493464000</td></tr><tr><td>dbfs:/databricks-datasets/airlines/part-00663</td><td>part-00663</td><td>67108772</td><td>1436493464000</td></tr><tr><td>dbfs:/databricks-datasets/airlines/part-00664</td><td>part-00664</td><td>67108957</td><td>1436493465000</td></tr><tr><td>dbfs:/databricks-datasets/airlines/part-00665</td><td>part-00665</td><td>67108816</td><td>1436493466000</td></tr><tr><td>dbfs:/databricks-datasets/airlines/part-00666</td><td>part-00666</td><td>67108908</td><td>1436493466000</td></tr><tr><td>dbfs:/databricks-datasets/airlines/part-00667</td><td>part-00667</td><td>67108820</td><td>1436493467000</td></tr><tr><td>dbfs:/databricks-datasets/airlines/part-00668</td><td>part-00668</td><td>67108813</td><td>1436493467000</td></tr><tr><td>dbfs:/databricks-datasets/airlines/part-00669</td><td>part-00669</td><td>67108925</td><td>1436493468000</td></tr><tr><td>dbfs:/databricks-datasets/airlines/part-00670</td><td>part-00670</td><td>67108837</td><td>1436493468000</td></tr><tr><td>dbfs:/databricks-datasets/airlines/part-00671</td><td>part-00671</td><td>67108907</td><td>1436493469000</td></tr><tr><td>dbfs:/databricks-datasets/airlines/part-00672</td><td>part-00672</td><td>67108801</td><td>1436493469000</td></tr><tr><td>dbfs:/databricks-datasets/airlines/part-00673</td><td>part-00673</td><td>67108852</td><td>1436493470000</td></tr><tr><td>dbfs:/databricks-datasets/airlines/part-00674</td><td>part-00674</td><td>67108891</td><td>1436493470000</td></tr><tr><td>dbfs:/databricks-datasets/airlines/part-00675</td><td>part-00675</td><td>67108886</td><td>1436493471000</td></tr><tr><td>dbfs:/databricks-datasets/airlines/part-00676</td><td>part-00676</td><td>67108847</td><td>1436493472000</td></tr><tr><td>dbfs:/databricks-datasets/airlines/part-00677</td><td>part-00677</td><td>67108898</td><td>1436493472000</td></tr><tr><td>dbfs:/databricks-datasets/airlines/part-00678</td><td>part-00678</td><td>67108830</td><td>1436493473000</td></tr><tr><td>dbfs:/databricks-datasets/airlines/part-00679</td><td>part-00679</td><td>67108931</td><td>1436493473000</td></tr><tr><td>dbfs:/databricks-datasets/airlines/part-00680</td><td>part-00680</td><td>67108780</td><td>1436493474000</td></tr><tr><td>dbfs:/databricks-datasets/airlines/part-00681</td><td>part-00681</td><td>67108903</td><td>1436493474000</td></tr><tr><td>dbfs:/databricks-datasets/airlines/part-00682</td><td>part-00682</td><td>67108885</td><td>1436493475000</td></tr><tr><td>dbfs:/databricks-datasets/airlines/part-00683</td><td>part-00683</td><td>67108805</td><td>1436493475000</td></tr><tr><td>dbfs:/databricks-datasets/airlines/part-00684</td><td>part-00684</td><td>67108923</td><td>1436493476000</td></tr><tr><td>dbfs:/databricks-datasets/airlines/part-00685</td><td>part-00685</td><td>67591887</td><td>1436493476000</td></tr><tr><td>dbfs:/databricks-datasets/airlines/part-00686</td><td>part-00686</td><td>67768861</td><td>1436493476000</td></tr><tr><td>dbfs:/databricks-datasets/airlines/part-00687</td><td>part-00687</td><td>67828831</td><td>1436493477000</td></tr><tr><td>dbfs:/databricks-datasets/airlines/part-00688</td><td>part-00688</td><td>67805254</td><td>1436493477000</td></tr><tr><td>dbfs:/databricks-datasets/airlines/part-00689</td><td>part-00689</td><td>67906188</td><td>1436493478000</td></tr><tr><td>dbfs:/databricks-datasets/airlines/part-00690</td><td>part-00690</td><td>67827621</td><td>1436493478000</td></tr><tr><td>dbfs:/databricks-datasets/airlines/part-00691</td><td>part-00691</td><td>67801283</td><td>1436493478000</td></tr><tr><td>dbfs:/databricks-datasets/airlines/part-00692</td><td>part-00692</td><td>67948508</td><td>1436493479000</td></tr><tr><td>dbfs:/databricks-datasets/airlines/part-00693</td><td>part-00693</td><td>67797060</td><td>1436493479000</td></tr><tr><td>dbfs:/databricks-datasets/airlines/part-00694</td><td>part-00694</td><td>67812366</td><td>1436493480000</td></tr><tr><td>dbfs:/databricks-datasets/airlines/part-00695</td><td>part-00695</td><td>67741501</td><td>1436493480000</td></tr><tr><td>dbfs:/databricks-datasets/airlines/part-00696</td><td>part-00696</td><td>67420515</td><td>1436493481000</td></tr><tr><td>dbfs:/databricks-datasets/airlines/part-00697</td><td>part-00697</td><td>67108917</td><td>1436493481000</td></tr><tr><td>dbfs:/databricks-datasets/airlines/part-00698</td><td>part-00698</td><td>67108830</td><td>1436493482000</td></tr><tr><td>dbfs:/databricks-datasets/airlines/part-00699</td><td>part-00699</td><td>67108866</td><td>1436493482000</td></tr><tr><td>dbfs:/databricks-datasets/airlines/part-00700</td><td>part-00700</td><td>67108840</td><td>1436493483000</td></tr><tr><td>dbfs:/databricks-datasets/airlines/part-00701</td><td>part-00701</td><td>67108958</td><td>1436493483000</td></tr><tr><td>dbfs:/databricks-datasets/airlines/part-00702</td><td>part-00702</td><td>67108833</td><td>1436493483000</td></tr><tr><td>dbfs:/databricks-datasets/airlines/part-00703</td><td>part-00703</td><td>67108862</td><td>1436493484000</td></tr><tr><td>dbfs:/databricks-datasets/airlines/part-00704</td><td>part-00704</td><td>67108850</td><td>1436493484000</td></tr><tr><td>dbfs:/databricks-datasets/airlines/part-00705</td><td>part-00705</td><td>67108890</td><td>1436493485000</td></tr><tr><td>dbfs:/databricks-datasets/airlines/part-00706</td><td>part-00706</td><td>67108848</td><td>1436493485000</td></tr><tr><td>dbfs:/databricks-datasets/airlines/part-00707</td><td>part-00707</td><td>67108802</td><td>1436493486000</td></tr><tr><td>dbfs:/databricks-datasets/airlines/part-00708</td><td>part-00708</td><td>67108915</td><td>1436493486000</td></tr><tr><td>dbfs:/databricks-datasets/airlines/part-00709</td><td>part-00709</td><td>67108887</td><td>1436493486000</td></tr><tr><td>dbfs:/databricks-datasets/airlines/part-00710</td><td>part-00710</td><td>67108812</td><td>1436493487000</td></tr><tr><td>dbfs:/databricks-datasets/airlines/part-00711</td><td>part-00711</td><td>67108866</td><td>1436493487000</td></tr><tr><td>dbfs:/databricks-datasets/airlines/part-00712</td><td>part-00712</td><td>67108863</td><td>1436493488000</td></tr><tr><td>dbfs:/databricks-datasets/airlines/part-00713</td><td>part-00713</td><td>67108859</td><td>1436493488000</td></tr><tr><td>dbfs:/databricks-datasets/airlines/part-00714</td><td>part-00714</td><td>67108888</td><td>1436493489000</td></tr><tr><td>dbfs:/databricks-datasets/airlines/part-00715</td><td>part-00715</td><td>67108837</td><td>1436493489000</td></tr><tr><td>dbfs:/databricks-datasets/airlines/part-00716</td><td>part-00716</td><td>67108928</td><td>1436493489000</td></tr><tr><td>dbfs:/databricks-datasets/airlines/part-00717</td><td>part-00717</td><td>67108779</td><td>1436493490000</td></tr><tr><td>dbfs:/databricks-datasets/airlines/part-00718</td><td>part-00718</td><td>67108921</td><td>1436493490000</td></tr><tr><td>dbfs:/databricks-datasets/airlines/part-00719</td><td>part-00719</td><td>67108888</td><td>1436493491000</td></tr><tr><td>dbfs:/databricks-datasets/airlines/part-00720</td><td>part-00720</td><td>67108812</td><td>1436493491000</td></tr><tr><td>dbfs:/databricks-datasets/airlines/part-00721</td><td>part-00721</td><td>67108919</td><td>1436493492000</td></tr><tr><td>dbfs:/databricks-datasets/airlines/part-00722</td><td>part-00722</td><td>67108784</td><td>1436493492000</td></tr><tr><td>dbfs:/databricks-datasets/airlines/part-00723</td><td>part-00723</td><td>67108857</td><td>1436493493000</td></tr><tr><td>dbfs:/databricks-datasets/airlines/part-00724</td><td>part-00724</td><td>67108911</td><td>1436493493000</td></tr><tr><td>dbfs:/databricks-datasets/airlines/part-00725</td><td>part-00725</td><td>67108863</td><td>1436493494000</td></tr><tr><td>dbfs:/databricks-datasets/airlines/part-00726</td><td>part-00726</td><td>67108874</td><td>1436493494000</td></tr><tr><td>dbfs:/databricks-datasets/airlines/part-00727</td><td>part-00727</td><td>67108830</td><td>1436493495000</td></tr><tr><td>dbfs:/databricks-datasets/airlines/part-00728</td><td>part-00728</td><td>67108861</td><td>1436493495000</td></tr><tr><td>dbfs:/databricks-datasets/airlines/part-00729</td><td>part-00729</td><td>67108880</td><td>1436493495000</td></tr><tr><td>dbfs:/databricks-datasets/airlines/part-00730</td><td>part-00730</td><td>67108831</td><td>1436493496000</td></tr><tr><td>dbfs:/databricks-datasets/airlines/part-00731</td><td>part-00731</td><td>67108932</td><td>1436493496000</td></tr><tr><td>dbfs:/databricks-datasets/airlines/part-00732</td><td>part-00732</td><td>67108839</td><td>1436493496000</td></tr><tr><td>dbfs:/databricks-datasets/airlines/part-00733</td><td>part-00733</td><td>67108821</td><td>1436493497000</td></tr><tr><td>dbfs:/databricks-datasets/airlines/part-00734</td><td>part-00734</td><td>67108903</td><td>1436493497000</td></tr><tr><td>dbfs:/databricks-datasets/airlines/part-00735</td><td>part-00735</td><td>67108867</td><td>1436493498000</td></tr><tr><td>dbfs:/databricks-datasets/airlines/part-00736</td><td>part-00736</td><td>67108865</td><td>1436493498000</td></tr><tr><td>dbfs:/databricks-datasets/airlines/part-00737</td><td>part-00737</td><td>67108854</td><td>1436493499000</td></tr><tr><td>dbfs:/databricks-datasets/airlines/part-00738</td><td>part-00738</td><td>67108829</td><td>1436493499000</td></tr><tr><td>dbfs:/databricks-datasets/airlines/part-00739</td><td>part-00739</td><td>67108870</td><td>1436493499000</td></tr><tr><td>dbfs:/databricks-datasets/airlines/part-00740</td><td>part-00740</td><td>67108871</td><td>1436493500000</td></tr><tr><td>dbfs:/databricks-datasets/airlines/part-00741</td><td>part-00741</td><td>67108852</td><td>1436493500000</td></tr><tr><td>dbfs:/databricks-datasets/airlines/part-00742</td><td>part-00742</td><td>67108932</td><td>1436493501000</td></tr><tr><td>dbfs:/databricks-datasets/airlines/part-00743</td><td>part-00743</td><td>67108847</td><td>1436493501000</td></tr><tr><td>dbfs:/databricks-datasets/airlines/part-00744</td><td>part-00744</td><td>67108895</td><td>1436493501000</td></tr><tr><td>dbfs:/databricks-datasets/airlines/part-00745</td><td>part-00745</td><td>67108800</td><td>1436493502000</td></tr><tr><td>dbfs:/databricks-datasets/airlines/part-00746</td><td>part-00746</td><td>67108877</td><td>1436493502000</td></tr><tr><td>dbfs:/databricks-datasets/airlines/part-00747</td><td>part-00747</td><td>67108933</td><td>1436493503000</td></tr><tr><td>dbfs:/databricks-datasets/airlines/part-00748</td><td>part-00748</td><td>67108829</td><td>1436493503000</td></tr><tr><td>dbfs:/databricks-datasets/airlines/part-00749</td><td>part-00749</td><td>67108852</td><td>1436493504000</td></tr><tr><td>dbfs:/databricks-datasets/airlines/part-00750</td><td>part-00750</td><td>67108857</td><td>1436493504000</td></tr><tr><td>dbfs:/databricks-datasets/airlines/part-00751</td><td>part-00751</td><td>67108882</td><td>1436493504000</td></tr><tr><td>dbfs:/databricks-datasets/airlines/part-00752</td><td>part-00752</td><td>67108803</td><td>1436493505000</td></tr><tr><td>dbfs:/databricks-datasets/airlines/part-00753</td><td>part-00753</td><td>67108926</td><td>1436493505000</td></tr><tr><td>dbfs:/databricks-datasets/airlines/part-00754</td><td>part-00754</td><td>67108798</td><td>1436493506000</td></tr><tr><td>dbfs:/databricks-datasets/airlines/part-00755</td><td>part-00755</td><td>67108889</td><td>1436493506000</td></tr><tr><td>dbfs:/databricks-datasets/airlines/part-00756</td><td>part-00756</td><td>67108887</td><td>1436493506000</td></tr><tr><td>dbfs:/databricks-datasets/airlines/part-00757</td><td>part-00757</td><td>67108914</td><td>1436493507000</td></tr><tr><td>dbfs:/databricks-datasets/airlines/part-00758</td><td>part-00758</td><td>67108812</td><td>1436493507000</td></tr><tr><td>dbfs:/databricks-datasets/airlines/part-00759</td><td>part-00759</td><td>67108914</td><td>1436493508000</td></tr><tr><td>dbfs:/databricks-datasets/airlines/part-00760</td><td>part-00760</td><td>67108829</td><td>1436493508000</td></tr><tr><td>dbfs:/databricks-datasets/airlines/part-00761</td><td>part-00761</td><td>67108860</td><td>1436493509000</td></tr><tr><td>dbfs:/databricks-datasets/airlines/part-00762</td><td>part-00762</td><td>67108880</td><td>1436493509000</td></tr><tr><td>dbfs:/databricks-datasets/airlines/part-00763</td><td>part-00763</td><td>67108804</td><td>1436493510000</td></tr><tr><td>dbfs:/databricks-datasets/airlines/part-00764</td><td>part-00764</td><td>67108939</td><td>1436493510000</td></tr><tr><td>dbfs:/databricks-datasets/airlines/part-00765</td><td>part-00765</td><td>67108817</td><td>1436493511000</td></tr><tr><td>dbfs:/databricks-datasets/airlines/part-00766</td><td>part-00766</td><td>67108887</td><td>1436493511000</td></tr><tr><td>dbfs:/databricks-datasets/airlines/part-00767</td><td>part-00767</td><td>67108832</td><td>1436493512000</td></tr><tr><td>dbfs:/databricks-datasets/airlines/part-00768</td><td>part-00768</td><td>67108836</td><td>1436493512000</td></tr><tr><td>dbfs:/databricks-datasets/airlines/part-00769</td><td>part-00769</td><td>67108901</td><td>1436493512000</td></tr><tr><td>dbfs:/databricks-datasets/airlines/part-00770</td><td>part-00770</td><td>67108920</td><td>1436493513000</td></tr><tr><td>dbfs:/databricks-datasets/airlines/part-00771</td><td>part-00771</td><td>67108799</td><td>1436493513000</td></tr><tr><td>dbfs:/databricks-datasets/airlines/part-00772</td><td>part-00772</td><td>67108837</td><td>1436493514000</td></tr><tr><td>dbfs:/databricks-datasets/airlines/part-00773</td><td>part-00773</td><td>67108913</td><td>1436493514000</td></tr><tr><td>dbfs:/databricks-datasets/airlines/part-00774</td><td>part-00774</td><td>67108883</td><td>1436493514000</td></tr><tr><td>dbfs:/databricks-datasets/airlines/part-00775</td><td>part-00775</td><td>67108875</td><td>1436493515000</td></tr><tr><td>dbfs:/databricks-datasets/airlines/part-00776</td><td>part-00776</td><td>67108840</td><td>1436493515000</td></tr><tr><td>dbfs:/databricks-datasets/airlines/part-00777</td><td>part-00777</td><td>67108874</td><td>1436493516000</td></tr><tr><td>dbfs:/databricks-datasets/airlines/part-00778</td><td>part-00778</td><td>67108832</td><td>1436493516000</td></tr><tr><td>dbfs:/databricks-datasets/airlines/part-00779</td><td>part-00779</td><td>67108861</td><td>1436493517000</td></tr><tr><td>dbfs:/databricks-datasets/airlines/part-00780</td><td>part-00780</td><td>67108901</td><td>1436493517000</td></tr><tr><td>dbfs:/databricks-datasets/airlines/part-00781</td><td>part-00781</td><td>67108807</td><td>1436493518000</td></tr><tr><td>dbfs:/databricks-datasets/airlines/part-00782</td><td>part-00782</td><td>67108875</td><td>1436493518000</td></tr><tr><td>dbfs:/databricks-datasets/airlines/part-00783</td><td>part-00783</td><td>67108890</td><td>1436493518000</td></tr><tr><td>dbfs:/databricks-datasets/airlines/part-00784</td><td>part-00784</td><td>67108831</td><td>1436493519000</td></tr><tr><td>dbfs:/databricks-datasets/airlines/part-00785</td><td>part-00785</td><td>67108877</td><td>1436493519000</td></tr><tr><td>dbfs:/databricks-datasets/airlines/part-00786</td><td>part-00786</td><td>67108908</td><td>1436493520000</td></tr><tr><td>dbfs:/databricks-datasets/airlines/part-00787</td><td>part-00787</td><td>67108794</td><td>1436493520000</td></tr><tr><td>dbfs:/databricks-datasets/airlines/part-00788</td><td>part-00788</td><td>67108910</td><td>1436493520000</td></tr><tr><td>dbfs:/databricks-datasets/airlines/part-00789</td><td>part-00789</td><td>67108830</td><td>1436493521000</td></tr><tr><td>dbfs:/databricks-datasets/airlines/part-00790</td><td>part-00790</td><td>67108933</td><td>1436493521000</td></tr><tr><td>dbfs:/databricks-datasets/airlines/part-00791</td><td>part-00791</td><td>67108820</td><td>1436493522000</td></tr><tr><td>dbfs:/databricks-datasets/airlines/part-00792</td><td>part-00792</td><td>67108832</td><td>1436493522000</td></tr><tr><td>dbfs:/databricks-datasets/airlines/part-00793</td><td>part-00793</td><td>67108959</td><td>1436493522000</td></tr><tr><td>dbfs:/databricks-datasets/airlines/part-00794</td><td>part-00794</td><td>67108828</td><td>1436493523000</td></tr><tr><td>dbfs:/databricks-datasets/airlines/part-00795</td><td>part-00795</td><td>67108835</td><td>1436493523000</td></tr><tr><td>dbfs:/databricks-datasets/airlines/part-00796</td><td>part-00796</td><td>67108879</td><td>1436493524000</td></tr><tr><td>dbfs:/databricks-datasets/airlines/part-00797</td><td>part-00797</td><td>67108856</td><td>1436493524000</td></tr><tr><td>dbfs:/databricks-datasets/airlines/part-00798</td><td>part-00798</td><td>67108879</td><td>1436493525000</td></tr><tr><td>dbfs:/databricks-datasets/airlines/part-00799</td><td>part-00799</td><td>67108844</td><td>1436493525000</td></tr><tr><td>dbfs:/databricks-datasets/airlines/part-00800</td><td>part-00800</td><td>67108822</td><td>1436493526000</td></tr><tr><td>dbfs:/databricks-datasets/airlines/part-00801</td><td>part-00801</td><td>67108948</td><td>1436493526000</td></tr><tr><td>dbfs:/databricks-datasets/airlines/part-00802</td><td>part-00802</td><td>67108780</td><td>1436493527000</td></tr><tr><td>dbfs:/databricks-datasets/airlines/part-00803</td><td>part-00803</td><td>67108927</td><td>1436493527000</td></tr><tr><td>dbfs:/databricks-datasets/airlines/part-00804</td><td>part-00804</td><td>67108861</td><td>1436493527000</td></tr><tr><td>dbfs:/databricks-datasets/airlines/part-00805</td><td>part-00805</td><td>67108819</td><td>1436493528000</td></tr><tr><td>dbfs:/databricks-datasets/airlines/part-00806</td><td>part-00806</td><td>67108850</td><td>1436493528000</td></tr><tr><td>dbfs:/databricks-datasets/airlines/part-00807</td><td>part-00807</td><td>67108934</td><td>1436493529000</td></tr><tr><td>dbfs:/databricks-datasets/airlines/part-00808</td><td>part-00808</td><td>67108828</td><td>1436493529000</td></tr><tr><td>dbfs:/databricks-datasets/airlines/part-00809</td><td>part-00809</td><td>67108903</td><td>1436493530000</td></tr><tr><td>dbfs:/databricks-datasets/airlines/part-00810</td><td>part-00810</td><td>67108827</td><td>1436493530000</td></tr><tr><td>dbfs:/databricks-datasets/airlines/part-00811</td><td>part-00811</td><td>67108890</td><td>1436493530000</td></tr><tr><td>dbfs:/databricks-datasets/airlines/part-00812</td><td>part-00812</td><td>67108836</td><td>1436493531000</td></tr><tr><td>dbfs:/databricks-datasets/airlines/part-00813</td><td>part-00813</td><td>67108924</td><td>1436493531000</td></tr><tr><td>dbfs:/databricks-datasets/airlines/part-00814</td><td>part-00814</td><td>67108816</td><td>1436493531000</td></tr><tr><td>dbfs:/databricks-datasets/airlines/part-00815</td><td>part-00815</td><td>67108863</td><td>1436493532000</td></tr><tr><td>dbfs:/databricks-datasets/airlines/part-00816</td><td>part-00816</td><td>67108904</td><td>1436493532000</td></tr><tr><td>dbfs:/databricks-datasets/airlines/part-00817</td><td>part-00817</td><td>67108790</td><td>1436493533000</td></tr><tr><td>dbfs:/databricks-datasets/airlines/part-00818</td><td>part-00818</td><td>67108921</td><td>1436493533000</td></tr><tr><td>dbfs:/databricks-datasets/airlines/part-00819</td><td>part-00819</td><td>67108837</td><td>1436493534000</td></tr><tr><td>dbfs:/databricks-datasets/airlines/part-00820</td><td>part-00820</td><td>67108870</td><td>1436493535000</td></tr><tr><td>dbfs:/databricks-datasets/airlines/part-00821</td><td>part-00821</td><td>67108902</td><td>1436493535000</td></tr><tr><td>dbfs:/databricks-datasets/airlines/part-00822</td><td>part-00822</td><td>67108818</td><td>1436493536000</td></tr><tr><td>dbfs:/databricks-datasets/airlines/part-00823</td><td>part-00823</td><td>67108915</td><td>1436493536000</td></tr><tr><td>dbfs:/databricks-datasets/airlines/part-00824</td><td>part-00824</td><td>67108870</td><td>1436493537000</td></tr><tr><td>dbfs:/databricks-datasets/airlines/part-00825</td><td>part-00825</td><td>67108779</td><td>1436493537000</td></tr><tr><td>dbfs:/databricks-datasets/airlines/part-00826</td><td>part-00826</td><td>67108862</td><td>1436493537000</td></tr><tr><td>dbfs:/databricks-datasets/airlines/part-00827</td><td>part-00827</td><td>67108902</td><td>1436493538000</td></tr><tr><td>dbfs:/databricks-datasets/airlines/part-00828</td><td>part-00828</td><td>67108866</td><td>1436493538000</td></tr><tr><td>dbfs:/databricks-datasets/airlines/part-00829</td><td>part-00829</td><td>67108837</td><td>1436493538000</td></tr><tr><td>dbfs:/databricks-datasets/airlines/part-00830</td><td>part-00830</td><td>67108873</td><td>1436493539000</td></tr><tr><td>dbfs:/databricks-datasets/airlines/part-00831</td><td>part-00831</td><td>67108847</td><td>1436493539000</td></tr><tr><td>dbfs:/databricks-datasets/airlines/part-00832</td><td>part-00832</td><td>67108906</td><td>1436493540000</td></tr><tr><td>dbfs:/databricks-datasets/airlines/part-00833</td><td>part-00833</td><td>67108814</td><td>1436493540000</td></tr><tr><td>dbfs:/databricks-datasets/airlines/part-00834</td><td>part-00834</td><td>67108905</td><td>1436493540000</td></tr><tr><td>dbfs:/databricks-datasets/airlines/part-00835</td><td>part-00835</td><td>67108896</td><td>1436493541000</td></tr><tr><td>dbfs:/databricks-datasets/airlines/part-00836</td><td>part-00836</td><td>67108855</td><td>1436493541000</td></tr><tr><td>dbfs:/databricks-datasets/airlines/part-00837</td><td>part-00837</td><td>67108879</td><td>1436493542000</td></tr><tr><td>dbfs:/databricks-datasets/airlines/part-00838</td><td>part-00838</td><td>67108874</td><td>1436493542000</td></tr><tr><td>dbfs:/databricks-datasets/airlines/part-00839</td><td>part-00839</td><td>67108803</td><td>1436493543000</td></tr><tr><td>dbfs:/databricks-datasets/airlines/part-00840</td><td>part-00840</td><td>67108854</td><td>1436493543000</td></tr><tr><td>dbfs:/databricks-datasets/airlines/part-00841</td><td>part-00841</td><td>67108910</td><td>1436493543000</td></tr><tr><td>dbfs:/databricks-datasets/airlines/part-00842</td><td>part-00842</td><td>67108812</td><td>1436493544000</td></tr><tr><td>dbfs:/databricks-datasets/airlines/part-00843</td><td>part-00843</td><td>67108905</td><td>1436493544000</td></tr><tr><td>dbfs:/databricks-datasets/airlines/part-00844</td><td>part-00844</td><td>67108807</td><td>1436493545000</td></tr><tr><td>dbfs:/databricks-datasets/airlines/part-00845</td><td>part-00845</td><td>67108951</td><td>1436493545000</td></tr><tr><td>dbfs:/databricks-datasets/airlines/part-00846</td><td>part-00846</td><td>67108794</td><td>1436493545000</td></tr><tr><td>dbfs:/databricks-datasets/airlines/part-00847</td><td>part-00847</td><td>67108874</td><td>1436493546000</td></tr><tr><td>dbfs:/databricks-datasets/airlines/part-00848</td><td>part-00848</td><td>67108854</td><td>1436493546000</td></tr><tr><td>dbfs:/databricks-datasets/airlines/part-00849</td><td>part-00849</td><td>67108876</td><td>1436493547000</td></tr><tr><td>dbfs:/databricks-datasets/airlines/part-00850</td><td>part-00850</td><td>67108927</td><td>1436493547000</td></tr><tr><td>dbfs:/databricks-datasets/airlines/part-00851</td><td>part-00851</td><td>67108815</td><td>1436493547000</td></tr><tr><td>dbfs:/databricks-datasets/airlines/part-00852</td><td>part-00852</td><td>67108879</td><td>1436493548000</td></tr><tr><td>dbfs:/databricks-datasets/airlines/part-00853</td><td>part-00853</td><td>67108868</td><td>1436493548000</td></tr><tr><td>dbfs:/databricks-datasets/airlines/part-00854</td><td>part-00854</td><td>67108858</td><td>1436493549000</td></tr><tr><td>dbfs:/databricks-datasets/airlines/part-00855</td><td>part-00855</td><td>67108904</td><td>1436493549000</td></tr><tr><td>dbfs:/databricks-datasets/airlines/part-00856</td><td>part-00856</td><td>67108772</td><td>1436493549000</td></tr><tr><td>dbfs:/databricks-datasets/airlines/part-00857</td><td>part-00857</td><td>67108939</td><td>1436493550000</td></tr><tr><td>dbfs:/databricks-datasets/airlines/part-00858</td><td>part-00858</td><td>67108840</td><td>1436493550000</td></tr><tr><td>dbfs:/databricks-datasets/airlines/part-00859</td><td>part-00859</td><td>67108840</td><td>1436493551000</td></tr><tr><td>dbfs:/databricks-datasets/airlines/part-00860</td><td>part-00860</td><td>67108868</td><td>1436493551000</td></tr><tr><td>dbfs:/databricks-datasets/airlines/part-00861</td><td>part-00861</td><td>67108880</td><td>1436493552000</td></tr><tr><td>dbfs:/databricks-datasets/airlines/part-00862</td><td>part-00862</td><td>67108888</td><td>1436493552000</td></tr><tr><td>dbfs:/databricks-datasets/airlines/part-00863</td><td>part-00863</td><td>67108861</td><td>1436493553000</td></tr><tr><td>dbfs:/databricks-datasets/airlines/part-00864</td><td>part-00864</td><td>67108863</td><td>1436493553000</td></tr><tr><td>dbfs:/databricks-datasets/airlines/part-00865</td><td>part-00865</td><td>67108878</td><td>1436493553000</td></tr><tr><td>dbfs:/databricks-datasets/airlines/part-00866</td><td>part-00866</td><td>67108794</td><td>1436493554000</td></tr><tr><td>dbfs:/databricks-datasets/airlines/part-00867</td><td>part-00867</td><td>67108893</td><td>1436493554000</td></tr><tr><td>dbfs:/databricks-datasets/airlines/part-00868</td><td>part-00868</td><td>67108909</td><td>1436493555000</td></tr><tr><td>dbfs:/databricks-datasets/airlines/part-00869</td><td>part-00869</td><td>67108871</td><td>1436493555000</td></tr><tr><td>dbfs:/databricks-datasets/airlines/part-00870</td><td>part-00870</td><td>67108784</td><td>1436493556000</td></tr><tr><td>dbfs:/databricks-datasets/airlines/part-00871</td><td>part-00871</td><td>67108878</td><td>1436493556000</td></tr><tr><td>dbfs:/databricks-datasets/airlines/part-00872</td><td>part-00872</td><td>67108852</td><td>1436493556000</td></tr><tr><td>dbfs:/databricks-datasets/airlines/part-00873</td><td>part-00873</td><td>67108946</td><td>1436493557000</td></tr><tr><td>dbfs:/databricks-datasets/airlines/part-00874</td><td>part-00874</td><td>67108789</td><td>1436493557000</td></tr><tr><td>dbfs:/databricks-datasets/airlines/part-00875</td><td>part-00875</td><td>67108867</td><td>1436493558000</td></tr><tr><td>dbfs:/databricks-datasets/airlines/part-00876</td><td>part-00876</td><td>67108922</td><td>1436493558000</td></tr><tr><td>dbfs:/databricks-datasets/airlines/part-00877</td><td>part-00877</td><td>67596536</td><td>1436493558000</td></tr><tr><td>dbfs:/databricks-datasets/airlines/part-00878</td><td>part-00878</td><td>67768996</td><td>1436493559000</td></tr><tr><td>dbfs:/databricks-datasets/airlines/part-00879</td><td>part-00879</td><td>67881068</td><td>1436493559000</td></tr><tr><td>dbfs:/databricks-datasets/airlines/part-00880</td><td>part-00880</td><td>67777178</td><td>1436493560000</td></tr><tr><td>dbfs:/databricks-datasets/airlines/part-00881</td><td>part-00881</td><td>67911030</td><td>1436493560000</td></tr><tr><td>dbfs:/databricks-datasets/airlines/part-00882</td><td>part-00882</td><td>67825828</td><td>1436493561000</td></tr><tr><td>dbfs:/databricks-datasets/airlines/part-00883</td><td>part-00883</td><td>67774851</td><td>1436493561000</td></tr><tr><td>dbfs:/databricks-datasets/airlines/part-00884</td><td>part-00884</td><td>67998573</td><td>1436493562000</td></tr><tr><td>dbfs:/databricks-datasets/airlines/part-00885</td><td>part-00885</td><td>67798303</td><td>1436493562000</td></tr><tr><td>dbfs:/databricks-datasets/airlines/part-00886</td><td>part-00886</td><td>67755767</td><td>1436493562000</td></tr><tr><td>dbfs:/databricks-datasets/airlines/part-00887</td><td>part-00887</td><td>67773693</td><td>1436493563000</td></tr><tr><td>dbfs:/databricks-datasets/airlines/part-00888</td><td>part-00888</td><td>67388099</td><td>1436493563000</td></tr><tr><td>dbfs:/databricks-datasets/airlines/part-00889</td><td>part-00889</td><td>67108855</td><td>1436493564000</td></tr><tr><td>dbfs:/databricks-datasets/airlines/part-00890</td><td>part-00890</td><td>67108820</td><td>1436493564000</td></tr><tr><td>dbfs:/databricks-datasets/airlines/part-00891</td><td>part-00891</td><td>67108942</td><td>1436493565000</td></tr><tr><td>dbfs:/databricks-datasets/airlines/part-00892</td><td>part-00892</td><td>67108778</td><td>1436493565000</td></tr><tr><td>dbfs:/databricks-datasets/airlines/part-00893</td><td>part-00893</td><td>67108868</td><td>1436493566000</td></tr><tr><td>dbfs:/databricks-datasets/airlines/part-00894</td><td>part-00894</td><td>67108915</td><td>1436493566000</td></tr><tr><td>dbfs:/databricks-datasets/airlines/part-00895</td><td>part-00895</td><td>67108887</td><td>1436493567000</td></tr><tr><td>dbfs:/databricks-datasets/airlines/part-00896</td><td>part-00896</td><td>67108815</td><td>1436493567000</td></tr><tr><td>dbfs:/databricks-datasets/airlines/part-00897</td><td>part-00897</td><td>67108841</td><td>1436493568000</td></tr><tr><td>dbfs:/databricks-datasets/airlines/part-00898</td><td>part-00898</td><td>67108876</td><td>1436493568000</td></tr><tr><td>dbfs:/databricks-datasets/airlines/part-00899</td><td>part-00899</td><td>67108920</td><td>1436493569000</td></tr><tr><td>dbfs:/databricks-datasets/airlines/part-00900</td><td>part-00900</td><td>67108783</td><td>1436493569000</td></tr><tr><td>dbfs:/databricks-datasets/airlines/part-00901</td><td>part-00901</td><td>67108943</td><td>1436493569000</td></tr><tr><td>dbfs:/databricks-datasets/airlines/part-00902</td><td>part-00902</td><td>67108833</td><td>1436493570000</td></tr><tr><td>dbfs:/databricks-datasets/airlines/part-00903</td><td>part-00903</td><td>67108833</td><td>1436493570000</td></tr><tr><td>dbfs:/databricks-datasets/airlines/part-00904</td><td>part-00904</td><td>67108854</td><td>1436493571000</td></tr><tr><td>dbfs:/databricks-datasets/airlines/part-00905</td><td>part-00905</td><td>67108905</td><td>1436493571000</td></tr><tr><td>dbfs:/databricks-datasets/airlines/part-00906</td><td>part-00906</td><td>67108841</td><td>1436493572000</td></tr><tr><td>dbfs:/databricks-datasets/airlines/part-00907</td><td>part-00907</td><td>67108879</td><td>1436493573000</td></tr><tr><td>dbfs:/databricks-datasets/airlines/part-00908</td><td>part-00908</td><td>67108858</td><td>1436493573000</td></tr><tr><td>dbfs:/databricks-datasets/airlines/part-00909</td><td>part-00909</td><td>67108890</td><td>1436493574000</td></tr><tr><td>dbfs:/databricks-datasets/airlines/part-00910</td><td>part-00910</td><td>67108827</td><td>1436493574000</td></tr><tr><td>dbfs:/databricks-datasets/airlines/part-00911</td><td>part-00911</td><td>67108870</td><td>1436493575000</td></tr><tr><td>dbfs:/databricks-datasets/airlines/part-00912</td><td>part-00912</td><td>67108880</td><td>1436493575000</td></tr><tr><td>dbfs:/databricks-datasets/airlines/part-00913</td><td>part-00913</td><td>67108827</td><td>1436493575000</td></tr><tr><td>dbfs:/databricks-datasets/airlines/part-00914</td><td>part-00914</td><td>67108868</td><td>1436493576000</td></tr><tr><td>dbfs:/databricks-datasets/airlines/part-00915</td><td>part-00915</td><td>67108938</td><td>1436493576000</td></tr><tr><td>dbfs:/databricks-datasets/airlines/part-00916</td><td>part-00916</td><td>67108806</td><td>1436493577000</td></tr><tr><td>dbfs:/databricks-datasets/airlines/part-00917</td><td>part-00917</td><td>67108874</td><td>1436493577000</td></tr><tr><td>dbfs:/databricks-datasets/airlines/part-00918</td><td>part-00918</td><td>67108828</td><td>1436493578000</td></tr><tr><td>dbfs:/databricks-datasets/airlines/part-00919</td><td>part-00919</td><td>67108893</td><td>1436493578000</td></tr><tr><td>dbfs:/databricks-datasets/airlines/part-00920</td><td>part-00920</td><td>67108926</td><td>1436493579000</td></tr><tr><td>dbfs:/databricks-datasets/airlines/part-00921</td><td>part-00921</td><td>67108815</td><td>1436493579000</td></tr><tr><td>dbfs:/databricks-datasets/airlines/part-00922</td><td>part-00922</td><td>67108901</td><td>1436493580000</td></tr><tr><td>dbfs:/databricks-datasets/airlines/part-00923</td><td>part-00923</td><td>67108867</td><td>1436493580000</td></tr><tr><td>dbfs:/databricks-datasets/airlines/part-00924</td><td>part-00924</td><td>67108772</td><td>1436493580000</td></tr><tr><td>dbfs:/databricks-datasets/airlines/part-00925</td><td>part-00925</td><td>67108946</td><td>1436493581000</td></tr><tr><td>dbfs:/databricks-datasets/airlines/part-00926</td><td>part-00926</td><td>67108847</td><td>1436493581000</td></tr><tr><td>dbfs:/databricks-datasets/airlines/part-00927</td><td>part-00927</td><td>67108896</td><td>1436493582000</td></tr><tr><td>dbfs:/databricks-datasets/airlines/part-00928</td><td>part-00928</td><td>67108826</td><td>1436493582000</td></tr><tr><td>dbfs:/databricks-datasets/airlines/part-00929</td><td>part-00929</td><td>67108885</td><td>1436493582000</td></tr><tr><td>dbfs:/databricks-datasets/airlines/part-00930</td><td>part-00930</td><td>67108796</td><td>1436493583000</td></tr><tr><td>dbfs:/databricks-datasets/airlines/part-00931</td><td>part-00931</td><td>67108913</td><td>1436493583000</td></tr><tr><td>dbfs:/databricks-datasets/airlines/part-00932</td><td>part-00932</td><td>67108806</td><td>1436493584000</td></tr><tr><td>dbfs:/databricks-datasets/airlines/part-00933</td><td>part-00933</td><td>67108903</td><td>1436493584000</td></tr><tr><td>dbfs:/databricks-datasets/airlines/part-00934</td><td>part-00934</td><td>67108868</td><td>1436493584000</td></tr><tr><td>dbfs:/databricks-datasets/airlines/part-00935</td><td>part-00935</td><td>67108921</td><td>1436493585000</td></tr><tr><td>dbfs:/databricks-datasets/airlines/part-00936</td><td>part-00936</td><td>67108836</td><td>1436493585000</td></tr><tr><td>dbfs:/databricks-datasets/airlines/part-00937</td><td>part-00937</td><td>67108803</td><td>1436493586000</td></tr><tr><td>dbfs:/databricks-datasets/airlines/part-00938</td><td>part-00938</td><td>67108915</td><td>1436493586000</td></tr><tr><td>dbfs:/databricks-datasets/airlines/part-00939</td><td>part-00939</td><td>67108828</td><td>1436493587000</td></tr><tr><td>dbfs:/databricks-datasets/airlines/part-00940</td><td>part-00940</td><td>67108923</td><td>1436493587000</td></tr><tr><td>dbfs:/databricks-datasets/airlines/part-00941</td><td>part-00941</td><td>67108836</td><td>1436493587000</td></tr><tr><td>dbfs:/databricks-datasets/airlines/part-00942</td><td>part-00942</td><td>67108869</td><td>1436493588000</td></tr><tr><td>dbfs:/databricks-datasets/airlines/part-00943</td><td>part-00943</td><td>67108854</td><td>1436493588000</td></tr><tr><td>dbfs:/databricks-datasets/airlines/part-00944</td><td>part-00944</td><td>67108868</td><td>1436493589000</td></tr><tr><td>dbfs:/databricks-datasets/airlines/part-00945</td><td>part-00945</td><td>67108844</td><td>1436493589000</td></tr><tr><td>dbfs:/databricks-datasets/airlines/part-00946</td><td>part-00946</td><td>67108915</td><td>1436493590000</td></tr><tr><td>dbfs:/databricks-datasets/airlines/part-00947</td><td>part-00947</td><td>67108777</td><td>1436493590000</td></tr><tr><td>dbfs:/databricks-datasets/airlines/part-00948</td><td>part-00948</td><td>67108958</td><td>1436493590000</td></tr><tr><td>dbfs:/databricks-datasets/airlines/part-00949</td><td>part-00949</td><td>67108786</td><td>1436493591000</td></tr><tr><td>dbfs:/databricks-datasets/airlines/part-00950</td><td>part-00950</td><td>67108863</td><td>1436493591000</td></tr><tr><td>dbfs:/databricks-datasets/airlines/part-00951</td><td>part-00951</td><td>67108925</td><td>1436493592000</td></tr><tr><td>dbfs:/databricks-datasets/airlines/part-00952</td><td>part-00952</td><td>67108879</td><td>1436493592000</td></tr><tr><td>dbfs:/databricks-datasets/airlines/part-00953</td><td>part-00953</td><td>67108777</td><td>1436493592000</td></tr><tr><td>dbfs:/databricks-datasets/airlines/part-00954</td><td>part-00954</td><td>67108911</td><td>1436493593000</td></tr><tr><td>dbfs:/databricks-datasets/airlines/part-00955</td><td>part-00955</td><td>67108860</td><td>1436493593000</td></tr><tr><td>dbfs:/databricks-datasets/airlines/part-00956</td><td>part-00956</td><td>67108888</td><td>1436493594000</td></tr><tr><td>dbfs:/databricks-datasets/airlines/part-00957</td><td>part-00957</td><td>67108812</td><td>1436493594000</td></tr><tr><td>dbfs:/databricks-datasets/airlines/part-00958</td><td>part-00958</td><td>67108943</td><td>1436493594000</td></tr><tr><td>dbfs:/databricks-datasets/airlines/part-00959</td><td>part-00959</td><td>67108770</td><td>1436493595000</td></tr><tr><td>dbfs:/databricks-datasets/airlines/part-00960</td><td>part-00960</td><td>67108890</td><td>1436493596000</td></tr><tr><td>dbfs:/databricks-datasets/airlines/part-00961</td><td>part-00961</td><td>67108892</td><td>1436493596000</td></tr><tr><td>dbfs:/databricks-datasets/airlines/part-00962</td><td>part-00962</td><td>67108828</td><td>1436493596000</td></tr><tr><td>dbfs:/databricks-datasets/airlines/part-00963</td><td>part-00963</td><td>67108941</td><td>1436493597000</td></tr><tr><td>dbfs:/databricks-datasets/airlines/part-00964</td><td>part-00964</td><td>67108840</td><td>1436493597000</td></tr><tr><td>dbfs:/databricks-datasets/airlines/part-00965</td><td>part-00965</td><td>67108816</td><td>1436493597000</td></tr><tr><td>dbfs:/databricks-datasets/airlines/part-00966</td><td>part-00966</td><td>67108908</td><td>1436493598000</td></tr><tr><td>dbfs:/databricks-datasets/airlines/part-00967</td><td>part-00967</td><td>67108845</td><td>1436493598000</td></tr><tr><td>dbfs:/databricks-datasets/airlines/part-00968</td><td>part-00968</td><td>67108879</td><td>1436493599000</td></tr><tr><td>dbfs:/databricks-datasets/airlines/part-00969</td><td>part-00969</td><td>67108888</td><td>1436493599000</td></tr><tr><td>dbfs:/databricks-datasets/airlines/part-00970</td><td>part-00970</td><td>67108819</td><td>1436493600000</td></tr><tr><td>dbfs:/databricks-datasets/airlines/part-00971</td><td>part-00971</td><td>67108874</td><td>1436493600000</td></tr><tr><td>dbfs:/databricks-datasets/airlines/part-00972</td><td>part-00972</td><td>67108808</td><td>1436493600000</td></tr><tr><td>dbfs:/databricks-datasets/airlines/part-00973</td><td>part-00973</td><td>67108868</td><td>1436493601000</td></tr><tr><td>dbfs:/databricks-datasets/airlines/part-00974</td><td>part-00974</td><td>67108869</td><td>1436493601000</td></tr><tr><td>dbfs:/databricks-datasets/airlines/part-00975</td><td>part-00975</td><td>67108906</td><td>1436493602000</td></tr><tr><td>dbfs:/databricks-datasets/airlines/part-00976</td><td>part-00976</td><td>67108905</td><td>1436493602000</td></tr><tr><td>dbfs:/databricks-datasets/airlines/part-00977</td><td>part-00977</td><td>67108859</td><td>1436493603000</td></tr><tr><td>dbfs:/databricks-datasets/airlines/part-00978</td><td>part-00978</td><td>67108819</td><td>1436493603000</td></tr><tr><td>dbfs:/databricks-datasets/airlines/part-00979</td><td>part-00979</td><td>67108835</td><td>1436493604000</td></tr><tr><td>dbfs:/databricks-datasets/airlines/part-00980</td><td>part-00980</td><td>67108868</td><td>1436493604000</td></tr><tr><td>dbfs:/databricks-datasets/airlines/part-00981</td><td>part-00981</td><td>67108905</td><td>1436493605000</td></tr><tr><td>dbfs:/databricks-datasets/airlines/part-00982</td><td>part-00982</td><td>67108810</td><td>1436493605000</td></tr><tr><td>dbfs:/databricks-datasets/airlines/part-00983</td><td>part-00983</td><td>67108901</td><td>1436493605000</td></tr><tr><td>dbfs:/databricks-datasets/airlines/part-00984</td><td>part-00984</td><td>67108825</td><td>1436493606000</td></tr><tr><td>dbfs:/databricks-datasets/airlines/part-00985</td><td>part-00985</td><td>67108878</td><td>1436493606000</td></tr><tr><td>dbfs:/databricks-datasets/airlines/part-00986</td><td>part-00986</td><td>67108913</td><td>1436493607000</td></tr><tr><td>dbfs:/databricks-datasets/airlines/part-00987</td><td>part-00987</td><td>67108856</td><td>1436493607000</td></tr><tr><td>dbfs:/databricks-datasets/airlines/part-00988</td><td>part-00988</td><td>67108883</td><td>1436493608000</td></tr><tr><td>dbfs:/databricks-datasets/airlines/part-00989</td><td>part-00989</td><td>67108837</td><td>1436493608000</td></tr><tr><td>dbfs:/databricks-datasets/airlines/part-00990</td><td>part-00990</td><td>67108883</td><td>1436493609000</td></tr><tr><td>dbfs:/databricks-datasets/airlines/part-00991</td><td>part-00991</td><td>67108821</td><td>1436493609000</td></tr><tr><td>dbfs:/databricks-datasets/airlines/part-00992</td><td>part-00992</td><td>67108846</td><td>1436493609000</td></tr><tr><td>dbfs:/databricks-datasets/airlines/part-00993</td><td>part-00993</td><td>67108925</td><td>1436493610000</td></tr><tr><td>dbfs:/databricks-datasets/airlines/part-00994</td><td>part-00994</td><td>67108826</td><td>1436493610000</td></tr><tr><td>dbfs:/databricks-datasets/airlines/part-00995</td><td>part-00995</td><td>67108861</td><td>1436493611000</td></tr><tr><td>dbfs:/databricks-datasets/airlines/part-00996</td><td>part-00996</td><td>67108862</td><td>1436493611000</td></tr><tr><td>dbfs:/databricks-datasets/airlines/part-00997</td><td>part-00997</td><td>67108918</td><td>1436493612000</td></tr><tr><td>dbfs:/databricks-datasets/airlines/part-00998</td><td>part-00998</td><td>67108786</td><td>1436493612000</td></tr><tr><td>dbfs:/databricks-datasets/airlines/part-00999</td><td>part-00999</td><td>67108959</td><td>1436493612000</td></tr><tr><td>dbfs:/databricks-datasets/airlines/part-01000</td><td>part-01000</td><td>67108816</td><td>1436493613000</td></tr><tr><td>dbfs:/databricks-datasets/airlines/part-01001</td><td>part-01001</td><td>67108883</td><td>1436493613000</td></tr><tr><td>dbfs:/databricks-datasets/airlines/part-01002</td><td>part-01002</td><td>67108828</td><td>1436493614000</td></tr><tr><td>dbfs:/databricks-datasets/airlines/part-01003</td><td>part-01003</td><td>67108848</td><td>1436493614000</td></tr><tr><td>dbfs:/databricks-datasets/airlines/part-01004</td><td>part-01004</td><td>67108882</td><td>1436493614000</td></tr><tr><td>dbfs:/databricks-datasets/airlines/part-01005</td><td>part-01005</td><td>67108869</td><td>1436493615000</td></tr><tr><td>dbfs:/databricks-datasets/airlines/part-01006</td><td>part-01006</td><td>67108844</td><td>1436493615000</td></tr><tr><td>dbfs:/databricks-datasets/airlines/part-01007</td><td>part-01007</td><td>67108899</td><td>1436493615000</td></tr><tr><td>dbfs:/databricks-datasets/airlines/part-01008</td><td>part-01008</td><td>67108869</td><td>1436493616000</td></tr><tr><td>dbfs:/databricks-datasets/airlines/part-01009</td><td>part-01009</td><td>67108818</td><td>1436493616000</td></tr><tr><td>dbfs:/databricks-datasets/airlines/part-01010</td><td>part-01010</td><td>67108863</td><td>1436493617000</td></tr><tr><td>dbfs:/databricks-datasets/airlines/part-01011</td><td>part-01011</td><td>67108872</td><td>1436493617000</td></tr><tr><td>dbfs:/databricks-datasets/airlines/part-01012</td><td>part-01012</td><td>67108910</td><td>1436493618000</td></tr><tr><td>dbfs:/databricks-datasets/airlines/part-01013</td><td>part-01013</td><td>67108875</td><td>1436493618000</td></tr><tr><td>dbfs:/databricks-datasets/airlines/part-01014</td><td>part-01014</td><td>67108815</td><td>1436493619000</td></tr><tr><td>dbfs:/databricks-datasets/airlines/part-01015</td><td>part-01015</td><td>67108881</td><td>1436493619000</td></tr><tr><td>dbfs:/databricks-datasets/airlines/part-01016</td><td>part-01016</td><td>67108911</td><td>1436493620000</td></tr><tr><td>dbfs:/databricks-datasets/airlines/part-01017</td><td>part-01017</td><td>67108830</td><td>1436493620000</td></tr><tr><td>dbfs:/databricks-datasets/airlines/part-01018</td><td>part-01018</td><td>67108845</td><td>1436493620000</td></tr><tr><td>dbfs:/databricks-datasets/airlines/part-01019</td><td>part-01019</td><td>67108902</td><td>1436493621000</td></tr><tr><td>dbfs:/databricks-datasets/airlines/part-01020</td><td>part-01020</td><td>67108884</td><td>1436493621000</td></tr><tr><td>dbfs:/databricks-datasets/airlines/part-01021</td><td>part-01021</td><td>67108769</td><td>1436493622000</td></tr><tr><td>dbfs:/databricks-datasets/airlines/part-01022</td><td>part-01022</td><td>67108959</td><td>1436493622000</td></tr><tr><td>dbfs:/databricks-datasets/airlines/part-01023</td><td>part-01023</td><td>67108857</td><td>1436493623000</td></tr><tr><td>dbfs:/databricks-datasets/airlines/part-01024</td><td>part-01024</td><td>67108819</td><td>1436493623000</td></tr><tr><td>dbfs:/databricks-datasets/airlines/part-01025</td><td>part-01025</td><td>67108892</td><td>1436493623000</td></tr><tr><td>dbfs:/databricks-datasets/airlines/part-01026</td><td>part-01026</td><td>67108831</td><td>1436493624000</td></tr><tr><td>dbfs:/databricks-datasets/airlines/part-01027</td><td>part-01027</td><td>67108852</td><td>1436493624000</td></tr><tr><td>dbfs:/databricks-datasets/airlines/part-01028</td><td>part-01028</td><td>67108855</td><td>1436493625000</td></tr><tr><td>dbfs:/databricks-datasets/airlines/part-01029</td><td>part-01029</td><td>67108933</td><td>1436493625000</td></tr><tr><td>dbfs:/databricks-datasets/airlines/part-01030</td><td>part-01030</td><td>67108857</td><td>1436493625000</td></tr><tr><td>dbfs:/databricks-datasets/airlines/part-01031</td><td>part-01031</td><td>67108822</td><td>1436493626000</td></tr><tr><td>dbfs:/databricks-datasets/airlines/part-01032</td><td>part-01032</td><td>67108904</td><td>1436493626000</td></tr><tr><td>dbfs:/databricks-datasets/airlines/part-01033</td><td>part-01033</td><td>67108887</td><td>1436493627000</td></tr><tr><td>dbfs:/databricks-datasets/airlines/part-01034</td><td>part-01034</td><td>67108764</td><td>1436493627000</td></tr><tr><td>dbfs:/databricks-datasets/airlines/part-01035</td><td>part-01035</td><td>67108899</td><td>1436493628000</td></tr><tr><td>dbfs:/databricks-datasets/airlines/part-01036</td><td>part-01036</td><td>67108850</td><td>1436493628000</td></tr><tr><td>dbfs:/databricks-datasets/airlines/part-01037</td><td>part-01037</td><td>67108919</td><td>1436493629000</td></tr><tr><td>dbfs:/databricks-datasets/airlines/part-01038</td><td>part-01038</td><td>67108872</td><td>1436493629000</td></tr><tr><td>dbfs:/databricks-datasets/airlines/part-01039</td><td>part-01039</td><td>67108881</td><td>1436493630000</td></tr><tr><td>dbfs:/databricks-datasets/airlines/part-01040</td><td>part-01040</td><td>67108811</td><td>1436493630000</td></tr><tr><td>dbfs:/databricks-datasets/airlines/part-01041</td><td>part-01041</td><td>67108908</td><td>1436493631000</td></tr><tr><td>dbfs:/databricks-datasets/airlines/part-01042</td><td>part-01042</td><td>67108864</td><td>1436493631000</td></tr><tr><td>dbfs:/databricks-datasets/airlines/part-01043</td><td>part-01043</td><td>67108875</td><td>1436493631000</td></tr><tr><td>dbfs:/databricks-datasets/airlines/part-01044</td><td>part-01044</td><td>67108801</td><td>1436493632000</td></tr><tr><td>dbfs:/databricks-datasets/airlines/part-01045</td><td>part-01045</td><td>67108837</td><td>1436493633000</td></tr><tr><td>dbfs:/databricks-datasets/airlines/part-01046</td><td>part-01046</td><td>67108932</td><td>1436493633000</td></tr><tr><td>dbfs:/databricks-datasets/airlines/part-01047</td><td>part-01047</td><td>67108822</td><td>1436493633000</td></tr><tr><td>dbfs:/databricks-datasets/airlines/part-01048</td><td>part-01048</td><td>67108903</td><td>1436493634000</td></tr><tr><td>dbfs:/databricks-datasets/airlines/part-01049</td><td>part-01049</td><td>67108859</td><td>1436493634000</td></tr><tr><td>dbfs:/databricks-datasets/airlines/part-01050</td><td>part-01050</td><td>67108872</td><td>1436493635000</td></tr><tr><td>dbfs:/databricks-datasets/airlines/part-01051</td><td>part-01051</td><td>67108883</td><td>1436493636000</td></tr><tr><td>dbfs:/databricks-datasets/airlines/part-01052</td><td>part-01052</td><td>67108772</td><td>1436493636000</td></tr><tr><td>dbfs:/databricks-datasets/airlines/part-01053</td><td>part-01053</td><td>67108902</td><td>1436493637000</td></tr><tr><td>dbfs:/databricks-datasets/airlines/part-01054</td><td>part-01054</td><td>67108912</td><td>1436493637000</td></tr><tr><td>dbfs:/databricks-datasets/airlines/part-01055</td><td>part-01055</td><td>67108780</td><td>1436493638000</td></tr><tr><td>dbfs:/databricks-datasets/airlines/part-01056</td><td>part-01056</td><td>67108862</td><td>1436493638000</td></tr><tr><td>dbfs:/databricks-datasets/airlines/part-01057</td><td>part-01057</td><td>67108955</td><td>1436493639000</td></tr><tr><td>dbfs:/databricks-datasets/airlines/part-01058</td><td>part-01058</td><td>67108781</td><td>1436493639000</td></tr><tr><td>dbfs:/databricks-datasets/airlines/part-01059</td><td>part-01059</td><td>67108871</td><td>1436493640000</td></tr><tr><td>dbfs:/databricks-datasets/airlines/part-01060</td><td>part-01060</td><td>67108916</td><td>1436493640000</td></tr><tr><td>dbfs:/databricks-datasets/airlines/part-01061</td><td>part-01061</td><td>67108809</td><td>1436493641000</td></tr><tr><td>dbfs:/databricks-datasets/airlines/part-01062</td><td>part-01062</td><td>67108922</td><td>1436493641000</td></tr><tr><td>dbfs:/databricks-datasets/airlines/part-01063</td><td>part-01063</td><td>67108882</td><td>1436493642000</td></tr><tr><td>dbfs:/databricks-datasets/airlines/part-01064</td><td>part-01064</td><td>67108770</td><td>1436493642000</td></tr><tr><td>dbfs:/databricks-datasets/airlines/part-01065</td><td>part-01065</td><td>67108939</td><td>1436493642000</td></tr><tr><td>dbfs:/databricks-datasets/airlines/part-01066</td><td>part-01066</td><td>67108820</td><td>1436493643000</td></tr><tr><td>dbfs:/databricks-datasets/airlines/part-01067</td><td>part-01067</td><td>67108930</td><td>1436493643000</td></tr><tr><td>dbfs:/databricks-datasets/airlines/part-01068</td><td>part-01068</td><td>67108848</td><td>1436493644000</td></tr><tr><td>dbfs:/databricks-datasets/airlines/part-01069</td><td>part-01069</td><td>67625808</td><td>1436493644000</td></tr><tr><td>dbfs:/databricks-datasets/airlines/part-01070</td><td>part-01070</td><td>67765006</td><td>1436493645000</td></tr><tr><td>dbfs:/databricks-datasets/airlines/part-01071</td><td>part-01071</td><td>67900330</td><td>1436493645000</td></tr><tr><td>dbfs:/databricks-datasets/airlines/part-01072</td><td>part-01072</td><td>67750470</td><td>1436493646000</td></tr><tr><td>dbfs:/databricks-datasets/airlines/part-01073</td><td>part-01073</td><td>67940090</td><td>1436493646000</td></tr><tr><td>dbfs:/databricks-datasets/airlines/part-01074</td><td>part-01074</td><td>67780594</td><td>1436493647000</td></tr><tr><td>dbfs:/databricks-datasets/airlines/part-01075</td><td>part-01075</td><td>67777483</td><td>1436493647000</td></tr><tr><td>dbfs:/databricks-datasets/airlines/part-01076</td><td>part-01076</td><td>67995755</td><td>1436493647000</td></tr><tr><td>dbfs:/databricks-datasets/airlines/part-01077</td><td>part-01077</td><td>67813286</td><td>1436493648000</td></tr><tr><td>dbfs:/databricks-datasets/airlines/part-01078</td><td>part-01078</td><td>67740453</td><td>1436493648000</td></tr><tr><td>dbfs:/databricks-datasets/airlines/part-01079</td><td>part-01079</td><td>67804810</td><td>1436493649000</td></tr><tr><td>dbfs:/databricks-datasets/airlines/part-01080</td><td>part-01080</td><td>67355772</td><td>1436493649000</td></tr><tr><td>dbfs:/databricks-datasets/airlines/part-01081</td><td>part-01081</td><td>67108883</td><td>1436493650000</td></tr><tr><td>dbfs:/databricks-datasets/airlines/part-01082</td><td>part-01082</td><td>67108911</td><td>1436493650000</td></tr><tr><td>dbfs:/databricks-datasets/airlines/part-01083</td><td>part-01083</td><td>67108857</td><td>1436493651000</td></tr><tr><td>dbfs:/databricks-datasets/airlines/part-01084</td><td>part-01084</td><td>67108837</td><td>1436493651000</td></tr><tr><td>dbfs:/databricks-datasets/airlines/part-01085</td><td>part-01085</td><td>67108867</td><td>1436493651000</td></tr><tr><td>dbfs:/databricks-datasets/airlines/part-01086</td><td>part-01086</td><td>67108901</td><td>1436493652000</td></tr><tr><td>dbfs:/databricks-datasets/airlines/part-01087</td><td>part-01087</td><td>67108879</td><td>1436493652000</td></tr><tr><td>dbfs:/databricks-datasets/airlines/part-01088</td><td>part-01088</td><td>67108790</td><td>1436493653000</td></tr><tr><td>dbfs:/databricks-datasets/airlines/part-01089</td><td>part-01089</td><td>67108922</td><td>1436493653000</td></tr><tr><td>dbfs:/databricks-datasets/airlines/part-01090</td><td>part-01090</td><td>67108807</td><td>1436493654000</td></tr><tr><td>dbfs:/databricks-datasets/airlines/part-01091</td><td>part-01091</td><td>67108874</td><td>1436493654000</td></tr><tr><td>dbfs:/databricks-datasets/airlines/part-01092</td><td>part-01092</td><td>67108865</td><td>1436493654000</td></tr><tr><td>dbfs:/databricks-datasets/airlines/part-01093</td><td>part-01093</td><td>67108861</td><td>1436493655000</td></tr><tr><td>dbfs:/databricks-datasets/airlines/part-01094</td><td>part-01094</td><td>67108925</td><td>1436493655000</td></tr><tr><td>dbfs:/databricks-datasets/airlines/part-01095</td><td>part-01095</td><td>67108866</td><td>1436493656000</td></tr><tr><td>dbfs:/databricks-datasets/airlines/part-01096</td><td>part-01096</td><td>67108828</td><td>1436493656000</td></tr><tr><td>dbfs:/databricks-datasets/airlines/part-01097</td><td>part-01097</td><td>67108887</td><td>1436493656000</td></tr><tr><td>dbfs:/databricks-datasets/airlines/part-01098</td><td>part-01098</td><td>67108867</td><td>1436493657000</td></tr><tr><td>dbfs:/databricks-datasets/airlines/part-01099</td><td>part-01099</td><td>67108837</td><td>1436493657000</td></tr><tr><td>dbfs:/databricks-datasets/airlines/part-01100</td><td>part-01100</td><td>67108892</td><td>1436493658000</td></tr><tr><td>dbfs:/databricks-datasets/airlines/part-01101</td><td>part-01101</td><td>67108847</td><td>1436493658000</td></tr><tr><td>dbfs:/databricks-datasets/airlines/part-01102</td><td>part-01102</td><td>67108854</td><td>1436493659000</td></tr><tr><td>dbfs:/databricks-datasets/airlines/part-01103</td><td>part-01103</td><td>67108822</td><td>1436493659000</td></tr><tr><td>dbfs:/databricks-datasets/airlines/part-01104</td><td>part-01104</td><td>67108907</td><td>1436493659000</td></tr><tr><td>dbfs:/databricks-datasets/airlines/part-01105</td><td>part-01105</td><td>67108895</td><td>1436493660000</td></tr><tr><td>dbfs:/databricks-datasets/airlines/part-01106</td><td>part-01106</td><td>67108863</td><td>1436493660000</td></tr><tr><td>dbfs:/databricks-datasets/airlines/part-01107</td><td>part-01107</td><td>67108788</td><td>1436493661000</td></tr><tr><td>dbfs:/databricks-datasets/airlines/part-01108</td><td>part-01108</td><td>67108908</td><td>1436493661000</td></tr><tr><td>dbfs:/databricks-datasets/airlines/part-01109</td><td>part-01109</td><td>67108878</td><td>1436493662000</td></tr><tr><td>dbfs:/databricks-datasets/airlines/part-01110</td><td>part-01110</td><td>67108868</td><td>1436493662000</td></tr><tr><td>dbfs:/databricks-datasets/airlines/part-01111</td><td>part-01111</td><td>67108811</td><td>1436493663000</td></tr><tr><td>dbfs:/databricks-datasets/airlines/part-01112</td><td>part-01112</td><td>67108905</td><td>1436493663000</td></tr><tr><td>dbfs:/databricks-datasets/airlines/part-01113</td><td>part-01113</td><td>67108885</td><td>1436493664000</td></tr><tr><td>dbfs:/databricks-datasets/airlines/part-01114</td><td>part-01114</td><td>67108865</td><td>1436493664000</td></tr><tr><td>dbfs:/databricks-datasets/airlines/part-01115</td><td>part-01115</td><td>67108859</td><td>1436493664000</td></tr><tr><td>dbfs:/databricks-datasets/airlines/part-01116</td><td>part-01116</td><td>67108881</td><td>1436493665000</td></tr><tr><td>dbfs:/databricks-datasets/airlines/part-01117</td><td>part-01117</td><td>67108838</td><td>1436493665000</td></tr><tr><td>dbfs:/databricks-datasets/airlines/part-01118</td><td>part-01118</td><td>67108821</td><td>1436493666000</td></tr><tr><td>dbfs:/databricks-datasets/airlines/part-01119</td><td>part-01119</td><td>67108871</td><td>1436493666000</td></tr><tr><td>dbfs:/databricks-datasets/airlines/part-01120</td><td>part-01120</td><td>67108925</td><td>1436493667000</td></tr><tr><td>dbfs:/databricks-datasets/airlines/part-01121</td><td>part-01121</td><td>67108806</td><td>1436493667000</td></tr><tr><td>dbfs:/databricks-datasets/airlines/part-01122</td><td>part-01122</td><td>67108881</td><td>1436493668000</td></tr><tr><td>dbfs:/databricks-datasets/airlines/part-01123</td><td>part-01123</td><td>67108873</td><td>1436493668000</td></tr><tr><td>dbfs:/databricks-datasets/airlines/part-01124</td><td>part-01124</td><td>67108823</td><td>1436493668000</td></tr><tr><td>dbfs:/databricks-datasets/airlines/part-01125</td><td>part-01125</td><td>67108933</td><td>1436493669000</td></tr><tr><td>dbfs:/databricks-datasets/airlines/part-01126</td><td>part-01126</td><td>67108775</td><td>1436493669000</td></tr><tr><td>dbfs:/databricks-datasets/airlines/part-01127</td><td>part-01127</td><td>67108902</td><td>1436493670000</td></tr><tr><td>dbfs:/databricks-datasets/airlines/part-01128</td><td>part-01128</td><td>67108916</td><td>1436493670000</td></tr><tr><td>dbfs:/databricks-datasets/airlines/part-01129</td><td>part-01129</td><td>67108833</td><td>1436493671000</td></tr><tr><td>dbfs:/databricks-datasets/airlines/part-01130</td><td>part-01130</td><td>67108895</td><td>1436493671000</td></tr><tr><td>dbfs:/databricks-datasets/airlines/part-01131</td><td>part-01131</td><td>67108802</td><td>1436493672000</td></tr><tr><td>dbfs:/databricks-datasets/airlines/part-01132</td><td>part-01132</td><td>67108915</td><td>1436493672000</td></tr><tr><td>dbfs:/databricks-datasets/airlines/part-01133</td><td>part-01133</td><td>67108798</td><td>1436493672000</td></tr><tr><td>dbfs:/databricks-datasets/airlines/part-01134</td><td>part-01134</td><td>67108902</td><td>1436493673000</td></tr><tr><td>dbfs:/databricks-datasets/airlines/part-01135</td><td>part-01135</td><td>67108827</td><td>1436493673000</td></tr><tr><td>dbfs:/databricks-datasets/airlines/part-01136</td><td>part-01136</td><td>67108931</td><td>1436493674000</td></tr><tr><td>dbfs:/databricks-datasets/airlines/part-01137</td><td>part-01137</td><td>67108875</td><td>1436493674000</td></tr><tr><td>dbfs:/databricks-datasets/airlines/part-01138</td><td>part-01138</td><td>67108823</td><td>1436493674000</td></tr><tr><td>dbfs:/databricks-datasets/airlines/part-01139</td><td>part-01139</td><td>67108819</td><td>1436493675000</td></tr><tr><td>dbfs:/databricks-datasets/airlines/part-01140</td><td>part-01140</td><td>67108883</td><td>1436493675000</td></tr><tr><td>dbfs:/databricks-datasets/airlines/part-01141</td><td>part-01141</td><td>67108898</td><td>1436493676000</td></tr><tr><td>dbfs:/databricks-datasets/airlines/part-01142</td><td>part-01142</td><td>67108897</td><td>1436493676000</td></tr><tr><td>dbfs:/databricks-datasets/airlines/part-01143</td><td>part-01143</td><td>67108818</td><td>1436493676000</td></tr><tr><td>dbfs:/databricks-datasets/airlines/part-01144</td><td>part-01144</td><td>67108835</td><td>1436493677000</td></tr><tr><td>dbfs:/databricks-datasets/airlines/part-01145</td><td>part-01145</td><td>67108905</td><td>1436493677000</td></tr><tr><td>dbfs:/databricks-datasets/airlines/part-01146</td><td>part-01146</td><td>67108875</td><td>1436493678000</td></tr><tr><td>dbfs:/databricks-datasets/airlines/part-01147</td><td>part-01147</td><td>67108798</td><td>1436493678000</td></tr><tr><td>dbfs:/databricks-datasets/airlines/part-01148</td><td>part-01148</td><td>67108896</td><td>1436493678000</td></tr><tr><td>dbfs:/databricks-datasets/airlines/part-01149</td><td>part-01149</td><td>67108868</td><td>1436493679000</td></tr><tr><td>dbfs:/databricks-datasets/airlines/part-01150</td><td>part-01150</td><td>67108829</td><td>1436493679000</td></tr><tr><td>dbfs:/databricks-datasets/airlines/part-01151</td><td>part-01151</td><td>67108874</td><td>1436493680000</td></tr><tr><td>dbfs:/databricks-datasets/airlines/part-01152</td><td>part-01152</td><td>67108910</td><td>1436493680000</td></tr><tr><td>dbfs:/databricks-datasets/airlines/part-01153</td><td>part-01153</td><td>67108833</td><td>1436493681000</td></tr><tr><td>dbfs:/databricks-datasets/airlines/part-01154</td><td>part-01154</td><td>67108874</td><td>1436493681000</td></tr><tr><td>dbfs:/databricks-datasets/airlines/part-01155</td><td>part-01155</td><td>67108867</td><td>1436493682000</td></tr><tr><td>dbfs:/databricks-datasets/airlines/part-01156</td><td>part-01156</td><td>67108884</td><td>1436493682000</td></tr><tr><td>dbfs:/databricks-datasets/airlines/part-01157</td><td>part-01157</td><td>67108803</td><td>1436493682000</td></tr><tr><td>dbfs:/databricks-datasets/airlines/part-01158</td><td>part-01158</td><td>67108884</td><td>1436493683000</td></tr><tr><td>dbfs:/databricks-datasets/airlines/part-01159</td><td>part-01159</td><td>67108885</td><td>1436493683000</td></tr><tr><td>dbfs:/databricks-datasets/airlines/part-01160</td><td>part-01160</td><td>67108844</td><td>1436493684000</td></tr><tr><td>dbfs:/databricks-datasets/airlines/part-01161</td><td>part-01161</td><td>67108878</td><td>1436493684000</td></tr><tr><td>dbfs:/databricks-datasets/airlines/part-01162</td><td>part-01162</td><td>67108923</td><td>1436493685000</td></tr><tr><td>dbfs:/databricks-datasets/airlines/part-01163</td><td>part-01163</td><td>67108865</td><td>1436493685000</td></tr><tr><td>dbfs:/databricks-datasets/airlines/part-01164</td><td>part-01164</td><td>67108843</td><td>1436493686000</td></tr><tr><td>dbfs:/databricks-datasets/airlines/part-01165</td><td>part-01165</td><td>67108861</td><td>1436493686000</td></tr><tr><td>dbfs:/databricks-datasets/airlines/part-01166</td><td>part-01166</td><td>67108800</td><td>1436493686000</td></tr><tr><td>dbfs:/databricks-datasets/airlines/part-01167</td><td>part-01167</td><td>67108911</td><td>1436493687000</td></tr><tr><td>dbfs:/databricks-datasets/airlines/part-01168</td><td>part-01168</td><td>67108897</td><td>1436493688000</td></tr><tr><td>dbfs:/databricks-datasets/airlines/part-01169</td><td>part-01169</td><td>67108804</td><td>1436493688000</td></tr><tr><td>dbfs:/databricks-datasets/airlines/part-01170</td><td>part-01170</td><td>67108857</td><td>1436493689000</td></tr><tr><td>dbfs:/databricks-datasets/airlines/part-01171</td><td>part-01171</td><td>67108928</td><td>1436493689000</td></tr><tr><td>dbfs:/databricks-datasets/airlines/part-01172</td><td>part-01172</td><td>67108865</td><td>1436493689000</td></tr><tr><td>dbfs:/databricks-datasets/airlines/part-01173</td><td>part-01173</td><td>67108803</td><td>1436493690000</td></tr><tr><td>dbfs:/databricks-datasets/airlines/part-01174</td><td>part-01174</td><td>67108912</td><td>1436493690000</td></tr><tr><td>dbfs:/databricks-datasets/airlines/part-01175</td><td>part-01175</td><td>67108813</td><td>1436493691000</td></tr><tr><td>dbfs:/databricks-datasets/airlines/part-01176</td><td>part-01176</td><td>67108944</td><td>1436493691000</td></tr><tr><td>dbfs:/databricks-datasets/airlines/part-01177</td><td>part-01177</td><td>67108853</td><td>1436493691000</td></tr><tr><td>dbfs:/databricks-datasets/airlines/part-01178</td><td>part-01178</td><td>67108791</td><td>1436493692000</td></tr><tr><td>dbfs:/databricks-datasets/airlines/part-01179</td><td>part-01179</td><td>67108871</td><td>1436493692000</td></tr><tr><td>dbfs:/databricks-datasets/airlines/part-01180</td><td>part-01180</td><td>67108914</td><td>1436493693000</td></tr><tr><td>dbfs:/databricks-datasets/airlines/part-01181</td><td>part-01181</td><td>67108866</td><td>1436493694000</td></tr><tr><td>dbfs:/databricks-datasets/airlines/part-01182</td><td>part-01182</td><td>67108793</td><td>1436493694000</td></tr><tr><td>dbfs:/databricks-datasets/airlines/part-01183</td><td>part-01183</td><td>67108943</td><td>1436493695000</td></tr><tr><td>dbfs:/databricks-datasets/airlines/part-01184</td><td>part-01184</td><td>67108820</td><td>1436493695000</td></tr><tr><td>dbfs:/databricks-datasets/airlines/part-01185</td><td>part-01185</td><td>67108883</td><td>1436493696000</td></tr><tr><td>dbfs:/databricks-datasets/airlines/part-01186</td><td>part-01186</td><td>67108900</td><td>1436493696000</td></tr><tr><td>dbfs:/databricks-datasets/airlines/part-01187</td><td>part-01187</td><td>67108867</td><td>1436493697000</td></tr><tr><td>dbfs:/databricks-datasets/airlines/part-01188</td><td>part-01188</td><td>67108771</td><td>1436493698000</td></tr><tr><td>dbfs:/databricks-datasets/airlines/part-01189</td><td>part-01189</td><td>67108866</td><td>1436493698000</td></tr><tr><td>dbfs:/databricks-datasets/airlines/part-01190</td><td>part-01190</td><td>67108941</td><td>1436493699000</td></tr><tr><td>dbfs:/databricks-datasets/airlines/part-01191</td><td>part-01191</td><td>67108840</td><td>1436493699000</td></tr><tr><td>dbfs:/databricks-datasets/airlines/part-01192</td><td>part-01192</td><td>67108854</td><td>1436493699000</td></tr><tr><td>dbfs:/databricks-datasets/airlines/part-01193</td><td>part-01193</td><td>67108846</td><td>1436493700000</td></tr><tr><td>dbfs:/databricks-datasets/airlines/part-01194</td><td>part-01194</td><td>67108831</td><td>1436493700000</td></tr><tr><td>dbfs:/databricks-datasets/airlines/part-01195</td><td>part-01195</td><td>67108865</td><td>1436493701000</td></tr><tr><td>dbfs:/databricks-datasets/airlines/part-01196</td><td>part-01196</td><td>67108893</td><td>1436493701000</td></tr><tr><td>dbfs:/databricks-datasets/airlines/part-01197</td><td>part-01197</td><td>67108918</td><td>1436493702000</td></tr><tr><td>dbfs:/databricks-datasets/airlines/part-01198</td><td>part-01198</td><td>67108778</td><td>1436493702000</td></tr><tr><td>dbfs:/databricks-datasets/airlines/part-01199</td><td>part-01199</td><td>67108912</td><td>1436493702000</td></tr><tr><td>dbfs:/databricks-datasets/airlines/part-01200</td><td>part-01200</td><td>67108861</td><td>1436493703000</td></tr><tr><td>dbfs:/databricks-datasets/airlines/part-01201</td><td>part-01201</td><td>67108842</td><td>1436493703000</td></tr><tr><td>dbfs:/databricks-datasets/airlines/part-01202</td><td>part-01202</td><td>67108888</td><td>1436493704000</td></tr><tr><td>dbfs:/databricks-datasets/airlines/part-01203</td><td>part-01203</td><td>67108836</td><td>1436493704000</td></tr><tr><td>dbfs:/databricks-datasets/airlines/part-01204</td><td>part-01204</td><td>67108917</td><td>1436493704000</td></tr><tr><td>dbfs:/databricks-datasets/airlines/part-01205</td><td>part-01205</td><td>67108873</td><td>1436493705000</td></tr><tr><td>dbfs:/databricks-datasets/airlines/part-01206</td><td>part-01206</td><td>67108790</td><td>1436493705000</td></tr><tr><td>dbfs:/databricks-datasets/airlines/part-01207</td><td>part-01207</td><td>67108891</td><td>1436493706000</td></tr><tr><td>dbfs:/databricks-datasets/airlines/part-01208</td><td>part-01208</td><td>67108868</td><td>1436493706000</td></tr><tr><td>dbfs:/databricks-datasets/airlines/part-01209</td><td>part-01209</td><td>67108894</td><td>1436493707000</td></tr><tr><td>dbfs:/databricks-datasets/airlines/part-01210</td><td>part-01210</td><td>67108871</td><td>1436493707000</td></tr><tr><td>dbfs:/databricks-datasets/airlines/part-01211</td><td>part-01211</td><td>67108789</td><td>1436493708000</td></tr><tr><td>dbfs:/databricks-datasets/airlines/part-01212</td><td>part-01212</td><td>67108954</td><td>1436493708000</td></tr><tr><td>dbfs:/databricks-datasets/airlines/part-01213</td><td>part-01213</td><td>67108866</td><td>1436493708000</td></tr><tr><td>dbfs:/databricks-datasets/airlines/part-01214</td><td>part-01214</td><td>67108801</td><td>1436493709000</td></tr><tr><td>dbfs:/databricks-datasets/airlines/part-01215</td><td>part-01215</td><td>67108837</td><td>1436493709000</td></tr><tr><td>dbfs:/databricks-datasets/airlines/part-01216</td><td>part-01216</td><td>67108907</td><td>1436493710000</td></tr><tr><td>dbfs:/databricks-datasets/airlines/part-01217</td><td>part-01217</td><td>67108827</td><td>1436493710000</td></tr><tr><td>dbfs:/databricks-datasets/airlines/part-01218</td><td>part-01218</td><td>67108899</td><td>1436493711000</td></tr><tr><td>dbfs:/databricks-datasets/airlines/part-01219</td><td>part-01219</td><td>67108868</td><td>1436493711000</td></tr><tr><td>dbfs:/databricks-datasets/airlines/part-01220</td><td>part-01220</td><td>67108882</td><td>1436493711000</td></tr><tr><td>dbfs:/databricks-datasets/airlines/part-01221</td><td>part-01221</td><td>67108884</td><td>1436493712000</td></tr><tr><td>dbfs:/databricks-datasets/airlines/part-01222</td><td>part-01222</td><td>67108817</td><td>1436493712000</td></tr><tr><td>dbfs:/databricks-datasets/airlines/part-01223</td><td>part-01223</td><td>67108901</td><td>1436493713000</td></tr><tr><td>dbfs:/databricks-datasets/airlines/part-01224</td><td>part-01224</td><td>67108820</td><td>1436493713000</td></tr><tr><td>dbfs:/databricks-datasets/airlines/part-01225</td><td>part-01225</td><td>67108932</td><td>1436493713000</td></tr><tr><td>dbfs:/databricks-datasets/airlines/part-01226</td><td>part-01226</td><td>67108780</td><td>1436493714000</td></tr><tr><td>dbfs:/databricks-datasets/airlines/part-01227</td><td>part-01227</td><td>67108944</td><td>1436493714000</td></tr><tr><td>dbfs:/databricks-datasets/airlines/part-01228</td><td>part-01228</td><td>67108830</td><td>1436493715000</td></tr><tr><td>dbfs:/databricks-datasets/airlines/part-01229</td><td>part-01229</td><td>67108820</td><td>1436493715000</td></tr><tr><td>dbfs:/databricks-datasets/airlines/part-01230</td><td>part-01230</td><td>67108847</td><td>1436493716000</td></tr><tr><td>dbfs:/databricks-datasets/airlines/part-01231</td><td>part-01231</td><td>67108938</td><td>1436493716000</td></tr><tr><td>dbfs:/databricks-datasets/airlines/part-01232</td><td>part-01232</td><td>67108837</td><td>1436493717000</td></tr><tr><td>dbfs:/databricks-datasets/airlines/part-01233</td><td>part-01233</td><td>67108873</td><td>1436493717000</td></tr><tr><td>dbfs:/databricks-datasets/airlines/part-01234</td><td>part-01234</td><td>67108838</td><td>1436493717000</td></tr><tr><td>dbfs:/databricks-datasets/airlines/part-01235</td><td>part-01235</td><td>67108929</td><td>1436493718000</td></tr><tr><td>dbfs:/databricks-datasets/airlines/part-01236</td><td>part-01236</td><td>67108872</td><td>1436493718000</td></tr><tr><td>dbfs:/databricks-datasets/airlines/part-01237</td><td>part-01237</td><td>67108837</td><td>1436493719000</td></tr><tr><td>dbfs:/databricks-datasets/airlines/part-01238</td><td>part-01238</td><td>67108812</td><td>1436493719000</td></tr><tr><td>dbfs:/databricks-datasets/airlines/part-01239</td><td>part-01239</td><td>67108873</td><td>1436493720000</td></tr><tr><td>dbfs:/databricks-datasets/airlines/part-01240</td><td>part-01240</td><td>67108925</td><td>1436493720000</td></tr><tr><td>dbfs:/databricks-datasets/airlines/part-01241</td><td>part-01241</td><td>67108803</td><td>1436493721000</td></tr><tr><td>dbfs:/databricks-datasets/airlines/part-01242</td><td>part-01242</td><td>67108874</td><td>1436493721000</td></tr><tr><td>dbfs:/databricks-datasets/airlines/part-01243</td><td>part-01243</td><td>67108855</td><td>1436493722000</td></tr><tr><td>dbfs:/databricks-datasets/airlines/part-01244</td><td>part-01244</td><td>67108899</td><td>1436493722000</td></tr><tr><td>dbfs:/databricks-datasets/airlines/part-01245</td><td>part-01245</td><td>67108830</td><td>1436493722000</td></tr><tr><td>dbfs:/databricks-datasets/airlines/part-01246</td><td>part-01246</td><td>67108916</td><td>1436493723000</td></tr><tr><td>dbfs:/databricks-datasets/airlines/part-01247</td><td>part-01247</td><td>67108864</td><td>1436493723000</td></tr><tr><td>dbfs:/databricks-datasets/airlines/part-01248</td><td>part-01248</td><td>67108860</td><td>1436493724000</td></tr><tr><td>dbfs:/databricks-datasets/airlines/part-01249</td><td>part-01249</td><td>67108879</td><td>1436493724000</td></tr><tr><td>dbfs:/databricks-datasets/airlines/part-01250</td><td>part-01250</td><td>67108859</td><td>1436493724000</td></tr><tr><td>dbfs:/databricks-datasets/airlines/part-01251</td><td>part-01251</td><td>67108797</td><td>1436493725000</td></tr><tr><td>dbfs:/databricks-datasets/airlines/part-01252</td><td>part-01252</td><td>67108911</td><td>1436493725000</td></tr><tr><td>dbfs:/databricks-datasets/airlines/part-01253</td><td>part-01253</td><td>67108807</td><td>1436493726000</td></tr><tr><td>dbfs:/databricks-datasets/airlines/part-01254</td><td>part-01254</td><td>67108908</td><td>1436493726000</td></tr><tr><td>dbfs:/databricks-datasets/airlines/part-01255</td><td>part-01255</td><td>67108897</td><td>1436493727000</td></tr><tr><td>dbfs:/databricks-datasets/airlines/part-01256</td><td>part-01256</td><td>67108871</td><td>1436493727000</td></tr><tr><td>dbfs:/databricks-datasets/airlines/part-01257</td><td>part-01257</td><td>67108768</td><td>1436493728000</td></tr><tr><td>dbfs:/databricks-datasets/airlines/part-01258</td><td>part-01258</td><td>67108873</td><td>1436493728000</td></tr><tr><td>dbfs:/databricks-datasets/airlines/part-01259</td><td>part-01259</td><td>67108917</td><td>1436493728000</td></tr><tr><td>dbfs:/databricks-datasets/airlines/part-01260</td><td>part-01260</td><td>67108808</td><td>1436493729000</td></tr><tr><td>dbfs:/databricks-datasets/airlines/part-01261</td><td>part-01261</td><td>67638938</td><td>1436493729000</td></tr><tr><td>dbfs:/databricks-datasets/airlines/part-01262</td><td>part-01262</td><td>67753478</td><td>1436493730000</td></tr><tr><td>dbfs:/databricks-datasets/airlines/part-01263</td><td>part-01263</td><td>67899367</td><td>1436493730000</td></tr><tr><td>dbfs:/databricks-datasets/airlines/part-01264</td><td>part-01264</td><td>67790532</td><td>1436493730000</td></tr><tr><td>dbfs:/databricks-datasets/airlines/part-01265</td><td>part-01265</td><td>67905220</td><td>1436493731000</td></tr><tr><td>dbfs:/databricks-datasets/airlines/part-01266</td><td>part-01266</td><td>67778147</td><td>1436493731000</td></tr><tr><td>dbfs:/databricks-datasets/airlines/part-01267</td><td>part-01267</td><td>67778870</td><td>1436493732000</td></tr><tr><td>dbfs:/databricks-datasets/airlines/part-01268</td><td>part-01268</td><td>67991512</td><td>1436493732000</td></tr><tr><td>dbfs:/databricks-datasets/airlines/part-01269</td><td>part-01269</td><td>67817625</td><td>1436493732000</td></tr><tr><td>dbfs:/databricks-datasets/airlines/part-01270</td><td>part-01270</td><td>67762051</td><td>1436493733000</td></tr><tr><td>dbfs:/databricks-datasets/airlines/part-01271</td><td>part-01271</td><td>67830619</td><td>1436493733000</td></tr><tr><td>dbfs:/databricks-datasets/airlines/part-01272</td><td>part-01272</td><td>67303633</td><td>1436493734000</td></tr><tr><td>dbfs:/databricks-datasets/airlines/part-01273</td><td>part-01273</td><td>67108831</td><td>1436493734000</td></tr><tr><td>dbfs:/databricks-datasets/airlines/part-01274</td><td>part-01274</td><td>67108914</td><td>1436493734000</td></tr><tr><td>dbfs:/databricks-datasets/airlines/part-01275</td><td>part-01275</td><td>67108835</td><td>1436493735000</td></tr><tr><td>dbfs:/databricks-datasets/airlines/part-01276</td><td>part-01276</td><td>67108849</td><td>1436493735000</td></tr><tr><td>dbfs:/databricks-datasets/airlines/part-01277</td><td>part-01277</td><td>67108897</td><td>1436493736000</td></tr><tr><td>dbfs:/databricks-datasets/airlines/part-01278</td><td>part-01278</td><td>67108862</td><td>1436493736000</td></tr><tr><td>dbfs:/databricks-datasets/airlines/part-01279</td><td>part-01279</td><td>67108853</td><td>1436493737000</td></tr><tr><td>dbfs:/databricks-datasets/airlines/part-01280</td><td>part-01280</td><td>67108845</td><td>1436493737000</td></tr><tr><td>dbfs:/databricks-datasets/airlines/part-01281</td><td>part-01281</td><td>67108870</td><td>1436493737000</td></tr><tr><td>dbfs:/databricks-datasets/airlines/part-01282</td><td>part-01282</td><td>67108911</td><td>1436493738000</td></tr><tr><td>dbfs:/databricks-datasets/airlines/part-01283</td><td>part-01283</td><td>67108810</td><td>1436493738000</td></tr><tr><td>dbfs:/databricks-datasets/airlines/part-01284</td><td>part-01284</td><td>67108838</td><td>1436493739000</td></tr><tr><td>dbfs:/databricks-datasets/airlines/part-01285</td><td>part-01285</td><td>67108916</td><td>1436493739000</td></tr><tr><td>dbfs:/databricks-datasets/airlines/part-01286</td><td>part-01286</td><td>67108856</td><td>1436493739000</td></tr><tr><td>dbfs:/databricks-datasets/airlines/part-01287</td><td>part-01287</td><td>67108813</td><td>1436493740000</td></tr><tr><td>dbfs:/databricks-datasets/airlines/part-01288</td><td>part-01288</td><td>67108909</td><td>1436493740000</td></tr><tr><td>dbfs:/databricks-datasets/airlines/part-01289</td><td>part-01289</td><td>67108815</td><td>1436493740000</td></tr><tr><td>dbfs:/databricks-datasets/airlines/part-01290</td><td>part-01290</td><td>67108947</td><td>1436493741000</td></tr><tr><td>dbfs:/databricks-datasets/airlines/part-01291</td><td>part-01291</td><td>67108876</td><td>1436493741000</td></tr><tr><td>dbfs:/databricks-datasets/airlines/part-01292</td><td>part-01292</td><td>67108816</td><td>1436493742000</td></tr><tr><td>dbfs:/databricks-datasets/airlines/part-01293</td><td>part-01293</td><td>67108834</td><td>1436493742000</td></tr><tr><td>dbfs:/databricks-datasets/airlines/part-01294</td><td>part-01294</td><td>67108931</td><td>1436493743000</td></tr><tr><td>dbfs:/databricks-datasets/airlines/part-01295</td><td>part-01295</td><td>67108860</td><td>1436493743000</td></tr><tr><td>dbfs:/databricks-datasets/airlines/part-01296</td><td>part-01296</td><td>67108802</td><td>1436493744000</td></tr><tr><td>dbfs:/databricks-datasets/airlines/part-01297</td><td>part-01297</td><td>67108940</td><td>1436493744000</td></tr><tr><td>dbfs:/databricks-datasets/airlines/part-01298</td><td>part-01298</td><td>67108814</td><td>1436493745000</td></tr><tr><td>dbfs:/databricks-datasets/airlines/part-01299</td><td>part-01299</td><td>67108905</td><td>1436493745000</td></tr><tr><td>dbfs:/databricks-datasets/airlines/part-01300</td><td>part-01300</td><td>67108793</td><td>1436493745000</td></tr><tr><td>dbfs:/databricks-datasets/airlines/part-01301</td><td>part-01301</td><td>67108910</td><td>1436493746000</td></tr><tr><td>dbfs:/databricks-datasets/airlines/part-01302</td><td>part-01302</td><td>67108869</td><td>1436493746000</td></tr><tr><td>dbfs:/databricks-datasets/airlines/part-01303</td><td>part-01303</td><td>67108851</td><td>1436493747000</td></tr><tr><td>dbfs:/databricks-datasets/airlines/part-01304</td><td>part-01304</td><td>67108907</td><td>1436493747000</td></tr><tr><td>dbfs:/databricks-datasets/airlines/part-01305</td><td>part-01305</td><td>67108830</td><td>1436493747000</td></tr><tr><td>dbfs:/databricks-datasets/airlines/part-01306</td><td>part-01306</td><td>67108879</td><td>1436493748000</td></tr><tr><td>dbfs:/databricks-datasets/airlines/part-01307</td><td>part-01307</td><td>67108803</td><td>1436493748000</td></tr><tr><td>dbfs:/databricks-datasets/airlines/part-01308</td><td>part-01308</td><td>67108945</td><td>1436493749000</td></tr><tr><td>dbfs:/databricks-datasets/airlines/part-01309</td><td>part-01309</td><td>67108847</td><td>1436493749000</td></tr><tr><td>dbfs:/databricks-datasets/airlines/part-01310</td><td>part-01310</td><td>67108853</td><td>1436493750000</td></tr><tr><td>dbfs:/databricks-datasets/airlines/part-01311</td><td>part-01311</td><td>67108891</td><td>1436493750000</td></tr><tr><td>dbfs:/databricks-datasets/airlines/part-01312</td><td>part-01312</td><td>67108841</td><td>1436493751000</td></tr><tr><td>dbfs:/databricks-datasets/airlines/part-01313</td><td>part-01313</td><td>67108813</td><td>1436493751000</td></tr><tr><td>dbfs:/databricks-datasets/airlines/part-01314</td><td>part-01314</td><td>67108905</td><td>1436493752000</td></tr><tr><td>dbfs:/databricks-datasets/airlines/part-01315</td><td>part-01315</td><td>67108882</td><td>1436493752000</td></tr><tr><td>dbfs:/databricks-datasets/airlines/part-01316</td><td>part-01316</td><td>67108861</td><td>1436493753000</td></tr><tr><td>dbfs:/databricks-datasets/airlines/part-01317</td><td>part-01317</td><td>67108831</td><td>1436493753000</td></tr><tr><td>dbfs:/databricks-datasets/airlines/part-01318</td><td>part-01318</td><td>67108910</td><td>1436493754000</td></tr><tr><td>dbfs:/databricks-datasets/airlines/part-01319</td><td>part-01319</td><td>67108818</td><td>1436493754000</td></tr><tr><td>dbfs:/databricks-datasets/airlines/part-01320</td><td>part-01320</td><td>67108877</td><td>1436493755000</td></tr><tr><td>dbfs:/databricks-datasets/airlines/part-01321</td><td>part-01321</td><td>67108838</td><td>1436493755000</td></tr><tr><td>dbfs:/databricks-datasets/airlines/part-01322</td><td>part-01322</td><td>67108920</td><td>1436493755000</td></tr><tr><td>dbfs:/databricks-datasets/airlines/part-01323</td><td>part-01323</td><td>67108786</td><td>1436493756000</td></tr><tr><td>dbfs:/databricks-datasets/airlines/part-01324</td><td>part-01324</td><td>67108885</td><td>1436493756000</td></tr><tr><td>dbfs:/databricks-datasets/airlines/part-01325</td><td>part-01325</td><td>67108858</td><td>1436493757000</td></tr><tr><td>dbfs:/databricks-datasets/airlines/part-01326</td><td>part-01326</td><td>67108941</td><td>1436493757000</td></tr><tr><td>dbfs:/databricks-datasets/airlines/part-01327</td><td>part-01327</td><td>67108843</td><td>1436493757000</td></tr><tr><td>dbfs:/databricks-datasets/airlines/part-01328</td><td>part-01328</td><td>67108863</td><td>1436493758000</td></tr><tr><td>dbfs:/databricks-datasets/airlines/part-01329</td><td>part-01329</td><td>67108827</td><td>1436493758000</td></tr><tr><td>dbfs:/databricks-datasets/airlines/part-01330</td><td>part-01330</td><td>67108824</td><td>1436493759000</td></tr><tr><td>dbfs:/databricks-datasets/airlines/part-01331</td><td>part-01331</td><td>67108950</td><td>1436493759000</td></tr><tr><td>dbfs:/databricks-datasets/airlines/part-01332</td><td>part-01332</td><td>67108861</td><td>1436493759000</td></tr><tr><td>dbfs:/databricks-datasets/airlines/part-01333</td><td>part-01333</td><td>67108872</td><td>1436493760000</td></tr><tr><td>dbfs:/databricks-datasets/airlines/part-01334</td><td>part-01334</td><td>67108820</td><td>1436493760000</td></tr><tr><td>dbfs:/databricks-datasets/airlines/part-01335</td><td>part-01335</td><td>67108834</td><td>1436493761000</td></tr><tr><td>dbfs:/databricks-datasets/airlines/part-01336</td><td>part-01336</td><td>67108855</td><td>1436493761000</td></tr><tr><td>dbfs:/databricks-datasets/airlines/part-01337</td><td>part-01337</td><td>67108907</td><td>1436493761000</td></tr><tr><td>dbfs:/databricks-datasets/airlines/part-01338</td><td>part-01338</td><td>67108845</td><td>1436493762000</td></tr><tr><td>dbfs:/databricks-datasets/airlines/part-01339</td><td>part-01339</td><td>67108873</td><td>1436493762000</td></tr><tr><td>dbfs:/databricks-datasets/airlines/part-01340</td><td>part-01340</td><td>67108923</td><td>1436493763000</td></tr><tr><td>dbfs:/databricks-datasets/airlines/part-01341</td><td>part-01341</td><td>67108788</td><td>1436493763000</td></tr><tr><td>dbfs:/databricks-datasets/airlines/part-01342</td><td>part-01342</td><td>67108873</td><td>1436493764000</td></tr><tr><td>dbfs:/databricks-datasets/airlines/part-01343</td><td>part-01343</td><td>67108921</td><td>1436493764000</td></tr><tr><td>dbfs:/databricks-datasets/airlines/part-01344</td><td>part-01344</td><td>67108834</td><td>1436493765000</td></tr><tr><td>dbfs:/databricks-datasets/airlines/part-01345</td><td>part-01345</td><td>67108821</td><td>1436493765000</td></tr><tr><td>dbfs:/databricks-datasets/airlines/part-01346</td><td>part-01346</td><td>67108857</td><td>1436493766000</td></tr><tr><td>dbfs:/databricks-datasets/airlines/part-01347</td><td>part-01347</td><td>67108949</td><td>1436493766000</td></tr><tr><td>dbfs:/databricks-datasets/airlines/part-01348</td><td>part-01348</td><td>67108848</td><td>1436493766000</td></tr><tr><td>dbfs:/databricks-datasets/airlines/part-01349</td><td>part-01349</td><td>67108785</td><td>1436493767000</td></tr><tr><td>dbfs:/databricks-datasets/airlines/part-01350</td><td>part-01350</td><td>67108886</td><td>1436493767000</td></tr><tr><td>dbfs:/databricks-datasets/airlines/part-01351</td><td>part-01351</td><td>67108931</td><td>1436493768000</td></tr><tr><td>dbfs:/databricks-datasets/airlines/part-01352</td><td>part-01352</td><td>67108789</td><td>1436493768000</td></tr><tr><td>dbfs:/databricks-datasets/airlines/part-01353</td><td>part-01353</td><td>67108938</td><td>1436493768000</td></tr><tr><td>dbfs:/databricks-datasets/airlines/part-01354</td><td>part-01354</td><td>67108792</td><td>1436493769000</td></tr><tr><td>dbfs:/databricks-datasets/airlines/part-01355</td><td>part-01355</td><td>67108921</td><td>1436493769000</td></tr><tr><td>dbfs:/databricks-datasets/airlines/part-01356</td><td>part-01356</td><td>67108852</td><td>1436493770000</td></tr><tr><td>dbfs:/databricks-datasets/airlines/part-01357</td><td>part-01357</td><td>67108825</td><td>1436493770000</td></tr><tr><td>dbfs:/databricks-datasets/airlines/part-01358</td><td>part-01358</td><td>67108854</td><td>1436493770000</td></tr><tr><td>dbfs:/databricks-datasets/airlines/part-01359</td><td>part-01359</td><td>67108859</td><td>1436493771000</td></tr><tr><td>dbfs:/databricks-datasets/airlines/part-01360</td><td>part-01360</td><td>67108886</td><td>1436493771000</td></tr><tr><td>dbfs:/databricks-datasets/airlines/part-01361</td><td>part-01361</td><td>67108888</td><td>1436493772000</td></tr><tr><td>dbfs:/databricks-datasets/airlines/part-01362</td><td>part-01362</td><td>67108807</td><td>1436493772000</td></tr><tr><td>dbfs:/databricks-datasets/airlines/part-01363</td><td>part-01363</td><td>67108961</td><td>1436493772000</td></tr><tr><td>dbfs:/databricks-datasets/airlines/part-01364</td><td>part-01364</td><td>67108850</td><td>1436493773000</td></tr><tr><td>dbfs:/databricks-datasets/airlines/part-01365</td><td>part-01365</td><td>67108829</td><td>1436493773000</td></tr><tr><td>dbfs:/databricks-datasets/airlines/part-01366</td><td>part-01366</td><td>67108839</td><td>1436493774000</td></tr><tr><td>dbfs:/databricks-datasets/airlines/part-01367</td><td>part-01367</td><td>67108843</td><td>1436493774000</td></tr><tr><td>dbfs:/databricks-datasets/airlines/part-01368</td><td>part-01368</td><td>67108939</td><td>1436493775000</td></tr><tr><td>dbfs:/databricks-datasets/airlines/part-01369</td><td>part-01369</td><td>67108791</td><td>1436493775000</td></tr><tr><td>dbfs:/databricks-datasets/airlines/part-01370</td><td>part-01370</td><td>67108866</td><td>1436493775000</td></tr><tr><td>dbfs:/databricks-datasets/airlines/part-01371</td><td>part-01371</td><td>67108956</td><td>1436493776000</td></tr><tr><td>dbfs:/databricks-datasets/airlines/part-01372</td><td>part-01372</td><td>67108776</td><td>1436493776000</td></tr><tr><td>dbfs:/databricks-datasets/airlines/part-01373</td><td>part-01373</td><td>67108921</td><td>1436493777000</td></tr><tr><td>dbfs:/databricks-datasets/airlines/part-01374</td><td>part-01374</td><td>67108842</td><td>1436493777000</td></tr><tr><td>dbfs:/databricks-datasets/airlines/part-01375</td><td>part-01375</td><td>67108886</td><td>1436493778000</td></tr><tr><td>dbfs:/databricks-datasets/airlines/part-01376</td><td>part-01376</td><td>67108823</td><td>1436493778000</td></tr><tr><td>dbfs:/databricks-datasets/airlines/part-01377</td><td>part-01377</td><td>67108903</td><td>1436493778000</td></tr><tr><td>dbfs:/databricks-datasets/airlines/part-01378</td><td>part-01378</td><td>67108860</td><td>1436493779000</td></tr><tr><td>dbfs:/databricks-datasets/airlines/part-01379</td><td>part-01379</td><td>67108888</td><td>1436493779000</td></tr><tr><td>dbfs:/databricks-datasets/airlines/part-01380</td><td>part-01380</td><td>67108858</td><td>1436493780000</td></tr><tr><td>dbfs:/databricks-datasets/airlines/part-01381</td><td>part-01381</td><td>67108867</td><td>1436493780000</td></tr><tr><td>dbfs:/databricks-datasets/airlines/part-01382</td><td>part-01382</td><td>67108868</td><td>1436493781000</td></tr><tr><td>dbfs:/databricks-datasets/airlines/part-01383</td><td>part-01383</td><td>67108870</td><td>1436493781000</td></tr><tr><td>dbfs:/databricks-datasets/airlines/part-01384</td><td>part-01384</td><td>67108847</td><td>1436493782000</td></tr><tr><td>dbfs:/databricks-datasets/airlines/part-01385</td><td>part-01385</td><td>67108813</td><td>1436493782000</td></tr><tr><td>dbfs:/databricks-datasets/airlines/part-01386</td><td>part-01386</td><td>67108875</td><td>1436493783000</td></tr><tr><td>dbfs:/databricks-datasets/airlines/part-01387</td><td>part-01387</td><td>67108912</td><td>1436493783000</td></tr><tr><td>dbfs:/databricks-datasets/airlines/part-01388</td><td>part-01388</td><td>67108872</td><td>1436493784000</td></tr><tr><td>dbfs:/databricks-datasets/airlines/part-01389</td><td>part-01389</td><td>67108788</td><td>1436493785000</td></tr><tr><td>dbfs:/databricks-datasets/airlines/part-01390</td><td>part-01390</td><td>67108895</td><td>1436493785000</td></tr><tr><td>dbfs:/databricks-datasets/airlines/part-01391</td><td>part-01391</td><td>67108924</td><td>1436493786000</td></tr><tr><td>dbfs:/databricks-datasets/airlines/part-01392</td><td>part-01392</td><td>67108800</td><td>1436493786000</td></tr><tr><td>dbfs:/databricks-datasets/airlines/part-01393</td><td>part-01393</td><td>67108824</td><td>1436493786000</td></tr><tr><td>dbfs:/databricks-datasets/airlines/part-01394</td><td>part-01394</td><td>67108916</td><td>1436493787000</td></tr><tr><td>dbfs:/databricks-datasets/airlines/part-01395</td><td>part-01395</td><td>67108911</td><td>1436493787000</td></tr><tr><td>dbfs:/databricks-datasets/airlines/part-01396</td><td>part-01396</td><td>67108857</td><td>1436493787000</td></tr><tr><td>dbfs:/databricks-datasets/airlines/part-01397</td><td>part-01397</td><td>67108777</td><td>1436493788000</td></tr><tr><td>dbfs:/databricks-datasets/airlines/part-01398</td><td>part-01398</td><td>67108872</td><td>1436493788000</td></tr><tr><td>dbfs:/databricks-datasets/airlines/part-01399</td><td>part-01399</td><td>67108916</td><td>1436493789000</td></tr><tr><td>dbfs:/databricks-datasets/airlines/part-01400</td><td>part-01400</td><td>67108881</td><td>1436493789000</td></tr><tr><td>dbfs:/databricks-datasets/airlines/part-01401</td><td>part-01401</td><td>67108838</td><td>1436493789000</td></tr><tr><td>dbfs:/databricks-datasets/airlines/part-01402</td><td>part-01402</td><td>67108848</td><td>1436493790000</td></tr><tr><td>dbfs:/databricks-datasets/airlines/part-01403</td><td>part-01403</td><td>67108893</td><td>1436493790000</td></tr><tr><td>dbfs:/databricks-datasets/airlines/part-01404</td><td>part-01404</td><td>67108828</td><td>1436493791000</td></tr><tr><td>dbfs:/databricks-datasets/airlines/part-01405</td><td>part-01405</td><td>67108867</td><td>1436493791000</td></tr><tr><td>dbfs:/databricks-datasets/airlines/part-01406</td><td>part-01406</td><td>67108886</td><td>1436493792000</td></tr><tr><td>dbfs:/databricks-datasets/airlines/part-01407</td><td>part-01407</td><td>67108886</td><td>1436493792000</td></tr><tr><td>dbfs:/databricks-datasets/airlines/part-01408</td><td>part-01408</td><td>67108823</td><td>1436493792000</td></tr><tr><td>dbfs:/databricks-datasets/airlines/part-01409</td><td>part-01409</td><td>67108916</td><td>1436493793000</td></tr><tr><td>dbfs:/databricks-datasets/airlines/part-01410</td><td>part-01410</td><td>67108873</td><td>1436493793000</td></tr><tr><td>dbfs:/databricks-datasets/airlines/part-01411</td><td>part-01411</td><td>67108777</td><td>1436493794000</td></tr><tr><td>dbfs:/databricks-datasets/airlines/part-01412</td><td>part-01412</td><td>67108915</td><td>1436493794000</td></tr><tr><td>dbfs:/databricks-datasets/airlines/part-01413</td><td>part-01413</td><td>67108875</td><td>1436493794000</td></tr><tr><td>dbfs:/databricks-datasets/airlines/part-01414</td><td>part-01414</td><td>67108840</td><td>1436493795000</td></tr><tr><td>dbfs:/databricks-datasets/airlines/part-01415</td><td>part-01415</td><td>67108911</td><td>1436493795000</td></tr><tr><td>dbfs:/databricks-datasets/airlines/part-01416</td><td>part-01416</td><td>67108816</td><td>1436493796000</td></tr><tr><td>dbfs:/databricks-datasets/airlines/part-01417</td><td>part-01417</td><td>67108917</td><td>1436493796000</td></tr><tr><td>dbfs:/databricks-datasets/airlines/part-01418</td><td>part-01418</td><td>67108811</td><td>1436493797000</td></tr><tr><td>dbfs:/databricks-datasets/airlines/part-01419</td><td>part-01419</td><td>67108839</td><td>1436493797000</td></tr><tr><td>dbfs:/databricks-datasets/airlines/part-01420</td><td>part-01420</td><td>67108924</td><td>1436493797000</td></tr><tr><td>dbfs:/databricks-datasets/airlines/part-01421</td><td>part-01421</td><td>67108868</td><td>1436493798000</td></tr><tr><td>dbfs:/databricks-datasets/airlines/part-01422</td><td>part-01422</td><td>67108822</td><td>1436493798000</td></tr><tr><td>dbfs:/databricks-datasets/airlines/part-01423</td><td>part-01423</td><td>67108850</td><td>1436493799000</td></tr><tr><td>dbfs:/databricks-datasets/airlines/part-01424</td><td>part-01424</td><td>67108901</td><td>1436493799000</td></tr><tr><td>dbfs:/databricks-datasets/airlines/part-01425</td><td>part-01425</td><td>67108844</td><td>1436493799000</td></tr><tr><td>dbfs:/databricks-datasets/airlines/part-01426</td><td>part-01426</td><td>67108898</td><td>1436493800000</td></tr><tr><td>dbfs:/databricks-datasets/airlines/part-01427</td><td>part-01427</td><td>67108852</td><td>1436493800000</td></tr><tr><td>dbfs:/databricks-datasets/airlines/part-01428</td><td>part-01428</td><td>67108856</td><td>1436493801000</td></tr><tr><td>dbfs:/databricks-datasets/airlines/part-01429</td><td>part-01429</td><td>67108879</td><td>1436493801000</td></tr><tr><td>dbfs:/databricks-datasets/airlines/part-01430</td><td>part-01430</td><td>67108811</td><td>1436493802000</td></tr><tr><td>dbfs:/databricks-datasets/airlines/part-01431</td><td>part-01431</td><td>67108840</td><td>1436493802000</td></tr><tr><td>dbfs:/databricks-datasets/airlines/part-01432</td><td>part-01432</td><td>67108887</td><td>1436493803000</td></tr><tr><td>dbfs:/databricks-datasets/airlines/part-01433</td><td>part-01433</td><td>67108939</td><td>1436493803000</td></tr><tr><td>dbfs:/databricks-datasets/airlines/part-01434</td><td>part-01434</td><td>67108779</td><td>1436493804000</td></tr><tr><td>dbfs:/databricks-datasets/airlines/part-01435</td><td>part-01435</td><td>67108850</td><td>1436493804000</td></tr><tr><td>dbfs:/databricks-datasets/airlines/part-01436</td><td>part-01436</td><td>67108961</td><td>1436493804000</td></tr><tr><td>dbfs:/databricks-datasets/airlines/part-01437</td><td>part-01437</td><td>67108822</td><td>1436493805000</td></tr><tr><td>dbfs:/databricks-datasets/airlines/part-01438</td><td>part-01438</td><td>67108836</td><td>1436493805000</td></tr><tr><td>dbfs:/databricks-datasets/airlines/part-01439</td><td>part-01439</td><td>67108890</td><td>1436493806000</td></tr><tr><td>dbfs:/databricks-datasets/airlines/part-01440</td><td>part-01440</td><td>67108846</td><td>1436493806000</td></tr><tr><td>dbfs:/databricks-datasets/airlines/part-01441</td><td>part-01441</td><td>67108852</td><td>1436493806000</td></tr><tr><td>dbfs:/databricks-datasets/airlines/part-01442</td><td>part-01442</td><td>67108880</td><td>1436493807000</td></tr><tr><td>dbfs:/databricks-datasets/airlines/part-01443</td><td>part-01443</td><td>67108875</td><td>1436493808000</td></tr><tr><td>dbfs:/databricks-datasets/airlines/part-01444</td><td>part-01444</td><td>67108916</td><td>1436493808000</td></tr><tr><td>dbfs:/databricks-datasets/airlines/part-01445</td><td>part-01445</td><td>67108780</td><td>1436493808000</td></tr><tr><td>dbfs:/databricks-datasets/airlines/part-01446</td><td>part-01446</td><td>67108855</td><td>1436493809000</td></tr><tr><td>dbfs:/databricks-datasets/airlines/part-01447</td><td>part-01447</td><td>67108920</td><td>1436493809000</td></tr><tr><td>dbfs:/databricks-datasets/airlines/part-01448</td><td>part-01448</td><td>67108882</td><td>1436493809000</td></tr><tr><td>dbfs:/databricks-datasets/airlines/part-01449</td><td>part-01449</td><td>67108800</td><td>1436493810000</td></tr><tr><td>dbfs:/databricks-datasets/airlines/part-01450</td><td>part-01450</td><td>67108855</td><td>1436493810000</td></tr><tr><td>dbfs:/databricks-datasets/airlines/part-01451</td><td>part-01451</td><td>67108892</td><td>1436493811000</td></tr><tr><td>dbfs:/databricks-datasets/airlines/part-01452</td><td>part-01452</td><td>67108824</td><td>1436493811000</td></tr><tr><td>dbfs:/databricks-datasets/airlines/part-01453</td><td>part-01453</td><td>67644274</td><td>1436493812000</td></tr><tr><td>dbfs:/databricks-datasets/airlines/part-01454</td><td>part-01454</td><td>67750045</td><td>1436493812000</td></tr><tr><td>dbfs:/databricks-datasets/airlines/part-01455</td><td>part-01455</td><td>67897956</td><td>1436493813000</td></tr><tr><td>dbfs:/databricks-datasets/airlines/part-01456</td><td>part-01456</td><td>67827424</td><td>1436493813000</td></tr><tr><td>dbfs:/databricks-datasets/airlines/part-01457</td><td>part-01457</td><td>67872232</td><td>1436493813000</td></tr><tr><td>dbfs:/databricks-datasets/airlines/part-01458</td><td>part-01458</td><td>67788229</td><td>1436493814000</td></tr><tr><td>dbfs:/databricks-datasets/airlines/part-01459</td><td>part-01459</td><td>67772982</td><td>1436493814000</td></tr><tr><td>dbfs:/databricks-datasets/airlines/part-01460</td><td>part-01460</td><td>67983464</td><td>1436493815000</td></tr><tr><td>dbfs:/databricks-datasets/airlines/part-01461</td><td>part-01461</td><td>67822265</td><td>1436493815000</td></tr><tr><td>dbfs:/databricks-datasets/airlines/part-01462</td><td>part-01462</td><td>67813859</td><td>1436493816000</td></tr><tr><td>dbfs:/databricks-datasets/airlines/part-01463</td><td>part-01463</td><td>67786033</td><td>1436493816000</td></tr><tr><td>dbfs:/databricks-datasets/airlines/part-01464</td><td>part-01464</td><td>67291235</td><td>1436493817000</td></tr><tr><td>dbfs:/databricks-datasets/airlines/part-01465</td><td>part-01465</td><td>67108804</td><td>1436493817000</td></tr><tr><td>dbfs:/databricks-datasets/airlines/part-01466</td><td>part-01466</td><td>67108905</td><td>1436493817000</td></tr><tr><td>dbfs:/databricks-datasets/airlines/part-01467</td><td>part-01467</td><td>67108890</td><td>1436493818000</td></tr><tr><td>dbfs:/databricks-datasets/airlines/part-01468</td><td>part-01468</td><td>67108879</td><td>1436493818000</td></tr><tr><td>dbfs:/databricks-datasets/airlines/part-01469</td><td>part-01469</td><td>67108802</td><td>1436493819000</td></tr><tr><td>dbfs:/databricks-datasets/airlines/part-01470</td><td>part-01470</td><td>67108910</td><td>1436493819000</td></tr><tr><td>dbfs:/databricks-datasets/airlines/part-01471</td><td>part-01471</td><td>67108849</td><td>1436493820000</td></tr><tr><td>dbfs:/databricks-datasets/airlines/part-01472</td><td>part-01472</td><td>67108835</td><td>1436493820000</td></tr><tr><td>dbfs:/databricks-datasets/airlines/part-01473</td><td>part-01473</td><td>67108908</td><td>1436493820000</td></tr><tr><td>dbfs:/databricks-datasets/airlines/part-01474</td><td>part-01474</td><td>67108816</td><td>1436493821000</td></tr><tr><td>dbfs:/databricks-datasets/airlines/part-01475</td><td>part-01475</td><td>67108873</td><td>1436493821000</td></tr><tr><td>dbfs:/databricks-datasets/airlines/part-01476</td><td>part-01476</td><td>67108890</td><td>1436493822000</td></tr><tr><td>dbfs:/databricks-datasets/airlines/part-01477</td><td>part-01477</td><td>67108820</td><td>1436493822000</td></tr><tr><td>dbfs:/databricks-datasets/airlines/part-01478</td><td>part-01478</td><td>67108944</td><td>1436493823000</td></tr><tr><td>dbfs:/databricks-datasets/airlines/part-01479</td><td>part-01479</td><td>67108845</td><td>1436493823000</td></tr><tr><td>dbfs:/databricks-datasets/airlines/part-01480</td><td>part-01480</td><td>67108839</td><td>1436493824000</td></tr><tr><td>dbfs:/databricks-datasets/airlines/part-01481</td><td>part-01481</td><td>67108900</td><td>1436493824000</td></tr><tr><td>dbfs:/databricks-datasets/airlines/part-01482</td><td>part-01482</td><td>67108874</td><td>1436493824000</td></tr><tr><td>dbfs:/databricks-datasets/airlines/part-01483</td><td>part-01483</td><td>67108782</td><td>1436493825000</td></tr><tr><td>dbfs:/databricks-datasets/airlines/part-01484</td><td>part-01484</td><td>67108941</td><td>1436493825000</td></tr><tr><td>dbfs:/databricks-datasets/airlines/part-01485</td><td>part-01485</td><td>67108841</td><td>1436493826000</td></tr><tr><td>dbfs:/databricks-datasets/airlines/part-01486</td><td>part-01486</td><td>67108864</td><td>1436493827000</td></tr><tr><td>dbfs:/databricks-datasets/airlines/part-01487</td><td>part-01487</td><td>67108833</td><td>1436493827000</td></tr><tr><td>dbfs:/databricks-datasets/airlines/part-01488</td><td>part-01488</td><td>67108867</td><td>1436493828000</td></tr><tr><td>dbfs:/databricks-datasets/airlines/part-01489</td><td>part-01489</td><td>67108857</td><td>1436493828000</td></tr><tr><td>dbfs:/databricks-datasets/airlines/part-01490</td><td>part-01490</td><td>67108872</td><td>1436493829000</td></tr><tr><td>dbfs:/databricks-datasets/airlines/part-01491</td><td>part-01491</td><td>67108893</td><td>1436493829000</td></tr><tr><td>dbfs:/databricks-datasets/airlines/part-01492</td><td>part-01492</td><td>67108868</td><td>1436493830000</td></tr><tr><td>dbfs:/databricks-datasets/airlines/part-01493</td><td>part-01493</td><td>67108840</td><td>1436493830000</td></tr><tr><td>dbfs:/databricks-datasets/airlines/part-01494</td><td>part-01494</td><td>67108893</td><td>1436493831000</td></tr><tr><td>dbfs:/databricks-datasets/airlines/part-01495</td><td>part-01495</td><td>67108858</td><td>1436493831000</td></tr><tr><td>dbfs:/databricks-datasets/airlines/part-01496</td><td>part-01496</td><td>67108832</td><td>1436493831000</td></tr><tr><td>dbfs:/databricks-datasets/airlines/part-01497</td><td>part-01497</td><td>67108826</td><td>1436493832000</td></tr><tr><td>dbfs:/databricks-datasets/airlines/part-01498</td><td>part-01498</td><td>67108926</td><td>1436493832000</td></tr><tr><td>dbfs:/databricks-datasets/airlines/part-01499</td><td>part-01499</td><td>67108846</td><td>1436493833000</td></tr><tr><td>dbfs:/databricks-datasets/airlines/part-01500</td><td>part-01500</td><td>67108846</td><td>1436493833000</td></tr><tr><td>dbfs:/databricks-datasets/airlines/part-01501</td><td>part-01501</td><td>67108876</td><td>1436493834000</td></tr><tr><td>dbfs:/databricks-datasets/airlines/part-01502</td><td>part-01502</td><td>67108918</td><td>1436493834000</td></tr><tr><td>dbfs:/databricks-datasets/airlines/part-01503</td><td>part-01503</td><td>67108831</td><td>1436493834000</td></tr><tr><td>dbfs:/databricks-datasets/airlines/part-01504</td><td>part-01504</td><td>67108817</td><td>1436493835000</td></tr><tr><td>dbfs:/databricks-datasets/airlines/part-01505</td><td>part-01505</td><td>67108940</td><td>1436493835000</td></tr><tr><td>dbfs:/databricks-datasets/airlines/part-01506</td><td>part-01506</td><td>67108840</td><td>1436493836000</td></tr><tr><td>dbfs:/databricks-datasets/airlines/part-01507</td><td>part-01507</td><td>67108852</td><td>1436493836000</td></tr><tr><td>dbfs:/databricks-datasets/airlines/part-01508</td><td>part-01508</td><td>67108854</td><td>1436493836000</td></tr><tr><td>dbfs:/databricks-datasets/airlines/part-01509</td><td>part-01509</td><td>67108881</td><td>1436493837000</td></tr><tr><td>dbfs:/databricks-datasets/airlines/part-01510</td><td>part-01510</td><td>67108893</td><td>1436493837000</td></tr><tr><td>dbfs:/databricks-datasets/airlines/part-01511</td><td>part-01511</td><td>67108776</td><td>1436493838000</td></tr><tr><td>dbfs:/databricks-datasets/airlines/part-01512</td><td>part-01512</td><td>67108867</td><td>1436493838000</td></tr><tr><td>dbfs:/databricks-datasets/airlines/part-01513</td><td>part-01513</td><td>67108866</td><td>1436493839000</td></tr><tr><td>dbfs:/databricks-datasets/airlines/part-01514</td><td>part-01514</td><td>67108954</td><td>1436493839000</td></tr><tr><td>dbfs:/databricks-datasets/airlines/part-01515</td><td>part-01515</td><td>67108794</td><td>1436493840000</td></tr><tr><td>dbfs:/databricks-datasets/airlines/part-01516</td><td>part-01516</td><td>67108875</td><td>1436493840000</td></tr><tr><td>dbfs:/databricks-datasets/airlines/part-01517</td><td>part-01517</td><td>67108905</td><td>1436493840000</td></tr><tr><td>dbfs:/databricks-datasets/airlines/part-01518</td><td>part-01518</td><td>67108891</td><td>1436493841000</td></tr><tr><td>dbfs:/databricks-datasets/airlines/part-01519</td><td>part-01519</td><td>67108771</td><td>1436493841000</td></tr><tr><td>dbfs:/databricks-datasets/airlines/part-01520</td><td>part-01520</td><td>67108901</td><td>1436493842000</td></tr><tr><td>dbfs:/databricks-datasets/airlines/part-01521</td><td>part-01521</td><td>67108903</td><td>1436493842000</td></tr><tr><td>dbfs:/databricks-datasets/airlines/part-01522</td><td>part-01522</td><td>67108830</td><td>1436493843000</td></tr><tr><td>dbfs:/databricks-datasets/airlines/part-01523</td><td>part-01523</td><td>67108897</td><td>1436493843000</td></tr><tr><td>dbfs:/databricks-datasets/airlines/part-01524</td><td>part-01524</td><td>67108858</td><td>1436493843000</td></tr><tr><td>dbfs:/databricks-datasets/airlines/part-01525</td><td>part-01525</td><td>67108876</td><td>1436493844000</td></tr><tr><td>dbfs:/databricks-datasets/airlines/part-01526</td><td>part-01526</td><td>67108845</td><td>1436493844000</td></tr><tr><td>dbfs:/databricks-datasets/airlines/part-01527</td><td>part-01527</td><td>67108802</td><td>1436493845000</td></tr><tr><td>dbfs:/databricks-datasets/airlines/part-01528</td><td>part-01528</td><td>67108939</td><td>1436493845000</td></tr><tr><td>dbfs:/databricks-datasets/airlines/part-01529</td><td>part-01529</td><td>67108821</td><td>1436493846000</td></tr><tr><td>dbfs:/databricks-datasets/airlines/part-01530</td><td>part-01530</td><td>67108920</td><td>1436493846000</td></tr><tr><td>dbfs:/databricks-datasets/airlines/part-01531</td><td>part-01531</td><td>67108801</td><td>1436493847000</td></tr><tr><td>dbfs:/databricks-datasets/airlines/part-01532</td><td>part-01532</td><td>67108913</td><td>1436493847000</td></tr><tr><td>dbfs:/databricks-datasets/airlines/part-01533</td><td>part-01533</td><td>67108802</td><td>1436493848000</td></tr><tr><td>dbfs:/databricks-datasets/airlines/part-01534</td><td>part-01534</td><td>67108929</td><td>1436493848000</td></tr><tr><td>dbfs:/databricks-datasets/airlines/part-01535</td><td>part-01535</td><td>67108805</td><td>1436493848000</td></tr><tr><td>dbfs:/databricks-datasets/airlines/part-01536</td><td>part-01536</td><td>67108875</td><td>1436493849000</td></tr><tr><td>dbfs:/databricks-datasets/airlines/part-01537</td><td>part-01537</td><td>67108910</td><td>1436493850000</td></tr><tr><td>dbfs:/databricks-datasets/airlines/part-01538</td><td>part-01538</td><td>67108879</td><td>1436493850000</td></tr><tr><td>dbfs:/databricks-datasets/airlines/part-01539</td><td>part-01539</td><td>67108832</td><td>1436493851000</td></tr><tr><td>dbfs:/databricks-datasets/airlines/part-01540</td><td>part-01540</td><td>67108834</td><td>1436493852000</td></tr><tr><td>dbfs:/databricks-datasets/airlines/part-01541</td><td>part-01541</td><td>67108882</td><td>1436493852000</td></tr><tr><td>dbfs:/databricks-datasets/airlines/part-01542</td><td>part-01542</td><td>67108829</td><td>1436493853000</td></tr><tr><td>dbfs:/databricks-datasets/airlines/part-01543</td><td>part-01543</td><td>67108874</td><td>1436493853000</td></tr><tr><td>dbfs:/databricks-datasets/airlines/part-01544</td><td>part-01544</td><td>67108875</td><td>1436493854000</td></tr><tr><td>dbfs:/databricks-datasets/airlines/part-01545</td><td>part-01545</td><td>67108898</td><td>1436493854000</td></tr><tr><td>dbfs:/databricks-datasets/airlines/part-01546</td><td>part-01546</td><td>67108849</td><td>1436493855000</td></tr><tr><td>dbfs:/databricks-datasets/airlines/part-01547</td><td>part-01547</td><td>67108808</td><td>1436493855000</td></tr><tr><td>dbfs:/databricks-datasets/airlines/part-01548</td><td>part-01548</td><td>67108953</td><td>1436493855000</td></tr><tr><td>dbfs:/databricks-datasets/airlines/part-01549</td><td>part-01549</td><td>67108779</td><td>1436493856000</td></tr><tr><td>dbfs:/databricks-datasets/airlines/part-01550</td><td>part-01550</td><td>67108905</td><td>1436493856000</td></tr><tr><td>dbfs:/databricks-datasets/airlines/part-01551</td><td>part-01551</td><td>67108906</td><td>1436493857000</td></tr><tr><td>dbfs:/databricks-datasets/airlines/part-01552</td><td>part-01552</td><td>67108807</td><td>1436493857000</td></tr><tr><td>dbfs:/databricks-datasets/airlines/part-01553</td><td>part-01553</td><td>67108833</td><td>1436493857000</td></tr><tr><td>dbfs:/databricks-datasets/airlines/part-01554</td><td>part-01554</td><td>67108927</td><td>1436493858000</td></tr><tr><td>dbfs:/databricks-datasets/airlines/part-01555</td><td>part-01555</td><td>67108811</td><td>1436493858000</td></tr><tr><td>dbfs:/databricks-datasets/airlines/part-01556</td><td>part-01556</td><td>67108923</td><td>1436493859000</td></tr><tr><td>dbfs:/databricks-datasets/airlines/part-01557</td><td>part-01557</td><td>67108822</td><td>1436493859000</td></tr><tr><td>dbfs:/databricks-datasets/airlines/part-01558</td><td>part-01558</td><td>67108858</td><td>1436493860000</td></tr><tr><td>dbfs:/databricks-datasets/airlines/part-01559</td><td>part-01559</td><td>67108878</td><td>1436493860000</td></tr><tr><td>dbfs:/databricks-datasets/airlines/part-01560</td><td>part-01560</td><td>67108829</td><td>1436493860000</td></tr><tr><td>dbfs:/databricks-datasets/airlines/part-01561</td><td>part-01561</td><td>67108892</td><td>1436493861000</td></tr><tr><td>dbfs:/databricks-datasets/airlines/part-01562</td><td>part-01562</td><td>67108883</td><td>1436493861000</td></tr><tr><td>dbfs:/databricks-datasets/airlines/part-01563</td><td>part-01563</td><td>67108838</td><td>1436493862000</td></tr><tr><td>dbfs:/databricks-datasets/airlines/part-01564</td><td>part-01564</td><td>67108910</td><td>1436493862000</td></tr><tr><td>dbfs:/databricks-datasets/airlines/part-01565</td><td>part-01565</td><td>67108812</td><td>1436493862000</td></tr><tr><td>dbfs:/databricks-datasets/airlines/part-01566</td><td>part-01566</td><td>67108875</td><td>1436493863000</td></tr><tr><td>dbfs:/databricks-datasets/airlines/part-01567</td><td>part-01567</td><td>67108857</td><td>1436493863000</td></tr><tr><td>dbfs:/databricks-datasets/airlines/part-01568</td><td>part-01568</td><td>67108903</td><td>1436493864000</td></tr><tr><td>dbfs:/databricks-datasets/airlines/part-01569</td><td>part-01569</td><td>67108862</td><td>1436493864000</td></tr><tr><td>dbfs:/databricks-datasets/airlines/part-01570</td><td>part-01570</td><td>67108856</td><td>1436493865000</td></tr><tr><td>dbfs:/databricks-datasets/airlines/part-01571</td><td>part-01571</td><td>67108835</td><td>1436493865000</td></tr><tr><td>dbfs:/databricks-datasets/airlines/part-01572</td><td>part-01572</td><td>67108885</td><td>1436493866000</td></tr><tr><td>dbfs:/databricks-datasets/airlines/part-01573</td><td>part-01573</td><td>67108914</td><td>1436493866000</td></tr><tr><td>dbfs:/databricks-datasets/airlines/part-01574</td><td>part-01574</td><td>67108809</td><td>1436493866000</td></tr><tr><td>dbfs:/databricks-datasets/airlines/part-01575</td><td>part-01575</td><td>67108896</td><td>1436493867000</td></tr><tr><td>dbfs:/databricks-datasets/airlines/part-01576</td><td>part-01576</td><td>67108891</td><td>1436493867000</td></tr><tr><td>dbfs:/databricks-datasets/airlines/part-01577</td><td>part-01577</td><td>67108816</td><td>1436493868000</td></tr><tr><td>dbfs:/databricks-datasets/airlines/part-01578</td><td>part-01578</td><td>67108891</td><td>1436493868000</td></tr><tr><td>dbfs:/databricks-datasets/airlines/part-01579</td><td>part-01579</td><td>67108858</td><td>1436493868000</td></tr><tr><td>dbfs:/databricks-datasets/airlines/part-01580</td><td>part-01580</td><td>67108853</td><td>1436493869000</td></tr><tr><td>dbfs:/databricks-datasets/airlines/part-01581</td><td>part-01581</td><td>67108845</td><td>1436493869000</td></tr><tr><td>dbfs:/databricks-datasets/airlines/part-01582</td><td>part-01582</td><td>67108920</td><td>1436493870000</td></tr><tr><td>dbfs:/databricks-datasets/airlines/part-01583</td><td>part-01583</td><td>67108770</td><td>1436493870000</td></tr><tr><td>dbfs:/databricks-datasets/airlines/part-01584</td><td>part-01584</td><td>67108929</td><td>1436493871000</td></tr><tr><td>dbfs:/databricks-datasets/airlines/part-01585</td><td>part-01585</td><td>67108841</td><td>1436493871000</td></tr><tr><td>dbfs:/databricks-datasets/airlines/part-01586</td><td>part-01586</td><td>67108824</td><td>1436493872000</td></tr><tr><td>dbfs:/databricks-datasets/airlines/part-01587</td><td>part-01587</td><td>67108948</td><td>1436493872000</td></tr><tr><td>dbfs:/databricks-datasets/airlines/part-01588</td><td>part-01588</td><td>67108805</td><td>1436493873000</td></tr><tr><td>dbfs:/databricks-datasets/airlines/part-01589</td><td>part-01589</td><td>67108926</td><td>1436493873000</td></tr><tr><td>dbfs:/databricks-datasets/airlines/part-01590</td><td>part-01590</td><td>67108862</td><td>1436493874000</td></tr><tr><td>dbfs:/databricks-datasets/airlines/part-01591</td><td>part-01591</td><td>67108835</td><td>1436493874000</td></tr><tr><td>dbfs:/databricks-datasets/airlines/part-01592</td><td>part-01592</td><td>67108867</td><td>1436493874000</td></tr><tr><td>dbfs:/databricks-datasets/airlines/part-01593</td><td>part-01593</td><td>67108815</td><td>1436493875000</td></tr><tr><td>dbfs:/databricks-datasets/airlines/part-01594</td><td>part-01594</td><td>67108905</td><td>1436493875000</td></tr><tr><td>dbfs:/databricks-datasets/airlines/part-01595</td><td>part-01595</td><td>67108877</td><td>1436493875000</td></tr><tr><td>dbfs:/databricks-datasets/airlines/part-01596</td><td>part-01596</td><td>67108853</td><td>1436493876000</td></tr><tr><td>dbfs:/databricks-datasets/airlines/part-01597</td><td>part-01597</td><td>67108883</td><td>1436493876000</td></tr><tr><td>dbfs:/databricks-datasets/airlines/part-01598</td><td>part-01598</td><td>67108800</td><td>1436493877000</td></tr><tr><td>dbfs:/databricks-datasets/airlines/part-01599</td><td>part-01599</td><td>67108919</td><td>1436493877000</td></tr><tr><td>dbfs:/databricks-datasets/airlines/part-01600</td><td>part-01600</td><td>67108877</td><td>1436493877000</td></tr><tr><td>dbfs:/databricks-datasets/airlines/part-01601</td><td>part-01601</td><td>67108824</td><td>1436493878000</td></tr><tr><td>dbfs:/databricks-datasets/airlines/part-01602</td><td>part-01602</td><td>67108840</td><td>1436493878000</td></tr><tr><td>dbfs:/databricks-datasets/airlines/part-01603</td><td>part-01603</td><td>67108880</td><td>1436493879000</td></tr><tr><td>dbfs:/databricks-datasets/airlines/part-01604</td><td>part-01604</td><td>67108880</td><td>1436493879000</td></tr><tr><td>dbfs:/databricks-datasets/airlines/part-01605</td><td>part-01605</td><td>67108824</td><td>1436493880000</td></tr><tr><td>dbfs:/databricks-datasets/airlines/part-01606</td><td>part-01606</td><td>67108929</td><td>1436493880000</td></tr><tr><td>dbfs:/databricks-datasets/airlines/part-01607</td><td>part-01607</td><td>67108820</td><td>1436493880000</td></tr><tr><td>dbfs:/databricks-datasets/airlines/part-01608</td><td>part-01608</td><td>67108931</td><td>1436493881000</td></tr><tr><td>dbfs:/databricks-datasets/airlines/part-01609</td><td>part-01609</td><td>67108789</td><td>1436493881000</td></tr><tr><td>dbfs:/databricks-datasets/airlines/part-01610</td><td>part-01610</td><td>67108860</td><td>1436493882000</td></tr><tr><td>dbfs:/databricks-datasets/airlines/part-01611</td><td>part-01611</td><td>67108913</td><td>1436493882000</td></tr><tr><td>dbfs:/databricks-datasets/airlines/part-01612</td><td>part-01612</td><td>67108892</td><td>1436493883000</td></tr><tr><td>dbfs:/databricks-datasets/airlines/part-01613</td><td>part-01613</td><td>67108770</td><td>1436493883000</td></tr><tr><td>dbfs:/databricks-datasets/airlines/part-01614</td><td>part-01614</td><td>67108901</td><td>1436493883000</td></tr><tr><td>dbfs:/databricks-datasets/airlines/part-01615</td><td>part-01615</td><td>67108848</td><td>1436493884000</td></tr><tr><td>dbfs:/databricks-datasets/airlines/part-01616</td><td>part-01616</td><td>67108931</td><td>1436493884000</td></tr><tr><td>dbfs:/databricks-datasets/airlines/part-01617</td><td>part-01617</td><td>67108843</td><td>1436493885000</td></tr><tr><td>dbfs:/databricks-datasets/airlines/part-01618</td><td>part-01618</td><td>67108901</td><td>1436493885000</td></tr><tr><td>dbfs:/databricks-datasets/airlines/part-01619</td><td>part-01619</td><td>67108849</td><td>1436493885000</td></tr><tr><td>dbfs:/databricks-datasets/airlines/part-01620</td><td>part-01620</td><td>67108854</td><td>1436493886000</td></tr><tr><td>dbfs:/databricks-datasets/airlines/part-01621</td><td>part-01621</td><td>67108795</td><td>1436493886000</td></tr><tr><td>dbfs:/databricks-datasets/airlines/part-01622</td><td>part-01622</td><td>67108855</td><td>1436493887000</td></tr><tr><td>dbfs:/databricks-datasets/airlines/part-01623</td><td>part-01623</td><td>67108941</td><td>1436493887000</td></tr><tr><td>dbfs:/databricks-datasets/airlines/part-01624</td><td>part-01624</td><td>67108803</td><td>1436493887000</td></tr><tr><td>dbfs:/databricks-datasets/airlines/part-01625</td><td>part-01625</td><td>67108860</td><td>1436493888000</td></tr><tr><td>dbfs:/databricks-datasets/airlines/part-01626</td><td>part-01626</td><td>67108857</td><td>1436493888000</td></tr><tr><td>dbfs:/databricks-datasets/airlines/part-01627</td><td>part-01627</td><td>67108874</td><td>1436493889000</td></tr><tr><td>dbfs:/databricks-datasets/airlines/part-01628</td><td>part-01628</td><td>67108928</td><td>1436493889000</td></tr><tr><td>dbfs:/databricks-datasets/airlines/part-01629</td><td>part-01629</td><td>67108813</td><td>1436493890000</td></tr><tr><td>dbfs:/databricks-datasets/airlines/part-01630</td><td>part-01630</td><td>67108926</td><td>1436493890000</td></tr><tr><td>dbfs:/databricks-datasets/airlines/part-01631</td><td>part-01631</td><td>67108857</td><td>1436493890000</td></tr><tr><td>dbfs:/databricks-datasets/airlines/part-01632</td><td>part-01632</td><td>67108809</td><td>1436493891000</td></tr><tr><td>dbfs:/databricks-datasets/airlines/part-01633</td><td>part-01633</td><td>67108892</td><td>1436493891000</td></tr><tr><td>dbfs:/databricks-datasets/airlines/part-01634</td><td>part-01634</td><td>67108816</td><td>1436493892000</td></tr><tr><td>dbfs:/databricks-datasets/airlines/part-01635</td><td>part-01635</td><td>67108895</td><td>1436493893000</td></tr><tr><td>dbfs:/databricks-datasets/airlines/part-01636</td><td>part-01636</td><td>67108907</td><td>1436493893000</td></tr><tr><td>dbfs:/databricks-datasets/airlines/part-01637</td><td>part-01637</td><td>67108852</td><td>1436493893000</td></tr><tr><td>dbfs:/databricks-datasets/airlines/part-01638</td><td>part-01638</td><td>67108796</td><td>1436493894000</td></tr><tr><td>dbfs:/databricks-datasets/airlines/part-01639</td><td>part-01639</td><td>67108898</td><td>1436493894000</td></tr><tr><td>dbfs:/databricks-datasets/airlines/part-01640</td><td>part-01640</td><td>67108890</td><td>1436493895000</td></tr><tr><td>dbfs:/databricks-datasets/airlines/part-01641</td><td>part-01641</td><td>67108886</td><td>1436493895000</td></tr><tr><td>dbfs:/databricks-datasets/airlines/part-01642</td><td>part-01642</td><td>67108783</td><td>1436493896000</td></tr><tr><td>dbfs:/databricks-datasets/airlines/part-01643</td><td>part-01643</td><td>67108914</td><td>1436493896000</td></tr><tr><td>dbfs:/databricks-datasets/airlines/part-01644</td><td>part-01644</td><td>67108843</td><td>1436493897000</td></tr><tr><td>dbfs:/databricks-datasets/airlines/part-01645</td><td>part-01645</td><td>67654682</td><td>1436493897000</td></tr><tr><td>dbfs:/databricks-datasets/airlines/part-01646</td><td>part-01646</td><td>67761195</td><td>1436493898000</td></tr><tr><td>dbfs:/databricks-datasets/airlines/part-01647</td><td>part-01647</td><td>67876777</td><td>1436493898000</td></tr><tr><td>dbfs:/databricks-datasets/airlines/part-01648</td><td>part-01648</td><td>67859925</td><td>1436493899000</td></tr><tr><td>dbfs:/databricks-datasets/airlines/part-01649</td><td>part-01649</td><td>67843663</td><td>1436493899000</td></tr><tr><td>dbfs:/databricks-datasets/airlines/part-01650</td><td>part-01650</td><td>67804624</td><td>1436493899000</td></tr><tr><td>dbfs:/databricks-datasets/airlines/part-01651</td><td>part-01651</td><td>67777920</td><td>1436493900000</td></tr><tr><td>dbfs:/databricks-datasets/airlines/part-01652</td><td>part-01652</td><td>67958173</td><td>1436493900000</td></tr><tr><td>dbfs:/databricks-datasets/airlines/part-01653</td><td>part-01653</td><td>67848306</td><td>1436493901000</td></tr><tr><td>dbfs:/databricks-datasets/airlines/part-01654</td><td>part-01654</td><td>67809474</td><td>1436493901000</td></tr><tr><td>dbfs:/databricks-datasets/airlines/part-01655</td><td>part-01655</td><td>67767676</td><td>1436493902000</td></tr><tr><td>dbfs:/databricks-datasets/airlines/part-01656</td><td>part-01656</td><td>67287528</td><td>1436493902000</td></tr><tr><td>dbfs:/databricks-datasets/airlines/part-01657</td><td>part-01657</td><td>67108843</td><td>1436493903000</td></tr><tr><td>dbfs:/databricks-datasets/airlines/part-01658</td><td>part-01658</td><td>67108884</td><td>1436493903000</td></tr><tr><td>dbfs:/databricks-datasets/airlines/part-01659</td><td>part-01659</td><td>67108867</td><td>1436493903000</td></tr><tr><td>dbfs:/databricks-datasets/airlines/part-01660</td><td>part-01660</td><td>67108905</td><td>1436493904000</td></tr><tr><td>dbfs:/databricks-datasets/airlines/part-01661</td><td>part-01661</td><td>67108797</td><td>1436493904000</td></tr><tr><td>dbfs:/databricks-datasets/airlines/part-01662</td><td>part-01662</td><td>67108939</td><td>1436493905000</td></tr><tr><td>dbfs:/databricks-datasets/airlines/part-01663</td><td>part-01663</td><td>67108807</td><td>1436493905000</td></tr><tr><td>dbfs:/databricks-datasets/airlines/part-01664</td><td>part-01664</td><td>67108878</td><td>1436493906000</td></tr><tr><td>dbfs:/databricks-datasets/airlines/part-01665</td><td>part-01665</td><td>67108867</td><td>1436493906000</td></tr><tr><td>dbfs:/databricks-datasets/airlines/part-01666</td><td>part-01666</td><td>67108823</td><td>1436493907000</td></tr><tr><td>dbfs:/databricks-datasets/airlines/part-01667</td><td>part-01667</td><td>67108896</td><td>1436493907000</td></tr><tr><td>dbfs:/databricks-datasets/airlines/part-01668</td><td>part-01668</td><td>67108912</td><td>1436493907000</td></tr><tr><td>dbfs:/databricks-datasets/airlines/part-01669</td><td>part-01669</td><td>67108796</td><td>1436493908000</td></tr><tr><td>dbfs:/databricks-datasets/airlines/part-01670</td><td>part-01670</td><td>67108881</td><td>1436493908000</td></tr><tr><td>dbfs:/databricks-datasets/airlines/part-01671</td><td>part-01671</td><td>67108915</td><td>1436493909000</td></tr><tr><td>dbfs:/databricks-datasets/airlines/part-01672</td><td>part-01672</td><td>67108798</td><td>1436493909000</td></tr><tr><td>dbfs:/databricks-datasets/airlines/part-01673</td><td>part-01673</td><td>67108901</td><td>1436493909000</td></tr><tr><td>dbfs:/databricks-datasets/airlines/part-01674</td><td>part-01674</td><td>67108811</td><td>1436493910000</td></tr><tr><td>dbfs:/databricks-datasets/airlines/part-01675</td><td>part-01675</td><td>67108940</td><td>1436493910000</td></tr><tr><td>dbfs:/databricks-datasets/airlines/part-01676</td><td>part-01676</td><td>67108841</td><td>1436493911000</td></tr><tr><td>dbfs:/databricks-datasets/airlines/part-01677</td><td>part-01677</td><td>67108839</td><td>1436493911000</td></tr><tr><td>dbfs:/databricks-datasets/airlines/part-01678</td><td>part-01678</td><td>67108872</td><td>1436493912000</td></tr><tr><td>dbfs:/databricks-datasets/airlines/part-01679</td><td>part-01679</td><td>67108892</td><td>1436493912000</td></tr><tr><td>dbfs:/databricks-datasets/airlines/part-01680</td><td>part-01680</td><td>67108811</td><td>1436493912000</td></tr><tr><td>dbfs:/databricks-datasets/airlines/part-01681</td><td>part-01681</td><td>67108844</td><td>1436493913000</td></tr><tr><td>dbfs:/databricks-datasets/airlines/part-01682</td><td>part-01682</td><td>67108896</td><td>1436493913000</td></tr><tr><td>dbfs:/databricks-datasets/airlines/part-01683</td><td>part-01683</td><td>67108915</td><td>1436493914000</td></tr><tr><td>dbfs:/databricks-datasets/airlines/part-01684</td><td>part-01684</td><td>67108866</td><td>1436493914000</td></tr><tr><td>dbfs:/databricks-datasets/airlines/part-01685</td><td>part-01685</td><td>67108789</td><td>1436493915000</td></tr><tr><td>dbfs:/databricks-datasets/airlines/part-01686</td><td>part-01686</td><td>67108853</td><td>1436493915000</td></tr><tr><td>dbfs:/databricks-datasets/airlines/part-01687</td><td>part-01687</td><td>67108958</td><td>1436493916000</td></tr><tr><td>dbfs:/databricks-datasets/airlines/part-01688</td><td>part-01688</td><td>67108844</td><td>1436493916000</td></tr><tr><td>dbfs:/databricks-datasets/airlines/part-01689</td><td>part-01689</td><td>67108802</td><td>1436493916000</td></tr><tr><td>dbfs:/databricks-datasets/airlines/part-01690</td><td>part-01690</td><td>67108869</td><td>1436493917000</td></tr><tr><td>dbfs:/databricks-datasets/airlines/part-01691</td><td>part-01691</td><td>67108888</td><td>1436493917000</td></tr><tr><td>dbfs:/databricks-datasets/airlines/part-01692</td><td>part-01692</td><td>67108891</td><td>1436493918000</td></tr><tr><td>dbfs:/databricks-datasets/airlines/part-01693</td><td>part-01693</td><td>67108834</td><td>1436493918000</td></tr><tr><td>dbfs:/databricks-datasets/airlines/part-01694</td><td>part-01694</td><td>67108846</td><td>1436493918000</td></tr><tr><td>dbfs:/databricks-datasets/airlines/part-01695</td><td>part-01695</td><td>67108923</td><td>1436493919000</td></tr><tr><td>dbfs:/databricks-datasets/airlines/part-01696</td><td>part-01696</td><td>67108804</td><td>1436493919000</td></tr><tr><td>dbfs:/databricks-datasets/airlines/part-01697</td><td>part-01697</td><td>67108909</td><td>1436493920000</td></tr><tr><td>dbfs:/databricks-datasets/airlines/part-01698</td><td>part-01698</td><td>67108812</td><td>1436493920000</td></tr><tr><td>dbfs:/databricks-datasets/airlines/part-01699</td><td>part-01699</td><td>67108943</td><td>1436493921000</td></tr><tr><td>dbfs:/databricks-datasets/airlines/part-01700</td><td>part-01700</td><td>67108820</td><td>1436493921000</td></tr><tr><td>dbfs:/databricks-datasets/airlines/part-01701</td><td>part-01701</td><td>67108915</td><td>1436493922000</td></tr><tr><td>dbfs:/databricks-datasets/airlines/part-01702</td><td>part-01702</td><td>67108846</td><td>1436493922000</td></tr><tr><td>dbfs:/databricks-datasets/airlines/part-01703</td><td>part-01703</td><td>67108869</td><td>1436493923000</td></tr><tr><td>dbfs:/databricks-datasets/airlines/part-01704</td><td>part-01704</td><td>67108868</td><td>1436493923000</td></tr><tr><td>dbfs:/databricks-datasets/airlines/part-01705</td><td>part-01705</td><td>67108824</td><td>1436493924000</td></tr><tr><td>dbfs:/databricks-datasets/airlines/part-01706</td><td>part-01706</td><td>67108871</td><td>1436493924000</td></tr><tr><td>dbfs:/databricks-datasets/airlines/part-01707</td><td>part-01707</td><td>67108837</td><td>1436493925000</td></tr><tr><td>dbfs:/databricks-datasets/airlines/part-01708</td><td>part-01708</td><td>67108876</td><td>1436493926000</td></tr><tr><td>dbfs:/databricks-datasets/airlines/part-01709</td><td>part-01709</td><td>67108904</td><td>1436493926000</td></tr><tr><td>dbfs:/databricks-datasets/airlines/part-01710</td><td>part-01710</td><td>67108879</td><td>1436493927000</td></tr><tr><td>dbfs:/databricks-datasets/airlines/part-01711</td><td>part-01711</td><td>67108860</td><td>1436493927000</td></tr><tr><td>dbfs:/databricks-datasets/airlines/part-01712</td><td>part-01712</td><td>67108872</td><td>1436493928000</td></tr><tr><td>dbfs:/databricks-datasets/airlines/part-01713</td><td>part-01713</td><td>67108843</td><td>1436493929000</td></tr><tr><td>dbfs:/databricks-datasets/airlines/part-01714</td><td>part-01714</td><td>67108856</td><td>1436493929000</td></tr><tr><td>dbfs:/databricks-datasets/airlines/part-01715</td><td>part-01715</td><td>67108808</td><td>1436493930000</td></tr><tr><td>dbfs:/databricks-datasets/airlines/part-01716</td><td>part-01716</td><td>67108929</td><td>1436493930000</td></tr><tr><td>dbfs:/databricks-datasets/airlines/part-01717</td><td>part-01717</td><td>67108793</td><td>1436493931000</td></tr><tr><td>dbfs:/databricks-datasets/airlines/part-01718</td><td>part-01718</td><td>67108901</td><td>1436493931000</td></tr><tr><td>dbfs:/databricks-datasets/airlines/part-01719</td><td>part-01719</td><td>67108853</td><td>1436493931000</td></tr><tr><td>dbfs:/databricks-datasets/airlines/part-01720</td><td>part-01720</td><td>67108891</td><td>1436493932000</td></tr><tr><td>dbfs:/databricks-datasets/airlines/part-01721</td><td>part-01721</td><td>67108851</td><td>1436493932000</td></tr><tr><td>dbfs:/databricks-datasets/airlines/part-01722</td><td>part-01722</td><td>67108905</td><td>1436493933000</td></tr><tr><td>dbfs:/databricks-datasets/airlines/part-01723</td><td>part-01723</td><td>67108852</td><td>1436493933000</td></tr><tr><td>dbfs:/databricks-datasets/airlines/part-01724</td><td>part-01724</td><td>67108827</td><td>1436493934000</td></tr><tr><td>dbfs:/databricks-datasets/airlines/part-01725</td><td>part-01725</td><td>67108926</td><td>1436493934000</td></tr><tr><td>dbfs:/databricks-datasets/airlines/part-01726</td><td>part-01726</td><td>67108815</td><td>1436493935000</td></tr><tr><td>dbfs:/databricks-datasets/airlines/part-01727</td><td>part-01727</td><td>67108830</td><td>1436493935000</td></tr><tr><td>dbfs:/databricks-datasets/airlines/part-01728</td><td>part-01728</td><td>67108848</td><td>1436493935000</td></tr><tr><td>dbfs:/databricks-datasets/airlines/part-01729</td><td>part-01729</td><td>67108878</td><td>1436493936000</td></tr><tr><td>dbfs:/databricks-datasets/airlines/part-01730</td><td>part-01730</td><td>67108864</td><td>1436493936000</td></tr><tr><td>dbfs:/databricks-datasets/airlines/part-01731</td><td>part-01731</td><td>67108923</td><td>1436493937000</td></tr><tr><td>dbfs:/databricks-datasets/airlines/part-01732</td><td>part-01732</td><td>67108825</td><td>1436493937000</td></tr><tr><td>dbfs:/databricks-datasets/airlines/part-01733</td><td>part-01733</td><td>67108826</td><td>1436493938000</td></tr><tr><td>dbfs:/databricks-datasets/airlines/part-01734</td><td>part-01734</td><td>67108956</td><td>1436493938000</td></tr><tr><td>dbfs:/databricks-datasets/airlines/part-01735</td><td>part-01735</td><td>67108862</td><td>1436493939000</td></tr><tr><td>dbfs:/databricks-datasets/airlines/part-01736</td><td>part-01736</td><td>67108791</td><td>1436493939000</td></tr><tr><td>dbfs:/databricks-datasets/airlines/part-01737</td><td>part-01737</td><td>67108906</td><td>1436493940000</td></tr><tr><td>dbfs:/databricks-datasets/airlines/part-01738</td><td>part-01738</td><td>67108804</td><td>1436493940000</td></tr><tr><td>dbfs:/databricks-datasets/airlines/part-01739</td><td>part-01739</td><td>67108960</td><td>1436493940000</td></tr><tr><td>dbfs:/databricks-datasets/airlines/part-01740</td><td>part-01740</td><td>67108861</td><td>1436493941000</td></tr><tr><td>dbfs:/databricks-datasets/airlines/part-01741</td><td>part-01741</td><td>67108856</td><td>1436493941000</td></tr><tr><td>dbfs:/databricks-datasets/airlines/part-01742</td><td>part-01742</td><td>67108808</td><td>1436493942000</td></tr><tr><td>dbfs:/databricks-datasets/airlines/part-01743</td><td>part-01743</td><td>67108932</td><td>1436493942000</td></tr><tr><td>dbfs:/databricks-datasets/airlines/part-01744</td><td>part-01744</td><td>67108859</td><td>1436493943000</td></tr><tr><td>dbfs:/databricks-datasets/airlines/part-01745</td><td>part-01745</td><td>67108849</td><td>1436493943000</td></tr><tr><td>dbfs:/databricks-datasets/airlines/part-01746</td><td>part-01746</td><td>67108812</td><td>1436493944000</td></tr><tr><td>dbfs:/databricks-datasets/airlines/part-01747</td><td>part-01747</td><td>67108909</td><td>1436493944000</td></tr><tr><td>dbfs:/databricks-datasets/airlines/part-01748</td><td>part-01748</td><td>67108838</td><td>1436493945000</td></tr><tr><td>dbfs:/databricks-datasets/airlines/part-01749</td><td>part-01749</td><td>67108847</td><td>1436493945000</td></tr><tr><td>dbfs:/databricks-datasets/airlines/part-01750</td><td>part-01750</td><td>67108860</td><td>1436493946000</td></tr><tr><td>dbfs:/databricks-datasets/airlines/part-01751</td><td>part-01751</td><td>67108900</td><td>1436493946000</td></tr><tr><td>dbfs:/databricks-datasets/airlines/part-01752</td><td>part-01752</td><td>67108820</td><td>1436493947000</td></tr><tr><td>dbfs:/databricks-datasets/airlines/part-01753</td><td>part-01753</td><td>67108859</td><td>1436493947000</td></tr><tr><td>dbfs:/databricks-datasets/airlines/part-01754</td><td>part-01754</td><td>67108862</td><td>1436493948000</td></tr><tr><td>dbfs:/databricks-datasets/airlines/part-01755</td><td>part-01755</td><td>67108925</td><td>1436493948000</td></tr><tr><td>dbfs:/databricks-datasets/airlines/part-01756</td><td>part-01756</td><td>67108813</td><td>1436493949000</td></tr><tr><td>dbfs:/databricks-datasets/airlines/part-01757</td><td>part-01757</td><td>67108861</td><td>1436493949000</td></tr><tr><td>dbfs:/databricks-datasets/airlines/part-01758</td><td>part-01758</td><td>67108852</td><td>1436493950000</td></tr><tr><td>dbfs:/databricks-datasets/airlines/part-01759</td><td>part-01759</td><td>67108913</td><td>1436493951000</td></tr><tr><td>dbfs:/databricks-datasets/airlines/part-01760</td><td>part-01760</td><td>67108819</td><td>1436493951000</td></tr><tr><td>dbfs:/databricks-datasets/airlines/part-01761</td><td>part-01761</td><td>67108945</td><td>1436493952000</td></tr><tr><td>dbfs:/databricks-datasets/airlines/part-01762</td><td>part-01762</td><td>67108879</td><td>1436493952000</td></tr><tr><td>dbfs:/databricks-datasets/airlines/part-01763</td><td>part-01763</td><td>67108815</td><td>1436493953000</td></tr><tr><td>dbfs:/databricks-datasets/airlines/part-01764</td><td>part-01764</td><td>67108820</td><td>1436493953000</td></tr><tr><td>dbfs:/databricks-datasets/airlines/part-01765</td><td>part-01765</td><td>67108882</td><td>1436493954000</td></tr><tr><td>dbfs:/databricks-datasets/airlines/part-01766</td><td>part-01766</td><td>67108875</td><td>1436493954000</td></tr><tr><td>dbfs:/databricks-datasets/airlines/part-01767</td><td>part-01767</td><td>67108834</td><td>1436493955000</td></tr><tr><td>dbfs:/databricks-datasets/airlines/part-01768</td><td>part-01768</td><td>67108959</td><td>1436493955000</td></tr><tr><td>dbfs:/databricks-datasets/airlines/part-01769</td><td>part-01769</td><td>67108839</td><td>1436493956000</td></tr><tr><td>dbfs:/databricks-datasets/airlines/part-01770</td><td>part-01770</td><td>67108825</td><td>1436493956000</td></tr><tr><td>dbfs:/databricks-datasets/airlines/part-01771</td><td>part-01771</td><td>67108865</td><td>1436493957000</td></tr><tr><td>dbfs:/databricks-datasets/airlines/part-01772</td><td>part-01772</td><td>67108920</td><td>1436493957000</td></tr><tr><td>dbfs:/databricks-datasets/airlines/part-01773</td><td>part-01773</td><td>67108802</td><td>1436493958000</td></tr><tr><td>dbfs:/databricks-datasets/airlines/part-01774</td><td>part-01774</td><td>67108883</td><td>1436493958000</td></tr><tr><td>dbfs:/databricks-datasets/airlines/part-01775</td><td>part-01775</td><td>67108820</td><td>1436493958000</td></tr><tr><td>dbfs:/databricks-datasets/airlines/part-01776</td><td>part-01776</td><td>67108908</td><td>1436493959000</td></tr><tr><td>dbfs:/databricks-datasets/airlines/part-01777</td><td>part-01777</td><td>67108898</td><td>1436493959000</td></tr><tr><td>dbfs:/databricks-datasets/airlines/part-01778</td><td>part-01778</td><td>67108824</td><td>1436493960000</td></tr><tr><td>dbfs:/databricks-datasets/airlines/part-01779</td><td>part-01779</td><td>67108902</td><td>1436493960000</td></tr><tr><td>dbfs:/databricks-datasets/airlines/part-01780</td><td>part-01780</td><td>67108853</td><td>1436493961000</td></tr><tr><td>dbfs:/databricks-datasets/airlines/part-01781</td><td>part-01781</td><td>67108836</td><td>1436493961000</td></tr><tr><td>dbfs:/databricks-datasets/airlines/part-01782</td><td>part-01782</td><td>67108856</td><td>1436493962000</td></tr><tr><td>dbfs:/databricks-datasets/airlines/part-01783</td><td>part-01783</td><td>67108850</td><td>1436493962000</td></tr><tr><td>dbfs:/databricks-datasets/airlines/part-01784</td><td>part-01784</td><td>67108844</td><td>1436493962000</td></tr><tr><td>dbfs:/databricks-datasets/airlines/part-01785</td><td>part-01785</td><td>67108960</td><td>1436493963000</td></tr><tr><td>dbfs:/databricks-datasets/airlines/part-01786</td><td>part-01786</td><td>67108820</td><td>1436493963000</td></tr><tr><td>dbfs:/databricks-datasets/airlines/part-01787</td><td>part-01787</td><td>67108902</td><td>1436493964000</td></tr><tr><td>dbfs:/databricks-datasets/airlines/part-01788</td><td>part-01788</td><td>67108787</td><td>1436493964000</td></tr><tr><td>dbfs:/databricks-datasets/airlines/part-01789</td><td>part-01789</td><td>67108861</td><td>1436493965000</td></tr><tr><td>dbfs:/databricks-datasets/airlines/part-01790</td><td>part-01790</td><td>67108869</td><td>1436493965000</td></tr><tr><td>dbfs:/databricks-datasets/airlines/part-01791</td><td>part-01791</td><td>67108937</td><td>1436493965000</td></tr><tr><td>dbfs:/databricks-datasets/airlines/part-01792</td><td>part-01792</td><td>67108860</td><td>1436493966000</td></tr><tr><td>dbfs:/databricks-datasets/airlines/part-01793</td><td>part-01793</td><td>67108813</td><td>1436493966000</td></tr><tr><td>dbfs:/databricks-datasets/airlines/part-01794</td><td>part-01794</td><td>67108916</td><td>1436493967000</td></tr><tr><td>dbfs:/databricks-datasets/airlines/part-01795</td><td>part-01795</td><td>67108801</td><td>1436493967000</td></tr><tr><td>dbfs:/databricks-datasets/airlines/part-01796</td><td>part-01796</td><td>67108901</td><td>1436493968000</td></tr><tr><td>dbfs:/databricks-datasets/airlines/part-01797</td><td>part-01797</td><td>67108837</td><td>1436493968000</td></tr><tr><td>dbfs:/databricks-datasets/airlines/part-01798</td><td>part-01798</td><td>67108878</td><td>1436493969000</td></tr><tr><td>dbfs:/databricks-datasets/airlines/part-01799</td><td>part-01799</td><td>67108840</td><td>1436493969000</td></tr><tr><td>dbfs:/databricks-datasets/airlines/part-01800</td><td>part-01800</td><td>67108889</td><td>1436493969000</td></tr><tr><td>dbfs:/databricks-datasets/airlines/part-01801</td><td>part-01801</td><td>67108852</td><td>1436493970000</td></tr><tr><td>dbfs:/databricks-datasets/airlines/part-01802</td><td>part-01802</td><td>67108910</td><td>1436493970000</td></tr><tr><td>dbfs:/databricks-datasets/airlines/part-01803</td><td>part-01803</td><td>67108853</td><td>1436493971000</td></tr><tr><td>dbfs:/databricks-datasets/airlines/part-01804</td><td>part-01804</td><td>67108854</td><td>1436493971000</td></tr><tr><td>dbfs:/databricks-datasets/airlines/part-01805</td><td>part-01805</td><td>67108837</td><td>1436493971000</td></tr><tr><td>dbfs:/databricks-datasets/airlines/part-01806</td><td>part-01806</td><td>67108862</td><td>1436493972000</td></tr><tr><td>dbfs:/databricks-datasets/airlines/part-01807</td><td>part-01807</td><td>67108908</td><td>1436493972000</td></tr><tr><td>dbfs:/databricks-datasets/airlines/part-01808</td><td>part-01808</td><td>67108791</td><td>1436493973000</td></tr><tr><td>dbfs:/databricks-datasets/airlines/part-01809</td><td>part-01809</td><td>67108911</td><td>1436493973000</td></tr><tr><td>dbfs:/databricks-datasets/airlines/part-01810</td><td>part-01810</td><td>67108814</td><td>1436493974000</td></tr><tr><td>dbfs:/databricks-datasets/airlines/part-01811</td><td>part-01811</td><td>67108938</td><td>1436493974000</td></tr><tr><td>dbfs:/databricks-datasets/airlines/part-01812</td><td>part-01812</td><td>67108889</td><td>1436493975000</td></tr><tr><td>dbfs:/databricks-datasets/airlines/part-01813</td><td>part-01813</td><td>67108864</td><td>1436493975000</td></tr><tr><td>dbfs:/databricks-datasets/airlines/part-01814</td><td>part-01814</td><td>67108791</td><td>1436493975000</td></tr><tr><td>dbfs:/databricks-datasets/airlines/part-01815</td><td>part-01815</td><td>67108933</td><td>1436493976000</td></tr><tr><td>dbfs:/databricks-datasets/airlines/part-01816</td><td>part-01816</td><td>67108821</td><td>1436493976000</td></tr><tr><td>dbfs:/databricks-datasets/airlines/part-01817</td><td>part-01817</td><td>67108879</td><td>1436493977000</td></tr><tr><td>dbfs:/databricks-datasets/airlines/part-01818</td><td>part-01818</td><td>67108814</td><td>1436493977000</td></tr><tr><td>dbfs:/databricks-datasets/airlines/part-01819</td><td>part-01819</td><td>67108925</td><td>1436493977000</td></tr><tr><td>dbfs:/databricks-datasets/airlines/part-01820</td><td>part-01820</td><td>67108879</td><td>1436493978000</td></tr><tr><td>dbfs:/databricks-datasets/airlines/part-01821</td><td>part-01821</td><td>67108861</td><td>1436493978000</td></tr><tr><td>dbfs:/databricks-datasets/airlines/part-01822</td><td>part-01822</td><td>67108807</td><td>1436493979000</td></tr><tr><td>dbfs:/databricks-datasets/airlines/part-01823</td><td>part-01823</td><td>67108920</td><td>1436493979000</td></tr><tr><td>dbfs:/databricks-datasets/airlines/part-01824</td><td>part-01824</td><td>67108841</td><td>1436493979000</td></tr><tr><td>dbfs:/databricks-datasets/airlines/part-01825</td><td>part-01825</td><td>67108814</td><td>1436493980000</td></tr><tr><td>dbfs:/databricks-datasets/airlines/part-01826</td><td>part-01826</td><td>67108859</td><td>1436493980000</td></tr><tr><td>dbfs:/databricks-datasets/airlines/part-01827</td><td>part-01827</td><td>67108882</td><td>1436493981000</td></tr><tr><td>dbfs:/databricks-datasets/airlines/part-01828</td><td>part-01828</td><td>67108841</td><td>1436493981000</td></tr><tr><td>dbfs:/databricks-datasets/airlines/part-01829</td><td>part-01829</td><td>67108907</td><td>1436493982000</td></tr><tr><td>dbfs:/databricks-datasets/airlines/part-01830</td><td>part-01830</td><td>67108847</td><td>1436493982000</td></tr><tr><td>dbfs:/databricks-datasets/airlines/part-01831</td><td>part-01831</td><td>67108919</td><td>1436493982000</td></tr><tr><td>dbfs:/databricks-datasets/airlines/part-01832</td><td>part-01832</td><td>67108777</td><td>1436493983000</td></tr><tr><td>dbfs:/databricks-datasets/airlines/part-01833</td><td>part-01833</td><td>67108938</td><td>1436493983000</td></tr><tr><td>dbfs:/databricks-datasets/airlines/part-01834</td><td>part-01834</td><td>67108849</td><td>1436493984000</td></tr><tr><td>dbfs:/databricks-datasets/airlines/part-01835</td><td>part-01835</td><td>67108882</td><td>1436493984000</td></tr><tr><td>dbfs:/databricks-datasets/airlines/part-01836</td><td>part-01836</td><td>67108829</td><td>1436493984000</td></tr><tr><td>dbfs:/databricks-datasets/airlines/part-01837</td><td>part-01837</td><td>67674504</td><td>1436493985000</td></tr><tr><td>dbfs:/databricks-datasets/airlines/part-01838</td><td>part-01838</td><td>67799762</td><td>1436493985000</td></tr><tr><td>dbfs:/databricks-datasets/airlines/part-01839</td><td>part-01839</td><td>67818712</td><td>1436493986000</td></tr><tr><td>dbfs:/databricks-datasets/airlines/part-01840</td><td>part-01840</td><td>67892174</td><td>1436493986000</td></tr><tr><td>dbfs:/databricks-datasets/airlines/part-01841</td><td>part-01841</td><td>67827449</td><td>1436493987000</td></tr><tr><td>dbfs:/databricks-datasets/airlines/part-01842</td><td>part-01842</td><td>67792682</td><td>1436493987000</td></tr><tr><td>dbfs:/databricks-datasets/airlines/part-01843</td><td>part-01843</td><td>67775110</td><td>1436493987000</td></tr><tr><td>dbfs:/databricks-datasets/airlines/part-01844</td><td>part-01844</td><td>67956931</td><td>1436493988000</td></tr><tr><td>dbfs:/databricks-datasets/airlines/part-01845</td><td>part-01845</td><td>67850222</td><td>1436493988000</td></tr><tr><td>dbfs:/databricks-datasets/airlines/part-01846</td><td>part-01846</td><td>67807844</td><td>1436493989000</td></tr><tr><td>dbfs:/databricks-datasets/airlines/part-01847</td><td>part-01847</td><td>67771834</td><td>1436493989000</td></tr><tr><td>dbfs:/databricks-datasets/airlines/part-01848</td><td>part-01848</td><td>67282730</td><td>1436493990000</td></tr><tr><td>dbfs:/databricks-datasets/airlines/part-01849</td><td>part-01849</td><td>67108845</td><td>1436493990000</td></tr><tr><td>dbfs:/databricks-datasets/airlines/part-01850</td><td>part-01850</td><td>67108849</td><td>1436493990000</td></tr><tr><td>dbfs:/databricks-datasets/airlines/part-01851</td><td>part-01851</td><td>67108874</td><td>1436493991000</td></tr><tr><td>dbfs:/databricks-datasets/airlines/part-01852</td><td>part-01852</td><td>67108911</td><td>1436493991000</td></tr><tr><td>dbfs:/databricks-datasets/airlines/part-01853</td><td>part-01853</td><td>67108850</td><td>1436493991000</td></tr><tr><td>dbfs:/databricks-datasets/airlines/part-01854</td><td>part-01854</td><td>67108885</td><td>1436493992000</td></tr><tr><td>dbfs:/databricks-datasets/airlines/part-01855</td><td>part-01855</td><td>67108827</td><td>1436493992000</td></tr><tr><td>dbfs:/databricks-datasets/airlines/part-01856</td><td>part-01856</td><td>67108825</td><td>1436493993000</td></tr><tr><td>dbfs:/databricks-datasets/airlines/part-01857</td><td>part-01857</td><td>67108850</td><td>1436493993000</td></tr><tr><td>dbfs:/databricks-datasets/airlines/part-01858</td><td>part-01858</td><td>67108886</td><td>1436493993000</td></tr><tr><td>dbfs:/databricks-datasets/airlines/part-01859</td><td>part-01859</td><td>67108863</td><td>1436493994000</td></tr><tr><td>dbfs:/databricks-datasets/airlines/part-01860</td><td>part-01860</td><td>67108901</td><td>1436493994000</td></tr><tr><td>dbfs:/databricks-datasets/airlines/part-01861</td><td>part-01861</td><td>67108903</td><td>1436493994000</td></tr><tr><td>dbfs:/databricks-datasets/airlines/part-01862</td><td>part-01862</td><td>67108786</td><td>1436493995000</td></tr><tr><td>dbfs:/databricks-datasets/airlines/part-01863</td><td>part-01863</td><td>67108846</td><td>1436493995000</td></tr><tr><td>dbfs:/databricks-datasets/airlines/part-01864</td><td>part-01864</td><td>67108951</td><td>1436493996000</td></tr><tr><td>dbfs:/databricks-datasets/airlines/part-01865</td><td>part-01865</td><td>67108811</td><td>1436493996000</td></tr><tr><td>dbfs:/databricks-datasets/airlines/part-01866</td><td>part-01866</td><td>67108894</td><td>1436493996000</td></tr><tr><td>dbfs:/databricks-datasets/airlines/part-01867</td><td>part-01867</td><td>67108821</td><td>1436493997000</td></tr><tr><td>dbfs:/databricks-datasets/airlines/part-01868</td><td>part-01868</td><td>67108899</td><td>1436493997000</td></tr><tr><td>dbfs:/databricks-datasets/airlines/part-01869</td><td>part-01869</td><td>67108814</td><td>1436493998000</td></tr><tr><td>dbfs:/databricks-datasets/airlines/part-01870</td><td>part-01870</td><td>67108889</td><td>1436493998000</td></tr><tr><td>dbfs:/databricks-datasets/airlines/part-01871</td><td>part-01871</td><td>67108904</td><td>1436493999000</td></tr><tr><td>dbfs:/databricks-datasets/airlines/part-01872</td><td>part-01872</td><td>67108838</td><td>1436493999000</td></tr><tr><td>dbfs:/databricks-datasets/airlines/part-01873</td><td>part-01873</td><td>67108820</td><td>1436493999000</td></tr><tr><td>dbfs:/databricks-datasets/airlines/part-01874</td><td>part-01874</td><td>67108899</td><td>1436494000000</td></tr><tr><td>dbfs:/databricks-datasets/airlines/part-01875</td><td>part-01875</td><td>67108915</td><td>1436494000000</td></tr><tr><td>dbfs:/databricks-datasets/airlines/part-01876</td><td>part-01876</td><td>67108840</td><td>1436494000000</td></tr><tr><td>dbfs:/databricks-datasets/airlines/part-01877</td><td>part-01877</td><td>67108867</td><td>1436494001000</td></tr><tr><td>dbfs:/databricks-datasets/airlines/part-01878</td><td>part-01878</td><td>67108882</td><td>1436494001000</td></tr><tr><td>dbfs:/databricks-datasets/airlines/part-01879</td><td>part-01879</td><td>67108842</td><td>1436494002000</td></tr><tr><td>dbfs:/databricks-datasets/airlines/part-01880</td><td>part-01880</td><td>67108806</td><td>1436494002000</td></tr><tr><td>dbfs:/databricks-datasets/airlines/part-01881</td><td>part-01881</td><td>67108883</td><td>1436494002000</td></tr><tr><td>dbfs:/databricks-datasets/airlines/part-01882</td><td>part-01882</td><td>67108921</td><td>1436494003000</td></tr><tr><td>dbfs:/databricks-datasets/airlines/part-01883</td><td>part-01883</td><td>67108793</td><td>1436494003000</td></tr><tr><td>dbfs:/databricks-datasets/airlines/part-01884</td><td>part-01884</td><td>67108869</td><td>1436494004000</td></tr><tr><td>dbfs:/databricks-datasets/airlines/part-01885</td><td>part-01885</td><td>67108845</td><td>1436494004000</td></tr><tr><td>dbfs:/databricks-datasets/airlines/part-01886</td><td>part-01886</td><td>67108907</td><td>1436494004000</td></tr><tr><td>dbfs:/databricks-datasets/airlines/part-01887</td><td>part-01887</td><td>67108904</td><td>1436494005000</td></tr><tr><td>dbfs:/databricks-datasets/airlines/part-01888</td><td>part-01888</td><td>67108877</td><td>1436494005000</td></tr><tr><td>dbfs:/databricks-datasets/airlines/part-01889</td><td>part-01889</td><td>67108859</td><td>1436494006000</td></tr><tr><td>dbfs:/databricks-datasets/airlines/part-01890</td><td>part-01890</td><td>67108862</td><td>1436494006000</td></tr><tr><td>dbfs:/databricks-datasets/airlines/part-01891</td><td>part-01891</td><td>67108869</td><td>1436494007000</td></tr><tr><td>dbfs:/databricks-datasets/airlines/part-01892</td><td>part-01892</td><td>67108827</td><td>1436494007000</td></tr><tr><td>dbfs:/databricks-datasets/airlines/part-01893</td><td>part-01893</td><td>67108838</td><td>1436494007000</td></tr><tr><td>dbfs:/databricks-datasets/airlines/part-01894</td><td>part-01894</td><td>67108848</td><td>1436494008000</td></tr><tr><td>dbfs:/databricks-datasets/airlines/part-01895</td><td>part-01895</td><td>67108914</td><td>1436494008000</td></tr><tr><td>dbfs:/databricks-datasets/airlines/part-01896</td><td>part-01896</td><td>67108858</td><td>1436494009000</td></tr><tr><td>dbfs:/databricks-datasets/airlines/part-01897</td><td>part-01897</td><td>67108844</td><td>1436494009000</td></tr><tr><td>dbfs:/databricks-datasets/airlines/part-01898</td><td>part-01898</td><td>67108860</td><td>1436494009000</td></tr><tr><td>dbfs:/databricks-datasets/airlines/part-01899</td><td>part-01899</td><td>67108879</td><td>1436494010000</td></tr><tr><td>dbfs:/databricks-datasets/airlines/part-01900</td><td>part-01900</td><td>67108815</td><td>1436494010000</td></tr><tr><td>dbfs:/databricks-datasets/airlines/part-01901</td><td>part-01901</td><td>67108945</td><td>1436494011000</td></tr><tr><td>dbfs:/databricks-datasets/airlines/part-01902</td><td>part-01902</td><td>67108829</td><td>1436494011000</td></tr><tr><td>dbfs:/databricks-datasets/airlines/part-01903</td><td>part-01903</td><td>67108855</td><td>1436494012000</td></tr><tr><td>dbfs:/databricks-datasets/airlines/part-01904</td><td>part-01904</td><td>67108924</td><td>1436494012000</td></tr><tr><td>dbfs:/databricks-datasets/airlines/part-01905</td><td>part-01905</td><td>67108825</td><td>1436494012000</td></tr><tr><td>dbfs:/databricks-datasets/airlines/part-01906</td><td>part-01906</td><td>67108816</td><td>1436494013000</td></tr><tr><td>dbfs:/databricks-datasets/airlines/part-01907</td><td>part-01907</td><td>67108948</td><td>1436494013000</td></tr><tr><td>dbfs:/databricks-datasets/airlines/part-01908</td><td>part-01908</td><td>67108822</td><td>1436494014000</td></tr><tr><td>dbfs:/databricks-datasets/airlines/part-01909</td><td>part-01909</td><td>67108912</td><td>1436494014000</td></tr><tr><td>dbfs:/databricks-datasets/airlines/part-01910</td><td>part-01910</td><td>67108854</td><td>1436494014000</td></tr><tr><td>dbfs:/databricks-datasets/airlines/part-01911</td><td>part-01911</td><td>67108825</td><td>1436494015000</td></tr><tr><td>dbfs:/databricks-datasets/airlines/part-01912</td><td>part-01912</td><td>67108819</td><td>1436494015000</td></tr><tr><td>dbfs:/databricks-datasets/airlines/part-01913</td><td>part-01913</td><td>67108947</td><td>1436494015000</td></tr><tr><td>dbfs:/databricks-datasets/airlines/part-01914</td><td>part-01914</td><td>67108825</td><td>1436494016000</td></tr><tr><td>dbfs:/databricks-datasets/airlines/part-01915</td><td>part-01915</td><td>67108869</td><td>1436494016000</td></tr><tr><td>dbfs:/databricks-datasets/airlines/part-01916</td><td>part-01916</td><td>67108864</td><td>1436494017000</td></tr><tr><td>dbfs:/databricks-datasets/airlines/part-01917</td><td>part-01917</td><td>67108913</td><td>1436494017000</td></tr><tr><td>dbfs:/databricks-datasets/airlines/part-01918</td><td>part-01918</td><td>67108806</td><td>1436494017000</td></tr><tr><td>dbfs:/databricks-datasets/airlines/part-01919</td><td>part-01919</td><td>49734982</td><td>1436494018000</td></tr></tbody></table></div>"
      ]
     },
     "metadata": {
      "application/vnd.databricks.v1+output": {
       "addedWidgets": {},
       "aggData": [],
       "aggError": "",
       "aggOverflow": false,
       "aggSchema": [],
       "aggSeriesLimitReached": false,
       "aggType": "",
       "arguments": {},
       "columnCustomDisplayInfos": {},
       "data": [
        [
         "dbfs:/databricks-datasets/airlines/README.md",
         "README.md",
         1089,
         1454697889000
        ],
        [
         "dbfs:/databricks-datasets/airlines/_SUCCESS",
         "_SUCCESS",
         0,
         1436493184000
        ],
        [
         "dbfs:/databricks-datasets/airlines/part-00000",
         "part-00000",
         67108879,
         1436493184000
        ],
        [
         "dbfs:/databricks-datasets/airlines/part-00001",
         "part-00001",
         67108862,
         1436493185000
        ],
        [
         "dbfs:/databricks-datasets/airlines/part-00002",
         "part-00002",
         67108930,
         1436493185000
        ],
        [
         "dbfs:/databricks-datasets/airlines/part-00003",
         "part-00003",
         67108804,
         1436493186000
        ],
        [
         "dbfs:/databricks-datasets/airlines/part-00004",
         "part-00004",
         67108908,
         1436493186000
        ],
        [
         "dbfs:/databricks-datasets/airlines/part-00005",
         "part-00005",
         67108890,
         1436493187000
        ],
        [
         "dbfs:/databricks-datasets/airlines/part-00006",
         "part-00006",
         67108825,
         1436493187000
        ],
        [
         "dbfs:/databricks-datasets/airlines/part-00007",
         "part-00007",
         67108880,
         1436493187000
        ],
        [
         "dbfs:/databricks-datasets/airlines/part-00008",
         "part-00008",
         67108832,
         1436493188000
        ],
        [
         "dbfs:/databricks-datasets/airlines/part-00009",
         "part-00009",
         67108857,
         1436493188000
        ],
        [
         "dbfs:/databricks-datasets/airlines/part-00010",
         "part-00010",
         67108931,
         1436493189000
        ],
        [
         "dbfs:/databricks-datasets/airlines/part-00011",
         "part-00011",
         67108872,
         1436493189000
        ],
        [
         "dbfs:/databricks-datasets/airlines/part-00012",
         "part-00012",
         67108791,
         1436493189000
        ],
        [
         "dbfs:/databricks-datasets/airlines/part-00013",
         "part-00013",
         67108856,
         1436493190000
        ],
        [
         "dbfs:/databricks-datasets/airlines/part-00014",
         "part-00014",
         67108855,
         1436493190000
        ],
        [
         "dbfs:/databricks-datasets/airlines/part-00015",
         "part-00015",
         67108875,
         1436493191000
        ],
        [
         "dbfs:/databricks-datasets/airlines/part-00016",
         "part-00016",
         67108898,
         1436493191000
        ],
        [
         "dbfs:/databricks-datasets/airlines/part-00017",
         "part-00017",
         67108873,
         1436493191000
        ],
        [
         "dbfs:/databricks-datasets/airlines/part-00018",
         "part-00018",
         67108881,
         1436493192000
        ],
        [
         "dbfs:/databricks-datasets/airlines/part-00019",
         "part-00019",
         67108829,
         1436493192000
        ],
        [
         "dbfs:/databricks-datasets/airlines/part-00020",
         "part-00020",
         67108863,
         1436493193000
        ],
        [
         "dbfs:/databricks-datasets/airlines/part-00021",
         "part-00021",
         67108868,
         1436493193000
        ],
        [
         "dbfs:/databricks-datasets/airlines/part-00022",
         "part-00022",
         67108827,
         1436493193000
        ],
        [
         "dbfs:/databricks-datasets/airlines/part-00023",
         "part-00023",
         67108926,
         1436493194000
        ],
        [
         "dbfs:/databricks-datasets/airlines/part-00024",
         "part-00024",
         67108885,
         1436493194000
        ],
        [
         "dbfs:/databricks-datasets/airlines/part-00025",
         "part-00025",
         67108843,
         1436493195000
        ],
        [
         "dbfs:/databricks-datasets/airlines/part-00026",
         "part-00026",
         67108837,
         1436493195000
        ],
        [
         "dbfs:/databricks-datasets/airlines/part-00027",
         "part-00027",
         67108911,
         1436493195000
        ],
        [
         "dbfs:/databricks-datasets/airlines/part-00028",
         "part-00028",
         67108776,
         1436493196000
        ],
        [
         "dbfs:/databricks-datasets/airlines/part-00029",
         "part-00029",
         67108929,
         1436493196000
        ],
        [
         "dbfs:/databricks-datasets/airlines/part-00030",
         "part-00030",
         67108839,
         1436493197000
        ],
        [
         "dbfs:/databricks-datasets/airlines/part-00031",
         "part-00031",
         67108867,
         1436493197000
        ],
        [
         "dbfs:/databricks-datasets/airlines/part-00032",
         "part-00032",
         67108865,
         1436493197000
        ],
        [
         "dbfs:/databricks-datasets/airlines/part-00033",
         "part-00033",
         67108864,
         1436493198000
        ],
        [
         "dbfs:/databricks-datasets/airlines/part-00034",
         "part-00034",
         67108854,
         1436493198000
        ],
        [
         "dbfs:/databricks-datasets/airlines/part-00035",
         "part-00035",
         67108878,
         1436493199000
        ],
        [
         "dbfs:/databricks-datasets/airlines/part-00036",
         "part-00036",
         67108847,
         1436493199000
        ],
        [
         "dbfs:/databricks-datasets/airlines/part-00037",
         "part-00037",
         67108895,
         1436493200000
        ],
        [
         "dbfs:/databricks-datasets/airlines/part-00038",
         "part-00038",
         67108885,
         1436493200000
        ],
        [
         "dbfs:/databricks-datasets/airlines/part-00039",
         "part-00039",
         67108791,
         1436493201000
        ],
        [
         "dbfs:/databricks-datasets/airlines/part-00040",
         "part-00040",
         67108856,
         1436493201000
        ],
        [
         "dbfs:/databricks-datasets/airlines/part-00041",
         "part-00041",
         67108917,
         1436493202000
        ],
        [
         "dbfs:/databricks-datasets/airlines/part-00042",
         "part-00042",
         67108862,
         1436493202000
        ],
        [
         "dbfs:/databricks-datasets/airlines/part-00043",
         "part-00043",
         67108881,
         1436493203000
        ],
        [
         "dbfs:/databricks-datasets/airlines/part-00044",
         "part-00044",
         67108840,
         1436493203000
        ],
        [
         "dbfs:/databricks-datasets/airlines/part-00045",
         "part-00045",
         67108854,
         1436493204000
        ],
        [
         "dbfs:/databricks-datasets/airlines/part-00046",
         "part-00046",
         67108826,
         1436493204000
        ],
        [
         "dbfs:/databricks-datasets/airlines/part-00047",
         "part-00047",
         67108941,
         1436493205000
        ],
        [
         "dbfs:/databricks-datasets/airlines/part-00048",
         "part-00048",
         67108820,
         1436493205000
        ],
        [
         "dbfs:/databricks-datasets/airlines/part-00049",
         "part-00049",
         67108841,
         1436493206000
        ],
        [
         "dbfs:/databricks-datasets/airlines/part-00050",
         "part-00050",
         67108950,
         1436493206000
        ],
        [
         "dbfs:/databricks-datasets/airlines/part-00051",
         "part-00051",
         67108855,
         1436493207000
        ],
        [
         "dbfs:/databricks-datasets/airlines/part-00052",
         "part-00052",
         67108774,
         1436493207000
        ],
        [
         "dbfs:/databricks-datasets/airlines/part-00053",
         "part-00053",
         67108878,
         1436493207000
        ],
        [
         "dbfs:/databricks-datasets/airlines/part-00054",
         "part-00054",
         67108853,
         1436493208000
        ],
        [
         "dbfs:/databricks-datasets/airlines/part-00055",
         "part-00055",
         67108874,
         1436493208000
        ],
        [
         "dbfs:/databricks-datasets/airlines/part-00056",
         "part-00056",
         67108907,
         1436493209000
        ],
        [
         "dbfs:/databricks-datasets/airlines/part-00057",
         "part-00057",
         67108839,
         1436493209000
        ],
        [
         "dbfs:/databricks-datasets/airlines/part-00058",
         "part-00058",
         67108936,
         1436493210000
        ],
        [
         "dbfs:/databricks-datasets/airlines/part-00059",
         "part-00059",
         67108850,
         1436493210000
        ],
        [
         "dbfs:/databricks-datasets/airlines/part-00060",
         "part-00060",
         67108809,
         1436493211000
        ],
        [
         "dbfs:/databricks-datasets/airlines/part-00061",
         "part-00061",
         67108882,
         1436493211000
        ],
        [
         "dbfs:/databricks-datasets/airlines/part-00062",
         "part-00062",
         67108852,
         1436493212000
        ],
        [
         "dbfs:/databricks-datasets/airlines/part-00063",
         "part-00063",
         67108829,
         1436493212000
        ],
        [
         "dbfs:/databricks-datasets/airlines/part-00064",
         "part-00064",
         67108864,
         1436493213000
        ],
        [
         "dbfs:/databricks-datasets/airlines/part-00065",
         "part-00065",
         67108938,
         1436493213000
        ],
        [
         "dbfs:/databricks-datasets/airlines/part-00066",
         "part-00066",
         67108815,
         1436493213000
        ],
        [
         "dbfs:/databricks-datasets/airlines/part-00067",
         "part-00067",
         67108876,
         1436493214000
        ],
        [
         "dbfs:/databricks-datasets/airlines/part-00068",
         "part-00068",
         67108847,
         1436493214000
        ],
        [
         "dbfs:/databricks-datasets/airlines/part-00069",
         "part-00069",
         67108925,
         1436493215000
        ],
        [
         "dbfs:/databricks-datasets/airlines/part-00070",
         "part-00070",
         67108802,
         1436493215000
        ],
        [
         "dbfs:/databricks-datasets/airlines/part-00071",
         "part-00071",
         67108923,
         1436493215000
        ],
        [
         "dbfs:/databricks-datasets/airlines/part-00072",
         "part-00072",
         67108848,
         1436493216000
        ],
        [
         "dbfs:/databricks-datasets/airlines/part-00073",
         "part-00073",
         67108891,
         1436493216000
        ],
        [
         "dbfs:/databricks-datasets/airlines/part-00074",
         "part-00074",
         67108785,
         1436493216000
        ],
        [
         "dbfs:/databricks-datasets/airlines/part-00075",
         "part-00075",
         67108860,
         1436493217000
        ],
        [
         "dbfs:/databricks-datasets/airlines/part-00076",
         "part-00076",
         67108885,
         1436493217000
        ],
        [
         "dbfs:/databricks-datasets/airlines/part-00077",
         "part-00077",
         67108867,
         1436493218000
        ],
        [
         "dbfs:/databricks-datasets/airlines/part-00078",
         "part-00078",
         67108929,
         1436493218000
        ],
        [
         "dbfs:/databricks-datasets/airlines/part-00079",
         "part-00079",
         67108764,
         1436493218000
        ],
        [
         "dbfs:/databricks-datasets/airlines/part-00080",
         "part-00080",
         67108944,
         1436493219000
        ],
        [
         "dbfs:/databricks-datasets/airlines/part-00081",
         "part-00081",
         67108849,
         1436493219000
        ],
        [
         "dbfs:/databricks-datasets/airlines/part-00082",
         "part-00082",
         67108835,
         1436493220000
        ],
        [
         "dbfs:/databricks-datasets/airlines/part-00083",
         "part-00083",
         67108874,
         1436493220000
        ],
        [
         "dbfs:/databricks-datasets/airlines/part-00084",
         "part-00084",
         67108900,
         1436493220000
        ],
        [
         "dbfs:/databricks-datasets/airlines/part-00085",
         "part-00085",
         67108832,
         1436493221000
        ],
        [
         "dbfs:/databricks-datasets/airlines/part-00086",
         "part-00086",
         67108888,
         1436493221000
        ],
        [
         "dbfs:/databricks-datasets/airlines/part-00087",
         "part-00087",
         67108835,
         1436493222000
        ],
        [
         "dbfs:/databricks-datasets/airlines/part-00088",
         "part-00088",
         67108835,
         1436493222000
        ],
        [
         "dbfs:/databricks-datasets/airlines/part-00089",
         "part-00089",
         67108879,
         1436493222000
        ],
        [
         "dbfs:/databricks-datasets/airlines/part-00090",
         "part-00090",
         67108918,
         1436493223000
        ],
        [
         "dbfs:/databricks-datasets/airlines/part-00091",
         "part-00091",
         67108830,
         1436493223000
        ],
        [
         "dbfs:/databricks-datasets/airlines/part-00092",
         "part-00092",
         67108826,
         1436493223000
        ],
        [
         "dbfs:/databricks-datasets/airlines/part-00093",
         "part-00093",
         67108954,
         1436493224000
        ],
        [
         "dbfs:/databricks-datasets/airlines/part-00094",
         "part-00094",
         67108786,
         1436493224000
        ],
        [
         "dbfs:/databricks-datasets/airlines/part-00095",
         "part-00095",
         67108919,
         1436493225000
        ],
        [
         "dbfs:/databricks-datasets/airlines/part-00096",
         "part-00096",
         67108820,
         1436493225000
        ],
        [
         "dbfs:/databricks-datasets/airlines/part-00097",
         "part-00097",
         67108864,
         1436493225000
        ],
        [
         "dbfs:/databricks-datasets/airlines/part-00098",
         "part-00098",
         67108886,
         1436493226000
        ],
        [
         "dbfs:/databricks-datasets/airlines/part-00099",
         "part-00099",
         67108833,
         1436493226000
        ],
        [
         "dbfs:/databricks-datasets/airlines/part-00100",
         "part-00100",
         67108879,
         1436493227000
        ],
        [
         "dbfs:/databricks-datasets/airlines/part-00101",
         "part-00101",
         67108845,
         1436493227000
        ],
        [
         "dbfs:/databricks-datasets/airlines/part-00102",
         "part-00102",
         67108940,
         1436493227000
        ],
        [
         "dbfs:/databricks-datasets/airlines/part-00103",
         "part-00103",
         67108789,
         1436493228000
        ],
        [
         "dbfs:/databricks-datasets/airlines/part-00104",
         "part-00104",
         67108847,
         1436493228000
        ],
        [
         "dbfs:/databricks-datasets/airlines/part-00105",
         "part-00105",
         67108902,
         1436493228000
        ],
        [
         "dbfs:/databricks-datasets/airlines/part-00106",
         "part-00106",
         67108863,
         1436493229000
        ],
        [
         "dbfs:/databricks-datasets/airlines/part-00107",
         "part-00107",
         67108862,
         1436493229000
        ],
        [
         "dbfs:/databricks-datasets/airlines/part-00108",
         "part-00108",
         67108845,
         1436493230000
        ],
        [
         "dbfs:/databricks-datasets/airlines/part-00109",
         "part-00109",
         67560179,
         1436493230000
        ],
        [
         "dbfs:/databricks-datasets/airlines/part-00110",
         "part-00110",
         67776993,
         1436493231000
        ],
        [
         "dbfs:/databricks-datasets/airlines/part-00111",
         "part-00111",
         67780358,
         1436493231000
        ],
        [
         "dbfs:/databricks-datasets/airlines/part-00112",
         "part-00112",
         67876218,
         1436493232000
        ],
        [
         "dbfs:/databricks-datasets/airlines/part-00113",
         "part-00113",
         67803953,
         1436493232000
        ],
        [
         "dbfs:/databricks-datasets/airlines/part-00114",
         "part-00114",
         67912915,
         1436493232000
        ],
        [
         "dbfs:/databricks-datasets/airlines/part-00115",
         "part-00115",
         67779472,
         1436493233000
        ],
        [
         "dbfs:/databricks-datasets/airlines/part-00116",
         "part-00116",
         67928061,
         1436493233000
        ],
        [
         "dbfs:/databricks-datasets/airlines/part-00117",
         "part-00117",
         67758334,
         1436493233000
        ],
        [
         "dbfs:/databricks-datasets/airlines/part-00118",
         "part-00118",
         67880129,
         1436493234000
        ],
        [
         "dbfs:/databricks-datasets/airlines/part-00119",
         "part-00119",
         67699357,
         1436493234000
        ],
        [
         "dbfs:/databricks-datasets/airlines/part-00120",
         "part-00120",
         67493959,
         1436493234000
        ],
        [
         "dbfs:/databricks-datasets/airlines/part-00121",
         "part-00121",
         67108916,
         1436493235000
        ],
        [
         "dbfs:/databricks-datasets/airlines/part-00122",
         "part-00122",
         67108850,
         1436493235000
        ],
        [
         "dbfs:/databricks-datasets/airlines/part-00123",
         "part-00123",
         67108895,
         1436493236000
        ],
        [
         "dbfs:/databricks-datasets/airlines/part-00124",
         "part-00124",
         67108848,
         1436493236000
        ],
        [
         "dbfs:/databricks-datasets/airlines/part-00125",
         "part-00125",
         67108893,
         1436493236000
        ],
        [
         "dbfs:/databricks-datasets/airlines/part-00126",
         "part-00126",
         67108834,
         1436493237000
        ],
        [
         "dbfs:/databricks-datasets/airlines/part-00127",
         "part-00127",
         67108857,
         1436493237000
        ],
        [
         "dbfs:/databricks-datasets/airlines/part-00128",
         "part-00128",
         67108826,
         1436493238000
        ],
        [
         "dbfs:/databricks-datasets/airlines/part-00129",
         "part-00129",
         67108852,
         1436493238000
        ],
        [
         "dbfs:/databricks-datasets/airlines/part-00130",
         "part-00130",
         67108883,
         1436493238000
        ],
        [
         "dbfs:/databricks-datasets/airlines/part-00131",
         "part-00131",
         67108852,
         1436493239000
        ],
        [
         "dbfs:/databricks-datasets/airlines/part-00132",
         "part-00132",
         67108939,
         1436493239000
        ],
        [
         "dbfs:/databricks-datasets/airlines/part-00133",
         "part-00133",
         67108833,
         1436493240000
        ],
        [
         "dbfs:/databricks-datasets/airlines/part-00134",
         "part-00134",
         67108864,
         1436493240000
        ],
        [
         "dbfs:/databricks-datasets/airlines/part-00135",
         "part-00135",
         67108821,
         1436493240000
        ],
        [
         "dbfs:/databricks-datasets/airlines/part-00136",
         "part-00136",
         67108919,
         1436493241000
        ],
        [
         "dbfs:/databricks-datasets/airlines/part-00137",
         "part-00137",
         67108861,
         1436493241000
        ],
        [
         "dbfs:/databricks-datasets/airlines/part-00138",
         "part-00138",
         67108855,
         1436493242000
        ],
        [
         "dbfs:/databricks-datasets/airlines/part-00139",
         "part-00139",
         67108841,
         1436493242000
        ],
        [
         "dbfs:/databricks-datasets/airlines/part-00140",
         "part-00140",
         67108891,
         1436493242000
        ],
        [
         "dbfs:/databricks-datasets/airlines/part-00141",
         "part-00141",
         67108817,
         1436493243000
        ],
        [
         "dbfs:/databricks-datasets/airlines/part-00142",
         "part-00142",
         67108929,
         1436493243000
        ],
        [
         "dbfs:/databricks-datasets/airlines/part-00143",
         "part-00143",
         67108819,
         1436493243000
        ],
        [
         "dbfs:/databricks-datasets/airlines/part-00144",
         "part-00144",
         67108917,
         1436493244000
        ],
        [
         "dbfs:/databricks-datasets/airlines/part-00145",
         "part-00145",
         67108852,
         1436493244000
        ],
        [
         "dbfs:/databricks-datasets/airlines/part-00146",
         "part-00146",
         67108839,
         1436493245000
        ],
        [
         "dbfs:/databricks-datasets/airlines/part-00147",
         "part-00147",
         67108859,
         1436493245000
        ],
        [
         "dbfs:/databricks-datasets/airlines/part-00148",
         "part-00148",
         67108910,
         1436493246000
        ],
        [
         "dbfs:/databricks-datasets/airlines/part-00149",
         "part-00149",
         67108799,
         1436493246000
        ],
        [
         "dbfs:/databricks-datasets/airlines/part-00150",
         "part-00150",
         67108835,
         1436493247000
        ],
        [
         "dbfs:/databricks-datasets/airlines/part-00151",
         "part-00151",
         67108876,
         1436493247000
        ],
        [
         "dbfs:/databricks-datasets/airlines/part-00152",
         "part-00152",
         67108922,
         1436493247000
        ],
        [
         "dbfs:/databricks-datasets/airlines/part-00153",
         "part-00153",
         67108813,
         1436493248000
        ],
        [
         "dbfs:/databricks-datasets/airlines/part-00154",
         "part-00154",
         67108888,
         1436493248000
        ],
        [
         "dbfs:/databricks-datasets/airlines/part-00155",
         "part-00155",
         67108882,
         1436493249000
        ],
        [
         "dbfs:/databricks-datasets/airlines/part-00156",
         "part-00156",
         67108802,
         1436493249000
        ],
        [
         "dbfs:/databricks-datasets/airlines/part-00157",
         "part-00157",
         67108867,
         1436493249000
        ],
        [
         "dbfs:/databricks-datasets/airlines/part-00158",
         "part-00158",
         67108900,
         1436493250000
        ],
        [
         "dbfs:/databricks-datasets/airlines/part-00159",
         "part-00159",
         67108881,
         1436493250000
        ],
        [
         "dbfs:/databricks-datasets/airlines/part-00160",
         "part-00160",
         67108835,
         1436493251000
        ],
        [
         "dbfs:/databricks-datasets/airlines/part-00161",
         "part-00161",
         67108873,
         1436493251000
        ],
        [
         "dbfs:/databricks-datasets/airlines/part-00162",
         "part-00162",
         67108840,
         1436493251000
        ],
        [
         "dbfs:/databricks-datasets/airlines/part-00163",
         "part-00163",
         67108881,
         1436493252000
        ],
        [
         "dbfs:/databricks-datasets/airlines/part-00164",
         "part-00164",
         67108903,
         1436493252000
        ],
        [
         "dbfs:/databricks-datasets/airlines/part-00165",
         "part-00165",
         67108844,
         1436493253000
        ],
        [
         "dbfs:/databricks-datasets/airlines/part-00166",
         "part-00166",
         67108814,
         1436493253000
        ],
        [
         "dbfs:/databricks-datasets/airlines/part-00167",
         "part-00167",
         67108955,
         1436493253000
        ],
        [
         "dbfs:/databricks-datasets/airlines/part-00168",
         "part-00168",
         67108844,
         1436493254000
        ],
        [
         "dbfs:/databricks-datasets/airlines/part-00169",
         "part-00169",
         67108802,
         1436493254000
        ],
        [
         "dbfs:/databricks-datasets/airlines/part-00170",
         "part-00170",
         67108885,
         1436493254000
        ],
        [
         "dbfs:/databricks-datasets/airlines/part-00171",
         "part-00171",
         67108870,
         1436493255000
        ],
        [
         "dbfs:/databricks-datasets/airlines/part-00172",
         "part-00172",
         67108880,
         1436493255000
        ],
        [
         "dbfs:/databricks-datasets/airlines/part-00173",
         "part-00173",
         67108846,
         1436493256000
        ],
        [
         "dbfs:/databricks-datasets/airlines/part-00174",
         "part-00174",
         67108901,
         1436493256000
        ],
        [
         "dbfs:/databricks-datasets/airlines/part-00175",
         "part-00175",
         67108817,
         1436493257000
        ],
        [
         "dbfs:/databricks-datasets/airlines/part-00176",
         "part-00176",
         67108876,
         1436493257000
        ],
        [
         "dbfs:/databricks-datasets/airlines/part-00177",
         "part-00177",
         67108910,
         1436493258000
        ],
        [
         "dbfs:/databricks-datasets/airlines/part-00178",
         "part-00178",
         67108807,
         1436493258000
        ],
        [
         "dbfs:/databricks-datasets/airlines/part-00179",
         "part-00179",
         67108857,
         1436493259000
        ],
        [
         "dbfs:/databricks-datasets/airlines/part-00180",
         "part-00180",
         67108935,
         1436493259000
        ],
        [
         "dbfs:/databricks-datasets/airlines/part-00181",
         "part-00181",
         67108817,
         1436493260000
        ],
        [
         "dbfs:/databricks-datasets/airlines/part-00182",
         "part-00182",
         67108893,
         1436493260000
        ],
        [
         "dbfs:/databricks-datasets/airlines/part-00183",
         "part-00183",
         67108898,
         1436493261000
        ],
        [
         "dbfs:/databricks-datasets/airlines/part-00184",
         "part-00184",
         67108831,
         1436493261000
        ],
        [
         "dbfs:/databricks-datasets/airlines/part-00185",
         "part-00185",
         67108857,
         1436493262000
        ],
        [
         "dbfs:/databricks-datasets/airlines/part-00186",
         "part-00186",
         67108843,
         1436493262000
        ],
        [
         "dbfs:/databricks-datasets/airlines/part-00187",
         "part-00187",
         67108909,
         1436493263000
        ],
        [
         "dbfs:/databricks-datasets/airlines/part-00188",
         "part-00188",
         67108806,
         1436493263000
        ],
        [
         "dbfs:/databricks-datasets/airlines/part-00189",
         "part-00189",
         67108911,
         1436493264000
        ],
        [
         "dbfs:/databricks-datasets/airlines/part-00190",
         "part-00190",
         67108831,
         1436493264000
        ],
        [
         "dbfs:/databricks-datasets/airlines/part-00191",
         "part-00191",
         67108899,
         1436493265000
        ],
        [
         "dbfs:/databricks-datasets/airlines/part-00192",
         "part-00192",
         67108869,
         1436493265000
        ],
        [
         "dbfs:/databricks-datasets/airlines/part-00193",
         "part-00193",
         67108810,
         1436493266000
        ],
        [
         "dbfs:/databricks-datasets/airlines/part-00194",
         "part-00194",
         67108837,
         1436493266000
        ],
        [
         "dbfs:/databricks-datasets/airlines/part-00195",
         "part-00195",
         67108930,
         1436493267000
        ],
        [
         "dbfs:/databricks-datasets/airlines/part-00196",
         "part-00196",
         67108837,
         1436493267000
        ],
        [
         "dbfs:/databricks-datasets/airlines/part-00197",
         "part-00197",
         67108822,
         1436493268000
        ],
        [
         "dbfs:/databricks-datasets/airlines/part-00198",
         "part-00198",
         67108881,
         1436493268000
        ],
        [
         "dbfs:/databricks-datasets/airlines/part-00199",
         "part-00199",
         67108897,
         1436493269000
        ],
        [
         "dbfs:/databricks-datasets/airlines/part-00200",
         "part-00200",
         67108911,
         1436493269000
        ],
        [
         "dbfs:/databricks-datasets/airlines/part-00201",
         "part-00201",
         67108848,
         1436493270000
        ],
        [
         "dbfs:/databricks-datasets/airlines/part-00202",
         "part-00202",
         67108846,
         1436493270000
        ],
        [
         "dbfs:/databricks-datasets/airlines/part-00203",
         "part-00203",
         67108888,
         1436493270000
        ],
        [
         "dbfs:/databricks-datasets/airlines/part-00204",
         "part-00204",
         67108837,
         1436493271000
        ],
        [
         "dbfs:/databricks-datasets/airlines/part-00205",
         "part-00205",
         67108827,
         1436493271000
        ],
        [
         "dbfs:/databricks-datasets/airlines/part-00206",
         "part-00206",
         67108840,
         1436493272000
        ],
        [
         "dbfs:/databricks-datasets/airlines/part-00207",
         "part-00207",
         67108920,
         1436493272000
        ],
        [
         "dbfs:/databricks-datasets/airlines/part-00208",
         "part-00208",
         67108899,
         1436493272000
        ],
        [
         "dbfs:/databricks-datasets/airlines/part-00209",
         "part-00209",
         67108795,
         1436493273000
        ],
        [
         "dbfs:/databricks-datasets/airlines/part-00210",
         "part-00210",
         67108880,
         1436493273000
        ],
        [
         "dbfs:/databricks-datasets/airlines/part-00211",
         "part-00211",
         67108866,
         1436493274000
        ],
        [
         "dbfs:/databricks-datasets/airlines/part-00212",
         "part-00212",
         67108865,
         1436493274000
        ],
        [
         "dbfs:/databricks-datasets/airlines/part-00213",
         "part-00213",
         67108848,
         1436493275000
        ],
        [
         "dbfs:/databricks-datasets/airlines/part-00214",
         "part-00214",
         67108888,
         1436493275000
        ],
        [
         "dbfs:/databricks-datasets/airlines/part-00215",
         "part-00215",
         67108857,
         1436493275000
        ],
        [
         "dbfs:/databricks-datasets/airlines/part-00216",
         "part-00216",
         67108908,
         1436493276000
        ],
        [
         "dbfs:/databricks-datasets/airlines/part-00217",
         "part-00217",
         67108877,
         1436493276000
        ],
        [
         "dbfs:/databricks-datasets/airlines/part-00218",
         "part-00218",
         67108766,
         1436493276000
        ],
        [
         "dbfs:/databricks-datasets/airlines/part-00219",
         "part-00219",
         67108885,
         1436493277000
        ],
        [
         "dbfs:/databricks-datasets/airlines/part-00220",
         "part-00220",
         67108904,
         1436493277000
        ],
        [
         "dbfs:/databricks-datasets/airlines/part-00221",
         "part-00221",
         67108879,
         1436493278000
        ],
        [
         "dbfs:/databricks-datasets/airlines/part-00222",
         "part-00222",
         67108889,
         1436493278000
        ],
        [
         "dbfs:/databricks-datasets/airlines/part-00223",
         "part-00223",
         67108822,
         1436493279000
        ],
        [
         "dbfs:/databricks-datasets/airlines/part-00224",
         "part-00224",
         67108867,
         1436493279000
        ],
        [
         "dbfs:/databricks-datasets/airlines/part-00225",
         "part-00225",
         67108861,
         1436493279000
        ],
        [
         "dbfs:/databricks-datasets/airlines/part-00226",
         "part-00226",
         67108876,
         1436493280000
        ],
        [
         "dbfs:/databricks-datasets/airlines/part-00227",
         "part-00227",
         67108811,
         1436493280000
        ],
        [
         "dbfs:/databricks-datasets/airlines/part-00228",
         "part-00228",
         67108882,
         1436493281000
        ],
        [
         "dbfs:/databricks-datasets/airlines/part-00229",
         "part-00229",
         67108840,
         1436493281000
        ],
        [
         "dbfs:/databricks-datasets/airlines/part-00230",
         "part-00230",
         67108931,
         1436493282000
        ],
        [
         "dbfs:/databricks-datasets/airlines/part-00231",
         "part-00231",
         67108836,
         1436493282000
        ],
        [
         "dbfs:/databricks-datasets/airlines/part-00232",
         "part-00232",
         67108890,
         1436493283000
        ],
        [
         "dbfs:/databricks-datasets/airlines/part-00233",
         "part-00233",
         67108884,
         1436493283000
        ],
        [
         "dbfs:/databricks-datasets/airlines/part-00234",
         "part-00234",
         67108863,
         1436493284000
        ],
        [
         "dbfs:/databricks-datasets/airlines/part-00235",
         "part-00235",
         67108770,
         1436493284000
        ],
        [
         "dbfs:/databricks-datasets/airlines/part-00236",
         "part-00236",
         67108933,
         1436493284000
        ],
        [
         "dbfs:/databricks-datasets/airlines/part-00237",
         "part-00237",
         67108840,
         1436493285000
        ],
        [
         "dbfs:/databricks-datasets/airlines/part-00238",
         "part-00238",
         67108816,
         1436493285000
        ],
        [
         "dbfs:/databricks-datasets/airlines/part-00239",
         "part-00239",
         67108874,
         1436493286000
        ],
        [
         "dbfs:/databricks-datasets/airlines/part-00240",
         "part-00240",
         67108885,
         1436493286000
        ],
        [
         "dbfs:/databricks-datasets/airlines/part-00241",
         "part-00241",
         67108913,
         1436493287000
        ],
        [
         "dbfs:/databricks-datasets/airlines/part-00242",
         "part-00242",
         67108834,
         1436493287000
        ],
        [
         "dbfs:/databricks-datasets/airlines/part-00243",
         "part-00243",
         67108867,
         1436493288000
        ],
        [
         "dbfs:/databricks-datasets/airlines/part-00244",
         "part-00244",
         67108905,
         1436493288000
        ],
        [
         "dbfs:/databricks-datasets/airlines/part-00245",
         "part-00245",
         67108790,
         1436493288000
        ],
        [
         "dbfs:/databricks-datasets/airlines/part-00246",
         "part-00246",
         67108852,
         1436493289000
        ],
        [
         "dbfs:/databricks-datasets/airlines/part-00247",
         "part-00247",
         67108862,
         1436493289000
        ],
        [
         "dbfs:/databricks-datasets/airlines/part-00248",
         "part-00248",
         67108894,
         1436493290000
        ],
        [
         "dbfs:/databricks-datasets/airlines/part-00249",
         "part-00249",
         67108911,
         1436493290000
        ],
        [
         "dbfs:/databricks-datasets/airlines/part-00250",
         "part-00250",
         67108790,
         1436493290000
        ],
        [
         "dbfs:/databricks-datasets/airlines/part-00251",
         "part-00251",
         67108906,
         1436493291000
        ],
        [
         "dbfs:/databricks-datasets/airlines/part-00252",
         "part-00252",
         67108877,
         1436493291000
        ],
        [
         "dbfs:/databricks-datasets/airlines/part-00253",
         "part-00253",
         67108808,
         1436493292000
        ],
        [
         "dbfs:/databricks-datasets/airlines/part-00254",
         "part-00254",
         67108946,
         1436493292000
        ],
        [
         "dbfs:/databricks-datasets/airlines/part-00255",
         "part-00255",
         67108811,
         1436493293000
        ],
        [
         "dbfs:/databricks-datasets/airlines/part-00256",
         "part-00256",
         67108829,
         1436493293000
        ],
        [
         "dbfs:/databricks-datasets/airlines/part-00257",
         "part-00257",
         67108879,
         1436493294000
        ],
        [
         "dbfs:/databricks-datasets/airlines/part-00258",
         "part-00258",
         67108895,
         1436493294000
        ],
        [
         "dbfs:/databricks-datasets/airlines/part-00259",
         "part-00259",
         67108840,
         1436493295000
        ],
        [
         "dbfs:/databricks-datasets/airlines/part-00260",
         "part-00260",
         67108925,
         1436493295000
        ],
        [
         "dbfs:/databricks-datasets/airlines/part-00261",
         "part-00261",
         67108840,
         1436493295000
        ],
        [
         "dbfs:/databricks-datasets/airlines/part-00262",
         "part-00262",
         67108894,
         1436493296000
        ],
        [
         "dbfs:/databricks-datasets/airlines/part-00263",
         "part-00263",
         67108854,
         1436493296000
        ],
        [
         "dbfs:/databricks-datasets/airlines/part-00264",
         "part-00264",
         67108873,
         1436493297000
        ],
        [
         "dbfs:/databricks-datasets/airlines/part-00265",
         "part-00265",
         67108862,
         1436493297000
        ],
        [
         "dbfs:/databricks-datasets/airlines/part-00266",
         "part-00266",
         67108813,
         1436493297000
        ],
        [
         "dbfs:/databricks-datasets/airlines/part-00267",
         "part-00267",
         67108835,
         1436493298000
        ],
        [
         "dbfs:/databricks-datasets/airlines/part-00268",
         "part-00268",
         67108938,
         1436493299000
        ],
        [
         "dbfs:/databricks-datasets/airlines/part-00269",
         "part-00269",
         67108817,
         1436493299000
        ],
        [
         "dbfs:/databricks-datasets/airlines/part-00270",
         "part-00270",
         67108899,
         1436493299000
        ],
        [
         "dbfs:/databricks-datasets/airlines/part-00271",
         "part-00271",
         67108826,
         1436493300000
        ],
        [
         "dbfs:/databricks-datasets/airlines/part-00272",
         "part-00272",
         67108887,
         1436493300000
        ],
        [
         "dbfs:/databricks-datasets/airlines/part-00273",
         "part-00273",
         67108875,
         1436493301000
        ],
        [
         "dbfs:/databricks-datasets/airlines/part-00274",
         "part-00274",
         67108896,
         1436493301000
        ],
        [
         "dbfs:/databricks-datasets/airlines/part-00275",
         "part-00275",
         67108826,
         1436493302000
        ],
        [
         "dbfs:/databricks-datasets/airlines/part-00276",
         "part-00276",
         67108838,
         1436493302000
        ],
        [
         "dbfs:/databricks-datasets/airlines/part-00277",
         "part-00277",
         67108913,
         1436493302000
        ],
        [
         "dbfs:/databricks-datasets/airlines/part-00278",
         "part-00278",
         67108846,
         1436493303000
        ],
        [
         "dbfs:/databricks-datasets/airlines/part-00279",
         "part-00279",
         67108860,
         1436493303000
        ],
        [
         "dbfs:/databricks-datasets/airlines/part-00280",
         "part-00280",
         67108867,
         1436493304000
        ],
        [
         "dbfs:/databricks-datasets/airlines/part-00281",
         "part-00281",
         67108882,
         1436493304000
        ],
        [
         "dbfs:/databricks-datasets/airlines/part-00282",
         "part-00282",
         67108823,
         1436493304000
        ],
        [
         "dbfs:/databricks-datasets/airlines/part-00283",
         "part-00283",
         67108877,
         1436493305000
        ],
        [
         "dbfs:/databricks-datasets/airlines/part-00284",
         "part-00284",
         67108818,
         1436493305000
        ],
        [
         "dbfs:/databricks-datasets/airlines/part-00285",
         "part-00285",
         67108956,
         1436493306000
        ],
        [
         "dbfs:/databricks-datasets/airlines/part-00286",
         "part-00286",
         67108811,
         1436493306000
        ],
        [
         "dbfs:/databricks-datasets/airlines/part-00287",
         "part-00287",
         67108906,
         1436493306000
        ],
        [
         "dbfs:/databricks-datasets/airlines/part-00288",
         "part-00288",
         67108785,
         1436493307000
        ],
        [
         "dbfs:/databricks-datasets/airlines/part-00289",
         "part-00289",
         67108870,
         1436493307000
        ],
        [
         "dbfs:/databricks-datasets/airlines/part-00290",
         "part-00290",
         67108944,
         1436493308000
        ],
        [
         "dbfs:/databricks-datasets/airlines/part-00291",
         "part-00291",
         67108786,
         1436493308000
        ],
        [
         "dbfs:/databricks-datasets/airlines/part-00292",
         "part-00292",
         67108887,
         1436493309000
        ],
        [
         "dbfs:/databricks-datasets/airlines/part-00293",
         "part-00293",
         67108872,
         1436493309000
        ],
        [
         "dbfs:/databricks-datasets/airlines/part-00294",
         "part-00294",
         67108825,
         1436493310000
        ],
        [
         "dbfs:/databricks-datasets/airlines/part-00295",
         "part-00295",
         67108921,
         1436493310000
        ],
        [
         "dbfs:/databricks-datasets/airlines/part-00296",
         "part-00296",
         67108876,
         1436493311000
        ],
        [
         "dbfs:/databricks-datasets/airlines/part-00297",
         "part-00297",
         67108806,
         1436493311000
        ],
        [
         "dbfs:/databricks-datasets/airlines/part-00298",
         "part-00298",
         67108866,
         1436493312000
        ],
        [
         "dbfs:/databricks-datasets/airlines/part-00299",
         "part-00299",
         67108915,
         1436493312000
        ],
        [
         "dbfs:/databricks-datasets/airlines/part-00300",
         "part-00300",
         67108879,
         1436493313000
        ],
        [
         "dbfs:/databricks-datasets/airlines/part-00301",
         "part-00301",
         67581870,
         1436493313000
        ],
        [
         "dbfs:/databricks-datasets/airlines/part-00302",
         "part-00302",
         67768197,
         1436493314000
        ],
        [
         "dbfs:/databricks-datasets/airlines/part-00303",
         "part-00303",
         67768967,
         1436493314000
        ],
        [
         "dbfs:/databricks-datasets/airlines/part-00304",
         "part-00304",
         67875084,
         1436493314000
        ],
        [
         "dbfs:/databricks-datasets/airlines/part-00305",
         "part-00305",
         67839917,
         1436493315000
        ],
        [
         "dbfs:/databricks-datasets/airlines/part-00306",
         "part-00306",
         67880940,
         1436493315000
        ],
        [
         "dbfs:/databricks-datasets/airlines/part-00307",
         "part-00307",
         67779921,
         1436493316000
        ],
        [
         "dbfs:/databricks-datasets/airlines/part-00308",
         "part-00308",
         67937879,
         1436493316000
        ],
        [
         "dbfs:/databricks-datasets/airlines/part-00309",
         "part-00309",
         67778709,
         1436493316000
        ],
        [
         "dbfs:/databricks-datasets/airlines/part-00310",
         "part-00310",
         67848344,
         1436493317000
        ],
        [
         "dbfs:/databricks-datasets/airlines/part-00311",
         "part-00311",
         67720587,
         1436493317000
        ],
        [
         "dbfs:/databricks-datasets/airlines/part-00312",
         "part-00312",
         67469470,
         1436493318000
        ],
        [
         "dbfs:/databricks-datasets/airlines/part-00313",
         "part-00313",
         67108925,
         1436493318000
        ],
        [
         "dbfs:/databricks-datasets/airlines/part-00314",
         "part-00314",
         67108823,
         1436493319000
        ],
        [
         "dbfs:/databricks-datasets/airlines/part-00315",
         "part-00315",
         67108846,
         1436493319000
        ],
        [
         "dbfs:/databricks-datasets/airlines/part-00316",
         "part-00316",
         67108842,
         1436493319000
        ],
        [
         "dbfs:/databricks-datasets/airlines/part-00317",
         "part-00317",
         67108888,
         1436493320000
        ],
        [
         "dbfs:/databricks-datasets/airlines/part-00318",
         "part-00318",
         67108920,
         1436493320000
        ],
        [
         "dbfs:/databricks-datasets/airlines/part-00319",
         "part-00319",
         67108790,
         1436493320000
        ],
        [
         "dbfs:/databricks-datasets/airlines/part-00320",
         "part-00320",
         67108853,
         1436493321000
        ],
        [
         "dbfs:/databricks-datasets/airlines/part-00321",
         "part-00321",
         67108879,
         1436493321000
        ],
        [
         "dbfs:/databricks-datasets/airlines/part-00322",
         "part-00322",
         67108887,
         1436493322000
        ],
        [
         "dbfs:/databricks-datasets/airlines/part-00323",
         "part-00323",
         67108871,
         1436493322000
        ],
        [
         "dbfs:/databricks-datasets/airlines/part-00324",
         "part-00324",
         67108821,
         1436493322000
        ],
        [
         "dbfs:/databricks-datasets/airlines/part-00325",
         "part-00325",
         67108865,
         1436493323000
        ],
        [
         "dbfs:/databricks-datasets/airlines/part-00326",
         "part-00326",
         67108922,
         1436493323000
        ],
        [
         "dbfs:/databricks-datasets/airlines/part-00327",
         "part-00327",
         67108805,
         1436493324000
        ],
        [
         "dbfs:/databricks-datasets/airlines/part-00328",
         "part-00328",
         67108856,
         1436493324000
        ],
        [
         "dbfs:/databricks-datasets/airlines/part-00329",
         "part-00329",
         67108939,
         1436493325000
        ],
        [
         "dbfs:/databricks-datasets/airlines/part-00330",
         "part-00330",
         67108809,
         1436493325000
        ],
        [
         "dbfs:/databricks-datasets/airlines/part-00331",
         "part-00331",
         67108933,
         1436493326000
        ],
        [
         "dbfs:/databricks-datasets/airlines/part-00332",
         "part-00332",
         67108789,
         1436493326000
        ],
        [
         "dbfs:/databricks-datasets/airlines/part-00333",
         "part-00333",
         67108919,
         1436493326000
        ],
        [
         "dbfs:/databricks-datasets/airlines/part-00334",
         "part-00334",
         67108863,
         1436493327000
        ],
        [
         "dbfs:/databricks-datasets/airlines/part-00335",
         "part-00335",
         67108814,
         1436493327000
        ],
        [
         "dbfs:/databricks-datasets/airlines/part-00336",
         "part-00336",
         67108844,
         1436493328000
        ],
        [
         "dbfs:/databricks-datasets/airlines/part-00337",
         "part-00337",
         67108916,
         1436493328000
        ],
        [
         "dbfs:/databricks-datasets/airlines/part-00338",
         "part-00338",
         67108890,
         1436493328000
        ],
        [
         "dbfs:/databricks-datasets/airlines/part-00339",
         "part-00339",
         67108840,
         1436493329000
        ],
        [
         "dbfs:/databricks-datasets/airlines/part-00340",
         "part-00340",
         67108818,
         1436493329000
        ],
        [
         "dbfs:/databricks-datasets/airlines/part-00341",
         "part-00341",
         67108889,
         1436493329000
        ],
        [
         "dbfs:/databricks-datasets/airlines/part-00342",
         "part-00342",
         67108899,
         1436493330000
        ],
        [
         "dbfs:/databricks-datasets/airlines/part-00343",
         "part-00343",
         67108800,
         1436493330000
        ],
        [
         "dbfs:/databricks-datasets/airlines/part-00344",
         "part-00344",
         67108932,
         1436493331000
        ],
        [
         "dbfs:/databricks-datasets/airlines/part-00345",
         "part-00345",
         67108837,
         1436493331000
        ],
        [
         "dbfs:/databricks-datasets/airlines/part-00346",
         "part-00346",
         67108890,
         1436493331000
        ],
        [
         "dbfs:/databricks-datasets/airlines/part-00347",
         "part-00347",
         67108817,
         1436493332000
        ],
        [
         "dbfs:/databricks-datasets/airlines/part-00348",
         "part-00348",
         67108839,
         1436493332000
        ],
        [
         "dbfs:/databricks-datasets/airlines/part-00349",
         "part-00349",
         67108887,
         1436493332000
        ],
        [
         "dbfs:/databricks-datasets/airlines/part-00350",
         "part-00350",
         67108838,
         1436493333000
        ],
        [
         "dbfs:/databricks-datasets/airlines/part-00351",
         "part-00351",
         67108894,
         1436493333000
        ],
        [
         "dbfs:/databricks-datasets/airlines/part-00352",
         "part-00352",
         67108918,
         1436493334000
        ],
        [
         "dbfs:/databricks-datasets/airlines/part-00353",
         "part-00353",
         67108828,
         1436493334000
        ],
        [
         "dbfs:/databricks-datasets/airlines/part-00354",
         "part-00354",
         67108902,
         1436493334000
        ],
        [
         "dbfs:/databricks-datasets/airlines/part-00355",
         "part-00355",
         67108808,
         1436493335000
        ],
        [
         "dbfs:/databricks-datasets/airlines/part-00356",
         "part-00356",
         67108882,
         1436493335000
        ],
        [
         "dbfs:/databricks-datasets/airlines/part-00357",
         "part-00357",
         67108846,
         1436493335000
        ],
        [
         "dbfs:/databricks-datasets/airlines/part-00358",
         "part-00358",
         67108899,
         1436493336000
        ],
        [
         "dbfs:/databricks-datasets/airlines/part-00359",
         "part-00359",
         67108808,
         1436493336000
        ],
        [
         "dbfs:/databricks-datasets/airlines/part-00360",
         "part-00360",
         67108950,
         1436493337000
        ],
        [
         "dbfs:/databricks-datasets/airlines/part-00361",
         "part-00361",
         67108808,
         1436493337000
        ],
        [
         "dbfs:/databricks-datasets/airlines/part-00362",
         "part-00362",
         67108900,
         1436493337000
        ],
        [
         "dbfs:/databricks-datasets/airlines/part-00363",
         "part-00363",
         67108811,
         1436493338000
        ],
        [
         "dbfs:/databricks-datasets/airlines/part-00364",
         "part-00364",
         67108858,
         1436493339000
        ],
        [
         "dbfs:/databricks-datasets/airlines/part-00365",
         "part-00365",
         67108874,
         1436493339000
        ],
        [
         "dbfs:/databricks-datasets/airlines/part-00366",
         "part-00366",
         67108893,
         1436493340000
        ],
        [
         "dbfs:/databricks-datasets/airlines/part-00367",
         "part-00367",
         67108895,
         1436493341000
        ],
        [
         "dbfs:/databricks-datasets/airlines/part-00368",
         "part-00368",
         67108818,
         1436493341000
        ],
        [
         "dbfs:/databricks-datasets/airlines/part-00369",
         "part-00369",
         67108892,
         1436493342000
        ],
        [
         "dbfs:/databricks-datasets/airlines/part-00370",
         "part-00370",
         67108834,
         1436493342000
        ],
        [
         "dbfs:/databricks-datasets/airlines/part-00371",
         "part-00371",
         67108863,
         1436493342000
        ],
        [
         "dbfs:/databricks-datasets/airlines/part-00372",
         "part-00372",
         67108917,
         1436493343000
        ],
        [
         "dbfs:/databricks-datasets/airlines/part-00373",
         "part-00373",
         67108837,
         1436493343000
        ],
        [
         "dbfs:/databricks-datasets/airlines/part-00374",
         "part-00374",
         67108877,
         1436493343000
        ],
        [
         "dbfs:/databricks-datasets/airlines/part-00375",
         "part-00375",
         67108877,
         1436493344000
        ],
        [
         "dbfs:/databricks-datasets/airlines/part-00376",
         "part-00376",
         67108821,
         1436493344000
        ],
        [
         "dbfs:/databricks-datasets/airlines/part-00377",
         "part-00377",
         67108848,
         1436493344000
        ],
        [
         "dbfs:/databricks-datasets/airlines/part-00378",
         "part-00378",
         67108916,
         1436493345000
        ],
        [
         "dbfs:/databricks-datasets/airlines/part-00379",
         "part-00379",
         67108828,
         1436493345000
        ],
        [
         "dbfs:/databricks-datasets/airlines/part-00380",
         "part-00380",
         67108918,
         1436493346000
        ],
        [
         "dbfs:/databricks-datasets/airlines/part-00381",
         "part-00381",
         67108784,
         1436493347000
        ],
        [
         "dbfs:/databricks-datasets/airlines/part-00382",
         "part-00382",
         67108918,
         1436493347000
        ],
        [
         "dbfs:/databricks-datasets/airlines/part-00383",
         "part-00383",
         67108846,
         1436493347000
        ],
        [
         "dbfs:/databricks-datasets/airlines/part-00384",
         "part-00384",
         67108808,
         1436493348000
        ],
        [
         "dbfs:/databricks-datasets/airlines/part-00385",
         "part-00385",
         67108955,
         1436493348000
        ],
        [
         "dbfs:/databricks-datasets/airlines/part-00386",
         "part-00386",
         67108784,
         1436493349000
        ],
        [
         "dbfs:/databricks-datasets/airlines/part-00387",
         "part-00387",
         67108904,
         1436493349000
        ],
        [
         "dbfs:/databricks-datasets/airlines/part-00388",
         "part-00388",
         67108841,
         1436493350000
        ],
        [
         "dbfs:/databricks-datasets/airlines/part-00389",
         "part-00389",
         67108892,
         1436493350000
        ],
        [
         "dbfs:/databricks-datasets/airlines/part-00390",
         "part-00390",
         67108881,
         1436493351000
        ],
        [
         "dbfs:/databricks-datasets/airlines/part-00391",
         "part-00391",
         67108875,
         1436493351000
        ],
        [
         "dbfs:/databricks-datasets/airlines/part-00392",
         "part-00392",
         67108836,
         1436493351000
        ],
        [
         "dbfs:/databricks-datasets/airlines/part-00393",
         "part-00393",
         67108893,
         1436493352000
        ],
        [
         "dbfs:/databricks-datasets/airlines/part-00394",
         "part-00394",
         67108877,
         1436493352000
        ],
        [
         "dbfs:/databricks-datasets/airlines/part-00395",
         "part-00395",
         67108828,
         1436493353000
        ],
        [
         "dbfs:/databricks-datasets/airlines/part-00396",
         "part-00396",
         67108863,
         1436493353000
        ],
        [
         "dbfs:/databricks-datasets/airlines/part-00397",
         "part-00397",
         67108835,
         1436493353000
        ],
        [
         "dbfs:/databricks-datasets/airlines/part-00398",
         "part-00398",
         67108855,
         1436493354000
        ],
        [
         "dbfs:/databricks-datasets/airlines/part-00399",
         "part-00399",
         67108867,
         1436493354000
        ],
        [
         "dbfs:/databricks-datasets/airlines/part-00400",
         "part-00400",
         67108877,
         1436493355000
        ],
        [
         "dbfs:/databricks-datasets/airlines/part-00401",
         "part-00401",
         67108868,
         1436493355000
        ],
        [
         "dbfs:/databricks-datasets/airlines/part-00402",
         "part-00402",
         67108838,
         1436493355000
        ],
        [
         "dbfs:/databricks-datasets/airlines/part-00403",
         "part-00403",
         67108887,
         1436493356000
        ],
        [
         "dbfs:/databricks-datasets/airlines/part-00404",
         "part-00404",
         67108826,
         1436493356000
        ],
        [
         "dbfs:/databricks-datasets/airlines/part-00405",
         "part-00405",
         67108909,
         1436493356000
        ],
        [
         "dbfs:/databricks-datasets/airlines/part-00406",
         "part-00406",
         67108879,
         1436493357000
        ],
        [
         "dbfs:/databricks-datasets/airlines/part-00407",
         "part-00407",
         67108838,
         1436493357000
        ],
        [
         "dbfs:/databricks-datasets/airlines/part-00408",
         "part-00408",
         67108919,
         1436493358000
        ],
        [
         "dbfs:/databricks-datasets/airlines/part-00409",
         "part-00409",
         67108818,
         1436493358000
        ],
        [
         "dbfs:/databricks-datasets/airlines/part-00410",
         "part-00410",
         67108891,
         1436493358000
        ],
        [
         "dbfs:/databricks-datasets/airlines/part-00411",
         "part-00411",
         67108794,
         1436493359000
        ],
        [
         "dbfs:/databricks-datasets/airlines/part-00412",
         "part-00412",
         67108955,
         1436493359000
        ],
        [
         "dbfs:/databricks-datasets/airlines/part-00413",
         "part-00413",
         67108817,
         1436493360000
        ],
        [
         "dbfs:/databricks-datasets/airlines/part-00414",
         "part-00414",
         67108900,
         1436493360000
        ],
        [
         "dbfs:/databricks-datasets/airlines/part-00415",
         "part-00415",
         67108791,
         1436493361000
        ],
        [
         "dbfs:/databricks-datasets/airlines/part-00416",
         "part-00416",
         67108891,
         1436493361000
        ],
        [
         "dbfs:/databricks-datasets/airlines/part-00417",
         "part-00417",
         67108844,
         1436493362000
        ],
        [
         "dbfs:/databricks-datasets/airlines/part-00418",
         "part-00418",
         67108950,
         1436493362000
        ],
        [
         "dbfs:/databricks-datasets/airlines/part-00419",
         "part-00419",
         67108799,
         1436493362000
        ],
        [
         "dbfs:/databricks-datasets/airlines/part-00420",
         "part-00420",
         67108846,
         1436493363000
        ],
        [
         "dbfs:/databricks-datasets/airlines/part-00421",
         "part-00421",
         67108920,
         1436493363000
        ],
        [
         "dbfs:/databricks-datasets/airlines/part-00422",
         "part-00422",
         67108794,
         1436493363000
        ],
        [
         "dbfs:/databricks-datasets/airlines/part-00423",
         "part-00423",
         67108939,
         1436493364000
        ],
        [
         "dbfs:/databricks-datasets/airlines/part-00424",
         "part-00424",
         67108788,
         1436493364000
        ],
        [
         "dbfs:/databricks-datasets/airlines/part-00425",
         "part-00425",
         67108864,
         1436493365000
        ],
        [
         "dbfs:/databricks-datasets/airlines/part-00426",
         "part-00426",
         67108894,
         1436493365000
        ],
        [
         "dbfs:/databricks-datasets/airlines/part-00427",
         "part-00427",
         67108888,
         1436493365000
        ],
        [
         "dbfs:/databricks-datasets/airlines/part-00428",
         "part-00428",
         67108844,
         1436493366000
        ],
        [
         "dbfs:/databricks-datasets/airlines/part-00429",
         "part-00429",
         67108827,
         1436493366000
        ],
        [
         "dbfs:/databricks-datasets/airlines/part-00430",
         "part-00430",
         67108882,
         1436493367000
        ],
        [
         "dbfs:/databricks-datasets/airlines/part-00431",
         "part-00431",
         67108946,
         1436493367000
        ],
        [
         "dbfs:/databricks-datasets/airlines/part-00432",
         "part-00432",
         67108813,
         1436493367000
        ],
        [
         "dbfs:/databricks-datasets/airlines/part-00433",
         "part-00433",
         67108821,
         1436493368000
        ],
        [
         "dbfs:/databricks-datasets/airlines/part-00434",
         "part-00434",
         67108956,
         1436493368000
        ],
        [
         "dbfs:/databricks-datasets/airlines/part-00435",
         "part-00435",
         67108771,
         1436493369000
        ],
        [
         "dbfs:/databricks-datasets/airlines/part-00436",
         "part-00436",
         67108861,
         1436493369000
        ],
        [
         "dbfs:/databricks-datasets/airlines/part-00437",
         "part-00437",
         67108899,
         1436493369000
        ],
        [
         "dbfs:/databricks-datasets/airlines/part-00438",
         "part-00438",
         67108842,
         1436493370000
        ],
        [
         "dbfs:/databricks-datasets/airlines/part-00439",
         "part-00439",
         67108917,
         1436493370000
        ],
        [
         "dbfs:/databricks-datasets/airlines/part-00440",
         "part-00440",
         67108823,
         1436493371000
        ],
        [
         "dbfs:/databricks-datasets/airlines/part-00441",
         "part-00441",
         67108859,
         1436493371000
        ],
        [
         "dbfs:/databricks-datasets/airlines/part-00442",
         "part-00442",
         67108924,
         1436493372000
        ],
        [
         "dbfs:/databricks-datasets/airlines/part-00443",
         "part-00443",
         67108799,
         1436493372000
        ],
        [
         "dbfs:/databricks-datasets/airlines/part-00444",
         "part-00444",
         67108867,
         1436493372000
        ],
        [
         "dbfs:/databricks-datasets/airlines/part-00445",
         "part-00445",
         67108849,
         1436493373000
        ],
        [
         "dbfs:/databricks-datasets/airlines/part-00446",
         "part-00446",
         67108932,
         1436493373000
        ],
        [
         "dbfs:/databricks-datasets/airlines/part-00447",
         "part-00447",
         67108873,
         1436493374000
        ],
        [
         "dbfs:/databricks-datasets/airlines/part-00448",
         "part-00448",
         67108876,
         1436493374000
        ],
        [
         "dbfs:/databricks-datasets/airlines/part-00449",
         "part-00449",
         67108771,
         1436493374000
        ],
        [
         "dbfs:/databricks-datasets/airlines/part-00450",
         "part-00450",
         67108941,
         1436493375000
        ],
        [
         "dbfs:/databricks-datasets/airlines/part-00451",
         "part-00451",
         67108831,
         1436493375000
        ],
        [
         "dbfs:/databricks-datasets/airlines/part-00452",
         "part-00452",
         67108818,
         1436493375000
        ],
        [
         "dbfs:/databricks-datasets/airlines/part-00453",
         "part-00453",
         67108882,
         1436493376000
        ],
        [
         "dbfs:/databricks-datasets/airlines/part-00454",
         "part-00454",
         67108852,
         1436493376000
        ],
        [
         "dbfs:/databricks-datasets/airlines/part-00455",
         "part-00455",
         67108904,
         1436493377000
        ],
        [
         "dbfs:/databricks-datasets/airlines/part-00456",
         "part-00456",
         67108838,
         1436493377000
        ],
        [
         "dbfs:/databricks-datasets/airlines/part-00457",
         "part-00457",
         67108859,
         1436493377000
        ],
        [
         "dbfs:/databricks-datasets/airlines/part-00458",
         "part-00458",
         67108928,
         1436493378000
        ],
        [
         "dbfs:/databricks-datasets/airlines/part-00459",
         "part-00459",
         67108887,
         1436493378000
        ],
        [
         "dbfs:/databricks-datasets/airlines/part-00460",
         "part-00460",
         67108789,
         1436493379000
        ],
        [
         "dbfs:/databricks-datasets/airlines/part-00461",
         "part-00461",
         67108906,
         1436493379000
        ],
        [
         "dbfs:/databricks-datasets/airlines/part-00462",
         "part-00462",
         67108879,
         1436493379000
        ],
        [
         "dbfs:/databricks-datasets/airlines/part-00463",
         "part-00463",
         67108876,
         1436493380000
        ],
        [
         "dbfs:/databricks-datasets/airlines/part-00464",
         "part-00464",
         67108867,
         1436493380000
        ],
        [
         "dbfs:/databricks-datasets/airlines/part-00465",
         "part-00465",
         67108820,
         1436493380000
        ],
        [
         "dbfs:/databricks-datasets/airlines/part-00466",
         "part-00466",
         67108897,
         1436493381000
        ],
        [
         "dbfs:/databricks-datasets/airlines/part-00467",
         "part-00467",
         67108801,
         1436493381000
        ],
        [
         "dbfs:/databricks-datasets/airlines/part-00468",
         "part-00468",
         67108858,
         1436493382000
        ],
        [
         "dbfs:/databricks-datasets/airlines/part-00469",
         "part-00469",
         67108851,
         1436493382000
        ],
        [
         "dbfs:/databricks-datasets/airlines/part-00470",
         "part-00470",
         67108896,
         1436493382000
        ],
        [
         "dbfs:/databricks-datasets/airlines/part-00471",
         "part-00471",
         67108864,
         1436493383000
        ],
        [
         "dbfs:/databricks-datasets/airlines/part-00472",
         "part-00472",
         67108836,
         1436493383000
        ],
        [
         "dbfs:/databricks-datasets/airlines/part-00473",
         "part-00473",
         67108895,
         1436493384000
        ],
        [
         "dbfs:/databricks-datasets/airlines/part-00474",
         "part-00474",
         67108925,
         1436493384000
        ],
        [
         "dbfs:/databricks-datasets/airlines/part-00475",
         "part-00475",
         67108798,
         1436493385000
        ],
        [
         "dbfs:/databricks-datasets/airlines/part-00476",
         "part-00476",
         67108848,
         1436493385000
        ],
        [
         "dbfs:/databricks-datasets/airlines/part-00477",
         "part-00477",
         67108886,
         1436493386000
        ],
        [
         "dbfs:/databricks-datasets/airlines/part-00478",
         "part-00478",
         67108929,
         1436493386000
        ],
        [
         "dbfs:/databricks-datasets/airlines/part-00479",
         "part-00479",
         67108775,
         1436493387000
        ],
        [
         "dbfs:/databricks-datasets/airlines/part-00480",
         "part-00480",
         67108858,
         1436493387000
        ],
        [
         "dbfs:/databricks-datasets/airlines/part-00481",
         "part-00481",
         67108934,
         1436493388000
        ],
        [
         "dbfs:/databricks-datasets/airlines/part-00482",
         "part-00482",
         67108837,
         1436493388000
        ],
        [
         "dbfs:/databricks-datasets/airlines/part-00483",
         "part-00483",
         67108881,
         1436493389000
        ],
        [
         "dbfs:/databricks-datasets/airlines/part-00484",
         "part-00484",
         67108816,
         1436493389000
        ],
        [
         "dbfs:/databricks-datasets/airlines/part-00485",
         "part-00485",
         67108842,
         1436493389000
        ],
        [
         "dbfs:/databricks-datasets/airlines/part-00486",
         "part-00486",
         67108920,
         1436493390000
        ],
        [
         "dbfs:/databricks-datasets/airlines/part-00487",
         "part-00487",
         67108858,
         1436493390000
        ],
        [
         "dbfs:/databricks-datasets/airlines/part-00488",
         "part-00488",
         67108888,
         1436493391000
        ],
        [
         "dbfs:/databricks-datasets/airlines/part-00489",
         "part-00489",
         67108820,
         1436493391000
        ],
        [
         "dbfs:/databricks-datasets/airlines/part-00490",
         "part-00490",
         67108937,
         1436493391000
        ],
        [
         "dbfs:/databricks-datasets/airlines/part-00491",
         "part-00491",
         67108776,
         1436493392000
        ],
        [
         "dbfs:/databricks-datasets/airlines/part-00492",
         "part-00492",
         67108955,
         1436493392000
        ],
        [
         "dbfs:/databricks-datasets/airlines/part-00493",
         "part-00493",
         67586354,
         1436493393000
        ],
        [
         "dbfs:/databricks-datasets/airlines/part-00494",
         "part-00494",
         67768623,
         1436493393000
        ],
        [
         "dbfs:/databricks-datasets/airlines/part-00495",
         "part-00495",
         67775866,
         1436493393000
        ],
        [
         "dbfs:/databricks-datasets/airlines/part-00496",
         "part-00496",
         67863642,
         1436493394000
        ],
        [
         "dbfs:/databricks-datasets/airlines/part-00497",
         "part-00497",
         67873585,
         1436493394000
        ],
        [
         "dbfs:/databricks-datasets/airlines/part-00498",
         "part-00498",
         67851693,
         1436493395000
        ],
        [
         "dbfs:/databricks-datasets/airlines/part-00499",
         "part-00499",
         67790832,
         1436493395000
        ],
        [
         "dbfs:/databricks-datasets/airlines/part-00500",
         "part-00500",
         67927136,
         1436493396000
        ],
        [
         "dbfs:/databricks-datasets/airlines/part-00501",
         "part-00501",
         67805799,
         1436493396000
        ],
        [
         "dbfs:/databricks-datasets/airlines/part-00502",
         "part-00502",
         67819793,
         1436493396000
        ],
        [
         "dbfs:/databricks-datasets/airlines/part-00503",
         "part-00503",
         67742992,
         1436493397000
        ],
        [
         "dbfs:/databricks-datasets/airlines/part-00504",
         "part-00504",
         67443592,
         1436493397000
        ],
        [
         "dbfs:/databricks-datasets/airlines/part-00505",
         "part-00505",
         67108809,
         1436493398000
        ],
        [
         "dbfs:/databricks-datasets/airlines/part-00506",
         "part-00506",
         67108890,
         1436493398000
        ],
        [
         "dbfs:/databricks-datasets/airlines/part-00507",
         "part-00507",
         67108879,
         1436493399000
        ],
        [
         "dbfs:/databricks-datasets/airlines/part-00508",
         "part-00508",
         67108811,
         1436493399000
        ],
        [
         "dbfs:/databricks-datasets/airlines/part-00509",
         "part-00509",
         67108851,
         1436493399000
        ],
        [
         "dbfs:/databricks-datasets/airlines/part-00510",
         "part-00510",
         67108885,
         1436493400000
        ],
        [
         "dbfs:/databricks-datasets/airlines/part-00511",
         "part-00511",
         67108944,
         1436493400000
        ],
        [
         "dbfs:/databricks-datasets/airlines/part-00512",
         "part-00512",
         67108765,
         1436493401000
        ],
        [
         "dbfs:/databricks-datasets/airlines/part-00513",
         "part-00513",
         67108920,
         1436493401000
        ],
        [
         "dbfs:/databricks-datasets/airlines/part-00514",
         "part-00514",
         67108855,
         1436493401000
        ],
        [
         "dbfs:/databricks-datasets/airlines/part-00515",
         "part-00515",
         67108907,
         1436493402000
        ],
        [
         "dbfs:/databricks-datasets/airlines/part-00516",
         "part-00516",
         67108834,
         1436493402000
        ],
        [
         "dbfs:/databricks-datasets/airlines/part-00517",
         "part-00517",
         67108885,
         1436493403000
        ],
        [
         "dbfs:/databricks-datasets/airlines/part-00518",
         "part-00518",
         67108854,
         1436493403000
        ],
        [
         "dbfs:/databricks-datasets/airlines/part-00519",
         "part-00519",
         67108842,
         1436493403000
        ],
        [
         "dbfs:/databricks-datasets/airlines/part-00520",
         "part-00520",
         67108873,
         1436493404000
        ],
        [
         "dbfs:/databricks-datasets/airlines/part-00521",
         "part-00521",
         67108890,
         1436493404000
        ],
        [
         "dbfs:/databricks-datasets/airlines/part-00522",
         "part-00522",
         67108816,
         1436493404000
        ],
        [
         "dbfs:/databricks-datasets/airlines/part-00523",
         "part-00523",
         67108882,
         1436493405000
        ],
        [
         "dbfs:/databricks-datasets/airlines/part-00524",
         "part-00524",
         67108853,
         1436493405000
        ],
        [
         "dbfs:/databricks-datasets/airlines/part-00525",
         "part-00525",
         67108852,
         1436493406000
        ],
        [
         "dbfs:/databricks-datasets/airlines/part-00526",
         "part-00526",
         67108851,
         1436493406000
        ],
        [
         "dbfs:/databricks-datasets/airlines/part-00527",
         "part-00527",
         67108934,
         1436493406000
        ],
        [
         "dbfs:/databricks-datasets/airlines/part-00528",
         "part-00528",
         67108795,
         1436493407000
        ],
        [
         "dbfs:/databricks-datasets/airlines/part-00529",
         "part-00529",
         67108897,
         1436493407000
        ],
        [
         "dbfs:/databricks-datasets/airlines/part-00530",
         "part-00530",
         67108827,
         1436493408000
        ],
        [
         "dbfs:/databricks-datasets/airlines/part-00531",
         "part-00531",
         67108863,
         1436493408000
        ],
        [
         "dbfs:/databricks-datasets/airlines/part-00532",
         "part-00532",
         67108930,
         1436493409000
        ],
        [
         "dbfs:/databricks-datasets/airlines/part-00533",
         "part-00533",
         67108858,
         1436493409000
        ],
        [
         "dbfs:/databricks-datasets/airlines/part-00534",
         "part-00534",
         67108809,
         1436493409000
        ],
        [
         "dbfs:/databricks-datasets/airlines/part-00535",
         "part-00535",
         67108919,
         1436493410000
        ],
        [
         "dbfs:/databricks-datasets/airlines/part-00536",
         "part-00536",
         67108821,
         1436493410000
        ],
        [
         "dbfs:/databricks-datasets/airlines/part-00537",
         "part-00537",
         67108878,
         1436493410000
        ],
        [
         "dbfs:/databricks-datasets/airlines/part-00538",
         "part-00538",
         67108828,
         1436493411000
        ],
        [
         "dbfs:/databricks-datasets/airlines/part-00539",
         "part-00539",
         67108911,
         1436493411000
        ],
        [
         "dbfs:/databricks-datasets/airlines/part-00540",
         "part-00540",
         67108838,
         1436493412000
        ],
        [
         "dbfs:/databricks-datasets/airlines/part-00541",
         "part-00541",
         67108835,
         1436493412000
        ],
        [
         "dbfs:/databricks-datasets/airlines/part-00542",
         "part-00542",
         67108948,
         1436493413000
        ],
        [
         "dbfs:/databricks-datasets/airlines/part-00543",
         "part-00543",
         67108845,
         1436493413000
        ],
        [
         "dbfs:/databricks-datasets/airlines/part-00544",
         "part-00544",
         67108842,
         1436493413000
        ],
        [
         "dbfs:/databricks-datasets/airlines/part-00545",
         "part-00545",
         67108819,
         1436493414000
        ],
        [
         "dbfs:/databricks-datasets/airlines/part-00546",
         "part-00546",
         67108950,
         1436493414000
        ],
        [
         "dbfs:/databricks-datasets/airlines/part-00547",
         "part-00547",
         67108829,
         1436493415000
        ],
        [
         "dbfs:/databricks-datasets/airlines/part-00548",
         "part-00548",
         67108881,
         1436493415000
        ],
        [
         "dbfs:/databricks-datasets/airlines/part-00549",
         "part-00549",
         67108877,
         1436493415000
        ],
        [
         "dbfs:/databricks-datasets/airlines/part-00550",
         "part-00550",
         67108822,
         1436493416000
        ],
        [
         "dbfs:/databricks-datasets/airlines/part-00551",
         "part-00551",
         67108850,
         1436493416000
        ],
        [
         "dbfs:/databricks-datasets/airlines/part-00552",
         "part-00552",
         67108886,
         1436493416000
        ],
        [
         "dbfs:/databricks-datasets/airlines/part-00553",
         "part-00553",
         67108875,
         1436493417000
        ],
        [
         "dbfs:/databricks-datasets/airlines/part-00554",
         "part-00554",
         67108845,
         1436493417000
        ],
        [
         "dbfs:/databricks-datasets/airlines/part-00555",
         "part-00555",
         67108918,
         1436493418000
        ],
        [
         "dbfs:/databricks-datasets/airlines/part-00556",
         "part-00556",
         67108774,
         1436493418000
        ],
        [
         "dbfs:/databricks-datasets/airlines/part-00557",
         "part-00557",
         67108897,
         1436493418000
        ],
        [
         "dbfs:/databricks-datasets/airlines/part-00558",
         "part-00558",
         67108872,
         1436493419000
        ],
        [
         "dbfs:/databricks-datasets/airlines/part-00559",
         "part-00559",
         67108912,
         1436493419000
        ],
        [
         "dbfs:/databricks-datasets/airlines/part-00560",
         "part-00560",
         67108798,
         1436493419000
        ],
        [
         "dbfs:/databricks-datasets/airlines/part-00561",
         "part-00561",
         67108903,
         1436493420000
        ],
        [
         "dbfs:/databricks-datasets/airlines/part-00562",
         "part-00562",
         67108852,
         1436493420000
        ],
        [
         "dbfs:/databricks-datasets/airlines/part-00563",
         "part-00563",
         67108890,
         1436493421000
        ],
        [
         "dbfs:/databricks-datasets/airlines/part-00564",
         "part-00564",
         67108790,
         1436493421000
        ],
        [
         "dbfs:/databricks-datasets/airlines/part-00565",
         "part-00565",
         67108920,
         1436493422000
        ],
        [
         "dbfs:/databricks-datasets/airlines/part-00566",
         "part-00566",
         67108847,
         1436493422000
        ],
        [
         "dbfs:/databricks-datasets/airlines/part-00567",
         "part-00567",
         67108889,
         1436493422000
        ],
        [
         "dbfs:/databricks-datasets/airlines/part-00568",
         "part-00568",
         67108843,
         1436493423000
        ],
        [
         "dbfs:/databricks-datasets/airlines/part-00569",
         "part-00569",
         67108878,
         1436493423000
        ],
        [
         "dbfs:/databricks-datasets/airlines/part-00570",
         "part-00570",
         67108903,
         1436493424000
        ],
        [
         "dbfs:/databricks-datasets/airlines/part-00571",
         "part-00571",
         67108772,
         1436493424000
        ],
        [
         "dbfs:/databricks-datasets/airlines/part-00572",
         "part-00572",
         67108874,
         1436493424000
        ],
        [
         "dbfs:/databricks-datasets/airlines/part-00573",
         "part-00573",
         67108921,
         1436493425000
        ],
        [
         "dbfs:/databricks-datasets/airlines/part-00574",
         "part-00574",
         67108829,
         1436493425000
        ],
        [
         "dbfs:/databricks-datasets/airlines/part-00575",
         "part-00575",
         67108912,
         1436493425000
        ],
        [
         "dbfs:/databricks-datasets/airlines/part-00576",
         "part-00576",
         67108845,
         1436493426000
        ],
        [
         "dbfs:/databricks-datasets/airlines/part-00577",
         "part-00577",
         67108859,
         1436493426000
        ],
        [
         "dbfs:/databricks-datasets/airlines/part-00578",
         "part-00578",
         67108860,
         1436493427000
        ],
        [
         "dbfs:/databricks-datasets/airlines/part-00579",
         "part-00579",
         67108841,
         1436493427000
        ],
        [
         "dbfs:/databricks-datasets/airlines/part-00580",
         "part-00580",
         67108871,
         1436493427000
        ],
        [
         "dbfs:/databricks-datasets/airlines/part-00581",
         "part-00581",
         67108835,
         1436493428000
        ],
        [
         "dbfs:/databricks-datasets/airlines/part-00582",
         "part-00582",
         67108932,
         1436493428000
        ],
        [
         "dbfs:/databricks-datasets/airlines/part-00583",
         "part-00583",
         67108779,
         1436493428000
        ],
        [
         "dbfs:/databricks-datasets/airlines/part-00584",
         "part-00584",
         67108947,
         1436493429000
        ],
        [
         "dbfs:/databricks-datasets/airlines/part-00585",
         "part-00585",
         67108849,
         1436493429000
        ],
        [
         "dbfs:/databricks-datasets/airlines/part-00586",
         "part-00586",
         67108860,
         1436493430000
        ],
        [
         "dbfs:/databricks-datasets/airlines/part-00587",
         "part-00587",
         67108809,
         1436493430000
        ],
        [
         "dbfs:/databricks-datasets/airlines/part-00588",
         "part-00588",
         67108950,
         1436493431000
        ],
        [
         "dbfs:/databricks-datasets/airlines/part-00589",
         "part-00589",
         67108777,
         1436493431000
        ],
        [
         "dbfs:/databricks-datasets/airlines/part-00590",
         "part-00590",
         67108946,
         1436493431000
        ],
        [
         "dbfs:/databricks-datasets/airlines/part-00591",
         "part-00591",
         67108874,
         1436493432000
        ],
        [
         "dbfs:/databricks-datasets/airlines/part-00592",
         "part-00592",
         67108810,
         1436493432000
        ],
        [
         "dbfs:/databricks-datasets/airlines/part-00593",
         "part-00593",
         67108834,
         1436493433000
        ],
        [
         "dbfs:/databricks-datasets/airlines/part-00594",
         "part-00594",
         67108913,
         1436493433000
        ],
        [
         "dbfs:/databricks-datasets/airlines/part-00595",
         "part-00595",
         67108899,
         1436493433000
        ],
        [
         "dbfs:/databricks-datasets/airlines/part-00596",
         "part-00596",
         67108770,
         1436493434000
        ],
        [
         "dbfs:/databricks-datasets/airlines/part-00597",
         "part-00597",
         67108942,
         1436493434000
        ],
        [
         "dbfs:/databricks-datasets/airlines/part-00598",
         "part-00598",
         67108831,
         1436493434000
        ],
        [
         "dbfs:/databricks-datasets/airlines/part-00599",
         "part-00599",
         67108834,
         1436493435000
        ],
        [
         "dbfs:/databricks-datasets/airlines/part-00600",
         "part-00600",
         67108882,
         1436493435000
        ],
        [
         "dbfs:/databricks-datasets/airlines/part-00601",
         "part-00601",
         67108911,
         1436493435000
        ],
        [
         "dbfs:/databricks-datasets/airlines/part-00602",
         "part-00602",
         67108878,
         1436493436000
        ],
        [
         "dbfs:/databricks-datasets/airlines/part-00603",
         "part-00603",
         67108831,
         1436493436000
        ],
        [
         "dbfs:/databricks-datasets/airlines/part-00604",
         "part-00604",
         67108799,
         1436493437000
        ],
        [
         "dbfs:/databricks-datasets/airlines/part-00605",
         "part-00605",
         67108907,
         1436493437000
        ],
        [
         "dbfs:/databricks-datasets/airlines/part-00606",
         "part-00606",
         67108880,
         1436493438000
        ],
        [
         "dbfs:/databricks-datasets/airlines/part-00607",
         "part-00607",
         67108886,
         1436493438000
        ],
        [
         "dbfs:/databricks-datasets/airlines/part-00608",
         "part-00608",
         67108849,
         1436493438000
        ],
        [
         "dbfs:/databricks-datasets/airlines/part-00609",
         "part-00609",
         67108854,
         1436493439000
        ],
        [
         "dbfs:/databricks-datasets/airlines/part-00610",
         "part-00610",
         67108842,
         1436493439000
        ],
        [
         "dbfs:/databricks-datasets/airlines/part-00611",
         "part-00611",
         67108844,
         1436493440000
        ],
        [
         "dbfs:/databricks-datasets/airlines/part-00612",
         "part-00612",
         67108926,
         1436493440000
        ],
        [
         "dbfs:/databricks-datasets/airlines/part-00613",
         "part-00613",
         67108814,
         1436493441000
        ],
        [
         "dbfs:/databricks-datasets/airlines/part-00614",
         "part-00614",
         67108847,
         1436493441000
        ],
        [
         "dbfs:/databricks-datasets/airlines/part-00615",
         "part-00615",
         67108922,
         1436493441000
        ],
        [
         "dbfs:/databricks-datasets/airlines/part-00616",
         "part-00616",
         67108872,
         1436493442000
        ],
        [
         "dbfs:/databricks-datasets/airlines/part-00617",
         "part-00617",
         67108874,
         1436493442000
        ],
        [
         "dbfs:/databricks-datasets/airlines/part-00618",
         "part-00618",
         67108859,
         1436493443000
        ],
        [
         "dbfs:/databricks-datasets/airlines/part-00619",
         "part-00619",
         67108847,
         1436493443000
        ],
        [
         "dbfs:/databricks-datasets/airlines/part-00620",
         "part-00620",
         67108855,
         1436493443000
        ],
        [
         "dbfs:/databricks-datasets/airlines/part-00621",
         "part-00621",
         67108841,
         1436493444000
        ],
        [
         "dbfs:/databricks-datasets/airlines/part-00622",
         "part-00622",
         67108900,
         1436493444000
        ],
        [
         "dbfs:/databricks-datasets/airlines/part-00623",
         "part-00623",
         67108829,
         1436493444000
        ],
        [
         "dbfs:/databricks-datasets/airlines/part-00624",
         "part-00624",
         67108919,
         1436493445000
        ],
        [
         "dbfs:/databricks-datasets/airlines/part-00625",
         "part-00625",
         67108864,
         1436493445000
        ],
        [
         "dbfs:/databricks-datasets/airlines/part-00626",
         "part-00626",
         67108820,
         1436493446000
        ],
        [
         "dbfs:/databricks-datasets/airlines/part-00627",
         "part-00627",
         67108873,
         1436493446000
        ],
        [
         "dbfs:/databricks-datasets/airlines/part-00628",
         "part-00628",
         67108831,
         1436493447000
        ],
        [
         "dbfs:/databricks-datasets/airlines/part-00629",
         "part-00629",
         67108859,
         1436493447000
        ],
        [
         "dbfs:/databricks-datasets/airlines/part-00630",
         "part-00630",
         67108905,
         1436493447000
        ],
        [
         "dbfs:/databricks-datasets/airlines/part-00631",
         "part-00631",
         67108843,
         1436493448000
        ],
        [
         "dbfs:/databricks-datasets/airlines/part-00632",
         "part-00632",
         67108847,
         1436493448000
        ],
        [
         "dbfs:/databricks-datasets/airlines/part-00633",
         "part-00633",
         67108929,
         1436493449000
        ],
        [
         "dbfs:/databricks-datasets/airlines/part-00634",
         "part-00634",
         67108837,
         1436493449000
        ],
        [
         "dbfs:/databricks-datasets/airlines/part-00635",
         "part-00635",
         67108808,
         1436493449000
        ],
        [
         "dbfs:/databricks-datasets/airlines/part-00636",
         "part-00636",
         67108919,
         1436493450000
        ],
        [
         "dbfs:/databricks-datasets/airlines/part-00637",
         "part-00637",
         67108897,
         1436493450000
        ],
        [
         "dbfs:/databricks-datasets/airlines/part-00638",
         "part-00638",
         67108862,
         1436493451000
        ],
        [
         "dbfs:/databricks-datasets/airlines/part-00639",
         "part-00639",
         67108870,
         1436493451000
        ],
        [
         "dbfs:/databricks-datasets/airlines/part-00640",
         "part-00640",
         67108841,
         1436493452000
        ],
        [
         "dbfs:/databricks-datasets/airlines/part-00641",
         "part-00641",
         67108869,
         1436493452000
        ],
        [
         "dbfs:/databricks-datasets/airlines/part-00642",
         "part-00642",
         67108853,
         1436493453000
        ],
        [
         "dbfs:/databricks-datasets/airlines/part-00643",
         "part-00643",
         67108815,
         1436493453000
        ],
        [
         "dbfs:/databricks-datasets/airlines/part-00644",
         "part-00644",
         67108900,
         1436493454000
        ],
        [
         "dbfs:/databricks-datasets/airlines/part-00645",
         "part-00645",
         67108873,
         1436493454000
        ],
        [
         "dbfs:/databricks-datasets/airlines/part-00646",
         "part-00646",
         67108896,
         1436493455000
        ],
        [
         "dbfs:/databricks-datasets/airlines/part-00647",
         "part-00647",
         67108865,
         1436493456000
        ],
        [
         "dbfs:/databricks-datasets/airlines/part-00648",
         "part-00648",
         67108824,
         1436493456000
        ],
        [
         "dbfs:/databricks-datasets/airlines/part-00649",
         "part-00649",
         67108847,
         1436493457000
        ],
        [
         "dbfs:/databricks-datasets/airlines/part-00650",
         "part-00650",
         67108893,
         1436493457000
        ],
        [
         "dbfs:/databricks-datasets/airlines/part-00651",
         "part-00651",
         67108891,
         1436493458000
        ],
        [
         "dbfs:/databricks-datasets/airlines/part-00652",
         "part-00652",
         67108830,
         1436493458000
        ],
        [
         "dbfs:/databricks-datasets/airlines/part-00653",
         "part-00653",
         67108879,
         1436493459000
        ],
        [
         "dbfs:/databricks-datasets/airlines/part-00654",
         "part-00654",
         67108870,
         1436493459000
        ],
        [
         "dbfs:/databricks-datasets/airlines/part-00655",
         "part-00655",
         67108830,
         1436493460000
        ],
        [
         "dbfs:/databricks-datasets/airlines/part-00656",
         "part-00656",
         67108897,
         1436493461000
        ],
        [
         "dbfs:/databricks-datasets/airlines/part-00657",
         "part-00657",
         67108811,
         1436493461000
        ],
        [
         "dbfs:/databricks-datasets/airlines/part-00658",
         "part-00658",
         67108928,
         1436493462000
        ],
        [
         "dbfs:/databricks-datasets/airlines/part-00659",
         "part-00659",
         67108827,
         1436493462000
        ],
        [
         "dbfs:/databricks-datasets/airlines/part-00660",
         "part-00660",
         67108867,
         1436493463000
        ],
        [
         "dbfs:/databricks-datasets/airlines/part-00661",
         "part-00661",
         67108824,
         1436493463000
        ],
        [
         "dbfs:/databricks-datasets/airlines/part-00662",
         "part-00662",
         67108948,
         1436493464000
        ],
        [
         "dbfs:/databricks-datasets/airlines/part-00663",
         "part-00663",
         67108772,
         1436493464000
        ],
        [
         "dbfs:/databricks-datasets/airlines/part-00664",
         "part-00664",
         67108957,
         1436493465000
        ],
        [
         "dbfs:/databricks-datasets/airlines/part-00665",
         "part-00665",
         67108816,
         1436493466000
        ],
        [
         "dbfs:/databricks-datasets/airlines/part-00666",
         "part-00666",
         67108908,
         1436493466000
        ],
        [
         "dbfs:/databricks-datasets/airlines/part-00667",
         "part-00667",
         67108820,
         1436493467000
        ],
        [
         "dbfs:/databricks-datasets/airlines/part-00668",
         "part-00668",
         67108813,
         1436493467000
        ],
        [
         "dbfs:/databricks-datasets/airlines/part-00669",
         "part-00669",
         67108925,
         1436493468000
        ],
        [
         "dbfs:/databricks-datasets/airlines/part-00670",
         "part-00670",
         67108837,
         1436493468000
        ],
        [
         "dbfs:/databricks-datasets/airlines/part-00671",
         "part-00671",
         67108907,
         1436493469000
        ],
        [
         "dbfs:/databricks-datasets/airlines/part-00672",
         "part-00672",
         67108801,
         1436493469000
        ],
        [
         "dbfs:/databricks-datasets/airlines/part-00673",
         "part-00673",
         67108852,
         1436493470000
        ],
        [
         "dbfs:/databricks-datasets/airlines/part-00674",
         "part-00674",
         67108891,
         1436493470000
        ],
        [
         "dbfs:/databricks-datasets/airlines/part-00675",
         "part-00675",
         67108886,
         1436493471000
        ],
        [
         "dbfs:/databricks-datasets/airlines/part-00676",
         "part-00676",
         67108847,
         1436493472000
        ],
        [
         "dbfs:/databricks-datasets/airlines/part-00677",
         "part-00677",
         67108898,
         1436493472000
        ],
        [
         "dbfs:/databricks-datasets/airlines/part-00678",
         "part-00678",
         67108830,
         1436493473000
        ],
        [
         "dbfs:/databricks-datasets/airlines/part-00679",
         "part-00679",
         67108931,
         1436493473000
        ],
        [
         "dbfs:/databricks-datasets/airlines/part-00680",
         "part-00680",
         67108780,
         1436493474000
        ],
        [
         "dbfs:/databricks-datasets/airlines/part-00681",
         "part-00681",
         67108903,
         1436493474000
        ],
        [
         "dbfs:/databricks-datasets/airlines/part-00682",
         "part-00682",
         67108885,
         1436493475000
        ],
        [
         "dbfs:/databricks-datasets/airlines/part-00683",
         "part-00683",
         67108805,
         1436493475000
        ],
        [
         "dbfs:/databricks-datasets/airlines/part-00684",
         "part-00684",
         67108923,
         1436493476000
        ],
        [
         "dbfs:/databricks-datasets/airlines/part-00685",
         "part-00685",
         67591887,
         1436493476000
        ],
        [
         "dbfs:/databricks-datasets/airlines/part-00686",
         "part-00686",
         67768861,
         1436493476000
        ],
        [
         "dbfs:/databricks-datasets/airlines/part-00687",
         "part-00687",
         67828831,
         1436493477000
        ],
        [
         "dbfs:/databricks-datasets/airlines/part-00688",
         "part-00688",
         67805254,
         1436493477000
        ],
        [
         "dbfs:/databricks-datasets/airlines/part-00689",
         "part-00689",
         67906188,
         1436493478000
        ],
        [
         "dbfs:/databricks-datasets/airlines/part-00690",
         "part-00690",
         67827621,
         1436493478000
        ],
        [
         "dbfs:/databricks-datasets/airlines/part-00691",
         "part-00691",
         67801283,
         1436493478000
        ],
        [
         "dbfs:/databricks-datasets/airlines/part-00692",
         "part-00692",
         67948508,
         1436493479000
        ],
        [
         "dbfs:/databricks-datasets/airlines/part-00693",
         "part-00693",
         67797060,
         1436493479000
        ],
        [
         "dbfs:/databricks-datasets/airlines/part-00694",
         "part-00694",
         67812366,
         1436493480000
        ],
        [
         "dbfs:/databricks-datasets/airlines/part-00695",
         "part-00695",
         67741501,
         1436493480000
        ],
        [
         "dbfs:/databricks-datasets/airlines/part-00696",
         "part-00696",
         67420515,
         1436493481000
        ],
        [
         "dbfs:/databricks-datasets/airlines/part-00697",
         "part-00697",
         67108917,
         1436493481000
        ],
        [
         "dbfs:/databricks-datasets/airlines/part-00698",
         "part-00698",
         67108830,
         1436493482000
        ],
        [
         "dbfs:/databricks-datasets/airlines/part-00699",
         "part-00699",
         67108866,
         1436493482000
        ],
        [
         "dbfs:/databricks-datasets/airlines/part-00700",
         "part-00700",
         67108840,
         1436493483000
        ],
        [
         "dbfs:/databricks-datasets/airlines/part-00701",
         "part-00701",
         67108958,
         1436493483000
        ],
        [
         "dbfs:/databricks-datasets/airlines/part-00702",
         "part-00702",
         67108833,
         1436493483000
        ],
        [
         "dbfs:/databricks-datasets/airlines/part-00703",
         "part-00703",
         67108862,
         1436493484000
        ],
        [
         "dbfs:/databricks-datasets/airlines/part-00704",
         "part-00704",
         67108850,
         1436493484000
        ],
        [
         "dbfs:/databricks-datasets/airlines/part-00705",
         "part-00705",
         67108890,
         1436493485000
        ],
        [
         "dbfs:/databricks-datasets/airlines/part-00706",
         "part-00706",
         67108848,
         1436493485000
        ],
        [
         "dbfs:/databricks-datasets/airlines/part-00707",
         "part-00707",
         67108802,
         1436493486000
        ],
        [
         "dbfs:/databricks-datasets/airlines/part-00708",
         "part-00708",
         67108915,
         1436493486000
        ],
        [
         "dbfs:/databricks-datasets/airlines/part-00709",
         "part-00709",
         67108887,
         1436493486000
        ],
        [
         "dbfs:/databricks-datasets/airlines/part-00710",
         "part-00710",
         67108812,
         1436493487000
        ],
        [
         "dbfs:/databricks-datasets/airlines/part-00711",
         "part-00711",
         67108866,
         1436493487000
        ],
        [
         "dbfs:/databricks-datasets/airlines/part-00712",
         "part-00712",
         67108863,
         1436493488000
        ],
        [
         "dbfs:/databricks-datasets/airlines/part-00713",
         "part-00713",
         67108859,
         1436493488000
        ],
        [
         "dbfs:/databricks-datasets/airlines/part-00714",
         "part-00714",
         67108888,
         1436493489000
        ],
        [
         "dbfs:/databricks-datasets/airlines/part-00715",
         "part-00715",
         67108837,
         1436493489000
        ],
        [
         "dbfs:/databricks-datasets/airlines/part-00716",
         "part-00716",
         67108928,
         1436493489000
        ],
        [
         "dbfs:/databricks-datasets/airlines/part-00717",
         "part-00717",
         67108779,
         1436493490000
        ],
        [
         "dbfs:/databricks-datasets/airlines/part-00718",
         "part-00718",
         67108921,
         1436493490000
        ],
        [
         "dbfs:/databricks-datasets/airlines/part-00719",
         "part-00719",
         67108888,
         1436493491000
        ],
        [
         "dbfs:/databricks-datasets/airlines/part-00720",
         "part-00720",
         67108812,
         1436493491000
        ],
        [
         "dbfs:/databricks-datasets/airlines/part-00721",
         "part-00721",
         67108919,
         1436493492000
        ],
        [
         "dbfs:/databricks-datasets/airlines/part-00722",
         "part-00722",
         67108784,
         1436493492000
        ],
        [
         "dbfs:/databricks-datasets/airlines/part-00723",
         "part-00723",
         67108857,
         1436493493000
        ],
        [
         "dbfs:/databricks-datasets/airlines/part-00724",
         "part-00724",
         67108911,
         1436493493000
        ],
        [
         "dbfs:/databricks-datasets/airlines/part-00725",
         "part-00725",
         67108863,
         1436493494000
        ],
        [
         "dbfs:/databricks-datasets/airlines/part-00726",
         "part-00726",
         67108874,
         1436493494000
        ],
        [
         "dbfs:/databricks-datasets/airlines/part-00727",
         "part-00727",
         67108830,
         1436493495000
        ],
        [
         "dbfs:/databricks-datasets/airlines/part-00728",
         "part-00728",
         67108861,
         1436493495000
        ],
        [
         "dbfs:/databricks-datasets/airlines/part-00729",
         "part-00729",
         67108880,
         1436493495000
        ],
        [
         "dbfs:/databricks-datasets/airlines/part-00730",
         "part-00730",
         67108831,
         1436493496000
        ],
        [
         "dbfs:/databricks-datasets/airlines/part-00731",
         "part-00731",
         67108932,
         1436493496000
        ],
        [
         "dbfs:/databricks-datasets/airlines/part-00732",
         "part-00732",
         67108839,
         1436493496000
        ],
        [
         "dbfs:/databricks-datasets/airlines/part-00733",
         "part-00733",
         67108821,
         1436493497000
        ],
        [
         "dbfs:/databricks-datasets/airlines/part-00734",
         "part-00734",
         67108903,
         1436493497000
        ],
        [
         "dbfs:/databricks-datasets/airlines/part-00735",
         "part-00735",
         67108867,
         1436493498000
        ],
        [
         "dbfs:/databricks-datasets/airlines/part-00736",
         "part-00736",
         67108865,
         1436493498000
        ],
        [
         "dbfs:/databricks-datasets/airlines/part-00737",
         "part-00737",
         67108854,
         1436493499000
        ],
        [
         "dbfs:/databricks-datasets/airlines/part-00738",
         "part-00738",
         67108829,
         1436493499000
        ],
        [
         "dbfs:/databricks-datasets/airlines/part-00739",
         "part-00739",
         67108870,
         1436493499000
        ],
        [
         "dbfs:/databricks-datasets/airlines/part-00740",
         "part-00740",
         67108871,
         1436493500000
        ],
        [
         "dbfs:/databricks-datasets/airlines/part-00741",
         "part-00741",
         67108852,
         1436493500000
        ],
        [
         "dbfs:/databricks-datasets/airlines/part-00742",
         "part-00742",
         67108932,
         1436493501000
        ],
        [
         "dbfs:/databricks-datasets/airlines/part-00743",
         "part-00743",
         67108847,
         1436493501000
        ],
        [
         "dbfs:/databricks-datasets/airlines/part-00744",
         "part-00744",
         67108895,
         1436493501000
        ],
        [
         "dbfs:/databricks-datasets/airlines/part-00745",
         "part-00745",
         67108800,
         1436493502000
        ],
        [
         "dbfs:/databricks-datasets/airlines/part-00746",
         "part-00746",
         67108877,
         1436493502000
        ],
        [
         "dbfs:/databricks-datasets/airlines/part-00747",
         "part-00747",
         67108933,
         1436493503000
        ],
        [
         "dbfs:/databricks-datasets/airlines/part-00748",
         "part-00748",
         67108829,
         1436493503000
        ],
        [
         "dbfs:/databricks-datasets/airlines/part-00749",
         "part-00749",
         67108852,
         1436493504000
        ],
        [
         "dbfs:/databricks-datasets/airlines/part-00750",
         "part-00750",
         67108857,
         1436493504000
        ],
        [
         "dbfs:/databricks-datasets/airlines/part-00751",
         "part-00751",
         67108882,
         1436493504000
        ],
        [
         "dbfs:/databricks-datasets/airlines/part-00752",
         "part-00752",
         67108803,
         1436493505000
        ],
        [
         "dbfs:/databricks-datasets/airlines/part-00753",
         "part-00753",
         67108926,
         1436493505000
        ],
        [
         "dbfs:/databricks-datasets/airlines/part-00754",
         "part-00754",
         67108798,
         1436493506000
        ],
        [
         "dbfs:/databricks-datasets/airlines/part-00755",
         "part-00755",
         67108889,
         1436493506000
        ],
        [
         "dbfs:/databricks-datasets/airlines/part-00756",
         "part-00756",
         67108887,
         1436493506000
        ],
        [
         "dbfs:/databricks-datasets/airlines/part-00757",
         "part-00757",
         67108914,
         1436493507000
        ],
        [
         "dbfs:/databricks-datasets/airlines/part-00758",
         "part-00758",
         67108812,
         1436493507000
        ],
        [
         "dbfs:/databricks-datasets/airlines/part-00759",
         "part-00759",
         67108914,
         1436493508000
        ],
        [
         "dbfs:/databricks-datasets/airlines/part-00760",
         "part-00760",
         67108829,
         1436493508000
        ],
        [
         "dbfs:/databricks-datasets/airlines/part-00761",
         "part-00761",
         67108860,
         1436493509000
        ],
        [
         "dbfs:/databricks-datasets/airlines/part-00762",
         "part-00762",
         67108880,
         1436493509000
        ],
        [
         "dbfs:/databricks-datasets/airlines/part-00763",
         "part-00763",
         67108804,
         1436493510000
        ],
        [
         "dbfs:/databricks-datasets/airlines/part-00764",
         "part-00764",
         67108939,
         1436493510000
        ],
        [
         "dbfs:/databricks-datasets/airlines/part-00765",
         "part-00765",
         67108817,
         1436493511000
        ],
        [
         "dbfs:/databricks-datasets/airlines/part-00766",
         "part-00766",
         67108887,
         1436493511000
        ],
        [
         "dbfs:/databricks-datasets/airlines/part-00767",
         "part-00767",
         67108832,
         1436493512000
        ],
        [
         "dbfs:/databricks-datasets/airlines/part-00768",
         "part-00768",
         67108836,
         1436493512000
        ],
        [
         "dbfs:/databricks-datasets/airlines/part-00769",
         "part-00769",
         67108901,
         1436493512000
        ],
        [
         "dbfs:/databricks-datasets/airlines/part-00770",
         "part-00770",
         67108920,
         1436493513000
        ],
        [
         "dbfs:/databricks-datasets/airlines/part-00771",
         "part-00771",
         67108799,
         1436493513000
        ],
        [
         "dbfs:/databricks-datasets/airlines/part-00772",
         "part-00772",
         67108837,
         1436493514000
        ],
        [
         "dbfs:/databricks-datasets/airlines/part-00773",
         "part-00773",
         67108913,
         1436493514000
        ],
        [
         "dbfs:/databricks-datasets/airlines/part-00774",
         "part-00774",
         67108883,
         1436493514000
        ],
        [
         "dbfs:/databricks-datasets/airlines/part-00775",
         "part-00775",
         67108875,
         1436493515000
        ],
        [
         "dbfs:/databricks-datasets/airlines/part-00776",
         "part-00776",
         67108840,
         1436493515000
        ],
        [
         "dbfs:/databricks-datasets/airlines/part-00777",
         "part-00777",
         67108874,
         1436493516000
        ],
        [
         "dbfs:/databricks-datasets/airlines/part-00778",
         "part-00778",
         67108832,
         1436493516000
        ],
        [
         "dbfs:/databricks-datasets/airlines/part-00779",
         "part-00779",
         67108861,
         1436493517000
        ],
        [
         "dbfs:/databricks-datasets/airlines/part-00780",
         "part-00780",
         67108901,
         1436493517000
        ],
        [
         "dbfs:/databricks-datasets/airlines/part-00781",
         "part-00781",
         67108807,
         1436493518000
        ],
        [
         "dbfs:/databricks-datasets/airlines/part-00782",
         "part-00782",
         67108875,
         1436493518000
        ],
        [
         "dbfs:/databricks-datasets/airlines/part-00783",
         "part-00783",
         67108890,
         1436493518000
        ],
        [
         "dbfs:/databricks-datasets/airlines/part-00784",
         "part-00784",
         67108831,
         1436493519000
        ],
        [
         "dbfs:/databricks-datasets/airlines/part-00785",
         "part-00785",
         67108877,
         1436493519000
        ],
        [
         "dbfs:/databricks-datasets/airlines/part-00786",
         "part-00786",
         67108908,
         1436493520000
        ],
        [
         "dbfs:/databricks-datasets/airlines/part-00787",
         "part-00787",
         67108794,
         1436493520000
        ],
        [
         "dbfs:/databricks-datasets/airlines/part-00788",
         "part-00788",
         67108910,
         1436493520000
        ],
        [
         "dbfs:/databricks-datasets/airlines/part-00789",
         "part-00789",
         67108830,
         1436493521000
        ],
        [
         "dbfs:/databricks-datasets/airlines/part-00790",
         "part-00790",
         67108933,
         1436493521000
        ],
        [
         "dbfs:/databricks-datasets/airlines/part-00791",
         "part-00791",
         67108820,
         1436493522000
        ],
        [
         "dbfs:/databricks-datasets/airlines/part-00792",
         "part-00792",
         67108832,
         1436493522000
        ],
        [
         "dbfs:/databricks-datasets/airlines/part-00793",
         "part-00793",
         67108959,
         1436493522000
        ],
        [
         "dbfs:/databricks-datasets/airlines/part-00794",
         "part-00794",
         67108828,
         1436493523000
        ],
        [
         "dbfs:/databricks-datasets/airlines/part-00795",
         "part-00795",
         67108835,
         1436493523000
        ],
        [
         "dbfs:/databricks-datasets/airlines/part-00796",
         "part-00796",
         67108879,
         1436493524000
        ],
        [
         "dbfs:/databricks-datasets/airlines/part-00797",
         "part-00797",
         67108856,
         1436493524000
        ],
        [
         "dbfs:/databricks-datasets/airlines/part-00798",
         "part-00798",
         67108879,
         1436493525000
        ],
        [
         "dbfs:/databricks-datasets/airlines/part-00799",
         "part-00799",
         67108844,
         1436493525000
        ],
        [
         "dbfs:/databricks-datasets/airlines/part-00800",
         "part-00800",
         67108822,
         1436493526000
        ],
        [
         "dbfs:/databricks-datasets/airlines/part-00801",
         "part-00801",
         67108948,
         1436493526000
        ],
        [
         "dbfs:/databricks-datasets/airlines/part-00802",
         "part-00802",
         67108780,
         1436493527000
        ],
        [
         "dbfs:/databricks-datasets/airlines/part-00803",
         "part-00803",
         67108927,
         1436493527000
        ],
        [
         "dbfs:/databricks-datasets/airlines/part-00804",
         "part-00804",
         67108861,
         1436493527000
        ],
        [
         "dbfs:/databricks-datasets/airlines/part-00805",
         "part-00805",
         67108819,
         1436493528000
        ],
        [
         "dbfs:/databricks-datasets/airlines/part-00806",
         "part-00806",
         67108850,
         1436493528000
        ],
        [
         "dbfs:/databricks-datasets/airlines/part-00807",
         "part-00807",
         67108934,
         1436493529000
        ],
        [
         "dbfs:/databricks-datasets/airlines/part-00808",
         "part-00808",
         67108828,
         1436493529000
        ],
        [
         "dbfs:/databricks-datasets/airlines/part-00809",
         "part-00809",
         67108903,
         1436493530000
        ],
        [
         "dbfs:/databricks-datasets/airlines/part-00810",
         "part-00810",
         67108827,
         1436493530000
        ],
        [
         "dbfs:/databricks-datasets/airlines/part-00811",
         "part-00811",
         67108890,
         1436493530000
        ],
        [
         "dbfs:/databricks-datasets/airlines/part-00812",
         "part-00812",
         67108836,
         1436493531000
        ],
        [
         "dbfs:/databricks-datasets/airlines/part-00813",
         "part-00813",
         67108924,
         1436493531000
        ],
        [
         "dbfs:/databricks-datasets/airlines/part-00814",
         "part-00814",
         67108816,
         1436493531000
        ],
        [
         "dbfs:/databricks-datasets/airlines/part-00815",
         "part-00815",
         67108863,
         1436493532000
        ],
        [
         "dbfs:/databricks-datasets/airlines/part-00816",
         "part-00816",
         67108904,
         1436493532000
        ],
        [
         "dbfs:/databricks-datasets/airlines/part-00817",
         "part-00817",
         67108790,
         1436493533000
        ],
        [
         "dbfs:/databricks-datasets/airlines/part-00818",
         "part-00818",
         67108921,
         1436493533000
        ],
        [
         "dbfs:/databricks-datasets/airlines/part-00819",
         "part-00819",
         67108837,
         1436493534000
        ],
        [
         "dbfs:/databricks-datasets/airlines/part-00820",
         "part-00820",
         67108870,
         1436493535000
        ],
        [
         "dbfs:/databricks-datasets/airlines/part-00821",
         "part-00821",
         67108902,
         1436493535000
        ],
        [
         "dbfs:/databricks-datasets/airlines/part-00822",
         "part-00822",
         67108818,
         1436493536000
        ],
        [
         "dbfs:/databricks-datasets/airlines/part-00823",
         "part-00823",
         67108915,
         1436493536000
        ],
        [
         "dbfs:/databricks-datasets/airlines/part-00824",
         "part-00824",
         67108870,
         1436493537000
        ],
        [
         "dbfs:/databricks-datasets/airlines/part-00825",
         "part-00825",
         67108779,
         1436493537000
        ],
        [
         "dbfs:/databricks-datasets/airlines/part-00826",
         "part-00826",
         67108862,
         1436493537000
        ],
        [
         "dbfs:/databricks-datasets/airlines/part-00827",
         "part-00827",
         67108902,
         1436493538000
        ],
        [
         "dbfs:/databricks-datasets/airlines/part-00828",
         "part-00828",
         67108866,
         1436493538000
        ],
        [
         "dbfs:/databricks-datasets/airlines/part-00829",
         "part-00829",
         67108837,
         1436493538000
        ],
        [
         "dbfs:/databricks-datasets/airlines/part-00830",
         "part-00830",
         67108873,
         1436493539000
        ],
        [
         "dbfs:/databricks-datasets/airlines/part-00831",
         "part-00831",
         67108847,
         1436493539000
        ],
        [
         "dbfs:/databricks-datasets/airlines/part-00832",
         "part-00832",
         67108906,
         1436493540000
        ],
        [
         "dbfs:/databricks-datasets/airlines/part-00833",
         "part-00833",
         67108814,
         1436493540000
        ],
        [
         "dbfs:/databricks-datasets/airlines/part-00834",
         "part-00834",
         67108905,
         1436493540000
        ],
        [
         "dbfs:/databricks-datasets/airlines/part-00835",
         "part-00835",
         67108896,
         1436493541000
        ],
        [
         "dbfs:/databricks-datasets/airlines/part-00836",
         "part-00836",
         67108855,
         1436493541000
        ],
        [
         "dbfs:/databricks-datasets/airlines/part-00837",
         "part-00837",
         67108879,
         1436493542000
        ],
        [
         "dbfs:/databricks-datasets/airlines/part-00838",
         "part-00838",
         67108874,
         1436493542000
        ],
        [
         "dbfs:/databricks-datasets/airlines/part-00839",
         "part-00839",
         67108803,
         1436493543000
        ],
        [
         "dbfs:/databricks-datasets/airlines/part-00840",
         "part-00840",
         67108854,
         1436493543000
        ],
        [
         "dbfs:/databricks-datasets/airlines/part-00841",
         "part-00841",
         67108910,
         1436493543000
        ],
        [
         "dbfs:/databricks-datasets/airlines/part-00842",
         "part-00842",
         67108812,
         1436493544000
        ],
        [
         "dbfs:/databricks-datasets/airlines/part-00843",
         "part-00843",
         67108905,
         1436493544000
        ],
        [
         "dbfs:/databricks-datasets/airlines/part-00844",
         "part-00844",
         67108807,
         1436493545000
        ],
        [
         "dbfs:/databricks-datasets/airlines/part-00845",
         "part-00845",
         67108951,
         1436493545000
        ],
        [
         "dbfs:/databricks-datasets/airlines/part-00846",
         "part-00846",
         67108794,
         1436493545000
        ],
        [
         "dbfs:/databricks-datasets/airlines/part-00847",
         "part-00847",
         67108874,
         1436493546000
        ],
        [
         "dbfs:/databricks-datasets/airlines/part-00848",
         "part-00848",
         67108854,
         1436493546000
        ],
        [
         "dbfs:/databricks-datasets/airlines/part-00849",
         "part-00849",
         67108876,
         1436493547000
        ],
        [
         "dbfs:/databricks-datasets/airlines/part-00850",
         "part-00850",
         67108927,
         1436493547000
        ],
        [
         "dbfs:/databricks-datasets/airlines/part-00851",
         "part-00851",
         67108815,
         1436493547000
        ],
        [
         "dbfs:/databricks-datasets/airlines/part-00852",
         "part-00852",
         67108879,
         1436493548000
        ],
        [
         "dbfs:/databricks-datasets/airlines/part-00853",
         "part-00853",
         67108868,
         1436493548000
        ],
        [
         "dbfs:/databricks-datasets/airlines/part-00854",
         "part-00854",
         67108858,
         1436493549000
        ],
        [
         "dbfs:/databricks-datasets/airlines/part-00855",
         "part-00855",
         67108904,
         1436493549000
        ],
        [
         "dbfs:/databricks-datasets/airlines/part-00856",
         "part-00856",
         67108772,
         1436493549000
        ],
        [
         "dbfs:/databricks-datasets/airlines/part-00857",
         "part-00857",
         67108939,
         1436493550000
        ],
        [
         "dbfs:/databricks-datasets/airlines/part-00858",
         "part-00858",
         67108840,
         1436493550000
        ],
        [
         "dbfs:/databricks-datasets/airlines/part-00859",
         "part-00859",
         67108840,
         1436493551000
        ],
        [
         "dbfs:/databricks-datasets/airlines/part-00860",
         "part-00860",
         67108868,
         1436493551000
        ],
        [
         "dbfs:/databricks-datasets/airlines/part-00861",
         "part-00861",
         67108880,
         1436493552000
        ],
        [
         "dbfs:/databricks-datasets/airlines/part-00862",
         "part-00862",
         67108888,
         1436493552000
        ],
        [
         "dbfs:/databricks-datasets/airlines/part-00863",
         "part-00863",
         67108861,
         1436493553000
        ],
        [
         "dbfs:/databricks-datasets/airlines/part-00864",
         "part-00864",
         67108863,
         1436493553000
        ],
        [
         "dbfs:/databricks-datasets/airlines/part-00865",
         "part-00865",
         67108878,
         1436493553000
        ],
        [
         "dbfs:/databricks-datasets/airlines/part-00866",
         "part-00866",
         67108794,
         1436493554000
        ],
        [
         "dbfs:/databricks-datasets/airlines/part-00867",
         "part-00867",
         67108893,
         1436493554000
        ],
        [
         "dbfs:/databricks-datasets/airlines/part-00868",
         "part-00868",
         67108909,
         1436493555000
        ],
        [
         "dbfs:/databricks-datasets/airlines/part-00869",
         "part-00869",
         67108871,
         1436493555000
        ],
        [
         "dbfs:/databricks-datasets/airlines/part-00870",
         "part-00870",
         67108784,
         1436493556000
        ],
        [
         "dbfs:/databricks-datasets/airlines/part-00871",
         "part-00871",
         67108878,
         1436493556000
        ],
        [
         "dbfs:/databricks-datasets/airlines/part-00872",
         "part-00872",
         67108852,
         1436493556000
        ],
        [
         "dbfs:/databricks-datasets/airlines/part-00873",
         "part-00873",
         67108946,
         1436493557000
        ],
        [
         "dbfs:/databricks-datasets/airlines/part-00874",
         "part-00874",
         67108789,
         1436493557000
        ],
        [
         "dbfs:/databricks-datasets/airlines/part-00875",
         "part-00875",
         67108867,
         1436493558000
        ],
        [
         "dbfs:/databricks-datasets/airlines/part-00876",
         "part-00876",
         67108922,
         1436493558000
        ],
        [
         "dbfs:/databricks-datasets/airlines/part-00877",
         "part-00877",
         67596536,
         1436493558000
        ],
        [
         "dbfs:/databricks-datasets/airlines/part-00878",
         "part-00878",
         67768996,
         1436493559000
        ],
        [
         "dbfs:/databricks-datasets/airlines/part-00879",
         "part-00879",
         67881068,
         1436493559000
        ],
        [
         "dbfs:/databricks-datasets/airlines/part-00880",
         "part-00880",
         67777178,
         1436493560000
        ],
        [
         "dbfs:/databricks-datasets/airlines/part-00881",
         "part-00881",
         67911030,
         1436493560000
        ],
        [
         "dbfs:/databricks-datasets/airlines/part-00882",
         "part-00882",
         67825828,
         1436493561000
        ],
        [
         "dbfs:/databricks-datasets/airlines/part-00883",
         "part-00883",
         67774851,
         1436493561000
        ],
        [
         "dbfs:/databricks-datasets/airlines/part-00884",
         "part-00884",
         67998573,
         1436493562000
        ],
        [
         "dbfs:/databricks-datasets/airlines/part-00885",
         "part-00885",
         67798303,
         1436493562000
        ],
        [
         "dbfs:/databricks-datasets/airlines/part-00886",
         "part-00886",
         67755767,
         1436493562000
        ],
        [
         "dbfs:/databricks-datasets/airlines/part-00887",
         "part-00887",
         67773693,
         1436493563000
        ],
        [
         "dbfs:/databricks-datasets/airlines/part-00888",
         "part-00888",
         67388099,
         1436493563000
        ],
        [
         "dbfs:/databricks-datasets/airlines/part-00889",
         "part-00889",
         67108855,
         1436493564000
        ],
        [
         "dbfs:/databricks-datasets/airlines/part-00890",
         "part-00890",
         67108820,
         1436493564000
        ],
        [
         "dbfs:/databricks-datasets/airlines/part-00891",
         "part-00891",
         67108942,
         1436493565000
        ],
        [
         "dbfs:/databricks-datasets/airlines/part-00892",
         "part-00892",
         67108778,
         1436493565000
        ],
        [
         "dbfs:/databricks-datasets/airlines/part-00893",
         "part-00893",
         67108868,
         1436493566000
        ],
        [
         "dbfs:/databricks-datasets/airlines/part-00894",
         "part-00894",
         67108915,
         1436493566000
        ],
        [
         "dbfs:/databricks-datasets/airlines/part-00895",
         "part-00895",
         67108887,
         1436493567000
        ],
        [
         "dbfs:/databricks-datasets/airlines/part-00896",
         "part-00896",
         67108815,
         1436493567000
        ],
        [
         "dbfs:/databricks-datasets/airlines/part-00897",
         "part-00897",
         67108841,
         1436493568000
        ],
        [
         "dbfs:/databricks-datasets/airlines/part-00898",
         "part-00898",
         67108876,
         1436493568000
        ],
        [
         "dbfs:/databricks-datasets/airlines/part-00899",
         "part-00899",
         67108920,
         1436493569000
        ],
        [
         "dbfs:/databricks-datasets/airlines/part-00900",
         "part-00900",
         67108783,
         1436493569000
        ],
        [
         "dbfs:/databricks-datasets/airlines/part-00901",
         "part-00901",
         67108943,
         1436493569000
        ],
        [
         "dbfs:/databricks-datasets/airlines/part-00902",
         "part-00902",
         67108833,
         1436493570000
        ],
        [
         "dbfs:/databricks-datasets/airlines/part-00903",
         "part-00903",
         67108833,
         1436493570000
        ],
        [
         "dbfs:/databricks-datasets/airlines/part-00904",
         "part-00904",
         67108854,
         1436493571000
        ],
        [
         "dbfs:/databricks-datasets/airlines/part-00905",
         "part-00905",
         67108905,
         1436493571000
        ],
        [
         "dbfs:/databricks-datasets/airlines/part-00906",
         "part-00906",
         67108841,
         1436493572000
        ],
        [
         "dbfs:/databricks-datasets/airlines/part-00907",
         "part-00907",
         67108879,
         1436493573000
        ],
        [
         "dbfs:/databricks-datasets/airlines/part-00908",
         "part-00908",
         67108858,
         1436493573000
        ],
        [
         "dbfs:/databricks-datasets/airlines/part-00909",
         "part-00909",
         67108890,
         1436493574000
        ],
        [
         "dbfs:/databricks-datasets/airlines/part-00910",
         "part-00910",
         67108827,
         1436493574000
        ],
        [
         "dbfs:/databricks-datasets/airlines/part-00911",
         "part-00911",
         67108870,
         1436493575000
        ],
        [
         "dbfs:/databricks-datasets/airlines/part-00912",
         "part-00912",
         67108880,
         1436493575000
        ],
        [
         "dbfs:/databricks-datasets/airlines/part-00913",
         "part-00913",
         67108827,
         1436493575000
        ],
        [
         "dbfs:/databricks-datasets/airlines/part-00914",
         "part-00914",
         67108868,
         1436493576000
        ],
        [
         "dbfs:/databricks-datasets/airlines/part-00915",
         "part-00915",
         67108938,
         1436493576000
        ],
        [
         "dbfs:/databricks-datasets/airlines/part-00916",
         "part-00916",
         67108806,
         1436493577000
        ],
        [
         "dbfs:/databricks-datasets/airlines/part-00917",
         "part-00917",
         67108874,
         1436493577000
        ],
        [
         "dbfs:/databricks-datasets/airlines/part-00918",
         "part-00918",
         67108828,
         1436493578000
        ],
        [
         "dbfs:/databricks-datasets/airlines/part-00919",
         "part-00919",
         67108893,
         1436493578000
        ],
        [
         "dbfs:/databricks-datasets/airlines/part-00920",
         "part-00920",
         67108926,
         1436493579000
        ],
        [
         "dbfs:/databricks-datasets/airlines/part-00921",
         "part-00921",
         67108815,
         1436493579000
        ],
        [
         "dbfs:/databricks-datasets/airlines/part-00922",
         "part-00922",
         67108901,
         1436493580000
        ],
        [
         "dbfs:/databricks-datasets/airlines/part-00923",
         "part-00923",
         67108867,
         1436493580000
        ],
        [
         "dbfs:/databricks-datasets/airlines/part-00924",
         "part-00924",
         67108772,
         1436493580000
        ],
        [
         "dbfs:/databricks-datasets/airlines/part-00925",
         "part-00925",
         67108946,
         1436493581000
        ],
        [
         "dbfs:/databricks-datasets/airlines/part-00926",
         "part-00926",
         67108847,
         1436493581000
        ],
        [
         "dbfs:/databricks-datasets/airlines/part-00927",
         "part-00927",
         67108896,
         1436493582000
        ],
        [
         "dbfs:/databricks-datasets/airlines/part-00928",
         "part-00928",
         67108826,
         1436493582000
        ],
        [
         "dbfs:/databricks-datasets/airlines/part-00929",
         "part-00929",
         67108885,
         1436493582000
        ],
        [
         "dbfs:/databricks-datasets/airlines/part-00930",
         "part-00930",
         67108796,
         1436493583000
        ],
        [
         "dbfs:/databricks-datasets/airlines/part-00931",
         "part-00931",
         67108913,
         1436493583000
        ],
        [
         "dbfs:/databricks-datasets/airlines/part-00932",
         "part-00932",
         67108806,
         1436493584000
        ],
        [
         "dbfs:/databricks-datasets/airlines/part-00933",
         "part-00933",
         67108903,
         1436493584000
        ],
        [
         "dbfs:/databricks-datasets/airlines/part-00934",
         "part-00934",
         67108868,
         1436493584000
        ],
        [
         "dbfs:/databricks-datasets/airlines/part-00935",
         "part-00935",
         67108921,
         1436493585000
        ],
        [
         "dbfs:/databricks-datasets/airlines/part-00936",
         "part-00936",
         67108836,
         1436493585000
        ],
        [
         "dbfs:/databricks-datasets/airlines/part-00937",
         "part-00937",
         67108803,
         1436493586000
        ],
        [
         "dbfs:/databricks-datasets/airlines/part-00938",
         "part-00938",
         67108915,
         1436493586000
        ],
        [
         "dbfs:/databricks-datasets/airlines/part-00939",
         "part-00939",
         67108828,
         1436493587000
        ],
        [
         "dbfs:/databricks-datasets/airlines/part-00940",
         "part-00940",
         67108923,
         1436493587000
        ],
        [
         "dbfs:/databricks-datasets/airlines/part-00941",
         "part-00941",
         67108836,
         1436493587000
        ],
        [
         "dbfs:/databricks-datasets/airlines/part-00942",
         "part-00942",
         67108869,
         1436493588000
        ],
        [
         "dbfs:/databricks-datasets/airlines/part-00943",
         "part-00943",
         67108854,
         1436493588000
        ],
        [
         "dbfs:/databricks-datasets/airlines/part-00944",
         "part-00944",
         67108868,
         1436493589000
        ],
        [
         "dbfs:/databricks-datasets/airlines/part-00945",
         "part-00945",
         67108844,
         1436493589000
        ],
        [
         "dbfs:/databricks-datasets/airlines/part-00946",
         "part-00946",
         67108915,
         1436493590000
        ],
        [
         "dbfs:/databricks-datasets/airlines/part-00947",
         "part-00947",
         67108777,
         1436493590000
        ],
        [
         "dbfs:/databricks-datasets/airlines/part-00948",
         "part-00948",
         67108958,
         1436493590000
        ],
        [
         "dbfs:/databricks-datasets/airlines/part-00949",
         "part-00949",
         67108786,
         1436493591000
        ],
        [
         "dbfs:/databricks-datasets/airlines/part-00950",
         "part-00950",
         67108863,
         1436493591000
        ],
        [
         "dbfs:/databricks-datasets/airlines/part-00951",
         "part-00951",
         67108925,
         1436493592000
        ],
        [
         "dbfs:/databricks-datasets/airlines/part-00952",
         "part-00952",
         67108879,
         1436493592000
        ],
        [
         "dbfs:/databricks-datasets/airlines/part-00953",
         "part-00953",
         67108777,
         1436493592000
        ],
        [
         "dbfs:/databricks-datasets/airlines/part-00954",
         "part-00954",
         67108911,
         1436493593000
        ],
        [
         "dbfs:/databricks-datasets/airlines/part-00955",
         "part-00955",
         67108860,
         1436493593000
        ],
        [
         "dbfs:/databricks-datasets/airlines/part-00956",
         "part-00956",
         67108888,
         1436493594000
        ],
        [
         "dbfs:/databricks-datasets/airlines/part-00957",
         "part-00957",
         67108812,
         1436493594000
        ],
        [
         "dbfs:/databricks-datasets/airlines/part-00958",
         "part-00958",
         67108943,
         1436493594000
        ],
        [
         "dbfs:/databricks-datasets/airlines/part-00959",
         "part-00959",
         67108770,
         1436493595000
        ],
        [
         "dbfs:/databricks-datasets/airlines/part-00960",
         "part-00960",
         67108890,
         1436493596000
        ],
        [
         "dbfs:/databricks-datasets/airlines/part-00961",
         "part-00961",
         67108892,
         1436493596000
        ],
        [
         "dbfs:/databricks-datasets/airlines/part-00962",
         "part-00962",
         67108828,
         1436493596000
        ],
        [
         "dbfs:/databricks-datasets/airlines/part-00963",
         "part-00963",
         67108941,
         1436493597000
        ],
        [
         "dbfs:/databricks-datasets/airlines/part-00964",
         "part-00964",
         67108840,
         1436493597000
        ],
        [
         "dbfs:/databricks-datasets/airlines/part-00965",
         "part-00965",
         67108816,
         1436493597000
        ],
        [
         "dbfs:/databricks-datasets/airlines/part-00966",
         "part-00966",
         67108908,
         1436493598000
        ],
        [
         "dbfs:/databricks-datasets/airlines/part-00967",
         "part-00967",
         67108845,
         1436493598000
        ],
        [
         "dbfs:/databricks-datasets/airlines/part-00968",
         "part-00968",
         67108879,
         1436493599000
        ],
        [
         "dbfs:/databricks-datasets/airlines/part-00969",
         "part-00969",
         67108888,
         1436493599000
        ],
        [
         "dbfs:/databricks-datasets/airlines/part-00970",
         "part-00970",
         67108819,
         1436493600000
        ],
        [
         "dbfs:/databricks-datasets/airlines/part-00971",
         "part-00971",
         67108874,
         1436493600000
        ],
        [
         "dbfs:/databricks-datasets/airlines/part-00972",
         "part-00972",
         67108808,
         1436493600000
        ],
        [
         "dbfs:/databricks-datasets/airlines/part-00973",
         "part-00973",
         67108868,
         1436493601000
        ],
        [
         "dbfs:/databricks-datasets/airlines/part-00974",
         "part-00974",
         67108869,
         1436493601000
        ],
        [
         "dbfs:/databricks-datasets/airlines/part-00975",
         "part-00975",
         67108906,
         1436493602000
        ],
        [
         "dbfs:/databricks-datasets/airlines/part-00976",
         "part-00976",
         67108905,
         1436493602000
        ],
        [
         "dbfs:/databricks-datasets/airlines/part-00977",
         "part-00977",
         67108859,
         1436493603000
        ],
        [
         "dbfs:/databricks-datasets/airlines/part-00978",
         "part-00978",
         67108819,
         1436493603000
        ],
        [
         "dbfs:/databricks-datasets/airlines/part-00979",
         "part-00979",
         67108835,
         1436493604000
        ],
        [
         "dbfs:/databricks-datasets/airlines/part-00980",
         "part-00980",
         67108868,
         1436493604000
        ],
        [
         "dbfs:/databricks-datasets/airlines/part-00981",
         "part-00981",
         67108905,
         1436493605000
        ],
        [
         "dbfs:/databricks-datasets/airlines/part-00982",
         "part-00982",
         67108810,
         1436493605000
        ],
        [
         "dbfs:/databricks-datasets/airlines/part-00983",
         "part-00983",
         67108901,
         1436493605000
        ],
        [
         "dbfs:/databricks-datasets/airlines/part-00984",
         "part-00984",
         67108825,
         1436493606000
        ],
        [
         "dbfs:/databricks-datasets/airlines/part-00985",
         "part-00985",
         67108878,
         1436493606000
        ],
        [
         "dbfs:/databricks-datasets/airlines/part-00986",
         "part-00986",
         67108913,
         1436493607000
        ],
        [
         "dbfs:/databricks-datasets/airlines/part-00987",
         "part-00987",
         67108856,
         1436493607000
        ],
        [
         "dbfs:/databricks-datasets/airlines/part-00988",
         "part-00988",
         67108883,
         1436493608000
        ],
        [
         "dbfs:/databricks-datasets/airlines/part-00989",
         "part-00989",
         67108837,
         1436493608000
        ],
        [
         "dbfs:/databricks-datasets/airlines/part-00990",
         "part-00990",
         67108883,
         1436493609000
        ],
        [
         "dbfs:/databricks-datasets/airlines/part-00991",
         "part-00991",
         67108821,
         1436493609000
        ],
        [
         "dbfs:/databricks-datasets/airlines/part-00992",
         "part-00992",
         67108846,
         1436493609000
        ],
        [
         "dbfs:/databricks-datasets/airlines/part-00993",
         "part-00993",
         67108925,
         1436493610000
        ],
        [
         "dbfs:/databricks-datasets/airlines/part-00994",
         "part-00994",
         67108826,
         1436493610000
        ],
        [
         "dbfs:/databricks-datasets/airlines/part-00995",
         "part-00995",
         67108861,
         1436493611000
        ],
        [
         "dbfs:/databricks-datasets/airlines/part-00996",
         "part-00996",
         67108862,
         1436493611000
        ],
        [
         "dbfs:/databricks-datasets/airlines/part-00997",
         "part-00997",
         67108918,
         1436493612000
        ],
        [
         "dbfs:/databricks-datasets/airlines/part-00998",
         "part-00998",
         67108786,
         1436493612000
        ],
        [
         "dbfs:/databricks-datasets/airlines/part-00999",
         "part-00999",
         67108959,
         1436493612000
        ],
        [
         "dbfs:/databricks-datasets/airlines/part-01000",
         "part-01000",
         67108816,
         1436493613000
        ],
        [
         "dbfs:/databricks-datasets/airlines/part-01001",
         "part-01001",
         67108883,
         1436493613000
        ],
        [
         "dbfs:/databricks-datasets/airlines/part-01002",
         "part-01002",
         67108828,
         1436493614000
        ],
        [
         "dbfs:/databricks-datasets/airlines/part-01003",
         "part-01003",
         67108848,
         1436493614000
        ],
        [
         "dbfs:/databricks-datasets/airlines/part-01004",
         "part-01004",
         67108882,
         1436493614000
        ],
        [
         "dbfs:/databricks-datasets/airlines/part-01005",
         "part-01005",
         67108869,
         1436493615000
        ],
        [
         "dbfs:/databricks-datasets/airlines/part-01006",
         "part-01006",
         67108844,
         1436493615000
        ],
        [
         "dbfs:/databricks-datasets/airlines/part-01007",
         "part-01007",
         67108899,
         1436493615000
        ],
        [
         "dbfs:/databricks-datasets/airlines/part-01008",
         "part-01008",
         67108869,
         1436493616000
        ],
        [
         "dbfs:/databricks-datasets/airlines/part-01009",
         "part-01009",
         67108818,
         1436493616000
        ],
        [
         "dbfs:/databricks-datasets/airlines/part-01010",
         "part-01010",
         67108863,
         1436493617000
        ],
        [
         "dbfs:/databricks-datasets/airlines/part-01011",
         "part-01011",
         67108872,
         1436493617000
        ],
        [
         "dbfs:/databricks-datasets/airlines/part-01012",
         "part-01012",
         67108910,
         1436493618000
        ],
        [
         "dbfs:/databricks-datasets/airlines/part-01013",
         "part-01013",
         67108875,
         1436493618000
        ],
        [
         "dbfs:/databricks-datasets/airlines/part-01014",
         "part-01014",
         67108815,
         1436493619000
        ],
        [
         "dbfs:/databricks-datasets/airlines/part-01015",
         "part-01015",
         67108881,
         1436493619000
        ],
        [
         "dbfs:/databricks-datasets/airlines/part-01016",
         "part-01016",
         67108911,
         1436493620000
        ],
        [
         "dbfs:/databricks-datasets/airlines/part-01017",
         "part-01017",
         67108830,
         1436493620000
        ],
        [
         "dbfs:/databricks-datasets/airlines/part-01018",
         "part-01018",
         67108845,
         1436493620000
        ],
        [
         "dbfs:/databricks-datasets/airlines/part-01019",
         "part-01019",
         67108902,
         1436493621000
        ],
        [
         "dbfs:/databricks-datasets/airlines/part-01020",
         "part-01020",
         67108884,
         1436493621000
        ],
        [
         "dbfs:/databricks-datasets/airlines/part-01021",
         "part-01021",
         67108769,
         1436493622000
        ],
        [
         "dbfs:/databricks-datasets/airlines/part-01022",
         "part-01022",
         67108959,
         1436493622000
        ],
        [
         "dbfs:/databricks-datasets/airlines/part-01023",
         "part-01023",
         67108857,
         1436493623000
        ],
        [
         "dbfs:/databricks-datasets/airlines/part-01024",
         "part-01024",
         67108819,
         1436493623000
        ],
        [
         "dbfs:/databricks-datasets/airlines/part-01025",
         "part-01025",
         67108892,
         1436493623000
        ],
        [
         "dbfs:/databricks-datasets/airlines/part-01026",
         "part-01026",
         67108831,
         1436493624000
        ],
        [
         "dbfs:/databricks-datasets/airlines/part-01027",
         "part-01027",
         67108852,
         1436493624000
        ],
        [
         "dbfs:/databricks-datasets/airlines/part-01028",
         "part-01028",
         67108855,
         1436493625000
        ],
        [
         "dbfs:/databricks-datasets/airlines/part-01029",
         "part-01029",
         67108933,
         1436493625000
        ],
        [
         "dbfs:/databricks-datasets/airlines/part-01030",
         "part-01030",
         67108857,
         1436493625000
        ],
        [
         "dbfs:/databricks-datasets/airlines/part-01031",
         "part-01031",
         67108822,
         1436493626000
        ],
        [
         "dbfs:/databricks-datasets/airlines/part-01032",
         "part-01032",
         67108904,
         1436493626000
        ],
        [
         "dbfs:/databricks-datasets/airlines/part-01033",
         "part-01033",
         67108887,
         1436493627000
        ],
        [
         "dbfs:/databricks-datasets/airlines/part-01034",
         "part-01034",
         67108764,
         1436493627000
        ],
        [
         "dbfs:/databricks-datasets/airlines/part-01035",
         "part-01035",
         67108899,
         1436493628000
        ],
        [
         "dbfs:/databricks-datasets/airlines/part-01036",
         "part-01036",
         67108850,
         1436493628000
        ],
        [
         "dbfs:/databricks-datasets/airlines/part-01037",
         "part-01037",
         67108919,
         1436493629000
        ],
        [
         "dbfs:/databricks-datasets/airlines/part-01038",
         "part-01038",
         67108872,
         1436493629000
        ],
        [
         "dbfs:/databricks-datasets/airlines/part-01039",
         "part-01039",
         67108881,
         1436493630000
        ],
        [
         "dbfs:/databricks-datasets/airlines/part-01040",
         "part-01040",
         67108811,
         1436493630000
        ],
        [
         "dbfs:/databricks-datasets/airlines/part-01041",
         "part-01041",
         67108908,
         1436493631000
        ],
        [
         "dbfs:/databricks-datasets/airlines/part-01042",
         "part-01042",
         67108864,
         1436493631000
        ],
        [
         "dbfs:/databricks-datasets/airlines/part-01043",
         "part-01043",
         67108875,
         1436493631000
        ],
        [
         "dbfs:/databricks-datasets/airlines/part-01044",
         "part-01044",
         67108801,
         1436493632000
        ],
        [
         "dbfs:/databricks-datasets/airlines/part-01045",
         "part-01045",
         67108837,
         1436493633000
        ],
        [
         "dbfs:/databricks-datasets/airlines/part-01046",
         "part-01046",
         67108932,
         1436493633000
        ],
        [
         "dbfs:/databricks-datasets/airlines/part-01047",
         "part-01047",
         67108822,
         1436493633000
        ],
        [
         "dbfs:/databricks-datasets/airlines/part-01048",
         "part-01048",
         67108903,
         1436493634000
        ],
        [
         "dbfs:/databricks-datasets/airlines/part-01049",
         "part-01049",
         67108859,
         1436493634000
        ],
        [
         "dbfs:/databricks-datasets/airlines/part-01050",
         "part-01050",
         67108872,
         1436493635000
        ],
        [
         "dbfs:/databricks-datasets/airlines/part-01051",
         "part-01051",
         67108883,
         1436493636000
        ],
        [
         "dbfs:/databricks-datasets/airlines/part-01052",
         "part-01052",
         67108772,
         1436493636000
        ],
        [
         "dbfs:/databricks-datasets/airlines/part-01053",
         "part-01053",
         67108902,
         1436493637000
        ],
        [
         "dbfs:/databricks-datasets/airlines/part-01054",
         "part-01054",
         67108912,
         1436493637000
        ],
        [
         "dbfs:/databricks-datasets/airlines/part-01055",
         "part-01055",
         67108780,
         1436493638000
        ],
        [
         "dbfs:/databricks-datasets/airlines/part-01056",
         "part-01056",
         67108862,
         1436493638000
        ],
        [
         "dbfs:/databricks-datasets/airlines/part-01057",
         "part-01057",
         67108955,
         1436493639000
        ],
        [
         "dbfs:/databricks-datasets/airlines/part-01058",
         "part-01058",
         67108781,
         1436493639000
        ],
        [
         "dbfs:/databricks-datasets/airlines/part-01059",
         "part-01059",
         67108871,
         1436493640000
        ],
        [
         "dbfs:/databricks-datasets/airlines/part-01060",
         "part-01060",
         67108916,
         1436493640000
        ],
        [
         "dbfs:/databricks-datasets/airlines/part-01061",
         "part-01061",
         67108809,
         1436493641000
        ],
        [
         "dbfs:/databricks-datasets/airlines/part-01062",
         "part-01062",
         67108922,
         1436493641000
        ],
        [
         "dbfs:/databricks-datasets/airlines/part-01063",
         "part-01063",
         67108882,
         1436493642000
        ],
        [
         "dbfs:/databricks-datasets/airlines/part-01064",
         "part-01064",
         67108770,
         1436493642000
        ],
        [
         "dbfs:/databricks-datasets/airlines/part-01065",
         "part-01065",
         67108939,
         1436493642000
        ],
        [
         "dbfs:/databricks-datasets/airlines/part-01066",
         "part-01066",
         67108820,
         1436493643000
        ],
        [
         "dbfs:/databricks-datasets/airlines/part-01067",
         "part-01067",
         67108930,
         1436493643000
        ],
        [
         "dbfs:/databricks-datasets/airlines/part-01068",
         "part-01068",
         67108848,
         1436493644000
        ],
        [
         "dbfs:/databricks-datasets/airlines/part-01069",
         "part-01069",
         67625808,
         1436493644000
        ],
        [
         "dbfs:/databricks-datasets/airlines/part-01070",
         "part-01070",
         67765006,
         1436493645000
        ],
        [
         "dbfs:/databricks-datasets/airlines/part-01071",
         "part-01071",
         67900330,
         1436493645000
        ],
        [
         "dbfs:/databricks-datasets/airlines/part-01072",
         "part-01072",
         67750470,
         1436493646000
        ],
        [
         "dbfs:/databricks-datasets/airlines/part-01073",
         "part-01073",
         67940090,
         1436493646000
        ],
        [
         "dbfs:/databricks-datasets/airlines/part-01074",
         "part-01074",
         67780594,
         1436493647000
        ],
        [
         "dbfs:/databricks-datasets/airlines/part-01075",
         "part-01075",
         67777483,
         1436493647000
        ],
        [
         "dbfs:/databricks-datasets/airlines/part-01076",
         "part-01076",
         67995755,
         1436493647000
        ],
        [
         "dbfs:/databricks-datasets/airlines/part-01077",
         "part-01077",
         67813286,
         1436493648000
        ],
        [
         "dbfs:/databricks-datasets/airlines/part-01078",
         "part-01078",
         67740453,
         1436493648000
        ],
        [
         "dbfs:/databricks-datasets/airlines/part-01079",
         "part-01079",
         67804810,
         1436493649000
        ],
        [
         "dbfs:/databricks-datasets/airlines/part-01080",
         "part-01080",
         67355772,
         1436493649000
        ],
        [
         "dbfs:/databricks-datasets/airlines/part-01081",
         "part-01081",
         67108883,
         1436493650000
        ],
        [
         "dbfs:/databricks-datasets/airlines/part-01082",
         "part-01082",
         67108911,
         1436493650000
        ],
        [
         "dbfs:/databricks-datasets/airlines/part-01083",
         "part-01083",
         67108857,
         1436493651000
        ],
        [
         "dbfs:/databricks-datasets/airlines/part-01084",
         "part-01084",
         67108837,
         1436493651000
        ],
        [
         "dbfs:/databricks-datasets/airlines/part-01085",
         "part-01085",
         67108867,
         1436493651000
        ],
        [
         "dbfs:/databricks-datasets/airlines/part-01086",
         "part-01086",
         67108901,
         1436493652000
        ],
        [
         "dbfs:/databricks-datasets/airlines/part-01087",
         "part-01087",
         67108879,
         1436493652000
        ],
        [
         "dbfs:/databricks-datasets/airlines/part-01088",
         "part-01088",
         67108790,
         1436493653000
        ],
        [
         "dbfs:/databricks-datasets/airlines/part-01089",
         "part-01089",
         67108922,
         1436493653000
        ],
        [
         "dbfs:/databricks-datasets/airlines/part-01090",
         "part-01090",
         67108807,
         1436493654000
        ],
        [
         "dbfs:/databricks-datasets/airlines/part-01091",
         "part-01091",
         67108874,
         1436493654000
        ],
        [
         "dbfs:/databricks-datasets/airlines/part-01092",
         "part-01092",
         67108865,
         1436493654000
        ],
        [
         "dbfs:/databricks-datasets/airlines/part-01093",
         "part-01093",
         67108861,
         1436493655000
        ],
        [
         "dbfs:/databricks-datasets/airlines/part-01094",
         "part-01094",
         67108925,
         1436493655000
        ],
        [
         "dbfs:/databricks-datasets/airlines/part-01095",
         "part-01095",
         67108866,
         1436493656000
        ],
        [
         "dbfs:/databricks-datasets/airlines/part-01096",
         "part-01096",
         67108828,
         1436493656000
        ],
        [
         "dbfs:/databricks-datasets/airlines/part-01097",
         "part-01097",
         67108887,
         1436493656000
        ],
        [
         "dbfs:/databricks-datasets/airlines/part-01098",
         "part-01098",
         67108867,
         1436493657000
        ],
        [
         "dbfs:/databricks-datasets/airlines/part-01099",
         "part-01099",
         67108837,
         1436493657000
        ],
        [
         "dbfs:/databricks-datasets/airlines/part-01100",
         "part-01100",
         67108892,
         1436493658000
        ],
        [
         "dbfs:/databricks-datasets/airlines/part-01101",
         "part-01101",
         67108847,
         1436493658000
        ],
        [
         "dbfs:/databricks-datasets/airlines/part-01102",
         "part-01102",
         67108854,
         1436493659000
        ],
        [
         "dbfs:/databricks-datasets/airlines/part-01103",
         "part-01103",
         67108822,
         1436493659000
        ],
        [
         "dbfs:/databricks-datasets/airlines/part-01104",
         "part-01104",
         67108907,
         1436493659000
        ],
        [
         "dbfs:/databricks-datasets/airlines/part-01105",
         "part-01105",
         67108895,
         1436493660000
        ],
        [
         "dbfs:/databricks-datasets/airlines/part-01106",
         "part-01106",
         67108863,
         1436493660000
        ],
        [
         "dbfs:/databricks-datasets/airlines/part-01107",
         "part-01107",
         67108788,
         1436493661000
        ],
        [
         "dbfs:/databricks-datasets/airlines/part-01108",
         "part-01108",
         67108908,
         1436493661000
        ],
        [
         "dbfs:/databricks-datasets/airlines/part-01109",
         "part-01109",
         67108878,
         1436493662000
        ],
        [
         "dbfs:/databricks-datasets/airlines/part-01110",
         "part-01110",
         67108868,
         1436493662000
        ],
        [
         "dbfs:/databricks-datasets/airlines/part-01111",
         "part-01111",
         67108811,
         1436493663000
        ],
        [
         "dbfs:/databricks-datasets/airlines/part-01112",
         "part-01112",
         67108905,
         1436493663000
        ],
        [
         "dbfs:/databricks-datasets/airlines/part-01113",
         "part-01113",
         67108885,
         1436493664000
        ],
        [
         "dbfs:/databricks-datasets/airlines/part-01114",
         "part-01114",
         67108865,
         1436493664000
        ],
        [
         "dbfs:/databricks-datasets/airlines/part-01115",
         "part-01115",
         67108859,
         1436493664000
        ],
        [
         "dbfs:/databricks-datasets/airlines/part-01116",
         "part-01116",
         67108881,
         1436493665000
        ],
        [
         "dbfs:/databricks-datasets/airlines/part-01117",
         "part-01117",
         67108838,
         1436493665000
        ],
        [
         "dbfs:/databricks-datasets/airlines/part-01118",
         "part-01118",
         67108821,
         1436493666000
        ],
        [
         "dbfs:/databricks-datasets/airlines/part-01119",
         "part-01119",
         67108871,
         1436493666000
        ],
        [
         "dbfs:/databricks-datasets/airlines/part-01120",
         "part-01120",
         67108925,
         1436493667000
        ],
        [
         "dbfs:/databricks-datasets/airlines/part-01121",
         "part-01121",
         67108806,
         1436493667000
        ],
        [
         "dbfs:/databricks-datasets/airlines/part-01122",
         "part-01122",
         67108881,
         1436493668000
        ],
        [
         "dbfs:/databricks-datasets/airlines/part-01123",
         "part-01123",
         67108873,
         1436493668000
        ],
        [
         "dbfs:/databricks-datasets/airlines/part-01124",
         "part-01124",
         67108823,
         1436493668000
        ],
        [
         "dbfs:/databricks-datasets/airlines/part-01125",
         "part-01125",
         67108933,
         1436493669000
        ],
        [
         "dbfs:/databricks-datasets/airlines/part-01126",
         "part-01126",
         67108775,
         1436493669000
        ],
        [
         "dbfs:/databricks-datasets/airlines/part-01127",
         "part-01127",
         67108902,
         1436493670000
        ],
        [
         "dbfs:/databricks-datasets/airlines/part-01128",
         "part-01128",
         67108916,
         1436493670000
        ],
        [
         "dbfs:/databricks-datasets/airlines/part-01129",
         "part-01129",
         67108833,
         1436493671000
        ],
        [
         "dbfs:/databricks-datasets/airlines/part-01130",
         "part-01130",
         67108895,
         1436493671000
        ],
        [
         "dbfs:/databricks-datasets/airlines/part-01131",
         "part-01131",
         67108802,
         1436493672000
        ],
        [
         "dbfs:/databricks-datasets/airlines/part-01132",
         "part-01132",
         67108915,
         1436493672000
        ],
        [
         "dbfs:/databricks-datasets/airlines/part-01133",
         "part-01133",
         67108798,
         1436493672000
        ],
        [
         "dbfs:/databricks-datasets/airlines/part-01134",
         "part-01134",
         67108902,
         1436493673000
        ],
        [
         "dbfs:/databricks-datasets/airlines/part-01135",
         "part-01135",
         67108827,
         1436493673000
        ],
        [
         "dbfs:/databricks-datasets/airlines/part-01136",
         "part-01136",
         67108931,
         1436493674000
        ],
        [
         "dbfs:/databricks-datasets/airlines/part-01137",
         "part-01137",
         67108875,
         1436493674000
        ],
        [
         "dbfs:/databricks-datasets/airlines/part-01138",
         "part-01138",
         67108823,
         1436493674000
        ],
        [
         "dbfs:/databricks-datasets/airlines/part-01139",
         "part-01139",
         67108819,
         1436493675000
        ],
        [
         "dbfs:/databricks-datasets/airlines/part-01140",
         "part-01140",
         67108883,
         1436493675000
        ],
        [
         "dbfs:/databricks-datasets/airlines/part-01141",
         "part-01141",
         67108898,
         1436493676000
        ],
        [
         "dbfs:/databricks-datasets/airlines/part-01142",
         "part-01142",
         67108897,
         1436493676000
        ],
        [
         "dbfs:/databricks-datasets/airlines/part-01143",
         "part-01143",
         67108818,
         1436493676000
        ],
        [
         "dbfs:/databricks-datasets/airlines/part-01144",
         "part-01144",
         67108835,
         1436493677000
        ],
        [
         "dbfs:/databricks-datasets/airlines/part-01145",
         "part-01145",
         67108905,
         1436493677000
        ],
        [
         "dbfs:/databricks-datasets/airlines/part-01146",
         "part-01146",
         67108875,
         1436493678000
        ],
        [
         "dbfs:/databricks-datasets/airlines/part-01147",
         "part-01147",
         67108798,
         1436493678000
        ],
        [
         "dbfs:/databricks-datasets/airlines/part-01148",
         "part-01148",
         67108896,
         1436493678000
        ],
        [
         "dbfs:/databricks-datasets/airlines/part-01149",
         "part-01149",
         67108868,
         1436493679000
        ],
        [
         "dbfs:/databricks-datasets/airlines/part-01150",
         "part-01150",
         67108829,
         1436493679000
        ],
        [
         "dbfs:/databricks-datasets/airlines/part-01151",
         "part-01151",
         67108874,
         1436493680000
        ],
        [
         "dbfs:/databricks-datasets/airlines/part-01152",
         "part-01152",
         67108910,
         1436493680000
        ],
        [
         "dbfs:/databricks-datasets/airlines/part-01153",
         "part-01153",
         67108833,
         1436493681000
        ],
        [
         "dbfs:/databricks-datasets/airlines/part-01154",
         "part-01154",
         67108874,
         1436493681000
        ],
        [
         "dbfs:/databricks-datasets/airlines/part-01155",
         "part-01155",
         67108867,
         1436493682000
        ],
        [
         "dbfs:/databricks-datasets/airlines/part-01156",
         "part-01156",
         67108884,
         1436493682000
        ],
        [
         "dbfs:/databricks-datasets/airlines/part-01157",
         "part-01157",
         67108803,
         1436493682000
        ],
        [
         "dbfs:/databricks-datasets/airlines/part-01158",
         "part-01158",
         67108884,
         1436493683000
        ],
        [
         "dbfs:/databricks-datasets/airlines/part-01159",
         "part-01159",
         67108885,
         1436493683000
        ],
        [
         "dbfs:/databricks-datasets/airlines/part-01160",
         "part-01160",
         67108844,
         1436493684000
        ],
        [
         "dbfs:/databricks-datasets/airlines/part-01161",
         "part-01161",
         67108878,
         1436493684000
        ],
        [
         "dbfs:/databricks-datasets/airlines/part-01162",
         "part-01162",
         67108923,
         1436493685000
        ],
        [
         "dbfs:/databricks-datasets/airlines/part-01163",
         "part-01163",
         67108865,
         1436493685000
        ],
        [
         "dbfs:/databricks-datasets/airlines/part-01164",
         "part-01164",
         67108843,
         1436493686000
        ],
        [
         "dbfs:/databricks-datasets/airlines/part-01165",
         "part-01165",
         67108861,
         1436493686000
        ],
        [
         "dbfs:/databricks-datasets/airlines/part-01166",
         "part-01166",
         67108800,
         1436493686000
        ],
        [
         "dbfs:/databricks-datasets/airlines/part-01167",
         "part-01167",
         67108911,
         1436493687000
        ],
        [
         "dbfs:/databricks-datasets/airlines/part-01168",
         "part-01168",
         67108897,
         1436493688000
        ],
        [
         "dbfs:/databricks-datasets/airlines/part-01169",
         "part-01169",
         67108804,
         1436493688000
        ],
        [
         "dbfs:/databricks-datasets/airlines/part-01170",
         "part-01170",
         67108857,
         1436493689000
        ],
        [
         "dbfs:/databricks-datasets/airlines/part-01171",
         "part-01171",
         67108928,
         1436493689000
        ],
        [
         "dbfs:/databricks-datasets/airlines/part-01172",
         "part-01172",
         67108865,
         1436493689000
        ],
        [
         "dbfs:/databricks-datasets/airlines/part-01173",
         "part-01173",
         67108803,
         1436493690000
        ],
        [
         "dbfs:/databricks-datasets/airlines/part-01174",
         "part-01174",
         67108912,
         1436493690000
        ],
        [
         "dbfs:/databricks-datasets/airlines/part-01175",
         "part-01175",
         67108813,
         1436493691000
        ],
        [
         "dbfs:/databricks-datasets/airlines/part-01176",
         "part-01176",
         67108944,
         1436493691000
        ],
        [
         "dbfs:/databricks-datasets/airlines/part-01177",
         "part-01177",
         67108853,
         1436493691000
        ],
        [
         "dbfs:/databricks-datasets/airlines/part-01178",
         "part-01178",
         67108791,
         1436493692000
        ],
        [
         "dbfs:/databricks-datasets/airlines/part-01179",
         "part-01179",
         67108871,
         1436493692000
        ],
        [
         "dbfs:/databricks-datasets/airlines/part-01180",
         "part-01180",
         67108914,
         1436493693000
        ],
        [
         "dbfs:/databricks-datasets/airlines/part-01181",
         "part-01181",
         67108866,
         1436493694000
        ],
        [
         "dbfs:/databricks-datasets/airlines/part-01182",
         "part-01182",
         67108793,
         1436493694000
        ],
        [
         "dbfs:/databricks-datasets/airlines/part-01183",
         "part-01183",
         67108943,
         1436493695000
        ],
        [
         "dbfs:/databricks-datasets/airlines/part-01184",
         "part-01184",
         67108820,
         1436493695000
        ],
        [
         "dbfs:/databricks-datasets/airlines/part-01185",
         "part-01185",
         67108883,
         1436493696000
        ],
        [
         "dbfs:/databricks-datasets/airlines/part-01186",
         "part-01186",
         67108900,
         1436493696000
        ],
        [
         "dbfs:/databricks-datasets/airlines/part-01187",
         "part-01187",
         67108867,
         1436493697000
        ],
        [
         "dbfs:/databricks-datasets/airlines/part-01188",
         "part-01188",
         67108771,
         1436493698000
        ],
        [
         "dbfs:/databricks-datasets/airlines/part-01189",
         "part-01189",
         67108866,
         1436493698000
        ],
        [
         "dbfs:/databricks-datasets/airlines/part-01190",
         "part-01190",
         67108941,
         1436493699000
        ],
        [
         "dbfs:/databricks-datasets/airlines/part-01191",
         "part-01191",
         67108840,
         1436493699000
        ],
        [
         "dbfs:/databricks-datasets/airlines/part-01192",
         "part-01192",
         67108854,
         1436493699000
        ],
        [
         "dbfs:/databricks-datasets/airlines/part-01193",
         "part-01193",
         67108846,
         1436493700000
        ],
        [
         "dbfs:/databricks-datasets/airlines/part-01194",
         "part-01194",
         67108831,
         1436493700000
        ],
        [
         "dbfs:/databricks-datasets/airlines/part-01195",
         "part-01195",
         67108865,
         1436493701000
        ],
        [
         "dbfs:/databricks-datasets/airlines/part-01196",
         "part-01196",
         67108893,
         1436493701000
        ],
        [
         "dbfs:/databricks-datasets/airlines/part-01197",
         "part-01197",
         67108918,
         1436493702000
        ],
        [
         "dbfs:/databricks-datasets/airlines/part-01198",
         "part-01198",
         67108778,
         1436493702000
        ],
        [
         "dbfs:/databricks-datasets/airlines/part-01199",
         "part-01199",
         67108912,
         1436493702000
        ],
        [
         "dbfs:/databricks-datasets/airlines/part-01200",
         "part-01200",
         67108861,
         1436493703000
        ],
        [
         "dbfs:/databricks-datasets/airlines/part-01201",
         "part-01201",
         67108842,
         1436493703000
        ],
        [
         "dbfs:/databricks-datasets/airlines/part-01202",
         "part-01202",
         67108888,
         1436493704000
        ],
        [
         "dbfs:/databricks-datasets/airlines/part-01203",
         "part-01203",
         67108836,
         1436493704000
        ],
        [
         "dbfs:/databricks-datasets/airlines/part-01204",
         "part-01204",
         67108917,
         1436493704000
        ],
        [
         "dbfs:/databricks-datasets/airlines/part-01205",
         "part-01205",
         67108873,
         1436493705000
        ],
        [
         "dbfs:/databricks-datasets/airlines/part-01206",
         "part-01206",
         67108790,
         1436493705000
        ],
        [
         "dbfs:/databricks-datasets/airlines/part-01207",
         "part-01207",
         67108891,
         1436493706000
        ],
        [
         "dbfs:/databricks-datasets/airlines/part-01208",
         "part-01208",
         67108868,
         1436493706000
        ],
        [
         "dbfs:/databricks-datasets/airlines/part-01209",
         "part-01209",
         67108894,
         1436493707000
        ],
        [
         "dbfs:/databricks-datasets/airlines/part-01210",
         "part-01210",
         67108871,
         1436493707000
        ],
        [
         "dbfs:/databricks-datasets/airlines/part-01211",
         "part-01211",
         67108789,
         1436493708000
        ],
        [
         "dbfs:/databricks-datasets/airlines/part-01212",
         "part-01212",
         67108954,
         1436493708000
        ],
        [
         "dbfs:/databricks-datasets/airlines/part-01213",
         "part-01213",
         67108866,
         1436493708000
        ],
        [
         "dbfs:/databricks-datasets/airlines/part-01214",
         "part-01214",
         67108801,
         1436493709000
        ],
        [
         "dbfs:/databricks-datasets/airlines/part-01215",
         "part-01215",
         67108837,
         1436493709000
        ],
        [
         "dbfs:/databricks-datasets/airlines/part-01216",
         "part-01216",
         67108907,
         1436493710000
        ],
        [
         "dbfs:/databricks-datasets/airlines/part-01217",
         "part-01217",
         67108827,
         1436493710000
        ],
        [
         "dbfs:/databricks-datasets/airlines/part-01218",
         "part-01218",
         67108899,
         1436493711000
        ],
        [
         "dbfs:/databricks-datasets/airlines/part-01219",
         "part-01219",
         67108868,
         1436493711000
        ],
        [
         "dbfs:/databricks-datasets/airlines/part-01220",
         "part-01220",
         67108882,
         1436493711000
        ],
        [
         "dbfs:/databricks-datasets/airlines/part-01221",
         "part-01221",
         67108884,
         1436493712000
        ],
        [
         "dbfs:/databricks-datasets/airlines/part-01222",
         "part-01222",
         67108817,
         1436493712000
        ],
        [
         "dbfs:/databricks-datasets/airlines/part-01223",
         "part-01223",
         67108901,
         1436493713000
        ],
        [
         "dbfs:/databricks-datasets/airlines/part-01224",
         "part-01224",
         67108820,
         1436493713000
        ],
        [
         "dbfs:/databricks-datasets/airlines/part-01225",
         "part-01225",
         67108932,
         1436493713000
        ],
        [
         "dbfs:/databricks-datasets/airlines/part-01226",
         "part-01226",
         67108780,
         1436493714000
        ],
        [
         "dbfs:/databricks-datasets/airlines/part-01227",
         "part-01227",
         67108944,
         1436493714000
        ],
        [
         "dbfs:/databricks-datasets/airlines/part-01228",
         "part-01228",
         67108830,
         1436493715000
        ],
        [
         "dbfs:/databricks-datasets/airlines/part-01229",
         "part-01229",
         67108820,
         1436493715000
        ],
        [
         "dbfs:/databricks-datasets/airlines/part-01230",
         "part-01230",
         67108847,
         1436493716000
        ],
        [
         "dbfs:/databricks-datasets/airlines/part-01231",
         "part-01231",
         67108938,
         1436493716000
        ],
        [
         "dbfs:/databricks-datasets/airlines/part-01232",
         "part-01232",
         67108837,
         1436493717000
        ],
        [
         "dbfs:/databricks-datasets/airlines/part-01233",
         "part-01233",
         67108873,
         1436493717000
        ],
        [
         "dbfs:/databricks-datasets/airlines/part-01234",
         "part-01234",
         67108838,
         1436493717000
        ],
        [
         "dbfs:/databricks-datasets/airlines/part-01235",
         "part-01235",
         67108929,
         1436493718000
        ],
        [
         "dbfs:/databricks-datasets/airlines/part-01236",
         "part-01236",
         67108872,
         1436493718000
        ],
        [
         "dbfs:/databricks-datasets/airlines/part-01237",
         "part-01237",
         67108837,
         1436493719000
        ],
        [
         "dbfs:/databricks-datasets/airlines/part-01238",
         "part-01238",
         67108812,
         1436493719000
        ],
        [
         "dbfs:/databricks-datasets/airlines/part-01239",
         "part-01239",
         67108873,
         1436493720000
        ],
        [
         "dbfs:/databricks-datasets/airlines/part-01240",
         "part-01240",
         67108925,
         1436493720000
        ],
        [
         "dbfs:/databricks-datasets/airlines/part-01241",
         "part-01241",
         67108803,
         1436493721000
        ],
        [
         "dbfs:/databricks-datasets/airlines/part-01242",
         "part-01242",
         67108874,
         1436493721000
        ],
        [
         "dbfs:/databricks-datasets/airlines/part-01243",
         "part-01243",
         67108855,
         1436493722000
        ],
        [
         "dbfs:/databricks-datasets/airlines/part-01244",
         "part-01244",
         67108899,
         1436493722000
        ],
        [
         "dbfs:/databricks-datasets/airlines/part-01245",
         "part-01245",
         67108830,
         1436493722000
        ],
        [
         "dbfs:/databricks-datasets/airlines/part-01246",
         "part-01246",
         67108916,
         1436493723000
        ],
        [
         "dbfs:/databricks-datasets/airlines/part-01247",
         "part-01247",
         67108864,
         1436493723000
        ],
        [
         "dbfs:/databricks-datasets/airlines/part-01248",
         "part-01248",
         67108860,
         1436493724000
        ],
        [
         "dbfs:/databricks-datasets/airlines/part-01249",
         "part-01249",
         67108879,
         1436493724000
        ],
        [
         "dbfs:/databricks-datasets/airlines/part-01250",
         "part-01250",
         67108859,
         1436493724000
        ],
        [
         "dbfs:/databricks-datasets/airlines/part-01251",
         "part-01251",
         67108797,
         1436493725000
        ],
        [
         "dbfs:/databricks-datasets/airlines/part-01252",
         "part-01252",
         67108911,
         1436493725000
        ],
        [
         "dbfs:/databricks-datasets/airlines/part-01253",
         "part-01253",
         67108807,
         1436493726000
        ],
        [
         "dbfs:/databricks-datasets/airlines/part-01254",
         "part-01254",
         67108908,
         1436493726000
        ],
        [
         "dbfs:/databricks-datasets/airlines/part-01255",
         "part-01255",
         67108897,
         1436493727000
        ],
        [
         "dbfs:/databricks-datasets/airlines/part-01256",
         "part-01256",
         67108871,
         1436493727000
        ],
        [
         "dbfs:/databricks-datasets/airlines/part-01257",
         "part-01257",
         67108768,
         1436493728000
        ],
        [
         "dbfs:/databricks-datasets/airlines/part-01258",
         "part-01258",
         67108873,
         1436493728000
        ],
        [
         "dbfs:/databricks-datasets/airlines/part-01259",
         "part-01259",
         67108917,
         1436493728000
        ],
        [
         "dbfs:/databricks-datasets/airlines/part-01260",
         "part-01260",
         67108808,
         1436493729000
        ],
        [
         "dbfs:/databricks-datasets/airlines/part-01261",
         "part-01261",
         67638938,
         1436493729000
        ],
        [
         "dbfs:/databricks-datasets/airlines/part-01262",
         "part-01262",
         67753478,
         1436493730000
        ],
        [
         "dbfs:/databricks-datasets/airlines/part-01263",
         "part-01263",
         67899367,
         1436493730000
        ],
        [
         "dbfs:/databricks-datasets/airlines/part-01264",
         "part-01264",
         67790532,
         1436493730000
        ],
        [
         "dbfs:/databricks-datasets/airlines/part-01265",
         "part-01265",
         67905220,
         1436493731000
        ],
        [
         "dbfs:/databricks-datasets/airlines/part-01266",
         "part-01266",
         67778147,
         1436493731000
        ],
        [
         "dbfs:/databricks-datasets/airlines/part-01267",
         "part-01267",
         67778870,
         1436493732000
        ],
        [
         "dbfs:/databricks-datasets/airlines/part-01268",
         "part-01268",
         67991512,
         1436493732000
        ],
        [
         "dbfs:/databricks-datasets/airlines/part-01269",
         "part-01269",
         67817625,
         1436493732000
        ],
        [
         "dbfs:/databricks-datasets/airlines/part-01270",
         "part-01270",
         67762051,
         1436493733000
        ],
        [
         "dbfs:/databricks-datasets/airlines/part-01271",
         "part-01271",
         67830619,
         1436493733000
        ],
        [
         "dbfs:/databricks-datasets/airlines/part-01272",
         "part-01272",
         67303633,
         1436493734000
        ],
        [
         "dbfs:/databricks-datasets/airlines/part-01273",
         "part-01273",
         67108831,
         1436493734000
        ],
        [
         "dbfs:/databricks-datasets/airlines/part-01274",
         "part-01274",
         67108914,
         1436493734000
        ],
        [
         "dbfs:/databricks-datasets/airlines/part-01275",
         "part-01275",
         67108835,
         1436493735000
        ],
        [
         "dbfs:/databricks-datasets/airlines/part-01276",
         "part-01276",
         67108849,
         1436493735000
        ],
        [
         "dbfs:/databricks-datasets/airlines/part-01277",
         "part-01277",
         67108897,
         1436493736000
        ],
        [
         "dbfs:/databricks-datasets/airlines/part-01278",
         "part-01278",
         67108862,
         1436493736000
        ],
        [
         "dbfs:/databricks-datasets/airlines/part-01279",
         "part-01279",
         67108853,
         1436493737000
        ],
        [
         "dbfs:/databricks-datasets/airlines/part-01280",
         "part-01280",
         67108845,
         1436493737000
        ],
        [
         "dbfs:/databricks-datasets/airlines/part-01281",
         "part-01281",
         67108870,
         1436493737000
        ],
        [
         "dbfs:/databricks-datasets/airlines/part-01282",
         "part-01282",
         67108911,
         1436493738000
        ],
        [
         "dbfs:/databricks-datasets/airlines/part-01283",
         "part-01283",
         67108810,
         1436493738000
        ],
        [
         "dbfs:/databricks-datasets/airlines/part-01284",
         "part-01284",
         67108838,
         1436493739000
        ],
        [
         "dbfs:/databricks-datasets/airlines/part-01285",
         "part-01285",
         67108916,
         1436493739000
        ],
        [
         "dbfs:/databricks-datasets/airlines/part-01286",
         "part-01286",
         67108856,
         1436493739000
        ],
        [
         "dbfs:/databricks-datasets/airlines/part-01287",
         "part-01287",
         67108813,
         1436493740000
        ],
        [
         "dbfs:/databricks-datasets/airlines/part-01288",
         "part-01288",
         67108909,
         1436493740000
        ],
        [
         "dbfs:/databricks-datasets/airlines/part-01289",
         "part-01289",
         67108815,
         1436493740000
        ],
        [
         "dbfs:/databricks-datasets/airlines/part-01290",
         "part-01290",
         67108947,
         1436493741000
        ],
        [
         "dbfs:/databricks-datasets/airlines/part-01291",
         "part-01291",
         67108876,
         1436493741000
        ],
        [
         "dbfs:/databricks-datasets/airlines/part-01292",
         "part-01292",
         67108816,
         1436493742000
        ],
        [
         "dbfs:/databricks-datasets/airlines/part-01293",
         "part-01293",
         67108834,
         1436493742000
        ],
        [
         "dbfs:/databricks-datasets/airlines/part-01294",
         "part-01294",
         67108931,
         1436493743000
        ],
        [
         "dbfs:/databricks-datasets/airlines/part-01295",
         "part-01295",
         67108860,
         1436493743000
        ],
        [
         "dbfs:/databricks-datasets/airlines/part-01296",
         "part-01296",
         67108802,
         1436493744000
        ],
        [
         "dbfs:/databricks-datasets/airlines/part-01297",
         "part-01297",
         67108940,
         1436493744000
        ],
        [
         "dbfs:/databricks-datasets/airlines/part-01298",
         "part-01298",
         67108814,
         1436493745000
        ],
        [
         "dbfs:/databricks-datasets/airlines/part-01299",
         "part-01299",
         67108905,
         1436493745000
        ],
        [
         "dbfs:/databricks-datasets/airlines/part-01300",
         "part-01300",
         67108793,
         1436493745000
        ],
        [
         "dbfs:/databricks-datasets/airlines/part-01301",
         "part-01301",
         67108910,
         1436493746000
        ],
        [
         "dbfs:/databricks-datasets/airlines/part-01302",
         "part-01302",
         67108869,
         1436493746000
        ],
        [
         "dbfs:/databricks-datasets/airlines/part-01303",
         "part-01303",
         67108851,
         1436493747000
        ],
        [
         "dbfs:/databricks-datasets/airlines/part-01304",
         "part-01304",
         67108907,
         1436493747000
        ],
        [
         "dbfs:/databricks-datasets/airlines/part-01305",
         "part-01305",
         67108830,
         1436493747000
        ],
        [
         "dbfs:/databricks-datasets/airlines/part-01306",
         "part-01306",
         67108879,
         1436493748000
        ],
        [
         "dbfs:/databricks-datasets/airlines/part-01307",
         "part-01307",
         67108803,
         1436493748000
        ],
        [
         "dbfs:/databricks-datasets/airlines/part-01308",
         "part-01308",
         67108945,
         1436493749000
        ],
        [
         "dbfs:/databricks-datasets/airlines/part-01309",
         "part-01309",
         67108847,
         1436493749000
        ],
        [
         "dbfs:/databricks-datasets/airlines/part-01310",
         "part-01310",
         67108853,
         1436493750000
        ],
        [
         "dbfs:/databricks-datasets/airlines/part-01311",
         "part-01311",
         67108891,
         1436493750000
        ],
        [
         "dbfs:/databricks-datasets/airlines/part-01312",
         "part-01312",
         67108841,
         1436493751000
        ],
        [
         "dbfs:/databricks-datasets/airlines/part-01313",
         "part-01313",
         67108813,
         1436493751000
        ],
        [
         "dbfs:/databricks-datasets/airlines/part-01314",
         "part-01314",
         67108905,
         1436493752000
        ],
        [
         "dbfs:/databricks-datasets/airlines/part-01315",
         "part-01315",
         67108882,
         1436493752000
        ],
        [
         "dbfs:/databricks-datasets/airlines/part-01316",
         "part-01316",
         67108861,
         1436493753000
        ],
        [
         "dbfs:/databricks-datasets/airlines/part-01317",
         "part-01317",
         67108831,
         1436493753000
        ],
        [
         "dbfs:/databricks-datasets/airlines/part-01318",
         "part-01318",
         67108910,
         1436493754000
        ],
        [
         "dbfs:/databricks-datasets/airlines/part-01319",
         "part-01319",
         67108818,
         1436493754000
        ],
        [
         "dbfs:/databricks-datasets/airlines/part-01320",
         "part-01320",
         67108877,
         1436493755000
        ],
        [
         "dbfs:/databricks-datasets/airlines/part-01321",
         "part-01321",
         67108838,
         1436493755000
        ],
        [
         "dbfs:/databricks-datasets/airlines/part-01322",
         "part-01322",
         67108920,
         1436493755000
        ],
        [
         "dbfs:/databricks-datasets/airlines/part-01323",
         "part-01323",
         67108786,
         1436493756000
        ],
        [
         "dbfs:/databricks-datasets/airlines/part-01324",
         "part-01324",
         67108885,
         1436493756000
        ],
        [
         "dbfs:/databricks-datasets/airlines/part-01325",
         "part-01325",
         67108858,
         1436493757000
        ],
        [
         "dbfs:/databricks-datasets/airlines/part-01326",
         "part-01326",
         67108941,
         1436493757000
        ],
        [
         "dbfs:/databricks-datasets/airlines/part-01327",
         "part-01327",
         67108843,
         1436493757000
        ],
        [
         "dbfs:/databricks-datasets/airlines/part-01328",
         "part-01328",
         67108863,
         1436493758000
        ],
        [
         "dbfs:/databricks-datasets/airlines/part-01329",
         "part-01329",
         67108827,
         1436493758000
        ],
        [
         "dbfs:/databricks-datasets/airlines/part-01330",
         "part-01330",
         67108824,
         1436493759000
        ],
        [
         "dbfs:/databricks-datasets/airlines/part-01331",
         "part-01331",
         67108950,
         1436493759000
        ],
        [
         "dbfs:/databricks-datasets/airlines/part-01332",
         "part-01332",
         67108861,
         1436493759000
        ],
        [
         "dbfs:/databricks-datasets/airlines/part-01333",
         "part-01333",
         67108872,
         1436493760000
        ],
        [
         "dbfs:/databricks-datasets/airlines/part-01334",
         "part-01334",
         67108820,
         1436493760000
        ],
        [
         "dbfs:/databricks-datasets/airlines/part-01335",
         "part-01335",
         67108834,
         1436493761000
        ],
        [
         "dbfs:/databricks-datasets/airlines/part-01336",
         "part-01336",
         67108855,
         1436493761000
        ],
        [
         "dbfs:/databricks-datasets/airlines/part-01337",
         "part-01337",
         67108907,
         1436493761000
        ],
        [
         "dbfs:/databricks-datasets/airlines/part-01338",
         "part-01338",
         67108845,
         1436493762000
        ],
        [
         "dbfs:/databricks-datasets/airlines/part-01339",
         "part-01339",
         67108873,
         1436493762000
        ],
        [
         "dbfs:/databricks-datasets/airlines/part-01340",
         "part-01340",
         67108923,
         1436493763000
        ],
        [
         "dbfs:/databricks-datasets/airlines/part-01341",
         "part-01341",
         67108788,
         1436493763000
        ],
        [
         "dbfs:/databricks-datasets/airlines/part-01342",
         "part-01342",
         67108873,
         1436493764000
        ],
        [
         "dbfs:/databricks-datasets/airlines/part-01343",
         "part-01343",
         67108921,
         1436493764000
        ],
        [
         "dbfs:/databricks-datasets/airlines/part-01344",
         "part-01344",
         67108834,
         1436493765000
        ],
        [
         "dbfs:/databricks-datasets/airlines/part-01345",
         "part-01345",
         67108821,
         1436493765000
        ],
        [
         "dbfs:/databricks-datasets/airlines/part-01346",
         "part-01346",
         67108857,
         1436493766000
        ],
        [
         "dbfs:/databricks-datasets/airlines/part-01347",
         "part-01347",
         67108949,
         1436493766000
        ],
        [
         "dbfs:/databricks-datasets/airlines/part-01348",
         "part-01348",
         67108848,
         1436493766000
        ],
        [
         "dbfs:/databricks-datasets/airlines/part-01349",
         "part-01349",
         67108785,
         1436493767000
        ],
        [
         "dbfs:/databricks-datasets/airlines/part-01350",
         "part-01350",
         67108886,
         1436493767000
        ],
        [
         "dbfs:/databricks-datasets/airlines/part-01351",
         "part-01351",
         67108931,
         1436493768000
        ],
        [
         "dbfs:/databricks-datasets/airlines/part-01352",
         "part-01352",
         67108789,
         1436493768000
        ],
        [
         "dbfs:/databricks-datasets/airlines/part-01353",
         "part-01353",
         67108938,
         1436493768000
        ],
        [
         "dbfs:/databricks-datasets/airlines/part-01354",
         "part-01354",
         67108792,
         1436493769000
        ],
        [
         "dbfs:/databricks-datasets/airlines/part-01355",
         "part-01355",
         67108921,
         1436493769000
        ],
        [
         "dbfs:/databricks-datasets/airlines/part-01356",
         "part-01356",
         67108852,
         1436493770000
        ],
        [
         "dbfs:/databricks-datasets/airlines/part-01357",
         "part-01357",
         67108825,
         1436493770000
        ],
        [
         "dbfs:/databricks-datasets/airlines/part-01358",
         "part-01358",
         67108854,
         1436493770000
        ],
        [
         "dbfs:/databricks-datasets/airlines/part-01359",
         "part-01359",
         67108859,
         1436493771000
        ],
        [
         "dbfs:/databricks-datasets/airlines/part-01360",
         "part-01360",
         67108886,
         1436493771000
        ],
        [
         "dbfs:/databricks-datasets/airlines/part-01361",
         "part-01361",
         67108888,
         1436493772000
        ],
        [
         "dbfs:/databricks-datasets/airlines/part-01362",
         "part-01362",
         67108807,
         1436493772000
        ],
        [
         "dbfs:/databricks-datasets/airlines/part-01363",
         "part-01363",
         67108961,
         1436493772000
        ],
        [
         "dbfs:/databricks-datasets/airlines/part-01364",
         "part-01364",
         67108850,
         1436493773000
        ],
        [
         "dbfs:/databricks-datasets/airlines/part-01365",
         "part-01365",
         67108829,
         1436493773000
        ],
        [
         "dbfs:/databricks-datasets/airlines/part-01366",
         "part-01366",
         67108839,
         1436493774000
        ],
        [
         "dbfs:/databricks-datasets/airlines/part-01367",
         "part-01367",
         67108843,
         1436493774000
        ],
        [
         "dbfs:/databricks-datasets/airlines/part-01368",
         "part-01368",
         67108939,
         1436493775000
        ],
        [
         "dbfs:/databricks-datasets/airlines/part-01369",
         "part-01369",
         67108791,
         1436493775000
        ],
        [
         "dbfs:/databricks-datasets/airlines/part-01370",
         "part-01370",
         67108866,
         1436493775000
        ],
        [
         "dbfs:/databricks-datasets/airlines/part-01371",
         "part-01371",
         67108956,
         1436493776000
        ],
        [
         "dbfs:/databricks-datasets/airlines/part-01372",
         "part-01372",
         67108776,
         1436493776000
        ],
        [
         "dbfs:/databricks-datasets/airlines/part-01373",
         "part-01373",
         67108921,
         1436493777000
        ],
        [
         "dbfs:/databricks-datasets/airlines/part-01374",
         "part-01374",
         67108842,
         1436493777000
        ],
        [
         "dbfs:/databricks-datasets/airlines/part-01375",
         "part-01375",
         67108886,
         1436493778000
        ],
        [
         "dbfs:/databricks-datasets/airlines/part-01376",
         "part-01376",
         67108823,
         1436493778000
        ],
        [
         "dbfs:/databricks-datasets/airlines/part-01377",
         "part-01377",
         67108903,
         1436493778000
        ],
        [
         "dbfs:/databricks-datasets/airlines/part-01378",
         "part-01378",
         67108860,
         1436493779000
        ],
        [
         "dbfs:/databricks-datasets/airlines/part-01379",
         "part-01379",
         67108888,
         1436493779000
        ],
        [
         "dbfs:/databricks-datasets/airlines/part-01380",
         "part-01380",
         67108858,
         1436493780000
        ],
        [
         "dbfs:/databricks-datasets/airlines/part-01381",
         "part-01381",
         67108867,
         1436493780000
        ],
        [
         "dbfs:/databricks-datasets/airlines/part-01382",
         "part-01382",
         67108868,
         1436493781000
        ],
        [
         "dbfs:/databricks-datasets/airlines/part-01383",
         "part-01383",
         67108870,
         1436493781000
        ],
        [
         "dbfs:/databricks-datasets/airlines/part-01384",
         "part-01384",
         67108847,
         1436493782000
        ],
        [
         "dbfs:/databricks-datasets/airlines/part-01385",
         "part-01385",
         67108813,
         1436493782000
        ],
        [
         "dbfs:/databricks-datasets/airlines/part-01386",
         "part-01386",
         67108875,
         1436493783000
        ],
        [
         "dbfs:/databricks-datasets/airlines/part-01387",
         "part-01387",
         67108912,
         1436493783000
        ],
        [
         "dbfs:/databricks-datasets/airlines/part-01388",
         "part-01388",
         67108872,
         1436493784000
        ],
        [
         "dbfs:/databricks-datasets/airlines/part-01389",
         "part-01389",
         67108788,
         1436493785000
        ],
        [
         "dbfs:/databricks-datasets/airlines/part-01390",
         "part-01390",
         67108895,
         1436493785000
        ],
        [
         "dbfs:/databricks-datasets/airlines/part-01391",
         "part-01391",
         67108924,
         1436493786000
        ],
        [
         "dbfs:/databricks-datasets/airlines/part-01392",
         "part-01392",
         67108800,
         1436493786000
        ],
        [
         "dbfs:/databricks-datasets/airlines/part-01393",
         "part-01393",
         67108824,
         1436493786000
        ],
        [
         "dbfs:/databricks-datasets/airlines/part-01394",
         "part-01394",
         67108916,
         1436493787000
        ],
        [
         "dbfs:/databricks-datasets/airlines/part-01395",
         "part-01395",
         67108911,
         1436493787000
        ],
        [
         "dbfs:/databricks-datasets/airlines/part-01396",
         "part-01396",
         67108857,
         1436493787000
        ],
        [
         "dbfs:/databricks-datasets/airlines/part-01397",
         "part-01397",
         67108777,
         1436493788000
        ],
        [
         "dbfs:/databricks-datasets/airlines/part-01398",
         "part-01398",
         67108872,
         1436493788000
        ],
        [
         "dbfs:/databricks-datasets/airlines/part-01399",
         "part-01399",
         67108916,
         1436493789000
        ],
        [
         "dbfs:/databricks-datasets/airlines/part-01400",
         "part-01400",
         67108881,
         1436493789000
        ],
        [
         "dbfs:/databricks-datasets/airlines/part-01401",
         "part-01401",
         67108838,
         1436493789000
        ],
        [
         "dbfs:/databricks-datasets/airlines/part-01402",
         "part-01402",
         67108848,
         1436493790000
        ],
        [
         "dbfs:/databricks-datasets/airlines/part-01403",
         "part-01403",
         67108893,
         1436493790000
        ],
        [
         "dbfs:/databricks-datasets/airlines/part-01404",
         "part-01404",
         67108828,
         1436493791000
        ],
        [
         "dbfs:/databricks-datasets/airlines/part-01405",
         "part-01405",
         67108867,
         1436493791000
        ],
        [
         "dbfs:/databricks-datasets/airlines/part-01406",
         "part-01406",
         67108886,
         1436493792000
        ],
        [
         "dbfs:/databricks-datasets/airlines/part-01407",
         "part-01407",
         67108886,
         1436493792000
        ],
        [
         "dbfs:/databricks-datasets/airlines/part-01408",
         "part-01408",
         67108823,
         1436493792000
        ],
        [
         "dbfs:/databricks-datasets/airlines/part-01409",
         "part-01409",
         67108916,
         1436493793000
        ],
        [
         "dbfs:/databricks-datasets/airlines/part-01410",
         "part-01410",
         67108873,
         1436493793000
        ],
        [
         "dbfs:/databricks-datasets/airlines/part-01411",
         "part-01411",
         67108777,
         1436493794000
        ],
        [
         "dbfs:/databricks-datasets/airlines/part-01412",
         "part-01412",
         67108915,
         1436493794000
        ],
        [
         "dbfs:/databricks-datasets/airlines/part-01413",
         "part-01413",
         67108875,
         1436493794000
        ],
        [
         "dbfs:/databricks-datasets/airlines/part-01414",
         "part-01414",
         67108840,
         1436493795000
        ],
        [
         "dbfs:/databricks-datasets/airlines/part-01415",
         "part-01415",
         67108911,
         1436493795000
        ],
        [
         "dbfs:/databricks-datasets/airlines/part-01416",
         "part-01416",
         67108816,
         1436493796000
        ],
        [
         "dbfs:/databricks-datasets/airlines/part-01417",
         "part-01417",
         67108917,
         1436493796000
        ],
        [
         "dbfs:/databricks-datasets/airlines/part-01418",
         "part-01418",
         67108811,
         1436493797000
        ],
        [
         "dbfs:/databricks-datasets/airlines/part-01419",
         "part-01419",
         67108839,
         1436493797000
        ],
        [
         "dbfs:/databricks-datasets/airlines/part-01420",
         "part-01420",
         67108924,
         1436493797000
        ],
        [
         "dbfs:/databricks-datasets/airlines/part-01421",
         "part-01421",
         67108868,
         1436493798000
        ],
        [
         "dbfs:/databricks-datasets/airlines/part-01422",
         "part-01422",
         67108822,
         1436493798000
        ],
        [
         "dbfs:/databricks-datasets/airlines/part-01423",
         "part-01423",
         67108850,
         1436493799000
        ],
        [
         "dbfs:/databricks-datasets/airlines/part-01424",
         "part-01424",
         67108901,
         1436493799000
        ],
        [
         "dbfs:/databricks-datasets/airlines/part-01425",
         "part-01425",
         67108844,
         1436493799000
        ],
        [
         "dbfs:/databricks-datasets/airlines/part-01426",
         "part-01426",
         67108898,
         1436493800000
        ],
        [
         "dbfs:/databricks-datasets/airlines/part-01427",
         "part-01427",
         67108852,
         1436493800000
        ],
        [
         "dbfs:/databricks-datasets/airlines/part-01428",
         "part-01428",
         67108856,
         1436493801000
        ],
        [
         "dbfs:/databricks-datasets/airlines/part-01429",
         "part-01429",
         67108879,
         1436493801000
        ],
        [
         "dbfs:/databricks-datasets/airlines/part-01430",
         "part-01430",
         67108811,
         1436493802000
        ],
        [
         "dbfs:/databricks-datasets/airlines/part-01431",
         "part-01431",
         67108840,
         1436493802000
        ],
        [
         "dbfs:/databricks-datasets/airlines/part-01432",
         "part-01432",
         67108887,
         1436493803000
        ],
        [
         "dbfs:/databricks-datasets/airlines/part-01433",
         "part-01433",
         67108939,
         1436493803000
        ],
        [
         "dbfs:/databricks-datasets/airlines/part-01434",
         "part-01434",
         67108779,
         1436493804000
        ],
        [
         "dbfs:/databricks-datasets/airlines/part-01435",
         "part-01435",
         67108850,
         1436493804000
        ],
        [
         "dbfs:/databricks-datasets/airlines/part-01436",
         "part-01436",
         67108961,
         1436493804000
        ],
        [
         "dbfs:/databricks-datasets/airlines/part-01437",
         "part-01437",
         67108822,
         1436493805000
        ],
        [
         "dbfs:/databricks-datasets/airlines/part-01438",
         "part-01438",
         67108836,
         1436493805000
        ],
        [
         "dbfs:/databricks-datasets/airlines/part-01439",
         "part-01439",
         67108890,
         1436493806000
        ],
        [
         "dbfs:/databricks-datasets/airlines/part-01440",
         "part-01440",
         67108846,
         1436493806000
        ],
        [
         "dbfs:/databricks-datasets/airlines/part-01441",
         "part-01441",
         67108852,
         1436493806000
        ],
        [
         "dbfs:/databricks-datasets/airlines/part-01442",
         "part-01442",
         67108880,
         1436493807000
        ],
        [
         "dbfs:/databricks-datasets/airlines/part-01443",
         "part-01443",
         67108875,
         1436493808000
        ],
        [
         "dbfs:/databricks-datasets/airlines/part-01444",
         "part-01444",
         67108916,
         1436493808000
        ],
        [
         "dbfs:/databricks-datasets/airlines/part-01445",
         "part-01445",
         67108780,
         1436493808000
        ],
        [
         "dbfs:/databricks-datasets/airlines/part-01446",
         "part-01446",
         67108855,
         1436493809000
        ],
        [
         "dbfs:/databricks-datasets/airlines/part-01447",
         "part-01447",
         67108920,
         1436493809000
        ],
        [
         "dbfs:/databricks-datasets/airlines/part-01448",
         "part-01448",
         67108882,
         1436493809000
        ],
        [
         "dbfs:/databricks-datasets/airlines/part-01449",
         "part-01449",
         67108800,
         1436493810000
        ],
        [
         "dbfs:/databricks-datasets/airlines/part-01450",
         "part-01450",
         67108855,
         1436493810000
        ],
        [
         "dbfs:/databricks-datasets/airlines/part-01451",
         "part-01451",
         67108892,
         1436493811000
        ],
        [
         "dbfs:/databricks-datasets/airlines/part-01452",
         "part-01452",
         67108824,
         1436493811000
        ],
        [
         "dbfs:/databricks-datasets/airlines/part-01453",
         "part-01453",
         67644274,
         1436493812000
        ],
        [
         "dbfs:/databricks-datasets/airlines/part-01454",
         "part-01454",
         67750045,
         1436493812000
        ],
        [
         "dbfs:/databricks-datasets/airlines/part-01455",
         "part-01455",
         67897956,
         1436493813000
        ],
        [
         "dbfs:/databricks-datasets/airlines/part-01456",
         "part-01456",
         67827424,
         1436493813000
        ],
        [
         "dbfs:/databricks-datasets/airlines/part-01457",
         "part-01457",
         67872232,
         1436493813000
        ],
        [
         "dbfs:/databricks-datasets/airlines/part-01458",
         "part-01458",
         67788229,
         1436493814000
        ],
        [
         "dbfs:/databricks-datasets/airlines/part-01459",
         "part-01459",
         67772982,
         1436493814000
        ],
        [
         "dbfs:/databricks-datasets/airlines/part-01460",
         "part-01460",
         67983464,
         1436493815000
        ],
        [
         "dbfs:/databricks-datasets/airlines/part-01461",
         "part-01461",
         67822265,
         1436493815000
        ],
        [
         "dbfs:/databricks-datasets/airlines/part-01462",
         "part-01462",
         67813859,
         1436493816000
        ],
        [
         "dbfs:/databricks-datasets/airlines/part-01463",
         "part-01463",
         67786033,
         1436493816000
        ],
        [
         "dbfs:/databricks-datasets/airlines/part-01464",
         "part-01464",
         67291235,
         1436493817000
        ],
        [
         "dbfs:/databricks-datasets/airlines/part-01465",
         "part-01465",
         67108804,
         1436493817000
        ],
        [
         "dbfs:/databricks-datasets/airlines/part-01466",
         "part-01466",
         67108905,
         1436493817000
        ],
        [
         "dbfs:/databricks-datasets/airlines/part-01467",
         "part-01467",
         67108890,
         1436493818000
        ],
        [
         "dbfs:/databricks-datasets/airlines/part-01468",
         "part-01468",
         67108879,
         1436493818000
        ],
        [
         "dbfs:/databricks-datasets/airlines/part-01469",
         "part-01469",
         67108802,
         1436493819000
        ],
        [
         "dbfs:/databricks-datasets/airlines/part-01470",
         "part-01470",
         67108910,
         1436493819000
        ],
        [
         "dbfs:/databricks-datasets/airlines/part-01471",
         "part-01471",
         67108849,
         1436493820000
        ],
        [
         "dbfs:/databricks-datasets/airlines/part-01472",
         "part-01472",
         67108835,
         1436493820000
        ],
        [
         "dbfs:/databricks-datasets/airlines/part-01473",
         "part-01473",
         67108908,
         1436493820000
        ],
        [
         "dbfs:/databricks-datasets/airlines/part-01474",
         "part-01474",
         67108816,
         1436493821000
        ],
        [
         "dbfs:/databricks-datasets/airlines/part-01475",
         "part-01475",
         67108873,
         1436493821000
        ],
        [
         "dbfs:/databricks-datasets/airlines/part-01476",
         "part-01476",
         67108890,
         1436493822000
        ],
        [
         "dbfs:/databricks-datasets/airlines/part-01477",
         "part-01477",
         67108820,
         1436493822000
        ],
        [
         "dbfs:/databricks-datasets/airlines/part-01478",
         "part-01478",
         67108944,
         1436493823000
        ],
        [
         "dbfs:/databricks-datasets/airlines/part-01479",
         "part-01479",
         67108845,
         1436493823000
        ],
        [
         "dbfs:/databricks-datasets/airlines/part-01480",
         "part-01480",
         67108839,
         1436493824000
        ],
        [
         "dbfs:/databricks-datasets/airlines/part-01481",
         "part-01481",
         67108900,
         1436493824000
        ],
        [
         "dbfs:/databricks-datasets/airlines/part-01482",
         "part-01482",
         67108874,
         1436493824000
        ],
        [
         "dbfs:/databricks-datasets/airlines/part-01483",
         "part-01483",
         67108782,
         1436493825000
        ],
        [
         "dbfs:/databricks-datasets/airlines/part-01484",
         "part-01484",
         67108941,
         1436493825000
        ],
        [
         "dbfs:/databricks-datasets/airlines/part-01485",
         "part-01485",
         67108841,
         1436493826000
        ],
        [
         "dbfs:/databricks-datasets/airlines/part-01486",
         "part-01486",
         67108864,
         1436493827000
        ],
        [
         "dbfs:/databricks-datasets/airlines/part-01487",
         "part-01487",
         67108833,
         1436493827000
        ],
        [
         "dbfs:/databricks-datasets/airlines/part-01488",
         "part-01488",
         67108867,
         1436493828000
        ],
        [
         "dbfs:/databricks-datasets/airlines/part-01489",
         "part-01489",
         67108857,
         1436493828000
        ],
        [
         "dbfs:/databricks-datasets/airlines/part-01490",
         "part-01490",
         67108872,
         1436493829000
        ],
        [
         "dbfs:/databricks-datasets/airlines/part-01491",
         "part-01491",
         67108893,
         1436493829000
        ],
        [
         "dbfs:/databricks-datasets/airlines/part-01492",
         "part-01492",
         67108868,
         1436493830000
        ],
        [
         "dbfs:/databricks-datasets/airlines/part-01493",
         "part-01493",
         67108840,
         1436493830000
        ],
        [
         "dbfs:/databricks-datasets/airlines/part-01494",
         "part-01494",
         67108893,
         1436493831000
        ],
        [
         "dbfs:/databricks-datasets/airlines/part-01495",
         "part-01495",
         67108858,
         1436493831000
        ],
        [
         "dbfs:/databricks-datasets/airlines/part-01496",
         "part-01496",
         67108832,
         1436493831000
        ],
        [
         "dbfs:/databricks-datasets/airlines/part-01497",
         "part-01497",
         67108826,
         1436493832000
        ],
        [
         "dbfs:/databricks-datasets/airlines/part-01498",
         "part-01498",
         67108926,
         1436493832000
        ],
        [
         "dbfs:/databricks-datasets/airlines/part-01499",
         "part-01499",
         67108846,
         1436493833000
        ],
        [
         "dbfs:/databricks-datasets/airlines/part-01500",
         "part-01500",
         67108846,
         1436493833000
        ],
        [
         "dbfs:/databricks-datasets/airlines/part-01501",
         "part-01501",
         67108876,
         1436493834000
        ],
        [
         "dbfs:/databricks-datasets/airlines/part-01502",
         "part-01502",
         67108918,
         1436493834000
        ],
        [
         "dbfs:/databricks-datasets/airlines/part-01503",
         "part-01503",
         67108831,
         1436493834000
        ],
        [
         "dbfs:/databricks-datasets/airlines/part-01504",
         "part-01504",
         67108817,
         1436493835000
        ],
        [
         "dbfs:/databricks-datasets/airlines/part-01505",
         "part-01505",
         67108940,
         1436493835000
        ],
        [
         "dbfs:/databricks-datasets/airlines/part-01506",
         "part-01506",
         67108840,
         1436493836000
        ],
        [
         "dbfs:/databricks-datasets/airlines/part-01507",
         "part-01507",
         67108852,
         1436493836000
        ],
        [
         "dbfs:/databricks-datasets/airlines/part-01508",
         "part-01508",
         67108854,
         1436493836000
        ],
        [
         "dbfs:/databricks-datasets/airlines/part-01509",
         "part-01509",
         67108881,
         1436493837000
        ],
        [
         "dbfs:/databricks-datasets/airlines/part-01510",
         "part-01510",
         67108893,
         1436493837000
        ],
        [
         "dbfs:/databricks-datasets/airlines/part-01511",
         "part-01511",
         67108776,
         1436493838000
        ],
        [
         "dbfs:/databricks-datasets/airlines/part-01512",
         "part-01512",
         67108867,
         1436493838000
        ],
        [
         "dbfs:/databricks-datasets/airlines/part-01513",
         "part-01513",
         67108866,
         1436493839000
        ],
        [
         "dbfs:/databricks-datasets/airlines/part-01514",
         "part-01514",
         67108954,
         1436493839000
        ],
        [
         "dbfs:/databricks-datasets/airlines/part-01515",
         "part-01515",
         67108794,
         1436493840000
        ],
        [
         "dbfs:/databricks-datasets/airlines/part-01516",
         "part-01516",
         67108875,
         1436493840000
        ],
        [
         "dbfs:/databricks-datasets/airlines/part-01517",
         "part-01517",
         67108905,
         1436493840000
        ],
        [
         "dbfs:/databricks-datasets/airlines/part-01518",
         "part-01518",
         67108891,
         1436493841000
        ],
        [
         "dbfs:/databricks-datasets/airlines/part-01519",
         "part-01519",
         67108771,
         1436493841000
        ],
        [
         "dbfs:/databricks-datasets/airlines/part-01520",
         "part-01520",
         67108901,
         1436493842000
        ],
        [
         "dbfs:/databricks-datasets/airlines/part-01521",
         "part-01521",
         67108903,
         1436493842000
        ],
        [
         "dbfs:/databricks-datasets/airlines/part-01522",
         "part-01522",
         67108830,
         1436493843000
        ],
        [
         "dbfs:/databricks-datasets/airlines/part-01523",
         "part-01523",
         67108897,
         1436493843000
        ],
        [
         "dbfs:/databricks-datasets/airlines/part-01524",
         "part-01524",
         67108858,
         1436493843000
        ],
        [
         "dbfs:/databricks-datasets/airlines/part-01525",
         "part-01525",
         67108876,
         1436493844000
        ],
        [
         "dbfs:/databricks-datasets/airlines/part-01526",
         "part-01526",
         67108845,
         1436493844000
        ],
        [
         "dbfs:/databricks-datasets/airlines/part-01527",
         "part-01527",
         67108802,
         1436493845000
        ],
        [
         "dbfs:/databricks-datasets/airlines/part-01528",
         "part-01528",
         67108939,
         1436493845000
        ],
        [
         "dbfs:/databricks-datasets/airlines/part-01529",
         "part-01529",
         67108821,
         1436493846000
        ],
        [
         "dbfs:/databricks-datasets/airlines/part-01530",
         "part-01530",
         67108920,
         1436493846000
        ],
        [
         "dbfs:/databricks-datasets/airlines/part-01531",
         "part-01531",
         67108801,
         1436493847000
        ],
        [
         "dbfs:/databricks-datasets/airlines/part-01532",
         "part-01532",
         67108913,
         1436493847000
        ],
        [
         "dbfs:/databricks-datasets/airlines/part-01533",
         "part-01533",
         67108802,
         1436493848000
        ],
        [
         "dbfs:/databricks-datasets/airlines/part-01534",
         "part-01534",
         67108929,
         1436493848000
        ],
        [
         "dbfs:/databricks-datasets/airlines/part-01535",
         "part-01535",
         67108805,
         1436493848000
        ],
        [
         "dbfs:/databricks-datasets/airlines/part-01536",
         "part-01536",
         67108875,
         1436493849000
        ],
        [
         "dbfs:/databricks-datasets/airlines/part-01537",
         "part-01537",
         67108910,
         1436493850000
        ],
        [
         "dbfs:/databricks-datasets/airlines/part-01538",
         "part-01538",
         67108879,
         1436493850000
        ],
        [
         "dbfs:/databricks-datasets/airlines/part-01539",
         "part-01539",
         67108832,
         1436493851000
        ],
        [
         "dbfs:/databricks-datasets/airlines/part-01540",
         "part-01540",
         67108834,
         1436493852000
        ],
        [
         "dbfs:/databricks-datasets/airlines/part-01541",
         "part-01541",
         67108882,
         1436493852000
        ],
        [
         "dbfs:/databricks-datasets/airlines/part-01542",
         "part-01542",
         67108829,
         1436493853000
        ],
        [
         "dbfs:/databricks-datasets/airlines/part-01543",
         "part-01543",
         67108874,
         1436493853000
        ],
        [
         "dbfs:/databricks-datasets/airlines/part-01544",
         "part-01544",
         67108875,
         1436493854000
        ],
        [
         "dbfs:/databricks-datasets/airlines/part-01545",
         "part-01545",
         67108898,
         1436493854000
        ],
        [
         "dbfs:/databricks-datasets/airlines/part-01546",
         "part-01546",
         67108849,
         1436493855000
        ],
        [
         "dbfs:/databricks-datasets/airlines/part-01547",
         "part-01547",
         67108808,
         1436493855000
        ],
        [
         "dbfs:/databricks-datasets/airlines/part-01548",
         "part-01548",
         67108953,
         1436493855000
        ],
        [
         "dbfs:/databricks-datasets/airlines/part-01549",
         "part-01549",
         67108779,
         1436493856000
        ],
        [
         "dbfs:/databricks-datasets/airlines/part-01550",
         "part-01550",
         67108905,
         1436493856000
        ],
        [
         "dbfs:/databricks-datasets/airlines/part-01551",
         "part-01551",
         67108906,
         1436493857000
        ],
        [
         "dbfs:/databricks-datasets/airlines/part-01552",
         "part-01552",
         67108807,
         1436493857000
        ],
        [
         "dbfs:/databricks-datasets/airlines/part-01553",
         "part-01553",
         67108833,
         1436493857000
        ],
        [
         "dbfs:/databricks-datasets/airlines/part-01554",
         "part-01554",
         67108927,
         1436493858000
        ],
        [
         "dbfs:/databricks-datasets/airlines/part-01555",
         "part-01555",
         67108811,
         1436493858000
        ],
        [
         "dbfs:/databricks-datasets/airlines/part-01556",
         "part-01556",
         67108923,
         1436493859000
        ],
        [
         "dbfs:/databricks-datasets/airlines/part-01557",
         "part-01557",
         67108822,
         1436493859000
        ],
        [
         "dbfs:/databricks-datasets/airlines/part-01558",
         "part-01558",
         67108858,
         1436493860000
        ],
        [
         "dbfs:/databricks-datasets/airlines/part-01559",
         "part-01559",
         67108878,
         1436493860000
        ],
        [
         "dbfs:/databricks-datasets/airlines/part-01560",
         "part-01560",
         67108829,
         1436493860000
        ],
        [
         "dbfs:/databricks-datasets/airlines/part-01561",
         "part-01561",
         67108892,
         1436493861000
        ],
        [
         "dbfs:/databricks-datasets/airlines/part-01562",
         "part-01562",
         67108883,
         1436493861000
        ],
        [
         "dbfs:/databricks-datasets/airlines/part-01563",
         "part-01563",
         67108838,
         1436493862000
        ],
        [
         "dbfs:/databricks-datasets/airlines/part-01564",
         "part-01564",
         67108910,
         1436493862000
        ],
        [
         "dbfs:/databricks-datasets/airlines/part-01565",
         "part-01565",
         67108812,
         1436493862000
        ],
        [
         "dbfs:/databricks-datasets/airlines/part-01566",
         "part-01566",
         67108875,
         1436493863000
        ],
        [
         "dbfs:/databricks-datasets/airlines/part-01567",
         "part-01567",
         67108857,
         1436493863000
        ],
        [
         "dbfs:/databricks-datasets/airlines/part-01568",
         "part-01568",
         67108903,
         1436493864000
        ],
        [
         "dbfs:/databricks-datasets/airlines/part-01569",
         "part-01569",
         67108862,
         1436493864000
        ],
        [
         "dbfs:/databricks-datasets/airlines/part-01570",
         "part-01570",
         67108856,
         1436493865000
        ],
        [
         "dbfs:/databricks-datasets/airlines/part-01571",
         "part-01571",
         67108835,
         1436493865000
        ],
        [
         "dbfs:/databricks-datasets/airlines/part-01572",
         "part-01572",
         67108885,
         1436493866000
        ],
        [
         "dbfs:/databricks-datasets/airlines/part-01573",
         "part-01573",
         67108914,
         1436493866000
        ],
        [
         "dbfs:/databricks-datasets/airlines/part-01574",
         "part-01574",
         67108809,
         1436493866000
        ],
        [
         "dbfs:/databricks-datasets/airlines/part-01575",
         "part-01575",
         67108896,
         1436493867000
        ],
        [
         "dbfs:/databricks-datasets/airlines/part-01576",
         "part-01576",
         67108891,
         1436493867000
        ],
        [
         "dbfs:/databricks-datasets/airlines/part-01577",
         "part-01577",
         67108816,
         1436493868000
        ],
        [
         "dbfs:/databricks-datasets/airlines/part-01578",
         "part-01578",
         67108891,
         1436493868000
        ],
        [
         "dbfs:/databricks-datasets/airlines/part-01579",
         "part-01579",
         67108858,
         1436493868000
        ],
        [
         "dbfs:/databricks-datasets/airlines/part-01580",
         "part-01580",
         67108853,
         1436493869000
        ],
        [
         "dbfs:/databricks-datasets/airlines/part-01581",
         "part-01581",
         67108845,
         1436493869000
        ],
        [
         "dbfs:/databricks-datasets/airlines/part-01582",
         "part-01582",
         67108920,
         1436493870000
        ],
        [
         "dbfs:/databricks-datasets/airlines/part-01583",
         "part-01583",
         67108770,
         1436493870000
        ],
        [
         "dbfs:/databricks-datasets/airlines/part-01584",
         "part-01584",
         67108929,
         1436493871000
        ],
        [
         "dbfs:/databricks-datasets/airlines/part-01585",
         "part-01585",
         67108841,
         1436493871000
        ],
        [
         "dbfs:/databricks-datasets/airlines/part-01586",
         "part-01586",
         67108824,
         1436493872000
        ],
        [
         "dbfs:/databricks-datasets/airlines/part-01587",
         "part-01587",
         67108948,
         1436493872000
        ],
        [
         "dbfs:/databricks-datasets/airlines/part-01588",
         "part-01588",
         67108805,
         1436493873000
        ],
        [
         "dbfs:/databricks-datasets/airlines/part-01589",
         "part-01589",
         67108926,
         1436493873000
        ],
        [
         "dbfs:/databricks-datasets/airlines/part-01590",
         "part-01590",
         67108862,
         1436493874000
        ],
        [
         "dbfs:/databricks-datasets/airlines/part-01591",
         "part-01591",
         67108835,
         1436493874000
        ],
        [
         "dbfs:/databricks-datasets/airlines/part-01592",
         "part-01592",
         67108867,
         1436493874000
        ],
        [
         "dbfs:/databricks-datasets/airlines/part-01593",
         "part-01593",
         67108815,
         1436493875000
        ],
        [
         "dbfs:/databricks-datasets/airlines/part-01594",
         "part-01594",
         67108905,
         1436493875000
        ],
        [
         "dbfs:/databricks-datasets/airlines/part-01595",
         "part-01595",
         67108877,
         1436493875000
        ],
        [
         "dbfs:/databricks-datasets/airlines/part-01596",
         "part-01596",
         67108853,
         1436493876000
        ],
        [
         "dbfs:/databricks-datasets/airlines/part-01597",
         "part-01597",
         67108883,
         1436493876000
        ],
        [
         "dbfs:/databricks-datasets/airlines/part-01598",
         "part-01598",
         67108800,
         1436493877000
        ],
        [
         "dbfs:/databricks-datasets/airlines/part-01599",
         "part-01599",
         67108919,
         1436493877000
        ],
        [
         "dbfs:/databricks-datasets/airlines/part-01600",
         "part-01600",
         67108877,
         1436493877000
        ],
        [
         "dbfs:/databricks-datasets/airlines/part-01601",
         "part-01601",
         67108824,
         1436493878000
        ],
        [
         "dbfs:/databricks-datasets/airlines/part-01602",
         "part-01602",
         67108840,
         1436493878000
        ],
        [
         "dbfs:/databricks-datasets/airlines/part-01603",
         "part-01603",
         67108880,
         1436493879000
        ],
        [
         "dbfs:/databricks-datasets/airlines/part-01604",
         "part-01604",
         67108880,
         1436493879000
        ],
        [
         "dbfs:/databricks-datasets/airlines/part-01605",
         "part-01605",
         67108824,
         1436493880000
        ],
        [
         "dbfs:/databricks-datasets/airlines/part-01606",
         "part-01606",
         67108929,
         1436493880000
        ],
        [
         "dbfs:/databricks-datasets/airlines/part-01607",
         "part-01607",
         67108820,
         1436493880000
        ],
        [
         "dbfs:/databricks-datasets/airlines/part-01608",
         "part-01608",
         67108931,
         1436493881000
        ],
        [
         "dbfs:/databricks-datasets/airlines/part-01609",
         "part-01609",
         67108789,
         1436493881000
        ],
        [
         "dbfs:/databricks-datasets/airlines/part-01610",
         "part-01610",
         67108860,
         1436493882000
        ],
        [
         "dbfs:/databricks-datasets/airlines/part-01611",
         "part-01611",
         67108913,
         1436493882000
        ],
        [
         "dbfs:/databricks-datasets/airlines/part-01612",
         "part-01612",
         67108892,
         1436493883000
        ],
        [
         "dbfs:/databricks-datasets/airlines/part-01613",
         "part-01613",
         67108770,
         1436493883000
        ],
        [
         "dbfs:/databricks-datasets/airlines/part-01614",
         "part-01614",
         67108901,
         1436493883000
        ],
        [
         "dbfs:/databricks-datasets/airlines/part-01615",
         "part-01615",
         67108848,
         1436493884000
        ],
        [
         "dbfs:/databricks-datasets/airlines/part-01616",
         "part-01616",
         67108931,
         1436493884000
        ],
        [
         "dbfs:/databricks-datasets/airlines/part-01617",
         "part-01617",
         67108843,
         1436493885000
        ],
        [
         "dbfs:/databricks-datasets/airlines/part-01618",
         "part-01618",
         67108901,
         1436493885000
        ],
        [
         "dbfs:/databricks-datasets/airlines/part-01619",
         "part-01619",
         67108849,
         1436493885000
        ],
        [
         "dbfs:/databricks-datasets/airlines/part-01620",
         "part-01620",
         67108854,
         1436493886000
        ],
        [
         "dbfs:/databricks-datasets/airlines/part-01621",
         "part-01621",
         67108795,
         1436493886000
        ],
        [
         "dbfs:/databricks-datasets/airlines/part-01622",
         "part-01622",
         67108855,
         1436493887000
        ],
        [
         "dbfs:/databricks-datasets/airlines/part-01623",
         "part-01623",
         67108941,
         1436493887000
        ],
        [
         "dbfs:/databricks-datasets/airlines/part-01624",
         "part-01624",
         67108803,
         1436493887000
        ],
        [
         "dbfs:/databricks-datasets/airlines/part-01625",
         "part-01625",
         67108860,
         1436493888000
        ],
        [
         "dbfs:/databricks-datasets/airlines/part-01626",
         "part-01626",
         67108857,
         1436493888000
        ],
        [
         "dbfs:/databricks-datasets/airlines/part-01627",
         "part-01627",
         67108874,
         1436493889000
        ],
        [
         "dbfs:/databricks-datasets/airlines/part-01628",
         "part-01628",
         67108928,
         1436493889000
        ],
        [
         "dbfs:/databricks-datasets/airlines/part-01629",
         "part-01629",
         67108813,
         1436493890000
        ],
        [
         "dbfs:/databricks-datasets/airlines/part-01630",
         "part-01630",
         67108926,
         1436493890000
        ],
        [
         "dbfs:/databricks-datasets/airlines/part-01631",
         "part-01631",
         67108857,
         1436493890000
        ],
        [
         "dbfs:/databricks-datasets/airlines/part-01632",
         "part-01632",
         67108809,
         1436493891000
        ],
        [
         "dbfs:/databricks-datasets/airlines/part-01633",
         "part-01633",
         67108892,
         1436493891000
        ],
        [
         "dbfs:/databricks-datasets/airlines/part-01634",
         "part-01634",
         67108816,
         1436493892000
        ],
        [
         "dbfs:/databricks-datasets/airlines/part-01635",
         "part-01635",
         67108895,
         1436493893000
        ],
        [
         "dbfs:/databricks-datasets/airlines/part-01636",
         "part-01636",
         67108907,
         1436493893000
        ],
        [
         "dbfs:/databricks-datasets/airlines/part-01637",
         "part-01637",
         67108852,
         1436493893000
        ],
        [
         "dbfs:/databricks-datasets/airlines/part-01638",
         "part-01638",
         67108796,
         1436493894000
        ],
        [
         "dbfs:/databricks-datasets/airlines/part-01639",
         "part-01639",
         67108898,
         1436493894000
        ],
        [
         "dbfs:/databricks-datasets/airlines/part-01640",
         "part-01640",
         67108890,
         1436493895000
        ],
        [
         "dbfs:/databricks-datasets/airlines/part-01641",
         "part-01641",
         67108886,
         1436493895000
        ],
        [
         "dbfs:/databricks-datasets/airlines/part-01642",
         "part-01642",
         67108783,
         1436493896000
        ],
        [
         "dbfs:/databricks-datasets/airlines/part-01643",
         "part-01643",
         67108914,
         1436493896000
        ],
        [
         "dbfs:/databricks-datasets/airlines/part-01644",
         "part-01644",
         67108843,
         1436493897000
        ],
        [
         "dbfs:/databricks-datasets/airlines/part-01645",
         "part-01645",
         67654682,
         1436493897000
        ],
        [
         "dbfs:/databricks-datasets/airlines/part-01646",
         "part-01646",
         67761195,
         1436493898000
        ],
        [
         "dbfs:/databricks-datasets/airlines/part-01647",
         "part-01647",
         67876777,
         1436493898000
        ],
        [
         "dbfs:/databricks-datasets/airlines/part-01648",
         "part-01648",
         67859925,
         1436493899000
        ],
        [
         "dbfs:/databricks-datasets/airlines/part-01649",
         "part-01649",
         67843663,
         1436493899000
        ],
        [
         "dbfs:/databricks-datasets/airlines/part-01650",
         "part-01650",
         67804624,
         1436493899000
        ],
        [
         "dbfs:/databricks-datasets/airlines/part-01651",
         "part-01651",
         67777920,
         1436493900000
        ],
        [
         "dbfs:/databricks-datasets/airlines/part-01652",
         "part-01652",
         67958173,
         1436493900000
        ],
        [
         "dbfs:/databricks-datasets/airlines/part-01653",
         "part-01653",
         67848306,
         1436493901000
        ],
        [
         "dbfs:/databricks-datasets/airlines/part-01654",
         "part-01654",
         67809474,
         1436493901000
        ],
        [
         "dbfs:/databricks-datasets/airlines/part-01655",
         "part-01655",
         67767676,
         1436493902000
        ],
        [
         "dbfs:/databricks-datasets/airlines/part-01656",
         "part-01656",
         67287528,
         1436493902000
        ],
        [
         "dbfs:/databricks-datasets/airlines/part-01657",
         "part-01657",
         67108843,
         1436493903000
        ],
        [
         "dbfs:/databricks-datasets/airlines/part-01658",
         "part-01658",
         67108884,
         1436493903000
        ],
        [
         "dbfs:/databricks-datasets/airlines/part-01659",
         "part-01659",
         67108867,
         1436493903000
        ],
        [
         "dbfs:/databricks-datasets/airlines/part-01660",
         "part-01660",
         67108905,
         1436493904000
        ],
        [
         "dbfs:/databricks-datasets/airlines/part-01661",
         "part-01661",
         67108797,
         1436493904000
        ],
        [
         "dbfs:/databricks-datasets/airlines/part-01662",
         "part-01662",
         67108939,
         1436493905000
        ],
        [
         "dbfs:/databricks-datasets/airlines/part-01663",
         "part-01663",
         67108807,
         1436493905000
        ],
        [
         "dbfs:/databricks-datasets/airlines/part-01664",
         "part-01664",
         67108878,
         1436493906000
        ],
        [
         "dbfs:/databricks-datasets/airlines/part-01665",
         "part-01665",
         67108867,
         1436493906000
        ],
        [
         "dbfs:/databricks-datasets/airlines/part-01666",
         "part-01666",
         67108823,
         1436493907000
        ],
        [
         "dbfs:/databricks-datasets/airlines/part-01667",
         "part-01667",
         67108896,
         1436493907000
        ],
        [
         "dbfs:/databricks-datasets/airlines/part-01668",
         "part-01668",
         67108912,
         1436493907000
        ],
        [
         "dbfs:/databricks-datasets/airlines/part-01669",
         "part-01669",
         67108796,
         1436493908000
        ],
        [
         "dbfs:/databricks-datasets/airlines/part-01670",
         "part-01670",
         67108881,
         1436493908000
        ],
        [
         "dbfs:/databricks-datasets/airlines/part-01671",
         "part-01671",
         67108915,
         1436493909000
        ],
        [
         "dbfs:/databricks-datasets/airlines/part-01672",
         "part-01672",
         67108798,
         1436493909000
        ],
        [
         "dbfs:/databricks-datasets/airlines/part-01673",
         "part-01673",
         67108901,
         1436493909000
        ],
        [
         "dbfs:/databricks-datasets/airlines/part-01674",
         "part-01674",
         67108811,
         1436493910000
        ],
        [
         "dbfs:/databricks-datasets/airlines/part-01675",
         "part-01675",
         67108940,
         1436493910000
        ],
        [
         "dbfs:/databricks-datasets/airlines/part-01676",
         "part-01676",
         67108841,
         1436493911000
        ],
        [
         "dbfs:/databricks-datasets/airlines/part-01677",
         "part-01677",
         67108839,
         1436493911000
        ],
        [
         "dbfs:/databricks-datasets/airlines/part-01678",
         "part-01678",
         67108872,
         1436493912000
        ],
        [
         "dbfs:/databricks-datasets/airlines/part-01679",
         "part-01679",
         67108892,
         1436493912000
        ],
        [
         "dbfs:/databricks-datasets/airlines/part-01680",
         "part-01680",
         67108811,
         1436493912000
        ],
        [
         "dbfs:/databricks-datasets/airlines/part-01681",
         "part-01681",
         67108844,
         1436493913000
        ],
        [
         "dbfs:/databricks-datasets/airlines/part-01682",
         "part-01682",
         67108896,
         1436493913000
        ],
        [
         "dbfs:/databricks-datasets/airlines/part-01683",
         "part-01683",
         67108915,
         1436493914000
        ],
        [
         "dbfs:/databricks-datasets/airlines/part-01684",
         "part-01684",
         67108866,
         1436493914000
        ],
        [
         "dbfs:/databricks-datasets/airlines/part-01685",
         "part-01685",
         67108789,
         1436493915000
        ],
        [
         "dbfs:/databricks-datasets/airlines/part-01686",
         "part-01686",
         67108853,
         1436493915000
        ],
        [
         "dbfs:/databricks-datasets/airlines/part-01687",
         "part-01687",
         67108958,
         1436493916000
        ],
        [
         "dbfs:/databricks-datasets/airlines/part-01688",
         "part-01688",
         67108844,
         1436493916000
        ],
        [
         "dbfs:/databricks-datasets/airlines/part-01689",
         "part-01689",
         67108802,
         1436493916000
        ],
        [
         "dbfs:/databricks-datasets/airlines/part-01690",
         "part-01690",
         67108869,
         1436493917000
        ],
        [
         "dbfs:/databricks-datasets/airlines/part-01691",
         "part-01691",
         67108888,
         1436493917000
        ],
        [
         "dbfs:/databricks-datasets/airlines/part-01692",
         "part-01692",
         67108891,
         1436493918000
        ],
        [
         "dbfs:/databricks-datasets/airlines/part-01693",
         "part-01693",
         67108834,
         1436493918000
        ],
        [
         "dbfs:/databricks-datasets/airlines/part-01694",
         "part-01694",
         67108846,
         1436493918000
        ],
        [
         "dbfs:/databricks-datasets/airlines/part-01695",
         "part-01695",
         67108923,
         1436493919000
        ],
        [
         "dbfs:/databricks-datasets/airlines/part-01696",
         "part-01696",
         67108804,
         1436493919000
        ],
        [
         "dbfs:/databricks-datasets/airlines/part-01697",
         "part-01697",
         67108909,
         1436493920000
        ],
        [
         "dbfs:/databricks-datasets/airlines/part-01698",
         "part-01698",
         67108812,
         1436493920000
        ],
        [
         "dbfs:/databricks-datasets/airlines/part-01699",
         "part-01699",
         67108943,
         1436493921000
        ],
        [
         "dbfs:/databricks-datasets/airlines/part-01700",
         "part-01700",
         67108820,
         1436493921000
        ],
        [
         "dbfs:/databricks-datasets/airlines/part-01701",
         "part-01701",
         67108915,
         1436493922000
        ],
        [
         "dbfs:/databricks-datasets/airlines/part-01702",
         "part-01702",
         67108846,
         1436493922000
        ],
        [
         "dbfs:/databricks-datasets/airlines/part-01703",
         "part-01703",
         67108869,
         1436493923000
        ],
        [
         "dbfs:/databricks-datasets/airlines/part-01704",
         "part-01704",
         67108868,
         1436493923000
        ],
        [
         "dbfs:/databricks-datasets/airlines/part-01705",
         "part-01705",
         67108824,
         1436493924000
        ],
        [
         "dbfs:/databricks-datasets/airlines/part-01706",
         "part-01706",
         67108871,
         1436493924000
        ],
        [
         "dbfs:/databricks-datasets/airlines/part-01707",
         "part-01707",
         67108837,
         1436493925000
        ],
        [
         "dbfs:/databricks-datasets/airlines/part-01708",
         "part-01708",
         67108876,
         1436493926000
        ],
        [
         "dbfs:/databricks-datasets/airlines/part-01709",
         "part-01709",
         67108904,
         1436493926000
        ],
        [
         "dbfs:/databricks-datasets/airlines/part-01710",
         "part-01710",
         67108879,
         1436493927000
        ],
        [
         "dbfs:/databricks-datasets/airlines/part-01711",
         "part-01711",
         67108860,
         1436493927000
        ],
        [
         "dbfs:/databricks-datasets/airlines/part-01712",
         "part-01712",
         67108872,
         1436493928000
        ],
        [
         "dbfs:/databricks-datasets/airlines/part-01713",
         "part-01713",
         67108843,
         1436493929000
        ],
        [
         "dbfs:/databricks-datasets/airlines/part-01714",
         "part-01714",
         67108856,
         1436493929000
        ],
        [
         "dbfs:/databricks-datasets/airlines/part-01715",
         "part-01715",
         67108808,
         1436493930000
        ],
        [
         "dbfs:/databricks-datasets/airlines/part-01716",
         "part-01716",
         67108929,
         1436493930000
        ],
        [
         "dbfs:/databricks-datasets/airlines/part-01717",
         "part-01717",
         67108793,
         1436493931000
        ],
        [
         "dbfs:/databricks-datasets/airlines/part-01718",
         "part-01718",
         67108901,
         1436493931000
        ],
        [
         "dbfs:/databricks-datasets/airlines/part-01719",
         "part-01719",
         67108853,
         1436493931000
        ],
        [
         "dbfs:/databricks-datasets/airlines/part-01720",
         "part-01720",
         67108891,
         1436493932000
        ],
        [
         "dbfs:/databricks-datasets/airlines/part-01721",
         "part-01721",
         67108851,
         1436493932000
        ],
        [
         "dbfs:/databricks-datasets/airlines/part-01722",
         "part-01722",
         67108905,
         1436493933000
        ],
        [
         "dbfs:/databricks-datasets/airlines/part-01723",
         "part-01723",
         67108852,
         1436493933000
        ],
        [
         "dbfs:/databricks-datasets/airlines/part-01724",
         "part-01724",
         67108827,
         1436493934000
        ],
        [
         "dbfs:/databricks-datasets/airlines/part-01725",
         "part-01725",
         67108926,
         1436493934000
        ],
        [
         "dbfs:/databricks-datasets/airlines/part-01726",
         "part-01726",
         67108815,
         1436493935000
        ],
        [
         "dbfs:/databricks-datasets/airlines/part-01727",
         "part-01727",
         67108830,
         1436493935000
        ],
        [
         "dbfs:/databricks-datasets/airlines/part-01728",
         "part-01728",
         67108848,
         1436493935000
        ],
        [
         "dbfs:/databricks-datasets/airlines/part-01729",
         "part-01729",
         67108878,
         1436493936000
        ],
        [
         "dbfs:/databricks-datasets/airlines/part-01730",
         "part-01730",
         67108864,
         1436493936000
        ],
        [
         "dbfs:/databricks-datasets/airlines/part-01731",
         "part-01731",
         67108923,
         1436493937000
        ],
        [
         "dbfs:/databricks-datasets/airlines/part-01732",
         "part-01732",
         67108825,
         1436493937000
        ],
        [
         "dbfs:/databricks-datasets/airlines/part-01733",
         "part-01733",
         67108826,
         1436493938000
        ],
        [
         "dbfs:/databricks-datasets/airlines/part-01734",
         "part-01734",
         67108956,
         1436493938000
        ],
        [
         "dbfs:/databricks-datasets/airlines/part-01735",
         "part-01735",
         67108862,
         1436493939000
        ],
        [
         "dbfs:/databricks-datasets/airlines/part-01736",
         "part-01736",
         67108791,
         1436493939000
        ],
        [
         "dbfs:/databricks-datasets/airlines/part-01737",
         "part-01737",
         67108906,
         1436493940000
        ],
        [
         "dbfs:/databricks-datasets/airlines/part-01738",
         "part-01738",
         67108804,
         1436493940000
        ],
        [
         "dbfs:/databricks-datasets/airlines/part-01739",
         "part-01739",
         67108960,
         1436493940000
        ],
        [
         "dbfs:/databricks-datasets/airlines/part-01740",
         "part-01740",
         67108861,
         1436493941000
        ],
        [
         "dbfs:/databricks-datasets/airlines/part-01741",
         "part-01741",
         67108856,
         1436493941000
        ],
        [
         "dbfs:/databricks-datasets/airlines/part-01742",
         "part-01742",
         67108808,
         1436493942000
        ],
        [
         "dbfs:/databricks-datasets/airlines/part-01743",
         "part-01743",
         67108932,
         1436493942000
        ],
        [
         "dbfs:/databricks-datasets/airlines/part-01744",
         "part-01744",
         67108859,
         1436493943000
        ],
        [
         "dbfs:/databricks-datasets/airlines/part-01745",
         "part-01745",
         67108849,
         1436493943000
        ],
        [
         "dbfs:/databricks-datasets/airlines/part-01746",
         "part-01746",
         67108812,
         1436493944000
        ],
        [
         "dbfs:/databricks-datasets/airlines/part-01747",
         "part-01747",
         67108909,
         1436493944000
        ],
        [
         "dbfs:/databricks-datasets/airlines/part-01748",
         "part-01748",
         67108838,
         1436493945000
        ],
        [
         "dbfs:/databricks-datasets/airlines/part-01749",
         "part-01749",
         67108847,
         1436493945000
        ],
        [
         "dbfs:/databricks-datasets/airlines/part-01750",
         "part-01750",
         67108860,
         1436493946000
        ],
        [
         "dbfs:/databricks-datasets/airlines/part-01751",
         "part-01751",
         67108900,
         1436493946000
        ],
        [
         "dbfs:/databricks-datasets/airlines/part-01752",
         "part-01752",
         67108820,
         1436493947000
        ],
        [
         "dbfs:/databricks-datasets/airlines/part-01753",
         "part-01753",
         67108859,
         1436493947000
        ],
        [
         "dbfs:/databricks-datasets/airlines/part-01754",
         "part-01754",
         67108862,
         1436493948000
        ],
        [
         "dbfs:/databricks-datasets/airlines/part-01755",
         "part-01755",
         67108925,
         1436493948000
        ],
        [
         "dbfs:/databricks-datasets/airlines/part-01756",
         "part-01756",
         67108813,
         1436493949000
        ],
        [
         "dbfs:/databricks-datasets/airlines/part-01757",
         "part-01757",
         67108861,
         1436493949000
        ],
        [
         "dbfs:/databricks-datasets/airlines/part-01758",
         "part-01758",
         67108852,
         1436493950000
        ],
        [
         "dbfs:/databricks-datasets/airlines/part-01759",
         "part-01759",
         67108913,
         1436493951000
        ],
        [
         "dbfs:/databricks-datasets/airlines/part-01760",
         "part-01760",
         67108819,
         1436493951000
        ],
        [
         "dbfs:/databricks-datasets/airlines/part-01761",
         "part-01761",
         67108945,
         1436493952000
        ],
        [
         "dbfs:/databricks-datasets/airlines/part-01762",
         "part-01762",
         67108879,
         1436493952000
        ],
        [
         "dbfs:/databricks-datasets/airlines/part-01763",
         "part-01763",
         67108815,
         1436493953000
        ],
        [
         "dbfs:/databricks-datasets/airlines/part-01764",
         "part-01764",
         67108820,
         1436493953000
        ],
        [
         "dbfs:/databricks-datasets/airlines/part-01765",
         "part-01765",
         67108882,
         1436493954000
        ],
        [
         "dbfs:/databricks-datasets/airlines/part-01766",
         "part-01766",
         67108875,
         1436493954000
        ],
        [
         "dbfs:/databricks-datasets/airlines/part-01767",
         "part-01767",
         67108834,
         1436493955000
        ],
        [
         "dbfs:/databricks-datasets/airlines/part-01768",
         "part-01768",
         67108959,
         1436493955000
        ],
        [
         "dbfs:/databricks-datasets/airlines/part-01769",
         "part-01769",
         67108839,
         1436493956000
        ],
        [
         "dbfs:/databricks-datasets/airlines/part-01770",
         "part-01770",
         67108825,
         1436493956000
        ],
        [
         "dbfs:/databricks-datasets/airlines/part-01771",
         "part-01771",
         67108865,
         1436493957000
        ],
        [
         "dbfs:/databricks-datasets/airlines/part-01772",
         "part-01772",
         67108920,
         1436493957000
        ],
        [
         "dbfs:/databricks-datasets/airlines/part-01773",
         "part-01773",
         67108802,
         1436493958000
        ],
        [
         "dbfs:/databricks-datasets/airlines/part-01774",
         "part-01774",
         67108883,
         1436493958000
        ],
        [
         "dbfs:/databricks-datasets/airlines/part-01775",
         "part-01775",
         67108820,
         1436493958000
        ],
        [
         "dbfs:/databricks-datasets/airlines/part-01776",
         "part-01776",
         67108908,
         1436493959000
        ],
        [
         "dbfs:/databricks-datasets/airlines/part-01777",
         "part-01777",
         67108898,
         1436493959000
        ],
        [
         "dbfs:/databricks-datasets/airlines/part-01778",
         "part-01778",
         67108824,
         1436493960000
        ],
        [
         "dbfs:/databricks-datasets/airlines/part-01779",
         "part-01779",
         67108902,
         1436493960000
        ],
        [
         "dbfs:/databricks-datasets/airlines/part-01780",
         "part-01780",
         67108853,
         1436493961000
        ],
        [
         "dbfs:/databricks-datasets/airlines/part-01781",
         "part-01781",
         67108836,
         1436493961000
        ],
        [
         "dbfs:/databricks-datasets/airlines/part-01782",
         "part-01782",
         67108856,
         1436493962000
        ],
        [
         "dbfs:/databricks-datasets/airlines/part-01783",
         "part-01783",
         67108850,
         1436493962000
        ],
        [
         "dbfs:/databricks-datasets/airlines/part-01784",
         "part-01784",
         67108844,
         1436493962000
        ],
        [
         "dbfs:/databricks-datasets/airlines/part-01785",
         "part-01785",
         67108960,
         1436493963000
        ],
        [
         "dbfs:/databricks-datasets/airlines/part-01786",
         "part-01786",
         67108820,
         1436493963000
        ],
        [
         "dbfs:/databricks-datasets/airlines/part-01787",
         "part-01787",
         67108902,
         1436493964000
        ],
        [
         "dbfs:/databricks-datasets/airlines/part-01788",
         "part-01788",
         67108787,
         1436493964000
        ],
        [
         "dbfs:/databricks-datasets/airlines/part-01789",
         "part-01789",
         67108861,
         1436493965000
        ],
        [
         "dbfs:/databricks-datasets/airlines/part-01790",
         "part-01790",
         67108869,
         1436493965000
        ],
        [
         "dbfs:/databricks-datasets/airlines/part-01791",
         "part-01791",
         67108937,
         1436493965000
        ],
        [
         "dbfs:/databricks-datasets/airlines/part-01792",
         "part-01792",
         67108860,
         1436493966000
        ],
        [
         "dbfs:/databricks-datasets/airlines/part-01793",
         "part-01793",
         67108813,
         1436493966000
        ],
        [
         "dbfs:/databricks-datasets/airlines/part-01794",
         "part-01794",
         67108916,
         1436493967000
        ],
        [
         "dbfs:/databricks-datasets/airlines/part-01795",
         "part-01795",
         67108801,
         1436493967000
        ],
        [
         "dbfs:/databricks-datasets/airlines/part-01796",
         "part-01796",
         67108901,
         1436493968000
        ],
        [
         "dbfs:/databricks-datasets/airlines/part-01797",
         "part-01797",
         67108837,
         1436493968000
        ],
        [
         "dbfs:/databricks-datasets/airlines/part-01798",
         "part-01798",
         67108878,
         1436493969000
        ],
        [
         "dbfs:/databricks-datasets/airlines/part-01799",
         "part-01799",
         67108840,
         1436493969000
        ],
        [
         "dbfs:/databricks-datasets/airlines/part-01800",
         "part-01800",
         67108889,
         1436493969000
        ],
        [
         "dbfs:/databricks-datasets/airlines/part-01801",
         "part-01801",
         67108852,
         1436493970000
        ],
        [
         "dbfs:/databricks-datasets/airlines/part-01802",
         "part-01802",
         67108910,
         1436493970000
        ],
        [
         "dbfs:/databricks-datasets/airlines/part-01803",
         "part-01803",
         67108853,
         1436493971000
        ],
        [
         "dbfs:/databricks-datasets/airlines/part-01804",
         "part-01804",
         67108854,
         1436493971000
        ],
        [
         "dbfs:/databricks-datasets/airlines/part-01805",
         "part-01805",
         67108837,
         1436493971000
        ],
        [
         "dbfs:/databricks-datasets/airlines/part-01806",
         "part-01806",
         67108862,
         1436493972000
        ],
        [
         "dbfs:/databricks-datasets/airlines/part-01807",
         "part-01807",
         67108908,
         1436493972000
        ],
        [
         "dbfs:/databricks-datasets/airlines/part-01808",
         "part-01808",
         67108791,
         1436493973000
        ],
        [
         "dbfs:/databricks-datasets/airlines/part-01809",
         "part-01809",
         67108911,
         1436493973000
        ],
        [
         "dbfs:/databricks-datasets/airlines/part-01810",
         "part-01810",
         67108814,
         1436493974000
        ],
        [
         "dbfs:/databricks-datasets/airlines/part-01811",
         "part-01811",
         67108938,
         1436493974000
        ],
        [
         "dbfs:/databricks-datasets/airlines/part-01812",
         "part-01812",
         67108889,
         1436493975000
        ],
        [
         "dbfs:/databricks-datasets/airlines/part-01813",
         "part-01813",
         67108864,
         1436493975000
        ],
        [
         "dbfs:/databricks-datasets/airlines/part-01814",
         "part-01814",
         67108791,
         1436493975000
        ],
        [
         "dbfs:/databricks-datasets/airlines/part-01815",
         "part-01815",
         67108933,
         1436493976000
        ],
        [
         "dbfs:/databricks-datasets/airlines/part-01816",
         "part-01816",
         67108821,
         1436493976000
        ],
        [
         "dbfs:/databricks-datasets/airlines/part-01817",
         "part-01817",
         67108879,
         1436493977000
        ],
        [
         "dbfs:/databricks-datasets/airlines/part-01818",
         "part-01818",
         67108814,
         1436493977000
        ],
        [
         "dbfs:/databricks-datasets/airlines/part-01819",
         "part-01819",
         67108925,
         1436493977000
        ],
        [
         "dbfs:/databricks-datasets/airlines/part-01820",
         "part-01820",
         67108879,
         1436493978000
        ],
        [
         "dbfs:/databricks-datasets/airlines/part-01821",
         "part-01821",
         67108861,
         1436493978000
        ],
        [
         "dbfs:/databricks-datasets/airlines/part-01822",
         "part-01822",
         67108807,
         1436493979000
        ],
        [
         "dbfs:/databricks-datasets/airlines/part-01823",
         "part-01823",
         67108920,
         1436493979000
        ],
        [
         "dbfs:/databricks-datasets/airlines/part-01824",
         "part-01824",
         67108841,
         1436493979000
        ],
        [
         "dbfs:/databricks-datasets/airlines/part-01825",
         "part-01825",
         67108814,
         1436493980000
        ],
        [
         "dbfs:/databricks-datasets/airlines/part-01826",
         "part-01826",
         67108859,
         1436493980000
        ],
        [
         "dbfs:/databricks-datasets/airlines/part-01827",
         "part-01827",
         67108882,
         1436493981000
        ],
        [
         "dbfs:/databricks-datasets/airlines/part-01828",
         "part-01828",
         67108841,
         1436493981000
        ],
        [
         "dbfs:/databricks-datasets/airlines/part-01829",
         "part-01829",
         67108907,
         1436493982000
        ],
        [
         "dbfs:/databricks-datasets/airlines/part-01830",
         "part-01830",
         67108847,
         1436493982000
        ],
        [
         "dbfs:/databricks-datasets/airlines/part-01831",
         "part-01831",
         67108919,
         1436493982000
        ],
        [
         "dbfs:/databricks-datasets/airlines/part-01832",
         "part-01832",
         67108777,
         1436493983000
        ],
        [
         "dbfs:/databricks-datasets/airlines/part-01833",
         "part-01833",
         67108938,
         1436493983000
        ],
        [
         "dbfs:/databricks-datasets/airlines/part-01834",
         "part-01834",
         67108849,
         1436493984000
        ],
        [
         "dbfs:/databricks-datasets/airlines/part-01835",
         "part-01835",
         67108882,
         1436493984000
        ],
        [
         "dbfs:/databricks-datasets/airlines/part-01836",
         "part-01836",
         67108829,
         1436493984000
        ],
        [
         "dbfs:/databricks-datasets/airlines/part-01837",
         "part-01837",
         67674504,
         1436493985000
        ],
        [
         "dbfs:/databricks-datasets/airlines/part-01838",
         "part-01838",
         67799762,
         1436493985000
        ],
        [
         "dbfs:/databricks-datasets/airlines/part-01839",
         "part-01839",
         67818712,
         1436493986000
        ],
        [
         "dbfs:/databricks-datasets/airlines/part-01840",
         "part-01840",
         67892174,
         1436493986000
        ],
        [
         "dbfs:/databricks-datasets/airlines/part-01841",
         "part-01841",
         67827449,
         1436493987000
        ],
        [
         "dbfs:/databricks-datasets/airlines/part-01842",
         "part-01842",
         67792682,
         1436493987000
        ],
        [
         "dbfs:/databricks-datasets/airlines/part-01843",
         "part-01843",
         67775110,
         1436493987000
        ],
        [
         "dbfs:/databricks-datasets/airlines/part-01844",
         "part-01844",
         67956931,
         1436493988000
        ],
        [
         "dbfs:/databricks-datasets/airlines/part-01845",
         "part-01845",
         67850222,
         1436493988000
        ],
        [
         "dbfs:/databricks-datasets/airlines/part-01846",
         "part-01846",
         67807844,
         1436493989000
        ],
        [
         "dbfs:/databricks-datasets/airlines/part-01847",
         "part-01847",
         67771834,
         1436493989000
        ],
        [
         "dbfs:/databricks-datasets/airlines/part-01848",
         "part-01848",
         67282730,
         1436493990000
        ],
        [
         "dbfs:/databricks-datasets/airlines/part-01849",
         "part-01849",
         67108845,
         1436493990000
        ],
        [
         "dbfs:/databricks-datasets/airlines/part-01850",
         "part-01850",
         67108849,
         1436493990000
        ],
        [
         "dbfs:/databricks-datasets/airlines/part-01851",
         "part-01851",
         67108874,
         1436493991000
        ],
        [
         "dbfs:/databricks-datasets/airlines/part-01852",
         "part-01852",
         67108911,
         1436493991000
        ],
        [
         "dbfs:/databricks-datasets/airlines/part-01853",
         "part-01853",
         67108850,
         1436493991000
        ],
        [
         "dbfs:/databricks-datasets/airlines/part-01854",
         "part-01854",
         67108885,
         1436493992000
        ],
        [
         "dbfs:/databricks-datasets/airlines/part-01855",
         "part-01855",
         67108827,
         1436493992000
        ],
        [
         "dbfs:/databricks-datasets/airlines/part-01856",
         "part-01856",
         67108825,
         1436493993000
        ],
        [
         "dbfs:/databricks-datasets/airlines/part-01857",
         "part-01857",
         67108850,
         1436493993000
        ],
        [
         "dbfs:/databricks-datasets/airlines/part-01858",
         "part-01858",
         67108886,
         1436493993000
        ],
        [
         "dbfs:/databricks-datasets/airlines/part-01859",
         "part-01859",
         67108863,
         1436493994000
        ],
        [
         "dbfs:/databricks-datasets/airlines/part-01860",
         "part-01860",
         67108901,
         1436493994000
        ],
        [
         "dbfs:/databricks-datasets/airlines/part-01861",
         "part-01861",
         67108903,
         1436493994000
        ],
        [
         "dbfs:/databricks-datasets/airlines/part-01862",
         "part-01862",
         67108786,
         1436493995000
        ],
        [
         "dbfs:/databricks-datasets/airlines/part-01863",
         "part-01863",
         67108846,
         1436493995000
        ],
        [
         "dbfs:/databricks-datasets/airlines/part-01864",
         "part-01864",
         67108951,
         1436493996000
        ],
        [
         "dbfs:/databricks-datasets/airlines/part-01865",
         "part-01865",
         67108811,
         1436493996000
        ],
        [
         "dbfs:/databricks-datasets/airlines/part-01866",
         "part-01866",
         67108894,
         1436493996000
        ],
        [
         "dbfs:/databricks-datasets/airlines/part-01867",
         "part-01867",
         67108821,
         1436493997000
        ],
        [
         "dbfs:/databricks-datasets/airlines/part-01868",
         "part-01868",
         67108899,
         1436493997000
        ],
        [
         "dbfs:/databricks-datasets/airlines/part-01869",
         "part-01869",
         67108814,
         1436493998000
        ],
        [
         "dbfs:/databricks-datasets/airlines/part-01870",
         "part-01870",
         67108889,
         1436493998000
        ],
        [
         "dbfs:/databricks-datasets/airlines/part-01871",
         "part-01871",
         67108904,
         1436493999000
        ],
        [
         "dbfs:/databricks-datasets/airlines/part-01872",
         "part-01872",
         67108838,
         1436493999000
        ],
        [
         "dbfs:/databricks-datasets/airlines/part-01873",
         "part-01873",
         67108820,
         1436493999000
        ],
        [
         "dbfs:/databricks-datasets/airlines/part-01874",
         "part-01874",
         67108899,
         1436494000000
        ],
        [
         "dbfs:/databricks-datasets/airlines/part-01875",
         "part-01875",
         67108915,
         1436494000000
        ],
        [
         "dbfs:/databricks-datasets/airlines/part-01876",
         "part-01876",
         67108840,
         1436494000000
        ],
        [
         "dbfs:/databricks-datasets/airlines/part-01877",
         "part-01877",
         67108867,
         1436494001000
        ],
        [
         "dbfs:/databricks-datasets/airlines/part-01878",
         "part-01878",
         67108882,
         1436494001000
        ],
        [
         "dbfs:/databricks-datasets/airlines/part-01879",
         "part-01879",
         67108842,
         1436494002000
        ],
        [
         "dbfs:/databricks-datasets/airlines/part-01880",
         "part-01880",
         67108806,
         1436494002000
        ],
        [
         "dbfs:/databricks-datasets/airlines/part-01881",
         "part-01881",
         67108883,
         1436494002000
        ],
        [
         "dbfs:/databricks-datasets/airlines/part-01882",
         "part-01882",
         67108921,
         1436494003000
        ],
        [
         "dbfs:/databricks-datasets/airlines/part-01883",
         "part-01883",
         67108793,
         1436494003000
        ],
        [
         "dbfs:/databricks-datasets/airlines/part-01884",
         "part-01884",
         67108869,
         1436494004000
        ],
        [
         "dbfs:/databricks-datasets/airlines/part-01885",
         "part-01885",
         67108845,
         1436494004000
        ],
        [
         "dbfs:/databricks-datasets/airlines/part-01886",
         "part-01886",
         67108907,
         1436494004000
        ],
        [
         "dbfs:/databricks-datasets/airlines/part-01887",
         "part-01887",
         67108904,
         1436494005000
        ],
        [
         "dbfs:/databricks-datasets/airlines/part-01888",
         "part-01888",
         67108877,
         1436494005000
        ],
        [
         "dbfs:/databricks-datasets/airlines/part-01889",
         "part-01889",
         67108859,
         1436494006000
        ],
        [
         "dbfs:/databricks-datasets/airlines/part-01890",
         "part-01890",
         67108862,
         1436494006000
        ],
        [
         "dbfs:/databricks-datasets/airlines/part-01891",
         "part-01891",
         67108869,
         1436494007000
        ],
        [
         "dbfs:/databricks-datasets/airlines/part-01892",
         "part-01892",
         67108827,
         1436494007000
        ],
        [
         "dbfs:/databricks-datasets/airlines/part-01893",
         "part-01893",
         67108838,
         1436494007000
        ],
        [
         "dbfs:/databricks-datasets/airlines/part-01894",
         "part-01894",
         67108848,
         1436494008000
        ],
        [
         "dbfs:/databricks-datasets/airlines/part-01895",
         "part-01895",
         67108914,
         1436494008000
        ],
        [
         "dbfs:/databricks-datasets/airlines/part-01896",
         "part-01896",
         67108858,
         1436494009000
        ],
        [
         "dbfs:/databricks-datasets/airlines/part-01897",
         "part-01897",
         67108844,
         1436494009000
        ],
        [
         "dbfs:/databricks-datasets/airlines/part-01898",
         "part-01898",
         67108860,
         1436494009000
        ],
        [
         "dbfs:/databricks-datasets/airlines/part-01899",
         "part-01899",
         67108879,
         1436494010000
        ],
        [
         "dbfs:/databricks-datasets/airlines/part-01900",
         "part-01900",
         67108815,
         1436494010000
        ],
        [
         "dbfs:/databricks-datasets/airlines/part-01901",
         "part-01901",
         67108945,
         1436494011000
        ],
        [
         "dbfs:/databricks-datasets/airlines/part-01902",
         "part-01902",
         67108829,
         1436494011000
        ],
        [
         "dbfs:/databricks-datasets/airlines/part-01903",
         "part-01903",
         67108855,
         1436494012000
        ],
        [
         "dbfs:/databricks-datasets/airlines/part-01904",
         "part-01904",
         67108924,
         1436494012000
        ],
        [
         "dbfs:/databricks-datasets/airlines/part-01905",
         "part-01905",
         67108825,
         1436494012000
        ],
        [
         "dbfs:/databricks-datasets/airlines/part-01906",
         "part-01906",
         67108816,
         1436494013000
        ],
        [
         "dbfs:/databricks-datasets/airlines/part-01907",
         "part-01907",
         67108948,
         1436494013000
        ],
        [
         "dbfs:/databricks-datasets/airlines/part-01908",
         "part-01908",
         67108822,
         1436494014000
        ],
        [
         "dbfs:/databricks-datasets/airlines/part-01909",
         "part-01909",
         67108912,
         1436494014000
        ],
        [
         "dbfs:/databricks-datasets/airlines/part-01910",
         "part-01910",
         67108854,
         1436494014000
        ],
        [
         "dbfs:/databricks-datasets/airlines/part-01911",
         "part-01911",
         67108825,
         1436494015000
        ],
        [
         "dbfs:/databricks-datasets/airlines/part-01912",
         "part-01912",
         67108819,
         1436494015000
        ],
        [
         "dbfs:/databricks-datasets/airlines/part-01913",
         "part-01913",
         67108947,
         1436494015000
        ],
        [
         "dbfs:/databricks-datasets/airlines/part-01914",
         "part-01914",
         67108825,
         1436494016000
        ],
        [
         "dbfs:/databricks-datasets/airlines/part-01915",
         "part-01915",
         67108869,
         1436494016000
        ],
        [
         "dbfs:/databricks-datasets/airlines/part-01916",
         "part-01916",
         67108864,
         1436494017000
        ],
        [
         "dbfs:/databricks-datasets/airlines/part-01917",
         "part-01917",
         67108913,
         1436494017000
        ],
        [
         "dbfs:/databricks-datasets/airlines/part-01918",
         "part-01918",
         67108806,
         1436494017000
        ],
        [
         "dbfs:/databricks-datasets/airlines/part-01919",
         "part-01919",
         49734982,
         1436494018000
        ]
       ],
       "datasetInfos": [],
       "dbfsResultPath": null,
       "isJsonSchema": true,
       "metadata": {},
       "overflow": false,
       "plotOptions": {
        "customPlotOptions": {},
        "displayType": "table",
        "pivotAggregation": null,
        "pivotColumns": null,
        "xColumns": null,
        "yColumns": null
       },
       "removedWidgets": [],
       "schema": [
        {
         "metadata": "{}",
         "name": "path",
         "type": "\"string\""
        },
        {
         "metadata": "{}",
         "name": "name",
         "type": "\"string\""
        },
        {
         "metadata": "{}",
         "name": "size",
         "type": "\"long\""
        },
        {
         "metadata": "{}",
         "name": "modificationTime",
         "type": "\"long\""
        }
       ],
       "type": "table"
      }
     },
     "output_type": "display_data"
    },
    {
     "output_type": "display_data",
     "data": {
      "text/html": [
       "<style scoped>\n",
       "  .table-result-container {\n",
       "    max-height: 300px;\n",
       "    overflow: auto;\n",
       "  }\n",
       "  table, th, td {\n",
       "    border: 1px solid black;\n",
       "    border-collapse: collapse;\n",
       "  }\n",
       "  th, td {\n",
       "    padding: 5px;\n",
       "  }\n",
       "  th {\n",
       "    text-align: left;\n",
       "  }\n",
       "</style><div class='table-result-container'><table class='table-result'><thead style='background-color: white'><tr><th>path</th><th>name</th><th>size</th><th>modificationTime</th></tr></thead><tbody><tr><td>dbfs:/databricks-datasets/airlines/part-00000</td><td>part-00000</td><td>67108879</td><td>1436493184000</td></tr></tbody></table></div>"
      ]
     },
     "metadata": {
      "application/vnd.databricks.v1+output": {
       "addedWidgets": {},
       "aggData": [],
       "aggError": "",
       "aggOverflow": false,
       "aggSchema": [],
       "aggSeriesLimitReached": false,
       "aggType": "",
       "arguments": {},
       "columnCustomDisplayInfos": {},
       "data": [
        [
         "dbfs:/databricks-datasets/airlines/part-00000",
         "part-00000",
         67108879,
         1436493184000
        ]
       ],
       "datasetInfos": [],
       "dbfsResultPath": null,
       "isJsonSchema": true,
       "metadata": {},
       "overflow": false,
       "plotOptions": {
        "customPlotOptions": {},
        "displayType": "table",
        "pivotAggregation": null,
        "pivotColumns": null,
        "xColumns": null,
        "yColumns": null
       },
       "removedWidgets": [],
       "schema": [
        {
         "metadata": "{}",
         "name": "path",
         "type": "\"string\""
        },
        {
         "metadata": "{}",
         "name": "name",
         "type": "\"string\""
        },
        {
         "metadata": "{}",
         "name": "size",
         "type": "\"long\""
        },
        {
         "metadata": "{}",
         "name": "modificationTime",
         "type": "\"long\""
        }
       ],
       "type": "table"
      }
     },
     "output_type": "display_data"
    }
   ],
   "source": [
    "display(dbutils.fs.ls(\"dbfs:/databricks-datasets/\"))\n",
    "display(dbutils.fs.ls(\"dbfs:/databricks-datasets/bikeSharing/\"))\n",
    "display(dbutils.fs.ls(\"dbfs:/databricks-datasets/bikeSharing/data-001/\"))\n",
    "\n",
    "display(dbutils.fs.ls(\"dbfs:/databricks-datasets/airlines/\"))\n",
    "display(dbutils.fs.ls(\"dbfs:/databricks-datasets/airlines/part-00000\"))"
   ]
  },
  {
   "cell_type": "code",
   "execution_count": 0,
   "metadata": {
    "application/vnd.databricks.v1+cell": {
     "cellMetadata": {
      "byteLimit": 2048000,
      "rowLimit": 10000
     },
     "inputWidgets": {},
     "nuid": "c9a5b588-1f7e-49a6-b833-a0722a3152e2",
     "showTitle": false,
     "tableResultSettingsMap": {},
     "title": ""
    }
   },
   "outputs": [
    {
     "output_type": "display_data",
     "data": {
      "text/html": [
       "<style scoped>\n",
       "  .table-result-container {\n",
       "    max-height: 300px;\n",
       "    overflow: auto;\n",
       "  }\n",
       "  table, th, td {\n",
       "    border: 1px solid black;\n",
       "    border-collapse: collapse;\n",
       "  }\n",
       "  th, td {\n",
       "    padding: 5px;\n",
       "  }\n",
       "  th {\n",
       "    text-align: left;\n",
       "  }\n",
       "</style><div class='table-result-container'><table class='table-result'><thead style='background-color: white'><tr><th>path</th><th>name</th><th>size</th><th>modificationTime</th></tr></thead><tbody><tr><td>dbfs:/FileStore/tables/Streaming/Stream_checkpoint/</td><td>Stream_checkpoint/</td><td>0</td><td>0</td></tr><tr><td>dbfs:/FileStore/tables/Streaming/Stream_readStream/</td><td>Stream_readStream/</td><td>0</td><td>0</td></tr><tr><td>dbfs:/FileStore/tables/Streaming/Stream_writeStream/</td><td>Stream_writeStream/</td><td>0</td><td>0</td></tr></tbody></table></div>"
      ]
     },
     "metadata": {
      "application/vnd.databricks.v1+output": {
       "addedWidgets": {},
       "aggData": [],
       "aggError": "",
       "aggOverflow": false,
       "aggSchema": [],
       "aggSeriesLimitReached": false,
       "aggType": "",
       "arguments": {},
       "columnCustomDisplayInfos": {},
       "data": [
        [
         "dbfs:/FileStore/tables/Streaming/Stream_checkpoint/",
         "Stream_checkpoint/",
         0,
         0
        ],
        [
         "dbfs:/FileStore/tables/Streaming/Stream_readStream/",
         "Stream_readStream/",
         0,
         0
        ],
        [
         "dbfs:/FileStore/tables/Streaming/Stream_writeStream/",
         "Stream_writeStream/",
         0,
         0
        ]
       ],
       "datasetInfos": [],
       "dbfsResultPath": null,
       "isJsonSchema": true,
       "metadata": {},
       "overflow": false,
       "plotOptions": {
        "customPlotOptions": {},
        "displayType": "table",
        "pivotAggregation": null,
        "pivotColumns": null,
        "xColumns": null,
        "yColumns": null
       },
       "removedWidgets": [],
       "schema": [
        {
         "metadata": "{}",
         "name": "path",
         "type": "\"string\""
        },
        {
         "metadata": "{}",
         "name": "name",
         "type": "\"string\""
        },
        {
         "metadata": "{}",
         "name": "size",
         "type": "\"long\""
        },
        {
         "metadata": "{}",
         "name": "modificationTime",
         "type": "\"long\""
        }
       ],
       "type": "table"
      }
     },
     "output_type": "display_data"
    },
    {
     "output_type": "display_data",
     "data": {
      "text/html": [
       "<style scoped>\n",
       "  .table-result-container {\n",
       "    max-height: 300px;\n",
       "    overflow: auto;\n",
       "  }\n",
       "  table, th, td {\n",
       "    border: 1px solid black;\n",
       "    border-collapse: collapse;\n",
       "  }\n",
       "  th, td {\n",
       "    padding: 5px;\n",
       "  }\n",
       "  th {\n",
       "    text-align: left;\n",
       "  }\n",
       "</style><div class='table-result-container'><table class='table-result'><thead style='background-color: white'><tr><th>path</th><th>name</th><th>size</th><th>modificationTime</th></tr></thead><tbody><tr><td>dbfs:/FileStore/tables/Streaming/Stream_checkpoint/json/</td><td>json/</td><td>0</td><td>0</td></tr></tbody></table></div>"
      ]
     },
     "metadata": {
      "application/vnd.databricks.v1+output": {
       "addedWidgets": {},
       "aggData": [],
       "aggError": "",
       "aggOverflow": false,
       "aggSchema": [],
       "aggSeriesLimitReached": false,
       "aggType": "",
       "arguments": {},
       "columnCustomDisplayInfos": {},
       "data": [
        [
         "dbfs:/FileStore/tables/Streaming/Stream_checkpoint/json/",
         "json/",
         0,
         0
        ]
       ],
       "datasetInfos": [],
       "dbfsResultPath": null,
       "isJsonSchema": true,
       "metadata": {},
       "overflow": false,
       "plotOptions": {
        "customPlotOptions": {},
        "displayType": "table",
        "pivotAggregation": null,
        "pivotColumns": null,
        "xColumns": null,
        "yColumns": null
       },
       "removedWidgets": [],
       "schema": [
        {
         "metadata": "{}",
         "name": "path",
         "type": "\"string\""
        },
        {
         "metadata": "{}",
         "name": "name",
         "type": "\"string\""
        },
        {
         "metadata": "{}",
         "name": "size",
         "type": "\"long\""
        },
        {
         "metadata": "{}",
         "name": "modificationTime",
         "type": "\"long\""
        }
       ],
       "type": "table"
      }
     },
     "output_type": "display_data"
    },
    {
     "output_type": "display_data",
     "data": {
      "text/html": [
       "<style scoped>\n",
       "  .table-result-container {\n",
       "    max-height: 300px;\n",
       "    overflow: auto;\n",
       "  }\n",
       "  table, th, td {\n",
       "    border: 1px solid black;\n",
       "    border-collapse: collapse;\n",
       "  }\n",
       "  th, td {\n",
       "    padding: 5px;\n",
       "  }\n",
       "  th {\n",
       "    text-align: left;\n",
       "  }\n",
       "</style><div class='table-result-container'><table class='table-result'><thead style='background-color: white'><tr><th>path</th><th>name</th><th>size</th><th>modificationTime</th></tr></thead><tbody><tr><td>dbfs:/FileStore/tables/Streaming/Stream_checkpoint/json/Set01/</td><td>Set01/</td><td>0</td><td>0</td></tr><tr><td>dbfs:/FileStore/tables/Streaming/Stream_checkpoint/json/Set02/</td><td>Set02/</td><td>0</td><td>0</td></tr><tr><td>dbfs:/FileStore/tables/Streaming/Stream_checkpoint/json/Set03/</td><td>Set03/</td><td>0</td><td>0</td></tr><tr><td>dbfs:/FileStore/tables/Streaming/Stream_checkpoint/json/Set04/</td><td>Set04/</td><td>0</td><td>0</td></tr><tr><td>dbfs:/FileStore/tables/Streaming/Stream_checkpoint/json/Set05/</td><td>Set05/</td><td>0</td><td>0</td></tr><tr><td>dbfs:/FileStore/tables/Streaming/Stream_checkpoint/json/_chkpoint_tbl_enriched_gas/</td><td>_chkpoint_tbl_enriched_gas/</td><td>0</td><td>0</td></tr></tbody></table></div>"
      ]
     },
     "metadata": {
      "application/vnd.databricks.v1+output": {
       "addedWidgets": {},
       "aggData": [],
       "aggError": "",
       "aggOverflow": false,
       "aggSchema": [],
       "aggSeriesLimitReached": false,
       "aggType": "",
       "arguments": {},
       "columnCustomDisplayInfos": {},
       "data": [
        [
         "dbfs:/FileStore/tables/Streaming/Stream_checkpoint/json/Set01/",
         "Set01/",
         0,
         0
        ],
        [
         "dbfs:/FileStore/tables/Streaming/Stream_checkpoint/json/Set02/",
         "Set02/",
         0,
         0
        ],
        [
         "dbfs:/FileStore/tables/Streaming/Stream_checkpoint/json/Set03/",
         "Set03/",
         0,
         0
        ],
        [
         "dbfs:/FileStore/tables/Streaming/Stream_checkpoint/json/Set04/",
         "Set04/",
         0,
         0
        ],
        [
         "dbfs:/FileStore/tables/Streaming/Stream_checkpoint/json/Set05/",
         "Set05/",
         0,
         0
        ],
        [
         "dbfs:/FileStore/tables/Streaming/Stream_checkpoint/json/_chkpoint_tbl_enriched_gas/",
         "_chkpoint_tbl_enriched_gas/",
         0,
         0
        ]
       ],
       "datasetInfos": [],
       "dbfsResultPath": null,
       "isJsonSchema": true,
       "metadata": {},
       "overflow": false,
       "plotOptions": {
        "customPlotOptions": {},
        "displayType": "table",
        "pivotAggregation": null,
        "pivotColumns": null,
        "xColumns": null,
        "yColumns": null
       },
       "removedWidgets": [],
       "schema": [
        {
         "metadata": "{}",
         "name": "path",
         "type": "\"string\""
        },
        {
         "metadata": "{}",
         "name": "name",
         "type": "\"string\""
        },
        {
         "metadata": "{}",
         "name": "size",
         "type": "\"long\""
        },
        {
         "metadata": "{}",
         "name": "modificationTime",
         "type": "\"long\""
        }
       ],
       "type": "table"
      }
     },
     "output_type": "display_data"
    },
    {
     "output_type": "display_data",
     "data": {
      "text/html": [
       "<style scoped>\n",
       "  .table-result-container {\n",
       "    max-height: 300px;\n",
       "    overflow: auto;\n",
       "  }\n",
       "  table, th, td {\n",
       "    border: 1px solid black;\n",
       "    border-collapse: collapse;\n",
       "  }\n",
       "  th, td {\n",
       "    padding: 5px;\n",
       "  }\n",
       "  th {\n",
       "    text-align: left;\n",
       "  }\n",
       "</style><div class='table-result-container'><table class='table-result'><thead style='background-color: white'><tr><th>path</th><th>name</th><th>size</th><th>modificationTime</th></tr></thead><tbody><tr><td>dbfs:/FileStore/tables/Streaming/Stream_checkpoint/json/Set02/_chkpoint_tbl_enriched_gas/</td><td>_chkpoint_tbl_enriched_gas/</td><td>0</td><td>0</td></tr></tbody></table></div>"
      ]
     },
     "metadata": {
      "application/vnd.databricks.v1+output": {
       "addedWidgets": {},
       "aggData": [],
       "aggError": "",
       "aggOverflow": false,
       "aggSchema": [],
       "aggSeriesLimitReached": false,
       "aggType": "",
       "arguments": {},
       "columnCustomDisplayInfos": {},
       "data": [
        [
         "dbfs:/FileStore/tables/Streaming/Stream_checkpoint/json/Set02/_chkpoint_tbl_enriched_gas/",
         "_chkpoint_tbl_enriched_gas/",
         0,
         0
        ]
       ],
       "datasetInfos": [],
       "dbfsResultPath": null,
       "isJsonSchema": true,
       "metadata": {},
       "overflow": false,
       "plotOptions": {
        "customPlotOptions": {},
        "displayType": "table",
        "pivotAggregation": null,
        "pivotColumns": null,
        "xColumns": null,
        "yColumns": null
       },
       "removedWidgets": [],
       "schema": [
        {
         "metadata": "{}",
         "name": "path",
         "type": "\"string\""
        },
        {
         "metadata": "{}",
         "name": "name",
         "type": "\"string\""
        },
        {
         "metadata": "{}",
         "name": "size",
         "type": "\"long\""
        },
        {
         "metadata": "{}",
         "name": "modificationTime",
         "type": "\"long\""
        }
       ],
       "type": "table"
      }
     },
     "output_type": "display_data"
    },
    {
     "output_type": "display_data",
     "data": {
      "text/html": [
       "<style scoped>\n",
       "  .table-result-container {\n",
       "    max-height: 300px;\n",
       "    overflow: auto;\n",
       "  }\n",
       "  table, th, td {\n",
       "    border: 1px solid black;\n",
       "    border-collapse: collapse;\n",
       "  }\n",
       "  th, td {\n",
       "    padding: 5px;\n",
       "  }\n",
       "  th {\n",
       "    text-align: left;\n",
       "  }\n",
       "</style><div class='table-result-container'><table class='table-result'><thead style='background-color: white'><tr><th>path</th><th>name</th><th>size</th><th>modificationTime</th></tr></thead><tbody><tr><td>dbfs:/FileStore/tables/Streaming/Stream_readStream/json/</td><td>json/</td><td>0</td><td>0</td></tr></tbody></table></div>"
      ]
     },
     "metadata": {
      "application/vnd.databricks.v1+output": {
       "addedWidgets": {},
       "aggData": [],
       "aggError": "",
       "aggOverflow": false,
       "aggSchema": [],
       "aggSeriesLimitReached": false,
       "aggType": "",
       "arguments": {},
       "columnCustomDisplayInfos": {},
       "data": [
        [
         "dbfs:/FileStore/tables/Streaming/Stream_readStream/json/",
         "json/",
         0,
         0
        ]
       ],
       "datasetInfos": [],
       "dbfsResultPath": null,
       "isJsonSchema": true,
       "metadata": {},
       "overflow": false,
       "plotOptions": {
        "customPlotOptions": {},
        "displayType": "table",
        "pivotAggregation": null,
        "pivotColumns": null,
        "xColumns": null,
        "yColumns": null
       },
       "removedWidgets": [],
       "schema": [
        {
         "metadata": "{}",
         "name": "path",
         "type": "\"string\""
        },
        {
         "metadata": "{}",
         "name": "name",
         "type": "\"string\""
        },
        {
         "metadata": "{}",
         "name": "size",
         "type": "\"long\""
        },
        {
         "metadata": "{}",
         "name": "modificationTime",
         "type": "\"long\""
        }
       ],
       "type": "table"
      }
     },
     "output_type": "display_data"
    },
    {
     "output_type": "display_data",
     "data": {
      "text/html": [
       "<style scoped>\n",
       "  .table-result-container {\n",
       "    max-height: 300px;\n",
       "    overflow: auto;\n",
       "  }\n",
       "  table, th, td {\n",
       "    border: 1px solid black;\n",
       "    border-collapse: collapse;\n",
       "  }\n",
       "  th, td {\n",
       "    padding: 5px;\n",
       "  }\n",
       "  th {\n",
       "    text-align: left;\n",
       "  }\n",
       "</style><div class='table-result-container'><table class='table-result'><thead style='background-color: white'><tr><th>path</th><th>name</th><th>size</th><th>modificationTime</th></tr></thead><tbody><tr><td>dbfs:/FileStore/tables/Streaming/Stream_readStream/json/Set01/</td><td>Set01/</td><td>0</td><td>0</td></tr><tr><td>dbfs:/FileStore/tables/Streaming/Stream_readStream/json/Set02/</td><td>Set02/</td><td>0</td><td>0</td></tr><tr><td>dbfs:/FileStore/tables/Streaming/Stream_readStream/json/Set03/</td><td>Set03/</td><td>0</td><td>0</td></tr><tr><td>dbfs:/FileStore/tables/Streaming/Stream_readStream/json/Set04/</td><td>Set04/</td><td>0</td><td>0</td></tr><tr><td>dbfs:/FileStore/tables/Streaming/Stream_readStream/json/Set05/</td><td>Set05/</td><td>0</td><td>0</td></tr></tbody></table></div>"
      ]
     },
     "metadata": {
      "application/vnd.databricks.v1+output": {
       "addedWidgets": {},
       "aggData": [],
       "aggError": "",
       "aggOverflow": false,
       "aggSchema": [],
       "aggSeriesLimitReached": false,
       "aggType": "",
       "arguments": {},
       "columnCustomDisplayInfos": {},
       "data": [
        [
         "dbfs:/FileStore/tables/Streaming/Stream_readStream/json/Set01/",
         "Set01/",
         0,
         0
        ],
        [
         "dbfs:/FileStore/tables/Streaming/Stream_readStream/json/Set02/",
         "Set02/",
         0,
         0
        ],
        [
         "dbfs:/FileStore/tables/Streaming/Stream_readStream/json/Set03/",
         "Set03/",
         0,
         0
        ],
        [
         "dbfs:/FileStore/tables/Streaming/Stream_readStream/json/Set04/",
         "Set04/",
         0,
         0
        ],
        [
         "dbfs:/FileStore/tables/Streaming/Stream_readStream/json/Set05/",
         "Set05/",
         0,
         0
        ]
       ],
       "datasetInfos": [],
       "dbfsResultPath": null,
       "isJsonSchema": true,
       "metadata": {},
       "overflow": false,
       "plotOptions": {
        "customPlotOptions": {},
        "displayType": "table",
        "pivotAggregation": null,
        "pivotColumns": null,
        "xColumns": null,
        "yColumns": null
       },
       "removedWidgets": [],
       "schema": [
        {
         "metadata": "{}",
         "name": "path",
         "type": "\"string\""
        },
        {
         "metadata": "{}",
         "name": "name",
         "type": "\"string\""
        },
        {
         "metadata": "{}",
         "name": "size",
         "type": "\"long\""
        },
        {
         "metadata": "{}",
         "name": "modificationTime",
         "type": "\"long\""
        }
       ],
       "type": "table"
      }
     },
     "output_type": "display_data"
    },
    {
     "output_type": "display_data",
     "data": {
      "text/html": [
       "<style scoped>\n",
       "  .table-result-container {\n",
       "    max-height: 300px;\n",
       "    overflow: auto;\n",
       "  }\n",
       "  table, th, td {\n",
       "    border: 1px solid black;\n",
       "    border-collapse: collapse;\n",
       "  }\n",
       "  th, td {\n",
       "    padding: 5px;\n",
       "  }\n",
       "  th {\n",
       "    text-align: left;\n",
       "  }\n",
       "</style><div class='table-result-container'><table class='table-result'><thead style='background-color: white'><tr><th>path</th><th>name</th><th>size</th><th>modificationTime</th></tr></thead><tbody><tr><td>dbfs:/FileStore/tables/Streaming/Stream_readStream/json/Set01/multiLine_nested_01.json</td><td>multiLine_nested_01.json</td><td>2233</td><td>1730228797000</td></tr></tbody></table></div>"
      ]
     },
     "metadata": {
      "application/vnd.databricks.v1+output": {
       "addedWidgets": {},
       "aggData": [],
       "aggError": "",
       "aggOverflow": false,
       "aggSchema": [],
       "aggSeriesLimitReached": false,
       "aggType": "",
       "arguments": {},
       "columnCustomDisplayInfos": {},
       "data": [
        [
         "dbfs:/FileStore/tables/Streaming/Stream_readStream/json/Set01/multiLine_nested_01.json",
         "multiLine_nested_01.json",
         2233,
         1730228797000
        ]
       ],
       "datasetInfos": [],
       "dbfsResultPath": null,
       "isJsonSchema": true,
       "metadata": {},
       "overflow": false,
       "plotOptions": {
        "customPlotOptions": {},
        "displayType": "table",
        "pivotAggregation": null,
        "pivotColumns": null,
        "xColumns": null,
        "yColumns": null
       },
       "removedWidgets": [],
       "schema": [
        {
         "metadata": "{}",
         "name": "path",
         "type": "\"string\""
        },
        {
         "metadata": "{}",
         "name": "name",
         "type": "\"string\""
        },
        {
         "metadata": "{}",
         "name": "size",
         "type": "\"long\""
        },
        {
         "metadata": "{}",
         "name": "modificationTime",
         "type": "\"long\""
        }
       ],
       "type": "table"
      }
     },
     "output_type": "display_data"
    },
    {
     "output_type": "display_data",
     "data": {
      "text/html": [
       "<style scoped>\n",
       "  .table-result-container {\n",
       "    max-height: 300px;\n",
       "    overflow: auto;\n",
       "  }\n",
       "  table, th, td {\n",
       "    border: 1px solid black;\n",
       "    border-collapse: collapse;\n",
       "  }\n",
       "  th, td {\n",
       "    padding: 5px;\n",
       "  }\n",
       "  th {\n",
       "    text-align: left;\n",
       "  }\n",
       "</style><div class='table-result-container'><table class='table-result'><thead style='background-color: white'><tr><th>path</th><th>name</th><th>size</th><th>modificationTime</th></tr></thead><tbody><tr><td>dbfs:/FileStore/tables/Streaming/Stream_readStream/json/Set02/multiLine_nested_02.json</td><td>multiLine_nested_02.json</td><td>3214</td><td>1730228813000</td></tr></tbody></table></div>"
      ]
     },
     "metadata": {
      "application/vnd.databricks.v1+output": {
       "addedWidgets": {},
       "aggData": [],
       "aggError": "",
       "aggOverflow": false,
       "aggSchema": [],
       "aggSeriesLimitReached": false,
       "aggType": "",
       "arguments": {},
       "columnCustomDisplayInfos": {},
       "data": [
        [
         "dbfs:/FileStore/tables/Streaming/Stream_readStream/json/Set02/multiLine_nested_02.json",
         "multiLine_nested_02.json",
         3214,
         1730228813000
        ]
       ],
       "datasetInfos": [],
       "dbfsResultPath": null,
       "isJsonSchema": true,
       "metadata": {},
       "overflow": false,
       "plotOptions": {
        "customPlotOptions": {},
        "displayType": "table",
        "pivotAggregation": null,
        "pivotColumns": null,
        "xColumns": null,
        "yColumns": null
       },
       "removedWidgets": [],
       "schema": [
        {
         "metadata": "{}",
         "name": "path",
         "type": "\"string\""
        },
        {
         "metadata": "{}",
         "name": "name",
         "type": "\"string\""
        },
        {
         "metadata": "{}",
         "name": "size",
         "type": "\"long\""
        },
        {
         "metadata": "{}",
         "name": "modificationTime",
         "type": "\"long\""
        }
       ],
       "type": "table"
      }
     },
     "output_type": "display_data"
    },
    {
     "output_type": "display_data",
     "data": {
      "text/html": [
       "<style scoped>\n",
       "  .table-result-container {\n",
       "    max-height: 300px;\n",
       "    overflow: auto;\n",
       "  }\n",
       "  table, th, td {\n",
       "    border: 1px solid black;\n",
       "    border-collapse: collapse;\n",
       "  }\n",
       "  th, td {\n",
       "    padding: 5px;\n",
       "  }\n",
       "  th {\n",
       "    text-align: left;\n",
       "  }\n",
       "</style><div class='table-result-container'><table class='table-result'><thead style='background-color: white'><tr><th>path</th><th>name</th><th>size</th><th>modificationTime</th></tr></thead><tbody><tr><td>dbfs:/FileStore/tables/Streaming/Stream_readStream/json/Set03/multiLine_nested_03.json</td><td>multiLine_nested_03.json</td><td>4503</td><td>1730228826000</td></tr></tbody></table></div>"
      ]
     },
     "metadata": {
      "application/vnd.databricks.v1+output": {
       "addedWidgets": {},
       "aggData": [],
       "aggError": "",
       "aggOverflow": false,
       "aggSchema": [],
       "aggSeriesLimitReached": false,
       "aggType": "",
       "arguments": {},
       "columnCustomDisplayInfos": {},
       "data": [
        [
         "dbfs:/FileStore/tables/Streaming/Stream_readStream/json/Set03/multiLine_nested_03.json",
         "multiLine_nested_03.json",
         4503,
         1730228826000
        ]
       ],
       "datasetInfos": [],
       "dbfsResultPath": null,
       "isJsonSchema": true,
       "metadata": {},
       "overflow": false,
       "plotOptions": {
        "customPlotOptions": {},
        "displayType": "table",
        "pivotAggregation": null,
        "pivotColumns": null,
        "xColumns": null,
        "yColumns": null
       },
       "removedWidgets": [],
       "schema": [
        {
         "metadata": "{}",
         "name": "path",
         "type": "\"string\""
        },
        {
         "metadata": "{}",
         "name": "name",
         "type": "\"string\""
        },
        {
         "metadata": "{}",
         "name": "size",
         "type": "\"long\""
        },
        {
         "metadata": "{}",
         "name": "modificationTime",
         "type": "\"long\""
        }
       ],
       "type": "table"
      }
     },
     "output_type": "display_data"
    },
    {
     "output_type": "display_data",
     "data": {
      "text/html": [
       "<style scoped>\n",
       "  .table-result-container {\n",
       "    max-height: 300px;\n",
       "    overflow: auto;\n",
       "  }\n",
       "  table, th, td {\n",
       "    border: 1px solid black;\n",
       "    border-collapse: collapse;\n",
       "  }\n",
       "  th, td {\n",
       "    padding: 5px;\n",
       "  }\n",
       "  th {\n",
       "    text-align: left;\n",
       "  }\n",
       "</style><div class='table-result-container'><table class='table-result'><thead style='background-color: white'><tr><th>path</th><th>name</th><th>size</th><th>modificationTime</th></tr></thead><tbody><tr><td>dbfs:/FileStore/tables/Streaming/Stream_writeStream/json/</td><td>json/</td><td>0</td><td>0</td></tr></tbody></table></div>"
      ]
     },
     "metadata": {
      "application/vnd.databricks.v1+output": {
       "addedWidgets": {},
       "aggData": [],
       "aggError": "",
       "aggOverflow": false,
       "aggSchema": [],
       "aggSeriesLimitReached": false,
       "aggType": "",
       "arguments": {},
       "columnCustomDisplayInfos": {},
       "data": [
        [
         "dbfs:/FileStore/tables/Streaming/Stream_writeStream/json/",
         "json/",
         0,
         0
        ]
       ],
       "datasetInfos": [],
       "dbfsResultPath": null,
       "isJsonSchema": true,
       "metadata": {},
       "overflow": false,
       "plotOptions": {
        "customPlotOptions": {},
        "displayType": "table",
        "pivotAggregation": null,
        "pivotColumns": null,
        "xColumns": null,
        "yColumns": null
       },
       "removedWidgets": [],
       "schema": [
        {
         "metadata": "{}",
         "name": "path",
         "type": "\"string\""
        },
        {
         "metadata": "{}",
         "name": "name",
         "type": "\"string\""
        },
        {
         "metadata": "{}",
         "name": "size",
         "type": "\"long\""
        },
        {
         "metadata": "{}",
         "name": "modificationTime",
         "type": "\"long\""
        }
       ],
       "type": "table"
      }
     },
     "output_type": "display_data"
    },
    {
     "output_type": "display_data",
     "data": {
      "text/html": [
       "<style scoped>\n",
       "  .table-result-container {\n",
       "    max-height: 300px;\n",
       "    overflow: auto;\n",
       "  }\n",
       "  table, th, td {\n",
       "    border: 1px solid black;\n",
       "    border-collapse: collapse;\n",
       "  }\n",
       "  th, td {\n",
       "    padding: 5px;\n",
       "  }\n",
       "  th {\n",
       "    text-align: left;\n",
       "  }\n",
       "</style><div class='table-result-container'><table class='table-result'><thead style='background-color: white'><tr><th>path</th><th>name</th><th>size</th><th>modificationTime</th></tr></thead><tbody><tr><td>dbfs:/FileStore/tables/Streaming/Stream_writeStream/json/Set01/</td><td>Set01/</td><td>0</td><td>0</td></tr><tr><td>dbfs:/FileStore/tables/Streaming/Stream_writeStream/json/Set02/</td><td>Set02/</td><td>0</td><td>0</td></tr><tr><td>dbfs:/FileStore/tables/Streaming/Stream_writeStream/json/Set03/</td><td>Set03/</td><td>0</td><td>0</td></tr><tr><td>dbfs:/FileStore/tables/Streaming/Stream_writeStream/json/Set04/</td><td>Set04/</td><td>0</td><td>0</td></tr><tr><td>dbfs:/FileStore/tables/Streaming/Stream_writeStream/json/Set05/</td><td>Set05/</td><td>0</td><td>0</td></tr></tbody></table></div>"
      ]
     },
     "metadata": {
      "application/vnd.databricks.v1+output": {
       "addedWidgets": {},
       "aggData": [],
       "aggError": "",
       "aggOverflow": false,
       "aggSchema": [],
       "aggSeriesLimitReached": false,
       "aggType": "",
       "arguments": {},
       "columnCustomDisplayInfos": {},
       "data": [
        [
         "dbfs:/FileStore/tables/Streaming/Stream_writeStream/json/Set01/",
         "Set01/",
         0,
         0
        ],
        [
         "dbfs:/FileStore/tables/Streaming/Stream_writeStream/json/Set02/",
         "Set02/",
         0,
         0
        ],
        [
         "dbfs:/FileStore/tables/Streaming/Stream_writeStream/json/Set03/",
         "Set03/",
         0,
         0
        ],
        [
         "dbfs:/FileStore/tables/Streaming/Stream_writeStream/json/Set04/",
         "Set04/",
         0,
         0
        ],
        [
         "dbfs:/FileStore/tables/Streaming/Stream_writeStream/json/Set05/",
         "Set05/",
         0,
         0
        ]
       ],
       "datasetInfos": [],
       "dbfsResultPath": null,
       "isJsonSchema": true,
       "metadata": {},
       "overflow": false,
       "plotOptions": {
        "customPlotOptions": {},
        "displayType": "table",
        "pivotAggregation": null,
        "pivotColumns": null,
        "xColumns": null,
        "yColumns": null
       },
       "removedWidgets": [],
       "schema": [
        {
         "metadata": "{}",
         "name": "path",
         "type": "\"string\""
        },
        {
         "metadata": "{}",
         "name": "name",
         "type": "\"string\""
        },
        {
         "metadata": "{}",
         "name": "size",
         "type": "\"long\""
        },
        {
         "metadata": "{}",
         "name": "modificationTime",
         "type": "\"long\""
        }
       ],
       "type": "table"
      }
     },
     "output_type": "display_data"
    },
    {
     "output_type": "display_data",
     "data": {
      "text/html": [
       "<style scoped>\n",
       "  .table-result-container {\n",
       "    max-height: 300px;\n",
       "    overflow: auto;\n",
       "  }\n",
       "  table, th, td {\n",
       "    border: 1px solid black;\n",
       "    border-collapse: collapse;\n",
       "  }\n",
       "  th, td {\n",
       "    padding: 5px;\n",
       "  }\n",
       "  th {\n",
       "    text-align: left;\n",
       "  }\n",
       "</style><div class='table-result-container'><table class='table-result'><thead style='background-color: white'><tr><th>path</th><th>name</th><th>size</th><th>modificationTime</th></tr></thead><tbody><tr><td>dbfs:/FileStore/tables/Streaming/Stream_writeStream/json/Set01/_spark_metadata/</td><td>_spark_metadata/</td><td>0</td><td>0</td></tr><tr><td>dbfs:/FileStore/tables/Streaming/Stream_writeStream/json/Set01/part-00000-da6fb1a7-793a-4002-a4cf-9f613bc15dbf-c000.snappy.parquet</td><td>part-00000-da6fb1a7-793a-4002-a4cf-9f613bc15dbf-c000.snappy.parquet</td><td>2868</td><td>1730229394000</td></tr></tbody></table></div>"
      ]
     },
     "metadata": {
      "application/vnd.databricks.v1+output": {
       "addedWidgets": {},
       "aggData": [],
       "aggError": "",
       "aggOverflow": false,
       "aggSchema": [],
       "aggSeriesLimitReached": false,
       "aggType": "",
       "arguments": {},
       "columnCustomDisplayInfos": {},
       "data": [
        [
         "dbfs:/FileStore/tables/Streaming/Stream_writeStream/json/Set01/_spark_metadata/",
         "_spark_metadata/",
         0,
         0
        ],
        [
         "dbfs:/FileStore/tables/Streaming/Stream_writeStream/json/Set01/part-00000-da6fb1a7-793a-4002-a4cf-9f613bc15dbf-c000.snappy.parquet",
         "part-00000-da6fb1a7-793a-4002-a4cf-9f613bc15dbf-c000.snappy.parquet",
         2868,
         1730229394000
        ]
       ],
       "datasetInfos": [],
       "dbfsResultPath": null,
       "isJsonSchema": true,
       "metadata": {},
       "overflow": false,
       "plotOptions": {
        "customPlotOptions": {},
        "displayType": "table",
        "pivotAggregation": null,
        "pivotColumns": null,
        "xColumns": null,
        "yColumns": null
       },
       "removedWidgets": [],
       "schema": [
        {
         "metadata": "{}",
         "name": "path",
         "type": "\"string\""
        },
        {
         "metadata": "{}",
         "name": "name",
         "type": "\"string\""
        },
        {
         "metadata": "{}",
         "name": "size",
         "type": "\"long\""
        },
        {
         "metadata": "{}",
         "name": "modificationTime",
         "type": "\"long\""
        }
       ],
       "type": "table"
      }
     },
     "output_type": "display_data"
    },
    {
     "output_type": "display_data",
     "data": {
      "text/html": [
       "<style scoped>\n",
       "  .table-result-container {\n",
       "    max-height: 300px;\n",
       "    overflow: auto;\n",
       "  }\n",
       "  table, th, td {\n",
       "    border: 1px solid black;\n",
       "    border-collapse: collapse;\n",
       "  }\n",
       "  th, td {\n",
       "    padding: 5px;\n",
       "  }\n",
       "  th {\n",
       "    text-align: left;\n",
       "  }\n",
       "</style><div class='table-result-container'><table class='table-result'><thead style='background-color: white'><tr><th>path</th><th>name</th><th>size</th><th>modificationTime</th></tr></thead><tbody><tr><td>dbfs:/FileStore/tables/Streaming/Stream_writeStream/json/Set02/_spark_metadata/</td><td>_spark_metadata/</td><td>0</td><td>0</td></tr><tr><td>dbfs:/FileStore/tables/Streaming/Stream_writeStream/json/Set02/part-00000-38ea8f84-ae04-4fdb-b9e7-df1fd690cce5-c000.snappy.parquet</td><td>part-00000-38ea8f84-ae04-4fdb-b9e7-df1fd690cce5-c000.snappy.parquet</td><td>3034</td><td>1730229729000</td></tr></tbody></table></div>"
      ]
     },
     "metadata": {
      "application/vnd.databricks.v1+output": {
       "addedWidgets": {},
       "aggData": [],
       "aggError": "",
       "aggOverflow": false,
       "aggSchema": [],
       "aggSeriesLimitReached": false,
       "aggType": "",
       "arguments": {},
       "columnCustomDisplayInfos": {},
       "data": [
        [
         "dbfs:/FileStore/tables/Streaming/Stream_writeStream/json/Set02/_spark_metadata/",
         "_spark_metadata/",
         0,
         0
        ],
        [
         "dbfs:/FileStore/tables/Streaming/Stream_writeStream/json/Set02/part-00000-38ea8f84-ae04-4fdb-b9e7-df1fd690cce5-c000.snappy.parquet",
         "part-00000-38ea8f84-ae04-4fdb-b9e7-df1fd690cce5-c000.snappy.parquet",
         3034,
         1730229729000
        ]
       ],
       "datasetInfos": [],
       "dbfsResultPath": null,
       "isJsonSchema": true,
       "metadata": {},
       "overflow": false,
       "plotOptions": {
        "customPlotOptions": {},
        "displayType": "table",
        "pivotAggregation": null,
        "pivotColumns": null,
        "xColumns": null,
        "yColumns": null
       },
       "removedWidgets": [],
       "schema": [
        {
         "metadata": "{}",
         "name": "path",
         "type": "\"string\""
        },
        {
         "metadata": "{}",
         "name": "name",
         "type": "\"string\""
        },
        {
         "metadata": "{}",
         "name": "size",
         "type": "\"long\""
        },
        {
         "metadata": "{}",
         "name": "modificationTime",
         "type": "\"long\""
        }
       ],
       "type": "table"
      }
     },
     "output_type": "display_data"
    }
   ],
   "source": [
    "display(dbutils.fs.ls(\"dbfs:/FileStore/tables/Streaming/\"))\n",
    "\n",
    "display(dbutils.fs.ls(\"dbfs:/FileStore/tables/Streaming/Stream_checkpoint/\"))\n",
    "display(dbutils.fs.ls(\"dbfs:/FileStore/tables/Streaming/Stream_checkpoint/json/\"))\n",
    "display(dbutils.fs.ls(\"dbfs:/FileStore/tables/Streaming/Stream_checkpoint/json/Set02/\"))\n",
    "                      \n",
    "display(dbutils.fs.ls(\"dbfs:/FileStore/tables/Streaming/Stream_readStream/\"))\n",
    "display(dbutils.fs.ls(\"dbfs:/FileStore/tables/Streaming/Stream_readStream/json/\"))\n",
    "display(dbutils.fs.ls(\"dbfs:/FileStore/tables/Streaming/Stream_readStream/json/Set01/\"))\n",
    "display(dbutils.fs.ls(\"dbfs:/FileStore/tables/Streaming/Stream_readStream/json/Set02/\"))\n",
    "display(dbutils.fs.ls(\"dbfs:/FileStore/tables/Streaming/Stream_readStream/json/Set03/\"))\n",
    "\n",
    "display(dbutils.fs.ls(\"dbfs:/FileStore/tables/Streaming/Stream_writeStream/\"))\n",
    "display(dbutils.fs.ls(\"dbfs:/FileStore/tables/Streaming/Stream_writeStream/json/\"))\n",
    "display(dbutils.fs.ls(\"dbfs:/FileStore/tables/Streaming/Stream_writeStream/json/Set01/\"))\n",
    "display(dbutils.fs.ls(\"dbfs:/FileStore/tables/Streaming/Stream_writeStream/json/Set02/\"))"
   ]
  },
  {
   "cell_type": "markdown",
   "metadata": {
    "application/vnd.databricks.v1+cell": {
     "cellMetadata": {},
     "inputWidgets": {},
     "nuid": "bdcc068f-b1b1-4a37-af36-6096a66af7cb",
     "showTitle": false,
     "tableResultSettingsMap": {},
     "title": ""
    }
   },
   "source": [
    "#### **3) Listing Files Recursively**\n",
    "\n",
    "- There isn't a **direct way** to list files recursively with dbutils.fs.ls, but you can implement it using a **recursive function**.\n",
    "\n",
    "- This function demonstrate how to use **dbutils.fs.ls** to interact with DBFS, allowing you to **list and filter files and directories** efficiently within your Databricks notebooks."
   ]
  },
  {
   "cell_type": "markdown",
   "metadata": {
    "application/vnd.databricks.v1+cell": {
     "cellMetadata": {},
     "inputWidgets": {},
     "nuid": "6309d112-78fa-45ad-9ea1-b845542dc572",
     "showTitle": false,
     "tableResultSettingsMap": {},
     "title": ""
    }
   },
   "source": [
    "      def list_files_recursive(path):\n",
    "          for file_info in dbutils.fs.ls(path):\n",
    "              if file_info.isDir():  # Check if the file_info is a directory\n",
    "                  list_files_recursive(file_info.path)  # Recursive call\n",
    "              else:\n",
    "                  print(file_info.path)\n",
    "\n",
    "      list_files_recursive(\"/mnt/your-directory/\")"
   ]
  },
  {
   "cell_type": "code",
   "execution_count": 0,
   "metadata": {
    "application/vnd.databricks.v1+cell": {
     "cellMetadata": {
      "byteLimit": 2048000,
      "rowLimit": 10000
     },
     "inputWidgets": {},
     "nuid": "bdfd8c4c-2ed9-4516-86e5-2b85837c57a6",
     "showTitle": false,
     "tableResultSettingsMap": {},
     "title": ""
    }
   },
   "outputs": [
    {
     "output_type": "stream",
     "name": "stdout",
     "output_type": "stream",
     "text": [
      "dbfs:/FileStore/tables/Emp_Hash-1.csv\ndbfs:/FileStore/tables/Emp_Hash-2.csv\ndbfs:/FileStore/tables/Emp_Hash-3.csv\ndbfs:/FileStore/tables/Emp_Hash.csv\ndbfs:/FileStore/tables/Flatten Nested Array.json\ndbfs:/FileStore/tables/Generate_Random_Data/million_random_data.csv/_committed_3989823868388185106\ndbfs:/FileStore/tables/Generate_Random_Data/million_random_data.csv/_committed_7236224095020335142\ndbfs:/FileStore/tables/Generate_Random_Data/million_random_data.csv/_committed_844223621418701529\ndbfs:/FileStore/tables/Generate_Random_Data/million_random_data.csv/_started_7236224095020335142\ndbfs:/FileStore/tables/Generate_Random_Data/million_random_data.csv/part-00000-tid-7236224095020335142-db988c73-d8e0-495d-88ea-771023d111d9-336-1-c000.csv\ndbfs:/FileStore/tables/Generate_Random_Data/million_random_data.csv/part-00001-tid-7236224095020335142-db988c73-d8e0-495d-88ea-771023d111d9-337-1-c000.csv\ndbfs:/FileStore/tables/Generate_Random_Data/million_random_data.csv/part-00002-tid-7236224095020335142-db988c73-d8e0-495d-88ea-771023d111d9-338-1-c000.csv\ndbfs:/FileStore/tables/Generate_Random_Data/million_random_data.csv/part-00003-tid-7236224095020335142-db988c73-d8e0-495d-88ea-771023d111d9-339-1-c000.csv\ndbfs:/FileStore/tables/Generate_Random_Data/million_random_data.csv/part-00004-tid-7236224095020335142-db988c73-d8e0-495d-88ea-771023d111d9-340-1-c000.csv\ndbfs:/FileStore/tables/Generate_Random_Data/million_random_data.csv/part-00005-tid-7236224095020335142-db988c73-d8e0-495d-88ea-771023d111d9-341-1-c000.csv\ndbfs:/FileStore/tables/Generate_Random_Data/million_random_data.csv/part-00006-tid-7236224095020335142-db988c73-d8e0-495d-88ea-771023d111d9-342-1-c000.csv\ndbfs:/FileStore/tables/Generate_Random_Data/million_random_data.csv/part-00007-tid-7236224095020335142-db988c73-d8e0-495d-88ea-771023d111d9-343-1-c000.csv\ndbfs:/FileStore/tables/Generate_Random_Data/million_random_data.csv/part-00008-tid-7236224095020335142-db988c73-d8e0-495d-88ea-771023d111d9-344-1-c000.csv\ndbfs:/FileStore/tables/Generate_Random_Data/million_random_data.csv/part-00009-tid-7236224095020335142-db988c73-d8e0-495d-88ea-771023d111d9-345-1-c000.csv\ndbfs:/FileStore/tables/Generate_Random_Data/million_random_data.csv/part-00010-tid-7236224095020335142-db988c73-d8e0-495d-88ea-771023d111d9-346-1-c000.csv\ndbfs:/FileStore/tables/Generate_Random_Data/million_random_data.csv/part-00011-tid-7236224095020335142-db988c73-d8e0-495d-88ea-771023d111d9-347-1-c000.csv\ndbfs:/FileStore/tables/Generate_Random_Data/million_random_data.csv/part-00012-tid-7236224095020335142-db988c73-d8e0-495d-88ea-771023d111d9-348-1-c000.csv\ndbfs:/FileStore/tables/Generate_Random_Data/million_random_data.csv/part-00013-tid-7236224095020335142-db988c73-d8e0-495d-88ea-771023d111d9-349-1-c000.csv\ndbfs:/FileStore/tables/Generate_Random_Data/million_random_data.csv/part-00014-tid-7236224095020335142-db988c73-d8e0-495d-88ea-771023d111d9-350-1-c000.csv\ndbfs:/FileStore/tables/Generate_Random_Data/million_random_data.csv/part-00015-tid-7236224095020335142-db988c73-d8e0-495d-88ea-771023d111d9-351-1-c000.csv\ndbfs:/FileStore/tables/Generate_Random_Data/million_random_data.csv/part-00016-tid-7236224095020335142-db988c73-d8e0-495d-88ea-771023d111d9-352-1-c000.csv\ndbfs:/FileStore/tables/Generate_Random_Data/million_random_data.csv/part-00017-tid-7236224095020335142-db988c73-d8e0-495d-88ea-771023d111d9-353-1-c000.csv\ndbfs:/FileStore/tables/Generate_Random_Data/million_random_data.csv/part-00018-tid-7236224095020335142-db988c73-d8e0-495d-88ea-771023d111d9-354-1-c000.csv\ndbfs:/FileStore/tables/Generate_Random_Data/million_random_data.csv/part-00019-tid-7236224095020335142-db988c73-d8e0-495d-88ea-771023d111d9-355-1-c000.csv\ndbfs:/FileStore/tables/Generate_Random_Data/million_random_data.csv/part-00020-tid-7236224095020335142-db988c73-d8e0-495d-88ea-771023d111d9-356-1-c000.csv\ndbfs:/FileStore/tables/Generate_Random_Data/million_random_data.csv/part-00021-tid-7236224095020335142-db988c73-d8e0-495d-88ea-771023d111d9-357-1-c000.csv\ndbfs:/FileStore/tables/Generate_Random_Data/million_random_data.csv/part-00022-tid-7236224095020335142-db988c73-d8e0-495d-88ea-771023d111d9-358-1-c000.csv\ndbfs:/FileStore/tables/Generate_Random_Data/million_random_data.csv/part-00023-tid-7236224095020335142-db988c73-d8e0-495d-88ea-771023d111d9-359-1-c000.csv\ndbfs:/FileStore/tables/Generate_Random_Data/million_random_data.csv/part-00024-tid-7236224095020335142-db988c73-d8e0-495d-88ea-771023d111d9-360-1-c000.csv\ndbfs:/FileStore/tables/Generate_Random_Data/million_random_data.csv/part-00025-tid-7236224095020335142-db988c73-d8e0-495d-88ea-771023d111d9-361-1-c000.csv\ndbfs:/FileStore/tables/Generate_Random_Data/million_random_data.csv/part-00026-tid-7236224095020335142-db988c73-d8e0-495d-88ea-771023d111d9-362-1-c000.csv\ndbfs:/FileStore/tables/Generate_Random_Data/million_random_data.csv/part-00027-tid-7236224095020335142-db988c73-d8e0-495d-88ea-771023d111d9-363-1-c000.csv\ndbfs:/FileStore/tables/Generate_Random_Data/million_random_data.csv/part-00028-tid-7236224095020335142-db988c73-d8e0-495d-88ea-771023d111d9-364-1-c000.csv\ndbfs:/FileStore/tables/Generate_Random_Data/million_random_data.csv/part-00029-tid-7236224095020335142-db988c73-d8e0-495d-88ea-771023d111d9-365-1-c000.csv\ndbfs:/FileStore/tables/Generate_Random_Data/million_random_data.csv/part-00030-tid-7236224095020335142-db988c73-d8e0-495d-88ea-771023d111d9-366-1-c000.csv\ndbfs:/FileStore/tables/Generate_Random_Data/million_random_data.csv/part-00031-tid-7236224095020335142-db988c73-d8e0-495d-88ea-771023d111d9-367-1-c000.csv\ndbfs:/FileStore/tables/Generate_Random_Data/million_random_data.csv/part-00032-tid-7236224095020335142-db988c73-d8e0-495d-88ea-771023d111d9-368-1-c000.csv\ndbfs:/FileStore/tables/Generate_Random_Data/million_random_data.csv/part-00033-tid-7236224095020335142-db988c73-d8e0-495d-88ea-771023d111d9-369-1-c000.csv\ndbfs:/FileStore/tables/Generate_Random_Data/million_random_data.csv/part-00034-tid-7236224095020335142-db988c73-d8e0-495d-88ea-771023d111d9-370-1-c000.csv\ndbfs:/FileStore/tables/Generate_Random_Data/million_random_data.csv/part-00035-tid-7236224095020335142-db988c73-d8e0-495d-88ea-771023d111d9-371-1-c000.csv\ndbfs:/FileStore/tables/Generate_Random_Data/million_random_data.csv/part-00036-tid-7236224095020335142-db988c73-d8e0-495d-88ea-771023d111d9-372-1-c000.csv\ndbfs:/FileStore/tables/Generate_Random_Data/million_random_data.csv/part-00037-tid-7236224095020335142-db988c73-d8e0-495d-88ea-771023d111d9-373-1-c000.csv\ndbfs:/FileStore/tables/Generate_Random_Data/million_random_data.csv/part-00038-tid-7236224095020335142-db988c73-d8e0-495d-88ea-771023d111d9-374-1-c000.csv\ndbfs:/FileStore/tables/Generate_Random_Data/million_random_data.csv/part-00039-tid-7236224095020335142-db988c73-d8e0-495d-88ea-771023d111d9-375-1-c000.csv\ndbfs:/FileStore/tables/Generate_Random_Data/million_random_data.csv/part-00040-tid-7236224095020335142-db988c73-d8e0-495d-88ea-771023d111d9-376-1-c000.csv\ndbfs:/FileStore/tables/Generate_Random_Data/million_random_data.csv/part-00041-tid-7236224095020335142-db988c73-d8e0-495d-88ea-771023d111d9-377-1-c000.csv\ndbfs:/FileStore/tables/Generate_Random_Data/million_random_data.csv/part-00042-tid-7236224095020335142-db988c73-d8e0-495d-88ea-771023d111d9-378-1-c000.csv\ndbfs:/FileStore/tables/Generate_Random_Data/million_random_data.csv/part-00043-tid-7236224095020335142-db988c73-d8e0-495d-88ea-771023d111d9-379-1-c000.csv\ndbfs:/FileStore/tables/Generate_Random_Data/million_random_data.csv/part-00044-tid-7236224095020335142-db988c73-d8e0-495d-88ea-771023d111d9-380-1-c000.csv\ndbfs:/FileStore/tables/Generate_Random_Data/million_random_data.csv/part-00045-tid-7236224095020335142-db988c73-d8e0-495d-88ea-771023d111d9-381-1-c000.csv\ndbfs:/FileStore/tables/Generate_Random_Data/million_random_data.csv/part-00046-tid-7236224095020335142-db988c73-d8e0-495d-88ea-771023d111d9-382-1-c000.csv\ndbfs:/FileStore/tables/Generate_Random_Data/million_random_data.csv/part-00047-tid-7236224095020335142-db988c73-d8e0-495d-88ea-771023d111d9-383-1-c000.csv\ndbfs:/FileStore/tables/Generate_Random_Data/million_random_data.csv/part-00048-tid-7236224095020335142-db988c73-d8e0-495d-88ea-771023d111d9-384-1-c000.csv\ndbfs:/FileStore/tables/Generate_Random_Data/million_random_data.csv/part-00049-tid-7236224095020335142-db988c73-d8e0-495d-88ea-771023d111d9-385-1-c000.csv\ndbfs:/FileStore/tables/Generate_Random_Data/million_random_data.csv/part-00050-tid-7236224095020335142-db988c73-d8e0-495d-88ea-771023d111d9-386-1-c000.csv\ndbfs:/FileStore/tables/Generate_Random_Data/million_random_data.csv/part-00051-tid-7236224095020335142-db988c73-d8e0-495d-88ea-771023d111d9-387-1-c000.csv\ndbfs:/FileStore/tables/Generate_Random_Data/million_random_data.csv/part-00052-tid-7236224095020335142-db988c73-d8e0-495d-88ea-771023d111d9-388-1-c000.csv\ndbfs:/FileStore/tables/Generate_Random_Data/million_random_data.csv/part-00053-tid-7236224095020335142-db988c73-d8e0-495d-88ea-771023d111d9-389-1-c000.csv\ndbfs:/FileStore/tables/Generate_Random_Data/million_random_data.csv/part-00054-tid-7236224095020335142-db988c73-d8e0-495d-88ea-771023d111d9-390-1-c000.csv\ndbfs:/FileStore/tables/Generate_Random_Data/million_random_data.csv/part-00055-tid-7236224095020335142-db988c73-d8e0-495d-88ea-771023d111d9-391-1-c000.csv\ndbfs:/FileStore/tables/Generate_Random_Data/million_random_data.csv/part-00056-tid-7236224095020335142-db988c73-d8e0-495d-88ea-771023d111d9-392-1-c000.csv\ndbfs:/FileStore/tables/Generate_Random_Data/million_random_data.csv/part-00057-tid-7236224095020335142-db988c73-d8e0-495d-88ea-771023d111d9-393-1-c000.csv\ndbfs:/FileStore/tables/Generate_Random_Data/million_random_data.csv/part-00058-tid-7236224095020335142-db988c73-d8e0-495d-88ea-771023d111d9-394-1-c000.csv\ndbfs:/FileStore/tables/Generate_Random_Data/million_random_data.csv/part-00059-tid-7236224095020335142-db988c73-d8e0-495d-88ea-771023d111d9-395-1-c000.csv\ndbfs:/FileStore/tables/Generate_Random_Data/million_random_data.csv/part-00060-tid-7236224095020335142-db988c73-d8e0-495d-88ea-771023d111d9-396-1-c000.csv\ndbfs:/FileStore/tables/Generate_Random_Data/million_random_data.csv/part-00061-tid-7236224095020335142-db988c73-d8e0-495d-88ea-771023d111d9-397-1-c000.csv\ndbfs:/FileStore/tables/Generate_Random_Data/million_random_data.csv/part-00062-tid-7236224095020335142-db988c73-d8e0-495d-88ea-771023d111d9-398-1-c000.csv\ndbfs:/FileStore/tables/Generate_Random_Data/million_random_data.csv/part-00063-tid-7236224095020335142-db988c73-d8e0-495d-88ea-771023d111d9-399-1-c000.csv\ndbfs:/FileStore/tables/Generate_Random_Data/million_random_data.csv/part-00064-tid-7236224095020335142-db988c73-d8e0-495d-88ea-771023d111d9-400-1-c000.csv\ndbfs:/FileStore/tables/Generate_Random_Data/million_random_data.csv/part-00065-tid-7236224095020335142-db988c73-d8e0-495d-88ea-771023d111d9-401-1-c000.csv\ndbfs:/FileStore/tables/Generate_Random_Data/million_random_data.csv/part-00066-tid-7236224095020335142-db988c73-d8e0-495d-88ea-771023d111d9-402-1-c000.csv\ndbfs:/FileStore/tables/Generate_Random_Data/million_random_data.csv/part-00067-tid-7236224095020335142-db988c73-d8e0-495d-88ea-771023d111d9-403-1-c000.csv\ndbfs:/FileStore/tables/Generate_Random_Data/million_random_data.csv/part-00068-tid-7236224095020335142-db988c73-d8e0-495d-88ea-771023d111d9-404-1-c000.csv\ndbfs:/FileStore/tables/Generate_Random_Data/million_random_data.csv/part-00069-tid-7236224095020335142-db988c73-d8e0-495d-88ea-771023d111d9-405-1-c000.csv\ndbfs:/FileStore/tables/Generate_Random_Data/million_random_data.csv/part-00070-tid-7236224095020335142-db988c73-d8e0-495d-88ea-771023d111d9-406-1-c000.csv\ndbfs:/FileStore/tables/Generate_Random_Data/million_random_data.csv/part-00071-tid-7236224095020335142-db988c73-d8e0-495d-88ea-771023d111d9-407-1-c000.csv\ndbfs:/FileStore/tables/Generate_Random_Data/million_random_data.csv/part-00072-tid-7236224095020335142-db988c73-d8e0-495d-88ea-771023d111d9-408-1-c000.csv\ndbfs:/FileStore/tables/Generate_Random_Data/million_random_data.csv/part-00073-tid-7236224095020335142-db988c73-d8e0-495d-88ea-771023d111d9-409-1-c000.csv\ndbfs:/FileStore/tables/Generate_Random_Data/million_random_data.csv/part-00074-tid-7236224095020335142-db988c73-d8e0-495d-88ea-771023d111d9-410-1-c000.csv\ndbfs:/FileStore/tables/Generate_Random_Data/million_random_data.csv/part-00075-tid-7236224095020335142-db988c73-d8e0-495d-88ea-771023d111d9-411-1-c000.csv\ndbfs:/FileStore/tables/Generate_Random_Data/million_random_data.csv/part-00076-tid-7236224095020335142-db988c73-d8e0-495d-88ea-771023d111d9-412-1-c000.csv\ndbfs:/FileStore/tables/Generate_Random_Data/million_random_data.csv/part-00077-tid-7236224095020335142-db988c73-d8e0-495d-88ea-771023d111d9-413-1-c000.csv\ndbfs:/FileStore/tables/Generate_Random_Data/million_random_data.csv/part-00078-tid-7236224095020335142-db988c73-d8e0-495d-88ea-771023d111d9-414-1-c000.csv\ndbfs:/FileStore/tables/Generate_Random_Data/million_random_data.csv/part-00079-tid-7236224095020335142-db988c73-d8e0-495d-88ea-771023d111d9-415-1-c000.csv\ndbfs:/FileStore/tables/InterviewQuestions/PySpark/18_highest_lowest_salary_department_wise/_delta_log/00000000000000000000.crc\ndbfs:/FileStore/tables/InterviewQuestions/PySpark/18_highest_lowest_salary_department_wise/_delta_log/00000000000000000000.json\ndbfs:/FileStore/tables/InterviewQuestions/PySpark/18_highest_lowest_salary_department_wise/part-00000-563997b8-76ef-4860-ba9a-3d75420ed43b-c000.snappy.parquet\ndbfs:/FileStore/tables/InterviewQuestions/PySpark/deptsal.csv\ndbfs:/FileStore/tables/InterviewQuestions/PySpark/json_data.json\ndbfs:/FileStore/tables/MarketPrice.csv\ndbfs:/FileStore/tables/MultiLineJSON.json/_delta_log/.s3-optimization-0\ndbfs:/FileStore/tables/MultiLineJSON.json/_delta_log/.s3-optimization-1\ndbfs:/FileStore/tables/MultiLineJSON.json/_delta_log/.s3-optimization-2\ndbfs:/FileStore/tables/MultiLineJSON.json/_delta_log/00000000000000000000.crc\ndbfs:/FileStore/tables/MultiLineJSON.json/_delta_log/00000000000000000000.json\ndbfs:/FileStore/tables/MultiLineJSON.json/_delta_log/00000000000000000001.crc\ndbfs:/FileStore/tables/MultiLineJSON.json/_delta_log/00000000000000000001.json\ndbfs:/FileStore/tables/MultiLineJSON.json/_delta_log/00000000000000000002.crc\ndbfs:/FileStore/tables/MultiLineJSON.json/_delta_log/00000000000000000002.json\ndbfs:/FileStore/tables/MultiLineJSON.json/part-00000-0d0b985a-31fd-4491-89eb-948cd1d66de7-c000.snappy.parquet\ndbfs:/FileStore/tables/MultiLineJSON.json/part-00000-ac89cd2d-300f-4b86-8f9d-7ec7054dab28-c000.snappy.parquet\ndbfs:/FileStore/tables/MultiLineJSON.json/part-00000-e7eb9435-7570-4425-b50c-7384e9714bef-c000.snappy.parquet\ndbfs:/FileStore/tables/MultiLineJSON01.json/_delta_log/.s3-optimization-0\ndbfs:/FileStore/tables/MultiLineJSON01.json/_delta_log/.s3-optimization-1\ndbfs:/FileStore/tables/MultiLineJSON01.json/_delta_log/.s3-optimization-2\ndbfs:/FileStore/tables/MultiLineJSON01.json/_delta_log/00000000000000000000.crc\ndbfs:/FileStore/tables/MultiLineJSON01.json/_delta_log/00000000000000000000.json\ndbfs:/FileStore/tables/MultiLineJSON01.json/part-00000-0547c391-9259-475e-b4f3-c86a44b1043c-c000.snappy.parquet\ndbfs:/FileStore/tables/MultiLineJSON1.json/_delta_log/.s3-optimization-0\ndbfs:/FileStore/tables/MultiLineJSON1.json/_delta_log/.s3-optimization-1\ndbfs:/FileStore/tables/MultiLineJSON1.json/_delta_log/.s3-optimization-2\ndbfs:/FileStore/tables/MultiLineJSON1.json/_delta_log/00000000000000000000.crc\ndbfs:/FileStore/tables/MultiLineJSON1.json/_delta_log/00000000000000000000.json\ndbfs:/FileStore/tables/MultiLineJSON1.json/part-00000-e686aa4f-cdd1-4f75-95f8-57ffa219516e-c000.snappy.parquet\ndbfs:/FileStore/tables/MultiLineJSON123.json/_SUCCESS\ndbfs:/FileStore/tables/MultiLineJSON123.json/_committed_3683972314635160232\ndbfs:/FileStore/tables/MultiLineJSON123.json/_started_3683972314635160232\ndbfs:/FileStore/tables/MultiLineJSON123.json/part-00000-tid-3683972314635160232-06355860-c7da-4e4d-a05b-f00f7d1572b7-23-1-c000.json\ndbfs:/FileStore/tables/MultiLineJSON2.json/_SUCCESS\ndbfs:/FileStore/tables/MultiLineJSON2.json/_committed_8070193758060665032\ndbfs:/FileStore/tables/MultiLineJSON2.json/_started_8070193758060665032\ndbfs:/FileStore/tables/MultiLineJSON2.json/part-00000-tid-8070193758060665032-460bcea9-eeb1-4014-a3ba-88f28a44f09e-119-1-c000.json\ndbfs:/FileStore/tables/Question7.csv\ndbfs:/FileStore/tables/RunningData_Rev03.csv\ndbfs:/FileStore/tables/SalesData_Rev02.csv\ndbfs:/FileStore/tables/SalesData_Rev03.csv\ndbfs:/FileStore/tables/Sales_Collect.csv\ndbfs:/FileStore/tables/Sales_Collect_Rev03.csv\ndbfs:/FileStore/tables/Streaming/Stream_checkpoint/json/Set02/_chkpoint_tbl_enriched_gas/commits/0\ndbfs:/FileStore/tables/Streaming/Stream_checkpoint/json/Set02/_chkpoint_tbl_enriched_gas/metadata\ndbfs:/FileStore/tables/Streaming/Stream_checkpoint/json/Set02/_chkpoint_tbl_enriched_gas/offsets/0\ndbfs:/FileStore/tables/Streaming/Stream_checkpoint/json/Set02/_chkpoint_tbl_enriched_gas/sources/0/0\ndbfs:/FileStore/tables/Streaming/Stream_checkpoint/json/_chkpoint_tbl_enriched_gas/Set01/commits/0\ndbfs:/FileStore/tables/Streaming/Stream_checkpoint/json/_chkpoint_tbl_enriched_gas/Set01/metadata\ndbfs:/FileStore/tables/Streaming/Stream_checkpoint/json/_chkpoint_tbl_enriched_gas/Set01/offsets/0\ndbfs:/FileStore/tables/Streaming/Stream_checkpoint/json/_chkpoint_tbl_enriched_gas/Set01/sources/0/0\ndbfs:/FileStore/tables/Streaming/Stream_readStream/json/Set01/multiLine_nested_01.json\ndbfs:/FileStore/tables/Streaming/Stream_readStream/json/Set02/multiLine_nested_02.json\ndbfs:/FileStore/tables/Streaming/Stream_readStream/json/Set03/multiLine_nested_03.json\ndbfs:/FileStore/tables/Streaming/Stream_readStream/json/Set04/multiLine_nested_04.json\ndbfs:/FileStore/tables/Streaming/Stream_readStream/json/Set05/multiLine_nested_03.json\ndbfs:/FileStore/tables/Streaming/Stream_writeStream/json/Set01/_spark_metadata/0\ndbfs:/FileStore/tables/Streaming/Stream_writeStream/json/Set01/part-00000-da6fb1a7-793a-4002-a4cf-9f613bc15dbf-c000.snappy.parquet\ndbfs:/FileStore/tables/Streaming/Stream_writeStream/json/Set02/_spark_metadata/0\ndbfs:/FileStore/tables/Streaming/Stream_writeStream/json/Set02/part-00000-38ea8f84-ae04-4fdb-b9e7-df1fd690cce5-c000.snappy.parquet\ndbfs:/FileStore/tables/StringToMaptype-1.csv\ndbfs:/FileStore/tables/StringToMaptype.csv\ndbfs:/FileStore/tables/StructType-4.csv\ndbfs:/FileStore/tables/StructType-5.csv\ndbfs:/FileStore/tables/StructType.csv\ndbfs:/FileStore/tables/avro/output_data.avro/_SUCCESS\ndbfs:/FileStore/tables/avro/output_data.avro/_committed_6974363458519828805\ndbfs:/FileStore/tables/avro/output_data.avro/_started_6974363458519828805\ndbfs:/FileStore/tables/avro/output_data.avro/part-00000-tid-6974363458519828805-ade0782d-6025-4024-bd40-df237904e1cd-32-1-c000.snappy.avro\ndbfs:/FileStore/tables/avro/output_data.avro/part-00001-tid-6974363458519828805-ade0782d-6025-4024-bd40-df237904e1cd-33-1-c000.snappy.avro\ndbfs:/FileStore/tables/avro/output_data.avro/part-00003-tid-6974363458519828805-ade0782d-6025-4024-bd40-df237904e1cd-35-1-c000.snappy.avro\ndbfs:/FileStore/tables/avro/output_data.avro/part-00004-tid-6974363458519828805-ade0782d-6025-4024-bd40-df237904e1cd-36-1-c000.snappy.avro\ndbfs:/FileStore/tables/avro/output_data.avro/part-00006-tid-6974363458519828805-ade0782d-6025-4024-bd40-df237904e1cd-38-1-c000.snappy.avro\ndbfs:/FileStore/tables/avro/output_data.avro/part-00007-tid-6974363458519828805-ade0782d-6025-4024-bd40-df237904e1cd-39-1-c000.snappy.avro\ndbfs:/FileStore/tables/avro/output_data_compressed.avro/_SUCCESS\ndbfs:/FileStore/tables/avro/output_data_compressed.avro/_committed_726040407455030314\ndbfs:/FileStore/tables/avro/output_data_compressed.avro/_started_726040407455030314\ndbfs:/FileStore/tables/avro/output_data_compressed.avro/part-00000-tid-726040407455030314-cd4a35df-f4d1-4e21-88d3-fac4ae4475a2-40-1-c000.snappy.avro\ndbfs:/FileStore/tables/avro/output_data_compressed.avro/part-00001-tid-726040407455030314-cd4a35df-f4d1-4e21-88d3-fac4ae4475a2-41-1-c000.snappy.avro\ndbfs:/FileStore/tables/avro/output_data_compressed.avro/part-00003-tid-726040407455030314-cd4a35df-f4d1-4e21-88d3-fac4ae4475a2-43-1-c000.snappy.avro\ndbfs:/FileStore/tables/avro/output_data_compressed.avro/part-00004-tid-726040407455030314-cd4a35df-f4d1-4e21-88d3-fac4ae4475a2-44-1-c000.snappy.avro\ndbfs:/FileStore/tables/avro/output_data_compressed.avro/part-00006-tid-726040407455030314-cd4a35df-f4d1-4e21-88d3-fac4ae4475a2-46-1-c000.snappy.avro\ndbfs:/FileStore/tables/avro/output_data_compressed.avro/part-00007-tid-726040407455030314-cd4a35df-f4d1-4e21-88d3-fac4ae4475a2-47-1-c000.snappy.avro\ndbfs:/FileStore/tables/booleantype-1.csv\ndbfs:/FileStore/tables/booleantype-2.csv\ndbfs:/FileStore/tables/booleantype-3.csv\ndbfs:/FileStore/tables/booleantype-4.csv\ndbfs:/FileStore/tables/booleantype-5.csv\ndbfs:/FileStore/tables/booleantype.csv\ndbfs:/FileStore/tables/cast_data.txt\ndbfs:/FileStore/tables/cross_join-1.csv\ndbfs:/FileStore/tables/cross_join.csv\ndbfs:/FileStore/tables/cross_join_million-1.csv\ndbfs:/FileStore/tables/cross_join_million.csv\ndbfs:/FileStore/tables/current_date___current_user___current_timestamp__.csv\ndbfs:/FileStore/tables/date_format-1.csv\ndbfs:/FileStore/tables/date_format-2.csv\ndbfs:/FileStore/tables/date_format.csv\ndbfs:/FileStore/tables/doubletotimestamp-1.csv\ndbfs:/FileStore/tables/doubletotimestamp-2.csv\ndbfs:/FileStore/tables/doubletotimestamp.csv\ndbfs:/FileStore/tables/except-1.csv\ndbfs:/FileStore/tables/except-2.csv\ndbfs:/FileStore/tables/except.csv\ndbfs:/FileStore/tables/exceptAll_rev01.csv\ndbfs:/FileStore/tables/exceptAll_rev02.csv\ndbfs:/FileStore/tables/from_unixtime-1.csv\ndbfs:/FileStore/tables/from_unixtime.csv\ndbfs:/FileStore/tables/fullload_uat.csv\ndbfs:/FileStore/tables/hourly_cal.csv\ndbfs:/FileStore/tables/incrementalload.csv\ndbfs:/FileStore/tables/initload.csv\ndbfs:/FileStore/tables/iterate_columns.csv\ndbfs:/FileStore/tables/maptypeaccess.csv\ndbfs:/FileStore/tables/multiLine_nested_01.json\ndbfs:/FileStore/tables/multiline.json\ndbfs:/FileStore/tables/multiline.txt\ndbfs:/FileStore/tables/multiline_nested-1.json\ndbfs:/FileStore/tables/multiline_nested.json\ndbfs:/FileStore/tables/multiline_nested_01.avro\ndbfs:/FileStore/tables/multiline_nested_01.orc\ndbfs:/FileStore/tables/multiline_nested_parquet_01.parquet\ndbfs:/FileStore/tables/newload.csv\ndbfs:/FileStore/tables/person-2.json\ndbfs:/FileStore/tables/person.json\ndbfs:/FileStore/tables/posexplode.txt\ndbfs:/FileStore/tables/random_data-1.csv\ndbfs:/FileStore/tables/random_data-2.csv\ndbfs:/FileStore/tables/random_data-3.csv\ndbfs:/FileStore/tables/random_data.csv\ndbfs:/FileStore/tables/sales_json-1.txt\ndbfs:/FileStore/tables/sales_json-2.txt\ndbfs:/FileStore/tables/sales_json-3.txt\ndbfs:/FileStore/tables/sales_json.csv\ndbfs:/FileStore/tables/sales_json.txt\ndbfs:/FileStore/tables/singleline-1.json\ndbfs:/FileStore/tables/singleline-2.json\ndbfs:/FileStore/tables/singleline-3.json\ndbfs:/FileStore/tables/singleline-4.json\ndbfs:/FileStore/tables/singleline-5.json\ndbfs:/FileStore/tables/singleline-6.json\ndbfs:/FileStore/tables/singleline.json\ndbfs:/FileStore/tables/singlelineList.json\ndbfs:/FileStore/tables/singleline_nested-1.json\ndbfs:/FileStore/tables/singleline_nested.json\ndbfs:/FileStore/tables/split.txt\ndbfs:/FileStore/tables/streaming.csv\ndbfs:/FileStore/tables/syntax.jpg\ndbfs:/FileStore/tables/temp_data/data_16062023/department.csv\ndbfs:/FileStore/tables/temp_data/data_16062023/employee.csv\ndbfs:/FileStore/tables/temp_data/data_16062023/marketing.csv\ndbfs:/FileStore/tables/temp_data/data_16062023/sales_01.csv\ndbfs:/FileStore/tables/temp_data/data_16062023/sales_02.csv\ndbfs:/FileStore/tables/temp_data/data_16062023/sample_01.csv\ndbfs:/FileStore/tables/temp_data/data_16062023/sample_02.csv\ndbfs:/FileStore/tables/temp_data/sales_01.csv\ndbfs:/FileStore/tables/temp_data/sales_02.csv\ndbfs:/FileStore/tables/temp_data_sales/data_16062023/department.csv\ndbfs:/FileStore/tables/temp_data_sales/data_16062023/employee.csv\ndbfs:/FileStore/tables/temp_data_sales/data_16062023/marketing.csv\ndbfs:/FileStore/tables/temp_data_sales/data_16062023/sales_01.csv\ndbfs:/FileStore/tables/temp_data_sales/data_16062023/sales_02.csv\ndbfs:/FileStore/tables/temp_data_sales/data_16062023/sample_01.csv\ndbfs:/FileStore/tables/temp_data_sales/data_16062023/sample_02.csv\ndbfs:/FileStore/tables/temp_data_sales/data_16062024/address.csv\ndbfs:/FileStore/tables/temp_data_sales/data_16062024/admin.csv\ndbfs:/FileStore/tables/temp_data_sales/data_16062024/audit.csv\ndbfs:/FileStore/tables/temp_data_sales/data_16062024/employee.csv\ndbfs:/FileStore/tables/temp_data_sales/data_16062024/finance.csv\ndbfs:/FileStore/tables/temp_data_sales/data_16062024/maintanance.csv\ndbfs:/FileStore/tables/temp_data_sales/data_16062024/planning.csv\ndbfs:/FileStore/tables/temp_data_sales/data_16062024/sales_data.csv\ndbfs:/FileStore/tables/temp_data_sales/sales_01.csv\ndbfs:/FileStore/tables/temp_data_sales/sales_02.csv\ndbfs:/FileStore/tables/timestamp_millis-1.csv\ndbfs:/FileStore/tables/timestamp_millis-2.csv\ndbfs:/FileStore/tables/timestamp_millis-3.csv\ndbfs:/FileStore/tables/timestamp_millis.csv\ndbfs:/FileStore/tables/titanic.csv\ndbfs:/FileStore/tables/to_date.csv\ndbfs:/FileStore/tables/to_json.csv\ndbfs:/FileStore/tables/to_timestamp-1.csv\ndbfs:/FileStore/tables/to_timestamp-2.csv\ndbfs:/FileStore/tables/to_timestamp-3.csv\ndbfs:/FileStore/tables/to_timestamp.csv\n"
     ]
    }
   ],
   "source": [
    "def list_files_recursive(path):\n",
    "    for file_info in dbutils.fs.ls(path):\n",
    "        if file_info.isDir():  # Check if the file_info is a directory\n",
    "            list_files_recursive(file_info.path)  # Recursive call\n",
    "        else:\n",
    "            print(file_info.path)\n",
    "\n",
    "list_files_recursive(\"dbfs:/FileStore/tables/\")"
   ]
  }
 ],
 "metadata": {
  "application/vnd.databricks.v1+notebook": {
   "computePreferences": null,
   "dashboards": [],
   "environmentMetadata": null,
   "language": "python",
   "notebookMetadata": {
    "mostRecentlyExecutedCommandWithImplicitDF": {
     "commandId": 2661969693124307,
     "dataframes": [
      "_sqldf"
     ]
    },
    "pythonIndentUnit": 4
   },
   "notebookName": "6_dbutils.fs.ls_Databricks Utilities (DBUTILS)",
   "widgets": {}
  }
 },
 "nbformat": 4,
 "nbformat_minor": 0
}
