{
 "cells": [
  {
   "cell_type": "markdown",
   "metadata": {
    "application/vnd.databricks.v1+cell": {
     "cellMetadata": {},
     "inputWidgets": {},
     "nuid": "9216e656-2be3-4f27-ac0f-8d742ca8c670",
     "showTitle": false,
     "tableResultSettingsMap": {},
     "title": ""
    }
   },
   "source": [
    "#### Edit notebooks side by side\n",
    "- To **view and edit notebooks side by side**, click **Column split icon** to **add a split view** of the current notebook.\n",
    "- You can also **drag a notebook tab and drop** it to the **right** to **edit notebooks side by side**.\n",
    "- Useful for **comparing code and results or copying code** from **one notebook to another**."
   ]
  },
  {
   "cell_type": "markdown",
   "metadata": {
    "application/vnd.databricks.v1+cell": {
     "cellMetadata": {},
     "inputWidgets": {},
     "nuid": "ee401a90-a3fc-496e-871f-9002c343c790",
     "showTitle": false,
     "tableResultSettingsMap": {},
     "title": ""
    }
   },
   "source": [
    "##### **❌ Limitations of \"Open in Split View\":**\n",
    "\n",
    "- The **split view** for notebooks (not just cells) **only supports vertical** side-by-side layout.\n",
    "- You **cannot split** two notebooks **horizontally (top-bottom)** using the UI.\n",
    "- You can only **drag a second notebook** to the **left or right side** of the screen for **vertical splitting**."
   ]
  },
  {
   "cell_type": "markdown",
   "metadata": {
    "application/vnd.databricks.v1+cell": {
     "cellMetadata": {},
     "inputWidgets": {},
     "nuid": "dfd55c0e-0765-4db0-9420-290d47b001dd",
     "showTitle": false,
     "tableResultSettingsMap": {},
     "title": ""
    }
   },
   "source": [
    "| Task                                       | Supported? | Notes                         |\n",
    "| ------------------------------------------ | ---------- | ----------------------------- |\n",
    "| Vertical split (side-by-side)              | ✅          | Between notebooks or cells    |\n",
    "| Horizontal split (top-bottom)              | ❌          | Not available                 |\n",
    "| Editing two notebooks side by side         | ✅          | Drag notebook tabs left/right |"
   ]
  },
  {
   "cell_type": "markdown",
   "metadata": {
    "application/vnd.databricks.v1+cell": {
     "cellMetadata": {},
     "inputWidgets": {},
     "nuid": "a54608b4-7dcd-41c0-b54e-81f9d5281acf",
     "showTitle": false,
     "tableResultSettingsMap": {},
     "title": ""
    }
   },
   "source": [
    "#### Horizontal split\n",
    "\n",
    "If you want to mimic a **horizontal split**, you can open **two browser windows** of Databricks:\n",
    "- Open one notebook in each.\n",
    "- Stack the browser windows vertically (manual layout)."
   ]
  }
 ],
 "metadata": {
  "application/vnd.databricks.v1+notebook": {
   "computePreferences": null,
   "dashboards": [],
   "environmentMetadata": {
    "base_environment": "",
    "environment_version": "2"
   },
   "inputWidgetPreferences": null,
   "language": "python",
   "notebookMetadata": {
    "pythonIndentUnit": 4
   },
   "notebookName": "22_How to view and edit notebooks side by side using Open in split view",
   "widgets": {}
  },
  "language_info": {
   "name": "python"
  }
 },
 "nbformat": 4,
 "nbformat_minor": 0
}