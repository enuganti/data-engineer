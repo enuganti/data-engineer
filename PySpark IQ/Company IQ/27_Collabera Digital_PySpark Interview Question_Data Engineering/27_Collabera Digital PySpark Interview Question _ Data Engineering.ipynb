{
 "cells": [
  {
   "cell_type": "markdown",
   "metadata": {
    "application/vnd.databricks.v1+cell": {
     "cellMetadata": {
      "byteLimit": 2048000,
      "rowLimit": 10000
     },
     "inputWidgets": {},
     "nuid": "eecc3157-672a-4eaa-bd3f-5c02a0512d08",
     "showTitle": false,
     "tableResultSettingsMap": {},
     "title": ""
    }
   },
   "source": [
    "#### **Question**\n",
    "**How to convert custom date into timestamp?**"
   ]
  },
  {
   "cell_type": "code",
   "execution_count": 0,
   "metadata": {
    "application/vnd.databricks.v1+cell": {
     "cellMetadata": {
      "byteLimit": 2048000,
      "rowLimit": 10000
     },
     "inputWidgets": {},
     "nuid": "ca6d87c7-c455-4102-b524-b07ca24fa31a",
     "showTitle": false,
     "tableResultSettingsMap": {},
     "title": ""
    }
   },
   "outputs": [],
   "source": [
    "import pyspark.sql.functions as F\n",
    "from pyspark.sql.functions import regexp_extract, col, from_unixtime, timestamp_millis, substring, length"
   ]
  },
  {
   "cell_type": "code",
   "execution_count": 0,
   "metadata": {
    "application/vnd.databricks.v1+cell": {
     "cellMetadata": {
      "byteLimit": 2048000,
      "rowLimit": 10000
     },
     "inputWidgets": {},
     "nuid": "3452e213-2f71-42d7-b8fe-191dcb7c61c2",
     "showTitle": false,
     "tableResultSettingsMap": {
      "0": {
       "dataGridStateBlob": "{\"version\":1,\"tableState\":{\"columnPinning\":{\"left\":[\"#row_number#\"],\"right\":[]},\"columnSizing\":{\"d1\":166},\"columnVisibility\":{\"d1\":true,\"d2\":true,\"d3\":true}},\"settings\":{\"columns\":{}},\"syncTimestamp\":1754586638407}",
       "filterBlob": null,
       "queryPlanFiltersBlob": null,
       "tableResultIndex": 0
      }
     },
     "title": ""
    }
   },
   "outputs": [
    {
     "output_type": "display_data",
     "data": {
      "text/html": [
       "<style scoped>\n",
       "  .table-result-container {\n",
       "    max-height: 300px;\n",
       "    overflow: auto;\n",
       "  }\n",
       "  table, th, td {\n",
       "    border: 1px solid black;\n",
       "    border-collapse: collapse;\n",
       "  }\n",
       "  th, td {\n",
       "    padding: 5px;\n",
       "  }\n",
       "  th {\n",
       "    text-align: left;\n",
       "  }\n",
       "</style><div class='table-result-container'><table class='table-result'><thead style='background-color: white'><tr><th>d1</th><th>d2</th><th>d3</th></tr></thead><tbody><tr><td>/Date(1493596800000)/</td><td>/Date(2840054400000)/</td><td>/Date(1540857600000)/</td></tr><tr><td>/Date(1537920000000)/</td><td>/Date(2871676800000)/</td><td>/Date(1540944000000)/</td></tr><tr><td>/Date(1493510400000)/</td><td>/Date(2871590400000)/</td><td>/Date(1541376000000)/</td></tr><tr><td>/Date(1522540800000)/</td><td>/Date(1548028800000)/</td><td>/Date(1541462400000)/</td></tr><tr><td>/Date(1522540800000)/</td><td>/Date(2840054400000)/</td><td>/Date(1541548800000)/</td></tr><tr><td>/Date(1493596800000)/</td><td>/Date(2366755200000)/</td><td>/Date(1541635200000)/</td></tr></tbody></table></div>"
      ]
     },
     "metadata": {
      "application/vnd.databricks.v1+output": {
       "addedWidgets": {},
       "aggData": [],
       "aggError": "",
       "aggOverflow": false,
       "aggSchema": [],
       "aggSeriesLimitReached": false,
       "aggType": "",
       "arguments": {},
       "columnCustomDisplayInfos": {},
       "data": [
        [
         "/Date(1493596800000)/",
         "/Date(2840054400000)/",
         "/Date(1540857600000)/"
        ],
        [
         "/Date(1537920000000)/",
         "/Date(2871676800000)/",
         "/Date(1540944000000)/"
        ],
        [
         "/Date(1493510400000)/",
         "/Date(2871590400000)/",
         "/Date(1541376000000)/"
        ],
        [
         "/Date(1522540800000)/",
         "/Date(1548028800000)/",
         "/Date(1541462400000)/"
        ],
        [
         "/Date(1522540800000)/",
         "/Date(2840054400000)/",
         "/Date(1541548800000)/"
        ],
        [
         "/Date(1493596800000)/",
         "/Date(2366755200000)/",
         "/Date(1541635200000)/"
        ]
       ],
       "datasetInfos": [],
       "dbfsResultPath": null,
       "isJsonSchema": true,
       "metadata": {},
       "overflow": false,
       "plotOptions": {
        "customPlotOptions": {},
        "displayType": "table",
        "pivotAggregation": null,
        "pivotColumns": null,
        "xColumns": null,
        "yColumns": null
       },
       "removedWidgets": [],
       "schema": [
        {
         "metadata": "{}",
         "name": "d1",
         "type": "\"string\""
        },
        {
         "metadata": "{}",
         "name": "d2",
         "type": "\"string\""
        },
        {
         "metadata": "{}",
         "name": "d3",
         "type": "\"string\""
        }
       ],
       "type": "table"
      }
     },
     "output_type": "display_data"
    }
   ],
   "source": [
    "data = [(\"/Date(1493596800000)/\", \"/Date(2840054400000)/\", \"/Date(1540857600000)/\"),\n",
    "        (\"/Date(1537920000000)/\", \"/Date(2871676800000)/\", \"/Date(1540944000000)/\"),\n",
    "        (\"/Date(1493510400000)/\", \"/Date(2871590400000)/\", \"/Date(1541376000000)/\"),\n",
    "        (\"/Date(1522540800000)/\", \"/Date(1548028800000)/\", \"/Date(1541462400000)/\"),\n",
    "        (\"/Date(1522540800000)/\", \"/Date(2840054400000)/\", \"/Date(1541548800000)/\"),\n",
    "        (\"/Date(1493596800000)/\", \"/Date(2366755200000)/\", \"/Date(1541635200000)/\")\n",
    "        ]\n",
    "columns = [\"d1\", \"d2\", \"d3\"]\n",
    "\n",
    "df = spark.createDataFrame(data, columns)\n",
    "display(df)"
   ]
  },
  {
   "cell_type": "markdown",
   "metadata": {
    "application/vnd.databricks.v1+cell": {
     "cellMetadata": {
      "byteLimit": 2048000,
      "rowLimit": 10000
     },
     "inputWidgets": {},
     "nuid": "c6e26e8c-8495-4f7c-8be6-d135955037b1",
     "showTitle": false,
     "tableResultSettingsMap": {},
     "title": ""
    }
   },
   "source": [
    "**Method 01**\n",
    "- Using **from_unixtime + substring + cast**"
   ]
  },
  {
   "cell_type": "code",
   "execution_count": 0,
   "metadata": {
    "application/vnd.databricks.v1+cell": {
     "cellMetadata": {
      "byteLimit": 2048000,
      "rowLimit": 10000
     },
     "inputWidgets": {},
     "nuid": "510fa10e-8025-419c-9fdc-10f692cf1289",
     "showTitle": false,
     "tableResultSettingsMap": {
      "0": {
       "dataGridStateBlob": "{\"version\":1,\"tableState\":{\"columnPinning\":{\"left\":[\"#row_number#\"],\"right\":[]},\"columnSizing\":{\"d1\":180,\"d2\":160,\"d3\":156},\"columnVisibility\":{}},\"settings\":{\"columns\":{}},\"syncTimestamp\":1754586686744}",
       "filterBlob": null,
       "queryPlanFiltersBlob": null,
       "tableResultIndex": 0
      }
     },
     "title": ""
    }
   },
   "outputs": [
    {
     "output_type": "display_data",
     "data": {
      "text/html": [
       "<style scoped>\n",
       "  .table-result-container {\n",
       "    max-height: 300px;\n",
       "    overflow: auto;\n",
       "  }\n",
       "  table, th, td {\n",
       "    border: 1px solid black;\n",
       "    border-collapse: collapse;\n",
       "  }\n",
       "  th, td {\n",
       "    padding: 5px;\n",
       "  }\n",
       "  th {\n",
       "    text-align: left;\n",
       "  }\n",
       "</style><div class='table-result-container'><table class='table-result'><thead style='background-color: white'><tr><th>d1</th><th>d2</th><th>d3</th><th>d1_new</th><th>d2_new</th><th>d3_new</th></tr></thead><tbody><tr><td>/Date(1493596800000)/</td><td>/Date(2840054400000)/</td><td>/Date(1540857600000)/</td><td>1493596800000</td><td>2840054400000</td><td>1540857600000</td></tr><tr><td>/Date(1537920000000)/</td><td>/Date(2871676800000)/</td><td>/Date(1540944000000)/</td><td>1537920000000</td><td>2871676800000</td><td>1540944000000</td></tr><tr><td>/Date(1493510400000)/</td><td>/Date(2871590400000)/</td><td>/Date(1541376000000)/</td><td>1493510400000</td><td>2871590400000</td><td>1541376000000</td></tr><tr><td>/Date(1522540800000)/</td><td>/Date(1548028800000)/</td><td>/Date(1541462400000)/</td><td>1522540800000</td><td>1548028800000</td><td>1541462400000</td></tr><tr><td>/Date(1522540800000)/</td><td>/Date(2840054400000)/</td><td>/Date(1541548800000)/</td><td>1522540800000</td><td>2840054400000</td><td>1541548800000</td></tr><tr><td>/Date(1493596800000)/</td><td>/Date(2366755200000)/</td><td>/Date(1541635200000)/</td><td>1493596800000</td><td>2366755200000</td><td>1541635200000</td></tr></tbody></table></div>"
      ]
     },
     "metadata": {
      "application/vnd.databricks.v1+output": {
       "addedWidgets": {},
       "aggData": [],
       "aggError": "",
       "aggOverflow": false,
       "aggSchema": [],
       "aggSeriesLimitReached": false,
       "aggType": "",
       "arguments": {},
       "columnCustomDisplayInfos": {},
       "data": [
        [
         "/Date(1493596800000)/",
         "/Date(2840054400000)/",
         "/Date(1540857600000)/",
         "1493596800000",
         "2840054400000",
         "1540857600000"
        ],
        [
         "/Date(1537920000000)/",
         "/Date(2871676800000)/",
         "/Date(1540944000000)/",
         "1537920000000",
         "2871676800000",
         "1540944000000"
        ],
        [
         "/Date(1493510400000)/",
         "/Date(2871590400000)/",
         "/Date(1541376000000)/",
         "1493510400000",
         "2871590400000",
         "1541376000000"
        ],
        [
         "/Date(1522540800000)/",
         "/Date(1548028800000)/",
         "/Date(1541462400000)/",
         "1522540800000",
         "1548028800000",
         "1541462400000"
        ],
        [
         "/Date(1522540800000)/",
         "/Date(2840054400000)/",
         "/Date(1541548800000)/",
         "1522540800000",
         "2840054400000",
         "1541548800000"
        ],
        [
         "/Date(1493596800000)/",
         "/Date(2366755200000)/",
         "/Date(1541635200000)/",
         "1493596800000",
         "2366755200000",
         "1541635200000"
        ]
       ],
       "datasetInfos": [],
       "dbfsResultPath": null,
       "isJsonSchema": true,
       "metadata": {},
       "overflow": false,
       "plotOptions": {
        "customPlotOptions": {},
        "displayType": "table",
        "pivotAggregation": null,
        "pivotColumns": null,
        "xColumns": null,
        "yColumns": null
       },
       "removedWidgets": [],
       "schema": [
        {
         "metadata": "{}",
         "name": "d1",
         "type": "\"string\""
        },
        {
         "metadata": "{}",
         "name": "d2",
         "type": "\"string\""
        },
        {
         "metadata": "{}",
         "name": "d3",
         "type": "\"string\""
        },
        {
         "metadata": "{}",
         "name": "d1_new",
         "type": "\"string\""
        },
        {
         "metadata": "{}",
         "name": "d2_new",
         "type": "\"string\""
        },
        {
         "metadata": "{}",
         "name": "d3_new",
         "type": "\"string\""
        }
       ],
       "type": "table"
      }
     },
     "output_type": "display_data"
    }
   ],
   "source": [
    "df_substr = df\\\n",
    ".withColumn(\"d1_new\", substring('d1', 7, length('d1')-8)) \\\n",
    ".withColumn(\"d2_new\", substring('d2', 7, length('d2')-8)) \\\n",
    ".withColumn(\"d3_new\", substring('d3', 7, length('d3')-8))\n",
    "\n",
    "display(df_substr)"
   ]
  },
  {
   "cell_type": "code",
   "execution_count": 0,
   "metadata": {
    "application/vnd.databricks.v1+cell": {
     "cellMetadata": {
      "byteLimit": 2048000,
      "rowLimit": 10000
     },
     "inputWidgets": {},
     "nuid": "49d3e009-1f02-4ba6-be6f-29663dca1838",
     "showTitle": false,
     "tableResultSettingsMap": {},
     "title": ""
    }
   },
   "outputs": [
    {
     "output_type": "execute_result",
     "data": {
      "text/plain": [
       "21"
      ]
     },
     "execution_count": 2,
     "metadata": {},
     "output_type": "execute_result"
    }
   ],
   "source": [
    "input = \"/Date(1493596800000)/\"\n",
    "len(input)"
   ]
  },
  {
   "cell_type": "markdown",
   "metadata": {
    "application/vnd.databricks.v1+cell": {
     "cellMetadata": {},
     "inputWidgets": {},
     "nuid": "f71558bc-b3c1-499d-a418-44ea6f6ca25d",
     "showTitle": false,
     "tableResultSettingsMap": {},
     "title": ""
    }
   },
   "source": [
    "- Each row in data contains **3 string fields** like: \"/Date(1493596800000)/\"\n",
    "- These strings are **timestamps in Unix Epoch milliseconds** format, **wrapped inside /Date(...)/**\n",
    "      \n",
    "       \"/Date(1493596800000)/\"` → actual timestamp is `1493596800000`\n",
    "\n",
    "- **substring('d1', 7, length('d1') - 8)**\n",
    "  - substring **extracts a portion of a string** from a column.\n"
   ]
  },
  {
   "cell_type": "markdown",
   "metadata": {
    "application/vnd.databricks.v1+cell": {
     "cellMetadata": {
      "byteLimit": 2048000,
      "rowLimit": 10000
     },
     "inputWidgets": {},
     "nuid": "3116d8a1-ce22-43ed-a11e-81ea0f3366d4",
     "showTitle": false,
     "tableResultSettingsMap": {},
     "title": ""
    }
   },
   "source": [
    "     \"/Date(1493596800000)/\"\n",
    "\n",
    "      INDEX of full string    =>    1   2   3   4   5   6   7   8   9   10   11   12    13   14   15   16   17   18   19   20   21\n",
    "\n",
    "                                    /   D   a   t   e   (   1   4   9    3    5    9     6    8    0    0    0    0    0    )    /\n",
    "\n",
    "      INDEX of full substring =>                            1   2   3    4    5    6     7    8    9   10   11   12   13\n",
    "\n",
    "- The **timestamp starts** at **position 7** right after **/Date(**\n",
    "\n",
    "- The closing **)/** is at the **end**.\n",
    "- The **total length** of the **string is 21**.\n",
    "- **length('d1') - 8 = 21-8 = 13** ensures we exclude **)/** from the end.\n",
    "\n",
    "**Why -8?**\n",
    "- **length('d1')** gives **21** for **/Date(1493596800000)/**.\n",
    "- We **start** extracting at **position 7**.\n",
    "- The remaining portion to extract is **21 - 8 = 13** (which correctly gives **1493596800000**)."
   ]
  },
  {
   "cell_type": "code",
   "execution_count": 0,
   "metadata": {
    "application/vnd.databricks.v1+cell": {
     "cellMetadata": {
      "byteLimit": 2048000,
      "rowLimit": 10000
     },
     "inputWidgets": {},
     "nuid": "55b5c1b9-a7fa-4fc0-8431-c6ff2d50e7f0",
     "showTitle": true,
     "tableResultSettingsMap": {
      "0": {
       "dataGridStateBlob": "{\"version\":1,\"tableState\":{\"columnPinning\":{\"left\":[\"#row_number#\"],\"right\":[]},\"columnSizing\":{\"dt1_cust_str\":142,\"dt2_cust_str\":142,\"d1\":151},\"columnVisibility\":{}},\"settings\":{\"columns\":{}},\"syncTimestamp\":1754587160822}",
       "filterBlob": null,
       "queryPlanFiltersBlob": null,
       "tableResultIndex": 0
      }
     },
     "title": "string, timestamp & custom"
    }
   },
   "outputs": [
    {
     "output_type": "display_data",
     "data": {
      "text/html": [
       "<style scoped>\n",
       "  .table-result-container {\n",
       "    max-height: 300px;\n",
       "    overflow: auto;\n",
       "  }\n",
       "  table, th, td {\n",
       "    border: 1px solid black;\n",
       "    border-collapse: collapse;\n",
       "  }\n",
       "  th, td {\n",
       "    padding: 5px;\n",
       "  }\n",
       "  th {\n",
       "    text-align: left;\n",
       "  }\n",
       "</style><div class='table-result-container'><table class='table-result'><thead style='background-color: white'><tr><th>d1</th><th>d2</th><th>d3</th><th>dt1_default_str</th><th>dt2_default_str</th><th>dt3_default_str</th><th>dt1_default_timestamp</th><th>dt2_default_timestamp</th><th>dt3_default_timestamp</th><th>dt1_cust_str</th><th>dt2_cust_str</th><th>dt3_cust_str</th></tr></thead><tbody><tr><td>/Date(1493596800000)/</td><td>/Date(2840054400000)/</td><td>/Date(1540857600000)/</td><td>2017-05-01 00:00:00</td><td>2059-12-31 00:00:00</td><td>2018-10-30 00:00:00</td><td>2017-05-01T00:00:00.000Z</td><td>2059-12-31T00:00:00.000Z</td><td>2018-10-30T00:00:00.000Z</td><td>2017-05-01T00:00:00Z</td><td>2059-12-31T00:00:00Z</td><td>2018-10-30T00:00:00Z</td></tr><tr><td>/Date(1537920000000)/</td><td>/Date(2871676800000)/</td><td>/Date(1540944000000)/</td><td>2018-09-26 00:00:00</td><td>2060-12-31 00:00:00</td><td>2018-10-31 00:00:00</td><td>2018-09-26T00:00:00.000Z</td><td>2060-12-31T00:00:00.000Z</td><td>2018-10-31T00:00:00.000Z</td><td>2018-09-26T00:00:00Z</td><td>2060-12-31T00:00:00Z</td><td>2018-10-31T00:00:00Z</td></tr><tr><td>/Date(1493510400000)/</td><td>/Date(2871590400000)/</td><td>/Date(1541376000000)/</td><td>2017-04-30 00:00:00</td><td>2060-12-30 00:00:00</td><td>2018-11-05 00:00:00</td><td>2017-04-30T00:00:00.000Z</td><td>2060-12-30T00:00:00.000Z</td><td>2018-11-05T00:00:00.000Z</td><td>2017-04-30T00:00:00Z</td><td>2060-12-30T00:00:00Z</td><td>2018-11-05T00:00:00Z</td></tr><tr><td>/Date(1522540800000)/</td><td>/Date(1548028800000)/</td><td>/Date(1541462400000)/</td><td>2018-04-01 00:00:00</td><td>2019-01-21 00:00:00</td><td>2018-11-06 00:00:00</td><td>2018-04-01T00:00:00.000Z</td><td>2019-01-21T00:00:00.000Z</td><td>2018-11-06T00:00:00.000Z</td><td>2018-04-01T00:00:00Z</td><td>2019-01-21T00:00:00Z</td><td>2018-11-06T00:00:00Z</td></tr><tr><td>/Date(1522540800000)/</td><td>/Date(2840054400000)/</td><td>/Date(1541548800000)/</td><td>2018-04-01 00:00:00</td><td>2059-12-31 00:00:00</td><td>2018-11-07 00:00:00</td><td>2018-04-01T00:00:00.000Z</td><td>2059-12-31T00:00:00.000Z</td><td>2018-11-07T00:00:00.000Z</td><td>2018-04-01T00:00:00Z</td><td>2059-12-31T00:00:00Z</td><td>2018-11-07T00:00:00Z</td></tr><tr><td>/Date(1493596800000)/</td><td>/Date(2366755200000)/</td><td>/Date(1541635200000)/</td><td>2017-05-01 00:00:00</td><td>2044-12-31 00:00:00</td><td>2018-11-08 00:00:00</td><td>2017-05-01T00:00:00.000Z</td><td>2044-12-31T00:00:00.000Z</td><td>2018-11-08T00:00:00.000Z</td><td>2017-05-01T00:00:00Z</td><td>2044-12-31T00:00:00Z</td><td>2018-11-08T00:00:00Z</td></tr></tbody></table></div>"
      ]
     },
     "metadata": {
      "application/vnd.databricks.v1+output": {
       "addedWidgets": {},
       "aggData": [],
       "aggError": "",
       "aggOverflow": false,
       "aggSchema": [],
       "aggSeriesLimitReached": false,
       "aggType": "",
       "arguments": {},
       "columnCustomDisplayInfos": {},
       "data": [
        [
         "/Date(1493596800000)/",
         "/Date(2840054400000)/",
         "/Date(1540857600000)/",
         "2017-05-01 00:00:00",
         "2059-12-31 00:00:00",
         "2018-10-30 00:00:00",
         "2017-05-01T00:00:00.000Z",
         "2059-12-31T00:00:00.000Z",
         "2018-10-30T00:00:00.000Z",
         "2017-05-01T00:00:00Z",
         "2059-12-31T00:00:00Z",
         "2018-10-30T00:00:00Z"
        ],
        [
         "/Date(1537920000000)/",
         "/Date(2871676800000)/",
         "/Date(1540944000000)/",
         "2018-09-26 00:00:00",
         "2060-12-31 00:00:00",
         "2018-10-31 00:00:00",
         "2018-09-26T00:00:00.000Z",
         "2060-12-31T00:00:00.000Z",
         "2018-10-31T00:00:00.000Z",
         "2018-09-26T00:00:00Z",
         "2060-12-31T00:00:00Z",
         "2018-10-31T00:00:00Z"
        ],
        [
         "/Date(1493510400000)/",
         "/Date(2871590400000)/",
         "/Date(1541376000000)/",
         "2017-04-30 00:00:00",
         "2060-12-30 00:00:00",
         "2018-11-05 00:00:00",
         "2017-04-30T00:00:00.000Z",
         "2060-12-30T00:00:00.000Z",
         "2018-11-05T00:00:00.000Z",
         "2017-04-30T00:00:00Z",
         "2060-12-30T00:00:00Z",
         "2018-11-05T00:00:00Z"
        ],
        [
         "/Date(1522540800000)/",
         "/Date(1548028800000)/",
         "/Date(1541462400000)/",
         "2018-04-01 00:00:00",
         "2019-01-21 00:00:00",
         "2018-11-06 00:00:00",
         "2018-04-01T00:00:00.000Z",
         "2019-01-21T00:00:00.000Z",
         "2018-11-06T00:00:00.000Z",
         "2018-04-01T00:00:00Z",
         "2019-01-21T00:00:00Z",
         "2018-11-06T00:00:00Z"
        ],
        [
         "/Date(1522540800000)/",
         "/Date(2840054400000)/",
         "/Date(1541548800000)/",
         "2018-04-01 00:00:00",
         "2059-12-31 00:00:00",
         "2018-11-07 00:00:00",
         "2018-04-01T00:00:00.000Z",
         "2059-12-31T00:00:00.000Z",
         "2018-11-07T00:00:00.000Z",
         "2018-04-01T00:00:00Z",
         "2059-12-31T00:00:00Z",
         "2018-11-07T00:00:00Z"
        ],
        [
         "/Date(1493596800000)/",
         "/Date(2366755200000)/",
         "/Date(1541635200000)/",
         "2017-05-01 00:00:00",
         "2044-12-31 00:00:00",
         "2018-11-08 00:00:00",
         "2017-05-01T00:00:00.000Z",
         "2044-12-31T00:00:00.000Z",
         "2018-11-08T00:00:00.000Z",
         "2017-05-01T00:00:00Z",
         "2044-12-31T00:00:00Z",
         "2018-11-08T00:00:00Z"
        ]
       ],
       "datasetInfos": [],
       "dbfsResultPath": null,
       "isJsonSchema": true,
       "metadata": {},
       "overflow": false,
       "plotOptions": {
        "customPlotOptions": {},
        "displayType": "table",
        "pivotAggregation": null,
        "pivotColumns": null,
        "xColumns": null,
        "yColumns": null
       },
       "removedWidgets": [],
       "schema": [
        {
         "metadata": "{}",
         "name": "d1",
         "type": "\"string\""
        },
        {
         "metadata": "{}",
         "name": "d2",
         "type": "\"string\""
        },
        {
         "metadata": "{}",
         "name": "d3",
         "type": "\"string\""
        },
        {
         "metadata": "{}",
         "name": "dt1_default_str",
         "type": "\"string\""
        },
        {
         "metadata": "{}",
         "name": "dt2_default_str",
         "type": "\"string\""
        },
        {
         "metadata": "{}",
         "name": "dt3_default_str",
         "type": "\"string\""
        },
        {
         "metadata": "{}",
         "name": "dt1_default_timestamp",
         "type": "\"timestamp\""
        },
        {
         "metadata": "{}",
         "name": "dt2_default_timestamp",
         "type": "\"timestamp\""
        },
        {
         "metadata": "{}",
         "name": "dt3_default_timestamp",
         "type": "\"timestamp\""
        },
        {
         "metadata": "{}",
         "name": "dt1_cust_str",
         "type": "\"string\""
        },
        {
         "metadata": "{}",
         "name": "dt2_cust_str",
         "type": "\"string\""
        },
        {
         "metadata": "{}",
         "name": "dt3_cust_str",
         "type": "\"string\""
        }
       ],
       "type": "table"
      }
     },
     "output_type": "display_data"
    }
   ],
   "source": [
    "from pyspark.sql.functions import expr\n",
    "\n",
    "df_epoch_wexpr = df\\\n",
    ".withColumn(\"dt1_default_str\", from_unixtime(expr(\"cast(substring(d1, 7, length(d1)-8) as bigint)/1000\"))) \\\n",
    ".withColumn(\"dt2_default_str\", from_unixtime(expr(\"cast(substring(d2, 7, length(d2)-8) as bigint)/1000\"))) \\\n",
    ".withColumn(\"dt3_default_str\", from_unixtime(expr(\"cast(substring(d3, 7, length(d3)-8) as bigint)/1000\"))) \\\n",
    ".withColumn(\"dt1_default_timestamp\", from_unixtime(expr(\"cast(substring(d1, 7, length(d1)-8) as bigint)/1000\")).cast(\"timestamp\")) \\\n",
    ".withColumn(\"dt2_default_timestamp\", from_unixtime(expr(\"cast(substring(d2, 7, length(d2)-8) as bigint)/1000\")).cast(\"timestamp\")) \\\n",
    ".withColumn(\"dt3_default_timestamp\", from_unixtime(expr(\"cast(substring(d3, 7, length(d3)-8) as bigint)/1000\")).cast(\"timestamp\")) \\\n",
    ".withColumn(\"dt1_cust_str\", from_unixtime(expr(\"cast(substring(d1, 7, length(d1)-8) as bigint) / 1000\"), \"yyyy-MM-dd'T'HH:mm:ss'Z'\")) \\\n",
    ".withColumn(\"dt2_cust_str\", from_unixtime(expr(\"cast(substring(d2, 7, length(d2)-8) as bigint) / 1000\"), \"yyyy-MM-dd'T'HH:mm:ss'Z'\")) \\\n",
    ".withColumn(\"dt3_cust_str\", from_unixtime(expr(\"cast(substring(d3, 7, length(d3)-8) as bigint) / 1000\"), \"yyyy-MM-dd'T'HH:mm:ss'Z'\"))\n",
    "\n",
    "display(df_epoch_wexpr)"
   ]
  },
  {
   "cell_type": "markdown",
   "metadata": {
    "application/vnd.databricks.v1+cell": {
     "cellMetadata": {},
     "inputWidgets": {},
     "nuid": "05dc5477-b29f-4460-ad63-a4fdb4edc785",
     "showTitle": false,
     "tableResultSettingsMap": {},
     "title": ""
    }
   },
   "source": [
    "- Converting **Unix Time** to a **Human-Readable Format** of timestamp.\n",
    "\n",
    "      +----------+-------------------+\n",
    "      |unix_time |timestamp          |\n",
    "      +----------+-------------------+\n",
    "      |1648974310|2023-04-03 09:45:10|\n",
    "      +----------+-------------------+\n",
    "\n",
    "- **Returns:** string of **default: yyyy-MM-dd HH:mm:ss**"
   ]
  },
  {
   "cell_type": "code",
   "execution_count": 0,
   "metadata": {
    "application/vnd.databricks.v1+cell": {
     "cellMetadata": {
      "byteLimit": 2048000,
      "rowLimit": 10000
     },
     "inputWidgets": {},
     "nuid": "439dfc4e-cd18-44a2-b337-e4d3ef724d59",
     "showTitle": false,
     "tableResultSettingsMap": {
      "0": {
       "dataGridStateBlob": "{\"version\":1,\"tableState\":{\"columnPinning\":{\"left\":[\"#row_number#\"],\"right\":[]},\"columnSizing\":{\"d1\":170},\"columnVisibility\":{}},\"settings\":{\"columns\":{}},\"syncTimestamp\":1754587531125}",
       "filterBlob": null,
       "queryPlanFiltersBlob": null,
       "tableResultIndex": 0
      }
     },
     "title": ""
    }
   },
   "outputs": [
    {
     "output_type": "display_data",
     "data": {
      "text/html": [
       "<style scoped>\n",
       "  .table-result-container {\n",
       "    max-height: 300px;\n",
       "    overflow: auto;\n",
       "  }\n",
       "  table, th, td {\n",
       "    border: 1px solid black;\n",
       "    border-collapse: collapse;\n",
       "  }\n",
       "  th, td {\n",
       "    padding: 5px;\n",
       "  }\n",
       "  th {\n",
       "    text-align: left;\n",
       "  }\n",
       "</style><div class='table-result-container'><table class='table-result'><thead style='background-color: white'><tr><th>d1</th><th>d2</th><th>d3</th><th>dt1_default_str</th><th>dt2_default_str</th><th>dt3_default_str</th><th>dt1_default_timestamp</th><th>dt2_default_timestamp</th><th>dt3_default_timestamp</th><th>dt1_cust_str</th><th>dt2_cust_str</th><th>dt3_cust_str</th></tr></thead><tbody><tr><td>/Date(1493596800000)/</td><td>/Date(2840054400000)/</td><td>/Date(1540857600000)/</td><td>2017-05-01 00:00:00</td><td>2059-12-31 00:00:00</td><td>2018-10-30 00:00:00</td><td>2017-05-01T00:00:00.000Z</td><td>2059-12-31T00:00:00.000Z</td><td>2018-10-30T00:00:00.000Z</td><td>2017-05-01T00:00:00Z</td><td>2059-12-31T00:00:00Z</td><td>2018-10-30T00:00:00Z</td></tr><tr><td>/Date(1537920000000)/</td><td>/Date(2871676800000)/</td><td>/Date(1540944000000)/</td><td>2018-09-26 00:00:00</td><td>2060-12-31 00:00:00</td><td>2018-10-31 00:00:00</td><td>2018-09-26T00:00:00.000Z</td><td>2060-12-31T00:00:00.000Z</td><td>2018-10-31T00:00:00.000Z</td><td>2018-09-26T00:00:00Z</td><td>2060-12-31T00:00:00Z</td><td>2018-10-31T00:00:00Z</td></tr><tr><td>/Date(1493510400000)/</td><td>/Date(2871590400000)/</td><td>/Date(1541376000000)/</td><td>2017-04-30 00:00:00</td><td>2060-12-30 00:00:00</td><td>2018-11-05 00:00:00</td><td>2017-04-30T00:00:00.000Z</td><td>2060-12-30T00:00:00.000Z</td><td>2018-11-05T00:00:00.000Z</td><td>2017-04-30T00:00:00Z</td><td>2060-12-30T00:00:00Z</td><td>2018-11-05T00:00:00Z</td></tr><tr><td>/Date(1522540800000)/</td><td>/Date(1548028800000)/</td><td>/Date(1541462400000)/</td><td>2018-04-01 00:00:00</td><td>2019-01-21 00:00:00</td><td>2018-11-06 00:00:00</td><td>2018-04-01T00:00:00.000Z</td><td>2019-01-21T00:00:00.000Z</td><td>2018-11-06T00:00:00.000Z</td><td>2018-04-01T00:00:00Z</td><td>2019-01-21T00:00:00Z</td><td>2018-11-06T00:00:00Z</td></tr><tr><td>/Date(1522540800000)/</td><td>/Date(2840054400000)/</td><td>/Date(1541548800000)/</td><td>2018-04-01 00:00:00</td><td>2059-12-31 00:00:00</td><td>2018-11-07 00:00:00</td><td>2018-04-01T00:00:00.000Z</td><td>2059-12-31T00:00:00.000Z</td><td>2018-11-07T00:00:00.000Z</td><td>2018-04-01T00:00:00Z</td><td>2059-12-31T00:00:00Z</td><td>2018-11-07T00:00:00Z</td></tr><tr><td>/Date(1493596800000)/</td><td>/Date(2366755200000)/</td><td>/Date(1541635200000)/</td><td>2017-05-01 00:00:00</td><td>2044-12-31 00:00:00</td><td>2018-11-08 00:00:00</td><td>2017-05-01T00:00:00.000Z</td><td>2044-12-31T00:00:00.000Z</td><td>2018-11-08T00:00:00.000Z</td><td>2017-05-01T00:00:00Z</td><td>2044-12-31T00:00:00Z</td><td>2018-11-08T00:00:00Z</td></tr></tbody></table></div>"
      ]
     },
     "metadata": {
      "application/vnd.databricks.v1+output": {
       "addedWidgets": {},
       "aggData": [],
       "aggError": "",
       "aggOverflow": false,
       "aggSchema": [],
       "aggSeriesLimitReached": false,
       "aggType": "",
       "arguments": {},
       "columnCustomDisplayInfos": {},
       "data": [
        [
         "/Date(1493596800000)/",
         "/Date(2840054400000)/",
         "/Date(1540857600000)/",
         "2017-05-01 00:00:00",
         "2059-12-31 00:00:00",
         "2018-10-30 00:00:00",
         "2017-05-01T00:00:00.000Z",
         "2059-12-31T00:00:00.000Z",
         "2018-10-30T00:00:00.000Z",
         "2017-05-01T00:00:00Z",
         "2059-12-31T00:00:00Z",
         "2018-10-30T00:00:00Z"
        ],
        [
         "/Date(1537920000000)/",
         "/Date(2871676800000)/",
         "/Date(1540944000000)/",
         "2018-09-26 00:00:00",
         "2060-12-31 00:00:00",
         "2018-10-31 00:00:00",
         "2018-09-26T00:00:00.000Z",
         "2060-12-31T00:00:00.000Z",
         "2018-10-31T00:00:00.000Z",
         "2018-09-26T00:00:00Z",
         "2060-12-31T00:00:00Z",
         "2018-10-31T00:00:00Z"
        ],
        [
         "/Date(1493510400000)/",
         "/Date(2871590400000)/",
         "/Date(1541376000000)/",
         "2017-04-30 00:00:00",
         "2060-12-30 00:00:00",
         "2018-11-05 00:00:00",
         "2017-04-30T00:00:00.000Z",
         "2060-12-30T00:00:00.000Z",
         "2018-11-05T00:00:00.000Z",
         "2017-04-30T00:00:00Z",
         "2060-12-30T00:00:00Z",
         "2018-11-05T00:00:00Z"
        ],
        [
         "/Date(1522540800000)/",
         "/Date(1548028800000)/",
         "/Date(1541462400000)/",
         "2018-04-01 00:00:00",
         "2019-01-21 00:00:00",
         "2018-11-06 00:00:00",
         "2018-04-01T00:00:00.000Z",
         "2019-01-21T00:00:00.000Z",
         "2018-11-06T00:00:00.000Z",
         "2018-04-01T00:00:00Z",
         "2019-01-21T00:00:00Z",
         "2018-11-06T00:00:00Z"
        ],
        [
         "/Date(1522540800000)/",
         "/Date(2840054400000)/",
         "/Date(1541548800000)/",
         "2018-04-01 00:00:00",
         "2059-12-31 00:00:00",
         "2018-11-07 00:00:00",
         "2018-04-01T00:00:00.000Z",
         "2059-12-31T00:00:00.000Z",
         "2018-11-07T00:00:00.000Z",
         "2018-04-01T00:00:00Z",
         "2059-12-31T00:00:00Z",
         "2018-11-07T00:00:00Z"
        ],
        [
         "/Date(1493596800000)/",
         "/Date(2366755200000)/",
         "/Date(1541635200000)/",
         "2017-05-01 00:00:00",
         "2044-12-31 00:00:00",
         "2018-11-08 00:00:00",
         "2017-05-01T00:00:00.000Z",
         "2044-12-31T00:00:00.000Z",
         "2018-11-08T00:00:00.000Z",
         "2017-05-01T00:00:00Z",
         "2044-12-31T00:00:00Z",
         "2018-11-08T00:00:00Z"
        ]
       ],
       "datasetInfos": [],
       "dbfsResultPath": null,
       "isJsonSchema": true,
       "metadata": {},
       "overflow": false,
       "plotOptions": {
        "customPlotOptions": {},
        "displayType": "table",
        "pivotAggregation": null,
        "pivotColumns": null,
        "xColumns": null,
        "yColumns": null
       },
       "removedWidgets": [],
       "schema": [
        {
         "metadata": "{}",
         "name": "d1",
         "type": "\"string\""
        },
        {
         "metadata": "{}",
         "name": "d2",
         "type": "\"string\""
        },
        {
         "metadata": "{}",
         "name": "d3",
         "type": "\"string\""
        },
        {
         "metadata": "{}",
         "name": "dt1_default_str",
         "type": "\"string\""
        },
        {
         "metadata": "{}",
         "name": "dt2_default_str",
         "type": "\"string\""
        },
        {
         "metadata": "{}",
         "name": "dt3_default_str",
         "type": "\"string\""
        },
        {
         "metadata": "{}",
         "name": "dt1_default_timestamp",
         "type": "\"timestamp\""
        },
        {
         "metadata": "{}",
         "name": "dt2_default_timestamp",
         "type": "\"timestamp\""
        },
        {
         "metadata": "{}",
         "name": "dt3_default_timestamp",
         "type": "\"timestamp\""
        },
        {
         "metadata": "{}",
         "name": "dt1_cust_str",
         "type": "\"string\""
        },
        {
         "metadata": "{}",
         "name": "dt2_cust_str",
         "type": "\"string\""
        },
        {
         "metadata": "{}",
         "name": "dt3_cust_str",
         "type": "\"string\""
        }
       ],
       "type": "table"
      }
     },
     "output_type": "display_data"
    }
   ],
   "source": [
    "from pyspark.sql.functions import from_unixtime, substring, length, col\n",
    "\n",
    "df_epoch_woexpr = df \\\n",
    ".withColumn(\"dt1_default_str\", from_unixtime((substring(\"d1\", 7, length(\"d1\") - 8).cast(\"bigint\") / 1000))) \\\n",
    ".withColumn(\"dt2_default_str\", from_unixtime((substring(\"d2\", 7, length(\"d2\") - 8).cast(\"bigint\") / 1000))) \\\n",
    ".withColumn(\"dt3_default_str\", from_unixtime((substring(\"d3\", 7, length(\"d3\") - 8).cast(\"bigint\") / 1000))) \\\n",
    ".withColumn(\"dt1_default_timestamp\", from_unixtime((substring(\"d1\", 7, length(\"d1\") - 8).cast(\"bigint\") / 1000)).cast(\"timestamp\")) \\\n",
    ".withColumn(\"dt2_default_timestamp\", from_unixtime((substring(\"d2\", 7, length(\"d2\") - 8).cast(\"bigint\") / 1000)).cast(\"timestamp\")) \\\n",
    ".withColumn(\"dt3_default_timestamp\", from_unixtime((substring(\"d3\", 7, length(\"d3\") - 8).cast(\"bigint\") / 1000)).cast(\"timestamp\")) \\\n",
    ".withColumn(\"dt1_cust_str\", from_unixtime((substring(\"d1\", 7, length(\"d1\") - 8).cast(\"bigint\") / 1000), \"yyyy-MM-dd'T'HH:mm:ss'Z'\")) \\\n",
    ".withColumn(\"dt2_cust_str\", from_unixtime((substring(\"d2\", 7, length(\"d2\") - 8).cast(\"bigint\") / 1000), \"yyyy-MM-dd'T'HH:mm:ss'Z'\")) \\\n",
    ".withColumn(\"dt3_cust_str\", from_unixtime((substring(\"d3\", 7, length(\"d3\") - 8).cast(\"bigint\") / 1000), \"yyyy-MM-dd'T'HH:mm:ss'Z'\"))\n",
    "\n",
    "display(df_epoch_woexpr)"
   ]
  },
  {
   "cell_type": "markdown",
   "metadata": {
    "application/vnd.databricks.v1+cell": {
     "cellMetadata": {},
     "inputWidgets": {},
     "nuid": "9dfad48c-11f5-4c5a-8614-9a2bef5e1d8e",
     "showTitle": false,
     "tableResultSettingsMap": {},
     "title": ""
    }
   },
   "source": [
    "**Method 02**\n",
    "- Using **timestamp_millis + substring + cast**"
   ]
  },
  {
   "cell_type": "code",
   "execution_count": 0,
   "metadata": {
    "application/vnd.databricks.v1+cell": {
     "cellMetadata": {
      "byteLimit": 2048000,
      "rowLimit": 10000
     },
     "inputWidgets": {},
     "nuid": "ef2b8eda-d994-4ab9-9a50-2be37cc2e5dd",
     "showTitle": false,
     "tableResultSettingsMap": {
      "0": {
       "dataGridStateBlob": "{\"version\":1,\"tableState\":{\"columnPinning\":{\"left\":[\"#row_number#\"],\"right\":[]},\"columnSizing\":{\"#row_number#\":52,\"d1\":190},\"columnVisibility\":{}},\"settings\":{\"columns\":{}},\"syncTimestamp\":1754587899947}",
       "filterBlob": null,
       "queryPlanFiltersBlob": null,
       "tableResultIndex": 0
      }
     },
     "title": ""
    }
   },
   "outputs": [
    {
     "output_type": "display_data",
     "data": {
      "text/html": [
       "<style scoped>\n",
       "  .table-result-container {\n",
       "    max-height: 300px;\n",
       "    overflow: auto;\n",
       "  }\n",
       "  table, th, td {\n",
       "    border: 1px solid black;\n",
       "    border-collapse: collapse;\n",
       "  }\n",
       "  th, td {\n",
       "    padding: 5px;\n",
       "  }\n",
       "  th {\n",
       "    text-align: left;\n",
       "  }\n",
       "</style><div class='table-result-container'><table class='table-result'><thead style='background-color: white'><tr><th>d1</th><th>d2</th><th>d3</th><th>millis_d1</th><th>millis_d2</th><th>millis_d3</th><th>dt1_default_timestamp</th><th>dt2_default_timestamp</th><th>dt3_default_timestamp</th><th>dt1_cust_str</th><th>dt2_cust_str</th><th>dt3_cust_str</th></tr></thead><tbody><tr><td>/Date(1493596800000)/</td><td>/Date(2840054400000)/</td><td>/Date(1540857600000)/</td><td>1493596800000</td><td>2840054400000</td><td>1540857600000</td><td>2017-05-01T00:00:00.000Z</td><td>2059-12-31T00:00:00.000Z</td><td>2018-10-30T00:00:00.000Z</td><td>2017-05-01 00:00:00</td><td>2059-12-31 00:00:00</td><td>2018-10-30 00:00:00</td></tr><tr><td>/Date(1537920000000)/</td><td>/Date(2871676800000)/</td><td>/Date(1540944000000)/</td><td>1537920000000</td><td>2871676800000</td><td>1540944000000</td><td>2018-09-26T00:00:00.000Z</td><td>2060-12-31T00:00:00.000Z</td><td>2018-10-31T00:00:00.000Z</td><td>2018-09-26 00:00:00</td><td>2060-12-31 00:00:00</td><td>2018-10-31 00:00:00</td></tr><tr><td>/Date(1493510400000)/</td><td>/Date(2871590400000)/</td><td>/Date(1541376000000)/</td><td>1493510400000</td><td>2871590400000</td><td>1541376000000</td><td>2017-04-30T00:00:00.000Z</td><td>2060-12-30T00:00:00.000Z</td><td>2018-11-05T00:00:00.000Z</td><td>2017-04-30 00:00:00</td><td>2060-12-30 00:00:00</td><td>2018-11-05 00:00:00</td></tr><tr><td>/Date(1522540800000)/</td><td>/Date(1548028800000)/</td><td>/Date(1541462400000)/</td><td>1522540800000</td><td>1548028800000</td><td>1541462400000</td><td>2018-04-01T00:00:00.000Z</td><td>2019-01-21T00:00:00.000Z</td><td>2018-11-06T00:00:00.000Z</td><td>2018-04-01 00:00:00</td><td>2019-01-21 00:00:00</td><td>2018-11-06 00:00:00</td></tr><tr><td>/Date(1522540800000)/</td><td>/Date(2840054400000)/</td><td>/Date(1541548800000)/</td><td>1522540800000</td><td>2840054400000</td><td>1541548800000</td><td>2018-04-01T00:00:00.000Z</td><td>2059-12-31T00:00:00.000Z</td><td>2018-11-07T00:00:00.000Z</td><td>2018-04-01 00:00:00</td><td>2059-12-31 00:00:00</td><td>2018-11-07 00:00:00</td></tr><tr><td>/Date(1493596800000)/</td><td>/Date(2366755200000)/</td><td>/Date(1541635200000)/</td><td>1493596800000</td><td>2366755200000</td><td>1541635200000</td><td>2017-05-01T00:00:00.000Z</td><td>2044-12-31T00:00:00.000Z</td><td>2018-11-08T00:00:00.000Z</td><td>2017-05-01 00:00:00</td><td>2044-12-31 00:00:00</td><td>2018-11-08 00:00:00</td></tr></tbody></table></div>"
      ]
     },
     "metadata": {
      "application/vnd.databricks.v1+output": {
       "addedWidgets": {},
       "aggData": [],
       "aggError": "",
       "aggOverflow": false,
       "aggSchema": [],
       "aggSeriesLimitReached": false,
       "aggType": "",
       "arguments": {},
       "columnCustomDisplayInfos": {},
       "data": [
        [
         "/Date(1493596800000)/",
         "/Date(2840054400000)/",
         "/Date(1540857600000)/",
         1493596800000,
         2840054400000,
         1540857600000,
         "2017-05-01T00:00:00.000Z",
         "2059-12-31T00:00:00.000Z",
         "2018-10-30T00:00:00.000Z",
         "2017-05-01 00:00:00",
         "2059-12-31 00:00:00",
         "2018-10-30 00:00:00"
        ],
        [
         "/Date(1537920000000)/",
         "/Date(2871676800000)/",
         "/Date(1540944000000)/",
         1537920000000,
         2871676800000,
         1540944000000,
         "2018-09-26T00:00:00.000Z",
         "2060-12-31T00:00:00.000Z",
         "2018-10-31T00:00:00.000Z",
         "2018-09-26 00:00:00",
         "2060-12-31 00:00:00",
         "2018-10-31 00:00:00"
        ],
        [
         "/Date(1493510400000)/",
         "/Date(2871590400000)/",
         "/Date(1541376000000)/",
         1493510400000,
         2871590400000,
         1541376000000,
         "2017-04-30T00:00:00.000Z",
         "2060-12-30T00:00:00.000Z",
         "2018-11-05T00:00:00.000Z",
         "2017-04-30 00:00:00",
         "2060-12-30 00:00:00",
         "2018-11-05 00:00:00"
        ],
        [
         "/Date(1522540800000)/",
         "/Date(1548028800000)/",
         "/Date(1541462400000)/",
         1522540800000,
         1548028800000,
         1541462400000,
         "2018-04-01T00:00:00.000Z",
         "2019-01-21T00:00:00.000Z",
         "2018-11-06T00:00:00.000Z",
         "2018-04-01 00:00:00",
         "2019-01-21 00:00:00",
         "2018-11-06 00:00:00"
        ],
        [
         "/Date(1522540800000)/",
         "/Date(2840054400000)/",
         "/Date(1541548800000)/",
         1522540800000,
         2840054400000,
         1541548800000,
         "2018-04-01T00:00:00.000Z",
         "2059-12-31T00:00:00.000Z",
         "2018-11-07T00:00:00.000Z",
         "2018-04-01 00:00:00",
         "2059-12-31 00:00:00",
         "2018-11-07 00:00:00"
        ],
        [
         "/Date(1493596800000)/",
         "/Date(2366755200000)/",
         "/Date(1541635200000)/",
         1493596800000,
         2366755200000,
         1541635200000,
         "2017-05-01T00:00:00.000Z",
         "2044-12-31T00:00:00.000Z",
         "2018-11-08T00:00:00.000Z",
         "2017-05-01 00:00:00",
         "2044-12-31 00:00:00",
         "2018-11-08 00:00:00"
        ]
       ],
       "datasetInfos": [],
       "dbfsResultPath": null,
       "isJsonSchema": true,
       "metadata": {},
       "overflow": false,
       "plotOptions": {
        "customPlotOptions": {},
        "displayType": "table",
        "pivotAggregation": null,
        "pivotColumns": null,
        "xColumns": null,
        "yColumns": null
       },
       "removedWidgets": [],
       "schema": [
        {
         "metadata": "{}",
         "name": "d1",
         "type": "\"string\""
        },
        {
         "metadata": "{}",
         "name": "d2",
         "type": "\"string\""
        },
        {
         "metadata": "{}",
         "name": "d3",
         "type": "\"string\""
        },
        {
         "metadata": "{}",
         "name": "millis_d1",
         "type": "\"long\""
        },
        {
         "metadata": "{}",
         "name": "millis_d2",
         "type": "\"long\""
        },
        {
         "metadata": "{}",
         "name": "millis_d3",
         "type": "\"long\""
        },
        {
         "metadata": "{}",
         "name": "dt1_default_timestamp",
         "type": "\"timestamp\""
        },
        {
         "metadata": "{}",
         "name": "dt2_default_timestamp",
         "type": "\"timestamp\""
        },
        {
         "metadata": "{}",
         "name": "dt3_default_timestamp",
         "type": "\"timestamp\""
        },
        {
         "metadata": "{}",
         "name": "dt1_cust_str",
         "type": "\"string\""
        },
        {
         "metadata": "{}",
         "name": "dt2_cust_str",
         "type": "\"string\""
        },
        {
         "metadata": "{}",
         "name": "dt3_cust_str",
         "type": "\"string\""
        }
       ],
       "type": "table"
      }
     },
     "output_type": "display_data"
    }
   ],
   "source": [
    "from pyspark.sql.functions import substring, length, col, timestamp_millis\n",
    "\n",
    "df_epoch_millis = df \\\n",
    ".withColumn(\"millis_d1\", substring(\"d1\", 7, length(\"d1\") - 8).cast(\"bigint\")) \\\n",
    ".withColumn(\"millis_d2\", substring(\"d2\", 7, length(\"d2\") - 8).cast(\"bigint\")) \\\n",
    ".withColumn(\"millis_d3\", substring(\"d3\", 7, length(\"d3\") - 8).cast(\"bigint\")) \\\n",
    ".withColumn(\"dt1_default_timestamp\", timestamp_millis(col(\"millis_d1\"))) \\\n",
    ".withColumn(\"dt2_default_timestamp\", timestamp_millis(col(\"millis_d2\"))) \\\n",
    ".withColumn(\"dt3_default_timestamp\", timestamp_millis(col(\"millis_d3\"))) \\\n",
    ".withColumn(\"dt1_cust_str\", timestamp_millis(col(\"millis_d1\")).cast(\"string\")) \\\n",
    ".withColumn(\"dt2_cust_str\", timestamp_millis(col(\"millis_d2\")).cast(\"string\")) \\\n",
    ".withColumn(\"dt3_cust_str\", timestamp_millis(col(\"millis_d3\")).cast(\"string\"))\n",
    "\n",
    "display(df_epoch_millis)"
   ]
  },
  {
   "cell_type": "markdown",
   "metadata": {
    "application/vnd.databricks.v1+cell": {
     "cellMetadata": {
      "byteLimit": 2048000,
      "rowLimit": 10000
     },
     "inputWidgets": {},
     "nuid": "0f6a8b34-b18f-49c5-9c35-3a43c4673dac",
     "showTitle": false,
     "tableResultSettingsMap": {},
     "title": ""
    }
   },
   "source": [
    "**Method 03**\n",
    "- Using **regexp_extract + from_unixtime**"
   ]
  },
  {
   "cell_type": "code",
   "execution_count": 0,
   "metadata": {
    "application/vnd.databricks.v1+cell": {
     "cellMetadata": {
      "byteLimit": 2048000,
      "rowLimit": 10000
     },
     "inputWidgets": {},
     "nuid": "8d8a0646-2331-467c-9680-3b361fb6132c",
     "showTitle": false,
     "tableResultSettingsMap": {
      "0": {
       "dataGridStateBlob": "{\"version\":1,\"tableState\":{\"columnPinning\":{\"left\":[\"#row_number#\"],\"right\":[]},\"columnSizing\":{\"d1\":221},\"columnVisibility\":{}},\"settings\":{\"columns\":{}},\"syncTimestamp\":1754587804921}",
       "filterBlob": null,
       "queryPlanFiltersBlob": null,
       "tableResultIndex": 0
      }
     },
     "title": ""
    }
   },
   "outputs": [
    {
     "output_type": "display_data",
     "data": {
      "text/html": [
       "<style scoped>\n",
       "  .table-result-container {\n",
       "    max-height: 300px;\n",
       "    overflow: auto;\n",
       "  }\n",
       "  table, th, td {\n",
       "    border: 1px solid black;\n",
       "    border-collapse: collapse;\n",
       "  }\n",
       "  th, td {\n",
       "    padding: 5px;\n",
       "  }\n",
       "  th {\n",
       "    text-align: left;\n",
       "  }\n",
       "</style><div class='table-result-container'><table class='table-result'><thead style='background-color: white'><tr><th>d1</th><th>d2</th><th>d3</th></tr></thead><tbody><tr><td>2017-05-01T00:00:00.000Z</td><td>2059-12-31T00:00:00.000Z</td><td>2018-10-30T00:00:00.000Z</td></tr><tr><td>2018-09-26T00:00:00.000Z</td><td>2060-12-31T00:00:00.000Z</td><td>2018-10-31T00:00:00.000Z</td></tr><tr><td>2017-04-30T00:00:00.000Z</td><td>2060-12-30T00:00:00.000Z</td><td>2018-11-05T00:00:00.000Z</td></tr><tr><td>2018-04-01T00:00:00.000Z</td><td>2019-01-21T00:00:00.000Z</td><td>2018-11-06T00:00:00.000Z</td></tr><tr><td>2018-04-01T00:00:00.000Z</td><td>2059-12-31T00:00:00.000Z</td><td>2018-11-07T00:00:00.000Z</td></tr><tr><td>2017-05-01T00:00:00.000Z</td><td>2044-12-31T00:00:00.000Z</td><td>2018-11-08T00:00:00.000Z</td></tr></tbody></table></div>"
      ]
     },
     "metadata": {
      "application/vnd.databricks.v1+output": {
       "addedWidgets": {},
       "aggData": [],
       "aggError": "",
       "aggOverflow": false,
       "aggSchema": [],
       "aggSeriesLimitReached": false,
       "aggType": "",
       "arguments": {},
       "columnCustomDisplayInfos": {},
       "data": [
        [
         "2017-05-01T00:00:00.000Z",
         "2059-12-31T00:00:00.000Z",
         "2018-10-30T00:00:00.000Z"
        ],
        [
         "2018-09-26T00:00:00.000Z",
         "2060-12-31T00:00:00.000Z",
         "2018-10-31T00:00:00.000Z"
        ],
        [
         "2017-04-30T00:00:00.000Z",
         "2060-12-30T00:00:00.000Z",
         "2018-11-05T00:00:00.000Z"
        ],
        [
         "2018-04-01T00:00:00.000Z",
         "2019-01-21T00:00:00.000Z",
         "2018-11-06T00:00:00.000Z"
        ],
        [
         "2018-04-01T00:00:00.000Z",
         "2059-12-31T00:00:00.000Z",
         "2018-11-07T00:00:00.000Z"
        ],
        [
         "2017-05-01T00:00:00.000Z",
         "2044-12-31T00:00:00.000Z",
         "2018-11-08T00:00:00.000Z"
        ]
       ],
       "datasetInfos": [],
       "dbfsResultPath": null,
       "isJsonSchema": true,
       "metadata": {},
       "overflow": false,
       "plotOptions": {
        "customPlotOptions": {},
        "displayType": "table",
        "pivotAggregation": null,
        "pivotColumns": null,
        "xColumns": null,
        "yColumns": null
       },
       "removedWidgets": [],
       "schema": [
        {
         "metadata": "{}",
         "name": "d1",
         "type": "\"timestamp\""
        },
        {
         "metadata": "{}",
         "name": "d2",
         "type": "\"timestamp\""
        },
        {
         "metadata": "{}",
         "name": "d3",
         "type": "\"timestamp\""
        }
       ],
       "type": "table"
      }
     },
     "output_type": "display_data"
    }
   ],
   "source": [
    "# Extract the numeric timestamp from the string and convert to timestamp\n",
    "df2 = df\\\n",
    ".withColumn(\"d1\", from_unixtime(regexp_extract(col(\"d1\"), r\"(\\d+)\", 1).cast(\"bigint\")/1000).cast(\"timestamp\")) \\\n",
    ".withColumn(\"d2\", from_unixtime(regexp_extract(col(\"d2\"), r\"(\\d+)\", 1).cast(\"bigint\")/1000).cast(\"timestamp\")) \\\n",
    ".withColumn(\"d3\", from_unixtime(regexp_extract(col(\"d3\"), r\"(\\d+)\", 1).cast(\"bigint\")/1000).cast(\"timestamp\"))\n",
    "\n",
    "# Display the transformed DataFrame\n",
    "display(df2)"
   ]
  },
  {
   "cell_type": "markdown",
   "metadata": {
    "application/vnd.databricks.v1+cell": {
     "cellMetadata": {
      "byteLimit": 2048000,
      "rowLimit": 10000
     },
     "inputWidgets": {},
     "nuid": "b49da7f2-214f-4884-8516-55d5bf66bc55",
     "showTitle": false,
     "tableResultSettingsMap": {},
     "title": ""
    }
   },
   "source": [
    "- **regexp_extract(col(\"from_date\"), r\"(\\d+)\", 1)** => Extracts the **numeric** part from the **string**.\n",
    "\n",
    "- **.cast(\"bigint\")** => Converts it into a **long** integer.\n",
    "\n",
    "- **/ 1000** => Converts **milliseconds to seconds**.\n",
    "\n",
    "- **from_unixtime(...).cast(\"timestamp\")** => Converts it into a proper **timestamp**."
   ]
  },
  {
   "cell_type": "markdown",
   "metadata": {
    "application/vnd.databricks.v1+cell": {
     "cellMetadata": {
      "byteLimit": 2048000,
      "rowLimit": 10000
     },
     "inputWidgets": {},
     "nuid": "fe65406c-d29c-47fb-8949-e8fb1ab1030e",
     "showTitle": false,
     "tableResultSettingsMap": {},
     "title": ""
    }
   },
   "source": [
    "**Method 4**\n",
    "- Using **regexp_replace + cast**.\n",
    "- Replaces **all non-numeric characters** using **regexp_replace**."
   ]
  },
  {
   "cell_type": "code",
   "execution_count": 0,
   "metadata": {
    "application/vnd.databricks.v1+cell": {
     "cellMetadata": {
      "byteLimit": 2048000,
      "rowLimit": 10000
     },
     "inputWidgets": {},
     "nuid": "92d3ddab-d2a1-409f-9315-48d00eb59b03",
     "showTitle": false,
     "tableResultSettingsMap": {},
     "title": ""
    }
   },
   "outputs": [
    {
     "output_type": "display_data",
     "data": {
      "text/html": [
       "<style scoped>\n",
       "  .table-result-container {\n",
       "    max-height: 300px;\n",
       "    overflow: auto;\n",
       "  }\n",
       "  table, th, td {\n",
       "    border: 1px solid black;\n",
       "    border-collapse: collapse;\n",
       "  }\n",
       "  th, td {\n",
       "    padding: 5px;\n",
       "  }\n",
       "  th {\n",
       "    text-align: left;\n",
       "  }\n",
       "</style><div class='table-result-container'><table class='table-result'><thead style='background-color: white'><tr><th>d1</th><th>d2</th><th>d3</th></tr></thead><tbody><tr><td>2017-05-01T00:00:00.000Z</td><td>2059-12-31T00:00:00.000Z</td><td>2018-10-30T00:00:00.000Z</td></tr><tr><td>2018-09-26T00:00:00.000Z</td><td>2060-12-31T00:00:00.000Z</td><td>2018-10-31T00:00:00.000Z</td></tr><tr><td>2017-04-30T00:00:00.000Z</td><td>2060-12-30T00:00:00.000Z</td><td>2018-11-05T00:00:00.000Z</td></tr><tr><td>2018-04-01T00:00:00.000Z</td><td>2019-01-21T00:00:00.000Z</td><td>2018-11-06T00:00:00.000Z</td></tr><tr><td>2018-04-01T00:00:00.000Z</td><td>2059-12-31T00:00:00.000Z</td><td>2018-11-07T00:00:00.000Z</td></tr><tr><td>2017-05-01T00:00:00.000Z</td><td>2044-12-31T00:00:00.000Z</td><td>2018-11-08T00:00:00.000Z</td></tr></tbody></table></div>"
      ]
     },
     "metadata": {
      "application/vnd.databricks.v1+output": {
       "addedWidgets": {},
       "aggData": [],
       "aggError": "",
       "aggOverflow": false,
       "aggSchema": [],
       "aggSeriesLimitReached": false,
       "aggType": "",
       "arguments": {},
       "columnCustomDisplayInfos": {},
       "data": [
        [
         "2017-05-01T00:00:00.000Z",
         "2059-12-31T00:00:00.000Z",
         "2018-10-30T00:00:00.000Z"
        ],
        [
         "2018-09-26T00:00:00.000Z",
         "2060-12-31T00:00:00.000Z",
         "2018-10-31T00:00:00.000Z"
        ],
        [
         "2017-04-30T00:00:00.000Z",
         "2060-12-30T00:00:00.000Z",
         "2018-11-05T00:00:00.000Z"
        ],
        [
         "2018-04-01T00:00:00.000Z",
         "2019-01-21T00:00:00.000Z",
         "2018-11-06T00:00:00.000Z"
        ],
        [
         "2018-04-01T00:00:00.000Z",
         "2059-12-31T00:00:00.000Z",
         "2018-11-07T00:00:00.000Z"
        ],
        [
         "2017-05-01T00:00:00.000Z",
         "2044-12-31T00:00:00.000Z",
         "2018-11-08T00:00:00.000Z"
        ]
       ],
       "datasetInfos": [],
       "dbfsResultPath": null,
       "isJsonSchema": true,
       "metadata": {},
       "overflow": false,
       "plotOptions": {
        "customPlotOptions": {},
        "displayType": "table",
        "pivotAggregation": null,
        "pivotColumns": null,
        "xColumns": null,
        "yColumns": null
       },
       "removedWidgets": [],
       "schema": [
        {
         "metadata": "{}",
         "name": "d1",
         "type": "\"timestamp\""
        },
        {
         "metadata": "{}",
         "name": "d2",
         "type": "\"timestamp\""
        },
        {
         "metadata": "{}",
         "name": "d3",
         "type": "\"timestamp\""
        }
       ],
       "type": "table"
      }
     },
     "output_type": "display_data"
    }
   ],
   "source": [
    "from pyspark.sql.functions import regexp_replace\n",
    "\n",
    "df4 = df\\\n",
    ".withColumn(\"d1\", from_unixtime(regexp_replace(col(\"d1\"), \"[^0-9]\", \"\").cast(\"bigint\")/1000).cast(\"timestamp\")) \\\n",
    ".withColumn(\"d2\", from_unixtime(regexp_replace(col(\"d2\"), \"[^0-9]\", \"\").cast(\"bigint\")/1000).cast(\"timestamp\")) \\\n",
    ".withColumn(\"d3\", from_unixtime(regexp_replace(col(\"d3\"), \"[^0-9]\", \"\").cast(\"bigint\")/1000).cast(\"timestamp\"))\n",
    "\n",
    "display(df4)"
   ]
  },
  {
   "cell_type": "markdown",
   "metadata": {
    "application/vnd.databricks.v1+cell": {
     "cellMetadata": {
      "byteLimit": 2048000,
      "rowLimit": 10000
     },
     "inputWidgets": {},
     "nuid": "c51e28f8-be97-48f9-b22f-dd204ba7532e",
     "showTitle": false,
     "tableResultSettingsMap": {},
     "title": ""
    }
   },
   "source": [
    "**Method 5**\n",
    "- Using **translate + cast**\n",
    "- Uses **translate()** to **remove unwanted characters** efficiently."
   ]
  },
  {
   "cell_type": "code",
   "execution_count": 0,
   "metadata": {
    "application/vnd.databricks.v1+cell": {
     "cellMetadata": {
      "byteLimit": 2048000,
      "rowLimit": 10000
     },
     "inputWidgets": {},
     "nuid": "e69b3dc4-3ba9-45f5-bbd5-17164f4fc93c",
     "showTitle": false,
     "tableResultSettingsMap": {},
     "title": ""
    }
   },
   "outputs": [
    {
     "output_type": "display_data",
     "data": {
      "text/html": [
       "<style scoped>\n",
       "  .table-result-container {\n",
       "    max-height: 300px;\n",
       "    overflow: auto;\n",
       "  }\n",
       "  table, th, td {\n",
       "    border: 1px solid black;\n",
       "    border-collapse: collapse;\n",
       "  }\n",
       "  th, td {\n",
       "    padding: 5px;\n",
       "  }\n",
       "  th {\n",
       "    text-align: left;\n",
       "  }\n",
       "</style><div class='table-result-container'><table class='table-result'><thead style='background-color: white'><tr><th>d1</th><th>d2</th><th>d3</th></tr></thead><tbody><tr><td>2017-05-01T00:00:00.000Z</td><td>2059-12-31T00:00:00.000Z</td><td>2018-10-30T00:00:00.000Z</td></tr><tr><td>2018-09-26T00:00:00.000Z</td><td>2060-12-31T00:00:00.000Z</td><td>2018-10-31T00:00:00.000Z</td></tr><tr><td>2017-04-30T00:00:00.000Z</td><td>2060-12-30T00:00:00.000Z</td><td>2018-11-05T00:00:00.000Z</td></tr><tr><td>2018-04-01T00:00:00.000Z</td><td>2019-01-21T00:00:00.000Z</td><td>2018-11-06T00:00:00.000Z</td></tr><tr><td>2018-04-01T00:00:00.000Z</td><td>2059-12-31T00:00:00.000Z</td><td>2018-11-07T00:00:00.000Z</td></tr><tr><td>2017-05-01T00:00:00.000Z</td><td>2044-12-31T00:00:00.000Z</td><td>2018-11-08T00:00:00.000Z</td></tr></tbody></table></div>"
      ]
     },
     "metadata": {
      "application/vnd.databricks.v1+output": {
       "addedWidgets": {},
       "aggData": [],
       "aggError": "",
       "aggOverflow": false,
       "aggSchema": [],
       "aggSeriesLimitReached": false,
       "aggType": "",
       "arguments": {},
       "columnCustomDisplayInfos": {},
       "data": [
        [
         "2017-05-01T00:00:00.000Z",
         "2059-12-31T00:00:00.000Z",
         "2018-10-30T00:00:00.000Z"
        ],
        [
         "2018-09-26T00:00:00.000Z",
         "2060-12-31T00:00:00.000Z",
         "2018-10-31T00:00:00.000Z"
        ],
        [
         "2017-04-30T00:00:00.000Z",
         "2060-12-30T00:00:00.000Z",
         "2018-11-05T00:00:00.000Z"
        ],
        [
         "2018-04-01T00:00:00.000Z",
         "2019-01-21T00:00:00.000Z",
         "2018-11-06T00:00:00.000Z"
        ],
        [
         "2018-04-01T00:00:00.000Z",
         "2059-12-31T00:00:00.000Z",
         "2018-11-07T00:00:00.000Z"
        ],
        [
         "2017-05-01T00:00:00.000Z",
         "2044-12-31T00:00:00.000Z",
         "2018-11-08T00:00:00.000Z"
        ]
       ],
       "datasetInfos": [],
       "dbfsResultPath": null,
       "isJsonSchema": true,
       "metadata": {},
       "overflow": false,
       "plotOptions": {
        "customPlotOptions": {},
        "displayType": "table",
        "pivotAggregation": null,
        "pivotColumns": null,
        "xColumns": null,
        "yColumns": null
       },
       "removedWidgets": [],
       "schema": [
        {
         "metadata": "{}",
         "name": "d1",
         "type": "\"timestamp\""
        },
        {
         "metadata": "{}",
         "name": "d2",
         "type": "\"timestamp\""
        },
        {
         "metadata": "{}",
         "name": "d3",
         "type": "\"timestamp\""
        }
       ],
       "type": "table"
      }
     },
     "output_type": "display_data"
    }
   ],
   "source": [
    "from pyspark.sql.functions import translate\n",
    "\n",
    "df3 = df\\\n",
    ".withColumn(\"d1\", from_unixtime(translate(col(\"d1\"), \"/Date()\", \"\").cast(\"bigint\") / 1000).cast(\"timestamp\")) \\\n",
    ".withColumn(\"d2\", from_unixtime(translate(col(\"d2\"), \"/Date()\", \"\").cast(\"bigint\") / 1000).cast(\"timestamp\")) \\\n",
    ".withColumn(\"d3\", from_unixtime(translate(col(\"d3\"), \"/Date()\", \"\").cast(\"bigint\") / 1000).cast(\"timestamp\"))\n",
    "\n",
    "display(df3)"
   ]
  },
  {
   "cell_type": "markdown",
   "metadata": {
    "application/vnd.databricks.v1+cell": {
     "cellMetadata": {
      "byteLimit": 2048000,
      "rowLimit": 10000
     },
     "inputWidgets": {},
     "nuid": "054117c1-f8f8-437b-a6e9-7f745eef2a0b",
     "showTitle": false,
     "tableResultSettingsMap": {},
     "title": ""
    }
   },
   "source": [
    "**Method 6**\n",
    "- Using **UDF (User-Defined Function)**"
   ]
  },
  {
   "cell_type": "code",
   "execution_count": 0,
   "metadata": {
    "application/vnd.databricks.v1+cell": {
     "cellMetadata": {
      "byteLimit": 2048000,
      "rowLimit": 10000
     },
     "inputWidgets": {},
     "nuid": "efb78dfd-007d-4c75-917b-eb5adbac5ccb",
     "showTitle": false,
     "tableResultSettingsMap": {},
     "title": ""
    }
   },
   "outputs": [
    {
     "output_type": "display_data",
     "data": {
      "text/plain": [
       "1493596800000"
      ]
     },
     "metadata": {},
     "output_type": "display_data"
    }
   ],
   "source": [
    "date_str = \"/Date(1493596800000)/\"\n",
    "millis = int(date_str.strip(\"/Date()/\"))\n",
    "display(millis)"
   ]
  },
  {
   "cell_type": "code",
   "execution_count": 0,
   "metadata": {
    "application/vnd.databricks.v1+cell": {
     "cellMetadata": {
      "byteLimit": 2048000,
      "rowLimit": 10000
     },
     "inputWidgets": {},
     "nuid": "65a993cf-b736-434d-9328-82b2af2a64ac",
     "showTitle": false,
     "tableResultSettingsMap": {
      "0": {
       "dataGridStateBlob": "{\"version\":1,\"tableState\":{\"columnPinning\":{\"left\":[\"#row_number#\"],\"right\":[]},\"columnSizing\":{\"d1\":208},\"columnVisibility\":{}},\"settings\":{\"columns\":{}},\"syncTimestamp\":1754588226958}",
       "filterBlob": null,
       "queryPlanFiltersBlob": null,
       "tableResultIndex": 0
      }
     },
     "title": ""
    }
   },
   "outputs": [
    {
     "output_type": "display_data",
     "data": {
      "text/html": [
       "<style scoped>\n",
       "  .table-result-container {\n",
       "    max-height: 300px;\n",
       "    overflow: auto;\n",
       "  }\n",
       "  table, th, td {\n",
       "    border: 1px solid black;\n",
       "    border-collapse: collapse;\n",
       "  }\n",
       "  th, td {\n",
       "    padding: 5px;\n",
       "  }\n",
       "  th {\n",
       "    text-align: left;\n",
       "  }\n",
       "</style><div class='table-result-container'><table class='table-result'><thead style='background-color: white'><tr><th>d1</th><th>d2</th><th>d3</th></tr></thead><tbody><tr><td>2017-05-01T00:00:00.000Z</td><td>2059-12-31T00:00:00.000Z</td><td>2018-10-30T00:00:00.000Z</td></tr><tr><td>2018-09-26T00:00:00.000Z</td><td>2060-12-31T00:00:00.000Z</td><td>2018-10-31T00:00:00.000Z</td></tr><tr><td>2017-04-30T00:00:00.000Z</td><td>2060-12-30T00:00:00.000Z</td><td>2018-11-05T00:00:00.000Z</td></tr><tr><td>2018-04-01T00:00:00.000Z</td><td>2019-01-21T00:00:00.000Z</td><td>2018-11-06T00:00:00.000Z</td></tr><tr><td>2018-04-01T00:00:00.000Z</td><td>2059-12-31T00:00:00.000Z</td><td>2018-11-07T00:00:00.000Z</td></tr><tr><td>2017-05-01T00:00:00.000Z</td><td>2044-12-31T00:00:00.000Z</td><td>2018-11-08T00:00:00.000Z</td></tr></tbody></table></div>"
      ]
     },
     "metadata": {
      "application/vnd.databricks.v1+output": {
       "addedWidgets": {},
       "aggData": [],
       "aggError": "",
       "aggOverflow": false,
       "aggSchema": [],
       "aggSeriesLimitReached": false,
       "aggType": "",
       "arguments": {},
       "columnCustomDisplayInfos": {},
       "data": [
        [
         "2017-05-01T00:00:00.000Z",
         "2059-12-31T00:00:00.000Z",
         "2018-10-30T00:00:00.000Z"
        ],
        [
         "2018-09-26T00:00:00.000Z",
         "2060-12-31T00:00:00.000Z",
         "2018-10-31T00:00:00.000Z"
        ],
        [
         "2017-04-30T00:00:00.000Z",
         "2060-12-30T00:00:00.000Z",
         "2018-11-05T00:00:00.000Z"
        ],
        [
         "2018-04-01T00:00:00.000Z",
         "2019-01-21T00:00:00.000Z",
         "2018-11-06T00:00:00.000Z"
        ],
        [
         "2018-04-01T00:00:00.000Z",
         "2059-12-31T00:00:00.000Z",
         "2018-11-07T00:00:00.000Z"
        ],
        [
         "2017-05-01T00:00:00.000Z",
         "2044-12-31T00:00:00.000Z",
         "2018-11-08T00:00:00.000Z"
        ]
       ],
       "datasetInfos": [],
       "dbfsResultPath": null,
       "isJsonSchema": true,
       "metadata": {},
       "overflow": false,
       "plotOptions": {
        "customPlotOptions": {},
        "displayType": "table",
        "pivotAggregation": null,
        "pivotColumns": null,
        "xColumns": null,
        "yColumns": null
       },
       "removedWidgets": [],
       "schema": [
        {
         "metadata": "{}",
         "name": "d1",
         "type": "\"timestamp\""
        },
        {
         "metadata": "{}",
         "name": "d2",
         "type": "\"timestamp\""
        },
        {
         "metadata": "{}",
         "name": "d3",
         "type": "\"timestamp\""
        }
       ],
       "type": "table"
      }
     },
     "output_type": "display_data"
    }
   ],
   "source": [
    "from pyspark.sql.functions import udf\n",
    "from pyspark.sql.types import TimestampType\n",
    "import datetime\n",
    "\n",
    "def convert_to_timestamp(date_str):\n",
    "    millis = int(date_str.strip(\"/Date()/\"))\n",
    "    return datetime.datetime.fromtimestamp(millis / 1000)\n",
    "\n",
    "convert_udf = udf(convert_to_timestamp, TimestampType())\n",
    "\n",
    "df5 = df.withColumn(\"d1\", convert_udf(col(\"d1\"))) \\\n",
    "        .withColumn(\"d2\", convert_udf(col(\"d2\"))) \\\n",
    "        .withColumn(\"d3\", convert_udf(col(\"d3\")))\n",
    "\n",
    "display(df5)"
   ]
  }
 ],
 "metadata": {
  "application/vnd.databricks.v1+notebook": {
   "computePreferences": {
    "hardware": {
     "accelerator": null,
     "gpuPoolId": null,
     "memory": null
    }
   },
   "dashboards": [],
   "environmentMetadata": null,
   "inputWidgetPreferences": null,
   "language": "python",
   "notebookMetadata": {
    "pythonIndentUnit": 4
   },
   "notebookName": "27_Collabera Digital PySpark Interview Question _ Data Engineering",
   "widgets": {}
  },
  "language_info": {
   "name": "python"
  }
 },
 "nbformat": 4,
 "nbformat_minor": 0
}