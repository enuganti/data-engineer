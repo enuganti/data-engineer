{
 "cells": [
  {
   "cell_type": "markdown",
   "metadata": {
    "application/vnd.databricks.v1+cell": {
     "cellMetadata": {},
     "inputWidgets": {},
     "nuid": "b53022f3-571a-43c7-a42b-bdc30d1fd9a0",
     "showTitle": false,
     "tableResultSettingsMap": {},
     "title": ""
    }
   },
   "source": [
    "\n",
    "#### Question\n",
    "**How to convert custom date into date format?**"
   ]
  },
  {
   "cell_type": "code",
   "execution_count": 0,
   "metadata": {
    "application/vnd.databricks.v1+cell": {
     "cellMetadata": {
      "byteLimit": 2048000,
      "rowLimit": 10000
     },
     "inputWidgets": {},
     "nuid": "46ad390e-8190-4e10-a883-6c6b6884380e",
     "showTitle": false,
     "tableResultSettingsMap": {},
     "title": ""
    }
   },
   "outputs": [
    {
     "output_type": "display_data",
     "data": {
      "text/html": [
       "<style scoped>\n",
       "  .table-result-container {\n",
       "    max-height: 300px;\n",
       "    overflow: auto;\n",
       "  }\n",
       "  table, th, td {\n",
       "    border: 1px solid black;\n",
       "    border-collapse: collapse;\n",
       "  }\n",
       "  th, td {\n",
       "    padding: 5px;\n",
       "  }\n",
       "  th {\n",
       "    text-align: left;\n",
       "  }\n",
       "</style><div class='table-result-container'><table class='table-result'><thead style='background-color: white'><tr><th>d1</th><th>d2</th><th>d3</th></tr></thead><tbody><tr><td>0240312</td><td>0231225</td><td>0221120</td></tr><tr><td>0231225</td><td>0211225</td><td>0251225</td></tr><tr><td>0980312</td><td>0991225</td><td>0971225</td></tr><tr><td>0961225</td><td>0951225</td><td>0940921</td></tr><tr><td>0240312</td><td>0231225</td><td>0970618</td></tr><tr><td>0850911</td><td>0880713</td><td>0820219</td></tr><tr><td>0</td><td>0991225</td><td>0221120</td></tr></tbody></table></div>"
      ]
     },
     "metadata": {
      "application/vnd.databricks.v1+output": {
       "addedWidgets": {},
       "aggData": [],
       "aggError": "",
       "aggOverflow": false,
       "aggSchema": [],
       "aggSeriesLimitReached": false,
       "aggType": "",
       "arguments": {},
       "columnCustomDisplayInfos": {},
       "data": [
        [
         "0240312",
         "0231225",
         "0221120"
        ],
        [
         "0231225",
         "0211225",
         "0251225"
        ],
        [
         "0980312",
         "0991225",
         "0971225"
        ],
        [
         "0961225",
         "0951225",
         "0940921"
        ],
        [
         "0240312",
         "0231225",
         "0970618"
        ],
        [
         "0850911",
         "0880713",
         "0820219"
        ],
        [
         "0",
         "0991225",
         "0221120"
        ]
       ],
       "datasetInfos": [],
       "dbfsResultPath": null,
       "isJsonSchema": true,
       "metadata": {},
       "overflow": false,
       "plotOptions": {
        "customPlotOptions": {},
        "displayType": "table",
        "pivotAggregation": null,
        "pivotColumns": null,
        "xColumns": null,
        "yColumns": null
       },
       "removedWidgets": [],
       "schema": [
        {
         "metadata": "{}",
         "name": "d1",
         "type": "\"string\""
        },
        {
         "metadata": "{}",
         "name": "d2",
         "type": "\"string\""
        },
        {
         "metadata": "{}",
         "name": "d3",
         "type": "\"string\""
        }
       ],
       "type": "table"
      }
     },
     "output_type": "display_data"
    }
   ],
   "source": [
    "data = [(\"0240312\", \"0231225\", \"0221120\"),\n",
    "        (\"0231225\", \"0211225\", \"0251225\"),\n",
    "        (\"0980312\", \"0991225\", \"0971225\"),\n",
    "        (\"0961225\", \"0951225\", \"0940921\"),\n",
    "        (\"0240312\", \"0231225\", \"0970618\"),\n",
    "        (\"0850911\", \"0880713\", \"0820219\"),\n",
    "        (\"0\", \"0991225\", \"0221120\")\n",
    "       ]\n",
    "columns = [\"d1\", \"d2\", \"d3\"]\n",
    "\n",
    "df_samp = spark.createDataFrame(data, columns)\n",
    "display(df_samp)"
   ]
  },
  {
   "cell_type": "markdown",
   "metadata": {
    "application/vnd.databricks.v1+cell": {
     "cellMetadata": {},
     "inputWidgets": {},
     "nuid": "a232acb0-829b-4a0b-a144-19bf9c6d5c91",
     "showTitle": false,
     "tableResultSettingsMap": {},
     "title": ""
    }
   },
   "source": [
    "##### 1) Using substring and concat (Manual Parsing)"
   ]
  },
  {
   "cell_type": "code",
   "execution_count": 0,
   "metadata": {
    "application/vnd.databricks.v1+cell": {
     "cellMetadata": {
      "byteLimit": 2048000,
      "rowLimit": 10000
     },
     "inputWidgets": {},
     "nuid": "f8a26d9c-fea8-48c3-8b0d-8a7e1a91adc5",
     "showTitle": false,
     "tableResultSettingsMap": {},
     "title": ""
    }
   },
   "outputs": [],
   "source": [
    "import pyspark.sql.functions as F\n",
    "from pyspark.sql.functions import col, lit, concat, concat_ws, to_date, lpad"
   ]
  },
  {
   "cell_type": "code",
   "execution_count": 0,
   "metadata": {
    "application/vnd.databricks.v1+cell": {
     "cellMetadata": {
      "byteLimit": 2048000,
      "rowLimit": 10000
     },
     "inputWidgets": {},
     "nuid": "eebb4a82-0dd5-4bc4-83e0-a0b6a9b68a16",
     "showTitle": false,
     "tableResultSettingsMap": {},
     "title": ""
    }
   },
   "outputs": [
    {
     "output_type": "display_data",
     "data": {
      "text/html": [
       "<style scoped>\n",
       "  .table-result-container {\n",
       "    max-height: 300px;\n",
       "    overflow: auto;\n",
       "  }\n",
       "  table, th, td {\n",
       "    border: 1px solid black;\n",
       "    border-collapse: collapse;\n",
       "  }\n",
       "  th, td {\n",
       "    padding: 5px;\n",
       "  }\n",
       "  th {\n",
       "    text-align: left;\n",
       "  }\n",
       "</style><div class='table-result-container'><table class='table-result'><thead style='background-color: white'><tr><th>d1</th><th>d2</th><th>d3</th><th>parsed_date</th></tr></thead><tbody><tr><td>0240312</td><td>0231225</td><td>0221120</td><td>2024-03-12</td></tr><tr><td>0231225</td><td>0211225</td><td>0251225</td><td>2023-12-25</td></tr><tr><td>0980312</td><td>0991225</td><td>0971225</td><td>2098-03-12</td></tr><tr><td>0961225</td><td>0951225</td><td>0940921</td><td>2096-12-25</td></tr><tr><td>0240312</td><td>0231225</td><td>0970618</td><td>2024-03-12</td></tr><tr><td>0850911</td><td>0880713</td><td>0820219</td><td>2085-09-11</td></tr><tr><td>0</td><td>0991225</td><td>0221120</td><td>null</td></tr></tbody></table></div>"
      ]
     },
     "metadata": {
      "application/vnd.databricks.v1+output": {
       "addedWidgets": {},
       "aggData": [],
       "aggError": "",
       "aggOverflow": false,
       "aggSchema": [],
       "aggSeriesLimitReached": false,
       "aggType": "",
       "arguments": {},
       "columnCustomDisplayInfos": {},
       "data": [
        [
         "0240312",
         "0231225",
         "0221120",
         "2024-03-12"
        ],
        [
         "0231225",
         "0211225",
         "0251225",
         "2023-12-25"
        ],
        [
         "0980312",
         "0991225",
         "0971225",
         "2098-03-12"
        ],
        [
         "0961225",
         "0951225",
         "0940921",
         "2096-12-25"
        ],
        [
         "0240312",
         "0231225",
         "0970618",
         "2024-03-12"
        ],
        [
         "0850911",
         "0880713",
         "0820219",
         "2085-09-11"
        ],
        [
         "0",
         "0991225",
         "0221120",
         null
        ]
       ],
       "datasetInfos": [],
       "dbfsResultPath": null,
       "isJsonSchema": true,
       "metadata": {},
       "overflow": false,
       "plotOptions": {
        "customPlotOptions": {},
        "displayType": "table",
        "pivotAggregation": null,
        "pivotColumns": null,
        "xColumns": null,
        "yColumns": null
       },
       "removedWidgets": [],
       "schema": [
        {
         "metadata": "{}",
         "name": "d1",
         "type": "\"string\""
        },
        {
         "metadata": "{}",
         "name": "d2",
         "type": "\"string\""
        },
        {
         "metadata": "{}",
         "name": "d3",
         "type": "\"string\""
        },
        {
         "metadata": "{}",
         "name": "parsed_date",
         "type": "\"date\""
        }
       ],
       "type": "table"
      }
     },
     "output_type": "display_data"
    }
   ],
   "source": [
    "df_substr = df_samp.withColumn(\"parsed_date\", to_date(\n",
    "    concat_ws(\"-\", \n",
    "        concat(lit(\"20\"), col(\"d1\").substr(2, 2)),  # Year\n",
    "        col(\"d1\").substr(4, 2),                     # Month\n",
    "        col(\"d1\").substr(6, 2)                      # Day\n",
    "    ), \"yyyy-MM-dd\"\n",
    "))\n",
    "\n",
    "display(df_substr)"
   ]
  },
  {
   "cell_type": "markdown",
   "metadata": {
    "application/vnd.databricks.v1+cell": {
     "cellMetadata": {},
     "inputWidgets": {},
     "nuid": "89402b4a-d876-4794-a2e6-c4f70de1e1f5",
     "showTitle": false,
     "tableResultSettingsMap": {},
     "title": ""
    }
   },
   "source": [
    "|             |   |   |   |   |   |   |   |\n",
    "|-------------|---|---|---|---|---|---|---|\n",
    "| INDEX       | 1 | 2 | 3 | 4 | 5 | 6 | 7 |\n",
    "|String_date  | 0 | 2 | 4 | 0 | 3 | 1 | 2 |\n",
    "|substr(2, 2) |   | 1 | 2 |   |   |   |   |\n",
    "|substr(4, 2) |   |   |   | 1 | 2 |   |   |\n",
    "|substr(6, 2) |   |   |   |   |   | 1 | 2 |"
   ]
  },
  {
   "cell_type": "markdown",
   "metadata": {
    "application/vnd.databricks.v1+cell": {
     "cellMetadata": {},
     "inputWidgets": {},
     "nuid": "b76d2e04-6645-4275-b355-4e0857d762b9",
     "showTitle": false,
     "tableResultSettingsMap": {},
     "title": ""
    }
   },
   "source": [
    "#### 2) Using unix_timestamp"
   ]
  },
  {
   "cell_type": "code",
   "execution_count": 0,
   "metadata": {
    "application/vnd.databricks.v1+cell": {
     "cellMetadata": {
      "byteLimit": 2048000,
      "rowLimit": 10000
     },
     "inputWidgets": {},
     "nuid": "56ecb1bc-396d-4167-8c8f-e4becdadf42c",
     "showTitle": false,
     "tableResultSettingsMap": {},
     "title": ""
    }
   },
   "outputs": [
    {
     "output_type": "display_data",
     "data": {
      "text/html": [
       "<style scoped>\n",
       "  .table-result-container {\n",
       "    max-height: 300px;\n",
       "    overflow: auto;\n",
       "  }\n",
       "  table, th, td {\n",
       "    border: 1px solid black;\n",
       "    border-collapse: collapse;\n",
       "  }\n",
       "  th, td {\n",
       "    padding: 5px;\n",
       "  }\n",
       "  th {\n",
       "    text-align: left;\n",
       "  }\n",
       "</style><div class='table-result-container'><table class='table-result'><thead style='background-color: white'><tr><th>d1</th><th>d2</th><th>d3</th><th>date_str</th><th>parsed_date_ut</th><th>parsed_date_fu_ut</th></tr></thead><tbody><tr><td>0240312</td><td>0231225</td><td>0221120</td><td>20240312</td><td>1710201600</td><td>2024-03-12T00:00:00Z</td></tr><tr><td>0231225</td><td>0211225</td><td>0251225</td><td>20231225</td><td>1703462400</td><td>2023-12-25T00:00:00Z</td></tr><tr><td>0980312</td><td>0991225</td><td>0971225</td><td>20980312</td><td>4045420800</td><td>2098-03-12T00:00:00Z</td></tr><tr><td>0961225</td><td>0951225</td><td>0940921</td><td>20961225</td><td>4007232000</td><td>2096-12-25T00:00:00Z</td></tr><tr><td>0240312</td><td>0231225</td><td>0970618</td><td>20240312</td><td>1710201600</td><td>2024-03-12T00:00:00Z</td></tr><tr><td>0850911</td><td>0880713</td><td>0820219</td><td>20850911</td><td>3651004800</td><td>2085-09-11T00:00:00Z</td></tr><tr><td>0</td><td>0991225</td><td>0221120</td><td>20</td><td>null</td><td>null</td></tr></tbody></table></div>"
      ]
     },
     "metadata": {
      "application/vnd.databricks.v1+output": {
       "addedWidgets": {},
       "aggData": [],
       "aggError": "",
       "aggOverflow": false,
       "aggSchema": [],
       "aggSeriesLimitReached": false,
       "aggType": "",
       "arguments": {},
       "columnCustomDisplayInfos": {},
       "data": [
        [
         "0240312",
         "0231225",
         "0221120",
         "20240312",
         1710201600,
         "2024-03-12T00:00:00Z"
        ],
        [
         "0231225",
         "0211225",
         "0251225",
         "20231225",
         1703462400,
         "2023-12-25T00:00:00Z"
        ],
        [
         "0980312",
         "0991225",
         "0971225",
         "20980312",
         4045420800,
         "2098-03-12T00:00:00Z"
        ],
        [
         "0961225",
         "0951225",
         "0940921",
         "20961225",
         4007232000,
         "2096-12-25T00:00:00Z"
        ],
        [
         "0240312",
         "0231225",
         "0970618",
         "20240312",
         1710201600,
         "2024-03-12T00:00:00Z"
        ],
        [
         "0850911",
         "0880713",
         "0820219",
         "20850911",
         3651004800,
         "2085-09-11T00:00:00Z"
        ],
        [
         "0",
         "0991225",
         "0221120",
         "20",
         null,
         null
        ]
       ],
       "datasetInfos": [],
       "dbfsResultPath": null,
       "isJsonSchema": true,
       "metadata": {},
       "overflow": false,
       "plotOptions": {
        "customPlotOptions": {},
        "displayType": "table",
        "pivotAggregation": null,
        "pivotColumns": null,
        "xColumns": null,
        "yColumns": null
       },
       "removedWidgets": [],
       "schema": [
        {
         "metadata": "{}",
         "name": "d1",
         "type": "\"string\""
        },
        {
         "metadata": "{}",
         "name": "d2",
         "type": "\"string\""
        },
        {
         "metadata": "{}",
         "name": "d3",
         "type": "\"string\""
        },
        {
         "metadata": "{}",
         "name": "date_str",
         "type": "\"string\""
        },
        {
         "metadata": "{}",
         "name": "parsed_date_ut",
         "type": "\"long\""
        },
        {
         "metadata": "{}",
         "name": "parsed_date_fu_ut",
         "type": "\"timestamp\""
        }
       ],
       "type": "table"
      }
     },
     "output_type": "display_data"
    }
   ],
   "source": [
    "from pyspark.sql.functions import col, concat, lit, unix_timestamp, from_unixtime\n",
    "\n",
    "df1_ut = df_samp.withColumn(\"date_str\", concat(lit(\"20\"), col(\"d1\").substr(2, 2), col(\"d1\").substr(4, 2), col(\"d1\").substr(6, 2))) \\\n",
    "                .withColumn(\"parsed_date_ut\", unix_timestamp(col(\"date_str\"), \"yyyyMMdd\")) \\\n",
    "                .withColumn(\"parsed_date_fu_ut\", from_unixtime(unix_timestamp(col(\"date_str\"), \"yyyyMMdd\")).cast(\"date\")) \\\n",
    "                .withColumn(\"parsed_date_fu_ut\", from_unixtime(unix_timestamp(col(\"date_str\"), \"yyyyMMdd\")).cast(\"timestamp\"))\n",
    "\n",
    "display(df1_ut)"
   ]
  },
  {
   "cell_type": "markdown",
   "metadata": {
    "application/vnd.databricks.v1+cell": {
     "cellMetadata": {},
     "inputWidgets": {},
     "nuid": "4ddc7069-fc3b-4338-9b5a-85ade646b630",
     "showTitle": false,
     "tableResultSettingsMap": {},
     "title": ""
    }
   },
   "source": [
    "**from_unixtime:**\n",
    "\n",
    "- Converting **Unix Time** to a **Human-Readable Format** of timestamp.\n",
    "\n",
    "| unix_time |      timestamp          |\n",
    "|-----------|-------------------------|\n",
    "| 1648974310  |  2023-04-03 09:45:10  |\n",
    "\n",
    "- **Returns:** string of **default: yyyy-MM-dd HH:mm:ss**"
   ]
  },
  {
   "cell_type": "markdown",
   "metadata": {
    "application/vnd.databricks.v1+cell": {
     "cellMetadata": {},
     "inputWidgets": {},
     "nuid": "364d7f27-ad09-4de9-b202-21b7b86978f2",
     "showTitle": false,
     "tableResultSettingsMap": {},
     "title": ""
    }
   },
   "source": [
    "**unix_timestamp:**\n",
    "\n",
    "| string_date  |    unix_timestamp  |\n",
    "|--------------|--------------------|\n",
    "| 20140228     |   1393545600       |"
   ]
  },
  {
   "cell_type": "markdown",
   "metadata": {
    "application/vnd.databricks.v1+cell": {
     "cellMetadata": {},
     "inputWidgets": {},
     "nuid": "c9e98196-51e3-4a41-a432-fc8a7e0dead8",
     "showTitle": false,
     "tableResultSettingsMap": {},
     "title": ""
    }
   },
   "source": [
    "#### 3) Using to_date with format directly\n",
    "- This method works best when you're sure the column only contains **valid date-like strings**.\n",
    "- **Non-date values (like \"0\")** will be returned as **null**."
   ]
  },
  {
   "cell_type": "code",
   "execution_count": 0,
   "metadata": {
    "application/vnd.databricks.v1+cell": {
     "cellMetadata": {
      "byteLimit": 2048000,
      "rowLimit": 10000
     },
     "inputWidgets": {},
     "nuid": "82efc200-1339-4e0d-9dca-a20b9c2c2cbf",
     "showTitle": false,
     "tableResultSettingsMap": {},
     "title": ""
    }
   },
   "outputs": [
    {
     "output_type": "display_data",
     "data": {
      "text/html": [
       "<style scoped>\n",
       "  .table-result-container {\n",
       "    max-height: 300px;\n",
       "    overflow: auto;\n",
       "  }\n",
       "  table, th, td {\n",
       "    border: 1px solid black;\n",
       "    border-collapse: collapse;\n",
       "  }\n",
       "  th, td {\n",
       "    padding: 5px;\n",
       "  }\n",
       "  th {\n",
       "    text-align: left;\n",
       "  }\n",
       "</style><div class='table-result-container'><table class='table-result'><thead style='background-color: white'><tr><th>d1</th><th>d2</th><th>d3</th><th>date_str</th><th>parsed_date</th></tr></thead><tbody><tr><td>0240312</td><td>0231225</td><td>0221120</td><td>20240312</td><td>2024-03-12</td></tr><tr><td>0231225</td><td>0211225</td><td>0251225</td><td>20231225</td><td>2023-12-25</td></tr><tr><td>0980312</td><td>0991225</td><td>0971225</td><td>20980312</td><td>2098-03-12</td></tr><tr><td>0961225</td><td>0951225</td><td>0940921</td><td>20961225</td><td>2096-12-25</td></tr><tr><td>0240312</td><td>0231225</td><td>0970618</td><td>20240312</td><td>2024-03-12</td></tr><tr><td>0850911</td><td>0880713</td><td>0820219</td><td>20850911</td><td>2085-09-11</td></tr><tr><td>0</td><td>0991225</td><td>0221120</td><td>null</td><td>null</td></tr></tbody></table></div>"
      ]
     },
     "metadata": {
      "application/vnd.databricks.v1+output": {
       "addedWidgets": {},
       "aggData": [],
       "aggError": "",
       "aggOverflow": false,
       "aggSchema": [],
       "aggSeriesLimitReached": false,
       "aggType": "",
       "arguments": {},
       "columnCustomDisplayInfos": {},
       "data": [
        [
         "0240312",
         "0231225",
         "0221120",
         "20240312",
         "2024-03-12"
        ],
        [
         "0231225",
         "0211225",
         "0251225",
         "20231225",
         "2023-12-25"
        ],
        [
         "0980312",
         "0991225",
         "0971225",
         "20980312",
         "2098-03-12"
        ],
        [
         "0961225",
         "0951225",
         "0940921",
         "20961225",
         "2096-12-25"
        ],
        [
         "0240312",
         "0231225",
         "0970618",
         "20240312",
         "2024-03-12"
        ],
        [
         "0850911",
         "0880713",
         "0820219",
         "20850911",
         "2085-09-11"
        ],
        [
         "0",
         "0991225",
         "0221120",
         null,
         null
        ]
       ],
       "datasetInfos": [],
       "dbfsResultPath": null,
       "isJsonSchema": true,
       "metadata": {},
       "overflow": false,
       "plotOptions": {
        "customPlotOptions": {},
        "displayType": "table",
        "pivotAggregation": null,
        "pivotColumns": null,
        "xColumns": null,
        "yColumns": null
       },
       "removedWidgets": [],
       "schema": [
        {
         "metadata": "{}",
         "name": "d1",
         "type": "\"string\""
        },
        {
         "metadata": "{}",
         "name": "d2",
         "type": "\"string\""
        },
        {
         "metadata": "{}",
         "name": "d3",
         "type": "\"string\""
        },
        {
         "metadata": "{}",
         "name": "date_str",
         "type": "\"string\""
        },
        {
         "metadata": "{}",
         "name": "parsed_date",
         "type": "\"date\""
        }
       ],
       "type": "table"
      }
     },
     "output_type": "display_data"
    }
   ],
   "source": [
    "from pyspark.sql.functions import col, lit, concat, to_date, when\n",
    "\n",
    "df_todate = df_samp.withColumn(\"date_str\", when(col(\"d1\") != \"0\", concat(lit(\"20\"), col(\"d1\").substr(2, 2), col(\"d1\").substr(4, 2), col(\"d1\").substr(6, 2)))) \\\n",
    "                   .withColumn(\"parsed_date\", to_date(col(\"date_str\"), \"yyyyMMdd\"))\n",
    "\n",
    "display(df_todate)"
   ]
  },
  {
   "cell_type": "markdown",
   "metadata": {
    "application/vnd.databricks.v1+cell": {
     "cellMetadata": {},
     "inputWidgets": {},
     "nuid": "2f35cefe-ddcf-4d9f-8f03-1cf0e5aee00e",
     "showTitle": false,
     "tableResultSettingsMap": {},
     "title": ""
    }
   },
   "source": [
    "**col(col_name) != \"0\"**\n",
    "\n",
    "- This checks **if the value** in column **col_name** is **not equal to \"0\"**.\n",
    "- This condition ensures that the transformation is applied **only to rows** where the **column does not contain \"0\"**.\n",
    "\n",
    "**When the condition is True (col(col_name) != \"0\"):**\n",
    "\n",
    "- **substr(2, len(col_name)-1)** extracts a substring from the **2nd character** onward.\n",
    "- **to_date(..., 'yyMMdd')** converts the extracted substring into a proper date format **(yyMMdd)**.\n",
    "\n",
    "**Otherwise (col(col_name) == \"0\"):**\n",
    "\n",
    "- The original value **(col(col_name))** is retained without modification.\n",
    "\n",
    "**.cast(\"date\"):**\n",
    "\n",
    "- The entire column is **cast** to **date type**."
   ]
  },
  {
   "cell_type": "markdown",
   "metadata": {
    "application/vnd.databricks.v1+cell": {
     "cellMetadata": {},
     "inputWidgets": {},
     "nuid": "539f710a-d0d7-48b7-b80b-9bac4ed2f667",
     "showTitle": false,
     "tableResultSettingsMap": {},
     "title": ""
    }
   },
   "source": [
    "**Processing Step-by-Step:**\n",
    "\n",
    "- For **\"0240312\"** (Not \"0\") => Extract **240312** => Convert to **2024-03-12**.\n",
    "\n",
    "- For **\"0\"** (Matches \"0\") => Keep **\"0\"** as is.\n",
    "\n",
    "**Final Output (df):**\n",
    "     \n",
    "     col_name\n",
    "     2024-03-12\n",
    "     2023-12-25\n",
    "     0"
   ]
  },
  {
   "cell_type": "markdown",
   "metadata": {
    "application/vnd.databricks.v1+cell": {
     "cellMetadata": {},
     "inputWidgets": {},
     "nuid": "126181cb-47dc-42a9-9125-8cb6ef3e792e",
     "showTitle": false,
     "tableResultSettingsMap": {},
     "title": ""
    }
   },
   "source": [
    "#### 4) Handling Non-Date Values (e.g., \"0\") Safely"
   ]
  },
  {
   "cell_type": "code",
   "execution_count": 0,
   "metadata": {
    "application/vnd.databricks.v1+cell": {
     "cellMetadata": {
      "byteLimit": 2048000,
      "rowLimit": 10000
     },
     "inputWidgets": {},
     "nuid": "61cd2a3e-bcc2-4bcd-9527-ecfb09cb1024",
     "showTitle": false,
     "tableResultSettingsMap": {},
     "title": ""
    }
   },
   "outputs": [
    {
     "output_type": "display_data",
     "data": {
      "text/html": [
       "<style scoped>\n",
       "  .table-result-container {\n",
       "    max-height: 300px;\n",
       "    overflow: auto;\n",
       "  }\n",
       "  table, th, td {\n",
       "    border: 1px solid black;\n",
       "    border-collapse: collapse;\n",
       "  }\n",
       "  th, td {\n",
       "    padding: 5px;\n",
       "  }\n",
       "  th {\n",
       "    text-align: left;\n",
       "  }\n",
       "</style><div class='table-result-container'><table class='table-result'><thead style='background-color: white'><tr><th>d1</th><th>d2</th><th>d3</th><th>parsed_date</th></tr></thead><tbody><tr><td>0240312</td><td>0231225</td><td>0221120</td><td>2024-03-12</td></tr><tr><td>0231225</td><td>0211225</td><td>0251225</td><td>2023-12-25</td></tr><tr><td>0980312</td><td>0991225</td><td>0971225</td><td>2098-03-12</td></tr><tr><td>0961225</td><td>0951225</td><td>0940921</td><td>2096-12-25</td></tr><tr><td>0240312</td><td>0231225</td><td>0970618</td><td>2024-03-12</td></tr><tr><td>0850911</td><td>0880713</td><td>0820219</td><td>2085-09-11</td></tr><tr><td>0</td><td>0991225</td><td>0221120</td><td>null</td></tr></tbody></table></div>"
      ]
     },
     "metadata": {
      "application/vnd.databricks.v1+output": {
       "addedWidgets": {},
       "aggData": [],
       "aggError": "",
       "aggOverflow": false,
       "aggSchema": [],
       "aggSeriesLimitReached": false,
       "aggType": "",
       "arguments": {},
       "columnCustomDisplayInfos": {},
       "data": [
        [
         "0240312",
         "0231225",
         "0221120",
         "2024-03-12"
        ],
        [
         "0231225",
         "0211225",
         "0251225",
         "2023-12-25"
        ],
        [
         "0980312",
         "0991225",
         "0971225",
         "2098-03-12"
        ],
        [
         "0961225",
         "0951225",
         "0940921",
         "2096-12-25"
        ],
        [
         "0240312",
         "0231225",
         "0970618",
         "2024-03-12"
        ],
        [
         "0850911",
         "0880713",
         "0820219",
         "2085-09-11"
        ],
        [
         "0",
         "0991225",
         "0221120",
         null
        ]
       ],
       "datasetInfos": [],
       "dbfsResultPath": null,
       "isJsonSchema": true,
       "metadata": {},
       "overflow": false,
       "plotOptions": {
        "customPlotOptions": {},
        "displayType": "table",
        "pivotAggregation": null,
        "pivotColumns": null,
        "xColumns": null,
        "yColumns": null
       },
       "removedWidgets": [],
       "schema": [
        {
         "metadata": "{}",
         "name": "d1",
         "type": "\"string\""
        },
        {
         "metadata": "{}",
         "name": "d2",
         "type": "\"string\""
        },
        {
         "metadata": "{}",
         "name": "d3",
         "type": "\"string\""
        },
        {
         "metadata": "{}",
         "name": "parsed_date",
         "type": "\"date\""
        }
       ],
       "type": "table"
      }
     },
     "output_type": "display_data"
    }
   ],
   "source": [
    "from pyspark.sql.functions import when, col, lit, concat, to_date\n",
    "\n",
    "df_nondate = df_samp.withColumn(\n",
    "    \"parsed_date\",\n",
    "    when(\n",
    "        col(\"d1\").rlike(\"^[0-9]{7}$\"),  # Only 7-digit numbers\n",
    "        to_date(\n",
    "            concat(lit(\"20\"), col(\"d1\").substr(2, 2), col(\"d1\").substr(4, 2), col(\"d1\").substr(6, 2)),\n",
    "            \"yyyyMMdd\"\n",
    "        )\n",
    "    ).otherwise(None)\n",
    ")\n",
    "\n",
    "display(df_nondate)"
   ]
  },
  {
   "cell_type": "markdown",
   "metadata": {
    "application/vnd.databricks.v1+cell": {
     "cellMetadata": {},
     "inputWidgets": {},
     "nuid": "24fd8e48-b699-422b-ab9c-95a7673f1bd9",
     "showTitle": false,
     "tableResultSettingsMap": {},
     "title": ""
    }
   },
   "source": [
    "**Regex check**\n",
    "- **^[0-9]{7}$** → ensures the value is **exactly 7 digits** (so **\"0\" will be skipped**).\n",
    "\n",
    "**String transformation**\n",
    "- col(\"d1\").substr(2, 2) → year (last two digits)\n",
    "- col(\"d1\").substr(4, 2) → month\n",
    "- col(\"d1\").substr(6, 2) → day\n",
    "- Then prepend **\"20\"** to get a proper **yyyyMMdd**.\n",
    "\n",
    "**to_date(..., \"yyyyMMdd\")**\n",
    "- Converts the new string to a real date type."
   ]
  },
  {
   "cell_type": "markdown",
   "metadata": {
    "application/vnd.databricks.v1+cell": {
     "cellMetadata": {},
     "inputWidgets": {},
     "nuid": "c2699c2b-b448-46dc-b7ad-f51fd3281193",
     "showTitle": false,
     "tableResultSettingsMap": {},
     "title": ""
    }
   },
   "source": [
    "#### 5) to_date & substr"
   ]
  },
  {
   "cell_type": "code",
   "execution_count": 0,
   "metadata": {
    "application/vnd.databricks.v1+cell": {
     "cellMetadata": {
      "byteLimit": 2048000,
      "rowLimit": 10000
     },
     "inputWidgets": {},
     "nuid": "0f04a78c-9000-4dd2-80a5-cdfcfc42afb9",
     "showTitle": false,
     "tableResultSettingsMap": {},
     "title": ""
    }
   },
   "outputs": [],
   "source": [
    "from pyspark.sql import functions as F\n",
    "\n",
    "# function to convert the date fields into required format\n",
    "def convert_date_fields(df, col_names):\n",
    "    for col_name in col_names:\n",
    "        df = df.withColumn(\n",
    "            col_name,\n",
    "            F.when(\n",
    "                (F.col(col_name) != \"0\") & (F.col(col_name).rlike(\"^[0-9]{7}$\")),\n",
    "                F.to_date(\n",
    "                    F.concat(\n",
    "                        F.lit(\"20\"),\n",
    "                        F.col(col_name).substr(2, 2),\n",
    "                        F.col(col_name).substr(4, 2),\n",
    "                        F.col(col_name).substr(6, 2)\n",
    "                    ),\n",
    "                    \"yyyyMMdd\"\n",
    "                )\n",
    "            ).otherwise(F.lit(None).cast(\"date\"))\n",
    "        )\n",
    "    return df"
   ]
  },
  {
   "cell_type": "code",
   "execution_count": 0,
   "metadata": {
    "application/vnd.databricks.v1+cell": {
     "cellMetadata": {
      "byteLimit": 2048000,
      "rowLimit": 10000
     },
     "inputWidgets": {},
     "nuid": "df3379df-66f5-4582-a85f-d51c22c2563d",
     "showTitle": false,
     "tableResultSettingsMap": {},
     "title": ""
    }
   },
   "outputs": [
    {
     "output_type": "display_data",
     "data": {
      "text/html": [
       "<style scoped>\n",
       "  .table-result-container {\n",
       "    max-height: 300px;\n",
       "    overflow: auto;\n",
       "  }\n",
       "  table, th, td {\n",
       "    border: 1px solid black;\n",
       "    border-collapse: collapse;\n",
       "  }\n",
       "  th, td {\n",
       "    padding: 5px;\n",
       "  }\n",
       "  th {\n",
       "    text-align: left;\n",
       "  }\n",
       "</style><div class='table-result-container'><table class='table-result'><thead style='background-color: white'><tr><th>d1</th><th>d2</th><th>d3</th></tr></thead><tbody><tr><td>2024-03-12</td><td>2023-12-25</td><td>2022-11-20</td></tr><tr><td>2023-12-25</td><td>2021-12-25</td><td>2025-12-25</td></tr><tr><td>2098-03-12</td><td>2099-12-25</td><td>2097-12-25</td></tr><tr><td>2096-12-25</td><td>2095-12-25</td><td>2094-09-21</td></tr><tr><td>2024-03-12</td><td>2023-12-25</td><td>2097-06-18</td></tr><tr><td>2085-09-11</td><td>2088-07-13</td><td>2082-02-19</td></tr><tr><td>null</td><td>2099-12-25</td><td>2022-11-20</td></tr></tbody></table></div>"
      ]
     },
     "metadata": {
      "application/vnd.databricks.v1+output": {
       "addedWidgets": {},
       "aggData": [],
       "aggError": "",
       "aggOverflow": false,
       "aggSchema": [],
       "aggSeriesLimitReached": false,
       "aggType": "",
       "arguments": {},
       "columnCustomDisplayInfos": {},
       "data": [
        [
         "2024-03-12",
         "2023-12-25",
         "2022-11-20"
        ],
        [
         "2023-12-25",
         "2021-12-25",
         "2025-12-25"
        ],
        [
         "2098-03-12",
         "2099-12-25",
         "2097-12-25"
        ],
        [
         "2096-12-25",
         "2095-12-25",
         "2094-09-21"
        ],
        [
         "2024-03-12",
         "2023-12-25",
         "2097-06-18"
        ],
        [
         "2085-09-11",
         "2088-07-13",
         "2082-02-19"
        ],
        [
         null,
         "2099-12-25",
         "2022-11-20"
        ]
       ],
       "datasetInfos": [],
       "dbfsResultPath": null,
       "isJsonSchema": true,
       "metadata": {},
       "overflow": false,
       "plotOptions": {
        "customPlotOptions": {},
        "displayType": "table",
        "pivotAggregation": null,
        "pivotColumns": null,
        "xColumns": null,
        "yColumns": null
       },
       "removedWidgets": [],
       "schema": [
        {
         "metadata": "{}",
         "name": "d1",
         "type": "\"date\""
        },
        {
         "metadata": "{}",
         "name": "d2",
         "type": "\"date\""
        },
        {
         "metadata": "{}",
         "name": "d3",
         "type": "\"date\""
        }
       ],
       "type": "table"
      }
     },
     "output_type": "display_data"
    }
   ],
   "source": [
    "q = convert_date_fields(df_samp, columns)\n",
    "display(q)"
   ]
  },
  {
   "cell_type": "markdown",
   "metadata": {
    "application/vnd.databricks.v1+cell": {
     "cellMetadata": {},
     "inputWidgets": {},
     "nuid": "c098f520-7d46-4bfd-92f2-b0e9c6c1cdf6",
     "showTitle": false,
     "tableResultSettingsMap": {},
     "title": ""
    }
   },
   "source": [
    "- Regex check to ensure only 7-digit numbers are processed.\n",
    "- Proper substr() slicing:\n",
    "  - .substr(2, 2) → **last two digits of year**\n",
    "  - .substr(4, 2) → **month**\n",
    "  - .substr(6, 2) → **day**\n",
    "- concat() with **\"20\"** to make a **yyyyMMdd** string.\n",
    "- otherwise() returns a real date-typed **null** for **invalid entries**."
   ]
  }
 ],
 "metadata": {
  "application/vnd.databricks.v1+notebook": {
   "computePreferences": null,
   "dashboards": [],
   "environmentMetadata": {
    "base_environment": "",
    "environment_version": "1"
   },
   "inputWidgetPreferences": null,
   "language": "python",
   "notebookMetadata": {
    "pythonIndentUnit": 4
   },
   "notebookName": "28_Collabera Digital PySpark Interview Question_Data Engineering",
   "widgets": {}
  }
 },
 "nbformat": 4,
 "nbformat_minor": 0
}