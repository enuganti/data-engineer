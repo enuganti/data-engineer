{
 "cells": [
  {
   "cell_type": "markdown",
   "metadata": {
    "application/vnd.databricks.v1+cell": {
     "cellMetadata": {
      "byteLimit": 2048000,
      "rowLimit": 10000
     },
     "inputWidgets": {},
     "nuid": "4dd2d81c-09cf-4825-8d9c-85afc55014f6",
     "showTitle": false,
     "tableResultSettingsMap": {},
     "title": ""
    }
   },
   "source": [
    "**Problem Statement**\n",
    "\n",
    "- You have a dataset containing **employee information**, where each employee may have **multiple technology experience**  stored in a **single column as an array**. Write a Pyspark code to **transform** this dataset so that each experience for each employee appears on a **separate row**."
   ]
  },
  {
   "cell_type": "markdown",
   "metadata": {
    "application/vnd.databricks.v1+cell": {
     "cellMetadata": {
      "byteLimit": 2048000,
      "rowLimit": 10000
     },
     "inputWidgets": {},
     "nuid": "ae5d751d-c932-4414-860b-6c082f00ec80",
     "showTitle": false,
     "tableResultSettingsMap": {},
     "title": ""
    }
   },
   "source": [
    "**Solution**"
   ]
  },
  {
   "cell_type": "code",
   "execution_count": 0,
   "metadata": {
    "application/vnd.databricks.v1+cell": {
     "cellMetadata": {
      "byteLimit": 2048000,
      "rowLimit": 10000
     },
     "inputWidgets": {},
     "nuid": "76a2e485-fe11-46f7-88c4-b6c664db5be2",
     "showTitle": false,
     "tableResultSettingsMap": {},
     "title": ""
    }
   },
   "outputs": [],
   "source": [
    "# Import necessary libraries\n",
    "from pyspark.sql.functions import col, explode"
   ]
  },
  {
   "cell_type": "code",
   "execution_count": 0,
   "metadata": {
    "application/vnd.databricks.v1+cell": {
     "cellMetadata": {
      "byteLimit": 2048000,
      "rowLimit": 10000
     },
     "inputWidgets": {},
     "nuid": "d44a37eb-bdb7-4373-ad25-10a0eec34082",
     "showTitle": false,
     "tableResultSettingsMap": {},
     "title": ""
    }
   },
   "outputs": [
    {
     "output_type": "display_data",
     "data": {
      "text/html": [
       "<style scoped>\n",
       "  .table-result-container {\n",
       "    max-height: 300px;\n",
       "    overflow: auto;\n",
       "  }\n",
       "  table, th, td {\n",
       "    border: 1px solid black;\n",
       "    border-collapse: collapse;\n",
       "  }\n",
       "  th, td {\n",
       "    padding: 5px;\n",
       "  }\n",
       "  th {\n",
       "    text-align: left;\n",
       "  }\n",
       "</style><div class='table-result-container'><table class='table-result'><thead style='background-color: white'><tr><th>emp_id</th><th>first_name</th><th>last_name</th><th>dept_id</th><th>Technology</th></tr></thead><tbody><tr><td>1</td><td>Jayesh</td><td>Tendulkar</td><td>101</td><td>List(SQL, Data Science, PySpark)</td></tr><tr><td>2</td><td>Rohit</td><td>Sharma</td><td>102</td><td>List(Data Analytics, ML, AI)</td></tr><tr><td>3</td><td>Sai</td><td>Ramesh</td><td>101</td><td>List(SSMS, Azure, AWS, DEVOPS)</td></tr><tr><td>4</td><td>Sreedhar</td><td>Arava</td><td>102</td><td>List(Database, Oracle, ADF)</td></tr><tr><td>5</td><td>Somesh</td><td>yadav</td><td>101</td><td>List(SQL, Data Science, GitHub, PANDAS)</td></tr><tr><td>6</td><td>Radhika</td><td>Gupta</td><td>102</td><td>List(DEVOPS, AWS, SSMS, Python)</td></tr></tbody></table></div>"
      ]
     },
     "metadata": {
      "application/vnd.databricks.v1+output": {
       "addedWidgets": {},
       "aggData": [],
       "aggError": "",
       "aggOverflow": false,
       "aggSchema": [],
       "aggSeriesLimitReached": false,
       "aggType": "",
       "arguments": {},
       "columnCustomDisplayInfos": {},
       "data": [
        [
         1,
         "Jayesh",
         "Tendulkar",
         101,
         [
          "SQL",
          "Data Science",
          "PySpark"
         ]
        ],
        [
         2,
         "Rohit",
         "Sharma",
         102,
         [
          "Data Analytics",
          "ML",
          "AI"
         ]
        ],
        [
         3,
         "Sai",
         "Ramesh",
         101,
         [
          "SSMS",
          "Azure",
          "AWS",
          "DEVOPS"
         ]
        ],
        [
         4,
         "Sreedhar",
         "Arava",
         102,
         [
          "Database",
          "Oracle",
          "ADF"
         ]
        ],
        [
         5,
         "Somesh",
         "yadav",
         101,
         [
          "SQL",
          "Data Science",
          "GitHub",
          "PANDAS"
         ]
        ],
        [
         6,
         "Radhika",
         "Gupta",
         102,
         [
          "DEVOPS",
          "AWS",
          "SSMS",
          "Python"
         ]
        ]
       ],
       "datasetInfos": [],
       "dbfsResultPath": null,
       "isJsonSchema": true,
       "metadata": {},
       "overflow": false,
       "plotOptions": {
        "customPlotOptions": {},
        "displayType": "table",
        "pivotAggregation": null,
        "pivotColumns": null,
        "xColumns": null,
        "yColumns": null
       },
       "removedWidgets": [],
       "schema": [
        {
         "metadata": "{}",
         "name": "emp_id",
         "type": "\"long\""
        },
        {
         "metadata": "{}",
         "name": "first_name",
         "type": "\"string\""
        },
        {
         "metadata": "{}",
         "name": "last_name",
         "type": "\"string\""
        },
        {
         "metadata": "{}",
         "name": "dept_id",
         "type": "\"long\""
        },
        {
         "metadata": "{}",
         "name": "Technology",
         "type": "{\"type\":\"array\",\"elementType\":\"string\",\"containsNull\":true}"
        }
       ],
       "type": "table"
      }
     },
     "output_type": "display_data"
    },
    {
     "output_type": "stream",
     "name": "stdout",
     "output_type": "stream",
     "text": [
      "root\n |-- emp_id: long (nullable = true)\n |-- first_name: string (nullable = true)\n |-- last_name: string (nullable = true)\n |-- dept_id: long (nullable = true)\n |-- Technology: array (nullable = true)\n |    |-- element: string (containsNull = true)\n\n"
     ]
    }
   ],
   "source": [
    "# Sample data\n",
    "data = [(1, \"Jayesh\", \"Tendulkar\", 101, ['SQL','Data Science','PySpark']),\n",
    "        (2, \"Rohit\", \"Sharma\", 102, ['Data Analytics','ML','AI']),\n",
    "        (3, \"Sai\", \"Ramesh\", 101, ['SSMS','Azure','AWS','DEVOPS']),\n",
    "        (4, \"Sreedhar\", \"Arava\", 102, ['Database','Oracle','ADF']),\n",
    "        (5, \"Somesh\", \"yadav\", 101, ['SQL','Data Science','GitHub','PANDAS']),\n",
    "        (6, \"Radhika\", \"Gupta\", 102, ['DEVOPS','AWS','SSMS','Python'])\n",
    "       ]\n",
    "\n",
    "columns = [\"emp_id\", \"first_name\", \"last_name\", \"dept_id\", \"Technology\"]\n",
    "\n",
    "# Create DataFrame\n",
    "df = spark.createDataFrame(data, columns)\n",
    "display(df)\n",
    "\n",
    "# display data types\n",
    "df.printSchema()"
   ]
  },
  {
   "cell_type": "code",
   "execution_count": 0,
   "metadata": {
    "application/vnd.databricks.v1+cell": {
     "cellMetadata": {
      "byteLimit": 2048000,
      "rowLimit": 10000
     },
     "inputWidgets": {},
     "nuid": "bbddf77b-d695-4b19-84c7-779b9ccba918",
     "showTitle": false,
     "tableResultSettingsMap": {},
     "title": ""
    }
   },
   "outputs": [
    {
     "output_type": "display_data",
     "data": {
      "text/html": [
       "<style scoped>\n",
       "  .table-result-container {\n",
       "    max-height: 300px;\n",
       "    overflow: auto;\n",
       "  }\n",
       "  table, th, td {\n",
       "    border: 1px solid black;\n",
       "    border-collapse: collapse;\n",
       "  }\n",
       "  th, td {\n",
       "    padding: 5px;\n",
       "  }\n",
       "  th {\n",
       "    text-align: left;\n",
       "  }\n",
       "</style><div class='table-result-container'><table class='table-result'><thead style='background-color: white'><tr><th>emp_id</th><th>first_name</th><th>last_name</th><th>dept_id</th><th>Technology</th><th>Domain</th></tr></thead><tbody><tr><td>1</td><td>Jayesh</td><td>Tendulkar</td><td>101</td><td>List(SQL, Data Science, PySpark)</td><td>SQL</td></tr><tr><td>1</td><td>Jayesh</td><td>Tendulkar</td><td>101</td><td>List(SQL, Data Science, PySpark)</td><td>Data Science</td></tr><tr><td>1</td><td>Jayesh</td><td>Tendulkar</td><td>101</td><td>List(SQL, Data Science, PySpark)</td><td>PySpark</td></tr><tr><td>2</td><td>Rohit</td><td>Sharma</td><td>102</td><td>List(Data Analytics, ML, AI)</td><td>Data Analytics</td></tr><tr><td>2</td><td>Rohit</td><td>Sharma</td><td>102</td><td>List(Data Analytics, ML, AI)</td><td>ML</td></tr><tr><td>2</td><td>Rohit</td><td>Sharma</td><td>102</td><td>List(Data Analytics, ML, AI)</td><td>AI</td></tr><tr><td>3</td><td>Sai</td><td>Ramesh</td><td>101</td><td>List(SSMS, Azure, AWS, DEVOPS)</td><td>SSMS</td></tr><tr><td>3</td><td>Sai</td><td>Ramesh</td><td>101</td><td>List(SSMS, Azure, AWS, DEVOPS)</td><td>Azure</td></tr><tr><td>3</td><td>Sai</td><td>Ramesh</td><td>101</td><td>List(SSMS, Azure, AWS, DEVOPS)</td><td>AWS</td></tr><tr><td>3</td><td>Sai</td><td>Ramesh</td><td>101</td><td>List(SSMS, Azure, AWS, DEVOPS)</td><td>DEVOPS</td></tr><tr><td>4</td><td>Sreedhar</td><td>Arava</td><td>102</td><td>List(Database, Oracle, ADF)</td><td>Database</td></tr><tr><td>4</td><td>Sreedhar</td><td>Arava</td><td>102</td><td>List(Database, Oracle, ADF)</td><td>Oracle</td></tr><tr><td>4</td><td>Sreedhar</td><td>Arava</td><td>102</td><td>List(Database, Oracle, ADF)</td><td>ADF</td></tr><tr><td>5</td><td>Somesh</td><td>yadav</td><td>101</td><td>List(SQL, Data Science, GitHub, PANDAS)</td><td>SQL</td></tr><tr><td>5</td><td>Somesh</td><td>yadav</td><td>101</td><td>List(SQL, Data Science, GitHub, PANDAS)</td><td>Data Science</td></tr><tr><td>5</td><td>Somesh</td><td>yadav</td><td>101</td><td>List(SQL, Data Science, GitHub, PANDAS)</td><td>GitHub</td></tr><tr><td>5</td><td>Somesh</td><td>yadav</td><td>101</td><td>List(SQL, Data Science, GitHub, PANDAS)</td><td>PANDAS</td></tr><tr><td>6</td><td>Radhika</td><td>Gupta</td><td>102</td><td>List(DEVOPS, AWS, SSMS, Python)</td><td>DEVOPS</td></tr><tr><td>6</td><td>Radhika</td><td>Gupta</td><td>102</td><td>List(DEVOPS, AWS, SSMS, Python)</td><td>AWS</td></tr><tr><td>6</td><td>Radhika</td><td>Gupta</td><td>102</td><td>List(DEVOPS, AWS, SSMS, Python)</td><td>SSMS</td></tr><tr><td>6</td><td>Radhika</td><td>Gupta</td><td>102</td><td>List(DEVOPS, AWS, SSMS, Python)</td><td>Python</td></tr></tbody></table></div>"
      ]
     },
     "metadata": {
      "application/vnd.databricks.v1+output": {
       "addedWidgets": {},
       "aggData": [],
       "aggError": "",
       "aggOverflow": false,
       "aggSchema": [],
       "aggSeriesLimitReached": false,
       "aggType": "",
       "arguments": {},
       "columnCustomDisplayInfos": {},
       "data": [
        [
         1,
         "Jayesh",
         "Tendulkar",
         101,
         [
          "SQL",
          "Data Science",
          "PySpark"
         ],
         "SQL"
        ],
        [
         1,
         "Jayesh",
         "Tendulkar",
         101,
         [
          "SQL",
          "Data Science",
          "PySpark"
         ],
         "Data Science"
        ],
        [
         1,
         "Jayesh",
         "Tendulkar",
         101,
         [
          "SQL",
          "Data Science",
          "PySpark"
         ],
         "PySpark"
        ],
        [
         2,
         "Rohit",
         "Sharma",
         102,
         [
          "Data Analytics",
          "ML",
          "AI"
         ],
         "Data Analytics"
        ],
        [
         2,
         "Rohit",
         "Sharma",
         102,
         [
          "Data Analytics",
          "ML",
          "AI"
         ],
         "ML"
        ],
        [
         2,
         "Rohit",
         "Sharma",
         102,
         [
          "Data Analytics",
          "ML",
          "AI"
         ],
         "AI"
        ],
        [
         3,
         "Sai",
         "Ramesh",
         101,
         [
          "SSMS",
          "Azure",
          "AWS",
          "DEVOPS"
         ],
         "SSMS"
        ],
        [
         3,
         "Sai",
         "Ramesh",
         101,
         [
          "SSMS",
          "Azure",
          "AWS",
          "DEVOPS"
         ],
         "Azure"
        ],
        [
         3,
         "Sai",
         "Ramesh",
         101,
         [
          "SSMS",
          "Azure",
          "AWS",
          "DEVOPS"
         ],
         "AWS"
        ],
        [
         3,
         "Sai",
         "Ramesh",
         101,
         [
          "SSMS",
          "Azure",
          "AWS",
          "DEVOPS"
         ],
         "DEVOPS"
        ],
        [
         4,
         "Sreedhar",
         "Arava",
         102,
         [
          "Database",
          "Oracle",
          "ADF"
         ],
         "Database"
        ],
        [
         4,
         "Sreedhar",
         "Arava",
         102,
         [
          "Database",
          "Oracle",
          "ADF"
         ],
         "Oracle"
        ],
        [
         4,
         "Sreedhar",
         "Arava",
         102,
         [
          "Database",
          "Oracle",
          "ADF"
         ],
         "ADF"
        ],
        [
         5,
         "Somesh",
         "yadav",
         101,
         [
          "SQL",
          "Data Science",
          "GitHub",
          "PANDAS"
         ],
         "SQL"
        ],
        [
         5,
         "Somesh",
         "yadav",
         101,
         [
          "SQL",
          "Data Science",
          "GitHub",
          "PANDAS"
         ],
         "Data Science"
        ],
        [
         5,
         "Somesh",
         "yadav",
         101,
         [
          "SQL",
          "Data Science",
          "GitHub",
          "PANDAS"
         ],
         "GitHub"
        ],
        [
         5,
         "Somesh",
         "yadav",
         101,
         [
          "SQL",
          "Data Science",
          "GitHub",
          "PANDAS"
         ],
         "PANDAS"
        ],
        [
         6,
         "Radhika",
         "Gupta",
         102,
         [
          "DEVOPS",
          "AWS",
          "SSMS",
          "Python"
         ],
         "DEVOPS"
        ],
        [
         6,
         "Radhika",
         "Gupta",
         102,
         [
          "DEVOPS",
          "AWS",
          "SSMS",
          "Python"
         ],
         "AWS"
        ],
        [
         6,
         "Radhika",
         "Gupta",
         102,
         [
          "DEVOPS",
          "AWS",
          "SSMS",
          "Python"
         ],
         "SSMS"
        ],
        [
         6,
         "Radhika",
         "Gupta",
         102,
         [
          "DEVOPS",
          "AWS",
          "SSMS",
          "Python"
         ],
         "Python"
        ]
       ],
       "datasetInfos": [],
       "dbfsResultPath": null,
       "isJsonSchema": true,
       "metadata": {},
       "overflow": false,
       "plotOptions": {
        "customPlotOptions": {},
        "displayType": "table",
        "pivotAggregation": null,
        "pivotColumns": null,
        "xColumns": null,
        "yColumns": null
       },
       "removedWidgets": [],
       "schema": [
        {
         "metadata": "{}",
         "name": "emp_id",
         "type": "\"long\""
        },
        {
         "metadata": "{}",
         "name": "first_name",
         "type": "\"string\""
        },
        {
         "metadata": "{}",
         "name": "last_name",
         "type": "\"string\""
        },
        {
         "metadata": "{}",
         "name": "dept_id",
         "type": "\"long\""
        },
        {
         "metadata": "{}",
         "name": "Technology",
         "type": "{\"type\":\"array\",\"elementType\":\"string\",\"containsNull\":true}"
        },
        {
         "metadata": "{}",
         "name": "Domain",
         "type": "\"string\""
        }
       ],
       "type": "table"
      }
     },
     "output_type": "display_data"
    }
   ],
   "source": [
    "# Explode \"Technology\" column\n",
    "exp_df = df.withColumn(\"Domain\", explode(df.Technology))\n",
    "\n",
    "# Display the result\n",
    "display(exp_df)"
   ]
  },
  {
   "cell_type": "code",
   "execution_count": 0,
   "metadata": {
    "application/vnd.databricks.v1+cell": {
     "cellMetadata": {
      "byteLimit": 2048000,
      "rowLimit": 10000
     },
     "inputWidgets": {},
     "nuid": "bb202a2e-ace8-411b-9508-069df3b2156f",
     "showTitle": false,
     "tableResultSettingsMap": {},
     "title": ""
    }
   },
   "outputs": [
    {
     "output_type": "display_data",
     "data": {
      "text/html": [
       "<style scoped>\n",
       "  .table-result-container {\n",
       "    max-height: 300px;\n",
       "    overflow: auto;\n",
       "  }\n",
       "  table, th, td {\n",
       "    border: 1px solid black;\n",
       "    border-collapse: collapse;\n",
       "  }\n",
       "  th, td {\n",
       "    padding: 5px;\n",
       "  }\n",
       "  th {\n",
       "    text-align: left;\n",
       "  }\n",
       "</style><div class='table-result-container'><table class='table-result'><thead style='background-color: white'><tr><th>emp_id</th><th>first_name</th><th>last_name</th><th>dept_id</th><th>Domain</th></tr></thead><tbody><tr><td>1</td><td>Jayesh</td><td>Tendulkar</td><td>101</td><td>SQL</td></tr><tr><td>1</td><td>Jayesh</td><td>Tendulkar</td><td>101</td><td>Data Science</td></tr><tr><td>1</td><td>Jayesh</td><td>Tendulkar</td><td>101</td><td>PySpark</td></tr><tr><td>2</td><td>Rohit</td><td>Sharma</td><td>102</td><td>Data Analytics</td></tr><tr><td>2</td><td>Rohit</td><td>Sharma</td><td>102</td><td>ML</td></tr><tr><td>2</td><td>Rohit</td><td>Sharma</td><td>102</td><td>AI</td></tr><tr><td>3</td><td>Sai</td><td>Ramesh</td><td>101</td><td>SSMS</td></tr><tr><td>3</td><td>Sai</td><td>Ramesh</td><td>101</td><td>Azure</td></tr><tr><td>3</td><td>Sai</td><td>Ramesh</td><td>101</td><td>AWS</td></tr><tr><td>3</td><td>Sai</td><td>Ramesh</td><td>101</td><td>DEVOPS</td></tr><tr><td>4</td><td>Sreedhar</td><td>Arava</td><td>102</td><td>Database</td></tr><tr><td>4</td><td>Sreedhar</td><td>Arava</td><td>102</td><td>Oracle</td></tr><tr><td>4</td><td>Sreedhar</td><td>Arava</td><td>102</td><td>ADF</td></tr><tr><td>5</td><td>Somesh</td><td>yadav</td><td>101</td><td>SQL</td></tr><tr><td>5</td><td>Somesh</td><td>yadav</td><td>101</td><td>Data Science</td></tr><tr><td>5</td><td>Somesh</td><td>yadav</td><td>101</td><td>GitHub</td></tr><tr><td>5</td><td>Somesh</td><td>yadav</td><td>101</td><td>PANDAS</td></tr><tr><td>6</td><td>Radhika</td><td>Gupta</td><td>102</td><td>DEVOPS</td></tr><tr><td>6</td><td>Radhika</td><td>Gupta</td><td>102</td><td>AWS</td></tr><tr><td>6</td><td>Radhika</td><td>Gupta</td><td>102</td><td>SSMS</td></tr><tr><td>6</td><td>Radhika</td><td>Gupta</td><td>102</td><td>Python</td></tr></tbody></table></div>"
      ]
     },
     "metadata": {
      "application/vnd.databricks.v1+output": {
       "addedWidgets": {},
       "aggData": [],
       "aggError": "",
       "aggOverflow": false,
       "aggSchema": [],
       "aggSeriesLimitReached": false,
       "aggType": "",
       "arguments": {},
       "columnCustomDisplayInfos": {},
       "data": [
        [
         1,
         "Jayesh",
         "Tendulkar",
         101,
         "SQL"
        ],
        [
         1,
         "Jayesh",
         "Tendulkar",
         101,
         "Data Science"
        ],
        [
         1,
         "Jayesh",
         "Tendulkar",
         101,
         "PySpark"
        ],
        [
         2,
         "Rohit",
         "Sharma",
         102,
         "Data Analytics"
        ],
        [
         2,
         "Rohit",
         "Sharma",
         102,
         "ML"
        ],
        [
         2,
         "Rohit",
         "Sharma",
         102,
         "AI"
        ],
        [
         3,
         "Sai",
         "Ramesh",
         101,
         "SSMS"
        ],
        [
         3,
         "Sai",
         "Ramesh",
         101,
         "Azure"
        ],
        [
         3,
         "Sai",
         "Ramesh",
         101,
         "AWS"
        ],
        [
         3,
         "Sai",
         "Ramesh",
         101,
         "DEVOPS"
        ],
        [
         4,
         "Sreedhar",
         "Arava",
         102,
         "Database"
        ],
        [
         4,
         "Sreedhar",
         "Arava",
         102,
         "Oracle"
        ],
        [
         4,
         "Sreedhar",
         "Arava",
         102,
         "ADF"
        ],
        [
         5,
         "Somesh",
         "yadav",
         101,
         "SQL"
        ],
        [
         5,
         "Somesh",
         "yadav",
         101,
         "Data Science"
        ],
        [
         5,
         "Somesh",
         "yadav",
         101,
         "GitHub"
        ],
        [
         5,
         "Somesh",
         "yadav",
         101,
         "PANDAS"
        ],
        [
         6,
         "Radhika",
         "Gupta",
         102,
         "DEVOPS"
        ],
        [
         6,
         "Radhika",
         "Gupta",
         102,
         "AWS"
        ],
        [
         6,
         "Radhika",
         "Gupta",
         102,
         "SSMS"
        ],
        [
         6,
         "Radhika",
         "Gupta",
         102,
         "Python"
        ]
       ],
       "datasetInfos": [],
       "dbfsResultPath": null,
       "isJsonSchema": true,
       "metadata": {},
       "overflow": false,
       "plotOptions": {
        "customPlotOptions": {},
        "displayType": "table",
        "pivotAggregation": null,
        "pivotColumns": null,
        "xColumns": null,
        "yColumns": null
       },
       "removedWidgets": [],
       "schema": [
        {
         "metadata": "{}",
         "name": "emp_id",
         "type": "\"long\""
        },
        {
         "metadata": "{}",
         "name": "first_name",
         "type": "\"string\""
        },
        {
         "metadata": "{}",
         "name": "last_name",
         "type": "\"string\""
        },
        {
         "metadata": "{}",
         "name": "dept_id",
         "type": "\"long\""
        },
        {
         "metadata": "{}",
         "name": "Domain",
         "type": "\"string\""
        }
       ],
       "type": "table"
      }
     },
     "output_type": "display_data"
    },
    {
     "output_type": "stream",
     "name": "stdout",
     "output_type": "stream",
     "text": [
      "root\n |-- emp_id: long (nullable = true)\n |-- first_name: string (nullable = true)\n |-- last_name: string (nullable = true)\n |-- dept_id: long (nullable = true)\n |-- Technology: array (nullable = true)\n |    |-- element: string (containsNull = true)\n\n"
     ]
    }
   ],
   "source": [
    "# Explode \"Technology\" column\n",
    "exploded_df = df.withColumn(\"Domain\", explode(df.Technology)).drop(\"Technology\")\n",
    "\n",
    "# Display the result\n",
    "display(exploded_df)\n",
    "\n",
    "# display data types\n",
    "df.printSchema()"
   ]
  }
 ],
 "metadata": {
  "application/vnd.databricks.v1+notebook": {
   "computePreferences": null,
   "dashboards": [],
   "environmentMetadata": null,
   "language": "python",
   "notebookMetadata": {
    "pythonIndentUnit": 4
   },
   "notebookName": "10_Transform array column into rows",
   "widgets": {}
  }
 },
 "nbformat": 4,
 "nbformat_minor": 0
}
