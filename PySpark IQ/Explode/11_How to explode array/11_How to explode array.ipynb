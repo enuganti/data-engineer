{
 "cells": [
  {
   "cell_type": "markdown",
   "metadata": {
    "application/vnd.databricks.v1+cell": {
     "cellMetadata": {},
     "inputWidgets": {},
     "nuid": "b0514c11-53e0-46cf-b8e9-bab90ea064a7",
     "showTitle": false,
     "tableResultSettingsMap": {},
     "title": ""
    }
   },
   "source": [
    "**PROBLEM STATEMENT**\n",
    "\n",
    "- How to write code to get as output?\n",
    "\n"
   ]
  },
  {
   "cell_type": "code",
   "execution_count": 0,
   "metadata": {
    "application/vnd.databricks.v1+cell": {
     "cellMetadata": {},
     "inputWidgets": {},
     "nuid": "431a7c38-59bb-43e0-955a-bf07b7c7d1c5",
     "showTitle": false,
     "tableResultSettingsMap": {},
     "title": ""
    }
   },
   "outputs": [],
   "source": [
    "Input:\n",
    "\n",
    "name        languages\n",
    "James       ['Java','Python','Python','Scala']\n",
    "Anna        ['PHP','Javascript','PHP','HTML']\n",
    "Maria       ['Java','C++']\n",
    "\n",
    "Output:\n",
    "\n",
    "[('James','Java'),\n",
    " ('James','Python'),\n",
    " ('James','Python'),\n",
    " ('Anna','PHP'),\n",
    " ('Anna','Javascript'),\n",
    " ('Maria','Java'),\n",
    " ('Maria','C++'),\n",
    " ('James','Scala'),\n",
    " ('Anna','PHP'),\n",
    " ('Anna','HTML')]"
   ]
  },
  {
   "cell_type": "code",
   "execution_count": 0,
   "metadata": {
    "application/vnd.databricks.v1+cell": {
     "cellMetadata": {
      "byteLimit": 2048000,
      "rowLimit": 10000
     },
     "inputWidgets": {},
     "nuid": "783167b4-c94d-4e32-9e8c-ae9217413870",
     "showTitle": false,
     "tableResultSettingsMap": {},
     "title": ""
    }
   },
   "outputs": [
    {
     "output_type": "display_data",
     "data": {
      "text/html": [
       "<style scoped>\n",
       "  .table-result-container {\n",
       "    max-height: 300px;\n",
       "    overflow: auto;\n",
       "  }\n",
       "  table, th, td {\n",
       "    border: 1px solid black;\n",
       "    border-collapse: collapse;\n",
       "  }\n",
       "  th, td {\n",
       "    padding: 5px;\n",
       "  }\n",
       "  th {\n",
       "    text-align: left;\n",
       "  }\n",
       "</style><div class='table-result-container'><table class='table-result'><thead style='background-color: white'><tr><th>name</th><th>languages</th></tr></thead><tbody><tr><td>James</td><td>List(Java, Python, Python, Scala)</td></tr><tr><td>Anna</td><td>List(PHP, Javascript, PHP, HTML)</td></tr><tr><td>Maria</td><td>List(Java, C++)</td></tr></tbody></table></div>"
      ]
     },
     "metadata": {
      "application/vnd.databricks.v1+output": {
       "addedWidgets": {},
       "aggData": [],
       "aggError": "",
       "aggOverflow": false,
       "aggSchema": [],
       "aggSeriesLimitReached": false,
       "aggType": "",
       "arguments": {},
       "columnCustomDisplayInfos": {},
       "data": [
        [
         "James",
         [
          "Java",
          "Python",
          "Python",
          "Scala"
         ]
        ],
        [
         "Anna",
         [
          "PHP",
          "Javascript",
          "PHP",
          "HTML"
         ]
        ],
        [
         "Maria",
         [
          "Java",
          "C++"
         ]
        ]
       ],
       "datasetInfos": [],
       "dbfsResultPath": null,
       "isJsonSchema": true,
       "metadata": {},
       "overflow": false,
       "plotOptions": {
        "customPlotOptions": {},
        "displayType": "table",
        "pivotAggregation": null,
        "pivotColumns": null,
        "xColumns": null,
        "yColumns": null
       },
       "removedWidgets": [],
       "schema": [
        {
         "metadata": "{}",
         "name": "name",
         "type": "\"string\""
        },
        {
         "metadata": "{}",
         "name": "languages",
         "type": "{\"type\":\"array\",\"elementType\":\"string\",\"containsNull\":true}"
        }
       ],
       "type": "table"
      }
     },
     "output_type": "display_data"
    }
   ],
   "source": [
    " # Assuming you have a DataFrame named 'input_df' with the provided structure\n",
    " data = [(\"James\", ['Java', 'Python', 'Python', 'Scala']),\n",
    "         (\"Anna\", ['PHP', 'Javascript', 'PHP', 'HTML']),\n",
    "         (\"Maria\", ['Java', 'C++'])]\n",
    "\n",
    " columns = [\"name\", \"languages\"]\n",
    "\n",
    " input_df = spark.createDataFrame(data, columns)\n",
    " display(input_df)"
   ]
  },
  {
   "cell_type": "code",
   "execution_count": 0,
   "metadata": {
    "application/vnd.databricks.v1+cell": {
     "cellMetadata": {
      "byteLimit": 2048000,
      "rowLimit": 10000
     },
     "inputWidgets": {},
     "nuid": "56700051-c3ea-4706-baa2-2b3dccba9dad",
     "showTitle": false,
     "tableResultSettingsMap": {},
     "title": ""
    }
   },
   "outputs": [
    {
     "output_type": "display_data",
     "data": {
      "text/html": [
       "<style scoped>\n",
       "  .table-result-container {\n",
       "    max-height: 300px;\n",
       "    overflow: auto;\n",
       "  }\n",
       "  table, th, td {\n",
       "    border: 1px solid black;\n",
       "    border-collapse: collapse;\n",
       "  }\n",
       "  th, td {\n",
       "    padding: 5px;\n",
       "  }\n",
       "  th {\n",
       "    text-align: left;\n",
       "  }\n",
       "</style><div class='table-result-container'><table class='table-result'><thead style='background-color: white'><tr><th>name</th><th>language</th></tr></thead><tbody><tr><td>James</td><td>Java</td></tr><tr><td>James</td><td>Python</td></tr><tr><td>James</td><td>Python</td></tr><tr><td>James</td><td>Scala</td></tr><tr><td>Anna</td><td>PHP</td></tr><tr><td>Anna</td><td>Javascript</td></tr><tr><td>Anna</td><td>PHP</td></tr><tr><td>Anna</td><td>HTML</td></tr><tr><td>Maria</td><td>Java</td></tr><tr><td>Maria</td><td>C++</td></tr></tbody></table></div>"
      ]
     },
     "metadata": {
      "application/vnd.databricks.v1+output": {
       "addedWidgets": {},
       "aggData": [],
       "aggError": "",
       "aggOverflow": false,
       "aggSchema": [],
       "aggSeriesLimitReached": false,
       "aggType": "",
       "arguments": {},
       "columnCustomDisplayInfos": {},
       "data": [
        [
         "James",
         "Java"
        ],
        [
         "James",
         "Python"
        ],
        [
         "James",
         "Python"
        ],
        [
         "James",
         "Scala"
        ],
        [
         "Anna",
         "PHP"
        ],
        [
         "Anna",
         "Javascript"
        ],
        [
         "Anna",
         "PHP"
        ],
        [
         "Anna",
         "HTML"
        ],
        [
         "Maria",
         "Java"
        ],
        [
         "Maria",
         "C++"
        ]
       ],
       "datasetInfos": [],
       "dbfsResultPath": null,
       "isJsonSchema": true,
       "metadata": {},
       "overflow": false,
       "plotOptions": {
        "customPlotOptions": {},
        "displayType": "table",
        "pivotAggregation": null,
        "pivotColumns": null,
        "xColumns": null,
        "yColumns": null
       },
       "removedWidgets": [],
       "schema": [
        {
         "metadata": "{}",
         "name": "name",
         "type": "\"string\""
        },
        {
         "metadata": "{}",
         "name": "language",
         "type": "\"string\""
        }
       ],
       "type": "table"
      }
     },
     "output_type": "display_data"
    }
   ],
   "source": [
    " from pyspark.sql.functions import explode\n",
    " # Explode the 'languages' array column and select 'name' along with the exploded 'languages'\n",
    " output_df = input_df.select(\"name\", explode(\"languages\").alias(\"language\"))\n",
    " display(output_df)"
   ]
  },
  {
   "cell_type": "code",
   "execution_count": 0,
   "metadata": {
    "application/vnd.databricks.v1+cell": {
     "cellMetadata": {
      "byteLimit": 2048000,
      "rowLimit": 10000
     },
     "inputWidgets": {},
     "nuid": "f1275819-205b-4466-883f-880112df69c7",
     "showTitle": false,
     "tableResultSettingsMap": {},
     "title": ""
    }
   },
   "outputs": [
    {
     "output_type": "display_data",
     "data": {
      "text/html": [
       "<style scoped>\n",
       "  .table-result-container {\n",
       "    max-height: 300px;\n",
       "    overflow: auto;\n",
       "  }\n",
       "  table, th, td {\n",
       "    border: 1px solid black;\n",
       "    border-collapse: collapse;\n",
       "  }\n",
       "  th, td {\n",
       "    padding: 5px;\n",
       "  }\n",
       "  th {\n",
       "    text-align: left;\n",
       "  }\n",
       "</style><div class='table-result-container'><table class='table-result'><thead style='background-color: white'><tr><th>_1</th><th>_2</th></tr></thead><tbody><tr><td>James</td><td>Java</td></tr><tr><td>James</td><td>Python</td></tr><tr><td>James</td><td>Python</td></tr><tr><td>James</td><td>Scala</td></tr><tr><td>Anna</td><td>PHP</td></tr><tr><td>Anna</td><td>Javascript</td></tr><tr><td>Anna</td><td>PHP</td></tr><tr><td>Anna</td><td>HTML</td></tr><tr><td>Maria</td><td>Java</td></tr><tr><td>Maria</td><td>C++</td></tr></tbody></table></div>"
      ]
     },
     "metadata": {
      "application/vnd.databricks.v1+output": {
       "addedWidgets": {},
       "aggData": [],
       "aggError": "",
       "aggOverflow": false,
       "aggSchema": [],
       "aggSeriesLimitReached": false,
       "aggType": "",
       "arguments": {},
       "columnCustomDisplayInfos": {},
       "data": [
        [
         "James",
         "Java"
        ],
        [
         "James",
         "Python"
        ],
        [
         "James",
         "Python"
        ],
        [
         "James",
         "Scala"
        ],
        [
         "Anna",
         "PHP"
        ],
        [
         "Anna",
         "Javascript"
        ],
        [
         "Anna",
         "PHP"
        ],
        [
         "Anna",
         "HTML"
        ],
        [
         "Maria",
         "Java"
        ],
        [
         "Maria",
         "C++"
        ]
       ],
       "datasetInfos": [],
       "dbfsResultPath": null,
       "isJsonSchema": true,
       "metadata": {},
       "overflow": false,
       "plotOptions": {
        "customPlotOptions": {},
        "displayType": "table",
        "pivotAggregation": null,
        "pivotColumns": null,
        "xColumns": null,
        "yColumns": null
       },
       "removedWidgets": [],
       "schema": [
        {
         "metadata": "{}",
         "name": "_1",
         "type": "\"string\""
        },
        {
         "metadata": "{}",
         "name": "_2",
         "type": "\"string\""
        }
       ],
       "type": "table"
      }
     },
     "output_type": "display_data"
    }
   ],
   "source": [
    " # Show the result as a list of tuples\n",
    " result = output_df.rdd.map(lambda row: (row.name, row.language)).collect()\n",
    "\n",
    " # Display the result\n",
    " display(result)"
   ]
  }
 ],
 "metadata": {
  "application/vnd.databricks.v1+notebook": {
   "computePreferences": null,
   "dashboards": [],
   "environmentMetadata": null,
   "language": "python",
   "notebookMetadata": {
    "pythonIndentUnit": 4
   },
   "notebookName": "11_How to explode array",
   "widgets": {}
  }
 },
 "nbformat": 4,
 "nbformat_minor": 0
}
