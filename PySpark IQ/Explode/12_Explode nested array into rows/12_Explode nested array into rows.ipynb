{
 "cells": [
  {
   "cell_type": "markdown",
   "metadata": {
    "application/vnd.databricks.v1+cell": {
     "cellMetadata": {
      "byteLimit": 2048000,
      "rowLimit": 10000
     },
     "inputWidgets": {},
     "nuid": "abda0733-c401-4738-955b-29eebad1eea5",
     "showTitle": false,
     "tableResultSettingsMap": {},
     "title": ""
    }
   },
   "source": [
    "**Q) How to Explode nested array into rows?**"
   ]
  },
  {
   "cell_type": "code",
   "execution_count": 0,
   "metadata": {
    "application/vnd.databricks.v1+cell": {
     "cellMetadata": {
      "byteLimit": 2048000,
      "rowLimit": 10000
     },
     "inputWidgets": {},
     "nuid": "dc785792-819c-4dae-aab8-9f48673ee91a",
     "showTitle": false,
     "tableResultSettingsMap": {},
     "title": ""
    }
   },
   "outputs": [
    {
     "output_type": "display_data",
     "data": {
      "text/html": [
       "<style scoped>\n",
       "  .table-result-container {\n",
       "    max-height: 300px;\n",
       "    overflow: auto;\n",
       "  }\n",
       "  table, th, td {\n",
       "    border: 1px solid black;\n",
       "    border-collapse: collapse;\n",
       "  }\n",
       "  th, td {\n",
       "    padding: 5px;\n",
       "  }\n",
       "  th {\n",
       "    text-align: left;\n",
       "  }\n",
       "</style><div class='table-result-container'><table class='table-result'><thead style='background-color: white'><tr><th>EmpName</th><th>Technology</th></tr></thead><tbody><tr><td>Revanth</td><td>List(List(ADF, Spark, ADB), List(ETL, Devops, null), List(SQL, null))</td></tr><tr><td>Reshma</td><td>List(List(SSMS, null, Salesforce), List(SAP, ERP, null))</td></tr><tr><td>Raashi</td><td>List(List(PythonVB, null), List(C++, GitHub, Git))</td></tr><tr><td>Krishna</td><td>List(List(SHELL, DRG), List(JAVA, null))</td></tr><tr><td>Sudarshan</td><td>null</td></tr><tr><td>Kamal</td><td>List()</td></tr></tbody></table></div>"
      ]
     },
     "metadata": {
      "application/vnd.databricks.v1+output": {
       "addedWidgets": {},
       "aggData": [],
       "aggError": "",
       "aggOverflow": false,
       "aggSchema": [],
       "aggSeriesLimitReached": false,
       "aggType": "",
       "arguments": {},
       "columnCustomDisplayInfos": {},
       "data": [
        [
         "Revanth",
         [
          [
           "ADF",
           "Spark",
           "ADB"
          ],
          [
           "ETL",
           "Devops",
           null
          ],
          [
           "SQL",
           null
          ]
         ]
        ],
        [
         "Reshma",
         [
          [
           "SSMS",
           null,
           "Salesforce"
          ],
          [
           "SAP",
           "ERP",
           null
          ]
         ]
        ],
        [
         "Raashi",
         [
          [
           "PythonVB",
           null
          ],
          [
           "C++",
           "GitHub",
           "Git"
          ]
         ]
        ],
        [
         "Krishna",
         [
          [
           "SHELL",
           "DRG"
          ],
          [
           "JAVA",
           null
          ]
         ]
        ],
        [
         "Sudarshan",
         null
        ],
        [
         "Kamal",
         []
        ]
       ],
       "datasetInfos": [],
       "dbfsResultPath": null,
       "isJsonSchema": true,
       "metadata": {},
       "overflow": false,
       "plotOptions": {
        "customPlotOptions": {},
        "displayType": "table",
        "pivotAggregation": null,
        "pivotColumns": null,
        "xColumns": null,
        "yColumns": null
       },
       "removedWidgets": [],
       "schema": [
        {
         "metadata": "{}",
         "name": "EmpName",
         "type": "\"string\""
        },
        {
         "metadata": "{}",
         "name": "Technology",
         "type": "{\"type\":\"array\",\"elementType\":{\"type\":\"array\",\"elementType\":\"string\",\"containsNull\":true},\"containsNull\":true}"
        }
       ],
       "type": "table"
      }
     },
     "output_type": "display_data"
    },
    {
     "output_type": "stream",
     "name": "stdout",
     "output_type": "stream",
     "text": [
      "root\n |-- EmpName: string (nullable = true)\n |-- Technology: array (nullable = true)\n |    |-- element: array (containsNull = true)\n |    |    |-- element: string (containsNull = true)\n\n"
     ]
    }
   ],
   "source": [
    "from pyspark.sql.functions import col, explode, posexplode, flatten\n",
    "\n",
    "data = [(\"Revanth\", [[\"ADF\", \"Spark\", \"ADB\"], [\"ETL\", \"Devops\", None], [\"SQL\", None]]),\n",
    "        (\"Reshma\", [[\"SSMS\", None, \"Salesforce\"], [\"SAP\", \"ERP\", None]]),\n",
    "        (\"Raashi\", [[\"Python\" \"VB\", None], [\"C++\", \"GitHub\", \"Git\"]]),\n",
    "        (\"Krishna\", [[\"SHELL\", \"DRG\"], [\"JAVA\", None]]),\n",
    "        (\"Sudarshan\", None),\n",
    "        (\"Kamal\", [])\n",
    "       ]\n",
    "\n",
    "columns = [\"EmpName\", \"Technology\"]\n",
    "\n",
    "df = spark.createDataFrame(data=data, schema=columns)\n",
    "display(df)\n",
    "df.printSchema()"
   ]
  },
  {
   "cell_type": "markdown",
   "metadata": {
    "application/vnd.databricks.v1+cell": {
     "cellMetadata": {},
     "inputWidgets": {},
     "nuid": "74b6eef1-791a-40c3-8814-fe6c91512d17",
     "showTitle": false,
     "tableResultSettingsMap": {},
     "title": ""
    }
   },
   "source": [
    "**Method 01**: Flatten | Explode"
   ]
  },
  {
   "cell_type": "markdown",
   "metadata": {
    "application/vnd.databricks.v1+cell": {
     "cellMetadata": {},
     "inputWidgets": {},
     "nuid": "78a7b1c9-8a19-47e4-9318-d7be168df7d2",
     "showTitle": false,
     "tableResultSettingsMap": {},
     "title": ""
    }
   },
   "source": [
    "     df1 = df.select(col(\"EmpName\"), posexplode(col(\"Technology\")).alias('pos', 'CoreTechnology'))\\\n",
    "             .withColumnRenamed(\"pos\", \"Index\")\n",
    "                        (or)\n",
    "     df1 = df.select(col(\"EmpName\"), posexplode(col(\"Technology\")))\\\n",
    "             .withColumnRenamed(\"col\", \"CoreTechnology\")\\\n",
    "             .withColumnRenamed(\"pos\", \"Index\")                    "
   ]
  },
  {
   "cell_type": "code",
   "execution_count": 0,
   "metadata": {
    "application/vnd.databricks.v1+cell": {
     "cellMetadata": {
      "byteLimit": 2048000,
      "rowLimit": 10000
     },
     "inputWidgets": {},
     "nuid": "b1b31b76-25b1-46d9-89b9-ad7fb25659e0",
     "showTitle": false,
     "tableResultSettingsMap": {},
     "title": ""
    }
   },
   "outputs": [
    {
     "output_type": "display_data",
     "data": {
      "text/html": [
       "<style scoped>\n",
       "  .table-result-container {\n",
       "    max-height: 300px;\n",
       "    overflow: auto;\n",
       "  }\n",
       "  table, th, td {\n",
       "    border: 1px solid black;\n",
       "    border-collapse: collapse;\n",
       "  }\n",
       "  th, td {\n",
       "    padding: 5px;\n",
       "  }\n",
       "  th {\n",
       "    text-align: left;\n",
       "  }\n",
       "</style><div class='table-result-container'><table class='table-result'><thead style='background-color: white'><tr><th>EmpName</th><th>Index</th><th>CoreTechnology</th></tr></thead><tbody><tr><td>Revanth</td><td>0</td><td>List(ADF, Spark, ADB)</td></tr><tr><td>Revanth</td><td>1</td><td>List(ETL, Devops, null)</td></tr><tr><td>Revanth</td><td>2</td><td>List(SQL, null)</td></tr><tr><td>Reshma</td><td>0</td><td>List(SSMS, null, Salesforce)</td></tr><tr><td>Reshma</td><td>1</td><td>List(SAP, ERP, null)</td></tr><tr><td>Raashi</td><td>0</td><td>List(PythonVB, null)</td></tr><tr><td>Raashi</td><td>1</td><td>List(C++, GitHub, Git)</td></tr><tr><td>Krishna</td><td>0</td><td>List(SHELL, DRG)</td></tr><tr><td>Krishna</td><td>1</td><td>List(JAVA, null)</td></tr></tbody></table></div>"
      ]
     },
     "metadata": {
      "application/vnd.databricks.v1+output": {
       "addedWidgets": {},
       "aggData": [],
       "aggError": "",
       "aggOverflow": false,
       "aggSchema": [],
       "aggSeriesLimitReached": false,
       "aggType": "",
       "arguments": {},
       "columnCustomDisplayInfos": {},
       "data": [
        [
         "Revanth",
         0,
         [
          "ADF",
          "Spark",
          "ADB"
         ]
        ],
        [
         "Revanth",
         1,
         [
          "ETL",
          "Devops",
          null
         ]
        ],
        [
         "Revanth",
         2,
         [
          "SQL",
          null
         ]
        ],
        [
         "Reshma",
         0,
         [
          "SSMS",
          null,
          "Salesforce"
         ]
        ],
        [
         "Reshma",
         1,
         [
          "SAP",
          "ERP",
          null
         ]
        ],
        [
         "Raashi",
         0,
         [
          "PythonVB",
          null
         ]
        ],
        [
         "Raashi",
         1,
         [
          "C++",
          "GitHub",
          "Git"
         ]
        ],
        [
         "Krishna",
         0,
         [
          "SHELL",
          "DRG"
         ]
        ],
        [
         "Krishna",
         1,
         [
          "JAVA",
          null
         ]
        ]
       ],
       "datasetInfos": [],
       "dbfsResultPath": null,
       "isJsonSchema": true,
       "metadata": {},
       "overflow": false,
       "plotOptions": {
        "customPlotOptions": {},
        "displayType": "table",
        "pivotAggregation": null,
        "pivotColumns": null,
        "xColumns": null,
        "yColumns": null
       },
       "removedWidgets": [],
       "schema": [
        {
         "metadata": "{}",
         "name": "EmpName",
         "type": "\"string\""
        },
        {
         "metadata": "{}",
         "name": "Index",
         "type": "\"integer\""
        },
        {
         "metadata": "{}",
         "name": "CoreTechnology",
         "type": "{\"type\":\"array\",\"elementType\":\"string\",\"containsNull\":true}"
        }
       ],
       "type": "table"
      }
     },
     "output_type": "display_data"
    }
   ],
   "source": [
    "df1 = df.select(col(\"EmpName\"), posexplode(col(\"Technology\")).alias('pos', 'CoreTechnology'))\\\n",
    "        .withColumnRenamed(\"pos\", \"Index\")\n",
    "display(df1)"
   ]
  },
  {
   "cell_type": "markdown",
   "metadata": {
    "application/vnd.databricks.v1+cell": {
     "cellMetadata": {
      "byteLimit": 2048000,
      "rowLimit": 10000
     },
     "inputWidgets": {},
     "nuid": "e63d281f-46af-467c-9edb-3420da51ef72",
     "showTitle": false,
     "tableResultSettingsMap": {},
     "title": ""
    }
   },
   "source": [
    "- but we would end up with this dataframe, which we have **1 row per array**. That's not exactly what we want... we are trying to obtain **1 row per element for each one of the names**."
   ]
  },
  {
   "cell_type": "code",
   "execution_count": 0,
   "metadata": {
    "application/vnd.databricks.v1+cell": {
     "cellMetadata": {
      "byteLimit": 2048000,
      "rowLimit": 10000
     },
     "inputWidgets": {},
     "nuid": "6ffdb6b4-d212-4d8e-a27b-d6be27e90a12",
     "showTitle": false,
     "tableResultSettingsMap": {},
     "title": ""
    }
   },
   "outputs": [
    {
     "output_type": "display_data",
     "data": {
      "text/html": [
       "<style scoped>\n",
       "  .table-result-container {\n",
       "    max-height: 300px;\n",
       "    overflow: auto;\n",
       "  }\n",
       "  table, th, td {\n",
       "    border: 1px solid black;\n",
       "    border-collapse: collapse;\n",
       "  }\n",
       "  th, td {\n",
       "    padding: 5px;\n",
       "  }\n",
       "  th {\n",
       "    text-align: left;\n",
       "  }\n",
       "</style><div class='table-result-container'><table class='table-result'><thead style='background-color: white'><tr><th>EmpName</th><th>CoreTechnology</th></tr></thead><tbody><tr><td>Revanth</td><td>List(ADF, Spark, ADB, ETL, Devops, null, SQL, null)</td></tr><tr><td>Reshma</td><td>List(SSMS, null, Salesforce, SAP, ERP, null)</td></tr><tr><td>Raashi</td><td>List(PythonVB, null, C++, GitHub, Git)</td></tr><tr><td>Krishna</td><td>List(SHELL, DRG, JAVA, null)</td></tr><tr><td>Sudarshan</td><td>null</td></tr><tr><td>Kamal</td><td>List()</td></tr></tbody></table></div>"
      ]
     },
     "metadata": {
      "application/vnd.databricks.v1+output": {
       "addedWidgets": {},
       "aggData": [],
       "aggError": "",
       "aggOverflow": false,
       "aggSchema": [],
       "aggSeriesLimitReached": false,
       "aggType": "",
       "arguments": {},
       "columnCustomDisplayInfos": {},
       "data": [
        [
         "Revanth",
         [
          "ADF",
          "Spark",
          "ADB",
          "ETL",
          "Devops",
          null,
          "SQL",
          null
         ]
        ],
        [
         "Reshma",
         [
          "SSMS",
          null,
          "Salesforce",
          "SAP",
          "ERP",
          null
         ]
        ],
        [
         "Raashi",
         [
          "PythonVB",
          null,
          "C++",
          "GitHub",
          "Git"
         ]
        ],
        [
         "Krishna",
         [
          "SHELL",
          "DRG",
          "JAVA",
          null
         ]
        ],
        [
         "Sudarshan",
         null
        ],
        [
         "Kamal",
         []
        ]
       ],
       "datasetInfos": [],
       "dbfsResultPath": null,
       "isJsonSchema": true,
       "metadata": {},
       "overflow": false,
       "plotOptions": {
        "customPlotOptions": {},
        "displayType": "table",
        "pivotAggregation": null,
        "pivotColumns": null,
        "xColumns": null,
        "yColumns": null
       },
       "removedWidgets": [],
       "schema": [
        {
         "metadata": "{}",
         "name": "EmpName",
         "type": "\"string\""
        },
        {
         "metadata": "{}",
         "name": "CoreTechnology",
         "type": "{\"type\":\"array\",\"elementType\":\"string\",\"containsNull\":true}"
        }
       ],
       "type": "table"
      }
     },
     "output_type": "display_data"
    }
   ],
   "source": [
    "df2 = df.select(col(\"EmpName\"), flatten(col(\"Technology\")).alias('CoreTechnology'))\n",
    "display(df2)"
   ]
  },
  {
   "cell_type": "markdown",
   "metadata": {
    "application/vnd.databricks.v1+cell": {
     "cellMetadata": {
      "byteLimit": 2048000,
      "rowLimit": 10000
     },
     "inputWidgets": {},
     "nuid": "0388a358-58b4-4d29-b2a7-f7ba77fd8ec8",
     "showTitle": false,
     "tableResultSettingsMap": {},
     "title": ""
    }
   },
   "source": [
    "- It will generate a dataframe like this one bellow. Now we have **all the elements, in a singles array per row**."
   ]
  },
  {
   "cell_type": "markdown",
   "metadata": {
    "application/vnd.databricks.v1+cell": {
     "cellMetadata": {},
     "inputWidgets": {},
     "nuid": "a293a8ad-bdfe-4ae6-8005-2e25f7c0cbab",
     "showTitle": false,
     "tableResultSettingsMap": {},
     "title": ""
    }
   },
   "source": [
    "     df3 = df2.select(col(\"EmpName\"), posexplode(col(\"CoreTechnology\")))\\\n",
    "              .withColumnRenamed(\"col\", \"FlattenTechnology\")\\\n",
    "              .withColumnRenamed(\"pos\", \"Index\")\n",
    "                             (or)\n",
    "     df3 = df2.select(col(\"EmpName\"), posexplode(col(\"CoreTechnology\")).alias('pos', 'FlattenTechnology'))\\\n",
    "              .withColumnRenamed(\"pos\", \"Index\")\n",
    "                             (or)\n",
    "     df3 = df2.withColumn(\"CoreTechnology\", explode(col(\"CoreTechnology\")).alias('FlattenTechnology'))"
   ]
  },
  {
   "cell_type": "code",
   "execution_count": 0,
   "metadata": {
    "application/vnd.databricks.v1+cell": {
     "cellMetadata": {
      "byteLimit": 2048000,
      "rowLimit": 10000
     },
     "inputWidgets": {},
     "nuid": "6ce894ea-4d7b-4428-a4db-d68ec11a3003",
     "showTitle": false,
     "tableResultSettingsMap": {},
     "title": ""
    }
   },
   "outputs": [
    {
     "output_type": "display_data",
     "data": {
      "text/html": [
       "<style scoped>\n",
       "  .table-result-container {\n",
       "    max-height: 300px;\n",
       "    overflow: auto;\n",
       "  }\n",
       "  table, th, td {\n",
       "    border: 1px solid black;\n",
       "    border-collapse: collapse;\n",
       "  }\n",
       "  th, td {\n",
       "    padding: 5px;\n",
       "  }\n",
       "  th {\n",
       "    text-align: left;\n",
       "  }\n",
       "</style><div class='table-result-container'><table class='table-result'><thead style='background-color: white'><tr><th>EmpName</th><th>Index</th><th>FlattenTechnology</th></tr></thead><tbody><tr><td>Revanth</td><td>0</td><td>ADF</td></tr><tr><td>Revanth</td><td>1</td><td>Spark</td></tr><tr><td>Revanth</td><td>2</td><td>ADB</td></tr><tr><td>Revanth</td><td>3</td><td>ETL</td></tr><tr><td>Revanth</td><td>4</td><td>Devops</td></tr><tr><td>Revanth</td><td>5</td><td>null</td></tr><tr><td>Revanth</td><td>6</td><td>SQL</td></tr><tr><td>Revanth</td><td>7</td><td>null</td></tr><tr><td>Reshma</td><td>0</td><td>SSMS</td></tr><tr><td>Reshma</td><td>1</td><td>null</td></tr><tr><td>Reshma</td><td>2</td><td>Salesforce</td></tr><tr><td>Reshma</td><td>3</td><td>SAP</td></tr><tr><td>Reshma</td><td>4</td><td>ERP</td></tr><tr><td>Reshma</td><td>5</td><td>null</td></tr><tr><td>Raashi</td><td>0</td><td>PythonVB</td></tr><tr><td>Raashi</td><td>1</td><td>null</td></tr><tr><td>Raashi</td><td>2</td><td>C++</td></tr><tr><td>Raashi</td><td>3</td><td>GitHub</td></tr><tr><td>Raashi</td><td>4</td><td>Git</td></tr><tr><td>Krishna</td><td>0</td><td>SHELL</td></tr><tr><td>Krishna</td><td>1</td><td>DRG</td></tr><tr><td>Krishna</td><td>2</td><td>JAVA</td></tr><tr><td>Krishna</td><td>3</td><td>null</td></tr></tbody></table></div>"
      ]
     },
     "metadata": {
      "application/vnd.databricks.v1+output": {
       "addedWidgets": {},
       "aggData": [],
       "aggError": "",
       "aggOverflow": false,
       "aggSchema": [],
       "aggSeriesLimitReached": false,
       "aggType": "",
       "arguments": {},
       "columnCustomDisplayInfos": {},
       "data": [
        [
         "Revanth",
         0,
         "ADF"
        ],
        [
         "Revanth",
         1,
         "Spark"
        ],
        [
         "Revanth",
         2,
         "ADB"
        ],
        [
         "Revanth",
         3,
         "ETL"
        ],
        [
         "Revanth",
         4,
         "Devops"
        ],
        [
         "Revanth",
         5,
         null
        ],
        [
         "Revanth",
         6,
         "SQL"
        ],
        [
         "Revanth",
         7,
         null
        ],
        [
         "Reshma",
         0,
         "SSMS"
        ],
        [
         "Reshma",
         1,
         null
        ],
        [
         "Reshma",
         2,
         "Salesforce"
        ],
        [
         "Reshma",
         3,
         "SAP"
        ],
        [
         "Reshma",
         4,
         "ERP"
        ],
        [
         "Reshma",
         5,
         null
        ],
        [
         "Raashi",
         0,
         "PythonVB"
        ],
        [
         "Raashi",
         1,
         null
        ],
        [
         "Raashi",
         2,
         "C++"
        ],
        [
         "Raashi",
         3,
         "GitHub"
        ],
        [
         "Raashi",
         4,
         "Git"
        ],
        [
         "Krishna",
         0,
         "SHELL"
        ],
        [
         "Krishna",
         1,
         "DRG"
        ],
        [
         "Krishna",
         2,
         "JAVA"
        ],
        [
         "Krishna",
         3,
         null
        ]
       ],
       "datasetInfos": [],
       "dbfsResultPath": null,
       "isJsonSchema": true,
       "metadata": {},
       "overflow": false,
       "plotOptions": {
        "customPlotOptions": {},
        "displayType": "table",
        "pivotAggregation": null,
        "pivotColumns": null,
        "xColumns": null,
        "yColumns": null
       },
       "removedWidgets": [],
       "schema": [
        {
         "metadata": "{}",
         "name": "EmpName",
         "type": "\"string\""
        },
        {
         "metadata": "{}",
         "name": "Index",
         "type": "\"integer\""
        },
        {
         "metadata": "{}",
         "name": "FlattenTechnology",
         "type": "\"string\""
        }
       ],
       "type": "table"
      }
     },
     "output_type": "display_data"
    }
   ],
   "source": [
    "df3 = df2.select(col(\"EmpName\"), posexplode(col(\"CoreTechnology\")))\\\n",
    "         .withColumnRenamed(\"col\", \"FlattenTechnology\")\\\n",
    "         .withColumnRenamed(\"pos\", \"Index\")\n",
    "display(df3)"
   ]
  },
  {
   "cell_type": "markdown",
   "metadata": {
    "application/vnd.databricks.v1+cell": {
     "cellMetadata": {},
     "inputWidgets": {},
     "nuid": "f46995cd-928f-4866-82b4-bd71513d51fe",
     "showTitle": false,
     "tableResultSettingsMap": {},
     "title": ""
    }
   },
   "source": [
    "**Method 02**: Explode | Explode"
   ]
  },
  {
   "cell_type": "markdown",
   "metadata": {
    "application/vnd.databricks.v1+cell": {
     "cellMetadata": {},
     "inputWidgets": {},
     "nuid": "6c777209-9c3e-40ea-98c6-2798781d8258",
     "showTitle": false,
     "tableResultSettingsMap": {},
     "title": ""
    }
   },
   "source": [
    "#### **a) SELECT**"
   ]
  },
  {
   "cell_type": "code",
   "execution_count": 0,
   "metadata": {
    "application/vnd.databricks.v1+cell": {
     "cellMetadata": {
      "byteLimit": 2048000,
      "rowLimit": 10000
     },
     "inputWidgets": {},
     "nuid": "6718df2c-b4a8-48a0-8f2c-cc3c4508d9af",
     "showTitle": false,
     "tableResultSettingsMap": {},
     "title": ""
    }
   },
   "outputs": [
    {
     "output_type": "display_data",
     "data": {
      "text/html": [
       "<style scoped>\n",
       "  .table-result-container {\n",
       "    max-height: 300px;\n",
       "    overflow: auto;\n",
       "  }\n",
       "  table, th, td {\n",
       "    border: 1px solid black;\n",
       "    border-collapse: collapse;\n",
       "  }\n",
       "  th, td {\n",
       "    padding: 5px;\n",
       "  }\n",
       "  th {\n",
       "    text-align: left;\n",
       "  }\n",
       "</style><div class='table-result-container'><table class='table-result'><thead style='background-color: white'><tr><th>EmpName</th><th>Technology</th><th>New_Tech</th></tr></thead><tbody><tr><td>Revanth</td><td>List(List(ADF, Spark, ADB), List(ETL, Devops, null), List(SQL, null))</td><td>List(ADF, Spark, ADB)</td></tr><tr><td>Revanth</td><td>List(List(ADF, Spark, ADB), List(ETL, Devops, null), List(SQL, null))</td><td>List(ETL, Devops, null)</td></tr><tr><td>Revanth</td><td>List(List(ADF, Spark, ADB), List(ETL, Devops, null), List(SQL, null))</td><td>List(SQL, null)</td></tr><tr><td>Reshma</td><td>List(List(SSMS, null, Salesforce), List(SAP, ERP, null))</td><td>List(SSMS, null, Salesforce)</td></tr><tr><td>Reshma</td><td>List(List(SSMS, null, Salesforce), List(SAP, ERP, null))</td><td>List(SAP, ERP, null)</td></tr><tr><td>Raashi</td><td>List(List(PythonVB, null), List(C++, GitHub, Git))</td><td>List(PythonVB, null)</td></tr><tr><td>Raashi</td><td>List(List(PythonVB, null), List(C++, GitHub, Git))</td><td>List(C++, GitHub, Git)</td></tr><tr><td>Krishna</td><td>List(List(SHELL, DRG), List(JAVA, null))</td><td>List(SHELL, DRG)</td></tr><tr><td>Krishna</td><td>List(List(SHELL, DRG), List(JAVA, null))</td><td>List(JAVA, null)</td></tr></tbody></table></div>"
      ]
     },
     "metadata": {
      "application/vnd.databricks.v1+output": {
       "addedWidgets": {},
       "aggData": [],
       "aggError": "",
       "aggOverflow": false,
       "aggSchema": [],
       "aggSeriesLimitReached": false,
       "aggType": "",
       "arguments": {},
       "columnCustomDisplayInfos": {},
       "data": [
        [
         "Revanth",
         [
          [
           "ADF",
           "Spark",
           "ADB"
          ],
          [
           "ETL",
           "Devops",
           null
          ],
          [
           "SQL",
           null
          ]
         ],
         [
          "ADF",
          "Spark",
          "ADB"
         ]
        ],
        [
         "Revanth",
         [
          [
           "ADF",
           "Spark",
           "ADB"
          ],
          [
           "ETL",
           "Devops",
           null
          ],
          [
           "SQL",
           null
          ]
         ],
         [
          "ETL",
          "Devops",
          null
         ]
        ],
        [
         "Revanth",
         [
          [
           "ADF",
           "Spark",
           "ADB"
          ],
          [
           "ETL",
           "Devops",
           null
          ],
          [
           "SQL",
           null
          ]
         ],
         [
          "SQL",
          null
         ]
        ],
        [
         "Reshma",
         [
          [
           "SSMS",
           null,
           "Salesforce"
          ],
          [
           "SAP",
           "ERP",
           null
          ]
         ],
         [
          "SSMS",
          null,
          "Salesforce"
         ]
        ],
        [
         "Reshma",
         [
          [
           "SSMS",
           null,
           "Salesforce"
          ],
          [
           "SAP",
           "ERP",
           null
          ]
         ],
         [
          "SAP",
          "ERP",
          null
         ]
        ],
        [
         "Raashi",
         [
          [
           "PythonVB",
           null
          ],
          [
           "C++",
           "GitHub",
           "Git"
          ]
         ],
         [
          "PythonVB",
          null
         ]
        ],
        [
         "Raashi",
         [
          [
           "PythonVB",
           null
          ],
          [
           "C++",
           "GitHub",
           "Git"
          ]
         ],
         [
          "C++",
          "GitHub",
          "Git"
         ]
        ],
        [
         "Krishna",
         [
          [
           "SHELL",
           "DRG"
          ],
          [
           "JAVA",
           null
          ]
         ],
         [
          "SHELL",
          "DRG"
         ]
        ],
        [
         "Krishna",
         [
          [
           "SHELL",
           "DRG"
          ],
          [
           "JAVA",
           null
          ]
         ],
         [
          "JAVA",
          null
         ]
        ]
       ],
       "datasetInfos": [],
       "dbfsResultPath": null,
       "isJsonSchema": true,
       "metadata": {},
       "overflow": false,
       "plotOptions": {
        "customPlotOptions": {},
        "displayType": "table",
        "pivotAggregation": null,
        "pivotColumns": null,
        "xColumns": null,
        "yColumns": null
       },
       "removedWidgets": [],
       "schema": [
        {
         "metadata": "{}",
         "name": "EmpName",
         "type": "\"string\""
        },
        {
         "metadata": "{}",
         "name": "Technology",
         "type": "{\"type\":\"array\",\"elementType\":{\"type\":\"array\",\"elementType\":\"string\",\"containsNull\":true},\"containsNull\":true}"
        },
        {
         "metadata": "{}",
         "name": "New_Tech",
         "type": "{\"type\":\"array\",\"elementType\":\"string\",\"containsNull\":true}"
        }
       ],
       "type": "table"
      }
     },
     "output_type": "display_data"
    }
   ],
   "source": [
    "dff = df.select(\"*\", explode(col(\"Technology\"))).withColumnRenamed(\"col\", \"New_Tech\")\n",
    "display(dff)"
   ]
  },
  {
   "cell_type": "code",
   "execution_count": 0,
   "metadata": {
    "application/vnd.databricks.v1+cell": {
     "cellMetadata": {
      "byteLimit": 2048000,
      "rowLimit": 10000
     },
     "inputWidgets": {},
     "nuid": "bddd167c-76f6-4b87-b5bd-5b3e93d2d370",
     "showTitle": false,
     "tableResultSettingsMap": {},
     "title": ""
    }
   },
   "outputs": [
    {
     "output_type": "display_data",
     "data": {
      "text/html": [
       "<style scoped>\n",
       "  .table-result-container {\n",
       "    max-height: 300px;\n",
       "    overflow: auto;\n",
       "  }\n",
       "  table, th, td {\n",
       "    border: 1px solid black;\n",
       "    border-collapse: collapse;\n",
       "  }\n",
       "  th, td {\n",
       "    padding: 5px;\n",
       "  }\n",
       "  th {\n",
       "    text-align: left;\n",
       "  }\n",
       "</style><div class='table-result-container'><table class='table-result'><thead style='background-color: white'><tr><th>EmpName</th><th>Final_Tech</th></tr></thead><tbody><tr><td>Revanth</td><td>ADF</td></tr><tr><td>Revanth</td><td>Spark</td></tr><tr><td>Revanth</td><td>ADB</td></tr><tr><td>Revanth</td><td>ETL</td></tr><tr><td>Revanth</td><td>Devops</td></tr><tr><td>Revanth</td><td>null</td></tr><tr><td>Revanth</td><td>SQL</td></tr><tr><td>Revanth</td><td>null</td></tr><tr><td>Reshma</td><td>SSMS</td></tr><tr><td>Reshma</td><td>null</td></tr><tr><td>Reshma</td><td>Salesforce</td></tr><tr><td>Reshma</td><td>SAP</td></tr><tr><td>Reshma</td><td>ERP</td></tr><tr><td>Reshma</td><td>null</td></tr><tr><td>Raashi</td><td>PythonVB</td></tr><tr><td>Raashi</td><td>null</td></tr><tr><td>Raashi</td><td>C++</td></tr><tr><td>Raashi</td><td>GitHub</td></tr><tr><td>Raashi</td><td>Git</td></tr><tr><td>Krishna</td><td>SHELL</td></tr><tr><td>Krishna</td><td>DRG</td></tr><tr><td>Krishna</td><td>JAVA</td></tr><tr><td>Krishna</td><td>null</td></tr></tbody></table></div>"
      ]
     },
     "metadata": {
      "application/vnd.databricks.v1+output": {
       "addedWidgets": {},
       "aggData": [],
       "aggError": "",
       "aggOverflow": false,
       "aggSchema": [],
       "aggSeriesLimitReached": false,
       "aggType": "",
       "arguments": {},
       "columnCustomDisplayInfos": {},
       "data": [
        [
         "Revanth",
         "ADF"
        ],
        [
         "Revanth",
         "Spark"
        ],
        [
         "Revanth",
         "ADB"
        ],
        [
         "Revanth",
         "ETL"
        ],
        [
         "Revanth",
         "Devops"
        ],
        [
         "Revanth",
         null
        ],
        [
         "Revanth",
         "SQL"
        ],
        [
         "Revanth",
         null
        ],
        [
         "Reshma",
         "SSMS"
        ],
        [
         "Reshma",
         null
        ],
        [
         "Reshma",
         "Salesforce"
        ],
        [
         "Reshma",
         "SAP"
        ],
        [
         "Reshma",
         "ERP"
        ],
        [
         "Reshma",
         null
        ],
        [
         "Raashi",
         "PythonVB"
        ],
        [
         "Raashi",
         null
        ],
        [
         "Raashi",
         "C++"
        ],
        [
         "Raashi",
         "GitHub"
        ],
        [
         "Raashi",
         "Git"
        ],
        [
         "Krishna",
         "SHELL"
        ],
        [
         "Krishna",
         "DRG"
        ],
        [
         "Krishna",
         "JAVA"
        ],
        [
         "Krishna",
         null
        ]
       ],
       "datasetInfos": [],
       "dbfsResultPath": null,
       "isJsonSchema": true,
       "metadata": {},
       "overflow": false,
       "plotOptions": {
        "customPlotOptions": {},
        "displayType": "table",
        "pivotAggregation": null,
        "pivotColumns": null,
        "xColumns": null,
        "yColumns": null
       },
       "removedWidgets": [],
       "schema": [
        {
         "metadata": "{}",
         "name": "EmpName",
         "type": "\"string\""
        },
        {
         "metadata": "{}",
         "name": "Final_Tech",
         "type": "\"string\""
        }
       ],
       "type": "table"
      }
     },
     "output_type": "display_data"
    }
   ],
   "source": [
    "dff = dff.select(\"*\", explode(col(\"New_Tech\"))).drop(\"Technology\", \"New_Tech\")\\\n",
    "         .withColumnRenamed(\"col\", \"Final_Tech\")\n",
    "display(dff)"
   ]
  },
  {
   "cell_type": "markdown",
   "metadata": {
    "application/vnd.databricks.v1+cell": {
     "cellMetadata": {},
     "inputWidgets": {},
     "nuid": "47ea04d1-c843-4e06-aec8-8158a147e839",
     "showTitle": false,
     "tableResultSettingsMap": {},
     "title": ""
    }
   },
   "source": [
    "#### **b) withColumn**"
   ]
  },
  {
   "cell_type": "code",
   "execution_count": 0,
   "metadata": {
    "application/vnd.databricks.v1+cell": {
     "cellMetadata": {
      "byteLimit": 2048000,
      "rowLimit": 10000
     },
     "inputWidgets": {},
     "nuid": "0f5ac48f-1c25-497f-b937-9d2fb54d6d77",
     "showTitle": false,
     "tableResultSettingsMap": {},
     "title": ""
    }
   },
   "outputs": [
    {
     "output_type": "display_data",
     "data": {
      "text/html": [
       "<style scoped>\n",
       "  .table-result-container {\n",
       "    max-height: 300px;\n",
       "    overflow: auto;\n",
       "  }\n",
       "  table, th, td {\n",
       "    border: 1px solid black;\n",
       "    border-collapse: collapse;\n",
       "  }\n",
       "  th, td {\n",
       "    padding: 5px;\n",
       "  }\n",
       "  th {\n",
       "    text-align: left;\n",
       "  }\n",
       "</style><div class='table-result-container'><table class='table-result'><thead style='background-color: white'><tr><th>EmpName</th><th>Technology</th><th>inner_array</th></tr></thead><tbody><tr><td>Revanth</td><td>List(List(ADF, Spark, ADB), List(ETL, Devops, null), List(SQL, null))</td><td>List(ADF, Spark, ADB)</td></tr><tr><td>Revanth</td><td>List(List(ADF, Spark, ADB), List(ETL, Devops, null), List(SQL, null))</td><td>List(ETL, Devops, null)</td></tr><tr><td>Revanth</td><td>List(List(ADF, Spark, ADB), List(ETL, Devops, null), List(SQL, null))</td><td>List(SQL, null)</td></tr><tr><td>Reshma</td><td>List(List(SSMS, null, Salesforce), List(SAP, ERP, null))</td><td>List(SSMS, null, Salesforce)</td></tr><tr><td>Reshma</td><td>List(List(SSMS, null, Salesforce), List(SAP, ERP, null))</td><td>List(SAP, ERP, null)</td></tr><tr><td>Raashi</td><td>List(List(PythonVB, null), List(C++, GitHub, Git))</td><td>List(PythonVB, null)</td></tr><tr><td>Raashi</td><td>List(List(PythonVB, null), List(C++, GitHub, Git))</td><td>List(C++, GitHub, Git)</td></tr><tr><td>Krishna</td><td>List(List(SHELL, DRG), List(JAVA, null))</td><td>List(SHELL, DRG)</td></tr><tr><td>Krishna</td><td>List(List(SHELL, DRG), List(JAVA, null))</td><td>List(JAVA, null)</td></tr></tbody></table></div>"
      ]
     },
     "metadata": {
      "application/vnd.databricks.v1+output": {
       "addedWidgets": {},
       "aggData": [],
       "aggError": "",
       "aggOverflow": false,
       "aggSchema": [],
       "aggSeriesLimitReached": false,
       "aggType": "",
       "arguments": {},
       "columnCustomDisplayInfos": {},
       "data": [
        [
         "Revanth",
         [
          [
           "ADF",
           "Spark",
           "ADB"
          ],
          [
           "ETL",
           "Devops",
           null
          ],
          [
           "SQL",
           null
          ]
         ],
         [
          "ADF",
          "Spark",
          "ADB"
         ]
        ],
        [
         "Revanth",
         [
          [
           "ADF",
           "Spark",
           "ADB"
          ],
          [
           "ETL",
           "Devops",
           null
          ],
          [
           "SQL",
           null
          ]
         ],
         [
          "ETL",
          "Devops",
          null
         ]
        ],
        [
         "Revanth",
         [
          [
           "ADF",
           "Spark",
           "ADB"
          ],
          [
           "ETL",
           "Devops",
           null
          ],
          [
           "SQL",
           null
          ]
         ],
         [
          "SQL",
          null
         ]
        ],
        [
         "Reshma",
         [
          [
           "SSMS",
           null,
           "Salesforce"
          ],
          [
           "SAP",
           "ERP",
           null
          ]
         ],
         [
          "SSMS",
          null,
          "Salesforce"
         ]
        ],
        [
         "Reshma",
         [
          [
           "SSMS",
           null,
           "Salesforce"
          ],
          [
           "SAP",
           "ERP",
           null
          ]
         ],
         [
          "SAP",
          "ERP",
          null
         ]
        ],
        [
         "Raashi",
         [
          [
           "PythonVB",
           null
          ],
          [
           "C++",
           "GitHub",
           "Git"
          ]
         ],
         [
          "PythonVB",
          null
         ]
        ],
        [
         "Raashi",
         [
          [
           "PythonVB",
           null
          ],
          [
           "C++",
           "GitHub",
           "Git"
          ]
         ],
         [
          "C++",
          "GitHub",
          "Git"
         ]
        ],
        [
         "Krishna",
         [
          [
           "SHELL",
           "DRG"
          ],
          [
           "JAVA",
           null
          ]
         ],
         [
          "SHELL",
          "DRG"
         ]
        ],
        [
         "Krishna",
         [
          [
           "SHELL",
           "DRG"
          ],
          [
           "JAVA",
           null
          ]
         ],
         [
          "JAVA",
          null
         ]
        ]
       ],
       "datasetInfos": [],
       "dbfsResultPath": null,
       "isJsonSchema": true,
       "metadata": {},
       "overflow": false,
       "plotOptions": {
        "customPlotOptions": {},
        "displayType": "table",
        "pivotAggregation": null,
        "pivotColumns": null,
        "xColumns": null,
        "yColumns": null
       },
       "removedWidgets": [],
       "schema": [
        {
         "metadata": "{}",
         "name": "EmpName",
         "type": "\"string\""
        },
        {
         "metadata": "{}",
         "name": "Technology",
         "type": "{\"type\":\"array\",\"elementType\":{\"type\":\"array\",\"elementType\":\"string\",\"containsNull\":true},\"containsNull\":true}"
        },
        {
         "metadata": "{}",
         "name": "inner_array",
         "type": "{\"type\":\"array\",\"elementType\":\"string\",\"containsNull\":true}"
        }
       ],
       "type": "table"
      }
     },
     "output_type": "display_data"
    }
   ],
   "source": [
    "# First, explode the outer array\n",
    "df_outer_exploded = df.withColumn(\"inner_array\", explode(col(\"Technology\")))\n",
    "display(df_outer_exploded)"
   ]
  },
  {
   "cell_type": "code",
   "execution_count": 0,
   "metadata": {
    "application/vnd.databricks.v1+cell": {
     "cellMetadata": {
      "byteLimit": 2048000,
      "rowLimit": 10000
     },
     "inputWidgets": {},
     "nuid": "d4c30ea6-f11c-4eb8-bc48-86ddf80a9627",
     "showTitle": false,
     "tableResultSettingsMap": {},
     "title": ""
    }
   },
   "outputs": [
    {
     "output_type": "display_data",
     "data": {
      "text/html": [
       "<style scoped>\n",
       "  .table-result-container {\n",
       "    max-height: 300px;\n",
       "    overflow: auto;\n",
       "  }\n",
       "  table, th, td {\n",
       "    border: 1px solid black;\n",
       "    border-collapse: collapse;\n",
       "  }\n",
       "  th, td {\n",
       "    padding: 5px;\n",
       "  }\n",
       "  th {\n",
       "    text-align: left;\n",
       "  }\n",
       "</style><div class='table-result-container'><table class='table-result'><thead style='background-color: white'><tr><th>EmpName</th><th>Technology</th><th>inner_array</th><th>FlattenTechnology</th></tr></thead><tbody><tr><td>Revanth</td><td>List(List(ADF, Spark, ADB), List(ETL, Devops, null), List(SQL, null))</td><td>List(ADF, Spark, ADB)</td><td>ADF</td></tr><tr><td>Revanth</td><td>List(List(ADF, Spark, ADB), List(ETL, Devops, null), List(SQL, null))</td><td>List(ADF, Spark, ADB)</td><td>Spark</td></tr><tr><td>Revanth</td><td>List(List(ADF, Spark, ADB), List(ETL, Devops, null), List(SQL, null))</td><td>List(ADF, Spark, ADB)</td><td>ADB</td></tr><tr><td>Revanth</td><td>List(List(ADF, Spark, ADB), List(ETL, Devops, null), List(SQL, null))</td><td>List(ETL, Devops, null)</td><td>ETL</td></tr><tr><td>Revanth</td><td>List(List(ADF, Spark, ADB), List(ETL, Devops, null), List(SQL, null))</td><td>List(ETL, Devops, null)</td><td>Devops</td></tr><tr><td>Revanth</td><td>List(List(ADF, Spark, ADB), List(ETL, Devops, null), List(SQL, null))</td><td>List(ETL, Devops, null)</td><td>null</td></tr><tr><td>Revanth</td><td>List(List(ADF, Spark, ADB), List(ETL, Devops, null), List(SQL, null))</td><td>List(SQL, null)</td><td>SQL</td></tr><tr><td>Revanth</td><td>List(List(ADF, Spark, ADB), List(ETL, Devops, null), List(SQL, null))</td><td>List(SQL, null)</td><td>null</td></tr><tr><td>Reshma</td><td>List(List(SSMS, null, Salesforce), List(SAP, ERP, null))</td><td>List(SSMS, null, Salesforce)</td><td>SSMS</td></tr><tr><td>Reshma</td><td>List(List(SSMS, null, Salesforce), List(SAP, ERP, null))</td><td>List(SSMS, null, Salesforce)</td><td>null</td></tr><tr><td>Reshma</td><td>List(List(SSMS, null, Salesforce), List(SAP, ERP, null))</td><td>List(SSMS, null, Salesforce)</td><td>Salesforce</td></tr><tr><td>Reshma</td><td>List(List(SSMS, null, Salesforce), List(SAP, ERP, null))</td><td>List(SAP, ERP, null)</td><td>SAP</td></tr><tr><td>Reshma</td><td>List(List(SSMS, null, Salesforce), List(SAP, ERP, null))</td><td>List(SAP, ERP, null)</td><td>ERP</td></tr><tr><td>Reshma</td><td>List(List(SSMS, null, Salesforce), List(SAP, ERP, null))</td><td>List(SAP, ERP, null)</td><td>null</td></tr><tr><td>Raashi</td><td>List(List(PythonVB, null), List(C++, GitHub, Git))</td><td>List(PythonVB, null)</td><td>PythonVB</td></tr><tr><td>Raashi</td><td>List(List(PythonVB, null), List(C++, GitHub, Git))</td><td>List(PythonVB, null)</td><td>null</td></tr><tr><td>Raashi</td><td>List(List(PythonVB, null), List(C++, GitHub, Git))</td><td>List(C++, GitHub, Git)</td><td>C++</td></tr><tr><td>Raashi</td><td>List(List(PythonVB, null), List(C++, GitHub, Git))</td><td>List(C++, GitHub, Git)</td><td>GitHub</td></tr><tr><td>Raashi</td><td>List(List(PythonVB, null), List(C++, GitHub, Git))</td><td>List(C++, GitHub, Git)</td><td>Git</td></tr><tr><td>Krishna</td><td>List(List(SHELL, DRG), List(JAVA, null))</td><td>List(SHELL, DRG)</td><td>SHELL</td></tr><tr><td>Krishna</td><td>List(List(SHELL, DRG), List(JAVA, null))</td><td>List(SHELL, DRG)</td><td>DRG</td></tr><tr><td>Krishna</td><td>List(List(SHELL, DRG), List(JAVA, null))</td><td>List(JAVA, null)</td><td>JAVA</td></tr><tr><td>Krishna</td><td>List(List(SHELL, DRG), List(JAVA, null))</td><td>List(JAVA, null)</td><td>null</td></tr></tbody></table></div>"
      ]
     },
     "metadata": {
      "application/vnd.databricks.v1+output": {
       "addedWidgets": {},
       "aggData": [],
       "aggError": "",
       "aggOverflow": false,
       "aggSchema": [],
       "aggSeriesLimitReached": false,
       "aggType": "",
       "arguments": {},
       "columnCustomDisplayInfos": {},
       "data": [
        [
         "Revanth",
         [
          [
           "ADF",
           "Spark",
           "ADB"
          ],
          [
           "ETL",
           "Devops",
           null
          ],
          [
           "SQL",
           null
          ]
         ],
         [
          "ADF",
          "Spark",
          "ADB"
         ],
         "ADF"
        ],
        [
         "Revanth",
         [
          [
           "ADF",
           "Spark",
           "ADB"
          ],
          [
           "ETL",
           "Devops",
           null
          ],
          [
           "SQL",
           null
          ]
         ],
         [
          "ADF",
          "Spark",
          "ADB"
         ],
         "Spark"
        ],
        [
         "Revanth",
         [
          [
           "ADF",
           "Spark",
           "ADB"
          ],
          [
           "ETL",
           "Devops",
           null
          ],
          [
           "SQL",
           null
          ]
         ],
         [
          "ADF",
          "Spark",
          "ADB"
         ],
         "ADB"
        ],
        [
         "Revanth",
         [
          [
           "ADF",
           "Spark",
           "ADB"
          ],
          [
           "ETL",
           "Devops",
           null
          ],
          [
           "SQL",
           null
          ]
         ],
         [
          "ETL",
          "Devops",
          null
         ],
         "ETL"
        ],
        [
         "Revanth",
         [
          [
           "ADF",
           "Spark",
           "ADB"
          ],
          [
           "ETL",
           "Devops",
           null
          ],
          [
           "SQL",
           null
          ]
         ],
         [
          "ETL",
          "Devops",
          null
         ],
         "Devops"
        ],
        [
         "Revanth",
         [
          [
           "ADF",
           "Spark",
           "ADB"
          ],
          [
           "ETL",
           "Devops",
           null
          ],
          [
           "SQL",
           null
          ]
         ],
         [
          "ETL",
          "Devops",
          null
         ],
         null
        ],
        [
         "Revanth",
         [
          [
           "ADF",
           "Spark",
           "ADB"
          ],
          [
           "ETL",
           "Devops",
           null
          ],
          [
           "SQL",
           null
          ]
         ],
         [
          "SQL",
          null
         ],
         "SQL"
        ],
        [
         "Revanth",
         [
          [
           "ADF",
           "Spark",
           "ADB"
          ],
          [
           "ETL",
           "Devops",
           null
          ],
          [
           "SQL",
           null
          ]
         ],
         [
          "SQL",
          null
         ],
         null
        ],
        [
         "Reshma",
         [
          [
           "SSMS",
           null,
           "Salesforce"
          ],
          [
           "SAP",
           "ERP",
           null
          ]
         ],
         [
          "SSMS",
          null,
          "Salesforce"
         ],
         "SSMS"
        ],
        [
         "Reshma",
         [
          [
           "SSMS",
           null,
           "Salesforce"
          ],
          [
           "SAP",
           "ERP",
           null
          ]
         ],
         [
          "SSMS",
          null,
          "Salesforce"
         ],
         null
        ],
        [
         "Reshma",
         [
          [
           "SSMS",
           null,
           "Salesforce"
          ],
          [
           "SAP",
           "ERP",
           null
          ]
         ],
         [
          "SSMS",
          null,
          "Salesforce"
         ],
         "Salesforce"
        ],
        [
         "Reshma",
         [
          [
           "SSMS",
           null,
           "Salesforce"
          ],
          [
           "SAP",
           "ERP",
           null
          ]
         ],
         [
          "SAP",
          "ERP",
          null
         ],
         "SAP"
        ],
        [
         "Reshma",
         [
          [
           "SSMS",
           null,
           "Salesforce"
          ],
          [
           "SAP",
           "ERP",
           null
          ]
         ],
         [
          "SAP",
          "ERP",
          null
         ],
         "ERP"
        ],
        [
         "Reshma",
         [
          [
           "SSMS",
           null,
           "Salesforce"
          ],
          [
           "SAP",
           "ERP",
           null
          ]
         ],
         [
          "SAP",
          "ERP",
          null
         ],
         null
        ],
        [
         "Raashi",
         [
          [
           "PythonVB",
           null
          ],
          [
           "C++",
           "GitHub",
           "Git"
          ]
         ],
         [
          "PythonVB",
          null
         ],
         "PythonVB"
        ],
        [
         "Raashi",
         [
          [
           "PythonVB",
           null
          ],
          [
           "C++",
           "GitHub",
           "Git"
          ]
         ],
         [
          "PythonVB",
          null
         ],
         null
        ],
        [
         "Raashi",
         [
          [
           "PythonVB",
           null
          ],
          [
           "C++",
           "GitHub",
           "Git"
          ]
         ],
         [
          "C++",
          "GitHub",
          "Git"
         ],
         "C++"
        ],
        [
         "Raashi",
         [
          [
           "PythonVB",
           null
          ],
          [
           "C++",
           "GitHub",
           "Git"
          ]
         ],
         [
          "C++",
          "GitHub",
          "Git"
         ],
         "GitHub"
        ],
        [
         "Raashi",
         [
          [
           "PythonVB",
           null
          ],
          [
           "C++",
           "GitHub",
           "Git"
          ]
         ],
         [
          "C++",
          "GitHub",
          "Git"
         ],
         "Git"
        ],
        [
         "Krishna",
         [
          [
           "SHELL",
           "DRG"
          ],
          [
           "JAVA",
           null
          ]
         ],
         [
          "SHELL",
          "DRG"
         ],
         "SHELL"
        ],
        [
         "Krishna",
         [
          [
           "SHELL",
           "DRG"
          ],
          [
           "JAVA",
           null
          ]
         ],
         [
          "SHELL",
          "DRG"
         ],
         "DRG"
        ],
        [
         "Krishna",
         [
          [
           "SHELL",
           "DRG"
          ],
          [
           "JAVA",
           null
          ]
         ],
         [
          "JAVA",
          null
         ],
         "JAVA"
        ],
        [
         "Krishna",
         [
          [
           "SHELL",
           "DRG"
          ],
          [
           "JAVA",
           null
          ]
         ],
         [
          "JAVA",
          null
         ],
         null
        ]
       ],
       "datasetInfos": [],
       "dbfsResultPath": null,
       "isJsonSchema": true,
       "metadata": {},
       "overflow": false,
       "plotOptions": {
        "customPlotOptions": {},
        "displayType": "table",
        "pivotAggregation": null,
        "pivotColumns": null,
        "xColumns": null,
        "yColumns": null
       },
       "removedWidgets": [],
       "schema": [
        {
         "metadata": "{}",
         "name": "EmpName",
         "type": "\"string\""
        },
        {
         "metadata": "{}",
         "name": "Technology",
         "type": "{\"type\":\"array\",\"elementType\":{\"type\":\"array\",\"elementType\":\"string\",\"containsNull\":true},\"containsNull\":true}"
        },
        {
         "metadata": "{}",
         "name": "inner_array",
         "type": "{\"type\":\"array\",\"elementType\":\"string\",\"containsNull\":true}"
        },
        {
         "metadata": "{}",
         "name": "FlattenTechnology",
         "type": "\"string\""
        }
       ],
       "type": "table"
      }
     },
     "output_type": "display_data"
    }
   ],
   "source": [
    "# Then, explode the inner array\n",
    "df_inner_exploded = df_outer_exploded.withColumn(\"FlattenTechnology\", explode(col(\"inner_array\")))\n",
    "display(df_inner_exploded)"
   ]
  },
  {
   "cell_type": "code",
   "execution_count": 0,
   "metadata": {
    "application/vnd.databricks.v1+cell": {
     "cellMetadata": {
      "byteLimit": 2048000,
      "rowLimit": 10000
     },
     "inputWidgets": {},
     "nuid": "e1d6f80c-ab16-4e25-8465-ed8d065b3446",
     "showTitle": false,
     "tableResultSettingsMap": {},
     "title": ""
    }
   },
   "outputs": [
    {
     "output_type": "display_data",
     "data": {
      "text/html": [
       "<style scoped>\n",
       "  .table-result-container {\n",
       "    max-height: 300px;\n",
       "    overflow: auto;\n",
       "  }\n",
       "  table, th, td {\n",
       "    border: 1px solid black;\n",
       "    border-collapse: collapse;\n",
       "  }\n",
       "  th, td {\n",
       "    padding: 5px;\n",
       "  }\n",
       "  th {\n",
       "    text-align: left;\n",
       "  }\n",
       "</style><div class='table-result-container'><table class='table-result'><thead style='background-color: white'><tr><th>EmpName</th><th>Technology</th><th>FlattenTechnology</th></tr></thead><tbody><tr><td>Revanth</td><td>List(List(ADF, Spark, ADB), List(ETL, Devops, null), List(SQL, null))</td><td>ADF</td></tr><tr><td>Revanth</td><td>List(List(ADF, Spark, ADB), List(ETL, Devops, null), List(SQL, null))</td><td>Spark</td></tr><tr><td>Revanth</td><td>List(List(ADF, Spark, ADB), List(ETL, Devops, null), List(SQL, null))</td><td>ADB</td></tr><tr><td>Revanth</td><td>List(List(ADF, Spark, ADB), List(ETL, Devops, null), List(SQL, null))</td><td>ETL</td></tr><tr><td>Revanth</td><td>List(List(ADF, Spark, ADB), List(ETL, Devops, null), List(SQL, null))</td><td>Devops</td></tr><tr><td>Revanth</td><td>List(List(ADF, Spark, ADB), List(ETL, Devops, null), List(SQL, null))</td><td>null</td></tr><tr><td>Revanth</td><td>List(List(ADF, Spark, ADB), List(ETL, Devops, null), List(SQL, null))</td><td>SQL</td></tr><tr><td>Revanth</td><td>List(List(ADF, Spark, ADB), List(ETL, Devops, null), List(SQL, null))</td><td>null</td></tr><tr><td>Reshma</td><td>List(List(SSMS, null, Salesforce), List(SAP, ERP, null))</td><td>SSMS</td></tr><tr><td>Reshma</td><td>List(List(SSMS, null, Salesforce), List(SAP, ERP, null))</td><td>null</td></tr><tr><td>Reshma</td><td>List(List(SSMS, null, Salesforce), List(SAP, ERP, null))</td><td>Salesforce</td></tr><tr><td>Reshma</td><td>List(List(SSMS, null, Salesforce), List(SAP, ERP, null))</td><td>SAP</td></tr><tr><td>Reshma</td><td>List(List(SSMS, null, Salesforce), List(SAP, ERP, null))</td><td>ERP</td></tr><tr><td>Reshma</td><td>List(List(SSMS, null, Salesforce), List(SAP, ERP, null))</td><td>null</td></tr><tr><td>Raashi</td><td>List(List(PythonVB, null), List(C++, GitHub, Git))</td><td>PythonVB</td></tr><tr><td>Raashi</td><td>List(List(PythonVB, null), List(C++, GitHub, Git))</td><td>null</td></tr><tr><td>Raashi</td><td>List(List(PythonVB, null), List(C++, GitHub, Git))</td><td>C++</td></tr><tr><td>Raashi</td><td>List(List(PythonVB, null), List(C++, GitHub, Git))</td><td>GitHub</td></tr><tr><td>Raashi</td><td>List(List(PythonVB, null), List(C++, GitHub, Git))</td><td>Git</td></tr><tr><td>Krishna</td><td>List(List(SHELL, DRG), List(JAVA, null))</td><td>SHELL</td></tr><tr><td>Krishna</td><td>List(List(SHELL, DRG), List(JAVA, null))</td><td>DRG</td></tr><tr><td>Krishna</td><td>List(List(SHELL, DRG), List(JAVA, null))</td><td>JAVA</td></tr><tr><td>Krishna</td><td>List(List(SHELL, DRG), List(JAVA, null))</td><td>null</td></tr></tbody></table></div>"
      ]
     },
     "metadata": {
      "application/vnd.databricks.v1+output": {
       "addedWidgets": {},
       "aggData": [],
       "aggError": "",
       "aggOverflow": false,
       "aggSchema": [],
       "aggSeriesLimitReached": false,
       "aggType": "",
       "arguments": {},
       "columnCustomDisplayInfos": {},
       "data": [
        [
         "Revanth",
         [
          [
           "ADF",
           "Spark",
           "ADB"
          ],
          [
           "ETL",
           "Devops",
           null
          ],
          [
           "SQL",
           null
          ]
         ],
         "ADF"
        ],
        [
         "Revanth",
         [
          [
           "ADF",
           "Spark",
           "ADB"
          ],
          [
           "ETL",
           "Devops",
           null
          ],
          [
           "SQL",
           null
          ]
         ],
         "Spark"
        ],
        [
         "Revanth",
         [
          [
           "ADF",
           "Spark",
           "ADB"
          ],
          [
           "ETL",
           "Devops",
           null
          ],
          [
           "SQL",
           null
          ]
         ],
         "ADB"
        ],
        [
         "Revanth",
         [
          [
           "ADF",
           "Spark",
           "ADB"
          ],
          [
           "ETL",
           "Devops",
           null
          ],
          [
           "SQL",
           null
          ]
         ],
         "ETL"
        ],
        [
         "Revanth",
         [
          [
           "ADF",
           "Spark",
           "ADB"
          ],
          [
           "ETL",
           "Devops",
           null
          ],
          [
           "SQL",
           null
          ]
         ],
         "Devops"
        ],
        [
         "Revanth",
         [
          [
           "ADF",
           "Spark",
           "ADB"
          ],
          [
           "ETL",
           "Devops",
           null
          ],
          [
           "SQL",
           null
          ]
         ],
         null
        ],
        [
         "Revanth",
         [
          [
           "ADF",
           "Spark",
           "ADB"
          ],
          [
           "ETL",
           "Devops",
           null
          ],
          [
           "SQL",
           null
          ]
         ],
         "SQL"
        ],
        [
         "Revanth",
         [
          [
           "ADF",
           "Spark",
           "ADB"
          ],
          [
           "ETL",
           "Devops",
           null
          ],
          [
           "SQL",
           null
          ]
         ],
         null
        ],
        [
         "Reshma",
         [
          [
           "SSMS",
           null,
           "Salesforce"
          ],
          [
           "SAP",
           "ERP",
           null
          ]
         ],
         "SSMS"
        ],
        [
         "Reshma",
         [
          [
           "SSMS",
           null,
           "Salesforce"
          ],
          [
           "SAP",
           "ERP",
           null
          ]
         ],
         null
        ],
        [
         "Reshma",
         [
          [
           "SSMS",
           null,
           "Salesforce"
          ],
          [
           "SAP",
           "ERP",
           null
          ]
         ],
         "Salesforce"
        ],
        [
         "Reshma",
         [
          [
           "SSMS",
           null,
           "Salesforce"
          ],
          [
           "SAP",
           "ERP",
           null
          ]
         ],
         "SAP"
        ],
        [
         "Reshma",
         [
          [
           "SSMS",
           null,
           "Salesforce"
          ],
          [
           "SAP",
           "ERP",
           null
          ]
         ],
         "ERP"
        ],
        [
         "Reshma",
         [
          [
           "SSMS",
           null,
           "Salesforce"
          ],
          [
           "SAP",
           "ERP",
           null
          ]
         ],
         null
        ],
        [
         "Raashi",
         [
          [
           "PythonVB",
           null
          ],
          [
           "C++",
           "GitHub",
           "Git"
          ]
         ],
         "PythonVB"
        ],
        [
         "Raashi",
         [
          [
           "PythonVB",
           null
          ],
          [
           "C++",
           "GitHub",
           "Git"
          ]
         ],
         null
        ],
        [
         "Raashi",
         [
          [
           "PythonVB",
           null
          ],
          [
           "C++",
           "GitHub",
           "Git"
          ]
         ],
         "C++"
        ],
        [
         "Raashi",
         [
          [
           "PythonVB",
           null
          ],
          [
           "C++",
           "GitHub",
           "Git"
          ]
         ],
         "GitHub"
        ],
        [
         "Raashi",
         [
          [
           "PythonVB",
           null
          ],
          [
           "C++",
           "GitHub",
           "Git"
          ]
         ],
         "Git"
        ],
        [
         "Krishna",
         [
          [
           "SHELL",
           "DRG"
          ],
          [
           "JAVA",
           null
          ]
         ],
         "SHELL"
        ],
        [
         "Krishna",
         [
          [
           "SHELL",
           "DRG"
          ],
          [
           "JAVA",
           null
          ]
         ],
         "DRG"
        ],
        [
         "Krishna",
         [
          [
           "SHELL",
           "DRG"
          ],
          [
           "JAVA",
           null
          ]
         ],
         "JAVA"
        ],
        [
         "Krishna",
         [
          [
           "SHELL",
           "DRG"
          ],
          [
           "JAVA",
           null
          ]
         ],
         null
        ]
       ],
       "datasetInfos": [],
       "dbfsResultPath": null,
       "isJsonSchema": true,
       "metadata": {},
       "overflow": false,
       "plotOptions": {
        "customPlotOptions": {},
        "displayType": "table",
        "pivotAggregation": null,
        "pivotColumns": null,
        "xColumns": null,
        "yColumns": null
       },
       "removedWidgets": [],
       "schema": [
        {
         "metadata": "{}",
         "name": "EmpName",
         "type": "\"string\""
        },
        {
         "metadata": "{}",
         "name": "Technology",
         "type": "{\"type\":\"array\",\"elementType\":{\"type\":\"array\",\"elementType\":\"string\",\"containsNull\":true},\"containsNull\":true}"
        },
        {
         "metadata": "{}",
         "name": "FlattenTechnology",
         "type": "\"string\""
        }
       ],
       "type": "table"
      }
     },
     "output_type": "display_data"
    }
   ],
   "source": [
    "# Drop the intermediate column if not needed\n",
    "df_final = df_inner_exploded.drop(\"inner_array\")\n",
    "display(df_final)"
   ]
  }
 ],
 "metadata": {
  "application/vnd.databricks.v1+notebook": {
   "computePreferences": null,
   "dashboards": [],
   "environmentMetadata": null,
   "language": "python",
   "notebookMetadata": {
    "pythonIndentUnit": 4
   },
   "notebookName": "12_Explode nested array into rows",
   "widgets": {}
  }
 },
 "nbformat": 4,
 "nbformat_minor": 0
}
