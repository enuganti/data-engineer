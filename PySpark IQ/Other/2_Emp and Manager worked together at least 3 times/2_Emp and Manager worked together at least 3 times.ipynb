{
 "cells": [
  {
   "cell_type": "markdown",
   "metadata": {
    "application/vnd.databricks.v1+cell": {
     "cellMetadata": {},
     "inputWidgets": {},
     "nuid": "a2ed874b-7ccf-4a8c-afc7-a926e0ab4bd2",
     "showTitle": false,
     "tableResultSettingsMap": {},
     "title": ""
    }
   },
   "source": [
    "**𝐏𝐑𝐎𝐁𝐋𝐄𝐌 𝐒𝐓𝐀𝐓𝐄𝐌𝐄𝐍𝐓**\n",
    "\n",
    "- Write a PYSPARK program to generate a report that provides **pairs (Emp_ID, Manager_ID)** where the **Employee & Manager worked together at least 3 times**."
   ]
  },
  {
   "cell_type": "code",
   "execution_count": 0,
   "metadata": {
    "application/vnd.databricks.v1+cell": {
     "cellMetadata": {
      "byteLimit": 2048000,
      "rowLimit": 10000
     },
     "inputWidgets": {},
     "nuid": "a8fa63e7-1d57-4b2b-8227-396b2d8f7f64",
     "showTitle": false,
     "tableResultSettingsMap": {},
     "title": ""
    }
   },
   "outputs": [],
   "source": [
    "from pyspark.sql.types import StructType, StructField, IntegerType, StringType"
   ]
  },
  {
   "cell_type": "code",
   "execution_count": 0,
   "metadata": {
    "application/vnd.databricks.v1+cell": {
     "cellMetadata": {
      "byteLimit": 2048000,
      "rowLimit": 10000
     },
     "inputWidgets": {},
     "nuid": "c30d10b4-0455-4d2c-8480-85a3cda2432c",
     "showTitle": false,
     "tableResultSettingsMap": {},
     "title": ""
    }
   },
   "outputs": [
    {
     "output_type": "display_data",
     "data": {
      "text/html": [
       "<style scoped>\n",
       "  .table-result-container {\n",
       "    max-height: 300px;\n",
       "    overflow: auto;\n",
       "  }\n",
       "  table, th, td {\n",
       "    border: 1px solid black;\n",
       "    border-collapse: collapse;\n",
       "  }\n",
       "  th, td {\n",
       "    padding: 5px;\n",
       "  }\n",
       "  th {\n",
       "    text-align: left;\n",
       "  }\n",
       "</style><div class='table-result-container'><table class='table-result'><thead style='background-color: white'><tr><th>Emp_ID</th><th>Emp_Name</th><th>Manager_ID</th><th>Manager_Name</th><th>Emp_Age</th></tr></thead><tbody><tr><td>1</td><td>Sekhar</td><td>1</td><td>Swaroop</td><td>30</td></tr><tr><td>1</td><td>Sekhar</td><td>1</td><td>Swaroop</td><td>41</td></tr><tr><td>1</td><td>Sekhar</td><td>1</td><td>Swaroop</td><td>32</td></tr><tr><td>1</td><td>Sekhar</td><td>2</td><td>Prakash</td><td>43</td></tr><tr><td>1</td><td>Sekhar</td><td>2</td><td>Prakash</td><td>24</td></tr><tr><td>2</td><td>Stanely</td><td>1</td><td>Swaroop</td><td>35</td></tr><tr><td>2</td><td>Stanely</td><td>1</td><td>Swaroop</td><td>26</td></tr><tr><td>3</td><td>Dinesh</td><td>2</td><td>Prakash</td><td>35</td></tr><tr><td>3</td><td>Dinesh</td><td>2</td><td>Prakash</td><td>26</td></tr><tr><td>3</td><td>Dinesh</td><td>2</td><td>Prakash</td><td>26</td></tr></tbody></table></div>"
      ]
     },
     "metadata": {
      "application/vnd.databricks.v1+output": {
       "addedWidgets": {},
       "aggData": [],
       "aggError": "",
       "aggOverflow": false,
       "aggSchema": [],
       "aggSeriesLimitReached": false,
       "aggType": "",
       "arguments": {},
       "columnCustomDisplayInfos": {},
       "data": [
        [
         1,
         "Sekhar",
         1,
         "Swaroop",
         30
        ],
        [
         1,
         "Sekhar",
         1,
         "Swaroop",
         41
        ],
        [
         1,
         "Sekhar",
         1,
         "Swaroop",
         32
        ],
        [
         1,
         "Sekhar",
         2,
         "Prakash",
         43
        ],
        [
         1,
         "Sekhar",
         2,
         "Prakash",
         24
        ],
        [
         2,
         "Stanely",
         1,
         "Swaroop",
         35
        ],
        [
         2,
         "Stanely",
         1,
         "Swaroop",
         26
        ],
        [
         3,
         "Dinesh",
         2,
         "Prakash",
         35
        ],
        [
         3,
         "Dinesh",
         2,
         "Prakash",
         26
        ],
        [
         3,
         "Dinesh",
         2,
         "Prakash",
         26
        ]
       ],
       "datasetInfos": [],
       "dbfsResultPath": null,
       "isJsonSchema": true,
       "metadata": {},
       "overflow": false,
       "plotOptions": {
        "customPlotOptions": {},
        "displayType": "table",
        "pivotAggregation": null,
        "pivotColumns": null,
        "xColumns": null,
        "yColumns": null
       },
       "removedWidgets": [],
       "schema": [
        {
         "metadata": "{}",
         "name": "Emp_ID",
         "type": "\"integer\""
        },
        {
         "metadata": "{}",
         "name": "Emp_Name",
         "type": "\"string\""
        },
        {
         "metadata": "{}",
         "name": "Manager_ID",
         "type": "\"integer\""
        },
        {
         "metadata": "{}",
         "name": "Manager_Name",
         "type": "\"string\""
        },
        {
         "metadata": "{}",
         "name": "Emp_Age",
         "type": "\"integer\""
        }
       ],
       "type": "table"
      }
     },
     "output_type": "display_data"
    }
   ],
   "source": [
    "schema = StructType([StructField(\"Emp_ID\", IntegerType(), True),\n",
    "                     StructField(\"Emp_Name\", StringType(), True),\n",
    "                     StructField(\"Manager_ID\", IntegerType(), True),\n",
    "                     StructField(\"Manager_Name\", StringType(), True),\n",
    "                     StructField(\"Emp_Age\", IntegerType(), True)\n",
    "                    ])\n",
    "\n",
    "data = [(1, \"Sekhar\", 1, \"Swaroop\", 30),\n",
    "        (1, \"Sekhar\", 1, \"Swaroop\", 41),\n",
    "        (1, \"Sekhar\", 1, \"Swaroop\", 32),\n",
    "        (1, \"Sekhar\", 2, \"Prakash\", 43),\n",
    "        (1, \"Sekhar\", 2, \"Prakash\", 24),\n",
    "        (2, \"Stanely\", 1, \"Swaroop\", 35),\n",
    "        (2, \"Stanely\", 1, \"Swaroop\", 26),\n",
    "        (3, \"Dinesh\", 2, \"Prakash\", 35),\n",
    "        (3, \"Dinesh\", 2, \"Prakash\", 26),\n",
    "        (3, \"Dinesh\", 2, \"Prakash\", 26)\n",
    "       ]\n",
    "\n",
    "df = spark.createDataFrame(data, schema)\n",
    "display(df)"
   ]
  },
  {
   "cell_type": "code",
   "execution_count": 0,
   "metadata": {
    "application/vnd.databricks.v1+cell": {
     "cellMetadata": {
      "byteLimit": 2048000,
      "rowLimit": 10000
     },
     "inputWidgets": {},
     "nuid": "4772b20f-f6c0-452a-ba27-881defff60c0",
     "showTitle": false,
     "tableResultSettingsMap": {},
     "title": ""
    }
   },
   "outputs": [
    {
     "output_type": "display_data",
     "data": {
      "text/html": [
       "<style scoped>\n",
       "  .table-result-container {\n",
       "    max-height: 300px;\n",
       "    overflow: auto;\n",
       "  }\n",
       "  table, th, td {\n",
       "    border: 1px solid black;\n",
       "    border-collapse: collapse;\n",
       "  }\n",
       "  th, td {\n",
       "    padding: 5px;\n",
       "  }\n",
       "  th {\n",
       "    text-align: left;\n",
       "  }\n",
       "</style><div class='table-result-container'><table class='table-result'><thead style='background-color: white'><tr><th>Emp_ID</th><th>Emp_Name</th><th>Manager_ID</th><th>Manager_Name</th><th>count</th></tr></thead><tbody><tr><td>1</td><td>Sekhar</td><td>1</td><td>Swaroop</td><td>3</td></tr><tr><td>1</td><td>Sekhar</td><td>2</td><td>Prakash</td><td>2</td></tr><tr><td>2</td><td>Stanely</td><td>1</td><td>Swaroop</td><td>2</td></tr><tr><td>3</td><td>Dinesh</td><td>2</td><td>Prakash</td><td>3</td></tr></tbody></table></div>"
      ]
     },
     "metadata": {
      "application/vnd.databricks.v1+output": {
       "addedWidgets": {},
       "aggData": [],
       "aggError": "",
       "aggOverflow": false,
       "aggSchema": [],
       "aggSeriesLimitReached": false,
       "aggType": "",
       "arguments": {},
       "columnCustomDisplayInfos": {},
       "data": [
        [
         1,
         "Sekhar",
         1,
         "Swaroop",
         3
        ],
        [
         1,
         "Sekhar",
         2,
         "Prakash",
         2
        ],
        [
         2,
         "Stanely",
         1,
         "Swaroop",
         2
        ],
        [
         3,
         "Dinesh",
         2,
         "Prakash",
         3
        ]
       ],
       "datasetInfos": [],
       "dbfsResultPath": null,
       "isJsonSchema": true,
       "metadata": {},
       "overflow": false,
       "plotOptions": {
        "customPlotOptions": {},
        "displayType": "table",
        "pivotAggregation": null,
        "pivotColumns": null,
        "xColumns": null,
        "yColumns": null
       },
       "removedWidgets": [],
       "schema": [
        {
         "metadata": "{}",
         "name": "Emp_ID",
         "type": "\"integer\""
        },
        {
         "metadata": "{}",
         "name": "Emp_Name",
         "type": "\"string\""
        },
        {
         "metadata": "{}",
         "name": "Manager_ID",
         "type": "\"integer\""
        },
        {
         "metadata": "{}",
         "name": "Manager_Name",
         "type": "\"string\""
        },
        {
         "metadata": "{}",
         "name": "count",
         "type": "\"long\""
        }
       ],
       "type": "table"
      }
     },
     "output_type": "display_data"
    }
   ],
   "source": [
    "df_count = df.groupBy(\"Emp_ID\", \"Emp_Name\", \"Manager_ID\", \"Manager_Name\").count()\n",
    "display(df_count)"
   ]
  },
  {
   "cell_type": "code",
   "execution_count": 0,
   "metadata": {
    "application/vnd.databricks.v1+cell": {
     "cellMetadata": {
      "byteLimit": 2048000,
      "rowLimit": 10000
     },
     "inputWidgets": {},
     "nuid": "607f63d2-8fb4-4042-89f3-1f917c9ebca4",
     "showTitle": false,
     "tableResultSettingsMap": {},
     "title": ""
    }
   },
   "outputs": [
    {
     "output_type": "display_data",
     "data": {
      "text/html": [
       "<style scoped>\n",
       "  .table-result-container {\n",
       "    max-height: 300px;\n",
       "    overflow: auto;\n",
       "  }\n",
       "  table, th, td {\n",
       "    border: 1px solid black;\n",
       "    border-collapse: collapse;\n",
       "  }\n",
       "  th, td {\n",
       "    padding: 5px;\n",
       "  }\n",
       "  th {\n",
       "    text-align: left;\n",
       "  }\n",
       "</style><div class='table-result-container'><table class='table-result'><thead style='background-color: white'><tr><th>Emp_ID</th><th>Emp_Name</th><th>Manager_ID</th><th>Manager_Name</th><th>count</th></tr></thead><tbody><tr><td>1</td><td>Sekhar</td><td>1</td><td>Swaroop</td><td>3</td></tr><tr><td>3</td><td>Dinesh</td><td>2</td><td>Prakash</td><td>3</td></tr></tbody></table></div>"
      ]
     },
     "metadata": {
      "application/vnd.databricks.v1+output": {
       "addedWidgets": {},
       "aggData": [],
       "aggError": "",
       "aggOverflow": false,
       "aggSchema": [],
       "aggSeriesLimitReached": false,
       "aggType": "",
       "arguments": {},
       "columnCustomDisplayInfos": {},
       "data": [
        [
         1,
         "Sekhar",
         1,
         "Swaroop",
         3
        ],
        [
         3,
         "Dinesh",
         2,
         "Prakash",
         3
        ]
       ],
       "datasetInfos": [],
       "dbfsResultPath": null,
       "isJsonSchema": true,
       "metadata": {},
       "overflow": false,
       "plotOptions": {
        "customPlotOptions": {},
        "displayType": "table",
        "pivotAggregation": null,
        "pivotColumns": null,
        "xColumns": null,
        "yColumns": null
       },
       "removedWidgets": [],
       "schema": [
        {
         "metadata": "{}",
         "name": "Emp_ID",
         "type": "\"integer\""
        },
        {
         "metadata": "{}",
         "name": "Emp_Name",
         "type": "\"string\""
        },
        {
         "metadata": "{}",
         "name": "Manager_ID",
         "type": "\"integer\""
        },
        {
         "metadata": "{}",
         "name": "Manager_Name",
         "type": "\"string\""
        },
        {
         "metadata": "{}",
         "name": "count",
         "type": "\"long\""
        }
       ],
       "type": "table"
      }
     },
     "output_type": "display_data"
    }
   ],
   "source": [
    "df_count.filter(df_count['count']>=3).display()"
   ]
  }
 ],
 "metadata": {
  "application/vnd.databricks.v1+notebook": {
   "computePreferences": null,
   "dashboards": [],
   "environmentMetadata": null,
   "language": "python",
   "notebookMetadata": {
    "pythonIndentUnit": 4
   },
   "notebookName": "2_Emp and Manager worked together at least 3 times",
   "widgets": {}
  }
 },
 "nbformat": 4,
 "nbformat_minor": 0
}
