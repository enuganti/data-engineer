{
 "cells": [
  {
   "cell_type": "markdown",
   "metadata": {
    "application/vnd.databricks.v1+cell": {
     "cellMetadata": {},
     "inputWidgets": {},
     "nuid": "7be96a6a-3d92-4080-80b6-7e83b157a630",
     "showTitle": false,
     "tableResultSettingsMap": {},
     "title": ""
    }
   },
   "source": [
    "**Problem Statement:**\n",
    "\n",
    "Write a PySpark script to find the details of students whose **first names end with the letter ‘h’** and have **exactly six alphabets**."
   ]
  },
  {
   "cell_type": "code",
   "execution_count": 0,
   "metadata": {
    "application/vnd.databricks.v1+cell": {
     "cellMetadata": {
      "byteLimit": 2048000,
      "rowLimit": 10000
     },
     "inputWidgets": {},
     "nuid": "20936b6b-558a-406c-9afb-03a1f5c67a37",
     "showTitle": false,
     "tableResultSettingsMap": {},
     "title": ""
    }
   },
   "outputs": [],
   "source": [
    "import pyspark.sql.functions as f\n",
    "from pyspark.sql.functions import col, upper, length, substring"
   ]
  },
  {
   "cell_type": "code",
   "execution_count": 0,
   "metadata": {
    "application/vnd.databricks.v1+cell": {
     "cellMetadata": {
      "byteLimit": 2048000,
      "rowLimit": 10000
     },
     "inputWidgets": {},
     "nuid": "8f49d54f-8965-44ad-915c-23385e4c7926",
     "showTitle": false,
     "tableResultSettingsMap": {},
     "title": ""
    }
   },
   "outputs": [
    {
     "output_type": "display_data",
     "data": {
      "text/html": [
       "<style scoped>\n",
       "  .table-result-container {\n",
       "    max-height: 300px;\n",
       "    overflow: auto;\n",
       "  }\n",
       "  table, th, td {\n",
       "    border: 1px solid black;\n",
       "    border-collapse: collapse;\n",
       "  }\n",
       "  th, td {\n",
       "    padding: 5px;\n",
       "  }\n",
       "  th {\n",
       "    text-align: left;\n",
       "  }\n",
       "</style><div class='table-result-container'><table class='table-result'><thead style='background-color: white'><tr><th>student_id</th><th>first_name</th><th>last_name</th><th>gpa</th><th>enrollment_date</th><th>major</th></tr></thead><tbody><tr><td>1</td><td>Ramesh</td><td>Babu</td><td>3.3</td><td>2024-07-01</td><td>Commerce</td></tr><tr><td>2</td><td>Sharath</td><td>Kumar</td><td>3.9</td><td>2022-07-01</td><td>AI</td></tr><tr><td>3</td><td>Venkatesh</td><td>Raj</td><td>3.2</td><td>2023-07-20</td><td>MBBS</td></tr><tr><td>4</td><td>Joseph</td><td>Brown</td><td>3.7</td><td>2023-07-01</td><td>Aerospace</td></tr><tr><td>5</td><td>Sourabh</td><td>saxena</td><td>3.4</td><td>2022-06-15</td><td>Engineering</td></tr><tr><td>6</td><td>Leah</td><td>Smith</td><td>3.7</td><td>2021-07-22</td><td>Masters</td></tr><tr><td>7</td><td>Prakash</td><td>Raja</td><td>3.8</td><td>2022-07-05</td><td>Scientist</td></tr><tr><td>8</td><td>Rakesh</td><td>Kumar</td><td>3.9</td><td>2020-07-01</td><td>Data Scientist</td></tr><tr><td>9</td><td>Kamalesh</td><td>Rao</td><td>3.6</td><td>2023-07-01</td><td>Social</td></tr><tr><td>10</td><td>Kamath</td><td>mohan</td><td>3.7</td><td>2023-07-01</td><td>Science</td></tr><tr><td>11</td><td>Naagesh</td><td>Babu</td><td>3.5</td><td>2024-07-01</td><td>Commerce</td></tr><tr><td>12</td><td>Praharsh</td><td>Mohan</td><td>3.4</td><td>2023-07-01</td><td>Science</td></tr><tr><td>13</td><td>Danush</td><td>Vedanth</td><td>3.3</td><td>2021-07-01</td><td>Social</td></tr><tr><td>14</td><td>Kanniah</td><td>kanth</td><td>3.2</td><td>2023-07-01</td><td>Masters</td></tr></tbody></table></div>"
      ]
     },
     "metadata": {
      "application/vnd.databricks.v1+output": {
       "addedWidgets": {},
       "aggData": [],
       "aggError": "",
       "aggOverflow": false,
       "aggSchema": [],
       "aggSeriesLimitReached": false,
       "aggType": "",
       "arguments": {},
       "columnCustomDisplayInfos": {},
       "data": [
        [
         1,
         "Ramesh",
         "Babu",
         3.3,
         "2024-07-01",
         "Commerce"
        ],
        [
         2,
         "Sharath",
         "Kumar",
         3.9,
         "2022-07-01",
         "AI"
        ],
        [
         3,
         "Venkatesh",
         "Raj",
         3.2,
         "2023-07-20",
         "MBBS"
        ],
        [
         4,
         "Joseph",
         "Brown",
         3.7,
         "2023-07-01",
         "Aerospace"
        ],
        [
         5,
         "Sourabh",
         "saxena",
         3.4,
         "2022-06-15",
         "Engineering"
        ],
        [
         6,
         "Leah",
         "Smith",
         3.7,
         "2021-07-22",
         "Masters"
        ],
        [
         7,
         "Prakash",
         "Raja",
         3.8,
         "2022-07-05",
         "Scientist"
        ],
        [
         8,
         "Rakesh",
         "Kumar",
         3.9,
         "2020-07-01",
         "Data Scientist"
        ],
        [
         9,
         "Kamalesh",
         "Rao",
         3.6,
         "2023-07-01",
         "Social"
        ],
        [
         10,
         "Kamath",
         "mohan",
         3.7,
         "2023-07-01",
         "Science"
        ],
        [
         11,
         "Naagesh",
         "Babu",
         3.5,
         "2024-07-01",
         "Commerce"
        ],
        [
         12,
         "Praharsh",
         "Mohan",
         3.4,
         "2023-07-01",
         "Science"
        ],
        [
         13,
         "Danush",
         "Vedanth",
         3.3,
         "2021-07-01",
         "Social"
        ],
        [
         14,
         "Kanniah",
         "kanth",
         3.2,
         "2023-07-01",
         "Masters"
        ]
       ],
       "datasetInfos": [],
       "dbfsResultPath": null,
       "isJsonSchema": true,
       "metadata": {},
       "overflow": false,
       "plotOptions": {
        "customPlotOptions": {},
        "displayType": "table",
        "pivotAggregation": null,
        "pivotColumns": null,
        "xColumns": null,
        "yColumns": null
       },
       "removedWidgets": [],
       "schema": [
        {
         "metadata": "{}",
         "name": "student_id",
         "type": "\"long\""
        },
        {
         "metadata": "{}",
         "name": "first_name",
         "type": "\"string\""
        },
        {
         "metadata": "{}",
         "name": "last_name",
         "type": "\"string\""
        },
        {
         "metadata": "{}",
         "name": "gpa",
         "type": "\"double\""
        },
        {
         "metadata": "{}",
         "name": "enrollment_date",
         "type": "\"string\""
        },
        {
         "metadata": "{}",
         "name": "major",
         "type": "\"string\""
        }
       ],
       "type": "table"
      }
     },
     "output_type": "display_data"
    }
   ],
   "source": [
    "# Sample data\n",
    "data = [(1, 'Ramesh', 'Babu', 3.3, '2024-07-01', 'Commerce'),\n",
    "        (2, 'Sharath', 'Kumar', 3.9, '2022-07-01', 'AI'),\n",
    "        (3, 'Venkatesh', 'Raj', 3.2, '2023-07-20', 'MBBS'),\n",
    "        (4, 'Joseph', 'Brown', 3.7, '2023-07-01', 'Aerospace'),\n",
    "        (5, 'Sourabh', 'saxena', 3.4, '2022-06-15', 'Engineering'),\n",
    "        (6, 'Leah', 'Smith', 3.7, '2021-07-22', 'Masters'),\n",
    "        (7, 'Prakash', 'Raja', 3.8, '2022-07-05', 'Scientist'),        \n",
    "        (8, 'Rakesh', 'Kumar', 3.9, '2020-07-01', 'Data Scientist'),       \n",
    "        (9, 'Kamalesh', 'Rao', 3.6, '2023-07-01', 'Social'),\n",
    "        (10, 'Kamath', 'mohan', 3.7, '2023-07-01', 'Science'),\n",
    "        (11, 'Naagesh', 'Babu', 3.5, '2024-07-01', 'Commerce'),\n",
    "        (12, 'Praharsh', 'Mohan', 3.4, '2023-07-01', 'Science'),\n",
    "        (13, 'Danush', 'Vedanth', 3.3, '2021-07-01', 'Social'),\n",
    "        (14, 'Kanniah', 'kanth', 3.2, '2023-07-01', 'Masters')\n",
    "       ]\n",
    "\n",
    "# Define schema\n",
    "columns = [\"student_id\", \"first_name\", \"last_name\", \"gpa\", \"enrollment_date\", \"major\"]\n",
    "\n",
    "# Create DataFrame\n",
    "students_df = spark.createDataFrame(data, schema=columns)\n",
    "\n",
    "# Show DataFrame\n",
    "display(students_df)"
   ]
  },
  {
   "cell_type": "markdown",
   "metadata": {
    "application/vnd.databricks.v1+cell": {
     "cellMetadata": {},
     "inputWidgets": {},
     "nuid": "20b6e603-183e-4cd7-a41f-a2a5a9a31c34",
     "showTitle": false,
     "tableResultSettingsMap": {},
     "title": ""
    }
   },
   "source": [
    "**Solution**"
   ]
  },
  {
   "cell_type": "markdown",
   "metadata": {
    "application/vnd.databricks.v1+cell": {
     "cellMetadata": {},
     "inputWidgets": {},
     "nuid": "9e234cce-849b-4d16-914e-83f901b1703e",
     "showTitle": false,
     "tableResultSettingsMap": {},
     "title": ""
    }
   },
   "source": [
    "**Method 01**"
   ]
  },
  {
   "cell_type": "code",
   "execution_count": 0,
   "metadata": {
    "application/vnd.databricks.v1+cell": {
     "cellMetadata": {
      "byteLimit": 2048000,
      "rowLimit": 10000
     },
     "inputWidgets": {},
     "nuid": "34437efc-9b15-4c95-8975-d6fa15c46253",
     "showTitle": false,
     "tableResultSettingsMap": {},
     "title": ""
    }
   },
   "outputs": [
    {
     "output_type": "display_data",
     "data": {
      "text/html": [
       "<style scoped>\n",
       "  .table-result-container {\n",
       "    max-height: 300px;\n",
       "    overflow: auto;\n",
       "  }\n",
       "  table, th, td {\n",
       "    border: 1px solid black;\n",
       "    border-collapse: collapse;\n",
       "  }\n",
       "  th, td {\n",
       "    padding: 5px;\n",
       "  }\n",
       "  th {\n",
       "    text-align: left;\n",
       "  }\n",
       "</style><div class='table-result-container'><table class='table-result'><thead style='background-color: white'><tr><th>student_id</th><th>first_name</th><th>last_name</th><th>gpa</th><th>enrollment_date</th><th>major</th></tr></thead><tbody><tr><td>1</td><td>Ramesh</td><td>Babu</td><td>3.3</td><td>2024-07-01</td><td>Commerce</td></tr><tr><td>4</td><td>Joseph</td><td>Brown</td><td>3.7</td><td>2023-07-01</td><td>Aerospace</td></tr><tr><td>8</td><td>Rakesh</td><td>Kumar</td><td>3.9</td><td>2020-07-01</td><td>Data Scientist</td></tr><tr><td>10</td><td>Kamath</td><td>mohan</td><td>3.7</td><td>2023-07-01</td><td>Science</td></tr><tr><td>13</td><td>Danush</td><td>Vedanth</td><td>3.3</td><td>2021-07-01</td><td>Social</td></tr></tbody></table></div>"
      ]
     },
     "metadata": {
      "application/vnd.databricks.v1+output": {
       "addedWidgets": {},
       "aggData": [],
       "aggError": "",
       "aggOverflow": false,
       "aggSchema": [],
       "aggSeriesLimitReached": false,
       "aggType": "",
       "arguments": {},
       "columnCustomDisplayInfos": {},
       "data": [
        [
         1,
         "Ramesh",
         "Babu",
         3.3,
         "2024-07-01",
         "Commerce"
        ],
        [
         4,
         "Joseph",
         "Brown",
         3.7,
         "2023-07-01",
         "Aerospace"
        ],
        [
         8,
         "Rakesh",
         "Kumar",
         3.9,
         "2020-07-01",
         "Data Scientist"
        ],
        [
         10,
         "Kamath",
         "mohan",
         3.7,
         "2023-07-01",
         "Science"
        ],
        [
         13,
         "Danush",
         "Vedanth",
         3.3,
         "2021-07-01",
         "Social"
        ]
       ],
       "datasetInfos": [],
       "dbfsResultPath": null,
       "isJsonSchema": true,
       "metadata": {},
       "overflow": false,
       "plotOptions": {
        "customPlotOptions": {},
        "displayType": "table",
        "pivotAggregation": null,
        "pivotColumns": null,
        "xColumns": null,
        "yColumns": null
       },
       "removedWidgets": [],
       "schema": [
        {
         "metadata": "{}",
         "name": "student_id",
         "type": "\"long\""
        },
        {
         "metadata": "{}",
         "name": "first_name",
         "type": "\"string\""
        },
        {
         "metadata": "{}",
         "name": "last_name",
         "type": "\"string\""
        },
        {
         "metadata": "{}",
         "name": "gpa",
         "type": "\"double\""
        },
        {
         "metadata": "{}",
         "name": "enrollment_date",
         "type": "\"string\""
        },
        {
         "metadata": "{}",
         "name": "major",
         "type": "\"string\""
        }
       ],
       "type": "table"
      }
     },
     "output_type": "display_data"
    }
   ],
   "source": [
    "# Filter DataFrame\n",
    "filtered_students_01 = students_df.filter((col(\"first_name\").rlike(r'^[A-Za-z]{5}h$')))\n",
    "\n",
    "# Show filtered DataFrame\n",
    "display(filtered_students_01)"
   ]
  },
  {
   "cell_type": "markdown",
   "metadata": {
    "application/vnd.databricks.v1+cell": {
     "cellMetadata": {},
     "inputWidgets": {},
     "nuid": "e3828113-ccaa-4d78-b958-75e69fe568e8",
     "showTitle": false,
     "tableResultSettingsMap": {},
     "title": ""
    }
   },
   "source": [
    "**Method 02**"
   ]
  },
  {
   "cell_type": "code",
   "execution_count": 0,
   "metadata": {
    "application/vnd.databricks.v1+cell": {
     "cellMetadata": {
      "byteLimit": 2048000,
      "rowLimit": 10000
     },
     "inputWidgets": {},
     "nuid": "77644db9-2235-4dbe-abe5-f7300cd54c83",
     "showTitle": false,
     "tableResultSettingsMap": {},
     "title": ""
    }
   },
   "outputs": [
    {
     "output_type": "display_data",
     "data": {
      "text/html": [
       "<style scoped>\n",
       "  .table-result-container {\n",
       "    max-height: 300px;\n",
       "    overflow: auto;\n",
       "  }\n",
       "  table, th, td {\n",
       "    border: 1px solid black;\n",
       "    border-collapse: collapse;\n",
       "  }\n",
       "  th, td {\n",
       "    padding: 5px;\n",
       "  }\n",
       "  th {\n",
       "    text-align: left;\n",
       "  }\n",
       "</style><div class='table-result-container'><table class='table-result'><thead style='background-color: white'><tr><th>student_id</th><th>first_name</th><th>last_name</th><th>gpa</th><th>enrollment_date</th><th>major</th></tr></thead><tbody><tr><td>1</td><td>Ramesh</td><td>Babu</td><td>3.3</td><td>2024-07-01</td><td>Commerce</td></tr><tr><td>4</td><td>Joseph</td><td>Brown</td><td>3.7</td><td>2023-07-01</td><td>Aerospace</td></tr><tr><td>8</td><td>Rakesh</td><td>Kumar</td><td>3.9</td><td>2020-07-01</td><td>Data Scientist</td></tr><tr><td>10</td><td>Kamath</td><td>mohan</td><td>3.7</td><td>2023-07-01</td><td>Science</td></tr><tr><td>13</td><td>Danush</td><td>Vedanth</td><td>3.3</td><td>2021-07-01</td><td>Social</td></tr></tbody></table></div>"
      ]
     },
     "metadata": {
      "application/vnd.databricks.v1+output": {
       "addedWidgets": {},
       "aggData": [],
       "aggError": "",
       "aggOverflow": false,
       "aggSchema": [],
       "aggSeriesLimitReached": false,
       "aggType": "",
       "arguments": {},
       "columnCustomDisplayInfos": {},
       "data": [
        [
         1,
         "Ramesh",
         "Babu",
         3.3,
         "2024-07-01",
         "Commerce"
        ],
        [
         4,
         "Joseph",
         "Brown",
         3.7,
         "2023-07-01",
         "Aerospace"
        ],
        [
         8,
         "Rakesh",
         "Kumar",
         3.9,
         "2020-07-01",
         "Data Scientist"
        ],
        [
         10,
         "Kamath",
         "mohan",
         3.7,
         "2023-07-01",
         "Science"
        ],
        [
         13,
         "Danush",
         "Vedanth",
         3.3,
         "2021-07-01",
         "Social"
        ]
       ],
       "datasetInfos": [],
       "dbfsResultPath": null,
       "isJsonSchema": true,
       "metadata": {},
       "overflow": false,
       "plotOptions": {
        "customPlotOptions": {},
        "displayType": "table",
        "pivotAggregation": null,
        "pivotColumns": null,
        "xColumns": null,
        "yColumns": null
       },
       "removedWidgets": [],
       "schema": [
        {
         "metadata": "{}",
         "name": "student_id",
         "type": "\"long\""
        },
        {
         "metadata": "{}",
         "name": "first_name",
         "type": "\"string\""
        },
        {
         "metadata": "{}",
         "name": "last_name",
         "type": "\"string\""
        },
        {
         "metadata": "{}",
         "name": "gpa",
         "type": "\"double\""
        },
        {
         "metadata": "{}",
         "name": "enrollment_date",
         "type": "\"string\""
        },
        {
         "metadata": "{}",
         "name": "major",
         "type": "\"string\""
        }
       ],
       "type": "table"
      }
     },
     "output_type": "display_data"
    }
   ],
   "source": [
    "# Filter DataFrame\n",
    "filtered_students_02 = students_df.filter((col('first_name').endswith('h')) & (length(col('first_name')) == 6))\n",
    "\n",
    "# Show filtered DataFrame\n",
    "display(filtered_students_02)"
   ]
  },
  {
   "cell_type": "markdown",
   "metadata": {
    "application/vnd.databricks.v1+cell": {
     "cellMetadata": {},
     "inputWidgets": {},
     "nuid": "8fd23f0e-5615-4d9c-ae05-524f450599c6",
     "showTitle": false,
     "tableResultSettingsMap": {},
     "title": ""
    }
   },
   "source": [
    "**Method 03**"
   ]
  },
  {
   "cell_type": "code",
   "execution_count": 0,
   "metadata": {
    "application/vnd.databricks.v1+cell": {
     "cellMetadata": {
      "byteLimit": 2048000,
      "rowLimit": 10000
     },
     "inputWidgets": {},
     "nuid": "3fabdb95-ced1-4a12-bbcc-9ee5ff2a3ae7",
     "showTitle": false,
     "tableResultSettingsMap": {},
     "title": ""
    }
   },
   "outputs": [
    {
     "output_type": "display_data",
     "data": {
      "text/html": [
       "<style scoped>\n",
       "  .table-result-container {\n",
       "    max-height: 300px;\n",
       "    overflow: auto;\n",
       "  }\n",
       "  table, th, td {\n",
       "    border: 1px solid black;\n",
       "    border-collapse: collapse;\n",
       "  }\n",
       "  th, td {\n",
       "    padding: 5px;\n",
       "  }\n",
       "  th {\n",
       "    text-align: left;\n",
       "  }\n",
       "</style><div class='table-result-container'><table class='table-result'><thead style='background-color: white'><tr><th>student_id</th><th>first_name</th><th>last_name</th><th>gpa</th><th>enrollment_date</th><th>major</th></tr></thead><tbody><tr><td>1</td><td>Ramesh</td><td>Babu</td><td>3.3</td><td>2024-07-01</td><td>Commerce</td></tr><tr><td>4</td><td>Joseph</td><td>Brown</td><td>3.7</td><td>2023-07-01</td><td>Aerospace</td></tr><tr><td>8</td><td>Rakesh</td><td>Kumar</td><td>3.9</td><td>2020-07-01</td><td>Data Scientist</td></tr><tr><td>10</td><td>Kamath</td><td>mohan</td><td>3.7</td><td>2023-07-01</td><td>Science</td></tr><tr><td>13</td><td>Danush</td><td>Vedanth</td><td>3.3</td><td>2021-07-01</td><td>Social</td></tr></tbody></table></div>"
      ]
     },
     "metadata": {
      "application/vnd.databricks.v1+output": {
       "addedWidgets": {},
       "aggData": [],
       "aggError": "",
       "aggOverflow": false,
       "aggSchema": [],
       "aggSeriesLimitReached": false,
       "aggType": "",
       "arguments": {},
       "columnCustomDisplayInfos": {},
       "data": [
        [
         1,
         "Ramesh",
         "Babu",
         3.3,
         "2024-07-01",
         "Commerce"
        ],
        [
         4,
         "Joseph",
         "Brown",
         3.7,
         "2023-07-01",
         "Aerospace"
        ],
        [
         8,
         "Rakesh",
         "Kumar",
         3.9,
         "2020-07-01",
         "Data Scientist"
        ],
        [
         10,
         "Kamath",
         "mohan",
         3.7,
         "2023-07-01",
         "Science"
        ],
        [
         13,
         "Danush",
         "Vedanth",
         3.3,
         "2021-07-01",
         "Social"
        ]
       ],
       "datasetInfos": [],
       "dbfsResultPath": null,
       "isJsonSchema": true,
       "metadata": {},
       "overflow": false,
       "plotOptions": {
        "customPlotOptions": {},
        "displayType": "table",
        "pivotAggregation": null,
        "pivotColumns": null,
        "xColumns": null,
        "yColumns": null
       },
       "removedWidgets": [],
       "schema": [
        {
         "metadata": "{}",
         "name": "student_id",
         "type": "\"long\""
        },
        {
         "metadata": "{}",
         "name": "first_name",
         "type": "\"string\""
        },
        {
         "metadata": "{}",
         "name": "last_name",
         "type": "\"string\""
        },
        {
         "metadata": "{}",
         "name": "gpa",
         "type": "\"double\""
        },
        {
         "metadata": "{}",
         "name": "enrollment_date",
         "type": "\"string\""
        },
        {
         "metadata": "{}",
         "name": "major",
         "type": "\"string\""
        }
       ],
       "type": "table"
      }
     },
     "output_type": "display_data"
    }
   ],
   "source": [
    "# Filter DataFrame\n",
    "from pyspark.sql.functions import upper, substring, length, col\n",
    "\n",
    "filtered_students_03 = students_df.where(\n",
    "    (upper(substring(col('first_name'), -1, 1)) == 'H') & (length(col('first_name')) == 6)\n",
    ")\n",
    "\n",
    "# Show filtered DataFrame\n",
    "display(filtered_students_03)"
   ]
  }
 ],
 "metadata": {
  "application/vnd.databricks.v1+notebook": {
   "computePreferences": null,
   "dashboards": [],
   "environmentMetadata": null,
   "language": "python",
   "notebookMetadata": {
    "pythonIndentUnit": 4
   },
   "notebookName": "4_Name ends with letter h & have exactly 6 alphabets",
   "widgets": {}
  }
 },
 "nbformat": 4,
 "nbformat_minor": 0
}
