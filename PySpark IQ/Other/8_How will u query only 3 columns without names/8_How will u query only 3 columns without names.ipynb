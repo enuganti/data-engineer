{
 "cells": [
  {
   "cell_type": "markdown",
   "metadata": {
    "application/vnd.databricks.v1+cell": {
     "cellMetadata": {},
     "inputWidgets": {},
     "nuid": "511fc9aa-496b-48f2-b774-b8c3c26b8af0",
     "showTitle": false,
     "tableResultSettingsMap": {},
     "title": ""
    }
   },
   "source": [
    "**PROBLEM STATEMENT**\n",
    "\n",
    "- How will u query only **3 columns** of a table **without mentioning** the column name using pyspark?"
   ]
  },
  {
   "cell_type": "code",
   "execution_count": 0,
   "metadata": {
    "application/vnd.databricks.v1+cell": {
     "cellMetadata": {
      "byteLimit": 2048000,
      "rowLimit": 10000
     },
     "inputWidgets": {},
     "nuid": "ba48e00e-2fca-4147-a084-72c238bec1c4",
     "showTitle": false,
     "tableResultSettingsMap": {},
     "title": ""
    }
   },
   "outputs": [
    {
     "output_type": "display_data",
     "data": {
      "text/html": [
       "<style scoped>\n",
       "  .table-result-container {\n",
       "    max-height: 300px;\n",
       "    overflow: auto;\n",
       "  }\n",
       "  table, th, td {\n",
       "    border: 1px solid black;\n",
       "    border-collapse: collapse;\n",
       "  }\n",
       "  th, td {\n",
       "    padding: 5px;\n",
       "  }\n",
       "  th {\n",
       "    text-align: left;\n",
       "  }\n",
       "</style><div class='table-result-container'><table class='table-result'><thead style='background-color: white'><tr><th>Id</th><th>dept_Id</th><th>SubDept_Id</th><th>Vehicle_Id</th><th>Vehicle_Profile_Id</th><th>Description</th><th>Vehicle_Price_Id</th><th>Vehicle_Showroom_Price</th><th>Vehicle_Showroom_Delta</th><th>Vehicle_Showroom_Payment_Date</th><th>Currency</th><th>Target_Currency</th><th>Average</th><th>Increment</th><th>Target_Simulation_Id</th></tr></thead><tbody><tr><td>257</td><td>257</td><td>1</td><td>1</td><td>0</td><td>Baleno</td><td>6</td><td>72567.98</td><td>5678.01</td><td>2/20/2023</td><td>INR</td><td>INR</td><td>2381.657773</td><td>0.0</td><td>1071</td></tr><tr><td>264</td><td>264</td><td>1</td><td>0</td><td>0</td><td>Engine_Base</td><td>90</td><td>91768.98</td><td>12678.01</td><td>6/30/2025</td><td>INR</td><td>INR</td><td>553.8461539</td><td>0.0</td><td>1063</td></tr><tr><td>265</td><td>265</td><td>1</td><td>0</td><td>0</td><td>Baleno</td><td>83</td><td>8400.123</td><td>1450.01</td><td>12/27/2023</td><td>INR</td><td>INR</td><td>-7199.999999</td><td>0.0</td><td>1065</td></tr><tr><td>266</td><td>266</td><td>1</td><td>0</td><td>0</td><td>Engine_Base</td><td>76</td><td>77345.665</td><td>3456.01</td><td>4/30/2024</td><td>INR</td><td>INR</td><td>7200.0</td><td>0.0</td><td>1063</td></tr><tr><td>267</td><td>267</td><td>1</td><td>0</td><td>0</td><td>Suzuki Swift</td><td>96</td><td>974567.11</td><td>110.01</td><td>12/31/2025</td><td>INR</td><td>INR</td><td>1404.878049</td><td>0.0</td><td>1063</td></tr><tr><td>268</td><td>268</td><td>1</td><td>1</td><td>0</td><td>Suzuki Swift</td><td>48</td><td>49.0</td><td>0.01</td><td>3/20/2023</td><td>INR</td><td>INR</td><td>834.1253</td><td>0.0</td><td>1068</td></tr><tr><td>270</td><td>270</td><td>1</td><td>0</td><td>0</td><td>Wagon R</td><td>76</td><td>77345.665</td><td>3456.01</td><td>3/26/2024</td><td>INR</td><td>INR</td><td>7200.0</td><td>0.0</td><td>1065</td></tr><tr><td>271</td><td>271</td><td>1</td><td>0</td><td>0</td><td>Engine_Base</td><td>34</td><td>35.0</td><td>12340.0123</td><td>3/20/2023</td><td>INR</td><td>INR</td><td>1668.2506</td><td>0.0</td><td>1068</td></tr><tr><td>272</td><td>272</td><td>1</td><td>1</td><td>0</td><td>Creta</td><td>29</td><td>30.0</td><td>12340.0123</td><td>3/20/2023</td><td>INR</td><td>INR</td><td>-2383.215143</td><td>0.0</td><td>1071</td></tr><tr><td>277</td><td>277</td><td>1</td><td>0</td><td>0</td><td>Brezza</td><td>73</td><td>74567.34567</td><td>3456.01</td><td>12/28/2023</td><td>INR</td><td>INR</td><td>7440.0</td><td>0.0</td><td>1065</td></tr></tbody></table></div>"
      ]
     },
     "metadata": {
      "application/vnd.databricks.v1+output": {
       "addedWidgets": {},
       "aggData": [],
       "aggError": "",
       "aggOverflow": false,
       "aggSchema": [],
       "aggSeriesLimitReached": false,
       "aggType": "",
       "arguments": {},
       "columnCustomDisplayInfos": {},
       "data": [
        [
         257,
         257,
         1,
         1,
         0,
         "Baleno",
         6,
         72567.98,
         5678.01,
         "2/20/2023",
         "INR",
         "INR",
         2381.657773,
         0.0,
         1071
        ],
        [
         264,
         264,
         1,
         0,
         0,
         "Engine_Base",
         90,
         91768.98,
         12678.01,
         "6/30/2025",
         "INR",
         "INR",
         553.8461539,
         0.0,
         1063
        ],
        [
         265,
         265,
         1,
         0,
         0,
         "Baleno",
         83,
         8400.123,
         1450.01,
         "12/27/2023",
         "INR",
         "INR",
         -7199.999999,
         0.0,
         1065
        ],
        [
         266,
         266,
         1,
         0,
         0,
         "Engine_Base",
         76,
         77345.665,
         3456.01,
         "4/30/2024",
         "INR",
         "INR",
         7200.0,
         0.0,
         1063
        ],
        [
         267,
         267,
         1,
         0,
         0,
         "Suzuki Swift",
         96,
         974567.11,
         110.01,
         "12/31/2025",
         "INR",
         "INR",
         1404.878049,
         0.0,
         1063
        ],
        [
         268,
         268,
         1,
         1,
         0,
         "Suzuki Swift",
         48,
         49.0,
         0.01,
         "3/20/2023",
         "INR",
         "INR",
         834.1253,
         0.0,
         1068
        ],
        [
         270,
         270,
         1,
         0,
         0,
         "Wagon R",
         76,
         77345.665,
         3456.01,
         "3/26/2024",
         "INR",
         "INR",
         7200.0,
         0.0,
         1065
        ],
        [
         271,
         271,
         1,
         0,
         0,
         "Engine_Base",
         34,
         35.0,
         12340.0123,
         "3/20/2023",
         "INR",
         "INR",
         1668.2506,
         0.0,
         1068
        ],
        [
         272,
         272,
         1,
         1,
         0,
         "Creta",
         29,
         30.0,
         12340.0123,
         "3/20/2023",
         "INR",
         "INR",
         -2383.215143,
         0.0,
         1071
        ],
        [
         277,
         277,
         1,
         0,
         0,
         "Brezza",
         73,
         74567.34567,
         3456.01,
         "12/28/2023",
         "INR",
         "INR",
         7440.0,
         0.0,
         1065
        ]
       ],
       "datasetInfos": [],
       "dbfsResultPath": null,
       "isJsonSchema": true,
       "metadata": {},
       "overflow": false,
       "plotOptions": {
        "customPlotOptions": {},
        "displayType": "table",
        "pivotAggregation": null,
        "pivotColumns": null,
        "xColumns": null,
        "yColumns": null
       },
       "removedWidgets": [],
       "schema": [
        {
         "metadata": "{}",
         "name": "Id",
         "type": "\"integer\""
        },
        {
         "metadata": "{}",
         "name": "dept_Id",
         "type": "\"integer\""
        },
        {
         "metadata": "{}",
         "name": "SubDept_Id",
         "type": "\"integer\""
        },
        {
         "metadata": "{}",
         "name": "Vehicle_Id",
         "type": "\"integer\""
        },
        {
         "metadata": "{}",
         "name": "Vehicle_Profile_Id",
         "type": "\"integer\""
        },
        {
         "metadata": "{}",
         "name": "Description",
         "type": "\"string\""
        },
        {
         "metadata": "{}",
         "name": "Vehicle_Price_Id",
         "type": "\"integer\""
        },
        {
         "metadata": "{}",
         "name": "Vehicle_Showroom_Price",
         "type": "\"double\""
        },
        {
         "metadata": "{}",
         "name": "Vehicle_Showroom_Delta",
         "type": "\"double\""
        },
        {
         "metadata": "{}",
         "name": "Vehicle_Showroom_Payment_Date",
         "type": "\"string\""
        },
        {
         "metadata": "{}",
         "name": "Currency",
         "type": "\"string\""
        },
        {
         "metadata": "{}",
         "name": "Target_Currency",
         "type": "\"string\""
        },
        {
         "metadata": "{}",
         "name": "Average",
         "type": "\"double\""
        },
        {
         "metadata": "{}",
         "name": "Increment",
         "type": "\"double\""
        },
        {
         "metadata": "{}",
         "name": "Target_Simulation_Id",
         "type": "\"integer\""
        }
       ],
       "type": "table"
      }
     },
     "output_type": "display_data"
    },
    {
     "output_type": "stream",
     "name": "stdout",
     "output_type": "stream",
     "text": [
      "root\n |-- Id: integer (nullable = true)\n |-- dept_Id: integer (nullable = true)\n |-- SubDept_Id: integer (nullable = true)\n |-- Vehicle_Id: integer (nullable = true)\n |-- Vehicle_Profile_Id: integer (nullable = true)\n |-- Description: string (nullable = true)\n |-- Vehicle_Price_Id: integer (nullable = true)\n |-- Vehicle_Showroom_Price: double (nullable = true)\n |-- Vehicle_Showroom_Delta: double (nullable = true)\n |-- Vehicle_Showroom_Payment_Date: string (nullable = true)\n |-- Currency: string (nullable = true)\n |-- Target_Currency: string (nullable = true)\n |-- Average: double (nullable = true)\n |-- Increment: double (nullable = true)\n |-- Target_Simulation_Id: integer (nullable = true)\n\nNumber of Rows: 2087\nColumn Names:\n\n ['Id', 'dept_Id', 'SubDept_Id', 'Vehicle_Id', 'Vehicle_Profile_Id', 'Description', 'Vehicle_Price_Id', 'Vehicle_Showroom_Price', 'Vehicle_Showroom_Delta', 'Vehicle_Showroom_Payment_Date', 'Currency', 'Target_Currency', 'Average', 'Increment', 'Target_Simulation_Id']\n\n Number of columns: 15\n"
     ]
    }
   ],
   "source": [
    "df = spark.read.csv(\"/FileStore/tables/Sales_Collect.csv\", header=True, inferSchema=True)\n",
    "display(df.limit(10))\n",
    "df.printSchema()\n",
    "print(\"Number of Rows:\", df.count())\n",
    "\n",
    "print(\"Column Names:\\n\\n\", df.columns)\n",
    "print(\"\\n Number of columns:\", len(df.columns))"
   ]
  },
  {
   "cell_type": "markdown",
   "metadata": {
    "application/vnd.databricks.v1+cell": {
     "cellMetadata": {},
     "inputWidgets": {},
     "nuid": "34edb2d9-0c64-4707-a723-0af7d2116b82",
     "showTitle": false,
     "tableResultSettingsMap": {},
     "title": ""
    }
   },
   "source": [
    "**1) Select by Index**\n",
    "- You can use a **Python list** to select columns by their **index**."
   ]
  },
  {
   "cell_type": "code",
   "execution_count": 0,
   "metadata": {
    "application/vnd.databricks.v1+cell": {
     "cellMetadata": {
      "byteLimit": 2048000,
      "rowLimit": 10000
     },
     "inputWidgets": {},
     "nuid": "6aed00c3-61ab-4e97-a179-38d71e1ff4e3",
     "showTitle": false,
     "tableResultSettingsMap": {},
     "title": ""
    }
   },
   "outputs": [
    {
     "output_type": "stream",
     "name": "stdout",
     "output_type": "stream",
     "text": [
      "+---+-------+----------+\n| Id|dept_Id|SubDept_Id|\n+---+-------+----------+\n|257|    257|         1|\n|264|    264|         1|\n|265|    265|         1|\n+---+-------+----------+\nonly showing top 3 rows\n\n+----------+----------+------------------+\n|SubDept_Id|Vehicle_Id|Vehicle_Profile_Id|\n+----------+----------+------------------+\n|         1|         1|                 0|\n|         1|         0|                 0|\n|         1|         0|                 0|\n+----------+----------+------------------+\nonly showing top 3 rows\n\n"
     ]
    }
   ],
   "source": [
    "# Selects the first 3 columns\n",
    "df.select(df.columns[:3]).show(3)\n",
    "\n",
    "# Selects columns 2 to 4\n",
    "df.select(df.columns[2:5]).show(3)"
   ]
  },
  {
   "cell_type": "markdown",
   "metadata": {
    "application/vnd.databricks.v1+cell": {
     "cellMetadata": {},
     "inputWidgets": {},
     "nuid": "8108dd89-46a1-4888-804c-c1284ffafd1e",
     "showTitle": false,
     "tableResultSettingsMap": {},
     "title": ""
    }
   },
   "source": [
    "**2) Select All Columns from a List**\n",
    "- If you have a **list of column names**, you can select all those columns using the ***operator**"
   ]
  },
  {
   "cell_type": "code",
   "execution_count": 0,
   "metadata": {
    "application/vnd.databricks.v1+cell": {
     "cellMetadata": {
      "byteLimit": 2048000,
      "rowLimit": 10000
     },
     "inputWidgets": {},
     "nuid": "cd150ccf-7ff8-4930-82af-aa97c12a146f",
     "showTitle": false,
     "tableResultSettingsMap": {},
     "title": ""
    }
   },
   "outputs": [
    {
     "output_type": "display_data",
     "data": {
      "text/html": [
       "<style scoped>\n",
       "  .table-result-container {\n",
       "    max-height: 300px;\n",
       "    overflow: auto;\n",
       "  }\n",
       "  table, th, td {\n",
       "    border: 1px solid black;\n",
       "    border-collapse: collapse;\n",
       "  }\n",
       "  th, td {\n",
       "    padding: 5px;\n",
       "  }\n",
       "  th {\n",
       "    text-align: left;\n",
       "  }\n",
       "</style><div class='table-result-container'><table class='table-result'><thead style='background-color: white'><tr><th>Id</th><th>Vehicle_Id</th><th>Description</th><th>Average</th></tr></thead><tbody><tr><td>257</td><td>1</td><td>Baleno</td><td>2381.657773</td></tr><tr><td>264</td><td>0</td><td>Engine_Base</td><td>553.8461539</td></tr><tr><td>265</td><td>0</td><td>Baleno</td><td>-7199.999999</td></tr><tr><td>266</td><td>0</td><td>Engine_Base</td><td>7200.0</td></tr><tr><td>267</td><td>0</td><td>Suzuki Swift</td><td>1404.878049</td></tr><tr><td>268</td><td>1</td><td>Suzuki Swift</td><td>834.1253</td></tr><tr><td>270</td><td>0</td><td>Wagon R</td><td>7200.0</td></tr><tr><td>271</td><td>0</td><td>Engine_Base</td><td>1668.2506</td></tr><tr><td>272</td><td>1</td><td>Creta</td><td>-2383.215143</td></tr><tr><td>277</td><td>0</td><td>Brezza</td><td>7440.0</td></tr></tbody></table></div>"
      ]
     },
     "metadata": {
      "application/vnd.databricks.v1+output": {
       "addedWidgets": {},
       "aggData": [],
       "aggError": "",
       "aggOverflow": false,
       "aggSchema": [],
       "aggSeriesLimitReached": false,
       "aggType": "",
       "arguments": {},
       "columnCustomDisplayInfos": {},
       "data": [
        [
         257,
         1,
         "Baleno",
         2381.657773
        ],
        [
         264,
         0,
         "Engine_Base",
         553.8461539
        ],
        [
         265,
         0,
         "Baleno",
         -7199.999999
        ],
        [
         266,
         0,
         "Engine_Base",
         7200.0
        ],
        [
         267,
         0,
         "Suzuki Swift",
         1404.878049
        ],
        [
         268,
         1,
         "Suzuki Swift",
         834.1253
        ],
        [
         270,
         0,
         "Wagon R",
         7200.0
        ],
        [
         271,
         0,
         "Engine_Base",
         1668.2506
        ],
        [
         272,
         1,
         "Creta",
         -2383.215143
        ],
        [
         277,
         0,
         "Brezza",
         7440.0
        ]
       ],
       "datasetInfos": [],
       "dbfsResultPath": null,
       "isJsonSchema": true,
       "metadata": {},
       "overflow": false,
       "plotOptions": {
        "customPlotOptions": {},
        "displayType": "table",
        "pivotAggregation": null,
        "pivotColumns": null,
        "xColumns": null,
        "yColumns": null
       },
       "removedWidgets": [],
       "schema": [
        {
         "metadata": "{}",
         "name": "Id",
         "type": "\"integer\""
        },
        {
         "metadata": "{}",
         "name": "Vehicle_Id",
         "type": "\"integer\""
        },
        {
         "metadata": "{}",
         "name": "Description",
         "type": "\"string\""
        },
        {
         "metadata": "{}",
         "name": "Average",
         "type": "\"double\""
        }
       ],
       "type": "table"
      }
     },
     "output_type": "display_data"
    }
   ],
   "source": [
    "# Your list of column names\n",
    "columns = [\"Id\", \"Vehicle_Id\", \"Description\",\"Average\"]\n",
    "display(df.select(*columns).limit(10))"
   ]
  }
 ],
 "metadata": {
  "application/vnd.databricks.v1+notebook": {
   "computePreferences": null,
   "dashboards": [],
   "environmentMetadata": null,
   "language": "python",
   "notebookMetadata": {
    "pythonIndentUnit": 4
   },
   "notebookName": "8_How will u query only 3 columns without names",
   "widgets": {}
  }
 },
 "nbformat": 4,
 "nbformat_minor": 0
}
