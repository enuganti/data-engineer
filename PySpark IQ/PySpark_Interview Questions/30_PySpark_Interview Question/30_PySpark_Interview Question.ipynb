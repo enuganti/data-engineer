{
 "cells": [
  {
   "cell_type": "markdown",
   "metadata": {
    "application/vnd.databricks.v1+cell": {
     "cellMetadata": {},
     "inputWidgets": {},
     "nuid": "08babb9b-c898-4600-a9a5-5be2aded02b3",
     "showTitle": false,
     "tableResultSettingsMap": {},
     "title": ""
    }
   },
   "source": [
    "#### **Question 01**"
   ]
  },
  {
   "cell_type": "markdown",
   "metadata": {
    "application/vnd.databricks.v1+cell": {
     "cellMetadata": {},
     "inputWidgets": {},
     "nuid": "44e21515-6eed-4e4b-8370-774ecb039c70",
     "showTitle": false,
     "tableResultSettingsMap": {},
     "title": ""
    }
   },
   "source": [
    "     We have multiple columns in data as below:\n",
    "            column1   column2    column 3\n",
    "\n",
    "     How to add new column `(column3)*2` in existing data set?\n",
    "           output:\n",
    "             column1   column2     column 3   new_column"
   ]
  },
  {
   "cell_type": "code",
   "execution_count": 0,
   "metadata": {
    "application/vnd.databricks.v1+cell": {
     "cellMetadata": {
      "byteLimit": 2048000,
      "rowLimit": 10000
     },
     "inputWidgets": {},
     "nuid": "2cca463a-5591-45bf-9edb-b76a84a522e9",
     "showTitle": true,
     "tableResultSettingsMap": {},
     "title": "Create Table"
    }
   },
   "outputs": [
    {
     "output_type": "display_data",
     "data": {
      "text/html": [
       "<style scoped>\n",
       "  .table-result-container {\n",
       "    max-height: 300px;\n",
       "    overflow: auto;\n",
       "  }\n",
       "  table, th, td {\n",
       "    border: 1px solid black;\n",
       "    border-collapse: collapse;\n",
       "  }\n",
       "  th, td {\n",
       "    padding: 5px;\n",
       "  }\n",
       "  th {\n",
       "    text-align: left;\n",
       "  }\n",
       "</style><div class='table-result-container'><table class='table-result'><thead style='background-color: white'><tr><th>column1</th><th>column2</th><th>column3</th></tr></thead><tbody><tr><td>1</td><td>2</td><td>3</td></tr><tr><td>4</td><td>5</td><td>6</td></tr><tr><td>7</td><td>8</td><td>9</td></tr></tbody></table></div>"
      ]
     },
     "metadata": {
      "application/vnd.databricks.v1+output": {
       "addedWidgets": {},
       "aggData": [],
       "aggError": "",
       "aggOverflow": false,
       "aggSchema": [],
       "aggSeriesLimitReached": false,
       "aggType": "",
       "arguments": {},
       "columnCustomDisplayInfos": {},
       "data": [
        [
         1,
         2,
         3
        ],
        [
         4,
         5,
         6
        ],
        [
         7,
         8,
         9
        ]
       ],
       "datasetInfos": [],
       "dbfsResultPath": null,
       "isJsonSchema": true,
       "metadata": {},
       "overflow": false,
       "plotOptions": {
        "customPlotOptions": {},
        "displayType": "table",
        "pivotAggregation": null,
        "pivotColumns": null,
        "xColumns": null,
        "yColumns": null
       },
       "removedWidgets": [],
       "schema": [
        {
         "metadata": "{}",
         "name": "column1",
         "type": "\"long\""
        },
        {
         "metadata": "{}",
         "name": "column2",
         "type": "\"long\""
        },
        {
         "metadata": "{}",
         "name": "column3",
         "type": "\"long\""
        }
       ],
       "type": "table"
      }
     },
     "output_type": "display_data"
    }
   ],
   "source": [
    "from pyspark.sql.functions import col\n",
    "\n",
    "# Sample data\n",
    "data = [(1, 2, 3),\n",
    "        (4, 5, 6),\n",
    "        (7, 8, 9)]\n",
    "\n",
    "# Define schema\n",
    "columns = [\"column1\", \"column2\", \"column3\"]\n",
    "\n",
    "# Create DataFrame\n",
    "df_q3 = spark.createDataFrame(data, columns)\n",
    "display(df_q3)"
   ]
  },
  {
   "cell_type": "code",
   "execution_count": 0,
   "metadata": {
    "application/vnd.databricks.v1+cell": {
     "cellMetadata": {
      "byteLimit": 2048000,
      "rowLimit": 10000
     },
     "inputWidgets": {},
     "nuid": "c6aa3578-3558-4dc7-8763-df17228735ff",
     "showTitle": true,
     "tableResultSettingsMap": {},
     "title": "Adding New Column"
    }
   },
   "outputs": [
    {
     "output_type": "display_data",
     "data": {
      "text/html": [
       "<style scoped>\n",
       "  .table-result-container {\n",
       "    max-height: 300px;\n",
       "    overflow: auto;\n",
       "  }\n",
       "  table, th, td {\n",
       "    border: 1px solid black;\n",
       "    border-collapse: collapse;\n",
       "  }\n",
       "  th, td {\n",
       "    padding: 5px;\n",
       "  }\n",
       "  th {\n",
       "    text-align: left;\n",
       "  }\n",
       "</style><div class='table-result-container'><table class='table-result'><thead style='background-color: white'><tr><th>column1</th><th>column2</th><th>column3</th><th>new_column</th></tr></thead><tbody><tr><td>1</td><td>2</td><td>3</td><td>6</td></tr><tr><td>4</td><td>5</td><td>6</td><td>12</td></tr><tr><td>7</td><td>8</td><td>9</td><td>18</td></tr></tbody></table></div>"
      ]
     },
     "metadata": {
      "application/vnd.databricks.v1+output": {
       "addedWidgets": {},
       "aggData": [],
       "aggError": "",
       "aggOverflow": false,
       "aggSchema": [],
       "aggSeriesLimitReached": false,
       "aggType": "",
       "arguments": {},
       "columnCustomDisplayInfos": {},
       "data": [
        [
         1,
         2,
         3,
         6
        ],
        [
         4,
         5,
         6,
         12
        ],
        [
         7,
         8,
         9,
         18
        ]
       ],
       "datasetInfos": [],
       "dbfsResultPath": null,
       "isJsonSchema": true,
       "metadata": {},
       "overflow": false,
       "plotOptions": {
        "customPlotOptions": {},
        "displayType": "table",
        "pivotAggregation": null,
        "pivotColumns": null,
        "xColumns": null,
        "yColumns": null
       },
       "removedWidgets": [],
       "schema": [
        {
         "metadata": "{}",
         "name": "column1",
         "type": "\"long\""
        },
        {
         "metadata": "{}",
         "name": "column2",
         "type": "\"long\""
        },
        {
         "metadata": "{}",
         "name": "column3",
         "type": "\"long\""
        },
        {
         "metadata": "{}",
         "name": "new_column",
         "type": "\"long\""
        }
       ],
       "type": "table"
      }
     },
     "output_type": "display_data"
    }
   ],
   "source": [
    "# Add new column which is (column3) * 2\n",
    "df_with_new_column = df_q3.withColumn(\"new_column\", col(\"column3\") * 2)\n",
    "\n",
    "# Display the DataFrame\n",
    "display(df_with_new_column)"
   ]
  },
  {
   "cell_type": "markdown",
   "metadata": {
    "application/vnd.databricks.v1+cell": {
     "cellMetadata": {},
     "inputWidgets": {},
     "nuid": "b8cbd5ed-3336-4c1d-97da-2bceca71fa9f",
     "showTitle": false,
     "tableResultSettingsMap": {},
     "title": ""
    }
   },
   "source": [
    "#### **Question 02**"
   ]
  },
  {
   "cell_type": "markdown",
   "metadata": {
    "application/vnd.databricks.v1+cell": {
     "cellMetadata": {},
     "inputWidgets": {},
     "nuid": "83e0f24d-d659-4a9a-8449-d83f16fa89f2",
     "showTitle": false,
     "tableResultSettingsMap": {},
     "title": ""
    }
   },
   "source": [
    "      We have column as below order\n",
    "            item_id       c1        c2\n",
    "               1        [a,b,c]     d\n",
    "      \n",
    "      How to separate `c1` column as individual as below?\n",
    "            item_id      c1        c2       c3        c4\n",
    "               1         a         b        c         d"
   ]
  },
  {
   "cell_type": "code",
   "execution_count": 0,
   "metadata": {
    "application/vnd.databricks.v1+cell": {
     "cellMetadata": {
      "byteLimit": 2048000,
      "rowLimit": 10000
     },
     "inputWidgets": {},
     "nuid": "9f9f1be3-1c72-410d-b8d9-d7aa5bafba95",
     "showTitle": false,
     "tableResultSettingsMap": {},
     "title": ""
    }
   },
   "outputs": [
    {
     "output_type": "display_data",
     "data": {
      "text/html": [
       "<style scoped>\n",
       "  .table-result-container {\n",
       "    max-height: 300px;\n",
       "    overflow: auto;\n",
       "  }\n",
       "  table, th, td {\n",
       "    border: 1px solid black;\n",
       "    border-collapse: collapse;\n",
       "  }\n",
       "  th, td {\n",
       "    padding: 5px;\n",
       "  }\n",
       "  th {\n",
       "    text-align: left;\n",
       "  }\n",
       "</style><div class='table-result-container'><table class='table-result'><thead style='background-color: white'><tr><th>item_id</th><th>c1</th><th>c2</th></tr></thead><tbody><tr><td>1</td><td>List(a, b, c)</td><td>d</td></tr></tbody></table></div>"
      ]
     },
     "metadata": {
      "application/vnd.databricks.v1+output": {
       "addedWidgets": {},
       "aggData": [],
       "aggError": "",
       "aggOverflow": false,
       "aggSchema": [],
       "aggSeriesLimitReached": false,
       "aggType": "",
       "arguments": {},
       "columnCustomDisplayInfos": {},
       "data": [
        [
         1,
         [
          "a",
          "b",
          "c"
         ],
         "d"
        ]
       ],
       "datasetInfos": [],
       "dbfsResultPath": null,
       "isJsonSchema": true,
       "metadata": {},
       "overflow": false,
       "plotOptions": {
        "customPlotOptions": {},
        "displayType": "table",
        "pivotAggregation": null,
        "pivotColumns": null,
        "xColumns": null,
        "yColumns": null
       },
       "removedWidgets": [],
       "schema": [
        {
         "metadata": "{}",
         "name": "item_id",
         "type": "\"long\""
        },
        {
         "metadata": "{}",
         "name": "c1",
         "type": "{\"type\":\"array\",\"elementType\":\"string\",\"containsNull\":true}"
        },
        {
         "metadata": "{}",
         "name": "c2",
         "type": "\"string\""
        }
       ],
       "type": "table"
      }
     },
     "output_type": "display_data"
    }
   ],
   "source": [
    "# Sample data\n",
    "data = [\n",
    "    (1, [\"a\", \"b\", \"c\"], \"d\")\n",
    "]\n",
    "\n",
    "# Define schema\n",
    "columns = [\"item_id\", \"c1\", \"c2\"]\n",
    "\n",
    "# Create DataFrame\n",
    "df_Q4 = spark.createDataFrame(data, columns)\n",
    "display(df_Q4)"
   ]
  },
  {
   "cell_type": "code",
   "execution_count": 0,
   "metadata": {
    "application/vnd.databricks.v1+cell": {
     "cellMetadata": {
      "byteLimit": 2048000,
      "rowLimit": 10000
     },
     "inputWidgets": {},
     "nuid": "400376a8-4491-4acf-99a3-2e100b481d8b",
     "showTitle": false,
     "tableResultSettingsMap": {},
     "title": ""
    }
   },
   "outputs": [],
   "source": [
    "from pyspark.sql.functions import split, col, explode, max, size"
   ]
  },
  {
   "cell_type": "markdown",
   "metadata": {
    "application/vnd.databricks.v1+cell": {
     "cellMetadata": {},
     "inputWidgets": {},
     "nuid": "0eca70c7-5749-4715-bb54-964e806244f1",
     "showTitle": false,
     "tableResultSettingsMap": {},
     "title": ""
    }
   },
   "source": [
    "     # Use selectExpr to split the array into separate columns\n",
    "     df_expr = df_Q4.selectExpr(\"item_id\", \"c1[0] as c1\", \"c1[1] as c2\", \"c1[2] as c3\", \"c2\")\n",
    "     display(df_expr)"
   ]
  },
  {
   "cell_type": "code",
   "execution_count": 0,
   "metadata": {
    "application/vnd.databricks.v1+cell": {
     "cellMetadata": {
      "byteLimit": 2048000,
      "rowLimit": 10000
     },
     "inputWidgets": {},
     "nuid": "96f3736c-c597-4e9b-9d3b-4964e8d9150b",
     "showTitle": false,
     "tableResultSettingsMap": {},
     "title": ""
    }
   },
   "outputs": [
    {
     "output_type": "display_data",
     "data": {
      "text/html": [
       "<style scoped>\n",
       "  .table-result-container {\n",
       "    max-height: 300px;\n",
       "    overflow: auto;\n",
       "  }\n",
       "  table, th, td {\n",
       "    border: 1px solid black;\n",
       "    border-collapse: collapse;\n",
       "  }\n",
       "  th, td {\n",
       "    padding: 5px;\n",
       "  }\n",
       "  th {\n",
       "    text-align: left;\n",
       "  }\n",
       "</style><div class='table-result-container'><table class='table-result'><thead style='background-color: white'><tr><th>item_id</th><th>c4</th><th>c1</th><th>c2</th><th>c3</th></tr></thead><tbody><tr><td>1</td><td>d</td><td>a</td><td>b</td><td>c</td></tr></tbody></table></div>"
      ]
     },
     "metadata": {
      "application/vnd.databricks.v1+output": {
       "addedWidgets": {},
       "aggData": [],
       "aggError": "",
       "aggOverflow": false,
       "aggSchema": [],
       "aggSeriesLimitReached": false,
       "aggType": "",
       "arguments": {},
       "columnCustomDisplayInfos": {},
       "data": [
        [
         1,
         "d",
         "a",
         "b",
         "c"
        ]
       ],
       "datasetInfos": [],
       "dbfsResultPath": null,
       "isJsonSchema": true,
       "metadata": {},
       "overflow": false,
       "plotOptions": {
        "customPlotOptions": {},
        "displayType": "table",
        "pivotAggregation": null,
        "pivotColumns": null,
        "xColumns": null,
        "yColumns": null
       },
       "removedWidgets": [],
       "schema": [
        {
         "metadata": "{}",
         "name": "item_id",
         "type": "\"long\""
        },
        {
         "metadata": "{}",
         "name": "c4",
         "type": "\"string\""
        },
        {
         "metadata": "{}",
         "name": "c1",
         "type": "\"string\""
        },
        {
         "metadata": "{}",
         "name": "c2",
         "type": "\"string\""
        },
        {
         "metadata": "{}",
         "name": "c3",
         "type": "\"string\""
        }
       ],
       "type": "table"
      }
     },
     "output_type": "display_data"
    }
   ],
   "source": [
    "# Split the c1 column into individual columns\n",
    "df_split = df_Q4.withColumn(\"c1_split_0\", df_Q4.c1[0]) \\\n",
    "                .withColumn(\"c1_split_1\", df_Q4.c1[1]) \\\n",
    "                .withColumn(\"c1_split_2\", df_Q4.c1[2]) \\\n",
    "                .withColumnRenamed(\"c2\", \"c4\") \\\n",
    "                .drop('c1') \\\n",
    "                .withColumnRenamed(\"c1_split_0\", \"c1\") \\\n",
    "                .withColumnRenamed(\"c1_split_1\", \"c2\") \\\n",
    "                .withColumnRenamed(\"c1_split_2\", \"c3\")\n",
    "\n",
    "# Display the DataFrame\n",
    "display(df_split)"
   ]
  },
  {
   "cell_type": "markdown",
   "metadata": {
    "application/vnd.databricks.v1+cell": {
     "cellMetadata": {},
     "inputWidgets": {},
     "nuid": "69e5c884-e656-47c3-990e-c735ca0f8343",
     "showTitle": false,
     "tableResultSettingsMap": {},
     "title": ""
    }
   },
   "source": [
    "#### **Question 03**"
   ]
  },
  {
   "cell_type": "code",
   "execution_count": 0,
   "metadata": {
    "application/vnd.databricks.v1+cell": {
     "cellMetadata": {
      "byteLimit": 2048000,
      "rowLimit": 10000
     },
     "inputWidgets": {},
     "nuid": "0a3a6329-c4c7-4342-97ca-80076675ab73",
     "showTitle": true,
     "tableResultSettingsMap": {},
     "title": "Create Table"
    }
   },
   "outputs": [
    {
     "output_type": "display_data",
     "data": {
      "text/html": [
       "<style scoped>\n",
       "  .table-result-container {\n",
       "    max-height: 300px;\n",
       "    overflow: auto;\n",
       "  }\n",
       "  table, th, td {\n",
       "    border: 1px solid black;\n",
       "    border-collapse: collapse;\n",
       "  }\n",
       "  th, td {\n",
       "    padding: 5px;\n",
       "  }\n",
       "  th {\n",
       "    text-align: left;\n",
       "  }\n",
       "</style><div class='table-result-container'><table class='table-result'><thead style='background-color: white'><tr><th>item_id</th><th>value</th><th>index</th></tr></thead><tbody><tr><td>1</td><td>List(a, b, c)</td><td>a</td></tr><tr><td>2</td><td>List(g, null, c)</td><td>b</td></tr><tr><td>3</td><td>List(m, c)</td><td>c</td></tr><tr><td>4</td><td>List(n)</td><td>d</td></tr></tbody></table></div>"
      ]
     },
     "metadata": {
      "application/vnd.databricks.v1+output": {
       "addedWidgets": {},
       "aggData": [],
       "aggError": "",
       "aggOverflow": false,
       "aggSchema": [],
       "aggSeriesLimitReached": false,
       "aggType": "",
       "arguments": {},
       "columnCustomDisplayInfos": {},
       "data": [
        [
         1,
         [
          "a",
          "b",
          "c"
         ],
         "a"
        ],
        [
         2,
         [
          "g",
          null,
          "c"
         ],
         "b"
        ],
        [
         3,
         [
          "m",
          "c"
         ],
         "c"
        ],
        [
         4,
         [
          "n"
         ],
         "d"
        ]
       ],
       "datasetInfos": [],
       "dbfsResultPath": null,
       "isJsonSchema": true,
       "metadata": {},
       "overflow": false,
       "plotOptions": {
        "customPlotOptions": {},
        "displayType": "table",
        "pivotAggregation": null,
        "pivotColumns": null,
        "xColumns": null,
        "yColumns": null
       },
       "removedWidgets": [],
       "schema": [
        {
         "metadata": "{}",
         "name": "item_id",
         "type": "\"long\""
        },
        {
         "metadata": "{}",
         "name": "value",
         "type": "{\"type\":\"array\",\"elementType\":\"string\",\"containsNull\":true}"
        },
        {
         "metadata": "{}",
         "name": "index",
         "type": "\"string\""
        }
       ],
       "type": "table"
      }
     },
     "output_type": "display_data"
    }
   ],
   "source": [
    "# Sample data\n",
    "data = [(1, [\"a\", \"b\", \"c\"], \"a\"),\n",
    "        (2, [\"g\", None, \"c\"], \"b\"),\n",
    "        (3, [\"m\", \"c\"], \"c\"),\n",
    "        (4, [\"n\"], \"d\")\n",
    "]\n",
    "\n",
    "# Define schema\n",
    "columns = [\"item_id\", \"value\", \"index\"]\n",
    "\n",
    "# Create DataFrame\n",
    "df_Q41 = spark.createDataFrame(data, columns)\n",
    "display(df_Q41)"
   ]
  },
  {
   "cell_type": "markdown",
   "metadata": {
    "application/vnd.databricks.v1+cell": {
     "cellMetadata": {},
     "inputWidgets": {},
     "nuid": "de70753b-aecc-4a77-8aec-5c67a9240f80",
     "showTitle": false,
     "tableResultSettingsMap": {},
     "title": ""
    }
   },
   "source": [
    "#### **Split Array values into seperate columns**"
   ]
  },
  {
   "cell_type": "markdown",
   "metadata": {
    "application/vnd.databricks.v1+cell": {
     "cellMetadata": {},
     "inputWidgets": {},
     "nuid": "1256d2e9-dfac-49a9-be34-2f8d3b0720d7",
     "showTitle": false,
     "tableResultSettingsMap": {},
     "title": ""
    }
   },
   "source": [
    "**Method 01**"
   ]
  },
  {
   "cell_type": "code",
   "execution_count": 0,
   "metadata": {
    "application/vnd.databricks.v1+cell": {
     "cellMetadata": {
      "byteLimit": 2048000,
      "rowLimit": 10000
     },
     "inputWidgets": {},
     "nuid": "ed17ec94-6027-40f5-b2a1-99fb6b1c9770",
     "showTitle": false,
     "tableResultSettingsMap": {},
     "title": ""
    }
   },
   "outputs": [
    {
     "output_type": "display_data",
     "data": {
      "text/html": [
       "<style scoped>\n",
       "  .table-result-container {\n",
       "    max-height: 300px;\n",
       "    overflow: auto;\n",
       "  }\n",
       "  table, th, td {\n",
       "    border: 1px solid black;\n",
       "    border-collapse: collapse;\n",
       "  }\n",
       "  th, td {\n",
       "    padding: 5px;\n",
       "  }\n",
       "  th {\n",
       "    text-align: left;\n",
       "  }\n",
       "</style><div class='table-result-container'><table class='table-result'><thead style='background-color: white'><tr><th>item_id</th><th>value[0]</th><th>value[1]</th><th>value[2]</th><th>index</th></tr></thead><tbody><tr><td>1</td><td>a</td><td>b</td><td>c</td><td>a</td></tr><tr><td>2</td><td>g</td><td>null</td><td>c</td><td>b</td></tr><tr><td>3</td><td>m</td><td>c</td><td>null</td><td>c</td></tr><tr><td>4</td><td>n</td><td>null</td><td>null</td><td>d</td></tr></tbody></table></div>"
      ]
     },
     "metadata": {
      "application/vnd.databricks.v1+output": {
       "addedWidgets": {},
       "aggData": [],
       "aggError": "",
       "aggOverflow": false,
       "aggSchema": [],
       "aggSeriesLimitReached": false,
       "aggType": "",
       "arguments": {},
       "columnCustomDisplayInfos": {},
       "data": [
        [
         1,
         "a",
         "b",
         "c",
         "a"
        ],
        [
         2,
         "g",
         null,
         "c",
         "b"
        ],
        [
         3,
         "m",
         "c",
         null,
         "c"
        ],
        [
         4,
         "n",
         null,
         null,
         "d"
        ]
       ],
       "datasetInfos": [],
       "dbfsResultPath": null,
       "isJsonSchema": true,
       "metadata": {},
       "overflow": false,
       "plotOptions": {
        "customPlotOptions": {},
        "displayType": "table",
        "pivotAggregation": null,
        "pivotColumns": null,
        "xColumns": null,
        "yColumns": null
       },
       "removedWidgets": [],
       "schema": [
        {
         "metadata": "{}",
         "name": "item_id",
         "type": "\"long\""
        },
        {
         "metadata": "{}",
         "name": "value[0]",
         "type": "\"string\""
        },
        {
         "metadata": "{}",
         "name": "value[1]",
         "type": "\"string\""
        },
        {
         "metadata": "{}",
         "name": "value[2]",
         "type": "\"string\""
        },
        {
         "metadata": "{}",
         "name": "index",
         "type": "\"string\""
        }
       ],
       "type": "table"
      }
     },
     "output_type": "display_data"
    }
   ],
   "source": [
    "df_Q41.select(\"item_id\", df_Q41.value[0], df_Q41.value[1], df_Q41.value[2], \"index\").display()"
   ]
  },
  {
   "cell_type": "markdown",
   "metadata": {
    "application/vnd.databricks.v1+cell": {
     "cellMetadata": {},
     "inputWidgets": {},
     "nuid": "2121bd3a-5498-4c8c-b209-4d9b40633527",
     "showTitle": false,
     "tableResultSettingsMap": {},
     "title": ""
    }
   },
   "source": [
    "**Method 02**"
   ]
  },
  {
   "cell_type": "code",
   "execution_count": 0,
   "metadata": {
    "application/vnd.databricks.v1+cell": {
     "cellMetadata": {
      "byteLimit": 2048000,
      "rowLimit": 10000
     },
     "inputWidgets": {},
     "nuid": "3bcceec5-b55c-4cb7-81fa-f93f204f9677",
     "showTitle": true,
     "tableResultSettingsMap": {},
     "title": "Determine the Size of Each Array"
    }
   },
   "outputs": [
    {
     "output_type": "display_data",
     "data": {
      "text/html": [
       "<style scoped>\n",
       "  .table-result-container {\n",
       "    max-height: 300px;\n",
       "    overflow: auto;\n",
       "  }\n",
       "  table, th, td {\n",
       "    border: 1px solid black;\n",
       "    border-collapse: collapse;\n",
       "  }\n",
       "  th, td {\n",
       "    padding: 5px;\n",
       "  }\n",
       "  th {\n",
       "    text-align: left;\n",
       "  }\n",
       "</style><div class='table-result-container'><table class='table-result'><thead style='background-color: white'><tr><th>item_id</th><th>value</th><th>NoOfArrayElements</th></tr></thead><tbody><tr><td>1</td><td>List(a, b, c)</td><td>3</td></tr><tr><td>2</td><td>List(g, null, c)</td><td>3</td></tr><tr><td>3</td><td>List(m, c)</td><td>2</td></tr><tr><td>4</td><td>List(n)</td><td>1</td></tr></tbody></table></div>"
      ]
     },
     "metadata": {
      "application/vnd.databricks.v1+output": {
       "addedWidgets": {},
       "aggData": [],
       "aggError": "",
       "aggOverflow": false,
       "aggSchema": [],
       "aggSeriesLimitReached": false,
       "aggType": "",
       "arguments": {},
       "columnCustomDisplayInfos": {},
       "data": [
        [
         1,
         [
          "a",
          "b",
          "c"
         ],
         3
        ],
        [
         2,
         [
          "g",
          null,
          "c"
         ],
         3
        ],
        [
         3,
         [
          "m",
          "c"
         ],
         2
        ],
        [
         4,
         [
          "n"
         ],
         1
        ]
       ],
       "datasetInfos": [],
       "dbfsResultPath": null,
       "isJsonSchema": true,
       "metadata": {},
       "overflow": false,
       "plotOptions": {
        "customPlotOptions": {},
        "displayType": "table",
        "pivotAggregation": null,
        "pivotColumns": null,
        "xColumns": null,
        "yColumns": null
       },
       "removedWidgets": [],
       "schema": [
        {
         "metadata": "{}",
         "name": "item_id",
         "type": "\"long\""
        },
        {
         "metadata": "{}",
         "name": "value",
         "type": "{\"type\":\"array\",\"elementType\":\"string\",\"containsNull\":true}"
        },
        {
         "metadata": "{}",
         "name": "NoOfArrayElements",
         "type": "\"integer\""
        }
       ],
       "type": "table"
      }
     },
     "output_type": "display_data"
    }
   ],
   "source": [
    "# Determine the maximum number of elements in the 'value' column\n",
    "dfsize = df_Q41.select(\"item_id\", \"value\", size(\"value\").alias('NoOfArrayElements'))\n",
    "display(dfsize)"
   ]
  },
  {
   "cell_type": "code",
   "execution_count": 0,
   "metadata": {
    "application/vnd.databricks.v1+cell": {
     "cellMetadata": {
      "byteLimit": 2048000,
      "rowLimit": 10000
     },
     "inputWidgets": {},
     "nuid": "b093e459-8209-4b0a-af6d-3d89633e993f",
     "showTitle": true,
     "tableResultSettingsMap": {},
     "title": "Get the Max Size of All Arrays"
    }
   },
   "outputs": [
    {
     "output_type": "stream",
     "name": "stdout",
     "output_type": "stream",
     "text": [
      "3\n"
     ]
    }
   ],
   "source": [
    "# max_value = dfsize.agg({\"NoOfArrayElements\": \"max\"}).collect()[0][0]\n",
    "max_value = dfsize.agg(max(col(\"NoOfArrayElements\")).alias('NoOfArrayElements')).collect()[0][0]\n",
    "print(max_value)"
   ]
  },
  {
   "cell_type": "code",
   "execution_count": 0,
   "metadata": {
    "application/vnd.databricks.v1+cell": {
     "cellMetadata": {
      "byteLimit": 2048000,
      "rowLimit": 10000
     },
     "inputWidgets": {},
     "nuid": "0b0fe926-e68c-496f-b363-8bd2d489454b",
     "showTitle": true,
     "tableResultSettingsMap": {},
     "title": "UDF to Convert Array Elements into columns"
    }
   },
   "outputs": [],
   "source": [
    "# Function to split array into columns\n",
    "def arraySplitIntoCols(df, maxElements):\n",
    "    for i in range(maxElements):\n",
    "        df = df.withColumn(f\"new_col_{i}\", df.value[i])\n",
    "    return df"
   ]
  },
  {
   "cell_type": "code",
   "execution_count": 0,
   "metadata": {
    "application/vnd.databricks.v1+cell": {
     "cellMetadata": {
      "byteLimit": 2048000,
      "rowLimit": 10000
     },
     "inputWidgets": {},
     "nuid": "214fcc01-7e4e-4d5f-8cbf-19c613bbda32",
     "showTitle": true,
     "tableResultSettingsMap": {},
     "title": "UDF call"
    }
   },
   "outputs": [
    {
     "output_type": "display_data",
     "data": {
      "text/html": [
       "<style scoped>\n",
       "  .table-result-container {\n",
       "    max-height: 300px;\n",
       "    overflow: auto;\n",
       "  }\n",
       "  table, th, td {\n",
       "    border: 1px solid black;\n",
       "    border-collapse: collapse;\n",
       "  }\n",
       "  th, td {\n",
       "    padding: 5px;\n",
       "  }\n",
       "  th {\n",
       "    text-align: left;\n",
       "  }\n",
       "</style><div class='table-result-container'><table class='table-result'><thead style='background-color: white'><tr><th>item_id</th><th>value</th><th>index</th><th>new_col_0</th><th>new_col_1</th><th>new_col_2</th></tr></thead><tbody><tr><td>1</td><td>List(a, b, c)</td><td>a</td><td>a</td><td>b</td><td>c</td></tr><tr><td>2</td><td>List(g, null, c)</td><td>b</td><td>g</td><td>null</td><td>c</td></tr><tr><td>3</td><td>List(m, c)</td><td>c</td><td>m</td><td>c</td><td>null</td></tr><tr><td>4</td><td>List(n)</td><td>d</td><td>n</td><td>null</td><td>null</td></tr></tbody></table></div>"
      ]
     },
     "metadata": {
      "application/vnd.databricks.v1+output": {
       "addedWidgets": {},
       "aggData": [],
       "aggError": "",
       "aggOverflow": false,
       "aggSchema": [],
       "aggSeriesLimitReached": false,
       "aggType": "",
       "arguments": {},
       "columnCustomDisplayInfos": {},
       "data": [
        [
         1,
         [
          "a",
          "b",
          "c"
         ],
         "a",
         "a",
         "b",
         "c"
        ],
        [
         2,
         [
          "g",
          null,
          "c"
         ],
         "b",
         "g",
         null,
         "c"
        ],
        [
         3,
         [
          "m",
          "c"
         ],
         "c",
         "m",
         "c",
         null
        ],
        [
         4,
         [
          "n"
         ],
         "d",
         "n",
         null,
         null
        ]
       ],
       "datasetInfos": [],
       "dbfsResultPath": null,
       "isJsonSchema": true,
       "metadata": {},
       "overflow": false,
       "plotOptions": {
        "customPlotOptions": {},
        "displayType": "table",
        "pivotAggregation": null,
        "pivotColumns": null,
        "xColumns": null,
        "yColumns": null
       },
       "removedWidgets": [],
       "schema": [
        {
         "metadata": "{}",
         "name": "item_id",
         "type": "\"long\""
        },
        {
         "metadata": "{}",
         "name": "value",
         "type": "{\"type\":\"array\",\"elementType\":\"string\",\"containsNull\":true}"
        },
        {
         "metadata": "{}",
         "name": "index",
         "type": "\"string\""
        },
        {
         "metadata": "{}",
         "name": "new_col_0",
         "type": "\"string\""
        },
        {
         "metadata": "{}",
         "name": "new_col_1",
         "type": "\"string\""
        },
        {
         "metadata": "{}",
         "name": "new_col_2",
         "type": "\"string\""
        }
       ],
       "type": "table"
      }
     },
     "output_type": "display_data"
    }
   ],
   "source": [
    "# Split the 'value' column into separate columns\n",
    "dfout = arraySplitIntoCols(df_Q41, max_value)\n",
    "# Display the DataFrame\n",
    "display(dfout)"
   ]
  }
 ],
 "metadata": {
  "application/vnd.databricks.v1+notebook": {
   "computePreferences": null,
   "dashboards": [],
   "environmentMetadata": {
    "base_environment": "",
    "client": "1"
   },
   "language": "python",
   "notebookMetadata": {
    "mostRecentlyExecutedCommandWithImplicitDF": {
     "commandId": 2942319712639050,
     "dataframes": [
      "_sqldf"
     ]
    },
    "pythonIndentUnit": 4
   },
   "notebookName": "30_PySpark_Interview Question",
   "widgets": {}
  }
 },
 "nbformat": 4,
 "nbformat_minor": 0
}
