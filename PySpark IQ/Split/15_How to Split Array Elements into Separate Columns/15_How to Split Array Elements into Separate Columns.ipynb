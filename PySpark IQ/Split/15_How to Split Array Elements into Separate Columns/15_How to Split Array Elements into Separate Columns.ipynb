{
 "cells": [
  {
   "cell_type": "markdown",
   "metadata": {
    "application/vnd.databricks.v1+cell": {
     "cellMetadata": {
      "byteLimit": 2048000,
      "rowLimit": 10000
     },
     "inputWidgets": {},
     "nuid": "a2a20afc-1e1c-4c13-9152-04da5a0e9965",
     "showTitle": false,
     "tableResultSettingsMap": {},
     "title": ""
    }
   },
   "source": [
    "**PROBLEM STATEMENT**\n",
    "- Split Array Elements into Separate Columns"
   ]
  },
  {
   "cell_type": "code",
   "execution_count": 0,
   "metadata": {
    "application/vnd.databricks.v1+cell": {
     "cellMetadata": {
      "byteLimit": 2048000,
      "rowLimit": 10000
     },
     "inputWidgets": {},
     "nuid": "ad920578-e7b4-42e8-aee5-7649b09ca514",
     "showTitle": false,
     "tableResultSettingsMap": {},
     "title": ""
    }
   },
   "outputs": [
    {
     "output_type": "stream",
     "name": "stdout",
     "output_type": "stream",
     "text": [
      "+----+--------------------------------------------------+\n|Name|SkillSet                                          |\n+----+--------------------------------------------------+\n|ABC |[.Net, Git, C#]                                   |\n|XYZ |[Wordpress, PHP]                                  |\n|IJK |[Python, MongoDB, Git]                            |\n|DEF |[SSIS, SSAS, Power BI, SQL Server, Data Warehouse]|\n|PQR |[Azure]                                           |\n+----+--------------------------------------------------+\n\nroot\n |-- Name: string (nullable = true)\n |-- SkillSet: array (nullable = true)\n |    |-- element: string (containsNull = true)\n\n"
     ]
    }
   ],
   "source": [
    "schema = [\"Name\", \"SkillSet\"]\n",
    "    \n",
    "data = ([\"ABC\", ['.Net', 'Git', 'C#']],\n",
    "        [\"XYZ\", ['Wordpress', 'PHP']],\n",
    "        [\"IJK\", ['Python', 'MongoDB', 'Git']],\n",
    "        [\"DEF\", ['SSIS', 'SSAS', 'Power BI', 'SQL Server', 'Data Warehouse']],\n",
    "        [\"PQR\", ['Azure']])\n",
    "\n",
    "df = spark.createDataFrame(data, schema)\n",
    "df.show(truncate=False)\n",
    "df.printSchema()"
   ]
  },
  {
   "cell_type": "code",
   "execution_count": 0,
   "metadata": {
    "application/vnd.databricks.v1+cell": {
     "cellMetadata": {
      "byteLimit": 2048000,
      "rowLimit": 10000
     },
     "inputWidgets": {},
     "nuid": "4f6ca923-af8b-414b-88d0-b0874f8f147d",
     "showTitle": false,
     "tableResultSettingsMap": {},
     "title": ""
    }
   },
   "outputs": [],
   "source": [
    "from pyspark.sql.functions import split, col, size"
   ]
  },
  {
   "cell_type": "markdown",
   "metadata": {
    "application/vnd.databricks.v1+cell": {
     "cellMetadata": {
      "byteLimit": 2048000,
      "rowLimit": 10000
     },
     "inputWidgets": {},
     "nuid": "5100e52e-7dcd-4741-afd3-a7b74a0e6865",
     "showTitle": false,
     "tableResultSettingsMap": {},
     "title": ""
    }
   },
   "source": [
    "**Method 01**"
   ]
  },
  {
   "cell_type": "code",
   "execution_count": 0,
   "metadata": {
    "application/vnd.databricks.v1+cell": {
     "cellMetadata": {
      "byteLimit": 2048000,
      "rowLimit": 10000
     },
     "inputWidgets": {},
     "nuid": "b919755f-cb8f-4be6-979f-91ce67df5117",
     "showTitle": false,
     "tableResultSettingsMap": {},
     "title": ""
    }
   },
   "outputs": [
    {
     "output_type": "stream",
     "name": "stdout",
     "output_type": "stream",
     "text": [
      "+----+--------------------------------------------------+---------+-------+--------+----------+--------------+\n|Name|SkillSet                                          |Skill1   |Skill2 |Skill3  |Skill4    |Skill5        |\n+----+--------------------------------------------------+---------+-------+--------+----------+--------------+\n|ABC |[.Net, Git, C#]                                   |.Net     |Git    |C#      |null      |null          |\n|XYZ |[Wordpress, PHP]                                  |Wordpress|PHP    |null    |null      |null          |\n|IJK |[Python, MongoDB, Git]                            |Python   |MongoDB|Git     |null      |null          |\n|DEF |[SSIS, SSAS, Power BI, SQL Server, Data Warehouse]|SSIS     |SSAS   |Power BI|SQL Server|Data Warehouse|\n|PQR |[Azure]                                           |Azure    |null   |null    |null      |null          |\n+----+--------------------------------------------------+---------+-------+--------+----------+--------------+\n\n"
     ]
    }
   ],
   "source": [
    "d21 = df.withColumn(\"Skill1\", df['SkillSet'][0]) \\\n",
    "        .withColumn(\"Skill2\", df['SkillSet'][1]) \\\n",
    "        .withColumn(\"Skill3\", df['SkillSet'][2]) \\\n",
    "        .withColumn(\"Skill4\", df['SkillSet'][3]) \\\n",
    "        .withColumn(\"Skill5\", df['SkillSet'][4])\n",
    "d21.show(truncate=False)"
   ]
  },
  {
   "cell_type": "markdown",
   "metadata": {
    "application/vnd.databricks.v1+cell": {
     "cellMetadata": {
      "byteLimit": 2048000,
      "rowLimit": 10000
     },
     "inputWidgets": {},
     "nuid": "e69562e2-7a3c-413a-9138-47067f276634",
     "showTitle": false,
     "tableResultSettingsMap": {},
     "title": ""
    }
   },
   "source": [
    "**Method 02**"
   ]
  },
  {
   "cell_type": "code",
   "execution_count": 0,
   "metadata": {
    "application/vnd.databricks.v1+cell": {
     "cellMetadata": {
      "byteLimit": 2048000,
      "rowLimit": 10000
     },
     "inputWidgets": {},
     "nuid": "3c545fe0-be16-4002-b4d4-d4b1455040fe",
     "showTitle": false,
     "tableResultSettingsMap": {},
     "title": ""
    }
   },
   "outputs": [
    {
     "output_type": "stream",
     "name": "stdout",
     "output_type": "stream",
     "text": [
      "+----+--------------------------------------------------+---------+-------+--------+----------+--------------+\n|Name|SkillSet                                          |Skill1   |Skill2 |Skill3  |Skill4    |Skill5        |\n+----+--------------------------------------------------+---------+-------+--------+----------+--------------+\n|ABC |[.Net, Git, C#]                                   |.Net     |Git    |C#      |null      |null          |\n|XYZ |[Wordpress, PHP]                                  |Wordpress|PHP    |null    |null      |null          |\n|IJK |[Python, MongoDB, Git]                            |Python   |MongoDB|Git     |null      |null          |\n|DEF |[SSIS, SSAS, Power BI, SQL Server, Data Warehouse]|SSIS     |SSAS   |Power BI|SQL Server|Data Warehouse|\n|PQR |[Azure]                                           |Azure    |null   |null    |null      |null          |\n+----+--------------------------------------------------+---------+-------+--------+----------+--------------+\n\n"
     ]
    }
   ],
   "source": [
    "df.select('Name', 'SkillSet', df.SkillSet[0].alias('Skill1'),\\\n",
    "                              df.SkillSet[1].alias('Skill2'),\\\n",
    "                              df.SkillSet[2].alias('Skill3'),\\\n",
    "                              df.SkillSet[3].alias('Skill4'),\\\n",
    "                              df.SkillSet[4].alias('Skill5')).show(truncate=False)"
   ]
  },
  {
   "cell_type": "markdown",
   "metadata": {
    "application/vnd.databricks.v1+cell": {
     "cellMetadata": {
      "byteLimit": 2048000,
      "rowLimit": 10000
     },
     "inputWidgets": {},
     "nuid": "96c4581a-d824-4376-a34f-534b532e3aee",
     "showTitle": false,
     "tableResultSettingsMap": {},
     "title": ""
    }
   },
   "source": [
    "**Method 03**"
   ]
  },
  {
   "cell_type": "code",
   "execution_count": 0,
   "metadata": {
    "application/vnd.databricks.v1+cell": {
     "cellMetadata": {
      "byteLimit": 2048000,
      "rowLimit": 10000
     },
     "inputWidgets": {},
     "nuid": "3adf111e-7973-4d5b-a163-3cef41dc090f",
     "showTitle": false,
     "tableResultSettingsMap": {},
     "title": ""
    }
   },
   "outputs": [
    {
     "output_type": "stream",
     "name": "stdout",
     "output_type": "stream",
     "text": [
      "+----+--------------------+---------+-------+--------+----------+--------------+\n|Name|            SkillSet|  skill_0|skill_1| skill_2|   skill_3|       skill_4|\n+----+--------------------+---------+-------+--------+----------+--------------+\n| ABC|     [.Net, Git, C#]|     .Net|    Git|      C#|      null|          null|\n| XYZ|    [Wordpress, PHP]|Wordpress|    PHP|    null|      null|          null|\n| IJK|[Python, MongoDB,...|   Python|MongoDB|     Git|      null|          null|\n| DEF|[SSIS, SSAS, Powe...|     SSIS|   SSAS|Power BI|SQL Server|Data Warehouse|\n| PQR|             [Azure]|    Azure|   null|    null|      null|          null|\n+----+--------------------+---------+-------+--------+----------+--------------+\n\n"
     ]
    }
   ],
   "source": [
    "for i in range(5):\n",
    "  df = df.withColumn(f\"skill_{i}\", df.SkillSet[i])\n",
    "df.show()"
   ]
  },
  {
   "cell_type": "markdown",
   "metadata": {
    "application/vnd.databricks.v1+cell": {
     "cellMetadata": {
      "byteLimit": 2048000,
      "rowLimit": 10000
     },
     "inputWidgets": {},
     "nuid": "24b53b4e-cd31-4e30-8289-63fd52f7c6af",
     "showTitle": false,
     "tableResultSettingsMap": {},
     "title": ""
    }
   },
   "source": [
    "**Method 04**"
   ]
  },
  {
   "cell_type": "markdown",
   "metadata": {
    "application/vnd.databricks.v1+cell": {
     "cellMetadata": {
      "byteLimit": 2048000,
      "rowLimit": 10000
     },
     "inputWidgets": {},
     "nuid": "d1025588-3b56-4f6c-8ac2-467c2a840829",
     "showTitle": false,
     "tableResultSettingsMap": {},
     "title": ""
    }
   },
   "source": [
    "**Determine the size of each array**"
   ]
  },
  {
   "cell_type": "code",
   "execution_count": 0,
   "metadata": {
    "application/vnd.databricks.v1+cell": {
     "cellMetadata": {
      "byteLimit": 2048000,
      "rowLimit": 10000
     },
     "inputWidgets": {},
     "nuid": "bc152bf9-c30f-44de-8138-544313a6ef69",
     "showTitle": false,
     "tableResultSettingsMap": {},
     "title": ""
    }
   },
   "outputs": [
    {
     "output_type": "stream",
     "name": "stdout",
     "output_type": "stream",
     "text": [
      "+----+--------------------------------------------------+-----------------+\n|Name|SkillSet                                          |NoOfArrayElements|\n+----+--------------------------------------------------+-----------------+\n|ABC |[.Net, Git, C#]                                   |3                |\n|XYZ |[Wordpress, PHP]                                  |2                |\n|IJK |[Python, MongoDB, Git]                            |3                |\n|DEF |[SSIS, SSAS, Power BI, SQL Server, Data Warehouse]|5                |\n|PQR |[Azure]                                           |1                |\n+----+--------------------------------------------------+-----------------+\n\n"
     ]
    }
   ],
   "source": [
    "dfsize = df.select(\"Name\", \"SkillSet\", size(\"SkillSet\").alias(\"NoOfArrayElements\"))\n",
    "dfsize.show(truncate=False)"
   ]
  },
  {
   "cell_type": "markdown",
   "metadata": {
    "application/vnd.databricks.v1+cell": {
     "cellMetadata": {
      "byteLimit": 2048000,
      "rowLimit": 10000
     },
     "inputWidgets": {},
     "nuid": "45c5c3bf-94ad-46df-ae1c-9ad73abfe3dd",
     "showTitle": false,
     "tableResultSettingsMap": {},
     "title": ""
    }
   },
   "source": [
    "**Get the Maximum Size of All Arrays**"
   ]
  },
  {
   "cell_type": "code",
   "execution_count": 0,
   "metadata": {
    "application/vnd.databricks.v1+cell": {
     "cellMetadata": {
      "byteLimit": 2048000,
      "rowLimit": 10000
     },
     "inputWidgets": {},
     "nuid": "cba83aed-3bb7-44cc-b149-6fbcb0a904f2",
     "showTitle": false,
     "tableResultSettingsMap": {},
     "title": ""
    }
   },
   "outputs": [
    {
     "output_type": "stream",
     "name": "stdout",
     "output_type": "stream",
     "text": [
      "5\n"
     ]
    }
   ],
   "source": [
    "max_value = dfsize.agg({\"NoOfArrayElements\": \"max\"}).collect()[0][0]\n",
    "print(max_value)"
   ]
  },
  {
   "cell_type": "markdown",
   "metadata": {
    "application/vnd.databricks.v1+cell": {
     "cellMetadata": {
      "byteLimit": 2048000,
      "rowLimit": 10000
     },
     "inputWidgets": {},
     "nuid": "e6d1fa58-a24d-44bd-af2e-7f0bab9c1fd6",
     "showTitle": false,
     "tableResultSettingsMap": {},
     "title": ""
    }
   },
   "source": [
    "**UDF to Convert Array Elements into Columns**"
   ]
  },
  {
   "cell_type": "code",
   "execution_count": 0,
   "metadata": {
    "application/vnd.databricks.v1+cell": {
     "cellMetadata": {
      "byteLimit": 2048000,
      "rowLimit": 10000
     },
     "inputWidgets": {},
     "nuid": "082f83db-8e30-4fec-9d18-fae8a60e8d5f",
     "showTitle": false,
     "tableResultSettingsMap": {},
     "title": ""
    }
   },
   "outputs": [],
   "source": [
    "def arraySplitIntoCols(df, maxElements):\n",
    "  for i in range(maxElements):\n",
    "    df = df.withColumn(f\"new_col_{i}\", df.SkillSet[i])\n",
    "  return df"
   ]
  },
  {
   "cell_type": "markdown",
   "metadata": {
    "application/vnd.databricks.v1+cell": {
     "cellMetadata": {
      "byteLimit": 2048000,
      "rowLimit": 10000
     },
     "inputWidgets": {},
     "nuid": "d9f4b232-8668-4a67-a5e3-1e8ef7d8f944",
     "showTitle": false,
     "tableResultSettingsMap": {},
     "title": ""
    }
   },
   "source": [
    "**Call UDF**"
   ]
  },
  {
   "cell_type": "code",
   "execution_count": 0,
   "metadata": {
    "application/vnd.databricks.v1+cell": {
     "cellMetadata": {
      "byteLimit": 2048000,
      "rowLimit": 10000
     },
     "inputWidgets": {},
     "nuid": "92d8a89a-0320-4160-8c1e-5d7075daddfb",
     "showTitle": false,
     "tableResultSettingsMap": {},
     "title": ""
    }
   },
   "outputs": [
    {
     "output_type": "display_data",
     "data": {
      "text/html": [
       "<style scoped>\n",
       "  .table-result-container {\n",
       "    max-height: 300px;\n",
       "    overflow: auto;\n",
       "  }\n",
       "  table, th, td {\n",
       "    border: 1px solid black;\n",
       "    border-collapse: collapse;\n",
       "  }\n",
       "  th, td {\n",
       "    padding: 5px;\n",
       "  }\n",
       "  th {\n",
       "    text-align: left;\n",
       "  }\n",
       "</style><div class='table-result-container'><table class='table-result'><thead style='background-color: white'><tr><th>Name</th><th>SkillSet</th><th>skill_0</th><th>skill_1</th><th>skill_2</th><th>skill_3</th><th>skill_4</th></tr></thead><tbody><tr><td>ABC</td><td>List(.Net, Git, C#)</td><td>.Net</td><td>Git</td><td>C#</td><td>null</td><td>null</td></tr><tr><td>XYZ</td><td>List(Wordpress, PHP)</td><td>Wordpress</td><td>PHP</td><td>null</td><td>null</td><td>null</td></tr><tr><td>IJK</td><td>List(Python, MongoDB, Git)</td><td>Python</td><td>MongoDB</td><td>Git</td><td>null</td><td>null</td></tr><tr><td>DEF</td><td>List(SSIS, SSAS, Power BI, SQL Server, Data Warehouse)</td><td>SSIS</td><td>SSAS</td><td>Power BI</td><td>SQL Server</td><td>Data Warehouse</td></tr><tr><td>PQR</td><td>List(Azure)</td><td>Azure</td><td>null</td><td>null</td><td>null</td><td>null</td></tr></tbody></table></div>"
      ]
     },
     "metadata": {
      "application/vnd.databricks.v1+output": {
       "addedWidgets": {},
       "aggData": [],
       "aggError": "",
       "aggOverflow": false,
       "aggSchema": [],
       "aggSeriesLimitReached": false,
       "aggType": "",
       "arguments": {},
       "columnCustomDisplayInfos": {},
       "data": [
        [
         "ABC",
         [
          ".Net",
          "Git",
          "C#"
         ],
         ".Net",
         "Git",
         "C#",
         null,
         null
        ],
        [
         "XYZ",
         [
          "Wordpress",
          "PHP"
         ],
         "Wordpress",
         "PHP",
         null,
         null,
         null
        ],
        [
         "IJK",
         [
          "Python",
          "MongoDB",
          "Git"
         ],
         "Python",
         "MongoDB",
         "Git",
         null,
         null
        ],
        [
         "DEF",
         [
          "SSIS",
          "SSAS",
          "Power BI",
          "SQL Server",
          "Data Warehouse"
         ],
         "SSIS",
         "SSAS",
         "Power BI",
         "SQL Server",
         "Data Warehouse"
        ],
        [
         "PQR",
         [
          "Azure"
         ],
         "Azure",
         null,
         null,
         null,
         null
        ]
       ],
       "datasetInfos": [],
       "dbfsResultPath": null,
       "isJsonSchema": true,
       "metadata": {},
       "overflow": false,
       "plotOptions": {
        "customPlotOptions": {},
        "displayType": "table",
        "pivotAggregation": null,
        "pivotColumns": null,
        "xColumns": null,
        "yColumns": null
       },
       "removedWidgets": [],
       "schema": [
        {
         "metadata": "{}",
         "name": "Name",
         "type": "\"string\""
        },
        {
         "metadata": "{}",
         "name": "SkillSet",
         "type": "{\"type\":\"array\",\"elementType\":\"string\",\"containsNull\":true}"
        },
        {
         "metadata": "{}",
         "name": "skill_0",
         "type": "\"string\""
        },
        {
         "metadata": "{}",
         "name": "skill_1",
         "type": "\"string\""
        },
        {
         "metadata": "{}",
         "name": "skill_2",
         "type": "\"string\""
        },
        {
         "metadata": "{}",
         "name": "skill_3",
         "type": "\"string\""
        },
        {
         "metadata": "{}",
         "name": "skill_4",
         "type": "\"string\""
        }
       ],
       "type": "table"
      }
     },
     "output_type": "display_data"
    }
   ],
   "source": [
    "dfout = arraySplitIntoCols(df, max_value)\n",
    "display(df)"
   ]
  }
 ],
 "metadata": {
  "application/vnd.databricks.v1+notebook": {
   "computePreferences": null,
   "dashboards": [],
   "environmentMetadata": null,
   "language": "python",
   "notebookMetadata": {
    "pythonIndentUnit": 4
   },
   "notebookName": "15_How to Split Array Elements into Separate Columns",
   "widgets": {}
  }
 },
 "nbformat": 4,
 "nbformat_minor": 0
}
