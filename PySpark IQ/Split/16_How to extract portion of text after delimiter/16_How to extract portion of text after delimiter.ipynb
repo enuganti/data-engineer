{
 "cells": [
  {
   "cell_type": "markdown",
   "metadata": {
    "application/vnd.databricks.v1+cell": {
     "cellMetadata": {},
     "inputWidgets": {},
     "nuid": "36f03205-5ddb-406a-81a6-63c9b6ea4ab6",
     "showTitle": false,
     "tableResultSettingsMap": {},
     "title": ""
    }
   },
   "source": [
    "#### **PROBLEM STATEMENT**\n",
    "\n",
    "**How to extract portion of text after delimiter?**\n",
    " \n",
    " 1) Read this **(, delimited) csv file**, create a dataframe\n",
    " 2) Extract Column2 **(portion which is after the pipe)** along with column3\n",
    " 3) Rename 2nd part of column2 to **ErrorCode** and column3 to **Count**\n",
    " \n",
    "         Ex Output:\n",
    "         ErrorCode, Count\n",
    "         b3344002000,1.0\n",
    " 4) Convert Column **Count** data type to **int**\n",
    " 5) perform **Distinct** on dataframe created in step 4\n",
    " 6) Add new column by name **ExecutionDate** having **today's date**.\n",
    " 7) Add new column by name **Environment** having constant value **\"Staging\"**."
   ]
  },
  {
   "cell_type": "markdown",
   "metadata": {
    "application/vnd.databricks.v1+cell": {
     "cellMetadata": {},
     "inputWidgets": {},
     "nuid": "e6383601-89e6-4292-9a21-0a051cf08191",
     "showTitle": false,
     "tableResultSettingsMap": {},
     "title": ""
    }
   },
   "source": [
    "#### **1) Read this (, delimited) csv file, create a dataframe**"
   ]
  },
  {
   "cell_type": "code",
   "execution_count": 0,
   "metadata": {
    "application/vnd.databricks.v1+cell": {
     "cellMetadata": {
      "byteLimit": 2048000,
      "rowLimit": 10000
     },
     "inputWidgets": {},
     "nuid": "0b47172f-4f26-4e2a-905a-024126d529f8",
     "showTitle": false,
     "tableResultSettingsMap": {},
     "title": ""
    }
   },
   "outputs": [
    {
     "output_type": "stream",
     "name": "stdout",
     "output_type": "stream",
     "text": [
      "+-------------+--------------------+-------+\n|      column1|             column2|column3|\n+-------------+--------------------+-------+\n|         2234|    ec-lookup | e030|    1.0|\n|    224566634|ec-lookup | 00000456|    1.0|\n|   8899992234| ec-lookup | 0x99999|    5.0|\n|    678882234|  ec-lookup | 002000|    1.0|\n|   8899992234| ec-lookup | 0x99999|    5.0|\n|    678882234|  ec-lookup | 002000|    1.0|\n|   0099992234| ec-lookup | 0x99999|    5.0|\n|  99678882234|ec-lookup | sx-LB000|    1.0|\n| 998899992234|ec-lookup | 0xbx9...|    5.0|\n|    878882234|ec-lookup | b3344...|    1.0|\n+-------------+--------------------+-------+\n\nroot\n |--  column1: string (nullable = true)\n |-- column2: string (nullable = true)\n |-- column3: string (nullable = true)\n\n"
     ]
    }
   ],
   "source": [
    "df = spark.read.csv(\"/FileStore/tables/split.txt\", header=True)\n",
    "df.show()\n",
    "df.printSchema()"
   ]
  },
  {
   "cell_type": "markdown",
   "metadata": {
    "application/vnd.databricks.v1+cell": {
     "cellMetadata": {},
     "inputWidgets": {},
     "nuid": "e52277de-18eb-47d9-b820-c2149a1093fd",
     "showTitle": false,
     "tableResultSettingsMap": {},
     "title": ""
    }
   },
   "source": [
    "#### **2) Extract 'Column2' (portion which is after the pipe) along with 'column3'**"
   ]
  },
  {
   "cell_type": "markdown",
   "metadata": {
    "application/vnd.databricks.v1+cell": {
     "cellMetadata": {},
     "inputWidgets": {},
     "nuid": "163fef47-531f-48bb-ac88-238b1bb320c1",
     "showTitle": false,
     "tableResultSettingsMap": {},
     "title": ""
    }
   },
   "source": [
    "**Method 01: split()**\n",
    "\n",
    "- Split\n",
    "\n",
    "      # Extract text after the delimiter\n",
    "      df_with_extracted = df.withColumn(\"Extracted\", split(df[\"column2\"], r\"\\|\").getItem(1))\n",
    "                                           (or)\n",
    "      # Extract text after the delimiter \"|\"\n",
    "      df = df.withColumn(\"New_Column\", split(df[\"column2\"], r\"\\|\")[1].alias(\"ExtractedText\"))\n",
    "                                          (or)\n",
    "      df = df.withColumn(\"New_Column\", split(df[\"column2\"],'\\|')[1].alias(\"ExtractedText\"))\n",
    "\n",
    "**Method 02: regexp_extract()**\n",
    "\n",
    "- The regexp_extract() function extracts substrings based on a regular expression.\n",
    "\n",
    "      from pyspark.sql.functions import regexp_extract\n",
    "\n",
    "      # Extract text after the delimiter using regex\n",
    "      df_with_extracted = df.withColumn(\"Extracted\", regexp_extract(df[\"column2\"], r\"\\| (.+)\", 1))\n",
    "\n",
    "**Method 03: substring_index()**\n",
    "\n",
    "- The substring_index() function retrieves portions of a string relative to a delimiter.\n",
    "     \n",
    "      from pyspark.sql.functions import substring_index\n",
    "\n",
    "      # Extract text after the last occurrence of the delimiter\n",
    "      df_with_extracted = df.withColumn(\"Extracted\", substring_index(df[\"column2\"], \"|\", -1).alias(\"Extracted\"))\n",
    "\n",
    "**Method 04: expr()**\n",
    "- expr()\n",
    "\n",
    "      from pyspark.sql.functions import expr\n",
    "      \n",
    "      # Extract text after the delimiter\n",
    "      df_with_extracted = df.withColumn(\"Extracted\", expr(\"split(column2, '\\\\|')[1]\"))"
   ]
  },
  {
   "cell_type": "code",
   "execution_count": 0,
   "metadata": {
    "application/vnd.databricks.v1+cell": {
     "cellMetadata": {
      "byteLimit": 2048000,
      "rowLimit": 10000
     },
     "inputWidgets": {},
     "nuid": "5476d145-7e4e-4c86-863a-c470fd348fec",
     "showTitle": false,
     "tableResultSettingsMap": {},
     "title": ""
    }
   },
   "outputs": [],
   "source": [
    "from pyspark.sql.functions import split, size, col\n",
    "from pyspark.sql.types import IntegerType"
   ]
  },
  {
   "cell_type": "code",
   "execution_count": 0,
   "metadata": {
    "application/vnd.databricks.v1+cell": {
     "cellMetadata": {
      "byteLimit": 2048000,
      "rowLimit": 10000
     },
     "inputWidgets": {},
     "nuid": "c95f37d0-0c9d-4655-8953-60a36881d4b3",
     "showTitle": false,
     "tableResultSettingsMap": {},
     "title": ""
    }
   },
   "outputs": [
    {
     "output_type": "stream",
     "name": "stdout",
     "output_type": "stream",
     "text": [
      "+-------------+-----------------------+-------+--------------------------+\n| column1     |column2                |column3|New_Column                |\n+-------------+-----------------------+-------+--------------------------+\n| 2234        |ec-lookup | e030       |1.0    |[ec-lookup ,  e030]       |\n| 224566634   |ec-lookup | 00000456   |1.0    |[ec-lookup ,  00000456]   |\n| 8899992234  |ec-lookup | 0x99999    |5.0    |[ec-lookup ,  0x99999]    |\n| 678882234   |ec-lookup | 002000     |1.0    |[ec-lookup ,  002000]     |\n| 8899992234  |ec-lookup | 0x99999    |5.0    |[ec-lookup ,  0x99999]    |\n| 678882234   |ec-lookup | 002000     |1.0    |[ec-lookup ,  002000]     |\n| 0099992234  |ec-lookup | 0x99999    |5.0    |[ec-lookup ,  0x99999]    |\n| 99678882234 |ec-lookup | sx-LB000   |1.0    |[ec-lookup ,  sx-LB000]   |\n| 998899992234|ec-lookup | 0xbx99999  |5.0    |[ec-lookup ,  0xbx99999]  |\n| 878882234   |ec-lookup | b3344002000|1.0    |[ec-lookup ,  b3344002000]|\n+-------------+-----------------------+-------+--------------------------+\n\nroot\n |--  column1: string (nullable = true)\n |-- column2: string (nullable = true)\n |-- column3: string (nullable = true)\n |-- New_Column: array (nullable = true)\n |    |-- element: string (containsNull = false)\n\n"
     ]
    }
   ],
   "source": [
    "# Split function splits a string column into an array based on the specified delimiter\n",
    "df_split = df.withColumn(\"New_Column\", split(df[\"column2\"],'\\|'))\n",
    "df_split.show(truncate=False)\n",
    "df_split.printSchema()"
   ]
  },
  {
   "cell_type": "code",
   "execution_count": 0,
   "metadata": {
    "application/vnd.databricks.v1+cell": {
     "cellMetadata": {
      "byteLimit": 2048000,
      "rowLimit": 10000
     },
     "inputWidgets": {},
     "nuid": "46ec3fb7-957b-4366-85a1-f66225c96d2b",
     "showTitle": false,
     "tableResultSettingsMap": {},
     "title": ""
    }
   },
   "outputs": [
    {
     "output_type": "stream",
     "name": "stdout",
     "output_type": "stream",
     "text": [
      "+-------------+-----------------------+-------+------------+\n| column1     |column2                |column3|New_Column  |\n+-------------+-----------------------+-------+------------+\n| 2234        |ec-lookup | e030       |1.0    | e030       |\n| 224566634   |ec-lookup | 00000456   |1.0    | 00000456   |\n| 8899992234  |ec-lookup | 0x99999    |5.0    | 0x99999    |\n| 678882234   |ec-lookup | 002000     |1.0    | 002000     |\n| 8899992234  |ec-lookup | 0x99999    |5.0    | 0x99999    |\n| 678882234   |ec-lookup | 002000     |1.0    | 002000     |\n| 0099992234  |ec-lookup | 0x99999    |5.0    | 0x99999    |\n| 99678882234 |ec-lookup | sx-LB000   |1.0    | sx-LB000   |\n| 998899992234|ec-lookup | 0xbx99999  |5.0    | 0xbx99999  |\n| 878882234   |ec-lookup | b3344002000|1.0    | b3344002000|\n+-------------+-----------------------+-------+------------+\n\n"
     ]
    }
   ],
   "source": [
    "df = df.withColumn(\"New_Column\", split(df[\"column2\"],'\\|')[1])\n",
    "df.show(truncate=False)"
   ]
  },
  {
   "cell_type": "markdown",
   "metadata": {
    "application/vnd.databricks.v1+cell": {
     "cellMetadata": {},
     "inputWidgets": {},
     "nuid": "18eb254b-a8dc-4d9a-a80c-da514ec23dca",
     "showTitle": false,
     "tableResultSettingsMap": {},
     "title": ""
    }
   },
   "source": [
    "**split():**\n",
    "- Splits **column2 into an array** using the **|** delimiter.\n",
    "\n",
    "**r\"\\|\":**\n",
    "- Escapes the | character (special in regex).\n",
    "\n",
    "**split(df[\"column2\"], r\"\\|\")[1]:**\n",
    "- Selects the portion of text after the delimiter.\n",
    "\n",
    "**withColumn():**\n",
    "- Creates a new column (ExtractedText) with the extracted portion."
   ]
  },
  {
   "cell_type": "markdown",
   "metadata": {
    "application/vnd.databricks.v1+cell": {
     "cellMetadata": {},
     "inputWidgets": {},
     "nuid": "9b82f80d-d4cf-4b76-97ef-e526e71f3d93",
     "showTitle": false,
     "tableResultSettingsMap": {},
     "title": ""
    }
   },
   "source": [
    "#### **3) Rename 2nd part of 'column2' to 'ErrorCode' and 'column3' to 'Count'**\n",
    "**Ex: Output**\n",
    "- ErrorCode, Count as b3344002000, 1.0"
   ]
  },
  {
   "cell_type": "code",
   "execution_count": 0,
   "metadata": {
    "application/vnd.databricks.v1+cell": {
     "cellMetadata": {
      "byteLimit": 2048000,
      "rowLimit": 10000
     },
     "inputWidgets": {},
     "nuid": "5ccb94ef-db4c-422d-82ee-e4e71070fd72",
     "showTitle": false,
     "tableResultSettingsMap": {},
     "title": ""
    }
   },
   "outputs": [
    {
     "output_type": "stream",
     "name": "stdout",
     "output_type": "stream",
     "text": [
      "+-------------+-----------------------+-----+------------+\n| column1     |column2                |Count|ErrorCode   |\n+-------------+-----------------------+-----+------------+\n| 2234        |ec-lookup | e030       |1.0  | e030       |\n| 224566634   |ec-lookup | 00000456   |1.0  | 00000456   |\n| 8899992234  |ec-lookup | 0x99999    |5.0  | 0x99999    |\n| 678882234   |ec-lookup | 002000     |1.0  | 002000     |\n| 8899992234  |ec-lookup | 0x99999    |5.0  | 0x99999    |\n| 678882234   |ec-lookup | 002000     |1.0  | 002000     |\n| 0099992234  |ec-lookup | 0x99999    |5.0  | 0x99999    |\n| 99678882234 |ec-lookup | sx-LB000   |1.0  | sx-LB000   |\n| 998899992234|ec-lookup | 0xbx99999  |5.0  | 0xbx99999  |\n| 878882234   |ec-lookup | b3344002000|1.0  | b3344002000|\n+-------------+-----------------------+-----+------------+\n\nroot\n |--  column1: string (nullable = true)\n |-- column2: string (nullable = true)\n |-- Count: string (nullable = true)\n |-- ErrorCode: string (nullable = true)\n\n"
     ]
    }
   ],
   "source": [
    "df = df.withColumnRenamed(\"New_Column\", \"ErrorCode\")\\\n",
    "       .withColumnRenamed(\"column3\", \"Count\")\n",
    "df.show(truncate=False)\n",
    "df.printSchema()"
   ]
  },
  {
   "cell_type": "markdown",
   "metadata": {
    "application/vnd.databricks.v1+cell": {
     "cellMetadata": {},
     "inputWidgets": {},
     "nuid": "738b8010-b2e1-438e-8535-4ac1fcd66865",
     "showTitle": false,
     "tableResultSettingsMap": {},
     "title": ""
    }
   },
   "source": [
    "#### **4) Convert Column 'Count' data type to 'int'**"
   ]
  },
  {
   "cell_type": "code",
   "execution_count": 0,
   "metadata": {
    "application/vnd.databricks.v1+cell": {
     "cellMetadata": {
      "byteLimit": 2048000,
      "rowLimit": 10000
     },
     "inputWidgets": {},
     "nuid": "cf294c7d-0d7d-42fb-a836-2037d94a3b77",
     "showTitle": false,
     "tableResultSettingsMap": {},
     "title": ""
    }
   },
   "outputs": [
    {
     "output_type": "stream",
     "name": "stdout",
     "output_type": "stream",
     "text": [
      "+-------------+-----------------------+-----+------------+\n| column1     |column2                |Count|ErrorCode   |\n+-------------+-----------------------+-----+------------+\n| 2234        |ec-lookup | e030       |1    | e030       |\n| 224566634   |ec-lookup | 00000456   |1    | 00000456   |\n| 8899992234  |ec-lookup | 0x99999    |5    | 0x99999    |\n| 678882234   |ec-lookup | 002000     |1    | 002000     |\n| 8899992234  |ec-lookup | 0x99999    |5    | 0x99999    |\n| 678882234   |ec-lookup | 002000     |1    | 002000     |\n| 0099992234  |ec-lookup | 0x99999    |5    | 0x99999    |\n| 99678882234 |ec-lookup | sx-LB000   |1    | sx-LB000   |\n| 998899992234|ec-lookup | 0xbx99999  |5    | 0xbx99999  |\n| 878882234   |ec-lookup | b3344002000|1    | b3344002000|\n+-------------+-----------------------+-----+------------+\n\nroot\n |--  column1: string (nullable = true)\n |-- column2: string (nullable = true)\n |-- Count: integer (nullable = true)\n |-- ErrorCode: string (nullable = true)\n\nNumber of Rows: 10\n"
     ]
    }
   ],
   "source": [
    "df = df.withColumn(\"Count\", df[\"Count\"].cast(IntegerType()))\n",
    "df.show(truncate=False)\n",
    "df.printSchema()\n",
    "print(\"Number of Rows:\", df.count())"
   ]
  },
  {
   "cell_type": "markdown",
   "metadata": {
    "application/vnd.databricks.v1+cell": {
     "cellMetadata": {},
     "inputWidgets": {},
     "nuid": "ee7255f3-7fe2-44ae-b1dd-566baa07b140",
     "showTitle": false,
     "tableResultSettingsMap": {},
     "title": ""
    }
   },
   "source": [
    "#### **5) Perform Distinct on dataframe created in step 4**"
   ]
  },
  {
   "cell_type": "code",
   "execution_count": 0,
   "metadata": {
    "application/vnd.databricks.v1+cell": {
     "cellMetadata": {
      "byteLimit": 2048000,
      "rowLimit": 10000
     },
     "inputWidgets": {},
     "nuid": "86d2145a-3c7a-44ad-a0be-2e2ccea55696",
     "showTitle": false,
     "tableResultSettingsMap": {},
     "title": ""
    }
   },
   "outputs": [
    {
     "output_type": "stream",
     "name": "stdout",
     "output_type": "stream",
     "text": [
      "+-------------+--------------------+-----+------------+\n|      column1|             column2|Count|   ErrorCode|\n+-------------+--------------------+-----+------------+\n|    224566634|ec-lookup | 00000456|    1|    00000456|\n|    678882234|  ec-lookup | 002000|    1|      002000|\n|    878882234|ec-lookup | b3344...|    1| b3344002000|\n|         2234|    ec-lookup | e030|    1|        e030|\n|  99678882234|ec-lookup | sx-LB000|    1|    sx-LB000|\n|   8899992234| ec-lookup | 0x99999|    5|     0x99999|\n|   0099992234| ec-lookup | 0x99999|    5|     0x99999|\n| 998899992234|ec-lookup | 0xbx9...|    5|   0xbx99999|\n+-------------+--------------------+-----+------------+\n\nNumber of Rows 8\n"
     ]
    }
   ],
   "source": [
    "df_distinct = df.distinct()\n",
    "df_distinct.show()\n",
    "print(\"Number of Rows\", df_distinct.count())"
   ]
  },
  {
   "cell_type": "markdown",
   "metadata": {
    "application/vnd.databricks.v1+cell": {
     "cellMetadata": {},
     "inputWidgets": {},
     "nuid": "1a130957-f956-4b49-b52a-ae3790748292",
     "showTitle": false,
     "tableResultSettingsMap": {},
     "title": ""
    }
   },
   "source": [
    "#### **6) Add new column by name 'ExecutionDate' having today's date**"
   ]
  },
  {
   "cell_type": "code",
   "execution_count": 0,
   "metadata": {
    "application/vnd.databricks.v1+cell": {
     "cellMetadata": {
      "byteLimit": 2048000,
      "rowLimit": 10000
     },
     "inputWidgets": {},
     "nuid": "8e37a724-2e1a-4eb7-932c-2253771c6afa",
     "showTitle": false,
     "tableResultSettingsMap": {},
     "title": ""
    }
   },
   "outputs": [
    {
     "output_type": "stream",
     "name": "stdout",
     "output_type": "stream",
     "text": [
      "+-------------+--------------------+-----+------------+-------------+\n|      column1|             column2|Count|   ErrorCode|ExecutionDate|\n+-------------+--------------------+-----+------------+-------------+\n|    224566634|ec-lookup | 00000456|    1|    00000456|   2024-07-22|\n|    678882234|  ec-lookup | 002000|    1|      002000|   2024-07-22|\n|    878882234|ec-lookup | b3344...|    1| b3344002000|   2024-07-22|\n|         2234|    ec-lookup | e030|    1|        e030|   2024-07-22|\n|  99678882234|ec-lookup | sx-LB000|    1|    sx-LB000|   2024-07-22|\n|   8899992234| ec-lookup | 0x99999|    5|     0x99999|   2024-07-22|\n|   0099992234| ec-lookup | 0x99999|    5|     0x99999|   2024-07-22|\n| 998899992234|ec-lookup | 0xbx9...|    5|   0xbx99999|   2024-07-22|\n+-------------+--------------------+-----+------------+-------------+\n\n"
     ]
    }
   ],
   "source": [
    "from pyspark.sql.functions import current_date\n",
    "df1 = df_distinct.withColumn(\"ExecutionDate\", current_date())\n",
    "df1.show()"
   ]
  },
  {
   "cell_type": "markdown",
   "metadata": {
    "application/vnd.databricks.v1+cell": {
     "cellMetadata": {},
     "inputWidgets": {},
     "nuid": "f3530237-5a0c-4a0b-af3c-e74ff64b2fb1",
     "showTitle": false,
     "tableResultSettingsMap": {},
     "title": ""
    }
   },
   "source": [
    "#### **7) Add new column by name 'Environment' having constant value \"Staging\"**"
   ]
  },
  {
   "cell_type": "code",
   "execution_count": 0,
   "metadata": {
    "application/vnd.databricks.v1+cell": {
     "cellMetadata": {
      "byteLimit": 2048000,
      "rowLimit": 10000
     },
     "inputWidgets": {},
     "nuid": "e3eae81c-6021-4698-a8fd-a01d795fc4f9",
     "showTitle": false,
     "tableResultSettingsMap": {},
     "title": ""
    }
   },
   "outputs": [
    {
     "output_type": "stream",
     "name": "stdout",
     "output_type": "stream",
     "text": [
      "+-------------+--------------------+-----+------------+-------------+-----------+\n|      column1|             column2|Count|   ErrorCode|ExecutionDate|Environment|\n+-------------+--------------------+-----+------------+-------------+-----------+\n|    224566634|ec-lookup | 00000456|    1|    00000456|   2024-07-22|    Staging|\n|    678882234|  ec-lookup | 002000|    1|      002000|   2024-07-22|    Staging|\n|    878882234|ec-lookup | b3344...|    1| b3344002000|   2024-07-22|    Staging|\n|         2234|    ec-lookup | e030|    1|        e030|   2024-07-22|    Staging|\n|  99678882234|ec-lookup | sx-LB000|    1|    sx-LB000|   2024-07-22|    Staging|\n|   8899992234| ec-lookup | 0x99999|    5|     0x99999|   2024-07-22|    Staging|\n|   0099992234| ec-lookup | 0x99999|    5|     0x99999|   2024-07-22|    Staging|\n| 998899992234|ec-lookup | 0xbx9...|    5|   0xbx99999|   2024-07-22|    Staging|\n+-------------+--------------------+-----+------------+-------------+-----------+\n\n"
     ]
    }
   ],
   "source": [
    "from pyspark.sql.functions import lit\n",
    "df1 = df1.withColumn(\"Environment\", lit(\"Staging\"))\n",
    "df1.show()"
   ]
  }
 ],
 "metadata": {
  "application/vnd.databricks.v1+notebook": {
   "computePreferences": null,
   "dashboards": [],
   "environmentMetadata": null,
   "language": "python",
   "notebookMetadata": {
    "pythonIndentUnit": 4
   },
   "notebookName": "16_How to extract portion of text after delimiter",
   "widgets": {}
  }
 },
 "nbformat": 4,
 "nbformat_minor": 0
}
