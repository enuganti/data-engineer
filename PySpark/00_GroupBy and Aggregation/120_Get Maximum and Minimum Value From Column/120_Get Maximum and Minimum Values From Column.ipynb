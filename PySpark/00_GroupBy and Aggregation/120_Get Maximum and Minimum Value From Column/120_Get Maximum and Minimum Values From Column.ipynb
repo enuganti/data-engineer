{
 "cells": [
  {
   "cell_type": "code",
   "execution_count": 0,
   "metadata": {
    "application/vnd.databricks.v1+cell": {
     "cellMetadata": {
      "byteLimit": 2048000,
      "rowLimit": 10000
     },
     "inputWidgets": {},
     "nuid": "0c6cb62f-15b6-470a-8e2b-86b2a393f2e0",
     "showTitle": false,
     "tableResultSettingsMap": {},
     "title": ""
    }
   },
   "outputs": [],
   "source": [
    "import pyspark.sql.functions as f\n",
    "from pyspark.sql.functions import min, max, col\n",
    "from pyspark.sql.types import DateType"
   ]
  },
  {
   "cell_type": "markdown",
   "metadata": {
    "application/vnd.databricks.v1+cell": {
     "cellMetadata": {},
     "inputWidgets": {},
     "nuid": "7e948db2-4c51-4c29-8de0-40fa04086220",
     "showTitle": false,
     "tableResultSettingsMap": {},
     "title": ""
    }
   },
   "source": [
    "**EX 01**"
   ]
  },
  {
   "cell_type": "code",
   "execution_count": 0,
   "metadata": {
    "application/vnd.databricks.v1+cell": {
     "cellMetadata": {
      "byteLimit": 2048000,
      "rowLimit": 10000
     },
     "inputWidgets": {},
     "nuid": "22514758-54ad-433f-b16f-387a307050a0",
     "showTitle": true,
     "tableResultSettingsMap": {},
     "title": "Sample Dataframe"
    }
   },
   "outputs": [
    {
     "output_type": "display_data",
     "data": {
      "text/html": [
       "<style scoped>\n",
       "  .table-result-container {\n",
       "    max-height: 300px;\n",
       "    overflow: auto;\n",
       "  }\n",
       "  table, th, td {\n",
       "    border: 1px solid black;\n",
       "    border-collapse: collapse;\n",
       "  }\n",
       "  th, td {\n",
       "    padding: 5px;\n",
       "  }\n",
       "  th {\n",
       "    text-align: left;\n",
       "  }\n",
       "</style><div class='table-result-container'><table class='table-result'><thead style='background-color: white'><tr><th>ID</th><th>Company</th><th>Salary</th><th>JoiningDate</th></tr></thead><tbody><tr><td>1</td><td>ITC</td><td>59000</td><td>2024-01-15</td></tr><tr><td>2</td><td>BEML</td><td>68000</td><td>2023-12-10</td></tr><tr><td>3</td><td>HCL</td><td>53500</td><td>2022-06-25</td></tr><tr><td>4</td><td>AIRTEL</td><td>77800</td><td>2021-09-30</td></tr><tr><td>5</td><td>ACT</td><td>5550</td><td>2024-05-15</td></tr><tr><td>6</td><td>TATA</td><td>95600</td><td>2023-09-15</td></tr><tr><td>7</td><td>BEML</td><td>87500</td><td>2025-02-05</td></tr><tr><td>8</td><td>AIRTEL</td><td>95600</td><td>2021-06-20</td></tr><tr><td>9</td><td>ACT</td><td>65000</td><td>2024-02-04</td></tr><tr><td>10</td><td>ITC</td><td>36700</td><td>2022-09-08</td></tr><tr><td>11</td><td>TATA</td><td>175600</td><td>2023-06-15</td></tr><tr><td>12</td><td>ITC</td><td>98700</td><td>2022-12-18</td></tr><tr><td>13</td><td>BEML</td><td>99550</td><td>2023-01-22</td></tr><tr><td>14</td><td>AIRTEL</td><td>395800</td><td>2020-02-23</td></tr></tbody></table></div>"
      ]
     },
     "metadata": {
      "application/vnd.databricks.v1+output": {
       "addedWidgets": {},
       "aggData": [],
       "aggError": "",
       "aggOverflow": false,
       "aggSchema": [],
       "aggSeriesLimitReached": false,
       "aggType": "",
       "arguments": {},
       "columnCustomDisplayInfos": {},
       "data": [
        [
         1,
         "ITC",
         59000,
         "2024-01-15"
        ],
        [
         2,
         "BEML",
         68000,
         "2023-12-10"
        ],
        [
         3,
         "HCL",
         53500,
         "2022-06-25"
        ],
        [
         4,
         "AIRTEL",
         77800,
         "2021-09-30"
        ],
        [
         5,
         "ACT",
         5550,
         "2024-05-15"
        ],
        [
         6,
         "TATA",
         95600,
         "2023-09-15"
        ],
        [
         7,
         "BEML",
         87500,
         "2025-02-05"
        ],
        [
         8,
         "AIRTEL",
         95600,
         "2021-06-20"
        ],
        [
         9,
         "ACT",
         65000,
         "2024-02-04"
        ],
        [
         10,
         "ITC",
         36700,
         "2022-09-08"
        ],
        [
         11,
         "TATA",
         175600,
         "2023-06-15"
        ],
        [
         12,
         "ITC",
         98700,
         "2022-12-18"
        ],
        [
         13,
         "BEML",
         99550,
         "2023-01-22"
        ],
        [
         14,
         "AIRTEL",
         395800,
         "2020-02-23"
        ]
       ],
       "datasetInfos": [],
       "dbfsResultPath": null,
       "isJsonSchema": true,
       "metadata": {},
       "overflow": false,
       "plotOptions": {
        "customPlotOptions": {},
        "displayType": "table",
        "pivotAggregation": null,
        "pivotColumns": null,
        "xColumns": null,
        "yColumns": null
       },
       "removedWidgets": [],
       "schema": [
        {
         "metadata": "{}",
         "name": "ID",
         "type": "\"long\""
        },
        {
         "metadata": "{}",
         "name": "Company",
         "type": "\"string\""
        },
        {
         "metadata": "{}",
         "name": "Salary",
         "type": "\"long\""
        },
        {
         "metadata": "{}",
         "name": "JoiningDate",
         "type": "\"date\""
        }
       ],
       "type": "table"
      }
     },
     "output_type": "display_data"
    }
   ],
   "source": [
    "# Sample Data\n",
    "data = [\n",
    "    (1, \"ITC\", 59000, \"2024-01-15\"),\n",
    "    (2, \"BEML\", 68000, \"2023-12-10\"),\n",
    "    (3, \"HCL\", 53500, \"2022-06-25\"),\n",
    "    (4, \"AIRTEL\", 77800, \"2021-09-30\"),\n",
    "    (5, \"ACT\", 5550, \"2024-05-15\"),\n",
    "    (6, \"TATA\", 95600, \"2023-09-15\"),\n",
    "    (7, \"BEML\", 87500, \"2025-02-05\"),\n",
    "    (8, \"AIRTEL\", 95600, \"2021-06-20\"),\n",
    "    (9, \"ACT\", 65000, \"2024-02-04\"),\n",
    "    (10, \"ITC\", 36700, \"2022-09-08\"),\n",
    "    (11, \"TATA\", 175600, \"2023-06-15\"),\n",
    "    (12, \"ITC\", 98700, \"2022-12-18\"),\n",
    "    (13, \"BEML\", 99550, \"2023-01-22\"),\n",
    "    (14, \"AIRTEL\", 395800, \"2020-02-23\")\n",
    "]\n",
    "\n",
    "# Define Schema\n",
    "columns = [\"ID\", \"Company\", \"Salary\", \"JoiningDate\"]\n",
    "\n",
    "# Create DataFrame\n",
    "df = spark.createDataFrame(data, columns)\n",
    "df = df.withColumn(\"JoiningDate\", col(\"JoiningDate\").cast(DateType()))\n",
    "display(df)"
   ]
  },
  {
   "cell_type": "markdown",
   "metadata": {
    "application/vnd.databricks.v1+cell": {
     "cellMetadata": {},
     "inputWidgets": {},
     "nuid": "9968d420-07eb-4955-a4d1-a2fbf43e80db",
     "showTitle": false,
     "tableResultSettingsMap": {},
     "title": ""
    }
   },
   "source": [
    "**1) Using agg() Function**"
   ]
  },
  {
   "cell_type": "code",
   "execution_count": 0,
   "metadata": {
    "application/vnd.databricks.v1+cell": {
     "cellMetadata": {
      "byteLimit": 2048000,
      "rowLimit": 10000
     },
     "inputWidgets": {},
     "nuid": "8958f0f2-5349-463f-b51a-927c93b83a8f",
     "showTitle": true,
     "tableResultSettingsMap": {},
     "title": "agg with min & max"
    }
   },
   "outputs": [
    {
     "output_type": "display_data",
     "data": {
      "text/html": [
       "<style scoped>\n",
       "  .table-result-container {\n",
       "    max-height: 300px;\n",
       "    overflow: auto;\n",
       "  }\n",
       "  table, th, td {\n",
       "    border: 1px solid black;\n",
       "    border-collapse: collapse;\n",
       "  }\n",
       "  th, td {\n",
       "    padding: 5px;\n",
       "  }\n",
       "  th {\n",
       "    text-align: left;\n",
       "  }\n",
       "</style><div class='table-result-container'><table class='table-result'><thead style='background-color: white'><tr><th>Max_Salary</th><th>Min_Salary</th></tr></thead><tbody><tr><td>395800</td><td>5550</td></tr></tbody></table></div>"
      ]
     },
     "metadata": {
      "application/vnd.databricks.v1+output": {
       "addedWidgets": {},
       "aggData": [],
       "aggError": "",
       "aggOverflow": false,
       "aggSchema": [],
       "aggSeriesLimitReached": false,
       "aggType": "",
       "arguments": {},
       "columnCustomDisplayInfos": {},
       "data": [
        [
         395800,
         5550
        ]
       ],
       "datasetInfos": [],
       "dbfsResultPath": null,
       "isJsonSchema": true,
       "metadata": {},
       "overflow": false,
       "plotOptions": {
        "customPlotOptions": {},
        "displayType": "table",
        "pivotAggregation": null,
        "pivotColumns": null,
        "xColumns": null,
        "yColumns": null
       },
       "removedWidgets": [],
       "schema": [
        {
         "metadata": "{}",
         "name": "Max_Salary",
         "type": "\"long\""
        },
        {
         "metadata": "{}",
         "name": "Min_Salary",
         "type": "\"long\""
        }
       ],
       "type": "table"
      }
     },
     "output_type": "display_data"
    },
    {
     "output_type": "display_data",
     "data": {
      "text/html": [
       "<style scoped>\n",
       "  .table-result-container {\n",
       "    max-height: 300px;\n",
       "    overflow: auto;\n",
       "  }\n",
       "  table, th, td {\n",
       "    border: 1px solid black;\n",
       "    border-collapse: collapse;\n",
       "  }\n",
       "  th, td {\n",
       "    padding: 5px;\n",
       "  }\n",
       "  th {\n",
       "    text-align: left;\n",
       "  }\n",
       "</style><div class='table-result-container'><table class='table-result'><thead style='background-color: white'><tr><th>Latest_JoiningDate</th><th>Earliest_JoiningDate</th></tr></thead><tbody><tr><td>2025-02-05</td><td>2020-02-23</td></tr></tbody></table></div>"
      ]
     },
     "metadata": {
      "application/vnd.databricks.v1+output": {
       "addedWidgets": {},
       "aggData": [],
       "aggError": "",
       "aggOverflow": false,
       "aggSchema": [],
       "aggSeriesLimitReached": false,
       "aggType": "",
       "arguments": {},
       "columnCustomDisplayInfos": {},
       "data": [
        [
         "2025-02-05",
         "2020-02-23"
        ]
       ],
       "datasetInfos": [],
       "dbfsResultPath": null,
       "isJsonSchema": true,
       "metadata": {},
       "overflow": false,
       "plotOptions": {
        "customPlotOptions": {},
        "displayType": "table",
        "pivotAggregation": null,
        "pivotColumns": null,
        "xColumns": null,
        "yColumns": null
       },
       "removedWidgets": [],
       "schema": [
        {
         "metadata": "{}",
         "name": "Latest_JoiningDate",
         "type": "\"date\""
        },
        {
         "metadata": "{}",
         "name": "Earliest_JoiningDate",
         "type": "\"date\""
        }
       ],
       "type": "table"
      }
     },
     "output_type": "display_data"
    }
   ],
   "source": [
    "# Compute Max and Min using agg()\n",
    "df.agg(max(\"Salary\").alias(\"Max_Salary\"), min(\"Salary\").alias(\"Min_Salary\")).display()\n",
    "df.agg(max(\"JoiningDate\").alias(\"Latest_JoiningDate\"), min(\"JoiningDate\").alias(\"Earliest_JoiningDate\")).display()"
   ]
  },
  {
   "cell_type": "markdown",
   "metadata": {
    "application/vnd.databricks.v1+cell": {
     "cellMetadata": {},
     "inputWidgets": {},
     "nuid": "d57a1c2c-f9a5-4f15-a705-02a90095ce0f",
     "showTitle": false,
     "tableResultSettingsMap": {},
     "title": ""
    }
   },
   "source": [
    "**2) Using select() with max() and min()**"
   ]
  },
  {
   "cell_type": "code",
   "execution_count": 0,
   "metadata": {
    "application/vnd.databricks.v1+cell": {
     "cellMetadata": {
      "byteLimit": 2048000,
      "rowLimit": 10000
     },
     "inputWidgets": {},
     "nuid": "6a4e9068-2085-4547-b5f8-6a36cf6c3787",
     "showTitle": true,
     "tableResultSettingsMap": {},
     "title": "select with min & max"
    }
   },
   "outputs": [
    {
     "output_type": "display_data",
     "data": {
      "text/html": [
       "<style scoped>\n",
       "  .table-result-container {\n",
       "    max-height: 300px;\n",
       "    overflow: auto;\n",
       "  }\n",
       "  table, th, td {\n",
       "    border: 1px solid black;\n",
       "    border-collapse: collapse;\n",
       "  }\n",
       "  th, td {\n",
       "    padding: 5px;\n",
       "  }\n",
       "  th {\n",
       "    text-align: left;\n",
       "  }\n",
       "</style><div class='table-result-container'><table class='table-result'><thead style='background-color: white'><tr><th>Max_Salary</th><th>Min_Salary</th></tr></thead><tbody><tr><td>395800</td><td>5550</td></tr></tbody></table></div>"
      ]
     },
     "metadata": {
      "application/vnd.databricks.v1+output": {
       "addedWidgets": {},
       "aggData": [],
       "aggError": "",
       "aggOverflow": false,
       "aggSchema": [],
       "aggSeriesLimitReached": false,
       "aggType": "",
       "arguments": {},
       "columnCustomDisplayInfos": {},
       "data": [
        [
         395800,
         5550
        ]
       ],
       "datasetInfos": [],
       "dbfsResultPath": null,
       "isJsonSchema": true,
       "metadata": {},
       "overflow": false,
       "plotOptions": {
        "customPlotOptions": {},
        "displayType": "table",
        "pivotAggregation": null,
        "pivotColumns": null,
        "xColumns": null,
        "yColumns": null
       },
       "removedWidgets": [],
       "schema": [
        {
         "metadata": "{}",
         "name": "Max_Salary",
         "type": "\"long\""
        },
        {
         "metadata": "{}",
         "name": "Min_Salary",
         "type": "\"long\""
        }
       ],
       "type": "table"
      }
     },
     "output_type": "display_data"
    },
    {
     "output_type": "display_data",
     "data": {
      "text/html": [
       "<style scoped>\n",
       "  .table-result-container {\n",
       "    max-height: 300px;\n",
       "    overflow: auto;\n",
       "  }\n",
       "  table, th, td {\n",
       "    border: 1px solid black;\n",
       "    border-collapse: collapse;\n",
       "  }\n",
       "  th, td {\n",
       "    padding: 5px;\n",
       "  }\n",
       "  th {\n",
       "    text-align: left;\n",
       "  }\n",
       "</style><div class='table-result-container'><table class='table-result'><thead style='background-color: white'><tr><th>Latest_JoiningDate</th><th>Earliest_JoiningDate</th></tr></thead><tbody><tr><td>2025-02-05</td><td>2020-02-23</td></tr></tbody></table></div>"
      ]
     },
     "metadata": {
      "application/vnd.databricks.v1+output": {
       "addedWidgets": {},
       "aggData": [],
       "aggError": "",
       "aggOverflow": false,
       "aggSchema": [],
       "aggSeriesLimitReached": false,
       "aggType": "",
       "arguments": {},
       "columnCustomDisplayInfos": {},
       "data": [
        [
         "2025-02-05",
         "2020-02-23"
        ]
       ],
       "datasetInfos": [],
       "dbfsResultPath": null,
       "isJsonSchema": true,
       "metadata": {},
       "overflow": false,
       "plotOptions": {
        "customPlotOptions": {},
        "displayType": "table",
        "pivotAggregation": null,
        "pivotColumns": null,
        "xColumns": null,
        "yColumns": null
       },
       "removedWidgets": [],
       "schema": [
        {
         "metadata": "{}",
         "name": "Latest_JoiningDate",
         "type": "\"date\""
        },
        {
         "metadata": "{}",
         "name": "Earliest_JoiningDate",
         "type": "\"date\""
        }
       ],
       "type": "table"
      }
     },
     "output_type": "display_data"
    }
   ],
   "source": [
    "df.select(max(\"Salary\").alias(\"Max_Salary\"), min(\"Salary\").alias(\"Min_Salary\")).display()\n",
    "df.select(max(\"JoiningDate\").alias(\"Latest_JoiningDate\"), min(\"JoiningDate\").alias(\"Earliest_JoiningDate\")).display()"
   ]
  },
  {
   "cell_type": "markdown",
   "metadata": {
    "application/vnd.databricks.v1+cell": {
     "cellMetadata": {},
     "inputWidgets": {},
     "nuid": "c7811a42-8354-4c4b-8917-0806c19dcbf1",
     "showTitle": false,
     "tableResultSettingsMap": {},
     "title": ""
    }
   },
   "source": [
    "**3) Using groupBy()**"
   ]
  },
  {
   "cell_type": "code",
   "execution_count": 0,
   "metadata": {
    "application/vnd.databricks.v1+cell": {
     "cellMetadata": {
      "byteLimit": 2048000,
      "rowLimit": 10000
     },
     "inputWidgets": {},
     "nuid": "61785fd8-9a14-4272-8aea-35a72de16a0d",
     "showTitle": true,
     "tableResultSettingsMap": {},
     "title": "groupby with min & max"
    }
   },
   "outputs": [
    {
     "output_type": "display_data",
     "data": {
      "text/html": [
       "<style scoped>\n",
       "  .table-result-container {\n",
       "    max-height: 300px;\n",
       "    overflow: auto;\n",
       "  }\n",
       "  table, th, td {\n",
       "    border: 1px solid black;\n",
       "    border-collapse: collapse;\n",
       "  }\n",
       "  th, td {\n",
       "    padding: 5px;\n",
       "  }\n",
       "  th {\n",
       "    text-align: left;\n",
       "  }\n",
       "</style><div class='table-result-container'><table class='table-result'><thead style='background-color: white'><tr><th>Company</th><th>Max_Salary</th><th>Min_Salary</th></tr></thead><tbody><tr><td>ITC</td><td>98700</td><td>36700</td></tr><tr><td>BEML</td><td>99550</td><td>68000</td></tr><tr><td>HCL</td><td>53500</td><td>53500</td></tr><tr><td>AIRTEL</td><td>395800</td><td>77800</td></tr><tr><td>ACT</td><td>65000</td><td>5550</td></tr><tr><td>TATA</td><td>175600</td><td>95600</td></tr></tbody></table></div>"
      ]
     },
     "metadata": {
      "application/vnd.databricks.v1+output": {
       "addedWidgets": {},
       "aggData": [],
       "aggError": "",
       "aggOverflow": false,
       "aggSchema": [],
       "aggSeriesLimitReached": false,
       "aggType": "",
       "arguments": {},
       "columnCustomDisplayInfos": {},
       "data": [
        [
         "ITC",
         98700,
         36700
        ],
        [
         "BEML",
         99550,
         68000
        ],
        [
         "HCL",
         53500,
         53500
        ],
        [
         "AIRTEL",
         395800,
         77800
        ],
        [
         "ACT",
         65000,
         5550
        ],
        [
         "TATA",
         175600,
         95600
        ]
       ],
       "datasetInfos": [],
       "dbfsResultPath": null,
       "isJsonSchema": true,
       "metadata": {},
       "overflow": false,
       "plotOptions": {
        "customPlotOptions": {},
        "displayType": "table",
        "pivotAggregation": null,
        "pivotColumns": null,
        "xColumns": null,
        "yColumns": null
       },
       "removedWidgets": [],
       "schema": [
        {
         "metadata": "{}",
         "name": "Company",
         "type": "\"string\""
        },
        {
         "metadata": "{}",
         "name": "Max_Salary",
         "type": "\"long\""
        },
        {
         "metadata": "{}",
         "name": "Min_Salary",
         "type": "\"long\""
        }
       ],
       "type": "table"
      }
     },
     "output_type": "display_data"
    }
   ],
   "source": [
    "df.groupBy(\"Company\").agg(max(\"Salary\").alias(\"Max_Salary\"), min(\"Salary\").alias(\"Min_Salary\")).display()"
   ]
  },
  {
   "cell_type": "markdown",
   "metadata": {
    "application/vnd.databricks.v1+cell": {
     "cellMetadata": {},
     "inputWidgets": {},
     "nuid": "1965d7f2-037b-45b4-bd7c-c38182cb22ad",
     "showTitle": false,
     "tableResultSettingsMap": {},
     "title": ""
    }
   },
   "source": [
    "**4) Using describe()**\n",
    "- For **Numerical Columns**\n",
    "- If your column is numeric, describe() provides statistics:\n",
    "  - **count, mean, stddev, min, and max**."
   ]
  },
  {
   "cell_type": "code",
   "execution_count": 0,
   "metadata": {
    "application/vnd.databricks.v1+cell": {
     "cellMetadata": {
      "byteLimit": 2048000,
      "rowLimit": 10000
     },
     "inputWidgets": {},
     "nuid": "dd841bab-1301-47d0-b7df-6224c2841400",
     "showTitle": true,
     "tableResultSettingsMap": {},
     "title": "describe"
    }
   },
   "outputs": [
    {
     "output_type": "display_data",
     "data": {
      "text/html": [
       "<style scoped>\n",
       "  .table-result-container {\n",
       "    max-height: 300px;\n",
       "    overflow: auto;\n",
       "  }\n",
       "  table, th, td {\n",
       "    border: 1px solid black;\n",
       "    border-collapse: collapse;\n",
       "  }\n",
       "  th, td {\n",
       "    padding: 5px;\n",
       "  }\n",
       "  th {\n",
       "    text-align: left;\n",
       "  }\n",
       "</style><div class='table-result-container'><table class='table-result'><thead style='background-color: white'><tr><th>summary</th><th>Salary</th></tr></thead><tbody><tr><td>count</td><td>14</td></tr><tr><td>mean</td><td>100992.85714285714</td></tr><tr><td>stddev</td><td>93194.9339518287</td></tr><tr><td>min</td><td>5550</td></tr><tr><td>max</td><td>395800</td></tr></tbody></table></div>"
      ]
     },
     "metadata": {
      "application/vnd.databricks.v1+output": {
       "addedWidgets": {},
       "aggData": [],
       "aggError": "",
       "aggOverflow": false,
       "aggSchema": [],
       "aggSeriesLimitReached": false,
       "aggType": "",
       "arguments": {},
       "columnCustomDisplayInfos": {},
       "data": [
        [
         "count",
         "14"
        ],
        [
         "mean",
         "100992.85714285714"
        ],
        [
         "stddev",
         "93194.9339518287"
        ],
        [
         "min",
         "5550"
        ],
        [
         "max",
         "395800"
        ]
       ],
       "datasetInfos": [],
       "dbfsResultPath": null,
       "isJsonSchema": true,
       "metadata": {},
       "overflow": false,
       "plotOptions": {
        "customPlotOptions": {},
        "displayType": "table",
        "pivotAggregation": null,
        "pivotColumns": null,
        "xColumns": null,
        "yColumns": null
       },
       "removedWidgets": [],
       "schema": [
        {
         "metadata": "{}",
         "name": "summary",
         "type": "\"string\""
        },
        {
         "metadata": "{}",
         "name": "Salary",
         "type": "\"string\""
        }
       ],
       "type": "table"
      }
     },
     "output_type": "display_data"
    }
   ],
   "source": [
    "df.select(\"Salary\").describe().display()"
   ]
  },
  {
   "cell_type": "markdown",
   "metadata": {
    "application/vnd.databricks.v1+cell": {
     "cellMetadata": {},
     "inputWidgets": {},
     "nuid": "4109812c-6156-47c9-83f1-5fb1db5a9c60",
     "showTitle": false,
     "tableResultSettingsMap": {},
     "title": ""
    }
   },
   "source": [
    "**Summary of Methods:**\n",
    "\n",
    "      |-------------------------------|---------------------|-----------------------|--------------------------------|\n",
    "      |     Method\t                  | Works for Integers\t| Works for Dates\t| Returns                        |\n",
    "      |-------------------------------|---------------------|-----------------------|--------------------------------|\n",
    "      | agg(max(), min())             | ✅ Yes              | ✅ Yes\t        | Single row with min/max        |\n",
    "      | select(max(), min())\t  | ✅ Yes\t        | ✅ Yes\t        | Single row with min/max        |\n",
    "      | groupBy().agg(max(), min())\t  | ✅ Yes              | ✅ Yes\t        | Min/max per group              |\n",
    "      | describe()\t                  | ✅ Yes\t        | ❌ No\t                | Statistics including min/max   |\n",
    "      |-------------------------------|---------------------|-----------------------|--------------------------------|"
   ]
  },
  {
   "cell_type": "markdown",
   "metadata": {
    "application/vnd.databricks.v1+cell": {
     "cellMetadata": {},
     "inputWidgets": {},
     "nuid": "69bdcf27-636b-405f-afab-5a2d056a108b",
     "showTitle": false,
     "tableResultSettingsMap": {},
     "title": ""
    }
   },
   "source": [
    "**EX 02**"
   ]
  },
  {
   "cell_type": "code",
   "execution_count": 0,
   "metadata": {
    "application/vnd.databricks.v1+cell": {
     "cellMetadata": {
      "byteLimit": 2048000,
      "rowLimit": 10000
     },
     "inputWidgets": {},
     "nuid": "3f8ebd8c-3b1a-4546-b7ce-0a14b3de7def",
     "showTitle": true,
     "tableResultSettingsMap": {},
     "title": "sample dataframe"
    }
   },
   "outputs": [
    {
     "output_type": "display_data",
     "data": {
      "text/html": [
       "<style scoped>\n",
       "  .table-result-container {\n",
       "    max-height: 300px;\n",
       "    overflow: auto;\n",
       "  }\n",
       "  table, th, td {\n",
       "    border: 1px solid black;\n",
       "    border-collapse: collapse;\n",
       "  }\n",
       "  th, td {\n",
       "    padding: 5px;\n",
       "  }\n",
       "  th {\n",
       "    text-align: left;\n",
       "  }\n",
       "</style><div class='table-result-container'><table class='table-result'><thead style='background-color: white'><tr><th>Company_Name</th><th>Product_Id</th><th>Product_Version_Id</th><th>Cust_Name</th><th>Category</th><th>Start_Date</th><th>Start_Cust_Date</th><th>End_Date</th><th>Updated_Date</th><th>Cust_Value</th><th>Cust_Type</th><th>Exchange</th><th>Location</th><th>Last_Date_UTC</th><th>Cust_Category</th><th>Index</th><th>impact1</th><th>impact2</th><th>impact3</th><th>Base_Start_Date</th><th>Base_End_Date</th><th>Base_Expiration_Date</th><th>Base_Last_Sales_Date</th></tr></thead><tbody><tr><td>Sony</td><td>1</td><td>650</td><td>Naresh</td><td>Standard</td><td>3-Feb-23</td><td>1.73E12</td><td>1.73E12</td><td>1.73E12</td><td>30</td><td>STD</td><td>EUR</td><td>IND</td><td>1.72E12</td><td>SETTL</td><td>true</td><td>0</td><td>1</td><td>null</td><td>1/5/2024</td><td>2024-05-31</td><td>2024-04-29</td><td>2024-04-29</td></tr><tr><td>Sony</td><td>2</td><td>651</td><td>kamal</td><td>Standard</td><td>6-Feb-23</td><td>1.73E12</td><td>1.73E12</td><td>1.73E12</td><td>25</td><td>STD</td><td>EUR</td><td>IND</td><td>1.72E12</td><td>TOI</td><td>false</td><td>0</td><td>1</td><td>null</td><td>1/5/2024</td><td>2024-05-31</td><td>2024-04-29</td><td>2024-04-29</td></tr><tr><td>Sony</td><td>3</td><td>652</td><td>kajal</td><td>Standard</td><td>9-Feb-23</td><td>1.73E12</td><td>1.73E12</td><td>1.73E12</td><td>28</td><td>STD</td><td>EUR</td><td>IND</td><td>1.72E12</td><td>TOI</td><td>false</td><td>0</td><td>1</td><td>null</td><td>1/10/2024</td><td>2024-10-31</td><td>2024-09-27</td><td>2024-09-27</td></tr><tr><td>Sony</td><td>4</td><td>653</td><td>kiran</td><td>Standard</td><td>3-Jan-24</td><td>1.73E12</td><td>1.73E12</td><td>1.73E12</td><td>31</td><td>STD</td><td>EUR</td><td>IND</td><td>1.72E12</td><td>TOI</td><td>false</td><td>0</td><td>1</td><td>null</td><td>1/10/2024</td><td>2024-10-31</td><td>2024-09-27</td><td>2024-09-27</td></tr><tr><td>Sony</td><td>5</td><td>654</td><td>sam</td><td>Standard</td><td>8-Jan-24</td><td>1.73E12</td><td>1.73E12</td><td>1.73E12</td><td>34</td><td>STD</td><td>EUR</td><td>IND</td><td>1.72E12</td><td>TOI</td><td>false</td><td>0</td><td>1</td><td>null</td><td>1/3/2024</td><td>2024-03-31</td><td>2024-03-28</td><td>2024-03-28</td></tr><tr><td>Sony</td><td>6</td><td>655</td><td>sourab</td><td>Standard</td><td>9-Jan-24</td><td>1.73E12</td><td>1.74E12</td><td>1.73E12</td><td>37</td><td>STD</td><td>EUR</td><td>IND</td><td>1.72E12</td><td>TOI</td><td>true</td><td>0</td><td>1</td><td>null</td><td>1/3/2024</td><td>2024-03-31</td><td>2024-03-28</td><td>2024-03-28</td></tr><tr><td>Sony</td><td>7</td><td>656</td><td>jai</td><td>Upper</td><td>3-Mar-23</td><td>1.73E12</td><td>1.74E12</td><td>1.73E12</td><td>40</td><td>STD</td><td>EUR</td><td>IND</td><td>1.72E12</td><td>TOI</td><td>true</td><td>0</td><td>1</td><td>null</td><td>1/4/2024</td><td>2024-04-30</td><td>2024-04-29</td><td>2024-04-29</td></tr><tr><td>BPL</td><td>8</td><td>657</td><td>sree</td><td>Upper</td><td>6-Mar-23</td><td>1.73E12</td><td>1.73E12</td><td>1.73E12</td><td>43</td><td>STD</td><td>EUR</td><td>IND</td><td>1.72E12</td><td>SETTL</td><td>true</td><td>0</td><td>1</td><td>null</td><td>1/4/2024</td><td>2024-04-30</td><td>2024-04-29</td><td>2024-04-29</td></tr><tr><td>BPL</td><td>9</td><td>658</td><td>sreenath</td><td>Upper</td><td>9-Mar-23</td><td>1.73E12</td><td>1.74E12</td><td>1.73E12</td><td>46</td><td>STD</td><td>EUR</td><td>IND</td><td>1.72E12</td><td>SETTL</td><td>true</td><td>0</td><td>1</td><td>null</td><td>1/5/2024</td><td>2024-05-31</td><td>2024-05-30</td><td>2024-05-30</td></tr><tr><td>BPL</td><td>10</td><td>659</td><td>kamaesh</td><td>Upper</td><td>3-Jan-25</td><td>1.74E12</td><td>1.74E12</td><td>1.73E12</td><td>49</td><td>STD</td><td>EUR</td><td>IND</td><td>1.72E12</td><td>SETTL</td><td>false</td><td>0</td><td>1</td><td>null</td><td>1/5/2024</td><td>2024-05-31</td><td>2024-05-30</td><td>2024-05-30</td></tr><tr><td>BPL</td><td>11</td><td>660</td><td>david</td><td>Upper</td><td>6-Jan-25</td><td>1.74E12</td><td>1.74E12</td><td>1.73E12</td><td>52</td><td>STD</td><td>EUR</td><td>IND</td><td>1.72E12</td><td>SETTL</td><td>false</td><td>0</td><td>1</td><td>null</td><td>1/4/2024</td><td>2024-06-30</td><td>2024-03-26</td><td>2024-03-26</td></tr><tr><td>BPL</td><td>12</td><td>661</td><td>joes</td><td>Upper</td><td>9-Jan-25</td><td>1.74E12</td><td>1.74E12</td><td>1.73E12</td><td>55</td><td>STD</td><td>EUR</td><td>IND</td><td>1.72E12</td><td>SETTL</td><td>false</td><td>0</td><td>1</td><td>null</td><td>1/4/2024</td><td>2024-06-30</td><td>2024-03-26</td><td>2024-03-26</td></tr><tr><td>BPL</td><td>13</td><td>662</td><td>paul</td><td>Upper</td><td>3-Apr-23</td><td>1.74E12</td><td>1.74E12</td><td>1.73E12</td><td>58</td><td>STD</td><td>EUR</td><td>IND</td><td>1.72E12</td><td>SETTL</td><td>false</td><td>0</td><td>1</td><td>null</td><td>1/1/2025</td><td>2025-12-31</td><td>2024-12-27</td><td>2024-12-27</td></tr><tr><td>BPL</td><td>14</td><td>663</td><td>sweta</td><td>Upper</td><td>6-Apr-23</td><td>1.74E12</td><td>1.74E12</td><td>1.73E12</td><td>61</td><td>STD</td><td>EUR</td><td>USA</td><td>1.72E12</td><td>SETTL</td><td>false</td><td>0</td><td>1</td><td>null</td><td>1/1/2025</td><td>2025-12-31</td><td>2024-12-27</td><td>2024-12-27</td></tr><tr><td>Philips</td><td>15</td><td>664</td><td>narendra</td><td>Medium</td><td>1-Apr-23</td><td>1.74E12</td><td>1.74E12</td><td>1.73E12</td><td>64</td><td>STD</td><td>EUR</td><td>USA</td><td>1.72E12</td><td>TOI</td><td>false</td><td>0</td><td>1</td><td>null</td><td>1/4/2024</td><td>2024-04-30</td><td>2024-03-27</td><td>2024-03-27</td></tr><tr><td>Philips</td><td>16</td><td>665</td><td>ramesh</td><td>Medium</td><td>3-Feb-23</td><td>1.74E12</td><td>1.74E12</td><td>1.73E12</td><td>67</td><td>STD</td><td>EUR</td><td>USA</td><td>1.72E12</td><td>TOI</td><td>false</td><td>0</td><td>1</td><td>null</td><td>1/4/2024</td><td>2024-04-30</td><td>2024-03-27</td><td>2024-03-27</td></tr><tr><td>Philips</td><td>17</td><td>666</td><td>rakesh</td><td>Medium</td><td>6-Feb-23</td><td>1.74E12</td><td>1.74E12</td><td>1.73E12</td><td>70</td><td>STD</td><td>EUR</td><td>USA</td><td>1.72E12</td><td>TOI</td><td>true</td><td>0</td><td>1</td><td>null</td><td>1/4/2024</td><td>2024-04-30</td><td>2024-03-27</td><td>2024-03-27</td></tr><tr><td>Philips</td><td>18</td><td>667</td><td>rajesh</td><td>Medium</td><td>9-Feb-23</td><td>1.74E12</td><td>1.75E12</td><td>1.73E12</td><td>73</td><td>STD</td><td>EUR</td><td>USA</td><td>1.72E12</td><td>TOI</td><td>true</td><td>0</td><td>1</td><td>null</td><td>1/4/2024</td><td>2024-04-30</td><td>2024-03-27</td><td>2024-03-27</td></tr><tr><td>Philips</td><td>19</td><td>668</td><td>mukesh</td><td>Medium</td><td>3-Jan-24</td><td>1.74E12</td><td>1.75E12</td><td>1.73E12</td><td>76</td><td>STD</td><td>EUR</td><td>USA</td><td>1.72E12</td><td>TOI</td><td>true</td><td>0</td><td>1</td><td>null</td><td>1/8/2024</td><td>2024-08-31</td><td>2024-07-30</td><td>2024-07-30</td></tr><tr><td>Philips</td><td>20</td><td>669</td><td>venkatesh</td><td>Medium</td><td>8-Jan-24</td><td>1.74E12</td><td>1.74E12</td><td>1.73E12</td><td>79</td><td>STD</td><td>EUR</td><td>USA</td><td>1.72E12</td><td>TOI</td><td>true</td><td>0</td><td>1</td><td>null</td><td>1/8/2024</td><td>2024-08-31</td><td>2024-07-30</td><td>2024-07-30</td></tr><tr><td>Philips</td><td>21</td><td>670</td><td>Naresh</td><td>Medium</td><td>9-Jan-24</td><td>1.74E12</td><td>1.75E12</td><td>1.73E12</td><td>82</td><td>STD</td><td>EUR</td><td>USA</td><td>1.72E12</td><td>TOI</td><td>true</td><td>0</td><td>1</td><td>null</td><td>1/4/2024</td><td>2024-06-30</td><td>2024-03-26</td><td>2024-03-26</td></tr><tr><td>Philips</td><td>22</td><td>671</td><td>kamal</td><td>Medium</td><td>3-Mar-23</td><td>1.75E12</td><td>1.75E12</td><td>1.73E12</td><td>85</td><td>STD</td><td>EUR</td><td>USA</td><td>1.72E12</td><td>TOI</td><td>false</td><td>0</td><td>1</td><td>null</td><td>1/4/2024</td><td>2024-06-30</td><td>2024-03-26</td><td>2024-03-26</td></tr><tr><td>Philips</td><td>23</td><td>672</td><td>kajal</td><td>Medium</td><td>6-Mar-23</td><td>1.75E12</td><td>1.75E12</td><td>1.73E12</td><td>88</td><td>STD</td><td>EUR</td><td>USA</td><td>1.72E12</td><td>TOI</td><td>false</td><td>0</td><td>1</td><td>null</td><td>1/10/2024</td><td>2024-12-31</td><td>2024-09-26</td><td>2024-09-26</td></tr><tr><td>Philips</td><td>24</td><td>673</td><td>joes</td><td>Medium</td><td>9-Mar-23</td><td>1.75E12</td><td>1.75E12</td><td>1.73E12</td><td>91</td><td>STD</td><td>EUR</td><td>USA</td><td>1.72E12</td><td>RTO</td><td>false</td><td>0</td><td>1</td><td>null</td><td>1/10/2024</td><td>2024-12-31</td><td>2024-09-26</td><td>2024-09-26</td></tr><tr><td>Philips</td><td>25</td><td>674</td><td>paul</td><td>Medium</td><td>3-Jan-25</td><td>1.75E12</td><td>1.75E12</td><td>1.73E12</td><td>94</td><td>STD</td><td>EUR</td><td>USA</td><td>1.72E12</td><td>RTO</td><td>false</td><td>0</td><td>1</td><td>null</td><td>1/10/2024</td><td>2025-03-31</td><td>2024-09-26</td><td>2024-09-26</td></tr><tr><td>Philips</td><td>26</td><td>675</td><td>sweta</td><td>Medium</td><td>6-Jan-25</td><td>1.75E12</td><td>1.75E12</td><td>1.73E12</td><td>97</td><td>STD</td><td>EUR</td><td>USA</td><td>1.72E12</td><td>RTO</td><td>false</td><td>0</td><td>1</td><td>null</td><td>1/10/2024</td><td>2025-03-31</td><td>2024-09-26</td><td>2024-09-26</td></tr><tr><td>Philips</td><td>27</td><td>676</td><td>narendra</td><td>Medium</td><td>9-Jan-25</td><td>1.75E12</td><td>1.75E12</td><td>1.73E12</td><td>100</td><td>STD</td><td>EUR</td><td>USA</td><td>1.72E12</td><td>RTO</td><td>true</td><td>0</td><td>1</td><td>null</td><td>1/1/2025</td><td>2025-12-31</td><td>2024-12-27</td><td>2024-12-27</td></tr><tr><td>Philips</td><td>28</td><td>677</td><td>ramesh</td><td>Medium</td><td>3-Apr-23</td><td>1.75E12</td><td>1.75E12</td><td>1.73E12</td><td>103</td><td>STD</td><td>EUR</td><td>USA</td><td>1.72E12</td><td>RTO</td><td>true</td><td>0</td><td>1</td><td>null</td><td>1/1/2025</td><td>2025-12-31</td><td>2024-12-27</td><td>2024-12-27</td></tr><tr><td>Philips</td><td>29</td><td>678</td><td>rashi</td><td>Medium</td><td>6-Apr-23</td><td>1.75E12</td><td>1.75E12</td><td>1.73E12</td><td>106</td><td>STD</td><td>EUR</td><td>UK</td><td>1.72E12</td><td>EDA</td><td>true</td><td>0</td><td>1</td><td>null</td><td>1/3/2024</td><td>2024-03-31</td><td>2024-03-28</td><td>2024-03-28</td></tr><tr><td>BP</td><td>30</td><td>679</td><td>rishab</td><td>Premium</td><td>8-Apr-23</td><td>1.75E12</td><td>1.76E12</td><td>1.73E12</td><td>109</td><td>STD</td><td>EUR</td><td>UK</td><td>1.72E12</td><td>EDA</td><td>true</td><td>0</td><td>1</td><td>null</td><td>1/3/2024</td><td>2024-03-31</td><td>2024-03-28</td><td>2024-03-28</td></tr><tr><td>BP</td><td>31</td><td>680</td><td>basha</td><td>Premium</td><td>3-Feb-23</td><td>1.75E12</td><td>1.76E12</td><td>1.73E12</td><td>112</td><td>STD</td><td>EUR</td><td>UK</td><td>1.72E12</td><td>TOI</td><td>true</td><td>0</td><td>1</td><td>null</td><td>1/4/2024</td><td>2024-06-30</td><td>2024-03-26</td><td>2024-03-26</td></tr><tr><td>BP</td><td>32</td><td>681</td><td>kumaran</td><td>Premium</td><td>6-Feb-23</td><td>1.75E12</td><td>1.75E12</td><td>1.73E12</td><td>115</td><td>STD</td><td>EUR</td><td>UK</td><td>1.72E12</td><td>TOI</td><td>true</td><td>0</td><td>1</td><td>null</td><td>1/4/2024</td><td>2024-06-30</td><td>2024-03-26</td><td>2024-03-26</td></tr><tr><td>BP</td><td>33</td><td>682</td><td>karthik</td><td>Premium</td><td>9-Feb-23</td><td>1.75E12</td><td>1.76E12</td><td>1.73E12</td><td>118</td><td>STD</td><td>EUR</td><td>UK</td><td>1.72E12</td><td>TOI</td><td>true</td><td>0</td><td>1</td><td>null</td><td>1/1/2025</td><td>2025-12-31</td><td>2024-12-27</td><td>2024-12-27</td></tr><tr><td>BP</td><td>34</td><td>683</td><td>parvesh</td><td>Premium</td><td>3-Jan-24</td><td>1.76E12</td><td>1.76E12</td><td>1.73E12</td><td>121</td><td>STD</td><td>EUR</td><td>UK</td><td>1.72E12</td><td>TOI</td><td>false</td><td>0</td><td>1</td><td>null</td><td>1/1/2025</td><td>2025-12-31</td><td>2024-12-27</td><td>2024-12-27</td></tr><tr><td>BP</td><td>35</td><td>684</td><td>danush</td><td>Premium</td><td>8-Jan-24</td><td>1.76E12</td><td>1.76E12</td><td>1.73E12</td><td>124</td><td>STD</td><td>EUR</td><td>UK</td><td>1.72E12</td><td>TOI</td><td>false</td><td>0</td><td>1</td><td>null</td><td>1/3/2024</td><td>2024-03-31</td><td>2024-03-28</td><td>2024-03-28</td></tr><tr><td>BP</td><td>36</td><td>685</td><td>vidish</td><td>Premium</td><td>9-Jan-24</td><td>1.76E12</td><td>1.76E12</td><td>1.73E12</td><td>127</td><td>STD</td><td>EUR</td><td>UK</td><td>1.72E12</td><td>EDA</td><td>false</td><td>0</td><td>1</td><td>null</td><td>1/3/2024</td><td>2024-03-31</td><td>2024-03-28</td><td>2024-03-28</td></tr><tr><td>BP</td><td>37</td><td>686</td><td>sam</td><td>Premium</td><td>3-Mar-23</td><td>1.76E12</td><td>1.76E12</td><td>1.73E12</td><td>130</td><td>STD</td><td>EUR</td><td>UK</td><td>1.72E12</td><td>EDA</td><td>false</td><td>0</td><td>1</td><td>null</td><td>1/4/2024</td><td>2024-06-30</td><td>2024-03-26</td><td>2024-03-26</td></tr><tr><td>BP</td><td>38</td><td>687</td><td>sourab</td><td>Premium</td><td>6-Mar-23</td><td>1.76E12</td><td>1.76E12</td><td>1.73E12</td><td>133</td><td>STD</td><td>EUR</td><td>UK</td><td>1.72E12</td><td>EDA</td><td>false</td><td>0</td><td>1</td><td>null</td><td>1/4/2024</td><td>2024-06-30</td><td>2024-03-26</td><td>2024-03-26</td></tr><tr><td>BP</td><td>39</td><td>688</td><td>jai</td><td>Premium</td><td>9-Mar-23</td><td>1.76E12</td><td>1.76E12</td><td>1.73E12</td><td>136</td><td>STD</td><td>EUR</td><td>UK</td><td>1.72E12</td><td>EDA</td><td>true</td><td>0</td><td>1</td><td>null</td><td>1/1/2025</td><td>2025-12-31</td><td>2024-12-27</td><td>2024-12-27</td></tr><tr><td>Reliance</td><td>40</td><td>689</td><td>sree</td><td>Lower</td><td>3-Jan-25</td><td>1.76E12</td><td>1.76E12</td><td>1.73E12</td><td>139</td><td>STD</td><td>EUR</td><td>UK</td><td>1.72E12</td><td>TOI</td><td>true</td><td>0</td><td>1</td><td>null</td><td>1/1/2025</td><td>2025-12-31</td><td>2024-12-27</td><td>2024-12-27</td></tr><tr><td>Reliance</td><td>41</td><td>690</td><td>sreenath</td><td>Lower</td><td>6-Jan-25</td><td>1.76E12</td><td>1.76E12</td><td>1.73E12</td><td>142</td><td>STD</td><td>EUR</td><td>UK</td><td>1.72E12</td><td>TOI</td><td>true</td><td>0</td><td>1</td><td>null</td><td>1/6/2024</td><td>2024-06-30</td><td>2024-06-28</td><td>2024-06-28</td></tr><tr><td>Reliance</td><td>42</td><td>691</td><td>Naresh</td><td>Lower</td><td>9-Jan-25</td><td>1.76E12</td><td>1.77E12</td><td>1.73E12</td><td>145</td><td>STD</td><td>EUR</td><td>UK</td><td>1.72E12</td><td>TOI</td><td>true</td><td>0</td><td>1</td><td>null</td><td>1/6/2024</td><td>2024-06-30</td><td>2024-06-28</td><td>2024-06-28</td></tr><tr><td>Reliance</td><td>43</td><td>692</td><td>kamal</td><td>Lower</td><td>3-Apr-23</td><td>1.76E12</td><td>1.77E12</td><td>1.73E12</td><td>148</td><td>STD</td><td>EUR</td><td>UK</td><td>1.72E12</td><td>SETTL</td><td>true</td><td>0</td><td>1</td><td>null</td><td>1/7/2024</td><td>2024-07-31</td><td>2024-07-30</td><td>2024-07-30</td></tr><tr><td>Reliance</td><td>44</td><td>693</td><td>kajal</td><td>Lower</td><td>6-Apr-23</td><td>1.76E12</td><td>1.76E12</td><td>1.73E12</td><td>151</td><td>STD</td><td>EUR</td><td>UK</td><td>1.72E12</td><td>SETTL</td><td>true</td><td>0</td><td>1</td><td>null</td><td>1/7/2024</td><td>2024-07-31</td><td>2024-07-30</td><td>2024-07-30</td></tr><tr><td>Reliance</td><td>45</td><td>694</td><td>paul</td><td>Lower</td><td>7-Apr-23</td><td>1.76E12</td><td>1.77E12</td><td>1.73E12</td><td>154</td><td>STD</td><td>EUR</td><td>SL</td><td>1.72E12</td><td>SETTL</td><td>true</td><td>0</td><td>1</td><td>null</td><td>1/3/2024</td><td>2024-03-31</td><td>2024-02-28</td><td>2024-02-28</td></tr><tr><td>Reliance</td><td>46</td><td>695</td><td>sweta</td><td>Lower</td><td>3-Feb-23</td><td>1.71E12</td><td>1.72E12</td><td>1.73E12</td><td>157</td><td>STD</td><td>EUR</td><td>SL</td><td>1.72E12</td><td>SETTL</td><td>true</td><td>0</td><td>1</td><td>null</td><td>1/3/2024</td><td>2024-03-31</td><td>2024-02-28</td><td>2024-02-28</td></tr><tr><td>Reliance</td><td>47</td><td>696</td><td>narendra</td><td>Lower</td><td>6-Feb-23</td><td>1.71E12</td><td>1.72E12</td><td>1.73E12</td><td>160</td><td>STD</td><td>EUR</td><td>SL</td><td>1.72E12</td><td>SETTL</td><td>false</td><td>0</td><td>1</td><td>null</td><td>1/3/2025</td><td>2025-03-31</td><td>2024-03-26</td><td>2024-03-31</td></tr><tr><td>Reliance</td><td>48</td><td>697</td><td>ramesh</td><td>Lower</td><td>9-Feb-23</td><td>1.71E12</td><td>1.72E12</td><td>1.73E12</td><td>163</td><td>STD</td><td>EUR</td><td>SL</td><td>1.72E12</td><td>SETTL</td><td>false</td><td>0</td><td>1</td><td>null</td><td>1/3/2025</td><td>2025-03-31</td><td>2024-04-01</td><td>2025-12-31</td></tr><tr><td>Reliance</td><td>49</td><td>698</td><td>kalmesh</td><td>Lower</td><td>3-Jan-24</td><td>1.72E12</td><td>1.73E12</td><td>1.73E12</td><td>166</td><td>STD</td><td>EUR</td><td>SL</td><td>1.72E12</td><td>SETTL</td><td>false</td><td>0</td><td>1</td><td>null</td><td>1/10/2024</td><td>2024-10-31</td><td>2024-07-30</td><td>2024-03-26</td></tr><tr><td>Reliance</td><td>50</td><td>699</td><td>kalmesh</td><td>Lower</td><td>3-Jan-24</td><td>1.72E12</td><td>1.73E12</td><td>1.73E12</td><td>166</td><td>STD</td><td>EUR</td><td>SL</td><td>1.72E12</td><td>SETTL</td><td>false</td><td>0</td><td>1</td><td>null</td><td>1/10/2024</td><td>2024-10-31</td><td>2024-03-31</td><td>2024-07-30</td></tr></tbody></table></div>"
      ]
     },
     "metadata": {
      "application/vnd.databricks.v1+output": {
       "addedWidgets": {},
       "aggData": [],
       "aggError": "",
       "aggOverflow": false,
       "aggSchema": [],
       "aggSeriesLimitReached": false,
       "aggType": "",
       "arguments": {},
       "columnCustomDisplayInfos": {},
       "data": [
        [
         "Sony",
         1,
         650,
         "Naresh",
         "Standard",
         "3-Feb-23",
         1.73E12,
         1.73E12,
         1.73E12,
         30,
         "STD",
         "EUR",
         "IND",
         1.72E12,
         "SETTL",
         true,
         0,
         1,
         null,
         "1/5/2024",
         "2024-05-31",
         "2024-04-29",
         "2024-04-29"
        ],
        [
         "Sony",
         2,
         651,
         "kamal",
         "Standard",
         "6-Feb-23",
         1.73E12,
         1.73E12,
         1.73E12,
         25,
         "STD",
         "EUR",
         "IND",
         1.72E12,
         "TOI",
         false,
         0,
         1,
         null,
         "1/5/2024",
         "2024-05-31",
         "2024-04-29",
         "2024-04-29"
        ],
        [
         "Sony",
         3,
         652,
         "kajal",
         "Standard",
         "9-Feb-23",
         1.73E12,
         1.73E12,
         1.73E12,
         28,
         "STD",
         "EUR",
         "IND",
         1.72E12,
         "TOI",
         false,
         0,
         1,
         null,
         "1/10/2024",
         "2024-10-31",
         "2024-09-27",
         "2024-09-27"
        ],
        [
         "Sony",
         4,
         653,
         "kiran",
         "Standard",
         "3-Jan-24",
         1.73E12,
         1.73E12,
         1.73E12,
         31,
         "STD",
         "EUR",
         "IND",
         1.72E12,
         "TOI",
         false,
         0,
         1,
         null,
         "1/10/2024",
         "2024-10-31",
         "2024-09-27",
         "2024-09-27"
        ],
        [
         "Sony",
         5,
         654,
         "sam",
         "Standard",
         "8-Jan-24",
         1.73E12,
         1.73E12,
         1.73E12,
         34,
         "STD",
         "EUR",
         "IND",
         1.72E12,
         "TOI",
         false,
         0,
         1,
         null,
         "1/3/2024",
         "2024-03-31",
         "2024-03-28",
         "2024-03-28"
        ],
        [
         "Sony",
         6,
         655,
         "sourab",
         "Standard",
         "9-Jan-24",
         1.73E12,
         1.74E12,
         1.73E12,
         37,
         "STD",
         "EUR",
         "IND",
         1.72E12,
         "TOI",
         true,
         0,
         1,
         null,
         "1/3/2024",
         "2024-03-31",
         "2024-03-28",
         "2024-03-28"
        ],
        [
         "Sony",
         7,
         656,
         "jai",
         "Upper",
         "3-Mar-23",
         1.73E12,
         1.74E12,
         1.73E12,
         40,
         "STD",
         "EUR",
         "IND",
         1.72E12,
         "TOI",
         true,
         0,
         1,
         null,
         "1/4/2024",
         "2024-04-30",
         "2024-04-29",
         "2024-04-29"
        ],
        [
         "BPL",
         8,
         657,
         "sree",
         "Upper",
         "6-Mar-23",
         1.73E12,
         1.73E12,
         1.73E12,
         43,
         "STD",
         "EUR",
         "IND",
         1.72E12,
         "SETTL",
         true,
         0,
         1,
         null,
         "1/4/2024",
         "2024-04-30",
         "2024-04-29",
         "2024-04-29"
        ],
        [
         "BPL",
         9,
         658,
         "sreenath",
         "Upper",
         "9-Mar-23",
         1.73E12,
         1.74E12,
         1.73E12,
         46,
         "STD",
         "EUR",
         "IND",
         1.72E12,
         "SETTL",
         true,
         0,
         1,
         null,
         "1/5/2024",
         "2024-05-31",
         "2024-05-30",
         "2024-05-30"
        ],
        [
         "BPL",
         10,
         659,
         "kamaesh",
         "Upper",
         "3-Jan-25",
         1.74E12,
         1.74E12,
         1.73E12,
         49,
         "STD",
         "EUR",
         "IND",
         1.72E12,
         "SETTL",
         false,
         0,
         1,
         null,
         "1/5/2024",
         "2024-05-31",
         "2024-05-30",
         "2024-05-30"
        ],
        [
         "BPL",
         11,
         660,
         "david",
         "Upper",
         "6-Jan-25",
         1.74E12,
         1.74E12,
         1.73E12,
         52,
         "STD",
         "EUR",
         "IND",
         1.72E12,
         "SETTL",
         false,
         0,
         1,
         null,
         "1/4/2024",
         "2024-06-30",
         "2024-03-26",
         "2024-03-26"
        ],
        [
         "BPL",
         12,
         661,
         "joes",
         "Upper",
         "9-Jan-25",
         1.74E12,
         1.74E12,
         1.73E12,
         55,
         "STD",
         "EUR",
         "IND",
         1.72E12,
         "SETTL",
         false,
         0,
         1,
         null,
         "1/4/2024",
         "2024-06-30",
         "2024-03-26",
         "2024-03-26"
        ],
        [
         "BPL",
         13,
         662,
         "paul",
         "Upper",
         "3-Apr-23",
         1.74E12,
         1.74E12,
         1.73E12,
         58,
         "STD",
         "EUR",
         "IND",
         1.72E12,
         "SETTL",
         false,
         0,
         1,
         null,
         "1/1/2025",
         "2025-12-31",
         "2024-12-27",
         "2024-12-27"
        ],
        [
         "BPL",
         14,
         663,
         "sweta",
         "Upper",
         "6-Apr-23",
         1.74E12,
         1.74E12,
         1.73E12,
         61,
         "STD",
         "EUR",
         "USA",
         1.72E12,
         "SETTL",
         false,
         0,
         1,
         null,
         "1/1/2025",
         "2025-12-31",
         "2024-12-27",
         "2024-12-27"
        ],
        [
         "Philips",
         15,
         664,
         "narendra",
         "Medium",
         "1-Apr-23",
         1.74E12,
         1.74E12,
         1.73E12,
         64,
         "STD",
         "EUR",
         "USA",
         1.72E12,
         "TOI",
         false,
         0,
         1,
         null,
         "1/4/2024",
         "2024-04-30",
         "2024-03-27",
         "2024-03-27"
        ],
        [
         "Philips",
         16,
         665,
         "ramesh",
         "Medium",
         "3-Feb-23",
         1.74E12,
         1.74E12,
         1.73E12,
         67,
         "STD",
         "EUR",
         "USA",
         1.72E12,
         "TOI",
         false,
         0,
         1,
         null,
         "1/4/2024",
         "2024-04-30",
         "2024-03-27",
         "2024-03-27"
        ],
        [
         "Philips",
         17,
         666,
         "rakesh",
         "Medium",
         "6-Feb-23",
         1.74E12,
         1.74E12,
         1.73E12,
         70,
         "STD",
         "EUR",
         "USA",
         1.72E12,
         "TOI",
         true,
         0,
         1,
         null,
         "1/4/2024",
         "2024-04-30",
         "2024-03-27",
         "2024-03-27"
        ],
        [
         "Philips",
         18,
         667,
         "rajesh",
         "Medium",
         "9-Feb-23",
         1.74E12,
         1.75E12,
         1.73E12,
         73,
         "STD",
         "EUR",
         "USA",
         1.72E12,
         "TOI",
         true,
         0,
         1,
         null,
         "1/4/2024",
         "2024-04-30",
         "2024-03-27",
         "2024-03-27"
        ],
        [
         "Philips",
         19,
         668,
         "mukesh",
         "Medium",
         "3-Jan-24",
         1.74E12,
         1.75E12,
         1.73E12,
         76,
         "STD",
         "EUR",
         "USA",
         1.72E12,
         "TOI",
         true,
         0,
         1,
         null,
         "1/8/2024",
         "2024-08-31",
         "2024-07-30",
         "2024-07-30"
        ],
        [
         "Philips",
         20,
         669,
         "venkatesh",
         "Medium",
         "8-Jan-24",
         1.74E12,
         1.74E12,
         1.73E12,
         79,
         "STD",
         "EUR",
         "USA",
         1.72E12,
         "TOI",
         true,
         0,
         1,
         null,
         "1/8/2024",
         "2024-08-31",
         "2024-07-30",
         "2024-07-30"
        ],
        [
         "Philips",
         21,
         670,
         "Naresh",
         "Medium",
         "9-Jan-24",
         1.74E12,
         1.75E12,
         1.73E12,
         82,
         "STD",
         "EUR",
         "USA",
         1.72E12,
         "TOI",
         true,
         0,
         1,
         null,
         "1/4/2024",
         "2024-06-30",
         "2024-03-26",
         "2024-03-26"
        ],
        [
         "Philips",
         22,
         671,
         "kamal",
         "Medium",
         "3-Mar-23",
         1.75E12,
         1.75E12,
         1.73E12,
         85,
         "STD",
         "EUR",
         "USA",
         1.72E12,
         "TOI",
         false,
         0,
         1,
         null,
         "1/4/2024",
         "2024-06-30",
         "2024-03-26",
         "2024-03-26"
        ],
        [
         "Philips",
         23,
         672,
         "kajal",
         "Medium",
         "6-Mar-23",
         1.75E12,
         1.75E12,
         1.73E12,
         88,
         "STD",
         "EUR",
         "USA",
         1.72E12,
         "TOI",
         false,
         0,
         1,
         null,
         "1/10/2024",
         "2024-12-31",
         "2024-09-26",
         "2024-09-26"
        ],
        [
         "Philips",
         24,
         673,
         "joes",
         "Medium",
         "9-Mar-23",
         1.75E12,
         1.75E12,
         1.73E12,
         91,
         "STD",
         "EUR",
         "USA",
         1.72E12,
         "RTO",
         false,
         0,
         1,
         null,
         "1/10/2024",
         "2024-12-31",
         "2024-09-26",
         "2024-09-26"
        ],
        [
         "Philips",
         25,
         674,
         "paul",
         "Medium",
         "3-Jan-25",
         1.75E12,
         1.75E12,
         1.73E12,
         94,
         "STD",
         "EUR",
         "USA",
         1.72E12,
         "RTO",
         false,
         0,
         1,
         null,
         "1/10/2024",
         "2025-03-31",
         "2024-09-26",
         "2024-09-26"
        ],
        [
         "Philips",
         26,
         675,
         "sweta",
         "Medium",
         "6-Jan-25",
         1.75E12,
         1.75E12,
         1.73E12,
         97,
         "STD",
         "EUR",
         "USA",
         1.72E12,
         "RTO",
         false,
         0,
         1,
         null,
         "1/10/2024",
         "2025-03-31",
         "2024-09-26",
         "2024-09-26"
        ],
        [
         "Philips",
         27,
         676,
         "narendra",
         "Medium",
         "9-Jan-25",
         1.75E12,
         1.75E12,
         1.73E12,
         100,
         "STD",
         "EUR",
         "USA",
         1.72E12,
         "RTO",
         true,
         0,
         1,
         null,
         "1/1/2025",
         "2025-12-31",
         "2024-12-27",
         "2024-12-27"
        ],
        [
         "Philips",
         28,
         677,
         "ramesh",
         "Medium",
         "3-Apr-23",
         1.75E12,
         1.75E12,
         1.73E12,
         103,
         "STD",
         "EUR",
         "USA",
         1.72E12,
         "RTO",
         true,
         0,
         1,
         null,
         "1/1/2025",
         "2025-12-31",
         "2024-12-27",
         "2024-12-27"
        ],
        [
         "Philips",
         29,
         678,
         "rashi",
         "Medium",
         "6-Apr-23",
         1.75E12,
         1.75E12,
         1.73E12,
         106,
         "STD",
         "EUR",
         "UK",
         1.72E12,
         "EDA",
         true,
         0,
         1,
         null,
         "1/3/2024",
         "2024-03-31",
         "2024-03-28",
         "2024-03-28"
        ],
        [
         "BP",
         30,
         679,
         "rishab",
         "Premium",
         "8-Apr-23",
         1.75E12,
         1.76E12,
         1.73E12,
         109,
         "STD",
         "EUR",
         "UK",
         1.72E12,
         "EDA",
         true,
         0,
         1,
         null,
         "1/3/2024",
         "2024-03-31",
         "2024-03-28",
         "2024-03-28"
        ],
        [
         "BP",
         31,
         680,
         "basha",
         "Premium",
         "3-Feb-23",
         1.75E12,
         1.76E12,
         1.73E12,
         112,
         "STD",
         "EUR",
         "UK",
         1.72E12,
         "TOI",
         true,
         0,
         1,
         null,
         "1/4/2024",
         "2024-06-30",
         "2024-03-26",
         "2024-03-26"
        ],
        [
         "BP",
         32,
         681,
         "kumaran",
         "Premium",
         "6-Feb-23",
         1.75E12,
         1.75E12,
         1.73E12,
         115,
         "STD",
         "EUR",
         "UK",
         1.72E12,
         "TOI",
         true,
         0,
         1,
         null,
         "1/4/2024",
         "2024-06-30",
         "2024-03-26",
         "2024-03-26"
        ],
        [
         "BP",
         33,
         682,
         "karthik",
         "Premium",
         "9-Feb-23",
         1.75E12,
         1.76E12,
         1.73E12,
         118,
         "STD",
         "EUR",
         "UK",
         1.72E12,
         "TOI",
         true,
         0,
         1,
         null,
         "1/1/2025",
         "2025-12-31",
         "2024-12-27",
         "2024-12-27"
        ],
        [
         "BP",
         34,
         683,
         "parvesh",
         "Premium",
         "3-Jan-24",
         1.76E12,
         1.76E12,
         1.73E12,
         121,
         "STD",
         "EUR",
         "UK",
         1.72E12,
         "TOI",
         false,
         0,
         1,
         null,
         "1/1/2025",
         "2025-12-31",
         "2024-12-27",
         "2024-12-27"
        ],
        [
         "BP",
         35,
         684,
         "danush",
         "Premium",
         "8-Jan-24",
         1.76E12,
         1.76E12,
         1.73E12,
         124,
         "STD",
         "EUR",
         "UK",
         1.72E12,
         "TOI",
         false,
         0,
         1,
         null,
         "1/3/2024",
         "2024-03-31",
         "2024-03-28",
         "2024-03-28"
        ],
        [
         "BP",
         36,
         685,
         "vidish",
         "Premium",
         "9-Jan-24",
         1.76E12,
         1.76E12,
         1.73E12,
         127,
         "STD",
         "EUR",
         "UK",
         1.72E12,
         "EDA",
         false,
         0,
         1,
         null,
         "1/3/2024",
         "2024-03-31",
         "2024-03-28",
         "2024-03-28"
        ],
        [
         "BP",
         37,
         686,
         "sam",
         "Premium",
         "3-Mar-23",
         1.76E12,
         1.76E12,
         1.73E12,
         130,
         "STD",
         "EUR",
         "UK",
         1.72E12,
         "EDA",
         false,
         0,
         1,
         null,
         "1/4/2024",
         "2024-06-30",
         "2024-03-26",
         "2024-03-26"
        ],
        [
         "BP",
         38,
         687,
         "sourab",
         "Premium",
         "6-Mar-23",
         1.76E12,
         1.76E12,
         1.73E12,
         133,
         "STD",
         "EUR",
         "UK",
         1.72E12,
         "EDA",
         false,
         0,
         1,
         null,
         "1/4/2024",
         "2024-06-30",
         "2024-03-26",
         "2024-03-26"
        ],
        [
         "BP",
         39,
         688,
         "jai",
         "Premium",
         "9-Mar-23",
         1.76E12,
         1.76E12,
         1.73E12,
         136,
         "STD",
         "EUR",
         "UK",
         1.72E12,
         "EDA",
         true,
         0,
         1,
         null,
         "1/1/2025",
         "2025-12-31",
         "2024-12-27",
         "2024-12-27"
        ],
        [
         "Reliance",
         40,
         689,
         "sree",
         "Lower",
         "3-Jan-25",
         1.76E12,
         1.76E12,
         1.73E12,
         139,
         "STD",
         "EUR",
         "UK",
         1.72E12,
         "TOI",
         true,
         0,
         1,
         null,
         "1/1/2025",
         "2025-12-31",
         "2024-12-27",
         "2024-12-27"
        ],
        [
         "Reliance",
         41,
         690,
         "sreenath",
         "Lower",
         "6-Jan-25",
         1.76E12,
         1.76E12,
         1.73E12,
         142,
         "STD",
         "EUR",
         "UK",
         1.72E12,
         "TOI",
         true,
         0,
         1,
         null,
         "1/6/2024",
         "2024-06-30",
         "2024-06-28",
         "2024-06-28"
        ],
        [
         "Reliance",
         42,
         691,
         "Naresh",
         "Lower",
         "9-Jan-25",
         1.76E12,
         1.77E12,
         1.73E12,
         145,
         "STD",
         "EUR",
         "UK",
         1.72E12,
         "TOI",
         true,
         0,
         1,
         null,
         "1/6/2024",
         "2024-06-30",
         "2024-06-28",
         "2024-06-28"
        ],
        [
         "Reliance",
         43,
         692,
         "kamal",
         "Lower",
         "3-Apr-23",
         1.76E12,
         1.77E12,
         1.73E12,
         148,
         "STD",
         "EUR",
         "UK",
         1.72E12,
         "SETTL",
         true,
         0,
         1,
         null,
         "1/7/2024",
         "2024-07-31",
         "2024-07-30",
         "2024-07-30"
        ],
        [
         "Reliance",
         44,
         693,
         "kajal",
         "Lower",
         "6-Apr-23",
         1.76E12,
         1.76E12,
         1.73E12,
         151,
         "STD",
         "EUR",
         "UK",
         1.72E12,
         "SETTL",
         true,
         0,
         1,
         null,
         "1/7/2024",
         "2024-07-31",
         "2024-07-30",
         "2024-07-30"
        ],
        [
         "Reliance",
         45,
         694,
         "paul",
         "Lower",
         "7-Apr-23",
         1.76E12,
         1.77E12,
         1.73E12,
         154,
         "STD",
         "EUR",
         "SL",
         1.72E12,
         "SETTL",
         true,
         0,
         1,
         null,
         "1/3/2024",
         "2024-03-31",
         "2024-02-28",
         "2024-02-28"
        ],
        [
         "Reliance",
         46,
         695,
         "sweta",
         "Lower",
         "3-Feb-23",
         1.71E12,
         1.72E12,
         1.73E12,
         157,
         "STD",
         "EUR",
         "SL",
         1.72E12,
         "SETTL",
         true,
         0,
         1,
         null,
         "1/3/2024",
         "2024-03-31",
         "2024-02-28",
         "2024-02-28"
        ],
        [
         "Reliance",
         47,
         696,
         "narendra",
         "Lower",
         "6-Feb-23",
         1.71E12,
         1.72E12,
         1.73E12,
         160,
         "STD",
         "EUR",
         "SL",
         1.72E12,
         "SETTL",
         false,
         0,
         1,
         null,
         "1/3/2025",
         "2025-03-31",
         "2024-03-26",
         "2024-03-31"
        ],
        [
         "Reliance",
         48,
         697,
         "ramesh",
         "Lower",
         "9-Feb-23",
         1.71E12,
         1.72E12,
         1.73E12,
         163,
         "STD",
         "EUR",
         "SL",
         1.72E12,
         "SETTL",
         false,
         0,
         1,
         null,
         "1/3/2025",
         "2025-03-31",
         "2024-04-01",
         "2025-12-31"
        ],
        [
         "Reliance",
         49,
         698,
         "kalmesh",
         "Lower",
         "3-Jan-24",
         1.72E12,
         1.73E12,
         1.73E12,
         166,
         "STD",
         "EUR",
         "SL",
         1.72E12,
         "SETTL",
         false,
         0,
         1,
         null,
         "1/10/2024",
         "2024-10-31",
         "2024-07-30",
         "2024-03-26"
        ],
        [
         "Reliance",
         50,
         699,
         "kalmesh",
         "Lower",
         "3-Jan-24",
         1.72E12,
         1.73E12,
         1.73E12,
         166,
         "STD",
         "EUR",
         "SL",
         1.72E12,
         "SETTL",
         false,
         0,
         1,
         null,
         "1/10/2024",
         "2024-10-31",
         "2024-03-31",
         "2024-07-30"
        ]
       ],
       "datasetInfos": [],
       "dbfsResultPath": null,
       "isJsonSchema": true,
       "metadata": {},
       "overflow": false,
       "plotOptions": {
        "customPlotOptions": {},
        "displayType": "table",
        "pivotAggregation": null,
        "pivotColumns": null,
        "xColumns": null,
        "yColumns": null
       },
       "removedWidgets": [],
       "schema": [
        {
         "metadata": "{}",
         "name": "Company_Name",
         "type": "\"string\""
        },
        {
         "metadata": "{}",
         "name": "Product_Id",
         "type": "\"integer\""
        },
        {
         "metadata": "{}",
         "name": "Product_Version_Id",
         "type": "\"integer\""
        },
        {
         "metadata": "{}",
         "name": "Cust_Name",
         "type": "\"string\""
        },
        {
         "metadata": "{}",
         "name": "Category",
         "type": "\"string\""
        },
        {
         "metadata": "{}",
         "name": "Start_Date",
         "type": "\"string\""
        },
        {
         "metadata": "{}",
         "name": "Start_Cust_Date",
         "type": "\"double\""
        },
        {
         "metadata": "{}",
         "name": "End_Date",
         "type": "\"double\""
        },
        {
         "metadata": "{}",
         "name": "Updated_Date",
         "type": "\"double\""
        },
        {
         "metadata": "{}",
         "name": "Cust_Value",
         "type": "\"integer\""
        },
        {
         "metadata": "{}",
         "name": "Cust_Type",
         "type": "\"string\""
        },
        {
         "metadata": "{}",
         "name": "Exchange",
         "type": "\"string\""
        },
        {
         "metadata": "{}",
         "name": "Location",
         "type": "\"string\""
        },
        {
         "metadata": "{}",
         "name": "Last_Date_UTC",
         "type": "\"double\""
        },
        {
         "metadata": "{}",
         "name": "Cust_Category",
         "type": "\"string\""
        },
        {
         "metadata": "{}",
         "name": "Index",
         "type": "\"boolean\""
        },
        {
         "metadata": "{}",
         "name": "impact1",
         "type": "\"integer\""
        },
        {
         "metadata": "{}",
         "name": "impact2",
         "type": "\"integer\""
        },
        {
         "metadata": "{}",
         "name": "impact3",
         "type": "\"string\""
        },
        {
         "metadata": "{}",
         "name": "Base_Start_Date",
         "type": "\"string\""
        },
        {
         "metadata": "{\"__detected_date_formats\":\"d/M/yyyy\"}",
         "name": "Base_End_Date",
         "type": "\"date\""
        },
        {
         "metadata": "{\"__detected_date_formats\":\"d/M/yyyy\"}",
         "name": "Base_Expiration_Date",
         "type": "\"date\""
        },
        {
         "metadata": "{\"__detected_date_formats\":\"d/M/yyyy\"}",
         "name": "Base_Last_Sales_Date",
         "type": "\"date\""
        }
       ],
       "type": "table"
      }
     },
     "output_type": "display_data"
    }
   ],
   "source": [
    "df_sam = spark.read.csv(\"/FileStore/tables/random_data-2.csv\", header=True, inferSchema=True)\n",
    "display(df_sam)"
   ]
  },
  {
   "cell_type": "markdown",
   "metadata": {
    "application/vnd.databricks.v1+cell": {
     "cellMetadata": {},
     "inputWidgets": {},
     "nuid": "00693e1e-8107-406c-88f3-5399b2b6e5d9",
     "showTitle": false,
     "tableResultSettingsMap": {},
     "title": ""
    }
   },
   "source": [
    "     # aggregate\n",
    "     min_value_custValue = df.agg({'Cust_Value': 'min'})\n",
    "     max_value_custValue = df.agg({'Cust_Value': 'max'})\n",
    "                              (or)\n",
    "     min_value_custValue = df.agg({'Cust_Value': 'min', 'Product_Version_Id': 'min'})\n",
    "     max_value_custValue = df.agg({'Cust_Value': 'max', 'Product_Version_Id': 'max'})\n",
    "                              (or)\n",
    "     min_max_custValue = df.agg(max('Cust_Value').alias('max_sal'), min('Cust_Value').alias('min_sal'))\n",
    "     \n",
    "     # collect\n",
    "     min_value_custValue = df.select(min('Cust_Value')).collect()[0][0]\n",
    "     max_value_custValue = df.select(max('Cust_Value')).collect()[0][0] \n",
    "                              (or)\n",
    "     min_value_custValue = df.agg(min('Cust_Value').alias('min_Cust_Value')).collect()[0][0]\n",
    "     max_value_custValue = df.agg(max('Cust_Value').alias('max_Cust_Value')).collect()[0][0]\n",
    "                              (or)\n",
    "     min_value_custValue = df.agg(min('Cust_Value').alias('min_Cust_Value')).collect()[0]['min_Cust_Value']\n",
    "     max_value_custValue = df.agg(max('Cust_Value').alias('max_Cust_Value')).collect()[0]['max_Cust_Value']                      \n",
    "     \n",
    "     # first\n",
    "     min_value_custValue = df.agg(min('Cust_Value').alias('min_Cust_Value')).first()['min_Cust_Value']\n",
    "     max_value_custValue = df.agg(max('Cust_Value').alias('max_Cust_Value')).first()['max_Cust_Value']"
   ]
  },
  {
   "cell_type": "markdown",
   "metadata": {
    "application/vnd.databricks.v1+cell": {
     "cellMetadata": {},
     "inputWidgets": {},
     "nuid": "5e619d93-3349-4efe-ba4f-5a5882eca972",
     "showTitle": false,
     "tableResultSettingsMap": {},
     "title": ""
    }
   },
   "source": [
    "**1) Integer Columns**"
   ]
  },
  {
   "cell_type": "markdown",
   "metadata": {
    "application/vnd.databricks.v1+cell": {
     "cellMetadata": {},
     "inputWidgets": {},
     "nuid": "7e633857-f50f-4ca4-8f3b-3c0d1085b1c9",
     "showTitle": false,
     "tableResultSettingsMap": {},
     "title": ""
    }
   },
   "source": [
    "**a) Using select() with max() and min()**"
   ]
  },
  {
   "cell_type": "code",
   "execution_count": 0,
   "metadata": {
    "application/vnd.databricks.v1+cell": {
     "cellMetadata": {
      "byteLimit": 2048000,
      "rowLimit": 10000
     },
     "inputWidgets": {},
     "nuid": "cba3aae4-7fa4-4399-aa8f-8fff8081c839",
     "showTitle": true,
     "tableResultSettingsMap": {},
     "title": "min value: display dataframe"
    }
   },
   "outputs": [
    {
     "output_type": "display_data",
     "data": {
      "text/html": [
       "<style scoped>\n",
       "  .table-result-container {\n",
       "    max-height: 300px;\n",
       "    overflow: auto;\n",
       "  }\n",
       "  table, th, td {\n",
       "    border: 1px solid black;\n",
       "    border-collapse: collapse;\n",
       "  }\n",
       "  th, td {\n",
       "    padding: 5px;\n",
       "  }\n",
       "  th {\n",
       "    text-align: left;\n",
       "  }\n",
       "</style><div class='table-result-container'><table class='table-result'><thead style='background-color: white'><tr><th>min_Cust_Value</th></tr></thead><tbody><tr><td>25</td></tr></tbody></table></div>"
      ]
     },
     "metadata": {
      "application/vnd.databricks.v1+output": {
       "addedWidgets": {},
       "aggData": [],
       "aggError": "",
       "aggOverflow": false,
       "aggSchema": [],
       "aggSeriesLimitReached": false,
       "aggType": "",
       "arguments": {},
       "columnCustomDisplayInfos": {},
       "data": [
        [
         25
        ]
       ],
       "datasetInfos": [],
       "dbfsResultPath": null,
       "isJsonSchema": true,
       "metadata": {},
       "overflow": false,
       "plotOptions": {
        "customPlotOptions": {},
        "displayType": "table",
        "pivotAggregation": null,
        "pivotColumns": null,
        "xColumns": null,
        "yColumns": null
       },
       "removedWidgets": [],
       "schema": [
        {
         "metadata": "{}",
         "name": "min_Cust_Value",
         "type": "\"integer\""
        }
       ],
       "type": "table"
      }
     },
     "output_type": "display_data"
    },
    {
     "output_type": "display_data",
     "data": {
      "text/html": [
       "<style scoped>\n",
       "  .table-result-container {\n",
       "    max-height: 300px;\n",
       "    overflow: auto;\n",
       "  }\n",
       "  table, th, td {\n",
       "    border: 1px solid black;\n",
       "    border-collapse: collapse;\n",
       "  }\n",
       "  th, td {\n",
       "    padding: 5px;\n",
       "  }\n",
       "  th {\n",
       "    text-align: left;\n",
       "  }\n",
       "</style><div class='table-result-container'><table class='table-result'><thead style='background-color: white'><tr><th>max_Cust_Value</th></tr></thead><tbody><tr><td>166</td></tr></tbody></table></div>"
      ]
     },
     "metadata": {
      "application/vnd.databricks.v1+output": {
       "addedWidgets": {},
       "aggData": [],
       "aggError": "",
       "aggOverflow": false,
       "aggSchema": [],
       "aggSeriesLimitReached": false,
       "aggType": "",
       "arguments": {},
       "columnCustomDisplayInfos": {},
       "data": [
        [
         166
        ]
       ],
       "datasetInfos": [],
       "dbfsResultPath": null,
       "isJsonSchema": true,
       "metadata": {},
       "overflow": false,
       "plotOptions": {
        "customPlotOptions": {},
        "displayType": "table",
        "pivotAggregation": null,
        "pivotColumns": null,
        "xColumns": null,
        "yColumns": null
       },
       "removedWidgets": [],
       "schema": [
        {
         "metadata": "{}",
         "name": "max_Cust_Value",
         "type": "\"integer\""
        }
       ],
       "type": "table"
      }
     },
     "output_type": "display_data"
    },
    {
     "output_type": "display_data",
     "data": {
      "text/html": [
       "<style scoped>\n",
       "  .table-result-container {\n",
       "    max-height: 300px;\n",
       "    overflow: auto;\n",
       "  }\n",
       "  table, th, td {\n",
       "    border: 1px solid black;\n",
       "    border-collapse: collapse;\n",
       "  }\n",
       "  th, td {\n",
       "    padding: 5px;\n",
       "  }\n",
       "  th {\n",
       "    text-align: left;\n",
       "  }\n",
       "</style><div class='table-result-container'><table class='table-result'><thead style='background-color: white'><tr><th>max_sal</th><th>min_sal</th></tr></thead><tbody><tr><td>166</td><td>25</td></tr></tbody></table></div>"
      ]
     },
     "metadata": {
      "application/vnd.databricks.v1+output": {
       "addedWidgets": {},
       "aggData": [],
       "aggError": "",
       "aggOverflow": false,
       "aggSchema": [],
       "aggSeriesLimitReached": false,
       "aggType": "",
       "arguments": {},
       "columnCustomDisplayInfos": {},
       "data": [
        [
         166,
         25
        ]
       ],
       "datasetInfos": [],
       "dbfsResultPath": null,
       "isJsonSchema": true,
       "metadata": {},
       "overflow": false,
       "plotOptions": {
        "customPlotOptions": {},
        "displayType": "table",
        "pivotAggregation": null,
        "pivotColumns": null,
        "xColumns": null,
        "yColumns": null
       },
       "removedWidgets": [],
       "schema": [
        {
         "metadata": "{}",
         "name": "max_sal",
         "type": "\"integer\""
        },
        {
         "metadata": "{}",
         "name": "min_sal",
         "type": "\"integer\""
        }
       ],
       "type": "table"
      }
     },
     "output_type": "display_data"
    }
   ],
   "source": [
    "min_value_custValue = df_sam.select(min('Cust_Value').alias('min_Cust_Value'))\n",
    "max_value_custValue = df_sam.select(max('Cust_Value').alias('max_Cust_Value'))\n",
    "min_max_custValue = df_sam.agg(max('Cust_Value').alias('max_sal'), min('Cust_Value').alias('min_sal'))\n",
    "\n",
    "display(min_value_custValue)\n",
    "display(max_value_custValue)\n",
    "display(min_max_custValue)"
   ]
  },
  {
   "cell_type": "markdown",
   "metadata": {
    "application/vnd.databricks.v1+cell": {
     "cellMetadata": {},
     "inputWidgets": {},
     "nuid": "4fd6dbf6-7af4-4ce3-81b6-2004c9dbf4f3",
     "showTitle": false,
     "tableResultSettingsMap": {},
     "title": ""
    }
   },
   "source": [
    "- In PySpark, the **collect()** method is used to retrieve the results of a **DataFrame action** from the **cluster to the local machine**.\n",
    "- When you use **select(min('Cust_Value'))**, it creates a **DataFrame** with the minimum value of the Cust_Value column, but it does not actually execute the query and retrieve the result **until you call an action like collect()**."
   ]
  },
  {
   "cell_type": "code",
   "execution_count": 0,
   "metadata": {
    "application/vnd.databricks.v1+cell": {
     "cellMetadata": {
      "byteLimit": 2048000,
      "rowLimit": 10000
     },
     "inputWidgets": {},
     "nuid": "a61d57bb-39ac-4857-8df2-db8d01cd3062",
     "showTitle": true,
     "tableResultSettingsMap": {},
     "title": "min value: using collect() method"
    }
   },
   "outputs": [
    {
     "output_type": "stream",
     "name": "stdout",
     "output_type": "stream",
     "text": [
      "Minimum value: [Row(min(Cust_Value)=25)]\nMaximum value: [Row(max(Cust_Value)=166)]\n"
     ]
    }
   ],
   "source": [
    "min_value_custValue = df_sam.select(min('Cust_Value')).collect()\n",
    "max_value_custValue = df_sam.select(max('Cust_Value')).collect()\n",
    "\n",
    "print(f\"Minimum value: {min_value_custValue}\")\n",
    "print(f\"Maximum value: {max_value_custValue}\")"
   ]
  },
  {
   "cell_type": "code",
   "execution_count": 0,
   "metadata": {
    "application/vnd.databricks.v1+cell": {
     "cellMetadata": {
      "byteLimit": 2048000,
      "rowLimit": 10000
     },
     "inputWidgets": {},
     "nuid": "72a0a9c3-de22-43d5-b4da-9e8fe1431a16",
     "showTitle": false,
     "tableResultSettingsMap": {},
     "title": ""
    }
   },
   "outputs": [
    {
     "output_type": "stream",
     "name": "stdout",
     "output_type": "stream",
     "text": [
      "Minimum value: 25\nMaximum value: 166\n"
     ]
    }
   ],
   "source": [
    "min_value_custValue = df_sam.select(min('Cust_Value')).collect()[0][0]\n",
    "max_value_custValue = df_sam.select(max('Cust_Value')).collect()[0][0]\n",
    "\n",
    "print(f\"Minimum value: {min_value_custValue}\")\n",
    "print(f\"Maximum value: {max_value_custValue}\")"
   ]
  },
  {
   "cell_type": "markdown",
   "metadata": {
    "application/vnd.databricks.v1+cell": {
     "cellMetadata": {},
     "inputWidgets": {},
     "nuid": "33578a1b-5d8d-4d02-af8c-1dd34d067a21",
     "showTitle": false,
     "tableResultSettingsMap": {},
     "title": ""
    }
   },
   "source": [
    "- If you want to get the minimum value **without using collect()**, you can use the **agg** method combined with **min** to perform the aggregation and then use **first()** to retrieve the result.\n",
    "\n",
    "  - **agg(min('Cust_Value').alias('min_Cust_Value'))** performs the **aggregation** to find the **minimum value**.\n",
    "  - **first()** retrieves the **first row** of the result.\n",
    "  - **['min_Cust_Value']** accesses the value of the min_Cust_Value column from the row."
   ]
  },
  {
   "cell_type": "markdown",
   "metadata": {
    "application/vnd.databricks.v1+cell": {
     "cellMetadata": {},
     "inputWidgets": {},
     "nuid": "f34378d8-79da-4370-a048-40b18a9ac520",
     "showTitle": false,
     "tableResultSettingsMap": {},
     "title": ""
    }
   },
   "source": [
    "**b) Using agg() Function**"
   ]
  },
  {
   "cell_type": "code",
   "execution_count": 0,
   "metadata": {
    "application/vnd.databricks.v1+cell": {
     "cellMetadata": {
      "byteLimit": 2048000,
      "rowLimit": 10000
     },
     "inputWidgets": {},
     "nuid": "adced0d9-b5b7-4f3c-81c0-696c7ffc0533",
     "showTitle": true,
     "tableResultSettingsMap": {},
     "title": "Method 01: min value => using agg & first"
    }
   },
   "outputs": [
    {
     "output_type": "stream",
     "name": "stdout",
     "output_type": "stream",
     "text": [
      "25\n"
     ]
    }
   ],
   "source": [
    "min_value_custValue = df_sam.agg(min('Cust_Value').alias('min_Cust_Value')).first()['min_Cust_Value']\n",
    "print(min_value_custValue)"
   ]
  },
  {
   "cell_type": "code",
   "execution_count": 0,
   "metadata": {
    "application/vnd.databricks.v1+cell": {
     "cellMetadata": {
      "byteLimit": 2048000,
      "rowLimit": 10000
     },
     "inputWidgets": {},
     "nuid": "1b4b3052-ecb1-4130-a70f-505c8920b709",
     "showTitle": false,
     "tableResultSettingsMap": {},
     "title": ""
    }
   },
   "outputs": [
    {
     "output_type": "display_data",
     "data": {
      "text/html": [
       "<style scoped>\n",
       "  .table-result-container {\n",
       "    max-height: 300px;\n",
       "    overflow: auto;\n",
       "  }\n",
       "  table, th, td {\n",
       "    border: 1px solid black;\n",
       "    border-collapse: collapse;\n",
       "  }\n",
       "  th, td {\n",
       "    padding: 5px;\n",
       "  }\n",
       "  th {\n",
       "    text-align: left;\n",
       "  }\n",
       "</style><div class='table-result-container'><table class='table-result'><thead style='background-color: white'><tr><th>min_Cust_Value</th></tr></thead><tbody><tr><td>25</td></tr></tbody></table></div>"
      ]
     },
     "metadata": {
      "application/vnd.databricks.v1+output": {
       "addedWidgets": {},
       "aggData": [],
       "aggError": "",
       "aggOverflow": false,
       "aggSchema": [],
       "aggSeriesLimitReached": false,
       "aggType": "",
       "arguments": {},
       "columnCustomDisplayInfos": {},
       "data": [
        [
         25
        ]
       ],
       "datasetInfos": [],
       "dbfsResultPath": null,
       "isJsonSchema": true,
       "metadata": {},
       "overflow": false,
       "plotOptions": {
        "customPlotOptions": {},
        "displayType": "table",
        "pivotAggregation": null,
        "pivotColumns": null,
        "xColumns": null,
        "yColumns": null
       },
       "removedWidgets": [],
       "schema": [
        {
         "metadata": "{}",
         "name": "min_Cust_Value",
         "type": "\"integer\""
        }
       ],
       "type": "table"
      }
     },
     "output_type": "display_data"
    }
   ],
   "source": [
    "df_sam.agg(min('Cust_Value').alias('min_Cust_Value')).display()"
   ]
  },
  {
   "cell_type": "code",
   "execution_count": 0,
   "metadata": {
    "application/vnd.databricks.v1+cell": {
     "cellMetadata": {
      "byteLimit": 2048000,
      "rowLimit": 10000
     },
     "inputWidgets": {},
     "nuid": "dbfb72f7-6f00-4d62-a56d-b5d7314366eb",
     "showTitle": false,
     "tableResultSettingsMap": {},
     "title": ""
    }
   },
   "outputs": [
    {
     "output_type": "execute_result",
     "data": {
      "text/plain": [
       "Row(min_Cust_Value=25)"
      ]
     },
     "execution_count": 32,
     "metadata": {},
     "output_type": "execute_result"
    }
   ],
   "source": [
    "df_sam.agg(min('Cust_Value').alias('min_Cust_Value')).first()"
   ]
  },
  {
   "cell_type": "code",
   "execution_count": 0,
   "metadata": {
    "application/vnd.databricks.v1+cell": {
     "cellMetadata": {
      "byteLimit": 2048000,
      "rowLimit": 10000
     },
     "inputWidgets": {},
     "nuid": "2a0a1e7c-a4c6-43ae-8a3d-c2dec4736dfe",
     "showTitle": false,
     "tableResultSettingsMap": {},
     "title": ""
    }
   },
   "outputs": [
    {
     "output_type": "execute_result",
     "data": {
      "text/plain": [
       "25"
      ]
     },
     "execution_count": 34,
     "metadata": {},
     "output_type": "execute_result"
    }
   ],
   "source": [
    "df_sam.agg(min('Cust_Value').alias('min_Cust_Value')).first()['min_Cust_Value']"
   ]
  },
  {
   "cell_type": "code",
   "execution_count": 0,
   "metadata": {
    "application/vnd.databricks.v1+cell": {
     "cellMetadata": {
      "byteLimit": 2048000,
      "rowLimit": 10000
     },
     "inputWidgets": {},
     "nuid": "52da2009-fdf7-4075-b5da-39992a9f81d8",
     "showTitle": true,
     "tableResultSettingsMap": {},
     "title": "Method 02: min value =>  using agg & collect"
    }
   },
   "outputs": [
    {
     "output_type": "stream",
     "name": "stdout",
     "output_type": "stream",
     "text": [
      "25\n"
     ]
    }
   ],
   "source": [
    "min_value_custValue_collect = df_sam.agg(min('Cust_Value')).collect()[0][0]\n",
    "print(min_value_custValue_collect)"
   ]
  },
  {
   "cell_type": "markdown",
   "metadata": {
    "application/vnd.databricks.v1+cell": {
     "cellMetadata": {},
     "inputWidgets": {},
     "nuid": "b6061fcc-2359-42ca-b3cf-2afb4fd7433c",
     "showTitle": false,
     "tableResultSettingsMap": {},
     "title": ""
    }
   },
   "source": [
    "**df.select(min('Cust_Value'))**\n",
    "\n",
    "- It is typically used to fetch a **scalar result (a single value)** in the context of the DataFrame without requiring explicit grouping.\n",
    "\n",
    "**df.agg(min('Cust_Value').alias('min_Cust_Value'))**\n",
    "\n",
    "- This is a more formal **aggregation operation** where you use the agg function to **compute summary statistics**, such as the minimum of Cust_Value.\n",
    "- **Use Case:** This is commonly used when computing **multiple aggregations (e.g., min, max, avg)** or when you want a labeled result for the aggregated values."
   ]
  },
  {
   "cell_type": "markdown",
   "metadata": {
    "application/vnd.databricks.v1+cell": {
     "cellMetadata": {},
     "inputWidgets": {},
     "nuid": "b812c300-c869-4832-81c3-a011c7c0a965",
     "showTitle": false,
     "tableResultSettingsMap": {},
     "title": ""
    }
   },
   "source": [
    "**b) Date**"
   ]
  },
  {
   "cell_type": "markdown",
   "metadata": {
    "application/vnd.databricks.v1+cell": {
     "cellMetadata": {},
     "inputWidgets": {},
     "nuid": "ddf523e8-49f6-4323-8c89-d0fc63513655",
     "showTitle": false,
     "tableResultSettingsMap": {},
     "title": ""
    }
   },
   "source": [
    "**Using agg() Function**"
   ]
  },
  {
   "cell_type": "code",
   "execution_count": 0,
   "metadata": {
    "application/vnd.databricks.v1+cell": {
     "cellMetadata": {
      "byteLimit": 2048000,
      "rowLimit": 10000
     },
     "inputWidgets": {},
     "nuid": "833a6139-0b39-40a8-a612-cee94ad9b24b",
     "showTitle": false,
     "tableResultSettingsMap": {},
     "title": ""
    }
   },
   "outputs": [
    {
     "output_type": "stream",
     "name": "stdout",
     "output_type": "stream",
     "text": [
      "Minimum value: 1-Apr-23\nMaximum value: 9-Mar-23\n"
     ]
    }
   ],
   "source": [
    "# Find the minimum and maximum Start_Date\n",
    "min_date_start = df_sam.agg(f.min(\"Start_Date\")).collect()[0][0]\n",
    "max_date_start = df_sam.agg(f.max(\"Start_Date\")).collect()[0][0]\n",
    "\n",
    "print(f\"Minimum value: {min_date_start}\")\n",
    "print(f\"Maximum value: {max_date_start}\")"
   ]
  },
  {
   "cell_type": "code",
   "execution_count": 0,
   "metadata": {
    "application/vnd.databricks.v1+cell": {
     "cellMetadata": {
      "byteLimit": 2048000,
      "rowLimit": 10000
     },
     "inputWidgets": {},
     "nuid": "2487ab01-3768-4619-aaba-b1d8a62ec43a",
     "showTitle": false,
     "tableResultSettingsMap": {},
     "title": ""
    }
   },
   "outputs": [
    {
     "output_type": "stream",
     "name": "stdout",
     "output_type": "stream",
     "text": [
      "Minimum value: 1/1/2025\nMaximum value: 1/8/2024\n"
     ]
    }
   ],
   "source": [
    "# Find the minimum and maximum Base_Start_Date\n",
    "min_date_base_start = df_sam.agg(f.min(\"Base_Start_Date\")).collect()[0][0]\n",
    "max_date_base_start = df_sam.agg(f.max(\"Base_Start_Date\")).collect()[0][0]\n",
    "\n",
    "print(f\"Minimum value: {min_date_base_start}\")\n",
    "print(f\"Maximum value: {max_date_base_start}\")"
   ]
  },
  {
   "cell_type": "code",
   "execution_count": 0,
   "metadata": {
    "application/vnd.databricks.v1+cell": {
     "cellMetadata": {
      "byteLimit": 2048000,
      "rowLimit": 10000
     },
     "inputWidgets": {},
     "nuid": "68ec641e-14e9-4f65-98d0-240c71688045",
     "showTitle": false,
     "tableResultSettingsMap": {},
     "title": ""
    }
   },
   "outputs": [
    {
     "output_type": "stream",
     "name": "stdout",
     "output_type": "stream",
     "text": [
      "Minimum value: 2024-03-31\nMaximum value: 2025-12-31\n"
     ]
    }
   ],
   "source": [
    "# Find the minimum and maximum Base_End_Date\n",
    "min_date_base_end = df_sam.agg(f.min(\"Base_End_Date\")).collect()[0][0]\n",
    "max_date_base_end = df_sam.agg(f.max(\"Base_End_Date\")).collect()[0][0]\n",
    "\n",
    "print(f\"Minimum value: {min_date_base_end}\")\n",
    "print(f\"Maximum value: {max_date_base_end}\")"
   ]
  },
  {
   "cell_type": "code",
   "execution_count": 0,
   "metadata": {
    "application/vnd.databricks.v1+cell": {
     "cellMetadata": {
      "byteLimit": 2048000,
      "rowLimit": 10000
     },
     "inputWidgets": {},
     "nuid": "ef38283c-4679-45ed-bb4d-b8bec35f7afb",
     "showTitle": false,
     "tableResultSettingsMap": {},
     "title": ""
    }
   },
   "outputs": [
    {
     "output_type": "stream",
     "name": "stdout",
     "output_type": "stream",
     "text": [
      "Minimum value: 2024-02-28\nMaximum value: 2024-12-27\n"
     ]
    }
   ],
   "source": [
    "# Find the minimum and maximum Base_Expiration_Date\n",
    "min_date_base_exp = df_sam.agg(f.min(\"Base_Expiration_Date\")).collect()[0][0]\n",
    "max_date_base_exp = df_sam.agg(f.max(\"Base_Expiration_Date\")).collect()[0][0]\n",
    "\n",
    "print(f\"Minimum value: {min_date_base_exp}\")\n",
    "print(f\"Maximum value: {max_date_base_exp}\")"
   ]
  },
  {
   "cell_type": "code",
   "execution_count": 0,
   "metadata": {
    "application/vnd.databricks.v1+cell": {
     "cellMetadata": {
      "byteLimit": 2048000,
      "rowLimit": 10000
     },
     "inputWidgets": {},
     "nuid": "a68e9856-ff62-4177-b2a9-4b82fd5f345e",
     "showTitle": false,
     "tableResultSettingsMap": {},
     "title": ""
    }
   },
   "outputs": [
    {
     "output_type": "stream",
     "name": "stdout",
     "output_type": "stream",
     "text": [
      "Minimum value: 2024-02-28\nMaximum value: 2025-12-31\n"
     ]
    }
   ],
   "source": [
    "# Find the minimum and maximum Base_Last_Sales_Date\n",
    "min_date_base_last = df_sam.agg(f.min(\"Base_Last_Sales_Date\")).collect()[0][0]\n",
    "max_date_base_last = df_sam.agg(f.max(\"Base_Last_Sales_Date\")).collect()[0][0]\n",
    "\n",
    "print(f\"Minimum value: {min_date_base_last}\")\n",
    "print(f\"Maximum value: {max_date_base_last}\")"
   ]
  }
 ],
 "metadata": {
  "application/vnd.databricks.v1+notebook": {
   "computePreferences": null,
   "dashboards": [],
   "environmentMetadata": null,
   "language": "python",
   "notebookMetadata": {
    "pythonIndentUnit": 4
   },
   "notebookName": "120_Get Maximum and Minimum Values From Column",
   "widgets": {}
  }
 },
 "nbformat": 4,
 "nbformat_minor": 0
}
