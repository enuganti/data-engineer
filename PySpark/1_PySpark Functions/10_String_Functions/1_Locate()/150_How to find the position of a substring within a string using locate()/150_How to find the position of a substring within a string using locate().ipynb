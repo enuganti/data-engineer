{
 "cells": [
  {
   "cell_type": "markdown",
   "metadata": {
    "application/vnd.databricks.v1+cell": {
     "cellMetadata": {},
     "inputWidgets": {},
     "nuid": "2fcee482-79b8-4262-8b5e-260af9e73da7",
     "showTitle": false,
     "tableResultSettingsMap": {},
     "title": ""
    }
   },
   "source": [
    "#### **locate()**\n",
    "\n",
    "- The **locate()** function in PySpark is used to find the **position of a substring** within a **string**.\n",
    "\n",
    "- It works just like SQL's **INSTR() or POSITION()** functions.\n",
    "\n",
    "- The position is **not zero based**, but **1 based index**. Returns **0 if substr could not be found in str**.\n",
    "\n",
    "- Locate the position of the **first occurrence** of substr in a string column, after position pos.\n",
    "\n",
    "- If **more than one occurrence** is there in a string. It will result the **position** of the **first occurrence**."
   ]
  },
  {
   "cell_type": "markdown",
   "metadata": {
    "application/vnd.databricks.v1+cell": {
     "cellMetadata": {},
     "inputWidgets": {},
     "nuid": "790c6464-2314-4ba1-ab0e-dc8af6c9cba5",
     "showTitle": false,
     "tableResultSettingsMap": {},
     "title": ""
    }
   },
   "source": [
    "#### **Syntax**\n",
    "\n",
    "     locate(substr, str[, pos])\n",
    "\n",
    "**substr:** the substring to find\n",
    "\n",
    "**str:** the column where you want to search\n",
    "\n",
    "**pos (optional):** the position to start searching from (1-based index)"
   ]
  },
  {
   "cell_type": "code",
   "execution_count": 0,
   "metadata": {
    "application/vnd.databricks.v1+cell": {
     "cellMetadata": {
      "byteLimit": 2048000,
      "rowLimit": 10000
     },
     "inputWidgets": {},
     "nuid": "ea4a9bd4-3996-4dd6-b659-68baae25bf3d",
     "showTitle": false,
     "tableResultSettingsMap": {},
     "title": ""
    }
   },
   "outputs": [],
   "source": [
    "from pyspark.sql.functions import substring, concat, lit, col, expr, locate, when"
   ]
  },
  {
   "cell_type": "markdown",
   "metadata": {
    "application/vnd.databricks.v1+cell": {
     "cellMetadata": {},
     "inputWidgets": {},
     "nuid": "9c50ab33-54e1-4f71-9c35-66d58f985d1e",
     "showTitle": false,
     "tableResultSettingsMap": {},
     "title": ""
    }
   },
   "source": [
    "     df1 = df.withColumn(\"loc\", locate(\";\", col(\"RecurrencePattern\")))\n",
    "- which **searches** from the **beginning of the string** (i.e., **position 1**).\n",
    "\n",
    "- This is **equivalent** to **locate(\";\", col(\"RecurrencePattern\"), 1)**."
   ]
  },
  {
   "cell_type": "markdown",
   "metadata": {
    "application/vnd.databricks.v1+cell": {
     "cellMetadata": {},
     "inputWidgets": {},
     "nuid": "3dd97b64-18cb-4480-b6ec-4e7e9a60b373",
     "showTitle": false,
     "tableResultSettingsMap": {},
     "title": ""
    }
   },
   "source": [
    "     df1 = df.withColumn(\"loc\", locate(\";\", col(\"RecurrencePattern\"), 1)) \n",
    "- This explicitly sets the **start position to 1**, which is also the **beginning of the string**."
   ]
  },
  {
   "cell_type": "markdown",
   "metadata": {
    "application/vnd.databricks.v1+cell": {
     "cellMetadata": {},
     "inputWidgets": {},
     "nuid": "035fff06-583c-4d8d-82a3-840033796c56",
     "showTitle": false,
     "tableResultSettingsMap": {},
     "title": ""
    }
   },
   "source": [
    "     locate(\";\", col(\"RecurrencePattern\"), 5)\n",
    "- This would start **searching** from the **5th character**."
   ]
  },
  {
   "cell_type": "markdown",
   "metadata": {
    "application/vnd.databricks.v1+cell": {
     "cellMetadata": {},
     "inputWidgets": {},
     "nuid": "2096b27c-3d75-411c-a198-20b1b5688582",
     "showTitle": false,
     "tableResultSettingsMap": {},
     "title": ""
    }
   },
   "source": [
    "#### **1) Find Position of Substring**\n",
    "- In this case, if **\"data\"** is found, the **position** will show the **index** of its **first occurrence**."
   ]
  },
  {
   "cell_type": "code",
   "execution_count": 0,
   "metadata": {
    "application/vnd.databricks.v1+cell": {
     "cellMetadata": {
      "byteLimit": 2048000,
      "rowLimit": 10000
     },
     "inputWidgets": {},
     "nuid": "044d5eec-2d20-4196-8b8a-0ac3651eb2bf",
     "showTitle": true,
     "tableResultSettingsMap": {},
     "title": "Find position of a substring"
    }
   },
   "outputs": [
    {
     "output_type": "display_data",
     "data": {
      "text/html": [
       "<style scoped>\n",
       "  .table-result-container {\n",
       "    max-height: 300px;\n",
       "    overflow: auto;\n",
       "  }\n",
       "  table, th, td {\n",
       "    border: 1px solid black;\n",
       "    border-collapse: collapse;\n",
       "  }\n",
       "  th, td {\n",
       "    padding: 5px;\n",
       "  }\n",
       "  th {\n",
       "    text-align: left;\n",
       "  }\n",
       "</style><div class='table-result-container'><table class='table-result'><thead style='background-color: white'><tr><th>text</th><th>mail</th></tr></thead><tbody><tr><td>Azure data engineer (ADE)</td><td>suman@gmail.com</td></tr><tr><td>AWS data engineer (AWS)</td><td>kiranrathod@gmail.com</td></tr><tr><td>data warehouse</td><td>rameshwaran@gmail.com</td></tr><tr><td>GCP engineer</td><td>krishnamurthy@gmail.com</td></tr><tr><td>PySpark engineer</td><td>vishweswarrao@gmail.com</td></tr></tbody></table></div>"
      ]
     },
     "metadata": {
      "application/vnd.databricks.v1+output": {
       "addedWidgets": {},
       "aggData": [],
       "aggError": "",
       "aggOverflow": false,
       "aggSchema": [],
       "aggSeriesLimitReached": false,
       "aggType": "",
       "arguments": {},
       "columnCustomDisplayInfos": {},
       "data": [
        [
         "Azure data engineer (ADE)",
         "suman@gmail.com"
        ],
        [
         "AWS data engineer (AWS)",
         "kiranrathod@gmail.com"
        ],
        [
         "data warehouse",
         "rameshwaran@gmail.com"
        ],
        [
         "GCP engineer",
         "krishnamurthy@gmail.com"
        ],
        [
         "PySpark engineer",
         "vishweswarrao@gmail.com"
        ]
       ],
       "datasetInfos": [],
       "dbfsResultPath": null,
       "isJsonSchema": true,
       "metadata": {},
       "overflow": false,
       "plotOptions": {
        "customPlotOptions": {},
        "displayType": "table",
        "pivotAggregation": null,
        "pivotColumns": null,
        "xColumns": null,
        "yColumns": null
       },
       "removedWidgets": [],
       "schema": [
        {
         "metadata": "{}",
         "name": "text",
         "type": "\"string\""
        },
        {
         "metadata": "{}",
         "name": "mail",
         "type": "\"string\""
        }
       ],
       "type": "table"
      }
     },
     "output_type": "display_data"
    }
   ],
   "source": [
    "from pyspark.sql.functions import locate\n",
    "\n",
    "# Sample data\n",
    "data = [(\"Azure data engineer (ADE)\", \"suman@gmail.com\"),\n",
    "        (\"AWS data engineer (AWS)\", \"kiranrathod@gmail.com\"),\n",
    "        (\"data warehouse\", \"rameshwaran@gmail.com\"),\n",
    "        (\"GCP engineer\", \"krishnamurthy@gmail.com\"),\n",
    "        (\"PySpark engineer\", \"vishweswarrao@gmail.com\")]\n",
    "\n",
    "columns = [\"text\", \"mail\"]\n",
    "\n",
    "df = spark.createDataFrame(data, columns)\n",
    "display(df)"
   ]
  },
  {
   "cell_type": "code",
   "execution_count": 0,
   "metadata": {
    "application/vnd.databricks.v1+cell": {
     "cellMetadata": {
      "byteLimit": 2048000,
      "rowLimit": 10000
     },
     "inputWidgets": {},
     "nuid": "64d3c530-5b7c-4ea8-8627-da16ac3da7cc",
     "showTitle": false,
     "tableResultSettingsMap": {},
     "title": ""
    }
   },
   "outputs": [
    {
     "output_type": "display_data",
     "data": {
      "text/html": [
       "<style scoped>\n",
       "  .table-result-container {\n",
       "    max-height: 300px;\n",
       "    overflow: auto;\n",
       "  }\n",
       "  table, th, td {\n",
       "    border: 1px solid black;\n",
       "    border-collapse: collapse;\n",
       "  }\n",
       "  th, td {\n",
       "    padding: 5px;\n",
       "  }\n",
       "  th {\n",
       "    text-align: left;\n",
       "  }\n",
       "</style><div class='table-result-container'><table class='table-result'><thead style='background-color: white'><tr><th>text</th><th>mail</th><th>position</th></tr></thead><tbody><tr><td>Azure data engineer (ADE)</td><td>suman@gmail.com</td><td>7</td></tr><tr><td>AWS data engineer (AWS)</td><td>kiranrathod@gmail.com</td><td>5</td></tr><tr><td>data warehouse</td><td>rameshwaran@gmail.com</td><td>1</td></tr><tr><td>GCP engineer</td><td>krishnamurthy@gmail.com</td><td>0</td></tr><tr><td>PySpark engineer</td><td>vishweswarrao@gmail.com</td><td>0</td></tr></tbody></table></div>"
      ]
     },
     "metadata": {
      "application/vnd.databricks.v1+output": {
       "addedWidgets": {},
       "aggData": [],
       "aggError": "",
       "aggOverflow": false,
       "aggSchema": [],
       "aggSeriesLimitReached": false,
       "aggType": "",
       "arguments": {},
       "columnCustomDisplayInfos": {},
       "data": [
        [
         "Azure data engineer (ADE)",
         "suman@gmail.com",
         7
        ],
        [
         "AWS data engineer (AWS)",
         "kiranrathod@gmail.com",
         5
        ],
        [
         "data warehouse",
         "rameshwaran@gmail.com",
         1
        ],
        [
         "GCP engineer",
         "krishnamurthy@gmail.com",
         0
        ],
        [
         "PySpark engineer",
         "vishweswarrao@gmail.com",
         0
        ]
       ],
       "datasetInfos": [],
       "dbfsResultPath": null,
       "isJsonSchema": true,
       "metadata": {},
       "overflow": false,
       "plotOptions": {
        "customPlotOptions": {},
        "displayType": "table",
        "pivotAggregation": null,
        "pivotColumns": null,
        "xColumns": null,
        "yColumns": null
       },
       "removedWidgets": [],
       "schema": [
        {
         "metadata": "{}",
         "name": "text",
         "type": "\"string\""
        },
        {
         "metadata": "{}",
         "name": "mail",
         "type": "\"string\""
        },
        {
         "metadata": "{}",
         "name": "position",
         "type": "\"integer\""
        }
       ],
       "type": "table"
      }
     },
     "output_type": "display_data"
    }
   ],
   "source": [
    "# Use locate() to find the position of 'data'\n",
    "df_pos = df.withColumn(\"position\", locate(\"data\", df[\"text\"]))\n",
    "\n",
    "# Show the DataFrame with the position column\n",
    "display(df_pos)"
   ]
  },
  {
   "cell_type": "code",
   "execution_count": 0,
   "metadata": {
    "application/vnd.databricks.v1+cell": {
     "cellMetadata": {
      "byteLimit": 2048000,
      "rowLimit": 10000
     },
     "inputWidgets": {},
     "nuid": "5568e1ab-d47a-4f68-a80c-efa4cc3ae60b",
     "showTitle": true,
     "tableResultSettingsMap": {},
     "title": "Filtering Rows Based on Substring Existence"
    }
   },
   "outputs": [
    {
     "output_type": "display_data",
     "data": {
      "text/html": [
       "<style scoped>\n",
       "  .table-result-container {\n",
       "    max-height: 300px;\n",
       "    overflow: auto;\n",
       "  }\n",
       "  table, th, td {\n",
       "    border: 1px solid black;\n",
       "    border-collapse: collapse;\n",
       "  }\n",
       "  th, td {\n",
       "    padding: 5px;\n",
       "  }\n",
       "  th {\n",
       "    text-align: left;\n",
       "  }\n",
       "</style><div class='table-result-container'><table class='table-result'><thead style='background-color: white'><tr><th>text</th><th>mail</th><th>position</th></tr></thead><tbody><tr><td>Azure data engineer (ADE)</td><td>suman@gmail.com</td><td>7</td></tr><tr><td>AWS data engineer (AWS)</td><td>kiranrathod@gmail.com</td><td>5</td></tr><tr><td>data warehouse</td><td>rameshwaran@gmail.com</td><td>1</td></tr></tbody></table></div>"
      ]
     },
     "metadata": {
      "application/vnd.databricks.v1+output": {
       "addedWidgets": {},
       "aggData": [],
       "aggError": "",
       "aggOverflow": false,
       "aggSchema": [],
       "aggSeriesLimitReached": false,
       "aggType": "",
       "arguments": {},
       "columnCustomDisplayInfos": {},
       "data": [
        [
         "Azure data engineer (ADE)",
         "suman@gmail.com",
         7
        ],
        [
         "AWS data engineer (AWS)",
         "kiranrathod@gmail.com",
         5
        ],
        [
         "data warehouse",
         "rameshwaran@gmail.com",
         1
        ]
       ],
       "datasetInfos": [],
       "dbfsResultPath": null,
       "isJsonSchema": true,
       "metadata": {},
       "overflow": false,
       "plotOptions": {
        "customPlotOptions": {},
        "displayType": "table",
        "pivotAggregation": null,
        "pivotColumns": null,
        "xColumns": null,
        "yColumns": null
       },
       "removedWidgets": [],
       "schema": [
        {
         "metadata": "{}",
         "name": "text",
         "type": "\"string\""
        },
        {
         "metadata": "{}",
         "name": "mail",
         "type": "\"string\""
        },
        {
         "metadata": "{}",
         "name": "position",
         "type": "\"integer\""
        }
       ],
       "type": "table"
      }
     },
     "output_type": "display_data"
    }
   ],
   "source": [
    "# Filter rows where 'data' is found in 'text'\n",
    "df_filtered = df \\\n",
    "    .withColumn(\"position\", locate(\"data\", df[\"text\"])) \\\n",
    "    .filter(locate(\"data\", col(\"text\")) > 0)\n",
    "display(df_filtered)"
   ]
  },
  {
   "cell_type": "markdown",
   "metadata": {
    "application/vnd.databricks.v1+cell": {
     "cellMetadata": {},
     "inputWidgets": {},
     "nuid": "78d4af52-f5d1-4e30-a744-75dc9b8643f7",
     "showTitle": false,
     "tableResultSettingsMap": {},
     "title": ""
    }
   },
   "source": [
    "#### **2) Using locate to Find Substring in a Specific Column**\n",
    "- This finds the **position** of the **\"@\"** symbol in the **email** column.\n",
    "- The result will be the **index** position where **\"@\"** appears in **each email string**."
   ]
  },
  {
   "cell_type": "code",
   "execution_count": 0,
   "metadata": {
    "application/vnd.databricks.v1+cell": {
     "cellMetadata": {
      "byteLimit": 2048000,
      "rowLimit": 10000
     },
     "inputWidgets": {},
     "nuid": "5446d6e0-8450-46b7-aa2a-ae90017b7be7",
     "showTitle": false,
     "tableResultSettingsMap": {},
     "title": ""
    }
   },
   "outputs": [
    {
     "output_type": "display_data",
     "data": {
      "text/html": [
       "<style scoped>\n",
       "  .table-result-container {\n",
       "    max-height: 300px;\n",
       "    overflow: auto;\n",
       "  }\n",
       "  table, th, td {\n",
       "    border: 1px solid black;\n",
       "    border-collapse: collapse;\n",
       "  }\n",
       "  th, td {\n",
       "    padding: 5px;\n",
       "  }\n",
       "  th {\n",
       "    text-align: left;\n",
       "  }\n",
       "</style><div class='table-result-container'><table class='table-result'><thead style='background-color: white'><tr><th>text</th><th>mail</th><th>position_of_email</th></tr></thead><tbody><tr><td>Azure data engineer (ADE)</td><td>suman@gmail.com</td><td>6</td></tr><tr><td>AWS data engineer (AWS)</td><td>kiranrathod@gmail.com</td><td>12</td></tr><tr><td>data warehouse</td><td>rameshwaran@gmail.com</td><td>12</td></tr><tr><td>GCP engineer</td><td>krishnamurthy@gmail.com</td><td>14</td></tr><tr><td>PySpark engineer</td><td>vishweswarrao@gmail.com</td><td>14</td></tr></tbody></table></div>"
      ]
     },
     "metadata": {
      "application/vnd.databricks.v1+output": {
       "addedWidgets": {},
       "aggData": [],
       "aggError": "",
       "aggOverflow": false,
       "aggSchema": [],
       "aggSeriesLimitReached": false,
       "aggType": "",
       "arguments": {},
       "columnCustomDisplayInfos": {},
       "data": [
        [
         "Azure data engineer (ADE)",
         "suman@gmail.com",
         6
        ],
        [
         "AWS data engineer (AWS)",
         "kiranrathod@gmail.com",
         12
        ],
        [
         "data warehouse",
         "rameshwaran@gmail.com",
         12
        ],
        [
         "GCP engineer",
         "krishnamurthy@gmail.com",
         14
        ],
        [
         "PySpark engineer",
         "vishweswarrao@gmail.com",
         14
        ]
       ],
       "datasetInfos": [],
       "dbfsResultPath": null,
       "isJsonSchema": true,
       "metadata": {},
       "overflow": false,
       "plotOptions": {
        "customPlotOptions": {},
        "displayType": "table",
        "pivotAggregation": null,
        "pivotColumns": null,
        "xColumns": null,
        "yColumns": null
       },
       "removedWidgets": [],
       "schema": [
        {
         "metadata": "{}",
         "name": "text",
         "type": "\"string\""
        },
        {
         "metadata": "{}",
         "name": "mail",
         "type": "\"string\""
        },
        {
         "metadata": "{}",
         "name": "position_of_email",
         "type": "\"integer\""
        }
       ],
       "type": "table"
      }
     },
     "output_type": "display_data"
    }
   ],
   "source": [
    "df_email = df.withColumn(\"position_of_email\", locate(\"@\", col(\"mail\")))\n",
    "display(df_email)"
   ]
  },
  {
   "cell_type": "markdown",
   "metadata": {
    "application/vnd.databricks.v1+cell": {
     "cellMetadata": {},
     "inputWidgets": {},
     "nuid": "04d167e1-c127-48f7-91d1-86b0262bc5be",
     "showTitle": false,
     "tableResultSettingsMap": {},
     "title": ""
    }
   },
   "source": [
    "#### **3) Finding Position of Substring in a Column with Multiple Occurrences**\n",
    "\n",
    "- If you have a **string** with **multiple occurrences** of the **substring** and want to know the **position** of the **first occurrence**."
   ]
  },
  {
   "cell_type": "code",
   "execution_count": 0,
   "metadata": {
    "application/vnd.databricks.v1+cell": {
     "cellMetadata": {
      "byteLimit": 2048000,
      "rowLimit": 10000
     },
     "inputWidgets": {},
     "nuid": "7a63ebd8-07d5-4bdb-988e-08e6dc40f289",
     "showTitle": false,
     "tableResultSettingsMap": {},
     "title": ""
    }
   },
   "outputs": [
    {
     "output_type": "display_data",
     "data": {
      "text/html": [
       "<style scoped>\n",
       "  .table-result-container {\n",
       "    max-height: 300px;\n",
       "    overflow: auto;\n",
       "  }\n",
       "  table, th, td {\n",
       "    border: 1px solid black;\n",
       "    border-collapse: collapse;\n",
       "  }\n",
       "  th, td {\n",
       "    padding: 5px;\n",
       "  }\n",
       "  th {\n",
       "    text-align: left;\n",
       "  }\n",
       "</style><div class='table-result-container'><table class='table-result'><thead style='background-color: white'><tr><th>text</th><th>mail</th></tr></thead><tbody><tr><td>Azure data engineer data world</td><td>suman@gmail.com</td></tr><tr><td>AWS data engineer data type</td><td>kiranrathod@gmail.com</td></tr><tr><td>data warehouse data storage</td><td>rameshwaran@gmail.com</td></tr><tr><td>GCP engineer</td><td>krishnamurthy@gmail.com</td></tr><tr><td>PySpark engineer</td><td>vishweswarrao@gmail.com</td></tr></tbody></table></div>"
      ]
     },
     "metadata": {
      "application/vnd.databricks.v1+output": {
       "addedWidgets": {},
       "aggData": [],
       "aggError": "",
       "aggOverflow": false,
       "aggSchema": [],
       "aggSeriesLimitReached": false,
       "aggType": "",
       "arguments": {},
       "columnCustomDisplayInfos": {},
       "data": [
        [
         "Azure data engineer data world",
         "suman@gmail.com"
        ],
        [
         "AWS data engineer data type",
         "kiranrathod@gmail.com"
        ],
        [
         "data warehouse data storage",
         "rameshwaran@gmail.com"
        ],
        [
         "GCP engineer",
         "krishnamurthy@gmail.com"
        ],
        [
         "PySpark engineer",
         "vishweswarrao@gmail.com"
        ]
       ],
       "datasetInfos": [],
       "dbfsResultPath": null,
       "isJsonSchema": true,
       "metadata": {},
       "overflow": false,
       "plotOptions": {
        "customPlotOptions": {},
        "displayType": "table",
        "pivotAggregation": null,
        "pivotColumns": null,
        "xColumns": null,
        "yColumns": null
       },
       "removedWidgets": [],
       "schema": [
        {
         "metadata": "{}",
         "name": "text",
         "type": "\"string\""
        },
        {
         "metadata": "{}",
         "name": "mail",
         "type": "\"string\""
        }
       ],
       "type": "table"
      }
     },
     "output_type": "display_data"
    }
   ],
   "source": [
    "from pyspark.sql.functions import locate\n",
    "\n",
    "# Sample data\n",
    "data = [(\"Azure data engineer data world\", \"suman@gmail.com\"),\n",
    "        (\"AWS data engineer data type\", \"kiranrathod@gmail.com\"),\n",
    "        (\"data warehouse data storage\", \"rameshwaran@gmail.com\"),\n",
    "        (\"GCP engineer\", \"krishnamurthy@gmail.com\"),\n",
    "        (\"PySpark engineer\", \"vishweswarrao@gmail.com\")]\n",
    "\n",
    "columns = [\"text\", \"mail\"]\n",
    "\n",
    "dff = spark.createDataFrame(data, columns)\n",
    "display(dff)"
   ]
  },
  {
   "cell_type": "code",
   "execution_count": 0,
   "metadata": {
    "application/vnd.databricks.v1+cell": {
     "cellMetadata": {
      "byteLimit": 2048000,
      "rowLimit": 10000
     },
     "inputWidgets": {},
     "nuid": "0fcf6549-dc83-4cbf-acdc-c89ded0a115b",
     "showTitle": false,
     "tableResultSettingsMap": {},
     "title": ""
    }
   },
   "outputs": [
    {
     "output_type": "display_data",
     "data": {
      "text/html": [
       "<style scoped>\n",
       "  .table-result-container {\n",
       "    max-height: 300px;\n",
       "    overflow: auto;\n",
       "  }\n",
       "  table, th, td {\n",
       "    border: 1px solid black;\n",
       "    border-collapse: collapse;\n",
       "  }\n",
       "  th, td {\n",
       "    padding: 5px;\n",
       "  }\n",
       "  th {\n",
       "    text-align: left;\n",
       "  }\n",
       "</style><div class='table-result-container'><table class='table-result'><thead style='background-color: white'><tr><th>text</th><th>mail</th><th>position</th></tr></thead><tbody><tr><td>Azure data engineer data world</td><td>suman@gmail.com</td><td>7</td></tr><tr><td>AWS data engineer data type</td><td>kiranrathod@gmail.com</td><td>5</td></tr><tr><td>data warehouse data storage</td><td>rameshwaran@gmail.com</td><td>1</td></tr><tr><td>GCP engineer</td><td>krishnamurthy@gmail.com</td><td>0</td></tr><tr><td>PySpark engineer</td><td>vishweswarrao@gmail.com</td><td>0</td></tr></tbody></table></div>"
      ]
     },
     "metadata": {
      "application/vnd.databricks.v1+output": {
       "addedWidgets": {},
       "aggData": [],
       "aggError": "",
       "aggOverflow": false,
       "aggSchema": [],
       "aggSeriesLimitReached": false,
       "aggType": "",
       "arguments": {},
       "columnCustomDisplayInfos": {},
       "data": [
        [
         "Azure data engineer data world",
         "suman@gmail.com",
         7
        ],
        [
         "AWS data engineer data type",
         "kiranrathod@gmail.com",
         5
        ],
        [
         "data warehouse data storage",
         "rameshwaran@gmail.com",
         1
        ],
        [
         "GCP engineer",
         "krishnamurthy@gmail.com",
         0
        ],
        [
         "PySpark engineer",
         "vishweswarrao@gmail.com",
         0
        ]
       ],
       "datasetInfos": [],
       "dbfsResultPath": null,
       "isJsonSchema": true,
       "metadata": {},
       "overflow": false,
       "plotOptions": {
        "customPlotOptions": {},
        "displayType": "table",
        "pivotAggregation": null,
        "pivotColumns": null,
        "xColumns": null,
        "yColumns": null
       },
       "removedWidgets": [],
       "schema": [
        {
         "metadata": "{}",
         "name": "text",
         "type": "\"string\""
        },
        {
         "metadata": "{}",
         "name": "mail",
         "type": "\"string\""
        },
        {
         "metadata": "{}",
         "name": "position",
         "type": "\"integer\""
        }
       ],
       "type": "table"
      }
     },
     "output_type": "display_data"
    }
   ],
   "source": [
    "df_mltpl = dff.withColumn(\"position\", locate(\"data\", col(\"text\")))\n",
    "display(df_mltpl)"
   ]
  },
  {
   "cell_type": "markdown",
   "metadata": {
    "application/vnd.databricks.v1+cell": {
     "cellMetadata": {},
     "inputWidgets": {},
     "nuid": "4ff1c0cb-372a-426d-8ad6-2ead8309bc6f",
     "showTitle": false,
     "tableResultSettingsMap": {},
     "title": ""
    }
   },
   "source": [
    "#### **4) Handling Missing Substrings with locate**\n",
    "\n",
    "- When the **substring doesn’t exist** in the string, locate() will return **0**."
   ]
  },
  {
   "cell_type": "code",
   "execution_count": 0,
   "metadata": {
    "application/vnd.databricks.v1+cell": {
     "cellMetadata": {
      "byteLimit": 2048000,
      "rowLimit": 10000
     },
     "inputWidgets": {},
     "nuid": "f5528b38-0b0c-4dc1-aa8d-80c9d9b2b949",
     "showTitle": false,
     "tableResultSettingsMap": {},
     "title": ""
    }
   },
   "outputs": [
    {
     "output_type": "display_data",
     "data": {
      "text/html": [
       "<style scoped>\n",
       "  .table-result-container {\n",
       "    max-height: 300px;\n",
       "    overflow: auto;\n",
       "  }\n",
       "  table, th, td {\n",
       "    border: 1px solid black;\n",
       "    border-collapse: collapse;\n",
       "  }\n",
       "  th, td {\n",
       "    padding: 5px;\n",
       "  }\n",
       "  th {\n",
       "    text-align: left;\n",
       "  }\n",
       "</style><div class='table-result-container'><table class='table-result'><thead style='background-color: white'><tr><th>text</th><th>mail</th><th>position</th></tr></thead><tbody><tr><td>Azure data engineer (ADE)</td><td>suman@gmail.com</td><td>0</td></tr><tr><td>AWS data engineer (AWS)</td><td>kiranrathod@gmail.com</td><td>0</td></tr><tr><td>data warehouse</td><td>rameshwaran@gmail.com</td><td>0</td></tr><tr><td>GCP engineer</td><td>krishnamurthy@gmail.com</td><td>0</td></tr><tr><td>PySpark engineer</td><td>vishweswarrao@gmail.com</td><td>0</td></tr></tbody></table></div>"
      ]
     },
     "metadata": {
      "application/vnd.databricks.v1+output": {
       "addedWidgets": {},
       "aggData": [],
       "aggError": "",
       "aggOverflow": false,
       "aggSchema": [],
       "aggSeriesLimitReached": false,
       "aggType": "",
       "arguments": {},
       "columnCustomDisplayInfos": {},
       "data": [
        [
         "Azure data engineer (ADE)",
         "suman@gmail.com",
         0
        ],
        [
         "AWS data engineer (AWS)",
         "kiranrathod@gmail.com",
         0
        ],
        [
         "data warehouse",
         "rameshwaran@gmail.com",
         0
        ],
        [
         "GCP engineer",
         "krishnamurthy@gmail.com",
         0
        ],
        [
         "PySpark engineer",
         "vishweswarrao@gmail.com",
         0
        ]
       ],
       "datasetInfos": [],
       "dbfsResultPath": null,
       "isJsonSchema": true,
       "metadata": {},
       "overflow": false,
       "plotOptions": {
        "customPlotOptions": {},
        "displayType": "table",
        "pivotAggregation": null,
        "pivotColumns": null,
        "xColumns": null,
        "yColumns": null
       },
       "removedWidgets": [],
       "schema": [
        {
         "metadata": "{}",
         "name": "text",
         "type": "\"string\""
        },
        {
         "metadata": "{}",
         "name": "mail",
         "type": "\"string\""
        },
        {
         "metadata": "{}",
         "name": "position",
         "type": "\"integer\""
        }
       ],
       "type": "table"
      }
     },
     "output_type": "display_data"
    }
   ],
   "source": [
    "df_miss = df.withColumn(\"position\", locate(\"banana\", col(\"mail\")))\n",
    "display(df_miss)"
   ]
  },
  {
   "cell_type": "markdown",
   "metadata": {
    "application/vnd.databricks.v1+cell": {
     "cellMetadata": {},
     "inputWidgets": {},
     "nuid": "544c1e28-25c7-4575-b341-e990ce5cc110",
     "showTitle": false,
     "tableResultSettingsMap": {},
     "title": ""
    }
   },
   "source": [
    "#### **5) Case Sensitivity in locate**\n",
    "\n",
    "- locate() is **case-sensitive**, so make sure to account for this."
   ]
  },
  {
   "cell_type": "code",
   "execution_count": 0,
   "metadata": {
    "application/vnd.databricks.v1+cell": {
     "cellMetadata": {
      "byteLimit": 2048000,
      "rowLimit": 10000
     },
     "inputWidgets": {},
     "nuid": "215a893b-992b-46ac-9e5e-225942bd61e0",
     "showTitle": false,
     "tableResultSettingsMap": {},
     "title": ""
    }
   },
   "outputs": [
    {
     "output_type": "display_data",
     "data": {
      "text/html": [
       "<style scoped>\n",
       "  .table-result-container {\n",
       "    max-height: 300px;\n",
       "    overflow: auto;\n",
       "  }\n",
       "  table, th, td {\n",
       "    border: 1px solid black;\n",
       "    border-collapse: collapse;\n",
       "  }\n",
       "  th, td {\n",
       "    padding: 5px;\n",
       "  }\n",
       "  th {\n",
       "    text-align: left;\n",
       "  }\n",
       "</style><div class='table-result-container'><table class='table-result'><thead style='background-color: white'><tr><th>text</th><th>mail</th><th>position</th><th>pos</th></tr></thead><tbody><tr><td>Azure data engineer (ADE)</td><td>suman@gmail.com</td><td>7</td><td>0</td></tr><tr><td>AWS data engineer (AWS)</td><td>kiranrathod@gmail.com</td><td>5</td><td>0</td></tr><tr><td>data warehouse</td><td>rameshwaran@gmail.com</td><td>1</td><td>0</td></tr><tr><td>GCP engineer</td><td>krishnamurthy@gmail.com</td><td>0</td><td>0</td></tr><tr><td>PySpark engineer</td><td>vishweswarrao@gmail.com</td><td>0</td><td>0</td></tr></tbody></table></div>"
      ]
     },
     "metadata": {
      "application/vnd.databricks.v1+output": {
       "addedWidgets": {},
       "aggData": [],
       "aggError": "",
       "aggOverflow": false,
       "aggSchema": [],
       "aggSeriesLimitReached": false,
       "aggType": "",
       "arguments": {},
       "columnCustomDisplayInfos": {},
       "data": [
        [
         "Azure data engineer (ADE)",
         "suman@gmail.com",
         7,
         0
        ],
        [
         "AWS data engineer (AWS)",
         "kiranrathod@gmail.com",
         5,
         0
        ],
        [
         "data warehouse",
         "rameshwaran@gmail.com",
         1,
         0
        ],
        [
         "GCP engineer",
         "krishnamurthy@gmail.com",
         0,
         0
        ],
        [
         "PySpark engineer",
         "vishweswarrao@gmail.com",
         0,
         0
        ]
       ],
       "datasetInfos": [],
       "dbfsResultPath": null,
       "isJsonSchema": true,
       "metadata": {},
       "overflow": false,
       "plotOptions": {
        "customPlotOptions": {},
        "displayType": "table",
        "pivotAggregation": null,
        "pivotColumns": null,
        "xColumns": null,
        "yColumns": null
       },
       "removedWidgets": [],
       "schema": [
        {
         "metadata": "{}",
         "name": "text",
         "type": "\"string\""
        },
        {
         "metadata": "{}",
         "name": "mail",
         "type": "\"string\""
        },
        {
         "metadata": "{}",
         "name": "position",
         "type": "\"integer\""
        },
        {
         "metadata": "{}",
         "name": "pos",
         "type": "\"integer\""
        }
       ],
       "type": "table"
      }
     },
     "output_type": "display_data"
    }
   ],
   "source": [
    "# Only finds \"data\", not \"Data\"\n",
    "df_sens = df.withColumn(\"position\", locate(\"data\", col(\"text\"))) \\\n",
    "            .withColumn(\"pos\", locate(\"Data\", col(\"text\")))\n",
    "display(df_sens)"
   ]
  },
  {
   "cell_type": "markdown",
   "metadata": {
    "application/vnd.databricks.v1+cell": {
     "cellMetadata": {},
     "inputWidgets": {},
     "nuid": "a5da5254-4273-4ea5-8755-0569a35fd153",
     "showTitle": false,
     "tableResultSettingsMap": {},
     "title": ""
    }
   },
   "source": [
    "#### **6) Check If Substring Exists (Using locate with when and col)**\n",
    "- Here, **data_present** will be **True** if the substring **data** is found and **False** otherwise."
   ]
  },
  {
   "cell_type": "code",
   "execution_count": 0,
   "metadata": {
    "application/vnd.databricks.v1+cell": {
     "cellMetadata": {
      "byteLimit": 2048000,
      "rowLimit": 10000
     },
     "inputWidgets": {},
     "nuid": "f1905426-a7c4-45e1-a41c-90092aee760d",
     "showTitle": true,
     "tableResultSettingsMap": {},
     "title": "Combining with Other Functions"
    }
   },
   "outputs": [
    {
     "output_type": "display_data",
     "data": {
      "text/html": [
       "<style scoped>\n",
       "  .table-result-container {\n",
       "    max-height: 300px;\n",
       "    overflow: auto;\n",
       "  }\n",
       "  table, th, td {\n",
       "    border: 1px solid black;\n",
       "    border-collapse: collapse;\n",
       "  }\n",
       "  th, td {\n",
       "    padding: 5px;\n",
       "  }\n",
       "  th {\n",
       "    text-align: left;\n",
       "  }\n",
       "</style><div class='table-result-container'><table class='table-result'><thead style='background-color: white'><tr><th>text</th><th>mail</th><th>location</th><th>data_present</th></tr></thead><tbody><tr><td>Azure data engineer (ADE)</td><td>suman@gmail.com</td><td>7</td><td>true</td></tr><tr><td>AWS data engineer (AWS)</td><td>kiranrathod@gmail.com</td><td>5</td><td>true</td></tr><tr><td>data warehouse</td><td>rameshwaran@gmail.com</td><td>1</td><td>true</td></tr><tr><td>GCP engineer</td><td>krishnamurthy@gmail.com</td><td>0</td><td>false</td></tr><tr><td>PySpark engineer</td><td>vishweswarrao@gmail.com</td><td>0</td><td>false</td></tr></tbody></table></div>"
      ]
     },
     "metadata": {
      "application/vnd.databricks.v1+output": {
       "addedWidgets": {},
       "aggData": [],
       "aggError": "",
       "aggOverflow": false,
       "aggSchema": [],
       "aggSeriesLimitReached": false,
       "aggType": "",
       "arguments": {},
       "columnCustomDisplayInfos": {},
       "data": [
        [
         "Azure data engineer (ADE)",
         "suman@gmail.com",
         7,
         true
        ],
        [
         "AWS data engineer (AWS)",
         "kiranrathod@gmail.com",
         5,
         true
        ],
        [
         "data warehouse",
         "rameshwaran@gmail.com",
         1,
         true
        ],
        [
         "GCP engineer",
         "krishnamurthy@gmail.com",
         0,
         false
        ],
        [
         "PySpark engineer",
         "vishweswarrao@gmail.com",
         0,
         false
        ]
       ],
       "datasetInfos": [],
       "dbfsResultPath": null,
       "isJsonSchema": true,
       "metadata": {},
       "overflow": false,
       "plotOptions": {
        "customPlotOptions": {},
        "displayType": "table",
        "pivotAggregation": null,
        "pivotColumns": null,
        "xColumns": null,
        "yColumns": null
       },
       "removedWidgets": [],
       "schema": [
        {
         "metadata": "{}",
         "name": "text",
         "type": "\"string\""
        },
        {
         "metadata": "{}",
         "name": "mail",
         "type": "\"string\""
        },
        {
         "metadata": "{}",
         "name": "location",
         "type": "\"integer\""
        },
        {
         "metadata": "{}",
         "name": "data_present",
         "type": "\"boolean\""
        }
       ],
       "type": "table"
      }
     },
     "output_type": "display_data"
    }
   ],
   "source": [
    "from pyspark.sql.functions import when\n",
    "\n",
    "# Create a new column \"data_present\" that returns True if 'data' is found, otherwise False.\n",
    "df_with_conditional = df \\\n",
    "    .withColumn(\"location\", locate(\"data\", col(\"text\"))) \\\n",
    "    .withColumn(\"data_present\", when(locate(\"data\", col(\"text\")) > 0, True).otherwise(False))\n",
    "display(df_with_conditional)"
   ]
  },
  {
   "cell_type": "markdown",
   "metadata": {
    "application/vnd.databricks.v1+cell": {
     "cellMetadata": {},
     "inputWidgets": {},
     "nuid": "540787c8-d547-43bf-9597-c3da97c4efdd",
     "showTitle": false,
     "tableResultSettingsMap": {},
     "title": ""
    }
   },
   "source": [
    "#### **7) Extract the Substring Position Using locate and substring**"
   ]
  },
  {
   "cell_type": "code",
   "execution_count": 0,
   "metadata": {
    "application/vnd.databricks.v1+cell": {
     "cellMetadata": {
      "byteLimit": 2048000,
      "rowLimit": 10000
     },
     "inputWidgets": {},
     "nuid": "eb668844-10e4-477a-a021-cc32a10c1999",
     "showTitle": false,
     "tableResultSettingsMap": {},
     "title": ""
    }
   },
   "outputs": [
    {
     "output_type": "display_data",
     "data": {
      "text/html": [
       "<style scoped>\n",
       "  .table-result-container {\n",
       "    max-height: 300px;\n",
       "    overflow: auto;\n",
       "  }\n",
       "  table, th, td {\n",
       "    border: 1px solid black;\n",
       "    border-collapse: collapse;\n",
       "  }\n",
       "  th, td {\n",
       "    padding: 5px;\n",
       "  }\n",
       "  th {\n",
       "    text-align: left;\n",
       "  }\n",
       "</style><div class='table-result-container'><table class='table-result'><thead style='background-color: white'><tr><th>text</th><th>mail</th><th>location</th><th>data_substring</th></tr></thead><tbody><tr><td>Azure data engineer (ADE)</td><td>suman@gmail.com</td><td>7</td><td>data engineer</td></tr><tr><td>AWS data engineer (AWS)</td><td>kiranrathod@gmail.com</td><td>5</td><td>data engineer</td></tr><tr><td>data warehouse</td><td>rameshwaran@gmail.com</td><td>1</td><td>data warehous</td></tr><tr><td>GCP engineer</td><td>krishnamurthy@gmail.com</td><td>0</td><td>GCP engineer</td></tr><tr><td>PySpark engineer</td><td>vishweswarrao@gmail.com</td><td>0</td><td>PySpark engin</td></tr></tbody></table></div>"
      ]
     },
     "metadata": {
      "application/vnd.databricks.v1+output": {
       "addedWidgets": {},
       "aggData": [],
       "aggError": "",
       "aggOverflow": false,
       "aggSchema": [],
       "aggSeriesLimitReached": false,
       "aggType": "",
       "arguments": {},
       "columnCustomDisplayInfos": {},
       "data": [
        [
         "Azure data engineer (ADE)",
         "suman@gmail.com",
         7,
         "data engineer"
        ],
        [
         "AWS data engineer (AWS)",
         "kiranrathod@gmail.com",
         5,
         "data engineer"
        ],
        [
         "data warehouse",
         "rameshwaran@gmail.com",
         1,
         "data warehous"
        ],
        [
         "GCP engineer",
         "krishnamurthy@gmail.com",
         0,
         "GCP engineer"
        ],
        [
         "PySpark engineer",
         "vishweswarrao@gmail.com",
         0,
         "PySpark engin"
        ]
       ],
       "datasetInfos": [],
       "dbfsResultPath": null,
       "isJsonSchema": true,
       "metadata": {},
       "overflow": false,
       "plotOptions": {
        "customPlotOptions": {},
        "displayType": "table",
        "pivotAggregation": null,
        "pivotColumns": null,
        "xColumns": null,
        "yColumns": null
       },
       "removedWidgets": [],
       "schema": [
        {
         "metadata": "{}",
         "name": "text",
         "type": "\"string\""
        },
        {
         "metadata": "{}",
         "name": "mail",
         "type": "\"string\""
        },
        {
         "metadata": "{}",
         "name": "location",
         "type": "\"integer\""
        },
        {
         "metadata": "{}",
         "name": "data_substring",
         "type": "\"string\""
        }
       ],
       "type": "table"
      }
     },
     "output_type": "display_data"
    }
   ],
   "source": [
    "# Use expr to apply substring and locate together\n",
    "df_pos = df \\\n",
    "    .withColumn(\"location\", locate(\"data\", col(\"text\"))) \\\n",
    "    .withColumn(\"data_substring\", expr(\"substring(text, locate('data', text), 13)\"))\n",
    "display(df_pos)"
   ]
  },
  {
   "cell_type": "markdown",
   "metadata": {
    "application/vnd.databricks.v1+cell": {
     "cellMetadata": {},
     "inputWidgets": {},
     "nuid": "a4e003f7-c034-416d-b218-eb6aab3b1190",
     "showTitle": false,
     "tableResultSettingsMap": {},
     "title": ""
    }
   },
   "source": [
    "#### **8) Replace Substring After Locating It**"
   ]
  },
  {
   "cell_type": "code",
   "execution_count": 0,
   "metadata": {
    "application/vnd.databricks.v1+cell": {
     "cellMetadata": {
      "byteLimit": 2048000,
      "rowLimit": 10000
     },
     "inputWidgets": {},
     "nuid": "9014373f-e1d5-4d0a-9727-7daa278b221a",
     "showTitle": false,
     "tableResultSettingsMap": {},
     "title": ""
    }
   },
   "outputs": [
    {
     "output_type": "display_data",
     "data": {
      "text/html": [
       "<style scoped>\n",
       "  .table-result-container {\n",
       "    max-height: 300px;\n",
       "    overflow: auto;\n",
       "  }\n",
       "  table, th, td {\n",
       "    border: 1px solid black;\n",
       "    border-collapse: collapse;\n",
       "  }\n",
       "  th, td {\n",
       "    padding: 5px;\n",
       "  }\n",
       "  th {\n",
       "    text-align: left;\n",
       "  }\n",
       "</style><div class='table-result-container'><table class='table-result'><thead style='background-color: white'><tr><th>text</th><th>mail</th><th>location</th><th>updated_description</th></tr></thead><tbody><tr><td>Azure data engineer (ADE)</td><td>suman@gmail.com</td><td>7</td><td>Azure Data engineer (ADE)</td></tr><tr><td>AWS data engineer (AWS)</td><td>kiranrathod@gmail.com</td><td>5</td><td>AWS Data engineer (AWS)</td></tr><tr><td>data warehouse</td><td>rameshwaran@gmail.com</td><td>1</td><td>Data warehouse</td></tr><tr><td>GCP engineer</td><td>krishnamurthy@gmail.com</td><td>0</td><td>GCP engineer</td></tr><tr><td>PySpark engineer</td><td>vishweswarrao@gmail.com</td><td>0</td><td>PySpark engineer</td></tr></tbody></table></div>"
      ]
     },
     "metadata": {
      "application/vnd.databricks.v1+output": {
       "addedWidgets": {},
       "aggData": [],
       "aggError": "",
       "aggOverflow": false,
       "aggSchema": [],
       "aggSeriesLimitReached": false,
       "aggType": "",
       "arguments": {},
       "columnCustomDisplayInfos": {},
       "data": [
        [
         "Azure data engineer (ADE)",
         "suman@gmail.com",
         7,
         "Azure Data engineer (ADE)"
        ],
        [
         "AWS data engineer (AWS)",
         "kiranrathod@gmail.com",
         5,
         "AWS Data engineer (AWS)"
        ],
        [
         "data warehouse",
         "rameshwaran@gmail.com",
         1,
         "Data warehouse"
        ],
        [
         "GCP engineer",
         "krishnamurthy@gmail.com",
         0,
         "GCP engineer"
        ],
        [
         "PySpark engineer",
         "vishweswarrao@gmail.com",
         0,
         "PySpark engineer"
        ]
       ],
       "datasetInfos": [],
       "dbfsResultPath": null,
       "isJsonSchema": true,
       "metadata": {},
       "overflow": false,
       "plotOptions": {
        "customPlotOptions": {},
        "displayType": "table",
        "pivotAggregation": null,
        "pivotColumns": null,
        "xColumns": null,
        "yColumns": null
       },
       "removedWidgets": [],
       "schema": [
        {
         "metadata": "{}",
         "name": "text",
         "type": "\"string\""
        },
        {
         "metadata": "{}",
         "name": "mail",
         "type": "\"string\""
        },
        {
         "metadata": "{}",
         "name": "location",
         "type": "\"integer\""
        },
        {
         "metadata": "{}",
         "name": "updated_description",
         "type": "\"string\""
        }
       ],
       "type": "table"
      }
     },
     "output_type": "display_data"
    }
   ],
   "source": [
    "from pyspark.sql.functions import regexp_replace\n",
    "\n",
    "df_rpl = df \\\n",
    "    .withColumn(\"location\", locate(\"data\", col(\"text\"))) \\\n",
    "    .withColumn(\"updated_description\",  \n",
    "                when(locate(\"data\", col(\"text\")) > 0, regexp_replace(col(\"text\"), \"data\", \"Data\"))\n",
    "                .otherwise(col(\"text\")))\n",
    "display(df_rpl)"
   ]
  },
  {
   "cell_type": "markdown",
   "metadata": {
    "application/vnd.databricks.v1+cell": {
     "cellMetadata": {},
     "inputWidgets": {},
     "nuid": "6707e015-5f20-42a1-95d6-74fdaba304af",
     "showTitle": false,
     "tableResultSettingsMap": {},
     "title": ""
    }
   },
   "source": [
    "#### **9) Multiple Substring Search Using locate()**"
   ]
  },
  {
   "cell_type": "code",
   "execution_count": 0,
   "metadata": {
    "application/vnd.databricks.v1+cell": {
     "cellMetadata": {
      "byteLimit": 2048000,
      "rowLimit": 10000
     },
     "inputWidgets": {},
     "nuid": "c97e26c7-4b2c-4047-9607-e4eca1aecc3a",
     "showTitle": false,
     "tableResultSettingsMap": {},
     "title": ""
    }
   },
   "outputs": [
    {
     "output_type": "display_data",
     "data": {
      "text/html": [
       "<style scoped>\n",
       "  .table-result-container {\n",
       "    max-height: 300px;\n",
       "    overflow: auto;\n",
       "  }\n",
       "  table, th, td {\n",
       "    border: 1px solid black;\n",
       "    border-collapse: collapse;\n",
       "  }\n",
       "  th, td {\n",
       "    padding: 5px;\n",
       "  }\n",
       "  th {\n",
       "    text-align: left;\n",
       "  }\n",
       "</style><div class='table-result-container'><table class='table-result'><thead style='background-color: white'><tr><th>text</th><th>text_position</th><th>mail</th><th>updated_description</th><th>data_position</th></tr></thead><tbody><tr><td>Azure data engineer (ADE)</td><td>12</td><td>suman@gmail.com</td><td>Azure Data engineer (ADE)</td><td>7</td></tr><tr><td>AWS data engineer (AWS)</td><td>10</td><td>kiranrathod@gmail.com</td><td>AWS Data engineer (AWS)</td><td>5</td></tr><tr><td>data warehouse</td><td>0</td><td>rameshwaran@gmail.com</td><td>Data warehouse</td><td>1</td></tr><tr><td>GCP engineer</td><td>5</td><td>krishnamurthy@gmail.com</td><td>GCP engineer</td><td>0</td></tr><tr><td>PySpark engineer</td><td>9</td><td>vishweswarrao@gmail.com</td><td>PySpark engineer</td><td>0</td></tr></tbody></table></div>"
      ]
     },
     "metadata": {
      "application/vnd.databricks.v1+output": {
       "addedWidgets": {},
       "aggData": [],
       "aggError": "",
       "aggOverflow": false,
       "aggSchema": [],
       "aggSeriesLimitReached": false,
       "aggType": "",
       "arguments": {},
       "columnCustomDisplayInfos": {},
       "data": [
        [
         "Azure data engineer (ADE)",
         12,
         "suman@gmail.com",
         "Azure Data engineer (ADE)",
         7
        ],
        [
         "AWS data engineer (AWS)",
         10,
         "kiranrathod@gmail.com",
         "AWS Data engineer (AWS)",
         5
        ],
        [
         "data warehouse",
         0,
         "rameshwaran@gmail.com",
         "Data warehouse",
         1
        ],
        [
         "GCP engineer",
         5,
         "krishnamurthy@gmail.com",
         "GCP engineer",
         0
        ],
        [
         "PySpark engineer",
         9,
         "vishweswarrao@gmail.com",
         "PySpark engineer",
         0
        ]
       ],
       "datasetInfos": [],
       "dbfsResultPath": null,
       "isJsonSchema": true,
       "metadata": {},
       "overflow": false,
       "plotOptions": {
        "customPlotOptions": {},
        "displayType": "table",
        "pivotAggregation": null,
        "pivotColumns": null,
        "xColumns": null,
        "yColumns": null
       },
       "removedWidgets": [],
       "schema": [
        {
         "metadata": "{}",
         "name": "text",
         "type": "\"string\""
        },
        {
         "metadata": "{}",
         "name": "text_position",
         "type": "\"integer\""
        },
        {
         "metadata": "{}",
         "name": "mail",
         "type": "\"string\""
        },
        {
         "metadata": "{}",
         "name": "updated_description",
         "type": "\"string\""
        },
        {
         "metadata": "{}",
         "name": "data_position",
         "type": "\"integer\""
        }
       ],
       "type": "table"
      }
     },
     "output_type": "display_data"
    }
   ],
   "source": [
    "# Find positions of both 'apple' and 'banana' in 'description' column\n",
    "df_mltpl_str = df_rpl \\\n",
    "       .withColumn(\"data_position\", locate(\"Data\", col(\"updated_description\"))) \\\n",
    "       .withColumn(\"text_position\", locate(\"engineer\", col(\"text\"))) \\\n",
    "       .select(\"text\", \"text_position\", \"mail\", \"updated_description\", \"data_position\")\n",
    "\n",
    "display(df_mltpl_str)"
   ]
  },
  {
   "cell_type": "markdown",
   "metadata": {
    "application/vnd.databricks.v1+cell": {
     "cellMetadata": {},
     "inputWidgets": {},
     "nuid": "51bb0dba-cf7c-4db5-b8d0-4b6f2c30f508",
     "showTitle": false,
     "tableResultSettingsMap": {},
     "title": ""
    }
   },
   "source": [
    "#### **10) Using locate() with selectExpr**"
   ]
  },
  {
   "cell_type": "code",
   "execution_count": 0,
   "metadata": {
    "application/vnd.databricks.v1+cell": {
     "cellMetadata": {
      "byteLimit": 2048000,
      "rowLimit": 10000
     },
     "inputWidgets": {},
     "nuid": "42578ca5-62b4-4feb-adff-7dc1868e7746",
     "showTitle": true,
     "tableResultSettingsMap": {},
     "title": "selectExpr"
    }
   },
   "outputs": [
    {
     "output_type": "display_data",
     "data": {
      "text/html": [
       "<style scoped>\n",
       "  .table-result-container {\n",
       "    max-height: 300px;\n",
       "    overflow: auto;\n",
       "  }\n",
       "  table, th, td {\n",
       "    border: 1px solid black;\n",
       "    border-collapse: collapse;\n",
       "  }\n",
       "  th, td {\n",
       "    padding: 5px;\n",
       "  }\n",
       "  th {\n",
       "    text-align: left;\n",
       "  }\n",
       "</style><div class='table-result-container'><table class='table-result'><thead style='background-color: white'><tr><th>text</th><th>data_position</th></tr></thead><tbody><tr><td>Azure data engineer (ADE)</td><td>7</td></tr><tr><td>AWS data engineer (AWS)</td><td>5</td></tr><tr><td>data warehouse</td><td>1</td></tr><tr><td>GCP engineer</td><td>0</td></tr><tr><td>PySpark engineer</td><td>0</td></tr></tbody></table></div>"
      ]
     },
     "metadata": {
      "application/vnd.databricks.v1+output": {
       "addedWidgets": {},
       "aggData": [],
       "aggError": "",
       "aggOverflow": false,
       "aggSchema": [],
       "aggSeriesLimitReached": false,
       "aggType": "",
       "arguments": {},
       "columnCustomDisplayInfos": {},
       "data": [
        [
         "Azure data engineer (ADE)",
         7
        ],
        [
         "AWS data engineer (AWS)",
         5
        ],
        [
         "data warehouse",
         1
        ],
        [
         "GCP engineer",
         0
        ],
        [
         "PySpark engineer",
         0
        ]
       ],
       "datasetInfos": [],
       "dbfsResultPath": null,
       "isJsonSchema": true,
       "metadata": {},
       "overflow": false,
       "plotOptions": {
        "customPlotOptions": {},
        "displayType": "table",
        "pivotAggregation": null,
        "pivotColumns": null,
        "xColumns": null,
        "yColumns": null
       },
       "removedWidgets": [],
       "schema": [
        {
         "metadata": "{}",
         "name": "text",
         "type": "\"string\""
        },
        {
         "metadata": "{}",
         "name": "data_position",
         "type": "\"integer\""
        }
       ],
       "type": "table"
      }
     },
     "output_type": "display_data"
    }
   ],
   "source": [
    "df_new = df.selectExpr(\n",
    "    \"text\",\n",
    "    \"locate('data', text) as data_position\"\n",
    ")\n",
    "\n",
    "display(df_new)"
   ]
  },
  {
   "cell_type": "markdown",
   "metadata": {
    "application/vnd.databricks.v1+cell": {
     "cellMetadata": {},
     "inputWidgets": {},
     "nuid": "2ef082aa-fde6-4ed7-9557-91b53ef29e8f",
     "showTitle": false,
     "tableResultSettingsMap": {},
     "title": ""
    }
   },
   "source": [
    "#### **11) Using locate() with expr**"
   ]
  },
  {
   "cell_type": "code",
   "execution_count": 0,
   "metadata": {
    "application/vnd.databricks.v1+cell": {
     "cellMetadata": {
      "byteLimit": 2048000,
      "rowLimit": 10000
     },
     "inputWidgets": {},
     "nuid": "46e248a1-9320-4f0b-bc90-35f0e1025f77",
     "showTitle": true,
     "tableResultSettingsMap": {},
     "title": "Use in SQL Expression with expr()"
    }
   },
   "outputs": [
    {
     "output_type": "display_data",
     "data": {
      "text/html": [
       "<style scoped>\n",
       "  .table-result-container {\n",
       "    max-height: 300px;\n",
       "    overflow: auto;\n",
       "  }\n",
       "  table, th, td {\n",
       "    border: 1px solid black;\n",
       "    border-collapse: collapse;\n",
       "  }\n",
       "  th, td {\n",
       "    padding: 5px;\n",
       "  }\n",
       "  th {\n",
       "    text-align: left;\n",
       "  }\n",
       "</style><div class='table-result-container'><table class='table-result'><thead style='background-color: white'><tr><th>text</th><th>mail</th><th>updated_description</th><th>position_expr</th></tr></thead><tbody><tr><td>Azure data engineer (ADE)</td><td>suman@gmail.com</td><td>Azure date engineer (ADE)</td><td>7</td></tr><tr><td>AWS data engineer (AWS)</td><td>kiranrathod@gmail.com</td><td>AWS date engineer (AWS)</td><td>5</td></tr><tr><td>data warehouse</td><td>rameshwaran@gmail.com</td><td>date warehouse</td><td>1</td></tr><tr><td>GCP engineer</td><td>krishnamurthy@gmail.com</td><td>GCP engineer</td><td>0</td></tr><tr><td>PySpark engineer</td><td>vishweswarrao@gmail.com</td><td>PySpark engineer</td><td>0</td></tr></tbody></table></div>"
      ]
     },
     "metadata": {
      "application/vnd.databricks.v1+output": {
       "addedWidgets": {},
       "aggData": [],
       "aggError": "",
       "aggOverflow": false,
       "aggSchema": [],
       "aggSeriesLimitReached": false,
       "aggType": "",
       "arguments": {},
       "columnCustomDisplayInfos": {},
       "data": [
        [
         "Azure data engineer (ADE)",
         "suman@gmail.com",
         "Azure date engineer (ADE)",
         7
        ],
        [
         "AWS data engineer (AWS)",
         "kiranrathod@gmail.com",
         "AWS date engineer (AWS)",
         5
        ],
        [
         "data warehouse",
         "rameshwaran@gmail.com",
         "date warehouse",
         1
        ],
        [
         "GCP engineer",
         "krishnamurthy@gmail.com",
         "GCP engineer",
         0
        ],
        [
         "PySpark engineer",
         "vishweswarrao@gmail.com",
         "PySpark engineer",
         0
        ]
       ],
       "datasetInfos": [],
       "dbfsResultPath": null,
       "isJsonSchema": true,
       "metadata": {},
       "overflow": false,
       "plotOptions": {
        "customPlotOptions": {},
        "displayType": "table",
        "pivotAggregation": null,
        "pivotColumns": null,
        "xColumns": null,
        "yColumns": null
       },
       "removedWidgets": [],
       "schema": [
        {
         "metadata": "{}",
         "name": "text",
         "type": "\"string\""
        },
        {
         "metadata": "{}",
         "name": "mail",
         "type": "\"string\""
        },
        {
         "metadata": "{}",
         "name": "updated_description",
         "type": "\"string\""
        },
        {
         "metadata": "{}",
         "name": "position_expr",
         "type": "\"integer\""
        }
       ],
       "type": "table"
      }
     },
     "output_type": "display_data"
    }
   ],
   "source": [
    "# Use expr to create a column with locate expression\n",
    "df_expr = df.withColumn(\"position_expr\", expr(\"locate('data', text)\"))\n",
    "display(df_expr)"
   ]
  }
 ],
 "metadata": {
  "application/vnd.databricks.v1+notebook": {
   "computePreferences": null,
   "dashboards": [],
   "environmentMetadata": {
    "base_environment": "",
    "environment_version": "1"
   },
   "inputWidgetPreferences": null,
   "language": "python",
   "notebookMetadata": {
    "pythonIndentUnit": 4
   },
   "notebookName": "150_How to find the position of a substring within a string using locate()",
   "widgets": {}
  }
 },
 "nbformat": 4,
 "nbformat_minor": 0
}