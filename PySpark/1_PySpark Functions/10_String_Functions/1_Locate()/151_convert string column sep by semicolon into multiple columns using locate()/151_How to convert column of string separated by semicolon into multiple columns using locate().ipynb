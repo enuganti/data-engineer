{
 "cells": [
  {
   "cell_type": "markdown",
   "metadata": {
    "application/vnd.databricks.v1+cell": {
     "cellMetadata": {},
     "inputWidgets": {},
     "nuid": "2fcee482-79b8-4262-8b5e-260af9e73da7",
     "showTitle": false,
     "tableResultSettingsMap": {},
     "title": ""
    }
   },
   "source": [
    "#### **locate()**\n",
    "\n",
    "- The **locate()** function in PySpark is used to find the **position of a substring** within a **string**.\n",
    "\n",
    "- It works just like SQL's **INSTR() or POSITION()** functions.\n",
    "\n",
    "- The position is **not zero based**, but **1 based index**. Returns **0 if substr could not be found in str**.\n",
    "\n",
    "- Locate the position of the **first occurrence** of substr in a string column, after position pos.\n",
    "\n",
    "- If **more than one occurrence** is there in a string. It will result the **position** of the **first occurrence**."
   ]
  },
  {
   "cell_type": "markdown",
   "metadata": {
    "application/vnd.databricks.v1+cell": {
     "cellMetadata": {},
     "inputWidgets": {},
     "nuid": "790c6464-2314-4ba1-ab0e-dc8af6c9cba5",
     "showTitle": false,
     "tableResultSettingsMap": {},
     "title": ""
    }
   },
   "source": [
    "#### **Syntax**\n",
    "\n",
    "     locate(substr, str[, pos])\n",
    "\n",
    "**substr:** the substring to find\n",
    "\n",
    "**str:** the column where you want to search\n",
    "\n",
    "**pos (optional):** the position to start searching from (1-based index)"
   ]
  },
  {
   "cell_type": "code",
   "execution_count": 0,
   "metadata": {
    "application/vnd.databricks.v1+cell": {
     "cellMetadata": {
      "byteLimit": 2048000,
      "rowLimit": 10000
     },
     "inputWidgets": {},
     "nuid": "ea4a9bd4-3996-4dd6-b659-68baae25bf3d",
     "showTitle": false,
     "tableResultSettingsMap": {},
     "title": ""
    }
   },
   "outputs": [],
   "source": [
    "from pyspark.sql.functions import substring, concat, lit, col, expr, locate"
   ]
  },
  {
   "cell_type": "code",
   "execution_count": 0,
   "metadata": {
    "application/vnd.databricks.v1+cell": {
     "cellMetadata": {
      "byteLimit": 2048000,
      "rowLimit": 10000
     },
     "inputWidgets": {},
     "nuid": "9fed43b1-ab31-4e0f-9b2f-a41181a2135c",
     "showTitle": true,
     "tableResultSettingsMap": {},
     "title": "sample dataset"
    }
   },
   "outputs": [
    {
     "output_type": "display_data",
     "data": {
      "text/html": [
       "<style scoped>\n",
       "  .table-result-container {\n",
       "    max-height: 300px;\n",
       "    overflow: auto;\n",
       "  }\n",
       "  table, th, td {\n",
       "    border: 1px solid black;\n",
       "    border-collapse: collapse;\n",
       "  }\n",
       "  th, td {\n",
       "    padding: 5px;\n",
       "  }\n",
       "  th {\n",
       "    text-align: left;\n",
       "  }\n",
       "</style><div class='table-result-container'><table class='table-result'><thead style='background-color: white'><tr><th>Id</th><th>Title</th><th>RecurrencePattern</th></tr></thead><tbody><tr><td>1</td><td>Weekly</td><td>FREQUENCY=YEARLY;INTERVAL=5;UNTIL=20980131T000000Z;BYSETPOS=6;BYDAY=TH;BYMONTH=12;</td></tr><tr><td>2</td><td>Smoke test</td><td>FREQUENCY=YEARLY;INTERVAL=7;BYMONTHDAY=12;BYMONTH=1;UNTIL=20230112T000000Z;</td></tr><tr><td>3</td><td>MSC Audit</td><td>FREQUENCY=YEARLY;INTERVAL=2;COUNT=10;BYMONTH=8;BYMONTHDAY=19;</td></tr><tr><td>4</td><td>Regression Test</td><td>FREQUENCY=MONTHLY;INTERVAL=5;COUNT=9;BYMONTHDAY=29;</td></tr><tr><td>5</td><td>Random Test</td><td>FREQUENCY=MONTHLY;INTERVAL=19;COUNT=10;</td></tr><tr><td>6</td><td>Testing</td><td>FREQUENCY=MONTHLY;INTERVAL=14;</td></tr><tr><td>7</td><td>unit test</td><td>FREQUENCY=MONTHLY;INTERVAL=13;</td></tr></tbody></table></div>"
      ]
     },
     "metadata": {
      "application/vnd.databricks.v1+output": {
       "addedWidgets": {},
       "aggData": [],
       "aggError": "",
       "aggOverflow": false,
       "aggSchema": [],
       "aggSeriesLimitReached": false,
       "aggType": "",
       "arguments": {},
       "columnCustomDisplayInfos": {},
       "data": [
        [
         1,
         "Weekly",
         "FREQUENCY=YEARLY;INTERVAL=5;UNTIL=20980131T000000Z;BYSETPOS=6;BYDAY=TH;BYMONTH=12;"
        ],
        [
         2,
         "Smoke test",
         "FREQUENCY=YEARLY;INTERVAL=7;BYMONTHDAY=12;BYMONTH=1;UNTIL=20230112T000000Z;"
        ],
        [
         3,
         "MSC Audit",
         "FREQUENCY=YEARLY;INTERVAL=2;COUNT=10;BYMONTH=8;BYMONTHDAY=19;"
        ],
        [
         4,
         "Regression Test",
         "FREQUENCY=MONTHLY;INTERVAL=5;COUNT=9;BYMONTHDAY=29;"
        ],
        [
         5,
         "Random Test",
         "FREQUENCY=MONTHLY;INTERVAL=19;COUNT=10;"
        ],
        [
         6,
         "Testing",
         "FREQUENCY=MONTHLY;INTERVAL=14;"
        ],
        [
         7,
         "unit test",
         "FREQUENCY=MONTHLY;INTERVAL=13;"
        ]
       ],
       "datasetInfos": [],
       "dbfsResultPath": null,
       "isJsonSchema": true,
       "metadata": {},
       "overflow": false,
       "plotOptions": {
        "customPlotOptions": {},
        "displayType": "table",
        "pivotAggregation": null,
        "pivotColumns": null,
        "xColumns": null,
        "yColumns": null
       },
       "removedWidgets": [],
       "schema": [
        {
         "metadata": "{}",
         "name": "Id",
         "type": "\"long\""
        },
        {
         "metadata": "{}",
         "name": "Title",
         "type": "\"string\""
        },
        {
         "metadata": "{}",
         "name": "RecurrencePattern",
         "type": "\"string\""
        }
       ],
       "type": "table"
      }
     },
     "output_type": "display_data"
    }
   ],
   "source": [
    "data = [(1, \"Weekly\", \"FREQUENCY=YEARLY;INTERVAL=5;UNTIL=20980131T000000Z;BYSETPOS=6;BYDAY=TH;BYMONTH=12;\"),\n",
    "        (2, \"Smoke test\", \"FREQUENCY=YEARLY;INTERVAL=7;BYMONTHDAY=12;BYMONTH=1;UNTIL=20230112T000000Z;\"),\n",
    "        (3, \"MSC Audit\", \"FREQUENCY=YEARLY;INTERVAL=2;COUNT=10;BYMONTH=8;BYMONTHDAY=19;\"),\n",
    "        (4, \"Regression Test\", \"FREQUENCY=MONTHLY;INTERVAL=5;COUNT=9;BYMONTHDAY=29;\"),\n",
    "        (5, \"Random Test\", \"FREQUENCY=MONTHLY;INTERVAL=19;COUNT=10;\"),\n",
    "        (6, \"Testing\", \"FREQUENCY=MONTHLY;INTERVAL=14;\"),\n",
    "        (7, \"unit test\", \"FREQUENCY=MONTHLY;INTERVAL=13;\")]\n",
    "\n",
    "schema = [\"Id\", \"Title\", \"RecurrencePattern\"]\n",
    "\n",
    "df = spark.createDataFrame(data, schema)\n",
    "display(df)"
   ]
  },
  {
   "cell_type": "code",
   "execution_count": 0,
   "metadata": {
    "application/vnd.databricks.v1+cell": {
     "cellMetadata": {
      "byteLimit": 2048000,
      "rowLimit": 10000
     },
     "inputWidgets": {},
     "nuid": "00769dba-97bf-40c8-8dfa-a7991fc77808",
     "showTitle": false,
     "tableResultSettingsMap": {},
     "title": ""
    }
   },
   "outputs": [
    {
     "output_type": "display_data",
     "data": {
      "text/html": [
       "<style scoped>\n",
       "  .table-result-container {\n",
       "    max-height: 300px;\n",
       "    overflow: auto;\n",
       "  }\n",
       "  table, th, td {\n",
       "    border: 1px solid black;\n",
       "    border-collapse: collapse;\n",
       "  }\n",
       "  th, td {\n",
       "    padding: 5px;\n",
       "  }\n",
       "  th {\n",
       "    text-align: left;\n",
       "  }\n",
       "</style><div class='table-result-container'><table class='table-result'><thead style='background-color: white'><tr><th>Id</th><th>Title</th><th>RecurrencePattern</th><th>loc</th></tr></thead><tbody><tr><td>1</td><td>Weekly</td><td>FREQUENCY=YEARLY;INTERVAL=5;UNTIL=20980131T000000Z;BYSETPOS=6;BYDAY=TH;BYMONTH=12;</td><td>17</td></tr><tr><td>2</td><td>Smoke test</td><td>FREQUENCY=YEARLY;INTERVAL=7;BYMONTHDAY=12;BYMONTH=1;UNTIL=20230112T000000Z;</td><td>17</td></tr><tr><td>3</td><td>MSC Audit</td><td>FREQUENCY=YEARLY;INTERVAL=2;COUNT=10;BYMONTH=8;BYMONTHDAY=19;</td><td>17</td></tr><tr><td>4</td><td>Regression Test</td><td>FREQUENCY=MONTHLY;INTERVAL=5;COUNT=9;BYMONTHDAY=29;</td><td>18</td></tr><tr><td>5</td><td>Random Test</td><td>FREQUENCY=MONTHLY;INTERVAL=19;COUNT=10;</td><td>18</td></tr><tr><td>6</td><td>Testing</td><td>FREQUENCY=MONTHLY;INTERVAL=14;</td><td>18</td></tr><tr><td>7</td><td>unit test</td><td>FREQUENCY=MONTHLY;INTERVAL=13;</td><td>18</td></tr></tbody></table></div>"
      ]
     },
     "metadata": {
      "application/vnd.databricks.v1+output": {
       "addedWidgets": {},
       "aggData": [],
       "aggError": "",
       "aggOverflow": false,
       "aggSchema": [],
       "aggSeriesLimitReached": false,
       "aggType": "",
       "arguments": {},
       "columnCustomDisplayInfos": {},
       "data": [
        [
         1,
         "Weekly",
         "FREQUENCY=YEARLY;INTERVAL=5;UNTIL=20980131T000000Z;BYSETPOS=6;BYDAY=TH;BYMONTH=12;",
         17
        ],
        [
         2,
         "Smoke test",
         "FREQUENCY=YEARLY;INTERVAL=7;BYMONTHDAY=12;BYMONTH=1;UNTIL=20230112T000000Z;",
         17
        ],
        [
         3,
         "MSC Audit",
         "FREQUENCY=YEARLY;INTERVAL=2;COUNT=10;BYMONTH=8;BYMONTHDAY=19;",
         17
        ],
        [
         4,
         "Regression Test",
         "FREQUENCY=MONTHLY;INTERVAL=5;COUNT=9;BYMONTHDAY=29;",
         18
        ],
        [
         5,
         "Random Test",
         "FREQUENCY=MONTHLY;INTERVAL=19;COUNT=10;",
         18
        ],
        [
         6,
         "Testing",
         "FREQUENCY=MONTHLY;INTERVAL=14;",
         18
        ],
        [
         7,
         "unit test",
         "FREQUENCY=MONTHLY;INTERVAL=13;",
         18
        ]
       ],
       "datasetInfos": [],
       "dbfsResultPath": null,
       "isJsonSchema": true,
       "metadata": {},
       "overflow": false,
       "plotOptions": {
        "customPlotOptions": {},
        "displayType": "table",
        "pivotAggregation": null,
        "pivotColumns": null,
        "xColumns": null,
        "yColumns": null
       },
       "removedWidgets": [],
       "schema": [
        {
         "metadata": "{}",
         "name": "Id",
         "type": "\"long\""
        },
        {
         "metadata": "{}",
         "name": "Title",
         "type": "\"string\""
        },
        {
         "metadata": "{}",
         "name": "RecurrencePattern",
         "type": "\"string\""
        },
        {
         "metadata": "{}",
         "name": "loc",
         "type": "\"integer\""
        }
       ],
       "type": "table"
      }
     },
     "output_type": "display_data"
    }
   ],
   "source": [
    "df1 = df.withColumn(\"loc\", locate(\";\", col(\"RecurrencePattern\")))\n",
    "display(df1)"
   ]
  },
  {
   "cell_type": "code",
   "execution_count": 0,
   "metadata": {
    "application/vnd.databricks.v1+cell": {
     "cellMetadata": {
      "byteLimit": 2048000,
      "rowLimit": 10000
     },
     "inputWidgets": {},
     "nuid": "ed41a16d-b6b3-437a-899f-0131d460c68e",
     "showTitle": false,
     "tableResultSettingsMap": {},
     "title": ""
    }
   },
   "outputs": [
    {
     "output_type": "display_data",
     "data": {
      "text/html": [
       "<style scoped>\n",
       "  .table-result-container {\n",
       "    max-height: 300px;\n",
       "    overflow: auto;\n",
       "  }\n",
       "  table, th, td {\n",
       "    border: 1px solid black;\n",
       "    border-collapse: collapse;\n",
       "  }\n",
       "  th, td {\n",
       "    padding: 5px;\n",
       "  }\n",
       "  th {\n",
       "    text-align: left;\n",
       "  }\n",
       "</style><div class='table-result-container'><table class='table-result'><thead style='background-color: white'><tr><th>Id</th><th>Title</th><th>RecurrencePattern</th><th>loc_first</th><th>FREQUENCY_TYPE</th><th>FREQUENCY</th></tr></thead><tbody><tr><td>1</td><td>Weekly</td><td>FREQUENCY=YEARLY;INTERVAL=5;UNTIL=20980131T000000Z;BYSETPOS=6;BYDAY=TH;BYMONTH=12;</td><td>17</td><td>FREQUENCY=YEARLY</td><td>INTERVAL=5;UNTIL=20980131T000000Z;BYSETPOS=6;BYDAY=TH;BYMONTH=12;</td></tr><tr><td>2</td><td>Smoke test</td><td>FREQUENCY=YEARLY;INTERVAL=7;BYMONTHDAY=12;BYMONTH=1;UNTIL=20230112T000000Z;</td><td>17</td><td>FREQUENCY=YEARLY</td><td>INTERVAL=7;BYMONTHDAY=12;BYMONTH=1;UNTIL=20230112T000000Z;</td></tr><tr><td>3</td><td>MSC Audit</td><td>FREQUENCY=YEARLY;INTERVAL=2;COUNT=10;BYMONTH=8;BYMONTHDAY=19;</td><td>17</td><td>FREQUENCY=YEARLY</td><td>INTERVAL=2;COUNT=10;BYMONTH=8;BYMONTHDAY=19;</td></tr><tr><td>4</td><td>Regression Test</td><td>FREQUENCY=MONTHLY;INTERVAL=5;COUNT=9;BYMONTHDAY=29;</td><td>18</td><td>FREQUENCY=MONTHLY</td><td>INTERVAL=5;COUNT=9;BYMONTHDAY=29;</td></tr><tr><td>5</td><td>Random Test</td><td>FREQUENCY=MONTHLY;INTERVAL=19;COUNT=10;</td><td>18</td><td>FREQUENCY=MONTHLY</td><td>INTERVAL=19;COUNT=10;</td></tr><tr><td>6</td><td>Testing</td><td>FREQUENCY=MONTHLY;INTERVAL=14;</td><td>18</td><td>FREQUENCY=MONTHLY</td><td>INTERVAL=14;</td></tr><tr><td>7</td><td>unit test</td><td>FREQUENCY=MONTHLY;INTERVAL=13;</td><td>18</td><td>FREQUENCY=MONTHLY</td><td>INTERVAL=13;</td></tr></tbody></table></div>"
      ]
     },
     "metadata": {
      "application/vnd.databricks.v1+output": {
       "addedWidgets": {},
       "aggData": [],
       "aggError": "",
       "aggOverflow": false,
       "aggSchema": [],
       "aggSeriesLimitReached": false,
       "aggType": "",
       "arguments": {},
       "columnCustomDisplayInfos": {},
       "data": [
        [
         1,
         "Weekly",
         "FREQUENCY=YEARLY;INTERVAL=5;UNTIL=20980131T000000Z;BYSETPOS=6;BYDAY=TH;BYMONTH=12;",
         17,
         "FREQUENCY=YEARLY",
         "INTERVAL=5;UNTIL=20980131T000000Z;BYSETPOS=6;BYDAY=TH;BYMONTH=12;"
        ],
        [
         2,
         "Smoke test",
         "FREQUENCY=YEARLY;INTERVAL=7;BYMONTHDAY=12;BYMONTH=1;UNTIL=20230112T000000Z;",
         17,
         "FREQUENCY=YEARLY",
         "INTERVAL=7;BYMONTHDAY=12;BYMONTH=1;UNTIL=20230112T000000Z;"
        ],
        [
         3,
         "MSC Audit",
         "FREQUENCY=YEARLY;INTERVAL=2;COUNT=10;BYMONTH=8;BYMONTHDAY=19;",
         17,
         "FREQUENCY=YEARLY",
         "INTERVAL=2;COUNT=10;BYMONTH=8;BYMONTHDAY=19;"
        ],
        [
         4,
         "Regression Test",
         "FREQUENCY=MONTHLY;INTERVAL=5;COUNT=9;BYMONTHDAY=29;",
         18,
         "FREQUENCY=MONTHLY",
         "INTERVAL=5;COUNT=9;BYMONTHDAY=29;"
        ],
        [
         5,
         "Random Test",
         "FREQUENCY=MONTHLY;INTERVAL=19;COUNT=10;",
         18,
         "FREQUENCY=MONTHLY",
         "INTERVAL=19;COUNT=10;"
        ],
        [
         6,
         "Testing",
         "FREQUENCY=MONTHLY;INTERVAL=14;",
         18,
         "FREQUENCY=MONTHLY",
         "INTERVAL=14;"
        ],
        [
         7,
         "unit test",
         "FREQUENCY=MONTHLY;INTERVAL=13;",
         18,
         "FREQUENCY=MONTHLY",
         "INTERVAL=13;"
        ]
       ],
       "datasetInfos": [],
       "dbfsResultPath": null,
       "isJsonSchema": true,
       "metadata": {},
       "overflow": false,
       "plotOptions": {
        "customPlotOptions": {},
        "displayType": "table",
        "pivotAggregation": null,
        "pivotColumns": null,
        "xColumns": null,
        "yColumns": null
       },
       "removedWidgets": [],
       "schema": [
        {
         "metadata": "{}",
         "name": "Id",
         "type": "\"long\""
        },
        {
         "metadata": "{}",
         "name": "Title",
         "type": "\"string\""
        },
        {
         "metadata": "{}",
         "name": "RecurrencePattern",
         "type": "\"string\""
        },
        {
         "metadata": "{}",
         "name": "loc_first",
         "type": "\"integer\""
        },
        {
         "metadata": "{}",
         "name": "FREQUENCY_TYPE",
         "type": "\"string\""
        },
        {
         "metadata": "{}",
         "name": "FREQUENCY",
         "type": "\"string\""
        }
       ],
       "type": "table"
      }
     },
     "output_type": "display_data"
    }
   ],
   "source": [
    "df_FREQUENCY = df\\\n",
    "    .withColumn(\"loc_first\", locate(\";\", col(\"RecurrencePattern\"), 1)) \\\n",
    "    .withColumn(\"FREQUENCY_TYPE\", expr(\"substring(RecurrencePattern, 0, (loc_first-1))\")) \\\n",
    "    .withColumn(\"FREQUENCY\", expr(\"substring(RecurrencePattern, loc_first+1, length(RecurrencePattern)-1)\"))\n",
    "display(df_FREQUENCY)"
   ]
  },
  {
   "cell_type": "code",
   "execution_count": 0,
   "metadata": {
    "application/vnd.databricks.v1+cell": {
     "cellMetadata": {
      "byteLimit": 2048000,
      "rowLimit": 10000
     },
     "inputWidgets": {},
     "nuid": "7f9c34c4-48c3-4843-bdd1-9815075fd14b",
     "showTitle": false,
     "tableResultSettingsMap": {},
     "title": ""
    }
   },
   "outputs": [
    {
     "output_type": "display_data",
     "data": {
      "text/html": [
       "<style scoped>\n",
       "  .table-result-container {\n",
       "    max-height: 300px;\n",
       "    overflow: auto;\n",
       "  }\n",
       "  table, th, td {\n",
       "    border: 1px solid black;\n",
       "    border-collapse: collapse;\n",
       "  }\n",
       "  th, td {\n",
       "    padding: 5px;\n",
       "  }\n",
       "  th {\n",
       "    text-align: left;\n",
       "  }\n",
       "</style><div class='table-result-container'><table class='table-result'><thead style='background-color: white'><tr><th>FREQUENCY</th><th>loc_second</th><th>INTERVAL</th><th>UNTIL</th></tr></thead><tbody><tr><td>INTERVAL=5;UNTIL=20980131T000000Z;BYSETPOS=6;BYDAY=TH;BYMONTH=12;</td><td>11</td><td>INTERVAL=5</td><td>UNTIL=20980131T000000Z;BYSETPOS=6;BYDAY=TH;BYMONTH=12;</td></tr><tr><td>INTERVAL=7;BYMONTHDAY=12;BYMONTH=1;UNTIL=20230112T000000Z;</td><td>11</td><td>INTERVAL=7</td><td>BYMONTHDAY=12;BYMONTH=1;UNTIL=20230112T000000Z;</td></tr><tr><td>INTERVAL=2;COUNT=10;BYMONTH=8;BYMONTHDAY=19;</td><td>11</td><td>INTERVAL=2</td><td>COUNT=10;BYMONTH=8;BYMONTHDAY=19;</td></tr><tr><td>INTERVAL=5;COUNT=9;BYMONTHDAY=29;</td><td>11</td><td>INTERVAL=5</td><td>COUNT=9;BYMONTHDAY=29;</td></tr><tr><td>INTERVAL=19;COUNT=10;</td><td>12</td><td>INTERVAL=19</td><td>COUNT=10;</td></tr><tr><td>INTERVAL=14;</td><td>12</td><td>INTERVAL=14</td><td></td></tr><tr><td>INTERVAL=13;</td><td>12</td><td>INTERVAL=13</td><td></td></tr></tbody></table></div>"
      ]
     },
     "metadata": {
      "application/vnd.databricks.v1+output": {
       "addedWidgets": {},
       "aggData": [],
       "aggError": "",
       "aggOverflow": false,
       "aggSchema": [],
       "aggSeriesLimitReached": false,
       "aggType": "",
       "arguments": {},
       "columnCustomDisplayInfos": {},
       "data": [
        [
         "INTERVAL=5;UNTIL=20980131T000000Z;BYSETPOS=6;BYDAY=TH;BYMONTH=12;",
         11,
         "INTERVAL=5",
         "UNTIL=20980131T000000Z;BYSETPOS=6;BYDAY=TH;BYMONTH=12;"
        ],
        [
         "INTERVAL=7;BYMONTHDAY=12;BYMONTH=1;UNTIL=20230112T000000Z;",
         11,
         "INTERVAL=7",
         "BYMONTHDAY=12;BYMONTH=1;UNTIL=20230112T000000Z;"
        ],
        [
         "INTERVAL=2;COUNT=10;BYMONTH=8;BYMONTHDAY=19;",
         11,
         "INTERVAL=2",
         "COUNT=10;BYMONTH=8;BYMONTHDAY=19;"
        ],
        [
         "INTERVAL=5;COUNT=9;BYMONTHDAY=29;",
         11,
         "INTERVAL=5",
         "COUNT=9;BYMONTHDAY=29;"
        ],
        [
         "INTERVAL=19;COUNT=10;",
         12,
         "INTERVAL=19",
         "COUNT=10;"
        ],
        [
         "INTERVAL=14;",
         12,
         "INTERVAL=14",
         ""
        ],
        [
         "INTERVAL=13;",
         12,
         "INTERVAL=13",
         ""
        ]
       ],
       "datasetInfos": [],
       "dbfsResultPath": null,
       "isJsonSchema": true,
       "metadata": {},
       "overflow": false,
       "plotOptions": {
        "customPlotOptions": {},
        "displayType": "table",
        "pivotAggregation": null,
        "pivotColumns": null,
        "xColumns": null,
        "yColumns": null
       },
       "removedWidgets": [],
       "schema": [
        {
         "metadata": "{}",
         "name": "FREQUENCY",
         "type": "\"string\""
        },
        {
         "metadata": "{}",
         "name": "loc_second",
         "type": "\"integer\""
        },
        {
         "metadata": "{}",
         "name": "INTERVAL",
         "type": "\"string\""
        },
        {
         "metadata": "{}",
         "name": "UNTIL",
         "type": "\"string\""
        }
       ],
       "type": "table"
      }
     },
     "output_type": "display_data"
    }
   ],
   "source": [
    "df_INTERVAL = df_FREQUENCY\\\n",
    "    .withColumn(\"loc_second\", locate(\";\", col(\"FREQUENCY\"), 1)) \\\n",
    "    .withColumn(\"INTERVAL\", expr(\"substring(FREQUENCY, 0, (loc_second-1))\")) \\\n",
    "    .withColumn(\"UNTIL\", expr(\"substring(FREQUENCY, loc_second+1, length(FREQUENCY)-1)\")) \\\n",
    "    .select(\"FREQUENCY\", \"loc_second\", \"INTERVAL\", \"UNTIL\")\n",
    "display(df_INTERVAL)"
   ]
  },
  {
   "cell_type": "code",
   "execution_count": 0,
   "metadata": {
    "application/vnd.databricks.v1+cell": {
     "cellMetadata": {
      "byteLimit": 2048000,
      "rowLimit": 10000
     },
     "inputWidgets": {},
     "nuid": "4df6292b-5c23-4d8c-bbc3-37da8efa1f0f",
     "showTitle": false,
     "tableResultSettingsMap": {},
     "title": ""
    }
   },
   "outputs": [
    {
     "output_type": "display_data",
     "data": {
      "text/html": [
       "<style scoped>\n",
       "  .table-result-container {\n",
       "    max-height: 300px;\n",
       "    overflow: auto;\n",
       "  }\n",
       "  table, th, td {\n",
       "    border: 1px solid black;\n",
       "    border-collapse: collapse;\n",
       "  }\n",
       "  th, td {\n",
       "    padding: 5px;\n",
       "  }\n",
       "  th {\n",
       "    text-align: left;\n",
       "  }\n",
       "</style><div class='table-result-container'><table class='table-result'><thead style='background-color: white'><tr><th>UNTIL</th><th>loc_third</th><th>COUNT</th><th>BYMONTH</th></tr></thead><tbody><tr><td>UNTIL=20980131T000000Z;BYSETPOS=6;BYDAY=TH;BYMONTH=12;</td><td>23</td><td>UNTIL=20980131T000000Z</td><td>BYSETPOS=6;BYDAY=TH;BYMONTH=12;</td></tr><tr><td>BYMONTHDAY=12;BYMONTH=1;UNTIL=20230112T000000Z;</td><td>14</td><td>BYMONTHDAY=12</td><td>BYMONTH=1;UNTIL=20230112T000000Z;</td></tr><tr><td>COUNT=10;BYMONTH=8;BYMONTHDAY=19;</td><td>9</td><td>COUNT=10</td><td>BYMONTH=8;BYMONTHDAY=19;</td></tr><tr><td>COUNT=9;BYMONTHDAY=29;</td><td>8</td><td>COUNT=9</td><td>BYMONTHDAY=29;</td></tr><tr><td>COUNT=10;</td><td>9</td><td>COUNT=10</td><td></td></tr><tr><td></td><td>0</td><td></td><td></td></tr><tr><td></td><td>0</td><td></td><td></td></tr></tbody></table></div>"
      ]
     },
     "metadata": {
      "application/vnd.databricks.v1+output": {
       "addedWidgets": {},
       "aggData": [],
       "aggError": "",
       "aggOverflow": false,
       "aggSchema": [],
       "aggSeriesLimitReached": false,
       "aggType": "",
       "arguments": {},
       "columnCustomDisplayInfos": {},
       "data": [
        [
         "UNTIL=20980131T000000Z;BYSETPOS=6;BYDAY=TH;BYMONTH=12;",
         23,
         "UNTIL=20980131T000000Z",
         "BYSETPOS=6;BYDAY=TH;BYMONTH=12;"
        ],
        [
         "BYMONTHDAY=12;BYMONTH=1;UNTIL=20230112T000000Z;",
         14,
         "BYMONTHDAY=12",
         "BYMONTH=1;UNTIL=20230112T000000Z;"
        ],
        [
         "COUNT=10;BYMONTH=8;BYMONTHDAY=19;",
         9,
         "COUNT=10",
         "BYMONTH=8;BYMONTHDAY=19;"
        ],
        [
         "COUNT=9;BYMONTHDAY=29;",
         8,
         "COUNT=9",
         "BYMONTHDAY=29;"
        ],
        [
         "COUNT=10;",
         9,
         "COUNT=10",
         ""
        ],
        [
         "",
         0,
         "",
         ""
        ],
        [
         "",
         0,
         "",
         ""
        ]
       ],
       "datasetInfos": [],
       "dbfsResultPath": null,
       "isJsonSchema": true,
       "metadata": {},
       "overflow": false,
       "plotOptions": {
        "customPlotOptions": {},
        "displayType": "table",
        "pivotAggregation": null,
        "pivotColumns": null,
        "xColumns": null,
        "yColumns": null
       },
       "removedWidgets": [],
       "schema": [
        {
         "metadata": "{}",
         "name": "UNTIL",
         "type": "\"string\""
        },
        {
         "metadata": "{}",
         "name": "loc_third",
         "type": "\"integer\""
        },
        {
         "metadata": "{}",
         "name": "COUNT",
         "type": "\"string\""
        },
        {
         "metadata": "{}",
         "name": "BYMONTH",
         "type": "\"string\""
        }
       ],
       "type": "table"
      }
     },
     "output_type": "display_data"
    }
   ],
   "source": [
    "df_COUNT = df_INTERVAL\\\n",
    "    .withColumn(\"loc_third\", locate(\";\", col(\"UNTIL\"), 1)) \\\n",
    "    .withColumn(\"COUNT\", expr(\"substring(UNTIL, 0, (loc_third-1))\")) \\\n",
    "    .withColumn(\"BYMONTH\", expr(\"substring(UNTIL, loc_third+1, length(UNTIL)-1)\")) \\\n",
    "    .select(\"UNTIL\", \"loc_third\", \"COUNT\", \"BYMONTH\")\n",
    "display(df_COUNT)"
   ]
  },
  {
   "cell_type": "code",
   "execution_count": 0,
   "metadata": {
    "application/vnd.databricks.v1+cell": {
     "cellMetadata": {
      "byteLimit": 2048000,
      "rowLimit": 10000
     },
     "inputWidgets": {},
     "nuid": "f191582b-7927-4edb-9ede-3b45faf5810b",
     "showTitle": false,
     "tableResultSettingsMap": {},
     "title": ""
    }
   },
   "outputs": [
    {
     "output_type": "display_data",
     "data": {
      "text/html": [
       "<style scoped>\n",
       "  .table-result-container {\n",
       "    max-height: 300px;\n",
       "    overflow: auto;\n",
       "  }\n",
       "  table, th, td {\n",
       "    border: 1px solid black;\n",
       "    border-collapse: collapse;\n",
       "  }\n",
       "  th, td {\n",
       "    padding: 5px;\n",
       "  }\n",
       "  th {\n",
       "    text-align: left;\n",
       "  }\n",
       "</style><div class='table-result-container'><table class='table-result'><thead style='background-color: white'><tr><th>BYMONTH</th><th>loc_fourth</th><th>BYSETPOS</th><th>BYDAY</th></tr></thead><tbody><tr><td>BYSETPOS=6;BYDAY=TH;BYMONTH=12;</td><td>11</td><td>BYSETPOS=6</td><td>BYDAY=TH;BYMONTH=12;</td></tr><tr><td>BYMONTH=1;UNTIL=20230112T000000Z;</td><td>10</td><td>BYMONTH=1</td><td>UNTIL=20230112T000000Z;</td></tr><tr><td>BYMONTH=8;BYMONTHDAY=19;</td><td>10</td><td>BYMONTH=8</td><td>BYMONTHDAY=19;</td></tr><tr><td>BYMONTHDAY=29;</td><td>14</td><td>BYMONTHDAY=29</td><td></td></tr><tr><td></td><td>0</td><td></td><td></td></tr><tr><td></td><td>0</td><td></td><td></td></tr><tr><td></td><td>0</td><td></td><td></td></tr></tbody></table></div>"
      ]
     },
     "metadata": {
      "application/vnd.databricks.v1+output": {
       "addedWidgets": {},
       "aggData": [],
       "aggError": "",
       "aggOverflow": false,
       "aggSchema": [],
       "aggSeriesLimitReached": false,
       "aggType": "",
       "arguments": {},
       "columnCustomDisplayInfos": {},
       "data": [
        [
         "BYSETPOS=6;BYDAY=TH;BYMONTH=12;",
         11,
         "BYSETPOS=6",
         "BYDAY=TH;BYMONTH=12;"
        ],
        [
         "BYMONTH=1;UNTIL=20230112T000000Z;",
         10,
         "BYMONTH=1",
         "UNTIL=20230112T000000Z;"
        ],
        [
         "BYMONTH=8;BYMONTHDAY=19;",
         10,
         "BYMONTH=8",
         "BYMONTHDAY=19;"
        ],
        [
         "BYMONTHDAY=29;",
         14,
         "BYMONTHDAY=29",
         ""
        ],
        [
         "",
         0,
         "",
         ""
        ],
        [
         "",
         0,
         "",
         ""
        ],
        [
         "",
         0,
         "",
         ""
        ]
       ],
       "datasetInfos": [],
       "dbfsResultPath": null,
       "isJsonSchema": true,
       "metadata": {},
       "overflow": false,
       "plotOptions": {
        "customPlotOptions": {},
        "displayType": "table",
        "pivotAggregation": null,
        "pivotColumns": null,
        "xColumns": null,
        "yColumns": null
       },
       "removedWidgets": [],
       "schema": [
        {
         "metadata": "{}",
         "name": "BYMONTH",
         "type": "\"string\""
        },
        {
         "metadata": "{}",
         "name": "loc_fourth",
         "type": "\"integer\""
        },
        {
         "metadata": "{}",
         "name": "BYSETPOS",
         "type": "\"string\""
        },
        {
         "metadata": "{}",
         "name": "BYDAY",
         "type": "\"string\""
        }
       ],
       "type": "table"
      }
     },
     "output_type": "display_data"
    }
   ],
   "source": [
    "df_BYSETPOS = df_COUNT\\\n",
    "    .withColumn(\"loc_fourth\", locate(\";\", col(\"BYMONTH\"), 1)) \\\n",
    "    .withColumn(\"BYSETPOS\", expr(\"substring(BYMONTH, 0, (loc_fourth-1))\")) \\\n",
    "    .withColumn(\"BYDAY\", expr(\"substring(BYMONTH, loc_fourth+1, length(BYMONTH)-1)\")) \\\n",
    "    .select(\"BYMONTH\", \"loc_fourth\", \"BYSETPOS\", \"BYDAY\")\n",
    "display(df_BYSETPOS)"
   ]
  },
  {
   "cell_type": "code",
   "execution_count": 0,
   "metadata": {
    "application/vnd.databricks.v1+cell": {
     "cellMetadata": {
      "byteLimit": 2048000,
      "rowLimit": 10000
     },
     "inputWidgets": {},
     "nuid": "7b4623a4-d222-4f56-a98f-5f909eb98866",
     "showTitle": false,
     "tableResultSettingsMap": {},
     "title": ""
    }
   },
   "outputs": [
    {
     "output_type": "display_data",
     "data": {
      "text/html": [
       "<style scoped>\n",
       "  .table-result-container {\n",
       "    max-height: 300px;\n",
       "    overflow: auto;\n",
       "  }\n",
       "  table, th, td {\n",
       "    border: 1px solid black;\n",
       "    border-collapse: collapse;\n",
       "  }\n",
       "  th, td {\n",
       "    padding: 5px;\n",
       "  }\n",
       "  th {\n",
       "    text-align: left;\n",
       "  }\n",
       "</style><div class='table-result-container'><table class='table-result'><thead style='background-color: white'><tr><th>BYDAY</th><th>loc_fifth</th><th>BYMONTHDAY</th><th>final_col</th></tr></thead><tbody><tr><td>BYDAY=TH;BYMONTH=12;</td><td>9</td><td>BYDAY=TH</td><td>BYMONTH=12;</td></tr><tr><td>UNTIL=20230112T000000Z;</td><td>23</td><td>UNTIL=20230112T000000Z</td><td></td></tr><tr><td>BYMONTHDAY=19;</td><td>14</td><td>BYMONTHDAY=19</td><td></td></tr><tr><td></td><td>0</td><td></td><td></td></tr><tr><td></td><td>0</td><td></td><td></td></tr><tr><td></td><td>0</td><td></td><td></td></tr><tr><td></td><td>0</td><td></td><td></td></tr></tbody></table></div>"
      ]
     },
     "metadata": {
      "application/vnd.databricks.v1+output": {
       "addedWidgets": {},
       "aggData": [],
       "aggError": "",
       "aggOverflow": false,
       "aggSchema": [],
       "aggSeriesLimitReached": false,
       "aggType": "",
       "arguments": {},
       "columnCustomDisplayInfos": {},
       "data": [
        [
         "BYDAY=TH;BYMONTH=12;",
         9,
         "BYDAY=TH",
         "BYMONTH=12;"
        ],
        [
         "UNTIL=20230112T000000Z;",
         23,
         "UNTIL=20230112T000000Z",
         ""
        ],
        [
         "BYMONTHDAY=19;",
         14,
         "BYMONTHDAY=19",
         ""
        ],
        [
         "",
         0,
         "",
         ""
        ],
        [
         "",
         0,
         "",
         ""
        ],
        [
         "",
         0,
         "",
         ""
        ],
        [
         "",
         0,
         "",
         ""
        ]
       ],
       "datasetInfos": [],
       "dbfsResultPath": null,
       "isJsonSchema": true,
       "metadata": {},
       "overflow": false,
       "plotOptions": {
        "customPlotOptions": {},
        "displayType": "table",
        "pivotAggregation": null,
        "pivotColumns": null,
        "xColumns": null,
        "yColumns": null
       },
       "removedWidgets": [],
       "schema": [
        {
         "metadata": "{}",
         "name": "BYDAY",
         "type": "\"string\""
        },
        {
         "metadata": "{}",
         "name": "loc_fifth",
         "type": "\"integer\""
        },
        {
         "metadata": "{}",
         "name": "BYMONTHDAY",
         "type": "\"string\""
        },
        {
         "metadata": "{}",
         "name": "final_col",
         "type": "\"string\""
        }
       ],
       "type": "table"
      }
     },
     "output_type": "display_data"
    }
   ],
   "source": [
    "df_final = df_BYSETPOS\\\n",
    "    .withColumn(\"loc_fifth\", locate(\";\", col(\"BYDAY\"), 1)) \\\n",
    "    .withColumn(\"BYMONTHDAY\", expr(\"substring(BYDAY, 0, (loc_fifth-1))\")) \\\n",
    "    .withColumn(\"final_col\", expr(\"substring(BYDAY, loc_fifth+1, length(BYDAY)-1)\")) \\\n",
    "    .select(\"BYDAY\", \"loc_fifth\", \"BYMONTHDAY\", \"final_col\")\n",
    "display(df_final)"
   ]
  }
 ],
 "metadata": {
  "application/vnd.databricks.v1+notebook": {
   "computePreferences": null,
   "dashboards": [],
   "environmentMetadata": {
    "base_environment": "",
    "environment_version": "1"
   },
   "inputWidgetPreferences": null,
   "language": "python",
   "notebookMetadata": {
    "pythonIndentUnit": 4
   },
   "notebookName": "151_How to convert column of string separated by semicolon into multiple columns using locate()",
   "widgets": {}
  }
 },
 "nbformat": 4,
 "nbformat_minor": 0
}