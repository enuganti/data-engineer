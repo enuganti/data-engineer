{
 "cells": [
  {
   "cell_type": "markdown",
   "metadata": {
    "application/vnd.databricks.v1+cell": {
     "cellMetadata": {},
     "inputWidgets": {},
     "nuid": "095a4421-4e39-43d6-92a1-eaa50ba884b3",
     "showTitle": false,
     "tableResultSettingsMap": {},
     "title": ""
    }
   },
   "source": [
    "**translate()**\n",
    "\n",
    "- is helpful for **replacing or removing characters** in a **string** column, making it easy to **clean up or modify** text data.\n",
    "\n",
    "- You can perform **simple replacements, remove unwanted characters**, or handle more complex string **transformations**."
   ]
  },
  {
   "cell_type": "markdown",
   "metadata": {
    "application/vnd.databricks.v1+cell": {
     "cellMetadata": {},
     "inputWidgets": {},
     "nuid": "bb55166a-86ca-4314-a8d8-8ea7a8b1f130",
     "showTitle": false,
     "tableResultSettingsMap": {},
     "title": ""
    }
   },
   "source": [
    "**Syntax**\n",
    "\n",
    "     from pyspark.sql.functions import translate\n",
    "     translate(column, matching_chars, replacement_chars)\n",
    "\n",
    "- **column:** The column name (or expression) where you want to perform the translation.\n",
    "- **matching_chars:** A **string of characters** to be **replaced**.\n",
    "- **replacement_chars:** The **string of characters** that will **replace** the **matching characters**.\n",
    "\n",
    "  - If **replacement_chars** is shorter than **matching_chars**, extra characters in **matching_chars** are **removed**.\n",
    "  - If the **matching_chars and replacement_chars** strings are of **unequal length**, PySpark will consider the **shorter one**, and the characters in the **longer string** without a counterpart will be **ignored**.\n",
    "\n",
    "- Characters in **matching_chars** are **mapped one-to-one** to characters in **replacement_chars**.\n"
   ]
  },
  {
   "cell_type": "code",
   "execution_count": 0,
   "metadata": {
    "application/vnd.databricks.v1+cell": {
     "cellMetadata": {
      "byteLimit": 2048000,
      "rowLimit": 10000
     },
     "inputWidgets": {},
     "nuid": "be5e94e7-8c9a-4a16-8d68-d96da886552f",
     "showTitle": false,
     "tableResultSettingsMap": {},
     "title": ""
    }
   },
   "outputs": [],
   "source": [
    "import pyspark.sql.functions as F\n",
    "from pyspark.sql.functions import translate, col"
   ]
  },
  {
   "cell_type": "markdown",
   "metadata": {
    "application/vnd.databricks.v1+cell": {
     "cellMetadata": {},
     "inputWidgets": {},
     "nuid": "3433bc8e-6984-433b-9743-f4d80698e116",
     "showTitle": false,
     "tableResultSettingsMap": {},
     "title": ""
    }
   },
   "source": [
    "**1) Replace specific characters**\n",
    "- Replace characters **a, b, c** with **x, y, z**."
   ]
  },
  {
   "cell_type": "code",
   "execution_count": 0,
   "metadata": {
    "application/vnd.databricks.v1+cell": {
     "cellMetadata": {
      "byteLimit": 2048000,
      "rowLimit": 10000
     },
     "inputWidgets": {},
     "nuid": "3347ce49-5f3c-4176-859b-a03017967151",
     "showTitle": false,
     "tableResultSettingsMap": {},
     "title": ""
    }
   },
   "outputs": [
    {
     "output_type": "display_data",
     "data": {
      "text/html": [
       "<style scoped>\n",
       "  .table-result-container {\n",
       "    max-height: 300px;\n",
       "    overflow: auto;\n",
       "  }\n",
       "  table, th, td {\n",
       "    border: 1px solid black;\n",
       "    border-collapse: collapse;\n",
       "  }\n",
       "  th, td {\n",
       "    padding: 5px;\n",
       "  }\n",
       "  th {\n",
       "    text-align: left;\n",
       "  }\n",
       "</style><div class='table-result-container'><table class='table-result'><thead style='background-color: white'><tr><th>Description</th><th>translated_text</th></tr></thead><tbody><tr><td>abc@123</td><td>xyz@123</td></tr><tr><td>spark@456</td><td>spxrk@456</td></tr><tr><td>xyz@789</td><td>xyz@789</td></tr><tr><td>Chethan@456</td><td>Chethxn@456</td></tr><tr><td>Balu@123</td><td>Bxlu@123</td></tr></tbody></table></div>"
      ]
     },
     "metadata": {
      "application/vnd.databricks.v1+output": {
       "addedWidgets": {},
       "aggData": [],
       "aggError": "",
       "aggOverflow": false,
       "aggSchema": [],
       "aggSeriesLimitReached": false,
       "aggType": "",
       "arguments": {},
       "columnCustomDisplayInfos": {},
       "data": [
        [
         "abc@123",
         "xyz@123"
        ],
        [
         "spark@456",
         "spxrk@456"
        ],
        [
         "xyz@789",
         "xyz@789"
        ],
        [
         "Chethan@456",
         "Chethxn@456"
        ],
        [
         "Balu@123",
         "Bxlu@123"
        ]
       ],
       "datasetInfos": [],
       "dbfsResultPath": null,
       "isJsonSchema": true,
       "metadata": {},
       "overflow": false,
       "plotOptions": {
        "customPlotOptions": {},
        "displayType": "table",
        "pivotAggregation": null,
        "pivotColumns": null,
        "xColumns": null,
        "yColumns": null
       },
       "removedWidgets": [],
       "schema": [
        {
         "metadata": "{}",
         "name": "Description",
         "type": "\"string\""
        },
        {
         "metadata": "{}",
         "name": "translated_text",
         "type": "\"string\""
        }
       ],
       "type": "table"
      }
     },
     "output_type": "display_data"
    }
   ],
   "source": [
    "data = [(\"abc@123\",), (\"spark@456\",), (\"xyz@789\",), (\"Chethan@456\",), (\"Balu@123\",)]\n",
    "df = spark.createDataFrame(data, [\"Description\"])\n",
    "\n",
    "# Use translate to replace 'a' with 'x', 'b' with 'y' and 'c' with 'z'\n",
    "df_abc = df.withColumn(\"translated_text\", translate(\"Description\", \"abc\", \"xyz\"))\n",
    "display(df_abc)"
   ]
  },
  {
   "cell_type": "markdown",
   "metadata": {
    "application/vnd.databricks.v1+cell": {
     "cellMetadata": {},
     "inputWidgets": {},
     "nuid": "1f84381a-34a8-4798-b657-1f26649e2e6b",
     "showTitle": false,
     "tableResultSettingsMap": {},
     "title": ""
    }
   },
   "source": [
    "- Let's **replace all occurrences** of **'a' with '#'** and **'e' with '$'** in a **text** column."
   ]
  },
  {
   "cell_type": "code",
   "execution_count": 0,
   "metadata": {
    "application/vnd.databricks.v1+cell": {
     "cellMetadata": {
      "byteLimit": 2048000,
      "rowLimit": 10000
     },
     "inputWidgets": {},
     "nuid": "d4f9e605-510f-4085-a3e0-d52567f55415",
     "showTitle": false,
     "tableResultSettingsMap": {},
     "title": ""
    }
   },
   "outputs": [
    {
     "output_type": "display_data",
     "data": {
      "text/html": [
       "<style scoped>\n",
       "  .table-result-container {\n",
       "    max-height: 300px;\n",
       "    overflow: auto;\n",
       "  }\n",
       "  table, th, td {\n",
       "    border: 1px solid black;\n",
       "    border-collapse: collapse;\n",
       "  }\n",
       "  th, td {\n",
       "    padding: 5px;\n",
       "  }\n",
       "  th {\n",
       "    text-align: left;\n",
       "  }\n",
       "</style><div class='table-result-container'><table class='table-result'><thead style='background-color: white'><tr><th>Names</th><th>translated_text</th></tr></thead><tbody><tr><td>Harish</td><td>H#rish</td></tr><tr><td>Rakesh</td><td>R#k$sh</td></tr><tr><td>Swetha</td><td>Sw$th#</td></tr><tr><td>Radha</td><td>R#dh#</td></tr><tr><td>Sekhar</td><td>S$kh#r</td></tr></tbody></table></div>"
      ]
     },
     "metadata": {
      "application/vnd.databricks.v1+output": {
       "addedWidgets": {},
       "aggData": [],
       "aggError": "",
       "aggOverflow": false,
       "aggSchema": [],
       "aggSeriesLimitReached": false,
       "aggType": "",
       "arguments": {},
       "columnCustomDisplayInfos": {},
       "data": [
        [
         "Harish",
         "H#rish"
        ],
        [
         "Rakesh",
         "R#k$sh"
        ],
        [
         "Swetha",
         "Sw$th#"
        ],
        [
         "Radha",
         "R#dh#"
        ],
        [
         "Sekhar",
         "S$kh#r"
        ]
       ],
       "datasetInfos": [],
       "dbfsResultPath": null,
       "isJsonSchema": true,
       "metadata": {},
       "overflow": false,
       "plotOptions": {
        "customPlotOptions": {},
        "displayType": "table",
        "pivotAggregation": null,
        "pivotColumns": null,
        "xColumns": null,
        "yColumns": null
       },
       "removedWidgets": [],
       "schema": [
        {
         "metadata": "{}",
         "name": "Names",
         "type": "\"string\""
        },
        {
         "metadata": "{}",
         "name": "translated_text",
         "type": "\"string\""
        }
       ],
       "type": "table"
      }
     },
     "output_type": "display_data"
    }
   ],
   "source": [
    "# Sample DataFrame\n",
    "data = [(\"Harish\",), (\"Rakesh\",), (\"Swetha\",), (\"Radha\",), (\"Sekhar\",)]\n",
    "columns = [\"Names\"]\n",
    "\n",
    "df1 = spark.createDataFrame(data, columns)\n",
    "\n",
    "# Use translate to replace 'a' with '#' and 'e' with '$'\n",
    "df_ae = df1.withColumn(\"translated_text\", translate(\"Names\", \"ae\", \"#$\"))\n",
    "display(df_ae)"
   ]
  },
  {
   "cell_type": "markdown",
   "metadata": {
    "application/vnd.databricks.v1+cell": {
     "cellMetadata": {},
     "inputWidgets": {},
     "nuid": "20cfd4b2-bb7b-4faa-88a9-96983d5bd900",
     "showTitle": false,
     "tableResultSettingsMap": {},
     "title": ""
    }
   },
   "source": [
    "- For instance, replace **a with 1**, **e with 2**, and **p with 3**."
   ]
  },
  {
   "cell_type": "code",
   "execution_count": 0,
   "metadata": {
    "application/vnd.databricks.v1+cell": {
     "cellMetadata": {
      "byteLimit": 2048000,
      "rowLimit": 10000
     },
     "inputWidgets": {},
     "nuid": "586f9229-3876-4a9c-aa41-38b35eb28378",
     "showTitle": false,
     "tableResultSettingsMap": {},
     "title": ""
    }
   },
   "outputs": [
    {
     "output_type": "display_data",
     "data": {
      "text/html": [
       "<style scoped>\n",
       "  .table-result-container {\n",
       "    max-height: 300px;\n",
       "    overflow: auto;\n",
       "  }\n",
       "  table, th, td {\n",
       "    border: 1px solid black;\n",
       "    border-collapse: collapse;\n",
       "  }\n",
       "  th, td {\n",
       "    padding: 5px;\n",
       "  }\n",
       "  th {\n",
       "    text-align: left;\n",
       "  }\n",
       "</style><div class='table-result-container'><table class='table-result'><thead style='background-color: white'><tr><th>Description</th><th>translated_text</th></tr></thead><tbody><tr><td>abc@123</td><td>1bc@123</td></tr><tr><td>spark@456</td><td>s31rk@456</td></tr><tr><td>xyz@789</td><td>xyz@789</td></tr><tr><td>Chethan@456</td><td>Ch2th1n@456</td></tr><tr><td>Balu@123</td><td>B1lu@123</td></tr></tbody></table></div>"
      ]
     },
     "metadata": {
      "application/vnd.databricks.v1+output": {
       "addedWidgets": {},
       "aggData": [],
       "aggError": "",
       "aggOverflow": false,
       "aggSchema": [],
       "aggSeriesLimitReached": false,
       "aggType": "",
       "arguments": {},
       "columnCustomDisplayInfos": {},
       "data": [
        [
         "abc@123",
         "1bc@123"
        ],
        [
         "spark@456",
         "s31rk@456"
        ],
        [
         "xyz@789",
         "xyz@789"
        ],
        [
         "Chethan@456",
         "Ch2th1n@456"
        ],
        [
         "Balu@123",
         "B1lu@123"
        ]
       ],
       "datasetInfos": [],
       "dbfsResultPath": null,
       "isJsonSchema": true,
       "metadata": {},
       "overflow": false,
       "plotOptions": {
        "customPlotOptions": {},
        "displayType": "table",
        "pivotAggregation": null,
        "pivotColumns": null,
        "xColumns": null,
        "yColumns": null
       },
       "removedWidgets": [],
       "schema": [
        {
         "metadata": "{}",
         "name": "Description",
         "type": "\"string\""
        },
        {
         "metadata": "{}",
         "name": "translated_text",
         "type": "\"string\""
        }
       ],
       "type": "table"
      }
     },
     "output_type": "display_data"
    }
   ],
   "source": [
    "df_aep = df.withColumn(\"translated_text\", translate(\"Description\", \"aep\", \"123\"))\n",
    "display(df_aep)"
   ]
  },
  {
   "cell_type": "code",
   "execution_count": 0,
   "metadata": {
    "application/vnd.databricks.v1+cell": {
     "cellMetadata": {
      "byteLimit": 2048000,
      "rowLimit": 10000
     },
     "inputWidgets": {},
     "nuid": "9f46232a-509b-4797-b289-51e8fa4bf3e5",
     "showTitle": false,
     "tableResultSettingsMap": {},
     "title": ""
    }
   },
   "outputs": [
    {
     "output_type": "display_data",
     "data": {
      "text/html": [
       "<style scoped>\n",
       "  .table-result-container {\n",
       "    max-height: 300px;\n",
       "    overflow: auto;\n",
       "  }\n",
       "  table, th, td {\n",
       "    border: 1px solid black;\n",
       "    border-collapse: collapse;\n",
       "  }\n",
       "  th, td {\n",
       "    padding: 5px;\n",
       "  }\n",
       "  th {\n",
       "    text-align: left;\n",
       "  }\n",
       "</style><div class='table-result-container'><table class='table-result'><thead style='background-color: white'><tr><th>Description</th><th>trans_string</th><th>trans_int</th></tr></thead><tbody><tr><td>abc@123</td><td>xyz@123</td><td>abc@ABC</td></tr><tr><td>spark@456</td><td>spxrk@456</td><td>spark@DEF</td></tr><tr><td>xyz@789</td><td>xyz@789</td><td>xyz@GHI</td></tr><tr><td>Chethan@456</td><td>Chethxn@456</td><td>Chethan@DEF</td></tr><tr><td>Balu@123</td><td>Bxlu@123</td><td>Balu@ABC</td></tr></tbody></table></div>"
      ]
     },
     "metadata": {
      "application/vnd.databricks.v1+output": {
       "addedWidgets": {},
       "aggData": [],
       "aggError": "",
       "aggOverflow": false,
       "aggSchema": [],
       "aggSeriesLimitReached": false,
       "aggType": "",
       "arguments": {},
       "columnCustomDisplayInfos": {},
       "data": [
        [
         "abc@123",
         "xyz@123",
         "abc@ABC"
        ],
        [
         "spark@456",
         "spxrk@456",
         "spark@DEF"
        ],
        [
         "xyz@789",
         "xyz@789",
         "xyz@GHI"
        ],
        [
         "Chethan@456",
         "Chethxn@456",
         "Chethan@DEF"
        ],
        [
         "Balu@123",
         "Bxlu@123",
         "Balu@ABC"
        ]
       ],
       "datasetInfos": [],
       "dbfsResultPath": null,
       "isJsonSchema": true,
       "metadata": {},
       "overflow": false,
       "plotOptions": {
        "customPlotOptions": {},
        "displayType": "table",
        "pivotAggregation": null,
        "pivotColumns": null,
        "xColumns": null,
        "yColumns": null
       },
       "removedWidgets": [],
       "schema": [
        {
         "metadata": "{}",
         "name": "Description",
         "type": "\"string\""
        },
        {
         "metadata": "{}",
         "name": "trans_string",
         "type": "\"string\""
        },
        {
         "metadata": "{}",
         "name": "trans_int",
         "type": "\"string\""
        }
       ],
       "type": "table"
      }
     },
     "output_type": "display_data"
    }
   ],
   "source": [
    "df_str_int = df.withColumn(\"trans_string\", translate(\"Description\", \"abc\", \"xyz\")) \\\n",
    "               .withColumn(\"trans_int\", translate(\"Description\", \"123456789\", \"ABCDEFGHI\"))\n",
    "display(df_str_int)"
   ]
  },
  {
   "cell_type": "markdown",
   "metadata": {
    "application/vnd.databricks.v1+cell": {
     "cellMetadata": {},
     "inputWidgets": {},
     "nuid": "19197872-7b78-41e8-a1fd-76ab1dfa34e6",
     "showTitle": false,
     "tableResultSettingsMap": {},
     "title": ""
    }
   },
   "source": [
    "**2) Remove unwanted characters**\n",
    "- Remove **digits** by translating them to **empty** string."
   ]
  },
  {
   "cell_type": "code",
   "execution_count": 0,
   "metadata": {
    "application/vnd.databricks.v1+cell": {
     "cellMetadata": {
      "byteLimit": 2048000,
      "rowLimit": 10000
     },
     "inputWidgets": {},
     "nuid": "52f8933f-9b9a-4ec4-9dbf-c8dbcd9c5a84",
     "showTitle": false,
     "tableResultSettingsMap": {},
     "title": ""
    }
   },
   "outputs": [
    {
     "output_type": "display_data",
     "data": {
      "text/html": [
       "<style scoped>\n",
       "  .table-result-container {\n",
       "    max-height: 300px;\n",
       "    overflow: auto;\n",
       "  }\n",
       "  table, th, td {\n",
       "    border: 1px solid black;\n",
       "    border-collapse: collapse;\n",
       "  }\n",
       "  th, td {\n",
       "    padding: 5px;\n",
       "  }\n",
       "  th {\n",
       "    text-align: left;\n",
       "  }\n",
       "</style><div class='table-result-container'><table class='table-result'><thead style='background-color: white'><tr><th>Description</th><th>no_digits</th></tr></thead><tbody><tr><td>abc@123</td><td>abc@</td></tr><tr><td>spark@456</td><td>spark@</td></tr><tr><td>xyz@789</td><td>xyz@</td></tr><tr><td>Chethan@456</td><td>Chethan@</td></tr><tr><td>Balu@123</td><td>Balu@</td></tr></tbody></table></div>"
      ]
     },
     "metadata": {
      "application/vnd.databricks.v1+output": {
       "addedWidgets": {},
       "aggData": [],
       "aggError": "",
       "aggOverflow": false,
       "aggSchema": [],
       "aggSeriesLimitReached": false,
       "aggType": "",
       "arguments": {},
       "columnCustomDisplayInfos": {},
       "data": [
        [
         "abc@123",
         "abc@"
        ],
        [
         "spark@456",
         "spark@"
        ],
        [
         "xyz@789",
         "xyz@"
        ],
        [
         "Chethan@456",
         "Chethan@"
        ],
        [
         "Balu@123",
         "Balu@"
        ]
       ],
       "datasetInfos": [],
       "dbfsResultPath": null,
       "isJsonSchema": true,
       "metadata": {},
       "overflow": false,
       "plotOptions": {
        "customPlotOptions": {},
        "displayType": "table",
        "pivotAggregation": null,
        "pivotColumns": null,
        "xColumns": null,
        "yColumns": null
       },
       "removedWidgets": [],
       "schema": [
        {
         "metadata": "{}",
         "name": "Description",
         "type": "\"string\""
        },
        {
         "metadata": "{}",
         "name": "no_digits",
         "type": "\"string\""
        }
       ],
       "type": "table"
      }
     },
     "output_type": "display_data"
    }
   ],
   "source": [
    "df.withColumn(\"no_digits\", translate(\"Description\", \"0123456789\", \"\")).display()"
   ]
  },
  {
   "cell_type": "markdown",
   "metadata": {
    "application/vnd.databricks.v1+cell": {
     "cellMetadata": {},
     "inputWidgets": {},
     "nuid": "86b36419-2b2d-494f-baa0-5972b25a48f2",
     "showTitle": false,
     "tableResultSettingsMap": {},
     "title": ""
    }
   },
   "source": [
    "**3) Removing Specific Characters**\n",
    "- If you want to **remove** specific characters from the string, you can use **translate()** by **replacing** those characters with an **empty string**.\n"
   ]
  },
  {
   "cell_type": "code",
   "execution_count": 0,
   "metadata": {
    "application/vnd.databricks.v1+cell": {
     "cellMetadata": {
      "byteLimit": 2048000,
      "rowLimit": 10000
     },
     "inputWidgets": {},
     "nuid": "aa731108-365c-4a36-875a-cd910688b088",
     "showTitle": true,
     "tableResultSettingsMap": {},
     "title": "Sample Dataframe"
    }
   },
   "outputs": [
    {
     "output_type": "display_data",
     "data": {
      "text/html": [
       "<style scoped>\n",
       "  .table-result-container {\n",
       "    max-height: 300px;\n",
       "    overflow: auto;\n",
       "  }\n",
       "  table, th, td {\n",
       "    border: 1px solid black;\n",
       "    border-collapse: collapse;\n",
       "  }\n",
       "  th, td {\n",
       "    padding: 5px;\n",
       "  }\n",
       "  th {\n",
       "    text-align: left;\n",
       "  }\n",
       "</style><div class='table-result-container'><table class='table-result'><thead style='background-color: white'><tr><th>S.No</th><th>Location</th><th>Description</th></tr></thead><tbody><tr><td>101</td><td>Desk01</td><td>$100,00/-</td></tr><tr><td>102</td><td>Desk02</td><td>#FootBall!</td></tr><tr><td>103</td><td>Desk03</td><td>!Cricket, @Tennis, #Football and $20,000!</td></tr><tr><td>104</td><td>Desk04</td><td>#2025-07-24$T22:55:58Z%</td></tr><tr><td>105</td><td>Desk05</td><td>:Medium;, Small<> & Large!</td></tr></tbody></table></div>"
      ]
     },
     "metadata": {
      "application/vnd.databricks.v1+output": {
       "addedWidgets": {},
       "aggData": [],
       "aggError": "",
       "aggOverflow": false,
       "aggSchema": [],
       "aggSeriesLimitReached": false,
       "aggType": "",
       "arguments": {},
       "columnCustomDisplayInfos": {},
       "data": [
        [
         101,
         "Desk01",
         "$100,00/-"
        ],
        [
         102,
         "Desk02",
         "#FootBall!"
        ],
        [
         103,
         "Desk03",
         "!Cricket, @Tennis, #Football and $20,000!"
        ],
        [
         104,
         "Desk04",
         "#2025-07-24$T22:55:58Z%"
        ],
        [
         105,
         "Desk05",
         ":Medium;, Small<> & Large!"
        ]
       ],
       "datasetInfos": [],
       "dbfsResultPath": null,
       "isJsonSchema": true,
       "metadata": {},
       "overflow": false,
       "plotOptions": {
        "customPlotOptions": {},
        "displayType": "table",
        "pivotAggregation": null,
        "pivotColumns": null,
        "xColumns": null,
        "yColumns": null
       },
       "removedWidgets": [],
       "schema": [
        {
         "metadata": "{}",
         "name": "S.No",
         "type": "\"long\""
        },
        {
         "metadata": "{}",
         "name": "Location",
         "type": "\"string\""
        },
        {
         "metadata": "{}",
         "name": "Description",
         "type": "\"string\""
        }
       ],
       "type": "table"
      }
     },
     "output_type": "display_data"
    }
   ],
   "source": [
    "# Sample DataFrame\n",
    "data = [(101, \"Desk01\", \"$100,00/-\"),\n",
    "        (102, \"Desk02\", \"#FootBall!\"),\n",
    "        (103, \"Desk03\", \"!Cricket, @Tennis, #Football and $20,000!\"),\n",
    "        (104, \"Desk04\", \"#2025-07-24$T22:55:58Z%\"),\n",
    "        (105, \"Desk05\", \":Medium;, Small<> & Large!\")]\n",
    "                              \n",
    "columns = [\"S.No\", \"Location\", \"Description\"]\n",
    "\n",
    "df_rm = spark.createDataFrame(data, columns)\n",
    "display(df_rm)"
   ]
  },
  {
   "cell_type": "code",
   "execution_count": 0,
   "metadata": {
    "application/vnd.databricks.v1+cell": {
     "cellMetadata": {
      "byteLimit": 2048000,
      "rowLimit": 10000
     },
     "inputWidgets": {},
     "nuid": "832028fd-6407-4c2b-9e64-2ec89fdf42a4",
     "showTitle": false,
     "tableResultSettingsMap": {},
     "title": ""
    }
   },
   "outputs": [
    {
     "output_type": "display_data",
     "data": {
      "text/html": [
       "<style scoped>\n",
       "  .table-result-container {\n",
       "    max-height: 300px;\n",
       "    overflow: auto;\n",
       "  }\n",
       "  table, th, td {\n",
       "    border: 1px solid black;\n",
       "    border-collapse: collapse;\n",
       "  }\n",
       "  th, td {\n",
       "    padding: 5px;\n",
       "  }\n",
       "  th {\n",
       "    text-align: left;\n",
       "  }\n",
       "</style><div class='table-result-container'><table class='table-result'><thead style='background-color: white'><tr><th>S.No</th><th>Location</th><th>Description</th><th>clean_Description</th></tr></thead><tbody><tr><td>101</td><td>Desk01</td><td>$100,00/-</td><td>100,00/-</td></tr><tr><td>102</td><td>Desk02</td><td>#FootBall!</td><td>FootBall</td></tr><tr><td>103</td><td>Desk03</td><td>!Cricket, @Tennis, #Football and $20,000!</td><td>Cricket, @Tennis, Football and 20,000</td></tr><tr><td>104</td><td>Desk04</td><td>#2025-07-24$T22:55:58Z%</td><td>2025-07-24T225558Z</td></tr><tr><td>105</td><td>Desk05</td><td>:Medium;, Small<> & Large!</td><td>Medium, Small & Large</td></tr></tbody></table></div>"
      ]
     },
     "metadata": {
      "application/vnd.databricks.v1+output": {
       "addedWidgets": {},
       "aggData": [],
       "aggError": "",
       "aggOverflow": false,
       "aggSchema": [],
       "aggSeriesLimitReached": false,
       "aggType": "",
       "arguments": {},
       "columnCustomDisplayInfos": {},
       "data": [
        [
         101,
         "Desk01",
         "$100,00/-",
         "100,00/-"
        ],
        [
         102,
         "Desk02",
         "#FootBall!",
         "FootBall"
        ],
        [
         103,
         "Desk03",
         "!Cricket, @Tennis, #Football and $20,000!",
         "Cricket, @Tennis, Football and 20,000"
        ],
        [
         104,
         "Desk04",
         "#2025-07-24$T22:55:58Z%",
         "2025-07-24T225558Z"
        ],
        [
         105,
         "Desk05",
         ":Medium;, Small<> & Large!",
         "Medium, Small & Large"
        ]
       ],
       "datasetInfos": [],
       "dbfsResultPath": null,
       "isJsonSchema": true,
       "metadata": {},
       "overflow": false,
       "plotOptions": {
        "customPlotOptions": {},
        "displayType": "table",
        "pivotAggregation": null,
        "pivotColumns": null,
        "xColumns": null,
        "yColumns": null
       },
       "removedWidgets": [],
       "schema": [
        {
         "metadata": "{}",
         "name": "S.No",
         "type": "\"long\""
        },
        {
         "metadata": "{}",
         "name": "Location",
         "type": "\"string\""
        },
        {
         "metadata": "{}",
         "name": "Description",
         "type": "\"string\""
        },
        {
         "metadata": "{}",
         "name": "clean_Description",
         "type": "\"string\""
        }
       ],
       "type": "table"
      }
     },
     "output_type": "display_data"
    }
   ],
   "source": [
    "characters_to_remove = \"$#!%;:<>\" # Characters you want to remove\n",
    "df_cleaned = df_rm.withColumn(\"clean_Description\", translate(\"Description\", characters_to_remove, \"\"))\n",
    "display(df_cleaned)"
   ]
  },
  {
   "cell_type": "markdown",
   "metadata": {
    "application/vnd.databricks.v1+cell": {
     "cellMetadata": {},
     "inputWidgets": {},
     "nuid": "b8a78cbc-4e01-47af-b6ce-f787c6c5878d",
     "showTitle": false,
     "tableResultSettingsMap": {},
     "title": ""
    }
   },
   "source": [
    "##### 4) Digit Masking"
   ]
  },
  {
   "cell_type": "code",
   "execution_count": 0,
   "metadata": {
    "application/vnd.databricks.v1+cell": {
     "cellMetadata": {
      "byteLimit": 2048000,
      "rowLimit": 10000
     },
     "inputWidgets": {},
     "nuid": "40af3895-9ffa-43e1-a8fc-d0a2f111e42b",
     "showTitle": false,
     "tableResultSettingsMap": {},
     "title": ""
    }
   },
   "outputs": [
    {
     "output_type": "display_data",
     "data": {
      "text/html": [
       "<style scoped>\n",
       "  .table-result-container {\n",
       "    max-height: 300px;\n",
       "    overflow: auto;\n",
       "  }\n",
       "  table, th, td {\n",
       "    border: 1px solid black;\n",
       "    border-collapse: collapse;\n",
       "  }\n",
       "  th, td {\n",
       "    padding: 5px;\n",
       "  }\n",
       "  th {\n",
       "    text-align: left;\n",
       "  }\n",
       "</style><div class='table-result-container'><table class='table-result'><thead style='background-color: white'><tr><th>text</th></tr></thead><tbody><tr><td>My number is 9876543210</td></tr><tr><td>Card number: 1234-5678-9012</td></tr><tr><td>Call me at 987-654-3210</td></tr><tr><td>ID: AB123CD</td></tr><tr><td>Account: 1234567890</td></tr><tr><td>Phone: 8008008008</td></tr><tr><td>Serial No: SN09876AB</td></tr><tr><td>Emergency contact: 1122334455</td></tr><tr><td>Alternate number: 9009090909</td></tr><tr><td>Code: 000111</td></tr><tr><td>Backup ID: ZX98765YU</td></tr><tr><td>Booking ref: 321654987</td></tr><tr><td>Contact number is 700-111-2222</td></tr><tr><td>OTP sent is 456789</td></tr><tr><td>My PAN is A1234BCD</td></tr><tr><td>Mobile: 98765 43210</td></tr><tr><td>Employee ID: EMP123456</td></tr></tbody></table></div>"
      ]
     },
     "metadata": {
      "application/vnd.databricks.v1+output": {
       "addedWidgets": {},
       "aggData": [],
       "aggError": "",
       "aggOverflow": false,
       "aggSchema": [],
       "aggSeriesLimitReached": false,
       "aggType": "",
       "arguments": {},
       "columnCustomDisplayInfos": {},
       "data": [
        [
         "My number is 9876543210"
        ],
        [
         "Card number: 1234-5678-9012"
        ],
        [
         "Call me at 987-654-3210"
        ],
        [
         "ID: AB123CD"
        ],
        [
         "Account: 1234567890"
        ],
        [
         "Phone: 8008008008"
        ],
        [
         "Serial No: SN09876AB"
        ],
        [
         "Emergency contact: 1122334455"
        ],
        [
         "Alternate number: 9009090909"
        ],
        [
         "Code: 000111"
        ],
        [
         "Backup ID: ZX98765YU"
        ],
        [
         "Booking ref: 321654987"
        ],
        [
         "Contact number is 700-111-2222"
        ],
        [
         "OTP sent is 456789"
        ],
        [
         "My PAN is A1234BCD"
        ],
        [
         "Mobile: 98765 43210"
        ],
        [
         "Employee ID: EMP123456"
        ]
       ],
       "datasetInfos": [],
       "dbfsResultPath": null,
       "isJsonSchema": true,
       "metadata": {},
       "overflow": false,
       "plotOptions": {
        "customPlotOptions": {},
        "displayType": "table",
        "pivotAggregation": null,
        "pivotColumns": null,
        "xColumns": null,
        "yColumns": null
       },
       "removedWidgets": [],
       "schema": [
        {
         "metadata": "{}",
         "name": "text",
         "type": "\"string\""
        }
       ],
       "type": "table"
      }
     },
     "output_type": "display_data"
    }
   ],
   "source": [
    "# Sample DataFrame with more rows\n",
    "data = [\n",
    "    (\"My number is 9876543210\",),\n",
    "    (\"Card number: 1234-5678-9012\",),\n",
    "    (\"Call me at 987-654-3210\",),\n",
    "    (\"ID: AB123CD\",),\n",
    "    (\"Account: 1234567890\",),\n",
    "    (\"Phone: 8008008008\",),\n",
    "    (\"Serial No: SN09876AB\",),\n",
    "    (\"Emergency contact: 1122334455\",),\n",
    "    (\"Alternate number: 9009090909\",),\n",
    "    (\"Code: 000111\",),\n",
    "    (\"Backup ID: ZX98765YU\",),\n",
    "    (\"Booking ref: 321654987\",),\n",
    "    (\"Contact number is 700-111-2222\",),\n",
    "    (\"OTP sent is 456789\",),\n",
    "    (\"My PAN is A1234BCD\",),\n",
    "    (\"Mobile: 98765 43210\",),\n",
    "    (\"Employee ID: EMP123456\",)\n",
    "]\n",
    "\n",
    "columns = [\"text\"]\n",
    "\n",
    "df_mask = spark.createDataFrame(data, columns)\n",
    "\n",
    "display(df_mask)\n"
   ]
  },
  {
   "cell_type": "code",
   "execution_count": 0,
   "metadata": {
    "application/vnd.databricks.v1+cell": {
     "cellMetadata": {
      "byteLimit": 2048000,
      "rowLimit": 10000
     },
     "inputWidgets": {},
     "nuid": "d4e050c0-e830-4333-b58b-9a8e6b631d1d",
     "showTitle": false,
     "tableResultSettingsMap": {},
     "title": ""
    }
   },
   "outputs": [
    {
     "output_type": "display_data",
     "data": {
      "text/html": [
       "<style scoped>\n",
       "  .table-result-container {\n",
       "    max-height: 300px;\n",
       "    overflow: auto;\n",
       "  }\n",
       "  table, th, td {\n",
       "    border: 1px solid black;\n",
       "    border-collapse: collapse;\n",
       "  }\n",
       "  th, td {\n",
       "    padding: 5px;\n",
       "  }\n",
       "  th {\n",
       "    text-align: left;\n",
       "  }\n",
       "</style><div class='table-result-container'><table class='table-result'><thead style='background-color: white'><tr><th>text</th><th>masked_text</th></tr></thead><tbody><tr><td>My number is 9876543210</td><td>My number is **********</td></tr><tr><td>Card number: 1234-5678-9012</td><td>Card number: ****-****-****</td></tr><tr><td>Call me at 987-654-3210</td><td>Call me at ***-***-****</td></tr><tr><td>ID: AB123CD</td><td>ID: AB***CD</td></tr><tr><td>Account: 1234567890</td><td>Account: **********</td></tr><tr><td>Phone: 8008008008</td><td>Phone: **********</td></tr><tr><td>Serial No: SN09876AB</td><td>Serial No: SN*****AB</td></tr><tr><td>Emergency contact: 1122334455</td><td>Emergency contact: **********</td></tr><tr><td>Alternate number: 9009090909</td><td>Alternate number: **********</td></tr><tr><td>Code: 000111</td><td>Code: ******</td></tr><tr><td>Backup ID: ZX98765YU</td><td>Backup ID: ZX*****YU</td></tr><tr><td>Booking ref: 321654987</td><td>Booking ref: *********</td></tr><tr><td>Contact number is 700-111-2222</td><td>Contact number is ***-***-****</td></tr><tr><td>OTP sent is 456789</td><td>OTP sent is ******</td></tr><tr><td>My PAN is A1234BCD</td><td>My PAN is A****BCD</td></tr><tr><td>Mobile: 98765 43210</td><td>Mobile: ***** *****</td></tr><tr><td>Employee ID: EMP123456</td><td>Employee ID: EMP******</td></tr></tbody></table></div>"
      ]
     },
     "metadata": {
      "application/vnd.databricks.v1+output": {
       "addedWidgets": {},
       "aggData": [],
       "aggError": "",
       "aggOverflow": false,
       "aggSchema": [],
       "aggSeriesLimitReached": false,
       "aggType": "",
       "arguments": {},
       "columnCustomDisplayInfos": {},
       "data": [
        [
         "My number is 9876543210",
         "My number is **********"
        ],
        [
         "Card number: 1234-5678-9012",
         "Card number: ****-****-****"
        ],
        [
         "Call me at 987-654-3210",
         "Call me at ***-***-****"
        ],
        [
         "ID: AB123CD",
         "ID: AB***CD"
        ],
        [
         "Account: 1234567890",
         "Account: **********"
        ],
        [
         "Phone: 8008008008",
         "Phone: **********"
        ],
        [
         "Serial No: SN09876AB",
         "Serial No: SN*****AB"
        ],
        [
         "Emergency contact: 1122334455",
         "Emergency contact: **********"
        ],
        [
         "Alternate number: 9009090909",
         "Alternate number: **********"
        ],
        [
         "Code: 000111",
         "Code: ******"
        ],
        [
         "Backup ID: ZX98765YU",
         "Backup ID: ZX*****YU"
        ],
        [
         "Booking ref: 321654987",
         "Booking ref: *********"
        ],
        [
         "Contact number is 700-111-2222",
         "Contact number is ***-***-****"
        ],
        [
         "OTP sent is 456789",
         "OTP sent is ******"
        ],
        [
         "My PAN is A1234BCD",
         "My PAN is A****BCD"
        ],
        [
         "Mobile: 98765 43210",
         "Mobile: ***** *****"
        ],
        [
         "Employee ID: EMP123456",
         "Employee ID: EMP******"
        ]
       ],
       "datasetInfos": [],
       "dbfsResultPath": null,
       "isJsonSchema": true,
       "metadata": {},
       "overflow": false,
       "plotOptions": {
        "customPlotOptions": {},
        "displayType": "table",
        "pivotAggregation": null,
        "pivotColumns": null,
        "xColumns": null,
        "yColumns": null
       },
       "removedWidgets": [],
       "schema": [
        {
         "metadata": "{}",
         "name": "text",
         "type": "\"string\""
        },
        {
         "metadata": "{}",
         "name": "masked_text",
         "type": "\"string\""
        }
       ],
       "type": "table"
      }
     },
     "output_type": "display_data"
    }
   ],
   "source": [
    "# Step: Mask digits using translate (0–9 → X)\n",
    "digits = '0123456789'\n",
    "mask_char = '*' * len(digits)  # '**********'\n",
    "\n",
    "df_masked = df_mask.withColumn(\"masked_text\", translate(\"text\", digits, mask_char))\n",
    "\n",
    "# Display the result\n",
    "display(df_masked)"
   ]
  },
  {
   "cell_type": "markdown",
   "metadata": {
    "application/vnd.databricks.v1+cell": {
     "cellMetadata": {},
     "inputWidgets": {},
     "nuid": "1895bb55-70ca-48b4-9bb5-2d7128725aa7",
     "showTitle": false,
     "tableResultSettingsMap": {},
     "title": ""
    }
   },
   "source": [
    "**5) Stripping punctuation**\n",
    "- You can easily drop punctuation by translating it to the empty string"
   ]
  },
  {
   "cell_type": "code",
   "execution_count": 0,
   "metadata": {
    "application/vnd.databricks.v1+cell": {
     "cellMetadata": {
      "byteLimit": 2048000,
      "rowLimit": 10000
     },
     "inputWidgets": {},
     "nuid": "98241171-b3e3-47fd-9157-3b41c9655c0f",
     "showTitle": false,
     "tableResultSettingsMap": {},
     "title": ""
    }
   },
   "outputs": [
    {
     "output_type": "display_data",
     "data": {
      "text/html": [
       "<style scoped>\n",
       "  .table-result-container {\n",
       "    max-height: 300px;\n",
       "    overflow: auto;\n",
       "  }\n",
       "  table, th, td {\n",
       "    border: 1px solid black;\n",
       "    border-collapse: collapse;\n",
       "  }\n",
       "  th, td {\n",
       "    padding: 5px;\n",
       "  }\n",
       "  th {\n",
       "    text-align: left;\n",
       "  }\n",
       "</style><div class='table-result-container'><table class='table-result'><thead style='background-color: white'><tr><th>Punctuation</th></tr></thead><tbody><tr><td>Hello, world!</td></tr><tr><td>Spark: fast.</td></tr><tr><td>Good morning!</td></tr><tr><td>What's your name?</td></tr><tr><td>Clean-text, now.</td></tr><tr><td>Remove (brackets) and [squares].</td></tr><tr><td>Multiple!!! Exclamations!!!</td></tr><tr><td>Colon: Semicolon; Period.</td></tr><tr><td>--Dashes-- and under_scores__</td></tr><tr><td>Punctuation: gone!</td></tr><tr><td>End with a period.</td></tr><tr><td>Numbers 1,234.56 should stay.</td></tr><tr><td>Quotes 'single' and \"double\"</td></tr></tbody></table></div>"
      ]
     },
     "metadata": {
      "application/vnd.databricks.v1+output": {
       "addedWidgets": {},
       "aggData": [],
       "aggError": "",
       "aggOverflow": false,
       "aggSchema": [],
       "aggSeriesLimitReached": false,
       "aggType": "",
       "arguments": {},
       "columnCustomDisplayInfos": {},
       "data": [
        [
         "Hello, world!"
        ],
        [
         "Spark: fast."
        ],
        [
         "Good morning!"
        ],
        [
         "What's your name?"
        ],
        [
         "Clean-text, now."
        ],
        [
         "Remove (brackets) and [squares]."
        ],
        [
         "Multiple!!! Exclamations!!!"
        ],
        [
         "Colon: Semicolon; Period."
        ],
        [
         "--Dashes-- and under_scores__"
        ],
        [
         "Punctuation: gone!"
        ],
        [
         "End with a period."
        ],
        [
         "Numbers 1,234.56 should stay."
        ],
        [
         "Quotes 'single' and \"double\""
        ]
       ],
       "datasetInfos": [],
       "dbfsResultPath": null,
       "isJsonSchema": true,
       "metadata": {},
       "overflow": false,
       "plotOptions": {
        "customPlotOptions": {},
        "displayType": "table",
        "pivotAggregation": null,
        "pivotColumns": null,
        "xColumns": null,
        "yColumns": null
       },
       "removedWidgets": [],
       "schema": [
        {
         "metadata": "{}",
         "name": "Punctuation",
         "type": "\"string\""
        }
       ],
       "type": "table"
      }
     },
     "output_type": "display_data"
    }
   ],
   "source": [
    "# Extended Data with various punctuation\n",
    "data2 = [\n",
    "    (\"Hello, world!\",),\n",
    "    (\"Spark: fast.\",),\n",
    "    (\"Good morning!\",),\n",
    "    (\"What's your name?\",),\n",
    "    (\"Clean-text, now.\",),\n",
    "    (\"Remove (brackets) and [squares].\",),\n",
    "    (\"Multiple!!! Exclamations!!!\",),\n",
    "    (\"Colon: Semicolon; Period.\",),\n",
    "    (\"--Dashes-- and under_scores__\",),\n",
    "    (\"Punctuation: gone!\",),\n",
    "    (\"End with a period.\",),\n",
    "    (\"Numbers 1,234.56 should stay.\",),\n",
    "    (\"Quotes 'single' and \\\"double\\\"\",),\n",
    "]\n",
    "\n",
    "# Create DataFrame\n",
    "dfp = spark.createDataFrame(data2, [\"Punctuation\"])\n",
    "display(dfp)"
   ]
  },
  {
   "cell_type": "code",
   "execution_count": 0,
   "metadata": {
    "application/vnd.databricks.v1+cell": {
     "cellMetadata": {
      "byteLimit": 2048000,
      "rowLimit": 10000
     },
     "inputWidgets": {},
     "nuid": "273a5614-895b-41a9-9d4f-bb2edfb67e35",
     "showTitle": false,
     "tableResultSettingsMap": {},
     "title": ""
    }
   },
   "outputs": [
    {
     "output_type": "display_data",
     "data": {
      "text/html": [
       "<style scoped>\n",
       "  .table-result-container {\n",
       "    max-height: 300px;\n",
       "    overflow: auto;\n",
       "  }\n",
       "  table, th, td {\n",
       "    border: 1px solid black;\n",
       "    border-collapse: collapse;\n",
       "  }\n",
       "  th, td {\n",
       "    padding: 5px;\n",
       "  }\n",
       "  th {\n",
       "    text-align: left;\n",
       "  }\n",
       "</style><div class='table-result-container'><table class='table-result'><thead style='background-color: white'><tr><th>Punctuation</th><th>clean</th></tr></thead><tbody><tr><td>Hello, world!</td><td>Hello world</td></tr><tr><td>Spark: fast.</td><td>Spark fast</td></tr><tr><td>Good morning!</td><td>Good morning</td></tr><tr><td>What's your name?</td><td>Whats your name</td></tr><tr><td>Clean-text, now.</td><td>Cleantext now</td></tr><tr><td>Remove (brackets) and [squares].</td><td>Remove brackets and squares</td></tr><tr><td>Multiple!!! Exclamations!!!</td><td>Multiple Exclamations</td></tr><tr><td>Colon: Semicolon; Period.</td><td>Colon Semicolon Period</td></tr><tr><td>--Dashes-- and under_scores__</td><td>Dashes and underscores</td></tr><tr><td>Punctuation: gone!</td><td>Punctuation gone</td></tr><tr><td>End with a period.</td><td>End with a period</td></tr><tr><td>Numbers 1,234.56 should stay.</td><td>Numbers 123456 should stay</td></tr><tr><td>Quotes 'single' and \"double\"</td><td>Quotes single and double</td></tr></tbody></table></div>"
      ]
     },
     "metadata": {
      "application/vnd.databricks.v1+output": {
       "addedWidgets": {},
       "aggData": [],
       "aggError": "",
       "aggOverflow": false,
       "aggSchema": [],
       "aggSeriesLimitReached": false,
       "aggType": "",
       "arguments": {},
       "columnCustomDisplayInfos": {},
       "data": [
        [
         "Hello, world!",
         "Hello world"
        ],
        [
         "Spark: fast.",
         "Spark fast"
        ],
        [
         "Good morning!",
         "Good morning"
        ],
        [
         "What's your name?",
         "Whats your name"
        ],
        [
         "Clean-text, now.",
         "Cleantext now"
        ],
        [
         "Remove (brackets) and [squares].",
         "Remove brackets and squares"
        ],
        [
         "Multiple!!! Exclamations!!!",
         "Multiple Exclamations"
        ],
        [
         "Colon: Semicolon; Period.",
         "Colon Semicolon Period"
        ],
        [
         "--Dashes-- and under_scores__",
         "Dashes and underscores"
        ],
        [
         "Punctuation: gone!",
         "Punctuation gone"
        ],
        [
         "End with a period.",
         "End with a period"
        ],
        [
         "Numbers 1,234.56 should stay.",
         "Numbers 123456 should stay"
        ],
        [
         "Quotes 'single' and \"double\"",
         "Quotes single and double"
        ]
       ],
       "datasetInfos": [],
       "dbfsResultPath": null,
       "isJsonSchema": true,
       "metadata": {},
       "overflow": false,
       "plotOptions": {
        "customPlotOptions": {},
        "displayType": "table",
        "pivotAggregation": null,
        "pivotColumns": null,
        "xColumns": null,
        "yColumns": null
       },
       "removedWidgets": [],
       "schema": [
        {
         "metadata": "{}",
         "name": "Punctuation",
         "type": "\"string\""
        },
        {
         "metadata": "{}",
         "name": "clean",
         "type": "\"string\""
        }
       ],
       "type": "table"
      }
     },
     "output_type": "display_data"
    }
   ],
   "source": [
    "# Define punctuation characters to remove\n",
    "punctuation = \",:!?.;()-[]'\\\"_\"\n",
    "\n",
    "empty_map = ''  # we want to remove these chars\n",
    "\n",
    "# Use translate to remove punctuation\n",
    "df_punct = dfp.withColumn(\"clean\", translate(col(\"Punctuation\"), punctuation, empty_map))\n",
    "\n",
    "# Show results\n",
    "display(df_punct)"
   ]
  },
  {
   "cell_type": "markdown",
   "metadata": {
    "application/vnd.databricks.v1+cell": {
     "cellMetadata": {},
     "inputWidgets": {},
     "nuid": "c514e0aa-f6da-4853-8381-222d7397f204",
     "showTitle": false,
     "tableResultSettingsMap": {},
     "title": ""
    }
   },
   "source": [
    "**6) Case‑folding (manual)**\n",
    "- map **uppercase → lowercase (or vice versa)** by providing the full alphabet strings (though it’s verbose)"
   ]
  },
  {
   "cell_type": "code",
   "execution_count": 0,
   "metadata": {
    "application/vnd.databricks.v1+cell": {
     "cellMetadata": {
      "byteLimit": 2048000,
      "rowLimit": 10000
     },
     "inputWidgets": {},
     "nuid": "19d53400-8c7d-4087-8331-70303d8ad880",
     "showTitle": false,
     "tableResultSettingsMap": {},
     "title": ""
    }
   },
   "outputs": [
    {
     "output_type": "display_data",
     "data": {
      "text/html": [
       "<style scoped>\n",
       "  .table-result-container {\n",
       "    max-height: 300px;\n",
       "    overflow: auto;\n",
       "  }\n",
       "  table, th, td {\n",
       "    border: 1px solid black;\n",
       "    border-collapse: collapse;\n",
       "  }\n",
       "  th, td {\n",
       "    padding: 5px;\n",
       "  }\n",
       "  th {\n",
       "    text-align: left;\n",
       "  }\n",
       "</style><div class='table-result-container'><table class='table-result'><thead style='background-color: white'><tr><th>Comments</th></tr></thead><tbody><tr><td>HELLO WORLD</td></tr><tr><td>This Is a Title Case Sentence</td></tr><tr><td>PySpark Is COOL</td></tr><tr><td>email: USER@DOMAIN.COM</td></tr><tr><td>123ABCxyz</td></tr><tr><td>UPPER and lower MIXED</td></tr><tr><td>NASA and ISRO</td></tr><tr><td>Sentence with Numbers 12345</td></tr><tr><td>CamelCaseVariableName</td></tr><tr><td>ALL CAPS TEXT</td></tr><tr><td>MiXeD CaSe StrInG</td></tr></tbody></table></div>"
      ]
     },
     "metadata": {
      "application/vnd.databricks.v1+output": {
       "addedWidgets": {},
       "aggData": [],
       "aggError": "",
       "aggOverflow": false,
       "aggSchema": [],
       "aggSeriesLimitReached": false,
       "aggType": "",
       "arguments": {},
       "columnCustomDisplayInfos": {},
       "data": [
        [
         "HELLO WORLD"
        ],
        [
         "This Is a Title Case Sentence"
        ],
        [
         "PySpark Is COOL"
        ],
        [
         "email: USER@DOMAIN.COM"
        ],
        [
         "123ABCxyz"
        ],
        [
         "UPPER and lower MIXED"
        ],
        [
         "NASA and ISRO"
        ],
        [
         "Sentence with Numbers 12345"
        ],
        [
         "CamelCaseVariableName"
        ],
        [
         "ALL CAPS TEXT"
        ],
        [
         "MiXeD CaSe StrInG"
        ]
       ],
       "datasetInfos": [],
       "dbfsResultPath": null,
       "isJsonSchema": true,
       "metadata": {},
       "overflow": false,
       "plotOptions": {
        "customPlotOptions": {},
        "displayType": "table",
        "pivotAggregation": null,
        "pivotColumns": null,
        "xColumns": null,
        "yColumns": null
       },
       "removedWidgets": [],
       "schema": [
        {
         "metadata": "{}",
         "name": "Comments",
         "type": "\"string\""
        }
       ],
       "type": "table"
      }
     },
     "output_type": "display_data"
    }
   ],
   "source": [
    "# Sample data for manual case-folding (mixed casing, acronyms, etc.)\n",
    "data = [\n",
    "    (\"HELLO WORLD\",),\n",
    "    (\"This Is a Title Case Sentence\",),\n",
    "    (\"PySpark Is COOL\",),\n",
    "    (\"email: USER@DOMAIN.COM\",),\n",
    "    (\"123ABCxyz\",),\n",
    "    (\"UPPER and lower MIXED\",),\n",
    "    (\"NASA and ISRO\",),\n",
    "    (\"Sentence with Numbers 12345\",),\n",
    "    (\"CamelCaseVariableName\",),\n",
    "    (\"ALL CAPS TEXT\",),\n",
    "    (\"MiXeD CaSe StrInG\",),\n",
    "]\n",
    "\n",
    "columns = [\"Comments\"]\n",
    "df_fold = spark.createDataFrame(data, columns)\n",
    "display(df_fold)"
   ]
  },
  {
   "cell_type": "code",
   "execution_count": 0,
   "metadata": {
    "application/vnd.databricks.v1+cell": {
     "cellMetadata": {
      "byteLimit": 2048000,
      "rowLimit": 10000
     },
     "inputWidgets": {},
     "nuid": "ba0c08e5-3ec4-4d73-8f94-762864f0918e",
     "showTitle": false,
     "tableResultSettingsMap": {},
     "title": ""
    }
   },
   "outputs": [
    {
     "output_type": "display_data",
     "data": {
      "text/html": [
       "<style scoped>\n",
       "  .table-result-container {\n",
       "    max-height: 300px;\n",
       "    overflow: auto;\n",
       "  }\n",
       "  table, th, td {\n",
       "    border: 1px solid black;\n",
       "    border-collapse: collapse;\n",
       "  }\n",
       "  th, td {\n",
       "    padding: 5px;\n",
       "  }\n",
       "  th {\n",
       "    text-align: left;\n",
       "  }\n",
       "</style><div class='table-result-container'><table class='table-result'><thead style='background-color: white'><tr><th>Comments</th><th>lowered_manual</th><th>upper_manual</th></tr></thead><tbody><tr><td>HELLO WORLD</td><td>hello world</td><td>HELLO WORLD</td></tr><tr><td>This Is a Title Case Sentence</td><td>this is a title case sentence</td><td>THIS IS A TITLE CASE SENTENCE</td></tr><tr><td>PySpark Is COOL</td><td>pyspark is cool</td><td>PYSPARK IS COOL</td></tr><tr><td>email: USER@DOMAIN.COM</td><td>email: user@domain.com</td><td>EMAIL: USER@DOMAIN.COM</td></tr><tr><td>123ABCxyz</td><td>123abcxyz</td><td>123ABCXYZ</td></tr><tr><td>UPPER and lower MIXED</td><td>upper and lower mixed</td><td>UPPER AND LOWER MIXED</td></tr><tr><td>NASA and ISRO</td><td>nasa and isro</td><td>NASA AND ISRO</td></tr><tr><td>Sentence with Numbers 12345</td><td>sentence with numbers 12345</td><td>SENTENCE WITH NUMBERS 12345</td></tr><tr><td>CamelCaseVariableName</td><td>camelcasevariablename</td><td>CAMELCASEVARIABLENAME</td></tr><tr><td>ALL CAPS TEXT</td><td>all caps text</td><td>ALL CAPS TEXT</td></tr><tr><td>MiXeD CaSe StrInG</td><td>mixed case string</td><td>MIXED CASE STRING</td></tr></tbody></table></div>"
      ]
     },
     "metadata": {
      "application/vnd.databricks.v1+output": {
       "addedWidgets": {},
       "aggData": [],
       "aggError": "",
       "aggOverflow": false,
       "aggSchema": [],
       "aggSeriesLimitReached": false,
       "aggType": "",
       "arguments": {},
       "columnCustomDisplayInfos": {},
       "data": [
        [
         "HELLO WORLD",
         "hello world",
         "HELLO WORLD"
        ],
        [
         "This Is a Title Case Sentence",
         "this is a title case sentence",
         "THIS IS A TITLE CASE SENTENCE"
        ],
        [
         "PySpark Is COOL",
         "pyspark is cool",
         "PYSPARK IS COOL"
        ],
        [
         "email: USER@DOMAIN.COM",
         "email: user@domain.com",
         "EMAIL: USER@DOMAIN.COM"
        ],
        [
         "123ABCxyz",
         "123abcxyz",
         "123ABCXYZ"
        ],
        [
         "UPPER and lower MIXED",
         "upper and lower mixed",
         "UPPER AND LOWER MIXED"
        ],
        [
         "NASA and ISRO",
         "nasa and isro",
         "NASA AND ISRO"
        ],
        [
         "Sentence with Numbers 12345",
         "sentence with numbers 12345",
         "SENTENCE WITH NUMBERS 12345"
        ],
        [
         "CamelCaseVariableName",
         "camelcasevariablename",
         "CAMELCASEVARIABLENAME"
        ],
        [
         "ALL CAPS TEXT",
         "all caps text",
         "ALL CAPS TEXT"
        ],
        [
         "MiXeD CaSe StrInG",
         "mixed case string",
         "MIXED CASE STRING"
        ]
       ],
       "datasetInfos": [],
       "dbfsResultPath": null,
       "isJsonSchema": true,
       "metadata": {},
       "overflow": false,
       "plotOptions": {
        "customPlotOptions": {},
        "displayType": "table",
        "pivotAggregation": null,
        "pivotColumns": null,
        "xColumns": null,
        "yColumns": null
       },
       "removedWidgets": [],
       "schema": [
        {
         "metadata": "{}",
         "name": "Comments",
         "type": "\"string\""
        },
        {
         "metadata": "{}",
         "name": "lowered_manual",
         "type": "\"string\""
        },
        {
         "metadata": "{}",
         "name": "upper_manual",
         "type": "\"string\""
        }
       ],
       "type": "table"
      }
     },
     "output_type": "display_data"
    }
   ],
   "source": [
    "import string\n",
    "\n",
    "# Manual case-folding: UPPER → lower\n",
    "upper = string.ascii_uppercase   # \"ABCDEFGHIJKLMNOPQRSTUVWXYZ\"\n",
    "lower = string.ascii_lowercase   # \"abcdefghijklmnopqrstuvwxyz\"\n",
    "\n",
    "df_fold_upr = df_fold.withColumn(\"lowered_manual\", translate(col(\"Comments\"), upper, lower)) \\\n",
    "                     .withColumn(\"upper_manual\", translate(col(\"Comments\"), lower, upper))\n",
    "\n",
    "# Show result\n",
    "display(df_fold_upr)"
   ]
  },
  {
   "cell_type": "markdown",
   "metadata": {
    "application/vnd.databricks.v1+cell": {
     "cellMetadata": {},
     "inputWidgets": {},
     "nuid": "d4eb81e2-f7b4-4d33-a446-de74c072013e",
     "showTitle": false,
     "tableResultSettingsMap": {},
     "title": ""
    }
   },
   "source": [
    "**7) Swap numbers:**\n",
    "\n",
    "     1 → 9, 2 → 8, 3 → 7\n",
    "     4 → 6, 5 → 5, 6 → 4\n",
    "     7 → 3, 8 → 2, 9 → 1"
   ]
  },
  {
   "cell_type": "code",
   "execution_count": 0,
   "metadata": {
    "application/vnd.databricks.v1+cell": {
     "cellMetadata": {
      "byteLimit": 2048000,
      "rowLimit": 10000
     },
     "inputWidgets": {},
     "nuid": "b3ef0f81-19b6-4479-bdd3-b0f821ec3aa8",
     "showTitle": false,
     "tableResultSettingsMap": {},
     "title": ""
    }
   },
   "outputs": [
    {
     "output_type": "display_data",
     "data": {
      "text/html": [
       "<style scoped>\n",
       "  .table-result-container {\n",
       "    max-height: 300px;\n",
       "    overflow: auto;\n",
       "  }\n",
       "  table, th, td {\n",
       "    border: 1px solid black;\n",
       "    border-collapse: collapse;\n",
       "  }\n",
       "  th, td {\n",
       "    padding: 5px;\n",
       "  }\n",
       "  th {\n",
       "    text-align: left;\n",
       "  }\n",
       "</style><div class='table-result-container'><table class='table-result'><thead style='background-color: white'><tr><th>Description</th><th>swapped_digits</th></tr></thead><tbody><tr><td>abc@123</td><td>abc@987</td></tr><tr><td>spark@456</td><td>spark@654</td></tr><tr><td>xyz@789</td><td>xyz@321</td></tr><tr><td>Chethan@456</td><td>Chethan@654</td></tr><tr><td>Balu@123</td><td>Balu@987</td></tr></tbody></table></div>"
      ]
     },
     "metadata": {
      "application/vnd.databricks.v1+output": {
       "addedWidgets": {},
       "aggData": [],
       "aggError": "",
       "aggOverflow": false,
       "aggSchema": [],
       "aggSeriesLimitReached": false,
       "aggType": "",
       "arguments": {},
       "columnCustomDisplayInfos": {},
       "data": [
        [
         "abc@123",
         "abc@987"
        ],
        [
         "spark@456",
         "spark@654"
        ],
        [
         "xyz@789",
         "xyz@321"
        ],
        [
         "Chethan@456",
         "Chethan@654"
        ],
        [
         "Balu@123",
         "Balu@987"
        ]
       ],
       "datasetInfos": [],
       "dbfsResultPath": null,
       "isJsonSchema": true,
       "metadata": {},
       "overflow": false,
       "plotOptions": {
        "customPlotOptions": {},
        "displayType": "table",
        "pivotAggregation": null,
        "pivotColumns": null,
        "xColumns": null,
        "yColumns": null
       },
       "removedWidgets": [],
       "schema": [
        {
         "metadata": "{}",
         "name": "Description",
         "type": "\"string\""
        },
        {
         "metadata": "{}",
         "name": "swapped_digits",
         "type": "\"string\""
        }
       ],
       "type": "table"
      }
     },
     "output_type": "display_data"
    }
   ],
   "source": [
    "df.withColumn(\"swapped_digits\", translate(\"Description\", \"123456789\", \"987654321\")).display()"
   ]
  },
  {
   "cell_type": "markdown",
   "metadata": {
    "application/vnd.databricks.v1+cell": {
     "cellMetadata": {},
     "inputWidgets": {},
     "nuid": "e4e1a252-8a7e-4af4-b667-f8db68d6a320",
     "showTitle": false,
     "tableResultSettingsMap": {},
     "title": ""
    }
   },
   "source": [
    "**8) Convert lowercase to uppercase manually**\n",
    "\n",
    "     a → A, b → B, c → C\n",
    "     d → D, e → E, f → F\n",
    "     g → G, h → H, i → I"
   ]
  },
  {
   "cell_type": "code",
   "execution_count": 0,
   "metadata": {
    "application/vnd.databricks.v1+cell": {
     "cellMetadata": {
      "byteLimit": 2048000,
      "rowLimit": 10000
     },
     "inputWidgets": {},
     "nuid": "f810c895-6b54-4219-a3f8-247157402a79",
     "showTitle": false,
     "tableResultSettingsMap": {},
     "title": ""
    }
   },
   "outputs": [
    {
     "output_type": "display_data",
     "data": {
      "text/html": [
       "<style scoped>\n",
       "  .table-result-container {\n",
       "    max-height: 300px;\n",
       "    overflow: auto;\n",
       "  }\n",
       "  table, th, td {\n",
       "    border: 1px solid black;\n",
       "    border-collapse: collapse;\n",
       "  }\n",
       "  th, td {\n",
       "    padding: 5px;\n",
       "  }\n",
       "  th {\n",
       "    text-align: left;\n",
       "  }\n",
       "</style><div class='table-result-container'><table class='table-result'><thead style='background-color: white'><tr><th>Description</th><th>upper_case</th></tr></thead><tbody><tr><td>abc@123</td><td>ABC@123</td></tr><tr><td>spark@456</td><td>spArk@456</td></tr><tr><td>xyz@789</td><td>xyz@789</td></tr><tr><td>Chethan@456</td><td>CHEtHAn@456</td></tr><tr><td>Balu@123</td><td>BAlu@123</td></tr></tbody></table></div>"
      ]
     },
     "metadata": {
      "application/vnd.databricks.v1+output": {
       "addedWidgets": {},
       "aggData": [],
       "aggError": "",
       "aggOverflow": false,
       "aggSchema": [],
       "aggSeriesLimitReached": false,
       "aggType": "",
       "arguments": {},
       "columnCustomDisplayInfos": {},
       "data": [
        [
         "abc@123",
         "ABC@123"
        ],
        [
         "spark@456",
         "spArk@456"
        ],
        [
         "xyz@789",
         "xyz@789"
        ],
        [
         "Chethan@456",
         "CHEtHAn@456"
        ],
        [
         "Balu@123",
         "BAlu@123"
        ]
       ],
       "datasetInfos": [],
       "dbfsResultPath": null,
       "isJsonSchema": true,
       "metadata": {},
       "overflow": false,
       "plotOptions": {
        "customPlotOptions": {},
        "displayType": "table",
        "pivotAggregation": null,
        "pivotColumns": null,
        "xColumns": null,
        "yColumns": null
       },
       "removedWidgets": [],
       "schema": [
        {
         "metadata": "{}",
         "name": "Description",
         "type": "\"string\""
        },
        {
         "metadata": "{}",
         "name": "upper_case",
         "type": "\"string\""
        }
       ],
       "type": "table"
      }
     },
     "output_type": "display_data"
    }
   ],
   "source": [
    "df.withColumn(\"upper_case\", translate(\"Description\", \"abcdefghi\", \"ABCDEFGHI\")).display()"
   ]
  },
  {
   "cell_type": "markdown",
   "metadata": {
    "application/vnd.databricks.v1+cell": {
     "cellMetadata": {},
     "inputWidgets": {},
     "nuid": "24b7344b-e878-4efa-949d-b6bac23c6f75",
     "showTitle": false,
     "tableResultSettingsMap": {},
     "title": ""
    }
   },
   "source": [
    "**9) Handling Characters of Different Lengths**\n",
    "- If **matching_chars and replace_chars** have **different lengths**, PySpark will **match characters one by one**, ignoring **extra characters** in the longer string.\n",
    "- Notice that here, the **last character (i)** in **\"aei\"** has no corresponding replacement, so it is ignored."
   ]
  },
  {
   "cell_type": "markdown",
   "metadata": {
    "application/vnd.databricks.v1+cell": {
     "cellMetadata": {},
     "inputWidgets": {},
     "nuid": "2309308f-f48a-43a1-b5d9-18a500df0919",
     "showTitle": false,
     "tableResultSettingsMap": {},
     "title": ""
    }
   },
   "source": [
    "     translate(col(\"text\"), \"aei\", \"xy\")\n",
    "\n",
    "     'a' → 'x'\n",
    "     'e' → 'y'\n",
    "     'i' → ❌ No mapping → gets removed\n"
   ]
  },
  {
   "cell_type": "code",
   "execution_count": 0,
   "metadata": {
    "application/vnd.databricks.v1+cell": {
     "cellMetadata": {
      "byteLimit": 2048000,
      "rowLimit": 10000
     },
     "inputWidgets": {},
     "nuid": "cd09e9ce-4897-45cc-95b5-ae682375175b",
     "showTitle": false,
     "tableResultSettingsMap": {},
     "title": ""
    }
   },
   "outputs": [
    {
     "output_type": "display_data",
     "data": {
      "text/html": [
       "<style scoped>\n",
       "  .table-result-container {\n",
       "    max-height: 300px;\n",
       "    overflow: auto;\n",
       "  }\n",
       "  table, th, td {\n",
       "    border: 1px solid black;\n",
       "    border-collapse: collapse;\n",
       "  }\n",
       "  th, td {\n",
       "    padding: 5px;\n",
       "  }\n",
       "  th {\n",
       "    text-align: left;\n",
       "  }\n",
       "</style><div class='table-result-container'><table class='table-result'><thead style='background-color: white'><tr><th>text</th><th>translated</th></tr></thead><tbody><tr><td>apple pie</td><td>xpply py</td></tr><tr><td>eagle</td><td>yxgly</td></tr><tr><td>ice cream</td><td>cy cryxm</td></tr><tr><td>aim</td><td>xm</td></tr><tr><td>fine wine</td><td>fny wny</td></tr><tr><td>banana</td><td>bxnxnx</td></tr><tr><td>juice</td><td>jucy</td></tr><tr><td>nice</td><td>ncy</td></tr><tr><td>elite</td><td>ylty</td></tr></tbody></table></div>"
      ]
     },
     "metadata": {
      "application/vnd.databricks.v1+output": {
       "addedWidgets": {},
       "aggData": [],
       "aggError": "",
       "aggOverflow": false,
       "aggSchema": [],
       "aggSeriesLimitReached": false,
       "aggType": "",
       "arguments": {},
       "columnCustomDisplayInfos": {},
       "data": [
        [
         "apple pie",
         "xpply py"
        ],
        [
         "eagle",
         "yxgly"
        ],
        [
         "ice cream",
         "cy cryxm"
        ],
        [
         "aim",
         "xm"
        ],
        [
         "fine wine",
         "fny wny"
        ],
        [
         "banana",
         "bxnxnx"
        ],
        [
         "juice",
         "jucy"
        ],
        [
         "nice",
         "ncy"
        ],
        [
         "elite",
         "ylty"
        ]
       ],
       "datasetInfos": [],
       "dbfsResultPath": null,
       "isJsonSchema": true,
       "metadata": {},
       "overflow": false,
       "plotOptions": {
        "customPlotOptions": {},
        "displayType": "table",
        "pivotAggregation": null,
        "pivotColumns": null,
        "xColumns": null,
        "yColumns": null
       },
       "removedWidgets": [],
       "schema": [
        {
         "metadata": "{}",
         "name": "text",
         "type": "\"string\""
        },
        {
         "metadata": "{}",
         "name": "translated",
         "type": "\"string\""
        }
       ],
       "type": "table"
      }
     },
     "output_type": "display_data"
    }
   ],
   "source": [
    "from pyspark.sql.functions import translate, col\n",
    "\n",
    "# Sample data containing 'a', 'e', and 'i'\n",
    "data = [\n",
    "    (\"apple pie\",),\n",
    "    (\"eagle\",),\n",
    "    (\"ice cream\",),\n",
    "    (\"aim\",),\n",
    "    (\"fine wine\",),\n",
    "    (\"banana\",),\n",
    "    (\"juice\",),\n",
    "    (\"nice\",),\n",
    "    (\"elite\",),\n",
    "]\n",
    "\n",
    "columns = [\"text\"]\n",
    "df_diff = spark.createDataFrame(data, columns)\n",
    "\n",
    "# Translate with unequal lengths: 'aei' → 'xy'\n",
    "# 'a' → 'x', 'e' → 'y', 'i' → removed\n",
    "df_diff_len = df_diff.withColumn(\"translated\", translate(col(\"text\"), \"aei\", \"xy\"))\n",
    "\n",
    "# Show the result\n",
    "display(df_diff_len)"
   ]
  },
  {
   "cell_type": "markdown",
   "metadata": {
    "application/vnd.databricks.v1+cell": {
     "cellMetadata": {},
     "inputWidgets": {},
     "nuid": "62125cc6-5ba8-4e40-97a9-47153bfc1a13",
     "showTitle": false,
     "tableResultSettingsMap": {},
     "title": ""
    }
   },
   "source": [
    "**10) Using translate() with when() to Condition Translation**\n",
    "\n",
    "     # If the \"Description\" contains \"a\", then apply character replacements:\n",
    "          'a' → 'x'\n",
    "          'e' → 'y'\n",
    "          'i' → 'z'\n",
    "     # Otherwise, keep the original \"Description\"."
   ]
  },
  {
   "cell_type": "code",
   "execution_count": 0,
   "metadata": {
    "application/vnd.databricks.v1+cell": {
     "cellMetadata": {
      "byteLimit": 2048000,
      "rowLimit": 10000
     },
     "inputWidgets": {},
     "nuid": "93ec0a42-a579-4ef5-aac2-ff7d104ba001",
     "showTitle": false,
     "tableResultSettingsMap": {},
     "title": ""
    }
   },
   "outputs": [
    {
     "output_type": "display_data",
     "data": {
      "text/html": [
       "<style scoped>\n",
       "  .table-result-container {\n",
       "    max-height: 300px;\n",
       "    overflow: auto;\n",
       "  }\n",
       "  table, th, td {\n",
       "    border: 1px solid black;\n",
       "    border-collapse: collapse;\n",
       "  }\n",
       "  th, td {\n",
       "    padding: 5px;\n",
       "  }\n",
       "  th {\n",
       "    text-align: left;\n",
       "  }\n",
       "</style><div class='table-result-container'><table class='table-result'><thead style='background-color: white'><tr><th>Description</th><th>conditioned_text</th></tr></thead><tbody><tr><td>apple pie</td><td>xpply pzy</td></tr><tr><td>orange juice</td><td>orxngy juzcy</td></tr><tr><td>Ice cream</td><td>Icy cryxm</td></tr><tr><td>milk</td><td>milk</td></tr><tr><td>banana</td><td>bxnxnx</td></tr><tr><td>tea</td><td>tyx</td></tr><tr><td>coffee</td><td>coffee</td></tr><tr><td>sugar</td><td>sugxr</td></tr><tr><td>energy drink</td><td>energy drink</td></tr><tr><td>juice</td><td>juice</td></tr></tbody></table></div>"
      ]
     },
     "metadata": {
      "application/vnd.databricks.v1+output": {
       "addedWidgets": {},
       "aggData": [],
       "aggError": "",
       "aggOverflow": false,
       "aggSchema": [],
       "aggSeriesLimitReached": false,
       "aggType": "",
       "arguments": {},
       "columnCustomDisplayInfos": {},
       "data": [
        [
         "apple pie",
         "xpply pzy"
        ],
        [
         "orange juice",
         "orxngy juzcy"
        ],
        [
         "Ice cream",
         "Icy cryxm"
        ],
        [
         "milk",
         "milk"
        ],
        [
         "banana",
         "bxnxnx"
        ],
        [
         "tea",
         "tyx"
        ],
        [
         "coffee",
         "coffee"
        ],
        [
         "sugar",
         "sugxr"
        ],
        [
         "energy drink",
         "energy drink"
        ],
        [
         "juice",
         "juice"
        ]
       ],
       "datasetInfos": [],
       "dbfsResultPath": null,
       "isJsonSchema": true,
       "metadata": {},
       "overflow": false,
       "plotOptions": {
        "customPlotOptions": {},
        "displayType": "table",
        "pivotAggregation": null,
        "pivotColumns": null,
        "xColumns": null,
        "yColumns": null
       },
       "removedWidgets": [],
       "schema": [
        {
         "metadata": "{}",
         "name": "Description",
         "type": "\"string\""
        },
        {
         "metadata": "{}",
         "name": "conditioned_text",
         "type": "\"string\""
        }
       ],
       "type": "table"
      }
     },
     "output_type": "display_data"
    }
   ],
   "source": [
    "from pyspark.sql.functions import when, translate, col\n",
    "\n",
    "# Sample data\n",
    "data = [\n",
    "    (\"apple pie\",),\n",
    "    (\"orange juice\",),\n",
    "    (\"Ice cream\",),\n",
    "    (\"milk\",),\n",
    "    (\"banana\",),\n",
    "    (\"tea\",),\n",
    "    (\"coffee\",),\n",
    "    (\"sugar\",),\n",
    "    (\"energy drink\",),\n",
    "    (\"juice\",)\n",
    "]\n",
    "\n",
    "columns = [\"Description\"]\n",
    "df_trans = spark.createDataFrame(data, columns)\n",
    "\n",
    "# Apply condition: if 'a' is in Description, then translate 'aei' → 'xyz'\n",
    "df_trns_aei = df_trans.withColumn(\n",
    "    \"conditioned_text\",\n",
    "    when(col(\"Description\").contains(\"a\"), translate(\"Description\", \"aei\", \"xyz\")).otherwise(col(\"Description\"))\n",
    ")\n",
    "\n",
    "# Display result\n",
    "display(df_trns_aei)"
   ]
  },
  {
   "cell_type": "markdown",
   "metadata": {
    "application/vnd.databricks.v1+cell": {
     "cellMetadata": {},
     "inputWidgets": {},
     "nuid": "874bca99-9f31-48f0-8e73-a9e90d83b3a1",
     "showTitle": false,
     "tableResultSettingsMap": {},
     "title": ""
    }
   },
   "source": [
    "**11) Replacing characters in PySpark Column**\n",
    "- Suppose we wanted to make the following character replacements:\n",
    "\n",
    "      A -> #\n",
    "      e -> @\n",
    "      o -> %"
   ]
  },
  {
   "cell_type": "code",
   "execution_count": 0,
   "metadata": {
    "application/vnd.databricks.v1+cell": {
     "cellMetadata": {
      "byteLimit": 2048000,
      "rowLimit": 10000
     },
     "inputWidgets": {},
     "nuid": "e14dd4c3-f28e-49da-a848-9ed39fb4e4f8",
     "showTitle": false,
     "tableResultSettingsMap": {},
     "title": ""
    }
   },
   "outputs": [
    {
     "output_type": "display_data",
     "data": {
      "text/html": [
       "<style scoped>\n",
       "  .table-result-container {\n",
       "    max-height: 300px;\n",
       "    overflow: auto;\n",
       "  }\n",
       "  table, th, td {\n",
       "    border: 1px solid black;\n",
       "    border-collapse: collapse;\n",
       "  }\n",
       "  th, td {\n",
       "    padding: 5px;\n",
       "  }\n",
       "  th {\n",
       "    text-align: left;\n",
       "  }\n",
       "</style><div class='table-result-container'><table class='table-result'><thead style='background-color: white'><tr><th>name</th><th>name_masked</th></tr></thead><tbody><tr><td>Alice</td><td>#lic@</td></tr><tr><td>George</td><td>G@%rg@</td></tr><tr><td>Amol</td><td>#m%l</td></tr><tr><td>Eon</td><td>E%n</td></tr><tr><td>Rakesh</td><td>Rak@sh</td></tr><tr><td>Leona</td><td>L@%na</td></tr><tr><td>Sonia</td><td>S%nia</td></tr><tr><td>Arjun</td><td>#rjun</td></tr><tr><td>Deepak</td><td>D@@pak</td></tr><tr><td>Monica</td><td>M%nica</td></tr></tbody></table></div>"
      ]
     },
     "metadata": {
      "application/vnd.databricks.v1+output": {
       "addedWidgets": {},
       "aggData": [],
       "aggError": "",
       "aggOverflow": false,
       "aggSchema": [],
       "aggSeriesLimitReached": false,
       "aggType": "",
       "arguments": {},
       "columnCustomDisplayInfos": {},
       "data": [
        [
         "Alice",
         "#lic@"
        ],
        [
         "George",
         "G@%rg@"
        ],
        [
         "Amol",
         "#m%l"
        ],
        [
         "Eon",
         "E%n"
        ],
        [
         "Rakesh",
         "Rak@sh"
        ],
        [
         "Leona",
         "L@%na"
        ],
        [
         "Sonia",
         "S%nia"
        ],
        [
         "Arjun",
         "#rjun"
        ],
        [
         "Deepak",
         "D@@pak"
        ],
        [
         "Monica",
         "M%nica"
        ]
       ],
       "datasetInfos": [],
       "dbfsResultPath": null,
       "isJsonSchema": true,
       "metadata": {},
       "overflow": false,
       "plotOptions": {
        "customPlotOptions": {},
        "displayType": "table",
        "pivotAggregation": null,
        "pivotColumns": null,
        "xColumns": null,
        "yColumns": null
       },
       "removedWidgets": [],
       "schema": [
        {
         "metadata": "{}",
         "name": "name",
         "type": "\"string\""
        },
        {
         "metadata": "{}",
         "name": "name_masked",
         "type": "\"string\""
        }
       ],
       "type": "table"
      }
     },
     "output_type": "display_data"
    }
   ],
   "source": [
    "# Sample data with names (containing A, e, o)\n",
    "data = [\n",
    "    (\"Alice\",),\n",
    "    (\"George\",),\n",
    "    (\"Amol\",),\n",
    "    (\"Eon\",),\n",
    "    (\"Rakesh\",),\n",
    "    (\"Leona\",),\n",
    "    (\"Sonia\",),\n",
    "    (\"Arjun\",),\n",
    "    (\"Deepak\",),\n",
    "    (\"Monica\",),\n",
    "]\n",
    "\n",
    "columns = [\"name\"]\n",
    "df_repl = spark.createDataFrame(data, columns)\n",
    "\n",
    "# Apply custom character translation: A → #, e → @, o → %\n",
    "df_new_repl = df_repl.withColumn(\"name_masked\", translate(col(\"name\"), \"Aeo\", \"#@%\"))\n",
    "\n",
    "# Show results\n",
    "display(df_new_repl)"
   ]
  },
  {
   "cell_type": "markdown",
   "metadata": {
    "application/vnd.databricks.v1+cell": {
     "cellMetadata": {},
     "inputWidgets": {},
     "nuid": "a2a2fbd0-8462-4cfd-b900-1079f3053307",
     "showTitle": false,
     "tableResultSettingsMap": {},
     "title": ""
    }
   },
   "source": [
    "**Notes:**\n",
    "- Only **single-character** mappings are supported.\n",
    "- It **does not support substring** replacement (use **regexp_replace** for that)."
   ]
  }
 ],
 "metadata": {
  "application/vnd.databricks.v1+notebook": {
   "computePreferences": null,
   "dashboards": [],
   "environmentMetadata": {
    "base_environment": "",
    "environment_version": "1"
   },
   "inputWidgetPreferences": null,
   "language": "python",
   "notebookMetadata": {
    "pythonIndentUnit": 4
   },
   "notebookName": "142_String Functions | How to replace, remove characters using translate()",
   "widgets": {}
  }
 },
 "nbformat": 4,
 "nbformat_minor": 0
}