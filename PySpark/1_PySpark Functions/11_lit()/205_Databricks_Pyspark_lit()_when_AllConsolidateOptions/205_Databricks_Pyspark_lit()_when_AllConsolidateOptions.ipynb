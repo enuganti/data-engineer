{
 "cells": [
  {
   "cell_type": "markdown",
   "metadata": {
    "application/vnd.databricks.v1+cell": {
     "cellMetadata": {},
     "inputWidgets": {},
     "nuid": "bc8677e7-838a-4775-8e12-153ebd670c11",
     "showTitle": false,
     "tableResultSettingsMap": {},
     "title": ""
    }
   },
   "source": [
    "#### **lit()**\n",
    "\n",
    "- PySpark 𝐥𝐢𝐭() function is used to **add constant or literal value** as a **new column** to the DataFrame.\n",
    "\n",
    "- We can also use this function to derive the **new column** based on **some conditions**."
   ]
  },
  {
   "cell_type": "code",
   "execution_count": 0,
   "metadata": {
    "application/vnd.databricks.v1+cell": {
     "cellMetadata": {
      "byteLimit": 2048000,
      "rowLimit": 10000
     },
     "inputWidgets": {},
     "nuid": "56730867-c243-4394-8e24-896d279e04cf",
     "showTitle": false,
     "tableResultSettingsMap": {},
     "title": ""
    }
   },
   "outputs": [],
   "source": [
    "from pyspark.sql.functions import lit, col, when, current_timestamp, to_timestamp\n",
    "from pyspark.sql.types import StructType, StructField, IntegerType, StringType, LongType\n",
    "from datetime import datetime"
   ]
  },
  {
   "cell_type": "markdown",
   "metadata": {
    "application/vnd.databricks.v1+cell": {
     "cellMetadata": {},
     "inputWidgets": {},
     "nuid": "ecb37bd9-f5a8-44af-af77-4bdbd29fbb17",
     "showTitle": false,
     "tableResultSettingsMap": {},
     "title": ""
    }
   },
   "source": [
    "#### **EX 01**"
   ]
  },
  {
   "cell_type": "code",
   "execution_count": 0,
   "metadata": {
    "application/vnd.databricks.v1+cell": {
     "cellMetadata": {
      "byteLimit": 2048000,
      "rowLimit": 10000
     },
     "inputWidgets": {},
     "nuid": "85d66178-f2bf-42c9-aeb8-a51c02d40363",
     "showTitle": false,
     "tableResultSettingsMap": {},
     "title": ""
    }
   },
   "outputs": [
    {
     "output_type": "stream",
     "name": "stdout",
     "output_type": "stream",
     "text": [
      "+---------+---+------+------------+------+------+\n|address  |age|height|name        |rollno|weight|\n+---------+---+------+------------+------+------+\n|Guntur   |23 |5.79  |sravan      |01    |67    |\n|Hyderabad|26 |3.79  |ojaswi      |02    |34    |\n|Chennai  |37 |2.79  |gnanesh     |03    |37    |\n|Bangalore|29 |3.69  |rohith      |04    |28    |\n|Hyderabad|45 |5.59  |sridevi     |05    |54    |\n|Delhi    |26 |5.79  |Amit Mishra |01    |67    |\n|Mumbai   |56 |4.99  |Niraj Guptha|02    |34    |\n|Delhi    |57 |3.79  |Sridharan   |03    |47    |\n|Bangalore|49 |4.69  |Kiran       |04    |38    |\n|Nasik    |42 |6.0   |Dhiraj      |05    |34    |\n|Kolkata  |42 |6.0   |Dhiraj      |05    |34    |\n|Gurgaon  |42 |6.0   |Dhiraj      |05    |34    |\n+---------+---+------+------------+------+------+\n\nroot\n |-- address: string (nullable = true)\n |-- age: long (nullable = true)\n |-- height: double (nullable = true)\n |-- name: string (nullable = true)\n |-- rollno: string (nullable = true)\n |-- weight: long (nullable = true)\n\n"
     ]
    }
   ],
   "source": [
    "data =[{'rollno':'01', 'name':'sravan', 'age':23, 'height':5.79, 'weight':67, 'address':'Guntur'},\n",
    "       {'rollno':'02', 'name':'ojaswi', 'age':26, 'height':3.79, 'weight':34, 'address':'Hyderabad'},\n",
    "       {'rollno':'03', 'name':'gnanesh', 'age':37, 'height':2.79, 'weight':37, 'address':'Chennai'},\n",
    "       {'rollno':'04', 'name':'rohith', 'age':29, 'height':3.69, 'weight':28, 'address':'Bangalore'},\n",
    "       {'rollno':'05', 'name':'sridevi', 'age':45, 'height':5.59, 'weight':54, 'address':'Hyderabad'},\n",
    "       {'rollno':'01', 'name':'Amit Mishra', 'age':26, 'height':5.79, 'weight':67, 'address':'Delhi'},\n",
    "       {'rollno':'02', 'name':'Niraj Guptha', 'age':56, 'height':4.99, 'weight':34, 'address':'Mumbai'},\n",
    "       {'rollno':'03', 'name':'Sridharan', 'age':57, 'height':3.79, 'weight':47, 'address':'Delhi'},\n",
    "       {'rollno':'04', 'name':'Kiran', 'age':49, 'height':4.69, 'weight':38, 'address':'Bangalore'},\n",
    "       {'rollno':'05', 'name':'Dhiraj', 'age':42, 'height':6.00, 'weight':34, 'address':'Nasik'},\n",
    "       {'rollno':'05', 'name':'Dhiraj', 'age':42, 'height':6.00, 'weight':34, 'address':'Kolkata'},\n",
    "       {'rollno':'05', 'name':'Dhiraj', 'age':42, 'height':6.00, 'weight':34, 'address':'Gurgaon'}]\n",
    "\n",
    "# create the dataframe\n",
    "df = spark.createDataFrame(data)\n",
    "df.show(truncate=False)\n",
    "df.printSchema()"
   ]
  },
  {
   "cell_type": "markdown",
   "metadata": {
    "application/vnd.databricks.v1+cell": {
     "cellMetadata": {},
     "inputWidgets": {},
     "nuid": "9bd38159-ccb6-48a9-b0ba-27bdcf72ede4",
     "showTitle": false,
     "tableResultSettingsMap": {},
     "title": ""
    }
   },
   "source": [
    "##### a) Adding Constant Column\n",
    "- PySpark lit() function is used to **add constant or literal value** as a **new column** to the DataFrame."
   ]
  },
  {
   "cell_type": "code",
   "execution_count": 0,
   "metadata": {
    "application/vnd.databricks.v1+cell": {
     "cellMetadata": {
      "byteLimit": 2048000,
      "rowLimit": 10000
     },
     "inputWidgets": {},
     "nuid": "dec1ac76-9e6f-4da0-a66e-fa5ec32cb49d",
     "showTitle": false,
     "tableResultSettingsMap": {},
     "title": ""
    }
   },
   "outputs": [
    {
     "output_type": "stream",
     "name": "stdout",
     "output_type": "stream",
     "text": [
      "+---------+---+------+------------+------+------+---------+\n|address  |age|height|name        |rollno|weight|source_id|\n+---------+---+------+------------+------+------+---------+\n|Guntur   |23 |5.79  |sravan      |01    |67    |2        |\n|Hyderabad|26 |3.79  |ojaswi      |02    |34    |2        |\n|Chennai  |37 |2.79  |gnanesh     |03    |37    |2        |\n|Bangalore|29 |3.69  |rohith      |04    |28    |2        |\n|Hyderabad|45 |5.59  |sridevi     |05    |54    |2        |\n|Delhi    |26 |5.79  |Amit Mishra |01    |67    |2        |\n|Mumbai   |56 |4.99  |Niraj Guptha|02    |34    |2        |\n|Delhi    |57 |3.79  |Sridharan   |03    |47    |2        |\n|Bangalore|49 |4.69  |Kiran       |04    |38    |2        |\n|Nasik    |42 |6.0   |Dhiraj      |05    |34    |2        |\n|Kolkata  |42 |6.0   |Dhiraj      |05    |34    |2        |\n|Gurgaon  |42 |6.0   |Dhiraj      |05    |34    |2        |\n+---------+---+------+------------+------+------+---------+\n\n"
     ]
    }
   ],
   "source": [
    "# add a new column: \"source_id\"\n",
    "df = df.select(\"*\", lit(2).alias(\"source_id\"))\n",
    "\n",
    "# display the final dataframe\n",
    "df.show(truncate=False)"
   ]
  },
  {
   "cell_type": "code",
   "execution_count": 0,
   "metadata": {
    "application/vnd.databricks.v1+cell": {
     "cellMetadata": {
      "byteLimit": 2048000,
      "rowLimit": 10000
     },
     "inputWidgets": {},
     "nuid": "4a73e912-8ced-4c43-a2d8-889d23745dc4",
     "showTitle": false,
     "tableResultSettingsMap": {},
     "title": ""
    }
   },
   "outputs": [],
   "source": [
    "# add a new column: \"source_id\"\n",
    "df = df.select(\"*\", lit(datetime.now()).alias(\"Today's Date\"),\n",
    "                    lit('').alias('vehicle_description'),\n",
    "                    to_timestamp(lit(\"1900-01-01 00:00:00\"),'yyyy-MM-dd HH:mm:ss').alias('valid_from_datetime'),\n",
    "                    to_timestamp(lit(\"9999-12-31 23:59:59\"),'yyyy-MM-dd HH:mm:ss').alias('valid_to_datetime'))\n",
    "\n",
    "# display the final dataframe\n",
    "display(df)"
   ]
  },
  {
   "cell_type": "code",
   "execution_count": 0,
   "metadata": {
    "application/vnd.databricks.v1+cell": {
     "cellMetadata": {
      "byteLimit": 2048000,
      "rowLimit": 10000
     },
     "inputWidgets": {},
     "nuid": "8f405063-c07a-4825-86c1-c44fdc895614",
     "showTitle": false,
     "tableResultSettingsMap": {},
     "title": ""
    }
   },
   "outputs": [
    {
     "output_type": "display_data",
     "data": {
      "text/html": [
       "<style scoped>\n",
       "  .table-result-container {\n",
       "    max-height: 300px;\n",
       "    overflow: auto;\n",
       "  }\n",
       "  table, th, td {\n",
       "    border: 1px solid black;\n",
       "    border-collapse: collapse;\n",
       "  }\n",
       "  th, td {\n",
       "    padding: 5px;\n",
       "  }\n",
       "  th {\n",
       "    text-align: left;\n",
       "  }\n",
       "</style><div class='table-result-container'><table class='table-result'><thead style='background-color: white'><tr><th>address</th><th>age</th><th>height</th><th>name</th><th>rollno</th><th>weight</th><th>source_id</th><th>PinCode_City</th></tr></thead><tbody><tr><td>Guntur</td><td>23</td><td>5.79</td><td>sravan</td><td>01</td><td>67</td><td>2</td><td>Guntur</td></tr><tr><td>Hyderabad</td><td>26</td><td>3.79</td><td>ojaswi</td><td>02</td><td>34</td><td>2</td><td>Hyderabad</td></tr><tr><td>Chennai</td><td>37</td><td>2.79</td><td>gnanesh</td><td>03</td><td>37</td><td>2</td><td>Chennai</td></tr><tr><td>Bangalore</td><td>29</td><td>3.69</td><td>rohith</td><td>04</td><td>28</td><td>2</td><td>Bangalore</td></tr><tr><td>Hyderabad</td><td>45</td><td>5.59</td><td>sridevi</td><td>05</td><td>54</td><td>2</td><td>Hyderabad</td></tr><tr><td>Delhi</td><td>26</td><td>5.79</td><td>Amit Mishra</td><td>01</td><td>67</td><td>2</td><td>Delhi</td></tr><tr><td>Mumbai</td><td>56</td><td>4.99</td><td>Niraj Guptha</td><td>02</td><td>34</td><td>2</td><td>Mumbai</td></tr><tr><td>Delhi</td><td>57</td><td>3.79</td><td>Sridharan</td><td>03</td><td>47</td><td>2</td><td>Delhi</td></tr><tr><td>Bangalore</td><td>49</td><td>4.69</td><td>Kiran</td><td>04</td><td>38</td><td>2</td><td>Bangalore</td></tr><tr><td>Nasik</td><td>42</td><td>6.0</td><td>Dhiraj</td><td>05</td><td>34</td><td>2</td><td>Nasik</td></tr><tr><td>Kolkata</td><td>42</td><td>6.0</td><td>Dhiraj</td><td>05</td><td>34</td><td>2</td><td>Kolkata</td></tr><tr><td>Gurgaon</td><td>42</td><td>6.0</td><td>Dhiraj</td><td>05</td><td>34</td><td>2</td><td>Gurgaon</td></tr></tbody></table></div>"
      ]
     },
     "metadata": {
      "application/vnd.databricks.v1+output": {
       "addedWidgets": {},
       "aggData": [],
       "aggError": "",
       "aggOverflow": false,
       "aggSchema": [],
       "aggSeriesLimitReached": false,
       "aggType": "",
       "arguments": {},
       "columnCustomDisplayInfos": {},
       "data": [
        [
         "Guntur",
         23,
         5.79,
         "sravan",
         "01",
         67,
         2,
         "Guntur"
        ],
        [
         "Hyderabad",
         26,
         3.79,
         "ojaswi",
         "02",
         34,
         2,
         "Hyderabad"
        ],
        [
         "Chennai",
         37,
         2.79,
         "gnanesh",
         "03",
         37,
         2,
         "Chennai"
        ],
        [
         "Bangalore",
         29,
         3.69,
         "rohith",
         "04",
         28,
         2,
         "Bangalore"
        ],
        [
         "Hyderabad",
         45,
         5.59,
         "sridevi",
         "05",
         54,
         2,
         "Hyderabad"
        ],
        [
         "Delhi",
         26,
         5.79,
         "Amit Mishra",
         "01",
         67,
         2,
         "Delhi"
        ],
        [
         "Mumbai",
         56,
         4.99,
         "Niraj Guptha",
         "02",
         34,
         2,
         "Mumbai"
        ],
        [
         "Delhi",
         57,
         3.79,
         "Sridharan",
         "03",
         47,
         2,
         "Delhi"
        ],
        [
         "Bangalore",
         49,
         4.69,
         "Kiran",
         "04",
         38,
         2,
         "Bangalore"
        ],
        [
         "Nasik",
         42,
         6.0,
         "Dhiraj",
         "05",
         34,
         2,
         "Nasik"
        ],
        [
         "Kolkata",
         42,
         6.0,
         "Dhiraj",
         "05",
         34,
         2,
         "Kolkata"
        ],
        [
         "Gurgaon",
         42,
         6.0,
         "Dhiraj",
         "05",
         34,
         2,
         "Gurgaon"
        ]
       ],
       "datasetInfos": [],
       "dbfsResultPath": null,
       "isJsonSchema": true,
       "metadata": {},
       "overflow": false,
       "plotOptions": {
        "customPlotOptions": {},
        "displayType": "table",
        "pivotAggregation": null,
        "pivotColumns": null,
        "xColumns": null,
        "yColumns": null
       },
       "removedWidgets": [],
       "schema": [
        {
         "metadata": "{}",
         "name": "address",
         "type": "\"string\""
        },
        {
         "metadata": "{}",
         "name": "age",
         "type": "\"long\""
        },
        {
         "metadata": "{}",
         "name": "height",
         "type": "\"double\""
        },
        {
         "metadata": "{}",
         "name": "name",
         "type": "\"string\""
        },
        {
         "metadata": "{}",
         "name": "rollno",
         "type": "\"string\""
        },
        {
         "metadata": "{}",
         "name": "weight",
         "type": "\"long\""
        },
        {
         "metadata": "{}",
         "name": "source_id",
         "type": "\"integer\""
        },
        {
         "metadata": "{}",
         "name": "PinCode_City",
         "type": "\"string\""
        }
       ],
       "type": "table"
      }
     },
     "output_type": "display_data"
    }
   ],
   "source": [
    "# add a new column: \"PinCode City from address column\n",
    "df = df.select(\"*\", lit(df.address).alias(\"PinCode_City\"))\n",
    "\n",
    "# display the final dataframe\n",
    "display(df)"
   ]
  },
  {
   "cell_type": "markdown",
   "metadata": {
    "application/vnd.databricks.v1+cell": {
     "cellMetadata": {},
     "inputWidgets": {},
     "nuid": "056cfbf2-6274-4036-87da-13a26408245b",
     "showTitle": false,
     "tableResultSettingsMap": {},
     "title": ""
    }
   },
   "source": [
    "##### b) withColumn"
   ]
  },
  {
   "cell_type": "code",
   "execution_count": 0,
   "metadata": {
    "application/vnd.databricks.v1+cell": {
     "cellMetadata": {
      "byteLimit": 2048000,
      "rowLimit": 10000
     },
     "inputWidgets": {},
     "nuid": "1b989d52-65d2-48c2-acb8-8444d2bc9746",
     "showTitle": false,
     "tableResultSettingsMap": {},
     "title": ""
    }
   },
   "outputs": [
    {
     "output_type": "display_data",
     "data": {
      "text/html": [
       "<style scoped>\n",
       "  .table-result-container {\n",
       "    max-height: 300px;\n",
       "    overflow: auto;\n",
       "  }\n",
       "  table, th, td {\n",
       "    border: 1px solid black;\n",
       "    border-collapse: collapse;\n",
       "  }\n",
       "  th, td {\n",
       "    padding: 5px;\n",
       "  }\n",
       "  th {\n",
       "    text-align: left;\n",
       "  }\n",
       "</style><div class='table-result-container'><table class='table-result'><thead style='background-color: white'><tr><th>address</th><th>age</th><th>height</th><th>name</th><th>rollno</th><th>weight</th><th>source_id</th><th>PinCode_City</th><th>PinCode</th></tr></thead><tbody><tr><td>Guntur</td><td>23</td><td>5.79</td><td>sravan</td><td>01</td><td>67</td><td>2</td><td>Guntur</td><td>522002</td></tr><tr><td>Hyderabad</td><td>26</td><td>3.79</td><td>ojaswi</td><td>02</td><td>34</td><td>2</td><td>Hyderabad</td><td>500001</td></tr><tr><td>Chennai</td><td>37</td><td>2.79</td><td>gnanesh</td><td>03</td><td>37</td><td>2</td><td>Chennai</td><td>600011</td></tr><tr><td>Bangalore</td><td>29</td><td>3.69</td><td>rohith</td><td>04</td><td>28</td><td>2</td><td>Bangalore</td><td>560001</td></tr><tr><td>Hyderabad</td><td>45</td><td>5.59</td><td>sridevi</td><td>05</td><td>54</td><td>2</td><td>Hyderabad</td><td>500001</td></tr><tr><td>Delhi</td><td>26</td><td>5.79</td><td>Amit Mishra</td><td>01</td><td>67</td><td>2</td><td>Delhi</td><td>110006</td></tr><tr><td>Mumbai</td><td>56</td><td>4.99</td><td>Niraj Guptha</td><td>02</td><td>34</td><td>2</td><td>Mumbai</td><td>400001</td></tr><tr><td>Delhi</td><td>57</td><td>3.79</td><td>Sridharan</td><td>03</td><td>47</td><td>2</td><td>Delhi</td><td>110006</td></tr><tr><td>Bangalore</td><td>49</td><td>4.69</td><td>Kiran</td><td>04</td><td>38</td><td>2</td><td>Bangalore</td><td>560001</td></tr><tr><td>Nasik</td><td>42</td><td>6.0</td><td>Dhiraj</td><td>05</td><td>34</td><td>2</td><td>Nasik</td><td>402343</td></tr><tr><td>Kolkata</td><td>42</td><td>6.0</td><td>Dhiraj</td><td>05</td><td>34</td><td>2</td><td>Kolkata</td><td>402343</td></tr><tr><td>Gurgaon</td><td>42</td><td>6.0</td><td>Dhiraj</td><td>05</td><td>34</td><td>2</td><td>Gurgaon</td><td>402343</td></tr></tbody></table></div>"
      ]
     },
     "metadata": {
      "application/vnd.databricks.v1+output": {
       "addedWidgets": {},
       "aggData": [],
       "aggError": "",
       "aggOverflow": false,
       "aggSchema": [],
       "aggSeriesLimitReached": false,
       "aggType": "",
       "arguments": {},
       "columnCustomDisplayInfos": {},
       "data": [
        [
         "Guntur",
         23,
         5.79,
         "sravan",
         "01",
         67,
         2,
         "Guntur",
         "522002"
        ],
        [
         "Hyderabad",
         26,
         3.79,
         "ojaswi",
         "02",
         34,
         2,
         "Hyderabad",
         "500001"
        ],
        [
         "Chennai",
         37,
         2.79,
         "gnanesh",
         "03",
         37,
         2,
         "Chennai",
         "600011"
        ],
        [
         "Bangalore",
         29,
         3.69,
         "rohith",
         "04",
         28,
         2,
         "Bangalore",
         "560001"
        ],
        [
         "Hyderabad",
         45,
         5.59,
         "sridevi",
         "05",
         54,
         2,
         "Hyderabad",
         "500001"
        ],
        [
         "Delhi",
         26,
         5.79,
         "Amit Mishra",
         "01",
         67,
         2,
         "Delhi",
         "110006"
        ],
        [
         "Mumbai",
         56,
         4.99,
         "Niraj Guptha",
         "02",
         34,
         2,
         "Mumbai",
         "400001"
        ],
        [
         "Delhi",
         57,
         3.79,
         "Sridharan",
         "03",
         47,
         2,
         "Delhi",
         "110006"
        ],
        [
         "Bangalore",
         49,
         4.69,
         "Kiran",
         "04",
         38,
         2,
         "Bangalore",
         "560001"
        ],
        [
         "Nasik",
         42,
         6.0,
         "Dhiraj",
         "05",
         34,
         2,
         "Nasik",
         "402343"
        ],
        [
         "Kolkata",
         42,
         6.0,
         "Dhiraj",
         "05",
         34,
         2,
         "Kolkata",
         "402343"
        ],
        [
         "Gurgaon",
         42,
         6.0,
         "Dhiraj",
         "05",
         34,
         2,
         "Gurgaon",
         "402343"
        ]
       ],
       "datasetInfos": [],
       "dbfsResultPath": null,
       "isJsonSchema": true,
       "metadata": {},
       "overflow": false,
       "plotOptions": {
        "customPlotOptions": {},
        "displayType": "table",
        "pivotAggregation": null,
        "pivotColumns": null,
        "xColumns": null,
        "yColumns": null
       },
       "removedWidgets": [],
       "schema": [
        {
         "metadata": "{}",
         "name": "address",
         "type": "\"string\""
        },
        {
         "metadata": "{}",
         "name": "age",
         "type": "\"long\""
        },
        {
         "metadata": "{}",
         "name": "height",
         "type": "\"double\""
        },
        {
         "metadata": "{}",
         "name": "name",
         "type": "\"string\""
        },
        {
         "metadata": "{}",
         "name": "rollno",
         "type": "\"string\""
        },
        {
         "metadata": "{}",
         "name": "weight",
         "type": "\"long\""
        },
        {
         "metadata": "{}",
         "name": "source_id",
         "type": "\"integer\""
        },
        {
         "metadata": "{}",
         "name": "PinCode_City",
         "type": "\"string\""
        },
        {
         "metadata": "{}",
         "name": "PinCode",
         "type": "\"string\""
        }
       ],
       "type": "table"
      }
     },
     "output_type": "display_data"
    }
   ],
   "source": [
    "df = df.withColumn(\"PinCode\", when((col(\"address\") == \"Guntur\"), lit(\"522002\")). \\\n",
    "                              when((col(\"address\") == \"Hyderabad\"), lit(\"500001\")). \\\n",
    "                              when((col(\"address\") == \"Chennai\"), lit(\"600011\")). \\\n",
    "                              when((col(\"address\") == \"Bangalore\"), lit(\"560001\")). \\\n",
    "                              when((col(\"address\") == \"Delhi\"), lit(\"110006\")). \\\n",
    "                              when((col(\"address\") == \"Mumbai\"), lit(\"400001\")). \\\n",
    "                              otherwise(lit(\"402343\")))\n",
    "display(df)"
   ]
  },
  {
   "cell_type": "markdown",
   "metadata": {
    "application/vnd.databricks.v1+cell": {
     "cellMetadata": {},
     "inputWidgets": {},
     "nuid": "89ef18d3-5bc5-434f-a8ff-b63eb81800a2",
     "showTitle": false,
     "tableResultSettingsMap": {},
     "title": ""
    }
   },
   "source": [
    "#### **EX 02**"
   ]
  },
  {
   "cell_type": "code",
   "execution_count": 0,
   "metadata": {
    "application/vnd.databricks.v1+cell": {
     "cellMetadata": {
      "byteLimit": 2048000,
      "rowLimit": 10000
     },
     "inputWidgets": {},
     "nuid": "37f75622-61b4-45fa-9be2-b500d4fdfa69",
     "showTitle": false,
     "tableResultSettingsMap": {},
     "title": ""
    }
   },
   "outputs": [
    {
     "output_type": "display_data",
     "data": {
      "text/html": [
       "<style scoped>\n",
       "  .table-result-container {\n",
       "    max-height: 300px;\n",
       "    overflow: auto;\n",
       "  }\n",
       "  table, th, td {\n",
       "    border: 1px solid black;\n",
       "    border-collapse: collapse;\n",
       "  }\n",
       "  th, td {\n",
       "    padding: 5px;\n",
       "  }\n",
       "  th {\n",
       "    text-align: left;\n",
       "  }\n",
       "</style><div class='table-result-container'><table class='table-result'><thead style='background-color: white'><tr><th>Id</th><th>Nick_Name</th><th>First_Name</th><th>Last_Name</th><th>Type</th><th>Age</th></tr></thead><tbody><tr><td>1</td><td>admin</td><td>John</td><td>Victor</td><td>Grade1</td><td>30</td></tr><tr><td>2</td><td>everest</td><td>Paul</td><td>Irish</td><td>Grade2</td><td>35</td></tr><tr><td>3</td><td>moon</td><td>Erram</td><td>Rammohan</td><td>Enginner1</td><td>29</td></tr><tr><td>4</td><td>service</td><td>Stalin</td><td>Rajesh</td><td>Minister</td><td>40</td></tr><tr><td>5</td><td>Builder</td><td>Golla</td><td>Rajasekar</td><td>Builder</td><td>43</td></tr><tr><td>6</td><td>Drinker</td><td>Karjala</td><td>Hari</td><td>Army</td><td>33</td></tr><tr><td>7</td><td>Army</td><td>Koyi</td><td>Damodar</td><td>Bettalian</td><td>37</td></tr><tr><td>8</td><td>Marketing</td><td>Vemparla</td><td>Harish</td><td>Manager</td><td>55</td></tr><tr><td>9</td><td>Politician</td><td>Devineni</td><td>Umesh</td><td>Senior</td><td>58</td></tr><tr><td>10</td><td>Minister</td><td>Ponguru</td><td>Narayana</td><td>Education</td><td>56</td></tr><tr><td>11</td><td>Design</td><td>Mohmad</td><td>Basha</td><td>Enginner2</td><td>47</td></tr><tr><td>12</td><td>ADE</td><td>Enuganti</td><td>Suesh</td><td>Resource</td><td>31</td></tr><tr><td>13</td><td>Lords</td><td>Jim</td><td>Jackson</td><td>Paster</td><td>60</td></tr><tr><td>14</td><td>jain</td><td>Vikas</td><td>Jain</td><td>Priest</td><td>62</td></tr><tr><td>15</td><td>Boston</td><td>Ivan</td><td>Madrid</td><td>Cricketer</td><td>34</td></tr><tr><td>16</td><td>Republic</td><td>Paul</td><td>Raj</td><td>Tennis</td><td>27</td></tr><tr><td>17</td><td>Batsman</td><td>Ricky</td><td>Pointing</td><td>Cricketer</td><td>36</td></tr></tbody></table></div>"
      ]
     },
     "metadata": {
      "application/vnd.databricks.v1+output": {
       "addedWidgets": {},
       "aggData": [],
       "aggError": "",
       "aggOverflow": false,
       "aggSchema": [],
       "aggSeriesLimitReached": false,
       "aggType": "",
       "arguments": {},
       "columnCustomDisplayInfos": {},
       "data": [
        [
         1,
         "admin",
         "John",
         "Victor",
         "Grade1",
         30
        ],
        [
         2,
         "everest",
         "Paul",
         "Irish",
         "Grade2",
         35
        ],
        [
         3,
         "moon",
         "Erram",
         "Rammohan",
         "Enginner1",
         29
        ],
        [
         4,
         "service",
         "Stalin",
         "Rajesh",
         "Minister",
         40
        ],
        [
         5,
         "Builder",
         "Golla",
         "Rajasekar",
         "Builder",
         43
        ],
        [
         6,
         "Drinker",
         "Karjala",
         "Hari",
         "Army",
         33
        ],
        [
         7,
         "Army",
         "Koyi",
         "Damodar",
         "Bettalian",
         37
        ],
        [
         8,
         "Marketing",
         "Vemparla",
         "Harish",
         "Manager",
         55
        ],
        [
         9,
         "Politician",
         "Devineni",
         "Umesh",
         "Senior",
         58
        ],
        [
         10,
         "Minister",
         "Ponguru",
         "Narayana",
         "Education",
         56
        ],
        [
         11,
         "Design",
         "Mohmad",
         "Basha",
         "Enginner2",
         47
        ],
        [
         12,
         "ADE",
         "Enuganti",
         "Suesh",
         "Resource",
         31
        ],
        [
         13,
         "Lords",
         "Jim",
         "Jackson",
         "Paster",
         60
        ],
        [
         14,
         "jain",
         "Vikas",
         "Jain",
         "Priest",
         62
        ],
        [
         15,
         "Boston",
         "Ivan",
         "Madrid",
         "Cricketer",
         34
        ],
        [
         16,
         "Republic",
         "Paul",
         "Raj",
         "Tennis",
         27
        ],
        [
         17,
         "Batsman",
         "Ricky",
         "Pointing",
         "Cricketer",
         36
        ]
       ],
       "datasetInfos": [],
       "dbfsResultPath": null,
       "isJsonSchema": true,
       "metadata": {},
       "overflow": false,
       "plotOptions": {
        "customPlotOptions": {},
        "displayType": "table",
        "pivotAggregation": null,
        "pivotColumns": null,
        "xColumns": null,
        "yColumns": null
       },
       "removedWidgets": [],
       "schema": [
        {
         "metadata": "{}",
         "name": "Id",
         "type": "\"integer\""
        },
        {
         "metadata": "{}",
         "name": "Nick_Name",
         "type": "\"string\""
        },
        {
         "metadata": "{}",
         "name": "First_Name",
         "type": "\"string\""
        },
        {
         "metadata": "{}",
         "name": "Last_Name",
         "type": "\"string\""
        },
        {
         "metadata": "{}",
         "name": "Type",
         "type": "\"string\""
        },
        {
         "metadata": "{}",
         "name": "Age",
         "type": "\"integer\""
        }
       ],
       "type": "table"
      }
     },
     "output_type": "display_data"
    },
    {
     "output_type": "stream",
     "name": "stdout",
     "output_type": "stream",
     "text": [
      "root\n |-- Id: integer (nullable = true)\n |-- Nick_Name: string (nullable = true)\n |-- First_Name: string (nullable = true)\n |-- Last_Name: string (nullable = true)\n |-- Type: string (nullable = true)\n |-- Age: integer (nullable = true)\n\nTotal Number of Rows:  17\nList of Column Names:  ['Id', 'Nick_Name', 'First_Name', 'Last_Name', 'Type', 'Age']\nNo of Columns in dataset:  6\n"
     ]
    }
   ],
   "source": [
    "df1 = spark.read.csv(\"/FileStore/tables/StructType-5.csv\", header=True, inferSchema=True)\n",
    "display(df1)\n",
    "df1.printSchema()\n",
    "print(\"Total Number of Rows: \", df1.count())\n",
    "print(\"List of Column Names: \", df1.columns)\n",
    "print(\"No of Columns in dataset: \", len(df1.columns))"
   ]
  },
  {
   "cell_type": "code",
   "execution_count": 0,
   "metadata": {
    "application/vnd.databricks.v1+cell": {
     "cellMetadata": {
      "byteLimit": 2048000,
      "rowLimit": 10000
     },
     "inputWidgets": {},
     "nuid": "a49a2014-538b-4f09-8df3-38b03af9efd7",
     "showTitle": false,
     "tableResultSettingsMap": {},
     "title": ""
    }
   },
   "outputs": [
    {
     "output_type": "display_data",
     "data": {
      "text/html": [
       "<style scoped>\n",
       "  .table-result-container {\n",
       "    max-height: 300px;\n",
       "    overflow: auto;\n",
       "  }\n",
       "  table, th, td {\n",
       "    border: 1px solid black;\n",
       "    border-collapse: collapse;\n",
       "  }\n",
       "  th, td {\n",
       "    padding: 5px;\n",
       "  }\n",
       "  th {\n",
       "    text-align: left;\n",
       "  }\n",
       "</style><div class='table-result-container'><table class='table-result'><thead style='background-color: white'><tr><th>Id</th><th>Nick_Name</th><th>First_Name</th><th>Last_Name</th><th>Type</th><th>Age</th><th>source_id</th><th>vehicle_buy_or_sell</th><th>vehicle_description</th><th>delivery_status</th><th>vehicle_classification_id</th><th>vehicle_product_type</th><th>pricing_model_id</th><th>vehicle_agreement_id</th><th>commercial_vehicle_venue_id</th><th>valid_from_datetime</th><th>valid_to_datetime</th><th>Today's Date</th><th>created_datetime</th><th>updated_datetime</th></tr></thead><tbody><tr><td>1</td><td>admin</td><td>John</td><td>Victor</td><td>Grade1</td><td>30</td><td>2</td><td></td><td></td><td></td><td></td><td></td><td></td><td></td><td></td><td>1999-01-01T00:00:00.000+0000</td><td>2023-12-31T23:59:59.000+0000</td><td>2024-06-13T17:45:07.801+0000</td><td>2024-06-13T17:45:08.299+0000</td><td>2024-06-13T17:45:08.299+0000</td></tr><tr><td>2</td><td>everest</td><td>Paul</td><td>Irish</td><td>Grade2</td><td>35</td><td>2</td><td></td><td></td><td></td><td></td><td></td><td></td><td></td><td></td><td>1999-01-01T00:00:00.000+0000</td><td>2023-12-31T23:59:59.000+0000</td><td>2024-06-13T17:45:07.801+0000</td><td>2024-06-13T17:45:08.299+0000</td><td>2024-06-13T17:45:08.299+0000</td></tr><tr><td>3</td><td>moon</td><td>Erram</td><td>Rammohan</td><td>Enginner1</td><td>29</td><td>2</td><td></td><td></td><td></td><td></td><td></td><td></td><td></td><td></td><td>1999-01-01T00:00:00.000+0000</td><td>2023-12-31T23:59:59.000+0000</td><td>2024-06-13T17:45:07.801+0000</td><td>2024-06-13T17:45:08.299+0000</td><td>2024-06-13T17:45:08.299+0000</td></tr><tr><td>4</td><td>service</td><td>Stalin</td><td>Rajesh</td><td>Minister</td><td>40</td><td>2</td><td></td><td></td><td></td><td></td><td></td><td></td><td></td><td></td><td>1999-01-01T00:00:00.000+0000</td><td>2023-12-31T23:59:59.000+0000</td><td>2024-06-13T17:45:07.801+0000</td><td>2024-06-13T17:45:08.299+0000</td><td>2024-06-13T17:45:08.299+0000</td></tr><tr><td>5</td><td>Builder</td><td>Golla</td><td>Rajasekar</td><td>Builder</td><td>43</td><td>2</td><td></td><td></td><td></td><td></td><td></td><td></td><td></td><td></td><td>1999-01-01T00:00:00.000+0000</td><td>2023-12-31T23:59:59.000+0000</td><td>2024-06-13T17:45:07.801+0000</td><td>2024-06-13T17:45:08.299+0000</td><td>2024-06-13T17:45:08.299+0000</td></tr><tr><td>6</td><td>Drinker</td><td>Karjala</td><td>Hari</td><td>Army</td><td>33</td><td>2</td><td></td><td></td><td></td><td></td><td></td><td></td><td></td><td></td><td>1999-01-01T00:00:00.000+0000</td><td>2023-12-31T23:59:59.000+0000</td><td>2024-06-13T17:45:07.801+0000</td><td>2024-06-13T17:45:08.299+0000</td><td>2024-06-13T17:45:08.299+0000</td></tr><tr><td>7</td><td>Army</td><td>Koyi</td><td>Damodar</td><td>Bettalian</td><td>37</td><td>2</td><td></td><td></td><td></td><td></td><td></td><td></td><td></td><td></td><td>1999-01-01T00:00:00.000+0000</td><td>2023-12-31T23:59:59.000+0000</td><td>2024-06-13T17:45:07.801+0000</td><td>2024-06-13T17:45:08.299+0000</td><td>2024-06-13T17:45:08.299+0000</td></tr><tr><td>8</td><td>Marketing</td><td>Vemparla</td><td>Harish</td><td>Manager</td><td>55</td><td>2</td><td></td><td></td><td></td><td></td><td></td><td></td><td></td><td></td><td>1999-01-01T00:00:00.000+0000</td><td>2023-12-31T23:59:59.000+0000</td><td>2024-06-13T17:45:07.801+0000</td><td>2024-06-13T17:45:08.299+0000</td><td>2024-06-13T17:45:08.299+0000</td></tr><tr><td>9</td><td>Politician</td><td>Devineni</td><td>Umesh</td><td>Senior</td><td>58</td><td>2</td><td></td><td></td><td></td><td></td><td></td><td></td><td></td><td></td><td>1999-01-01T00:00:00.000+0000</td><td>2023-12-31T23:59:59.000+0000</td><td>2024-06-13T17:45:07.801+0000</td><td>2024-06-13T17:45:08.299+0000</td><td>2024-06-13T17:45:08.299+0000</td></tr><tr><td>10</td><td>Minister</td><td>Ponguru</td><td>Narayana</td><td>Education</td><td>56</td><td>2</td><td></td><td></td><td></td><td></td><td></td><td></td><td></td><td></td><td>1999-01-01T00:00:00.000+0000</td><td>2023-12-31T23:59:59.000+0000</td><td>2024-06-13T17:45:07.801+0000</td><td>2024-06-13T17:45:08.299+0000</td><td>2024-06-13T17:45:08.299+0000</td></tr><tr><td>11</td><td>Design</td><td>Mohmad</td><td>Basha</td><td>Enginner2</td><td>47</td><td>2</td><td></td><td></td><td></td><td></td><td></td><td></td><td></td><td></td><td>1999-01-01T00:00:00.000+0000</td><td>2023-12-31T23:59:59.000+0000</td><td>2024-06-13T17:45:07.801+0000</td><td>2024-06-13T17:45:08.299+0000</td><td>2024-06-13T17:45:08.299+0000</td></tr><tr><td>12</td><td>ADE</td><td>Enuganti</td><td>Suesh</td><td>Resource</td><td>31</td><td>2</td><td></td><td></td><td></td><td></td><td></td><td></td><td></td><td></td><td>1999-01-01T00:00:00.000+0000</td><td>2023-12-31T23:59:59.000+0000</td><td>2024-06-13T17:45:07.801+0000</td><td>2024-06-13T17:45:08.299+0000</td><td>2024-06-13T17:45:08.299+0000</td></tr><tr><td>13</td><td>Lords</td><td>Jim</td><td>Jackson</td><td>Paster</td><td>60</td><td>2</td><td></td><td></td><td></td><td></td><td></td><td></td><td></td><td></td><td>1999-01-01T00:00:00.000+0000</td><td>2023-12-31T23:59:59.000+0000</td><td>2024-06-13T17:45:07.801+0000</td><td>2024-06-13T17:45:08.299+0000</td><td>2024-06-13T17:45:08.299+0000</td></tr><tr><td>14</td><td>jain</td><td>Vikas</td><td>Jain</td><td>Priest</td><td>62</td><td>2</td><td></td><td></td><td></td><td></td><td></td><td></td><td></td><td></td><td>1999-01-01T00:00:00.000+0000</td><td>2023-12-31T23:59:59.000+0000</td><td>2024-06-13T17:45:07.801+0000</td><td>2024-06-13T17:45:08.299+0000</td><td>2024-06-13T17:45:08.299+0000</td></tr><tr><td>15</td><td>Boston</td><td>Ivan</td><td>Madrid</td><td>Cricketer</td><td>34</td><td>2</td><td></td><td></td><td></td><td></td><td></td><td></td><td></td><td></td><td>1999-01-01T00:00:00.000+0000</td><td>2023-12-31T23:59:59.000+0000</td><td>2024-06-13T17:45:07.801+0000</td><td>2024-06-13T17:45:08.299+0000</td><td>2024-06-13T17:45:08.299+0000</td></tr><tr><td>16</td><td>Republic</td><td>Paul</td><td>Raj</td><td>Tennis</td><td>27</td><td>2</td><td></td><td></td><td></td><td></td><td></td><td></td><td></td><td></td><td>1999-01-01T00:00:00.000+0000</td><td>2023-12-31T23:59:59.000+0000</td><td>2024-06-13T17:45:07.801+0000</td><td>2024-06-13T17:45:08.299+0000</td><td>2024-06-13T17:45:08.299+0000</td></tr><tr><td>17</td><td>Batsman</td><td>Ricky</td><td>Pointing</td><td>Cricketer</td><td>36</td><td>2</td><td></td><td></td><td></td><td></td><td></td><td></td><td></td><td></td><td>1999-01-01T00:00:00.000+0000</td><td>2023-12-31T23:59:59.000+0000</td><td>2024-06-13T17:45:07.801+0000</td><td>2024-06-13T17:45:08.299+0000</td><td>2024-06-13T17:45:08.299+0000</td></tr></tbody></table></div>"
      ]
     },
     "metadata": {
      "application/vnd.databricks.v1+output": {
       "addedWidgets": {},
       "aggData": [],
       "aggError": "",
       "aggOverflow": false,
       "aggSchema": [],
       "aggSeriesLimitReached": false,
       "aggType": "",
       "arguments": {},
       "columnCustomDisplayInfos": {},
       "data": [
        [
         1,
         "admin",
         "John",
         "Victor",
         "Grade1",
         30,
         2,
         "",
         "",
         "",
         "",
         "",
         "",
         "",
         "",
         "1999-01-01T00:00:00.000+0000",
         "2023-12-31T23:59:59.000+0000",
         "2024-06-13T17:45:07.801+0000",
         "2024-06-13T17:45:08.299+0000",
         "2024-06-13T17:45:08.299+0000"
        ],
        [
         2,
         "everest",
         "Paul",
         "Irish",
         "Grade2",
         35,
         2,
         "",
         "",
         "",
         "",
         "",
         "",
         "",
         "",
         "1999-01-01T00:00:00.000+0000",
         "2023-12-31T23:59:59.000+0000",
         "2024-06-13T17:45:07.801+0000",
         "2024-06-13T17:45:08.299+0000",
         "2024-06-13T17:45:08.299+0000"
        ],
        [
         3,
         "moon",
         "Erram",
         "Rammohan",
         "Enginner1",
         29,
         2,
         "",
         "",
         "",
         "",
         "",
         "",
         "",
         "",
         "1999-01-01T00:00:00.000+0000",
         "2023-12-31T23:59:59.000+0000",
         "2024-06-13T17:45:07.801+0000",
         "2024-06-13T17:45:08.299+0000",
         "2024-06-13T17:45:08.299+0000"
        ],
        [
         4,
         "service",
         "Stalin",
         "Rajesh",
         "Minister",
         40,
         2,
         "",
         "",
         "",
         "",
         "",
         "",
         "",
         "",
         "1999-01-01T00:00:00.000+0000",
         "2023-12-31T23:59:59.000+0000",
         "2024-06-13T17:45:07.801+0000",
         "2024-06-13T17:45:08.299+0000",
         "2024-06-13T17:45:08.299+0000"
        ],
        [
         5,
         "Builder",
         "Golla",
         "Rajasekar",
         "Builder",
         43,
         2,
         "",
         "",
         "",
         "",
         "",
         "",
         "",
         "",
         "1999-01-01T00:00:00.000+0000",
         "2023-12-31T23:59:59.000+0000",
         "2024-06-13T17:45:07.801+0000",
         "2024-06-13T17:45:08.299+0000",
         "2024-06-13T17:45:08.299+0000"
        ],
        [
         6,
         "Drinker",
         "Karjala",
         "Hari",
         "Army",
         33,
         2,
         "",
         "",
         "",
         "",
         "",
         "",
         "",
         "",
         "1999-01-01T00:00:00.000+0000",
         "2023-12-31T23:59:59.000+0000",
         "2024-06-13T17:45:07.801+0000",
         "2024-06-13T17:45:08.299+0000",
         "2024-06-13T17:45:08.299+0000"
        ],
        [
         7,
         "Army",
         "Koyi",
         "Damodar",
         "Bettalian",
         37,
         2,
         "",
         "",
         "",
         "",
         "",
         "",
         "",
         "",
         "1999-01-01T00:00:00.000+0000",
         "2023-12-31T23:59:59.000+0000",
         "2024-06-13T17:45:07.801+0000",
         "2024-06-13T17:45:08.299+0000",
         "2024-06-13T17:45:08.299+0000"
        ],
        [
         8,
         "Marketing",
         "Vemparla",
         "Harish",
         "Manager",
         55,
         2,
         "",
         "",
         "",
         "",
         "",
         "",
         "",
         "",
         "1999-01-01T00:00:00.000+0000",
         "2023-12-31T23:59:59.000+0000",
         "2024-06-13T17:45:07.801+0000",
         "2024-06-13T17:45:08.299+0000",
         "2024-06-13T17:45:08.299+0000"
        ],
        [
         9,
         "Politician",
         "Devineni",
         "Umesh",
         "Senior",
         58,
         2,
         "",
         "",
         "",
         "",
         "",
         "",
         "",
         "",
         "1999-01-01T00:00:00.000+0000",
         "2023-12-31T23:59:59.000+0000",
         "2024-06-13T17:45:07.801+0000",
         "2024-06-13T17:45:08.299+0000",
         "2024-06-13T17:45:08.299+0000"
        ],
        [
         10,
         "Minister",
         "Ponguru",
         "Narayana",
         "Education",
         56,
         2,
         "",
         "",
         "",
         "",
         "",
         "",
         "",
         "",
         "1999-01-01T00:00:00.000+0000",
         "2023-12-31T23:59:59.000+0000",
         "2024-06-13T17:45:07.801+0000",
         "2024-06-13T17:45:08.299+0000",
         "2024-06-13T17:45:08.299+0000"
        ],
        [
         11,
         "Design",
         "Mohmad",
         "Basha",
         "Enginner2",
         47,
         2,
         "",
         "",
         "",
         "",
         "",
         "",
         "",
         "",
         "1999-01-01T00:00:00.000+0000",
         "2023-12-31T23:59:59.000+0000",
         "2024-06-13T17:45:07.801+0000",
         "2024-06-13T17:45:08.299+0000",
         "2024-06-13T17:45:08.299+0000"
        ],
        [
         12,
         "ADE",
         "Enuganti",
         "Suesh",
         "Resource",
         31,
         2,
         "",
         "",
         "",
         "",
         "",
         "",
         "",
         "",
         "1999-01-01T00:00:00.000+0000",
         "2023-12-31T23:59:59.000+0000",
         "2024-06-13T17:45:07.801+0000",
         "2024-06-13T17:45:08.299+0000",
         "2024-06-13T17:45:08.299+0000"
        ],
        [
         13,
         "Lords",
         "Jim",
         "Jackson",
         "Paster",
         60,
         2,
         "",
         "",
         "",
         "",
         "",
         "",
         "",
         "",
         "1999-01-01T00:00:00.000+0000",
         "2023-12-31T23:59:59.000+0000",
         "2024-06-13T17:45:07.801+0000",
         "2024-06-13T17:45:08.299+0000",
         "2024-06-13T17:45:08.299+0000"
        ],
        [
         14,
         "jain",
         "Vikas",
         "Jain",
         "Priest",
         62,
         2,
         "",
         "",
         "",
         "",
         "",
         "",
         "",
         "",
         "1999-01-01T00:00:00.000+0000",
         "2023-12-31T23:59:59.000+0000",
         "2024-06-13T17:45:07.801+0000",
         "2024-06-13T17:45:08.299+0000",
         "2024-06-13T17:45:08.299+0000"
        ],
        [
         15,
         "Boston",
         "Ivan",
         "Madrid",
         "Cricketer",
         34,
         2,
         "",
         "",
         "",
         "",
         "",
         "",
         "",
         "",
         "1999-01-01T00:00:00.000+0000",
         "2023-12-31T23:59:59.000+0000",
         "2024-06-13T17:45:07.801+0000",
         "2024-06-13T17:45:08.299+0000",
         "2024-06-13T17:45:08.299+0000"
        ],
        [
         16,
         "Republic",
         "Paul",
         "Raj",
         "Tennis",
         27,
         2,
         "",
         "",
         "",
         "",
         "",
         "",
         "",
         "",
         "1999-01-01T00:00:00.000+0000",
         "2023-12-31T23:59:59.000+0000",
         "2024-06-13T17:45:07.801+0000",
         "2024-06-13T17:45:08.299+0000",
         "2024-06-13T17:45:08.299+0000"
        ],
        [
         17,
         "Batsman",
         "Ricky",
         "Pointing",
         "Cricketer",
         36,
         2,
         "",
         "",
         "",
         "",
         "",
         "",
         "",
         "",
         "1999-01-01T00:00:00.000+0000",
         "2023-12-31T23:59:59.000+0000",
         "2024-06-13T17:45:07.801+0000",
         "2024-06-13T17:45:08.299+0000",
         "2024-06-13T17:45:08.299+0000"
        ]
       ],
       "datasetInfos": [],
       "dbfsResultPath": null,
       "isJsonSchema": true,
       "metadata": {},
       "overflow": false,
       "plotOptions": {
        "customPlotOptions": {},
        "displayType": "table",
        "pivotAggregation": null,
        "pivotColumns": null,
        "xColumns": null,
        "yColumns": null
       },
       "removedWidgets": [],
       "schema": [
        {
         "metadata": "{}",
         "name": "Id",
         "type": "\"integer\""
        },
        {
         "metadata": "{}",
         "name": "Nick_Name",
         "type": "\"string\""
        },
        {
         "metadata": "{}",
         "name": "First_Name",
         "type": "\"string\""
        },
        {
         "metadata": "{}",
         "name": "Last_Name",
         "type": "\"string\""
        },
        {
         "metadata": "{}",
         "name": "Type",
         "type": "\"string\""
        },
        {
         "metadata": "{}",
         "name": "Age",
         "type": "\"integer\""
        },
        {
         "metadata": "{}",
         "name": "source_id",
         "type": "\"long\""
        },
        {
         "metadata": "{}",
         "name": "vehicle_buy_or_sell",
         "type": "\"string\""
        },
        {
         "metadata": "{}",
         "name": "vehicle_description",
         "type": "\"string\""
        },
        {
         "metadata": "{}",
         "name": "delivery_status",
         "type": "\"string\""
        },
        {
         "metadata": "{}",
         "name": "vehicle_classification_id",
         "type": "\"string\""
        },
        {
         "metadata": "{}",
         "name": "vehicle_product_type",
         "type": "\"string\""
        },
        {
         "metadata": "{}",
         "name": "pricing_model_id",
         "type": "\"string\""
        },
        {
         "metadata": "{}",
         "name": "vehicle_agreement_id",
         "type": "\"string\""
        },
        {
         "metadata": "{}",
         "name": "commercial_vehicle_venue_id",
         "type": "\"string\""
        },
        {
         "metadata": "{}",
         "name": "valid_from_datetime",
         "type": "\"timestamp\""
        },
        {
         "metadata": "{}",
         "name": "valid_to_datetime",
         "type": "\"timestamp\""
        },
        {
         "metadata": "{}",
         "name": "Today's Date",
         "type": "\"timestamp\""
        },
        {
         "metadata": "{}",
         "name": "created_datetime",
         "type": "\"timestamp\""
        },
        {
         "metadata": "{}",
         "name": "updated_datetime",
         "type": "\"timestamp\""
        }
       ],
       "type": "table"
      }
     },
     "output_type": "display_data"
    }
   ],
   "source": [
    "df1 = df1.select(\"*\", lit(2).cast(LongType()).alias('source_id'),\n",
    "                      lit('').alias('vehicle_buy_or_sell'),\n",
    "                      lit('').alias('vehicle_description'),\n",
    "                      lit('').alias('delivery_status'),\n",
    "                      lit('').alias('vehicle_classification_id'),\n",
    "                      lit('').alias('vehicle_product_type'),\n",
    "                      lit('').alias('pricing_model_id'),\n",
    "                      lit('').alias('vehicle_agreement_id'),\n",
    "                      lit('').alias('commercial_vehicle_venue_id'),\n",
    "                      to_timestamp(lit(\"1999-01-01 00:00:00\"),'yyyy-MM-dd HH:mm:ss').alias('valid_from_datetime'),\n",
    "                      to_timestamp(lit(\"2023-12-31 23:59:59\"),'yyyy-MM-dd HH:mm:ss').alias('valid_to_datetime'),\n",
    "                      lit(datetime.now()).alias(\"Today's Date\"),\n",
    "                      current_timestamp().alias(\"created_datetime\"),\n",
    "                      current_timestamp().alias(\"updated_datetime\")\n",
    "                )\n",
    "\n",
    "display(df1)"
   ]
  }
 ],
 "metadata": {
  "application/vnd.databricks.v1+notebook": {
   "computePreferences": null,
   "dashboards": [],
   "environmentMetadata": null,
   "inputWidgetPreferences": null,
   "language": "python",
   "notebookMetadata": {
    "pythonIndentUnit": 4
   },
   "notebookName": "205_Databricks_Pyspark_lit()_when_AllConsolidateOptions",
   "widgets": {}
  }
 },
 "nbformat": 4,
 "nbformat_minor": 0
}