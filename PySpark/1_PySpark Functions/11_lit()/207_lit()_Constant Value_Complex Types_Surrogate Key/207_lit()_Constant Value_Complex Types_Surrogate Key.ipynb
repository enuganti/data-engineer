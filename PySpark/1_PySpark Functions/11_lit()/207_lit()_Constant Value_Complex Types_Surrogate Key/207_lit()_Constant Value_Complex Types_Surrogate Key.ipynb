{
 "cells": [
  {
   "cell_type": "markdown",
   "metadata": {
    "application/vnd.databricks.v1+cell": {
     "cellMetadata": {
      "byteLimit": 2048000,
      "rowLimit": 10000
     },
     "inputWidgets": {},
     "nuid": "7f11622d-89d0-418f-9d34-70383aad034e",
     "showTitle": false,
     "tableResultSettingsMap": {},
     "title": ""
    }
   },
   "source": [
    "#### **PySpark: lit()**\n",
    "\n",
    "- The name **lit** stands for **literal**.\n",
    "- **lit()** can be used with various **constant values, including strings, integers, floats, and booleans**.\n",
    "- It enables you to **create a column** with a **constant value** that can be used for **various purposes**:\n",
    "  - adding metadata\n",
    "  - flagging specific rows\n",
    "  - performing calculations based on a fixed value."
   ]
  },
  {
   "cell_type": "markdown",
   "metadata": {
    "application/vnd.databricks.v1+cell": {
     "cellMetadata": {
      "byteLimit": 2048000,
      "rowLimit": 10000
     },
     "inputWidgets": {},
     "nuid": "b7ed8b64-fab8-442c-98fc-0ffe2aeda624",
     "showTitle": false,
     "tableResultSettingsMap": {},
     "title": ""
    }
   },
   "source": [
    "**Different usage of lit() function**\n",
    "\n",
    "     1) Creating a column by constant value\n",
    "     2) Concatenating Strings (two columns)\n",
    "     3) Assigning default values"
   ]
  },
  {
   "cell_type": "code",
   "execution_count": 0,
   "metadata": {
    "application/vnd.databricks.v1+cell": {
     "cellMetadata": {
      "byteLimit": 2048000,
      "rowLimit": 10000
     },
     "inputWidgets": {},
     "nuid": "1e4e8c6f-36c5-444a-8571-d1930f1b46fb",
     "showTitle": false,
     "tableResultSettingsMap": {},
     "title": ""
    }
   },
   "outputs": [
    {
     "output_type": "display_data",
     "data": {
      "text/html": [
       "<style scoped>\n",
       "  .table-result-container {\n",
       "    max-height: 300px;\n",
       "    overflow: auto;\n",
       "  }\n",
       "  table, th, td {\n",
       "    border: 1px solid black;\n",
       "    border-collapse: collapse;\n",
       "  }\n",
       "  th, td {\n",
       "    padding: 5px;\n",
       "  }\n",
       "  th {\n",
       "    text-align: left;\n",
       "  }\n",
       "</style><div class='table-result-container'><table class='table-result'><thead style='background-color: white'><tr><th>EmpId</th><th>first_name</th><th>last_name</th><th>City</th><th>Age</th></tr></thead><tbody><tr><td>101</td><td>Girish</td><td>Kumar</td><td>Bangalore</td><td>26</td></tr><tr><td>102</td><td>Ramesh</td><td>Rathod</td><td>Chennai</td><td>29</td></tr><tr><td>103</td><td>Somesh</td><td>Sekar</td><td>Hyderabad</td><td>32</td></tr><tr><td>104</td><td>Pradeep</td><td>Rao</td><td>Pune</td><td>25</td></tr><tr><td>105</td><td>Kamal</td><td>Prathap</td><td>Mumbai</td><td>27</td></tr><tr><td>106</td><td>Kishore</td><td>Kumar</td><td>Nasik</td><td>34</td></tr><tr><td>107</td><td>Hari</td><td>Shetty</td><td>null</td><td>35</td></tr><tr><td>108</td><td>Basha</td><td>Azmath</td><td>null</td><td>24</td></tr></tbody></table></div>"
      ]
     },
     "metadata": {
      "application/vnd.databricks.v1+output": {
       "addedWidgets": {},
       "aggData": [],
       "aggError": "",
       "aggOverflow": false,
       "aggSchema": [],
       "aggSeriesLimitReached": false,
       "aggType": "",
       "arguments": {},
       "columnCustomDisplayInfos": {},
       "data": [
        [
         101,
         "Girish",
         "Kumar",
         "Bangalore",
         26
        ],
        [
         102,
         "Ramesh",
         "Rathod",
         "Chennai",
         29
        ],
        [
         103,
         "Somesh",
         "Sekar",
         "Hyderabad",
         32
        ],
        [
         104,
         "Pradeep",
         "Rao",
         "Pune",
         25
        ],
        [
         105,
         "Kamal",
         "Prathap",
         "Mumbai",
         27
        ],
        [
         106,
         "Kishore",
         "Kumar",
         "Nasik",
         34
        ],
        [
         107,
         "Hari",
         "Shetty",
         null,
         35
        ],
        [
         108,
         "Basha",
         "Azmath",
         null,
         24
        ]
       ],
       "datasetInfos": [],
       "dbfsResultPath": null,
       "isJsonSchema": true,
       "metadata": {},
       "overflow": false,
       "plotOptions": {
        "customPlotOptions": {},
        "displayType": "table",
        "pivotAggregation": null,
        "pivotColumns": null,
        "xColumns": null,
        "yColumns": null
       },
       "removedWidgets": [],
       "schema": [
        {
         "metadata": "{}",
         "name": "EmpId",
         "type": "\"long\""
        },
        {
         "metadata": "{}",
         "name": "first_name",
         "type": "\"string\""
        },
        {
         "metadata": "{}",
         "name": "last_name",
         "type": "\"string\""
        },
        {
         "metadata": "{}",
         "name": "City",
         "type": "\"string\""
        },
        {
         "metadata": "{}",
         "name": "Age",
         "type": "\"long\""
        }
       ],
       "type": "table"
      }
     },
     "output_type": "display_data"
    }
   ],
   "source": [
    "# Sample data\n",
    "data = [(101, \"Girish\", \"Kumar\", \"Bangalore\", 26),\n",
    "        (102, \"Ramesh\", \"Rathod\", \"Chennai\", 29),\n",
    "        (103, \"Somesh\", \"Sekar\", \"Hyderabad\", 32),\n",
    "        (104, \"Pradeep\", \"Rao\", \"Pune\", 25),\n",
    "        (105, \"Kamal\", \"Prathap\", \"Mumbai\", 27),\n",
    "        (106, \"Kishore\", \"Kumar\", \"Nasik\", 34),\n",
    "        (107, \"Hari\", \"Shetty\", None, 35),\n",
    "        (108, \"Basha\", \"Azmath\", None, 24)\n",
    "       ]\n",
    "\n",
    "columns = [\"EmpId\", \"first_name\", \"last_name\", \"City\", \"Age\"]\n",
    "\n",
    "# Create DataFrame\n",
    "df_emp = spark.createDataFrame(data, columns)\n",
    "display(df_emp)"
   ]
  },
  {
   "cell_type": "code",
   "execution_count": 0,
   "metadata": {
    "application/vnd.databricks.v1+cell": {
     "cellMetadata": {
      "byteLimit": 2048000,
      "rowLimit": 10000
     },
     "inputWidgets": {},
     "nuid": "fba944fa-3501-4880-bc80-eba74d67c562",
     "showTitle": false,
     "tableResultSettingsMap": {},
     "title": ""
    }
   },
   "outputs": [],
   "source": [
    "from pyspark.sql.functions import lit, col, coalesce, concat"
   ]
  },
  {
   "cell_type": "markdown",
   "metadata": {
    "application/vnd.databricks.v1+cell": {
     "cellMetadata": {
      "byteLimit": 2048000,
      "rowLimit": 10000
     },
     "inputWidgets": {},
     "nuid": "4ec06788-f942-43c5-a617-a225e83d52c8",
     "showTitle": false,
     "tableResultSettingsMap": {},
     "title": ""
    }
   },
   "source": [
    "##### 1) Creating a column by constant value\n",
    "- **lit()** can be used with various **constant values**, including:\n",
    "  - strings\n",
    "  - integers\n",
    "  - floats\n",
    "  - booleans"
   ]
  },
  {
   "cell_type": "code",
   "execution_count": 0,
   "metadata": {
    "application/vnd.databricks.v1+cell": {
     "cellMetadata": {
      "byteLimit": 2048000,
      "rowLimit": 10000
     },
     "inputWidgets": {},
     "nuid": "08663dc9-0d9b-4bdc-b069-e7154a0d720d",
     "showTitle": false,
     "tableResultSettingsMap": {},
     "title": ""
    }
   },
   "outputs": [
    {
     "output_type": "display_data",
     "data": {
      "text/html": [
       "<style scoped>\n",
       "  .table-result-container {\n",
       "    max-height: 300px;\n",
       "    overflow: auto;\n",
       "  }\n",
       "  table, th, td {\n",
       "    border: 1px solid black;\n",
       "    border-collapse: collapse;\n",
       "  }\n",
       "  th, td {\n",
       "    padding: 5px;\n",
       "  }\n",
       "  th {\n",
       "    text-align: left;\n",
       "  }\n",
       "</style><div class='table-result-container'><table class='table-result'><thead style='background-color: white'><tr><th>EmpId</th><th>first_name</th><th>last_name</th><th>City</th><th>Age</th><th>Country</th><th>DiscountRate</th><th>TaxRate</th><th>InStock</th><th>TotalPriceWithTax</th><th>DiscountStr</th></tr></thead><tbody><tr><td>101</td><td>Girish</td><td>Kumar</td><td>Bangalore</td><td>26</td><td>USA</td><td>5</td><td>18.5</td><td>true</td><td>30680.0</td><td>5</td></tr><tr><td>102</td><td>Ramesh</td><td>Rathod</td><td>Chennai</td><td>29</td><td>USA</td><td>5</td><td>18.5</td><td>true</td><td>34220.0</td><td>5</td></tr><tr><td>103</td><td>Somesh</td><td>Sekar</td><td>Hyderabad</td><td>32</td><td>USA</td><td>5</td><td>18.5</td><td>true</td><td>37760.0</td><td>5</td></tr><tr><td>104</td><td>Pradeep</td><td>Rao</td><td>Pune</td><td>25</td><td>USA</td><td>5</td><td>18.5</td><td>true</td><td>29500.0</td><td>5</td></tr><tr><td>105</td><td>Kamal</td><td>Prathap</td><td>Mumbai</td><td>27</td><td>USA</td><td>5</td><td>18.5</td><td>true</td><td>31860.0</td><td>5</td></tr><tr><td>106</td><td>Kishore</td><td>Kumar</td><td>Nasik</td><td>34</td><td>USA</td><td>5</td><td>18.5</td><td>true</td><td>40120.0</td><td>5</td></tr><tr><td>107</td><td>Hari</td><td>Shetty</td><td>null</td><td>35</td><td>USA</td><td>5</td><td>18.5</td><td>true</td><td>41300.0</td><td>5</td></tr><tr><td>108</td><td>Basha</td><td>Azmath</td><td>null</td><td>24</td><td>USA</td><td>5</td><td>18.5</td><td>true</td><td>28320.0</td><td>5</td></tr></tbody></table></div>"
      ]
     },
     "metadata": {
      "application/vnd.databricks.v1+output": {
       "addedWidgets": {},
       "aggData": [],
       "aggError": "",
       "aggOverflow": false,
       "aggSchema": [],
       "aggSeriesLimitReached": false,
       "aggType": "",
       "arguments": {},
       "columnCustomDisplayInfos": {},
       "data": [
        [
         101,
         "Girish",
         "Kumar",
         "Bangalore",
         26,
         "USA",
         5,
         18.5,
         true,
         30680.0,
         "5"
        ],
        [
         102,
         "Ramesh",
         "Rathod",
         "Chennai",
         29,
         "USA",
         5,
         18.5,
         true,
         34220.0,
         "5"
        ],
        [
         103,
         "Somesh",
         "Sekar",
         "Hyderabad",
         32,
         "USA",
         5,
         18.5,
         true,
         37760.0,
         "5"
        ],
        [
         104,
         "Pradeep",
         "Rao",
         "Pune",
         25,
         "USA",
         5,
         18.5,
         true,
         29500.0,
         "5"
        ],
        [
         105,
         "Kamal",
         "Prathap",
         "Mumbai",
         27,
         "USA",
         5,
         18.5,
         true,
         31860.0,
         "5"
        ],
        [
         106,
         "Kishore",
         "Kumar",
         "Nasik",
         34,
         "USA",
         5,
         18.5,
         true,
         40120.0,
         "5"
        ],
        [
         107,
         "Hari",
         "Shetty",
         null,
         35,
         "USA",
         5,
         18.5,
         true,
         41300.0,
         "5"
        ],
        [
         108,
         "Basha",
         "Azmath",
         null,
         24,
         "USA",
         5,
         18.5,
         true,
         28320.0,
         "5"
        ]
       ],
       "datasetInfos": [],
       "dbfsResultPath": null,
       "isJsonSchema": true,
       "metadata": {},
       "overflow": false,
       "plotOptions": {
        "customPlotOptions": {},
        "displayType": "table",
        "pivotAggregation": null,
        "pivotColumns": null,
        "xColumns": null,
        "yColumns": null
       },
       "removedWidgets": [],
       "schema": [
        {
         "metadata": "{}",
         "name": "EmpId",
         "type": "\"long\""
        },
        {
         "metadata": "{}",
         "name": "first_name",
         "type": "\"string\""
        },
        {
         "metadata": "{}",
         "name": "last_name",
         "type": "\"string\""
        },
        {
         "metadata": "{}",
         "name": "City",
         "type": "\"string\""
        },
        {
         "metadata": "{}",
         "name": "Age",
         "type": "\"long\""
        },
        {
         "metadata": "{}",
         "name": "Country",
         "type": "\"string\""
        },
        {
         "metadata": "{}",
         "name": "DiscountRate",
         "type": "\"integer\""
        },
        {
         "metadata": "{}",
         "name": "TaxRate",
         "type": "\"double\""
        },
        {
         "metadata": "{}",
         "name": "InStock",
         "type": "\"boolean\""
        },
        {
         "metadata": "{}",
         "name": "TotalPriceWithTax",
         "type": "\"double\""
        },
        {
         "metadata": "{}",
         "name": "DiscountStr",
         "type": "\"string\""
        }
       ],
       "type": "table"
      }
     },
     "output_type": "display_data"
    }
   ],
   "source": [
    "# Add constant & calculated columns using lit()\n",
    "df_with_constant = (\n",
    "    df_emp\n",
    "    .withColumn(\"Country\", lit(\"USA\"))              # String constant\n",
    "    .withColumn(\"DiscountRate\", lit(5))             # Integer constant\n",
    "    .withColumn(\"TaxRate\", lit(18.5))               # Float constant\n",
    "    .withColumn(\"InStock\", lit(True))               # Boolean constant\n",
    "    .withColumn(\n",
    "        \"TotalPriceWithTax\",\n",
    "        (col(\"Age\") * lit(1000)) * (lit(1) + lit(0.18))  # Example calc using lit\n",
    "    )\n",
    "    .withColumn(\"DiscountStr\", lit(5).cast(\"string\"))   # Casted constant\n",
    ")\n",
    "\n",
    "display(df_with_constant)"
   ]
  },
  {
   "cell_type": "markdown",
   "metadata": {
    "application/vnd.databricks.v1+cell": {
     "cellMetadata": {
      "byteLimit": 2048000,
      "rowLimit": 10000
     },
     "inputWidgets": {},
     "nuid": "734f298c-e226-4eb7-8bd1-23ae31ed0cca",
     "showTitle": false,
     "tableResultSettingsMap": {},
     "title": ""
    }
   },
   "source": [
    "##### 2) Concatenating Strings (two columns)"
   ]
  },
  {
   "cell_type": "code",
   "execution_count": 0,
   "metadata": {
    "application/vnd.databricks.v1+cell": {
     "cellMetadata": {
      "byteLimit": 2048000,
      "rowLimit": 10000
     },
     "inputWidgets": {},
     "nuid": "ed75b934-ca81-4f1a-b4e5-db6d6aaf1830",
     "showTitle": true,
     "tableResultSettingsMap": {},
     "title": "a) Concatenate first name and last name"
    }
   },
   "outputs": [
    {
     "output_type": "display_data",
     "data": {
      "text/html": [
       "<style scoped>\n",
       "  .table-result-container {\n",
       "    max-height: 300px;\n",
       "    overflow: auto;\n",
       "  }\n",
       "  table, th, td {\n",
       "    border: 1px solid black;\n",
       "    border-collapse: collapse;\n",
       "  }\n",
       "  th, td {\n",
       "    padding: 5px;\n",
       "  }\n",
       "  th {\n",
       "    text-align: left;\n",
       "  }\n",
       "</style><div class='table-result-container'><table class='table-result'><thead style='background-color: white'><tr><th>EmpId</th><th>first_name</th><th>last_name</th><th>City</th><th>Age</th><th>FullName</th></tr></thead><tbody><tr><td>101</td><td>Girish</td><td>Kumar</td><td>Bangalore</td><td>26</td><td>Girish Kumar</td></tr><tr><td>102</td><td>Ramesh</td><td>Rathod</td><td>Chennai</td><td>29</td><td>Ramesh Rathod</td></tr><tr><td>103</td><td>Somesh</td><td>Sekar</td><td>Hyderabad</td><td>32</td><td>Somesh Sekar</td></tr><tr><td>104</td><td>Pradeep</td><td>Rao</td><td>Pune</td><td>25</td><td>Pradeep Rao</td></tr><tr><td>105</td><td>Kamal</td><td>Prathap</td><td>Mumbai</td><td>27</td><td>Kamal Prathap</td></tr><tr><td>106</td><td>Kishore</td><td>Kumar</td><td>Nasik</td><td>34</td><td>Kishore Kumar</td></tr><tr><td>107</td><td>Hari</td><td>Shetty</td><td>null</td><td>35</td><td>Hari Shetty</td></tr><tr><td>108</td><td>Basha</td><td>Azmath</td><td>null</td><td>24</td><td>Basha Azmath</td></tr></tbody></table></div>"
      ]
     },
     "metadata": {
      "application/vnd.databricks.v1+output": {
       "addedWidgets": {},
       "aggData": [],
       "aggError": "",
       "aggOverflow": false,
       "aggSchema": [],
       "aggSeriesLimitReached": false,
       "aggType": "",
       "arguments": {},
       "columnCustomDisplayInfos": {},
       "data": [
        [
         101,
         "Girish",
         "Kumar",
         "Bangalore",
         26,
         "Girish Kumar"
        ],
        [
         102,
         "Ramesh",
         "Rathod",
         "Chennai",
         29,
         "Ramesh Rathod"
        ],
        [
         103,
         "Somesh",
         "Sekar",
         "Hyderabad",
         32,
         "Somesh Sekar"
        ],
        [
         104,
         "Pradeep",
         "Rao",
         "Pune",
         25,
         "Pradeep Rao"
        ],
        [
         105,
         "Kamal",
         "Prathap",
         "Mumbai",
         27,
         "Kamal Prathap"
        ],
        [
         106,
         "Kishore",
         "Kumar",
         "Nasik",
         34,
         "Kishore Kumar"
        ],
        [
         107,
         "Hari",
         "Shetty",
         null,
         35,
         "Hari Shetty"
        ],
        [
         108,
         "Basha",
         "Azmath",
         null,
         24,
         "Basha Azmath"
        ]
       ],
       "datasetInfos": [],
       "dbfsResultPath": null,
       "isJsonSchema": true,
       "metadata": {},
       "overflow": false,
       "plotOptions": {
        "customPlotOptions": {},
        "displayType": "table",
        "pivotAggregation": null,
        "pivotColumns": null,
        "xColumns": null,
        "yColumns": null
       },
       "removedWidgets": [],
       "schema": [
        {
         "metadata": "{}",
         "name": "EmpId",
         "type": "\"long\""
        },
        {
         "metadata": "{}",
         "name": "first_name",
         "type": "\"string\""
        },
        {
         "metadata": "{}",
         "name": "last_name",
         "type": "\"string\""
        },
        {
         "metadata": "{}",
         "name": "City",
         "type": "\"string\""
        },
        {
         "metadata": "{}",
         "name": "Age",
         "type": "\"long\""
        },
        {
         "metadata": "{}",
         "name": "FullName",
         "type": "\"string\""
        }
       ],
       "type": "table"
      }
     },
     "output_type": "display_data"
    }
   ],
   "source": [
    "# Concatenate first name and last name\n",
    "\n",
    "display(df_emp.withColumn(\"FullName\", concat(col(\"first_name\"), lit(\" \"), col(\"last_name\"))))"
   ]
  },
  {
   "cell_type": "code",
   "execution_count": 0,
   "metadata": {
    "application/vnd.databricks.v1+cell": {
     "cellMetadata": {
      "byteLimit": 2048000,
      "rowLimit": 10000
     },
     "inputWidgets": {},
     "nuid": "e780b714-e864-47f1-ac1d-63cd4fbb7386",
     "showTitle": true,
     "tableResultSettingsMap": {},
     "title": "b) generate surrogate_key"
    }
   },
   "outputs": [
    {
     "output_type": "display_data",
     "data": {
      "text/html": [
       "<style scoped>\n",
       "  .table-result-container {\n",
       "    max-height: 300px;\n",
       "    overflow: auto;\n",
       "  }\n",
       "  table, th, td {\n",
       "    border: 1px solid black;\n",
       "    border-collapse: collapse;\n",
       "  }\n",
       "  th, td {\n",
       "    padding: 5px;\n",
       "  }\n",
       "  th {\n",
       "    text-align: left;\n",
       "  }\n",
       "</style><div class='table-result-container'><table class='table-result'><thead style='background-color: white'><tr><th>sales_event_guid</th><th>make_id</th><th>sub_version_id</th><th>item_subversion_id</th><th>sales_priority_id</th><th>vehicle_engine_profile_id</th><th>period_start_timestamp</th></tr></thead><tbody><tr><td>guid-001</td><td>101</td><td>1</td><td>0</td><td>10</td><td>1001</td><td>2025-01-01 10:00:00</td></tr><tr><td>guid-002</td><td>102</td><td>2</td><td>1</td><td>11</td><td>1002</td><td>2025-02-15 15:30:00</td></tr><tr><td>guid-003</td><td>103</td><td>1</td><td>2</td><td>12</td><td>1003</td><td>2025-03-20 09:45:00</td></tr><tr><td>guid-004</td><td>104</td><td>3</td><td>0</td><td>13</td><td>1004</td><td>2025-04-11 10:00:00</td></tr><tr><td>guid-005</td><td>105</td><td>4</td><td>1</td><td>14</td><td>1005</td><td>2021-09-25 18:39:00</td></tr><tr><td>guid-006</td><td>106</td><td>6</td><td>2</td><td>15</td><td>1006</td><td>2024-06-29 02:45:00</td></tr><tr><td>guid-007</td><td>107</td><td>9</td><td>0</td><td>16</td><td>1007</td><td>2022-08-30 19:45:00</td></tr><tr><td>guid-008</td><td>108</td><td>2</td><td>1</td><td>17</td><td>1008</td><td>2023-11-17 25:30:00</td></tr><tr><td>guid-009</td><td>109</td><td>7</td><td>2</td><td>18</td><td>1009</td><td>2024-12-19 29:45:00</td></tr></tbody></table></div>"
      ]
     },
     "metadata": {
      "application/vnd.databricks.v1+output": {
       "addedWidgets": {},
       "aggData": [],
       "aggError": "",
       "aggOverflow": false,
       "aggSchema": [],
       "aggSeriesLimitReached": false,
       "aggType": "",
       "arguments": {},
       "columnCustomDisplayInfos": {},
       "data": [
        [
         "guid-001",
         101,
         1,
         0,
         10,
         1001,
         "2025-01-01 10:00:00"
        ],
        [
         "guid-002",
         102,
         2,
         1,
         11,
         1002,
         "2025-02-15 15:30:00"
        ],
        [
         "guid-003",
         103,
         1,
         2,
         12,
         1003,
         "2025-03-20 09:45:00"
        ],
        [
         "guid-004",
         104,
         3,
         0,
         13,
         1004,
         "2025-04-11 10:00:00"
        ],
        [
         "guid-005",
         105,
         4,
         1,
         14,
         1005,
         "2021-09-25 18:39:00"
        ],
        [
         "guid-006",
         106,
         6,
         2,
         15,
         1006,
         "2024-06-29 02:45:00"
        ],
        [
         "guid-007",
         107,
         9,
         0,
         16,
         1007,
         "2022-08-30 19:45:00"
        ],
        [
         "guid-008",
         108,
         2,
         1,
         17,
         1008,
         "2023-11-17 25:30:00"
        ],
        [
         "guid-009",
         109,
         7,
         2,
         18,
         1009,
         "2024-12-19 29:45:00"
        ]
       ],
       "datasetInfos": [],
       "dbfsResultPath": null,
       "isJsonSchema": true,
       "metadata": {},
       "overflow": false,
       "plotOptions": {
        "customPlotOptions": {},
        "displayType": "table",
        "pivotAggregation": null,
        "pivotColumns": null,
        "xColumns": null,
        "yColumns": null
       },
       "removedWidgets": [],
       "schema": [
        {
         "metadata": "{}",
         "name": "sales_event_guid",
         "type": "\"string\""
        },
        {
         "metadata": "{}",
         "name": "make_id",
         "type": "\"long\""
        },
        {
         "metadata": "{}",
         "name": "sub_version_id",
         "type": "\"long\""
        },
        {
         "metadata": "{}",
         "name": "item_subversion_id",
         "type": "\"long\""
        },
        {
         "metadata": "{}",
         "name": "sales_priority_id",
         "type": "\"long\""
        },
        {
         "metadata": "{}",
         "name": "vehicle_engine_profile_id",
         "type": "\"long\""
        },
        {
         "metadata": "{}",
         "name": "period_start_timestamp",
         "type": "\"string\""
        }
       ],
       "type": "table"
      }
     },
     "output_type": "display_data"
    }
   ],
   "source": [
    "# Sample data\n",
    "data = [\n",
    "    (\"guid-001\", 101, 1, 0, 10, 1001, \"2025-01-01 10:00:00\"),\n",
    "    (\"guid-002\", 102, 2, 1, 11, 1002, \"2025-02-15 15:30:00\"),\n",
    "    (\"guid-003\", 103, 1, 2, 12, 1003, \"2025-03-20 09:45:00\"),\n",
    "    (\"guid-004\", 104, 3, 0, 13, 1004, \"2025-04-11 10:00:00\"),\n",
    "    (\"guid-005\", 105, 4, 1, 14, 1005, \"2021-09-25 18:39:00\"),\n",
    "    (\"guid-006\", 106, 6, 2, 15, 1006, \"2024-06-29 02:45:00\"),\n",
    "    (\"guid-007\", 107, 9, 0, 16, 1007, \"2022-08-30 19:45:00\"),\n",
    "    (\"guid-008\", 108, 2, 1, 17, 1008, \"2023-11-17 25:30:00\"),\n",
    "    (\"guid-009\", 109, 7, 2, 18, 1009, \"2024-12-19 29:45:00\")\n",
    "]\n",
    "\n",
    "columns = [\n",
    "    \"sales_event_guid\",\n",
    "    \"make_id\",\n",
    "    \"sub_version_id\",\n",
    "    \"item_subversion_id\",\n",
    "    \"sales_priority_id\",\n",
    "    \"vehicle_engine_profile_id\",\n",
    "    \"period_start_timestamp\"\n",
    "]\n",
    "\n",
    "# Create DataFrame\n",
    "df_concat = spark.createDataFrame(data, columns)\n",
    "display(df_concat)"
   ]
  },
  {
   "cell_type": "code",
   "execution_count": 0,
   "metadata": {
    "application/vnd.databricks.v1+cell": {
     "cellMetadata": {
      "byteLimit": 2048000,
      "rowLimit": 10000
     },
     "inputWidgets": {},
     "nuid": "9b371be5-85ba-4646-bdd3-e4f9b85dd2df",
     "showTitle": false,
     "tableResultSettingsMap": {
      "0": {
       "dataGridStateBlob": "{\"version\":1,\"tableState\":{\"columnPinning\":{\"left\":[\"#row_number#\"],\"right\":[]},\"columnSizing\":{\"sales_event_guid\":131,\"make_id\":90,\"sub_version_id\":121,\"item_subversion_id\":146,\"sales_priority_id\":128,\"vehicle_engine_profile_id\":184,\"period_start_timestamp\":177,\"surrogate_key\":289},\"columnVisibility\":{}},\"settings\":{\"columns\":{}},\"syncTimestamp\":1755009664350}",
       "filterBlob": null,
       "queryPlanFiltersBlob": null,
       "tableResultIndex": 0
      }
     },
     "title": ""
    }
   },
   "outputs": [
    {
     "output_type": "display_data",
     "data": {
      "text/html": [
       "<style scoped>\n",
       "  .table-result-container {\n",
       "    max-height: 300px;\n",
       "    overflow: auto;\n",
       "  }\n",
       "  table, th, td {\n",
       "    border: 1px solid black;\n",
       "    border-collapse: collapse;\n",
       "  }\n",
       "  th, td {\n",
       "    padding: 5px;\n",
       "  }\n",
       "  th {\n",
       "    text-align: left;\n",
       "  }\n",
       "</style><div class='table-result-container'><table class='table-result'><thead style='background-color: white'><tr><th>sales_event_guid</th><th>make_id</th><th>sub_version_id</th><th>item_subversion_id</th><th>sales_priority_id</th><th>vehicle_engine_profile_id</th><th>period_start_timestamp</th><th>surrogate_key</th></tr></thead><tbody><tr><td>guid-001</td><td>101</td><td>1</td><td>0</td><td>10</td><td>1001</td><td>2025-01-01 10:00:00</td><td>guid-001-101-1-0-10-1001-2025-01-01 10:00:00</td></tr><tr><td>guid-002</td><td>102</td><td>2</td><td>1</td><td>11</td><td>1002</td><td>2025-02-15 15:30:00</td><td>guid-002-102-2-1-11-1002-2025-02-15 15:30:00</td></tr><tr><td>guid-003</td><td>103</td><td>1</td><td>2</td><td>12</td><td>1003</td><td>2025-03-20 09:45:00</td><td>guid-003-103-1-2-12-1003-2025-03-20 09:45:00</td></tr><tr><td>guid-004</td><td>104</td><td>3</td><td>0</td><td>13</td><td>1004</td><td>2025-04-11 10:00:00</td><td>guid-004-104-3-0-13-1004-2025-04-11 10:00:00</td></tr><tr><td>guid-005</td><td>105</td><td>4</td><td>1</td><td>14</td><td>1005</td><td>2021-09-25 18:39:00</td><td>guid-005-105-4-1-14-1005-2021-09-25 18:39:00</td></tr><tr><td>guid-006</td><td>106</td><td>6</td><td>2</td><td>15</td><td>1006</td><td>2024-06-29 02:45:00</td><td>guid-006-106-6-2-15-1006-2024-06-29 02:45:00</td></tr><tr><td>guid-007</td><td>107</td><td>9</td><td>0</td><td>16</td><td>1007</td><td>2022-08-30 19:45:00</td><td>guid-007-107-9-0-16-1007-2022-08-30 19:45:00</td></tr><tr><td>guid-008</td><td>108</td><td>2</td><td>1</td><td>17</td><td>1008</td><td>2023-11-17 25:30:00</td><td>guid-008-108-2-1-17-1008-2023-11-17 25:30:00</td></tr><tr><td>guid-009</td><td>109</td><td>7</td><td>2</td><td>18</td><td>1009</td><td>2024-12-19 29:45:00</td><td>guid-009-109-7-2-18-1009-2024-12-19 29:45:00</td></tr></tbody></table></div>"
      ]
     },
     "metadata": {
      "application/vnd.databricks.v1+output": {
       "addedWidgets": {},
       "aggData": [],
       "aggError": "",
       "aggOverflow": false,
       "aggSchema": [],
       "aggSeriesLimitReached": false,
       "aggType": "",
       "arguments": {},
       "columnCustomDisplayInfos": {},
       "data": [
        [
         "guid-001",
         101,
         1,
         0,
         10,
         1001,
         "2025-01-01 10:00:00",
         "guid-001-101-1-0-10-1001-2025-01-01 10:00:00"
        ],
        [
         "guid-002",
         102,
         2,
         1,
         11,
         1002,
         "2025-02-15 15:30:00",
         "guid-002-102-2-1-11-1002-2025-02-15 15:30:00"
        ],
        [
         "guid-003",
         103,
         1,
         2,
         12,
         1003,
         "2025-03-20 09:45:00",
         "guid-003-103-1-2-12-1003-2025-03-20 09:45:00"
        ],
        [
         "guid-004",
         104,
         3,
         0,
         13,
         1004,
         "2025-04-11 10:00:00",
         "guid-004-104-3-0-13-1004-2025-04-11 10:00:00"
        ],
        [
         "guid-005",
         105,
         4,
         1,
         14,
         1005,
         "2021-09-25 18:39:00",
         "guid-005-105-4-1-14-1005-2021-09-25 18:39:00"
        ],
        [
         "guid-006",
         106,
         6,
         2,
         15,
         1006,
         "2024-06-29 02:45:00",
         "guid-006-106-6-2-15-1006-2024-06-29 02:45:00"
        ],
        [
         "guid-007",
         107,
         9,
         0,
         16,
         1007,
         "2022-08-30 19:45:00",
         "guid-007-107-9-0-16-1007-2022-08-30 19:45:00"
        ],
        [
         "guid-008",
         108,
         2,
         1,
         17,
         1008,
         "2023-11-17 25:30:00",
         "guid-008-108-2-1-17-1008-2023-11-17 25:30:00"
        ],
        [
         "guid-009",
         109,
         7,
         2,
         18,
         1009,
         "2024-12-19 29:45:00",
         "guid-009-109-7-2-18-1009-2024-12-19 29:45:00"
        ]
       ],
       "datasetInfos": [],
       "dbfsResultPath": null,
       "isJsonSchema": true,
       "metadata": {},
       "overflow": false,
       "plotOptions": {
        "customPlotOptions": {},
        "displayType": "table",
        "pivotAggregation": null,
        "pivotColumns": null,
        "xColumns": null,
        "yColumns": null
       },
       "removedWidgets": [],
       "schema": [
        {
         "metadata": "{}",
         "name": "sales_event_guid",
         "type": "\"string\""
        },
        {
         "metadata": "{}",
         "name": "make_id",
         "type": "\"long\""
        },
        {
         "metadata": "{}",
         "name": "sub_version_id",
         "type": "\"long\""
        },
        {
         "metadata": "{}",
         "name": "item_subversion_id",
         "type": "\"long\""
        },
        {
         "metadata": "{}",
         "name": "sales_priority_id",
         "type": "\"long\""
        },
        {
         "metadata": "{}",
         "name": "vehicle_engine_profile_id",
         "type": "\"long\""
        },
        {
         "metadata": "{}",
         "name": "period_start_timestamp",
         "type": "\"string\""
        },
        {
         "metadata": "{}",
         "name": "surrogate_key",
         "type": "\"string\""
        }
       ],
       "type": "table"
      }
     },
     "output_type": "display_data"
    }
   ],
   "source": [
    "# Create surrogate_key column using concat and lit\n",
    "df_concat_lit = df_concat.select(\"*\",\n",
    "    concat(\n",
    "        col(\"sales_event_guid\"), lit(\"-\"),\n",
    "        col(\"make_id\"), lit(\"-\"),\n",
    "        col(\"sub_version_id\"), lit(\"-\"),\n",
    "        col(\"item_subversion_id\"), lit(\"-\"),\n",
    "        col(\"sales_priority_id\"), lit(\"-\"),\n",
    "        col(\"vehicle_engine_profile_id\"), lit(\"-\"),\n",
    "        col(\"period_start_timestamp\")\n",
    "    ).alias(\"surrogate_key\")\n",
    ")\n",
    "\n",
    "# Show result\n",
    "display(df_concat_lit)"
   ]
  },
  {
   "cell_type": "markdown",
   "metadata": {
    "application/vnd.databricks.v1+cell": {
     "cellMetadata": {
      "byteLimit": 2048000,
      "rowLimit": 10000
     },
     "inputWidgets": {},
     "nuid": "e5fa96b4-aba2-4fa5-8f0e-42c561fa97a2",
     "showTitle": false,
     "tableResultSettingsMap": {},
     "title": ""
    }
   },
   "source": [
    "##### 3) Limitations with Complex Types\n",
    "- creating columns with complex types:\n",
    "  - array\n",
    "  - struct\n",
    "  - create_map"
   ]
  },
  {
   "cell_type": "code",
   "execution_count": 0,
   "metadata": {
    "application/vnd.databricks.v1+cell": {
     "cellMetadata": {
      "byteLimit": 2048000,
      "rowLimit": 10000
     },
     "inputWidgets": {},
     "nuid": "c284be1b-85e9-4945-8236-3331d3af9b64",
     "showTitle": false,
     "tableResultSettingsMap": {},
     "title": ""
    }
   },
   "outputs": [
    {
     "output_type": "display_data",
     "data": {
      "text/html": [
       "<style scoped>\n",
       "  .table-result-container {\n",
       "    max-height: 300px;\n",
       "    overflow: auto;\n",
       "  }\n",
       "  table, th, td {\n",
       "    border: 1px solid black;\n",
       "    border-collapse: collapse;\n",
       "  }\n",
       "  th, td {\n",
       "    padding: 5px;\n",
       "  }\n",
       "  th {\n",
       "    text-align: left;\n",
       "  }\n",
       "</style><div class='table-result-container'><table class='table-result'><thead style='background-color: white'><tr><th>EmpId</th><th>Name</th><th>Age</th></tr></thead><tbody><tr><td>101</td><td>Girish</td><td>26</td></tr><tr><td>102</td><td>Ramesh</td><td>29</td></tr><tr><td>103</td><td>Somesh</td><td>32</td></tr><tr><td>104</td><td>Sirisha</td><td>39</td></tr><tr><td>105</td><td>Kishore</td><td>23</td></tr><tr><td>106</td><td>Akash</td><td>35</td></tr></tbody></table></div>"
      ]
     },
     "metadata": {
      "application/vnd.databricks.v1+output": {
       "addedWidgets": {},
       "aggData": [],
       "aggError": "",
       "aggOverflow": false,
       "aggSchema": [],
       "aggSeriesLimitReached": false,
       "aggType": "",
       "arguments": {},
       "columnCustomDisplayInfos": {},
       "data": [
        [
         101,
         "Girish",
         26
        ],
        [
         102,
         "Ramesh",
         29
        ],
        [
         103,
         "Somesh",
         32
        ],
        [
         104,
         "Sirisha",
         39
        ],
        [
         105,
         "Kishore",
         23
        ],
        [
         106,
         "Akash",
         35
        ]
       ],
       "datasetInfos": [],
       "dbfsResultPath": null,
       "isJsonSchema": true,
       "metadata": {},
       "overflow": false,
       "plotOptions": {
        "customPlotOptions": {},
        "displayType": "table",
        "pivotAggregation": null,
        "pivotColumns": null,
        "xColumns": null,
        "yColumns": null
       },
       "removedWidgets": [],
       "schema": [
        {
         "metadata": "{}",
         "name": "EmpId",
         "type": "\"long\""
        },
        {
         "metadata": "{}",
         "name": "Name",
         "type": "\"string\""
        },
        {
         "metadata": "{}",
         "name": "Age",
         "type": "\"long\""
        }
       ],
       "type": "table"
      }
     },
     "output_type": "display_data"
    }
   ],
   "source": [
    "from pyspark.sql.functions import col, lit, array, struct, create_map\n",
    "\n",
    "# Sample employee data\n",
    "data = [\n",
    "    (101, \"Girish\", 26),\n",
    "    (102, \"Ramesh\", 29),\n",
    "    (103, \"Somesh\", 32),\n",
    "    (104, \"Sirisha\", 39),\n",
    "    (105, \"Kishore\", 23),\n",
    "    (106, \"Akash\", 35)\n",
    "]\n",
    "columns = [\"EmpId\", \"Name\", \"Age\"]\n",
    "\n",
    "df_emp = spark.createDataFrame(data, columns)\n",
    "display(df_emp)"
   ]
  },
  {
   "cell_type": "markdown",
   "metadata": {
    "application/vnd.databricks.v1+cell": {
     "cellMetadata": {},
     "inputWidgets": {},
     "nuid": "e670523c-50e1-48e9-be09-b084b1d97675",
     "showTitle": false,
     "tableResultSettingsMap": {},
     "title": ""
    }
   },
   "source": [
    "##### a) Creating an array column with lit()"
   ]
  },
  {
   "cell_type": "code",
   "execution_count": 0,
   "metadata": {
    "application/vnd.databricks.v1+cell": {
     "cellMetadata": {
      "byteLimit": 2048000,
      "rowLimit": 10000
     },
     "inputWidgets": {},
     "nuid": "7f094b1c-6647-4c49-9e01-acb7db0da113",
     "showTitle": false,
     "tableResultSettingsMap": {
      "0": {
       "dataGridStateBlob": "{\"version\":1,\"tableState\":{\"columnPinning\":{\"left\":[\"#row_number#\"],\"right\":[]},\"columnSizing\":{\"Skills\":182},\"columnVisibility\":{}},\"settings\":{\"columns\":{}},\"syncTimestamp\":1755052252414}",
       "filterBlob": null,
       "queryPlanFiltersBlob": null,
       "tableResultIndex": 0
      }
     },
     "title": ""
    }
   },
   "outputs": [
    {
     "output_type": "display_data",
     "data": {
      "text/html": [
       "<style scoped>\n",
       "  .table-result-container {\n",
       "    max-height: 300px;\n",
       "    overflow: auto;\n",
       "  }\n",
       "  table, th, td {\n",
       "    border: 1px solid black;\n",
       "    border-collapse: collapse;\n",
       "  }\n",
       "  th, td {\n",
       "    padding: 5px;\n",
       "  }\n",
       "  th {\n",
       "    text-align: left;\n",
       "  }\n",
       "</style><div class='table-result-container'><table class='table-result'><thead style='background-color: white'><tr><th>EmpId</th><th>Name</th><th>Age</th><th>Skills</th></tr></thead><tbody><tr><td>101</td><td>Girish</td><td>26</td><td>List(Python, SQL, Spark)</td></tr><tr><td>102</td><td>Ramesh</td><td>29</td><td>List(Python, SQL, Spark)</td></tr><tr><td>103</td><td>Somesh</td><td>32</td><td>List(Python, SQL, Spark)</td></tr><tr><td>104</td><td>Sirisha</td><td>39</td><td>List(Python, SQL, Spark)</td></tr><tr><td>105</td><td>Kishore</td><td>23</td><td>List(Python, SQL, Spark)</td></tr><tr><td>106</td><td>Akash</td><td>35</td><td>List(Python, SQL, Spark)</td></tr></tbody></table></div>"
      ]
     },
     "metadata": {
      "application/vnd.databricks.v1+output": {
       "addedWidgets": {},
       "aggData": [],
       "aggError": "",
       "aggOverflow": false,
       "aggSchema": [],
       "aggSeriesLimitReached": false,
       "aggType": "",
       "arguments": {},
       "columnCustomDisplayInfos": {},
       "data": [
        [
         101,
         "Girish",
         26,
         [
          "Python",
          "SQL",
          "Spark"
         ]
        ],
        [
         102,
         "Ramesh",
         29,
         [
          "Python",
          "SQL",
          "Spark"
         ]
        ],
        [
         103,
         "Somesh",
         32,
         [
          "Python",
          "SQL",
          "Spark"
         ]
        ],
        [
         104,
         "Sirisha",
         39,
         [
          "Python",
          "SQL",
          "Spark"
         ]
        ],
        [
         105,
         "Kishore",
         23,
         [
          "Python",
          "SQL",
          "Spark"
         ]
        ],
        [
         106,
         "Akash",
         35,
         [
          "Python",
          "SQL",
          "Spark"
         ]
        ]
       ],
       "datasetInfos": [],
       "dbfsResultPath": null,
       "isJsonSchema": true,
       "metadata": {},
       "overflow": false,
       "plotOptions": {
        "customPlotOptions": {},
        "displayType": "table",
        "pivotAggregation": null,
        "pivotColumns": null,
        "xColumns": null,
        "yColumns": null
       },
       "removedWidgets": [],
       "schema": [
        {
         "metadata": "{}",
         "name": "EmpId",
         "type": "\"long\""
        },
        {
         "metadata": "{}",
         "name": "Name",
         "type": "\"string\""
        },
        {
         "metadata": "{}",
         "name": "Age",
         "type": "\"long\""
        },
        {
         "metadata": "{}",
         "name": "Skills",
         "type": "{\"containsNull\":false,\"elementType\":\"string\",\"type\":\"array\"}"
        }
       ],
       "type": "table"
      }
     },
     "output_type": "display_data"
    }
   ],
   "source": [
    "df_with_array = df_emp.withColumn(\n",
    "    \"Skills\",\n",
    "    array(lit(\"Python\"), lit(\"SQL\"), lit(\"Spark\"))\n",
    ")\n",
    "display(df_with_array)"
   ]
  },
  {
   "cell_type": "markdown",
   "metadata": {
    "application/vnd.databricks.v1+cell": {
     "cellMetadata": {},
     "inputWidgets": {},
     "nuid": "b4b07738-9870-4636-b87a-e59490b52ead",
     "showTitle": false,
     "tableResultSettingsMap": {},
     "title": ""
    }
   },
   "source": [
    "##### b) Creating a struct column with lit()"
   ]
  },
  {
   "cell_type": "code",
   "execution_count": 0,
   "metadata": {
    "application/vnd.databricks.v1+cell": {
     "cellMetadata": {
      "byteLimit": 2048000,
      "rowLimit": 10000
     },
     "inputWidgets": {},
     "nuid": "3644efaa-7d4b-473b-8ee9-c62133e3a358",
     "showTitle": false,
     "tableResultSettingsMap": {
      "0": {
       "dataGridStateBlob": "{\"version\":1,\"tableState\":{\"columnPinning\":{\"left\":[\"#row_number#\"],\"right\":[]},\"columnSizing\":{\"Address\":349},\"columnVisibility\":{}},\"settings\":{\"columns\":{}},\"syncTimestamp\":1755052327151}",
       "filterBlob": null,
       "queryPlanFiltersBlob": null,
       "tableResultIndex": 0
      }
     },
     "title": ""
    }
   },
   "outputs": [
    {
     "output_type": "display_data",
     "data": {
      "text/html": [
       "<style scoped>\n",
       "  .table-result-container {\n",
       "    max-height: 300px;\n",
       "    overflow: auto;\n",
       "  }\n",
       "  table, th, td {\n",
       "    border: 1px solid black;\n",
       "    border-collapse: collapse;\n",
       "  }\n",
       "  th, td {\n",
       "    padding: 5px;\n",
       "  }\n",
       "  th {\n",
       "    text-align: left;\n",
       "  }\n",
       "</style><div class='table-result-container'><table class='table-result'><thead style='background-color: white'><tr><th>EmpId</th><th>Name</th><th>Age</th><th>Address</th></tr></thead><tbody><tr><td>101</td><td>Girish</td><td>26</td><td>List(Bangalore, Karnataka, 560001)</td></tr><tr><td>102</td><td>Ramesh</td><td>29</td><td>List(Bangalore, Karnataka, 560001)</td></tr><tr><td>103</td><td>Somesh</td><td>32</td><td>List(Bangalore, Karnataka, 560001)</td></tr><tr><td>104</td><td>Sirisha</td><td>39</td><td>List(Bangalore, Karnataka, 560001)</td></tr><tr><td>105</td><td>Kishore</td><td>23</td><td>List(Bangalore, Karnataka, 560001)</td></tr><tr><td>106</td><td>Akash</td><td>35</td><td>List(Bangalore, Karnataka, 560001)</td></tr></tbody></table></div>"
      ]
     },
     "metadata": {
      "application/vnd.databricks.v1+output": {
       "addedWidgets": {},
       "aggData": [],
       "aggError": "",
       "aggOverflow": false,
       "aggSchema": [],
       "aggSeriesLimitReached": false,
       "aggType": "",
       "arguments": {},
       "columnCustomDisplayInfos": {},
       "data": [
        [
         101,
         "Girish",
         26,
         [
          "Bangalore",
          "Karnataka",
          560001
         ]
        ],
        [
         102,
         "Ramesh",
         29,
         [
          "Bangalore",
          "Karnataka",
          560001
         ]
        ],
        [
         103,
         "Somesh",
         32,
         [
          "Bangalore",
          "Karnataka",
          560001
         ]
        ],
        [
         104,
         "Sirisha",
         39,
         [
          "Bangalore",
          "Karnataka",
          560001
         ]
        ],
        [
         105,
         "Kishore",
         23,
         [
          "Bangalore",
          "Karnataka",
          560001
         ]
        ],
        [
         106,
         "Akash",
         35,
         [
          "Bangalore",
          "Karnataka",
          560001
         ]
        ]
       ],
       "datasetInfos": [],
       "dbfsResultPath": null,
       "isJsonSchema": true,
       "metadata": {},
       "overflow": false,
       "plotOptions": {
        "customPlotOptions": {},
        "displayType": "table",
        "pivotAggregation": null,
        "pivotColumns": null,
        "xColumns": null,
        "yColumns": null
       },
       "removedWidgets": [],
       "schema": [
        {
         "metadata": "{}",
         "name": "EmpId",
         "type": "\"long\""
        },
        {
         "metadata": "{}",
         "name": "Name",
         "type": "\"string\""
        },
        {
         "metadata": "{}",
         "name": "Age",
         "type": "\"long\""
        },
        {
         "metadata": "{}",
         "name": "Address",
         "type": "{\"fields\":[{\"metadata\":{},\"name\":\"City\",\"nullable\":false,\"type\":\"string\"},{\"metadata\":{},\"name\":\"State\",\"nullable\":false,\"type\":\"string\"},{\"metadata\":{},\"name\":\"Pincode\",\"nullable\":false,\"type\":\"integer\"}],\"type\":\"struct\"}"
        }
       ],
       "type": "table"
      }
     },
     "output_type": "display_data"
    }
   ],
   "source": [
    "df_with_struct = df_emp.withColumn(\n",
    "    \"Address\",\n",
    "    struct(\n",
    "        lit(\"Bangalore\").alias(\"City\"),\n",
    "        lit(\"Karnataka\").alias(\"State\"),\n",
    "        lit(560001).alias(\"Pincode\")\n",
    "    )\n",
    ")\n",
    "display(df_with_struct)"
   ]
  },
  {
   "cell_type": "markdown",
   "metadata": {
    "application/vnd.databricks.v1+cell": {
     "cellMetadata": {},
     "inputWidgets": {},
     "nuid": "7e81e79f-fbda-49b2-bfcd-d61fc2f62ee0",
     "showTitle": false,
     "tableResultSettingsMap": {},
     "title": ""
    }
   },
   "source": [
    "##### c) Creating a map column with lit()"
   ]
  },
  {
   "cell_type": "code",
   "execution_count": 0,
   "metadata": {
    "application/vnd.databricks.v1+cell": {
     "cellMetadata": {
      "byteLimit": 2048000,
      "rowLimit": 10000
     },
     "inputWidgets": {},
     "nuid": "ecff01f0-e427-4129-9150-9347036bbe2a",
     "showTitle": false,
     "tableResultSettingsMap": {
      "0": {
       "dataGridStateBlob": "{\"version\":1,\"tableState\":{\"columnPinning\":{\"left\":[\"#row_number#\"],\"right\":[]},\"columnSizing\":{\"Properties\":316},\"columnVisibility\":{}},\"settings\":{\"columns\":{}},\"syncTimestamp\":1755052486112}",
       "filterBlob": null,
       "queryPlanFiltersBlob": null,
       "tableResultIndex": 0
      }
     },
     "title": ""
    }
   },
   "outputs": [
    {
     "output_type": "display_data",
     "data": {
      "text/html": [
       "<style scoped>\n",
       "  .table-result-container {\n",
       "    max-height: 300px;\n",
       "    overflow: auto;\n",
       "  }\n",
       "  table, th, td {\n",
       "    border: 1px solid black;\n",
       "    border-collapse: collapse;\n",
       "  }\n",
       "  th, td {\n",
       "    padding: 5px;\n",
       "  }\n",
       "  th {\n",
       "    text-align: left;\n",
       "  }\n",
       "</style><div class='table-result-container'><table class='table-result'><thead style='background-color: white'><tr><th>EmpId</th><th>Name</th><th>Age</th><th>Properties</th></tr></thead><tbody><tr><td>101</td><td>Girish</td><td>26</td><td>Map(Department -> IT, Level -> Senior, Experience -> 5)</td></tr><tr><td>102</td><td>Ramesh</td><td>29</td><td>Map(Department -> IT, Level -> Senior, Experience -> 5)</td></tr><tr><td>103</td><td>Somesh</td><td>32</td><td>Map(Department -> IT, Level -> Senior, Experience -> 5)</td></tr><tr><td>104</td><td>Sirisha</td><td>39</td><td>Map(Department -> IT, Level -> Senior, Experience -> 5)</td></tr><tr><td>105</td><td>Kishore</td><td>23</td><td>Map(Department -> IT, Level -> Senior, Experience -> 5)</td></tr><tr><td>106</td><td>Akash</td><td>35</td><td>Map(Department -> IT, Level -> Senior, Experience -> 5)</td></tr></tbody></table></div>"
      ]
     },
     "metadata": {
      "application/vnd.databricks.v1+output": {
       "addedWidgets": {},
       "aggData": [],
       "aggError": "",
       "aggOverflow": false,
       "aggSchema": [],
       "aggSeriesLimitReached": false,
       "aggType": "",
       "arguments": {},
       "columnCustomDisplayInfos": {},
       "data": [
        [
         101,
         "Girish",
         26,
         {
          "Department": "IT",
          "Experience": "5",
          "Level": "Senior"
         }
        ],
        [
         102,
         "Ramesh",
         29,
         {
          "Department": "IT",
          "Experience": "5",
          "Level": "Senior"
         }
        ],
        [
         103,
         "Somesh",
         32,
         {
          "Department": "IT",
          "Experience": "5",
          "Level": "Senior"
         }
        ],
        [
         104,
         "Sirisha",
         39,
         {
          "Department": "IT",
          "Experience": "5",
          "Level": "Senior"
         }
        ],
        [
         105,
         "Kishore",
         23,
         {
          "Department": "IT",
          "Experience": "5",
          "Level": "Senior"
         }
        ],
        [
         106,
         "Akash",
         35,
         {
          "Department": "IT",
          "Experience": "5",
          "Level": "Senior"
         }
        ]
       ],
       "datasetInfos": [],
       "dbfsResultPath": null,
       "isJsonSchema": true,
       "metadata": {},
       "overflow": false,
       "plotOptions": {
        "customPlotOptions": {},
        "displayType": "table",
        "pivotAggregation": null,
        "pivotColumns": null,
        "xColumns": null,
        "yColumns": null
       },
       "removedWidgets": [],
       "schema": [
        {
         "metadata": "{}",
         "name": "EmpId",
         "type": "\"long\""
        },
        {
         "metadata": "{}",
         "name": "Name",
         "type": "\"string\""
        },
        {
         "metadata": "{}",
         "name": "Age",
         "type": "\"long\""
        },
        {
         "metadata": "{}",
         "name": "Properties",
         "type": "{\"keyType\":\"string\",\"type\":\"map\",\"valueContainsNull\":false,\"valueType\":\"string\"}"
        }
       ],
       "type": "table"
      }
     },
     "output_type": "display_data"
    }
   ],
   "source": [
    "from pyspark.sql.functions import create_map, lit\n",
    "\n",
    "df_with_map = df_emp.withColumn(\n",
    "    \"Properties\",\n",
    "    create_map(\n",
    "        lit(\"Department\"), lit(\"IT\").cast(\"string\"),\n",
    "        lit(\"Level\"), lit(\"Senior\").cast(\"string\"),\n",
    "        lit(\"Experience\"), lit(5).cast(\"string\")\n",
    "    )\n",
    ")\n",
    "display(df_with_map)"
   ]
  },
  {
   "cell_type": "markdown",
   "metadata": {
    "application/vnd.databricks.v1+cell": {
     "cellMetadata": {},
     "inputWidgets": {},
     "nuid": "1e779343-c0db-46ff-a4bb-b3b2512b7dbb",
     "showTitle": false,
     "tableResultSettingsMap": {},
     "title": ""
    }
   },
   "source": [
    "##### d) All in one DataFrame"
   ]
  },
  {
   "cell_type": "code",
   "execution_count": 0,
   "metadata": {
    "application/vnd.databricks.v1+cell": {
     "cellMetadata": {
      "byteLimit": 2048000,
      "rowLimit": 10000
     },
     "inputWidgets": {},
     "nuid": "a7030dc2-67f4-4a14-b00a-f5c5ceb83c1c",
     "showTitle": false,
     "tableResultSettingsMap": {
      "0": {
       "dataGridStateBlob": "{\"version\":1,\"tableState\":{\"columnPinning\":{\"left\":[\"#row_number#\"],\"right\":[]},\"columnSizing\":{\"Skills\":174,\"Address\":355,\"Properties\":326},\"columnVisibility\":{}},\"settings\":{\"columns\":{}},\"syncTimestamp\":1755052623231}",
       "filterBlob": null,
       "queryPlanFiltersBlob": null,
       "tableResultIndex": 0
      }
     },
     "title": ""
    }
   },
   "outputs": [
    {
     "output_type": "display_data",
     "data": {
      "text/html": [
       "<style scoped>\n",
       "  .table-result-container {\n",
       "    max-height: 300px;\n",
       "    overflow: auto;\n",
       "  }\n",
       "  table, th, td {\n",
       "    border: 1px solid black;\n",
       "    border-collapse: collapse;\n",
       "  }\n",
       "  th, td {\n",
       "    padding: 5px;\n",
       "  }\n",
       "  th {\n",
       "    text-align: left;\n",
       "  }\n",
       "</style><div class='table-result-container'><table class='table-result'><thead style='background-color: white'><tr><th>EmpId</th><th>Name</th><th>Age</th><th>Skills</th><th>Address</th><th>Properties</th></tr></thead><tbody><tr><td>101</td><td>Girish</td><td>26</td><td>List(Python, SQL, Spark)</td><td>List(Bangalore, Karnataka, 560001)</td><td>Map(Department -> IT, Level -> Senior, Experience -> 5)</td></tr><tr><td>102</td><td>Ramesh</td><td>29</td><td>List(Python, SQL, Spark)</td><td>List(Bangalore, Karnataka, 560001)</td><td>Map(Department -> IT, Level -> Senior, Experience -> 5)</td></tr><tr><td>103</td><td>Somesh</td><td>32</td><td>List(Python, SQL, Spark)</td><td>List(Bangalore, Karnataka, 560001)</td><td>Map(Department -> IT, Level -> Senior, Experience -> 5)</td></tr><tr><td>104</td><td>Sirisha</td><td>39</td><td>List(Python, SQL, Spark)</td><td>List(Bangalore, Karnataka, 560001)</td><td>Map(Department -> IT, Level -> Senior, Experience -> 5)</td></tr><tr><td>105</td><td>Kishore</td><td>23</td><td>List(Python, SQL, Spark)</td><td>List(Bangalore, Karnataka, 560001)</td><td>Map(Department -> IT, Level -> Senior, Experience -> 5)</td></tr><tr><td>106</td><td>Akash</td><td>35</td><td>List(Python, SQL, Spark)</td><td>List(Bangalore, Karnataka, 560001)</td><td>Map(Department -> IT, Level -> Senior, Experience -> 5)</td></tr></tbody></table></div>"
      ]
     },
     "metadata": {
      "application/vnd.databricks.v1+output": {
       "addedWidgets": {},
       "aggData": [],
       "aggError": "",
       "aggOverflow": false,
       "aggSchema": [],
       "aggSeriesLimitReached": false,
       "aggType": "",
       "arguments": {},
       "columnCustomDisplayInfos": {},
       "data": [
        [
         101,
         "Girish",
         26,
         [
          "Python",
          "SQL",
          "Spark"
         ],
         [
          "Bangalore",
          "Karnataka",
          560001
         ],
         {
          "Department": "IT",
          "Experience": "5",
          "Level": "Senior"
         }
        ],
        [
         102,
         "Ramesh",
         29,
         [
          "Python",
          "SQL",
          "Spark"
         ],
         [
          "Bangalore",
          "Karnataka",
          560001
         ],
         {
          "Department": "IT",
          "Experience": "5",
          "Level": "Senior"
         }
        ],
        [
         103,
         "Somesh",
         32,
         [
          "Python",
          "SQL",
          "Spark"
         ],
         [
          "Bangalore",
          "Karnataka",
          560001
         ],
         {
          "Department": "IT",
          "Experience": "5",
          "Level": "Senior"
         }
        ],
        [
         104,
         "Sirisha",
         39,
         [
          "Python",
          "SQL",
          "Spark"
         ],
         [
          "Bangalore",
          "Karnataka",
          560001
         ],
         {
          "Department": "IT",
          "Experience": "5",
          "Level": "Senior"
         }
        ],
        [
         105,
         "Kishore",
         23,
         [
          "Python",
          "SQL",
          "Spark"
         ],
         [
          "Bangalore",
          "Karnataka",
          560001
         ],
         {
          "Department": "IT",
          "Experience": "5",
          "Level": "Senior"
         }
        ],
        [
         106,
         "Akash",
         35,
         [
          "Python",
          "SQL",
          "Spark"
         ],
         [
          "Bangalore",
          "Karnataka",
          560001
         ],
         {
          "Department": "IT",
          "Experience": "5",
          "Level": "Senior"
         }
        ]
       ],
       "datasetInfos": [],
       "dbfsResultPath": null,
       "isJsonSchema": true,
       "metadata": {},
       "overflow": false,
       "plotOptions": {
        "customPlotOptions": {},
        "displayType": "table",
        "pivotAggregation": null,
        "pivotColumns": null,
        "xColumns": null,
        "yColumns": null
       },
       "removedWidgets": [],
       "schema": [
        {
         "metadata": "{}",
         "name": "EmpId",
         "type": "\"long\""
        },
        {
         "metadata": "{}",
         "name": "Name",
         "type": "\"string\""
        },
        {
         "metadata": "{}",
         "name": "Age",
         "type": "\"long\""
        },
        {
         "metadata": "{}",
         "name": "Skills",
         "type": "{\"containsNull\":false,\"elementType\":\"string\",\"type\":\"array\"}"
        },
        {
         "metadata": "{}",
         "name": "Address",
         "type": "{\"fields\":[{\"metadata\":{},\"name\":\"City\",\"nullable\":false,\"type\":\"string\"},{\"metadata\":{},\"name\":\"State\",\"nullable\":false,\"type\":\"string\"},{\"metadata\":{},\"name\":\"Pincode\",\"nullable\":false,\"type\":\"integer\"}],\"type\":\"struct\"}"
        },
        {
         "metadata": "{}",
         "name": "Properties",
         "type": "{\"keyType\":\"string\",\"type\":\"map\",\"valueContainsNull\":false,\"valueType\":\"string\"}"
        }
       ],
       "type": "table"
      }
     },
     "output_type": "display_data"
    }
   ],
   "source": [
    "from pyspark.sql.functions import array, lit, struct, create_map\n",
    "\n",
    "df_all_complex = (\n",
    "    df_emp\n",
    "    .withColumn(\"Skills\", array(lit(\"Python\"), lit(\"SQL\"), lit(\"Spark\")))\n",
    "    .withColumn(\"Address\", struct(lit(\"Bangalore\").alias(\"City\"), lit(\"Karnataka\").alias(\"State\"), lit(560001).alias(\"Pincode\")))\n",
    "    .withColumn(\"Properties\", create_map(lit(\"Department\"), lit(\"IT\"), lit(\"Level\"), lit(\"Senior\"), lit(\"Experience\"), lit(\"5\")))\n",
    ")\n",
    "\n",
    "display(df_all_complex)"
   ]
  },
  {
   "cell_type": "markdown",
   "metadata": {
    "application/vnd.databricks.v1+cell": {
     "cellMetadata": {},
     "inputWidgets": {},
     "nuid": "2b42412e-d695-4263-9360-b68c1ffaf4a8",
     "showTitle": false,
     "tableResultSettingsMap": {},
     "title": ""
    }
   },
   "source": [
    "##### 3) Assigning default values"
   ]
  },
  {
   "cell_type": "code",
   "execution_count": 0,
   "metadata": {
    "application/vnd.databricks.v1+cell": {
     "cellMetadata": {
      "byteLimit": 2048000,
      "rowLimit": 10000
     },
     "inputWidgets": {},
     "nuid": "819c52de-51ec-47f0-972b-c2ed66985218",
     "showTitle": false,
     "tableResultSettingsMap": {
      "0": {
       "dataGridStateBlob": "{\"version\":1,\"tableState\":{\"columnPinning\":{\"left\":[\"#row_number#\"],\"right\":[]},\"columnSizing\":{\"Struct\":353,\"map\":325},\"columnVisibility\":{}},\"settings\":{\"columns\":{}},\"syncTimestamp\":1755055144216}",
       "filterBlob": null,
       "queryPlanFiltersBlob": null,
       "tableResultIndex": 0
      }
     },
     "title": ""
    }
   },
   "outputs": [
    {
     "output_type": "display_data",
     "data": {
      "text/html": [
       "<style scoped>\n",
       "  .table-result-container {\n",
       "    max-height: 300px;\n",
       "    overflow: auto;\n",
       "  }\n",
       "  table, th, td {\n",
       "    border: 1px solid black;\n",
       "    border-collapse: collapse;\n",
       "  }\n",
       "  th, td {\n",
       "    padding: 5px;\n",
       "  }\n",
       "  th {\n",
       "    text-align: left;\n",
       "  }\n",
       "</style><div class='table-result-container'><table class='table-result'><thead style='background-color: white'><tr><th>EmpId</th><th>Name</th><th>City</th><th>Age</th><th>Array</th><th>Struct</th><th>map</th></tr></thead><tbody><tr><td>101</td><td>Girish</td><td>Bangalore</td><td>26</td><td>List(Python, SQL, Spark)</td><td>List(Bangalore, Karnataka, 560001)</td><td>null</td></tr><tr><td>102</td><td>Ramesh</td><td>null</td><td>29</td><td>null</td><td>List(Bangalore, Karnataka, 560001)</td><td>null</td></tr><tr><td>103</td><td>Somesh</td><td>Hyderabad</td><td>null</td><td>List(Python, SQL, PySpark)</td><td>null</td><td>Map(Department -> IT, Level -> Senior, Experience -> 5)</td></tr><tr><td>104</td><td>Pradeep</td><td>null</td><td>null</td><td>List(Git, SQL, Spark)</td><td>null</td><td>Map(Department -> IT, Level -> Senior, Experience -> 5)</td></tr><tr><td>105</td><td>Kamal</td><td>Mumbai</td><td>27</td><td>null</td><td>List(Bangalore, Karnataka, 560001)</td><td>null</td></tr><tr><td>106</td><td>Umesh</td><td>Bangalore</td><td>28</td><td>List(Python, Devops, PySpark)</td><td>null</td><td>Map(Department -> IT, Level -> Senior, Experience -> 5)</td></tr><tr><td>107</td><td>Bobby</td><td>null</td><td>32</td><td>null</td><td>List(Bangalore, Karnataka, 560001)</td><td>null</td></tr><tr><td>108</td><td>Sandhya</td><td>Chennai</td><td>null</td><td>List(Python, VS Code, SparkSQL)</td><td>null</td><td>Map(Department -> IT, Level -> Senior, Experience -> 5)</td></tr><tr><td>109</td><td>Piyush</td><td>null</td><td>null</td><td>null</td><td>List(Bangalore, Karnataka, 560001)</td><td>null</td></tr><tr><td>110</td><td>Goel</td><td>Mumbai</td><td>31</td><td>List(AWS, Azure, databricks)</td><td>null</td><td>Map(Department -> IT, Level -> Senior, Experience -> 5)</td></tr></tbody></table></div>"
      ]
     },
     "metadata": {
      "application/vnd.databricks.v1+output": {
       "addedWidgets": {},
       "aggData": [],
       "aggError": "",
       "aggOverflow": false,
       "aggSchema": [],
       "aggSeriesLimitReached": false,
       "aggType": "",
       "arguments": {},
       "columnCustomDisplayInfos": {},
       "data": [
        [
         101,
         "Girish",
         "Bangalore",
         26,
         [
          "Python",
          "SQL",
          "Spark"
         ],
         [
          "Bangalore",
          "Karnataka",
          "560001"
         ],
         null
        ],
        [
         102,
         "Ramesh",
         null,
         29,
         null,
         [
          "Bangalore",
          "Karnataka",
          "560001"
         ],
         null
        ],
        [
         103,
         "Somesh",
         "Hyderabad",
         null,
         [
          "Python",
          "SQL",
          "PySpark"
         ],
         null,
         {
          "Department": "IT",
          "Experience": "5",
          "Level": "Senior"
         }
        ],
        [
         104,
         "Pradeep",
         null,
         null,
         [
          "Git",
          "SQL",
          "Spark"
         ],
         null,
         {
          "Department": "IT",
          "Experience": "5",
          "Level": "Senior"
         }
        ],
        [
         105,
         "Kamal",
         "Mumbai",
         27,
         null,
         [
          "Bangalore",
          "Karnataka",
          "560001"
         ],
         null
        ],
        [
         106,
         "Umesh",
         "Bangalore",
         28,
         [
          "Python",
          "Devops",
          "PySpark"
         ],
         null,
         {
          "Department": "IT",
          "Experience": "5",
          "Level": "Senior"
         }
        ],
        [
         107,
         "Bobby",
         null,
         32,
         null,
         [
          "Bangalore",
          "Karnataka",
          "560001"
         ],
         null
        ],
        [
         108,
         "Sandhya",
         "Chennai",
         null,
         [
          "Python",
          "VS Code",
          "SparkSQL"
         ],
         null,
         {
          "Department": "IT",
          "Experience": "5",
          "Level": "Senior"
         }
        ],
        [
         109,
         "Piyush",
         null,
         null,
         null,
         [
          "Bangalore",
          "Karnataka",
          "560001"
         ],
         null
        ],
        [
         110,
         "Goel",
         "Mumbai",
         31,
         [
          "AWS",
          "Azure",
          "databricks"
         ],
         null,
         {
          "Department": "IT",
          "Experience": "5",
          "Level": "Senior"
         }
        ]
       ],
       "datasetInfos": [],
       "dbfsResultPath": null,
       "isJsonSchema": true,
       "metadata": {},
       "overflow": false,
       "plotOptions": {
        "customPlotOptions": {},
        "displayType": "table",
        "pivotAggregation": null,
        "pivotColumns": null,
        "xColumns": null,
        "yColumns": null
       },
       "removedWidgets": [],
       "schema": [
        {
         "metadata": "{}",
         "name": "EmpId",
         "type": "\"integer\""
        },
        {
         "metadata": "{}",
         "name": "Name",
         "type": "\"string\""
        },
        {
         "metadata": "{}",
         "name": "City",
         "type": "\"string\""
        },
        {
         "metadata": "{}",
         "name": "Age",
         "type": "\"integer\""
        },
        {
         "metadata": "{}",
         "name": "Array",
         "type": "{\"containsNull\":true,\"elementType\":\"string\",\"type\":\"array\"}"
        },
        {
         "metadata": "{}",
         "name": "Struct",
         "type": "{\"fields\":[{\"metadata\":{},\"name\":\"City\",\"nullable\":true,\"type\":\"string\"},{\"metadata\":{},\"name\":\"State\",\"nullable\":true,\"type\":\"string\"},{\"metadata\":{},\"name\":\"Pincode\",\"nullable\":true,\"type\":\"string\"}],\"type\":\"struct\"}"
        },
        {
         "metadata": "{}",
         "name": "map",
         "type": "{\"keyType\":\"string\",\"type\":\"map\",\"valueContainsNull\":true,\"valueType\":\"string\"}"
        }
       ],
       "type": "table"
      }
     },
     "output_type": "display_data"
    }
   ],
   "source": [
    "from pyspark.sql.functions import col, lit, coalesce, array, struct, create_map\n",
    "from pyspark.sql.types import StructType, StructField, StringType, IntegerType, ArrayType, MapType\n",
    "\n",
    "# Define schema explicitly so Struct column is actually StructType\n",
    "schema = StructType([\n",
    "    StructField(\"EmpId\", IntegerType()),\n",
    "    StructField(\"Name\", StringType()),\n",
    "    StructField(\"City\", StringType()),\n",
    "    StructField(\"Age\", IntegerType()),\n",
    "    StructField(\"Array\", ArrayType(StringType())),\n",
    "    StructField(\"Struct\", StructType([\n",
    "        StructField(\"City\", StringType()),\n",
    "        StructField(\"State\", StringType()),\n",
    "        StructField(\"Pincode\", StringType())\n",
    "    ])),\n",
    "    StructField(\"map\", MapType(StringType(), StringType()))\n",
    "])\n",
    "\n",
    "# Data with Struct as tuple (to match StructType) instead of dict\n",
    "data = [\n",
    "    (101, \"Girish\", \"Bangalore\", 26, [\"Python\",\"SQL\",\"Spark\"], (\"Bangalore\",\"Karnataka\",\"560001\"), None),\n",
    "    (102, \"Ramesh\", None, 29, None, (\"Bangalore\",\"Karnataka\",\"560001\"), None),\n",
    "    (103, \"Somesh\", \"Hyderabad\", None, [\"Python\",\"SQL\",\"PySpark\"], None, {\"Department\":\"IT\",\"Level\":\"Senior\",\"Experience\":\"5\"}),\n",
    "    (104, \"Pradeep\", None, None, [\"Git\",\"SQL\",\"Spark\"], None, {\"Department\":\"IT\",\"Level\":\"Senior\",\"Experience\":\"5\"}),\n",
    "    (105, \"Kamal\", \"Mumbai\", 27, None, (\"Bangalore\",\"Karnataka\",\"560001\"), None),\n",
    "    (106, \"Umesh\", \"Bangalore\", 28, [\"Python\",\"Devops\",\"PySpark\"], None, {\"Department\":\"IT\",\"Level\":\"Senior\",\"Experience\":\"5\"}),\n",
    "    (107, \"Bobby\", None, 32, None, (\"Bangalore\",\"Karnataka\",\"560001\"), None),\n",
    "    (108, \"Sandhya\", \"Chennai\", None, [\"Python\",\"VS Code\",\"SparkSQL\"], None, {\"Department\":\"IT\",\"Level\":\"Senior\",\"Experience\":\"5\"}),\n",
    "    (109, \"Piyush\", None, None, None, (\"Bangalore\",\"Karnataka\",\"560001\"), None),\n",
    "    (110, \"Goel\", \"Mumbai\", 31, [\"AWS\",\"Azure\",\"databricks\"], None, {\"Department\":\"IT\",\"Level\":\"Senior\",\"Experience\":\"5\"})\n",
    "]\n",
    "\n",
    "df_emp = spark.createDataFrame(data, schema=schema)\n",
    "display(df_emp)"
   ]
  },
  {
   "cell_type": "code",
   "execution_count": 0,
   "metadata": {
    "application/vnd.databricks.v1+cell": {
     "cellMetadata": {
      "byteLimit": 2048000,
      "rowLimit": 10000
     },
     "inputWidgets": {},
     "nuid": "f5d0ac14-46f5-401b-b181-72072a5f13ea",
     "showTitle": false,
     "tableResultSettingsMap": {
      "0": {
       "dataGridStateBlob": "{\"version\":1,\"tableState\":{\"columnPinning\":{\"left\":[\"#row_number#\"],\"right\":[]},\"columnSizing\":{\"EmpId\":90,\"Name\":90,\"City\":90,\"Age\":90,\"Array\":217,\"map\":327},\"columnVisibility\":{}},\"settings\":{\"columns\":{}},\"syncTimestamp\":1755107352748}",
       "filterBlob": null,
       "queryPlanFiltersBlob": null,
       "tableResultIndex": 0
      }
     },
     "title": ""
    }
   },
   "outputs": [
    {
     "output_type": "display_data",
     "data": {
      "text/html": [
       "<style scoped>\n",
       "  .table-result-container {\n",
       "    max-height: 300px;\n",
       "    overflow: auto;\n",
       "  }\n",
       "  table, th, td {\n",
       "    border: 1px solid black;\n",
       "    border-collapse: collapse;\n",
       "  }\n",
       "  th, td {\n",
       "    padding: 5px;\n",
       "  }\n",
       "  th {\n",
       "    text-align: left;\n",
       "  }\n",
       "</style><div class='table-result-container'><table class='table-result'><thead style='background-color: white'><tr><th>EmpId</th><th>Name</th><th>City</th><th>Age</th><th>Array</th><th>Struct</th><th>map</th></tr></thead><tbody><tr><td>101</td><td>Girish</td><td>Bangalore</td><td>26</td><td>List(Python, SQL, Spark)</td><td>List(Bangalore, Karnataka, 560001)</td><td>Map(Department -> IT, Level -> Senior, Experience -> 5)</td></tr><tr><td>102</td><td>Ramesh</td><td>Unknown</td><td>29</td><td>List(databricks, scala, pycharm)</td><td>List(Bangalore, Karnataka, 560001)</td><td>Map(Department -> IT, Level -> Senior, Experience -> 5)</td></tr><tr><td>103</td><td>Somesh</td><td>Hyderabad</td><td>30</td><td>List(Python, SQL, PySpark)</td><td>List(Indore, Delhi, 569581)</td><td>Map(Department -> IT, Level -> Senior, Experience -> 5)</td></tr><tr><td>104</td><td>Pradeep</td><td>Unknown</td><td>30</td><td>List(Git, SQL, Spark)</td><td>List(Indore, Delhi, 569581)</td><td>Map(Department -> IT, Level -> Senior, Experience -> 5)</td></tr><tr><td>105</td><td>Kamal</td><td>Mumbai</td><td>27</td><td>List(databricks, scala, pycharm)</td><td>List(Bangalore, Karnataka, 560001)</td><td>Map(Department -> IT, Level -> Senior, Experience -> 5)</td></tr><tr><td>106</td><td>Umesh</td><td>Bangalore</td><td>28</td><td>List(Python, Devops, PySpark)</td><td>List(Indore, Delhi, 569581)</td><td>Map(Department -> IT, Level -> Senior, Experience -> 5)</td></tr><tr><td>107</td><td>Bobby</td><td>Unknown</td><td>32</td><td>List(databricks, scala, pycharm)</td><td>List(Bangalore, Karnataka, 560001)</td><td>Map(Department -> IT, Level -> Senior, Experience -> 5)</td></tr><tr><td>108</td><td>Sandhya</td><td>Chennai</td><td>30</td><td>List(Python, VS Code, SparkSQL)</td><td>List(Indore, Delhi, 569581)</td><td>Map(Department -> IT, Level -> Senior, Experience -> 5)</td></tr><tr><td>109</td><td>Piyush</td><td>Unknown</td><td>30</td><td>List(databricks, scala, pycharm)</td><td>List(Bangalore, Karnataka, 560001)</td><td>Map(Department -> IT, Level -> Senior, Experience -> 5)</td></tr><tr><td>110</td><td>Goel</td><td>Mumbai</td><td>31</td><td>List(AWS, Azure, databricks)</td><td>List(Indore, Delhi, 569581)</td><td>Map(Department -> IT, Level -> Senior, Experience -> 5)</td></tr></tbody></table></div>"
      ]
     },
     "metadata": {
      "application/vnd.databricks.v1+output": {
       "addedWidgets": {},
       "aggData": [],
       "aggError": "",
       "aggOverflow": false,
       "aggSchema": [],
       "aggSeriesLimitReached": false,
       "aggType": "",
       "arguments": {},
       "columnCustomDisplayInfos": {},
       "data": [
        [
         101,
         "Girish",
         "Bangalore",
         26,
         [
          "Python",
          "SQL",
          "Spark"
         ],
         [
          "Bangalore",
          "Karnataka",
          "560001"
         ],
         {
          "Department": "IT",
          "Experience": "5",
          "Level": "Senior"
         }
        ],
        [
         102,
         "Ramesh",
         "Unknown",
         29,
         [
          "databricks",
          "scala",
          "pycharm"
         ],
         [
          "Bangalore",
          "Karnataka",
          "560001"
         ],
         {
          "Department": "IT",
          "Experience": "5",
          "Level": "Senior"
         }
        ],
        [
         103,
         "Somesh",
         "Hyderabad",
         30,
         [
          "Python",
          "SQL",
          "PySpark"
         ],
         [
          "Indore",
          "Delhi",
          "569581"
         ],
         {
          "Department": "IT",
          "Experience": "5",
          "Level": "Senior"
         }
        ],
        [
         104,
         "Pradeep",
         "Unknown",
         30,
         [
          "Git",
          "SQL",
          "Spark"
         ],
         [
          "Indore",
          "Delhi",
          "569581"
         ],
         {
          "Department": "IT",
          "Experience": "5",
          "Level": "Senior"
         }
        ],
        [
         105,
         "Kamal",
         "Mumbai",
         27,
         [
          "databricks",
          "scala",
          "pycharm"
         ],
         [
          "Bangalore",
          "Karnataka",
          "560001"
         ],
         {
          "Department": "IT",
          "Experience": "5",
          "Level": "Senior"
         }
        ],
        [
         106,
         "Umesh",
         "Bangalore",
         28,
         [
          "Python",
          "Devops",
          "PySpark"
         ],
         [
          "Indore",
          "Delhi",
          "569581"
         ],
         {
          "Department": "IT",
          "Experience": "5",
          "Level": "Senior"
         }
        ],
        [
         107,
         "Bobby",
         "Unknown",
         32,
         [
          "databricks",
          "scala",
          "pycharm"
         ],
         [
          "Bangalore",
          "Karnataka",
          "560001"
         ],
         {
          "Department": "IT",
          "Experience": "5",
          "Level": "Senior"
         }
        ],
        [
         108,
         "Sandhya",
         "Chennai",
         30,
         [
          "Python",
          "VS Code",
          "SparkSQL"
         ],
         [
          "Indore",
          "Delhi",
          "569581"
         ],
         {
          "Department": "IT",
          "Experience": "5",
          "Level": "Senior"
         }
        ],
        [
         109,
         "Piyush",
         "Unknown",
         30,
         [
          "databricks",
          "scala",
          "pycharm"
         ],
         [
          "Bangalore",
          "Karnataka",
          "560001"
         ],
         {
          "Department": "IT",
          "Experience": "5",
          "Level": "Senior"
         }
        ],
        [
         110,
         "Goel",
         "Mumbai",
         31,
         [
          "AWS",
          "Azure",
          "databricks"
         ],
         [
          "Indore",
          "Delhi",
          "569581"
         ],
         {
          "Department": "IT",
          "Experience": "5",
          "Level": "Senior"
         }
        ]
       ],
       "datasetInfos": [],
       "dbfsResultPath": null,
       "isJsonSchema": true,
       "metadata": {},
       "overflow": false,
       "plotOptions": {
        "customPlotOptions": {},
        "displayType": "table",
        "pivotAggregation": null,
        "pivotColumns": null,
        "xColumns": null,
        "yColumns": null
       },
       "removedWidgets": [],
       "schema": [
        {
         "metadata": "{}",
         "name": "EmpId",
         "type": "\"integer\""
        },
        {
         "metadata": "{}",
         "name": "Name",
         "type": "\"string\""
        },
        {
         "metadata": "{}",
         "name": "City",
         "type": "\"string\""
        },
        {
         "metadata": "{}",
         "name": "Age",
         "type": "\"integer\""
        },
        {
         "metadata": "{}",
         "name": "Array",
         "type": "{\"containsNull\":true,\"elementType\":\"string\",\"type\":\"array\"}"
        },
        {
         "metadata": "{}",
         "name": "Struct",
         "type": "{\"fields\":[{\"metadata\":{},\"name\":\"City\",\"nullable\":true,\"type\":\"string\"},{\"metadata\":{},\"name\":\"State\",\"nullable\":true,\"type\":\"string\"},{\"metadata\":{},\"name\":\"Pincode\",\"nullable\":true,\"type\":\"string\"}],\"type\":\"struct\"}"
        },
        {
         "metadata": "{}",
         "name": "map",
         "type": "{\"keyType\":\"string\",\"type\":\"map\",\"valueContainsNull\":true,\"valueType\":\"string\"}"
        }
       ],
       "type": "table"
      }
     },
     "output_type": "display_data"
    }
   ],
   "source": [
    "# Applying coalesce with struct default\n",
    "df_with_defaults = (\n",
    "    df_emp\n",
    "    .withColumn(\"City\", coalesce(col(\"City\"), lit(\"Unknown\")))\n",
    "    .withColumn(\"Age\", coalesce(col(\"Age\"), lit(30)))\n",
    "    .withColumn(\n",
    "        \"Array\",\n",
    "        coalesce(col(\"Array\"), array(lit(\"databricks\"), lit(\"scala\"), lit(\"pycharm\")))\n",
    "    )\n",
    "    .withColumn(\n",
    "        \"Struct\",\n",
    "        coalesce(\n",
    "            col(\"Struct\"),\n",
    "            struct(\n",
    "                lit(\"Indore\").alias(\"City\"),\n",
    "                lit(\"Delhi\").alias(\"State\"),\n",
    "                lit(\"569581\").alias(\"Pincode\")\n",
    "            )\n",
    "        )\n",
    "    )\n",
    "    .withColumn(\n",
    "        \"map\",\n",
    "        coalesce(\n",
    "            col(\"map\"),\n",
    "            create_map(\n",
    "                lit(\"Department\"), lit(\"IT\"),\n",
    "                lit(\"Level\"), lit(\"Senior\"),\n",
    "                lit(\"Experience\"), lit(\"5\")\n",
    "            )\n",
    "        )\n",
    "    )\n",
    ")\n",
    "\n",
    "display(df_with_defaults)"
   ]
  },
  {
   "cell_type": "markdown",
   "metadata": {
    "application/vnd.databricks.v1+cell": {
     "cellMetadata": {},
     "inputWidgets": {},
     "nuid": "66c88035-0e36-4f53-beef-999617f51d7b",
     "showTitle": false,
     "tableResultSettingsMap": {},
     "title": ""
    }
   },
   "source": [
    "- **coalesce(col(\"City\"), lit(\"Unknown\"))**\n",
    "  - If City is **null**, replace it with **\"Unknown\"**.\n",
    "  \n",
    "- **coalesce(col(\"Age\"), lit(30))**\n",
    "  - If **Age** is **null**, replace it with **30**."
   ]
  }
 ],
 "metadata": {
  "application/vnd.databricks.v1+notebook": {
   "computePreferences": {
    "hardware": {
     "accelerator": null,
     "gpuPoolId": null,
     "memory": null
    }
   },
   "dashboards": [],
   "environmentMetadata": null,
   "inputWidgetPreferences": null,
   "language": "python",
   "notebookMetadata": {
    "pythonIndentUnit": 4
   },
   "notebookName": "207_lit()_Constant Value_Complex Types_Surrogate Key",
   "widgets": {}
  },
  "language_info": {
   "name": "python"
  }
 },
 "nbformat": 4,
 "nbformat_minor": 0
}