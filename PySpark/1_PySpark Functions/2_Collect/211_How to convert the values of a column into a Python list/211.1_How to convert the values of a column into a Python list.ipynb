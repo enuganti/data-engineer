{
 "cells": [
  {
   "cell_type": "code",
   "execution_count": 0,
   "metadata": {
    "application/vnd.databricks.v1+cell": {
     "cellMetadata": {
      "byteLimit": 2048000,
      "rowLimit": 10000
     },
     "inputWidgets": {},
     "nuid": "af302fc1-ebb4-4848-a80f-2a2fc3c28037",
     "showTitle": false,
     "tableResultSettingsMap": {},
     "title": ""
    }
   },
   "outputs": [
    {
     "output_type": "display_data",
     "data": {
      "text/html": [
       "<style scoped>\n",
       "  .table-result-container {\n",
       "    max-height: 300px;\n",
       "    overflow: auto;\n",
       "  }\n",
       "  table, th, td {\n",
       "    border: 1px solid black;\n",
       "    border-collapse: collapse;\n",
       "  }\n",
       "  th, td {\n",
       "    padding: 5px;\n",
       "  }\n",
       "  th {\n",
       "    text-align: left;\n",
       "  }\n",
       "</style><div class='table-result-container'><table class='table-result'><thead style='background-color: white'><tr><th>start_date</th><th>product_url</th><th>category</th><th>default_group</th><th>source_target</th><th>cloud_flatform</th><th>session_id</th><th>session_name</th><th>status_name</th><th>status_type</th><th>sessions</th><th>product_id</th><th>load datetime</th></tr></thead><tbody><tr><td>2025-08-25</td><td>shop.sony.bpl</td><td>mobile</td><td>wifi-network</td><td>google</td><td>azure / aws / gcc</td><td>9876543</td><td>first_visit</td><td>first_visit</td><td>Not Available</td><td>5</td><td>409516064</td><td>2025-09-02T19:10:35</td></tr><tr><td>2025-08-26</td><td>shop.sony.bpl</td><td>mobile</td><td>wifi-network</td><td>google</td><td>azure / aws / gcc</td><td>9876544</td><td>purchase</td><td>organic</td><td>Not Available</td><td>12</td><td>409516064</td><td>2025-09-02T19:10:36</td></tr><tr><td>2025-08-27</td><td>shop.sony.bpl</td><td>mobile</td><td>wifi-network</td><td>google</td><td>azure / aws / gcc</td><td>9876545</td><td>search</td><td>network</td><td>Not Available</td><td>16</td><td>409516064</td><td>2025-09-02T19:10:37</td></tr><tr><td>2025-08-28</td><td>shop.sony.bpl</td><td>mobile</td><td>wifi-network</td><td>google</td><td>azure / aws / gcc</td><td>9876546</td><td>search</td><td>scroll</td><td>Not Available</td><td>22</td><td>409516064</td><td>2025-09-02T19:10:38</td></tr><tr><td>2025-08-29</td><td>shop.sony.bpl</td><td>mobile</td><td>wifi-network</td><td>google</td><td>azure / aws / gcc</td><td>9876547</td><td>search</td><td>organic</td><td>Not Available</td><td>25</td><td>409516064</td><td>2025-09-02T19:10:39</td></tr><tr><td>2025-08-30</td><td>shop.sony.bpl</td><td>mobile</td><td>wifi-network</td><td>(not set)</td><td>azure / aws / gcc</td><td>9876548</td><td>add_to_cart</td><td>organic</td><td>Not Available</td><td>4</td><td>409516064</td><td>2025-09-02T19:10:40</td></tr><tr><td>2025-08-31</td><td>shop.sony.bpl</td><td>mobile</td><td>wifi-network</td><td>(not set)</td><td>azure / aws / gcc</td><td>9876549</td><td>add_to_cart</td><td>organic</td><td>Not Available</td><td>9</td><td>409516064</td><td>2025-09-02T19:10:41</td></tr><tr><td>2025-09-01</td><td>shop.sony.bpl</td><td>mobile</td><td>wifi-network</td><td>(none) / (direct)</td><td>azure / aws / gcc</td><td>9876550</td><td>add_to_cart</td><td>first_visit</td><td>Not Available</td><td>8</td><td>409516064</td><td>2025-09-02T19:10:42</td></tr><tr><td>2025-09-02</td><td>shop.sony.bpl</td><td>mobile</td><td>wifi-network</td><td>flipkart / referral</td><td>azure / aws / gcc</td><td>9876551</td><td>add_to_cart</td><td>first_visit</td><td>Not Available</td><td>7</td><td>409516064</td><td>2025-09-02T19:10:43</td></tr><tr><td>2025-09-03</td><td>shop.sony.bpl</td><td>mobile</td><td>wifi-network</td><td>(data not available)</td><td>azure / aws / gcc</td><td>9876552</td><td>add_to_cart</td><td>first_visit</td><td>Not Available</td><td>6</td><td>409516064</td><td>2025-09-02T19:10:44</td></tr><tr><td>2025-09-04</td><td>shop.sony.bpl</td><td>mobile</td><td>wifi-network</td><td>(none) / (direct)</td><td>azure / aws / gcc</td><td>9876553</td><td>add_to_cart</td><td>first_visit</td><td>Not Available</td><td>5</td><td>409516064</td><td>2025-09-02T19:10:45</td></tr><tr><td>2025-09-05</td><td>shop.sony.bpl</td><td>mobile</td><td>wifi-network</td><td>(data not available)</td><td>azure / aws / gcc</td><td>9876554</td><td>first_visit</td><td>user_engagement</td><td>Not Available</td><td>4</td><td>409516064</td><td>2025-09-02T19:10:46</td></tr><tr><td>2025-09-06</td><td>shop.sony.bpl</td><td>mobile</td><td>wifi-network</td><td>(data not available)</td><td>azure / aws / gcc</td><td>9876555</td><td>purchase</td><td>scroll</td><td>Not Available</td><td>3</td><td>409516064</td><td>2025-09-02T19:10:47</td></tr><tr><td>2025-09-07</td><td>shop.sony.bpl</td><td>mobile</td><td>wifi-network</td><td>(none) / (direct)</td><td>azure / aws / gcc</td><td>9876556</td><td>purchase</td><td>scroll</td><td>Not Available</td><td>19</td><td>409516064</td><td>2025-09-02T19:10:48</td></tr><tr><td>2025-09-08</td><td>shop.sony.bpl</td><td>mobile</td><td>wifi-network</td><td>TTD / video</td><td>azure / aws / gcc</td><td>9876557</td><td>purchase</td><td>scroll</td><td>Checkout</td><td>100</td><td>409516064</td><td>2025-09-02T19:10:49</td></tr><tr><td>2025-09-09</td><td>shop.sony.bpl</td><td>mobile</td><td>wifi-network</td><td>(not set)</td><td>azure / aws / gcc</td><td>9876558</td><td>purchase</td><td>scroll</td><td>Checkout</td><td>54</td><td>409516064</td><td>2025-09-02T19:10:50</td></tr><tr><td>2025-09-10</td><td>shop.sony.bpl</td><td>mobile</td><td>wifi-network</td><td>flipkart / referral</td><td>azure / aws / gcc</td><td>9876559</td><td>purchase</td><td>network</td><td>Checkout</td><td>36</td><td>409516064</td><td>2025-09-02T19:10:51</td></tr><tr><td>2025-09-11</td><td>shop.sony.bpl</td><td>mobile</td><td>wifi-network</td><td>email / email</td><td>azure / aws / gcc</td><td>9876560</td><td>purchase</td><td>network</td><td>Checkout</td><td>23</td><td>409516064</td><td>2025-09-02T19:10:52</td></tr><tr><td>2025-09-12</td><td>shop.sony.bpl</td><td>mobile</td><td>wifi-network</td><td>(not available) / paid_social</td><td>azure / aws / gcc</td><td>9876561</td><td>purchase</td><td>network</td><td>Checkout</td><td>98</td><td>409516064</td><td>2025-09-02T19:10:53</td></tr><tr><td>2025-09-13</td><td>shop.sony.bpl</td><td>mobile</td><td>wifi-network</td><td>instagram / organic</td><td>azure / aws / gcc</td><td>9876562</td><td>purchase</td><td>last_visit</td><td>Checkout</td><td>78</td><td>409516064</td><td>2025-09-02T19:10:54</td></tr><tr><td>2025-09-14</td><td>shop.sony.bpl</td><td>mobile</td><td>wifi-network</td><td>(data not available)</td><td>azure / aws / gcc</td><td>9876563</td><td>purchase</td><td>user_engagement</td><td>Checkout</td><td>76</td><td>409516064</td><td>2025-09-02T19:10:55</td></tr><tr><td>2025-09-15</td><td>shop.sony.bpl</td><td>mobile</td><td>wifi-network</td><td>(data not available)</td><td>azure / aws / gcc</td><td>9876564</td><td>first_visit</td><td>user_engagement</td><td>Checkout</td><td>74</td><td>409516064</td><td>2025-09-02T19:10:56</td></tr><tr><td>2025-09-16</td><td>shop.sony.bpl</td><td>mobile</td><td>wifi-network</td><td>(data not available)</td><td>azure / aws / gcc</td><td>9876565</td><td>first_visit</td><td>user_engagement</td><td>Checkout</td><td>63</td><td>409516064</td><td>2025-09-02T19:10:57</td></tr><tr><td>2025-09-17</td><td>shop.sony.bpl</td><td>mobile</td><td>wifi-network</td><td>TTD / video</td><td>azure / aws / gcc</td><td>9876566</td><td>first_visit</td><td>user_engagement</td><td>Checkout</td><td>90</td><td>409516064</td><td>2025-09-02T19:10:58</td></tr><tr><td>2025-09-18</td><td>shop.sony.bpl</td><td>mobile</td><td>wifi-network</td><td>github.com / referral</td><td>azure / aws / gcc</td><td>9876567</td><td>first_visit</td><td>user_engagement</td><td>Checkout</td><td>171</td><td>409516064</td><td>2025-09-02T19:10:59</td></tr><tr><td>2025-09-19</td><td>shop.sony.bpl</td><td>mobile</td><td>wifi-network</td><td>(none) / (direct)</td><td>azure / aws / gcc</td><td>9876568</td><td>first_visit</td><td>organic</td><td>Checkout</td><td>172</td><td>409516064</td><td>2025-09-02T19:10:60</td></tr><tr><td>2025-09-20</td><td>shop.sony.bpl</td><td>mobile</td><td>wifi-network</td><td>email / email</td><td>azure / aws / gcc</td><td>9876569</td><td>first_visit</td><td>organic</td><td>Checkout</td><td>173</td><td>409516064</td><td>2025-09-02T19:10:61</td></tr><tr><td>2025-09-21</td><td>shop.sony.bpl</td><td>mobile</td><td>wifi-network</td><td>TTD / video</td><td>azure / aws / gcc</td><td>9876570</td><td>first_visit</td><td>organic</td><td>Checkout</td><td>174</td><td>409516064</td><td>2025-09-02T19:10:62</td></tr><tr><td>2025-09-22</td><td>shop.sony.bpl</td><td>mobile</td><td>wifi-network</td><td>(data not available)</td><td>azure / aws / gcc</td><td>9876571</td><td>first_visit</td><td>network</td><td>Subscribe</td><td>175</td><td>409516064</td><td>2025-09-02T19:10:63</td></tr><tr><td>2025-09-23</td><td>shop.sony.bpl</td><td>mobile</td><td>wifi-network</td><td>(data not available)</td><td>azure / aws / gcc</td><td>9876572</td><td>first_visit</td><td>network</td><td>Subscribe</td><td>176</td><td>409516064</td><td>2025-09-02T19:10:64</td></tr><tr><td>2025-09-24</td><td>shop.sony.bpl</td><td>mobile</td><td>wifi-network</td><td>(data not available)</td><td>azure / aws / gcc</td><td>9876573</td><td>first_visit</td><td>search</td><td>Subscribe</td><td>177</td><td>409516064</td><td>2025-09-02T19:10:65</td></tr><tr><td>2025-09-25</td><td>shop.sony.bpl</td><td>mobile</td><td>wifi-network</td><td>(none) / (direct)</td><td>azure / aws / gcc</td><td>9876574</td><td>first_visit</td><td>referral</td><td>Subscribe</td><td>74</td><td>409516064</td><td>2025-09-02T19:10:66</td></tr><tr><td>2025-09-26</td><td>shop.sony.bpl</td><td>mobile</td><td>wifi-network</td><td>meta.com / referral</td><td>azure / aws / gcc</td><td>9876575</td><td>session_start</td><td>referral</td><td>Subscribe</td><td>78</td><td>409516064</td><td>2025-09-02T19:10:67</td></tr><tr><td>2025-09-27</td><td>shop.sony.bpl</td><td>mobile</td><td>wifi-network</td><td>github.com / referral</td><td>azure / aws / gcc</td><td>9876576</td><td>session_start</td><td>network</td><td>Subscribe</td><td>79</td><td>409516064</td><td>2025-09-02T19:10:68</td></tr><tr><td>2025-09-28</td><td>shop.sony.bpl</td><td>mobile</td><td>wifi-network</td><td>github.com / referral</td><td>azure / aws / gcc</td><td>9876577</td><td>session_start</td><td>network</td><td>Subscribe</td><td>90</td><td>409516064</td><td>2025-09-02T19:10:69</td></tr><tr><td>2025-09-29</td><td>shop.sony.bpl</td><td>mobile</td><td>wifi-network</td><td>email / email</td><td>azure / aws / gcc</td><td>9876578</td><td>session_start</td><td>network</td><td>Subscribe</td><td>191</td><td>409516064</td><td>2025-09-02T19:10:70</td></tr><tr><td>2025-09-30</td><td>shop.sony.bpl</td><td>mobile</td><td>wifi-network</td><td>(not set)</td><td>azure / aws / gcc</td><td>9876579</td><td>session_start</td><td>network</td><td>Subscribe</td><td>195</td><td>409516064</td><td>2025-09-02T19:10:71</td></tr><tr><td>2025-10-01</td><td>shop.sony.bpl</td><td>mobile</td><td>wifi-network</td><td>(not set)</td><td>azure / aws / gcc</td><td>9876580</td><td>first_visit</td><td>network</td><td>Subscribe</td><td>111</td><td>409516064</td><td>2025-09-02T19:10:72</td></tr><tr><td>2025-10-02</td><td>shop.sony.bpl</td><td>mobile</td><td>wifi-network</td><td>(not set)</td><td>azure / aws / gcc</td><td>9876581</td><td>first_visit</td><td>organic</td><td>Search</td><td>113</td><td>409516064</td><td>2025-09-02T19:10:73</td></tr><tr><td>2025-10-03</td><td>shop.sony.bpl</td><td>mobile</td><td>wifi-network</td><td>github.com / referral</td><td>azure / aws / gcc</td><td>9876582</td><td>first_visit</td><td>organic</td><td>Search</td><td>115</td><td>409516064</td><td>2025-09-02T19:10:74</td></tr><tr><td>2025-10-04</td><td>shop.sony.bpl</td><td>mobile</td><td>wifi-network</td><td>github.com / referral</td><td>azure / aws / gcc</td><td>9876583</td><td>first_visit</td><td>organic</td><td>Search</td><td>118</td><td>409516064</td><td>2025-09-02T19:10:75</td></tr><tr><td>2025-10-05</td><td>shop.sony.bpl</td><td>mobile</td><td>wifi-network</td><td>google / display</td><td>azure / aws / gcc</td><td>9876584</td><td>first_visit</td><td>organic</td><td>Search</td><td>119</td><td>409516064</td><td>2025-09-02T19:10:76</td></tr><tr><td>2025-10-06</td><td>shop.sony.bpl</td><td>mobile</td><td>wifi-network</td><td>(not set) / paid_social</td><td>azure / aws / gcc</td><td>9876585</td><td>first_visit</td><td>organic</td><td>Search</td><td>127</td><td>409516064</td><td>2025-09-02T19:10:77</td></tr><tr><td>2025-10-07</td><td>shop.sony.bpl</td><td>mobile</td><td>wifi-network</td><td>(data not available)</td><td>azure / aws / gcc</td><td>9876586</td><td>first_visit</td><td>organic</td><td>Search</td><td>129</td><td>409516064</td><td>2025-09-02T19:10:78</td></tr><tr><td>2025-10-08</td><td>shop.sony.bpl</td><td>mobile</td><td>wifi-network</td><td>(not available) / paid_social</td><td>azure / aws / gcc</td><td>9876587</td><td>add_to_cart</td><td>search</td><td>Search</td><td>12</td><td>409516064</td><td>2025-09-02T19:10:79</td></tr><tr><td>2025-10-09</td><td>shop.sony.bpl</td><td>mobile</td><td>wifi-network</td><td>(not available) / paid_social</td><td>azure / aws / gcc</td><td>9876588</td><td>add_to_cart</td><td>search</td><td>Search</td><td>14</td><td>409516064</td><td>2025-09-02T19:10:80</td></tr><tr><td>2025-10-10</td><td>shop.sony.bpl</td><td>mobile</td><td>wifi-network</td><td>(not set)</td><td>azure / aws / gcc</td><td>9876589</td><td>add_to_cart</td><td>search</td><td>Search</td><td>16</td><td>409516064</td><td>2025-09-02T19:10:81</td></tr><tr><td>2025-10-11</td><td>shop.sony.bpl</td><td>mobile</td><td>wifi-network</td><td>(not set)</td><td>azure / aws / gcc</td><td>9876590</td><td>add_to_cart</td><td>search</td><td>Autocomplete</td><td>105</td><td>409516064</td><td>2025-09-02T19:10:82</td></tr><tr><td>2025-10-12</td><td>shop.sony.bpl</td><td>mobile</td><td>wifi-network</td><td>email / email</td><td>azure / aws / gcc</td><td>9876591</td><td>add_to_cart</td><td>search</td><td>Autocomplete</td><td>120</td><td>409516064</td><td>2025-09-02T19:10:83</td></tr><tr><td>2025-10-13</td><td>shop.sony.bpl</td><td>mobile</td><td>wifi-network</td><td>(not set) / shorturl</td><td>azure / aws / gcc</td><td>9876592</td><td>add_to_cart</td><td>organic</td><td>Autocomplete</td><td>135</td><td>409516064</td><td>2025-09-02T19:10:84</td></tr><tr><td>2025-10-14</td><td>shop.sony.bpl</td><td>mobile</td><td>wifi-network</td><td>TTD / video</td><td>azure / aws / gcc</td><td>9876593</td><td>add_to_cart</td><td>organic</td><td>Autocomplete</td><td>176</td><td>409516064</td><td>2025-09-02T19:10:85</td></tr><tr><td>2025-10-15</td><td>shop.sony.bpl</td><td>mobile</td><td>wifi-network</td><td>github.com / referral</td><td>azure / aws / gcc</td><td>9876594</td><td>add_to_cart</td><td>organic</td><td>Autocomplete</td><td>129</td><td>409516064</td><td>2025-09-02T19:10:86</td></tr><tr><td>2025-10-16</td><td>shop.sony.bpl</td><td>mobile</td><td>wifi-network</td><td>(data not available)</td><td>azure / aws / gcc</td><td>9876595</td><td>add_to_cart</td><td>unit_test</td><td>Autocomplete</td><td>132</td><td>409516064</td><td>2025-09-02T19:10:87</td></tr><tr><td>2025-10-17</td><td>shop.sony.bpl</td><td>mobile</td><td>wifi-network</td><td>github.com / referral</td><td>azure / aws / gcc</td><td>9876596</td><td>add_to_cart</td><td>unit_test</td><td>Autocomplete</td><td>143</td><td>409516064</td><td>2025-09-02T19:10:88</td></tr><tr><td>2025-10-18</td><td>shop.sony.bpl</td><td>mobile</td><td>wifi-network</td><td>(not set) / paid_social</td><td>azure / aws / gcc</td><td>9876597</td><td>add_to_cart</td><td>unit_test</td><td>Autocomplete</td><td>146</td><td>409516064</td><td>2025-09-02T19:10:89</td></tr><tr><td>2025-10-19</td><td>shop.sony.bpl</td><td>mobile</td><td>wifi-network</td><td>(none) / (direct)</td><td>azure / aws / gcc</td><td>9876598</td><td>purchase</td><td>unit_test</td><td>Autocomplete</td><td>148</td><td>409516064</td><td>2025-09-02T19:10:90</td></tr><tr><td>2025-10-20</td><td>shop.sony.bpl</td><td>mobile</td><td>wifi-network</td><td>github.com / referral</td><td>azure / aws / gcc</td><td>9876599</td><td>click</td><td>unit_test</td><td>Autocomplete</td><td>149</td><td>409516064</td><td>2025-09-02T19:10:91</td></tr><tr><td>2025-10-21</td><td>shop.sony.bpl</td><td>mobile</td><td>wifi-network</td><td>(not set)</td><td>azure / aws / gcc</td><td>9876600</td><td>search</td><td>unit_test</td><td>Autocomplete</td><td>151</td><td>409516064</td><td>2025-09-02T19:10:92</td></tr><tr><td>2025-10-22</td><td>shop.sony.bpl</td><td>mobile</td><td>wifi-network</td><td>(not set)</td><td>azure / aws / gcc</td><td>9876601</td><td>click</td><td>unit_test</td><td>Customer</td><td>152</td><td>409516064</td><td>2025-09-02T19:10:93</td></tr><tr><td>2025-10-23</td><td>shop.sony.bpl</td><td>mobile</td><td>wifi-network</td><td>email / email</td><td>azure / aws / gcc</td><td>9876602</td><td>click</td><td>smoke_test</td><td>Customer</td><td>153</td><td>409516064</td><td>2025-09-02T19:10:94</td></tr><tr><td>2025-10-24</td><td>shop.sony.bpl</td><td>mobile</td><td>wifi-network</td><td>yahoo / organic</td><td>azure / aws / gcc</td><td>9876603</td><td>click</td><td>smoke_test</td><td>Customer</td><td>154</td><td>409516064</td><td>2025-09-02T19:10:95</td></tr><tr><td>2025-10-25</td><td>shop.sony.bpl</td><td>mobile</td><td>wifi-network</td><td>(data not available)</td><td>azure / aws / gcc</td><td>9876604</td><td>click</td><td>smoke_test</td><td>Customer</td><td>155</td><td>409516064</td><td>2025-09-02T19:10:96</td></tr><tr><td>2025-10-26</td><td>shop.sony.bpl</td><td>mobile</td><td>wifi-network</td><td>(not set) / shorturl</td><td>azure / aws / gcc</td><td>9876605</td><td>click</td><td>smoke_test</td><td>Customer</td><td>156</td><td>409516064</td><td>2025-09-02T19:10:97</td></tr><tr><td>2025-10-27</td><td>shop.sony.bpl</td><td>mobile</td><td>wifi-network</td><td>email / email</td><td>azure / aws / gcc</td><td>9876606</td><td>click</td><td>smoke_test</td><td>Customer</td><td>157</td><td>409516064</td><td>2025-09-02T19:10:98</td></tr><tr><td>2025-10-28</td><td>shop.sony.bpl</td><td>mobile</td><td>wifi-network</td><td>meta.com / referral</td><td>azure / aws / gcc</td><td>9876607</td><td>click</td><td>smoke_test</td><td>Customer</td><td>158</td><td>409516064</td><td>2025-09-02T19:10:99</td></tr><tr><td>2025-10-29</td><td>shop.sony.bpl</td><td>mobile</td><td>wifi-network</td><td>email / email</td><td>azure / aws / gcc</td><td>9876608</td><td>click</td><td>smoke_test</td><td>Customer</td><td>159</td><td>409516064</td><td>2025-09-02T19:10:100</td></tr><tr><td>2025-10-30</td><td>shop.sony.bpl</td><td>mobile</td><td>wifi-network</td><td>(not set)</td><td>azure / aws / gcc</td><td>9876609</td><td>click</td><td>smoke_test</td><td>Customer</td><td>160</td><td>409516064</td><td>2025-09-02T19:10:101</td></tr><tr><td>2025-10-31</td><td>shop.sony.bpl</td><td>mobile</td><td>wifi-network</td><td>(not set)</td><td>azure / aws / gcc</td><td>9876610</td><td>search</td><td>smoke_test</td><td>Customer</td><td>161</td><td>409516064</td><td>2025-09-02T19:10:102</td></tr><tr><td>2025-11-01</td><td>shop.sony.bpl</td><td>mobile</td><td>wifi-network</td><td>instagram / organic</td><td>azure / aws / gcc</td><td>9876611</td><td>search</td><td>smoke_test</td><td>Customer</td><td>85</td><td>409516064</td><td>2025-09-02T19:10:103</td></tr><tr><td>2025-11-02</td><td>shop.sony.bpl</td><td>mobile</td><td>wifi-network</td><td>amazon.se / referral</td><td>azure / aws / gcc</td><td>9876612</td><td>search</td><td>scroll</td><td>Customer</td><td>86</td><td>409516064</td><td>2025-09-02T19:10:104</td></tr><tr><td>2025-11-03</td><td>shop.sony.bpl</td><td>mobile</td><td>wifi-network</td><td>(data not available)</td><td>azure / aws / gcc</td><td>9876613</td><td>add_to_cart</td><td>scroll</td><td>Audit</td><td>87</td><td>409516064</td><td>2025-09-02T19:10:105</td></tr><tr><td>2025-11-04</td><td>shop.sony.bpl</td><td>mobile</td><td>wifi-network</td><td>flipkart / referral</td><td>azure / aws / gcc</td><td>9876614</td><td>add_to_cart</td><td>scroll</td><td>Audit</td><td>88</td><td>409516064</td><td>2025-09-02T19:10:106</td></tr><tr><td>2025-11-05</td><td>shop.sony.bpl</td><td>mobile</td><td>wifi-network</td><td>instagram / organic</td><td>azure / aws / gcc</td><td>9876615</td><td>add_to_cart</td><td>scroll</td><td>Audit</td><td>89</td><td>409516064</td><td>2025-09-02T19:10:107</td></tr><tr><td>2025-11-06</td><td>shop.sony.bpl</td><td>mobile</td><td>wifi-network</td><td>(direct) / (none)</td><td>azure / aws / gcc</td><td>9876616</td><td>add_to_cart</td><td>scroll</td><td>Audit</td><td>41</td><td>409516064</td><td>2025-09-02T19:10:108</td></tr><tr><td>2025-11-07</td><td>shop.sony.bpl</td><td>mobile</td><td>wifi-network</td><td>github.com / referral</td><td>azure / aws / gcc</td><td>9876617</td><td>add_to_cart</td><td>organic</td><td>Audit</td><td>42</td><td>409516064</td><td>2025-09-02T19:10:109</td></tr><tr><td>2025-11-08</td><td>shop.sony.bpl</td><td>mobile</td><td>wifi-network</td><td>instagram / organic</td><td>azure / aws / gcc</td><td>9876618</td><td>add_to_cart</td><td>organic</td><td>Audit</td><td>43</td><td>409516064</td><td>2025-09-02T19:10:110</td></tr><tr><td>2025-11-09</td><td>shop.sony.bpl</td><td>mobile</td><td>wifi-network</td><td>(not set)</td><td>azure / aws / gcc</td><td>9876619</td><td>search</td><td>organic</td><td>Audit</td><td>44</td><td>409516064</td><td>2025-09-02T19:10:111</td></tr><tr><td>2025-11-10</td><td>shop.sony.bpl</td><td>mobile</td><td>wifi-network</td><td>(not set)</td><td>azure / aws / gcc</td><td>9876620</td><td>search</td><td>drag</td><td>Audit</td><td>45</td><td>409516064</td><td>2025-09-02T19:10:112</td></tr><tr><td>2025-11-11</td><td>shop.sony.bpl</td><td>mobile</td><td>wifi-network</td><td>(none) / (direct)</td><td>azure / aws / gcc</td><td>9876621</td><td>search</td><td>drag</td><td>Audit</td><td>46</td><td>409516064</td><td>2025-09-02T19:10:113</td></tr><tr><td>2025-11-12</td><td>shop.sony.bpl</td><td>mobile</td><td>wifi-network</td><td>flipkart / referral</td><td>azure / aws / gcc</td><td>9876622</td><td>session_start</td><td>drag</td><td>Audit</td><td>47</td><td>409516064</td><td>2025-09-02T19:10:114</td></tr><tr><td>2025-11-13</td><td>shop.sony.bpl</td><td>mobile</td><td>wifi-network</td><td>email / email</td><td>azure / aws / gcc</td><td>9876623</td><td>session_start</td><td>scroll</td><td>Audit</td><td>48</td><td>409516064</td><td>2025-09-02T19:10:115</td></tr><tr><td>2025-11-14</td><td>shop.sony.bpl</td><td>mobile</td><td>wifi-network</td><td>TTD / video</td><td>azure / aws / gcc</td><td>9876624</td><td>session_start</td><td>scroll</td><td>Audit</td><td>49</td><td>409516064</td><td>2025-09-02T19:10:116</td></tr><tr><td>2025-11-15</td><td>shop.sony.bpl</td><td>mobile</td><td>wifi-network</td><td>(data not available)</td><td>azure / aws / gcc</td><td>9876625</td><td>first_visit</td><td>scroll</td><td>Audit</td><td>31</td><td>409516064</td><td>2025-09-02T19:10:117</td></tr><tr><td>2025-11-16</td><td>shop.sony.bpl</td><td>mobile</td><td>wifi-network</td><td>(direct) / (none)</td><td>azure / aws / gcc</td><td>9876626</td><td>click</td><td>scroll</td><td>Audit</td><td>32</td><td>409516064</td><td>2025-09-02T19:10:118</td></tr><tr><td>2025-11-17</td><td>shop.sony.bpl</td><td>mobile</td><td>wifi-network</td><td>(direct) / (none)</td><td>azure / aws / gcc</td><td>9876627</td><td>click</td><td>scroll</td><td>Audit</td><td>33</td><td>409516064</td><td>2025-09-02T19:10:119</td></tr><tr><td>2025-11-18</td><td>shop.sony.bpl</td><td>mobile</td><td>wifi-network</td><td>flipkart / referral</td><td>azure / aws / gcc</td><td>9876628</td><td>click</td><td>scroll</td><td>Audit</td><td>34</td><td>409516064</td><td>2025-09-02T19:10:120</td></tr><tr><td>2025-11-19</td><td>shop.sony.bpl</td><td>mobile</td><td>wifi-network</td><td>(none) / (direct)</td><td>azure / aws / gcc</td><td>9876629</td><td>click</td><td>referral</td><td>Audit</td><td>35</td><td>409516064</td><td>2025-09-02T19:10:121</td></tr><tr><td>2025-11-20</td><td>shop.sony.bpl</td><td>mobile</td><td>wifi-network</td><td>brochure / shorturl</td><td>azure / aws / gcc</td><td>9876630</td><td>session_start</td><td>direct</td><td>Marketing</td><td>36</td><td>409516064</td><td>2025-09-02T19:10:122</td></tr><tr><td>2025-11-21</td><td>shop.sony.bpl</td><td>mobile</td><td>wifi-network</td><td>(not set)</td><td>azure / aws / gcc</td><td>9876631</td><td>session_start</td><td>direct</td><td>Marketing</td><td>37</td><td>409516064</td><td>2025-09-02T19:10:123</td></tr><tr><td>2025-11-22</td><td>shop.sony.bpl</td><td>mobile</td><td>wifi-network</td><td>(data not available)</td><td>azure / aws / gcc</td><td>9876632</td><td>session_start</td><td>direct</td><td>Marketing</td><td>38</td><td>409516064</td><td>2025-09-02T19:10:124</td></tr><tr><td>2025-11-23</td><td>shop.sony.bpl</td><td>mobile</td><td>wifi-network</td><td>brochure / shorturl</td><td>azure / aws / gcc</td><td>9876633</td><td>session_start</td><td>direct</td><td>Marketing</td><td>39</td><td>409516064</td><td>2025-09-02T19:10:125</td></tr><tr><td>2025-11-24</td><td>shop.sony.bpl</td><td>mobile</td><td>wifi-network</td><td>brochure / shorturl</td><td>azure / aws / gcc</td><td>9876634</td><td>session_start</td><td>direct</td><td>Marketing</td><td>40</td><td>409516064</td><td>2025-09-02T19:10:126</td></tr><tr><td>2025-11-25</td><td>shop.sony.bpl</td><td>mobile</td><td>wifi-network</td><td>(not set)</td><td>azure / aws / gcc</td><td>9876635</td><td>session_start</td><td>direct</td><td>Marketing</td><td>28</td><td>409516064</td><td>2025-09-02T19:10:127</td></tr><tr><td>2025-11-26</td><td>shop.sony.bpl</td><td>mobile</td><td>wifi-network</td><td>(not set)</td><td>azure / aws / gcc</td><td>9876636</td><td>session_start</td><td>referral</td><td>Marketing</td><td>27</td><td>409516064</td><td>2025-09-02T19:10:128</td></tr><tr><td>2025-11-27</td><td>shop.sony.bpl</td><td>mobile</td><td>wifi-network</td><td>fb / paid</td><td>azure / aws / gcc</td><td>9876637</td><td>session_start</td><td>referral</td><td>Marketing</td><td>26</td><td>409516064</td><td>2025-09-02T19:10:129</td></tr><tr><td>2025-11-28</td><td>shop.sony.bpl</td><td>mobile</td><td>wifi-network</td><td>(direct) / (none)</td><td>azure / aws / gcc</td><td>9876638</td><td>session_start</td><td>referral</td><td>Marketing</td><td>84</td><td>409516064</td><td>2025-09-02T19:10:130</td></tr><tr><td>2025-11-29</td><td>shop.sony.bpl</td><td>mobile</td><td>wifi-network</td><td>(direct) / (none)</td><td>azure / aws / gcc</td><td>9876639</td><td>session_start</td><td>referral</td><td>Marketing</td><td>83</td><td>409516064</td><td>2025-09-02T19:10:131</td></tr><tr><td>2025-11-30</td><td>shop.sony.bpl</td><td>mobile</td><td>wifi-network</td><td>(data not available)</td><td>azure / aws / gcc</td><td>9876640</td><td>session_start</td><td>referral</td><td>Marketing</td><td>82</td><td>409516064</td><td>2025-09-02T19:10:132</td></tr><tr><td>2025-12-01</td><td>shop.sony.bpl</td><td>mobile</td><td>wifi-network</td><td>fb / paid</td><td>azure / aws / gcc</td><td>9876641</td><td>session_start</td><td>organic</td><td>Marketing</td><td>81</td><td>409516064</td><td>2025-09-02T19:10:133</td></tr><tr><td>2025-12-02</td><td>shop.sony.bpl</td><td>mobile</td><td>wifi-network</td><td>fb / paid</td><td>azure / aws / gcc</td><td>9876642</td><td>session_start</td><td>organic</td><td>Marketing</td><td>29</td><td>409516064</td><td>2025-09-02T19:10:134</td></tr></tbody></table></div>"
      ]
     },
     "metadata": {
      "application/vnd.databricks.v1+output": {
       "addedWidgets": {},
       "aggData": [],
       "aggError": "",
       "aggOverflow": false,
       "aggSchema": [],
       "aggSeriesLimitReached": false,
       "aggType": "",
       "arguments": {},
       "columnCustomDisplayInfos": {},
       "data": [
        [
         "2025-08-25",
         "shop.sony.bpl",
         "mobile",
         "wifi-network",
         "google",
         "azure / aws / gcc",
         9876543,
         "first_visit",
         "first_visit",
         "Not Available",
         5,
         409516064,
         "2025-09-02T19:10:35"
        ],
        [
         "2025-08-26",
         "shop.sony.bpl",
         "mobile",
         "wifi-network",
         "google",
         "azure / aws / gcc",
         9876544,
         "purchase",
         "organic",
         "Not Available",
         12,
         409516064,
         "2025-09-02T19:10:36"
        ],
        [
         "2025-08-27",
         "shop.sony.bpl",
         "mobile",
         "wifi-network",
         "google",
         "azure / aws / gcc",
         9876545,
         "search",
         "network",
         "Not Available",
         16,
         409516064,
         "2025-09-02T19:10:37"
        ],
        [
         "2025-08-28",
         "shop.sony.bpl",
         "mobile",
         "wifi-network",
         "google",
         "azure / aws / gcc",
         9876546,
         "search",
         "scroll",
         "Not Available",
         22,
         409516064,
         "2025-09-02T19:10:38"
        ],
        [
         "2025-08-29",
         "shop.sony.bpl",
         "mobile",
         "wifi-network",
         "google",
         "azure / aws / gcc",
         9876547,
         "search",
         "organic",
         "Not Available",
         25,
         409516064,
         "2025-09-02T19:10:39"
        ],
        [
         "2025-08-30",
         "shop.sony.bpl",
         "mobile",
         "wifi-network",
         "(not set)",
         "azure / aws / gcc",
         9876548,
         "add_to_cart",
         "organic",
         "Not Available",
         4,
         409516064,
         "2025-09-02T19:10:40"
        ],
        [
         "2025-08-31",
         "shop.sony.bpl",
         "mobile",
         "wifi-network",
         "(not set)",
         "azure / aws / gcc",
         9876549,
         "add_to_cart",
         "organic",
         "Not Available",
         9,
         409516064,
         "2025-09-02T19:10:41"
        ],
        [
         "2025-09-01",
         "shop.sony.bpl",
         "mobile",
         "wifi-network",
         "(none) / (direct)",
         "azure / aws / gcc",
         9876550,
         "add_to_cart",
         "first_visit",
         "Not Available",
         8,
         409516064,
         "2025-09-02T19:10:42"
        ],
        [
         "2025-09-02",
         "shop.sony.bpl",
         "mobile",
         "wifi-network",
         "flipkart / referral",
         "azure / aws / gcc",
         9876551,
         "add_to_cart",
         "first_visit",
         "Not Available",
         7,
         409516064,
         "2025-09-02T19:10:43"
        ],
        [
         "2025-09-03",
         "shop.sony.bpl",
         "mobile",
         "wifi-network",
         "(data not available)",
         "azure / aws / gcc",
         9876552,
         "add_to_cart",
         "first_visit",
         "Not Available",
         6,
         409516064,
         "2025-09-02T19:10:44"
        ],
        [
         "2025-09-04",
         "shop.sony.bpl",
         "mobile",
         "wifi-network",
         "(none) / (direct)",
         "azure / aws / gcc",
         9876553,
         "add_to_cart",
         "first_visit",
         "Not Available",
         5,
         409516064,
         "2025-09-02T19:10:45"
        ],
        [
         "2025-09-05",
         "shop.sony.bpl",
         "mobile",
         "wifi-network",
         "(data not available)",
         "azure / aws / gcc",
         9876554,
         "first_visit",
         "user_engagement",
         "Not Available",
         4,
         409516064,
         "2025-09-02T19:10:46"
        ],
        [
         "2025-09-06",
         "shop.sony.bpl",
         "mobile",
         "wifi-network",
         "(data not available)",
         "azure / aws / gcc",
         9876555,
         "purchase",
         "scroll",
         "Not Available",
         3,
         409516064,
         "2025-09-02T19:10:47"
        ],
        [
         "2025-09-07",
         "shop.sony.bpl",
         "mobile",
         "wifi-network",
         "(none) / (direct)",
         "azure / aws / gcc",
         9876556,
         "purchase",
         "scroll",
         "Not Available",
         19,
         409516064,
         "2025-09-02T19:10:48"
        ],
        [
         "2025-09-08",
         "shop.sony.bpl",
         "mobile",
         "wifi-network",
         "TTD / video",
         "azure / aws / gcc",
         9876557,
         "purchase",
         "scroll",
         "Checkout",
         100,
         409516064,
         "2025-09-02T19:10:49"
        ],
        [
         "2025-09-09",
         "shop.sony.bpl",
         "mobile",
         "wifi-network",
         "(not set)",
         "azure / aws / gcc",
         9876558,
         "purchase",
         "scroll",
         "Checkout",
         54,
         409516064,
         "2025-09-02T19:10:50"
        ],
        [
         "2025-09-10",
         "shop.sony.bpl",
         "mobile",
         "wifi-network",
         "flipkart / referral",
         "azure / aws / gcc",
         9876559,
         "purchase",
         "network",
         "Checkout",
         36,
         409516064,
         "2025-09-02T19:10:51"
        ],
        [
         "2025-09-11",
         "shop.sony.bpl",
         "mobile",
         "wifi-network",
         "email / email",
         "azure / aws / gcc",
         9876560,
         "purchase",
         "network",
         "Checkout",
         23,
         409516064,
         "2025-09-02T19:10:52"
        ],
        [
         "2025-09-12",
         "shop.sony.bpl",
         "mobile",
         "wifi-network",
         "(not available) / paid_social",
         "azure / aws / gcc",
         9876561,
         "purchase",
         "network",
         "Checkout",
         98,
         409516064,
         "2025-09-02T19:10:53"
        ],
        [
         "2025-09-13",
         "shop.sony.bpl",
         "mobile",
         "wifi-network",
         "instagram / organic",
         "azure / aws / gcc",
         9876562,
         "purchase",
         "last_visit",
         "Checkout",
         78,
         409516064,
         "2025-09-02T19:10:54"
        ],
        [
         "2025-09-14",
         "shop.sony.bpl",
         "mobile",
         "wifi-network",
         "(data not available)",
         "azure / aws / gcc",
         9876563,
         "purchase",
         "user_engagement",
         "Checkout",
         76,
         409516064,
         "2025-09-02T19:10:55"
        ],
        [
         "2025-09-15",
         "shop.sony.bpl",
         "mobile",
         "wifi-network",
         "(data not available)",
         "azure / aws / gcc",
         9876564,
         "first_visit",
         "user_engagement",
         "Checkout",
         74,
         409516064,
         "2025-09-02T19:10:56"
        ],
        [
         "2025-09-16",
         "shop.sony.bpl",
         "mobile",
         "wifi-network",
         "(data not available)",
         "azure / aws / gcc",
         9876565,
         "first_visit",
         "user_engagement",
         "Checkout",
         63,
         409516064,
         "2025-09-02T19:10:57"
        ],
        [
         "2025-09-17",
         "shop.sony.bpl",
         "mobile",
         "wifi-network",
         "TTD / video",
         "azure / aws / gcc",
         9876566,
         "first_visit",
         "user_engagement",
         "Checkout",
         90,
         409516064,
         "2025-09-02T19:10:58"
        ],
        [
         "2025-09-18",
         "shop.sony.bpl",
         "mobile",
         "wifi-network",
         "github.com / referral",
         "azure / aws / gcc",
         9876567,
         "first_visit",
         "user_engagement",
         "Checkout",
         171,
         409516064,
         "2025-09-02T19:10:59"
        ],
        [
         "2025-09-19",
         "shop.sony.bpl",
         "mobile",
         "wifi-network",
         "(none) / (direct)",
         "azure / aws / gcc",
         9876568,
         "first_visit",
         "organic",
         "Checkout",
         172,
         409516064,
         "2025-09-02T19:10:60"
        ],
        [
         "2025-09-20",
         "shop.sony.bpl",
         "mobile",
         "wifi-network",
         "email / email",
         "azure / aws / gcc",
         9876569,
         "first_visit",
         "organic",
         "Checkout",
         173,
         409516064,
         "2025-09-02T19:10:61"
        ],
        [
         "2025-09-21",
         "shop.sony.bpl",
         "mobile",
         "wifi-network",
         "TTD / video",
         "azure / aws / gcc",
         9876570,
         "first_visit",
         "organic",
         "Checkout",
         174,
         409516064,
         "2025-09-02T19:10:62"
        ],
        [
         "2025-09-22",
         "shop.sony.bpl",
         "mobile",
         "wifi-network",
         "(data not available)",
         "azure / aws / gcc",
         9876571,
         "first_visit",
         "network",
         "Subscribe",
         175,
         409516064,
         "2025-09-02T19:10:63"
        ],
        [
         "2025-09-23",
         "shop.sony.bpl",
         "mobile",
         "wifi-network",
         "(data not available)",
         "azure / aws / gcc",
         9876572,
         "first_visit",
         "network",
         "Subscribe",
         176,
         409516064,
         "2025-09-02T19:10:64"
        ],
        [
         "2025-09-24",
         "shop.sony.bpl",
         "mobile",
         "wifi-network",
         "(data not available)",
         "azure / aws / gcc",
         9876573,
         "first_visit",
         "search",
         "Subscribe",
         177,
         409516064,
         "2025-09-02T19:10:65"
        ],
        [
         "2025-09-25",
         "shop.sony.bpl",
         "mobile",
         "wifi-network",
         "(none) / (direct)",
         "azure / aws / gcc",
         9876574,
         "first_visit",
         "referral",
         "Subscribe",
         74,
         409516064,
         "2025-09-02T19:10:66"
        ],
        [
         "2025-09-26",
         "shop.sony.bpl",
         "mobile",
         "wifi-network",
         "meta.com / referral",
         "azure / aws / gcc",
         9876575,
         "session_start",
         "referral",
         "Subscribe",
         78,
         409516064,
         "2025-09-02T19:10:67"
        ],
        [
         "2025-09-27",
         "shop.sony.bpl",
         "mobile",
         "wifi-network",
         "github.com / referral",
         "azure / aws / gcc",
         9876576,
         "session_start",
         "network",
         "Subscribe",
         79,
         409516064,
         "2025-09-02T19:10:68"
        ],
        [
         "2025-09-28",
         "shop.sony.bpl",
         "mobile",
         "wifi-network",
         "github.com / referral",
         "azure / aws / gcc",
         9876577,
         "session_start",
         "network",
         "Subscribe",
         90,
         409516064,
         "2025-09-02T19:10:69"
        ],
        [
         "2025-09-29",
         "shop.sony.bpl",
         "mobile",
         "wifi-network",
         "email / email",
         "azure / aws / gcc",
         9876578,
         "session_start",
         "network",
         "Subscribe",
         191,
         409516064,
         "2025-09-02T19:10:70"
        ],
        [
         "2025-09-30",
         "shop.sony.bpl",
         "mobile",
         "wifi-network",
         "(not set)",
         "azure / aws / gcc",
         9876579,
         "session_start",
         "network",
         "Subscribe",
         195,
         409516064,
         "2025-09-02T19:10:71"
        ],
        [
         "2025-10-01",
         "shop.sony.bpl",
         "mobile",
         "wifi-network",
         "(not set)",
         "azure / aws / gcc",
         9876580,
         "first_visit",
         "network",
         "Subscribe",
         111,
         409516064,
         "2025-09-02T19:10:72"
        ],
        [
         "2025-10-02",
         "shop.sony.bpl",
         "mobile",
         "wifi-network",
         "(not set)",
         "azure / aws / gcc",
         9876581,
         "first_visit",
         "organic",
         "Search",
         113,
         409516064,
         "2025-09-02T19:10:73"
        ],
        [
         "2025-10-03",
         "shop.sony.bpl",
         "mobile",
         "wifi-network",
         "github.com / referral",
         "azure / aws / gcc",
         9876582,
         "first_visit",
         "organic",
         "Search",
         115,
         409516064,
         "2025-09-02T19:10:74"
        ],
        [
         "2025-10-04",
         "shop.sony.bpl",
         "mobile",
         "wifi-network",
         "github.com / referral",
         "azure / aws / gcc",
         9876583,
         "first_visit",
         "organic",
         "Search",
         118,
         409516064,
         "2025-09-02T19:10:75"
        ],
        [
         "2025-10-05",
         "shop.sony.bpl",
         "mobile",
         "wifi-network",
         "google / display",
         "azure / aws / gcc",
         9876584,
         "first_visit",
         "organic",
         "Search",
         119,
         409516064,
         "2025-09-02T19:10:76"
        ],
        [
         "2025-10-06",
         "shop.sony.bpl",
         "mobile",
         "wifi-network",
         "(not set) / paid_social",
         "azure / aws / gcc",
         9876585,
         "first_visit",
         "organic",
         "Search",
         127,
         409516064,
         "2025-09-02T19:10:77"
        ],
        [
         "2025-10-07",
         "shop.sony.bpl",
         "mobile",
         "wifi-network",
         "(data not available)",
         "azure / aws / gcc",
         9876586,
         "first_visit",
         "organic",
         "Search",
         129,
         409516064,
         "2025-09-02T19:10:78"
        ],
        [
         "2025-10-08",
         "shop.sony.bpl",
         "mobile",
         "wifi-network",
         "(not available) / paid_social",
         "azure / aws / gcc",
         9876587,
         "add_to_cart",
         "search",
         "Search",
         12,
         409516064,
         "2025-09-02T19:10:79"
        ],
        [
         "2025-10-09",
         "shop.sony.bpl",
         "mobile",
         "wifi-network",
         "(not available) / paid_social",
         "azure / aws / gcc",
         9876588,
         "add_to_cart",
         "search",
         "Search",
         14,
         409516064,
         "2025-09-02T19:10:80"
        ],
        [
         "2025-10-10",
         "shop.sony.bpl",
         "mobile",
         "wifi-network",
         "(not set)",
         "azure / aws / gcc",
         9876589,
         "add_to_cart",
         "search",
         "Search",
         16,
         409516064,
         "2025-09-02T19:10:81"
        ],
        [
         "2025-10-11",
         "shop.sony.bpl",
         "mobile",
         "wifi-network",
         "(not set)",
         "azure / aws / gcc",
         9876590,
         "add_to_cart",
         "search",
         "Autocomplete",
         105,
         409516064,
         "2025-09-02T19:10:82"
        ],
        [
         "2025-10-12",
         "shop.sony.bpl",
         "mobile",
         "wifi-network",
         "email / email",
         "azure / aws / gcc",
         9876591,
         "add_to_cart",
         "search",
         "Autocomplete",
         120,
         409516064,
         "2025-09-02T19:10:83"
        ],
        [
         "2025-10-13",
         "shop.sony.bpl",
         "mobile",
         "wifi-network",
         "(not set) / shorturl",
         "azure / aws / gcc",
         9876592,
         "add_to_cart",
         "organic",
         "Autocomplete",
         135,
         409516064,
         "2025-09-02T19:10:84"
        ],
        [
         "2025-10-14",
         "shop.sony.bpl",
         "mobile",
         "wifi-network",
         "TTD / video",
         "azure / aws / gcc",
         9876593,
         "add_to_cart",
         "organic",
         "Autocomplete",
         176,
         409516064,
         "2025-09-02T19:10:85"
        ],
        [
         "2025-10-15",
         "shop.sony.bpl",
         "mobile",
         "wifi-network",
         "github.com / referral",
         "azure / aws / gcc",
         9876594,
         "add_to_cart",
         "organic",
         "Autocomplete",
         129,
         409516064,
         "2025-09-02T19:10:86"
        ],
        [
         "2025-10-16",
         "shop.sony.bpl",
         "mobile",
         "wifi-network",
         "(data not available)",
         "azure / aws / gcc",
         9876595,
         "add_to_cart",
         "unit_test",
         "Autocomplete",
         132,
         409516064,
         "2025-09-02T19:10:87"
        ],
        [
         "2025-10-17",
         "shop.sony.bpl",
         "mobile",
         "wifi-network",
         "github.com / referral",
         "azure / aws / gcc",
         9876596,
         "add_to_cart",
         "unit_test",
         "Autocomplete",
         143,
         409516064,
         "2025-09-02T19:10:88"
        ],
        [
         "2025-10-18",
         "shop.sony.bpl",
         "mobile",
         "wifi-network",
         "(not set) / paid_social",
         "azure / aws / gcc",
         9876597,
         "add_to_cart",
         "unit_test",
         "Autocomplete",
         146,
         409516064,
         "2025-09-02T19:10:89"
        ],
        [
         "2025-10-19",
         "shop.sony.bpl",
         "mobile",
         "wifi-network",
         "(none) / (direct)",
         "azure / aws / gcc",
         9876598,
         "purchase",
         "unit_test",
         "Autocomplete",
         148,
         409516064,
         "2025-09-02T19:10:90"
        ],
        [
         "2025-10-20",
         "shop.sony.bpl",
         "mobile",
         "wifi-network",
         "github.com / referral",
         "azure / aws / gcc",
         9876599,
         "click",
         "unit_test",
         "Autocomplete",
         149,
         409516064,
         "2025-09-02T19:10:91"
        ],
        [
         "2025-10-21",
         "shop.sony.bpl",
         "mobile",
         "wifi-network",
         "(not set)",
         "azure / aws / gcc",
         9876600,
         "search",
         "unit_test",
         "Autocomplete",
         151,
         409516064,
         "2025-09-02T19:10:92"
        ],
        [
         "2025-10-22",
         "shop.sony.bpl",
         "mobile",
         "wifi-network",
         "(not set)",
         "azure / aws / gcc",
         9876601,
         "click",
         "unit_test",
         "Customer",
         152,
         409516064,
         "2025-09-02T19:10:93"
        ],
        [
         "2025-10-23",
         "shop.sony.bpl",
         "mobile",
         "wifi-network",
         "email / email",
         "azure / aws / gcc",
         9876602,
         "click",
         "smoke_test",
         "Customer",
         153,
         409516064,
         "2025-09-02T19:10:94"
        ],
        [
         "2025-10-24",
         "shop.sony.bpl",
         "mobile",
         "wifi-network",
         "yahoo / organic",
         "azure / aws / gcc",
         9876603,
         "click",
         "smoke_test",
         "Customer",
         154,
         409516064,
         "2025-09-02T19:10:95"
        ],
        [
         "2025-10-25",
         "shop.sony.bpl",
         "mobile",
         "wifi-network",
         "(data not available)",
         "azure / aws / gcc",
         9876604,
         "click",
         "smoke_test",
         "Customer",
         155,
         409516064,
         "2025-09-02T19:10:96"
        ],
        [
         "2025-10-26",
         "shop.sony.bpl",
         "mobile",
         "wifi-network",
         "(not set) / shorturl",
         "azure / aws / gcc",
         9876605,
         "click",
         "smoke_test",
         "Customer",
         156,
         409516064,
         "2025-09-02T19:10:97"
        ],
        [
         "2025-10-27",
         "shop.sony.bpl",
         "mobile",
         "wifi-network",
         "email / email",
         "azure / aws / gcc",
         9876606,
         "click",
         "smoke_test",
         "Customer",
         157,
         409516064,
         "2025-09-02T19:10:98"
        ],
        [
         "2025-10-28",
         "shop.sony.bpl",
         "mobile",
         "wifi-network",
         "meta.com / referral",
         "azure / aws / gcc",
         9876607,
         "click",
         "smoke_test",
         "Customer",
         158,
         409516064,
         "2025-09-02T19:10:99"
        ],
        [
         "2025-10-29",
         "shop.sony.bpl",
         "mobile",
         "wifi-network",
         "email / email",
         "azure / aws / gcc",
         9876608,
         "click",
         "smoke_test",
         "Customer",
         159,
         409516064,
         "2025-09-02T19:10:100"
        ],
        [
         "2025-10-30",
         "shop.sony.bpl",
         "mobile",
         "wifi-network",
         "(not set)",
         "azure / aws / gcc",
         9876609,
         "click",
         "smoke_test",
         "Customer",
         160,
         409516064,
         "2025-09-02T19:10:101"
        ],
        [
         "2025-10-31",
         "shop.sony.bpl",
         "mobile",
         "wifi-network",
         "(not set)",
         "azure / aws / gcc",
         9876610,
         "search",
         "smoke_test",
         "Customer",
         161,
         409516064,
         "2025-09-02T19:10:102"
        ],
        [
         "2025-11-01",
         "shop.sony.bpl",
         "mobile",
         "wifi-network",
         "instagram / organic",
         "azure / aws / gcc",
         9876611,
         "search",
         "smoke_test",
         "Customer",
         85,
         409516064,
         "2025-09-02T19:10:103"
        ],
        [
         "2025-11-02",
         "shop.sony.bpl",
         "mobile",
         "wifi-network",
         "amazon.se / referral",
         "azure / aws / gcc",
         9876612,
         "search",
         "scroll",
         "Customer",
         86,
         409516064,
         "2025-09-02T19:10:104"
        ],
        [
         "2025-11-03",
         "shop.sony.bpl",
         "mobile",
         "wifi-network",
         "(data not available)",
         "azure / aws / gcc",
         9876613,
         "add_to_cart",
         "scroll",
         "Audit",
         87,
         409516064,
         "2025-09-02T19:10:105"
        ],
        [
         "2025-11-04",
         "shop.sony.bpl",
         "mobile",
         "wifi-network",
         "flipkart / referral",
         "azure / aws / gcc",
         9876614,
         "add_to_cart",
         "scroll",
         "Audit",
         88,
         409516064,
         "2025-09-02T19:10:106"
        ],
        [
         "2025-11-05",
         "shop.sony.bpl",
         "mobile",
         "wifi-network",
         "instagram / organic",
         "azure / aws / gcc",
         9876615,
         "add_to_cart",
         "scroll",
         "Audit",
         89,
         409516064,
         "2025-09-02T19:10:107"
        ],
        [
         "2025-11-06",
         "shop.sony.bpl",
         "mobile",
         "wifi-network",
         "(direct) / (none)",
         "azure / aws / gcc",
         9876616,
         "add_to_cart",
         "scroll",
         "Audit",
         41,
         409516064,
         "2025-09-02T19:10:108"
        ],
        [
         "2025-11-07",
         "shop.sony.bpl",
         "mobile",
         "wifi-network",
         "github.com / referral",
         "azure / aws / gcc",
         9876617,
         "add_to_cart",
         "organic",
         "Audit",
         42,
         409516064,
         "2025-09-02T19:10:109"
        ],
        [
         "2025-11-08",
         "shop.sony.bpl",
         "mobile",
         "wifi-network",
         "instagram / organic",
         "azure / aws / gcc",
         9876618,
         "add_to_cart",
         "organic",
         "Audit",
         43,
         409516064,
         "2025-09-02T19:10:110"
        ],
        [
         "2025-11-09",
         "shop.sony.bpl",
         "mobile",
         "wifi-network",
         "(not set)",
         "azure / aws / gcc",
         9876619,
         "search",
         "organic",
         "Audit",
         44,
         409516064,
         "2025-09-02T19:10:111"
        ],
        [
         "2025-11-10",
         "shop.sony.bpl",
         "mobile",
         "wifi-network",
         "(not set)",
         "azure / aws / gcc",
         9876620,
         "search",
         "drag",
         "Audit",
         45,
         409516064,
         "2025-09-02T19:10:112"
        ],
        [
         "2025-11-11",
         "shop.sony.bpl",
         "mobile",
         "wifi-network",
         "(none) / (direct)",
         "azure / aws / gcc",
         9876621,
         "search",
         "drag",
         "Audit",
         46,
         409516064,
         "2025-09-02T19:10:113"
        ],
        [
         "2025-11-12",
         "shop.sony.bpl",
         "mobile",
         "wifi-network",
         "flipkart / referral",
         "azure / aws / gcc",
         9876622,
         "session_start",
         "drag",
         "Audit",
         47,
         409516064,
         "2025-09-02T19:10:114"
        ],
        [
         "2025-11-13",
         "shop.sony.bpl",
         "mobile",
         "wifi-network",
         "email / email",
         "azure / aws / gcc",
         9876623,
         "session_start",
         "scroll",
         "Audit",
         48,
         409516064,
         "2025-09-02T19:10:115"
        ],
        [
         "2025-11-14",
         "shop.sony.bpl",
         "mobile",
         "wifi-network",
         "TTD / video",
         "azure / aws / gcc",
         9876624,
         "session_start",
         "scroll",
         "Audit",
         49,
         409516064,
         "2025-09-02T19:10:116"
        ],
        [
         "2025-11-15",
         "shop.sony.bpl",
         "mobile",
         "wifi-network",
         "(data not available)",
         "azure / aws / gcc",
         9876625,
         "first_visit",
         "scroll",
         "Audit",
         31,
         409516064,
         "2025-09-02T19:10:117"
        ],
        [
         "2025-11-16",
         "shop.sony.bpl",
         "mobile",
         "wifi-network",
         "(direct) / (none)",
         "azure / aws / gcc",
         9876626,
         "click",
         "scroll",
         "Audit",
         32,
         409516064,
         "2025-09-02T19:10:118"
        ],
        [
         "2025-11-17",
         "shop.sony.bpl",
         "mobile",
         "wifi-network",
         "(direct) / (none)",
         "azure / aws / gcc",
         9876627,
         "click",
         "scroll",
         "Audit",
         33,
         409516064,
         "2025-09-02T19:10:119"
        ],
        [
         "2025-11-18",
         "shop.sony.bpl",
         "mobile",
         "wifi-network",
         "flipkart / referral",
         "azure / aws / gcc",
         9876628,
         "click",
         "scroll",
         "Audit",
         34,
         409516064,
         "2025-09-02T19:10:120"
        ],
        [
         "2025-11-19",
         "shop.sony.bpl",
         "mobile",
         "wifi-network",
         "(none) / (direct)",
         "azure / aws / gcc",
         9876629,
         "click",
         "referral",
         "Audit",
         35,
         409516064,
         "2025-09-02T19:10:121"
        ],
        [
         "2025-11-20",
         "shop.sony.bpl",
         "mobile",
         "wifi-network",
         "brochure / shorturl",
         "azure / aws / gcc",
         9876630,
         "session_start",
         "direct",
         "Marketing",
         36,
         409516064,
         "2025-09-02T19:10:122"
        ],
        [
         "2025-11-21",
         "shop.sony.bpl",
         "mobile",
         "wifi-network",
         "(not set)",
         "azure / aws / gcc",
         9876631,
         "session_start",
         "direct",
         "Marketing",
         37,
         409516064,
         "2025-09-02T19:10:123"
        ],
        [
         "2025-11-22",
         "shop.sony.bpl",
         "mobile",
         "wifi-network",
         "(data not available)",
         "azure / aws / gcc",
         9876632,
         "session_start",
         "direct",
         "Marketing",
         38,
         409516064,
         "2025-09-02T19:10:124"
        ],
        [
         "2025-11-23",
         "shop.sony.bpl",
         "mobile",
         "wifi-network",
         "brochure / shorturl",
         "azure / aws / gcc",
         9876633,
         "session_start",
         "direct",
         "Marketing",
         39,
         409516064,
         "2025-09-02T19:10:125"
        ],
        [
         "2025-11-24",
         "shop.sony.bpl",
         "mobile",
         "wifi-network",
         "brochure / shorturl",
         "azure / aws / gcc",
         9876634,
         "session_start",
         "direct",
         "Marketing",
         40,
         409516064,
         "2025-09-02T19:10:126"
        ],
        [
         "2025-11-25",
         "shop.sony.bpl",
         "mobile",
         "wifi-network",
         "(not set)",
         "azure / aws / gcc",
         9876635,
         "session_start",
         "direct",
         "Marketing",
         28,
         409516064,
         "2025-09-02T19:10:127"
        ],
        [
         "2025-11-26",
         "shop.sony.bpl",
         "mobile",
         "wifi-network",
         "(not set)",
         "azure / aws / gcc",
         9876636,
         "session_start",
         "referral",
         "Marketing",
         27,
         409516064,
         "2025-09-02T19:10:128"
        ],
        [
         "2025-11-27",
         "shop.sony.bpl",
         "mobile",
         "wifi-network",
         "fb / paid",
         "azure / aws / gcc",
         9876637,
         "session_start",
         "referral",
         "Marketing",
         26,
         409516064,
         "2025-09-02T19:10:129"
        ],
        [
         "2025-11-28",
         "shop.sony.bpl",
         "mobile",
         "wifi-network",
         "(direct) / (none)",
         "azure / aws / gcc",
         9876638,
         "session_start",
         "referral",
         "Marketing",
         84,
         409516064,
         "2025-09-02T19:10:130"
        ],
        [
         "2025-11-29",
         "shop.sony.bpl",
         "mobile",
         "wifi-network",
         "(direct) / (none)",
         "azure / aws / gcc",
         9876639,
         "session_start",
         "referral",
         "Marketing",
         83,
         409516064,
         "2025-09-02T19:10:131"
        ],
        [
         "2025-11-30",
         "shop.sony.bpl",
         "mobile",
         "wifi-network",
         "(data not available)",
         "azure / aws / gcc",
         9876640,
         "session_start",
         "referral",
         "Marketing",
         82,
         409516064,
         "2025-09-02T19:10:132"
        ],
        [
         "2025-12-01",
         "shop.sony.bpl",
         "mobile",
         "wifi-network",
         "fb / paid",
         "azure / aws / gcc",
         9876641,
         "session_start",
         "organic",
         "Marketing",
         81,
         409516064,
         "2025-09-02T19:10:133"
        ],
        [
         "2025-12-02",
         "shop.sony.bpl",
         "mobile",
         "wifi-network",
         "fb / paid",
         "azure / aws / gcc",
         9876642,
         "session_start",
         "organic",
         "Marketing",
         29,
         409516064,
         "2025-09-02T19:10:134"
        ]
       ],
       "datasetInfos": [],
       "dbfsResultPath": null,
       "isJsonSchema": true,
       "metadata": {},
       "overflow": false,
       "plotOptions": {
        "customPlotOptions": {},
        "displayType": "table",
        "pivotAggregation": null,
        "pivotColumns": null,
        "xColumns": null,
        "yColumns": null
       },
       "removedWidgets": [],
       "schema": [
        {
         "metadata": "{\"__detected_date_formats\":\"d-M-yyyy\"}",
         "name": "start_date",
         "type": "\"date\""
        },
        {
         "metadata": "{}",
         "name": "product_url",
         "type": "\"string\""
        },
        {
         "metadata": "{}",
         "name": "category",
         "type": "\"string\""
        },
        {
         "metadata": "{}",
         "name": "default_group",
         "type": "\"string\""
        },
        {
         "metadata": "{}",
         "name": "source_target",
         "type": "\"string\""
        },
        {
         "metadata": "{}",
         "name": "cloud_flatform",
         "type": "\"string\""
        },
        {
         "metadata": "{}",
         "name": "session_id",
         "type": "\"integer\""
        },
        {
         "metadata": "{}",
         "name": "session_name",
         "type": "\"string\""
        },
        {
         "metadata": "{}",
         "name": "status_name",
         "type": "\"string\""
        },
        {
         "metadata": "{}",
         "name": "status_type",
         "type": "\"string\""
        },
        {
         "metadata": "{}",
         "name": "sessions",
         "type": "\"integer\""
        },
        {
         "metadata": "{}",
         "name": "product_id",
         "type": "\"integer\""
        },
        {
         "metadata": "{}",
         "name": "load datetime",
         "type": "\"string\""
        }
       ],
       "type": "table"
      }
     },
     "output_type": "display_data"
    }
   ],
   "source": [
    "df = spark.read.csv(\"/FileStore/tables/company_level-2.csv\", header=True, inferSchema=True)\n",
    "display(df)"
   ]
  },
  {
   "cell_type": "markdown",
   "metadata": {
    "application/vnd.databricks.v1+cell": {
     "cellMetadata": {},
     "inputWidgets": {},
     "nuid": "a1e4c928-128c-442d-a959-54c572c82b14",
     "showTitle": false,
     "tableResultSettingsMap": {},
     "title": ""
    }
   },
   "source": [
    "#### 5) Using .rdd.flatMap()\n",
    "\n",
    "- This avoids explicit **list comprehension** and works with **Spark’s RDD**"
   ]
  },
  {
   "cell_type": "markdown",
   "metadata": {
    "application/vnd.databricks.v1+cell": {
     "cellMetadata": {},
     "inputWidgets": {},
     "nuid": "ce6608c1-1ced-49c7-9166-99b244b2601b",
     "showTitle": false,
     "tableResultSettingsMap": {},
     "title": ""
    }
   },
   "source": [
    "##### a) Convert single column to list"
   ]
  },
  {
   "cell_type": "code",
   "execution_count": 0,
   "metadata": {
    "application/vnd.databricks.v1+cell": {
     "cellMetadata": {
      "byteLimit": 2048000,
      "rowLimit": 10000
     },
     "inputWidgets": {},
     "nuid": "421fa14c-0e07-45c0-9ba8-1243b5d1a4c8",
     "showTitle": false,
     "tableResultSettingsMap": {},
     "title": ""
    }
   },
   "outputs": [
    {
     "output_type": "stream",
     "name": "stdout",
     "output_type": "stream",
     "text": [
      "status_type: \n ['Not Available', 'Not Available', 'Not Available', 'Not Available', 'Not Available', 'Not Available', 'Not Available', 'Not Available', 'Not Available', 'Not Available', 'Not Available', 'Not Available', 'Not Available', 'Not Available', 'Checkout', 'Checkout', 'Checkout', 'Checkout', 'Checkout', 'Checkout', 'Checkout', 'Checkout', 'Checkout', 'Checkout', 'Checkout', 'Checkout', 'Checkout', 'Checkout', 'Subscribe', 'Subscribe', 'Subscribe', 'Subscribe', 'Subscribe', 'Subscribe', 'Subscribe', 'Subscribe', 'Subscribe', 'Subscribe', 'Search', 'Search', 'Search', 'Search', 'Search', 'Search', 'Search', 'Search', 'Search', 'Autocomplete', 'Autocomplete', 'Autocomplete', 'Autocomplete', 'Autocomplete', 'Autocomplete', 'Autocomplete', 'Autocomplete', 'Autocomplete', 'Autocomplete', 'Autocomplete', 'Customer', 'Customer', 'Customer', 'Customer', 'Customer', 'Customer', 'Customer', 'Customer', 'Customer', 'Customer', 'Customer', 'Customer', 'Audit', 'Audit', 'Audit', 'Audit', 'Audit', 'Audit', 'Audit', 'Audit', 'Audit', 'Audit', 'Audit', 'Audit', 'Audit', 'Audit', 'Audit', 'Audit', 'Audit', 'Marketing', 'Marketing', 'Marketing', 'Marketing', 'Marketing', 'Marketing', 'Marketing', 'Marketing', 'Marketing', 'Marketing', 'Marketing', 'Marketing', 'Marketing']\n\nDistinct Values of status_type: \n ['Not Available', 'Checkout', 'Subscribe', 'Search', 'Autocomplete', 'Customer', 'Audit', 'Marketing']\n"
     ]
    }
   ],
   "source": [
    "# convert status_type to list using flatMap\n",
    "print(\"status_type: \\n\", df.select(\"status_type\").rdd.flatMap(lambda x: x).collect())\n",
    "print(\"\\nDistinct Values of status_type: \\n\", list(dict.fromkeys(df.select(\"status_type\").rdd.flatMap(lambda x: x).collect())))"
   ]
  },
  {
   "cell_type": "code",
   "execution_count": 0,
   "metadata": {
    "application/vnd.databricks.v1+cell": {
     "cellMetadata": {
      "byteLimit": 2048000,
      "rowLimit": 10000
     },
     "inputWidgets": {},
     "nuid": "4e829a46-6b41-4e52-b3fb-aa6b96cbd476",
     "showTitle": false,
     "tableResultSettingsMap": {},
     "title": ""
    }
   },
   "outputs": [
    {
     "output_type": "stream",
     "name": "stdout",
     "output_type": "stream",
     "text": [
      "status_name: \n ['first_visit', 'organic', 'network', 'scroll', 'organic', 'organic', 'organic', 'first_visit', 'first_visit', 'first_visit', 'first_visit', 'user_engagement', 'scroll', 'scroll', 'scroll', 'scroll', 'network', 'network', 'network', 'last_visit', 'user_engagement', 'user_engagement', 'user_engagement', 'user_engagement', 'user_engagement', 'organic', 'organic', 'organic', 'network', 'network', 'search', 'referral', 'referral', 'network', 'network', 'network', 'network', 'network', 'organic', 'organic', 'organic', 'organic', 'organic', 'organic', 'search', 'search', 'search', 'search', 'search', 'organic', 'organic', 'organic', 'unit_test', 'unit_test', 'unit_test', 'unit_test', 'unit_test', 'unit_test', 'unit_test', 'smoke_test', 'smoke_test', 'smoke_test', 'smoke_test', 'smoke_test', 'smoke_test', 'smoke_test', 'smoke_test', 'smoke_test', 'smoke_test', 'scroll', 'scroll', 'scroll', 'scroll', 'scroll', 'organic', 'organic', 'organic', 'drag', 'drag', 'drag', 'scroll', 'scroll', 'scroll', 'scroll', 'scroll', 'scroll', 'referral', 'direct', 'direct', 'direct', 'direct', 'direct', 'direct', 'referral', 'referral', 'referral', 'referral', 'referral', 'organic', 'organic']\n\nDistinct Values of status_name: \n ['first_visit', 'organic', 'network', 'scroll', 'user_engagement', 'last_visit', 'search', 'referral', 'unit_test', 'smoke_test', 'drag', 'direct']\n"
     ]
    }
   ],
   "source": [
    "# convert status_name to list using flatMap\n",
    "print(\"status_name: \\n\", df.select(\"status_name\").rdd.flatMap(lambda x: x).collect())\n",
    "print(\"\\nDistinct Values of status_name: \\n\", list(dict.fromkeys(df.select(\"status_name\").rdd.flatMap(lambda x: x).collect())))"
   ]
  },
  {
   "cell_type": "markdown",
   "metadata": {
    "application/vnd.databricks.v1+cell": {
     "cellMetadata": {},
     "inputWidgets": {},
     "nuid": "3935a66b-c566-43d6-8397-af6813b38585",
     "showTitle": false,
     "tableResultSettingsMap": {},
     "title": ""
    }
   },
   "source": [
    "##### b) Convert multiple columns to list"
   ]
  },
  {
   "cell_type": "code",
   "execution_count": 0,
   "metadata": {
    "application/vnd.databricks.v1+cell": {
     "cellMetadata": {
      "byteLimit": 2048000,
      "rowLimit": 10000
     },
     "inputWidgets": {},
     "nuid": "10b7234e-1ac5-4d8c-a63b-d46e48f77723",
     "showTitle": false,
     "tableResultSettingsMap": {},
     "title": ""
    }
   },
   "outputs": [
    {
     "output_type": "stream",
     "name": "stdout",
     "output_type": "stream",
     "text": [
      "status_name: \n ['Not Available', 'first_visit', 'first_visit', 'Not Available', 'organic', 'purchase', 'Not Available', 'network', 'search', 'Not Available', 'scroll', 'search', 'Not Available', 'organic', 'search', 'Not Available', 'organic', 'add_to_cart', 'Not Available', 'organic', 'add_to_cart', 'Not Available', 'first_visit', 'add_to_cart', 'Not Available', 'first_visit', 'add_to_cart', 'Not Available', 'first_visit', 'add_to_cart', 'Not Available', 'first_visit', 'add_to_cart', 'Not Available', 'user_engagement', 'first_visit', 'Not Available', 'scroll', 'purchase', 'Not Available', 'scroll', 'purchase', 'Checkout', 'scroll', 'purchase', 'Checkout', 'scroll', 'purchase', 'Checkout', 'network', 'purchase', 'Checkout', 'network', 'purchase', 'Checkout', 'network', 'purchase', 'Checkout', 'last_visit', 'purchase', 'Checkout', 'user_engagement', 'purchase', 'Checkout', 'user_engagement', 'first_visit', 'Checkout', 'user_engagement', 'first_visit', 'Checkout', 'user_engagement', 'first_visit', 'Checkout', 'user_engagement', 'first_visit', 'Checkout', 'organic', 'first_visit', 'Checkout', 'organic', 'first_visit', 'Checkout', 'organic', 'first_visit', 'Subscribe', 'network', 'first_visit', 'Subscribe', 'network', 'first_visit', 'Subscribe', 'search', 'first_visit', 'Subscribe', 'referral', 'first_visit', 'Subscribe', 'referral', 'session_start', 'Subscribe', 'network', 'session_start', 'Subscribe', 'network', 'session_start', 'Subscribe', 'network', 'session_start', 'Subscribe', 'network', 'session_start', 'Subscribe', 'network', 'first_visit', 'Search', 'organic', 'first_visit', 'Search', 'organic', 'first_visit', 'Search', 'organic', 'first_visit', 'Search', 'organic', 'first_visit', 'Search', 'organic', 'first_visit', 'Search', 'organic', 'first_visit', 'Search', 'search', 'add_to_cart', 'Search', 'search', 'add_to_cart', 'Search', 'search', 'add_to_cart', 'Autocomplete', 'search', 'add_to_cart', 'Autocomplete', 'search', 'add_to_cart', 'Autocomplete', 'organic', 'add_to_cart', 'Autocomplete', 'organic', 'add_to_cart', 'Autocomplete', 'organic', 'add_to_cart', 'Autocomplete', 'unit_test', 'add_to_cart', 'Autocomplete', 'unit_test', 'add_to_cart', 'Autocomplete', 'unit_test', 'add_to_cart', 'Autocomplete', 'unit_test', 'purchase', 'Autocomplete', 'unit_test', 'click', 'Autocomplete', 'unit_test', 'search', 'Customer', 'unit_test', 'click', 'Customer', 'smoke_test', 'click', 'Customer', 'smoke_test', 'click', 'Customer', 'smoke_test', 'click', 'Customer', 'smoke_test', 'click', 'Customer', 'smoke_test', 'click', 'Customer', 'smoke_test', 'click', 'Customer', 'smoke_test', 'click', 'Customer', 'smoke_test', 'click', 'Customer', 'smoke_test', 'search', 'Customer', 'smoke_test', 'search', 'Customer', 'scroll', 'search', 'Audit', 'scroll', 'add_to_cart', 'Audit', 'scroll', 'add_to_cart', 'Audit', 'scroll', 'add_to_cart', 'Audit', 'scroll', 'add_to_cart', 'Audit', 'organic', 'add_to_cart', 'Audit', 'organic', 'add_to_cart', 'Audit', 'organic', 'search', 'Audit', 'drag', 'search', 'Audit', 'drag', 'search', 'Audit', 'drag', 'session_start', 'Audit', 'scroll', 'session_start', 'Audit', 'scroll', 'session_start', 'Audit', 'scroll', 'first_visit', 'Audit', 'scroll', 'click', 'Audit', 'scroll', 'click', 'Audit', 'scroll', 'click', 'Audit', 'referral', 'click', 'Marketing', 'direct', 'session_start', 'Marketing', 'direct', 'session_start', 'Marketing', 'direct', 'session_start', 'Marketing', 'direct', 'session_start', 'Marketing', 'direct', 'session_start', 'Marketing', 'direct', 'session_start', 'Marketing', 'referral', 'session_start', 'Marketing', 'referral', 'session_start', 'Marketing', 'referral', 'session_start', 'Marketing', 'referral', 'session_start', 'Marketing', 'referral', 'session_start', 'Marketing', 'organic', 'session_start', 'Marketing', 'organic', 'session_start']\n\nDistinct Values of status_name: \n ['Not Available', 'first_visit', 'organic', 'purchase', 'network', 'search', 'scroll', 'add_to_cart', 'user_engagement', 'Checkout', 'last_visit', 'Subscribe', 'referral', 'session_start', 'Search', 'Autocomplete', 'unit_test', 'click', 'Customer', 'smoke_test', 'Audit', 'drag', 'Marketing', 'direct']\n"
     ]
    }
   ],
   "source": [
    "# convert multiple columns to list using flatMap\n",
    "print(\"status_name: \\n\", df.select(['status_type',\n",
    "                                    'status_name',\n",
    "                                    'session_name']).rdd.flatMap(lambda x: x).collect())\n",
    "\n",
    "print(\"\\nDistinct Values of status_name: \\n\", list(dict.fromkeys(df.select(['status_type',\n",
    "                                                                            'status_name',\n",
    "                                                                            'session_name']).rdd.flatMap(lambda x: x).collect())))"
   ]
  },
  {
   "cell_type": "markdown",
   "metadata": {
    "application/vnd.databricks.v1+cell": {
     "cellMetadata": {},
     "inputWidgets": {},
     "nuid": "b435d9b7-7081-4694-9ef4-41f5d34a97a0",
     "showTitle": false,
     "tableResultSettingsMap": {},
     "title": ""
    }
   },
   "source": [
    "#### 6) Using map()"
   ]
  },
  {
   "cell_type": "markdown",
   "metadata": {
    "application/vnd.databricks.v1+cell": {
     "cellMetadata": {},
     "inputWidgets": {},
     "nuid": "b70584ff-aeff-4f8c-91c4-edb8b36b1281",
     "showTitle": false,
     "tableResultSettingsMap": {},
     "title": ""
    }
   },
   "source": [
    "**EX 01**"
   ]
  },
  {
   "cell_type": "code",
   "execution_count": 0,
   "metadata": {
    "application/vnd.databricks.v1+cell": {
     "cellMetadata": {
      "byteLimit": 2048000,
      "rowLimit": 10000
     },
     "inputWidgets": {},
     "nuid": "90c22cfa-2e9b-4061-8063-ab4ff6089047",
     "showTitle": false,
     "tableResultSettingsMap": {},
     "title": ""
    }
   },
   "outputs": [
    {
     "output_type": "display_data",
     "data": {
      "text/html": [
       "<style scoped>\n",
       "  .table-result-container {\n",
       "    max-height: 300px;\n",
       "    overflow: auto;\n",
       "  }\n",
       "  table, th, td {\n",
       "    border: 1px solid black;\n",
       "    border-collapse: collapse;\n",
       "  }\n",
       "  th, td {\n",
       "    padding: 5px;\n",
       "  }\n",
       "  th {\n",
       "    text-align: left;\n",
       "  }\n",
       "</style><div class='table-result-container'><table class='table-result'><thead style='background-color: white'><tr><th>firstname</th><th>lastname</th><th>country</th><th>state</th></tr></thead><tbody><tr><td>James</td><td>Smith</td><td>USA</td><td>CA</td></tr><tr><td>Michael</td><td>Rose</td><td>USA</td><td>NY</td></tr><tr><td>Robert</td><td>Williams</td><td>USA</td><td>CA</td></tr><tr><td>Maria</td><td>Jones</td><td>USA</td><td>FL</td></tr></tbody></table></div>"
      ]
     },
     "metadata": {
      "application/vnd.databricks.v1+output": {
       "addedWidgets": {},
       "aggData": [],
       "aggError": "",
       "aggOverflow": false,
       "aggSchema": [],
       "aggSeriesLimitReached": false,
       "aggType": "",
       "arguments": {},
       "columnCustomDisplayInfos": {},
       "data": [
        [
         "James",
         "Smith",
         "USA",
         "CA"
        ],
        [
         "Michael",
         "Rose",
         "USA",
         "NY"
        ],
        [
         "Robert",
         "Williams",
         "USA",
         "CA"
        ],
        [
         "Maria",
         "Jones",
         "USA",
         "FL"
        ]
       ],
       "datasetInfos": [],
       "dbfsResultPath": null,
       "isJsonSchema": true,
       "metadata": {},
       "overflow": false,
       "plotOptions": {
        "customPlotOptions": {},
        "displayType": "table",
        "pivotAggregation": null,
        "pivotColumns": null,
        "xColumns": null,
        "yColumns": null
       },
       "removedWidgets": [],
       "schema": [
        {
         "metadata": "{}",
         "name": "firstname",
         "type": "\"string\""
        },
        {
         "metadata": "{}",
         "name": "lastname",
         "type": "\"string\""
        },
        {
         "metadata": "{}",
         "name": "country",
         "type": "\"string\""
        },
        {
         "metadata": "{}",
         "name": "state",
         "type": "\"string\""
        }
       ],
       "type": "table"
      }
     },
     "output_type": "display_data"
    }
   ],
   "source": [
    "# Create DataFrame\n",
    "data = [(\"James\",\"Smith\",\"USA\",\"CA\"),\n",
    "        (\"Michael\",\"Rose\",\"USA\",\"NY\"),\n",
    "        (\"Robert\",\"Williams\",\"USA\",\"CA\"),\n",
    "        (\"Maria\",\"Jones\",\"USA\",\"FL\")\n",
    "       ]\n",
    "columns=[\"firstname\",\"lastname\",\"country\",\"state\"]\n",
    "\n",
    "df_map = spark.createDataFrame(data=data,schema=columns)\n",
    "display(df_map)"
   ]
  },
  {
   "cell_type": "code",
   "execution_count": 0,
   "metadata": {
    "application/vnd.databricks.v1+cell": {
     "cellMetadata": {
      "byteLimit": 2048000,
      "rowLimit": 10000
     },
     "inputWidgets": {},
     "nuid": "fc576e8e-f4b0-4ff0-9eee-9f3db74a9e93",
     "showTitle": false,
     "tableResultSettingsMap": {},
     "title": ""
    }
   },
   "outputs": [
    {
     "output_type": "stream",
     "name": "stdout",
     "output_type": "stream",
     "text": [
      "['CA', 'NY', 'CA', 'FL']\n"
     ]
    }
   ],
   "source": [
    "# PySpark Column to List\n",
    "states1 = df_map.rdd.map(lambda x: x[3]).collect()\n",
    "print(states1)"
   ]
  },
  {
   "cell_type": "code",
   "execution_count": 0,
   "metadata": {
    "application/vnd.databricks.v1+cell": {
     "cellMetadata": {
      "byteLimit": 2048000,
      "rowLimit": 10000
     },
     "inputWidgets": {},
     "nuid": "b3d4761b-42ee-4770-a7ff-efbcd100887a",
     "showTitle": false,
     "tableResultSettingsMap": {},
     "title": ""
    }
   },
   "outputs": [
    {
     "output_type": "stream",
     "name": "stdout",
     "output_type": "stream",
     "text": [
      "['CA', 'NY', 'CA', 'FL']\n"
     ]
    }
   ],
   "source": [
    "# Refer column by name you wanted to convert\n",
    "states2 = df_map.rdd.map(lambda x: x.state).collect()\n",
    "print(states2)"
   ]
  },
  {
   "cell_type": "markdown",
   "metadata": {
    "application/vnd.databricks.v1+cell": {
     "cellMetadata": {},
     "inputWidgets": {},
     "nuid": "c0d5c095-0142-41ff-a882-64d44aa2474f",
     "showTitle": false,
     "tableResultSettingsMap": {},
     "title": ""
    }
   },
   "source": [
    "**EX 02**"
   ]
  },
  {
   "cell_type": "code",
   "execution_count": 0,
   "metadata": {
    "application/vnd.databricks.v1+cell": {
     "cellMetadata": {
      "byteLimit": 2048000,
      "rowLimit": 10000
     },
     "inputWidgets": {},
     "nuid": "87edbb80-aa45-495b-b32b-5dbc86d07ac1",
     "showTitle": false,
     "tableResultSettingsMap": {},
     "title": ""
    }
   },
   "outputs": [
    {
     "output_type": "stream",
     "name": "stdout",
     "output_type": "stream",
     "text": [
      "[Row(status_type='Not Available'), Row(status_type='Not Available'), Row(status_type='Not Available'), Row(status_type='Not Available'), Row(status_type='Not Available'), Row(status_type='Not Available'), Row(status_type='Not Available'), Row(status_type='Not Available'), Row(status_type='Not Available'), Row(status_type='Not Available'), Row(status_type='Not Available'), Row(status_type='Not Available'), Row(status_type='Not Available'), Row(status_type='Not Available'), Row(status_type='Checkout'), Row(status_type='Checkout'), Row(status_type='Checkout'), Row(status_type='Checkout'), Row(status_type='Checkout'), Row(status_type='Checkout'), Row(status_type='Checkout'), Row(status_type='Checkout'), Row(status_type='Checkout'), Row(status_type='Checkout'), Row(status_type='Checkout'), Row(status_type='Checkout'), Row(status_type='Checkout'), Row(status_type='Checkout'), Row(status_type='Subscribe'), Row(status_type='Subscribe'), Row(status_type='Subscribe'), Row(status_type='Subscribe'), Row(status_type='Subscribe'), Row(status_type='Subscribe'), Row(status_type='Subscribe'), Row(status_type='Subscribe'), Row(status_type='Subscribe'), Row(status_type='Subscribe'), Row(status_type='Search'), Row(status_type='Search'), Row(status_type='Search'), Row(status_type='Search'), Row(status_type='Search'), Row(status_type='Search'), Row(status_type='Search'), Row(status_type='Search'), Row(status_type='Search'), Row(status_type='Autocomplete'), Row(status_type='Autocomplete'), Row(status_type='Autocomplete'), Row(status_type='Autocomplete'), Row(status_type='Autocomplete'), Row(status_type='Autocomplete'), Row(status_type='Autocomplete'), Row(status_type='Autocomplete'), Row(status_type='Autocomplete'), Row(status_type='Autocomplete'), Row(status_type='Autocomplete'), Row(status_type='Customer'), Row(status_type='Customer'), Row(status_type='Customer'), Row(status_type='Customer'), Row(status_type='Customer'), Row(status_type='Customer'), Row(status_type='Customer'), Row(status_type='Customer'), Row(status_type='Customer'), Row(status_type='Customer'), Row(status_type='Customer'), Row(status_type='Customer'), Row(status_type='Audit'), Row(status_type='Audit'), Row(status_type='Audit'), Row(status_type='Audit'), Row(status_type='Audit'), Row(status_type='Audit'), Row(status_type='Audit'), Row(status_type='Audit'), Row(status_type='Audit'), Row(status_type='Audit'), Row(status_type='Audit'), Row(status_type='Audit'), Row(status_type='Audit'), Row(status_type='Audit'), Row(status_type='Audit'), Row(status_type='Audit'), Row(status_type='Audit'), Row(status_type='Marketing'), Row(status_type='Marketing'), Row(status_type='Marketing'), Row(status_type='Marketing'), Row(status_type='Marketing'), Row(status_type='Marketing'), Row(status_type='Marketing'), Row(status_type='Marketing'), Row(status_type='Marketing'), Row(status_type='Marketing'), Row(status_type='Marketing'), Row(status_type='Marketing'), Row(status_type='Marketing')]\n"
     ]
    }
   ],
   "source": [
    "print(df.select('status_type').rdd.map(lambda x : x).collect())"
   ]
  },
  {
   "cell_type": "code",
   "execution_count": 0,
   "metadata": {
    "application/vnd.databricks.v1+cell": {
     "cellMetadata": {
      "byteLimit": 2048000,
      "rowLimit": 10000
     },
     "inputWidgets": {},
     "nuid": "f38a87ef-509e-47b0-90c8-0b697a2450a5",
     "showTitle": false,
     "tableResultSettingsMap": {},
     "title": ""
    }
   },
   "outputs": [
    {
     "output_type": "stream",
     "name": "stdout",
     "output_type": "stream",
     "text": [
      "Out[33]: ['Not Available',\n 'Not Available',\n 'Not Available',\n 'Not Available',\n 'Not Available',\n 'Not Available',\n 'Not Available',\n 'Not Available',\n 'Not Available',\n 'Not Available',\n 'Not Available',\n 'Not Available',\n 'Not Available',\n 'Not Available',\n 'Checkout',\n 'Checkout',\n 'Checkout',\n 'Checkout',\n 'Checkout',\n 'Checkout',\n 'Checkout',\n 'Checkout',\n 'Checkout',\n 'Checkout',\n 'Checkout',\n 'Checkout',\n 'Checkout',\n 'Checkout',\n 'Subscribe',\n 'Subscribe',\n 'Subscribe',\n 'Subscribe',\n 'Subscribe',\n 'Subscribe',\n 'Subscribe',\n 'Subscribe',\n 'Subscribe',\n 'Subscribe',\n 'Search',\n 'Search',\n 'Search',\n 'Search',\n 'Search',\n 'Search',\n 'Search',\n 'Search',\n 'Search',\n 'Autocomplete',\n 'Autocomplete',\n 'Autocomplete',\n 'Autocomplete',\n 'Autocomplete',\n 'Autocomplete',\n 'Autocomplete',\n 'Autocomplete',\n 'Autocomplete',\n 'Autocomplete',\n 'Autocomplete',\n 'Customer',\n 'Customer',\n 'Customer',\n 'Customer',\n 'Customer',\n 'Customer',\n 'Customer',\n 'Customer',\n 'Customer',\n 'Customer',\n 'Customer',\n 'Customer',\n 'Audit',\n 'Audit',\n 'Audit',\n 'Audit',\n 'Audit',\n 'Audit',\n 'Audit',\n 'Audit',\n 'Audit',\n 'Audit',\n 'Audit',\n 'Audit',\n 'Audit',\n 'Audit',\n 'Audit',\n 'Audit',\n 'Audit',\n 'Marketing',\n 'Marketing',\n 'Marketing',\n 'Marketing',\n 'Marketing',\n 'Marketing',\n 'Marketing',\n 'Marketing',\n 'Marketing',\n 'Marketing',\n 'Marketing',\n 'Marketing',\n 'Marketing']"
     ]
    }
   ],
   "source": [
    "df.rdd.map(lambda x : x.status_type).collect()"
   ]
  },
  {
   "cell_type": "code",
   "execution_count": 0,
   "metadata": {
    "application/vnd.databricks.v1+cell": {
     "cellMetadata": {
      "byteLimit": 2048000,
      "rowLimit": 10000
     },
     "inputWidgets": {},
     "nuid": "0dcbfa39-520e-4c20-a899-3c7e056480d8",
     "showTitle": false,
     "tableResultSettingsMap": {},
     "title": ""
    }
   },
   "outputs": [
    {
     "output_type": "stream",
     "name": "stdout",
     "output_type": "stream",
     "text": [
      "Out[11]: ['Not Available',\n 'Checkout',\n 'Subscribe',\n 'Search',\n 'Autocomplete',\n 'Customer',\n 'Audit',\n 'Marketing']"
     ]
    }
   ],
   "source": [
    "list(dict.fromkeys(df.rdd.map(lambda x : x.status_type).collect()))"
   ]
  },
  {
   "cell_type": "code",
   "execution_count": 0,
   "metadata": {
    "application/vnd.databricks.v1+cell": {
     "cellMetadata": {
      "byteLimit": 2048000,
      "rowLimit": 10000
     },
     "inputWidgets": {},
     "nuid": "3f0627d3-2980-48c8-8710-dda6dff33896",
     "showTitle": false,
     "tableResultSettingsMap": {},
     "title": ""
    }
   },
   "outputs": [
    {
     "output_type": "stream",
     "name": "stdout",
     "output_type": "stream",
     "text": [
      "status_type: \n ['Not Available', 'Not Available', 'Not Available', 'Not Available', 'Not Available', 'Not Available', 'Not Available', 'Not Available', 'Not Available', 'Not Available', 'Not Available', 'Not Available', 'Not Available', 'Not Available', 'Checkout', 'Checkout', 'Checkout', 'Checkout', 'Checkout', 'Checkout', 'Checkout', 'Checkout', 'Checkout', 'Checkout', 'Checkout', 'Checkout', 'Checkout', 'Checkout', 'Subscribe', 'Subscribe', 'Subscribe', 'Subscribe', 'Subscribe', 'Subscribe', 'Subscribe', 'Subscribe', 'Subscribe', 'Subscribe', 'Search', 'Search', 'Search', 'Search', 'Search', 'Search', 'Search', 'Search', 'Search', 'Autocomplete', 'Autocomplete', 'Autocomplete', 'Autocomplete', 'Autocomplete', 'Autocomplete', 'Autocomplete', 'Autocomplete', 'Autocomplete', 'Autocomplete', 'Autocomplete', 'Customer', 'Customer', 'Customer', 'Customer', 'Customer', 'Customer', 'Customer', 'Customer', 'Customer', 'Customer', 'Customer', 'Customer', 'Audit', 'Audit', 'Audit', 'Audit', 'Audit', 'Audit', 'Audit', 'Audit', 'Audit', 'Audit', 'Audit', 'Audit', 'Audit', 'Audit', 'Audit', 'Audit', 'Audit', 'Marketing', 'Marketing', 'Marketing', 'Marketing', 'Marketing', 'Marketing', 'Marketing', 'Marketing', 'Marketing', 'Marketing', 'Marketing', 'Marketing', 'Marketing']\n\nDistinct Values of status_type: \n ['Not Available', 'Checkout', 'Subscribe', 'Search', 'Autocomplete', 'Customer', 'Audit', 'Marketing']\n"
     ]
    }
   ],
   "source": [
    "# convert  status_type  to list using map\n",
    "print(\"status_type: \\n\", df.select('status_type').rdd.map(lambda x : x[0]).collect())\n",
    "print(\"\\nDistinct Values of status_type: \\n\", list(dict.fromkeys(df.select('status_type').rdd.map(lambda x : x[0]).collect())))"
   ]
  },
  {
   "cell_type": "code",
   "execution_count": 0,
   "metadata": {
    "application/vnd.databricks.v1+cell": {
     "cellMetadata": {
      "byteLimit": 2048000,
      "rowLimit": 10000
     },
     "inputWidgets": {},
     "nuid": "1daae81e-626f-4cca-9281-6ab589012873",
     "showTitle": false,
     "tableResultSettingsMap": {},
     "title": ""
    }
   },
   "outputs": [
    {
     "output_type": "stream",
     "name": "stdout",
     "output_type": "stream",
     "text": [
      "status_name: \n ['first_visit', 'organic', 'network', 'scroll', 'organic', 'organic', 'organic', 'first_visit', 'first_visit', 'first_visit', 'first_visit', 'user_engagement', 'scroll', 'scroll', 'scroll', 'scroll', 'network', 'network', 'network', 'last_visit', 'user_engagement', 'user_engagement', 'user_engagement', 'user_engagement', 'user_engagement', 'organic', 'organic', 'organic', 'network', 'network', 'search', 'referral', 'referral', 'network', 'network', 'network', 'network', 'network', 'organic', 'organic', 'organic', 'organic', 'organic', 'organic', 'search', 'search', 'search', 'search', 'search', 'organic', 'organic', 'organic', 'unit_test', 'unit_test', 'unit_test', 'unit_test', 'unit_test', 'unit_test', 'unit_test', 'smoke_test', 'smoke_test', 'smoke_test', 'smoke_test', 'smoke_test', 'smoke_test', 'smoke_test', 'smoke_test', 'smoke_test', 'smoke_test', 'scroll', 'scroll', 'scroll', 'scroll', 'scroll', 'organic', 'organic', 'organic', 'drag', 'drag', 'drag', 'scroll', 'scroll', 'scroll', 'scroll', 'scroll', 'scroll', 'referral', 'direct', 'direct', 'direct', 'direct', 'direct', 'direct', 'referral', 'referral', 'referral', 'referral', 'referral', 'organic', 'organic']\n\nDistinct Values of status_name: \n ['first_visit', 'organic', 'network', 'scroll', 'user_engagement', 'last_visit', 'search', 'referral', 'unit_test', 'smoke_test', 'drag', 'direct']\n"
     ]
    }
   ],
   "source": [
    "# convert status_name  to list using map\n",
    "print(\"status_name: \\n\", df.select('status_name').rdd.map(lambda x : x[0]).collect())\n",
    "print(\"\\nDistinct Values of status_name: \\n\", list(dict.fromkeys(df.select('status_name').rdd.map(lambda x : x[0]).collect())))"
   ]
  },
  {
   "cell_type": "code",
   "execution_count": 0,
   "metadata": {
    "application/vnd.databricks.v1+cell": {
     "cellMetadata": {
      "byteLimit": 2048000,
      "rowLimit": 10000
     },
     "inputWidgets": {},
     "nuid": "d0c25a58-d591-4b25-911e-bb96278a1798",
     "showTitle": false,
     "tableResultSettingsMap": {},
     "title": ""
    }
   },
   "outputs": [
    {
     "output_type": "stream",
     "name": "stdout",
     "output_type": "stream",
     "text": [
      "session_name: \n ['first_visit', 'purchase', 'search', 'search', 'search', 'add_to_cart', 'add_to_cart', 'add_to_cart', 'add_to_cart', 'add_to_cart', 'add_to_cart', 'first_visit', 'purchase', 'purchase', 'purchase', 'purchase', 'purchase', 'purchase', 'purchase', 'purchase', 'purchase', 'first_visit', 'first_visit', 'first_visit', 'first_visit', 'first_visit', 'first_visit', 'first_visit', 'first_visit', 'first_visit', 'first_visit', 'first_visit', 'session_start', 'session_start', 'session_start', 'session_start', 'session_start', 'first_visit', 'first_visit', 'first_visit', 'first_visit', 'first_visit', 'first_visit', 'first_visit', 'add_to_cart', 'add_to_cart', 'add_to_cart', 'add_to_cart', 'add_to_cart', 'add_to_cart', 'add_to_cart', 'add_to_cart', 'add_to_cart', 'add_to_cart', 'add_to_cart', 'purchase', 'click', 'search', 'click', 'click', 'click', 'click', 'click', 'click', 'click', 'click', 'click', 'search', 'search', 'search', 'add_to_cart', 'add_to_cart', 'add_to_cart', 'add_to_cart', 'add_to_cart', 'add_to_cart', 'search', 'search', 'search', 'session_start', 'session_start', 'session_start', 'first_visit', 'click', 'click', 'click', 'click', 'session_start', 'session_start', 'session_start', 'session_start', 'session_start', 'session_start', 'session_start', 'session_start', 'session_start', 'session_start', 'session_start', 'session_start', 'session_start']\n\nDistinct Values of session_name: \n ['first_visit', 'purchase', 'search', 'add_to_cart', 'session_start', 'click']\n"
     ]
    }
   ],
   "source": [
    "# convert session_name  to list using map\n",
    "print(\"session_name: \\n\", df.select('session_name').rdd.map(lambda x : x[0]).collect())\n",
    "print(\"\\nDistinct Values of session_name: \\n\", list(dict.fromkeys(df.select('session_name').rdd.map(lambda x : x[0]).collect())))"
   ]
  },
  {
   "cell_type": "markdown",
   "metadata": {
    "application/vnd.databricks.v1+cell": {
     "cellMetadata": {},
     "inputWidgets": {},
     "nuid": "5b2e893f-fb07-4712-b2b6-ae7c5ae79fb0",
     "showTitle": false,
     "tableResultSettingsMap": {},
     "title": ""
    }
   },
   "source": [
    "**.rdd**\n",
    "- Converts the **DataFrame to an RDD** —> a low-level Spark data structure.\n",
    "- Now, each **row** becomes a **Row object** (like a **small tuple**).\n",
    "\n",
    "      [Row(status_type='Not Available'),\n",
    "       Row(status_type='Not Available'),\n",
    "       Row(status_type='Not Available')]"
   ]
  },
  {
   "cell_type": "markdown",
   "metadata": {
    "application/vnd.databricks.v1+cell": {
     "cellMetadata": {},
     "inputWidgets": {},
     "nuid": "b56c3550-a840-4e32-9aa3-6e36c354440c",
     "showTitle": false,
     "tableResultSettingsMap": {},
     "title": ""
    }
   },
   "source": [
    "**.map(lambda x: x[0])**\n",
    "\n",
    "- Each **x** is a **Row object** that behaves like a **tuple**.\n",
    "\n",
    "      x = Row(status_type='Not Available')\n",
    "\n",
    "- **x[0]** means **take the first element of the row**.\n",
    "- So **x[0]** extracts just the value **Not Available**."
   ]
  }
 ],
 "metadata": {
  "application/vnd.databricks.v1+notebook": {
   "computePreferences": null,
   "dashboards": [],
   "environmentMetadata": {
    "base_environment": "",
    "environment_version": "1"
   },
   "inputWidgetPreferences": null,
   "language": "python",
   "notebookMetadata": {
    "pythonIndentUnit": 4
   },
   "notebookName": "211.1_How to convert the values of a column into a Python list",
   "widgets": {}
  },
  "language_info": {
   "name": "python"
  }
 },
 "nbformat": 4,
 "nbformat_minor": 0
}