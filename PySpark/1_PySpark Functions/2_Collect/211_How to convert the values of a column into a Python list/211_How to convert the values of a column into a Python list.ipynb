{
 "cells": [
  {
   "cell_type": "markdown",
   "metadata": {
    "application/vnd.databricks.v1+cell": {
     "cellMetadata": {},
     "inputWidgets": {},
     "nuid": "de7b8219-7c7b-47af-964b-2fec1a0185a7",
     "showTitle": false,
     "tableResultSettingsMap": {},
     "title": ""
    }
   },
   "source": [
    "#### How to convert the values of a column into a Python list?"
   ]
  },
  {
   "cell_type": "markdown",
   "metadata": {
    "application/vnd.databricks.v1+cell": {
     "cellMetadata": {},
     "inputWidgets": {},
     "nuid": "5561c981-f645-4d18-9e72-2a6f88802062",
     "showTitle": false,
     "tableResultSettingsMap": {},
     "title": ""
    }
   },
   "source": [
    "##### 1) Using .collect()\n",
    "- This is the simplest method, but it **pulls all data to the driver**, so it’s only good for **small datasets**."
   ]
  },
  {
   "cell_type": "code",
   "execution_count": 0,
   "metadata": {
    "application/vnd.databricks.v1+cell": {
     "cellMetadata": {
      "byteLimit": 2048000,
      "rowLimit": 10000
     },
     "inputWidgets": {},
     "nuid": "aa9139b9-192d-46f1-9f93-93409eb3e0c6",
     "showTitle": false,
     "tableResultSettingsMap": {},
     "title": ""
    }
   },
   "outputs": [
    {
     "output_type": "display_data",
     "data": {
      "text/html": [
       "<style scoped>\n",
       "  .table-result-container {\n",
       "    max-height: 300px;\n",
       "    overflow: auto;\n",
       "  }\n",
       "  table, th, td {\n",
       "    border: 1px solid black;\n",
       "    border-collapse: collapse;\n",
       "  }\n",
       "  th, td {\n",
       "    padding: 5px;\n",
       "  }\n",
       "  th {\n",
       "    text-align: left;\n",
       "  }\n",
       "</style><div class='table-result-container'><table class='table-result'><thead style='background-color: white'><tr><th>start_date</th><th>product_url</th><th>category</th><th>default_group</th><th>source_target</th><th>cloud_flatform</th><th>session_id</th><th>session_name</th><th>status_name</th><th>status_type</th><th>sessions</th><th>product_id</th><th>load datetime</th></tr></thead><tbody><tr><td>2025-08-25</td><td>shop.sony.bpl</td><td>mobile</td><td>wifi-network</td><td>google</td><td>azure / aws / gcc</td><td>9876543</td><td>first_visit</td><td>first_visit</td><td>Not Available</td><td>5</td><td>409516064</td><td>2025-09-02T19:10:35</td></tr><tr><td>2025-08-26</td><td>shop.sony.bpl</td><td>mobile</td><td>wifi-network</td><td>google</td><td>azure / aws / gcc</td><td>9876544</td><td>purchase</td><td>organic</td><td>Not Available</td><td>12</td><td>409516064</td><td>2025-09-02T19:10:36</td></tr><tr><td>2025-08-27</td><td>shop.sony.bpl</td><td>mobile</td><td>wifi-network</td><td>google</td><td>azure / aws / gcc</td><td>9876545</td><td>search</td><td>network</td><td>Not Available</td><td>16</td><td>409516064</td><td>2025-09-02T19:10:37</td></tr><tr><td>2025-08-28</td><td>shop.sony.bpl</td><td>mobile</td><td>wifi-network</td><td>google</td><td>azure / aws / gcc</td><td>9876546</td><td>search</td><td>scroll</td><td>Not Available</td><td>22</td><td>409516064</td><td>2025-09-02T19:10:38</td></tr><tr><td>2025-08-29</td><td>shop.sony.bpl</td><td>mobile</td><td>wifi-network</td><td>google</td><td>azure / aws / gcc</td><td>9876547</td><td>search</td><td>organic</td><td>Not Available</td><td>25</td><td>409516064</td><td>2025-09-02T19:10:39</td></tr><tr><td>2025-08-30</td><td>shop.sony.bpl</td><td>mobile</td><td>wifi-network</td><td>(not set)</td><td>azure / aws / gcc</td><td>9876548</td><td>add_to_cart</td><td>organic</td><td>Not Available</td><td>4</td><td>409516064</td><td>2025-09-02T19:10:40</td></tr><tr><td>2025-08-31</td><td>shop.sony.bpl</td><td>mobile</td><td>wifi-network</td><td>(not set)</td><td>azure / aws / gcc</td><td>9876549</td><td>add_to_cart</td><td>organic</td><td>Not Available</td><td>9</td><td>409516064</td><td>2025-09-02T19:10:41</td></tr><tr><td>2025-09-01</td><td>shop.sony.bpl</td><td>mobile</td><td>wifi-network</td><td>(none) / (direct)</td><td>azure / aws / gcc</td><td>9876550</td><td>add_to_cart</td><td>first_visit</td><td>Not Available</td><td>8</td><td>409516064</td><td>2025-09-02T19:10:42</td></tr><tr><td>2025-09-02</td><td>shop.sony.bpl</td><td>mobile</td><td>wifi-network</td><td>flipkart / referral</td><td>azure / aws / gcc</td><td>9876551</td><td>add_to_cart</td><td>first_visit</td><td>Not Available</td><td>7</td><td>409516064</td><td>2025-09-02T19:10:43</td></tr><tr><td>2025-09-03</td><td>shop.sony.bpl</td><td>mobile</td><td>wifi-network</td><td>(data not available)</td><td>azure / aws / gcc</td><td>9876552</td><td>add_to_cart</td><td>first_visit</td><td>Not Available</td><td>6</td><td>409516064</td><td>2025-09-02T19:10:44</td></tr><tr><td>2025-09-04</td><td>shop.sony.bpl</td><td>mobile</td><td>wifi-network</td><td>(none) / (direct)</td><td>azure / aws / gcc</td><td>9876553</td><td>add_to_cart</td><td>first_visit</td><td>Not Available</td><td>5</td><td>409516064</td><td>2025-09-02T19:10:45</td></tr><tr><td>2025-09-05</td><td>shop.sony.bpl</td><td>mobile</td><td>wifi-network</td><td>(data not available)</td><td>azure / aws / gcc</td><td>9876554</td><td>first_visit</td><td>user_engagement</td><td>Not Available</td><td>4</td><td>409516064</td><td>2025-09-02T19:10:46</td></tr><tr><td>2025-09-06</td><td>shop.sony.bpl</td><td>mobile</td><td>wifi-network</td><td>(data not available)</td><td>azure / aws / gcc</td><td>9876555</td><td>purchase</td><td>scroll</td><td>Not Available</td><td>3</td><td>409516064</td><td>2025-09-02T19:10:47</td></tr><tr><td>2025-09-07</td><td>shop.sony.bpl</td><td>mobile</td><td>wifi-network</td><td>(none) / (direct)</td><td>azure / aws / gcc</td><td>9876556</td><td>purchase</td><td>scroll</td><td>Not Available</td><td>19</td><td>409516064</td><td>2025-09-02T19:10:48</td></tr><tr><td>2025-09-08</td><td>shop.sony.bpl</td><td>mobile</td><td>wifi-network</td><td>TTD / video</td><td>azure / aws / gcc</td><td>9876557</td><td>purchase</td><td>scroll</td><td>Checkout</td><td>100</td><td>409516064</td><td>2025-09-02T19:10:49</td></tr></tbody></table></div>"
      ]
     },
     "metadata": {
      "application/vnd.databricks.v1+output": {
       "addedWidgets": {},
       "aggData": [],
       "aggError": "",
       "aggOverflow": false,
       "aggSchema": [],
       "aggSeriesLimitReached": false,
       "aggType": "",
       "arguments": {},
       "columnCustomDisplayInfos": {},
       "data": [
        [
         "2025-08-25",
         "shop.sony.bpl",
         "mobile",
         "wifi-network",
         "google",
         "azure / aws / gcc",
         9876543,
         "first_visit",
         "first_visit",
         "Not Available",
         5,
         409516064,
         "2025-09-02T19:10:35"
        ],
        [
         "2025-08-26",
         "shop.sony.bpl",
         "mobile",
         "wifi-network",
         "google",
         "azure / aws / gcc",
         9876544,
         "purchase",
         "organic",
         "Not Available",
         12,
         409516064,
         "2025-09-02T19:10:36"
        ],
        [
         "2025-08-27",
         "shop.sony.bpl",
         "mobile",
         "wifi-network",
         "google",
         "azure / aws / gcc",
         9876545,
         "search",
         "network",
         "Not Available",
         16,
         409516064,
         "2025-09-02T19:10:37"
        ],
        [
         "2025-08-28",
         "shop.sony.bpl",
         "mobile",
         "wifi-network",
         "google",
         "azure / aws / gcc",
         9876546,
         "search",
         "scroll",
         "Not Available",
         22,
         409516064,
         "2025-09-02T19:10:38"
        ],
        [
         "2025-08-29",
         "shop.sony.bpl",
         "mobile",
         "wifi-network",
         "google",
         "azure / aws / gcc",
         9876547,
         "search",
         "organic",
         "Not Available",
         25,
         409516064,
         "2025-09-02T19:10:39"
        ],
        [
         "2025-08-30",
         "shop.sony.bpl",
         "mobile",
         "wifi-network",
         "(not set)",
         "azure / aws / gcc",
         9876548,
         "add_to_cart",
         "organic",
         "Not Available",
         4,
         409516064,
         "2025-09-02T19:10:40"
        ],
        [
         "2025-08-31",
         "shop.sony.bpl",
         "mobile",
         "wifi-network",
         "(not set)",
         "azure / aws / gcc",
         9876549,
         "add_to_cart",
         "organic",
         "Not Available",
         9,
         409516064,
         "2025-09-02T19:10:41"
        ],
        [
         "2025-09-01",
         "shop.sony.bpl",
         "mobile",
         "wifi-network",
         "(none) / (direct)",
         "azure / aws / gcc",
         9876550,
         "add_to_cart",
         "first_visit",
         "Not Available",
         8,
         409516064,
         "2025-09-02T19:10:42"
        ],
        [
         "2025-09-02",
         "shop.sony.bpl",
         "mobile",
         "wifi-network",
         "flipkart / referral",
         "azure / aws / gcc",
         9876551,
         "add_to_cart",
         "first_visit",
         "Not Available",
         7,
         409516064,
         "2025-09-02T19:10:43"
        ],
        [
         "2025-09-03",
         "shop.sony.bpl",
         "mobile",
         "wifi-network",
         "(data not available)",
         "azure / aws / gcc",
         9876552,
         "add_to_cart",
         "first_visit",
         "Not Available",
         6,
         409516064,
         "2025-09-02T19:10:44"
        ],
        [
         "2025-09-04",
         "shop.sony.bpl",
         "mobile",
         "wifi-network",
         "(none) / (direct)",
         "azure / aws / gcc",
         9876553,
         "add_to_cart",
         "first_visit",
         "Not Available",
         5,
         409516064,
         "2025-09-02T19:10:45"
        ],
        [
         "2025-09-05",
         "shop.sony.bpl",
         "mobile",
         "wifi-network",
         "(data not available)",
         "azure / aws / gcc",
         9876554,
         "first_visit",
         "user_engagement",
         "Not Available",
         4,
         409516064,
         "2025-09-02T19:10:46"
        ],
        [
         "2025-09-06",
         "shop.sony.bpl",
         "mobile",
         "wifi-network",
         "(data not available)",
         "azure / aws / gcc",
         9876555,
         "purchase",
         "scroll",
         "Not Available",
         3,
         409516064,
         "2025-09-02T19:10:47"
        ],
        [
         "2025-09-07",
         "shop.sony.bpl",
         "mobile",
         "wifi-network",
         "(none) / (direct)",
         "azure / aws / gcc",
         9876556,
         "purchase",
         "scroll",
         "Not Available",
         19,
         409516064,
         "2025-09-02T19:10:48"
        ],
        [
         "2025-09-08",
         "shop.sony.bpl",
         "mobile",
         "wifi-network",
         "TTD / video",
         "azure / aws / gcc",
         9876557,
         "purchase",
         "scroll",
         "Checkout",
         100,
         409516064,
         "2025-09-02T19:10:49"
        ]
       ],
       "datasetInfos": [],
       "dbfsResultPath": null,
       "isJsonSchema": true,
       "metadata": {},
       "overflow": false,
       "plotOptions": {
        "customPlotOptions": {},
        "displayType": "table",
        "pivotAggregation": null,
        "pivotColumns": null,
        "xColumns": null,
        "yColumns": null
       },
       "removedWidgets": [],
       "schema": [
        {
         "metadata": "{\"__detected_date_formats\": \"d-M-yyyy\"}",
         "name": "start_date",
         "type": "\"date\""
        },
        {
         "metadata": "{}",
         "name": "product_url",
         "type": "\"string\""
        },
        {
         "metadata": "{}",
         "name": "category",
         "type": "\"string\""
        },
        {
         "metadata": "{}",
         "name": "default_group",
         "type": "\"string\""
        },
        {
         "metadata": "{}",
         "name": "source_target",
         "type": "\"string\""
        },
        {
         "metadata": "{}",
         "name": "cloud_flatform",
         "type": "\"string\""
        },
        {
         "metadata": "{}",
         "name": "session_id",
         "type": "\"integer\""
        },
        {
         "metadata": "{}",
         "name": "session_name",
         "type": "\"string\""
        },
        {
         "metadata": "{}",
         "name": "status_name",
         "type": "\"string\""
        },
        {
         "metadata": "{}",
         "name": "status_type",
         "type": "\"string\""
        },
        {
         "metadata": "{}",
         "name": "sessions",
         "type": "\"integer\""
        },
        {
         "metadata": "{}",
         "name": "product_id",
         "type": "\"integer\""
        },
        {
         "metadata": "{}",
         "name": "load datetime",
         "type": "\"string\""
        }
       ],
       "type": "table"
      }
     },
     "output_type": "display_data"
    }
   ],
   "source": [
    "df = spark.read.csv(\"/Volumes/@azureadb/pyspark/unionby/company_level.csv\", header=True, inferSchema=True)\n",
    "display(df.limit(15))"
   ]
  },
  {
   "cell_type": "code",
   "execution_count": 0,
   "metadata": {
    "application/vnd.databricks.v1+cell": {
     "cellMetadata": {
      "byteLimit": 2048000,
      "rowLimit": 10000
     },
     "inputWidgets": {},
     "nuid": "700b1402-a478-494a-9fa2-3e1d85984cf0",
     "showTitle": false,
     "tableResultSettingsMap": {},
     "title": ""
    }
   },
   "outputs": [
    {
     "output_type": "stream",
     "name": "stdout",
     "output_type": "stream",
     "text": [
      "['Not Available', 'Not Available', 'Not Available', 'Not Available', 'Not Available', 'Not Available', 'Not Available', 'Not Available', 'Not Available', 'Not Available', 'Not Available', 'Not Available', 'Not Available', 'Not Available', 'Checkout', 'Checkout', 'Checkout', 'Checkout', 'Checkout', 'Checkout', 'Checkout', 'Checkout', 'Checkout', 'Checkout', 'Checkout', 'Checkout', 'Checkout', 'Checkout', 'Subscribe', 'Subscribe', 'Subscribe', 'Subscribe', 'Subscribe', 'Subscribe', 'Subscribe', 'Subscribe', 'Subscribe', 'Subscribe', 'Search', 'Search', 'Search', 'Search', 'Search', 'Search', 'Search', 'Search', 'Search', 'Autocomplete', 'Autocomplete', 'Autocomplete', 'Autocomplete', 'Autocomplete', 'Autocomplete', 'Autocomplete', 'Autocomplete', 'Autocomplete', 'Autocomplete', 'Autocomplete', 'Customer', 'Customer', 'Customer', 'Customer', 'Customer', 'Customer', 'Customer', 'Customer', 'Customer', 'Customer', 'Customer', 'Customer', 'Audit', 'Audit', 'Audit', 'Audit', 'Audit', 'Audit', 'Audit', 'Audit', 'Audit', 'Audit', 'Audit', 'Audit', 'Audit', 'Audit', 'Audit', 'Audit', 'Audit', 'Marketing', 'Marketing', 'Marketing', 'Marketing', 'Marketing', 'Marketing', 'Marketing', 'Marketing', 'Marketing', 'Marketing', 'Marketing', 'Marketing', 'Marketing']\n"
     ]
    }
   ],
   "source": [
    "# Convert a column into a Python list\n",
    "values_list = [row[\"status_type\"] for row in df.select(\"status_type\").collect()]\n",
    "print(values_list)"
   ]
  },
  {
   "cell_type": "markdown",
   "metadata": {
    "application/vnd.databricks.v1+cell": {
     "cellMetadata": {},
     "inputWidgets": {},
     "nuid": "a65ee5e9-b9b0-4115-86c4-e94da1cbd2b2",
     "showTitle": false,
     "tableResultSettingsMap": {},
     "title": ""
    }
   },
   "source": [
    "- **df.select(\"column_name\")** → selects only the **status_type** column from the DataFrame.\n",
    "\n",
    "- **.collect()** → brings **all rows** of the **selected column** to the **driver** as a **list of Row objects**.\n",
    "\n",
    "- The list comprehension **[row[\"status_type\"] for row in ...]** extracts the value of **status_type** from **each Row** and creates a **Python list**.\n",
    "\n",
    "**When to use which method:**\n",
    "- **.collect()** should only be used for **small datasets**, as it loads **all data** into the **driver’s memory**.\n",
    "- For **small datasets** where you need the **entire column** as a **Python list on the driver**, collect() with **list comprehension or toPandas()** are convenient.\n",
    "- For **large datasets**, avoid **.collect() or .toPandas()**.\n",
    "- For **larger datasets**, especially when you need to perform further operations within Spark, using **collect_list() or collect_set()** for **aggregation** is more efficient as the operation remains distributed.\n",
    "- Instead, try to work in **Spark** directly without converting to a Python list, or use **take(n)** if you only need a sample."
   ]
  },
  {
   "cell_type": "markdown",
   "metadata": {
    "application/vnd.databricks.v1+cell": {
     "cellMetadata": {},
     "inputWidgets": {},
     "nuid": "7b32dbd3-9932-4e83-8b94-19c657a23349",
     "showTitle": false,
     "tableResultSettingsMap": {},
     "title": ""
    }
   },
   "source": [
    "##### 2) Getting only distinct values\n",
    "- **.distinct()** removes **duplicates** before collecting."
   ]
  },
  {
   "cell_type": "code",
   "execution_count": 0,
   "metadata": {
    "application/vnd.databricks.v1+cell": {
     "cellMetadata": {
      "byteLimit": 2048000,
      "rowLimit": 10000
     },
     "inputWidgets": {},
     "nuid": "a1282315-0e80-4cdd-b211-799518d648ce",
     "showTitle": false,
     "tableResultSettingsMap": {},
     "title": ""
    }
   },
   "outputs": [
    {
     "output_type": "stream",
     "name": "stdout",
     "output_type": "stream",
     "text": [
      "['Not Available', 'Search', 'Checkout', 'Subscribe', 'Marketing', 'Autocomplete', 'Customer', 'Audit']\n"
     ]
    }
   ],
   "source": [
    "distinct_list = [row[\"status_type\"] for row in df.select(\"status_type\").distinct().collect()]\n",
    "print(distinct_list)"
   ]
  },
  {
   "cell_type": "markdown",
   "metadata": {
    "application/vnd.databricks.v1+cell": {
     "cellMetadata": {},
     "inputWidgets": {},
     "nuid": "9d307d26-874d-4c62-97c8-25680530c5a3",
     "showTitle": false,
     "tableResultSettingsMap": {},
     "title": ""
    }
   },
   "source": [
    "##### 3) Using toPandas() (not recommended for large datasets)"
   ]
  },
  {
   "cell_type": "code",
   "execution_count": 0,
   "metadata": {
    "application/vnd.databricks.v1+cell": {
     "cellMetadata": {
      "byteLimit": 2048000,
      "rowLimit": 10000
     },
     "inputWidgets": {},
     "nuid": "7b9c1b29-2f79-49ae-bfb9-74325ecfd679",
     "showTitle": false,
     "tableResultSettingsMap": {},
     "title": ""
    }
   },
   "outputs": [
    {
     "output_type": "stream",
     "name": "stdout",
     "output_type": "stream",
     "text": [
      "['Not Available', 'Not Available', 'Not Available', 'Not Available', 'Not Available', 'Not Available', 'Not Available', 'Not Available', 'Not Available', 'Not Available', 'Not Available', 'Not Available', 'Not Available', 'Not Available', 'Checkout', 'Checkout', 'Checkout', 'Checkout', 'Checkout', 'Checkout', 'Checkout', 'Checkout', 'Checkout', 'Checkout', 'Checkout', 'Checkout', 'Checkout', 'Checkout', 'Subscribe', 'Subscribe', 'Subscribe', 'Subscribe', 'Subscribe', 'Subscribe', 'Subscribe', 'Subscribe', 'Subscribe', 'Subscribe', 'Search', 'Search', 'Search', 'Search', 'Search', 'Search', 'Search', 'Search', 'Search', 'Autocomplete', 'Autocomplete', 'Autocomplete', 'Autocomplete', 'Autocomplete', 'Autocomplete', 'Autocomplete', 'Autocomplete', 'Autocomplete', 'Autocomplete', 'Autocomplete', 'Customer', 'Customer', 'Customer', 'Customer', 'Customer', 'Customer', 'Customer', 'Customer', 'Customer', 'Customer', 'Customer', 'Customer', 'Audit', 'Audit', 'Audit', 'Audit', 'Audit', 'Audit', 'Audit', 'Audit', 'Audit', 'Audit', 'Audit', 'Audit', 'Audit', 'Audit', 'Audit', 'Audit', 'Audit', 'Marketing', 'Marketing', 'Marketing', 'Marketing', 'Marketing', 'Marketing', 'Marketing', 'Marketing', 'Marketing', 'Marketing', 'Marketing', 'Marketing', 'Marketing']\n"
     ]
    }
   ],
   "source": [
    "values_list = df.select(\"status_type\").toPandas()[\"status_type\"].tolist()\n",
    "print(values_list)"
   ]
  },
  {
   "cell_type": "markdown",
   "metadata": {
    "application/vnd.databricks.v1+cell": {
     "cellMetadata": {},
     "inputWidgets": {},
     "nuid": "08a4b11c-bce6-40da-9ed2-2d6e086757bd",
     "showTitle": false,
     "tableResultSettingsMap": {},
     "title": ""
    }
   },
   "source": [
    "- Converts **DataFrame to Pandas**, then uses Pandas **.tolist()**.\n",
    "- Works but requires **memory to fit** the whole DataFrame on the **driver**."
   ]
  },
  {
   "cell_type": "markdown",
   "metadata": {
    "application/vnd.databricks.v1+cell": {
     "cellMetadata": {},
     "inputWidgets": {},
     "nuid": "55b9f98b-3d4c-4ad0-923b-51b052145b60",
     "showTitle": false,
     "tableResultSettingsMap": {},
     "title": ""
    }
   },
   "source": [
    "##### 4) Using collect_list() or collect_set() (for aggregation)\n",
    "- collect_list() (with duplicates)\n",
    "- collect_set() (unique values)"
   ]
  },
  {
   "cell_type": "code",
   "execution_count": 0,
   "metadata": {
    "application/vnd.databricks.v1+cell": {
     "cellMetadata": {
      "byteLimit": 2048000,
      "rowLimit": 10000
     },
     "inputWidgets": {},
     "nuid": "6ed2f061-a85b-4eb4-bf24-00b928f57d34",
     "showTitle": false,
     "tableResultSettingsMap": {},
     "title": ""
    }
   },
   "outputs": [
    {
     "output_type": "display_data",
     "data": {
      "text/html": [
       "<style scoped>\n",
       "  .table-result-container {\n",
       "    max-height: 300px;\n",
       "    overflow: auto;\n",
       "  }\n",
       "  table, th, td {\n",
       "    border: 1px solid black;\n",
       "    border-collapse: collapse;\n",
       "  }\n",
       "  th, td {\n",
       "    padding: 5px;\n",
       "  }\n",
       "  th {\n",
       "    text-align: left;\n",
       "  }\n",
       "</style><div class='table-result-container'><table class='table-result'><thead style='background-color: white'><tr><th>Category</th><th>Value</th></tr></thead><tbody><tr><td>A</td><td>1</td></tr><tr><td>A</td><td>1</td></tr><tr><td>A</td><td>2</td></tr><tr><td>B</td><td>3</td></tr><tr><td>B</td><td>1</td></tr><tr><td>C</td><td>1</td></tr><tr><td>C</td><td>2</td></tr><tr><td>C</td><td>2</td></tr><tr><td>C</td><td>3</td></tr><tr><td>C</td><td>3</td></tr><tr><td>D</td><td>2</td></tr><tr><td>D</td><td>3</td></tr><tr><td>D</td><td>3</td></tr><tr><td>E</td><td>1</td></tr><tr><td>E</td><td>2</td></tr><tr><td>E</td><td>2</td></tr></tbody></table></div>"
      ]
     },
     "metadata": {
      "application/vnd.databricks.v1+output": {
       "addedWidgets": {},
       "aggData": [],
       "aggError": "",
       "aggOverflow": false,
       "aggSchema": [],
       "aggSeriesLimitReached": false,
       "aggType": "",
       "arguments": {},
       "columnCustomDisplayInfos": {},
       "data": [
        [
         "A",
         1
        ],
        [
         "A",
         1
        ],
        [
         "A",
         2
        ],
        [
         "B",
         3
        ],
        [
         "B",
         1
        ],
        [
         "C",
         1
        ],
        [
         "C",
         2
        ],
        [
         "C",
         2
        ],
        [
         "C",
         3
        ],
        [
         "C",
         3
        ],
        [
         "D",
         2
        ],
        [
         "D",
         3
        ],
        [
         "D",
         3
        ],
        [
         "E",
         1
        ],
        [
         "E",
         2
        ],
        [
         "E",
         2
        ]
       ],
       "datasetInfos": [],
       "dbfsResultPath": null,
       "isJsonSchema": true,
       "metadata": {},
       "overflow": false,
       "plotOptions": {
        "customPlotOptions": {},
        "displayType": "table",
        "pivotAggregation": null,
        "pivotColumns": null,
        "xColumns": null,
        "yColumns": null
       },
       "removedWidgets": [],
       "schema": [
        {
         "metadata": "{}",
         "name": "Category",
         "type": "\"string\""
        },
        {
         "metadata": "{}",
         "name": "Value",
         "type": "\"long\""
        }
       ],
       "type": "table"
      }
     },
     "output_type": "display_data"
    }
   ],
   "source": [
    "from pyspark.sql import functions as F\n",
    "\n",
    "data = [(\"A\", 1), (\"A\", 1), (\"A\", 2), (\"B\", 3), (\"B\", 1), (\"C\", 1), (\"C\", 2), (\"C\", 2), (\"C\", 3), (\"C\", 3), (\"D\", 2), (\"D\", 3), (\"D\", 3), (\"E\", 1), (\"E\", 2), (\"E\", 2)]\n",
    "\n",
    "df = spark.createDataFrame(data, [\"Category\", \"Value\"])\n",
    "display(df)"
   ]
  },
  {
   "cell_type": "code",
   "execution_count": 0,
   "metadata": {
    "application/vnd.databricks.v1+cell": {
     "cellMetadata": {
      "byteLimit": 2048000,
      "rowLimit": 10000
     },
     "inputWidgets": {},
     "nuid": "f8ed29d3-e0fa-46a3-bf03-cfc38e3a5966",
     "showTitle": false,
     "tableResultSettingsMap": {},
     "title": ""
    }
   },
   "outputs": [
    {
     "output_type": "display_data",
     "data": {
      "text/html": [
       "<style scoped>\n",
       "  .table-result-container {\n",
       "    max-height: 300px;\n",
       "    overflow: auto;\n",
       "  }\n",
       "  table, th, td {\n",
       "    border: 1px solid black;\n",
       "    border-collapse: collapse;\n",
       "  }\n",
       "  th, td {\n",
       "    padding: 5px;\n",
       "  }\n",
       "  th {\n",
       "    text-align: left;\n",
       "  }\n",
       "</style><div class='table-result-container'><table class='table-result'><thead style='background-color: white'><tr><th>Category</th><th>ValueList</th></tr></thead><tbody><tr><td>A</td><td>List(1, 1, 2)</td></tr><tr><td>B</td><td>List(3, 1)</td></tr><tr><td>C</td><td>List(1, 2, 2, 3, 3)</td></tr><tr><td>D</td><td>List(2, 3, 3)</td></tr><tr><td>E</td><td>List(1, 2, 2)</td></tr></tbody></table></div>"
      ]
     },
     "metadata": {
      "application/vnd.databricks.v1+output": {
       "addedWidgets": {},
       "aggData": [],
       "aggError": "",
       "aggOverflow": false,
       "aggSchema": [],
       "aggSeriesLimitReached": false,
       "aggType": "",
       "arguments": {},
       "columnCustomDisplayInfos": {},
       "data": [
        [
         "A",
         [
          1,
          1,
          2
         ]
        ],
        [
         "B",
         [
          3,
          1
         ]
        ],
        [
         "C",
         [
          1,
          2,
          2,
          3,
          3
         ]
        ],
        [
         "D",
         [
          2,
          3,
          3
         ]
        ],
        [
         "E",
         [
          1,
          2,
          2
         ]
        ]
       ],
       "datasetInfos": [],
       "dbfsResultPath": null,
       "isJsonSchema": true,
       "metadata": {},
       "overflow": false,
       "plotOptions": {
        "customPlotOptions": {},
        "displayType": "table",
        "pivotAggregation": null,
        "pivotColumns": null,
        "xColumns": null,
        "yColumns": null
       },
       "removedWidgets": [],
       "schema": [
        {
         "metadata": "{}",
         "name": "Category",
         "type": "\"string\""
        },
        {
         "metadata": "{}",
         "name": "ValueList",
         "type": "{\"containsNull\":false,\"elementType\":\"long\",\"type\":\"array\"}"
        }
       ],
       "type": "table"
      }
     },
     "output_type": "display_data"
    }
   ],
   "source": [
    "# Collect values into a list for each category\n",
    "df_collected = df.groupBy(\"Category\").agg(F.collect_list(\"Value\").alias(\"ValueList\"))\n",
    "df_collected.display()"
   ]
  },
  {
   "cell_type": "code",
   "execution_count": 0,
   "metadata": {
    "application/vnd.databricks.v1+cell": {
     "cellMetadata": {
      "byteLimit": 2048000,
      "rowLimit": 10000
     },
     "inputWidgets": {},
     "nuid": "89caf2af-35b2-4432-881c-64dfe4efc41b",
     "showTitle": false,
     "tableResultSettingsMap": {},
     "title": ""
    }
   },
   "outputs": [
    {
     "output_type": "display_data",
     "data": {
      "text/html": [
       "<style scoped>\n",
       "  .table-result-container {\n",
       "    max-height: 300px;\n",
       "    overflow: auto;\n",
       "  }\n",
       "  table, th, td {\n",
       "    border: 1px solid black;\n",
       "    border-collapse: collapse;\n",
       "  }\n",
       "  th, td {\n",
       "    padding: 5px;\n",
       "  }\n",
       "  th {\n",
       "    text-align: left;\n",
       "  }\n",
       "</style><div class='table-result-container'><table class='table-result'><thead style='background-color: white'><tr><th>Category</th><th>UniqueValueList</th></tr></thead><tbody><tr><td>A</td><td>List(1, 2)</td></tr><tr><td>B</td><td>List(3, 1)</td></tr><tr><td>C</td><td>List(1, 2, 3)</td></tr><tr><td>D</td><td>List(2, 3)</td></tr><tr><td>E</td><td>List(1, 2)</td></tr></tbody></table></div>"
      ]
     },
     "metadata": {
      "application/vnd.databricks.v1+output": {
       "addedWidgets": {},
       "aggData": [],
       "aggError": "",
       "aggOverflow": false,
       "aggSchema": [],
       "aggSeriesLimitReached": false,
       "aggType": "",
       "arguments": {},
       "columnCustomDisplayInfos": {},
       "data": [
        [
         "A",
         [
          1,
          2
         ]
        ],
        [
         "B",
         [
          3,
          1
         ]
        ],
        [
         "C",
         [
          1,
          2,
          3
         ]
        ],
        [
         "D",
         [
          2,
          3
         ]
        ],
        [
         "E",
         [
          1,
          2
         ]
        ]
       ],
       "datasetInfos": [],
       "dbfsResultPath": null,
       "isJsonSchema": true,
       "metadata": {},
       "overflow": false,
       "plotOptions": {
        "customPlotOptions": {},
        "displayType": "table",
        "pivotAggregation": null,
        "pivotColumns": null,
        "xColumns": null,
        "yColumns": null
       },
       "removedWidgets": [],
       "schema": [
        {
         "metadata": "{}",
         "name": "Category",
         "type": "\"string\""
        },
        {
         "metadata": "{}",
         "name": "UniqueValueList",
         "type": "{\"containsNull\":false,\"elementType\":\"long\",\"type\":\"array\"}"
        }
       ],
       "type": "table"
      }
     },
     "output_type": "display_data"
    }
   ],
   "source": [
    "# Collect unique values into a list for each category\n",
    "df_collected_set = df.groupBy(\"Category\").agg(F.collect_set(\"Value\").alias(\"UniqueValueList\"))\n",
    "df_collected_set.display()"
   ]
  },
  {
   "cell_type": "markdown",
   "metadata": {
    "application/vnd.databricks.v1+cell": {
     "cellMetadata": {},
     "inputWidgets": {},
     "nuid": "cf369e17-369d-413b-a6c7-2a6c2063d577",
     "showTitle": false,
     "tableResultSettingsMap": {},
     "title": ""
    }
   },
   "source": [
    "##### 5) Using .rdd.flatMap()\n",
    "\n",
    "- This avoids explicit **list comprehension** and works with **Spark’s RDD**"
   ]
  },
  {
   "cell_type": "code",
   "execution_count": 0,
   "metadata": {
    "application/vnd.databricks.v1+cell": {
     "cellMetadata": {
      "byteLimit": 2048000,
      "rowLimit": 10000
     },
     "inputWidgets": {},
     "nuid": "c4a43ff7-8b8c-4fcf-af5c-475bf09ba5e4",
     "showTitle": false,
     "tableResultSettingsMap": {},
     "title": ""
    }
   },
   "outputs": [
    {
     "output_type": "display_data",
     "data": {
      "text/plain": [
       "\u001B[0;31m---------------------------------------------------------------------------\u001B[0m\n",
       "\u001B[0;31mPySparkNotImplementedError\u001B[0m                Traceback (most recent call last)\n",
       "File \u001B[0;32m<command-5983335820974137>, line 1\u001B[0m\n",
       "\u001B[0;32m----> 1\u001B[0m values_list \u001B[38;5;241m=\u001B[39m df\u001B[38;5;241m.\u001B[39mselect(\u001B[38;5;124m\"\u001B[39m\u001B[38;5;124mstatus_type\u001B[39m\u001B[38;5;124m\"\u001B[39m)\u001B[38;5;241m.\u001B[39mrdd\u001B[38;5;241m.\u001B[39mflatMap(\u001B[38;5;28;01mlambda\u001B[39;00m x: x)\u001B[38;5;241m.\u001B[39mcollect()\n",
       "\u001B[1;32m      2\u001B[0m \u001B[38;5;28mprint\u001B[39m(values_list)\n",
       "\n",
       "File \u001B[0;32m/databricks/python/lib/python3.12/site-packages/pyspark/sql/connect/dataframe.py:2330\u001B[0m, in \u001B[0;36mDataFrame.rdd\u001B[0;34m(self)\u001B[0m\n",
       "\u001B[1;32m   2328\u001B[0m \u001B[38;5;129m@property\u001B[39m\n",
       "\u001B[1;32m   2329\u001B[0m \u001B[38;5;28;01mdef\u001B[39;00m \u001B[38;5;21mrdd\u001B[39m(\u001B[38;5;28mself\u001B[39m) \u001B[38;5;241m-\u001B[39m\u001B[38;5;241m>\u001B[39m \u001B[38;5;124m\"\u001B[39m\u001B[38;5;124mRDD[Row]\u001B[39m\u001B[38;5;124m\"\u001B[39m:\n",
       "\u001B[0;32m-> 2330\u001B[0m     \u001B[38;5;28;01mraise\u001B[39;00m PySparkNotImplementedError(\n",
       "\u001B[1;32m   2331\u001B[0m         errorClass\u001B[38;5;241m=\u001B[39m\u001B[38;5;124m\"\u001B[39m\u001B[38;5;124mNOT_IMPLEMENTED\u001B[39m\u001B[38;5;124m\"\u001B[39m,\n",
       "\u001B[1;32m   2332\u001B[0m         messageParameters\u001B[38;5;241m=\u001B[39m{\u001B[38;5;124m\"\u001B[39m\u001B[38;5;124mfeature\u001B[39m\u001B[38;5;124m\"\u001B[39m: \u001B[38;5;124m\"\u001B[39m\u001B[38;5;124mrdd\u001B[39m\u001B[38;5;124m\"\u001B[39m},\n",
       "\u001B[1;32m   2333\u001B[0m     )\n",
       "\n",
       "\u001B[0;31mPySparkNotImplementedError\u001B[0m: [NOT_IMPLEMENTED] Using custom code using PySpark RDDs is not allowed on serverless compute. We suggest using mapInPandas or mapInArrow for the most common use cases. For more details on compatibility and limitations, check: https://docs.databricks.com/release-notes/serverless.html#limitations"
      ]
     },
     "metadata": {
      "application/vnd.databricks.v1+output": {
       "addedWidgets": {},
       "arguments": {},
       "datasetInfos": [],
       "jupyterProps": {
        "ename": "PySparkNotImplementedError",
        "evalue": "[NOT_IMPLEMENTED] Using custom code using PySpark RDDs is not allowed on serverless compute. We suggest using mapInPandas or mapInArrow for the most common use cases. For more details on compatibility and limitations, check: https://docs.databricks.com/release-notes/serverless.html#limitations"
       },
       "metadata": {
        "errorSummary": "[NOT_IMPLEMENTED] Using custom code using PySpark RDDs is not allowed on serverless compute. We suggest using mapInPandas or mapInArrow for the most common use cases. For more details on compatibility and limitations, check: https://docs.databricks.com/release-notes/serverless.html#limitations"
       },
       "removedWidgets": [],
       "sqlProps": {
        "breakingChangeInfo": null,
        "errorClass": "NOT_IMPLEMENTED",
        "pysparkCallSite": "",
        "pysparkFragment": "",
        "pysparkSummary": "",
        "sqlState": null,
        "stackTrace": null,
        "startIndex": null,
        "stopIndex": null
       },
       "stackFrames": [
        "\u001B[0;31m---------------------------------------------------------------------------\u001B[0m",
        "\u001B[0;31mPySparkNotImplementedError\u001B[0m                Traceback (most recent call last)",
        "File \u001B[0;32m<command-5983335820974137>, line 1\u001B[0m\n\u001B[0;32m----> 1\u001B[0m values_list \u001B[38;5;241m=\u001B[39m df\u001B[38;5;241m.\u001B[39mselect(\u001B[38;5;124m\"\u001B[39m\u001B[38;5;124mstatus_type\u001B[39m\u001B[38;5;124m\"\u001B[39m)\u001B[38;5;241m.\u001B[39mrdd\u001B[38;5;241m.\u001B[39mflatMap(\u001B[38;5;28;01mlambda\u001B[39;00m x: x)\u001B[38;5;241m.\u001B[39mcollect()\n\u001B[1;32m      2\u001B[0m \u001B[38;5;28mprint\u001B[39m(values_list)\n",
        "File \u001B[0;32m/databricks/python/lib/python3.12/site-packages/pyspark/sql/connect/dataframe.py:2330\u001B[0m, in \u001B[0;36mDataFrame.rdd\u001B[0;34m(self)\u001B[0m\n\u001B[1;32m   2328\u001B[0m \u001B[38;5;129m@property\u001B[39m\n\u001B[1;32m   2329\u001B[0m \u001B[38;5;28;01mdef\u001B[39;00m \u001B[38;5;21mrdd\u001B[39m(\u001B[38;5;28mself\u001B[39m) \u001B[38;5;241m-\u001B[39m\u001B[38;5;241m>\u001B[39m \u001B[38;5;124m\"\u001B[39m\u001B[38;5;124mRDD[Row]\u001B[39m\u001B[38;5;124m\"\u001B[39m:\n\u001B[0;32m-> 2330\u001B[0m     \u001B[38;5;28;01mraise\u001B[39;00m PySparkNotImplementedError(\n\u001B[1;32m   2331\u001B[0m         errorClass\u001B[38;5;241m=\u001B[39m\u001B[38;5;124m\"\u001B[39m\u001B[38;5;124mNOT_IMPLEMENTED\u001B[39m\u001B[38;5;124m\"\u001B[39m,\n\u001B[1;32m   2332\u001B[0m         messageParameters\u001B[38;5;241m=\u001B[39m{\u001B[38;5;124m\"\u001B[39m\u001B[38;5;124mfeature\u001B[39m\u001B[38;5;124m\"\u001B[39m: \u001B[38;5;124m\"\u001B[39m\u001B[38;5;124mrdd\u001B[39m\u001B[38;5;124m\"\u001B[39m},\n\u001B[1;32m   2333\u001B[0m     )\n",
        "\u001B[0;31mPySparkNotImplementedError\u001B[0m: [NOT_IMPLEMENTED] Using custom code using PySpark RDDs is not allowed on serverless compute. We suggest using mapInPandas or mapInArrow for the most common use cases. For more details on compatibility and limitations, check: https://docs.databricks.com/release-notes/serverless.html#limitations"
       ],
       "type": "baseError"
      }
     },
     "output_type": "display_data"
    }
   ],
   "source": [
    "values_list = df.select(\"status_type\").rdd.flatMap(lambda x: x).collect()\n",
    "print(values_list)"
   ]
  },
  {
   "cell_type": "markdown",
   "metadata": {
    "application/vnd.databricks.v1+cell": {
     "cellMetadata": {},
     "inputWidgets": {},
     "nuid": "899f874b-0046-4aae-8b9e-a200fab8ac56",
     "showTitle": false,
     "tableResultSettingsMap": {},
     "title": ""
    }
   },
   "source": [
    "- **.rdd** → converts the **DataFrame to an RDD**.\n",
    "- **.flatMap(lambda x: x)** → flattens each **row** into a **single value**.\n",
    "- **.collect()** → returns a **Python list**."
   ]
  }
 ],
 "metadata": {
  "application/vnd.databricks.v1+notebook": {
   "computePreferences": {
    "hardware": {
     "accelerator": null,
     "gpuPoolId": null,
     "memory": null
    }
   },
   "dashboards": [],
   "environmentMetadata": {
    "base_environment": "",
    "environment_version": "4"
   },
   "inputWidgetPreferences": null,
   "language": "python",
   "notebookMetadata": {
    "pythonIndentUnit": 4
   },
   "notebookName": "211_How to convert the values of a column into a Python list",
   "widgets": {}
  },
  "language_info": {
   "name": "python"
  }
 },
 "nbformat": 4,
 "nbformat_minor": 0
}