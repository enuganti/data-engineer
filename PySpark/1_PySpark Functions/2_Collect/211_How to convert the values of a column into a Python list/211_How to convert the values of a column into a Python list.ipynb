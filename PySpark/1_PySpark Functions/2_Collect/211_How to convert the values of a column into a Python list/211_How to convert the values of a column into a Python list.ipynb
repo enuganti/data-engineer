{
 "cells": [
  {
   "cell_type": "markdown",
   "metadata": {
    "application/vnd.databricks.v1+cell": {
     "cellMetadata": {},
     "inputWidgets": {},
     "nuid": "de7b8219-7c7b-47af-964b-2fec1a0185a7",
     "showTitle": false,
     "tableResultSettingsMap": {},
     "title": ""
    }
   },
   "source": [
    "#### How to convert the values of a column into a Python list?"
   ]
  },
  {
   "cell_type": "markdown",
   "metadata": {
    "application/vnd.databricks.v1+cell": {
     "cellMetadata": {},
     "inputWidgets": {},
     "nuid": "5561c981-f645-4d18-9e72-2a6f88802062",
     "showTitle": false,
     "tableResultSettingsMap": {},
     "title": ""
    }
   },
   "source": [
    "##### 1) Using .collect()\n",
    "- This is the simplest method, but it **pulls all data to the driver**, so it’s only good for **small datasets**."
   ]
  },
  {
   "cell_type": "code",
   "execution_count": 0,
   "metadata": {
    "application/vnd.databricks.v1+cell": {
     "cellMetadata": {
      "byteLimit": 2048000,
      "rowLimit": 10000
     },
     "inputWidgets": {},
     "nuid": "aa9139b9-192d-46f1-9f93-93409eb3e0c6",
     "showTitle": false,
     "tableResultSettingsMap": {},
     "title": ""
    }
   },
   "outputs": [
    {
     "output_type": "display_data",
     "data": {
      "text/html": [
       "<style scoped>\n",
       "  .table-result-container {\n",
       "    max-height: 300px;\n",
       "    overflow: auto;\n",
       "  }\n",
       "  table, th, td {\n",
       "    border: 1px solid black;\n",
       "    border-collapse: collapse;\n",
       "  }\n",
       "  th, td {\n",
       "    padding: 5px;\n",
       "  }\n",
       "  th {\n",
       "    text-align: left;\n",
       "  }\n",
       "</style><div class='table-result-container'><table class='table-result'><thead style='background-color: white'><tr><th>start_date</th><th>product_url</th><th>category</th><th>default_group</th><th>source_target</th><th>cloud_flatform</th><th>session_id</th><th>session_name</th><th>status_name</th><th>status_type</th><th>sessions</th><th>product_id</th><th>load datetime</th></tr></thead><tbody><tr><td>2025-08-25</td><td>shop.sony.bpl</td><td>mobile</td><td>wifi-network</td><td>google</td><td>azure / aws / gcc</td><td>9876543</td><td>first_visit</td><td>first_visit</td><td>Not Available</td><td>5</td><td>409516064</td><td>2025-09-02T19:10:35</td></tr><tr><td>2025-08-26</td><td>shop.sony.bpl</td><td>mobile</td><td>wifi-network</td><td>google</td><td>azure / aws / gcc</td><td>9876544</td><td>purchase</td><td>organic</td><td>Not Available</td><td>12</td><td>409516064</td><td>2025-09-02T19:10:36</td></tr><tr><td>2025-08-27</td><td>shop.sony.bpl</td><td>mobile</td><td>wifi-network</td><td>google</td><td>azure / aws / gcc</td><td>9876545</td><td>search</td><td>network</td><td>Not Available</td><td>16</td><td>409516064</td><td>2025-09-02T19:10:37</td></tr><tr><td>2025-08-28</td><td>shop.sony.bpl</td><td>mobile</td><td>wifi-network</td><td>google</td><td>azure / aws / gcc</td><td>9876546</td><td>search</td><td>scroll</td><td>Not Available</td><td>22</td><td>409516064</td><td>2025-09-02T19:10:38</td></tr><tr><td>2025-08-29</td><td>shop.sony.bpl</td><td>mobile</td><td>wifi-network</td><td>google</td><td>azure / aws / gcc</td><td>9876547</td><td>search</td><td>organic</td><td>Not Available</td><td>25</td><td>409516064</td><td>2025-09-02T19:10:39</td></tr><tr><td>2025-08-30</td><td>shop.sony.bpl</td><td>mobile</td><td>wifi-network</td><td>(not set)</td><td>azure / aws / gcc</td><td>9876548</td><td>add_to_cart</td><td>organic</td><td>Not Available</td><td>4</td><td>409516064</td><td>2025-09-02T19:10:40</td></tr><tr><td>2025-08-31</td><td>shop.sony.bpl</td><td>mobile</td><td>wifi-network</td><td>(not set)</td><td>azure / aws / gcc</td><td>9876549</td><td>add_to_cart</td><td>organic</td><td>Not Available</td><td>9</td><td>409516064</td><td>2025-09-02T19:10:41</td></tr><tr><td>2025-09-01</td><td>shop.sony.bpl</td><td>mobile</td><td>wifi-network</td><td>(none) / (direct)</td><td>azure / aws / gcc</td><td>9876550</td><td>add_to_cart</td><td>first_visit</td><td>Not Available</td><td>8</td><td>409516064</td><td>2025-09-02T19:10:42</td></tr><tr><td>2025-09-02</td><td>shop.sony.bpl</td><td>mobile</td><td>wifi-network</td><td>flipkart / referral</td><td>azure / aws / gcc</td><td>9876551</td><td>add_to_cart</td><td>first_visit</td><td>Not Available</td><td>7</td><td>409516064</td><td>2025-09-02T19:10:43</td></tr><tr><td>2025-09-03</td><td>shop.sony.bpl</td><td>mobile</td><td>wifi-network</td><td>(data not available)</td><td>azure / aws / gcc</td><td>9876552</td><td>add_to_cart</td><td>first_visit</td><td>Not Available</td><td>6</td><td>409516064</td><td>2025-09-02T19:10:44</td></tr><tr><td>2025-09-04</td><td>shop.sony.bpl</td><td>mobile</td><td>wifi-network</td><td>(none) / (direct)</td><td>azure / aws / gcc</td><td>9876553</td><td>add_to_cart</td><td>first_visit</td><td>Not Available</td><td>5</td><td>409516064</td><td>2025-09-02T19:10:45</td></tr><tr><td>2025-09-05</td><td>shop.sony.bpl</td><td>mobile</td><td>wifi-network</td><td>(data not available)</td><td>azure / aws / gcc</td><td>9876554</td><td>first_visit</td><td>user_engagement</td><td>Not Available</td><td>4</td><td>409516064</td><td>2025-09-02T19:10:46</td></tr><tr><td>2025-09-06</td><td>shop.sony.bpl</td><td>mobile</td><td>wifi-network</td><td>(data not available)</td><td>azure / aws / gcc</td><td>9876555</td><td>purchase</td><td>scroll</td><td>Not Available</td><td>3</td><td>409516064</td><td>2025-09-02T19:10:47</td></tr><tr><td>2025-09-07</td><td>shop.sony.bpl</td><td>mobile</td><td>wifi-network</td><td>(none) / (direct)</td><td>azure / aws / gcc</td><td>9876556</td><td>purchase</td><td>scroll</td><td>Not Available</td><td>19</td><td>409516064</td><td>2025-09-02T19:10:48</td></tr><tr><td>2025-09-08</td><td>shop.sony.bpl</td><td>mobile</td><td>wifi-network</td><td>TTD / video</td><td>azure / aws / gcc</td><td>9876557</td><td>purchase</td><td>scroll</td><td>Checkout</td><td>100</td><td>409516064</td><td>2025-09-02T19:10:49</td></tr><tr><td>2025-09-09</td><td>shop.sony.bpl</td><td>mobile</td><td>wifi-network</td><td>(not set)</td><td>azure / aws / gcc</td><td>9876558</td><td>purchase</td><td>scroll</td><td>Checkout</td><td>54</td><td>409516064</td><td>2025-09-02T19:10:50</td></tr><tr><td>2025-09-10</td><td>shop.sony.bpl</td><td>mobile</td><td>wifi-network</td><td>flipkart / referral</td><td>azure / aws / gcc</td><td>9876559</td><td>purchase</td><td>network</td><td>Checkout</td><td>36</td><td>409516064</td><td>2025-09-02T19:10:51</td></tr><tr><td>2025-09-11</td><td>shop.sony.bpl</td><td>mobile</td><td>wifi-network</td><td>email / email</td><td>azure / aws / gcc</td><td>9876560</td><td>purchase</td><td>network</td><td>Checkout</td><td>23</td><td>409516064</td><td>2025-09-02T19:10:52</td></tr><tr><td>2025-09-12</td><td>shop.sony.bpl</td><td>mobile</td><td>wifi-network</td><td>(not available) / paid_social</td><td>azure / aws / gcc</td><td>9876561</td><td>purchase</td><td>network</td><td>Checkout</td><td>98</td><td>409516064</td><td>2025-09-02T19:10:53</td></tr><tr><td>2025-09-13</td><td>shop.sony.bpl</td><td>mobile</td><td>wifi-network</td><td>instagram / organic</td><td>azure / aws / gcc</td><td>9876562</td><td>purchase</td><td>last_visit</td><td>Checkout</td><td>78</td><td>409516064</td><td>2025-09-02T19:10:54</td></tr><tr><td>2025-09-14</td><td>shop.sony.bpl</td><td>mobile</td><td>wifi-network</td><td>(data not available)</td><td>azure / aws / gcc</td><td>9876563</td><td>purchase</td><td>user_engagement</td><td>Checkout</td><td>76</td><td>409516064</td><td>2025-09-02T19:10:55</td></tr><tr><td>2025-09-15</td><td>shop.sony.bpl</td><td>mobile</td><td>wifi-network</td><td>(data not available)</td><td>azure / aws / gcc</td><td>9876564</td><td>first_visit</td><td>user_engagement</td><td>Checkout</td><td>74</td><td>409516064</td><td>2025-09-02T19:10:56</td></tr><tr><td>2025-09-16</td><td>shop.sony.bpl</td><td>mobile</td><td>wifi-network</td><td>(data not available)</td><td>azure / aws / gcc</td><td>9876565</td><td>first_visit</td><td>user_engagement</td><td>Checkout</td><td>63</td><td>409516064</td><td>2025-09-02T19:10:57</td></tr><tr><td>2025-09-17</td><td>shop.sony.bpl</td><td>mobile</td><td>wifi-network</td><td>TTD / video</td><td>azure / aws / gcc</td><td>9876566</td><td>first_visit</td><td>user_engagement</td><td>Checkout</td><td>90</td><td>409516064</td><td>2025-09-02T19:10:58</td></tr><tr><td>2025-09-18</td><td>shop.sony.bpl</td><td>mobile</td><td>wifi-network</td><td>github.com / referral</td><td>azure / aws / gcc</td><td>9876567</td><td>first_visit</td><td>user_engagement</td><td>Checkout</td><td>171</td><td>409516064</td><td>2025-09-02T19:10:59</td></tr><tr><td>2025-09-19</td><td>shop.sony.bpl</td><td>mobile</td><td>wifi-network</td><td>(none) / (direct)</td><td>azure / aws / gcc</td><td>9876568</td><td>first_visit</td><td>organic</td><td>Checkout</td><td>172</td><td>409516064</td><td>2025-09-02T19:10:60</td></tr><tr><td>2025-09-20</td><td>shop.sony.bpl</td><td>mobile</td><td>wifi-network</td><td>email / email</td><td>azure / aws / gcc</td><td>9876569</td><td>first_visit</td><td>organic</td><td>Checkout</td><td>173</td><td>409516064</td><td>2025-09-02T19:10:61</td></tr><tr><td>2025-09-21</td><td>shop.sony.bpl</td><td>mobile</td><td>wifi-network</td><td>TTD / video</td><td>azure / aws / gcc</td><td>9876570</td><td>first_visit</td><td>organic</td><td>Checkout</td><td>174</td><td>409516064</td><td>2025-09-02T19:10:62</td></tr><tr><td>2025-09-22</td><td>shop.sony.bpl</td><td>mobile</td><td>wifi-network</td><td>(data not available)</td><td>azure / aws / gcc</td><td>9876571</td><td>first_visit</td><td>network</td><td>Subscribe</td><td>175</td><td>409516064</td><td>2025-09-02T19:10:63</td></tr><tr><td>2025-09-23</td><td>shop.sony.bpl</td><td>mobile</td><td>wifi-network</td><td>(data not available)</td><td>azure / aws / gcc</td><td>9876572</td><td>first_visit</td><td>network</td><td>Subscribe</td><td>176</td><td>409516064</td><td>2025-09-02T19:10:64</td></tr><tr><td>2025-09-24</td><td>shop.sony.bpl</td><td>mobile</td><td>wifi-network</td><td>(data not available)</td><td>azure / aws / gcc</td><td>9876573</td><td>first_visit</td><td>search</td><td>Subscribe</td><td>177</td><td>409516064</td><td>2025-09-02T19:10:65</td></tr><tr><td>2025-09-25</td><td>shop.sony.bpl</td><td>mobile</td><td>wifi-network</td><td>(none) / (direct)</td><td>azure / aws / gcc</td><td>9876574</td><td>first_visit</td><td>referral</td><td>Subscribe</td><td>74</td><td>409516064</td><td>2025-09-02T19:10:66</td></tr><tr><td>2025-09-26</td><td>shop.sony.bpl</td><td>mobile</td><td>wifi-network</td><td>meta.com / referral</td><td>azure / aws / gcc</td><td>9876575</td><td>session_start</td><td>referral</td><td>Subscribe</td><td>78</td><td>409516064</td><td>2025-09-02T19:10:67</td></tr><tr><td>2025-09-27</td><td>shop.sony.bpl</td><td>mobile</td><td>wifi-network</td><td>github.com / referral</td><td>azure / aws / gcc</td><td>9876576</td><td>session_start</td><td>network</td><td>Subscribe</td><td>79</td><td>409516064</td><td>2025-09-02T19:10:68</td></tr><tr><td>2025-09-28</td><td>shop.sony.bpl</td><td>mobile</td><td>wifi-network</td><td>github.com / referral</td><td>azure / aws / gcc</td><td>9876577</td><td>session_start</td><td>network</td><td>Subscribe</td><td>90</td><td>409516064</td><td>2025-09-02T19:10:69</td></tr><tr><td>2025-09-29</td><td>shop.sony.bpl</td><td>mobile</td><td>wifi-network</td><td>email / email</td><td>azure / aws / gcc</td><td>9876578</td><td>session_start</td><td>network</td><td>Subscribe</td><td>191</td><td>409516064</td><td>2025-09-02T19:10:70</td></tr><tr><td>2025-09-30</td><td>shop.sony.bpl</td><td>mobile</td><td>wifi-network</td><td>(not set)</td><td>azure / aws / gcc</td><td>9876579</td><td>session_start</td><td>network</td><td>Subscribe</td><td>195</td><td>409516064</td><td>2025-09-02T19:10:71</td></tr><tr><td>2025-10-01</td><td>shop.sony.bpl</td><td>mobile</td><td>wifi-network</td><td>(not set)</td><td>azure / aws / gcc</td><td>9876580</td><td>first_visit</td><td>network</td><td>Subscribe</td><td>111</td><td>409516064</td><td>2025-09-02T19:10:72</td></tr><tr><td>2025-10-02</td><td>shop.sony.bpl</td><td>mobile</td><td>wifi-network</td><td>(not set)</td><td>azure / aws / gcc</td><td>9876581</td><td>first_visit</td><td>organic</td><td>Search</td><td>113</td><td>409516064</td><td>2025-09-02T19:10:73</td></tr><tr><td>2025-10-03</td><td>shop.sony.bpl</td><td>mobile</td><td>wifi-network</td><td>github.com / referral</td><td>azure / aws / gcc</td><td>9876582</td><td>first_visit</td><td>organic</td><td>Search</td><td>115</td><td>409516064</td><td>2025-09-02T19:10:74</td></tr><tr><td>2025-10-04</td><td>shop.sony.bpl</td><td>mobile</td><td>wifi-network</td><td>github.com / referral</td><td>azure / aws / gcc</td><td>9876583</td><td>first_visit</td><td>organic</td><td>Search</td><td>118</td><td>409516064</td><td>2025-09-02T19:10:75</td></tr><tr><td>2025-10-05</td><td>shop.sony.bpl</td><td>mobile</td><td>wifi-network</td><td>google / display</td><td>azure / aws / gcc</td><td>9876584</td><td>first_visit</td><td>organic</td><td>Search</td><td>119</td><td>409516064</td><td>2025-09-02T19:10:76</td></tr><tr><td>2025-10-06</td><td>shop.sony.bpl</td><td>mobile</td><td>wifi-network</td><td>(not set) / paid_social</td><td>azure / aws / gcc</td><td>9876585</td><td>first_visit</td><td>organic</td><td>Search</td><td>127</td><td>409516064</td><td>2025-09-02T19:10:77</td></tr><tr><td>2025-10-07</td><td>shop.sony.bpl</td><td>mobile</td><td>wifi-network</td><td>(data not available)</td><td>azure / aws / gcc</td><td>9876586</td><td>first_visit</td><td>organic</td><td>Search</td><td>129</td><td>409516064</td><td>2025-09-02T19:10:78</td></tr><tr><td>2025-10-08</td><td>shop.sony.bpl</td><td>mobile</td><td>wifi-network</td><td>(not available) / paid_social</td><td>azure / aws / gcc</td><td>9876587</td><td>add_to_cart</td><td>search</td><td>Search</td><td>12</td><td>409516064</td><td>2025-09-02T19:10:79</td></tr><tr><td>2025-10-09</td><td>shop.sony.bpl</td><td>mobile</td><td>wifi-network</td><td>(not available) / paid_social</td><td>azure / aws / gcc</td><td>9876588</td><td>add_to_cart</td><td>search</td><td>Search</td><td>14</td><td>409516064</td><td>2025-09-02T19:10:80</td></tr><tr><td>2025-10-10</td><td>shop.sony.bpl</td><td>mobile</td><td>wifi-network</td><td>(not set)</td><td>azure / aws / gcc</td><td>9876589</td><td>add_to_cart</td><td>search</td><td>Search</td><td>16</td><td>409516064</td><td>2025-09-02T19:10:81</td></tr><tr><td>2025-10-11</td><td>shop.sony.bpl</td><td>mobile</td><td>wifi-network</td><td>(not set)</td><td>azure / aws / gcc</td><td>9876590</td><td>add_to_cart</td><td>search</td><td>Autocomplete</td><td>105</td><td>409516064</td><td>2025-09-02T19:10:82</td></tr><tr><td>2025-10-12</td><td>shop.sony.bpl</td><td>mobile</td><td>wifi-network</td><td>email / email</td><td>azure / aws / gcc</td><td>9876591</td><td>add_to_cart</td><td>search</td><td>Autocomplete</td><td>120</td><td>409516064</td><td>2025-09-02T19:10:83</td></tr><tr><td>2025-10-13</td><td>shop.sony.bpl</td><td>mobile</td><td>wifi-network</td><td>(not set) / shorturl</td><td>azure / aws / gcc</td><td>9876592</td><td>add_to_cart</td><td>organic</td><td>Autocomplete</td><td>135</td><td>409516064</td><td>2025-09-02T19:10:84</td></tr><tr><td>2025-10-14</td><td>shop.sony.bpl</td><td>mobile</td><td>wifi-network</td><td>TTD / video</td><td>azure / aws / gcc</td><td>9876593</td><td>add_to_cart</td><td>organic</td><td>Autocomplete</td><td>176</td><td>409516064</td><td>2025-09-02T19:10:85</td></tr><tr><td>2025-10-15</td><td>shop.sony.bpl</td><td>mobile</td><td>wifi-network</td><td>github.com / referral</td><td>azure / aws / gcc</td><td>9876594</td><td>add_to_cart</td><td>organic</td><td>Autocomplete</td><td>129</td><td>409516064</td><td>2025-09-02T19:10:86</td></tr><tr><td>2025-10-16</td><td>shop.sony.bpl</td><td>mobile</td><td>wifi-network</td><td>(data not available)</td><td>azure / aws / gcc</td><td>9876595</td><td>add_to_cart</td><td>unit_test</td><td>Autocomplete</td><td>132</td><td>409516064</td><td>2025-09-02T19:10:87</td></tr><tr><td>2025-10-17</td><td>shop.sony.bpl</td><td>mobile</td><td>wifi-network</td><td>github.com / referral</td><td>azure / aws / gcc</td><td>9876596</td><td>add_to_cart</td><td>unit_test</td><td>Autocomplete</td><td>143</td><td>409516064</td><td>2025-09-02T19:10:88</td></tr><tr><td>2025-10-18</td><td>shop.sony.bpl</td><td>mobile</td><td>wifi-network</td><td>(not set) / paid_social</td><td>azure / aws / gcc</td><td>9876597</td><td>add_to_cart</td><td>unit_test</td><td>Autocomplete</td><td>146</td><td>409516064</td><td>2025-09-02T19:10:89</td></tr><tr><td>2025-10-19</td><td>shop.sony.bpl</td><td>mobile</td><td>wifi-network</td><td>(none) / (direct)</td><td>azure / aws / gcc</td><td>9876598</td><td>purchase</td><td>unit_test</td><td>Autocomplete</td><td>148</td><td>409516064</td><td>2025-09-02T19:10:90</td></tr><tr><td>2025-10-20</td><td>shop.sony.bpl</td><td>mobile</td><td>wifi-network</td><td>github.com / referral</td><td>azure / aws / gcc</td><td>9876599</td><td>click</td><td>unit_test</td><td>Autocomplete</td><td>149</td><td>409516064</td><td>2025-09-02T19:10:91</td></tr><tr><td>2025-10-21</td><td>shop.sony.bpl</td><td>mobile</td><td>wifi-network</td><td>(not set)</td><td>azure / aws / gcc</td><td>9876600</td><td>search</td><td>unit_test</td><td>Autocomplete</td><td>151</td><td>409516064</td><td>2025-09-02T19:10:92</td></tr><tr><td>2025-10-22</td><td>shop.sony.bpl</td><td>mobile</td><td>wifi-network</td><td>(not set)</td><td>azure / aws / gcc</td><td>9876601</td><td>click</td><td>unit_test</td><td>Customer</td><td>152</td><td>409516064</td><td>2025-09-02T19:10:93</td></tr><tr><td>2025-10-23</td><td>shop.sony.bpl</td><td>mobile</td><td>wifi-network</td><td>email / email</td><td>azure / aws / gcc</td><td>9876602</td><td>click</td><td>smoke_test</td><td>Customer</td><td>153</td><td>409516064</td><td>2025-09-02T19:10:94</td></tr><tr><td>2025-10-24</td><td>shop.sony.bpl</td><td>mobile</td><td>wifi-network</td><td>yahoo / organic</td><td>azure / aws / gcc</td><td>9876603</td><td>click</td><td>smoke_test</td><td>Customer</td><td>154</td><td>409516064</td><td>2025-09-02T19:10:95</td></tr><tr><td>2025-10-25</td><td>shop.sony.bpl</td><td>mobile</td><td>wifi-network</td><td>(data not available)</td><td>azure / aws / gcc</td><td>9876604</td><td>click</td><td>smoke_test</td><td>Customer</td><td>155</td><td>409516064</td><td>2025-09-02T19:10:96</td></tr><tr><td>2025-10-26</td><td>shop.sony.bpl</td><td>mobile</td><td>wifi-network</td><td>(not set) / shorturl</td><td>azure / aws / gcc</td><td>9876605</td><td>click</td><td>smoke_test</td><td>Customer</td><td>156</td><td>409516064</td><td>2025-09-02T19:10:97</td></tr><tr><td>2025-10-27</td><td>shop.sony.bpl</td><td>mobile</td><td>wifi-network</td><td>email / email</td><td>azure / aws / gcc</td><td>9876606</td><td>click</td><td>smoke_test</td><td>Customer</td><td>157</td><td>409516064</td><td>2025-09-02T19:10:98</td></tr><tr><td>2025-10-28</td><td>shop.sony.bpl</td><td>mobile</td><td>wifi-network</td><td>meta.com / referral</td><td>azure / aws / gcc</td><td>9876607</td><td>click</td><td>smoke_test</td><td>Customer</td><td>158</td><td>409516064</td><td>2025-09-02T19:10:99</td></tr><tr><td>2025-10-29</td><td>shop.sony.bpl</td><td>mobile</td><td>wifi-network</td><td>email / email</td><td>azure / aws / gcc</td><td>9876608</td><td>click</td><td>smoke_test</td><td>Customer</td><td>159</td><td>409516064</td><td>2025-09-02T19:10:100</td></tr><tr><td>2025-10-30</td><td>shop.sony.bpl</td><td>mobile</td><td>wifi-network</td><td>(not set)</td><td>azure / aws / gcc</td><td>9876609</td><td>click</td><td>smoke_test</td><td>Customer</td><td>160</td><td>409516064</td><td>2025-09-02T19:10:101</td></tr><tr><td>2025-10-31</td><td>shop.sony.bpl</td><td>mobile</td><td>wifi-network</td><td>(not set)</td><td>azure / aws / gcc</td><td>9876610</td><td>search</td><td>smoke_test</td><td>Customer</td><td>161</td><td>409516064</td><td>2025-09-02T19:10:102</td></tr><tr><td>2025-11-01</td><td>shop.sony.bpl</td><td>mobile</td><td>wifi-network</td><td>instagram / organic</td><td>azure / aws / gcc</td><td>9876611</td><td>search</td><td>smoke_test</td><td>Customer</td><td>85</td><td>409516064</td><td>2025-09-02T19:10:103</td></tr><tr><td>2025-11-02</td><td>shop.sony.bpl</td><td>mobile</td><td>wifi-network</td><td>amazon.se / referral</td><td>azure / aws / gcc</td><td>9876612</td><td>search</td><td>scroll</td><td>Customer</td><td>86</td><td>409516064</td><td>2025-09-02T19:10:104</td></tr><tr><td>2025-11-03</td><td>shop.sony.bpl</td><td>mobile</td><td>wifi-network</td><td>(data not available)</td><td>azure / aws / gcc</td><td>9876613</td><td>add_to_cart</td><td>scroll</td><td>Audit</td><td>87</td><td>409516064</td><td>2025-09-02T19:10:105</td></tr><tr><td>2025-11-04</td><td>shop.sony.bpl</td><td>mobile</td><td>wifi-network</td><td>flipkart / referral</td><td>azure / aws / gcc</td><td>9876614</td><td>add_to_cart</td><td>scroll</td><td>Audit</td><td>88</td><td>409516064</td><td>2025-09-02T19:10:106</td></tr><tr><td>2025-11-05</td><td>shop.sony.bpl</td><td>mobile</td><td>wifi-network</td><td>instagram / organic</td><td>azure / aws / gcc</td><td>9876615</td><td>add_to_cart</td><td>scroll</td><td>Audit</td><td>89</td><td>409516064</td><td>2025-09-02T19:10:107</td></tr><tr><td>2025-11-06</td><td>shop.sony.bpl</td><td>mobile</td><td>wifi-network</td><td>(direct) / (none)</td><td>azure / aws / gcc</td><td>9876616</td><td>add_to_cart</td><td>scroll</td><td>Audit</td><td>41</td><td>409516064</td><td>2025-09-02T19:10:108</td></tr><tr><td>2025-11-07</td><td>shop.sony.bpl</td><td>mobile</td><td>wifi-network</td><td>github.com / referral</td><td>azure / aws / gcc</td><td>9876617</td><td>add_to_cart</td><td>organic</td><td>Audit</td><td>42</td><td>409516064</td><td>2025-09-02T19:10:109</td></tr><tr><td>2025-11-08</td><td>shop.sony.bpl</td><td>mobile</td><td>wifi-network</td><td>instagram / organic</td><td>azure / aws / gcc</td><td>9876618</td><td>add_to_cart</td><td>organic</td><td>Audit</td><td>43</td><td>409516064</td><td>2025-09-02T19:10:110</td></tr><tr><td>2025-11-09</td><td>shop.sony.bpl</td><td>mobile</td><td>wifi-network</td><td>(not set)</td><td>azure / aws / gcc</td><td>9876619</td><td>search</td><td>organic</td><td>Audit</td><td>44</td><td>409516064</td><td>2025-09-02T19:10:111</td></tr><tr><td>2025-11-10</td><td>shop.sony.bpl</td><td>mobile</td><td>wifi-network</td><td>(not set)</td><td>azure / aws / gcc</td><td>9876620</td><td>search</td><td>drag</td><td>Audit</td><td>45</td><td>409516064</td><td>2025-09-02T19:10:112</td></tr><tr><td>2025-11-11</td><td>shop.sony.bpl</td><td>mobile</td><td>wifi-network</td><td>(none) / (direct)</td><td>azure / aws / gcc</td><td>9876621</td><td>search</td><td>drag</td><td>Audit</td><td>46</td><td>409516064</td><td>2025-09-02T19:10:113</td></tr><tr><td>2025-11-12</td><td>shop.sony.bpl</td><td>mobile</td><td>wifi-network</td><td>flipkart / referral</td><td>azure / aws / gcc</td><td>9876622</td><td>session_start</td><td>drag</td><td>Audit</td><td>47</td><td>409516064</td><td>2025-09-02T19:10:114</td></tr><tr><td>2025-11-13</td><td>shop.sony.bpl</td><td>mobile</td><td>wifi-network</td><td>email / email</td><td>azure / aws / gcc</td><td>9876623</td><td>session_start</td><td>scroll</td><td>Audit</td><td>48</td><td>409516064</td><td>2025-09-02T19:10:115</td></tr><tr><td>2025-11-14</td><td>shop.sony.bpl</td><td>mobile</td><td>wifi-network</td><td>TTD / video</td><td>azure / aws / gcc</td><td>9876624</td><td>session_start</td><td>scroll</td><td>Audit</td><td>49</td><td>409516064</td><td>2025-09-02T19:10:116</td></tr><tr><td>2025-11-15</td><td>shop.sony.bpl</td><td>mobile</td><td>wifi-network</td><td>(data not available)</td><td>azure / aws / gcc</td><td>9876625</td><td>first_visit</td><td>scroll</td><td>Audit</td><td>31</td><td>409516064</td><td>2025-09-02T19:10:117</td></tr><tr><td>2025-11-16</td><td>shop.sony.bpl</td><td>mobile</td><td>wifi-network</td><td>(direct) / (none)</td><td>azure / aws / gcc</td><td>9876626</td><td>click</td><td>scroll</td><td>Audit</td><td>32</td><td>409516064</td><td>2025-09-02T19:10:118</td></tr><tr><td>2025-11-17</td><td>shop.sony.bpl</td><td>mobile</td><td>wifi-network</td><td>(direct) / (none)</td><td>azure / aws / gcc</td><td>9876627</td><td>click</td><td>scroll</td><td>Audit</td><td>33</td><td>409516064</td><td>2025-09-02T19:10:119</td></tr><tr><td>2025-11-18</td><td>shop.sony.bpl</td><td>mobile</td><td>wifi-network</td><td>flipkart / referral</td><td>azure / aws / gcc</td><td>9876628</td><td>click</td><td>scroll</td><td>Audit</td><td>34</td><td>409516064</td><td>2025-09-02T19:10:120</td></tr><tr><td>2025-11-19</td><td>shop.sony.bpl</td><td>mobile</td><td>wifi-network</td><td>(none) / (direct)</td><td>azure / aws / gcc</td><td>9876629</td><td>click</td><td>referral</td><td>Audit</td><td>35</td><td>409516064</td><td>2025-09-02T19:10:121</td></tr><tr><td>2025-11-20</td><td>shop.sony.bpl</td><td>mobile</td><td>wifi-network</td><td>brochure / shorturl</td><td>azure / aws / gcc</td><td>9876630</td><td>session_start</td><td>direct</td><td>Marketing</td><td>36</td><td>409516064</td><td>2025-09-02T19:10:122</td></tr><tr><td>2025-11-21</td><td>shop.sony.bpl</td><td>mobile</td><td>wifi-network</td><td>(not set)</td><td>azure / aws / gcc</td><td>9876631</td><td>session_start</td><td>direct</td><td>Marketing</td><td>37</td><td>409516064</td><td>2025-09-02T19:10:123</td></tr><tr><td>2025-11-22</td><td>shop.sony.bpl</td><td>mobile</td><td>wifi-network</td><td>(data not available)</td><td>azure / aws / gcc</td><td>9876632</td><td>session_start</td><td>direct</td><td>Marketing</td><td>38</td><td>409516064</td><td>2025-09-02T19:10:124</td></tr><tr><td>2025-11-23</td><td>shop.sony.bpl</td><td>mobile</td><td>wifi-network</td><td>brochure / shorturl</td><td>azure / aws / gcc</td><td>9876633</td><td>session_start</td><td>direct</td><td>Marketing</td><td>39</td><td>409516064</td><td>2025-09-02T19:10:125</td></tr><tr><td>2025-11-24</td><td>shop.sony.bpl</td><td>mobile</td><td>wifi-network</td><td>brochure / shorturl</td><td>azure / aws / gcc</td><td>9876634</td><td>session_start</td><td>direct</td><td>Marketing</td><td>40</td><td>409516064</td><td>2025-09-02T19:10:126</td></tr><tr><td>2025-11-25</td><td>shop.sony.bpl</td><td>mobile</td><td>wifi-network</td><td>(not set)</td><td>azure / aws / gcc</td><td>9876635</td><td>session_start</td><td>direct</td><td>Marketing</td><td>28</td><td>409516064</td><td>2025-09-02T19:10:127</td></tr><tr><td>2025-11-26</td><td>shop.sony.bpl</td><td>mobile</td><td>wifi-network</td><td>(not set)</td><td>azure / aws / gcc</td><td>9876636</td><td>session_start</td><td>referral</td><td>Marketing</td><td>27</td><td>409516064</td><td>2025-09-02T19:10:128</td></tr><tr><td>2025-11-27</td><td>shop.sony.bpl</td><td>mobile</td><td>wifi-network</td><td>fb / paid</td><td>azure / aws / gcc</td><td>9876637</td><td>session_start</td><td>referral</td><td>Marketing</td><td>26</td><td>409516064</td><td>2025-09-02T19:10:129</td></tr><tr><td>2025-11-28</td><td>shop.sony.bpl</td><td>mobile</td><td>wifi-network</td><td>(direct) / (none)</td><td>azure / aws / gcc</td><td>9876638</td><td>session_start</td><td>referral</td><td>Marketing</td><td>84</td><td>409516064</td><td>2025-09-02T19:10:130</td></tr><tr><td>2025-11-29</td><td>shop.sony.bpl</td><td>mobile</td><td>wifi-network</td><td>(direct) / (none)</td><td>azure / aws / gcc</td><td>9876639</td><td>session_start</td><td>referral</td><td>Marketing</td><td>83</td><td>409516064</td><td>2025-09-02T19:10:131</td></tr><tr><td>2025-11-30</td><td>shop.sony.bpl</td><td>mobile</td><td>wifi-network</td><td>(data not available)</td><td>azure / aws / gcc</td><td>9876640</td><td>session_start</td><td>referral</td><td>Marketing</td><td>82</td><td>409516064</td><td>2025-09-02T19:10:132</td></tr><tr><td>2025-12-01</td><td>shop.sony.bpl</td><td>mobile</td><td>wifi-network</td><td>fb / paid</td><td>azure / aws / gcc</td><td>9876641</td><td>session_start</td><td>organic</td><td>Marketing</td><td>81</td><td>409516064</td><td>2025-09-02T19:10:133</td></tr><tr><td>2025-12-02</td><td>shop.sony.bpl</td><td>mobile</td><td>wifi-network</td><td>fb / paid</td><td>azure / aws / gcc</td><td>9876642</td><td>session_start</td><td>organic</td><td>Marketing</td><td>29</td><td>409516064</td><td>2025-09-02T19:10:134</td></tr></tbody></table></div>"
      ]
     },
     "metadata": {
      "application/vnd.databricks.v1+output": {
       "addedWidgets": {},
       "aggData": [],
       "aggError": "",
       "aggOverflow": false,
       "aggSchema": [],
       "aggSeriesLimitReached": false,
       "aggType": "",
       "arguments": {},
       "columnCustomDisplayInfos": {},
       "data": [
        [
         "2025-08-25",
         "shop.sony.bpl",
         "mobile",
         "wifi-network",
         "google",
         "azure / aws / gcc",
         9876543,
         "first_visit",
         "first_visit",
         "Not Available",
         5,
         409516064,
         "2025-09-02T19:10:35"
        ],
        [
         "2025-08-26",
         "shop.sony.bpl",
         "mobile",
         "wifi-network",
         "google",
         "azure / aws / gcc",
         9876544,
         "purchase",
         "organic",
         "Not Available",
         12,
         409516064,
         "2025-09-02T19:10:36"
        ],
        [
         "2025-08-27",
         "shop.sony.bpl",
         "mobile",
         "wifi-network",
         "google",
         "azure / aws / gcc",
         9876545,
         "search",
         "network",
         "Not Available",
         16,
         409516064,
         "2025-09-02T19:10:37"
        ],
        [
         "2025-08-28",
         "shop.sony.bpl",
         "mobile",
         "wifi-network",
         "google",
         "azure / aws / gcc",
         9876546,
         "search",
         "scroll",
         "Not Available",
         22,
         409516064,
         "2025-09-02T19:10:38"
        ],
        [
         "2025-08-29",
         "shop.sony.bpl",
         "mobile",
         "wifi-network",
         "google",
         "azure / aws / gcc",
         9876547,
         "search",
         "organic",
         "Not Available",
         25,
         409516064,
         "2025-09-02T19:10:39"
        ],
        [
         "2025-08-30",
         "shop.sony.bpl",
         "mobile",
         "wifi-network",
         "(not set)",
         "azure / aws / gcc",
         9876548,
         "add_to_cart",
         "organic",
         "Not Available",
         4,
         409516064,
         "2025-09-02T19:10:40"
        ],
        [
         "2025-08-31",
         "shop.sony.bpl",
         "mobile",
         "wifi-network",
         "(not set)",
         "azure / aws / gcc",
         9876549,
         "add_to_cart",
         "organic",
         "Not Available",
         9,
         409516064,
         "2025-09-02T19:10:41"
        ],
        [
         "2025-09-01",
         "shop.sony.bpl",
         "mobile",
         "wifi-network",
         "(none) / (direct)",
         "azure / aws / gcc",
         9876550,
         "add_to_cart",
         "first_visit",
         "Not Available",
         8,
         409516064,
         "2025-09-02T19:10:42"
        ],
        [
         "2025-09-02",
         "shop.sony.bpl",
         "mobile",
         "wifi-network",
         "flipkart / referral",
         "azure / aws / gcc",
         9876551,
         "add_to_cart",
         "first_visit",
         "Not Available",
         7,
         409516064,
         "2025-09-02T19:10:43"
        ],
        [
         "2025-09-03",
         "shop.sony.bpl",
         "mobile",
         "wifi-network",
         "(data not available)",
         "azure / aws / gcc",
         9876552,
         "add_to_cart",
         "first_visit",
         "Not Available",
         6,
         409516064,
         "2025-09-02T19:10:44"
        ],
        [
         "2025-09-04",
         "shop.sony.bpl",
         "mobile",
         "wifi-network",
         "(none) / (direct)",
         "azure / aws / gcc",
         9876553,
         "add_to_cart",
         "first_visit",
         "Not Available",
         5,
         409516064,
         "2025-09-02T19:10:45"
        ],
        [
         "2025-09-05",
         "shop.sony.bpl",
         "mobile",
         "wifi-network",
         "(data not available)",
         "azure / aws / gcc",
         9876554,
         "first_visit",
         "user_engagement",
         "Not Available",
         4,
         409516064,
         "2025-09-02T19:10:46"
        ],
        [
         "2025-09-06",
         "shop.sony.bpl",
         "mobile",
         "wifi-network",
         "(data not available)",
         "azure / aws / gcc",
         9876555,
         "purchase",
         "scroll",
         "Not Available",
         3,
         409516064,
         "2025-09-02T19:10:47"
        ],
        [
         "2025-09-07",
         "shop.sony.bpl",
         "mobile",
         "wifi-network",
         "(none) / (direct)",
         "azure / aws / gcc",
         9876556,
         "purchase",
         "scroll",
         "Not Available",
         19,
         409516064,
         "2025-09-02T19:10:48"
        ],
        [
         "2025-09-08",
         "shop.sony.bpl",
         "mobile",
         "wifi-network",
         "TTD / video",
         "azure / aws / gcc",
         9876557,
         "purchase",
         "scroll",
         "Checkout",
         100,
         409516064,
         "2025-09-02T19:10:49"
        ],
        [
         "2025-09-09",
         "shop.sony.bpl",
         "mobile",
         "wifi-network",
         "(not set)",
         "azure / aws / gcc",
         9876558,
         "purchase",
         "scroll",
         "Checkout",
         54,
         409516064,
         "2025-09-02T19:10:50"
        ],
        [
         "2025-09-10",
         "shop.sony.bpl",
         "mobile",
         "wifi-network",
         "flipkart / referral",
         "azure / aws / gcc",
         9876559,
         "purchase",
         "network",
         "Checkout",
         36,
         409516064,
         "2025-09-02T19:10:51"
        ],
        [
         "2025-09-11",
         "shop.sony.bpl",
         "mobile",
         "wifi-network",
         "email / email",
         "azure / aws / gcc",
         9876560,
         "purchase",
         "network",
         "Checkout",
         23,
         409516064,
         "2025-09-02T19:10:52"
        ],
        [
         "2025-09-12",
         "shop.sony.bpl",
         "mobile",
         "wifi-network",
         "(not available) / paid_social",
         "azure / aws / gcc",
         9876561,
         "purchase",
         "network",
         "Checkout",
         98,
         409516064,
         "2025-09-02T19:10:53"
        ],
        [
         "2025-09-13",
         "shop.sony.bpl",
         "mobile",
         "wifi-network",
         "instagram / organic",
         "azure / aws / gcc",
         9876562,
         "purchase",
         "last_visit",
         "Checkout",
         78,
         409516064,
         "2025-09-02T19:10:54"
        ],
        [
         "2025-09-14",
         "shop.sony.bpl",
         "mobile",
         "wifi-network",
         "(data not available)",
         "azure / aws / gcc",
         9876563,
         "purchase",
         "user_engagement",
         "Checkout",
         76,
         409516064,
         "2025-09-02T19:10:55"
        ],
        [
         "2025-09-15",
         "shop.sony.bpl",
         "mobile",
         "wifi-network",
         "(data not available)",
         "azure / aws / gcc",
         9876564,
         "first_visit",
         "user_engagement",
         "Checkout",
         74,
         409516064,
         "2025-09-02T19:10:56"
        ],
        [
         "2025-09-16",
         "shop.sony.bpl",
         "mobile",
         "wifi-network",
         "(data not available)",
         "azure / aws / gcc",
         9876565,
         "first_visit",
         "user_engagement",
         "Checkout",
         63,
         409516064,
         "2025-09-02T19:10:57"
        ],
        [
         "2025-09-17",
         "shop.sony.bpl",
         "mobile",
         "wifi-network",
         "TTD / video",
         "azure / aws / gcc",
         9876566,
         "first_visit",
         "user_engagement",
         "Checkout",
         90,
         409516064,
         "2025-09-02T19:10:58"
        ],
        [
         "2025-09-18",
         "shop.sony.bpl",
         "mobile",
         "wifi-network",
         "github.com / referral",
         "azure / aws / gcc",
         9876567,
         "first_visit",
         "user_engagement",
         "Checkout",
         171,
         409516064,
         "2025-09-02T19:10:59"
        ],
        [
         "2025-09-19",
         "shop.sony.bpl",
         "mobile",
         "wifi-network",
         "(none) / (direct)",
         "azure / aws / gcc",
         9876568,
         "first_visit",
         "organic",
         "Checkout",
         172,
         409516064,
         "2025-09-02T19:10:60"
        ],
        [
         "2025-09-20",
         "shop.sony.bpl",
         "mobile",
         "wifi-network",
         "email / email",
         "azure / aws / gcc",
         9876569,
         "first_visit",
         "organic",
         "Checkout",
         173,
         409516064,
         "2025-09-02T19:10:61"
        ],
        [
         "2025-09-21",
         "shop.sony.bpl",
         "mobile",
         "wifi-network",
         "TTD / video",
         "azure / aws / gcc",
         9876570,
         "first_visit",
         "organic",
         "Checkout",
         174,
         409516064,
         "2025-09-02T19:10:62"
        ],
        [
         "2025-09-22",
         "shop.sony.bpl",
         "mobile",
         "wifi-network",
         "(data not available)",
         "azure / aws / gcc",
         9876571,
         "first_visit",
         "network",
         "Subscribe",
         175,
         409516064,
         "2025-09-02T19:10:63"
        ],
        [
         "2025-09-23",
         "shop.sony.bpl",
         "mobile",
         "wifi-network",
         "(data not available)",
         "azure / aws / gcc",
         9876572,
         "first_visit",
         "network",
         "Subscribe",
         176,
         409516064,
         "2025-09-02T19:10:64"
        ],
        [
         "2025-09-24",
         "shop.sony.bpl",
         "mobile",
         "wifi-network",
         "(data not available)",
         "azure / aws / gcc",
         9876573,
         "first_visit",
         "search",
         "Subscribe",
         177,
         409516064,
         "2025-09-02T19:10:65"
        ],
        [
         "2025-09-25",
         "shop.sony.bpl",
         "mobile",
         "wifi-network",
         "(none) / (direct)",
         "azure / aws / gcc",
         9876574,
         "first_visit",
         "referral",
         "Subscribe",
         74,
         409516064,
         "2025-09-02T19:10:66"
        ],
        [
         "2025-09-26",
         "shop.sony.bpl",
         "mobile",
         "wifi-network",
         "meta.com / referral",
         "azure / aws / gcc",
         9876575,
         "session_start",
         "referral",
         "Subscribe",
         78,
         409516064,
         "2025-09-02T19:10:67"
        ],
        [
         "2025-09-27",
         "shop.sony.bpl",
         "mobile",
         "wifi-network",
         "github.com / referral",
         "azure / aws / gcc",
         9876576,
         "session_start",
         "network",
         "Subscribe",
         79,
         409516064,
         "2025-09-02T19:10:68"
        ],
        [
         "2025-09-28",
         "shop.sony.bpl",
         "mobile",
         "wifi-network",
         "github.com / referral",
         "azure / aws / gcc",
         9876577,
         "session_start",
         "network",
         "Subscribe",
         90,
         409516064,
         "2025-09-02T19:10:69"
        ],
        [
         "2025-09-29",
         "shop.sony.bpl",
         "mobile",
         "wifi-network",
         "email / email",
         "azure / aws / gcc",
         9876578,
         "session_start",
         "network",
         "Subscribe",
         191,
         409516064,
         "2025-09-02T19:10:70"
        ],
        [
         "2025-09-30",
         "shop.sony.bpl",
         "mobile",
         "wifi-network",
         "(not set)",
         "azure / aws / gcc",
         9876579,
         "session_start",
         "network",
         "Subscribe",
         195,
         409516064,
         "2025-09-02T19:10:71"
        ],
        [
         "2025-10-01",
         "shop.sony.bpl",
         "mobile",
         "wifi-network",
         "(not set)",
         "azure / aws / gcc",
         9876580,
         "first_visit",
         "network",
         "Subscribe",
         111,
         409516064,
         "2025-09-02T19:10:72"
        ],
        [
         "2025-10-02",
         "shop.sony.bpl",
         "mobile",
         "wifi-network",
         "(not set)",
         "azure / aws / gcc",
         9876581,
         "first_visit",
         "organic",
         "Search",
         113,
         409516064,
         "2025-09-02T19:10:73"
        ],
        [
         "2025-10-03",
         "shop.sony.bpl",
         "mobile",
         "wifi-network",
         "github.com / referral",
         "azure / aws / gcc",
         9876582,
         "first_visit",
         "organic",
         "Search",
         115,
         409516064,
         "2025-09-02T19:10:74"
        ],
        [
         "2025-10-04",
         "shop.sony.bpl",
         "mobile",
         "wifi-network",
         "github.com / referral",
         "azure / aws / gcc",
         9876583,
         "first_visit",
         "organic",
         "Search",
         118,
         409516064,
         "2025-09-02T19:10:75"
        ],
        [
         "2025-10-05",
         "shop.sony.bpl",
         "mobile",
         "wifi-network",
         "google / display",
         "azure / aws / gcc",
         9876584,
         "first_visit",
         "organic",
         "Search",
         119,
         409516064,
         "2025-09-02T19:10:76"
        ],
        [
         "2025-10-06",
         "shop.sony.bpl",
         "mobile",
         "wifi-network",
         "(not set) / paid_social",
         "azure / aws / gcc",
         9876585,
         "first_visit",
         "organic",
         "Search",
         127,
         409516064,
         "2025-09-02T19:10:77"
        ],
        [
         "2025-10-07",
         "shop.sony.bpl",
         "mobile",
         "wifi-network",
         "(data not available)",
         "azure / aws / gcc",
         9876586,
         "first_visit",
         "organic",
         "Search",
         129,
         409516064,
         "2025-09-02T19:10:78"
        ],
        [
         "2025-10-08",
         "shop.sony.bpl",
         "mobile",
         "wifi-network",
         "(not available) / paid_social",
         "azure / aws / gcc",
         9876587,
         "add_to_cart",
         "search",
         "Search",
         12,
         409516064,
         "2025-09-02T19:10:79"
        ],
        [
         "2025-10-09",
         "shop.sony.bpl",
         "mobile",
         "wifi-network",
         "(not available) / paid_social",
         "azure / aws / gcc",
         9876588,
         "add_to_cart",
         "search",
         "Search",
         14,
         409516064,
         "2025-09-02T19:10:80"
        ],
        [
         "2025-10-10",
         "shop.sony.bpl",
         "mobile",
         "wifi-network",
         "(not set)",
         "azure / aws / gcc",
         9876589,
         "add_to_cart",
         "search",
         "Search",
         16,
         409516064,
         "2025-09-02T19:10:81"
        ],
        [
         "2025-10-11",
         "shop.sony.bpl",
         "mobile",
         "wifi-network",
         "(not set)",
         "azure / aws / gcc",
         9876590,
         "add_to_cart",
         "search",
         "Autocomplete",
         105,
         409516064,
         "2025-09-02T19:10:82"
        ],
        [
         "2025-10-12",
         "shop.sony.bpl",
         "mobile",
         "wifi-network",
         "email / email",
         "azure / aws / gcc",
         9876591,
         "add_to_cart",
         "search",
         "Autocomplete",
         120,
         409516064,
         "2025-09-02T19:10:83"
        ],
        [
         "2025-10-13",
         "shop.sony.bpl",
         "mobile",
         "wifi-network",
         "(not set) / shorturl",
         "azure / aws / gcc",
         9876592,
         "add_to_cart",
         "organic",
         "Autocomplete",
         135,
         409516064,
         "2025-09-02T19:10:84"
        ],
        [
         "2025-10-14",
         "shop.sony.bpl",
         "mobile",
         "wifi-network",
         "TTD / video",
         "azure / aws / gcc",
         9876593,
         "add_to_cart",
         "organic",
         "Autocomplete",
         176,
         409516064,
         "2025-09-02T19:10:85"
        ],
        [
         "2025-10-15",
         "shop.sony.bpl",
         "mobile",
         "wifi-network",
         "github.com / referral",
         "azure / aws / gcc",
         9876594,
         "add_to_cart",
         "organic",
         "Autocomplete",
         129,
         409516064,
         "2025-09-02T19:10:86"
        ],
        [
         "2025-10-16",
         "shop.sony.bpl",
         "mobile",
         "wifi-network",
         "(data not available)",
         "azure / aws / gcc",
         9876595,
         "add_to_cart",
         "unit_test",
         "Autocomplete",
         132,
         409516064,
         "2025-09-02T19:10:87"
        ],
        [
         "2025-10-17",
         "shop.sony.bpl",
         "mobile",
         "wifi-network",
         "github.com / referral",
         "azure / aws / gcc",
         9876596,
         "add_to_cart",
         "unit_test",
         "Autocomplete",
         143,
         409516064,
         "2025-09-02T19:10:88"
        ],
        [
         "2025-10-18",
         "shop.sony.bpl",
         "mobile",
         "wifi-network",
         "(not set) / paid_social",
         "azure / aws / gcc",
         9876597,
         "add_to_cart",
         "unit_test",
         "Autocomplete",
         146,
         409516064,
         "2025-09-02T19:10:89"
        ],
        [
         "2025-10-19",
         "shop.sony.bpl",
         "mobile",
         "wifi-network",
         "(none) / (direct)",
         "azure / aws / gcc",
         9876598,
         "purchase",
         "unit_test",
         "Autocomplete",
         148,
         409516064,
         "2025-09-02T19:10:90"
        ],
        [
         "2025-10-20",
         "shop.sony.bpl",
         "mobile",
         "wifi-network",
         "github.com / referral",
         "azure / aws / gcc",
         9876599,
         "click",
         "unit_test",
         "Autocomplete",
         149,
         409516064,
         "2025-09-02T19:10:91"
        ],
        [
         "2025-10-21",
         "shop.sony.bpl",
         "mobile",
         "wifi-network",
         "(not set)",
         "azure / aws / gcc",
         9876600,
         "search",
         "unit_test",
         "Autocomplete",
         151,
         409516064,
         "2025-09-02T19:10:92"
        ],
        [
         "2025-10-22",
         "shop.sony.bpl",
         "mobile",
         "wifi-network",
         "(not set)",
         "azure / aws / gcc",
         9876601,
         "click",
         "unit_test",
         "Customer",
         152,
         409516064,
         "2025-09-02T19:10:93"
        ],
        [
         "2025-10-23",
         "shop.sony.bpl",
         "mobile",
         "wifi-network",
         "email / email",
         "azure / aws / gcc",
         9876602,
         "click",
         "smoke_test",
         "Customer",
         153,
         409516064,
         "2025-09-02T19:10:94"
        ],
        [
         "2025-10-24",
         "shop.sony.bpl",
         "mobile",
         "wifi-network",
         "yahoo / organic",
         "azure / aws / gcc",
         9876603,
         "click",
         "smoke_test",
         "Customer",
         154,
         409516064,
         "2025-09-02T19:10:95"
        ],
        [
         "2025-10-25",
         "shop.sony.bpl",
         "mobile",
         "wifi-network",
         "(data not available)",
         "azure / aws / gcc",
         9876604,
         "click",
         "smoke_test",
         "Customer",
         155,
         409516064,
         "2025-09-02T19:10:96"
        ],
        [
         "2025-10-26",
         "shop.sony.bpl",
         "mobile",
         "wifi-network",
         "(not set) / shorturl",
         "azure / aws / gcc",
         9876605,
         "click",
         "smoke_test",
         "Customer",
         156,
         409516064,
         "2025-09-02T19:10:97"
        ],
        [
         "2025-10-27",
         "shop.sony.bpl",
         "mobile",
         "wifi-network",
         "email / email",
         "azure / aws / gcc",
         9876606,
         "click",
         "smoke_test",
         "Customer",
         157,
         409516064,
         "2025-09-02T19:10:98"
        ],
        [
         "2025-10-28",
         "shop.sony.bpl",
         "mobile",
         "wifi-network",
         "meta.com / referral",
         "azure / aws / gcc",
         9876607,
         "click",
         "smoke_test",
         "Customer",
         158,
         409516064,
         "2025-09-02T19:10:99"
        ],
        [
         "2025-10-29",
         "shop.sony.bpl",
         "mobile",
         "wifi-network",
         "email / email",
         "azure / aws / gcc",
         9876608,
         "click",
         "smoke_test",
         "Customer",
         159,
         409516064,
         "2025-09-02T19:10:100"
        ],
        [
         "2025-10-30",
         "shop.sony.bpl",
         "mobile",
         "wifi-network",
         "(not set)",
         "azure / aws / gcc",
         9876609,
         "click",
         "smoke_test",
         "Customer",
         160,
         409516064,
         "2025-09-02T19:10:101"
        ],
        [
         "2025-10-31",
         "shop.sony.bpl",
         "mobile",
         "wifi-network",
         "(not set)",
         "azure / aws / gcc",
         9876610,
         "search",
         "smoke_test",
         "Customer",
         161,
         409516064,
         "2025-09-02T19:10:102"
        ],
        [
         "2025-11-01",
         "shop.sony.bpl",
         "mobile",
         "wifi-network",
         "instagram / organic",
         "azure / aws / gcc",
         9876611,
         "search",
         "smoke_test",
         "Customer",
         85,
         409516064,
         "2025-09-02T19:10:103"
        ],
        [
         "2025-11-02",
         "shop.sony.bpl",
         "mobile",
         "wifi-network",
         "amazon.se / referral",
         "azure / aws / gcc",
         9876612,
         "search",
         "scroll",
         "Customer",
         86,
         409516064,
         "2025-09-02T19:10:104"
        ],
        [
         "2025-11-03",
         "shop.sony.bpl",
         "mobile",
         "wifi-network",
         "(data not available)",
         "azure / aws / gcc",
         9876613,
         "add_to_cart",
         "scroll",
         "Audit",
         87,
         409516064,
         "2025-09-02T19:10:105"
        ],
        [
         "2025-11-04",
         "shop.sony.bpl",
         "mobile",
         "wifi-network",
         "flipkart / referral",
         "azure / aws / gcc",
         9876614,
         "add_to_cart",
         "scroll",
         "Audit",
         88,
         409516064,
         "2025-09-02T19:10:106"
        ],
        [
         "2025-11-05",
         "shop.sony.bpl",
         "mobile",
         "wifi-network",
         "instagram / organic",
         "azure / aws / gcc",
         9876615,
         "add_to_cart",
         "scroll",
         "Audit",
         89,
         409516064,
         "2025-09-02T19:10:107"
        ],
        [
         "2025-11-06",
         "shop.sony.bpl",
         "mobile",
         "wifi-network",
         "(direct) / (none)",
         "azure / aws / gcc",
         9876616,
         "add_to_cart",
         "scroll",
         "Audit",
         41,
         409516064,
         "2025-09-02T19:10:108"
        ],
        [
         "2025-11-07",
         "shop.sony.bpl",
         "mobile",
         "wifi-network",
         "github.com / referral",
         "azure / aws / gcc",
         9876617,
         "add_to_cart",
         "organic",
         "Audit",
         42,
         409516064,
         "2025-09-02T19:10:109"
        ],
        [
         "2025-11-08",
         "shop.sony.bpl",
         "mobile",
         "wifi-network",
         "instagram / organic",
         "azure / aws / gcc",
         9876618,
         "add_to_cart",
         "organic",
         "Audit",
         43,
         409516064,
         "2025-09-02T19:10:110"
        ],
        [
         "2025-11-09",
         "shop.sony.bpl",
         "mobile",
         "wifi-network",
         "(not set)",
         "azure / aws / gcc",
         9876619,
         "search",
         "organic",
         "Audit",
         44,
         409516064,
         "2025-09-02T19:10:111"
        ],
        [
         "2025-11-10",
         "shop.sony.bpl",
         "mobile",
         "wifi-network",
         "(not set)",
         "azure / aws / gcc",
         9876620,
         "search",
         "drag",
         "Audit",
         45,
         409516064,
         "2025-09-02T19:10:112"
        ],
        [
         "2025-11-11",
         "shop.sony.bpl",
         "mobile",
         "wifi-network",
         "(none) / (direct)",
         "azure / aws / gcc",
         9876621,
         "search",
         "drag",
         "Audit",
         46,
         409516064,
         "2025-09-02T19:10:113"
        ],
        [
         "2025-11-12",
         "shop.sony.bpl",
         "mobile",
         "wifi-network",
         "flipkart / referral",
         "azure / aws / gcc",
         9876622,
         "session_start",
         "drag",
         "Audit",
         47,
         409516064,
         "2025-09-02T19:10:114"
        ],
        [
         "2025-11-13",
         "shop.sony.bpl",
         "mobile",
         "wifi-network",
         "email / email",
         "azure / aws / gcc",
         9876623,
         "session_start",
         "scroll",
         "Audit",
         48,
         409516064,
         "2025-09-02T19:10:115"
        ],
        [
         "2025-11-14",
         "shop.sony.bpl",
         "mobile",
         "wifi-network",
         "TTD / video",
         "azure / aws / gcc",
         9876624,
         "session_start",
         "scroll",
         "Audit",
         49,
         409516064,
         "2025-09-02T19:10:116"
        ],
        [
         "2025-11-15",
         "shop.sony.bpl",
         "mobile",
         "wifi-network",
         "(data not available)",
         "azure / aws / gcc",
         9876625,
         "first_visit",
         "scroll",
         "Audit",
         31,
         409516064,
         "2025-09-02T19:10:117"
        ],
        [
         "2025-11-16",
         "shop.sony.bpl",
         "mobile",
         "wifi-network",
         "(direct) / (none)",
         "azure / aws / gcc",
         9876626,
         "click",
         "scroll",
         "Audit",
         32,
         409516064,
         "2025-09-02T19:10:118"
        ],
        [
         "2025-11-17",
         "shop.sony.bpl",
         "mobile",
         "wifi-network",
         "(direct) / (none)",
         "azure / aws / gcc",
         9876627,
         "click",
         "scroll",
         "Audit",
         33,
         409516064,
         "2025-09-02T19:10:119"
        ],
        [
         "2025-11-18",
         "shop.sony.bpl",
         "mobile",
         "wifi-network",
         "flipkart / referral",
         "azure / aws / gcc",
         9876628,
         "click",
         "scroll",
         "Audit",
         34,
         409516064,
         "2025-09-02T19:10:120"
        ],
        [
         "2025-11-19",
         "shop.sony.bpl",
         "mobile",
         "wifi-network",
         "(none) / (direct)",
         "azure / aws / gcc",
         9876629,
         "click",
         "referral",
         "Audit",
         35,
         409516064,
         "2025-09-02T19:10:121"
        ],
        [
         "2025-11-20",
         "shop.sony.bpl",
         "mobile",
         "wifi-network",
         "brochure / shorturl",
         "azure / aws / gcc",
         9876630,
         "session_start",
         "direct",
         "Marketing",
         36,
         409516064,
         "2025-09-02T19:10:122"
        ],
        [
         "2025-11-21",
         "shop.sony.bpl",
         "mobile",
         "wifi-network",
         "(not set)",
         "azure / aws / gcc",
         9876631,
         "session_start",
         "direct",
         "Marketing",
         37,
         409516064,
         "2025-09-02T19:10:123"
        ],
        [
         "2025-11-22",
         "shop.sony.bpl",
         "mobile",
         "wifi-network",
         "(data not available)",
         "azure / aws / gcc",
         9876632,
         "session_start",
         "direct",
         "Marketing",
         38,
         409516064,
         "2025-09-02T19:10:124"
        ],
        [
         "2025-11-23",
         "shop.sony.bpl",
         "mobile",
         "wifi-network",
         "brochure / shorturl",
         "azure / aws / gcc",
         9876633,
         "session_start",
         "direct",
         "Marketing",
         39,
         409516064,
         "2025-09-02T19:10:125"
        ],
        [
         "2025-11-24",
         "shop.sony.bpl",
         "mobile",
         "wifi-network",
         "brochure / shorturl",
         "azure / aws / gcc",
         9876634,
         "session_start",
         "direct",
         "Marketing",
         40,
         409516064,
         "2025-09-02T19:10:126"
        ],
        [
         "2025-11-25",
         "shop.sony.bpl",
         "mobile",
         "wifi-network",
         "(not set)",
         "azure / aws / gcc",
         9876635,
         "session_start",
         "direct",
         "Marketing",
         28,
         409516064,
         "2025-09-02T19:10:127"
        ],
        [
         "2025-11-26",
         "shop.sony.bpl",
         "mobile",
         "wifi-network",
         "(not set)",
         "azure / aws / gcc",
         9876636,
         "session_start",
         "referral",
         "Marketing",
         27,
         409516064,
         "2025-09-02T19:10:128"
        ],
        [
         "2025-11-27",
         "shop.sony.bpl",
         "mobile",
         "wifi-network",
         "fb / paid",
         "azure / aws / gcc",
         9876637,
         "session_start",
         "referral",
         "Marketing",
         26,
         409516064,
         "2025-09-02T19:10:129"
        ],
        [
         "2025-11-28",
         "shop.sony.bpl",
         "mobile",
         "wifi-network",
         "(direct) / (none)",
         "azure / aws / gcc",
         9876638,
         "session_start",
         "referral",
         "Marketing",
         84,
         409516064,
         "2025-09-02T19:10:130"
        ],
        [
         "2025-11-29",
         "shop.sony.bpl",
         "mobile",
         "wifi-network",
         "(direct) / (none)",
         "azure / aws / gcc",
         9876639,
         "session_start",
         "referral",
         "Marketing",
         83,
         409516064,
         "2025-09-02T19:10:131"
        ],
        [
         "2025-11-30",
         "shop.sony.bpl",
         "mobile",
         "wifi-network",
         "(data not available)",
         "azure / aws / gcc",
         9876640,
         "session_start",
         "referral",
         "Marketing",
         82,
         409516064,
         "2025-09-02T19:10:132"
        ],
        [
         "2025-12-01",
         "shop.sony.bpl",
         "mobile",
         "wifi-network",
         "fb / paid",
         "azure / aws / gcc",
         9876641,
         "session_start",
         "organic",
         "Marketing",
         81,
         409516064,
         "2025-09-02T19:10:133"
        ],
        [
         "2025-12-02",
         "shop.sony.bpl",
         "mobile",
         "wifi-network",
         "fb / paid",
         "azure / aws / gcc",
         9876642,
         "session_start",
         "organic",
         "Marketing",
         29,
         409516064,
         "2025-09-02T19:10:134"
        ]
       ],
       "datasetInfos": [],
       "dbfsResultPath": null,
       "isJsonSchema": true,
       "metadata": {},
       "overflow": false,
       "plotOptions": {
        "customPlotOptions": {},
        "displayType": "table",
        "pivotAggregation": null,
        "pivotColumns": null,
        "xColumns": null,
        "yColumns": null
       },
       "removedWidgets": [],
       "schema": [
        {
         "metadata": "{\"__detected_date_formats\": \"d-M-yyyy\"}",
         "name": "start_date",
         "type": "\"date\""
        },
        {
         "metadata": "{}",
         "name": "product_url",
         "type": "\"string\""
        },
        {
         "metadata": "{}",
         "name": "category",
         "type": "\"string\""
        },
        {
         "metadata": "{}",
         "name": "default_group",
         "type": "\"string\""
        },
        {
         "metadata": "{}",
         "name": "source_target",
         "type": "\"string\""
        },
        {
         "metadata": "{}",
         "name": "cloud_flatform",
         "type": "\"string\""
        },
        {
         "metadata": "{}",
         "name": "session_id",
         "type": "\"integer\""
        },
        {
         "metadata": "{}",
         "name": "session_name",
         "type": "\"string\""
        },
        {
         "metadata": "{}",
         "name": "status_name",
         "type": "\"string\""
        },
        {
         "metadata": "{}",
         "name": "status_type",
         "type": "\"string\""
        },
        {
         "metadata": "{}",
         "name": "sessions",
         "type": "\"integer\""
        },
        {
         "metadata": "{}",
         "name": "product_id",
         "type": "\"integer\""
        },
        {
         "metadata": "{}",
         "name": "load datetime",
         "type": "\"string\""
        }
       ],
       "type": "table"
      }
     },
     "output_type": "display_data"
    }
   ],
   "source": [
    "df = spark.read.csv(\"/Volumes/@azureadb/pyspark/unionby/company_level.csv\", header=True, inferSchema=True)\n",
    "display(df)"
   ]
  },
  {
   "cell_type": "code",
   "execution_count": 0,
   "metadata": {
    "application/vnd.databricks.v1+cell": {
     "cellMetadata": {
      "byteLimit": 2048000,
      "rowLimit": 10000
     },
     "inputWidgets": {},
     "nuid": "700b1402-a478-494a-9fa2-3e1d85984cf0",
     "showTitle": false,
     "tableResultSettingsMap": {},
     "title": ""
    }
   },
   "outputs": [
    {
     "output_type": "stream",
     "name": "stdout",
     "output_type": "stream",
     "text": [
      "['Not Available', 'Not Available', 'Not Available', 'Not Available', 'Not Available', 'Not Available', 'Not Available', 'Not Available', 'Not Available', 'Not Available', 'Not Available', 'Not Available', 'Not Available', 'Not Available', 'Checkout', 'Checkout', 'Checkout', 'Checkout', 'Checkout', 'Checkout', 'Checkout', 'Checkout', 'Checkout', 'Checkout', 'Checkout', 'Checkout', 'Checkout', 'Checkout', 'Subscribe', 'Subscribe', 'Subscribe', 'Subscribe', 'Subscribe', 'Subscribe', 'Subscribe', 'Subscribe', 'Subscribe', 'Subscribe', 'Search', 'Search', 'Search', 'Search', 'Search', 'Search', 'Search', 'Search', 'Search', 'Autocomplete', 'Autocomplete', 'Autocomplete', 'Autocomplete', 'Autocomplete', 'Autocomplete', 'Autocomplete', 'Autocomplete', 'Autocomplete', 'Autocomplete', 'Autocomplete', 'Customer', 'Customer', 'Customer', 'Customer', 'Customer', 'Customer', 'Customer', 'Customer', 'Customer', 'Customer', 'Customer', 'Customer', 'Audit', 'Audit', 'Audit', 'Audit', 'Audit', 'Audit', 'Audit', 'Audit', 'Audit', 'Audit', 'Audit', 'Audit', 'Audit', 'Audit', 'Audit', 'Audit', 'Audit', 'Marketing', 'Marketing', 'Marketing', 'Marketing', 'Marketing', 'Marketing', 'Marketing', 'Marketing', 'Marketing', 'Marketing', 'Marketing', 'Marketing', 'Marketing']\n"
     ]
    }
   ],
   "source": [
    "# Convert a column into a Python list\n",
    "values_list = [row[\"status_type\"] for row in df.select(\"status_type\").collect()]\n",
    "print(values_list)"
   ]
  },
  {
   "cell_type": "markdown",
   "metadata": {
    "application/vnd.databricks.v1+cell": {
     "cellMetadata": {},
     "inputWidgets": {},
     "nuid": "a65ee5e9-b9b0-4115-86c4-e94da1cbd2b2",
     "showTitle": false,
     "tableResultSettingsMap": {},
     "title": ""
    }
   },
   "source": [
    "- **df.select(\"column_name\")** → selects only the **status_type** column from the DataFrame.\n",
    "\n",
    "- **.collect()** → brings **all rows** of the **selected column** to the **driver** as a **list of Row objects**.\n",
    "\n",
    "- The list comprehension **[row[\"status_type\"] for row in ...]** extracts the value of **status_type** from **each Row** and creates a **Python list**.\n",
    "\n",
    "**When to use which method:**\n",
    "- **.collect()** should only be used for **small datasets**, as it loads **all data** into the **driver’s memory**.\n",
    "- For **small datasets** where you need the **entire column** as a **Python list on the driver**, collect() with **list comprehension or toPandas()** are convenient.\n",
    "- For **large datasets**, avoid **.collect() or .toPandas()**.\n",
    "- For **larger datasets**, especially when you need to perform further operations within Spark, using **collect_list() or collect_set()** for **aggregation** is more efficient as the operation remains distributed.\n",
    "- Instead, try to work in **Spark** directly without converting to a Python list, or use **take(n)** if you only need a sample."
   ]
  },
  {
   "cell_type": "markdown",
   "metadata": {
    "application/vnd.databricks.v1+cell": {
     "cellMetadata": {},
     "inputWidgets": {},
     "nuid": "7b32dbd3-9932-4e83-8b94-19c657a23349",
     "showTitle": false,
     "tableResultSettingsMap": {},
     "title": ""
    }
   },
   "source": [
    "##### 2) Getting only distinct values\n",
    "- **.distinct()** removes **duplicates** before collecting."
   ]
  },
  {
   "cell_type": "code",
   "execution_count": 0,
   "metadata": {
    "application/vnd.databricks.v1+cell": {
     "cellMetadata": {
      "byteLimit": 2048000,
      "rowLimit": 10000
     },
     "inputWidgets": {},
     "nuid": "a1282315-0e80-4cdd-b211-799518d648ce",
     "showTitle": false,
     "tableResultSettingsMap": {},
     "title": ""
    }
   },
   "outputs": [
    {
     "output_type": "stream",
     "name": "stdout",
     "output_type": "stream",
     "text": [
      "['Not Available', 'Search', 'Checkout', 'Subscribe', 'Marketing', 'Autocomplete', 'Customer', 'Audit']\n"
     ]
    }
   ],
   "source": [
    "distinct_list = [row[\"status_type\"] for row in df.select(\"status_type\").distinct().collect()]\n",
    "print(distinct_list)"
   ]
  },
  {
   "cell_type": "markdown",
   "metadata": {
    "application/vnd.databricks.v1+cell": {
     "cellMetadata": {},
     "inputWidgets": {},
     "nuid": "9d307d26-874d-4c62-97c8-25680530c5a3",
     "showTitle": false,
     "tableResultSettingsMap": {},
     "title": ""
    }
   },
   "source": [
    "##### 3) Using toPandas() (not recommended for large datasets)"
   ]
  },
  {
   "cell_type": "code",
   "execution_count": 0,
   "metadata": {
    "application/vnd.databricks.v1+cell": {
     "cellMetadata": {
      "byteLimit": 2048000,
      "rowLimit": 10000
     },
     "inputWidgets": {},
     "nuid": "7b9c1b29-2f79-49ae-bfb9-74325ecfd679",
     "showTitle": false,
     "tableResultSettingsMap": {},
     "title": ""
    }
   },
   "outputs": [
    {
     "output_type": "stream",
     "name": "stdout",
     "output_type": "stream",
     "text": [
      "['Not Available', 'Not Available', 'Not Available', 'Not Available', 'Not Available', 'Not Available', 'Not Available', 'Not Available', 'Not Available', 'Not Available', 'Not Available', 'Not Available', 'Not Available', 'Not Available', 'Checkout', 'Checkout', 'Checkout', 'Checkout', 'Checkout', 'Checkout', 'Checkout', 'Checkout', 'Checkout', 'Checkout', 'Checkout', 'Checkout', 'Checkout', 'Checkout', 'Subscribe', 'Subscribe', 'Subscribe', 'Subscribe', 'Subscribe', 'Subscribe', 'Subscribe', 'Subscribe', 'Subscribe', 'Subscribe', 'Search', 'Search', 'Search', 'Search', 'Search', 'Search', 'Search', 'Search', 'Search', 'Autocomplete', 'Autocomplete', 'Autocomplete', 'Autocomplete', 'Autocomplete', 'Autocomplete', 'Autocomplete', 'Autocomplete', 'Autocomplete', 'Autocomplete', 'Autocomplete', 'Customer', 'Customer', 'Customer', 'Customer', 'Customer', 'Customer', 'Customer', 'Customer', 'Customer', 'Customer', 'Customer', 'Customer', 'Audit', 'Audit', 'Audit', 'Audit', 'Audit', 'Audit', 'Audit', 'Audit', 'Audit', 'Audit', 'Audit', 'Audit', 'Audit', 'Audit', 'Audit', 'Audit', 'Audit', 'Marketing', 'Marketing', 'Marketing', 'Marketing', 'Marketing', 'Marketing', 'Marketing', 'Marketing', 'Marketing', 'Marketing', 'Marketing', 'Marketing', 'Marketing']\n"
     ]
    }
   ],
   "source": [
    "values_list = df.select(\"status_type\").toPandas()[\"status_type\"].tolist()\n",
    "print(values_list)"
   ]
  },
  {
   "cell_type": "markdown",
   "metadata": {
    "application/vnd.databricks.v1+cell": {
     "cellMetadata": {},
     "inputWidgets": {},
     "nuid": "08a4b11c-bce6-40da-9ed2-2d6e086757bd",
     "showTitle": false,
     "tableResultSettingsMap": {},
     "title": ""
    }
   },
   "source": [
    "- Converts **DataFrame to Pandas**, then uses Pandas **.tolist()**.\n",
    "- Works but requires **memory to fit** the whole DataFrame on the **driver**."
   ]
  },
  {
   "cell_type": "markdown",
   "metadata": {
    "application/vnd.databricks.v1+cell": {
     "cellMetadata": {},
     "inputWidgets": {},
     "nuid": "55b9f98b-3d4c-4ad0-923b-51b052145b60",
     "showTitle": false,
     "tableResultSettingsMap": {},
     "title": ""
    }
   },
   "source": [
    "##### 4) Using collect_list() or collect_set() (for aggregation)\n",
    "- collect_list() (with duplicates)\n",
    "- collect_set() (unique values)"
   ]
  },
  {
   "cell_type": "code",
   "execution_count": 0,
   "metadata": {
    "application/vnd.databricks.v1+cell": {
     "cellMetadata": {
      "byteLimit": 2048000,
      "rowLimit": 10000
     },
     "inputWidgets": {},
     "nuid": "6ed2f061-a85b-4eb4-bf24-00b928f57d34",
     "showTitle": false,
     "tableResultSettingsMap": {},
     "title": ""
    }
   },
   "outputs": [
    {
     "output_type": "display_data",
     "data": {
      "text/html": [
       "<style scoped>\n",
       "  .table-result-container {\n",
       "    max-height: 300px;\n",
       "    overflow: auto;\n",
       "  }\n",
       "  table, th, td {\n",
       "    border: 1px solid black;\n",
       "    border-collapse: collapse;\n",
       "  }\n",
       "  th, td {\n",
       "    padding: 5px;\n",
       "  }\n",
       "  th {\n",
       "    text-align: left;\n",
       "  }\n",
       "</style><div class='table-result-container'><table class='table-result'><thead style='background-color: white'><tr><th>Category</th><th>Value</th></tr></thead><tbody><tr><td>A</td><td>1</td></tr><tr><td>A</td><td>1</td></tr><tr><td>A</td><td>2</td></tr><tr><td>B</td><td>3</td></tr><tr><td>B</td><td>1</td></tr><tr><td>C</td><td>1</td></tr><tr><td>C</td><td>2</td></tr><tr><td>C</td><td>2</td></tr><tr><td>C</td><td>3</td></tr><tr><td>C</td><td>3</td></tr><tr><td>D</td><td>2</td></tr><tr><td>D</td><td>3</td></tr><tr><td>D</td><td>3</td></tr><tr><td>E</td><td>1</td></tr><tr><td>E</td><td>2</td></tr><tr><td>E</td><td>2</td></tr></tbody></table></div>"
      ]
     },
     "metadata": {
      "application/vnd.databricks.v1+output": {
       "addedWidgets": {},
       "aggData": [],
       "aggError": "",
       "aggOverflow": false,
       "aggSchema": [],
       "aggSeriesLimitReached": false,
       "aggType": "",
       "arguments": {},
       "columnCustomDisplayInfos": {},
       "data": [
        [
         "A",
         1
        ],
        [
         "A",
         1
        ],
        [
         "A",
         2
        ],
        [
         "B",
         3
        ],
        [
         "B",
         1
        ],
        [
         "C",
         1
        ],
        [
         "C",
         2
        ],
        [
         "C",
         2
        ],
        [
         "C",
         3
        ],
        [
         "C",
         3
        ],
        [
         "D",
         2
        ],
        [
         "D",
         3
        ],
        [
         "D",
         3
        ],
        [
         "E",
         1
        ],
        [
         "E",
         2
        ],
        [
         "E",
         2
        ]
       ],
       "datasetInfos": [],
       "dbfsResultPath": null,
       "isJsonSchema": true,
       "metadata": {},
       "overflow": false,
       "plotOptions": {
        "customPlotOptions": {},
        "displayType": "table",
        "pivotAggregation": null,
        "pivotColumns": null,
        "xColumns": null,
        "yColumns": null
       },
       "removedWidgets": [],
       "schema": [
        {
         "metadata": "{}",
         "name": "Category",
         "type": "\"string\""
        },
        {
         "metadata": "{}",
         "name": "Value",
         "type": "\"long\""
        }
       ],
       "type": "table"
      }
     },
     "output_type": "display_data"
    }
   ],
   "source": [
    "from pyspark.sql import functions as F\n",
    "\n",
    "data = [(\"A\", 1), (\"A\", 1), (\"A\", 2), (\"B\", 3), (\"B\", 1), (\"C\", 1), (\"C\", 2), (\"C\", 2), (\"C\", 3), (\"C\", 3), (\"D\", 2), (\"D\", 3), (\"D\", 3), (\"E\", 1), (\"E\", 2), (\"E\", 2)]\n",
    "\n",
    "df = spark.createDataFrame(data, [\"Category\", \"Value\"])\n",
    "display(df)"
   ]
  },
  {
   "cell_type": "code",
   "execution_count": 0,
   "metadata": {
    "application/vnd.databricks.v1+cell": {
     "cellMetadata": {
      "byteLimit": 2048000,
      "rowLimit": 10000
     },
     "inputWidgets": {},
     "nuid": "f8ed29d3-e0fa-46a3-bf03-cfc38e3a5966",
     "showTitle": false,
     "tableResultSettingsMap": {},
     "title": ""
    }
   },
   "outputs": [
    {
     "output_type": "display_data",
     "data": {
      "text/html": [
       "<style scoped>\n",
       "  .table-result-container {\n",
       "    max-height: 300px;\n",
       "    overflow: auto;\n",
       "  }\n",
       "  table, th, td {\n",
       "    border: 1px solid black;\n",
       "    border-collapse: collapse;\n",
       "  }\n",
       "  th, td {\n",
       "    padding: 5px;\n",
       "  }\n",
       "  th {\n",
       "    text-align: left;\n",
       "  }\n",
       "</style><div class='table-result-container'><table class='table-result'><thead style='background-color: white'><tr><th>Category</th><th>ValueList</th></tr></thead><tbody><tr><td>A</td><td>List(1, 1, 2)</td></tr><tr><td>B</td><td>List(3, 1)</td></tr><tr><td>C</td><td>List(1, 2, 2, 3, 3)</td></tr><tr><td>D</td><td>List(2, 3, 3)</td></tr><tr><td>E</td><td>List(1, 2, 2)</td></tr></tbody></table></div>"
      ]
     },
     "metadata": {
      "application/vnd.databricks.v1+output": {
       "addedWidgets": {},
       "aggData": [],
       "aggError": "",
       "aggOverflow": false,
       "aggSchema": [],
       "aggSeriesLimitReached": false,
       "aggType": "",
       "arguments": {},
       "columnCustomDisplayInfos": {},
       "data": [
        [
         "A",
         [
          1,
          1,
          2
         ]
        ],
        [
         "B",
         [
          3,
          1
         ]
        ],
        [
         "C",
         [
          1,
          2,
          2,
          3,
          3
         ]
        ],
        [
         "D",
         [
          2,
          3,
          3
         ]
        ],
        [
         "E",
         [
          1,
          2,
          2
         ]
        ]
       ],
       "datasetInfos": [],
       "dbfsResultPath": null,
       "isJsonSchema": true,
       "metadata": {},
       "overflow": false,
       "plotOptions": {
        "customPlotOptions": {},
        "displayType": "table",
        "pivotAggregation": null,
        "pivotColumns": null,
        "xColumns": null,
        "yColumns": null
       },
       "removedWidgets": [],
       "schema": [
        {
         "metadata": "{}",
         "name": "Category",
         "type": "\"string\""
        },
        {
         "metadata": "{}",
         "name": "ValueList",
         "type": "{\"containsNull\":false,\"elementType\":\"long\",\"type\":\"array\"}"
        }
       ],
       "type": "table"
      }
     },
     "output_type": "display_data"
    }
   ],
   "source": [
    "# Collect values into a list for each category\n",
    "df_collected = df.groupBy(\"Category\").agg(F.collect_list(\"Value\").alias(\"ValueList\"))\n",
    "df_collected.display()"
   ]
  },
  {
   "cell_type": "code",
   "execution_count": 0,
   "metadata": {
    "application/vnd.databricks.v1+cell": {
     "cellMetadata": {
      "byteLimit": 2048000,
      "rowLimit": 10000
     },
     "inputWidgets": {},
     "nuid": "89caf2af-35b2-4432-881c-64dfe4efc41b",
     "showTitle": false,
     "tableResultSettingsMap": {},
     "title": ""
    }
   },
   "outputs": [
    {
     "output_type": "display_data",
     "data": {
      "text/html": [
       "<style scoped>\n",
       "  .table-result-container {\n",
       "    max-height: 300px;\n",
       "    overflow: auto;\n",
       "  }\n",
       "  table, th, td {\n",
       "    border: 1px solid black;\n",
       "    border-collapse: collapse;\n",
       "  }\n",
       "  th, td {\n",
       "    padding: 5px;\n",
       "  }\n",
       "  th {\n",
       "    text-align: left;\n",
       "  }\n",
       "</style><div class='table-result-container'><table class='table-result'><thead style='background-color: white'><tr><th>Category</th><th>UniqueValueList</th></tr></thead><tbody><tr><td>A</td><td>List(1, 2)</td></tr><tr><td>B</td><td>List(3, 1)</td></tr><tr><td>C</td><td>List(1, 2, 3)</td></tr><tr><td>D</td><td>List(2, 3)</td></tr><tr><td>E</td><td>List(1, 2)</td></tr></tbody></table></div>"
      ]
     },
     "metadata": {
      "application/vnd.databricks.v1+output": {
       "addedWidgets": {},
       "aggData": [],
       "aggError": "",
       "aggOverflow": false,
       "aggSchema": [],
       "aggSeriesLimitReached": false,
       "aggType": "",
       "arguments": {},
       "columnCustomDisplayInfos": {},
       "data": [
        [
         "A",
         [
          1,
          2
         ]
        ],
        [
         "B",
         [
          3,
          1
         ]
        ],
        [
         "C",
         [
          1,
          2,
          3
         ]
        ],
        [
         "D",
         [
          2,
          3
         ]
        ],
        [
         "E",
         [
          1,
          2
         ]
        ]
       ],
       "datasetInfos": [],
       "dbfsResultPath": null,
       "isJsonSchema": true,
       "metadata": {},
       "overflow": false,
       "plotOptions": {
        "customPlotOptions": {},
        "displayType": "table",
        "pivotAggregation": null,
        "pivotColumns": null,
        "xColumns": null,
        "yColumns": null
       },
       "removedWidgets": [],
       "schema": [
        {
         "metadata": "{}",
         "name": "Category",
         "type": "\"string\""
        },
        {
         "metadata": "{}",
         "name": "UniqueValueList",
         "type": "{\"containsNull\":false,\"elementType\":\"long\",\"type\":\"array\"}"
        }
       ],
       "type": "table"
      }
     },
     "output_type": "display_data"
    }
   ],
   "source": [
    "# Collect unique values into a list for each category\n",
    "df_collected_set = df.groupBy(\"Category\").agg(F.collect_set(\"Value\").alias(\"UniqueValueList\"))\n",
    "df_collected_set.display()"
   ]
  },
  {
   "cell_type": "markdown",
   "metadata": {
    "application/vnd.databricks.v1+cell": {
     "cellMetadata": {},
     "inputWidgets": {},
     "nuid": "cf369e17-369d-413b-a6c7-2a6c2063d577",
     "showTitle": false,
     "tableResultSettingsMap": {},
     "title": ""
    }
   },
   "source": [
    "##### 5) Using .rdd.flatMap()\n",
    "\n",
    "- This avoids explicit **list comprehension** and works with **Spark’s RDD**"
   ]
  },
  {
   "cell_type": "code",
   "execution_count": 0,
   "metadata": {
    "application/vnd.databricks.v1+cell": {
     "cellMetadata": {
      "byteLimit": 2048000,
      "rowLimit": 10000
     },
     "inputWidgets": {},
     "nuid": "c4a43ff7-8b8c-4fcf-af5c-475bf09ba5e4",
     "showTitle": false,
     "tableResultSettingsMap": {},
     "title": ""
    }
   },
   "outputs": [
    {
     "output_type": "display_data",
     "data": {
      "text/plain": [
       "\u001B[0;31m---------------------------------------------------------------------------\u001B[0m\n",
       "\u001B[0;31mPySparkNotImplementedError\u001B[0m                Traceback (most recent call last)\n",
       "File \u001B[0;32m<command-5983335820974137>, line 1\u001B[0m\n",
       "\u001B[0;32m----> 1\u001B[0m values_list \u001B[38;5;241m=\u001B[39m df\u001B[38;5;241m.\u001B[39mselect(\u001B[38;5;124m\"\u001B[39m\u001B[38;5;124mstatus_type\u001B[39m\u001B[38;5;124m\"\u001B[39m)\u001B[38;5;241m.\u001B[39mrdd\u001B[38;5;241m.\u001B[39mflatMap(\u001B[38;5;28;01mlambda\u001B[39;00m x: x)\u001B[38;5;241m.\u001B[39mcollect()\n",
       "\u001B[1;32m      2\u001B[0m \u001B[38;5;28mprint\u001B[39m(values_list)\n",
       "\n",
       "File \u001B[0;32m/databricks/python/lib/python3.12/site-packages/pyspark/sql/connect/dataframe.py:2330\u001B[0m, in \u001B[0;36mDataFrame.rdd\u001B[0;34m(self)\u001B[0m\n",
       "\u001B[1;32m   2328\u001B[0m \u001B[38;5;129m@property\u001B[39m\n",
       "\u001B[1;32m   2329\u001B[0m \u001B[38;5;28;01mdef\u001B[39;00m \u001B[38;5;21mrdd\u001B[39m(\u001B[38;5;28mself\u001B[39m) \u001B[38;5;241m-\u001B[39m\u001B[38;5;241m>\u001B[39m \u001B[38;5;124m\"\u001B[39m\u001B[38;5;124mRDD[Row]\u001B[39m\u001B[38;5;124m\"\u001B[39m:\n",
       "\u001B[0;32m-> 2330\u001B[0m     \u001B[38;5;28;01mraise\u001B[39;00m PySparkNotImplementedError(\n",
       "\u001B[1;32m   2331\u001B[0m         errorClass\u001B[38;5;241m=\u001B[39m\u001B[38;5;124m\"\u001B[39m\u001B[38;5;124mNOT_IMPLEMENTED\u001B[39m\u001B[38;5;124m\"\u001B[39m,\n",
       "\u001B[1;32m   2332\u001B[0m         messageParameters\u001B[38;5;241m=\u001B[39m{\u001B[38;5;124m\"\u001B[39m\u001B[38;5;124mfeature\u001B[39m\u001B[38;5;124m\"\u001B[39m: \u001B[38;5;124m\"\u001B[39m\u001B[38;5;124mrdd\u001B[39m\u001B[38;5;124m\"\u001B[39m},\n",
       "\u001B[1;32m   2333\u001B[0m     )\n",
       "\n",
       "\u001B[0;31mPySparkNotImplementedError\u001B[0m: [NOT_IMPLEMENTED] Using custom code using PySpark RDDs is not allowed on serverless compute. We suggest using mapInPandas or mapInArrow for the most common use cases. For more details on compatibility and limitations, check: https://docs.databricks.com/release-notes/serverless.html#limitations"
      ]
     },
     "metadata": {
      "application/vnd.databricks.v1+output": {
       "addedWidgets": {},
       "arguments": {},
       "datasetInfos": [],
       "jupyterProps": {
        "ename": "PySparkNotImplementedError",
        "evalue": "[NOT_IMPLEMENTED] Using custom code using PySpark RDDs is not allowed on serverless compute. We suggest using mapInPandas or mapInArrow for the most common use cases. For more details on compatibility and limitations, check: https://docs.databricks.com/release-notes/serverless.html#limitations"
       },
       "metadata": {
        "errorSummary": "[NOT_IMPLEMENTED] Using custom code using PySpark RDDs is not allowed on serverless compute. We suggest using mapInPandas or mapInArrow for the most common use cases. For more details on compatibility and limitations, check: https://docs.databricks.com/release-notes/serverless.html#limitations"
       },
       "removedWidgets": [],
       "sqlProps": {
        "breakingChangeInfo": null,
        "errorClass": "NOT_IMPLEMENTED",
        "pysparkCallSite": "",
        "pysparkFragment": "",
        "pysparkSummary": "",
        "sqlState": null,
        "stackTrace": null,
        "startIndex": null,
        "stopIndex": null
       },
       "stackFrames": [
        "\u001B[0;31m---------------------------------------------------------------------------\u001B[0m",
        "\u001B[0;31mPySparkNotImplementedError\u001B[0m                Traceback (most recent call last)",
        "File \u001B[0;32m<command-5983335820974137>, line 1\u001B[0m\n\u001B[0;32m----> 1\u001B[0m values_list \u001B[38;5;241m=\u001B[39m df\u001B[38;5;241m.\u001B[39mselect(\u001B[38;5;124m\"\u001B[39m\u001B[38;5;124mstatus_type\u001B[39m\u001B[38;5;124m\"\u001B[39m)\u001B[38;5;241m.\u001B[39mrdd\u001B[38;5;241m.\u001B[39mflatMap(\u001B[38;5;28;01mlambda\u001B[39;00m x: x)\u001B[38;5;241m.\u001B[39mcollect()\n\u001B[1;32m      2\u001B[0m \u001B[38;5;28mprint\u001B[39m(values_list)\n",
        "File \u001B[0;32m/databricks/python/lib/python3.12/site-packages/pyspark/sql/connect/dataframe.py:2330\u001B[0m, in \u001B[0;36mDataFrame.rdd\u001B[0;34m(self)\u001B[0m\n\u001B[1;32m   2328\u001B[0m \u001B[38;5;129m@property\u001B[39m\n\u001B[1;32m   2329\u001B[0m \u001B[38;5;28;01mdef\u001B[39;00m \u001B[38;5;21mrdd\u001B[39m(\u001B[38;5;28mself\u001B[39m) \u001B[38;5;241m-\u001B[39m\u001B[38;5;241m>\u001B[39m \u001B[38;5;124m\"\u001B[39m\u001B[38;5;124mRDD[Row]\u001B[39m\u001B[38;5;124m\"\u001B[39m:\n\u001B[0;32m-> 2330\u001B[0m     \u001B[38;5;28;01mraise\u001B[39;00m PySparkNotImplementedError(\n\u001B[1;32m   2331\u001B[0m         errorClass\u001B[38;5;241m=\u001B[39m\u001B[38;5;124m\"\u001B[39m\u001B[38;5;124mNOT_IMPLEMENTED\u001B[39m\u001B[38;5;124m\"\u001B[39m,\n\u001B[1;32m   2332\u001B[0m         messageParameters\u001B[38;5;241m=\u001B[39m{\u001B[38;5;124m\"\u001B[39m\u001B[38;5;124mfeature\u001B[39m\u001B[38;5;124m\"\u001B[39m: \u001B[38;5;124m\"\u001B[39m\u001B[38;5;124mrdd\u001B[39m\u001B[38;5;124m\"\u001B[39m},\n\u001B[1;32m   2333\u001B[0m     )\n",
        "\u001B[0;31mPySparkNotImplementedError\u001B[0m: [NOT_IMPLEMENTED] Using custom code using PySpark RDDs is not allowed on serverless compute. We suggest using mapInPandas or mapInArrow for the most common use cases. For more details on compatibility and limitations, check: https://docs.databricks.com/release-notes/serverless.html#limitations"
       ],
       "type": "baseError"
      }
     },
     "output_type": "display_data"
    }
   ],
   "source": [
    "values_list = df.select(\"status_type\").rdd.flatMap(lambda x: x).collect()\n",
    "print(values_list)"
   ]
  },
  {
   "cell_type": "markdown",
   "metadata": {
    "application/vnd.databricks.v1+cell": {
     "cellMetadata": {},
     "inputWidgets": {},
     "nuid": "899f874b-0046-4aae-8b9e-a200fab8ac56",
     "showTitle": false,
     "tableResultSettingsMap": {},
     "title": ""
    }
   },
   "source": [
    "- **.rdd** → converts the **DataFrame to an RDD**.\n",
    "- **.flatMap(lambda x: x)** → flattens each **row** into a **single value**.\n",
    "- **.collect()** → returns a **Python list**."
   ]
  }
 ],
 "metadata": {
  "application/vnd.databricks.v1+notebook": {
   "computePreferences": {
    "hardware": {
     "accelerator": null,
     "gpuPoolId": null,
     "memory": null
    }
   },
   "dashboards": [],
   "environmentMetadata": {
    "base_environment": "",
    "environment_version": "4"
   },
   "inputWidgetPreferences": null,
   "language": "python",
   "notebookMetadata": {
    "pythonIndentUnit": 4
   },
   "notebookName": "211_How to convert the values of a column into a Python list",
   "widgets": {}
  },
  "language_info": {
   "name": "python"
  }
 },
 "nbformat": 4,
 "nbformat_minor": 0
}