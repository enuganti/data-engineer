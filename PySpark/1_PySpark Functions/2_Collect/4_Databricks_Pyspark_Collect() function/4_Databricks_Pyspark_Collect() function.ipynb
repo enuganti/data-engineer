{
 "cells": [
  {
   "cell_type": "markdown",
   "metadata": {
    "application/vnd.databricks.v1+cell": {
     "cellMetadata": {},
     "inputWidgets": {},
     "nuid": "e8bf1d34-9b16-4f21-8e0c-c70836f3950b",
     "showTitle": false,
     "tableResultSettingsMap": {},
     "title": ""
    }
   },
   "source": [
    "#### **Collect()**: Retrieve data from DataFrame\n",
    "\n",
    "- collect() is an **action** that returns the **entire dataset** in an **Array** to the **Driver**."
   ]
  },
  {
   "cell_type": "markdown",
   "metadata": {
    "application/vnd.databricks.v1+cell": {
     "cellMetadata": {},
     "inputWidgets": {},
     "nuid": "1404cd45-c8be-4c24-bd49-ce080c0c6bd6",
     "showTitle": false,
     "tableResultSettingsMap": {},
     "title": ""
    }
   },
   "source": [
    "- **collect()** is an `action` hence it **doesn't return a Dataframe** instead, it returns `data in an Array to the Driver`. Once the data is in an array, you can use `python for loop` to process it further.\n",
    "\n",
    "- collect() is used to retrieve the action output when you have very **small result set** and calling collect() on an RDD/Dataframe with **bigger result set** causes **out of memory** as it returns the **entire dataset (from all workers) to the driver** hence we should avoid calling collect() on a larger dataset.\n",
    "\n",
    "- Collect() is the function, operation for RDD or Dataframe that is used to retrieve the data from the Dataframe. It is used useful in retrieving all the elements of the row from each partition in an RDD and brings that over the driver node/program."
   ]
  },
  {
   "cell_type": "markdown",
   "metadata": {
    "application/vnd.databricks.v1+cell": {
     "cellMetadata": {},
     "inputWidgets": {},
     "nuid": "f6d15d50-e72a-42f2-baa4-a49bdafd82e3",
     "showTitle": false,
     "tableResultSettingsMap": {},
     "title": ""
    }
   },
   "source": [
    "#### **1) Loop Array in Python**\n",
    "**Collect():** Returns data in an Array to the Driver."
   ]
  },
  {
   "cell_type": "code",
   "execution_count": 0,
   "metadata": {
    "application/vnd.databricks.v1+cell": {
     "cellMetadata": {
      "byteLimit": 2048000,
      "rowLimit": 10000
     },
     "inputWidgets": {},
     "nuid": "310573a8-4a54-4f6a-8ef1-73a8d0fe82fc",
     "showTitle": true,
     "tableResultSettingsMap": {},
     "title": "create sample dataframe"
    }
   },
   "outputs": [
    {
     "output_type": "display_data",
     "data": {
      "text/html": [
       "<style scoped>\n",
       "  .table-result-container {\n",
       "    max-height: 300px;\n",
       "    overflow: auto;\n",
       "  }\n",
       "  table, th, td {\n",
       "    border: 1px solid black;\n",
       "    border-collapse: collapse;\n",
       "  }\n",
       "  th, td {\n",
       "    padding: 5px;\n",
       "  }\n",
       "  th {\n",
       "    text-align: left;\n",
       "  }\n",
       "</style><div class='table-result-container'><table class='table-result'><thead style='background-color: white'><tr><th>dept_name</th><th>dept_id</th><th>Designation</th></tr></thead><tbody><tr><td>Finance</td><td>10</td><td>Manager</td></tr><tr><td>Marketing</td><td>20</td><td>Sr.Manager</td></tr><tr><td>Sales</td><td>30</td><td>Representative</td></tr><tr><td>IT</td><td>40</td><td>Software</td></tr></tbody></table></div>"
      ]
     },
     "metadata": {
      "application/vnd.databricks.v1+output": {
       "addedWidgets": {},
       "aggData": [],
       "aggError": "",
       "aggOverflow": false,
       "aggSchema": [],
       "aggSeriesLimitReached": false,
       "aggType": "",
       "arguments": {},
       "columnCustomDisplayInfos": {},
       "data": [
        [
         "Finance",
         10,
         "Manager"
        ],
        [
         "Marketing",
         20,
         "Sr.Manager"
        ],
        [
         "Sales",
         30,
         "Representative"
        ],
        [
         "IT",
         40,
         "Software"
        ]
       ],
       "datasetInfos": [],
       "dbfsResultPath": null,
       "isJsonSchema": true,
       "metadata": {},
       "overflow": false,
       "plotOptions": {
        "customPlotOptions": {},
        "displayType": "table",
        "pivotAggregation": null,
        "pivotColumns": null,
        "xColumns": null,
        "yColumns": null
       },
       "removedWidgets": [],
       "schema": [
        {
         "metadata": "{}",
         "name": "dept_name",
         "type": "\"string\""
        },
        {
         "metadata": "{}",
         "name": "dept_id",
         "type": "\"long\""
        },
        {
         "metadata": "{}",
         "name": "Designation",
         "type": "\"string\""
        }
       ],
       "type": "table"
      }
     },
     "output_type": "display_data"
    }
   ],
   "source": [
    "data = [(\"Finance\", 10, \"Manager\"), (\"Marketing\", 20, \"Sr.Manager\"), (\"Sales\", 30, \"Representative\"), (\"IT\", 40, \"Software\")]\n",
    "schema = [\"dept_name\", \"dept_id\", \"Designation\"]\n",
    "\n",
    "df = spark.createDataFrame(data, schema)\n",
    "display(df)"
   ]
  },
  {
   "cell_type": "code",
   "execution_count": 0,
   "metadata": {
    "application/vnd.databricks.v1+cell": {
     "cellMetadata": {
      "byteLimit": 2048000,
      "rowLimit": 10000
     },
     "inputWidgets": {},
     "nuid": "4ffe26e9-6c99-4ab2-b890-2a7c59c54e0d",
     "showTitle": true,
     "tableResultSettingsMap": {},
     "title": "Returns the entire dataset in an Array"
    }
   },
   "outputs": [
    {
     "output_type": "execute_result",
     "data": {
      "text/plain": [
       "[Row(dept_name='Finance', dept_id=10, Designation='Manager'),\n",
       " Row(dept_name='Marketing', dept_id=20, Designation='Sr.Manager'),\n",
       " Row(dept_name='Sales', dept_id=30, Designation='Representative'),\n",
       " Row(dept_name='IT', dept_id=40, Designation='Software')]"
      ]
     },
     "execution_count": 55,
     "metadata": {},
     "output_type": "execute_result"
    }
   ],
   "source": [
    "# Returns the entire dataset in an Array\n",
    "# AttributeError: 'list' object has no attribute 'display' (df1.display())\n",
    "# collect() is an action hence it does not return a DataFrame instead, it returns data in an Array to the driver.\n",
    "# retrieves all elements in a DataFrame as an Array of Row type to the driver node\n",
    "df_collect = df.collect()\n",
    "df_collect"
   ]
  },
  {
   "cell_type": "code",
   "execution_count": 0,
   "metadata": {
    "application/vnd.databricks.v1+cell": {
     "cellMetadata": {
      "byteLimit": 2048000,
      "rowLimit": 10000
     },
     "inputWidgets": {},
     "nuid": "e08ef337-a2ad-40f7-bdd3-444c71a38005",
     "showTitle": true,
     "tableResultSettingsMap": {},
     "title": "Loop Entire dataframe"
    }
   },
   "outputs": [
    {
     "output_type": "stream",
     "name": "stdout",
     "output_type": "stream",
     "text": [
      "Row(dept_name='Finance', dept_id=10, Designation='Manager')\nRow(dept_name='Marketing', dept_id=20, Designation='Sr.Manager')\nRow(dept_name='Sales', dept_id=30, Designation='Representative')\nRow(dept_name='IT', dept_id=40, Designation='Software')\n"
     ]
    }
   ],
   "source": [
    "for i in df_collect:\n",
    "    print(i)"
   ]
  },
  {
   "cell_type": "markdown",
   "metadata": {
    "application/vnd.databricks.v1+cell": {
     "cellMetadata": {},
     "inputWidgets": {},
     "nuid": "f292bfd9-754a-4a16-8103-f6f3a6186e78",
     "showTitle": false,
     "tableResultSettingsMap": {},
     "title": ""
    }
   },
   "source": [
    "     for i in df_collect:\n",
    "         print(i['dept_name'])\n",
    "             (or)\n",
    "     for i in df_collect:\n",
    "         print(i[0])"
   ]
  },
  {
   "cell_type": "code",
   "execution_count": 0,
   "metadata": {
    "application/vnd.databricks.v1+cell": {
     "cellMetadata": {
      "byteLimit": 2048000,
      "rowLimit": 10000
     },
     "inputWidgets": {},
     "nuid": "f06dfd35-8de0-4f95-aa97-cec6df739cea",
     "showTitle": true,
     "tableResultSettingsMap": {},
     "title": "Iterate First Column (dept_name)"
    }
   },
   "outputs": [
    {
     "output_type": "stream",
     "name": "stdout",
     "output_type": "stream",
     "text": [
      "Finance\nMarketing\nSales\nIT\n"
     ]
    }
   ],
   "source": [
    "for i in df_collect:\n",
    "    print(i[0])"
   ]
  },
  {
   "cell_type": "markdown",
   "metadata": {
    "application/vnd.databricks.v1+cell": {
     "cellMetadata": {},
     "inputWidgets": {},
     "nuid": "e3bfdf41-9202-4ef3-a8dc-f259a5041863",
     "showTitle": false,
     "tableResultSettingsMap": {},
     "title": ""
    }
   },
   "source": [
    "     for i in df_collect:\n",
    "         print(i['dept_id'])\n",
    "            (or)\n",
    "     for i in df_collect:\n",
    "         print(i[1])"
   ]
  },
  {
   "cell_type": "code",
   "execution_count": 0,
   "metadata": {
    "application/vnd.databricks.v1+cell": {
     "cellMetadata": {
      "byteLimit": 2048000,
      "rowLimit": 10000
     },
     "inputWidgets": {},
     "nuid": "b54c2738-e903-48a6-a785-4574d57dbf29",
     "showTitle": true,
     "tableResultSettingsMap": {},
     "title": "Iterate Second Column (dept_id)"
    }
   },
   "outputs": [
    {
     "output_type": "stream",
     "name": "stdout",
     "output_type": "stream",
     "text": [
      "10\n20\n30\n40\n"
     ]
    }
   ],
   "source": [
    "for i in df_collect:\n",
    "    print(i[1])"
   ]
  },
  {
   "cell_type": "markdown",
   "metadata": {
    "application/vnd.databricks.v1+cell": {
     "cellMetadata": {},
     "inputWidgets": {},
     "nuid": "6cfde6a3-db2f-408f-8de0-72b1491e9079",
     "showTitle": false,
     "tableResultSettingsMap": {},
     "title": ""
    }
   },
   "source": [
    "     for i in df_collect:\n",
    "         print(i['Designation'][0])\n",
    "             (or)\n",
    "     for i in df_collect:\n",
    "         print(i[2])"
   ]
  },
  {
   "cell_type": "code",
   "execution_count": 0,
   "metadata": {
    "application/vnd.databricks.v1+cell": {
     "cellMetadata": {
      "byteLimit": 2048000,
      "rowLimit": 10000
     },
     "inputWidgets": {},
     "nuid": "751ac222-5845-4c91-be80-5b8569d42d5e",
     "showTitle": true,
     "tableResultSettingsMap": {},
     "title": "Iterate Second Column (Designation)"
    }
   },
   "outputs": [
    {
     "output_type": "stream",
     "name": "stdout",
     "output_type": "stream",
     "text": [
      "Manager\nSr.Manager\nRepresentative\nSoftware\n"
     ]
    }
   ],
   "source": [
    "for i in df_collect:\n",
    "    print(i[2])"
   ]
  },
  {
   "cell_type": "markdown",
   "metadata": {
    "application/vnd.databricks.v1+cell": {
     "cellMetadata": {},
     "inputWidgets": {},
     "nuid": "8eb70beb-dba1-4eb0-ae49-8359d510d590",
     "showTitle": false,
     "tableResultSettingsMap": {},
     "title": ""
    }
   },
   "source": [
    "**2) collect()[0][0]**"
   ]
  },
  {
   "cell_type": "code",
   "execution_count": 0,
   "metadata": {
    "application/vnd.databricks.v1+cell": {
     "cellMetadata": {
      "byteLimit": 2048000,
      "rowLimit": 10000
     },
     "inputWidgets": {},
     "nuid": "6a41c83a-7156-4dd8-9432-2d16cc78a679",
     "showTitle": false,
     "tableResultSettingsMap": {},
     "title": ""
    }
   },
   "outputs": [
    {
     "output_type": "stream",
     "name": "stdout",
     "output_type": "stream",
     "text": [
      "+---------+-------+--------------+\n|dept_name|dept_id|Designation   |\n+---------+-------+--------------+\n|Finance  |10     |Manager       |\n|Marketing|20     |Sr.Manager    |\n|Sales    |30     |Representative|\n|IT       |40     |Software      |\n+---------+-------+--------------+\n\n"
     ]
    }
   ],
   "source": [
    "dept = [(\"Finance\",10,\"Manager\"), (\"Marketing\",20,\"Sr.Manager\"), (\"Sales\",30,\"Representative\"), (\"IT\",40,\"Software\")]\n",
    "deptColumns = [\"dept_name\", \"dept_id\", \"Designation\"]\n",
    "\n",
    "df = spark.createDataFrame(data=dept, schema = deptColumns)\n",
    "df.show(truncate=False)"
   ]
  },
  {
   "cell_type": "code",
   "execution_count": 0,
   "metadata": {
    "application/vnd.databricks.v1+cell": {
     "cellMetadata": {
      "byteLimit": 2048000,
      "rowLimit": 10000
     },
     "inputWidgets": {},
     "nuid": "a62af883-0033-4bce-970b-234a89a7f46f",
     "showTitle": false,
     "tableResultSettingsMap": {},
     "title": ""
    }
   },
   "outputs": [
    {
     "output_type": "stream",
     "name": "stdout",
     "output_type": "stream",
     "text": [
      "[Row(dept_name='Finance', dept_id=10, Designation='Manager'), Row(dept_name='Marketing', dept_id=20, Designation='Sr.Manager'), Row(dept_name='Sales', dept_id=30, Designation='Representative'), Row(dept_name='IT', dept_id=40, Designation='Software')]\n"
     ]
    }
   ],
   "source": [
    "# collect() is an action hence it does not return a DataFrame instead, it returns data in an Array to the driver.\n",
    "# retrieves all elements in a DataFrame as an Array of Row type to the driver node\n",
    "dataCollect = df.collect()\n",
    "print(dataCollect)"
   ]
  },
  {
   "cell_type": "markdown",
   "metadata": {
    "application/vnd.databricks.v1+cell": {
     "cellMetadata": {},
     "inputWidgets": {},
     "nuid": "37a67659-628e-4ed2-b383-219a35c15efd",
     "showTitle": false,
     "tableResultSettingsMap": {},
     "title": ""
    }
   },
   "source": [
    "     # returns the first element in an array (1st row)\n",
    "     df.collect()[0]\n",
    "\n",
    "     # returns the second element in an array (2nd row)\n",
    "     df.collect()[1]\n",
    "\n",
    "     # returns the third element in an array (3rd row)\n",
    "     df.collect()[2]\n",
    "\n",
    "     # returns the fourth element in an array (4th row)\n",
    "     df.collect()[3]"
   ]
  },
  {
   "cell_type": "code",
   "execution_count": 0,
   "metadata": {
    "application/vnd.databricks.v1+cell": {
     "cellMetadata": {
      "byteLimit": 2048000,
      "rowLimit": 10000
     },
     "inputWidgets": {},
     "nuid": "49ff07de-037a-4931-b344-04508a4b4606",
     "showTitle": true,
     "tableResultSettingsMap": {},
     "title": "1st row"
    }
   },
   "outputs": [
    {
     "output_type": "execute_result",
     "data": {
      "text/plain": [
       "Row(dept_name='Finance', dept_id=10, Designation='Manager')"
      ]
     },
     "execution_count": 20,
     "metadata": {},
     "output_type": "execute_result"
    }
   ],
   "source": [
    "# returns the first element in an array (1st row)\n",
    "df.collect()[0]"
   ]
  },
  {
   "cell_type": "code",
   "execution_count": 0,
   "metadata": {
    "application/vnd.databricks.v1+cell": {
     "cellMetadata": {
      "byteLimit": 2048000,
      "rowLimit": 10000
     },
     "inputWidgets": {},
     "nuid": "44529ca6-39c1-438c-a65c-cd9a6fe24e1d",
     "showTitle": true,
     "tableResultSettingsMap": {},
     "title": "2nd row"
    }
   },
   "outputs": [
    {
     "output_type": "execute_result",
     "data": {
      "text/plain": [
       "Row(dept_name='Marketing', dept_id=20, Designation='Sr.Manager')"
      ]
     },
     "execution_count": 21,
     "metadata": {},
     "output_type": "execute_result"
    }
   ],
   "source": [
    "# returns the second element in an array (2nd row)\n",
    "df.collect()[1]"
   ]
  },
  {
   "cell_type": "code",
   "execution_count": 0,
   "metadata": {
    "application/vnd.databricks.v1+cell": {
     "cellMetadata": {
      "byteLimit": 2048000,
      "rowLimit": 10000
     },
     "inputWidgets": {},
     "nuid": "9f57e137-0d55-4094-895c-02c0dc8cb92a",
     "showTitle": true,
     "tableResultSettingsMap": {},
     "title": "3rd row"
    }
   },
   "outputs": [
    {
     "output_type": "execute_result",
     "data": {
      "text/plain": [
       "Row(dept_name='Sales', dept_id=30, Designation='Representative')"
      ]
     },
     "execution_count": 22,
     "metadata": {},
     "output_type": "execute_result"
    }
   ],
   "source": [
    "# returns the third element in an array (3rd row)\n",
    "df.collect()[2]"
   ]
  },
  {
   "cell_type": "code",
   "execution_count": 0,
   "metadata": {
    "application/vnd.databricks.v1+cell": {
     "cellMetadata": {
      "byteLimit": 2048000,
      "rowLimit": 10000
     },
     "inputWidgets": {},
     "nuid": "8548e168-39ec-40a0-a9f2-5a436182f668",
     "showTitle": true,
     "tableResultSettingsMap": {},
     "title": "4th row"
    }
   },
   "outputs": [
    {
     "output_type": "execute_result",
     "data": {
      "text/plain": [
       "Row(dept_name='IT', dept_id=40, Designation='Software')"
      ]
     },
     "execution_count": 23,
     "metadata": {},
     "output_type": "execute_result"
    }
   ],
   "source": [
    "# returns the fourth element in an array (4th row)\n",
    "df.collect()[3]"
   ]
  },
  {
   "cell_type": "markdown",
   "metadata": {
    "application/vnd.databricks.v1+cell": {
     "cellMetadata": {},
     "inputWidgets": {},
     "nuid": "a81eadec-3aa5-4cdc-ac09-8bba2b2d3851",
     "showTitle": false,
     "tableResultSettingsMap": {},
     "title": ""
    }
   },
   "source": [
    "     # returns the value of the first row & 1st column\n",
    "     df.collect()[0][0]\n",
    "\n",
    "     # returns the value of the first row & 2nd column\n",
    "     df.collect()[0][1]\n",
    "\n",
    "     # returns the value of the first row & 3rd column\n",
    "     df.collect()[0][2]"
   ]
  },
  {
   "cell_type": "code",
   "execution_count": 0,
   "metadata": {
    "application/vnd.databricks.v1+cell": {
     "cellMetadata": {
      "byteLimit": 2048000,
      "rowLimit": 10000
     },
     "inputWidgets": {},
     "nuid": "f013315a-1079-4e16-b136-d47ee9d10d6a",
     "showTitle": true,
     "tableResultSettingsMap": {},
     "title": "1st row & 1st column"
    }
   },
   "outputs": [
    {
     "output_type": "execute_result",
     "data": {
      "text/plain": [
       "'Finance'"
      ]
     },
     "execution_count": 25,
     "metadata": {},
     "output_type": "execute_result"
    }
   ],
   "source": [
    "# returns the value of the first row & 1st column\n",
    "df.collect()[0][0]"
   ]
  },
  {
   "cell_type": "code",
   "execution_count": 0,
   "metadata": {
    "application/vnd.databricks.v1+cell": {
     "cellMetadata": {
      "byteLimit": 2048000,
      "rowLimit": 10000
     },
     "inputWidgets": {},
     "nuid": "ec4897f7-5ce2-4c9b-a20d-bdbcb7a5cb6d",
     "showTitle": true,
     "tableResultSettingsMap": {},
     "title": "1st row & 2nd column"
    }
   },
   "outputs": [
    {
     "output_type": "execute_result",
     "data": {
      "text/plain": [
       "10"
      ]
     },
     "execution_count": 26,
     "metadata": {},
     "output_type": "execute_result"
    }
   ],
   "source": [
    "# returns the value of the first row & 2nd column\n",
    "df.collect()[0][1]"
   ]
  },
  {
   "cell_type": "code",
   "execution_count": 0,
   "metadata": {
    "application/vnd.databricks.v1+cell": {
     "cellMetadata": {
      "byteLimit": 2048000,
      "rowLimit": 10000
     },
     "inputWidgets": {},
     "nuid": "08990ea6-4ec6-4741-976b-7b42316c7835",
     "showTitle": true,
     "tableResultSettingsMap": {},
     "title": "1st row & 3rd column"
    }
   },
   "outputs": [
    {
     "output_type": "execute_result",
     "data": {
      "text/plain": [
       "'Manager'"
      ]
     },
     "execution_count": 27,
     "metadata": {},
     "output_type": "execute_result"
    }
   ],
   "source": [
    "# returns the value of the first row & 3rd column\n",
    "df.collect()[0][2]"
   ]
  },
  {
   "cell_type": "markdown",
   "metadata": {
    "application/vnd.databricks.v1+cell": {
     "cellMetadata": {},
     "inputWidgets": {},
     "nuid": "3515427c-14e3-48a7-964e-20617f89a4a5",
     "showTitle": false,
     "tableResultSettingsMap": {},
     "title": ""
    }
   },
   "source": [
    "     # returns the value of the 2nd row & 1st column\n",
    "     df.collect()[1][0]\n",
    "\n",
    "     # returns the value of the 2nd row & 2nd column\n",
    "     df.collect()[1][1]\n",
    "\n",
    "     # returns the value of the 2nd row & 3rd column\n",
    "     df.collect()[1][2]"
   ]
  },
  {
   "cell_type": "code",
   "execution_count": 0,
   "metadata": {
    "application/vnd.databricks.v1+cell": {
     "cellMetadata": {
      "byteLimit": 2048000,
      "rowLimit": 10000
     },
     "inputWidgets": {},
     "nuid": "b95d1472-bbff-48a4-a991-1b53bcd519ec",
     "showTitle": true,
     "tableResultSettingsMap": {},
     "title": "2nd row & 1st column"
    }
   },
   "outputs": [
    {
     "output_type": "execute_result",
     "data": {
      "text/plain": [
       "'Marketing'"
      ]
     },
     "execution_count": 29,
     "metadata": {},
     "output_type": "execute_result"
    }
   ],
   "source": [
    "# returns the value of the 2nd row & 1st column\n",
    "df.collect()[1][0]"
   ]
  },
  {
   "cell_type": "code",
   "execution_count": 0,
   "metadata": {
    "application/vnd.databricks.v1+cell": {
     "cellMetadata": {
      "byteLimit": 2048000,
      "rowLimit": 10000
     },
     "inputWidgets": {},
     "nuid": "68d6235a-e1ab-4572-b0c0-e81cefaea74a",
     "showTitle": true,
     "tableResultSettingsMap": {},
     "title": "2nd row & 2nd column"
    }
   },
   "outputs": [
    {
     "output_type": "execute_result",
     "data": {
      "text/plain": [
       "20"
      ]
     },
     "execution_count": 30,
     "metadata": {},
     "output_type": "execute_result"
    }
   ],
   "source": [
    "# returns the value of the 2nd row & 2nd column\n",
    "df.collect()[1][1]"
   ]
  },
  {
   "cell_type": "code",
   "execution_count": 0,
   "metadata": {
    "application/vnd.databricks.v1+cell": {
     "cellMetadata": {
      "byteLimit": 2048000,
      "rowLimit": 10000
     },
     "inputWidgets": {},
     "nuid": "6b364712-5c9e-4854-a182-d128d6a940ee",
     "showTitle": true,
     "tableResultSettingsMap": {},
     "title": "2nd row & 3rd column"
    }
   },
   "outputs": [
    {
     "output_type": "execute_result",
     "data": {
      "text/plain": [
       "'Sr.Manager'"
      ]
     },
     "execution_count": 31,
     "metadata": {},
     "output_type": "execute_result"
    }
   ],
   "source": [
    "# returns the value of the 2nd row & 3rd column\n",
    "df.collect()[1][2]"
   ]
  },
  {
   "cell_type": "markdown",
   "metadata": {
    "application/vnd.databricks.v1+cell": {
     "cellMetadata": {},
     "inputWidgets": {},
     "nuid": "d2c9fbef-269e-4f99-a27d-9e48705e5092",
     "showTitle": false,
     "tableResultSettingsMap": {},
     "title": ""
    }
   },
   "source": [
    "     # returns the value of the 3rd row & 1st column\n",
    "     df.collect()[2][0]\n",
    "\n",
    "     # returns the value of the 3rd row & 2nd column\n",
    "     df.collect()[2][1]\n",
    "\n",
    "     # returns the value of the 3rd row & 3rd column\n",
    "     df.collect()[2][2]"
   ]
  },
  {
   "cell_type": "code",
   "execution_count": 0,
   "metadata": {
    "application/vnd.databricks.v1+cell": {
     "cellMetadata": {
      "byteLimit": 2048000,
      "rowLimit": 10000
     },
     "inputWidgets": {},
     "nuid": "72f04334-da1d-450d-a7e4-b2c3b1cf820b",
     "showTitle": true,
     "tableResultSettingsMap": {},
     "title": "3rd row & 1st column"
    }
   },
   "outputs": [
    {
     "output_type": "execute_result",
     "data": {
      "text/plain": [
       "'Sales'"
      ]
     },
     "execution_count": 32,
     "metadata": {},
     "output_type": "execute_result"
    }
   ],
   "source": [
    "# returns the value of the 3rd row & 1st column\n",
    "df.collect()[2][0]"
   ]
  },
  {
   "cell_type": "code",
   "execution_count": 0,
   "metadata": {
    "application/vnd.databricks.v1+cell": {
     "cellMetadata": {
      "byteLimit": 2048000,
      "rowLimit": 10000
     },
     "inputWidgets": {},
     "nuid": "67838abb-bb6d-4c60-9762-cfe11aa8bb0e",
     "showTitle": true,
     "tableResultSettingsMap": {},
     "title": "3rd row & 2nd column"
    }
   },
   "outputs": [
    {
     "output_type": "execute_result",
     "data": {
      "text/plain": [
       "30"
      ]
     },
     "execution_count": 33,
     "metadata": {},
     "output_type": "execute_result"
    }
   ],
   "source": [
    "# returns the value of the 3rd row & 2nd column\n",
    "df.collect()[2][1]"
   ]
  },
  {
   "cell_type": "code",
   "execution_count": 0,
   "metadata": {
    "application/vnd.databricks.v1+cell": {
     "cellMetadata": {
      "byteLimit": 2048000,
      "rowLimit": 10000
     },
     "inputWidgets": {},
     "nuid": "fb0a3f36-94be-4964-b35a-1edf81602fdd",
     "showTitle": true,
     "tableResultSettingsMap": {},
     "title": "3rd row & 3rd column"
    }
   },
   "outputs": [
    {
     "output_type": "execute_result",
     "data": {
      "text/plain": [
       "'Representative'"
      ]
     },
     "execution_count": 34,
     "metadata": {},
     "output_type": "execute_result"
    }
   ],
   "source": [
    "# returns the value of the 3rd row & 3rd column\n",
    "df.collect()[2][2]"
   ]
  },
  {
   "cell_type": "markdown",
   "metadata": {
    "application/vnd.databricks.v1+cell": {
     "cellMetadata": {},
     "inputWidgets": {},
     "nuid": "7bff855c-d54f-4b9d-8bb2-8851b6fc6d71",
     "showTitle": false,
     "tableResultSettingsMap": {},
     "title": ""
    }
   },
   "source": [
    "     # returns the value of the 4th row & 1st column\n",
    "     df.collect()[3][0]\n",
    "\n",
    "     # returns the value of the 4th row & 2nd column\n",
    "     df.collect()[3][1]\n",
    "\n",
    "     # returns the value of the 4th row & 3rd column\n",
    "     df.collect()[3][2]"
   ]
  },
  {
   "cell_type": "code",
   "execution_count": 0,
   "metadata": {
    "application/vnd.databricks.v1+cell": {
     "cellMetadata": {
      "byteLimit": 2048000,
      "rowLimit": 10000
     },
     "inputWidgets": {},
     "nuid": "d51483a0-1e75-488e-a12a-dca9ff1b8400",
     "showTitle": true,
     "tableResultSettingsMap": {},
     "title": "4th row & 1st column"
    }
   },
   "outputs": [
    {
     "output_type": "execute_result",
     "data": {
      "text/plain": [
       "'IT'"
      ]
     },
     "execution_count": 35,
     "metadata": {},
     "output_type": "execute_result"
    }
   ],
   "source": [
    "# returns the value of the 4th row & 1st column\n",
    "df.collect()[3][0]"
   ]
  },
  {
   "cell_type": "code",
   "execution_count": 0,
   "metadata": {
    "application/vnd.databricks.v1+cell": {
     "cellMetadata": {
      "byteLimit": 2048000,
      "rowLimit": 10000
     },
     "inputWidgets": {},
     "nuid": "0f2e953d-3a42-4e99-ad9e-a595f4f25259",
     "showTitle": true,
     "tableResultSettingsMap": {},
     "title": "4th row & 2nd column"
    }
   },
   "outputs": [
    {
     "output_type": "execute_result",
     "data": {
      "text/plain": [
       "40"
      ]
     },
     "execution_count": 36,
     "metadata": {},
     "output_type": "execute_result"
    }
   ],
   "source": [
    "# returns the value of the 4th row & 2nd column\n",
    "df.collect()[3][1]"
   ]
  },
  {
   "cell_type": "code",
   "execution_count": 0,
   "metadata": {
    "application/vnd.databricks.v1+cell": {
     "cellMetadata": {
      "byteLimit": 2048000,
      "rowLimit": 10000
     },
     "inputWidgets": {},
     "nuid": "25a056bf-3dcd-45e6-8898-e3336cef70a1",
     "showTitle": true,
     "tableResultSettingsMap": {},
     "title": "4th row & 3rd column"
    }
   },
   "outputs": [
    {
     "output_type": "execute_result",
     "data": {
      "text/plain": [
       "'Software'"
      ]
     },
     "execution_count": 37,
     "metadata": {},
     "output_type": "execute_result"
    }
   ],
   "source": [
    "# returns the value of the 4th row & 3rd column\n",
    "df.collect()[3][2]"
   ]
  },
  {
   "cell_type": "markdown",
   "metadata": {
    "application/vnd.databricks.v1+cell": {
     "cellMetadata": {},
     "inputWidgets": {},
     "nuid": "0ea06baf-9785-47ce-a860-7f1184c38170",
     "showTitle": false,
     "tableResultSettingsMap": {},
     "title": ""
    }
   },
   "source": [
    "**3) df.select(\"column\").collect()[0][0]**"
   ]
  },
  {
   "cell_type": "code",
   "execution_count": 0,
   "metadata": {
    "application/vnd.databricks.v1+cell": {
     "cellMetadata": {
      "byteLimit": 2048000,
      "rowLimit": 10000
     },
     "inputWidgets": {},
     "nuid": "5c9c064b-4d27-4548-97d2-705882c87204",
     "showTitle": true,
     "tableResultSettingsMap": {},
     "title": "first column"
    }
   },
   "outputs": [
    {
     "output_type": "stream",
     "name": "stdout",
     "output_type": "stream",
     "text": [
      "[Row(dept_name='Finance'), Row(dept_name='Marketing'), Row(dept_name='Sales'), Row(dept_name='IT')]\n"
     ]
    }
   ],
   "source": [
    "print(df.select(\"dept_name\").collect())"
   ]
  },
  {
   "cell_type": "markdown",
   "metadata": {
    "application/vnd.databricks.v1+cell": {
     "cellMetadata": {},
     "inputWidgets": {},
     "nuid": "795632ec-3bf3-40b5-9f3a-8c07b9a6e823",
     "showTitle": false,
     "tableResultSettingsMap": {},
     "title": ""
    }
   },
   "source": [
    "     # returns the first element in an array (1st row)\n",
    "     print(df.select(['dept_name', 'dept_id', 'Designation']).collect()[0])\n",
    "\n",
    "     # returns the second element in an array (2nd row)\n",
    "     print(df.select(['dept_name', 'dept_id', 'Designation']).collect()[1])\n",
    "\n",
    "     # returns the third element in an array (3rd row)\n",
    "     print(df.select(['dept_name', 'dept_id', 'Designation']).collect()[2])\n",
    "\n",
    "     # returns the fourth element in an array (4th row)\n",
    "     print(df.select(['dept_name', 'dept_id', 'Designation']).collect()[3])"
   ]
  },
  {
   "cell_type": "code",
   "execution_count": 0,
   "metadata": {
    "application/vnd.databricks.v1+cell": {
     "cellMetadata": {
      "byteLimit": 2048000,
      "rowLimit": 10000
     },
     "inputWidgets": {},
     "nuid": "374b02a6-8637-4c92-b46e-9a70bc9f5d0b",
     "showTitle": true,
     "tableResultSettingsMap": {},
     "title": "select: 1st row"
    }
   },
   "outputs": [
    {
     "output_type": "stream",
     "name": "stdout",
     "output_type": "stream",
     "text": [
      "Row(dept_name='Finance', dept_id=10, Designation='Manager')\n"
     ]
    }
   ],
   "source": [
    "# returns the first element in an array (1st row)\n",
    "print(df.select(['dept_name', 'dept_id', 'Designation']).collect()[0])"
   ]
  },
  {
   "cell_type": "code",
   "execution_count": 0,
   "metadata": {
    "application/vnd.databricks.v1+cell": {
     "cellMetadata": {
      "byteLimit": 2048000,
      "rowLimit": 10000
     },
     "inputWidgets": {},
     "nuid": "ce0437c9-0777-4fbe-bdca-2cb799b6f507",
     "showTitle": true,
     "tableResultSettingsMap": {},
     "title": "select: 2nd row"
    }
   },
   "outputs": [
    {
     "output_type": "stream",
     "name": "stdout",
     "output_type": "stream",
     "text": [
      "Row(dept_name='Marketing', dept_id=20, Designation='Sr.Manager')\n"
     ]
    }
   ],
   "source": [
    "# returns the second element in an array (2nd row)\n",
    "print(df.select(['dept_name', 'dept_id', 'Designation']).collect()[1])"
   ]
  },
  {
   "cell_type": "code",
   "execution_count": 0,
   "metadata": {
    "application/vnd.databricks.v1+cell": {
     "cellMetadata": {
      "byteLimit": 2048000,
      "rowLimit": 10000
     },
     "inputWidgets": {},
     "nuid": "09e8e030-6f29-4d05-b43b-858d0514261c",
     "showTitle": true,
     "tableResultSettingsMap": {},
     "title": "select: 3rd row"
    }
   },
   "outputs": [
    {
     "output_type": "stream",
     "name": "stdout",
     "output_type": "stream",
     "text": [
      "Row(dept_name='Sales', dept_id=30, Designation='Representative')\n"
     ]
    }
   ],
   "source": [
    "# returns the third element in an array (3rd row)\n",
    "print(df.select(['dept_name', 'dept_id', 'Designation']).collect()[2])"
   ]
  },
  {
   "cell_type": "code",
   "execution_count": 0,
   "metadata": {
    "application/vnd.databricks.v1+cell": {
     "cellMetadata": {
      "byteLimit": 2048000,
      "rowLimit": 10000
     },
     "inputWidgets": {},
     "nuid": "dab61627-7b65-4389-9cfc-160f2bc9ff25",
     "showTitle": true,
     "tableResultSettingsMap": {},
     "title": "select: 4th row"
    }
   },
   "outputs": [
    {
     "output_type": "stream",
     "name": "stdout",
     "output_type": "stream",
     "text": [
      "Row(dept_name='IT', dept_id=40, Designation='Software')\n"
     ]
    }
   ],
   "source": [
    "# returns the fourth element in an array (4th row)\n",
    "print(df.select(['dept_name', 'dept_id', 'Designation']).collect()[3])"
   ]
  },
  {
   "cell_type": "markdown",
   "metadata": {
    "application/vnd.databricks.v1+cell": {
     "cellMetadata": {},
     "inputWidgets": {},
     "nuid": "985ce428-668b-4baa-ae12-5c672f3c7d69",
     "showTitle": false,
     "tableResultSettingsMap": {},
     "title": ""
    }
   },
   "source": [
    "     # returns the value of the first row & 1st column\n",
    "     print(df.select(['dept_name', 'dept_id', 'Designation']).collect()[0][0])\n",
    "\n",
    "     # returns the value of the first row & 2nd column\n",
    "     print(df.select(['dept_name', 'dept_id', 'Designation']).collect()[0][1])\n",
    "\n",
    "     # returns the value of the first row & 3rd column\n",
    "     print(df.select(['dept_name', 'dept_id', 'Designation']).collect()[0][2])"
   ]
  },
  {
   "cell_type": "code",
   "execution_count": 0,
   "metadata": {
    "application/vnd.databricks.v1+cell": {
     "cellMetadata": {
      "byteLimit": 2048000,
      "rowLimit": 10000
     },
     "inputWidgets": {},
     "nuid": "ed558c2c-cbef-417e-96b7-feb76fbe67cd",
     "showTitle": true,
     "tableResultSettingsMap": {},
     "title": "1st row & 1st column"
    }
   },
   "outputs": [
    {
     "output_type": "stream",
     "name": "stdout",
     "output_type": "stream",
     "text": [
      "Finance\n"
     ]
    }
   ],
   "source": [
    "# returns the value of the first row & 1st column\n",
    "print(df.select(['dept_name', 'dept_id', 'Designation']).collect()[0][0])"
   ]
  },
  {
   "cell_type": "code",
   "execution_count": 0,
   "metadata": {
    "application/vnd.databricks.v1+cell": {
     "cellMetadata": {
      "byteLimit": 2048000,
      "rowLimit": 10000
     },
     "inputWidgets": {},
     "nuid": "64a6fd9f-6b5a-4fc5-a953-4b7cc5afa3d7",
     "showTitle": true,
     "tableResultSettingsMap": {},
     "title": "1st row & 2nd column"
    }
   },
   "outputs": [
    {
     "output_type": "stream",
     "name": "stdout",
     "output_type": "stream",
     "text": [
      "10\n"
     ]
    }
   ],
   "source": [
    "# returns the value of the first row & 2nd column\n",
    "print(df.select(['dept_name', 'dept_id', 'Designation']).collect()[0][1])"
   ]
  },
  {
   "cell_type": "code",
   "execution_count": 0,
   "metadata": {
    "application/vnd.databricks.v1+cell": {
     "cellMetadata": {
      "byteLimit": 2048000,
      "rowLimit": 10000
     },
     "inputWidgets": {},
     "nuid": "c3ed0006-343e-4ad8-8721-692b18f8a3bf",
     "showTitle": true,
     "tableResultSettingsMap": {},
     "title": "1st row & 3rd column"
    }
   },
   "outputs": [
    {
     "output_type": "stream",
     "name": "stdout",
     "output_type": "stream",
     "text": [
      "Finance\n"
     ]
    }
   ],
   "source": [
    "# returns the value of the first row & 3rd column\n",
    "print(df.select(['dept_name', 'dept_id', 'Designation']).collect()[0][2])"
   ]
  },
  {
   "cell_type": "markdown",
   "metadata": {
    "application/vnd.databricks.v1+cell": {
     "cellMetadata": {},
     "inputWidgets": {},
     "nuid": "f7c40a1c-a94b-44b2-bc13-57b355c914de",
     "showTitle": false,
     "tableResultSettingsMap": {},
     "title": ""
    }
   },
   "source": [
    "     # returns the value of the second row & 1st column\n",
    "     print(df.select(['dept_name', 'dept_id', 'Designation']).collect()[1][0])\n",
    "\n",
    "     # returns the value of the second row & 2nd column\n",
    "     print(df.select(['dept_name', 'dept_id', 'Designation']).collect()[1][1])\n",
    "\n",
    "     # returns the value of the second row & 3rd column\n",
    "     print(df.select(['dept_name', 'dept_id', 'Designation']).collect()[1][2])"
   ]
  },
  {
   "cell_type": "code",
   "execution_count": 0,
   "metadata": {
    "application/vnd.databricks.v1+cell": {
     "cellMetadata": {
      "byteLimit": 2048000,
      "rowLimit": 10000
     },
     "inputWidgets": {},
     "nuid": "58e7c8ca-45e4-498c-b509-6eca998d2123",
     "showTitle": true,
     "tableResultSettingsMap": {},
     "title": "2nd row & 1st column"
    }
   },
   "outputs": [
    {
     "output_type": "stream",
     "name": "stdout",
     "output_type": "stream",
     "text": [
      "Marketing\n"
     ]
    }
   ],
   "source": [
    "# returns the value of the second row & 1st column\n",
    "print(df.select(['dept_name', 'dept_id', 'Designation']).collect()[1][0])"
   ]
  },
  {
   "cell_type": "code",
   "execution_count": 0,
   "metadata": {
    "application/vnd.databricks.v1+cell": {
     "cellMetadata": {
      "byteLimit": 2048000,
      "rowLimit": 10000
     },
     "inputWidgets": {},
     "nuid": "5176ba80-a18c-464f-9909-1ee6262c2c36",
     "showTitle": true,
     "tableResultSettingsMap": {},
     "title": "2nd row & 2nd column"
    }
   },
   "outputs": [
    {
     "output_type": "stream",
     "name": "stdout",
     "output_type": "stream",
     "text": [
      "20\n"
     ]
    }
   ],
   "source": [
    "# returns the value of the second row & 2nd column\n",
    "print(df.select(['dept_name', 'dept_id', 'Designation']).collect()[1][1])"
   ]
  },
  {
   "cell_type": "code",
   "execution_count": 0,
   "metadata": {
    "application/vnd.databricks.v1+cell": {
     "cellMetadata": {
      "byteLimit": 2048000,
      "rowLimit": 10000
     },
     "inputWidgets": {},
     "nuid": "3d984a81-84c3-49be-a293-5266dac8ee91",
     "showTitle": true,
     "tableResultSettingsMap": {},
     "title": "2nd row & 3rd column"
    }
   },
   "outputs": [
    {
     "output_type": "stream",
     "name": "stdout",
     "output_type": "stream",
     "text": [
      "Sr.Manager\n"
     ]
    }
   ],
   "source": [
    "# returns the value of the second row & 3rd column\n",
    "print(df.select(['dept_name', 'dept_id', 'Designation']).collect()[1][2])"
   ]
  },
  {
   "cell_type": "markdown",
   "metadata": {
    "application/vnd.databricks.v1+cell": {
     "cellMetadata": {},
     "inputWidgets": {},
     "nuid": "16bea2b4-b396-42f2-ad8d-cd1c4e57ef8c",
     "showTitle": false,
     "tableResultSettingsMap": {},
     "title": ""
    }
   },
   "source": [
    "     # returns the value of the 3rd row & 1st column\n",
    "     print(df.select(['dept_name', 'dept_id', 'Designation']).collect()[2][0])\n",
    "\n",
    "     # returns the value of the 3rd row & 2nd column\n",
    "     print(df.select(['dept_name', 'dept_id', 'Designation']).collect()[2][1])\n",
    "\n",
    "     # returns the value of the 3rd row & 3rd column\n",
    "     print(df.select(['dept_name', 'dept_id', 'Designation']).collect()[2][2])"
   ]
  },
  {
   "cell_type": "code",
   "execution_count": 0,
   "metadata": {
    "application/vnd.databricks.v1+cell": {
     "cellMetadata": {
      "byteLimit": 2048000,
      "rowLimit": 10000
     },
     "inputWidgets": {},
     "nuid": "35660fb0-ffca-47af-9a89-18a895098bed",
     "showTitle": true,
     "tableResultSettingsMap": {},
     "title": "3rd row & 1st column"
    }
   },
   "outputs": [
    {
     "output_type": "stream",
     "name": "stdout",
     "output_type": "stream",
     "text": [
      "Sales\n"
     ]
    }
   ],
   "source": [
    "# returns the value of the 3rd row & 1st column\n",
    "print(df.select(['dept_name', 'dept_id', 'Designation']).collect()[2][0])"
   ]
  },
  {
   "cell_type": "code",
   "execution_count": 0,
   "metadata": {
    "application/vnd.databricks.v1+cell": {
     "cellMetadata": {
      "byteLimit": 2048000,
      "rowLimit": 10000
     },
     "inputWidgets": {},
     "nuid": "e2c7b64c-bee7-472d-8b75-f952c51f3343",
     "showTitle": true,
     "tableResultSettingsMap": {},
     "title": "3rd row & 2nd column"
    }
   },
   "outputs": [
    {
     "output_type": "stream",
     "name": "stdout",
     "output_type": "stream",
     "text": [
      "30\n"
     ]
    }
   ],
   "source": [
    "# returns the value of the 3rd row & 2nd column\n",
    "print(df.select(['dept_name', 'dept_id', 'Designation']).collect()[2][1])"
   ]
  },
  {
   "cell_type": "code",
   "execution_count": 0,
   "metadata": {
    "application/vnd.databricks.v1+cell": {
     "cellMetadata": {
      "byteLimit": 2048000,
      "rowLimit": 10000
     },
     "inputWidgets": {},
     "nuid": "9a18cac5-c23d-4eac-80ce-901f0a59acda",
     "showTitle": true,
     "tableResultSettingsMap": {},
     "title": "3rd row & 3rd column"
    }
   },
   "outputs": [
    {
     "output_type": "stream",
     "name": "stdout",
     "output_type": "stream",
     "text": [
      "Representative\n"
     ]
    }
   ],
   "source": [
    "# returns the value of the 3rd row & 3rd column\n",
    "print(df.select(['dept_name', 'dept_id', 'Designation']).collect()[2][2])"
   ]
  },
  {
   "cell_type": "markdown",
   "metadata": {
    "application/vnd.databricks.v1+cell": {
     "cellMetadata": {},
     "inputWidgets": {},
     "nuid": "8a41c44f-75f4-4342-9674-b197d4af91b3",
     "showTitle": false,
     "tableResultSettingsMap": {},
     "title": ""
    }
   },
   "source": [
    "     # returns the value of the 4th row & 1st column\n",
    "     print(df.select(['dept_name', 'dept_id', 'Designation']).collect()[3][0])\n",
    "\n",
    "     # returns the value of the 4th row & 2nd column\n",
    "     print(df.select(['dept_name', 'dept_id', 'Designation']).collect()[3][1])\n",
    "\n",
    "     # returns the value of the 4th row & 3rd column\n",
    "     print(df.select(['dept_name', 'dept_id', 'Designation']).collect()[3][2])"
   ]
  },
  {
   "cell_type": "code",
   "execution_count": 0,
   "metadata": {
    "application/vnd.databricks.v1+cell": {
     "cellMetadata": {
      "byteLimit": 2048000,
      "rowLimit": 10000
     },
     "inputWidgets": {},
     "nuid": "4546590e-0234-4852-9a66-8510bede33df",
     "showTitle": true,
     "tableResultSettingsMap": {},
     "title": "4th row & 1st column"
    }
   },
   "outputs": [
    {
     "output_type": "stream",
     "name": "stdout",
     "output_type": "stream",
     "text": [
      "IT\n"
     ]
    }
   ],
   "source": [
    "# returns the value of the 4th row & 1st column\n",
    "print(df.select(['dept_name', 'dept_id', 'Designation']).collect()[3][0])"
   ]
  },
  {
   "cell_type": "code",
   "execution_count": 0,
   "metadata": {
    "application/vnd.databricks.v1+cell": {
     "cellMetadata": {
      "byteLimit": 2048000,
      "rowLimit": 10000
     },
     "inputWidgets": {},
     "nuid": "a9eafdc8-67a0-4e4d-a387-feb0664e2d37",
     "showTitle": true,
     "tableResultSettingsMap": {},
     "title": "4th row & 2nd column"
    }
   },
   "outputs": [
    {
     "output_type": "stream",
     "name": "stdout",
     "output_type": "stream",
     "text": [
      "40\n"
     ]
    }
   ],
   "source": [
    "# returns the value of the 4th row & 2nd column\n",
    "print(df.select(['dept_name', 'dept_id', 'Designation']).collect()[3][1])"
   ]
  },
  {
   "cell_type": "code",
   "execution_count": 0,
   "metadata": {
    "application/vnd.databricks.v1+cell": {
     "cellMetadata": {
      "byteLimit": 2048000,
      "rowLimit": 10000
     },
     "inputWidgets": {},
     "nuid": "625d5ec6-9508-4d7a-a8d9-95d3874c3d74",
     "showTitle": true,
     "tableResultSettingsMap": {},
     "title": "4th row & 3rd column"
    }
   },
   "outputs": [
    {
     "output_type": "stream",
     "name": "stdout",
     "output_type": "stream",
     "text": [
      "Software\n"
     ]
    }
   ],
   "source": [
    "# returns the value of the 4th row & 3rd column\n",
    "print(df.select(['dept_name', 'dept_id', 'Designation']).collect()[3][2])"
   ]
  }
 ],
 "metadata": {
  "application/vnd.databricks.v1+notebook": {
   "computePreferences": null,
   "dashboards": [],
   "environmentMetadata": null,
   "language": "python",
   "notebookMetadata": {
    "pythonIndentUnit": 4
   },
   "notebookName": "4_Databricks_Pyspark_Collect() function",
   "widgets": {}
  }
 },
 "nbformat": 4,
 "nbformat_minor": 0
}
