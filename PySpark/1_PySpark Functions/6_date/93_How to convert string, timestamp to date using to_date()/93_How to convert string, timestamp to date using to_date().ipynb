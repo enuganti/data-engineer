{
 "cells": [
  {
   "cell_type": "markdown",
   "metadata": {
    "application/vnd.databricks.v1+cell": {
     "cellMetadata": {},
     "inputWidgets": {},
     "nuid": "73686bc7-a3ee-4770-9ba6-d3a4862283e7",
     "showTitle": false,
     "tableResultSettingsMap": {},
     "title": ""
    }
   },
   "source": [
    "#### to_date()\n",
    "\n",
    "✅ **to_date()** function is used to format a **\"date string\" (or) \"timestamp string\" column** into the **\"Date\" Type column** using a **specified format**.\n",
    "\n",
    "✅ If the **format is not provided**, to_date() takes the **default value as 'yyyy-MM-dd'**.\n",
    "\n",
    "✅ Extracts only the **date** portion **(removes time part if present)**.\n",
    "\n",
    "✅ Returns **NULL** if the format does **not match**."
   ]
  },
  {
   "cell_type": "markdown",
   "metadata": {
    "application/vnd.databricks.v1+cell": {
     "cellMetadata": {},
     "inputWidgets": {},
     "nuid": "57d00479-3ee5-406e-b12f-d9524639396a",
     "showTitle": false,
     "tableResultSettingsMap": {},
     "title": ""
    }
   },
   "source": [
    "- **to_date():** extracts **only the date** part (ignores time).\n",
    "- **to_timestamp():** parses **both date and time**."
   ]
  },
  {
   "cell_type": "markdown",
   "metadata": {
    "application/vnd.databricks.v1+cell": {
     "cellMetadata": {},
     "inputWidgets": {},
     "nuid": "f058d446-56e9-4396-a744-bf12fdef88d4",
     "showTitle": false,
     "tableResultSettingsMap": {},
     "title": ""
    }
   },
   "source": [
    "**Syntax:**\n",
    "\n",
    "     to_date(column,format)"
   ]
  },
  {
   "cell_type": "markdown",
   "metadata": {
    "application/vnd.databricks.v1+cell": {
     "cellMetadata": {},
     "inputWidgets": {},
     "nuid": "401b7a8f-b2ec-4ad6-b345-9f60c940edad",
     "showTitle": false,
     "tableResultSettingsMap": {},
     "title": ""
    }
   },
   "source": [
    "**Example:**\n",
    "\n",
    "##### to_date()\n",
    "\n",
    "1) Converting a **String** Column with **Default Format**.\n",
    "   - If your **date strings** follow the **default** format **\"yyyy-MM-dd\"**, you can simply apply **to_date without specifying a format**.\n",
    "\n",
    "2) Converting a **String** Column with a **Custom Format**\n",
    "\n",
    "   - If your **date strings** are in a **different** format (e.g., **\"MM/dd/yyyy\"**), you **must specify the format** in the **to_date** function.\n",
    "\n",
    "|      col_name\t        |         format                   | default format: yyyy-MM-dd  |  After to_date(col_name, \"yyyy-MM-dd\") | correct format |\n",
    "|-----------------------|----------------------------------|-----------------------------|----------------------------------------|----------------|\n",
    "| \"2024-03-06\"\t        |  to_date(\"2024-03-06\")           |      Matching               |         2024-03-06 (Date)              | to_date(\"2024-03-06\") |\n",
    "| \"06-03-2024\"\t        |  to_date(\"06-03-2024\")           |      Not Matching           |       NULL (Format mismatch)           | to_date(\"06-03-2024\", \"dd-MM-yyyy\") |\n",
    "| \"2024-03-06 12:30:00\" |\t to_date(\"2024-03-06 12:30:00\")  |      Not Matching           |      2024-03-06 (Time removed)         | to_date(\"2024-03-06 12:30:00\", \"yyyy-MM-dd HH:mm:ss\") |"
   ]
  },
  {
   "cell_type": "markdown",
   "metadata": {
    "application/vnd.databricks.v1+cell": {
     "cellMetadata": {},
     "inputWidgets": {},
     "nuid": "32b90a86-6e73-4eed-86bb-5e6b6f20b3f3",
     "showTitle": false,
     "tableResultSettingsMap": {},
     "title": ""
    }
   },
   "source": [
    "#### 1) Converting a \"String\" Column with \"Default Format\"\n",
    "\n",
    "- If your **date strings** follow the **default** format **\"yyyy-MM-dd\"**, you can simply apply **to_date**, **without specifying a format**."
   ]
  },
  {
   "cell_type": "code",
   "execution_count": 0,
   "metadata": {
    "application/vnd.databricks.v1+cell": {
     "cellMetadata": {
      "byteLimit": 2048000,
      "rowLimit": 10000
     },
     "inputWidgets": {},
     "nuid": "48646808-18cf-481f-b1b8-aeb603b22d52",
     "showTitle": true,
     "tableResultSettingsMap": {},
     "title": "import required functions"
    }
   },
   "outputs": [],
   "source": [
    "from pyspark.sql.functions import to_date, col"
   ]
  },
  {
   "cell_type": "code",
   "execution_count": 0,
   "metadata": {
    "application/vnd.databricks.v1+cell": {
     "cellMetadata": {
      "byteLimit": 2048000,
      "rowLimit": 10000
     },
     "inputWidgets": {},
     "nuid": "273c3bac-715d-4bfc-b6b8-34cb5290a547",
     "showTitle": true,
     "tableResultSettingsMap": {},
     "title": "transform \"date string\" to \"date\""
    }
   },
   "outputs": [
    {
     "output_type": "display_data",
     "data": {
      "text/html": [
       "<style scoped>\n",
       "  .table-result-container {\n",
       "    max-height: 300px;\n",
       "    overflow: auto;\n",
       "  }\n",
       "  table, th, td {\n",
       "    border: 1px solid black;\n",
       "    border-collapse: collapse;\n",
       "  }\n",
       "  th, td {\n",
       "    padding: 5px;\n",
       "  }\n",
       "  th {\n",
       "    text-align: left;\n",
       "  }\n",
       "</style><div class='table-result-container'><table class='table-result'><thead style='background-color: white'><tr><th>date_string</th><th>date_parsed</th></tr></thead><tbody><tr><td>2021-12-01</td><td>2021-12-01</td></tr><tr><td>2022-01-15</td><td>2022-01-15</td></tr><tr><td>2023-03-20</td><td>2023-03-20</td></tr><tr><td>2024-06-28</td><td>2024-06-28</td></tr><tr><td>2025-09-12</td><td>2025-09-12</td></tr><tr><td>2025-03-22</td><td>2025-03-22</td></tr></tbody></table></div>"
      ]
     },
     "metadata": {
      "application/vnd.databricks.v1+output": {
       "addedWidgets": {},
       "aggData": [],
       "aggError": "",
       "aggOverflow": false,
       "aggSchema": [],
       "aggSeriesLimitReached": false,
       "aggType": "",
       "arguments": {},
       "columnCustomDisplayInfos": {},
       "data": [
        [
         "2021-12-01",
         "2021-12-01"
        ],
        [
         "2022-01-15",
         "2022-01-15"
        ],
        [
         "2023-03-20",
         "2023-03-20"
        ],
        [
         "2024-06-28",
         "2024-06-28"
        ],
        [
         "2025-09-12",
         "2025-09-12"
        ],
        [
         "2025-03-22",
         "2025-03-22"
        ]
       ],
       "datasetInfos": [],
       "dbfsResultPath": null,
       "isJsonSchema": true,
       "metadata": {},
       "overflow": false,
       "plotOptions": {
        "customPlotOptions": {},
        "displayType": "table",
        "pivotAggregation": null,
        "pivotColumns": null,
        "xColumns": null,
        "yColumns": null
       },
       "removedWidgets": [],
       "schema": [
        {
         "metadata": "{}",
         "name": "date_string",
         "type": "\"string\""
        },
        {
         "metadata": "{}",
         "name": "date_parsed",
         "type": "\"date\""
        }
       ],
       "type": "table"
      }
     },
     "output_type": "display_data"
    }
   ],
   "source": [
    "# Sample data with date in default format \"yyyy-MM-dd\"\n",
    "data = [(\"2021-12-01\",),\n",
    "        (\"2022-01-15\",),\n",
    "        (\"2023-03-20\",),\n",
    "        (\"2024-06-28\",),\n",
    "        (\"2025-09-12\",),\n",
    "        (\"2025-03-22\",)]\n",
    "\n",
    "columns = [\"date_string\"]\n",
    "\n",
    "# Create DataFrame\n",
    "df_default = spark.createDataFrame(data, columns)\n",
    "\n",
    "# Convert string column to date type\n",
    "df_with_date = df_default.withColumn(\"date_parsed\", to_date(col(\"date_string\")))\n",
    "display(df_with_date)"
   ]
  },
  {
   "cell_type": "markdown",
   "metadata": {
    "application/vnd.databricks.v1+cell": {
     "cellMetadata": {},
     "inputWidgets": {},
     "nuid": "f84f30fa-0358-4d8e-83c7-564c62b5c635",
     "showTitle": false,
     "tableResultSettingsMap": {},
     "title": ""
    }
   },
   "source": [
    "#### 2) Converting a \"String\" Column with a \"Custom Format\"\n",
    "\n",
    "- If your **date strings** are in a **different** format (e.g., **\"MM/dd/yyyy\"**), you **must specify the format** in the **to_date** function.\n",
    "- Suppose you have **multiple columns** with **dates in different formats**.\n",
    "- You can **convert** each one separately by applying **to_date** with the **corresponding format**."
   ]
  },
  {
   "cell_type": "markdown",
   "metadata": {
    "application/vnd.databricks.v1+cell": {
     "cellMetadata": {},
     "inputWidgets": {},
     "nuid": "ddd2d044-d902-4f51-b6eb-61544ad9e920",
     "showTitle": false,
     "tableResultSettingsMap": {},
     "title": ""
    }
   },
   "source": [
    "**Ex 01**"
   ]
  },
  {
   "cell_type": "code",
   "execution_count": 0,
   "metadata": {
    "application/vnd.databricks.v1+cell": {
     "cellMetadata": {
      "byteLimit": 2048000,
      "rowLimit": 10000
     },
     "inputWidgets": {},
     "nuid": "1e9f1f2b-726b-4e3c-8766-e40e5516c67a",
     "showTitle": true,
     "tableResultSettingsMap": {
      "0": {
       "dataGridStateBlob": "{\"version\":1,\"tableState\":{\"columnPinning\":{\"left\":[\"#row_number#\"],\"right\":[]},\"columnSizing\":{\"ts_format_04\":169},\"columnVisibility\":{}},\"settings\":{\"columns\":{}},\"syncTimestamp\":1756230350816}",
       "filterBlob": null,
       "queryPlanFiltersBlob": null,
       "tableResultIndex": 0
      }
     },
     "title": "custom format: Example 01"
    }
   },
   "outputs": [
    {
     "output_type": "display_data",
     "data": {
      "text/html": [
       "<style scoped>\n",
       "  .table-result-container {\n",
       "    max-height: 300px;\n",
       "    overflow: auto;\n",
       "  }\n",
       "  table, th, td {\n",
       "    border: 1px solid black;\n",
       "    border-collapse: collapse;\n",
       "  }\n",
       "  th, td {\n",
       "    padding: 5px;\n",
       "  }\n",
       "  th {\n",
       "    text-align: left;\n",
       "  }\n",
       "</style><div class='table-result-container'><table class='table-result'><thead style='background-color: white'><tr><th>ts_format_01</th><th>ts_format_02</th><th>ts_format_03</th><th>ts_format_04</th><th>date_parsed_01</th><th>date_parsed_02</th><th>date_parsed_03</th><th>date_parsed_04</th></tr></thead><tbody><tr><td>12/01/2021</td><td>25/04/2023 2:00</td><td>6-Feb-23</td><td>2021-07-24 12:01:19.335</td><td>2021-12-01</td><td>2023-04-25</td><td>2023-02-06</td><td>2021-07-24</td></tr><tr><td>01/15/2022</td><td>26/04/2023 6:01</td><td>1-Mar-22</td><td>2019-07-22 13:02:20.220</td><td>2022-01-15</td><td>2023-04-26</td><td>2022-03-01</td><td>2019-07-22</td></tr><tr><td>03/20/2023</td><td>20/01/2020 4:01</td><td>9-Apr-24</td><td>2021-07-25 03:03:13.098</td><td>2023-03-20</td><td>2020-01-20</td><td>2024-04-09</td><td>2021-07-25</td></tr><tr><td>05/25/2024</td><td>26/04/2023 2:02</td><td>8-May-20</td><td>2023-09-25 15:33:43.054</td><td>2024-05-25</td><td>2023-04-26</td><td>2020-05-08</td><td>2023-09-25</td></tr><tr><td>07/20/2025</td><td>25/04/2023 5:02</td><td>7-Jun-21</td><td>2024-05-25 23:53:53.023</td><td>2025-07-20</td><td>2023-04-25</td><td>2021-06-07</td><td>2024-05-25</td></tr><tr><td>09/29/2020</td><td>25/04/2023 9:03</td><td>5-Jul-23</td><td>2024-04-12 13:33:53.323</td><td>2020-09-29</td><td>2023-04-25</td><td>2023-07-05</td><td>2024-04-12</td></tr></tbody></table></div>"
      ]
     },
     "metadata": {
      "application/vnd.databricks.v1+output": {
       "addedWidgets": {},
       "aggData": [],
       "aggError": "",
       "aggOverflow": false,
       "aggSchema": [],
       "aggSeriesLimitReached": false,
       "aggType": "",
       "arguments": {},
       "columnCustomDisplayInfos": {},
       "data": [
        [
         "12/01/2021",
         "25/04/2023 2:00",
         "6-Feb-23",
         "2021-07-24 12:01:19.335",
         "2021-12-01",
         "2023-04-25",
         "2023-02-06",
         "2021-07-24"
        ],
        [
         "01/15/2022",
         "26/04/2023 6:01",
         "1-Mar-22",
         "2019-07-22 13:02:20.220",
         "2022-01-15",
         "2023-04-26",
         "2022-03-01",
         "2019-07-22"
        ],
        [
         "03/20/2023",
         "20/01/2020 4:01",
         "9-Apr-24",
         "2021-07-25 03:03:13.098",
         "2023-03-20",
         "2020-01-20",
         "2024-04-09",
         "2021-07-25"
        ],
        [
         "05/25/2024",
         "26/04/2023 2:02",
         "8-May-20",
         "2023-09-25 15:33:43.054",
         "2024-05-25",
         "2023-04-26",
         "2020-05-08",
         "2023-09-25"
        ],
        [
         "07/20/2025",
         "25/04/2023 5:02",
         "7-Jun-21",
         "2024-05-25 23:53:53.023",
         "2025-07-20",
         "2023-04-25",
         "2021-06-07",
         "2024-05-25"
        ],
        [
         "09/29/2020",
         "25/04/2023 9:03",
         "5-Jul-23",
         "2024-04-12 13:33:53.323",
         "2020-09-29",
         "2023-04-25",
         "2023-07-05",
         "2024-04-12"
        ]
       ],
       "datasetInfos": [],
       "dbfsResultPath": null,
       "isJsonSchema": true,
       "metadata": {},
       "overflow": false,
       "plotOptions": {
        "customPlotOptions": {},
        "displayType": "table",
        "pivotAggregation": null,
        "pivotColumns": null,
        "xColumns": null,
        "yColumns": null
       },
       "removedWidgets": [],
       "schema": [
        {
         "metadata": "{}",
         "name": "ts_format_01",
         "type": "\"string\""
        },
        {
         "metadata": "{}",
         "name": "ts_format_02",
         "type": "\"string\""
        },
        {
         "metadata": "{}",
         "name": "ts_format_03",
         "type": "\"string\""
        },
        {
         "metadata": "{}",
         "name": "ts_format_04",
         "type": "\"string\""
        },
        {
         "metadata": "{}",
         "name": "date_parsed_01",
         "type": "\"date\""
        },
        {
         "metadata": "{}",
         "name": "date_parsed_02",
         "type": "\"date\""
        },
        {
         "metadata": "{}",
         "name": "date_parsed_03",
         "type": "\"date\""
        },
        {
         "metadata": "{}",
         "name": "date_parsed_04",
         "type": "\"date\""
        }
       ],
       "type": "table"
      }
     },
     "output_type": "display_data"
    }
   ],
   "source": [
    "# Sample data with date in \"MM/dd/yyyy\" format\n",
    "data = [(\"12/01/2021\", \"25/04/2023 2:00\", \"6-Feb-23\", \"2021-07-24 12:01:19.335\"),\n",
    "        (\"01/15/2022\", \"26/04/2023 6:01\", \"1-Mar-22\", \"2019-07-22 13:02:20.220\"),\n",
    "        (\"03/20/2023\", \"20/01/2020 4:01\", \"9-Apr-24\", \"2021-07-25 03:03:13.098\"),\n",
    "        (\"05/25/2024\", \"26/04/2023 2:02\", \"8-May-20\", \"2023-09-25 15:33:43.054\"),\n",
    "        (\"07/20/2025\", \"25/04/2023 5:02\", \"7-Jun-21\", \"2024-05-25 23:53:53.023\"),\n",
    "        (\"09/29/2020\", \"25/04/2023 9:03\", \"5-Jul-23\", \"2024-04-12 13:33:53.323\")]\n",
    "\n",
    "columns = [\"ts_format_01\", \"ts_format_02\", \"ts_format_03\", \"ts_format_04\"]\n",
    "\n",
    "# Create DataFrame\n",
    "df_custom = spark.createDataFrame(data, columns)\n",
    "\n",
    "# Convert string column to date type using custom format\n",
    "df_with_date = df_custom\\\n",
    "    .withColumn(\"date_parsed_01\", to_date(col(\"ts_format_01\"), \"MM/dd/yyyy\")) \\\n",
    "    .withColumn(\"date_parsed_02\", to_date(col(\"ts_format_02\"), \"dd/MM/yyyy H:mm\")) \\\n",
    "    .withColumn(\"date_parsed_03\", to_date(col(\"ts_format_03\"), \"d-MMM-yy\")) \\\n",
    "    .withColumn(\"date_parsed_04\", to_date(col(\"ts_format_04\"))) # default format yyyy-MM-dd HH:\n",
    "display(df_with_date)"
   ]
  },
  {
   "cell_type": "markdown",
   "metadata": {
    "application/vnd.databricks.v1+cell": {
     "cellMetadata": {},
     "inputWidgets": {},
     "nuid": "61e8e2e6-361f-4aa7-a1b9-79c866357868",
     "showTitle": false,
     "tableResultSettingsMap": {},
     "title": ""
    }
   },
   "source": [
    "**Ex 02**"
   ]
  },
  {
   "cell_type": "code",
   "execution_count": 0,
   "metadata": {
    "application/vnd.databricks.v1+cell": {
     "cellMetadata": {
      "byteLimit": 2048000,
      "rowLimit": 10000
     },
     "inputWidgets": {},
     "nuid": "9f311798-d689-48dd-af94-b9d5fb15b25c",
     "showTitle": true,
     "tableResultSettingsMap": {},
     "title": "custom format dataframe"
    }
   },
   "outputs": [
    {
     "output_type": "display_data",
     "data": {
      "text/html": [
       "<style scoped>\n",
       "  .table-result-container {\n",
       "    max-height: 300px;\n",
       "    overflow: auto;\n",
       "  }\n",
       "  table, th, td {\n",
       "    border: 1px solid black;\n",
       "    border-collapse: collapse;\n",
       "  }\n",
       "  th, td {\n",
       "    padding: 5px;\n",
       "  }\n",
       "  th {\n",
       "    text-align: left;\n",
       "  }\n",
       "</style><div class='table-result-container'><table class='table-result'><thead style='background-color: white'><tr><th>d1</th><th>d2</th><th>d3</th><th>d4</th><th>d5</th><th>d6</th></tr></thead><tbody><tr><td>2025-03-26</td><td>26-03-2025</td><td>02/12/2022</td><td>6-Feb-23</td><td>invalid_date</td><td>06-03-2019</td></tr><tr><td>2024-12-31</td><td>31-12-2024</td><td>04/15/2023</td><td>8-Jan-24</td><td>invalid_date</td><td>16-04-2020</td></tr><tr><td>2023-07-15</td><td>15-07-2023</td><td>06/18/2024</td><td>6-Mar-23</td><td>invalid_date</td><td>26-05-2021</td></tr><tr><td>2022-05-25</td><td>25-03-2020</td><td>07/20/2025</td><td>7-Jan-25</td><td>invalid_date</td><td>14-06-2022</td></tr><tr><td>1998-08-05</td><td>08-05-1982</td><td>08/22/2020</td><td>8-Apr-23</td><td>null</td><td>19-11-2023</td></tr><tr><td>1995-09-29</td><td>29-09-2021</td><td>09/29/2010</td><td>9-Feb-25</td><td>null</td><td>29-12-2024</td></tr><tr><td>1995-09-29</td><td>29-09-2021</td><td>09/29/2010</td><td>9-Feb-25</td><td>2025-03-25</td><td>29-12-2024</td></tr><tr><td>1995-09-29</td><td>29-09-2021</td><td>09/29/2010</td><td>9-Feb-25</td><td>2024-09-12</td><td>29-12-2024</td></tr><tr><td>1995-09-29</td><td>29-09-2021</td><td>09/29/2010</td><td>9-Feb-25</td><td>2020-11-29</td><td>29-12-2024</td></tr></tbody></table></div>"
      ]
     },
     "metadata": {
      "application/vnd.databricks.v1+output": {
       "addedWidgets": {},
       "aggData": [],
       "aggError": "",
       "aggOverflow": false,
       "aggSchema": [],
       "aggSeriesLimitReached": false,
       "aggType": "",
       "arguments": {},
       "columnCustomDisplayInfos": {},
       "data": [
        [
         "2025-03-26",
         "26-03-2025",
         "02/12/2022",
         "6-Feb-23",
         "invalid_date",
         "06-03-2019"
        ],
        [
         "2024-12-31",
         "31-12-2024",
         "04/15/2023",
         "8-Jan-24",
         "invalid_date",
         "16-04-2020"
        ],
        [
         "2023-07-15",
         "15-07-2023",
         "06/18/2024",
         "6-Mar-23",
         "invalid_date",
         "26-05-2021"
        ],
        [
         "2022-05-25",
         "25-03-2020",
         "07/20/2025",
         "7-Jan-25",
         "invalid_date",
         "14-06-2022"
        ],
        [
         "1998-08-05",
         "08-05-1982",
         "08/22/2020",
         "8-Apr-23",
         null,
         "19-11-2023"
        ],
        [
         "1995-09-29",
         "29-09-2021",
         "09/29/2010",
         "9-Feb-25",
         null,
         "29-12-2024"
        ],
        [
         "1995-09-29",
         "29-09-2021",
         "09/29/2010",
         "9-Feb-25",
         "2025-03-25",
         "29-12-2024"
        ],
        [
         "1995-09-29",
         "29-09-2021",
         "09/29/2010",
         "9-Feb-25",
         "2024-09-12",
         "29-12-2024"
        ],
        [
         "1995-09-29",
         "29-09-2021",
         "09/29/2010",
         "9-Feb-25",
         "2020-11-29",
         "29-12-2024"
        ]
       ],
       "datasetInfos": [],
       "dbfsResultPath": null,
       "isJsonSchema": true,
       "metadata": {},
       "overflow": false,
       "plotOptions": {
        "customPlotOptions": {},
        "displayType": "table",
        "pivotAggregation": null,
        "pivotColumns": null,
        "xColumns": null,
        "yColumns": null
       },
       "removedWidgets": [],
       "schema": [
        {
         "metadata": "{}",
         "name": "d1",
         "type": "\"string\""
        },
        {
         "metadata": "{}",
         "name": "d2",
         "type": "\"string\""
        },
        {
         "metadata": "{}",
         "name": "d3",
         "type": "\"string\""
        },
        {
         "metadata": "{}",
         "name": "d4",
         "type": "\"string\""
        },
        {
         "metadata": "{}",
         "name": "d5",
         "type": "\"string\""
        },
        {
         "metadata": "{}",
         "name": "d6",
         "type": "\"string\""
        }
       ],
       "type": "table"
      }
     },
     "output_type": "display_data"
    }
   ],
   "source": [
    "data1 = [(\"2025-03-26\", \"26-03-2025\", \"02/12/2022\", \"6-Feb-23\", \"invalid_date\", \"06-03-2019\"),\n",
    "         (\"2024-12-31\", \"31-12-2024\", \"04/15/2023\", \"8-Jan-24\", \"invalid_date\", \"16-04-2020\"),\n",
    "         (\"2023-07-15\", \"15-07-2023\", \"06/18/2024\", \"6-Mar-23\", \"invalid_date\", \"26-05-2021\"),\n",
    "         (\"2022-05-25\", \"25-03-2020\", \"07/20/2025\", \"7-Jan-25\", \"invalid_date\", \"14-06-2022\"),\n",
    "         (\"1998-08-05\", \"08-05-1982\", \"08/22/2020\", \"8-Apr-23\", None, \"19-11-2023\"),\n",
    "         (\"1995-09-29\", \"29-09-2021\", \"09/29/2010\", \"9-Feb-25\", None, \"29-12-2024\"),\n",
    "         (\"1995-09-29\", \"29-09-2021\", \"09/29/2010\", \"9-Feb-25\", \"2025-03-25\", \"29-12-2024\"),\n",
    "         (\"1995-09-29\", \"29-09-2021\", \"09/29/2010\", \"9-Feb-25\", \"2024-09-12\", \"29-12-2024\"),\n",
    "         (\"1995-09-29\", \"29-09-2021\", \"09/29/2010\", \"9-Feb-25\", \"2020-11-29\", \"29-12-2024\")\n",
    "        ]\n",
    "columns1 = [\"d1\", \"d2\", \"d3\", \"d4\", \"d5\", \"d6\"]\n",
    "\n",
    "df_custom_01 = spark.createDataFrame(data1, columns1)\n",
    "display(df_custom_01)"
   ]
  },
  {
   "cell_type": "code",
   "execution_count": 0,
   "metadata": {
    "application/vnd.databricks.v1+cell": {
     "cellMetadata": {
      "byteLimit": 2048000,
      "rowLimit": 10000
     },
     "inputWidgets": {},
     "nuid": "3995681d-c88d-4fe4-979a-3ad54b7af740",
     "showTitle": true,
     "tableResultSettingsMap": {},
     "title": "Convert default & custom format columns"
    }
   },
   "outputs": [
    {
     "output_type": "display_data",
     "data": {
      "text/html": [
       "<style scoped>\n",
       "  .table-result-container {\n",
       "    max-height: 300px;\n",
       "    overflow: auto;\n",
       "  }\n",
       "  table, th, td {\n",
       "    border: 1px solid black;\n",
       "    border-collapse: collapse;\n",
       "  }\n",
       "  th, td {\n",
       "    padding: 5px;\n",
       "  }\n",
       "  th {\n",
       "    text-align: left;\n",
       "  }\n",
       "</style><div class='table-result-container'><table class='table-result'><thead style='background-color: white'><tr><th>d1</th><th>d2</th><th>d3</th><th>d4</th><th>d5</th><th>d6</th><th>d1_custom</th><th>d2_custom</th><th>d3_custom</th><th>d4_custom</th><th>d5_custom</th><th>d6_custom</th></tr></thead><tbody><tr><td>2025-03-26</td><td>26-03-2025</td><td>02/12/2022</td><td>6-Feb-23</td><td>invalid_date</td><td>06-03-2019</td><td>2025-03-26</td><td>2025-03-26</td><td>2022-02-12</td><td>2023-02-06</td><td>null</td><td>2019-03-06</td></tr><tr><td>2024-12-31</td><td>31-12-2024</td><td>04/15/2023</td><td>8-Jan-24</td><td>invalid_date</td><td>16-04-2020</td><td>2024-12-31</td><td>2024-12-31</td><td>2023-04-15</td><td>2024-01-08</td><td>null</td><td>2020-04-16</td></tr><tr><td>2023-07-15</td><td>15-07-2023</td><td>06/18/2024</td><td>6-Mar-23</td><td>invalid_date</td><td>26-05-2021</td><td>2023-07-15</td><td>2023-07-15</td><td>2024-06-18</td><td>2023-03-06</td><td>null</td><td>2021-05-26</td></tr><tr><td>2022-05-25</td><td>25-03-2020</td><td>07/20/2025</td><td>7-Jan-25</td><td>invalid_date</td><td>14-06-2022</td><td>2022-05-25</td><td>2020-03-25</td><td>2025-07-20</td><td>2025-01-07</td><td>null</td><td>2022-06-14</td></tr><tr><td>1998-08-05</td><td>08-05-1982</td><td>08/22/2020</td><td>8-Apr-23</td><td>null</td><td>19-11-2023</td><td>1998-08-05</td><td>1982-05-08</td><td>2020-08-22</td><td>2023-04-08</td><td>null</td><td>2023-11-19</td></tr><tr><td>1995-09-29</td><td>29-09-2021</td><td>09/29/2010</td><td>9-Feb-25</td><td>null</td><td>29-12-2024</td><td>1995-09-29</td><td>2021-09-29</td><td>2010-09-29</td><td>2025-02-09</td><td>null</td><td>2024-12-29</td></tr><tr><td>1995-09-29</td><td>29-09-2021</td><td>09/29/2010</td><td>9-Feb-25</td><td>2025-03-25</td><td>29-12-2024</td><td>1995-09-29</td><td>2021-09-29</td><td>2010-09-29</td><td>2025-02-09</td><td>2025-03-25</td><td>2024-12-29</td></tr><tr><td>1995-09-29</td><td>29-09-2021</td><td>09/29/2010</td><td>9-Feb-25</td><td>2024-09-12</td><td>29-12-2024</td><td>1995-09-29</td><td>2021-09-29</td><td>2010-09-29</td><td>2025-02-09</td><td>2024-09-12</td><td>2024-12-29</td></tr><tr><td>1995-09-29</td><td>29-09-2021</td><td>09/29/2010</td><td>9-Feb-25</td><td>2020-11-29</td><td>29-12-2024</td><td>1995-09-29</td><td>2021-09-29</td><td>2010-09-29</td><td>2025-02-09</td><td>2020-11-29</td><td>2024-12-29</td></tr></tbody></table></div>"
      ]
     },
     "metadata": {
      "application/vnd.databricks.v1+output": {
       "addedWidgets": {},
       "aggData": [],
       "aggError": "",
       "aggOverflow": false,
       "aggSchema": [],
       "aggSeriesLimitReached": false,
       "aggType": "",
       "arguments": {},
       "columnCustomDisplayInfos": {},
       "data": [
        [
         "2025-03-26",
         "26-03-2025",
         "02/12/2022",
         "6-Feb-23",
         "invalid_date",
         "06-03-2019",
         "2025-03-26",
         "2025-03-26",
         "2022-02-12",
         "2023-02-06",
         null,
         "2019-03-06"
        ],
        [
         "2024-12-31",
         "31-12-2024",
         "04/15/2023",
         "8-Jan-24",
         "invalid_date",
         "16-04-2020",
         "2024-12-31",
         "2024-12-31",
         "2023-04-15",
         "2024-01-08",
         null,
         "2020-04-16"
        ],
        [
         "2023-07-15",
         "15-07-2023",
         "06/18/2024",
         "6-Mar-23",
         "invalid_date",
         "26-05-2021",
         "2023-07-15",
         "2023-07-15",
         "2024-06-18",
         "2023-03-06",
         null,
         "2021-05-26"
        ],
        [
         "2022-05-25",
         "25-03-2020",
         "07/20/2025",
         "7-Jan-25",
         "invalid_date",
         "14-06-2022",
         "2022-05-25",
         "2020-03-25",
         "2025-07-20",
         "2025-01-07",
         null,
         "2022-06-14"
        ],
        [
         "1998-08-05",
         "08-05-1982",
         "08/22/2020",
         "8-Apr-23",
         null,
         "19-11-2023",
         "1998-08-05",
         "1982-05-08",
         "2020-08-22",
         "2023-04-08",
         null,
         "2023-11-19"
        ],
        [
         "1995-09-29",
         "29-09-2021",
         "09/29/2010",
         "9-Feb-25",
         null,
         "29-12-2024",
         "1995-09-29",
         "2021-09-29",
         "2010-09-29",
         "2025-02-09",
         null,
         "2024-12-29"
        ],
        [
         "1995-09-29",
         "29-09-2021",
         "09/29/2010",
         "9-Feb-25",
         "2025-03-25",
         "29-12-2024",
         "1995-09-29",
         "2021-09-29",
         "2010-09-29",
         "2025-02-09",
         "2025-03-25",
         "2024-12-29"
        ],
        [
         "1995-09-29",
         "29-09-2021",
         "09/29/2010",
         "9-Feb-25",
         "2024-09-12",
         "29-12-2024",
         "1995-09-29",
         "2021-09-29",
         "2010-09-29",
         "2025-02-09",
         "2024-09-12",
         "2024-12-29"
        ],
        [
         "1995-09-29",
         "29-09-2021",
         "09/29/2010",
         "9-Feb-25",
         "2020-11-29",
         "29-12-2024",
         "1995-09-29",
         "2021-09-29",
         "2010-09-29",
         "2025-02-09",
         "2020-11-29",
         "2024-12-29"
        ]
       ],
       "datasetInfos": [],
       "dbfsResultPath": null,
       "isJsonSchema": true,
       "metadata": {},
       "overflow": false,
       "plotOptions": {
        "customPlotOptions": {},
        "displayType": "table",
        "pivotAggregation": null,
        "pivotColumns": null,
        "xColumns": null,
        "yColumns": null
       },
       "removedWidgets": [],
       "schema": [
        {
         "metadata": "{}",
         "name": "d1",
         "type": "\"string\""
        },
        {
         "metadata": "{}",
         "name": "d2",
         "type": "\"string\""
        },
        {
         "metadata": "{}",
         "name": "d3",
         "type": "\"string\""
        },
        {
         "metadata": "{}",
         "name": "d4",
         "type": "\"string\""
        },
        {
         "metadata": "{}",
         "name": "d5",
         "type": "\"string\""
        },
        {
         "metadata": "{}",
         "name": "d6",
         "type": "\"string\""
        },
        {
         "metadata": "{}",
         "name": "d1_custom",
         "type": "\"date\""
        },
        {
         "metadata": "{}",
         "name": "d2_custom",
         "type": "\"date\""
        },
        {
         "metadata": "{}",
         "name": "d3_custom",
         "type": "\"date\""
        },
        {
         "metadata": "{}",
         "name": "d4_custom",
         "type": "\"date\""
        },
        {
         "metadata": "{}",
         "name": "d5_custom",
         "type": "\"date\""
        },
        {
         "metadata": "{}",
         "name": "d6_custom",
         "type": "\"date\""
        }
       ],
       "type": "table"
      }
     },
     "output_type": "display_data"
    }
   ],
   "source": [
    "# Convert each string column to date type with appropriate format\n",
    "from pyspark.sql.functions import col, to_date, when\n",
    "\n",
    "df1_with_date = (\n",
    "    df_custom_01\n",
    "    .withColumn(\"d1_custom\", to_date(col(\"d1\")))  # default yyyy-MM-dd\n",
    "    .withColumn(\"d2_custom\", to_date(col(\"d2\"), \"dd-MM-yyyy\"))\n",
    "    .withColumn(\"d3_custom\", to_date(col(\"d3\"), \"MM/dd/yyyy\"))\n",
    "    .withColumn(\"d4_custom\", to_date(col(\"d4\"), \"d-MMM-yy\"))\n",
    "    .withColumn(\n",
    "        \"d5_custom\",\n",
    "        when(col(\"d5\").isNotNull() & (col(\"d5\") != \"invalid_date\"),\n",
    "             to_date(col(\"d5\"), \"yyyy-MM-dd\"))\n",
    "        .otherwise(None)\n",
    "    )\n",
    "    .withColumn(\"d6_custom\", to_date(col(\"d6\"), \"dd-MM-yyyy\"))\n",
    ")\n",
    "\n",
    "display(df1_with_date)"
   ]
  },
  {
   "cell_type": "markdown",
   "metadata": {
    "application/vnd.databricks.v1+cell": {
     "cellMetadata": {},
     "inputWidgets": {},
     "nuid": "b552a85e-a02d-4c28-b867-df0fd8557ea5",
     "showTitle": false,
     "tableResultSettingsMap": {},
     "title": ""
    }
   },
   "source": [
    "**Ex 03**"
   ]
  },
  {
   "cell_type": "code",
   "execution_count": 0,
   "metadata": {
    "application/vnd.databricks.v1+cell": {
     "cellMetadata": {
      "byteLimit": 2048000,
      "rowLimit": 10000
     },
     "inputWidgets": {},
     "nuid": "d4852465-9bd6-47a8-b6da-bd94e39f6aab",
     "showTitle": true,
     "tableResultSettingsMap": {
      "0": {
       "dataGridStateBlob": "{\"version\":1,\"tableState\":{\"columnPinning\":{\"left\":[\"#row_number#\"],\"right\":[]},\"columnSizing\":{\"t3\":140,\"t4\":157,\"t1\":111},\"columnVisibility\":{}},\"settings\":{\"columns\":{}},\"syncTimestamp\":1756132879936}",
       "filterBlob": null,
       "queryPlanFiltersBlob": null,
       "tableResultIndex": 0
      }
     },
     "title": "custom format dataframe"
    }
   },
   "outputs": [
    {
     "output_type": "display_data",
     "data": {
      "text/html": [
       "<style scoped>\n",
       "  .table-result-container {\n",
       "    max-height: 300px;\n",
       "    overflow: auto;\n",
       "  }\n",
       "  table, th, td {\n",
       "    border: 1px solid black;\n",
       "    border-collapse: collapse;\n",
       "  }\n",
       "  th, td {\n",
       "    padding: 5px;\n",
       "  }\n",
       "  th {\n",
       "    text-align: left;\n",
       "  }\n",
       "</style><div class='table-result-container'><table class='table-result'><thead style='background-color: white'><tr><th>t1</th><th>t2</th><th>t3</th><th>t4</th></tr></thead><tbody><tr><td>25/04/2023 2:00</td><td>25/04/2023 2</td><td>25/04/2023 22:56:18</td><td>2021-07-24 12:01:19.335</td></tr><tr><td>26/04/2023 6:01</td><td>26/04/2023 6</td><td>25/04/2002 21:12:00</td><td>2019-07-22 13:02:20.220</td></tr><tr><td>20/01/2020 4:01</td><td>20/01/2020 4</td><td>25/04/1957 20:12:01</td><td>2021-07-25 03:03:13.098</td></tr><tr><td>26/04/2023 2:02</td><td>26/04/2023 2</td><td>25/04/2023 23:45:22</td><td>2023-09-25 15:33:43.054</td></tr><tr><td>25/04/2023 5:02</td><td>25/04/2023 5</td><td>25/04/2024 14:12:03</td><td>2024-05-25 23:53:53.023</td></tr><tr><td>26/03/2023 8:04</td><td>26/03/2023 8</td><td>25/05/2021 23:45:04</td><td>2025-03-25 22:43:33.323</td></tr></tbody></table></div>"
      ]
     },
     "metadata": {
      "application/vnd.databricks.v1+output": {
       "addedWidgets": {},
       "aggData": [],
       "aggError": "",
       "aggOverflow": false,
       "aggSchema": [],
       "aggSeriesLimitReached": false,
       "aggType": "",
       "arguments": {},
       "columnCustomDisplayInfos": {},
       "data": [
        [
         "25/04/2023 2:00",
         "25/04/2023 2",
         "25/04/2023 22:56:18",
         "2021-07-24 12:01:19.335"
        ],
        [
         "26/04/2023 6:01",
         "26/04/2023 6",
         "25/04/2002 21:12:00",
         "2019-07-22 13:02:20.220"
        ],
        [
         "20/01/2020 4:01",
         "20/01/2020 4",
         "25/04/1957 20:12:01",
         "2021-07-25 03:03:13.098"
        ],
        [
         "26/04/2023 2:02",
         "26/04/2023 2",
         "25/04/2023 23:45:22",
         "2023-09-25 15:33:43.054"
        ],
        [
         "25/04/2023 5:02",
         "25/04/2023 5",
         "25/04/2024 14:12:03",
         "2024-05-25 23:53:53.023"
        ],
        [
         "26/03/2023 8:04",
         "26/03/2023 8",
         "25/05/2021 23:45:04",
         "2025-03-25 22:43:33.323"
        ]
       ],
       "datasetInfos": [],
       "dbfsResultPath": null,
       "isJsonSchema": true,
       "metadata": {},
       "overflow": false,
       "plotOptions": {
        "customPlotOptions": {},
        "displayType": "table",
        "pivotAggregation": null,
        "pivotColumns": null,
        "xColumns": null,
        "yColumns": null
       },
       "removedWidgets": [],
       "schema": [
        {
         "metadata": "{}",
         "name": "t1",
         "type": "\"string\""
        },
        {
         "metadata": "{}",
         "name": "t2",
         "type": "\"string\""
        },
        {
         "metadata": "{}",
         "name": "t3",
         "type": "\"string\""
        },
        {
         "metadata": "{}",
         "name": "t4",
         "type": "\"string\""
        }
       ],
       "type": "table"
      }
     },
     "output_type": "display_data"
    }
   ],
   "source": [
    "data2 = [(\"25/04/2023 2:00\", \"25/04/2023 2\", \"25/04/2023 22:56:18\", \"2021-07-24 12:01:19.335\"),\n",
    "         (\"26/04/2023 6:01\", \"26/04/2023 6\", \"25/04/2002 21:12:00\", \"2019-07-22 13:02:20.220\"),\n",
    "         (\"20/01/2020 4:01\", \"20/01/2020 4\", \"25/04/1957 20:12:01\", \"2021-07-25 03:03:13.098\"),\n",
    "         (\"26/04/2023 2:02\", \"26/04/2023 2\", \"25/04/2023 23:45:22\", \"2023-09-25 15:33:43.054\"),\n",
    "         (\"25/04/2023 5:02\", \"25/04/2023 5\", \"25/04/2024 14:12:03\", \"2024-05-25 23:53:53.023\"),\n",
    "         (\"26/03/2023 8:04\", \"26/03/2023 8\", \"25/05/2021 23:45:04\", \"2025-03-25 22:43:33.323\")\n",
    "        ]\n",
    "columns2 = [\"t1\", \"t2\", \"t3\", \"t4\"]\n",
    "\n",
    "df_custom_02 = spark.createDataFrame(data2, columns2)\n",
    "display(df_custom_02)"
   ]
  },
  {
   "cell_type": "code",
   "execution_count": 0,
   "metadata": {
    "application/vnd.databricks.v1+cell": {
     "cellMetadata": {
      "byteLimit": 2048000,
      "rowLimit": 10000
     },
     "inputWidgets": {},
     "nuid": "71cca9c7-b8be-4314-959d-c36e1b1db412",
     "showTitle": true,
     "tableResultSettingsMap": {
      "0": {
       "dataGridStateBlob": "{\"version\":1,\"tableState\":{\"columnPinning\":{\"left\":[\"#row_number#\"],\"right\":[]},\"columnSizing\":{\"t1\":111,\"t3\":138,\"t4\":149},\"columnVisibility\":{}},\"settings\":{\"columns\":{}},\"syncTimestamp\":1756139414866}",
       "filterBlob": null,
       "queryPlanFiltersBlob": null,
       "tableResultIndex": 0
      }
     },
     "title": "Convert default & custom format columns"
    }
   },
   "outputs": [
    {
     "output_type": "display_data",
     "data": {
      "text/html": [
       "<style scoped>\n",
       "  .table-result-container {\n",
       "    max-height: 300px;\n",
       "    overflow: auto;\n",
       "  }\n",
       "  table, th, td {\n",
       "    border: 1px solid black;\n",
       "    border-collapse: collapse;\n",
       "  }\n",
       "  th, td {\n",
       "    padding: 5px;\n",
       "  }\n",
       "  th {\n",
       "    text-align: left;\n",
       "  }\n",
       "</style><div class='table-result-container'><table class='table-result'><thead style='background-color: white'><tr><th>t1</th><th>t2</th><th>t3</th><th>t4</th><th>t1_custom</th><th>t2_custom</th><th>t3_custom</th><th>t4_custom</th></tr></thead><tbody><tr><td>25/04/2023 2:00</td><td>25/04/2023 2</td><td>25/04/2023 22:56:18</td><td>2021-07-24 12:01:19.335</td><td>2023-04-25</td><td>2023-04-25</td><td>2023-04-25</td><td>2021-07-24</td></tr><tr><td>26/04/2023 6:01</td><td>26/04/2023 6</td><td>25/04/2002 21:12:00</td><td>2019-07-22 13:02:20.220</td><td>2023-04-26</td><td>2023-04-26</td><td>2002-04-25</td><td>2019-07-22</td></tr><tr><td>20/01/2020 4:01</td><td>20/01/2020 4</td><td>25/04/1957 20:12:01</td><td>2021-07-25 03:03:13.098</td><td>2020-01-20</td><td>2020-01-20</td><td>1957-04-25</td><td>2021-07-25</td></tr><tr><td>26/04/2023 2:02</td><td>26/04/2023 2</td><td>25/04/2023 23:45:22</td><td>2023-09-25 15:33:43.054</td><td>2023-04-26</td><td>2023-04-26</td><td>2023-04-25</td><td>2023-09-25</td></tr><tr><td>25/04/2023 5:02</td><td>25/04/2023 5</td><td>25/04/2024 14:12:03</td><td>2024-05-25 23:53:53.023</td><td>2023-04-25</td><td>2023-04-25</td><td>2024-04-25</td><td>2024-05-25</td></tr><tr><td>26/03/2023 8:04</td><td>26/03/2023 8</td><td>25/05/2021 23:45:04</td><td>2025-03-25 22:43:33.323</td><td>2023-03-26</td><td>2023-03-26</td><td>2021-05-25</td><td>2025-03-25</td></tr></tbody></table></div>"
      ]
     },
     "metadata": {
      "application/vnd.databricks.v1+output": {
       "addedWidgets": {},
       "aggData": [],
       "aggError": "",
       "aggOverflow": false,
       "aggSchema": [],
       "aggSeriesLimitReached": false,
       "aggType": "",
       "arguments": {},
       "columnCustomDisplayInfos": {},
       "data": [
        [
         "25/04/2023 2:00",
         "25/04/2023 2",
         "25/04/2023 22:56:18",
         "2021-07-24 12:01:19.335",
         "2023-04-25",
         "2023-04-25",
         "2023-04-25",
         "2021-07-24"
        ],
        [
         "26/04/2023 6:01",
         "26/04/2023 6",
         "25/04/2002 21:12:00",
         "2019-07-22 13:02:20.220",
         "2023-04-26",
         "2023-04-26",
         "2002-04-25",
         "2019-07-22"
        ],
        [
         "20/01/2020 4:01",
         "20/01/2020 4",
         "25/04/1957 20:12:01",
         "2021-07-25 03:03:13.098",
         "2020-01-20",
         "2020-01-20",
         "1957-04-25",
         "2021-07-25"
        ],
        [
         "26/04/2023 2:02",
         "26/04/2023 2",
         "25/04/2023 23:45:22",
         "2023-09-25 15:33:43.054",
         "2023-04-26",
         "2023-04-26",
         "2023-04-25",
         "2023-09-25"
        ],
        [
         "25/04/2023 5:02",
         "25/04/2023 5",
         "25/04/2024 14:12:03",
         "2024-05-25 23:53:53.023",
         "2023-04-25",
         "2023-04-25",
         "2024-04-25",
         "2024-05-25"
        ],
        [
         "26/03/2023 8:04",
         "26/03/2023 8",
         "25/05/2021 23:45:04",
         "2025-03-25 22:43:33.323",
         "2023-03-26",
         "2023-03-26",
         "2021-05-25",
         "2025-03-25"
        ]
       ],
       "datasetInfos": [],
       "dbfsResultPath": null,
       "isJsonSchema": true,
       "metadata": {},
       "overflow": false,
       "plotOptions": {
        "customPlotOptions": {},
        "displayType": "table",
        "pivotAggregation": null,
        "pivotColumns": null,
        "xColumns": null,
        "yColumns": null
       },
       "removedWidgets": [],
       "schema": [
        {
         "metadata": "{}",
         "name": "t1",
         "type": "\"string\""
        },
        {
         "metadata": "{}",
         "name": "t2",
         "type": "\"string\""
        },
        {
         "metadata": "{}",
         "name": "t3",
         "type": "\"string\""
        },
        {
         "metadata": "{}",
         "name": "t4",
         "type": "\"string\""
        },
        {
         "metadata": "{}",
         "name": "t1_custom",
         "type": "\"date\""
        },
        {
         "metadata": "{}",
         "name": "t2_custom",
         "type": "\"date\""
        },
        {
         "metadata": "{}",
         "name": "t3_custom",
         "type": "\"date\""
        },
        {
         "metadata": "{}",
         "name": "t4_custom",
         "type": "\"date\""
        }
       ],
       "type": "table"
      }
     },
     "output_type": "display_data"
    }
   ],
   "source": [
    "df2_with_date = (df_custom_02\\\n",
    "    .withColumn(\"t1_custom\", to_date(col(\"t1\"), 'dd/MM/yyyy H:mm'))\n",
    "    .withColumn('t2_custom', to_date(col(\"t2\"), 'dd/MM/yyyy H'))\n",
    "    .withColumn(\"t3_custom\", to_date(col(\"t3\"), 'dd/MM/yyyy HH:mm:ss')) # extracts only date portion (removes time)\n",
    "    .withColumn(\"t4_custom\", to_date(col(\"t4\"))) # extracts only date portion (removes time)\n",
    ")\n",
    "    \n",
    "display(df2_with_date)"
   ]
  },
  {
   "cell_type": "markdown",
   "metadata": {
    "application/vnd.databricks.v1+cell": {
     "cellMetadata": {},
     "inputWidgets": {},
     "nuid": "aaf2d535-de2a-4072-b3b8-a07d1c182e01",
     "showTitle": false,
     "tableResultSettingsMap": {},
     "title": ""
    }
   },
   "source": [
    "#### 3) Using to_date() with selectExpr()\n",
    "\n",
    "- to convert the **datetime string** to a **date**, **ignoring the time** part.\n",
    "\n"
   ]
  },
  {
   "cell_type": "code",
   "execution_count": 0,
   "metadata": {
    "application/vnd.databricks.v1+cell": {
     "cellMetadata": {
      "byteLimit": 2048000,
      "rowLimit": 10000
     },
     "inputWidgets": {},
     "nuid": "29ed9628-c4e2-44be-a730-7ed1b4eb7521",
     "showTitle": false,
     "tableResultSettingsMap": {},
     "title": ""
    }
   },
   "outputs": [
    {
     "output_type": "display_data",
     "data": {
      "text/html": [
       "<style scoped>\n",
       "  .table-result-container {\n",
       "    max-height: 300px;\n",
       "    overflow: auto;\n",
       "  }\n",
       "  table, th, td {\n",
       "    border: 1px solid black;\n",
       "    border-collapse: collapse;\n",
       "  }\n",
       "  th, td {\n",
       "    padding: 5px;\n",
       "  }\n",
       "  th {\n",
       "    text-align: left;\n",
       "  }\n",
       "</style><div class='table-result-container'><table class='table-result'><thead style='background-color: white'><tr><th>date</th><th>date_time</th><th>input_date</th></tr></thead><tbody><tr><td>2021-12-01</td><td>2021-12-01</td><td>2021-12-01</td></tr><tr><td>2022-01-15</td><td>2022-01-15</td><td>2025-06-15</td></tr><tr><td>2023-03-20</td><td>2023-03-20</td><td>2019-09-25</td></tr><tr><td>2024-09-25</td><td>2024-09-25</td><td>2024-12-30</td></tr><tr><td>2025-02-15</td><td>2025-02-15</td><td>2025-04-28</td></tr><tr><td>2020-12-25</td><td>2020-12-25</td><td>2023-10-18</td></tr></tbody></table></div>"
      ]
     },
     "metadata": {
      "application/vnd.databricks.v1+output": {
       "addedWidgets": {},
       "aggData": [],
       "aggError": "",
       "aggOverflow": false,
       "aggSchema": [],
       "aggSeriesLimitReached": false,
       "aggType": "",
       "arguments": {},
       "columnCustomDisplayInfos": {},
       "data": [
        [
         "2021-12-01",
         "2021-12-01",
         "2021-12-01"
        ],
        [
         "2022-01-15",
         "2022-01-15",
         "2025-06-15"
        ],
        [
         "2023-03-20",
         "2023-03-20",
         "2019-09-25"
        ],
        [
         "2024-09-25",
         "2024-09-25",
         "2024-12-30"
        ],
        [
         "2025-02-15",
         "2025-02-15",
         "2025-04-28"
        ],
        [
         "2020-12-25",
         "2020-12-25",
         "2023-10-18"
        ]
       ],
       "datasetInfos": [],
       "dbfsResultPath": null,
       "isJsonSchema": true,
       "metadata": {},
       "overflow": false,
       "plotOptions": {
        "customPlotOptions": {},
        "displayType": "table",
        "pivotAggregation": null,
        "pivotColumns": null,
        "xColumns": null,
        "yColumns": null
       },
       "removedWidgets": [],
       "schema": [
        {
         "metadata": "{}",
         "name": "date",
         "type": "\"date\""
        },
        {
         "metadata": "{}",
         "name": "date_time",
         "type": "\"date\""
        },
        {
         "metadata": "{}",
         "name": "input_date",
         "type": "\"date\""
        }
       ],
       "type": "table"
      }
     },
     "output_type": "display_data"
    }
   ],
   "source": [
    "# Sample data with custom format\n",
    "data = [(\"2021-12-01 12:30:00\", \"2021-12-01\"),\n",
    "        (\"2022-01-15 10:00:00\", \"2025-06-15\"),\n",
    "        (\"2023-03-20 14:45:00\", \"2019-09-25\"),\n",
    "        (\"2024-09-25 19:55:45\", \"2024-12-30\"),\n",
    "        (\"2025-02-15 11:45:25\", \"2025-04-28\"),\n",
    "        (\"2020-12-25 16:25:55\", \"2023-10-18\")]\n",
    "\n",
    "columns = [\"datetime_string\", \"input_date\"]\n",
    "\n",
    "# Create DataFrame\n",
    "df_custom_03 = spark.createDataFrame(data, columns)\n",
    "\n",
    "# Convert string with datetime to date type using selectExpr\n",
    "df_custom_expr = df_custom_03.selectExpr(\n",
    "  \"to_date(datetime_string) as date\", # extracts only the date from the timestamp.\n",
    "  \"to_date(datetime_string, 'yyyy-MM-dd HH:mm:ss') as date_time\", # extracts only the date from the timestamp.\n",
    "  \"to_date(input_date) as input_date\" # ensures input_date is recognized as a date type.\n",
    ")\n",
    "\n",
    "display(df_custom_expr)"
   ]
  },
  {
   "cell_type": "markdown",
   "metadata": {
    "application/vnd.databricks.v1+cell": {
     "cellMetadata": {},
     "inputWidgets": {},
     "nuid": "a7b8b6a4-8dee-4134-b431-9bd6e398acdd",
     "showTitle": false,
     "tableResultSettingsMap": {},
     "title": ""
    }
   },
   "source": [
    "#### 4) spark sql"
   ]
  },
  {
   "cell_type": "markdown",
   "metadata": {
    "application/vnd.databricks.v1+cell": {
     "cellMetadata": {},
     "inputWidgets": {},
     "nuid": "a5ab2729-a215-4d29-8eb9-8b209d93ce64",
     "showTitle": false,
     "tableResultSettingsMap": {},
     "title": ""
    }
   },
   "source": [
    "**a) Convert String to Date (Default Format)**"
   ]
  },
  {
   "cell_type": "code",
   "execution_count": 0,
   "metadata": {
    "application/vnd.databricks.v1+cell": {
     "cellMetadata": {
      "byteLimit": 2048000,
      "implicitDf": true,
      "rowLimit": 10000
     },
     "inputWidgets": {},
     "nuid": "5e893337-8793-4bc7-9198-f2881e755f05",
     "showTitle": false,
     "tableResultSettingsMap": {},
     "title": ""
    }
   },
   "outputs": [
    {
     "output_type": "display_data",
     "data": {
      "text/html": [
       "<style scoped>\n",
       "  .table-result-container {\n",
       "    max-height: 300px;\n",
       "    overflow: auto;\n",
       "  }\n",
       "  table, th, td {\n",
       "    border: 1px solid black;\n",
       "    border-collapse: collapse;\n",
       "  }\n",
       "  th, td {\n",
       "    padding: 5px;\n",
       "  }\n",
       "  th {\n",
       "    text-align: left;\n",
       "  }\n",
       "</style><div class='table-result-container'><table class='table-result'><thead style='background-color: white'><tr><th>converted_date</th></tr></thead><tbody><tr><td>2025-03-29</td></tr></tbody></table></div>"
      ]
     },
     "metadata": {
      "application/vnd.databricks.v1+output": {
       "addedWidgets": {},
       "aggData": [],
       "aggError": "",
       "aggOverflow": false,
       "aggSchema": [],
       "aggSeriesLimitReached": false,
       "aggType": "",
       "arguments": {},
       "columnCustomDisplayInfos": {},
       "data": [
        [
         "2025-03-29"
        ]
       ],
       "datasetInfos": [
        {
         "name": "_sqldf",
         "schema": {
          "fields": [
           {
            "metadata": {},
            "name": "converted_date",
            "nullable": true,
            "type": "date"
           }
          ],
          "type": "struct"
         },
         "tableIdentifier": null,
         "typeStr": "pyspark.sql.connect.dataframe.DataFrame"
        }
       ],
       "dbfsResultPath": null,
       "isJsonSchema": true,
       "metadata": {
        "createTempViewForImplicitDf": true,
        "dataframeName": "_sqldf",
        "executionCount": 19
       },
       "overflow": false,
       "plotOptions": {
        "customPlotOptions": {},
        "displayType": "table",
        "pivotAggregation": null,
        "pivotColumns": null,
        "xColumns": null,
        "yColumns": null
       },
       "removedWidgets": [],
       "schema": [
        {
         "metadata": "{}",
         "name": "converted_date",
         "type": "\"date\""
        }
       ],
       "type": "table"
      }
     },
     "output_type": "display_data"
    }
   ],
   "source": [
    "%sql\n",
    "SELECT to_date('2025-03-29') AS converted_date;"
   ]
  },
  {
   "cell_type": "markdown",
   "metadata": {
    "application/vnd.databricks.v1+cell": {
     "cellMetadata": {},
     "inputWidgets": {},
     "nuid": "a0ccc707-edd3-44fc-a96f-21f3445147c1",
     "showTitle": false,
     "tableResultSettingsMap": {},
     "title": ""
    }
   },
   "source": [
    "**b) Convert String with Custom Format**\n",
    "- If the **date** is in a **different format**, you can specify the **format** using **to_date()**"
   ]
  },
  {
   "cell_type": "code",
   "execution_count": 0,
   "metadata": {
    "application/vnd.databricks.v1+cell": {
     "cellMetadata": {
      "byteLimit": 2048000,
      "implicitDf": true,
      "rowLimit": 10000
     },
     "inputWidgets": {},
     "nuid": "9c1eb1dc-3326-41d9-8496-6517617ca7c8",
     "showTitle": false,
     "tableResultSettingsMap": {},
     "title": ""
    }
   },
   "outputs": [
    {
     "output_type": "display_data",
     "data": {
      "text/html": [
       "<style scoped>\n",
       "  .table-result-container {\n",
       "    max-height: 300px;\n",
       "    overflow: auto;\n",
       "  }\n",
       "  table, th, td {\n",
       "    border: 1px solid black;\n",
       "    border-collapse: collapse;\n",
       "  }\n",
       "  th, td {\n",
       "    padding: 5px;\n",
       "  }\n",
       "  th {\n",
       "    text-align: left;\n",
       "  }\n",
       "</style><div class='table-result-container'><table class='table-result'><thead style='background-color: white'><tr><th>converted_date</th></tr></thead><tbody><tr><td>2025-03-29</td></tr></tbody></table></div>"
      ]
     },
     "metadata": {
      "application/vnd.databricks.v1+output": {
       "addedWidgets": {},
       "aggData": [],
       "aggError": "",
       "aggOverflow": false,
       "aggSchema": [],
       "aggSeriesLimitReached": false,
       "aggType": "",
       "arguments": {},
       "columnCustomDisplayInfos": {},
       "data": [
        [
         "2025-03-29"
        ]
       ],
       "datasetInfos": [
        {
         "name": "_sqldf",
         "schema": {
          "fields": [
           {
            "metadata": {},
            "name": "converted_date",
            "nullable": false,
            "type": "date"
           }
          ],
          "type": "struct"
         },
         "tableIdentifier": null,
         "typeStr": "pyspark.sql.connect.dataframe.DataFrame"
        }
       ],
       "dbfsResultPath": null,
       "isJsonSchema": true,
       "metadata": {
        "createTempViewForImplicitDf": true,
        "dataframeName": "_sqldf",
        "executionCount": 20
       },
       "overflow": false,
       "plotOptions": {
        "customPlotOptions": {},
        "displayType": "table",
        "pivotAggregation": null,
        "pivotColumns": null,
        "xColumns": null,
        "yColumns": null
       },
       "removedWidgets": [],
       "schema": [
        {
         "metadata": "{}",
         "name": "converted_date",
         "type": "\"date\""
        }
       ],
       "type": "table"
      }
     },
     "output_type": "display_data"
    }
   ],
   "source": [
    "%sql\n",
    "SELECT to_date('29-03-2025', 'dd-MM-yyyy') AS converted_date;"
   ]
  },
  {
   "cell_type": "code",
   "execution_count": 0,
   "metadata": {
    "application/vnd.databricks.v1+cell": {
     "cellMetadata": {
      "byteLimit": 2048000,
      "rowLimit": 10000
     },
     "inputWidgets": {},
     "nuid": "929d77cf-5028-4521-98db-3e28b84f919c",
     "showTitle": false,
     "tableResultSettingsMap": {},
     "title": ""
    }
   },
   "outputs": [
    {
     "output_type": "stream",
     "name": "stdout",
     "output_type": "stream",
     "text": [
      "+----------+\n|      date|\n+----------+\n|2013-02-03|\n+----------+\n\n"
     ]
    }
   ],
   "source": [
    "spark.sql(\"select to_date('02-03-2013','MM-dd-yyyy') date\").show()"
   ]
  },
  {
   "cell_type": "markdown",
   "metadata": {
    "application/vnd.databricks.v1+cell": {
     "cellMetadata": {},
     "inputWidgets": {},
     "nuid": "fcb07d07-d32a-4b83-aebf-b4543910ab40",
     "showTitle": false,
     "tableResultSettingsMap": {},
     "title": ""
    }
   },
   "source": [
    "**c) Convert Timestamp to Date**"
   ]
  },
  {
   "cell_type": "code",
   "execution_count": 0,
   "metadata": {
    "application/vnd.databricks.v1+cell": {
     "cellMetadata": {
      "byteLimit": 2048000,
      "implicitDf": true,
      "rowLimit": 10000
     },
     "inputWidgets": {},
     "nuid": "8158c64c-42af-47b5-9656-e29772db9eb9",
     "showTitle": false,
     "tableResultSettingsMap": {},
     "title": ""
    }
   },
   "outputs": [
    {
     "output_type": "display_data",
     "data": {
      "text/html": [
       "<style scoped>\n",
       "  .table-result-container {\n",
       "    max-height: 300px;\n",
       "    overflow: auto;\n",
       "  }\n",
       "  table, th, td {\n",
       "    border: 1px solid black;\n",
       "    border-collapse: collapse;\n",
       "  }\n",
       "  th, td {\n",
       "    padding: 5px;\n",
       "  }\n",
       "  th {\n",
       "    text-align: left;\n",
       "  }\n",
       "</style><div class='table-result-container'><table class='table-result'><thead style='background-color: white'><tr><th>converted_date</th></tr></thead><tbody><tr><td>2025-03-29</td></tr></tbody></table></div>"
      ]
     },
     "metadata": {
      "application/vnd.databricks.v1+output": {
       "addedWidgets": {},
       "aggData": [],
       "aggError": "",
       "aggOverflow": false,
       "aggSchema": [],
       "aggSeriesLimitReached": false,
       "aggType": "",
       "arguments": {},
       "columnCustomDisplayInfos": {},
       "data": [
        [
         "2025-03-29"
        ]
       ],
       "datasetInfos": [
        {
         "name": "_sqldf",
         "schema": {
          "fields": [
           {
            "metadata": {},
            "name": "converted_date",
            "nullable": true,
            "type": "date"
           }
          ],
          "type": "struct"
         },
         "tableIdentifier": null,
         "typeStr": "pyspark.sql.connect.dataframe.DataFrame"
        }
       ],
       "dbfsResultPath": null,
       "isJsonSchema": true,
       "metadata": {
        "createTempViewForImplicitDf": true,
        "dataframeName": "_sqldf",
        "executionCount": 22
       },
       "overflow": false,
       "plotOptions": {
        "customPlotOptions": {},
        "displayType": "table",
        "pivotAggregation": null,
        "pivotColumns": null,
        "xColumns": null,
        "yColumns": null
       },
       "removedWidgets": [],
       "schema": [
        {
         "metadata": "{}",
         "name": "converted_date",
         "type": "\"date\""
        }
       ],
       "type": "table"
      }
     },
     "output_type": "display_data"
    }
   ],
   "source": [
    "%sql\n",
    "SELECT to_date('2025-03-29 14:30:00') AS converted_date;"
   ]
  },
  {
   "cell_type": "code",
   "execution_count": 0,
   "metadata": {
    "application/vnd.databricks.v1+cell": {
     "cellMetadata": {
      "byteLimit": 2048000,
      "rowLimit": 10000
     },
     "inputWidgets": {},
     "nuid": "77a957e2-983f-4a94-b26a-70480501f375",
     "showTitle": false,
     "tableResultSettingsMap": {},
     "title": ""
    }
   },
   "outputs": [
    {
     "output_type": "stream",
     "name": "stdout",
     "output_type": "stream",
     "text": [
      "+----------+\n| date_type|\n+----------+\n|2025-08-25|\n+----------+\n\n"
     ]
    }
   ],
   "source": [
    "# SQL TimestampType to DateType\n",
    "spark.sql(\"select to_date(current_timestamp) as date_type\").show()"
   ]
  },
  {
   "cell_type": "markdown",
   "metadata": {
    "application/vnd.databricks.v1+cell": {
     "cellMetadata": {},
     "inputWidgets": {},
     "nuid": "7eac20de-3075-4f40-b079-5bafc8fcfeca",
     "showTitle": false,
     "tableResultSettingsMap": {},
     "title": ""
    }
   },
   "source": [
    "- **current_timestamp Function**\n",
    "\n",
    "  - This function returns the current timestamp (**including date and time**).\n",
    "  - Example output: **2025-03-29 14:30:45.123**\n",
    "\n",
    "- **to_date(current_timestamp) Function**\n",
    "\n",
    "  - The **to_date()** function **extracts** only the **date part** from the **timestamp**.\n",
    "  - It **removes** the **time portion** and **returns** only the **YYYY-MM-DD** format.\n",
    "  - Example output: **2025-03-29**"
   ]
  },
  {
   "cell_type": "code",
   "execution_count": 0,
   "metadata": {
    "application/vnd.databricks.v1+cell": {
     "cellMetadata": {
      "byteLimit": 2048000,
      "rowLimit": 10000
     },
     "inputWidgets": {},
     "nuid": "af7b2a0d-c147-47c2-93bf-5edf73320e58",
     "showTitle": false,
     "tableResultSettingsMap": {},
     "title": ""
    }
   },
   "outputs": [
    {
     "output_type": "display_data",
     "data": {
      "text/html": [
       "<style scoped>\n",
       "  .table-result-container {\n",
       "    max-height: 300px;\n",
       "    overflow: auto;\n",
       "  }\n",
       "  table, th, td {\n",
       "    border: 1px solid black;\n",
       "    border-collapse: collapse;\n",
       "  }\n",
       "  th, td {\n",
       "    padding: 5px;\n",
       "  }\n",
       "  th {\n",
       "    text-align: left;\n",
       "  }\n",
       "</style><div class='table-result-container'><table class='table-result'><thead style='background-color: white'><tr><th>date_type</th></tr></thead><tbody><tr><td>2019-06-24</td></tr></tbody></table></div>"
      ]
     },
     "metadata": {
      "application/vnd.databricks.v1+output": {
       "addedWidgets": {},
       "aggData": [],
       "aggError": "",
       "aggOverflow": false,
       "aggSchema": [],
       "aggSeriesLimitReached": false,
       "aggType": "",
       "arguments": {},
       "columnCustomDisplayInfos": {},
       "data": [
        [
         "2019-06-24"
        ]
       ],
       "datasetInfos": [],
       "dbfsResultPath": null,
       "isJsonSchema": true,
       "metadata": {},
       "overflow": false,
       "plotOptions": {
        "customPlotOptions": {},
        "displayType": "table",
        "pivotAggregation": null,
        "pivotColumns": null,
        "xColumns": null,
        "yColumns": null
       },
       "removedWidgets": [],
       "schema": [
        {
         "metadata": "{}",
         "name": "date_type",
         "type": "\"date\""
        }
       ],
       "type": "table"
      }
     },
     "output_type": "display_data"
    }
   ],
   "source": [
    "# SQL CAST \"TimestampType string\" to \"DateType\"\n",
    "spark.sql(\"select date(to_timestamp('2019-06-24 12:01:19.000')) as date_type\").display()"
   ]
  },
  {
   "cell_type": "markdown",
   "metadata": {
    "application/vnd.databricks.v1+cell": {
     "cellMetadata": {},
     "inputWidgets": {},
     "nuid": "f795d7bf-882e-449e-95bb-a8d64a870825",
     "showTitle": false,
     "tableResultSettingsMap": {},
     "title": ""
    }
   },
   "source": [
    "- **to_timestamp('2019-06-24 12:01:19.000')**\n",
    "\n",
    "  - This function **converts** the input **string '2019-06-24 12:01:19.000'** into a **TimestampType** value.\n",
    "  - Output: 2019-06-24 12:01:19.000 (**TimestampType**)\n",
    "\n",
    "- **date(to_timestamp(...))**\n",
    "\n",
    "  - The **date()** function **extracts** only the **date** portion **(YYYY-MM-DD)** from the **TimestampType** value.\n",
    "  - It effectively **truncates** the **time part** and **converts** it into a **DateType** value.\n",
    "  - Output: 2019-06-24 (**DateType**)"
   ]
  },
  {
   "cell_type": "code",
   "execution_count": 0,
   "metadata": {
    "application/vnd.databricks.v1+cell": {
     "cellMetadata": {
      "byteLimit": 2048000,
      "rowLimit": 10000
     },
     "inputWidgets": {},
     "nuid": "472f51be-fdbf-42ec-9603-0c0e2e00a8f3",
     "showTitle": false,
     "tableResultSettingsMap": {},
     "title": ""
    }
   },
   "outputs": [
    {
     "output_type": "display_data",
     "data": {
      "text/html": [
       "<style scoped>\n",
       "  .table-result-container {\n",
       "    max-height: 300px;\n",
       "    overflow: auto;\n",
       "  }\n",
       "  table, th, td {\n",
       "    border: 1px solid black;\n",
       "    border-collapse: collapse;\n",
       "  }\n",
       "  th, td {\n",
       "    padding: 5px;\n",
       "  }\n",
       "  th {\n",
       "    text-align: left;\n",
       "  }\n",
       "</style><div class='table-result-container'><table class='table-result'><thead style='background-color: white'><tr><th>date_type</th></tr></thead><tbody><tr><td>2019-06-24</td></tr></tbody></table></div>"
      ]
     },
     "metadata": {
      "application/vnd.databricks.v1+output": {
       "addedWidgets": {},
       "aggData": [],
       "aggError": "",
       "aggOverflow": false,
       "aggSchema": [],
       "aggSeriesLimitReached": false,
       "aggType": "",
       "arguments": {},
       "columnCustomDisplayInfos": {},
       "data": [
        [
         "2019-06-24"
        ]
       ],
       "datasetInfos": [],
       "dbfsResultPath": null,
       "isJsonSchema": true,
       "metadata": {},
       "overflow": false,
       "plotOptions": {
        "customPlotOptions": {},
        "displayType": "table",
        "pivotAggregation": null,
        "pivotColumns": null,
        "xColumns": null,
        "yColumns": null
       },
       "removedWidgets": [],
       "schema": [
        {
         "metadata": "{}",
         "name": "date_type",
         "type": "\"date\""
        }
       ],
       "type": "table"
      }
     },
     "output_type": "display_data"
    }
   ],
   "source": [
    "# SQL CAST \"timestamp string\" to \"DateType\"\n",
    "spark.sql(\"select date('2019-06-24 12:01:19.000') as date_type\").display()"
   ]
  },
  {
   "cell_type": "markdown",
   "metadata": {
    "application/vnd.databricks.v1+cell": {
     "cellMetadata": {},
     "inputWidgets": {},
     "nuid": "c924e829-234b-4ea9-9239-1200889d0056",
     "showTitle": false,
     "tableResultSettingsMap": {},
     "title": ""
    }
   },
   "source": [
    "**'2019-06-24 12:01:19.000' (String Input)**\n",
    "  - The input is a **timestamp** in **string** format **(YYYY-MM-DD HH:MI:SS.SSS)**.\n",
    "\n",
    "**date('2019-06-24 12:01:19.000')**\n",
    "  - The **date()** function implicitly **converts** the **timestamp string** into a **DateType** by **extracting** only the **date** portion **(YYYY-MM-DD)**.\n",
    "  - The **time** part (12:01:19.000) is **discarded**.\n",
    "  - **Equivalent** to **CAST('2019-06-24 12:01:19.000' AS DATE)**."
   ]
  },
  {
   "cell_type": "markdown",
   "metadata": {
    "application/vnd.databricks.v1+cell": {
     "cellMetadata": {},
     "inputWidgets": {},
     "nuid": "c53eda41-fc58-4288-b205-207b3a22561b",
     "showTitle": false,
     "tableResultSettingsMap": {},
     "title": ""
    }
   },
   "source": [
    "      # SQL Timestamp String (default format) to DateType\n",
    "      spark.sql(\"select to_date('2019-06-24 12:01:19.000') as date_type\").show()\n",
    "                                         (or)\n",
    "      spark.sql(\"select CAST('2019-06-24 12:01:19.000' AS DATE) as date_type\").show()"
   ]
  },
  {
   "cell_type": "code",
   "execution_count": 0,
   "metadata": {
    "application/vnd.databricks.v1+cell": {
     "cellMetadata": {
      "byteLimit": 2048000,
      "rowLimit": 10000
     },
     "inputWidgets": {},
     "nuid": "6efedc4c-5268-485b-9a3a-9260849865cd",
     "showTitle": false,
     "tableResultSettingsMap": {},
     "title": ""
    }
   },
   "outputs": [
    {
     "output_type": "display_data",
     "data": {
      "text/html": [
       "<style scoped>\n",
       "  .table-result-container {\n",
       "    max-height: 300px;\n",
       "    overflow: auto;\n",
       "  }\n",
       "  table, th, td {\n",
       "    border: 1px solid black;\n",
       "    border-collapse: collapse;\n",
       "  }\n",
       "  th, td {\n",
       "    padding: 5px;\n",
       "  }\n",
       "  th {\n",
       "    text-align: left;\n",
       "  }\n",
       "</style><div class='table-result-container'><table class='table-result'><thead style='background-color: white'><tr><th>date_type</th></tr></thead><tbody><tr><td>2019-06-24</td></tr></tbody></table></div>"
      ]
     },
     "metadata": {
      "application/vnd.databricks.v1+output": {
       "addedWidgets": {},
       "aggData": [],
       "aggError": "",
       "aggOverflow": false,
       "aggSchema": [],
       "aggSeriesLimitReached": false,
       "aggType": "",
       "arguments": {},
       "columnCustomDisplayInfos": {},
       "data": [
        [
         "2019-06-24"
        ]
       ],
       "datasetInfos": [],
       "dbfsResultPath": null,
       "isJsonSchema": true,
       "metadata": {},
       "overflow": false,
       "plotOptions": {
        "customPlotOptions": {},
        "displayType": "table",
        "pivotAggregation": null,
        "pivotColumns": null,
        "xColumns": null,
        "yColumns": null
       },
       "removedWidgets": [],
       "schema": [
        {
         "metadata": "{}",
         "name": "date_type",
         "type": "\"date\""
        }
       ],
       "type": "table"
      }
     },
     "output_type": "display_data"
    }
   ],
   "source": [
    "# SQL Timestamp String (default format) to DateType\n",
    "spark.sql(\"select to_date('2019-06-24 12:01:19.000') as date_type\").display()"
   ]
  },
  {
   "cell_type": "markdown",
   "metadata": {
    "application/vnd.databricks.v1+cell": {
     "cellMetadata": {},
     "inputWidgets": {},
     "nuid": "69f158d2-6559-4ac8-b345-c9db24bd4f1b",
     "showTitle": false,
     "tableResultSettingsMap": {},
     "title": ""
    }
   },
   "source": [
    "- Input String: **'2019-06-24 12:01:19.000'**\n",
    "  - This is a **timestamp string** in the default format: **YYYY-MM-DD HH:MI:SS.SSS**.\n",
    "\n",
    "- **to_date('2019-06-24 12:01:19.000') Function**\n",
    "  - The **to_date()** function **extracts** only the **date (YYYY-MM-DD) part** from the input.\n",
    "  - The **time** portion (**12:01:19.000**) is **discarded**.\n",
    "  - Implicitly **converts** the **string to DateType**."
   ]
  },
  {
   "cell_type": "markdown",
   "metadata": {
    "application/vnd.databricks.v1+cell": {
     "cellMetadata": {},
     "inputWidgets": {},
     "nuid": "8f8e046c-d9a9-4df2-a42d-1e0d75a2a526",
     "showTitle": false,
     "tableResultSettingsMap": {},
     "title": ""
    }
   },
   "source": [
    "      # SQL Custom Timeformat to DateType\n",
    "      spark.sql(\"select to_date('06-24-2019 12:01:19.000','MM-dd-yyyy HH:mm:ss.SSSS') as date_type\").show()\n",
    "                                         (or)\n",
    "      spark.sql(\"select CAST('2019-06-24 12:01:19.000' AS DATE) as date_type\").show()"
   ]
  },
  {
   "cell_type": "code",
   "execution_count": 0,
   "metadata": {
    "application/vnd.databricks.v1+cell": {
     "cellMetadata": {
      "byteLimit": 2048000,
      "rowLimit": 10000
     },
     "inputWidgets": {},
     "nuid": "9f4b8a7a-7123-49c5-9772-53ec02857821",
     "showTitle": false,
     "tableResultSettingsMap": {},
     "title": ""
    }
   },
   "outputs": [
    {
     "output_type": "display_data",
     "data": {
      "text/html": [
       "<style scoped>\n",
       "  .table-result-container {\n",
       "    max-height: 300px;\n",
       "    overflow: auto;\n",
       "  }\n",
       "  table, th, td {\n",
       "    border: 1px solid black;\n",
       "    border-collapse: collapse;\n",
       "  }\n",
       "  th, td {\n",
       "    padding: 5px;\n",
       "  }\n",
       "  th {\n",
       "    text-align: left;\n",
       "  }\n",
       "</style><div class='table-result-container'><table class='table-result'><thead style='background-color: white'><tr><th>date_type</th></tr></thead><tbody><tr><td>2019-06-24</td></tr></tbody></table></div>"
      ]
     },
     "metadata": {
      "application/vnd.databricks.v1+output": {
       "addedWidgets": {},
       "aggData": [],
       "aggError": "",
       "aggOverflow": false,
       "aggSchema": [],
       "aggSeriesLimitReached": false,
       "aggType": "",
       "arguments": {},
       "columnCustomDisplayInfos": {},
       "data": [
        [
         "2019-06-24"
        ]
       ],
       "datasetInfos": [],
       "dbfsResultPath": null,
       "isJsonSchema": true,
       "metadata": {},
       "overflow": false,
       "plotOptions": {
        "customPlotOptions": {},
        "displayType": "table",
        "pivotAggregation": null,
        "pivotColumns": null,
        "xColumns": null,
        "yColumns": null
       },
       "removedWidgets": [],
       "schema": [
        {
         "metadata": "{}",
         "name": "date_type",
         "type": "\"date\""
        }
       ],
       "type": "table"
      }
     },
     "output_type": "display_data"
    }
   ],
   "source": [
    "# SQL Custom Timeformat to DateType\n",
    "spark.sql(\"select to_date('06-24-2019 12:01:19.000','MM-dd-yyyy HH:mm:ss.SSSS') as date_type\").display()"
   ]
  },
  {
   "cell_type": "markdown",
   "metadata": {
    "application/vnd.databricks.v1+cell": {
     "cellMetadata": {},
     "inputWidgets": {},
     "nuid": "e8412cad-b1c9-452d-93fe-242f27675051",
     "showTitle": false,
     "tableResultSettingsMap": {},
     "title": ""
    }
   },
   "source": [
    "**Input String: '06-24-2019 12:01:19.000'**\n",
    "  - The **date and time** are provided in a **custom format**: MM-dd-yyyy HH:mm:ss.SSSS\n",
    "  - **\"06-24-2019\"** represents **June 24, 2019**.\n",
    "  - **\"12:01:19.000\"** is the **time** portion, which will be **ignored**.\n",
    "\n",
    "**to_date('06-24-2019 12:01:19.000', 'MM-dd-yyyy HH:mm:ss.SSSS') Function**\n",
    "  - **First argument:** The timestamp string to convert.\n",
    "  - **Second argument:** The format of the input string.\n",
    "  - The function **parses the string according to the provided format** and extracts only the **date part**.\n",
    "  - The **time** portion (12:01:19.000) is **discarded**.\n",
    "  - The result is converted to **DateType (YYYY-MM-DD)**."
   ]
  },
  {
   "cell_type": "markdown",
   "metadata": {
    "application/vnd.databricks.v1+cell": {
     "cellMetadata": {},
     "inputWidgets": {},
     "nuid": "ed016128-cedb-48d2-932b-e11dd589d11e",
     "showTitle": false,
     "tableResultSettingsMap": {},
     "title": ""
    }
   },
   "source": [
    "**d) Use to_date() on a Column**\n",
    "- If you have a table with a **string** column containing **dates**."
   ]
  },
  {
   "cell_type": "code",
   "execution_count": 0,
   "metadata": {
    "application/vnd.databricks.v1+cell": {
     "cellMetadata": {
      "byteLimit": 2048000,
      "implicitDf": true,
      "rowLimit": 10000
     },
     "inputWidgets": {},
     "nuid": "29c76e56-476f-4c25-807a-b48422e39c18",
     "showTitle": false,
     "tableResultSettingsMap": {},
     "title": ""
    }
   },
   "outputs": [
    {
     "output_type": "display_data",
     "data": {
      "text/html": [
       "<style scoped>\n",
       "  .table-result-container {\n",
       "    max-height: 300px;\n",
       "    overflow: auto;\n",
       "  }\n",
       "  table, th, td {\n",
       "    border: 1px solid black;\n",
       "    border-collapse: collapse;\n",
       "  }\n",
       "  th, td {\n",
       "    padding: 5px;\n",
       "  }\n",
       "  th {\n",
       "    text-align: left;\n",
       "  }\n",
       "</style><div class='table-result-container'><table class='table-result'><thead style='background-color: white'><tr><th>order_id</th><th>order_date</th><th>formatted_date</th></tr></thead><tbody><tr><td>1</td><td>29-03-2025</td><td>2025-03-29</td></tr><tr><td>2</td><td>30-03-2025</td><td>2025-03-30</td></tr></tbody></table></div>"
      ]
     },
     "metadata": {
      "application/vnd.databricks.v1+output": {
       "addedWidgets": {},
       "aggData": [],
       "aggError": "",
       "aggOverflow": false,
       "aggSchema": [],
       "aggSeriesLimitReached": false,
       "aggType": "",
       "arguments": {},
       "columnCustomDisplayInfos": {},
       "data": [
        [
         1,
         "29-03-2025",
         "2025-03-29"
        ],
        [
         2,
         "30-03-2025",
         "2025-03-30"
        ]
       ],
       "datasetInfos": [
        {
         "name": "_sqldf",
         "schema": {
          "fields": [
           {
            "metadata": {},
            "name": "order_id",
            "nullable": true,
            "type": "integer"
           },
           {
            "metadata": {},
            "name": "order_date",
            "nullable": true,
            "type": "string"
           },
           {
            "metadata": {},
            "name": "formatted_date",
            "nullable": true,
            "type": "date"
           }
          ],
          "type": "struct"
         },
         "tableIdentifier": null,
         "typeStr": "pyspark.sql.connect.dataframe.DataFrame"
        }
       ],
       "dbfsResultPath": null,
       "isJsonSchema": true,
       "metadata": {
        "createTempViewForImplicitDf": true,
        "dataframeName": "_sqldf",
        "executionCount": 29
       },
       "overflow": false,
       "plotOptions": {
        "customPlotOptions": {},
        "displayType": "table",
        "pivotAggregation": null,
        "pivotColumns": null,
        "xColumns": null,
        "yColumns": null
       },
       "removedWidgets": [],
       "schema": [
        {
         "metadata": "{}",
         "name": "order_id",
         "type": "\"integer\""
        },
        {
         "metadata": "{}",
         "name": "order_date",
         "type": "\"string\""
        },
        {
         "metadata": "{}",
         "name": "formatted_date",
         "type": "\"date\""
        }
       ],
       "type": "table"
      }
     },
     "output_type": "display_data"
    }
   ],
   "source": [
    "%sql\n",
    "CREATE TABLE EmpOrder (order_id INT, order_date STRING);\n",
    "INSERT INTO EmpOrder VALUES (1, '29-03-2025'), (2, '30-03-2025');\n",
    "\n",
    "SELECT order_id, order_date, to_date(order_date, 'dd-MM-yyyy') AS formatted_date FROM EmpOrder;"
   ]
  }
 ],
 "metadata": {
  "application/vnd.databricks.v1+notebook": {
   "computePreferences": {
    "hardware": {
     "accelerator": null,
     "gpuPoolId": null,
     "memory": null
    }
   },
   "dashboards": [],
   "environmentMetadata": {
    "base_environment": "",
    "environment_version": "2"
   },
   "inputWidgetPreferences": null,
   "language": "python",
   "notebookMetadata": {
    "mostRecentlyExecutedCommandWithImplicitDF": {
     "commandId": 7280231112059941,
     "dataframes": [
      "_sqldf"
     ]
    },
    "pythonIndentUnit": 4
   },
   "notebookName": "93_How to convert string, timestamp to date using to_date()",
   "widgets": {}
  },
  "language_info": {
   "name": "python"
  }
 },
 "nbformat": 4,
 "nbformat_minor": 0
}