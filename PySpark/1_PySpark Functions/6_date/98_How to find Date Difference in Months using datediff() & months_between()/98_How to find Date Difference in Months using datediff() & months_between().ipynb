{
 "cells": [
  {
   "cell_type": "markdown",
   "metadata": {
    "application/vnd.databricks.v1+cell": {
     "cellMetadata": {},
     "inputWidgets": {},
     "nuid": "70187a39-6f37-4096-841c-97f6e1b291f3",
     "showTitle": false,
     "tableResultSettingsMap": {},
     "title": ""
    }
   },
   "source": [
    "### **datediff() and months_between()**"
   ]
  },
  {
   "cell_type": "markdown",
   "metadata": {
    "application/vnd.databricks.v1+cell": {
     "cellMetadata": {},
     "inputWidgets": {},
     "nuid": "8d0b1772-6b21-407a-9fa4-6479bc0ee1f6",
     "showTitle": false,
     "tableResultSettingsMap": {},
     "title": ""
    }
   },
   "source": [
    "#### **1) datediff**\n",
    "- Difference between two dates (days, months, years)\n",
    "- `datediff` is used to calculate the **date difference** between **two dates** in terms of **DAYS**.\n",
    "- To compute the duration between **two timestamps or date values**."
   ]
  },
  {
   "cell_type": "markdown",
   "metadata": {
    "application/vnd.databricks.v1+cell": {
     "cellMetadata": {},
     "inputWidgets": {},
     "nuid": "45aea049-0b62-4e20-8580-c0a95cbcf464",
     "showTitle": false,
     "tableResultSettingsMap": {},
     "title": ""
    }
   },
   "source": [
    "##### **Syntax**\n",
    "     datediff(endDate, startDate)\n",
    "\n",
    "- This function takes the **end date** as the **first argument** and the **start date** as the **second argument** and returns the **number of days** in between them."
   ]
  },
  {
   "cell_type": "code",
   "execution_count": 0,
   "metadata": {
    "application/vnd.databricks.v1+cell": {
     "cellMetadata": {
      "byteLimit": 2048000,
      "rowLimit": 10000
     },
     "inputWidgets": {},
     "nuid": "31939fdf-fb2e-4332-9e67-d39269bb030e",
     "showTitle": true,
     "tableResultSettingsMap": {},
     "title": "Sample Dataframe 01"
    }
   },
   "outputs": [
    {
     "output_type": "display_data",
     "data": {
      "text/html": [
       "<style scoped>\n",
       "  .table-result-container {\n",
       "    max-height: 300px;\n",
       "    overflow: auto;\n",
       "  }\n",
       "  table, th, td {\n",
       "    border: 1px solid black;\n",
       "    border-collapse: collapse;\n",
       "  }\n",
       "  th, td {\n",
       "    padding: 5px;\n",
       "  }\n",
       "  th {\n",
       "    text-align: left;\n",
       "  }\n",
       "</style><div class='table-result-container'><table class='table-result'><thead style='background-color: white'><tr><th>emp_name</th><th>Age</th><th>City</th><th>start_date</th><th>end_date</th><th>purchase_date</th><th>delivery_date</th></tr></thead><tbody><tr><td>Sowmya</td><td>29</td><td>Chennai</td><td>2020-10-25</td><td>2023-01-15</td><td>2021-11-20</td><td>2022-05-11</td></tr><tr><td>Bole</td><td>32</td><td>Bangalore</td><td>2013-10-11</td><td>2029-01-18</td><td>2012-08-17</td><td>2028-04-28</td></tr><tr><td>Chandini</td><td>35</td><td>Hyderabad</td><td>2015-10-17</td><td>2022-04-15</td><td>2017-12-27</td><td>2023-04-05</td></tr><tr><td>Deepthi</td><td>40</td><td>Nasik</td><td>2022-12-21</td><td>2023-04-23</td><td>2023-02-26</td><td>2024-08-20</td></tr><tr><td>Swapna</td><td>37</td><td>Mumbai</td><td>2021-04-14</td><td>2023-07-25</td><td>2022-09-24</td><td>2025-04-22</td></tr><tr><td>Tharun</td><td>25</td><td>Delhi</td><td>2021-06-26</td><td>2021-07-12</td><td>2023-06-17</td><td>2025-09-22</td></tr></tbody></table></div>"
      ]
     },
     "metadata": {
      "application/vnd.databricks.v1+output": {
       "addedWidgets": {},
       "aggData": [],
       "aggError": "",
       "aggOverflow": false,
       "aggSchema": [],
       "aggSeriesLimitReached": false,
       "aggType": "",
       "arguments": {},
       "columnCustomDisplayInfos": {},
       "data": [
        [
         "Sowmya",
         29,
         "Chennai",
         "2020-10-25",
         "2023-01-15",
         "2021-11-20",
         "2022-05-11"
        ],
        [
         "Bole",
         32,
         "Bangalore",
         "2013-10-11",
         "2029-01-18",
         "2012-08-17",
         "2028-04-28"
        ],
        [
         "Chandini",
         35,
         "Hyderabad",
         "2015-10-17",
         "2022-04-15",
         "2017-12-27",
         "2023-04-05"
        ],
        [
         "Deepthi",
         40,
         "Nasik",
         "2022-12-21",
         "2023-04-23",
         "2023-02-26",
         "2024-08-20"
        ],
        [
         "Swapna",
         37,
         "Mumbai",
         "2021-04-14",
         "2023-07-25",
         "2022-09-24",
         "2025-04-22"
        ],
        [
         "Tharun",
         25,
         "Delhi",
         "2021-06-26",
         "2021-07-12",
         "2023-06-17",
         "2025-09-22"
        ]
       ],
       "datasetInfos": [],
       "dbfsResultPath": null,
       "isJsonSchema": true,
       "metadata": {},
       "overflow": false,
       "plotOptions": {
        "customPlotOptions": {},
        "displayType": "table",
        "pivotAggregation": null,
        "pivotColumns": null,
        "xColumns": null,
        "yColumns": null
       },
       "removedWidgets": [],
       "schema": [
        {
         "metadata": "{}",
         "name": "emp_name",
         "type": "\"string\""
        },
        {
         "metadata": "{}",
         "name": "Age",
         "type": "\"long\""
        },
        {
         "metadata": "{}",
         "name": "City",
         "type": "\"string\""
        },
        {
         "metadata": "{}",
         "name": "start_date",
         "type": "\"string\""
        },
        {
         "metadata": "{}",
         "name": "end_date",
         "type": "\"string\""
        },
        {
         "metadata": "{}",
         "name": "purchase_date",
         "type": "\"string\""
        },
        {
         "metadata": "{}",
         "name": "delivery_date",
         "type": "\"string\""
        }
       ],
       "type": "table"
      }
     },
     "output_type": "display_data"
    }
   ],
   "source": [
    "# define data\n",
    "data = [['Sowmya', 29, 'Chennai', '2020-10-25', '2023-01-15', '2021-11-20', '2022-05-11'],\n",
    "        ['Bole', 32, 'Bangalore', '2013-10-11', '2029-01-18', '2012-08-17', '2028-04-28'],\n",
    "        ['Chandini', 35, 'Hyderabad', '2015-10-17', '2022-04-15', '2017-12-27', '2023-04-05'],\n",
    "        ['Deepthi', 40, 'Nasik', '2022-12-21', '2023-04-23', '2023-02-26', '2024-08-20'],\n",
    "        ['Swapna', 37, 'Mumbai', '2021-04-14', '2023-07-25', '2022-09-24', '2025-04-22'],\n",
    "        ['Tharun', 25, 'Delhi', '2021-06-26', '2021-07-12', '2023-06-17', '2025-09-22']] \n",
    "  \n",
    "# define column names\n",
    "columns = ['emp_name', 'Age', 'City', 'start_date', 'end_date', 'purchase_date', 'delivery_date'] \n",
    "  \n",
    "# create dataframe using data and column names\n",
    "df_diff = spark.createDataFrame(data, columns)\n",
    "  \n",
    "# view dataframe\n",
    "display(df_diff)"
   ]
  },
  {
   "cell_type": "code",
   "execution_count": 0,
   "metadata": {
    "application/vnd.databricks.v1+cell": {
     "cellMetadata": {
      "byteLimit": 2048000,
      "rowLimit": 10000
     },
     "inputWidgets": {},
     "nuid": "da593a19-cb98-4322-9808-23f12317cc04",
     "showTitle": false,
     "tableResultSettingsMap": {},
     "title": ""
    }
   },
   "outputs": [],
   "source": [
    "df_diff = df_diff.withColumn(\"start_date\", to_date(\"start_date\")) \\\n",
    "                 .withColumn(\"end_date\", to_date(\"end_date\"))"
   ]
  },
  {
   "cell_type": "code",
   "execution_count": 0,
   "metadata": {
    "application/vnd.databricks.v1+cell": {
     "cellMetadata": {
      "byteLimit": 2048000,
      "rowLimit": 10000
     },
     "inputWidgets": {},
     "nuid": "95682bea-e129-434b-bf81-33e358d29ee4",
     "showTitle": false,
     "tableResultSettingsMap": {},
     "title": ""
    }
   },
   "outputs": [
    {
     "output_type": "display_data",
     "data": {
      "text/html": [
       "<style scoped>\n",
       "  .table-result-container {\n",
       "    max-height: 300px;\n",
       "    overflow: auto;\n",
       "  }\n",
       "  table, th, td {\n",
       "    border: 1px solid black;\n",
       "    border-collapse: collapse;\n",
       "  }\n",
       "  th, td {\n",
       "    padding: 5px;\n",
       "  }\n",
       "  th {\n",
       "    text-align: left;\n",
       "  }\n",
       "</style><div class='table-result-container'><table class='table-result'><thead style='background-color: white'><tr><th>emp_name</th><th>Age</th><th>City</th><th>start_date</th><th>end_date</th><th>purchase_date</th><th>delivery_date</th><th>diff_days</th></tr></thead><tbody><tr><td>Sowmya</td><td>29</td><td>Chennai</td><td>2020-10-25</td><td>2023-01-15</td><td>2021-11-20</td><td>2022-05-11</td><td>812</td></tr><tr><td>Bole</td><td>32</td><td>Bangalore</td><td>2013-10-11</td><td>2029-01-18</td><td>2012-08-17</td><td>2028-04-28</td><td>5578</td></tr><tr><td>Chandini</td><td>35</td><td>Hyderabad</td><td>2015-10-17</td><td>2022-04-15</td><td>2017-12-27</td><td>2023-04-05</td><td>2372</td></tr><tr><td>Deepthi</td><td>40</td><td>Nasik</td><td>2022-12-21</td><td>2023-04-23</td><td>2023-02-26</td><td>2024-08-20</td><td>123</td></tr><tr><td>Swapna</td><td>37</td><td>Mumbai</td><td>2021-04-14</td><td>2023-07-25</td><td>2022-09-24</td><td>2025-04-22</td><td>832</td></tr><tr><td>Tharun</td><td>25</td><td>Delhi</td><td>2021-06-26</td><td>2021-07-12</td><td>2023-06-17</td><td>2025-09-22</td><td>16</td></tr></tbody></table></div>"
      ]
     },
     "metadata": {
      "application/vnd.databricks.v1+output": {
       "addedWidgets": {},
       "aggData": [],
       "aggError": "",
       "aggOverflow": false,
       "aggSchema": [],
       "aggSeriesLimitReached": false,
       "aggType": "",
       "arguments": {},
       "columnCustomDisplayInfos": {},
       "data": [
        [
         "Sowmya",
         29,
         "Chennai",
         "2020-10-25",
         "2023-01-15",
         "2021-11-20",
         "2022-05-11",
         812
        ],
        [
         "Bole",
         32,
         "Bangalore",
         "2013-10-11",
         "2029-01-18",
         "2012-08-17",
         "2028-04-28",
         5578
        ],
        [
         "Chandini",
         35,
         "Hyderabad",
         "2015-10-17",
         "2022-04-15",
         "2017-12-27",
         "2023-04-05",
         2372
        ],
        [
         "Deepthi",
         40,
         "Nasik",
         "2022-12-21",
         "2023-04-23",
         "2023-02-26",
         "2024-08-20",
         123
        ],
        [
         "Swapna",
         37,
         "Mumbai",
         "2021-04-14",
         "2023-07-25",
         "2022-09-24",
         "2025-04-22",
         832
        ],
        [
         "Tharun",
         25,
         "Delhi",
         "2021-06-26",
         "2021-07-12",
         "2023-06-17",
         "2025-09-22",
         16
        ]
       ],
       "datasetInfos": [],
       "dbfsResultPath": null,
       "isJsonSchema": true,
       "metadata": {},
       "overflow": false,
       "plotOptions": {
        "customPlotOptions": {},
        "displayType": "table",
        "pivotAggregation": null,
        "pivotColumns": null,
        "xColumns": null,
        "yColumns": null
       },
       "removedWidgets": [],
       "schema": [
        {
         "metadata": "{}",
         "name": "emp_name",
         "type": "\"string\""
        },
        {
         "metadata": "{}",
         "name": "Age",
         "type": "\"long\""
        },
        {
         "metadata": "{}",
         "name": "City",
         "type": "\"string\""
        },
        {
         "metadata": "{}",
         "name": "start_date",
         "type": "\"date\""
        },
        {
         "metadata": "{}",
         "name": "end_date",
         "type": "\"date\""
        },
        {
         "metadata": "{}",
         "name": "purchase_date",
         "type": "\"string\""
        },
        {
         "metadata": "{}",
         "name": "delivery_date",
         "type": "\"string\""
        },
        {
         "metadata": "{}",
         "name": "diff_days",
         "type": "\"integer\""
        }
       ],
       "type": "table"
      }
     },
     "output_type": "display_data"
    }
   ],
   "source": [
    "# create new DataFrame with date differences columns\n",
    "df_diff_01 = df_diff.withColumn('diff_days', F.datediff(col('end_date'), col('start_date')))\n",
    "display(df_diff_01)"
   ]
  },
  {
   "cell_type": "markdown",
   "metadata": {
    "application/vnd.databricks.v1+cell": {
     "cellMetadata": {},
     "inputWidgets": {},
     "nuid": "c530564d-ecf9-4b9e-a3f6-b245438328d6",
     "showTitle": false,
     "tableResultSettingsMap": {},
     "title": ""
    }
   },
   "source": [
    "- The are **812 days** between `2020-10-25 and 2023-01-15`"
   ]
  },
  {
   "cell_type": "code",
   "execution_count": 0,
   "metadata": {
    "application/vnd.databricks.v1+cell": {
     "cellMetadata": {
      "byteLimit": 2048000,
      "rowLimit": 10000
     },
     "inputWidgets": {},
     "nuid": "ef310974-00b5-49bc-b10a-37179e283a94",
     "showTitle": false,
     "tableResultSettingsMap": {},
     "title": ""
    }
   },
   "outputs": [
    {
     "output_type": "display_data",
     "data": {
      "text/html": [
       "<style scoped>\n",
       "  .table-result-container {\n",
       "    max-height: 300px;\n",
       "    overflow: auto;\n",
       "  }\n",
       "  table, th, td {\n",
       "    border: 1px solid black;\n",
       "    border-collapse: collapse;\n",
       "  }\n",
       "  th, td {\n",
       "    padding: 5px;\n",
       "  }\n",
       "  th {\n",
       "    text-align: left;\n",
       "  }\n",
       "</style><div class='table-result-container'><table class='table-result'><thead style='background-color: white'><tr><th>current_date</th><th>start_date</th><th>datediff_in_days</th></tr></thead><tbody><tr><td>2025-02-11</td><td>2020-10-25</td><td>1570</td></tr><tr><td>2025-02-11</td><td>2013-10-11</td><td>4141</td></tr><tr><td>2025-02-11</td><td>2015-10-17</td><td>3405</td></tr><tr><td>2025-02-11</td><td>2022-12-21</td><td>783</td></tr><tr><td>2025-02-11</td><td>2021-04-14</td><td>1399</td></tr><tr><td>2025-02-11</td><td>2021-06-26</td><td>1326</td></tr></tbody></table></div>"
      ]
     },
     "metadata": {
      "application/vnd.databricks.v1+output": {
       "addedWidgets": {},
       "aggData": [],
       "aggError": "",
       "aggOverflow": false,
       "aggSchema": [],
       "aggSeriesLimitReached": false,
       "aggType": "",
       "arguments": {},
       "columnCustomDisplayInfos": {},
       "data": [
        [
         "2025-02-11",
         "2020-10-25",
         1570
        ],
        [
         "2025-02-11",
         "2013-10-11",
         4141
        ],
        [
         "2025-02-11",
         "2015-10-17",
         3405
        ],
        [
         "2025-02-11",
         "2022-12-21",
         783
        ],
        [
         "2025-02-11",
         "2021-04-14",
         1399
        ],
        [
         "2025-02-11",
         "2021-06-26",
         1326
        ]
       ],
       "datasetInfos": [],
       "dbfsResultPath": null,
       "isJsonSchema": true,
       "metadata": {},
       "overflow": false,
       "plotOptions": {
        "customPlotOptions": {},
        "displayType": "table",
        "pivotAggregation": null,
        "pivotColumns": null,
        "xColumns": null,
        "yColumns": null
       },
       "removedWidgets": [],
       "schema": [
        {
         "metadata": "{}",
         "name": "current_date",
         "type": "\"date\""
        },
        {
         "metadata": "{}",
         "name": "start_date",
         "type": "\"date\""
        },
        {
         "metadata": "{}",
         "name": "datediff_in_days",
         "type": "\"integer\""
        }
       ],
       "type": "table"
      }
     },
     "output_type": "display_data"
    }
   ],
   "source": [
    "# Calculate the difference between two dates\n",
    "df_diff_02 = df_diff.select(current_date().alias(\"current_date\"),\n",
    "                            col(\"start_date\"),\n",
    "                            datediff(current_date(), col(\"start_date\")).alias(\"datediff_in_days\")\n",
    "                    )\n",
    "display(df_diff_02)"
   ]
  },
  {
   "cell_type": "code",
   "execution_count": 0,
   "metadata": {
    "application/vnd.databricks.v1+cell": {
     "cellMetadata": {
      "byteLimit": 2048000,
      "rowLimit": 10000
     },
     "inputWidgets": {},
     "nuid": "97f81ae1-6132-4c4f-b46d-a5095f94ed42",
     "showTitle": false,
     "tableResultSettingsMap": {},
     "title": ""
    }
   },
   "outputs": [
    {
     "output_type": "display_data",
     "data": {
      "text/html": [
       "<style scoped>\n",
       "  .table-result-container {\n",
       "    max-height: 300px;\n",
       "    overflow: auto;\n",
       "  }\n",
       "  table, th, td {\n",
       "    border: 1px solid black;\n",
       "    border-collapse: collapse;\n",
       "  }\n",
       "  th, td {\n",
       "    padding: 5px;\n",
       "  }\n",
       "  th {\n",
       "    text-align: left;\n",
       "  }\n",
       "</style><div class='table-result-container'><table class='table-result'><thead style='background-color: white'><tr><th>emp_name</th><th>Age</th><th>City</th><th>start_date</th><th>end_date</th><th>purchase_date</th><th>delivery_date</th><th>diff_days</th></tr></thead><tbody><tr><td>Sowmya</td><td>29</td><td>Chennai</td><td>2020-10-25</td><td>2023-01-15</td><td>2021-11-20</td><td>2022-05-11</td><td>172</td></tr><tr><td>Bole</td><td>32</td><td>Bangalore</td><td>2013-10-11</td><td>2029-01-18</td><td>2012-08-17</td><td>2028-04-28</td><td>5733</td></tr><tr><td>Chandini</td><td>35</td><td>Hyderabad</td><td>2015-10-17</td><td>2022-04-15</td><td>2017-12-27</td><td>2023-04-05</td><td>1925</td></tr><tr><td>Deepthi</td><td>40</td><td>Nasik</td><td>2022-12-21</td><td>2023-04-23</td><td>2023-02-26</td><td>2024-08-20</td><td>541</td></tr><tr><td>Swapna</td><td>37</td><td>Mumbai</td><td>2021-04-14</td><td>2023-07-25</td><td>2022-09-24</td><td>2025-04-22</td><td>941</td></tr><tr><td>Tharun</td><td>25</td><td>Delhi</td><td>2021-06-26</td><td>2021-07-12</td><td>2023-06-17</td><td>2025-09-22</td><td>828</td></tr></tbody></table></div>"
      ]
     },
     "metadata": {
      "application/vnd.databricks.v1+output": {
       "addedWidgets": {},
       "aggData": [],
       "aggError": "",
       "aggOverflow": false,
       "aggSchema": [],
       "aggSeriesLimitReached": false,
       "aggType": "",
       "arguments": {},
       "columnCustomDisplayInfos": {},
       "data": [
        [
         "Sowmya",
         29,
         "Chennai",
         "2020-10-25",
         "2023-01-15",
         "2021-11-20",
         "2022-05-11",
         172
        ],
        [
         "Bole",
         32,
         "Bangalore",
         "2013-10-11",
         "2029-01-18",
         "2012-08-17",
         "2028-04-28",
         5733
        ],
        [
         "Chandini",
         35,
         "Hyderabad",
         "2015-10-17",
         "2022-04-15",
         "2017-12-27",
         "2023-04-05",
         1925
        ],
        [
         "Deepthi",
         40,
         "Nasik",
         "2022-12-21",
         "2023-04-23",
         "2023-02-26",
         "2024-08-20",
         541
        ],
        [
         "Swapna",
         37,
         "Mumbai",
         "2021-04-14",
         "2023-07-25",
         "2022-09-24",
         "2025-04-22",
         941
        ],
        [
         "Tharun",
         25,
         "Delhi",
         "2021-06-26",
         "2021-07-12",
         "2023-06-17",
         "2025-09-22",
         828
        ]
       ],
       "datasetInfos": [],
       "dbfsResultPath": null,
       "isJsonSchema": true,
       "metadata": {},
       "overflow": false,
       "plotOptions": {
        "customPlotOptions": {},
        "displayType": "table",
        "pivotAggregation": null,
        "pivotColumns": null,
        "xColumns": null,
        "yColumns": null
       },
       "removedWidgets": [],
       "schema": [
        {
         "metadata": "{}",
         "name": "emp_name",
         "type": "\"string\""
        },
        {
         "metadata": "{}",
         "name": "Age",
         "type": "\"long\""
        },
        {
         "metadata": "{}",
         "name": "City",
         "type": "\"string\""
        },
        {
         "metadata": "{}",
         "name": "start_date",
         "type": "\"date\""
        },
        {
         "metadata": "{}",
         "name": "end_date",
         "type": "\"date\""
        },
        {
         "metadata": "{}",
         "name": "purchase_date",
         "type": "\"string\""
        },
        {
         "metadata": "{}",
         "name": "delivery_date",
         "type": "\"string\""
        },
        {
         "metadata": "{}",
         "name": "diff_days",
         "type": "\"integer\""
        }
       ],
       "type": "table"
      }
     },
     "output_type": "display_data"
    }
   ],
   "source": [
    "# Calculate Difference Between Dates in Days\n",
    "df_diff_02 = df_diff.withColumn('diff_days', F.datediff(F.to_date('delivery_date'), F.to_date('purchase_date')))\n",
    "display(df_diff_02)"
   ]
  },
  {
   "cell_type": "markdown",
   "metadata": {
    "application/vnd.databricks.v1+cell": {
     "cellMetadata": {},
     "inputWidgets": {},
     "nuid": "31d9c416-db45-4e9a-9d4c-c1a7511715d1",
     "showTitle": false,
     "tableResultSettingsMap": {},
     "title": ""
    }
   },
   "source": [
    "#### **2) months_between()**\n",
    "\n",
    "- Date Difference in Months\n",
    "- Date Difference in Seconds\n",
    "  - Using unix_timestamp()\n",
    "  - Using to_timestamp()\n",
    "- Date Difference in Minutes\n",
    "- Date Difference in Hours"
   ]
  },
  {
   "cell_type": "code",
   "execution_count": 0,
   "metadata": {
    "application/vnd.databricks.v1+cell": {
     "cellMetadata": {
      "byteLimit": 2048000,
      "rowLimit": 10000
     },
     "inputWidgets": {},
     "nuid": "d5977edd-ba31-4658-a58e-4cd340bae720",
     "showTitle": false,
     "tableResultSettingsMap": {},
     "title": ""
    }
   },
   "outputs": [],
   "source": [
    "from pyspark.sql import functions as F\n",
    "from pyspark.sql.functions import col, floor, to_timestamp, current_date, datediff, months_between(), round, lit, to_date, unix_timestamp"
   ]
  },
  {
   "cell_type": "markdown",
   "metadata": {
    "application/vnd.databricks.v1+cell": {
     "cellMetadata": {
      "byteLimit": 2048000,
      "rowLimit": 10000
     },
     "inputWidgets": {},
     "nuid": "f392cbfa-bfd2-49ee-a43c-9da322554f41",
     "showTitle": false,
     "tableResultSettingsMap": {},
     "title": ""
    }
   },
   "source": [
    "##### **a) Date Difference in Months**"
   ]
  },
  {
   "cell_type": "markdown",
   "metadata": {
    "application/vnd.databricks.v1+cell": {
     "cellMetadata": {
      "byteLimit": 2048000,
      "rowLimit": 10000
     },
     "inputWidgets": {},
     "nuid": "40d1263b-cc09-439a-8238-2c1730882fe5",
     "showTitle": false,
     "tableResultSettingsMap": {},
     "title": ""
    }
   },
   "source": [
    "##### **months_between():**\n",
    "  - Returns **number of months** between dates **date1 and date2**.\n",
    "  - If date1 is later than date2, then the result is positive. A whole number is returned if both inputs have the same day of month or both are the last day of their respective months. .\n",
    "  - The difference is calculated assuming **31 days per month**.\n",
    "  - The result is **rounded off** to **8 digits** unless roundOff is set to **False**."
   ]
  },
  {
   "cell_type": "markdown",
   "metadata": {
    "application/vnd.databricks.v1+cell": {
     "cellMetadata": {
      "byteLimit": 2048000,
      "rowLimit": 10000
     },
     "inputWidgets": {},
     "nuid": "ac3fb7aa-62bd-4e80-bf0e-e71eb21a46db",
     "showTitle": false,
     "tableResultSettingsMap": {},
     "title": ""
    }
   },
   "source": [
    "##### **Syntax**\n",
    "\n",
    "      Syntax: months_between(end_date, start_date)\n",
    "      \n",
    "         Returns => number of months between two dates.\n",
    "\n",
    "      |   Parameter Name\t     |  Required  | Description                                            |\n",
    "      |--------------------------|------------|--------------------------------------------------------|\n",
    "      | end_date (str, Column)   |    Yes\t  | It represents the ending date.                         |\n",
    "      | start_date (str, Column) |    Yes\t  | It represents the starting date.                       |\n",
    "      | roundOff (bool)\t     | Optional\t  | It represents the difference to be rounded off or not. |\n",
    "\n",
    "        roundOffbool, optional => whether to round (to 8 digits) the final value or not (default: True)."
   ]
  },
  {
   "cell_type": "code",
   "execution_count": 0,
   "metadata": {
    "application/vnd.databricks.v1+cell": {
     "cellMetadata": {
      "byteLimit": 2048000,
      "rowLimit": 10000
     },
     "inputWidgets": {},
     "nuid": "478ba17d-6758-4fd0-b080-0142ccdf7621",
     "showTitle": true,
     "tableResultSettingsMap": {},
     "title": "Sample Dataframe 01"
    }
   },
   "outputs": [
    {
     "output_type": "display_data",
     "data": {
      "text/html": [
       "<style scoped>\n",
       "  .table-result-container {\n",
       "    max-height: 300px;\n",
       "    overflow: auto;\n",
       "  }\n",
       "  table, th, td {\n",
       "    border: 1px solid black;\n",
       "    border-collapse: collapse;\n",
       "  }\n",
       "  th, td {\n",
       "    padding: 5px;\n",
       "  }\n",
       "  th {\n",
       "    text-align: left;\n",
       "  }\n",
       "</style><div class='table-result-container'><table class='table-result'><thead style='background-color: white'><tr><th>from_date</th><th>to_date</th><th>from_datetime</th><th>to_datetime</th></tr></thead><tbody><tr><td>2019-01-11</td><td>2021-04-12</td><td>2019-09-17 12:02:21</td><td>2021-07-12 18:29:29</td></tr><tr><td>2019-08-04</td><td>2021-04-15</td><td>2018-11-11 14:17:05</td><td>2021-08-03 16:21:40</td></tr><tr><td>2019-03-24</td><td>2021-02-08</td><td>2019-02-07 04:26:49</td><td>2020-11-28 05:20:33</td></tr><tr><td>2019-04-13</td><td>2021-06-05</td><td>2019-07-08 20:04:09</td><td>2021-05-18 08:21:12</td></tr><tr><td>2019-02-22</td><td>2021-10-01</td><td>2018-11-28 05:46:54</td><td>2021-06-17 21:39:42</td></tr></tbody></table></div>"
      ]
     },
     "metadata": {
      "application/vnd.databricks.v1+output": {
       "addedWidgets": {},
       "aggData": [],
       "aggError": "",
       "aggOverflow": false,
       "aggSchema": [],
       "aggSeriesLimitReached": false,
       "aggType": "",
       "arguments": {},
       "columnCustomDisplayInfos": {},
       "data": [
        [
         "2019-01-11",
         "2021-04-12",
         "2019-09-17 12:02:21",
         "2021-07-12 18:29:29"
        ],
        [
         "2019-08-04",
         "2021-04-15",
         "2018-11-11 14:17:05",
         "2021-08-03 16:21:40"
        ],
        [
         "2019-03-24",
         "2021-02-08",
         "2019-02-07 04:26:49",
         "2020-11-28 05:20:33"
        ],
        [
         "2019-04-13",
         "2021-06-05",
         "2019-07-08 20:04:09",
         "2021-05-18 08:21:12"
        ],
        [
         "2019-02-22",
         "2021-10-01",
         "2018-11-28 05:46:54",
         "2021-06-17 21:39:42"
        ]
       ],
       "datasetInfos": [],
       "dbfsResultPath": null,
       "isJsonSchema": true,
       "metadata": {},
       "overflow": false,
       "plotOptions": {
        "customPlotOptions": {},
        "displayType": "table",
        "pivotAggregation": null,
        "pivotColumns": null,
        "xColumns": null,
        "yColumns": null
       },
       "removedWidgets": [],
       "schema": [
        {
         "metadata": "{}",
         "name": "from_date",
         "type": "\"string\""
        },
        {
         "metadata": "{}",
         "name": "to_date",
         "type": "\"string\""
        },
        {
         "metadata": "{}",
         "name": "from_datetime",
         "type": "\"string\""
        },
        {
         "metadata": "{}",
         "name": "to_datetime",
         "type": "\"string\""
        }
       ],
       "type": "table"
      }
     },
     "output_type": "display_data"
    }
   ],
   "source": [
    "data = [(\"2019-01-11\", \"2021-04-12\", \"2019-09-17 12:02:21\", \"2021-07-12 18:29:29\"),\n",
    "        (\"2019-08-04\", \"2021-04-15\", \"2018-11-11 14:17:05\", \"2021-08-03 16:21:40\"),\n",
    "        (\"2019-03-24\", \"2021-02-08\", \"2019-02-07 04:26:49\", \"2020-11-28 05:20:33\"),\n",
    "        (\"2019-04-13\", \"2021-06-05\", \"2019-07-08 20:04:09\", \"2021-05-18 08:21:12\"),\n",
    "        (\"2019-02-22\", \"2021-10-01\", \"2018-11-28 05:46:54\", \"2021-06-17 21:39:42\")\n",
    "       ]\n",
    " \n",
    "columns = [\"from_date\", \"to_date\", \"from_datetime\", \"to_datetime\"]\n",
    "\n",
    "df_samp01 = spark.createDataFrame(data, schema=columns)\n",
    "display(df_samp01)"
   ]
  },
  {
   "cell_type": "code",
   "execution_count": 0,
   "metadata": {
    "application/vnd.databricks.v1+cell": {
     "cellMetadata": {
      "byteLimit": 2048000,
      "rowLimit": 10000
     },
     "inputWidgets": {},
     "nuid": "b80e28c1-9a1f-4c8f-b048-4e8f9116e291",
     "showTitle": false,
     "tableResultSettingsMap": {},
     "title": ""
    }
   },
   "outputs": [
    {
     "output_type": "display_data",
     "data": {
      "text/html": [
       "<style scoped>\n",
       "  .table-result-container {\n",
       "    max-height: 300px;\n",
       "    overflow: auto;\n",
       "  }\n",
       "  table, th, td {\n",
       "    border: 1px solid black;\n",
       "    border-collapse: collapse;\n",
       "  }\n",
       "  th, td {\n",
       "    padding: 5px;\n",
       "  }\n",
       "  th {\n",
       "    text-align: left;\n",
       "  }\n",
       "</style><div class='table-result-container'><table class='table-result'><thead style='background-color: white'><tr><th>from_date</th><th>to_date</th><th>from_datetime</th><th>to_datetime</th></tr></thead><tbody><tr><td>2019-01-11</td><td>2021-04-12</td><td>2019-09-17T00:00:00Z</td><td>2021-07-12T00:00:00Z</td></tr><tr><td>2019-08-04</td><td>2021-04-15</td><td>2018-11-11T00:00:00Z</td><td>2021-08-03T00:00:00Z</td></tr><tr><td>2019-03-24</td><td>2021-02-08</td><td>2019-02-07T00:00:00Z</td><td>2020-11-28T00:00:00Z</td></tr><tr><td>2019-04-13</td><td>2021-06-05</td><td>2019-07-08T00:00:00Z</td><td>2021-05-18T00:00:00Z</td></tr><tr><td>2019-02-22</td><td>2021-10-01</td><td>2018-11-28T00:00:00Z</td><td>2021-06-17T00:00:00Z</td></tr></tbody></table></div>"
      ]
     },
     "metadata": {
      "application/vnd.databricks.v1+output": {
       "addedWidgets": {},
       "aggData": [],
       "aggError": "",
       "aggOverflow": false,
       "aggSchema": [],
       "aggSeriesLimitReached": false,
       "aggType": "",
       "arguments": {},
       "columnCustomDisplayInfos": {},
       "data": [
        [
         "2019-01-11",
         "2021-04-12",
         "2019-09-17T00:00:00Z",
         "2021-07-12T00:00:00Z"
        ],
        [
         "2019-08-04",
         "2021-04-15",
         "2018-11-11T00:00:00Z",
         "2021-08-03T00:00:00Z"
        ],
        [
         "2019-03-24",
         "2021-02-08",
         "2019-02-07T00:00:00Z",
         "2020-11-28T00:00:00Z"
        ],
        [
         "2019-04-13",
         "2021-06-05",
         "2019-07-08T00:00:00Z",
         "2021-05-18T00:00:00Z"
        ],
        [
         "2019-02-22",
         "2021-10-01",
         "2018-11-28T00:00:00Z",
         "2021-06-17T00:00:00Z"
        ]
       ],
       "datasetInfos": [],
       "dbfsResultPath": null,
       "isJsonSchema": true,
       "metadata": {},
       "overflow": false,
       "plotOptions": {
        "customPlotOptions": {},
        "displayType": "table",
        "pivotAggregation": null,
        "pivotColumns": null,
        "xColumns": null,
        "yColumns": null
       },
       "removedWidgets": [],
       "schema": [
        {
         "metadata": "{}",
         "name": "from_date",
         "type": "\"date\""
        },
        {
         "metadata": "{}",
         "name": "to_date",
         "type": "\"date\""
        },
        {
         "metadata": "{}",
         "name": "from_datetime",
         "type": "\"timestamp\""
        },
        {
         "metadata": "{}",
         "name": "to_datetime",
         "type": "\"timestamp\""
        }
       ],
       "type": "table"
      }
     },
     "output_type": "display_data"
    }
   ],
   "source": [
    "df_samp01 = df_samp01.withColumn(\"from_date\", to_date(\"from_date\")) \\\n",
    "                     .withColumn(\"to_date\", to_date(\"to_date\")) \\\n",
    "                     .withColumn(\"from_datetime\", to_timestamp(\"from_datetime\", \"yyyy-MM-dd HH:mm:ss\")) \\\n",
    "                     .withColumn(\"to_datetime\", to_timestamp(\"to_datetime\", \"yyyy-MM-dd HH:mm:ss\"))\n",
    "\n",
    "display(df_samp01)"
   ]
  },
  {
   "cell_type": "markdown",
   "metadata": {
    "application/vnd.databricks.v1+cell": {
     "cellMetadata": {
      "byteLimit": 2048000,
      "rowLimit": 10000
     },
     "inputWidgets": {},
     "nuid": "7a337e9d-c9af-44f3-9849-bbc8300ce0c6",
     "showTitle": false,
     "tableResultSettingsMap": {},
     "title": ""
    }
   },
   "source": [
    "**How to find the month difference between days?**"
   ]
  },
  {
   "cell_type": "code",
   "execution_count": 0,
   "metadata": {
    "application/vnd.databricks.v1+cell": {
     "cellMetadata": {
      "byteLimit": 2048000,
      "rowLimit": 10000
     },
     "inputWidgets": {},
     "nuid": "d10ffa56-0079-4807-9fb6-3abb00858e2b",
     "showTitle": true,
     "tableResultSettingsMap": {},
     "title": "using select"
    }
   },
   "outputs": [
    {
     "output_type": "display_data",
     "data": {
      "text/html": [
       "<style scoped>\n",
       "  .table-result-container {\n",
       "    max-height: 300px;\n",
       "    overflow: auto;\n",
       "  }\n",
       "  table, th, td {\n",
       "    border: 1px solid black;\n",
       "    border-collapse: collapse;\n",
       "  }\n",
       "  th, td {\n",
       "    padding: 5px;\n",
       "  }\n",
       "  th {\n",
       "    text-align: left;\n",
       "  }\n",
       "</style><div class='table-result-container'><table class='table-result'><thead style='background-color: white'><tr><th>from_date</th><th>months_between</th><th>months_between_floor</th><th>to_date</th></tr></thead><tbody><tr><td>2019-01-11</td><td>27.03225806</td><td>27</td><td>2021-04-12</td></tr><tr><td>2019-08-04</td><td>20.35483871</td><td>20</td><td>2021-04-15</td></tr><tr><td>2019-03-24</td><td>22.48387097</td><td>22</td><td>2021-02-08</td></tr><tr><td>2019-04-13</td><td>25.74193548</td><td>25</td><td>2021-06-05</td></tr><tr><td>2019-02-22</td><td>31.32258065</td><td>31</td><td>2021-10-01</td></tr></tbody></table></div>"
      ]
     },
     "metadata": {
      "application/vnd.databricks.v1+output": {
       "addedWidgets": {},
       "aggData": [],
       "aggError": "",
       "aggOverflow": false,
       "aggSchema": [],
       "aggSeriesLimitReached": false,
       "aggType": "",
       "arguments": {},
       "columnCustomDisplayInfos": {},
       "data": [
        [
         "2019-01-11",
         27.03225806,
         27,
         "2021-04-12"
        ],
        [
         "2019-08-04",
         20.35483871,
         20,
         "2021-04-15"
        ],
        [
         "2019-03-24",
         22.48387097,
         22,
         "2021-02-08"
        ],
        [
         "2019-04-13",
         25.74193548,
         25,
         "2021-06-05"
        ],
        [
         "2019-02-22",
         31.32258065,
         31,
         "2021-10-01"
        ]
       ],
       "datasetInfos": [],
       "dbfsResultPath": null,
       "isJsonSchema": true,
       "metadata": {},
       "overflow": false,
       "plotOptions": {
        "customPlotOptions": {},
        "displayType": "table",
        "pivotAggregation": null,
        "pivotColumns": null,
        "xColumns": null,
        "yColumns": null
       },
       "removedWidgets": [],
       "schema": [
        {
         "metadata": "{}",
         "name": "from_date",
         "type": "\"date\""
        },
        {
         "metadata": "{}",
         "name": "months_between",
         "type": "\"double\""
        },
        {
         "metadata": "{}",
         "name": "months_between_floor",
         "type": "\"long\""
        },
        {
         "metadata": "{}",
         "name": "to_date",
         "type": "\"date\""
        }
       ],
       "type": "table"
      }
     },
     "output_type": "display_data"
    }
   ],
   "source": [
    "df1 = df_samp01.select(\"from_date\",\n",
    "                       months_between(\"to_date\", \"from_date\").alias(\"months_between\"),\n",
    "                       floor(months_between(\"to_date\", \"from_date\")).alias(\"months_between_floor\"),\n",
    "                       \"to_date\")\n",
    "                       \n",
    "display(df1)"
   ]
  },
  {
   "cell_type": "code",
   "execution_count": 0,
   "metadata": {
    "application/vnd.databricks.v1+cell": {
     "cellMetadata": {
      "byteLimit": 2048000,
      "rowLimit": 10000
     },
     "inputWidgets": {},
     "nuid": "3855ee78-fb00-4585-8f25-831b4f30ca29",
     "showTitle": true,
     "tableResultSettingsMap": {},
     "title": "using withColumn"
    }
   },
   "outputs": [
    {
     "output_type": "display_data",
     "data": {
      "text/html": [
       "<style scoped>\n",
       "  .table-result-container {\n",
       "    max-height: 300px;\n",
       "    overflow: auto;\n",
       "  }\n",
       "  table, th, td {\n",
       "    border: 1px solid black;\n",
       "    border-collapse: collapse;\n",
       "  }\n",
       "  th, td {\n",
       "    padding: 5px;\n",
       "  }\n",
       "  th {\n",
       "    text-align: left;\n",
       "  }\n",
       "</style><div class='table-result-container'><table class='table-result'><thead style='background-color: white'><tr><th>to_datetime</th><th>months_between</th><th>from_datetime</th></tr></thead><tbody><tr><td>2021-07-12T00:00:00Z</td><td>21</td><td>2019-09-17T00:00:00Z</td></tr><tr><td>2021-08-03T00:00:00Z</td><td>32</td><td>2018-11-11T00:00:00Z</td></tr><tr><td>2020-11-28T00:00:00Z</td><td>21</td><td>2019-02-07T00:00:00Z</td></tr><tr><td>2021-05-18T00:00:00Z</td><td>22</td><td>2019-07-08T00:00:00Z</td></tr><tr><td>2021-06-17T00:00:00Z</td><td>30</td><td>2018-11-28T00:00:00Z</td></tr></tbody></table></div>"
      ]
     },
     "metadata": {
      "application/vnd.databricks.v1+output": {
       "addedWidgets": {},
       "aggData": [],
       "aggError": "",
       "aggOverflow": false,
       "aggSchema": [],
       "aggSeriesLimitReached": false,
       "aggType": "",
       "arguments": {},
       "columnCustomDisplayInfos": {},
       "data": [
        [
         "2021-07-12T00:00:00Z",
         21,
         "2019-09-17T00:00:00Z"
        ],
        [
         "2021-08-03T00:00:00Z",
         32,
         "2018-11-11T00:00:00Z"
        ],
        [
         "2020-11-28T00:00:00Z",
         21,
         "2019-02-07T00:00:00Z"
        ],
        [
         "2021-05-18T00:00:00Z",
         22,
         "2019-07-08T00:00:00Z"
        ],
        [
         "2021-06-17T00:00:00Z",
         30,
         "2018-11-28T00:00:00Z"
        ]
       ],
       "datasetInfos": [],
       "dbfsResultPath": null,
       "isJsonSchema": true,
       "metadata": {},
       "overflow": false,
       "plotOptions": {
        "customPlotOptions": {},
        "displayType": "table",
        "pivotAggregation": null,
        "pivotColumns": null,
        "xColumns": null,
        "yColumns": null
       },
       "removedWidgets": [],
       "schema": [
        {
         "metadata": "{}",
         "name": "to_datetime",
         "type": "\"timestamp\""
        },
        {
         "metadata": "{}",
         "name": "months_between",
         "type": "\"long\""
        },
        {
         "metadata": "{}",
         "name": "from_datetime",
         "type": "\"timestamp\""
        }
       ],
       "type": "table"
      }
     },
     "output_type": "display_data"
    }
   ],
   "source": [
    "df2 = df_samp01.withColumn(\"months_between\", floor(months_between(\"to_datetime\", \"from_datetime\"))) \\\n",
    "               .select(\"to_datetime\", \"months_between\", \"from_datetime\")\n",
    "               \n",
    "display(df2)"
   ]
  },
  {
   "cell_type": "code",
   "execution_count": 0,
   "metadata": {
    "application/vnd.databricks.v1+cell": {
     "cellMetadata": {
      "byteLimit": 2048000,
      "rowLimit": 10000
     },
     "inputWidgets": {},
     "nuid": "a3918c24-4786-4285-8e4d-6a07ab23e108",
     "showTitle": false,
     "tableResultSettingsMap": {},
     "title": ""
    }
   },
   "outputs": [
    {
     "output_type": "display_data",
     "data": {
      "text/html": [
       "<style scoped>\n",
       "  .table-result-container {\n",
       "    max-height: 300px;\n",
       "    overflow: auto;\n",
       "  }\n",
       "  table, th, td {\n",
       "    border: 1px solid black;\n",
       "    border-collapse: collapse;\n",
       "  }\n",
       "  th, td {\n",
       "    padding: 5px;\n",
       "  }\n",
       "  th {\n",
       "    text-align: left;\n",
       "  }\n",
       "</style><div class='table-result-container'><table class='table-result'><thead style='background-color: white'><tr><th>to_datetime</th><th>months_between</th><th>months_between_False</th><th>months_between_floor</th><th>to_date</th></tr></thead><tbody><tr><td>2021-07-12T00:00:00Z</td><td>3.0</td><td>3.0</td><td>3</td><td>2021-04-12</td></tr><tr><td>2021-08-03T00:00:00Z</td><td>3.61290323</td><td>3.6129032258064515</td><td>3</td><td>2021-04-15</td></tr><tr><td>2020-11-28T00:00:00Z</td><td>-2.35483871</td><td>-2.3548387096774195</td><td>-3</td><td>2021-02-08</td></tr><tr><td>2021-05-18T00:00:00Z</td><td>-0.58064516</td><td>-0.5806451612903225</td><td>-1</td><td>2021-06-05</td></tr><tr><td>2021-06-17T00:00:00Z</td><td>-3.48387097</td><td>-3.4838709677419355</td><td>-4</td><td>2021-10-01</td></tr></tbody></table></div>"
      ]
     },
     "metadata": {
      "application/vnd.databricks.v1+output": {
       "addedWidgets": {},
       "aggData": [],
       "aggError": "",
       "aggOverflow": false,
       "aggSchema": [],
       "aggSeriesLimitReached": false,
       "aggType": "",
       "arguments": {},
       "columnCustomDisplayInfos": {},
       "data": [
        [
         "2021-07-12T00:00:00Z",
         3.0,
         3.0,
         3,
         "2021-04-12"
        ],
        [
         "2021-08-03T00:00:00Z",
         3.61290323,
         3.6129032258064515,
         3,
         "2021-04-15"
        ],
        [
         "2020-11-28T00:00:00Z",
         -2.35483871,
         -2.3548387096774195,
         -3,
         "2021-02-08"
        ],
        [
         "2021-05-18T00:00:00Z",
         -0.58064516,
         -0.5806451612903225,
         -1,
         "2021-06-05"
        ],
        [
         "2021-06-17T00:00:00Z",
         -3.48387097,
         -3.4838709677419355,
         -4,
         "2021-10-01"
        ]
       ],
       "datasetInfos": [],
       "dbfsResultPath": null,
       "isJsonSchema": true,
       "metadata": {},
       "overflow": false,
       "plotOptions": {
        "customPlotOptions": {},
        "displayType": "table",
        "pivotAggregation": null,
        "pivotColumns": null,
        "xColumns": null,
        "yColumns": null
       },
       "removedWidgets": [],
       "schema": [
        {
         "metadata": "{}",
         "name": "to_datetime",
         "type": "\"timestamp\""
        },
        {
         "metadata": "{}",
         "name": "months_between",
         "type": "\"double\""
        },
        {
         "metadata": "{}",
         "name": "months_between_False",
         "type": "\"double\""
        },
        {
         "metadata": "{}",
         "name": "months_between_floor",
         "type": "\"long\""
        },
        {
         "metadata": "{}",
         "name": "to_date",
         "type": "\"date\""
        }
       ],
       "type": "table"
      }
     },
     "output_type": "display_data"
    }
   ],
   "source": [
    "df22 = df_samp01.withColumn(\"months_between\", months_between(\"to_datetime\", \"to_date\")) \\\n",
    "                .withColumn(\"months_between_False\", months_between(\"to_datetime\", \"to_date\", False)) \\\n",
    "                .withColumn(\"months_between_floor\", floor(months_between(\"to_datetime\", \"to_date\"))) \\\n",
    "                .select(\"to_datetime\", \"months_between\", \"months_between_False\", \"months_between_floor\", \"to_date\")\n",
    "               \n",
    "display(df22)"
   ]
  },
  {
   "cell_type": "code",
   "execution_count": 0,
   "metadata": {
    "application/vnd.databricks.v1+cell": {
     "cellMetadata": {
      "byteLimit": 2048000,
      "rowLimit": 10000
     },
     "inputWidgets": {},
     "nuid": "1d791e4c-fbdc-47fa-934c-dec26442ddba",
     "showTitle": true,
     "tableResultSettingsMap": {},
     "title": "Sample Dataframe 02"
    }
   },
   "outputs": [
    {
     "output_type": "display_data",
     "data": {
      "text/html": [
       "<style scoped>\n",
       "  .table-result-container {\n",
       "    max-height: 300px;\n",
       "    overflow: auto;\n",
       "  }\n",
       "  table, th, td {\n",
       "    border: 1px solid black;\n",
       "    border-collapse: collapse;\n",
       "  }\n",
       "  th, td {\n",
       "    padding: 5px;\n",
       "  }\n",
       "  th {\n",
       "    text-align: left;\n",
       "  }\n",
       "</style><div class='table-result-container'><table class='table-result'><thead style='background-color: white'><tr><th>id</th><th>date</th></tr></thead><tbody><tr><td>1</td><td>2019-07-01</td></tr><tr><td>2</td><td>2019-06-24</td></tr><tr><td>3</td><td>2019-08-24</td></tr><tr><td>4</td><td>2019-09-24</td></tr><tr><td>5</td><td>2019-10-24</td></tr></tbody></table></div>"
      ]
     },
     "metadata": {
      "application/vnd.databricks.v1+output": {
       "addedWidgets": {},
       "aggData": [],
       "aggError": "",
       "aggOverflow": false,
       "aggSchema": [],
       "aggSeriesLimitReached": false,
       "aggType": "",
       "arguments": {},
       "columnCustomDisplayInfos": {},
       "data": [
        [
         "1",
         "2019-07-01"
        ],
        [
         "2",
         "2019-06-24"
        ],
        [
         "3",
         "2019-08-24"
        ],
        [
         "4",
         "2019-09-24"
        ],
        [
         "5",
         "2019-10-24"
        ]
       ],
       "datasetInfos": [],
       "dbfsResultPath": null,
       "isJsonSchema": true,
       "metadata": {},
       "overflow": false,
       "plotOptions": {
        "customPlotOptions": {},
        "displayType": "table",
        "pivotAggregation": null,
        "pivotColumns": null,
        "xColumns": null,
        "yColumns": null
       },
       "removedWidgets": [],
       "schema": [
        {
         "metadata": "{}",
         "name": "id",
         "type": "\"string\""
        },
        {
         "metadata": "{}",
         "name": "date",
         "type": "\"date\""
        }
       ],
       "type": "table"
      }
     },
     "output_type": "display_data"
    }
   ],
   "source": [
    "# Create DataFrame\n",
    "data = [(\"1\", \"2019-07-01\"),\n",
    "        (\"2\", \"2019-06-24\"),\n",
    "        (\"3\", \"2019-08-24\"),\n",
    "        (\"4\", \"2019-09-24\"),\n",
    "        (\"5\", \"2019-10-24\")\n",
    "        ]\n",
    "\n",
    "df_samp02 = spark.createDataFrame(data=data, schema=[\"id\", \"date\"])\n",
    "df_samp02 = df_samp02.withColumn(\"date\", to_date(\"date\"))\n",
    "display(df_samp02)"
   ]
  },
  {
   "cell_type": "code",
   "execution_count": 0,
   "metadata": {
    "application/vnd.databricks.v1+cell": {
     "cellMetadata": {
      "byteLimit": 2048000,
      "rowLimit": 10000
     },
     "inputWidgets": {},
     "nuid": "fde6cf97-f157-4ece-ba29-841419a74265",
     "showTitle": false,
     "tableResultSettingsMap": {},
     "title": ""
    }
   },
   "outputs": [
    {
     "output_type": "display_data",
     "data": {
      "text/html": [
       "<style scoped>\n",
       "  .table-result-container {\n",
       "    max-height: 300px;\n",
       "    overflow: auto;\n",
       "  }\n",
       "  table, th, td {\n",
       "    border: 1px solid black;\n",
       "    border-collapse: collapse;\n",
       "  }\n",
       "  th, td {\n",
       "    padding: 5px;\n",
       "  }\n",
       "  th {\n",
       "    text-align: left;\n",
       "  }\n",
       "</style><div class='table-result-container'><table class='table-result'><thead style='background-color: white'><tr><th>id</th><th>date</th><th>diff_months_def</th><th>diff_months_True</th><th>diff_months_False</th><th>diff_months</th></tr></thead><tbody><tr><td>1</td><td>2019-07-01</td><td>67.32258065</td><td>67.32258065</td><td>67.3225806451613</td><td>67.3</td></tr><tr><td>2</td><td>2019-06-24</td><td>67.58064516</td><td>67.58064516</td><td>67.58064516129032</td><td>67.6</td></tr><tr><td>3</td><td>2019-08-24</td><td>65.58064516</td><td>65.58064516</td><td>65.58064516129032</td><td>65.6</td></tr><tr><td>4</td><td>2019-09-24</td><td>64.58064516</td><td>64.58064516</td><td>64.58064516129032</td><td>64.6</td></tr><tr><td>5</td><td>2019-10-24</td><td>63.58064516</td><td>63.58064516</td><td>63.58064516129032</td><td>63.6</td></tr></tbody></table></div>"
      ]
     },
     "metadata": {
      "application/vnd.databricks.v1+output": {
       "addedWidgets": {},
       "aggData": [],
       "aggError": "",
       "aggOverflow": false,
       "aggSchema": [],
       "aggSeriesLimitReached": false,
       "aggType": "",
       "arguments": {},
       "columnCustomDisplayInfos": {},
       "data": [
        [
         "1",
         "2019-07-01",
         67.32258065,
         67.32258065,
         67.3225806451613,
         67.3
        ],
        [
         "2",
         "2019-06-24",
         67.58064516,
         67.58064516,
         67.58064516129032,
         67.6
        ],
        [
         "3",
         "2019-08-24",
         65.58064516,
         65.58064516,
         65.58064516129032,
         65.6
        ],
        [
         "4",
         "2019-09-24",
         64.58064516,
         64.58064516,
         64.58064516129032,
         64.6
        ],
        [
         "5",
         "2019-10-24",
         63.58064516,
         63.58064516,
         63.58064516129032,
         63.6
        ]
       ],
       "datasetInfos": [],
       "dbfsResultPath": null,
       "isJsonSchema": true,
       "metadata": {},
       "overflow": false,
       "plotOptions": {
        "customPlotOptions": {},
        "displayType": "table",
        "pivotAggregation": null,
        "pivotColumns": null,
        "xColumns": null,
        "yColumns": null
       },
       "removedWidgets": [],
       "schema": [
        {
         "metadata": "{}",
         "name": "id",
         "type": "\"string\""
        },
        {
         "metadata": "{}",
         "name": "date",
         "type": "\"date\""
        },
        {
         "metadata": "{}",
         "name": "diff_months_def",
         "type": "\"double\""
        },
        {
         "metadata": "{}",
         "name": "diff_months_True",
         "type": "\"double\""
        },
        {
         "metadata": "{}",
         "name": "diff_months_False",
         "type": "\"double\""
        },
        {
         "metadata": "{}",
         "name": "diff_months",
         "type": "\"double\""
        }
       ],
       "type": "table"
      }
     },
     "output_type": "display_data"
    }
   ],
   "source": [
    "# Calculate the difference between two dates in months\n",
    "df3 = df_samp02.withColumn(\"diff_months_def\", months_between(current_date(), col(\"date\"))) \\\n",
    "               .withColumn(\"diff_months_True\", months_between(current_date(), col(\"date\"), True)) \\\n",
    "               .withColumn(\"diff_months_False\", months_between(current_date(), col(\"date\"), False)) \\\n",
    "               .withColumn(\"diff_months\", F.round(months_between(current_date(), col(\"date\")), 1))\n",
    "  \n",
    "display(df3)"
   ]
  },
  {
   "cell_type": "markdown",
   "metadata": {
    "application/vnd.databricks.v1+cell": {
     "cellMetadata": {
      "byteLimit": 2048000,
      "rowLimit": 10000
     },
     "inputWidgets": {},
     "nuid": "bd23b9cb-12fc-48da-bc22-9286e04e2e3b",
     "showTitle": false,
     "tableResultSettingsMap": {},
     "title": ""
    }
   },
   "source": [
    "**Spark SQL**"
   ]
  },
  {
   "cell_type": "code",
   "execution_count": 0,
   "metadata": {
    "application/vnd.databricks.v1+cell": {
     "cellMetadata": {
      "byteLimit": 2048000,
      "rowLimit": 10000
     },
     "inputWidgets": {},
     "nuid": "f83702d9-8f98-4ddb-ab45-8a781aba44bb",
     "showTitle": false,
     "tableResultSettingsMap": {},
     "title": ""
    }
   },
   "outputs": [],
   "source": [
    "df_samp01.createOrReplaceTempView(\"days\")"
   ]
  },
  {
   "cell_type": "code",
   "execution_count": 0,
   "metadata": {
    "application/vnd.databricks.v1+cell": {
     "cellMetadata": {
      "byteLimit": 2048000,
      "rowLimit": 10000
     },
     "inputWidgets": {},
     "nuid": "94f20686-ad67-433b-9813-9c609464ebf5",
     "showTitle": false,
     "tableResultSettingsMap": {},
     "title": ""
    }
   },
   "outputs": [
    {
     "output_type": "display_data",
     "data": {
      "text/html": [
       "<style scoped>\n",
       "  .table-result-container {\n",
       "    max-height: 300px;\n",
       "    overflow: auto;\n",
       "  }\n",
       "  table, th, td {\n",
       "    border: 1px solid black;\n",
       "    border-collapse: collapse;\n",
       "  }\n",
       "  th, td {\n",
       "    padding: 5px;\n",
       "  }\n",
       "  th {\n",
       "    text-align: left;\n",
       "  }\n",
       "</style><div class='table-result-container'><table class='table-result'><thead style='background-color: white'><tr><th>from_date</th><th>months_between</th><th>to_date</th></tr></thead><tbody><tr><td>2019-01-11</td><td>27</td><td>2021-04-12</td></tr><tr><td>2019-08-04</td><td>20</td><td>2021-04-15</td></tr><tr><td>2019-03-24</td><td>22</td><td>2021-02-08</td></tr><tr><td>2019-04-13</td><td>25</td><td>2021-06-05</td></tr><tr><td>2019-02-22</td><td>31</td><td>2021-10-01</td></tr></tbody></table></div>"
      ]
     },
     "metadata": {
      "application/vnd.databricks.v1+output": {
       "addedWidgets": {},
       "aggData": [],
       "aggError": "",
       "aggOverflow": false,
       "aggSchema": [],
       "aggSeriesLimitReached": false,
       "aggType": "",
       "arguments": {},
       "columnCustomDisplayInfos": {},
       "data": [
        [
         "2019-01-11",
         27,
         "2021-04-12"
        ],
        [
         "2019-08-04",
         20,
         "2021-04-15"
        ],
        [
         "2019-03-24",
         22,
         "2021-02-08"
        ],
        [
         "2019-04-13",
         25,
         "2021-06-05"
        ],
        [
         "2019-02-22",
         31,
         "2021-10-01"
        ]
       ],
       "datasetInfos": [],
       "dbfsResultPath": null,
       "isJsonSchema": true,
       "metadata": {},
       "overflow": false,
       "plotOptions": {
        "customPlotOptions": {},
        "displayType": "table",
        "pivotAggregation": null,
        "pivotColumns": null,
        "xColumns": null,
        "yColumns": null
       },
       "removedWidgets": [],
       "schema": [
        {
         "metadata": "{}",
         "name": "from_date",
         "type": "\"string\""
        },
        {
         "metadata": "{}",
         "name": "months_between",
         "type": "\"long\""
        },
        {
         "metadata": "{}",
         "name": "to_date",
         "type": "\"string\""
        }
       ],
       "type": "table"
      }
     },
     "output_type": "display_data"
    }
   ],
   "source": [
    "spark.sql(\"\"\"\n",
    "SELECT\n",
    "    from_date,\n",
    "    floor(months_between(to_date, from_date)) AS months_between,\n",
    "    to_date\n",
    "FROM days\n",
    "\"\"\").display()"
   ]
  },
  {
   "cell_type": "code",
   "execution_count": 0,
   "metadata": {
    "application/vnd.databricks.v1+cell": {
     "cellMetadata": {
      "byteLimit": 2048000,
      "implicitDf": true,
      "rowLimit": 10000
     },
     "inputWidgets": {},
     "nuid": "c6b4d77b-2580-49f8-8ce5-920066841fa4",
     "showTitle": false,
     "tableResultSettingsMap": {},
     "title": ""
    }
   },
   "outputs": [
    {
     "output_type": "display_data",
     "data": {
      "text/html": [
       "<style scoped>\n",
       "  .table-result-container {\n",
       "    max-height: 300px;\n",
       "    overflow: auto;\n",
       "  }\n",
       "  table, th, td {\n",
       "    border: 1px solid black;\n",
       "    border-collapse: collapse;\n",
       "  }\n",
       "  th, td {\n",
       "    padding: 5px;\n",
       "  }\n",
       "  th {\n",
       "    text-align: left;\n",
       "  }\n",
       "</style><div class='table-result-container'><table class='table-result'><thead style='background-color: white'><tr><th>Months_True</th></tr></thead><tbody><tr><td>3.94959677</td></tr></tbody></table></div>"
      ]
     },
     "metadata": {
      "application/vnd.databricks.v1+output": {
       "addedWidgets": {},
       "aggData": [],
       "aggError": "",
       "aggOverflow": false,
       "aggSchema": [],
       "aggSeriesLimitReached": false,
       "aggType": "",
       "arguments": {},
       "columnCustomDisplayInfos": {},
       "data": [
        [
         3.94959677
        ]
       ],
       "datasetInfos": [],
       "dbfsResultPath": null,
       "isJsonSchema": true,
       "metadata": {
        "createTempViewForImplicitDf": true,
        "dataframeName": "_sqldf",
        "executionCount": 9
       },
       "overflow": false,
       "plotOptions": {
        "customPlotOptions": {},
        "displayType": "table",
        "pivotAggregation": null,
        "pivotColumns": null,
        "xColumns": null,
        "yColumns": null
       },
       "removedWidgets": [],
       "schema": [
        {
         "metadata": "{}",
         "name": "Months_True",
         "type": "\"double\""
        }
       ],
       "type": "table"
      }
     },
     "output_type": "display_data"
    }
   ],
   "source": [
    "%sql\n",
    "SELECT months_between('1997-02-28 10:30:00', '1996-10-30') AS Months_True;"
   ]
  },
  {
   "cell_type": "code",
   "execution_count": 0,
   "metadata": {
    "application/vnd.databricks.v1+cell": {
     "cellMetadata": {
      "byteLimit": 2048000,
      "implicitDf": true,
      "rowLimit": 10000
     },
     "inputWidgets": {},
     "nuid": "2dda64bf-66ef-4efa-a50f-4b02991d623f",
     "showTitle": false,
     "tableResultSettingsMap": {},
     "title": ""
    }
   },
   "outputs": [
    {
     "output_type": "display_data",
     "data": {
      "text/html": [
       "<style scoped>\n",
       "  .table-result-container {\n",
       "    max-height: 300px;\n",
       "    overflow: auto;\n",
       "  }\n",
       "  table, th, td {\n",
       "    border: 1px solid black;\n",
       "    border-collapse: collapse;\n",
       "  }\n",
       "  th, td {\n",
       "    padding: 5px;\n",
       "  }\n",
       "  th {\n",
       "    text-align: left;\n",
       "  }\n",
       "</style><div class='table-result-container'><table class='table-result'><thead style='background-color: white'><tr><th>Months_False</th></tr></thead><tbody><tr><td>3.9495967741935485</td></tr></tbody></table></div>"
      ]
     },
     "metadata": {
      "application/vnd.databricks.v1+output": {
       "addedWidgets": {},
       "aggData": [],
       "aggError": "",
       "aggOverflow": false,
       "aggSchema": [],
       "aggSeriesLimitReached": false,
       "aggType": "",
       "arguments": {},
       "columnCustomDisplayInfos": {},
       "data": [
        [
         3.9495967741935485
        ]
       ],
       "datasetInfos": [],
       "dbfsResultPath": null,
       "isJsonSchema": true,
       "metadata": {
        "createTempViewForImplicitDf": true,
        "dataframeName": "_sqldf",
        "executionCount": 10
       },
       "overflow": false,
       "plotOptions": {
        "customPlotOptions": {},
        "displayType": "table",
        "pivotAggregation": null,
        "pivotColumns": null,
        "xColumns": null,
        "yColumns": null
       },
       "removedWidgets": [],
       "schema": [
        {
         "metadata": "{}",
         "name": "Months_False",
         "type": "\"double\""
        }
       ],
       "type": "table"
      }
     },
     "output_type": "display_data"
    }
   ],
   "source": [
    "%sql\n",
    "SELECT months_between('1997-02-28 10:30:00', '1996-10-30', false) AS Months_False;"
   ]
  },
  {
   "cell_type": "markdown",
   "metadata": {
    "application/vnd.databricks.v1+cell": {
     "cellMetadata": {
      "byteLimit": 2048000,
      "rowLimit": 10000
     },
     "inputWidgets": {},
     "nuid": "25e82bcb-3eee-41ac-ac8d-1ad0050eac14",
     "showTitle": false,
     "tableResultSettingsMap": {},
     "title": ""
    }
   },
   "source": [
    "##### **b) Get Differences Between Dates in Years**"
   ]
  },
  {
   "cell_type": "code",
   "execution_count": 0,
   "metadata": {
    "application/vnd.databricks.v1+cell": {
     "cellMetadata": {
      "byteLimit": 2048000,
      "rowLimit": 10000
     },
     "inputWidgets": {},
     "nuid": "f3fc2596-0256-425a-b50d-07efec6f999a",
     "showTitle": true,
     "tableResultSettingsMap": {},
     "title": "years"
    }
   },
   "outputs": [
    {
     "output_type": "display_data",
     "data": {
      "text/html": [
       "<style scoped>\n",
       "  .table-result-container {\n",
       "    max-height: 300px;\n",
       "    overflow: auto;\n",
       "  }\n",
       "  table, th, td {\n",
       "    border: 1px solid black;\n",
       "    border-collapse: collapse;\n",
       "  }\n",
       "  th, td {\n",
       "    padding: 5px;\n",
       "  }\n",
       "  th {\n",
       "    text-align: left;\n",
       "  }\n",
       "</style><div class='table-result-container'><table class='table-result'><thead style='background-color: white'><tr><th>id</th><th>date</th><th>diff_years</th><th>diff_years_roundoff</th></tr></thead><tbody><tr><td>1</td><td>2019-07-01</td><td>5.6</td><td>5.6</td></tr><tr><td>2</td><td>2019-06-24</td><td>5.6</td><td>5.6</td></tr><tr><td>3</td><td>2019-08-24</td><td>5.5</td><td>5.5</td></tr><tr><td>4</td><td>2019-09-24</td><td>5.4</td><td>5.4</td></tr><tr><td>5</td><td>2019-10-24</td><td>5.3</td><td>5.3</td></tr></tbody></table></div>"
      ]
     },
     "metadata": {
      "application/vnd.databricks.v1+output": {
       "addedWidgets": {},
       "aggData": [],
       "aggError": "",
       "aggOverflow": false,
       "aggSchema": [],
       "aggSeriesLimitReached": false,
       "aggType": "",
       "arguments": {},
       "columnCustomDisplayInfos": {},
       "data": [
        [
         "1",
         "2019-07-01",
         5.6,
         5.6
        ],
        [
         "2",
         "2019-06-24",
         5.6,
         5.6
        ],
        [
         "3",
         "2019-08-24",
         5.5,
         5.5
        ],
        [
         "4",
         "2019-09-24",
         5.4,
         5.4
        ],
        [
         "5",
         "2019-10-24",
         5.3,
         5.3
        ]
       ],
       "datasetInfos": [],
       "dbfsResultPath": null,
       "isJsonSchema": true,
       "metadata": {},
       "overflow": false,
       "plotOptions": {
        "customPlotOptions": {},
        "displayType": "table",
        "pivotAggregation": null,
        "pivotColumns": null,
        "xColumns": null,
        "yColumns": null
       },
       "removedWidgets": [],
       "schema": [
        {
         "metadata": "{}",
         "name": "id",
         "type": "\"string\""
        },
        {
         "metadata": "{}",
         "name": "date",
         "type": "\"date\""
        },
        {
         "metadata": "{}",
         "name": "diff_years",
         "type": "\"double\""
        },
        {
         "metadata": "{}",
         "name": "diff_years_roundoff",
         "type": "\"double\""
        }
       ],
       "type": "table"
      }
     },
     "output_type": "display_data"
    }
   ],
   "source": [
    "# Calculate the difference between two dates in years\n",
    "df4 = df_samp02.withColumn(\"diff_years\", F.round(months_between(current_date(), col(\"date\"))/12, 1)) \\\n",
    "               .withColumn(\"diff_years_roundoff\", F.round(months_between(current_date(), col(\"date\")) / lit(12), 1))\n",
    "display(df4)"
   ]
  },
  {
   "cell_type": "markdown",
   "metadata": {
    "application/vnd.databricks.v1+cell": {
     "cellMetadata": {
      "byteLimit": 2048000,
      "rowLimit": 10000
     },
     "inputWidgets": {},
     "nuid": "7101e47b-3807-4086-89c7-80f63e246af6",
     "showTitle": false,
     "tableResultSettingsMap": {},
     "title": ""
    }
   },
   "source": [
    "##### **c) Date Difference in Hours / Minutes**"
   ]
  },
  {
   "cell_type": "markdown",
   "metadata": {
    "application/vnd.databricks.v1+cell": {
     "cellMetadata": {},
     "inputWidgets": {},
     "nuid": "5aad6b0a-b644-4278-a1b3-6311332820d9",
     "showTitle": false,
     "tableResultSettingsMap": {},
     "title": ""
    }
   },
   "source": [
    "     df.withColumn(\"ux_current_date\", unix_timestamp(col(\"current_date\")))\n",
    "                                     (or)\n",
    "     df.withColumn(\"ux_current_date\", unix_timestamp(current_date()))"
   ]
  },
  {
   "cell_type": "code",
   "execution_count": 0,
   "metadata": {
    "application/vnd.databricks.v1+cell": {
     "cellMetadata": {
      "byteLimit": 2048000,
      "rowLimit": 10000
     },
     "inputWidgets": {},
     "nuid": "4c10bbf2-9ab5-4488-b170-939af6942841",
     "showTitle": false,
     "tableResultSettingsMap": {},
     "title": ""
    }
   },
   "outputs": [
    {
     "output_type": "display_data",
     "data": {
      "text/html": [
       "<style scoped>\n",
       "  .table-result-container {\n",
       "    max-height: 300px;\n",
       "    overflow: auto;\n",
       "  }\n",
       "  table, th, td {\n",
       "    border: 1px solid black;\n",
       "    border-collapse: collapse;\n",
       "  }\n",
       "  th, td {\n",
       "    padding: 5px;\n",
       "  }\n",
       "  th {\n",
       "    text-align: left;\n",
       "  }\n",
       "</style><div class='table-result-container'><table class='table-result'><thead style='background-color: white'><tr><th>id</th><th>date</th><th>ux_current_date</th><th>ux_date</th><th>seconds_between</th><th>minutes_between</th><th>hours_between</th></tr></thead><tbody><tr><td>1</td><td>2019-07-01</td><td>1739232000</td><td>1561939200</td><td>177292800</td><td>2954880.0</td><td>49248.0</td></tr><tr><td>2</td><td>2019-06-24</td><td>1739232000</td><td>1561334400</td><td>177897600</td><td>2964960.0</td><td>49416.0</td></tr><tr><td>3</td><td>2019-08-24</td><td>1739232000</td><td>1566604800</td><td>172627200</td><td>2877120.0</td><td>47952.0</td></tr><tr><td>4</td><td>2019-09-24</td><td>1739232000</td><td>1569283200</td><td>169948800</td><td>2832480.0</td><td>47208.0</td></tr><tr><td>5</td><td>2019-10-24</td><td>1739232000</td><td>1571875200</td><td>167356800</td><td>2789280.0</td><td>46488.0</td></tr></tbody></table></div>"
      ]
     },
     "metadata": {
      "application/vnd.databricks.v1+output": {
       "addedWidgets": {},
       "aggData": [],
       "aggError": "",
       "aggOverflow": false,
       "aggSchema": [],
       "aggSeriesLimitReached": false,
       "aggType": "",
       "arguments": {},
       "columnCustomDisplayInfos": {},
       "data": [
        [
         "1",
         "2019-07-01",
         1739232000,
         1561939200,
         177292800,
         2954880.0,
         49248.0
        ],
        [
         "2",
         "2019-06-24",
         1739232000,
         1561334400,
         177897600,
         2964960.0,
         49416.0
        ],
        [
         "3",
         "2019-08-24",
         1739232000,
         1566604800,
         172627200,
         2877120.0,
         47952.0
        ],
        [
         "4",
         "2019-09-24",
         1739232000,
         1569283200,
         169948800,
         2832480.0,
         47208.0
        ],
        [
         "5",
         "2019-10-24",
         1739232000,
         1571875200,
         167356800,
         2789280.0,
         46488.0
        ]
       ],
       "datasetInfos": [],
       "dbfsResultPath": null,
       "isJsonSchema": true,
       "metadata": {},
       "overflow": false,
       "plotOptions": {
        "customPlotOptions": {},
        "displayType": "table",
        "pivotAggregation": null,
        "pivotColumns": null,
        "xColumns": null,
        "yColumns": null
       },
       "removedWidgets": [],
       "schema": [
        {
         "metadata": "{}",
         "name": "id",
         "type": "\"string\""
        },
        {
         "metadata": "{}",
         "name": "date",
         "type": "\"date\""
        },
        {
         "metadata": "{}",
         "name": "ux_current_date",
         "type": "\"long\""
        },
        {
         "metadata": "{}",
         "name": "ux_date",
         "type": "\"long\""
        },
        {
         "metadata": "{}",
         "name": "seconds_between",
         "type": "\"long\""
        },
        {
         "metadata": "{}",
         "name": "minutes_between",
         "type": "\"double\""
        },
        {
         "metadata": "{}",
         "name": "hours_between",
         "type": "\"double\""
        }
       ],
       "type": "table"
      }
     },
     "output_type": "display_data"
    }
   ],
   "source": [
    "df5 = df_samp02.withColumn(\"ux_current_date\", unix_timestamp(col(\"current_date\"))) \\\n",
    "               .withColumn(\"ux_date\", unix_timestamp(col(\"date\"))) \\\n",
    "               .withColumn(\"seconds_between\", unix_timestamp(current_date()) - unix_timestamp(col(\"date\"))) \\\n",
    "               .withColumn(\"minutes_between\", col(\"seconds_between\")/60) \\\n",
    "               .withColumn(\"hours_between\", col(\"minutes_between\")/60)\n",
    "\n",
    "display(df5)"
   ]
  },
  {
   "cell_type": "markdown",
   "metadata": {
    "application/vnd.databricks.v1+cell": {
     "cellMetadata": {
      "byteLimit": 2048000,
      "rowLimit": 10000
     },
     "inputWidgets": {},
     "nuid": "36dabf95-e631-4734-882d-d45dbc90e1d4",
     "showTitle": false,
     "tableResultSettingsMap": {},
     "title": ""
    }
   },
   "source": [
    "##### **d) Date Difference in Seconds**"
   ]
  },
  {
   "cell_type": "markdown",
   "metadata": {
    "application/vnd.databricks.v1+cell": {
     "cellMetadata": {
      "byteLimit": 2048000,
      "rowLimit": 10000
     },
     "inputWidgets": {},
     "nuid": "8fac1072-d345-49da-8974-43f86b9c8784",
     "showTitle": false,
     "tableResultSettingsMap": {},
     "title": ""
    }
   },
   "source": [
    "**i) Using unix_timestamp()**\n",
    "\n",
    "##### **Syntax:**\n",
    "     unix_timestamp(timestamp, TimestampFormat)\n",
    "\n",
    "**Note:** The UNIX timestamp function converts the timestamp into the **number of seconds since the first of January 1970**."
   ]
  },
  {
   "cell_type": "code",
   "execution_count": 0,
   "metadata": {
    "application/vnd.databricks.v1+cell": {
     "cellMetadata": {
      "byteLimit": 2048000,
      "rowLimit": 10000
     },
     "inputWidgets": {},
     "nuid": "021d25a3-f333-4abb-9660-cdb80a5f3f8e",
     "showTitle": false,
     "tableResultSettingsMap": {},
     "title": ""
    }
   },
   "outputs": [
    {
     "output_type": "display_data",
     "data": {
      "text/html": [
       "<style scoped>\n",
       "  .table-result-container {\n",
       "    max-height: 300px;\n",
       "    overflow: auto;\n",
       "  }\n",
       "  table, th, td {\n",
       "    border: 1px solid black;\n",
       "    border-collapse: collapse;\n",
       "  }\n",
       "  th, td {\n",
       "    padding: 5px;\n",
       "  }\n",
       "  th {\n",
       "    text-align: left;\n",
       "  }\n",
       "</style><div class='table-result-container'><table class='table-result'><thead style='background-color: white'><tr><th>id</th><th>date</th><th>ux_current_date</th><th>ux_date</th><th>seconds_between</th></tr></thead><tbody><tr><td>1</td><td>2019-07-01</td><td>1739145600</td><td>1561939200</td><td>177206400</td></tr><tr><td>2</td><td>2019-06-24</td><td>1739145600</td><td>1561334400</td><td>177811200</td></tr><tr><td>3</td><td>2019-08-24</td><td>1739145600</td><td>1566604800</td><td>172540800</td></tr><tr><td>4</td><td>2019-09-24</td><td>1739145600</td><td>1569283200</td><td>169862400</td></tr><tr><td>5</td><td>2019-10-24</td><td>1739145600</td><td>1571875200</td><td>167270400</td></tr></tbody></table></div>"
      ]
     },
     "metadata": {
      "application/vnd.databricks.v1+output": {
       "addedWidgets": {},
       "aggData": [],
       "aggError": "",
       "aggOverflow": false,
       "aggSchema": [],
       "aggSeriesLimitReached": false,
       "aggType": "",
       "arguments": {},
       "columnCustomDisplayInfos": {},
       "data": [
        [
         "1",
         "2019-07-01",
         1739145600,
         1561939200,
         177206400
        ],
        [
         "2",
         "2019-06-24",
         1739145600,
         1561334400,
         177811200
        ],
        [
         "3",
         "2019-08-24",
         1739145600,
         1566604800,
         172540800
        ],
        [
         "4",
         "2019-09-24",
         1739145600,
         1569283200,
         169862400
        ],
        [
         "5",
         "2019-10-24",
         1739145600,
         1571875200,
         167270400
        ]
       ],
       "datasetInfos": [],
       "dbfsResultPath": null,
       "isJsonSchema": true,
       "metadata": {},
       "overflow": false,
       "plotOptions": {
        "customPlotOptions": {},
        "displayType": "table",
        "pivotAggregation": null,
        "pivotColumns": null,
        "xColumns": null,
        "yColumns": null
       },
       "removedWidgets": [],
       "schema": [
        {
         "metadata": "{}",
         "name": "id",
         "type": "\"string\""
        },
        {
         "metadata": "{}",
         "name": "date",
         "type": "\"date\""
        },
        {
         "metadata": "{}",
         "name": "ux_current_date",
         "type": "\"long\""
        },
        {
         "metadata": "{}",
         "name": "ux_date",
         "type": "\"long\""
        },
        {
         "metadata": "{}",
         "name": "seconds_between",
         "type": "\"long\""
        }
       ],
       "type": "table"
      }
     },
     "output_type": "display_data"
    }
   ],
   "source": [
    "df6 = df_samp02.withColumn(\"ux_current_date\", unix_timestamp(col(\"current_date\"))) \\\n",
    "               .withColumn(\"ux_date\", unix_timestamp(col(\"date\"))) \\\n",
    "               .withColumn(\"seconds_between\", unix_timestamp(col(\"current_date\")) - unix_timestamp(col(\"date\")))\n",
    "\n",
    "display(df6)"
   ]
  },
  {
   "cell_type": "markdown",
   "metadata": {
    "application/vnd.databricks.v1+cell": {
     "cellMetadata": {
      "byteLimit": 2048000,
      "rowLimit": 10000
     },
     "inputWidgets": {},
     "nuid": "27156393-e545-4702-93d6-bbf9657e05b9",
     "showTitle": false,
     "tableResultSettingsMap": {},
     "title": ""
    }
   },
   "source": [
    "**ii) Using to_timestamp()**\n",
    "\n",
    "#### **Syntax:**\n",
    "     to_timestamp(timestamp, format])"
   ]
  },
  {
   "cell_type": "code",
   "execution_count": 0,
   "metadata": {
    "application/vnd.databricks.v1+cell": {
     "cellMetadata": {
      "byteLimit": 2048000,
      "rowLimit": 10000
     },
     "inputWidgets": {},
     "nuid": "777187b7-53d7-48a0-ac9a-4f8b25078b8d",
     "showTitle": false,
     "tableResultSettingsMap": {},
     "title": ""
    }
   },
   "outputs": [
    {
     "output_type": "display_data",
     "data": {
      "text/html": [
       "<style scoped>\n",
       "  .table-result-container {\n",
       "    max-height: 300px;\n",
       "    overflow: auto;\n",
       "  }\n",
       "  table, th, td {\n",
       "    border: 1px solid black;\n",
       "    border-collapse: collapse;\n",
       "  }\n",
       "  th, td {\n",
       "    padding: 5px;\n",
       "  }\n",
       "  th {\n",
       "    text-align: left;\n",
       "  }\n",
       "</style><div class='table-result-container'><table class='table-result'><thead style='background-color: white'><tr><th>id</th><th>date</th><th>date_ts</th><th>current_date</th><th>current_date_ts</th><th>seconds_between_to_timestamp</th></tr></thead><tbody><tr><td>1</td><td>2019-07-01</td><td>2019-07-01T00:00:00Z</td><td>2025-02-11</td><td>2025-02-11T00:00:00Z</td><td>177292800</td></tr><tr><td>2</td><td>2019-06-24</td><td>2019-06-24T00:00:00Z</td><td>2025-02-11</td><td>2025-02-11T00:00:00Z</td><td>177897600</td></tr><tr><td>3</td><td>2019-08-24</td><td>2019-08-24T00:00:00Z</td><td>2025-02-11</td><td>2025-02-11T00:00:00Z</td><td>172627200</td></tr><tr><td>4</td><td>2019-09-24</td><td>2019-09-24T00:00:00Z</td><td>2025-02-11</td><td>2025-02-11T00:00:00Z</td><td>169948800</td></tr><tr><td>5</td><td>2019-10-24</td><td>2019-10-24T00:00:00Z</td><td>2025-02-11</td><td>2025-02-11T00:00:00Z</td><td>167356800</td></tr></tbody></table></div>"
      ]
     },
     "metadata": {
      "application/vnd.databricks.v1+output": {
       "addedWidgets": {},
       "aggData": [],
       "aggError": "",
       "aggOverflow": false,
       "aggSchema": [],
       "aggSeriesLimitReached": false,
       "aggType": "",
       "arguments": {},
       "columnCustomDisplayInfos": {},
       "data": [
        [
         "1",
         "2019-07-01",
         "2019-07-01T00:00:00Z",
         "2025-02-11",
         "2025-02-11T00:00:00Z",
         177292800
        ],
        [
         "2",
         "2019-06-24",
         "2019-06-24T00:00:00Z",
         "2025-02-11",
         "2025-02-11T00:00:00Z",
         177897600
        ],
        [
         "3",
         "2019-08-24",
         "2019-08-24T00:00:00Z",
         "2025-02-11",
         "2025-02-11T00:00:00Z",
         172627200
        ],
        [
         "4",
         "2019-09-24",
         "2019-09-24T00:00:00Z",
         "2025-02-11",
         "2025-02-11T00:00:00Z",
         169948800
        ],
        [
         "5",
         "2019-10-24",
         "2019-10-24T00:00:00Z",
         "2025-02-11",
         "2025-02-11T00:00:00Z",
         167356800
        ]
       ],
       "datasetInfos": [],
       "dbfsResultPath": null,
       "isJsonSchema": true,
       "metadata": {},
       "overflow": false,
       "plotOptions": {
        "customPlotOptions": {},
        "displayType": "table",
        "pivotAggregation": null,
        "pivotColumns": null,
        "xColumns": null,
        "yColumns": null
       },
       "removedWidgets": [],
       "schema": [
        {
         "metadata": "{}",
         "name": "id",
         "type": "\"string\""
        },
        {
         "metadata": "{}",
         "name": "date",
         "type": "\"date\""
        },
        {
         "metadata": "{}",
         "name": "date_ts",
         "type": "\"timestamp\""
        },
        {
         "metadata": "{}",
         "name": "current_date",
         "type": "\"date\""
        },
        {
         "metadata": "{}",
         "name": "current_date_ts",
         "type": "\"timestamp\""
        },
        {
         "metadata": "{}",
         "name": "seconds_between_to_timestamp",
         "type": "\"long\""
        }
       ],
       "type": "table"
      }
     },
     "output_type": "display_data"
    }
   ],
   "source": [
    "# unix_timestamp() function to convert timestamps to seconds\n",
    "# to_timestamp(col(\"current_date\")) => Ensures the column is treated as a timestamp\n",
    "# unix_timestamp() => Converts the timestamp to seconds\n",
    "# time difference in \"seconds\" between \"current_date\" and \"date\"\n",
    "\n",
    "df7 = df_samp02.withColumn(\"date_ts\", to_timestamp(col(\"date\"))) \\\n",
    "               .withColumn(\"current_date\", current_date()) \\\n",
    "               .withColumn(\"current_date_ts\", to_timestamp(current_date())) \\\n",
    "               .withColumn(\"seconds_between_to_timestamp\",\n",
    "                           unix_timestamp(to_timestamp(col(\"current_date\"))) - unix_timestamp(to_timestamp(col(\"date\"))))\n",
    "\n",
    "display(df7)"
   ]
  },
  {
   "cell_type": "markdown",
   "metadata": {
    "application/vnd.databricks.v1+cell": {
     "cellMetadata": {
      "byteLimit": 2048000,
      "rowLimit": 10000
     },
     "inputWidgets": {},
     "nuid": "02ff5405-27d7-4af2-b47e-eb808db8abc4",
     "showTitle": false,
     "tableResultSettingsMap": {},
     "title": ""
    }
   },
   "source": [
    "##### **e) Calculating Differences when Dates are in Custom Format**\n",
    "\n",
    "- Difference between two dates when dates are `not in DateType format yyyy-MM-dd`.\n",
    "- When dates are `not in DateType format`, all date functions return `null`.\n",
    "- Hence, first `convert` the input date to DateType using `to_date()` function and then calculate the `differences`."
   ]
  },
  {
   "cell_type": "code",
   "execution_count": 0,
   "metadata": {
    "application/vnd.databricks.v1+cell": {
     "cellMetadata": {
      "byteLimit": 2048000,
      "rowLimit": 10000
     },
     "inputWidgets": {},
     "nuid": "15f30c97-60fe-485c-82dc-e6319ce9acba",
     "showTitle": false,
     "tableResultSettingsMap": {},
     "title": ""
    }
   },
   "outputs": [
    {
     "output_type": "display_data",
     "data": {
      "text/html": [
       "<style scoped>\n",
       "  .table-result-container {\n",
       "    max-height: 300px;\n",
       "    overflow: auto;\n",
       "  }\n",
       "  table, th, td {\n",
       "    border: 1px solid black;\n",
       "    border-collapse: collapse;\n",
       "  }\n",
       "  th, td {\n",
       "    padding: 5px;\n",
       "  }\n",
       "  th {\n",
       "    text-align: left;\n",
       "  }\n",
       "</style><div class='table-result-container'><table class='table-result'><thead style='background-color: white'><tr><th>from_date</th><th>to_date</th><th>from_datetime</th><th>to_datetime</th><th>diff_months</th></tr></thead><tbody><tr><td>2019-01-11</td><td>2021-04-12</td><td>2019-09-17 12:02:21</td><td>2021-07-12 18:29:29</td><td>27.03</td></tr><tr><td>2019-08-04</td><td>2021-04-15</td><td>2018-11-11 14:17:05</td><td>2021-08-03 16:21:40</td><td>20.35</td></tr><tr><td>2019-03-24</td><td>2021-02-08</td><td>2019-02-07 04:26:49</td><td>2020-11-28 05:20:33</td><td>22.48</td></tr><tr><td>2019-04-13</td><td>2021-06-05</td><td>2019-07-08 20:04:09</td><td>2021-05-18 08:21:12</td><td>25.74</td></tr><tr><td>2019-02-22</td><td>2021-10-01</td><td>2018-11-28 05:46:54</td><td>2021-06-17 21:39:42</td><td>31.32</td></tr></tbody></table></div>"
      ]
     },
     "metadata": {
      "application/vnd.databricks.v1+output": {
       "addedWidgets": {},
       "aggData": [],
       "aggError": "",
       "aggOverflow": false,
       "aggSchema": [],
       "aggSeriesLimitReached": false,
       "aggType": "",
       "arguments": {},
       "columnCustomDisplayInfos": {},
       "data": [
        [
         "2019-01-11",
         "2021-04-12",
         "2019-09-17 12:02:21",
         "2021-07-12 18:29:29",
         27.03
        ],
        [
         "2019-08-04",
         "2021-04-15",
         "2018-11-11 14:17:05",
         "2021-08-03 16:21:40",
         20.35
        ],
        [
         "2019-03-24",
         "2021-02-08",
         "2019-02-07 04:26:49",
         "2020-11-28 05:20:33",
         22.48
        ],
        [
         "2019-04-13",
         "2021-06-05",
         "2019-07-08 20:04:09",
         "2021-05-18 08:21:12",
         25.74
        ],
        [
         "2019-02-22",
         "2021-10-01",
         "2018-11-28 05:46:54",
         "2021-06-17 21:39:42",
         31.32
        ]
       ],
       "datasetInfos": [],
       "dbfsResultPath": null,
       "isJsonSchema": true,
       "metadata": {},
       "overflow": false,
       "plotOptions": {
        "customPlotOptions": {},
        "displayType": "table",
        "pivotAggregation": null,
        "pivotColumns": null,
        "xColumns": null,
        "yColumns": null
       },
       "removedWidgets": [],
       "schema": [
        {
         "metadata": "{}",
         "name": "from_date",
         "type": "\"string\""
        },
        {
         "metadata": "{}",
         "name": "to_date",
         "type": "\"string\""
        },
        {
         "metadata": "{}",
         "name": "from_datetime",
         "type": "\"string\""
        },
        {
         "metadata": "{}",
         "name": "to_datetime",
         "type": "\"string\""
        },
        {
         "metadata": "{}",
         "name": "diff_months",
         "type": "\"double\""
        }
       ],
       "type": "table"
      }
     },
     "output_type": "display_data"
    }
   ],
   "source": [
    "# Calculate Difference Between Dates in Months\n",
    "df8 = df_samp01.withColumn('diff_months', F.round(F.months_between(F.to_date('to_date'), F.to_date('from_date')),2))\n",
    "display(df8)"
   ]
  },
  {
   "cell_type": "code",
   "execution_count": 0,
   "metadata": {
    "application/vnd.databricks.v1+cell": {
     "cellMetadata": {
      "byteLimit": 2048000,
      "rowLimit": 10000
     },
     "inputWidgets": {},
     "nuid": "003f1f1d-17a4-47b5-a423-63b415851052",
     "showTitle": false,
     "tableResultSettingsMap": {},
     "title": ""
    }
   },
   "outputs": [
    {
     "output_type": "display_data",
     "data": {
      "text/html": [
       "<style scoped>\n",
       "  .table-result-container {\n",
       "    max-height: 300px;\n",
       "    overflow: auto;\n",
       "  }\n",
       "  table, th, td {\n",
       "    border: 1px solid black;\n",
       "    border-collapse: collapse;\n",
       "  }\n",
       "  th, td {\n",
       "    padding: 5px;\n",
       "  }\n",
       "  th {\n",
       "    text-align: left;\n",
       "  }\n",
       "</style><div class='table-result-container'><table class='table-result'><thead style='background-color: white'><tr><th>from_date</th><th>to_date</th><th>from_datetime</th><th>to_datetime</th><th>diff_years</th></tr></thead><tbody><tr><td>2019-01-11</td><td>2021-04-12</td><td>2019-09-17 12:02:21</td><td>2021-07-12 18:29:29</td><td>2.25</td></tr><tr><td>2019-08-04</td><td>2021-04-15</td><td>2018-11-11 14:17:05</td><td>2021-08-03 16:21:40</td><td>1.7</td></tr><tr><td>2019-03-24</td><td>2021-02-08</td><td>2019-02-07 04:26:49</td><td>2020-11-28 05:20:33</td><td>1.87</td></tr><tr><td>2019-04-13</td><td>2021-06-05</td><td>2019-07-08 20:04:09</td><td>2021-05-18 08:21:12</td><td>2.15</td></tr><tr><td>2019-02-22</td><td>2021-10-01</td><td>2018-11-28 05:46:54</td><td>2021-06-17 21:39:42</td><td>2.61</td></tr></tbody></table></div>"
      ]
     },
     "metadata": {
      "application/vnd.databricks.v1+output": {
       "addedWidgets": {},
       "aggData": [],
       "aggError": "",
       "aggOverflow": false,
       "aggSchema": [],
       "aggSeriesLimitReached": false,
       "aggType": "",
       "arguments": {},
       "columnCustomDisplayInfos": {},
       "data": [
        [
         "2019-01-11",
         "2021-04-12",
         "2019-09-17 12:02:21",
         "2021-07-12 18:29:29",
         2.25
        ],
        [
         "2019-08-04",
         "2021-04-15",
         "2018-11-11 14:17:05",
         "2021-08-03 16:21:40",
         1.7
        ],
        [
         "2019-03-24",
         "2021-02-08",
         "2019-02-07 04:26:49",
         "2020-11-28 05:20:33",
         1.87
        ],
        [
         "2019-04-13",
         "2021-06-05",
         "2019-07-08 20:04:09",
         "2021-05-18 08:21:12",
         2.15
        ],
        [
         "2019-02-22",
         "2021-10-01",
         "2018-11-28 05:46:54",
         "2021-06-17 21:39:42",
         2.61
        ]
       ],
       "datasetInfos": [],
       "dbfsResultPath": null,
       "isJsonSchema": true,
       "metadata": {},
       "overflow": false,
       "plotOptions": {
        "customPlotOptions": {},
        "displayType": "table",
        "pivotAggregation": null,
        "pivotColumns": null,
        "xColumns": null,
        "yColumns": null
       },
       "removedWidgets": [],
       "schema": [
        {
         "metadata": "{}",
         "name": "from_date",
         "type": "\"string\""
        },
        {
         "metadata": "{}",
         "name": "to_date",
         "type": "\"string\""
        },
        {
         "metadata": "{}",
         "name": "from_datetime",
         "type": "\"string\""
        },
        {
         "metadata": "{}",
         "name": "to_datetime",
         "type": "\"string\""
        },
        {
         "metadata": "{}",
         "name": "diff_years",
         "type": "\"double\""
        }
       ],
       "type": "table"
      }
     },
     "output_type": "display_data"
    }
   ],
   "source": [
    "# Calculate Difference Between Dates in Years\n",
    "df9 = df_samp01.withColumn('diff_years', F.round(F.months_between(F.to_date('to_date'), F.to_date('from_date'))/12,2))\n",
    "display(df9)"
   ]
  }
 ],
 "metadata": {
  "application/vnd.databricks.v1+notebook": {
   "computePreferences": null,
   "dashboards": [],
   "environmentMetadata": null,
   "language": "python",
   "notebookMetadata": {
    "mostRecentlyExecutedCommandWithImplicitDF": {
     "commandId": 3512507475907836,
     "dataframes": [
      "_sqldf"
     ]
    },
    "pythonIndentUnit": 4
   },
   "notebookName": "93_How to find Date Difference in Months using datediff() & months_between()",
   "widgets": {}
  }
 },
 "nbformat": 4,
 "nbformat_minor": 0
}
