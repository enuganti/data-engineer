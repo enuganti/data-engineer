{
 "cells": [
  {
   "cell_type": "markdown",
   "metadata": {
    "application/vnd.databricks.v1+cell": {
     "cellMetadata": {},
     "inputWidgets": {},
     "nuid": "200968f2-27c4-4f45-a194-891ea7ce6ebc",
     "showTitle": false,
     "tableResultSettingsMap": {},
     "title": ""
    }
   },
   "source": [
    "### element_at\n",
    "\n",
    "- used to **extract** specific elements from **array or map** columns within a DataFrame.\n",
    "- Works with both **ArrayType and MapType columns**."
   ]
  },
  {
   "cell_type": "markdown",
   "metadata": {
    "application/vnd.databricks.v1+cell": {
     "cellMetadata": {},
     "inputWidgets": {},
     "nuid": "0a09fdee-d2a3-4bfa-a201-85d4582aa2eb",
     "showTitle": false,
     "tableResultSettingsMap": {},
     "title": ""
    }
   },
   "source": [
    "#### 1) element_at() on an array()\n",
    "\n",
    "- For **arrays**, indexing **starts at 1**;\n",
    "  - **Positive indices** access elements from the **beginning** (e.g., **index 1** for the **first element**).\n",
    "  - If the **index is negative**, elements are accessed from the **end of the array towards the beginning**. (e.g., **index -1** for the **last element**).\n",
    "  - Using **index 0** will result in an **error**.\n",
    "- If the **index is out of array boundaries**\n",
    "  - **spark.sql.ansi.enabled** is **true**, an exception is thrown.\n",
    "  - otherwise, **NULL** is returned."
   ]
  },
  {
   "cell_type": "markdown",
   "metadata": {
    "application/vnd.databricks.v1+cell": {
     "cellMetadata": {},
     "inputWidgets": {},
     "nuid": "a502c1db-2b20-40b2-bbfc-27f8f18a8240",
     "showTitle": false,
     "tableResultSettingsMap": {},
     "title": ""
    }
   },
   "source": [
    "#### Syntax\n",
    "\n",
    "     element_at(array_col, index)"
   ]
  },
  {
   "cell_type": "code",
   "execution_count": 0,
   "metadata": {
    "application/vnd.databricks.v1+cell": {
     "cellMetadata": {
      "byteLimit": 2048000,
      "rowLimit": 10000
     },
     "inputWidgets": {},
     "nuid": "d68d0e29-9ad3-40d3-91e5-bf6a11e41b62",
     "showTitle": false,
     "tableResultSettingsMap": {
      "0": {
       "dataGridStateBlob": "{\"version\":1,\"tableState\":{\"columnPinning\":{\"left\":[\"#row_number#\"],\"right\":[]},\"columnSizing\":{\"properties\":359,\"knownLanguages\":269},\"columnVisibility\":{}},\"settings\":{\"columns\":{}},\"syncTimestamp\":1755622455951}",
       "filterBlob": null,
       "queryPlanFiltersBlob": null,
       "tableResultIndex": 0
      }
     },
     "title": ""
    }
   },
   "outputs": [
    {
     "output_type": "display_data",
     "data": {
      "text/html": [
       "<style scoped>\n",
       "  .table-result-container {\n",
       "    max-height: 300px;\n",
       "    overflow: auto;\n",
       "  }\n",
       "  table, th, td {\n",
       "    border: 1px solid black;\n",
       "    border-collapse: collapse;\n",
       "  }\n",
       "  th, td {\n",
       "    padding: 5px;\n",
       "  }\n",
       "  th {\n",
       "    text-align: left;\n",
       "  }\n",
       "</style><div class='table-result-container'><table class='table-result'><thead style='background-color: white'><tr><th>name</th><th>knownLanguages</th><th>properties</th></tr></thead><tbody><tr><td>Jay</td><td>List(Java, Scala, Python, PySpark, null)</td><td>Map(product -> bmw, color -> brown, type -> sedan)</td></tr><tr><td>Midun</td><td>List(Spark, Java, Spark SQL, SQL, null)</td><td>Map(product -> audi, color -> null, type -> truck)</td></tr><tr><td>Robert</td><td>List(CSharp, , null, VS Code)</td><td>Map(product -> volvo, color -> , type -> sedan)</td></tr><tr><td>Paul</td><td>null</td><td>null</td></tr><tr><td>Basha</td><td>List(1, 2, 3, 4, 5)</td><td>Map()</td></tr><tr><td>Gopesh</td><td>List(Python, R, SQL, Tableau)</td><td>Map(product -> tesla, color -> red, type -> electric)</td></tr><tr><td>Bobby</td><td>List(Go, Rust, C++, Docker)</td><td>Map(product -> ford, color -> blue, type -> suv)</td></tr><tr><td>Chetan</td><td>List(JavaScript, React, NodeJS, MongoDB)</td><td>Map(product -> toyota, color -> white, type -> hatchback)</td></tr><tr><td>Dravid</td><td>List(Python, Java, AWS, Spark)</td><td>Map(product -> honda, color -> black, type -> sedan)</td></tr><tr><td>Eshwar</td><td>List(C, C++, Embedded, Matlab)</td><td>Map(product -> nissan, color -> grey, type -> truck)</td></tr><tr><td>Firoz</td><td>List(Scala, Spark, Kafka)</td><td>Map(product -> mercedes, color -> silver, type -> suv)</td></tr><tr><td>Gayathri</td><td>List(Java, Spring Boot, Hibernate)</td><td>Map(product -> bmw, color -> blue, type -> coupe)</td></tr><tr><td>Hemanth</td><td>List(Python, Pandas, Numpy, ML)</td><td>Map(product -> audi, color -> green, type -> sedan)</td></tr><tr><td>Ishan</td><td>List(Ruby, Rails, Postgres)</td><td>Map(product -> volkswagen, color -> yellow, type -> hatchback)</td></tr><tr><td>Jack</td><td>List(Kotlin, Android, Firebase)</td><td>Map(product -> hyundai, color -> white, type -> suv)</td></tr></tbody></table></div>"
      ]
     },
     "metadata": {
      "application/vnd.databricks.v1+output": {
       "addedWidgets": {},
       "aggData": [],
       "aggError": "",
       "aggOverflow": false,
       "aggSchema": [],
       "aggSeriesLimitReached": false,
       "aggType": "",
       "arguments": {},
       "columnCustomDisplayInfos": {},
       "data": [
        [
         "Jay",
         [
          "Java",
          "Scala",
          "Python",
          "PySpark",
          null
         ],
         {
          "color": "brown",
          "product": "bmw",
          "type": "sedan"
         }
        ],
        [
         "Midun",
         [
          "Spark",
          "Java",
          "Spark SQL",
          "SQL",
          null
         ],
         {
          "color": null,
          "product": "audi",
          "type": "truck"
         }
        ],
        [
         "Robert",
         [
          "CSharp",
          "",
          null,
          "VS Code"
         ],
         {
          "color": "",
          "product": "volvo",
          "type": "sedan"
         }
        ],
        [
         "Paul",
         null,
         null
        ],
        [
         "Basha",
         [
          "1",
          "2",
          "3",
          "4",
          "5"
         ],
         {}
        ],
        [
         "Gopesh",
         [
          "Python",
          "R",
          "SQL",
          "Tableau"
         ],
         {
          "color": "red",
          "product": "tesla",
          "type": "electric"
         }
        ],
        [
         "Bobby",
         [
          "Go",
          "Rust",
          "C++",
          "Docker"
         ],
         {
          "color": "blue",
          "product": "ford",
          "type": "suv"
         }
        ],
        [
         "Chetan",
         [
          "JavaScript",
          "React",
          "NodeJS",
          "MongoDB"
         ],
         {
          "color": "white",
          "product": "toyota",
          "type": "hatchback"
         }
        ],
        [
         "Dravid",
         [
          "Python",
          "Java",
          "AWS",
          "Spark"
         ],
         {
          "color": "black",
          "product": "honda",
          "type": "sedan"
         }
        ],
        [
         "Eshwar",
         [
          "C",
          "C++",
          "Embedded",
          "Matlab"
         ],
         {
          "color": "grey",
          "product": "nissan",
          "type": "truck"
         }
        ],
        [
         "Firoz",
         [
          "Scala",
          "Spark",
          "Kafka"
         ],
         {
          "color": "silver",
          "product": "mercedes",
          "type": "suv"
         }
        ],
        [
         "Gayathri",
         [
          "Java",
          "Spring Boot",
          "Hibernate"
         ],
         {
          "color": "blue",
          "product": "bmw",
          "type": "coupe"
         }
        ],
        [
         "Hemanth",
         [
          "Python",
          "Pandas",
          "Numpy",
          "ML"
         ],
         {
          "color": "green",
          "product": "audi",
          "type": "sedan"
         }
        ],
        [
         "Ishan",
         [
          "Ruby",
          "Rails",
          "Postgres"
         ],
         {
          "color": "yellow",
          "product": "volkswagen",
          "type": "hatchback"
         }
        ],
        [
         "Jack",
         [
          "Kotlin",
          "Android",
          "Firebase"
         ],
         {
          "color": "white",
          "product": "hyundai",
          "type": "suv"
         }
        ]
       ],
       "datasetInfos": [],
       "dbfsResultPath": null,
       "isJsonSchema": true,
       "metadata": {},
       "overflow": false,
       "plotOptions": {
        "customPlotOptions": {},
        "displayType": "table",
        "pivotAggregation": null,
        "pivotColumns": null,
        "xColumns": null,
        "yColumns": null
       },
       "removedWidgets": [],
       "schema": [
        {
         "metadata": "{}",
         "name": "name",
         "type": "\"string\""
        },
        {
         "metadata": "{}",
         "name": "knownLanguages",
         "type": "{\"containsNull\":true,\"elementType\":\"string\",\"type\":\"array\"}"
        },
        {
         "metadata": "{}",
         "name": "properties",
         "type": "{\"keyType\":\"string\",\"type\":\"map\",\"valueContainsNull\":true,\"valueType\":\"string\"}"
        }
       ],
       "type": "table"
      }
     },
     "output_type": "display_data"
    }
   ],
   "source": [
    "from pyspark.sql.functions import element_at\n",
    "\n",
    "data = [('Jay', ['Java','Scala','Python','PySpark',None], {'product':'bmw', 'color':'brown', 'type':'sedan'}),\n",
    "        ('Midun', ['Spark','Java','Spark SQL','SQL',None], {'product':'audi', 'color':None, 'type':'truck'}),\n",
    "        ('Robert', ['CSharp','',None,'VS Code'], {'product':'volvo', 'color':'', 'type':'sedan'}),\n",
    "        ('Paul', None, None),\n",
    "        ('Basha', ['1','2','3','4','5'], {}),\n",
    "        ('Gopesh', ['Python','R','SQL','Tableau'], {'product':'tesla', 'color':'red', 'type':'electric'}),\n",
    "        ('Bobby', ['Go','Rust','C++','Docker'], {'product':'ford', 'color':'blue', 'type':'suv'}),\n",
    "        ('Chetan', ['JavaScript','React','NodeJS','MongoDB'], {'product':'toyota', 'color':'white', 'type':'hatchback'}),\n",
    "        ('Dravid', ['Python','Java','AWS','Spark'], {'product':'honda', 'color':'black', 'type':'sedan'}),\n",
    "        ('Eshwar', ['C','C++','Embedded','Matlab'], {'product':'nissan', 'color':'grey', 'type':'truck'}),\n",
    "        ('Firoz', ['Scala','Spark','Kafka'], {'product':'mercedes', 'color':'silver', 'type':'suv'}),\n",
    "        ('Gayathri', ['Java','Spring Boot','Hibernate'], {'product':'bmw', 'color':'blue', 'type':'coupe'}),\n",
    "        ('Hemanth', ['Python','Pandas','Numpy','ML'], {'product':'audi', 'color':'green', 'type':'sedan'}),\n",
    "        ('Ishan', ['Ruby','Rails','Postgres'], {'product':'volkswagen', 'color':'yellow', 'type':'hatchback'}),\n",
    "        ('Jack', ['Kotlin','Android','Firebase'], {'product':'hyundai', 'color':'white', 'type':'suv'})\n",
    "       ]\n",
    "\n",
    "columns = ['name','knownLanguages','properties']\n",
    "\n",
    "df_array = spark.createDataFrame(data, columns)\n",
    "display(df_array)"
   ]
  },
  {
   "cell_type": "code",
   "execution_count": 0,
   "metadata": {
    "application/vnd.databricks.v1+cell": {
     "cellMetadata": {
      "byteLimit": 2048000,
      "rowLimit": 10000
     },
     "inputWidgets": {},
     "nuid": "16fcebe1-2272-4ec3-9507-8246f28dfff1",
     "showTitle": false,
     "tableResultSettingsMap": {
      "0": {
       "dataGridStateBlob": "{\"version\":1,\"tableState\":{\"columnPinning\":{\"left\":[\"#row_number#\"],\"right\":[]},\"columnSizing\":{},\"columnVisibility\":{}},\"settings\":{\"columns\":{}},\"syncTimestamp\":1755448989715}",
       "filterBlob": null,
       "queryPlanFiltersBlob": null,
       "tableResultIndex": 0
      }
     },
     "title": ""
    }
   },
   "outputs": [
    {
     "output_type": "display_data",
     "data": {
      "text/html": [
       "<style scoped>\n",
       "  .table-result-container {\n",
       "    max-height: 300px;\n",
       "    overflow: auto;\n",
       "  }\n",
       "  table, th, td {\n",
       "    border: 1px solid black;\n",
       "    border-collapse: collapse;\n",
       "  }\n",
       "  th, td {\n",
       "    padding: 5px;\n",
       "  }\n",
       "  th {\n",
       "    text-align: left;\n",
       "  }\n",
       "</style><div class='table-result-container'><table class='table-result'><thead style='background-color: white'><tr><th>name</th><th>first_element</th><th>second_element</th><th>third_element</th><th>last_element</th></tr></thead><tbody><tr><td>Jay</td><td>Java</td><td>Scala</td><td>Python</td><td>null</td></tr><tr><td>Midun</td><td>Spark</td><td>Java</td><td>Spark SQL</td><td>null</td></tr><tr><td>Robert</td><td>CSharp</td><td></td><td>null</td><td>VS Code</td></tr><tr><td>Paul</td><td>null</td><td>null</td><td>null</td><td>null</td></tr><tr><td>Basha</td><td>1</td><td>2</td><td>3</td><td>5</td></tr><tr><td>Gopesh</td><td>Python</td><td>R</td><td>SQL</td><td>Tableau</td></tr><tr><td>Bobby</td><td>Go</td><td>Rust</td><td>C++</td><td>Docker</td></tr><tr><td>Chetan</td><td>JavaScript</td><td>React</td><td>NodeJS</td><td>MongoDB</td></tr><tr><td>Dravid</td><td>Python</td><td>Java</td><td>AWS</td><td>Spark</td></tr><tr><td>Eshwar</td><td>C</td><td>C++</td><td>Embedded</td><td>Matlab</td></tr><tr><td>Firoz</td><td>Scala</td><td>Spark</td><td>Kafka</td><td>Kafka</td></tr><tr><td>Gayathri</td><td>Java</td><td>Spring Boot</td><td>Hibernate</td><td>Hibernate</td></tr><tr><td>Hemanth</td><td>Python</td><td>Pandas</td><td>Numpy</td><td>ML</td></tr><tr><td>Ishan</td><td>Ruby</td><td>Rails</td><td>Postgres</td><td>Postgres</td></tr><tr><td>Jack</td><td>Kotlin</td><td>Android</td><td>Firebase</td><td>Firebase</td></tr></tbody></table></div>"
      ]
     },
     "metadata": {
      "application/vnd.databricks.v1+output": {
       "addedWidgets": {},
       "aggData": [],
       "aggError": "",
       "aggOverflow": false,
       "aggSchema": [],
       "aggSeriesLimitReached": false,
       "aggType": "",
       "arguments": {},
       "columnCustomDisplayInfos": {},
       "data": [
        [
         "Jay",
         "Java",
         "Scala",
         "Python",
         null
        ],
        [
         "Midun",
         "Spark",
         "Java",
         "Spark SQL",
         null
        ],
        [
         "Robert",
         "CSharp",
         "",
         null,
         "VS Code"
        ],
        [
         "Paul",
         null,
         null,
         null,
         null
        ],
        [
         "Basha",
         "1",
         "2",
         "3",
         "5"
        ],
        [
         "Gopesh",
         "Python",
         "R",
         "SQL",
         "Tableau"
        ],
        [
         "Bobby",
         "Go",
         "Rust",
         "C++",
         "Docker"
        ],
        [
         "Chetan",
         "JavaScript",
         "React",
         "NodeJS",
         "MongoDB"
        ],
        [
         "Dravid",
         "Python",
         "Java",
         "AWS",
         "Spark"
        ],
        [
         "Eshwar",
         "C",
         "C++",
         "Embedded",
         "Matlab"
        ],
        [
         "Firoz",
         "Scala",
         "Spark",
         "Kafka",
         "Kafka"
        ],
        [
         "Gayathri",
         "Java",
         "Spring Boot",
         "Hibernate",
         "Hibernate"
        ],
        [
         "Hemanth",
         "Python",
         "Pandas",
         "Numpy",
         "ML"
        ],
        [
         "Ishan",
         "Ruby",
         "Rails",
         "Postgres",
         "Postgres"
        ],
        [
         "Jack",
         "Kotlin",
         "Android",
         "Firebase",
         "Firebase"
        ]
       ],
       "datasetInfos": [],
       "dbfsResultPath": null,
       "isJsonSchema": true,
       "metadata": {},
       "overflow": false,
       "plotOptions": {
        "customPlotOptions": {},
        "displayType": "table",
        "pivotAggregation": null,
        "pivotColumns": null,
        "xColumns": null,
        "yColumns": null
       },
       "removedWidgets": [],
       "schema": [
        {
         "metadata": "{}",
         "name": "name",
         "type": "\"string\""
        },
        {
         "metadata": "{}",
         "name": "first_element",
         "type": "\"string\""
        },
        {
         "metadata": "{}",
         "name": "second_element",
         "type": "\"string\""
        },
        {
         "metadata": "{}",
         "name": "third_element",
         "type": "\"string\""
        },
        {
         "metadata": "{}",
         "name": "last_element",
         "type": "\"string\""
        }
       ],
       "type": "table"
      }
     },
     "output_type": "display_data"
    }
   ],
   "source": [
    "df_array.select(\n",
    "    \"name\",\n",
    "    element_at(\"knownLanguages\", 1).alias(\"first_element\"),\n",
    "    element_at(\"knownLanguages\", 2).alias(\"second_element\"),\n",
    "    element_at(\"knownLanguages\", 3).alias(\"third_element\"),\n",
    "    element_at(\"knownLanguages\", -1).alias(\"last_element\")\n",
    ").display()"
   ]
  },
  {
   "cell_type": "markdown",
   "metadata": {
    "application/vnd.databricks.v1+cell": {
     "cellMetadata": {},
     "inputWidgets": {},
     "nuid": "10c8c17c-ea3a-4e7e-9829-fdc8eef25cb8",
     "showTitle": false,
     "tableResultSettingsMap": {},
     "title": ""
    }
   },
   "source": [
    "##### Get Element At\n",
    "- **element_at()** also works with **dynamic indexes or keys** passed as column **expressions or literal values**.\n",
    "- For example, you can use **lit(-1)** to **dynamically retrieve** the **last element** of an **array**."
   ]
  },
  {
   "cell_type": "code",
   "execution_count": 0,
   "metadata": {
    "application/vnd.databricks.v1+cell": {
     "cellMetadata": {
      "byteLimit": 2048000,
      "rowLimit": 10000
     },
     "inputWidgets": {},
     "nuid": "0567f89b-158d-4534-8007-f9e0bfa3b1a3",
     "showTitle": false,
     "tableResultSettingsMap": {},
     "title": ""
    }
   },
   "outputs": [
    {
     "output_type": "display_data",
     "data": {
      "text/html": [
       "<style scoped>\n",
       "  .table-result-container {\n",
       "    max-height: 300px;\n",
       "    overflow: auto;\n",
       "  }\n",
       "  table, th, td {\n",
       "    border: 1px solid black;\n",
       "    border-collapse: collapse;\n",
       "  }\n",
       "  th, td {\n",
       "    padding: 5px;\n",
       "  }\n",
       "  th {\n",
       "    text-align: left;\n",
       "  }\n",
       "</style><div class='table-result-container'><table class='table-result'><thead style='background-color: white'><tr><th>knownLanguages</th><th>first_element</th><th>second_element</th><th>last_element</th></tr></thead><tbody><tr><td>List(Java, Scala, Python, PySpark, null)</td><td>Java</td><td>Scala</td><td>null</td></tr><tr><td>List(Spark, Java, Spark SQL, SQL, null)</td><td>Spark</td><td>Java</td><td>null</td></tr><tr><td>List(CSharp, , null, VS Code)</td><td>CSharp</td><td></td><td>VS Code</td></tr><tr><td>null</td><td>null</td><td>null</td><td>null</td></tr><tr><td>List(1, 2, 3, 4, 5)</td><td>1</td><td>2</td><td>5</td></tr><tr><td>List(Python, R, SQL, Tableau)</td><td>Python</td><td>R</td><td>Tableau</td></tr><tr><td>List(Go, Rust, C++, Docker)</td><td>Go</td><td>Rust</td><td>Docker</td></tr><tr><td>List(JavaScript, React, NodeJS, MongoDB)</td><td>JavaScript</td><td>React</td><td>MongoDB</td></tr><tr><td>List(Python, Java, AWS, Spark)</td><td>Python</td><td>Java</td><td>Spark</td></tr><tr><td>List(C, C++, Embedded, Matlab)</td><td>C</td><td>C++</td><td>Matlab</td></tr><tr><td>List(Scala, Spark, Kafka)</td><td>Scala</td><td>Spark</td><td>Kafka</td></tr><tr><td>List(Java, Spring Boot, Hibernate)</td><td>Java</td><td>Spring Boot</td><td>Hibernate</td></tr><tr><td>List(Python, Pandas, Numpy, ML)</td><td>Python</td><td>Pandas</td><td>ML</td></tr><tr><td>List(Ruby, Rails, Postgres)</td><td>Ruby</td><td>Rails</td><td>Postgres</td></tr><tr><td>List(Kotlin, Android, Firebase)</td><td>Kotlin</td><td>Android</td><td>Firebase</td></tr></tbody></table></div>"
      ]
     },
     "metadata": {
      "application/vnd.databricks.v1+output": {
       "addedWidgets": {},
       "aggData": [],
       "aggError": "",
       "aggOverflow": false,
       "aggSchema": [],
       "aggSeriesLimitReached": false,
       "aggType": "",
       "arguments": {},
       "columnCustomDisplayInfos": {},
       "data": [
        [
         [
          "Java",
          "Scala",
          "Python",
          "PySpark",
          null
         ],
         "Java",
         "Scala",
         null
        ],
        [
         [
          "Spark",
          "Java",
          "Spark SQL",
          "SQL",
          null
         ],
         "Spark",
         "Java",
         null
        ],
        [
         [
          "CSharp",
          "",
          null,
          "VS Code"
         ],
         "CSharp",
         "",
         "VS Code"
        ],
        [
         null,
         null,
         null,
         null
        ],
        [
         [
          "1",
          "2",
          "3",
          "4",
          "5"
         ],
         "1",
         "2",
         "5"
        ],
        [
         [
          "Python",
          "R",
          "SQL",
          "Tableau"
         ],
         "Python",
         "R",
         "Tableau"
        ],
        [
         [
          "Go",
          "Rust",
          "C++",
          "Docker"
         ],
         "Go",
         "Rust",
         "Docker"
        ],
        [
         [
          "JavaScript",
          "React",
          "NodeJS",
          "MongoDB"
         ],
         "JavaScript",
         "React",
         "MongoDB"
        ],
        [
         [
          "Python",
          "Java",
          "AWS",
          "Spark"
         ],
         "Python",
         "Java",
         "Spark"
        ],
        [
         [
          "C",
          "C++",
          "Embedded",
          "Matlab"
         ],
         "C",
         "C++",
         "Matlab"
        ],
        [
         [
          "Scala",
          "Spark",
          "Kafka"
         ],
         "Scala",
         "Spark",
         "Kafka"
        ],
        [
         [
          "Java",
          "Spring Boot",
          "Hibernate"
         ],
         "Java",
         "Spring Boot",
         "Hibernate"
        ],
        [
         [
          "Python",
          "Pandas",
          "Numpy",
          "ML"
         ],
         "Python",
         "Pandas",
         "ML"
        ],
        [
         [
          "Ruby",
          "Rails",
          "Postgres"
         ],
         "Ruby",
         "Rails",
         "Postgres"
        ],
        [
         [
          "Kotlin",
          "Android",
          "Firebase"
         ],
         "Kotlin",
         "Android",
         "Firebase"
        ]
       ],
       "datasetInfos": [],
       "dbfsResultPath": null,
       "isJsonSchema": true,
       "metadata": {},
       "overflow": false,
       "plotOptions": {
        "customPlotOptions": {},
        "displayType": "table",
        "pivotAggregation": null,
        "pivotColumns": null,
        "xColumns": null,
        "yColumns": null
       },
       "removedWidgets": [],
       "schema": [
        {
         "metadata": "{}",
         "name": "knownLanguages",
         "type": "{\"containsNull\":true,\"elementType\":\"string\",\"type\":\"array\"}"
        },
        {
         "metadata": "{}",
         "name": "first_element",
         "type": "\"string\""
        },
        {
         "metadata": "{}",
         "name": "second_element",
         "type": "\"string\""
        },
        {
         "metadata": "{}",
         "name": "last_element",
         "type": "\"string\""
        }
       ],
       "type": "table"
      }
     },
     "output_type": "display_data"
    }
   ],
   "source": [
    "# Retrieve the last element of an array using lit() \n",
    "from pyspark.sql.functions import lit\n",
    "\n",
    "df_array.select(\"knownLanguages\",\n",
    "                element_at(\"knownLanguages\", lit(1)).alias(\"first_element\"),\n",
    "                element_at(\"knownLanguages\", lit(2)).alias(\"second_element\"),\n",
    "                element_at(\"knownLanguages\", lit(-1)).alias(\"last_element\")\n",
    "                ).display()"
   ]
  },
  {
   "cell_type": "markdown",
   "metadata": {
    "application/vnd.databricks.v1+cell": {
     "cellMetadata": {},
     "inputWidgets": {},
     "nuid": "0129efc5-1388-4bbe-a1ec-aa60e71fd945",
     "showTitle": false,
     "tableResultSettingsMap": {},
     "title": ""
    }
   },
   "source": [
    "#### 2) element_at() on an map\n",
    "\n",
    "- It returns the value associated with a given key.\n",
    "- If the **key** is **not found** in the **map**, it returns **NULL**."
   ]
  },
  {
   "cell_type": "markdown",
   "metadata": {
    "application/vnd.databricks.v1+cell": {
     "cellMetadata": {},
     "inputWidgets": {},
     "nuid": "d77df35a-bb2f-4d70-a299-e7e4583090bf",
     "showTitle": false,
     "tableResultSettingsMap": {},
     "title": ""
    }
   },
   "source": [
    "#### Syntax\n",
    "\n",
    "     element_at(map_col, key)\n",
    "- Returns the **value** for the given key."
   ]
  },
  {
   "cell_type": "code",
   "execution_count": 0,
   "metadata": {
    "application/vnd.databricks.v1+cell": {
     "cellMetadata": {
      "byteLimit": 2048000,
      "rowLimit": 10000
     },
     "inputWidgets": {},
     "nuid": "ac483b54-6c61-4a4c-aa74-19861c791e88",
     "showTitle": true,
     "tableResultSettingsMap": {
      "0": {
       "dataGridStateBlob": "{\"version\":1,\"tableState\":{\"columnPinning\":{\"left\":[\"#row_number#\"],\"right\":[]},\"columnSizing\":{},\"columnVisibility\":{}},\"settings\":{\"columns\":{}},\"syncTimestamp\":1755450820760}",
       "filterBlob": null,
       "queryPlanFiltersBlob": null,
       "tableResultIndex": 0
      }
     },
     "title": "Method 01"
    }
   },
   "outputs": [
    {
     "output_type": "display_data",
     "data": {
      "text/html": [
       "<style scoped>\n",
       "  .table-result-container {\n",
       "    max-height: 300px;\n",
       "    overflow: auto;\n",
       "  }\n",
       "  table, th, td {\n",
       "    border: 1px solid black;\n",
       "    border-collapse: collapse;\n",
       "  }\n",
       "  th, td {\n",
       "    padding: 5px;\n",
       "  }\n",
       "  th {\n",
       "    text-align: left;\n",
       "  }\n",
       "</style><div class='table-result-container'><table class='table-result'><thead style='background-color: white'><tr><th>properties</th><th>Product</th><th>Color</th><th>Type</th></tr></thead><tbody><tr><td>Map(product -> bmw, color -> brown, type -> sedan)</td><td>bmw</td><td>brown</td><td>sedan</td></tr><tr><td>Map(product -> audi, color -> null, type -> truck)</td><td>audi</td><td>null</td><td>truck</td></tr><tr><td>Map(product -> volvo, color -> , type -> sedan)</td><td>volvo</td><td></td><td>sedan</td></tr><tr><td>null</td><td>null</td><td>null</td><td>null</td></tr><tr><td>Map()</td><td>null</td><td>null</td><td>null</td></tr><tr><td>Map(product -> tesla, color -> red, type -> electric)</td><td>tesla</td><td>red</td><td>electric</td></tr><tr><td>Map(product -> ford, color -> blue, type -> suv)</td><td>ford</td><td>blue</td><td>suv</td></tr><tr><td>Map(product -> toyota, color -> white, type -> hatchback)</td><td>toyota</td><td>white</td><td>hatchback</td></tr><tr><td>Map(product -> honda, color -> black, type -> sedan)</td><td>honda</td><td>black</td><td>sedan</td></tr><tr><td>Map(product -> nissan, color -> grey, type -> truck)</td><td>nissan</td><td>grey</td><td>truck</td></tr><tr><td>Map(product -> mercedes, color -> silver, type -> suv)</td><td>mercedes</td><td>silver</td><td>suv</td></tr><tr><td>Map(product -> bmw, color -> blue, type -> coupe)</td><td>bmw</td><td>blue</td><td>coupe</td></tr><tr><td>Map(product -> audi, color -> green, type -> sedan)</td><td>audi</td><td>green</td><td>sedan</td></tr><tr><td>Map(product -> volkswagen, color -> yellow, type -> hatchback)</td><td>volkswagen</td><td>yellow</td><td>hatchback</td></tr><tr><td>Map(product -> hyundai, color -> white, type -> suv)</td><td>hyundai</td><td>white</td><td>suv</td></tr></tbody></table></div>"
      ]
     },
     "metadata": {
      "application/vnd.databricks.v1+output": {
       "addedWidgets": {},
       "aggData": [],
       "aggError": "",
       "aggOverflow": false,
       "aggSchema": [],
       "aggSeriesLimitReached": false,
       "aggType": "",
       "arguments": {},
       "columnCustomDisplayInfos": {},
       "data": [
        [
         {
          "color": "brown",
          "product": "bmw",
          "type": "sedan"
         },
         "bmw",
         "brown",
         "sedan"
        ],
        [
         {
          "color": null,
          "product": "audi",
          "type": "truck"
         },
         "audi",
         null,
         "truck"
        ],
        [
         {
          "color": "",
          "product": "volvo",
          "type": "sedan"
         },
         "volvo",
         "",
         "sedan"
        ],
        [
         null,
         null,
         null,
         null
        ],
        [
         {},
         null,
         null,
         null
        ],
        [
         {
          "color": "red",
          "product": "tesla",
          "type": "electric"
         },
         "tesla",
         "red",
         "electric"
        ],
        [
         {
          "color": "blue",
          "product": "ford",
          "type": "suv"
         },
         "ford",
         "blue",
         "suv"
        ],
        [
         {
          "color": "white",
          "product": "toyota",
          "type": "hatchback"
         },
         "toyota",
         "white",
         "hatchback"
        ],
        [
         {
          "color": "black",
          "product": "honda",
          "type": "sedan"
         },
         "honda",
         "black",
         "sedan"
        ],
        [
         {
          "color": "grey",
          "product": "nissan",
          "type": "truck"
         },
         "nissan",
         "grey",
         "truck"
        ],
        [
         {
          "color": "silver",
          "product": "mercedes",
          "type": "suv"
         },
         "mercedes",
         "silver",
         "suv"
        ],
        [
         {
          "color": "blue",
          "product": "bmw",
          "type": "coupe"
         },
         "bmw",
         "blue",
         "coupe"
        ],
        [
         {
          "color": "green",
          "product": "audi",
          "type": "sedan"
         },
         "audi",
         "green",
         "sedan"
        ],
        [
         {
          "color": "yellow",
          "product": "volkswagen",
          "type": "hatchback"
         },
         "volkswagen",
         "yellow",
         "hatchback"
        ],
        [
         {
          "color": "white",
          "product": "hyundai",
          "type": "suv"
         },
         "hyundai",
         "white",
         "suv"
        ]
       ],
       "datasetInfos": [],
       "dbfsResultPath": null,
       "isJsonSchema": true,
       "metadata": {},
       "overflow": false,
       "plotOptions": {
        "customPlotOptions": {},
        "displayType": "table",
        "pivotAggregation": null,
        "pivotColumns": null,
        "xColumns": null,
        "yColumns": null
       },
       "removedWidgets": [],
       "schema": [
        {
         "metadata": "{}",
         "name": "properties",
         "type": "{\"keyType\":\"string\",\"type\":\"map\",\"valueContainsNull\":true,\"valueType\":\"string\"}"
        },
        {
         "metadata": "{}",
         "name": "Product",
         "type": "\"string\""
        },
        {
         "metadata": "{}",
         "name": "Color",
         "type": "\"string\""
        },
        {
         "metadata": "{}",
         "name": "Type",
         "type": "\"string\""
        }
       ],
       "type": "table"
      }
     },
     "output_type": "display_data"
    }
   ],
   "source": [
    "df_array.select(\n",
    "    \"properties\",\n",
    "    element_at(\"properties\", \"product\").alias(\"Product\"),\n",
    "    element_at(\"properties\", \"color\").alias(\"Color\"),\n",
    "    element_at(\"properties\", \"type\").alias(\"Type\")\n",
    ").display()"
   ]
  },
  {
   "cell_type": "code",
   "execution_count": 0,
   "metadata": {
    "application/vnd.databricks.v1+cell": {
     "cellMetadata": {
      "byteLimit": 2048000,
      "rowLimit": 10000
     },
     "inputWidgets": {},
     "nuid": "7a100235-f8f9-4d66-9230-c4600dbc3fc5",
     "showTitle": true,
     "tableResultSettingsMap": {},
     "title": "Method 02"
    }
   },
   "outputs": [
    {
     "output_type": "display_data",
     "data": {
      "text/html": [
       "<style scoped>\n",
       "  .table-result-container {\n",
       "    max-height: 300px;\n",
       "    overflow: auto;\n",
       "  }\n",
       "  table, th, td {\n",
       "    border: 1px solid black;\n",
       "    border-collapse: collapse;\n",
       "  }\n",
       "  th, td {\n",
       "    padding: 5px;\n",
       "  }\n",
       "  th {\n",
       "    text-align: left;\n",
       "  }\n",
       "</style><div class='table-result-container'><table class='table-result'><thead style='background-color: white'><tr><th>properties</th><th>Product</th><th>Color</th><th>Type</th><th>height</th></tr></thead><tbody><tr><td>Map(product -> bmw, color -> brown, type -> sedan)</td><td>bmw</td><td>brown</td><td>sedan</td><td>null</td></tr><tr><td>Map(product -> audi, color -> null, type -> truck)</td><td>audi</td><td>null</td><td>truck</td><td>null</td></tr><tr><td>Map(product -> volvo, color -> , type -> sedan)</td><td>volvo</td><td></td><td>sedan</td><td>null</td></tr><tr><td>null</td><td>null</td><td>null</td><td>null</td><td>null</td></tr><tr><td>Map()</td><td>null</td><td>null</td><td>null</td><td>null</td></tr><tr><td>Map(product -> tesla, color -> red, type -> electric)</td><td>tesla</td><td>red</td><td>electric</td><td>null</td></tr><tr><td>Map(product -> ford, color -> blue, type -> suv)</td><td>ford</td><td>blue</td><td>suv</td><td>null</td></tr><tr><td>Map(product -> toyota, color -> white, type -> hatchback)</td><td>toyota</td><td>white</td><td>hatchback</td><td>null</td></tr><tr><td>Map(product -> honda, color -> black, type -> sedan)</td><td>honda</td><td>black</td><td>sedan</td><td>null</td></tr><tr><td>Map(product -> nissan, color -> grey, type -> truck)</td><td>nissan</td><td>grey</td><td>truck</td><td>null</td></tr><tr><td>Map(product -> mercedes, color -> silver, type -> suv)</td><td>mercedes</td><td>silver</td><td>suv</td><td>null</td></tr><tr><td>Map(product -> bmw, color -> blue, type -> coupe)</td><td>bmw</td><td>blue</td><td>coupe</td><td>null</td></tr><tr><td>Map(product -> audi, color -> green, type -> sedan)</td><td>audi</td><td>green</td><td>sedan</td><td>null</td></tr><tr><td>Map(product -> volkswagen, color -> yellow, type -> hatchback)</td><td>volkswagen</td><td>yellow</td><td>hatchback</td><td>null</td></tr><tr><td>Map(product -> hyundai, color -> white, type -> suv)</td><td>hyundai</td><td>white</td><td>suv</td><td>null</td></tr></tbody></table></div>"
      ]
     },
     "metadata": {
      "application/vnd.databricks.v1+output": {
       "addedWidgets": {},
       "aggData": [],
       "aggError": "",
       "aggOverflow": false,
       "aggSchema": [],
       "aggSeriesLimitReached": false,
       "aggType": "",
       "arguments": {},
       "columnCustomDisplayInfos": {},
       "data": [
        [
         {
          "color": "brown",
          "product": "bmw",
          "type": "sedan"
         },
         "bmw",
         "brown",
         "sedan",
         null
        ],
        [
         {
          "color": null,
          "product": "audi",
          "type": "truck"
         },
         "audi",
         null,
         "truck",
         null
        ],
        [
         {
          "color": "",
          "product": "volvo",
          "type": "sedan"
         },
         "volvo",
         "",
         "sedan",
         null
        ],
        [
         null,
         null,
         null,
         null,
         null
        ],
        [
         {},
         null,
         null,
         null,
         null
        ],
        [
         {
          "color": "red",
          "product": "tesla",
          "type": "electric"
         },
         "tesla",
         "red",
         "electric",
         null
        ],
        [
         {
          "color": "blue",
          "product": "ford",
          "type": "suv"
         },
         "ford",
         "blue",
         "suv",
         null
        ],
        [
         {
          "color": "white",
          "product": "toyota",
          "type": "hatchback"
         },
         "toyota",
         "white",
         "hatchback",
         null
        ],
        [
         {
          "color": "black",
          "product": "honda",
          "type": "sedan"
         },
         "honda",
         "black",
         "sedan",
         null
        ],
        [
         {
          "color": "grey",
          "product": "nissan",
          "type": "truck"
         },
         "nissan",
         "grey",
         "truck",
         null
        ],
        [
         {
          "color": "silver",
          "product": "mercedes",
          "type": "suv"
         },
         "mercedes",
         "silver",
         "suv",
         null
        ],
        [
         {
          "color": "blue",
          "product": "bmw",
          "type": "coupe"
         },
         "bmw",
         "blue",
         "coupe",
         null
        ],
        [
         {
          "color": "green",
          "product": "audi",
          "type": "sedan"
         },
         "audi",
         "green",
         "sedan",
         null
        ],
        [
         {
          "color": "yellow",
          "product": "volkswagen",
          "type": "hatchback"
         },
         "volkswagen",
         "yellow",
         "hatchback",
         null
        ],
        [
         {
          "color": "white",
          "product": "hyundai",
          "type": "suv"
         },
         "hyundai",
         "white",
         "suv",
         null
        ]
       ],
       "datasetInfos": [],
       "dbfsResultPath": null,
       "isJsonSchema": true,
       "metadata": {},
       "overflow": false,
       "plotOptions": {
        "customPlotOptions": {},
        "displayType": "table",
        "pivotAggregation": null,
        "pivotColumns": null,
        "xColumns": null,
        "yColumns": null
       },
       "removedWidgets": [],
       "schema": [
        {
         "metadata": "{}",
         "name": "properties",
         "type": "{\"keyType\":\"string\",\"type\":\"map\",\"valueContainsNull\":true,\"valueType\":\"string\"}"
        },
        {
         "metadata": "{}",
         "name": "Product",
         "type": "\"string\""
        },
        {
         "metadata": "{}",
         "name": "Color",
         "type": "\"string\""
        },
        {
         "metadata": "{}",
         "name": "Type",
         "type": "\"string\""
        },
        {
         "metadata": "{}",
         "name": "height",
         "type": "\"string\""
        }
       ],
       "type": "table"
      }
     },
     "output_type": "display_data"
    }
   ],
   "source": [
    "df_array.select(\n",
    "    \"properties\",\n",
    "    element_at(\"properties\", lit(\"product\")).alias(\"Product\"),\n",
    "    element_at(\"properties\", lit(\"color\")).alias(\"Color\"),\n",
    "    element_at(\"properties\", lit(\"type\")).alias(\"Type\"),\n",
    "    element_at(\"properties\", lit(\"height\")).alias(\"height\")\n",
    ").display()"
   ]
  },
  {
   "cell_type": "markdown",
   "metadata": {
    "application/vnd.databricks.v1+cell": {
     "cellMetadata": {},
     "inputWidgets": {},
     "nuid": "da472d88-6b36-473d-8a59-3d5dfbb5ffc6",
     "showTitle": false,
     "tableResultSettingsMap": {},
     "title": ""
    }
   },
   "source": [
    "**Get a Non-Existing Value from a Map using a Key**\n",
    "- If you want to retrieve a value for a key that **doesn’t exist** in the **map**, element_at() function will return **NULL** instead of throwing an **error**."
   ]
  },
  {
   "cell_type": "code",
   "execution_count": 0,
   "metadata": {
    "application/vnd.databricks.v1+cell": {
     "cellMetadata": {
      "byteLimit": 2048000,
      "rowLimit": 10000
     },
     "inputWidgets": {},
     "nuid": "178b3dac-45c5-49af-a356-99b1b47bf69b",
     "showTitle": false,
     "tableResultSettingsMap": {
      "0": {
       "dataGridStateBlob": "{\"version\":1,\"tableState\":{\"columnPinning\":{\"left\":[\"#row_number#\"],\"right\":[]},\"columnSizing\":{},\"columnVisibility\":{}},\"settings\":{\"columns\":{}},\"syncTimestamp\":1755622946986}",
       "filterBlob": null,
       "queryPlanFiltersBlob": null,
       "tableResultIndex": 0
      }
     },
     "title": ""
    }
   },
   "outputs": [
    {
     "output_type": "display_data",
     "data": {
      "text/html": [
       "<style scoped>\n",
       "  .table-result-container {\n",
       "    max-height: 300px;\n",
       "    overflow: auto;\n",
       "  }\n",
       "  table, th, td {\n",
       "    border: 1px solid black;\n",
       "    border-collapse: collapse;\n",
       "  }\n",
       "  th, td {\n",
       "    padding: 5px;\n",
       "  }\n",
       "  th {\n",
       "    text-align: left;\n",
       "  }\n",
       "</style><div class='table-result-container'><table class='table-result'><thead style='background-color: white'><tr><th>properties</th><th>Non_Existing</th></tr></thead><tbody><tr><td>Map(product -> bmw, color -> brown, type -> sedan)</td><td>null</td></tr><tr><td>Map(product -> audi, color -> null, type -> truck)</td><td>null</td></tr><tr><td>Map(product -> volvo, color -> , type -> sedan)</td><td>null</td></tr><tr><td>null</td><td>null</td></tr><tr><td>Map()</td><td>null</td></tr><tr><td>Map(product -> tesla, color -> red, type -> electric)</td><td>null</td></tr><tr><td>Map(product -> ford, color -> blue, type -> suv)</td><td>null</td></tr><tr><td>Map(product -> toyota, color -> white, type -> hatchback)</td><td>null</td></tr><tr><td>Map(product -> honda, color -> black, type -> sedan)</td><td>null</td></tr><tr><td>Map(product -> nissan, color -> grey, type -> truck)</td><td>null</td></tr><tr><td>Map(product -> mercedes, color -> silver, type -> suv)</td><td>null</td></tr><tr><td>Map(product -> bmw, color -> blue, type -> coupe)</td><td>null</td></tr><tr><td>Map(product -> audi, color -> green, type -> sedan)</td><td>null</td></tr><tr><td>Map(product -> volkswagen, color -> yellow, type -> hatchback)</td><td>null</td></tr><tr><td>Map(product -> hyundai, color -> white, type -> suv)</td><td>null</td></tr></tbody></table></div>"
      ]
     },
     "metadata": {
      "application/vnd.databricks.v1+output": {
       "addedWidgets": {},
       "aggData": [],
       "aggError": "",
       "aggOverflow": false,
       "aggSchema": [],
       "aggSeriesLimitReached": false,
       "aggType": "",
       "arguments": {},
       "columnCustomDisplayInfos": {},
       "data": [
        [
         {
          "color": "brown",
          "product": "bmw",
          "type": "sedan"
         },
         null
        ],
        [
         {
          "color": null,
          "product": "audi",
          "type": "truck"
         },
         null
        ],
        [
         {
          "color": "",
          "product": "volvo",
          "type": "sedan"
         },
         null
        ],
        [
         null,
         null
        ],
        [
         {},
         null
        ],
        [
         {
          "color": "red",
          "product": "tesla",
          "type": "electric"
         },
         null
        ],
        [
         {
          "color": "blue",
          "product": "ford",
          "type": "suv"
         },
         null
        ],
        [
         {
          "color": "white",
          "product": "toyota",
          "type": "hatchback"
         },
         null
        ],
        [
         {
          "color": "black",
          "product": "honda",
          "type": "sedan"
         },
         null
        ],
        [
         {
          "color": "grey",
          "product": "nissan",
          "type": "truck"
         },
         null
        ],
        [
         {
          "color": "silver",
          "product": "mercedes",
          "type": "suv"
         },
         null
        ],
        [
         {
          "color": "blue",
          "product": "bmw",
          "type": "coupe"
         },
         null
        ],
        [
         {
          "color": "green",
          "product": "audi",
          "type": "sedan"
         },
         null
        ],
        [
         {
          "color": "yellow",
          "product": "volkswagen",
          "type": "hatchback"
         },
         null
        ],
        [
         {
          "color": "white",
          "product": "hyundai",
          "type": "suv"
         },
         null
        ]
       ],
       "datasetInfos": [],
       "dbfsResultPath": null,
       "isJsonSchema": true,
       "metadata": {},
       "overflow": false,
       "plotOptions": {
        "customPlotOptions": {},
        "displayType": "table",
        "pivotAggregation": null,
        "pivotColumns": null,
        "xColumns": null,
        "yColumns": null
       },
       "removedWidgets": [],
       "schema": [
        {
         "metadata": "{}",
         "name": "properties",
         "type": "{\"keyType\":\"string\",\"type\":\"map\",\"valueContainsNull\":true,\"valueType\":\"string\"}"
        },
        {
         "metadata": "{}",
         "name": "Non_Existing",
         "type": "\"string\""
        }
       ],
       "type": "table"
      }
     },
     "output_type": "display_data"
    }
   ],
   "source": [
    "# Get a Non-Existing Value from a Map using a Key\n",
    "df_array.select(\n",
    "    \"properties\",\n",
    "    element_at(\"properties\", \"height\").alias(\"Non_Existing\")\n",
    ").display()"
   ]
  },
  {
   "cell_type": "markdown",
   "metadata": {
    "application/vnd.databricks.v1+cell": {
     "cellMetadata": {},
     "inputWidgets": {},
     "nuid": "a9a60f63-b38e-4d22-bafe-154326e5d5d2",
     "showTitle": false,
     "tableResultSettingsMap": {},
     "title": ""
    }
   },
   "source": [
    "#### 3) element_at() in Array and Map Together"
   ]
  },
  {
   "cell_type": "code",
   "execution_count": 0,
   "metadata": {
    "application/vnd.databricks.v1+cell": {
     "cellMetadata": {
      "byteLimit": 2048000,
      "rowLimit": 10000
     },
     "inputWidgets": {},
     "nuid": "853f05e9-a90a-416b-bdda-d6d37631980b",
     "showTitle": false,
     "tableResultSettingsMap": {
      "0": {
       "dataGridStateBlob": "{\"version\":1,\"tableState\":{\"columnPinning\":{\"left\":[\"#row_number#\"],\"right\":[]},\"columnSizing\":{\"knownLanguages\":267,\"properties\":365},\"columnVisibility\":{}},\"settings\":{\"columns\":{}},\"syncTimestamp\":1755623168731}",
       "filterBlob": null,
       "queryPlanFiltersBlob": null,
       "tableResultIndex": 0
      }
     },
     "title": ""
    }
   },
   "outputs": [
    {
     "output_type": "display_data",
     "data": {
      "text/html": [
       "<style scoped>\n",
       "  .table-result-container {\n",
       "    max-height: 300px;\n",
       "    overflow: auto;\n",
       "  }\n",
       "  table, th, td {\n",
       "    border: 1px solid black;\n",
       "    border-collapse: collapse;\n",
       "  }\n",
       "  th, td {\n",
       "    padding: 5px;\n",
       "  }\n",
       "  th {\n",
       "    text-align: left;\n",
       "  }\n",
       "</style><div class='table-result-container'><table class='table-result'><thead style='background-color: white'><tr><th>knownLanguages</th><th>properties</th><th>first_element</th><th>last_element</th><th>Product</th><th>Color</th></tr></thead><tbody><tr><td>List(Java, Scala, Python, PySpark, null)</td><td>Map(product -> bmw, color -> brown, type -> sedan)</td><td>Java</td><td>null</td><td>bmw</td><td>brown</td></tr><tr><td>List(Spark, Java, Spark SQL, SQL, null)</td><td>Map(product -> audi, color -> null, type -> truck)</td><td>Spark</td><td>null</td><td>audi</td><td>null</td></tr><tr><td>List(CSharp, , null, VS Code)</td><td>Map(product -> volvo, color -> , type -> sedan)</td><td>CSharp</td><td>VS Code</td><td>volvo</td><td></td></tr><tr><td>null</td><td>null</td><td>null</td><td>null</td><td>null</td><td>null</td></tr><tr><td>List(1, 2, 3, 4, 5)</td><td>Map()</td><td>1</td><td>5</td><td>null</td><td>null</td></tr><tr><td>List(Python, R, SQL, Tableau)</td><td>Map(product -> tesla, color -> red, type -> electric)</td><td>Python</td><td>Tableau</td><td>tesla</td><td>red</td></tr><tr><td>List(Go, Rust, C++, Docker)</td><td>Map(product -> ford, color -> blue, type -> suv)</td><td>Go</td><td>Docker</td><td>ford</td><td>blue</td></tr><tr><td>List(JavaScript, React, NodeJS, MongoDB)</td><td>Map(product -> toyota, color -> white, type -> hatchback)</td><td>JavaScript</td><td>MongoDB</td><td>toyota</td><td>white</td></tr><tr><td>List(Python, Java, AWS, Spark)</td><td>Map(product -> honda, color -> black, type -> sedan)</td><td>Python</td><td>Spark</td><td>honda</td><td>black</td></tr><tr><td>List(C, C++, Embedded, Matlab)</td><td>Map(product -> nissan, color -> grey, type -> truck)</td><td>C</td><td>Matlab</td><td>nissan</td><td>grey</td></tr><tr><td>List(Scala, Spark, Kafka)</td><td>Map(product -> mercedes, color -> silver, type -> suv)</td><td>Scala</td><td>Kafka</td><td>mercedes</td><td>silver</td></tr><tr><td>List(Java, Spring Boot, Hibernate)</td><td>Map(product -> bmw, color -> blue, type -> coupe)</td><td>Java</td><td>Hibernate</td><td>bmw</td><td>blue</td></tr><tr><td>List(Python, Pandas, Numpy, ML)</td><td>Map(product -> audi, color -> green, type -> sedan)</td><td>Python</td><td>ML</td><td>audi</td><td>green</td></tr><tr><td>List(Ruby, Rails, Postgres)</td><td>Map(product -> volkswagen, color -> yellow, type -> hatchback)</td><td>Ruby</td><td>Postgres</td><td>volkswagen</td><td>yellow</td></tr><tr><td>List(Kotlin, Android, Firebase)</td><td>Map(product -> hyundai, color -> white, type -> suv)</td><td>Kotlin</td><td>Firebase</td><td>hyundai</td><td>white</td></tr></tbody></table></div>"
      ]
     },
     "metadata": {
      "application/vnd.databricks.v1+output": {
       "addedWidgets": {},
       "aggData": [],
       "aggError": "",
       "aggOverflow": false,
       "aggSchema": [],
       "aggSeriesLimitReached": false,
       "aggType": "",
       "arguments": {},
       "columnCustomDisplayInfos": {},
       "data": [
        [
         [
          "Java",
          "Scala",
          "Python",
          "PySpark",
          null
         ],
         {
          "color": "brown",
          "product": "bmw",
          "type": "sedan"
         },
         "Java",
         null,
         "bmw",
         "brown"
        ],
        [
         [
          "Spark",
          "Java",
          "Spark SQL",
          "SQL",
          null
         ],
         {
          "color": null,
          "product": "audi",
          "type": "truck"
         },
         "Spark",
         null,
         "audi",
         null
        ],
        [
         [
          "CSharp",
          "",
          null,
          "VS Code"
         ],
         {
          "color": "",
          "product": "volvo",
          "type": "sedan"
         },
         "CSharp",
         "VS Code",
         "volvo",
         ""
        ],
        [
         null,
         null,
         null,
         null,
         null,
         null
        ],
        [
         [
          "1",
          "2",
          "3",
          "4",
          "5"
         ],
         {},
         "1",
         "5",
         null,
         null
        ],
        [
         [
          "Python",
          "R",
          "SQL",
          "Tableau"
         ],
         {
          "color": "red",
          "product": "tesla",
          "type": "electric"
         },
         "Python",
         "Tableau",
         "tesla",
         "red"
        ],
        [
         [
          "Go",
          "Rust",
          "C++",
          "Docker"
         ],
         {
          "color": "blue",
          "product": "ford",
          "type": "suv"
         },
         "Go",
         "Docker",
         "ford",
         "blue"
        ],
        [
         [
          "JavaScript",
          "React",
          "NodeJS",
          "MongoDB"
         ],
         {
          "color": "white",
          "product": "toyota",
          "type": "hatchback"
         },
         "JavaScript",
         "MongoDB",
         "toyota",
         "white"
        ],
        [
         [
          "Python",
          "Java",
          "AWS",
          "Spark"
         ],
         {
          "color": "black",
          "product": "honda",
          "type": "sedan"
         },
         "Python",
         "Spark",
         "honda",
         "black"
        ],
        [
         [
          "C",
          "C++",
          "Embedded",
          "Matlab"
         ],
         {
          "color": "grey",
          "product": "nissan",
          "type": "truck"
         },
         "C",
         "Matlab",
         "nissan",
         "grey"
        ],
        [
         [
          "Scala",
          "Spark",
          "Kafka"
         ],
         {
          "color": "silver",
          "product": "mercedes",
          "type": "suv"
         },
         "Scala",
         "Kafka",
         "mercedes",
         "silver"
        ],
        [
         [
          "Java",
          "Spring Boot",
          "Hibernate"
         ],
         {
          "color": "blue",
          "product": "bmw",
          "type": "coupe"
         },
         "Java",
         "Hibernate",
         "bmw",
         "blue"
        ],
        [
         [
          "Python",
          "Pandas",
          "Numpy",
          "ML"
         ],
         {
          "color": "green",
          "product": "audi",
          "type": "sedan"
         },
         "Python",
         "ML",
         "audi",
         "green"
        ],
        [
         [
          "Ruby",
          "Rails",
          "Postgres"
         ],
         {
          "color": "yellow",
          "product": "volkswagen",
          "type": "hatchback"
         },
         "Ruby",
         "Postgres",
         "volkswagen",
         "yellow"
        ],
        [
         [
          "Kotlin",
          "Android",
          "Firebase"
         ],
         {
          "color": "white",
          "product": "hyundai",
          "type": "suv"
         },
         "Kotlin",
         "Firebase",
         "hyundai",
         "white"
        ]
       ],
       "datasetInfos": [],
       "dbfsResultPath": null,
       "isJsonSchema": true,
       "metadata": {},
       "overflow": false,
       "plotOptions": {
        "customPlotOptions": {},
        "displayType": "table",
        "pivotAggregation": null,
        "pivotColumns": null,
        "xColumns": null,
        "yColumns": null
       },
       "removedWidgets": [],
       "schema": [
        {
         "metadata": "{}",
         "name": "knownLanguages",
         "type": "{\"containsNull\":true,\"elementType\":\"string\",\"type\":\"array\"}"
        },
        {
         "metadata": "{}",
         "name": "properties",
         "type": "{\"keyType\":\"string\",\"type\":\"map\",\"valueContainsNull\":true,\"valueType\":\"string\"}"
        },
        {
         "metadata": "{}",
         "name": "first_element",
         "type": "\"string\""
        },
        {
         "metadata": "{}",
         "name": "last_element",
         "type": "\"string\""
        },
        {
         "metadata": "{}",
         "name": "Product",
         "type": "\"string\""
        },
        {
         "metadata": "{}",
         "name": "Color",
         "type": "\"string\""
        }
       ],
       "type": "table"
      }
     },
     "output_type": "display_data"
    }
   ],
   "source": [
    "# Implement both array and map columns uisng element_at()\n",
    "df_array.select(\"knownLanguages\", \"properties\",\n",
    "                element_at(\"knownLanguages\", 1).alias(\"first_element\"),\n",
    "                element_at(\"knownLanguages\", -1).alias(\"last_element\"),\n",
    "                element_at(\"properties\", \"product\").alias(\"Product\"),\n",
    "                element_at(\"properties\", \"color\").alias(\"Color\")\n",
    "                ).display()"
   ]
  },
  {
   "cell_type": "markdown",
   "metadata": {
    "application/vnd.databricks.v1+cell": {
     "cellMetadata": {},
     "inputWidgets": {},
     "nuid": "53ff85dc-1db8-4cfe-be41-b6de4df97376",
     "showTitle": false,
     "tableResultSettingsMap": {},
     "title": ""
    }
   },
   "source": [
    "#### 4) Array of Maps"
   ]
  },
  {
   "cell_type": "code",
   "execution_count": 0,
   "metadata": {
    "application/vnd.databricks.v1+cell": {
     "cellMetadata": {
      "byteLimit": 2048000,
      "rowLimit": 10000
     },
     "inputWidgets": {},
     "nuid": "70bf1dc7-38d5-474e-a7f6-971578c76b87",
     "showTitle": false,
     "tableResultSettingsMap": {
      "0": {
       "dataGridStateBlob": "{\"version\":1,\"tableState\":{\"columnPinning\":{\"left\":[\"#row_number#\"],\"right\":[]},\"columnSizing\":{\"items\":248},\"columnVisibility\":{}},\"settings\":{\"columns\":{}},\"syncTimestamp\":1755449682406}",
       "filterBlob": null,
       "queryPlanFiltersBlob": null,
       "tableResultIndex": 0
      }
     },
     "title": ""
    }
   },
   "outputs": [
    {
     "output_type": "display_data",
     "data": {
      "text/html": [
       "<style scoped>\n",
       "  .table-result-container {\n",
       "    max-height: 300px;\n",
       "    overflow: auto;\n",
       "  }\n",
       "  table, th, td {\n",
       "    border: 1px solid black;\n",
       "    border-collapse: collapse;\n",
       "  }\n",
       "  th, td {\n",
       "    padding: 5px;\n",
       "  }\n",
       "  th {\n",
       "    text-align: left;\n",
       "  }\n",
       "</style><div class='table-result-container'><table class='table-result'><thead style='background-color: white'><tr><th>id</th><th>items</th></tr></thead><tbody><tr><td>1</td><td>List(Map(k -> a, v -> 100), Map(k -> b, v -> 200))</td></tr><tr><td>2</td><td>List(Map(k -> x, v -> 111), Map(k -> y, v -> 222))</td></tr><tr><td>3</td><td>List(Map(k -> c, v -> 120), Map(k -> d, v -> 300))</td></tr><tr><td>4</td><td>List(Map(k -> e, v -> 121), Map(k -> f, v -> 332))</td></tr><tr><td>5</td><td>List(Map(k -> g, v -> 130), Map(k -> h, v -> 400))</td></tr><tr><td>6</td><td>List(Map(k -> i, v -> 161), Map(k -> j, v -> 442))</td></tr><tr><td>7</td><td>List(Map(k -> k, v -> 150), Map(k -> l, v -> 500))</td></tr><tr><td>8</td><td>List(Map(k -> m, v -> 191), Map(k -> n, v -> 662))</td></tr></tbody></table></div>"
      ]
     },
     "metadata": {
      "application/vnd.databricks.v1+output": {
       "addedWidgets": {},
       "aggData": [],
       "aggError": "",
       "aggOverflow": false,
       "aggSchema": [],
       "aggSeriesLimitReached": false,
       "aggType": "",
       "arguments": {},
       "columnCustomDisplayInfos": {},
       "data": [
        [
         1,
         [
          {
           "k": "a",
           "v": "100"
          },
          {
           "k": "b",
           "v": "200"
          }
         ]
        ],
        [
         2,
         [
          {
           "k": "x",
           "v": "111"
          },
          {
           "k": "y",
           "v": "222"
          }
         ]
        ],
        [
         3,
         [
          {
           "k": "c",
           "v": "120"
          },
          {
           "k": "d",
           "v": "300"
          }
         ]
        ],
        [
         4,
         [
          {
           "k": "e",
           "v": "121"
          },
          {
           "k": "f",
           "v": "332"
          }
         ]
        ],
        [
         5,
         [
          {
           "k": "g",
           "v": "130"
          },
          {
           "k": "h",
           "v": "400"
          }
         ]
        ],
        [
         6,
         [
          {
           "k": "i",
           "v": "161"
          },
          {
           "k": "j",
           "v": "442"
          }
         ]
        ],
        [
         7,
         [
          {
           "k": "k",
           "v": "150"
          },
          {
           "k": "l",
           "v": "500"
          }
         ]
        ],
        [
         8,
         [
          {
           "k": "m",
           "v": "191"
          },
          {
           "k": "n",
           "v": "662"
          }
         ]
        ]
       ],
       "datasetInfos": [],
       "dbfsResultPath": null,
       "isJsonSchema": true,
       "metadata": {},
       "overflow": false,
       "plotOptions": {
        "customPlotOptions": {},
        "displayType": "table",
        "pivotAggregation": null,
        "pivotColumns": null,
        "xColumns": null,
        "yColumns": null
       },
       "removedWidgets": [],
       "schema": [
        {
         "metadata": "{}",
         "name": "id",
         "type": "\"long\""
        },
        {
         "metadata": "{}",
         "name": "items",
         "type": "{\"containsNull\":true,\"elementType\":{\"keyType\":\"string\",\"type\":\"map\",\"valueContainsNull\":true,\"valueType\":\"string\"},\"type\":\"array\"}"
        }
       ],
       "type": "table"
      }
     },
     "output_type": "display_data"
    }
   ],
   "source": [
    "data = [\n",
    "    (1, [{\"k\": \"a\", \"v\": \"100\"}, {\"k\": \"b\", \"v\": \"200\"}]),\n",
    "    (2, [{\"k\": \"x\", \"v\": \"111\"}, {\"k\": \"y\", \"v\": \"222\"}]),\n",
    "    (3, [{\"k\": \"c\", \"v\": \"120\"}, {\"k\": \"d\", \"v\": \"300\"}]),\n",
    "    (4, [{\"k\": \"e\", \"v\": \"121\"}, {\"k\": \"f\", \"v\": \"332\"}]),\n",
    "    (5, [{\"k\": \"g\", \"v\": \"130\"}, {\"k\": \"h\", \"v\": \"400\"}]),\n",
    "    (6, [{\"k\": \"i\", \"v\": \"161\"}, {\"k\": \"j\", \"v\": \"442\"}]),\n",
    "    (7, [{\"k\": \"k\", \"v\": \"150\"}, {\"k\": \"l\", \"v\": \"500\"}]),\n",
    "    (8, [{\"k\": \"m\", \"v\": \"191\"}, {\"k\": \"n\", \"v\": \"662\"}])\n",
    "]\n",
    "\n",
    "df_arr_map = spark.createDataFrame(data, [\"id\", \"items\"])\n",
    "display(df_arr_map)"
   ]
  },
  {
   "cell_type": "code",
   "execution_count": 0,
   "metadata": {
    "application/vnd.databricks.v1+cell": {
     "cellMetadata": {
      "byteLimit": 2048000,
      "rowLimit": 10000
     },
     "inputWidgets": {},
     "nuid": "c24232c9-2e25-4843-94da-9ff863ad75f8",
     "showTitle": false,
     "tableResultSettingsMap": {
      "0": {
       "dataGridStateBlob": "{\"version\":1,\"tableState\":{\"columnPinning\":{\"left\":[\"#row_number#\"],\"right\":[]},\"columnSizing\":{\"first_item\":152,\"last_item\":142,\"items\":257},\"columnVisibility\":{}},\"settings\":{\"columns\":{}},\"syncTimestamp\":1755623650277}",
       "filterBlob": null,
       "queryPlanFiltersBlob": null,
       "tableResultIndex": 0
      }
     },
     "title": ""
    }
   },
   "outputs": [
    {
     "output_type": "display_data",
     "data": {
      "text/html": [
       "<style scoped>\n",
       "  .table-result-container {\n",
       "    max-height: 300px;\n",
       "    overflow: auto;\n",
       "  }\n",
       "  table, th, td {\n",
       "    border: 1px solid black;\n",
       "    border-collapse: collapse;\n",
       "  }\n",
       "  th, td {\n",
       "    padding: 5px;\n",
       "  }\n",
       "  th {\n",
       "    text-align: left;\n",
       "  }\n",
       "</style><div class='table-result-container'><table class='table-result'><thead style='background-color: white'><tr><th>items</th><th>first_item</th><th>last_item</th></tr></thead><tbody><tr><td>List(Map(k -> a, v -> 100), Map(k -> b, v -> 200))</td><td>Map(k -> a, v -> 100)</td><td>Map(k -> b, v -> 200)</td></tr><tr><td>List(Map(k -> x, v -> 111), Map(k -> y, v -> 222))</td><td>Map(k -> x, v -> 111)</td><td>Map(k -> y, v -> 222)</td></tr><tr><td>List(Map(k -> c, v -> 120), Map(k -> d, v -> 300))</td><td>Map(k -> c, v -> 120)</td><td>Map(k -> d, v -> 300)</td></tr><tr><td>List(Map(k -> e, v -> 121), Map(k -> f, v -> 332))</td><td>Map(k -> e, v -> 121)</td><td>Map(k -> f, v -> 332)</td></tr><tr><td>List(Map(k -> g, v -> 130), Map(k -> h, v -> 400))</td><td>Map(k -> g, v -> 130)</td><td>Map(k -> h, v -> 400)</td></tr><tr><td>List(Map(k -> i, v -> 161), Map(k -> j, v -> 442))</td><td>Map(k -> i, v -> 161)</td><td>Map(k -> j, v -> 442)</td></tr><tr><td>List(Map(k -> k, v -> 150), Map(k -> l, v -> 500))</td><td>Map(k -> k, v -> 150)</td><td>Map(k -> l, v -> 500)</td></tr><tr><td>List(Map(k -> m, v -> 191), Map(k -> n, v -> 662))</td><td>Map(k -> m, v -> 191)</td><td>Map(k -> n, v -> 662)</td></tr></tbody></table></div>"
      ]
     },
     "metadata": {
      "application/vnd.databricks.v1+output": {
       "addedWidgets": {},
       "aggData": [],
       "aggError": "",
       "aggOverflow": false,
       "aggSchema": [],
       "aggSeriesLimitReached": false,
       "aggType": "",
       "arguments": {},
       "columnCustomDisplayInfos": {},
       "data": [
        [
         [
          {
           "k": "a",
           "v": "100"
          },
          {
           "k": "b",
           "v": "200"
          }
         ],
         {
          "k": "a",
          "v": "100"
         },
         {
          "k": "b",
          "v": "200"
         }
        ],
        [
         [
          {
           "k": "x",
           "v": "111"
          },
          {
           "k": "y",
           "v": "222"
          }
         ],
         {
          "k": "x",
          "v": "111"
         },
         {
          "k": "y",
          "v": "222"
         }
        ],
        [
         [
          {
           "k": "c",
           "v": "120"
          },
          {
           "k": "d",
           "v": "300"
          }
         ],
         {
          "k": "c",
          "v": "120"
         },
         {
          "k": "d",
          "v": "300"
         }
        ],
        [
         [
          {
           "k": "e",
           "v": "121"
          },
          {
           "k": "f",
           "v": "332"
          }
         ],
         {
          "k": "e",
          "v": "121"
         },
         {
          "k": "f",
          "v": "332"
         }
        ],
        [
         [
          {
           "k": "g",
           "v": "130"
          },
          {
           "k": "h",
           "v": "400"
          }
         ],
         {
          "k": "g",
          "v": "130"
         },
         {
          "k": "h",
          "v": "400"
         }
        ],
        [
         [
          {
           "k": "i",
           "v": "161"
          },
          {
           "k": "j",
           "v": "442"
          }
         ],
         {
          "k": "i",
          "v": "161"
         },
         {
          "k": "j",
          "v": "442"
         }
        ],
        [
         [
          {
           "k": "k",
           "v": "150"
          },
          {
           "k": "l",
           "v": "500"
          }
         ],
         {
          "k": "k",
          "v": "150"
         },
         {
          "k": "l",
          "v": "500"
         }
        ],
        [
         [
          {
           "k": "m",
           "v": "191"
          },
          {
           "k": "n",
           "v": "662"
          }
         ],
         {
          "k": "m",
          "v": "191"
         },
         {
          "k": "n",
          "v": "662"
         }
        ]
       ],
       "datasetInfos": [],
       "dbfsResultPath": null,
       "isJsonSchema": true,
       "metadata": {},
       "overflow": false,
       "plotOptions": {
        "customPlotOptions": {},
        "displayType": "table",
        "pivotAggregation": null,
        "pivotColumns": null,
        "xColumns": null,
        "yColumns": null
       },
       "removedWidgets": [],
       "schema": [
        {
         "metadata": "{}",
         "name": "items",
         "type": "{\"containsNull\":true,\"elementType\":{\"keyType\":\"string\",\"type\":\"map\",\"valueContainsNull\":true,\"valueType\":\"string\"},\"type\":\"array\"}"
        },
        {
         "metadata": "{}",
         "name": "first_item",
         "type": "{\"keyType\":\"string\",\"type\":\"map\",\"valueContainsNull\":true,\"valueType\":\"string\"}"
        },
        {
         "metadata": "{}",
         "name": "last_item",
         "type": "{\"keyType\":\"string\",\"type\":\"map\",\"valueContainsNull\":true,\"valueType\":\"string\"}"
        }
       ],
       "type": "table"
      }
     },
     "output_type": "display_data"
    }
   ],
   "source": [
    "df_arr_map.select(\n",
    "    \"items\",\n",
    "    element_at(\"items\", 1).alias(\"first_item\"),\n",
    "    element_at(\"items\", -1).alias(\"last_item\")\n",
    ").display()"
   ]
  }
 ],
 "metadata": {
  "application/vnd.databricks.v1+notebook": {
   "computePreferences": {
    "hardware": {
     "accelerator": null,
     "gpuPoolId": null,
     "memory": null
    }
   },
   "dashboards": [],
   "environmentMetadata": {
    "base_environment": "",
    "environment_version": "2"
   },
   "inputWidgetPreferences": null,
   "language": "python",
   "notebookMetadata": {
    "pythonIndentUnit": 4
   },
   "notebookName": "56_element at() | How to extract specific elements of array, map",
   "widgets": {}
  },
  "language_info": {
   "name": "python"
  }
 },
 "nbformat": 4,
 "nbformat_minor": 0
}