{
 "cells": [
  {
   "cell_type": "markdown",
   "metadata": {
    "application/vnd.databricks.v1+cell": {
     "cellMetadata": {},
     "inputWidgets": {},
     "nuid": "cd24e009-509d-49bc-8ba0-0b1585e5d37d",
     "showTitle": false,
     "tableResultSettingsMap": {},
     "title": ""
    }
   },
   "source": [
    "#### **to_timestamp**\n",
    "\n",
    "- Convert **String** to **Timestamp** type.\n",
    "\n",
    "- **yyyy-MM-dd HH:mm:ss.SSS** is the **standard timestamp format**.\n",
    "\n",
    "- **Syntax**\n",
    "\n",
    "       to_timestamp(column_name, pattern)"
   ]
  },
  {
   "cell_type": "code",
   "execution_count": 0,
   "metadata": {
    "application/vnd.databricks.v1+cell": {
     "cellMetadata": {
      "byteLimit": 2048000,
      "rowLimit": 10000
     },
     "collapsed": true,
     "inputWidgets": {},
     "nuid": "eeebcb13-ee91-4a27-88b7-72d07ac244fc",
     "showTitle": false,
     "tableResultSettingsMap": {},
     "title": ""
    }
   },
   "outputs": [
    {
     "output_type": "display_data",
     "data": {
      "text/html": [
       "<style scoped>\n",
       "  .table-result-container {\n",
       "    max-height: 300px;\n",
       "    overflow: auto;\n",
       "  }\n",
       "  table, th, td {\n",
       "    border: 1px solid black;\n",
       "    border-collapse: collapse;\n",
       "  }\n",
       "  th, td {\n",
       "    padding: 5px;\n",
       "  }\n",
       "  th {\n",
       "    text-align: left;\n",
       "  }\n",
       "</style><div class='table-result-container'><table class='table-result'><thead style='background-color: white'><tr><th>path</th><th>name</th><th>size</th><th>modificationTime</th></tr></thead><tbody><tr><td>dbfs:/FileStore/tables/Flatten Nested Array.json</td><td>Flatten Nested Array.json</td><td>3756</td><td>1718618620000</td></tr><tr><td>dbfs:/FileStore/tables/MarketPrice-1.csv</td><td>MarketPrice-1.csv</td><td>19528</td><td>1719656512000</td></tr><tr><td>dbfs:/FileStore/tables/MarketPrice.csv</td><td>MarketPrice.csv</td><td>19528</td><td>1719656208000</td></tr><tr><td>dbfs:/FileStore/tables/MultiLineJSON.json/</td><td>MultiLineJSON.json/</td><td>0</td><td>0</td></tr><tr><td>dbfs:/FileStore/tables/MultiLineJSON01.json/</td><td>MultiLineJSON01.json/</td><td>0</td><td>0</td></tr><tr><td>dbfs:/FileStore/tables/MultiLineJSON1.json/</td><td>MultiLineJSON1.json/</td><td>0</td><td>0</td></tr><tr><td>dbfs:/FileStore/tables/MultiLineJSON123.json/</td><td>MultiLineJSON123.json/</td><td>0</td><td>0</td></tr><tr><td>dbfs:/FileStore/tables/MultiLineJSON2.json/</td><td>MultiLineJSON2.json/</td><td>0</td><td>0</td></tr><tr><td>dbfs:/FileStore/tables/Question7.csv</td><td>Question7.csv</td><td>154</td><td>1725816645000</td></tr><tr><td>dbfs:/FileStore/tables/RunningData_Rev02.csv</td><td>RunningData_Rev02.csv</td><td>1222</td><td>1719810609000</td></tr><tr><td>dbfs:/FileStore/tables/RunningData_Rev03.csv</td><td>RunningData_Rev03.csv</td><td>1216</td><td>1719810946000</td></tr><tr><td>dbfs:/FileStore/tables/SalesData_Rev02.csv</td><td>SalesData_Rev02.csv</td><td>472</td><td>1719810784000</td></tr><tr><td>dbfs:/FileStore/tables/SalesData_Rev03.csv</td><td>SalesData_Rev03.csv</td><td>460</td><td>1719810973000</td></tr><tr><td>dbfs:/FileStore/tables/Sales_Collect.csv</td><td>Sales_Collect.csv</td><td>182972</td><td>1720293547000</td></tr><tr><td>dbfs:/FileStore/tables/Sales_Collect_Rev02.csv</td><td>Sales_Collect_Rev02.csv</td><td>166107</td><td>1719810826000</td></tr><tr><td>dbfs:/FileStore/tables/Sales_Collect_Rev03.csv</td><td>Sales_Collect_Rev03.csv</td><td>182828</td><td>1719811001000</td></tr><tr><td>dbfs:/FileStore/tables/StructType-1.csv</td><td>StructType-1.csv</td><td>648</td><td>1717934508000</td></tr><tr><td>dbfs:/FileStore/tables/StructType-2.csv</td><td>StructType-2.csv</td><td>648</td><td>1717935891000</td></tr><tr><td>dbfs:/FileStore/tables/StructType-3.csv</td><td>StructType-3.csv</td><td>648</td><td>1717936009000</td></tr><tr><td>dbfs:/FileStore/tables/StructType-4.csv</td><td>StructType-4.csv</td><td>648</td><td>1717936144000</td></tr><tr><td>dbfs:/FileStore/tables/StructType-5.csv</td><td>StructType-5.csv</td><td>648</td><td>1717936276000</td></tr><tr><td>dbfs:/FileStore/tables/StructType.csv</td><td>StructType.csv</td><td>648</td><td>1717934306000</td></tr><tr><td>dbfs:/FileStore/tables/cast_data.txt</td><td>cast_data.txt</td><td>219</td><td>1720376019000</td></tr><tr><td>dbfs:/FileStore/tables/date_format-1.csv</td><td>date_format-1.csv</td><td>1656</td><td>1725709118000</td></tr><tr><td>dbfs:/FileStore/tables/date_format-2.csv</td><td>date_format-2.csv</td><td>1923</td><td>1725709313000</td></tr><tr><td>dbfs:/FileStore/tables/date_format.csv</td><td>date_format.csv</td><td>1119</td><td>1725645247000</td></tr><tr><td>dbfs:/FileStore/tables/from_unixtime-1.csv</td><td>from_unixtime-1.csv</td><td>9523</td><td>1725903833000</td></tr><tr><td>dbfs:/FileStore/tables/from_unixtime.csv</td><td>from_unixtime.csv</td><td>9523</td><td>1725901373000</td></tr><tr><td>dbfs:/FileStore/tables/iterate_columns.csv</td><td>iterate_columns.csv</td><td>2023849</td><td>1719767610000</td></tr><tr><td>dbfs:/FileStore/tables/multiline.json</td><td>multiline.json</td><td>1262</td><td>1725858755000</td></tr><tr><td>dbfs:/FileStore/tables/multiline.txt</td><td>multiline.txt</td><td>178</td><td>1721655243000</td></tr><tr><td>dbfs:/FileStore/tables/multiline_nested-1.json</td><td>multiline_nested-1.json</td><td>2233</td><td>1725884748000</td></tr><tr><td>dbfs:/FileStore/tables/multiline_nested.json</td><td>multiline_nested.json</td><td>1731</td><td>1725870338000</td></tr><tr><td>dbfs:/FileStore/tables/person-1.json</td><td>person-1.json</td><td>4608</td><td>1718609578000</td></tr><tr><td>dbfs:/FileStore/tables/person-2.json</td><td>person-2.json</td><td>4616</td><td>1718610165000</td></tr><tr><td>dbfs:/FileStore/tables/person.json</td><td>person.json</td><td>4616</td><td>1718609425000</td></tr><tr><td>dbfs:/FileStore/tables/posexplode.txt</td><td>posexplode.txt</td><td>264</td><td>1718525465000</td></tr><tr><td>dbfs:/FileStore/tables/singleline-1.json</td><td>singleline-1.json</td><td>1000</td><td>1725857789000</td></tr><tr><td>dbfs:/FileStore/tables/singleline-2.json</td><td>singleline-2.json</td><td>999</td><td>1725858047000</td></tr><tr><td>dbfs:/FileStore/tables/singleline-3.json</td><td>singleline-3.json</td><td>1003</td><td>1725858173000</td></tr><tr><td>dbfs:/FileStore/tables/singleline-4.json</td><td>singleline-4.json</td><td>1004</td><td>1725858244000</td></tr><tr><td>dbfs:/FileStore/tables/singleline-5.json</td><td>singleline-5.json</td><td>1006</td><td>1725858294000</td></tr><tr><td>dbfs:/FileStore/tables/singleline-6.json</td><td>singleline-6.json</td><td>1006</td><td>1725858459000</td></tr><tr><td>dbfs:/FileStore/tables/singleline.json</td><td>singleline.json</td><td>1006</td><td>1725856537000</td></tr><tr><td>dbfs:/FileStore/tables/singlelineList.json</td><td>singlelineList.json</td><td>1032</td><td>1725892526000</td></tr><tr><td>dbfs:/FileStore/tables/singleline_nested-1.json</td><td>singleline_nested-1.json</td><td>1388</td><td>1725883300000</td></tr><tr><td>dbfs:/FileStore/tables/singleline_nested.json</td><td>singleline_nested.json</td><td>1096</td><td>1725870020000</td></tr><tr><td>dbfs:/FileStore/tables/split.txt</td><td>split.txt</td><td>390</td><td>1721625608000</td></tr><tr><td>dbfs:/FileStore/tables/syntax.jpg</td><td>syntax.jpg</td><td>32647</td><td>1725976365000</td></tr><tr><td>dbfs:/FileStore/tables/timestamp_millis-1.csv</td><td>timestamp_millis-1.csv</td><td>7513</td><td>1725903371000</td></tr><tr><td>dbfs:/FileStore/tables/timestamp_millis-2.csv</td><td>timestamp_millis-2.csv</td><td>7513</td><td>1725903430000</td></tr><tr><td>dbfs:/FileStore/tables/timestamp_millis-3.csv</td><td>timestamp_millis-3.csv</td><td>8613</td><td>1725903701000</td></tr><tr><td>dbfs:/FileStore/tables/timestamp_millis.csv</td><td>timestamp_millis.csv</td><td>7533</td><td>1725903084000</td></tr><tr><td>dbfs:/FileStore/tables/titanic.csv</td><td>titanic.csv</td><td>60302</td><td>1717853233000</td></tr><tr><td>dbfs:/FileStore/tables/to_date.csv</td><td>to_date.csv</td><td>1923</td><td>1726112031000</td></tr><tr><td>dbfs:/FileStore/tables/to_timestamp-1.csv</td><td>to_timestamp-1.csv</td><td>5536</td><td>1726303458000</td></tr><tr><td>dbfs:/FileStore/tables/to_timestamp-2.csv</td><td>to_timestamp-2.csv</td><td>5425</td><td>1726303695000</td></tr><tr><td>dbfs:/FileStore/tables/to_timestamp-3.csv</td><td>to_timestamp-3.csv</td><td>5545</td><td>1726304079000</td></tr><tr><td>dbfs:/FileStore/tables/to_timestamp.csv</td><td>to_timestamp.csv</td><td>6451</td><td>1726300120000</td></tr></tbody></table></div>"
      ]
     },
     "metadata": {
      "application/vnd.databricks.v1+output": {
       "addedWidgets": {},
       "aggData": [],
       "aggError": "",
       "aggOverflow": false,
       "aggSchema": [],
       "aggSeriesLimitReached": false,
       "aggType": "",
       "arguments": {},
       "columnCustomDisplayInfos": {},
       "data": [
        [
         "dbfs:/FileStore/tables/Flatten Nested Array.json",
         "Flatten Nested Array.json",
         3756,
         1718618620000
        ],
        [
         "dbfs:/FileStore/tables/MarketPrice-1.csv",
         "MarketPrice-1.csv",
         19528,
         1719656512000
        ],
        [
         "dbfs:/FileStore/tables/MarketPrice.csv",
         "MarketPrice.csv",
         19528,
         1719656208000
        ],
        [
         "dbfs:/FileStore/tables/MultiLineJSON.json/",
         "MultiLineJSON.json/",
         0,
         0
        ],
        [
         "dbfs:/FileStore/tables/MultiLineJSON01.json/",
         "MultiLineJSON01.json/",
         0,
         0
        ],
        [
         "dbfs:/FileStore/tables/MultiLineJSON1.json/",
         "MultiLineJSON1.json/",
         0,
         0
        ],
        [
         "dbfs:/FileStore/tables/MultiLineJSON123.json/",
         "MultiLineJSON123.json/",
         0,
         0
        ],
        [
         "dbfs:/FileStore/tables/MultiLineJSON2.json/",
         "MultiLineJSON2.json/",
         0,
         0
        ],
        [
         "dbfs:/FileStore/tables/Question7.csv",
         "Question7.csv",
         154,
         1725816645000
        ],
        [
         "dbfs:/FileStore/tables/RunningData_Rev02.csv",
         "RunningData_Rev02.csv",
         1222,
         1719810609000
        ],
        [
         "dbfs:/FileStore/tables/RunningData_Rev03.csv",
         "RunningData_Rev03.csv",
         1216,
         1719810946000
        ],
        [
         "dbfs:/FileStore/tables/SalesData_Rev02.csv",
         "SalesData_Rev02.csv",
         472,
         1719810784000
        ],
        [
         "dbfs:/FileStore/tables/SalesData_Rev03.csv",
         "SalesData_Rev03.csv",
         460,
         1719810973000
        ],
        [
         "dbfs:/FileStore/tables/Sales_Collect.csv",
         "Sales_Collect.csv",
         182972,
         1720293547000
        ],
        [
         "dbfs:/FileStore/tables/Sales_Collect_Rev02.csv",
         "Sales_Collect_Rev02.csv",
         166107,
         1719810826000
        ],
        [
         "dbfs:/FileStore/tables/Sales_Collect_Rev03.csv",
         "Sales_Collect_Rev03.csv",
         182828,
         1719811001000
        ],
        [
         "dbfs:/FileStore/tables/StructType-1.csv",
         "StructType-1.csv",
         648,
         1717934508000
        ],
        [
         "dbfs:/FileStore/tables/StructType-2.csv",
         "StructType-2.csv",
         648,
         1717935891000
        ],
        [
         "dbfs:/FileStore/tables/StructType-3.csv",
         "StructType-3.csv",
         648,
         1717936009000
        ],
        [
         "dbfs:/FileStore/tables/StructType-4.csv",
         "StructType-4.csv",
         648,
         1717936144000
        ],
        [
         "dbfs:/FileStore/tables/StructType-5.csv",
         "StructType-5.csv",
         648,
         1717936276000
        ],
        [
         "dbfs:/FileStore/tables/StructType.csv",
         "StructType.csv",
         648,
         1717934306000
        ],
        [
         "dbfs:/FileStore/tables/cast_data.txt",
         "cast_data.txt",
         219,
         1720376019000
        ],
        [
         "dbfs:/FileStore/tables/date_format-1.csv",
         "date_format-1.csv",
         1656,
         1725709118000
        ],
        [
         "dbfs:/FileStore/tables/date_format-2.csv",
         "date_format-2.csv",
         1923,
         1725709313000
        ],
        [
         "dbfs:/FileStore/tables/date_format.csv",
         "date_format.csv",
         1119,
         1725645247000
        ],
        [
         "dbfs:/FileStore/tables/from_unixtime-1.csv",
         "from_unixtime-1.csv",
         9523,
         1725903833000
        ],
        [
         "dbfs:/FileStore/tables/from_unixtime.csv",
         "from_unixtime.csv",
         9523,
         1725901373000
        ],
        [
         "dbfs:/FileStore/tables/iterate_columns.csv",
         "iterate_columns.csv",
         2023849,
         1719767610000
        ],
        [
         "dbfs:/FileStore/tables/multiline.json",
         "multiline.json",
         1262,
         1725858755000
        ],
        [
         "dbfs:/FileStore/tables/multiline.txt",
         "multiline.txt",
         178,
         1721655243000
        ],
        [
         "dbfs:/FileStore/tables/multiline_nested-1.json",
         "multiline_nested-1.json",
         2233,
         1725884748000
        ],
        [
         "dbfs:/FileStore/tables/multiline_nested.json",
         "multiline_nested.json",
         1731,
         1725870338000
        ],
        [
         "dbfs:/FileStore/tables/person-1.json",
         "person-1.json",
         4608,
         1718609578000
        ],
        [
         "dbfs:/FileStore/tables/person-2.json",
         "person-2.json",
         4616,
         1718610165000
        ],
        [
         "dbfs:/FileStore/tables/person.json",
         "person.json",
         4616,
         1718609425000
        ],
        [
         "dbfs:/FileStore/tables/posexplode.txt",
         "posexplode.txt",
         264,
         1718525465000
        ],
        [
         "dbfs:/FileStore/tables/singleline-1.json",
         "singleline-1.json",
         1000,
         1725857789000
        ],
        [
         "dbfs:/FileStore/tables/singleline-2.json",
         "singleline-2.json",
         999,
         1725858047000
        ],
        [
         "dbfs:/FileStore/tables/singleline-3.json",
         "singleline-3.json",
         1003,
         1725858173000
        ],
        [
         "dbfs:/FileStore/tables/singleline-4.json",
         "singleline-4.json",
         1004,
         1725858244000
        ],
        [
         "dbfs:/FileStore/tables/singleline-5.json",
         "singleline-5.json",
         1006,
         1725858294000
        ],
        [
         "dbfs:/FileStore/tables/singleline-6.json",
         "singleline-6.json",
         1006,
         1725858459000
        ],
        [
         "dbfs:/FileStore/tables/singleline.json",
         "singleline.json",
         1006,
         1725856537000
        ],
        [
         "dbfs:/FileStore/tables/singlelineList.json",
         "singlelineList.json",
         1032,
         1725892526000
        ],
        [
         "dbfs:/FileStore/tables/singleline_nested-1.json",
         "singleline_nested-1.json",
         1388,
         1725883300000
        ],
        [
         "dbfs:/FileStore/tables/singleline_nested.json",
         "singleline_nested.json",
         1096,
         1725870020000
        ],
        [
         "dbfs:/FileStore/tables/split.txt",
         "split.txt",
         390,
         1721625608000
        ],
        [
         "dbfs:/FileStore/tables/syntax.jpg",
         "syntax.jpg",
         32647,
         1725976365000
        ],
        [
         "dbfs:/FileStore/tables/timestamp_millis-1.csv",
         "timestamp_millis-1.csv",
         7513,
         1725903371000
        ],
        [
         "dbfs:/FileStore/tables/timestamp_millis-2.csv",
         "timestamp_millis-2.csv",
         7513,
         1725903430000
        ],
        [
         "dbfs:/FileStore/tables/timestamp_millis-3.csv",
         "timestamp_millis-3.csv",
         8613,
         1725903701000
        ],
        [
         "dbfs:/FileStore/tables/timestamp_millis.csv",
         "timestamp_millis.csv",
         7533,
         1725903084000
        ],
        [
         "dbfs:/FileStore/tables/titanic.csv",
         "titanic.csv",
         60302,
         1717853233000
        ],
        [
         "dbfs:/FileStore/tables/to_date.csv",
         "to_date.csv",
         1923,
         1726112031000
        ],
        [
         "dbfs:/FileStore/tables/to_timestamp-1.csv",
         "to_timestamp-1.csv",
         5536,
         1726303458000
        ],
        [
         "dbfs:/FileStore/tables/to_timestamp-2.csv",
         "to_timestamp-2.csv",
         5425,
         1726303695000
        ],
        [
         "dbfs:/FileStore/tables/to_timestamp-3.csv",
         "to_timestamp-3.csv",
         5545,
         1726304079000
        ],
        [
         "dbfs:/FileStore/tables/to_timestamp.csv",
         "to_timestamp.csv",
         6451,
         1726300120000
        ]
       ],
       "datasetInfos": [],
       "dbfsResultPath": null,
       "isJsonSchema": true,
       "metadata": {
        "isDbfsCommandResult": false
       },
       "overflow": false,
       "plotOptions": {
        "customPlotOptions": {},
        "displayType": "table",
        "pivotAggregation": null,
        "pivotColumns": null,
        "xColumns": null,
        "yColumns": null
       },
       "removedWidgets": [],
       "schema": [
        {
         "metadata": "{}",
         "name": "path",
         "type": "\"string\""
        },
        {
         "metadata": "{}",
         "name": "name",
         "type": "\"string\""
        },
        {
         "metadata": "{}",
         "name": "size",
         "type": "\"long\""
        },
        {
         "metadata": "{}",
         "name": "modificationTime",
         "type": "\"long\""
        }
       ],
       "type": "table"
      }
     },
     "output_type": "display_data"
    }
   ],
   "source": [
    "%fs ls /FileStore/tables"
   ]
  },
  {
   "cell_type": "code",
   "execution_count": 0,
   "metadata": {
    "application/vnd.databricks.v1+cell": {
     "cellMetadata": {
      "byteLimit": 2048000,
      "rowLimit": 10000
     },
     "inputWidgets": {},
     "nuid": "8ef7b4ab-41de-47de-be06-a091889e9531",
     "showTitle": false,
     "tableResultSettingsMap": {},
     "title": ""
    }
   },
   "outputs": [
    {
     "output_type": "display_data",
     "data": {
      "text/html": [
       "<style scoped>\n",
       "  .table-result-container {\n",
       "    max-height: 300px;\n",
       "    overflow: auto;\n",
       "  }\n",
       "  table, th, td {\n",
       "    border: 1px solid black;\n",
       "    border-collapse: collapse;\n",
       "  }\n",
       "  th, td {\n",
       "    padding: 5px;\n",
       "  }\n",
       "  th {\n",
       "    text-align: left;\n",
       "  }\n",
       "</style><div class='table-result-container'><table class='table-result'><thead style='background-color: white'><tr><th>S.No</th><th>Status</th><th>Start_Date</th><th>End_Date</th><th>Expiration_Date</th><th>Last_Date</th><th>Input_Start_Date</th><th>Input_End_Date</th><th>Delivery_Start_Date8</th><th>Delivery_End_Date</th><th>Delivery_Start_Date10</th><th>Pricing_Date</th></tr></thead><tbody><tr><td>1</td><td>Sell</td><td>26-Jan-24</td><td>2024-03-31</td><td>2024-02-26</td><td>26-Jan-24</td><td>2024-03-11</td><td>2024-02-26</td><td>2023-12-21</td><td>1/3/2024</td><td>2024-04-02</td><td>26-Jan-24</td></tr><tr><td>2</td><td>Buy</td><td>21-Dec-23</td><td>2024-01-31</td><td>2023-12-21</td><td>21-Dec-23</td><td>2024-12-11</td><td>2023-12-27</td><td>2024-11-28</td><td>1/1/2024</td><td>2024-01-31</td><td>21-Dec-23</td></tr><tr><td>3</td><td>Buy</td><td>27-Mar-25</td><td>2025-06-30</td><td>2025-03-27</td><td>27-Mar-25</td><td>2025-04-21</td><td>2024-12-27</td><td>2024-02-26</td><td>1/4/2025</td><td>2025-06-30</td><td>27-Mar-25</td></tr><tr><td>4</td><td>Sell</td><td>27-Dec-23</td><td>2024-12-31</td><td>2023-12-27</td><td>27-Dec-23</td><td>2024-07-16</td><td>2023-12-27</td><td>2023-12-27</td><td>1/1/2024</td><td>2023-12-27</td><td>27-Dec-23</td></tr><tr><td>5</td><td>Buy</td><td>29-Apr-24</td><td>2024-04-30</td><td>2024-04-29</td><td>29-Apr-24</td><td>2024-04-22</td><td>2024-03-26</td><td>2023-01-09</td><td>1/4/2024</td><td>2024-04-30</td><td>29-Apr-24</td></tr><tr><td>6</td><td>Buy</td><td>27-Dec-24</td><td>2025-12-31</td><td>2024-12-27</td><td>27-Dec-24</td><td>2025-01-01</td><td>2023-12-21</td><td>2023-02-21</td><td>1/1/2025</td><td>2025-12-31</td><td>27-Dec-24</td></tr><tr><td>7</td><td>Sell</td><td>21-Dec-23</td><td>2023-02-28</td><td>2023-12-27</td><td>21-Dec-23</td><td>2023-02-01</td><td>2024-11-28</td><td>2023-05-29</td><td>1/2/2023</td><td>2023-03-20</td><td>21-Dec-23</td></tr><tr><td>8</td><td>Buy</td><td>26-Mar-24</td><td>2024-06-30</td><td>2024-03-26</td><td>26-Mar-24</td><td>2023-02-01</td><td>2024-02-26</td><td>1985-05-19</td><td>1/2/2023</td><td>2023-03-20</td><td>26-Mar-24</td></tr><tr><td>9</td><td>Buy</td><td>27-Dec-23</td><td>2023-02-28</td><td>2023-12-21</td><td>27-Dec-23</td><td>2024-04-21</td><td>2023-12-27</td><td>2023-04-27</td><td>1/4/2024</td><td>2024-03-26</td><td>27-Dec-23</td></tr><tr><td>10</td><td>Buy</td><td>26-Jan-24</td><td>2024-11-29</td><td>2024-11-28</td><td>26-Jan-24</td><td>2023-02-21</td><td>2023-02-01</td><td>2020-04-17</td><td>1/2/2023</td><td>2023-03-20</td><td>26-Jan-24</td></tr></tbody></table></div>"
      ]
     },
     "metadata": {
      "application/vnd.databricks.v1+output": {
       "addedWidgets": {},
       "aggData": [],
       "aggError": "",
       "aggOverflow": false,
       "aggSchema": [],
       "aggSeriesLimitReached": false,
       "aggType": "",
       "arguments": {},
       "columnCustomDisplayInfos": {},
       "data": [
        [
         1,
         "Sell",
         "26-Jan-24",
         "2024-03-31",
         "2024-02-26",
         "26-Jan-24",
         "2024-03-11",
         "2024-02-26",
         "2023-12-21",
         "1/3/2024",
         "2024-04-02",
         "26-Jan-24"
        ],
        [
         2,
         "Buy",
         "21-Dec-23",
         "2024-01-31",
         "2023-12-21",
         "21-Dec-23",
         "2024-12-11",
         "2023-12-27",
         "2024-11-28",
         "1/1/2024",
         "2024-01-31",
         "21-Dec-23"
        ],
        [
         3,
         "Buy",
         "27-Mar-25",
         "2025-06-30",
         "2025-03-27",
         "27-Mar-25",
         "2025-04-21",
         "2024-12-27",
         "2024-02-26",
         "1/4/2025",
         "2025-06-30",
         "27-Mar-25"
        ],
        [
         4,
         "Sell",
         "27-Dec-23",
         "2024-12-31",
         "2023-12-27",
         "27-Dec-23",
         "2024-07-16",
         "2023-12-27",
         "2023-12-27",
         "1/1/2024",
         "2023-12-27",
         "27-Dec-23"
        ],
        [
         5,
         "Buy",
         "29-Apr-24",
         "2024-04-30",
         "2024-04-29",
         "29-Apr-24",
         "2024-04-22",
         "2024-03-26",
         "2023-01-09",
         "1/4/2024",
         "2024-04-30",
         "29-Apr-24"
        ],
        [
         6,
         "Buy",
         "27-Dec-24",
         "2025-12-31",
         "2024-12-27",
         "27-Dec-24",
         "2025-01-01",
         "2023-12-21",
         "2023-02-21",
         "1/1/2025",
         "2025-12-31",
         "27-Dec-24"
        ],
        [
         7,
         "Sell",
         "21-Dec-23",
         "2023-02-28",
         "2023-12-27",
         "21-Dec-23",
         "2023-02-01",
         "2024-11-28",
         "2023-05-29",
         "1/2/2023",
         "2023-03-20",
         "21-Dec-23"
        ],
        [
         8,
         "Buy",
         "26-Mar-24",
         "2024-06-30",
         "2024-03-26",
         "26-Mar-24",
         "2023-02-01",
         "2024-02-26",
         "1985-05-19",
         "1/2/2023",
         "2023-03-20",
         "26-Mar-24"
        ],
        [
         9,
         "Buy",
         "27-Dec-23",
         "2023-02-28",
         "2023-12-21",
         "27-Dec-23",
         "2024-04-21",
         "2023-12-27",
         "2023-04-27",
         "1/4/2024",
         "2024-03-26",
         "27-Dec-23"
        ],
        [
         10,
         "Buy",
         "26-Jan-24",
         "2024-11-29",
         "2024-11-28",
         "26-Jan-24",
         "2023-02-21",
         "2023-02-01",
         "2020-04-17",
         "1/2/2023",
         "2023-03-20",
         "26-Jan-24"
        ]
       ],
       "datasetInfos": [],
       "dbfsResultPath": null,
       "isJsonSchema": true,
       "metadata": {},
       "overflow": false,
       "plotOptions": {
        "customPlotOptions": {},
        "displayType": "table",
        "pivotAggregation": null,
        "pivotColumns": null,
        "xColumns": null,
        "yColumns": null
       },
       "removedWidgets": [],
       "schema": [
        {
         "metadata": "{}",
         "name": "S.No",
         "type": "\"integer\""
        },
        {
         "metadata": "{}",
         "name": "Status",
         "type": "\"string\""
        },
        {
         "metadata": "{}",
         "name": "Start_Date",
         "type": "\"string\""
        },
        {
         "metadata": "{\"__detected_date_formats\":\"d/M/yyyy\"}",
         "name": "End_Date",
         "type": "\"date\""
        },
        {
         "metadata": "{\"__detected_date_formats\":\"d/M/yyyy\"}",
         "name": "Expiration_Date",
         "type": "\"date\""
        },
        {
         "metadata": "{}",
         "name": "Last_Date",
         "type": "\"string\""
        },
        {
         "metadata": "{\"__detected_date_formats\":\"d/M/yyyy\"}",
         "name": "Input_Start_Date",
         "type": "\"date\""
        },
        {
         "metadata": "{\"__detected_date_formats\":\"d/M/yyyy\"}",
         "name": "Input_End_Date",
         "type": "\"date\""
        },
        {
         "metadata": "{\"__detected_date_formats\":\"d/M/yyyy\"}",
         "name": "Delivery_Start_Date8",
         "type": "\"date\""
        },
        {
         "metadata": "{}",
         "name": "Delivery_End_Date",
         "type": "\"string\""
        },
        {
         "metadata": "{\"__detected_date_formats\":\"d/M/yyyy\"}",
         "name": "Delivery_Start_Date10",
         "type": "\"date\""
        },
        {
         "metadata": "{}",
         "name": "Pricing_Date",
         "type": "\"string\""
        }
       ],
       "type": "table"
      }
     },
     "output_type": "display_data"
    }
   ],
   "source": [
    "df_ts = spark.read.csv(\"dbfs:/FileStore/tables/to_timestamp-3.csv\", header=True, inferSchema=True)\n",
    "display(df_ts.limit(10))"
   ]
  },
  {
   "cell_type": "code",
   "execution_count": 0,
   "metadata": {
    "application/vnd.databricks.v1+cell": {
     "cellMetadata": {
      "byteLimit": 2048000,
      "rowLimit": 10000
     },
     "inputWidgets": {},
     "nuid": "af6172f5-34b6-4769-845a-e4340de2ed01",
     "showTitle": false,
     "tableResultSettingsMap": {},
     "title": ""
    }
   },
   "outputs": [],
   "source": [
    "from pyspark.sql.functions import lit, col, to_date, to_timestamp"
   ]
  },
  {
   "cell_type": "markdown",
   "metadata": {
    "application/vnd.databricks.v1+cell": {
     "cellMetadata": {},
     "inputWidgets": {},
     "nuid": "962d0b85-6e5f-441e-9132-90e13c576f82",
     "showTitle": false,
     "tableResultSettingsMap": {},
     "title": ""
    }
   },
   "source": [
    "#### **1) Convert date (data type: string) to timestamp**"
   ]
  },
  {
   "cell_type": "code",
   "execution_count": 0,
   "metadata": {
    "application/vnd.databricks.v1+cell": {
     "cellMetadata": {
      "byteLimit": 2048000,
      "rowLimit": 10000
     },
     "inputWidgets": {},
     "nuid": "5428d8ad-9f96-4384-9416-2a06378254d2",
     "showTitle": false,
     "tableResultSettingsMap": {},
     "title": ""
    }
   },
   "outputs": [
    {
     "output_type": "display_data",
     "data": {
      "text/html": [
       "<style scoped>\n",
       "  .table-result-container {\n",
       "    max-height: 300px;\n",
       "    overflow: auto;\n",
       "  }\n",
       "  table, th, td {\n",
       "    border: 1px solid black;\n",
       "    border-collapse: collapse;\n",
       "  }\n",
       "  th, td {\n",
       "    padding: 5px;\n",
       "  }\n",
       "  th {\n",
       "    text-align: left;\n",
       "  }\n",
       "</style><div class='table-result-container'><table class='table-result'><thead style='background-color: white'><tr><th>S.No</th><th>Status</th><th>Start_Date</th><th>End_Date</th><th>Expiration_Date</th><th>Last_Date</th><th>Input_Start_Date</th><th>Input_End_Date</th><th>Delivery_Start_Date8</th><th>Delivery_End_Date</th><th>Delivery_Start_Date10</th><th>Pricing_Date</th></tr></thead><tbody><tr><td>1</td><td>Sell</td><td>2024-01-26T00:00:00.000+0000</td><td>2024-03-31</td><td>2024-02-26</td><td>2024-01-26T00:00:00.000+0000</td><td>2024-03-11</td><td>2024-02-26</td><td>2023-12-21</td><td>2024-03-01T00:00:00.000+0000</td><td>2024-04-02</td><td>2024-01-26T00:00:00.000+0000</td></tr><tr><td>2</td><td>Buy</td><td>2023-12-21T00:00:00.000+0000</td><td>2024-01-31</td><td>2023-12-21</td><td>2023-12-21T00:00:00.000+0000</td><td>2024-12-11</td><td>2023-12-27</td><td>2024-11-28</td><td>2024-01-01T00:00:00.000+0000</td><td>2024-01-31</td><td>2023-12-21T00:00:00.000+0000</td></tr><tr><td>3</td><td>Buy</td><td>2025-03-27T00:00:00.000+0000</td><td>2025-06-30</td><td>2025-03-27</td><td>2025-03-27T00:00:00.000+0000</td><td>2025-04-21</td><td>2024-12-27</td><td>2024-02-26</td><td>2025-04-01T00:00:00.000+0000</td><td>2025-06-30</td><td>2025-03-27T00:00:00.000+0000</td></tr><tr><td>4</td><td>Sell</td><td>2023-12-27T00:00:00.000+0000</td><td>2024-12-31</td><td>2023-12-27</td><td>2023-12-27T00:00:00.000+0000</td><td>2024-07-16</td><td>2023-12-27</td><td>2023-12-27</td><td>2024-01-01T00:00:00.000+0000</td><td>2023-12-27</td><td>2023-12-27T00:00:00.000+0000</td></tr><tr><td>5</td><td>Buy</td><td>2024-04-29T00:00:00.000+0000</td><td>2024-04-30</td><td>2024-04-29</td><td>2024-04-29T00:00:00.000+0000</td><td>2024-04-22</td><td>2024-03-26</td><td>2023-01-09</td><td>2024-04-01T00:00:00.000+0000</td><td>2024-04-30</td><td>2024-04-29T00:00:00.000+0000</td></tr><tr><td>6</td><td>Buy</td><td>2024-12-27T00:00:00.000+0000</td><td>2025-12-31</td><td>2024-12-27</td><td>2024-12-27T00:00:00.000+0000</td><td>2025-01-01</td><td>2023-12-21</td><td>2023-02-21</td><td>2025-01-01T00:00:00.000+0000</td><td>2025-12-31</td><td>2024-12-27T00:00:00.000+0000</td></tr><tr><td>7</td><td>Sell</td><td>2023-12-21T00:00:00.000+0000</td><td>2023-02-28</td><td>2023-12-27</td><td>2023-12-21T00:00:00.000+0000</td><td>2023-02-01</td><td>2024-11-28</td><td>2023-05-29</td><td>2023-02-01T00:00:00.000+0000</td><td>2023-03-20</td><td>2023-12-21T00:00:00.000+0000</td></tr><tr><td>8</td><td>Buy</td><td>2024-03-26T00:00:00.000+0000</td><td>2024-06-30</td><td>2024-03-26</td><td>2024-03-26T00:00:00.000+0000</td><td>2023-02-01</td><td>2024-02-26</td><td>1985-05-19</td><td>2023-02-01T00:00:00.000+0000</td><td>2023-03-20</td><td>2024-03-26T00:00:00.000+0000</td></tr><tr><td>9</td><td>Buy</td><td>2023-12-27T00:00:00.000+0000</td><td>2023-02-28</td><td>2023-12-21</td><td>2023-12-27T00:00:00.000+0000</td><td>2024-04-21</td><td>2023-12-27</td><td>2023-04-27</td><td>2024-04-01T00:00:00.000+0000</td><td>2024-03-26</td><td>2023-12-27T00:00:00.000+0000</td></tr><tr><td>10</td><td>Buy</td><td>2024-01-26T00:00:00.000+0000</td><td>2024-11-29</td><td>2024-11-28</td><td>2024-01-26T00:00:00.000+0000</td><td>2023-02-21</td><td>2023-02-01</td><td>2020-04-17</td><td>2023-02-01T00:00:00.000+0000</td><td>2023-03-20</td><td>2024-01-26T00:00:00.000+0000</td></tr></tbody></table></div>"
      ]
     },
     "metadata": {
      "application/vnd.databricks.v1+output": {
       "addedWidgets": {},
       "aggData": [],
       "aggError": "",
       "aggOverflow": false,
       "aggSchema": [],
       "aggSeriesLimitReached": false,
       "aggType": "",
       "arguments": {},
       "columnCustomDisplayInfos": {},
       "data": [
        [
         1,
         "Sell",
         "2024-01-26T00:00:00.000+0000",
         "2024-03-31",
         "2024-02-26",
         "2024-01-26T00:00:00.000+0000",
         "2024-03-11",
         "2024-02-26",
         "2023-12-21",
         "2024-03-01T00:00:00.000+0000",
         "2024-04-02",
         "2024-01-26T00:00:00.000+0000"
        ],
        [
         2,
         "Buy",
         "2023-12-21T00:00:00.000+0000",
         "2024-01-31",
         "2023-12-21",
         "2023-12-21T00:00:00.000+0000",
         "2024-12-11",
         "2023-12-27",
         "2024-11-28",
         "2024-01-01T00:00:00.000+0000",
         "2024-01-31",
         "2023-12-21T00:00:00.000+0000"
        ],
        [
         3,
         "Buy",
         "2025-03-27T00:00:00.000+0000",
         "2025-06-30",
         "2025-03-27",
         "2025-03-27T00:00:00.000+0000",
         "2025-04-21",
         "2024-12-27",
         "2024-02-26",
         "2025-04-01T00:00:00.000+0000",
         "2025-06-30",
         "2025-03-27T00:00:00.000+0000"
        ],
        [
         4,
         "Sell",
         "2023-12-27T00:00:00.000+0000",
         "2024-12-31",
         "2023-12-27",
         "2023-12-27T00:00:00.000+0000",
         "2024-07-16",
         "2023-12-27",
         "2023-12-27",
         "2024-01-01T00:00:00.000+0000",
         "2023-12-27",
         "2023-12-27T00:00:00.000+0000"
        ],
        [
         5,
         "Buy",
         "2024-04-29T00:00:00.000+0000",
         "2024-04-30",
         "2024-04-29",
         "2024-04-29T00:00:00.000+0000",
         "2024-04-22",
         "2024-03-26",
         "2023-01-09",
         "2024-04-01T00:00:00.000+0000",
         "2024-04-30",
         "2024-04-29T00:00:00.000+0000"
        ],
        [
         6,
         "Buy",
         "2024-12-27T00:00:00.000+0000",
         "2025-12-31",
         "2024-12-27",
         "2024-12-27T00:00:00.000+0000",
         "2025-01-01",
         "2023-12-21",
         "2023-02-21",
         "2025-01-01T00:00:00.000+0000",
         "2025-12-31",
         "2024-12-27T00:00:00.000+0000"
        ],
        [
         7,
         "Sell",
         "2023-12-21T00:00:00.000+0000",
         "2023-02-28",
         "2023-12-27",
         "2023-12-21T00:00:00.000+0000",
         "2023-02-01",
         "2024-11-28",
         "2023-05-29",
         "2023-02-01T00:00:00.000+0000",
         "2023-03-20",
         "2023-12-21T00:00:00.000+0000"
        ],
        [
         8,
         "Buy",
         "2024-03-26T00:00:00.000+0000",
         "2024-06-30",
         "2024-03-26",
         "2024-03-26T00:00:00.000+0000",
         "2023-02-01",
         "2024-02-26",
         "1985-05-19",
         "2023-02-01T00:00:00.000+0000",
         "2023-03-20",
         "2024-03-26T00:00:00.000+0000"
        ],
        [
         9,
         "Buy",
         "2023-12-27T00:00:00.000+0000",
         "2023-02-28",
         "2023-12-21",
         "2023-12-27T00:00:00.000+0000",
         "2024-04-21",
         "2023-12-27",
         "2023-04-27",
         "2024-04-01T00:00:00.000+0000",
         "2024-03-26",
         "2023-12-27T00:00:00.000+0000"
        ],
        [
         10,
         "Buy",
         "2024-01-26T00:00:00.000+0000",
         "2024-11-29",
         "2024-11-28",
         "2024-01-26T00:00:00.000+0000",
         "2023-02-21",
         "2023-02-01",
         "2020-04-17",
         "2023-02-01T00:00:00.000+0000",
         "2023-03-20",
         "2024-01-26T00:00:00.000+0000"
        ]
       ],
       "datasetInfos": [],
       "dbfsResultPath": null,
       "isJsonSchema": true,
       "metadata": {},
       "overflow": false,
       "plotOptions": {
        "customPlotOptions": {},
        "displayType": "table",
        "pivotAggregation": null,
        "pivotColumns": null,
        "xColumns": null,
        "yColumns": null
       },
       "removedWidgets": [],
       "schema": [
        {
         "metadata": "{}",
         "name": "S.No",
         "type": "\"integer\""
        },
        {
         "metadata": "{}",
         "name": "Status",
         "type": "\"string\""
        },
        {
         "metadata": "{}",
         "name": "Start_Date",
         "type": "\"timestamp\""
        },
        {
         "metadata": "{\"__detected_date_formats\":\"d/M/yyyy\"}",
         "name": "End_Date",
         "type": "\"date\""
        },
        {
         "metadata": "{\"__detected_date_formats\":\"d/M/yyyy\"}",
         "name": "Expiration_Date",
         "type": "\"date\""
        },
        {
         "metadata": "{}",
         "name": "Last_Date",
         "type": "\"timestamp\""
        },
        {
         "metadata": "{\"__detected_date_formats\":\"d/M/yyyy\"}",
         "name": "Input_Start_Date",
         "type": "\"date\""
        },
        {
         "metadata": "{\"__detected_date_formats\":\"d/M/yyyy\"}",
         "name": "Input_End_Date",
         "type": "\"date\""
        },
        {
         "metadata": "{\"__detected_date_formats\":\"d/M/yyyy\"}",
         "name": "Delivery_Start_Date8",
         "type": "\"date\""
        },
        {
         "metadata": "{}",
         "name": "Delivery_End_Date",
         "type": "\"timestamp\""
        },
        {
         "metadata": "{\"__detected_date_formats\":\"d/M/yyyy\"}",
         "name": "Delivery_Start_Date10",
         "type": "\"date\""
        },
        {
         "metadata": "{}",
         "name": "Pricing_Date",
         "type": "\"timestamp\""
        }
       ],
       "type": "table"
      }
     },
     "output_type": "display_data"
    }
   ],
   "source": [
    "df_ts = df_ts.withColumn(\"Start_Date\", to_timestamp(col(\"Start_Date\"),'dd-MMM-yy').alias('deal_start_date'))\\\n",
    "             .withColumn(\"Last_Date\", to_timestamp(col('Last_Date'),'dd-MMM-yy').alias('last_date'))\\\n",
    "             .withColumn(\"Delivery_End_Date\", to_timestamp(col('Delivery_End_Date'),'d/M/yyyy').alias('delivery_end_date'))\\\n",
    "             .withColumn(\"Pricing_Date\", to_timestamp(col(\"Pricing_Date\"), 'dd-MMM-yy').alias('pricing_date'))\n",
    "\n",
    "display(df_ts.limit(10))"
   ]
  },
  {
   "cell_type": "code",
   "execution_count": 0,
   "metadata": {
    "application/vnd.databricks.v1+cell": {
     "cellMetadata": {
      "byteLimit": 2048000,
      "rowLimit": 10000
     },
     "inputWidgets": {},
     "nuid": "79cc8d96-5014-4231-a31b-5ae201b5c89e",
     "showTitle": false,
     "tableResultSettingsMap": {},
     "title": ""
    }
   },
   "outputs": [
    {
     "output_type": "display_data",
     "data": {
      "text/html": [
       "<style scoped>\n",
       "  .table-result-container {\n",
       "    max-height: 300px;\n",
       "    overflow: auto;\n",
       "  }\n",
       "  table, th, td {\n",
       "    border: 1px solid black;\n",
       "    border-collapse: collapse;\n",
       "  }\n",
       "  th, td {\n",
       "    padding: 5px;\n",
       "  }\n",
       "  th {\n",
       "    text-align: left;\n",
       "  }\n",
       "</style><div class='table-result-container'><table class='table-result'><thead style='background-color: white'><tr><th>S.No</th><th>Status</th><th>Start_Date</th><th>End_Date</th><th>Expiration_Date</th><th>Last_Date</th><th>Input_Start_Date</th><th>Input_End_Date</th><th>Delivery_Start_Date8</th><th>Delivery_End_Date</th><th>Delivery_Start_Date10</th><th>Pricing_Date</th><th>to_date</th></tr></thead><tbody><tr><td>1</td><td>Sell</td><td>2024-01-26T00:00:00.000+0000</td><td>2024-03-31</td><td>2024-02-26</td><td>2024-01-26T00:00:00.000+0000</td><td>2024-03-11</td><td>2024-02-26</td><td>2023-12-21</td><td>2024-03-01T00:00:00.000+0000</td><td>2024-04-02</td><td>2024-01-26T00:00:00.000+0000</td><td>2021-03-02T00:00:00.000+0000</td></tr><tr><td>2</td><td>Buy</td><td>2023-12-21T00:00:00.000+0000</td><td>2024-01-31</td><td>2023-12-21</td><td>2023-12-21T00:00:00.000+0000</td><td>2024-12-11</td><td>2023-12-27</td><td>2024-11-28</td><td>2024-01-01T00:00:00.000+0000</td><td>2024-01-31</td><td>2023-12-21T00:00:00.000+0000</td><td>2021-03-02T00:00:00.000+0000</td></tr><tr><td>3</td><td>Buy</td><td>2025-03-27T00:00:00.000+0000</td><td>2025-06-30</td><td>2025-03-27</td><td>2025-03-27T00:00:00.000+0000</td><td>2025-04-21</td><td>2024-12-27</td><td>2024-02-26</td><td>2025-04-01T00:00:00.000+0000</td><td>2025-06-30</td><td>2025-03-27T00:00:00.000+0000</td><td>2021-03-02T00:00:00.000+0000</td></tr><tr><td>4</td><td>Sell</td><td>2023-12-27T00:00:00.000+0000</td><td>2024-12-31</td><td>2023-12-27</td><td>2023-12-27T00:00:00.000+0000</td><td>2024-07-16</td><td>2023-12-27</td><td>2023-12-27</td><td>2024-01-01T00:00:00.000+0000</td><td>2023-12-27</td><td>2023-12-27T00:00:00.000+0000</td><td>2021-03-02T00:00:00.000+0000</td></tr><tr><td>5</td><td>Buy</td><td>2024-04-29T00:00:00.000+0000</td><td>2024-04-30</td><td>2024-04-29</td><td>2024-04-29T00:00:00.000+0000</td><td>2024-04-22</td><td>2024-03-26</td><td>2023-01-09</td><td>2024-04-01T00:00:00.000+0000</td><td>2024-04-30</td><td>2024-04-29T00:00:00.000+0000</td><td>2021-03-02T00:00:00.000+0000</td></tr><tr><td>6</td><td>Buy</td><td>2024-12-27T00:00:00.000+0000</td><td>2025-12-31</td><td>2024-12-27</td><td>2024-12-27T00:00:00.000+0000</td><td>2025-01-01</td><td>2023-12-21</td><td>2023-02-21</td><td>2025-01-01T00:00:00.000+0000</td><td>2025-12-31</td><td>2024-12-27T00:00:00.000+0000</td><td>2021-03-02T00:00:00.000+0000</td></tr><tr><td>7</td><td>Sell</td><td>2023-12-21T00:00:00.000+0000</td><td>2023-02-28</td><td>2023-12-27</td><td>2023-12-21T00:00:00.000+0000</td><td>2023-02-01</td><td>2024-11-28</td><td>2023-05-29</td><td>2023-02-01T00:00:00.000+0000</td><td>2023-03-20</td><td>2023-12-21T00:00:00.000+0000</td><td>2021-03-02T00:00:00.000+0000</td></tr><tr><td>8</td><td>Buy</td><td>2024-03-26T00:00:00.000+0000</td><td>2024-06-30</td><td>2024-03-26</td><td>2024-03-26T00:00:00.000+0000</td><td>2023-02-01</td><td>2024-02-26</td><td>1985-05-19</td><td>2023-02-01T00:00:00.000+0000</td><td>2023-03-20</td><td>2024-03-26T00:00:00.000+0000</td><td>2021-03-02T00:00:00.000+0000</td></tr><tr><td>9</td><td>Buy</td><td>2023-12-27T00:00:00.000+0000</td><td>2023-02-28</td><td>2023-12-21</td><td>2023-12-27T00:00:00.000+0000</td><td>2024-04-21</td><td>2023-12-27</td><td>2023-04-27</td><td>2024-04-01T00:00:00.000+0000</td><td>2024-03-26</td><td>2023-12-27T00:00:00.000+0000</td><td>2021-03-02T00:00:00.000+0000</td></tr><tr><td>10</td><td>Buy</td><td>2024-01-26T00:00:00.000+0000</td><td>2024-11-29</td><td>2024-11-28</td><td>2024-01-26T00:00:00.000+0000</td><td>2023-02-21</td><td>2023-02-01</td><td>2020-04-17</td><td>2023-02-01T00:00:00.000+0000</td><td>2023-03-20</td><td>2024-01-26T00:00:00.000+0000</td><td>2021-03-02T00:00:00.000+0000</td></tr></tbody></table></div>"
      ]
     },
     "metadata": {
      "application/vnd.databricks.v1+output": {
       "addedWidgets": {},
       "aggData": [],
       "aggError": "",
       "aggOverflow": false,
       "aggSchema": [],
       "aggSeriesLimitReached": false,
       "aggType": "",
       "arguments": {},
       "columnCustomDisplayInfos": {},
       "data": [
        [
         1,
         "Sell",
         "2024-01-26T00:00:00.000+0000",
         "2024-03-31",
         "2024-02-26",
         "2024-01-26T00:00:00.000+0000",
         "2024-03-11",
         "2024-02-26",
         "2023-12-21",
         "2024-03-01T00:00:00.000+0000",
         "2024-04-02",
         "2024-01-26T00:00:00.000+0000",
         "2021-03-02T00:00:00.000+0000"
        ],
        [
         2,
         "Buy",
         "2023-12-21T00:00:00.000+0000",
         "2024-01-31",
         "2023-12-21",
         "2023-12-21T00:00:00.000+0000",
         "2024-12-11",
         "2023-12-27",
         "2024-11-28",
         "2024-01-01T00:00:00.000+0000",
         "2024-01-31",
         "2023-12-21T00:00:00.000+0000",
         "2021-03-02T00:00:00.000+0000"
        ],
        [
         3,
         "Buy",
         "2025-03-27T00:00:00.000+0000",
         "2025-06-30",
         "2025-03-27",
         "2025-03-27T00:00:00.000+0000",
         "2025-04-21",
         "2024-12-27",
         "2024-02-26",
         "2025-04-01T00:00:00.000+0000",
         "2025-06-30",
         "2025-03-27T00:00:00.000+0000",
         "2021-03-02T00:00:00.000+0000"
        ],
        [
         4,
         "Sell",
         "2023-12-27T00:00:00.000+0000",
         "2024-12-31",
         "2023-12-27",
         "2023-12-27T00:00:00.000+0000",
         "2024-07-16",
         "2023-12-27",
         "2023-12-27",
         "2024-01-01T00:00:00.000+0000",
         "2023-12-27",
         "2023-12-27T00:00:00.000+0000",
         "2021-03-02T00:00:00.000+0000"
        ],
        [
         5,
         "Buy",
         "2024-04-29T00:00:00.000+0000",
         "2024-04-30",
         "2024-04-29",
         "2024-04-29T00:00:00.000+0000",
         "2024-04-22",
         "2024-03-26",
         "2023-01-09",
         "2024-04-01T00:00:00.000+0000",
         "2024-04-30",
         "2024-04-29T00:00:00.000+0000",
         "2021-03-02T00:00:00.000+0000"
        ],
        [
         6,
         "Buy",
         "2024-12-27T00:00:00.000+0000",
         "2025-12-31",
         "2024-12-27",
         "2024-12-27T00:00:00.000+0000",
         "2025-01-01",
         "2023-12-21",
         "2023-02-21",
         "2025-01-01T00:00:00.000+0000",
         "2025-12-31",
         "2024-12-27T00:00:00.000+0000",
         "2021-03-02T00:00:00.000+0000"
        ],
        [
         7,
         "Sell",
         "2023-12-21T00:00:00.000+0000",
         "2023-02-28",
         "2023-12-27",
         "2023-12-21T00:00:00.000+0000",
         "2023-02-01",
         "2024-11-28",
         "2023-05-29",
         "2023-02-01T00:00:00.000+0000",
         "2023-03-20",
         "2023-12-21T00:00:00.000+0000",
         "2021-03-02T00:00:00.000+0000"
        ],
        [
         8,
         "Buy",
         "2024-03-26T00:00:00.000+0000",
         "2024-06-30",
         "2024-03-26",
         "2024-03-26T00:00:00.000+0000",
         "2023-02-01",
         "2024-02-26",
         "1985-05-19",
         "2023-02-01T00:00:00.000+0000",
         "2023-03-20",
         "2024-03-26T00:00:00.000+0000",
         "2021-03-02T00:00:00.000+0000"
        ],
        [
         9,
         "Buy",
         "2023-12-27T00:00:00.000+0000",
         "2023-02-28",
         "2023-12-21",
         "2023-12-27T00:00:00.000+0000",
         "2024-04-21",
         "2023-12-27",
         "2023-04-27",
         "2024-04-01T00:00:00.000+0000",
         "2024-03-26",
         "2023-12-27T00:00:00.000+0000",
         "2021-03-02T00:00:00.000+0000"
        ],
        [
         10,
         "Buy",
         "2024-01-26T00:00:00.000+0000",
         "2024-11-29",
         "2024-11-28",
         "2024-01-26T00:00:00.000+0000",
         "2023-02-21",
         "2023-02-01",
         "2020-04-17",
         "2023-02-01T00:00:00.000+0000",
         "2023-03-20",
         "2024-01-26T00:00:00.000+0000",
         "2021-03-02T00:00:00.000+0000"
        ]
       ],
       "datasetInfos": [],
       "dbfsResultPath": null,
       "isJsonSchema": true,
       "metadata": {},
       "overflow": false,
       "plotOptions": {
        "customPlotOptions": {},
        "displayType": "table",
        "pivotAggregation": null,
        "pivotColumns": null,
        "xColumns": null,
        "yColumns": null
       },
       "removedWidgets": [],
       "schema": [
        {
         "metadata": "{}",
         "name": "S.No",
         "type": "\"integer\""
        },
        {
         "metadata": "{}",
         "name": "Status",
         "type": "\"string\""
        },
        {
         "metadata": "{}",
         "name": "Start_Date",
         "type": "\"timestamp\""
        },
        {
         "metadata": "{\"__detected_date_formats\":\"d/M/yyyy\"}",
         "name": "End_Date",
         "type": "\"date\""
        },
        {
         "metadata": "{\"__detected_date_formats\":\"d/M/yyyy\"}",
         "name": "Expiration_Date",
         "type": "\"date\""
        },
        {
         "metadata": "{}",
         "name": "Last_Date",
         "type": "\"timestamp\""
        },
        {
         "metadata": "{\"__detected_date_formats\":\"d/M/yyyy\"}",
         "name": "Input_Start_Date",
         "type": "\"date\""
        },
        {
         "metadata": "{\"__detected_date_formats\":\"d/M/yyyy\"}",
         "name": "Input_End_Date",
         "type": "\"date\""
        },
        {
         "metadata": "{\"__detected_date_formats\":\"d/M/yyyy\"}",
         "name": "Delivery_Start_Date8",
         "type": "\"date\""
        },
        {
         "metadata": "{}",
         "name": "Delivery_End_Date",
         "type": "\"timestamp\""
        },
        {
         "metadata": "{\"__detected_date_formats\":\"d/M/yyyy\"}",
         "name": "Delivery_Start_Date10",
         "type": "\"date\""
        },
        {
         "metadata": "{}",
         "name": "Pricing_Date",
         "type": "\"timestamp\""
        },
        {
         "metadata": "{}",
         "name": "to_date",
         "type": "\"timestamp\""
        }
       ],
       "type": "table"
      }
     },
     "output_type": "display_data"
    }
   ],
   "source": [
    "df_ts = df_ts.withColumn(\"to_date\", to_timestamp(lit('02-Mar-2021'), 'dd-MMM-yyyy'))\n",
    "display(df_ts.limit(10))"
   ]
  },
  {
   "cell_type": "code",
   "execution_count": 0,
   "metadata": {
    "application/vnd.databricks.v1+cell": {
     "cellMetadata": {
      "byteLimit": 2048000,
      "rowLimit": 10000
     },
     "inputWidgets": {},
     "nuid": "9a7e6af2-882a-4146-8037-1484e3e0f611",
     "showTitle": false,
     "tableResultSettingsMap": {},
     "title": ""
    }
   },
   "outputs": [
    {
     "output_type": "display_data",
     "data": {
      "text/html": [
       "<style scoped>\n",
       "  .table-result-container {\n",
       "    max-height: 300px;\n",
       "    overflow: auto;\n",
       "  }\n",
       "  table, th, td {\n",
       "    border: 1px solid black;\n",
       "    border-collapse: collapse;\n",
       "  }\n",
       "  th, td {\n",
       "    padding: 5px;\n",
       "  }\n",
       "  th {\n",
       "    text-align: left;\n",
       "  }\n",
       "</style><div class='table-result-container'><table class='table-result'><thead style='background-color: white'><tr><th>S.No</th><th>Status</th><th>Start_Date</th><th>End_Date</th><th>Expiration_Date</th><th>Last_Date</th><th>Input_Start_Date</th><th>Input_End_Date</th><th>Delivery_Start_Date8</th><th>Delivery_End_Date</th><th>Delivery_Start_Date10</th><th>Pricing_Date</th><th>to_date</th><th>to_timestamp</th></tr></thead><tbody><tr><td>1</td><td>Sell</td><td>2024-01-26T00:00:00.000+0000</td><td>2024-03-31</td><td>2024-02-26</td><td>2024-01-26T00:00:00.000+0000</td><td>2024-03-11</td><td>2024-02-26</td><td>2023-12-21</td><td>2024-03-01T00:00:00.000+0000</td><td>2024-04-02</td><td>2024-01-26T00:00:00.000+0000</td><td>2021-03-02T00:00:00.000+0000</td><td>2021-03-02T17:30:15.000+0000</td></tr><tr><td>2</td><td>Buy</td><td>2023-12-21T00:00:00.000+0000</td><td>2024-01-31</td><td>2023-12-21</td><td>2023-12-21T00:00:00.000+0000</td><td>2024-12-11</td><td>2023-12-27</td><td>2024-11-28</td><td>2024-01-01T00:00:00.000+0000</td><td>2024-01-31</td><td>2023-12-21T00:00:00.000+0000</td><td>2021-03-02T00:00:00.000+0000</td><td>2021-03-02T17:30:15.000+0000</td></tr><tr><td>3</td><td>Buy</td><td>2025-03-27T00:00:00.000+0000</td><td>2025-06-30</td><td>2025-03-27</td><td>2025-03-27T00:00:00.000+0000</td><td>2025-04-21</td><td>2024-12-27</td><td>2024-02-26</td><td>2025-04-01T00:00:00.000+0000</td><td>2025-06-30</td><td>2025-03-27T00:00:00.000+0000</td><td>2021-03-02T00:00:00.000+0000</td><td>2021-03-02T17:30:15.000+0000</td></tr><tr><td>4</td><td>Sell</td><td>2023-12-27T00:00:00.000+0000</td><td>2024-12-31</td><td>2023-12-27</td><td>2023-12-27T00:00:00.000+0000</td><td>2024-07-16</td><td>2023-12-27</td><td>2023-12-27</td><td>2024-01-01T00:00:00.000+0000</td><td>2023-12-27</td><td>2023-12-27T00:00:00.000+0000</td><td>2021-03-02T00:00:00.000+0000</td><td>2021-03-02T17:30:15.000+0000</td></tr><tr><td>5</td><td>Buy</td><td>2024-04-29T00:00:00.000+0000</td><td>2024-04-30</td><td>2024-04-29</td><td>2024-04-29T00:00:00.000+0000</td><td>2024-04-22</td><td>2024-03-26</td><td>2023-01-09</td><td>2024-04-01T00:00:00.000+0000</td><td>2024-04-30</td><td>2024-04-29T00:00:00.000+0000</td><td>2021-03-02T00:00:00.000+0000</td><td>2021-03-02T17:30:15.000+0000</td></tr><tr><td>6</td><td>Buy</td><td>2024-12-27T00:00:00.000+0000</td><td>2025-12-31</td><td>2024-12-27</td><td>2024-12-27T00:00:00.000+0000</td><td>2025-01-01</td><td>2023-12-21</td><td>2023-02-21</td><td>2025-01-01T00:00:00.000+0000</td><td>2025-12-31</td><td>2024-12-27T00:00:00.000+0000</td><td>2021-03-02T00:00:00.000+0000</td><td>2021-03-02T17:30:15.000+0000</td></tr><tr><td>7</td><td>Sell</td><td>2023-12-21T00:00:00.000+0000</td><td>2023-02-28</td><td>2023-12-27</td><td>2023-12-21T00:00:00.000+0000</td><td>2023-02-01</td><td>2024-11-28</td><td>2023-05-29</td><td>2023-02-01T00:00:00.000+0000</td><td>2023-03-20</td><td>2023-12-21T00:00:00.000+0000</td><td>2021-03-02T00:00:00.000+0000</td><td>2021-03-02T17:30:15.000+0000</td></tr><tr><td>8</td><td>Buy</td><td>2024-03-26T00:00:00.000+0000</td><td>2024-06-30</td><td>2024-03-26</td><td>2024-03-26T00:00:00.000+0000</td><td>2023-02-01</td><td>2024-02-26</td><td>1985-05-19</td><td>2023-02-01T00:00:00.000+0000</td><td>2023-03-20</td><td>2024-03-26T00:00:00.000+0000</td><td>2021-03-02T00:00:00.000+0000</td><td>2021-03-02T17:30:15.000+0000</td></tr><tr><td>9</td><td>Buy</td><td>2023-12-27T00:00:00.000+0000</td><td>2023-02-28</td><td>2023-12-21</td><td>2023-12-27T00:00:00.000+0000</td><td>2024-04-21</td><td>2023-12-27</td><td>2023-04-27</td><td>2024-04-01T00:00:00.000+0000</td><td>2024-03-26</td><td>2023-12-27T00:00:00.000+0000</td><td>2021-03-02T00:00:00.000+0000</td><td>2021-03-02T17:30:15.000+0000</td></tr><tr><td>10</td><td>Buy</td><td>2024-01-26T00:00:00.000+0000</td><td>2024-11-29</td><td>2024-11-28</td><td>2024-01-26T00:00:00.000+0000</td><td>2023-02-21</td><td>2023-02-01</td><td>2020-04-17</td><td>2023-02-01T00:00:00.000+0000</td><td>2023-03-20</td><td>2024-01-26T00:00:00.000+0000</td><td>2021-03-02T00:00:00.000+0000</td><td>2021-03-02T17:30:15.000+0000</td></tr></tbody></table></div>"
      ]
     },
     "metadata": {
      "application/vnd.databricks.v1+output": {
       "addedWidgets": {},
       "aggData": [],
       "aggError": "",
       "aggOverflow": false,
       "aggSchema": [],
       "aggSeriesLimitReached": false,
       "aggType": "",
       "arguments": {},
       "columnCustomDisplayInfos": {},
       "data": [
        [
         1,
         "Sell",
         "2024-01-26T00:00:00.000+0000",
         "2024-03-31",
         "2024-02-26",
         "2024-01-26T00:00:00.000+0000",
         "2024-03-11",
         "2024-02-26",
         "2023-12-21",
         "2024-03-01T00:00:00.000+0000",
         "2024-04-02",
         "2024-01-26T00:00:00.000+0000",
         "2021-03-02T00:00:00.000+0000",
         "2021-03-02T17:30:15.000+0000"
        ],
        [
         2,
         "Buy",
         "2023-12-21T00:00:00.000+0000",
         "2024-01-31",
         "2023-12-21",
         "2023-12-21T00:00:00.000+0000",
         "2024-12-11",
         "2023-12-27",
         "2024-11-28",
         "2024-01-01T00:00:00.000+0000",
         "2024-01-31",
         "2023-12-21T00:00:00.000+0000",
         "2021-03-02T00:00:00.000+0000",
         "2021-03-02T17:30:15.000+0000"
        ],
        [
         3,
         "Buy",
         "2025-03-27T00:00:00.000+0000",
         "2025-06-30",
         "2025-03-27",
         "2025-03-27T00:00:00.000+0000",
         "2025-04-21",
         "2024-12-27",
         "2024-02-26",
         "2025-04-01T00:00:00.000+0000",
         "2025-06-30",
         "2025-03-27T00:00:00.000+0000",
         "2021-03-02T00:00:00.000+0000",
         "2021-03-02T17:30:15.000+0000"
        ],
        [
         4,
         "Sell",
         "2023-12-27T00:00:00.000+0000",
         "2024-12-31",
         "2023-12-27",
         "2023-12-27T00:00:00.000+0000",
         "2024-07-16",
         "2023-12-27",
         "2023-12-27",
         "2024-01-01T00:00:00.000+0000",
         "2023-12-27",
         "2023-12-27T00:00:00.000+0000",
         "2021-03-02T00:00:00.000+0000",
         "2021-03-02T17:30:15.000+0000"
        ],
        [
         5,
         "Buy",
         "2024-04-29T00:00:00.000+0000",
         "2024-04-30",
         "2024-04-29",
         "2024-04-29T00:00:00.000+0000",
         "2024-04-22",
         "2024-03-26",
         "2023-01-09",
         "2024-04-01T00:00:00.000+0000",
         "2024-04-30",
         "2024-04-29T00:00:00.000+0000",
         "2021-03-02T00:00:00.000+0000",
         "2021-03-02T17:30:15.000+0000"
        ],
        [
         6,
         "Buy",
         "2024-12-27T00:00:00.000+0000",
         "2025-12-31",
         "2024-12-27",
         "2024-12-27T00:00:00.000+0000",
         "2025-01-01",
         "2023-12-21",
         "2023-02-21",
         "2025-01-01T00:00:00.000+0000",
         "2025-12-31",
         "2024-12-27T00:00:00.000+0000",
         "2021-03-02T00:00:00.000+0000",
         "2021-03-02T17:30:15.000+0000"
        ],
        [
         7,
         "Sell",
         "2023-12-21T00:00:00.000+0000",
         "2023-02-28",
         "2023-12-27",
         "2023-12-21T00:00:00.000+0000",
         "2023-02-01",
         "2024-11-28",
         "2023-05-29",
         "2023-02-01T00:00:00.000+0000",
         "2023-03-20",
         "2023-12-21T00:00:00.000+0000",
         "2021-03-02T00:00:00.000+0000",
         "2021-03-02T17:30:15.000+0000"
        ],
        [
         8,
         "Buy",
         "2024-03-26T00:00:00.000+0000",
         "2024-06-30",
         "2024-03-26",
         "2024-03-26T00:00:00.000+0000",
         "2023-02-01",
         "2024-02-26",
         "1985-05-19",
         "2023-02-01T00:00:00.000+0000",
         "2023-03-20",
         "2024-03-26T00:00:00.000+0000",
         "2021-03-02T00:00:00.000+0000",
         "2021-03-02T17:30:15.000+0000"
        ],
        [
         9,
         "Buy",
         "2023-12-27T00:00:00.000+0000",
         "2023-02-28",
         "2023-12-21",
         "2023-12-27T00:00:00.000+0000",
         "2024-04-21",
         "2023-12-27",
         "2023-04-27",
         "2024-04-01T00:00:00.000+0000",
         "2024-03-26",
         "2023-12-27T00:00:00.000+0000",
         "2021-03-02T00:00:00.000+0000",
         "2021-03-02T17:30:15.000+0000"
        ],
        [
         10,
         "Buy",
         "2024-01-26T00:00:00.000+0000",
         "2024-11-29",
         "2024-11-28",
         "2024-01-26T00:00:00.000+0000",
         "2023-02-21",
         "2023-02-01",
         "2020-04-17",
         "2023-02-01T00:00:00.000+0000",
         "2023-03-20",
         "2024-01-26T00:00:00.000+0000",
         "2021-03-02T00:00:00.000+0000",
         "2021-03-02T17:30:15.000+0000"
        ]
       ],
       "datasetInfos": [],
       "dbfsResultPath": null,
       "isJsonSchema": true,
       "metadata": {},
       "overflow": false,
       "plotOptions": {
        "customPlotOptions": {},
        "displayType": "table",
        "pivotAggregation": null,
        "pivotColumns": null,
        "xColumns": null,
        "yColumns": null
       },
       "removedWidgets": [],
       "schema": [
        {
         "metadata": "{}",
         "name": "S.No",
         "type": "\"integer\""
        },
        {
         "metadata": "{}",
         "name": "Status",
         "type": "\"string\""
        },
        {
         "metadata": "{}",
         "name": "Start_Date",
         "type": "\"timestamp\""
        },
        {
         "metadata": "{\"__detected_date_formats\":\"d/M/yyyy\"}",
         "name": "End_Date",
         "type": "\"date\""
        },
        {
         "metadata": "{\"__detected_date_formats\":\"d/M/yyyy\"}",
         "name": "Expiration_Date",
         "type": "\"date\""
        },
        {
         "metadata": "{}",
         "name": "Last_Date",
         "type": "\"timestamp\""
        },
        {
         "metadata": "{\"__detected_date_formats\":\"d/M/yyyy\"}",
         "name": "Input_Start_Date",
         "type": "\"date\""
        },
        {
         "metadata": "{\"__detected_date_formats\":\"d/M/yyyy\"}",
         "name": "Input_End_Date",
         "type": "\"date\""
        },
        {
         "metadata": "{\"__detected_date_formats\":\"d/M/yyyy\"}",
         "name": "Delivery_Start_Date8",
         "type": "\"date\""
        },
        {
         "metadata": "{}",
         "name": "Delivery_End_Date",
         "type": "\"timestamp\""
        },
        {
         "metadata": "{\"__detected_date_formats\":\"d/M/yyyy\"}",
         "name": "Delivery_Start_Date10",
         "type": "\"date\""
        },
        {
         "metadata": "{}",
         "name": "Pricing_Date",
         "type": "\"timestamp\""
        },
        {
         "metadata": "{}",
         "name": "to_date",
         "type": "\"timestamp\""
        },
        {
         "metadata": "{}",
         "name": "to_timestamp",
         "type": "\"timestamp\""
        }
       ],
       "type": "table"
      }
     },
     "output_type": "display_data"
    }
   ],
   "source": [
    "df_ts = df_ts.withColumn(\"to_timestamp\", to_timestamp(lit('02-Mar-2021 17:30:15'), 'dd-MMM-yyyy HH:mm:ss'))\n",
    "display(df_ts.limit(10))"
   ]
  },
  {
   "cell_type": "markdown",
   "metadata": {
    "application/vnd.databricks.v1+cell": {
     "cellMetadata": {},
     "inputWidgets": {},
     "nuid": "535b86e1-2f66-4d10-9c1f-a9876b785d95",
     "showTitle": false,
     "tableResultSettingsMap": {},
     "title": ""
    }
   },
   "source": [
    "#### **2) Convert date (data type: date) to timestamp**"
   ]
  },
  {
   "cell_type": "code",
   "execution_count": 0,
   "metadata": {
    "application/vnd.databricks.v1+cell": {
     "cellMetadata": {
      "byteLimit": 2048000,
      "rowLimit": 10000
     },
     "inputWidgets": {},
     "nuid": "31091b8a-0915-4e8f-a423-d0d5b9dc378f",
     "showTitle": false,
     "tableResultSettingsMap": {},
     "title": ""
    }
   },
   "outputs": [
    {
     "output_type": "display_data",
     "data": {
      "text/html": [
       "<style scoped>\n",
       "  .table-result-container {\n",
       "    max-height: 300px;\n",
       "    overflow: auto;\n",
       "  }\n",
       "  table, th, td {\n",
       "    border: 1px solid black;\n",
       "    border-collapse: collapse;\n",
       "  }\n",
       "  th, td {\n",
       "    padding: 5px;\n",
       "  }\n",
       "  th {\n",
       "    text-align: left;\n",
       "  }\n",
       "</style><div class='table-result-container'><table class='table-result'><thead style='background-color: white'><tr><th>S.No</th><th>Status</th><th>Start_Date</th><th>End_Date</th><th>Expiration_Date</th><th>Last_Date</th><th>Input_Start_Date</th><th>Input_End_Date</th><th>Delivery_Start_Date8</th><th>Delivery_End_Date</th><th>Delivery_Start_Date10</th><th>Pricing_Date</th><th>to_date</th><th>to_timestamp</th></tr></thead><tbody><tr><td>1</td><td>Sell</td><td>2024-01-26T00:00:00.000+0000</td><td>2024-03-31T00:00:00.000+0000</td><td>2024-02-26T00:00:00.000+0000</td><td>2024-01-26T00:00:00.000+0000</td><td>2024-03-11T00:00:00.000+0000</td><td>2024-02-26T00:00:00.000+0000</td><td>2023-12-21T00:00:00.000+0000</td><td>2024-03-01T00:00:00.000+0000</td><td>2024-04-02T00:00:00.000+0000</td><td>2024-01-26T00:00:00.000+0000</td><td>2021-03-02T00:00:00.000+0000</td><td>2021-03-02T17:30:15.000+0000</td></tr><tr><td>2</td><td>Buy</td><td>2023-12-21T00:00:00.000+0000</td><td>2024-01-31T00:00:00.000+0000</td><td>2023-12-21T00:00:00.000+0000</td><td>2023-12-21T00:00:00.000+0000</td><td>2024-12-11T00:00:00.000+0000</td><td>2023-12-27T00:00:00.000+0000</td><td>2024-11-28T00:00:00.000+0000</td><td>2024-01-01T00:00:00.000+0000</td><td>2024-01-31T00:00:00.000+0000</td><td>2023-12-21T00:00:00.000+0000</td><td>2021-03-02T00:00:00.000+0000</td><td>2021-03-02T17:30:15.000+0000</td></tr><tr><td>3</td><td>Buy</td><td>2025-03-27T00:00:00.000+0000</td><td>2025-06-30T00:00:00.000+0000</td><td>2025-03-27T00:00:00.000+0000</td><td>2025-03-27T00:00:00.000+0000</td><td>2025-04-21T00:00:00.000+0000</td><td>2024-12-27T00:00:00.000+0000</td><td>2024-02-26T00:00:00.000+0000</td><td>2025-04-01T00:00:00.000+0000</td><td>2025-06-30T00:00:00.000+0000</td><td>2025-03-27T00:00:00.000+0000</td><td>2021-03-02T00:00:00.000+0000</td><td>2021-03-02T17:30:15.000+0000</td></tr><tr><td>4</td><td>Sell</td><td>2023-12-27T00:00:00.000+0000</td><td>2024-12-31T00:00:00.000+0000</td><td>2023-12-27T00:00:00.000+0000</td><td>2023-12-27T00:00:00.000+0000</td><td>2024-07-16T00:00:00.000+0000</td><td>2023-12-27T00:00:00.000+0000</td><td>2023-12-27T00:00:00.000+0000</td><td>2024-01-01T00:00:00.000+0000</td><td>2023-12-27T00:00:00.000+0000</td><td>2023-12-27T00:00:00.000+0000</td><td>2021-03-02T00:00:00.000+0000</td><td>2021-03-02T17:30:15.000+0000</td></tr><tr><td>5</td><td>Buy</td><td>2024-04-29T00:00:00.000+0000</td><td>2024-04-30T00:00:00.000+0000</td><td>2024-04-29T00:00:00.000+0000</td><td>2024-04-29T00:00:00.000+0000</td><td>2024-04-22T00:00:00.000+0000</td><td>2024-03-26T00:00:00.000+0000</td><td>2023-01-09T00:00:00.000+0000</td><td>2024-04-01T00:00:00.000+0000</td><td>2024-04-30T00:00:00.000+0000</td><td>2024-04-29T00:00:00.000+0000</td><td>2021-03-02T00:00:00.000+0000</td><td>2021-03-02T17:30:15.000+0000</td></tr><tr><td>6</td><td>Buy</td><td>2024-12-27T00:00:00.000+0000</td><td>2025-12-31T00:00:00.000+0000</td><td>2024-12-27T00:00:00.000+0000</td><td>2024-12-27T00:00:00.000+0000</td><td>2025-01-01T00:00:00.000+0000</td><td>2023-12-21T00:00:00.000+0000</td><td>2023-02-21T00:00:00.000+0000</td><td>2025-01-01T00:00:00.000+0000</td><td>2025-12-31T00:00:00.000+0000</td><td>2024-12-27T00:00:00.000+0000</td><td>2021-03-02T00:00:00.000+0000</td><td>2021-03-02T17:30:15.000+0000</td></tr><tr><td>7</td><td>Sell</td><td>2023-12-21T00:00:00.000+0000</td><td>2023-02-28T00:00:00.000+0000</td><td>2023-12-27T00:00:00.000+0000</td><td>2023-12-21T00:00:00.000+0000</td><td>2023-02-01T00:00:00.000+0000</td><td>2024-11-28T00:00:00.000+0000</td><td>2023-05-29T00:00:00.000+0000</td><td>2023-02-01T00:00:00.000+0000</td><td>2023-03-20T00:00:00.000+0000</td><td>2023-12-21T00:00:00.000+0000</td><td>2021-03-02T00:00:00.000+0000</td><td>2021-03-02T17:30:15.000+0000</td></tr><tr><td>8</td><td>Buy</td><td>2024-03-26T00:00:00.000+0000</td><td>2024-06-30T00:00:00.000+0000</td><td>2024-03-26T00:00:00.000+0000</td><td>2024-03-26T00:00:00.000+0000</td><td>2023-02-01T00:00:00.000+0000</td><td>2024-02-26T00:00:00.000+0000</td><td>1985-05-19T00:00:00.000+0000</td><td>2023-02-01T00:00:00.000+0000</td><td>2023-03-20T00:00:00.000+0000</td><td>2024-03-26T00:00:00.000+0000</td><td>2021-03-02T00:00:00.000+0000</td><td>2021-03-02T17:30:15.000+0000</td></tr><tr><td>9</td><td>Buy</td><td>2023-12-27T00:00:00.000+0000</td><td>2023-02-28T00:00:00.000+0000</td><td>2023-12-21T00:00:00.000+0000</td><td>2023-12-27T00:00:00.000+0000</td><td>2024-04-21T00:00:00.000+0000</td><td>2023-12-27T00:00:00.000+0000</td><td>2023-04-27T00:00:00.000+0000</td><td>2024-04-01T00:00:00.000+0000</td><td>2024-03-26T00:00:00.000+0000</td><td>2023-12-27T00:00:00.000+0000</td><td>2021-03-02T00:00:00.000+0000</td><td>2021-03-02T17:30:15.000+0000</td></tr><tr><td>10</td><td>Buy</td><td>2024-01-26T00:00:00.000+0000</td><td>2024-11-29T00:00:00.000+0000</td><td>2024-11-28T00:00:00.000+0000</td><td>2024-01-26T00:00:00.000+0000</td><td>2023-02-21T00:00:00.000+0000</td><td>2023-02-01T00:00:00.000+0000</td><td>2020-04-17T00:00:00.000+0000</td><td>2023-02-01T00:00:00.000+0000</td><td>2023-03-20T00:00:00.000+0000</td><td>2024-01-26T00:00:00.000+0000</td><td>2021-03-02T00:00:00.000+0000</td><td>2021-03-02T17:30:15.000+0000</td></tr></tbody></table></div>"
      ]
     },
     "metadata": {
      "application/vnd.databricks.v1+output": {
       "addedWidgets": {},
       "aggData": [],
       "aggError": "",
       "aggOverflow": false,
       "aggSchema": [],
       "aggSeriesLimitReached": false,
       "aggType": "",
       "arguments": {},
       "columnCustomDisplayInfos": {},
       "data": [
        [
         1,
         "Sell",
         "2024-01-26T00:00:00.000+0000",
         "2024-03-31T00:00:00.000+0000",
         "2024-02-26T00:00:00.000+0000",
         "2024-01-26T00:00:00.000+0000",
         "2024-03-11T00:00:00.000+0000",
         "2024-02-26T00:00:00.000+0000",
         "2023-12-21T00:00:00.000+0000",
         "2024-03-01T00:00:00.000+0000",
         "2024-04-02T00:00:00.000+0000",
         "2024-01-26T00:00:00.000+0000",
         "2021-03-02T00:00:00.000+0000",
         "2021-03-02T17:30:15.000+0000"
        ],
        [
         2,
         "Buy",
         "2023-12-21T00:00:00.000+0000",
         "2024-01-31T00:00:00.000+0000",
         "2023-12-21T00:00:00.000+0000",
         "2023-12-21T00:00:00.000+0000",
         "2024-12-11T00:00:00.000+0000",
         "2023-12-27T00:00:00.000+0000",
         "2024-11-28T00:00:00.000+0000",
         "2024-01-01T00:00:00.000+0000",
         "2024-01-31T00:00:00.000+0000",
         "2023-12-21T00:00:00.000+0000",
         "2021-03-02T00:00:00.000+0000",
         "2021-03-02T17:30:15.000+0000"
        ],
        [
         3,
         "Buy",
         "2025-03-27T00:00:00.000+0000",
         "2025-06-30T00:00:00.000+0000",
         "2025-03-27T00:00:00.000+0000",
         "2025-03-27T00:00:00.000+0000",
         "2025-04-21T00:00:00.000+0000",
         "2024-12-27T00:00:00.000+0000",
         "2024-02-26T00:00:00.000+0000",
         "2025-04-01T00:00:00.000+0000",
         "2025-06-30T00:00:00.000+0000",
         "2025-03-27T00:00:00.000+0000",
         "2021-03-02T00:00:00.000+0000",
         "2021-03-02T17:30:15.000+0000"
        ],
        [
         4,
         "Sell",
         "2023-12-27T00:00:00.000+0000",
         "2024-12-31T00:00:00.000+0000",
         "2023-12-27T00:00:00.000+0000",
         "2023-12-27T00:00:00.000+0000",
         "2024-07-16T00:00:00.000+0000",
         "2023-12-27T00:00:00.000+0000",
         "2023-12-27T00:00:00.000+0000",
         "2024-01-01T00:00:00.000+0000",
         "2023-12-27T00:00:00.000+0000",
         "2023-12-27T00:00:00.000+0000",
         "2021-03-02T00:00:00.000+0000",
         "2021-03-02T17:30:15.000+0000"
        ],
        [
         5,
         "Buy",
         "2024-04-29T00:00:00.000+0000",
         "2024-04-30T00:00:00.000+0000",
         "2024-04-29T00:00:00.000+0000",
         "2024-04-29T00:00:00.000+0000",
         "2024-04-22T00:00:00.000+0000",
         "2024-03-26T00:00:00.000+0000",
         "2023-01-09T00:00:00.000+0000",
         "2024-04-01T00:00:00.000+0000",
         "2024-04-30T00:00:00.000+0000",
         "2024-04-29T00:00:00.000+0000",
         "2021-03-02T00:00:00.000+0000",
         "2021-03-02T17:30:15.000+0000"
        ],
        [
         6,
         "Buy",
         "2024-12-27T00:00:00.000+0000",
         "2025-12-31T00:00:00.000+0000",
         "2024-12-27T00:00:00.000+0000",
         "2024-12-27T00:00:00.000+0000",
         "2025-01-01T00:00:00.000+0000",
         "2023-12-21T00:00:00.000+0000",
         "2023-02-21T00:00:00.000+0000",
         "2025-01-01T00:00:00.000+0000",
         "2025-12-31T00:00:00.000+0000",
         "2024-12-27T00:00:00.000+0000",
         "2021-03-02T00:00:00.000+0000",
         "2021-03-02T17:30:15.000+0000"
        ],
        [
         7,
         "Sell",
         "2023-12-21T00:00:00.000+0000",
         "2023-02-28T00:00:00.000+0000",
         "2023-12-27T00:00:00.000+0000",
         "2023-12-21T00:00:00.000+0000",
         "2023-02-01T00:00:00.000+0000",
         "2024-11-28T00:00:00.000+0000",
         "2023-05-29T00:00:00.000+0000",
         "2023-02-01T00:00:00.000+0000",
         "2023-03-20T00:00:00.000+0000",
         "2023-12-21T00:00:00.000+0000",
         "2021-03-02T00:00:00.000+0000",
         "2021-03-02T17:30:15.000+0000"
        ],
        [
         8,
         "Buy",
         "2024-03-26T00:00:00.000+0000",
         "2024-06-30T00:00:00.000+0000",
         "2024-03-26T00:00:00.000+0000",
         "2024-03-26T00:00:00.000+0000",
         "2023-02-01T00:00:00.000+0000",
         "2024-02-26T00:00:00.000+0000",
         "1985-05-19T00:00:00.000+0000",
         "2023-02-01T00:00:00.000+0000",
         "2023-03-20T00:00:00.000+0000",
         "2024-03-26T00:00:00.000+0000",
         "2021-03-02T00:00:00.000+0000",
         "2021-03-02T17:30:15.000+0000"
        ],
        [
         9,
         "Buy",
         "2023-12-27T00:00:00.000+0000",
         "2023-02-28T00:00:00.000+0000",
         "2023-12-21T00:00:00.000+0000",
         "2023-12-27T00:00:00.000+0000",
         "2024-04-21T00:00:00.000+0000",
         "2023-12-27T00:00:00.000+0000",
         "2023-04-27T00:00:00.000+0000",
         "2024-04-01T00:00:00.000+0000",
         "2024-03-26T00:00:00.000+0000",
         "2023-12-27T00:00:00.000+0000",
         "2021-03-02T00:00:00.000+0000",
         "2021-03-02T17:30:15.000+0000"
        ],
        [
         10,
         "Buy",
         "2024-01-26T00:00:00.000+0000",
         "2024-11-29T00:00:00.000+0000",
         "2024-11-28T00:00:00.000+0000",
         "2024-01-26T00:00:00.000+0000",
         "2023-02-21T00:00:00.000+0000",
         "2023-02-01T00:00:00.000+0000",
         "2020-04-17T00:00:00.000+0000",
         "2023-02-01T00:00:00.000+0000",
         "2023-03-20T00:00:00.000+0000",
         "2024-01-26T00:00:00.000+0000",
         "2021-03-02T00:00:00.000+0000",
         "2021-03-02T17:30:15.000+0000"
        ]
       ],
       "datasetInfos": [],
       "dbfsResultPath": null,
       "isJsonSchema": true,
       "metadata": {},
       "overflow": false,
       "plotOptions": {
        "customPlotOptions": {},
        "displayType": "table",
        "pivotAggregation": null,
        "pivotColumns": null,
        "xColumns": null,
        "yColumns": null
       },
       "removedWidgets": [],
       "schema": [
        {
         "metadata": "{}",
         "name": "S.No",
         "type": "\"integer\""
        },
        {
         "metadata": "{}",
         "name": "Status",
         "type": "\"string\""
        },
        {
         "metadata": "{}",
         "name": "Start_Date",
         "type": "\"timestamp\""
        },
        {
         "metadata": "{}",
         "name": "End_Date",
         "type": "\"timestamp\""
        },
        {
         "metadata": "{}",
         "name": "Expiration_Date",
         "type": "\"timestamp\""
        },
        {
         "metadata": "{}",
         "name": "Last_Date",
         "type": "\"timestamp\""
        },
        {
         "metadata": "{}",
         "name": "Input_Start_Date",
         "type": "\"timestamp\""
        },
        {
         "metadata": "{}",
         "name": "Input_End_Date",
         "type": "\"timestamp\""
        },
        {
         "metadata": "{}",
         "name": "Delivery_Start_Date8",
         "type": "\"timestamp\""
        },
        {
         "metadata": "{}",
         "name": "Delivery_End_Date",
         "type": "\"timestamp\""
        },
        {
         "metadata": "{}",
         "name": "Delivery_Start_Date10",
         "type": "\"timestamp\""
        },
        {
         "metadata": "{}",
         "name": "Pricing_Date",
         "type": "\"timestamp\""
        },
        {
         "metadata": "{}",
         "name": "to_date",
         "type": "\"timestamp\""
        },
        {
         "metadata": "{}",
         "name": "to_timestamp",
         "type": "\"timestamp\""
        }
       ],
       "type": "table"
      }
     },
     "output_type": "display_data"
    }
   ],
   "source": [
    "df_ts = df_ts.withColumn(\"End_Date_ts\", to_timestamp(col(\"End_Date\").alias('end_date')))\\\n",
    "             .withColumn(\"Expiration_Date_ts\", to_timestamp(col('Expiration_Date').alias('expiration_date')))\\\n",
    "             .withColumn(\"Input_Start_Date_ts\", to_timestamp(col('Input_Start_Date').alias('input_start_date')))\\\n",
    "             .withColumn(\"Input_End_Date_ts\", to_timestamp(col(\"Input_End_Date\").alias('input_end_date')))\\\n",
    "             .withColumn(\"Delivery_Start_Date8_ts\", to_timestamp(col(\"Delivery_Start_Date8\").alias('delivery_start_date8')))\\\n",
    "             .withColumn(\"Delivery_Start_Date10_ts\", to_timestamp(col(\"Delivery_Start_Date10\").alias('delivery_start_date10')))\n",
    "\n",
    "display(df_ts.limit(10))"
   ]
  },
  {
   "cell_type": "markdown",
   "metadata": {
    "application/vnd.databricks.v1+cell": {
     "cellMetadata": {},
     "inputWidgets": {},
     "nuid": "97d1ae9c-659c-4ab9-8360-4491f713b2ab",
     "showTitle": false,
     "tableResultSettingsMap": {},
     "title": ""
    }
   },
   "source": [
    "#### **3) Convert timestamp (data type: string) to timestamp**"
   ]
  },
  {
   "cell_type": "code",
   "execution_count": 0,
   "metadata": {
    "application/vnd.databricks.v1+cell": {
     "cellMetadata": {
      "byteLimit": 2048000,
      "rowLimit": 10000
     },
     "inputWidgets": {},
     "nuid": "e5f5c425-d71a-4bea-a209-1332de05e07a",
     "showTitle": false,
     "tableResultSettingsMap": {},
     "title": ""
    }
   },
   "outputs": [
    {
     "output_type": "display_data",
     "data": {
      "text/html": [
       "<style scoped>\n",
       "  .table-result-container {\n",
       "    max-height: 300px;\n",
       "    overflow: auto;\n",
       "  }\n",
       "  table, th, td {\n",
       "    border: 1px solid black;\n",
       "    border-collapse: collapse;\n",
       "  }\n",
       "  th, td {\n",
       "    padding: 5px;\n",
       "  }\n",
       "  th {\n",
       "    text-align: left;\n",
       "  }\n",
       "</style><div class='table-result-container'><table class='table-result'><thead style='background-color: white'><tr><th>date</th><th>time</th></tr></thead><tbody><tr><td>20140228</td><td>28-Feb-2014 10:00:00.123</td></tr><tr><td>20160229</td><td>20-Feb-2016 08:08:08.999</td></tr><tr><td>20171031</td><td>31-Dec-2017 11:59:59.123</td></tr><tr><td>20191130</td><td>31-Aug-2019 00:00:00.000</td></tr></tbody></table></div>"
      ]
     },
     "metadata": {
      "application/vnd.databricks.v1+output": {
       "addedWidgets": {},
       "aggData": [],
       "aggError": "",
       "aggOverflow": false,
       "aggSchema": [],
       "aggSeriesLimitReached": false,
       "aggType": "",
       "arguments": {},
       "columnCustomDisplayInfos": {},
       "data": [
        [
         20140228,
         "28-Feb-2014 10:00:00.123"
        ],
        [
         20160229,
         "20-Feb-2016 08:08:08.999"
        ],
        [
         20171031,
         "31-Dec-2017 11:59:59.123"
        ],
        [
         20191130,
         "31-Aug-2019 00:00:00.000"
        ]
       ],
       "datasetInfos": [],
       "dbfsResultPath": null,
       "isJsonSchema": true,
       "metadata": {},
       "overflow": false,
       "plotOptions": {
        "customPlotOptions": {},
        "displayType": "table",
        "pivotAggregation": null,
        "pivotColumns": null,
        "xColumns": null,
        "yColumns": null
       },
       "removedWidgets": [],
       "schema": [
        {
         "metadata": "{}",
         "name": "date",
         "type": "\"long\""
        },
        {
         "metadata": "{}",
         "name": "time",
         "type": "\"string\""
        }
       ],
       "type": "table"
      }
     },
     "output_type": "display_data"
    }
   ],
   "source": [
    "datetimes = [(20140228, \"28-Feb-2014 10:00:00.123\"),\n",
    "             (20160229, \"20-Feb-2016 08:08:08.999\"),\n",
    "             (20171031, \"31-Dec-2017 11:59:59.123\"),\n",
    "             (20191130, \"31-Aug-2019 00:00:00.000\")\n",
    "             ]\n",
    "\n",
    "datetimesDF = spark.createDataFrame(datetimes, schema=\"date BIGINT, time STRING\")\n",
    "display(datetimesDF)"
   ]
  },
  {
   "cell_type": "code",
   "execution_count": 0,
   "metadata": {
    "application/vnd.databricks.v1+cell": {
     "cellMetadata": {
      "byteLimit": 2048000,
      "rowLimit": 10000
     },
     "inputWidgets": {},
     "nuid": "23a32505-fec4-49a6-80b0-7f71e34e3dbb",
     "showTitle": false,
     "tableResultSettingsMap": {},
     "title": ""
    }
   },
   "outputs": [
    {
     "output_type": "display_data",
     "data": {
      "text/html": [
       "<style scoped>\n",
       "  .table-result-container {\n",
       "    max-height: 300px;\n",
       "    overflow: auto;\n",
       "  }\n",
       "  table, th, td {\n",
       "    border: 1px solid black;\n",
       "    border-collapse: collapse;\n",
       "  }\n",
       "  th, td {\n",
       "    padding: 5px;\n",
       "  }\n",
       "  th {\n",
       "    text-align: left;\n",
       "  }\n",
       "</style><div class='table-result-container'><table class='table-result'><thead style='background-color: white'><tr><th>date</th><th>time</th><th>to_date</th><th>to_timestamp</th></tr></thead><tbody><tr><td>20140228</td><td>28-Feb-2014 10:00:00.123</td><td>2014-02-28</td><td>2014-02-28T10:00:00.123+0000</td></tr><tr><td>20160229</td><td>20-Feb-2016 08:08:08.999</td><td>2016-02-29</td><td>2016-02-20T08:08:08.999+0000</td></tr><tr><td>20171031</td><td>31-Dec-2017 11:59:59.123</td><td>2017-10-31</td><td>2017-12-31T11:59:59.123+0000</td></tr><tr><td>20191130</td><td>31-Aug-2019 00:00:00.000</td><td>2019-11-30</td><td>2019-08-31T00:00:00.000+0000</td></tr></tbody></table></div>"
      ]
     },
     "metadata": {
      "application/vnd.databricks.v1+output": {
       "addedWidgets": {},
       "aggData": [],
       "aggError": "",
       "aggOverflow": false,
       "aggSchema": [],
       "aggSeriesLimitReached": false,
       "aggType": "",
       "arguments": {},
       "columnCustomDisplayInfos": {},
       "data": [
        [
         20140228,
         "28-Feb-2014 10:00:00.123",
         "2014-02-28",
         "2014-02-28T10:00:00.123+0000"
        ],
        [
         20160229,
         "20-Feb-2016 08:08:08.999",
         "2016-02-29",
         "2016-02-20T08:08:08.999+0000"
        ],
        [
         20171031,
         "31-Dec-2017 11:59:59.123",
         "2017-10-31",
         "2017-12-31T11:59:59.123+0000"
        ],
        [
         20191130,
         "31-Aug-2019 00:00:00.000",
         "2019-11-30",
         "2019-08-31T00:00:00.000+0000"
        ]
       ],
       "datasetInfos": [],
       "dbfsResultPath": null,
       "isJsonSchema": true,
       "metadata": {},
       "overflow": false,
       "plotOptions": {
        "customPlotOptions": {},
        "displayType": "table",
        "pivotAggregation": null,
        "pivotColumns": null,
        "xColumns": null,
        "yColumns": null
       },
       "removedWidgets": [],
       "schema": [
        {
         "metadata": "{}",
         "name": "date",
         "type": "\"long\""
        },
        {
         "metadata": "{}",
         "name": "time",
         "type": "\"string\""
        },
        {
         "metadata": "{}",
         "name": "to_date",
         "type": "\"date\""
        },
        {
         "metadata": "{}",
         "name": "to_timestamp",
         "type": "\"timestamp\""
        }
       ],
       "type": "table"
      }
     },
     "output_type": "display_data"
    }
   ],
   "source": [
    "datetimesDF = datetimesDF\\\n",
    "    .withColumn('to_date', to_date(col('date').cast('string'), 'yyyyMMdd'))\\\n",
    "    .withColumn('to_timestamp', to_timestamp(col('time'), 'dd-MMM-yyyy HH:mm:ss.SSS'))\n",
    " \n",
    "display(datetimesDF)"
   ]
  }
 ],
 "metadata": {
  "application/vnd.databricks.v1+notebook": {
   "computePreferences": null,
   "dashboards": [],
   "environmentMetadata": null,
   "inputWidgetPreferences": null,
   "language": "python",
   "notebookMetadata": {
    "mostRecentlyExecutedCommandWithImplicitDF": {
     "commandId": 4198793714564843,
     "dataframes": [
      "_sqldf"
     ]
    },
    "pythonIndentUnit": 4
   },
   "notebookName": "25_How to convert string, date type columns to timestamp using to_timestamp()",
   "widgets": {}
  }
 },
 "nbformat": 4,
 "nbformat_minor": 0
}