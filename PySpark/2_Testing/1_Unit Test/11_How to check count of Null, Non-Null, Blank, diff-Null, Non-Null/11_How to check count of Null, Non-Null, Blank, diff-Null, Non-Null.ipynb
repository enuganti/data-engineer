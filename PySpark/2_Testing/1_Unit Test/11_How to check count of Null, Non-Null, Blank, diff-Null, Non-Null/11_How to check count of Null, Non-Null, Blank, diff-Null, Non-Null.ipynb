{
 "cells": [
  {
   "cell_type": "markdown",
   "metadata": {
    "application/vnd.databricks.v1+cell": {
     "cellMetadata": {
      "byteLimit": 2048000,
      "rowLimit": 10000
     },
     "inputWidgets": {},
     "nuid": "fdb78652-547e-4d42-a41c-72f05361ab95",
     "showTitle": false,
     "tableResultSettingsMap": {},
     "title": ""
    }
   },
   "source": [
    "#### Unit Test\n",
    "\n",
    "**How to count Null's, Non-Null's, Blank, Non-Blank values**\n",
    "\n",
    "     a) Count of NULL values\n",
    "     b) Count of non-NULL values\n",
    "     c) Count of blank (empty string) values\n",
    "     d) Count of non-null and non-blank values\n",
    "     e) Check for any of the specified columns is null's\n",
    "     f) How to find the number of rows where all columns are NULL?\n",
    "     g) How to count the number of NULL values in a column?\n",
    "     h) All in one summary\n",
    "     i) All in one summary using SUM(CASE … END)\n",
    "     j) Grouping by status"
   ]
  },
  {
   "cell_type": "code",
   "execution_count": 0,
   "metadata": {
    "application/vnd.databricks.v1+cell": {
     "cellMetadata": {
      "byteLimit": 2048000,
      "rowLimit": 10000
     },
     "inputWidgets": {},
     "nuid": "bb2b26c7-cae1-42ae-a13c-7c1f58fe21a5",
     "showTitle": false,
     "tableResultSettingsMap": {},
     "title": ""
    }
   },
   "outputs": [],
   "source": [
    "from pyspark.sql.types import StructType, StructField, IntegerType, StringType\n",
    "\n",
    "schema = StructType([\n",
    "    StructField(\"OBJECT_ID\", IntegerType(), True),\n",
    "    StructField(\"Name\", StringType(), True),\n",
    "    StructField(\"department\", StringType(), True),\n",
    "    StructField(\"Customer_ID\", IntegerType(), True),\n",
    "    StructField(\"Change_Date\", StringType(), True),\n",
    "    StructField(\"Load_Date\", StringType(), True),\n",
    "    StructField(\"Status\", StringType(), True),\n",
    "    StructField(\"description\", StringType(), True),\n",
    "    StructField(\"start_date_source\", StringType(), True),\n",
    "    StructField(\"start_date_bronze\", StringType(), True)\n",
    "])\n"
   ]
  },
  {
   "cell_type": "code",
   "execution_count": 0,
   "metadata": {
    "application/vnd.databricks.v1+cell": {
     "cellMetadata": {
      "byteLimit": 2048000,
      "rowLimit": 10000
     },
     "inputWidgets": {},
     "nuid": "cecb1032-86b8-4469-b648-6543120e75e3",
     "showTitle": true,
     "tableResultSettingsMap": {},
     "title": "1) sample dataframe"
    }
   },
   "outputs": [
    {
     "output_type": "display_data",
     "data": {
      "text/html": [
       "<style scoped>\n",
       "  .table-result-container {\n",
       "    max-height: 300px;\n",
       "    overflow: auto;\n",
       "  }\n",
       "  table, th, td {\n",
       "    border: 1px solid black;\n",
       "    border-collapse: collapse;\n",
       "  }\n",
       "  th, td {\n",
       "    padding: 5px;\n",
       "  }\n",
       "  th {\n",
       "    text-align: left;\n",
       "  }\n",
       "</style><div class='table-result-container'><table class='table-result'><thead style='background-color: white'><tr><th>OBJECT_ID</th><th>Name</th><th>department</th><th>Customer_ID</th><th>Change_Date</th><th>Load_Date</th><th>Status</th><th>description</th><th>start_date_source</th><th>start_date_bronze</th></tr></thead><tbody><tr><td>583069</td><td>Harish</td><td>null</td><td>13681832</td><td>null</td><td>2025-06-02</td><td>null</td><td>E-Mail</td><td>1724256609000</td><td>null</td></tr><tr><td>510102</td><td></td><td>HR</td><td>40685884</td><td>2025-04-02T04:15:05Z</td><td>2025-06-02</td><td>Finished</td><td>Internet</td><td>1724256609000</td><td>null</td></tr><tr><td>506654</td><td>Basha</td><td></td><td>null</td><td>2025-04-02T04:15:05Z</td><td>2025-06-02</td><td>Not Relevant</td><td>Social Media</td><td>1724256609000</td><td>null</td></tr><tr><td>583195</td><td>null</td><td>Finance</td><td>12619703</td><td>null</td><td>2025-06-02</td><td>Started</td><td>Messaging</td><td>1724256609000</td><td>null</td></tr><tr><td>470450</td><td>Venky</td><td>IT</td><td>8541938</td><td>2025-04-02T07:59:14Z</td><td>2025-06-02</td><td>Not Relevant</td><td>IoT</td><td>1724256609000</td><td>null</td></tr><tr><td>558253</td><td></td><td>null</td><td>2269299</td><td>null</td><td>2025-06-02</td><td>Open</td><td>null</td><td>1724256609000</td><td>null</td></tr><tr><td>null</td><td>Krishna</td><td>Sales</td><td>null</td><td>2025-04-02T06:12:18Z</td><td>2025-06-02</td><td>null</td><td>Manual data entry</td><td>1724256609000</td><td>null</td></tr><tr><td>583181</td><td>Kiran</td><td>Marketing</td><td>39714449</td><td>null</td><td>2025-06-02</td><td>Finished</td><td>Other</td><td>1724256609000</td><td>null</td></tr><tr><td>583119</td><td>Hitesh</td><td>null</td><td>10183510</td><td>2025-04-02T04:15:13Z</td><td>null</td><td>Open</td><td>Telephony</td><td>1724256609000</td><td>null</td></tr><tr><td>577519</td><td></td><td>Accounts</td><td>null</td><td>2025-04-02T08:27:50Z</td><td>2025-06-02</td><td>Not Relevant</td><td>null</td><td>1724256609000</td><td>null</td></tr><tr><td>583151</td><td>Sushma</td><td>Accounts</td><td>40442877</td><td>null</td><td>2025-06-02</td><td>Open</td><td>Fax</td><td>1724256609000</td><td>null</td></tr><tr><td>583167</td><td>null</td><td>Admin</td><td>16474490</td><td>2025-04-02T09:07:27Z</td><td>null</td><td>Not Relevant</td><td>Feedback</td><td>1724256609000</td><td>null</td></tr><tr><td>583162</td><td>Buvan</td><td>IT</td><td>7447339</td><td>2025-04-02T16:46:07Z</td><td>null</td><td>Finished</td><td>WorkZone</td><td>1724256609000</td><td>null</td></tr><tr><td>575216</td><td>Mohan</td><td>Admin</td><td>17258071</td><td>2025-04-02T01:51:03Z</td><td>2025-06-02</td><td>Open</td><td>IOT</td><td>1724256609000</td><td>null</td></tr><tr><td>null</td><td>null</td><td>null</td><td>null</td><td>null</td><td>null</td><td>null</td><td>null</td><td>null</td><td>null</td></tr><tr><td>583173</td><td>Lohith</td><td>Finance</td><td>15113750</td><td>null</td><td>2025-06-02</td><td>Finished</td><td>null</td><td>1724256609000</td><td>null</td></tr><tr><td>583099</td><td>Loba</td><td>Testing</td><td>40505376</td><td>2025-04-02T19:54:50Z</td><td>null</td><td>Started</td><td>null</td><td>1724256609000</td><td>null</td></tr></tbody></table></div>"
      ]
     },
     "metadata": {
      "application/vnd.databricks.v1+output": {
       "addedWidgets": {},
       "aggData": [],
       "aggError": "",
       "aggOverflow": false,
       "aggSchema": [],
       "aggSeriesLimitReached": false,
       "aggType": "",
       "arguments": {},
       "columnCustomDisplayInfos": {},
       "data": [
        [
         583069,
         "Harish",
         null,
         13681832,
         null,
         "2025-06-02",
         null,
         "E-Mail",
         "1724256609000",
         null
        ],
        [
         510102,
         "",
         "HR",
         40685884,
         "2025-04-02T04:15:05Z",
         "2025-06-02",
         "Finished",
         "Internet",
         "1724256609000",
         null
        ],
        [
         506654,
         "Basha",
         "",
         null,
         "2025-04-02T04:15:05Z",
         "2025-06-02",
         "Not Relevant",
         "Social Media",
         "1724256609000",
         null
        ],
        [
         583195,
         null,
         "Finance",
         12619703,
         null,
         "2025-06-02",
         "Started",
         "Messaging",
         "1724256609000",
         null
        ],
        [
         470450,
         "Venky",
         "IT",
         8541938,
         "2025-04-02T07:59:14Z",
         "2025-06-02",
         "Not Relevant",
         "IoT",
         "1724256609000",
         null
        ],
        [
         558253,
         "",
         null,
         2269299,
         null,
         "2025-06-02",
         "Open",
         null,
         "1724256609000",
         null
        ],
        [
         null,
         "Krishna",
         "Sales",
         null,
         "2025-04-02T06:12:18Z",
         "2025-06-02",
         null,
         "Manual data entry",
         "1724256609000",
         null
        ],
        [
         583181,
         "Kiran",
         "Marketing",
         39714449,
         null,
         "2025-06-02",
         "Finished",
         "Other",
         "1724256609000",
         null
        ],
        [
         583119,
         "Hitesh",
         null,
         10183510,
         "2025-04-02T04:15:13Z",
         null,
         "Open",
         "Telephony",
         "1724256609000",
         null
        ],
        [
         577519,
         "",
         "Accounts",
         null,
         "2025-04-02T08:27:50Z",
         "2025-06-02",
         "Not Relevant",
         null,
         "1724256609000",
         null
        ],
        [
         583151,
         "Sushma",
         "Accounts",
         40442877,
         null,
         "2025-06-02",
         "Open",
         "Fax",
         "1724256609000",
         null
        ],
        [
         583167,
         null,
         "Admin",
         16474490,
         "2025-04-02T09:07:27Z",
         null,
         "Not Relevant",
         "Feedback",
         "1724256609000",
         null
        ],
        [
         583162,
         "Buvan",
         "IT",
         7447339,
         "2025-04-02T16:46:07Z",
         null,
         "Finished",
         "WorkZone",
         "1724256609000",
         null
        ],
        [
         575216,
         "Mohan",
         "Admin",
         17258071,
         "2025-04-02T01:51:03Z",
         "2025-06-02",
         "Open",
         "IOT",
         "1724256609000",
         null
        ],
        [
         null,
         null,
         null,
         null,
         null,
         null,
         null,
         null,
         null,
         null
        ],
        [
         583173,
         "Lohith",
         "Finance",
         15113750,
         null,
         "2025-06-02",
         "Finished",
         null,
         "1724256609000",
         null
        ],
        [
         583099,
         "Loba",
         "Testing",
         40505376,
         "2025-04-02T19:54:50Z",
         null,
         "Started",
         null,
         "1724256609000",
         null
        ]
       ],
       "datasetInfos": [],
       "dbfsResultPath": null,
       "isJsonSchema": true,
       "metadata": {},
       "overflow": false,
       "plotOptions": {
        "customPlotOptions": {},
        "displayType": "table",
        "pivotAggregation": null,
        "pivotColumns": null,
        "xColumns": null,
        "yColumns": null
       },
       "removedWidgets": [],
       "schema": [
        {
         "metadata": "{}",
         "name": "OBJECT_ID",
         "type": "\"integer\""
        },
        {
         "metadata": "{}",
         "name": "Name",
         "type": "\"string\""
        },
        {
         "metadata": "{}",
         "name": "department",
         "type": "\"string\""
        },
        {
         "metadata": "{}",
         "name": "Customer_ID",
         "type": "\"integer\""
        },
        {
         "metadata": "{}",
         "name": "Change_Date",
         "type": "\"string\""
        },
        {
         "metadata": "{}",
         "name": "Load_Date",
         "type": "\"string\""
        },
        {
         "metadata": "{}",
         "name": "Status",
         "type": "\"string\""
        },
        {
         "metadata": "{}",
         "name": "description",
         "type": "\"string\""
        },
        {
         "metadata": "{}",
         "name": "start_date_source",
         "type": "\"string\""
        },
        {
         "metadata": "{}",
         "name": "start_date_bronze",
         "type": "\"string\""
        }
       ],
       "type": "table"
      }
     },
     "output_type": "display_data"
    }
   ],
   "source": [
    "data = [(583069, \"Harish\", None, 13681832, None, '2025-06-02', None, 'E-Mail', 1724256609000, None),\n",
    "        (510102, \"\", \"HR\", 40685884, '2025-04-02T04:15:05Z', '2025-06-02', 'Finished', 'Internet', 1724256609000, None),\n",
    "        (506654, \"Basha\", \"\", None, '2025-04-02T04:15:05Z', '2025-06-02', 'Not Relevant', 'Social Media', 1724256609000, None),\n",
    "        (583195, None, \"Finance\", 12619703, None, '2025-06-02', 'Started', 'Messaging', 1724256609000, None),\n",
    "        (470450, \"Venky\", \"IT\", 8541938, '2025-04-02T07:59:14Z', '2025-06-02', 'Not Relevant', 'IoT', 1724256609000, None),\n",
    "        (558253, \"\", None, 2269299, None, '2025-06-02', 'Open', None, 1724256609000, None),\n",
    "        (None, \"Krishna\", \"Sales\", None, '2025-04-02T06:12:18Z', '2025-06-02', None, 'Manual data entry', 1724256609000, None),\n",
    "        (583181, \"Kiran\", \"Marketing\", 39714449, None, '2025-06-02', 'Finished', 'Other', 1724256609000, None),\n",
    "        (583119, \"Hitesh\", None, 10183510, '2025-04-02T04:15:13Z', None, 'Open', 'Telephony', 1724256609000, None),\n",
    "        (577519, \"\", \"Accounts\", None, '2025-04-02T08:27:50Z', '2025-06-02', 'Not Relevant', None, 1724256609000, None),\n",
    "        (583151, \"Sushma\", \"Accounts\", 40442877, None, '2025-06-02', 'Open', 'Fax', 1724256609000, None),\n",
    "        (583167, None, \"Admin\", 16474490, '2025-04-02T09:07:27Z', None, 'Not Relevant', 'Feedback', 1724256609000, None),\n",
    "        (583162, \"Buvan\", \"IT\", 7447339, '2025-04-02T16:46:07Z', None, 'Finished', 'WorkZone', 1724256609000, None),\n",
    "        (575216, \"Mohan\", \"Admin\", 17258071, '2025-04-02T01:51:03Z', '2025-06-02', 'Open', 'IOT', 1724256609000, None),\n",
    "        (None, None, None, None, None, None, None, None, None, None),\n",
    "        (583173, \"Lohith\", \"Finance\", 15113750, None, '2025-06-02', 'Finished', None, 1724256609000, None),\n",
    "        (583099, \"Loba\", \"Testing\", 40505376, '2025-04-02T19:54:50Z', None, 'Started', None, 1724256609000, None)\n",
    "       ]\n",
    "\n",
    "df_dev = spark.createDataFrame(data, schema)\n",
    "display(df_dev)"
   ]
  },
  {
   "cell_type": "code",
   "execution_count": 0,
   "metadata": {
    "application/vnd.databricks.v1+cell": {
     "cellMetadata": {
      "byteLimit": 2048000,
      "rowLimit": 10000
     },
     "inputWidgets": {},
     "nuid": "fae825e4-fa64-4a97-acc0-6752a677694e",
     "showTitle": true,
     "tableResultSettingsMap": {},
     "title": "2) write to delta"
    }
   },
   "outputs": [],
   "source": [
    "# df_dev.write \\\n",
    "#       .format(\"delta\") \\\n",
    "#       .mode(\"overwrite\") \\\n",
    "#       .option(\"path\", \"/user/hive/warehouse/bronze_Nulls\") \\\n",
    "#       .saveAsTable(\"tbl_NonNull_Nulls_Blank\")\n",
    "\n",
    "df_dev.createOrReplaceTempView(\"tbl_NonNull_Nulls_Blank\")"
   ]
  },
  {
   "cell_type": "markdown",
   "metadata": {
    "application/vnd.databricks.v1+cell": {
     "cellMetadata": {
      "byteLimit": 2048000,
      "rowLimit": 10000
     },
     "inputWidgets": {},
     "nuid": "b14fb774-e942-478d-8e9c-4d16d938779b",
     "showTitle": false,
     "tableResultSettingsMap": {},
     "title": ""
    }
   },
   "source": [
    "#### a) PySpark"
   ]
  },
  {
   "cell_type": "markdown",
   "metadata": {
    "application/vnd.databricks.v1+cell": {
     "cellMetadata": {
      "byteLimit": 2048000,
      "rowLimit": 10000
     },
     "inputWidgets": {},
     "nuid": "cb482732-8bbf-43ef-ac02-999f1e55bdd9",
     "showTitle": false,
     "tableResultSettingsMap": {},
     "title": ""
    }
   },
   "source": [
    "**Null_Count:** Number of actual nulls\n",
    "\n",
    "**NotNull_Count:** includes both blanks and real values\n",
    "\n",
    "**Blank_Count:** number of empty strings (\"\")\n",
    "\n",
    "**NonNull_And_Not_Blank** = NotNull_Count - Blank_Count"
   ]
  },
  {
   "cell_type": "code",
   "execution_count": 0,
   "metadata": {
    "application/vnd.databricks.v1+cell": {
     "cellMetadata": {
      "byteLimit": 2048000,
      "rowLimit": 10000
     },
     "inputWidgets": {},
     "nuid": "f2bb1ea4-1ca6-4785-83b2-921843f6a903",
     "showTitle": true,
     "tableResultSettingsMap": {},
     "title": "1) Function: Non-Null, Null & Blank"
    }
   },
   "outputs": [],
   "source": [
    "from pyspark.sql.functions import lit, count, when, col\n",
    "\n",
    "def count_values(df, column):\n",
    "    return df_dev.select(\n",
    "        count(when(col(column).isNull(), column)).alias(\"Null_Count\"),\n",
    "        count(when(col(column).isNotNull(), column)).alias(\"NotNull_Count\"),\n",
    "        count(when(col(column) == \"\", column)).alias(\"Blank_Count\"),\n",
    "        count(lit(1)).alias(\"Total_Rows\")\n",
    "        )"
   ]
  },
  {
   "cell_type": "code",
   "execution_count": 0,
   "metadata": {
    "application/vnd.databricks.v1+cell": {
     "cellMetadata": {
      "byteLimit": 2048000,
      "rowLimit": 10000
     },
     "inputWidgets": {},
     "nuid": "1ba5a38f-80ad-47f5-b0c0-380b04a88b44",
     "showTitle": true,
     "tableResultSettingsMap": {},
     "title": "2) Result: Non-Null, Null & Blank"
    }
   },
   "outputs": [
    {
     "output_type": "display_data",
     "data": {
      "text/html": [
       "<style scoped>\n",
       "  .table-result-container {\n",
       "    max-height: 300px;\n",
       "    overflow: auto;\n",
       "  }\n",
       "  table, th, td {\n",
       "    border: 1px solid black;\n",
       "    border-collapse: collapse;\n",
       "  }\n",
       "  th, td {\n",
       "    padding: 5px;\n",
       "  }\n",
       "  th {\n",
       "    text-align: left;\n",
       "  }\n",
       "</style><div class='table-result-container'><table class='table-result'><thead style='background-color: white'><tr><th>Null_Count</th><th>NotNull_Count</th><th>Blank_Count</th><th>Total_Rows</th></tr></thead><tbody><tr><td>3</td><td>14</td><td>3</td><td>17</td></tr></tbody></table></div>"
      ]
     },
     "metadata": {
      "application/vnd.databricks.v1+output": {
       "addedWidgets": {},
       "aggData": [],
       "aggError": "",
       "aggOverflow": false,
       "aggSchema": [],
       "aggSeriesLimitReached": false,
       "aggType": "",
       "arguments": {},
       "columnCustomDisplayInfos": {},
       "data": [
        [
         3,
         14,
         3,
         17
        ]
       ],
       "datasetInfos": [],
       "dbfsResultPath": null,
       "isJsonSchema": true,
       "metadata": {},
       "overflow": false,
       "plotOptions": {
        "customPlotOptions": {},
        "displayType": "table",
        "pivotAggregation": null,
        "pivotColumns": null,
        "xColumns": null,
        "yColumns": null
       },
       "removedWidgets": [],
       "schema": [
        {
         "metadata": "{}",
         "name": "Null_Count",
         "type": "\"long\""
        },
        {
         "metadata": "{}",
         "name": "NotNull_Count",
         "type": "\"long\""
        },
        {
         "metadata": "{}",
         "name": "Blank_Count",
         "type": "\"long\""
        },
        {
         "metadata": "{}",
         "name": "Total_Rows",
         "type": "\"long\""
        }
       ],
       "type": "table"
      }
     },
     "output_type": "display_data"
    },
    {
     "output_type": "display_data",
     "data": {
      "text/html": [
       "<style scoped>\n",
       "  .table-result-container {\n",
       "    max-height: 300px;\n",
       "    overflow: auto;\n",
       "  }\n",
       "  table, th, td {\n",
       "    border: 1px solid black;\n",
       "    border-collapse: collapse;\n",
       "  }\n",
       "  th, td {\n",
       "    padding: 5px;\n",
       "  }\n",
       "  th {\n",
       "    text-align: left;\n",
       "  }\n",
       "</style><div class='table-result-container'><table class='table-result'><thead style='background-color: white'><tr><th>Null_Count</th><th>NotNull_Count</th><th>Blank_Count</th><th>Total_Rows</th></tr></thead><tbody><tr><td>4</td><td>13</td><td>1</td><td>17</td></tr></tbody></table></div>"
      ]
     },
     "metadata": {
      "application/vnd.databricks.v1+output": {
       "addedWidgets": {},
       "aggData": [],
       "aggError": "",
       "aggOverflow": false,
       "aggSchema": [],
       "aggSeriesLimitReached": false,
       "aggType": "",
       "arguments": {},
       "columnCustomDisplayInfos": {},
       "data": [
        [
         4,
         13,
         1,
         17
        ]
       ],
       "datasetInfos": [],
       "dbfsResultPath": null,
       "isJsonSchema": true,
       "metadata": {},
       "overflow": false,
       "plotOptions": {
        "customPlotOptions": {},
        "displayType": "table",
        "pivotAggregation": null,
        "pivotColumns": null,
        "xColumns": null,
        "yColumns": null
       },
       "removedWidgets": [],
       "schema": [
        {
         "metadata": "{}",
         "name": "Null_Count",
         "type": "\"long\""
        },
        {
         "metadata": "{}",
         "name": "NotNull_Count",
         "type": "\"long\""
        },
        {
         "metadata": "{}",
         "name": "Blank_Count",
         "type": "\"long\""
        },
        {
         "metadata": "{}",
         "name": "Total_Rows",
         "type": "\"long\""
        }
       ],
       "type": "table"
      }
     },
     "output_type": "display_data"
    }
   ],
   "source": [
    "display(count_values(df_dev, \"Name\"))\n",
    "display(count_values(df_dev, \"department\"))"
   ]
  },
  {
   "cell_type": "markdown",
   "metadata": {
    "application/vnd.databricks.v1+cell": {
     "cellMetadata": {
      "byteLimit": 2048000,
      "rowLimit": 10000
     },
     "inputWidgets": {},
     "nuid": "619cbc13-1b10-42c5-83c3-bda0a184adf0",
     "showTitle": false,
     "tableResultSettingsMap": {},
     "title": ""
    }
   },
   "source": [
    "#### b) SQL"
   ]
  },
  {
   "cell_type": "markdown",
   "metadata": {
    "application/vnd.databricks.v1+cell": {
     "cellMetadata": {
      "byteLimit": 2048000,
      "rowLimit": 10000
     },
     "inputWidgets": {},
     "nuid": "2e6a7111-f640-48a1-b2e5-0a8295d0c5fd",
     "showTitle": false,
     "tableResultSettingsMap": {},
     "title": ""
    }
   },
   "source": [
    "**a) How to check for NULL values in a column?**\n",
    "- Use the `IS NULL` or `IS NOT NULL` condition in the WHERE clause."
   ]
  },
  {
   "cell_type": "code",
   "execution_count": 0,
   "metadata": {
    "application/vnd.databricks.v1+cell": {
     "cellMetadata": {
      "byteLimit": 2048000,
      "implicitDf": true,
      "rowLimit": 10000
     },
     "inputWidgets": {},
     "nuid": "88ce9708-63b1-4623-991f-a2c1c1cb323b",
     "showTitle": true,
     "tableResultSettingsMap": {},
     "title": "1) Null's: Primary Key"
    }
   },
   "outputs": [
    {
     "output_type": "display_data",
     "data": {
      "text/html": [
       "<style scoped>\n",
       "  .table-result-container {\n",
       "    max-height: 300px;\n",
       "    overflow: auto;\n",
       "  }\n",
       "  table, th, td {\n",
       "    border: 1px solid black;\n",
       "    border-collapse: collapse;\n",
       "  }\n",
       "  th, td {\n",
       "    padding: 5px;\n",
       "  }\n",
       "  th {\n",
       "    text-align: left;\n",
       "  }\n",
       "</style><div class='table-result-container'><table class='table-result'><thead style='background-color: white'><tr><th>COUNT(*)</th></tr></thead><tbody><tr><td>2</td></tr></tbody></table></div>"
      ]
     },
     "metadata": {
      "application/vnd.databricks.v1+output": {
       "addedWidgets": {},
       "aggData": [],
       "aggError": "",
       "aggOverflow": false,
       "aggSchema": [],
       "aggSeriesLimitReached": false,
       "aggType": "",
       "arguments": {},
       "columnCustomDisplayInfos": {},
       "data": [
        [
         2
        ]
       ],
       "datasetInfos": [
        {
         "name": "_sqldf",
         "schema": {
          "fields": [
           {
            "metadata": {},
            "name": "COUNT(*)",
            "nullable": false,
            "type": "long"
           }
          ],
          "type": "struct"
         },
         "tableIdentifier": null,
         "typeStr": "pyspark.sql.connect.dataframe.DataFrame"
        }
       ],
       "dbfsResultPath": null,
       "isJsonSchema": true,
       "metadata": {
        "createTempViewForImplicitDf": true,
        "dataframeName": "_sqldf",
        "executionCount": 14
       },
       "overflow": false,
       "plotOptions": {
        "customPlotOptions": {},
        "displayType": "table",
        "pivotAggregation": null,
        "pivotColumns": null,
        "xColumns": null,
        "yColumns": null
       },
       "removedWidgets": [],
       "schema": [
        {
         "metadata": "{}",
         "name": "COUNT(*)",
         "type": "\"long\""
        }
       ],
       "type": "table"
      }
     },
     "output_type": "display_data"
    }
   ],
   "source": [
    "%sql\n",
    "SELECT COUNT(*)\n",
    "FROM tbl_NonNull_Nulls_Blank\n",
    "WHERE OBJECT_ID IS NULL;"
   ]
  },
  {
   "cell_type": "code",
   "execution_count": 0,
   "metadata": {
    "application/vnd.databricks.v1+cell": {
     "cellMetadata": {
      "byteLimit": 2048000,
      "implicitDf": true,
      "rowLimit": 10000
     },
     "inputWidgets": {},
     "nuid": "abf0bdc5-1a9b-4ed9-a366-5c4a5583ec75",
     "showTitle": true,
     "tableResultSettingsMap": {},
     "title": "2) List all Null values of Primary Key"
    }
   },
   "outputs": [
    {
     "output_type": "display_data",
     "data": {
      "text/html": [
       "<style scoped>\n",
       "  .table-result-container {\n",
       "    max-height: 300px;\n",
       "    overflow: auto;\n",
       "  }\n",
       "  table, th, td {\n",
       "    border: 1px solid black;\n",
       "    border-collapse: collapse;\n",
       "  }\n",
       "  th, td {\n",
       "    padding: 5px;\n",
       "  }\n",
       "  th {\n",
       "    text-align: left;\n",
       "  }\n",
       "</style><div class='table-result-container'><table class='table-result'><thead style='background-color: white'><tr><th>OBJECT_ID</th><th>Name</th><th>department</th><th>Customer_ID</th><th>Change_Date</th><th>Load_Date</th><th>Status</th><th>description</th><th>start_date_source</th><th>start_date_bronze</th></tr></thead><tbody><tr><td>null</td><td>Krishna</td><td>Sales</td><td>null</td><td>2025-04-02T06:12:18Z</td><td>2025-06-02</td><td>null</td><td>Manual data entry</td><td>1724256609000</td><td>null</td></tr><tr><td>null</td><td>null</td><td>null</td><td>null</td><td>null</td><td>null</td><td>null</td><td>null</td><td>null</td><td>null</td></tr></tbody></table></div>"
      ]
     },
     "metadata": {
      "application/vnd.databricks.v1+output": {
       "addedWidgets": {},
       "aggData": [],
       "aggError": "",
       "aggOverflow": false,
       "aggSchema": [],
       "aggSeriesLimitReached": false,
       "aggType": "",
       "arguments": {},
       "columnCustomDisplayInfos": {},
       "data": [
        [
         null,
         "Krishna",
         "Sales",
         null,
         "2025-04-02T06:12:18Z",
         "2025-06-02",
         null,
         "Manual data entry",
         "1724256609000",
         null
        ],
        [
         null,
         null,
         null,
         null,
         null,
         null,
         null,
         null,
         null,
         null
        ]
       ],
       "datasetInfos": [
        {
         "name": "_sqldf",
         "schema": {
          "fields": [
           {
            "metadata": {},
            "name": "OBJECT_ID",
            "nullable": true,
            "type": "integer"
           },
           {
            "metadata": {},
            "name": "Name",
            "nullable": true,
            "type": "string"
           },
           {
            "metadata": {},
            "name": "department",
            "nullable": true,
            "type": "string"
           },
           {
            "metadata": {},
            "name": "Customer_ID",
            "nullable": true,
            "type": "integer"
           },
           {
            "metadata": {},
            "name": "Change_Date",
            "nullable": true,
            "type": "string"
           },
           {
            "metadata": {},
            "name": "Load_Date",
            "nullable": true,
            "type": "string"
           },
           {
            "metadata": {},
            "name": "Status",
            "nullable": true,
            "type": "string"
           },
           {
            "metadata": {},
            "name": "description",
            "nullable": true,
            "type": "string"
           },
           {
            "metadata": {},
            "name": "start_date_source",
            "nullable": true,
            "type": "string"
           },
           {
            "metadata": {},
            "name": "start_date_bronze",
            "nullable": true,
            "type": "string"
           }
          ],
          "type": "struct"
         },
         "tableIdentifier": null,
         "typeStr": "pyspark.sql.connect.dataframe.DataFrame"
        }
       ],
       "dbfsResultPath": null,
       "isJsonSchema": true,
       "metadata": {
        "createTempViewForImplicitDf": true,
        "dataframeName": "_sqldf",
        "executionCount": 15
       },
       "overflow": false,
       "plotOptions": {
        "customPlotOptions": {},
        "displayType": "table",
        "pivotAggregation": null,
        "pivotColumns": null,
        "xColumns": null,
        "yColumns": null
       },
       "removedWidgets": [],
       "schema": [
        {
         "metadata": "{}",
         "name": "OBJECT_ID",
         "type": "\"integer\""
        },
        {
         "metadata": "{}",
         "name": "Name",
         "type": "\"string\""
        },
        {
         "metadata": "{}",
         "name": "department",
         "type": "\"string\""
        },
        {
         "metadata": "{}",
         "name": "Customer_ID",
         "type": "\"integer\""
        },
        {
         "metadata": "{}",
         "name": "Change_Date",
         "type": "\"string\""
        },
        {
         "metadata": "{}",
         "name": "Load_Date",
         "type": "\"string\""
        },
        {
         "metadata": "{}",
         "name": "Status",
         "type": "\"string\""
        },
        {
         "metadata": "{}",
         "name": "description",
         "type": "\"string\""
        },
        {
         "metadata": "{}",
         "name": "start_date_source",
         "type": "\"string\""
        },
        {
         "metadata": "{}",
         "name": "start_date_bronze",
         "type": "\"string\""
        }
       ],
       "type": "table"
      }
     },
     "output_type": "display_data"
    }
   ],
   "source": [
    "%sql\n",
    "SELECT * FROM tbl_NonNull_Nulls_Blank\n",
    "WHERE OBJECT_ID IS NULL;"
   ]
  },
  {
   "cell_type": "code",
   "execution_count": 0,
   "metadata": {
    "application/vnd.databricks.v1+cell": {
     "cellMetadata": {
      "byteLimit": 2048000,
      "implicitDf": true,
      "rowLimit": 10000
     },
     "inputWidgets": {},
     "nuid": "2ba7e750-2d98-4c82-8d8f-1e4c177b56f1",
     "showTitle": true,
     "tableResultSettingsMap": {},
     "title": "3) Count NULLs"
    }
   },
   "outputs": [
    {
     "output_type": "display_data",
     "data": {
      "text/html": [
       "<style scoped>\n",
       "  .table-result-container {\n",
       "    max-height: 300px;\n",
       "    overflow: auto;\n",
       "  }\n",
       "  table, th, td {\n",
       "    border: 1px solid black;\n",
       "    border-collapse: collapse;\n",
       "  }\n",
       "  th, td {\n",
       "    padding: 5px;\n",
       "  }\n",
       "  th {\n",
       "    text-align: left;\n",
       "  }\n",
       "</style><div class='table-result-container'><table class='table-result'><thead style='background-color: white'><tr><th>null_count</th></tr></thead><tbody><tr><td>3</td></tr></tbody></table></div>"
      ]
     },
     "metadata": {
      "application/vnd.databricks.v1+output": {
       "addedWidgets": {},
       "aggData": [],
       "aggError": "",
       "aggOverflow": false,
       "aggSchema": [],
       "aggSeriesLimitReached": false,
       "aggType": "",
       "arguments": {},
       "columnCustomDisplayInfos": {},
       "data": [
        [
         3
        ]
       ],
       "datasetInfos": [
        {
         "name": "_sqldf",
         "schema": {
          "fields": [
           {
            "metadata": {},
            "name": "null_count",
            "nullable": false,
            "type": "long"
           }
          ],
          "type": "struct"
         },
         "tableIdentifier": null,
         "typeStr": "pyspark.sql.connect.dataframe.DataFrame"
        }
       ],
       "dbfsResultPath": null,
       "isJsonSchema": true,
       "metadata": {
        "createTempViewForImplicitDf": true,
        "dataframeName": "_sqldf",
        "executionCount": 16
       },
       "overflow": false,
       "plotOptions": {
        "customPlotOptions": {},
        "displayType": "table",
        "pivotAggregation": null,
        "pivotColumns": null,
        "xColumns": null,
        "yColumns": null
       },
       "removedWidgets": [],
       "schema": [
        {
         "metadata": "{}",
         "name": "null_count",
         "type": "\"long\""
        }
       ],
       "type": "table"
      }
     },
     "output_type": "display_data"
    }
   ],
   "source": [
    "%sql\n",
    "SELECT COUNT(*) AS null_count\n",
    "FROM tbl_NonNull_Nulls_Blank\n",
    "WHERE Name IS NULL;"
   ]
  },
  {
   "cell_type": "markdown",
   "metadata": {
    "application/vnd.databricks.v1+cell": {
     "cellMetadata": {
      "byteLimit": 2048000,
      "rowLimit": 10000
     },
     "inputWidgets": {},
     "nuid": "fcfa7e79-e126-4779-9565-29153be00012",
     "showTitle": false,
     "tableResultSettingsMap": {},
     "title": ""
    }
   },
   "source": [
    "**b) How to check for Non-NULL values in a column?**"
   ]
  },
  {
   "cell_type": "code",
   "execution_count": 0,
   "metadata": {
    "application/vnd.databricks.v1+cell": {
     "cellMetadata": {
      "byteLimit": 2048000,
      "implicitDf": true,
      "rowLimit": 10000
     },
     "inputWidgets": {},
     "nuid": "0f791d6b-a938-4e2a-9750-01ae0d06f0e9",
     "showTitle": true,
     "tableResultSettingsMap": {},
     "title": "4) Count Non-NULL values"
    }
   },
   "outputs": [
    {
     "output_type": "display_data",
     "data": {
      "text/html": [
       "<style scoped>\n",
       "  .table-result-container {\n",
       "    max-height: 300px;\n",
       "    overflow: auto;\n",
       "  }\n",
       "  table, th, td {\n",
       "    border: 1px solid black;\n",
       "    border-collapse: collapse;\n",
       "  }\n",
       "  th, td {\n",
       "    padding: 5px;\n",
       "  }\n",
       "  th {\n",
       "    text-align: left;\n",
       "  }\n",
       "</style><div class='table-result-container'><table class='table-result'><thead style='background-color: white'><tr><th>non_null_count</th></tr></thead><tbody><tr><td>14</td></tr></tbody></table></div>"
      ]
     },
     "metadata": {
      "application/vnd.databricks.v1+output": {
       "addedWidgets": {},
       "aggData": [],
       "aggError": "",
       "aggOverflow": false,
       "aggSchema": [],
       "aggSeriesLimitReached": false,
       "aggType": "",
       "arguments": {},
       "columnCustomDisplayInfos": {},
       "data": [
        [
         14
        ]
       ],
       "datasetInfos": [
        {
         "name": "_sqldf",
         "schema": {
          "fields": [
           {
            "metadata": {},
            "name": "non_null_count",
            "nullable": false,
            "type": "long"
           }
          ],
          "type": "struct"
         },
         "tableIdentifier": null,
         "typeStr": "pyspark.sql.connect.dataframe.DataFrame"
        }
       ],
       "dbfsResultPath": null,
       "isJsonSchema": true,
       "metadata": {
        "createTempViewForImplicitDf": true,
        "dataframeName": "_sqldf",
        "executionCount": 17
       },
       "overflow": false,
       "plotOptions": {
        "customPlotOptions": {},
        "displayType": "table",
        "pivotAggregation": null,
        "pivotColumns": null,
        "xColumns": null,
        "yColumns": null
       },
       "removedWidgets": [],
       "schema": [
        {
         "metadata": "{}",
         "name": "non_null_count",
         "type": "\"long\""
        }
       ],
       "type": "table"
      }
     },
     "output_type": "display_data"
    }
   ],
   "source": [
    "%sql\n",
    "SELECT COUNT(*) AS non_null_count\n",
    "FROM tbl_NonNull_Nulls_Blank\n",
    "WHERE Name IS NOT NULL;"
   ]
  },
  {
   "cell_type": "markdown",
   "metadata": {
    "application/vnd.databricks.v1+cell": {
     "cellMetadata": {
      "byteLimit": 2048000,
      "rowLimit": 10000
     },
     "inputWidgets": {},
     "nuid": "4714b534-65b6-4741-8752-fa88584c60ba",
     "showTitle": false,
     "tableResultSettingsMap": {},
     "title": ""
    }
   },
   "source": [
    "- COUNT(Name) **ignores NULLs**, so this gives count of **non-NULL** values."
   ]
  },
  {
   "cell_type": "code",
   "execution_count": 0,
   "metadata": {
    "application/vnd.databricks.v1+cell": {
     "cellMetadata": {
      "byteLimit": 2048000,
      "implicitDf": true,
      "rowLimit": 10000
     },
     "inputWidgets": {},
     "nuid": "e49029dd-93b2-4505-9bfa-881ab4b5bec9",
     "showTitle": false,
     "tableResultSettingsMap": {},
     "title": ""
    }
   },
   "outputs": [
    {
     "output_type": "display_data",
     "data": {
      "text/html": [
       "<style scoped>\n",
       "  .table-result-container {\n",
       "    max-height: 300px;\n",
       "    overflow: auto;\n",
       "  }\n",
       "  table, th, td {\n",
       "    border: 1px solid black;\n",
       "    border-collapse: collapse;\n",
       "  }\n",
       "  th, td {\n",
       "    padding: 5px;\n",
       "  }\n",
       "  th {\n",
       "    text-align: left;\n",
       "  }\n",
       "</style><div class='table-result-container'><table class='table-result'><thead style='background-color: white'><tr><th>non_null_count</th></tr></thead><tbody><tr><td>14</td></tr></tbody></table></div>"
      ]
     },
     "metadata": {
      "application/vnd.databricks.v1+output": {
       "addedWidgets": {},
       "aggData": [],
       "aggError": "",
       "aggOverflow": false,
       "aggSchema": [],
       "aggSeriesLimitReached": false,
       "aggType": "",
       "arguments": {},
       "columnCustomDisplayInfos": {},
       "data": [
        [
         14
        ]
       ],
       "datasetInfos": [
        {
         "name": "_sqldf",
         "schema": {
          "fields": [
           {
            "metadata": {},
            "name": "non_null_count",
            "nullable": false,
            "type": "long"
           }
          ],
          "type": "struct"
         },
         "tableIdentifier": null,
         "typeStr": "pyspark.sql.connect.dataframe.DataFrame"
        }
       ],
       "dbfsResultPath": null,
       "isJsonSchema": true,
       "metadata": {
        "createTempViewForImplicitDf": true,
        "dataframeName": "_sqldf",
        "executionCount": 18
       },
       "overflow": false,
       "plotOptions": {
        "customPlotOptions": {},
        "displayType": "table",
        "pivotAggregation": null,
        "pivotColumns": null,
        "xColumns": null,
        "yColumns": null
       },
       "removedWidgets": [],
       "schema": [
        {
         "metadata": "{}",
         "name": "non_null_count",
         "type": "\"long\""
        }
       ],
       "type": "table"
      }
     },
     "output_type": "display_data"
    }
   ],
   "source": [
    "%sql\n",
    "SELECT COUNT(Name) AS non_null_count\n",
    "FROM tbl_NonNull_Nulls_Blank;"
   ]
  },
  {
   "cell_type": "markdown",
   "metadata": {
    "application/vnd.databricks.v1+cell": {
     "cellMetadata": {
      "byteLimit": 2048000,
      "rowLimit": 10000
     },
     "inputWidgets": {},
     "nuid": "2cd69e2f-1e0d-4e61-802d-39e8794bbd51",
     "showTitle": false,
     "tableResultSettingsMap": {},
     "title": ""
    }
   },
   "source": [
    "**c) Count of blank (empty string) values**\n",
    "\n",
    "**Note:**\n",
    "- This applies to **string/text** columns.\n",
    "- Also, in some databases (like **Oracle**), **empty strings** are treated as **NULL**, so this may not apply the same way."
   ]
  },
  {
   "cell_type": "code",
   "execution_count": 0,
   "metadata": {
    "application/vnd.databricks.v1+cell": {
     "cellMetadata": {
      "byteLimit": 2048000,
      "implicitDf": true,
      "rowLimit": 10000
     },
     "inputWidgets": {},
     "nuid": "978d771b-dea9-4e6c-8159-ea0d4920feba",
     "showTitle": true,
     "tableResultSettingsMap": {},
     "title": "5) Count Blank (empty string) values"
    }
   },
   "outputs": [
    {
     "output_type": "display_data",
     "data": {
      "text/html": [
       "<style scoped>\n",
       "  .table-result-container {\n",
       "    max-height: 300px;\n",
       "    overflow: auto;\n",
       "  }\n",
       "  table, th, td {\n",
       "    border: 1px solid black;\n",
       "    border-collapse: collapse;\n",
       "  }\n",
       "  th, td {\n",
       "    padding: 5px;\n",
       "  }\n",
       "  th {\n",
       "    text-align: left;\n",
       "  }\n",
       "</style><div class='table-result-container'><table class='table-result'><thead style='background-color: white'><tr><th>blank_count</th></tr></thead><tbody><tr><td>3</td></tr></tbody></table></div>"
      ]
     },
     "metadata": {
      "application/vnd.databricks.v1+output": {
       "addedWidgets": {},
       "aggData": [],
       "aggError": "",
       "aggOverflow": false,
       "aggSchema": [],
       "aggSeriesLimitReached": false,
       "aggType": "",
       "arguments": {},
       "columnCustomDisplayInfos": {},
       "data": [
        [
         3
        ]
       ],
       "datasetInfos": [
        {
         "name": "_sqldf",
         "schema": {
          "fields": [
           {
            "metadata": {},
            "name": "blank_count",
            "nullable": false,
            "type": "long"
           }
          ],
          "type": "struct"
         },
         "tableIdentifier": null,
         "typeStr": "pyspark.sql.connect.dataframe.DataFrame"
        }
       ],
       "dbfsResultPath": null,
       "isJsonSchema": true,
       "metadata": {
        "createTempViewForImplicitDf": true,
        "dataframeName": "_sqldf",
        "executionCount": 19
       },
       "overflow": false,
       "plotOptions": {
        "customPlotOptions": {},
        "displayType": "table",
        "pivotAggregation": null,
        "pivotColumns": null,
        "xColumns": null,
        "yColumns": null
       },
       "removedWidgets": [],
       "schema": [
        {
         "metadata": "{}",
         "name": "blank_count",
         "type": "\"long\""
        }
       ],
       "type": "table"
      }
     },
     "output_type": "display_data"
    }
   ],
   "source": [
    "%sql\n",
    "SELECT COUNT(*) AS blank_count\n",
    "FROM tbl_NonNull_Nulls_Blank\n",
    "WHERE Name = '';"
   ]
  },
  {
   "cell_type": "markdown",
   "metadata": {
    "application/vnd.databricks.v1+cell": {
     "cellMetadata": {
      "byteLimit": 2048000,
      "rowLimit": 10000
     },
     "inputWidgets": {},
     "nuid": "ca9d1c8d-eb9a-42dc-934d-a2e1aaccca81",
     "showTitle": false,
     "tableResultSettingsMap": {},
     "title": ""
    }
   },
   "source": [
    "**d) Count of non-null and non-blank values**"
   ]
  },
  {
   "cell_type": "code",
   "execution_count": 0,
   "metadata": {
    "application/vnd.databricks.v1+cell": {
     "cellMetadata": {
      "byteLimit": 2048000,
      "implicitDf": true,
      "rowLimit": 10000
     },
     "inputWidgets": {},
     "nuid": "7c241d45-a785-4a9a-9308-75258f3d976d",
     "showTitle": true,
     "tableResultSettingsMap": {},
     "title": "6) Count of non-null and non-blank values"
    }
   },
   "outputs": [
    {
     "output_type": "display_data",
     "data": {
      "text/html": [
       "<style scoped>\n",
       "  .table-result-container {\n",
       "    max-height: 300px;\n",
       "    overflow: auto;\n",
       "  }\n",
       "  table, th, td {\n",
       "    border: 1px solid black;\n",
       "    border-collapse: collapse;\n",
       "  }\n",
       "  th, td {\n",
       "    padding: 5px;\n",
       "  }\n",
       "  th {\n",
       "    text-align: left;\n",
       "  }\n",
       "</style><div class='table-result-container'><table class='table-result'><thead style='background-color: white'><tr><th>non_null_non_blank_count</th></tr></thead><tbody><tr><td>11</td></tr></tbody></table></div>"
      ]
     },
     "metadata": {
      "application/vnd.databricks.v1+output": {
       "addedWidgets": {},
       "aggData": [],
       "aggError": "",
       "aggOverflow": false,
       "aggSchema": [],
       "aggSeriesLimitReached": false,
       "aggType": "",
       "arguments": {},
       "columnCustomDisplayInfos": {},
       "data": [
        [
         11
        ]
       ],
       "datasetInfos": [
        {
         "name": "_sqldf",
         "schema": {
          "fields": [
           {
            "metadata": {},
            "name": "non_null_non_blank_count",
            "nullable": false,
            "type": "long"
           }
          ],
          "type": "struct"
         },
         "tableIdentifier": null,
         "typeStr": "pyspark.sql.connect.dataframe.DataFrame"
        }
       ],
       "dbfsResultPath": null,
       "isJsonSchema": true,
       "metadata": {
        "createTempViewForImplicitDf": true,
        "dataframeName": "_sqldf",
        "executionCount": 20
       },
       "overflow": false,
       "plotOptions": {
        "customPlotOptions": {},
        "displayType": "table",
        "pivotAggregation": null,
        "pivotColumns": null,
        "xColumns": null,
        "yColumns": null
       },
       "removedWidgets": [],
       "schema": [
        {
         "metadata": "{}",
         "name": "non_null_non_blank_count",
         "type": "\"long\""
        }
       ],
       "type": "table"
      }
     },
     "output_type": "display_data"
    }
   ],
   "source": [
    "%sql\n",
    "SELECT COUNT(*) AS non_null_non_blank_count\n",
    "FROM tbl_NonNull_Nulls_Blank\n",
    "WHERE Name IS NOT NULL AND Name <> '';"
   ]
  },
  {
   "cell_type": "markdown",
   "metadata": {
    "application/vnd.databricks.v1+cell": {
     "cellMetadata": {
      "byteLimit": 2048000,
      "rowLimit": 10000
     },
     "inputWidgets": {},
     "nuid": "50d8d375-0332-49a5-a5ab-d83ab9d48eb9",
     "showTitle": false,
     "tableResultSettingsMap": {},
     "title": ""
    }
   },
   "source": [
    "**e) Check for any of the specified columns is null's**\n",
    "- This query returns all rows from the table non_null_non_blank_count where **any of the specified columns** (id, name, department, or Age) have a **NULL** value.\n",
    "\n",
    "- The **OR** operators mean that if **even one of these columns** is **NULL** in a row, that row will be selected."
   ]
  },
  {
   "cell_type": "code",
   "execution_count": 0,
   "metadata": {
    "application/vnd.databricks.v1+cell": {
     "cellMetadata": {
      "byteLimit": 2048000,
      "implicitDf": true,
      "rowLimit": 10000
     },
     "inputWidgets": {},
     "nuid": "dcd47711-caea-4451-a652-271fc1c508e4",
     "showTitle": true,
     "tableResultSettingsMap": {},
     "title": "7) Check for any of the specified columns is null's"
    }
   },
   "outputs": [
    {
     "output_type": "display_data",
     "data": {
      "text/html": [
       "<style scoped>\n",
       "  .table-result-container {\n",
       "    max-height: 300px;\n",
       "    overflow: auto;\n",
       "  }\n",
       "  table, th, td {\n",
       "    border: 1px solid black;\n",
       "    border-collapse: collapse;\n",
       "  }\n",
       "  th, td {\n",
       "    padding: 5px;\n",
       "  }\n",
       "  th {\n",
       "    text-align: left;\n",
       "  }\n",
       "</style><div class='table-result-container'><table class='table-result'><thead style='background-color: white'><tr><th>OBJECT_ID</th><th>Name</th><th>department</th><th>Customer_ID</th><th>Change_Date</th><th>Load_Date</th><th>Status</th><th>description</th><th>start_date_source</th><th>start_date_bronze</th></tr></thead><tbody><tr><td>583069</td><td>Harish</td><td>null</td><td>13681832</td><td>null</td><td>2025-06-02</td><td>null</td><td>E-Mail</td><td>1724256609000</td><td>null</td></tr><tr><td>506654</td><td>Basha</td><td></td><td>null</td><td>2025-04-02T04:15:05Z</td><td>2025-06-02</td><td>Not Relevant</td><td>Social Media</td><td>1724256609000</td><td>null</td></tr><tr><td>583195</td><td>null</td><td>Finance</td><td>12619703</td><td>null</td><td>2025-06-02</td><td>Started</td><td>Messaging</td><td>1724256609000</td><td>null</td></tr><tr><td>558253</td><td></td><td>null</td><td>2269299</td><td>null</td><td>2025-06-02</td><td>Open</td><td>null</td><td>1724256609000</td><td>null</td></tr><tr><td>null</td><td>Krishna</td><td>Sales</td><td>null</td><td>2025-04-02T06:12:18Z</td><td>2025-06-02</td><td>null</td><td>Manual data entry</td><td>1724256609000</td><td>null</td></tr><tr><td>583181</td><td>Kiran</td><td>Marketing</td><td>39714449</td><td>null</td><td>2025-06-02</td><td>Finished</td><td>Other</td><td>1724256609000</td><td>null</td></tr><tr><td>583119</td><td>Hitesh</td><td>null</td><td>10183510</td><td>2025-04-02T04:15:13Z</td><td>null</td><td>Open</td><td>Telephony</td><td>1724256609000</td><td>null</td></tr><tr><td>577519</td><td></td><td>Accounts</td><td>null</td><td>2025-04-02T08:27:50Z</td><td>2025-06-02</td><td>Not Relevant</td><td>null</td><td>1724256609000</td><td>null</td></tr><tr><td>583151</td><td>Sushma</td><td>Accounts</td><td>40442877</td><td>null</td><td>2025-06-02</td><td>Open</td><td>Fax</td><td>1724256609000</td><td>null</td></tr><tr><td>583167</td><td>null</td><td>Admin</td><td>16474490</td><td>2025-04-02T09:07:27Z</td><td>null</td><td>Not Relevant</td><td>Feedback</td><td>1724256609000</td><td>null</td></tr><tr><td>583162</td><td>Buvan</td><td>IT</td><td>7447339</td><td>2025-04-02T16:46:07Z</td><td>null</td><td>Finished</td><td>WorkZone</td><td>1724256609000</td><td>null</td></tr><tr><td>null</td><td>null</td><td>null</td><td>null</td><td>null</td><td>null</td><td>null</td><td>null</td><td>null</td><td>null</td></tr><tr><td>583173</td><td>Lohith</td><td>Finance</td><td>15113750</td><td>null</td><td>2025-06-02</td><td>Finished</td><td>null</td><td>1724256609000</td><td>null</td></tr><tr><td>583099</td><td>Loba</td><td>Testing</td><td>40505376</td><td>2025-04-02T19:54:50Z</td><td>null</td><td>Started</td><td>null</td><td>1724256609000</td><td>null</td></tr></tbody></table></div>"
      ]
     },
     "metadata": {
      "application/vnd.databricks.v1+output": {
       "addedWidgets": {},
       "aggData": [],
       "aggError": "",
       "aggOverflow": false,
       "aggSchema": [],
       "aggSeriesLimitReached": false,
       "aggType": "",
       "arguments": {},
       "columnCustomDisplayInfos": {},
       "data": [
        [
         583069,
         "Harish",
         null,
         13681832,
         null,
         "2025-06-02",
         null,
         "E-Mail",
         "1724256609000",
         null
        ],
        [
         506654,
         "Basha",
         "",
         null,
         "2025-04-02T04:15:05Z",
         "2025-06-02",
         "Not Relevant",
         "Social Media",
         "1724256609000",
         null
        ],
        [
         583195,
         null,
         "Finance",
         12619703,
         null,
         "2025-06-02",
         "Started",
         "Messaging",
         "1724256609000",
         null
        ],
        [
         558253,
         "",
         null,
         2269299,
         null,
         "2025-06-02",
         "Open",
         null,
         "1724256609000",
         null
        ],
        [
         null,
         "Krishna",
         "Sales",
         null,
         "2025-04-02T06:12:18Z",
         "2025-06-02",
         null,
         "Manual data entry",
         "1724256609000",
         null
        ],
        [
         583181,
         "Kiran",
         "Marketing",
         39714449,
         null,
         "2025-06-02",
         "Finished",
         "Other",
         "1724256609000",
         null
        ],
        [
         583119,
         "Hitesh",
         null,
         10183510,
         "2025-04-02T04:15:13Z",
         null,
         "Open",
         "Telephony",
         "1724256609000",
         null
        ],
        [
         577519,
         "",
         "Accounts",
         null,
         "2025-04-02T08:27:50Z",
         "2025-06-02",
         "Not Relevant",
         null,
         "1724256609000",
         null
        ],
        [
         583151,
         "Sushma",
         "Accounts",
         40442877,
         null,
         "2025-06-02",
         "Open",
         "Fax",
         "1724256609000",
         null
        ],
        [
         583167,
         null,
         "Admin",
         16474490,
         "2025-04-02T09:07:27Z",
         null,
         "Not Relevant",
         "Feedback",
         "1724256609000",
         null
        ],
        [
         583162,
         "Buvan",
         "IT",
         7447339,
         "2025-04-02T16:46:07Z",
         null,
         "Finished",
         "WorkZone",
         "1724256609000",
         null
        ],
        [
         null,
         null,
         null,
         null,
         null,
         null,
         null,
         null,
         null,
         null
        ],
        [
         583173,
         "Lohith",
         "Finance",
         15113750,
         null,
         "2025-06-02",
         "Finished",
         null,
         "1724256609000",
         null
        ],
        [
         583099,
         "Loba",
         "Testing",
         40505376,
         "2025-04-02T19:54:50Z",
         null,
         "Started",
         null,
         "1724256609000",
         null
        ]
       ],
       "datasetInfos": [
        {
         "name": "_sqldf",
         "schema": {
          "fields": [
           {
            "metadata": {},
            "name": "OBJECT_ID",
            "nullable": true,
            "type": "integer"
           },
           {
            "metadata": {},
            "name": "Name",
            "nullable": true,
            "type": "string"
           },
           {
            "metadata": {},
            "name": "department",
            "nullable": true,
            "type": "string"
           },
           {
            "metadata": {},
            "name": "Customer_ID",
            "nullable": true,
            "type": "integer"
           },
           {
            "metadata": {},
            "name": "Change_Date",
            "nullable": true,
            "type": "string"
           },
           {
            "metadata": {},
            "name": "Load_Date",
            "nullable": true,
            "type": "string"
           },
           {
            "metadata": {},
            "name": "Status",
            "nullable": true,
            "type": "string"
           },
           {
            "metadata": {},
            "name": "description",
            "nullable": true,
            "type": "string"
           },
           {
            "metadata": {},
            "name": "start_date_source",
            "nullable": true,
            "type": "string"
           },
           {
            "metadata": {},
            "name": "start_date_bronze",
            "nullable": true,
            "type": "string"
           }
          ],
          "type": "struct"
         },
         "tableIdentifier": null,
         "typeStr": "pyspark.sql.connect.dataframe.DataFrame"
        }
       ],
       "dbfsResultPath": null,
       "isJsonSchema": true,
       "metadata": {
        "createTempViewForImplicitDf": true,
        "dataframeName": "_sqldf",
        "executionCount": 21
       },
       "overflow": false,
       "plotOptions": {
        "customPlotOptions": {},
        "displayType": "table",
        "pivotAggregation": null,
        "pivotColumns": null,
        "xColumns": null,
        "yColumns": null
       },
       "removedWidgets": [],
       "schema": [
        {
         "metadata": "{}",
         "name": "OBJECT_ID",
         "type": "\"integer\""
        },
        {
         "metadata": "{}",
         "name": "Name",
         "type": "\"string\""
        },
        {
         "metadata": "{}",
         "name": "department",
         "type": "\"string\""
        },
        {
         "metadata": "{}",
         "name": "Customer_ID",
         "type": "\"integer\""
        },
        {
         "metadata": "{}",
         "name": "Change_Date",
         "type": "\"string\""
        },
        {
         "metadata": "{}",
         "name": "Load_Date",
         "type": "\"string\""
        },
        {
         "metadata": "{}",
         "name": "Status",
         "type": "\"string\""
        },
        {
         "metadata": "{}",
         "name": "description",
         "type": "\"string\""
        },
        {
         "metadata": "{}",
         "name": "start_date_source",
         "type": "\"string\""
        },
        {
         "metadata": "{}",
         "name": "start_date_bronze",
         "type": "\"string\""
        }
       ],
       "type": "table"
      }
     },
     "output_type": "display_data"
    }
   ],
   "source": [
    "%sql\n",
    "SELECT * FROM tbl_NonNull_Nulls_Blank\n",
    "WHERE OBJECT_ID IS NULL OR\n",
    "      Name IS NULL OR\n",
    "      department IS NULL OR\n",
    "      Customer_ID IS NULL OR\n",
    "      Change_Date IS NULL OR\n",
    "      Load_Date IS NULL OR\n",
    "      Status IS NULL OR\n",
    "      description IS NULL;"
   ]
  },
  {
   "cell_type": "markdown",
   "metadata": {
    "application/vnd.databricks.v1+cell": {
     "cellMetadata": {
      "byteLimit": 2048000,
      "rowLimit": 10000
     },
     "inputWidgets": {},
     "nuid": "47aae7f9-5483-4047-a9e0-2753bdb50389",
     "showTitle": false,
     "tableResultSettingsMap": {},
     "title": ""
    }
   },
   "source": [
    "**f) How to find the number of rows where all columns are NULL?**"
   ]
  },
  {
   "cell_type": "code",
   "execution_count": 0,
   "metadata": {
    "application/vnd.databricks.v1+cell": {
     "cellMetadata": {
      "byteLimit": 2048000,
      "implicitDf": true,
      "rowLimit": 10000
     },
     "inputWidgets": {},
     "nuid": "f584c017-6f62-45bf-9722-5cf541079a19",
     "showTitle": true,
     "tableResultSettingsMap": {},
     "title": "8) Find the number of rows where all columns are NULL"
    }
   },
   "outputs": [
    {
     "output_type": "display_data",
     "data": {
      "text/html": [
       "<style scoped>\n",
       "  .table-result-container {\n",
       "    max-height: 300px;\n",
       "    overflow: auto;\n",
       "  }\n",
       "  table, th, td {\n",
       "    border: 1px solid black;\n",
       "    border-collapse: collapse;\n",
       "  }\n",
       "  th, td {\n",
       "    padding: 5px;\n",
       "  }\n",
       "  th {\n",
       "    text-align: left;\n",
       "  }\n",
       "</style><div class='table-result-container'><table class='table-result'><thead style='background-color: white'><tr><th>OBJECT_ID</th><th>Name</th><th>department</th><th>Customer_ID</th><th>Change_Date</th><th>Load_Date</th><th>Status</th><th>description</th><th>start_date_source</th><th>start_date_bronze</th></tr></thead><tbody><tr><td>null</td><td>null</td><td>null</td><td>null</td><td>null</td><td>null</td><td>null</td><td>null</td><td>null</td><td>null</td></tr></tbody></table></div>"
      ]
     },
     "metadata": {
      "application/vnd.databricks.v1+output": {
       "addedWidgets": {},
       "aggData": [],
       "aggError": "",
       "aggOverflow": false,
       "aggSchema": [],
       "aggSeriesLimitReached": false,
       "aggType": "",
       "arguments": {},
       "columnCustomDisplayInfos": {},
       "data": [
        [
         null,
         null,
         null,
         null,
         null,
         null,
         null,
         null,
         null,
         null
        ]
       ],
       "datasetInfos": [
        {
         "name": "_sqldf",
         "schema": {
          "fields": [
           {
            "metadata": {},
            "name": "OBJECT_ID",
            "nullable": true,
            "type": "integer"
           },
           {
            "metadata": {},
            "name": "Name",
            "nullable": true,
            "type": "string"
           },
           {
            "metadata": {},
            "name": "department",
            "nullable": true,
            "type": "string"
           },
           {
            "metadata": {},
            "name": "Customer_ID",
            "nullable": true,
            "type": "integer"
           },
           {
            "metadata": {},
            "name": "Change_Date",
            "nullable": true,
            "type": "string"
           },
           {
            "metadata": {},
            "name": "Load_Date",
            "nullable": true,
            "type": "string"
           },
           {
            "metadata": {},
            "name": "Status",
            "nullable": true,
            "type": "string"
           },
           {
            "metadata": {},
            "name": "description",
            "nullable": true,
            "type": "string"
           },
           {
            "metadata": {},
            "name": "start_date_source",
            "nullable": true,
            "type": "string"
           },
           {
            "metadata": {},
            "name": "start_date_bronze",
            "nullable": true,
            "type": "string"
           }
          ],
          "type": "struct"
         },
         "tableIdentifier": null,
         "typeStr": "pyspark.sql.connect.dataframe.DataFrame"
        }
       ],
       "dbfsResultPath": null,
       "isJsonSchema": true,
       "metadata": {
        "createTempViewForImplicitDf": true,
        "dataframeName": "_sqldf",
        "executionCount": 22
       },
       "overflow": false,
       "plotOptions": {
        "customPlotOptions": {},
        "displayType": "table",
        "pivotAggregation": null,
        "pivotColumns": null,
        "xColumns": null,
        "yColumns": null
       },
       "removedWidgets": [],
       "schema": [
        {
         "metadata": "{}",
         "name": "OBJECT_ID",
         "type": "\"integer\""
        },
        {
         "metadata": "{}",
         "name": "Name",
         "type": "\"string\""
        },
        {
         "metadata": "{}",
         "name": "department",
         "type": "\"string\""
        },
        {
         "metadata": "{}",
         "name": "Customer_ID",
         "type": "\"integer\""
        },
        {
         "metadata": "{}",
         "name": "Change_Date",
         "type": "\"string\""
        },
        {
         "metadata": "{}",
         "name": "Load_Date",
         "type": "\"string\""
        },
        {
         "metadata": "{}",
         "name": "Status",
         "type": "\"string\""
        },
        {
         "metadata": "{}",
         "name": "description",
         "type": "\"string\""
        },
        {
         "metadata": "{}",
         "name": "start_date_source",
         "type": "\"string\""
        },
        {
         "metadata": "{}",
         "name": "start_date_bronze",
         "type": "\"string\""
        }
       ],
       "type": "table"
      }
     },
     "output_type": "display_data"
    }
   ],
   "source": [
    "%sql\n",
    "SELECT *\n",
    "-- SELECT COUNT(*) AS all_null_rows\n",
    "FROM tbl_NonNull_Nulls_Blank\n",
    "WHERE OBJECT_ID IS NULL AND\n",
    "      Name IS NULL AND\n",
    "      department IS NULL AND\n",
    "      Customer_ID IS NULL AND\n",
    "      Change_Date IS NULL AND\n",
    "      Load_Date IS NULL AND\n",
    "      Status IS NULL AND\n",
    "      description IS NULL;"
   ]
  },
  {
   "cell_type": "markdown",
   "metadata": {
    "application/vnd.databricks.v1+cell": {
     "cellMetadata": {
      "byteLimit": 2048000,
      "rowLimit": 10000
     },
     "inputWidgets": {},
     "nuid": "db2bc411-7bb1-4600-b194-61a1cdc09c0f",
     "showTitle": false,
     "tableResultSettingsMap": {},
     "title": ""
    }
   },
   "source": [
    "**g) How to count the number of NULL values in a column?**"
   ]
  },
  {
   "cell_type": "code",
   "execution_count": 0,
   "metadata": {
    "application/vnd.databricks.v1+cell": {
     "cellMetadata": {
      "byteLimit": 2048000,
      "implicitDf": true,
      "rowLimit": 10000
     },
     "inputWidgets": {},
     "nuid": "b17fb6fe-e2cc-4491-9f2c-1ee5e42461fd",
     "showTitle": true,
     "tableResultSettingsMap": {},
     "title": "9) How to count the number of NULL values in a column?"
    }
   },
   "outputs": [
    {
     "output_type": "display_data",
     "data": {
      "text/html": [
       "<style scoped>\n",
       "  .table-result-container {\n",
       "    max-height: 300px;\n",
       "    overflow: auto;\n",
       "  }\n",
       "  table, th, td {\n",
       "    border: 1px solid black;\n",
       "    border-collapse: collapse;\n",
       "  }\n",
       "  th, td {\n",
       "    padding: 5px;\n",
       "  }\n",
       "  th {\n",
       "    text-align: left;\n",
       "  }\n",
       "</style><div class='table-result-container'><table class='table-result'><thead style='background-color: white'><tr><th>NullCount_description</th></tr></thead><tbody><tr><td>5</td></tr></tbody></table></div>"
      ]
     },
     "metadata": {
      "application/vnd.databricks.v1+output": {
       "addedWidgets": {},
       "aggData": [],
       "aggError": "",
       "aggOverflow": false,
       "aggSchema": [],
       "aggSeriesLimitReached": false,
       "aggType": "",
       "arguments": {},
       "columnCustomDisplayInfos": {},
       "data": [
        [
         5
        ]
       ],
       "datasetInfos": [
        {
         "name": "_sqldf",
         "schema": {
          "fields": [
           {
            "metadata": {},
            "name": "NullCount_description",
            "nullable": false,
            "type": "long"
           }
          ],
          "type": "struct"
         },
         "tableIdentifier": null,
         "typeStr": "pyspark.sql.connect.dataframe.DataFrame"
        }
       ],
       "dbfsResultPath": null,
       "isJsonSchema": true,
       "metadata": {
        "createTempViewForImplicitDf": true,
        "dataframeName": "_sqldf",
        "executionCount": 23
       },
       "overflow": false,
       "plotOptions": {
        "customPlotOptions": {},
        "displayType": "table",
        "pivotAggregation": null,
        "pivotColumns": null,
        "xColumns": null,
        "yColumns": null
       },
       "removedWidgets": [],
       "schema": [
        {
         "metadata": "{}",
         "name": "NullCount_description",
         "type": "\"long\""
        }
       ],
       "type": "table"
      }
     },
     "output_type": "display_data"
    }
   ],
   "source": [
    "%sql\n",
    "SELECT COUNT(CASE WHEN description IS NULL THEN 1 END) AS NullCount_description\n",
    "FROM tbl_NonNull_Nulls_Blank;"
   ]
  },
  {
   "cell_type": "markdown",
   "metadata": {
    "application/vnd.databricks.v1+cell": {
     "cellMetadata": {
      "byteLimit": 2048000,
      "rowLimit": 10000
     },
     "inputWidgets": {},
     "nuid": "60261eab-81a3-4723-902b-8291c56aa199",
     "showTitle": false,
     "tableResultSettingsMap": {},
     "title": ""
    }
   },
   "source": [
    "**h) All in one summary**"
   ]
  },
  {
   "cell_type": "markdown",
   "metadata": {
    "application/vnd.databricks.v1+cell": {
     "cellMetadata": {
      "byteLimit": 2048000,
      "rowLimit": 10000
     },
     "inputWidgets": {},
     "nuid": "2de557c4-915b-42e5-a66c-6eb6494ffff2",
     "showTitle": false,
     "tableResultSettingsMap": {},
     "title": ""
    }
   },
   "source": [
    "**COUNT(*):**\n",
    "- Counts all rows.\n",
    "\n",
    "**your_column IS NULL:**\n",
    "- Checks for NULL values.\n",
    "\n",
    "**your_column = '':**\n",
    "- Checks for **blank/empty strings** (only relevant for text/varchar fields).\n",
    "\n",
    "**your_column IS NOT NULL AND your_column <> '':**\n",
    "- Counts values that are **not NULL and not blank**."
   ]
  },
  {
   "cell_type": "code",
   "execution_count": 0,
   "metadata": {
    "application/vnd.databricks.v1+cell": {
     "cellMetadata": {
      "byteLimit": 2048000,
      "implicitDf": true,
      "rowLimit": 10000
     },
     "inputWidgets": {},
     "nuid": "812ef9c3-7f21-43c3-9d77-cb8254b3d187",
     "showTitle": true,
     "tableResultSettingsMap": {},
     "title": "10) name: Non-Null, Null & Blank"
    }
   },
   "outputs": [
    {
     "output_type": "display_data",
     "data": {
      "text/html": [
       "<style scoped>\n",
       "  .table-result-container {\n",
       "    max-height: 300px;\n",
       "    overflow: auto;\n",
       "  }\n",
       "  table, th, td {\n",
       "    border: 1px solid black;\n",
       "    border-collapse: collapse;\n",
       "  }\n",
       "  th, td {\n",
       "    padding: 5px;\n",
       "  }\n",
       "  th {\n",
       "    text-align: left;\n",
       "  }\n",
       "</style><div class='table-result-container'><table class='table-result'><thead style='background-color: white'><tr><th>Total_Count</th><th>Null_Count</th><th>Non_Null_Count</th><th>Blank_Count</th><th>valid_non_blank_count</th><th>Blank_Count_Difference</th><th>Null_Count_Difference</th></tr></thead><tbody><tr><td>17</td><td>3</td><td>14</td><td>3</td><td>11</td><td>11</td><td>11</td></tr></tbody></table></div>"
      ]
     },
     "metadata": {
      "application/vnd.databricks.v1+output": {
       "addedWidgets": {},
       "aggData": [],
       "aggError": "",
       "aggOverflow": false,
       "aggSchema": [],
       "aggSeriesLimitReached": false,
       "aggType": "",
       "arguments": {},
       "columnCustomDisplayInfos": {},
       "data": [
        [
         17,
         3,
         14,
         3,
         11,
         11,
         11
        ]
       ],
       "datasetInfos": [
        {
         "name": "_sqldf",
         "schema": {
          "fields": [
           {
            "metadata": {},
            "name": "Total_Count",
            "nullable": false,
            "type": "long"
           },
           {
            "metadata": {},
            "name": "Null_Count",
            "nullable": false,
            "type": "long"
           },
           {
            "metadata": {},
            "name": "Non_Null_Count",
            "nullable": false,
            "type": "long"
           },
           {
            "metadata": {},
            "name": "Blank_Count",
            "nullable": false,
            "type": "long"
           },
           {
            "metadata": {},
            "name": "valid_non_blank_count",
            "nullable": false,
            "type": "long"
           },
           {
            "metadata": {},
            "name": "Blank_Count_Difference",
            "nullable": false,
            "type": "long"
           },
           {
            "metadata": {},
            "name": "Null_Count_Difference",
            "nullable": false,
            "type": "long"
           }
          ],
          "type": "struct"
         },
         "tableIdentifier": null,
         "typeStr": "pyspark.sql.connect.dataframe.DataFrame"
        }
       ],
       "dbfsResultPath": null,
       "isJsonSchema": true,
       "metadata": {
        "createTempViewForImplicitDf": true,
        "dataframeName": "_sqldf",
        "executionCount": 24
       },
       "overflow": false,
       "plotOptions": {
        "customPlotOptions": {},
        "displayType": "table",
        "pivotAggregation": null,
        "pivotColumns": null,
        "xColumns": null,
        "yColumns": null
       },
       "removedWidgets": [],
       "schema": [
        {
         "metadata": "{}",
         "name": "Total_Count",
         "type": "\"long\""
        },
        {
         "metadata": "{}",
         "name": "Null_Count",
         "type": "\"long\""
        },
        {
         "metadata": "{}",
         "name": "Non_Null_Count",
         "type": "\"long\""
        },
        {
         "metadata": "{}",
         "name": "Blank_Count",
         "type": "\"long\""
        },
        {
         "metadata": "{}",
         "name": "valid_non_blank_count",
         "type": "\"long\""
        },
        {
         "metadata": "{}",
         "name": "Blank_Count_Difference",
         "type": "\"long\""
        },
        {
         "metadata": "{}",
         "name": "Null_Count_Difference",
         "type": "\"long\""
        }
       ],
       "type": "table"
      }
     },
     "output_type": "display_data"
    }
   ],
   "source": [
    "%sql\n",
    "SELECT \n",
    "    COUNT(*) AS Total_Count,\n",
    "    COUNT(CASE WHEN Name IS NULL THEN 1 END) AS Null_Count,\n",
    "    COUNT(CASE WHEN Name IS NOT NULL THEN 1 END) AS Non_Null_Count,\n",
    "    COUNT(CASE WHEN Name = '' THEN 1 END) AS Blank_Count,\n",
    "    COUNT(CASE WHEN Name IS NOT NULL AND Name <> '' THEN 1 END) AS valid_non_blank_count,\n",
    "    (COUNT(CASE WHEN Name IS NOT NULL THEN 1 END) - \n",
    "     COUNT(CASE WHEN Name = '' THEN 1 END)) AS Blank_Count_Difference,\n",
    "    (COUNT(CASE WHEN Name IS NOT NULL THEN 1 END) - \n",
    "     COUNT(CASE WHEN Name IS NULL THEN 1 END)) AS Null_Count_Difference\n",
    "FROM tbl_NonNull_Nulls_Blank;"
   ]
  },
  {
   "cell_type": "markdown",
   "metadata": {
    "application/vnd.databricks.v1+cell": {
     "cellMetadata": {
      "byteLimit": 2048000,
      "rowLimit": 10000
     },
     "inputWidgets": {},
     "nuid": "13600bf0-a09d-4681-a85b-0e06e41eae35",
     "showTitle": false,
     "tableResultSettingsMap": {},
     "title": ""
    }
   },
   "source": [
    "**Expression A:**\n",
    "\n",
    "     COUNT(CASE WHEN name IS NOT NULL AND name <> '' THEN 1 END) AS valid_non_blank_count\n",
    "\n",
    "This counts all rows where:\n",
    "- **name** is **not NULL**, and\n",
    "- **name** is **not a blank string ('')**.\n",
    "\n",
    "✅ Not NULL and Not blank → **\"valid non-blank values\"**\n",
    "\n"
   ]
  },
  {
   "cell_type": "markdown",
   "metadata": {
    "application/vnd.databricks.v1+cell": {
     "cellMetadata": {
      "byteLimit": 2048000,
      "rowLimit": 10000
     },
     "inputWidgets": {},
     "nuid": "6704d529-39e4-407b-9919-d5f741bea303",
     "showTitle": false,
     "tableResultSettingsMap": {},
     "title": ""
    }
   },
   "source": [
    "**Expression B:**\n",
    "\n",
    "     (COUNT(CASE WHEN name IS NOT NULL THEN 1 END) - COUNT(CASE WHEN name = '' THEN 1 END)) AS Blank_Count_Difference\n",
    "\n",
    "- Counts all **non-NULL** values: **COUNT(CASE WHEN name IS NOT NULL THEN 1 END)**\n",
    "- Then subtracts the **number of blank strings** (regardless of NULL status): **COUNT(CASE WHEN name = '' THEN 1 END)**\n"
   ]
  },
  {
   "cell_type": "code",
   "execution_count": 0,
   "metadata": {
    "application/vnd.databricks.v1+cell": {
     "cellMetadata": {
      "byteLimit": 2048000,
      "implicitDf": true,
      "rowLimit": 10000
     },
     "inputWidgets": {},
     "nuid": "f8bef72f-a6cc-4b10-a1b8-7365fd8cb730",
     "showTitle": true,
     "tableResultSettingsMap": {},
     "title": "11) department: Non-Null, Null & Blank"
    }
   },
   "outputs": [
    {
     "output_type": "display_data",
     "data": {
      "text/html": [
       "<style scoped>\n",
       "  .table-result-container {\n",
       "    max-height: 300px;\n",
       "    overflow: auto;\n",
       "  }\n",
       "  table, th, td {\n",
       "    border: 1px solid black;\n",
       "    border-collapse: collapse;\n",
       "  }\n",
       "  th, td {\n",
       "    padding: 5px;\n",
       "  }\n",
       "  th {\n",
       "    text-align: left;\n",
       "  }\n",
       "</style><div class='table-result-container'><table class='table-result'><thead style='background-color: white'><tr><th>Total_Count</th><th>Null_Count</th><th>Non_Null_Count</th><th>Blank_Count</th><th>valid_non_blank_count</th><th>Blank_Count_Difference</th><th>Null_Count_Difference</th></tr></thead><tbody><tr><td>17</td><td>4</td><td>13</td><td>1</td><td>12</td><td>12</td><td>9</td></tr></tbody></table></div>"
      ]
     },
     "metadata": {
      "application/vnd.databricks.v1+output": {
       "addedWidgets": {},
       "aggData": [],
       "aggError": "",
       "aggOverflow": false,
       "aggSchema": [],
       "aggSeriesLimitReached": false,
       "aggType": "",
       "arguments": {},
       "columnCustomDisplayInfos": {},
       "data": [
        [
         17,
         4,
         13,
         1,
         12,
         12,
         9
        ]
       ],
       "datasetInfos": [
        {
         "name": "_sqldf",
         "schema": {
          "fields": [
           {
            "metadata": {},
            "name": "Total_Count",
            "nullable": false,
            "type": "long"
           },
           {
            "metadata": {},
            "name": "Null_Count",
            "nullable": false,
            "type": "long"
           },
           {
            "metadata": {},
            "name": "Non_Null_Count",
            "nullable": false,
            "type": "long"
           },
           {
            "metadata": {},
            "name": "Blank_Count",
            "nullable": false,
            "type": "long"
           },
           {
            "metadata": {},
            "name": "valid_non_blank_count",
            "nullable": false,
            "type": "long"
           },
           {
            "metadata": {},
            "name": "Blank_Count_Difference",
            "nullable": false,
            "type": "long"
           },
           {
            "metadata": {},
            "name": "Null_Count_Difference",
            "nullable": false,
            "type": "long"
           }
          ],
          "type": "struct"
         },
         "tableIdentifier": null,
         "typeStr": "pyspark.sql.connect.dataframe.DataFrame"
        }
       ],
       "dbfsResultPath": null,
       "isJsonSchema": true,
       "metadata": {
        "createTempViewForImplicitDf": true,
        "dataframeName": "_sqldf",
        "executionCount": 25
       },
       "overflow": false,
       "plotOptions": {
        "customPlotOptions": {},
        "displayType": "table",
        "pivotAggregation": null,
        "pivotColumns": null,
        "xColumns": null,
        "yColumns": null
       },
       "removedWidgets": [],
       "schema": [
        {
         "metadata": "{}",
         "name": "Total_Count",
         "type": "\"long\""
        },
        {
         "metadata": "{}",
         "name": "Null_Count",
         "type": "\"long\""
        },
        {
         "metadata": "{}",
         "name": "Non_Null_Count",
         "type": "\"long\""
        },
        {
         "metadata": "{}",
         "name": "Blank_Count",
         "type": "\"long\""
        },
        {
         "metadata": "{}",
         "name": "valid_non_blank_count",
         "type": "\"long\""
        },
        {
         "metadata": "{}",
         "name": "Blank_Count_Difference",
         "type": "\"long\""
        },
        {
         "metadata": "{}",
         "name": "Null_Count_Difference",
         "type": "\"long\""
        }
       ],
       "type": "table"
      }
     },
     "output_type": "display_data"
    }
   ],
   "source": [
    "%sql\n",
    "SELECT \n",
    "    COUNT(*) AS Total_Count,\n",
    "    COUNT(CASE WHEN department IS NULL THEN 1 END) AS Null_Count,\n",
    "    COUNT(CASE WHEN department IS NOT NULL THEN 1 END) AS Non_Null_Count,\n",
    "    COUNT(CASE WHEN department = '' THEN 1 END) AS Blank_Count,\n",
    "    COUNT(CASE WHEN department IS NOT NULL AND department <> '' THEN 1 END) AS valid_non_blank_count,\n",
    "    (COUNT(CASE WHEN department IS NOT NULL THEN 1 END) - \n",
    "     COUNT(CASE WHEN department = '' THEN 1 END)) AS Blank_Count_Difference,\n",
    "    (COUNT(CASE WHEN department IS NOT NULL THEN 1 END) - \n",
    "     COUNT(CASE WHEN department IS NULL THEN 1 END)) AS Null_Count_Difference\n",
    "FROM tbl_NonNull_Nulls_Blank;"
   ]
  },
  {
   "cell_type": "code",
   "execution_count": 0,
   "metadata": {
    "application/vnd.databricks.v1+cell": {
     "cellMetadata": {
      "byteLimit": 2048000,
      "implicitDf": true,
      "rowLimit": 10000
     },
     "inputWidgets": {},
     "nuid": "e463ecf1-d14e-4e37-9163-ed9e9ad031c4",
     "showTitle": true,
     "tableResultSettingsMap": {},
     "title": "12) All Columns in Tabular Format"
    }
   },
   "outputs": [
    {
     "output_type": "display_data",
     "data": {
      "text/html": [
       "<style scoped>\n",
       "  .table-result-container {\n",
       "    max-height: 300px;\n",
       "    overflow: auto;\n",
       "  }\n",
       "  table, th, td {\n",
       "    border: 1px solid black;\n",
       "    border-collapse: collapse;\n",
       "  }\n",
       "  th, td {\n",
       "    padding: 5px;\n",
       "  }\n",
       "  th {\n",
       "    text-align: left;\n",
       "  }\n",
       "</style><div class='table-result-container'><table class='table-result'><thead style='background-color: white'><tr><th>Column_Name</th><th>Total_Count</th><th>Null_Count</th><th>Non_Null_Count</th><th>Blank_Count</th><th>Valid_Non_Blank_Count</th><th>Blank_Count_Difference</th><th>Null_Count_Difference</th></tr></thead><tbody><tr><td>OBJECT_ID</td><td>17</td><td>2</td><td>15</td><td>null</td><td>15</td><td>null</td><td>13</td></tr><tr><td>Name</td><td>17</td><td>3</td><td>14</td><td>3</td><td>11</td><td>11</td><td>11</td></tr><tr><td>department</td><td>17</td><td>4</td><td>13</td><td>1</td><td>12</td><td>12</td><td>9</td></tr><tr><td>Customer_ID</td><td>17</td><td>4</td><td>13</td><td>null</td><td>13</td><td>null</td><td>9</td></tr><tr><td>Change_Date</td><td>17</td><td>7</td><td>10</td><td>0</td><td>10</td><td>10</td><td>3</td></tr><tr><td>Load_Date</td><td>17</td><td>5</td><td>12</td><td>0</td><td>12</td><td>12</td><td>7</td></tr><tr><td>Status</td><td>17</td><td>3</td><td>14</td><td>0</td><td>14</td><td>14</td><td>11</td></tr><tr><td>description</td><td>17</td><td>5</td><td>12</td><td>0</td><td>12</td><td>12</td><td>7</td></tr></tbody></table></div>"
      ]
     },
     "metadata": {
      "application/vnd.databricks.v1+output": {
       "addedWidgets": {},
       "aggData": [],
       "aggError": "",
       "aggOverflow": false,
       "aggSchema": [],
       "aggSeriesLimitReached": false,
       "aggType": "",
       "arguments": {},
       "columnCustomDisplayInfos": {},
       "data": [
        [
         "OBJECT_ID",
         17,
         2,
         15,
         null,
         15,
         null,
         13
        ],
        [
         "Name",
         17,
         3,
         14,
         3,
         11,
         11,
         11
        ],
        [
         "department",
         17,
         4,
         13,
         1,
         12,
         12,
         9
        ],
        [
         "Customer_ID",
         17,
         4,
         13,
         null,
         13,
         null,
         9
        ],
        [
         "Change_Date",
         17,
         7,
         10,
         0,
         10,
         10,
         3
        ],
        [
         "Load_Date",
         17,
         5,
         12,
         0,
         12,
         12,
         7
        ],
        [
         "Status",
         17,
         3,
         14,
         0,
         14,
         14,
         11
        ],
        [
         "description",
         17,
         5,
         12,
         0,
         12,
         12,
         7
        ]
       ],
       "datasetInfos": [
        {
         "name": "_sqldf",
         "schema": {
          "fields": [
           {
            "metadata": {},
            "name": "Column_Name",
            "nullable": false,
            "type": "string"
           },
           {
            "metadata": {},
            "name": "Total_Count",
            "nullable": false,
            "type": "long"
           },
           {
            "metadata": {},
            "name": "Null_Count",
            "nullable": false,
            "type": "long"
           },
           {
            "metadata": {},
            "name": "Non_Null_Count",
            "nullable": false,
            "type": "long"
           },
           {
            "metadata": {},
            "name": "Blank_Count",
            "nullable": true,
            "type": "long"
           },
           {
            "metadata": {},
            "name": "Valid_Non_Blank_Count",
            "nullable": false,
            "type": "long"
           },
           {
            "metadata": {},
            "name": "Blank_Count_Difference",
            "nullable": true,
            "type": "long"
           },
           {
            "metadata": {},
            "name": "Null_Count_Difference",
            "nullable": false,
            "type": "long"
           }
          ],
          "type": "struct"
         },
         "tableIdentifier": null,
         "typeStr": "pyspark.sql.connect.dataframe.DataFrame"
        }
       ],
       "dbfsResultPath": null,
       "isJsonSchema": true,
       "metadata": {
        "createTempViewForImplicitDf": true,
        "dataframeName": "_sqldf",
        "executionCount": 16
       },
       "overflow": false,
       "plotOptions": {
        "customPlotOptions": {},
        "displayType": "table",
        "pivotAggregation": null,
        "pivotColumns": null,
        "xColumns": null,
        "yColumns": null
       },
       "removedWidgets": [],
       "schema": [
        {
         "metadata": "{}",
         "name": "Column_Name",
         "type": "\"string\""
        },
        {
         "metadata": "{}",
         "name": "Total_Count",
         "type": "\"long\""
        },
        {
         "metadata": "{}",
         "name": "Null_Count",
         "type": "\"long\""
        },
        {
         "metadata": "{}",
         "name": "Non_Null_Count",
         "type": "\"long\""
        },
        {
         "metadata": "{}",
         "name": "Blank_Count",
         "type": "\"long\""
        },
        {
         "metadata": "{}",
         "name": "Valid_Non_Blank_Count",
         "type": "\"long\""
        },
        {
         "metadata": "{}",
         "name": "Blank_Count_Difference",
         "type": "\"long\""
        },
        {
         "metadata": "{}",
         "name": "Null_Count_Difference",
         "type": "\"long\""
        }
       ],
       "type": "table"
      }
     },
     "output_type": "display_data"
    }
   ],
   "source": [
    "%sql\n",
    "SELECT 'OBJECT_ID' AS Column_Name,\n",
    "    COUNT(*) AS Total_Count,\n",
    "    COUNT(CASE WHEN OBJECT_ID IS NULL THEN 1 END) AS Null_Count,\n",
    "    COUNT(CASE WHEN OBJECT_ID IS NOT NULL THEN 1 END) AS Non_Null_Count,\n",
    "    NULL AS Blank_Count,\n",
    "    COUNT(CASE WHEN OBJECT_ID IS NOT NULL THEN 1 END) AS Valid_Non_Blank_Count,\n",
    "    NULL AS Blank_Count_Difference,\n",
    "    (COUNT(CASE WHEN OBJECT_ID IS NOT NULL THEN 1 END) - COUNT(CASE WHEN OBJECT_ID IS NULL THEN 1 END)) AS Null_Count_Difference\n",
    "FROM tbl_NonNull_Nulls_Blank\n",
    "\n",
    "UNION ALL\n",
    "\n",
    "SELECT 'Name',\n",
    "    COUNT(*),\n",
    "    COUNT(CASE WHEN Name IS NULL THEN 1 END),\n",
    "    COUNT(CASE WHEN Name IS NOT NULL THEN 1 END),\n",
    "    COUNT(CASE WHEN Name = '' THEN 1 END),\n",
    "    COUNT(CASE WHEN Name IS NOT NULL AND Name <> '' THEN 1 END),\n",
    "    (COUNT(CASE WHEN Name IS NOT NULL THEN 1 END) - COUNT(CASE WHEN Name = '' THEN 1 END)),\n",
    "    (COUNT(CASE WHEN Name IS NOT NULL THEN 1 END) - COUNT(CASE WHEN Name IS NULL THEN 1 END))\n",
    "FROM tbl_NonNull_Nulls_Blank\n",
    "\n",
    "UNION ALL\n",
    "\n",
    "SELECT 'department',\n",
    "    COUNT(*),\n",
    "    COUNT(CASE WHEN department IS NULL THEN 1 END),\n",
    "    COUNT(CASE WHEN department IS NOT NULL THEN 1 END),\n",
    "    COUNT(CASE WHEN department = '' THEN 1 END),\n",
    "    COUNT(CASE WHEN department IS NOT NULL AND department <> '' THEN 1 END),\n",
    "    (COUNT(CASE WHEN department IS NOT NULL THEN 1 END) - COUNT(CASE WHEN department = '' THEN 1 END)),\n",
    "    (COUNT(CASE WHEN department IS NOT NULL THEN 1 END) - COUNT(CASE WHEN department IS NULL THEN 1 END))\n",
    "FROM tbl_NonNull_Nulls_Blank\n",
    "\n",
    "UNION ALL\n",
    "\n",
    "SELECT 'Customer_ID',\n",
    "    COUNT(*) AS Total_Count,\n",
    "    COUNT(CASE WHEN Customer_ID IS NULL THEN 1 END) AS Null_Count,\n",
    "    COUNT(CASE WHEN Customer_ID IS NOT NULL THEN 1 END) AS Non_Null_Count,\n",
    "    NULL AS Blank_Count,\n",
    "    COUNT(CASE WHEN Customer_ID IS NOT NULL THEN 1 END) AS Valid_Non_Blank_Count,\n",
    "    NULL AS Blank_Count_Difference,\n",
    "    (COUNT(CASE WHEN Customer_ID IS NOT NULL THEN 1 END) - COUNT(CASE WHEN Customer_ID IS NULL THEN 1 END)) AS Null_Count_Difference\n",
    "FROM tbl_NonNull_Nulls_Blank\n",
    "\n",
    "UNION ALL\n",
    "\n",
    "SELECT 'Change_Date',\n",
    "    COUNT(*),\n",
    "    COUNT(CASE WHEN Change_Date IS NULL THEN 1 END),\n",
    "    COUNT(CASE WHEN Change_Date IS NOT NULL THEN 1 END),\n",
    "    COUNT(CASE WHEN Change_Date = '' THEN 1 END),\n",
    "    COUNT(CASE WHEN Change_Date IS NOT NULL AND Change_Date <> '' THEN 1 END),\n",
    "    (COUNT(CASE WHEN Change_Date IS NOT NULL THEN 1 END) - COUNT(CASE WHEN Change_Date = '' THEN 1 END)),\n",
    "    (COUNT(CASE WHEN Change_Date IS NOT NULL THEN 1 END) - COUNT(CASE WHEN Change_Date IS NULL THEN 1 END))\n",
    "FROM tbl_NonNull_Nulls_Blank\n",
    "\n",
    "UNION ALL\n",
    "\n",
    "SELECT 'Load_Date',\n",
    "    COUNT(*),\n",
    "    COUNT(CASE WHEN Load_Date IS NULL THEN 1 END),\n",
    "    COUNT(CASE WHEN Load_Date IS NOT NULL THEN 1 END),\n",
    "    COUNT(CASE WHEN Load_Date = '' THEN 1 END),\n",
    "    COUNT(CASE WHEN Load_Date IS NOT NULL AND Load_Date <> '' THEN 1 END),\n",
    "    (COUNT(CASE WHEN Load_Date IS NOT NULL THEN 1 END) - COUNT(CASE WHEN Load_Date = '' THEN 1 END)),\n",
    "    (COUNT(CASE WHEN Load_Date IS NOT NULL THEN 1 END) - COUNT(CASE WHEN Load_Date IS NULL THEN 1 END))\n",
    "FROM tbl_NonNull_Nulls_Blank\n",
    "\n",
    "UNION ALL\n",
    "\n",
    "SELECT 'Status',\n",
    "    COUNT(*),\n",
    "    COUNT(CASE WHEN Status IS NULL THEN 1 END),\n",
    "    COUNT(CASE WHEN Status IS NOT NULL THEN 1 END),\n",
    "    COUNT(CASE WHEN Status = '' THEN 1 END),\n",
    "    COUNT(CASE WHEN Status IS NOT NULL AND Status <> '' THEN 1 END),\n",
    "    (COUNT(CASE WHEN Status IS NOT NULL THEN 1 END) - COUNT(CASE WHEN Status = '' THEN 1 END)),\n",
    "    (COUNT(CASE WHEN Status IS NOT NULL THEN 1 END) - COUNT(CASE WHEN Status IS NULL THEN 1 END))\n",
    "FROM tbl_NonNull_Nulls_Blank\n",
    "\n",
    "UNION ALL\n",
    "\n",
    "SELECT 'description',\n",
    "    COUNT(*),\n",
    "    COUNT(CASE WHEN description IS NULL THEN 1 END),\n",
    "    COUNT(CASE WHEN description IS NOT NULL THEN 1 END),\n",
    "    COUNT(CASE WHEN description = '' THEN 1 END),\n",
    "    COUNT(CASE WHEN description IS NOT NULL AND description <> '' THEN 1 END),\n",
    "    (COUNT(CASE WHEN description IS NOT NULL THEN 1 END) - COUNT(CASE WHEN description = '' THEN 1 END)),\n",
    "    (COUNT(CASE WHEN description IS NOT NULL THEN 1 END) - COUNT(CASE WHEN description IS NULL THEN 1 END))\n",
    "FROM tbl_NonNull_Nulls_Blank;\n"
   ]
  },
  {
   "cell_type": "markdown",
   "metadata": {
    "application/vnd.databricks.v1+cell": {
     "cellMetadata": {
      "byteLimit": 2048000,
      "rowLimit": 10000
     },
     "inputWidgets": {},
     "nuid": "c4490225-78e1-4a5a-a385-2f1cee6e4d2a",
     "showTitle": false,
     "tableResultSettingsMap": {},
     "title": ""
    }
   },
   "source": [
    "**g) All in one summary using SUM(CASE … END)**"
   ]
  },
  {
   "cell_type": "code",
   "execution_count": 0,
   "metadata": {
    "application/vnd.databricks.v1+cell": {
     "cellMetadata": {
      "byteLimit": 2048000,
      "implicitDf": true,
      "rowLimit": 10000
     },
     "inputWidgets": {},
     "nuid": "8f960dff-8540-4dd5-839b-6d63365d379e",
     "showTitle": true,
     "tableResultSettingsMap": {},
     "title": "13) All in one summary using SUM(CASE … END)"
    }
   },
   "outputs": [
    {
     "output_type": "display_data",
     "data": {
      "text/html": [
       "<style scoped>\n",
       "  .table-result-container {\n",
       "    max-height: 300px;\n",
       "    overflow: auto;\n",
       "  }\n",
       "  table, th, td {\n",
       "    border: 1px solid black;\n",
       "    border-collapse: collapse;\n",
       "  }\n",
       "  th, td {\n",
       "    padding: 5px;\n",
       "  }\n",
       "  th {\n",
       "    text-align: left;\n",
       "  }\n",
       "</style><div class='table-result-container'><table class='table-result'><thead style='background-color: white'><tr><th>num_null</th><th>num_blank</th><th>num_non_null_non_blank</th></tr></thead><tbody><tr><td>4</td><td>1</td><td>12</td></tr></tbody></table></div>"
      ]
     },
     "metadata": {
      "application/vnd.databricks.v1+output": {
       "addedWidgets": {},
       "aggData": [],
       "aggError": "",
       "aggOverflow": false,
       "aggSchema": [],
       "aggSeriesLimitReached": false,
       "aggType": "",
       "arguments": {},
       "columnCustomDisplayInfos": {},
       "data": [
        [
         4,
         1,
         12
        ]
       ],
       "datasetInfos": [
        {
         "name": "_sqldf",
         "schema": {
          "fields": [
           {
            "metadata": {},
            "name": "num_null",
            "nullable": true,
            "type": "long"
           },
           {
            "metadata": {},
            "name": "num_blank",
            "nullable": true,
            "type": "long"
           },
           {
            "metadata": {},
            "name": "num_non_null_non_blank",
            "nullable": true,
            "type": "long"
           }
          ],
          "type": "struct"
         },
         "tableIdentifier": null,
         "typeStr": "pyspark.sql.connect.dataframe.DataFrame"
        }
       ],
       "dbfsResultPath": null,
       "isJsonSchema": true,
       "metadata": {
        "createTempViewForImplicitDf": true,
        "dataframeName": "_sqldf",
        "executionCount": 27
       },
       "overflow": false,
       "plotOptions": {
        "customPlotOptions": {},
        "displayType": "table",
        "pivotAggregation": null,
        "pivotColumns": null,
        "xColumns": null,
        "yColumns": null
       },
       "removedWidgets": [],
       "schema": [
        {
         "metadata": "{}",
         "name": "num_null",
         "type": "\"long\""
        },
        {
         "metadata": "{}",
         "name": "num_blank",
         "type": "\"long\""
        },
        {
         "metadata": "{}",
         "name": "num_non_null_non_blank",
         "type": "\"long\""
        }
       ],
       "type": "table"
      }
     },
     "output_type": "display_data"
    }
   ],
   "source": [
    "%sql\n",
    "SELECT\n",
    "  SUM(CASE WHEN department IS NULL THEN 1 ELSE 0 END) AS num_null,\n",
    "  SUM(CASE WHEN department = '' THEN 1 ELSE 0 END) AS num_blank,\n",
    "  SUM(CASE WHEN department IS NOT NULL \n",
    "            AND department <> '' THEN 1 ELSE 0 END) AS num_non_null_non_blank\n",
    "FROM tbl_NonNull_Nulls_Blank;"
   ]
  },
  {
   "cell_type": "markdown",
   "metadata": {
    "application/vnd.databricks.v1+cell": {
     "cellMetadata": {
      "byteLimit": 2048000,
      "rowLimit": 10000
     },
     "inputWidgets": {},
     "nuid": "0142d08d-c0f8-4871-87f5-c5d306148792",
     "showTitle": false,
     "tableResultSettingsMap": {},
     "title": ""
    }
   },
   "source": [
    "**h) Grouping by status**"
   ]
  },
  {
   "cell_type": "code",
   "execution_count": 0,
   "metadata": {
    "application/vnd.databricks.v1+cell": {
     "cellMetadata": {
      "byteLimit": 2048000,
      "implicitDf": true,
      "rowLimit": 10000
     },
     "inputWidgets": {},
     "nuid": "601cec9e-492b-4099-8d91-4529bc91f39b",
     "showTitle": true,
     "tableResultSettingsMap": {},
     "title": "14) Grouping by status"
    }
   },
   "outputs": [
    {
     "output_type": "display_data",
     "data": {
      "text/html": [
       "<style scoped>\n",
       "  .table-result-container {\n",
       "    max-height: 300px;\n",
       "    overflow: auto;\n",
       "  }\n",
       "  table, th, td {\n",
       "    border: 1px solid black;\n",
       "    border-collapse: collapse;\n",
       "  }\n",
       "  th, td {\n",
       "    padding: 5px;\n",
       "  }\n",
       "  th {\n",
       "    text-align: left;\n",
       "  }\n",
       "</style><div class='table-result-container'><table class='table-result'><thead style='background-color: white'><tr><th>status</th><th>cnt</th></tr></thead><tbody><tr><td>NON-NULL/NON-BLANK</td><td>11</td></tr><tr><td>BLANK</td><td>3</td></tr><tr><td>NULL</td><td>3</td></tr></tbody></table></div>"
      ]
     },
     "metadata": {
      "application/vnd.databricks.v1+output": {
       "addedWidgets": {},
       "aggData": [],
       "aggError": "",
       "aggOverflow": false,
       "aggSchema": [],
       "aggSeriesLimitReached": false,
       "aggType": "",
       "arguments": {},
       "columnCustomDisplayInfos": {},
       "data": [
        [
         "NON-NULL/NON-BLANK",
         11
        ],
        [
         "BLANK",
         3
        ],
        [
         "NULL",
         3
        ]
       ],
       "datasetInfos": [
        {
         "name": "_sqldf",
         "schema": {
          "fields": [
           {
            "metadata": {},
            "name": "status",
            "nullable": false,
            "type": "string"
           },
           {
            "metadata": {},
            "name": "cnt",
            "nullable": false,
            "type": "long"
           }
          ],
          "type": "struct"
         },
         "tableIdentifier": null,
         "typeStr": "pyspark.sql.connect.dataframe.DataFrame"
        }
       ],
       "dbfsResultPath": null,
       "isJsonSchema": true,
       "metadata": {
        "createTempViewForImplicitDf": true,
        "dataframeName": "_sqldf",
        "executionCount": 28
       },
       "overflow": false,
       "plotOptions": {
        "customPlotOptions": {},
        "displayType": "table",
        "pivotAggregation": null,
        "pivotColumns": null,
        "xColumns": null,
        "yColumns": null
       },
       "removedWidgets": [],
       "schema": [
        {
         "metadata": "{}",
         "name": "status",
         "type": "\"string\""
        },
        {
         "metadata": "{}",
         "name": "cnt",
         "type": "\"long\""
        }
       ],
       "type": "table"
      }
     },
     "output_type": "display_data"
    }
   ],
   "source": [
    "%sql\n",
    "SELECT\n",
    "  CASE\n",
    "    WHEN Name IS NULL THEN 'NULL'\n",
    "    WHEN Name = '' THEN 'BLANK'\n",
    "    ELSE 'NON-NULL/NON-BLANK'\n",
    "  END AS status,\n",
    "  COUNT(*) AS cnt\n",
    "FROM tbl_NonNull_Nulls_Blank\n",
    "GROUP BY\n",
    "  CASE\n",
    "    WHEN Name IS NULL THEN 'NULL'\n",
    "    WHEN Name = '' THEN 'BLANK'\n",
    "    ELSE 'NON-NULL/NON-BLANK'\n",
    "  END;"
   ]
  }
 ],
 "metadata": {
  "application/vnd.databricks.v1+notebook": {
   "computePreferences": {
    "hardware": {
     "accelerator": null,
     "gpuPoolId": null,
     "memory": null
    }
   },
   "dashboards": [],
   "environmentMetadata": null,
   "inputWidgetPreferences": null,
   "language": "python",
   "notebookMetadata": {
    "mostRecentlyExecutedCommandWithImplicitDF": {
     "commandId": 8535399356868711,
     "dataframes": [
      "_sqldf"
     ]
    },
    "pythonIndentUnit": 4
   },
   "notebookName": "11_How to check count of Null, Non-Null, Blank, diff-Null, Non-Null",
   "widgets": {}
  },
  "language_info": {
   "name": "python"
  }
 },
 "nbformat": 4,
 "nbformat_minor": 0
}