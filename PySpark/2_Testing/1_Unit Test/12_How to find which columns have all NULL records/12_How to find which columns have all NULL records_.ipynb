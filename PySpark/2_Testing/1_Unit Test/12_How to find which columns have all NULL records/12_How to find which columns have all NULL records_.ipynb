{
 "cells": [
  {
   "cell_type": "markdown",
   "metadata": {
    "application/vnd.databricks.v1+cell": {
     "cellMetadata": {},
     "inputWidgets": {},
     "nuid": "cc9e13f2-abbc-464a-b6f2-8dd471368b84",
     "showTitle": false,
     "tableResultSettingsMap": {},
     "title": ""
    }
   },
   "source": [
    "#### How to find which columns in a table have all NULL records?"
   ]
  },
  {
   "cell_type": "code",
   "execution_count": 0,
   "metadata": {
    "application/vnd.databricks.v1+cell": {
     "cellMetadata": {
      "byteLimit": 2048000,
      "implicitDf": true,
      "rowLimit": 10000
     },
     "inputWidgets": {},
     "nuid": "77ce3123-283c-42c1-a225-7a010a3f3feb",
     "showTitle": false,
     "tableResultSettingsMap": {},
     "title": ""
    }
   },
   "outputs": [
    {
     "output_type": "display_data",
     "data": {
      "text/html": [
       "<style scoped>\n",
       "  .table-result-container {\n",
       "    max-height: 300px;\n",
       "    overflow: auto;\n",
       "  }\n",
       "  table, th, td {\n",
       "    border: 1px solid black;\n",
       "    border-collapse: collapse;\n",
       "  }\n",
       "  th, td {\n",
       "    padding: 5px;\n",
       "  }\n",
       "  th {\n",
       "    text-align: left;\n",
       "  }\n",
       "</style><div class='table-result-container'><table class='table-result'><thead style='background-color: white'><tr><th>Emp_ID</th><th>Sales_FROM</th><th>Sales_TO</th><th>Product_ID</th><th>Emp_Status</th><th>Emp_Text</th><th>Emp_Description</th><th>Sales_ID</th><th>Selection</th></tr></thead><tbody><tr><td>null</td><td>null</td><td>2025-03-16</td><td>null</td><td>null</td><td>null</td><td>null</td><td>10201</td><td>null</td></tr><tr><td>null</td><td>2021-01-01</td><td>2025-01-31</td><td>SN123</td><td>null</td><td>Active Product</td><td>Product description</td><td>10101</td><td>true</td></tr><tr><td>null</td><td>2025-04-25</td><td>null</td><td>SND231</td><td>null</td><td>null</td><td>Terminalogy</td><td>null</td><td>false</td></tr><tr><td>null</td><td>2022-05-11</td><td>2025-01-31</td><td>SN123</td><td>null</td><td>Products</td><td>Technology</td><td>33101</td><td>true</td></tr><tr><td>null</td><td>2025-02-21</td><td>null</td><td>SN123</td><td>null</td><td>Mandate</td><td>Division</td><td>37101</td><td>true</td></tr><tr><td>null</td><td>2023-03-14</td><td>2024-02-29</td><td>null</td><td>null</td><td>Serial</td><td>Sub-division</td><td>26101</td><td>true</td></tr><tr><td>null</td><td>2024-04-19</td><td>2023-04-22</td><td>SN123</td><td>null</td><td>Auomate</td><td>HVAC</td><td>78201</td><td>true</td></tr><tr><td>null</td><td>2025-06-16</td><td>null</td><td>SN123</td><td>null</td><td>null</td><td>Accounts</td><td>98321</td><td>true</td></tr><tr><td>null</td><td>2024-07-26</td><td>2025-06-23</td><td>null</td><td>null</td><td>Details</td><td>null</td><td>76543</td><td>true</td></tr></tbody></table></div>"
      ]
     },
     "metadata": {
      "application/vnd.databricks.v1+output": {
       "addedWidgets": {},
       "aggData": [],
       "aggError": "",
       "aggOverflow": false,
       "aggSchema": [],
       "aggSeriesLimitReached": false,
       "aggType": "",
       "arguments": {},
       "columnCustomDisplayInfos": {},
       "data": [
        [
         null,
         null,
         "2025-03-16",
         null,
         null,
         null,
         null,
         10201,
         null
        ],
        [
         null,
         "2021-01-01",
         "2025-01-31",
         "SN123",
         null,
         "Active Product",
         "Product description",
         10101,
         true
        ],
        [
         null,
         "2025-04-25",
         null,
         "SND231",
         null,
         null,
         "Terminalogy",
         null,
         false
        ],
        [
         null,
         "2022-05-11",
         "2025-01-31",
         "SN123",
         null,
         "Products",
         "Technology",
         33101,
         true
        ],
        [
         null,
         "2025-02-21",
         null,
         "SN123",
         null,
         "Mandate",
         "Division",
         37101,
         true
        ],
        [
         null,
         "2023-03-14",
         "2024-02-29",
         null,
         null,
         "Serial",
         "Sub-division",
         26101,
         true
        ],
        [
         null,
         "2024-04-19",
         "2023-04-22",
         "SN123",
         null,
         "Auomate",
         "HVAC",
         78201,
         true
        ],
        [
         null,
         "2025-06-16",
         null,
         "SN123",
         null,
         null,
         "Accounts",
         98321,
         true
        ],
        [
         null,
         "2024-07-26",
         "2025-06-23",
         null,
         null,
         "Details",
         null,
         76543,
         true
        ]
       ],
       "datasetInfos": [
        {
         "name": "_sqldf",
         "schema": {
          "fields": [
           {
            "metadata": {},
            "name": "Emp_ID",
            "nullable": true,
            "type": "integer"
           },
           {
            "metadata": {},
            "name": "Sales_FROM",
            "nullable": true,
            "type": "date"
           },
           {
            "metadata": {},
            "name": "Sales_TO",
            "nullable": true,
            "type": "date"
           },
           {
            "metadata": {
             "__CHAR_VARCHAR_TYPE_STRING": "varchar(50)"
            },
            "name": "Product_ID",
            "nullable": true,
            "type": "string"
           },
           {
            "metadata": {
             "__CHAR_VARCHAR_TYPE_STRING": "varchar(20)"
            },
            "name": "Emp_Status",
            "nullable": true,
            "type": "string"
           },
           {
            "metadata": {
             "__CHAR_VARCHAR_TYPE_STRING": "varchar(100)"
            },
            "name": "Emp_Text",
            "nullable": true,
            "type": "string"
           },
           {
            "metadata": {
             "__CHAR_VARCHAR_TYPE_STRING": "varchar(255)"
            },
            "name": "Emp_Description",
            "nullable": true,
            "type": "string"
           },
           {
            "metadata": {},
            "name": "Sales_ID",
            "nullable": true,
            "type": "integer"
           },
           {
            "metadata": {},
            "name": "Selection",
            "nullable": true,
            "type": "boolean"
           }
          ],
          "type": "struct"
         },
         "tableIdentifier": null,
         "typeStr": "pyspark.sql.connect.dataframe.DataFrame"
        }
       ],
       "dbfsResultPath": null,
       "isJsonSchema": true,
       "metadata": {
        "createTempViewForImplicitDf": true,
        "dataframeName": "_sqldf",
        "executionCount": 22
       },
       "overflow": false,
       "plotOptions": {
        "customPlotOptions": {},
        "displayType": "table",
        "pivotAggregation": null,
        "pivotColumns": null,
        "xColumns": null,
        "yColumns": null
       },
       "removedWidgets": [],
       "schema": [
        {
         "metadata": "{}",
         "name": "Emp_ID",
         "type": "\"integer\""
        },
        {
         "metadata": "{}",
         "name": "Sales_FROM",
         "type": "\"date\""
        },
        {
         "metadata": "{}",
         "name": "Sales_TO",
         "type": "\"date\""
        },
        {
         "metadata": "{\"__CHAR_VARCHAR_TYPE_STRING\": \"varchar(50)\"}",
         "name": "Product_ID",
         "type": "\"string\""
        },
        {
         "metadata": "{\"__CHAR_VARCHAR_TYPE_STRING\": \"varchar(20)\"}",
         "name": "Emp_Status",
         "type": "\"string\""
        },
        {
         "metadata": "{\"__CHAR_VARCHAR_TYPE_STRING\": \"varchar(100)\"}",
         "name": "Emp_Text",
         "type": "\"string\""
        },
        {
         "metadata": "{\"__CHAR_VARCHAR_TYPE_STRING\": \"varchar(255)\"}",
         "name": "Emp_Description",
         "type": "\"string\""
        },
        {
         "metadata": "{}",
         "name": "Sales_ID",
         "type": "\"integer\""
        },
        {
         "metadata": "{}",
         "name": "Selection",
         "type": "\"boolean\""
        }
       ],
       "type": "table"
      }
     },
     "output_type": "display_data"
    }
   ],
   "source": [
    "%sql\n",
    "-- Create sample table\n",
    "DROP TABLE IF EXISTS tblRegisteredProducts;\n",
    "CREATE TABLE tblRegisteredProducts (\n",
    "    Emp_ID INT,\n",
    "    Sales_FROM DATE,\n",
    "    Sales_TO DATE,\n",
    "    Product_ID VARCHAR(50),\n",
    "    Emp_Status VARCHAR(20),\n",
    "    Emp_Text VARCHAR(100),\n",
    "    Emp_Description VARCHAR(255),\n",
    "    Sales_ID INT,\n",
    "    Selection BOOLEAN\n",
    ");\n",
    "\n",
    "-- 2️⃣ Insert sample data\n",
    "INSERT INTO tblRegisteredProducts VALUES\n",
    "(NULL, NULL, '2025-03-16', NULL, NULL, NULL, NULL, 10201, NULL),\n",
    "(NULL, '2021-01-01', '2025-01-31', 'SN123', NULL, 'Active Product', 'Product description', 10101, TRUE),\n",
    "(NULL, '2025-04-25', NULL, 'SND231', NULL, NULL, 'Terminalogy', NULL, FALSE),\n",
    "(NULL, '2022-05-11', '2025-01-31', 'SN123', NULL, 'Products', 'Technology', 33101, TRUE),\n",
    "(NULL, '2025-02-21', NULL, 'SN123', NULL, 'Mandate', 'Division', 37101, TRUE),\n",
    "(NULL, '2023-03-14', '2024-02-29', NULL, NULL, 'Serial', 'Sub-division', 26101, TRUE),\n",
    "(NULL, '2024-04-19', '2023-04-22', 'SN123', NULL, 'Auomate', 'HVAC', 78201, TRUE),\n",
    "(NULL, '2025-06-16', NULL, 'SN123', NULL, NULL, 'Accounts', 98321, TRUE),\n",
    "(NULL, '2024-07-26', '2025-06-23', NULL, NULL, 'Details', NULL, 76543, TRUE);\n",
    "\n",
    "SELECT * FROM tblRegisteredProducts;"
   ]
  },
  {
   "cell_type": "markdown",
   "metadata": {
    "application/vnd.databricks.v1+cell": {
     "cellMetadata": {},
     "inputWidgets": {},
     "nuid": "44961717-6074-4135-bbc5-83dfacb4eb59",
     "showTitle": false,
     "tableResultSettingsMap": {},
     "title": ""
    }
   },
   "source": [
    "**Method 01**"
   ]
  },
  {
   "cell_type": "code",
   "execution_count": 0,
   "metadata": {
    "application/vnd.databricks.v1+cell": {
     "cellMetadata": {
      "byteLimit": 2048000,
      "implicitDf": true,
      "rowLimit": 10000
     },
     "inputWidgets": {},
     "nuid": "a6262338-4174-4d94-93ee-11bb6a786b12",
     "showTitle": false,
     "tableResultSettingsMap": {},
     "title": ""
    }
   },
   "outputs": [
    {
     "output_type": "display_data",
     "data": {
      "text/html": [
       "<style scoped>\n",
       "  .table-result-container {\n",
       "    max-height: 300px;\n",
       "    overflow: auto;\n",
       "  }\n",
       "  table, th, td {\n",
       "    border: 1px solid black;\n",
       "    border-collapse: collapse;\n",
       "  }\n",
       "  th, td {\n",
       "    padding: 5px;\n",
       "  }\n",
       "  th {\n",
       "    text-align: left;\n",
       "  }\n",
       "</style><div class='table-result-container'><table class='table-result'><thead style='background-color: white'><tr><th>Emp_ID</th></tr></thead><tbody><tr><td>Emp_ID</td></tr></tbody></table></div>"
      ]
     },
     "metadata": {
      "application/vnd.databricks.v1+output": {
       "addedWidgets": {},
       "aggData": [],
       "aggError": "",
       "aggOverflow": false,
       "aggSchema": [],
       "aggSeriesLimitReached": false,
       "aggType": "",
       "arguments": {},
       "columnCustomDisplayInfos": {},
       "data": [
        [
         "Emp_ID"
        ]
       ],
       "datasetInfos": [
        {
         "name": "_sqldf",
         "schema": {
          "fields": [
           {
            "metadata": {},
            "name": "Emp_ID",
            "nullable": false,
            "type": "string"
           }
          ],
          "type": "struct"
         },
         "tableIdentifier": null,
         "typeStr": "pyspark.sql.connect.dataframe.DataFrame"
        }
       ],
       "dbfsResultPath": null,
       "isJsonSchema": true,
       "metadata": {
        "createTempViewForImplicitDf": true,
        "dataframeName": "_sqldf",
        "executionCount": 36
       },
       "overflow": false,
       "plotOptions": {
        "customPlotOptions": {},
        "displayType": "table",
        "pivotAggregation": null,
        "pivotColumns": null,
        "xColumns": null,
        "yColumns": null
       },
       "removedWidgets": [],
       "schema": [
        {
         "metadata": "{}",
         "name": "Emp_ID",
         "type": "\"string\""
        }
       ],
       "type": "table"
      }
     },
     "output_type": "display_data"
    }
   ],
   "source": [
    "%sql\n",
    "SELECT 'Emp_ID' AS Emp_ID\n",
    "WHERE NOT EXISTS (\n",
    "  SELECT 1\n",
    "  FROM tblRegisteredProducts\n",
    "  WHERE Emp_ID IS NOT NULL\n",
    ");"
   ]
  },
  {
   "cell_type": "code",
   "execution_count": 0,
   "metadata": {
    "application/vnd.databricks.v1+cell": {
     "cellMetadata": {
      "byteLimit": 2048000,
      "implicitDf": true,
      "rowLimit": 10000
     },
     "inputWidgets": {},
     "nuid": "3f7f8403-9793-49de-8ff9-34d6bccf58dc",
     "showTitle": false,
     "tableResultSettingsMap": {},
     "title": ""
    }
   },
   "outputs": [
    {
     "output_type": "display_data",
     "data": {
      "text/html": [
       "<style scoped>\n",
       "  .table-result-container {\n",
       "    max-height: 300px;\n",
       "    overflow: auto;\n",
       "  }\n",
       "  table, th, td {\n",
       "    border: 1px solid black;\n",
       "    border-collapse: collapse;\n",
       "  }\n",
       "  th, td {\n",
       "    padding: 5px;\n",
       "  }\n",
       "  th {\n",
       "    text-align: left;\n",
       "  }\n",
       "</style><div class='table-result-container'><table class='table-result'><thead style='background-color: white'><tr><th>1</th></tr></thead><tbody></tbody></table></div>"
      ]
     },
     "metadata": {
      "application/vnd.databricks.v1+output": {
       "addedWidgets": {},
       "aggData": [],
       "aggError": "",
       "aggOverflow": false,
       "aggSchema": [],
       "aggSeriesLimitReached": false,
       "aggType": "",
       "arguments": {},
       "columnCustomDisplayInfos": {},
       "data": [],
       "datasetInfos": [
        {
         "name": "_sqldf",
         "schema": {
          "fields": [
           {
            "metadata": {},
            "name": "1",
            "nullable": false,
            "type": "integer"
           }
          ],
          "type": "struct"
         },
         "tableIdentifier": null,
         "typeStr": "pyspark.sql.connect.dataframe.DataFrame"
        }
       ],
       "dbfsResultPath": null,
       "isJsonSchema": true,
       "metadata": {
        "createTempViewForImplicitDf": true,
        "dataframeName": "_sqldf",
        "executionCount": 31
       },
       "overflow": false,
       "plotOptions": {
        "customPlotOptions": {},
        "displayType": "table",
        "pivotAggregation": null,
        "pivotColumns": null,
        "xColumns": null,
        "yColumns": null
       },
       "removedWidgets": [],
       "schema": [
        {
         "metadata": "{}",
         "name": "1",
         "type": "\"integer\""
        }
       ],
       "type": "table"
      }
     },
     "output_type": "display_data"
    }
   ],
   "source": [
    "%sql\n",
    "SELECT 1\n",
    "FROM tblRegisteredProducts\n",
    "WHERE Emp_ID IS NOT NULL;"
   ]
  },
  {
   "cell_type": "markdown",
   "metadata": {
    "application/vnd.databricks.v1+cell": {
     "cellMetadata": {},
     "inputWidgets": {},
     "nuid": "6c1f4eae-e101-4694-bc4a-850a9171b5cb",
     "showTitle": false,
     "tableResultSettingsMap": {},
     "title": ""
    }
   },
   "source": [
    "**NOT EXISTS (...)** checks:\n",
    "- **True** if **no rows** are returned (meaning **all Emp_ID are NULL**).\n",
    "- **False** if **at least one row** exists with a **non-null Emp_ID**."
   ]
  },
  {
   "cell_type": "code",
   "execution_count": 0,
   "metadata": {
    "application/vnd.databricks.v1+cell": {
     "cellMetadata": {
      "byteLimit": 2048000,
      "implicitDf": true,
      "rowLimit": 10000
     },
     "inputWidgets": {},
     "nuid": "a9315509-45a5-4993-9a69-338789986a27",
     "showTitle": false,
     "tableResultSettingsMap": {},
     "title": ""
    }
   },
   "outputs": [
    {
     "output_type": "display_data",
     "data": {
      "text/html": [
       "<style scoped>\n",
       "  .table-result-container {\n",
       "    max-height: 300px;\n",
       "    overflow: auto;\n",
       "  }\n",
       "  table, th, td {\n",
       "    border: 1px solid black;\n",
       "    border-collapse: collapse;\n",
       "  }\n",
       "  th, td {\n",
       "    padding: 5px;\n",
       "  }\n",
       "  th {\n",
       "    text-align: left;\n",
       "  }\n",
       "</style><div class='table-result-container'><table class='table-result'><thead style='background-color: white'><tr><th>Sales_FROM</th></tr></thead><tbody></tbody></table></div>"
      ]
     },
     "metadata": {
      "application/vnd.databricks.v1+output": {
       "addedWidgets": {},
       "aggData": [],
       "aggError": "",
       "aggOverflow": false,
       "aggSchema": [],
       "aggSeriesLimitReached": false,
       "aggType": "",
       "arguments": {},
       "columnCustomDisplayInfos": {},
       "data": [],
       "datasetInfos": [
        {
         "name": "_sqldf",
         "schema": {
          "fields": [
           {
            "metadata": {},
            "name": "Sales_FROM",
            "nullable": false,
            "type": "string"
           }
          ],
          "type": "struct"
         },
         "tableIdentifier": null,
         "typeStr": "pyspark.sql.connect.dataframe.DataFrame"
        }
       ],
       "dbfsResultPath": null,
       "isJsonSchema": true,
       "metadata": {
        "createTempViewForImplicitDf": true,
        "dataframeName": "_sqldf",
        "executionCount": 30
       },
       "overflow": false,
       "plotOptions": {
        "customPlotOptions": {},
        "displayType": "table",
        "pivotAggregation": null,
        "pivotColumns": null,
        "xColumns": null,
        "yColumns": null
       },
       "removedWidgets": [],
       "schema": [
        {
         "metadata": "{}",
         "name": "Sales_FROM",
         "type": "\"string\""
        }
       ],
       "type": "table"
      }
     },
     "output_type": "display_data"
    }
   ],
   "source": [
    "%sql\n",
    "SELECT 'Sales_FROM' AS Sales_FROM\n",
    "WHERE NOT EXISTS (\n",
    "  SELECT 1\n",
    "  FROM tblRegisteredProducts\n",
    "  WHERE Sales_FROM IS NOT NULL\n",
    ");"
   ]
  },
  {
   "cell_type": "code",
   "execution_count": 0,
   "metadata": {
    "application/vnd.databricks.v1+cell": {
     "cellMetadata": {
      "byteLimit": 2048000,
      "implicitDf": true,
      "rowLimit": 10000
     },
     "inputWidgets": {},
     "nuid": "8f219f96-f846-44eb-818b-7a992edaf718",
     "showTitle": false,
     "tableResultSettingsMap": {},
     "title": ""
    }
   },
   "outputs": [
    {
     "output_type": "display_data",
     "data": {
      "text/html": [
       "<style scoped>\n",
       "  .table-result-container {\n",
       "    max-height: 300px;\n",
       "    overflow: auto;\n",
       "  }\n",
       "  table, th, td {\n",
       "    border: 1px solid black;\n",
       "    border-collapse: collapse;\n",
       "  }\n",
       "  th, td {\n",
       "    padding: 5px;\n",
       "  }\n",
       "  th {\n",
       "    text-align: left;\n",
       "  }\n",
       "</style><div class='table-result-container'><table class='table-result'><thead style='background-color: white'><tr><th>1</th></tr></thead><tbody><tr><td>1</td></tr><tr><td>1</td></tr><tr><td>1</td></tr><tr><td>1</td></tr><tr><td>1</td></tr><tr><td>1</td></tr><tr><td>1</td></tr><tr><td>1</td></tr></tbody></table></div>"
      ]
     },
     "metadata": {
      "application/vnd.databricks.v1+output": {
       "addedWidgets": {},
       "aggData": [],
       "aggError": "",
       "aggOverflow": false,
       "aggSchema": [],
       "aggSeriesLimitReached": false,
       "aggType": "",
       "arguments": {},
       "columnCustomDisplayInfos": {},
       "data": [
        [
         1
        ],
        [
         1
        ],
        [
         1
        ],
        [
         1
        ],
        [
         1
        ],
        [
         1
        ],
        [
         1
        ],
        [
         1
        ]
       ],
       "datasetInfos": [
        {
         "name": "_sqldf",
         "schema": {
          "fields": [
           {
            "metadata": {},
            "name": "1",
            "nullable": false,
            "type": "integer"
           }
          ],
          "type": "struct"
         },
         "tableIdentifier": null,
         "typeStr": "pyspark.sql.connect.dataframe.DataFrame"
        }
       ],
       "dbfsResultPath": null,
       "isJsonSchema": true,
       "metadata": {
        "createTempViewForImplicitDf": true,
        "dataframeName": "_sqldf",
        "executionCount": 35
       },
       "overflow": false,
       "plotOptions": {
        "customPlotOptions": {},
        "displayType": "table",
        "pivotAggregation": null,
        "pivotColumns": null,
        "xColumns": null,
        "yColumns": null
       },
       "removedWidgets": [],
       "schema": [
        {
         "metadata": "{}",
         "name": "1",
         "type": "\"integer\""
        }
       ],
       "type": "table"
      }
     },
     "output_type": "display_data"
    }
   ],
   "source": [
    "%sql\n",
    "SELECT 1\n",
    "FROM tblRegisteredProducts\n",
    "WHERE Sales_FROM IS NOT NULL;"
   ]
  },
  {
   "cell_type": "markdown",
   "metadata": {
    "application/vnd.databricks.v1+cell": {
     "cellMetadata": {},
     "inputWidgets": {},
     "nuid": "0f7f7106-2d86-4403-8e62-9f6179c41b7b",
     "showTitle": false,
     "tableResultSettingsMap": {},
     "title": ""
    }
   },
   "source": [
    "**Method 02**"
   ]
  },
  {
   "cell_type": "code",
   "execution_count": 0,
   "metadata": {
    "application/vnd.databricks.v1+cell": {
     "cellMetadata": {
      "byteLimit": 2048000,
      "implicitDf": true,
      "rowLimit": 10000
     },
     "inputWidgets": {},
     "nuid": "5d29a393-4002-4e51-89b2-493aa6d2d833",
     "showTitle": false,
     "tableResultSettingsMap": {},
     "title": ""
    }
   },
   "outputs": [
    {
     "output_type": "display_data",
     "data": {
      "text/html": [
       "<style scoped>\n",
       "  .table-result-container {\n",
       "    max-height: 300px;\n",
       "    overflow: auto;\n",
       "  }\n",
       "  table, th, td {\n",
       "    border: 1px solid black;\n",
       "    border-collapse: collapse;\n",
       "  }\n",
       "  th, td {\n",
       "    padding: 5px;\n",
       "  }\n",
       "  th {\n",
       "    text-align: left;\n",
       "  }\n",
       "</style><div class='table-result-container'><table class='table-result'><thead style='background-color: white'><tr><th>Emp_ID</th><th>Sales_FROM</th><th>Sales_TO</th><th>Product_ID</th><th>Emp_Status</th><th>Emp_Text</th><th>Emp_Description</th><th>Sales_ID</th><th>Selection</th></tr></thead><tbody><tr><td>Emp_ID</td><td>null</td><td>null</td><td>null</td><td>Emp_Status</td><td>null</td><td>null</td><td>null</td><td>null</td></tr></tbody></table></div>"
      ]
     },
     "metadata": {
      "application/vnd.databricks.v1+output": {
       "addedWidgets": {},
       "aggData": [],
       "aggError": "",
       "aggOverflow": false,
       "aggSchema": [],
       "aggSeriesLimitReached": false,
       "aggType": "",
       "arguments": {},
       "columnCustomDisplayInfos": {},
       "data": [
        [
         "Emp_ID",
         null,
         null,
         null,
         "Emp_Status",
         null,
         null,
         null,
         null
        ]
       ],
       "datasetInfos": [
        {
         "name": "_sqldf",
         "schema": {
          "fields": [
           {
            "metadata": {},
            "name": "Emp_ID",
            "nullable": true,
            "type": "string"
           },
           {
            "metadata": {},
            "name": "Sales_FROM",
            "nullable": true,
            "type": "string"
           },
           {
            "metadata": {},
            "name": "Sales_TO",
            "nullable": true,
            "type": "string"
           },
           {
            "metadata": {},
            "name": "Product_ID",
            "nullable": true,
            "type": "string"
           },
           {
            "metadata": {},
            "name": "Emp_Status",
            "nullable": true,
            "type": "string"
           },
           {
            "metadata": {},
            "name": "Emp_Text",
            "nullable": true,
            "type": "string"
           },
           {
            "metadata": {},
            "name": "Emp_Description",
            "nullable": true,
            "type": "string"
           },
           {
            "metadata": {},
            "name": "Sales_ID",
            "nullable": true,
            "type": "string"
           },
           {
            "metadata": {},
            "name": "Selection",
            "nullable": true,
            "type": "string"
           }
          ],
          "type": "struct"
         },
         "tableIdentifier": null,
         "typeStr": "pyspark.sql.connect.dataframe.DataFrame"
        }
       ],
       "dbfsResultPath": null,
       "isJsonSchema": true,
       "metadata": {
        "createTempViewForImplicitDf": true,
        "dataframeName": "_sqldf",
        "executionCount": 11
       },
       "overflow": false,
       "plotOptions": {
        "customPlotOptions": {},
        "displayType": "table",
        "pivotAggregation": null,
        "pivotColumns": null,
        "xColumns": null,
        "yColumns": null
       },
       "removedWidgets": [],
       "schema": [
        {
         "metadata": "{}",
         "name": "Emp_ID",
         "type": "\"string\""
        },
        {
         "metadata": "{}",
         "name": "Sales_FROM",
         "type": "\"string\""
        },
        {
         "metadata": "{}",
         "name": "Sales_TO",
         "type": "\"string\""
        },
        {
         "metadata": "{}",
         "name": "Product_ID",
         "type": "\"string\""
        },
        {
         "metadata": "{}",
         "name": "Emp_Status",
         "type": "\"string\""
        },
        {
         "metadata": "{}",
         "name": "Emp_Text",
         "type": "\"string\""
        },
        {
         "metadata": "{}",
         "name": "Emp_Description",
         "type": "\"string\""
        },
        {
         "metadata": "{}",
         "name": "Sales_ID",
         "type": "\"string\""
        },
        {
         "metadata": "{}",
         "name": "Selection",
         "type": "\"string\""
        }
       ],
       "type": "table"
      }
     },
     "output_type": "display_data"
    }
   ],
   "source": [
    "%sql\n",
    "SELECT \n",
    "    CASE WHEN COUNT(Emp_ID) = 0 THEN 'Emp_ID' END AS Emp_ID,\n",
    "    CASE WHEN COUNT(Sales_FROM) = 0 THEN 'Sales_FROM' END AS Sales_FROM,\n",
    "    CASE WHEN COUNT(Sales_TO) = 0 THEN 'Sales_TO' END AS Sales_TO,\n",
    "    CASE WHEN COUNT(Product_ID) = 0 THEN 'Product_ID' END AS Product_ID,\n",
    "    CASE WHEN COUNT(Emp_Status) = 0 THEN 'Emp_Status' END AS Emp_Status,\n",
    "    CASE WHEN COUNT(Emp_Text) = 0 THEN 'Emp_Text' END AS Emp_Text,\n",
    "    CASE WHEN COUNT(Emp_Description) = 0 THEN 'Emp_Description' END AS Emp_Description,\n",
    "    CASE WHEN COUNT(Sales_ID) = 0 THEN 'Sales_ID' END AS Sales_ID,\n",
    "    CASE WHEN COUNT(Selection) = 0 THEN 'Selection' END AS Selection\n",
    "FROM tblRegisteredProducts;"
   ]
  },
  {
   "cell_type": "markdown",
   "metadata": {
    "application/vnd.databricks.v1+cell": {
     "cellMetadata": {},
     "inputWidgets": {},
     "nuid": "a8383ccd-bfea-4ad7-9ac9-426394c5790f",
     "showTitle": false,
     "tableResultSettingsMap": {},
     "title": ""
    }
   },
   "source": [
    "- **COUNT(column) ignores NULLs**."
   ]
  },
  {
   "cell_type": "code",
   "execution_count": 0,
   "metadata": {
    "application/vnd.databricks.v1+cell": {
     "cellMetadata": {
      "byteLimit": 2048000,
      "implicitDf": true,
      "rowLimit": 10000
     },
     "inputWidgets": {},
     "nuid": "491a2afb-af33-4591-8b76-0ac34ec8f765",
     "showTitle": false,
     "tableResultSettingsMap": {},
     "title": ""
    }
   },
   "outputs": [
    {
     "output_type": "display_data",
     "data": {
      "text/html": [
       "<style scoped>\n",
       "  .table-result-container {\n",
       "    max-height: 300px;\n",
       "    overflow: auto;\n",
       "  }\n",
       "  table, th, td {\n",
       "    border: 1px solid black;\n",
       "    border-collapse: collapse;\n",
       "  }\n",
       "  th, td {\n",
       "    padding: 5px;\n",
       "  }\n",
       "  th {\n",
       "    text-align: left;\n",
       "  }\n",
       "</style><div class='table-result-container'><table class='table-result'><thead style='background-color: white'><tr><th>Emp_ID</th><th>Sales_FROM</th><th>Sales_TO</th><th>Product_ID</th><th>Emp_Status</th><th>Emp_Text</th><th>Emp_Description</th><th>Sales_ID</th><th>Selection</th></tr></thead><tbody><tr><td>0</td><td>8</td><td>6</td><td>6</td><td>0</td><td>6</td><td>7</td><td>8</td><td>8</td></tr></tbody></table></div>"
      ]
     },
     "metadata": {
      "application/vnd.databricks.v1+output": {
       "addedWidgets": {},
       "aggData": [],
       "aggError": "",
       "aggOverflow": false,
       "aggSchema": [],
       "aggSeriesLimitReached": false,
       "aggType": "",
       "arguments": {},
       "columnCustomDisplayInfos": {},
       "data": [
        [
         0,
         8,
         6,
         6,
         0,
         6,
         7,
         8,
         8
        ]
       ],
       "datasetInfos": [
        {
         "name": "_sqldf",
         "schema": {
          "fields": [
           {
            "metadata": {},
            "name": "Emp_ID",
            "nullable": false,
            "type": "long"
           },
           {
            "metadata": {},
            "name": "Sales_FROM",
            "nullable": false,
            "type": "long"
           },
           {
            "metadata": {},
            "name": "Sales_TO",
            "nullable": false,
            "type": "long"
           },
           {
            "metadata": {},
            "name": "Product_ID",
            "nullable": false,
            "type": "long"
           },
           {
            "metadata": {},
            "name": "Emp_Status",
            "nullable": false,
            "type": "long"
           },
           {
            "metadata": {},
            "name": "Emp_Text",
            "nullable": false,
            "type": "long"
           },
           {
            "metadata": {},
            "name": "Emp_Description",
            "nullable": false,
            "type": "long"
           },
           {
            "metadata": {},
            "name": "Sales_ID",
            "nullable": false,
            "type": "long"
           },
           {
            "metadata": {},
            "name": "Selection",
            "nullable": false,
            "type": "long"
           }
          ],
          "type": "struct"
         },
         "tableIdentifier": null,
         "typeStr": "pyspark.sql.connect.dataframe.DataFrame"
        }
       ],
       "dbfsResultPath": null,
       "isJsonSchema": true,
       "metadata": {
        "createTempViewForImplicitDf": true,
        "dataframeName": "_sqldf",
        "executionCount": 15
       },
       "overflow": false,
       "plotOptions": {
        "customPlotOptions": {},
        "displayType": "table",
        "pivotAggregation": null,
        "pivotColumns": null,
        "xColumns": null,
        "yColumns": null
       },
       "removedWidgets": [],
       "schema": [
        {
         "metadata": "{}",
         "name": "Emp_ID",
         "type": "\"long\""
        },
        {
         "metadata": "{}",
         "name": "Sales_FROM",
         "type": "\"long\""
        },
        {
         "metadata": "{}",
         "name": "Sales_TO",
         "type": "\"long\""
        },
        {
         "metadata": "{}",
         "name": "Product_ID",
         "type": "\"long\""
        },
        {
         "metadata": "{}",
         "name": "Emp_Status",
         "type": "\"long\""
        },
        {
         "metadata": "{}",
         "name": "Emp_Text",
         "type": "\"long\""
        },
        {
         "metadata": "{}",
         "name": "Emp_Description",
         "type": "\"long\""
        },
        {
         "metadata": "{}",
         "name": "Sales_ID",
         "type": "\"long\""
        },
        {
         "metadata": "{}",
         "name": "Selection",
         "type": "\"long\""
        }
       ],
       "type": "table"
      }
     },
     "output_type": "display_data"
    }
   ],
   "source": [
    "%sql\n",
    "SELECT COUNT(Emp_ID) AS Emp_ID,\n",
    "       COUNT(Sales_FROM) AS Sales_FROM,\n",
    "       COUNT(Sales_TO) AS Sales_TO,\n",
    "       COUNT(Product_ID) AS Product_ID,\n",
    "       COUNT(Emp_Status) AS Emp_Status,\n",
    "       COUNT(Emp_Text) AS Emp_Text,\n",
    "       COUNT(Emp_Description) AS Emp_Description,\n",
    "       COUNT(Sales_ID) AS Sales_ID,\n",
    "       COUNT(Selection) AS Selection\n",
    "FROM tblRegisteredProducts"
   ]
  },
  {
   "cell_type": "markdown",
   "metadata": {
    "application/vnd.databricks.v1+cell": {
     "cellMetadata": {},
     "inputWidgets": {},
     "nuid": "35b53c21-2933-4e58-bfc8-882b220d666a",
     "showTitle": false,
     "tableResultSettingsMap": {},
     "title": ""
    }
   },
   "source": [
    "**Method 03**"
   ]
  },
  {
   "cell_type": "code",
   "execution_count": 0,
   "metadata": {
    "application/vnd.databricks.v1+cell": {
     "cellMetadata": {
      "byteLimit": 2048000,
      "implicitDf": true,
      "rowLimit": 10000
     },
     "inputWidgets": {},
     "nuid": "ded871cb-d900-4af9-ad8b-3b44d01d704d",
     "showTitle": false,
     "tableResultSettingsMap": {},
     "title": ""
    }
   },
   "outputs": [
    {
     "output_type": "display_data",
     "data": {
      "text/html": [
       "<style scoped>\n",
       "  .table-result-container {\n",
       "    max-height: 300px;\n",
       "    overflow: auto;\n",
       "  }\n",
       "  table, th, td {\n",
       "    border: 1px solid black;\n",
       "    border-collapse: collapse;\n",
       "  }\n",
       "  th, td {\n",
       "    padding: 5px;\n",
       "  }\n",
       "  th {\n",
       "    text-align: left;\n",
       "  }\n",
       "</style><div class='table-result-container'><table class='table-result'><thead style='background-color: white'><tr><th>Emp_ID_status</th><th>Sales_FROM_status</th><th>Sales_TO_status</th><th>Product_ID_status</th><th>Emp_Status_status</th><th>Emp_Text_status</th><th>Emp_Description_status</th><th>Sales_ID_status</th><th>Selection_status</th></tr></thead><tbody><tr><td>Emp_ID</td><td>null</td><td>null</td><td>null</td><td>Emp_Status</td><td>null</td><td>null</td><td>null</td><td>null</td></tr></tbody></table></div>"
      ]
     },
     "metadata": {
      "application/vnd.databricks.v1+output": {
       "addedWidgets": {},
       "aggData": [],
       "aggError": "",
       "aggOverflow": false,
       "aggSchema": [],
       "aggSeriesLimitReached": false,
       "aggType": "",
       "arguments": {},
       "columnCustomDisplayInfos": {},
       "data": [
        [
         "Emp_ID",
         null,
         null,
         null,
         "Emp_Status",
         null,
         null,
         null,
         null
        ]
       ],
       "datasetInfos": [
        {
         "name": "_sqldf",
         "schema": {
          "fields": [
           {
            "metadata": {},
            "name": "Emp_ID_status",
            "nullable": true,
            "type": "string"
           },
           {
            "metadata": {},
            "name": "Sales_FROM_status",
            "nullable": true,
            "type": "string"
           },
           {
            "metadata": {},
            "name": "Sales_TO_status",
            "nullable": true,
            "type": "string"
           },
           {
            "metadata": {},
            "name": "Product_ID_status",
            "nullable": true,
            "type": "string"
           },
           {
            "metadata": {},
            "name": "Emp_Status_status",
            "nullable": true,
            "type": "string"
           },
           {
            "metadata": {},
            "name": "Emp_Text_status",
            "nullable": true,
            "type": "string"
           },
           {
            "metadata": {},
            "name": "Emp_Description_status",
            "nullable": true,
            "type": "string"
           },
           {
            "metadata": {},
            "name": "Sales_ID_status",
            "nullable": true,
            "type": "string"
           },
           {
            "metadata": {},
            "name": "Selection_status",
            "nullable": true,
            "type": "string"
           }
          ],
          "type": "struct"
         },
         "tableIdentifier": null,
         "typeStr": "pyspark.sql.connect.dataframe.DataFrame"
        }
       ],
       "dbfsResultPath": null,
       "isJsonSchema": true,
       "metadata": {
        "createTempViewForImplicitDf": true,
        "dataframeName": "_sqldf",
        "executionCount": 33
       },
       "overflow": false,
       "plotOptions": {
        "customPlotOptions": {},
        "displayType": "table",
        "pivotAggregation": null,
        "pivotColumns": null,
        "xColumns": null,
        "yColumns": null
       },
       "removedWidgets": [],
       "schema": [
        {
         "metadata": "{}",
         "name": "Emp_ID_status",
         "type": "\"string\""
        },
        {
         "metadata": "{}",
         "name": "Sales_FROM_status",
         "type": "\"string\""
        },
        {
         "metadata": "{}",
         "name": "Sales_TO_status",
         "type": "\"string\""
        },
        {
         "metadata": "{}",
         "name": "Product_ID_status",
         "type": "\"string\""
        },
        {
         "metadata": "{}",
         "name": "Emp_Status_status",
         "type": "\"string\""
        },
        {
         "metadata": "{}",
         "name": "Emp_Text_status",
         "type": "\"string\""
        },
        {
         "metadata": "{}",
         "name": "Emp_Description_status",
         "type": "\"string\""
        },
        {
         "metadata": "{}",
         "name": "Sales_ID_status",
         "type": "\"string\""
        },
        {
         "metadata": "{}",
         "name": "Selection_status",
         "type": "\"string\""
        }
       ],
       "type": "table"
      }
     },
     "output_type": "display_data"
    }
   ],
   "source": [
    "%sql\n",
    "SELECT \n",
    "    CASE WHEN COUNT(CASE WHEN Emp_ID IS NOT NULL THEN 1 END) = 0 THEN 'Emp_ID' END AS Emp_ID_status,\n",
    "    CASE WHEN COUNT(CASE WHEN Sales_FROM IS NOT NULL THEN 1 END) = 0 THEN 'Sales_FROM' END AS Sales_FROM_status,\n",
    "    CASE WHEN COUNT(CASE WHEN Sales_TO IS NOT NULL THEN 1 END) = 0 THEN 'Sales_TO' END AS Sales_TO_status,\n",
    "    CASE WHEN COUNT(CASE WHEN Product_ID IS NOT NULL THEN 1 END) = 0 THEN 'Product_ID' END AS Product_ID_status,\n",
    "    CASE WHEN COUNT(CASE WHEN Emp_Status IS NOT NULL THEN 1 END) = 0 THEN 'Emp_Status' END AS Emp_Status_status,\n",
    "    CASE WHEN COUNT(CASE WHEN Emp_Text IS NOT NULL THEN 1 END) = 0 THEN 'Emp_Text' END AS Emp_Text_status,\n",
    "    CASE WHEN COUNT(CASE WHEN Emp_Description IS NOT NULL THEN 1 END) = 0 THEN 'Emp_Description' END AS Emp_Description_status,\n",
    "    CASE WHEN COUNT(CASE WHEN Sales_ID IS NOT NULL THEN 1 END) = 0 THEN 'Sales_ID' END AS Sales_ID_status,\n",
    "    CASE WHEN COUNT(CASE WHEN Selection IS NOT NULL THEN 1 END) = 0 THEN 'Selection' END AS Selection_status\n",
    "FROM tblRegisteredProducts;"
   ]
  },
  {
   "cell_type": "code",
   "execution_count": 0,
   "metadata": {
    "application/vnd.databricks.v1+cell": {
     "cellMetadata": {
      "byteLimit": 2048000,
      "implicitDf": true,
      "rowLimit": 10000
     },
     "inputWidgets": {},
     "nuid": "316e001a-9b97-471a-b393-6ccc9de176c1",
     "showTitle": false,
     "tableResultSettingsMap": {},
     "title": ""
    }
   },
   "outputs": [
    {
     "output_type": "display_data",
     "data": {
      "text/html": [
       "<style scoped>\n",
       "  .table-result-container {\n",
       "    max-height: 300px;\n",
       "    overflow: auto;\n",
       "  }\n",
       "  table, th, td {\n",
       "    border: 1px solid black;\n",
       "    border-collapse: collapse;\n",
       "  }\n",
       "  th, td {\n",
       "    padding: 5px;\n",
       "  }\n",
       "  th {\n",
       "    text-align: left;\n",
       "  }\n",
       "</style><div class='table-result-container'><table class='table-result'><thead style='background-color: white'><tr><th>Emp_ID</th></tr></thead><tbody><tr><td>null</td></tr><tr><td>null</td></tr><tr><td>null</td></tr><tr><td>null</td></tr><tr><td>null</td></tr><tr><td>null</td></tr><tr><td>null</td></tr><tr><td>null</td></tr><tr><td>null</td></tr></tbody></table></div>"
      ]
     },
     "metadata": {
      "application/vnd.databricks.v1+output": {
       "addedWidgets": {},
       "aggData": [],
       "aggError": "",
       "aggOverflow": false,
       "aggSchema": [],
       "aggSeriesLimitReached": false,
       "aggType": "",
       "arguments": {},
       "columnCustomDisplayInfos": {},
       "data": [
        [
         null
        ],
        [
         null
        ],
        [
         null
        ],
        [
         null
        ],
        [
         null
        ],
        [
         null
        ],
        [
         null
        ],
        [
         null
        ],
        [
         null
        ]
       ],
       "datasetInfos": [
        {
         "name": "_sqldf",
         "schema": {
          "fields": [
           {
            "metadata": {},
            "name": "Emp_ID",
            "nullable": true,
            "type": "integer"
           }
          ],
          "type": "struct"
         },
         "tableIdentifier": null,
         "typeStr": "pyspark.sql.connect.dataframe.DataFrame"
        }
       ],
       "dbfsResultPath": null,
       "isJsonSchema": true,
       "metadata": {
        "createTempViewForImplicitDf": true,
        "dataframeName": "_sqldf",
        "executionCount": 50
       },
       "overflow": false,
       "plotOptions": {
        "customPlotOptions": {},
        "displayType": "table",
        "pivotAggregation": null,
        "pivotColumns": null,
        "xColumns": null,
        "yColumns": null
       },
       "removedWidgets": [],
       "schema": [
        {
         "metadata": "{}",
         "name": "Emp_ID",
         "type": "\"integer\""
        }
       ],
       "type": "table"
      }
     },
     "output_type": "display_data"
    }
   ],
   "source": [
    "%sql\n",
    "SELECT CASE WHEN Emp_ID IS NOT NULL THEN 1 END AS Emp_ID\n",
    "FROM tblRegisteredProducts;"
   ]
  },
  {
   "cell_type": "code",
   "execution_count": 0,
   "metadata": {
    "application/vnd.databricks.v1+cell": {
     "cellMetadata": {
      "byteLimit": 2048000,
      "implicitDf": true,
      "rowLimit": 10000
     },
     "inputWidgets": {},
     "nuid": "d2329c85-ac30-40e3-abb2-9d8988652f5e",
     "showTitle": false,
     "tableResultSettingsMap": {},
     "title": ""
    }
   },
   "outputs": [
    {
     "output_type": "display_data",
     "data": {
      "text/html": [
       "<style scoped>\n",
       "  .table-result-container {\n",
       "    max-height: 300px;\n",
       "    overflow: auto;\n",
       "  }\n",
       "  table, th, td {\n",
       "    border: 1px solid black;\n",
       "    border-collapse: collapse;\n",
       "  }\n",
       "  th, td {\n",
       "    padding: 5px;\n",
       "  }\n",
       "  th {\n",
       "    text-align: left;\n",
       "  }\n",
       "</style><div class='table-result-container'><table class='table-result'><thead style='background-color: white'><tr><th>Emp_ID</th></tr></thead><tbody><tr><td>0</td></tr></tbody></table></div>"
      ]
     },
     "metadata": {
      "application/vnd.databricks.v1+output": {
       "addedWidgets": {},
       "aggData": [],
       "aggError": "",
       "aggOverflow": false,
       "aggSchema": [],
       "aggSeriesLimitReached": false,
       "aggType": "",
       "arguments": {},
       "columnCustomDisplayInfos": {},
       "data": [
        [
         0
        ]
       ],
       "datasetInfos": [
        {
         "name": "_sqldf",
         "schema": {
          "fields": [
           {
            "metadata": {},
            "name": "Emp_ID",
            "nullable": false,
            "type": "long"
           }
          ],
          "type": "struct"
         },
         "tableIdentifier": null,
         "typeStr": "pyspark.sql.connect.dataframe.DataFrame"
        }
       ],
       "dbfsResultPath": null,
       "isJsonSchema": true,
       "metadata": {
        "createTempViewForImplicitDf": true,
        "dataframeName": "_sqldf",
        "executionCount": 51
       },
       "overflow": false,
       "plotOptions": {
        "customPlotOptions": {},
        "displayType": "table",
        "pivotAggregation": null,
        "pivotColumns": null,
        "xColumns": null,
        "yColumns": null
       },
       "removedWidgets": [],
       "schema": [
        {
         "metadata": "{}",
         "name": "Emp_ID",
         "type": "\"long\""
        }
       ],
       "type": "table"
      }
     },
     "output_type": "display_data"
    }
   ],
   "source": [
    "%sql\n",
    "SELECT COUNT(CASE WHEN Emp_ID IS NOT NULL THEN 1 END) AS Emp_ID\n",
    "FROM tblRegisteredProducts;"
   ]
  },
  {
   "cell_type": "code",
   "execution_count": 0,
   "metadata": {
    "application/vnd.databricks.v1+cell": {
     "cellMetadata": {
      "byteLimit": 2048000,
      "implicitDf": true,
      "rowLimit": 10000
     },
     "inputWidgets": {},
     "nuid": "277505d9-54ee-4b78-913f-3314f432151d",
     "showTitle": false,
     "tableResultSettingsMap": {},
     "title": ""
    }
   },
   "outputs": [
    {
     "output_type": "display_data",
     "data": {
      "text/html": [
       "<style scoped>\n",
       "  .table-result-container {\n",
       "    max-height: 300px;\n",
       "    overflow: auto;\n",
       "  }\n",
       "  table, th, td {\n",
       "    border: 1px solid black;\n",
       "    border-collapse: collapse;\n",
       "  }\n",
       "  th, td {\n",
       "    padding: 5px;\n",
       "  }\n",
       "  th {\n",
       "    text-align: left;\n",
       "  }\n",
       "</style><div class='table-result-container'><table class='table-result'><thead style='background-color: white'><tr><th>Sales_From</th></tr></thead><tbody><tr><td>null</td></tr><tr><td>1</td></tr><tr><td>1</td></tr><tr><td>1</td></tr><tr><td>1</td></tr><tr><td>1</td></tr><tr><td>1</td></tr><tr><td>1</td></tr><tr><td>1</td></tr></tbody></table></div>"
      ]
     },
     "metadata": {
      "application/vnd.databricks.v1+output": {
       "addedWidgets": {},
       "aggData": [],
       "aggError": "",
       "aggOverflow": false,
       "aggSchema": [],
       "aggSeriesLimitReached": false,
       "aggType": "",
       "arguments": {},
       "columnCustomDisplayInfos": {},
       "data": [
        [
         null
        ],
        [
         1
        ],
        [
         1
        ],
        [
         1
        ],
        [
         1
        ],
        [
         1
        ],
        [
         1
        ],
        [
         1
        ],
        [
         1
        ]
       ],
       "datasetInfos": [
        {
         "name": "_sqldf",
         "schema": {
          "fields": [
           {
            "metadata": {},
            "name": "Sales_From",
            "nullable": true,
            "type": "integer"
           }
          ],
          "type": "struct"
         },
         "tableIdentifier": null,
         "typeStr": "pyspark.sql.connect.dataframe.DataFrame"
        }
       ],
       "dbfsResultPath": null,
       "isJsonSchema": true,
       "metadata": {
        "createTempViewForImplicitDf": true,
        "dataframeName": "_sqldf",
        "executionCount": 47
       },
       "overflow": false,
       "plotOptions": {
        "customPlotOptions": {},
        "displayType": "table",
        "pivotAggregation": null,
        "pivotColumns": null,
        "xColumns": null,
        "yColumns": null
       },
       "removedWidgets": [],
       "schema": [
        {
         "metadata": "{}",
         "name": "Sales_From",
         "type": "\"integer\""
        }
       ],
       "type": "table"
      }
     },
     "output_type": "display_data"
    }
   ],
   "source": [
    "%sql\n",
    "SELECT CASE WHEN Sales_FROM IS NOT NULL THEN 1 END AS Sales_From\n",
    "FROM tblRegisteredProducts;"
   ]
  },
  {
   "cell_type": "code",
   "execution_count": 0,
   "metadata": {
    "application/vnd.databricks.v1+cell": {
     "cellMetadata": {
      "byteLimit": 2048000,
      "implicitDf": true,
      "rowLimit": 10000
     },
     "inputWidgets": {},
     "nuid": "8b3a938c-bb9a-445b-b7b3-7c5e97018dbe",
     "showTitle": false,
     "tableResultSettingsMap": {},
     "title": ""
    }
   },
   "outputs": [
    {
     "output_type": "display_data",
     "data": {
      "text/html": [
       "<style scoped>\n",
       "  .table-result-container {\n",
       "    max-height: 300px;\n",
       "    overflow: auto;\n",
       "  }\n",
       "  table, th, td {\n",
       "    border: 1px solid black;\n",
       "    border-collapse: collapse;\n",
       "  }\n",
       "  th, td {\n",
       "    padding: 5px;\n",
       "  }\n",
       "  th {\n",
       "    text-align: left;\n",
       "  }\n",
       "</style><div class='table-result-container'><table class='table-result'><thead style='background-color: white'><tr><th>Sales_From</th></tr></thead><tbody><tr><td>8</td></tr></tbody></table></div>"
      ]
     },
     "metadata": {
      "application/vnd.databricks.v1+output": {
       "addedWidgets": {},
       "aggData": [],
       "aggError": "",
       "aggOverflow": false,
       "aggSchema": [],
       "aggSeriesLimitReached": false,
       "aggType": "",
       "arguments": {},
       "columnCustomDisplayInfos": {},
       "data": [
        [
         8
        ]
       ],
       "datasetInfos": [
        {
         "name": "_sqldf",
         "schema": {
          "fields": [
           {
            "metadata": {},
            "name": "Sales_From",
            "nullable": false,
            "type": "long"
           }
          ],
          "type": "struct"
         },
         "tableIdentifier": null,
         "typeStr": "pyspark.sql.connect.dataframe.DataFrame"
        }
       ],
       "dbfsResultPath": null,
       "isJsonSchema": true,
       "metadata": {
        "createTempViewForImplicitDf": true,
        "dataframeName": "_sqldf",
        "executionCount": 48
       },
       "overflow": false,
       "plotOptions": {
        "customPlotOptions": {},
        "displayType": "table",
        "pivotAggregation": null,
        "pivotColumns": null,
        "xColumns": null,
        "yColumns": null
       },
       "removedWidgets": [],
       "schema": [
        {
         "metadata": "{}",
         "name": "Sales_From",
         "type": "\"long\""
        }
       ],
       "type": "table"
      }
     },
     "output_type": "display_data"
    }
   ],
   "source": [
    "%sql\n",
    "SELECT COUNT(CASE WHEN Sales_FROM IS NOT NULL THEN 1 END) AS Sales_From\n",
    "FROM tblRegisteredProducts;"
   ]
  },
  {
   "cell_type": "markdown",
   "metadata": {
    "application/vnd.databricks.v1+cell": {
     "cellMetadata": {},
     "inputWidgets": {},
     "nuid": "1cfee9b3-49c4-43fa-a007-c380130814fa",
     "showTitle": false,
     "tableResultSettingsMap": {},
     "title": ""
    }
   },
   "source": [
    "**Method 04**\n",
    "  - It tries to check whether the entire column **Emp_ID** contains **only NULLs**.\n",
    "  - If **yes**, it returns the string **Emp_ID**.\n",
    "\n",
    "  - **COUNT(CASE WHEN Emp_ID IS NOT NULL THEN 1 END)** counts how many **non-null** values are in the **Emp_ID** column.\n",
    "\n",
    "  - The query checks whether this **count is equal to 0** i.e., **no non-null values** exist in the **Emp_ID** column."
   ]
  },
  {
   "cell_type": "code",
   "execution_count": 0,
   "metadata": {
    "application/vnd.databricks.v1+cell": {
     "cellMetadata": {
      "byteLimit": 2048000,
      "implicitDf": true,
      "rowLimit": 10000
     },
     "inputWidgets": {},
     "nuid": "b912e5f1-01d7-44e9-ae2b-7d24ebae6be3",
     "showTitle": false,
     "tableResultSettingsMap": {},
     "title": ""
    }
   },
   "outputs": [
    {
     "output_type": "display_data",
     "data": {
      "text/html": [
       "<style scoped>\n",
       "  .table-result-container {\n",
       "    max-height: 300px;\n",
       "    overflow: auto;\n",
       "  }\n",
       "  table, th, td {\n",
       "    border: 1px solid black;\n",
       "    border-collapse: collapse;\n",
       "  }\n",
       "  th, td {\n",
       "    padding: 5px;\n",
       "  }\n",
       "  th {\n",
       "    text-align: left;\n",
       "  }\n",
       "</style><div class='table-result-container'><table class='table-result'><thead style='background-color: white'><tr><th>Emp_ID</th></tr></thead><tbody><tr><td>Emp_ID</td></tr><tr><td>Emp_Status</td></tr></tbody></table></div>"
      ]
     },
     "metadata": {
      "application/vnd.databricks.v1+output": {
       "addedWidgets": {},
       "aggData": [],
       "aggError": "",
       "aggOverflow": false,
       "aggSchema": [],
       "aggSeriesLimitReached": false,
       "aggType": "",
       "arguments": {},
       "columnCustomDisplayInfos": {},
       "data": [
        [
         "Emp_ID"
        ],
        [
         "Emp_Status"
        ]
       ],
       "datasetInfos": [
        {
         "name": "_sqldf",
         "schema": {
          "fields": [
           {
            "metadata": {},
            "name": "Emp_ID",
            "nullable": false,
            "type": "string"
           }
          ],
          "type": "struct"
         },
         "tableIdentifier": null,
         "typeStr": "pyspark.sql.connect.dataframe.DataFrame"
        }
       ],
       "dbfsResultPath": null,
       "isJsonSchema": true,
       "metadata": {
        "createTempViewForImplicitDf": true,
        "dataframeName": "_sqldf",
        "executionCount": 44
       },
       "overflow": false,
       "plotOptions": {
        "customPlotOptions": {},
        "displayType": "table",
        "pivotAggregation": null,
        "pivotColumns": null,
        "xColumns": null,
        "yColumns": null
       },
       "removedWidgets": [],
       "schema": [
        {
         "metadata": "{}",
         "name": "Emp_ID",
         "type": "\"string\""
        }
       ],
       "type": "table"
      }
     },
     "output_type": "display_data"
    }
   ],
   "source": [
    "%sql\n",
    "SELECT 'Emp_ID' AS Emp_ID\n",
    "FROM tblRegisteredProducts\n",
    "HAVING COUNT(CASE WHEN Emp_ID IS NOT NULL THEN 1 END) = 0\n",
    "\n",
    "UNION ALL\n",
    "\n",
    "SELECT 'Sales_FROM' AS Sales_FROM\n",
    "FROM tblRegisteredProducts\n",
    "HAVING COUNT(CASE WHEN Sales_FROM IS NOT NULL THEN 1 END) = 0\n",
    "\n",
    "UNION ALL\n",
    "\n",
    "SELECT 'Sales_TO' AS column_name\n",
    "FROM tblRegisteredProducts\n",
    "HAVING COUNT(CASE WHEN Sales_TO IS NOT NULL THEN 1 END) = 0\n",
    "\n",
    "UNION ALL\n",
    "\n",
    "SELECT 'Product_ID' AS Product_ID\n",
    "FROM tblRegisteredProducts\n",
    "HAVING COUNT(CASE WHEN Product_ID IS NOT NULL THEN 1 END) = 0\n",
    "\n",
    "UNION ALL\n",
    "\n",
    "SELECT 'Emp_Status' AS Emp_Status\n",
    "FROM tblRegisteredProducts\n",
    "HAVING COUNT(CASE WHEN Emp_Status IS NOT NULL THEN 1 END) = 0\n",
    "\n",
    "UNION ALL\n",
    "\n",
    "SELECT 'Emp_Text' AS Emp_Text\n",
    "FROM tblRegisteredProducts\n",
    "HAVING COUNT(CASE WHEN Emp_Text IS NOT NULL THEN 1 END) = 0\n",
    "\n",
    "UNION ALL\n",
    "\n",
    "SELECT 'Emp_Description' AS Emp_Description\n",
    "FROM tblRegisteredProducts\n",
    "HAVING COUNT(CASE WHEN Emp_Description IS NOT NULL THEN 1 END) = 0\n",
    "\n",
    "UNION ALL\n",
    "\n",
    "SELECT 'Sales_ID' AS Sales_ID\n",
    "FROM tblRegisteredProducts\n",
    "HAVING COUNT(CASE WHEN Sales_ID IS NOT NULL THEN 1 END) = 0\n",
    "\n",
    "UNION ALL\n",
    "\n",
    "SELECT 'Selection' AS Selection\n",
    "FROM tblRegisteredProducts\n",
    "HAVING COUNT(CASE WHEN Selection IS NOT NULL THEN 1 END) = 0;"
   ]
  }
 ],
 "metadata": {
  "application/vnd.databricks.v1+notebook": {
   "computePreferences": {
    "hardware": {
     "accelerator": null,
     "gpuPoolId": null,
     "memory": null
    }
   },
   "dashboards": [],
   "environmentMetadata": {
    "base_environment": "",
    "environment_version": "2"
   },
   "inputWidgetPreferences": null,
   "language": "python",
   "notebookMetadata": {
    "mostRecentlyExecutedCommandWithImplicitDF": {
     "commandId": 6268986397989983,
     "dataframes": [
      "_sqldf"
     ]
    },
    "pythonIndentUnit": 4
   },
   "notebookName": "12_How to find which columns have all NULL records?",
   "widgets": {}
  },
  "language_info": {
   "name": "python"
  }
 },
 "nbformat": 4,
 "nbformat_minor": 0
}