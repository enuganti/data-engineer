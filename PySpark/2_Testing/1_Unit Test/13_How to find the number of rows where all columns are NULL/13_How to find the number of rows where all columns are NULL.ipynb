{
 "cells": [
  {
   "cell_type": "markdown",
   "metadata": {
    "application/vnd.databricks.v1+cell": {
     "cellMetadata": {},
     "inputWidgets": {},
     "nuid": "edd0393b-8dce-4f6f-bbe1-b864ef6b8106",
     "showTitle": false,
     "tableResultSettingsMap": {},
     "title": ""
    }
   },
   "source": [
    "#### How to find the number of rows where all columns are NULL?\n",
    "\n",
    "| Name\t   | department | Customer_ID | Change_Date | Load_Date  | Status\t|   description   |\n",
    "|----------|------------|-------------|-------------|------------|--------|-----------------|\n",
    "| Jagadish |    HR      |  101        | 2024-01-05  | 2025-03-06 | Active | Employee record |\n",
    "| null\t   | null\t      |  null       |\t   null\t    |    null    |  null  |      null       |\n",
    "| Rakesh   |    HR      |  102        | 2024-01-05  | 2024-09-06 | Active | Sales record    |\n",
    "| Swetha   |    HR      |  103        | 2024-01-05  | 2024-07-06 | Active | Deployed        |\n",
    "| null\t   | null\t      |   null      |\t   null\t    |   null     |  null  |      null       |\n",
    "| Sandhya  |    HR      |  104        | 2024-01-05  | 2024-10-26 | Active | Distribution    |\n",
    "| null\t   | null\t      |   null      |\tnull\t      |  null      |  null  |      null       |\n",
    "| Naresh   |    HR      |  105        | 2024-03-05  | 2020-06-06 | Active | Make up         |\n",
    "| Kamalesh |    HR      |  106        | 2024-04-05  | 2021-05-06 | Active | Hardware issue  |\n",
    "| null\t   |  null\t    |  null       |\tnull\t      |  null      |  null  |   null          |\n",
    "| Rajini   |    HR      |  107        | 2024-09-05  | 2022-01-06 | Active | Supply Channel  |\n",
    "| Jayesh   |    HR      |  108        | 2024-07-15  | 2023-01-06 | Active | Monitoring face |\n",
    "| null\t   |  null\t    |   null      |\tnull\t      |  null      |  null  |   null          |\n",
    "| Gajanan  |    HR      |  109        | 2025-01-05  | 2025-01-06 | Active | Successfully    |"
   ]
  },
  {
   "cell_type": "code",
   "execution_count": 0,
   "metadata": {
    "application/vnd.databricks.v1+cell": {
     "cellMetadata": {
      "byteLimit": 2048000,
      "implicitDf": true,
      "rowLimit": 10000
     },
     "inputWidgets": {},
     "nuid": "12dea2ea-43c0-4b64-9c03-94d950389c6e",
     "showTitle": true,
     "tableResultSettingsMap": {},
     "title": "Sample Dataframe"
    }
   },
   "outputs": [
    {
     "output_type": "display_data",
     "data": {
      "text/html": [
       "<style scoped>\n",
       "  .table-result-container {\n",
       "    max-height: 300px;\n",
       "    overflow: auto;\n",
       "  }\n",
       "  table, th, td {\n",
       "    border: 1px solid black;\n",
       "    border-collapse: collapse;\n",
       "  }\n",
       "  th, td {\n",
       "    padding: 5px;\n",
       "  }\n",
       "  th {\n",
       "    text-align: left;\n",
       "  }\n",
       "</style><div class='table-result-container'><table class='table-result'><thead style='background-color: white'><tr><th>Name</th><th>department</th><th>Customer_ID</th><th>Change_Date</th><th>Load_Date</th><th>Status</th><th>description</th></tr></thead><tbody><tr><td>Jagadish</td><td>HR</td><td>101</td><td>2024-01-05</td><td>2024-01-06</td><td>Active</td><td>Employee record</td></tr><tr><td>Ashwin</td><td>Admin</td><td>102</td><td>2024-04-05</td><td>2024-03-06</td><td>Default</td><td>Employee Obsent</td></tr><tr><td>Swarna</td><td>Finance</td><td>103</td><td>2024-05-05</td><td>2024-04-06</td><td>Deactivate</td><td>Products</td></tr><tr><td>null</td><td>null</td><td>null</td><td>null</td><td>null</td><td>null</td><td>null</td></tr><tr><td>null</td><td>Finance</td><td>103</td><td>2024-05-05</td><td>2024-04-06</td><td>Deactivate</td><td>Products</td></tr><tr><td>Swapna</td><td>IT</td><td>104</td><td>2024-08-10</td><td>2024-05-12</td><td>Inactive</td><td>Resigned</td></tr><tr><td>Praveen</td><td>Accounts</td><td>105</td><td>2024-09-05</td><td>2024-03-06</td><td>Active</td><td>Description</td></tr><tr><td>null</td><td>null</td><td>null</td><td>null</td><td>null</td><td>null</td><td>null</td></tr><tr><td>Bibin</td><td>Finance</td><td>105</td><td>2024-10-01</td><td>2024-09-02</td><td>Active</td><td>Salary details</td></tr><tr><td>Bharath</td><td>HR</td><td>106</td><td>2024-12-05</td><td>2024-09-06</td><td>Default</td><td>Sales Details</td></tr><tr><td>null</td><td>null</td><td>null</td><td>null</td><td>null</td><td>null</td><td>null</td></tr><tr><td>null</td><td>Finance</td><td>103</td><td>2024-05-05</td><td>2024-04-06</td><td>Deactivate</td><td>Products</td></tr><tr><td>Carl</td><td>Admin</td><td>104</td><td>2024-04-11</td><td>2024-04-15</td><td>Active</td><td>Shift change</td></tr><tr><td>Joseph</td><td>Developer</td><td>101</td><td>2024-01-05</td><td>2024-01-06</td><td>Active</td><td>Employee record</td></tr><tr><td>null</td><td>null</td><td>null</td><td>null</td><td>null</td><td>null</td><td>null</td></tr><tr><td>Damu</td><td>Sales</td><td>105</td><td>2024-05-18</td><td>2024-05-20</td><td>Inactive</td><td>Transferred</td></tr><tr><td>Josna</td><td>Transport</td><td>101</td><td>2024-01-05</td><td>2024-01-06</td><td>Active</td><td>Unlock offers</td></tr><tr><td>null</td><td>null</td><td>null</td><td>null</td><td>null</td><td>null</td><td>null</td></tr><tr><td>Kiran</td><td>Domestic</td><td>101</td><td>2024-12-05</td><td>2025-05-06</td><td>Inactive</td><td>Savings</td></tr></tbody></table></div>"
      ]
     },
     "metadata": {
      "application/vnd.databricks.v1+output": {
       "addedWidgets": {},
       "aggData": [],
       "aggError": "",
       "aggOverflow": false,
       "aggSchema": [],
       "aggSeriesLimitReached": false,
       "aggType": "",
       "arguments": {},
       "columnCustomDisplayInfos": {},
       "data": [
        [
         "Jagadish",
         "HR",
         101,
         "2024-01-05",
         "2024-01-06",
         "Active",
         "Employee record"
        ],
        [
         "Ashwin",
         "Admin",
         102,
         "2024-04-05",
         "2024-03-06",
         "Default",
         "Employee Obsent"
        ],
        [
         "Swarna",
         "Finance",
         103,
         "2024-05-05",
         "2024-04-06",
         "Deactivate",
         "Products"
        ],
        [
         null,
         null,
         null,
         null,
         null,
         null,
         null
        ],
        [
         null,
         "Finance",
         103,
         "2024-05-05",
         "2024-04-06",
         "Deactivate",
         "Products"
        ],
        [
         "Swapna",
         "IT",
         104,
         "2024-08-10",
         "2024-05-12",
         "Inactive",
         "Resigned"
        ],
        [
         "Praveen",
         "Accounts",
         105,
         "2024-09-05",
         "2024-03-06",
         "Active",
         "Description"
        ],
        [
         null,
         null,
         null,
         null,
         null,
         null,
         null
        ],
        [
         "Bibin",
         "Finance",
         105,
         "2024-10-01",
         "2024-09-02",
         "Active",
         "Salary details"
        ],
        [
         "Bharath",
         "HR",
         106,
         "2024-12-05",
         "2024-09-06",
         "Default",
         "Sales Details"
        ],
        [
         null,
         null,
         null,
         null,
         null,
         null,
         null
        ],
        [
         null,
         "Finance",
         103,
         "2024-05-05",
         "2024-04-06",
         "Deactivate",
         "Products"
        ],
        [
         "Carl",
         "Admin",
         104,
         "2024-04-11",
         "2024-04-15",
         "Active",
         "Shift change"
        ],
        [
         "Joseph",
         "Developer",
         101,
         "2024-01-05",
         "2024-01-06",
         "Active",
         "Employee record"
        ],
        [
         null,
         null,
         null,
         null,
         null,
         null,
         null
        ],
        [
         "Damu",
         "Sales",
         105,
         "2024-05-18",
         "2024-05-20",
         "Inactive",
         "Transferred"
        ],
        [
         "Josna",
         "Transport",
         101,
         "2024-01-05",
         "2024-01-06",
         "Active",
         "Unlock offers"
        ],
        [
         null,
         null,
         null,
         null,
         null,
         null,
         null
        ],
        [
         "Kiran",
         "Domestic",
         101,
         "2024-12-05",
         "2025-05-06",
         "Inactive",
         "Savings"
        ]
       ],
       "datasetInfos": [
        {
         "name": "_sqldf",
         "schema": {
          "fields": [
           {
            "metadata": {
             "__CHAR_VARCHAR_TYPE_STRING": "varchar(50)"
            },
            "name": "Name",
            "nullable": true,
            "type": "string"
           },
           {
            "metadata": {
             "__CHAR_VARCHAR_TYPE_STRING": "varchar(50)"
            },
            "name": "department",
            "nullable": true,
            "type": "string"
           },
           {
            "metadata": {},
            "name": "Customer_ID",
            "nullable": true,
            "type": "integer"
           },
           {
            "metadata": {},
            "name": "Change_Date",
            "nullable": true,
            "type": "date"
           },
           {
            "metadata": {},
            "name": "Load_Date",
            "nullable": true,
            "type": "date"
           },
           {
            "metadata": {
             "__CHAR_VARCHAR_TYPE_STRING": "varchar(20)"
            },
            "name": "Status",
            "nullable": true,
            "type": "string"
           },
           {
            "metadata": {
             "__CHAR_VARCHAR_TYPE_STRING": "varchar(100)"
            },
            "name": "description",
            "nullable": true,
            "type": "string"
           }
          ],
          "type": "struct"
         },
         "tableIdentifier": null,
         "typeStr": "pyspark.sql.connect.dataframe.DataFrame"
        }
       ],
       "dbfsResultPath": null,
       "isJsonSchema": true,
       "metadata": {
        "createTempViewForImplicitDf": true,
        "dataframeName": "_sqldf",
        "executionCount": 2
       },
       "overflow": false,
       "plotOptions": {
        "customPlotOptions": {},
        "displayType": "table",
        "pivotAggregation": null,
        "pivotColumns": null,
        "xColumns": null,
        "yColumns": null
       },
       "removedWidgets": [],
       "schema": [
        {
         "metadata": "{\"__CHAR_VARCHAR_TYPE_STRING\": \"varchar(50)\"}",
         "name": "Name",
         "type": "\"string\""
        },
        {
         "metadata": "{\"__CHAR_VARCHAR_TYPE_STRING\": \"varchar(50)\"}",
         "name": "department",
         "type": "\"string\""
        },
        {
         "metadata": "{}",
         "name": "Customer_ID",
         "type": "\"integer\""
        },
        {
         "metadata": "{}",
         "name": "Change_Date",
         "type": "\"date\""
        },
        {
         "metadata": "{}",
         "name": "Load_Date",
         "type": "\"date\""
        },
        {
         "metadata": "{\"__CHAR_VARCHAR_TYPE_STRING\": \"varchar(20)\"}",
         "name": "Status",
         "type": "\"string\""
        },
        {
         "metadata": "{\"__CHAR_VARCHAR_TYPE_STRING\": \"varchar(100)\"}",
         "name": "description",
         "type": "\"string\""
        }
       ],
       "type": "table"
      }
     },
     "output_type": "display_data"
    }
   ],
   "source": [
    "%sql\n",
    "-- Create table\n",
    "DROP TABLE IF EXISTS tblNullsBlankRows;\n",
    "CREATE TABLE tblNullsBlankRows (\n",
    "    Name VARCHAR(50),\n",
    "    department VARCHAR(50),\n",
    "    Customer_ID INT,\n",
    "    Change_Date DATE,\n",
    "    Load_Date DATE,\n",
    "    Status VARCHAR(20),\n",
    "    description VARCHAR(100)\n",
    ");\n",
    "\n",
    "-- Insert sample data\n",
    "INSERT INTO tblNullsBlankRows VALUES\n",
    "('Jagadish', 'HR', 101, '2024-01-05', '2024-01-06', 'Active', 'Employee record'),\n",
    "('Ashwin', 'Admin', 102, '2024-04-05', '2024-03-06', 'Default', 'Employee Obsent'),\n",
    "('Swarna', 'Finance', 103, '2024-05-05', '2024-04-06', 'Deactivate', 'Products'),\n",
    "(NULL, NULL, NULL, NULL, NULL, NULL, NULL),\n",
    "(NULL, 'Finance', 103, '2024-05-05', '2024-04-06', 'Deactivate', 'Products'),\n",
    "('Swapna', 'IT', 104, '2024-08-10', '2024-05-12', 'Inactive', 'Resigned'),\n",
    "('Praveen', 'Accounts', 105, '2024-09-05', '2024-03-06', 'Active', 'Description'),\n",
    "(NULL, NULL, NULL, NULL, NULL, NULL, NULL),\n",
    "('Bibin', 'Finance', 105, '2024-10-01', '2024-09-02', 'Active', 'Salary details'),\n",
    "('Bharath', 'HR', 106, '2024-12-05', '2024-09-06', 'Default', 'Sales Details'),\n",
    "(NULL, NULL, NULL, NULL, NULL, NULL, NULL),\n",
    "(NULL, 'Finance', 103, '2024-05-05', '2024-04-06', 'Deactivate', 'Products'),\n",
    "('Carl', 'Admin', 104, '2024-04-11', '2024-04-15', 'Active', 'Shift change'),\n",
    "('Joseph', 'Developer', 101, '2024-01-05', '2024-01-06', 'Active', 'Employee record'),\n",
    "(NULL, NULL, NULL, NULL, NULL, NULL, NULL),\n",
    "('Damu', 'Sales', 105, '2024-05-18', '2024-05-20', 'Inactive', 'Transferred'),\n",
    "('Josna', 'Transport', 101, '2024-01-05', '2024-01-06', 'Active', 'Unlock offers'),\n",
    "(NULL, NULL, NULL, NULL, NULL, NULL, NULL),\n",
    "('Kiran', 'Domestic', 101, '2024-12-05', '2025-05-06', 'Inactive', 'Savings');\n",
    "\n",
    "SELECT * FROM tblNullsBlankRows;"
   ]
  },
  {
   "cell_type": "markdown",
   "metadata": {
    "application/vnd.databricks.v1+cell": {
     "cellMetadata": {},
     "inputWidgets": {},
     "nuid": "92fdfb7d-50d9-47e7-ad3c-311ef1619ad9",
     "showTitle": false,
     "tableResultSettingsMap": {},
     "title": ""
    }
   },
   "source": [
    "##### 1) Using WHERE with AND conditions"
   ]
  },
  {
   "cell_type": "code",
   "execution_count": 0,
   "metadata": {
    "application/vnd.databricks.v1+cell": {
     "cellMetadata": {
      "byteLimit": 2048000,
      "implicitDf": true,
      "rowLimit": 10000
     },
     "inputWidgets": {},
     "nuid": "37353a68-e613-4fa6-9121-afed28cee88c",
     "showTitle": false,
     "tableResultSettingsMap": {},
     "title": ""
    }
   },
   "outputs": [
    {
     "output_type": "display_data",
     "data": {
      "text/html": [
       "<style scoped>\n",
       "  .table-result-container {\n",
       "    max-height: 300px;\n",
       "    overflow: auto;\n",
       "  }\n",
       "  table, th, td {\n",
       "    border: 1px solid black;\n",
       "    border-collapse: collapse;\n",
       "  }\n",
       "  th, td {\n",
       "    padding: 5px;\n",
       "  }\n",
       "  th {\n",
       "    text-align: left;\n",
       "  }\n",
       "</style><div class='table-result-container'><table class='table-result'><thead style='background-color: white'><tr><th>Name</th><th>department</th><th>Customer_ID</th><th>Change_Date</th><th>Load_Date</th><th>Status</th><th>description</th></tr></thead><tbody><tr><td>null</td><td>null</td><td>null</td><td>null</td><td>null</td><td>null</td><td>null</td></tr><tr><td>null</td><td>null</td><td>null</td><td>null</td><td>null</td><td>null</td><td>null</td></tr><tr><td>null</td><td>null</td><td>null</td><td>null</td><td>null</td><td>null</td><td>null</td></tr><tr><td>null</td><td>null</td><td>null</td><td>null</td><td>null</td><td>null</td><td>null</td></tr><tr><td>null</td><td>null</td><td>null</td><td>null</td><td>null</td><td>null</td><td>null</td></tr></tbody></table></div>"
      ]
     },
     "metadata": {
      "application/vnd.databricks.v1+output": {
       "addedWidgets": {},
       "aggData": [],
       "aggError": "",
       "aggOverflow": false,
       "aggSchema": [],
       "aggSeriesLimitReached": false,
       "aggType": "",
       "arguments": {},
       "columnCustomDisplayInfos": {},
       "data": [
        [
         null,
         null,
         null,
         null,
         null,
         null,
         null
        ],
        [
         null,
         null,
         null,
         null,
         null,
         null,
         null
        ],
        [
         null,
         null,
         null,
         null,
         null,
         null,
         null
        ],
        [
         null,
         null,
         null,
         null,
         null,
         null,
         null
        ],
        [
         null,
         null,
         null,
         null,
         null,
         null,
         null
        ]
       ],
       "datasetInfos": [
        {
         "name": "_sqldf",
         "schema": {
          "fields": [
           {
            "metadata": {
             "__CHAR_VARCHAR_TYPE_STRING": "varchar(50)"
            },
            "name": "Name",
            "nullable": true,
            "type": "string"
           },
           {
            "metadata": {
             "__CHAR_VARCHAR_TYPE_STRING": "varchar(50)"
            },
            "name": "department",
            "nullable": true,
            "type": "string"
           },
           {
            "metadata": {},
            "name": "Customer_ID",
            "nullable": true,
            "type": "integer"
           },
           {
            "metadata": {},
            "name": "Change_Date",
            "nullable": true,
            "type": "date"
           },
           {
            "metadata": {},
            "name": "Load_Date",
            "nullable": true,
            "type": "date"
           },
           {
            "metadata": {
             "__CHAR_VARCHAR_TYPE_STRING": "varchar(20)"
            },
            "name": "Status",
            "nullable": true,
            "type": "string"
           },
           {
            "metadata": {
             "__CHAR_VARCHAR_TYPE_STRING": "varchar(100)"
            },
            "name": "description",
            "nullable": true,
            "type": "string"
           }
          ],
          "type": "struct"
         },
         "tableIdentifier": null,
         "typeStr": "pyspark.sql.connect.dataframe.DataFrame"
        }
       ],
       "dbfsResultPath": null,
       "isJsonSchema": true,
       "metadata": {
        "createTempViewForImplicitDf": true,
        "dataframeName": "_sqldf",
        "executionCount": 4
       },
       "overflow": false,
       "plotOptions": {
        "customPlotOptions": {},
        "displayType": "table",
        "pivotAggregation": null,
        "pivotColumns": null,
        "xColumns": null,
        "yColumns": null
       },
       "removedWidgets": [],
       "schema": [
        {
         "metadata": "{\"__CHAR_VARCHAR_TYPE_STRING\": \"varchar(50)\"}",
         "name": "Name",
         "type": "\"string\""
        },
        {
         "metadata": "{\"__CHAR_VARCHAR_TYPE_STRING\": \"varchar(50)\"}",
         "name": "department",
         "type": "\"string\""
        },
        {
         "metadata": "{}",
         "name": "Customer_ID",
         "type": "\"integer\""
        },
        {
         "metadata": "{}",
         "name": "Change_Date",
         "type": "\"date\""
        },
        {
         "metadata": "{}",
         "name": "Load_Date",
         "type": "\"date\""
        },
        {
         "metadata": "{\"__CHAR_VARCHAR_TYPE_STRING\": \"varchar(20)\"}",
         "name": "Status",
         "type": "\"string\""
        },
        {
         "metadata": "{\"__CHAR_VARCHAR_TYPE_STRING\": \"varchar(100)\"}",
         "name": "description",
         "type": "\"string\""
        }
       ],
       "type": "table"
      }
     },
     "output_type": "display_data"
    }
   ],
   "source": [
    "%sql\n",
    "SELECT * FROM tblNullsBlankRows\n",
    "WHERE Name IS NULL AND\n",
    "      department IS NULL AND\n",
    "      Customer_ID IS NULL AND\n",
    "      Change_Date IS NULL AND\n",
    "      Load_Date IS NULL AND\n",
    "      Status IS NULL AND\n",
    "      description IS NULL;"
   ]
  },
  {
   "cell_type": "code",
   "execution_count": 0,
   "metadata": {
    "application/vnd.databricks.v1+cell": {
     "cellMetadata": {
      "byteLimit": 2048000,
      "implicitDf": true,
      "rowLimit": 10000
     },
     "inputWidgets": {},
     "nuid": "834798d4-a163-499e-999d-2dc8c37eeb6d",
     "showTitle": false,
     "tableResultSettingsMap": {},
     "title": ""
    }
   },
   "outputs": [
    {
     "output_type": "display_data",
     "data": {
      "text/html": [
       "<style scoped>\n",
       "  .table-result-container {\n",
       "    max-height: 300px;\n",
       "    overflow: auto;\n",
       "  }\n",
       "  table, th, td {\n",
       "    border: 1px solid black;\n",
       "    border-collapse: collapse;\n",
       "  }\n",
       "  th, td {\n",
       "    padding: 5px;\n",
       "  }\n",
       "  th {\n",
       "    text-align: left;\n",
       "  }\n",
       "</style><div class='table-result-container'><table class='table-result'><thead style='background-color: white'><tr><th>all_null_rows</th></tr></thead><tbody><tr><td>5</td></tr></tbody></table></div>"
      ]
     },
     "metadata": {
      "application/vnd.databricks.v1+output": {
       "addedWidgets": {},
       "aggData": [],
       "aggError": "",
       "aggOverflow": false,
       "aggSchema": [],
       "aggSeriesLimitReached": false,
       "aggType": "",
       "arguments": {},
       "columnCustomDisplayInfos": {},
       "data": [
        [
         5
        ]
       ],
       "datasetInfos": [
        {
         "name": "_sqldf",
         "schema": {
          "fields": [
           {
            "metadata": {},
            "name": "all_null_rows",
            "nullable": false,
            "type": "long"
           }
          ],
          "type": "struct"
         },
         "tableIdentifier": null,
         "typeStr": "pyspark.sql.connect.dataframe.DataFrame"
        }
       ],
       "dbfsResultPath": null,
       "isJsonSchema": true,
       "metadata": {
        "createTempViewForImplicitDf": true,
        "dataframeName": "_sqldf",
        "executionCount": 23
       },
       "overflow": false,
       "plotOptions": {
        "customPlotOptions": {},
        "displayType": "table",
        "pivotAggregation": null,
        "pivotColumns": null,
        "xColumns": null,
        "yColumns": null
       },
       "removedWidgets": [],
       "schema": [
        {
         "metadata": "{}",
         "name": "all_null_rows",
         "type": "\"long\""
        }
       ],
       "type": "table"
      }
     },
     "output_type": "display_data"
    }
   ],
   "source": [
    "%sql\n",
    "SELECT COUNT(*) AS all_null_rows\n",
    "FROM tblNullsBlankRows\n",
    "WHERE Name IS NULL AND\n",
    "      department IS NULL AND\n",
    "      Customer_ID IS NULL AND\n",
    "      Change_Date IS NULL AND\n",
    "      Load_Date IS NULL AND\n",
    "      Status IS NULL AND\n",
    "      description IS NULL;"
   ]
  },
  {
   "cell_type": "markdown",
   "metadata": {
    "application/vnd.databricks.v1+cell": {
     "cellMetadata": {},
     "inputWidgets": {},
     "nuid": "2e0370fb-121e-45ed-8c07-fe8023a2bb8d",
     "showTitle": false,
     "tableResultSettingsMap": {},
     "title": ""
    }
   },
   "source": [
    "##### 2) Using CASE inside SUM()\n",
    "- 1 = NULL\n",
    "- 0 = NOT NULL"
   ]
  },
  {
   "cell_type": "code",
   "execution_count": 0,
   "metadata": {
    "application/vnd.databricks.v1+cell": {
     "cellMetadata": {
      "byteLimit": 2048000,
      "implicitDf": true,
      "rowLimit": 10000
     },
     "inputWidgets": {},
     "nuid": "3a2b768c-5181-4756-9e8f-42868fdbc2c1",
     "showTitle": false,
     "tableResultSettingsMap": {},
     "title": ""
    }
   },
   "outputs": [
    {
     "output_type": "display_data",
     "data": {
      "text/html": [
       "<style scoped>\n",
       "  .table-result-container {\n",
       "    max-height: 300px;\n",
       "    overflow: auto;\n",
       "  }\n",
       "  table, th, td {\n",
       "    border: 1px solid black;\n",
       "    border-collapse: collapse;\n",
       "  }\n",
       "  th, td {\n",
       "    padding: 5px;\n",
       "  }\n",
       "  th {\n",
       "    text-align: left;\n",
       "  }\n",
       "</style><div class='table-result-container'><table class='table-result'><thead style='background-color: white'><tr><th>all_null_rows</th></tr></thead><tbody><tr><td>0</td></tr><tr><td>0</td></tr><tr><td>0</td></tr><tr><td>1</td></tr><tr><td>0</td></tr><tr><td>0</td></tr><tr><td>0</td></tr><tr><td>1</td></tr><tr><td>0</td></tr><tr><td>0</td></tr><tr><td>1</td></tr><tr><td>0</td></tr><tr><td>0</td></tr><tr><td>0</td></tr><tr><td>1</td></tr><tr><td>0</td></tr><tr><td>0</td></tr><tr><td>1</td></tr><tr><td>0</td></tr></tbody></table></div>"
      ]
     },
     "metadata": {
      "application/vnd.databricks.v1+output": {
       "addedWidgets": {},
       "aggData": [],
       "aggError": "",
       "aggOverflow": false,
       "aggSchema": [],
       "aggSeriesLimitReached": false,
       "aggType": "",
       "arguments": {},
       "columnCustomDisplayInfos": {},
       "data": [
        [
         0
        ],
        [
         0
        ],
        [
         0
        ],
        [
         1
        ],
        [
         0
        ],
        [
         0
        ],
        [
         0
        ],
        [
         1
        ],
        [
         0
        ],
        [
         0
        ],
        [
         1
        ],
        [
         0
        ],
        [
         0
        ],
        [
         0
        ],
        [
         1
        ],
        [
         0
        ],
        [
         0
        ],
        [
         1
        ],
        [
         0
        ]
       ],
       "datasetInfos": [
        {
         "name": "_sqldf",
         "schema": {
          "fields": [
           {
            "metadata": {},
            "name": "all_null_rows",
            "nullable": false,
            "type": "integer"
           }
          ],
          "type": "struct"
         },
         "tableIdentifier": null,
         "typeStr": "pyspark.sql.connect.dataframe.DataFrame"
        }
       ],
       "dbfsResultPath": null,
       "isJsonSchema": true,
       "metadata": {
        "createTempViewForImplicitDf": true,
        "dataframeName": "_sqldf",
        "executionCount": 10
       },
       "overflow": false,
       "plotOptions": {
        "customPlotOptions": {},
        "displayType": "table",
        "pivotAggregation": null,
        "pivotColumns": null,
        "xColumns": null,
        "yColumns": null
       },
       "removedWidgets": [],
       "schema": [
        {
         "metadata": "{}",
         "name": "all_null_rows",
         "type": "\"integer\""
        }
       ],
       "type": "table"
      }
     },
     "output_type": "display_data"
    }
   ],
   "source": [
    "%sql\n",
    "SELECT \n",
    "    CASE \n",
    "        WHEN Name IS NULL \n",
    "            AND department IS NULL \n",
    "            AND Customer_ID IS NULL \n",
    "            AND Change_Date IS NULL \n",
    "            AND Load_Date IS NULL \n",
    "            AND Status IS NULL \n",
    "            AND description IS NULL\n",
    "        THEN 1 \n",
    "        ELSE 0 \n",
    "    END AS all_null_rows\n",
    "FROM tblNullsBlankRows;"
   ]
  },
  {
   "cell_type": "code",
   "execution_count": 0,
   "metadata": {
    "application/vnd.databricks.v1+cell": {
     "cellMetadata": {
      "byteLimit": 2048000,
      "implicitDf": true,
      "rowLimit": 10000
     },
     "inputWidgets": {},
     "nuid": "1299c19d-4d6c-448f-85d5-ef962e77cc37",
     "showTitle": false,
     "tableResultSettingsMap": {},
     "title": ""
    }
   },
   "outputs": [
    {
     "output_type": "display_data",
     "data": {
      "text/html": [
       "<style scoped>\n",
       "  .table-result-container {\n",
       "    max-height: 300px;\n",
       "    overflow: auto;\n",
       "  }\n",
       "  table, th, td {\n",
       "    border: 1px solid black;\n",
       "    border-collapse: collapse;\n",
       "  }\n",
       "  th, td {\n",
       "    padding: 5px;\n",
       "  }\n",
       "  th {\n",
       "    text-align: left;\n",
       "  }\n",
       "</style><div class='table-result-container'><table class='table-result'><thead style='background-color: white'><tr><th>all_null_rows</th></tr></thead><tbody><tr><td>5</td></tr></tbody></table></div>"
      ]
     },
     "metadata": {
      "application/vnd.databricks.v1+output": {
       "addedWidgets": {},
       "aggData": [],
       "aggError": "",
       "aggOverflow": false,
       "aggSchema": [],
       "aggSeriesLimitReached": false,
       "aggType": "",
       "arguments": {},
       "columnCustomDisplayInfos": {},
       "data": [
        [
         5
        ]
       ],
       "datasetInfos": [
        {
         "name": "_sqldf",
         "schema": {
          "fields": [
           {
            "metadata": {},
            "name": "all_null_rows",
            "nullable": true,
            "type": "long"
           }
          ],
          "type": "struct"
         },
         "tableIdentifier": null,
         "typeStr": "pyspark.sql.connect.dataframe.DataFrame"
        }
       ],
       "dbfsResultPath": null,
       "isJsonSchema": true,
       "metadata": {
        "createTempViewForImplicitDf": true,
        "dataframeName": "_sqldf",
        "executionCount": 43
       },
       "overflow": false,
       "plotOptions": {
        "customPlotOptions": {},
        "displayType": "table",
        "pivotAggregation": null,
        "pivotColumns": null,
        "xColumns": null,
        "yColumns": null
       },
       "removedWidgets": [],
       "schema": [
        {
         "metadata": "{}",
         "name": "all_null_rows",
         "type": "\"long\""
        }
       ],
       "type": "table"
      }
     },
     "output_type": "display_data"
    }
   ],
   "source": [
    "%sql\n",
    "SELECT SUM(\n",
    "    CASE WHEN Name IS NULL\n",
    "          AND department IS NULL\n",
    "          AND Customer_ID IS NULL\n",
    "          AND Change_Date IS NULL\n",
    "          AND Load_Date IS NULL\n",
    "          AND Status IS NULL\n",
    "          AND description IS NULL\n",
    "    THEN 1 ELSE 0 END\n",
    ") AS all_null_rows\n",
    "FROM tblNullsBlankRows;"
   ]
  },
  {
   "cell_type": "markdown",
   "metadata": {
    "application/vnd.databricks.v1+cell": {
     "cellMetadata": {},
     "inputWidgets": {},
     "nuid": "12de2385-3d01-4a34-9906-7797e36309a6",
     "showTitle": false,
     "tableResultSettingsMap": {},
     "title": ""
    }
   },
   "source": [
    "##### 3) Using COALESCE"
   ]
  },
  {
   "cell_type": "code",
   "execution_count": 0,
   "metadata": {
    "application/vnd.databricks.v1+cell": {
     "cellMetadata": {
      "byteLimit": 2048000,
      "implicitDf": true,
      "rowLimit": 10000
     },
     "inputWidgets": {},
     "nuid": "43879ff3-de22-405c-b1e4-549e6768cfb2",
     "showTitle": false,
     "tableResultSettingsMap": {},
     "title": ""
    }
   },
   "outputs": [
    {
     "output_type": "display_data",
     "data": {
      "text/html": [
       "<style scoped>\n",
       "  .table-result-container {\n",
       "    max-height: 300px;\n",
       "    overflow: auto;\n",
       "  }\n",
       "  table, th, td {\n",
       "    border: 1px solid black;\n",
       "    border-collapse: collapse;\n",
       "  }\n",
       "  th, td {\n",
       "    padding: 5px;\n",
       "  }\n",
       "  th {\n",
       "    text-align: left;\n",
       "  }\n",
       "</style><div class='table-result-container'><table class='table-result'><thead style='background-color: white'><tr><th>Name</th><th>department</th><th>Customer_ID</th><th>Change_Date</th><th>Load_Date</th><th>Status</th><th>description</th></tr></thead><tbody><tr><td>null</td><td>null</td><td>null</td><td>null</td><td>null</td><td>null</td><td>null</td></tr><tr><td>null</td><td>null</td><td>null</td><td>null</td><td>null</td><td>null</td><td>null</td></tr><tr><td>null</td><td>null</td><td>null</td><td>null</td><td>null</td><td>null</td><td>null</td></tr><tr><td>null</td><td>null</td><td>null</td><td>null</td><td>null</td><td>null</td><td>null</td></tr><tr><td>null</td><td>null</td><td>null</td><td>null</td><td>null</td><td>null</td><td>null</td></tr></tbody></table></div>"
      ]
     },
     "metadata": {
      "application/vnd.databricks.v1+output": {
       "addedWidgets": {},
       "aggData": [],
       "aggError": "",
       "aggOverflow": false,
       "aggSchema": [],
       "aggSeriesLimitReached": false,
       "aggType": "",
       "arguments": {},
       "columnCustomDisplayInfos": {},
       "data": [
        [
         null,
         null,
         null,
         null,
         null,
         null,
         null
        ],
        [
         null,
         null,
         null,
         null,
         null,
         null,
         null
        ],
        [
         null,
         null,
         null,
         null,
         null,
         null,
         null
        ],
        [
         null,
         null,
         null,
         null,
         null,
         null,
         null
        ],
        [
         null,
         null,
         null,
         null,
         null,
         null,
         null
        ]
       ],
       "datasetInfos": [
        {
         "name": "_sqldf",
         "schema": {
          "fields": [
           {
            "metadata": {
             "__CHAR_VARCHAR_TYPE_STRING": "varchar(50)"
            },
            "name": "Name",
            "nullable": true,
            "type": "string"
           },
           {
            "metadata": {
             "__CHAR_VARCHAR_TYPE_STRING": "varchar(50)"
            },
            "name": "department",
            "nullable": true,
            "type": "string"
           },
           {
            "metadata": {},
            "name": "Customer_ID",
            "nullable": true,
            "type": "integer"
           },
           {
            "metadata": {},
            "name": "Change_Date",
            "nullable": true,
            "type": "date"
           },
           {
            "metadata": {},
            "name": "Load_Date",
            "nullable": true,
            "type": "date"
           },
           {
            "metadata": {
             "__CHAR_VARCHAR_TYPE_STRING": "varchar(20)"
            },
            "name": "Status",
            "nullable": true,
            "type": "string"
           },
           {
            "metadata": {
             "__CHAR_VARCHAR_TYPE_STRING": "varchar(100)"
            },
            "name": "description",
            "nullable": true,
            "type": "string"
           }
          ],
          "type": "struct"
         },
         "tableIdentifier": null,
         "typeStr": "pyspark.sql.connect.dataframe.DataFrame"
        }
       ],
       "dbfsResultPath": null,
       "isJsonSchema": true,
       "metadata": {
        "createTempViewForImplicitDf": true,
        "dataframeName": "_sqldf",
        "executionCount": 6
       },
       "overflow": false,
       "plotOptions": {
        "customPlotOptions": {},
        "displayType": "table",
        "pivotAggregation": null,
        "pivotColumns": null,
        "xColumns": null,
        "yColumns": null
       },
       "removedWidgets": [],
       "schema": [
        {
         "metadata": "{\"__CHAR_VARCHAR_TYPE_STRING\": \"varchar(50)\"}",
         "name": "Name",
         "type": "\"string\""
        },
        {
         "metadata": "{\"__CHAR_VARCHAR_TYPE_STRING\": \"varchar(50)\"}",
         "name": "department",
         "type": "\"string\""
        },
        {
         "metadata": "{}",
         "name": "Customer_ID",
         "type": "\"integer\""
        },
        {
         "metadata": "{}",
         "name": "Change_Date",
         "type": "\"date\""
        },
        {
         "metadata": "{}",
         "name": "Load_Date",
         "type": "\"date\""
        },
        {
         "metadata": "{\"__CHAR_VARCHAR_TYPE_STRING\": \"varchar(20)\"}",
         "name": "Status",
         "type": "\"string\""
        },
        {
         "metadata": "{\"__CHAR_VARCHAR_TYPE_STRING\": \"varchar(100)\"}",
         "name": "description",
         "type": "\"string\""
        }
       ],
       "type": "table"
      }
     },
     "output_type": "display_data"
    }
   ],
   "source": [
    "%sql\n",
    "-- The COALESCE function requires all arguments to be of the same data type.\n",
    "-- You need to ensure that all columns passed to COALESCE are of the same type.\n",
    "SELECT *\n",
    "FROM tblNullsBlankRows\n",
    "WHERE COALESCE(\n",
    "      Name,\n",
    "      department,\n",
    "      CAST(Customer_ID AS STRING),\n",
    "      CAST(Change_Date AS STRING),\n",
    "      CAST(Load_Date AS STRING),\n",
    "      Status,\n",
    "      description\n",
    ") IS NULL;"
   ]
  },
  {
   "cell_type": "code",
   "execution_count": 0,
   "metadata": {
    "application/vnd.databricks.v1+cell": {
     "cellMetadata": {
      "byteLimit": 2048000,
      "implicitDf": true,
      "rowLimit": 10000
     },
     "inputWidgets": {},
     "nuid": "08465499-dd17-4bfc-9841-688c1ae64dea",
     "showTitle": false,
     "tableResultSettingsMap": {},
     "title": ""
    }
   },
   "outputs": [
    {
     "output_type": "display_data",
     "data": {
      "text/html": [
       "<style scoped>\n",
       "  .table-result-container {\n",
       "    max-height: 300px;\n",
       "    overflow: auto;\n",
       "  }\n",
       "  table, th, td {\n",
       "    border: 1px solid black;\n",
       "    border-collapse: collapse;\n",
       "  }\n",
       "  th, td {\n",
       "    padding: 5px;\n",
       "  }\n",
       "  th {\n",
       "    text-align: left;\n",
       "  }\n",
       "</style><div class='table-result-container'><table class='table-result'><thead style='background-color: white'><tr><th>all_null_rows</th></tr></thead><tbody><tr><td>5</td></tr></tbody></table></div>"
      ]
     },
     "metadata": {
      "application/vnd.databricks.v1+output": {
       "addedWidgets": {},
       "aggData": [],
       "aggError": "",
       "aggOverflow": false,
       "aggSchema": [],
       "aggSeriesLimitReached": false,
       "aggType": "",
       "arguments": {},
       "columnCustomDisplayInfos": {},
       "data": [
        [
         5
        ]
       ],
       "datasetInfos": [
        {
         "name": "_sqldf",
         "schema": {
          "fields": [
           {
            "metadata": {},
            "name": "all_null_rows",
            "nullable": false,
            "type": "long"
           }
          ],
          "type": "struct"
         },
         "tableIdentifier": null,
         "typeStr": "pyspark.sql.connect.dataframe.DataFrame"
        }
       ],
       "dbfsResultPath": null,
       "isJsonSchema": true,
       "metadata": {
        "createTempViewForImplicitDf": true,
        "dataframeName": "_sqldf",
        "executionCount": 3
       },
       "overflow": false,
       "plotOptions": {
        "customPlotOptions": {},
        "displayType": "table",
        "pivotAggregation": null,
        "pivotColumns": null,
        "xColumns": null,
        "yColumns": null
       },
       "removedWidgets": [],
       "schema": [
        {
         "metadata": "{}",
         "name": "all_null_rows",
         "type": "\"long\""
        }
       ],
       "type": "table"
      }
     },
     "output_type": "display_data"
    }
   ],
   "source": [
    "%sql\n",
    "-- The COALESCE function requires all arguments to be of the same data type.\n",
    "-- You need to ensure that all columns passed to COALESCE are of the same type.\n",
    "SELECT COUNT(*) AS all_null_rows\n",
    "FROM tblNullsBlankRows\n",
    "WHERE COALESCE(\n",
    "      Name,\n",
    "      department,\n",
    "      CAST(Customer_ID AS STRING),\n",
    "      CAST(Change_Date AS STRING),\n",
    "      CAST(Load_Date AS STRING),\n",
    "      Status,\n",
    "      description\n",
    ") IS NULL;"
   ]
  },
  {
   "cell_type": "markdown",
   "metadata": {
    "application/vnd.databricks.v1+cell": {
     "cellMetadata": {},
     "inputWidgets": {},
     "nuid": "69092f0b-11e0-490e-a8c7-3e82ff472f6f",
     "showTitle": false,
     "tableResultSettingsMap": {},
     "title": ""
    }
   },
   "source": [
    "- **COALESCE(col1, col2, …)** returns the **first non-null value**.\n",
    "- If **all columns** are **NULL**, the result is **NULL**.\n",
    "- **WHERE COALESCE(...) IS NULL** ensures we **only count rows** where **all columns are NULL**."
   ]
  },
  {
   "cell_type": "markdown",
   "metadata": {
    "application/vnd.databricks.v1+cell": {
     "cellMetadata": {},
     "inputWidgets": {},
     "nuid": "5693dc47-1e88-4615-9f8c-785f3b7b76ad",
     "showTitle": false,
     "tableResultSettingsMap": {},
     "title": ""
    }
   },
   "source": [
    "##### 4) Using a derived column (CASE) to check row emptiness"
   ]
  },
  {
   "cell_type": "code",
   "execution_count": 0,
   "metadata": {
    "application/vnd.databricks.v1+cell": {
     "cellMetadata": {
      "byteLimit": 2048000,
      "implicitDf": true,
      "rowLimit": 10000
     },
     "inputWidgets": {},
     "nuid": "37b45287-b3cb-4c6b-a0c0-d2374def980e",
     "showTitle": false,
     "tableResultSettingsMap": {},
     "title": ""
    }
   },
   "outputs": [
    {
     "output_type": "display_data",
     "data": {
      "text/html": [
       "<style scoped>\n",
       "  .table-result-container {\n",
       "    max-height: 300px;\n",
       "    overflow: auto;\n",
       "  }\n",
       "  table, th, td {\n",
       "    border: 1px solid black;\n",
       "    border-collapse: collapse;\n",
       "  }\n",
       "  th, td {\n",
       "    padding: 5px;\n",
       "  }\n",
       "  th {\n",
       "    text-align: left;\n",
       "  }\n",
       "</style><div class='table-result-container'><table class='table-result'><thead style='background-color: white'><tr><th>Name</th><th>department</th><th>Customer_ID</th><th>Change_Date</th><th>Load_Date</th><th>Status</th><th>description</th><th>is_all_null</th></tr></thead><tbody><tr><td>null</td><td>null</td><td>null</td><td>null</td><td>null</td><td>null</td><td>null</td><td>1</td></tr><tr><td>null</td><td>null</td><td>null</td><td>null</td><td>null</td><td>null</td><td>null</td><td>1</td></tr><tr><td>null</td><td>null</td><td>null</td><td>null</td><td>null</td><td>null</td><td>null</td><td>1</td></tr><tr><td>null</td><td>null</td><td>null</td><td>null</td><td>null</td><td>null</td><td>null</td><td>1</td></tr><tr><td>null</td><td>null</td><td>null</td><td>null</td><td>null</td><td>null</td><td>null</td><td>1</td></tr></tbody></table></div>"
      ]
     },
     "metadata": {
      "application/vnd.databricks.v1+output": {
       "addedWidgets": {},
       "aggData": [],
       "aggError": "",
       "aggOverflow": false,
       "aggSchema": [],
       "aggSeriesLimitReached": false,
       "aggType": "",
       "arguments": {},
       "columnCustomDisplayInfos": {},
       "data": [
        [
         null,
         null,
         null,
         null,
         null,
         null,
         null,
         1
        ],
        [
         null,
         null,
         null,
         null,
         null,
         null,
         null,
         1
        ],
        [
         null,
         null,
         null,
         null,
         null,
         null,
         null,
         1
        ],
        [
         null,
         null,
         null,
         null,
         null,
         null,
         null,
         1
        ],
        [
         null,
         null,
         null,
         null,
         null,
         null,
         null,
         1
        ]
       ],
       "datasetInfos": [
        {
         "name": "_sqldf",
         "schema": {
          "fields": [
           {
            "metadata": {
             "__CHAR_VARCHAR_TYPE_STRING": "varchar(50)"
            },
            "name": "Name",
            "nullable": true,
            "type": "string"
           },
           {
            "metadata": {
             "__CHAR_VARCHAR_TYPE_STRING": "varchar(50)"
            },
            "name": "department",
            "nullable": true,
            "type": "string"
           },
           {
            "metadata": {},
            "name": "Customer_ID",
            "nullable": true,
            "type": "integer"
           },
           {
            "metadata": {},
            "name": "Change_Date",
            "nullable": true,
            "type": "date"
           },
           {
            "metadata": {},
            "name": "Load_Date",
            "nullable": true,
            "type": "date"
           },
           {
            "metadata": {
             "__CHAR_VARCHAR_TYPE_STRING": "varchar(20)"
            },
            "name": "Status",
            "nullable": true,
            "type": "string"
           },
           {
            "metadata": {
             "__CHAR_VARCHAR_TYPE_STRING": "varchar(100)"
            },
            "name": "description",
            "nullable": true,
            "type": "string"
           },
           {
            "metadata": {},
            "name": "is_all_null",
            "nullable": false,
            "type": "integer"
           }
          ],
          "type": "struct"
         },
         "tableIdentifier": null,
         "typeStr": "pyspark.sql.connect.dataframe.DataFrame"
        }
       ],
       "dbfsResultPath": null,
       "isJsonSchema": true,
       "metadata": {
        "createTempViewForImplicitDf": true,
        "dataframeName": "_sqldf",
        "executionCount": 63
       },
       "overflow": false,
       "plotOptions": {
        "customPlotOptions": {},
        "displayType": "table",
        "pivotAggregation": null,
        "pivotColumns": null,
        "xColumns": null,
        "yColumns": null
       },
       "removedWidgets": [],
       "schema": [
        {
         "metadata": "{\"__CHAR_VARCHAR_TYPE_STRING\": \"varchar(50)\"}",
         "name": "Name",
         "type": "\"string\""
        },
        {
         "metadata": "{\"__CHAR_VARCHAR_TYPE_STRING\": \"varchar(50)\"}",
         "name": "department",
         "type": "\"string\""
        },
        {
         "metadata": "{}",
         "name": "Customer_ID",
         "type": "\"integer\""
        },
        {
         "metadata": "{}",
         "name": "Change_Date",
         "type": "\"date\""
        },
        {
         "metadata": "{}",
         "name": "Load_Date",
         "type": "\"date\""
        },
        {
         "metadata": "{\"__CHAR_VARCHAR_TYPE_STRING\": \"varchar(20)\"}",
         "name": "Status",
         "type": "\"string\""
        },
        {
         "metadata": "{\"__CHAR_VARCHAR_TYPE_STRING\": \"varchar(100)\"}",
         "name": "description",
         "type": "\"string\""
        },
        {
         "metadata": "{}",
         "name": "is_all_null",
         "type": "\"integer\""
        }
       ],
       "type": "table"
      }
     },
     "output_type": "display_data"
    }
   ],
   "source": [
    "%sql\n",
    "SELECT *\n",
    "FROM (\n",
    "  SELECT *,\n",
    "         CASE \n",
    "           WHEN Name IS NULL\n",
    "                AND department IS NULL\n",
    "                AND Customer_ID IS NULL\n",
    "                AND Change_Date IS NULL\n",
    "                AND Load_Date IS NULL\n",
    "                AND Status IS NULL\n",
    "                AND description IS NULL\n",
    "           THEN 1 ELSE 0 END AS is_all_null\n",
    "  FROM tblNullsBlankRows\n",
    ") t\n",
    "WHERE is_all_null = 1;"
   ]
  },
  {
   "cell_type": "code",
   "execution_count": 0,
   "metadata": {
    "application/vnd.databricks.v1+cell": {
     "cellMetadata": {
      "byteLimit": 2048000,
      "implicitDf": true,
      "rowLimit": 10000
     },
     "inputWidgets": {},
     "nuid": "632b1130-32f6-4e43-87e4-534f6b9a3bba",
     "showTitle": false,
     "tableResultSettingsMap": {},
     "title": ""
    }
   },
   "outputs": [
    {
     "output_type": "display_data",
     "data": {
      "text/html": [
       "<style scoped>\n",
       "  .table-result-container {\n",
       "    max-height: 300px;\n",
       "    overflow: auto;\n",
       "  }\n",
       "  table, th, td {\n",
       "    border: 1px solid black;\n",
       "    border-collapse: collapse;\n",
       "  }\n",
       "  th, td {\n",
       "    padding: 5px;\n",
       "  }\n",
       "  th {\n",
       "    text-align: left;\n",
       "  }\n",
       "</style><div class='table-result-container'><table class='table-result'><thead style='background-color: white'><tr><th>all_null_rows</th></tr></thead><tbody><tr><td>5</td></tr></tbody></table></div>"
      ]
     },
     "metadata": {
      "application/vnd.databricks.v1+output": {
       "addedWidgets": {},
       "aggData": [],
       "aggError": "",
       "aggOverflow": false,
       "aggSchema": [],
       "aggSeriesLimitReached": false,
       "aggType": "",
       "arguments": {},
       "columnCustomDisplayInfos": {},
       "data": [
        [
         5
        ]
       ],
       "datasetInfos": [
        {
         "name": "_sqldf",
         "schema": {
          "fields": [
           {
            "metadata": {},
            "name": "all_null_rows",
            "nullable": false,
            "type": "long"
           }
          ],
          "type": "struct"
         },
         "tableIdentifier": null,
         "typeStr": "pyspark.sql.connect.dataframe.DataFrame"
        }
       ],
       "dbfsResultPath": null,
       "isJsonSchema": true,
       "metadata": {
        "createTempViewForImplicitDf": true,
        "dataframeName": "_sqldf",
        "executionCount": 56
       },
       "overflow": false,
       "plotOptions": {
        "customPlotOptions": {},
        "displayType": "table",
        "pivotAggregation": null,
        "pivotColumns": null,
        "xColumns": null,
        "yColumns": null
       },
       "removedWidgets": [],
       "schema": [
        {
         "metadata": "{}",
         "name": "all_null_rows",
         "type": "\"long\""
        }
       ],
       "type": "table"
      }
     },
     "output_type": "display_data"
    }
   ],
   "source": [
    "%sql\n",
    "SELECT COUNT(*) AS all_null_rows\n",
    "FROM (\n",
    "  SELECT *,\n",
    "         CASE \n",
    "           WHEN Name IS NULL\n",
    "                AND department IS NULL\n",
    "                AND Customer_ID IS NULL\n",
    "                AND Change_Date IS NULL\n",
    "                AND Load_Date IS NULL\n",
    "                AND Status IS NULL\n",
    "                AND description IS NULL\n",
    "           THEN 1 ELSE 0 END AS is_all_null\n",
    "  FROM tblNullsBlankRows\n",
    ") t\n",
    "WHERE is_all_null = 1;"
   ]
  },
  {
   "cell_type": "code",
   "execution_count": 0,
   "metadata": {
    "application/vnd.databricks.v1+cell": {
     "cellMetadata": {
      "byteLimit": 2048000,
      "implicitDf": true,
      "rowLimit": 10000
     },
     "inputWidgets": {},
     "nuid": "7d171565-44b7-4978-88ad-2c8bf600cc09",
     "showTitle": false,
     "tableResultSettingsMap": {},
     "title": ""
    }
   },
   "outputs": [
    {
     "output_type": "display_data",
     "data": {
      "text/html": [
       "<style scoped>\n",
       "  .table-result-container {\n",
       "    max-height: 300px;\n",
       "    overflow: auto;\n",
       "  }\n",
       "  table, th, td {\n",
       "    border: 1px solid black;\n",
       "    border-collapse: collapse;\n",
       "  }\n",
       "  th, td {\n",
       "    padding: 5px;\n",
       "  }\n",
       "  th {\n",
       "    text-align: left;\n",
       "  }\n",
       "</style><div class='table-result-container'><table class='table-result'><thead style='background-color: white'><tr><th>Name</th><th>department</th><th>Customer_ID</th><th>Change_Date</th><th>Load_Date</th><th>Status</th><th>description</th><th>is_all_null</th></tr></thead><tbody><tr><td>Jagadish</td><td>HR</td><td>101</td><td>2024-01-05</td><td>2024-01-06</td><td>Active</td><td>Employee record</td><td>0</td></tr><tr><td>Ashwin</td><td>Admin</td><td>102</td><td>2024-04-05</td><td>2024-03-06</td><td>Default</td><td>Employee Obsent</td><td>0</td></tr><tr><td>Swarna</td><td>Finance</td><td>103</td><td>2024-05-05</td><td>2024-04-06</td><td>Deactivate</td><td>Products</td><td>0</td></tr><tr><td>null</td><td>null</td><td>null</td><td>null</td><td>null</td><td>null</td><td>null</td><td>1</td></tr><tr><td>Swapna</td><td>IT</td><td>104</td><td>2024-08-10</td><td>2024-05-12</td><td>Inactive</td><td>Resigned</td><td>0</td></tr><tr><td>Praveen</td><td>Accounts</td><td>105</td><td>2024-09-05</td><td>2024-03-06</td><td>Active</td><td>Description</td><td>0</td></tr><tr><td>null</td><td>null</td><td>null</td><td>null</td><td>null</td><td>null</td><td>null</td><td>1</td></tr><tr><td>Bibin</td><td>Finance</td><td>105</td><td>2024-10-01</td><td>2024-09-02</td><td>Active</td><td>Salary details</td><td>0</td></tr><tr><td>Bharath</td><td>HR</td><td>106</td><td>2024-12-05</td><td>2024-09-06</td><td>Default</td><td>Sales Details</td><td>0</td></tr><tr><td>null</td><td>null</td><td>null</td><td>null</td><td>null</td><td>null</td><td>null</td><td>1</td></tr><tr><td>Carl</td><td>Admin</td><td>104</td><td>2024-04-11</td><td>2024-04-15</td><td>Active</td><td>Shift change</td><td>0</td></tr><tr><td>Joseph</td><td>Developer</td><td>101</td><td>2024-01-05</td><td>2024-01-06</td><td>Active</td><td>Employee record</td><td>0</td></tr><tr><td>null</td><td>null</td><td>null</td><td>null</td><td>null</td><td>null</td><td>null</td><td>1</td></tr><tr><td>Damu</td><td>Sales</td><td>105</td><td>2024-05-18</td><td>2024-05-20</td><td>Inactive</td><td>Transferred</td><td>0</td></tr><tr><td>Josna</td><td>Transport</td><td>101</td><td>2024-01-05</td><td>2024-01-06</td><td>Active</td><td>Unlock offers</td><td>0</td></tr><tr><td>null</td><td>null</td><td>null</td><td>null</td><td>null</td><td>null</td><td>null</td><td>1</td></tr><tr><td>Kiran</td><td>Domestic</td><td>101</td><td>2024-12-05</td><td>2025-05-06</td><td>Inactive</td><td>Savings</td><td>0</td></tr></tbody></table></div>"
      ]
     },
     "metadata": {
      "application/vnd.databricks.v1+output": {
       "addedWidgets": {},
       "aggData": [],
       "aggError": "",
       "aggOverflow": false,
       "aggSchema": [],
       "aggSeriesLimitReached": false,
       "aggType": "",
       "arguments": {},
       "columnCustomDisplayInfos": {},
       "data": [
        [
         "Jagadish",
         "HR",
         101,
         "2024-01-05",
         "2024-01-06",
         "Active",
         "Employee record",
         0
        ],
        [
         "Ashwin",
         "Admin",
         102,
         "2024-04-05",
         "2024-03-06",
         "Default",
         "Employee Obsent",
         0
        ],
        [
         "Swarna",
         "Finance",
         103,
         "2024-05-05",
         "2024-04-06",
         "Deactivate",
         "Products",
         0
        ],
        [
         null,
         null,
         null,
         null,
         null,
         null,
         null,
         1
        ],
        [
         "Swapna",
         "IT",
         104,
         "2024-08-10",
         "2024-05-12",
         "Inactive",
         "Resigned",
         0
        ],
        [
         "Praveen",
         "Accounts",
         105,
         "2024-09-05",
         "2024-03-06",
         "Active",
         "Description",
         0
        ],
        [
         null,
         null,
         null,
         null,
         null,
         null,
         null,
         1
        ],
        [
         "Bibin",
         "Finance",
         105,
         "2024-10-01",
         "2024-09-02",
         "Active",
         "Salary details",
         0
        ],
        [
         "Bharath",
         "HR",
         106,
         "2024-12-05",
         "2024-09-06",
         "Default",
         "Sales Details",
         0
        ],
        [
         null,
         null,
         null,
         null,
         null,
         null,
         null,
         1
        ],
        [
         "Carl",
         "Admin",
         104,
         "2024-04-11",
         "2024-04-15",
         "Active",
         "Shift change",
         0
        ],
        [
         "Joseph",
         "Developer",
         101,
         "2024-01-05",
         "2024-01-06",
         "Active",
         "Employee record",
         0
        ],
        [
         null,
         null,
         null,
         null,
         null,
         null,
         null,
         1
        ],
        [
         "Damu",
         "Sales",
         105,
         "2024-05-18",
         "2024-05-20",
         "Inactive",
         "Transferred",
         0
        ],
        [
         "Josna",
         "Transport",
         101,
         "2024-01-05",
         "2024-01-06",
         "Active",
         "Unlock offers",
         0
        ],
        [
         null,
         null,
         null,
         null,
         null,
         null,
         null,
         1
        ],
        [
         "Kiran",
         "Domestic",
         101,
         "2024-12-05",
         "2025-05-06",
         "Inactive",
         "Savings",
         0
        ]
       ],
       "datasetInfos": [
        {
         "name": "_sqldf",
         "schema": {
          "fields": [
           {
            "metadata": {
             "__CHAR_VARCHAR_TYPE_STRING": "varchar(50)"
            },
            "name": "Name",
            "nullable": true,
            "type": "string"
           },
           {
            "metadata": {
             "__CHAR_VARCHAR_TYPE_STRING": "varchar(50)"
            },
            "name": "department",
            "nullable": true,
            "type": "string"
           },
           {
            "metadata": {},
            "name": "Customer_ID",
            "nullable": true,
            "type": "integer"
           },
           {
            "metadata": {},
            "name": "Change_Date",
            "nullable": true,
            "type": "date"
           },
           {
            "metadata": {},
            "name": "Load_Date",
            "nullable": true,
            "type": "date"
           },
           {
            "metadata": {
             "__CHAR_VARCHAR_TYPE_STRING": "varchar(20)"
            },
            "name": "Status",
            "nullable": true,
            "type": "string"
           },
           {
            "metadata": {
             "__CHAR_VARCHAR_TYPE_STRING": "varchar(100)"
            },
            "name": "description",
            "nullable": true,
            "type": "string"
           },
           {
            "metadata": {},
            "name": "is_all_null",
            "nullable": false,
            "type": "integer"
           }
          ],
          "type": "struct"
         },
         "tableIdentifier": null,
         "typeStr": "pyspark.sql.connect.dataframe.DataFrame"
        }
       ],
       "dbfsResultPath": null,
       "isJsonSchema": true,
       "metadata": {
        "createTempViewForImplicitDf": true,
        "dataframeName": "_sqldf",
        "executionCount": 60
       },
       "overflow": false,
       "plotOptions": {
        "customPlotOptions": {},
        "displayType": "table",
        "pivotAggregation": null,
        "pivotColumns": null,
        "xColumns": null,
        "yColumns": null
       },
       "removedWidgets": [],
       "schema": [
        {
         "metadata": "{\"__CHAR_VARCHAR_TYPE_STRING\": \"varchar(50)\"}",
         "name": "Name",
         "type": "\"string\""
        },
        {
         "metadata": "{\"__CHAR_VARCHAR_TYPE_STRING\": \"varchar(50)\"}",
         "name": "department",
         "type": "\"string\""
        },
        {
         "metadata": "{}",
         "name": "Customer_ID",
         "type": "\"integer\""
        },
        {
         "metadata": "{}",
         "name": "Change_Date",
         "type": "\"date\""
        },
        {
         "metadata": "{}",
         "name": "Load_Date",
         "type": "\"date\""
        },
        {
         "metadata": "{\"__CHAR_VARCHAR_TYPE_STRING\": \"varchar(20)\"}",
         "name": "Status",
         "type": "\"string\""
        },
        {
         "metadata": "{\"__CHAR_VARCHAR_TYPE_STRING\": \"varchar(100)\"}",
         "name": "description",
         "type": "\"string\""
        },
        {
         "metadata": "{}",
         "name": "is_all_null",
         "type": "\"integer\""
        }
       ],
       "type": "table"
      }
     },
     "output_type": "display_data"
    }
   ],
   "source": [
    "%sql\n",
    "  SELECT *,\n",
    "         CASE \n",
    "           WHEN Name IS NULL\n",
    "                AND department IS NULL\n",
    "                AND Customer_ID IS NULL\n",
    "                AND Change_Date IS NULL\n",
    "                AND Load_Date IS NULL\n",
    "                AND Status IS NULL\n",
    "                AND description IS NULL\n",
    "           THEN 1 ELSE 0 END AS is_all_null\n",
    "  FROM tblNullsBlankRows"
   ]
  },
  {
   "cell_type": "markdown",
   "metadata": {
    "application/vnd.databricks.v1+cell": {
     "cellMetadata": {},
     "inputWidgets": {},
     "nuid": "f287e347-675d-4876-8456-4d2a7175a22d",
     "showTitle": false,
     "tableResultSettingsMap": {},
     "title": ""
    }
   },
   "source": [
    "##### 5) Dynamic method"
   ]
  },
  {
   "cell_type": "code",
   "execution_count": 0,
   "metadata": {
    "application/vnd.databricks.v1+cell": {
     "cellMetadata": {
      "byteLimit": 2048000,
      "rowLimit": 10000
     },
     "inputWidgets": {},
     "nuid": "4bed2c87-09f8-45ee-8fa4-fa437744f8b9",
     "showTitle": false,
     "tableResultSettingsMap": {},
     "title": ""
    }
   },
   "outputs": [
    {
     "output_type": "display_data",
     "data": {
      "text/html": [
       "<style scoped>\n",
       "  .table-result-container {\n",
       "    max-height: 300px;\n",
       "    overflow: auto;\n",
       "  }\n",
       "  table, th, td {\n",
       "    border: 1px solid black;\n",
       "    border-collapse: collapse;\n",
       "  }\n",
       "  th, td {\n",
       "    padding: 5px;\n",
       "  }\n",
       "  th {\n",
       "    text-align: left;\n",
       "  }\n",
       "</style><div class='table-result-container'><table class='table-result'><thead style='background-color: white'><tr><th>Name</th><th>department</th><th>Customer_ID</th><th>Change_Date</th><th>Load_Date</th><th>Status</th><th>description</th></tr></thead><tbody><tr><td>null</td><td>null</td><td>null</td><td>null</td><td>null</td><td>null</td><td>null</td></tr><tr><td>null</td><td>null</td><td>null</td><td>null</td><td>null</td><td>null</td><td>null</td></tr><tr><td>null</td><td>null</td><td>null</td><td>null</td><td>null</td><td>null</td><td>null</td></tr><tr><td>null</td><td>null</td><td>null</td><td>null</td><td>null</td><td>null</td><td>null</td></tr><tr><td>null</td><td>null</td><td>null</td><td>null</td><td>null</td><td>null</td><td>null</td></tr></tbody></table></div>"
      ]
     },
     "metadata": {
      "application/vnd.databricks.v1+output": {
       "addedWidgets": {},
       "aggData": [],
       "aggError": "",
       "aggOverflow": false,
       "aggSchema": [],
       "aggSeriesLimitReached": false,
       "aggType": "",
       "arguments": {},
       "columnCustomDisplayInfos": {},
       "data": [
        [
         null,
         null,
         null,
         null,
         null,
         null,
         null
        ],
        [
         null,
         null,
         null,
         null,
         null,
         null,
         null
        ],
        [
         null,
         null,
         null,
         null,
         null,
         null,
         null
        ],
        [
         null,
         null,
         null,
         null,
         null,
         null,
         null
        ],
        [
         null,
         null,
         null,
         null,
         null,
         null,
         null
        ]
       ],
       "datasetInfos": [],
       "dbfsResultPath": null,
       "isJsonSchema": true,
       "metadata": {},
       "overflow": false,
       "plotOptions": {
        "customPlotOptions": {},
        "displayType": "table",
        "pivotAggregation": null,
        "pivotColumns": null,
        "xColumns": null,
        "yColumns": null
       },
       "removedWidgets": [],
       "schema": [
        {
         "metadata": "{\"__CHAR_VARCHAR_TYPE_STRING\": \"varchar(50)\"}",
         "name": "Name",
         "type": "\"string\""
        },
        {
         "metadata": "{\"__CHAR_VARCHAR_TYPE_STRING\": \"varchar(50)\"}",
         "name": "department",
         "type": "\"string\""
        },
        {
         "metadata": "{}",
         "name": "Customer_ID",
         "type": "\"integer\""
        },
        {
         "metadata": "{}",
         "name": "Change_Date",
         "type": "\"date\""
        },
        {
         "metadata": "{}",
         "name": "Load_Date",
         "type": "\"date\""
        },
        {
         "metadata": "{\"__CHAR_VARCHAR_TYPE_STRING\": \"varchar(20)\"}",
         "name": "Status",
         "type": "\"string\""
        },
        {
         "metadata": "{\"__CHAR_VARCHAR_TYPE_STRING\": \"varchar(100)\"}",
         "name": "description",
         "type": "\"string\""
        }
       ],
       "type": "table"
      }
     },
     "output_type": "display_data"
    }
   ],
   "source": [
    "from pyspark.sql.functions import col\n",
    "\n",
    "# Load the table into a DataFrame\n",
    "df = spark.table(\"tblNullsBlankRows\")\n",
    "\n",
    "# Generate the condition for checking all columns for NULL values\n",
    "condition = \" AND \".join([f\"{col} IS NULL\" for col in df.columns])\n",
    "\n",
    "# Create the SQL query\n",
    "sql_query = f\"SELECT * FROM tblNullsBlankRows WHERE {condition}\"\n",
    "# sql_query = f\"SELECT COUNT(*) AS all_null_rows FROM tblNullsBlankRows WHERE {condition}\"\n",
    "\n",
    "# Execute the query\n",
    "result_df = spark.sql(sql_query)\n",
    "\n",
    "# Display the result\n",
    "display(result_df)"
   ]
  }
 ],
 "metadata": {
  "application/vnd.databricks.v1+notebook": {
   "computePreferences": {
    "hardware": {
     "accelerator": null,
     "gpuPoolId": null,
     "memory": null
    }
   },
   "dashboards": [],
   "environmentMetadata": {
    "base_environment": "",
    "environment_version": "2"
   },
   "inputWidgetPreferences": null,
   "language": "python",
   "notebookMetadata": {
    "mostRecentlyExecutedCommandWithImplicitDF": {
     "commandId": 6744581194248051,
     "dataframes": [
      "_sqldf"
     ]
    },
    "pythonIndentUnit": 4
   },
   "notebookName": "13_How to find the number of rows where all columns are NULL",
   "widgets": {}
  },
  "language_info": {
   "name": "python"
  }
 },
 "nbformat": 4,
 "nbformat_minor": 0
}