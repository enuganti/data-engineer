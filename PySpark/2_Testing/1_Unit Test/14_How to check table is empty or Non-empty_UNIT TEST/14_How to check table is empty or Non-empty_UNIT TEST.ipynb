{
 "cells": [
  {
   "cell_type": "markdown",
   "metadata": {
    "application/vnd.databricks.v1+cell": {
     "cellMetadata": {},
     "inputWidgets": {},
     "nuid": "708d4d26-ea93-410c-920b-b8344b4528ed",
     "showTitle": false,
     "tableResultSettingsMap": {},
     "title": ""
    }
   },
   "source": [
    "#### How to check table is empty / Non-Empty?"
   ]
  },
  {
   "cell_type": "markdown",
   "metadata": {
    "application/vnd.databricks.v1+cell": {
     "cellMetadata": {},
     "inputWidgets": {},
     "nuid": "98347627-020d-4bf8-b44c-53859a75bd30",
     "showTitle": false,
     "tableResultSettingsMap": {},
     "title": ""
    }
   },
   "source": [
    "#### 1) Count the rows\n",
    "\n",
    "- The simplest method is to **count the rows** in the table.\n",
    "\n",
    "  - If **row_count = 0** → table is **empty**\n",
    "  - If **row_count > 0** → table is **not empty**\n",
    "\n",
    "**Pros:** Easy to understand.\n",
    "\n",
    "**Cons:** On very large tables, COUNT(*) may be **slower**."
   ]
  },
  {
   "cell_type": "code",
   "execution_count": 0,
   "metadata": {
    "application/vnd.databricks.v1+cell": {
     "cellMetadata": {
      "byteLimit": 2048000,
      "implicitDf": true,
      "rowLimit": 10000
     },
     "inputWidgets": {},
     "nuid": "2a705017-a1e4-49e2-86ac-f0853bbd093d",
     "showTitle": false,
     "tableResultSettingsMap": {},
     "title": ""
    }
   },
   "outputs": [
    {
     "output_type": "display_data",
     "data": {
      "text/html": [
       "<style scoped>\n",
       "  .table-result-container {\n",
       "    max-height: 300px;\n",
       "    overflow: auto;\n",
       "  }\n",
       "  table, th, td {\n",
       "    border: 1px solid black;\n",
       "    border-collapse: collapse;\n",
       "  }\n",
       "  th, td {\n",
       "    padding: 5px;\n",
       "  }\n",
       "  th {\n",
       "    text-align: left;\n",
       "  }\n",
       "</style><div class='table-result-container'><table class='table-result'><thead style='background-color: white'><tr><th>row_count</th></tr></thead><tbody><tr><td>2087</td></tr></tbody></table></div>"
      ]
     },
     "metadata": {
      "application/vnd.databricks.v1+output": {
       "addedWidgets": {},
       "aggData": [],
       "aggError": "",
       "aggOverflow": false,
       "aggSchema": [],
       "aggSeriesLimitReached": false,
       "aggType": "",
       "arguments": {},
       "columnCustomDisplayInfos": {},
       "data": [
        [
         2087
        ]
       ],
       "datasetInfos": [
        {
         "name": "_sqldf",
         "schema": {
          "fields": [
           {
            "metadata": {},
            "name": "row_count",
            "nullable": false,
            "type": "long"
           }
          ],
          "type": "struct"
         },
         "tableIdentifier": null,
         "typeStr": "pyspark.sql.connect.dataframe.DataFrame"
        }
       ],
       "dbfsResultPath": null,
       "isJsonSchema": true,
       "metadata": {
        "createTempViewForImplicitDf": true,
        "dataframeName": "_sqldf",
        "executionCount": 9
       },
       "overflow": false,
       "plotOptions": {
        "customPlotOptions": {},
        "displayType": "table",
        "pivotAggregation": null,
        "pivotColumns": null,
        "xColumns": null,
        "yColumns": null
       },
       "removedWidgets": [],
       "schema": [
        {
         "metadata": "{}",
         "name": "row_count",
         "type": "\"long\""
        }
       ],
       "type": "table"
      }
     },
     "output_type": "display_data"
    }
   ],
   "source": [
    "%sql\n",
    "SELECT COUNT(*) AS row_count FROM asn_acc.bronze.sales_collect_bronze;"
   ]
  },
  {
   "cell_type": "code",
   "execution_count": 0,
   "metadata": {
    "application/vnd.databricks.v1+cell": {
     "cellMetadata": {
      "byteLimit": 2048000,
      "implicitDf": true,
      "rowLimit": 10000
     },
     "inputWidgets": {},
     "nuid": "f2391820-7cdc-4a03-b562-e287b56175bd",
     "showTitle": false,
     "tableResultSettingsMap": {},
     "title": ""
    }
   },
   "outputs": [
    {
     "output_type": "display_data",
     "data": {
      "text/html": [
       "<style scoped>\n",
       "  .table-result-container {\n",
       "    max-height: 300px;\n",
       "    overflow: auto;\n",
       "  }\n",
       "  table, th, td {\n",
       "    border: 1px solid black;\n",
       "    border-collapse: collapse;\n",
       "  }\n",
       "  th, td {\n",
       "    padding: 5px;\n",
       "  }\n",
       "  th {\n",
       "    text-align: left;\n",
       "  }\n",
       "</style><div class='table-result-container'><table class='table-result'><thead style='background-color: white'><tr><th>TableStatus</th></tr></thead><tbody><tr><td>Table is not empty</td></tr></tbody></table></div>"
      ]
     },
     "metadata": {
      "application/vnd.databricks.v1+output": {
       "addedWidgets": {},
       "aggData": [],
       "aggError": "",
       "aggOverflow": false,
       "aggSchema": [],
       "aggSeriesLimitReached": false,
       "aggType": "",
       "arguments": {},
       "columnCustomDisplayInfos": {},
       "data": [
        [
         "Table is not empty"
        ]
       ],
       "datasetInfos": [
        {
         "name": "_sqldf",
         "schema": {
          "fields": [
           {
            "metadata": {},
            "name": "TableStatus",
            "nullable": false,
            "type": "string"
           }
          ],
          "type": "struct"
         },
         "tableIdentifier": null,
         "typeStr": "pyspark.sql.connect.dataframe.DataFrame"
        }
       ],
       "dbfsResultPath": null,
       "isJsonSchema": true,
       "metadata": {
        "createTempViewForImplicitDf": true,
        "dataframeName": "_sqldf",
        "executionCount": 10
       },
       "overflow": false,
       "plotOptions": {
        "customPlotOptions": {},
        "displayType": "table",
        "pivotAggregation": null,
        "pivotColumns": null,
        "xColumns": null,
        "yColumns": null
       },
       "removedWidgets": [],
       "schema": [
        {
         "metadata": "{}",
         "name": "TableStatus",
         "type": "\"string\""
        }
       ],
       "type": "table"
      }
     },
     "output_type": "display_data"
    }
   ],
   "source": [
    "%sql\n",
    "SELECT CASE \n",
    "           WHEN COUNT(*) = 0 THEN 'Table is empty'\n",
    "           ELSE 'Table is not empty'\n",
    "       END AS TableStatus\n",
    "FROM asn_acc.bronze.sales_collect_bronze;"
   ]
  },
  {
   "cell_type": "markdown",
   "metadata": {
    "application/vnd.databricks.v1+cell": {
     "cellMetadata": {},
     "inputWidgets": {},
     "nuid": "2959ca40-bfa2-4c3e-a6ed-9f39522c59b4",
     "showTitle": false,
     "tableResultSettingsMap": {},
     "title": ""
    }
   },
   "source": [
    "#### 2) Use EXISTS (faster for large tables)\n",
    "- EXISTS **stops searching** after finding the **first row**, so it can be **more efficient than COUNT(*)** when you just want to know if the **table has data**.\n",
    "- **Stops scanning** after finding the **first row** → better performance.\n",
    "- This method is **fast** because it **doesn't scan** the **entire table**."
   ]
  },
  {
   "cell_type": "code",
   "execution_count": 0,
   "metadata": {
    "application/vnd.databricks.v1+cell": {
     "cellMetadata": {
      "byteLimit": 2048000,
      "implicitDf": true,
      "rowLimit": 10000
     },
     "inputWidgets": {},
     "nuid": "509353d2-eb58-4085-b118-1209eea87cdd",
     "showTitle": false,
     "tableResultSettingsMap": {},
     "title": ""
    }
   },
   "outputs": [
    {
     "output_type": "display_data",
     "data": {
      "text/html": [
       "<style scoped>\n",
       "  .table-result-container {\n",
       "    max-height: 300px;\n",
       "    overflow: auto;\n",
       "  }\n",
       "  table, th, td {\n",
       "    border: 1px solid black;\n",
       "    border-collapse: collapse;\n",
       "  }\n",
       "  th, td {\n",
       "    padding: 5px;\n",
       "  }\n",
       "  th {\n",
       "    text-align: left;\n",
       "  }\n",
       "</style><div class='table-result-container'><table class='table-result'><thead style='background-color: white'><tr><th>table_status</th></tr></thead><tbody><tr><td>Non-Empty</td></tr></tbody></table></div>"
      ]
     },
     "metadata": {
      "application/vnd.databricks.v1+output": {
       "addedWidgets": {},
       "aggData": [],
       "aggError": "",
       "aggOverflow": false,
       "aggSchema": [],
       "aggSeriesLimitReached": false,
       "aggType": "",
       "arguments": {},
       "columnCustomDisplayInfos": {},
       "data": [
        [
         "Non-Empty"
        ]
       ],
       "datasetInfos": [
        {
         "name": "_sqldf",
         "schema": {
          "fields": [
           {
            "metadata": {},
            "name": "table_status",
            "nullable": false,
            "type": "string"
           }
          ],
          "type": "struct"
         },
         "tableIdentifier": null,
         "typeStr": "pyspark.sql.connect.dataframe.DataFrame"
        }
       ],
       "dbfsResultPath": null,
       "isJsonSchema": true,
       "metadata": {
        "createTempViewForImplicitDf": true,
        "dataframeName": "_sqldf",
        "executionCount": 17
       },
       "overflow": false,
       "plotOptions": {
        "customPlotOptions": {},
        "displayType": "table",
        "pivotAggregation": null,
        "pivotColumns": null,
        "xColumns": null,
        "yColumns": null
       },
       "removedWidgets": [],
       "schema": [
        {
         "metadata": "{}",
         "name": "table_status",
         "type": "\"string\""
        }
       ],
       "type": "table"
      }
     },
     "output_type": "display_data"
    }
   ],
   "source": [
    "%sql\n",
    "SELECT CASE \n",
    "         WHEN EXISTS (SELECT 1 FROM asn_acc.bronze.sales_collect_bronze) \n",
    "         THEN 'Non-Empty' \n",
    "         ELSE 'Empty' \n",
    "       END AS table_status;"
   ]
  },
  {
   "cell_type": "markdown",
   "metadata": {
    "application/vnd.databricks.v1+cell": {
     "cellMetadata": {},
     "inputWidgets": {},
     "nuid": "4d1cd8ef-a186-41d9-b69b-3ab94a6d90c8",
     "showTitle": false,
     "tableResultSettingsMap": {},
     "title": ""
    }
   },
   "source": [
    "#### 3) Limit the check\n",
    "\n",
    "- If it **returns a row** → table is **non-empty**\n",
    "- If it returns **nothing** → table is **empty**"
   ]
  },
  {
   "cell_type": "code",
   "execution_count": 0,
   "metadata": {
    "application/vnd.databricks.v1+cell": {
     "cellMetadata": {
      "byteLimit": 2048000,
      "implicitDf": true,
      "rowLimit": 10000
     },
     "inputWidgets": {},
     "nuid": "0e62196f-2c3e-4d12-bb66-0b1a9b3a0e2f",
     "showTitle": false,
     "tableResultSettingsMap": {},
     "title": ""
    }
   },
   "outputs": [
    {
     "output_type": "display_data",
     "data": {
      "text/html": [
       "<style scoped>\n",
       "  .table-result-container {\n",
       "    max-height: 300px;\n",
       "    overflow: auto;\n",
       "  }\n",
       "  table, th, td {\n",
       "    border: 1px solid black;\n",
       "    border-collapse: collapse;\n",
       "  }\n",
       "  th, td {\n",
       "    padding: 5px;\n",
       "  }\n",
       "  th {\n",
       "    text-align: left;\n",
       "  }\n",
       "</style><div class='table-result-container'><table class='table-result'><thead style='background-color: white'><tr><th>Id</th><th>dept_Id</th><th>SubDept_Id</th><th>Vehicle_Id</th><th>Vehicle_Profile_Id</th><th>Description</th><th>Vehicle_Price_Id</th><th>Vehicle_Showroom_Price</th><th>Vehicle_Showroom_Delta</th><th>Vehicle_Showroom_Payment_Date</th><th>Currency</th><th>Target_Currency</th><th>Average</th><th>Increment</th><th>Target_Simulation_Id</th></tr></thead><tbody><tr><td>257</td><td>257</td><td>1</td><td>1</td><td>0</td><td>Baleno</td><td>6</td><td>72567.98</td><td>5678.01</td><td>2023-02-20</td><td>INR</td><td>INR</td><td>2381.657773</td><td>0.0</td><td>1071</td></tr></tbody></table></div>"
      ]
     },
     "metadata": {
      "application/vnd.databricks.v1+output": {
       "addedWidgets": {},
       "aggData": [],
       "aggError": "",
       "aggOverflow": false,
       "aggSchema": [],
       "aggSeriesLimitReached": false,
       "aggType": "",
       "arguments": {},
       "columnCustomDisplayInfos": {},
       "data": [
        [
         257,
         257,
         1,
         1,
         0,
         "Baleno",
         6,
         72567.98,
         5678.01,
         "2023-02-20",
         "INR",
         "INR",
         2381.657773,
         0.0,
         1071
        ]
       ],
       "datasetInfos": [
        {
         "name": "_sqldf",
         "schema": {
          "fields": [
           {
            "metadata": {},
            "name": "Id",
            "nullable": true,
            "type": "long"
           },
           {
            "metadata": {},
            "name": "dept_Id",
            "nullable": true,
            "type": "long"
           },
           {
            "metadata": {},
            "name": "SubDept_Id",
            "nullable": true,
            "type": "long"
           },
           {
            "metadata": {},
            "name": "Vehicle_Id",
            "nullable": true,
            "type": "long"
           },
           {
            "metadata": {},
            "name": "Vehicle_Profile_Id",
            "nullable": true,
            "type": "long"
           },
           {
            "metadata": {},
            "name": "Description",
            "nullable": true,
            "type": "string"
           },
           {
            "metadata": {},
            "name": "Vehicle_Price_Id",
            "nullable": true,
            "type": "long"
           },
           {
            "metadata": {},
            "name": "Vehicle_Showroom_Price",
            "nullable": true,
            "type": "double"
           },
           {
            "metadata": {},
            "name": "Vehicle_Showroom_Delta",
            "nullable": true,
            "type": "double"
           },
           {
            "metadata": {
             "__detected_date_formats": "M/d/yyyy"
            },
            "name": "Vehicle_Showroom_Payment_Date",
            "nullable": true,
            "type": "date"
           },
           {
            "metadata": {},
            "name": "Currency",
            "nullable": true,
            "type": "string"
           },
           {
            "metadata": {},
            "name": "Target_Currency",
            "nullable": true,
            "type": "string"
           },
           {
            "metadata": {},
            "name": "Average",
            "nullable": true,
            "type": "double"
           },
           {
            "metadata": {},
            "name": "Increment",
            "nullable": true,
            "type": "double"
           },
           {
            "metadata": {},
            "name": "Target_Simulation_Id",
            "nullable": true,
            "type": "long"
           }
          ],
          "type": "struct"
         },
         "tableIdentifier": null,
         "typeStr": "pyspark.sql.connect.dataframe.DataFrame"
        }
       ],
       "dbfsResultPath": null,
       "isJsonSchema": true,
       "metadata": {
        "createTempViewForImplicitDf": true,
        "dataframeName": "_sqldf",
        "executionCount": 21
       },
       "overflow": false,
       "plotOptions": {
        "customPlotOptions": {},
        "displayType": "table",
        "pivotAggregation": null,
        "pivotColumns": null,
        "xColumns": null,
        "yColumns": null
       },
       "removedWidgets": [],
       "schema": [
        {
         "metadata": "{}",
         "name": "Id",
         "type": "\"long\""
        },
        {
         "metadata": "{}",
         "name": "dept_Id",
         "type": "\"long\""
        },
        {
         "metadata": "{}",
         "name": "SubDept_Id",
         "type": "\"long\""
        },
        {
         "metadata": "{}",
         "name": "Vehicle_Id",
         "type": "\"long\""
        },
        {
         "metadata": "{}",
         "name": "Vehicle_Profile_Id",
         "type": "\"long\""
        },
        {
         "metadata": "{}",
         "name": "Description",
         "type": "\"string\""
        },
        {
         "metadata": "{}",
         "name": "Vehicle_Price_Id",
         "type": "\"long\""
        },
        {
         "metadata": "{}",
         "name": "Vehicle_Showroom_Price",
         "type": "\"double\""
        },
        {
         "metadata": "{}",
         "name": "Vehicle_Showroom_Delta",
         "type": "\"double\""
        },
        {
         "metadata": "{\"__detected_date_formats\": \"M/d/yyyy\"}",
         "name": "Vehicle_Showroom_Payment_Date",
         "type": "\"date\""
        },
        {
         "metadata": "{}",
         "name": "Currency",
         "type": "\"string\""
        },
        {
         "metadata": "{}",
         "name": "Target_Currency",
         "type": "\"string\""
        },
        {
         "metadata": "{}",
         "name": "Average",
         "type": "\"double\""
        },
        {
         "metadata": "{}",
         "name": "Increment",
         "type": "\"double\""
        },
        {
         "metadata": "{}",
         "name": "Target_Simulation_Id",
         "type": "\"long\""
        }
       ],
       "type": "table"
      }
     },
     "output_type": "display_data"
    }
   ],
   "source": [
    "%sql\n",
    "SELECT * \n",
    "FROM asn_acc.bronze.sales_collect_bronze\n",
    "LIMIT 1;"
   ]
  },
  {
   "cell_type": "markdown",
   "metadata": {
    "application/vnd.databricks.v1+cell": {
     "cellMetadata": {},
     "inputWidgets": {},
     "nuid": "52c99e11-0044-4d41-8040-311b1d974adf",
     "showTitle": false,
     "tableResultSettingsMap": {},
     "title": ""
    }
   },
   "source": [
    "**When to Use Which Method?**\n",
    "\n",
    "- **Small tables:**\n",
    "  - **COUNT(*)** is fine.\n",
    "\n",
    "- **Large tables (performance critical):**\n",
    "  - Use **EXISTS or LIMIT 1**.\n",
    "\n",
    "- If you just want to know if it’s **empty**, use **EXISTS or LIMIT 1** -> much **faster than counting all rows**."
   ]
  }
 ],
 "metadata": {
  "application/vnd.databricks.v1+notebook": {
   "computePreferences": null,
   "dashboards": [],
   "environmentMetadata": {
    "base_environment": "",
    "environment_version": "2"
   },
   "inputWidgetPreferences": null,
   "language": "python",
   "notebookMetadata": {
    "mostRecentlyExecutedCommandWithImplicitDF": {
     "commandId": 8535399356868727,
     "dataframes": [
      "_sqldf"
     ]
    },
    "pythonIndentUnit": 4
   },
   "notebookName": "14_How to check table is empty or Non-empty_UNIT TEST",
   "widgets": {}
  },
  "language_info": {
   "name": "python"
  }
 },
 "nbformat": 4,
 "nbformat_minor": 0
}