{
 "cells": [
  {
   "cell_type": "markdown",
   "metadata": {
    "application/vnd.databricks.v1+cell": {
     "cellMetadata": {},
     "inputWidgets": {},
     "nuid": "cd5aac7c-a501-4506-98b6-a519511767ec",
     "showTitle": false,
     "tableResultSettingsMap": {},
     "title": ""
    }
   },
   "source": [
    "#### How to return rows where at least one column is NULL?\n",
    "\n",
    "| OBJECT_ID\t| Name     |\tdepartment |\tCustomer_ID\t| Change_Date\t          | Load_Date   |\tStatus       |\tdescription\t| start_date_source\t| \n",
    "|-----------|----------|-------------|--------------|-----------------------|-------------|--------------|--------------|-------------------|\n",
    "| 583069\t  | Harish   |\tnull\t     | 13681832     |\t2025-05-12T09:25:45Z                  |\t2025-06-02  |\tOpen\t       | E-Mail\t      | 1724256609000     |\n",
    "| 506654\t  | Basha\t   |\tnull\t     | 13681832     | 2025-04-02T04:15:05Z\t| 2025-06-02\t| Not Relevant | Social Media\t| 1724256609000\t    |\n",
    "| 583195\t  | null\t   | Finance     | 12619703     |\tnull                  |\t2025-06-02\t| Started      | Messaging    |\t1724256609000     |\n",
    "| 558253\t\t| null\t   | 2269299\t   | null\t        | 2025-06-02\t          | 2025-06-02  | null         | Messaging    | 1724256609000     |\n",
    "| null\t    | Krishna\t | Sales\t     | null         |\t2025-04-02T06:12:18Z\t| 2025-06-02\t| null\t       | Manual entry\t| 1724256609000\t    |\n",
    "| 583181    |\tKiran\t   | Marketing\t | 39714449\t    | null\t                | 2025-06-02\t| Finished\t   | Other\t      | 1724256609000\t    |\n",
    "| 583119\t  | Hitesh   |\tnull       |\t10183510\t  | 2025-04-02T04:15:13Z\t| null\t      | Open\t       | Telephony    |\t1724256609000     |"
   ]
  },
  {
   "cell_type": "code",
   "execution_count": 0,
   "metadata": {
    "application/vnd.databricks.v1+cell": {
     "cellMetadata": {
      "byteLimit": 2048000,
      "implicitDf": true,
      "rowLimit": 10000
     },
     "inputWidgets": {},
     "nuid": "a8b16ac8-31cd-41e5-804d-b5f56078228b",
     "showTitle": false,
     "tableResultSettingsMap": {},
     "title": ""
    }
   },
   "outputs": [
    {
     "output_type": "display_data",
     "data": {
      "text/html": [
       "<style scoped>\n",
       "  .table-result-container {\n",
       "    max-height: 300px;\n",
       "    overflow: auto;\n",
       "  }\n",
       "  table, th, td {\n",
       "    border: 1px solid black;\n",
       "    border-collapse: collapse;\n",
       "  }\n",
       "  th, td {\n",
       "    padding: 5px;\n",
       "  }\n",
       "  th {\n",
       "    text-align: left;\n",
       "  }\n",
       "</style><div class='table-result-container'><table class='table-result'><thead style='background-color: white'><tr><th>Name</th><th>department</th><th>Customer_ID</th><th>Change_Date</th><th>Load_Date</th><th>Status</th><th>description</th></tr></thead><tbody><tr><td>Jagadish</td><td>HR</td><td>null</td><td>2024-01-05</td><td>2024-01-06</td><td>Active</td><td>Employee record</td></tr><tr><td>Ashwin</td><td>Admin</td><td>102</td><td>2024-04-05</td><td>2024-03-06</td><td>Default</td><td>Employee Obsent</td></tr><tr><td>Swarna</td><td>Finance</td><td>103</td><td>2024-05-05</td><td>null</td><td>Deactivate</td><td>Products</td></tr><tr><td>Swapna</td><td>IT</td><td>104</td><td>2024-08-10</td><td>2024-05-12</td><td>Inactive</td><td>Resigned</td></tr><tr><td>Praveen</td><td>Accounts</td><td>105</td><td>2024-09-05</td><td>2024-03-06</td><td>Active</td><td>Description</td></tr><tr><td>Bibin</td><td>Finance</td><td>105</td><td>2024-10-01</td><td>2024-09-02</td><td>Active</td><td>Salary details</td></tr><tr><td>Bharath</td><td>null</td><td>106</td><td>2024-12-05</td><td>2024-09-06</td><td>Default</td><td>Sales Details</td></tr><tr><td>Carl</td><td>Admin</td><td>104</td><td>2024-04-11</td><td>2024-04-15</td><td>Active</td><td>Shift change</td></tr><tr><td>Joseph</td><td>Developer</td><td>101</td><td>2024-01-05</td><td>2024-01-06</td><td>Active</td><td>Employee record</td></tr><tr><td>Damu</td><td>Sales</td><td>105</td><td>2024-05-18</td><td>2024-05-20</td><td>null</td><td>Transferred</td></tr><tr><td>Josna</td><td>Transport</td><td>101</td><td>2024-01-05</td><td>2024-01-06</td><td>Active</td><td>Unlock offers</td></tr><tr><td>null</td><td>Domestic</td><td>101</td><td>2024-12-05</td><td>2025-05-06</td><td>Inactive</td><td>Savings</td></tr></tbody></table></div>"
      ]
     },
     "metadata": {
      "application/vnd.databricks.v1+output": {
       "addedWidgets": {},
       "aggData": [],
       "aggError": "",
       "aggOverflow": false,
       "aggSchema": [],
       "aggSeriesLimitReached": false,
       "aggType": "",
       "arguments": {},
       "columnCustomDisplayInfos": {},
       "data": [
        [
         "Jagadish",
         "HR",
         null,
         "2024-01-05",
         "2024-01-06",
         "Active",
         "Employee record"
        ],
        [
         "Ashwin",
         "Admin",
         102,
         "2024-04-05",
         "2024-03-06",
         "Default",
         "Employee Obsent"
        ],
        [
         "Swarna",
         "Finance",
         103,
         "2024-05-05",
         null,
         "Deactivate",
         "Products"
        ],
        [
         "Swapna",
         "IT",
         104,
         "2024-08-10",
         "2024-05-12",
         "Inactive",
         "Resigned"
        ],
        [
         "Praveen",
         "Accounts",
         105,
         "2024-09-05",
         "2024-03-06",
         "Active",
         "Description"
        ],
        [
         "Bibin",
         "Finance",
         105,
         "2024-10-01",
         "2024-09-02",
         "Active",
         "Salary details"
        ],
        [
         "Bharath",
         null,
         106,
         "2024-12-05",
         "2024-09-06",
         "Default",
         "Sales Details"
        ],
        [
         "Carl",
         "Admin",
         104,
         "2024-04-11",
         "2024-04-15",
         "Active",
         "Shift change"
        ],
        [
         "Joseph",
         "Developer",
         101,
         "2024-01-05",
         "2024-01-06",
         "Active",
         "Employee record"
        ],
        [
         "Damu",
         "Sales",
         105,
         "2024-05-18",
         "2024-05-20",
         null,
         "Transferred"
        ],
        [
         "Josna",
         "Transport",
         101,
         "2024-01-05",
         "2024-01-06",
         "Active",
         "Unlock offers"
        ],
        [
         null,
         "Domestic",
         101,
         "2024-12-05",
         "2025-05-06",
         "Inactive",
         "Savings"
        ]
       ],
       "datasetInfos": [
        {
         "name": "_sqldf",
         "schema": {
          "fields": [
           {
            "metadata": {
             "__CHAR_VARCHAR_TYPE_STRING": "varchar(50)"
            },
            "name": "Name",
            "nullable": true,
            "type": "string"
           },
           {
            "metadata": {
             "__CHAR_VARCHAR_TYPE_STRING": "varchar(50)"
            },
            "name": "department",
            "nullable": true,
            "type": "string"
           },
           {
            "metadata": {},
            "name": "Customer_ID",
            "nullable": true,
            "type": "integer"
           },
           {
            "metadata": {},
            "name": "Change_Date",
            "nullable": true,
            "type": "date"
           },
           {
            "metadata": {},
            "name": "Load_Date",
            "nullable": true,
            "type": "date"
           },
           {
            "metadata": {
             "__CHAR_VARCHAR_TYPE_STRING": "varchar(20)"
            },
            "name": "Status",
            "nullable": true,
            "type": "string"
           },
           {
            "metadata": {
             "__CHAR_VARCHAR_TYPE_STRING": "varchar(100)"
            },
            "name": "description",
            "nullable": true,
            "type": "string"
           }
          ],
          "type": "struct"
         },
         "tableIdentifier": null,
         "typeStr": "pyspark.sql.connect.dataframe.DataFrame"
        }
       ],
       "dbfsResultPath": null,
       "isJsonSchema": true,
       "metadata": {
        "createTempViewForImplicitDf": true,
        "dataframeName": "_sqldf",
        "executionCount": 2
       },
       "overflow": false,
       "plotOptions": {
        "customPlotOptions": {},
        "displayType": "table",
        "pivotAggregation": null,
        "pivotColumns": null,
        "xColumns": null,
        "yColumns": null
       },
       "removedWidgets": [],
       "schema": [
        {
         "metadata": "{\"__CHAR_VARCHAR_TYPE_STRING\": \"varchar(50)\"}",
         "name": "Name",
         "type": "\"string\""
        },
        {
         "metadata": "{\"__CHAR_VARCHAR_TYPE_STRING\": \"varchar(50)\"}",
         "name": "department",
         "type": "\"string\""
        },
        {
         "metadata": "{}",
         "name": "Customer_ID",
         "type": "\"integer\""
        },
        {
         "metadata": "{}",
         "name": "Change_Date",
         "type": "\"date\""
        },
        {
         "metadata": "{}",
         "name": "Load_Date",
         "type": "\"date\""
        },
        {
         "metadata": "{\"__CHAR_VARCHAR_TYPE_STRING\": \"varchar(20)\"}",
         "name": "Status",
         "type": "\"string\""
        },
        {
         "metadata": "{\"__CHAR_VARCHAR_TYPE_STRING\": \"varchar(100)\"}",
         "name": "description",
         "type": "\"string\""
        }
       ],
       "type": "table"
      }
     },
     "output_type": "display_data"
    }
   ],
   "source": [
    "%sql\n",
    "-- Create table\n",
    "DROP TABLE IF EXISTS tblOneNullsRows;\n",
    "CREATE TABLE tblOneNullsRows (\n",
    "    Name VARCHAR(50),\n",
    "    department VARCHAR(50),\n",
    "    Customer_ID INT,\n",
    "    Change_Date DATE,\n",
    "    Load_Date DATE,\n",
    "    Status VARCHAR(20),\n",
    "    description VARCHAR(100)\n",
    ");\n",
    "\n",
    "-- Insert sample data\n",
    "INSERT INTO tblOneNullsRows VALUES\n",
    "('Jagadish', 'HR', NULL, '2024-01-05', '2024-01-06', 'Active', 'Employee record'),\n",
    "('Ashwin', 'Admin', 102, '2024-04-05', '2024-03-06', 'Default', 'Employee Obsent'),\n",
    "('Swarna', 'Finance', 103, '2024-05-05', NULL, 'Deactivate', 'Products'),\n",
    "('Swapna', 'IT', 104, '2024-08-10', '2024-05-12', 'Inactive', 'Resigned'),\n",
    "('Praveen', 'Accounts', 105, '2024-09-05', '2024-03-06', 'Active', 'Description'),\n",
    "('Bibin', 'Finance', 105, '2024-10-01', '2024-09-02', 'Active', 'Salary details'),\n",
    "('Bharath', NULL, 106, '2024-12-05', '2024-09-06', 'Default', 'Sales Details'),\n",
    "('Carl', 'Admin', 104, '2024-04-11', '2024-04-15', 'Active', 'Shift change'),\n",
    "('Joseph', 'Developer', 101, '2024-01-05', '2024-01-06', 'Active', 'Employee record'),\n",
    "('Damu', 'Sales', 105, '2024-05-18', '2024-05-20', NULL, 'Transferred'),\n",
    "('Josna', 'Transport', 101, '2024-01-05', '2024-01-06', 'Active', 'Unlock offers'),\n",
    "(NULL, 'Domestic', 101, '2024-12-05', '2025-05-06', 'Inactive', 'Savings');\n",
    "\n",
    "SELECT * FROM tblOneNullsRows;"
   ]
  },
  {
   "cell_type": "markdown",
   "metadata": {
    "application/vnd.databricks.v1+cell": {
     "cellMetadata": {},
     "inputWidgets": {},
     "nuid": "51b6e4ee-51e9-4f14-b9d0-90078643f6bb",
     "showTitle": false,
     "tableResultSettingsMap": {},
     "title": ""
    }
   },
   "source": [
    "##### 1) Using OR conditions"
   ]
  },
  {
   "cell_type": "code",
   "execution_count": 0,
   "metadata": {
    "application/vnd.databricks.v1+cell": {
     "cellMetadata": {
      "byteLimit": 2048000,
      "implicitDf": true,
      "rowLimit": 10000
     },
     "inputWidgets": {},
     "nuid": "8ee5f393-5cdc-48d2-b6a2-1c1154320d32",
     "showTitle": false,
     "tableResultSettingsMap": {},
     "title": ""
    }
   },
   "outputs": [
    {
     "output_type": "display_data",
     "data": {
      "text/html": [
       "<style scoped>\n",
       "  .table-result-container {\n",
       "    max-height: 300px;\n",
       "    overflow: auto;\n",
       "  }\n",
       "  table, th, td {\n",
       "    border: 1px solid black;\n",
       "    border-collapse: collapse;\n",
       "  }\n",
       "  th, td {\n",
       "    padding: 5px;\n",
       "  }\n",
       "  th {\n",
       "    text-align: left;\n",
       "  }\n",
       "</style><div class='table-result-container'><table class='table-result'><thead style='background-color: white'><tr><th>Name</th><th>department</th><th>Customer_ID</th><th>Change_Date</th><th>Load_Date</th><th>Status</th><th>description</th></tr></thead><tbody><tr><td>Jagadish</td><td>HR</td><td>null</td><td>2024-01-05</td><td>2024-01-06</td><td>Active</td><td>Employee record</td></tr><tr><td>Swarna</td><td>Finance</td><td>103</td><td>2024-05-05</td><td>null</td><td>Deactivate</td><td>Products</td></tr><tr><td>Bharath</td><td>null</td><td>106</td><td>2024-12-05</td><td>2024-09-06</td><td>Default</td><td>Sales Details</td></tr><tr><td>Damu</td><td>Sales</td><td>105</td><td>2024-05-18</td><td>2024-05-20</td><td>null</td><td>Transferred</td></tr><tr><td>null</td><td>Domestic</td><td>101</td><td>2024-12-05</td><td>2025-05-06</td><td>Inactive</td><td>Savings</td></tr></tbody></table></div>"
      ]
     },
     "metadata": {
      "application/vnd.databricks.v1+output": {
       "addedWidgets": {},
       "aggData": [],
       "aggError": "",
       "aggOverflow": false,
       "aggSchema": [],
       "aggSeriesLimitReached": false,
       "aggType": "",
       "arguments": {},
       "columnCustomDisplayInfos": {},
       "data": [
        [
         "Jagadish",
         "HR",
         null,
         "2024-01-05",
         "2024-01-06",
         "Active",
         "Employee record"
        ],
        [
         "Swarna",
         "Finance",
         103,
         "2024-05-05",
         null,
         "Deactivate",
         "Products"
        ],
        [
         "Bharath",
         null,
         106,
         "2024-12-05",
         "2024-09-06",
         "Default",
         "Sales Details"
        ],
        [
         "Damu",
         "Sales",
         105,
         "2024-05-18",
         "2024-05-20",
         null,
         "Transferred"
        ],
        [
         null,
         "Domestic",
         101,
         "2024-12-05",
         "2025-05-06",
         "Inactive",
         "Savings"
        ]
       ],
       "datasetInfos": [
        {
         "name": "_sqldf",
         "schema": {
          "fields": [
           {
            "metadata": {
             "__CHAR_VARCHAR_TYPE_STRING": "varchar(50)"
            },
            "name": "Name",
            "nullable": true,
            "type": "string"
           },
           {
            "metadata": {
             "__CHAR_VARCHAR_TYPE_STRING": "varchar(50)"
            },
            "name": "department",
            "nullable": true,
            "type": "string"
           },
           {
            "metadata": {},
            "name": "Customer_ID",
            "nullable": true,
            "type": "integer"
           },
           {
            "metadata": {},
            "name": "Change_Date",
            "nullable": true,
            "type": "date"
           },
           {
            "metadata": {},
            "name": "Load_Date",
            "nullable": true,
            "type": "date"
           },
           {
            "metadata": {
             "__CHAR_VARCHAR_TYPE_STRING": "varchar(20)"
            },
            "name": "Status",
            "nullable": true,
            "type": "string"
           },
           {
            "metadata": {
             "__CHAR_VARCHAR_TYPE_STRING": "varchar(100)"
            },
            "name": "description",
            "nullable": true,
            "type": "string"
           }
          ],
          "type": "struct"
         },
         "tableIdentifier": null,
         "typeStr": "pyspark.sql.connect.dataframe.DataFrame"
        }
       ],
       "dbfsResultPath": null,
       "isJsonSchema": true,
       "metadata": {
        "createTempViewForImplicitDf": true,
        "dataframeName": "_sqldf",
        "executionCount": 9
       },
       "overflow": false,
       "plotOptions": {
        "customPlotOptions": {},
        "displayType": "table",
        "pivotAggregation": null,
        "pivotColumns": null,
        "xColumns": null,
        "yColumns": null
       },
       "removedWidgets": [],
       "schema": [
        {
         "metadata": "{\"__CHAR_VARCHAR_TYPE_STRING\": \"varchar(50)\"}",
         "name": "Name",
         "type": "\"string\""
        },
        {
         "metadata": "{\"__CHAR_VARCHAR_TYPE_STRING\": \"varchar(50)\"}",
         "name": "department",
         "type": "\"string\""
        },
        {
         "metadata": "{}",
         "name": "Customer_ID",
         "type": "\"integer\""
        },
        {
         "metadata": "{}",
         "name": "Change_Date",
         "type": "\"date\""
        },
        {
         "metadata": "{}",
         "name": "Load_Date",
         "type": "\"date\""
        },
        {
         "metadata": "{\"__CHAR_VARCHAR_TYPE_STRING\": \"varchar(20)\"}",
         "name": "Status",
         "type": "\"string\""
        },
        {
         "metadata": "{\"__CHAR_VARCHAR_TYPE_STRING\": \"varchar(100)\"}",
         "name": "description",
         "type": "\"string\""
        }
       ],
       "type": "table"
      }
     },
     "output_type": "display_data"
    }
   ],
   "source": [
    "%sql\n",
    "SELECT * FROM tblOneNullsRows\n",
    "WHERE Name IS NULL OR\n",
    "      department IS NULL OR\n",
    "      Customer_ID IS NULL OR\n",
    "      Change_Date IS NULL OR\n",
    "      Load_Date IS NULL OR\n",
    "      Status IS NULL OR\n",
    "      description IS NULL;"
   ]
  },
  {
   "cell_type": "code",
   "execution_count": 0,
   "metadata": {
    "application/vnd.databricks.v1+cell": {
     "cellMetadata": {
      "byteLimit": 2048000,
      "implicitDf": true,
      "rowLimit": 10000
     },
     "inputWidgets": {},
     "nuid": "7be56a68-94f4-4a08-9191-17b3e4dde487",
     "showTitle": false,
     "tableResultSettingsMap": {},
     "title": ""
    }
   },
   "outputs": [
    {
     "output_type": "display_data",
     "data": {
      "text/html": [
       "<style scoped>\n",
       "  .table-result-container {\n",
       "    max-height: 300px;\n",
       "    overflow: auto;\n",
       "  }\n",
       "  table, th, td {\n",
       "    border: 1px solid black;\n",
       "    border-collapse: collapse;\n",
       "  }\n",
       "  th, td {\n",
       "    padding: 5px;\n",
       "  }\n",
       "  th {\n",
       "    text-align: left;\n",
       "  }\n",
       "</style><div class='table-result-container'><table class='table-result'><thead style='background-color: white'><tr><th>RowsWithAnyNulls</th></tr></thead><tbody><tr><td>5</td></tr></tbody></table></div>"
      ]
     },
     "metadata": {
      "application/vnd.databricks.v1+output": {
       "addedWidgets": {},
       "aggData": [],
       "aggError": "",
       "aggOverflow": false,
       "aggSchema": [],
       "aggSeriesLimitReached": false,
       "aggType": "",
       "arguments": {},
       "columnCustomDisplayInfos": {},
       "data": [
        [
         5
        ]
       ],
       "datasetInfos": [
        {
         "name": "_sqldf",
         "schema": {
          "fields": [
           {
            "metadata": {},
            "name": "RowsWithAnyNulls",
            "nullable": false,
            "type": "long"
           }
          ],
          "type": "struct"
         },
         "tableIdentifier": null,
         "typeStr": "pyspark.sql.connect.dataframe.DataFrame"
        }
       ],
       "dbfsResultPath": null,
       "isJsonSchema": true,
       "metadata": {
        "createTempViewForImplicitDf": true,
        "dataframeName": "_sqldf",
        "executionCount": 14
       },
       "overflow": false,
       "plotOptions": {
        "customPlotOptions": {},
        "displayType": "table",
        "pivotAggregation": null,
        "pivotColumns": null,
        "xColumns": null,
        "yColumns": null
       },
       "removedWidgets": [],
       "schema": [
        {
         "metadata": "{}",
         "name": "RowsWithAnyNulls",
         "type": "\"long\""
        }
       ],
       "type": "table"
      }
     },
     "output_type": "display_data"
    }
   ],
   "source": [
    "%sql\n",
    "SELECT COUNT(*) AS RowsWithAnyNulls\n",
    "FROM tblOneNullsRows\n",
    "WHERE Name IS NULL OR\n",
    "      department IS NULL OR\n",
    "      Customer_ID IS NULL OR\n",
    "      Change_Date IS NULL OR\n",
    "      Load_Date IS NULL OR\n",
    "      Status IS NULL OR\n",
    "      description IS NULL;"
   ]
  },
  {
   "cell_type": "markdown",
   "metadata": {
    "application/vnd.databricks.v1+cell": {
     "cellMetadata": {},
     "inputWidgets": {},
     "nuid": "3cbff774-a8aa-456d-985d-96844c58bd39",
     "showTitle": false,
     "tableResultSettingsMap": {},
     "title": ""
    }
   },
   "source": [
    "##### 2) Using CASE()"
   ]
  },
  {
   "cell_type": "code",
   "execution_count": 0,
   "metadata": {
    "application/vnd.databricks.v1+cell": {
     "cellMetadata": {
      "byteLimit": 2048000,
      "implicitDf": true,
      "rowLimit": 10000
     },
     "inputWidgets": {},
     "nuid": "7785ab95-ee9c-4718-a809-4c9a572855cc",
     "showTitle": false,
     "tableResultSettingsMap": {},
     "title": ""
    }
   },
   "outputs": [
    {
     "output_type": "display_data",
     "data": {
      "text/html": [
       "<style scoped>\n",
       "  .table-result-container {\n",
       "    max-height: 300px;\n",
       "    overflow: auto;\n",
       "  }\n",
       "  table, th, td {\n",
       "    border: 1px solid black;\n",
       "    border-collapse: collapse;\n",
       "  }\n",
       "  th, td {\n",
       "    padding: 5px;\n",
       "  }\n",
       "  th {\n",
       "    text-align: left;\n",
       "  }\n",
       "</style><div class='table-result-container'><table class='table-result'><thead style='background-color: white'><tr><th>Name</th><th>department</th><th>Customer_ID</th><th>Change_Date</th><th>Load_Date</th><th>Status</th><th>description</th><th>NullCheck</th></tr></thead><tbody><tr><td>Jagadish</td><td>HR</td><td>null</td><td>2024-01-05</td><td>2024-01-06</td><td>Active</td><td>Employee record</td><td>1</td></tr><tr><td>Ashwin</td><td>Admin</td><td>102</td><td>2024-04-05</td><td>2024-03-06</td><td>Default</td><td>Employee Obsent</td><td>0</td></tr><tr><td>Swarna</td><td>Finance</td><td>103</td><td>2024-05-05</td><td>null</td><td>Deactivate</td><td>Products</td><td>1</td></tr><tr><td>Swapna</td><td>IT</td><td>104</td><td>2024-08-10</td><td>2024-05-12</td><td>Inactive</td><td>Resigned</td><td>0</td></tr><tr><td>Praveen</td><td>Accounts</td><td>105</td><td>2024-09-05</td><td>2024-03-06</td><td>Active</td><td>Description</td><td>0</td></tr><tr><td>Bibin</td><td>Finance</td><td>105</td><td>2024-10-01</td><td>2024-09-02</td><td>Active</td><td>Salary details</td><td>0</td></tr><tr><td>Bharath</td><td>null</td><td>106</td><td>2024-12-05</td><td>2024-09-06</td><td>Default</td><td>Sales Details</td><td>1</td></tr><tr><td>Carl</td><td>Admin</td><td>104</td><td>2024-04-11</td><td>2024-04-15</td><td>Active</td><td>Shift change</td><td>0</td></tr><tr><td>Joseph</td><td>Developer</td><td>101</td><td>2024-01-05</td><td>2024-01-06</td><td>Active</td><td>Employee record</td><td>0</td></tr><tr><td>Damu</td><td>Sales</td><td>105</td><td>2024-05-18</td><td>2024-05-20</td><td>null</td><td>Transferred</td><td>1</td></tr><tr><td>Josna</td><td>Transport</td><td>101</td><td>2024-01-05</td><td>2024-01-06</td><td>Active</td><td>Unlock offers</td><td>0</td></tr><tr><td>null</td><td>Domestic</td><td>101</td><td>2024-12-05</td><td>2025-05-06</td><td>Inactive</td><td>Savings</td><td>1</td></tr></tbody></table></div>"
      ]
     },
     "metadata": {
      "application/vnd.databricks.v1+output": {
       "addedWidgets": {},
       "aggData": [],
       "aggError": "",
       "aggOverflow": false,
       "aggSchema": [],
       "aggSeriesLimitReached": false,
       "aggType": "",
       "arguments": {},
       "columnCustomDisplayInfos": {},
       "data": [
        [
         "Jagadish",
         "HR",
         null,
         "2024-01-05",
         "2024-01-06",
         "Active",
         "Employee record",
         1
        ],
        [
         "Ashwin",
         "Admin",
         102,
         "2024-04-05",
         "2024-03-06",
         "Default",
         "Employee Obsent",
         0
        ],
        [
         "Swarna",
         "Finance",
         103,
         "2024-05-05",
         null,
         "Deactivate",
         "Products",
         1
        ],
        [
         "Swapna",
         "IT",
         104,
         "2024-08-10",
         "2024-05-12",
         "Inactive",
         "Resigned",
         0
        ],
        [
         "Praveen",
         "Accounts",
         105,
         "2024-09-05",
         "2024-03-06",
         "Active",
         "Description",
         0
        ],
        [
         "Bibin",
         "Finance",
         105,
         "2024-10-01",
         "2024-09-02",
         "Active",
         "Salary details",
         0
        ],
        [
         "Bharath",
         null,
         106,
         "2024-12-05",
         "2024-09-06",
         "Default",
         "Sales Details",
         1
        ],
        [
         "Carl",
         "Admin",
         104,
         "2024-04-11",
         "2024-04-15",
         "Active",
         "Shift change",
         0
        ],
        [
         "Joseph",
         "Developer",
         101,
         "2024-01-05",
         "2024-01-06",
         "Active",
         "Employee record",
         0
        ],
        [
         "Damu",
         "Sales",
         105,
         "2024-05-18",
         "2024-05-20",
         null,
         "Transferred",
         1
        ],
        [
         "Josna",
         "Transport",
         101,
         "2024-01-05",
         "2024-01-06",
         "Active",
         "Unlock offers",
         0
        ],
        [
         null,
         "Domestic",
         101,
         "2024-12-05",
         "2025-05-06",
         "Inactive",
         "Savings",
         1
        ]
       ],
       "datasetInfos": [
        {
         "name": "_sqldf",
         "schema": {
          "fields": [
           {
            "metadata": {
             "__CHAR_VARCHAR_TYPE_STRING": "varchar(50)"
            },
            "name": "Name",
            "nullable": true,
            "type": "string"
           },
           {
            "metadata": {
             "__CHAR_VARCHAR_TYPE_STRING": "varchar(50)"
            },
            "name": "department",
            "nullable": true,
            "type": "string"
           },
           {
            "metadata": {},
            "name": "Customer_ID",
            "nullable": true,
            "type": "integer"
           },
           {
            "metadata": {},
            "name": "Change_Date",
            "nullable": true,
            "type": "date"
           },
           {
            "metadata": {},
            "name": "Load_Date",
            "nullable": true,
            "type": "date"
           },
           {
            "metadata": {
             "__CHAR_VARCHAR_TYPE_STRING": "varchar(20)"
            },
            "name": "Status",
            "nullable": true,
            "type": "string"
           },
           {
            "metadata": {
             "__CHAR_VARCHAR_TYPE_STRING": "varchar(100)"
            },
            "name": "description",
            "nullable": true,
            "type": "string"
           },
           {
            "metadata": {},
            "name": "NullCheck",
            "nullable": false,
            "type": "integer"
           }
          ],
          "type": "struct"
         },
         "tableIdentifier": null,
         "typeStr": "pyspark.sql.connect.dataframe.DataFrame"
        }
       ],
       "dbfsResultPath": null,
       "isJsonSchema": true,
       "metadata": {
        "createTempViewForImplicitDf": true,
        "dataframeName": "_sqldf",
        "executionCount": 11
       },
       "overflow": false,
       "plotOptions": {
        "customPlotOptions": {},
        "displayType": "table",
        "pivotAggregation": null,
        "pivotColumns": null,
        "xColumns": null,
        "yColumns": null
       },
       "removedWidgets": [],
       "schema": [
        {
         "metadata": "{\"__CHAR_VARCHAR_TYPE_STRING\": \"varchar(50)\"}",
         "name": "Name",
         "type": "\"string\""
        },
        {
         "metadata": "{\"__CHAR_VARCHAR_TYPE_STRING\": \"varchar(50)\"}",
         "name": "department",
         "type": "\"string\""
        },
        {
         "metadata": "{}",
         "name": "Customer_ID",
         "type": "\"integer\""
        },
        {
         "metadata": "{}",
         "name": "Change_Date",
         "type": "\"date\""
        },
        {
         "metadata": "{}",
         "name": "Load_Date",
         "type": "\"date\""
        },
        {
         "metadata": "{\"__CHAR_VARCHAR_TYPE_STRING\": \"varchar(20)\"}",
         "name": "Status",
         "type": "\"string\""
        },
        {
         "metadata": "{\"__CHAR_VARCHAR_TYPE_STRING\": \"varchar(100)\"}",
         "name": "description",
         "type": "\"string\""
        },
        {
         "metadata": "{}",
         "name": "NullCheck",
         "type": "\"integer\""
        }
       ],
       "type": "table"
      }
     },
     "output_type": "display_data"
    }
   ],
   "source": [
    "%sql\n",
    "SELECT *,\n",
    "    CASE \n",
    "        WHEN Name IS NULL \n",
    "          OR department IS NULL \n",
    "          OR Customer_ID IS NULL \n",
    "          OR Change_Date IS NULL \n",
    "          OR Load_Date IS NULL \n",
    "          OR Status IS NULL \n",
    "          OR description IS NULL\n",
    "        THEN 1 -- 'Has NULL'\n",
    "        ELSE 0 -- 'No NULL'\n",
    "    END AS NullCheck\n",
    "FROM tblOneNullsRows;"
   ]
  },
  {
   "cell_type": "markdown",
   "metadata": {
    "application/vnd.databricks.v1+cell": {
     "cellMetadata": {},
     "inputWidgets": {},
     "nuid": "620336e1-5109-4fd6-ab41-40757ffe35d3",
     "showTitle": false,
     "tableResultSettingsMap": {},
     "title": ""
    }
   },
   "source": [
    "##### 3) Using NOT EXISTS / EXCEPT"
   ]
  },
  {
   "cell_type": "code",
   "execution_count": 0,
   "metadata": {
    "application/vnd.databricks.v1+cell": {
     "cellMetadata": {
      "byteLimit": 2048000,
      "implicitDf": true,
      "rowLimit": 10000
     },
     "inputWidgets": {},
     "nuid": "818a7fc9-c5df-464d-ad60-69c6dab42bf0",
     "showTitle": false,
     "tableResultSettingsMap": {},
     "title": ""
    }
   },
   "outputs": [
    {
     "output_type": "display_data",
     "data": {
      "text/html": [
       "<style scoped>\n",
       "  .table-result-container {\n",
       "    max-height: 300px;\n",
       "    overflow: auto;\n",
       "  }\n",
       "  table, th, td {\n",
       "    border: 1px solid black;\n",
       "    border-collapse: collapse;\n",
       "  }\n",
       "  th, td {\n",
       "    padding: 5px;\n",
       "  }\n",
       "  th {\n",
       "    text-align: left;\n",
       "  }\n",
       "</style><div class='table-result-container'><table class='table-result'><thead style='background-color: white'><tr><th>Name</th><th>department</th><th>Customer_ID</th><th>Change_Date</th><th>Load_Date</th><th>Status</th><th>description</th></tr></thead><tbody><tr><td>Jagadish</td><td>HR</td><td>null</td><td>2024-01-05</td><td>2024-01-06</td><td>Active</td><td>Employee record</td></tr><tr><td>Swarna</td><td>Finance</td><td>103</td><td>2024-05-05</td><td>null</td><td>Deactivate</td><td>Products</td></tr><tr><td>Bharath</td><td>null</td><td>106</td><td>2024-12-05</td><td>2024-09-06</td><td>Default</td><td>Sales Details</td></tr><tr><td>Damu</td><td>Sales</td><td>105</td><td>2024-05-18</td><td>2024-05-20</td><td>null</td><td>Transferred</td></tr><tr><td>null</td><td>Domestic</td><td>101</td><td>2024-12-05</td><td>2025-05-06</td><td>Inactive</td><td>Savings</td></tr></tbody></table></div>"
      ]
     },
     "metadata": {
      "application/vnd.databricks.v1+output": {
       "addedWidgets": {},
       "aggData": [],
       "aggError": "",
       "aggOverflow": false,
       "aggSchema": [],
       "aggSeriesLimitReached": false,
       "aggType": "",
       "arguments": {},
       "columnCustomDisplayInfos": {},
       "data": [
        [
         "Jagadish",
         "HR",
         null,
         "2024-01-05",
         "2024-01-06",
         "Active",
         "Employee record"
        ],
        [
         "Swarna",
         "Finance",
         103,
         "2024-05-05",
         null,
         "Deactivate",
         "Products"
        ],
        [
         "Bharath",
         null,
         106,
         "2024-12-05",
         "2024-09-06",
         "Default",
         "Sales Details"
        ],
        [
         "Damu",
         "Sales",
         105,
         "2024-05-18",
         "2024-05-20",
         null,
         "Transferred"
        ],
        [
         null,
         "Domestic",
         101,
         "2024-12-05",
         "2025-05-06",
         "Inactive",
         "Savings"
        ]
       ],
       "datasetInfos": [
        {
         "name": "_sqldf",
         "schema": {
          "fields": [
           {
            "metadata": {
             "__CHAR_VARCHAR_TYPE_STRING": "varchar(50)"
            },
            "name": "Name",
            "nullable": true,
            "type": "string"
           },
           {
            "metadata": {
             "__CHAR_VARCHAR_TYPE_STRING": "varchar(50)"
            },
            "name": "department",
            "nullable": true,
            "type": "string"
           },
           {
            "metadata": {},
            "name": "Customer_ID",
            "nullable": true,
            "type": "integer"
           },
           {
            "metadata": {},
            "name": "Change_Date",
            "nullable": true,
            "type": "date"
           },
           {
            "metadata": {},
            "name": "Load_Date",
            "nullable": true,
            "type": "date"
           },
           {
            "metadata": {
             "__CHAR_VARCHAR_TYPE_STRING": "varchar(20)"
            },
            "name": "Status",
            "nullable": true,
            "type": "string"
           },
           {
            "metadata": {
             "__CHAR_VARCHAR_TYPE_STRING": "varchar(100)"
            },
            "name": "description",
            "nullable": true,
            "type": "string"
           }
          ],
          "type": "struct"
         },
         "tableIdentifier": null,
         "typeStr": "pyspark.sql.connect.dataframe.DataFrame"
        }
       ],
       "dbfsResultPath": null,
       "isJsonSchema": true,
       "metadata": {
        "createTempViewForImplicitDf": true,
        "dataframeName": "_sqldf",
        "executionCount": 17
       },
       "overflow": false,
       "plotOptions": {
        "customPlotOptions": {},
        "displayType": "table",
        "pivotAggregation": null,
        "pivotColumns": null,
        "xColumns": null,
        "yColumns": null
       },
       "removedWidgets": [],
       "schema": [
        {
         "metadata": "{\"__CHAR_VARCHAR_TYPE_STRING\": \"varchar(50)\"}",
         "name": "Name",
         "type": "\"string\""
        },
        {
         "metadata": "{\"__CHAR_VARCHAR_TYPE_STRING\": \"varchar(50)\"}",
         "name": "department",
         "type": "\"string\""
        },
        {
         "metadata": "{}",
         "name": "Customer_ID",
         "type": "\"integer\""
        },
        {
         "metadata": "{}",
         "name": "Change_Date",
         "type": "\"date\""
        },
        {
         "metadata": "{}",
         "name": "Load_Date",
         "type": "\"date\""
        },
        {
         "metadata": "{\"__CHAR_VARCHAR_TYPE_STRING\": \"varchar(20)\"}",
         "name": "Status",
         "type": "\"string\""
        },
        {
         "metadata": "{\"__CHAR_VARCHAR_TYPE_STRING\": \"varchar(100)\"}",
         "name": "description",
         "type": "\"string\""
        }
       ],
       "type": "table"
      }
     },
     "output_type": "display_data"
    }
   ],
   "source": [
    "%sql\n",
    "SELECT *\n",
    "FROM tblOneNullsRows e\n",
    "WHERE EXISTS (\n",
    "    SELECT 1 \n",
    "    WHERE e.Name IS NULL OR\n",
    "          e.department IS NULL OR\n",
    "          e.Customer_ID IS NULL OR\n",
    "          e.Change_Date IS NULL OR\n",
    "          e.Load_Date IS NULL OR\n",
    "          e.Status IS NULL OR\n",
    "          e.description IS NULL\n",
    ");"
   ]
  }
 ],
 "metadata": {
  "application/vnd.databricks.v1+notebook": {
   "computePreferences": {
    "hardware": {
     "accelerator": null,
     "gpuPoolId": null,
     "memory": null
    }
   },
   "dashboards": [],
   "environmentMetadata": {
    "base_environment": "",
    "environment_version": "2"
   },
   "inputWidgetPreferences": null,
   "language": "python",
   "notebookMetadata": {
    "mostRecentlyExecutedCommandWithImplicitDF": {
     "commandId": 8977058068381529,
     "dataframes": [
      "_sqldf"
     ]
    },
    "pythonIndentUnit": 4
   },
   "notebookName": "15_How to return rows where at least one column is NULL",
   "widgets": {}
  },
  "language_info": {
   "name": "python"
  }
 },
 "nbformat": 4,
 "nbformat_minor": 0
}