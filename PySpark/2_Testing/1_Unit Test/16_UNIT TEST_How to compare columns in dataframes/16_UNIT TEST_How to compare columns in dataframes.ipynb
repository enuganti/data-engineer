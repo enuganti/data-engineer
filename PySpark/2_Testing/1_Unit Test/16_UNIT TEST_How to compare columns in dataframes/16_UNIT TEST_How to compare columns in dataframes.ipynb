{
 "cells": [
  {
   "cell_type": "markdown",
   "metadata": {
    "application/vnd.databricks.v1+cell": {
     "cellMetadata": {},
     "inputWidgets": {},
     "nuid": "da401a8d-bb30-466d-9eff-de158f6c4496",
     "showTitle": false,
     "tableResultSettingsMap": {},
     "title": ""
    }
   },
   "source": [
    "**How to verify schema mismatches between two tables?**\n",
    "- How to find which **columns are present** in **source_tbl but missing in target_tbl**.\n",
    "- It’s useful when you’re **comparing two dataframes** (during **ETL validation or schema comparison**)."
   ]
  },
  {
   "cell_type": "markdown",
   "metadata": {
    "application/vnd.databricks.v1+cell": {
     "cellMetadata": {},
     "inputWidgets": {},
     "nuid": "526849b5-8186-411b-a3d3-0d9c3cf33a71",
     "showTitle": false,
     "tableResultSettingsMap": {},
     "title": ""
    }
   },
   "source": [
    "**Scenario:**\n",
    "- when validating **schema consistency** before loading data from one system to another:\n",
    "\n",
    "  - **Source table:** Data extracted from a production database.\n",
    "  - **Target table:** Destination schema in a data warehouse.\n",
    "\n",
    "- If your **source table** has **additional columns** like **'created_at', 'updated_at', or 'is_active'** that aren’t in the **target schema**, this code helps **identify** them quickly before you attempt to **merge or insert** data—preventing errors and ensuring data compatibility."
   ]
  },
  {
   "cell_type": "code",
   "execution_count": 0,
   "metadata": {
    "application/vnd.databricks.v1+cell": {
     "cellMetadata": {
      "byteLimit": 2048000,
      "rowLimit": 10000
     },
     "inputWidgets": {},
     "nuid": "6fefef0a-5479-452a-ba95-28ae484f1b2d",
     "showTitle": true,
     "tableResultSettingsMap": {},
     "title": "dataset 01"
    }
   },
   "outputs": [
    {
     "output_type": "display_data",
     "data": {
      "text/html": [
       "<style scoped>\n",
       "  .table-result-container {\n",
       "    max-height: 300px;\n",
       "    overflow: auto;\n",
       "  }\n",
       "  table, th, td {\n",
       "    border: 1px solid black;\n",
       "    border-collapse: collapse;\n",
       "  }\n",
       "  th, td {\n",
       "    padding: 5px;\n",
       "  }\n",
       "  th {\n",
       "    text-align: left;\n",
       "  }\n",
       "</style><div class='table-result-container'><table class='table-result'><thead style='background-color: white'><tr><th>start_date</th><th>product_url</th><th>category</th><th>default_group</th><th>source_target</th><th>cloud_flatform</th><th>session_id</th><th>session_name</th><th>status_name</th><th>status_type</th><th>sessions</th><th>product_id</th><th>load datetime</th></tr></thead><tbody><tr><td>2025-08-25</td><td>shop.sony.bpl</td><td>mobile</td><td>wifi-network</td><td>google</td><td>azure / aws / gcc</td><td>9876543</td><td>first_visit</td><td>first_visit</td><td>Not Available</td><td>5</td><td>409516064</td><td>2025-09-02T19:10:35</td></tr><tr><td>2025-08-26</td><td>shop.sony.bpl</td><td>mobile</td><td>wifi-network</td><td>google</td><td>azure / aws / gcc</td><td>9876544</td><td>purchase</td><td>organic</td><td>Not Available</td><td>12</td><td>409516064</td><td>2025-09-02T19:10:36</td></tr><tr><td>2025-08-27</td><td>shop.sony.bpl</td><td>mobile</td><td>wifi-network</td><td>google</td><td>azure / aws / gcc</td><td>9876545</td><td>search</td><td>network</td><td>Not Available</td><td>16</td><td>409516064</td><td>2025-09-02T19:10:37</td></tr><tr><td>2025-08-28</td><td>shop.sony.bpl</td><td>mobile</td><td>wifi-network</td><td>google</td><td>azure / aws / gcc</td><td>9876546</td><td>search</td><td>scroll</td><td>Not Available</td><td>22</td><td>409516064</td><td>2025-09-02T19:10:38</td></tr><tr><td>2025-08-29</td><td>shop.sony.bpl</td><td>mobile</td><td>wifi-network</td><td>google</td><td>azure / aws / gcc</td><td>9876547</td><td>search</td><td>organic</td><td>Not Available</td><td>25</td><td>409516064</td><td>2025-09-02T19:10:39</td></tr></tbody></table></div>"
      ]
     },
     "metadata": {
      "application/vnd.databricks.v1+output": {
       "addedWidgets": {},
       "aggData": [],
       "aggError": "",
       "aggOverflow": false,
       "aggSchema": [],
       "aggSeriesLimitReached": false,
       "aggType": "",
       "arguments": {},
       "columnCustomDisplayInfos": {},
       "data": [
        [
         "2025-08-25",
         "shop.sony.bpl",
         "mobile",
         "wifi-network",
         "google",
         "azure / aws / gcc",
         9876543,
         "first_visit",
         "first_visit",
         "Not Available",
         5,
         409516064,
         "2025-09-02T19:10:35"
        ],
        [
         "2025-08-26",
         "shop.sony.bpl",
         "mobile",
         "wifi-network",
         "google",
         "azure / aws / gcc",
         9876544,
         "purchase",
         "organic",
         "Not Available",
         12,
         409516064,
         "2025-09-02T19:10:36"
        ],
        [
         "2025-08-27",
         "shop.sony.bpl",
         "mobile",
         "wifi-network",
         "google",
         "azure / aws / gcc",
         9876545,
         "search",
         "network",
         "Not Available",
         16,
         409516064,
         "2025-09-02T19:10:37"
        ],
        [
         "2025-08-28",
         "shop.sony.bpl",
         "mobile",
         "wifi-network",
         "google",
         "azure / aws / gcc",
         9876546,
         "search",
         "scroll",
         "Not Available",
         22,
         409516064,
         "2025-09-02T19:10:38"
        ],
        [
         "2025-08-29",
         "shop.sony.bpl",
         "mobile",
         "wifi-network",
         "google",
         "azure / aws / gcc",
         9876547,
         "search",
         "organic",
         "Not Available",
         25,
         409516064,
         "2025-09-02T19:10:39"
        ]
       ],
       "datasetInfos": [],
       "dbfsResultPath": null,
       "isJsonSchema": true,
       "metadata": {},
       "overflow": false,
       "plotOptions": {
        "customPlotOptions": {},
        "displayType": "table",
        "pivotAggregation": null,
        "pivotColumns": null,
        "xColumns": null,
        "yColumns": null
       },
       "removedWidgets": [],
       "schema": [
        {
         "metadata": "{\"__detected_date_formats\": \"d-M-yyyy\"}",
         "name": "start_date",
         "type": "\"date\""
        },
        {
         "metadata": "{}",
         "name": "product_url",
         "type": "\"string\""
        },
        {
         "metadata": "{}",
         "name": "category",
         "type": "\"string\""
        },
        {
         "metadata": "{}",
         "name": "default_group",
         "type": "\"string\""
        },
        {
         "metadata": "{}",
         "name": "source_target",
         "type": "\"string\""
        },
        {
         "metadata": "{}",
         "name": "cloud_flatform",
         "type": "\"string\""
        },
        {
         "metadata": "{}",
         "name": "session_id",
         "type": "\"integer\""
        },
        {
         "metadata": "{}",
         "name": "session_name",
         "type": "\"string\""
        },
        {
         "metadata": "{}",
         "name": "status_name",
         "type": "\"string\""
        },
        {
         "metadata": "{}",
         "name": "status_type",
         "type": "\"string\""
        },
        {
         "metadata": "{}",
         "name": "sessions",
         "type": "\"integer\""
        },
        {
         "metadata": "{}",
         "name": "product_id",
         "type": "\"integer\""
        },
        {
         "metadata": "{}",
         "name": "load datetime",
         "type": "\"string\""
        }
       ],
       "type": "table"
      }
     },
     "output_type": "display_data"
    },
    {
     "output_type": "stream",
     "name": "stdout",
     "output_type": "stream",
     "text": [
      "Column Names:  ['start_date', 'product_url', 'category', 'default_group', 'source_target', 'cloud_flatform', 'session_id', 'session_name', 'status_name', 'status_type', 'sessions', 'product_id', 'load datetime']\nNo of Columns:  13\n"
     ]
    }
   ],
   "source": [
    "source_tbl = spark.read.csv(\"/Volumes/@azureadb/pyspark/unionby/company_level.csv\", header=True, inferSchema=True)\n",
    "display(source_tbl.limit(5))\n",
    "print(\"Column Names: \", source_tbl.columns)\n",
    "print(\"No of Columns: \", len(source_tbl.columns))"
   ]
  },
  {
   "cell_type": "code",
   "execution_count": 0,
   "metadata": {
    "application/vnd.databricks.v1+cell": {
     "cellMetadata": {
      "byteLimit": 2048000,
      "rowLimit": 10000
     },
     "inputWidgets": {},
     "nuid": "33e716ca-9307-49c0-9c99-2b5a996bfa3f",
     "showTitle": true,
     "tableResultSettingsMap": {},
     "title": "dataset 02"
    }
   },
   "outputs": [
    {
     "output_type": "display_data",
     "data": {
      "text/html": [
       "<style scoped>\n",
       "  .table-result-container {\n",
       "    max-height: 300px;\n",
       "    overflow: auto;\n",
       "  }\n",
       "  table, th, td {\n",
       "    border: 1px solid black;\n",
       "    border-collapse: collapse;\n",
       "  }\n",
       "  th, td {\n",
       "    padding: 5px;\n",
       "  }\n",
       "  th {\n",
       "    text-align: left;\n",
       "  }\n",
       "</style><div class='table-result-container'><table class='table-result'><thead style='background-color: white'><tr><th>start_date</th><th>product_url</th><th>category</th><th>default_group</th><th>source_target</th><th>cloud_flatform</th><th>status_name</th><th>status_type</th><th>sessions</th><th>product_id</th><th>load datetime</th></tr></thead><tbody><tr><td>2025-08-25</td><td>shop.sony.bpl</td><td>mobile</td><td>wifi-network</td><td>google</td><td>azure / aws / gcc</td><td>first_visit</td><td>Not Available</td><td>55</td><td>409516064</td><td>2025-09-02T19:10:35</td></tr><tr><td>2025-08-26</td><td>shop.sony.bpl</td><td>mobile</td><td>wifi-network</td><td>google</td><td>azure / aws / gcc</td><td>organic</td><td>Not Available</td><td>12</td><td>409516064</td><td>2025-09-02T19:10:36</td></tr><tr><td>2025-08-27</td><td>shop.sony.bpl</td><td>mobile</td><td>wifi-network</td><td>google</td><td>azure / aws / gcc</td><td>network</td><td>Not Available</td><td>16</td><td>409516064</td><td>2025-09-02T19:10:37</td></tr><tr><td>2025-08-28</td><td>shop.sony.bpl</td><td>mobile</td><td>wifi-network</td><td>google</td><td>azure / aws / gcc</td><td>scroll</td><td>Not Available</td><td>22</td><td>409516064</td><td>2025-09-02T19:10:38</td></tr><tr><td>2025-08-29</td><td>shop.sony.bpl</td><td>mobile</td><td>wifi-network</td><td>google</td><td>azure / aws / gcc</td><td>organic</td><td>Not Available</td><td>25</td><td>409516064</td><td>2025-09-02T19:10:39</td></tr></tbody></table></div>"
      ]
     },
     "metadata": {
      "application/vnd.databricks.v1+output": {
       "addedWidgets": {},
       "aggData": [],
       "aggError": "",
       "aggOverflow": false,
       "aggSchema": [],
       "aggSeriesLimitReached": false,
       "aggType": "",
       "arguments": {},
       "columnCustomDisplayInfos": {},
       "data": [
        [
         "2025-08-25",
         "shop.sony.bpl",
         "mobile",
         "wifi-network",
         "google",
         "azure / aws / gcc",
         "first_visit",
         "Not Available",
         55,
         409516064,
         "2025-09-02T19:10:35"
        ],
        [
         "2025-08-26",
         "shop.sony.bpl",
         "mobile",
         "wifi-network",
         "google",
         "azure / aws / gcc",
         "organic",
         "Not Available",
         12,
         409516064,
         "2025-09-02T19:10:36"
        ],
        [
         "2025-08-27",
         "shop.sony.bpl",
         "mobile",
         "wifi-network",
         "google",
         "azure / aws / gcc",
         "network",
         "Not Available",
         16,
         409516064,
         "2025-09-02T19:10:37"
        ],
        [
         "2025-08-28",
         "shop.sony.bpl",
         "mobile",
         "wifi-network",
         "google",
         "azure / aws / gcc",
         "scroll",
         "Not Available",
         22,
         409516064,
         "2025-09-02T19:10:38"
        ],
        [
         "2025-08-29",
         "shop.sony.bpl",
         "mobile",
         "wifi-network",
         "google",
         "azure / aws / gcc",
         "organic",
         "Not Available",
         25,
         409516064,
         "2025-09-02T19:10:39"
        ]
       ],
       "datasetInfos": [],
       "dbfsResultPath": null,
       "isJsonSchema": true,
       "metadata": {},
       "overflow": false,
       "plotOptions": {
        "customPlotOptions": {},
        "displayType": "table",
        "pivotAggregation": null,
        "pivotColumns": null,
        "xColumns": null,
        "yColumns": null
       },
       "removedWidgets": [],
       "schema": [
        {
         "metadata": "{\"__detected_date_formats\": \"d-M-yyyy\"}",
         "name": "start_date",
         "type": "\"date\""
        },
        {
         "metadata": "{}",
         "name": "product_url",
         "type": "\"string\""
        },
        {
         "metadata": "{}",
         "name": "category",
         "type": "\"string\""
        },
        {
         "metadata": "{}",
         "name": "default_group",
         "type": "\"string\""
        },
        {
         "metadata": "{}",
         "name": "source_target",
         "type": "\"string\""
        },
        {
         "metadata": "{}",
         "name": "cloud_flatform",
         "type": "\"string\""
        },
        {
         "metadata": "{}",
         "name": "status_name",
         "type": "\"string\""
        },
        {
         "metadata": "{}",
         "name": "status_type",
         "type": "\"string\""
        },
        {
         "metadata": "{}",
         "name": "sessions",
         "type": "\"integer\""
        },
        {
         "metadata": "{}",
         "name": "product_id",
         "type": "\"integer\""
        },
        {
         "metadata": "{}",
         "name": "load datetime",
         "type": "\"string\""
        }
       ],
       "type": "table"
      }
     },
     "output_type": "display_data"
    },
    {
     "output_type": "stream",
     "name": "stdout",
     "output_type": "stream",
     "text": [
      "Column Names:  ['start_date', 'product_url', 'category', 'default_group', 'source_target', 'cloud_flatform', 'status_name', 'status_type', 'sessions', 'product_id', 'load datetime']\nNo of Columns:  11\n"
     ]
    }
   ],
   "source": [
    "target_tbl = spark.read.csv(\"/Volumes/@azureadb/pyspark/unionby/device_level.csv\", header=True, inferSchema=True)\n",
    "display(target_tbl.limit(5))\n",
    "print(\"Column Names: \", target_tbl.columns)\n",
    "print(\"No of Columns: \", len(target_tbl.columns))"
   ]
  },
  {
   "cell_type": "markdown",
   "metadata": {
    "application/vnd.databricks.v1+cell": {
     "cellMetadata": {},
     "inputWidgets": {},
     "nuid": "9f34bc58-3c20-4b7b-8bcc-399229b584f6",
     "showTitle": false,
     "tableResultSettingsMap": {},
     "title": ""
    }
   },
   "source": [
    "**1) Source Has Extra Columns**"
   ]
  },
  {
   "cell_type": "markdown",
   "metadata": {
    "application/vnd.databricks.v1+cell": {
     "cellMetadata": {},
     "inputWidgets": {},
     "nuid": "cd18ecbb-4fb5-4884-91e5-5aa85b574023",
     "showTitle": false,
     "tableResultSettingsMap": {},
     "title": ""
    }
   },
   "source": [
    "     source_tbl.columns = ['id', 'name', 'age', 'city']\n",
    "     target_tbl.columns = ['id', 'name']\n",
    "     \n",
    "     Output:\n",
    "     Missing columns in Target: {'age', 'city'}"
   ]
  },
  {
   "cell_type": "markdown",
   "metadata": {
    "application/vnd.databricks.v1+cell": {
     "cellMetadata": {},
     "inputWidgets": {},
     "nuid": "88a8d704-ef3a-4e61-909b-796158569745",
     "showTitle": false,
     "tableResultSettingsMap": {},
     "title": ""
    }
   },
   "source": [
    "| source_tbl_columns | target_tbl_columns |\n",
    "|--------------------|--------------------|\n",
    "|  start_date        |   start_date       |\n",
    "|  product_url       |   product_url      |\n",
    "|  category          |   category         | \n",
    "|  default_group     |   default_group    |\n",
    "|  source_target     |   source_target    |\n",
    "|  cloud_flatform    |   cloud_flatform   |\n",
    "|  session_id        |                    |\n",
    "|  session_name      |                    |\n",
    "|  status_name       |   status_name      |\n",
    "|  status_type       |   status_type      |\n",
    "|  sessions          |   sessions         |\n",
    "|  product_id        |   product_id       |\n",
    "|  load datetime     |   load datetime    |"
   ]
  },
  {
   "cell_type": "code",
   "execution_count": 0,
   "metadata": {
    "application/vnd.databricks.v1+cell": {
     "cellMetadata": {
      "byteLimit": 2048000,
      "rowLimit": 10000
     },
     "inputWidgets": {},
     "nuid": "6763b36b-7a32-4928-a5f0-ca47eb128b5d",
     "showTitle": false,
     "tableResultSettingsMap": {},
     "title": ""
    }
   },
   "outputs": [
    {
     "output_type": "stream",
     "name": "stdout",
     "output_type": "stream",
     "text": [
      "Missing columns in Target: {'session_name', 'session_id'}\n"
     ]
    }
   ],
   "source": [
    "missing_cols_in_target = set(source_tbl.columns) - set(target_tbl.columns)\n",
    "print(f\"Missing columns in Target: {missing_cols_in_target}\") "
   ]
  },
  {
   "cell_type": "markdown",
   "metadata": {
    "application/vnd.databricks.v1+cell": {
     "cellMetadata": {},
     "inputWidgets": {},
     "nuid": "077dd803-8d63-462b-89c6-b75f01aa1622",
     "showTitle": false,
     "tableResultSettingsMap": {},
     "title": ""
    }
   },
   "source": [
    "- **session_name, session_id** are present in **source_tbl** but **not in target_tbl**."
   ]
  },
  {
   "cell_type": "code",
   "execution_count": 0,
   "metadata": {
    "application/vnd.databricks.v1+cell": {
     "cellMetadata": {
      "byteLimit": 2048000,
      "rowLimit": 10000
     },
     "inputWidgets": {},
     "nuid": "60166c16-61b2-45ba-bd32-186f0e6df6e5",
     "showTitle": false,
     "tableResultSettingsMap": {},
     "title": ""
    }
   },
   "outputs": [
    {
     "output_type": "stream",
     "name": "stdout",
     "output_type": "stream",
     "text": [
      "Missing columns in Source: set()\n"
     ]
    }
   ],
   "source": [
    "missing_cols_in_source = set(target_tbl.columns) - set(source_tbl.columns)\n",
    "print(f\"Missing columns in Source: {missing_cols_in_source}\") "
   ]
  },
  {
   "cell_type": "markdown",
   "metadata": {
    "application/vnd.databricks.v1+cell": {
     "cellMetadata": {},
     "inputWidgets": {},
     "nuid": "bad69d3d-0f0b-43bf-adc7-319dc63c128a",
     "showTitle": false,
     "tableResultSettingsMap": {},
     "title": ""
    }
   },
   "source": [
    "%md\n",
    "| target_tbl_columns | source_tbl_columns |\n",
    "|--------------------|--------------------|\n",
    "|  start_date        |   start_date       |\n",
    "|  product_url       |   product_url      |\n",
    "|  category          |   category         | \n",
    "|  default_group     |   default_group    |\n",
    "|  source_target     |   source_target    |\n",
    "|  cloud_flatform    |   cloud_flatform   |\n",
    "|                    |   session_id       |\n",
    "|                    |   session_name     |\n",
    "|  status_name       |   status_name      |\n",
    "|  status_type       |   status_type      |\n",
    "|  sessions          |   sessions         |\n",
    "|  product_id        |   product_id       |\n",
    "|  load datetime     |   load datetime    |"
   ]
  },
  {
   "cell_type": "code",
   "execution_count": 0,
   "metadata": {
    "application/vnd.databricks.v1+cell": {
     "cellMetadata": {
      "byteLimit": 2048000,
      "rowLimit": 10000
     },
     "inputWidgets": {},
     "nuid": "c10e093f-1945-4392-9213-7970c42fcea8",
     "showTitle": false,
     "tableResultSettingsMap": {},
     "title": ""
    }
   },
   "outputs": [],
   "source": [
    "def findMissingColumns(source_tbl, target_tbl):\n",
    "    missing_cols = set(source_tbl.columns) - set(target_tbl.columns)\n",
    "    return missing_cols"
   ]
  },
  {
   "cell_type": "code",
   "execution_count": 0,
   "metadata": {
    "application/vnd.databricks.v1+cell": {
     "cellMetadata": {
      "byteLimit": 2048000,
      "rowLimit": 10000
     },
     "inputWidgets": {},
     "nuid": "8833f67a-6eb6-407c-9bc6-48f58ca34f20",
     "showTitle": false,
     "tableResultSettingsMap": {},
     "title": ""
    }
   },
   "outputs": [
    {
     "output_type": "execute_result",
     "data": {
      "text/plain": [
       "{'session_id', 'session_name'}"
      ]
     },
     "execution_count": 24,
     "metadata": {},
     "output_type": "execute_result"
    }
   ],
   "source": [
    "findMissingColumns(source_tbl, target_tbl)"
   ]
  },
  {
   "cell_type": "code",
   "execution_count": 0,
   "metadata": {
    "application/vnd.databricks.v1+cell": {
     "cellMetadata": {
      "byteLimit": 2048000,
      "rowLimit": 10000
     },
     "inputWidgets": {},
     "nuid": "833b5f1d-e125-4833-b971-0514abecc33a",
     "showTitle": false,
     "tableResultSettingsMap": {},
     "title": ""
    }
   },
   "outputs": [
    {
     "output_type": "execute_result",
     "data": {
      "text/plain": [
       "set()"
      ]
     },
     "execution_count": 25,
     "metadata": {},
     "output_type": "execute_result"
    }
   ],
   "source": [
    "findMissingColumns(target_tbl, source_tbl)"
   ]
  },
  {
   "cell_type": "markdown",
   "metadata": {
    "application/vnd.databricks.v1+cell": {
     "cellMetadata": {},
     "inputWidgets": {},
     "nuid": "7e30b14c-3cd0-471c-8d81-9147802425fa",
     "showTitle": false,
     "tableResultSettingsMap": {},
     "title": ""
    }
   },
   "source": [
    "**2) Target Has Extra Columns**"
   ]
  },
  {
   "cell_type": "markdown",
   "metadata": {
    "application/vnd.databricks.v1+cell": {
     "cellMetadata": {},
     "inputWidgets": {},
     "nuid": "c0a4059c-909b-48af-83e6-d352c0eaca2d",
     "showTitle": false,
     "tableResultSettingsMap": {},
     "title": ""
    }
   },
   "source": [
    "     source_tbl.columns = [\"x\", \"y\"]\n",
    "     target_tbl.columns = [\"x\", \"y\", \"z\"]\n",
    "\n",
    "     missing_cols_in_target = set(source_tbl.columns) - set(target_tbl.columns)\n",
    "     print(f\"Missing columns in Target: {missing_cols_in_target}\")\n",
    "\n",
    "     Missing columns in Target: set()\n",
    "\n",
    "- This code finds which **columns are present** in **source_tbl but missing in target_tbl**.\n",
    "\n",
    "- Even though **target** has an **extra column 'z'**, this code only checks for **columns missing in the target**, so it **ignores extra ones**.\n"
   ]
  },
  {
   "cell_type": "markdown",
   "metadata": {
    "application/vnd.databricks.v1+cell": {
     "cellMetadata": {},
     "inputWidgets": {},
     "nuid": "9c5b7ced-5042-41af-b7da-198c7fc17492",
     "showTitle": false,
     "tableResultSettingsMap": {},
     "title": ""
    }
   },
   "source": [
    "**3) No Missing Columns**"
   ]
  },
  {
   "cell_type": "markdown",
   "metadata": {
    "application/vnd.databricks.v1+cell": {
     "cellMetadata": {},
     "inputWidgets": {},
     "nuid": "98ce3f94-c8e4-430d-ae4b-0ba13f5f169b",
     "showTitle": false,
     "tableResultSettingsMap": {},
     "title": ""
    }
   },
   "source": [
    "     source_tbl.columns = [\"a\", \"b\", \"c\"]\n",
    "     target_tbl.columns = [\"a\", \"b\", \"c\"]\n",
    "\n",
    "     missing_cols_in_target = set(source_tbl.columns) - set(target_tbl.columns)\n",
    "     print(f\"Missing columns in Target: {missing_cols_in_target}\")\n",
    "\n",
    "     Missing columns in Target: set()\n",
    "\n",
    "**Both have the same columns, so the result is an empty set.**\n"
   ]
  }
 ],
 "metadata": {
  "application/vnd.databricks.v1+notebook": {
   "computePreferences": {
    "hardware": {
     "accelerator": null,
     "gpuPoolId": null,
     "memory": null
    }
   },
   "dashboards": [],
   "environmentMetadata": null,
   "inputWidgetPreferences": null,
   "language": "python",
   "notebookMetadata": {
    "pythonIndentUnit": 4
   },
   "notebookName": "16_UNIT TEST_How to compare columns in dataframes",
   "widgets": {}
  },
  "language_info": {
   "name": "python"
  }
 },
 "nbformat": 4,
 "nbformat_minor": 0
}