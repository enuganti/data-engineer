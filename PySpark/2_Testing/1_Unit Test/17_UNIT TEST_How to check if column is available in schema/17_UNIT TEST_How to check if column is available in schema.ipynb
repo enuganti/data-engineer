{
 "cells": [
  {
   "cell_type": "markdown",
   "metadata": {
    "application/vnd.databricks.v1+cell": {
     "cellMetadata": {},
     "inputWidgets": {},
     "nuid": "4667ab08-3782-4ca2-9669-0e26d54d368d",
     "showTitle": false,
     "tableResultSettingsMap": {},
     "title": ""
    }
   },
   "source": [
    "#### UNIT TEST\n",
    "- **How to check if column is available in schema or not?**"
   ]
  },
  {
   "cell_type": "code",
   "execution_count": 0,
   "metadata": {
    "application/vnd.databricks.v1+cell": {
     "cellMetadata": {
      "byteLimit": 2048000,
      "rowLimit": 10000
     },
     "inputWidgets": {},
     "nuid": "5d8e190b-c36c-4008-bb2d-a551e3f488fa",
     "showTitle": false,
     "tableResultSettingsMap": {},
     "title": ""
    }
   },
   "outputs": [
    {
     "output_type": "display_data",
     "data": {
      "text/html": [
       "<style scoped>\n",
       "  .table-result-container {\n",
       "    max-height: 300px;\n",
       "    overflow: auto;\n",
       "  }\n",
       "  table, th, td {\n",
       "    border: 1px solid black;\n",
       "    border-collapse: collapse;\n",
       "  }\n",
       "  th, td {\n",
       "    padding: 5px;\n",
       "  }\n",
       "  th {\n",
       "    text-align: left;\n",
       "  }\n",
       "</style><div class='table-result-container'><table class='table-result'><thead style='background-color: white'><tr><th>start_date</th><th>product_url</th><th>category</th><th>default_group</th><th>source_target</th><th>cloud_flatform</th><th>session_id</th><th>session_name</th><th>status_name</th><th>status_type</th><th>sessions</th><th>product_id</th><th>load datetime</th></tr></thead><tbody><tr><td>2025-08-25</td><td>shop.sony.bpl</td><td>mobile</td><td>wifi-network</td><td>google</td><td>azure / aws / gcc</td><td>9876543</td><td>first_visit</td><td>first_visit</td><td>Not Available</td><td>5</td><td>409516064</td><td>2025-09-02T19:10:35</td></tr><tr><td>2025-08-26</td><td>shop.sony.bpl</td><td>mobile</td><td>wifi-network</td><td>google</td><td>azure / aws / gcc</td><td>9876544</td><td>purchase</td><td>organic</td><td>Not Available</td><td>12</td><td>409516064</td><td>2025-09-02T19:10:36</td></tr><tr><td>2025-08-27</td><td>shop.sony.bpl</td><td>mobile</td><td>wifi-network</td><td>google</td><td>azure / aws / gcc</td><td>9876545</td><td>search</td><td>network</td><td>Not Available</td><td>16</td><td>409516064</td><td>2025-09-02T19:10:37</td></tr><tr><td>2025-08-28</td><td>shop.sony.bpl</td><td>mobile</td><td>wifi-network</td><td>google</td><td>azure / aws / gcc</td><td>9876546</td><td>search</td><td>scroll</td><td>Not Available</td><td>22</td><td>409516064</td><td>2025-09-02T19:10:38</td></tr><tr><td>2025-08-29</td><td>shop.sony.bpl</td><td>mobile</td><td>wifi-network</td><td>google</td><td>azure / aws / gcc</td><td>9876547</td><td>search</td><td>organic</td><td>Not Available</td><td>25</td><td>409516064</td><td>2025-09-02T19:10:39</td></tr></tbody></table></div>"
      ]
     },
     "metadata": {
      "application/vnd.databricks.v1+output": {
       "addedWidgets": {},
       "aggData": [],
       "aggError": "",
       "aggOverflow": false,
       "aggSchema": [],
       "aggSeriesLimitReached": false,
       "aggType": "",
       "arguments": {},
       "columnCustomDisplayInfos": {},
       "data": [
        [
         "2025-08-25",
         "shop.sony.bpl",
         "mobile",
         "wifi-network",
         "google",
         "azure / aws / gcc",
         9876543,
         "first_visit",
         "first_visit",
         "Not Available",
         5,
         409516064,
         "2025-09-02T19:10:35"
        ],
        [
         "2025-08-26",
         "shop.sony.bpl",
         "mobile",
         "wifi-network",
         "google",
         "azure / aws / gcc",
         9876544,
         "purchase",
         "organic",
         "Not Available",
         12,
         409516064,
         "2025-09-02T19:10:36"
        ],
        [
         "2025-08-27",
         "shop.sony.bpl",
         "mobile",
         "wifi-network",
         "google",
         "azure / aws / gcc",
         9876545,
         "search",
         "network",
         "Not Available",
         16,
         409516064,
         "2025-09-02T19:10:37"
        ],
        [
         "2025-08-28",
         "shop.sony.bpl",
         "mobile",
         "wifi-network",
         "google",
         "azure / aws / gcc",
         9876546,
         "search",
         "scroll",
         "Not Available",
         22,
         409516064,
         "2025-09-02T19:10:38"
        ],
        [
         "2025-08-29",
         "shop.sony.bpl",
         "mobile",
         "wifi-network",
         "google",
         "azure / aws / gcc",
         9876547,
         "search",
         "organic",
         "Not Available",
         25,
         409516064,
         "2025-09-02T19:10:39"
        ]
       ],
       "datasetInfos": [],
       "dbfsResultPath": null,
       "isJsonSchema": true,
       "metadata": {},
       "overflow": false,
       "plotOptions": {
        "customPlotOptions": {},
        "displayType": "table",
        "pivotAggregation": null,
        "pivotColumns": null,
        "xColumns": null,
        "yColumns": null
       },
       "removedWidgets": [],
       "schema": [
        {
         "metadata": "{\"__detected_date_formats\": \"d-M-yyyy\"}",
         "name": "start_date",
         "type": "\"date\""
        },
        {
         "metadata": "{}",
         "name": "product_url",
         "type": "\"string\""
        },
        {
         "metadata": "{}",
         "name": "category",
         "type": "\"string\""
        },
        {
         "metadata": "{}",
         "name": "default_group",
         "type": "\"string\""
        },
        {
         "metadata": "{}",
         "name": "source_target",
         "type": "\"string\""
        },
        {
         "metadata": "{}",
         "name": "cloud_flatform",
         "type": "\"string\""
        },
        {
         "metadata": "{}",
         "name": "session_id",
         "type": "\"integer\""
        },
        {
         "metadata": "{}",
         "name": "session_name",
         "type": "\"string\""
        },
        {
         "metadata": "{}",
         "name": "status_name",
         "type": "\"string\""
        },
        {
         "metadata": "{}",
         "name": "status_type",
         "type": "\"string\""
        },
        {
         "metadata": "{}",
         "name": "sessions",
         "type": "\"integer\""
        },
        {
         "metadata": "{}",
         "name": "product_id",
         "type": "\"integer\""
        },
        {
         "metadata": "{}",
         "name": "load datetime",
         "type": "\"string\""
        }
       ],
       "type": "table"
      }
     },
     "output_type": "display_data"
    },
    {
     "output_type": "stream",
     "name": "stdout",
     "output_type": "stream",
     "text": [
      "List of Columns in df:  ['start_date', 'product_url', 'category', 'default_group', 'source_target', 'cloud_flatform', 'session_id', 'session_name', 'status_name', 'status_type', 'sessions', 'product_id', 'load datetime']\n"
     ]
    }
   ],
   "source": [
    "df = spark.read.csv(\"/Volumes/@azureadb/pyspark/unionby/company_level.csv\", header=True, inferSchema=True)\n",
    "display(df.limit(5))\n",
    "print(\"List of Columns in df: \", df.columns)"
   ]
  },
  {
   "cell_type": "markdown",
   "metadata": {
    "application/vnd.databricks.v1+cell": {
     "cellMetadata": {},
     "inputWidgets": {},
     "nuid": "d6c29fb1-4284-4ec2-aef8-461a2d78b642",
     "showTitle": false,
     "tableResultSettingsMap": {},
     "title": ""
    }
   },
   "source": [
    "**1) Check if a single column exists using in Operator?**"
   ]
  },
  {
   "cell_type": "code",
   "execution_count": 0,
   "metadata": {
    "application/vnd.databricks.v1+cell": {
     "cellMetadata": {
      "byteLimit": 2048000,
      "rowLimit": 10000
     },
     "inputWidgets": {},
     "nuid": "07e1e86d-f607-4ff5-a9bc-fc175ba8a7df",
     "showTitle": false,
     "tableResultSettingsMap": {},
     "title": ""
    }
   },
   "outputs": [
    {
     "output_type": "display_data",
     "data": {
      "text/plain": [
       "True"
      ]
     },
     "metadata": {},
     "output_type": "display_data"
    }
   ],
   "source": [
    "display('cloud_flatform' in df.columns)"
   ]
  },
  {
   "cell_type": "code",
   "execution_count": 0,
   "metadata": {
    "application/vnd.databricks.v1+cell": {
     "cellMetadata": {
      "byteLimit": 2048000,
      "rowLimit": 10000
     },
     "inputWidgets": {},
     "nuid": "53315bb2-decc-4b61-b575-ae052790ca3a",
     "showTitle": false,
     "tableResultSettingsMap": {},
     "title": ""
    }
   },
   "outputs": [
    {
     "output_type": "display_data",
     "data": {
      "text/plain": [
       "False"
      ]
     },
     "metadata": {},
     "output_type": "display_data"
    }
   ],
   "source": [
    "display('region' in df.columns)"
   ]
  },
  {
   "cell_type": "code",
   "execution_count": 0,
   "metadata": {
    "application/vnd.databricks.v1+cell": {
     "cellMetadata": {
      "byteLimit": 2048000,
      "rowLimit": 10000
     },
     "inputWidgets": {},
     "nuid": "7ebf1fcc-84c3-4a50-9f55-5954dc181a2e",
     "showTitle": false,
     "tableResultSettingsMap": {},
     "title": ""
    }
   },
   "outputs": [
    {
     "output_type": "display_data",
     "data": {
      "text/plain": [
       "False"
      ]
     },
     "metadata": {},
     "output_type": "display_data"
    }
   ],
   "source": [
    "display('country' in df.columns)"
   ]
  },
  {
   "cell_type": "code",
   "execution_count": 0,
   "metadata": {
    "application/vnd.databricks.v1+cell": {
     "cellMetadata": {
      "byteLimit": 2048000,
      "rowLimit": 10000
     },
     "inputWidgets": {},
     "nuid": "11c00655-11f0-45bb-a798-ba4201b0adb4",
     "showTitle": false,
     "tableResultSettingsMap": {},
     "title": ""
    }
   },
   "outputs": [
    {
     "output_type": "display_data",
     "data": {
      "text/plain": [
       "False"
      ]
     },
     "metadata": {},
     "output_type": "display_data"
    }
   ],
   "source": [
    "display('sales_organisation_id' in df.columns)"
   ]
  },
  {
   "cell_type": "code",
   "execution_count": 0,
   "metadata": {
    "application/vnd.databricks.v1+cell": {
     "cellMetadata": {
      "byteLimit": 2048000,
      "rowLimit": 10000
     },
     "inputWidgets": {},
     "nuid": "305b1731-84a2-4b8e-9f8f-f36018d5a906",
     "showTitle": false,
     "tableResultSettingsMap": {},
     "title": ""
    }
   },
   "outputs": [
    {
     "output_type": "stream",
     "name": "stdout",
     "output_type": "stream",
     "text": [
      "\nColumn 'source_target' is available in df\n"
     ]
    }
   ],
   "source": [
    "if \"source_target\" in df.columns:\n",
    "    print(\"\\nColumn 'source_target' is available in df\")\n",
    "else:\n",
    "    print(\"\\nColumn 'source_target' is not available in df\")"
   ]
  },
  {
   "cell_type": "code",
   "execution_count": 0,
   "metadata": {
    "application/vnd.databricks.v1+cell": {
     "cellMetadata": {
      "byteLimit": 2048000,
      "rowLimit": 10000
     },
     "inputWidgets": {},
     "nuid": "5d10e91f-42e3-476e-8843-2c8f45c29a06",
     "showTitle": false,
     "tableResultSettingsMap": {},
     "title": ""
    }
   },
   "outputs": [
    {
     "output_type": "stream",
     "name": "stdout",
     "output_type": "stream",
     "text": [
      "\nColumn 'sales_id' is not available in df\n"
     ]
    }
   ],
   "source": [
    "if \"sales_id\" in df.columns:\n",
    "    print(\"\\nColumn 'sales_id' is available in df\")\n",
    "else:\n",
    "    print(\"\\nColumn 'sales_id' is not available in df\")"
   ]
  },
  {
   "cell_type": "markdown",
   "metadata": {
    "application/vnd.databricks.v1+cell": {
     "cellMetadata": {},
     "inputWidgets": {},
     "nuid": "b53b3405-f043-4bf4-8eef-5f3a8759e033",
     "showTitle": false,
     "tableResultSettingsMap": {},
     "title": ""
    }
   },
   "source": [
    "- The simplest method is using the **in** operator on **df.columns**.\n",
    "- **df.columns** returns a **list of column** names (e.g. **['region', 'country', 'sales_organisation_id']**)\n",
    "- The **in** operator checks if your **column name** is in that **list**."
   ]
  },
  {
   "cell_type": "markdown",
   "metadata": {
    "application/vnd.databricks.v1+cell": {
     "cellMetadata": {},
     "inputWidgets": {},
     "nuid": "d8abcb90-afa2-414e-89fe-32c30cf504cf",
     "showTitle": false,
     "tableResultSettingsMap": {},
     "title": ""
    }
   },
   "source": [
    "**2) Check if multiple columns exist**"
   ]
  },
  {
   "cell_type": "code",
   "execution_count": 0,
   "metadata": {
    "application/vnd.databricks.v1+cell": {
     "cellMetadata": {
      "byteLimit": 2048000,
      "rowLimit": 10000
     },
     "inputWidgets": {},
     "nuid": "4fa4a412-3409-4c20-ba14-ffdaa5d36cd0",
     "showTitle": false,
     "tableResultSettingsMap": {},
     "title": ""
    }
   },
   "outputs": [
    {
     "output_type": "display_data",
     "data": {
      "text/plain": [
       "False"
      ]
     },
     "metadata": {},
     "output_type": "display_data"
    }
   ],
   "source": [
    "required_cols = [\"region\", \"country\", \"sales_organisation_id\"]\n",
    "\n",
    "columns_exist = all(col in df.columns for col in required_cols)\n",
    "display(columns_exist)"
   ]
  },
  {
   "cell_type": "markdown",
   "metadata": {
    "application/vnd.databricks.v1+cell": {
     "cellMetadata": {},
     "inputWidgets": {},
     "nuid": "e1660a85-ae31-4ef7-93ac-6dd25af98a02",
     "showTitle": false,
     "tableResultSettingsMap": {},
     "title": ""
    }
   },
   "source": [
    "- **col in df.columns** → returns **True** if that column **exists**, otherwise **False**.\n",
    "- **all()** → returns **True** only **if all the conditions** inside are **True**.\n",
    "- ✅ **columns_exist = True** → if **all required columns exist** in the DataFrame.\n",
    "- ❌ **columns_exist = False** → if **any one** of them is **missing**."
   ]
  },
  {
   "cell_type": "code",
   "execution_count": 0,
   "metadata": {
    "application/vnd.databricks.v1+cell": {
     "cellMetadata": {
      "byteLimit": 2048000,
      "rowLimit": 10000
     },
     "inputWidgets": {},
     "nuid": "7ce14c16-fc6f-4185-b452-085e3c06d8de",
     "showTitle": false,
     "tableResultSettingsMap": {},
     "title": ""
    }
   },
   "outputs": [
    {
     "output_type": "stream",
     "name": "stdout",
     "output_type": "stream",
     "text": [
      "All required columns exist in DataFrame\n"
     ]
    }
   ],
   "source": [
    "required_cols = [\"product_url\", \"product_id\", \"session_name\"]\n",
    "\n",
    "if all(col in df.columns for col in required_cols):\n",
    "    print(\"All required columns exist in DataFrame\")\n",
    "else:\n",
    "    missing = [col for col in required_cols if col not in df.columns]\n",
    "    print(f\"Missing columns: {missing}\")"
   ]
  },
  {
   "cell_type": "code",
   "execution_count": 0,
   "metadata": {
    "application/vnd.databricks.v1+cell": {
     "cellMetadata": {
      "byteLimit": 2048000,
      "rowLimit": 10000
     },
     "inputWidgets": {},
     "nuid": "a0888cd9-5643-48ad-8124-2e32e37fa711",
     "showTitle": false,
     "tableResultSettingsMap": {},
     "title": ""
    }
   },
   "outputs": [
    {
     "output_type": "stream",
     "name": "stdout",
     "output_type": "stream",
     "text": [
      "Missing columns: ['region', 'country', 'sales_organisation_id']\n"
     ]
    }
   ],
   "source": [
    "required_cols = [\"region\", \"country\", \"sales_organisation_id\"]\n",
    "\n",
    "if all(col in df.columns for col in required_cols):\n",
    "    print(\"All required columns exist in DataFrame\")\n",
    "else:\n",
    "    missing = [col for col in required_cols if col not in df.columns]\n",
    "    print(f\"Missing columns: {missing}\")"
   ]
  },
  {
   "cell_type": "code",
   "execution_count": 0,
   "metadata": {
    "application/vnd.databricks.v1+cell": {
     "cellMetadata": {
      "byteLimit": 2048000,
      "rowLimit": 10000
     },
     "inputWidgets": {},
     "nuid": "dacbdf02-fcb2-4410-9be5-42e53270340e",
     "showTitle": false,
     "tableResultSettingsMap": {},
     "title": ""
    }
   },
   "outputs": [
    {
     "output_type": "stream",
     "name": "stdout",
     "output_type": "stream",
     "text": [
      "Missing columns: ['region', 'country']\n"
     ]
    }
   ],
   "source": [
    "required_cols = [\"region\", \"country\", \"session_name\"]\n",
    "\n",
    "if all(col in df.columns for col in required_cols):\n",
    "    print(\"All required columns exist in DataFrame\")\n",
    "else:\n",
    "    missing = [col for col in required_cols if col not in df.columns]\n",
    "    print(f\"Missing columns: {missing}\")"
   ]
  },
  {
   "cell_type": "markdown",
   "metadata": {
    "application/vnd.databricks.v1+cell": {
     "cellMetadata": {},
     "inputWidgets": {},
     "nuid": "42e9c29c-87ae-4db7-bbf6-79f511f68b1f",
     "showTitle": false,
     "tableResultSettingsMap": {},
     "title": ""
    }
   },
   "source": [
    "     if all(col in df.columns for col in required_cols):\n",
    "- **df.columns** returns a **list of all column names** in the PySpark DataFrame df.\n",
    "\n",
    "      Example: [\"region\", \"country\", \"sales_organisation_id\", \"sales_amount\"]\n",
    "\n",
    "- **col in df.columns** checks whether **each column name** from **required_cols** is present in that **list**.\n",
    "- The **all()** function returns:\n",
    "  - **True:** if every required **column** is **present**.\n",
    "  - **False:** if any **column** is **missing**."
   ]
  },
  {
   "cell_type": "markdown",
   "metadata": {
    "application/vnd.databricks.v1+cell": {
     "cellMetadata": {},
     "inputWidgets": {},
     "nuid": "192e2cff-ceb9-421f-ba5b-14bf2f3607fb",
     "showTitle": false,
     "tableResultSettingsMap": {},
     "title": ""
    }
   },
   "source": [
    "     else:\n",
    "         missing = [col for col in required_cols if col not in df.columns]\n",
    "         print(f\"Missing columns: {missing}\")\n",
    "\n",
    "- Create a **new list** called **missing**.\n",
    "- It **collects all columns** from **required_cols** that are **not found in df.columns**.\n"
   ]
  },
  {
   "cell_type": "code",
   "execution_count": 0,
   "metadata": {
    "application/vnd.databricks.v1+cell": {
     "cellMetadata": {
      "byteLimit": 2048000,
      "rowLimit": 10000
     },
     "inputWidgets": {},
     "nuid": "3167faff-06c6-458a-aa8d-653f21aff8b1",
     "showTitle": false,
     "tableResultSettingsMap": {},
     "title": ""
    }
   },
   "outputs": [
    {
     "output_type": "execute_result",
     "data": {
      "text/plain": [
       "['ObjectID',\n",
       " 'ID',\n",
       " 'Name',\n",
       " 'Date',\n",
       " 'contract_source',\n",
       " 'currency_code',\n",
       " 'refunded_amount']"
      ]
     },
     "execution_count": 35,
     "metadata": {},
     "output_type": "execute_result"
    }
   ],
   "source": [
    "columns_to_check = ['ObjectID', 'ID', 'Name', 'Date', 'contract_source', 'currency_code', 'refunded_amount', 'start_date', 'product_url', 'category', 'default_group', 'source_target', 'cloud_flatform', 'session_id', 'session_name', 'status_name', 'status_type', 'sessions', 'product_id', 'load datetime']\n",
    "\n",
    "# List all columns from columns_to_check that are NOT present in df.columns\n",
    "[col for col in columns_to_check if col not in df.columns]"
   ]
  },
  {
   "cell_type": "markdown",
   "metadata": {
    "application/vnd.databricks.v1+cell": {
     "cellMetadata": {},
     "inputWidgets": {},
     "nuid": "cecde0fb-dd5a-46fe-a80b-e04e3336de95",
     "showTitle": false,
     "tableResultSettingsMap": {},
     "title": ""
    }
   },
   "source": [
    "**3) Using DataFrame schema (if you need to inspect types)**\n",
    "- If you also want to verify **column names** and their **data types**, use **df.schema.fields**.\n",
    "- This is useful when you’re working with **nested or complex schemas**."
   ]
  },
  {
   "cell_type": "code",
   "execution_count": 0,
   "metadata": {
    "application/vnd.databricks.v1+cell": {
     "cellMetadata": {
      "byteLimit": 2048000,
      "rowLimit": 10000
     },
     "inputWidgets": {},
     "nuid": "54a20e43-ff5b-47f1-943f-67589c5f72f9",
     "showTitle": false,
     "tableResultSettingsMap": {},
     "title": ""
    }
   },
   "outputs": [
    {
     "output_type": "execute_result",
     "data": {
      "text/plain": [
       "[StructField('start_date', DateType(), True),\n",
       " StructField('product_url', StringType(), True),\n",
       " StructField('category', StringType(), True),\n",
       " StructField('default_group', StringType(), True),\n",
       " StructField('source_target', StringType(), True),\n",
       " StructField('cloud_flatform', StringType(), True),\n",
       " StructField('session_id', IntegerType(), True),\n",
       " StructField('session_name', StringType(), True),\n",
       " StructField('status_name', StringType(), True),\n",
       " StructField('status_type', StringType(), True),\n",
       " StructField('sessions', IntegerType(), True),\n",
       " StructField('product_id', IntegerType(), True),\n",
       " StructField('load datetime', StringType(), True)]"
      ]
     },
     "execution_count": 3,
     "metadata": {},
     "output_type": "execute_result"
    }
   ],
   "source": [
    "df.schema.fields"
   ]
  },
  {
   "cell_type": "code",
   "execution_count": 0,
   "metadata": {
    "application/vnd.databricks.v1+cell": {
     "cellMetadata": {
      "byteLimit": 2048000,
      "rowLimit": 10000
     },
     "inputWidgets": {},
     "nuid": "a0c1380c-5082-4227-932c-987d95c95188",
     "showTitle": false,
     "tableResultSettingsMap": {},
     "title": ""
    }
   },
   "outputs": [
    {
     "output_type": "stream",
     "name": "stdout",
     "output_type": "stream",
     "text": [
      "\nColumn 'category' is available in df.schema.fields\n"
     ]
    }
   ],
   "source": [
    "if any(field.name == \"category\" for field in df.schema.fields):\n",
    "    print(\"\\nColumn 'category' is available in df.schema.fields\")\n",
    "else:\n",
    "    print(\"\\nColumn 'category' is not available in df.schema.fields\")"
   ]
  },
  {
   "cell_type": "code",
   "execution_count": 0,
   "metadata": {
    "application/vnd.databricks.v1+cell": {
     "cellMetadata": {
      "byteLimit": 2048000,
      "rowLimit": 10000
     },
     "inputWidgets": {},
     "nuid": "5188b126-eaa9-4100-aece-d0025d263424",
     "showTitle": false,
     "tableResultSettingsMap": {},
     "title": ""
    }
   },
   "outputs": [
    {
     "output_type": "stream",
     "name": "stdout",
     "output_type": "stream",
     "text": [
      "Column 'status_name' is available in df.Schema\nColumn 'status_type' is available in df.Schema\n"
     ]
    }
   ],
   "source": [
    "columns_to_check = ['status_name', 'status_type']\n",
    "\n",
    "for column in columns_to_check:\n",
    "    if any(field.name == column for field in df.schema.fields):\n",
    "        print(f\"Column '{column}' is available in df.Schema\")\n",
    "    else:\n",
    "        print(f\"Column '{column}' is not available in df.Schema\")"
   ]
  },
  {
   "cell_type": "code",
   "execution_count": 0,
   "metadata": {
    "application/vnd.databricks.v1+cell": {
     "cellMetadata": {
      "byteLimit": 2048000,
      "rowLimit": 10000
     },
     "inputWidgets": {},
     "nuid": "78b4a7b5-b9b2-441d-ad49-09fd7c4a7763",
     "showTitle": false,
     "tableResultSettingsMap": {},
     "title": ""
    }
   },
   "outputs": [
    {
     "output_type": "stream",
     "name": "stdout",
     "output_type": "stream",
     "text": [
      "Schema filed Names: \n ['start_date', 'product_url', 'category', 'default_group', 'source_target', 'cloud_flatform', 'session_id', 'session_name', 'status_name', 'status_type', 'sessions', 'product_id', 'load datetime']\n\nList all columns from columns_to_check that are NOT present in df.columns: \n ['ObjectID', 'ID', 'Name', 'Date', 'contract_source', 'currency_code', 'refunded_amount']\n\nPrint Struct Field: \n [StructField('start_date', DateType(), True), StructField('product_url', StringType(), True), StructField('category', StringType(), True), StructField('default_group', StringType(), True), StructField('source_target', StringType(), True), StructField('cloud_flatform', StringType(), True), StructField('session_id', IntegerType(), True), StructField('session_name', StringType(), True), StructField('status_name', StringType(), True), StructField('status_type', StringType(), True), StructField('sessions', IntegerType(), True), StructField('product_id', IntegerType(), True), StructField('load datetime', StringType(), True)]\n\nColumn 'sales_organisation_id' is not available in table_Schema.\n"
     ]
    }
   ],
   "source": [
    "columns_to_check = ['ObjectID', 'ID', 'Name', 'Date', 'contract_source', 'currency_code', 'refunded_amount', 'start_date', 'product_url', 'category', 'default_group', 'source_target', 'cloud_flatform', 'session_id', 'session_name', 'status_name', 'status_type', 'sessions', 'product_id', 'load datetime']\n",
    "\n",
    "schema_field_names = [field.name for field in df.schema.fields]\n",
    "non_available_columns = [col for col in columns_to_check if col not in schema_field_names]\n",
    "\n",
    "print(\"Schema filed Names: \\n\", schema_field_names)\n",
    "print(\"\\nList all columns from columns_to_check that are NOT present in df.columns: \\n\", non_available_columns)\n",
    "print(\"\\nPrint Struct Field: \\n\", df.schema.fields)\n",
    "\n",
    "if any(field.name == \"sales_organisation_id\" for field in df.schema.fields):\n",
    "    print(\"\\nColumn 'sales_organisation_id' is available in table_Schema.\")\n",
    "else:\n",
    "    print(\"\\nColumn 'sales_organisation_id' is not available in table_Schema.\")"
   ]
  },
  {
   "cell_type": "markdown",
   "metadata": {
    "application/vnd.databricks.v1+cell": {
     "cellMetadata": {},
     "inputWidgets": {},
     "nuid": "78aee830-c535-4793-bee0-a3fd68ac2858",
     "showTitle": false,
     "tableResultSettingsMap": {},
     "title": ""
    }
   },
   "source": [
    "**4) Using a function to reuse the check**"
   ]
  },
  {
   "cell_type": "code",
   "execution_count": 0,
   "metadata": {
    "application/vnd.databricks.v1+cell": {
     "cellMetadata": {
      "byteLimit": 2048000,
      "rowLimit": 10000
     },
     "inputWidgets": {},
     "nuid": "3bcaf564-1ca5-40aa-a973-8e2fe4e6452a",
     "showTitle": false,
     "tableResultSettingsMap": {},
     "title": ""
    }
   },
   "outputs": [
    {
     "output_type": "stream",
     "name": "stdout",
     "output_type": "stream",
     "text": [
      "Missing columns: ['region', 'sales_organisation_id']\n"
     ]
    },
    {
     "output_type": "execute_result",
     "data": {
      "text/plain": [
       "False"
      ]
     },
     "execution_count": 37,
     "metadata": {},
     "output_type": "execute_result"
    }
   ],
   "source": [
    "def check_columns(df, cols):\n",
    "    missing = [col for col in cols if col not in df.columns]\n",
    "    if missing:\n",
    "        print(f\"Missing columns: {missing}\")\n",
    "        return False\n",
    "    print(\"All columns are present\")\n",
    "    return True\n",
    "\n",
    "# Example usage\n",
    "check_columns(df, [\"region\", \"sales_organisation_id\"])"
   ]
  },
  {
   "cell_type": "markdown",
   "metadata": {
    "application/vnd.databricks.v1+cell": {
     "cellMetadata": {},
     "inputWidgets": {},
     "nuid": "49939131-6655-431b-8660-52aab815f8a4",
     "showTitle": false,
     "tableResultSettingsMap": {},
     "title": ""
    }
   },
   "source": [
    "**5) Check and safely select only existing columns**\n",
    "\n",
    "- If you’re not sure **all columns exist** and want to **select only valid ones**."
   ]
  },
  {
   "cell_type": "code",
   "execution_count": 0,
   "metadata": {
    "application/vnd.databricks.v1+cell": {
     "cellMetadata": {
      "byteLimit": 2048000,
      "rowLimit": 10000
     },
     "inputWidgets": {},
     "nuid": "60f4f309-3830-4be4-a32c-a207871b6d07",
     "showTitle": false,
     "tableResultSettingsMap": {
      "0": {
       "dataGridStateBlob": "{\"version\":1,\"tableState\":{\"columnPinning\":{\"left\":[\"#row_number#\"],\"right\":[]},\"columnSizing\":{},\"columnVisibility\":{}},\"settings\":{\"columns\":{}},\"syncTimestamp\":1760329984630}",
       "filterBlob": null,
       "queryPlanFiltersBlob": null,
       "tableResultIndex": 0
      }
     },
     "title": ""
    }
   },
   "outputs": [
    {
     "output_type": "display_data",
     "data": {
      "text/html": [
       "<style scoped>\n",
       "  .table-result-container {\n",
       "    max-height: 300px;\n",
       "    overflow: auto;\n",
       "  }\n",
       "  table, th, td {\n",
       "    border: 1px solid black;\n",
       "    border-collapse: collapse;\n",
       "  }\n",
       "  th, td {\n",
       "    padding: 5px;\n",
       "  }\n",
       "  th {\n",
       "    text-align: left;\n",
       "  }\n",
       "</style><div class='table-result-container'><table class='table-result'><thead style='background-color: white'><tr><th>sessions</th><th>status_type</th></tr></thead><tbody><tr><td>5</td><td>Not Available</td></tr><tr><td>12</td><td>Not Available</td></tr><tr><td>16</td><td>Not Available</td></tr><tr><td>22</td><td>Not Available</td></tr><tr><td>25</td><td>Not Available</td></tr><tr><td>4</td><td>Not Available</td></tr><tr><td>9</td><td>Not Available</td></tr><tr><td>8</td><td>Not Available</td></tr><tr><td>7</td><td>Not Available</td></tr><tr><td>6</td><td>Not Available</td></tr><tr><td>5</td><td>Not Available</td></tr><tr><td>4</td><td>Not Available</td></tr><tr><td>3</td><td>Not Available</td></tr><tr><td>19</td><td>Not Available</td></tr><tr><td>100</td><td>Checkout</td></tr><tr><td>54</td><td>Checkout</td></tr><tr><td>36</td><td>Checkout</td></tr><tr><td>23</td><td>Checkout</td></tr><tr><td>98</td><td>Checkout</td></tr><tr><td>78</td><td>Checkout</td></tr><tr><td>76</td><td>Checkout</td></tr><tr><td>74</td><td>Checkout</td></tr><tr><td>63</td><td>Checkout</td></tr><tr><td>90</td><td>Checkout</td></tr><tr><td>171</td><td>Checkout</td></tr><tr><td>172</td><td>Checkout</td></tr><tr><td>173</td><td>Checkout</td></tr><tr><td>174</td><td>Checkout</td></tr><tr><td>175</td><td>Subscribe</td></tr><tr><td>176</td><td>Subscribe</td></tr><tr><td>177</td><td>Subscribe</td></tr><tr><td>74</td><td>Subscribe</td></tr><tr><td>78</td><td>Subscribe</td></tr><tr><td>79</td><td>Subscribe</td></tr><tr><td>90</td><td>Subscribe</td></tr><tr><td>191</td><td>Subscribe</td></tr><tr><td>195</td><td>Subscribe</td></tr><tr><td>111</td><td>Subscribe</td></tr><tr><td>113</td><td>Search</td></tr><tr><td>115</td><td>Search</td></tr><tr><td>118</td><td>Search</td></tr><tr><td>119</td><td>Search</td></tr><tr><td>127</td><td>Search</td></tr><tr><td>129</td><td>Search</td></tr><tr><td>12</td><td>Search</td></tr><tr><td>14</td><td>Search</td></tr><tr><td>16</td><td>Search</td></tr><tr><td>105</td><td>Autocomplete</td></tr><tr><td>120</td><td>Autocomplete</td></tr><tr><td>135</td><td>Autocomplete</td></tr><tr><td>176</td><td>Autocomplete</td></tr><tr><td>129</td><td>Autocomplete</td></tr><tr><td>132</td><td>Autocomplete</td></tr><tr><td>143</td><td>Autocomplete</td></tr><tr><td>146</td><td>Autocomplete</td></tr><tr><td>148</td><td>Autocomplete</td></tr><tr><td>149</td><td>Autocomplete</td></tr><tr><td>151</td><td>Autocomplete</td></tr><tr><td>152</td><td>Customer</td></tr><tr><td>153</td><td>Customer</td></tr><tr><td>154</td><td>Customer</td></tr><tr><td>155</td><td>Customer</td></tr><tr><td>156</td><td>Customer</td></tr><tr><td>157</td><td>Customer</td></tr><tr><td>158</td><td>Customer</td></tr><tr><td>159</td><td>Customer</td></tr><tr><td>160</td><td>Customer</td></tr><tr><td>161</td><td>Customer</td></tr><tr><td>85</td><td>Customer</td></tr><tr><td>86</td><td>Customer</td></tr><tr><td>87</td><td>Audit</td></tr><tr><td>88</td><td>Audit</td></tr><tr><td>89</td><td>Audit</td></tr><tr><td>41</td><td>Audit</td></tr><tr><td>42</td><td>Audit</td></tr><tr><td>43</td><td>Audit</td></tr><tr><td>44</td><td>Audit</td></tr><tr><td>45</td><td>Audit</td></tr><tr><td>46</td><td>Audit</td></tr><tr><td>47</td><td>Audit</td></tr><tr><td>48</td><td>Audit</td></tr><tr><td>49</td><td>Audit</td></tr><tr><td>31</td><td>Audit</td></tr><tr><td>32</td><td>Audit</td></tr><tr><td>33</td><td>Audit</td></tr><tr><td>34</td><td>Audit</td></tr><tr><td>35</td><td>Audit</td></tr><tr><td>36</td><td>Marketing</td></tr><tr><td>37</td><td>Marketing</td></tr><tr><td>38</td><td>Marketing</td></tr><tr><td>39</td><td>Marketing</td></tr><tr><td>40</td><td>Marketing</td></tr><tr><td>28</td><td>Marketing</td></tr><tr><td>27</td><td>Marketing</td></tr><tr><td>26</td><td>Marketing</td></tr><tr><td>84</td><td>Marketing</td></tr><tr><td>83</td><td>Marketing</td></tr><tr><td>82</td><td>Marketing</td></tr><tr><td>81</td><td>Marketing</td></tr><tr><td>29</td><td>Marketing</td></tr></tbody></table></div>"
      ]
     },
     "metadata": {
      "application/vnd.databricks.v1+output": {
       "addedWidgets": {},
       "aggData": [],
       "aggError": "",
       "aggOverflow": false,
       "aggSchema": [],
       "aggSeriesLimitReached": false,
       "aggType": "",
       "arguments": {},
       "columnCustomDisplayInfos": {},
       "data": [
        [
         5,
         "Not Available"
        ],
        [
         12,
         "Not Available"
        ],
        [
         16,
         "Not Available"
        ],
        [
         22,
         "Not Available"
        ],
        [
         25,
         "Not Available"
        ],
        [
         4,
         "Not Available"
        ],
        [
         9,
         "Not Available"
        ],
        [
         8,
         "Not Available"
        ],
        [
         7,
         "Not Available"
        ],
        [
         6,
         "Not Available"
        ],
        [
         5,
         "Not Available"
        ],
        [
         4,
         "Not Available"
        ],
        [
         3,
         "Not Available"
        ],
        [
         19,
         "Not Available"
        ],
        [
         100,
         "Checkout"
        ],
        [
         54,
         "Checkout"
        ],
        [
         36,
         "Checkout"
        ],
        [
         23,
         "Checkout"
        ],
        [
         98,
         "Checkout"
        ],
        [
         78,
         "Checkout"
        ],
        [
         76,
         "Checkout"
        ],
        [
         74,
         "Checkout"
        ],
        [
         63,
         "Checkout"
        ],
        [
         90,
         "Checkout"
        ],
        [
         171,
         "Checkout"
        ],
        [
         172,
         "Checkout"
        ],
        [
         173,
         "Checkout"
        ],
        [
         174,
         "Checkout"
        ],
        [
         175,
         "Subscribe"
        ],
        [
         176,
         "Subscribe"
        ],
        [
         177,
         "Subscribe"
        ],
        [
         74,
         "Subscribe"
        ],
        [
         78,
         "Subscribe"
        ],
        [
         79,
         "Subscribe"
        ],
        [
         90,
         "Subscribe"
        ],
        [
         191,
         "Subscribe"
        ],
        [
         195,
         "Subscribe"
        ],
        [
         111,
         "Subscribe"
        ],
        [
         113,
         "Search"
        ],
        [
         115,
         "Search"
        ],
        [
         118,
         "Search"
        ],
        [
         119,
         "Search"
        ],
        [
         127,
         "Search"
        ],
        [
         129,
         "Search"
        ],
        [
         12,
         "Search"
        ],
        [
         14,
         "Search"
        ],
        [
         16,
         "Search"
        ],
        [
         105,
         "Autocomplete"
        ],
        [
         120,
         "Autocomplete"
        ],
        [
         135,
         "Autocomplete"
        ],
        [
         176,
         "Autocomplete"
        ],
        [
         129,
         "Autocomplete"
        ],
        [
         132,
         "Autocomplete"
        ],
        [
         143,
         "Autocomplete"
        ],
        [
         146,
         "Autocomplete"
        ],
        [
         148,
         "Autocomplete"
        ],
        [
         149,
         "Autocomplete"
        ],
        [
         151,
         "Autocomplete"
        ],
        [
         152,
         "Customer"
        ],
        [
         153,
         "Customer"
        ],
        [
         154,
         "Customer"
        ],
        [
         155,
         "Customer"
        ],
        [
         156,
         "Customer"
        ],
        [
         157,
         "Customer"
        ],
        [
         158,
         "Customer"
        ],
        [
         159,
         "Customer"
        ],
        [
         160,
         "Customer"
        ],
        [
         161,
         "Customer"
        ],
        [
         85,
         "Customer"
        ],
        [
         86,
         "Customer"
        ],
        [
         87,
         "Audit"
        ],
        [
         88,
         "Audit"
        ],
        [
         89,
         "Audit"
        ],
        [
         41,
         "Audit"
        ],
        [
         42,
         "Audit"
        ],
        [
         43,
         "Audit"
        ],
        [
         44,
         "Audit"
        ],
        [
         45,
         "Audit"
        ],
        [
         46,
         "Audit"
        ],
        [
         47,
         "Audit"
        ],
        [
         48,
         "Audit"
        ],
        [
         49,
         "Audit"
        ],
        [
         31,
         "Audit"
        ],
        [
         32,
         "Audit"
        ],
        [
         33,
         "Audit"
        ],
        [
         34,
         "Audit"
        ],
        [
         35,
         "Audit"
        ],
        [
         36,
         "Marketing"
        ],
        [
         37,
         "Marketing"
        ],
        [
         38,
         "Marketing"
        ],
        [
         39,
         "Marketing"
        ],
        [
         40,
         "Marketing"
        ],
        [
         28,
         "Marketing"
        ],
        [
         27,
         "Marketing"
        ],
        [
         26,
         "Marketing"
        ],
        [
         84,
         "Marketing"
        ],
        [
         83,
         "Marketing"
        ],
        [
         82,
         "Marketing"
        ],
        [
         81,
         "Marketing"
        ],
        [
         29,
         "Marketing"
        ]
       ],
       "datasetInfos": [],
       "dbfsResultPath": null,
       "isJsonSchema": true,
       "metadata": {},
       "overflow": false,
       "plotOptions": {
        "customPlotOptions": {},
        "displayType": "table",
        "pivotAggregation": null,
        "pivotColumns": null,
        "xColumns": null,
        "yColumns": null
       },
       "removedWidgets": [],
       "schema": [
        {
         "metadata": "{}",
         "name": "sessions",
         "type": "\"integer\""
        },
        {
         "metadata": "{}",
         "name": "status_type",
         "type": "\"string\""
        }
       ],
       "type": "table"
      }
     },
     "output_type": "display_data"
    }
   ],
   "source": [
    "safe_cols = [col for col in [\"region\", \"sessions\", \"invalid_col\", \"status_type\"] if col in df.columns]\n",
    "df.select(*safe_cols).display()"
   ]
  },
  {
   "cell_type": "markdown",
   "metadata": {
    "application/vnd.databricks.v1+cell": {
     "cellMetadata": {},
     "inputWidgets": {},
     "nuid": "e320e96e-6422-4e2e-ba94-f9d6b816ae3f",
     "showTitle": false,
     "tableResultSettingsMap": {},
     "title": ""
    }
   },
   "source": [
    "| Task                       | Best Method                                              | Example             |\n",
    "| -------------------------- | -------------------------------------------------------- | ------------------- |\n",
    "| Check one column           | `\"col\" in df.columns`                                    | ✅ Simple and fast   |\n",
    "| Check multiple columns     | `all(col in df.columns for col in cols)`                 | ✅ Detect missing    |\n",
    "| Check with schema info     | `any(field.name == \"col\" for field in df.schema.fields)` | ✅ Include type info |\n",
    "| Automatically skip missing | `[c for c in cols if c in df.columns]`                   | ✅ Safe selection    |"
   ]
  }
 ],
 "metadata": {
  "application/vnd.databricks.v1+notebook": {
   "computePreferences": {
    "hardware": {
     "accelerator": null,
     "gpuPoolId": null,
     "memory": null
    }
   },
   "dashboards": [],
   "environmentMetadata": null,
   "inputWidgetPreferences": null,
   "language": "python",
   "notebookMetadata": {
    "pythonIndentUnit": 4
   },
   "notebookName": "17_UNIT TEST_How to check if column is available in schema",
   "widgets": {}
  },
  "language_info": {
   "name": "python"
  }
 },
 "nbformat": 4,
 "nbformat_minor": 0
}