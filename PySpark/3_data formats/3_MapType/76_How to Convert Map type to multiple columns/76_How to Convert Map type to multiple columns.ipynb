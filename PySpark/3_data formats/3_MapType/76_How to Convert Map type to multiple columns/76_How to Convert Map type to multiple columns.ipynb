{
 "cells": [
  {
   "cell_type": "code",
   "execution_count": 0,
   "metadata": {
    "application/vnd.databricks.v1+cell": {
     "cellMetadata": {
      "byteLimit": 2048000,
      "rowLimit": 10000
     },
     "inputWidgets": {},
     "nuid": "34fdb007-ee53-4e99-a001-d1c0e85f206c",
     "showTitle": false,
     "tableResultSettingsMap": {},
     "title": ""
    }
   },
   "outputs": [],
   "source": [
    "from pyspark.sql.functions import first"
   ]
  },
  {
   "cell_type": "code",
   "execution_count": 0,
   "metadata": {
    "application/vnd.databricks.v1+cell": {
     "cellMetadata": {
      "byteLimit": 2048000,
      "rowLimit": 10000
     },
     "inputWidgets": {},
     "nuid": "3d4a50ae-3218-4234-988e-6c6bfe3a3b54",
     "showTitle": false,
     "tableResultSettingsMap": {},
     "title": ""
    }
   },
   "outputs": [
    {
     "output_type": "display_data",
     "data": {
      "text/html": [
       "<style scoped>\n",
       "  .table-result-container {\n",
       "    max-height: 300px;\n",
       "    overflow: auto;\n",
       "  }\n",
       "  table, th, td {\n",
       "    border: 1px solid black;\n",
       "    border-collapse: collapse;\n",
       "  }\n",
       "  th, td {\n",
       "    padding: 5px;\n",
       "  }\n",
       "  th {\n",
       "    text-align: left;\n",
       "  }\n",
       "</style><div class='table-result-container'><table class='table-result'><thead style='background-color: white'><tr><th>name</th><th>properties</th></tr></thead><tbody><tr><td>Albert</td><td>Map(Country -> India, height -> 12, age -> 25, Gender -> Male, eyeColor -> blue)</td></tr><tr><td>Bobby</td><td>Map(Country -> India, height -> 15, age -> 30, Gender -> Male, eyeColor -> null)</td></tr><tr><td>Anand</td><td>Map(Country -> India, height -> 18, age -> 28, Gender -> Male, eyeColor -> black)</td></tr><tr><td>Chandra</td><td>Map(Country -> India, height -> 22, age -> null, Gender -> Male, eyeColor -> white)</td></tr><tr><td>Seetha</td><td>Map(Country -> India, height -> 32, age -> 45, Gender -> Male, eyeColor -> yellow)</td></tr><tr><td>Varun</td><td>Map(Country -> India, height -> 10, age -> 32, Gender -> Male, eyeColor -> null)</td></tr><tr><td>Bobby</td><td>Map(Country -> India, height -> 19, age -> null, Gender -> Male, eyeColor -> blue)</td></tr><tr><td>Bobby</td><td>Map(Country -> India, height -> 8, age -> 30, Gender -> Male, eyeColor -> brown)</td></tr><tr><td>Anand</td><td>Map(Country -> India, height -> 16, age -> null, Gender -> Male, eyeColor -> null)</td></tr><tr><td>Chandra</td><td>Map(Country -> India, height -> 13, age -> 35, Gender -> Male, eyeColor -> white)</td></tr><tr><td>Seetha</td><td>Map(Country -> India, height -> 27, age -> 45, Gender -> Male, eyeColor -> yellow)</td></tr><tr><td>Anand</td><td>Map(Country -> India, height -> 29, age -> 32, Gender -> Male, eyeColor -> null)</td></tr></tbody></table></div>"
      ]
     },
     "metadata": {
      "application/vnd.databricks.v1+output": {
       "addedWidgets": {},
       "aggData": [],
       "aggError": "",
       "aggOverflow": false,
       "aggSchema": [],
       "aggSeriesLimitReached": false,
       "aggType": "",
       "arguments": {},
       "columnCustomDisplayInfos": {},
       "data": [
        [
         "Albert",
         {
          "Country": "India",
          "Gender": "Male",
          "age": "25",
          "eyeColor": "blue",
          "height": "12"
         }
        ],
        [
         "Bobby",
         {
          "Country": "India",
          "Gender": "Male",
          "age": "30",
          "eyeColor": null,
          "height": "15"
         }
        ],
        [
         "Anand",
         {
          "Country": "India",
          "Gender": "Male",
          "age": "28",
          "eyeColor": "black",
          "height": "18"
         }
        ],
        [
         "Chandra",
         {
          "Country": "India",
          "Gender": "Male",
          "age": null,
          "eyeColor": "white",
          "height": "22"
         }
        ],
        [
         "Seetha",
         {
          "Country": "India",
          "Gender": "Male",
          "age": "45",
          "eyeColor": "yellow",
          "height": "32"
         }
        ],
        [
         "Varun",
         {
          "Country": "India",
          "Gender": "Male",
          "age": "32",
          "eyeColor": null,
          "height": "10"
         }
        ],
        [
         "Bobby",
         {
          "Country": "India",
          "Gender": "Male",
          "age": null,
          "eyeColor": "blue",
          "height": "19"
         }
        ],
        [
         "Bobby",
         {
          "Country": "India",
          "Gender": "Male",
          "age": "30",
          "eyeColor": "brown",
          "height": "8"
         }
        ],
        [
         "Anand",
         {
          "Country": "India",
          "Gender": "Male",
          "age": null,
          "eyeColor": null,
          "height": "16"
         }
        ],
        [
         "Chandra",
         {
          "Country": "India",
          "Gender": "Male",
          "age": "35",
          "eyeColor": "white",
          "height": "13"
         }
        ],
        [
         "Seetha",
         {
          "Country": "India",
          "Gender": "Male",
          "age": "45",
          "eyeColor": "yellow",
          "height": "27"
         }
        ],
        [
         "Anand",
         {
          "Country": "India",
          "Gender": "Male",
          "age": "32",
          "eyeColor": null,
          "height": "29"
         }
        ]
       ],
       "datasetInfos": [],
       "dbfsResultPath": null,
       "isJsonSchema": true,
       "metadata": {},
       "overflow": false,
       "plotOptions": {
        "customPlotOptions": {},
        "displayType": "table",
        "pivotAggregation": null,
        "pivotColumns": null,
        "xColumns": null,
        "yColumns": null
       },
       "removedWidgets": [],
       "schema": [
        {
         "metadata": "{}",
         "name": "name",
         "type": "\"string\""
        },
        {
         "metadata": "{}",
         "name": "properties",
         "type": "{\"type\":\"map\",\"keyType\":\"string\",\"valueType\":\"string\",\"valueContainsNull\":true}"
        }
       ],
       "type": "table"
      }
     },
     "output_type": "display_data"
    }
   ],
   "source": [
    "from pyspark.sql.types import MapType, StringType, IntegerType\n",
    "from pyspark.sql import Row\n",
    "\n",
    "# A list of rows, each with a map\n",
    "data = [\n",
    "    Row(name=\"Albert\", properties={\"age\": 25, \"height\": 12, \"Gender\": \"Male\", \"Country\": \"India\", \"eyeColor\": \"blue\"}),\n",
    "    Row(name=\"Bobby\", properties={\"age\": 30, \"height\": 15, \"Gender\": \"Male\", \"Country\": \"India\", \"eyeColor\": None}),\n",
    "    Row(name=\"Anand\", properties={\"age\": 28, \"height\": 18, \"Gender\": \"Male\", \"Country\": \"India\", \"eyeColor\": \"black\"}),\n",
    "    Row(name=\"Chandra\", properties={\"age\": None, \"height\": 22, \"Gender\": \"Male\", \"Country\": \"India\", \"eyeColor\": \"white\"}),\n",
    "    Row(name=\"Seetha\", properties={\"age\": 45, \"height\": 32, \"Gender\": \"Male\", \"Country\": \"India\", \"eyeColor\": \"yellow\"}),\n",
    "    Row(name=\"Varun\", properties={\"age\": 32, \"height\": 10, \"Gender\": \"Male\", \"Country\": \"India\", \"eyeColor\": None}),\n",
    "    Row(name=\"Bobby\", properties={\"age\": None, \"height\": 19, \"Gender\": \"Male\", \"Country\": \"India\", \"eyeColor\": \"blue\"}),\n",
    "    Row(name=\"Bobby\", properties={\"age\": 30, \"height\": 8, \"Gender\": \"Male\", \"Country\": \"India\", \"eyeColor\": \"brown\"}),\n",
    "    Row(name=\"Anand\", properties={\"age\": None, \"height\": 16, \"Gender\": \"Male\", \"Country\": \"India\", \"eyeColor\": None}),\n",
    "    Row(name=\"Chandra\", properties={\"age\": 35, \"height\": 13, \"Gender\": \"Male\", \"Country\": \"India\", \"eyeColor\": \"white\"}),\n",
    "    Row(name=\"Seetha\", properties={\"age\": 45, \"height\": 27, \"Gender\": \"Male\", \"Country\": \"India\", \"eyeColor\": \"yellow\"}),\n",
    "    Row(name=\"Anand\", properties={\"age\": 32, \"height\": 29, \"Gender\": \"Male\", \"Country\": \"India\", \"eyeColor\": None})\n",
    "]\n",
    "\n",
    "# Define the schema\n",
    "schema = [\"name\", \"properties\"]\n",
    "\n",
    "# Create a DataFrame\n",
    "df = spark.createDataFrame(data, schema)\n",
    "\n",
    "display(df)"
   ]
  },
  {
   "cell_type": "markdown",
   "metadata": {
    "application/vnd.databricks.v1+cell": {
     "cellMetadata": {
      "byteLimit": 2048000,
      "rowLimit": 10000
     },
     "inputWidgets": {},
     "nuid": "f1a63e64-aa6d-46b8-8a2f-25337933aa02",
     "showTitle": false,
     "tableResultSettingsMap": {},
     "title": ""
    }
   },
   "source": [
    "#### **1) Using `select()` and `col()` Functions**"
   ]
  },
  {
   "cell_type": "code",
   "execution_count": 0,
   "metadata": {
    "application/vnd.databricks.v1+cell": {
     "cellMetadata": {
      "byteLimit": 2048000,
      "rowLimit": 10000
     },
     "inputWidgets": {},
     "nuid": "20950f96-bdd9-47c2-9dac-25748bc7f38c",
     "showTitle": false,
     "tableResultSettingsMap": {},
     "title": ""
    }
   },
   "outputs": [
    {
     "output_type": "display_data",
     "data": {
      "text/html": [
       "<style scoped>\n",
       "  .table-result-container {\n",
       "    max-height: 300px;\n",
       "    overflow: auto;\n",
       "  }\n",
       "  table, th, td {\n",
       "    border: 1px solid black;\n",
       "    border-collapse: collapse;\n",
       "  }\n",
       "  th, td {\n",
       "    padding: 5px;\n",
       "  }\n",
       "  th {\n",
       "    text-align: left;\n",
       "  }\n",
       "</style><div class='table-result-container'><table class='table-result'><thead style='background-color: white'><tr><th>name</th><th>age</th><th>eyeColor</th><th>height</th><th>Gender</th><th>Country</th></tr></thead><tbody><tr><td>Albert</td><td>25</td><td>blue</td><td>12</td><td>Male</td><td>India</td></tr><tr><td>Bobby</td><td>30</td><td>null</td><td>15</td><td>Male</td><td>India</td></tr><tr><td>Anand</td><td>28</td><td>black</td><td>18</td><td>Male</td><td>India</td></tr><tr><td>Chandra</td><td>null</td><td>white</td><td>22</td><td>Male</td><td>India</td></tr><tr><td>Seetha</td><td>45</td><td>yellow</td><td>32</td><td>Male</td><td>India</td></tr><tr><td>Varun</td><td>32</td><td>null</td><td>10</td><td>Male</td><td>India</td></tr><tr><td>Bobby</td><td>null</td><td>blue</td><td>19</td><td>Male</td><td>India</td></tr><tr><td>Bobby</td><td>30</td><td>brown</td><td>8</td><td>Male</td><td>India</td></tr><tr><td>Anand</td><td>null</td><td>null</td><td>16</td><td>Male</td><td>India</td></tr><tr><td>Chandra</td><td>35</td><td>white</td><td>13</td><td>Male</td><td>India</td></tr><tr><td>Seetha</td><td>45</td><td>yellow</td><td>27</td><td>Male</td><td>India</td></tr><tr><td>Anand</td><td>32</td><td>null</td><td>29</td><td>Male</td><td>India</td></tr></tbody></table></div>"
      ]
     },
     "metadata": {
      "application/vnd.databricks.v1+output": {
       "addedWidgets": {},
       "aggData": [],
       "aggError": "",
       "aggOverflow": false,
       "aggSchema": [],
       "aggSeriesLimitReached": false,
       "aggType": "",
       "arguments": {},
       "columnCustomDisplayInfos": {},
       "data": [
        [
         "Albert",
         "25",
         "blue",
         "12",
         "Male",
         "India"
        ],
        [
         "Bobby",
         "30",
         null,
         "15",
         "Male",
         "India"
        ],
        [
         "Anand",
         "28",
         "black",
         "18",
         "Male",
         "India"
        ],
        [
         "Chandra",
         null,
         "white",
         "22",
         "Male",
         "India"
        ],
        [
         "Seetha",
         "45",
         "yellow",
         "32",
         "Male",
         "India"
        ],
        [
         "Varun",
         "32",
         null,
         "10",
         "Male",
         "India"
        ],
        [
         "Bobby",
         null,
         "blue",
         "19",
         "Male",
         "India"
        ],
        [
         "Bobby",
         "30",
         "brown",
         "8",
         "Male",
         "India"
        ],
        [
         "Anand",
         null,
         null,
         "16",
         "Male",
         "India"
        ],
        [
         "Chandra",
         "35",
         "white",
         "13",
         "Male",
         "India"
        ],
        [
         "Seetha",
         "45",
         "yellow",
         "27",
         "Male",
         "India"
        ],
        [
         "Anand",
         "32",
         null,
         "29",
         "Male",
         "India"
        ]
       ],
       "datasetInfos": [],
       "dbfsResultPath": null,
       "isJsonSchema": true,
       "metadata": {},
       "overflow": false,
       "plotOptions": {
        "customPlotOptions": {},
        "displayType": "table",
        "pivotAggregation": null,
        "pivotColumns": null,
        "xColumns": null,
        "yColumns": null
       },
       "removedWidgets": [],
       "schema": [
        {
         "metadata": "{}",
         "name": "name",
         "type": "\"string\""
        },
        {
         "metadata": "{}",
         "name": "age",
         "type": "\"string\""
        },
        {
         "metadata": "{}",
         "name": "eyeColor",
         "type": "\"string\""
        },
        {
         "metadata": "{}",
         "name": "height",
         "type": "\"string\""
        },
        {
         "metadata": "{}",
         "name": "Gender",
         "type": "\"string\""
        },
        {
         "metadata": "{}",
         "name": "Country",
         "type": "\"string\""
        }
       ],
       "type": "table"
      }
     },
     "output_type": "display_data"
    }
   ],
   "source": [
    "from pyspark.sql.functions import col\n",
    "\n",
    "# Select the name column, and the entries of the map as separate columns\n",
    "df_col = df.select(\n",
    "    \"name\",\n",
    "    col(\"properties\")[\"age\"].alias(\"age\"),\n",
    "    col(\"properties\")[\"eyeColor\"].alias(\"eyeColor\"),\n",
    "    col(\"properties\")[\"height\"].alias(\"height\"),\n",
    "    col(\"properties\")[\"Gender\"].alias(\"Gender\"),\n",
    "    col(\"properties\")[\"Country\"].alias(\"Country\")\n",
    ")\n",
    "\n",
    "display(df_col)"
   ]
  },
  {
   "cell_type": "markdown",
   "metadata": {
    "application/vnd.databricks.v1+cell": {
     "cellMetadata": {
      "byteLimit": 2048000,
      "rowLimit": 10000
     },
     "inputWidgets": {},
     "nuid": "61d63512-cf30-4178-aaa2-ed34043add2e",
     "showTitle": false,
     "tableResultSettingsMap": {},
     "title": ""
    }
   },
   "source": [
    "#### **2) Using `explode()` Function**\n",
    "\n",
    "- To turn each **key-value pair** into a **separate row** and then **pivot** the data to create columns."
   ]
  },
  {
   "cell_type": "code",
   "execution_count": 0,
   "metadata": {
    "application/vnd.databricks.v1+cell": {
     "cellMetadata": {
      "byteLimit": 2048000,
      "rowLimit": 10000
     },
     "inputWidgets": {},
     "nuid": "0218301d-5fad-4aab-9ad0-12c16a81edeb",
     "showTitle": false,
     "tableResultSettingsMap": {},
     "title": ""
    }
   },
   "outputs": [
    {
     "output_type": "display_data",
     "data": {
      "text/html": [
       "<style scoped>\n",
       "  .table-result-container {\n",
       "    max-height: 300px;\n",
       "    overflow: auto;\n",
       "  }\n",
       "  table, th, td {\n",
       "    border: 1px solid black;\n",
       "    border-collapse: collapse;\n",
       "  }\n",
       "  th, td {\n",
       "    padding: 5px;\n",
       "  }\n",
       "  th {\n",
       "    text-align: left;\n",
       "  }\n",
       "</style><div class='table-result-container'><table class='table-result'><thead style='background-color: white'><tr><th>name</th><th>key</th><th>value</th></tr></thead><tbody><tr><td>Albert</td><td>Country</td><td>India</td></tr><tr><td>Albert</td><td>Gender</td><td>Male</td></tr><tr><td>Albert</td><td>eyeColor</td><td>blue</td></tr><tr><td>Albert</td><td>age</td><td>25</td></tr><tr><td>Albert</td><td>height</td><td>12</td></tr><tr><td>Bobby</td><td>Country</td><td>India</td></tr><tr><td>Bobby</td><td>Gender</td><td>Male</td></tr><tr><td>Bobby</td><td>eyeColor</td><td>null</td></tr><tr><td>Bobby</td><td>age</td><td>30</td></tr><tr><td>Bobby</td><td>height</td><td>15</td></tr><tr><td>Anand</td><td>Country</td><td>India</td></tr><tr><td>Anand</td><td>Gender</td><td>Male</td></tr><tr><td>Anand</td><td>eyeColor</td><td>black</td></tr><tr><td>Anand</td><td>age</td><td>28</td></tr><tr><td>Anand</td><td>height</td><td>18</td></tr><tr><td>Chandra</td><td>Country</td><td>India</td></tr><tr><td>Chandra</td><td>Gender</td><td>Male</td></tr><tr><td>Chandra</td><td>eyeColor</td><td>white</td></tr><tr><td>Chandra</td><td>age</td><td>null</td></tr><tr><td>Chandra</td><td>height</td><td>22</td></tr><tr><td>Seetha</td><td>Country</td><td>India</td></tr><tr><td>Seetha</td><td>Gender</td><td>Male</td></tr><tr><td>Seetha</td><td>eyeColor</td><td>yellow</td></tr><tr><td>Seetha</td><td>age</td><td>45</td></tr><tr><td>Seetha</td><td>height</td><td>32</td></tr><tr><td>Varun</td><td>Country</td><td>India</td></tr><tr><td>Varun</td><td>Gender</td><td>Male</td></tr><tr><td>Varun</td><td>eyeColor</td><td>null</td></tr><tr><td>Varun</td><td>age</td><td>32</td></tr><tr><td>Varun</td><td>height</td><td>10</td></tr><tr><td>Bobby</td><td>Country</td><td>India</td></tr><tr><td>Bobby</td><td>Gender</td><td>Male</td></tr><tr><td>Bobby</td><td>eyeColor</td><td>blue</td></tr><tr><td>Bobby</td><td>age</td><td>null</td></tr><tr><td>Bobby</td><td>height</td><td>19</td></tr><tr><td>Bobby</td><td>Country</td><td>India</td></tr><tr><td>Bobby</td><td>Gender</td><td>Male</td></tr><tr><td>Bobby</td><td>eyeColor</td><td>brown</td></tr><tr><td>Bobby</td><td>age</td><td>30</td></tr><tr><td>Bobby</td><td>height</td><td>8</td></tr><tr><td>Anand</td><td>Country</td><td>India</td></tr><tr><td>Anand</td><td>Gender</td><td>Male</td></tr><tr><td>Anand</td><td>eyeColor</td><td>null</td></tr><tr><td>Anand</td><td>age</td><td>null</td></tr><tr><td>Anand</td><td>height</td><td>16</td></tr><tr><td>Chandra</td><td>Country</td><td>India</td></tr><tr><td>Chandra</td><td>Gender</td><td>Male</td></tr><tr><td>Chandra</td><td>eyeColor</td><td>white</td></tr><tr><td>Chandra</td><td>age</td><td>35</td></tr><tr><td>Chandra</td><td>height</td><td>13</td></tr><tr><td>Seetha</td><td>Country</td><td>India</td></tr><tr><td>Seetha</td><td>Gender</td><td>Male</td></tr><tr><td>Seetha</td><td>eyeColor</td><td>yellow</td></tr><tr><td>Seetha</td><td>age</td><td>45</td></tr><tr><td>Seetha</td><td>height</td><td>27</td></tr><tr><td>Anand</td><td>Country</td><td>India</td></tr><tr><td>Anand</td><td>Gender</td><td>Male</td></tr><tr><td>Anand</td><td>eyeColor</td><td>null</td></tr><tr><td>Anand</td><td>age</td><td>32</td></tr><tr><td>Anand</td><td>height</td><td>29</td></tr></tbody></table></div>"
      ]
     },
     "metadata": {
      "application/vnd.databricks.v1+output": {
       "addedWidgets": {},
       "aggData": [],
       "aggError": "",
       "aggOverflow": false,
       "aggSchema": [],
       "aggSeriesLimitReached": false,
       "aggType": "",
       "arguments": {},
       "columnCustomDisplayInfos": {},
       "data": [
        [
         "Albert",
         "Country",
         "India"
        ],
        [
         "Albert",
         "Gender",
         "Male"
        ],
        [
         "Albert",
         "eyeColor",
         "blue"
        ],
        [
         "Albert",
         "age",
         "25"
        ],
        [
         "Albert",
         "height",
         "12"
        ],
        [
         "Bobby",
         "Country",
         "India"
        ],
        [
         "Bobby",
         "Gender",
         "Male"
        ],
        [
         "Bobby",
         "eyeColor",
         null
        ],
        [
         "Bobby",
         "age",
         "30"
        ],
        [
         "Bobby",
         "height",
         "15"
        ],
        [
         "Anand",
         "Country",
         "India"
        ],
        [
         "Anand",
         "Gender",
         "Male"
        ],
        [
         "Anand",
         "eyeColor",
         "black"
        ],
        [
         "Anand",
         "age",
         "28"
        ],
        [
         "Anand",
         "height",
         "18"
        ],
        [
         "Chandra",
         "Country",
         "India"
        ],
        [
         "Chandra",
         "Gender",
         "Male"
        ],
        [
         "Chandra",
         "eyeColor",
         "white"
        ],
        [
         "Chandra",
         "age",
         null
        ],
        [
         "Chandra",
         "height",
         "22"
        ],
        [
         "Seetha",
         "Country",
         "India"
        ],
        [
         "Seetha",
         "Gender",
         "Male"
        ],
        [
         "Seetha",
         "eyeColor",
         "yellow"
        ],
        [
         "Seetha",
         "age",
         "45"
        ],
        [
         "Seetha",
         "height",
         "32"
        ],
        [
         "Varun",
         "Country",
         "India"
        ],
        [
         "Varun",
         "Gender",
         "Male"
        ],
        [
         "Varun",
         "eyeColor",
         null
        ],
        [
         "Varun",
         "age",
         "32"
        ],
        [
         "Varun",
         "height",
         "10"
        ],
        [
         "Bobby",
         "Country",
         "India"
        ],
        [
         "Bobby",
         "Gender",
         "Male"
        ],
        [
         "Bobby",
         "eyeColor",
         "blue"
        ],
        [
         "Bobby",
         "age",
         null
        ],
        [
         "Bobby",
         "height",
         "19"
        ],
        [
         "Bobby",
         "Country",
         "India"
        ],
        [
         "Bobby",
         "Gender",
         "Male"
        ],
        [
         "Bobby",
         "eyeColor",
         "brown"
        ],
        [
         "Bobby",
         "age",
         "30"
        ],
        [
         "Bobby",
         "height",
         "8"
        ],
        [
         "Anand",
         "Country",
         "India"
        ],
        [
         "Anand",
         "Gender",
         "Male"
        ],
        [
         "Anand",
         "eyeColor",
         null
        ],
        [
         "Anand",
         "age",
         null
        ],
        [
         "Anand",
         "height",
         "16"
        ],
        [
         "Chandra",
         "Country",
         "India"
        ],
        [
         "Chandra",
         "Gender",
         "Male"
        ],
        [
         "Chandra",
         "eyeColor",
         "white"
        ],
        [
         "Chandra",
         "age",
         "35"
        ],
        [
         "Chandra",
         "height",
         "13"
        ],
        [
         "Seetha",
         "Country",
         "India"
        ],
        [
         "Seetha",
         "Gender",
         "Male"
        ],
        [
         "Seetha",
         "eyeColor",
         "yellow"
        ],
        [
         "Seetha",
         "age",
         "45"
        ],
        [
         "Seetha",
         "height",
         "27"
        ],
        [
         "Anand",
         "Country",
         "India"
        ],
        [
         "Anand",
         "Gender",
         "Male"
        ],
        [
         "Anand",
         "eyeColor",
         null
        ],
        [
         "Anand",
         "age",
         "32"
        ],
        [
         "Anand",
         "height",
         "29"
        ]
       ],
       "datasetInfos": [],
       "dbfsResultPath": null,
       "isJsonSchema": true,
       "metadata": {},
       "overflow": false,
       "plotOptions": {
        "customPlotOptions": {},
        "displayType": "table",
        "pivotAggregation": null,
        "pivotColumns": null,
        "xColumns": null,
        "yColumns": null
       },
       "removedWidgets": [],
       "schema": [
        {
         "metadata": "{}",
         "name": "name",
         "type": "\"string\""
        },
        {
         "metadata": "{}",
         "name": "key",
         "type": "\"string\""
        },
        {
         "metadata": "{}",
         "name": "value",
         "type": "\"string\""
        }
       ],
       "type": "table"
      }
     },
     "output_type": "display_data"
    }
   ],
   "source": [
    "from pyspark.sql.functions import explode\n",
    "\n",
    "# Explode the map into a new row for each key-value pair\n",
    "df_exploded = df.select(\"name\", explode(\"properties\"))\n",
    "\n",
    "display(df_exploded)"
   ]
  },
  {
   "cell_type": "code",
   "execution_count": 0,
   "metadata": {
    "application/vnd.databricks.v1+cell": {
     "cellMetadata": {
      "byteLimit": 2048000,
      "rowLimit": 10000
     },
     "inputWidgets": {},
     "nuid": "998c6b81-d7c1-47c9-b09e-fc1255005b21",
     "showTitle": false,
     "tableResultSettingsMap": {},
     "title": ""
    }
   },
   "outputs": [
    {
     "output_type": "display_data",
     "data": {
      "text/html": [
       "<style scoped>\n",
       "  .table-result-container {\n",
       "    max-height: 300px;\n",
       "    overflow: auto;\n",
       "  }\n",
       "  table, th, td {\n",
       "    border: 1px solid black;\n",
       "    border-collapse: collapse;\n",
       "  }\n",
       "  th, td {\n",
       "    padding: 5px;\n",
       "  }\n",
       "  th {\n",
       "    text-align: left;\n",
       "  }\n",
       "</style><div class='table-result-container'><table class='table-result'><thead style='background-color: white'><tr><th>name</th><th>Country</th><th>Gender</th><th>age</th><th>eyeColor</th><th>height</th></tr></thead><tbody><tr><td>Albert</td><td>India</td><td>Male</td><td>25</td><td>blue</td><td>12</td></tr><tr><td>Anand</td><td>India</td><td>Male</td><td>28</td><td>black</td><td>18</td></tr><tr><td>Bobby</td><td>India</td><td>Male</td><td>30</td><td>blue</td><td>15</td></tr><tr><td>Chandra</td><td>India</td><td>Male</td><td>35</td><td>white</td><td>22</td></tr><tr><td>Seetha</td><td>India</td><td>Male</td><td>45</td><td>yellow</td><td>32</td></tr><tr><td>Varun</td><td>India</td><td>Male</td><td>32</td><td>null</td><td>10</td></tr></tbody></table></div>"
      ]
     },
     "metadata": {
      "application/vnd.databricks.v1+output": {
       "addedWidgets": {},
       "aggData": [],
       "aggError": "",
       "aggOverflow": false,
       "aggSchema": [],
       "aggSeriesLimitReached": false,
       "aggType": "",
       "arguments": {},
       "columnCustomDisplayInfos": {},
       "data": [
        [
         "Albert",
         "India",
         "Male",
         "25",
         "blue",
         "12"
        ],
        [
         "Anand",
         "India",
         "Male",
         "28",
         "black",
         "18"
        ],
        [
         "Bobby",
         "India",
         "Male",
         "30",
         "blue",
         "15"
        ],
        [
         "Chandra",
         "India",
         "Male",
         "35",
         "white",
         "22"
        ],
        [
         "Seetha",
         "India",
         "Male",
         "45",
         "yellow",
         "32"
        ],
        [
         "Varun",
         "India",
         "Male",
         "32",
         null,
         "10"
        ]
       ],
       "datasetInfos": [],
       "dbfsResultPath": null,
       "isJsonSchema": true,
       "metadata": {},
       "overflow": false,
       "plotOptions": {
        "customPlotOptions": {},
        "displayType": "table",
        "pivotAggregation": null,
        "pivotColumns": null,
        "xColumns": null,
        "yColumns": null
       },
       "removedWidgets": [],
       "schema": [
        {
         "metadata": "{}",
         "name": "name",
         "type": "\"string\""
        },
        {
         "metadata": "{}",
         "name": "Country",
         "type": "\"string\""
        },
        {
         "metadata": "{}",
         "name": "Gender",
         "type": "\"string\""
        },
        {
         "metadata": "{}",
         "name": "age",
         "type": "\"string\""
        },
        {
         "metadata": "{}",
         "name": "eyeColor",
         "type": "\"string\""
        },
        {
         "metadata": "{}",
         "name": "height",
         "type": "\"string\""
        }
       ],
       "type": "table"
      }
     },
     "output_type": "display_data"
    }
   ],
   "source": [
    "# Pivot the DataFrame to have distinct keys as separate columns\n",
    "df_pivoted = df_exploded.groupBy(\"name\").pivot(\"key\").agg(first(\"value\"))\n",
    "display(df_pivoted)"
   ]
  },
  {
   "cell_type": "markdown",
   "metadata": {
    "application/vnd.databricks.v1+cell": {
     "cellMetadata": {},
     "inputWidgets": {},
     "nuid": "c0febe3f-3f68-4b6d-be17-d7da14060b92",
     "showTitle": false,
     "tableResultSettingsMap": {},
     "title": ""
    }
   },
   "source": [
    "#### **3) Handling Null Values**\n",
    "\n",
    "- Null values in the map can cause issues when trying to access map keys directly. To deal with nulls, you can use the `coalesce()` function in combination with `lit()` to provide a default value where necessary"
   ]
  },
  {
   "cell_type": "code",
   "execution_count": 0,
   "metadata": {
    "application/vnd.databricks.v1+cell": {
     "cellMetadata": {
      "byteLimit": 2048000,
      "rowLimit": 10000
     },
     "inputWidgets": {},
     "nuid": "017f1979-a17d-4c99-a753-7916351501ea",
     "showTitle": false,
     "tableResultSettingsMap": {},
     "title": ""
    }
   },
   "outputs": [
    {
     "output_type": "display_data",
     "data": {
      "text/html": [
       "<style scoped>\n",
       "  .table-result-container {\n",
       "    max-height: 300px;\n",
       "    overflow: auto;\n",
       "  }\n",
       "  table, th, td {\n",
       "    border: 1px solid black;\n",
       "    border-collapse: collapse;\n",
       "  }\n",
       "  th, td {\n",
       "    padding: 5px;\n",
       "  }\n",
       "  th {\n",
       "    text-align: left;\n",
       "  }\n",
       "</style><div class='table-result-container'><table class='table-result'><thead style='background-color: white'><tr><th>name</th><th>age</th><th>eyeColor</th></tr></thead><tbody><tr><td>Albert</td><td>25</td><td>blue</td></tr><tr><td>Bobby</td><td>30</td><td>unknown</td></tr><tr><td>Anand</td><td>28</td><td>black</td></tr><tr><td>Chandra</td><td>0</td><td>white</td></tr><tr><td>Seetha</td><td>45</td><td>yellow</td></tr><tr><td>Varun</td><td>32</td><td>unknown</td></tr><tr><td>Bobby</td><td>0</td><td>blue</td></tr><tr><td>Bobby</td><td>30</td><td>brown</td></tr><tr><td>Anand</td><td>0</td><td>unknown</td></tr><tr><td>Chandra</td><td>35</td><td>white</td></tr><tr><td>Seetha</td><td>45</td><td>yellow</td></tr><tr><td>Anand</td><td>32</td><td>unknown</td></tr></tbody></table></div>"
      ]
     },
     "metadata": {
      "application/vnd.databricks.v1+output": {
       "addedWidgets": {},
       "aggData": [],
       "aggError": "",
       "aggOverflow": false,
       "aggSchema": [],
       "aggSeriesLimitReached": false,
       "aggType": "",
       "arguments": {},
       "columnCustomDisplayInfos": {},
       "data": [
        [
         "Albert",
         "25",
         "blue"
        ],
        [
         "Bobby",
         "30",
         "unknown"
        ],
        [
         "Anand",
         "28",
         "black"
        ],
        [
         "Chandra",
         "0",
         "white"
        ],
        [
         "Seetha",
         "45",
         "yellow"
        ],
        [
         "Varun",
         "32",
         "unknown"
        ],
        [
         "Bobby",
         "0",
         "blue"
        ],
        [
         "Bobby",
         "30",
         "brown"
        ],
        [
         "Anand",
         "0",
         "unknown"
        ],
        [
         "Chandra",
         "35",
         "white"
        ],
        [
         "Seetha",
         "45",
         "yellow"
        ],
        [
         "Anand",
         "32",
         "unknown"
        ]
       ],
       "datasetInfos": [],
       "dbfsResultPath": null,
       "isJsonSchema": true,
       "metadata": {},
       "overflow": false,
       "plotOptions": {
        "customPlotOptions": {},
        "displayType": "table",
        "pivotAggregation": null,
        "pivotColumns": null,
        "xColumns": null,
        "yColumns": null
       },
       "removedWidgets": [],
       "schema": [
        {
         "metadata": "{}",
         "name": "name",
         "type": "\"string\""
        },
        {
         "metadata": "{}",
         "name": "age",
         "type": "\"string\""
        },
        {
         "metadata": "{}",
         "name": "eyeColor",
         "type": "\"string\""
        }
       ],
       "type": "table"
      }
     },
     "output_type": "display_data"
    }
   ],
   "source": [
    "from pyspark.sql.functions import coalesce, lit\n",
    "\n",
    "df_with_defaults = df.select(\n",
    "    \"name\",\n",
    "    coalesce(col(\"properties\")[\"age\"], lit(0)).alias(\"age\"),\n",
    "    coalesce(col(\"properties\")[\"eyeColor\"], lit(\"unknown\")).alias(\"eyeColor\")\n",
    ")\n",
    "\n",
    "display(df_with_defaults)"
   ]
  }
 ],
 "metadata": {
  "application/vnd.databricks.v1+notebook": {
   "computePreferences": null,
   "dashboards": [],
   "environmentMetadata": null,
   "inputWidgetPreferences": null,
   "language": "python",
   "notebookMetadata": {
    "pythonIndentUnit": 2
   },
   "notebookName": "76_How to Convert Map type to multiple columns",
   "widgets": {}
  }
 },
 "nbformat": 4,
 "nbformat_minor": 0
}