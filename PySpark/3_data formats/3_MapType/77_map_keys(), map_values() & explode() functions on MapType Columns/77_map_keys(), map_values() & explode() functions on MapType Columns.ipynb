{
 "cells": [
  {
   "cell_type": "code",
   "execution_count": 0,
   "metadata": {
    "application/vnd.databricks.v1+cell": {
     "cellMetadata": {
      "byteLimit": 2048000,
      "rowLimit": 10000
     },
     "inputWidgets": {},
     "nuid": "3987df7e-305a-4818-bdf3-a37167e2f8d1",
     "showTitle": false,
     "tableResultSettingsMap": {},
     "title": ""
    }
   },
   "outputs": [],
   "source": [
    "from pyspark.sql.types import StructField, StructType, StringType, MapType\n",
    "\n",
    "schema = StructType([\n",
    "    StructField('name', StringType(), True),\n",
    "    StructField('properties', MapType(StringType(), StringType()), True)\n",
    "])"
   ]
  },
  {
   "cell_type": "code",
   "execution_count": 0,
   "metadata": {
    "application/vnd.databricks.v1+cell": {
     "cellMetadata": {
      "byteLimit": 2048000,
      "rowLimit": 10000
     },
     "inputWidgets": {},
     "nuid": "c838b6a1-28e5-4af2-a3a0-b0027a564c11",
     "showTitle": false,
     "tableResultSettingsMap": {},
     "title": ""
    }
   },
   "outputs": [
    {
     "output_type": "stream",
     "name": "stdout",
     "output_type": "stream",
     "text": [
      "root\n |-- name: string (nullable = true)\n |-- properties: map (nullable = true)\n |    |-- key: string\n |    |-- value: string (valueContainsNull = true)\n\n"
     ]
    },
    {
     "output_type": "display_data",
     "data": {
      "text/html": [
       "<style scoped>\n",
       "  .table-result-container {\n",
       "    max-height: 300px;\n",
       "    overflow: auto;\n",
       "  }\n",
       "  table, th, td {\n",
       "    border: 1px solid black;\n",
       "    border-collapse: collapse;\n",
       "  }\n",
       "  th, td {\n",
       "    padding: 5px;\n",
       "  }\n",
       "  th {\n",
       "    text-align: left;\n",
       "  }\n",
       "</style><div class='table-result-container'><table class='table-result'><thead style='background-color: white'><tr><th>name</th><th>properties</th></tr></thead><tbody><tr><td>Ram</td><td>Map(eye -> blue, hair -> brown)</td></tr><tr><td>Shyam</td><td>Map(eye -> black, hair -> black)</td></tr><tr><td>Amit</td><td>Map(eye -> null, hair -> grey)</td></tr><tr><td>Aupam</td><td>Map(eye -> black, hair -> red)</td></tr><tr><td>Rahul</td><td>Map(eye -> grey, hair -> black)</td></tr></tbody></table></div>"
      ]
     },
     "metadata": {
      "application/vnd.databricks.v1+output": {
       "addedWidgets": {},
       "aggData": [],
       "aggError": "",
       "aggOverflow": false,
       "aggSchema": [],
       "aggSeriesLimitReached": false,
       "aggType": "",
       "arguments": {},
       "columnCustomDisplayInfos": {},
       "data": [
        [
         "Ram",
         {
          "eye": "blue",
          "hair": "brown"
         }
        ],
        [
         "Shyam",
         {
          "eye": "black",
          "hair": "black"
         }
        ],
        [
         "Amit",
         {
          "eye": null,
          "hair": "grey"
         }
        ],
        [
         "Aupam",
         {
          "eye": "black",
          "hair": "red"
         }
        ],
        [
         "Rahul",
         {
          "eye": "grey",
          "hair": "black"
         }
        ]
       ],
       "datasetInfos": [],
       "dbfsResultPath": null,
       "isJsonSchema": true,
       "metadata": {},
       "overflow": false,
       "plotOptions": {
        "customPlotOptions": {},
        "displayType": "table",
        "pivotAggregation": null,
        "pivotColumns": null,
        "xColumns": null,
        "yColumns": null
       },
       "removedWidgets": [],
       "schema": [
        {
         "metadata": "{}",
         "name": "name",
         "type": "\"string\""
        },
        {
         "metadata": "{}",
         "name": "properties",
         "type": "{\"type\":\"map\",\"keyType\":\"string\",\"valueType\":\"string\",\"valueContainsNull\":true}"
        }
       ],
       "type": "table"
      }
     },
     "output_type": "display_data"
    }
   ],
   "source": [
    "Data_Dictionary = [\n",
    "        ('Ram',{'hair':'brown','eye':'blue'}),\n",
    "        ('Shyam',{'hair':'black','eye':'black'}),\n",
    "        ('Amit',{'hair':'grey','eye':None}),\n",
    "        ('Aupam',{'hair':'red','eye':'black'}),\n",
    "        ('Rahul',{'hair':'black','eye':'grey'})\n",
    "        ]\n",
    "\n",
    "df_map = spark.createDataFrame(data = Data_Dictionary, schema = schema)\n",
    "df_map.printSchema()\n",
    "display(df_map)"
   ]
  },
  {
   "cell_type": "markdown",
   "metadata": {
    "application/vnd.databricks.v1+cell": {
     "cellMetadata": {
      "byteLimit": 2048000,
      "rowLimit": 10000
     },
     "inputWidgets": {},
     "nuid": "4c66f011-345f-4136-a956-d442d1b30056",
     "showTitle": false,
     "tableResultSettingsMap": {},
     "title": ""
    }
   },
   "source": [
    "#### **map_keys()**\n",
    "\n",
    "- Getting **keys and values** using **map_key** function"
   ]
  },
  {
   "cell_type": "markdown",
   "metadata": {
    "application/vnd.databricks.v1+cell": {
     "cellMetadata": {
      "byteLimit": 2048000,
      "rowLimit": 10000
     },
     "inputWidgets": {},
     "nuid": "989095c5-ce59-45c7-a3a0-42db0452adbe",
     "showTitle": false,
     "tableResultSettingsMap": {},
     "title": ""
    }
   },
   "source": [
    "**Syntax**\n",
    "\n",
    "     map_values(*column)"
   ]
  },
  {
   "cell_type": "code",
   "execution_count": 0,
   "metadata": {
    "application/vnd.databricks.v1+cell": {
     "cellMetadata": {
      "byteLimit": 2048000,
      "rowLimit": 10000
     },
     "inputWidgets": {},
     "nuid": "d9ebffc9-a9bd-40a2-b95b-1f64d2528a2f",
     "showTitle": false,
     "tableResultSettingsMap": {},
     "title": ""
    }
   },
   "outputs": [],
   "source": [
    "from pyspark.sql.functions import map_keys"
   ]
  },
  {
   "cell_type": "code",
   "execution_count": 0,
   "metadata": {
    "application/vnd.databricks.v1+cell": {
     "cellMetadata": {
      "byteLimit": 2048000,
      "rowLimit": 10000
     },
     "inputWidgets": {},
     "nuid": "b692dde4-fab9-422d-b90a-3d9229be8fe3",
     "showTitle": false,
     "tableResultSettingsMap": {},
     "title": ""
    }
   },
   "outputs": [
    {
     "output_type": "display_data",
     "data": {
      "text/html": [
       "<style scoped>\n",
       "  .table-result-container {\n",
       "    max-height: 300px;\n",
       "    overflow: auto;\n",
       "  }\n",
       "  table, th, td {\n",
       "    border: 1px solid black;\n",
       "    border-collapse: collapse;\n",
       "  }\n",
       "  th, td {\n",
       "    padding: 5px;\n",
       "  }\n",
       "  th {\n",
       "    text-align: left;\n",
       "  }\n",
       "</style><div class='table-result-container'><table class='table-result'><thead style='background-color: white'><tr><th>name</th><th>map_values</th></tr></thead><tbody><tr><td>Ram</td><td>List(eye, hair)</td></tr><tr><td>Shyam</td><td>List(eye, hair)</td></tr><tr><td>Amit</td><td>List(eye, hair)</td></tr><tr><td>Aupam</td><td>List(eye, hair)</td></tr><tr><td>Rahul</td><td>List(eye, hair)</td></tr></tbody></table></div>"
      ]
     },
     "metadata": {
      "application/vnd.databricks.v1+output": {
       "addedWidgets": {},
       "aggData": [],
       "aggError": "",
       "aggOverflow": false,
       "aggSchema": [],
       "aggSeriesLimitReached": false,
       "aggType": "",
       "arguments": {},
       "columnCustomDisplayInfos": {},
       "data": [
        [
         "Ram",
         [
          "eye",
          "hair"
         ]
        ],
        [
         "Shyam",
         [
          "eye",
          "hair"
         ]
        ],
        [
         "Amit",
         [
          "eye",
          "hair"
         ]
        ],
        [
         "Aupam",
         [
          "eye",
          "hair"
         ]
        ],
        [
         "Rahul",
         [
          "eye",
          "hair"
         ]
        ]
       ],
       "datasetInfos": [],
       "dbfsResultPath": null,
       "isJsonSchema": true,
       "metadata": {},
       "overflow": false,
       "plotOptions": {
        "customPlotOptions": {},
        "displayType": "table",
        "pivotAggregation": null,
        "pivotColumns": null,
        "xColumns": null,
        "yColumns": null
       },
       "removedWidgets": [],
       "schema": [
        {
         "metadata": "{}",
         "name": "name",
         "type": "\"string\""
        },
        {
         "metadata": "{}",
         "name": "map_values",
         "type": "{\"type\":\"array\",\"elementType\":\"string\",\"containsNull\":true}"
        }
       ],
       "type": "table"
      }
     },
     "output_type": "display_data"
    }
   ],
   "source": [
    "# To extract keys we can use map_key() \n",
    "display(df_map.select(df_map.name, map_keys(df_map.properties).alias('map_values')))"
   ]
  },
  {
   "cell_type": "code",
   "execution_count": 0,
   "metadata": {
    "application/vnd.databricks.v1+cell": {
     "cellMetadata": {
      "byteLimit": 2048000,
      "rowLimit": 10000
     },
     "inputWidgets": {},
     "nuid": "6fca5402-8aeb-46f7-925d-e0d3b13254a9",
     "showTitle": false,
     "tableResultSettingsMap": {},
     "title": ""
    }
   },
   "outputs": [
    {
     "output_type": "stream",
     "name": "stdout",
     "output_type": "stream",
     "text": [
      "+-----+-----------+\n| name| map_values|\n+-----+-----------+\n|  Ram|[eye, hair]|\n|Shyam|[eye, hair]|\n| Amit|[eye, hair]|\n|Aupam|[eye, hair]|\n|Rahul|[eye, hair]|\n+-----+-----------+\n\n"
     ]
    }
   ],
   "source": [
    "df_map.select(df_map.name, map_keys(df_map.properties).alias('map_values')).show()"
   ]
  },
  {
   "cell_type": "markdown",
   "metadata": {
    "application/vnd.databricks.v1+cell": {
     "cellMetadata": {
      "byteLimit": 2048000,
      "rowLimit": 10000
     },
     "inputWidgets": {},
     "nuid": "a360c4c1-fade-4592-ba4f-603911e07626",
     "showTitle": false,
     "tableResultSettingsMap": {},
     "title": ""
    }
   },
   "source": [
    "#### **map_values()**\n",
    "- Getting **keys and values** using **map_values**."
   ]
  },
  {
   "cell_type": "code",
   "execution_count": 0,
   "metadata": {
    "application/vnd.databricks.v1+cell": {
     "cellMetadata": {
      "byteLimit": 2048000,
      "rowLimit": 10000
     },
     "inputWidgets": {},
     "nuid": "a394c2c0-bdca-4c3a-82af-30e373a7b6dd",
     "showTitle": false,
     "tableResultSettingsMap": {},
     "title": ""
    }
   },
   "outputs": [
    {
     "output_type": "display_data",
     "data": {
      "text/html": [
       "<style scoped>\n",
       "  .table-result-container {\n",
       "    max-height: 300px;\n",
       "    overflow: auto;\n",
       "  }\n",
       "  table, th, td {\n",
       "    border: 1px solid black;\n",
       "    border-collapse: collapse;\n",
       "  }\n",
       "  th, td {\n",
       "    padding: 5px;\n",
       "  }\n",
       "  th {\n",
       "    text-align: left;\n",
       "  }\n",
       "</style><div class='table-result-container'><table class='table-result'><thead style='background-color: white'><tr><th>name</th><th>map_values</th></tr></thead><tbody><tr><td>Ram</td><td>List(blue, brown)</td></tr><tr><td>Shyam</td><td>List(black, black)</td></tr><tr><td>Amit</td><td>List(null, grey)</td></tr><tr><td>Aupam</td><td>List(black, red)</td></tr><tr><td>Rahul</td><td>List(grey, black)</td></tr></tbody></table></div>"
      ]
     },
     "metadata": {
      "application/vnd.databricks.v1+output": {
       "addedWidgets": {},
       "aggData": [],
       "aggError": "",
       "aggOverflow": false,
       "aggSchema": [],
       "aggSeriesLimitReached": false,
       "aggType": "",
       "arguments": {},
       "columnCustomDisplayInfos": {},
       "data": [
        [
         "Ram",
         [
          "blue",
          "brown"
         ]
        ],
        [
         "Shyam",
         [
          "black",
          "black"
         ]
        ],
        [
         "Amit",
         [
          null,
          "grey"
         ]
        ],
        [
         "Aupam",
         [
          "black",
          "red"
         ]
        ],
        [
         "Rahul",
         [
          "grey",
          "black"
         ]
        ]
       ],
       "datasetInfos": [],
       "dbfsResultPath": null,
       "isJsonSchema": true,
       "metadata": {},
       "overflow": false,
       "plotOptions": {
        "customPlotOptions": {},
        "displayType": "table",
        "pivotAggregation": null,
        "pivotColumns": null,
        "xColumns": null,
        "yColumns": null
       },
       "removedWidgets": [],
       "schema": [
        {
         "metadata": "{}",
         "name": "name",
         "type": "\"string\""
        },
        {
         "metadata": "{}",
         "name": "map_values",
         "type": "{\"type\":\"array\",\"elementType\":\"string\",\"containsNull\":true}"
        }
       ],
       "type": "table"
      }
     },
     "output_type": "display_data"
    }
   ],
   "source": [
    "from pyspark.sql.functions import map_values\n",
    "\n",
    "display(df_map.select(df_map.name, map_values(df_map.properties).alias('map_values')))"
   ]
  },
  {
   "cell_type": "code",
   "execution_count": 0,
   "metadata": {
    "application/vnd.databricks.v1+cell": {
     "cellMetadata": {
      "byteLimit": 2048000,
      "rowLimit": 10000
     },
     "inputWidgets": {},
     "nuid": "4ace3812-343c-48b5-8286-7644b0db9619",
     "showTitle": false,
     "tableResultSettingsMap": {},
     "title": ""
    }
   },
   "outputs": [
    {
     "output_type": "stream",
     "name": "stdout",
     "output_type": "stream",
     "text": [
      "+-----+--------------+\n| name|    map_values|\n+-----+--------------+\n|  Ram| [blue, brown]|\n|Shyam|[black, black]|\n| Amit|  [NULL, grey]|\n|Aupam|  [black, red]|\n|Rahul| [grey, black]|\n+-----+--------------+\n\n"
     ]
    }
   ],
   "source": [
    "df_map.select(df_map.name, map_values(df_map.properties).alias('map_values')).show()"
   ]
  },
  {
   "cell_type": "markdown",
   "metadata": {
    "application/vnd.databricks.v1+cell": {
     "cellMetadata": {
      "byteLimit": 2048000,
      "rowLimit": 10000
     },
     "inputWidgets": {},
     "nuid": "fe737d9f-2d0f-4569-b443-2dd361cd119e",
     "showTitle": false,
     "tableResultSettingsMap": {},
     "title": ""
    }
   },
   "source": [
    "#### **explode**\n",
    "\n",
    "- Getting the **keys and values** using **explode** function."
   ]
  },
  {
   "cell_type": "code",
   "execution_count": 0,
   "metadata": {
    "application/vnd.databricks.v1+cell": {
     "cellMetadata": {
      "byteLimit": 2048000,
      "rowLimit": 10000
     },
     "inputWidgets": {},
     "nuid": "d371b440-3598-46bb-8f15-186a1682c5d4",
     "showTitle": false,
     "tableResultSettingsMap": {},
     "title": ""
    }
   },
   "outputs": [
    {
     "output_type": "display_data",
     "data": {
      "text/html": [
       "<style scoped>\n",
       "  .table-result-container {\n",
       "    max-height: 300px;\n",
       "    overflow: auto;\n",
       "  }\n",
       "  table, th, td {\n",
       "    border: 1px solid black;\n",
       "    border-collapse: collapse;\n",
       "  }\n",
       "  th, td {\n",
       "    padding: 5px;\n",
       "  }\n",
       "  th {\n",
       "    text-align: left;\n",
       "  }\n",
       "</style><div class='table-result-container'><table class='table-result'><thead style='background-color: white'><tr><th>name</th><th>key</th><th>value</th></tr></thead><tbody><tr><td>Ram</td><td>eye</td><td>blue</td></tr><tr><td>Ram</td><td>hair</td><td>brown</td></tr><tr><td>Shyam</td><td>eye</td><td>black</td></tr><tr><td>Shyam</td><td>hair</td><td>black</td></tr><tr><td>Amit</td><td>eye</td><td>null</td></tr><tr><td>Amit</td><td>hair</td><td>grey</td></tr><tr><td>Aupam</td><td>eye</td><td>black</td></tr><tr><td>Aupam</td><td>hair</td><td>red</td></tr><tr><td>Rahul</td><td>eye</td><td>grey</td></tr><tr><td>Rahul</td><td>hair</td><td>black</td></tr></tbody></table></div>"
      ]
     },
     "metadata": {
      "application/vnd.databricks.v1+output": {
       "addedWidgets": {},
       "aggData": [],
       "aggError": "",
       "aggOverflow": false,
       "aggSchema": [],
       "aggSeriesLimitReached": false,
       "aggType": "",
       "arguments": {},
       "columnCustomDisplayInfos": {},
       "data": [
        [
         "Ram",
         "eye",
         "blue"
        ],
        [
         "Ram",
         "hair",
         "brown"
        ],
        [
         "Shyam",
         "eye",
         "black"
        ],
        [
         "Shyam",
         "hair",
         "black"
        ],
        [
         "Amit",
         "eye",
         null
        ],
        [
         "Amit",
         "hair",
         "grey"
        ],
        [
         "Aupam",
         "eye",
         "black"
        ],
        [
         "Aupam",
         "hair",
         "red"
        ],
        [
         "Rahul",
         "eye",
         "grey"
        ],
        [
         "Rahul",
         "hair",
         "black"
        ]
       ],
       "datasetInfos": [],
       "dbfsResultPath": null,
       "isJsonSchema": true,
       "metadata": {},
       "overflow": false,
       "plotOptions": {
        "customPlotOptions": {},
        "displayType": "table",
        "pivotAggregation": null,
        "pivotColumns": null,
        "xColumns": null,
        "yColumns": null
       },
       "removedWidgets": [],
       "schema": [
        {
         "metadata": "{}",
         "name": "name",
         "type": "\"string\""
        },
        {
         "metadata": "{}",
         "name": "key",
         "type": "\"string\""
        },
        {
         "metadata": "{}",
         "name": "value",
         "type": "\"string\""
        }
       ],
       "type": "table"
      }
     },
     "output_type": "display_data"
    }
   ],
   "source": [
    "from pyspark.sql.functions import explode\n",
    "\n",
    "display(df_map.select(df_map.name, explode(df_map.properties)))"
   ]
  },
  {
   "cell_type": "markdown",
   "metadata": {
    "application/vnd.databricks.v1+cell": {
     "cellMetadata": {
      "byteLimit": 2048000,
      "rowLimit": 10000
     },
     "inputWidgets": {},
     "nuid": "1440efa1-d077-4d09-ab01-3e880d66afba",
     "showTitle": false,
     "tableResultSettingsMap": {},
     "title": ""
    }
   },
   "source": [
    "- Getting **all the keys** MapType using **Explode** function."
   ]
  },
  {
   "cell_type": "code",
   "execution_count": 0,
   "metadata": {
    "application/vnd.databricks.v1+cell": {
     "cellMetadata": {
      "byteLimit": 2048000,
      "rowLimit": 10000
     },
     "inputWidgets": {},
     "nuid": "2c05d97e-3170-41b6-92cf-3d80fe16549b",
     "showTitle": false,
     "tableResultSettingsMap": {},
     "title": ""
    }
   },
   "outputs": [
    {
     "output_type": "stream",
     "name": "stdout",
     "output_type": "stream",
     "text": [
      "['eye', 'hair']\n"
     ]
    }
   ],
   "source": [
    "keysDF = df_map.select(explode(map_keys(df_map.properties))).distinct()\n",
    "keysList = keysDF.rdd.map(lambda x:x[0]).collect()\n",
    "print(keysList)"
   ]
  },
  {
   "cell_type": "markdown",
   "metadata": {
    "application/vnd.databricks.v1+cell": {
     "cellMetadata": {
      "byteLimit": 2048000,
      "rowLimit": 10000
     },
     "inputWidgets": {},
     "nuid": "fb3633ef-c1c4-4525-a187-5975e7604615",
     "showTitle": false,
     "tableResultSettingsMap": {},
     "title": ""
    }
   },
   "source": [
    "**How to get unique values from a MapType column**"
   ]
  },
  {
   "cell_type": "code",
   "execution_count": 0,
   "metadata": {
    "application/vnd.databricks.v1+cell": {
     "cellMetadata": {
      "byteLimit": 2048000,
      "rowLimit": 10000
     },
     "inputWidgets": {},
     "nuid": "d538b51c-2606-44c7-8669-258e51ab66de",
     "showTitle": false,
     "tableResultSettingsMap": {},
     "title": ""
    }
   },
   "outputs": [
    {
     "output_type": "display_data",
     "data": {
      "text/html": [
       "<style scoped>\n",
       "  .table-result-container {\n",
       "    max-height: 300px;\n",
       "    overflow: auto;\n",
       "  }\n",
       "  table, th, td {\n",
       "    border: 1px solid black;\n",
       "    border-collapse: collapse;\n",
       "  }\n",
       "  th, td {\n",
       "    padding: 5px;\n",
       "  }\n",
       "  th {\n",
       "    text-align: left;\n",
       "  }\n",
       "</style><div class='table-result-container'><table class='table-result'><thead style='background-color: white'><tr><th>name</th><th>key</th><th>value</th></tr></thead><tbody><tr><td>Ram</td><td>hair</td><td>brown</td></tr><tr><td>Ram</td><td>eye</td><td>blue</td></tr><tr><td>Shyam</td><td>eye</td><td>black</td></tr><tr><td>Shyam</td><td>hair</td><td>black</td></tr><tr><td>Amit</td><td>hair</td><td>grey</td></tr><tr><td>Aupam</td><td>eye</td><td>black</td></tr><tr><td>Aupam</td><td>hair</td><td>red</td></tr><tr><td>Rahul</td><td>hair</td><td>black</td></tr><tr><td>Rahul</td><td>eye</td><td>grey</td></tr></tbody></table></div>"
      ]
     },
     "metadata": {
      "application/vnd.databricks.v1+output": {
       "addedWidgets": {},
       "aggData": [],
       "aggError": "",
       "aggOverflow": false,
       "aggSchema": [],
       "aggSeriesLimitReached": false,
       "aggType": "",
       "arguments": {},
       "columnCustomDisplayInfos": {},
       "data": [
        [
         "Ram",
         "hair",
         "brown"
        ],
        [
         "Ram",
         "eye",
         "blue"
        ],
        [
         "Shyam",
         "eye",
         "black"
        ],
        [
         "Shyam",
         "hair",
         "black"
        ],
        [
         "Amit",
         "hair",
         "grey"
        ],
        [
         "Aupam",
         "eye",
         "black"
        ],
        [
         "Aupam",
         "hair",
         "red"
        ],
        [
         "Rahul",
         "hair",
         "black"
        ],
        [
         "Rahul",
         "eye",
         "grey"
        ]
       ],
       "datasetInfos": [],
       "dbfsResultPath": null,
       "isJsonSchema": true,
       "metadata": {},
       "overflow": false,
       "plotOptions": {
        "customPlotOptions": {},
        "displayType": "table",
        "pivotAggregation": null,
        "pivotColumns": null,
        "xColumns": null,
        "yColumns": null
       },
       "removedWidgets": [],
       "schema": [
        {
         "metadata": "{}",
         "name": "name",
         "type": "\"string\""
        },
        {
         "metadata": "{}",
         "name": "key",
         "type": "\"string\""
        },
        {
         "metadata": "{}",
         "name": "value",
         "type": "\"string\""
        }
       ],
       "type": "table"
      }
     },
     "output_type": "display_data"
    }
   ],
   "source": [
    "# Unique keys\n",
    "unique_values_df = df_map.select(df_map.name, explode(df_map.properties).alias(\"key\", \"value\")).distinct()\\\n",
    "                         .filter(\"value IS NOT NULL\")\n",
    "display(unique_values_df)"
   ]
  },
  {
   "cell_type": "code",
   "execution_count": 0,
   "metadata": {
    "application/vnd.databricks.v1+cell": {
     "cellMetadata": {
      "byteLimit": 2048000,
      "rowLimit": 10000
     },
     "inputWidgets": {},
     "nuid": "4c52f746-05f0-41f6-896c-eecad6654629",
     "showTitle": false,
     "tableResultSettingsMap": {},
     "title": ""
    }
   },
   "outputs": [
    {
     "output_type": "stream",
     "name": "stdout",
     "output_type": "stream",
     "text": [
      "[]\n"
     ]
    }
   ],
   "source": [
    "# Collecting all the numeric value out of all values\n",
    "unique_values_list = [record.value for record in unique_values_df.rdd.collect() if record.value.isnumeric()]\n",
    "print(unique_values_list)"
   ]
  }
 ],
 "metadata": {
  "application/vnd.databricks.v1+notebook": {
   "computePreferences": null,
   "dashboards": [],
   "environmentMetadata": null,
   "inputWidgetPreferences": null,
   "language": "python",
   "notebookMetadata": {
    "pythonIndentUnit": 2
   },
   "notebookName": "77_map_keys(), map_values() & explode() functions on MapType Columns",
   "widgets": {}
  }
 },
 "nbformat": 4,
 "nbformat_minor": 0
}