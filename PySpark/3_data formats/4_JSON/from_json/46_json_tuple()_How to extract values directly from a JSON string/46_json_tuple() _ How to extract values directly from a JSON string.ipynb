{
 "cells": [
  {
   "cell_type": "markdown",
   "metadata": {
    "application/vnd.databricks.v1+cell": {
     "cellMetadata": {},
     "inputWidgets": {},
     "nuid": "c4431831-1f71-45f2-9fb8-d91724fbf43b",
     "showTitle": false,
     "tableResultSettingsMap": {},
     "title": ""
    }
   },
   "source": [
    "##### json_tuple\n",
    "- To **extract values** directly from a **JSON string** column **without converting** it into a **variant**.\n",
    "- If you want to **extract multiple fields / separate columns** from a **flat JSON string**.\n",
    "- It only works for **top-level fields (not nested JSON)**.\n",
    "- It always returns **strings**, no matter the **original type**.\n",
    "- All extracted fields are **strings** (you can **cast** later).\n",
    "- It’s **schema-less** (you don’t need to define a schema).\n",
    "\n",
    "**Limitation:**\n",
    "- Can’t parse **nested JSON** like **address.city**.\n",
    "- For that → use **get_json_object, parse_json, or from_json**."
   ]
  },
  {
   "cell_type": "markdown",
   "metadata": {
    "application/vnd.databricks.v1+cell": {
     "cellMetadata": {},
     "inputWidgets": {},
     "nuid": "3032204b-51a7-4b3e-a16f-5a93206cef08",
     "showTitle": false,
     "tableResultSettingsMap": {},
     "title": ""
    }
   },
   "source": [
    "#### Syntax\n",
    "\n",
    "     json_tuple(column, field1, field2, ..., fieldN)\n",
    "\n",
    "**column:**\n",
    "- The **column** that contains the **JSON string**.\n",
    "\n",
    "**field1 ... fieldN:**\n",
    "- The JSON **keys** you want to **extract**.\n",
    "\n",
    "**Returns:**\n",
    "- **multiple string columns** (all extracted values are strings)."
   ]
  },
  {
   "cell_type": "code",
   "execution_count": 0,
   "metadata": {
    "application/vnd.databricks.v1+cell": {
     "cellMetadata": {
      "byteLimit": 2048000,
      "rowLimit": 10000
     },
     "inputWidgets": {},
     "nuid": "ebe8e76a-fbce-4482-af7e-0c0a7019a35a",
     "showTitle": false,
     "tableResultSettingsMap": {},
     "title": ""
    }
   },
   "outputs": [],
   "source": [
    "from pyspark.sql.functions import col, json_tuple"
   ]
  },
  {
   "cell_type": "code",
   "execution_count": 0,
   "metadata": {
    "application/vnd.databricks.v1+cell": {
     "cellMetadata": {
      "byteLimit": 2048000,
      "rowLimit": 10000
     },
     "inputWidgets": {},
     "nuid": "0395404e-f82f-4fa9-be2a-23aa2c43992c",
     "showTitle": false,
     "tableResultSettingsMap": {},
     "title": ""
    }
   },
   "outputs": [
    {
     "output_type": "stream",
     "name": "stdout",
     "output_type": "stream",
     "text": [
      "Help on function json_tuple in module pyspark.sql.functions.builtin:\n\njson_tuple(col: 'ColumnOrName', *fields: str) -> pyspark.sql.column.Column\n    Creates a new row for a json column according to the given field names.\n\n    .. versionadded:: 1.6.0\n\n    .. versionchanged:: 3.4.0\n        Supports Spark Connect.\n\n    Parameters\n    ----------\n    col : :class:`~pyspark.sql.Column` or str\n        string column in json format\n    fields : str\n        a field or fields to extract\n\n    Returns\n    -------\n    :class:`~pyspark.sql.Column`\n        a new row for each given field value from json object\n\n    Examples\n    --------\n    >>> data = [(\"1\", '''{\"f1\": \"value1\", \"f2\": \"value2\"}'''), (\"2\", '''{\"f1\": \"value12\"}''')]\n    >>> df = spark.createDataFrame(data, (\"key\", \"jstring\"))\n    >>> df.select(df.key, json_tuple(df.jstring, 'f1', 'f2')).collect()\n    [Row(key='1', c0='value1', c1='value2'), Row(key='2', c0='value12', c1=None)]\n\n"
     ]
    }
   ],
   "source": [
    "help(json_tuple)"
   ]
  },
  {
   "cell_type": "markdown",
   "metadata": {
    "application/vnd.databricks.v1+cell": {
     "cellMetadata": {},
     "inputWidgets": {},
     "nuid": "82ee1d1e-5156-4795-a488-2311ed764622",
     "showTitle": false,
     "tableResultSettingsMap": {},
     "title": ""
    }
   },
   "source": [
    "##### 1) Simple JSON"
   ]
  },
  {
   "cell_type": "code",
   "execution_count": 0,
   "metadata": {
    "application/vnd.databricks.v1+cell": {
     "cellMetadata": {
      "byteLimit": 2048000,
      "rowLimit": 10000
     },
     "inputWidgets": {},
     "nuid": "02a5bf49-b92b-4189-95c0-45deccebce25",
     "showTitle": false,
     "tableResultSettingsMap": {
      "0": {
       "dataGridStateBlob": "{\"version\":1,\"tableState\":{\"columnPinning\":{\"left\":[\"#row_number#\"],\"right\":[]},\"columnSizing\":{\"json_string\":410},\"columnVisibility\":{}},\"settings\":{\"columns\":{}},\"syncTimestamp\":1756697143417}",
       "filterBlob": null,
       "queryPlanFiltersBlob": null,
       "tableResultIndex": 0
      }
     },
     "title": ""
    }
   },
   "outputs": [
    {
     "output_type": "display_data",
     "data": {
      "text/html": [
       "<style scoped>\n",
       "  .table-result-container {\n",
       "    max-height: 300px;\n",
       "    overflow: auto;\n",
       "  }\n",
       "  table, th, td {\n",
       "    border: 1px solid black;\n",
       "    border-collapse: collapse;\n",
       "  }\n",
       "  th, td {\n",
       "    padding: 5px;\n",
       "  }\n",
       "  th {\n",
       "    text-align: left;\n",
       "  }\n",
       "</style><div class='table-result-container'><table class='table-result'><thead style='background-color: white'><tr><th>json_string</th><th>Id</th><th>Name</th><th>Age</th><th>City</th><th>Price</th></tr></thead><tbody><tr><td>{\"id\": 101, \"name\": \"Subash\", \"age\": 28, \"city\": \"Bangalore\", \"price\": 55000}</td><td>101</td><td>Subash</td><td>28</td><td>Bangalore</td><td>55000</td></tr><tr><td>{\"id\": 102, \"name\": \"Dinesh\", \"age\": 32, \"city\": \"Chennai\", \"price\": 25000}</td><td>102</td><td>Dinesh</td><td>32</td><td>Chennai</td><td>25000</td></tr><tr><td>{\"id\": 103, \"name\": \"Fathima\", \"age\": 29, \"city\": \"Nasik\", \"price\": 35000}</td><td>103</td><td>Fathima</td><td>29</td><td>Nasik</td><td>35000</td></tr><tr><td>{\"id\": 104, \"name\": \"Gopesh\", \"age\": 35, \"city\": \"Vizak\", \"price\": 45000}</td><td>104</td><td>Gopesh</td><td>35</td><td>Vizak</td><td>45000</td></tr><tr><td>{\"id\": 105, \"name\": \"Sreeni\", \"age\": 26, \"city\": \"Hyderabad\", \"price\": 26600}</td><td>105</td><td>Sreeni</td><td>26</td><td>Hyderabad</td><td>26600</td></tr><tr><td>{\"id\": 106, \"name\": \"Anitha\", \"age\": 33, \"city\": \"Salem\", \"price\": 34400}</td><td>106</td><td>Anitha</td><td>33</td><td>Salem</td><td>34400</td></tr></tbody></table></div>"
      ]
     },
     "metadata": {
      "application/vnd.databricks.v1+output": {
       "addedWidgets": {},
       "aggData": [],
       "aggError": "",
       "aggOverflow": false,
       "aggSchema": [],
       "aggSeriesLimitReached": false,
       "aggType": "",
       "arguments": {},
       "columnCustomDisplayInfos": {},
       "data": [
        [
         "{\"id\": 101, \"name\": \"Subash\", \"age\": 28, \"city\": \"Bangalore\", \"price\": 55000}",
         "101",
         "Subash",
         "28",
         "Bangalore",
         "55000"
        ],
        [
         "{\"id\": 102, \"name\": \"Dinesh\", \"age\": 32, \"city\": \"Chennai\", \"price\": 25000}",
         "102",
         "Dinesh",
         "32",
         "Chennai",
         "25000"
        ],
        [
         "{\"id\": 103, \"name\": \"Fathima\", \"age\": 29, \"city\": \"Nasik\", \"price\": 35000}",
         "103",
         "Fathima",
         "29",
         "Nasik",
         "35000"
        ],
        [
         "{\"id\": 104, \"name\": \"Gopesh\", \"age\": 35, \"city\": \"Vizak\", \"price\": 45000}",
         "104",
         "Gopesh",
         "35",
         "Vizak",
         "45000"
        ],
        [
         "{\"id\": 105, \"name\": \"Sreeni\", \"age\": 26, \"city\": \"Hyderabad\", \"price\": 26600}",
         "105",
         "Sreeni",
         "26",
         "Hyderabad",
         "26600"
        ],
        [
         "{\"id\": 106, \"name\": \"Anitha\", \"age\": 33, \"city\": \"Salem\", \"price\": 34400}",
         "106",
         "Anitha",
         "33",
         "Salem",
         "34400"
        ]
       ],
       "datasetInfos": [],
       "dbfsResultPath": null,
       "isJsonSchema": true,
       "metadata": {},
       "overflow": false,
       "plotOptions": {
        "customPlotOptions": {},
        "displayType": "table",
        "pivotAggregation": null,
        "pivotColumns": null,
        "xColumns": null,
        "yColumns": null
       },
       "removedWidgets": [],
       "schema": [
        {
         "metadata": "{}",
         "name": "json_string",
         "type": "\"string\""
        },
        {
         "metadata": "{}",
         "name": "Id",
         "type": "\"string\""
        },
        {
         "metadata": "{}",
         "name": "Name",
         "type": "\"string\""
        },
        {
         "metadata": "{}",
         "name": "Age",
         "type": "\"string\""
        },
        {
         "metadata": "{}",
         "name": "City",
         "type": "\"string\""
        },
        {
         "metadata": "{}",
         "name": "Price",
         "type": "\"string\""
        }
       ],
       "type": "table"
      }
     },
     "output_type": "display_data"
    }
   ],
   "source": [
    "data = [\n",
    "    ('{\"id\": 101, \"name\": \"Subash\", \"age\": 28, \"city\": \"Bangalore\", \"price\": 55000}',),\n",
    "    ('{\"id\": 102, \"name\": \"Dinesh\", \"age\": 32, \"city\": \"Chennai\", \"price\": 25000}',),\n",
    "    ('{\"id\": 103, \"name\": \"Fathima\", \"age\": 29, \"city\": \"Nasik\", \"price\": 35000}',),\n",
    "    ('{\"id\": 104, \"name\": \"Gopesh\", \"age\": 35, \"city\": \"Vizak\", \"price\": 45000}',),\n",
    "    ('{\"id\": 105, \"name\": \"Sreeni\", \"age\": 26, \"city\": \"Hyderabad\", \"price\": 26600}',),\n",
    "    ('{\"id\": 106, \"name\": \"Anitha\", \"age\": 33, \"city\": \"Salem\", \"price\": 34400}',)\n",
    "]\n",
    "\n",
    "df = spark.createDataFrame(data, [\"json_string\"])\n",
    "\n",
    "# Extract multiple fields\n",
    "df_extracted = df.select('json_string',\n",
    "    json_tuple(\"json_string\", \"id\" ,\"name\", \"age\", \"city\", \"price\").alias(\"Id\", \"Name\", \"Age\", \"City\", \"Price\")\n",
    ")\n",
    "\n",
    "df_extracted.display()"
   ]
  },
  {
   "cell_type": "code",
   "execution_count": 0,
   "metadata": {
    "application/vnd.databricks.v1+cell": {
     "cellMetadata": {
      "byteLimit": 2048000,
      "rowLimit": 10000
     },
     "inputWidgets": {},
     "nuid": "28ff95f5-5433-47d6-960a-cbac5769856c",
     "showTitle": true,
     "tableResultSettingsMap": {
      "0": {
       "dataGridStateBlob": "{\"version\":1,\"tableState\":{\"columnPinning\":{\"left\":[\"#row_number#\"],\"right\":[]},\"columnSizing\":{\"json_string\":403},\"columnVisibility\":{}},\"settings\":{\"columns\":{}},\"syncTimestamp\":1756697412542}",
       "filterBlob": null,
       "queryPlanFiltersBlob": null,
       "tableResultIndex": 0
      }
     },
     "title": "Convert data type: string to int"
    }
   },
   "outputs": [
    {
     "output_type": "display_data",
     "data": {
      "text/html": [
       "<style scoped>\n",
       "  .table-result-container {\n",
       "    max-height: 300px;\n",
       "    overflow: auto;\n",
       "  }\n",
       "  table, th, td {\n",
       "    border: 1px solid black;\n",
       "    border-collapse: collapse;\n",
       "  }\n",
       "  th, td {\n",
       "    padding: 5px;\n",
       "  }\n",
       "  th {\n",
       "    text-align: left;\n",
       "  }\n",
       "</style><div class='table-result-container'><table class='table-result'><thead style='background-color: white'><tr><th>json_string</th><th>ID</th><th>Name</th><th>AGE</th><th>City</th><th>Price</th></tr></thead><tbody><tr><td>{\"id\": 101, \"name\": \"Subash\", \"age\": 28, \"city\": \"Bangalore\", \"price\": 55000}</td><td>101</td><td>Subash</td><td>28</td><td>Bangalore</td><td>55000</td></tr><tr><td>{\"id\": 102, \"name\": \"Dinesh\", \"age\": 32, \"city\": \"Chennai\", \"price\": 25000}</td><td>102</td><td>Dinesh</td><td>32</td><td>Chennai</td><td>25000</td></tr><tr><td>{\"id\": 103, \"name\": \"Fathima\", \"age\": 29, \"city\": \"Nasik\", \"price\": 35000}</td><td>103</td><td>Fathima</td><td>29</td><td>Nasik</td><td>35000</td></tr><tr><td>{\"id\": 104, \"name\": \"Gopesh\", \"age\": 35, \"city\": \"Vizak\", \"price\": 45000}</td><td>104</td><td>Gopesh</td><td>35</td><td>Vizak</td><td>45000</td></tr><tr><td>{\"id\": 105, \"name\": \"Sreeni\", \"age\": 26, \"city\": \"Hyderabad\", \"price\": 26600}</td><td>105</td><td>Sreeni</td><td>26</td><td>Hyderabad</td><td>26600</td></tr><tr><td>{\"id\": 106, \"name\": \"Anitha\", \"age\": 33, \"city\": \"Salem\", \"price\": 34400}</td><td>106</td><td>Anitha</td><td>33</td><td>Salem</td><td>34400</td></tr></tbody></table></div>"
      ]
     },
     "metadata": {
      "application/vnd.databricks.v1+output": {
       "addedWidgets": {},
       "aggData": [],
       "aggError": "",
       "aggOverflow": false,
       "aggSchema": [],
       "aggSeriesLimitReached": false,
       "aggType": "",
       "arguments": {},
       "columnCustomDisplayInfos": {},
       "data": [
        [
         "{\"id\": 101, \"name\": \"Subash\", \"age\": 28, \"city\": \"Bangalore\", \"price\": 55000}",
         101,
         "Subash",
         28,
         "Bangalore",
         55000
        ],
        [
         "{\"id\": 102, \"name\": \"Dinesh\", \"age\": 32, \"city\": \"Chennai\", \"price\": 25000}",
         102,
         "Dinesh",
         32,
         "Chennai",
         25000
        ],
        [
         "{\"id\": 103, \"name\": \"Fathima\", \"age\": 29, \"city\": \"Nasik\", \"price\": 35000}",
         103,
         "Fathima",
         29,
         "Nasik",
         35000
        ],
        [
         "{\"id\": 104, \"name\": \"Gopesh\", \"age\": 35, \"city\": \"Vizak\", \"price\": 45000}",
         104,
         "Gopesh",
         35,
         "Vizak",
         45000
        ],
        [
         "{\"id\": 105, \"name\": \"Sreeni\", \"age\": 26, \"city\": \"Hyderabad\", \"price\": 26600}",
         105,
         "Sreeni",
         26,
         "Hyderabad",
         26600
        ],
        [
         "{\"id\": 106, \"name\": \"Anitha\", \"age\": 33, \"city\": \"Salem\", \"price\": 34400}",
         106,
         "Anitha",
         33,
         "Salem",
         34400
        ]
       ],
       "datasetInfos": [],
       "dbfsResultPath": null,
       "isJsonSchema": true,
       "metadata": {},
       "overflow": false,
       "plotOptions": {
        "customPlotOptions": {},
        "displayType": "table",
        "pivotAggregation": null,
        "pivotColumns": null,
        "xColumns": null,
        "yColumns": null
       },
       "removedWidgets": [],
       "schema": [
        {
         "metadata": "{}",
         "name": "json_string",
         "type": "\"string\""
        },
        {
         "metadata": "{}",
         "name": "ID",
         "type": "\"integer\""
        },
        {
         "metadata": "{}",
         "name": "Name",
         "type": "\"string\""
        },
        {
         "metadata": "{}",
         "name": "AGE",
         "type": "\"integer\""
        },
        {
         "metadata": "{}",
         "name": "City",
         "type": "\"string\""
        },
        {
         "metadata": "{}",
         "name": "Price",
         "type": "\"integer\""
        }
       ],
       "type": "table"
      }
     },
     "output_type": "display_data"
    }
   ],
   "source": [
    "df_cast = df_extracted\\\n",
    "    .withColumn(\"ID\", col(\"id\").cast(\"int\")) \\\n",
    "    .withColumn(\"AGE\", col(\"age\").cast(\"int\")) \\\n",
    "    .withColumn(\"Price\", col(\"Price\").cast(\"int\"))\n",
    "\n",
    "df_cast.display()"
   ]
  },
  {
   "cell_type": "code",
   "execution_count": 0,
   "metadata": {
    "application/vnd.databricks.v1+cell": {
     "cellMetadata": {
      "byteLimit": 2048000,
      "rowLimit": 10000
     },
     "inputWidgets": {},
     "nuid": "ff1c7c0f-84f5-40fb-b3af-9bcff1418cbf",
     "showTitle": true,
     "tableResultSettingsMap": {
      "0": {
       "dataGridStateBlob": "{\"version\":1,\"tableState\":{\"columnPinning\":{\"left\":[\"#row_number#\"],\"right\":[]},\"columnSizing\":{},\"columnVisibility\":{}},\"settings\":{\"columns\":{}},\"syncTimestamp\":1756697168797}",
       "filterBlob": null,
       "queryPlanFiltersBlob": null,
       "tableResultIndex": 0
      }
     },
     "title": "Capitalize Columns"
    }
   },
   "outputs": [
    {
     "output_type": "display_data",
     "data": {
      "text/html": [
       "<style scoped>\n",
       "  .table-result-container {\n",
       "    max-height: 300px;\n",
       "    overflow: auto;\n",
       "  }\n",
       "  table, th, td {\n",
       "    border: 1px solid black;\n",
       "    border-collapse: collapse;\n",
       "  }\n",
       "  th, td {\n",
       "    padding: 5px;\n",
       "  }\n",
       "  th {\n",
       "    text-align: left;\n",
       "  }\n",
       "</style><div class='table-result-container'><table class='table-result'><thead style='background-color: white'><tr><th>Id</th><th>Name</th><th>Age</th><th>City</th><th>Price</th></tr></thead><tbody><tr><td>101</td><td>Subash</td><td>28</td><td>Bangalore</td><td>55000</td></tr><tr><td>102</td><td>Dinesh</td><td>32</td><td>Chennai</td><td>25000</td></tr><tr><td>103</td><td>Fathima</td><td>29</td><td>Nasik</td><td>35000</td></tr><tr><td>104</td><td>Gopesh</td><td>35</td><td>Vizak</td><td>45000</td></tr><tr><td>105</td><td>Sreeni</td><td>26</td><td>Hyderabad</td><td>26600</td></tr><tr><td>106</td><td>Anitha</td><td>33</td><td>Salem</td><td>34400</td></tr></tbody></table></div>"
      ]
     },
     "metadata": {
      "application/vnd.databricks.v1+output": {
       "addedWidgets": {},
       "aggData": [],
       "aggError": "",
       "aggOverflow": false,
       "aggSchema": [],
       "aggSeriesLimitReached": false,
       "aggType": "",
       "arguments": {},
       "columnCustomDisplayInfos": {},
       "data": [
        [
         "101",
         "Subash",
         "28",
         "Bangalore",
         "55000"
        ],
        [
         "102",
         "Dinesh",
         "32",
         "Chennai",
         "25000"
        ],
        [
         "103",
         "Fathima",
         "29",
         "Nasik",
         "35000"
        ],
        [
         "104",
         "Gopesh",
         "35",
         "Vizak",
         "45000"
        ],
        [
         "105",
         "Sreeni",
         "26",
         "Hyderabad",
         "26600"
        ],
        [
         "106",
         "Anitha",
         "33",
         "Salem",
         "34400"
        ]
       ],
       "datasetInfos": [],
       "dbfsResultPath": null,
       "isJsonSchema": true,
       "metadata": {},
       "overflow": false,
       "plotOptions": {
        "customPlotOptions": {},
        "displayType": "table",
        "pivotAggregation": null,
        "pivotColumns": null,
        "xColumns": null,
        "yColumns": null
       },
       "removedWidgets": [],
       "schema": [
        {
         "metadata": "{}",
         "name": "Id",
         "type": "\"string\""
        },
        {
         "metadata": "{}",
         "name": "Name",
         "type": "\"string\""
        },
        {
         "metadata": "{}",
         "name": "Age",
         "type": "\"string\""
        },
        {
         "metadata": "{}",
         "name": "City",
         "type": "\"string\""
        },
        {
         "metadata": "{}",
         "name": "Price",
         "type": "\"string\""
        }
       ],
       "type": "table"
      }
     },
     "output_type": "display_data"
    }
   ],
   "source": [
    "cols = [\"id\", \"name\", \"age\", \"city\", \"price\"]\n",
    "\n",
    "df_ext_iter = df.select(\n",
    "    json_tuple(\"json_string\", *cols).alias(*[c.capitalize() for c in cols])\n",
    ")\n",
    "\n",
    "df_ext_iter.display()"
   ]
  },
  {
   "cell_type": "markdown",
   "metadata": {
    "application/vnd.databricks.v1+cell": {
     "cellMetadata": {},
     "inputWidgets": {},
     "nuid": "332cf6bd-3ecb-41e0-bfa8-785d95b97589",
     "showTitle": false,
     "tableResultSettingsMap": {},
     "title": ""
    }
   },
   "source": [
    "##### 2) Nested JSON"
   ]
  },
  {
   "cell_type": "code",
   "execution_count": 0,
   "metadata": {
    "application/vnd.databricks.v1+cell": {
     "cellMetadata": {
      "byteLimit": 2048000,
      "rowLimit": 10000
     },
     "inputWidgets": {},
     "nuid": "069134ed-8357-4600-bd8d-e4aa2cef4948",
     "showTitle": false,
     "tableResultSettingsMap": {
      "0": {
       "dataGridStateBlob": "{\"version\":1,\"tableState\":{\"columnPinning\":{\"left\":[\"#row_number#\"],\"right\":[]},\"columnSizing\":{\"json_string\":531},\"columnVisibility\":{}},\"settings\":{\"columns\":{}},\"syncTimestamp\":1756783843762}",
       "filterBlob": null,
       "queryPlanFiltersBlob": null,
       "tableResultIndex": 0
      }
     },
     "title": ""
    }
   },
   "outputs": [
    {
     "output_type": "display_data",
     "data": {
      "text/html": [
       "<style scoped>\n",
       "  .table-result-container {\n",
       "    max-height: 300px;\n",
       "    overflow: auto;\n",
       "  }\n",
       "  table, th, td {\n",
       "    border: 1px solid black;\n",
       "    border-collapse: collapse;\n",
       "  }\n",
       "  th, td {\n",
       "    padding: 5px;\n",
       "  }\n",
       "  th {\n",
       "    text-align: left;\n",
       "  }\n",
       "</style><div class='table-result-container'><table class='table-result'><thead style='background-color: white'><tr><th>json_string</th></tr></thead><tbody><tr><td>{\"name\": \"Subash\", \"age\": 28, \"price\": 55000, \"address\": {\"city\": \"Bangalore\", \"zip\": \"560001\"}}</td></tr><tr><td>{\"name\": \"Dinesh\", \"age\": 32, \"price\": 65000, \"address\": {\"city\": \"Chennai\", \"zip\": \"600001\"}}</td></tr><tr><td>{\"name\": \"Fathima\", \"age\": 29, \"price\": 59500, \"address\": {\"city\": \"Nasik\", \"zip\": \"560001\"}}</td></tr><tr><td>{\"name\": \"Gopesh\", \"age\": 35, \"price\": 77000, \"address\": {\"city\": \"Vizak\", \"zip\": \"600001\"}}</td></tr><tr><td>{\"name\": \"Sreeni\", \"age\": 26, \"price\": 89000, \"address\": {\"city\": \"Hyderabad\", \"zip\": \"560001\"}}</td></tr><tr><td>{\"name\": \"Anitha\", \"age\": 33, \"price\": 44000, \"address\": {\"city\": \"Salem\", \"zip\": \"600001\"}}</td></tr></tbody></table></div>"
      ]
     },
     "metadata": {
      "application/vnd.databricks.v1+output": {
       "addedWidgets": {},
       "aggData": [],
       "aggError": "",
       "aggOverflow": false,
       "aggSchema": [],
       "aggSeriesLimitReached": false,
       "aggType": "",
       "arguments": {},
       "columnCustomDisplayInfos": {},
       "data": [
        [
         "{\"name\": \"Subash\", \"age\": 28, \"price\": 55000, \"address\": {\"city\": \"Bangalore\", \"zip\": \"560001\"}}"
        ],
        [
         "{\"name\": \"Dinesh\", \"age\": 32, \"price\": 65000, \"address\": {\"city\": \"Chennai\", \"zip\": \"600001\"}}"
        ],
        [
         "{\"name\": \"Fathima\", \"age\": 29, \"price\": 59500, \"address\": {\"city\": \"Nasik\", \"zip\": \"560001\"}}"
        ],
        [
         "{\"name\": \"Gopesh\", \"age\": 35, \"price\": 77000, \"address\": {\"city\": \"Vizak\", \"zip\": \"600001\"}}"
        ],
        [
         "{\"name\": \"Sreeni\", \"age\": 26, \"price\": 89000, \"address\": {\"city\": \"Hyderabad\", \"zip\": \"560001\"}}"
        ],
        [
         "{\"name\": \"Anitha\", \"age\": 33, \"price\": 44000, \"address\": {\"city\": \"Salem\", \"zip\": \"600001\"}}"
        ]
       ],
       "datasetInfos": [],
       "dbfsResultPath": null,
       "isJsonSchema": true,
       "metadata": {},
       "overflow": false,
       "plotOptions": {
        "customPlotOptions": {},
        "displayType": "table",
        "pivotAggregation": null,
        "pivotColumns": null,
        "xColumns": null,
        "yColumns": null
       },
       "removedWidgets": [],
       "schema": [
        {
         "metadata": "{}",
         "name": "json_string",
         "type": "\"string\""
        }
       ],
       "type": "table"
      }
     },
     "output_type": "display_data"
    }
   ],
   "source": [
    "data = [\n",
    "    ('{\"name\": \"Subash\", \"age\": 28, \"price\": 55000, \"address\": {\"city\": \"Bangalore\", \"zip\": \"560001\"}}',),\n",
    "    ('{\"name\": \"Dinesh\", \"age\": 32, \"price\": 65000, \"address\": {\"city\": \"Chennai\", \"zip\": \"600001\"}}',),\n",
    "    ('{\"name\": \"Fathima\", \"age\": 29, \"price\": 59500, \"address\": {\"city\": \"Nasik\", \"zip\": \"560001\"}}',),\n",
    "    ('{\"name\": \"Gopesh\", \"age\": 35, \"price\": 77000, \"address\": {\"city\": \"Vizak\", \"zip\": \"600001\"}}',),\n",
    "    ('{\"name\": \"Sreeni\", \"age\": 26, \"price\": 89000, \"address\": {\"city\": \"Hyderabad\", \"zip\": \"560001\"}}',),\n",
    "    ('{\"name\": \"Anitha\", \"age\": 33, \"price\": 44000, \"address\": {\"city\": \"Salem\", \"zip\": \"600001\"}}',)\n",
    "]\n",
    "\n",
    "df_nest = spark.createDataFrame(data, [\"json_string\"])\n",
    "display(df_nest)"
   ]
  },
  {
   "cell_type": "code",
   "execution_count": 0,
   "metadata": {
    "application/vnd.databricks.v1+cell": {
     "cellMetadata": {
      "byteLimit": 2048000,
      "rowLimit": 10000
     },
     "inputWidgets": {},
     "nuid": "04107c26-c320-46d0-b196-826cd63340b1",
     "showTitle": false,
     "tableResultSettingsMap": {
      "0": {
       "dataGridStateBlob": "{\"version\":1,\"tableState\":{\"columnPinning\":{\"left\":[\"#row_number#\"],\"right\":[]},\"columnSizing\":{},\"columnVisibility\":{}},\"settings\":{\"columns\":{}},\"syncTimestamp\":1756783882831}",
       "filterBlob": null,
       "queryPlanFiltersBlob": null,
       "tableResultIndex": 0
      }
     },
     "title": ""
    }
   },
   "outputs": [
    {
     "output_type": "display_data",
     "data": {
      "text/html": [
       "<style scoped>\n",
       "  .table-result-container {\n",
       "    max-height: 300px;\n",
       "    overflow: auto;\n",
       "  }\n",
       "  table, th, td {\n",
       "    border: 1px solid black;\n",
       "    border-collapse: collapse;\n",
       "  }\n",
       "  th, td {\n",
       "    padding: 5px;\n",
       "  }\n",
       "  th {\n",
       "    text-align: left;\n",
       "  }\n",
       "</style><div class='table-result-container'><table class='table-result'><thead style='background-color: white'><tr><th>Name</th><th>Age</th><th>Price</th><th>City</th><th>Zip</th></tr></thead><tbody><tr><td>Subash</td><td>28</td><td>55000</td><td>null</td><td>null</td></tr><tr><td>Dinesh</td><td>32</td><td>65000</td><td>null</td><td>null</td></tr><tr><td>Fathima</td><td>29</td><td>59500</td><td>null</td><td>null</td></tr><tr><td>Gopesh</td><td>35</td><td>77000</td><td>null</td><td>null</td></tr><tr><td>Sreeni</td><td>26</td><td>89000</td><td>null</td><td>null</td></tr><tr><td>Anitha</td><td>33</td><td>44000</td><td>null</td><td>null</td></tr></tbody></table></div>"
      ]
     },
     "metadata": {
      "application/vnd.databricks.v1+output": {
       "addedWidgets": {},
       "aggData": [],
       "aggError": "",
       "aggOverflow": false,
       "aggSchema": [],
       "aggSeriesLimitReached": false,
       "aggType": "",
       "arguments": {},
       "columnCustomDisplayInfos": {},
       "data": [
        [
         "Subash",
         "28",
         "55000",
         null,
         null
        ],
        [
         "Dinesh",
         "32",
         "65000",
         null,
         null
        ],
        [
         "Fathima",
         "29",
         "59500",
         null,
         null
        ],
        [
         "Gopesh",
         "35",
         "77000",
         null,
         null
        ],
        [
         "Sreeni",
         "26",
         "89000",
         null,
         null
        ],
        [
         "Anitha",
         "33",
         "44000",
         null,
         null
        ]
       ],
       "datasetInfos": [],
       "dbfsResultPath": null,
       "isJsonSchema": true,
       "metadata": {},
       "overflow": false,
       "plotOptions": {
        "customPlotOptions": {},
        "displayType": "table",
        "pivotAggregation": null,
        "pivotColumns": null,
        "xColumns": null,
        "yColumns": null
       },
       "removedWidgets": [],
       "schema": [
        {
         "metadata": "{}",
         "name": "Name",
         "type": "\"string\""
        },
        {
         "metadata": "{}",
         "name": "Age",
         "type": "\"string\""
        },
        {
         "metadata": "{}",
         "name": "Price",
         "type": "\"string\""
        },
        {
         "metadata": "{}",
         "name": "City",
         "type": "\"string\""
        },
        {
         "metadata": "{}",
         "name": "Zip",
         "type": "\"string\""
        }
       ],
       "type": "table"
      }
     },
     "output_type": "display_data"
    }
   ],
   "source": [
    "# Try to extract nested city from \"address.city\"\n",
    "df_bad = df_nest.select(\n",
    "    json_tuple(\"json_string\", \"name\", \"age\", \"price\", \"address.city\", \"address.zip\").alias(\"Name\", \"Age\", \"Price\" ,\"City\", \"Zip\")\n",
    ")\n",
    "\n",
    "display(df_bad)"
   ]
  }
 ],
 "metadata": {
  "application/vnd.databricks.v1+notebook": {
   "computePreferences": {
    "hardware": {
     "accelerator": null,
     "gpuPoolId": null,
     "memory": null
    }
   },
   "dashboards": [],
   "environmentMetadata": {
    "base_environment": "",
    "environment_version": "3"
   },
   "inputWidgetPreferences": null,
   "language": "python",
   "notebookMetadata": {
    "pythonIndentUnit": 4
   },
   "notebookName": "46_json_tuple() | How to extract values directly from a JSON string",
   "widgets": {}
  },
  "language_info": {
   "name": "python"
  }
 },
 "nbformat": 4,
 "nbformat_minor": 0
}