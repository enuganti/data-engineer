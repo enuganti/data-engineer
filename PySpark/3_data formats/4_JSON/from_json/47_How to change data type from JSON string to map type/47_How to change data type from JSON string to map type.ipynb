{
 "cells": [
  {
   "cell_type": "markdown",
   "metadata": {
    "application/vnd.databricks.v1+cell": {
     "cellMetadata": {},
     "inputWidgets": {},
     "nuid": "f27feaf4-b2df-4317-a3ca-4018b6f8aeca",
     "showTitle": false,
     "tableResultSettingsMap": {},
     "title": ""
    }
   },
   "source": [
    "**Key-Value Pairs**\n",
    "- DataFrame with a column containing **JSON strings** representing **key-value pairs**."
   ]
  },
  {
   "cell_type": "markdown",
   "metadata": {
    "application/vnd.databricks.v1+cell": {
     "cellMetadata": {},
     "inputWidgets": {},
     "nuid": "59791f6f-56b0-49c8-823d-470539c6b49b",
     "showTitle": false,
     "tableResultSettingsMap": {},
     "title": ""
    }
   },
   "source": [
    "#### **How to convert string type columns into map type?**\n",
    "\n",
    "1) JSON Structure\n",
    "\n",
    "2) Nested JSON Structure\n",
    "\n",
    "3) Handling Null Values\n",
    "\n",
    "4) Realtime Scenario"
   ]
  },
  {
   "cell_type": "code",
   "execution_count": 0,
   "metadata": {
    "application/vnd.databricks.v1+cell": {
     "cellMetadata": {
      "byteLimit": 2048000,
      "rowLimit": 10000
     },
     "inputWidgets": {},
     "nuid": "3cf22929-3569-4fb4-81e3-1377b489cedd",
     "showTitle": true,
     "tableResultSettingsMap": {},
     "title": "import required libraries"
    }
   },
   "outputs": [],
   "source": [
    "from pyspark.sql.types import IntegerType, StringType, StructType, StructField, MapType\n",
    "from pyspark.sql.functions import from_json, col, coalesce, lit"
   ]
  },
  {
   "cell_type": "markdown",
   "metadata": {
    "application/vnd.databricks.v1+cell": {
     "cellMetadata": {},
     "inputWidgets": {},
     "nuid": "1122b7ac-f936-4584-a066-d98dc9a2a964",
     "showTitle": false,
     "tableResultSettingsMap": {},
     "title": ""
    }
   },
   "source": [
    "#### **1) JSON Structure**"
   ]
  },
  {
   "cell_type": "code",
   "execution_count": 0,
   "metadata": {
    "application/vnd.databricks.v1+cell": {
     "cellMetadata": {
      "byteLimit": 2048000,
      "rowLimit": 10000
     },
     "inputWidgets": {},
     "nuid": "98865fff-1d1f-46bf-83a4-6c494ae71ebd",
     "showTitle": true,
     "tableResultSettingsMap": {},
     "title": "create sample dataset"
    }
   },
   "outputs": [
    {
     "output_type": "display_data",
     "data": {
      "text/html": [
       "<style scoped>\n",
       "  .table-result-container {\n",
       "    max-height: 300px;\n",
       "    overflow: auto;\n",
       "  }\n",
       "  table, th, td {\n",
       "    border: 1px solid black;\n",
       "    border-collapse: collapse;\n",
       "  }\n",
       "  th, td {\n",
       "    padding: 5px;\n",
       "  }\n",
       "  th {\n",
       "    text-align: left;\n",
       "  }\n",
       "</style><div class='table-result-container'><table class='table-result'><thead style='background-color: white'><tr><th>Student_Name</th><th>Properties</th></tr></thead><tbody><tr><td>Naresh</td><td>{\"Age\": 25, \"emp_id\": 768954, \"Exp\": 5}</td></tr><tr><td>Harish</td><td>{\"Age\": 30, \"emp_id\": 768956, \"Exp\": 2}</td></tr><tr><td>Prem</td><td>{\"Age\": 28, \"emp_id\": 798954, \"Exp\": 8}</td></tr><tr><td>Prabhav</td><td>{\"Age\": 35, \"emp_id\": 788956, \"Exp\": 6}</td></tr><tr><td>Hari</td><td>{\"Age\": 21, \"emp_id\": 769954, \"Exp\": 9}</td></tr><tr><td>Druv</td><td>{\"Age\": 36, \"emp_id\": 768946, \"Exp\": 4}</td></tr></tbody></table></div>"
      ]
     },
     "metadata": {
      "application/vnd.databricks.v1+output": {
       "addedWidgets": {},
       "aggData": [],
       "aggError": "",
       "aggOverflow": false,
       "aggSchema": [],
       "aggSeriesLimitReached": false,
       "aggType": "",
       "arguments": {},
       "columnCustomDisplayInfos": {},
       "data": [
        [
         "Naresh",
         "{\"Age\": 25, \"emp_id\": 768954, \"Exp\": 5}"
        ],
        [
         "Harish",
         "{\"Age\": 30, \"emp_id\": 768956, \"Exp\": 2}"
        ],
        [
         "Prem",
         "{\"Age\": 28, \"emp_id\": 798954, \"Exp\": 8}"
        ],
        [
         "Prabhav",
         "{\"Age\": 35, \"emp_id\": 788956, \"Exp\": 6}"
        ],
        [
         "Hari",
         "{\"Age\": 21, \"emp_id\": 769954, \"Exp\": 9}"
        ],
        [
         "Druv",
         "{\"Age\": 36, \"emp_id\": 768946, \"Exp\": 4}"
        ]
       ],
       "datasetInfos": [],
       "dbfsResultPath": null,
       "isJsonSchema": true,
       "metadata": {},
       "overflow": false,
       "plotOptions": {
        "customPlotOptions": {},
        "displayType": "table",
        "pivotAggregation": null,
        "pivotColumns": null,
        "xColumns": null,
        "yColumns": null
       },
       "removedWidgets": [],
       "schema": [
        {
         "metadata": "{}",
         "name": "Student_Name",
         "type": "\"string\""
        },
        {
         "metadata": "{}",
         "name": "Properties",
         "type": "\"string\""
        }
       ],
       "type": "table"
      }
     },
     "output_type": "display_data"
    }
   ],
   "source": [
    "# Sample DataFrame with a StringType column containing JSON strings\n",
    "data = [(\"Naresh\", '{\"Age\": 25, \"emp_id\": 768954, \"Exp\": 5}'), \n",
    "        (\"Harish\", '{\"Age\": 30, \"emp_id\": 768956, \"Exp\": 2}'),\n",
    "        (\"Prem\", '{\"Age\": 28, \"emp_id\": 798954, \"Exp\": 8}'), \n",
    "        (\"Prabhav\", '{\"Age\": 35, \"emp_id\": 788956, \"Exp\": 6}'),\n",
    "        (\"Hari\", '{\"Age\": 21, \"emp_id\": 769954, \"Exp\": 9}'), \n",
    "        (\"Druv\", '{\"Age\": 36, \"emp_id\": 768946, \"Exp\": 4}'),\n",
    "        ]\n",
    "\n",
    "schema = [\"Student_Name\", \"Properties\"]\n",
    "\n",
    "# Convert the StringType column to a MapType column\n",
    "df_json = spark.createDataFrame(data, schema)\n",
    "\n",
    "# Display the resulting DataFrame\n",
    "display(df_json)"
   ]
  },
  {
   "cell_type": "code",
   "execution_count": 0,
   "metadata": {
    "application/vnd.databricks.v1+cell": {
     "cellMetadata": {
      "byteLimit": 2048000,
      "rowLimit": 10000
     },
     "inputWidgets": {},
     "nuid": "ab540bff-b670-4ec0-b9f7-132f732e0d80",
     "showTitle": false,
     "tableResultSettingsMap": {},
     "title": ""
    }
   },
   "outputs": [
    {
     "output_type": "display_data",
     "data": {
      "text/html": [
       "<style scoped>\n",
       "  .table-result-container {\n",
       "    max-height: 300px;\n",
       "    overflow: auto;\n",
       "  }\n",
       "  table, th, td {\n",
       "    border: 1px solid black;\n",
       "    border-collapse: collapse;\n",
       "  }\n",
       "  th, td {\n",
       "    padding: 5px;\n",
       "  }\n",
       "  th {\n",
       "    text-align: left;\n",
       "  }\n",
       "</style><div class='table-result-container'><table class='table-result'><thead style='background-color: white'><tr><th>Student_Name</th><th>Properties</th><th>json_map</th></tr></thead><tbody><tr><td>Naresh</td><td>{\"Age\": 25, \"emp_id\": 768954, \"Exp\": 5}</td><td>Map(Age -> 25, emp_id -> 768954, Exp -> 5)</td></tr><tr><td>Harish</td><td>{\"Age\": 30, \"emp_id\": 768956, \"Exp\": 2}</td><td>Map(Age -> 30, emp_id -> 768956, Exp -> 2)</td></tr><tr><td>Prem</td><td>{\"Age\": 28, \"emp_id\": 798954, \"Exp\": 8}</td><td>Map(Age -> 28, emp_id -> 798954, Exp -> 8)</td></tr><tr><td>Prabhav</td><td>{\"Age\": 35, \"emp_id\": 788956, \"Exp\": 6}</td><td>Map(Age -> 35, emp_id -> 788956, Exp -> 6)</td></tr><tr><td>Hari</td><td>{\"Age\": 21, \"emp_id\": 769954, \"Exp\": 9}</td><td>Map(Age -> 21, emp_id -> 769954, Exp -> 9)</td></tr><tr><td>Druv</td><td>{\"Age\": 36, \"emp_id\": 768946, \"Exp\": 4}</td><td>Map(Age -> 36, emp_id -> 768946, Exp -> 4)</td></tr></tbody></table></div>"
      ]
     },
     "metadata": {
      "application/vnd.databricks.v1+output": {
       "addedWidgets": {},
       "aggData": [],
       "aggError": "",
       "aggOverflow": false,
       "aggSchema": [],
       "aggSeriesLimitReached": false,
       "aggType": "",
       "arguments": {},
       "columnCustomDisplayInfos": {},
       "data": [
        [
         "Naresh",
         "{\"Age\": 25, \"emp_id\": 768954, \"Exp\": 5}",
         {
          "Age": 25,
          "Exp": 5,
          "emp_id": 768954
         }
        ],
        [
         "Harish",
         "{\"Age\": 30, \"emp_id\": 768956, \"Exp\": 2}",
         {
          "Age": 30,
          "Exp": 2,
          "emp_id": 768956
         }
        ],
        [
         "Prem",
         "{\"Age\": 28, \"emp_id\": 798954, \"Exp\": 8}",
         {
          "Age": 28,
          "Exp": 8,
          "emp_id": 798954
         }
        ],
        [
         "Prabhav",
         "{\"Age\": 35, \"emp_id\": 788956, \"Exp\": 6}",
         {
          "Age": 35,
          "Exp": 6,
          "emp_id": 788956
         }
        ],
        [
         "Hari",
         "{\"Age\": 21, \"emp_id\": 769954, \"Exp\": 9}",
         {
          "Age": 21,
          "Exp": 9,
          "emp_id": 769954
         }
        ],
        [
         "Druv",
         "{\"Age\": 36, \"emp_id\": 768946, \"Exp\": 4}",
         {
          "Age": 36,
          "Exp": 4,
          "emp_id": 768946
         }
        ]
       ],
       "datasetInfos": [],
       "dbfsResultPath": null,
       "isJsonSchema": true,
       "metadata": {},
       "overflow": false,
       "plotOptions": {
        "customPlotOptions": {},
        "displayType": "table",
        "pivotAggregation": null,
        "pivotColumns": null,
        "xColumns": null,
        "yColumns": null
       },
       "removedWidgets": [],
       "schema": [
        {
         "metadata": "{}",
         "name": "Student_Name",
         "type": "\"string\""
        },
        {
         "metadata": "{}",
         "name": "Properties",
         "type": "\"string\""
        },
        {
         "metadata": "{}",
         "name": "json_map",
         "type": "{\"type\":\"map\",\"keyType\":\"string\",\"valueType\":\"integer\",\"valueContainsNull\":true}"
        }
       ],
       "type": "table"
      }
     },
     "output_type": "display_data"
    }
   ],
   "source": [
    "# Define the schema for the MapType column\n",
    "map_schema = MapType(StringType(), IntegerType())\n",
    "\n",
    "# Convert the StringType column to a MapType column\n",
    "df_json = df_json.withColumn(\"json_map\", from_json(col(\"Properties\"), map_schema))\n",
    "\n",
    "# Display the resulting DataFrame\n",
    "display(df_json)"
   ]
  },
  {
   "cell_type": "code",
   "execution_count": 0,
   "metadata": {
    "application/vnd.databricks.v1+cell": {
     "cellMetadata": {
      "byteLimit": 2048000,
      "rowLimit": 10000
     },
     "inputWidgets": {},
     "nuid": "a5c0e137-deb3-45c1-bfd3-e4a2e900ffee",
     "showTitle": false,
     "tableResultSettingsMap": {},
     "title": ""
    }
   },
   "outputs": [
    {
     "output_type": "display_data",
     "data": {
      "text/html": [
       "<style scoped>\n",
       "  .table-result-container {\n",
       "    max-height: 300px;\n",
       "    overflow: auto;\n",
       "  }\n",
       "  table, th, td {\n",
       "    border: 1px solid black;\n",
       "    border-collapse: collapse;\n",
       "  }\n",
       "  th, td {\n",
       "    padding: 5px;\n",
       "  }\n",
       "  th {\n",
       "    text-align: left;\n",
       "  }\n",
       "</style><div class='table-result-container'><table class='table-result'><thead style='background-color: white'><tr><th>Student_Name</th><th>Properties</th><th>json_map</th><th>age</th><th>Emp_ID</th><th>Exp</th></tr></thead><tbody><tr><td>Naresh</td><td>{\"Age\": 25, \"emp_id\": 768954, \"Exp\": 5}</td><td>Map(Age -> 25, emp_id -> 768954, Exp -> 5)</td><td>25</td><td>768954</td><td>5</td></tr><tr><td>Harish</td><td>{\"Age\": 30, \"emp_id\": 768956, \"Exp\": 2}</td><td>Map(Age -> 30, emp_id -> 768956, Exp -> 2)</td><td>30</td><td>768956</td><td>2</td></tr><tr><td>Prem</td><td>{\"Age\": 28, \"emp_id\": 798954, \"Exp\": 8}</td><td>Map(Age -> 28, emp_id -> 798954, Exp -> 8)</td><td>28</td><td>798954</td><td>8</td></tr><tr><td>Prabhav</td><td>{\"Age\": 35, \"emp_id\": 788956, \"Exp\": 6}</td><td>Map(Age -> 35, emp_id -> 788956, Exp -> 6)</td><td>35</td><td>788956</td><td>6</td></tr><tr><td>Hari</td><td>{\"Age\": 21, \"emp_id\": 769954, \"Exp\": 9}</td><td>Map(Age -> 21, emp_id -> 769954, Exp -> 9)</td><td>21</td><td>769954</td><td>9</td></tr><tr><td>Druv</td><td>{\"Age\": 36, \"emp_id\": 768946, \"Exp\": 4}</td><td>Map(Age -> 36, emp_id -> 768946, Exp -> 4)</td><td>36</td><td>768946</td><td>4</td></tr></tbody></table></div>"
      ]
     },
     "metadata": {
      "application/vnd.databricks.v1+output": {
       "addedWidgets": {},
       "aggData": [],
       "aggError": "",
       "aggOverflow": false,
       "aggSchema": [],
       "aggSeriesLimitReached": false,
       "aggType": "",
       "arguments": {},
       "columnCustomDisplayInfos": {},
       "data": [
        [
         "Naresh",
         "{\"Age\": 25, \"emp_id\": 768954, \"Exp\": 5}",
         {
          "Age": 25,
          "Exp": 5,
          "emp_id": 768954
         },
         25,
         768954,
         5
        ],
        [
         "Harish",
         "{\"Age\": 30, \"emp_id\": 768956, \"Exp\": 2}",
         {
          "Age": 30,
          "Exp": 2,
          "emp_id": 768956
         },
         30,
         768956,
         2
        ],
        [
         "Prem",
         "{\"Age\": 28, \"emp_id\": 798954, \"Exp\": 8}",
         {
          "Age": 28,
          "Exp": 8,
          "emp_id": 798954
         },
         28,
         798954,
         8
        ],
        [
         "Prabhav",
         "{\"Age\": 35, \"emp_id\": 788956, \"Exp\": 6}",
         {
          "Age": 35,
          "Exp": 6,
          "emp_id": 788956
         },
         35,
         788956,
         6
        ],
        [
         "Hari",
         "{\"Age\": 21, \"emp_id\": 769954, \"Exp\": 9}",
         {
          "Age": 21,
          "Exp": 9,
          "emp_id": 769954
         },
         21,
         769954,
         9
        ],
        [
         "Druv",
         "{\"Age\": 36, \"emp_id\": 768946, \"Exp\": 4}",
         {
          "Age": 36,
          "Exp": 4,
          "emp_id": 768946
         },
         36,
         768946,
         4
        ]
       ],
       "datasetInfos": [],
       "dbfsResultPath": null,
       "isJsonSchema": true,
       "metadata": {},
       "overflow": false,
       "plotOptions": {
        "customPlotOptions": {},
        "displayType": "table",
        "pivotAggregation": null,
        "pivotColumns": null,
        "xColumns": null,
        "yColumns": null
       },
       "removedWidgets": [],
       "schema": [
        {
         "metadata": "{}",
         "name": "Student_Name",
         "type": "\"string\""
        },
        {
         "metadata": "{}",
         "name": "Properties",
         "type": "\"string\""
        },
        {
         "metadata": "{}",
         "name": "json_map",
         "type": "{\"type\":\"map\",\"keyType\":\"string\",\"valueType\":\"integer\",\"valueContainsNull\":true}"
        },
        {
         "metadata": "{}",
         "name": "age",
         "type": "\"integer\""
        },
        {
         "metadata": "{}",
         "name": "Emp_ID",
         "type": "\"integer\""
        },
        {
         "metadata": "{}",
         "name": "Exp",
         "type": "\"integer\""
        }
       ],
       "type": "table"
      }
     },
     "output_type": "display_data"
    }
   ],
   "source": [
    "df_col = df_json.withColumn(\"age\", df_json.json_map.Age)\\\n",
    "  .withColumn(\"Emp_ID\", df_json.json_map.emp_id)\\\n",
    "  .withColumn(\"Exp\", df_json.json_map.Exp)\n",
    "\n",
    "display(df_col)"
   ]
  },
  {
   "cell_type": "code",
   "execution_count": 0,
   "metadata": {
    "application/vnd.databricks.v1+cell": {
     "cellMetadata": {
      "byteLimit": 2048000,
      "rowLimit": 10000
     },
     "inputWidgets": {},
     "nuid": "1084e5a1-8933-47e6-8069-d47d03ddda73",
     "showTitle": false,
     "tableResultSettingsMap": {},
     "title": ""
    }
   },
   "outputs": [
    {
     "output_type": "display_data",
     "data": {
      "text/html": [
       "<style scoped>\n",
       "  .table-result-container {\n",
       "    max-height: 300px;\n",
       "    overflow: auto;\n",
       "  }\n",
       "  table, th, td {\n",
       "    border: 1px solid black;\n",
       "    border-collapse: collapse;\n",
       "  }\n",
       "  th, td {\n",
       "    padding: 5px;\n",
       "  }\n",
       "  th {\n",
       "    text-align: left;\n",
       "  }\n",
       "</style><div class='table-result-container'><table class='table-result'><thead style='background-color: white'><tr><th>Student_Name</th><th>Properties</th><th>json_map</th></tr></thead><tbody><tr><td>Naresh</td><td>{\"Age\": 25, \"emp_id\": 768954, \"Exp\": 5}</td><td>Map(Age -> 25, emp_id -> 768954, Exp -> 5)</td></tr><tr><td>Harish</td><td>{\"Age\": 30, \"emp_id\": \"768956\", \"Exp\": 2}</td><td>null</td></tr><tr><td>Prem</td><td>{\"Age\": 28, \"emp_id\": 798954, \"Exp\": 8}</td><td>Map(Age -> 28, emp_id -> 798954, Exp -> 8)</td></tr><tr><td>Prabhav</td><td>{\"Age\": 35, \"emp_id\": 788956, \"Exp\": \"6\"}</td><td>null</td></tr><tr><td>Hari</td><td>{\"Age\": 21, \"emp_id\": \"769954\", \"Exp\": 9}</td><td>null</td></tr><tr><td>Druv</td><td>{\"Age\": 36, \"emp_id\": 768946, \"Exp\": 4}</td><td>Map(Age -> 36, emp_id -> 768946, Exp -> 4)</td></tr></tbody></table></div>"
      ]
     },
     "metadata": {
      "application/vnd.databricks.v1+output": {
       "addedWidgets": {},
       "aggData": [],
       "aggError": "",
       "aggOverflow": false,
       "aggSchema": [],
       "aggSeriesLimitReached": false,
       "aggType": "",
       "arguments": {},
       "columnCustomDisplayInfos": {},
       "data": [
        [
         "Naresh",
         "{\"Age\": 25, \"emp_id\": 768954, \"Exp\": 5}",
         {
          "Age": 25,
          "Exp": 5,
          "emp_id": 768954
         }
        ],
        [
         "Harish",
         "{\"Age\": 30, \"emp_id\": \"768956\", \"Exp\": 2}",
         null
        ],
        [
         "Prem",
         "{\"Age\": 28, \"emp_id\": 798954, \"Exp\": 8}",
         {
          "Age": 28,
          "Exp": 8,
          "emp_id": 798954
         }
        ],
        [
         "Prabhav",
         "{\"Age\": 35, \"emp_id\": 788956, \"Exp\": \"6\"}",
         null
        ],
        [
         "Hari",
         "{\"Age\": 21, \"emp_id\": \"769954\", \"Exp\": 9}",
         null
        ],
        [
         "Druv",
         "{\"Age\": 36, \"emp_id\": 768946, \"Exp\": 4}",
         {
          "Age": 36,
          "Exp": 4,
          "emp_id": 768946
         }
        ]
       ],
       "datasetInfos": [],
       "dbfsResultPath": null,
       "isJsonSchema": true,
       "metadata": {},
       "overflow": false,
       "plotOptions": {
        "customPlotOptions": {},
        "displayType": "table",
        "pivotAggregation": null,
        "pivotColumns": null,
        "xColumns": null,
        "yColumns": null
       },
       "removedWidgets": [],
       "schema": [
        {
         "metadata": "{}",
         "name": "Student_Name",
         "type": "\"string\""
        },
        {
         "metadata": "{}",
         "name": "Properties",
         "type": "\"string\""
        },
        {
         "metadata": "{}",
         "name": "json_map",
         "type": "{\"type\":\"map\",\"keyType\":\"string\",\"valueType\":\"integer\",\"valueContainsNull\":true}"
        }
       ],
       "type": "table"
      }
     },
     "output_type": "display_data"
    }
   ],
   "source": [
    "# Sample DataFrame with a StringType column containing JSON strings\n",
    "data = [(\"Naresh\", '{\"Age\": 25, \"emp_id\": 768954, \"Exp\": 5}'), \n",
    "        (\"Harish\", '{\"Age\": 30, \"emp_id\": \"768956\", \"Exp\": 2}'),\n",
    "        (\"Prem\", '{\"Age\": 28, \"emp_id\": 798954, \"Exp\": 8}'), \n",
    "        (\"Prabhav\", '{\"Age\": 35, \"emp_id\": 788956, \"Exp\": \"6\"}'),\n",
    "        (\"Hari\", '{\"Age\": 21, \"emp_id\": \"769954\", \"Exp\": 9}'), \n",
    "        (\"Druv\", '{\"Age\": 36, \"emp_id\": 768946, \"Exp\": 4}'),\n",
    "        ]\n",
    "\n",
    "schema = [\"Student_Name\", \"Properties\"]\n",
    "\n",
    "# Convert the StringType column to a MapType column\n",
    "df_json1 = spark.createDataFrame(data, schema)\n",
    "\n",
    "# Define the schema for the MapType column\n",
    "map_schema = MapType(StringType(), IntegerType())\n",
    "\n",
    "# Convert the StringType column to a MapType column\n",
    "df_json1 = df_json1.withColumn(\"json_map\", from_json(col(\"Properties\"), map_schema))\n",
    "\n",
    "# Display the resulting DataFrame\n",
    "display(df_json1)"
   ]
  },
  {
   "cell_type": "markdown",
   "metadata": {
    "application/vnd.databricks.v1+cell": {
     "cellMetadata": {},
     "inputWidgets": {},
     "nuid": "214999a2-3ca9-450d-b435-54cea19cad38",
     "showTitle": false,
     "tableResultSettingsMap": {},
     "title": ""
    }
   },
   "source": [
    "#### **2) Nested JSON Structure**\n",
    "- DataFrame with a column containing **JSON strings** representing **nested key-value pairs**."
   ]
  },
  {
   "cell_type": "code",
   "execution_count": 0,
   "metadata": {
    "application/vnd.databricks.v1+cell": {
     "cellMetadata": {
      "byteLimit": 2048000,
      "rowLimit": 10000
     },
     "inputWidgets": {},
     "nuid": "6b84629d-0a54-4516-a7bf-9a6248a9b0aa",
     "showTitle": false,
     "tableResultSettingsMap": {},
     "title": ""
    }
   },
   "outputs": [
    {
     "output_type": "display_data",
     "data": {
      "text/html": [
       "<style scoped>\n",
       "  .table-result-container {\n",
       "    max-height: 300px;\n",
       "    overflow: auto;\n",
       "  }\n",
       "  table, th, td {\n",
       "    border: 1px solid black;\n",
       "    border-collapse: collapse;\n",
       "  }\n",
       "  th, td {\n",
       "    padding: 5px;\n",
       "  }\n",
       "  th {\n",
       "    text-align: left;\n",
       "  }\n",
       "</style><div class='table-result-container'><table class='table-result'><thead style='background-color: white'><tr><th>id</th><th>Profile</th></tr></thead><tbody><tr><td>1</td><td>{\"Name\": \"Hari\", \"map\": {\"Country\": \"India\", \"City\": \"Delhi\", \"Level\": \"Manager\", \"Designation\": \"DE\"}}</td></tr><tr><td>2</td><td>{\"Name\": \"Narahari\", \"map\": {\"Country\": \"India\", \"City\": \"Delhi\", \"Level\": \"Manager\", \"Designation\": \"DS\"}}</td></tr><tr><td>3</td><td>{\"Name\": \"Venu\", \"map\": {\"Country\": \"India\", \"City\": \"Delhi\", \"Level\": \"Manager\", \"Designation\": \"Engineer\"}}</td></tr><tr><td>4</td><td>{\"Name\": \"Giri\", \"map\": {\"Country\": \"India\", \"City\": \"Delhi\", \"Level\": \"Manager\", \"Designation\": \"Admin\"}}</td></tr><tr><td>5</td><td>{\"Name\": \"Sree\", \"map\": {\"Country\": \"India\", \"City\": \"Delhi\", \"Level\": \"Manager\", \"Designation\":\"Developer\"}}</td></tr><tr><td>6</td><td>{\"Name\": \"Anu\", \"map\": {\"Country\": \"India\", \"City\": \"Delhi\", \"Level\": \"Manager\", \"Designation\": \"Testing\"}}</td></tr><tr><td>7</td><td>{\"Name\": \"Devi\", \"map\": {\"Country\": \"India\", \"City\": \"Delhi\", \"Level\": \"Manager\", \"Designation\": \"Modeler\"}}</td></tr><tr><td>8</td><td>{\"Name\": \"Kedar\", \"map\": {\"Country\": \"India\", \"City\": \"Delhi\", \"Level\": \"Manager\", \"Designation\": \"Sales\"}}</td></tr><tr><td>9</td><td>{\"Name\": \"Smith\", \"map\": {\"Country\": \"India\", \"City\": \"Delhi\", \"Level\": \"Manager\", \"Designation\": \"Executive\"}}</td></tr></tbody></table></div>"
      ]
     },
     "metadata": {
      "application/vnd.databricks.v1+output": {
       "addedWidgets": {},
       "aggData": [],
       "aggError": "",
       "aggOverflow": false,
       "aggSchema": [],
       "aggSeriesLimitReached": false,
       "aggType": "",
       "arguments": {},
       "columnCustomDisplayInfos": {},
       "data": [
        [
         "1",
         "{\"Name\": \"Hari\", \"map\": {\"Country\": \"India\", \"City\": \"Delhi\", \"Level\": \"Manager\", \"Designation\": \"DE\"}}"
        ],
        [
         "2",
         "{\"Name\": \"Narahari\", \"map\": {\"Country\": \"India\", \"City\": \"Delhi\", \"Level\": \"Manager\", \"Designation\": \"DS\"}}"
        ],
        [
         "3",
         "{\"Name\": \"Venu\", \"map\": {\"Country\": \"India\", \"City\": \"Delhi\", \"Level\": \"Manager\", \"Designation\": \"Engineer\"}}"
        ],
        [
         "4",
         "{\"Name\": \"Giri\", \"map\": {\"Country\": \"India\", \"City\": \"Delhi\", \"Level\": \"Manager\", \"Designation\": \"Admin\"}}"
        ],
        [
         "5",
         "{\"Name\": \"Sree\", \"map\": {\"Country\": \"India\", \"City\": \"Delhi\", \"Level\": \"Manager\", \"Designation\":\"Developer\"}}"
        ],
        [
         "6",
         "{\"Name\": \"Anu\", \"map\": {\"Country\": \"India\", \"City\": \"Delhi\", \"Level\": \"Manager\", \"Designation\": \"Testing\"}}"
        ],
        [
         "7",
         "{\"Name\": \"Devi\", \"map\": {\"Country\": \"India\", \"City\": \"Delhi\", \"Level\": \"Manager\", \"Designation\": \"Modeler\"}}"
        ],
        [
         "8",
         "{\"Name\": \"Kedar\", \"map\": {\"Country\": \"India\", \"City\": \"Delhi\", \"Level\": \"Manager\", \"Designation\": \"Sales\"}}"
        ],
        [
         "9",
         "{\"Name\": \"Smith\", \"map\": {\"Country\": \"India\", \"City\": \"Delhi\", \"Level\": \"Manager\", \"Designation\": \"Executive\"}}"
        ]
       ],
       "datasetInfos": [],
       "dbfsResultPath": null,
       "isJsonSchema": true,
       "metadata": {},
       "overflow": false,
       "plotOptions": {
        "customPlotOptions": {},
        "displayType": "table",
        "pivotAggregation": null,
        "pivotColumns": null,
        "xColumns": null,
        "yColumns": null
       },
       "removedWidgets": [],
       "schema": [
        {
         "metadata": "{}",
         "name": "id",
         "type": "\"string\""
        },
        {
         "metadata": "{}",
         "name": "Profile",
         "type": "\"string\""
        }
       ],
       "type": "table"
      }
     },
     "output_type": "display_data"
    }
   ],
   "source": [
    "# Sample DataFrame\n",
    "data = [(\"1\", '{\"Name\": \"Hari\", \"map\": {\"Country\": \"India\", \"City\": \"Delhi\", \"Level\": \"Manager\", \"Designation\": \"DE\"}}'), \n",
    "        (\"2\", '{\"Name\": \"Narahari\", \"map\": {\"Country\": \"India\", \"City\": \"Delhi\", \"Level\": \"Manager\", \"Designation\": \"DS\"}}'),\n",
    "        (\"3\", '{\"Name\": \"Venu\", \"map\": {\"Country\": \"India\", \"City\": \"Delhi\", \"Level\": \"Manager\", \"Designation\": \"Engineer\"}}'),\n",
    "        (\"4\", '{\"Name\": \"Giri\", \"map\": {\"Country\": \"India\", \"City\": \"Delhi\", \"Level\": \"Manager\", \"Designation\": \"Admin\"}}'), \n",
    "        (\"5\", '{\"Name\": \"Sree\", \"map\": {\"Country\": \"India\", \"City\": \"Delhi\", \"Level\": \"Manager\", \"Designation\":\"Developer\"}}'),\n",
    "        (\"6\", '{\"Name\": \"Anu\", \"map\": {\"Country\": \"India\", \"City\": \"Delhi\", \"Level\": \"Manager\", \"Designation\": \"Testing\"}}'),\n",
    "        (\"7\", '{\"Name\": \"Devi\", \"map\": {\"Country\": \"India\", \"City\": \"Delhi\", \"Level\": \"Manager\", \"Designation\": \"Modeler\"}}'), \n",
    "        (\"8\", '{\"Name\": \"Kedar\", \"map\": {\"Country\": \"India\", \"City\": \"Delhi\", \"Level\": \"Manager\", \"Designation\": \"Sales\"}}'),\n",
    "        (\"9\", '{\"Name\": \"Smith\", \"map\": {\"Country\": \"India\", \"City\": \"Delhi\", \"Level\": \"Manager\", \"Designation\": \"Executive\"}}')\n",
    "        ]\n",
    "schema = [\"id\", \"Profile\"]\n",
    "\n",
    "# Convert the StringType column to a MapType column\n",
    "df_nest_json = spark.createDataFrame(data, schema)\n",
    "\n",
    "# Display the DataFrame\n",
    "display(df_nest_json)"
   ]
  },
  {
   "cell_type": "code",
   "execution_count": 0,
   "metadata": {
    "application/vnd.databricks.v1+cell": {
     "cellMetadata": {
      "byteLimit": 2048000,
      "rowLimit": 10000
     },
     "inputWidgets": {},
     "nuid": "7ef04d97-35eb-43b5-9002-ecaf45ddd30e",
     "showTitle": false,
     "tableResultSettingsMap": {},
     "title": ""
    }
   },
   "outputs": [
    {
     "output_type": "display_data",
     "data": {
      "text/html": [
       "<style scoped>\n",
       "  .table-result-container {\n",
       "    max-height: 300px;\n",
       "    overflow: auto;\n",
       "  }\n",
       "  table, th, td {\n",
       "    border: 1px solid black;\n",
       "    border-collapse: collapse;\n",
       "  }\n",
       "  th, td {\n",
       "    padding: 5px;\n",
       "  }\n",
       "  th {\n",
       "    text-align: left;\n",
       "  }\n",
       "</style><div class='table-result-container'><table class='table-result'><thead style='background-color: white'><tr><th>id</th><th>Profile</th><th>json_nest_map</th></tr></thead><tbody><tr><td>1</td><td>{\"Name\": \"Hari\", \"map\": {\"Country\": \"India\", \"City\": \"Delhi\", \"Level\": \"Manager\", \"Designation\": \"DE\"}}</td><td>List(Hari, List(India, Delhi, Manager, DE))</td></tr><tr><td>2</td><td>{\"Name\": \"Narahari\", \"map\": {\"Country\": \"India\", \"City\": \"Delhi\", \"Level\": \"Manager\", \"Designation\": \"DS\"}}</td><td>List(Narahari, List(India, Delhi, Manager, DS))</td></tr><tr><td>3</td><td>{\"Name\": \"Venu\", \"map\": {\"Country\": \"India\", \"City\": \"Delhi\", \"Level\": \"Manager\", \"Designation\": \"Engineer\"}}</td><td>List(Venu, List(India, Delhi, Manager, Engineer))</td></tr><tr><td>4</td><td>{\"Name\": \"Giri\", \"map\": {\"Country\": \"India\", \"City\": \"Delhi\", \"Level\": \"Manager\", \"Designation\": \"Admin\"}}</td><td>List(Giri, List(India, Delhi, Manager, Admin))</td></tr><tr><td>5</td><td>{\"Name\": \"Sree\", \"map\": {\"Country\": \"India\", \"City\": \"Delhi\", \"Level\": \"Manager\", \"Designation\":\"Developer\"}}</td><td>List(Sree, List(India, Delhi, Manager, Developer))</td></tr><tr><td>6</td><td>{\"Name\": \"Anu\", \"map\": {\"Country\": \"India\", \"City\": \"Delhi\", \"Level\": \"Manager\", \"Designation\": \"Testing\"}}</td><td>List(Anu, List(India, Delhi, Manager, Testing))</td></tr><tr><td>7</td><td>{\"Name\": \"Devi\", \"map\": {\"Country\": \"India\", \"City\": \"Delhi\", \"Level\": \"Manager\", \"Designation\": \"Modeler\"}}</td><td>List(Devi, List(India, Delhi, Manager, Modeler))</td></tr><tr><td>8</td><td>{\"Name\": \"Kedar\", \"map\": {\"Country\": \"India\", \"City\": \"Delhi\", \"Level\": \"Manager\", \"Designation\": \"Sales\"}}</td><td>List(Kedar, List(India, Delhi, Manager, Sales))</td></tr><tr><td>9</td><td>{\"Name\": \"Smith\", \"map\": {\"Country\": \"India\", \"City\": \"Delhi\", \"Level\": \"Manager\", \"Designation\": \"Executive\"}}</td><td>List(Smith, List(India, Delhi, Manager, Executive))</td></tr></tbody></table></div>"
      ]
     },
     "metadata": {
      "application/vnd.databricks.v1+output": {
       "addedWidgets": {},
       "aggData": [],
       "aggError": "",
       "aggOverflow": false,
       "aggSchema": [],
       "aggSeriesLimitReached": false,
       "aggType": "",
       "arguments": {},
       "columnCustomDisplayInfos": {},
       "data": [
        [
         "1",
         "{\"Name\": \"Hari\", \"map\": {\"Country\": \"India\", \"City\": \"Delhi\", \"Level\": \"Manager\", \"Designation\": \"DE\"}}",
         [
          "Hari",
          [
           "India",
           "Delhi",
           "Manager",
           "DE"
          ]
         ]
        ],
        [
         "2",
         "{\"Name\": \"Narahari\", \"map\": {\"Country\": \"India\", \"City\": \"Delhi\", \"Level\": \"Manager\", \"Designation\": \"DS\"}}",
         [
          "Narahari",
          [
           "India",
           "Delhi",
           "Manager",
           "DS"
          ]
         ]
        ],
        [
         "3",
         "{\"Name\": \"Venu\", \"map\": {\"Country\": \"India\", \"City\": \"Delhi\", \"Level\": \"Manager\", \"Designation\": \"Engineer\"}}",
         [
          "Venu",
          [
           "India",
           "Delhi",
           "Manager",
           "Engineer"
          ]
         ]
        ],
        [
         "4",
         "{\"Name\": \"Giri\", \"map\": {\"Country\": \"India\", \"City\": \"Delhi\", \"Level\": \"Manager\", \"Designation\": \"Admin\"}}",
         [
          "Giri",
          [
           "India",
           "Delhi",
           "Manager",
           "Admin"
          ]
         ]
        ],
        [
         "5",
         "{\"Name\": \"Sree\", \"map\": {\"Country\": \"India\", \"City\": \"Delhi\", \"Level\": \"Manager\", \"Designation\":\"Developer\"}}",
         [
          "Sree",
          [
           "India",
           "Delhi",
           "Manager",
           "Developer"
          ]
         ]
        ],
        [
         "6",
         "{\"Name\": \"Anu\", \"map\": {\"Country\": \"India\", \"City\": \"Delhi\", \"Level\": \"Manager\", \"Designation\": \"Testing\"}}",
         [
          "Anu",
          [
           "India",
           "Delhi",
           "Manager",
           "Testing"
          ]
         ]
        ],
        [
         "7",
         "{\"Name\": \"Devi\", \"map\": {\"Country\": \"India\", \"City\": \"Delhi\", \"Level\": \"Manager\", \"Designation\": \"Modeler\"}}",
         [
          "Devi",
          [
           "India",
           "Delhi",
           "Manager",
           "Modeler"
          ]
         ]
        ],
        [
         "8",
         "{\"Name\": \"Kedar\", \"map\": {\"Country\": \"India\", \"City\": \"Delhi\", \"Level\": \"Manager\", \"Designation\": \"Sales\"}}",
         [
          "Kedar",
          [
           "India",
           "Delhi",
           "Manager",
           "Sales"
          ]
         ]
        ],
        [
         "9",
         "{\"Name\": \"Smith\", \"map\": {\"Country\": \"India\", \"City\": \"Delhi\", \"Level\": \"Manager\", \"Designation\": \"Executive\"}}",
         [
          "Smith",
          [
           "India",
           "Delhi",
           "Manager",
           "Executive"
          ]
         ]
        ]
       ],
       "datasetInfos": [],
       "dbfsResultPath": null,
       "isJsonSchema": true,
       "metadata": {},
       "overflow": false,
       "plotOptions": {
        "customPlotOptions": {},
        "displayType": "table",
        "pivotAggregation": null,
        "pivotColumns": null,
        "xColumns": null,
        "yColumns": null
       },
       "removedWidgets": [],
       "schema": [
        {
         "metadata": "{}",
         "name": "id",
         "type": "\"string\""
        },
        {
         "metadata": "{}",
         "name": "Profile",
         "type": "\"string\""
        },
        {
         "metadata": "{}",
         "name": "json_nest_map",
         "type": "{\"type\":\"struct\",\"fields\":[{\"name\":\"Name\",\"type\":\"string\",\"nullable\":true,\"metadata\":{}},{\"name\":\"map\",\"type\":{\"type\":\"struct\",\"fields\":[{\"name\":\"Country\",\"type\":\"string\",\"nullable\":true,\"metadata\":{}},{\"name\":\"City\",\"type\":\"string\",\"nullable\":true,\"metadata\":{}},{\"name\":\"Level\",\"type\":\"string\",\"nullable\":true,\"metadata\":{}},{\"name\":\"Designation\",\"type\":\"string\",\"nullable\":true,\"metadata\":{}}]},\"nullable\":true,\"metadata\":{}}]}"
        }
       ],
       "type": "table"
      }
     },
     "output_type": "display_data"
    }
   ],
   "source": [
    "# Define the schema for the nested JSON structure\n",
    "nested_map_schema = StructType([\n",
    "    StructField(\"Name\", StringType(), True),\n",
    "    StructField(\"map\", StructType([\n",
    "        StructField(\"Country\", StringType(), True),\n",
    "        StructField(\"City\", StringType(), True),\n",
    "        StructField(\"Level\", StringType(), True),\n",
    "        StructField(\"Designation\", StringType(), True)\n",
    "    ]), True)\n",
    "])\n",
    "\n",
    "# Convert the JSON string to nested MapType\n",
    "df_nest_json = df_nest_json.withColumn(\"json_nest_map\", from_json(col(\"Profile\"), nested_map_schema))\n",
    "\n",
    "# Display the DataFrame\n",
    "display(df_nest_json)"
   ]
  },
  {
   "cell_type": "code",
   "execution_count": 0,
   "metadata": {
    "application/vnd.databricks.v1+cell": {
     "cellMetadata": {
      "byteLimit": 2048000,
      "rowLimit": 10000
     },
     "inputWidgets": {},
     "nuid": "e7233713-6c1f-4349-bb38-7274c32a0eef",
     "showTitle": false,
     "tableResultSettingsMap": {},
     "title": ""
    }
   },
   "outputs": [
    {
     "output_type": "display_data",
     "data": {
      "text/html": [
       "<style scoped>\n",
       "  .table-result-container {\n",
       "    max-height: 300px;\n",
       "    overflow: auto;\n",
       "  }\n",
       "  table, th, td {\n",
       "    border: 1px solid black;\n",
       "    border-collapse: collapse;\n",
       "  }\n",
       "  th, td {\n",
       "    padding: 5px;\n",
       "  }\n",
       "  th {\n",
       "    text-align: left;\n",
       "  }\n",
       "</style><div class='table-result-container'><table class='table-result'><thead style='background-color: white'><tr><th>json_nest_map</th><th>name</th><th>country</th><th>city</th><th>level</th><th>designation</th></tr></thead><tbody><tr><td>List(Hari, List(India, Delhi, Manager, DE))</td><td>Hari</td><td>India</td><td>Delhi</td><td>Manager</td><td>DE</td></tr><tr><td>List(Narahari, List(India, Delhi, Manager, DS))</td><td>Narahari</td><td>India</td><td>Delhi</td><td>Manager</td><td>DS</td></tr><tr><td>List(Venu, List(India, Delhi, Manager, Engineer))</td><td>Venu</td><td>India</td><td>Delhi</td><td>Manager</td><td>Engineer</td></tr><tr><td>List(Giri, List(India, Delhi, Manager, Admin))</td><td>Giri</td><td>India</td><td>Delhi</td><td>Manager</td><td>Admin</td></tr><tr><td>List(Sree, List(India, Delhi, Manager, Developer))</td><td>Sree</td><td>India</td><td>Delhi</td><td>Manager</td><td>Developer</td></tr><tr><td>List(Anu, List(India, Delhi, Manager, Testing))</td><td>Anu</td><td>India</td><td>Delhi</td><td>Manager</td><td>Testing</td></tr><tr><td>List(Devi, List(India, Delhi, Manager, Modeler))</td><td>Devi</td><td>India</td><td>Delhi</td><td>Manager</td><td>Modeler</td></tr><tr><td>List(Kedar, List(India, Delhi, Manager, Sales))</td><td>Kedar</td><td>India</td><td>Delhi</td><td>Manager</td><td>Sales</td></tr><tr><td>List(Smith, List(India, Delhi, Manager, Executive))</td><td>Smith</td><td>India</td><td>Delhi</td><td>Manager</td><td>Executive</td></tr></tbody></table></div>"
      ]
     },
     "metadata": {
      "application/vnd.databricks.v1+output": {
       "addedWidgets": {},
       "aggData": [],
       "aggError": "",
       "aggOverflow": false,
       "aggSchema": [],
       "aggSeriesLimitReached": false,
       "aggType": "",
       "arguments": {},
       "columnCustomDisplayInfos": {},
       "data": [
        [
         [
          "Hari",
          [
           "India",
           "Delhi",
           "Manager",
           "DE"
          ]
         ],
         "Hari",
         "India",
         "Delhi",
         "Manager",
         "DE"
        ],
        [
         [
          "Narahari",
          [
           "India",
           "Delhi",
           "Manager",
           "DS"
          ]
         ],
         "Narahari",
         "India",
         "Delhi",
         "Manager",
         "DS"
        ],
        [
         [
          "Venu",
          [
           "India",
           "Delhi",
           "Manager",
           "Engineer"
          ]
         ],
         "Venu",
         "India",
         "Delhi",
         "Manager",
         "Engineer"
        ],
        [
         [
          "Giri",
          [
           "India",
           "Delhi",
           "Manager",
           "Admin"
          ]
         ],
         "Giri",
         "India",
         "Delhi",
         "Manager",
         "Admin"
        ],
        [
         [
          "Sree",
          [
           "India",
           "Delhi",
           "Manager",
           "Developer"
          ]
         ],
         "Sree",
         "India",
         "Delhi",
         "Manager",
         "Developer"
        ],
        [
         [
          "Anu",
          [
           "India",
           "Delhi",
           "Manager",
           "Testing"
          ]
         ],
         "Anu",
         "India",
         "Delhi",
         "Manager",
         "Testing"
        ],
        [
         [
          "Devi",
          [
           "India",
           "Delhi",
           "Manager",
           "Modeler"
          ]
         ],
         "Devi",
         "India",
         "Delhi",
         "Manager",
         "Modeler"
        ],
        [
         [
          "Kedar",
          [
           "India",
           "Delhi",
           "Manager",
           "Sales"
          ]
         ],
         "Kedar",
         "India",
         "Delhi",
         "Manager",
         "Sales"
        ],
        [
         [
          "Smith",
          [
           "India",
           "Delhi",
           "Manager",
           "Executive"
          ]
         ],
         "Smith",
         "India",
         "Delhi",
         "Manager",
         "Executive"
        ]
       ],
       "datasetInfos": [],
       "dbfsResultPath": null,
       "isJsonSchema": true,
       "metadata": {},
       "overflow": false,
       "plotOptions": {
        "customPlotOptions": {},
        "displayType": "table",
        "pivotAggregation": null,
        "pivotColumns": null,
        "xColumns": null,
        "yColumns": null
       },
       "removedWidgets": [],
       "schema": [
        {
         "metadata": "{}",
         "name": "json_nest_map",
         "type": "{\"type\":\"struct\",\"fields\":[{\"name\":\"Name\",\"type\":\"string\",\"nullable\":true,\"metadata\":{}},{\"name\":\"map\",\"type\":{\"type\":\"struct\",\"fields\":[{\"name\":\"Country\",\"type\":\"string\",\"nullable\":true,\"metadata\":{}},{\"name\":\"City\",\"type\":\"string\",\"nullable\":true,\"metadata\":{}},{\"name\":\"Level\",\"type\":\"string\",\"nullable\":true,\"metadata\":{}},{\"name\":\"Designation\",\"type\":\"string\",\"nullable\":true,\"metadata\":{}}]},\"nullable\":true,\"metadata\":{}}]}"
        },
        {
         "metadata": "{}",
         "name": "name",
         "type": "\"string\""
        },
        {
         "metadata": "{}",
         "name": "country",
         "type": "\"string\""
        },
        {
         "metadata": "{}",
         "name": "city",
         "type": "\"string\""
        },
        {
         "metadata": "{}",
         "name": "level",
         "type": "\"string\""
        },
        {
         "metadata": "{}",
         "name": "designation",
         "type": "\"string\""
        }
       ],
       "type": "table"
      }
     },
     "output_type": "display_data"
    }
   ],
   "source": [
    "df_nest_json_col = df_nest_json.withColumn(\"name\", df_nest_json.json_nest_map.Name)\\\n",
    "  .withColumn(\"country\", df_nest_json.json_nest_map.map.Country)\\\n",
    "  .withColumn(\"city\", df_nest_json.json_nest_map.map.City)\\\n",
    "  .withColumn(\"level\", df_nest_json.json_nest_map.map.Level)\\\n",
    "  .withColumn(\"designation\", df_nest_json.json_nest_map.map.Designation)\\\n",
    "    .drop('id', 'Profile')\n",
    "\n",
    "display(df_nest_json_col)"
   ]
  },
  {
   "cell_type": "markdown",
   "metadata": {
    "application/vnd.databricks.v1+cell": {
     "cellMetadata": {},
     "inputWidgets": {},
     "nuid": "3dcd51e4-4405-41fb-a4cf-4ab5ede23d77",
     "showTitle": false,
     "tableResultSettingsMap": {},
     "title": ""
    }
   },
   "source": [
    "#### **3) Handling Null Values**\n",
    "- DataFrame with a column containing **JSON strings**, some of which might be **null**."
   ]
  },
  {
   "cell_type": "code",
   "execution_count": 0,
   "metadata": {
    "application/vnd.databricks.v1+cell": {
     "cellMetadata": {
      "byteLimit": 2048000,
      "rowLimit": 10000
     },
     "inputWidgets": {},
     "nuid": "9be73755-6e5d-451d-9838-f010b46a67e5",
     "showTitle": true,
     "tableResultSettingsMap": {},
     "title": "create sample dataset"
    }
   },
   "outputs": [
    {
     "output_type": "display_data",
     "data": {
      "text/html": [
       "<style scoped>\n",
       "  .table-result-container {\n",
       "    max-height: 300px;\n",
       "    overflow: auto;\n",
       "  }\n",
       "  table, th, td {\n",
       "    border: 1px solid black;\n",
       "    border-collapse: collapse;\n",
       "  }\n",
       "  th, td {\n",
       "    padding: 5px;\n",
       "  }\n",
       "  th {\n",
       "    text-align: left;\n",
       "  }\n",
       "</style><div class='table-result-container'><table class='table-result'><thead style='background-color: white'><tr><th>Name</th><th>Profile</th></tr></thead><tbody><tr><td>Naresh</td><td>{\"Country\": \"India\", \"City\": \"Delhi\", \"Level\": \"Manager\"}</td></tr><tr><td>Harish</td><td>{\"Country\": \"USA\", \"City\": \"New York\", \"Level\": \"SrManager\"}</td></tr><tr><td>Prem</td><td>{\"Country\": \"UK\", \"City\": \"London\", \"Level\": \"GM\"}</td></tr><tr><td>Prabhav</td><td>{\"Country\": \"Norway\", \"City\": \"Norths\", \"Level\": \"Executive\"}</td></tr><tr><td>Hari</td><td>{\"Country\": \"Sweden\", \"City\": \"Stockholm\", \"Level\": \"SrExecutive\"}</td></tr><tr><td>Druv</td><td>null</td></tr></tbody></table></div>"
      ]
     },
     "metadata": {
      "application/vnd.databricks.v1+output": {
       "addedWidgets": {},
       "aggData": [],
       "aggError": "",
       "aggOverflow": false,
       "aggSchema": [],
       "aggSeriesLimitReached": false,
       "aggType": "",
       "arguments": {},
       "columnCustomDisplayInfos": {},
       "data": [
        [
         "Naresh",
         "{\"Country\": \"India\", \"City\": \"Delhi\", \"Level\": \"Manager\"}"
        ],
        [
         "Harish",
         "{\"Country\": \"USA\", \"City\": \"New York\", \"Level\": \"SrManager\"}"
        ],
        [
         "Prem",
         "{\"Country\": \"UK\", \"City\": \"London\", \"Level\": \"GM\"}"
        ],
        [
         "Prabhav",
         "{\"Country\": \"Norway\", \"City\": \"Norths\", \"Level\": \"Executive\"}"
        ],
        [
         "Hari",
         "{\"Country\": \"Sweden\", \"City\": \"Stockholm\", \"Level\": \"SrExecutive\"}"
        ],
        [
         "Druv",
         null
        ]
       ],
       "datasetInfos": [],
       "dbfsResultPath": null,
       "isJsonSchema": true,
       "metadata": {},
       "overflow": false,
       "plotOptions": {
        "customPlotOptions": {},
        "displayType": "table",
        "pivotAggregation": null,
        "pivotColumns": null,
        "xColumns": null,
        "yColumns": null
       },
       "removedWidgets": [],
       "schema": [
        {
         "metadata": "{}",
         "name": "Name",
         "type": "\"string\""
        },
        {
         "metadata": "{}",
         "name": "Profile",
         "type": "\"string\""
        }
       ],
       "type": "table"
      }
     },
     "output_type": "display_data"
    }
   ],
   "source": [
    "# Sample DataFrame with a StringType column containing JSON strings\n",
    "data = [(\"Naresh\", '{\"Country\": \"India\", \"City\": \"Delhi\", \"Level\": \"Manager\"}'), \n",
    "        (\"Harish\", '{\"Country\": \"USA\", \"City\": \"New York\", \"Level\": \"SrManager\"}'),\n",
    "        (\"Prem\", '{\"Country\": \"UK\", \"City\": \"London\", \"Level\": \"GM\"}'), \n",
    "        (\"Prabhav\", '{\"Country\": \"Norway\", \"City\": \"Norths\", \"Level\": \"Executive\"}'),\n",
    "        (\"Hari\", '{\"Country\": \"Sweden\", \"City\": \"Stockholm\", \"Level\": \"SrExecutive\"}'), \n",
    "        (\"Druv\", None)\n",
    "        ]\n",
    "\n",
    "schema = [\"Name\", \"Profile\"]\n",
    "\n",
    "# Convert the StringType column to a MapType column\n",
    "df_null = spark.createDataFrame(data, schema)\n",
    "\n",
    "# Display the DataFrame\n",
    "display(df_null)"
   ]
  },
  {
   "cell_type": "code",
   "execution_count": 0,
   "metadata": {
    "application/vnd.databricks.v1+cell": {
     "cellMetadata": {
      "byteLimit": 2048000,
      "rowLimit": 10000
     },
     "inputWidgets": {},
     "nuid": "d1353a10-e52f-4d66-9a43-738c2d57e38f",
     "showTitle": true,
     "tableResultSettingsMap": {},
     "title": "convert json string to map type"
    }
   },
   "outputs": [
    {
     "output_type": "display_data",
     "data": {
      "text/html": [
       "<style scoped>\n",
       "  .table-result-container {\n",
       "    max-height: 300px;\n",
       "    overflow: auto;\n",
       "  }\n",
       "  table, th, td {\n",
       "    border: 1px solid black;\n",
       "    border-collapse: collapse;\n",
       "  }\n",
       "  th, td {\n",
       "    padding: 5px;\n",
       "  }\n",
       "  th {\n",
       "    text-align: left;\n",
       "  }\n",
       "</style><div class='table-result-container'><table class='table-result'><thead style='background-color: white'><tr><th>Name</th><th>Profile</th><th>json_null</th></tr></thead><tbody><tr><td>Naresh</td><td>{\"Country\": \"India\", \"City\": \"Delhi\", \"Level\": \"Manager\"}</td><td>Map(Country -> India, City -> Delhi, Level -> Manager)</td></tr><tr><td>Harish</td><td>{\"Country\": \"USA\", \"City\": \"New York\", \"Level\": \"SrManager\"}</td><td>Map(Country -> USA, City -> New York, Level -> SrManager)</td></tr><tr><td>Prem</td><td>{\"Country\": \"UK\", \"City\": \"London\", \"Level\": \"GM\"}</td><td>Map(Country -> UK, City -> London, Level -> GM)</td></tr><tr><td>Prabhav</td><td>{\"Country\": \"Norway\", \"City\": \"Norths\", \"Level\": \"Executive\"}</td><td>Map(Country -> Norway, City -> Norths, Level -> Executive)</td></tr><tr><td>Hari</td><td>{\"Country\": \"Sweden\", \"City\": \"Stockholm\", \"Level\": \"SrExecutive\"}</td><td>Map(Country -> Sweden, City -> Stockholm, Level -> SrExecutive)</td></tr><tr><td>Druv</td><td>null</td><td>null</td></tr></tbody></table></div>"
      ]
     },
     "metadata": {
      "application/vnd.databricks.v1+output": {
       "addedWidgets": {},
       "aggData": [],
       "aggError": "",
       "aggOverflow": false,
       "aggSchema": [],
       "aggSeriesLimitReached": false,
       "aggType": "",
       "arguments": {},
       "columnCustomDisplayInfos": {},
       "data": [
        [
         "Naresh",
         "{\"Country\": \"India\", \"City\": \"Delhi\", \"Level\": \"Manager\"}",
         {
          "City": "Delhi",
          "Country": "India",
          "Level": "Manager"
         }
        ],
        [
         "Harish",
         "{\"Country\": \"USA\", \"City\": \"New York\", \"Level\": \"SrManager\"}",
         {
          "City": "New York",
          "Country": "USA",
          "Level": "SrManager"
         }
        ],
        [
         "Prem",
         "{\"Country\": \"UK\", \"City\": \"London\", \"Level\": \"GM\"}",
         {
          "City": "London",
          "Country": "UK",
          "Level": "GM"
         }
        ],
        [
         "Prabhav",
         "{\"Country\": \"Norway\", \"City\": \"Norths\", \"Level\": \"Executive\"}",
         {
          "City": "Norths",
          "Country": "Norway",
          "Level": "Executive"
         }
        ],
        [
         "Hari",
         "{\"Country\": \"Sweden\", \"City\": \"Stockholm\", \"Level\": \"SrExecutive\"}",
         {
          "City": "Stockholm",
          "Country": "Sweden",
          "Level": "SrExecutive"
         }
        ],
        [
         "Druv",
         null,
         null
        ]
       ],
       "datasetInfos": [],
       "dbfsResultPath": null,
       "isJsonSchema": true,
       "metadata": {},
       "overflow": false,
       "plotOptions": {
        "customPlotOptions": {},
        "displayType": "table",
        "pivotAggregation": null,
        "pivotColumns": null,
        "xColumns": null,
        "yColumns": null
       },
       "removedWidgets": [],
       "schema": [
        {
         "metadata": "{}",
         "name": "Name",
         "type": "\"string\""
        },
        {
         "metadata": "{}",
         "name": "Profile",
         "type": "\"string\""
        },
        {
         "metadata": "{}",
         "name": "json_null",
         "type": "{\"type\":\"map\",\"keyType\":\"string\",\"valueType\":\"string\",\"valueContainsNull\":true}"
        }
       ],
       "type": "table"
      }
     },
     "output_type": "display_data"
    }
   ],
   "source": [
    "# Define the schema for the map\n",
    "map_schema = MapType(StringType(), StringType())\n",
    "\n",
    "# Convert the JSON string to MapType, handling null values\n",
    "df_null = df_null.withColumn(\"json_null\", from_json(col(\"Profile\"), map_schema))\n",
    "\n",
    "# Display the DataFrame\n",
    "display(df_null)"
   ]
  },
  {
   "cell_type": "code",
   "execution_count": 0,
   "metadata": {
    "application/vnd.databricks.v1+cell": {
     "cellMetadata": {
      "byteLimit": 2048000,
      "rowLimit": 10000
     },
     "inputWidgets": {},
     "nuid": "0cbf1b44-2e43-46d1-823e-41ca9b2b9d8b",
     "showTitle": true,
     "tableResultSettingsMap": {},
     "title": "replace empty JSON object"
    }
   },
   "outputs": [
    {
     "output_type": "display_data",
     "data": {
      "text/html": [
       "<style scoped>\n",
       "  .table-result-container {\n",
       "    max-height: 300px;\n",
       "    overflow: auto;\n",
       "  }\n",
       "  table, th, td {\n",
       "    border: 1px solid black;\n",
       "    border-collapse: collapse;\n",
       "  }\n",
       "  th, td {\n",
       "    padding: 5px;\n",
       "  }\n",
       "  th {\n",
       "    text-align: left;\n",
       "  }\n",
       "</style><div class='table-result-container'><table class='table-result'><thead style='background-color: white'><tr><th>Name</th><th>Profile</th><th>json_null</th></tr></thead><tbody><tr><td>Naresh</td><td>{\"Country\": \"India\", \"City\": \"Delhi\", \"Level\": \"Manager\"}</td><td>Map(Country -> India, City -> Delhi, Level -> Manager)</td></tr><tr><td>Harish</td><td>{\"Country\": \"USA\", \"City\": \"New York\", \"Level\": \"SrManager\"}</td><td>Map(Country -> USA, City -> New York, Level -> SrManager)</td></tr><tr><td>Prem</td><td>{\"Country\": \"UK\", \"City\": \"London\", \"Level\": \"GM\"}</td><td>Map(Country -> UK, City -> London, Level -> GM)</td></tr><tr><td>Prabhav</td><td>{\"Country\": \"Norway\", \"City\": \"Norths\", \"Level\": \"Executive\"}</td><td>Map(Country -> Norway, City -> Norths, Level -> Executive)</td></tr><tr><td>Hari</td><td>{\"Country\": \"Sweden\", \"City\": \"Stockholm\", \"Level\": \"SrExecutive\"}</td><td>Map(Country -> Sweden, City -> Stockholm, Level -> SrExecutive)</td></tr><tr><td>Druv</td><td>null</td><td>Map()</td></tr></tbody></table></div>"
      ]
     },
     "metadata": {
      "application/vnd.databricks.v1+output": {
       "addedWidgets": {},
       "aggData": [],
       "aggError": "",
       "aggOverflow": false,
       "aggSchema": [],
       "aggSeriesLimitReached": false,
       "aggType": "",
       "arguments": {},
       "columnCustomDisplayInfos": {},
       "data": [
        [
         "Naresh",
         "{\"Country\": \"India\", \"City\": \"Delhi\", \"Level\": \"Manager\"}",
         {
          "City": "Delhi",
          "Country": "India",
          "Level": "Manager"
         }
        ],
        [
         "Harish",
         "{\"Country\": \"USA\", \"City\": \"New York\", \"Level\": \"SrManager\"}",
         {
          "City": "New York",
          "Country": "USA",
          "Level": "SrManager"
         }
        ],
        [
         "Prem",
         "{\"Country\": \"UK\", \"City\": \"London\", \"Level\": \"GM\"}",
         {
          "City": "London",
          "Country": "UK",
          "Level": "GM"
         }
        ],
        [
         "Prabhav",
         "{\"Country\": \"Norway\", \"City\": \"Norths\", \"Level\": \"Executive\"}",
         {
          "City": "Norths",
          "Country": "Norway",
          "Level": "Executive"
         }
        ],
        [
         "Hari",
         "{\"Country\": \"Sweden\", \"City\": \"Stockholm\", \"Level\": \"SrExecutive\"}",
         {
          "City": "Stockholm",
          "Country": "Sweden",
          "Level": "SrExecutive"
         }
        ],
        [
         "Druv",
         null,
         {}
        ]
       ],
       "datasetInfos": [],
       "dbfsResultPath": null,
       "isJsonSchema": true,
       "metadata": {},
       "overflow": false,
       "plotOptions": {
        "customPlotOptions": {},
        "displayType": "table",
        "pivotAggregation": null,
        "pivotColumns": null,
        "xColumns": null,
        "yColumns": null
       },
       "removedWidgets": [],
       "schema": [
        {
         "metadata": "{}",
         "name": "Name",
         "type": "\"string\""
        },
        {
         "metadata": "{}",
         "name": "Profile",
         "type": "\"string\""
        },
        {
         "metadata": "{}",
         "name": "json_null",
         "type": "{\"type\":\"map\",\"keyType\":\"string\",\"valueType\":\"string\",\"valueContainsNull\":true}"
        }
       ],
       "type": "table"
      }
     },
     "output_type": "display_data"
    }
   ],
   "source": [
    "# Convert the JSON string to MapType, handling null values\n",
    "# coalesce function to replace any null values in the json_str column with an empty JSON object ('{}')\n",
    "df_null_lit = df_null.withColumn(\"json_null\", from_json(coalesce(col(\"Profile\"), lit('{}')), map_schema))\n",
    "\n",
    "# Display the DataFrame\n",
    "display(df_null_lit)"
   ]
  },
  {
   "cell_type": "markdown",
   "metadata": {
    "application/vnd.databricks.v1+cell": {
     "cellMetadata": {},
     "inputWidgets": {},
     "nuid": "379e7425-4585-494e-8e75-c27a882ab49b",
     "showTitle": false,
     "tableResultSettingsMap": {},
     "title": ""
    }
   },
   "source": [
    "#### **4) Scenario**\n",
    "- **Source files:** CSV & AVRO schema\n",
    "- **Requirement:** Convert string data type to map type"
   ]
  },
  {
   "cell_type": "markdown",
   "metadata": {
    "application/vnd.databricks.v1+cell": {
     "cellMetadata": {},
     "inputWidgets": {},
     "nuid": "2f6b8260-fdf2-40c3-b6b9-de36029d0772",
     "showTitle": false,
     "tableResultSettingsMap": {},
     "title": ""
    }
   },
   "source": [
    "**AVRO Schema for Cust_Metadata**\n",
    "\n",
    "     {\n",
    "       \"name\": \"Cust_Metadata\",\n",
    "       \"type\": [\n",
    "         \"null\",\n",
    "         {\n",
    "           \"type\": \"map\",\n",
    "           \"values\": \"string\"\n",
    "         }\n",
    "       ],\n",
    "       \"doc\": \"additional key value pair, e.g Cust_Subgroup.\",\n",
    "       \"default\": null\n",
    "     }"
   ]
  },
  {
   "cell_type": "markdown",
   "metadata": {
    "application/vnd.databricks.v1+cell": {
     "cellMetadata": {},
     "inputWidgets": {},
     "nuid": "987e4c90-4f7f-49be-b481-df3d1ee75c2d",
     "showTitle": false,
     "tableResultSettingsMap": {},
     "title": ""
    }
   },
   "source": [
    "**AVRO Schema for Price_Metadata**\n",
    "\n",
    "     {\n",
    "       \"name\": \"Price_Metadata\",\n",
    "       \"type\": [\n",
    "         \"null\",\n",
    "         {\n",
    "           \"type\": \"map\",\n",
    "           \"values\": \"string\"\n",
    "         }\n",
    "       ],\n",
    "       \"doc\": \"additional key value pair, e.g Company_Name, Category, Location & Cust_Type.\",\n",
    "       \"default\": null\n",
    "     }"
   ]
  },
  {
   "cell_type": "markdown",
   "metadata": {
    "application/vnd.databricks.v1+cell": {
     "cellMetadata": {},
     "inputWidgets": {},
     "nuid": "019e479a-3eb0-4246-9816-67894a02b0ab",
     "showTitle": false,
     "tableResultSettingsMap": {},
     "title": ""
    }
   },
   "source": [
    "**AVRO Schema for Additional_Metadata**\n",
    "\n",
    "     {\n",
    "       \"name\": \"Additional_Metadata\",\n",
    "       \"type\": [\n",
    "         \"null\",\n",
    "         {\n",
    "           \"type\": \"map\",\n",
    "           \"values\": \"string\"\n",
    "         }\n",
    "       ],\n",
    "       \"doc\": \"additional key value pair, e.g Cust_Category.\",\n",
    "       \"default\": null\n",
    "     }"
   ]
  },
  {
   "cell_type": "code",
   "execution_count": 0,
   "metadata": {
    "application/vnd.databricks.v1+cell": {
     "cellMetadata": {
      "byteLimit": 2048000,
      "rowLimit": 10000
     },
     "inputWidgets": {},
     "nuid": "0a39047f-647a-4073-a6d3-80ba10e5597c",
     "showTitle": true,
     "tableResultSettingsMap": {},
     "title": "Read dataset"
    }
   },
   "outputs": [
    {
     "output_type": "display_data",
     "data": {
      "text/html": [
       "<style scoped>\n",
       "  .table-result-container {\n",
       "    max-height: 300px;\n",
       "    overflow: auto;\n",
       "  }\n",
       "  table, th, td {\n",
       "    border: 1px solid black;\n",
       "    border-collapse: collapse;\n",
       "  }\n",
       "  th, td {\n",
       "    padding: 5px;\n",
       "  }\n",
       "  th {\n",
       "    text-align: left;\n",
       "  }\n",
       "</style><div class='table-result-container'><table class='table-result'><thead style='background-color: white'><tr><th>Company_Name</th><th>Cust_Id</th><th>Cust_Name</th><th>Category</th><th>Start_Date</th><th>Start_Cust_Date</th><th>End_Date</th><th>Updated_Date</th><th>Cust_Value</th><th>Cust_Type</th><th>Exchange</th><th>Location</th><th>Last_Date_UTC</th><th>Cust_Category</th><th>Index</th><th>Cust_Subgroup</th><th>Cust_Metadata</th><th>Price_Metadata</th><th>Additional_Metadata</th></tr></thead><tbody><tr><td>Sony</td><td>20</td><td>Naresh</td><td>Standard</td><td>3-Feb-23</td><td>1.73E12</td><td>1.73E12</td><td>1.73E12</td><td>30</td><td>STD</td><td>EUR</td><td>IND</td><td>1.72E12</td><td>SETTL</td><td>true</td><td>Engineer</td><td>null</td><td>null</td><td>null</td></tr><tr><td>Sony</td><td>21</td><td>kamal</td><td>Standard</td><td>6-Feb-23</td><td>1.73E12</td><td>1.73E12</td><td>1.73E12</td><td>25</td><td>STD</td><td>EUR</td><td>IND</td><td>1.72E12</td><td>TOI</td><td>false</td><td>Engineer</td><td>null</td><td>null</td><td>null</td></tr><tr><td>Sony</td><td>22</td><td>kajal</td><td>Standard</td><td>9-Feb-23</td><td>1.73E12</td><td>1.73E12</td><td>1.73E12</td><td>28</td><td>STD</td><td>EUR</td><td>IND</td><td>1.72E12</td><td>TOI</td><td>false</td><td>Engineer</td><td>null</td><td>null</td><td>null</td></tr><tr><td>Sony</td><td>23</td><td>kiran</td><td>Standard</td><td>3-Jan-24</td><td>1.73E12</td><td>1.73E12</td><td>1.73E12</td><td>31</td><td>STD</td><td>EUR</td><td>IND</td><td>1.72E12</td><td>TOI</td><td>false</td><td>Engineer</td><td>null</td><td>null</td><td>null</td></tr><tr><td>Sony</td><td>24</td><td>sam</td><td>Standard</td><td>8-Jan-24</td><td>1.73E12</td><td>1.73E12</td><td>1.73E12</td><td>34</td><td>STD</td><td>EUR</td><td>IND</td><td>1.72E12</td><td>TOI</td><td>false</td><td>Engineer</td><td>null</td><td>null</td><td>null</td></tr><tr><td>Sony</td><td>25</td><td>sourab</td><td>Standard</td><td>9-Jan-24</td><td>1.73E12</td><td>1.74E12</td><td>1.73E12</td><td>37</td><td>STD</td><td>EUR</td><td>IND</td><td>1.72E12</td><td>TOI</td><td>true</td><td>Engineer</td><td>null</td><td>null</td><td>null</td></tr><tr><td>Sony</td><td>26</td><td>jai</td><td>Upper</td><td>3-Mar-23</td><td>1.73E12</td><td>1.74E12</td><td>1.73E12</td><td>40</td><td>STD</td><td>EUR</td><td>IND</td><td>1.72E12</td><td>TOI</td><td>true</td><td>Engineer</td><td>null</td><td>null</td><td>null</td></tr><tr><td>BPL</td><td>27</td><td>sree</td><td>Upper</td><td>6-Mar-23</td><td>1.73E12</td><td>1.73E12</td><td>1.73E12</td><td>43</td><td>STD</td><td>EUR</td><td>IND</td><td>1.72E12</td><td>SETTL</td><td>true</td><td>Engineer</td><td>null</td><td>null</td><td>null</td></tr><tr><td>BPL</td><td>28</td><td>sreenath</td><td>Upper</td><td>9-Mar-23</td><td>1.73E12</td><td>1.74E12</td><td>1.73E12</td><td>46</td><td>STD</td><td>EUR</td><td>IND</td><td>1.72E12</td><td>SETTL</td><td>true</td><td>Engineer</td><td>null</td><td>null</td><td>null</td></tr><tr><td>BPL</td><td>29</td><td>kamaesh</td><td>Upper</td><td>3-Jan-25</td><td>1.74E12</td><td>1.74E12</td><td>1.73E12</td><td>49</td><td>STD</td><td>EUR</td><td>IND</td><td>1.72E12</td><td>SETTL</td><td>false</td><td>SrEngineer</td><td>null</td><td>null</td><td>null</td></tr></tbody></table></div>"
      ]
     },
     "metadata": {
      "application/vnd.databricks.v1+output": {
       "addedWidgets": {},
       "aggData": [],
       "aggError": "",
       "aggOverflow": false,
       "aggSchema": [],
       "aggSeriesLimitReached": false,
       "aggType": "",
       "arguments": {},
       "columnCustomDisplayInfos": {},
       "data": [
        [
         "Sony",
         20,
         "Naresh",
         "Standard",
         "3-Feb-23",
         1.73E12,
         1.73E12,
         1.73E12,
         30,
         "STD",
         "EUR",
         "IND",
         1.72E12,
         "SETTL",
         true,
         "Engineer",
         null,
         null,
         null
        ],
        [
         "Sony",
         21,
         "kamal",
         "Standard",
         "6-Feb-23",
         1.73E12,
         1.73E12,
         1.73E12,
         25,
         "STD",
         "EUR",
         "IND",
         1.72E12,
         "TOI",
         false,
         "Engineer",
         null,
         null,
         null
        ],
        [
         "Sony",
         22,
         "kajal",
         "Standard",
         "9-Feb-23",
         1.73E12,
         1.73E12,
         1.73E12,
         28,
         "STD",
         "EUR",
         "IND",
         1.72E12,
         "TOI",
         false,
         "Engineer",
         null,
         null,
         null
        ],
        [
         "Sony",
         23,
         "kiran",
         "Standard",
         "3-Jan-24",
         1.73E12,
         1.73E12,
         1.73E12,
         31,
         "STD",
         "EUR",
         "IND",
         1.72E12,
         "TOI",
         false,
         "Engineer",
         null,
         null,
         null
        ],
        [
         "Sony",
         24,
         "sam",
         "Standard",
         "8-Jan-24",
         1.73E12,
         1.73E12,
         1.73E12,
         34,
         "STD",
         "EUR",
         "IND",
         1.72E12,
         "TOI",
         false,
         "Engineer",
         null,
         null,
         null
        ],
        [
         "Sony",
         25,
         "sourab",
         "Standard",
         "9-Jan-24",
         1.73E12,
         1.74E12,
         1.73E12,
         37,
         "STD",
         "EUR",
         "IND",
         1.72E12,
         "TOI",
         true,
         "Engineer",
         null,
         null,
         null
        ],
        [
         "Sony",
         26,
         "jai",
         "Upper",
         "3-Mar-23",
         1.73E12,
         1.74E12,
         1.73E12,
         40,
         "STD",
         "EUR",
         "IND",
         1.72E12,
         "TOI",
         true,
         "Engineer",
         null,
         null,
         null
        ],
        [
         "BPL",
         27,
         "sree",
         "Upper",
         "6-Mar-23",
         1.73E12,
         1.73E12,
         1.73E12,
         43,
         "STD",
         "EUR",
         "IND",
         1.72E12,
         "SETTL",
         true,
         "Engineer",
         null,
         null,
         null
        ],
        [
         "BPL",
         28,
         "sreenath",
         "Upper",
         "9-Mar-23",
         1.73E12,
         1.74E12,
         1.73E12,
         46,
         "STD",
         "EUR",
         "IND",
         1.72E12,
         "SETTL",
         true,
         "Engineer",
         null,
         null,
         null
        ],
        [
         "BPL",
         29,
         "kamaesh",
         "Upper",
         "3-Jan-25",
         1.74E12,
         1.74E12,
         1.73E12,
         49,
         "STD",
         "EUR",
         "IND",
         1.72E12,
         "SETTL",
         false,
         "SrEngineer",
         null,
         null,
         null
        ]
       ],
       "datasetInfos": [],
       "dbfsResultPath": null,
       "isJsonSchema": true,
       "metadata": {},
       "overflow": false,
       "plotOptions": {
        "customPlotOptions": {},
        "displayType": "table",
        "pivotAggregation": null,
        "pivotColumns": null,
        "xColumns": null,
        "yColumns": null
       },
       "removedWidgets": [],
       "schema": [
        {
         "metadata": "{}",
         "name": "Company_Name",
         "type": "\"string\""
        },
        {
         "metadata": "{}",
         "name": "Cust_Id",
         "type": "\"integer\""
        },
        {
         "metadata": "{}",
         "name": "Cust_Name",
         "type": "\"string\""
        },
        {
         "metadata": "{}",
         "name": "Category",
         "type": "\"string\""
        },
        {
         "metadata": "{}",
         "name": "Start_Date",
         "type": "\"string\""
        },
        {
         "metadata": "{}",
         "name": "Start_Cust_Date",
         "type": "\"double\""
        },
        {
         "metadata": "{}",
         "name": "End_Date",
         "type": "\"double\""
        },
        {
         "metadata": "{}",
         "name": "Updated_Date",
         "type": "\"double\""
        },
        {
         "metadata": "{}",
         "name": "Cust_Value",
         "type": "\"integer\""
        },
        {
         "metadata": "{}",
         "name": "Cust_Type",
         "type": "\"string\""
        },
        {
         "metadata": "{}",
         "name": "Exchange",
         "type": "\"string\""
        },
        {
         "metadata": "{}",
         "name": "Location",
         "type": "\"string\""
        },
        {
         "metadata": "{}",
         "name": "Last_Date_UTC",
         "type": "\"double\""
        },
        {
         "metadata": "{}",
         "name": "Cust_Category",
         "type": "\"string\""
        },
        {
         "metadata": "{}",
         "name": "Index",
         "type": "\"boolean\""
        },
        {
         "metadata": "{}",
         "name": "Cust_Subgroup",
         "type": "\"string\""
        },
        {
         "metadata": "{}",
         "name": "Cust_Metadata",
         "type": "\"string\""
        },
        {
         "metadata": "{}",
         "name": "Price_Metadata",
         "type": "\"string\""
        },
        {
         "metadata": "{}",
         "name": "Additional_Metadata",
         "type": "\"string\""
        }
       ],
       "type": "table"
      }
     },
     "output_type": "display_data"
    }
   ],
   "source": [
    "df = spark.read.csv(\"/FileStore/tables/StringToMaptype-1.csv\", header=True, inferSchema=True)\n",
    "display(df.limit(10))"
   ]
  },
  {
   "cell_type": "code",
   "execution_count": 0,
   "metadata": {
    "application/vnd.databricks.v1+cell": {
     "cellMetadata": {
      "byteLimit": 2048000,
      "rowLimit": 10000
     },
     "inputWidgets": {},
     "nuid": "20b720db-1640-4736-b89b-b20d1efc0fb8",
     "showTitle": true,
     "tableResultSettingsMap": {},
     "title": "Convert string to map type"
    }
   },
   "outputs": [
    {
     "output_type": "display_data",
     "data": {
      "text/html": [
       "<style scoped>\n",
       "  .table-result-container {\n",
       "    max-height: 300px;\n",
       "    overflow: auto;\n",
       "  }\n",
       "  table, th, td {\n",
       "    border: 1px solid black;\n",
       "    border-collapse: collapse;\n",
       "  }\n",
       "  th, td {\n",
       "    padding: 5px;\n",
       "  }\n",
       "  th {\n",
       "    text-align: left;\n",
       "  }\n",
       "</style><div class='table-result-container'><table class='table-result'><thead style='background-color: white'><tr><th>Company_Name</th><th>Cust_Id</th><th>Cust_Name</th><th>Category</th><th>Start_Date</th><th>Start_Cust_Date</th><th>End_Date</th><th>Updated_Date</th><th>Cust_Value</th><th>Cust_Type</th><th>Exchange</th><th>Location</th><th>Last_Date_UTC</th><th>Cust_Category</th><th>Index</th><th>Cust_Subgroup</th><th>Cust_Metadata</th><th>Price_Metadata</th><th>Additional_Metadata</th></tr></thead><tbody><tr><td>Sony</td><td>20</td><td>Naresh</td><td>Standard</td><td>3-Feb-23</td><td>1.73E12</td><td>1.73E12</td><td>1.73E12</td><td>30</td><td>STD</td><td>EUR</td><td>IND</td><td>1.72E12</td><td>SETTL</td><td>true</td><td>Engineer</td><td>null</td><td>null</td><td>null</td></tr><tr><td>Sony</td><td>21</td><td>kamal</td><td>Standard</td><td>6-Feb-23</td><td>1.73E12</td><td>1.73E12</td><td>1.73E12</td><td>25</td><td>STD</td><td>EUR</td><td>IND</td><td>1.72E12</td><td>TOI</td><td>false</td><td>Engineer</td><td>null</td><td>null</td><td>null</td></tr><tr><td>Sony</td><td>22</td><td>kajal</td><td>Standard</td><td>9-Feb-23</td><td>1.73E12</td><td>1.73E12</td><td>1.73E12</td><td>28</td><td>STD</td><td>EUR</td><td>IND</td><td>1.72E12</td><td>TOI</td><td>false</td><td>Engineer</td><td>null</td><td>null</td><td>null</td></tr><tr><td>Sony</td><td>23</td><td>kiran</td><td>Standard</td><td>3-Jan-24</td><td>1.73E12</td><td>1.73E12</td><td>1.73E12</td><td>31</td><td>STD</td><td>EUR</td><td>IND</td><td>1.72E12</td><td>TOI</td><td>false</td><td>Engineer</td><td>null</td><td>null</td><td>null</td></tr><tr><td>Sony</td><td>24</td><td>sam</td><td>Standard</td><td>8-Jan-24</td><td>1.73E12</td><td>1.73E12</td><td>1.73E12</td><td>34</td><td>STD</td><td>EUR</td><td>IND</td><td>1.72E12</td><td>TOI</td><td>false</td><td>Engineer</td><td>null</td><td>null</td><td>null</td></tr><tr><td>Sony</td><td>25</td><td>sourab</td><td>Standard</td><td>9-Jan-24</td><td>1.73E12</td><td>1.74E12</td><td>1.73E12</td><td>37</td><td>STD</td><td>EUR</td><td>IND</td><td>1.72E12</td><td>TOI</td><td>true</td><td>Engineer</td><td>null</td><td>null</td><td>null</td></tr><tr><td>Sony</td><td>26</td><td>jai</td><td>Upper</td><td>3-Mar-23</td><td>1.73E12</td><td>1.74E12</td><td>1.73E12</td><td>40</td><td>STD</td><td>EUR</td><td>IND</td><td>1.72E12</td><td>TOI</td><td>true</td><td>Engineer</td><td>null</td><td>null</td><td>null</td></tr><tr><td>BPL</td><td>27</td><td>sree</td><td>Upper</td><td>6-Mar-23</td><td>1.73E12</td><td>1.73E12</td><td>1.73E12</td><td>43</td><td>STD</td><td>EUR</td><td>IND</td><td>1.72E12</td><td>SETTL</td><td>true</td><td>Engineer</td><td>null</td><td>null</td><td>null</td></tr><tr><td>BPL</td><td>28</td><td>sreenath</td><td>Upper</td><td>9-Mar-23</td><td>1.73E12</td><td>1.74E12</td><td>1.73E12</td><td>46</td><td>STD</td><td>EUR</td><td>IND</td><td>1.72E12</td><td>SETTL</td><td>true</td><td>Engineer</td><td>null</td><td>null</td><td>null</td></tr><tr><td>BPL</td><td>29</td><td>kamaesh</td><td>Upper</td><td>3-Jan-25</td><td>1.74E12</td><td>1.74E12</td><td>1.73E12</td><td>49</td><td>STD</td><td>EUR</td><td>IND</td><td>1.72E12</td><td>SETTL</td><td>false</td><td>SrEngineer</td><td>null</td><td>null</td><td>null</td></tr></tbody></table></div>"
      ]
     },
     "metadata": {
      "application/vnd.databricks.v1+output": {
       "addedWidgets": {},
       "aggData": [],
       "aggError": "",
       "aggOverflow": false,
       "aggSchema": [],
       "aggSeriesLimitReached": false,
       "aggType": "",
       "arguments": {},
       "columnCustomDisplayInfos": {},
       "data": [
        [
         "Sony",
         20,
         "Naresh",
         "Standard",
         "3-Feb-23",
         1.73E12,
         1.73E12,
         1.73E12,
         30,
         "STD",
         "EUR",
         "IND",
         1.72E12,
         "SETTL",
         true,
         "Engineer",
         null,
         null,
         null
        ],
        [
         "Sony",
         21,
         "kamal",
         "Standard",
         "6-Feb-23",
         1.73E12,
         1.73E12,
         1.73E12,
         25,
         "STD",
         "EUR",
         "IND",
         1.72E12,
         "TOI",
         false,
         "Engineer",
         null,
         null,
         null
        ],
        [
         "Sony",
         22,
         "kajal",
         "Standard",
         "9-Feb-23",
         1.73E12,
         1.73E12,
         1.73E12,
         28,
         "STD",
         "EUR",
         "IND",
         1.72E12,
         "TOI",
         false,
         "Engineer",
         null,
         null,
         null
        ],
        [
         "Sony",
         23,
         "kiran",
         "Standard",
         "3-Jan-24",
         1.73E12,
         1.73E12,
         1.73E12,
         31,
         "STD",
         "EUR",
         "IND",
         1.72E12,
         "TOI",
         false,
         "Engineer",
         null,
         null,
         null
        ],
        [
         "Sony",
         24,
         "sam",
         "Standard",
         "8-Jan-24",
         1.73E12,
         1.73E12,
         1.73E12,
         34,
         "STD",
         "EUR",
         "IND",
         1.72E12,
         "TOI",
         false,
         "Engineer",
         null,
         null,
         null
        ],
        [
         "Sony",
         25,
         "sourab",
         "Standard",
         "9-Jan-24",
         1.73E12,
         1.74E12,
         1.73E12,
         37,
         "STD",
         "EUR",
         "IND",
         1.72E12,
         "TOI",
         true,
         "Engineer",
         null,
         null,
         null
        ],
        [
         "Sony",
         26,
         "jai",
         "Upper",
         "3-Mar-23",
         1.73E12,
         1.74E12,
         1.73E12,
         40,
         "STD",
         "EUR",
         "IND",
         1.72E12,
         "TOI",
         true,
         "Engineer",
         null,
         null,
         null
        ],
        [
         "BPL",
         27,
         "sree",
         "Upper",
         "6-Mar-23",
         1.73E12,
         1.73E12,
         1.73E12,
         43,
         "STD",
         "EUR",
         "IND",
         1.72E12,
         "SETTL",
         true,
         "Engineer",
         null,
         null,
         null
        ],
        [
         "BPL",
         28,
         "sreenath",
         "Upper",
         "9-Mar-23",
         1.73E12,
         1.74E12,
         1.73E12,
         46,
         "STD",
         "EUR",
         "IND",
         1.72E12,
         "SETTL",
         true,
         "Engineer",
         null,
         null,
         null
        ],
        [
         "BPL",
         29,
         "kamaesh",
         "Upper",
         "3-Jan-25",
         1.74E12,
         1.74E12,
         1.73E12,
         49,
         "STD",
         "EUR",
         "IND",
         1.72E12,
         "SETTL",
         false,
         "SrEngineer",
         null,
         null,
         null
        ]
       ],
       "datasetInfos": [],
       "dbfsResultPath": null,
       "isJsonSchema": true,
       "metadata": {},
       "overflow": false,
       "plotOptions": {
        "customPlotOptions": {},
        "displayType": "table",
        "pivotAggregation": null,
        "pivotColumns": null,
        "xColumns": null,
        "yColumns": null
       },
       "removedWidgets": [],
       "schema": [
        {
         "metadata": "{}",
         "name": "Company_Name",
         "type": "\"string\""
        },
        {
         "metadata": "{}",
         "name": "Cust_Id",
         "type": "\"integer\""
        },
        {
         "metadata": "{}",
         "name": "Cust_Name",
         "type": "\"string\""
        },
        {
         "metadata": "{}",
         "name": "Category",
         "type": "\"string\""
        },
        {
         "metadata": "{}",
         "name": "Start_Date",
         "type": "\"string\""
        },
        {
         "metadata": "{}",
         "name": "Start_Cust_Date",
         "type": "\"double\""
        },
        {
         "metadata": "{}",
         "name": "End_Date",
         "type": "\"double\""
        },
        {
         "metadata": "{}",
         "name": "Updated_Date",
         "type": "\"double\""
        },
        {
         "metadata": "{}",
         "name": "Cust_Value",
         "type": "\"integer\""
        },
        {
         "metadata": "{}",
         "name": "Cust_Type",
         "type": "\"string\""
        },
        {
         "metadata": "{}",
         "name": "Exchange",
         "type": "\"string\""
        },
        {
         "metadata": "{}",
         "name": "Location",
         "type": "\"string\""
        },
        {
         "metadata": "{}",
         "name": "Last_Date_UTC",
         "type": "\"double\""
        },
        {
         "metadata": "{}",
         "name": "Cust_Category",
         "type": "\"string\""
        },
        {
         "metadata": "{}",
         "name": "Index",
         "type": "\"boolean\""
        },
        {
         "metadata": "{}",
         "name": "Cust_Subgroup",
         "type": "\"string\""
        },
        {
         "metadata": "{}",
         "name": "Cust_Metadata",
         "type": "{\"type\":\"map\",\"keyType\":\"string\",\"valueType\":\"string\",\"valueContainsNull\":true}"
        },
        {
         "metadata": "{}",
         "name": "Price_Metadata",
         "type": "{\"type\":\"map\",\"keyType\":\"string\",\"valueType\":\"string\",\"valueContainsNull\":true}"
        },
        {
         "metadata": "{}",
         "name": "Additional_Metadata",
         "type": "{\"type\":\"map\",\"keyType\":\"string\",\"valueType\":\"string\",\"valueContainsNull\":true}"
        }
       ],
       "type": "table"
      }
     },
     "output_type": "display_data"
    }
   ],
   "source": [
    "# Convert string type (Cust_Metadata, Price_Metadata & Additional_Metadata) to a map type\n",
    "df_str_map = df\\\n",
    "    .withColumn(\"Cust_Metadata\", from_json(col(\"Cust_Metadata\"), MapType(StringType(), StringType())))\\\n",
    "    .withColumn(\"Price_Metadata\", from_json(col(\"Price_Metadata\"), MapType(StringType(), StringType())))\\\n",
    "    .withColumn(\"Additional_Metadata\", from_json(col(\"Additional_Metadata\"), MapType(StringType(), StringType())))\n",
    "\n",
    "display(df_str_map.limit(10))"
   ]
  }
 ],
 "metadata": {
  "application/vnd.databricks.v1+notebook": {
   "dashboards": [],
   "environmentMetadata": null,
   "language": "python",
   "notebookMetadata": {
    "pythonIndentUnit": 2
   },
   "notebookName": "47_How to change data type from JSON string to map type",
   "widgets": {}
  }
 },
 "nbformat": 4,
 "nbformat_minor": 0
}
