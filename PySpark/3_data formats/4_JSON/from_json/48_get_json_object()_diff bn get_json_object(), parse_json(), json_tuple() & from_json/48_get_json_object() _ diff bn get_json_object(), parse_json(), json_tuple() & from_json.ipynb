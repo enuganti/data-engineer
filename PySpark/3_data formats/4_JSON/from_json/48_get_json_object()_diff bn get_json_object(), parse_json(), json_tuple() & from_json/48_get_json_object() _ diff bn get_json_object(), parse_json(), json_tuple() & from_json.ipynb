{
 "cells": [
  {
   "cell_type": "markdown",
   "metadata": {
    "application/vnd.databricks.v1+cell": {
     "cellMetadata": {},
     "inputWidgets": {},
     "nuid": "37ec0684-5cee-4648-a9ac-d1d4a2f35d29",
     "showTitle": false,
     "tableResultSettingsMap": {},
     "title": ""
    }
   },
   "source": [
    "##### get_json_object\n",
    "\n",
    "- is used to **extract** a specific **JSON object or value** from a **JSON string** column within a DataFrame.\n",
    "- Works directly on **JSON strings** (no need to **parse** into **struct** first).\n",
    "- Useful when you need **only a few fields** from **raw JSON without schema**."
   ]
  },
  {
   "cell_type": "markdown",
   "metadata": {
    "application/vnd.databricks.v1+cell": {
     "cellMetadata": {},
     "inputWidgets": {},
     "nuid": "52001905-e01d-4cc5-a8a1-94192b5b9676",
     "showTitle": false,
     "tableResultSettingsMap": {},
     "title": ""
    }
   },
   "source": [
    "#### Syntax\n",
    "\n",
    "     get_json_object(col(\"json_column\"), \"$.path\")\n",
    "\n",
    "     $ → root\n",
    "     dot . → for nested objects\n",
    "     [index] → for arrays\n",
    "\n",
    "|            JSON string                                                      | field ($.name) | field.subfield ($.details.city) | array[0] |\n",
    "|-----------------------------------------------------------------------------|----------------|---------------------------------|------------|\n",
    "| (1, '{\"id\": 1, \"name\": \"Albert\", \"details\": {\"age\": 30, \"city\": \"Delhi\"}}, \"hobbies\": [\"reading\", \"sports\", \"music\"]') |   Albert  |  Delhi  | reading  |\n",
    "\n",
    "- **$.field** → Top-level (root) field\n",
    "- **$.field.subfield** → Nested field\n",
    "- **$.array[0]** → First element in array\n",
    "\n",
    "**Return Value:**\n",
    "- Returns **value** as a **string** (you must **cast** if you need **int, double,** etc.).\n",
    "- The function returns a **Column object** containing the **extracted JSON string** of the specified **object or value**.\n",
    "- If the **JSON string** is **invalid** or the **JSONPath does not match** any element, it returns **null**."
   ]
  },
  {
   "cell_type": "code",
   "execution_count": 0,
   "metadata": {
    "application/vnd.databricks.v1+cell": {
     "cellMetadata": {
      "byteLimit": 2048000,
      "rowLimit": 10000
     },
     "inputWidgets": {},
     "nuid": "a6e557db-1ebc-4420-978a-0e4092857b11",
     "showTitle": false,
     "tableResultSettingsMap": {},
     "title": ""
    }
   },
   "outputs": [],
   "source": [
    "from pyspark.sql.functions import col, get_json_object, json_tuple, expr"
   ]
  },
  {
   "cell_type": "code",
   "execution_count": 0,
   "metadata": {
    "application/vnd.databricks.v1+cell": {
     "cellMetadata": {
      "byteLimit": 2048000,
      "rowLimit": 10000
     },
     "inputWidgets": {},
     "nuid": "4b465754-d073-4f4c-ba7b-321e99eebc39",
     "showTitle": false,
     "tableResultSettingsMap": {},
     "title": ""
    }
   },
   "outputs": [
    {
     "output_type": "stream",
     "name": "stdout",
     "output_type": "stream",
     "text": [
      "Help on function get_json_object in module pyspark.sql.functions.builtin:\n\nget_json_object(col: 'ColumnOrName', path: str) -> pyspark.sql.column.Column\n    Extracts json object from a json string based on json `path` specified, and returns json string\n    of the extracted json object. It will return null if the input json string is invalid.\n\n    .. versionadded:: 1.6.0\n\n    .. versionchanged:: 3.4.0\n        Supports Spark Connect.\n\n    Parameters\n    ----------\n    col : :class:`~pyspark.sql.Column` or str\n        string column in json format\n    path : str\n        path to the json object to extract\n\n    Returns\n    -------\n    :class:`~pyspark.sql.Column`\n        string representation of given JSON object value.\n\n    Examples\n    --------\n    Example 1: Extract a json object from json string\n\n    >>> data = [(\"1\", '''{\"f1\": \"value1\", \"f2\": \"value2\"}'''), (\"2\", '''{\"f1\": \"value12\"}''')]\n    >>> df = spark.createDataFrame(data, (\"key\", \"jstring\"))\n    >>> df.select(df.key,\n    ...     get_json_object(df.jstring, '$.f1').alias(\"c0\"),\n    ...     get_json_object(df.jstring, '$.f2').alias(\"c1\")\n    ... ).show()\n    +---+-------+------+\n    |key|     c0|    c1|\n    +---+-------+------+\n    |  1| value1|value2|\n    |  2|value12|  NULL|\n    +---+-------+------+\n\n    Example 2: Extract a json object from json array\n\n    >>> data = [\n    ... (\"1\", '''[{\"f1\": \"value1\"},{\"f1\": \"value2\"}]'''),\n    ... (\"2\", '''[{\"f1\": \"value12\"},{\"f2\": \"value13\"}]''')\n    ... ]\n    >>> df = spark.createDataFrame(data, (\"key\", \"jarray\"))\n    >>> df.select(df.key,\n    ...     get_json_object(df.jarray, '$[0].f1').alias(\"c0\"),\n    ...     get_json_object(df.jarray, '$[1].f2').alias(\"c1\")\n    ... ).show()\n    +---+-------+-------+\n    |key|     c0|     c1|\n    +---+-------+-------+\n    |  1| value1|   NULL|\n    |  2|value12|value13|\n    +---+-------+-------+\n\n    >>> df.select(df.key,\n    ...     get_json_object(df.jarray, '$[*].f1').alias(\"c0\"),\n    ...     get_json_object(df.jarray, '$[*].f2').alias(\"c1\")\n    ... ).show()\n    +---+-------------------+---------+\n    |key|                 c0|       c1|\n    +---+-------------------+---------+\n    |  1|[\"value1\",\"value2\"]|     NULL|\n    |  2|          \"value12\"|\"value13\"|\n    +---+-------------------+---------+\n\n"
     ]
    }
   ],
   "source": [
    "help(get_json_object)"
   ]
  },
  {
   "cell_type": "markdown",
   "metadata": {
    "application/vnd.databricks.v1+cell": {
     "cellMetadata": {},
     "inputWidgets": {},
     "nuid": "f6c1eb2d-1b7e-4c36-9585-34f3ddd0df87",
     "showTitle": false,
     "tableResultSettingsMap": {},
     "title": ""
    }
   },
   "source": [
    "##### 1) Simple JSON"
   ]
  },
  {
   "cell_type": "code",
   "execution_count": 0,
   "metadata": {
    "application/vnd.databricks.v1+cell": {
     "cellMetadata": {
      "byteLimit": 2048000,
      "rowLimit": 10000
     },
     "inputWidgets": {},
     "nuid": "747ee5b1-d079-46d5-adf0-a0ee8c9713c3",
     "showTitle": false,
     "tableResultSettingsMap": {},
     "title": ""
    }
   },
   "outputs": [
    {
     "output_type": "display_data",
     "data": {
      "text/html": [
       "<style scoped>\n",
       "  .table-result-container {\n",
       "    max-height: 300px;\n",
       "    overflow: auto;\n",
       "  }\n",
       "  table, th, td {\n",
       "    border: 1px solid black;\n",
       "    border-collapse: collapse;\n",
       "  }\n",
       "  th, td {\n",
       "    padding: 5px;\n",
       "  }\n",
       "  th {\n",
       "    text-align: left;\n",
       "  }\n",
       "</style><div class='table-result-container'><table class='table-result'><thead style='background-color: white'><tr><th>Name</th><th>Age</th><th>City</th></tr></thead><tbody><tr><td>Anand</td><td>28</td><td>Bangalore</td></tr><tr><td>Bibin</td><td>32</td><td>Chennai</td></tr><tr><td>Chandan</td><td>35</td><td>Hyderabad</td></tr><tr><td>Dora</td><td>37</td><td>Vadodara</td></tr><tr><td>Eswar</td><td>39</td><td>Pune</td></tr><tr><td>Sanjay</td><td>29</td><td>Cochin</td></tr></tbody></table></div>"
      ]
     },
     "metadata": {
      "application/vnd.databricks.v1+output": {
       "addedWidgets": {},
       "aggData": [],
       "aggError": "",
       "aggOverflow": false,
       "aggSchema": [],
       "aggSeriesLimitReached": false,
       "aggType": "",
       "arguments": {},
       "columnCustomDisplayInfos": {},
       "data": [
        [
         "Anand",
         "28",
         "Bangalore"
        ],
        [
         "Bibin",
         "32",
         "Chennai"
        ],
        [
         "Chandan",
         "35",
         "Hyderabad"
        ],
        [
         "Dora",
         "37",
         "Vadodara"
        ],
        [
         "Eswar",
         "39",
         "Pune"
        ],
        [
         "Sanjay",
         "29",
         "Cochin"
        ]
       ],
       "datasetInfos": [],
       "dbfsResultPath": null,
       "isJsonSchema": true,
       "metadata": {},
       "overflow": false,
       "plotOptions": {
        "customPlotOptions": {},
        "displayType": "table",
        "pivotAggregation": null,
        "pivotColumns": null,
        "xColumns": null,
        "yColumns": null
       },
       "removedWidgets": [],
       "schema": [
        {
         "metadata": "{}",
         "name": "Name",
         "type": "\"string\""
        },
        {
         "metadata": "{}",
         "name": "Age",
         "type": "\"string\""
        },
        {
         "metadata": "{}",
         "name": "City",
         "type": "\"string\""
        }
       ],
       "type": "table"
      }
     },
     "output_type": "display_data"
    }
   ],
   "source": [
    "data = [\n",
    "    ('{\"name\": \"Anand\", \"age\": 28, \"city\": \"Bangalore\"}',),\n",
    "    ('{\"name\": \"Bibin\", \"age\": 32, \"city\": \"Chennai\"}',),\n",
    "    ('{\"name\": \"Chandan\", \"age\": 35, \"city\": \"Hyderabad\"}',),\n",
    "    ('{\"name\": \"Dora\", \"age\": 37, \"city\": \"Vadodara\"}',),\n",
    "    ('{\"name\": \"Eswar\", \"age\": 39, \"city\": \"Pune\"}',),\n",
    "    ('{\"name\": \"Sanjay\", \"age\": 29, \"city\": \"Cochin\"}',)\n",
    "]\n",
    "\n",
    "df_sjson = spark.createDataFrame(data, [\"json_string\"])\n",
    "\n",
    "df_simple_json = df_sjson.select(\n",
    "    get_json_object(col(\"json_string\"), \"$.name\").alias(\"Name\"),\n",
    "    get_json_object(col(\"json_string\"), \"$.age\").alias(\"Age\"),\n",
    "    get_json_object(col(\"json_string\"), \"$.city\").alias(\"City\")\n",
    ")\n",
    "\n",
    "df_simple_json.display()"
   ]
  },
  {
   "cell_type": "markdown",
   "metadata": {
    "application/vnd.databricks.v1+cell": {
     "cellMetadata": {},
     "inputWidgets": {},
     "nuid": "53e2c1e8-68f7-401c-bbf1-60ea6e23545b",
     "showTitle": false,
     "tableResultSettingsMap": {},
     "title": ""
    }
   },
   "source": [
    "##### 2) Nested JSON"
   ]
  },
  {
   "cell_type": "code",
   "execution_count": 0,
   "metadata": {
    "application/vnd.databricks.v1+cell": {
     "cellMetadata": {
      "byteLimit": 2048000,
      "rowLimit": 10000
     },
     "inputWidgets": {},
     "nuid": "449a207a-e602-4559-91b9-a89343294e83",
     "showTitle": false,
     "tableResultSettingsMap": {},
     "title": ""
    }
   },
   "outputs": [
    {
     "output_type": "display_data",
     "data": {
      "text/html": [
       "<style scoped>\n",
       "  .table-result-container {\n",
       "    max-height: 300px;\n",
       "    overflow: auto;\n",
       "  }\n",
       "  table, th, td {\n",
       "    border: 1px solid black;\n",
       "    border-collapse: collapse;\n",
       "  }\n",
       "  th, td {\n",
       "    padding: 5px;\n",
       "  }\n",
       "  th {\n",
       "    text-align: left;\n",
       "  }\n",
       "</style><div class='table-result-container'><table class='table-result'><thead style='background-color: white'><tr><th>id</th><th>json_data</th></tr></thead><tbody><tr><td>1</td><td>{\"id\": 1, \"name\": \"Albert\", \"details\": {\"age\": 30, \"city\": \"Delhi\"}}</td></tr><tr><td>2</td><td>{\"id\": 2, \"name\": \"Bobby\", \"details\": {\"age\": 25, \"city\": \"Baroda\"}}</td></tr><tr><td>3</td><td>{\"id\": 3, \"name\": \"Swapna\", \"details\": {\"age\": 35}}</td></tr><tr><td>4</td><td>{\"id\": 4, \"name\": \"David\", \"details\": {\"age\": 25, \"city\": \"Chennai\"}}</td></tr><tr><td>5</td><td>{\"id\": 5, \"name\": \"Anand\", \"details\": {\"age\": 25, \"city\": \"Bangalore\"}}</td></tr><tr><td>6</td><td>{\"id\": 6, \"name\": \"Baskar\", \"details\": {\"age\": 25, \"city\": \"Hyderabad\"}}</td></tr></tbody></table></div>"
      ]
     },
     "metadata": {
      "application/vnd.databricks.v1+output": {
       "addedWidgets": {},
       "aggData": [],
       "aggError": "",
       "aggOverflow": false,
       "aggSchema": [],
       "aggSeriesLimitReached": false,
       "aggType": "",
       "arguments": {},
       "columnCustomDisplayInfos": {},
       "data": [
        [
         1,
         "{\"id\": 1, \"name\": \"Albert\", \"details\": {\"age\": 30, \"city\": \"Delhi\"}}"
        ],
        [
         2,
         "{\"id\": 2, \"name\": \"Bobby\", \"details\": {\"age\": 25, \"city\": \"Baroda\"}}"
        ],
        [
         3,
         "{\"id\": 3, \"name\": \"Swapna\", \"details\": {\"age\": 35}}"
        ],
        [
         4,
         "{\"id\": 4, \"name\": \"David\", \"details\": {\"age\": 25, \"city\": \"Chennai\"}}"
        ],
        [
         5,
         "{\"id\": 5, \"name\": \"Anand\", \"details\": {\"age\": 25, \"city\": \"Bangalore\"}}"
        ],
        [
         6,
         "{\"id\": 6, \"name\": \"Baskar\", \"details\": {\"age\": 25, \"city\": \"Hyderabad\"}}"
        ]
       ],
       "datasetInfos": [],
       "dbfsResultPath": null,
       "isJsonSchema": true,
       "metadata": {},
       "overflow": false,
       "plotOptions": {
        "customPlotOptions": {},
        "displayType": "table",
        "pivotAggregation": null,
        "pivotColumns": null,
        "xColumns": null,
        "yColumns": null
       },
       "removedWidgets": [],
       "schema": [
        {
         "metadata": "{}",
         "name": "id",
         "type": "\"long\""
        },
        {
         "metadata": "{}",
         "name": "json_data",
         "type": "\"string\""
        }
       ],
       "type": "table"
      }
     },
     "output_type": "display_data"
    }
   ],
   "source": [
    "data = [\n",
    "    (1, '{\"id\": 1, \"name\": \"Albert\", \"details\": {\"age\": 30, \"city\": \"Delhi\"}}'),\n",
    "    (2, '{\"id\": 2, \"name\": \"Bobby\", \"details\": {\"age\": 25, \"city\": \"Baroda\"}}'),\n",
    "    (3, '{\"id\": 3, \"name\": \"Swapna\", \"details\": {\"age\": 35}}'),\n",
    "    (4, '{\"id\": 4, \"name\": \"David\", \"details\": {\"age\": 25, \"city\": \"Chennai\"}}'),\n",
    "    (5, '{\"id\": 5, \"name\": \"Anand\", \"details\": {\"age\": 25, \"city\": \"Bangalore\"}}'),\n",
    "    (6, '{\"id\": 6, \"name\": \"Baskar\", \"details\": {\"age\": 25, \"city\": \"Hyderabad\"}}'),\n",
    "]\n",
    "\n",
    "df_kv = spark.createDataFrame(data, [\"id\", \"json_data\"])\n",
    "display(df_kv)"
   ]
  },
  {
   "cell_type": "markdown",
   "metadata": {
    "application/vnd.databricks.v1+cell": {
     "cellMetadata": {},
     "inputWidgets": {},
     "nuid": "7c174563-131e-43db-9afa-8a49f7e73e71",
     "showTitle": false,
     "tableResultSettingsMap": {},
     "title": ""
    }
   },
   "source": [
    "- **$** represents the **root of the JSON.**"
   ]
  },
  {
   "cell_type": "code",
   "execution_count": 0,
   "metadata": {
    "application/vnd.databricks.v1+cell": {
     "cellMetadata": {
      "byteLimit": 2048000,
      "rowLimit": 10000
     },
     "inputWidgets": {},
     "nuid": "edcfa63f-04ef-4498-b4a3-c0ad59713551",
     "showTitle": false,
     "tableResultSettingsMap": {},
     "title": ""
    }
   },
   "outputs": [
    {
     "output_type": "display_data",
     "data": {
      "text/html": [
       "<style scoped>\n",
       "  .table-result-container {\n",
       "    max-height: 300px;\n",
       "    overflow: auto;\n",
       "  }\n",
       "  table, th, td {\n",
       "    border: 1px solid black;\n",
       "    border-collapse: collapse;\n",
       "  }\n",
       "  th, td {\n",
       "    padding: 5px;\n",
       "  }\n",
       "  th {\n",
       "    text-align: left;\n",
       "  }\n",
       "</style><div class='table-result-container'><table class='table-result'><thead style='background-color: white'><tr><th>Id</th><th>Name</th><th>Age</th><th>City</th></tr></thead><tbody><tr><td>1</td><td>Albert</td><td>30</td><td>Delhi</td></tr><tr><td>2</td><td>Bobby</td><td>25</td><td>Baroda</td></tr><tr><td>3</td><td>Swapna</td><td>35</td><td>null</td></tr><tr><td>4</td><td>David</td><td>25</td><td>Chennai</td></tr><tr><td>5</td><td>Anand</td><td>25</td><td>Bangalore</td></tr><tr><td>6</td><td>Baskar</td><td>25</td><td>Hyderabad</td></tr></tbody></table></div>"
      ]
     },
     "metadata": {
      "application/vnd.databricks.v1+output": {
       "addedWidgets": {},
       "aggData": [],
       "aggError": "",
       "aggOverflow": false,
       "aggSchema": [],
       "aggSeriesLimitReached": false,
       "aggType": "",
       "arguments": {},
       "columnCustomDisplayInfos": {},
       "data": [
        [
         "1",
         "Albert",
         "30",
         "Delhi"
        ],
        [
         "2",
         "Bobby",
         "25",
         "Baroda"
        ],
        [
         "3",
         "Swapna",
         "35",
         null
        ],
        [
         "4",
         "David",
         "25",
         "Chennai"
        ],
        [
         "5",
         "Anand",
         "25",
         "Bangalore"
        ],
        [
         "6",
         "Baskar",
         "25",
         "Hyderabad"
        ]
       ],
       "datasetInfos": [],
       "dbfsResultPath": null,
       "isJsonSchema": true,
       "metadata": {},
       "overflow": false,
       "plotOptions": {
        "customPlotOptions": {},
        "displayType": "table",
        "pivotAggregation": null,
        "pivotColumns": null,
        "xColumns": null,
        "yColumns": null
       },
       "removedWidgets": [],
       "schema": [
        {
         "metadata": "{}",
         "name": "Id",
         "type": "\"string\""
        },
        {
         "metadata": "{}",
         "name": "Name",
         "type": "\"string\""
        },
        {
         "metadata": "{}",
         "name": "Age",
         "type": "\"string\""
        },
        {
         "metadata": "{}",
         "name": "City",
         "type": "\"string\""
        }
       ],
       "type": "table"
      }
     },
     "output_type": "display_data"
    }
   ],
   "source": [
    "df_kv.select(\n",
    "    get_json_object(col(\"json_data\"), \"$.id\").alias(\"Id\"),\n",
    "    get_json_object(col(\"json_data\"), \"$.name\").alias(\"Name\"),\n",
    "    get_json_object(col(\"json_data\"), \"$.details.age\").alias(\"Age\"),\n",
    "    get_json_object(col(\"json_data\"), \"$.details.city\").alias(\"City\")\n",
    ").display()"
   ]
  },
  {
   "cell_type": "markdown",
   "metadata": {
    "application/vnd.databricks.v1+cell": {
     "cellMetadata": {},
     "inputWidgets": {},
     "nuid": "50f84209-f069-43e1-a449-fcd0e999131f",
     "showTitle": false,
     "tableResultSettingsMap": {},
     "title": ""
    }
   },
   "source": [
    "##### 3) Array in JSON"
   ]
  },
  {
   "cell_type": "code",
   "execution_count": 0,
   "metadata": {
    "application/vnd.databricks.v1+cell": {
     "cellMetadata": {
      "byteLimit": 2048000,
      "rowLimit": 10000
     },
     "inputWidgets": {},
     "nuid": "203fe93b-d5a4-42e1-9fd6-2fad04b9e595",
     "showTitle": false,
     "tableResultSettingsMap": {
      "0": {
       "dataGridStateBlob": "{\"version\":1,\"tableState\":{\"columnPinning\":{\"left\":[\"#row_number#\"],\"right\":[]},\"columnSizing\":{},\"columnVisibility\":{}},\"settings\":{\"columns\":{}},\"syncTimestamp\":1756626135231}",
       "filterBlob": null,
       "queryPlanFiltersBlob": null,
       "tableResultIndex": 0
      }
     },
     "title": ""
    }
   },
   "outputs": [
    {
     "output_type": "display_data",
     "data": {
      "text/html": [
       "<style scoped>\n",
       "  .table-result-container {\n",
       "    max-height: 300px;\n",
       "    overflow: auto;\n",
       "  }\n",
       "  table, th, td {\n",
       "    border: 1px solid black;\n",
       "    border-collapse: collapse;\n",
       "  }\n",
       "  th, td {\n",
       "    padding: 5px;\n",
       "  }\n",
       "  th {\n",
       "    text-align: left;\n",
       "  }\n",
       "</style><div class='table-result-container'><table class='table-result'><thead style='background-color: white'><tr><th>ID</th><th>Hobby1</th><th>Hobby2</th><th>Hobby3</th></tr></thead><tbody><tr><td>1</td><td>reading</td><td>sports</td><td>music</td></tr><tr><td>2</td><td>travel</td><td>cooking</td><td>null</td></tr><tr><td>3</td><td>watching</td><td>sports</td><td>music</td></tr><tr><td>4</td><td>cricket</td><td>cooking</td><td>null</td></tr><tr><td>5</td><td>football</td><td>sports</td><td>music</td></tr><tr><td>6</td><td>hocky</td><td>cooking</td><td>null</td></tr></tbody></table></div>"
      ]
     },
     "metadata": {
      "application/vnd.databricks.v1+output": {
       "addedWidgets": {},
       "aggData": [],
       "aggError": "",
       "aggOverflow": false,
       "aggSchema": [],
       "aggSeriesLimitReached": false,
       "aggType": "",
       "arguments": {},
       "columnCustomDisplayInfos": {},
       "data": [
        [
         "1",
         "reading",
         "sports",
         "music"
        ],
        [
         "2",
         "travel",
         "cooking",
         null
        ],
        [
         "3",
         "watching",
         "sports",
         "music"
        ],
        [
         "4",
         "cricket",
         "cooking",
         null
        ],
        [
         "5",
         "football",
         "sports",
         "music"
        ],
        [
         "6",
         "hocky",
         "cooking",
         null
        ]
       ],
       "datasetInfos": [],
       "dbfsResultPath": null,
       "isJsonSchema": true,
       "metadata": {},
       "overflow": false,
       "plotOptions": {
        "customPlotOptions": {},
        "displayType": "table",
        "pivotAggregation": null,
        "pivotColumns": null,
        "xColumns": null,
        "yColumns": null
       },
       "removedWidgets": [],
       "schema": [
        {
         "metadata": "{}",
         "name": "ID",
         "type": "\"string\""
        },
        {
         "metadata": "{}",
         "name": "Hobby1",
         "type": "\"string\""
        },
        {
         "metadata": "{}",
         "name": "Hobby2",
         "type": "\"string\""
        },
        {
         "metadata": "{}",
         "name": "Hobby3",
         "type": "\"string\""
        }
       ],
       "type": "table"
      }
     },
     "output_type": "display_data"
    }
   ],
   "source": [
    "array_data = [\n",
    "    ('{\"id\": 1, \"hobbies\": [\"reading\", \"sports\", \"music\"]}',),\n",
    "    ('{\"id\": 2, \"hobbies\": [\"travel\", \"cooking\"]}',),\n",
    "    ('{\"id\": 3, \"hobbies\": [\"watching\", \"sports\", \"music\"]}',),\n",
    "    ('{\"id\": 4, \"hobbies\": [\"cricket\", \"cooking\"]}',),\n",
    "    ('{\"id\": 5, \"hobbies\": [\"football\", \"sports\", \"music\"]}',),\n",
    "    ('{\"id\": 6, \"hobbies\": [\"hocky\", \"cooking\"]}',)\n",
    "]\n",
    "\n",
    "df_array = spark.createDataFrame(array_data, [\"json_string\"])\n",
    "\n",
    "df_array_result = df_array.select(\n",
    "    get_json_object(col(\"json_string\"), \"$.id\").alias(\"ID\"),\n",
    "    get_json_object(col(\"json_string\"), \"$.hobbies[0]\").alias(\"Hobby1\"),\n",
    "    get_json_object(col(\"json_string\"), \"$.hobbies[1]\").alias(\"Hobby2\"),\n",
    "    get_json_object(col(\"json_string\"), \"$.hobbies[2]\").alias(\"Hobby3\")\n",
    ")\n",
    "\n",
    "display(df_array_result)\n"
   ]
  },
  {
   "cell_type": "markdown",
   "metadata": {
    "application/vnd.databricks.v1+cell": {
     "cellMetadata": {},
     "inputWidgets": {},
     "nuid": "3281bab0-e076-4e84-96f7-9a8886b52978",
     "showTitle": false,
     "tableResultSettingsMap": {},
     "title": ""
    }
   },
   "source": [
    "##### 4) Array of JSON string"
   ]
  },
  {
   "cell_type": "code",
   "execution_count": 0,
   "metadata": {
    "application/vnd.databricks.v1+cell": {
     "cellMetadata": {
      "byteLimit": 2048000,
      "rowLimit": 10000
     },
     "inputWidgets": {},
     "nuid": "8b4d8781-770e-4654-96d1-9333535f3d25",
     "showTitle": false,
     "tableResultSettingsMap": {
      "0": {
       "dataGridStateBlob": "{\"version\":1,\"tableState\":{\"columnPinning\":{\"left\":[\"#row_number#\"],\"right\":[]},\"columnSizing\":{\"json_col\":763},\"columnVisibility\":{}},\"settings\":{\"columns\":{}},\"syncTimestamp\":1756624772076}",
       "filterBlob": null,
       "queryPlanFiltersBlob": null,
       "tableResultIndex": 0
      }
     },
     "title": ""
    }
   },
   "outputs": [
    {
     "output_type": "display_data",
     "data": {
      "text/html": [
       "<style scoped>\n",
       "  .table-result-container {\n",
       "    max-height: 300px;\n",
       "    overflow: auto;\n",
       "  }\n",
       "  table, th, td {\n",
       "    border: 1px solid black;\n",
       "    border-collapse: collapse;\n",
       "  }\n",
       "  th, td {\n",
       "    padding: 5px;\n",
       "  }\n",
       "  th {\n",
       "    text-align: left;\n",
       "  }\n",
       "</style><div class='table-result-container'><table class='table-result'><thead style='background-color: white'><tr><th>id</th><th>json_col</th></tr></thead><tbody><tr><td>1</td><td>[{\"Attr_INT\":1, \"ATTR_DOUBLE\":10.101, \"ATTR_DATE\": \"2021-01-01\"},\n",
       "{\"Attr_INT\":2, \"ATTR_DOUBLE\":20.201, \"ATTR_DATE\": \"2022-02-11\"},\n",
       "{\"Attr_INT\":3, \"ATTR_DOUBLE\":30.301, \"ATTR_DATE\": \"2023-04-21\"},\n",
       "{\"Attr_INT\":4, \"ATTR_DOUBLE\":40.401, \"ATTR_DATE\": \"2024-05-15\"},\n",
       "{\"Attr_INT\":5, \"ATTR_DOUBLE\":50.501, \"ATTR_DATE\": \"2025-03-25\"}]</td></tr></tbody></table></div>"
      ]
     },
     "metadata": {
      "application/vnd.databricks.v1+output": {
       "addedWidgets": {},
       "aggData": [],
       "aggError": "",
       "aggOverflow": false,
       "aggSchema": [],
       "aggSeriesLimitReached": false,
       "aggType": "",
       "arguments": {},
       "columnCustomDisplayInfos": {},
       "data": [
        [
         1,
         "[{\"Attr_INT\":1, \"ATTR_DOUBLE\":10.101, \"ATTR_DATE\": \"2021-01-01\"},\n{\"Attr_INT\":2, \"ATTR_DOUBLE\":20.201, \"ATTR_DATE\": \"2022-02-11\"},\n{\"Attr_INT\":3, \"ATTR_DOUBLE\":30.301, \"ATTR_DATE\": \"2023-04-21\"},\n{\"Attr_INT\":4, \"ATTR_DOUBLE\":40.401, \"ATTR_DATE\": \"2024-05-15\"},\n{\"Attr_INT\":5, \"ATTR_DOUBLE\":50.501, \"ATTR_DATE\": \"2025-03-25\"}]"
        ]
       ],
       "datasetInfos": [],
       "dbfsResultPath": null,
       "isJsonSchema": true,
       "metadata": {},
       "overflow": false,
       "plotOptions": {
        "customPlotOptions": {},
        "displayType": "table",
        "pivotAggregation": null,
        "pivotColumns": null,
        "xColumns": null,
        "yColumns": null
       },
       "removedWidgets": [],
       "schema": [
        {
         "metadata": "{}",
         "name": "id",
         "type": "\"long\""
        },
        {
         "metadata": "{}",
         "name": "json_col",
         "type": "\"string\""
        }
       ],
       "type": "table"
      }
     },
     "output_type": "display_data"
    }
   ],
   "source": [
    "json_str = \"\"\"[{\"Attr_INT\":1, \"ATTR_DOUBLE\":10.101, \"ATTR_DATE\": \"2021-01-01\"},\n",
    "{\"Attr_INT\":2, \"ATTR_DOUBLE\":20.201, \"ATTR_DATE\": \"2022-02-11\"},\n",
    "{\"Attr_INT\":3, \"ATTR_DOUBLE\":30.301, \"ATTR_DATE\": \"2023-04-21\"},\n",
    "{\"Attr_INT\":4, \"ATTR_DOUBLE\":40.401, \"ATTR_DATE\": \"2024-05-15\"},\n",
    "{\"Attr_INT\":5, \"ATTR_DOUBLE\":50.501, \"ATTR_DATE\": \"2025-03-25\"}]\"\"\"\n",
    "\n",
    "# Create a DataFrame\n",
    "df_get = spark.createDataFrame([[1, json_str]], ['id', 'json_col'])\n",
    "display(df_get)"
   ]
  },
  {
   "cell_type": "code",
   "execution_count": 0,
   "metadata": {
    "application/vnd.databricks.v1+cell": {
     "cellMetadata": {
      "byteLimit": 2048000,
      "rowLimit": 10000
     },
     "inputWidgets": {},
     "nuid": "ab3c9450-afb9-475a-a6d0-010054c086c0",
     "showTitle": false,
     "tableResultSettingsMap": {
      "0": {
       "dataGridStateBlob": "{\"version\":1,\"tableState\":{\"columnPinning\":{\"left\":[\"#row_number#\"],\"right\":[]},\"columnSizing\":{\"json_col\":421},\"columnVisibility\":{}},\"settings\":{\"columns\":{}},\"syncTimestamp\":1756625126850}",
       "filterBlob": null,
       "queryPlanFiltersBlob": null,
       "tableResultIndex": 0
      }
     },
     "title": ""
    }
   },
   "outputs": [
    {
     "output_type": "display_data",
     "data": {
      "text/html": [
       "<style scoped>\n",
       "  .table-result-container {\n",
       "    max-height: 300px;\n",
       "    overflow: auto;\n",
       "  }\n",
       "  table, th, td {\n",
       "    border: 1px solid black;\n",
       "    border-collapse: collapse;\n",
       "  }\n",
       "  th, td {\n",
       "    padding: 5px;\n",
       "  }\n",
       "  th {\n",
       "    text-align: left;\n",
       "  }\n",
       "</style><div class='table-result-container'><table class='table-result'><thead style='background-color: white'><tr><th>id</th><th>json_col</th><th>ATTR_INT_0</th><th>ATTR_DOUBLE_1</th><th>ATTR_DATE_2</th></tr></thead><tbody><tr><td>1</td><td>[{\"Attr_INT\":1, \"ATTR_DOUBLE\":10.101, \"ATTR_DATE\": \"2021-01-01\"},\n",
       "{\"Attr_INT\":2, \"ATTR_DOUBLE\":20.201, \"ATTR_DATE\": \"2022-02-11\"},\n",
       "{\"Attr_INT\":3, \"ATTR_DOUBLE\":30.301, \"ATTR_DATE\": \"2023-04-21\"},\n",
       "{\"Attr_INT\":4, \"ATTR_DOUBLE\":40.401, \"ATTR_DATE\": \"2024-05-15\"},\n",
       "{\"Attr_INT\":5, \"ATTR_DOUBLE\":50.501, \"ATTR_DATE\": \"2025-03-25\"}]</td><td>1</td><td>2021-01-01</td><td>2021-01-01</td></tr></tbody></table></div>"
      ]
     },
     "metadata": {
      "application/vnd.databricks.v1+output": {
       "addedWidgets": {},
       "aggData": [],
       "aggError": "",
       "aggOverflow": false,
       "aggSchema": [],
       "aggSeriesLimitReached": false,
       "aggType": "",
       "arguments": {},
       "columnCustomDisplayInfos": {},
       "data": [
        [
         1,
         "[{\"Attr_INT\":1, \"ATTR_DOUBLE\":10.101, \"ATTR_DATE\": \"2021-01-01\"},\n{\"Attr_INT\":2, \"ATTR_DOUBLE\":20.201, \"ATTR_DATE\": \"2022-02-11\"},\n{\"Attr_INT\":3, \"ATTR_DOUBLE\":30.301, \"ATTR_DATE\": \"2023-04-21\"},\n{\"Attr_INT\":4, \"ATTR_DOUBLE\":40.401, \"ATTR_DATE\": \"2024-05-15\"},\n{\"Attr_INT\":5, \"ATTR_DOUBLE\":50.501, \"ATTR_DATE\": \"2025-03-25\"}]",
         "1",
         "2021-01-01",
         "2021-01-01"
        ]
       ],
       "datasetInfos": [],
       "dbfsResultPath": null,
       "isJsonSchema": true,
       "metadata": {},
       "overflow": false,
       "plotOptions": {
        "customPlotOptions": {},
        "displayType": "table",
        "pivotAggregation": null,
        "pivotColumns": null,
        "xColumns": null,
        "yColumns": null
       },
       "removedWidgets": [],
       "schema": [
        {
         "metadata": "{}",
         "name": "id",
         "type": "\"long\""
        },
        {
         "metadata": "{}",
         "name": "json_col",
         "type": "\"string\""
        },
        {
         "metadata": "{}",
         "name": "ATTR_INT_0",
         "type": "\"string\""
        },
        {
         "metadata": "{}",
         "name": "ATTR_DOUBLE_1",
         "type": "\"string\""
        },
        {
         "metadata": "{}",
         "name": "ATTR_DATE_2",
         "type": "\"string\""
        }
       ],
       "type": "table"
      }
     },
     "output_type": "display_data"
    }
   ],
   "source": [
    "# Extract JSON values\n",
    "df_get_obj = df_get\\\n",
    "    .withColumn('ATTR_INT_0', get_json_object('json_col', '$[0].Attr_INT')) \\\n",
    "    .withColumn('ATTR_DOUBLE_1', get_json_object('json_col', '$[0].ATTR_DATE')) \\\n",
    "    .withColumn('ATTR_DATE_2', get_json_object('json_col', '$[0].ATTR_DATE'))\n",
    "\n",
    "display(df_get_obj)"
   ]
  },
  {
   "cell_type": "markdown",
   "metadata": {
    "application/vnd.databricks.v1+cell": {
     "cellMetadata": {},
     "inputWidgets": {},
     "nuid": "8a203a0b-8312-4b2d-a2d1-0610637973a9",
     "showTitle": false,
     "tableResultSettingsMap": {},
     "title": ""
    }
   },
   "source": [
    "#### Key Differences\n",
    "\n",
    "| Feature           | `parse_json`                                                 | `get_json_object`                                   |\n",
    "| ----------------- | ------------------------------------------------------------ | --------------------------------------------------- |\n",
    "| **What it does**  | Parses JSON into a **struct/variant**                        | Extracts a **string value** by JSONPath             |\n",
    "| **Return type**   | **Struct** (can expand into **multiple columns**)            | **String** (you must **cast** if you need **int, double**, etc.)  |\n",
    "| **Schema**        | **Inferred** (flexible, can be used like a DataFrame column) | Not needed (**no schema applied**)                  |\n",
    "| **Performance**   | Better for **multiple/nested** fields                        | Lightweight for extracting **1–2 fields**           |\n",
    "| **Best use case** | When you need structured access to **many fields**           | When you just need a **few values quickly**         |\n",
    "\n",
    "| Method                | Input                | Output Type      | Pros                                            | Cons                         |\n",
    "| --------------------- | -------------------- | ---------------- | ----------------------------------------------- | ---------------------------- |\n",
    "| **get\\_json\\_object** | JSON string          | String           | Simple, lightweight                             | No schema, everything string |\n",
    "| **parse\\_json**       | JSON string          | variant          | Flexible, works without schema, preserves types | Schema not enforced          |\n",
    "| **from\\_json**        | JSON string + schema | Struct           | Strong typing, schema enforcement               | Must define schema           |\n",
    "\n",
    "| Function              | Input Type           | Output Type                                                                 | Schema Required?               | Supports Nested?             | Use Case                                                                |\n",
    "| --------------------- | -------------------- | --------------------------------------------------------------------------- | ------------------------------ | ---------------------------- | ----------------------------------------------------------------------- |\n",
    "| **`get_json_object`** | `string` (JSON text) | `string` (single value)                                                     | ❌ No                           | ✅ Yes (via JSON path)        | Extract one field from JSON using a JSONPath-like syntax                |\n",
    "| **`parse_json`**      | `string` (JSON text) | `variant` (Spark internal JSON representation, like semi-structured object) | ❌ No                           | ✅ Yes                        | Directly parse JSON text into a flexible object (no schema enforcement) |\n",
    "| **`from_json`**       | `string` (JSON text) | `struct`, `array`, or `map`                                                 | ✅ Yes (you must define schema) | ✅ Yes                        | Parse JSON into strongly-typed Spark SQL structs/arrays/maps            |\n",
    "| **`json_tuple`**      | `string` (JSON text) | Multiple `string` columns                                                   | ❌ No                           | ❌ No (only top-level fields) | Quickly extract multiple top-level fields without schema                |\n"
   ]
  },
  {
   "cell_type": "code",
   "execution_count": 0,
   "metadata": {
    "application/vnd.databricks.v1+cell": {
     "cellMetadata": {
      "byteLimit": 2048000,
      "rowLimit": 10000
     },
     "inputWidgets": {},
     "nuid": "965c32b5-a79c-4bf2-8de6-6a0da02b525b",
     "showTitle": false,
     "tableResultSettingsMap": {
      "0": {
       "dataGridStateBlob": "{\"version\":1,\"tableState\":{\"columnPinning\":{\"left\":[\"#row_number#\"],\"right\":[]},\"columnSizing\":{\"json_string\":301},\"columnVisibility\":{}},\"settings\":{\"columns\":{}},\"syncTimestamp\":1756693811018}",
       "filterBlob": null,
       "queryPlanFiltersBlob": null,
       "tableResultIndex": 0
      }
     },
     "title": ""
    }
   },
   "outputs": [
    {
     "output_type": "display_data",
     "data": {
      "text/html": [
       "<style scoped>\n",
       "  .table-result-container {\n",
       "    max-height: 300px;\n",
       "    overflow: auto;\n",
       "  }\n",
       "  table, th, td {\n",
       "    border: 1px solid black;\n",
       "    border-collapse: collapse;\n",
       "  }\n",
       "  th, td {\n",
       "    padding: 5px;\n",
       "  }\n",
       "  th {\n",
       "    text-align: left;\n",
       "  }\n",
       "</style><div class='table-result-container'><table class='table-result'><thead style='background-color: white'><tr><th>json_string</th></tr></thead><tbody><tr><td>{\"name\": \"Kiran\", \"age\": 28, \"city\": \"Bangalore\"}</td></tr><tr><td>{\"name\": \"Darshan\", \"age\": 32, \"city\": \"Chennai\"}</td></tr><tr><td>{\"name\": \"Chetan\", \"age\": 40, \"city\": \"Hyderabad\"}</td></tr><tr><td>{\"name\": \"Ramu\", \"age\": 35, \"city\": \"Varanasi\"}</td></tr><tr><td>{\"name\": \"Priya\", \"age\": 45, \"city\": \"Amaravati\"}</td></tr></tbody></table></div>"
      ]
     },
     "metadata": {
      "application/vnd.databricks.v1+output": {
       "addedWidgets": {},
       "aggData": [],
       "aggError": "",
       "aggOverflow": false,
       "aggSchema": [],
       "aggSeriesLimitReached": false,
       "aggType": "",
       "arguments": {},
       "columnCustomDisplayInfos": {},
       "data": [
        [
         "{\"name\": \"Kiran\", \"age\": 28, \"city\": \"Bangalore\"}"
        ],
        [
         "{\"name\": \"Darshan\", \"age\": 32, \"city\": \"Chennai\"}"
        ],
        [
         "{\"name\": \"Chetan\", \"age\": 40, \"city\": \"Hyderabad\"}"
        ],
        [
         "{\"name\": \"Ramu\", \"age\": 35, \"city\": \"Varanasi\"}"
        ],
        [
         "{\"name\": \"Priya\", \"age\": 45, \"city\": \"Amaravati\"}"
        ]
       ],
       "datasetInfos": [],
       "dbfsResultPath": null,
       "isJsonSchema": true,
       "metadata": {},
       "overflow": false,
       "plotOptions": {
        "customPlotOptions": {},
        "displayType": "table",
        "pivotAggregation": null,
        "pivotColumns": null,
        "xColumns": null,
        "yColumns": null
       },
       "removedWidgets": [],
       "schema": [
        {
         "metadata": "{}",
         "name": "json_string",
         "type": "\"string\""
        }
       ],
       "type": "table"
      }
     },
     "output_type": "display_data"
    }
   ],
   "source": [
    "from pyspark.sql.functions import col, parse_json, get_json_object, from_json\n",
    "from pyspark.sql.types import StructType, StructField, StringType, IntegerType\n",
    "\n",
    "data = [\n",
    "    ('{\"name\": \"Kiran\", \"age\": 28, \"city\": \"Bangalore\"}',),\n",
    "    ('{\"name\": \"Darshan\", \"age\": 32, \"city\": \"Chennai\"}',),\n",
    "    ('{\"name\": \"Chetan\", \"age\": 40, \"city\": \"Hyderabad\"}',),\n",
    "    ('{\"name\": \"Ramu\", \"age\": 35, \"city\": \"Varanasi\"}',),\n",
    "    ('{\"name\": \"Priya\", \"age\": 45, \"city\": \"Amaravati\"}',)\n",
    "]\n",
    "\n",
    "df_diff = spark.createDataFrame(data, [\"json_string\"])\n",
    "display(df_diff)"
   ]
  },
  {
   "cell_type": "markdown",
   "metadata": {
    "application/vnd.databricks.v1+cell": {
     "cellMetadata": {},
     "inputWidgets": {},
     "nuid": "cc151f60-1459-4a00-845c-535fffe447f3",
     "showTitle": false,
     "tableResultSettingsMap": {},
     "title": ""
    }
   },
   "source": [
    "##### Using get_json_object"
   ]
  },
  {
   "cell_type": "code",
   "execution_count": 0,
   "metadata": {
    "application/vnd.databricks.v1+cell": {
     "cellMetadata": {
      "byteLimit": 2048000,
      "rowLimit": 10000
     },
     "inputWidgets": {},
     "nuid": "c3d1e894-50e3-476e-bff2-565da1603647",
     "showTitle": false,
     "tableResultSettingsMap": {},
     "title": ""
    }
   },
   "outputs": [
    {
     "output_type": "display_data",
     "data": {
      "text/html": [
       "<style scoped>\n",
       "  .table-result-container {\n",
       "    max-height: 300px;\n",
       "    overflow: auto;\n",
       "  }\n",
       "  table, th, td {\n",
       "    border: 1px solid black;\n",
       "    border-collapse: collapse;\n",
       "  }\n",
       "  th, td {\n",
       "    padding: 5px;\n",
       "  }\n",
       "  th {\n",
       "    text-align: left;\n",
       "  }\n",
       "</style><div class='table-result-container'><table class='table-result'><thead style='background-color: white'><tr><th>Name</th><th>Age</th><th>Age_Int</th><th>City</th></tr></thead><tbody><tr><td>Kiran</td><td>28</td><td>28</td><td>Bangalore</td></tr><tr><td>Darshan</td><td>32</td><td>32</td><td>Chennai</td></tr><tr><td>Chetan</td><td>40</td><td>40</td><td>Hyderabad</td></tr><tr><td>Ramu</td><td>35</td><td>35</td><td>Varanasi</td></tr><tr><td>Priya</td><td>45</td><td>45</td><td>Amaravati</td></tr></tbody></table></div>"
      ]
     },
     "metadata": {
      "application/vnd.databricks.v1+output": {
       "addedWidgets": {},
       "aggData": [],
       "aggError": "",
       "aggOverflow": false,
       "aggSchema": [],
       "aggSeriesLimitReached": false,
       "aggType": "",
       "arguments": {},
       "columnCustomDisplayInfos": {},
       "data": [
        [
         "Kiran",
         "28",
         28,
         "Bangalore"
        ],
        [
         "Darshan",
         "32",
         32,
         "Chennai"
        ],
        [
         "Chetan",
         "40",
         40,
         "Hyderabad"
        ],
        [
         "Ramu",
         "35",
         35,
         "Varanasi"
        ],
        [
         "Priya",
         "45",
         45,
         "Amaravati"
        ]
       ],
       "datasetInfos": [],
       "dbfsResultPath": null,
       "isJsonSchema": true,
       "metadata": {},
       "overflow": false,
       "plotOptions": {
        "customPlotOptions": {},
        "displayType": "table",
        "pivotAggregation": null,
        "pivotColumns": null,
        "xColumns": null,
        "yColumns": null
       },
       "removedWidgets": [],
       "schema": [
        {
         "metadata": "{}",
         "name": "Name",
         "type": "\"string\""
        },
        {
         "metadata": "{}",
         "name": "Age",
         "type": "\"string\""
        },
        {
         "metadata": "{}",
         "name": "Age_Int",
         "type": "\"integer\""
        },
        {
         "metadata": "{}",
         "name": "City",
         "type": "\"string\""
        }
       ],
       "type": "table"
      }
     },
     "output_type": "display_data"
    }
   ],
   "source": [
    "df_getjson = df_diff.select(\n",
    "    get_json_object(col(\"json_string\"), \"$.name\").alias(\"Name\"),\n",
    "    get_json_object(col(\"json_string\"), \"$.age\").alias(\"Age\"),   # always string\n",
    "    expr(\"CAST(get_json_object(json_string, '$.age') AS INT)\").alias(\"Age_Int\"),\n",
    "    get_json_object(col(\"json_string\"), \"$.city\").alias(\"City\")\n",
    ")\n",
    "df_getjson.display()"
   ]
  },
  {
   "cell_type": "markdown",
   "metadata": {
    "application/vnd.databricks.v1+cell": {
     "cellMetadata": {},
     "inputWidgets": {},
     "nuid": "26b24732-00de-4b0b-a2da-5d6fe00a0e9a",
     "showTitle": false,
     "tableResultSettingsMap": {},
     "title": ""
    }
   },
   "source": [
    "##### Using parse_json"
   ]
  },
  {
   "cell_type": "code",
   "execution_count": 0,
   "metadata": {
    "application/vnd.databricks.v1+cell": {
     "cellMetadata": {
      "byteLimit": 2048000,
      "rowLimit": 10000
     },
     "inputWidgets": {},
     "nuid": "d589fa61-2945-46b1-a834-69f3317b1b50",
     "showTitle": false,
     "tableResultSettingsMap": {},
     "title": ""
    }
   },
   "outputs": [
    {
     "output_type": "display_data",
     "data": {
      "text/html": [
       "<style scoped>\n",
       "  .table-result-container {\n",
       "    max-height: 300px;\n",
       "    overflow: auto;\n",
       "  }\n",
       "  table, th, td {\n",
       "    border: 1px solid black;\n",
       "    border-collapse: collapse;\n",
       "  }\n",
       "  th, td {\n",
       "    padding: 5px;\n",
       "  }\n",
       "  th {\n",
       "    text-align: left;\n",
       "  }\n",
       "</style><div class='table-result-container'><table class='table-result'><thead style='background-color: white'><tr><th>Name</th><th>Age</th><th>City</th></tr></thead><tbody><tr><td>Kiran</td><td>28</td><td>Bangalore</td></tr><tr><td>Darshan</td><td>32</td><td>Chennai</td></tr><tr><td>Chetan</td><td>40</td><td>Hyderabad</td></tr><tr><td>Ramu</td><td>35</td><td>Varanasi</td></tr><tr><td>Priya</td><td>45</td><td>Amaravati</td></tr></tbody></table></div>"
      ]
     },
     "metadata": {
      "application/vnd.databricks.v1+output": {
       "addedWidgets": {},
       "aggData": [],
       "aggError": "",
       "aggOverflow": false,
       "aggSchema": [],
       "aggSeriesLimitReached": false,
       "aggType": "",
       "arguments": {},
       "columnCustomDisplayInfos": {},
       "data": [
        [
         "Kiran",
         28,
         "Bangalore"
        ],
        [
         "Darshan",
         32,
         "Chennai"
        ],
        [
         "Chetan",
         40,
         "Hyderabad"
        ],
        [
         "Ramu",
         35,
         "Varanasi"
        ],
        [
         "Priya",
         45,
         "Amaravati"
        ]
       ],
       "datasetInfos": [],
       "dbfsResultPath": null,
       "isJsonSchema": true,
       "metadata": {},
       "overflow": false,
       "plotOptions": {
        "customPlotOptions": {},
        "displayType": "table",
        "pivotAggregation": null,
        "pivotColumns": null,
        "xColumns": null,
        "yColumns": null
       },
       "removedWidgets": [],
       "schema": [
        {
         "metadata": "{}",
         "name": "Name",
         "type": "\"string\""
        },
        {
         "metadata": "{}",
         "name": "Age",
         "type": "\"integer\""
        },
        {
         "metadata": "{}",
         "name": "City",
         "type": "\"string\""
        }
       ],
       "type": "table"
      }
     },
     "output_type": "display_data"
    }
   ],
   "source": [
    "df_parse = df_diff.withColumn(\"json_data\", parse_json(col(\"json_string\")))\n",
    "\n",
    "# Extract multiple fields\n",
    "df_parse.select(\n",
    "  expr(\"json_data:name::string\").alias(\"Name\"),\n",
    "  expr(\"json_data:age::int\").alias(\"Age\"),       # keeps numeric type\n",
    "  expr(\"json_data:city::string\").alias(\"City\")\n",
    ").display()"
   ]
  },
  {
   "cell_type": "markdown",
   "metadata": {
    "application/vnd.databricks.v1+cell": {
     "cellMetadata": {},
     "inputWidgets": {},
     "nuid": "3e2eb087-e1ad-4360-9380-f3034e4bb6f6",
     "showTitle": false,
     "tableResultSettingsMap": {},
     "title": ""
    }
   },
   "source": [
    "##### Using from_json (explicit schema)"
   ]
  },
  {
   "cell_type": "code",
   "execution_count": 0,
   "metadata": {
    "application/vnd.databricks.v1+cell": {
     "cellMetadata": {
      "byteLimit": 2048000,
      "rowLimit": 10000
     },
     "inputWidgets": {},
     "nuid": "e7aec90f-74bc-4fef-b8a7-08a6e2e9272e",
     "showTitle": false,
     "tableResultSettingsMap": {},
     "title": ""
    }
   },
   "outputs": [
    {
     "output_type": "display_data",
     "data": {
      "text/html": [
       "<style scoped>\n",
       "  .table-result-container {\n",
       "    max-height: 300px;\n",
       "    overflow: auto;\n",
       "  }\n",
       "  table, th, td {\n",
       "    border: 1px solid black;\n",
       "    border-collapse: collapse;\n",
       "  }\n",
       "  th, td {\n",
       "    padding: 5px;\n",
       "  }\n",
       "  th {\n",
       "    text-align: left;\n",
       "  }\n",
       "</style><div class='table-result-container'><table class='table-result'><thead style='background-color: white'><tr><th>name</th><th>age</th><th>city</th></tr></thead><tbody><tr><td>Kiran</td><td>28</td><td>Bangalore</td></tr><tr><td>Darshan</td><td>32</td><td>Chennai</td></tr><tr><td>Chetan</td><td>40</td><td>Hyderabad</td></tr><tr><td>Ramu</td><td>35</td><td>Varanasi</td></tr><tr><td>Priya</td><td>45</td><td>Amaravati</td></tr></tbody></table></div>"
      ]
     },
     "metadata": {
      "application/vnd.databricks.v1+output": {
       "addedWidgets": {},
       "aggData": [],
       "aggError": "",
       "aggOverflow": false,
       "aggSchema": [],
       "aggSeriesLimitReached": false,
       "aggType": "",
       "arguments": {},
       "columnCustomDisplayInfos": {},
       "data": [
        [
         "Kiran",
         28,
         "Bangalore"
        ],
        [
         "Darshan",
         32,
         "Chennai"
        ],
        [
         "Chetan",
         40,
         "Hyderabad"
        ],
        [
         "Ramu",
         35,
         "Varanasi"
        ],
        [
         "Priya",
         45,
         "Amaravati"
        ]
       ],
       "datasetInfos": [],
       "dbfsResultPath": null,
       "isJsonSchema": true,
       "metadata": {},
       "overflow": false,
       "plotOptions": {
        "customPlotOptions": {},
        "displayType": "table",
        "pivotAggregation": null,
        "pivotColumns": null,
        "xColumns": null,
        "yColumns": null
       },
       "removedWidgets": [],
       "schema": [
        {
         "metadata": "{}",
         "name": "name",
         "type": "\"string\""
        },
        {
         "metadata": "{}",
         "name": "age",
         "type": "\"integer\""
        },
        {
         "metadata": "{}",
         "name": "city",
         "type": "\"string\""
        }
       ],
       "type": "table"
      }
     },
     "output_type": "display_data"
    }
   ],
   "source": [
    "schema = StructType([\n",
    "    StructField(\"name\", StringType(), True),\n",
    "    StructField(\"age\", IntegerType(), True),\n",
    "    StructField(\"city\", StringType(), True)\n",
    "])\n",
    "\n",
    "df_fromjson = df_diff.withColumn(\"json_data\", from_json(col(\"json_string\"), schema))\n",
    "\n",
    "df_fromjson.select(\"json_data.*\").display()"
   ]
  },
  {
   "cell_type": "markdown",
   "metadata": {
    "application/vnd.databricks.v1+cell": {
     "cellMetadata": {},
     "inputWidgets": {},
     "nuid": "e48a3861-7e10-4f6e-9a24-50053d9c0718",
     "showTitle": false,
     "tableResultSettingsMap": {},
     "title": ""
    }
   },
   "source": [
    "**json_tuple**"
   ]
  },
  {
   "cell_type": "code",
   "execution_count": 0,
   "metadata": {
    "application/vnd.databricks.v1+cell": {
     "cellMetadata": {
      "byteLimit": 2048000,
      "rowLimit": 10000
     },
     "inputWidgets": {},
     "nuid": "80df769f-a4b6-4b51-a46a-4131c50b8ee4",
     "showTitle": false,
     "tableResultSettingsMap": {},
     "title": ""
    }
   },
   "outputs": [
    {
     "output_type": "display_data",
     "data": {
      "text/html": [
       "<style scoped>\n",
       "  .table-result-container {\n",
       "    max-height: 300px;\n",
       "    overflow: auto;\n",
       "  }\n",
       "  table, th, td {\n",
       "    border: 1px solid black;\n",
       "    border-collapse: collapse;\n",
       "  }\n",
       "  th, td {\n",
       "    padding: 5px;\n",
       "  }\n",
       "  th {\n",
       "    text-align: left;\n",
       "  }\n",
       "</style><div class='table-result-container'><table class='table-result'><thead style='background-color: white'><tr><th>json_string</th></tr></thead><tbody><tr><td>{\"name\": \"Subash\", \"age\": 28, \"price\": 55000, \"address\": {\"city\": \"Bangalore\", \"zip\": \"560001\"}}</td></tr><tr><td>{\"name\": \"Dinesh\", \"age\": 32, \"price\": 65000, \"address\": {\"city\": \"Chennai\", \"zip\": \"600001\"}}</td></tr><tr><td>{\"name\": \"Fathima\", \"age\": 29, \"price\": 59500, \"address\": {\"city\": \"Nasik\", \"zip\": \"560001\"}}</td></tr><tr><td>{\"name\": \"Gopesh\", \"age\": 35, \"price\": 77000, \"address\": {\"city\": \"Vizak\", \"zip\": \"600001\"}}</td></tr><tr><td>{\"name\": \"Sreeni\", \"age\": 26, \"price\": 89000, \"address\": {\"city\": \"Hyderabad\", \"zip\": \"560001\"}}</td></tr><tr><td>{\"name\": \"Anitha\", \"age\": 33, \"price\": 44000, \"address\": {\"city\": \"Salem\", \"zip\": \"600001\"}}</td></tr></tbody></table></div>"
      ]
     },
     "metadata": {
      "application/vnd.databricks.v1+output": {
       "addedWidgets": {},
       "aggData": [],
       "aggError": "",
       "aggOverflow": false,
       "aggSchema": [],
       "aggSeriesLimitReached": false,
       "aggType": "",
       "arguments": {},
       "columnCustomDisplayInfos": {},
       "data": [
        [
         "{\"name\": \"Subash\", \"age\": 28, \"price\": 55000, \"address\": {\"city\": \"Bangalore\", \"zip\": \"560001\"}}"
        ],
        [
         "{\"name\": \"Dinesh\", \"age\": 32, \"price\": 65000, \"address\": {\"city\": \"Chennai\", \"zip\": \"600001\"}}"
        ],
        [
         "{\"name\": \"Fathima\", \"age\": 29, \"price\": 59500, \"address\": {\"city\": \"Nasik\", \"zip\": \"560001\"}}"
        ],
        [
         "{\"name\": \"Gopesh\", \"age\": 35, \"price\": 77000, \"address\": {\"city\": \"Vizak\", \"zip\": \"600001\"}}"
        ],
        [
         "{\"name\": \"Sreeni\", \"age\": 26, \"price\": 89000, \"address\": {\"city\": \"Hyderabad\", \"zip\": \"560001\"}}"
        ],
        [
         "{\"name\": \"Anitha\", \"age\": 33, \"price\": 44000, \"address\": {\"city\": \"Salem\", \"zip\": \"600001\"}}"
        ]
       ],
       "datasetInfos": [],
       "dbfsResultPath": null,
       "isJsonSchema": true,
       "metadata": {},
       "overflow": false,
       "plotOptions": {
        "customPlotOptions": {},
        "displayType": "table",
        "pivotAggregation": null,
        "pivotColumns": null,
        "xColumns": null,
        "yColumns": null
       },
       "removedWidgets": [],
       "schema": [
        {
         "metadata": "{}",
         "name": "json_string",
         "type": "\"string\""
        }
       ],
       "type": "table"
      }
     },
     "output_type": "display_data"
    }
   ],
   "source": [
    "data = [\n",
    "    ('{\"name\": \"Subash\", \"age\": 28, \"price\": 55000, \"address\": {\"city\": \"Bangalore\", \"zip\": \"560001\"}}',),\n",
    "    ('{\"name\": \"Dinesh\", \"age\": 32, \"price\": 65000, \"address\": {\"city\": \"Chennai\", \"zip\": \"600001\"}}',),\n",
    "    ('{\"name\": \"Fathima\", \"age\": 29, \"price\": 59500, \"address\": {\"city\": \"Nasik\", \"zip\": \"560001\"}}',),\n",
    "    ('{\"name\": \"Gopesh\", \"age\": 35, \"price\": 77000, \"address\": {\"city\": \"Vizak\", \"zip\": \"600001\"}}',),\n",
    "    ('{\"name\": \"Sreeni\", \"age\": 26, \"price\": 89000, \"address\": {\"city\": \"Hyderabad\", \"zip\": \"560001\"}}',),\n",
    "    ('{\"name\": \"Anitha\", \"age\": 33, \"price\": 44000, \"address\": {\"city\": \"Salem\", \"zip\": \"600001\"}}',)\n",
    "]\n",
    "\n",
    "df_nest = spark.createDataFrame(data, [\"json_string\"])\n",
    "display(df_nest)"
   ]
  },
  {
   "cell_type": "code",
   "execution_count": 0,
   "metadata": {
    "application/vnd.databricks.v1+cell": {
     "cellMetadata": {
      "byteLimit": 2048000,
      "rowLimit": 10000
     },
     "inputWidgets": {},
     "nuid": "e42d59b3-1462-4ab9-85ad-b026a98ee692",
     "showTitle": false,
     "tableResultSettingsMap": {
      "0": {
       "dataGridStateBlob": "{\"version\":1,\"tableState\":{\"columnPinning\":{\"left\":[\"#row_number#\"],\"right\":[]},\"columnSizing\":{},\"columnVisibility\":{}},\"settings\":{\"columns\":{}},\"syncTimestamp\":1756783911842}",
       "filterBlob": null,
       "queryPlanFiltersBlob": null,
       "tableResultIndex": 0
      }
     },
     "title": ""
    }
   },
   "outputs": [
    {
     "output_type": "display_data",
     "data": {
      "text/html": [
       "<style scoped>\n",
       "  .table-result-container {\n",
       "    max-height: 300px;\n",
       "    overflow: auto;\n",
       "  }\n",
       "  table, th, td {\n",
       "    border: 1px solid black;\n",
       "    border-collapse: collapse;\n",
       "  }\n",
       "  th, td {\n",
       "    padding: 5px;\n",
       "  }\n",
       "  th {\n",
       "    text-align: left;\n",
       "  }\n",
       "</style><div class='table-result-container'><table class='table-result'><thead style='background-color: white'><tr><th>Name</th><th>Age</th><th>Price</th><th>City</th><th>Zip</th></tr></thead><tbody><tr><td>Subash</td><td>28</td><td>55000</td><td>null</td><td>null</td></tr><tr><td>Dinesh</td><td>32</td><td>65000</td><td>null</td><td>null</td></tr><tr><td>Fathima</td><td>29</td><td>59500</td><td>null</td><td>null</td></tr><tr><td>Gopesh</td><td>35</td><td>77000</td><td>null</td><td>null</td></tr><tr><td>Sreeni</td><td>26</td><td>89000</td><td>null</td><td>null</td></tr><tr><td>Anitha</td><td>33</td><td>44000</td><td>null</td><td>null</td></tr></tbody></table></div>"
      ]
     },
     "metadata": {
      "application/vnd.databricks.v1+output": {
       "addedWidgets": {},
       "aggData": [],
       "aggError": "",
       "aggOverflow": false,
       "aggSchema": [],
       "aggSeriesLimitReached": false,
       "aggType": "",
       "arguments": {},
       "columnCustomDisplayInfos": {},
       "data": [
        [
         "Subash",
         "28",
         "55000",
         null,
         null
        ],
        [
         "Dinesh",
         "32",
         "65000",
         null,
         null
        ],
        [
         "Fathima",
         "29",
         "59500",
         null,
         null
        ],
        [
         "Gopesh",
         "35",
         "77000",
         null,
         null
        ],
        [
         "Sreeni",
         "26",
         "89000",
         null,
         null
        ],
        [
         "Anitha",
         "33",
         "44000",
         null,
         null
        ]
       ],
       "datasetInfos": [],
       "dbfsResultPath": null,
       "isJsonSchema": true,
       "metadata": {},
       "overflow": false,
       "plotOptions": {
        "customPlotOptions": {},
        "displayType": "table",
        "pivotAggregation": null,
        "pivotColumns": null,
        "xColumns": null,
        "yColumns": null
       },
       "removedWidgets": [],
       "schema": [
        {
         "metadata": "{}",
         "name": "Name",
         "type": "\"string\""
        },
        {
         "metadata": "{}",
         "name": "Age",
         "type": "\"string\""
        },
        {
         "metadata": "{}",
         "name": "Price",
         "type": "\"string\""
        },
        {
         "metadata": "{}",
         "name": "City",
         "type": "\"string\""
        },
        {
         "metadata": "{}",
         "name": "Zip",
         "type": "\"string\""
        }
       ],
       "type": "table"
      }
     },
     "output_type": "display_data"
    }
   ],
   "source": [
    "# Try to extract nested city from \"address.city\"\n",
    "df_bad = df_nest.select(\n",
    "    json_tuple(\"json_string\", \"name\", \"age\", \"price\", \"address.city\", \"address.zip\").alias(\"Name\", \"Age\", \"Price\" ,\"City\", \"Zip\")\n",
    ")\n",
    "\n",
    "display(df_bad)"
   ]
  }
 ],
 "metadata": {
  "application/vnd.databricks.v1+notebook": {
   "computePreferences": {
    "hardware": {
     "accelerator": null,
     "gpuPoolId": null,
     "memory": null
    }
   },
   "dashboards": [],
   "environmentMetadata": {
    "base_environment": "",
    "environment_version": "3"
   },
   "inputWidgetPreferences": null,
   "language": "python",
   "notebookMetadata": {
    "pythonIndentUnit": 4
   },
   "notebookName": "48_get_json_object() | diff bn get_json_object(), parse_json(), json_tuple() & from_json",
   "widgets": {}
  },
  "language_info": {
   "name": "python"
  }
 },
 "nbformat": 4,
 "nbformat_minor": 0
}