{
 "cells": [
  {
   "cell_type": "markdown",
   "metadata": {
    "application/vnd.databricks.v1+cell": {
     "cellMetadata": {},
     "inputWidgets": {},
     "nuid": "4c2eacb1-abc1-4b9e-9394-e299229d6cac",
     "showTitle": false,
     "tableResultSettingsMap": {},
     "title": ""
    }
   },
   "source": [
    "#### parse_json\n",
    "- For **newer versions** of **Spark (4.0 and above)**, the **pyspark.sql.functions.parse_json** function can be used to parse a **JSON string** into a **VariantType**.\n",
    "\n",
    "- Parses a column containing a **JSON string** into a **VariantType** (including **objects, arrays, strings, numbers, and null values**).\n",
    "\n",
    "- parse_json function returns an **error** if the **JSON string is malformed / not valid**. To return **NULL instead of an error**, use the **try_parse_json** function."
   ]
  },
  {
   "cell_type": "markdown",
   "metadata": {
    "application/vnd.databricks.v1+cell": {
     "cellMetadata": {},
     "inputWidgets": {},
     "nuid": "ff49a9ce-8f30-4419-816f-03763d7c39a9",
     "showTitle": false,
     "tableResultSettingsMap": {},
     "title": ""
    }
   },
   "source": [
    "#### Syntax\n",
    "\n",
    "     pyspark.sql.functions.parse_json(col, schema=None, options={})\n",
    "\n",
    "**Parameters:**\n",
    "\n",
    "- **col** → Column containing the **JSON string** (usually a string column).\n",
    "- **schema (optional)** →\n",
    "  - **If provided** → the JSON string will be parsed into that schema.\n",
    "  - **If omitted** → the JSON will be parsed into a VARIANT (loosely typed struct/map).\n",
    "- **options (optional)** → Dictionary of options for parsing, e.g.\n",
    "  - **\"mode\":** \"PERMISSIVE\" | \"FAILFAST\" | \"DROPMALFORMED\"\n",
    "  - **\"allowComments\":** \"true/false\"\n",
    "  - **\"timestampFormat\":** \"yyyy-MM-dd'T'HH:mm:ss\"\n",
    "\n",
    "**Returns:**\n",
    "- A **VARIANT** value."
   ]
  },
  {
   "cell_type": "markdown",
   "metadata": {
    "application/vnd.databricks.v1+cell": {
     "cellMetadata": {},
     "inputWidgets": {},
     "nuid": "ec26d54e-5b75-4b7a-84a6-e33c1ac81766",
     "showTitle": false,
     "tableResultSettingsMap": {},
     "title": ""
    }
   },
   "source": [
    "**parse_json:**\n",
    "- **does not take a schema**\n",
    "- it only takes a **single argument** (the JSON column).\n",
    "         \n",
    "      TypeError: parse_json() takes 1 positional argument but 2 were given\n",
    "\n",
    "**✅ Correct usage:**\n",
    "\n",
    "- **parse_json(col)** → Parses a **JSON string** column into a loosely typed **variant/struct** (schema is inferred).\n",
    "- **from_json(col, schema)** → Parses a **JSON string** column into a **user-defined schema**."
   ]
  },
  {
   "cell_type": "code",
   "execution_count": 0,
   "metadata": {
    "application/vnd.databricks.v1+cell": {
     "cellMetadata": {
      "byteLimit": 2048000,
      "rowLimit": 10000
     },
     "inputWidgets": {},
     "nuid": "6c003236-09e3-4cd1-8223-a6cb5e69b1ed",
     "showTitle": false,
     "tableResultSettingsMap": {},
     "title": ""
    }
   },
   "outputs": [],
   "source": [
    "from pyspark.sql.functions import parse_json"
   ]
  },
  {
   "cell_type": "code",
   "execution_count": 0,
   "metadata": {
    "application/vnd.databricks.v1+cell": {
     "cellMetadata": {
      "byteLimit": 2048000,
      "rowLimit": 10000
     },
     "inputWidgets": {},
     "nuid": "0b6f669b-4f74-4852-870f-cc5c4f60057b",
     "showTitle": false,
     "tableResultSettingsMap": {},
     "title": ""
    }
   },
   "outputs": [
    {
     "output_type": "stream",
     "name": "stdout",
     "output_type": "stream",
     "text": [
      "Help on function parse_json in module pyspark.sql.functions.builtin:\n\nparse_json(col: 'ColumnOrName') -> pyspark.sql.column.Column\n    Parses a column containing a JSON string into a :class:`VariantType`. Throws exception if a\n    string represents an invalid JSON value.\n\n    .. versionadded:: 4.0.0\n\n    Parameters\n    ----------\n    col : :class:`~pyspark.sql.Column` or str\n        a column or column name JSON formatted strings\n\n    Returns\n    -------\n    :class:`~pyspark.sql.Column`\n        a new column of VariantType.\n\n    Examples\n    --------\n    >>> df = spark.createDataFrame([ {'json': '''{ \"a\" : 1 }'''} ])\n    >>> df.select(to_json(parse_json(df.json))).collect() # doctest: +SKIP\n    [Row(to_json(parse_json(json))='{\"a\":1}')]\n\n"
     ]
    }
   ],
   "source": [
    "help(parse_json)"
   ]
  },
  {
   "cell_type": "markdown",
   "metadata": {
    "application/vnd.databricks.v1+cell": {
     "cellMetadata": {},
     "inputWidgets": {},
     "nuid": "dbb8d6fc-7ab7-4b45-a5b1-4c579e2d3029",
     "showTitle": false,
     "tableResultSettingsMap": {},
     "title": ""
    }
   },
   "source": [
    "##### 1) Nested JSON\n",
    "**a) Single nested JSON string**"
   ]
  },
  {
   "cell_type": "code",
   "execution_count": 0,
   "metadata": {
    "application/vnd.databricks.v1+cell": {
     "cellMetadata": {
      "byteLimit": 2048000,
      "rowLimit": 10000
     },
     "inputWidgets": {},
     "nuid": "32ea5f87-5f7d-40c7-b39f-02785fd8d8f6",
     "showTitle": false,
     "tableResultSettingsMap": {
      "0": {
       "dataGridStateBlob": "{\"version\":1,\"tableState\":{\"columnPinning\":{\"left\":[\"#row_number#\"],\"right\":[]},\"columnSizing\":{\"json_string\":613},\"columnVisibility\":{}},\"settings\":{\"columns\":{}},\"syncTimestamp\":1756552885941}",
       "filterBlob": null,
       "queryPlanFiltersBlob": null,
       "tableResultIndex": 0
      }
     },
     "title": ""
    }
   },
   "outputs": [
    {
     "output_type": "display_data",
     "data": {
      "text/html": [
       "<style scoped>\n",
       "  .table-result-container {\n",
       "    max-height: 300px;\n",
       "    overflow: auto;\n",
       "  }\n",
       "  table, th, td {\n",
       "    border: 1px solid black;\n",
       "    border-collapse: collapse;\n",
       "  }\n",
       "  th, td {\n",
       "    padding: 5px;\n",
       "  }\n",
       "  th {\n",
       "    text-align: left;\n",
       "  }\n",
       "</style><div class='table-result-container'><table class='table-result'><thead style='background-color: white'><tr><th>json_string</th></tr></thead><tbody><tr><td>{\"name\": \"Alice\", \"age\": 28,\n",
       " \"address\": {\"street\": \"123 Main St\", \"city\": \"San Francisco\", \"zip\": \"94105\"}}</td></tr></tbody></table></div>"
      ]
     },
     "metadata": {
      "application/vnd.databricks.v1+output": {
       "addedWidgets": {},
       "aggData": [],
       "aggError": "",
       "aggOverflow": false,
       "aggSchema": [],
       "aggSeriesLimitReached": false,
       "aggType": "",
       "arguments": {},
       "columnCustomDisplayInfos": {},
       "data": [
        [
         "{\"name\": \"Alice\", \"age\": 28,\n \"address\": {\"street\": \"123 Main St\", \"city\": \"San Francisco\", \"zip\": \"94105\"}}"
        ]
       ],
       "datasetInfos": [],
       "dbfsResultPath": null,
       "isJsonSchema": true,
       "metadata": {},
       "overflow": false,
       "plotOptions": {
        "customPlotOptions": {},
        "displayType": "table",
        "pivotAggregation": null,
        "pivotColumns": null,
        "xColumns": null,
        "yColumns": null
       },
       "removedWidgets": [],
       "schema": [
        {
         "metadata": "{}",
         "name": "json_string",
         "type": "\"string\""
        }
       ],
       "type": "table"
      }
     },
     "output_type": "display_data"
    }
   ],
   "source": [
    "nested_json_string = '''{\"name\": \"Alice\", \"age\": 28,\n",
    " \"address\": {\"street\": \"123 Main St\", \"city\": \"San Francisco\", \"zip\": \"94105\"}}'''\n",
    "\n",
    "df_string = spark.createDataFrame([(nested_json_string,)], [\"json_string\"])\n",
    "display(df_string)"
   ]
  },
  {
   "cell_type": "code",
   "execution_count": 0,
   "metadata": {
    "application/vnd.databricks.v1+cell": {
     "cellMetadata": {
      "byteLimit": 2048000,
      "rowLimit": 10000
     },
     "inputWidgets": {},
     "nuid": "5e52fe14-9579-4477-9c5c-41dff84ce4e5",
     "showTitle": false,
     "tableResultSettingsMap": {
      "0": {
       "dataGridStateBlob": "{\"version\":1,\"tableState\":{\"columnPinning\":{\"left\":[\"#row_number#\"],\"right\":[]},\"columnSizing\":{\"json_string\":449},\"columnVisibility\":{}},\"settings\":{\"columns\":{}},\"syncTimestamp\":1756641811578}",
       "filterBlob": null,
       "queryPlanFiltersBlob": null,
       "tableResultIndex": 0
      }
     },
     "title": ""
    }
   },
   "outputs": [
    {
     "output_type": "display_data",
     "data": {
      "text/html": [
       "<style scoped>\n",
       "  .table-result-container {\n",
       "    max-height: 300px;\n",
       "    overflow: auto;\n",
       "  }\n",
       "  table, th, td {\n",
       "    border: 1px solid black;\n",
       "    border-collapse: collapse;\n",
       "  }\n",
       "  th, td {\n",
       "    padding: 5px;\n",
       "  }\n",
       "  th {\n",
       "    text-align: left;\n",
       "  }\n",
       "</style><div class='table-result-container'><table class='table-result'><thead style='background-color: white'><tr><th>json_string</th><th>json_variant</th></tr></thead><tbody><tr><td>{\"name\": \"Alice\", \"age\": 28,\n",
       " \"address\": {\"street\": \"123 Main St\", \"city\": \"San Francisco\", \"zip\": \"94105\"}}</td><td>{\"address\":{\"city\":\"San Francisco\",\"street\":\"123 Main St\",\"zip\":\"94105\"},\"age\":28,\"name\":\"Alice\"}</td></tr></tbody></table></div>"
      ]
     },
     "metadata": {
      "application/vnd.databricks.v1+output": {
       "addedWidgets": {},
       "aggData": [],
       "aggError": "",
       "aggOverflow": false,
       "aggSchema": [],
       "aggSeriesLimitReached": false,
       "aggType": "",
       "arguments": {},
       "columnCustomDisplayInfos": {},
       "data": [
        [
         "{\"name\": \"Alice\", \"age\": 28,\n \"address\": {\"street\": \"123 Main St\", \"city\": \"San Francisco\", \"zip\": \"94105\"}}",
         "{\"address\":{\"city\":\"San Francisco\",\"street\":\"123 Main St\",\"zip\":\"94105\"},\"age\":28,\"name\":\"Alice\"}"
        ]
       ],
       "datasetInfos": [],
       "dbfsResultPath": null,
       "isJsonSchema": true,
       "metadata": {},
       "overflow": false,
       "plotOptions": {
        "customPlotOptions": {},
        "displayType": "table",
        "pivotAggregation": null,
        "pivotColumns": null,
        "xColumns": null,
        "yColumns": null
       },
       "removedWidgets": [],
       "schema": [
        {
         "metadata": "{}",
         "name": "json_string",
         "type": "\"string\""
        },
        {
         "metadata": "{}",
         "name": "json_variant",
         "type": "\"variant\""
        }
       ],
       "type": "table"
      }
     },
     "output_type": "display_data"
    }
   ],
   "source": [
    "# Parse string with VARIANT type\n",
    "df_variant = df_string.withColumn(\"json_variant\", parse_json(col(\"json_string\")))\n",
    "display(df_variant)"
   ]
  },
  {
   "cell_type": "code",
   "execution_count": 0,
   "metadata": {
    "application/vnd.databricks.v1+cell": {
     "cellMetadata": {
      "byteLimit": 2048000,
      "rowLimit": 10000
     },
     "inputWidgets": {},
     "nuid": "15b3e368-67ba-4ddf-b7a4-586f3069374c",
     "showTitle": false,
     "tableResultSettingsMap": {},
     "title": ""
    }
   },
   "outputs": [
    {
     "output_type": "display_data",
     "data": {
      "text/html": [
       "<style scoped>\n",
       "  .table-result-container {\n",
       "    max-height: 300px;\n",
       "    overflow: auto;\n",
       "  }\n",
       "  table, th, td {\n",
       "    border: 1px solid black;\n",
       "    border-collapse: collapse;\n",
       "  }\n",
       "  th, td {\n",
       "    padding: 5px;\n",
       "  }\n",
       "  th {\n",
       "    text-align: left;\n",
       "  }\n",
       "</style><div class='table-result-container'><table class='table-result'><thead style='background-color: white'><tr><th>Age</th><th>Name</th><th>City</th><th>Street</th><th>Zip</th></tr></thead><tbody><tr><td>28</td><td>Alice</td><td>San Francisco</td><td>123 Main St</td><td>94105</td></tr></tbody></table></div>"
      ]
     },
     "metadata": {
      "application/vnd.databricks.v1+output": {
       "addedWidgets": {},
       "aggData": [],
       "aggError": "",
       "aggOverflow": false,
       "aggSchema": [],
       "aggSeriesLimitReached": false,
       "aggType": "",
       "arguments": {},
       "columnCustomDisplayInfos": {},
       "data": [
        [
         28,
         "Alice",
         "San Francisco",
         "123 Main St",
         94105
        ]
       ],
       "datasetInfos": [],
       "dbfsResultPath": null,
       "isJsonSchema": true,
       "metadata": {},
       "overflow": false,
       "plotOptions": {
        "customPlotOptions": {},
        "displayType": "table",
        "pivotAggregation": null,
        "pivotColumns": null,
        "xColumns": null,
        "yColumns": null
       },
       "removedWidgets": [],
       "schema": [
        {
         "metadata": "{}",
         "name": "Age",
         "type": "\"integer\""
        },
        {
         "metadata": "{}",
         "name": "Name",
         "type": "\"string\""
        },
        {
         "metadata": "{}",
         "name": "City",
         "type": "\"string\""
        },
        {
         "metadata": "{}",
         "name": "Street",
         "type": "\"string\""
        },
        {
         "metadata": "{}",
         "name": "Zip",
         "type": "\"integer\""
        }
       ],
       "type": "table"
      }
     },
     "output_type": "display_data"
    }
   ],
   "source": [
    "# Extract multiple fields\n",
    "df_variant.select(\n",
    "  expr(\"json_variant:age::int\").alias(\"Age\"),\n",
    "  expr(\"json_variant:name::string\").alias(\"Name\"),\n",
    "  expr(\"json_variant:address:city::string\").alias(\"City\"),\n",
    "  expr(\"json_variant:address:street::string\").alias(\"Street\"),\n",
    "  expr(\"json_variant:address:zip::int\").alias(\"Zip\")\n",
    ").display()"
   ]
  },
  {
   "cell_type": "markdown",
   "metadata": {
    "application/vnd.databricks.v1+cell": {
     "cellMetadata": {},
     "inputWidgets": {},
     "nuid": "1409a632-233b-455c-82f1-b4f683a91717",
     "showTitle": false,
     "tableResultSettingsMap": {},
     "title": ""
    }
   },
   "source": [
    "**b) Nested JSON string**"
   ]
  },
  {
   "cell_type": "code",
   "execution_count": 0,
   "metadata": {
    "application/vnd.databricks.v1+cell": {
     "cellMetadata": {
      "byteLimit": 2048000,
      "rowLimit": 10000
     },
     "inputWidgets": {},
     "nuid": "44ecaae6-ad9f-43ef-a953-1a1433f1da54",
     "showTitle": false,
     "tableResultSettingsMap": {},
     "title": ""
    }
   },
   "outputs": [
    {
     "output_type": "display_data",
     "data": {
      "text/html": [
       "<style scoped>\n",
       "  .table-result-container {\n",
       "    max-height: 300px;\n",
       "    overflow: auto;\n",
       "  }\n",
       "  table, th, td {\n",
       "    border: 1px solid black;\n",
       "    border-collapse: collapse;\n",
       "  }\n",
       "  th, td {\n",
       "    padding: 5px;\n",
       "  }\n",
       "  th {\n",
       "    text-align: left;\n",
       "  }\n",
       "</style><div class='table-result-container'><table class='table-result'><thead style='background-color: white'><tr><th>json_string</th></tr></thead><tbody><tr><td>{\"name\": \"Alice\", \"age\": 28,\n",
       "         \"address\": {\"street\": \"123 Main St\", \"city\": \"San Francisco\", \"zip\": \"94105\"}}</td></tr><tr><td>{\"name\": \"Bob\", \"age\": 32,\n",
       "         \"address\": {\"street\": \"456 Park Ave\", \"city\": \"New York\", \"zip\": \"10001\"}}</td></tr><tr><td>{\"name\": \"Charlie\", \"age\": 40,\n",
       "         \"address\": {\"street\": \"789 MG Road\", \"city\": \"Bangalore\", \"zip\": \"560001\"}}</td></tr><tr><td>{\"name\": \"David\", \"age\": 29,\n",
       "         \"address\": {\"street\": \"12 Residency Rd\", \"city\": \"Chennai\", \"zip\": \"600001\"}}</td></tr><tr><td>{\"name\": \"Eva\", \"age\": 35,\n",
       "         \"address\": {\"street\": \"90 Banjara Hills\", \"city\": \"Hyderabad\", \"zip\": \"500034\"}}</td></tr></tbody></table></div>"
      ]
     },
     "metadata": {
      "application/vnd.databricks.v1+output": {
       "addedWidgets": {},
       "aggData": [],
       "aggError": "",
       "aggOverflow": false,
       "aggSchema": [],
       "aggSeriesLimitReached": false,
       "aggType": "",
       "arguments": {},
       "columnCustomDisplayInfos": {},
       "data": [
        [
         "{\"name\": \"Alice\", \"age\": 28,\n         \"address\": {\"street\": \"123 Main St\", \"city\": \"San Francisco\", \"zip\": \"94105\"}}"
        ],
        [
         "{\"name\": \"Bob\", \"age\": 32,\n         \"address\": {\"street\": \"456 Park Ave\", \"city\": \"New York\", \"zip\": \"10001\"}}"
        ],
        [
         "{\"name\": \"Charlie\", \"age\": 40,\n         \"address\": {\"street\": \"789 MG Road\", \"city\": \"Bangalore\", \"zip\": \"560001\"}}"
        ],
        [
         "{\"name\": \"David\", \"age\": 29,\n         \"address\": {\"street\": \"12 Residency Rd\", \"city\": \"Chennai\", \"zip\": \"600001\"}}"
        ],
        [
         "{\"name\": \"Eva\", \"age\": 35,\n         \"address\": {\"street\": \"90 Banjara Hills\", \"city\": \"Hyderabad\", \"zip\": \"500034\"}}"
        ]
       ],
       "datasetInfos": [],
       "dbfsResultPath": null,
       "isJsonSchema": true,
       "metadata": {},
       "overflow": false,
       "plotOptions": {
        "customPlotOptions": {},
        "displayType": "table",
        "pivotAggregation": null,
        "pivotColumns": null,
        "xColumns": null,
        "yColumns": null
       },
       "removedWidgets": [],
       "schema": [
        {
         "metadata": "{}",
         "name": "json_string",
         "type": "\"string\""
        }
       ],
       "type": "table"
      }
     },
     "output_type": "display_data"
    }
   ],
   "source": [
    " # Sample nested JSON data\n",
    " data = [\n",
    "     ('''{\"name\": \"Alice\", \"age\": 28,\n",
    "          \"address\": {\"street\": \"123 Main St\", \"city\": \"San Francisco\", \"zip\": \"94105\"}}''',),\n",
    "\n",
    "     ('''{\"name\": \"Bob\", \"age\": 32,\n",
    "          \"address\": {\"street\": \"456 Park Ave\", \"city\": \"New York\", \"zip\": \"10001\"}}''',),\n",
    "\n",
    "     ('''{\"name\": \"Charlie\", \"age\": 40,\n",
    "          \"address\": {\"street\": \"789 MG Road\", \"city\": \"Bangalore\", \"zip\": \"560001\"}}''',),\n",
    "\n",
    "     ('''{\"name\": \"David\", \"age\": 29,\n",
    "          \"address\": {\"street\": \"12 Residency Rd\", \"city\": \"Chennai\", \"zip\": \"600001\"}}''',),\n",
    "\n",
    "     ('''{\"name\": \"Eva\", \"age\": 35,\n",
    "          \"address\": {\"street\": \"90 Banjara Hills\", \"city\": \"Hyderabad\", \"zip\": \"500034\"}}''',)\n",
    " ]\n",
    "\n",
    " # Create DataFrame with JSON strings\n",
    " df_json = spark.createDataFrame(data, [\"json_string\"])\n",
    " display(df_json)"
   ]
  },
  {
   "cell_type": "code",
   "execution_count": 0,
   "metadata": {
    "application/vnd.databricks.v1+cell": {
     "cellMetadata": {
      "byteLimit": 2048000,
      "rowLimit": 10000
     },
     "inputWidgets": {},
     "nuid": "0b45369a-b281-4de0-bcf1-26688a208dee",
     "showTitle": false,
     "tableResultSettingsMap": {
      "0": {
       "dataGridStateBlob": "{\"version\":1,\"tableState\":{\"columnPinning\":{\"left\":[\"#row_number#\"],\"right\":[]},\"columnSizing\":{\"json_string\":553},\"columnVisibility\":{}},\"settings\":{\"columns\":{}},\"syncTimestamp\":1756642241438}",
       "filterBlob": null,
       "queryPlanFiltersBlob": null,
       "tableResultIndex": 0
      }
     },
     "title": ""
    }
   },
   "outputs": [
    {
     "output_type": "display_data",
     "data": {
      "text/html": [
       "<style scoped>\n",
       "  .table-result-container {\n",
       "    max-height: 300px;\n",
       "    overflow: auto;\n",
       "  }\n",
       "  table, th, td {\n",
       "    border: 1px solid black;\n",
       "    border-collapse: collapse;\n",
       "  }\n",
       "  th, td {\n",
       "    padding: 5px;\n",
       "  }\n",
       "  th {\n",
       "    text-align: left;\n",
       "  }\n",
       "</style><div class='table-result-container'><table class='table-result'><thead style='background-color: white'><tr><th>json_string</th><th>json_data</th></tr></thead><tbody><tr><td>{\"name\": \"Alice\", \"age\": 28,\n",
       "         \"address\": {\"street\": \"123 Main St\", \"city\": \"San Francisco\", \"zip\": \"94105\"}}</td><td>{\"address\":{\"city\":\"San Francisco\",\"street\":\"123 Main St\",\"zip\":\"94105\"},\"age\":28,\"name\":\"Alice\"}</td></tr><tr><td>{\"name\": \"Bob\", \"age\": 32,\n",
       "         \"address\": {\"street\": \"456 Park Ave\", \"city\": \"New York\", \"zip\": \"10001\"}}</td><td>{\"address\":{\"city\":\"New York\",\"street\":\"456 Park Ave\",\"zip\":\"10001\"},\"age\":32,\"name\":\"Bob\"}</td></tr><tr><td>{\"name\": \"Charlie\", \"age\": 40,\n",
       "         \"address\": {\"street\": \"789 MG Road\", \"city\": \"Bangalore\", \"zip\": \"560001\"}}</td><td>{\"address\":{\"city\":\"Bangalore\",\"street\":\"789 MG Road\",\"zip\":\"560001\"},\"age\":40,\"name\":\"Charlie\"}</td></tr><tr><td>{\"name\": \"David\", \"age\": 29,\n",
       "         \"address\": {\"street\": \"12 Residency Rd\", \"city\": \"Chennai\", \"zip\": \"600001\"}}</td><td>{\"address\":{\"city\":\"Chennai\",\"street\":\"12 Residency Rd\",\"zip\":\"600001\"},\"age\":29,\"name\":\"David\"}</td></tr><tr><td>{\"name\": \"Eva\", \"age\": 35,\n",
       "         \"address\": {\"street\": \"90 Banjara Hills\", \"city\": \"Hyderabad\", \"zip\": \"500034\"}}</td><td>{\"address\":{\"city\":\"Hyderabad\",\"street\":\"90 Banjara Hills\",\"zip\":\"500034\"},\"age\":35,\"name\":\"Eva\"}</td></tr></tbody></table></div>"
      ]
     },
     "metadata": {
      "application/vnd.databricks.v1+output": {
       "addedWidgets": {},
       "aggData": [],
       "aggError": "",
       "aggOverflow": false,
       "aggSchema": [],
       "aggSeriesLimitReached": false,
       "aggType": "",
       "arguments": {},
       "columnCustomDisplayInfos": {},
       "data": [
        [
         "{\"name\": \"Alice\", \"age\": 28,\n         \"address\": {\"street\": \"123 Main St\", \"city\": \"San Francisco\", \"zip\": \"94105\"}}",
         "{\"address\":{\"city\":\"San Francisco\",\"street\":\"123 Main St\",\"zip\":\"94105\"},\"age\":28,\"name\":\"Alice\"}"
        ],
        [
         "{\"name\": \"Bob\", \"age\": 32,\n         \"address\": {\"street\": \"456 Park Ave\", \"city\": \"New York\", \"zip\": \"10001\"}}",
         "{\"address\":{\"city\":\"New York\",\"street\":\"456 Park Ave\",\"zip\":\"10001\"},\"age\":32,\"name\":\"Bob\"}"
        ],
        [
         "{\"name\": \"Charlie\", \"age\": 40,\n         \"address\": {\"street\": \"789 MG Road\", \"city\": \"Bangalore\", \"zip\": \"560001\"}}",
         "{\"address\":{\"city\":\"Bangalore\",\"street\":\"789 MG Road\",\"zip\":\"560001\"},\"age\":40,\"name\":\"Charlie\"}"
        ],
        [
         "{\"name\": \"David\", \"age\": 29,\n         \"address\": {\"street\": \"12 Residency Rd\", \"city\": \"Chennai\", \"zip\": \"600001\"}}",
         "{\"address\":{\"city\":\"Chennai\",\"street\":\"12 Residency Rd\",\"zip\":\"600001\"},\"age\":29,\"name\":\"David\"}"
        ],
        [
         "{\"name\": \"Eva\", \"age\": 35,\n         \"address\": {\"street\": \"90 Banjara Hills\", \"city\": \"Hyderabad\", \"zip\": \"500034\"}}",
         "{\"address\":{\"city\":\"Hyderabad\",\"street\":\"90 Banjara Hills\",\"zip\":\"500034\"},\"age\":35,\"name\":\"Eva\"}"
        ]
       ],
       "datasetInfos": [],
       "dbfsResultPath": null,
       "isJsonSchema": true,
       "metadata": {},
       "overflow": false,
       "plotOptions": {
        "customPlotOptions": {},
        "displayType": "table",
        "pivotAggregation": null,
        "pivotColumns": null,
        "xColumns": null,
        "yColumns": null
       },
       "removedWidgets": [],
       "schema": [
        {
         "metadata": "{}",
         "name": "json_string",
         "type": "\"string\""
        },
        {
         "metadata": "{}",
         "name": "json_data",
         "type": "\"variant\""
        }
       ],
       "type": "table"
      }
     },
     "output_type": "display_data"
    }
   ],
   "source": [
    "# Parse JSON string into struct\n",
    "df_parsed_01 = df_json.withColumn(\"json_data\", parse_json(col(\"json_string\")))\n",
    "display(df_parsed_01)"
   ]
  },
  {
   "cell_type": "code",
   "execution_count": 0,
   "metadata": {
    "application/vnd.databricks.v1+cell": {
     "cellMetadata": {
      "byteLimit": 2048000,
      "rowLimit": 10000
     },
     "inputWidgets": {},
     "nuid": "65f9f637-9947-4e44-95d8-33533694460a",
     "showTitle": false,
     "tableResultSettingsMap": {},
     "title": ""
    }
   },
   "outputs": [
    {
     "output_type": "display_data",
     "data": {
      "text/html": [
       "<style scoped>\n",
       "  .table-result-container {\n",
       "    max-height: 300px;\n",
       "    overflow: auto;\n",
       "  }\n",
       "  table, th, td {\n",
       "    border: 1px solid black;\n",
       "    border-collapse: collapse;\n",
       "  }\n",
       "  th, td {\n",
       "    padding: 5px;\n",
       "  }\n",
       "  th {\n",
       "    text-align: left;\n",
       "  }\n",
       "</style><div class='table-result-container'><table class='table-result'><thead style='background-color: white'><tr><th>Age</th><th>Name</th><th>City</th><th>Street</th><th>Zip</th></tr></thead><tbody><tr><td>28</td><td>Alice</td><td>San Francisco</td><td>123 Main St</td><td>94105</td></tr><tr><td>32</td><td>Bob</td><td>New York</td><td>456 Park Ave</td><td>10001</td></tr><tr><td>40</td><td>Charlie</td><td>Bangalore</td><td>789 MG Road</td><td>560001</td></tr><tr><td>29</td><td>David</td><td>Chennai</td><td>12 Residency Rd</td><td>600001</td></tr><tr><td>35</td><td>Eva</td><td>Hyderabad</td><td>90 Banjara Hills</td><td>500034</td></tr></tbody></table></div>"
      ]
     },
     "metadata": {
      "application/vnd.databricks.v1+output": {
       "addedWidgets": {},
       "aggData": [],
       "aggError": "",
       "aggOverflow": false,
       "aggSchema": [],
       "aggSeriesLimitReached": false,
       "aggType": "",
       "arguments": {},
       "columnCustomDisplayInfos": {},
       "data": [
        [
         28,
         "Alice",
         "San Francisco",
         "123 Main St",
         94105
        ],
        [
         32,
         "Bob",
         "New York",
         "456 Park Ave",
         10001
        ],
        [
         40,
         "Charlie",
         "Bangalore",
         "789 MG Road",
         560001
        ],
        [
         29,
         "David",
         "Chennai",
         "12 Residency Rd",
         600001
        ],
        [
         35,
         "Eva",
         "Hyderabad",
         "90 Banjara Hills",
         500034
        ]
       ],
       "datasetInfos": [],
       "dbfsResultPath": null,
       "isJsonSchema": true,
       "metadata": {},
       "overflow": false,
       "plotOptions": {
        "customPlotOptions": {},
        "displayType": "table",
        "pivotAggregation": null,
        "pivotColumns": null,
        "xColumns": null,
        "yColumns": null
       },
       "removedWidgets": [],
       "schema": [
        {
         "metadata": "{}",
         "name": "Age",
         "type": "\"integer\""
        },
        {
         "metadata": "{}",
         "name": "Name",
         "type": "\"string\""
        },
        {
         "metadata": "{}",
         "name": "City",
         "type": "\"string\""
        },
        {
         "metadata": "{}",
         "name": "Street",
         "type": "\"string\""
        },
        {
         "metadata": "{}",
         "name": "Zip",
         "type": "\"integer\""
        }
       ],
       "type": "table"
      }
     },
     "output_type": "display_data"
    }
   ],
   "source": [
    "# Extract multiple fields\n",
    "df_parsed_01.select(\n",
    "  expr(\"json_data:age::int\").alias(\"Age\"),\n",
    "  expr(\"json_data:name::string\").alias(\"Name\"),\n",
    "  expr(\"json_data:address:city::string\").alias(\"City\"),\n",
    "  expr(\"json_data:address:street::string\").alias(\"Street\"),\n",
    "  expr(\"json_data:address:zip::int\").alias(\"Zip\")\n",
    ").display()"
   ]
  },
  {
   "cell_type": "markdown",
   "metadata": {
    "application/vnd.databricks.v1+cell": {
     "cellMetadata": {},
     "inputWidgets": {},
     "nuid": "ce5f3ec0-246a-45a0-96f4-5fa5cc40dbde",
     "showTitle": false,
     "tableResultSettingsMap": {},
     "title": ""
    }
   },
   "source": [
    "##### 2) Simple JSON with key-value pairs"
   ]
  },
  {
   "cell_type": "code",
   "execution_count": 0,
   "metadata": {
    "application/vnd.databricks.v1+cell": {
     "cellMetadata": {
      "byteLimit": 2048000,
      "rowLimit": 10000
     },
     "inputWidgets": {},
     "nuid": "6dfd463d-30b3-4e1d-b8d0-988ef3004a1a",
     "showTitle": false,
     "tableResultSettingsMap": {
      "0": {
       "dataGridStateBlob": "{\"version\":1,\"tableState\":{\"columnPinning\":{\"left\":[\"#row_number#\"],\"right\":[]},\"columnSizing\":{\"json_string\":295,\"json_data\":289},\"columnVisibility\":{}},\"settings\":{\"columns\":{}},\"syncTimestamp\":1756554345603}",
       "filterBlob": null,
       "queryPlanFiltersBlob": null,
       "tableResultIndex": 0
      }
     },
     "title": ""
    }
   },
   "outputs": [
    {
     "output_type": "display_data",
     "data": {
      "text/html": [
       "<style scoped>\n",
       "  .table-result-container {\n",
       "    max-height: 300px;\n",
       "    overflow: auto;\n",
       "  }\n",
       "  table, th, td {\n",
       "    border: 1px solid black;\n",
       "    border-collapse: collapse;\n",
       "  }\n",
       "  th, td {\n",
       "    padding: 5px;\n",
       "  }\n",
       "  th {\n",
       "    text-align: left;\n",
       "  }\n",
       "</style><div class='table-result-container'><table class='table-result'><thead style='background-color: white'><tr><th>json_string</th><th>json_data</th></tr></thead><tbody><tr><td>{\"name\": \"Albert\", \"age\": 30, \"city\": \"Bangalore\"}</td><td>{\"age\":30,\"city\":\"Bangalore\",\"name\":\"Albert\"}</td></tr><tr><td>{\"name\": \"Bobby\", \"age\": 25, \"city\": \"Chennai\"}</td><td>{\"age\":25,\"city\":\"Chennai\",\"name\":\"Bobby\"}</td></tr><tr><td>{\"name\": \"Swapna\", \"age\": 35, \"city\": \"Hyderabad\"}</td><td>{\"age\":35,\"city\":\"Hyderabad\",\"name\":\"Swapna\"}</td></tr><tr><td>{\"name\": \"David\", \"age\": 28, \"city\": \"Cochin\"}</td><td>{\"age\":28,\"city\":\"Cochin\",\"name\":\"David\"}</td></tr><tr><td>{\"name\": \"Anand\", \"age\": 33, \"city\": \"Baroda\"}</td><td>{\"age\":33,\"city\":\"Baroda\",\"name\":\"Anand\"}</td></tr><tr><td>{\"name\": \"Baskar\", \"age\": 29, \"city\": \"Nasik\"}</td><td>{\"age\":29,\"city\":\"Nasik\",\"name\":\"Baskar\"}</td></tr></tbody></table></div>"
      ]
     },
     "metadata": {
      "application/vnd.databricks.v1+output": {
       "addedWidgets": {},
       "aggData": [],
       "aggError": "",
       "aggOverflow": false,
       "aggSchema": [],
       "aggSeriesLimitReached": false,
       "aggType": "",
       "arguments": {},
       "columnCustomDisplayInfos": {},
       "data": [
        [
         "{\"name\": \"Albert\", \"age\": 30, \"city\": \"Bangalore\"}",
         "{\"age\":30,\"city\":\"Bangalore\",\"name\":\"Albert\"}"
        ],
        [
         "{\"name\": \"Bobby\", \"age\": 25, \"city\": \"Chennai\"}",
         "{\"age\":25,\"city\":\"Chennai\",\"name\":\"Bobby\"}"
        ],
        [
         "{\"name\": \"Swapna\", \"age\": 35, \"city\": \"Hyderabad\"}",
         "{\"age\":35,\"city\":\"Hyderabad\",\"name\":\"Swapna\"}"
        ],
        [
         "{\"name\": \"David\", \"age\": 28, \"city\": \"Cochin\"}",
         "{\"age\":28,\"city\":\"Cochin\",\"name\":\"David\"}"
        ],
        [
         "{\"name\": \"Anand\", \"age\": 33, \"city\": \"Baroda\"}",
         "{\"age\":33,\"city\":\"Baroda\",\"name\":\"Anand\"}"
        ],
        [
         "{\"name\": \"Baskar\", \"age\": 29, \"city\": \"Nasik\"}",
         "{\"age\":29,\"city\":\"Nasik\",\"name\":\"Baskar\"}"
        ]
       ],
       "datasetInfos": [],
       "dbfsResultPath": null,
       "isJsonSchema": true,
       "metadata": {},
       "overflow": false,
       "plotOptions": {
        "customPlotOptions": {},
        "displayType": "table",
        "pivotAggregation": null,
        "pivotColumns": null,
        "xColumns": null,
        "yColumns": null
       },
       "removedWidgets": [],
       "schema": [
        {
         "metadata": "{}",
         "name": "json_string",
         "type": "\"string\""
        },
        {
         "metadata": "{}",
         "name": "json_data",
         "type": "\"variant\""
        }
       ],
       "type": "table"
      }
     },
     "output_type": "display_data"
    }
   ],
   "source": [
    "data = [\n",
    "    ('{\"name\": \"Albert\", \"age\": 30, \"city\": \"Bangalore\"}',),\n",
    "    ('{\"name\": \"Bobby\", \"age\": 25, \"city\": \"Chennai\"}',),\n",
    "    ('{\"name\": \"Swapna\", \"age\": 35, \"city\": \"Hyderabad\"}',),\n",
    "    ('{\"name\": \"David\", \"age\": 28, \"city\": \"Cochin\"}',),\n",
    "    ('{\"name\": \"Anand\", \"age\": 33, \"city\": \"Baroda\"}',),\n",
    "    ('{\"name\": \"Baskar\", \"age\": 29, \"city\": \"Nasik\"}',),\n",
    "]\n",
    "\n",
    "df_kv = spark.createDataFrame(data, [\"json_string\"])\n",
    "\n",
    "# Convert JSON string into struct\n",
    "df_parsed = df_kv.withColumn(\"json_data\", parse_json(col(\"json_string\")))\n",
    "display(df_parsed)"
   ]
  },
  {
   "cell_type": "code",
   "execution_count": 0,
   "metadata": {
    "application/vnd.databricks.v1+cell": {
     "cellMetadata": {
      "byteLimit": 2048000,
      "rowLimit": 10000
     },
     "inputWidgets": {},
     "nuid": "4ab1f9c1-b46c-4721-ac36-d27182aea48a",
     "showTitle": false,
     "tableResultSettingsMap": {
      "0": {
       "dataGridStateBlob": "{\"version\":1,\"tableState\":{\"columnPinning\":{\"left\":[\"#row_number#\"],\"right\":[]},\"columnSizing\":{},\"columnVisibility\":{}},\"settings\":{\"columns\":{}},\"syncTimestamp\":1756567364078}",
       "filterBlob": null,
       "queryPlanFiltersBlob": null,
       "tableResultIndex": 0
      }
     },
     "title": ""
    }
   },
   "outputs": [
    {
     "output_type": "display_data",
     "data": {
      "text/html": [
       "<style scoped>\n",
       "  .table-result-container {\n",
       "    max-height: 300px;\n",
       "    overflow: auto;\n",
       "  }\n",
       "  table, th, td {\n",
       "    border: 1px solid black;\n",
       "    border-collapse: collapse;\n",
       "  }\n",
       "  th, td {\n",
       "    padding: 5px;\n",
       "  }\n",
       "  th {\n",
       "    text-align: left;\n",
       "  }\n",
       "</style><div class='table-result-container'><table class='table-result'><thead style='background-color: white'><tr><th>Age</th><th>Name</th><th>City</th></tr></thead><tbody><tr><td>30</td><td>Albert</td><td>Bangalore</td></tr><tr><td>25</td><td>Bobby</td><td>Chennai</td></tr><tr><td>35</td><td>Swapna</td><td>Hyderabad</td></tr><tr><td>28</td><td>David</td><td>Cochin</td></tr><tr><td>33</td><td>Anand</td><td>Baroda</td></tr><tr><td>29</td><td>Baskar</td><td>Nasik</td></tr></tbody></table></div>"
      ]
     },
     "metadata": {
      "application/vnd.databricks.v1+output": {
       "addedWidgets": {},
       "aggData": [],
       "aggError": "",
       "aggOverflow": false,
       "aggSchema": [],
       "aggSeriesLimitReached": false,
       "aggType": "",
       "arguments": {},
       "columnCustomDisplayInfos": {},
       "data": [
        [
         30,
         "Albert",
         "Bangalore"
        ],
        [
         25,
         "Bobby",
         "Chennai"
        ],
        [
         35,
         "Swapna",
         "Hyderabad"
        ],
        [
         28,
         "David",
         "Cochin"
        ],
        [
         33,
         "Anand",
         "Baroda"
        ],
        [
         29,
         "Baskar",
         "Nasik"
        ]
       ],
       "datasetInfos": [],
       "dbfsResultPath": null,
       "isJsonSchema": true,
       "metadata": {},
       "overflow": false,
       "plotOptions": {
        "customPlotOptions": {},
        "displayType": "table",
        "pivotAggregation": null,
        "pivotColumns": null,
        "xColumns": null,
        "yColumns": null
       },
       "removedWidgets": [],
       "schema": [
        {
         "metadata": "{}",
         "name": "Age",
         "type": "\"integer\""
        },
        {
         "metadata": "{}",
         "name": "Name",
         "type": "\"string\""
        },
        {
         "metadata": "{}",
         "name": "City",
         "type": "\"string\""
        }
       ],
       "type": "table"
      }
     },
     "output_type": "display_data"
    }
   ],
   "source": [
    "# Extract multiple fields\n",
    "df_result_expr = df_parsed.select(\n",
    "    expr(\"json_data:age::int\").alias(\"Age\"),\n",
    "    expr(\"json_data:name::string\").alias(\"Name\"),\n",
    "    expr(\"json_data:city::string\").alias(\"City\")\n",
    ")\n",
    "\n",
    "display(df_result_expr)"
   ]
  },
  {
   "cell_type": "markdown",
   "metadata": {
    "application/vnd.databricks.v1+cell": {
     "cellMetadata": {},
     "inputWidgets": {},
     "nuid": "157013ee-31e6-4789-9427-30851165af60",
     "showTitle": false,
     "tableResultSettingsMap": {},
     "title": ""
    }
   },
   "source": [
    "#### SQL"
   ]
  },
  {
   "cell_type": "code",
   "execution_count": 0,
   "metadata": {
    "application/vnd.databricks.v1+cell": {
     "cellMetadata": {
      "byteLimit": 2048000,
      "implicitDf": true,
      "rowLimit": 10000
     },
     "inputWidgets": {},
     "nuid": "2a6be223-d00a-4e8e-a5e7-fedb7ad1f48f",
     "showTitle": true,
     "tableResultSettingsMap": {
      "0": {
       "dataGridStateBlob": "{\"version\":1,\"tableState\":{\"columnPinning\":{\"left\":[\"#row_number#\"],\"right\":[]},\"columnSizing\":{\"variant_data\":189},\"columnVisibility\":{}},\"settings\":{\"columns\":{}},\"syncTimestamp\":1756553455355}",
       "filterBlob": null,
       "queryPlanFiltersBlob": null,
       "tableResultIndex": 0
      }
     },
     "title": "1) JSON string"
    }
   },
   "outputs": [
    {
     "output_type": "display_data",
     "data": {
      "text/html": [
       "<style scoped>\n",
       "  .table-result-container {\n",
       "    max-height: 300px;\n",
       "    overflow: auto;\n",
       "  }\n",
       "  table, th, td {\n",
       "    border: 1px solid black;\n",
       "    border-collapse: collapse;\n",
       "  }\n",
       "  th, td {\n",
       "    padding: 5px;\n",
       "  }\n",
       "  th {\n",
       "    text-align: left;\n",
       "  }\n",
       "</style><div class='table-result-container'><table class='table-result'><thead style='background-color: white'><tr><th>variant_data</th></tr></thead><tbody><tr><td>{\"data\":[4,5,\"str\"],\"key\":123}</td></tr></tbody></table></div>"
      ]
     },
     "metadata": {
      "application/vnd.databricks.v1+output": {
       "addedWidgets": {},
       "aggData": [],
       "aggError": "",
       "aggOverflow": false,
       "aggSchema": [],
       "aggSeriesLimitReached": false,
       "aggType": "",
       "arguments": {},
       "columnCustomDisplayInfos": {},
       "data": [
        [
         "{\"data\":[4,5,\"str\"],\"key\":123}"
        ]
       ],
       "datasetInfos": [
        {
         "name": "_sqldf",
         "schema": {
          "fields": [
           {
            "metadata": {},
            "name": "variant_data",
            "nullable": false,
            "type": "variant"
           }
          ],
          "type": "struct"
         },
         "tableIdentifier": null,
         "typeStr": "pyspark.sql.connect.dataframe.DataFrame"
        }
       ],
       "dbfsResultPath": null,
       "isJsonSchema": true,
       "metadata": {
        "createTempViewForImplicitDf": true,
        "dataframeName": "_sqldf",
        "executionCount": 11
       },
       "overflow": false,
       "plotOptions": {
        "customPlotOptions": {},
        "displayType": "table",
        "pivotAggregation": null,
        "pivotColumns": null,
        "xColumns": null,
        "yColumns": null
       },
       "removedWidgets": [],
       "schema": [
        {
         "metadata": "{}",
         "name": "variant_data",
         "type": "\"variant\""
        }
       ],
       "type": "table"
      }
     },
     "output_type": "display_data"
    }
   ],
   "source": [
    "%sql\n",
    "-- Convert a simple JSON object to VARIANT\n",
    "SELECT parse_json('{\"key\": 123, \"data\": [4, 5, \"str\"]}') AS variant_data;"
   ]
  },
  {
   "cell_type": "code",
   "execution_count": 0,
   "metadata": {
    "application/vnd.databricks.v1+cell": {
     "cellMetadata": {
      "byteLimit": 2048000,
      "implicitDf": true,
      "rowLimit": 10000
     },
     "inputWidgets": {},
     "nuid": "81f5cf81-7bd9-47a8-9f9a-f49922d71504",
     "showTitle": true,
     "tableResultSettingsMap": {
      "0": {
       "dataGridStateBlob": "{\"version\":1,\"tableState\":{\"columnPinning\":{\"left\":[\"#row_number#\"],\"right\":[]},\"columnSizing\":{\"variant_array\":236},\"columnVisibility\":{}},\"settings\":{\"columns\":{}},\"syncTimestamp\":1756553491721}",
       "filterBlob": null,
       "queryPlanFiltersBlob": null,
       "tableResultIndex": 0
      }
     },
     "title": "2) Array"
    }
   },
   "outputs": [
    {
     "output_type": "display_data",
     "data": {
      "text/html": [
       "<style scoped>\n",
       "  .table-result-container {\n",
       "    max-height: 300px;\n",
       "    overflow: auto;\n",
       "  }\n",
       "  table, th, td {\n",
       "    border: 1px solid black;\n",
       "    border-collapse: collapse;\n",
       "  }\n",
       "  th, td {\n",
       "    padding: 5px;\n",
       "  }\n",
       "  th {\n",
       "    text-align: left;\n",
       "  }\n",
       "</style><div class='table-result-container'><table class='table-result'><thead style='background-color: white'><tr><th>variant_array</th></tr></thead><tbody><tr><td>[1,2,3,{\"nested_key\":\"nested_value\"}]</td></tr></tbody></table></div>"
      ]
     },
     "metadata": {
      "application/vnd.databricks.v1+output": {
       "addedWidgets": {},
       "aggData": [],
       "aggError": "",
       "aggOverflow": false,
       "aggSchema": [],
       "aggSeriesLimitReached": false,
       "aggType": "",
       "arguments": {},
       "columnCustomDisplayInfos": {},
       "data": [
        [
         "[1,2,3,{\"nested_key\":\"nested_value\"}]"
        ]
       ],
       "datasetInfos": [
        {
         "name": "_sqldf",
         "schema": {
          "fields": [
           {
            "metadata": {},
            "name": "variant_array",
            "nullable": false,
            "type": "variant"
           }
          ],
          "type": "struct"
         },
         "tableIdentifier": null,
         "typeStr": "pyspark.sql.connect.dataframe.DataFrame"
        }
       ],
       "dbfsResultPath": null,
       "isJsonSchema": true,
       "metadata": {
        "createTempViewForImplicitDf": true,
        "dataframeName": "_sqldf",
        "executionCount": 12
       },
       "overflow": false,
       "plotOptions": {
        "customPlotOptions": {},
        "displayType": "table",
        "pivotAggregation": null,
        "pivotColumns": null,
        "xColumns": null,
        "yColumns": null
       },
       "removedWidgets": [],
       "schema": [
        {
         "metadata": "{}",
         "name": "variant_array",
         "type": "\"variant\""
        }
       ],
       "type": "table"
      }
     },
     "output_type": "display_data"
    }
   ],
   "source": [
    "%sql\n",
    "-- Convert a JSON array to VARIANT\n",
    "SELECT parse_json('[1, 2, 3, {\"nested_key\": \"nested_value\"}]') AS variant_array;"
   ]
  },
  {
   "cell_type": "code",
   "execution_count": 0,
   "metadata": {
    "application/vnd.databricks.v1+cell": {
     "cellMetadata": {
      "byteLimit": 2048000,
      "implicitDf": true,
      "rowLimit": 10000
     },
     "inputWidgets": {},
     "nuid": "d65b07db-fb7d-4bfe-845d-19d7d9c42a0d",
     "showTitle": true,
     "tableResultSettingsMap": {},
     "title": "3) Scalar"
    }
   },
   "outputs": [
    {
     "output_type": "display_data",
     "data": {
      "text/html": [
       "<style scoped>\n",
       "  .table-result-container {\n",
       "    max-height: 300px;\n",
       "    overflow: auto;\n",
       "  }\n",
       "  table, th, td {\n",
       "    border: 1px solid black;\n",
       "    border-collapse: collapse;\n",
       "  }\n",
       "  th, td {\n",
       "    padding: 5px;\n",
       "  }\n",
       "  th {\n",
       "    text-align: left;\n",
       "  }\n",
       "</style><div class='table-result-container'><table class='table-result'><thead style='background-color: white'><tr><th>variant_string</th></tr></thead><tbody><tr><td>\"A simple string\"</td></tr></tbody></table></div>"
      ]
     },
     "metadata": {
      "application/vnd.databricks.v1+output": {
       "addedWidgets": {},
       "aggData": [],
       "aggError": "",
       "aggOverflow": false,
       "aggSchema": [],
       "aggSeriesLimitReached": false,
       "aggType": "",
       "arguments": {},
       "columnCustomDisplayInfos": {},
       "data": [
        [
         "\"A simple string\""
        ]
       ],
       "datasetInfos": [
        {
         "name": "_sqldf",
         "schema": {
          "fields": [
           {
            "metadata": {},
            "name": "variant_string",
            "nullable": false,
            "type": "variant"
           }
          ],
          "type": "struct"
         },
         "tableIdentifier": null,
         "typeStr": "pyspark.sql.connect.dataframe.DataFrame"
        }
       ],
       "dbfsResultPath": null,
       "isJsonSchema": true,
       "metadata": {
        "createTempViewForImplicitDf": true,
        "dataframeName": "_sqldf",
        "executionCount": 13
       },
       "overflow": false,
       "plotOptions": {
        "customPlotOptions": {},
        "displayType": "table",
        "pivotAggregation": null,
        "pivotColumns": null,
        "xColumns": null,
        "yColumns": null
       },
       "removedWidgets": [],
       "schema": [
        {
         "metadata": "{}",
         "name": "variant_string",
         "type": "\"variant\""
        }
       ],
       "type": "table"
      }
     },
     "output_type": "display_data"
    }
   ],
   "source": [
    "%sql\n",
    "-- Convert a simple scalar value to VARIANT\n",
    "SELECT parse_json('\"A simple string\"') AS variant_string;"
   ]
  },
  {
   "cell_type": "code",
   "execution_count": 0,
   "metadata": {
    "application/vnd.databricks.v1+cell": {
     "cellMetadata": {
      "byteLimit": 2048000,
      "implicitDf": true,
      "rowLimit": 10000
     },
     "inputWidgets": {},
     "nuid": "8cc9dead-c580-45ca-900d-82aecc75498c",
     "showTitle": true,
     "tableResultSettingsMap": {},
     "title": "4) integer"
    }
   },
   "outputs": [
    {
     "output_type": "display_data",
     "data": {
      "text/html": [
       "<style scoped>\n",
       "  .table-result-container {\n",
       "    max-height: 300px;\n",
       "    overflow: auto;\n",
       "  }\n",
       "  table, th, td {\n",
       "    border: 1px solid black;\n",
       "    border-collapse: collapse;\n",
       "  }\n",
       "  th, td {\n",
       "    padding: 5px;\n",
       "  }\n",
       "  th {\n",
       "    text-align: left;\n",
       "  }\n",
       "</style><div class='table-result-container'><table class='table-result'><thead style='background-color: white'><tr><th>variant_number</th></tr></thead><tbody><tr><td>12345</td></tr></tbody></table></div>"
      ]
     },
     "metadata": {
      "application/vnd.databricks.v1+output": {
       "addedWidgets": {},
       "aggData": [],
       "aggError": "",
       "aggOverflow": false,
       "aggSchema": [],
       "aggSeriesLimitReached": false,
       "aggType": "",
       "arguments": {},
       "columnCustomDisplayInfos": {},
       "data": [
        [
         "12345"
        ]
       ],
       "datasetInfos": [
        {
         "name": "_sqldf",
         "schema": {
          "fields": [
           {
            "metadata": {},
            "name": "variant_number",
            "nullable": false,
            "type": "variant"
           }
          ],
          "type": "struct"
         },
         "tableIdentifier": null,
         "typeStr": "pyspark.sql.connect.dataframe.DataFrame"
        }
       ],
       "dbfsResultPath": null,
       "isJsonSchema": true,
       "metadata": {
        "createTempViewForImplicitDf": true,
        "dataframeName": "_sqldf",
        "executionCount": 14
       },
       "overflow": false,
       "plotOptions": {
        "customPlotOptions": {},
        "displayType": "table",
        "pivotAggregation": null,
        "pivotColumns": null,
        "xColumns": null,
        "yColumns": null
       },
       "removedWidgets": [],
       "schema": [
        {
         "metadata": "{}",
         "name": "variant_number",
         "type": "\"variant\""
        }
       ],
       "type": "table"
      }
     },
     "output_type": "display_data"
    }
   ],
   "source": [
    "%sql\n",
    "-- Convert a numeric value to VARIANT\n",
    "SELECT parse_json('12345') AS variant_number;"
   ]
  },
  {
   "cell_type": "code",
   "execution_count": 0,
   "metadata": {
    "application/vnd.databricks.v1+cell": {
     "cellMetadata": {
      "byteLimit": 2048000,
      "implicitDf": true,
      "rowLimit": 10000
     },
     "inputWidgets": {},
     "nuid": "adc1bf21-2f10-4512-813e-f06a0b07836b",
     "showTitle": true,
     "tableResultSettingsMap": {},
     "title": "5) Null's"
    }
   },
   "outputs": [
    {
     "output_type": "display_data",
     "data": {
      "text/html": [
       "<style scoped>\n",
       "  .table-result-container {\n",
       "    max-height: 300px;\n",
       "    overflow: auto;\n",
       "  }\n",
       "  table, th, td {\n",
       "    border: 1px solid black;\n",
       "    border-collapse: collapse;\n",
       "  }\n",
       "  th, td {\n",
       "    padding: 5px;\n",
       "  }\n",
       "  th {\n",
       "    text-align: left;\n",
       "  }\n",
       "</style><div class='table-result-container'><table class='table-result'><thead style='background-color: white'><tr><th>variant_null</th></tr></thead><tbody><tr><td>null</td></tr></tbody></table></div>"
      ]
     },
     "metadata": {
      "application/vnd.databricks.v1+output": {
       "addedWidgets": {},
       "aggData": [],
       "aggError": "",
       "aggOverflow": false,
       "aggSchema": [],
       "aggSeriesLimitReached": false,
       "aggType": "",
       "arguments": {},
       "columnCustomDisplayInfos": {},
       "data": [
        [
         null
        ]
       ],
       "datasetInfos": [
        {
         "name": "_sqldf",
         "schema": {
          "fields": [
           {
            "metadata": {},
            "name": "variant_null",
            "nullable": true,
            "type": "variant"
           }
          ],
          "type": "struct"
         },
         "tableIdentifier": null,
         "typeStr": "pyspark.sql.connect.dataframe.DataFrame"
        }
       ],
       "dbfsResultPath": null,
       "isJsonSchema": true,
       "metadata": {
        "createTempViewForImplicitDf": true,
        "dataframeName": "_sqldf",
        "executionCount": 15
       },
       "overflow": false,
       "plotOptions": {
        "customPlotOptions": {},
        "displayType": "table",
        "pivotAggregation": null,
        "pivotColumns": null,
        "xColumns": null,
        "yColumns": null
       },
       "removedWidgets": [],
       "schema": [
        {
         "metadata": "{}",
         "name": "variant_null",
         "type": "\"variant\""
        }
       ],
       "type": "table"
      }
     },
     "output_type": "display_data"
    }
   ],
   "source": [
    "%sql\n",
    "-- Handling null values\n",
    "SELECT parse_json(null) AS variant_null;"
   ]
  }
 ],
 "metadata": {
  "application/vnd.databricks.v1+notebook": {
   "computePreferences": {
    "hardware": {
     "accelerator": null,
     "gpuPoolId": null,
     "memory": null
    }
   },
   "dashboards": [],
   "environmentMetadata": {
    "base_environment": "",
    "environment_version": "3"
   },
   "inputWidgetPreferences": null,
   "language": "python",
   "notebookMetadata": {
    "mostRecentlyExecutedCommandWithImplicitDF": {
     "commandId": 6694585438909309,
     "dataframes": [
      "_sqldf"
     ]
    },
    "pythonIndentUnit": 4
   },
   "notebookName": "49_parse_json() | How to convert JSON string into a VariantType",
   "widgets": {}
  },
  "language_info": {
   "name": "python"
  }
 },
 "nbformat": 4,
 "nbformat_minor": 0
}