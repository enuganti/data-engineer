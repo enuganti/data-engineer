{
 "cells": [
  {
   "cell_type": "markdown",
   "metadata": {
    "application/vnd.databricks.v1+cell": {
     "cellMetadata": {
      "byteLimit": 2048000,
      "rowLimit": 10000
     },
     "inputWidgets": {},
     "nuid": "51427e7a-e5d8-417e-9c37-bf9759089168",
     "showTitle": false,
     "title": ""
    }
   },
   "source": [
    "#### **posexplode**\n",
    "- It is used in the PySpark data model to explode an **array or map** related **columns to rows**. \n",
    "- It creates a **row for each element** in the array and creates two columns **pos** to hold the **position of the array element** and the **col** to hold the **actual array value**.\n",
    "- When the input column is **map**, posexplode function creates 3 columns **pos** to hold the **position of the map element**, **key and value** columns.\n",
    "- If array is **NULL** then that row is **Ignored / Eliminated**."
   ]
  },
  {
   "cell_type": "markdown",
   "metadata": {
    "application/vnd.databricks.v1+cell": {
     "cellMetadata": {},
     "inputWidgets": {},
     "nuid": "ada97d5d-df9a-4292-ae74-84310e1bba3d",
     "showTitle": false,
     "title": ""
    }
   },
   "source": [
    "- Returns a **new row** for **each element** in the given **array**.\n",
    "- when **array or map** is passed, creates **positional column** for each element."
   ]
  },
  {
   "cell_type": "code",
   "execution_count": 0,
   "metadata": {
    "application/vnd.databricks.v1+cell": {
     "cellMetadata": {
      "byteLimit": 2048000,
      "rowLimit": 10000
     },
     "inputWidgets": {},
     "nuid": "72bbe41a-1969-48da-825a-e9d8f3f8664d",
     "showTitle": false,
     "title": ""
    }
   },
   "outputs": [],
   "source": [
    "from pyspark.sql.functions import col, explode, posexplode, split\n",
    "import pyspark.sql.functions as f"
   ]
  },
  {
   "cell_type": "markdown",
   "metadata": {
    "application/vnd.databricks.v1+cell": {
     "cellMetadata": {
      "byteLimit": 2048000,
      "rowLimit": 10000
     },
     "inputWidgets": {},
     "nuid": "21d0489a-615e-49c1-b0be-2eb0fb0d8ea0",
     "showTitle": false,
     "title": ""
    }
   },
   "source": [
    "**Array Type**"
   ]
  },
  {
   "cell_type": "code",
   "execution_count": 0,
   "metadata": {
    "application/vnd.databricks.v1+cell": {
     "cellMetadata": {
      "byteLimit": 2048000,
      "rowLimit": 10000
     },
     "inputWidgets": {},
     "nuid": "84373054-8024-40c5-a195-d20f9e0fd2e7",
     "showTitle": false,
     "title": ""
    }
   },
   "outputs": [
    {
     "output_type": "stream",
     "name": "stdout",
     "output_type": "stream",
     "text": [
      "+---+--------+----------------------------+\n|id |Name    |skills                      |\n+---+--------+----------------------------+\n|1  |Suresh  |[.net, Python, Spark, Azure]|\n|2  |Ramya   |[java, PySpark, AWS]        |\n|3  |Rakesh  |[ADF, SQL, null, GCC]       |\n|4  |Apurba  |[C, SAP, null]              |\n|5  |Pranitha|[COBOL, DEVOPS]             |\n|6  |Sowmya  |[ABAP, null]                |\n|7  |Anand   |null                        |\n|8  |Sourabh |[]                          |\n+---+--------+----------------------------+\n\n"
     ]
    },
    {
     "output_type": "display_data",
     "data": {
      "text/html": [
       "<style scoped>\n",
       "  .table-result-container {\n",
       "    max-height: 300px;\n",
       "    overflow: auto;\n",
       "  }\n",
       "  table, th, td {\n",
       "    border: 1px solid black;\n",
       "    border-collapse: collapse;\n",
       "  }\n",
       "  th, td {\n",
       "    padding: 5px;\n",
       "  }\n",
       "  th {\n",
       "    text-align: left;\n",
       "  }\n",
       "</style><div class='table-result-container'><table class='table-result'><thead style='background-color: white'><tr><th>id</th><th>Name</th><th>skills</th></tr></thead><tbody><tr><td>1</td><td>Suresh</td><td>List(.net, Python, Spark, Azure)</td></tr><tr><td>2</td><td>Ramya</td><td>List(java, PySpark, AWS)</td></tr><tr><td>3</td><td>Rakesh</td><td>List(ADF, SQL, null, GCC)</td></tr><tr><td>4</td><td>Apurba</td><td>List(C, SAP, null)</td></tr><tr><td>5</td><td>Pranitha</td><td>List(COBOL, DEVOPS)</td></tr><tr><td>6</td><td>Sowmya</td><td>List(ABAP, null)</td></tr><tr><td>7</td><td>Anand</td><td>null</td></tr><tr><td>8</td><td>Sourabh</td><td>List()</td></tr></tbody></table></div>"
      ]
     },
     "metadata": {
      "application/vnd.databricks.v1+output": {
       "addedWidgets": {},
       "aggData": [],
       "aggError": "",
       "aggOverflow": false,
       "aggSchema": [],
       "aggSeriesLimitReached": false,
       "aggType": "",
       "arguments": {},
       "columnCustomDisplayInfos": {},
       "data": [
        [
         1,
         "Suresh",
         [
          ".net",
          "Python",
          "Spark",
          "Azure"
         ]
        ],
        [
         2,
         "Ramya",
         [
          "java",
          "PySpark",
          "AWS"
         ]
        ],
        [
         3,
         "Rakesh",
         [
          "ADF",
          "SQL",
          null,
          "GCC"
         ]
        ],
        [
         4,
         "Apurba",
         [
          "C",
          "SAP",
          null
         ]
        ],
        [
         5,
         "Pranitha",
         [
          "COBOL",
          "DEVOPS"
         ]
        ],
        [
         6,
         "Sowmya",
         [
          "ABAP",
          null
         ]
        ],
        [
         7,
         "Anand",
         null
        ],
        [
         8,
         "Sourabh",
         []
        ]
       ],
       "datasetInfos": [],
       "dbfsResultPath": null,
       "isJsonSchema": true,
       "metadata": {},
       "overflow": false,
       "plotOptions": {
        "customPlotOptions": {},
        "displayType": "table",
        "pivotAggregation": null,
        "pivotColumns": null,
        "xColumns": null,
        "yColumns": null
       },
       "removedWidgets": [],
       "schema": [
        {
         "metadata": "{}",
         "name": "id",
         "type": "\"long\""
        },
        {
         "metadata": "{}",
         "name": "Name",
         "type": "\"string\""
        },
        {
         "metadata": "{}",
         "name": "skills",
         "type": "{\"type\":\"array\",\"elementType\":\"string\",\"containsNull\":true}"
        }
       ],
       "type": "table"
      }
     },
     "output_type": "display_data"
    },
    {
     "output_type": "stream",
     "name": "stdout",
     "output_type": "stream",
     "text": [
      "root\n |-- id: long (nullable = true)\n |-- Name: string (nullable = true)\n |-- skills: array (nullable = true)\n |    |-- element: string (containsNull = true)\n\nNumber of Rows: 8\n"
     ]
    }
   ],
   "source": [
    "data = [(1, \"Suresh\", [\".net\", \"Python\", \"Spark\", \"Azure\"]),\n",
    "        (2, \"Ramya\", [\"java\", \"PySpark\", \"AWS\"]),\n",
    "        (3, \"Rakesh\", [\"ADF\", \"SQL\", None, \"GCC\"]),\n",
    "        (4, \"Apurba\", [\"C\", \"SAP\", None]),\n",
    "        (5, \"Pranitha\", [\"COBOL\", \"DEVOPS\"]),\n",
    "        (6, \"Sowmya\", [\"ABAP\", None]),\n",
    "        (7, \"Anand\", None),\n",
    "        (8, \"Sourabh\", [])]\n",
    "schema = [\"id\", \"Name\", \"skills\"]\n",
    "\n",
    "df = spark.createDataFrame(data, schema)\n",
    "df.show(truncate=False)\n",
    "display(df)\n",
    "df.printSchema()\n",
    "print(\"Number of Rows:\", df.count())"
   ]
  },
  {
   "cell_type": "code",
   "execution_count": 0,
   "metadata": {
    "application/vnd.databricks.v1+cell": {
     "cellMetadata": {
      "byteLimit": 2048000,
      "rowLimit": 10000
     },
     "inputWidgets": {},
     "nuid": "4613a111-54c3-4a11-83f9-21e12c144de5",
     "showTitle": false,
     "title": ""
    }
   },
   "outputs": [
    {
     "output_type": "display_data",
     "data": {
      "text/html": [
       "<style scoped>\n",
       "  .table-result-container {\n",
       "    max-height: 300px;\n",
       "    overflow: auto;\n",
       "  }\n",
       "  table, th, td {\n",
       "    border: 1px solid black;\n",
       "    border-collapse: collapse;\n",
       "  }\n",
       "  th, td {\n",
       "    padding: 5px;\n",
       "  }\n",
       "  th {\n",
       "    text-align: left;\n",
       "  }\n",
       "</style><div class='table-result-container'><table class='table-result'><thead style='background-color: white'><tr><th>id</th><th>Name</th><th>pos</th><th>col</th></tr></thead><tbody><tr><td>1</td><td>Suresh</td><td>0</td><td>.net</td></tr><tr><td>1</td><td>Suresh</td><td>1</td><td>Python</td></tr><tr><td>1</td><td>Suresh</td><td>2</td><td>Spark</td></tr><tr><td>1</td><td>Suresh</td><td>3</td><td>Azure</td></tr><tr><td>2</td><td>Ramya</td><td>0</td><td>java</td></tr><tr><td>2</td><td>Ramya</td><td>1</td><td>PySpark</td></tr><tr><td>2</td><td>Ramya</td><td>2</td><td>AWS</td></tr><tr><td>3</td><td>Rakesh</td><td>0</td><td>ADF</td></tr><tr><td>3</td><td>Rakesh</td><td>1</td><td>SQL</td></tr><tr><td>3</td><td>Rakesh</td><td>2</td><td>null</td></tr><tr><td>3</td><td>Rakesh</td><td>3</td><td>GCC</td></tr><tr><td>4</td><td>Apurba</td><td>0</td><td>C</td></tr><tr><td>4</td><td>Apurba</td><td>1</td><td>SAP</td></tr><tr><td>4</td><td>Apurba</td><td>2</td><td>null</td></tr><tr><td>5</td><td>Pranitha</td><td>0</td><td>COBOL</td></tr><tr><td>5</td><td>Pranitha</td><td>1</td><td>DEVOPS</td></tr><tr><td>6</td><td>Sowmya</td><td>0</td><td>ABAP</td></tr><tr><td>6</td><td>Sowmya</td><td>1</td><td>null</td></tr></tbody></table></div>"
      ]
     },
     "metadata": {
      "application/vnd.databricks.v1+output": {
       "addedWidgets": {},
       "aggData": [],
       "aggError": "",
       "aggOverflow": false,
       "aggSchema": [],
       "aggSeriesLimitReached": false,
       "aggType": "",
       "arguments": {},
       "columnCustomDisplayInfos": {},
       "data": [
        [
         1,
         "Suresh",
         0,
         ".net"
        ],
        [
         1,
         "Suresh",
         1,
         "Python"
        ],
        [
         1,
         "Suresh",
         2,
         "Spark"
        ],
        [
         1,
         "Suresh",
         3,
         "Azure"
        ],
        [
         2,
         "Ramya",
         0,
         "java"
        ],
        [
         2,
         "Ramya",
         1,
         "PySpark"
        ],
        [
         2,
         "Ramya",
         2,
         "AWS"
        ],
        [
         3,
         "Rakesh",
         0,
         "ADF"
        ],
        [
         3,
         "Rakesh",
         1,
         "SQL"
        ],
        [
         3,
         "Rakesh",
         2,
         null
        ],
        [
         3,
         "Rakesh",
         3,
         "GCC"
        ],
        [
         4,
         "Apurba",
         0,
         "C"
        ],
        [
         4,
         "Apurba",
         1,
         "SAP"
        ],
        [
         4,
         "Apurba",
         2,
         null
        ],
        [
         5,
         "Pranitha",
         0,
         "COBOL"
        ],
        [
         5,
         "Pranitha",
         1,
         "DEVOPS"
        ],
        [
         6,
         "Sowmya",
         0,
         "ABAP"
        ],
        [
         6,
         "Sowmya",
         1,
         null
        ]
       ],
       "datasetInfos": [],
       "dbfsResultPath": null,
       "isJsonSchema": true,
       "metadata": {},
       "overflow": false,
       "plotOptions": {
        "customPlotOptions": {},
        "displayType": "table",
        "pivotAggregation": null,
        "pivotColumns": null,
        "xColumns": null,
        "yColumns": null
       },
       "removedWidgets": [],
       "schema": [
        {
         "metadata": "{}",
         "name": "id",
         "type": "\"long\""
        },
        {
         "metadata": "{}",
         "name": "Name",
         "type": "\"string\""
        },
        {
         "metadata": "{}",
         "name": "pos",
         "type": "\"integer\""
        },
        {
         "metadata": "{}",
         "name": "col",
         "type": "\"string\""
        }
       ],
       "type": "table"
      }
     },
     "output_type": "display_data"
    }
   ],
   "source": [
    "display(df.select(df.id, df.Name, posexplode(df.skills)))"
   ]
  },
  {
   "cell_type": "markdown",
   "metadata": {
    "application/vnd.databricks.v1+cell": {
     "cellMetadata": {
      "byteLimit": 2048000,
      "rowLimit": 10000
     },
     "inputWidgets": {},
     "nuid": "414990e0-8c4f-48ca-87d1-872502e35d11",
     "showTitle": false,
     "title": ""
    }
   },
   "source": [
    "**Map Type**"
   ]
  },
  {
   "cell_type": "code",
   "execution_count": 0,
   "metadata": {
    "application/vnd.databricks.v1+cell": {
     "cellMetadata": {
      "byteLimit": 2048000,
      "rowLimit": 10000
     },
     "inputWidgets": {},
     "nuid": "432430ac-643c-41ef-9baa-319d9f55af0f",
     "showTitle": false,
     "title": ""
    }
   },
   "outputs": [
    {
     "output_type": "display_data",
     "data": {
      "text/html": [
       "<style scoped>\n",
       "  .table-result-container {\n",
       "    max-height: 300px;\n",
       "    overflow: auto;\n",
       "  }\n",
       "  table, th, td {\n",
       "    border: 1px solid black;\n",
       "    border-collapse: collapse;\n",
       "  }\n",
       "  th, td {\n",
       "    padding: 5px;\n",
       "  }\n",
       "  th {\n",
       "    text-align: left;\n",
       "  }\n",
       "</style><div class='table-result-container'><table class='table-result'><thead style='background-color: white'><tr><th>name</th><th>brand</th></tr></thead><tbody><tr><td>Raja</td><td>Map(Refrigerator -> Samsung, AC -> Voltas, TV -> LG, Oven -> Philips)</td></tr><tr><td>Raghav</td><td>Map(AC -> Samsung, Washing machine -> LG)</td></tr><tr><td>Ram</td><td>Map(TV -> , Grinder -> Preeti)</td></tr><tr><td>Ramesh</td><td>Map(Refrigerator -> LG, TV -> Croma)</td></tr><tr><td>Rajesh</td><td>null</td></tr></tbody></table></div>"
      ]
     },
     "metadata": {
      "application/vnd.databricks.v1+output": {
       "addedWidgets": {},
       "aggData": [],
       "aggError": "",
       "aggOverflow": false,
       "aggSchema": [],
       "aggSeriesLimitReached": false,
       "aggType": "",
       "arguments": {},
       "columnCustomDisplayInfos": {},
       "data": [
        [
         "Raja",
         {
          "AC": "Voltas",
          "Oven": "Philips",
          "Refrigerator": "Samsung",
          "TV": "LG"
         }
        ],
        [
         "Raghav",
         {
          "AC": "Samsung",
          "Washing machine": "LG"
         }
        ],
        [
         "Ram",
         {
          "Grinder": "Preeti",
          "TV": ""
         }
        ],
        [
         "Ramesh",
         {
          "Refrigerator": "LG",
          "TV": "Croma"
         }
        ],
        [
         "Rajesh",
         null
        ]
       ],
       "datasetInfos": [],
       "dbfsResultPath": null,
       "isJsonSchema": true,
       "metadata": {},
       "overflow": false,
       "plotOptions": {
        "customPlotOptions": {},
        "displayType": "table",
        "pivotAggregation": null,
        "pivotColumns": null,
        "xColumns": null,
        "yColumns": null
       },
       "removedWidgets": [],
       "schema": [
        {
         "metadata": "{}",
         "name": "name",
         "type": "\"string\""
        },
        {
         "metadata": "{}",
         "name": "brand",
         "type": "{\"type\":\"map\",\"keyType\":\"string\",\"valueType\":\"string\",\"valueContainsNull\":true}"
        }
       ],
       "type": "table"
      }
     },
     "output_type": "display_data"
    },
    {
     "output_type": "stream",
     "name": "stdout",
     "output_type": "stream",
     "text": [
      "+------+------------------------------------------------------------------+\n|name  |brand                                                             |\n+------+------------------------------------------------------------------+\n|Raja  |{Refrigerator -> Samsung, AC -> Voltas, TV -> LG, Oven -> Philips}|\n|Raghav|{AC -> Samsung, Washing machine -> LG}                            |\n|Ram   |{TV -> , Grinder -> Preeti}                                       |\n|Ramesh|{Refrigerator -> LG, TV -> Croma}                                 |\n|Rajesh|null                                                              |\n+------+------------------------------------------------------------------+\n\nroot\n |-- name: string (nullable = true)\n |-- brand: map (nullable = true)\n |    |-- key: string\n |    |-- value: string (valueContainsNull = true)\n\nNumber of Rows: 5\n"
     ]
    }
   ],
   "source": [
    "data1 = [('Raja', {'TV':'LG', 'Refrigerator':'Samsung', 'Oven':'Philips', 'AC':'Voltas'}),\n",
    "        ('Raghav', {'AC':'Samsung', 'Washing machine': 'LG'}),\n",
    "        ('Ram', {'Grinder':'Preeti', 'TV':\"\"}),\n",
    "        ('Ramesh', {'Refrigerator':'LG', 'TV':'Croma'}),\n",
    "        ('Rajesh', None)]\n",
    "\n",
    "schema1 = ['name', 'brand']\n",
    "\n",
    "df1 = spark.createDataFrame(data=data1, schema=schema1)\n",
    "display(df1)\n",
    "df1.show(truncate=False)\n",
    "df1.printSchema()\n",
    "print(\"Number of Rows:\", df1.count())"
   ]
  },
  {
   "cell_type": "code",
   "execution_count": 0,
   "metadata": {
    "application/vnd.databricks.v1+cell": {
     "cellMetadata": {
      "byteLimit": 2048000,
      "rowLimit": 10000
     },
     "inputWidgets": {},
     "nuid": "da1d3194-8fea-4f82-a837-003eec6e7671",
     "showTitle": false,
     "title": ""
    }
   },
   "outputs": [
    {
     "output_type": "display_data",
     "data": {
      "text/html": [
       "<style scoped>\n",
       "  .table-result-container {\n",
       "    max-height: 300px;\n",
       "    overflow: auto;\n",
       "  }\n",
       "  table, th, td {\n",
       "    border: 1px solid black;\n",
       "    border-collapse: collapse;\n",
       "  }\n",
       "  th, td {\n",
       "    padding: 5px;\n",
       "  }\n",
       "  th {\n",
       "    text-align: left;\n",
       "  }\n",
       "</style><div class='table-result-container'><table class='table-result'><thead style='background-color: white'><tr><th>name</th><th>brand</th><th>pos</th><th>key</th><th>value</th></tr></thead><tbody><tr><td>Raja</td><td>Map(Refrigerator -> Samsung, AC -> Voltas, TV -> LG, Oven -> Philips)</td><td>0</td><td>Refrigerator</td><td>Samsung</td></tr><tr><td>Raja</td><td>Map(Refrigerator -> Samsung, AC -> Voltas, TV -> LG, Oven -> Philips)</td><td>1</td><td>AC</td><td>Voltas</td></tr><tr><td>Raja</td><td>Map(Refrigerator -> Samsung, AC -> Voltas, TV -> LG, Oven -> Philips)</td><td>2</td><td>TV</td><td>LG</td></tr><tr><td>Raja</td><td>Map(Refrigerator -> Samsung, AC -> Voltas, TV -> LG, Oven -> Philips)</td><td>3</td><td>Oven</td><td>Philips</td></tr><tr><td>Raghav</td><td>Map(AC -> Samsung, Washing machine -> LG)</td><td>0</td><td>AC</td><td>Samsung</td></tr><tr><td>Raghav</td><td>Map(AC -> Samsung, Washing machine -> LG)</td><td>1</td><td>Washing machine</td><td>LG</td></tr><tr><td>Ram</td><td>Map(TV -> , Grinder -> Preeti)</td><td>0</td><td>TV</td><td></td></tr><tr><td>Ram</td><td>Map(TV -> , Grinder -> Preeti)</td><td>1</td><td>Grinder</td><td>Preeti</td></tr><tr><td>Ramesh</td><td>Map(Refrigerator -> LG, TV -> Croma)</td><td>0</td><td>Refrigerator</td><td>LG</td></tr><tr><td>Ramesh</td><td>Map(Refrigerator -> LG, TV -> Croma)</td><td>1</td><td>TV</td><td>Croma</td></tr></tbody></table></div>"
      ]
     },
     "metadata": {
      "application/vnd.databricks.v1+output": {
       "addedWidgets": {},
       "aggData": [],
       "aggError": "",
       "aggOverflow": false,
       "aggSchema": [],
       "aggSeriesLimitReached": false,
       "aggType": "",
       "arguments": {},
       "columnCustomDisplayInfos": {},
       "data": [
        [
         "Raja",
         {
          "AC": "Voltas",
          "Oven": "Philips",
          "Refrigerator": "Samsung",
          "TV": "LG"
         },
         0,
         "Refrigerator",
         "Samsung"
        ],
        [
         "Raja",
         {
          "AC": "Voltas",
          "Oven": "Philips",
          "Refrigerator": "Samsung",
          "TV": "LG"
         },
         1,
         "AC",
         "Voltas"
        ],
        [
         "Raja",
         {
          "AC": "Voltas",
          "Oven": "Philips",
          "Refrigerator": "Samsung",
          "TV": "LG"
         },
         2,
         "TV",
         "LG"
        ],
        [
         "Raja",
         {
          "AC": "Voltas",
          "Oven": "Philips",
          "Refrigerator": "Samsung",
          "TV": "LG"
         },
         3,
         "Oven",
         "Philips"
        ],
        [
         "Raghav",
         {
          "AC": "Samsung",
          "Washing machine": "LG"
         },
         0,
         "AC",
         "Samsung"
        ],
        [
         "Raghav",
         {
          "AC": "Samsung",
          "Washing machine": "LG"
         },
         1,
         "Washing machine",
         "LG"
        ],
        [
         "Ram",
         {
          "Grinder": "Preeti",
          "TV": ""
         },
         0,
         "TV",
         ""
        ],
        [
         "Ram",
         {
          "Grinder": "Preeti",
          "TV": ""
         },
         1,
         "Grinder",
         "Preeti"
        ],
        [
         "Ramesh",
         {
          "Refrigerator": "LG",
          "TV": "Croma"
         },
         0,
         "Refrigerator",
         "LG"
        ],
        [
         "Ramesh",
         {
          "Refrigerator": "LG",
          "TV": "Croma"
         },
         1,
         "TV",
         "Croma"
        ]
       ],
       "datasetInfos": [],
       "dbfsResultPath": null,
       "isJsonSchema": true,
       "metadata": {},
       "overflow": false,
       "plotOptions": {
        "customPlotOptions": {},
        "displayType": "table",
        "pivotAggregation": null,
        "pivotColumns": null,
        "xColumns": null,
        "yColumns": null
       },
       "removedWidgets": [],
       "schema": [
        {
         "metadata": "{}",
         "name": "name",
         "type": "\"string\""
        },
        {
         "metadata": "{}",
         "name": "brand",
         "type": "{\"type\":\"map\",\"keyType\":\"string\",\"valueType\":\"string\",\"valueContainsNull\":true}"
        },
        {
         "metadata": "{}",
         "name": "pos",
         "type": "\"integer\""
        },
        {
         "metadata": "{}",
         "name": "key",
         "type": "\"string\""
        },
        {
         "metadata": "{}",
         "name": "value",
         "type": "\"string\""
        }
       ],
       "type": "table"
      }
     },
     "output_type": "display_data"
    }
   ],
   "source": [
    "display(df1.select(df1.name, df1.brand, posexplode(df1.brand)))"
   ]
  },
  {
   "cell_type": "markdown",
   "metadata": {
    "application/vnd.databricks.v1+cell": {
     "cellMetadata": {
      "byteLimit": 2048000,
      "rowLimit": 10000
     },
     "inputWidgets": {},
     "nuid": "2781b275-dff5-41c4-ac34-aec52c49f218",
     "showTitle": false,
     "title": ""
    }
   },
   "source": [
    "**.txt**"
   ]
  },
  {
   "cell_type": "code",
   "execution_count": 0,
   "metadata": {
    "application/vnd.databricks.v1+cell": {
     "cellMetadata": {
      "byteLimit": 2048000,
      "rowLimit": 10000
     },
     "inputWidgets": {},
     "nuid": "37e0c800-ef64-4130-897e-4a4f65c2c8d8",
     "showTitle": false,
     "title": ""
    }
   },
   "outputs": [
    {
     "output_type": "display_data",
     "data": {
      "text/html": [
       "<style scoped>\n",
       "  .table-result-container {\n",
       "    max-height: 300px;\n",
       "    overflow: auto;\n",
       "  }\n",
       "  table, th, td {\n",
       "    border: 1px solid black;\n",
       "    border-collapse: collapse;\n",
       "  }\n",
       "  th, td {\n",
       "    padding: 5px;\n",
       "  }\n",
       "  th {\n",
       "    text-align: left;\n",
       "  }\n",
       "</style><div class='table-result-container'><table class='table-result'><thead style='background-color: white'><tr><th>S.No</th><th>EmpName</th><th>Dept</th><th>Technology</th><th>Age</th><th>Year</th></tr></thead><tbody><tr><td>1</td><td>Sundar</td><td>Azure</td><td>ADB, ADF, PySpark, SQL</td><td>30</td><td>2022</td></tr><tr><td>2</td><td>Sheetal</td><td>Azure</td><td>None, ADF, PySpark, SQL</td><td>35</td><td>2023</td></tr><tr><td>3</td><td>Amar</td><td>Azure</td><td>ADB, None, PySpark</td><td>40</td><td>2021</td></tr><tr><td>4</td><td>Rakesh</td><td>Azure</td><td>ADB, ADF</td><td>33</td><td>2023</td></tr><tr><td>5</td><td>Royal</td><td>Azure</td><td>ADB, None</td><td>35</td><td>2022</td></tr><tr><td>6</td><td>Swapnil</td><td>AWS</td><td>null</td><td>38</td><td>2002</td></tr></tbody></table></div>"
      ]
     },
     "metadata": {
      "application/vnd.databricks.v1+output": {
       "addedWidgets": {},
       "aggData": [],
       "aggError": "",
       "aggOverflow": false,
       "aggSchema": [],
       "aggSeriesLimitReached": false,
       "aggType": "",
       "arguments": {},
       "columnCustomDisplayInfos": {},
       "data": [
        [
         1,
         "Sundar",
         "Azure",
         "ADB, ADF, PySpark, SQL",
         30,
         2022
        ],
        [
         2,
         "Sheetal",
         "Azure",
         "None, ADF, PySpark, SQL",
         35,
         2023
        ],
        [
         3,
         "Amar",
         "Azure",
         "ADB, None, PySpark",
         40,
         2021
        ],
        [
         4,
         "Rakesh",
         "Azure",
         "ADB, ADF",
         33,
         2023
        ],
        [
         5,
         "Royal",
         "Azure",
         "ADB, None",
         35,
         2022
        ],
        [
         6,
         "Swapnil",
         "AWS",
         null,
         38,
         2002
        ]
       ],
       "datasetInfos": [],
       "dbfsResultPath": null,
       "isJsonSchema": true,
       "metadata": {},
       "overflow": false,
       "plotOptions": {
        "customPlotOptions": {},
        "displayType": "table",
        "pivotAggregation": null,
        "pivotColumns": null,
        "xColumns": null,
        "yColumns": null
       },
       "removedWidgets": [],
       "schema": [
        {
         "metadata": "{}",
         "name": "S.No",
         "type": "\"integer\""
        },
        {
         "metadata": "{}",
         "name": "EmpName",
         "type": "\"string\""
        },
        {
         "metadata": "{}",
         "name": "Dept",
         "type": "\"string\""
        },
        {
         "metadata": "{}",
         "name": "Technology",
         "type": "\"string\""
        },
        {
         "metadata": "{}",
         "name": "Age",
         "type": "\"integer\""
        },
        {
         "metadata": "{}",
         "name": "Year",
         "type": "\"integer\""
        }
       ],
       "type": "table"
      }
     },
     "output_type": "display_data"
    }
   ],
   "source": [
    "df2 = spark.read.csv(\"/FileStore/tables/posexplode.txt\", sep=\"|\", header=True, inferSchema=True)\n",
    "display(df2)"
   ]
  },
  {
   "cell_type": "code",
   "execution_count": 0,
   "metadata": {
    "application/vnd.databricks.v1+cell": {
     "cellMetadata": {
      "byteLimit": 2048000,
      "rowLimit": 10000
     },
     "inputWidgets": {},
     "nuid": "500b9cd9-7d8c-48a9-8c68-5f34d75c5b81",
     "showTitle": false,
     "title": ""
    }
   },
   "outputs": [
    {
     "output_type": "display_data",
     "data": {
      "text/html": [
       "<style scoped>\n",
       "  .table-result-container {\n",
       "    max-height: 300px;\n",
       "    overflow: auto;\n",
       "  }\n",
       "  table, th, td {\n",
       "    border: 1px solid black;\n",
       "    border-collapse: collapse;\n",
       "  }\n",
       "  th, td {\n",
       "    padding: 5px;\n",
       "  }\n",
       "  th {\n",
       "    text-align: left;\n",
       "  }\n",
       "</style><div class='table-result-container'><table class='table-result'><thead style='background-color: white'><tr><th>EmpName</th><th>Dept</th><th>Technology</th><th>New_Technology</th></tr></thead><tbody><tr><td>Sundar</td><td>Azure</td><td>ADB, ADF, PySpark, SQL</td><td>List(ADB,  ADF,  PySpark,  SQL)</td></tr><tr><td>Sheetal</td><td>Azure</td><td>None, ADF, PySpark, SQL</td><td>List(None,  ADF,  PySpark,  SQL)</td></tr><tr><td>Amar</td><td>Azure</td><td>ADB, None, PySpark</td><td>List(ADB,  None,  PySpark)</td></tr><tr><td>Rakesh</td><td>Azure</td><td>ADB, ADF</td><td>List(ADB,  ADF)</td></tr><tr><td>Royal</td><td>Azure</td><td>ADB, None</td><td>List(ADB,  None)</td></tr><tr><td>Swapnil</td><td>AWS</td><td>null</td><td>null</td></tr></tbody></table></div>"
      ]
     },
     "metadata": {
      "application/vnd.databricks.v1+output": {
       "addedWidgets": {},
       "aggData": [],
       "aggError": "",
       "aggOverflow": false,
       "aggSchema": [],
       "aggSeriesLimitReached": false,
       "aggType": "",
       "arguments": {},
       "columnCustomDisplayInfos": {},
       "data": [
        [
         "Sundar",
         "Azure",
         "ADB, ADF, PySpark, SQL",
         [
          "ADB",
          " ADF",
          " PySpark",
          " SQL"
         ]
        ],
        [
         "Sheetal",
         "Azure",
         "None, ADF, PySpark, SQL",
         [
          "None",
          " ADF",
          " PySpark",
          " SQL"
         ]
        ],
        [
         "Amar",
         "Azure",
         "ADB, None, PySpark",
         [
          "ADB",
          " None",
          " PySpark"
         ]
        ],
        [
         "Rakesh",
         "Azure",
         "ADB, ADF",
         [
          "ADB",
          " ADF"
         ]
        ],
        [
         "Royal",
         "Azure",
         "ADB, None",
         [
          "ADB",
          " None"
         ]
        ],
        [
         "Swapnil",
         "AWS",
         null,
         null
        ]
       ],
       "datasetInfos": [],
       "dbfsResultPath": null,
       "isJsonSchema": true,
       "metadata": {},
       "overflow": false,
       "plotOptions": {
        "customPlotOptions": {},
        "displayType": "table",
        "pivotAggregation": null,
        "pivotColumns": null,
        "xColumns": null,
        "yColumns": null
       },
       "removedWidgets": [],
       "schema": [
        {
         "metadata": "{}",
         "name": "EmpName",
         "type": "\"string\""
        },
        {
         "metadata": "{}",
         "name": "Dept",
         "type": "\"string\""
        },
        {
         "metadata": "{}",
         "name": "Technology",
         "type": "\"string\""
        },
        {
         "metadata": "{}",
         "name": "New_Technology",
         "type": "{\"type\":\"array\",\"elementType\":\"string\",\"containsNull\":false}"
        }
       ],
       "type": "table"
      }
     },
     "output_type": "display_data"
    }
   ],
   "source": [
    "df2 = df2.withColumn(\"New_Technology\", split((\"Technology\"), ',')).select('EmpName', 'Dept', 'Technology', 'New_Technology')\n",
    "display(df2)"
   ]
  },
  {
   "cell_type": "code",
   "execution_count": 0,
   "metadata": {
    "application/vnd.databricks.v1+cell": {
     "cellMetadata": {
      "byteLimit": 2048000,
      "rowLimit": 10000
     },
     "inputWidgets": {},
     "nuid": "b5cd7f54-5e53-4017-b7b5-70fe17cde581",
     "showTitle": false,
     "title": ""
    }
   },
   "outputs": [
    {
     "output_type": "display_data",
     "data": {
      "text/html": [
       "<style scoped>\n",
       "  .table-result-container {\n",
       "    max-height: 300px;\n",
       "    overflow: auto;\n",
       "  }\n",
       "  table, th, td {\n",
       "    border: 1px solid black;\n",
       "    border-collapse: collapse;\n",
       "  }\n",
       "  th, td {\n",
       "    padding: 5px;\n",
       "  }\n",
       "  th {\n",
       "    text-align: left;\n",
       "  }\n",
       "</style><div class='table-result-container'><table class='table-result'><thead style='background-color: white'><tr><th>EmpName</th><th>Dept</th><th>Technology</th><th>New_Technology</th><th>pos</th><th>col</th></tr></thead><tbody><tr><td>Sundar</td><td>Azure</td><td>ADB, ADF, PySpark, SQL</td><td>List(ADB,  ADF,  PySpark,  SQL)</td><td>0</td><td>ADB</td></tr><tr><td>Sundar</td><td>Azure</td><td>ADB, ADF, PySpark, SQL</td><td>List(ADB,  ADF,  PySpark,  SQL)</td><td>1</td><td> ADF</td></tr><tr><td>Sundar</td><td>Azure</td><td>ADB, ADF, PySpark, SQL</td><td>List(ADB,  ADF,  PySpark,  SQL)</td><td>2</td><td> PySpark</td></tr><tr><td>Sundar</td><td>Azure</td><td>ADB, ADF, PySpark, SQL</td><td>List(ADB,  ADF,  PySpark,  SQL)</td><td>3</td><td> SQL</td></tr><tr><td>Sheetal</td><td>Azure</td><td>None, ADF, PySpark, SQL</td><td>List(None,  ADF,  PySpark,  SQL)</td><td>0</td><td>None</td></tr><tr><td>Sheetal</td><td>Azure</td><td>None, ADF, PySpark, SQL</td><td>List(None,  ADF,  PySpark,  SQL)</td><td>1</td><td> ADF</td></tr><tr><td>Sheetal</td><td>Azure</td><td>None, ADF, PySpark, SQL</td><td>List(None,  ADF,  PySpark,  SQL)</td><td>2</td><td> PySpark</td></tr><tr><td>Sheetal</td><td>Azure</td><td>None, ADF, PySpark, SQL</td><td>List(None,  ADF,  PySpark,  SQL)</td><td>3</td><td> SQL</td></tr><tr><td>Amar</td><td>Azure</td><td>ADB, None, PySpark</td><td>List(ADB,  None,  PySpark)</td><td>0</td><td>ADB</td></tr><tr><td>Amar</td><td>Azure</td><td>ADB, None, PySpark</td><td>List(ADB,  None,  PySpark)</td><td>1</td><td> None</td></tr><tr><td>Amar</td><td>Azure</td><td>ADB, None, PySpark</td><td>List(ADB,  None,  PySpark)</td><td>2</td><td> PySpark</td></tr><tr><td>Rakesh</td><td>Azure</td><td>ADB, ADF</td><td>List(ADB,  ADF)</td><td>0</td><td>ADB</td></tr><tr><td>Rakesh</td><td>Azure</td><td>ADB, ADF</td><td>List(ADB,  ADF)</td><td>1</td><td> ADF</td></tr><tr><td>Royal</td><td>Azure</td><td>ADB, None</td><td>List(ADB,  None)</td><td>0</td><td>ADB</td></tr><tr><td>Royal</td><td>Azure</td><td>ADB, None</td><td>List(ADB,  None)</td><td>1</td><td> None</td></tr></tbody></table></div>"
      ]
     },
     "metadata": {
      "application/vnd.databricks.v1+output": {
       "addedWidgets": {},
       "aggData": [],
       "aggError": "",
       "aggOverflow": false,
       "aggSchema": [],
       "aggSeriesLimitReached": false,
       "aggType": "",
       "arguments": {},
       "columnCustomDisplayInfos": {},
       "data": [
        [
         "Sundar",
         "Azure",
         "ADB, ADF, PySpark, SQL",
         [
          "ADB",
          " ADF",
          " PySpark",
          " SQL"
         ],
         0,
         "ADB"
        ],
        [
         "Sundar",
         "Azure",
         "ADB, ADF, PySpark, SQL",
         [
          "ADB",
          " ADF",
          " PySpark",
          " SQL"
         ],
         1,
         " ADF"
        ],
        [
         "Sundar",
         "Azure",
         "ADB, ADF, PySpark, SQL",
         [
          "ADB",
          " ADF",
          " PySpark",
          " SQL"
         ],
         2,
         " PySpark"
        ],
        [
         "Sundar",
         "Azure",
         "ADB, ADF, PySpark, SQL",
         [
          "ADB",
          " ADF",
          " PySpark",
          " SQL"
         ],
         3,
         " SQL"
        ],
        [
         "Sheetal",
         "Azure",
         "None, ADF, PySpark, SQL",
         [
          "None",
          " ADF",
          " PySpark",
          " SQL"
         ],
         0,
         "None"
        ],
        [
         "Sheetal",
         "Azure",
         "None, ADF, PySpark, SQL",
         [
          "None",
          " ADF",
          " PySpark",
          " SQL"
         ],
         1,
         " ADF"
        ],
        [
         "Sheetal",
         "Azure",
         "None, ADF, PySpark, SQL",
         [
          "None",
          " ADF",
          " PySpark",
          " SQL"
         ],
         2,
         " PySpark"
        ],
        [
         "Sheetal",
         "Azure",
         "None, ADF, PySpark, SQL",
         [
          "None",
          " ADF",
          " PySpark",
          " SQL"
         ],
         3,
         " SQL"
        ],
        [
         "Amar",
         "Azure",
         "ADB, None, PySpark",
         [
          "ADB",
          " None",
          " PySpark"
         ],
         0,
         "ADB"
        ],
        [
         "Amar",
         "Azure",
         "ADB, None, PySpark",
         [
          "ADB",
          " None",
          " PySpark"
         ],
         1,
         " None"
        ],
        [
         "Amar",
         "Azure",
         "ADB, None, PySpark",
         [
          "ADB",
          " None",
          " PySpark"
         ],
         2,
         " PySpark"
        ],
        [
         "Rakesh",
         "Azure",
         "ADB, ADF",
         [
          "ADB",
          " ADF"
         ],
         0,
         "ADB"
        ],
        [
         "Rakesh",
         "Azure",
         "ADB, ADF",
         [
          "ADB",
          " ADF"
         ],
         1,
         " ADF"
        ],
        [
         "Royal",
         "Azure",
         "ADB, None",
         [
          "ADB",
          " None"
         ],
         0,
         "ADB"
        ],
        [
         "Royal",
         "Azure",
         "ADB, None",
         [
          "ADB",
          " None"
         ],
         1,
         " None"
        ]
       ],
       "datasetInfos": [],
       "dbfsResultPath": null,
       "isJsonSchema": true,
       "metadata": {},
       "overflow": false,
       "plotOptions": {
        "customPlotOptions": {},
        "displayType": "table",
        "pivotAggregation": null,
        "pivotColumns": null,
        "xColumns": null,
        "yColumns": null
       },
       "removedWidgets": [],
       "schema": [
        {
         "metadata": "{}",
         "name": "EmpName",
         "type": "\"string\""
        },
        {
         "metadata": "{}",
         "name": "Dept",
         "type": "\"string\""
        },
        {
         "metadata": "{}",
         "name": "Technology",
         "type": "\"string\""
        },
        {
         "metadata": "{}",
         "name": "New_Technology",
         "type": "{\"type\":\"array\",\"elementType\":\"string\",\"containsNull\":false}"
        },
        {
         "metadata": "{}",
         "name": "pos",
         "type": "\"integer\""
        },
        {
         "metadata": "{}",
         "name": "col",
         "type": "\"string\""
        }
       ],
       "type": "table"
      }
     },
     "output_type": "display_data"
    }
   ],
   "source": [
    "df3 = df2.select(\"*\", posexplode(\"New_Technology\"))\n",
    "display(df3)\n",
    "\n",
    "# df3 = df2.select(\"*\", posexplode(split((\"Technology\"), ',')))\n",
    "# display(df3)"
   ]
  },
  {
   "cell_type": "code",
   "execution_count": 0,
   "metadata": {
    "application/vnd.databricks.v1+cell": {
     "cellMetadata": {
      "byteLimit": 2048000,
      "rowLimit": 10000
     },
     "inputWidgets": {},
     "nuid": "85e6a9ec-d85b-44fd-897c-0b9b387578b5",
     "showTitle": false,
     "title": ""
    }
   },
   "outputs": [
    {
     "output_type": "display_data",
     "data": {
      "text/html": [
       "<style scoped>\n",
       "  .table-result-container {\n",
       "    max-height: 300px;\n",
       "    overflow: auto;\n",
       "  }\n",
       "  table, th, td {\n",
       "    border: 1px solid black;\n",
       "    border-collapse: collapse;\n",
       "  }\n",
       "  th, td {\n",
       "    padding: 5px;\n",
       "  }\n",
       "  th {\n",
       "    text-align: left;\n",
       "  }\n",
       "</style><div class='table-result-container'><table class='table-result'><thead style='background-color: white'><tr><th>EmpName</th><th>Dept</th><th>Index</th><th>CoreTechnology</th></tr></thead><tbody><tr><td>Sundar</td><td>Azure</td><td>0</td><td>ADB</td></tr><tr><td>Sundar</td><td>Azure</td><td>1</td><td> ADF</td></tr><tr><td>Sundar</td><td>Azure</td><td>2</td><td> PySpark</td></tr><tr><td>Sundar</td><td>Azure</td><td>3</td><td> SQL</td></tr><tr><td>Sheetal</td><td>Azure</td><td>0</td><td>None</td></tr><tr><td>Sheetal</td><td>Azure</td><td>1</td><td> ADF</td></tr><tr><td>Sheetal</td><td>Azure</td><td>2</td><td> PySpark</td></tr><tr><td>Sheetal</td><td>Azure</td><td>3</td><td> SQL</td></tr><tr><td>Amar</td><td>Azure</td><td>0</td><td>ADB</td></tr><tr><td>Amar</td><td>Azure</td><td>1</td><td> None</td></tr><tr><td>Amar</td><td>Azure</td><td>2</td><td> PySpark</td></tr><tr><td>Rakesh</td><td>Azure</td><td>0</td><td>ADB</td></tr><tr><td>Rakesh</td><td>Azure</td><td>1</td><td> ADF</td></tr><tr><td>Royal</td><td>Azure</td><td>0</td><td>ADB</td></tr><tr><td>Royal</td><td>Azure</td><td>1</td><td> None</td></tr></tbody></table></div>"
      ]
     },
     "metadata": {
      "application/vnd.databricks.v1+output": {
       "addedWidgets": {},
       "aggData": [],
       "aggError": "",
       "aggOverflow": false,
       "aggSchema": [],
       "aggSeriesLimitReached": false,
       "aggType": "",
       "arguments": {},
       "columnCustomDisplayInfos": {},
       "data": [
        [
         "Sundar",
         "Azure",
         0,
         "ADB"
        ],
        [
         "Sundar",
         "Azure",
         1,
         " ADF"
        ],
        [
         "Sundar",
         "Azure",
         2,
         " PySpark"
        ],
        [
         "Sundar",
         "Azure",
         3,
         " SQL"
        ],
        [
         "Sheetal",
         "Azure",
         0,
         "None"
        ],
        [
         "Sheetal",
         "Azure",
         1,
         " ADF"
        ],
        [
         "Sheetal",
         "Azure",
         2,
         " PySpark"
        ],
        [
         "Sheetal",
         "Azure",
         3,
         " SQL"
        ],
        [
         "Amar",
         "Azure",
         0,
         "ADB"
        ],
        [
         "Amar",
         "Azure",
         1,
         " None"
        ],
        [
         "Amar",
         "Azure",
         2,
         " PySpark"
        ],
        [
         "Rakesh",
         "Azure",
         0,
         "ADB"
        ],
        [
         "Rakesh",
         "Azure",
         1,
         " ADF"
        ],
        [
         "Royal",
         "Azure",
         0,
         "ADB"
        ],
        [
         "Royal",
         "Azure",
         1,
         " None"
        ]
       ],
       "datasetInfos": [],
       "dbfsResultPath": null,
       "isJsonSchema": true,
       "metadata": {},
       "overflow": false,
       "plotOptions": {
        "customPlotOptions": {},
        "displayType": "table",
        "pivotAggregation": null,
        "pivotColumns": null,
        "xColumns": null,
        "yColumns": null
       },
       "removedWidgets": [],
       "schema": [
        {
         "metadata": "{}",
         "name": "EmpName",
         "type": "\"string\""
        },
        {
         "metadata": "{}",
         "name": "Dept",
         "type": "\"string\""
        },
        {
         "metadata": "{}",
         "name": "Index",
         "type": "\"integer\""
        },
        {
         "metadata": "{}",
         "name": "CoreTechnology",
         "type": "\"string\""
        }
       ],
       "type": "table"
      }
     },
     "output_type": "display_data"
    }
   ],
   "source": [
    "df3 = df3.withColumnRenamed(\"col\", \"CoreTechnology\")\\\n",
    "         .withColumnRenamed(\"pos\", \"Index\")\\\n",
    "         .drop(\"Technology\", \"New_Technology\")        \n",
    "display(df3)"
   ]
  }
 ],
 "metadata": {
  "application/vnd.databricks.v1+notebook": {
   "dashboards": [],
   "environmentMetadata": null,
   "language": "python",
   "notebookMetadata": {
    "pythonIndentUnit": 4
   },
   "notebookName": "13_Databricks_Pyspark Difference bn posexplode and posexplode_outer_01",
   "widgets": {}
  }
 },
 "nbformat": 4,
 "nbformat_minor": 0
}
