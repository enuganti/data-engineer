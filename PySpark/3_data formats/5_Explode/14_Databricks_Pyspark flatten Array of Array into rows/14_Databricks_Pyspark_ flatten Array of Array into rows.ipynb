{
 "cells": [
  {
   "cell_type": "code",
   "execution_count": 0,
   "metadata": {
    "application/vnd.databricks.v1+cell": {
     "cellMetadata": {
      "byteLimit": 2048000,
      "rowLimit": 10000
     },
     "inputWidgets": {},
     "nuid": "c0cfdc11-e948-4aed-a7fa-0df3a764a720",
     "showTitle": false,
     "title": ""
    }
   },
   "outputs": [],
   "source": [
    "json_sample = \"\"\"\n",
    "[\n",
    "    {\n",
    "      \"id\": \"0001\",\n",
    "      \"FirstName\": \"Sonalika\",\n",
    "      \"LastName\": \"kishan\",\n",
    "      \"Qualification\": \"Masters\",\n",
    "      \"Technology\": \"ADF\",\n",
    "      \"Age\": 34,\n",
    "      \"Address\": [\n",
    "                    {\n",
    "                        \"city\": \"Bangalore\",\n",
    "                        \"HouseAndPIN\": [\n",
    "                            [\n",
    "                                \"#234\",\n",
    "                                \"Agara\",\n",
    "                                \"Bangalore\",\n",
    "                                \"Karnataka\"\n",
    "                            ],\n",
    "                            [\n",
    "                                \"560105\",\n",
    "                                \"560107\"\n",
    "                            ]\n",
    "                        ]\n",
    "                    },\n",
    "                    {\n",
    "                        \"city\": \"Chennai\",\n",
    "                        \"HouseAndPIN\": [\n",
    "                            [\n",
    "                                \"#569\",\n",
    "                                \"Velachery\",\n",
    "                                \"Chennai\",\n",
    "                                \"Tamilnadu\"\n",
    "                            ],\n",
    "                            [\n",
    "                                \"405603\",\n",
    "                                \"408613\"\n",
    "                            ]\n",
    "                        ]\n",
    "                    }\n",
    "                ]\n",
    "    },\n",
    "    {\n",
    "      \"id\": \"0002\",\n",
    "      \"FirstName\": \"Santhosh\",\n",
    "      \"LastName\": \"kumar\",\n",
    "      \"Qualification\": \"Masters\",\n",
    "      \"Technology\": \"Azure\",\n",
    "      \"Age\": 44,\n",
    "      \"Address\": [\n",
    "                    {\n",
    "                        \"city\": \"Hyderabad\",\n",
    "                        \"HouseAndPIN\": [\n",
    "                            [\n",
    "                                \"667\",\n",
    "                                \"Jublihills\",\n",
    "                                \"Hyderabad\"\n",
    "                            ],\n",
    "                            [\n",
    "                              \"711178\",\n",
    "                              \"711354\"\n",
    "                            ]\n",
    "                        ]\n",
    "                    },\n",
    "                    {\n",
    "                        \"city\": \"Amaravati\",\n",
    "                        \"HouseAndPIN\": [\n",
    "                            [\n",
    "                                \"512\",\n",
    "                                \"BenzCircle\",\n",
    "                                \"Vijayawada\",\n",
    "                                \"Amaravati\"\n",
    "                            ],\n",
    "                            [\n",
    "                                \"560238\",\n",
    "                                \"577034\",\n",
    "                                \"678019\",\n",
    "                                \"778899\"\n",
    "                            ]\n",
    "                        ]\n",
    "                    }\n",
    "                ]\n",
    "    },\n",
    "    {\n",
    "      \"id\": \"0003\",\n",
    "      \"FirstName\": \"Sourabh\",\n",
    "      \"LastName\": \"Geol\",\n",
    "      \"Qualification\": \"Bachelers\",\n",
    "      \"Technology\": \"AWS\",\n",
    "      \"Age\": 28,\n",
    "      \"Address\": [\n",
    "                    {\n",
    "                        \"city\": \"Kolkata\",\n",
    "                        \"HouseAndPIN\": [\n",
    "                            [\n",
    "                                \"4453\",\n",
    "                                \"west bengal\"\n",
    "                            ],\n",
    "                            [\n",
    "                              \"710123\",\n",
    "                              \"710176\"\n",
    "                            ]\n",
    "                        ]\n",
    "                    },\n",
    "                    {\n",
    "                        \"city\": \"Sweden\",\n",
    "                        \"HouseAndPIN\": [\n",
    "                            [\n",
    "                                \"1CACV\",\n",
    "                                \"Gothenberg\",\n",
    "                                \"sweden\"\n",
    "                            ],\n",
    "                            [\n",
    "                              \"DAFEC1A\",\n",
    "                              \"DAFED2B\",\n",
    "                              \"DAFEE33\"\n",
    "                            ]\n",
    "                        ]\n",
    "                    }\n",
    "                ]\n",
    "    }\n",
    "]\n",
    "\"\"\"\n",
    "\n",
    "dbutils.fs.put(\"/FileStore/tables/Flatten Nested Array.json\", json_sample, True)"
   ]
  },
  {
   "cell_type": "code",
   "execution_count": 0,
   "metadata": {
    "application/vnd.databricks.v1+cell": {
     "cellMetadata": {
      "byteLimit": 2048000,
      "rowLimit": 10000
     },
     "inputWidgets": {},
     "nuid": "7d348367-ce53-41af-9acf-1f612a760696",
     "showTitle": false,
     "title": ""
    }
   },
   "outputs": [],
   "source": [
    "from pyspark.sql.types import *\n",
    "\n",
    "Schema = StructType([\n",
    "    StructField(\"id\", StringType(), True),\n",
    "    StructField(\"FirstName\", StringType(), True),\n",
    "    StructField(\"LastName\", StringType(), True),\n",
    "    StructField(\"Qualification\", StringType(), True),\n",
    "    StructField(\"Technology\", StringType(), True),\n",
    "    StructField(\"Age\", IntegerType(), True),\n",
    "    StructField(\"Address\", ArrayType(\n",
    "      StructType([\n",
    "        StructField(\"city\", StringType(), True),\n",
    "        StructField(\"HouseAndPIN\", ArrayType(ArrayType(StringType())), True)\n",
    "      ])\n",
    "    ), True)\n",
    "])"
   ]
  },
  {
   "cell_type": "code",
   "execution_count": 0,
   "metadata": {
    "application/vnd.databricks.v1+cell": {
     "cellMetadata": {
      "byteLimit": 2048000,
      "rowLimit": 10000
     },
     "inputWidgets": {},
     "nuid": "59011fa1-bd46-4d2a-95e8-8fdd8ec76720",
     "showTitle": false,
     "title": ""
    }
   },
   "outputs": [],
   "source": [
    "import json\n",
    "dfPerson = json.loads(json_sample)\n",
    "dfPerson = spark.createDataFrame(dfPerson, schema = Schema)\n",
    "display(dfPerson)\n",
    "dfPerson.printSchema()"
   ]
  },
  {
   "cell_type": "markdown",
   "metadata": {
    "application/vnd.databricks.v1+cell": {
     "cellMetadata": {},
     "inputWidgets": {},
     "nuid": "89807212-ca82-4d14-8de1-7138e87e6ae7",
     "showTitle": false,
     "title": ""
    }
   },
   "source": [
    "- Flatten the “home” Column to Have **“All” the “Array Elements”** in a **“Single Array Column”** for **“Each City”** in the New Row Using the **“flatten()”** Method."
   ]
  },
  {
   "cell_type": "code",
   "execution_count": 0,
   "metadata": {
    "application/vnd.databricks.v1+cell": {
     "cellMetadata": {
      "byteLimit": 2048000,
      "rowLimit": 10000
     },
     "inputWidgets": {},
     "nuid": "d0e0720c-6459-4cac-9330-46023e0edae8",
     "showTitle": false,
     "title": ""
    }
   },
   "outputs": [],
   "source": [
    "from pyspark.sql.functions import *\n",
    "\n",
    "json_dfPerson = dfPerson.select(\n",
    "                                col(\"FirstName\"),\n",
    "                                col(\"LastName\"),\n",
    "                                col(\"Age\"),\n",
    "                                col(\"Address.city\").alias(\"City\"),\n",
    "                                flatten(col(\"Address.HouseAndPIN\")).alias(\"flattenedHouseAndPIN\")\n",
    "                                )\n",
    "display(json_dfPerson)\n",
    "\n",
    "# Print the \"Schema\" of the Created DataFrame\n",
    "json_dfPerson.printSchema()"
   ]
  },
  {
   "cell_type": "markdown",
   "metadata": {
    "application/vnd.databricks.v1+cell": {
     "cellMetadata": {},
     "inputWidgets": {},
     "nuid": "073f1ab5-688d-4c95-89cf-6efb8ba99226",
     "showTitle": false,
     "title": ""
    }
   },
   "source": [
    "**EX 01**\n",
    "\n",
    "**How to flatten Array of Array using flatten function?**"
   ]
  },
  {
   "cell_type": "code",
   "execution_count": 0,
   "metadata": {
    "application/vnd.databricks.v1+cell": {
     "cellMetadata": {
      "byteLimit": 2048000,
      "rowLimit": 10000
     },
     "inputWidgets": {},
     "nuid": "842fec2b-0e90-49e1-8aa2-e0d218448d92",
     "showTitle": false,
     "title": ""
    }
   },
   "outputs": [
    {
     "output_type": "display_data",
     "data": {
      "text/html": [
       "<style scoped>\n",
       "  .table-result-container {\n",
       "    max-height: 300px;\n",
       "    overflow: auto;\n",
       "  }\n",
       "  table, th, td {\n",
       "    border: 1px solid black;\n",
       "    border-collapse: collapse;\n",
       "  }\n",
       "  th, td {\n",
       "    padding: 5px;\n",
       "  }\n",
       "  th {\n",
       "    text-align: left;\n",
       "  }\n",
       "</style><div class='table-result-container'><table class='table-result'><thead style='background-color: white'><tr><th>EmpName</th><th>Technology</th></tr></thead><tbody><tr><td>Revanth</td><td>List(List(ADF, Spark, ADB), List(ETL, Devops, null), List(SQL, null))</td></tr><tr><td>Reshma</td><td>List(List(SSMS, null, Salesforce), List(SAP, ERP, null))</td></tr><tr><td>Raashi</td><td>List(List(PythonVB, null), List(C++, GitHub, Git))</td></tr><tr><td>Krishna</td><td>List(List(SHELL, DRG), List(JAVA, null))</td></tr><tr><td>Sudarshan</td><td>null</td></tr><tr><td>Kamal</td><td>List()</td></tr></tbody></table></div>"
      ]
     },
     "metadata": {
      "application/vnd.databricks.v1+output": {
       "addedWidgets": {},
       "aggData": [],
       "aggError": "",
       "aggOverflow": false,
       "aggSchema": [],
       "aggSeriesLimitReached": false,
       "aggType": "",
       "arguments": {},
       "columnCustomDisplayInfos": {},
       "data": [
        [
         "Revanth",
         [
          [
           "ADF",
           "Spark",
           "ADB"
          ],
          [
           "ETL",
           "Devops",
           null
          ],
          [
           "SQL",
           null
          ]
         ]
        ],
        [
         "Reshma",
         [
          [
           "SSMS",
           null,
           "Salesforce"
          ],
          [
           "SAP",
           "ERP",
           null
          ]
         ]
        ],
        [
         "Raashi",
         [
          [
           "PythonVB",
           null
          ],
          [
           "C++",
           "GitHub",
           "Git"
          ]
         ]
        ],
        [
         "Krishna",
         [
          [
           "SHELL",
           "DRG"
          ],
          [
           "JAVA",
           null
          ]
         ]
        ],
        [
         "Sudarshan",
         null
        ],
        [
         "Kamal",
         []
        ]
       ],
       "datasetInfos": [],
       "dbfsResultPath": null,
       "isJsonSchema": true,
       "metadata": {},
       "overflow": false,
       "plotOptions": {
        "customPlotOptions": {},
        "displayType": "table",
        "pivotAggregation": null,
        "pivotColumns": null,
        "xColumns": null,
        "yColumns": null
       },
       "removedWidgets": [],
       "schema": [
        {
         "metadata": "{}",
         "name": "EmpName",
         "type": "\"string\""
        },
        {
         "metadata": "{}",
         "name": "Technology",
         "type": "{\"type\":\"array\",\"elementType\":{\"type\":\"array\",\"elementType\":\"string\",\"containsNull\":true},\"containsNull\":true}"
        }
       ],
       "type": "table"
      }
     },
     "output_type": "display_data"
    },
    {
     "output_type": "stream",
     "name": "stdout",
     "output_type": "stream",
     "text": [
      "root\n |-- EmpName: string (nullable = true)\n |-- Technology: array (nullable = true)\n |    |-- element: array (containsNull = true)\n |    |    |-- element: string (containsNull = true)\n\n"
     ]
    }
   ],
   "source": [
    "from pyspark.sql.functions import col, explode, posexplode, flatten\n",
    "\n",
    "data = [(\"Revanth\", [[\"ADF\", \"Spark\", \"ADB\"], [\"ETL\", \"Devops\", None], [\"SQL\", None]]),\n",
    "        (\"Reshma\", [[\"SSMS\", None, \"Salesforce\"], [\"SAP\", \"ERP\", None]]),\n",
    "        (\"Raashi\", [[\"Python\" \"VB\", None], [\"C++\", \"GitHub\", \"Git\"]]),\n",
    "        (\"Krishna\", [[\"SHELL\", \"DRG\"], [\"JAVA\", None]]),\n",
    "        (\"Sudarshan\", None),\n",
    "        (\"Kamal\", [])\n",
    "       ]\n",
    "\n",
    "columns = [\"EmpName\", \"Technology\"]\n",
    "\n",
    "df = spark.createDataFrame(data=data, schema=columns)\n",
    "display(df)\n",
    "df.printSchema()"
   ]
  },
  {
   "cell_type": "code",
   "execution_count": 0,
   "metadata": {
    "application/vnd.databricks.v1+cell": {
     "cellMetadata": {
      "byteLimit": 2048000,
      "rowLimit": 10000
     },
     "inputWidgets": {},
     "nuid": "c44c21a5-db7b-48e5-af7e-efe888bfa9cc",
     "showTitle": false,
     "title": ""
    }
   },
   "outputs": [
    {
     "output_type": "display_data",
     "data": {
      "text/html": [
       "<style scoped>\n",
       "  .table-result-container {\n",
       "    max-height: 300px;\n",
       "    overflow: auto;\n",
       "  }\n",
       "  table, th, td {\n",
       "    border: 1px solid black;\n",
       "    border-collapse: collapse;\n",
       "  }\n",
       "  th, td {\n",
       "    padding: 5px;\n",
       "  }\n",
       "  th {\n",
       "    text-align: left;\n",
       "  }\n",
       "</style><div class='table-result-container'><table class='table-result'><thead style='background-color: white'><tr><th>EmpName</th><th>NewTechnology</th></tr></thead><tbody><tr><td>Revanth</td><td>List(ADF, Spark, ADB, ETL, Devops, null, SQL, null)</td></tr><tr><td>Reshma</td><td>List(SSMS, null, Salesforce, SAP, ERP, null)</td></tr><tr><td>Raashi</td><td>List(PythonVB, null, C++, GitHub, Git)</td></tr><tr><td>Krishna</td><td>List(SHELL, DRG, JAVA, null)</td></tr><tr><td>Sudarshan</td><td>null</td></tr><tr><td>Kamal</td><td>List()</td></tr></tbody></table></div>"
      ]
     },
     "metadata": {
      "application/vnd.databricks.v1+output": {
       "addedWidgets": {},
       "aggData": [],
       "aggError": "",
       "aggOverflow": false,
       "aggSchema": [],
       "aggSeriesLimitReached": false,
       "aggType": "",
       "arguments": {},
       "columnCustomDisplayInfos": {},
       "data": [
        [
         "Revanth",
         [
          "ADF",
          "Spark",
          "ADB",
          "ETL",
          "Devops",
          null,
          "SQL",
          null
         ]
        ],
        [
         "Reshma",
         [
          "SSMS",
          null,
          "Salesforce",
          "SAP",
          "ERP",
          null
         ]
        ],
        [
         "Raashi",
         [
          "PythonVB",
          null,
          "C++",
          "GitHub",
          "Git"
         ]
        ],
        [
         "Krishna",
         [
          "SHELL",
          "DRG",
          "JAVA",
          null
         ]
        ],
        [
         "Sudarshan",
         null
        ],
        [
         "Kamal",
         []
        ]
       ],
       "datasetInfos": [],
       "dbfsResultPath": null,
       "isJsonSchema": true,
       "metadata": {},
       "overflow": false,
       "plotOptions": {
        "customPlotOptions": {},
        "displayType": "table",
        "pivotAggregation": null,
        "pivotColumns": null,
        "xColumns": null,
        "yColumns": null
       },
       "removedWidgets": [],
       "schema": [
        {
         "metadata": "{}",
         "name": "EmpName",
         "type": "\"string\""
        },
        {
         "metadata": "{}",
         "name": "NewTechnology",
         "type": "{\"type\":\"array\",\"elementType\":\"string\",\"containsNull\":true}"
        }
       ],
       "type": "table"
      }
     },
     "output_type": "display_data"
    }
   ],
   "source": [
    "display(df.select(\"EmpName\", flatten(\"Technology\").alias('NewTechnology')))"
   ]
  },
  {
   "cell_type": "code",
   "execution_count": 0,
   "metadata": {
    "application/vnd.databricks.v1+cell": {
     "cellMetadata": {
      "byteLimit": 2048000,
      "rowLimit": 10000
     },
     "inputWidgets": {},
     "nuid": "9b643c1f-84fe-4ac6-a005-69d41804d3ec",
     "showTitle": false,
     "title": ""
    }
   },
   "outputs": [
    {
     "output_type": "display_data",
     "data": {
      "text/html": [
       "<style scoped>\n",
       "  .table-result-container {\n",
       "    max-height: 300px;\n",
       "    overflow: auto;\n",
       "  }\n",
       "  table, th, td {\n",
       "    border: 1px solid black;\n",
       "    border-collapse: collapse;\n",
       "  }\n",
       "  th, td {\n",
       "    padding: 5px;\n",
       "  }\n",
       "  th {\n",
       "    text-align: left;\n",
       "  }\n",
       "</style><div class='table-result-container'><table class='table-result'><thead style='background-color: white'><tr><th>EmpName</th><th>NewTechnology</th></tr></thead><tbody><tr><td>Revanth</td><td>List(ADF, Spark, ADB, ETL, Devops, null, SQL, null)</td></tr><tr><td>Reshma</td><td>List(SSMS, null, Salesforce, SAP, ERP, null)</td></tr><tr><td>Raashi</td><td>List(PythonVB, null, C++, GitHub, Git)</td></tr><tr><td>Krishna</td><td>List(SHELL, DRG, JAVA, null)</td></tr><tr><td>Sudarshan</td><td>null</td></tr><tr><td>Kamal</td><td>List()</td></tr></tbody></table></div>"
      ]
     },
     "metadata": {
      "application/vnd.databricks.v1+output": {
       "addedWidgets": {},
       "aggData": [],
       "aggError": "",
       "aggOverflow": false,
       "aggSchema": [],
       "aggSeriesLimitReached": false,
       "aggType": "",
       "arguments": {},
       "columnCustomDisplayInfos": {},
       "data": [
        [
         "Revanth",
         [
          "ADF",
          "Spark",
          "ADB",
          "ETL",
          "Devops",
          null,
          "SQL",
          null
         ]
        ],
        [
         "Reshma",
         [
          "SSMS",
          null,
          "Salesforce",
          "SAP",
          "ERP",
          null
         ]
        ],
        [
         "Raashi",
         [
          "PythonVB",
          null,
          "C++",
          "GitHub",
          "Git"
         ]
        ],
        [
         "Krishna",
         [
          "SHELL",
          "DRG",
          "JAVA",
          null
         ]
        ],
        [
         "Sudarshan",
         null
        ],
        [
         "Kamal",
         []
        ]
       ],
       "datasetInfos": [],
       "dbfsResultPath": null,
       "isJsonSchema": true,
       "metadata": {},
       "overflow": false,
       "plotOptions": {
        "customPlotOptions": {},
        "displayType": "table",
        "pivotAggregation": null,
        "pivotColumns": null,
        "xColumns": null,
        "yColumns": null
       },
       "removedWidgets": [],
       "schema": [
        {
         "metadata": "{}",
         "name": "EmpName",
         "type": "\"string\""
        },
        {
         "metadata": "{}",
         "name": "NewTechnology",
         "type": "{\"type\":\"array\",\"elementType\":\"string\",\"containsNull\":true}"
        }
       ],
       "type": "table"
      }
     },
     "output_type": "display_data"
    }
   ],
   "source": [
    "dfff=df.select(\"EmpName\", flatten(\"Technology\").alias('NewTechnology'))\n",
    "display(dfff)"
   ]
  },
  {
   "cell_type": "code",
   "execution_count": 0,
   "metadata": {
    "application/vnd.databricks.v1+cell": {
     "cellMetadata": {
      "byteLimit": 2048000,
      "rowLimit": 10000
     },
     "inputWidgets": {},
     "nuid": "7febcb8d-c2c1-404e-b732-bd0f8dfc23e0",
     "showTitle": false,
     "title": ""
    }
   },
   "outputs": [
    {
     "output_type": "display_data",
     "data": {
      "text/html": [
       "<style scoped>\n",
       "  .table-result-container {\n",
       "    max-height: 300px;\n",
       "    overflow: auto;\n",
       "  }\n",
       "  table, th, td {\n",
       "    border: 1px solid black;\n",
       "    border-collapse: collapse;\n",
       "  }\n",
       "  th, td {\n",
       "    padding: 5px;\n",
       "  }\n",
       "  th {\n",
       "    text-align: left;\n",
       "  }\n",
       "</style><div class='table-result-container'><table class='table-result'><thead style='background-color: white'><tr><th>EmpName</th><th>CoreTechnology</th></tr></thead><tbody><tr><td>Revanth</td><td>ADF</td></tr><tr><td>Revanth</td><td>Spark</td></tr><tr><td>Revanth</td><td>ADB</td></tr><tr><td>Revanth</td><td>ETL</td></tr><tr><td>Revanth</td><td>Devops</td></tr><tr><td>Revanth</td><td>null</td></tr><tr><td>Revanth</td><td>SQL</td></tr><tr><td>Revanth</td><td>null</td></tr><tr><td>Reshma</td><td>SSMS</td></tr><tr><td>Reshma</td><td>null</td></tr><tr><td>Reshma</td><td>Salesforce</td></tr><tr><td>Reshma</td><td>SAP</td></tr><tr><td>Reshma</td><td>ERP</td></tr><tr><td>Reshma</td><td>null</td></tr><tr><td>Raashi</td><td>PythonVB</td></tr><tr><td>Raashi</td><td>null</td></tr><tr><td>Raashi</td><td>C++</td></tr><tr><td>Raashi</td><td>GitHub</td></tr><tr><td>Raashi</td><td>Git</td></tr><tr><td>Krishna</td><td>SHELL</td></tr><tr><td>Krishna</td><td>DRG</td></tr><tr><td>Krishna</td><td>JAVA</td></tr><tr><td>Krishna</td><td>null</td></tr></tbody></table></div>"
      ]
     },
     "metadata": {
      "application/vnd.databricks.v1+output": {
       "addedWidgets": {},
       "aggData": [],
       "aggError": "",
       "aggOverflow": false,
       "aggSchema": [],
       "aggSeriesLimitReached": false,
       "aggType": "",
       "arguments": {},
       "columnCustomDisplayInfos": {},
       "data": [
        [
         "Revanth",
         "ADF"
        ],
        [
         "Revanth",
         "Spark"
        ],
        [
         "Revanth",
         "ADB"
        ],
        [
         "Revanth",
         "ETL"
        ],
        [
         "Revanth",
         "Devops"
        ],
        [
         "Revanth",
         null
        ],
        [
         "Revanth",
         "SQL"
        ],
        [
         "Revanth",
         null
        ],
        [
         "Reshma",
         "SSMS"
        ],
        [
         "Reshma",
         null
        ],
        [
         "Reshma",
         "Salesforce"
        ],
        [
         "Reshma",
         "SAP"
        ],
        [
         "Reshma",
         "ERP"
        ],
        [
         "Reshma",
         null
        ],
        [
         "Raashi",
         "PythonVB"
        ],
        [
         "Raashi",
         null
        ],
        [
         "Raashi",
         "C++"
        ],
        [
         "Raashi",
         "GitHub"
        ],
        [
         "Raashi",
         "Git"
        ],
        [
         "Krishna",
         "SHELL"
        ],
        [
         "Krishna",
         "DRG"
        ],
        [
         "Krishna",
         "JAVA"
        ],
        [
         "Krishna",
         null
        ]
       ],
       "datasetInfos": [],
       "dbfsResultPath": null,
       "isJsonSchema": true,
       "metadata": {},
       "overflow": false,
       "plotOptions": {
        "customPlotOptions": {},
        "displayType": "table",
        "pivotAggregation": null,
        "pivotColumns": null,
        "xColumns": null,
        "yColumns": null
       },
       "removedWidgets": [],
       "schema": [
        {
         "metadata": "{}",
         "name": "EmpName",
         "type": "\"string\""
        },
        {
         "metadata": "{}",
         "name": "CoreTechnology",
         "type": "\"string\""
        }
       ],
       "type": "table"
      }
     },
     "output_type": "display_data"
    }
   ],
   "source": [
    "df5 = dfff.select(\"EmpName\", explode(\"NewTechnology\").alias('CoreTechnology'))\n",
    "display(df5)"
   ]
  },
  {
   "cell_type": "markdown",
   "metadata": {
    "application/vnd.databricks.v1+cell": {
     "cellMetadata": {},
     "inputWidgets": {},
     "nuid": "0fd7d8cc-19cd-4967-b996-a91a67268c89",
     "showTitle": false,
     "title": ""
    }
   },
   "source": [
    "**EX 02**\n",
    "\n",
    "**How to flatten Array of Array using Explode function?**"
   ]
  },
  {
   "cell_type": "code",
   "execution_count": 0,
   "metadata": {
    "application/vnd.databricks.v1+cell": {
     "cellMetadata": {
      "byteLimit": 2048000,
      "rowLimit": 10000
     },
     "inputWidgets": {},
     "nuid": "80d78b22-6361-4e96-b7a3-d799e46de255",
     "showTitle": false,
     "title": ""
    }
   },
   "outputs": [
    {
     "output_type": "display_data",
     "data": {
      "text/html": [
       "<style scoped>\n",
       "  .table-result-container {\n",
       "    max-height: 300px;\n",
       "    overflow: auto;\n",
       "  }\n",
       "  table, th, td {\n",
       "    border: 1px solid black;\n",
       "    border-collapse: collapse;\n",
       "  }\n",
       "  th, td {\n",
       "    padding: 5px;\n",
       "  }\n",
       "  th {\n",
       "    text-align: left;\n",
       "  }\n",
       "</style><div class='table-result-container'><table class='table-result'><thead style='background-color: white'><tr><th>EmpName</th><th>Technology</th></tr></thead><tbody><tr><td>Revanth</td><td>List(List(ADF, Spark, ADB), List(ETL, Devops, null), List(SQL, null), null)</td></tr><tr><td>Reshma</td><td>List(List(SSMS, null, Salesforce), List(SAP, ERP, null), null)</td></tr><tr><td>Raashi</td><td>List(List(PythonVB, null), List(C++, GitHub, Git))</td></tr><tr><td>Krishna</td><td>List(List(SHELL, DRG), List(JAVA, null))</td></tr><tr><td>Sudarshan</td><td>null</td></tr><tr><td>Kamal</td><td>List()</td></tr></tbody></table></div>"
      ]
     },
     "metadata": {
      "application/vnd.databricks.v1+output": {
       "addedWidgets": {},
       "aggData": [],
       "aggError": "",
       "aggOverflow": false,
       "aggSchema": [],
       "aggSeriesLimitReached": false,
       "aggType": "",
       "arguments": {},
       "columnCustomDisplayInfos": {},
       "data": [
        [
         "Revanth",
         [
          [
           "ADF",
           "Spark",
           "ADB"
          ],
          [
           "ETL",
           "Devops",
           null
          ],
          [
           "SQL",
           null
          ],
          null
         ]
        ],
        [
         "Reshma",
         [
          [
           "SSMS",
           null,
           "Salesforce"
          ],
          [
           "SAP",
           "ERP",
           null
          ],
          null
         ]
        ],
        [
         "Raashi",
         [
          [
           "PythonVB",
           null
          ],
          [
           "C++",
           "GitHub",
           "Git"
          ]
         ]
        ],
        [
         "Krishna",
         [
          [
           "SHELL",
           "DRG"
          ],
          [
           "JAVA",
           null
          ]
         ]
        ],
        [
         "Sudarshan",
         null
        ],
        [
         "Kamal",
         []
        ]
       ],
       "datasetInfos": [],
       "dbfsResultPath": null,
       "isJsonSchema": true,
       "metadata": {},
       "overflow": false,
       "plotOptions": {
        "customPlotOptions": {},
        "displayType": "table",
        "pivotAggregation": null,
        "pivotColumns": null,
        "xColumns": null,
        "yColumns": null
       },
       "removedWidgets": [],
       "schema": [
        {
         "metadata": "{}",
         "name": "EmpName",
         "type": "\"string\""
        },
        {
         "metadata": "{}",
         "name": "Technology",
         "type": "{\"type\":\"array\",\"elementType\":{\"type\":\"array\",\"elementType\":\"string\",\"containsNull\":true},\"containsNull\":true}"
        }
       ],
       "type": "table"
      }
     },
     "output_type": "display_data"
    },
    {
     "output_type": "stream",
     "name": "stdout",
     "output_type": "stream",
     "text": [
      "root\n |-- EmpName: string (nullable = true)\n |-- Technology: array (nullable = true)\n |    |-- element: array (containsNull = true)\n |    |    |-- element: string (containsNull = true)\n\n"
     ]
    }
   ],
   "source": [
    "from pyspark.sql.functions import col, explode, posexplode, flatten\n",
    "\n",
    "data1 = [(\"Revanth\", [[\"ADF\", \"Spark\", \"ADB\"], [\"ETL\", \"Devops\", None], [\"SQL\", None], None]),\n",
    "        (\"Reshma\", [[\"SSMS\", None, \"Salesforce\"], [\"SAP\", \"ERP\", None], None]),\n",
    "        (\"Raashi\", [[\"Python\" \"VB\", None], [\"C++\", \"GitHub\", \"Git\"]]),\n",
    "        (\"Krishna\", [[\"SHELL\", \"DRG\"], [\"JAVA\", None]]),\n",
    "        (\"Sudarshan\", None),\n",
    "        (\"Kamal\", [])\n",
    "       ]\n",
    "\n",
    "columns1 = [\"EmpName\", \"Technology\"]\n",
    "\n",
    "df1 = spark.createDataFrame(data=data1, schema=columns1)\n",
    "display(df1)\n",
    "df1.printSchema()"
   ]
  },
  {
   "cell_type": "code",
   "execution_count": 0,
   "metadata": {
    "application/vnd.databricks.v1+cell": {
     "cellMetadata": {
      "byteLimit": 2048000,
      "rowLimit": 10000
     },
     "inputWidgets": {},
     "nuid": "ffa4c9c3-ca0d-4d33-b71c-aa9718f1bc5c",
     "showTitle": false,
     "title": ""
    }
   },
   "outputs": [
    {
     "output_type": "display_data",
     "data": {
      "text/html": [
       "<style scoped>\n",
       "  .table-result-container {\n",
       "    max-height: 300px;\n",
       "    overflow: auto;\n",
       "  }\n",
       "  table, th, td {\n",
       "    border: 1px solid black;\n",
       "    border-collapse: collapse;\n",
       "  }\n",
       "  th, td {\n",
       "    padding: 5px;\n",
       "  }\n",
       "  th {\n",
       "    text-align: left;\n",
       "  }\n",
       "</style><div class='table-result-container'><table class='table-result'><thead style='background-color: white'><tr><th>EmpName</th><th>NewTechnology</th></tr></thead><tbody><tr><td>Revanth</td><td>List(ADF, Spark, ADB)</td></tr><tr><td>Revanth</td><td>List(ETL, Devops, null)</td></tr><tr><td>Revanth</td><td>List(SQL, null)</td></tr><tr><td>Revanth</td><td>null</td></tr><tr><td>Reshma</td><td>List(SSMS, null, Salesforce)</td></tr><tr><td>Reshma</td><td>List(SAP, ERP, null)</td></tr><tr><td>Reshma</td><td>null</td></tr><tr><td>Raashi</td><td>List(PythonVB, null)</td></tr><tr><td>Raashi</td><td>List(C++, GitHub, Git)</td></tr><tr><td>Krishna</td><td>List(SHELL, DRG)</td></tr><tr><td>Krishna</td><td>List(JAVA, null)</td></tr></tbody></table></div>"
      ]
     },
     "metadata": {
      "application/vnd.databricks.v1+output": {
       "addedWidgets": {},
       "aggData": [],
       "aggError": "",
       "aggOverflow": false,
       "aggSchema": [],
       "aggSeriesLimitReached": false,
       "aggType": "",
       "arguments": {},
       "columnCustomDisplayInfos": {},
       "data": [
        [
         "Revanth",
         [
          "ADF",
          "Spark",
          "ADB"
         ]
        ],
        [
         "Revanth",
         [
          "ETL",
          "Devops",
          null
         ]
        ],
        [
         "Revanth",
         [
          "SQL",
          null
         ]
        ],
        [
         "Revanth",
         null
        ],
        [
         "Reshma",
         [
          "SSMS",
          null,
          "Salesforce"
         ]
        ],
        [
         "Reshma",
         [
          "SAP",
          "ERP",
          null
         ]
        ],
        [
         "Reshma",
         null
        ],
        [
         "Raashi",
         [
          "PythonVB",
          null
         ]
        ],
        [
         "Raashi",
         [
          "C++",
          "GitHub",
          "Git"
         ]
        ],
        [
         "Krishna",
         [
          "SHELL",
          "DRG"
         ]
        ],
        [
         "Krishna",
         [
          "JAVA",
          null
         ]
        ]
       ],
       "datasetInfos": [],
       "dbfsResultPath": null,
       "isJsonSchema": true,
       "metadata": {},
       "overflow": false,
       "plotOptions": {
        "customPlotOptions": {},
        "displayType": "table",
        "pivotAggregation": null,
        "pivotColumns": null,
        "xColumns": null,
        "yColumns": null
       },
       "removedWidgets": [],
       "schema": [
        {
         "metadata": "{}",
         "name": "EmpName",
         "type": "\"string\""
        },
        {
         "metadata": "{}",
         "name": "NewTechnology",
         "type": "{\"type\":\"array\",\"elementType\":\"string\",\"containsNull\":true}"
        }
       ],
       "type": "table"
      }
     },
     "output_type": "display_data"
    }
   ],
   "source": [
    "df2 = df1.select(\"EmpName\", explode(\"Technology\").alias('NewTechnology'))\n",
    "display(df2)"
   ]
  },
  {
   "cell_type": "code",
   "execution_count": 0,
   "metadata": {
    "application/vnd.databricks.v1+cell": {
     "cellMetadata": {
      "byteLimit": 2048000,
      "rowLimit": 10000
     },
     "inputWidgets": {},
     "nuid": "d8602733-0fc1-422d-bd62-9a4ae654c0df",
     "showTitle": false,
     "title": ""
    }
   },
   "outputs": [
    {
     "output_type": "display_data",
     "data": {
      "text/html": [
       "<style scoped>\n",
       "  .table-result-container {\n",
       "    max-height: 300px;\n",
       "    overflow: auto;\n",
       "  }\n",
       "  table, th, td {\n",
       "    border: 1px solid black;\n",
       "    border-collapse: collapse;\n",
       "  }\n",
       "  th, td {\n",
       "    padding: 5px;\n",
       "  }\n",
       "  th {\n",
       "    text-align: left;\n",
       "  }\n",
       "</style><div class='table-result-container'><table class='table-result'><thead style='background-color: white'><tr><th>EmpName</th><th>CoreTechnology</th></tr></thead><tbody><tr><td>Revanth</td><td>ADF</td></tr><tr><td>Revanth</td><td>Spark</td></tr><tr><td>Revanth</td><td>ADB</td></tr><tr><td>Revanth</td><td>ETL</td></tr><tr><td>Revanth</td><td>Devops</td></tr><tr><td>Revanth</td><td>null</td></tr><tr><td>Revanth</td><td>SQL</td></tr><tr><td>Revanth</td><td>null</td></tr><tr><td>Reshma</td><td>SSMS</td></tr><tr><td>Reshma</td><td>null</td></tr><tr><td>Reshma</td><td>Salesforce</td></tr><tr><td>Reshma</td><td>SAP</td></tr><tr><td>Reshma</td><td>ERP</td></tr><tr><td>Reshma</td><td>null</td></tr><tr><td>Raashi</td><td>PythonVB</td></tr><tr><td>Raashi</td><td>null</td></tr><tr><td>Raashi</td><td>C++</td></tr><tr><td>Raashi</td><td>GitHub</td></tr><tr><td>Raashi</td><td>Git</td></tr><tr><td>Krishna</td><td>SHELL</td></tr><tr><td>Krishna</td><td>DRG</td></tr><tr><td>Krishna</td><td>JAVA</td></tr><tr><td>Krishna</td><td>null</td></tr></tbody></table></div>"
      ]
     },
     "metadata": {
      "application/vnd.databricks.v1+output": {
       "addedWidgets": {},
       "aggData": [],
       "aggError": "",
       "aggOverflow": false,
       "aggSchema": [],
       "aggSeriesLimitReached": false,
       "aggType": "",
       "arguments": {},
       "columnCustomDisplayInfos": {},
       "data": [
        [
         "Revanth",
         "ADF"
        ],
        [
         "Revanth",
         "Spark"
        ],
        [
         "Revanth",
         "ADB"
        ],
        [
         "Revanth",
         "ETL"
        ],
        [
         "Revanth",
         "Devops"
        ],
        [
         "Revanth",
         null
        ],
        [
         "Revanth",
         "SQL"
        ],
        [
         "Revanth",
         null
        ],
        [
         "Reshma",
         "SSMS"
        ],
        [
         "Reshma",
         null
        ],
        [
         "Reshma",
         "Salesforce"
        ],
        [
         "Reshma",
         "SAP"
        ],
        [
         "Reshma",
         "ERP"
        ],
        [
         "Reshma",
         null
        ],
        [
         "Raashi",
         "PythonVB"
        ],
        [
         "Raashi",
         null
        ],
        [
         "Raashi",
         "C++"
        ],
        [
         "Raashi",
         "GitHub"
        ],
        [
         "Raashi",
         "Git"
        ],
        [
         "Krishna",
         "SHELL"
        ],
        [
         "Krishna",
         "DRG"
        ],
        [
         "Krishna",
         "JAVA"
        ],
        [
         "Krishna",
         null
        ]
       ],
       "datasetInfos": [],
       "dbfsResultPath": null,
       "isJsonSchema": true,
       "metadata": {},
       "overflow": false,
       "plotOptions": {
        "customPlotOptions": {},
        "displayType": "table",
        "pivotAggregation": null,
        "pivotColumns": null,
        "xColumns": null,
        "yColumns": null
       },
       "removedWidgets": [],
       "schema": [
        {
         "metadata": "{}",
         "name": "EmpName",
         "type": "\"string\""
        },
        {
         "metadata": "{}",
         "name": "CoreTechnology",
         "type": "\"string\""
        }
       ],
       "type": "table"
      }
     },
     "output_type": "display_data"
    }
   ],
   "source": [
    "df3 = df2.select(\"EmpName\", explode(\"NewTechnology\").alias('CoreTechnology'))\n",
    "display(df3)"
   ]
  }
 ],
 "metadata": {
  "application/vnd.databricks.v1+notebook": {
   "dashboards": [],
   "environmentMetadata": null,
   "language": "python",
   "notebookMetadata": {
    "pythonIndentUnit": 4
   },
   "notebookName": "14_Databricks_Pyspark: flatten Array of Array into rows",
   "widgets": {}
  }
 },
 "nbformat": 4,
 "nbformat_minor": 0
}
