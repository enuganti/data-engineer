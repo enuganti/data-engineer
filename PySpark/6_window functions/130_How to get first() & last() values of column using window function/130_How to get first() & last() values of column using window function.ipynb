{
 "cells": [
  {
   "cell_type": "markdown",
   "metadata": {
    "application/vnd.databricks.v1+cell": {
     "cellMetadata": {},
     "inputWidgets": {},
     "nuid": "4236b8f5-b213-4141-9fb5-14434a2e7544",
     "showTitle": false,
     "tableResultSettingsMap": {},
     "title": ""
    }
   },
   "source": [
    "**first:**\n",
    "- is one of **window function** which returns **first value** of a column of each window.\n",
    "\n",
    "      df.withColumn(\"FirstValue\", first(\"columnA\").over(Window.partitionBy(\"ColumnB\").orderBy(\"ColumnC\")))\n",
    "\n",
    "**last:**\n",
    "- is one of **window function** which returns **last value** of a column of each window.\n",
    "\n",
    "      df.withColumn(\"LastValue\", last(\"columnA\").over(Window.partitionBy(\"ColumnB\").orderBy(\"ColumnC\")))"
   ]
  },
  {
   "cell_type": "markdown",
   "metadata": {
    "application/vnd.databricks.v1+cell": {
     "cellMetadata": {},
     "inputWidgets": {},
     "nuid": "1c9c0630-604b-4751-9932-8118769c6692",
     "showTitle": false,
     "tableResultSettingsMap": {},
     "title": ""
    }
   },
   "source": [
    "**ignorenulls:** Column or str\n",
    "- if **first value** is **null** then look for **first non-null value**."
   ]
  },
  {
   "cell_type": "markdown",
   "metadata": {
    "application/vnd.databricks.v1+cell": {
     "cellMetadata": {},
     "inputWidgets": {},
     "nuid": "3dc2dfea-2d7c-4671-8ee5-4025a36ab639",
     "showTitle": false,
     "tableResultSettingsMap": {},
     "title": ""
    }
   },
   "source": [
    "**return first value**\n",
    "\n",
    "     df.select(first(\"salary\"))     \n",
    "     df.select(first(df.salary, ignorenulls=True)) # To return the first non-null value instead\n",
    "\n",
    "**group by & aggregate**\n",
    "\n",
    "     df.groupBy(\"department\") \\\n",
    "       .agg(first(\"salary\").alias(\"First_Salary\"), last(\"salary\").alias(\"Last_Salary\"))\n",
    "\n",
    "     df.groupBy(\"department\") \\\n",
    "       .agg(first(\"salary\", ignorenulls=True).alias(\"First_Salary\"), last(\"salary\", ignorenulls=True).alias(\"Last_Salary\")) \\\n",
    "       .orderBy(\"department\")\n",
    "\n",
    "**window function**\n",
    "\n",
    "     from pyspark.sql.window import Window\n",
    "     df_window_null = df.withColumn(\"first_salary\", first(\"salary\").over(Window.partitionBy(\"department\"))) \\\n",
    "                        .withColumn(\"last_salary\", last(\"salary\").over(Window.partitionBy(\"department\"))) \\\n",
    "                        .orderBy(\"department\")\n",
    "\n",
    "     df_window_ignore = df.withColumn(\"first_salary\", first(\"salary\", ignorenulls=True).over(Window.partitionBy(\"department\"))) \\\n",
    "                          .withColumn(\"last_salary\", last(\"salary\", ignorenulls=True).over(Window.partitionBy(\"department\"))) \\\n",
    "                          .orderBy(\"department\")"
   ]
  },
  {
   "cell_type": "code",
   "execution_count": 0,
   "metadata": {
    "application/vnd.databricks.v1+cell": {
     "cellMetadata": {
      "byteLimit": 2048000,
      "rowLimit": 10000
     },
     "inputWidgets": {},
     "nuid": "44ab02c0-21d6-4d1b-a4e0-50b395531a35",
     "showTitle": false,
     "tableResultSettingsMap": {},
     "title": ""
    }
   },
   "outputs": [],
   "source": [
    "from pyspark.sql.functions import first, last, to_date, col"
   ]
  },
  {
   "cell_type": "markdown",
   "metadata": {
    "application/vnd.databricks.v1+cell": {
     "cellMetadata": {},
     "inputWidgets": {},
     "nuid": "cf57573e-a0ba-4959-9fb5-540c935d1d5b",
     "showTitle": false,
     "tableResultSettingsMap": {},
     "title": ""
    }
   },
   "source": [
    "#### **PySpark**"
   ]
  },
  {
   "cell_type": "code",
   "execution_count": 0,
   "metadata": {
    "application/vnd.databricks.v1+cell": {
     "cellMetadata": {
      "byteLimit": 2048000,
      "rowLimit": 10000
     },
     "inputWidgets": {},
     "nuid": "d7529dcf-9ece-4d0b-9727-0732abdf890e",
     "showTitle": false,
     "tableResultSettingsMap": {},
     "title": ""
    }
   },
   "outputs": [
    {
     "output_type": "display_data",
     "data": {
      "text/html": [
       "<style scoped>\n",
       "  .table-result-container {\n",
       "    max-height: 300px;\n",
       "    overflow: auto;\n",
       "  }\n",
       "  table, th, td {\n",
       "    border: 1px solid black;\n",
       "    border-collapse: collapse;\n",
       "  }\n",
       "  th, td {\n",
       "    padding: 5px;\n",
       "  }\n",
       "  th {\n",
       "    text-align: left;\n",
       "  }\n",
       "</style><div class='table-result-container'><table class='table-result'><thead style='background-color: white'><tr><th>employee_name</th><th>department</th><th>salary</th><th>start_date</th></tr></thead><tbody><tr><td>Prakash</td><td>IT</td><td>8000</td><td>2023-03-15</td></tr><tr><td>Syamala</td><td>Finance</td><td>7600</td><td>2023-04-16</td></tr><tr><td>Ritesh</td><td>IT</td><td>5100</td><td>2023-05-10</td></tr><tr><td>Robert</td><td>Marketing</td><td>4000</td><td>2023-06-25</td></tr><tr><td>Harsha</td><td>Sales</td><td>2000</td><td>2023-07-27</td></tr><tr><td>Harsha</td><td>Sales</td><td>null</td><td>2023-08-11</td></tr><tr><td>Senthil</td><td>Finance</td><td>3500</td><td>2023-09-12</td></tr><tr><td>Parthiv</td><td>IT</td><td>4900</td><td>2023-10-13</td></tr><tr><td>Prabhav</td><td>Marketing</td><td>4000</td><td>2023-11-19</td></tr><tr><td>Prabhav</td><td>Marketing</td><td>null</td><td>2023-12-20</td></tr><tr><td>Pandya</td><td>IT</td><td>3000</td><td>2023-01-01</td></tr><tr><td>Anil</td><td>Sales</td><td>5100</td><td>2024-10-04</td></tr><tr><td>Anil</td><td>Sales</td><td>null</td><td>2024-09-08</td></tr></tbody></table></div>"
      ]
     },
     "metadata": {
      "application/vnd.databricks.v1+output": {
       "addedWidgets": {},
       "aggData": [],
       "aggError": "",
       "aggOverflow": false,
       "aggSchema": [],
       "aggSeriesLimitReached": false,
       "aggType": "",
       "arguments": {},
       "columnCustomDisplayInfos": {},
       "data": [
        [
         "Prakash",
         "IT",
         8000,
         "2023-03-15"
        ],
        [
         "Syamala",
         "Finance",
         7600,
         "2023-04-16"
        ],
        [
         "Ritesh",
         "IT",
         5100,
         "2023-05-10"
        ],
        [
         "Robert",
         "Marketing",
         4000,
         "2023-06-25"
        ],
        [
         "Harsha",
         "Sales",
         2000,
         "2023-07-27"
        ],
        [
         "Harsha",
         "Sales",
         null,
         "2023-08-11"
        ],
        [
         "Senthil",
         "Finance",
         3500,
         "2023-09-12"
        ],
        [
         "Parthiv",
         "IT",
         4900,
         "2023-10-13"
        ],
        [
         "Prabhav",
         "Marketing",
         4000,
         "2023-11-19"
        ],
        [
         "Prabhav",
         "Marketing",
         null,
         "2023-12-20"
        ],
        [
         "Pandya",
         "IT",
         3000,
         "2023-01-01"
        ],
        [
         "Anil",
         "Sales",
         5100,
         "2024-10-04"
        ],
        [
         "Anil",
         "Sales",
         null,
         "2024-09-08"
        ]
       ],
       "datasetInfos": [],
       "dbfsResultPath": null,
       "isJsonSchema": true,
       "metadata": {},
       "overflow": false,
       "plotOptions": {
        "customPlotOptions": {},
        "displayType": "table",
        "pivotAggregation": null,
        "pivotColumns": null,
        "xColumns": null,
        "yColumns": null
       },
       "removedWidgets": [],
       "schema": [
        {
         "metadata": "{}",
         "name": "employee_name",
         "type": "\"string\""
        },
        {
         "metadata": "{}",
         "name": "department",
         "type": "\"string\""
        },
        {
         "metadata": "{}",
         "name": "salary",
         "type": "\"long\""
        },
        {
         "metadata": "{}",
         "name": "start_date",
         "type": "\"date\""
        }
       ],
       "type": "table"
      }
     },
     "output_type": "display_data"
    }
   ],
   "source": [
    "data = [(\"Prakash\", \"IT\", 8000, \"2023-03-15\"),\n",
    "        (\"Syamala\", \"Finance\", 7600, \"2023-04-16\"),\n",
    "        (\"Ritesh\", \"IT\", 5100, \"2023-05-10\"),\t\n",
    "        (\"Robert\", \"Marketing\", 4000, \"2023-06-25\"),\n",
    "        (\"Harsha\", \"Sales\", 2000, \"2023-07-27\"),\n",
    "        (\"Harsha\", \"Sales\", None, \"2023-08-11\"),\n",
    "        (\"Senthil\", \"Finance\", 3500, \"2023-09-12\"),\n",
    "        (\"Parthiv\", \"IT\", 4900, \"2023-10-13\"),\n",
    "        (\"Prabhav\", \"Marketing\", 4000, \"2023-11-19\"),\n",
    "        (\"Prabhav\", \"Marketing\", None, \"2023-12-20\"),\n",
    "        (\"Pandya\", \"IT\", 3000, \"2023-01-01\"),\n",
    "        (\"Anil\", \"Sales\", 5100, \"2024-10-04\"),\n",
    "        (\"Anil\", \"Sales\", None, \"2024-09-08\")\n",
    "        ]\n",
    "schema = [\"employee_name\", \"department\", \"salary\", \"start_date\"]\n",
    "\n",
    "df = spark.createDataFrame(data, schema)\n",
    "\n",
    "# convert the \"date\" data type\n",
    "df = df.withColumn(\"start_date\", to_date(col(\"start_date\")))\n",
    "display(df)"
   ]
  },
  {
   "cell_type": "markdown",
   "metadata": {
    "application/vnd.databricks.v1+cell": {
     "cellMetadata": {},
     "inputWidgets": {},
     "nuid": "accaaec9-a088-4875-aa68-9ed684f5ea6e",
     "showTitle": false,
     "tableResultSettingsMap": {},
     "title": ""
    }
   },
   "source": [
    "**1) Using first() and last() with orderBy()**"
   ]
  },
  {
   "cell_type": "code",
   "execution_count": 0,
   "metadata": {
    "application/vnd.databricks.v1+cell": {
     "cellMetadata": {
      "byteLimit": 2048000,
      "rowLimit": 10000
     },
     "inputWidgets": {},
     "nuid": "72fa92a8-2f65-4d49-8dc1-9a1b4380658b",
     "showTitle": false,
     "tableResultSettingsMap": {},
     "title": ""
    }
   },
   "outputs": [
    {
     "output_type": "display_data",
     "data": {
      "text/html": [
       "<style scoped>\n",
       "  .table-result-container {\n",
       "    max-height: 300px;\n",
       "    overflow: auto;\n",
       "  }\n",
       "  table, th, td {\n",
       "    border: 1px solid black;\n",
       "    border-collapse: collapse;\n",
       "  }\n",
       "  th, td {\n",
       "    padding: 5px;\n",
       "  }\n",
       "  th {\n",
       "    text-align: left;\n",
       "  }\n",
       "</style><div class='table-result-container'><table class='table-result'><thead style='background-color: white'><tr><th>employee_name</th><th>department</th><th>salary</th><th>start_date</th></tr></thead><tbody><tr><td>Harsha</td><td>Sales</td><td>null</td><td>2023-08-11</td></tr><tr><td>Prabhav</td><td>Marketing</td><td>null</td><td>2023-12-20</td></tr><tr><td>Anil</td><td>Sales</td><td>null</td><td>2024-09-08</td></tr><tr><td>Harsha</td><td>Sales</td><td>2000</td><td>2023-07-27</td></tr><tr><td>Pandya</td><td>IT</td><td>3000</td><td>2023-01-01</td></tr><tr><td>Senthil</td><td>Finance</td><td>3500</td><td>2023-09-12</td></tr><tr><td>Robert</td><td>Marketing</td><td>4000</td><td>2023-06-25</td></tr><tr><td>Prabhav</td><td>Marketing</td><td>4000</td><td>2023-11-19</td></tr><tr><td>Parthiv</td><td>IT</td><td>4900</td><td>2023-10-13</td></tr><tr><td>Anil</td><td>Sales</td><td>5100</td><td>2024-10-04</td></tr><tr><td>Ritesh</td><td>IT</td><td>5100</td><td>2023-05-10</td></tr><tr><td>Syamala</td><td>Finance</td><td>7600</td><td>2023-04-16</td></tr><tr><td>Prakash</td><td>IT</td><td>8000</td><td>2023-03-15</td></tr></tbody></table></div>"
      ]
     },
     "metadata": {
      "application/vnd.databricks.v1+output": {
       "addedWidgets": {},
       "aggData": [],
       "aggError": "",
       "aggOverflow": false,
       "aggSchema": [],
       "aggSeriesLimitReached": false,
       "aggType": "",
       "arguments": {},
       "columnCustomDisplayInfos": {},
       "data": [
        [
         "Harsha",
         "Sales",
         null,
         "2023-08-11"
        ],
        [
         "Prabhav",
         "Marketing",
         null,
         "2023-12-20"
        ],
        [
         "Anil",
         "Sales",
         null,
         "2024-09-08"
        ],
        [
         "Harsha",
         "Sales",
         2000,
         "2023-07-27"
        ],
        [
         "Pandya",
         "IT",
         3000,
         "2023-01-01"
        ],
        [
         "Senthil",
         "Finance",
         3500,
         "2023-09-12"
        ],
        [
         "Robert",
         "Marketing",
         4000,
         "2023-06-25"
        ],
        [
         "Prabhav",
         "Marketing",
         4000,
         "2023-11-19"
        ],
        [
         "Parthiv",
         "IT",
         4900,
         "2023-10-13"
        ],
        [
         "Anil",
         "Sales",
         5100,
         "2024-10-04"
        ],
        [
         "Ritesh",
         "IT",
         5100,
         "2023-05-10"
        ],
        [
         "Syamala",
         "Finance",
         7600,
         "2023-04-16"
        ],
        [
         "Prakash",
         "IT",
         8000,
         "2023-03-15"
        ]
       ],
       "datasetInfos": [],
       "dbfsResultPath": null,
       "isJsonSchema": true,
       "metadata": {},
       "overflow": false,
       "plotOptions": {
        "customPlotOptions": {},
        "displayType": "table",
        "pivotAggregation": null,
        "pivotColumns": null,
        "xColumns": null,
        "yColumns": null
       },
       "removedWidgets": [],
       "schema": [
        {
         "metadata": "{}",
         "name": "employee_name",
         "type": "\"string\""
        },
        {
         "metadata": "{}",
         "name": "department",
         "type": "\"string\""
        },
        {
         "metadata": "{}",
         "name": "salary",
         "type": "\"long\""
        },
        {
         "metadata": "{}",
         "name": "start_date",
         "type": "\"date\""
        }
       ],
       "type": "table"
      }
     },
     "output_type": "display_data"
    }
   ],
   "source": [
    "df = df.orderBy(col(\"salary\"))\n",
    "display(df)"
   ]
  },
  {
   "cell_type": "code",
   "execution_count": 0,
   "metadata": {
    "application/vnd.databricks.v1+cell": {
     "cellMetadata": {
      "byteLimit": 2048000,
      "rowLimit": 10000
     },
     "inputWidgets": {},
     "nuid": "a02b2941-a9d9-4d49-b882-8fc56a8ef636",
     "showTitle": false,
     "tableResultSettingsMap": {},
     "title": ""
    }
   },
   "outputs": [
    {
     "output_type": "display_data",
     "data": {
      "text/html": [
       "<style scoped>\n",
       "  .table-result-container {\n",
       "    max-height: 300px;\n",
       "    overflow: auto;\n",
       "  }\n",
       "  table, th, td {\n",
       "    border: 1px solid black;\n",
       "    border-collapse: collapse;\n",
       "  }\n",
       "  th, td {\n",
       "    padding: 5px;\n",
       "  }\n",
       "  th {\n",
       "    text-align: left;\n",
       "  }\n",
       "</style><div class='table-result-container'><table class='table-result'><thead style='background-color: white'><tr><th>First_Salary</th><th>Last_Salary</th></tr></thead><tbody><tr><td>null</td><td>8000</td></tr></tbody></table></div>"
      ]
     },
     "metadata": {
      "application/vnd.databricks.v1+output": {
       "addedWidgets": {},
       "aggData": [],
       "aggError": "",
       "aggOverflow": false,
       "aggSchema": [],
       "aggSeriesLimitReached": false,
       "aggType": "",
       "arguments": {},
       "columnCustomDisplayInfos": {},
       "data": [
        [
         null,
         8000
        ]
       ],
       "datasetInfos": [],
       "dbfsResultPath": null,
       "isJsonSchema": true,
       "metadata": {},
       "overflow": false,
       "plotOptions": {
        "customPlotOptions": {},
        "displayType": "table",
        "pivotAggregation": null,
        "pivotColumns": null,
        "xColumns": null,
        "yColumns": null
       },
       "removedWidgets": [],
       "schema": [
        {
         "metadata": "{}",
         "name": "First_Salary",
         "type": "\"long\""
        },
        {
         "metadata": "{}",
         "name": "Last_Salary",
         "type": "\"long\""
        }
       ],
       "type": "table"
      }
     },
     "output_type": "display_data"
    }
   ],
   "source": [
    "# First and Last based on ordering by Salary\n",
    "df.select(first(\"salary\").alias(\"First_Salary\"), last(\"salary\").alias(\"Last_Salary\")).display()"
   ]
  },
  {
   "cell_type": "markdown",
   "metadata": {
    "application/vnd.databricks.v1+cell": {
     "cellMetadata": {},
     "inputWidgets": {},
     "nuid": "51baa34a-feca-47c8-b5f2-896090ebc828",
     "showTitle": false,
     "tableResultSettingsMap": {},
     "title": ""
    }
   },
   "source": [
    "**2) Using first() and last() with select()**"
   ]
  },
  {
   "cell_type": "code",
   "execution_count": 0,
   "metadata": {
    "application/vnd.databricks.v1+cell": {
     "cellMetadata": {
      "byteLimit": 2048000,
      "rowLimit": 10000
     },
     "inputWidgets": {},
     "nuid": "4f862337-c974-406b-8469-ad3d9ae7dfb8",
     "showTitle": false,
     "tableResultSettingsMap": {},
     "title": ""
    }
   },
   "outputs": [
    {
     "output_type": "execute_result",
     "data": {
      "text/plain": [
       "Row(employee_name='Harsha', department='Sales', salary=None, start_date=datetime.date(2023, 8, 11))"
      ]
     },
     "execution_count": 6,
     "metadata": {},
     "output_type": "execute_result"
    }
   ],
   "source": [
    "# Returns the first row as a Row\n",
    "df.first()"
   ]
  },
  {
   "cell_type": "code",
   "execution_count": 0,
   "metadata": {
    "application/vnd.databricks.v1+cell": {
     "cellMetadata": {
      "byteLimit": 2048000,
      "rowLimit": 10000
     },
     "inputWidgets": {},
     "nuid": "2cdaf893-43f7-49c6-a519-ef8285e355a9",
     "showTitle": true,
     "tableResultSettingsMap": {},
     "title": "first"
    }
   },
   "outputs": [
    {
     "output_type": "display_data",
     "data": {
      "text/html": [
       "<style scoped>\n",
       "  .table-result-container {\n",
       "    max-height: 300px;\n",
       "    overflow: auto;\n",
       "  }\n",
       "  table, th, td {\n",
       "    border: 1px solid black;\n",
       "    border-collapse: collapse;\n",
       "  }\n",
       "  th, td {\n",
       "    padding: 5px;\n",
       "  }\n",
       "  th {\n",
       "    text-align: left;\n",
       "  }\n",
       "</style><div class='table-result-container'><table class='table-result'><thead style='background-color: white'><tr><th>first(salary)</th></tr></thead><tbody><tr><td>null</td></tr></tbody></table></div>"
      ]
     },
     "metadata": {
      "application/vnd.databricks.v1+output": {
       "addedWidgets": {},
       "aggData": [],
       "aggError": "",
       "aggOverflow": false,
       "aggSchema": [],
       "aggSeriesLimitReached": false,
       "aggType": "",
       "arguments": {},
       "columnCustomDisplayInfos": {},
       "data": [
        [
         null
        ]
       ],
       "datasetInfos": [],
       "dbfsResultPath": null,
       "isJsonSchema": true,
       "metadata": {},
       "overflow": false,
       "plotOptions": {
        "customPlotOptions": {},
        "displayType": "table",
        "pivotAggregation": null,
        "pivotColumns": null,
        "xColumns": null,
        "yColumns": null
       },
       "removedWidgets": [],
       "schema": [
        {
         "metadata": "{}",
         "name": "first(salary)",
         "type": "\"long\""
        }
       ],
       "type": "table"
      }
     },
     "output_type": "display_data"
    }
   ],
   "source": [
    "# Using first() function\n",
    "df.select(first(\"salary\")).display()\t"
   ]
  },
  {
   "cell_type": "code",
   "execution_count": 0,
   "metadata": {
    "application/vnd.databricks.v1+cell": {
     "cellMetadata": {
      "byteLimit": 2048000,
      "rowLimit": 10000
     },
     "inputWidgets": {},
     "nuid": "f3f4f108-7714-4d72-9ed1-b547705f9b86",
     "showTitle": true,
     "tableResultSettingsMap": {},
     "title": "first non-null value"
    }
   },
   "outputs": [
    {
     "output_type": "display_data",
     "data": {
      "text/html": [
       "<style scoped>\n",
       "  .table-result-container {\n",
       "    max-height: 300px;\n",
       "    overflow: auto;\n",
       "  }\n",
       "  table, th, td {\n",
       "    border: 1px solid black;\n",
       "    border-collapse: collapse;\n",
       "  }\n",
       "  th, td {\n",
       "    padding: 5px;\n",
       "  }\n",
       "  th {\n",
       "    text-align: left;\n",
       "  }\n",
       "</style><div class='table-result-container'><table class='table-result'><thead style='background-color: white'><tr><th>first(salary)</th></tr></thead><tbody><tr><td>2000</td></tr></tbody></table></div>"
      ]
     },
     "metadata": {
      "application/vnd.databricks.v1+output": {
       "addedWidgets": {},
       "aggData": [],
       "aggError": "",
       "aggOverflow": false,
       "aggSchema": [],
       "aggSeriesLimitReached": false,
       "aggType": "",
       "arguments": {},
       "columnCustomDisplayInfos": {},
       "data": [
        [
         2000
        ]
       ],
       "datasetInfos": [],
       "dbfsResultPath": null,
       "isJsonSchema": true,
       "metadata": {},
       "overflow": false,
       "plotOptions": {
        "customPlotOptions": {},
        "displayType": "table",
        "pivotAggregation": null,
        "pivotColumns": null,
        "xColumns": null,
        "yColumns": null
       },
       "removedWidgets": [],
       "schema": [
        {
         "metadata": "{}",
         "name": "first(salary)",
         "type": "\"long\""
        }
       ],
       "type": "table"
      }
     },
     "output_type": "display_data"
    }
   ],
   "source": [
    "# To return the first non-null value instead:\n",
    "df.select(first(df.salary, ignorenulls=True)).display()"
   ]
  },
  {
   "cell_type": "code",
   "execution_count": 0,
   "metadata": {
    "application/vnd.databricks.v1+cell": {
     "cellMetadata": {
      "byteLimit": 2048000,
      "rowLimit": 10000
     },
     "inputWidgets": {},
     "nuid": "90b25409-bf93-462a-a2d2-e61de28386f9",
     "showTitle": true,
     "tableResultSettingsMap": {},
     "title": "last"
    }
   },
   "outputs": [
    {
     "output_type": "display_data",
     "data": {
      "text/html": [
       "<style scoped>\n",
       "  .table-result-container {\n",
       "    max-height: 300px;\n",
       "    overflow: auto;\n",
       "  }\n",
       "  table, th, td {\n",
       "    border: 1px solid black;\n",
       "    border-collapse: collapse;\n",
       "  }\n",
       "  th, td {\n",
       "    padding: 5px;\n",
       "  }\n",
       "  th {\n",
       "    text-align: left;\n",
       "  }\n",
       "</style><div class='table-result-container'><table class='table-result'><thead style='background-color: white'><tr><th>last(salary)</th></tr></thead><tbody><tr><td>8000</td></tr></tbody></table></div>"
      ]
     },
     "metadata": {
      "application/vnd.databricks.v1+output": {
       "addedWidgets": {},
       "aggData": [],
       "aggError": "",
       "aggOverflow": false,
       "aggSchema": [],
       "aggSeriesLimitReached": false,
       "aggType": "",
       "arguments": {},
       "columnCustomDisplayInfos": {},
       "data": [
        [
         8000
        ]
       ],
       "datasetInfos": [],
       "dbfsResultPath": null,
       "isJsonSchema": true,
       "metadata": {},
       "overflow": false,
       "plotOptions": {
        "customPlotOptions": {},
        "displayType": "table",
        "pivotAggregation": null,
        "pivotColumns": null,
        "xColumns": null,
        "yColumns": null
       },
       "removedWidgets": [],
       "schema": [
        {
         "metadata": "{}",
         "name": "last(salary)",
         "type": "\"long\""
        }
       ],
       "type": "table"
      }
     },
     "output_type": "display_data"
    }
   ],
   "source": [
    "# Using last() function\n",
    "df.select(last(\"salary\")).display()"
   ]
  },
  {
   "cell_type": "markdown",
   "metadata": {
    "application/vnd.databricks.v1+cell": {
     "cellMetadata": {},
     "inputWidgets": {},
     "nuid": "85c6c825-1b45-4368-9839-99bb7a9cc131",
     "showTitle": false,
     "tableResultSettingsMap": {},
     "title": ""
    }
   },
   "source": [
    "**3) Using first() and last() with groupBy()**"
   ]
  },
  {
   "cell_type": "code",
   "execution_count": 0,
   "metadata": {
    "application/vnd.databricks.v1+cell": {
     "cellMetadata": {
      "byteLimit": 2048000,
      "rowLimit": 10000
     },
     "inputWidgets": {},
     "nuid": "4794a4ee-2228-4e52-97af-0e63d0b3d4e3",
     "showTitle": false,
     "tableResultSettingsMap": {},
     "title": ""
    }
   },
   "outputs": [
    {
     "output_type": "display_data",
     "data": {
      "text/html": [
       "<style scoped>\n",
       "  .table-result-container {\n",
       "    max-height: 300px;\n",
       "    overflow: auto;\n",
       "  }\n",
       "  table, th, td {\n",
       "    border: 1px solid black;\n",
       "    border-collapse: collapse;\n",
       "  }\n",
       "  th, td {\n",
       "    padding: 5px;\n",
       "  }\n",
       "  th {\n",
       "    text-align: left;\n",
       "  }\n",
       "</style><div class='table-result-container'><table class='table-result'><thead style='background-color: white'><tr><th>employee_name</th><th>department</th><th>salary</th><th>start_date</th></tr></thead><tbody><tr><td>Senthil</td><td>Finance</td><td>3500</td><td>2023-09-12</td></tr><tr><td>Syamala</td><td>Finance</td><td>7600</td><td>2023-04-16</td></tr><tr><td>Pandya</td><td>IT</td><td>3000</td><td>2023-01-01</td></tr><tr><td>Parthiv</td><td>IT</td><td>4900</td><td>2023-10-13</td></tr><tr><td>Ritesh</td><td>IT</td><td>5100</td><td>2023-05-10</td></tr><tr><td>Prakash</td><td>IT</td><td>8000</td><td>2023-03-15</td></tr><tr><td>Prabhav</td><td>Marketing</td><td>null</td><td>2023-12-20</td></tr><tr><td>Prabhav</td><td>Marketing</td><td>4000</td><td>2023-11-19</td></tr><tr><td>Robert</td><td>Marketing</td><td>4000</td><td>2023-06-25</td></tr><tr><td>Anil</td><td>Sales</td><td>null</td><td>2024-09-08</td></tr><tr><td>Harsha</td><td>Sales</td><td>null</td><td>2023-08-11</td></tr><tr><td>Harsha</td><td>Sales</td><td>2000</td><td>2023-07-27</td></tr><tr><td>Anil</td><td>Sales</td><td>5100</td><td>2024-10-04</td></tr></tbody></table></div>"
      ]
     },
     "metadata": {
      "application/vnd.databricks.v1+output": {
       "addedWidgets": {},
       "aggData": [],
       "aggError": "",
       "aggOverflow": false,
       "aggSchema": [],
       "aggSeriesLimitReached": false,
       "aggType": "",
       "arguments": {},
       "columnCustomDisplayInfos": {},
       "data": [
        [
         "Senthil",
         "Finance",
         3500,
         "2023-09-12"
        ],
        [
         "Syamala",
         "Finance",
         7600,
         "2023-04-16"
        ],
        [
         "Pandya",
         "IT",
         3000,
         "2023-01-01"
        ],
        [
         "Parthiv",
         "IT",
         4900,
         "2023-10-13"
        ],
        [
         "Ritesh",
         "IT",
         5100,
         "2023-05-10"
        ],
        [
         "Prakash",
         "IT",
         8000,
         "2023-03-15"
        ],
        [
         "Prabhav",
         "Marketing",
         null,
         "2023-12-20"
        ],
        [
         "Prabhav",
         "Marketing",
         4000,
         "2023-11-19"
        ],
        [
         "Robert",
         "Marketing",
         4000,
         "2023-06-25"
        ],
        [
         "Anil",
         "Sales",
         null,
         "2024-09-08"
        ],
        [
         "Harsha",
         "Sales",
         null,
         "2023-08-11"
        ],
        [
         "Harsha",
         "Sales",
         2000,
         "2023-07-27"
        ],
        [
         "Anil",
         "Sales",
         5100,
         "2024-10-04"
        ]
       ],
       "datasetInfos": [],
       "dbfsResultPath": null,
       "isJsonSchema": true,
       "metadata": {},
       "overflow": false,
       "plotOptions": {
        "customPlotOptions": {},
        "displayType": "table",
        "pivotAggregation": null,
        "pivotColumns": null,
        "xColumns": null,
        "yColumns": null
       },
       "removedWidgets": [],
       "schema": [
        {
         "metadata": "{}",
         "name": "employee_name",
         "type": "\"string\""
        },
        {
         "metadata": "{}",
         "name": "department",
         "type": "\"string\""
        },
        {
         "metadata": "{}",
         "name": "salary",
         "type": "\"long\""
        },
        {
         "metadata": "{}",
         "name": "start_date",
         "type": "\"date\""
        }
       ],
       "type": "table"
      }
     },
     "output_type": "display_data"
    }
   ],
   "source": [
    "df.orderBy(col(\"department\"), col(\"salary\")).display()"
   ]
  },
  {
   "cell_type": "code",
   "execution_count": 0,
   "metadata": {
    "application/vnd.databricks.v1+cell": {
     "cellMetadata": {
      "byteLimit": 2048000,
      "rowLimit": 10000
     },
     "inputWidgets": {},
     "nuid": "02511ca8-15c6-4612-b33a-0ee32d9b7a18",
     "showTitle": true,
     "tableResultSettingsMap": {},
     "title": "groupBy with first"
    }
   },
   "outputs": [
    {
     "output_type": "display_data",
     "data": {
      "text/html": [
       "<style scoped>\n",
       "  .table-result-container {\n",
       "    max-height: 300px;\n",
       "    overflow: auto;\n",
       "  }\n",
       "  table, th, td {\n",
       "    border: 1px solid black;\n",
       "    border-collapse: collapse;\n",
       "  }\n",
       "  th, td {\n",
       "    padding: 5px;\n",
       "  }\n",
       "  th {\n",
       "    text-align: left;\n",
       "  }\n",
       "</style><div class='table-result-container'><table class='table-result'><thead style='background-color: white'><tr><th>department</th><th>First_Salary</th><th>Last_Salary</th></tr></thead><tbody><tr><td>Sales</td><td>null</td><td>5100</td></tr><tr><td>Finance</td><td>3500</td><td>7600</td></tr><tr><td>Marketing</td><td>null</td><td>4000</td></tr><tr><td>IT</td><td>3000</td><td>8000</td></tr></tbody></table></div>"
      ]
     },
     "metadata": {
      "application/vnd.databricks.v1+output": {
       "addedWidgets": {},
       "aggData": [],
       "aggError": "",
       "aggOverflow": false,
       "aggSchema": [],
       "aggSeriesLimitReached": false,
       "aggType": "",
       "arguments": {},
       "columnCustomDisplayInfos": {},
       "data": [
        [
         "Sales",
         null,
         5100
        ],
        [
         "Finance",
         3500,
         7600
        ],
        [
         "Marketing",
         null,
         4000
        ],
        [
         "IT",
         3000,
         8000
        ]
       ],
       "datasetInfos": [],
       "dbfsResultPath": null,
       "isJsonSchema": true,
       "metadata": {},
       "overflow": false,
       "plotOptions": {
        "customPlotOptions": {},
        "displayType": "table",
        "pivotAggregation": null,
        "pivotColumns": null,
        "xColumns": null,
        "yColumns": null
       },
       "removedWidgets": [],
       "schema": [
        {
         "metadata": "{}",
         "name": "department",
         "type": "\"string\""
        },
        {
         "metadata": "{}",
         "name": "First_Salary",
         "type": "\"long\""
        },
        {
         "metadata": "{}",
         "name": "Last_Salary",
         "type": "\"long\""
        }
       ],
       "type": "table"
      }
     },
     "output_type": "display_data"
    }
   ],
   "source": [
    "df.groupBy(\"department\") \\\n",
    "  .agg(first(\"salary\").alias(\"First_Salary\"), last(\"salary\").alias(\"Last_Salary\")) \\\n",
    "  .display()"
   ]
  },
  {
   "cell_type": "code",
   "execution_count": 0,
   "metadata": {
    "application/vnd.databricks.v1+cell": {
     "cellMetadata": {
      "byteLimit": 2048000,
      "rowLimit": 10000
     },
     "inputWidgets": {},
     "nuid": "78112e6c-7b00-4b8b-ab19-5ebef031b3e8",
     "showTitle": true,
     "tableResultSettingsMap": {},
     "title": "groupBy with first & ignorenulls"
    }
   },
   "outputs": [
    {
     "output_type": "display_data",
     "data": {
      "text/html": [
       "<style scoped>\n",
       "  .table-result-container {\n",
       "    max-height: 300px;\n",
       "    overflow: auto;\n",
       "  }\n",
       "  table, th, td {\n",
       "    border: 1px solid black;\n",
       "    border-collapse: collapse;\n",
       "  }\n",
       "  th, td {\n",
       "    padding: 5px;\n",
       "  }\n",
       "  th {\n",
       "    text-align: left;\n",
       "  }\n",
       "</style><div class='table-result-container'><table class='table-result'><thead style='background-color: white'><tr><th>department</th><th>First_Salary</th><th>Last_Salary</th></tr></thead><tbody><tr><td>Finance</td><td>3500</td><td>7600</td></tr><tr><td>IT</td><td>3000</td><td>8000</td></tr><tr><td>Marketing</td><td>4000</td><td>4000</td></tr><tr><td>Sales</td><td>2000</td><td>5100</td></tr></tbody></table></div>"
      ]
     },
     "metadata": {
      "application/vnd.databricks.v1+output": {
       "addedWidgets": {},
       "aggData": [],
       "aggError": "",
       "aggOverflow": false,
       "aggSchema": [],
       "aggSeriesLimitReached": false,
       "aggType": "",
       "arguments": {},
       "columnCustomDisplayInfos": {},
       "data": [
        [
         "Finance",
         3500,
         7600
        ],
        [
         "IT",
         3000,
         8000
        ],
        [
         "Marketing",
         4000,
         4000
        ],
        [
         "Sales",
         2000,
         5100
        ]
       ],
       "datasetInfos": [],
       "dbfsResultPath": null,
       "isJsonSchema": true,
       "metadata": {},
       "overflow": false,
       "plotOptions": {
        "customPlotOptions": {},
        "displayType": "table",
        "pivotAggregation": null,
        "pivotColumns": null,
        "xColumns": null,
        "yColumns": null
       },
       "removedWidgets": [],
       "schema": [
        {
         "metadata": "{}",
         "name": "department",
         "type": "\"string\""
        },
        {
         "metadata": "{}",
         "name": "First_Salary",
         "type": "\"long\""
        },
        {
         "metadata": "{}",
         "name": "Last_Salary",
         "type": "\"long\""
        }
       ],
       "type": "table"
      }
     },
     "output_type": "display_data"
    }
   ],
   "source": [
    "df.groupBy(\"department\") \\\n",
    "  .agg(first(\"salary\", ignorenulls=True).alias(\"First_Salary\"), last(\"salary\", ignorenulls=True).alias(\"Last_Salary\")) \\\n",
    "  .orderBy(\"department\") \\\n",
    "  .display()"
   ]
  },
  {
   "cell_type": "code",
   "execution_count": 0,
   "metadata": {
    "application/vnd.databricks.v1+cell": {
     "cellMetadata": {
      "byteLimit": 2048000,
      "rowLimit": 10000
     },
     "inputWidgets": {},
     "nuid": "364ac2db-9cd0-4843-9e69-77cca959ff3d",
     "showTitle": true,
     "tableResultSettingsMap": {},
     "title": "window function: \"salary\""
    }
   },
   "outputs": [
    {
     "output_type": "display_data",
     "data": {
      "text/html": [
       "<style scoped>\n",
       "  .table-result-container {\n",
       "    max-height: 300px;\n",
       "    overflow: auto;\n",
       "  }\n",
       "  table, th, td {\n",
       "    border: 1px solid black;\n",
       "    border-collapse: collapse;\n",
       "  }\n",
       "  th, td {\n",
       "    padding: 5px;\n",
       "  }\n",
       "  th {\n",
       "    text-align: left;\n",
       "  }\n",
       "</style><div class='table-result-container'><table class='table-result'><thead style='background-color: white'><tr><th>employee_name</th><th>department</th><th>salary</th><th>start_date</th><th>first_salary</th><th>last_salary</th></tr></thead><tbody><tr><td>Senthil</td><td>Finance</td><td>3500</td><td>2023-09-12</td><td>3500</td><td>7600</td></tr><tr><td>Syamala</td><td>Finance</td><td>7600</td><td>2023-04-16</td><td>3500</td><td>7600</td></tr><tr><td>Pandya</td><td>IT</td><td>3000</td><td>2023-01-01</td><td>3000</td><td>8000</td></tr><tr><td>Parthiv</td><td>IT</td><td>4900</td><td>2023-10-13</td><td>3000</td><td>8000</td></tr><tr><td>Ritesh</td><td>IT</td><td>5100</td><td>2023-05-10</td><td>3000</td><td>8000</td></tr><tr><td>Prakash</td><td>IT</td><td>8000</td><td>2023-03-15</td><td>3000</td><td>8000</td></tr><tr><td>Prabhav</td><td>Marketing</td><td>null</td><td>2023-12-20</td><td>null</td><td>4000</td></tr><tr><td>Robert</td><td>Marketing</td><td>4000</td><td>2023-06-25</td><td>null</td><td>4000</td></tr><tr><td>Prabhav</td><td>Marketing</td><td>4000</td><td>2023-11-19</td><td>null</td><td>4000</td></tr><tr><td>Harsha</td><td>Sales</td><td>null</td><td>2023-08-11</td><td>null</td><td>5100</td></tr><tr><td>Anil</td><td>Sales</td><td>null</td><td>2024-09-08</td><td>null</td><td>5100</td></tr><tr><td>Harsha</td><td>Sales</td><td>2000</td><td>2023-07-27</td><td>null</td><td>5100</td></tr><tr><td>Anil</td><td>Sales</td><td>5100</td><td>2024-10-04</td><td>null</td><td>5100</td></tr></tbody></table></div>"
      ]
     },
     "metadata": {
      "application/vnd.databricks.v1+output": {
       "addedWidgets": {},
       "aggData": [],
       "aggError": "",
       "aggOverflow": false,
       "aggSchema": [],
       "aggSeriesLimitReached": false,
       "aggType": "",
       "arguments": {},
       "columnCustomDisplayInfos": {},
       "data": [
        [
         "Senthil",
         "Finance",
         3500,
         "2023-09-12",
         3500,
         7600
        ],
        [
         "Syamala",
         "Finance",
         7600,
         "2023-04-16",
         3500,
         7600
        ],
        [
         "Pandya",
         "IT",
         3000,
         "2023-01-01",
         3000,
         8000
        ],
        [
         "Parthiv",
         "IT",
         4900,
         "2023-10-13",
         3000,
         8000
        ],
        [
         "Ritesh",
         "IT",
         5100,
         "2023-05-10",
         3000,
         8000
        ],
        [
         "Prakash",
         "IT",
         8000,
         "2023-03-15",
         3000,
         8000
        ],
        [
         "Prabhav",
         "Marketing",
         null,
         "2023-12-20",
         null,
         4000
        ],
        [
         "Robert",
         "Marketing",
         4000,
         "2023-06-25",
         null,
         4000
        ],
        [
         "Prabhav",
         "Marketing",
         4000,
         "2023-11-19",
         null,
         4000
        ],
        [
         "Harsha",
         "Sales",
         null,
         "2023-08-11",
         null,
         5100
        ],
        [
         "Anil",
         "Sales",
         null,
         "2024-09-08",
         null,
         5100
        ],
        [
         "Harsha",
         "Sales",
         2000,
         "2023-07-27",
         null,
         5100
        ],
        [
         "Anil",
         "Sales",
         5100,
         "2024-10-04",
         null,
         5100
        ]
       ],
       "datasetInfos": [],
       "dbfsResultPath": null,
       "isJsonSchema": true,
       "metadata": {},
       "overflow": false,
       "plotOptions": {
        "customPlotOptions": {},
        "displayType": "table",
        "pivotAggregation": null,
        "pivotColumns": null,
        "xColumns": null,
        "yColumns": null
       },
       "removedWidgets": [],
       "schema": [
        {
         "metadata": "{}",
         "name": "employee_name",
         "type": "\"string\""
        },
        {
         "metadata": "{}",
         "name": "department",
         "type": "\"string\""
        },
        {
         "metadata": "{}",
         "name": "salary",
         "type": "\"long\""
        },
        {
         "metadata": "{}",
         "name": "start_date",
         "type": "\"date\""
        },
        {
         "metadata": "{}",
         "name": "first_salary",
         "type": "\"long\""
        },
        {
         "metadata": "{}",
         "name": "last_salary",
         "type": "\"long\""
        }
       ],
       "type": "table"
      }
     },
     "output_type": "display_data"
    }
   ],
   "source": [
    "from pyspark.sql.window import Window\n",
    "df_window_null = df.withColumn(\"first_salary\", first(\"salary\").over(Window.partitionBy(\"department\"))) \\\n",
    "                   .withColumn(\"last_salary\", last(\"salary\").over(Window.partitionBy(\"department\"))) \\\n",
    "                   .orderBy(\"department\")\n",
    "display(df_window_null)"
   ]
  },
  {
   "cell_type": "code",
   "execution_count": 0,
   "metadata": {
    "application/vnd.databricks.v1+cell": {
     "cellMetadata": {
      "byteLimit": 2048000,
      "rowLimit": 10000
     },
     "inputWidgets": {},
     "nuid": "15f144c3-c9ef-46f5-94e8-acafe1646ee9",
     "showTitle": true,
     "tableResultSettingsMap": {},
     "title": "window function: \"salary\", ignorenulls"
    }
   },
   "outputs": [
    {
     "output_type": "display_data",
     "data": {
      "text/html": [
       "<style scoped>\n",
       "  .table-result-container {\n",
       "    max-height: 300px;\n",
       "    overflow: auto;\n",
       "  }\n",
       "  table, th, td {\n",
       "    border: 1px solid black;\n",
       "    border-collapse: collapse;\n",
       "  }\n",
       "  th, td {\n",
       "    padding: 5px;\n",
       "  }\n",
       "  th {\n",
       "    text-align: left;\n",
       "  }\n",
       "</style><div class='table-result-container'><table class='table-result'><thead style='background-color: white'><tr><th>employee_name</th><th>department</th><th>salary</th><th>start_date</th><th>first_salary</th><th>last_salary</th></tr></thead><tbody><tr><td>Senthil</td><td>Finance</td><td>3500</td><td>2023-09-12</td><td>3500</td><td>7600</td></tr><tr><td>Syamala</td><td>Finance</td><td>7600</td><td>2023-04-16</td><td>3500</td><td>7600</td></tr><tr><td>Pandya</td><td>IT</td><td>3000</td><td>2023-01-01</td><td>3000</td><td>8000</td></tr><tr><td>Parthiv</td><td>IT</td><td>4900</td><td>2023-10-13</td><td>3000</td><td>8000</td></tr><tr><td>Ritesh</td><td>IT</td><td>5100</td><td>2023-05-10</td><td>3000</td><td>8000</td></tr><tr><td>Prakash</td><td>IT</td><td>8000</td><td>2023-03-15</td><td>3000</td><td>8000</td></tr><tr><td>Prabhav</td><td>Marketing</td><td>null</td><td>2023-12-20</td><td>4000</td><td>4000</td></tr><tr><td>Robert</td><td>Marketing</td><td>4000</td><td>2023-06-25</td><td>4000</td><td>4000</td></tr><tr><td>Prabhav</td><td>Marketing</td><td>4000</td><td>2023-11-19</td><td>4000</td><td>4000</td></tr><tr><td>Harsha</td><td>Sales</td><td>null</td><td>2023-08-11</td><td>2000</td><td>5100</td></tr><tr><td>Anil</td><td>Sales</td><td>null</td><td>2024-09-08</td><td>2000</td><td>5100</td></tr><tr><td>Harsha</td><td>Sales</td><td>2000</td><td>2023-07-27</td><td>2000</td><td>5100</td></tr><tr><td>Anil</td><td>Sales</td><td>5100</td><td>2024-10-04</td><td>2000</td><td>5100</td></tr></tbody></table></div>"
      ]
     },
     "metadata": {
      "application/vnd.databricks.v1+output": {
       "addedWidgets": {},
       "aggData": [],
       "aggError": "",
       "aggOverflow": false,
       "aggSchema": [],
       "aggSeriesLimitReached": false,
       "aggType": "",
       "arguments": {},
       "columnCustomDisplayInfos": {},
       "data": [
        [
         "Senthil",
         "Finance",
         3500,
         "2023-09-12",
         3500,
         7600
        ],
        [
         "Syamala",
         "Finance",
         7600,
         "2023-04-16",
         3500,
         7600
        ],
        [
         "Pandya",
         "IT",
         3000,
         "2023-01-01",
         3000,
         8000
        ],
        [
         "Parthiv",
         "IT",
         4900,
         "2023-10-13",
         3000,
         8000
        ],
        [
         "Ritesh",
         "IT",
         5100,
         "2023-05-10",
         3000,
         8000
        ],
        [
         "Prakash",
         "IT",
         8000,
         "2023-03-15",
         3000,
         8000
        ],
        [
         "Prabhav",
         "Marketing",
         null,
         "2023-12-20",
         4000,
         4000
        ],
        [
         "Robert",
         "Marketing",
         4000,
         "2023-06-25",
         4000,
         4000
        ],
        [
         "Prabhav",
         "Marketing",
         4000,
         "2023-11-19",
         4000,
         4000
        ],
        [
         "Harsha",
         "Sales",
         null,
         "2023-08-11",
         2000,
         5100
        ],
        [
         "Anil",
         "Sales",
         null,
         "2024-09-08",
         2000,
         5100
        ],
        [
         "Harsha",
         "Sales",
         2000,
         "2023-07-27",
         2000,
         5100
        ],
        [
         "Anil",
         "Sales",
         5100,
         "2024-10-04",
         2000,
         5100
        ]
       ],
       "datasetInfos": [],
       "dbfsResultPath": null,
       "isJsonSchema": true,
       "metadata": {},
       "overflow": false,
       "plotOptions": {
        "customPlotOptions": {},
        "displayType": "table",
        "pivotAggregation": null,
        "pivotColumns": null,
        "xColumns": null,
        "yColumns": null
       },
       "removedWidgets": [],
       "schema": [
        {
         "metadata": "{}",
         "name": "employee_name",
         "type": "\"string\""
        },
        {
         "metadata": "{}",
         "name": "department",
         "type": "\"string\""
        },
        {
         "metadata": "{}",
         "name": "salary",
         "type": "\"long\""
        },
        {
         "metadata": "{}",
         "name": "start_date",
         "type": "\"date\""
        },
        {
         "metadata": "{}",
         "name": "first_salary",
         "type": "\"long\""
        },
        {
         "metadata": "{}",
         "name": "last_salary",
         "type": "\"long\""
        }
       ],
       "type": "table"
      }
     },
     "output_type": "display_data"
    }
   ],
   "source": [
    "df_window_ignore = df.withColumn(\"first_salary\", first(\"salary\", ignorenulls=True).over(Window.partitionBy(\"department\"))) \\\n",
    "                     .withColumn(\"last_salary\", last(\"salary\", ignorenulls=True).over(Window.partitionBy(\"department\"))) \\\n",
    "                     .orderBy(\"department\")\n",
    "display(df_window_ignore)"
   ]
  },
  {
   "cell_type": "code",
   "execution_count": 0,
   "metadata": {
    "application/vnd.databricks.v1+cell": {
     "cellMetadata": {
      "byteLimit": 2048000,
      "rowLimit": 10000
     },
     "inputWidgets": {},
     "nuid": "d4050218-ed8a-46d4-9ac9-67cd9892f6ff",
     "showTitle": true,
     "tableResultSettingsMap": {},
     "title": "window function: \"start_date\""
    }
   },
   "outputs": [
    {
     "output_type": "display_data",
     "data": {
      "text/html": [
       "<style scoped>\n",
       "  .table-result-container {\n",
       "    max-height: 300px;\n",
       "    overflow: auto;\n",
       "  }\n",
       "  table, th, td {\n",
       "    border: 1px solid black;\n",
       "    border-collapse: collapse;\n",
       "  }\n",
       "  th, td {\n",
       "    padding: 5px;\n",
       "  }\n",
       "  th {\n",
       "    text-align: left;\n",
       "  }\n",
       "</style><div class='table-result-container'><table class='table-result'><thead style='background-color: white'><tr><th>employee_name</th><th>department</th><th>salary</th><th>start_date</th><th>first_start_date</th><th>last_start_date</th></tr></thead><tbody><tr><td>Senthil</td><td>Finance</td><td>3500</td><td>2023-09-12</td><td>2023-09-12</td><td>2023-04-16</td></tr><tr><td>Syamala</td><td>Finance</td><td>7600</td><td>2023-04-16</td><td>2023-09-12</td><td>2023-04-16</td></tr><tr><td>Pandya</td><td>IT</td><td>3000</td><td>2023-01-01</td><td>2023-01-01</td><td>2023-03-15</td></tr><tr><td>Parthiv</td><td>IT</td><td>4900</td><td>2023-10-13</td><td>2023-01-01</td><td>2023-03-15</td></tr><tr><td>Ritesh</td><td>IT</td><td>5100</td><td>2023-05-10</td><td>2023-01-01</td><td>2023-03-15</td></tr><tr><td>Prakash</td><td>IT</td><td>8000</td><td>2023-03-15</td><td>2023-01-01</td><td>2023-03-15</td></tr><tr><td>Prabhav</td><td>Marketing</td><td>null</td><td>2023-12-20</td><td>2023-12-20</td><td>2023-11-19</td></tr><tr><td>Robert</td><td>Marketing</td><td>4000</td><td>2023-06-25</td><td>2023-12-20</td><td>2023-11-19</td></tr><tr><td>Prabhav</td><td>Marketing</td><td>4000</td><td>2023-11-19</td><td>2023-12-20</td><td>2023-11-19</td></tr><tr><td>Harsha</td><td>Sales</td><td>null</td><td>2023-08-11</td><td>2023-08-11</td><td>2024-10-04</td></tr><tr><td>Anil</td><td>Sales</td><td>null</td><td>2024-09-08</td><td>2023-08-11</td><td>2024-10-04</td></tr><tr><td>Harsha</td><td>Sales</td><td>2000</td><td>2023-07-27</td><td>2023-08-11</td><td>2024-10-04</td></tr><tr><td>Anil</td><td>Sales</td><td>5100</td><td>2024-10-04</td><td>2023-08-11</td><td>2024-10-04</td></tr></tbody></table></div>"
      ]
     },
     "metadata": {
      "application/vnd.databricks.v1+output": {
       "addedWidgets": {},
       "aggData": [],
       "aggError": "",
       "aggOverflow": false,
       "aggSchema": [],
       "aggSeriesLimitReached": false,
       "aggType": "",
       "arguments": {},
       "columnCustomDisplayInfos": {},
       "data": [
        [
         "Senthil",
         "Finance",
         3500,
         "2023-09-12",
         "2023-09-12",
         "2023-04-16"
        ],
        [
         "Syamala",
         "Finance",
         7600,
         "2023-04-16",
         "2023-09-12",
         "2023-04-16"
        ],
        [
         "Pandya",
         "IT",
         3000,
         "2023-01-01",
         "2023-01-01",
         "2023-03-15"
        ],
        [
         "Parthiv",
         "IT",
         4900,
         "2023-10-13",
         "2023-01-01",
         "2023-03-15"
        ],
        [
         "Ritesh",
         "IT",
         5100,
         "2023-05-10",
         "2023-01-01",
         "2023-03-15"
        ],
        [
         "Prakash",
         "IT",
         8000,
         "2023-03-15",
         "2023-01-01",
         "2023-03-15"
        ],
        [
         "Prabhav",
         "Marketing",
         null,
         "2023-12-20",
         "2023-12-20",
         "2023-11-19"
        ],
        [
         "Robert",
         "Marketing",
         4000,
         "2023-06-25",
         "2023-12-20",
         "2023-11-19"
        ],
        [
         "Prabhav",
         "Marketing",
         4000,
         "2023-11-19",
         "2023-12-20",
         "2023-11-19"
        ],
        [
         "Harsha",
         "Sales",
         null,
         "2023-08-11",
         "2023-08-11",
         "2024-10-04"
        ],
        [
         "Anil",
         "Sales",
         null,
         "2024-09-08",
         "2023-08-11",
         "2024-10-04"
        ],
        [
         "Harsha",
         "Sales",
         2000,
         "2023-07-27",
         "2023-08-11",
         "2024-10-04"
        ],
        [
         "Anil",
         "Sales",
         5100,
         "2024-10-04",
         "2023-08-11",
         "2024-10-04"
        ]
       ],
       "datasetInfos": [],
       "dbfsResultPath": null,
       "isJsonSchema": true,
       "metadata": {},
       "overflow": false,
       "plotOptions": {
        "customPlotOptions": {},
        "displayType": "table",
        "pivotAggregation": null,
        "pivotColumns": null,
        "xColumns": null,
        "yColumns": null
       },
       "removedWidgets": [],
       "schema": [
        {
         "metadata": "{}",
         "name": "employee_name",
         "type": "\"string\""
        },
        {
         "metadata": "{}",
         "name": "department",
         "type": "\"string\""
        },
        {
         "metadata": "{}",
         "name": "salary",
         "type": "\"long\""
        },
        {
         "metadata": "{}",
         "name": "start_date",
         "type": "\"date\""
        },
        {
         "metadata": "{}",
         "name": "first_start_date",
         "type": "\"date\""
        },
        {
         "metadata": "{}",
         "name": "last_start_date",
         "type": "\"date\""
        }
       ],
       "type": "table"
      }
     },
     "output_type": "display_data"
    }
   ],
   "source": [
    "df_window = df.withColumn(\"first_start_date\", first(\"start_date\").over(Window.partitionBy(\"department\"))) \\\n",
    "              .withColumn(\"last_start_date\", last(\"start_date\").over(Window.partitionBy(\"department\"))) \\\n",
    "              .orderBy(\"department\")\n",
    "display(df_window)"
   ]
  },
  {
   "cell_type": "markdown",
   "metadata": {
    "application/vnd.databricks.v1+cell": {
     "cellMetadata": {},
     "inputWidgets": {},
     "nuid": "c675c500-ce0b-499e-8538-9ebd25c69b67",
     "showTitle": false,
     "tableResultSettingsMap": {},
     "title": ""
    }
   },
   "source": [
    "#### **Spark SQL**"
   ]
  },
  {
   "cell_type": "code",
   "execution_count": 0,
   "metadata": {
    "application/vnd.databricks.v1+cell": {
     "cellMetadata": {
      "byteLimit": 2048000,
      "rowLimit": 10000
     },
     "inputWidgets": {},
     "nuid": "9d112dc9-0e22-4688-9c1e-9422725e218a",
     "showTitle": false,
     "tableResultSettingsMap": {},
     "title": ""
    }
   },
   "outputs": [],
   "source": [
    "# Convert DataFrame to temparory view\n",
    "df.createOrReplaceTempView(\"transaction\")"
   ]
  },
  {
   "cell_type": "code",
   "execution_count": 0,
   "metadata": {
    "application/vnd.databricks.v1+cell": {
     "cellMetadata": {
      "byteLimit": 2048000,
      "rowLimit": 10000
     },
     "inputWidgets": {},
     "nuid": "1db3772c-40ed-4871-95da-01b1e93bca31",
     "showTitle": false,
     "tableResultSettingsMap": {},
     "title": ""
    }
   },
   "outputs": [
    {
     "output_type": "display_data",
     "data": {
      "text/html": [
       "<style scoped>\n",
       "  .table-result-container {\n",
       "    max-height: 300px;\n",
       "    overflow: auto;\n",
       "  }\n",
       "  table, th, td {\n",
       "    border: 1px solid black;\n",
       "    border-collapse: collapse;\n",
       "  }\n",
       "  th, td {\n",
       "    padding: 5px;\n",
       "  }\n",
       "  th {\n",
       "    text-align: left;\n",
       "  }\n",
       "</style><div class='table-result-container'><table class='table-result'><thead style='background-color: white'><tr><th>First_Salary</th><th>Last_Salary</th><th>First_start_date</th><th>Last_start_date</th></tr></thead><tbody><tr><td>null</td><td>8000</td><td>2023-08-11</td><td>2023-03-15</td></tr></tbody></table></div>"
      ]
     },
     "metadata": {
      "application/vnd.databricks.v1+output": {
       "addedWidgets": {},
       "aggData": [],
       "aggError": "",
       "aggOverflow": false,
       "aggSchema": [],
       "aggSeriesLimitReached": false,
       "aggType": "",
       "arguments": {},
       "columnCustomDisplayInfos": {},
       "data": [
        [
         null,
         8000,
         "2023-08-11",
         "2023-03-15"
        ]
       ],
       "datasetInfos": [],
       "dbfsResultPath": null,
       "isJsonSchema": true,
       "metadata": {},
       "overflow": false,
       "plotOptions": {
        "customPlotOptions": {},
        "displayType": "table",
        "pivotAggregation": null,
        "pivotColumns": null,
        "xColumns": null,
        "yColumns": null
       },
       "removedWidgets": [],
       "schema": [
        {
         "metadata": "{}",
         "name": "First_Salary",
         "type": "\"long\""
        },
        {
         "metadata": "{}",
         "name": "Last_Salary",
         "type": "\"long\""
        },
        {
         "metadata": "{}",
         "name": "First_start_date",
         "type": "\"date\""
        },
        {
         "metadata": "{}",
         "name": "Last_start_date",
         "type": "\"date\""
        }
       ],
       "type": "table"
      }
     },
     "output_type": "display_data"
    }
   ],
   "source": [
    "spark_sql = spark.sql(\"\"\"SELECT FIRST(salary) AS First_Salary, LAST(salary) AS Last_Salary,\n",
    "                                FIRST(start_date) AS First_start_date, LAST(start_date) AS Last_start_date\n",
    "                         FROM transaction\n",
    "                      \"\"\")\n",
    "\n",
    "display(spark_sql)"
   ]
  },
  {
   "cell_type": "code",
   "execution_count": 0,
   "metadata": {
    "application/vnd.databricks.v1+cell": {
     "cellMetadata": {
      "byteLimit": 2048000,
      "implicitDf": true,
      "rowLimit": 10000
     },
     "inputWidgets": {},
     "nuid": "0e1d16b6-2fc0-4562-a814-e45cea422f5d",
     "showTitle": false,
     "tableResultSettingsMap": {},
     "title": ""
    }
   },
   "outputs": [
    {
     "output_type": "display_data",
     "data": {
      "text/html": [
       "<style scoped>\n",
       "  .table-result-container {\n",
       "    max-height: 300px;\n",
       "    overflow: auto;\n",
       "  }\n",
       "  table, th, td {\n",
       "    border: 1px solid black;\n",
       "    border-collapse: collapse;\n",
       "  }\n",
       "  th, td {\n",
       "    padding: 5px;\n",
       "  }\n",
       "  th {\n",
       "    text-align: left;\n",
       "  }\n",
       "</style><div class='table-result-container'><table class='table-result'><thead style='background-color: white'><tr><th>department</th><th>first_salary</th><th>last_salary</th><th>first_start_date</th><th>last_start_date</th></tr></thead><tbody><tr><td>Finance</td><td>3500</td><td>7600</td><td>2023-09-12</td><td>2023-04-16</td></tr><tr><td>IT</td><td>3000</td><td>8000</td><td>2023-01-01</td><td>2023-03-15</td></tr><tr><td>Marketing</td><td>null</td><td>4000</td><td>2023-12-20</td><td>2023-11-19</td></tr><tr><td>Sales</td><td>null</td><td>5100</td><td>2023-08-11</td><td>2024-10-04</td></tr></tbody></table></div>"
      ]
     },
     "metadata": {
      "application/vnd.databricks.v1+output": {
       "addedWidgets": {},
       "aggData": [],
       "aggError": "",
       "aggOverflow": false,
       "aggSchema": [],
       "aggSeriesLimitReached": false,
       "aggType": "",
       "arguments": {},
       "columnCustomDisplayInfos": {},
       "data": [
        [
         "Finance",
         3500,
         7600,
         "2023-09-12",
         "2023-04-16"
        ],
        [
         "IT",
         3000,
         8000,
         "2023-01-01",
         "2023-03-15"
        ],
        [
         "Marketing",
         null,
         4000,
         "2023-12-20",
         "2023-11-19"
        ],
        [
         "Sales",
         null,
         5100,
         "2023-08-11",
         "2024-10-04"
        ]
       ],
       "datasetInfos": [],
       "dbfsResultPath": null,
       "isJsonSchema": true,
       "metadata": {
        "createTempViewForImplicitDf": true,
        "dataframeName": "_sqldf",
        "executionCount": 50
       },
       "overflow": false,
       "plotOptions": {
        "customPlotOptions": {},
        "displayType": "table",
        "pivotAggregation": null,
        "pivotColumns": null,
        "xColumns": null,
        "yColumns": null
       },
       "removedWidgets": [],
       "schema": [
        {
         "metadata": "{}",
         "name": "department",
         "type": "\"string\""
        },
        {
         "metadata": "{}",
         "name": "first_salary",
         "type": "\"long\""
        },
        {
         "metadata": "{}",
         "name": "last_salary",
         "type": "\"long\""
        },
        {
         "metadata": "{}",
         "name": "first_start_date",
         "type": "\"date\""
        },
        {
         "metadata": "{}",
         "name": "last_start_date",
         "type": "\"date\""
        }
       ],
       "type": "table"
      }
     },
     "output_type": "display_data"
    }
   ],
   "source": [
    "%sql\n",
    "SELECT DISTINCT department,\n",
    "       FIRST(salary) OVER (PARTITION BY department) AS first_salary,\n",
    "       LAST(salary) OVER (PARTITION BY department) AS last_salary,\n",
    "       FIRST(start_date) OVER (PARTITION BY department) AS first_start_date,\n",
    "       LAST(start_date) OVER (PARTITION BY department) AS last_start_date\n",
    "FROM transaction\n",
    "ORDER BY department;"
   ]
  }
 ],
 "metadata": {
  "application/vnd.databricks.v1+notebook": {
   "computePreferences": null,
   "dashboards": [],
   "environmentMetadata": {
    "base_environment": "",
    "environment_version": "1"
   },
   "inputWidgetPreferences": null,
   "language": "python",
   "notebookMetadata": {
    "mostRecentlyExecutedCommandWithImplicitDF": {
     "commandId": 4284158186112794,
     "dataframes": [
      "_sqldf"
     ]
    },
    "pythonIndentUnit": 4
   },
   "notebookName": "130_How to get first() & last() values of column using window function",
   "widgets": {}
  },
  "language_info": {
   "name": "python"
  }
 },
 "nbformat": 4,
 "nbformat_minor": 0
}