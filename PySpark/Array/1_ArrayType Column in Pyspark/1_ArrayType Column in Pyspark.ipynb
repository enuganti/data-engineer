{
 "cells": [
  {
   "cell_type": "markdown",
   "metadata": {
    "application/vnd.databricks.v1+cell": {
     "cellMetadata": {
      "byteLimit": 2048000,
      "rowLimit": 10000
     },
     "inputWidgets": {},
     "nuid": "a3322d5f-6295-4eaa-838d-e609e1a6f572",
     "showTitle": false,
     "title": ""
    }
   },
   "source": [
    "#### **Array**\n",
    "\n",
    "- Array function is used to create a **new column** of **array type** by **combining two columns**.\n",
    "- All input columns must have the **same data type**.\n",
    "- **All elements** of ArrayType should have the **same type of elements**.\n",
    "- when we work with **json** data, it is very common to get **ArrayType columns**.  \n",
    "- You can think of a **PySpark array** column in a similar way to a **Python list**.\n",
    "\n",
    "**Why Change a Column from String to Array?**\n",
    "\n",
    "- In PySpark, the **explode** function is used to **transform each element** of an **array** in a DataFrame column into a **separate row**. However, this function requires the column to be an **array**. If your data is in **string** format, you’ll need to **convert it to an array** before using explode."
   ]
  },
  {
   "cell_type": "markdown",
   "metadata": {
    "application/vnd.databricks.v1+cell": {
     "cellMetadata": {
      "byteLimit": 2048000,
      "rowLimit": 10000
     },
     "inputWidgets": {},
     "nuid": "2e652852-ab5d-4c00-8004-4070eea992b8",
     "showTitle": false,
     "title": ""
    }
   },
   "source": [
    "     How to transform Integer Column to Array Type?\n",
    "     How to transform String Columns to Array Type?\n",
    "     How to get size of an Array?"
   ]
  },
  {
   "cell_type": "markdown",
   "metadata": {
    "application/vnd.databricks.v1+cell": {
     "cellMetadata": {
      "byteLimit": 2048000,
      "rowLimit": 10000
     },
     "inputWidgets": {},
     "nuid": "92d617e9-e3f2-4bd9-97ad-4b74be6a4131",
     "showTitle": false,
     "title": ""
    }
   },
   "source": [
    "#### **Syntax**\n",
    "\n",
    "     array(columns)\n",
    "     columns: It represents the list of columns to be grouped together."
   ]
  },
  {
   "cell_type": "code",
   "execution_count": 0,
   "metadata": {
    "application/vnd.databricks.v1+cell": {
     "cellMetadata": {
      "byteLimit": 2048000,
      "rowLimit": 10000
     },
     "inputWidgets": {},
     "nuid": "550e2afe-e099-4df8-bc27-5712f8464456",
     "showTitle": false,
     "title": ""
    }
   },
   "outputs": [],
   "source": [
    "import pyspark.sql.functions as F\n",
    "from pyspark.sql.functions import col, array, array_contains, size, element_at\n",
    "from pyspark.sql.types import IntegerType, StringType, ArrayType, StructType, StructField"
   ]
  },
  {
   "cell_type": "markdown",
   "metadata": {
    "application/vnd.databricks.v1+cell": {
     "cellMetadata": {},
     "inputWidgets": {},
     "nuid": "288a93eb-9a38-41ad-980e-77518ca8661c",
     "showTitle": false,
     "title": ""
    }
   },
   "source": [
    "**EX 01**"
   ]
  },
  {
   "cell_type": "code",
   "execution_count": 0,
   "metadata": {
    "application/vnd.databricks.v1+cell": {
     "cellMetadata": {
      "byteLimit": 2048000,
      "rowLimit": 10000
     },
     "inputWidgets": {},
     "nuid": "d62d845f-7ec6-45c1-8b5a-aa449082b876",
     "showTitle": false,
     "title": ""
    }
   },
   "outputs": [
    {
     "output_type": "display_data",
     "data": {
      "text/html": [
       "<style scoped>\n",
       "  .table-result-container {\n",
       "    max-height: 300px;\n",
       "    overflow: auto;\n",
       "  }\n",
       "  table, th, td {\n",
       "    border: 1px solid black;\n",
       "    border-collapse: collapse;\n",
       "  }\n",
       "  th, td {\n",
       "    padding: 5px;\n",
       "  }\n",
       "  th {\n",
       "    text-align: left;\n",
       "  }\n",
       "</style><div class='table-result-container'><table class='table-result'><thead style='background-color: white'><tr><th>Name</th><th>Technology</th><th>Experience</th></tr></thead><tbody><tr><td>Naresh</td><td>List(databricks, Azure, SQL)</td><td>List(5, 7, 8)</td></tr><tr><td>Kalmesh</td><td>List(ADF, AWS, Spark, SQL)</td><td>List(6, 2, 3, 12)</td></tr><tr><td>Rohit</td><td>List(GCC, PySpark, Devops)</td><td>List(3, 6, 8)</td></tr><tr><td>Kumar</td><td>List(GitHub, PowerBi, Tableau, SQL)</td><td>List(2, 5, 6, 10)</td></tr><tr><td>Rohini</td><td>List(SQL Editor, Python, Oracle, Azure, AWS)</td><td>List(4, 7, 3, 8, 9)</td></tr></tbody></table></div>"
      ]
     },
     "metadata": {
      "application/vnd.databricks.v1+output": {
       "addedWidgets": {},
       "aggData": [],
       "aggError": "",
       "aggOverflow": false,
       "aggSchema": [],
       "aggSeriesLimitReached": false,
       "aggType": "",
       "arguments": {},
       "columnCustomDisplayInfos": {},
       "data": [
        [
         "Naresh",
         [
          "databricks",
          "Azure",
          "SQL"
         ],
         [
          5,
          7,
          8
         ]
        ],
        [
         "Kalmesh",
         [
          "ADF",
          "AWS",
          "Spark",
          "SQL"
         ],
         [
          6,
          2,
          3,
          12
         ]
        ],
        [
         "Rohit",
         [
          "GCC",
          "PySpark",
          "Devops"
         ],
         [
          3,
          6,
          8
         ]
        ],
        [
         "Kumar",
         [
          "GitHub",
          "PowerBi",
          "Tableau",
          "SQL"
         ],
         [
          2,
          5,
          6,
          10
         ]
        ],
        [
         "Rohini",
         [
          "SQL Editor",
          "Python",
          "Oracle",
          "Azure",
          "AWS"
         ],
         [
          4,
          7,
          3,
          8,
          9
         ]
        ]
       ],
       "datasetInfos": [],
       "dbfsResultPath": null,
       "isJsonSchema": true,
       "metadata": {},
       "overflow": false,
       "plotOptions": {
        "customPlotOptions": {},
        "displayType": "table",
        "pivotAggregation": null,
        "pivotColumns": null,
        "xColumns": null,
        "yColumns": null
       },
       "removedWidgets": [],
       "schema": [
        {
         "metadata": "{}",
         "name": "Name",
         "type": "\"string\""
        },
        {
         "metadata": "{}",
         "name": "Technology",
         "type": "{\"type\":\"array\",\"elementType\":\"string\",\"containsNull\":true}"
        },
        {
         "metadata": "{}",
         "name": "Experience",
         "type": "{\"type\":\"array\",\"elementType\":\"long\",\"containsNull\":true}"
        }
       ],
       "type": "table"
      }
     },
     "output_type": "display_data"
    }
   ],
   "source": [
    "data = [(\"Naresh\", [\"databricks\", \"Azure\", \"SQL\"], [5, 7, 8]),\n",
    "        (\"Kalmesh\", [\"ADF\", \"AWS\", \"Spark\", \"SQL\"], [6, 2, 3, 12]),\n",
    "        (\"Rohit\", [\"GCC\", \"PySpark\", \"Devops\"], [3, 6, 8]),\n",
    "        (\"Kumar\", [\"GitHub\", \"PowerBi\", \"Tableau\", \"SQL\"], [2, 5, 6, 10]),\n",
    "        (\"Rohini\", [\"SQL Editor\", \"Python\", \"Oracle\", \"Azure\", \"AWS\"], [4, 7, 3, 8, 9])]\n",
    "\n",
    "columns = [\"Name\", \"Technology\", \"Experience\"]\n",
    "\n",
    "df = spark.createDataFrame(data=data, schema=columns)\n",
    "display(df)"
   ]
  },
  {
   "cell_type": "code",
   "execution_count": 0,
   "metadata": {
    "application/vnd.databricks.v1+cell": {
     "cellMetadata": {
      "byteLimit": 2048000,
      "rowLimit": 10000
     },
     "inputWidgets": {},
     "nuid": "7362dca1-a49d-4a42-9f34-c7d2878edd5e",
     "showTitle": false,
     "title": ""
    }
   },
   "outputs": [],
   "source": [
    "schema = StructType([StructField(\"Name\", StringType(), True),\n",
    "                     StructField(\"Technology\", ArrayType(StringType())),\n",
    "                     StructField(\"Experience\", ArrayType(IntegerType()))]\n",
    "                    )"
   ]
  },
  {
   "cell_type": "code",
   "execution_count": 0,
   "metadata": {
    "application/vnd.databricks.v1+cell": {
     "cellMetadata": {
      "byteLimit": 2048000,
      "rowLimit": 10000
     },
     "inputWidgets": {},
     "nuid": "09d2f8f8-56c6-43e1-8849-6f293596c0b3",
     "showTitle": false,
     "title": ""
    }
   },
   "outputs": [
    {
     "output_type": "display_data",
     "data": {
      "text/html": [
       "<style scoped>\n",
       "  .table-result-container {\n",
       "    max-height: 300px;\n",
       "    overflow: auto;\n",
       "  }\n",
       "  table, th, td {\n",
       "    border: 1px solid black;\n",
       "    border-collapse: collapse;\n",
       "  }\n",
       "  th, td {\n",
       "    padding: 5px;\n",
       "  }\n",
       "  th {\n",
       "    text-align: left;\n",
       "  }\n",
       "</style><div class='table-result-container'><table class='table-result'><thead style='background-color: white'><tr><th>Name</th><th>Technology</th><th>Experience</th></tr></thead><tbody><tr><td>Naresh</td><td>List(databricks, Azure, SQL)</td><td>List(5, 7, 8)</td></tr><tr><td>Kalmesh</td><td>List(ADF, AWS, Spark, SQL)</td><td>List(6, 2, 3, 12)</td></tr><tr><td>Rohit</td><td>List(GCC, PySpark, Devops)</td><td>List(3, 6, 8)</td></tr><tr><td>Kumar</td><td>List(GitHub, PowerBi, Tableau, SQL)</td><td>List(2, 5, 6, 10)</td></tr><tr><td>Rohini</td><td>List(SQL Editor, Python, Oracle, Azure, AWS)</td><td>List(4, 7, 3, 8, 9)</td></tr></tbody></table></div>"
      ]
     },
     "metadata": {
      "application/vnd.databricks.v1+output": {
       "addedWidgets": {},
       "aggData": [],
       "aggError": "",
       "aggOverflow": false,
       "aggSchema": [],
       "aggSeriesLimitReached": false,
       "aggType": "",
       "arguments": {},
       "columnCustomDisplayInfos": {},
       "data": [
        [
         "Naresh",
         [
          "databricks",
          "Azure",
          "SQL"
         ],
         [
          5,
          7,
          8
         ]
        ],
        [
         "Kalmesh",
         [
          "ADF",
          "AWS",
          "Spark",
          "SQL"
         ],
         [
          6,
          2,
          3,
          12
         ]
        ],
        [
         "Rohit",
         [
          "GCC",
          "PySpark",
          "Devops"
         ],
         [
          3,
          6,
          8
         ]
        ],
        [
         "Kumar",
         [
          "GitHub",
          "PowerBi",
          "Tableau",
          "SQL"
         ],
         [
          2,
          5,
          6,
          10
         ]
        ],
        [
         "Rohini",
         [
          "SQL Editor",
          "Python",
          "Oracle",
          "Azure",
          "AWS"
         ],
         [
          4,
          7,
          3,
          8,
          9
         ]
        ]
       ],
       "datasetInfos": [],
       "dbfsResultPath": null,
       "isJsonSchema": true,
       "metadata": {},
       "overflow": false,
       "plotOptions": {
        "customPlotOptions": {},
        "displayType": "table",
        "pivotAggregation": null,
        "pivotColumns": null,
        "xColumns": null,
        "yColumns": null
       },
       "removedWidgets": [],
       "schema": [
        {
         "metadata": "{}",
         "name": "Name",
         "type": "\"string\""
        },
        {
         "metadata": "{}",
         "name": "Technology",
         "type": "{\"type\":\"array\",\"elementType\":\"string\",\"containsNull\":true}"
        },
        {
         "metadata": "{}",
         "name": "Experience",
         "type": "{\"type\":\"array\",\"elementType\":\"integer\",\"containsNull\":true}"
        }
       ],
       "type": "table"
      }
     },
     "output_type": "display_data"
    }
   ],
   "source": [
    "df1 = spark.createDataFrame(data=data, schema=schema)\n",
    "display(df1)"
   ]
  },
  {
   "cell_type": "markdown",
   "metadata": {
    "application/vnd.databricks.v1+cell": {
     "cellMetadata": {
      "byteLimit": 2048000,
      "rowLimit": 10000
     },
     "inputWidgets": {},
     "nuid": "deaf7fdf-039f-4936-8a73-a42dbb214df9",
     "showTitle": false,
     "title": ""
    }
   },
   "source": [
    "#### **1) How to transform Integer Column to Array Type?**"
   ]
  },
  {
   "cell_type": "code",
   "execution_count": 0,
   "metadata": {
    "application/vnd.databricks.v1+cell": {
     "cellMetadata": {
      "byteLimit": 2048000,
      "rowLimit": 10000
     },
     "inputWidgets": {},
     "nuid": "7890ec3b-c5f8-4e6e-95a4-e133c8e46645",
     "showTitle": false,
     "title": ""
    }
   },
   "outputs": [
    {
     "output_type": "display_data",
     "data": {
      "text/html": [
       "<style scoped>\n",
       "  .table-result-container {\n",
       "    max-height: 300px;\n",
       "    overflow: auto;\n",
       "  }\n",
       "  table, th, td {\n",
       "    border: 1px solid black;\n",
       "    border-collapse: collapse;\n",
       "  }\n",
       "  th, td {\n",
       "    padding: 5px;\n",
       "  }\n",
       "  th {\n",
       "    text-align: left;\n",
       "  }\n",
       "</style><div class='table-result-container'><table class='table-result'><thead style='background-color: white'><tr><th>name</th><th>City</th><th>age</th></tr></thead><tbody><tr><td>Aman</td><td>Chennai</td><td>22</td></tr><tr><td>Sundar</td><td>Bangalore</td><td>25</td></tr><tr><td>Sheela</td><td>Hyderabad</td><td>30</td></tr><tr><td>Shobha</td><td>Noida</td><td>35</td></tr><tr><td>Behra</td><td>Mumbai</td><td>36</td></tr></tbody></table></div>"
      ]
     },
     "metadata": {
      "application/vnd.databricks.v1+output": {
       "addedWidgets": {},
       "aggData": [],
       "aggError": "",
       "aggOverflow": false,
       "aggSchema": [],
       "aggSeriesLimitReached": false,
       "aggType": "",
       "arguments": {},
       "columnCustomDisplayInfos": {},
       "data": [
        [
         "Aman",
         "Chennai",
         22
        ],
        [
         "Sundar",
         "Bangalore",
         25
        ],
        [
         "Sheela",
         "Hyderabad",
         30
        ],
        [
         "Shobha",
         "Noida",
         35
        ],
        [
         "Behra",
         "Mumbai",
         36
        ]
       ],
       "datasetInfos": [],
       "dbfsResultPath": null,
       "isJsonSchema": true,
       "metadata": {},
       "overflow": false,
       "plotOptions": {
        "customPlotOptions": {},
        "displayType": "table",
        "pivotAggregation": null,
        "pivotColumns": null,
        "xColumns": null,
        "yColumns": null
       },
       "removedWidgets": [],
       "schema": [
        {
         "metadata": "{}",
         "name": "name",
         "type": "\"string\""
        },
        {
         "metadata": "{}",
         "name": "City",
         "type": "\"string\""
        },
        {
         "metadata": "{}",
         "name": "age",
         "type": "\"long\""
        }
       ],
       "type": "table"
      }
     },
     "output_type": "display_data"
    }
   ],
   "source": [
    "df_ex1 = spark.createDataFrame([(\"Aman\", \"Chennai\", 22), (\"Sundar\", \"Bangalore\", 25), (\"Sheela\", \"Hyderabad\", 30), (\"Shobha\", \"Noida\", 35), (\"Behra\", \"Mumbai\", 36)], (\"name\", \"City\", \"age\"))\n",
    "display(df_ex1)"
   ]
  },
  {
   "cell_type": "markdown",
   "metadata": {
    "application/vnd.databricks.v1+cell": {
     "cellMetadata": {},
     "inputWidgets": {},
     "nuid": "c6fa80b8-1998-4dea-aa75-3399ed341013",
     "showTitle": false,
     "title": ""
    }
   },
   "source": [
    "     # 12.2 LTS (includes Apache Spark 3.3.2, Scala 2.12)\n",
    "     from pyspark.sql.functions import size\n",
    "\n",
    "     # 15.4 LTS (includes Apache Spark 3.5.0, Scala 2.12)\n",
    "     from pyspark.sql.functions import array_size"
   ]
  },
  {
   "cell_type": "markdown",
   "metadata": {
    "application/vnd.databricks.v1+cell": {
     "cellMetadata": {
      "byteLimit": 2048000,
      "rowLimit": 10000
     },
     "inputWidgets": {},
     "nuid": "5ed635c1-cde6-4efc-b2d3-27166a7f7719",
     "showTitle": false,
     "title": ""
    }
   },
   "source": [
    "     from pyspark.sql.functions import size\n",
    "     df.withColumn(\"Size\", size(\"Array\"))\n",
    "                    (or)\n",
    "     import pyspark.sql.functions as F\n",
    "     df.withColumn(\"Size\", F.size(\"Array\"))"
   ]
  },
  {
   "cell_type": "code",
   "execution_count": 0,
   "metadata": {
    "application/vnd.databricks.v1+cell": {
     "cellMetadata": {
      "byteLimit": 2048000,
      "rowLimit": 10000
     },
     "inputWidgets": {},
     "nuid": "062fee8c-fa95-4f84-9f61-103053558d3d",
     "showTitle": false,
     "title": ""
    }
   },
   "outputs": [
    {
     "output_type": "display_data",
     "data": {
      "text/html": [
       "<style scoped>\n",
       "  .table-result-container {\n",
       "    max-height: 300px;\n",
       "    overflow: auto;\n",
       "  }\n",
       "  table, th, td {\n",
       "    border: 1px solid black;\n",
       "    border-collapse: collapse;\n",
       "  }\n",
       "  th, td {\n",
       "    padding: 5px;\n",
       "  }\n",
       "  th {\n",
       "    text-align: left;\n",
       "  }\n",
       "</style><div class='table-result-container'><table class='table-result'><thead style='background-color: white'><tr><th>age</th><th>Array</th><th>Size</th></tr></thead><tbody><tr><td>22</td><td>List(22, 22)</td><td>2</td></tr><tr><td>25</td><td>List(25, 25)</td><td>2</td></tr><tr><td>30</td><td>List(30, 30)</td><td>2</td></tr><tr><td>35</td><td>List(35, 35)</td><td>2</td></tr><tr><td>36</td><td>List(36, 36)</td><td>2</td></tr></tbody></table></div>"
      ]
     },
     "metadata": {
      "application/vnd.databricks.v1+output": {
       "addedWidgets": {},
       "aggData": [],
       "aggError": "",
       "aggOverflow": false,
       "aggSchema": [],
       "aggSeriesLimitReached": false,
       "aggType": "",
       "arguments": {},
       "columnCustomDisplayInfos": {},
       "data": [
        [
         22,
         [
          22,
          22
         ],
         2
        ],
        [
         25,
         [
          25,
          25
         ],
         2
        ],
        [
         30,
         [
          30,
          30
         ],
         2
        ],
        [
         35,
         [
          35,
          35
         ],
         2
        ],
        [
         36,
         [
          36,
          36
         ],
         2
        ]
       ],
       "datasetInfos": [],
       "dbfsResultPath": null,
       "isJsonSchema": true,
       "metadata": {},
       "overflow": false,
       "plotOptions": {
        "customPlotOptions": {},
        "displayType": "table",
        "pivotAggregation": null,
        "pivotColumns": null,
        "xColumns": null,
        "yColumns": null
       },
       "removedWidgets": [],
       "schema": [
        {
         "metadata": "{}",
         "name": "age",
         "type": "\"long\""
        },
        {
         "metadata": "{}",
         "name": "Array",
         "type": "{\"type\":\"array\",\"elementType\":\"long\",\"containsNull\":true}"
        },
        {
         "metadata": "{}",
         "name": "Size",
         "type": "\"integer\""
        }
       ],
       "type": "table"
      }
     },
     "output_type": "display_data"
    }
   ],
   "source": [
    "df_ex = df_ex1.select(\"age\", array('age', 'age').alias(\"Array\"))\\\n",
    "              .withColumn(\"Size\", F.size(\"Array\"))\n",
    "display(df_ex)"
   ]
  },
  {
   "cell_type": "markdown",
   "metadata": {
    "application/vnd.databricks.v1+cell": {
     "cellMetadata": {
      "byteLimit": 2048000,
      "rowLimit": 10000
     },
     "inputWidgets": {},
     "nuid": "f7cdbdb3-0b51-480c-ac2d-c98728bf7d54",
     "showTitle": false,
     "title": ""
    }
   },
   "source": [
    "#### **2) How to transform String Columns to Array Type?**"
   ]
  },
  {
   "cell_type": "code",
   "execution_count": 0,
   "metadata": {
    "application/vnd.databricks.v1+cell": {
     "cellMetadata": {
      "byteLimit": 2048000,
      "rowLimit": 10000
     },
     "inputWidgets": {},
     "nuid": "e1988b28-8477-4c9d-a4a1-2283eec88a5a",
     "showTitle": true,
     "title": "create dataframe"
    }
   },
   "outputs": [
    {
     "output_type": "stream",
     "name": "stdout",
     "output_type": "stream",
     "text": [
      "root\n |-- Name: string (nullable = true)\n |-- pLocation: string (nullable = true)\n |-- sLocation: string (nullable = true)\n |-- aLocation: string (nullable = true)\n\n"
     ]
    },
    {
     "output_type": "display_data",
     "data": {
      "text/html": [
       "<style scoped>\n",
       "  .table-result-container {\n",
       "    max-height: 300px;\n",
       "    overflow: auto;\n",
       "  }\n",
       "  table, th, td {\n",
       "    border: 1px solid black;\n",
       "    border-collapse: collapse;\n",
       "  }\n",
       "  th, td {\n",
       "    padding: 5px;\n",
       "  }\n",
       "  th {\n",
       "    text-align: left;\n",
       "  }\n",
       "</style><div class='table-result-container'><table class='table-result'><thead style='background-color: white'><tr><th>Name</th><th>pLocation</th><th>sLocation</th><th>aLocation</th></tr></thead><tbody><tr><td>Adarsh</td><td>Chennai</td><td>Cochin</td><td>Hyderabad</td></tr><tr><td>Akash</td><td>Coimbatore</td><td>Mumbai</td><td>Chennai</td></tr><tr><td>Senthil</td><td>Salem</td><td>Bangalore</td><td>null</td></tr><tr><td>Kalyan</td><td>Delhi</td><td>Bangalore</td><td>Noida</td></tr><tr><td>Sohile</td><td>Mumbai</td><td>Pune</td><td>Cochin</td></tr><tr><td>Gouthami</td><td>Chennai</td><td>Mumbai</td><td>null</td></tr><tr><td>Hemanth</td><td>Delhi</td><td>Noida</td><td>Kolkata</td></tr></tbody></table></div>"
      ]
     },
     "metadata": {
      "application/vnd.databricks.v1+output": {
       "addedWidgets": {},
       "aggData": [],
       "aggError": "",
       "aggOverflow": false,
       "aggSchema": [],
       "aggSeriesLimitReached": false,
       "aggType": "",
       "arguments": {},
       "columnCustomDisplayInfos": {},
       "data": [
        [
         "Adarsh",
         "Chennai",
         "Cochin",
         "Hyderabad"
        ],
        [
         "Akash",
         "Coimbatore",
         "Mumbai",
         "Chennai"
        ],
        [
         "Senthil",
         "Salem",
         "Bangalore",
         null
        ],
        [
         "Kalyan",
         "Delhi",
         "Bangalore",
         "Noida"
        ],
        [
         "Sohile",
         "Mumbai",
         "Pune",
         "Cochin"
        ],
        [
         "Gouthami",
         "Chennai",
         "Mumbai",
         null
        ],
        [
         "Hemanth",
         "Delhi",
         "Noida",
         "Kolkata"
        ]
       ],
       "datasetInfos": [],
       "dbfsResultPath": null,
       "isJsonSchema": true,
       "metadata": {},
       "overflow": false,
       "plotOptions": {
        "customPlotOptions": {},
        "displayType": "table",
        "pivotAggregation": null,
        "pivotColumns": null,
        "xColumns": null,
        "yColumns": null
       },
       "removedWidgets": [],
       "schema": [
        {
         "metadata": "{}",
         "name": "Name",
         "type": "\"string\""
        },
        {
         "metadata": "{}",
         "name": "pLocation",
         "type": "\"string\""
        },
        {
         "metadata": "{}",
         "name": "sLocation",
         "type": "\"string\""
        },
        {
         "metadata": "{}",
         "name": "aLocation",
         "type": "\"string\""
        }
       ],
       "type": "table"
      }
     },
     "output_type": "display_data"
    }
   ],
   "source": [
    "data = [(\"Adarsh\", \"Chennai\", \"Cochin\", \"Hyderabad\"),\n",
    "        (\"Akash\", \"Coimbatore\", \"Mumbai\", \"Chennai\"),\n",
    "        (\"Senthil\", \"Salem\", \"Bangalore\", None),\n",
    "        (\"Kalyan\", \"Delhi\", \"Bangalore\", \"Noida\"),\n",
    "        (\"Sohile\", \"Mumbai\", \"Pune\", \"Cochin\"),\n",
    "        (\"Gouthami\", \"Chennai\", \"Mumbai\", None),\n",
    "        (\"Hemanth\", \"Delhi\", \"Noida\", \"Kolkata\")\n",
    "        ]\n",
    " \n",
    "columns = [\"Name\", \"pLocation\", \"sLocation\", \"aLocation\"]\n",
    "df = spark.createDataFrame(data, schema=columns)\n",
    "df.printSchema()\n",
    "display(df)"
   ]
  },
  {
   "cell_type": "markdown",
   "metadata": {
    "application/vnd.databricks.v1+cell": {
     "cellMetadata": {
      "byteLimit": 2048000,
      "rowLimit": 10000
     },
     "inputWidgets": {},
     "nuid": "505310b7-efdd-4a08-a4c4-45a217079515",
     "showTitle": false,
     "title": ""
    }
   },
   "source": [
    "#### **a) How to create an ArrayType column from existing columns (using SELECT)**"
   ]
  },
  {
   "cell_type": "markdown",
   "metadata": {
    "application/vnd.databricks.v1+cell": {
     "cellMetadata": {
      "byteLimit": 2048000,
      "rowLimit": 10000
     },
     "inputWidgets": {},
     "nuid": "f5c829e0-519a-4666-8367-05ac72449998",
     "showTitle": false,
     "title": ""
    }
   },
   "source": [
    "     # Method 1:\n",
    "     df.select(\"name\", array(\"pLocation\", \"sLocation\", \"aLocation\").alias(\"Pref_Loc\")).show(truncate=False)\n",
    " \n",
    "     # Method 2:\n",
    "     pref_Loc = [\"pLocation\", \"sLocation\", \"aLocation\"]\n",
    "     df.select(\"name\", array(*prefs_col).alias(\"Pref_Loc\")).show(truncate=False)\n",
    " \n",
    "     # Method 3:\n",
    "     pref_Loc = [\"pLocation\", \"sLocation\", \"aLocation\"]\n",
    "     df.select(\"name\", array([col(prefLoc) for prefLoc in pref_col]).alias(\"Pref_Loc\")).show(truncate=False)"
   ]
  },
  {
   "cell_type": "code",
   "execution_count": 0,
   "metadata": {
    "application/vnd.databricks.v1+cell": {
     "cellMetadata": {
      "byteLimit": 2048000,
      "rowLimit": 10000
     },
     "inputWidgets": {},
     "nuid": "22fa346b-c05a-4c7e-9ef9-e7e06de2cb46",
     "showTitle": true,
     "title": "select: Method 01"
    }
   },
   "outputs": [
    {
     "output_type": "stream",
     "name": "stdout",
     "output_type": "stream",
     "text": [
      "root\n |-- name: string (nullable = true)\n |-- Pref_Loc: array (nullable = false)\n |    |-- element: string (containsNull = true)\n |-- Size: integer (nullable = false)\n\n"
     ]
    },
    {
     "output_type": "display_data",
     "data": {
      "text/html": [
       "<style scoped>\n",
       "  .table-result-container {\n",
       "    max-height: 300px;\n",
       "    overflow: auto;\n",
       "  }\n",
       "  table, th, td {\n",
       "    border: 1px solid black;\n",
       "    border-collapse: collapse;\n",
       "  }\n",
       "  th, td {\n",
       "    padding: 5px;\n",
       "  }\n",
       "  th {\n",
       "    text-align: left;\n",
       "  }\n",
       "</style><div class='table-result-container'><table class='table-result'><thead style='background-color: white'><tr><th>name</th><th>Pref_Loc</th><th>Size</th></tr></thead><tbody><tr><td>Adarsh</td><td>List(Chennai, Cochin, Hyderabad)</td><td>3</td></tr><tr><td>Akash</td><td>List(Coimbatore, Mumbai, Chennai)</td><td>3</td></tr><tr><td>Senthil</td><td>List(Salem, Bangalore, null)</td><td>3</td></tr><tr><td>Kalyan</td><td>List(Delhi, Bangalore, Noida)</td><td>3</td></tr><tr><td>Sohile</td><td>List(Mumbai, Pune, Cochin)</td><td>3</td></tr><tr><td>Gouthami</td><td>List(Chennai, Mumbai, null)</td><td>3</td></tr><tr><td>Hemanth</td><td>List(Delhi, Noida, Kolkata)</td><td>3</td></tr></tbody></table></div>"
      ]
     },
     "metadata": {
      "application/vnd.databricks.v1+output": {
       "addedWidgets": {},
       "aggData": [],
       "aggError": "",
       "aggOverflow": false,
       "aggSchema": [],
       "aggSeriesLimitReached": false,
       "aggType": "",
       "arguments": {},
       "columnCustomDisplayInfos": {},
       "data": [
        [
         "Adarsh",
         [
          "Chennai",
          "Cochin",
          "Hyderabad"
         ],
         3
        ],
        [
         "Akash",
         [
          "Coimbatore",
          "Mumbai",
          "Chennai"
         ],
         3
        ],
        [
         "Senthil",
         [
          "Salem",
          "Bangalore",
          null
         ],
         3
        ],
        [
         "Kalyan",
         [
          "Delhi",
          "Bangalore",
          "Noida"
         ],
         3
        ],
        [
         "Sohile",
         [
          "Mumbai",
          "Pune",
          "Cochin"
         ],
         3
        ],
        [
         "Gouthami",
         [
          "Chennai",
          "Mumbai",
          null
         ],
         3
        ],
        [
         "Hemanth",
         [
          "Delhi",
          "Noida",
          "Kolkata"
         ],
         3
        ]
       ],
       "datasetInfos": [],
       "dbfsResultPath": null,
       "isJsonSchema": true,
       "metadata": {},
       "overflow": false,
       "plotOptions": {
        "customPlotOptions": {},
        "displayType": "table",
        "pivotAggregation": null,
        "pivotColumns": null,
        "xColumns": null,
        "yColumns": null
       },
       "removedWidgets": [],
       "schema": [
        {
         "metadata": "{}",
         "name": "name",
         "type": "\"string\""
        },
        {
         "metadata": "{}",
         "name": "Pref_Loc",
         "type": "{\"type\":\"array\",\"elementType\":\"string\",\"containsNull\":true}"
        },
        {
         "metadata": "{}",
         "name": "Size",
         "type": "\"integer\""
        }
       ],
       "type": "table"
      }
     },
     "output_type": "display_data"
    }
   ],
   "source": [
    "# Method 1:\n",
    "df_S_M1 = df.select(\"name\", array(\"pLocation\", \"sLocation\", \"aLocation\").alias(\"Pref_Loc\"))\\\n",
    "            .withColumn(\"Size\", F.size(\"Pref_Loc\"))\n",
    "df_S_M1.printSchema()\n",
    "display(df_S_M1)"
   ]
  },
  {
   "cell_type": "code",
   "execution_count": 0,
   "metadata": {
    "application/vnd.databricks.v1+cell": {
     "cellMetadata": {
      "byteLimit": 2048000,
      "rowLimit": 10000
     },
     "inputWidgets": {},
     "nuid": "dd8aa7f8-b243-410f-9747-9bf2601e42eb",
     "showTitle": true,
     "title": "select: Method 02"
    }
   },
   "outputs": [
    {
     "output_type": "stream",
     "name": "stdout",
     "output_type": "stream",
     "text": [
      "root\n |-- name: string (nullable = true)\n |-- Pref_Loc: array (nullable = false)\n |    |-- element: string (containsNull = true)\n |-- Size: integer (nullable = false)\n\n"
     ]
    },
    {
     "output_type": "display_data",
     "data": {
      "text/html": [
       "<style scoped>\n",
       "  .table-result-container {\n",
       "    max-height: 300px;\n",
       "    overflow: auto;\n",
       "  }\n",
       "  table, th, td {\n",
       "    border: 1px solid black;\n",
       "    border-collapse: collapse;\n",
       "  }\n",
       "  th, td {\n",
       "    padding: 5px;\n",
       "  }\n",
       "  th {\n",
       "    text-align: left;\n",
       "  }\n",
       "</style><div class='table-result-container'><table class='table-result'><thead style='background-color: white'><tr><th>name</th><th>Pref_Loc</th><th>Size</th></tr></thead><tbody><tr><td>Adarsh</td><td>List(Chennai, Cochin, Hyderabad)</td><td>3</td></tr><tr><td>Akash</td><td>List(Coimbatore, Mumbai, Chennai)</td><td>3</td></tr><tr><td>Senthil</td><td>List(Salem, Bangalore, null)</td><td>3</td></tr><tr><td>Kalyan</td><td>List(Delhi, Bangalore, Noida)</td><td>3</td></tr><tr><td>Sohile</td><td>List(Mumbai, Pune, Cochin)</td><td>3</td></tr><tr><td>Gouthami</td><td>List(Chennai, Mumbai, null)</td><td>3</td></tr><tr><td>Hemanth</td><td>List(Delhi, Noida, Kolkata)</td><td>3</td></tr></tbody></table></div>"
      ]
     },
     "metadata": {
      "application/vnd.databricks.v1+output": {
       "addedWidgets": {},
       "aggData": [],
       "aggError": "",
       "aggOverflow": false,
       "aggSchema": [],
       "aggSeriesLimitReached": false,
       "aggType": "",
       "arguments": {},
       "columnCustomDisplayInfos": {},
       "data": [
        [
         "Adarsh",
         [
          "Chennai",
          "Cochin",
          "Hyderabad"
         ],
         3
        ],
        [
         "Akash",
         [
          "Coimbatore",
          "Mumbai",
          "Chennai"
         ],
         3
        ],
        [
         "Senthil",
         [
          "Salem",
          "Bangalore",
          null
         ],
         3
        ],
        [
         "Kalyan",
         [
          "Delhi",
          "Bangalore",
          "Noida"
         ],
         3
        ],
        [
         "Sohile",
         [
          "Mumbai",
          "Pune",
          "Cochin"
         ],
         3
        ],
        [
         "Gouthami",
         [
          "Chennai",
          "Mumbai",
          null
         ],
         3
        ],
        [
         "Hemanth",
         [
          "Delhi",
          "Noida",
          "Kolkata"
         ],
         3
        ]
       ],
       "datasetInfos": [],
       "dbfsResultPath": null,
       "isJsonSchema": true,
       "metadata": {},
       "overflow": false,
       "plotOptions": {
        "customPlotOptions": {},
        "displayType": "table",
        "pivotAggregation": null,
        "pivotColumns": null,
        "xColumns": null,
        "yColumns": null
       },
       "removedWidgets": [],
       "schema": [
        {
         "metadata": "{}",
         "name": "name",
         "type": "\"string\""
        },
        {
         "metadata": "{}",
         "name": "Pref_Loc",
         "type": "{\"type\":\"array\",\"elementType\":\"string\",\"containsNull\":true}"
        },
        {
         "metadata": "{}",
         "name": "Size",
         "type": "\"integer\""
        }
       ],
       "type": "table"
      }
     },
     "output_type": "display_data"
    }
   ],
   "source": [
    "# Method 2:\n",
    "pref_Loc = [\"pLocation\", \"sLocation\", \"aLocation\"]\n",
    "df_S_M2 = df.select(\"name\", array(*pref_Loc).alias(\"Pref_Loc\"))\\\n",
    "            .withColumn(\"Size\", F.size(\"Pref_Loc\"))\n",
    "df_S_M2.printSchema()\n",
    "display(df_S_M2)"
   ]
  },
  {
   "cell_type": "code",
   "execution_count": 0,
   "metadata": {
    "application/vnd.databricks.v1+cell": {
     "cellMetadata": {
      "byteLimit": 2048000,
      "rowLimit": 10000
     },
     "inputWidgets": {},
     "nuid": "95e0c0c8-d8a6-4797-a62f-aa3f944a0ade",
     "showTitle": true,
     "title": "select: Method 03"
    }
   },
   "outputs": [
    {
     "output_type": "stream",
     "name": "stdout",
     "output_type": "stream",
     "text": [
      "root\n |-- name: string (nullable = true)\n |-- Pref_Loc: array (nullable = false)\n |    |-- element: string (containsNull = true)\n |-- Size: integer (nullable = false)\n\n"
     ]
    },
    {
     "output_type": "display_data",
     "data": {
      "text/html": [
       "<style scoped>\n",
       "  .table-result-container {\n",
       "    max-height: 300px;\n",
       "    overflow: auto;\n",
       "  }\n",
       "  table, th, td {\n",
       "    border: 1px solid black;\n",
       "    border-collapse: collapse;\n",
       "  }\n",
       "  th, td {\n",
       "    padding: 5px;\n",
       "  }\n",
       "  th {\n",
       "    text-align: left;\n",
       "  }\n",
       "</style><div class='table-result-container'><table class='table-result'><thead style='background-color: white'><tr><th>name</th><th>Pref_Loc</th><th>Size</th></tr></thead><tbody><tr><td>Adarsh</td><td>List(Chennai, Cochin, Hyderabad)</td><td>3</td></tr><tr><td>Akash</td><td>List(Coimbatore, Mumbai, Chennai)</td><td>3</td></tr><tr><td>Senthil</td><td>List(Salem, Bangalore, null)</td><td>3</td></tr><tr><td>Kalyan</td><td>List(Delhi, Bangalore, Noida)</td><td>3</td></tr><tr><td>Sohile</td><td>List(Mumbai, Pune, Cochin)</td><td>3</td></tr><tr><td>Gouthami</td><td>List(Chennai, Mumbai, null)</td><td>3</td></tr><tr><td>Hemanth</td><td>List(Delhi, Noida, Kolkata)</td><td>3</td></tr></tbody></table></div>"
      ]
     },
     "metadata": {
      "application/vnd.databricks.v1+output": {
       "addedWidgets": {},
       "aggData": [],
       "aggError": "",
       "aggOverflow": false,
       "aggSchema": [],
       "aggSeriesLimitReached": false,
       "aggType": "",
       "arguments": {},
       "columnCustomDisplayInfos": {},
       "data": [
        [
         "Adarsh",
         [
          "Chennai",
          "Cochin",
          "Hyderabad"
         ],
         3
        ],
        [
         "Akash",
         [
          "Coimbatore",
          "Mumbai",
          "Chennai"
         ],
         3
        ],
        [
         "Senthil",
         [
          "Salem",
          "Bangalore",
          null
         ],
         3
        ],
        [
         "Kalyan",
         [
          "Delhi",
          "Bangalore",
          "Noida"
         ],
         3
        ],
        [
         "Sohile",
         [
          "Mumbai",
          "Pune",
          "Cochin"
         ],
         3
        ],
        [
         "Gouthami",
         [
          "Chennai",
          "Mumbai",
          null
         ],
         3
        ],
        [
         "Hemanth",
         [
          "Delhi",
          "Noida",
          "Kolkata"
         ],
         3
        ]
       ],
       "datasetInfos": [],
       "dbfsResultPath": null,
       "isJsonSchema": true,
       "metadata": {},
       "overflow": false,
       "plotOptions": {
        "customPlotOptions": {},
        "displayType": "table",
        "pivotAggregation": null,
        "pivotColumns": null,
        "xColumns": null,
        "yColumns": null
       },
       "removedWidgets": [],
       "schema": [
        {
         "metadata": "{}",
         "name": "name",
         "type": "\"string\""
        },
        {
         "metadata": "{}",
         "name": "Pref_Loc",
         "type": "{\"type\":\"array\",\"elementType\":\"string\",\"containsNull\":true}"
        },
        {
         "metadata": "{}",
         "name": "Size",
         "type": "\"integer\""
        }
       ],
       "type": "table"
      }
     },
     "output_type": "display_data"
    }
   ],
   "source": [
    "# Method 3:\n",
    "pref_Loc = [\"pLocation\", \"sLocation\", \"aLocation\"]\n",
    "df_S_M3 = df.select(\"name\", array([col(prefLoc) for prefLoc in pref_Loc]).alias(\"Pref_Loc\"))\\\n",
    "            .withColumn(\"Size\", F.size(\"Pref_Loc\"))\n",
    "df_S_M3.printSchema()\n",
    "display(df_S_M3)"
   ]
  },
  {
   "cell_type": "markdown",
   "metadata": {
    "application/vnd.databricks.v1+cell": {
     "cellMetadata": {
      "byteLimit": 2048000,
      "rowLimit": 10000
     },
     "inputWidgets": {},
     "nuid": "a99afe34-21a8-4639-98f7-ba471bc80d34",
     "showTitle": false,
     "title": ""
    }
   },
   "source": [
    "#### **b) How to create an ArrayType column from existing columns (using withColumn)**  "
   ]
  },
  {
   "cell_type": "markdown",
   "metadata": {
    "application/vnd.databricks.v1+cell": {
     "cellMetadata": {
      "byteLimit": 2048000,
      "rowLimit": 10000
     },
     "inputWidgets": {},
     "nuid": "65bf6509-a0b3-4478-94cf-2a5f91fd49d1",
     "showTitle": false,
     "title": ""
    }
   },
   "source": [
    "     # Method 1:\n",
    "     df.withColumn(\"preferences\", array(\"pLocation\", \"sLocation\", \"aLocation\")).select(\"name\", \"preferences\").show(truncate=False)\n",
    "     \n",
    "     # Method 2:\n",
    "     pref_Loc = [\"pLocation\", \"sLocation\", \"aLocation\"]\n",
    "     df.withColumn(\"preferences\", array(*pref_Loc)).select(\"name\", \"preferences\").show(truncate=False)\n",
    "\n",
    "     # Method 3:\n",
    "     pref_Loc = [\"pLocation\", \"sLocation\", \"aLocation\"]\n",
    "     df.withColumn(\"preferences\", array([col(prefLoc) for prefLoc in pref_Loc])).select(\"name\", \"preferences\").show(truncate=False)"
   ]
  },
  {
   "cell_type": "code",
   "execution_count": 0,
   "metadata": {
    "application/vnd.databricks.v1+cell": {
     "cellMetadata": {
      "byteLimit": 2048000,
      "rowLimit": 10000
     },
     "inputWidgets": {},
     "nuid": "1c18314a-766b-4873-9e89-41ff483ad5b3",
     "showTitle": true,
     "title": "withColumn: Method 01"
    }
   },
   "outputs": [
    {
     "output_type": "stream",
     "name": "stdout",
     "output_type": "stream",
     "text": [
      "root\n |-- name: string (nullable = true)\n |-- preferences: array (nullable = false)\n |    |-- element: string (containsNull = true)\n |-- Size: integer (nullable = false)\n\n"
     ]
    },
    {
     "output_type": "display_data",
     "data": {
      "text/html": [
       "<style scoped>\n",
       "  .table-result-container {\n",
       "    max-height: 300px;\n",
       "    overflow: auto;\n",
       "  }\n",
       "  table, th, td {\n",
       "    border: 1px solid black;\n",
       "    border-collapse: collapse;\n",
       "  }\n",
       "  th, td {\n",
       "    padding: 5px;\n",
       "  }\n",
       "  th {\n",
       "    text-align: left;\n",
       "  }\n",
       "</style><div class='table-result-container'><table class='table-result'><thead style='background-color: white'><tr><th>name</th><th>preferences</th><th>Size</th></tr></thead><tbody><tr><td>Adarsh</td><td>List(Chennai, Cochin, Hyderabad)</td><td>3</td></tr><tr><td>Akash</td><td>List(Coimbatore, Mumbai, Chennai)</td><td>3</td></tr><tr><td>Senthil</td><td>List(Salem, Bangalore, null)</td><td>3</td></tr><tr><td>Kalyan</td><td>List(Delhi, Bangalore, Noida)</td><td>3</td></tr><tr><td>Sohile</td><td>List(Mumbai, Pune, Cochin)</td><td>3</td></tr><tr><td>Gouthami</td><td>List(Chennai, Mumbai, null)</td><td>3</td></tr><tr><td>Hemanth</td><td>List(Delhi, Noida, Kolkata)</td><td>3</td></tr></tbody></table></div>"
      ]
     },
     "metadata": {
      "application/vnd.databricks.v1+output": {
       "addedWidgets": {},
       "aggData": [],
       "aggError": "",
       "aggOverflow": false,
       "aggSchema": [],
       "aggSeriesLimitReached": false,
       "aggType": "",
       "arguments": {},
       "columnCustomDisplayInfos": {},
       "data": [
        [
         "Adarsh",
         [
          "Chennai",
          "Cochin",
          "Hyderabad"
         ],
         3
        ],
        [
         "Akash",
         [
          "Coimbatore",
          "Mumbai",
          "Chennai"
         ],
         3
        ],
        [
         "Senthil",
         [
          "Salem",
          "Bangalore",
          null
         ],
         3
        ],
        [
         "Kalyan",
         [
          "Delhi",
          "Bangalore",
          "Noida"
         ],
         3
        ],
        [
         "Sohile",
         [
          "Mumbai",
          "Pune",
          "Cochin"
         ],
         3
        ],
        [
         "Gouthami",
         [
          "Chennai",
          "Mumbai",
          null
         ],
         3
        ],
        [
         "Hemanth",
         [
          "Delhi",
          "Noida",
          "Kolkata"
         ],
         3
        ]
       ],
       "datasetInfos": [],
       "dbfsResultPath": null,
       "isJsonSchema": true,
       "metadata": {},
       "overflow": false,
       "plotOptions": {
        "customPlotOptions": {},
        "displayType": "table",
        "pivotAggregation": null,
        "pivotColumns": null,
        "xColumns": null,
        "yColumns": null
       },
       "removedWidgets": [],
       "schema": [
        {
         "metadata": "{}",
         "name": "name",
         "type": "\"string\""
        },
        {
         "metadata": "{}",
         "name": "preferences",
         "type": "{\"type\":\"array\",\"elementType\":\"string\",\"containsNull\":true}"
        },
        {
         "metadata": "{}",
         "name": "Size",
         "type": "\"integer\""
        }
       ],
       "type": "table"
      }
     },
     "output_type": "display_data"
    }
   ],
   "source": [
    "# Method 1:\n",
    "df_wC_M1 = df.withColumn(\"preferences\", array(\"pLocation\", \"sLocation\", \"aLocation\"))\\\n",
    "             .withColumn(\"Size\", F.size(\"preferences\"))\\\n",
    "             .select(\"name\", \"preferences\", \"Size\")\n",
    "df_wC_M1.printSchema()\n",
    "display(df_wC_M1)"
   ]
  },
  {
   "cell_type": "code",
   "execution_count": 0,
   "metadata": {
    "application/vnd.databricks.v1+cell": {
     "cellMetadata": {
      "byteLimit": 2048000,
      "rowLimit": 10000
     },
     "inputWidgets": {},
     "nuid": "b0d6ca14-49ad-426a-8f94-46e46dc84922",
     "showTitle": true,
     "title": "withColumn: Method 02"
    }
   },
   "outputs": [
    {
     "output_type": "stream",
     "name": "stdout",
     "output_type": "stream",
     "text": [
      "root\n |-- name: string (nullable = true)\n |-- preferences: array (nullable = false)\n |    |-- element: string (containsNull = true)\n |-- Size: integer (nullable = false)\n\n"
     ]
    },
    {
     "output_type": "display_data",
     "data": {
      "text/html": [
       "<style scoped>\n",
       "  .table-result-container {\n",
       "    max-height: 300px;\n",
       "    overflow: auto;\n",
       "  }\n",
       "  table, th, td {\n",
       "    border: 1px solid black;\n",
       "    border-collapse: collapse;\n",
       "  }\n",
       "  th, td {\n",
       "    padding: 5px;\n",
       "  }\n",
       "  th {\n",
       "    text-align: left;\n",
       "  }\n",
       "</style><div class='table-result-container'><table class='table-result'><thead style='background-color: white'><tr><th>name</th><th>preferences</th><th>Size</th></tr></thead><tbody><tr><td>Adarsh</td><td>List(Chennai, Cochin, Hyderabad)</td><td>3</td></tr><tr><td>Akash</td><td>List(Coimbatore, Mumbai, Chennai)</td><td>3</td></tr><tr><td>Senthil</td><td>List(Salem, Bangalore, null)</td><td>3</td></tr><tr><td>Kalyan</td><td>List(Delhi, Bangalore, Noida)</td><td>3</td></tr><tr><td>Sohile</td><td>List(Mumbai, Pune, Cochin)</td><td>3</td></tr><tr><td>Gouthami</td><td>List(Chennai, Mumbai, null)</td><td>3</td></tr><tr><td>Hemanth</td><td>List(Delhi, Noida, Kolkata)</td><td>3</td></tr></tbody></table></div>"
      ]
     },
     "metadata": {
      "application/vnd.databricks.v1+output": {
       "addedWidgets": {},
       "aggData": [],
       "aggError": "",
       "aggOverflow": false,
       "aggSchema": [],
       "aggSeriesLimitReached": false,
       "aggType": "",
       "arguments": {},
       "columnCustomDisplayInfos": {},
       "data": [
        [
         "Adarsh",
         [
          "Chennai",
          "Cochin",
          "Hyderabad"
         ],
         3
        ],
        [
         "Akash",
         [
          "Coimbatore",
          "Mumbai",
          "Chennai"
         ],
         3
        ],
        [
         "Senthil",
         [
          "Salem",
          "Bangalore",
          null
         ],
         3
        ],
        [
         "Kalyan",
         [
          "Delhi",
          "Bangalore",
          "Noida"
         ],
         3
        ],
        [
         "Sohile",
         [
          "Mumbai",
          "Pune",
          "Cochin"
         ],
         3
        ],
        [
         "Gouthami",
         [
          "Chennai",
          "Mumbai",
          null
         ],
         3
        ],
        [
         "Hemanth",
         [
          "Delhi",
          "Noida",
          "Kolkata"
         ],
         3
        ]
       ],
       "datasetInfos": [],
       "dbfsResultPath": null,
       "isJsonSchema": true,
       "metadata": {},
       "overflow": false,
       "plotOptions": {
        "customPlotOptions": {},
        "displayType": "table",
        "pivotAggregation": null,
        "pivotColumns": null,
        "xColumns": null,
        "yColumns": null
       },
       "removedWidgets": [],
       "schema": [
        {
         "metadata": "{}",
         "name": "name",
         "type": "\"string\""
        },
        {
         "metadata": "{}",
         "name": "preferences",
         "type": "{\"type\":\"array\",\"elementType\":\"string\",\"containsNull\":true}"
        },
        {
         "metadata": "{}",
         "name": "Size",
         "type": "\"integer\""
        }
       ],
       "type": "table"
      }
     },
     "output_type": "display_data"
    }
   ],
   "source": [
    "# Method 2:\n",
    "pref_Loc = [\"pLocation\", \"sLocation\", \"aLocation\"]\n",
    "df_wC_M2 = df.withColumn(\"preferences\", array(*pref_Loc))\\\n",
    "             .withColumn(\"Size\", F.size(\"preferences\"))\\\n",
    "             .select(\"name\", \"preferences\", \"Size\")\n",
    "df_wC_M2.printSchema()\n",
    "display(df_wC_M2)"
   ]
  },
  {
   "cell_type": "code",
   "execution_count": 0,
   "metadata": {
    "application/vnd.databricks.v1+cell": {
     "cellMetadata": {
      "byteLimit": 2048000,
      "rowLimit": 10000
     },
     "inputWidgets": {},
     "nuid": "f5a0fdee-d946-493d-a22f-98d3e5d013f4",
     "showTitle": true,
     "title": "withColumn: Method 03"
    }
   },
   "outputs": [
    {
     "output_type": "stream",
     "name": "stdout",
     "output_type": "stream",
     "text": [
      "root\n |-- name: string (nullable = true)\n |-- preferences: array (nullable = false)\n |    |-- element: string (containsNull = true)\n |-- Size: integer (nullable = false)\n\n"
     ]
    },
    {
     "output_type": "display_data",
     "data": {
      "text/html": [
       "<style scoped>\n",
       "  .table-result-container {\n",
       "    max-height: 300px;\n",
       "    overflow: auto;\n",
       "  }\n",
       "  table, th, td {\n",
       "    border: 1px solid black;\n",
       "    border-collapse: collapse;\n",
       "  }\n",
       "  th, td {\n",
       "    padding: 5px;\n",
       "  }\n",
       "  th {\n",
       "    text-align: left;\n",
       "  }\n",
       "</style><div class='table-result-container'><table class='table-result'><thead style='background-color: white'><tr><th>name</th><th>preferences</th><th>Size</th></tr></thead><tbody><tr><td>Adarsh</td><td>List(Chennai, Cochin, Hyderabad)</td><td>3</td></tr><tr><td>Akash</td><td>List(Coimbatore, Mumbai, Chennai)</td><td>3</td></tr><tr><td>Senthil</td><td>List(Salem, Bangalore, null)</td><td>3</td></tr><tr><td>Kalyan</td><td>List(Delhi, Bangalore, Noida)</td><td>3</td></tr><tr><td>Sohile</td><td>List(Mumbai, Pune, Cochin)</td><td>3</td></tr><tr><td>Gouthami</td><td>List(Chennai, Mumbai, null)</td><td>3</td></tr><tr><td>Hemanth</td><td>List(Delhi, Noida, Kolkata)</td><td>3</td></tr></tbody></table></div>"
      ]
     },
     "metadata": {
      "application/vnd.databricks.v1+output": {
       "addedWidgets": {},
       "aggData": [],
       "aggError": "",
       "aggOverflow": false,
       "aggSchema": [],
       "aggSeriesLimitReached": false,
       "aggType": "",
       "arguments": {},
       "columnCustomDisplayInfos": {},
       "data": [
        [
         "Adarsh",
         [
          "Chennai",
          "Cochin",
          "Hyderabad"
         ],
         3
        ],
        [
         "Akash",
         [
          "Coimbatore",
          "Mumbai",
          "Chennai"
         ],
         3
        ],
        [
         "Senthil",
         [
          "Salem",
          "Bangalore",
          null
         ],
         3
        ],
        [
         "Kalyan",
         [
          "Delhi",
          "Bangalore",
          "Noida"
         ],
         3
        ],
        [
         "Sohile",
         [
          "Mumbai",
          "Pune",
          "Cochin"
         ],
         3
        ],
        [
         "Gouthami",
         [
          "Chennai",
          "Mumbai",
          null
         ],
         3
        ],
        [
         "Hemanth",
         [
          "Delhi",
          "Noida",
          "Kolkata"
         ],
         3
        ]
       ],
       "datasetInfos": [],
       "dbfsResultPath": null,
       "isJsonSchema": true,
       "metadata": {},
       "overflow": false,
       "plotOptions": {
        "customPlotOptions": {},
        "displayType": "table",
        "pivotAggregation": null,
        "pivotColumns": null,
        "xColumns": null,
        "yColumns": null
       },
       "removedWidgets": [],
       "schema": [
        {
         "metadata": "{}",
         "name": "name",
         "type": "\"string\""
        },
        {
         "metadata": "{}",
         "name": "preferences",
         "type": "{\"type\":\"array\",\"elementType\":\"string\",\"containsNull\":true}"
        },
        {
         "metadata": "{}",
         "name": "Size",
         "type": "\"integer\""
        }
       ],
       "type": "table"
      }
     },
     "output_type": "display_data"
    }
   ],
   "source": [
    "# Method 3:\n",
    "pref_Loc = [\"pLocation\", \"sLocation\", \"aLocation\"]\n",
    "df_wC_M3 = df.withColumn(\"preferences\", array([col(prefLoc) for prefLoc in pref_Loc]))\\\n",
    "             .withColumn(\"Size\", F.size(\"preferences\"))\\\n",
    "             .select(\"name\", \"preferences\", \"Size\")\n",
    "df_wC_M3.printSchema()\n",
    "display(df_wC_M3)"
   ]
  }
 ],
 "metadata": {
  "application/vnd.databricks.v1+notebook": {
   "dashboards": [],
   "environmentMetadata": null,
   "language": "python",
   "notebookMetadata": {
    "pythonIndentUnit": 4
   },
   "notebookName": "1_ArrayType Column in Pyspark",
   "widgets": {}
  }
 },
 "nbformat": 4,
 "nbformat_minor": 0
}
