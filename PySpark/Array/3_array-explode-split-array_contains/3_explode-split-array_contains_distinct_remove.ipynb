{
 "cells": [
  {
   "cell_type": "markdown",
   "metadata": {
    "application/vnd.databricks.v1+cell": {
     "cellMetadata": {},
     "inputWidgets": {},
     "nuid": "a40e170d-87b5-4bcb-b749-03b16926c8c2",
     "showTitle": false,
     "title": ""
    }
   },
   "source": [
    "#### **Array Functions**\n",
    "\n",
    "1) Explode\n",
    "2) Split\n",
    "3) Array\n",
    "4) Array_contains\n",
    "5) array_distinct\n",
    "6) array_remove"
   ]
  },
  {
   "cell_type": "code",
   "execution_count": 0,
   "metadata": {
    "application/vnd.databricks.v1+cell": {
     "cellMetadata": {
      "byteLimit": 2048000,
      "rowLimit": 10000
     },
     "inputWidgets": {},
     "nuid": "9ccca236-0e07-4ff2-affc-4abc0983c7a0",
     "showTitle": false,
     "title": ""
    }
   },
   "outputs": [],
   "source": [
    "from pyspark.sql.types import IntegerType, StringType, ArrayType, StructType, StructField\n",
    "from pyspark.sql.functions import explode, split, array, array_contains, array_distinct, array_remove"
   ]
  },
  {
   "cell_type": "code",
   "execution_count": 0,
   "metadata": {
    "application/vnd.databricks.v1+cell": {
     "cellMetadata": {
      "byteLimit": 2048000,
      "rowLimit": 10000
     },
     "inputWidgets": {},
     "nuid": "c4c0ded7-4676-41d2-9cfe-67f054bed741",
     "showTitle": false,
     "title": ""
    }
   },
   "outputs": [
    {
     "output_type": "stream",
     "name": "stdout",
     "output_type": "stream",
     "text": [
      "root\n |-- FullName: string (nullable = true)\n |-- LearntLanguages: array (nullable = true)\n |    |-- element: string (containsNull = true)\n |-- ToLearnLanguages: array (nullable = true)\n |    |-- element: string (containsNull = true)\n |-- Rating: array (nullable = true)\n |    |-- element: integer (containsNull = true)\n |-- PresentState: string (nullable = true)\n |-- PreviousState: string (nullable = true)\n |-- Age: integer (nullable = true)\n |-- Experience: integer (nullable = true)\n\n"
     ]
    },
    {
     "output_type": "display_data",
     "data": {
      "text/html": [
       "<style scoped>\n",
       "  .table-result-container {\n",
       "    max-height: 300px;\n",
       "    overflow: auto;\n",
       "  }\n",
       "  table, th, td {\n",
       "    border: 1px solid black;\n",
       "    border-collapse: collapse;\n",
       "  }\n",
       "  th, td {\n",
       "    padding: 5px;\n",
       "  }\n",
       "  th {\n",
       "    text-align: left;\n",
       "  }\n",
       "</style><div class='table-result-container'><table class='table-result'><thead style='background-color: white'><tr><th>FullName</th><th>LearntLanguages</th><th>ToLearnLanguages</th><th>Rating</th><th>PresentState</th><th>PreviousState</th><th>Age</th><th>Experience</th></tr></thead><tbody><tr><td>Amar,,Singh</td><td>List(Java, Scala, C++)</td><td>List(Spark, Java, Azure Databricks)</td><td>List(8, 9, 5, 7)</td><td>Bangalore</td><td>Chennai</td><td>25</td><td>7</td></tr><tr><td>Ramesh,Rathode,</td><td>List(Python, PySpark, C)</td><td>List(spark sql, ADF)</td><td>List(11, 3, 6, 8)</td><td>Hyderabad</td><td>Kochin</td><td>35</td><td>8</td></tr><tr><td>Asha,,Rani</td><td>List(Devops, VB, Git)</td><td>List(ApacheSpark, Python)</td><td>List(5, 6, 8, 10)</td><td>Amaravathi</td><td>Noida</td><td>30</td><td>10</td></tr><tr><td>Rakesh,Kothur,</td><td>List(SQL, Azure, AWS)</td><td>List(PySpark, Oracle, Confluence)</td><td>List(12, 6, 8, 15)</td><td>Noida</td><td>Mumbai</td><td>33</td><td>5</td></tr><tr><td>Krishna,,Joshi</td><td>List(GCC, Visual Studio)</td><td>List(SQL, Databricks, SQL Editor)</td><td>List(2, 6, 5, 8)</td><td>Delhi</td><td>Kolkata</td><td>28</td><td>6</td></tr><tr><td>Hari,,Rani</td><td>List(Devops, VB, Git)</td><td>List(ApacheSpark, Python)</td><td>List(5, 6, 8, 10)</td><td>Amaravathi</td><td>Noida</td><td>30</td><td>10</td></tr><tr><td>Rakesh,kumar,</td><td>List(SQL, Azure, AWS)</td><td>List(PySpark, Oracle, Schema)</td><td>List(12, 6, 8, 15)</td><td>luknow</td><td>Mumbai</td><td>33</td><td>5</td></tr><tr><td>karan,,Joshi</td><td>List(AWS, Visual Studio)</td><td>List(SQL, Git, SQL Editor)</td><td>List(2, 6, 5, 8)</td><td>Delhi</td><td>Noida</td><td>28</td><td>6</td></tr></tbody></table></div>"
      ]
     },
     "metadata": {
      "application/vnd.databricks.v1+output": {
       "addedWidgets": {},
       "aggData": [],
       "aggError": "",
       "aggOverflow": false,
       "aggSchema": [],
       "aggSeriesLimitReached": false,
       "aggType": "",
       "arguments": {},
       "columnCustomDisplayInfos": {},
       "data": [
        [
         "Amar,,Singh",
         [
          "Java",
          "Scala",
          "C++"
         ],
         [
          "Spark",
          "Java",
          "Azure Databricks"
         ],
         [
          8,
          9,
          5,
          7
         ],
         "Bangalore",
         "Chennai",
         25,
         7
        ],
        [
         "Ramesh,Rathode,",
         [
          "Python",
          "PySpark",
          "C"
         ],
         [
          "spark sql",
          "ADF"
         ],
         [
          11,
          3,
          6,
          8
         ],
         "Hyderabad",
         "Kochin",
         35,
         8
        ],
        [
         "Asha,,Rani",
         [
          "Devops",
          "VB",
          "Git"
         ],
         [
          "ApacheSpark",
          "Python"
         ],
         [
          5,
          6,
          8,
          10
         ],
         "Amaravathi",
         "Noida",
         30,
         10
        ],
        [
         "Rakesh,Kothur,",
         [
          "SQL",
          "Azure",
          "AWS"
         ],
         [
          "PySpark",
          "Oracle",
          "Confluence"
         ],
         [
          12,
          6,
          8,
          15
         ],
         "Noida",
         "Mumbai",
         33,
         5
        ],
        [
         "Krishna,,Joshi",
         [
          "GCC",
          "Visual Studio"
         ],
         [
          "SQL",
          "Databricks",
          "SQL Editor"
         ],
         [
          2,
          6,
          5,
          8
         ],
         "Delhi",
         "Kolkata",
         28,
         6
        ],
        [
         "Hari,,Rani",
         [
          "Devops",
          "VB",
          "Git"
         ],
         [
          "ApacheSpark",
          "Python"
         ],
         [
          5,
          6,
          8,
          10
         ],
         "Amaravathi",
         "Noida",
         30,
         10
        ],
        [
         "Rakesh,kumar,",
         [
          "SQL",
          "Azure",
          "AWS"
         ],
         [
          "PySpark",
          "Oracle",
          "Schema"
         ],
         [
          12,
          6,
          8,
          15
         ],
         "luknow",
         "Mumbai",
         33,
         5
        ],
        [
         "karan,,Joshi",
         [
          "AWS",
          "Visual Studio"
         ],
         [
          "SQL",
          "Git",
          "SQL Editor"
         ],
         [
          2,
          6,
          5,
          8
         ],
         "Delhi",
         "Noida",
         28,
         6
        ]
       ],
       "datasetInfos": [],
       "dbfsResultPath": null,
       "isJsonSchema": true,
       "metadata": {},
       "overflow": false,
       "plotOptions": {
        "customPlotOptions": {},
        "displayType": "table",
        "pivotAggregation": null,
        "pivotColumns": null,
        "xColumns": null,
        "yColumns": null
       },
       "removedWidgets": [],
       "schema": [
        {
         "metadata": "{}",
         "name": "FullName",
         "type": "\"string\""
        },
        {
         "metadata": "{}",
         "name": "LearntLanguages",
         "type": "{\"type\":\"array\",\"elementType\":\"string\",\"containsNull\":true}"
        },
        {
         "metadata": "{}",
         "name": "ToLearnLanguages",
         "type": "{\"type\":\"array\",\"elementType\":\"string\",\"containsNull\":true}"
        },
        {
         "metadata": "{}",
         "name": "Rating",
         "type": "{\"type\":\"array\",\"elementType\":\"integer\",\"containsNull\":true}"
        },
        {
         "metadata": "{}",
         "name": "PresentState",
         "type": "\"string\""
        },
        {
         "metadata": "{}",
         "name": "PreviousState",
         "type": "\"string\""
        },
        {
         "metadata": "{}",
         "name": "Age",
         "type": "\"integer\""
        },
        {
         "metadata": "{}",
         "name": "Experience",
         "type": "\"integer\""
        }
       ],
       "type": "table"
      }
     },
     "output_type": "display_data"
    }
   ],
   "source": [
    "data = [(\"Amar,,Singh\",[\"Java\",\"Scala\",\"C++\"], [\"Spark\",\"Java\",\"Azure Databricks\"], [8, 9, 5, 7], \"Bangalore\", \"Chennai\", 25, 7),\n",
    "         (\"Ramesh,Rathode,\", [\"Python\",\"PySpark\",\"C\"], [\"spark sql\",\"ADF\"], [11, 3, 6, 8], \"Hyderabad\", \"Kochin\", 35, 8),\n",
    "        (\"Asha,,Rani\", [\"Devops\",\"VB\",\"Git\"], [\"ApacheSpark\",\"Python\"], [5, 6, 8, 10], \"Amaravathi\", \"Noida\", 30, 10),\n",
    "        (\"Rakesh,Kothur,\", [\"SQL\",\"Azure\",\"AWS\"], [\"PySpark\",\"Oracle\",\"Confluence\"], [12, 6, 8, 15], \"Noida\", \"Mumbai\", 33, 5),\n",
    "        (\"Krishna,,Joshi\", [\"GCC\",\"Visual Studio\"], [\"SQL\",\"Databricks\",\"SQL Editor\"], [2, 6, 5, 8], \"Delhi\", \"Kolkata\", 28, 6),\n",
    "        (\"Hari,,Rani\", [\"Devops\",\"VB\",\"Git\"], [\"ApacheSpark\",\"Python\"], [5, 6, 8, 10], \"Amaravathi\", \"Noida\", 30, 10),\n",
    "        (\"Rakesh,kumar,\", [\"SQL\",\"Azure\",\"AWS\"], [\"PySpark\",\"Oracle\",\"Schema\"], [12, 6, 8, 15], \"luknow\", \"Mumbai\", 33, 5),\n",
    "        (\"karan,,Joshi\", [\"AWS\",\"Visual Studio\"], [\"SQL\",\"Git\",\"SQL Editor\"], [2, 6, 5, 8], \"Delhi\", \"Noida\", 28, 6),\n",
    "        ]\n",
    "\n",
    "schema = StructType([ \n",
    "    StructField(\"FullName\", StringType(), True), \n",
    "    StructField(\"LearntLanguages\", ArrayType(StringType()), True), \n",
    "    StructField(\"ToLearnLanguages\", ArrayType(StringType()), True),\n",
    "    StructField(\"Rating\", ArrayType(IntegerType()), True), \n",
    "    StructField(\"PresentState\", StringType(), True), \n",
    "    StructField(\"PreviousState\", StringType(), True),\n",
    "    StructField(\"Age\", IntegerType(), True),\n",
    "    StructField(\"Experience\", IntegerType(), True)\n",
    "  ])\n",
    "\n",
    "df = spark.createDataFrame(data=data, schema=schema)\n",
    "df.printSchema()\n",
    "display(df)"
   ]
  },
  {
   "cell_type": "markdown",
   "metadata": {
    "application/vnd.databricks.v1+cell": {
     "cellMetadata": {},
     "inputWidgets": {},
     "nuid": "c2969071-35de-43f5-936b-b9d8746a9922",
     "showTitle": false,
     "title": ""
    }
   },
   "source": [
    "#### **1) Explode**\n",
    "\n",
    "- To create a **new row for each element** in the given **array column**."
   ]
  },
  {
   "cell_type": "code",
   "execution_count": 0,
   "metadata": {
    "application/vnd.databricks.v1+cell": {
     "cellMetadata": {
      "byteLimit": 2048000,
      "rowLimit": 10000
     },
     "inputWidgets": {},
     "nuid": "fbd85073-f1ab-4030-b908-783a2a18bc4d",
     "showTitle": true,
     "title": "Explode Array of String elements"
    }
   },
   "outputs": [
    {
     "output_type": "display_data",
     "data": {
      "text/html": [
       "<style scoped>\n",
       "  .table-result-container {\n",
       "    max-height: 300px;\n",
       "    overflow: auto;\n",
       "  }\n",
       "  table, th, td {\n",
       "    border: 1px solid black;\n",
       "    border-collapse: collapse;\n",
       "  }\n",
       "  th, td {\n",
       "    padding: 5px;\n",
       "  }\n",
       "  th {\n",
       "    text-align: left;\n",
       "  }\n",
       "</style><div class='table-result-container'><table class='table-result'><thead style='background-color: white'><tr><th>FullName</th><th>col</th></tr></thead><tbody><tr><td>Amar,,Singh</td><td>Java</td></tr><tr><td>Amar,,Singh</td><td>Scala</td></tr><tr><td>Amar,,Singh</td><td>C++</td></tr><tr><td>Ramesh,Rathode,</td><td>Python</td></tr><tr><td>Ramesh,Rathode,</td><td>PySpark</td></tr><tr><td>Ramesh,Rathode,</td><td>C</td></tr><tr><td>Asha,,Rani</td><td>Devops</td></tr><tr><td>Asha,,Rani</td><td>VB</td></tr><tr><td>Asha,,Rani</td><td>Git</td></tr><tr><td>Rakesh,Kothur,</td><td>SQL</td></tr><tr><td>Rakesh,Kothur,</td><td>Azure</td></tr><tr><td>Rakesh,Kothur,</td><td>AWS</td></tr><tr><td>Krishna,,Joshi</td><td>GCC</td></tr><tr><td>Krishna,,Joshi</td><td>Visual Studio</td></tr><tr><td>Hari,,Rani</td><td>Devops</td></tr><tr><td>Hari,,Rani</td><td>VB</td></tr><tr><td>Hari,,Rani</td><td>Git</td></tr><tr><td>Rakesh,kumar,</td><td>SQL</td></tr><tr><td>Rakesh,kumar,</td><td>Azure</td></tr><tr><td>Rakesh,kumar,</td><td>AWS</td></tr><tr><td>karan,,Joshi</td><td>AWS</td></tr><tr><td>karan,,Joshi</td><td>Visual Studio</td></tr></tbody></table></div>"
      ]
     },
     "metadata": {
      "application/vnd.databricks.v1+output": {
       "addedWidgets": {},
       "aggData": [],
       "aggError": "",
       "aggOverflow": false,
       "aggSchema": [],
       "aggSeriesLimitReached": false,
       "aggType": "",
       "arguments": {},
       "columnCustomDisplayInfos": {},
       "data": [
        [
         "Amar,,Singh",
         "Java"
        ],
        [
         "Amar,,Singh",
         "Scala"
        ],
        [
         "Amar,,Singh",
         "C++"
        ],
        [
         "Ramesh,Rathode,",
         "Python"
        ],
        [
         "Ramesh,Rathode,",
         "PySpark"
        ],
        [
         "Ramesh,Rathode,",
         "C"
        ],
        [
         "Asha,,Rani",
         "Devops"
        ],
        [
         "Asha,,Rani",
         "VB"
        ],
        [
         "Asha,,Rani",
         "Git"
        ],
        [
         "Rakesh,Kothur,",
         "SQL"
        ],
        [
         "Rakesh,Kothur,",
         "Azure"
        ],
        [
         "Rakesh,Kothur,",
         "AWS"
        ],
        [
         "Krishna,,Joshi",
         "GCC"
        ],
        [
         "Krishna,,Joshi",
         "Visual Studio"
        ],
        [
         "Hari,,Rani",
         "Devops"
        ],
        [
         "Hari,,Rani",
         "VB"
        ],
        [
         "Hari,,Rani",
         "Git"
        ],
        [
         "Rakesh,kumar,",
         "SQL"
        ],
        [
         "Rakesh,kumar,",
         "Azure"
        ],
        [
         "Rakesh,kumar,",
         "AWS"
        ],
        [
         "karan,,Joshi",
         "AWS"
        ],
        [
         "karan,,Joshi",
         "Visual Studio"
        ]
       ],
       "datasetInfos": [],
       "dbfsResultPath": null,
       "isJsonSchema": true,
       "metadata": {},
       "overflow": false,
       "plotOptions": {
        "customPlotOptions": {},
        "displayType": "table",
        "pivotAggregation": null,
        "pivotColumns": null,
        "xColumns": null,
        "yColumns": null
       },
       "removedWidgets": [],
       "schema": [
        {
         "metadata": "{}",
         "name": "FullName",
         "type": "\"string\""
        },
        {
         "metadata": "{}",
         "name": "col",
         "type": "\"string\""
        }
       ],
       "type": "table"
      }
     },
     "output_type": "display_data"
    }
   ],
   "source": [
    "df_expl = df.select(\"FullName\", explode(\"LearntLanguages\"))\n",
    "display(df_expl)"
   ]
  },
  {
   "cell_type": "code",
   "execution_count": 0,
   "metadata": {
    "application/vnd.databricks.v1+cell": {
     "cellMetadata": {
      "byteLimit": 2048000,
      "rowLimit": 10000
     },
     "inputWidgets": {},
     "nuid": "6ce8bc8c-c744-4e32-b73b-c03d6cfc5125",
     "showTitle": false,
     "title": ""
    }
   },
   "outputs": [
    {
     "output_type": "display_data",
     "data": {
      "text/html": [
       "<style scoped>\n",
       "  .table-result-container {\n",
       "    max-height: 300px;\n",
       "    overflow: auto;\n",
       "  }\n",
       "  table, th, td {\n",
       "    border: 1px solid black;\n",
       "    border-collapse: collapse;\n",
       "  }\n",
       "  th, td {\n",
       "    padding: 5px;\n",
       "  }\n",
       "  th {\n",
       "    text-align: left;\n",
       "  }\n",
       "</style><div class='table-result-container'><table class='table-result'><thead style='background-color: white'><tr><th>FullName</th><th>col</th></tr></thead><tbody><tr><td>Amar,,Singh</td><td>8</td></tr><tr><td>Amar,,Singh</td><td>9</td></tr><tr><td>Amar,,Singh</td><td>5</td></tr><tr><td>Amar,,Singh</td><td>7</td></tr><tr><td>Ramesh,Rathode,</td><td>11</td></tr><tr><td>Ramesh,Rathode,</td><td>3</td></tr><tr><td>Ramesh,Rathode,</td><td>6</td></tr><tr><td>Ramesh,Rathode,</td><td>8</td></tr><tr><td>Asha,,Rani</td><td>5</td></tr><tr><td>Asha,,Rani</td><td>6</td></tr><tr><td>Asha,,Rani</td><td>8</td></tr><tr><td>Asha,,Rani</td><td>10</td></tr><tr><td>Rakesh,Kothur,</td><td>12</td></tr><tr><td>Rakesh,Kothur,</td><td>6</td></tr><tr><td>Rakesh,Kothur,</td><td>8</td></tr><tr><td>Rakesh,Kothur,</td><td>15</td></tr><tr><td>Krishna,,Joshi</td><td>2</td></tr><tr><td>Krishna,,Joshi</td><td>6</td></tr><tr><td>Krishna,,Joshi</td><td>5</td></tr><tr><td>Krishna,,Joshi</td><td>8</td></tr><tr><td>Hari,,Rani</td><td>5</td></tr><tr><td>Hari,,Rani</td><td>6</td></tr><tr><td>Hari,,Rani</td><td>8</td></tr><tr><td>Hari,,Rani</td><td>10</td></tr><tr><td>Rakesh,kumar,</td><td>12</td></tr><tr><td>Rakesh,kumar,</td><td>6</td></tr><tr><td>Rakesh,kumar,</td><td>8</td></tr><tr><td>Rakesh,kumar,</td><td>15</td></tr><tr><td>karan,,Joshi</td><td>2</td></tr><tr><td>karan,,Joshi</td><td>6</td></tr><tr><td>karan,,Joshi</td><td>5</td></tr><tr><td>karan,,Joshi</td><td>8</td></tr></tbody></table></div>"
      ]
     },
     "metadata": {
      "application/vnd.databricks.v1+output": {
       "addedWidgets": {},
       "aggData": [],
       "aggError": "",
       "aggOverflow": false,
       "aggSchema": [],
       "aggSeriesLimitReached": false,
       "aggType": "",
       "arguments": {},
       "columnCustomDisplayInfos": {},
       "data": [
        [
         "Amar,,Singh",
         8
        ],
        [
         "Amar,,Singh",
         9
        ],
        [
         "Amar,,Singh",
         5
        ],
        [
         "Amar,,Singh",
         7
        ],
        [
         "Ramesh,Rathode,",
         11
        ],
        [
         "Ramesh,Rathode,",
         3
        ],
        [
         "Ramesh,Rathode,",
         6
        ],
        [
         "Ramesh,Rathode,",
         8
        ],
        [
         "Asha,,Rani",
         5
        ],
        [
         "Asha,,Rani",
         6
        ],
        [
         "Asha,,Rani",
         8
        ],
        [
         "Asha,,Rani",
         10
        ],
        [
         "Rakesh,Kothur,",
         12
        ],
        [
         "Rakesh,Kothur,",
         6
        ],
        [
         "Rakesh,Kothur,",
         8
        ],
        [
         "Rakesh,Kothur,",
         15
        ],
        [
         "Krishna,,Joshi",
         2
        ],
        [
         "Krishna,,Joshi",
         6
        ],
        [
         "Krishna,,Joshi",
         5
        ],
        [
         "Krishna,,Joshi",
         8
        ],
        [
         "Hari,,Rani",
         5
        ],
        [
         "Hari,,Rani",
         6
        ],
        [
         "Hari,,Rani",
         8
        ],
        [
         "Hari,,Rani",
         10
        ],
        [
         "Rakesh,kumar,",
         12
        ],
        [
         "Rakesh,kumar,",
         6
        ],
        [
         "Rakesh,kumar,",
         8
        ],
        [
         "Rakesh,kumar,",
         15
        ],
        [
         "karan,,Joshi",
         2
        ],
        [
         "karan,,Joshi",
         6
        ],
        [
         "karan,,Joshi",
         5
        ],
        [
         "karan,,Joshi",
         8
        ]
       ],
       "datasetInfos": [],
       "dbfsResultPath": null,
       "isJsonSchema": true,
       "metadata": {},
       "overflow": false,
       "plotOptions": {
        "customPlotOptions": {},
        "displayType": "table",
        "pivotAggregation": null,
        "pivotColumns": null,
        "xColumns": null,
        "yColumns": null
       },
       "removedWidgets": [],
       "schema": [
        {
         "metadata": "{}",
         "name": "FullName",
         "type": "\"string\""
        },
        {
         "metadata": "{}",
         "name": "col",
         "type": "\"integer\""
        }
       ],
       "type": "table"
      }
     },
     "output_type": "display_data"
    }
   ],
   "source": [
    "df_expl1 = df.select(\"FullName\", explode(\"Rating\"))\n",
    "display(df_expl1)"
   ]
  },
  {
   "cell_type": "markdown",
   "metadata": {
    "application/vnd.databricks.v1+cell": {
     "cellMetadata": {},
     "inputWidgets": {},
     "nuid": "02c8362b-22b7-4f3f-aae1-a222394a2a22",
     "showTitle": false,
     "title": ""
    }
   },
   "source": [
    "#### **2) Split**\n",
    "\n",
    "- It Convert **String Column to Array**.\n",
    "\n",
    "- Returns an **array type** after splitting the **string column by delimiter**.\n",
    "- The split function takes two arguments: the name of the **column** to split and the **delimiter**.\n",
    "\n",
    "      Convert array to string: F.concat_ws()\n",
    "      Convert string to array: F.split()"
   ]
  },
  {
   "cell_type": "code",
   "execution_count": 0,
   "metadata": {
    "application/vnd.databricks.v1+cell": {
     "cellMetadata": {
      "byteLimit": 2048000,
      "rowLimit": 10000
     },
     "inputWidgets": {},
     "nuid": "ca915bed-bccb-4da2-ad6c-a19ad88c36d6",
     "showTitle": true,
     "title": "Convert String Column to Array of String"
    }
   },
   "outputs": [
    {
     "output_type": "display_data",
     "data": {
      "text/html": [
       "<style scoped>\n",
       "  .table-result-container {\n",
       "    max-height: 300px;\n",
       "    overflow: auto;\n",
       "  }\n",
       "  table, th, td {\n",
       "    border: 1px solid black;\n",
       "    border-collapse: collapse;\n",
       "  }\n",
       "  th, td {\n",
       "    padding: 5px;\n",
       "  }\n",
       "  th {\n",
       "    text-align: left;\n",
       "  }\n",
       "</style><div class='table-result-container'><table class='table-result'><thead style='background-color: white'><tr><th>FullName</th><th>FullNameSplit</th></tr></thead><tbody><tr><td>Amar,,Singh</td><td>List(Amar, , Singh)</td></tr><tr><td>Ramesh,Rathode,</td><td>List(Ramesh, Rathode, )</td></tr><tr><td>Asha,,Rani</td><td>List(Asha, , Rani)</td></tr><tr><td>Rakesh,Kothur,</td><td>List(Rakesh, Kothur, )</td></tr><tr><td>Krishna,,Joshi</td><td>List(Krishna, , Joshi)</td></tr><tr><td>Hari,,Rani</td><td>List(Hari, , Rani)</td></tr><tr><td>Rakesh,kumar,</td><td>List(Rakesh, kumar, )</td></tr><tr><td>karan,,Joshi</td><td>List(karan, , Joshi)</td></tr></tbody></table></div>"
      ]
     },
     "metadata": {
      "application/vnd.databricks.v1+output": {
       "addedWidgets": {},
       "aggData": [],
       "aggError": "",
       "aggOverflow": false,
       "aggSchema": [],
       "aggSeriesLimitReached": false,
       "aggType": "",
       "arguments": {},
       "columnCustomDisplayInfos": {},
       "data": [
        [
         "Amar,,Singh",
         [
          "Amar",
          "",
          "Singh"
         ]
        ],
        [
         "Ramesh,Rathode,",
         [
          "Ramesh",
          "Rathode",
          ""
         ]
        ],
        [
         "Asha,,Rani",
         [
          "Asha",
          "",
          "Rani"
         ]
        ],
        [
         "Rakesh,Kothur,",
         [
          "Rakesh",
          "Kothur",
          ""
         ]
        ],
        [
         "Krishna,,Joshi",
         [
          "Krishna",
          "",
          "Joshi"
         ]
        ],
        [
         "Hari,,Rani",
         [
          "Hari",
          "",
          "Rani"
         ]
        ],
        [
         "Rakesh,kumar,",
         [
          "Rakesh",
          "kumar",
          ""
         ]
        ],
        [
         "karan,,Joshi",
         [
          "karan",
          "",
          "Joshi"
         ]
        ]
       ],
       "datasetInfos": [],
       "dbfsResultPath": null,
       "isJsonSchema": true,
       "metadata": {},
       "overflow": false,
       "plotOptions": {
        "customPlotOptions": {},
        "displayType": "table",
        "pivotAggregation": null,
        "pivotColumns": null,
        "xColumns": null,
        "yColumns": null
       },
       "removedWidgets": [],
       "schema": [
        {
         "metadata": "{}",
         "name": "FullName",
         "type": "\"string\""
        },
        {
         "metadata": "{}",
         "name": "FullNameSplit",
         "type": "{\"type\":\"array\",\"elementType\":\"string\",\"containsNull\":false}"
        }
       ],
       "type": "table"
      }
     },
     "output_type": "display_data"
    }
   ],
   "source": [
    "df_spl = df.select(\"FullName\", split(\"FullName\",\",\").alias(\"FullNameSplit\"))\n",
    "display(df_spl)"
   ]
  },
  {
   "cell_type": "markdown",
   "metadata": {
    "application/vnd.databricks.v1+cell": {
     "cellMetadata": {},
     "inputWidgets": {},
     "nuid": "bad6b05d-dba2-4893-b2dd-ac09eca69be6",
     "showTitle": false,
     "title": ""
    }
   },
   "source": [
    "#### **3) Array**\n",
    "\n",
    "- To create a **new array column** by **merging** the data from **multiple columns**.\n",
    "- All input columns must have the **same data type**."
   ]
  },
  {
   "cell_type": "code",
   "execution_count": 0,
   "metadata": {
    "application/vnd.databricks.v1+cell": {
     "cellMetadata": {
      "byteLimit": 2048000,
      "rowLimit": 10000
     },
     "inputWidgets": {},
     "nuid": "06281976-9a16-4669-b661-bd902c2efdb4",
     "showTitle": true,
     "title": "Create Array column from multiple columns"
    }
   },
   "outputs": [
    {
     "output_type": "display_data",
     "data": {
      "text/html": [
       "<style scoped>\n",
       "  .table-result-container {\n",
       "    max-height: 300px;\n",
       "    overflow: auto;\n",
       "  }\n",
       "  table, th, td {\n",
       "    border: 1px solid black;\n",
       "    border-collapse: collapse;\n",
       "  }\n",
       "  th, td {\n",
       "    padding: 5px;\n",
       "  }\n",
       "  th {\n",
       "    text-align: left;\n",
       "  }\n",
       "</style><div class='table-result-container'><table class='table-result'><thead style='background-color: white'><tr><th>LearntLanguages</th><th>ToLearnLanguages</th><th>Comb_Lang</th><th>Age</th><th>Experience</th><th>Age_Exp</th></tr></thead><tbody><tr><td>List(Java, Scala, C++)</td><td>List(Spark, Java, Azure Databricks)</td><td>List(List(Java, Scala, C++), List(Spark, Java, Azure Databricks))</td><td>25</td><td>7</td><td>List(25, 7)</td></tr><tr><td>List(Python, PySpark, C)</td><td>List(spark sql, ADF)</td><td>List(List(Python, PySpark, C), List(spark sql, ADF))</td><td>35</td><td>8</td><td>List(35, 8)</td></tr><tr><td>List(Devops, VB, Git)</td><td>List(ApacheSpark, Python)</td><td>List(List(Devops, VB, Git), List(ApacheSpark, Python))</td><td>30</td><td>10</td><td>List(30, 10)</td></tr><tr><td>List(SQL, Azure, AWS)</td><td>List(PySpark, Oracle, Confluence)</td><td>List(List(SQL, Azure, AWS), List(PySpark, Oracle, Confluence))</td><td>33</td><td>5</td><td>List(33, 5)</td></tr><tr><td>List(GCC, Visual Studio)</td><td>List(SQL, Databricks, SQL Editor)</td><td>List(List(GCC, Visual Studio), List(SQL, Databricks, SQL Editor))</td><td>28</td><td>6</td><td>List(28, 6)</td></tr><tr><td>List(Devops, VB, Git)</td><td>List(ApacheSpark, Python)</td><td>List(List(Devops, VB, Git), List(ApacheSpark, Python))</td><td>30</td><td>10</td><td>List(30, 10)</td></tr><tr><td>List(SQL, Azure, AWS)</td><td>List(PySpark, Oracle, Schema)</td><td>List(List(SQL, Azure, AWS), List(PySpark, Oracle, Schema))</td><td>33</td><td>5</td><td>List(33, 5)</td></tr><tr><td>List(AWS, Visual Studio)</td><td>List(SQL, Git, SQL Editor)</td><td>List(List(AWS, Visual Studio), List(SQL, Git, SQL Editor))</td><td>28</td><td>6</td><td>List(28, 6)</td></tr></tbody></table></div>"
      ]
     },
     "metadata": {
      "application/vnd.databricks.v1+output": {
       "addedWidgets": {},
       "aggData": [],
       "aggError": "",
       "aggOverflow": false,
       "aggSchema": [],
       "aggSeriesLimitReached": false,
       "aggType": "",
       "arguments": {},
       "columnCustomDisplayInfos": {},
       "data": [
        [
         [
          "Java",
          "Scala",
          "C++"
         ],
         [
          "Spark",
          "Java",
          "Azure Databricks"
         ],
         [
          [
           "Java",
           "Scala",
           "C++"
          ],
          [
           "Spark",
           "Java",
           "Azure Databricks"
          ]
         ],
         25,
         7,
         [
          25,
          7
         ]
        ],
        [
         [
          "Python",
          "PySpark",
          "C"
         ],
         [
          "spark sql",
          "ADF"
         ],
         [
          [
           "Python",
           "PySpark",
           "C"
          ],
          [
           "spark sql",
           "ADF"
          ]
         ],
         35,
         8,
         [
          35,
          8
         ]
        ],
        [
         [
          "Devops",
          "VB",
          "Git"
         ],
         [
          "ApacheSpark",
          "Python"
         ],
         [
          [
           "Devops",
           "VB",
           "Git"
          ],
          [
           "ApacheSpark",
           "Python"
          ]
         ],
         30,
         10,
         [
          30,
          10
         ]
        ],
        [
         [
          "SQL",
          "Azure",
          "AWS"
         ],
         [
          "PySpark",
          "Oracle",
          "Confluence"
         ],
         [
          [
           "SQL",
           "Azure",
           "AWS"
          ],
          [
           "PySpark",
           "Oracle",
           "Confluence"
          ]
         ],
         33,
         5,
         [
          33,
          5
         ]
        ],
        [
         [
          "GCC",
          "Visual Studio"
         ],
         [
          "SQL",
          "Databricks",
          "SQL Editor"
         ],
         [
          [
           "GCC",
           "Visual Studio"
          ],
          [
           "SQL",
           "Databricks",
           "SQL Editor"
          ]
         ],
         28,
         6,
         [
          28,
          6
         ]
        ],
        [
         [
          "Devops",
          "VB",
          "Git"
         ],
         [
          "ApacheSpark",
          "Python"
         ],
         [
          [
           "Devops",
           "VB",
           "Git"
          ],
          [
           "ApacheSpark",
           "Python"
          ]
         ],
         30,
         10,
         [
          30,
          10
         ]
        ],
        [
         [
          "SQL",
          "Azure",
          "AWS"
         ],
         [
          "PySpark",
          "Oracle",
          "Schema"
         ],
         [
          [
           "SQL",
           "Azure",
           "AWS"
          ],
          [
           "PySpark",
           "Oracle",
           "Schema"
          ]
         ],
         33,
         5,
         [
          33,
          5
         ]
        ],
        [
         [
          "AWS",
          "Visual Studio"
         ],
         [
          "SQL",
          "Git",
          "SQL Editor"
         ],
         [
          [
           "AWS",
           "Visual Studio"
          ],
          [
           "SQL",
           "Git",
           "SQL Editor"
          ]
         ],
         28,
         6,
         [
          28,
          6
         ]
        ]
       ],
       "datasetInfos": [],
       "dbfsResultPath": null,
       "isJsonSchema": true,
       "metadata": {},
       "overflow": false,
       "plotOptions": {
        "customPlotOptions": {},
        "displayType": "table",
        "pivotAggregation": null,
        "pivotColumns": null,
        "xColumns": null,
        "yColumns": null
       },
       "removedWidgets": [],
       "schema": [
        {
         "metadata": "{}",
         "name": "LearntLanguages",
         "type": "{\"type\":\"array\",\"elementType\":\"string\",\"containsNull\":true}"
        },
        {
         "metadata": "{}",
         "name": "ToLearnLanguages",
         "type": "{\"type\":\"array\",\"elementType\":\"string\",\"containsNull\":true}"
        },
        {
         "metadata": "{}",
         "name": "Comb_Lang",
         "type": "{\"type\":\"array\",\"elementType\":{\"type\":\"array\",\"elementType\":\"string\",\"containsNull\":true},\"containsNull\":true}"
        },
        {
         "metadata": "{}",
         "name": "Age",
         "type": "\"integer\""
        },
        {
         "metadata": "{}",
         "name": "Experience",
         "type": "\"integer\""
        },
        {
         "metadata": "{}",
         "name": "Age_Exp",
         "type": "{\"type\":\"array\",\"elementType\":\"integer\",\"containsNull\":true}"
        }
       ],
       "type": "table"
      }
     },
     "output_type": "display_data"
    }
   ],
   "source": [
    "df_arry = df.withColumn(\"Comb_Lang\", array(\"LearntLanguages\", \"ToLearnLanguages\"))\\\n",
    "            .withColumn(\"Age_Exp\", array(\"Age\", \"Experience\"))\\\n",
    "            .select(\"LearntLanguages\", \"ToLearnLanguages\", \"Comb_Lang\", \"Age\", \"Experience\", \"Age_Exp\")\n",
    "display(df_arry)"
   ]
  },
  {
   "cell_type": "markdown",
   "metadata": {
    "application/vnd.databricks.v1+cell": {
     "cellMetadata": {},
     "inputWidgets": {},
     "nuid": "b70ff5e1-dac3-4056-9b60-50d67a09c081",
     "showTitle": false,
     "title": ""
    }
   },
   "source": [
    "#### **4) array_contains**\n",
    "\n",
    "- used to check if **array column contains a value**.\n",
    "  - **True**: If the value is **present**.\n",
    "  - **False**: If the value is **not present**.\n",
    "  - **null**: If the array column is **null/None**."
   ]
  },
  {
   "cell_type": "markdown",
   "metadata": {
    "application/vnd.databricks.v1+cell": {
     "cellMetadata": {},
     "inputWidgets": {},
     "nuid": "603b032f-5779-4a04-a744-01781fc481f0",
     "showTitle": false,
     "title": ""
    }
   },
   "source": [
    "#### **Syntax**\n",
    "\n",
    "     array_contains(array_column, value)\n",
    "     \n",
    "     column (str, Column): It represents a column of ArrayType\n",
    "     value (str): It represents the value to check if it is in the array column"
   ]
  },
  {
   "cell_type": "code",
   "execution_count": 0,
   "metadata": {
    "application/vnd.databricks.v1+cell": {
     "cellMetadata": {
      "byteLimit": 2048000,
      "rowLimit": 10000
     },
     "inputWidgets": {},
     "nuid": "ec607dda-2b6e-4191-bb5d-f8a9a2e5697f",
     "showTitle": false,
     "title": ""
    }
   },
   "outputs": [
    {
     "output_type": "display_data",
     "data": {
      "text/html": [
       "<style scoped>\n",
       "  .table-result-container {\n",
       "    max-height: 300px;\n",
       "    overflow: auto;\n",
       "  }\n",
       "  table, th, td {\n",
       "    border: 1px solid black;\n",
       "    border-collapse: collapse;\n",
       "  }\n",
       "  th, td {\n",
       "    padding: 5px;\n",
       "  }\n",
       "  th {\n",
       "    text-align: left;\n",
       "  }\n",
       "</style><div class='table-result-container'><table class='table-result'><thead style='background-color: white'><tr><th>FullName</th><th>LearntLanguages</th><th>Knows_Python</th><th>ToLearnLanguages</th><th>Knows_PySpark</th><th>Rating</th><th>rating</th></tr></thead><tbody><tr><td>Amar,,Singh</td><td>List(Java, Scala, C++)</td><td>false</td><td>List(Spark, Java, Azure Databricks)</td><td>false</td><td>List(8, 9, 5, 7)</td><td>true</td></tr><tr><td>Ramesh,Rathode,</td><td>List(Python, PySpark, C)</td><td>false</td><td>List(spark sql, ADF)</td><td>false</td><td>List(11, 3, 6, 8)</td><td>true</td></tr><tr><td>Asha,,Rani</td><td>List(Devops, VB, Git)</td><td>false</td><td>List(ApacheSpark, Python)</td><td>false</td><td>List(5, 6, 8, 10)</td><td>true</td></tr><tr><td>Rakesh,Kothur,</td><td>List(SQL, Azure, AWS)</td><td>true</td><td>List(PySpark, Oracle, Confluence)</td><td>true</td><td>List(12, 6, 8, 15)</td><td>true</td></tr><tr><td>Krishna,,Joshi</td><td>List(GCC, Visual Studio)</td><td>false</td><td>List(SQL, Databricks, SQL Editor)</td><td>false</td><td>List(2, 6, 5, 8)</td><td>true</td></tr><tr><td>Hari,,Rani</td><td>List(Devops, VB, Git)</td><td>false</td><td>List(ApacheSpark, Python)</td><td>false</td><td>List(5, 6, 8, 10)</td><td>true</td></tr><tr><td>Rakesh,kumar,</td><td>List(SQL, Azure, AWS)</td><td>true</td><td>List(PySpark, Oracle, Schema)</td><td>true</td><td>List(12, 6, 8, 15)</td><td>true</td></tr><tr><td>karan,,Joshi</td><td>List(AWS, Visual Studio)</td><td>false</td><td>List(SQL, Git, SQL Editor)</td><td>false</td><td>List(2, 6, 5, 8)</td><td>true</td></tr></tbody></table></div>"
      ]
     },
     "metadata": {
      "application/vnd.databricks.v1+output": {
       "addedWidgets": {},
       "aggData": [],
       "aggError": "",
       "aggOverflow": false,
       "aggSchema": [],
       "aggSeriesLimitReached": false,
       "aggType": "",
       "arguments": {},
       "columnCustomDisplayInfos": {},
       "data": [
        [
         "Amar,,Singh",
         [
          "Java",
          "Scala",
          "C++"
         ],
         false,
         [
          "Spark",
          "Java",
          "Azure Databricks"
         ],
         false,
         [
          8,
          9,
          5,
          7
         ],
         true
        ],
        [
         "Ramesh,Rathode,",
         [
          "Python",
          "PySpark",
          "C"
         ],
         false,
         [
          "spark sql",
          "ADF"
         ],
         false,
         [
          11,
          3,
          6,
          8
         ],
         true
        ],
        [
         "Asha,,Rani",
         [
          "Devops",
          "VB",
          "Git"
         ],
         false,
         [
          "ApacheSpark",
          "Python"
         ],
         false,
         [
          5,
          6,
          8,
          10
         ],
         true
        ],
        [
         "Rakesh,Kothur,",
         [
          "SQL",
          "Azure",
          "AWS"
         ],
         true,
         [
          "PySpark",
          "Oracle",
          "Confluence"
         ],
         true,
         [
          12,
          6,
          8,
          15
         ],
         true
        ],
        [
         "Krishna,,Joshi",
         [
          "GCC",
          "Visual Studio"
         ],
         false,
         [
          "SQL",
          "Databricks",
          "SQL Editor"
         ],
         false,
         [
          2,
          6,
          5,
          8
         ],
         true
        ],
        [
         "Hari,,Rani",
         [
          "Devops",
          "VB",
          "Git"
         ],
         false,
         [
          "ApacheSpark",
          "Python"
         ],
         false,
         [
          5,
          6,
          8,
          10
         ],
         true
        ],
        [
         "Rakesh,kumar,",
         [
          "SQL",
          "Azure",
          "AWS"
         ],
         true,
         [
          "PySpark",
          "Oracle",
          "Schema"
         ],
         true,
         [
          12,
          6,
          8,
          15
         ],
         true
        ],
        [
         "karan,,Joshi",
         [
          "AWS",
          "Visual Studio"
         ],
         false,
         [
          "SQL",
          "Git",
          "SQL Editor"
         ],
         false,
         [
          2,
          6,
          5,
          8
         ],
         true
        ]
       ],
       "datasetInfos": [],
       "dbfsResultPath": null,
       "isJsonSchema": true,
       "metadata": {},
       "overflow": false,
       "plotOptions": {
        "customPlotOptions": {},
        "displayType": "table",
        "pivotAggregation": null,
        "pivotColumns": null,
        "xColumns": null,
        "yColumns": null
       },
       "removedWidgets": [],
       "schema": [
        {
         "metadata": "{}",
         "name": "FullName",
         "type": "\"string\""
        },
        {
         "metadata": "{}",
         "name": "LearntLanguages",
         "type": "{\"type\":\"array\",\"elementType\":\"string\",\"containsNull\":true}"
        },
        {
         "metadata": "{}",
         "name": "Knows_Python",
         "type": "\"boolean\""
        },
        {
         "metadata": "{}",
         "name": "ToLearnLanguages",
         "type": "{\"type\":\"array\",\"elementType\":\"string\",\"containsNull\":true}"
        },
        {
         "metadata": "{}",
         "name": "Knows_PySpark",
         "type": "\"boolean\""
        },
        {
         "metadata": "{}",
         "name": "Rating",
         "type": "{\"type\":\"array\",\"elementType\":\"integer\",\"containsNull\":true}"
        },
        {
         "metadata": "{}",
         "name": "rating",
         "type": "\"boolean\""
        }
       ],
       "type": "table"
      }
     },
     "output_type": "display_data"
    }
   ],
   "source": [
    "df_arr_con = df.select(\"FullName\",\\\n",
    "  \"LearntLanguages\", array_contains(df.LearntLanguages, \"SQL\").alias(\"Knows_Python\"),\\\n",
    "  \"ToLearnLanguages\", array_contains(df.ToLearnLanguages, \"PySpark\").alias(\"Knows_PySpark\"),\\\n",
    "  \"Rating\", array_contains(df.Rating, 8).alias(\"rating\"))\n",
    "display(df_arr_con)"
   ]
  },
  {
   "cell_type": "markdown",
   "metadata": {
    "application/vnd.databricks.v1+cell": {
     "cellMetadata": {},
     "inputWidgets": {},
     "nuid": "22bf892c-4833-4bef-b52a-5177877c321b",
     "showTitle": false,
     "title": ""
    }
   },
   "source": [
    "#### **5) array_distinct**\n",
    "\n",
    "- To **remove duplicate** values from **array column**.\n",
    "\n",
    "#### **Syntax**\n",
    "\n",
    "      array_distinct(column)"
   ]
  },
  {
   "cell_type": "code",
   "execution_count": 0,
   "metadata": {
    "application/vnd.databricks.v1+cell": {
     "cellMetadata": {
      "byteLimit": 2048000,
      "rowLimit": 10000
     },
     "inputWidgets": {},
     "nuid": "1d928f36-1f05-4517-a843-dc0e42526b9c",
     "showTitle": false,
     "title": ""
    }
   },
   "outputs": [
    {
     "output_type": "display_data",
     "data": {
      "text/html": [
       "<style scoped>\n",
       "  .table-result-container {\n",
       "    max-height: 300px;\n",
       "    overflow: auto;\n",
       "  }\n",
       "  table, th, td {\n",
       "    border: 1px solid black;\n",
       "    border-collapse: collapse;\n",
       "  }\n",
       "  th, td {\n",
       "    padding: 5px;\n",
       "  }\n",
       "  th {\n",
       "    text-align: left;\n",
       "  }\n",
       "</style><div class='table-result-container'><table class='table-result'><thead style='background-color: white'><tr><th>FullName</th><th>LearntLanguages</th><th>ToLearnLanguages</th><th>Rating</th></tr></thead><tbody><tr><td>Amar</td><td>List(Java, Scala, C++, C++)</td><td>List(Spark, Java, Azure, Java)</td><td>List(8, 9, 5, 7, 5, 8)</td></tr><tr><td>Ramesh</td><td>List(Python, PySpark, C, Python)</td><td>List(spark sql, ADF, ADF)</td><td>List(11, 3, 6, 8, 3)</td></tr><tr><td>Asha</td><td>List(Devops, VB, Git, VB)</td><td>List(ApacheSpark, Python, Python)</td><td>List(5, 6, 8, 10, 5, 6)</td></tr><tr><td>Rakesh</td><td>List(SQL, Azure, AWS, SQL)</td><td>List(PySpark, Oracle, Confluence, PySpark)</td><td>List(12, 6, 8, 15, 6)</td></tr><tr><td>Krishna</td><td>List(GCC, Visual Studio, GCC)</td><td>List(SQL, Databricks, SQL Editor, Databricks)</td><td>List(2, 6, 5, 8, 8, 6)</td></tr><tr><td>Hari</td><td>List(Devops, VB, Git, VB)</td><td>List(ApacheSpark, Python, Python)</td><td>List(5, 6, 8, 10, 5, 6)</td></tr><tr><td>Rakesh</td><td>List(SQL, Azure, AWS, Azure)</td><td>List(PySpark, Oracle, Schema, PySpark)</td><td>List(12, 6, 8, 15, 12, 8)</td></tr><tr><td>karan</td><td>List(AWS, Visual Studio, SQL, AWS)</td><td>List(SQL, Git, SQL Editor, Git)</td><td>List(2, 6, 5, 8, 6, 8, 5)</td></tr></tbody></table></div>"
      ]
     },
     "metadata": {
      "application/vnd.databricks.v1+output": {
       "addedWidgets": {},
       "aggData": [],
       "aggError": "",
       "aggOverflow": false,
       "aggSchema": [],
       "aggSeriesLimitReached": false,
       "aggType": "",
       "arguments": {},
       "columnCustomDisplayInfos": {},
       "data": [
        [
         "Amar",
         [
          "Java",
          "Scala",
          "C++",
          "C++"
         ],
         [
          "Spark",
          "Java",
          "Azure",
          "Java"
         ],
         [
          8,
          9,
          5,
          7,
          5,
          8
         ]
        ],
        [
         "Ramesh",
         [
          "Python",
          "PySpark",
          "C",
          "Python"
         ],
         [
          "spark sql",
          "ADF",
          "ADF"
         ],
         [
          11,
          3,
          6,
          8,
          3
         ]
        ],
        [
         "Asha",
         [
          "Devops",
          "VB",
          "Git",
          "VB"
         ],
         [
          "ApacheSpark",
          "Python",
          "Python"
         ],
         [
          5,
          6,
          8,
          10,
          5,
          6
         ]
        ],
        [
         "Rakesh",
         [
          "SQL",
          "Azure",
          "AWS",
          "SQL"
         ],
         [
          "PySpark",
          "Oracle",
          "Confluence",
          "PySpark"
         ],
         [
          12,
          6,
          8,
          15,
          6
         ]
        ],
        [
         "Krishna",
         [
          "GCC",
          "Visual Studio",
          "GCC"
         ],
         [
          "SQL",
          "Databricks",
          "SQL Editor",
          "Databricks"
         ],
         [
          2,
          6,
          5,
          8,
          8,
          6
         ]
        ],
        [
         "Hari",
         [
          "Devops",
          "VB",
          "Git",
          "VB"
         ],
         [
          "ApacheSpark",
          "Python",
          "Python"
         ],
         [
          5,
          6,
          8,
          10,
          5,
          6
         ]
        ],
        [
         "Rakesh",
         [
          "SQL",
          "Azure",
          "AWS",
          "Azure"
         ],
         [
          "PySpark",
          "Oracle",
          "Schema",
          "PySpark"
         ],
         [
          12,
          6,
          8,
          15,
          12,
          8
         ]
        ],
        [
         "karan",
         [
          "AWS",
          "Visual Studio",
          "SQL",
          "AWS"
         ],
         [
          "SQL",
          "Git",
          "SQL Editor",
          "Git"
         ],
         [
          2,
          6,
          5,
          8,
          6,
          8,
          5
         ]
        ]
       ],
       "datasetInfos": [],
       "dbfsResultPath": null,
       "isJsonSchema": true,
       "metadata": {},
       "overflow": false,
       "plotOptions": {
        "customPlotOptions": {},
        "displayType": "table",
        "pivotAggregation": null,
        "pivotColumns": null,
        "xColumns": null,
        "yColumns": null
       },
       "removedWidgets": [],
       "schema": [
        {
         "metadata": "{}",
         "name": "FullName",
         "type": "\"string\""
        },
        {
         "metadata": "{}",
         "name": "LearntLanguages",
         "type": "{\"type\":\"array\",\"elementType\":\"string\",\"containsNull\":true}"
        },
        {
         "metadata": "{}",
         "name": "ToLearnLanguages",
         "type": "{\"type\":\"array\",\"elementType\":\"string\",\"containsNull\":true}"
        },
        {
         "metadata": "{}",
         "name": "Rating",
         "type": "{\"type\":\"array\",\"elementType\":\"integer\",\"containsNull\":true}"
        }
       ],
       "type": "table"
      }
     },
     "output_type": "display_data"
    }
   ],
   "source": [
    "data_dup = [(\"Amar\",[\"Java\",\"Scala\",\"C++\",\"C++\"], [\"Spark\",\"Java\",\"Azure\",\"Java\"], [8, 9, 5, 7, 5, 8]),\n",
    "            (\"Ramesh\", [\"Python\",\"PySpark\",\"C\",\"Python\"], [\"spark sql\",\"ADF\",\"ADF\"], [11, 3, 6, 8, 3]),\n",
    "            (\"Asha\", [\"Devops\",\"VB\",\"Git\",\"VB\"], [\"ApacheSpark\",\"Python\",\"Python\"], [5, 6, 8, 10, 5, 6]),\n",
    "            (\"Rakesh\", [\"SQL\",\"Azure\",\"AWS\",\"SQL\"], [\"PySpark\",\"Oracle\",\"Confluence\",\"PySpark\"], [12, 6, 8, 15, 6]),\n",
    "            (\"Krishna\", [\"GCC\",\"Visual Studio\",\"GCC\"], [\"SQL\",\"Databricks\",\"SQL Editor\",\"Databricks\"], [2, 6, 5, 8, 8, 6]),\n",
    "            (\"Hari\", [\"Devops\",\"VB\",\"Git\",\"VB\"], [\"ApacheSpark\",\"Python\",\"Python\"], [5, 6, 8, 10, 5, 6]),\n",
    "            (\"Rakesh\", [\"SQL\",\"Azure\",\"AWS\",\"Azure\"], [\"PySpark\",\"Oracle\",\"Schema\",\"PySpark\"], [12, 6, 8, 15, 12, 8]),\n",
    "            (\"karan\", [\"AWS\",\"Visual Studio\",\"SQL\",\"AWS\"], [\"SQL\",\"Git\",\"SQL Editor\",\"Git\"], [2, 6, 5, 8, 6, 8, 5]),\n",
    "           ]\n",
    "\n",
    "schema_dup = StructType([\n",
    "  StructField(\"FullName\", StringType(), True), \n",
    "  StructField(\"LearntLanguages\", ArrayType(StringType()), True), \n",
    "  StructField(\"ToLearnLanguages\", ArrayType(StringType()), True),\n",
    "  StructField(\"Rating\", ArrayType(IntegerType()), True)\n",
    "  ])\n",
    "\n",
    "df_dup = spark.createDataFrame(data=data_dup, schema=schema_dup)\n",
    "display(df_dup)"
   ]
  },
  {
   "cell_type": "code",
   "execution_count": 0,
   "metadata": {
    "application/vnd.databricks.v1+cell": {
     "cellMetadata": {
      "byteLimit": 2048000,
      "rowLimit": 10000
     },
     "inputWidgets": {},
     "nuid": "a6b562af-8cac-4648-95be-07e5dec0bd44",
     "showTitle": false,
     "title": ""
    }
   },
   "outputs": [
    {
     "output_type": "display_data",
     "data": {
      "text/html": [
       "<style scoped>\n",
       "  .table-result-container {\n",
       "    max-height: 300px;\n",
       "    overflow: auto;\n",
       "  }\n",
       "  table, th, td {\n",
       "    border: 1px solid black;\n",
       "    border-collapse: collapse;\n",
       "  }\n",
       "  th, td {\n",
       "    padding: 5px;\n",
       "  }\n",
       "  th {\n",
       "    text-align: left;\n",
       "  }\n",
       "</style><div class='table-result-container'><table class='table-result'><thead style='background-color: white'><tr><th>LearntLanguages</th><th>dup_Learnt</th><th>ToLearnLanguages</th><th>dup_ToLearn</th><th>Rating</th><th>dup_Rating</th></tr></thead><tbody><tr><td>List(Java, Scala, C++, C++)</td><td>List(Java, Scala, C++)</td><td>List(Spark, Java, Azure, Java)</td><td>List(Spark, Java, Azure)</td><td>List(8, 9, 5, 7, 5, 8)</td><td>List(8, 9, 5, 7)</td></tr><tr><td>List(Python, PySpark, C, Python)</td><td>List(Python, PySpark, C)</td><td>List(spark sql, ADF, ADF)</td><td>List(spark sql, ADF)</td><td>List(11, 3, 6, 8, 3)</td><td>List(11, 3, 6, 8)</td></tr><tr><td>List(Devops, VB, Git, VB)</td><td>List(Devops, VB, Git)</td><td>List(ApacheSpark, Python, Python)</td><td>List(ApacheSpark, Python)</td><td>List(5, 6, 8, 10, 5, 6)</td><td>List(5, 6, 8, 10)</td></tr><tr><td>List(SQL, Azure, AWS, SQL)</td><td>List(SQL, Azure, AWS)</td><td>List(PySpark, Oracle, Confluence, PySpark)</td><td>List(PySpark, Oracle, Confluence)</td><td>List(12, 6, 8, 15, 6)</td><td>List(12, 6, 8, 15)</td></tr><tr><td>List(GCC, Visual Studio, GCC)</td><td>List(GCC, Visual Studio)</td><td>List(SQL, Databricks, SQL Editor, Databricks)</td><td>List(SQL, Databricks, SQL Editor)</td><td>List(2, 6, 5, 8, 8, 6)</td><td>List(2, 6, 5, 8)</td></tr><tr><td>List(Devops, VB, Git, VB)</td><td>List(Devops, VB, Git)</td><td>List(ApacheSpark, Python, Python)</td><td>List(ApacheSpark, Python)</td><td>List(5, 6, 8, 10, 5, 6)</td><td>List(5, 6, 8, 10)</td></tr><tr><td>List(SQL, Azure, AWS, Azure)</td><td>List(SQL, Azure, AWS)</td><td>List(PySpark, Oracle, Schema, PySpark)</td><td>List(PySpark, Oracle, Schema)</td><td>List(12, 6, 8, 15, 12, 8)</td><td>List(12, 6, 8, 15)</td></tr><tr><td>List(AWS, Visual Studio, SQL, AWS)</td><td>List(AWS, Visual Studio, SQL)</td><td>List(SQL, Git, SQL Editor, Git)</td><td>List(SQL, Git, SQL Editor)</td><td>List(2, 6, 5, 8, 6, 8, 5)</td><td>List(2, 6, 5, 8)</td></tr></tbody></table></div>"
      ]
     },
     "metadata": {
      "application/vnd.databricks.v1+output": {
       "addedWidgets": {},
       "aggData": [],
       "aggError": "",
       "aggOverflow": false,
       "aggSchema": [],
       "aggSeriesLimitReached": false,
       "aggType": "",
       "arguments": {},
       "columnCustomDisplayInfos": {},
       "data": [
        [
         [
          "Java",
          "Scala",
          "C++",
          "C++"
         ],
         [
          "Java",
          "Scala",
          "C++"
         ],
         [
          "Spark",
          "Java",
          "Azure",
          "Java"
         ],
         [
          "Spark",
          "Java",
          "Azure"
         ],
         [
          8,
          9,
          5,
          7,
          5,
          8
         ],
         [
          8,
          9,
          5,
          7
         ]
        ],
        [
         [
          "Python",
          "PySpark",
          "C",
          "Python"
         ],
         [
          "Python",
          "PySpark",
          "C"
         ],
         [
          "spark sql",
          "ADF",
          "ADF"
         ],
         [
          "spark sql",
          "ADF"
         ],
         [
          11,
          3,
          6,
          8,
          3
         ],
         [
          11,
          3,
          6,
          8
         ]
        ],
        [
         [
          "Devops",
          "VB",
          "Git",
          "VB"
         ],
         [
          "Devops",
          "VB",
          "Git"
         ],
         [
          "ApacheSpark",
          "Python",
          "Python"
         ],
         [
          "ApacheSpark",
          "Python"
         ],
         [
          5,
          6,
          8,
          10,
          5,
          6
         ],
         [
          5,
          6,
          8,
          10
         ]
        ],
        [
         [
          "SQL",
          "Azure",
          "AWS",
          "SQL"
         ],
         [
          "SQL",
          "Azure",
          "AWS"
         ],
         [
          "PySpark",
          "Oracle",
          "Confluence",
          "PySpark"
         ],
         [
          "PySpark",
          "Oracle",
          "Confluence"
         ],
         [
          12,
          6,
          8,
          15,
          6
         ],
         [
          12,
          6,
          8,
          15
         ]
        ],
        [
         [
          "GCC",
          "Visual Studio",
          "GCC"
         ],
         [
          "GCC",
          "Visual Studio"
         ],
         [
          "SQL",
          "Databricks",
          "SQL Editor",
          "Databricks"
         ],
         [
          "SQL",
          "Databricks",
          "SQL Editor"
         ],
         [
          2,
          6,
          5,
          8,
          8,
          6
         ],
         [
          2,
          6,
          5,
          8
         ]
        ],
        [
         [
          "Devops",
          "VB",
          "Git",
          "VB"
         ],
         [
          "Devops",
          "VB",
          "Git"
         ],
         [
          "ApacheSpark",
          "Python",
          "Python"
         ],
         [
          "ApacheSpark",
          "Python"
         ],
         [
          5,
          6,
          8,
          10,
          5,
          6
         ],
         [
          5,
          6,
          8,
          10
         ]
        ],
        [
         [
          "SQL",
          "Azure",
          "AWS",
          "Azure"
         ],
         [
          "SQL",
          "Azure",
          "AWS"
         ],
         [
          "PySpark",
          "Oracle",
          "Schema",
          "PySpark"
         ],
         [
          "PySpark",
          "Oracle",
          "Schema"
         ],
         [
          12,
          6,
          8,
          15,
          12,
          8
         ],
         [
          12,
          6,
          8,
          15
         ]
        ],
        [
         [
          "AWS",
          "Visual Studio",
          "SQL",
          "AWS"
         ],
         [
          "AWS",
          "Visual Studio",
          "SQL"
         ],
         [
          "SQL",
          "Git",
          "SQL Editor",
          "Git"
         ],
         [
          "SQL",
          "Git",
          "SQL Editor"
         ],
         [
          2,
          6,
          5,
          8,
          6,
          8,
          5
         ],
         [
          2,
          6,
          5,
          8
         ]
        ]
       ],
       "datasetInfos": [],
       "dbfsResultPath": null,
       "isJsonSchema": true,
       "metadata": {},
       "overflow": false,
       "plotOptions": {
        "customPlotOptions": {},
        "displayType": "table",
        "pivotAggregation": null,
        "pivotColumns": null,
        "xColumns": null,
        "yColumns": null
       },
       "removedWidgets": [],
       "schema": [
        {
         "metadata": "{}",
         "name": "LearntLanguages",
         "type": "{\"type\":\"array\",\"elementType\":\"string\",\"containsNull\":true}"
        },
        {
         "metadata": "{}",
         "name": "dup_Learnt",
         "type": "{\"type\":\"array\",\"elementType\":\"string\",\"containsNull\":true}"
        },
        {
         "metadata": "{}",
         "name": "ToLearnLanguages",
         "type": "{\"type\":\"array\",\"elementType\":\"string\",\"containsNull\":true}"
        },
        {
         "metadata": "{}",
         "name": "dup_ToLearn",
         "type": "{\"type\":\"array\",\"elementType\":\"string\",\"containsNull\":true}"
        },
        {
         "metadata": "{}",
         "name": "Rating",
         "type": "{\"type\":\"array\",\"elementType\":\"integer\",\"containsNull\":true}"
        },
        {
         "metadata": "{}",
         "name": "dup_Rating",
         "type": "{\"type\":\"array\",\"elementType\":\"integer\",\"containsNull\":true}"
        }
       ],
       "type": "table"
      }
     },
     "output_type": "display_data"
    }
   ],
   "source": [
    "df_dist = df_dup.withColumn(\"dup_Learnt\", array_distinct(\"LearntLanguages\"))\\\n",
    "                .withColumn(\"dup_ToLearn\", array_distinct(\"ToLearnLanguages\"))\\\n",
    "                .withColumn(\"dup_Rating\", array_distinct(\"Rating\"))\\\n",
    "                .select(\"LearntLanguages\", \"dup_Learnt\", \"ToLearnLanguages\", \"dup_ToLearn\", \"Rating\", \"dup_Rating\")\n",
    "display(df_dist)"
   ]
  },
  {
   "cell_type": "markdown",
   "metadata": {
    "application/vnd.databricks.v1+cell": {
     "cellMetadata": {},
     "inputWidgets": {},
     "nuid": "969939be-7ce6-48c3-8a0c-4b7bd62ff2b9",
     "showTitle": false,
     "title": ""
    }
   },
   "source": [
    "#### **6) array_remove**\n",
    "\n",
    "- To **remove** particular element from the **array column**.\n",
    "- It will **remove** all the **occurrence** of that element.\n",
    "\n",
    "#### **Syntax**\n",
    "\n",
    "     array_remove(column, value)\n",
    "\n",
    "- 1st parameter(column) takes a **column name** containing **array**.\n",
    "- 2nd parameter(value) takes a **value** to **find index** of that element.     "
   ]
  },
  {
   "cell_type": "code",
   "execution_count": 0,
   "metadata": {
    "application/vnd.databricks.v1+cell": {
     "cellMetadata": {
      "byteLimit": 2048000,
      "rowLimit": 10000
     },
     "inputWidgets": {},
     "nuid": "cd7b4c23-80b4-4303-9365-dc1afc1e1e58",
     "showTitle": false,
     "title": ""
    }
   },
   "outputs": [
    {
     "output_type": "display_data",
     "data": {
      "text/html": [
       "<style scoped>\n",
       "  .table-result-container {\n",
       "    max-height: 300px;\n",
       "    overflow: auto;\n",
       "  }\n",
       "  table, th, td {\n",
       "    border: 1px solid black;\n",
       "    border-collapse: collapse;\n",
       "  }\n",
       "  th, td {\n",
       "    padding: 5px;\n",
       "  }\n",
       "  th {\n",
       "    text-align: left;\n",
       "  }\n",
       "</style><div class='table-result-container'><table class='table-result'><thead style='background-color: white'><tr><th>FullName</th><th>LearntLanguages</th><th>ToLearnLanguages</th><th>Rating</th></tr></thead><tbody><tr><td>Amar</td><td>List(Java, Scala, C++, C++)</td><td>List(Spark, Java, Azure, Python)</td><td>List(8, 9, 5, 7, 5, 8, 8)</td></tr><tr><td>Ramesh</td><td>List(Python, PySpark, C, Python)</td><td>List(spark sql, ADF, ADF)</td><td>List(11, 3, 6, 8, 3, 8)</td></tr><tr><td>Asha</td><td>List(Devops, VB, Git, VB)</td><td>List(ApacheSpark, Python, Python)</td><td>List(5, 6, 8, 10, 5, 6, 8)</td></tr><tr><td>Rakesh</td><td>List(SQL, Azure, AWS, SQL)</td><td>List(PySpark, Oracle, Python, PySpark)</td><td>List(12, 6, 8, 15, 6, 8)</td></tr><tr><td>Krishna</td><td>List(GCC, Visual Studio, GCC)</td><td>List(SQL, Databricks, Python, Databricks)</td><td>List(2, 6, 5, 8, 8, 6, 8)</td></tr><tr><td>Hari</td><td>List(Devops, VB, Git, VB)</td><td>List(ApacheSpark, Python, Python)</td><td>List(5, 6, 8, 10, 5, 6, 8)</td></tr><tr><td>Rakesh</td><td>List(SQL, Azure, AWS, Azure)</td><td>List(PySpark, Oracle, Schema, Python)</td><td>List(12, 6, 8, 15, 12, 8, 8)</td></tr><tr><td>karan</td><td>List(AWS, Visual Studio, SQL, AWS)</td><td>List(SQL, Git, SQL Editor, Python)</td><td>List(2, 6, 5, 8, 6, 8, 5, 8)</td></tr></tbody></table></div>"
      ]
     },
     "metadata": {
      "application/vnd.databricks.v1+output": {
       "addedWidgets": {},
       "aggData": [],
       "aggError": "",
       "aggOverflow": false,
       "aggSchema": [],
       "aggSeriesLimitReached": false,
       "aggType": "",
       "arguments": {},
       "columnCustomDisplayInfos": {},
       "data": [
        [
         "Amar",
         [
          "Java",
          "Scala",
          "C++",
          "C++"
         ],
         [
          "Spark",
          "Java",
          "Azure",
          "Python"
         ],
         [
          8,
          9,
          5,
          7,
          5,
          8,
          8
         ]
        ],
        [
         "Ramesh",
         [
          "Python",
          "PySpark",
          "C",
          "Python"
         ],
         [
          "spark sql",
          "ADF",
          "ADF"
         ],
         [
          11,
          3,
          6,
          8,
          3,
          8
         ]
        ],
        [
         "Asha",
         [
          "Devops",
          "VB",
          "Git",
          "VB"
         ],
         [
          "ApacheSpark",
          "Python",
          "Python"
         ],
         [
          5,
          6,
          8,
          10,
          5,
          6,
          8
         ]
        ],
        [
         "Rakesh",
         [
          "SQL",
          "Azure",
          "AWS",
          "SQL"
         ],
         [
          "PySpark",
          "Oracle",
          "Python",
          "PySpark"
         ],
         [
          12,
          6,
          8,
          15,
          6,
          8
         ]
        ],
        [
         "Krishna",
         [
          "GCC",
          "Visual Studio",
          "GCC"
         ],
         [
          "SQL",
          "Databricks",
          "Python",
          "Databricks"
         ],
         [
          2,
          6,
          5,
          8,
          8,
          6,
          8
         ]
        ],
        [
         "Hari",
         [
          "Devops",
          "VB",
          "Git",
          "VB"
         ],
         [
          "ApacheSpark",
          "Python",
          "Python"
         ],
         [
          5,
          6,
          8,
          10,
          5,
          6,
          8
         ]
        ],
        [
         "Rakesh",
         [
          "SQL",
          "Azure",
          "AWS",
          "Azure"
         ],
         [
          "PySpark",
          "Oracle",
          "Schema",
          "Python"
         ],
         [
          12,
          6,
          8,
          15,
          12,
          8,
          8
         ]
        ],
        [
         "karan",
         [
          "AWS",
          "Visual Studio",
          "SQL",
          "AWS"
         ],
         [
          "SQL",
          "Git",
          "SQL Editor",
          "Python"
         ],
         [
          2,
          6,
          5,
          8,
          6,
          8,
          5,
          8
         ]
        ]
       ],
       "datasetInfos": [],
       "dbfsResultPath": null,
       "isJsonSchema": true,
       "metadata": {},
       "overflow": false,
       "plotOptions": {
        "customPlotOptions": {},
        "displayType": "table",
        "pivotAggregation": null,
        "pivotColumns": null,
        "xColumns": null,
        "yColumns": null
       },
       "removedWidgets": [],
       "schema": [
        {
         "metadata": "{}",
         "name": "FullName",
         "type": "\"string\""
        },
        {
         "metadata": "{}",
         "name": "LearntLanguages",
         "type": "{\"type\":\"array\",\"elementType\":\"string\",\"containsNull\":true}"
        },
        {
         "metadata": "{}",
         "name": "ToLearnLanguages",
         "type": "{\"type\":\"array\",\"elementType\":\"string\",\"containsNull\":true}"
        },
        {
         "metadata": "{}",
         "name": "Rating",
         "type": "{\"type\":\"array\",\"elementType\":\"integer\",\"containsNull\":true}"
        }
       ],
       "type": "table"
      }
     },
     "output_type": "display_data"
    }
   ],
   "source": [
    "data_rm = [(\"Amar\",[\"Java\",\"Scala\",\"C++\",\"C++\"], [\"Spark\",\"Java\",\"Azure\",\"Python\"], [8, 9, 5, 7, 5, 8, 8]),\n",
    "           (\"Ramesh\", [\"Python\",\"PySpark\",\"C\",\"Python\"], [\"spark sql\",\"ADF\",\"ADF\"], [11, 3, 6, 8, 3, 8]),\n",
    "           (\"Asha\", [\"Devops\",\"VB\",\"Git\",\"VB\"], [\"ApacheSpark\",\"Python\",\"Python\"], [5, 6, 8, 10, 5, 6, 8]),\n",
    "           (\"Rakesh\", [\"SQL\",\"Azure\",\"AWS\",\"SQL\"], [\"PySpark\",\"Oracle\",\"Python\",\"PySpark\"], [12, 6, 8, 15, 6, 8]),\n",
    "           (\"Krishna\", [\"GCC\",\"Visual Studio\",\"GCC\"], [\"SQL\",\"Databricks\",\"Python\",\"Databricks\"], [2, 6, 5, 8, 8, 6, 8]),\n",
    "           (\"Hari\", [\"Devops\",\"VB\",\"Git\",\"VB\"], [\"ApacheSpark\",\"Python\",\"Python\"], [5, 6, 8, 10, 5, 6, 8]),\n",
    "           (\"Rakesh\", [\"SQL\",\"Azure\",\"AWS\",\"Azure\"], [\"PySpark\",\"Oracle\",\"Schema\",\"Python\"], [12, 6, 8, 15, 12, 8, 8]),\n",
    "           (\"karan\", [\"AWS\",\"Visual Studio\",\"SQL\",\"AWS\"], [\"SQL\",\"Git\",\"SQL Editor\",\"Python\"], [2, 6, 5, 8, 6, 8, 5, 8]),\n",
    "          ]\n",
    "\n",
    "schema_rm = StructType([\n",
    "  StructField(\"FullName\", StringType(), True), \n",
    "  StructField(\"LearntLanguages\", ArrayType(StringType()), True), \n",
    "  StructField(\"ToLearnLanguages\", ArrayType(StringType()), True),\n",
    "  StructField(\"Rating\", ArrayType(IntegerType()), True)\n",
    "  ])\n",
    "\n",
    "df_rm = spark.createDataFrame(data=data_rm, schema=schema_rm)\n",
    "display(df_rm)"
   ]
  },
  {
   "cell_type": "code",
   "execution_count": 0,
   "metadata": {
    "application/vnd.databricks.v1+cell": {
     "cellMetadata": {
      "byteLimit": 2048000,
      "rowLimit": 10000
     },
     "inputWidgets": {},
     "nuid": "07cc1be0-64b1-47bf-a986-a6b23edbfca5",
     "showTitle": false,
     "title": ""
    }
   },
   "outputs": [
    {
     "output_type": "display_data",
     "data": {
      "text/html": [
       "<style scoped>\n",
       "  .table-result-container {\n",
       "    max-height: 300px;\n",
       "    overflow: auto;\n",
       "  }\n",
       "  table, th, td {\n",
       "    border: 1px solid black;\n",
       "    border-collapse: collapse;\n",
       "  }\n",
       "  th, td {\n",
       "    padding: 5px;\n",
       "  }\n",
       "  th {\n",
       "    text-align: left;\n",
       "  }\n",
       "</style><div class='table-result-container'><table class='table-result'><thead style='background-color: white'><tr><th>LearntLanguages</th><th>rm_Learnt</th><th>ToLearnLanguages</th><th>rm_ToLearn</th><th>Rating</th><th>rm_Rating</th></tr></thead><tbody><tr><td>List(Java, Scala, C++, C++)</td><td>List(Java, Scala)</td><td>List(Spark, Java, Azure, Python)</td><td>List(Spark, Java, Azure)</td><td>List(8, 9, 5, 7, 5, 8, 8)</td><td>List(9, 5, 7, 5)</td></tr><tr><td>List(Python, PySpark, C, Python)</td><td>List(Python, PySpark, C, Python)</td><td>List(spark sql, ADF, ADF)</td><td>List(spark sql, ADF, ADF)</td><td>List(11, 3, 6, 8, 3, 8)</td><td>List(11, 3, 6, 3)</td></tr><tr><td>List(Devops, VB, Git, VB)</td><td>List(Devops, VB, Git, VB)</td><td>List(ApacheSpark, Python, Python)</td><td>List(ApacheSpark)</td><td>List(5, 6, 8, 10, 5, 6, 8)</td><td>List(5, 6, 10, 5, 6)</td></tr><tr><td>List(SQL, Azure, AWS, SQL)</td><td>List(SQL, Azure, AWS, SQL)</td><td>List(PySpark, Oracle, Python, PySpark)</td><td>List(PySpark, Oracle, PySpark)</td><td>List(12, 6, 8, 15, 6, 8)</td><td>List(12, 6, 15, 6)</td></tr><tr><td>List(GCC, Visual Studio, GCC)</td><td>List(GCC, Visual Studio, GCC)</td><td>List(SQL, Databricks, Python, Databricks)</td><td>List(SQL, Databricks, Databricks)</td><td>List(2, 6, 5, 8, 8, 6, 8)</td><td>List(2, 6, 5, 6)</td></tr><tr><td>List(Devops, VB, Git, VB)</td><td>List(Devops, VB, Git, VB)</td><td>List(ApacheSpark, Python, Python)</td><td>List(ApacheSpark)</td><td>List(5, 6, 8, 10, 5, 6, 8)</td><td>List(5, 6, 10, 5, 6)</td></tr><tr><td>List(SQL, Azure, AWS, Azure)</td><td>List(SQL, Azure, AWS, Azure)</td><td>List(PySpark, Oracle, Schema, Python)</td><td>List(PySpark, Oracle, Schema)</td><td>List(12, 6, 8, 15, 12, 8, 8)</td><td>List(12, 6, 15, 12)</td></tr><tr><td>List(AWS, Visual Studio, SQL, AWS)</td><td>List(AWS, Visual Studio, SQL, AWS)</td><td>List(SQL, Git, SQL Editor, Python)</td><td>List(SQL, Git, SQL Editor)</td><td>List(2, 6, 5, 8, 6, 8, 5, 8)</td><td>List(2, 6, 5, 6, 5)</td></tr></tbody></table></div>"
      ]
     },
     "metadata": {
      "application/vnd.databricks.v1+output": {
       "addedWidgets": {},
       "aggData": [],
       "aggError": "",
       "aggOverflow": false,
       "aggSchema": [],
       "aggSeriesLimitReached": false,
       "aggType": "",
       "arguments": {},
       "columnCustomDisplayInfos": {},
       "data": [
        [
         [
          "Java",
          "Scala",
          "C++",
          "C++"
         ],
         [
          "Java",
          "Scala"
         ],
         [
          "Spark",
          "Java",
          "Azure",
          "Python"
         ],
         [
          "Spark",
          "Java",
          "Azure"
         ],
         [
          8,
          9,
          5,
          7,
          5,
          8,
          8
         ],
         [
          9,
          5,
          7,
          5
         ]
        ],
        [
         [
          "Python",
          "PySpark",
          "C",
          "Python"
         ],
         [
          "Python",
          "PySpark",
          "C",
          "Python"
         ],
         [
          "spark sql",
          "ADF",
          "ADF"
         ],
         [
          "spark sql",
          "ADF",
          "ADF"
         ],
         [
          11,
          3,
          6,
          8,
          3,
          8
         ],
         [
          11,
          3,
          6,
          3
         ]
        ],
        [
         [
          "Devops",
          "VB",
          "Git",
          "VB"
         ],
         [
          "Devops",
          "VB",
          "Git",
          "VB"
         ],
         [
          "ApacheSpark",
          "Python",
          "Python"
         ],
         [
          "ApacheSpark"
         ],
         [
          5,
          6,
          8,
          10,
          5,
          6,
          8
         ],
         [
          5,
          6,
          10,
          5,
          6
         ]
        ],
        [
         [
          "SQL",
          "Azure",
          "AWS",
          "SQL"
         ],
         [
          "SQL",
          "Azure",
          "AWS",
          "SQL"
         ],
         [
          "PySpark",
          "Oracle",
          "Python",
          "PySpark"
         ],
         [
          "PySpark",
          "Oracle",
          "PySpark"
         ],
         [
          12,
          6,
          8,
          15,
          6,
          8
         ],
         [
          12,
          6,
          15,
          6
         ]
        ],
        [
         [
          "GCC",
          "Visual Studio",
          "GCC"
         ],
         [
          "GCC",
          "Visual Studio",
          "GCC"
         ],
         [
          "SQL",
          "Databricks",
          "Python",
          "Databricks"
         ],
         [
          "SQL",
          "Databricks",
          "Databricks"
         ],
         [
          2,
          6,
          5,
          8,
          8,
          6,
          8
         ],
         [
          2,
          6,
          5,
          6
         ]
        ],
        [
         [
          "Devops",
          "VB",
          "Git",
          "VB"
         ],
         [
          "Devops",
          "VB",
          "Git",
          "VB"
         ],
         [
          "ApacheSpark",
          "Python",
          "Python"
         ],
         [
          "ApacheSpark"
         ],
         [
          5,
          6,
          8,
          10,
          5,
          6,
          8
         ],
         [
          5,
          6,
          10,
          5,
          6
         ]
        ],
        [
         [
          "SQL",
          "Azure",
          "AWS",
          "Azure"
         ],
         [
          "SQL",
          "Azure",
          "AWS",
          "Azure"
         ],
         [
          "PySpark",
          "Oracle",
          "Schema",
          "Python"
         ],
         [
          "PySpark",
          "Oracle",
          "Schema"
         ],
         [
          12,
          6,
          8,
          15,
          12,
          8,
          8
         ],
         [
          12,
          6,
          15,
          12
         ]
        ],
        [
         [
          "AWS",
          "Visual Studio",
          "SQL",
          "AWS"
         ],
         [
          "AWS",
          "Visual Studio",
          "SQL",
          "AWS"
         ],
         [
          "SQL",
          "Git",
          "SQL Editor",
          "Python"
         ],
         [
          "SQL",
          "Git",
          "SQL Editor"
         ],
         [
          2,
          6,
          5,
          8,
          6,
          8,
          5,
          8
         ],
         [
          2,
          6,
          5,
          6,
          5
         ]
        ]
       ],
       "datasetInfos": [],
       "dbfsResultPath": null,
       "isJsonSchema": true,
       "metadata": {},
       "overflow": false,
       "plotOptions": {
        "customPlotOptions": {},
        "displayType": "table",
        "pivotAggregation": null,
        "pivotColumns": null,
        "xColumns": null,
        "yColumns": null
       },
       "removedWidgets": [],
       "schema": [
        {
         "metadata": "{}",
         "name": "LearntLanguages",
         "type": "{\"type\":\"array\",\"elementType\":\"string\",\"containsNull\":true}"
        },
        {
         "metadata": "{}",
         "name": "rm_Learnt",
         "type": "{\"type\":\"array\",\"elementType\":\"string\",\"containsNull\":true}"
        },
        {
         "metadata": "{}",
         "name": "ToLearnLanguages",
         "type": "{\"type\":\"array\",\"elementType\":\"string\",\"containsNull\":true}"
        },
        {
         "metadata": "{}",
         "name": "rm_ToLearn",
         "type": "{\"type\":\"array\",\"elementType\":\"string\",\"containsNull\":true}"
        },
        {
         "metadata": "{}",
         "name": "Rating",
         "type": "{\"type\":\"array\",\"elementType\":\"integer\",\"containsNull\":true}"
        },
        {
         "metadata": "{}",
         "name": "rm_Rating",
         "type": "{\"type\":\"array\",\"elementType\":\"integer\",\"containsNull\":true}"
        }
       ],
       "type": "table"
      }
     },
     "output_type": "display_data"
    }
   ],
   "source": [
    "# All occurrences of element \"a\" were removed.\n",
    "df_rem = df_rm.withColumn(\"rm_Learnt\", array_remove(\"LearntLanguages\", \"C++\"))\\\n",
    "              .withColumn(\"rm_ToLearn\", array_remove(\"ToLearnLanguages\", \"Python\"))\\\n",
    "              .withColumn(\"rm_Rating\", array_remove(\"Rating\", 8))\\\n",
    "              .select(\"LearntLanguages\", \"rm_Learnt\", \"ToLearnLanguages\", \"rm_ToLearn\", \"Rating\", \"rm_Rating\")\n",
    "display(df_rem)"
   ]
  }
 ],
 "metadata": {
  "application/vnd.databricks.v1+notebook": {
   "dashboards": [],
   "environmentMetadata": null,
   "language": "python",
   "notebookMetadata": {
    "pythonIndentUnit": 4
   },
   "notebookName": "3_explode-split-array_contains_distinct_remove",
   "widgets": {}
  }
 },
 "nbformat": 4,
 "nbformat_minor": 0
}
