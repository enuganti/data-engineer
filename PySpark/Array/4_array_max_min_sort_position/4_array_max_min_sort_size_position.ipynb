{
 "cells": [
  {
   "cell_type": "markdown",
   "metadata": {
    "application/vnd.databricks.v1+cell": {
     "cellMetadata": {},
     "inputWidgets": {},
     "nuid": "1319f114-ade0-4df4-8620-23578dc7a020",
     "showTitle": false,
     "title": ""
    }
   },
   "source": [
    "#### **Array Functions**\n",
    "\n",
    "- array_max\n",
    "- array_min\n",
    "- array_sort\n",
    "- array_position\n",
    "- array_size"
   ]
  },
  {
   "cell_type": "code",
   "execution_count": 0,
   "metadata": {
    "application/vnd.databricks.v1+cell": {
     "cellMetadata": {
      "byteLimit": 2048000,
      "rowLimit": 10000
     },
     "inputWidgets": {},
     "nuid": "b3c093e1-2b0f-47ce-9622-44f9c76051ec",
     "showTitle": true,
     "title": "Load Required Libraries"
    }
   },
   "outputs": [],
   "source": [
    "from pyspark.sql.types import IntegerType, StringType, ArrayType, StructType, StructField\n",
    "from pyspark.sql.functions import explode, split, array, array_contains, array_max, array_min, array_sort, array_position, array_size, element_at"
   ]
  },
  {
   "cell_type": "code",
   "execution_count": 0,
   "metadata": {
    "application/vnd.databricks.v1+cell": {
     "cellMetadata": {
      "byteLimit": 2048000,
      "rowLimit": 10000
     },
     "inputWidgets": {},
     "nuid": "90250709-7a2c-4d6e-87e0-c0ed34f7e3b5",
     "showTitle": true,
     "title": "Create Dataframe"
    }
   },
   "outputs": [
    {
     "output_type": "stream",
     "name": "stdout",
     "output_type": "stream",
     "text": [
      "root\n |-- FullName: string (nullable = true)\n |-- LearntLanguages: array (nullable = true)\n |    |-- element: string (containsNull = true)\n |-- ToLearnLanguages: array (nullable = true)\n |    |-- element: string (containsNull = true)\n |-- Rating: array (nullable = true)\n |    |-- element: integer (containsNull = true)\n\n"
     ]
    },
    {
     "output_type": "display_data",
     "data": {
      "text/html": [
       "<style scoped>\n",
       "  .table-result-container {\n",
       "    max-height: 300px;\n",
       "    overflow: auto;\n",
       "  }\n",
       "  table, th, td {\n",
       "    border: 1px solid black;\n",
       "    border-collapse: collapse;\n",
       "  }\n",
       "  th, td {\n",
       "    padding: 5px;\n",
       "  }\n",
       "  th {\n",
       "    text-align: left;\n",
       "  }\n",
       "</style><div class='table-result-container'><table class='table-result'><thead style='background-color: white'><tr><th>FullName</th><th>LearntLanguages</th><th>ToLearnLanguages</th><th>Rating</th></tr></thead><tbody><tr><td>Akash</td><td>List(Java, Scala, C++)</td><td>List(Spark, Java, Azure Databricks)</td><td>List(8, 9, 8, 5, 7)</td></tr><tr><td>Ramprasad</td><td>List(Python, PySpark, C, Python)</td><td>List(spark sql, ADF)</td><td>List(11, 8, 3, 6, 8)</td></tr><tr><td>Rohit</td><td>List(Scala, Devops, VB, Git)</td><td>List(ApacheSpark, Python)</td><td>List(5, 6, 8, 10, 8)</td></tr><tr><td>Raju</td><td>List(SQL, Azure, Scala, AWS)</td><td>List(PySpark, Oracle, Confluence)</td><td>List(12, 6, 5, 8, 8)</td></tr><tr><td>Kamalakar</td><td>List(GCC, Visual Studio, Python)</td><td>List(SQL, Databricks, SQL)</td><td>List(1, 2, 6, 5, 8)</td></tr><tr><td>Swetha</td><td>List(Devops, VB, Git, Scala)</td><td>List(ApacheSpark, Python)</td><td>List(5, 6, 8, 10, 3)</td></tr><tr><td>Mallik</td><td>List(SQL, Azure, AWS)</td><td>List(PySpark, Oracle, Schema)</td><td>List(12, null, 8, 15, 9)</td></tr><tr><td>Deepak</td><td>List(AWS, Python, Scala)</td><td>List(Git, SQL Editor, SQL)</td><td>List(2, 6, 5, 8, 4)</td></tr><tr><td>Kiran</td><td>List(Scala, Python, Spark)</td><td>List(ADF, AWS, SQL)</td><td>List(null, null, null, null, null)</td></tr><tr><td>Sumanth</td><td>List(Python, Scala, ADF)</td><td>List(KSql, Databricks, SQL)</td><td>List()</td></tr></tbody></table></div>"
      ]
     },
     "metadata": {
      "application/vnd.databricks.v1+output": {
       "addedWidgets": {},
       "aggData": [],
       "aggError": "",
       "aggOverflow": false,
       "aggSchema": [],
       "aggSeriesLimitReached": false,
       "aggType": "",
       "arguments": {},
       "columnCustomDisplayInfos": {},
       "data": [
        [
         "Akash",
         [
          "Java",
          "Scala",
          "C++"
         ],
         [
          "Spark",
          "Java",
          "Azure Databricks"
         ],
         [
          8,
          9,
          8,
          5,
          7
         ]
        ],
        [
         "Ramprasad",
         [
          "Python",
          "PySpark",
          "C",
          "Python"
         ],
         [
          "spark sql",
          "ADF"
         ],
         [
          11,
          8,
          3,
          6,
          8
         ]
        ],
        [
         "Rohit",
         [
          "Scala",
          "Devops",
          "VB",
          "Git"
         ],
         [
          "ApacheSpark",
          "Python"
         ],
         [
          5,
          6,
          8,
          10,
          8
         ]
        ],
        [
         "Raju",
         [
          "SQL",
          "Azure",
          "Scala",
          "AWS"
         ],
         [
          "PySpark",
          "Oracle",
          "Confluence"
         ],
         [
          12,
          6,
          5,
          8,
          8
         ]
        ],
        [
         "Kamalakar",
         [
          "GCC",
          "Visual Studio",
          "Python"
         ],
         [
          "SQL",
          "Databricks",
          "SQL"
         ],
         [
          1,
          2,
          6,
          5,
          8
         ]
        ],
        [
         "Swetha",
         [
          "Devops",
          "VB",
          "Git",
          "Scala"
         ],
         [
          "ApacheSpark",
          "Python"
         ],
         [
          5,
          6,
          8,
          10,
          3
         ]
        ],
        [
         "Mallik",
         [
          "SQL",
          "Azure",
          "AWS"
         ],
         [
          "PySpark",
          "Oracle",
          "Schema"
         ],
         [
          12,
          null,
          8,
          15,
          9
         ]
        ],
        [
         "Deepak",
         [
          "AWS",
          "Python",
          "Scala"
         ],
         [
          "Git",
          "SQL Editor",
          "SQL"
         ],
         [
          2,
          6,
          5,
          8,
          4
         ]
        ],
        [
         "Kiran",
         [
          "Scala",
          "Python",
          "Spark"
         ],
         [
          "ADF",
          "AWS",
          "SQL"
         ],
         [
          null,
          null,
          null,
          null,
          null
         ]
        ],
        [
         "Sumanth",
         [
          "Python",
          "Scala",
          "ADF"
         ],
         [
          "KSql",
          "Databricks",
          "SQL"
         ],
         []
        ]
       ],
       "datasetInfos": [],
       "dbfsResultPath": null,
       "isJsonSchema": true,
       "metadata": {},
       "overflow": false,
       "plotOptions": {
        "customPlotOptions": {},
        "displayType": "table",
        "pivotAggregation": null,
        "pivotColumns": null,
        "xColumns": null,
        "yColumns": null
       },
       "removedWidgets": [],
       "schema": [
        {
         "metadata": "{}",
         "name": "FullName",
         "type": "\"string\""
        },
        {
         "metadata": "{}",
         "name": "LearntLanguages",
         "type": "{\"type\":\"array\",\"elementType\":\"string\",\"containsNull\":true}"
        },
        {
         "metadata": "{}",
         "name": "ToLearnLanguages",
         "type": "{\"type\":\"array\",\"elementType\":\"string\",\"containsNull\":true}"
        },
        {
         "metadata": "{}",
         "name": "Rating",
         "type": "{\"type\":\"array\",\"elementType\":\"integer\",\"containsNull\":true}"
        }
       ],
       "type": "table"
      }
     },
     "output_type": "display_data"
    }
   ],
   "source": [
    "data = [(\"Akash\", [\"Java\", \"Scala\", \"C++\"], [\"Spark\", \"Java\", \"Azure Databricks\"], [8, 9, 8, 5, 7]),\n",
    "        (\"Ramprasad\", [\"Python\", \"PySpark\", \"C\", \"Python\"], [\"spark sql\", \"ADF\"], [11, 8, 3, 6, 8]),\n",
    "        (\"Rohit\", [\"Scala\", \"Devops\", \"VB\", \"Git\"], [\"ApacheSpark\", \"Python\"], [5, 6, 8, 10, 8]),\n",
    "        (\"Raju\", [\"SQL\", \"Azure\", \"Scala\", \"AWS\"], [\"PySpark\", \"Oracle\", \"Confluence\"], [12, 6, 5, 8, 8]),\n",
    "        (\"Kamalakar\", [\"GCC\", \"Visual Studio\", \"Python\"], [\"SQL\", \"Databricks\", \"SQL\"], [1, 2, 6, 5, 8]),\n",
    "        (\"Swetha\", [\"Devops\", \"VB\", \"Git\", \"Scala\"], [\"ApacheSpark\", \"Python\"], [5, 6, 8, 10, 3]),\n",
    "        (\"Mallik\", [\"SQL\", \"Azure\", \"AWS\"], [\"PySpark\", \"Oracle\", \"Schema\"], [12, None, 8, 15, 9]),\n",
    "        (\"Deepak\", [\"AWS\", \"Python\", \"Scala\"], [\"Git\", \"SQL Editor\", \"SQL\"], [2, 6, 5, 8, 4]),\n",
    "        (\"Kiran\", [\"Scala\", \"Python\", \"Spark\"], [\"ADF\", \"AWS\", \"SQL\"], [None, None, None, None, None]),\n",
    "        (\"Sumanth\", [\"Python\", \"Scala\", \"ADF\"], [\"KSql\", \"Databricks\", \"SQL\"], [])\n",
    "       ]\n",
    "\n",
    "schema = StructType([\n",
    "    StructField(\"FullName\", StringType(), True),\n",
    "    StructField(\"LearntLanguages\", ArrayType(StringType()), True),\n",
    "    StructField(\"ToLearnLanguages\", ArrayType(StringType()), True),\n",
    "    StructField(\"Rating\", ArrayType(IntegerType()), True)\n",
    "])\n",
    "\n",
    "df = spark.createDataFrame(data=data, schema=schema)\n",
    "df.printSchema()\n",
    "display(df)"
   ]
  },
  {
   "cell_type": "markdown",
   "metadata": {
    "application/vnd.databricks.v1+cell": {
     "cellMetadata": {},
     "inputWidgets": {},
     "nuid": "5a9f49cd-9f98-400a-8c25-d311563c35b1",
     "showTitle": false,
     "title": ""
    }
   },
   "source": [
    "#### **1) array_max**\n",
    "\n",
    "- returns the **maximum value** of the array.\n",
    "- **NULL** elements are **skipped**.\n",
    "- If array is **empty**, or contains **only NULL** elements, NULL is returned.\n",
    "- array_max works with **arrays of numeric types**. It finds the **maximum** value in an array of **numeric elements**.\n",
    "- If you try to use it on an **array of strings**, it will **not work as intended** because it's not designed to compare string values or determine the \"maximum\" string in terms of **alphabetical or lexicographical order**."
   ]
  },
  {
   "cell_type": "markdown",
   "metadata": {
    "application/vnd.databricks.v1+cell": {
     "cellMetadata": {},
     "inputWidgets": {},
     "nuid": "7dbe68ea-6fd8-4b85-9f1b-19e2c9df29c6",
     "showTitle": false,
     "title": ""
    }
   },
   "source": [
    "#### **Syntax**\n",
    "\n",
    "     array_max(array)\n",
    "     array: Any ARRAY with elements for which order is supported"
   ]
  },
  {
   "cell_type": "code",
   "execution_count": 0,
   "metadata": {
    "application/vnd.databricks.v1+cell": {
     "cellMetadata": {
      "byteLimit": 2048000,
      "rowLimit": 10000
     },
     "inputWidgets": {},
     "nuid": "4dafb374-7d6c-4e27-826a-e1c5375597a6",
     "showTitle": true,
     "title": "array_max()"
    }
   },
   "outputs": [
    {
     "output_type": "display_data",
     "data": {
      "text/html": [
       "<style scoped>\n",
       "  .table-result-container {\n",
       "    max-height: 300px;\n",
       "    overflow: auto;\n",
       "  }\n",
       "  table, th, td {\n",
       "    border: 1px solid black;\n",
       "    border-collapse: collapse;\n",
       "  }\n",
       "  th, td {\n",
       "    padding: 5px;\n",
       "  }\n",
       "  th {\n",
       "    text-align: left;\n",
       "  }\n",
       "</style><div class='table-result-container'><table class='table-result'><thead style='background-color: white'><tr><th>Rating</th><th>max_Rating</th></tr></thead><tbody><tr><td>List(8, 9, 8, 5, 7)</td><td>9</td></tr><tr><td>List(11, 8, 3, 6, 8)</td><td>11</td></tr><tr><td>List(5, 6, 8, 10, 8)</td><td>10</td></tr><tr><td>List(12, 6, 5, 8, 8)</td><td>12</td></tr><tr><td>List(1, 2, 6, 5, 8)</td><td>8</td></tr><tr><td>List(5, 6, 8, 10, 3)</td><td>10</td></tr><tr><td>List(12, null, 8, 15, 9)</td><td>15</td></tr><tr><td>List(2, 6, 5, 8, 4)</td><td>8</td></tr><tr><td>List(null, null, null, null, null)</td><td>null</td></tr><tr><td>List()</td><td>null</td></tr></tbody></table></div>"
      ]
     },
     "metadata": {
      "application/vnd.databricks.v1+output": {
       "addedWidgets": {},
       "aggData": [],
       "aggError": "",
       "aggOverflow": false,
       "aggSchema": [],
       "aggSeriesLimitReached": false,
       "aggType": "",
       "arguments": {},
       "columnCustomDisplayInfos": {},
       "data": [
        [
         [
          8,
          9,
          8,
          5,
          7
         ],
         9
        ],
        [
         [
          11,
          8,
          3,
          6,
          8
         ],
         11
        ],
        [
         [
          5,
          6,
          8,
          10,
          8
         ],
         10
        ],
        [
         [
          12,
          6,
          5,
          8,
          8
         ],
         12
        ],
        [
         [
          1,
          2,
          6,
          5,
          8
         ],
         8
        ],
        [
         [
          5,
          6,
          8,
          10,
          3
         ],
         10
        ],
        [
         [
          12,
          null,
          8,
          15,
          9
         ],
         15
        ],
        [
         [
          2,
          6,
          5,
          8,
          4
         ],
         8
        ],
        [
         [
          null,
          null,
          null,
          null,
          null
         ],
         null
        ],
        [
         [],
         null
        ]
       ],
       "datasetInfos": [],
       "dbfsResultPath": null,
       "isJsonSchema": true,
       "metadata": {},
       "overflow": false,
       "plotOptions": {
        "customPlotOptions": {},
        "displayType": "table",
        "pivotAggregation": null,
        "pivotColumns": null,
        "xColumns": null,
        "yColumns": null
       },
       "removedWidgets": [],
       "schema": [
        {
         "metadata": "{}",
         "name": "Rating",
         "type": "{\"type\":\"array\",\"elementType\":\"integer\",\"containsNull\":true}"
        },
        {
         "metadata": "{}",
         "name": "max_Rating",
         "type": "\"integer\""
        }
       ],
       "type": "table"
      }
     },
     "output_type": "display_data"
    }
   ],
   "source": [
    "arr_max = df.withColumn(\"max_Rating\", array_max(\"Rating\"))\\\n",
    "            .select(\"Rating\", \"max_Rating\")            \n",
    "display(arr_max)"
   ]
  },
  {
   "cell_type": "markdown",
   "metadata": {
    "application/vnd.databricks.v1+cell": {
     "cellMetadata": {},
     "inputWidgets": {},
     "nuid": "ebbb8dc3-afcb-4d00-850d-506fcb0779c3",
     "showTitle": false,
     "title": ""
    }
   },
   "source": [
    "#### **2) array_min**\n",
    "\n",
    "- returns the **minimum value** of the array."
   ]
  },
  {
   "cell_type": "code",
   "execution_count": 0,
   "metadata": {
    "application/vnd.databricks.v1+cell": {
     "cellMetadata": {
      "byteLimit": 2048000,
      "rowLimit": 10000
     },
     "inputWidgets": {},
     "nuid": "e45a6d11-9393-4a06-a4f8-3a2a04be3afc",
     "showTitle": true,
     "title": "array_min()"
    }
   },
   "outputs": [
    {
     "output_type": "display_data",
     "data": {
      "text/html": [
       "<style scoped>\n",
       "  .table-result-container {\n",
       "    max-height: 300px;\n",
       "    overflow: auto;\n",
       "  }\n",
       "  table, th, td {\n",
       "    border: 1px solid black;\n",
       "    border-collapse: collapse;\n",
       "  }\n",
       "  th, td {\n",
       "    padding: 5px;\n",
       "  }\n",
       "  th {\n",
       "    text-align: left;\n",
       "  }\n",
       "</style><div class='table-result-container'><table class='table-result'><thead style='background-color: white'><tr><th>Rating</th><th>min_Rating</th></tr></thead><tbody><tr><td>List(8, 9, 8, 5, 7)</td><td>5</td></tr><tr><td>List(11, 8, 3, 6, 8)</td><td>3</td></tr><tr><td>List(5, 6, 8, 10, 8)</td><td>5</td></tr><tr><td>List(12, 6, 5, 8, 8)</td><td>5</td></tr><tr><td>List(1, 2, 6, 5, 8)</td><td>1</td></tr><tr><td>List(5, 6, 8, 10, 3)</td><td>3</td></tr><tr><td>List(12, null, 8, 15, 9)</td><td>8</td></tr><tr><td>List(2, 6, 5, 8, 4)</td><td>2</td></tr><tr><td>List(null, null, null, null, null)</td><td>null</td></tr><tr><td>List()</td><td>null</td></tr></tbody></table></div>"
      ]
     },
     "metadata": {
      "application/vnd.databricks.v1+output": {
       "addedWidgets": {},
       "aggData": [],
       "aggError": "",
       "aggOverflow": false,
       "aggSchema": [],
       "aggSeriesLimitReached": false,
       "aggType": "",
       "arguments": {},
       "columnCustomDisplayInfos": {},
       "data": [
        [
         [
          8,
          9,
          8,
          5,
          7
         ],
         5
        ],
        [
         [
          11,
          8,
          3,
          6,
          8
         ],
         3
        ],
        [
         [
          5,
          6,
          8,
          10,
          8
         ],
         5
        ],
        [
         [
          12,
          6,
          5,
          8,
          8
         ],
         5
        ],
        [
         [
          1,
          2,
          6,
          5,
          8
         ],
         1
        ],
        [
         [
          5,
          6,
          8,
          10,
          3
         ],
         3
        ],
        [
         [
          12,
          null,
          8,
          15,
          9
         ],
         8
        ],
        [
         [
          2,
          6,
          5,
          8,
          4
         ],
         2
        ],
        [
         [
          null,
          null,
          null,
          null,
          null
         ],
         null
        ],
        [
         [],
         null
        ]
       ],
       "datasetInfos": [],
       "dbfsResultPath": null,
       "isJsonSchema": true,
       "metadata": {},
       "overflow": false,
       "plotOptions": {
        "customPlotOptions": {},
        "displayType": "table",
        "pivotAggregation": null,
        "pivotColumns": null,
        "xColumns": null,
        "yColumns": null
       },
       "removedWidgets": [],
       "schema": [
        {
         "metadata": "{}",
         "name": "Rating",
         "type": "{\"type\":\"array\",\"elementType\":\"integer\",\"containsNull\":true}"
        },
        {
         "metadata": "{}",
         "name": "min_Rating",
         "type": "\"integer\""
        }
       ],
       "type": "table"
      }
     },
     "output_type": "display_data"
    }
   ],
   "source": [
    "arr_min = df.withColumn(\"min_Rating\", array_min(\"Rating\"))\\\n",
    "            .select(\"Rating\", \"min_Rating\")            \n",
    "display(arr_min)"
   ]
  },
  {
   "cell_type": "markdown",
   "metadata": {
    "application/vnd.databricks.v1+cell": {
     "cellMetadata": {},
     "inputWidgets": {},
     "nuid": "ec1708de-b3d2-45ce-bbe0-b7a0522b969c",
     "showTitle": false,
     "title": ""
    }
   },
   "source": [
    "#### **3) array_sort()**\n",
    "\n",
    "- arranges the input array in **ascending order**.\n",
    "- When you have **NaN** values in an array, the following applies.\n",
    "  - For **double/float type**, NaN is considered greater than any **non-NaN elements**.\n",
    "  - **Null** elements are positioned at the **end** of the **resulting array**."
   ]
  },
  {
   "cell_type": "code",
   "execution_count": 0,
   "metadata": {
    "application/vnd.databricks.v1+cell": {
     "cellMetadata": {
      "byteLimit": 2048000,
      "rowLimit": 10000
     },
     "inputWidgets": {},
     "nuid": "cb30a2a0-736f-4a77-8757-55712c78d1cb",
     "showTitle": true,
     "title": "array_sort()"
    }
   },
   "outputs": [
    {
     "output_type": "display_data",
     "data": {
      "text/html": [
       "<style scoped>\n",
       "  .table-result-container {\n",
       "    max-height: 300px;\n",
       "    overflow: auto;\n",
       "  }\n",
       "  table, th, td {\n",
       "    border: 1px solid black;\n",
       "    border-collapse: collapse;\n",
       "  }\n",
       "  th, td {\n",
       "    padding: 5px;\n",
       "  }\n",
       "  th {\n",
       "    text-align: left;\n",
       "  }\n",
       "</style><div class='table-result-container'><table class='table-result'><thead style='background-color: white'><tr><th>LearntLanguages</th><th>arr_sort_Learnt</th><th>ToLearnLanguages</th><th>arr_sort_ToLearn</th><th>Rating</th><th>arr_sort_Rating</th></tr></thead><tbody><tr><td>List(Java, Scala, C++)</td><td>List(C++, Java, Scala)</td><td>List(Spark, Java, Azure Databricks)</td><td>List(Azure Databricks, Java, Spark)</td><td>List(8, 9, 8, 5, 7)</td><td>List(5, 7, 8, 8, 9)</td></tr><tr><td>List(Python, PySpark, C, Python)</td><td>List(C, PySpark, Python, Python)</td><td>List(spark sql, ADF)</td><td>List(ADF, spark sql)</td><td>List(11, 8, 3, 6, 8)</td><td>List(3, 6, 8, 8, 11)</td></tr><tr><td>List(Scala, Devops, VB, Git)</td><td>List(Devops, Git, Scala, VB)</td><td>List(ApacheSpark, Python)</td><td>List(ApacheSpark, Python)</td><td>List(5, 6, 8, 10, 8)</td><td>List(5, 6, 8, 8, 10)</td></tr><tr><td>List(SQL, Azure, Scala, AWS)</td><td>List(AWS, Azure, SQL, Scala)</td><td>List(PySpark, Oracle, Confluence)</td><td>List(Confluence, Oracle, PySpark)</td><td>List(12, 6, 5, 8, 8)</td><td>List(5, 6, 8, 8, 12)</td></tr><tr><td>List(GCC, Visual Studio, Python)</td><td>List(GCC, Python, Visual Studio)</td><td>List(SQL, Databricks, SQL)</td><td>List(Databricks, SQL, SQL)</td><td>List(1, 2, 6, 5, 8)</td><td>List(1, 2, 5, 6, 8)</td></tr><tr><td>List(Devops, VB, Git, Scala)</td><td>List(Devops, Git, Scala, VB)</td><td>List(ApacheSpark, Python)</td><td>List(ApacheSpark, Python)</td><td>List(5, 6, 8, 10, 3)</td><td>List(3, 5, 6, 8, 10)</td></tr><tr><td>List(SQL, Azure, AWS)</td><td>List(AWS, Azure, SQL)</td><td>List(PySpark, Oracle, Schema)</td><td>List(Oracle, PySpark, Schema)</td><td>List(12, 6, 8, 15, 9)</td><td>List(6, 8, 9, 12, 15)</td></tr><tr><td>List(AWS, Python, Scala)</td><td>List(AWS, Python, Scala)</td><td>List(Git, SQL Editor, SQL)</td><td>List(Git, SQL, SQL Editor)</td><td>List(2, 6, 5, 8, 4)</td><td>List(2, 4, 5, 6, 8)</td></tr></tbody></table></div>"
      ]
     },
     "metadata": {
      "application/vnd.databricks.v1+output": {
       "addedWidgets": {},
       "aggData": [],
       "aggError": "",
       "aggOverflow": false,
       "aggSchema": [],
       "aggSeriesLimitReached": false,
       "aggType": "",
       "arguments": {},
       "columnCustomDisplayInfos": {},
       "data": [
        [
         [
          "Java",
          "Scala",
          "C++"
         ],
         [
          "C++",
          "Java",
          "Scala"
         ],
         [
          "Spark",
          "Java",
          "Azure Databricks"
         ],
         [
          "Azure Databricks",
          "Java",
          "Spark"
         ],
         [
          8,
          9,
          8,
          5,
          7
         ],
         [
          5,
          7,
          8,
          8,
          9
         ]
        ],
        [
         [
          "Python",
          "PySpark",
          "C",
          "Python"
         ],
         [
          "C",
          "PySpark",
          "Python",
          "Python"
         ],
         [
          "spark sql",
          "ADF"
         ],
         [
          "ADF",
          "spark sql"
         ],
         [
          11,
          8,
          3,
          6,
          8
         ],
         [
          3,
          6,
          8,
          8,
          11
         ]
        ],
        [
         [
          "Scala",
          "Devops",
          "VB",
          "Git"
         ],
         [
          "Devops",
          "Git",
          "Scala",
          "VB"
         ],
         [
          "ApacheSpark",
          "Python"
         ],
         [
          "ApacheSpark",
          "Python"
         ],
         [
          5,
          6,
          8,
          10,
          8
         ],
         [
          5,
          6,
          8,
          8,
          10
         ]
        ],
        [
         [
          "SQL",
          "Azure",
          "Scala",
          "AWS"
         ],
         [
          "AWS",
          "Azure",
          "SQL",
          "Scala"
         ],
         [
          "PySpark",
          "Oracle",
          "Confluence"
         ],
         [
          "Confluence",
          "Oracle",
          "PySpark"
         ],
         [
          12,
          6,
          5,
          8,
          8
         ],
         [
          5,
          6,
          8,
          8,
          12
         ]
        ],
        [
         [
          "GCC",
          "Visual Studio",
          "Python"
         ],
         [
          "GCC",
          "Python",
          "Visual Studio"
         ],
         [
          "SQL",
          "Databricks",
          "SQL"
         ],
         [
          "Databricks",
          "SQL",
          "SQL"
         ],
         [
          1,
          2,
          6,
          5,
          8
         ],
         [
          1,
          2,
          5,
          6,
          8
         ]
        ],
        [
         [
          "Devops",
          "VB",
          "Git",
          "Scala"
         ],
         [
          "Devops",
          "Git",
          "Scala",
          "VB"
         ],
         [
          "ApacheSpark",
          "Python"
         ],
         [
          "ApacheSpark",
          "Python"
         ],
         [
          5,
          6,
          8,
          10,
          3
         ],
         [
          3,
          5,
          6,
          8,
          10
         ]
        ],
        [
         [
          "SQL",
          "Azure",
          "AWS"
         ],
         [
          "AWS",
          "Azure",
          "SQL"
         ],
         [
          "PySpark",
          "Oracle",
          "Schema"
         ],
         [
          "Oracle",
          "PySpark",
          "Schema"
         ],
         [
          12,
          6,
          8,
          15,
          9
         ],
         [
          6,
          8,
          9,
          12,
          15
         ]
        ],
        [
         [
          "AWS",
          "Python",
          "Scala"
         ],
         [
          "AWS",
          "Python",
          "Scala"
         ],
         [
          "Git",
          "SQL Editor",
          "SQL"
         ],
         [
          "Git",
          "SQL",
          "SQL Editor"
         ],
         [
          2,
          6,
          5,
          8,
          4
         ],
         [
          2,
          4,
          5,
          6,
          8
         ]
        ]
       ],
       "datasetInfos": [],
       "dbfsResultPath": null,
       "isJsonSchema": true,
       "metadata": {},
       "overflow": false,
       "plotOptions": {
        "customPlotOptions": {},
        "displayType": "table",
        "pivotAggregation": null,
        "pivotColumns": null,
        "xColumns": null,
        "yColumns": null
       },
       "removedWidgets": [],
       "schema": [
        {
         "metadata": "{}",
         "name": "LearntLanguages",
         "type": "{\"type\":\"array\",\"elementType\":\"string\",\"containsNull\":true}"
        },
        {
         "metadata": "{}",
         "name": "arr_sort_Learnt",
         "type": "{\"type\":\"array\",\"elementType\":\"string\",\"containsNull\":true}"
        },
        {
         "metadata": "{}",
         "name": "ToLearnLanguages",
         "type": "{\"type\":\"array\",\"elementType\":\"string\",\"containsNull\":true}"
        },
        {
         "metadata": "{}",
         "name": "arr_sort_ToLearn",
         "type": "{\"type\":\"array\",\"elementType\":\"string\",\"containsNull\":true}"
        },
        {
         "metadata": "{}",
         "name": "Rating",
         "type": "{\"type\":\"array\",\"elementType\":\"integer\",\"containsNull\":true}"
        },
        {
         "metadata": "{}",
         "name": "arr_sort_Rating",
         "type": "{\"type\":\"array\",\"elementType\":\"integer\",\"containsNull\":true}"
        }
       ],
       "type": "table"
      }
     },
     "output_type": "display_data"
    }
   ],
   "source": [
    "df_arr_sort = df.withColumn(\"arr_sort_Learnt\", array_sort(\"LearntLanguages\"))\\\n",
    "                .withColumn(\"arr_sort_ToLearn\", array_sort(\"ToLearnLanguages\"))\\\n",
    "                .withColumn(\"arr_sort_Rating\", array_sort(\"Rating\"))\\\n",
    "                .select(\"LearntLanguages\", \"arr_sort_Learnt\", \"ToLearnLanguages\", \"arr_sort_ToLearn\", \"Rating\", \"arr_sort_Rating\")\n",
    "display(df_arr_sort)"
   ]
  },
  {
   "cell_type": "markdown",
   "metadata": {
    "application/vnd.databricks.v1+cell": {
     "cellMetadata": {},
     "inputWidgets": {},
     "nuid": "c09fd941-bd4c-4871-9556-59af32ba3528",
     "showTitle": false,
     "title": ""
    }
   },
   "source": [
    "#### **4) array_size()**\n",
    "\n",
    "- The array_size() returns the total **number of elements** in the **array column**.\n",
    "- If your input array column is **null**, it returns **null**."
   ]
  },
  {
   "cell_type": "code",
   "execution_count": 0,
   "metadata": {
    "application/vnd.databricks.v1+cell": {
     "cellMetadata": {},
     "inputWidgets": {},
     "nuid": "da0a857f-afd9-4444-97a4-65df657889ec",
     "showTitle": false,
     "title": ""
    }
   },
   "outputs": [],
   "source": [
    "# array_size is not available in 12.2 LTS (includes Apache Spark 3.3.2, Scala 2.12). instead use size.\n",
    "from pyspark.sql.functions import size\n",
    "\n",
    "# array_size is available in 15.4 LTS (includes Apache Spark 3.5.0, Scala 2.12).\n",
    "from pyspark.sql.functions import array_size"
   ]
  },
  {
   "cell_type": "code",
   "execution_count": 0,
   "metadata": {
    "application/vnd.databricks.v1+cell": {
     "cellMetadata": {
      "byteLimit": 2048000,
      "rowLimit": 10000
     },
     "inputWidgets": {},
     "nuid": "6d0eb33b-d5cc-4932-ac14-14a631d12028",
     "showTitle": true,
     "title": "array_size()"
    }
   },
   "outputs": [
    {
     "output_type": "display_data",
     "data": {
      "text/html": [
       "<style scoped>\n",
       "  .table-result-container {\n",
       "    max-height: 300px;\n",
       "    overflow: auto;\n",
       "  }\n",
       "  table, th, td {\n",
       "    border: 1px solid black;\n",
       "    border-collapse: collapse;\n",
       "  }\n",
       "  th, td {\n",
       "    padding: 5px;\n",
       "  }\n",
       "  th {\n",
       "    text-align: left;\n",
       "  }\n",
       "</style><div class='table-result-container'><table class='table-result'><thead style='background-color: white'><tr><th>LearntLanguages</th><th>Arr_Size_Learnt</th><th>ToLearnLanguages</th><th>Arr_Size_ToLearn</th><th>Rating</th><th>Arr_Size_Rating</th></tr></thead><tbody><tr><td>List(Java, Scala, C++)</td><td>3</td><td>List(Spark, Java, Azure Databricks)</td><td>3</td><td>List(8, 9, 8, 5, 7)</td><td>5</td></tr><tr><td>List(Python, PySpark, C, Python)</td><td>4</td><td>List(spark sql, ADF)</td><td>2</td><td>List(11, 8, 3, 6, 8)</td><td>5</td></tr><tr><td>List(Scala, Devops, VB, Git)</td><td>4</td><td>List(ApacheSpark, Python)</td><td>2</td><td>List(5, 6, 8, 10, 8)</td><td>5</td></tr><tr><td>List(SQL, Azure, Scala, AWS)</td><td>4</td><td>List(PySpark, Oracle, Confluence)</td><td>3</td><td>List(12, 6, 5, 8, 8)</td><td>5</td></tr><tr><td>List(GCC, Visual Studio, Python)</td><td>3</td><td>List(SQL, Databricks, SQL)</td><td>3</td><td>List(1, 2, 6, 5, 8)</td><td>5</td></tr><tr><td>List(Devops, VB, Git, Scala)</td><td>4</td><td>List(ApacheSpark, Python)</td><td>2</td><td>List(5, 6, 8, 10, 3)</td><td>5</td></tr><tr><td>List(SQL, Azure, AWS)</td><td>3</td><td>List(PySpark, Oracle, Schema)</td><td>3</td><td>List(12, null, 8, 15, 9)</td><td>5</td></tr><tr><td>List(AWS, Python, Scala)</td><td>3</td><td>List(Git, SQL Editor, SQL)</td><td>3</td><td>List(2, 6, 5, 8, 4)</td><td>5</td></tr><tr><td>List(Scala, Python, Spark)</td><td>3</td><td>List(ADF, AWS, SQL)</td><td>3</td><td>List(null, null, null, null, null)</td><td>5</td></tr><tr><td>List(Python, Scala, ADF)</td><td>3</td><td>List(KSql, Databricks, SQL)</td><td>3</td><td>List()</td><td>0</td></tr></tbody></table></div>"
      ]
     },
     "metadata": {
      "application/vnd.databricks.v1+output": {
       "addedWidgets": {},
       "aggData": [],
       "aggError": "",
       "aggOverflow": false,
       "aggSchema": [],
       "aggSeriesLimitReached": false,
       "aggType": "",
       "arguments": {},
       "columnCustomDisplayInfos": {},
       "data": [
        [
         [
          "Java",
          "Scala",
          "C++"
         ],
         3,
         [
          "Spark",
          "Java",
          "Azure Databricks"
         ],
         3,
         [
          8,
          9,
          8,
          5,
          7
         ],
         5
        ],
        [
         [
          "Python",
          "PySpark",
          "C",
          "Python"
         ],
         4,
         [
          "spark sql",
          "ADF"
         ],
         2,
         [
          11,
          8,
          3,
          6,
          8
         ],
         5
        ],
        [
         [
          "Scala",
          "Devops",
          "VB",
          "Git"
         ],
         4,
         [
          "ApacheSpark",
          "Python"
         ],
         2,
         [
          5,
          6,
          8,
          10,
          8
         ],
         5
        ],
        [
         [
          "SQL",
          "Azure",
          "Scala",
          "AWS"
         ],
         4,
         [
          "PySpark",
          "Oracle",
          "Confluence"
         ],
         3,
         [
          12,
          6,
          5,
          8,
          8
         ],
         5
        ],
        [
         [
          "GCC",
          "Visual Studio",
          "Python"
         ],
         3,
         [
          "SQL",
          "Databricks",
          "SQL"
         ],
         3,
         [
          1,
          2,
          6,
          5,
          8
         ],
         5
        ],
        [
         [
          "Devops",
          "VB",
          "Git",
          "Scala"
         ],
         4,
         [
          "ApacheSpark",
          "Python"
         ],
         2,
         [
          5,
          6,
          8,
          10,
          3
         ],
         5
        ],
        [
         [
          "SQL",
          "Azure",
          "AWS"
         ],
         3,
         [
          "PySpark",
          "Oracle",
          "Schema"
         ],
         3,
         [
          12,
          null,
          8,
          15,
          9
         ],
         5
        ],
        [
         [
          "AWS",
          "Python",
          "Scala"
         ],
         3,
         [
          "Git",
          "SQL Editor",
          "SQL"
         ],
         3,
         [
          2,
          6,
          5,
          8,
          4
         ],
         5
        ],
        [
         [
          "Scala",
          "Python",
          "Spark"
         ],
         3,
         [
          "ADF",
          "AWS",
          "SQL"
         ],
         3,
         [
          null,
          null,
          null,
          null,
          null
         ],
         5
        ],
        [
         [
          "Python",
          "Scala",
          "ADF"
         ],
         3,
         [
          "KSql",
          "Databricks",
          "SQL"
         ],
         3,
         [],
         0
        ]
       ],
       "datasetInfos": [],
       "dbfsResultPath": null,
       "isJsonSchema": true,
       "metadata": {},
       "overflow": false,
       "plotOptions": {
        "customPlotOptions": {},
        "displayType": "table",
        "pivotAggregation": null,
        "pivotColumns": null,
        "xColumns": null,
        "yColumns": null
       },
       "removedWidgets": [],
       "schema": [
        {
         "metadata": "{}",
         "name": "LearntLanguages",
         "type": "{\"type\":\"array\",\"elementType\":\"string\",\"containsNull\":true}"
        },
        {
         "metadata": "{}",
         "name": "Arr_Size_Learnt",
         "type": "\"integer\""
        },
        {
         "metadata": "{}",
         "name": "ToLearnLanguages",
         "type": "{\"type\":\"array\",\"elementType\":\"string\",\"containsNull\":true}"
        },
        {
         "metadata": "{}",
         "name": "Arr_Size_ToLearn",
         "type": "\"integer\""
        },
        {
         "metadata": "{}",
         "name": "Rating",
         "type": "{\"type\":\"array\",\"elementType\":\"integer\",\"containsNull\":true}"
        },
        {
         "metadata": "{}",
         "name": "Arr_Size_Rating",
         "type": "\"integer\""
        }
       ],
       "type": "table"
      }
     },
     "output_type": "display_data"
    }
   ],
   "source": [
    "df_arr_size = df.withColumn(\"Arr_Size_Learnt\", array_size(\"LearntLanguages\"))\\\n",
    "                .withColumn(\"Arr_Size_ToLearn\", array_size(\"ToLearnLanguages\"))\\\n",
    "                .withColumn(\"Arr_Size_Rating\", array_size(\"Rating\"))\\\n",
    "                .select(\"LearntLanguages\", \"Arr_Size_Learnt\", \"ToLearnLanguages\", \"Arr_Size_ToLearn\", \"Rating\", \"Arr_Size_Rating\")\n",
    "display(df_arr_size)"
   ]
  },
  {
   "cell_type": "code",
   "execution_count": 0,
   "metadata": {
    "application/vnd.databricks.v1+cell": {
     "cellMetadata": {
      "byteLimit": 2048000,
      "rowLimit": 10000
     },
     "inputWidgets": {},
     "nuid": "65a76460-4f33-4a8a-a156-5d1bbb7b26ed",
     "showTitle": true,
     "title": "filter based on array size: LearntLanguages"
    }
   },
   "outputs": [
    {
     "output_type": "display_data",
     "data": {
      "text/html": [
       "<style scoped>\n",
       "  .table-result-container {\n",
       "    max-height: 300px;\n",
       "    overflow: auto;\n",
       "  }\n",
       "  table, th, td {\n",
       "    border: 1px solid black;\n",
       "    border-collapse: collapse;\n",
       "  }\n",
       "  th, td {\n",
       "    padding: 5px;\n",
       "  }\n",
       "  th {\n",
       "    text-align: left;\n",
       "  }\n",
       "</style><div class='table-result-container'><table class='table-result'><thead style='background-color: white'><tr><th>LearntLanguages</th></tr></thead><tbody><tr><td>List(Python, PySpark, C, Python)</td></tr><tr><td>List(Scala, Devops, VB, Git)</td></tr><tr><td>List(SQL, Azure, Scala, AWS)</td></tr><tr><td>List(Devops, VB, Git, Scala)</td></tr></tbody></table></div>"
      ]
     },
     "metadata": {
      "application/vnd.databricks.v1+output": {
       "addedWidgets": {},
       "aggData": [],
       "aggError": "",
       "aggOverflow": false,
       "aggSchema": [],
       "aggSeriesLimitReached": false,
       "aggType": "",
       "arguments": {},
       "columnCustomDisplayInfos": {},
       "data": [
        [
         [
          "Python",
          "PySpark",
          "C",
          "Python"
         ]
        ],
        [
         [
          "Scala",
          "Devops",
          "VB",
          "Git"
         ]
        ],
        [
         [
          "SQL",
          "Azure",
          "Scala",
          "AWS"
         ]
        ],
        [
         [
          "Devops",
          "VB",
          "Git",
          "Scala"
         ]
        ]
       ],
       "datasetInfos": [],
       "dbfsResultPath": null,
       "isJsonSchema": true,
       "metadata": {},
       "overflow": false,
       "plotOptions": {
        "customPlotOptions": {},
        "displayType": "table",
        "pivotAggregation": null,
        "pivotColumns": null,
        "xColumns": null,
        "yColumns": null
       },
       "removedWidgets": [],
       "schema": [
        {
         "metadata": "{}",
         "name": "LearntLanguages",
         "type": "{\"type\":\"array\",\"elementType\":\"string\",\"containsNull\":true}"
        }
       ],
       "type": "table"
      }
     },
     "output_type": "display_data"
    }
   ],
   "source": [
    "df_arr_Lernt_filt = df.select(\"LearntLanguages\")\\\n",
    "                      .filter(array_size(\"LearntLanguages\") > 3)                     \n",
    "display(df_arr_Lernt_filt)"
   ]
  },
  {
   "cell_type": "code",
   "execution_count": 0,
   "metadata": {
    "application/vnd.databricks.v1+cell": {
     "cellMetadata": {
      "byteLimit": 2048000,
      "rowLimit": 10000
     },
     "inputWidgets": {},
     "nuid": "f0941116-d313-442c-8c40-f221a2ab6ef2",
     "showTitle": true,
     "title": "filter based on array size: ToLearnLanguages"
    }
   },
   "outputs": [
    {
     "output_type": "display_data",
     "data": {
      "text/html": [
       "<style scoped>\n",
       "  .table-result-container {\n",
       "    max-height: 300px;\n",
       "    overflow: auto;\n",
       "  }\n",
       "  table, th, td {\n",
       "    border: 1px solid black;\n",
       "    border-collapse: collapse;\n",
       "  }\n",
       "  th, td {\n",
       "    padding: 5px;\n",
       "  }\n",
       "  th {\n",
       "    text-align: left;\n",
       "  }\n",
       "</style><div class='table-result-container'><table class='table-result'><thead style='background-color: white'><tr><th>ToLearnLanguages</th></tr></thead><tbody><tr><td>List(Spark, Java, Azure Databricks)</td></tr><tr><td>List(PySpark, Oracle, Confluence)</td></tr><tr><td>List(SQL, Databricks, SQL)</td></tr><tr><td>List(PySpark, Oracle, Schema)</td></tr><tr><td>List(Git, SQL Editor, SQL)</td></tr><tr><td>List(ADF, AWS, SQL)</td></tr><tr><td>List(KSql, Databricks, SQL)</td></tr></tbody></table></div>"
      ]
     },
     "metadata": {
      "application/vnd.databricks.v1+output": {
       "addedWidgets": {},
       "aggData": [],
       "aggError": "",
       "aggOverflow": false,
       "aggSchema": [],
       "aggSeriesLimitReached": false,
       "aggType": "",
       "arguments": {},
       "columnCustomDisplayInfos": {},
       "data": [
        [
         [
          "Spark",
          "Java",
          "Azure Databricks"
         ]
        ],
        [
         [
          "PySpark",
          "Oracle",
          "Confluence"
         ]
        ],
        [
         [
          "SQL",
          "Databricks",
          "SQL"
         ]
        ],
        [
         [
          "PySpark",
          "Oracle",
          "Schema"
         ]
        ],
        [
         [
          "Git",
          "SQL Editor",
          "SQL"
         ]
        ],
        [
         [
          "ADF",
          "AWS",
          "SQL"
         ]
        ],
        [
         [
          "KSql",
          "Databricks",
          "SQL"
         ]
        ]
       ],
       "datasetInfos": [],
       "dbfsResultPath": null,
       "isJsonSchema": true,
       "metadata": {},
       "overflow": false,
       "plotOptions": {
        "customPlotOptions": {},
        "displayType": "table",
        "pivotAggregation": null,
        "pivotColumns": null,
        "xColumns": null,
        "yColumns": null
       },
       "removedWidgets": [],
       "schema": [
        {
         "metadata": "{}",
         "name": "ToLearnLanguages",
         "type": "{\"type\":\"array\",\"elementType\":\"string\",\"containsNull\":true}"
        }
       ],
       "type": "table"
      }
     },
     "output_type": "display_data"
    }
   ],
   "source": [
    "df_arr_ToLernt_filt = df.select(\"ToLearnLanguages\")\\\n",
    "                        .filter(array_size(\"ToLearnLanguages\") > 2)\n",
    "display(df_arr_ToLernt_filt)"
   ]
  },
  {
   "cell_type": "code",
   "execution_count": 0,
   "metadata": {
    "application/vnd.databricks.v1+cell": {
     "cellMetadata": {
      "byteLimit": 2048000,
      "rowLimit": 10000
     },
     "inputWidgets": {},
     "nuid": "bc1723c6-d720-40da-b0f8-41ae3229d262",
     "showTitle": true,
     "title": "filter based on array size: Rating"
    }
   },
   "outputs": [
    {
     "output_type": "display_data",
     "data": {
      "text/html": [
       "<style scoped>\n",
       "  .table-result-container {\n",
       "    max-height: 300px;\n",
       "    overflow: auto;\n",
       "  }\n",
       "  table, th, td {\n",
       "    border: 1px solid black;\n",
       "    border-collapse: collapse;\n",
       "  }\n",
       "  th, td {\n",
       "    padding: 5px;\n",
       "  }\n",
       "  th {\n",
       "    text-align: left;\n",
       "  }\n",
       "</style><div class='table-result-container'><table class='table-result'><thead style='background-color: white'><tr><th>Rating</th></tr></thead><tbody><tr><td>List(8, 9, 8, 5, 7)</td></tr><tr><td>List(11, 8, 3, 6, 8)</td></tr><tr><td>List(5, 6, 8, 10, 8)</td></tr><tr><td>List(12, 6, 5, 8, 8)</td></tr><tr><td>List(1, 2, 6, 5, 8)</td></tr><tr><td>List(5, 6, 8, 10, 3)</td></tr><tr><td>List(12, null, 8, 15, 9)</td></tr><tr><td>List(2, 6, 5, 8, 4)</td></tr><tr><td>List(null, null, null, null, null)</td></tr></tbody></table></div>"
      ]
     },
     "metadata": {
      "application/vnd.databricks.v1+output": {
       "addedWidgets": {},
       "aggData": [],
       "aggError": "",
       "aggOverflow": false,
       "aggSchema": [],
       "aggSeriesLimitReached": false,
       "aggType": "",
       "arguments": {},
       "columnCustomDisplayInfos": {},
       "data": [
        [
         [
          8,
          9,
          8,
          5,
          7
         ]
        ],
        [
         [
          11,
          8,
          3,
          6,
          8
         ]
        ],
        [
         [
          5,
          6,
          8,
          10,
          8
         ]
        ],
        [
         [
          12,
          6,
          5,
          8,
          8
         ]
        ],
        [
         [
          1,
          2,
          6,
          5,
          8
         ]
        ],
        [
         [
          5,
          6,
          8,
          10,
          3
         ]
        ],
        [
         [
          12,
          null,
          8,
          15,
          9
         ]
        ],
        [
         [
          2,
          6,
          5,
          8,
          4
         ]
        ],
        [
         [
          null,
          null,
          null,
          null,
          null
         ]
        ]
       ],
       "datasetInfos": [],
       "dbfsResultPath": null,
       "isJsonSchema": true,
       "metadata": {},
       "overflow": false,
       "plotOptions": {
        "customPlotOptions": {},
        "displayType": "table",
        "pivotAggregation": null,
        "pivotColumns": null,
        "xColumns": null,
        "yColumns": null
       },
       "removedWidgets": [],
       "schema": [
        {
         "metadata": "{}",
         "name": "Rating",
         "type": "{\"type\":\"array\",\"elementType\":\"integer\",\"containsNull\":true}"
        }
       ],
       "type": "table"
      }
     },
     "output_type": "display_data"
    }
   ],
   "source": [
    "df_arr_Rat_filt = df.select(\"Rating\")\\\n",
    "                    .filter(array_size(\"Rating\") > 2)\n",
    "display(df_arr_Rat_filt)"
   ]
  },
  {
   "cell_type": "code",
   "execution_count": 0,
   "metadata": {
    "application/vnd.databricks.v1+cell": {
     "cellMetadata": {
      "byteLimit": 2048000,
      "rowLimit": 10000
     },
     "inputWidgets": {},
     "nuid": "72da3e6f-0972-4a9b-bef4-d93f8207625b",
     "showTitle": true,
     "title": "multiple filter conditions"
    }
   },
   "outputs": [
    {
     "output_type": "display_data",
     "data": {
      "text/html": [
       "<style scoped>\n",
       "  .table-result-container {\n",
       "    max-height: 300px;\n",
       "    overflow: auto;\n",
       "  }\n",
       "  table, th, td {\n",
       "    border: 1px solid black;\n",
       "    border-collapse: collapse;\n",
       "  }\n",
       "  th, td {\n",
       "    padding: 5px;\n",
       "  }\n",
       "  th {\n",
       "    text-align: left;\n",
       "  }\n",
       "</style><div class='table-result-container'><table class='table-result'><thead style='background-color: white'><tr><th>LearntLanguages</th><th>ToLearnLanguages</th><th>Rating</th></tr></thead><tbody><tr><td>List(SQL, Azure, Scala, AWS)</td><td>List(PySpark, Oracle, Confluence)</td><td>List(12, 6, 5, 8, 8)</td></tr></tbody></table></div>"
      ]
     },
     "metadata": {
      "application/vnd.databricks.v1+output": {
       "addedWidgets": {},
       "aggData": [],
       "aggError": "",
       "aggOverflow": false,
       "aggSchema": [],
       "aggSeriesLimitReached": false,
       "aggType": "",
       "arguments": {},
       "columnCustomDisplayInfos": {},
       "data": [
        [
         [
          "SQL",
          "Azure",
          "Scala",
          "AWS"
         ],
         [
          "PySpark",
          "Oracle",
          "Confluence"
         ],
         [
          12,
          6,
          5,
          8,
          8
         ]
        ]
       ],
       "datasetInfos": [],
       "dbfsResultPath": null,
       "isJsonSchema": true,
       "metadata": {},
       "overflow": false,
       "plotOptions": {
        "customPlotOptions": {},
        "displayType": "table",
        "pivotAggregation": null,
        "pivotColumns": null,
        "xColumns": null,
        "yColumns": null
       },
       "removedWidgets": [],
       "schema": [
        {
         "metadata": "{}",
         "name": "LearntLanguages",
         "type": "{\"type\":\"array\",\"elementType\":\"string\",\"containsNull\":true}"
        },
        {
         "metadata": "{}",
         "name": "ToLearnLanguages",
         "type": "{\"type\":\"array\",\"elementType\":\"string\",\"containsNull\":true}"
        },
        {
         "metadata": "{}",
         "name": "Rating",
         "type": "{\"type\":\"array\",\"elementType\":\"integer\",\"containsNull\":true}"
        }
       ],
       "type": "table"
      }
     },
     "output_type": "display_data"
    }
   ],
   "source": [
    "df_arr_size_filt = df.select(\"LearntLanguages\", \"ToLearnLanguages\", \"Rating\")\\\n",
    "                     .filter(array_size(\"LearntLanguages\") > 3)\\\n",
    "                     .filter(array_size(\"ToLearnLanguages\") > 2)\\\n",
    "                     .filter(array_size(\"Rating\") > 2)\n",
    "display(df_arr_size_filt)"
   ]
  },
  {
   "cell_type": "markdown",
   "metadata": {
    "application/vnd.databricks.v1+cell": {
     "cellMetadata": {},
     "inputWidgets": {},
     "nuid": "3862f78f-ac95-46ca-9610-fb04a6340559",
     "showTitle": false,
     "title": ""
    }
   },
   "source": [
    "#### **5) array_position()**\n",
    "\n",
    "- To find the **position** of the **first occurrence** of the value in the given **array**.\n",
    "- It returns **null** if **either of the arguments is null**.\n",
    "- Note that the position is **not zero-based** but **1 1-based index**.\n",
    "- Returns **0** if the value could **not be found** in the array."
   ]
  },
  {
   "cell_type": "markdown",
   "metadata": {
    "application/vnd.databricks.v1+cell": {
     "cellMetadata": {},
     "inputWidgets": {},
     "nuid": "71b05930-68c6-4163-80e5-304439de70ea",
     "showTitle": false,
     "title": ""
    }
   },
   "source": [
    "#### **Syntax**\n",
    "\n",
    "     array_position(column, value)"
   ]
  },
  {
   "cell_type": "code",
   "execution_count": 0,
   "metadata": {
    "application/vnd.databricks.v1+cell": {
     "cellMetadata": {
      "byteLimit": 2048000,
      "rowLimit": 10000
     },
     "inputWidgets": {},
     "nuid": "9a942b06-67ae-4e9b-aeb5-b853d7a9ddca",
     "showTitle": true,
     "title": "array_position()"
    }
   },
   "outputs": [
    {
     "output_type": "display_data",
     "data": {
      "text/html": [
       "<style scoped>\n",
       "  .table-result-container {\n",
       "    max-height: 300px;\n",
       "    overflow: auto;\n",
       "  }\n",
       "  table, th, td {\n",
       "    border: 1px solid black;\n",
       "    border-collapse: collapse;\n",
       "  }\n",
       "  th, td {\n",
       "    padding: 5px;\n",
       "  }\n",
       "  th {\n",
       "    text-align: left;\n",
       "  }\n",
       "</style><div class='table-result-container'><table class='table-result'><thead style='background-color: white'><tr><th>LearntLanguages</th><th>Learnt_position</th><th>ToLearnLanguages</th><th>ToLearn_position</th><th>ToLearn_NULL_position</th><th>Rating</th><th>Rating_position</th></tr></thead><tbody><tr><td>List(Java, Scala, C++)</td><td>0</td><td>List(Spark, Java, Azure Databricks)</td><td>0</td><td>0</td><td>List(8, 9, 8, 5, 7)</td><td>1</td></tr><tr><td>List(Python, PySpark, C, Python)</td><td>1</td><td>List(spark sql, ADF)</td><td>0</td><td>0</td><td>List(11, 8, 3, 6, 8)</td><td>2</td></tr><tr><td>List(Scala, Devops, VB, Git)</td><td>0</td><td>List(ApacheSpark, Python)</td><td>0</td><td>0</td><td>List(5, 6, 8, 10, 8)</td><td>3</td></tr><tr><td>List(SQL, Azure, Scala, AWS)</td><td>0</td><td>List(PySpark, Oracle, Confluence)</td><td>0</td><td>0</td><td>List(12, 6, 5, 8, 8)</td><td>4</td></tr><tr><td>List(GCC, Visual Studio, Python)</td><td>3</td><td>List(SQL, Databricks, SQL)</td><td>1</td><td>0</td><td>List(1, 2, 6, 5, 8)</td><td>5</td></tr><tr><td>List(Devops, VB, Git, Scala)</td><td>0</td><td>List(ApacheSpark, Python)</td><td>0</td><td>0</td><td>List(5, 6, 8, 10, 3)</td><td>3</td></tr><tr><td>List(SQL, Azure, AWS)</td><td>0</td><td>List(PySpark, Oracle, Schema)</td><td>0</td><td>0</td><td>List(12, 6, 8, 15, 9)</td><td>3</td></tr><tr><td>List(AWS, Python, Scala)</td><td>2</td><td>List(Git, SQL Editor, SQL)</td><td>3</td><td>1</td><td>List(2, 6, 5, 8, 4)</td><td>4</td></tr></tbody></table></div>"
      ]
     },
     "metadata": {
      "application/vnd.databricks.v1+output": {
       "addedWidgets": {},
       "aggData": [],
       "aggError": "",
       "aggOverflow": false,
       "aggSchema": [],
       "aggSeriesLimitReached": false,
       "aggType": "",
       "arguments": {},
       "columnCustomDisplayInfos": {},
       "data": [
        [
         [
          "Java",
          "Scala",
          "C++"
         ],
         0,
         [
          "Spark",
          "Java",
          "Azure Databricks"
         ],
         0,
         0,
         [
          8,
          9,
          8,
          5,
          7
         ],
         1
        ],
        [
         [
          "Python",
          "PySpark",
          "C",
          "Python"
         ],
         1,
         [
          "spark sql",
          "ADF"
         ],
         0,
         0,
         [
          11,
          8,
          3,
          6,
          8
         ],
         2
        ],
        [
         [
          "Scala",
          "Devops",
          "VB",
          "Git"
         ],
         0,
         [
          "ApacheSpark",
          "Python"
         ],
         0,
         0,
         [
          5,
          6,
          8,
          10,
          8
         ],
         3
        ],
        [
         [
          "SQL",
          "Azure",
          "Scala",
          "AWS"
         ],
         0,
         [
          "PySpark",
          "Oracle",
          "Confluence"
         ],
         0,
         0,
         [
          12,
          6,
          5,
          8,
          8
         ],
         4
        ],
        [
         [
          "GCC",
          "Visual Studio",
          "Python"
         ],
         3,
         [
          "SQL",
          "Databricks",
          "SQL"
         ],
         1,
         0,
         [
          1,
          2,
          6,
          5,
          8
         ],
         5
        ],
        [
         [
          "Devops",
          "VB",
          "Git",
          "Scala"
         ],
         0,
         [
          "ApacheSpark",
          "Python"
         ],
         0,
         0,
         [
          5,
          6,
          8,
          10,
          3
         ],
         3
        ],
        [
         [
          "SQL",
          "Azure",
          "AWS"
         ],
         0,
         [
          "PySpark",
          "Oracle",
          "Schema"
         ],
         0,
         0,
         [
          12,
          6,
          8,
          15,
          9
         ],
         3
        ],
        [
         [
          "AWS",
          "Python",
          "Scala"
         ],
         2,
         [
          "Git",
          "SQL Editor",
          "SQL"
         ],
         3,
         1,
         [
          2,
          6,
          5,
          8,
          4
         ],
         4
        ]
       ],
       "datasetInfos": [],
       "dbfsResultPath": null,
       "isJsonSchema": true,
       "metadata": {},
       "overflow": false,
       "plotOptions": {
        "customPlotOptions": {},
        "displayType": "table",
        "pivotAggregation": null,
        "pivotColumns": null,
        "xColumns": null,
        "yColumns": null
       },
       "removedWidgets": [],
       "schema": [
        {
         "metadata": "{}",
         "name": "LearntLanguages",
         "type": "{\"type\":\"array\",\"elementType\":\"string\",\"containsNull\":true}"
        },
        {
         "metadata": "{}",
         "name": "Learnt_position",
         "type": "\"long\""
        },
        {
         "metadata": "{}",
         "name": "ToLearnLanguages",
         "type": "{\"type\":\"array\",\"elementType\":\"string\",\"containsNull\":true}"
        },
        {
         "metadata": "{}",
         "name": "ToLearn_position",
         "type": "\"long\""
        },
        {
         "metadata": "{}",
         "name": "ToLearn_NULL_position",
         "type": "\"long\""
        },
        {
         "metadata": "{}",
         "name": "Rating",
         "type": "{\"type\":\"array\",\"elementType\":\"integer\",\"containsNull\":true}"
        },
        {
         "metadata": "{}",
         "name": "Rating_position",
         "type": "\"long\""
        }
       ],
       "type": "table"
      }
     },
     "output_type": "display_data"
    }
   ],
   "source": [
    "df_arr_pos = df.withColumn(\"Learnt_position\", array_position(\"LearntLanguages\", \"Python\"))\\\n",
    "               .withColumn(\"ToLearn_position\", array_position(\"ToLearnLanguages\", \"SQL\"))\\\n",
    "               .withColumn(\"ToLearn_NULL_position\", array_position(\"ToLearnLanguages\", \"Git\"))\\\n",
    "               .withColumn(\"Rating_position\", array_position(\"Rating\", 8))\\\n",
    "               .select(\"LearntLanguages\", \"Learnt_position\", \"ToLearnLanguages\", \"ToLearn_position\", \"ToLearn_NULL_position\", \"Rating\", \"Rating_position\")\n",
    "display(df_arr_pos)"
   ]
  },
  {
   "cell_type": "code",
   "execution_count": 0,
   "metadata": {
    "application/vnd.databricks.v1+cell": {
     "cellMetadata": {
      "byteLimit": 2048000,
      "rowLimit": 10000
     },
     "inputWidgets": {},
     "nuid": "d991bc2b-3b77-4682-82a4-d5a75a81d5ef",
     "showTitle": false,
     "title": ""
    }
   },
   "outputs": [
    {
     "output_type": "display_data",
     "data": {
      "text/html": [
       "<style scoped>\n",
       "  .table-result-container {\n",
       "    max-height: 300px;\n",
       "    overflow: auto;\n",
       "  }\n",
       "  table, th, td {\n",
       "    border: 1px solid black;\n",
       "    border-collapse: collapse;\n",
       "  }\n",
       "  th, td {\n",
       "    padding: 5px;\n",
       "  }\n",
       "  th {\n",
       "    text-align: left;\n",
       "  }\n",
       "</style><div class='table-result-container'><table class='table-result'><thead style='background-color: white'><tr><th>LearntLanguages</th><th>Learnt_position</th><th>Learnt_position_Elemt</th></tr></thead><tbody><tr><td>List(Java, Scala, C++)</td><td>Scala</td><td>2</td></tr><tr><td>List(Python, PySpark, C, Python)</td><td>PySpark</td><td>0</td></tr><tr><td>List(Scala, Devops, VB, Git)</td><td>Devops</td><td>1</td></tr><tr><td>List(SQL, Azure, Scala, AWS)</td><td>Azure</td><td>3</td></tr><tr><td>List(GCC, Visual Studio, Python)</td><td>Visual Studio</td><td>0</td></tr><tr><td>List(Devops, VB, Git, Scala)</td><td>VB</td><td>4</td></tr><tr><td>List(SQL, Azure, AWS)</td><td>Azure</td><td>0</td></tr><tr><td>List(AWS, Python, Scala)</td><td>Python</td><td>3</td></tr></tbody></table></div>"
      ]
     },
     "metadata": {
      "application/vnd.databricks.v1+output": {
       "addedWidgets": {},
       "aggData": [],
       "aggError": "",
       "aggOverflow": false,
       "aggSchema": [],
       "aggSeriesLimitReached": false,
       "aggType": "",
       "arguments": {},
       "columnCustomDisplayInfos": {},
       "data": [
        [
         [
          "Java",
          "Scala",
          "C++"
         ],
         "Scala",
         2
        ],
        [
         [
          "Python",
          "PySpark",
          "C",
          "Python"
         ],
         "PySpark",
         0
        ],
        [
         [
          "Scala",
          "Devops",
          "VB",
          "Git"
         ],
         "Devops",
         1
        ],
        [
         [
          "SQL",
          "Azure",
          "Scala",
          "AWS"
         ],
         "Azure",
         3
        ],
        [
         [
          "GCC",
          "Visual Studio",
          "Python"
         ],
         "Visual Studio",
         0
        ],
        [
         [
          "Devops",
          "VB",
          "Git",
          "Scala"
         ],
         "VB",
         4
        ],
        [
         [
          "SQL",
          "Azure",
          "AWS"
         ],
         "Azure",
         0
        ],
        [
         [
          "AWS",
          "Python",
          "Scala"
         ],
         "Python",
         3
        ]
       ],
       "datasetInfos": [],
       "dbfsResultPath": null,
       "isJsonSchema": true,
       "metadata": {},
       "overflow": false,
       "plotOptions": {
        "customPlotOptions": {},
        "displayType": "table",
        "pivotAggregation": null,
        "pivotColumns": null,
        "xColumns": null,
        "yColumns": null
       },
       "removedWidgets": [],
       "schema": [
        {
         "metadata": "{}",
         "name": "LearntLanguages",
         "type": "{\"type\":\"array\",\"elementType\":\"string\",\"containsNull\":true}"
        },
        {
         "metadata": "{}",
         "name": "Learnt_position",
         "type": "\"string\""
        },
        {
         "metadata": "{}",
         "name": "Learnt_position_Elemt",
         "type": "\"long\""
        }
       ],
       "type": "table"
      }
     },
     "output_type": "display_data"
    }
   ],
   "source": [
    "df_arr_ele_pos = df.withColumn(\"Learnt_position\", element_at(\"LearntLanguages\", 2))\\\n",
    "                   .withColumn(\"Learnt_position_Elemt\", array_position(\"LearntLanguages\", \"Scala\"))\\\n",
    "                   .select(\"LearntLanguages\", \"Learnt_position\", \"Learnt_position_Elemt\")\n",
    "display(df_arr_ele_pos) "
   ]
  },
  {
   "cell_type": "code",
   "execution_count": 0,
   "metadata": {
    "application/vnd.databricks.v1+cell": {
     "cellMetadata": {
      "byteLimit": 2048000,
      "rowLimit": 10000
     },
     "inputWidgets": {},
     "nuid": "5967e023-013e-41b0-9a59-fc18a6c80ae5",
     "showTitle": false,
     "title": ""
    }
   },
   "outputs": [
    {
     "output_type": "display_data",
     "data": {
      "text/html": [
       "<style scoped>\n",
       "  .table-result-container {\n",
       "    max-height: 300px;\n",
       "    overflow: auto;\n",
       "  }\n",
       "  table, th, td {\n",
       "    border: 1px solid black;\n",
       "    border-collapse: collapse;\n",
       "  }\n",
       "  th, td {\n",
       "    padding: 5px;\n",
       "  }\n",
       "  th {\n",
       "    text-align: left;\n",
       "  }\n",
       "</style><div class='table-result-container'><table class='table-result'><thead style='background-color: white'><tr><th>ToLearnLanguages</th><th>Rating</th><th>max</th><th>min</th><th>sort</th><th>location</th></tr></thead><tbody><tr><td>List(Spark, Java, Azure Databricks)</td><td>List(8, 9, 5, 7)</td><td>Spark</td><td>Azure Databricks</td><td>List(Azure Databricks, Java, Spark)</td><td>1</td></tr><tr><td>List(spark sql, ADF)</td><td>List(11, 3, 6, 8)</td><td>spark sql</td><td>ADF</td><td>List(ADF, spark sql)</td><td>4</td></tr><tr><td>List(ApacheSpark, Python)</td><td>List(5, 6, 8, 10)</td><td>Python</td><td>ApacheSpark</td><td>List(ApacheSpark, Python)</td><td>3</td></tr><tr><td>List(PySpark, Oracle, Confluence)</td><td>List(12, 6, 8, 15)</td><td>PySpark</td><td>Confluence</td><td>List(Confluence, Oracle, PySpark)</td><td>3</td></tr><tr><td>List(SQL, Databricks, SQL Editor)</td><td>List(2, 6, 5, 8)</td><td>SQL Editor</td><td>Databricks</td><td>List(Databricks, SQL, SQL Editor)</td><td>4</td></tr><tr><td>List(ApacheSpark, Python)</td><td>List(5, 6, 8, 10)</td><td>Python</td><td>ApacheSpark</td><td>List(ApacheSpark, Python)</td><td>3</td></tr><tr><td>List(PySpark, Oracle, Schema)</td><td>List(12, 6, 8, 15)</td><td>Schema</td><td>Oracle</td><td>List(Oracle, PySpark, Schema)</td><td>3</td></tr><tr><td>List(SQL, Git, SQL Editor)</td><td>List(2, 6, 5, 8)</td><td>SQL Editor</td><td>Git</td><td>List(Git, SQL, SQL Editor)</td><td>4</td></tr></tbody></table></div>"
      ]
     },
     "metadata": {
      "application/vnd.databricks.v1+output": {
       "addedWidgets": {},
       "aggData": [],
       "aggError": "",
       "aggOverflow": false,
       "aggSchema": [],
       "aggSeriesLimitReached": false,
       "aggType": "",
       "arguments": {},
       "columnCustomDisplayInfos": {},
       "data": [
        [
         [
          "Spark",
          "Java",
          "Azure Databricks"
         ],
         [
          8,
          9,
          5,
          7
         ],
         "Spark",
         "Azure Databricks",
         [
          "Azure Databricks",
          "Java",
          "Spark"
         ],
         1
        ],
        [
         [
          "spark sql",
          "ADF"
         ],
         [
          11,
          3,
          6,
          8
         ],
         "spark sql",
         "ADF",
         [
          "ADF",
          "spark sql"
         ],
         4
        ],
        [
         [
          "ApacheSpark",
          "Python"
         ],
         [
          5,
          6,
          8,
          10
         ],
         "Python",
         "ApacheSpark",
         [
          "ApacheSpark",
          "Python"
         ],
         3
        ],
        [
         [
          "PySpark",
          "Oracle",
          "Confluence"
         ],
         [
          12,
          6,
          8,
          15
         ],
         "PySpark",
         "Confluence",
         [
          "Confluence",
          "Oracle",
          "PySpark"
         ],
         3
        ],
        [
         [
          "SQL",
          "Databricks",
          "SQL Editor"
         ],
         [
          2,
          6,
          5,
          8
         ],
         "SQL Editor",
         "Databricks",
         [
          "Databricks",
          "SQL",
          "SQL Editor"
         ],
         4
        ],
        [
         [
          "ApacheSpark",
          "Python"
         ],
         [
          5,
          6,
          8,
          10
         ],
         "Python",
         "ApacheSpark",
         [
          "ApacheSpark",
          "Python"
         ],
         3
        ],
        [
         [
          "PySpark",
          "Oracle",
          "Schema"
         ],
         [
          12,
          6,
          8,
          15
         ],
         "Schema",
         "Oracle",
         [
          "Oracle",
          "PySpark",
          "Schema"
         ],
         3
        ],
        [
         [
          "SQL",
          "Git",
          "SQL Editor"
         ],
         [
          2,
          6,
          5,
          8
         ],
         "SQL Editor",
         "Git",
         [
          "Git",
          "SQL",
          "SQL Editor"
         ],
         4
        ]
       ],
       "datasetInfos": [],
       "dbfsResultPath": null,
       "isJsonSchema": true,
       "metadata": {},
       "overflow": false,
       "plotOptions": {
        "customPlotOptions": {},
        "displayType": "table",
        "pivotAggregation": null,
        "pivotColumns": null,
        "xColumns": null,
        "yColumns": null
       },
       "removedWidgets": [],
       "schema": [
        {
         "metadata": "{}",
         "name": "ToLearnLanguages",
         "type": "{\"type\":\"array\",\"elementType\":\"string\",\"containsNull\":true}"
        },
        {
         "metadata": "{}",
         "name": "Rating",
         "type": "{\"type\":\"array\",\"elementType\":\"integer\",\"containsNull\":true}"
        },
        {
         "metadata": "{}",
         "name": "max",
         "type": "\"string\""
        },
        {
         "metadata": "{}",
         "name": "min",
         "type": "\"string\""
        },
        {
         "metadata": "{}",
         "name": "sort",
         "type": "{\"type\":\"array\",\"elementType\":\"string\",\"containsNull\":true}"
        },
        {
         "metadata": "{}",
         "name": "location",
         "type": "\"long\""
        }
       ],
       "type": "table"
      }
     },
     "output_type": "display_data"
    }
   ],
   "source": [
    "trns_data = df.withColumn(\"max\", array_max(\"ToLearnLanguages\"))\\\n",
    "              .withColumn(\"min\", array_min(\"ToLearnLanguages\"))\\\n",
    "              .withColumn(\"sort\", array_sort(\"ToLearnLanguages\"))\\\n",
    "              .withColumn(\"location\", array_position(\"Rating\",8))\\\n",
    "              .select(\"ToLearnLanguages\", \"Rating\", \"max\", \"min\", \"sort\", \"location\")\n",
    "\n",
    "display(trns_data)"
   ]
  }
 ],
 "metadata": {
  "application/vnd.databricks.v1+notebook": {
   "dashboards": [],
   "environmentMetadata": null,
   "language": "python",
   "notebookMetadata": {
    "pythonIndentUnit": 4
   },
   "notebookName": "4_array_max_min_sort_size_position",
   "widgets": {}
  }
 },
 "nbformat": 4,
 "nbformat_minor": 0
}
