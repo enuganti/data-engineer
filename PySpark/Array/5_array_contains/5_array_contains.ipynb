{
 "cells": [
  {
   "cell_type": "markdown",
   "metadata": {
    "application/vnd.databricks.v1+cell": {
     "cellMetadata": {},
     "inputWidgets": {},
     "nuid": "47ba8bd3-1cb1-4d8c-9b60-c401c6ca7f81",
     "showTitle": false,
     "title": ""
    }
   },
   "source": [
    "#### **array_contains**\n",
    "\n",
    "- used to check if **array column contains a specific value**.\n",
    "- It is commonly used in **filtering** operations.\n",
    "- It returns a **Boolean column** indicating the **presence** of the element in the array.\n",
    "  - **True**: If the value is **present**.\n",
    "  - **False**: If the value is **not present**.\n",
    "  - **null**: If the array column is **null/None**."
   ]
  },
  {
   "cell_type": "markdown",
   "metadata": {
    "application/vnd.databricks.v1+cell": {
     "cellMetadata": {},
     "inputWidgets": {},
     "nuid": "c18f2e2c-ca91-4fd4-a17e-77b4445d9a86",
     "showTitle": false,
     "title": ""
    }
   },
   "source": [
    "#### **Syntax**\n",
    "\n",
    "     array_contains(array_column, value)\n",
    "     \n",
    "**column (str, Column):** It represents a column of ArrayType\n",
    "\n",
    "**value (str):** It represents the value to check if it is in the array column\n",
    "\n",
    "**Returns**: BOOLEAN"
   ]
  },
  {
   "cell_type": "code",
   "execution_count": 0,
   "metadata": {
    "application/vnd.databricks.v1+cell": {
     "cellMetadata": {
      "byteLimit": 2048000,
      "implicitDf": true,
      "rowLimit": 10000
     },
     "inputWidgets": {},
     "nuid": "adeedab3-7635-4475-b4cb-75e556270d5a",
     "showTitle": false,
     "title": ""
    }
   },
   "outputs": [
    {
     "output_type": "display_data",
     "data": {
      "text/html": [
       "<style scoped>\n",
       "  .table-result-container {\n",
       "    max-height: 300px;\n",
       "    overflow: auto;\n",
       "  }\n",
       "  table, th, td {\n",
       "    border: 1px solid black;\n",
       "    border-collapse: collapse;\n",
       "  }\n",
       "  th, td {\n",
       "    padding: 5px;\n",
       "  }\n",
       "  th {\n",
       "    text-align: left;\n",
       "  }\n",
       "</style><div class='table-result-container'><table class='table-result'><thead style='background-color: white'><tr><th>Boolean</th></tr></thead><tbody><tr><td>true</td></tr></tbody></table></div>"
      ]
     },
     "metadata": {
      "application/vnd.databricks.v1+output": {
       "addedWidgets": {},
       "aggData": [],
       "aggError": "",
       "aggOverflow": false,
       "aggSchema": [],
       "aggSeriesLimitReached": false,
       "aggType": "",
       "arguments": {},
       "columnCustomDisplayInfos": {},
       "data": [
        [
         true
        ]
       ],
       "datasetInfos": [],
       "dbfsResultPath": null,
       "isJsonSchema": true,
       "metadata": {
        "createTempViewForImplicitDf": true,
        "dataframeName": "_sqldf",
        "executionCount": 3
       },
       "overflow": false,
       "plotOptions": {
        "customPlotOptions": {},
        "displayType": "table",
        "pivotAggregation": null,
        "pivotColumns": null,
        "xColumns": null,
        "yColumns": null
       },
       "removedWidgets": [],
       "schema": [
        {
         "metadata": "{}",
         "name": "Boolean",
         "type": "\"boolean\""
        }
       ],
       "type": "table"
      }
     },
     "output_type": "display_data"
    }
   ],
   "source": [
    "%sql\n",
    "SELECT array_contains(array(1, 2, 3), 2) AS Boolean;"
   ]
  },
  {
   "cell_type": "code",
   "execution_count": 0,
   "metadata": {
    "application/vnd.databricks.v1+cell": {
     "cellMetadata": {
      "byteLimit": 2048000,
      "implicitDf": true,
      "rowLimit": 10000
     },
     "inputWidgets": {},
     "nuid": "11bd3411-7cec-4344-b970-cd96bd6b38ac",
     "showTitle": false,
     "title": ""
    }
   },
   "outputs": [
    {
     "output_type": "display_data",
     "data": {
      "text/html": [
       "<style scoped>\n",
       "  .table-result-container {\n",
       "    max-height: 300px;\n",
       "    overflow: auto;\n",
       "  }\n",
       "  table, th, td {\n",
       "    border: 1px solid black;\n",
       "    border-collapse: collapse;\n",
       "  }\n",
       "  th, td {\n",
       "    padding: 5px;\n",
       "  }\n",
       "  th {\n",
       "    text-align: left;\n",
       "  }\n",
       "</style><div class='table-result-container'><table class='table-result'><thead style='background-color: white'><tr><th>Boolean</th></tr></thead><tbody><tr><td>null</td></tr></tbody></table></div>"
      ]
     },
     "metadata": {
      "application/vnd.databricks.v1+output": {
       "addedWidgets": {},
       "aggData": [],
       "aggError": "",
       "aggOverflow": false,
       "aggSchema": [],
       "aggSeriesLimitReached": false,
       "aggType": "",
       "arguments": {},
       "columnCustomDisplayInfos": {},
       "data": [
        [
         null
        ]
       ],
       "datasetInfos": [],
       "dbfsResultPath": null,
       "isJsonSchema": true,
       "metadata": {
        "createTempViewForImplicitDf": true,
        "dataframeName": "_sqldf",
        "executionCount": 3
       },
       "overflow": false,
       "plotOptions": {
        "customPlotOptions": {},
        "displayType": "table",
        "pivotAggregation": null,
        "pivotColumns": null,
        "xColumns": null,
        "yColumns": null
       },
       "removedWidgets": [],
       "schema": [
        {
         "metadata": "{}",
         "name": "Boolean",
         "type": "\"boolean\""
        }
       ],
       "type": "table"
      }
     },
     "output_type": "display_data"
    }
   ],
   "source": [
    "%sql\n",
    "SELECT array_contains(array(1, NULL, 3), 2) AS Boolean;"
   ]
  },
  {
   "cell_type": "code",
   "execution_count": 0,
   "metadata": {
    "application/vnd.databricks.v1+cell": {
     "cellMetadata": {
      "byteLimit": 2048000,
      "implicitDf": true,
      "rowLimit": 10000
     },
     "inputWidgets": {},
     "nuid": "40b618fb-ad49-470c-87f4-d69757699005",
     "showTitle": false,
     "title": ""
    }
   },
   "outputs": [
    {
     "output_type": "display_data",
     "data": {
      "text/html": [
       "<style scoped>\n",
       "  .table-result-container {\n",
       "    max-height: 300px;\n",
       "    overflow: auto;\n",
       "  }\n",
       "  table, th, td {\n",
       "    border: 1px solid black;\n",
       "    border-collapse: collapse;\n",
       "  }\n",
       "  th, td {\n",
       "    padding: 5px;\n",
       "  }\n",
       "  th {\n",
       "    text-align: left;\n",
       "  }\n",
       "</style><div class='table-result-container'><table class='table-result'><thead style='background-color: white'><tr><th>Boolean</th></tr></thead><tbody><tr><td>false</td></tr></tbody></table></div>"
      ]
     },
     "metadata": {
      "application/vnd.databricks.v1+output": {
       "addedWidgets": {},
       "aggData": [],
       "aggError": "",
       "aggOverflow": false,
       "aggSchema": [],
       "aggSeriesLimitReached": false,
       "aggType": "",
       "arguments": {},
       "columnCustomDisplayInfos": {},
       "data": [
        [
         false
        ]
       ],
       "datasetInfos": [],
       "dbfsResultPath": null,
       "isJsonSchema": true,
       "metadata": {
        "createTempViewForImplicitDf": true,
        "dataframeName": "_sqldf",
        "executionCount": 4
       },
       "overflow": false,
       "plotOptions": {
        "customPlotOptions": {},
        "displayType": "table",
        "pivotAggregation": null,
        "pivotColumns": null,
        "xColumns": null,
        "yColumns": null
       },
       "removedWidgets": [],
       "schema": [
        {
         "metadata": "{}",
         "name": "Boolean",
         "type": "\"boolean\""
        }
       ],
       "type": "table"
      }
     },
     "output_type": "display_data"
    }
   ],
   "source": [
    "%sql\n",
    "SELECT array_contains(array(1, 4, 3), 2) AS Boolean;"
   ]
  },
  {
   "cell_type": "code",
   "execution_count": 0,
   "metadata": {
    "application/vnd.databricks.v1+cell": {
     "cellMetadata": {
      "byteLimit": 2048000,
      "rowLimit": 10000
     },
     "inputWidgets": {},
     "nuid": "b7748fb8-442f-425c-8dac-3d5d329e3112",
     "showTitle": false,
     "title": ""
    }
   },
   "outputs": [],
   "source": [
    "from pyspark.sql.types import StructType, StructField, ArrayType, StringType\n",
    "from pyspark.sql.functions import array_contains"
   ]
  },
  {
   "cell_type": "code",
   "execution_count": 0,
   "metadata": {
    "application/vnd.databricks.v1+cell": {
     "cellMetadata": {
      "byteLimit": 2048000,
      "rowLimit": 10000
     },
     "inputWidgets": {},
     "nuid": "4d28f0b1-d911-4a51-9186-8aaec14a0fe2",
     "showTitle": false,
     "title": ""
    }
   },
   "outputs": [
    {
     "output_type": "stream",
     "name": "stdout",
     "output_type": "stream",
     "text": [
      "root\n |-- Full_Name: string (nullable = true)\n |-- Languages: array (nullable = true)\n |    |-- element: string (containsNull = true)\n |-- New_Languages: array (nullable = true)\n |    |-- element: string (containsNull = true)\n |-- Experience: array (nullable = true)\n |    |-- element: long (containsNull = true)\n\n"
     ]
    },
    {
     "output_type": "display_data",
     "data": {
      "text/html": [
       "<style scoped>\n",
       "  .table-result-container {\n",
       "    max-height: 300px;\n",
       "    overflow: auto;\n",
       "  }\n",
       "  table, th, td {\n",
       "    border: 1px solid black;\n",
       "    border-collapse: collapse;\n",
       "  }\n",
       "  th, td {\n",
       "    padding: 5px;\n",
       "  }\n",
       "  th {\n",
       "    text-align: left;\n",
       "  }\n",
       "</style><div class='table-result-container'><table class='table-result'><thead style='background-color: white'><tr><th>Full_Name</th><th>Languages</th><th>New_Languages</th><th>Experience</th></tr></thead><tbody><tr><td>Anand</td><td>List(Java, Scala, C++)</td><td>List(Spark, Java, Azure Databricks)</td><td>List(8, 9, 5, 7)</td></tr><tr><td>Berne</td><td>List(Python, PySpark, C)</td><td>List(spark sql, ADF, SQL)</td><td>List(11, 3, 6, 8)</td></tr><tr><td>Charan</td><td>List(Devops, VB, Git)</td><td>List(ApacheSpark, Python)</td><td>List(5, 6, 8, 10)</td></tr><tr><td>Denish</td><td>List(SQL, Azure, AWS)</td><td>List(PySpark, Oracle, Confluence)</td><td>List(12, 6, 8, 15)</td></tr><tr><td>Krishna</td><td>List(GCC, Visual Studio, Python)</td><td>List(SQL, Databricks, SQL Editor)</td><td>List(2, 6, 5, 8)</td></tr><tr><td>Hari</td><td>List(Devops, VB, Git)</td><td>List(ApacheSpark, Python)</td><td>List(5, 6, 8, 10)</td></tr><tr><td>Rakesh</td><td>List(SQL, Azure, AWS)</td><td>List(PySpark, Oracle, SQL)</td><td>List(12, 6, 8, 15)</td></tr><tr><td>karan</td><td>List(AWS, Visual Studio, Python)</td><td>List(SQL, Git, SQL Editor)</td><td>List(2, 6, 5, 8)</td></tr><tr><td>Eren</td><td>null</td><td>null</td><td>null</td></tr></tbody></table></div>"
      ]
     },
     "metadata": {
      "application/vnd.databricks.v1+output": {
       "addedWidgets": {},
       "aggData": [],
       "aggError": "",
       "aggOverflow": false,
       "aggSchema": [],
       "aggSeriesLimitReached": false,
       "aggType": "",
       "arguments": {},
       "columnCustomDisplayInfos": {},
       "data": [
        [
         "Anand",
         [
          "Java",
          "Scala",
          "C++"
         ],
         [
          "Spark",
          "Java",
          "Azure Databricks"
         ],
         [
          8,
          9,
          5,
          7
         ]
        ],
        [
         "Berne",
         [
          "Python",
          "PySpark",
          "C"
         ],
         [
          "spark sql",
          "ADF",
          "SQL"
         ],
         [
          11,
          3,
          6,
          8
         ]
        ],
        [
         "Charan",
         [
          "Devops",
          "VB",
          "Git"
         ],
         [
          "ApacheSpark",
          "Python"
         ],
         [
          5,
          6,
          8,
          10
         ]
        ],
        [
         "Denish",
         [
          "SQL",
          "Azure",
          "AWS"
         ],
         [
          "PySpark",
          "Oracle",
          "Confluence"
         ],
         [
          12,
          6,
          8,
          15
         ]
        ],
        [
         "Krishna",
         [
          "GCC",
          "Visual Studio",
          "Python"
         ],
         [
          "SQL",
          "Databricks",
          "SQL Editor"
         ],
         [
          2,
          6,
          5,
          8
         ]
        ],
        [
         "Hari",
         [
          "Devops",
          "VB",
          "Git"
         ],
         [
          "ApacheSpark",
          "Python"
         ],
         [
          5,
          6,
          8,
          10
         ]
        ],
        [
         "Rakesh",
         [
          "SQL",
          "Azure",
          "AWS"
         ],
         [
          "PySpark",
          "Oracle",
          "SQL"
         ],
         [
          12,
          6,
          8,
          15
         ]
        ],
        [
         "karan",
         [
          "AWS",
          "Visual Studio",
          "Python"
         ],
         [
          "SQL",
          "Git",
          "SQL Editor"
         ],
         [
          2,
          6,
          5,
          8
         ]
        ],
        [
         "Eren",
         null,
         null,
         null
        ]
       ],
       "datasetInfos": [],
       "dbfsResultPath": null,
       "isJsonSchema": true,
       "metadata": {},
       "overflow": false,
       "plotOptions": {
        "customPlotOptions": {},
        "displayType": "table",
        "pivotAggregation": null,
        "pivotColumns": null,
        "xColumns": null,
        "yColumns": null
       },
       "removedWidgets": [],
       "schema": [
        {
         "metadata": "{}",
         "name": "Full_Name",
         "type": "\"string\""
        },
        {
         "metadata": "{}",
         "name": "Languages",
         "type": "{\"type\":\"array\",\"elementType\":\"string\",\"containsNull\":true}"
        },
        {
         "metadata": "{}",
         "name": "New_Languages",
         "type": "{\"type\":\"array\",\"elementType\":\"string\",\"containsNull\":true}"
        },
        {
         "metadata": "{}",
         "name": "Experience",
         "type": "{\"type\":\"array\",\"elementType\":\"long\",\"containsNull\":true}"
        }
       ],
       "type": "table"
      }
     },
     "output_type": "display_data"
    }
   ],
   "source": [
    "data = [(\"Anand\", [\"Java\",\"Scala\",\"C++\"], [\"Spark\",\"Java\",\"Azure Databricks\"], [8, 9, 5, 7]),\n",
    "        (\"Berne\", [\"Python\",\"PySpark\",\"C\"], [\"spark sql\",\"ADF\",\"SQL\"], [11, 3, 6, 8]),\n",
    "        (\"Charan\", [\"Devops\",\"VB\",\"Git\"], [\"ApacheSpark\",\"Python\"], [5, 6, 8, 10]),\n",
    "        (\"Denish\", [\"SQL\",\"Azure\",\"AWS\"], [\"PySpark\",\"Oracle\",\"Confluence\"], [12, 6, 8, 15]),\n",
    "        (\"Krishna\", [\"GCC\",\"Visual Studio\",\"Python\"], [\"SQL\",\"Databricks\",\"SQL Editor\"], [2, 6, 5, 8]),\n",
    "        (\"Hari\", [\"Devops\",\"VB\",\"Git\"], [\"ApacheSpark\",\"Python\"], [5, 6, 8, 10]),\n",
    "        (\"Rakesh\", [\"SQL\",\"Azure\",\"AWS\"], [\"PySpark\",\"Oracle\",\"SQL\"], [12, 6, 8, 15]),\n",
    "        (\"karan\", [\"AWS\",\"Visual Studio\",\"Python\"], [\"SQL\",\"Git\",\"SQL Editor\"], [2, 6, 5, 8]),\n",
    "        (\"Eren\", None, None, None)]\n",
    " \n",
    "columns = [\"Full_Name\", \"Languages\", \"New_Languages\", \"Experience\"]\n",
    "df = spark.createDataFrame(data, schema=columns)\n",
    "df.printSchema()\n",
    "display(df)"
   ]
  },
  {
   "cell_type": "markdown",
   "metadata": {
    "application/vnd.databricks.v1+cell": {
     "cellMetadata": {},
     "inputWidgets": {},
     "nuid": "ce149dcf-255a-413e-bd1f-46af0c398445",
     "showTitle": false,
     "title": ""
    }
   },
   "source": [
    "#### **1) How to check value is present in a column?**\n",
    "- Function **checks** if the specified **value is present** in an **array column or not**."
   ]
  },
  {
   "cell_type": "code",
   "execution_count": 0,
   "metadata": {
    "application/vnd.databricks.v1+cell": {
     "cellMetadata": {
      "byteLimit": 2048000,
      "rowLimit": 10000
     },
     "inputWidgets": {},
     "nuid": "bf9545dd-5163-46d5-a078-4e21f81eb1c6",
     "showTitle": false,
     "title": ""
    }
   },
   "outputs": [
    {
     "output_type": "display_data",
     "data": {
      "text/html": [
       "<style scoped>\n",
       "  .table-result-container {\n",
       "    max-height: 300px;\n",
       "    overflow: auto;\n",
       "  }\n",
       "  table, th, td {\n",
       "    border: 1px solid black;\n",
       "    border-collapse: collapse;\n",
       "  }\n",
       "  th, td {\n",
       "    padding: 5px;\n",
       "  }\n",
       "  th {\n",
       "    text-align: left;\n",
       "  }\n",
       "</style><div class='table-result-container'><table class='table-result'><thead style='background-color: white'><tr><th>Full_Name</th><th>Languages</th><th>knowns_python</th></tr></thead><tbody><tr><td>Anand</td><td>List(Java, Scala, C++)</td><td>false</td></tr><tr><td>Berne</td><td>List(Python, PySpark, C)</td><td>true</td></tr><tr><td>Charan</td><td>List(Devops, VB, Git)</td><td>false</td></tr><tr><td>Denish</td><td>List(SQL, Azure, AWS)</td><td>false</td></tr><tr><td>Krishna</td><td>List(GCC, Visual Studio, Python)</td><td>true</td></tr><tr><td>Hari</td><td>List(Devops, VB, Git)</td><td>false</td></tr><tr><td>Rakesh</td><td>List(SQL, Azure, AWS)</td><td>false</td></tr><tr><td>karan</td><td>List(AWS, Visual Studio, Python)</td><td>true</td></tr><tr><td>Eren</td><td>null</td><td>null</td></tr></tbody></table></div>"
      ]
     },
     "metadata": {
      "application/vnd.databricks.v1+output": {
       "addedWidgets": {},
       "aggData": [],
       "aggError": "",
       "aggOverflow": false,
       "aggSchema": [],
       "aggSeriesLimitReached": false,
       "aggType": "",
       "arguments": {},
       "columnCustomDisplayInfos": {},
       "data": [
        [
         "Anand",
         [
          "Java",
          "Scala",
          "C++"
         ],
         false
        ],
        [
         "Berne",
         [
          "Python",
          "PySpark",
          "C"
         ],
         true
        ],
        [
         "Charan",
         [
          "Devops",
          "VB",
          "Git"
         ],
         false
        ],
        [
         "Denish",
         [
          "SQL",
          "Azure",
          "AWS"
         ],
         false
        ],
        [
         "Krishna",
         [
          "GCC",
          "Visual Studio",
          "Python"
         ],
         true
        ],
        [
         "Hari",
         [
          "Devops",
          "VB",
          "Git"
         ],
         false
        ],
        [
         "Rakesh",
         [
          "SQL",
          "Azure",
          "AWS"
         ],
         false
        ],
        [
         "karan",
         [
          "AWS",
          "Visual Studio",
          "Python"
         ],
         true
        ],
        [
         "Eren",
         null,
         null
        ]
       ],
       "datasetInfos": [],
       "dbfsResultPath": null,
       "isJsonSchema": true,
       "metadata": {},
       "overflow": false,
       "plotOptions": {
        "customPlotOptions": {},
        "displayType": "table",
        "pivotAggregation": null,
        "pivotColumns": null,
        "xColumns": null,
        "yColumns": null
       },
       "removedWidgets": [],
       "schema": [
        {
         "metadata": "{}",
         "name": "Full_Name",
         "type": "\"string\""
        },
        {
         "metadata": "{}",
         "name": "Languages",
         "type": "{\"type\":\"array\",\"elementType\":\"string\",\"containsNull\":true}"
        },
        {
         "metadata": "{}",
         "name": "knowns_python",
         "type": "\"boolean\""
        }
       ],
       "type": "table"
      }
     },
     "output_type": "display_data"
    }
   ],
   "source": [
    "# to find out whether the students know Python or not.\n",
    "df_con_py = df.select(\"Full_Name\", \"Languages\", array_contains(\"Languages\", \"Python\").alias(\"knowns_python\"))\n",
    "display(df_con_py)"
   ]
  },
  {
   "cell_type": "code",
   "execution_count": 0,
   "metadata": {
    "application/vnd.databricks.v1+cell": {
     "cellMetadata": {
      "byteLimit": 2048000,
      "rowLimit": 10000
     },
     "inputWidgets": {},
     "nuid": "5cc6d2ad-0a58-446a-9a3e-9a08723600e2",
     "showTitle": false,
     "title": ""
    }
   },
   "outputs": [
    {
     "output_type": "display_data",
     "data": {
      "text/html": [
       "<style scoped>\n",
       "  .table-result-container {\n",
       "    max-height: 300px;\n",
       "    overflow: auto;\n",
       "  }\n",
       "  table, th, td {\n",
       "    border: 1px solid black;\n",
       "    border-collapse: collapse;\n",
       "  }\n",
       "  th, td {\n",
       "    padding: 5px;\n",
       "  }\n",
       "  th {\n",
       "    text-align: left;\n",
       "  }\n",
       "</style><div class='table-result-container'><table class='table-result'><thead style='background-color: white'><tr><th>Full_Name</th><th>New_Languages</th><th>knowns_java</th></tr></thead><tbody><tr><td>Anand</td><td>List(Spark, Java, Azure Databricks)</td><td>false</td></tr><tr><td>Berne</td><td>List(spark sql, ADF, SQL)</td><td>true</td></tr><tr><td>Charan</td><td>List(ApacheSpark, Python)</td><td>false</td></tr><tr><td>Denish</td><td>List(PySpark, Oracle, Confluence)</td><td>false</td></tr><tr><td>Krishna</td><td>List(SQL, Databricks, SQL Editor)</td><td>true</td></tr><tr><td>Hari</td><td>List(ApacheSpark, Python)</td><td>false</td></tr><tr><td>Rakesh</td><td>List(PySpark, Oracle, SQL)</td><td>true</td></tr><tr><td>karan</td><td>List(SQL, Git, SQL Editor)</td><td>true</td></tr><tr><td>Eren</td><td>null</td><td>null</td></tr></tbody></table></div>"
      ]
     },
     "metadata": {
      "application/vnd.databricks.v1+output": {
       "addedWidgets": {},
       "aggData": [],
       "aggError": "",
       "aggOverflow": false,
       "aggSchema": [],
       "aggSeriesLimitReached": false,
       "aggType": "",
       "arguments": {},
       "columnCustomDisplayInfos": {},
       "data": [
        [
         "Anand",
         [
          "Spark",
          "Java",
          "Azure Databricks"
         ],
         false
        ],
        [
         "Berne",
         [
          "spark sql",
          "ADF",
          "SQL"
         ],
         true
        ],
        [
         "Charan",
         [
          "ApacheSpark",
          "Python"
         ],
         false
        ],
        [
         "Denish",
         [
          "PySpark",
          "Oracle",
          "Confluence"
         ],
         false
        ],
        [
         "Krishna",
         [
          "SQL",
          "Databricks",
          "SQL Editor"
         ],
         true
        ],
        [
         "Hari",
         [
          "ApacheSpark",
          "Python"
         ],
         false
        ],
        [
         "Rakesh",
         [
          "PySpark",
          "Oracle",
          "SQL"
         ],
         true
        ],
        [
         "karan",
         [
          "SQL",
          "Git",
          "SQL Editor"
         ],
         true
        ],
        [
         "Eren",
         null,
         null
        ]
       ],
       "datasetInfos": [],
       "dbfsResultPath": null,
       "isJsonSchema": true,
       "metadata": {},
       "overflow": false,
       "plotOptions": {
        "customPlotOptions": {},
        "displayType": "table",
        "pivotAggregation": null,
        "pivotColumns": null,
        "xColumns": null,
        "yColumns": null
       },
       "removedWidgets": [],
       "schema": [
        {
         "metadata": "{}",
         "name": "Full_Name",
         "type": "\"string\""
        },
        {
         "metadata": "{}",
         "name": "New_Languages",
         "type": "{\"type\":\"array\",\"elementType\":\"string\",\"containsNull\":true}"
        },
        {
         "metadata": "{}",
         "name": "knowns_java",
         "type": "\"boolean\""
        }
       ],
       "type": "table"
      }
     },
     "output_type": "display_data"
    }
   ],
   "source": [
    "#  to find out whether the students know Java or not.\n",
    "df_con_ja = df.withColumn(\"knowns_java\", array_contains(\"New_Languages\", \"SQL\"))\\\n",
    "              .select(\"Full_Name\", \"New_Languages\", \"knowns_java\")\n",
    "display(df_con_ja)"
   ]
  },
  {
   "cell_type": "code",
   "execution_count": 0,
   "metadata": {
    "application/vnd.databricks.v1+cell": {
     "cellMetadata": {
      "byteLimit": 2048000,
      "rowLimit": 10000
     },
     "inputWidgets": {},
     "nuid": "c4b03e58-71d6-42a5-9f2c-2495b93565b2",
     "showTitle": false,
     "title": ""
    }
   },
   "outputs": [
    {
     "output_type": "display_data",
     "data": {
      "text/html": [
       "<style scoped>\n",
       "  .table-result-container {\n",
       "    max-height: 300px;\n",
       "    overflow: auto;\n",
       "  }\n",
       "  table, th, td {\n",
       "    border: 1px solid black;\n",
       "    border-collapse: collapse;\n",
       "  }\n",
       "  th, td {\n",
       "    padding: 5px;\n",
       "  }\n",
       "  th {\n",
       "    text-align: left;\n",
       "  }\n",
       "</style><div class='table-result-container'><table class='table-result'><thead style='background-color: white'><tr><th>Full_Name</th><th>Languages</th><th>Knows_Python</th><th>New_Languages</th><th>Knows_PySpark</th><th>Experience</th><th>Experience</th></tr></thead><tbody><tr><td>Anand</td><td>List(Java, Scala, C++)</td><td>false</td><td>List(Spark, Java, Azure Databricks)</td><td>false</td><td>List(8, 9, 5, 7)</td><td>true</td></tr><tr><td>Berne</td><td>List(Python, PySpark, C)</td><td>false</td><td>List(spark sql, ADF, SQL)</td><td>false</td><td>List(11, 3, 6, 8)</td><td>true</td></tr><tr><td>Charan</td><td>List(Devops, VB, Git)</td><td>false</td><td>List(ApacheSpark, Python)</td><td>false</td><td>List(5, 6, 8, 10)</td><td>true</td></tr><tr><td>Denish</td><td>List(SQL, Azure, AWS)</td><td>true</td><td>List(PySpark, Oracle, Confluence)</td><td>true</td><td>List(12, 6, 8, 15)</td><td>true</td></tr><tr><td>Krishna</td><td>List(GCC, Visual Studio, Python)</td><td>false</td><td>List(SQL, Databricks, SQL Editor)</td><td>false</td><td>List(2, 6, 5, 8)</td><td>true</td></tr><tr><td>Hari</td><td>List(Devops, VB, Git)</td><td>false</td><td>List(ApacheSpark, Python)</td><td>false</td><td>List(5, 6, 8, 10)</td><td>true</td></tr><tr><td>Rakesh</td><td>List(SQL, Azure, AWS)</td><td>true</td><td>List(PySpark, Oracle, SQL)</td><td>true</td><td>List(12, 6, 8, 15)</td><td>true</td></tr><tr><td>karan</td><td>List(AWS, Visual Studio, Python)</td><td>false</td><td>List(SQL, Git, SQL Editor)</td><td>false</td><td>List(2, 6, 5, 8)</td><td>true</td></tr><tr><td>Eren</td><td>null</td><td>null</td><td>null</td><td>null</td><td>null</td><td>null</td></tr></tbody></table></div>"
      ]
     },
     "metadata": {
      "application/vnd.databricks.v1+output": {
       "addedWidgets": {},
       "aggData": [],
       "aggError": "",
       "aggOverflow": false,
       "aggSchema": [],
       "aggSeriesLimitReached": false,
       "aggType": "",
       "arguments": {},
       "columnCustomDisplayInfos": {},
       "data": [
        [
         "Anand",
         [
          "Java",
          "Scala",
          "C++"
         ],
         false,
         [
          "Spark",
          "Java",
          "Azure Databricks"
         ],
         false,
         [
          8,
          9,
          5,
          7
         ],
         true
        ],
        [
         "Berne",
         [
          "Python",
          "PySpark",
          "C"
         ],
         false,
         [
          "spark sql",
          "ADF",
          "SQL"
         ],
         false,
         [
          11,
          3,
          6,
          8
         ],
         true
        ],
        [
         "Charan",
         [
          "Devops",
          "VB",
          "Git"
         ],
         false,
         [
          "ApacheSpark",
          "Python"
         ],
         false,
         [
          5,
          6,
          8,
          10
         ],
         true
        ],
        [
         "Denish",
         [
          "SQL",
          "Azure",
          "AWS"
         ],
         true,
         [
          "PySpark",
          "Oracle",
          "Confluence"
         ],
         true,
         [
          12,
          6,
          8,
          15
         ],
         true
        ],
        [
         "Krishna",
         [
          "GCC",
          "Visual Studio",
          "Python"
         ],
         false,
         [
          "SQL",
          "Databricks",
          "SQL Editor"
         ],
         false,
         [
          2,
          6,
          5,
          8
         ],
         true
        ],
        [
         "Hari",
         [
          "Devops",
          "VB",
          "Git"
         ],
         false,
         [
          "ApacheSpark",
          "Python"
         ],
         false,
         [
          5,
          6,
          8,
          10
         ],
         true
        ],
        [
         "Rakesh",
         [
          "SQL",
          "Azure",
          "AWS"
         ],
         true,
         [
          "PySpark",
          "Oracle",
          "SQL"
         ],
         true,
         [
          12,
          6,
          8,
          15
         ],
         true
        ],
        [
         "karan",
         [
          "AWS",
          "Visual Studio",
          "Python"
         ],
         false,
         [
          "SQL",
          "Git",
          "SQL Editor"
         ],
         false,
         [
          2,
          6,
          5,
          8
         ],
         true
        ],
        [
         "Eren",
         null,
         null,
         null,
         null,
         null,
         null
        ]
       ],
       "datasetInfos": [],
       "dbfsResultPath": null,
       "isJsonSchema": true,
       "metadata": {},
       "overflow": false,
       "plotOptions": {
        "customPlotOptions": {},
        "displayType": "table",
        "pivotAggregation": null,
        "pivotColumns": null,
        "xColumns": null,
        "yColumns": null
       },
       "removedWidgets": [],
       "schema": [
        {
         "metadata": "{}",
         "name": "Full_Name",
         "type": "\"string\""
        },
        {
         "metadata": "{}",
         "name": "Languages",
         "type": "{\"type\":\"array\",\"elementType\":\"string\",\"containsNull\":true}"
        },
        {
         "metadata": "{}",
         "name": "Knows_Python",
         "type": "\"boolean\""
        },
        {
         "metadata": "{}",
         "name": "New_Languages",
         "type": "{\"type\":\"array\",\"elementType\":\"string\",\"containsNull\":true}"
        },
        {
         "metadata": "{}",
         "name": "Knows_PySpark",
         "type": "\"boolean\""
        },
        {
         "metadata": "{}",
         "name": "Experience",
         "type": "{\"type\":\"array\",\"elementType\":\"long\",\"containsNull\":true}"
        },
        {
         "metadata": "{}",
         "name": "Experience",
         "type": "\"boolean\""
        }
       ],
       "type": "table"
      }
     },
     "output_type": "display_data"
    }
   ],
   "source": [
    "df_arr_con = df.select(\"Full_Name\",\\\n",
    "                       \"Languages\", array_contains(df.Languages, \"SQL\").alias(\"Knows_Python\"),\\\n",
    "                       \"New_Languages\", array_contains(df.New_Languages, \"PySpark\").alias(\"Knows_PySpark\"),\\\n",
    "                       \"Experience\", array_contains(df.Experience, 8).alias(\"Experience\"))\n",
    "display(df_arr_con)"
   ]
  },
  {
   "cell_type": "markdown",
   "metadata": {
    "application/vnd.databricks.v1+cell": {
     "cellMetadata": {},
     "inputWidgets": {},
     "nuid": "6866383f-c393-41b5-8b70-0bc0b13de38a",
     "showTitle": false,
     "title": ""
    }
   },
   "source": [
    "#### **2) How to filter records using array_contains()?**\n",
    "\n",
    "- To **filter** out students **who know “Python”** using array_contains() as a condition."
   ]
  },
  {
   "cell_type": "code",
   "execution_count": 0,
   "metadata": {
    "application/vnd.databricks.v1+cell": {
     "cellMetadata": {
      "byteLimit": 2048000,
      "rowLimit": 10000
     },
     "inputWidgets": {},
     "nuid": "d41176db-ebbe-4c84-9cd0-187d8dde944e",
     "showTitle": false,
     "title": ""
    }
   },
   "outputs": [
    {
     "output_type": "display_data",
     "data": {
      "text/html": [
       "<style scoped>\n",
       "  .table-result-container {\n",
       "    max-height: 300px;\n",
       "    overflow: auto;\n",
       "  }\n",
       "  table, th, td {\n",
       "    border: 1px solid black;\n",
       "    border-collapse: collapse;\n",
       "  }\n",
       "  th, td {\n",
       "    padding: 5px;\n",
       "  }\n",
       "  th {\n",
       "    text-align: left;\n",
       "  }\n",
       "</style><div class='table-result-container'><table class='table-result'><thead style='background-color: white'><tr><th>Full_Name</th><th>Languages</th></tr></thead><tbody><tr><td>Berne</td><td>List(Python, PySpark, C)</td></tr><tr><td>Krishna</td><td>List(GCC, Visual Studio, Python)</td></tr><tr><td>karan</td><td>List(AWS, Visual Studio, Python)</td></tr></tbody></table></div>"
      ]
     },
     "metadata": {
      "application/vnd.databricks.v1+output": {
       "addedWidgets": {},
       "aggData": [],
       "aggError": "",
       "aggOverflow": false,
       "aggSchema": [],
       "aggSeriesLimitReached": false,
       "aggType": "",
       "arguments": {},
       "columnCustomDisplayInfos": {},
       "data": [
        [
         "Berne",
         [
          "Python",
          "PySpark",
          "C"
         ]
        ],
        [
         "Krishna",
         [
          "GCC",
          "Visual Studio",
          "Python"
         ]
        ],
        [
         "karan",
         [
          "AWS",
          "Visual Studio",
          "Python"
         ]
        ]
       ],
       "datasetInfos": [],
       "dbfsResultPath": null,
       "isJsonSchema": true,
       "metadata": {},
       "overflow": false,
       "plotOptions": {
        "customPlotOptions": {},
        "displayType": "table",
        "pivotAggregation": null,
        "pivotColumns": null,
        "xColumns": null,
        "yColumns": null
       },
       "removedWidgets": [],
       "schema": [
        {
         "metadata": "{}",
         "name": "Full_Name",
         "type": "\"string\""
        },
        {
         "metadata": "{}",
         "name": "Languages",
         "type": "{\"type\":\"array\",\"elementType\":\"string\",\"containsNull\":true}"
        }
       ],
       "type": "table"
      }
     },
     "output_type": "display_data"
    }
   ],
   "source": [
    "df_con_py_filt = df.select(\"Full_Name\", \"Languages\") \\\n",
    "                   .filter(array_contains(\"Languages\", \"Python\"))\n",
    "display(df_con_py_filt)"
   ]
  },
  {
   "cell_type": "code",
   "execution_count": 0,
   "metadata": {
    "application/vnd.databricks.v1+cell": {
     "cellMetadata": {
      "byteLimit": 2048000,
      "rowLimit": 10000
     },
     "inputWidgets": {},
     "nuid": "d9757e68-e481-40f1-a85f-193bae523d90",
     "showTitle": false,
     "title": ""
    }
   },
   "outputs": [
    {
     "output_type": "display_data",
     "data": {
      "text/html": [
       "<style scoped>\n",
       "  .table-result-container {\n",
       "    max-height: 300px;\n",
       "    overflow: auto;\n",
       "  }\n",
       "  table, th, td {\n",
       "    border: 1px solid black;\n",
       "    border-collapse: collapse;\n",
       "  }\n",
       "  th, td {\n",
       "    padding: 5px;\n",
       "  }\n",
       "  th {\n",
       "    text-align: left;\n",
       "  }\n",
       "</style><div class='table-result-container'><table class='table-result'><thead style='background-color: white'><tr><th>Full_Name</th><th>New_Languages</th></tr></thead><tbody><tr><td>Berne</td><td>List(spark sql, ADF, SQL)</td></tr><tr><td>Krishna</td><td>List(SQL, Databricks, SQL Editor)</td></tr><tr><td>Rakesh</td><td>List(PySpark, Oracle, SQL)</td></tr><tr><td>karan</td><td>List(SQL, Git, SQL Editor)</td></tr></tbody></table></div>"
      ]
     },
     "metadata": {
      "application/vnd.databricks.v1+output": {
       "addedWidgets": {},
       "aggData": [],
       "aggError": "",
       "aggOverflow": false,
       "aggSchema": [],
       "aggSeriesLimitReached": false,
       "aggType": "",
       "arguments": {},
       "columnCustomDisplayInfos": {},
       "data": [
        [
         "Berne",
         [
          "spark sql",
          "ADF",
          "SQL"
         ]
        ],
        [
         "Krishna",
         [
          "SQL",
          "Databricks",
          "SQL Editor"
         ]
        ],
        [
         "Rakesh",
         [
          "PySpark",
          "Oracle",
          "SQL"
         ]
        ],
        [
         "karan",
         [
          "SQL",
          "Git",
          "SQL Editor"
         ]
        ]
       ],
       "datasetInfos": [],
       "dbfsResultPath": null,
       "isJsonSchema": true,
       "metadata": {},
       "overflow": false,
       "plotOptions": {
        "customPlotOptions": {},
        "displayType": "table",
        "pivotAggregation": null,
        "pivotColumns": null,
        "xColumns": null,
        "yColumns": null
       },
       "removedWidgets": [],
       "schema": [
        {
         "metadata": "{}",
         "name": "Full_Name",
         "type": "\"string\""
        },
        {
         "metadata": "{}",
         "name": "New_Languages",
         "type": "{\"type\":\"array\",\"elementType\":\"string\",\"containsNull\":true}"
        }
       ],
       "type": "table"
      }
     },
     "output_type": "display_data"
    }
   ],
   "source": [
    "df_con_py_filt1 = df.select(\"Full_Name\", \"New_Languages\") \\\n",
    "                    .filter(array_contains(\"New_Languages\", \"SQL\"))\n",
    "display(df_con_py_filt1)+"
   ]
  }
 ],
 "metadata": {
  "application/vnd.databricks.v1+notebook": {
   "dashboards": [],
   "environmentMetadata": null,
   "language": "python",
   "notebookMetadata": {
    "mostRecentlyExecutedCommandWithImplicitDF": {
     "commandId": 3425783508802011,
     "dataframes": [
      "_sqldf"
     ]
    },
    "pythonIndentUnit": 4
   },
   "notebookName": "5_array_contains",
   "widgets": {}
  }
 },
 "nbformat": 4,
 "nbformat_minor": 0
}
