{
 "cells": [
  {
   "cell_type": "markdown",
   "metadata": {
    "application/vnd.databricks.v1+cell": {
     "cellMetadata": {
      "byteLimit": 2048000,
      "rowLimit": 10000
     },
     "inputWidgets": {},
     "nuid": "c99fbc3a-0cc2-4db5-abe6-87cab3862784",
     "showTitle": false,
     "title": ""
    }
   },
   "source": [
    "#### **How to filter Array of Structs?**\n",
    "\n",
    "Filtering an **array of structs** in PySpark can be achieved using the **filter** function available in PySpark SQL expressions."
   ]
  },
  {
   "cell_type": "markdown",
   "metadata": {
    "application/vnd.databricks.v1+cell": {
     "cellMetadata": {
      "byteLimit": 2048000,
      "rowLimit": 10000
     },
     "inputWidgets": {},
     "nuid": "b2f795f4-faf7-4400-ba5d-efd0ab9519e7",
     "showTitle": false,
     "title": ""
    }
   },
   "source": [
    "#### **Syntax**\n",
    "\n",
    "     filter(expr, func)\n",
    "\n",
    "**expr:** An ARRAY expression.\n",
    "\n",
    "**func:** A lambda function.\n"
   ]
  },
  {
   "cell_type": "code",
   "execution_count": 0,
   "metadata": {
    "application/vnd.databricks.v1+cell": {
     "cellMetadata": {
      "byteLimit": 2048000,
      "implicitDf": true,
      "rowLimit": 10000
     },
     "inputWidgets": {},
     "nuid": "f2dd14cb-8c8c-4076-a6c4-dd05a70705a6",
     "showTitle": false,
     "title": ""
    }
   },
   "outputs": [
    {
     "output_type": "display_data",
     "data": {
      "text/html": [
       "<style scoped>\n",
       "  .table-result-container {\n",
       "    max-height: 300px;\n",
       "    overflow: auto;\n",
       "  }\n",
       "  table, th, td {\n",
       "    border: 1px solid black;\n",
       "    border-collapse: collapse;\n",
       "  }\n",
       "  th, td {\n",
       "    padding: 5px;\n",
       "  }\n",
       "  th {\n",
       "    text-align: left;\n",
       "  }\n",
       "</style><div class='table-result-container'><table class='table-result'><thead style='background-color: white'><tr><th>LAMDA</th></tr></thead><tbody><tr><td>List(0, 1, 2, 3, 4, 5, 6)</td></tr></tbody></table></div>"
      ]
     },
     "metadata": {
      "application/vnd.databricks.v1+output": {
       "addedWidgets": {},
       "aggData": [],
       "aggError": "",
       "aggOverflow": false,
       "aggSchema": [],
       "aggSeriesLimitReached": false,
       "aggType": "",
       "arguments": {},
       "columnCustomDisplayInfos": {},
       "data": [
        [
         [
          0,
          1,
          2,
          3,
          4,
          5,
          6
         ]
        ]
       ],
       "datasetInfos": [],
       "dbfsResultPath": null,
       "isJsonSchema": true,
       "metadata": {},
       "overflow": false,
       "plotOptions": {
        "customPlotOptions": {},
        "displayType": "table",
        "pivotAggregation": null,
        "pivotColumns": null,
        "xColumns": null,
        "yColumns": null
       },
       "removedWidgets": [],
       "schema": [
        {
         "metadata": "{}",
         "name": "LAMDA",
         "type": "{\"type\":\"array\",\"elementType\":\"integer\",\"containsNull\":true}"
        }
       ],
       "type": "table"
      }
     },
     "output_type": "display_data"
    }
   ],
   "source": [
    "%sql\n",
    "SELECT filter(array(0, 1, null, 2, 3, 4, 5, 6, null), x -> x IS NOT NULL) AS LAMDA;"
   ]
  },
  {
   "cell_type": "code",
   "execution_count": 0,
   "metadata": {
    "application/vnd.databricks.v1+cell": {
     "cellMetadata": {
      "byteLimit": 2048000,
      "implicitDf": true,
      "rowLimit": 10000
     },
     "inputWidgets": {},
     "nuid": "e4258c90-288b-4e41-a69d-21b113cbe2d5",
     "showTitle": false,
     "title": ""
    }
   },
   "outputs": [
    {
     "output_type": "display_data",
     "data": {
      "text/html": [
       "<style scoped>\n",
       "  .table-result-container {\n",
       "    max-height: 300px;\n",
       "    overflow: auto;\n",
       "  }\n",
       "  table, th, td {\n",
       "    border: 1px solid black;\n",
       "    border-collapse: collapse;\n",
       "  }\n",
       "  th, td {\n",
       "    padding: 5px;\n",
       "  }\n",
       "  th {\n",
       "    text-align: left;\n",
       "  }\n",
       "</style><div class='table-result-container'><table class='table-result'><thead style='background-color: white'><tr><th>LAMDA</th></tr></thead><tbody><tr><td>List(1, 3, 5, 7, 9)</td></tr></tbody></table></div>"
      ]
     },
     "metadata": {
      "application/vnd.databricks.v1+output": {
       "addedWidgets": {},
       "aggData": [],
       "aggError": "",
       "aggOverflow": false,
       "aggSchema": [],
       "aggSeriesLimitReached": false,
       "aggType": "",
       "arguments": {},
       "columnCustomDisplayInfos": {},
       "data": [
        [
         [
          1,
          3,
          5,
          7,
          9
         ]
        ]
       ],
       "datasetInfos": [],
       "dbfsResultPath": null,
       "isJsonSchema": true,
       "metadata": {},
       "overflow": false,
       "plotOptions": {
        "customPlotOptions": {},
        "displayType": "table",
        "pivotAggregation": null,
        "pivotColumns": null,
        "xColumns": null,
        "yColumns": null
       },
       "removedWidgets": [],
       "schema": [
        {
         "metadata": "{}",
         "name": "LAMDA",
         "type": "{\"type\":\"array\",\"elementType\":\"integer\",\"containsNull\":false}"
        }
       ],
       "type": "table"
      }
     },
     "output_type": "display_data"
    }
   ],
   "source": [
    "%sql\n",
    "SELECT filter(array(1, 2, 3, 5, 7, 8, 9), x -> x % 2 == 1) AS LAMDA;"
   ]
  },
  {
   "cell_type": "markdown",
   "metadata": {
    "application/vnd.databricks.v1+cell": {
     "cellMetadata": {
      "byteLimit": 2048000,
      "rowLimit": 10000
     },
     "inputWidgets": {},
     "nuid": "c0556d9d-f3e7-4286-8c0d-a3d7e5161418",
     "showTitle": false,
     "title": ""
    }
   },
   "source": [
    "- **array(1, 2, 3):** This creates an **array** with elements **1, 2, and 3**.\n",
    "- **filter(array, x -> x % 2 == 1):** This applies the **filter** function to the **array**.\n",
    "  - **x:** Represents **each element** of the **array**.\n",
    "  - **x % 2 == 1:** Checks if the element x is **odd**. % is the **modulo operator**, which gives the **remainder** of the division of **x by 2**.\n",
    "  - If x % 2 equals 1, x is odd."
   ]
  },
  {
   "cell_type": "code",
   "execution_count": 0,
   "metadata": {
    "application/vnd.databricks.v1+cell": {
     "cellMetadata": {
      "byteLimit": 2048000,
      "implicitDf": true,
      "rowLimit": 10000
     },
     "inputWidgets": {},
     "nuid": "da2fd00a-b0d9-4523-9823-f19a324b6352",
     "showTitle": false,
     "title": ""
    }
   },
   "outputs": [
    {
     "output_type": "display_data",
     "data": {
      "text/html": [
       "<style scoped>\n",
       "  .table-result-container {\n",
       "    max-height: 300px;\n",
       "    overflow: auto;\n",
       "  }\n",
       "  table, th, td {\n",
       "    border: 1px solid black;\n",
       "    border-collapse: collapse;\n",
       "  }\n",
       "  th, td {\n",
       "    padding: 5px;\n",
       "  }\n",
       "  th {\n",
       "    text-align: left;\n",
       "  }\n",
       "</style><div class='table-result-container'><table class='table-result'><thead style='background-color: white'><tr><th>LAMDA</th></tr></thead><tbody><tr><td>List(2, 3)</td></tr></tbody></table></div>"
      ]
     },
     "metadata": {
      "application/vnd.databricks.v1+output": {
       "addedWidgets": {},
       "aggData": [],
       "aggError": "",
       "aggOverflow": false,
       "aggSchema": [],
       "aggSeriesLimitReached": false,
       "aggType": "",
       "arguments": {},
       "columnCustomDisplayInfos": {},
       "data": [
        [
         [
          2,
          3
         ]
        ]
       ],
       "datasetInfos": [],
       "dbfsResultPath": null,
       "isJsonSchema": true,
       "metadata": {},
       "overflow": false,
       "plotOptions": {
        "customPlotOptions": {},
        "displayType": "table",
        "pivotAggregation": null,
        "pivotColumns": null,
        "xColumns": null,
        "yColumns": null
       },
       "removedWidgets": [],
       "schema": [
        {
         "metadata": "{}",
         "name": "LAMDA",
         "type": "{\"type\":\"array\",\"elementType\":\"integer\",\"containsNull\":false}"
        }
       ],
       "type": "table"
      }
     },
     "output_type": "display_data"
    }
   ],
   "source": [
    "%sql\n",
    "SELECT filter(array(0, 2, 3), (x, i) -> x > i) AS LAMDA;"
   ]
  },
  {
   "cell_type": "markdown",
   "metadata": {
    "application/vnd.databricks.v1+cell": {
     "cellMetadata": {
      "byteLimit": 2048000,
      "rowLimit": 10000
     },
     "inputWidgets": {},
     "nuid": "ea65b5a6-856a-4cd4-8b26-34d941ca9e53",
     "showTitle": false,
     "title": ""
    }
   },
   "source": [
    "- **x:** Represents the **array element**.\n",
    "- **i:** Represents the **index** of the **element in the array**.\n",
    "- **x > i:** The condition that keeps the elements where the element value **x is greater than its index i**.\n",
    "        \n",
    "        0 (index 0): 0 > 0 (False)\n",
    "        2 (index 1): 2 > 1 (True)\n",
    "        3 (index 2): 3 > 2 (True)"
   ]
  },
  {
   "cell_type": "markdown",
   "metadata": {
    "application/vnd.databricks.v1+cell": {
     "cellMetadata": {
      "byteLimit": 2048000,
      "rowLimit": 10000
     },
     "inputWidgets": {},
     "nuid": "d3abbee7-4166-4e81-ae75-a7cd32d53194",
     "showTitle": false,
     "title": ""
    }
   },
   "source": [
    "**EX 01**"
   ]
  },
  {
   "cell_type": "code",
   "execution_count": 0,
   "metadata": {
    "application/vnd.databricks.v1+cell": {
     "cellMetadata": {
      "byteLimit": 2048000,
      "rowLimit": 10000
     },
     "inputWidgets": {},
     "nuid": "c4ea90e7-42a0-448d-b80c-21007951b76e",
     "showTitle": true,
     "title": "Load required libraries"
    }
   },
   "outputs": [],
   "source": [
    "import pyspark.sql.functions as f\n",
    "from pyspark.sql.functions import col, expr, current_timestamp\n",
    "from pyspark.sql.types import StructType, StructField, StringType, IntegerType, ArrayType, BooleanType"
   ]
  },
  {
   "cell_type": "code",
   "execution_count": 0,
   "metadata": {
    "application/vnd.databricks.v1+cell": {
     "cellMetadata": {
      "byteLimit": 2048000,
      "rowLimit": 10000
     },
     "inputWidgets": {},
     "nuid": "4ac28460-f683-447d-b5f7-3cdc712057b6",
     "showTitle": true,
     "title": "create dataframe for array of struct"
    }
   },
   "outputs": [
    {
     "output_type": "display_data",
     "data": {
      "text/html": [
       "<style scoped>\n",
       "  .table-result-container {\n",
       "    max-height: 300px;\n",
       "    overflow: auto;\n",
       "  }\n",
       "  table, th, td {\n",
       "    border: 1px solid black;\n",
       "    border-collapse: collapse;\n",
       "  }\n",
       "  th, td {\n",
       "    padding: 5px;\n",
       "  }\n",
       "  th {\n",
       "    text-align: left;\n",
       "  }\n",
       "</style><div class='table-result-container'><table class='table-result'><thead style='background-color: white'><tr><th>people</th></tr></thead><tbody><tr><td>List(Map(name -> John, Exp -> 5, age -> 30), Map(name -> Paul, Exp -> 8, age -> 25), Map(name -> Watson, Exp -> 3, age -> 35), Map(name -> Sophia, Exp -> 7, age -> 32), Map(name -> Behra, Exp -> 9, age -> 45), Map(name -> Stalin, Exp -> 12, age -> 55))</td></tr></tbody></table></div>"
      ]
     },
     "metadata": {
      "application/vnd.databricks.v1+output": {
       "addedWidgets": {},
       "aggData": [],
       "aggError": "",
       "aggOverflow": false,
       "aggSchema": [],
       "aggSeriesLimitReached": false,
       "aggType": "",
       "arguments": {},
       "columnCustomDisplayInfos": {},
       "data": [
        [
         [
          {
           "Exp": "5",
           "age": "30",
           "name": "John"
          },
          {
           "Exp": "8",
           "age": "25",
           "name": "Paul"
          },
          {
           "Exp": "3",
           "age": "35",
           "name": "Watson"
          },
          {
           "Exp": "7",
           "age": "32",
           "name": "Sophia"
          },
          {
           "Exp": "9",
           "age": "45",
           "name": "Behra"
          },
          {
           "Exp": "12",
           "age": "55",
           "name": "Stalin"
          }
         ]
        ]
       ],
       "datasetInfos": [],
       "dbfsResultPath": null,
       "isJsonSchema": true,
       "metadata": {},
       "overflow": false,
       "plotOptions": {
        "customPlotOptions": {},
        "displayType": "table",
        "pivotAggregation": null,
        "pivotColumns": null,
        "xColumns": null,
        "yColumns": null
       },
       "removedWidgets": [],
       "schema": [
        {
         "metadata": "{}",
         "name": "people",
         "type": "{\"type\":\"array\",\"elementType\":{\"type\":\"map\",\"keyType\":\"string\",\"valueType\":\"string\",\"valueContainsNull\":true},\"containsNull\":true}"
        }
       ],
       "type": "table"
      }
     },
     "output_type": "display_data"
    }
   ],
   "source": [
    "# Sample schema for demonstration\n",
    "schema1 = ArrayType(StructType([\n",
    "    StructField(\"name\", StringType(), True),\n",
    "    StructField(\"age\", IntegerType(), True),\n",
    "    StructField(\"Exp\", IntegerType(), True)\n",
    "]))\n",
    "\n",
    "data1 = [([{\"name\": \"John\", \"age\": 30, \"Exp\":5},\n",
    "           {\"name\": \"Paul\", \"age\": 25, \"Exp\":8},\n",
    "           {\"name\": \"Watson\", \"age\": 35, \"Exp\":3},\n",
    "           {\"name\": \"Sophia\", \"age\": 32, \"Exp\":7},\n",
    "           {\"name\": \"Behra\", \"age\": 45, \"Exp\":9},\n",
    "           {\"name\": \"Stalin\", \"age\": 55, \"Exp\":12}],)]\n",
    "\n",
    "df_flt_01 = spark.createDataFrame(data1, schema=[\"people\"])\n",
    "\n",
    "# Display the original DataFrame\n",
    "display(df_flt_01)"
   ]
  },
  {
   "cell_type": "markdown",
   "metadata": {
    "application/vnd.databricks.v1+cell": {
     "cellMetadata": {
      "byteLimit": 2048000,
      "rowLimit": 10000
     },
     "inputWidgets": {},
     "nuid": "9ef71109-12e2-4021-9f53-1d7bc56ccad9",
     "showTitle": false,
     "title": ""
    }
   },
   "source": [
    "- To **filter** this array to **include only the structs** where age is **greater than 30**, you can use the expr function with a SQL expression.\n",
    "\n",
    "- **expr(\"filter(people, person -> person.age > 30)\")** applies the **filter** function on the people array column. It retains only those structs (person) where the age field is **greater than 30**.\n"
   ]
  },
  {
   "cell_type": "code",
   "execution_count": 0,
   "metadata": {
    "application/vnd.databricks.v1+cell": {
     "cellMetadata": {
      "byteLimit": 2048000,
      "rowLimit": 10000
     },
     "inputWidgets": {},
     "nuid": "31684b79-140b-441e-b3b5-b122f55e0a40",
     "showTitle": true,
     "title": "filter records greater than 30"
    }
   },
   "outputs": [
    {
     "output_type": "display_data",
     "data": {
      "text/html": [
       "<style scoped>\n",
       "  .table-result-container {\n",
       "    max-height: 300px;\n",
       "    overflow: auto;\n",
       "  }\n",
       "  table, th, td {\n",
       "    border: 1px solid black;\n",
       "    border-collapse: collapse;\n",
       "  }\n",
       "  th, td {\n",
       "    padding: 5px;\n",
       "  }\n",
       "  th {\n",
       "    text-align: left;\n",
       "  }\n",
       "</style><div class='table-result-container'><table class='table-result'><thead style='background-color: white'><tr><th>people</th><th>filtered_people</th></tr></thead><tbody><tr><td>List(Map(name -> John, Exp -> 5, age -> 30), Map(name -> Paul, Exp -> 8, age -> 25), Map(name -> Watson, Exp -> 3, age -> 35), Map(name -> Sophia, Exp -> 7, age -> 32), Map(name -> Behra, Exp -> 9, age -> 45), Map(name -> Stalin, Exp -> 12, age -> 55))</td><td>List(Map(name -> Watson, Exp -> 3, age -> 35), Map(name -> Sophia, Exp -> 7, age -> 32), Map(name -> Behra, Exp -> 9, age -> 45), Map(name -> Stalin, Exp -> 12, age -> 55))</td></tr></tbody></table></div>"
      ]
     },
     "metadata": {
      "application/vnd.databricks.v1+output": {
       "addedWidgets": {},
       "aggData": [],
       "aggError": "",
       "aggOverflow": false,
       "aggSchema": [],
       "aggSeriesLimitReached": false,
       "aggType": "",
       "arguments": {},
       "columnCustomDisplayInfos": {},
       "data": [
        [
         [
          {
           "Exp": "5",
           "age": "30",
           "name": "John"
          },
          {
           "Exp": "8",
           "age": "25",
           "name": "Paul"
          },
          {
           "Exp": "3",
           "age": "35",
           "name": "Watson"
          },
          {
           "Exp": "7",
           "age": "32",
           "name": "Sophia"
          },
          {
           "Exp": "9",
           "age": "45",
           "name": "Behra"
          },
          {
           "Exp": "12",
           "age": "55",
           "name": "Stalin"
          }
         ],
         [
          {
           "Exp": "3",
           "age": "35",
           "name": "Watson"
          },
          {
           "Exp": "7",
           "age": "32",
           "name": "Sophia"
          },
          {
           "Exp": "9",
           "age": "45",
           "name": "Behra"
          },
          {
           "Exp": "12",
           "age": "55",
           "name": "Stalin"
          }
         ]
        ]
       ],
       "datasetInfos": [],
       "dbfsResultPath": null,
       "isJsonSchema": true,
       "metadata": {},
       "overflow": false,
       "plotOptions": {
        "customPlotOptions": {},
        "displayType": "table",
        "pivotAggregation": null,
        "pivotColumns": null,
        "xColumns": null,
        "yColumns": null
       },
       "removedWidgets": [],
       "schema": [
        {
         "metadata": "{}",
         "name": "people",
         "type": "{\"type\":\"array\",\"elementType\":{\"type\":\"map\",\"keyType\":\"string\",\"valueType\":\"string\",\"valueContainsNull\":true},\"containsNull\":true}"
        },
        {
         "metadata": "{}",
         "name": "filtered_people",
         "type": "{\"type\":\"array\",\"elementType\":{\"type\":\"map\",\"keyType\":\"string\",\"valueType\":\"string\",\"valueContainsNull\":true},\"containsNull\":true}"
        }
       ],
       "type": "table"
      }
     },
     "output_type": "display_data"
    }
   ],
   "source": [
    "filtered_df_01 = df_flt_01.withColumn(\"filtered_people\", expr(\"filter(people, person -> person.age > 30)\"))\n",
    "\n",
    "# Display the filtered DataFrame\n",
    "display(filtered_df_01)"
   ]
  },
  {
   "cell_type": "markdown",
   "metadata": {
    "application/vnd.databricks.v1+cell": {
     "cellMetadata": {
      "byteLimit": 2048000,
      "rowLimit": 10000
     },
     "inputWidgets": {},
     "nuid": "80db75f5-974e-4bba-9ec2-04fdb058a6eb",
     "showTitle": false,
     "title": ""
    }
   },
   "source": [
    "- **df.filter** for **filtering rows** in a **DataFrame** based on a condition applied to column values.\n",
    "\n",
    "- However, the **expr(\"filter(people, person -> person.age > 30)\")** expression is specifically used for **filtering elements within an array column of a DataFrame**, not for filtering rows of the DataFrame itself."
   ]
  },
  {
   "cell_type": "markdown",
   "metadata": {
    "application/vnd.databricks.v1+cell": {
     "cellMetadata": {
      "byteLimit": 2048000,
      "rowLimit": 10000
     },
     "inputWidgets": {},
     "nuid": "6a477fa1-1298-4069-88e5-31fa042ca348",
     "showTitle": false,
     "title": ""
    }
   },
   "source": [
    "**EX 02**"
   ]
  },
  {
   "cell_type": "markdown",
   "metadata": {
    "application/vnd.databricks.v1+cell": {
     "cellMetadata": {
      "byteLimit": 2048000,
      "rowLimit": 10000
     },
     "inputWidgets": {},
     "nuid": "b82689c7-f949-4301-831f-b85d9f116824",
     "showTitle": false,
     "title": ""
    }
   },
   "source": [
    "- The code snippet you're asking about uses the expr function from PySpark to apply a SQL expression within a DataFrame transformation. Specifically, it **filters** a column named **person**, which is expected to be an **array of structs** (or similar complex type), to retain only those elements where the key field matches one of the specified values: **'SALESID', 'MAKEID', or 'VEHICLEID'**.\n",
    "\n",
    "- Here's a breakdown of the expression:\n",
    "\n",
    "  - **filter(person, x -> ...):** This applies a filter function to each element in the person array. The x represents each element in the array as the filter function iterates through it.\n",
    "  - **array_contains(array('SALESID', 'MAKEID', 'VEHICLEID'), x.key):** This checks if the key field of the current element x is one of the specified values ('SALESID', 'MAKEID', or 'VEHICLEID'). The array_contains function returns true if the key is found in the provided array, and false otherwise.\n",
    "  - **.alias('person'):** This renames the result of the expression to person, effectively creating a new column in the DataFrame with this name.\n",
    "- The purpose of this code is to **filter and retain only specific person information** from a potentially larger set of person based on the key names. This can be useful for extracting and working with only relevant metadata from a message or data record, such as tracing or identification information indicated by **'SALESID', 'MAKEID', and 'VEHICLEID'**."
   ]
  },
  {
   "cell_type": "code",
   "execution_count": 0,
   "metadata": {
    "application/vnd.databricks.v1+cell": {
     "cellMetadata": {
      "byteLimit": 2048000,
      "rowLimit": 10000
     },
     "inputWidgets": {},
     "nuid": "18e720d7-f848-4ba4-a23e-aa490c14f7ac",
     "showTitle": false,
     "title": ""
    }
   },
   "outputs": [
    {
     "output_type": "display_data",
     "data": {
      "text/html": [
       "<style scoped>\n",
       "  .table-result-container {\n",
       "    max-height: 300px;\n",
       "    overflow: auto;\n",
       "  }\n",
       "  table, th, td {\n",
       "    border: 1px solid black;\n",
       "    border-collapse: collapse;\n",
       "  }\n",
       "  th, td {\n",
       "    padding: 5px;\n",
       "  }\n",
       "  th {\n",
       "    text-align: left;\n",
       "  }\n",
       "</style><div class='table-result-container'><table class='table-result'><thead style='background-color: white'><tr><th>person</th></tr></thead><tbody><tr><td>List(Map(value -> batch_20230312, key -> SERIALID), Map(value -> abghd2sjkhfl56, key -> SALESID), Map(value -> acfgd2srtufl98, key -> MAKEID), Map(value -> abgqa5sjtopfl62, key -> VEHICLEID), Map(value -> batch_202431026, key -> SERIALID), Map(value -> abghd2sjkhfl56, key -> RAWID), Map(value -> acfgd2srtufl98, key -> ADMINID), Map(value -> abgqa5sjtopfl62, key -> GMID), Map(value -> batch_202431026, key -> SERIALID), Map(value -> abghd2sjkhfl56, key -> BOXID), Map(value -> acfgd2srtufl98, key -> TAXID), Map(value -> abgqa5sjtopfl62, key -> SALESID))</td></tr></tbody></table></div>"
      ]
     },
     "metadata": {
      "application/vnd.databricks.v1+output": {
       "addedWidgets": {},
       "aggData": [],
       "aggError": "",
       "aggOverflow": false,
       "aggSchema": [],
       "aggSeriesLimitReached": false,
       "aggType": "",
       "arguments": {},
       "columnCustomDisplayInfos": {},
       "data": [
        [
         [
          {
           "key": "SERIALID",
           "value": "batch_20230312"
          },
          {
           "key": "SALESID",
           "value": "abghd2sjkhfl56"
          },
          {
           "key": "MAKEID",
           "value": "acfgd2srtufl98"
          },
          {
           "key": "VEHICLEID",
           "value": "abgqa5sjtopfl62"
          },
          {
           "key": "SERIALID",
           "value": "batch_202431026"
          },
          {
           "key": "RAWID",
           "value": "abghd2sjkhfl56"
          },
          {
           "key": "ADMINID",
           "value": "acfgd2srtufl98"
          },
          {
           "key": "GMID",
           "value": "abgqa5sjtopfl62"
          },
          {
           "key": "SERIALID",
           "value": "batch_202431026"
          },
          {
           "key": "BOXID",
           "value": "abghd2sjkhfl56"
          },
          {
           "key": "TAXID",
           "value": "acfgd2srtufl98"
          },
          {
           "key": "SALESID",
           "value": "abgqa5sjtopfl62"
          }
         ]
        ]
       ],
       "datasetInfos": [],
       "dbfsResultPath": null,
       "isJsonSchema": true,
       "metadata": {},
       "overflow": false,
       "plotOptions": {
        "customPlotOptions": {},
        "displayType": "table",
        "pivotAggregation": null,
        "pivotColumns": null,
        "xColumns": null,
        "yColumns": null
       },
       "removedWidgets": [],
       "schema": [
        {
         "metadata": "{}",
         "name": "person",
         "type": "{\"type\":\"array\",\"elementType\":{\"type\":\"map\",\"keyType\":\"string\",\"valueType\":\"string\",\"valueContainsNull\":true},\"containsNull\":true}"
        }
       ],
       "type": "table"
      }
     },
     "output_type": "display_data"
    }
   ],
   "source": [
    "# Define the schema for the array of structs\n",
    "schema2 = ArrayType(StructType([\n",
    "    StructField(\"key\", StringType(), True),\n",
    "    StructField(\"value\", BooleanType(), True)\n",
    "]))\n",
    "\n",
    "# Sample data\n",
    "data2 = [([{\"key\": \"SERIALID\", \"value\": \"batch_20230312\"}, {\"key\": \"SALESID\", \"value\": \"abghd2sjkhfl56\"}, {\"key\": \"MAKEID\", \"value\": \"acfgd2srtufl98\"}, {\"key\": \"VEHICLEID\", \"value\": \"abgqa5sjtopfl62\"}, {\"key\": \"SERIALID\", \"value\": \"batch_202431026\"}, {\"key\": \"RAWID\", \"value\": \"abghd2sjkhfl56\"}, {\"key\": \"ADMINID\", \"value\": \"acfgd2srtufl98\"}, {\"key\": \"GMID\", \"value\": \"abgqa5sjtopfl62\"}, {\"key\": \"SERIALID\", \"value\": \"batch_202431026\"}, {\"key\": \"BOXID\", \"value\": \"abghd2sjkhfl56\"}, {\"key\": \"TAXID\", \"value\": \"acfgd2srtufl98\"}, {\"key\": \"SALESID\", \"value\": \"abgqa5sjtopfl62\"}],)]\n",
    "\n",
    "# Create DataFrame using the defined schema\n",
    "df_flt_02 = spark.createDataFrame(data=data2, schema=[\"person\"])\n",
    "\n",
    "# Display the original DataFrame\n",
    "display(df_flt_02)"
   ]
  },
  {
   "cell_type": "markdown",
   "metadata": {
    "application/vnd.databricks.v1+cell": {
     "cellMetadata": {
      "byteLimit": 2048000,
      "rowLimit": 10000
     },
     "inputWidgets": {},
     "nuid": "cbe8be0a-8bfb-482f-a7c2-0920bd02ab0c",
     "showTitle": false,
     "title": ""
    }
   },
   "source": [
    "     # 12.2 LTS (includes Apache Spark 3.3.2, Scala 2.12)\n",
    "     from pyspark.sql.functions import expr\n",
    "     df.select(expr(\"current_user()\").alias(\"meta_created_by\"))\n",
    "\n",
    "     # 15.4 LTS (includes Apache Spark 3.5.0, Scala 2.12)\n",
    "     from pyspark.sql.functions import current_user\n",
    "     df.select(current_user().alias(\"meta_created_by\"))"
   ]
  },
  {
   "cell_type": "code",
   "execution_count": 0,
   "metadata": {
    "application/vnd.databricks.v1+cell": {
     "cellMetadata": {
      "byteLimit": 2048000,
      "rowLimit": 10000
     },
     "inputWidgets": {},
     "nuid": "50a1a822-a230-4ed5-a349-af5d81a7a2c3",
     "showTitle": false,
     "title": ""
    }
   },
   "outputs": [
    {
     "output_type": "display_data",
     "data": {
      "text/html": [
       "<style scoped>\n",
       "  .table-result-container {\n",
       "    max-height: 300px;\n",
       "    overflow: auto;\n",
       "  }\n",
       "  table, th, td {\n",
       "    border: 1px solid black;\n",
       "    border-collapse: collapse;\n",
       "  }\n",
       "  th, td {\n",
       "    padding: 5px;\n",
       "  }\n",
       "  th {\n",
       "    text-align: left;\n",
       "  }\n",
       "</style><div class='table-result-container'><table class='table-result'><thead style='background-color: white'><tr><th>meta_created_timestamp</th><th>meta_created_by</th><th>serial_id</th><th>person</th></tr></thead><tbody><tr><td>2024-10-26T13:49:33.405+0000</td><td>enugantisuresh12@gmail.com</td><td>batch_20230312</td><td>List(Map(value -> abghd2sjkhfl56, key -> SALESID), Map(value -> acfgd2srtufl98, key -> MAKEID), Map(value -> abgqa5sjtopfl62, key -> VEHICLEID), Map(value -> abgqa5sjtopfl62, key -> SALESID))</td></tr></tbody></table></div>"
      ]
     },
     "metadata": {
      "application/vnd.databricks.v1+output": {
       "addedWidgets": {},
       "aggData": [],
       "aggError": "",
       "aggOverflow": false,
       "aggSchema": [],
       "aggSeriesLimitReached": false,
       "aggType": "",
       "arguments": {},
       "columnCustomDisplayInfos": {},
       "data": [
        [
         "2024-10-26T13:49:33.405+0000",
         "enugantisuresh12@gmail.com",
         "batch_20230312",
         [
          {
           "key": "SALESID",
           "value": "abghd2sjkhfl56"
          },
          {
           "key": "MAKEID",
           "value": "acfgd2srtufl98"
          },
          {
           "key": "VEHICLEID",
           "value": "abgqa5sjtopfl62"
          },
          {
           "key": "SALESID",
           "value": "abgqa5sjtopfl62"
          }
         ]
        ]
       ],
       "datasetInfos": [],
       "dbfsResultPath": null,
       "isJsonSchema": true,
       "metadata": {},
       "overflow": false,
       "plotOptions": {
        "customPlotOptions": {},
        "displayType": "table",
        "pivotAggregation": null,
        "pivotColumns": null,
        "xColumns": null,
        "yColumns": null
       },
       "removedWidgets": [],
       "schema": [
        {
         "metadata": "{}",
         "name": "meta_created_timestamp",
         "type": "\"timestamp\""
        },
        {
         "metadata": "{}",
         "name": "meta_created_by",
         "type": "\"string\""
        },
        {
         "metadata": "{}",
         "name": "serial_id",
         "type": "\"string\""
        },
        {
         "metadata": "{}",
         "name": "person",
         "type": "{\"type\":\"array\",\"elementType\":{\"type\":\"map\",\"keyType\":\"string\",\"valueType\":\"string\",\"valueContainsNull\":true},\"containsNull\":true}"
        }
       ],
       "type": "table"
      }
     },
     "output_type": "display_data"
    }
   ],
   "source": [
    "df_per = df_flt_02.select(\n",
    "    current_timestamp().alias(\"meta_created_timestamp\"),\n",
    "    expr(\"current_user()\").alias(\"meta_created_by\"),\n",
    "    expr(\"filter(person, x -> x.key == 'SERIALID')[0].value\").cast(StringType()).alias('serial_id'),\n",
    "    expr(\"filter(person, x -> array_contains(array('SALESID', 'MAKEID', 'VEHICLEID'), x.key))\").alias('person'),\n",
    "    # JSON string into a VariantType\n",
    "    # f.parse_json(f.to_json((f.struct(f.col('person')))).cast(StringType())).alias('batch_person')\n",
    "    )\n",
    "\n",
    "# Display the filtered DataFrame\n",
    "display(df_per)"
   ]
  }
 ],
 "metadata": {
  "application/vnd.databricks.v1+notebook": {
   "dashboards": [],
   "environmentMetadata": null,
   "language": "python",
   "notebookMetadata": {
    "mostRecentlyExecutedCommandWithImplicitDF": {
     "commandId": 1529075866843611,
     "dataframes": [
      "_sqldf"
     ]
    },
    "pythonIndentUnit": 4
   },
   "notebookName": "6_How to filter Array of Structs",
   "widgets": {}
  }
 },
 "nbformat": 4,
 "nbformat_minor": 0
}
