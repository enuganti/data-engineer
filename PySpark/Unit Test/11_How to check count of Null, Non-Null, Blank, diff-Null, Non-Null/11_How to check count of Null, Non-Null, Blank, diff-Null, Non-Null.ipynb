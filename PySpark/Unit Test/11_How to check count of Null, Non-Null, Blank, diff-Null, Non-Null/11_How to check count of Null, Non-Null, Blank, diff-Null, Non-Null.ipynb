{
 "cells": [
  {
   "cell_type": "markdown",
   "metadata": {
    "application/vnd.databricks.v1+cell": {
     "cellMetadata": {},
     "inputWidgets": {},
     "nuid": "677aa409-50cb-4838-95bd-711a31febf88",
     "showTitle": false,
     "tableResultSettingsMap": {},
     "title": ""
    }
   },
   "source": [
    "#### Unit Test\n",
    "\n",
    "**How to count Null's, Non-Null's, Blank, Non-Blank values**\n",
    "\n",
    "     a) Count of NULL values\n",
    "     b) Count of non-NULL values\n",
    "     c) Count of blank (empty string) values\n",
    "     d) Count of non-null and non-blank values\n",
    "     e) Check for any of the specified columns is null's\n",
    "     f) How to find the number of rows where all columns are NULL?\n",
    "     g) How to count the number of NULL values in a column?\n",
    "     h) All in one summary\n",
    "     i) All in one summary using SUM(CASE … END)\n",
    "     j) Grouping by status"
   ]
  },
  {
   "cell_type": "code",
   "execution_count": 0,
   "metadata": {
    "application/vnd.databricks.v1+cell": {
     "cellMetadata": {
      "byteLimit": 2048000,
      "rowLimit": 10000
     },
     "inputWidgets": {},
     "nuid": "88eff7af-4935-4156-b3e8-2f442c2ab552",
     "showTitle": false,
     "tableResultSettingsMap": {},
     "title": ""
    }
   },
   "outputs": [],
   "source": [
    "from pyspark.sql.types import StructType, StructField, IntegerType, StringType\n",
    "\n",
    "schema = StructType([\n",
    "    StructField(\"OBJECT_ID\", IntegerType(), True),\n",
    "    StructField(\"Name\", StringType(), True),\n",
    "    StructField(\"department\", StringType(), True),\n",
    "    StructField(\"Customer_ID\", IntegerType(), True),\n",
    "    StructField(\"Change_Date\", StringType(), True),\n",
    "    StructField(\"Load_Date\", StringType(), True),\n",
    "    StructField(\"Status\", StringType(), True),\n",
    "    StructField(\"description\", StringType(), True),\n",
    "    StructField(\"start_date_source\", StringType(), True),\n",
    "    StructField(\"start_date_bronze\", StringType(), True)\n",
    "])\n"
   ]
  },
  {
   "cell_type": "code",
   "execution_count": 0,
   "metadata": {
    "application/vnd.databricks.v1+cell": {
     "cellMetadata": {
      "byteLimit": 2048000,
      "rowLimit": 10000
     },
     "inputWidgets": {},
     "nuid": "57531361-d468-4e45-b310-7068774cce5d",
     "showTitle": true,
     "tableResultSettingsMap": {},
     "title": "1) sample dataframe"
    }
   },
   "outputs": [
    {
     "output_type": "display_data",
     "data": {
      "text/html": [
       "<style scoped>\n",
       "  .table-result-container {\n",
       "    max-height: 300px;\n",
       "    overflow: auto;\n",
       "  }\n",
       "  table, th, td {\n",
       "    border: 1px solid black;\n",
       "    border-collapse: collapse;\n",
       "  }\n",
       "  th, td {\n",
       "    padding: 5px;\n",
       "  }\n",
       "  th {\n",
       "    text-align: left;\n",
       "  }\n",
       "</style><div class='table-result-container'><table class='table-result'><thead style='background-color: white'><tr><th>OBJECT_ID</th><th>Name</th><th>department</th><th>Customer_ID</th><th>Change_Date</th><th>Load_Date</th><th>Status</th><th>description</th><th>start_date_source</th><th>start_date_bronze</th></tr></thead><tbody><tr><td>583069</td><td>Harish</td><td>null</td><td>13681832</td><td>null</td><td>2025-06-02</td><td>null</td><td>E-Mail</td><td>1724256609000</td><td>null</td></tr><tr><td>510102</td><td></td><td>HR</td><td>40685884</td><td>2025-04-02T04:15:05Z</td><td>2025-06-02</td><td>Finished</td><td>Internet</td><td>1724256609000</td><td>null</td></tr><tr><td>506654</td><td>Basha</td><td></td><td>null</td><td>2025-04-02T04:15:05Z</td><td>2025-06-02</td><td>Not Relevant</td><td>Social Media</td><td>1724256609000</td><td>null</td></tr><tr><td>583195</td><td>null</td><td>Finance</td><td>12619703</td><td>null</td><td>2025-06-02</td><td>Started</td><td>Messaging</td><td>1724256609000</td><td>null</td></tr><tr><td>470450</td><td>Venky</td><td>IT</td><td>8541938</td><td>2025-04-02T07:59:14Z</td><td>2025-06-02</td><td>Not Relevant</td><td>IoT</td><td>1724256609000</td><td>null</td></tr><tr><td>558253</td><td></td><td>null</td><td>2269299</td><td>null</td><td>2025-06-02</td><td>Open</td><td>null</td><td>1724256609000</td><td>null</td></tr><tr><td>null</td><td>Krishna</td><td>Sales</td><td>null</td><td>2025-04-02T06:12:18Z</td><td>2025-06-02</td><td>null</td><td>Manual data entry</td><td>1724256609000</td><td>null</td></tr><tr><td>583181</td><td>Kiran</td><td>Marketing</td><td>39714449</td><td>null</td><td>2025-06-02</td><td>Finished</td><td>Other</td><td>1724256609000</td><td>null</td></tr><tr><td>583119</td><td>Hitesh</td><td>null</td><td>10183510</td><td>2025-04-02T04:15:13Z</td><td>null</td><td>Open</td><td>Telephony</td><td>1724256609000</td><td>null</td></tr><tr><td>577519</td><td></td><td>Accounts</td><td>null</td><td>2025-04-02T08:27:50Z</td><td>2025-06-02</td><td>Not Relevant</td><td>null</td><td>1724256609000</td><td>null</td></tr><tr><td>583151</td><td>Sushma</td><td>Accounts</td><td>40442877</td><td>null</td><td>2025-06-02</td><td>Open</td><td>Fax</td><td>1724256609000</td><td>null</td></tr><tr><td>583167</td><td>null</td><td>Admin</td><td>16474490</td><td>2025-04-02T09:07:27Z</td><td>null</td><td>Not Relevant</td><td>Feedback</td><td>1724256609000</td><td>null</td></tr><tr><td>583162</td><td>Buvan</td><td>IT</td><td>7447339</td><td>2025-04-02T16:46:07Z</td><td>null</td><td>Finished</td><td>WorkZone</td><td>1724256609000</td><td>null</td></tr><tr><td>575216</td><td>Mohan</td><td>Admin</td><td>17258071</td><td>2025-04-02T01:51:03Z</td><td>2025-06-02</td><td>Open</td><td>IOT</td><td>1724256609000</td><td>null</td></tr><tr><td>null</td><td>null</td><td>null</td><td>null</td><td>null</td><td>null</td><td>null</td><td>null</td><td>null</td><td>null</td></tr><tr><td>583173</td><td>Lohith</td><td>Finance</td><td>15113750</td><td>null</td><td>2025-06-02</td><td>Finished</td><td>null</td><td>1724256609000</td><td>null</td></tr><tr><td>583099</td><td>Loba</td><td>Testing</td><td>40505376</td><td>2025-04-02T19:54:50Z</td><td>null</td><td>Started</td><td>null</td><td>1724256609000</td><td>null</td></tr></tbody></table></div>"
      ]
     },
     "metadata": {
      "application/vnd.databricks.v1+output": {
       "addedWidgets": {},
       "aggData": [],
       "aggError": "",
       "aggOverflow": false,
       "aggSchema": [],
       "aggSeriesLimitReached": false,
       "aggType": "",
       "arguments": {},
       "columnCustomDisplayInfos": {},
       "data": [
        [
         583069,
         "Harish",
         null,
         13681832,
         null,
         "2025-06-02",
         null,
         "E-Mail",
         "1724256609000",
         null
        ],
        [
         510102,
         "",
         "HR",
         40685884,
         "2025-04-02T04:15:05Z",
         "2025-06-02",
         "Finished",
         "Internet",
         "1724256609000",
         null
        ],
        [
         506654,
         "Basha",
         "",
         null,
         "2025-04-02T04:15:05Z",
         "2025-06-02",
         "Not Relevant",
         "Social Media",
         "1724256609000",
         null
        ],
        [
         583195,
         null,
         "Finance",
         12619703,
         null,
         "2025-06-02",
         "Started",
         "Messaging",
         "1724256609000",
         null
        ],
        [
         470450,
         "Venky",
         "IT",
         8541938,
         "2025-04-02T07:59:14Z",
         "2025-06-02",
         "Not Relevant",
         "IoT",
         "1724256609000",
         null
        ],
        [
         558253,
         "",
         null,
         2269299,
         null,
         "2025-06-02",
         "Open",
         null,
         "1724256609000",
         null
        ],
        [
         null,
         "Krishna",
         "Sales",
         null,
         "2025-04-02T06:12:18Z",
         "2025-06-02",
         null,
         "Manual data entry",
         "1724256609000",
         null
        ],
        [
         583181,
         "Kiran",
         "Marketing",
         39714449,
         null,
         "2025-06-02",
         "Finished",
         "Other",
         "1724256609000",
         null
        ],
        [
         583119,
         "Hitesh",
         null,
         10183510,
         "2025-04-02T04:15:13Z",
         null,
         "Open",
         "Telephony",
         "1724256609000",
         null
        ],
        [
         577519,
         "",
         "Accounts",
         null,
         "2025-04-02T08:27:50Z",
         "2025-06-02",
         "Not Relevant",
         null,
         "1724256609000",
         null
        ],
        [
         583151,
         "Sushma",
         "Accounts",
         40442877,
         null,
         "2025-06-02",
         "Open",
         "Fax",
         "1724256609000",
         null
        ],
        [
         583167,
         null,
         "Admin",
         16474490,
         "2025-04-02T09:07:27Z",
         null,
         "Not Relevant",
         "Feedback",
         "1724256609000",
         null
        ],
        [
         583162,
         "Buvan",
         "IT",
         7447339,
         "2025-04-02T16:46:07Z",
         null,
         "Finished",
         "WorkZone",
         "1724256609000",
         null
        ],
        [
         575216,
         "Mohan",
         "Admin",
         17258071,
         "2025-04-02T01:51:03Z",
         "2025-06-02",
         "Open",
         "IOT",
         "1724256609000",
         null
        ],
        [
         null,
         null,
         null,
         null,
         null,
         null,
         null,
         null,
         null,
         null
        ],
        [
         583173,
         "Lohith",
         "Finance",
         15113750,
         null,
         "2025-06-02",
         "Finished",
         null,
         "1724256609000",
         null
        ],
        [
         583099,
         "Loba",
         "Testing",
         40505376,
         "2025-04-02T19:54:50Z",
         null,
         "Started",
         null,
         "1724256609000",
         null
        ]
       ],
       "datasetInfos": [],
       "dbfsResultPath": null,
       "isJsonSchema": true,
       "metadata": {},
       "overflow": false,
       "plotOptions": {
        "customPlotOptions": {},
        "displayType": "table",
        "pivotAggregation": null,
        "pivotColumns": null,
        "xColumns": null,
        "yColumns": null
       },
       "removedWidgets": [],
       "schema": [
        {
         "metadata": "{}",
         "name": "OBJECT_ID",
         "type": "\"integer\""
        },
        {
         "metadata": "{}",
         "name": "Name",
         "type": "\"string\""
        },
        {
         "metadata": "{}",
         "name": "department",
         "type": "\"string\""
        },
        {
         "metadata": "{}",
         "name": "Customer_ID",
         "type": "\"integer\""
        },
        {
         "metadata": "{}",
         "name": "Change_Date",
         "type": "\"string\""
        },
        {
         "metadata": "{}",
         "name": "Load_Date",
         "type": "\"string\""
        },
        {
         "metadata": "{}",
         "name": "Status",
         "type": "\"string\""
        },
        {
         "metadata": "{}",
         "name": "description",
         "type": "\"string\""
        },
        {
         "metadata": "{}",
         "name": "start_date_source",
         "type": "\"string\""
        },
        {
         "metadata": "{}",
         "name": "start_date_bronze",
         "type": "\"string\""
        }
       ],
       "type": "table"
      }
     },
     "output_type": "display_data"
    }
   ],
   "source": [
    "data = [(583069, \"Harish\", None, 13681832, None, '2025-06-02', None, 'E-Mail', 1724256609000, None),\n",
    "        (510102, \"\", \"HR\", 40685884, '2025-04-02T04:15:05Z', '2025-06-02', 'Finished', 'Internet', 1724256609000, None),\n",
    "        (506654, \"Basha\", \"\", None, '2025-04-02T04:15:05Z', '2025-06-02', 'Not Relevant', 'Social Media', 1724256609000, None),\n",
    "        (583195, None, \"Finance\", 12619703, None, '2025-06-02', 'Started', 'Messaging', 1724256609000, None),\n",
    "        (470450, \"Venky\", \"IT\", 8541938, '2025-04-02T07:59:14Z', '2025-06-02', 'Not Relevant', 'IoT', 1724256609000, None),\n",
    "        (558253, \"\", None, 2269299, None, '2025-06-02', 'Open', None, 1724256609000, None),\n",
    "        (None, \"Krishna\", \"Sales\", None, '2025-04-02T06:12:18Z', '2025-06-02', None, 'Manual data entry', 1724256609000, None),\n",
    "        (583181, \"Kiran\", \"Marketing\", 39714449, None, '2025-06-02', 'Finished', 'Other', 1724256609000, None),\n",
    "        (583119, \"Hitesh\", None, 10183510, '2025-04-02T04:15:13Z', None, 'Open', 'Telephony', 1724256609000, None),\n",
    "        (577519, \"\", \"Accounts\", None, '2025-04-02T08:27:50Z', '2025-06-02', 'Not Relevant', None, 1724256609000, None),\n",
    "        (583151, \"Sushma\", \"Accounts\", 40442877, None, '2025-06-02', 'Open', 'Fax', 1724256609000, None),\n",
    "        (583167, None, \"Admin\", 16474490, '2025-04-02T09:07:27Z', None, 'Not Relevant', 'Feedback', 1724256609000, None),\n",
    "        (583162, \"Buvan\", \"IT\", 7447339, '2025-04-02T16:46:07Z', None, 'Finished', 'WorkZone', 1724256609000, None),\n",
    "        (575216, \"Mohan\", \"Admin\", 17258071, '2025-04-02T01:51:03Z', '2025-06-02', 'Open', 'IOT', 1724256609000, None),\n",
    "        (None, None, None, None, None, None, None, None, None, None),\n",
    "        (583173, \"Lohith\", \"Finance\", 15113750, None, '2025-06-02', 'Finished', None, 1724256609000, None),\n",
    "        (583099, \"Loba\", \"Testing\", 40505376, '2025-04-02T19:54:50Z', None, 'Started', None, 1724256609000, None)\n",
    "       ]\n",
    "\n",
    "df_dev = spark.createDataFrame(data, schema)\n",
    "display(df_dev)"
   ]
  },
  {
   "cell_type": "code",
   "execution_count": 0,
   "metadata": {
    "application/vnd.databricks.v1+cell": {
     "cellMetadata": {
      "byteLimit": 2048000,
      "rowLimit": 10000
     },
     "inputWidgets": {},
     "nuid": "d5aa50ae-42ad-45f4-9797-fe5430ed67e8",
     "showTitle": true,
     "tableResultSettingsMap": {},
     "title": "2) write to delta"
    }
   },
   "outputs": [],
   "source": [
    "df_dev.write \\\n",
    "      .format(\"delta\") \\\n",
    "      .mode(\"overwrite\") \\\n",
    "      .option(\"path\", \"/user/hive/warehouse/bronze_Nulls\") \\\n",
    "      .saveAsTable(\"tbl_NonNull_Nulls_Blank\")"
   ]
  },
  {
   "cell_type": "markdown",
   "metadata": {
    "application/vnd.databricks.v1+cell": {
     "cellMetadata": {},
     "inputWidgets": {},
     "nuid": "c5629b03-4e2b-4b6a-8833-41277bcbec12",
     "showTitle": false,
     "tableResultSettingsMap": {},
     "title": ""
    }
   },
   "source": [
    "#### a) PySpark"
   ]
  },
  {
   "cell_type": "markdown",
   "metadata": {
    "application/vnd.databricks.v1+cell": {
     "cellMetadata": {},
     "inputWidgets": {},
     "nuid": "e122b85c-b095-4f7c-b95c-69e0047da71e",
     "showTitle": false,
     "tableResultSettingsMap": {},
     "title": ""
    }
   },
   "source": [
    "**Null_Count:** Number of actual nulls\n",
    "\n",
    "**NotNull_Count:** includes both blanks and real values\n",
    "\n",
    "**Blank_Count:** number of empty strings (\"\")\n",
    "\n",
    "**NonNull_And_Not_Blank** = NotNull_Count - Blank_Count"
   ]
  },
  {
   "cell_type": "code",
   "execution_count": 0,
   "metadata": {
    "application/vnd.databricks.v1+cell": {
     "cellMetadata": {
      "byteLimit": 2048000,
      "rowLimit": 10000
     },
     "inputWidgets": {},
     "nuid": "beae0475-1c52-456e-8fd1-6f862843741c",
     "showTitle": true,
     "tableResultSettingsMap": {},
     "title": "1) Function: Non-Null, Null & Blank"
    }
   },
   "outputs": [],
   "source": [
    "from pyspark.sql.functions import lit, count, when, col\n",
    "\n",
    "def count_values(df, column):\n",
    "    return df_dev.select(\n",
    "        count(when(col(column).isNull(), column)).alias(\"Null_Count\"),\n",
    "        count(when(col(column).isNotNull(), column)).alias(\"NotNull_Count\"),\n",
    "        count(when(col(column) == \"\", column)).alias(\"Blank_Count\"),\n",
    "        count(lit(1)).alias(\"Total_Rows\")\n",
    "        )"
   ]
  },
  {
   "cell_type": "code",
   "execution_count": 0,
   "metadata": {
    "application/vnd.databricks.v1+cell": {
     "cellMetadata": {
      "byteLimit": 2048000,
      "rowLimit": 10000
     },
     "inputWidgets": {},
     "nuid": "f18539d1-42d2-4007-b36d-d7b8423e3bf8",
     "showTitle": true,
     "tableResultSettingsMap": {},
     "title": "2) Result: Non-Null, Null & Blank"
    }
   },
   "outputs": [
    {
     "output_type": "display_data",
     "data": {
      "text/html": [
       "<style scoped>\n",
       "  .table-result-container {\n",
       "    max-height: 300px;\n",
       "    overflow: auto;\n",
       "  }\n",
       "  table, th, td {\n",
       "    border: 1px solid black;\n",
       "    border-collapse: collapse;\n",
       "  }\n",
       "  th, td {\n",
       "    padding: 5px;\n",
       "  }\n",
       "  th {\n",
       "    text-align: left;\n",
       "  }\n",
       "</style><div class='table-result-container'><table class='table-result'><thead style='background-color: white'><tr><th>Null_Count</th><th>NotNull_Count</th><th>Blank_Count</th><th>Total_Rows</th></tr></thead><tbody><tr><td>3</td><td>14</td><td>3</td><td>17</td></tr></tbody></table></div>"
      ]
     },
     "metadata": {
      "application/vnd.databricks.v1+output": {
       "addedWidgets": {},
       "aggData": [],
       "aggError": "",
       "aggOverflow": false,
       "aggSchema": [],
       "aggSeriesLimitReached": false,
       "aggType": "",
       "arguments": {},
       "columnCustomDisplayInfos": {},
       "data": [
        [
         3,
         14,
         3,
         17
        ]
       ],
       "datasetInfos": [],
       "dbfsResultPath": null,
       "isJsonSchema": true,
       "metadata": {},
       "overflow": false,
       "plotOptions": {
        "customPlotOptions": {},
        "displayType": "table",
        "pivotAggregation": null,
        "pivotColumns": null,
        "xColumns": null,
        "yColumns": null
       },
       "removedWidgets": [],
       "schema": [
        {
         "metadata": "{}",
         "name": "Null_Count",
         "type": "\"long\""
        },
        {
         "metadata": "{}",
         "name": "NotNull_Count",
         "type": "\"long\""
        },
        {
         "metadata": "{}",
         "name": "Blank_Count",
         "type": "\"long\""
        },
        {
         "metadata": "{}",
         "name": "Total_Rows",
         "type": "\"long\""
        }
       ],
       "type": "table"
      }
     },
     "output_type": "display_data"
    },
    {
     "output_type": "display_data",
     "data": {
      "text/html": [
       "<style scoped>\n",
       "  .table-result-container {\n",
       "    max-height: 300px;\n",
       "    overflow: auto;\n",
       "  }\n",
       "  table, th, td {\n",
       "    border: 1px solid black;\n",
       "    border-collapse: collapse;\n",
       "  }\n",
       "  th, td {\n",
       "    padding: 5px;\n",
       "  }\n",
       "  th {\n",
       "    text-align: left;\n",
       "  }\n",
       "</style><div class='table-result-container'><table class='table-result'><thead style='background-color: white'><tr><th>Null_Count</th><th>NotNull_Count</th><th>Blank_Count</th><th>Total_Rows</th></tr></thead><tbody><tr><td>4</td><td>13</td><td>1</td><td>17</td></tr></tbody></table></div>"
      ]
     },
     "metadata": {
      "application/vnd.databricks.v1+output": {
       "addedWidgets": {},
       "aggData": [],
       "aggError": "",
       "aggOverflow": false,
       "aggSchema": [],
       "aggSeriesLimitReached": false,
       "aggType": "",
       "arguments": {},
       "columnCustomDisplayInfos": {},
       "data": [
        [
         4,
         13,
         1,
         17
        ]
       ],
       "datasetInfos": [],
       "dbfsResultPath": null,
       "isJsonSchema": true,
       "metadata": {},
       "overflow": false,
       "plotOptions": {
        "customPlotOptions": {},
        "displayType": "table",
        "pivotAggregation": null,
        "pivotColumns": null,
        "xColumns": null,
        "yColumns": null
       },
       "removedWidgets": [],
       "schema": [
        {
         "metadata": "{}",
         "name": "Null_Count",
         "type": "\"long\""
        },
        {
         "metadata": "{}",
         "name": "NotNull_Count",
         "type": "\"long\""
        },
        {
         "metadata": "{}",
         "name": "Blank_Count",
         "type": "\"long\""
        },
        {
         "metadata": "{}",
         "name": "Total_Rows",
         "type": "\"long\""
        }
       ],
       "type": "table"
      }
     },
     "output_type": "display_data"
    }
   ],
   "source": [
    "display(count_values(df_dev, \"Name\"))\n",
    "display(count_values(df_dev, \"department\"))"
   ]
  },
  {
   "cell_type": "markdown",
   "metadata": {
    "application/vnd.databricks.v1+cell": {
     "cellMetadata": {},
     "inputWidgets": {},
     "nuid": "c6875a7d-7e10-4656-97a4-25407a7c1807",
     "showTitle": false,
     "tableResultSettingsMap": {},
     "title": ""
    }
   },
   "source": [
    "#### b) SQL"
   ]
  },
  {
   "cell_type": "markdown",
   "metadata": {
    "application/vnd.databricks.v1+cell": {
     "cellMetadata": {},
     "inputWidgets": {},
     "nuid": "9feb23b0-2a0b-45ea-9263-1035ed98ca59",
     "showTitle": false,
     "tableResultSettingsMap": {},
     "title": ""
    }
   },
   "source": [
    "**a) How to check for NULL values in a column?**\n",
    "- Use the `IS NULL` or `IS NOT NULL` condition in the WHERE clause."
   ]
  },
  {
   "cell_type": "code",
   "execution_count": 0,
   "metadata": {
    "application/vnd.databricks.v1+cell": {
     "cellMetadata": {
      "byteLimit": 2048000,
      "implicitDf": true,
      "rowLimit": 10000
     },
     "inputWidgets": {},
     "nuid": "ea0e6466-c4ae-460d-b383-0dfe7242b752",
     "showTitle": true,
     "tableResultSettingsMap": {},
     "title": "1) Null's: Primary Key"
    }
   },
   "outputs": [
    {
     "output_type": "display_data",
     "data": {
      "text/html": [
       "<style scoped>\n",
       "  .table-result-container {\n",
       "    max-height: 300px;\n",
       "    overflow: auto;\n",
       "  }\n",
       "  table, th, td {\n",
       "    border: 1px solid black;\n",
       "    border-collapse: collapse;\n",
       "  }\n",
       "  th, td {\n",
       "    padding: 5px;\n",
       "  }\n",
       "  th {\n",
       "    text-align: left;\n",
       "  }\n",
       "</style><div class='table-result-container'><table class='table-result'><thead style='background-color: white'><tr><th>count(1)</th></tr></thead><tbody><tr><td>2</td></tr></tbody></table></div>"
      ]
     },
     "metadata": {
      "application/vnd.databricks.v1+output": {
       "addedWidgets": {},
       "aggData": [],
       "aggError": "",
       "aggOverflow": false,
       "aggSchema": [],
       "aggSeriesLimitReached": false,
       "aggType": "",
       "arguments": {},
       "columnCustomDisplayInfos": {},
       "data": [
        [
         2
        ]
       ],
       "datasetInfos": [],
       "dbfsResultPath": null,
       "isJsonSchema": true,
       "metadata": {
        "createTempViewForImplicitDf": true,
        "dataframeName": "_sqldf",
        "executionCount": 22
       },
       "overflow": false,
       "plotOptions": {
        "customPlotOptions": {},
        "displayType": "table",
        "pivotAggregation": null,
        "pivotColumns": null,
        "xColumns": null,
        "yColumns": null
       },
       "removedWidgets": [],
       "schema": [
        {
         "metadata": "{\"__autoGeneratedAlias\":\"true\"}",
         "name": "count(1)",
         "type": "\"long\""
        }
       ],
       "type": "table"
      }
     },
     "output_type": "display_data"
    }
   ],
   "source": [
    "%sql\n",
    "SELECT COUNT(*)\n",
    "FROM tbl_NonNull_Nulls_Blank\n",
    "WHERE OBJECT_ID IS NULL;"
   ]
  },
  {
   "cell_type": "code",
   "execution_count": 0,
   "metadata": {
    "application/vnd.databricks.v1+cell": {
     "cellMetadata": {
      "byteLimit": 2048000,
      "implicitDf": true,
      "rowLimit": 10000
     },
     "inputWidgets": {},
     "nuid": "3c892bc0-bc9f-4ba6-be00-f229b8174912",
     "showTitle": true,
     "tableResultSettingsMap": {},
     "title": "2) List all Null values of Primary Key"
    }
   },
   "outputs": [
    {
     "output_type": "display_data",
     "data": {
      "text/html": [
       "<style scoped>\n",
       "  .table-result-container {\n",
       "    max-height: 300px;\n",
       "    overflow: auto;\n",
       "  }\n",
       "  table, th, td {\n",
       "    border: 1px solid black;\n",
       "    border-collapse: collapse;\n",
       "  }\n",
       "  th, td {\n",
       "    padding: 5px;\n",
       "  }\n",
       "  th {\n",
       "    text-align: left;\n",
       "  }\n",
       "</style><div class='table-result-container'><table class='table-result'><thead style='background-color: white'><tr><th>OBJECT_ID</th><th>Name</th><th>department</th><th>Customer_ID</th><th>Change_Date</th><th>Load_Date</th><th>Status</th><th>description</th><th>start_date_source</th><th>start_date_bronze</th></tr></thead><tbody><tr><td>null</td><td>Krishna</td><td>Sales</td><td>null</td><td>2025-04-02T06:12:18Z</td><td>2025-06-02</td><td>null</td><td>Manual data entry</td><td>1724256609000</td><td>null</td></tr><tr><td>null</td><td>null</td><td>null</td><td>null</td><td>null</td><td>null</td><td>null</td><td>null</td><td>null</td><td>null</td></tr></tbody></table></div>"
      ]
     },
     "metadata": {
      "application/vnd.databricks.v1+output": {
       "addedWidgets": {},
       "aggData": [],
       "aggError": "",
       "aggOverflow": false,
       "aggSchema": [],
       "aggSeriesLimitReached": false,
       "aggType": "",
       "arguments": {},
       "columnCustomDisplayInfos": {},
       "data": [
        [
         null,
         "Krishna",
         "Sales",
         null,
         "2025-04-02T06:12:18Z",
         "2025-06-02",
         null,
         "Manual data entry",
         "1724256609000",
         null
        ],
        [
         null,
         null,
         null,
         null,
         null,
         null,
         null,
         null,
         null,
         null
        ]
       ],
       "datasetInfos": [],
       "dbfsResultPath": null,
       "isJsonSchema": true,
       "metadata": {
        "createTempViewForImplicitDf": true,
        "dataframeName": "_sqldf",
        "executionCount": 23
       },
       "overflow": false,
       "plotOptions": {
        "customPlotOptions": {},
        "displayType": "table",
        "pivotAggregation": null,
        "pivotColumns": null,
        "xColumns": null,
        "yColumns": null
       },
       "removedWidgets": [],
       "schema": [
        {
         "metadata": "{}",
         "name": "OBJECT_ID",
         "type": "\"integer\""
        },
        {
         "metadata": "{}",
         "name": "Name",
         "type": "\"string\""
        },
        {
         "metadata": "{}",
         "name": "department",
         "type": "\"string\""
        },
        {
         "metadata": "{}",
         "name": "Customer_ID",
         "type": "\"integer\""
        },
        {
         "metadata": "{}",
         "name": "Change_Date",
         "type": "\"string\""
        },
        {
         "metadata": "{}",
         "name": "Load_Date",
         "type": "\"string\""
        },
        {
         "metadata": "{}",
         "name": "Status",
         "type": "\"string\""
        },
        {
         "metadata": "{}",
         "name": "description",
         "type": "\"string\""
        },
        {
         "metadata": "{}",
         "name": "start_date_source",
         "type": "\"string\""
        },
        {
         "metadata": "{}",
         "name": "start_date_bronze",
         "type": "\"string\""
        }
       ],
       "type": "table"
      }
     },
     "output_type": "display_data"
    }
   ],
   "source": [
    "%sql\n",
    "SELECT * FROM tbl_NonNull_Nulls_Blank\n",
    "WHERE OBJECT_ID IS NULL;"
   ]
  },
  {
   "cell_type": "code",
   "execution_count": 0,
   "metadata": {
    "application/vnd.databricks.v1+cell": {
     "cellMetadata": {
      "byteLimit": 2048000,
      "implicitDf": true,
      "rowLimit": 10000
     },
     "inputWidgets": {},
     "nuid": "c56f41d1-13c5-4e3f-82be-8847936fc58f",
     "showTitle": true,
     "tableResultSettingsMap": {},
     "title": "3) Count NULLs"
    }
   },
   "outputs": [
    {
     "output_type": "display_data",
     "data": {
      "text/html": [
       "<style scoped>\n",
       "  .table-result-container {\n",
       "    max-height: 300px;\n",
       "    overflow: auto;\n",
       "  }\n",
       "  table, th, td {\n",
       "    border: 1px solid black;\n",
       "    border-collapse: collapse;\n",
       "  }\n",
       "  th, td {\n",
       "    padding: 5px;\n",
       "  }\n",
       "  th {\n",
       "    text-align: left;\n",
       "  }\n",
       "</style><div class='table-result-container'><table class='table-result'><thead style='background-color: white'><tr><th>null_count</th></tr></thead><tbody><tr><td>3</td></tr></tbody></table></div>"
      ]
     },
     "metadata": {
      "application/vnd.databricks.v1+output": {
       "addedWidgets": {},
       "aggData": [],
       "aggError": "",
       "aggOverflow": false,
       "aggSchema": [],
       "aggSeriesLimitReached": false,
       "aggType": "",
       "arguments": {},
       "columnCustomDisplayInfos": {},
       "data": [
        [
         3
        ]
       ],
       "datasetInfos": [],
       "dbfsResultPath": null,
       "isJsonSchema": true,
       "metadata": {
        "createTempViewForImplicitDf": true,
        "dataframeName": "_sqldf",
        "executionCount": 28
       },
       "overflow": false,
       "plotOptions": {
        "customPlotOptions": {},
        "displayType": "table",
        "pivotAggregation": null,
        "pivotColumns": null,
        "xColumns": null,
        "yColumns": null
       },
       "removedWidgets": [],
       "schema": [
        {
         "metadata": "{}",
         "name": "null_count",
         "type": "\"long\""
        }
       ],
       "type": "table"
      }
     },
     "output_type": "display_data"
    }
   ],
   "source": [
    "%sql\n",
    "SELECT COUNT(*) AS null_count\n",
    "FROM tbl_NonNull_Nulls_Blank\n",
    "WHERE Name IS NULL;"
   ]
  },
  {
   "cell_type": "markdown",
   "metadata": {
    "application/vnd.databricks.v1+cell": {
     "cellMetadata": {},
     "inputWidgets": {},
     "nuid": "8710b7ec-a8a9-4645-ac85-862df2f3e015",
     "showTitle": false,
     "tableResultSettingsMap": {},
     "title": ""
    }
   },
   "source": [
    "**b) How to check for Non-NULL values in a column?**"
   ]
  },
  {
   "cell_type": "code",
   "execution_count": 0,
   "metadata": {
    "application/vnd.databricks.v1+cell": {
     "cellMetadata": {
      "byteLimit": 2048000,
      "implicitDf": true,
      "rowLimit": 10000
     },
     "inputWidgets": {},
     "nuid": "bdd68061-a7b2-4c90-ad9b-e3fd0f424038",
     "showTitle": true,
     "tableResultSettingsMap": {},
     "title": "4) Count Non-NULL values"
    }
   },
   "outputs": [
    {
     "output_type": "display_data",
     "data": {
      "text/html": [
       "<style scoped>\n",
       "  .table-result-container {\n",
       "    max-height: 300px;\n",
       "    overflow: auto;\n",
       "  }\n",
       "  table, th, td {\n",
       "    border: 1px solid black;\n",
       "    border-collapse: collapse;\n",
       "  }\n",
       "  th, td {\n",
       "    padding: 5px;\n",
       "  }\n",
       "  th {\n",
       "    text-align: left;\n",
       "  }\n",
       "</style><div class='table-result-container'><table class='table-result'><thead style='background-color: white'><tr><th>non_null_count</th></tr></thead><tbody><tr><td>14</td></tr></tbody></table></div>"
      ]
     },
     "metadata": {
      "application/vnd.databricks.v1+output": {
       "addedWidgets": {},
       "aggData": [],
       "aggError": "",
       "aggOverflow": false,
       "aggSchema": [],
       "aggSeriesLimitReached": false,
       "aggType": "",
       "arguments": {},
       "columnCustomDisplayInfos": {},
       "data": [
        [
         14
        ]
       ],
       "datasetInfos": [],
       "dbfsResultPath": null,
       "isJsonSchema": true,
       "metadata": {
        "createTempViewForImplicitDf": true,
        "dataframeName": "_sqldf",
        "executionCount": 26
       },
       "overflow": false,
       "plotOptions": {
        "customPlotOptions": {},
        "displayType": "table",
        "pivotAggregation": null,
        "pivotColumns": null,
        "xColumns": null,
        "yColumns": null
       },
       "removedWidgets": [],
       "schema": [
        {
         "metadata": "{}",
         "name": "non_null_count",
         "type": "\"long\""
        }
       ],
       "type": "table"
      }
     },
     "output_type": "display_data"
    }
   ],
   "source": [
    "%sql\n",
    "SELECT COUNT(*) AS non_null_count\n",
    "FROM tbl_NonNull_Nulls_Blank\n",
    "WHERE Name IS NOT NULL;"
   ]
  },
  {
   "cell_type": "markdown",
   "metadata": {
    "application/vnd.databricks.v1+cell": {
     "cellMetadata": {},
     "inputWidgets": {},
     "nuid": "fc3d8d80-a305-4c2a-91f7-84584684714e",
     "showTitle": false,
     "tableResultSettingsMap": {},
     "title": ""
    }
   },
   "source": [
    "- COUNT(Name) **ignores NULLs**, so this gives count of **non-NULL** values."
   ]
  },
  {
   "cell_type": "code",
   "execution_count": 0,
   "metadata": {
    "application/vnd.databricks.v1+cell": {
     "cellMetadata": {
      "byteLimit": 2048000,
      "implicitDf": true,
      "rowLimit": 10000
     },
     "inputWidgets": {},
     "nuid": "24bf452b-c558-4fc8-bf1e-644293f26908",
     "showTitle": false,
     "tableResultSettingsMap": {},
     "title": ""
    }
   },
   "outputs": [
    {
     "output_type": "display_data",
     "data": {
      "text/html": [
       "<style scoped>\n",
       "  .table-result-container {\n",
       "    max-height: 300px;\n",
       "    overflow: auto;\n",
       "  }\n",
       "  table, th, td {\n",
       "    border: 1px solid black;\n",
       "    border-collapse: collapse;\n",
       "  }\n",
       "  th, td {\n",
       "    padding: 5px;\n",
       "  }\n",
       "  th {\n",
       "    text-align: left;\n",
       "  }\n",
       "</style><div class='table-result-container'><table class='table-result'><thead style='background-color: white'><tr><th>non_null_count</th></tr></thead><tbody><tr><td>14</td></tr></tbody></table></div>"
      ]
     },
     "metadata": {
      "application/vnd.databricks.v1+output": {
       "addedWidgets": {},
       "aggData": [],
       "aggError": "",
       "aggOverflow": false,
       "aggSchema": [],
       "aggSeriesLimitReached": false,
       "aggType": "",
       "arguments": {},
       "columnCustomDisplayInfos": {},
       "data": [
        [
         14
        ]
       ],
       "datasetInfos": [],
       "dbfsResultPath": null,
       "isJsonSchema": true,
       "metadata": {
        "createTempViewForImplicitDf": true,
        "dataframeName": "_sqldf",
        "executionCount": 27
       },
       "overflow": false,
       "plotOptions": {
        "customPlotOptions": {},
        "displayType": "table",
        "pivotAggregation": null,
        "pivotColumns": null,
        "xColumns": null,
        "yColumns": null
       },
       "removedWidgets": [],
       "schema": [
        {
         "metadata": "{}",
         "name": "non_null_count",
         "type": "\"long\""
        }
       ],
       "type": "table"
      }
     },
     "output_type": "display_data"
    }
   ],
   "source": [
    "%sql\n",
    "SELECT COUNT(Name) AS non_null_count\n",
    "FROM tbl_NonNull_Nulls_Blank;"
   ]
  },
  {
   "cell_type": "markdown",
   "metadata": {
    "application/vnd.databricks.v1+cell": {
     "cellMetadata": {},
     "inputWidgets": {},
     "nuid": "bf7d0afd-17da-4b85-ab5d-2c4558149818",
     "showTitle": false,
     "tableResultSettingsMap": {},
     "title": ""
    }
   },
   "source": [
    "**c) Count of blank (empty string) values**\n",
    "\n",
    "**Note:**\n",
    "- This applies to **string/text** columns.\n",
    "- Also, in some databases (like **Oracle**), **empty strings** are treated as **NULL**, so this may not apply the same way."
   ]
  },
  {
   "cell_type": "code",
   "execution_count": 0,
   "metadata": {
    "application/vnd.databricks.v1+cell": {
     "cellMetadata": {
      "byteLimit": 2048000,
      "implicitDf": true,
      "rowLimit": 10000
     },
     "inputWidgets": {},
     "nuid": "bcd709c5-77fa-41d0-afde-628a7ff7079d",
     "showTitle": true,
     "tableResultSettingsMap": {},
     "title": "5) Count Blank (empty string) values"
    }
   },
   "outputs": [
    {
     "output_type": "display_data",
     "data": {
      "text/html": [
       "<style scoped>\n",
       "  .table-result-container {\n",
       "    max-height: 300px;\n",
       "    overflow: auto;\n",
       "  }\n",
       "  table, th, td {\n",
       "    border: 1px solid black;\n",
       "    border-collapse: collapse;\n",
       "  }\n",
       "  th, td {\n",
       "    padding: 5px;\n",
       "  }\n",
       "  th {\n",
       "    text-align: left;\n",
       "  }\n",
       "</style><div class='table-result-container'><table class='table-result'><thead style='background-color: white'><tr><th>blank_count</th></tr></thead><tbody><tr><td>3</td></tr></tbody></table></div>"
      ]
     },
     "metadata": {
      "application/vnd.databricks.v1+output": {
       "addedWidgets": {},
       "aggData": [],
       "aggError": "",
       "aggOverflow": false,
       "aggSchema": [],
       "aggSeriesLimitReached": false,
       "aggType": "",
       "arguments": {},
       "columnCustomDisplayInfos": {},
       "data": [
        [
         3
        ]
       ],
       "datasetInfos": [],
       "dbfsResultPath": null,
       "isJsonSchema": true,
       "metadata": {
        "createTempViewForImplicitDf": true,
        "dataframeName": "_sqldf",
        "executionCount": 29
       },
       "overflow": false,
       "plotOptions": {
        "customPlotOptions": {},
        "displayType": "table",
        "pivotAggregation": null,
        "pivotColumns": null,
        "xColumns": null,
        "yColumns": null
       },
       "removedWidgets": [],
       "schema": [
        {
         "metadata": "{}",
         "name": "blank_count",
         "type": "\"long\""
        }
       ],
       "type": "table"
      }
     },
     "output_type": "display_data"
    }
   ],
   "source": [
    "%sql\n",
    "SELECT COUNT(*) AS blank_count\n",
    "FROM tbl_NonNull_Nulls_Blank\n",
    "WHERE Name = '';"
   ]
  },
  {
   "cell_type": "markdown",
   "metadata": {
    "application/vnd.databricks.v1+cell": {
     "cellMetadata": {},
     "inputWidgets": {},
     "nuid": "0e17ca07-356b-4ad7-a9b1-17bc3015c617",
     "showTitle": false,
     "tableResultSettingsMap": {},
     "title": ""
    }
   },
   "source": [
    "**d) Count of non-null and non-blank values**"
   ]
  },
  {
   "cell_type": "code",
   "execution_count": 0,
   "metadata": {
    "application/vnd.databricks.v1+cell": {
     "cellMetadata": {
      "byteLimit": 2048000,
      "implicitDf": true,
      "rowLimit": 10000
     },
     "inputWidgets": {},
     "nuid": "84e558f1-0ef6-4a5c-8bb9-2ae562934fde",
     "showTitle": true,
     "tableResultSettingsMap": {},
     "title": "6) Count of non-null and non-blank values"
    }
   },
   "outputs": [
    {
     "output_type": "display_data",
     "data": {
      "text/html": [
       "<style scoped>\n",
       "  .table-result-container {\n",
       "    max-height: 300px;\n",
       "    overflow: auto;\n",
       "  }\n",
       "  table, th, td {\n",
       "    border: 1px solid black;\n",
       "    border-collapse: collapse;\n",
       "  }\n",
       "  th, td {\n",
       "    padding: 5px;\n",
       "  }\n",
       "  th {\n",
       "    text-align: left;\n",
       "  }\n",
       "</style><div class='table-result-container'><table class='table-result'><thead style='background-color: white'><tr><th>non_null_non_blank_count</th></tr></thead><tbody><tr><td>11</td></tr></tbody></table></div>"
      ]
     },
     "metadata": {
      "application/vnd.databricks.v1+output": {
       "addedWidgets": {},
       "aggData": [],
       "aggError": "",
       "aggOverflow": false,
       "aggSchema": [],
       "aggSeriesLimitReached": false,
       "aggType": "",
       "arguments": {},
       "columnCustomDisplayInfos": {},
       "data": [
        [
         11
        ]
       ],
       "datasetInfos": [],
       "dbfsResultPath": null,
       "isJsonSchema": true,
       "metadata": {
        "createTempViewForImplicitDf": true,
        "dataframeName": "_sqldf",
        "executionCount": 30
       },
       "overflow": false,
       "plotOptions": {
        "customPlotOptions": {},
        "displayType": "table",
        "pivotAggregation": null,
        "pivotColumns": null,
        "xColumns": null,
        "yColumns": null
       },
       "removedWidgets": [],
       "schema": [
        {
         "metadata": "{}",
         "name": "non_null_non_blank_count",
         "type": "\"long\""
        }
       ],
       "type": "table"
      }
     },
     "output_type": "display_data"
    }
   ],
   "source": [
    "%sql\n",
    "SELECT COUNT(*) AS non_null_non_blank_count\n",
    "FROM tbl_NonNull_Nulls_Blank\n",
    "WHERE Name IS NOT NULL AND Name <> '';"
   ]
  },
  {
   "cell_type": "markdown",
   "metadata": {
    "application/vnd.databricks.v1+cell": {
     "cellMetadata": {},
     "inputWidgets": {},
     "nuid": "b77e24f6-51e4-4fc1-815e-d73f3435ab66",
     "showTitle": false,
     "tableResultSettingsMap": {},
     "title": ""
    }
   },
   "source": [
    "**e) Check for any of the specified columns is null's**\n",
    "- This query returns all rows from the table non_null_non_blank_count where **any of the specified columns** (id, name, department, or Age) have a **NULL** value.\n",
    "\n",
    "- The **OR** operators mean that if **even one of these columns** is **NULL** in a row, that row will be selected."
   ]
  },
  {
   "cell_type": "code",
   "execution_count": 0,
   "metadata": {
    "application/vnd.databricks.v1+cell": {
     "cellMetadata": {
      "byteLimit": 2048000,
      "implicitDf": true,
      "rowLimit": 10000
     },
     "inputWidgets": {},
     "nuid": "3bd17847-035e-4eff-bddd-05d18103b0df",
     "showTitle": true,
     "tableResultSettingsMap": {},
     "title": "7) Check for any of the specified columns is null's"
    }
   },
   "outputs": [
    {
     "output_type": "display_data",
     "data": {
      "text/html": [
       "<style scoped>\n",
       "  .table-result-container {\n",
       "    max-height: 300px;\n",
       "    overflow: auto;\n",
       "  }\n",
       "  table, th, td {\n",
       "    border: 1px solid black;\n",
       "    border-collapse: collapse;\n",
       "  }\n",
       "  th, td {\n",
       "    padding: 5px;\n",
       "  }\n",
       "  th {\n",
       "    text-align: left;\n",
       "  }\n",
       "</style><div class='table-result-container'><table class='table-result'><thead style='background-color: white'><tr><th>OBJECT_ID</th><th>Name</th><th>department</th><th>Customer_ID</th><th>Change_Date</th><th>Load_Date</th><th>Status</th><th>description</th><th>start_date_source</th><th>start_date_bronze</th></tr></thead><tbody><tr><td>null</td><td>Krishna</td><td>Sales</td><td>null</td><td>2025-04-02T06:12:18Z</td><td>2025-06-02</td><td>null</td><td>Manual data entry</td><td>1724256609000</td><td>null</td></tr><tr><td>583181</td><td>Kiran</td><td>Marketing</td><td>39714449</td><td>null</td><td>2025-06-02</td><td>Finished</td><td>Other</td><td>1724256609000</td><td>null</td></tr><tr><td>506654</td><td>Basha</td><td></td><td>null</td><td>2025-04-02T04:15:05Z</td><td>2025-06-02</td><td>Not Relevant</td><td>Social Media</td><td>1724256609000</td><td>null</td></tr><tr><td>583195</td><td>null</td><td>Finance</td><td>12619703</td><td>null</td><td>2025-06-02</td><td>Started</td><td>Messaging</td><td>1724256609000</td><td>null</td></tr><tr><td>583069</td><td>Harish</td><td>null</td><td>13681832</td><td>null</td><td>2025-06-02</td><td>null</td><td>E-Mail</td><td>1724256609000</td><td>null</td></tr><tr><td>583151</td><td>Sushma</td><td>Accounts</td><td>40442877</td><td>null</td><td>2025-06-02</td><td>Open</td><td>Fax</td><td>1724256609000</td><td>null</td></tr><tr><td>583167</td><td>null</td><td>Admin</td><td>16474490</td><td>2025-04-02T09:07:27Z</td><td>null</td><td>Not Relevant</td><td>Feedback</td><td>1724256609000</td><td>null</td></tr><tr><td>583119</td><td>Hitesh</td><td>null</td><td>10183510</td><td>2025-04-02T04:15:13Z</td><td>null</td><td>Open</td><td>Telephony</td><td>1724256609000</td><td>null</td></tr><tr><td>577519</td><td></td><td>Accounts</td><td>null</td><td>2025-04-02T08:27:50Z</td><td>2025-06-02</td><td>Not Relevant</td><td>null</td><td>1724256609000</td><td>null</td></tr><tr><td>558253</td><td></td><td>null</td><td>2269299</td><td>null</td><td>2025-06-02</td><td>Open</td><td>null</td><td>1724256609000</td><td>null</td></tr><tr><td>null</td><td>null</td><td>null</td><td>null</td><td>null</td><td>null</td><td>null</td><td>null</td><td>null</td><td>null</td></tr><tr><td>583173</td><td>Lohith</td><td>Finance</td><td>15113750</td><td>null</td><td>2025-06-02</td><td>Finished</td><td>null</td><td>1724256609000</td><td>null</td></tr><tr><td>583099</td><td>Loba</td><td>Testing</td><td>40505376</td><td>2025-04-02T19:54:50Z</td><td>null</td><td>Started</td><td>null</td><td>1724256609000</td><td>null</td></tr><tr><td>583162</td><td>Buvan</td><td>IT</td><td>7447339</td><td>2025-04-02T16:46:07Z</td><td>null</td><td>Finished</td><td>WorkZone</td><td>1724256609000</td><td>null</td></tr></tbody></table></div>"
      ]
     },
     "metadata": {
      "application/vnd.databricks.v1+output": {
       "addedWidgets": {},
       "aggData": [],
       "aggError": "",
       "aggOverflow": false,
       "aggSchema": [],
       "aggSeriesLimitReached": false,
       "aggType": "",
       "arguments": {},
       "columnCustomDisplayInfos": {},
       "data": [
        [
         null,
         "Krishna",
         "Sales",
         null,
         "2025-04-02T06:12:18Z",
         "2025-06-02",
         null,
         "Manual data entry",
         "1724256609000",
         null
        ],
        [
         583181,
         "Kiran",
         "Marketing",
         39714449,
         null,
         "2025-06-02",
         "Finished",
         "Other",
         "1724256609000",
         null
        ],
        [
         506654,
         "Basha",
         "",
         null,
         "2025-04-02T04:15:05Z",
         "2025-06-02",
         "Not Relevant",
         "Social Media",
         "1724256609000",
         null
        ],
        [
         583195,
         null,
         "Finance",
         12619703,
         null,
         "2025-06-02",
         "Started",
         "Messaging",
         "1724256609000",
         null
        ],
        [
         583069,
         "Harish",
         null,
         13681832,
         null,
         "2025-06-02",
         null,
         "E-Mail",
         "1724256609000",
         null
        ],
        [
         583151,
         "Sushma",
         "Accounts",
         40442877,
         null,
         "2025-06-02",
         "Open",
         "Fax",
         "1724256609000",
         null
        ],
        [
         583167,
         null,
         "Admin",
         16474490,
         "2025-04-02T09:07:27Z",
         null,
         "Not Relevant",
         "Feedback",
         "1724256609000",
         null
        ],
        [
         583119,
         "Hitesh",
         null,
         10183510,
         "2025-04-02T04:15:13Z",
         null,
         "Open",
         "Telephony",
         "1724256609000",
         null
        ],
        [
         577519,
         "",
         "Accounts",
         null,
         "2025-04-02T08:27:50Z",
         "2025-06-02",
         "Not Relevant",
         null,
         "1724256609000",
         null
        ],
        [
         558253,
         "",
         null,
         2269299,
         null,
         "2025-06-02",
         "Open",
         null,
         "1724256609000",
         null
        ],
        [
         null,
         null,
         null,
         null,
         null,
         null,
         null,
         null,
         null,
         null
        ],
        [
         583173,
         "Lohith",
         "Finance",
         15113750,
         null,
         "2025-06-02",
         "Finished",
         null,
         "1724256609000",
         null
        ],
        [
         583099,
         "Loba",
         "Testing",
         40505376,
         "2025-04-02T19:54:50Z",
         null,
         "Started",
         null,
         "1724256609000",
         null
        ],
        [
         583162,
         "Buvan",
         "IT",
         7447339,
         "2025-04-02T16:46:07Z",
         null,
         "Finished",
         "WorkZone",
         "1724256609000",
         null
        ]
       ],
       "datasetInfos": [],
       "dbfsResultPath": null,
       "isJsonSchema": true,
       "metadata": {
        "createTempViewForImplicitDf": true,
        "dataframeName": "_sqldf",
        "executionCount": 31
       },
       "overflow": false,
       "plotOptions": {
        "customPlotOptions": {},
        "displayType": "table",
        "pivotAggregation": null,
        "pivotColumns": null,
        "xColumns": null,
        "yColumns": null
       },
       "removedWidgets": [],
       "schema": [
        {
         "metadata": "{}",
         "name": "OBJECT_ID",
         "type": "\"integer\""
        },
        {
         "metadata": "{}",
         "name": "Name",
         "type": "\"string\""
        },
        {
         "metadata": "{}",
         "name": "department",
         "type": "\"string\""
        },
        {
         "metadata": "{}",
         "name": "Customer_ID",
         "type": "\"integer\""
        },
        {
         "metadata": "{}",
         "name": "Change_Date",
         "type": "\"string\""
        },
        {
         "metadata": "{}",
         "name": "Load_Date",
         "type": "\"string\""
        },
        {
         "metadata": "{}",
         "name": "Status",
         "type": "\"string\""
        },
        {
         "metadata": "{}",
         "name": "description",
         "type": "\"string\""
        },
        {
         "metadata": "{}",
         "name": "start_date_source",
         "type": "\"string\""
        },
        {
         "metadata": "{}",
         "name": "start_date_bronze",
         "type": "\"string\""
        }
       ],
       "type": "table"
      }
     },
     "output_type": "display_data"
    }
   ],
   "source": [
    "%sql\n",
    "SELECT * FROM tbl_NonNull_Nulls_Blank\n",
    "WHERE OBJECT_ID IS NULL OR\n",
    "      Name IS NULL OR\n",
    "      department IS NULL OR\n",
    "      Customer_ID IS NULL OR\n",
    "      Change_Date IS NULL OR\n",
    "      Load_Date IS NULL OR\n",
    "      Status IS NULL OR\n",
    "      description IS NULL;"
   ]
  },
  {
   "cell_type": "markdown",
   "metadata": {
    "application/vnd.databricks.v1+cell": {
     "cellMetadata": {},
     "inputWidgets": {},
     "nuid": "d915b080-3dd2-45a7-8c5a-3c013d8e64ad",
     "showTitle": false,
     "tableResultSettingsMap": {},
     "title": ""
    }
   },
   "source": [
    "**f) How to find the number of rows where all columns are NULL?**"
   ]
  },
  {
   "cell_type": "code",
   "execution_count": 0,
   "metadata": {
    "application/vnd.databricks.v1+cell": {
     "cellMetadata": {
      "byteLimit": 2048000,
      "implicitDf": true,
      "rowLimit": 10000
     },
     "inputWidgets": {},
     "nuid": "d005af00-4f44-4463-a8fb-d30c9b4dbcc0",
     "showTitle": true,
     "tableResultSettingsMap": {},
     "title": "8) Find the number of rows where all columns are NULL"
    }
   },
   "outputs": [
    {
     "output_type": "display_data",
     "data": {
      "text/html": [
       "<style scoped>\n",
       "  .table-result-container {\n",
       "    max-height: 300px;\n",
       "    overflow: auto;\n",
       "  }\n",
       "  table, th, td {\n",
       "    border: 1px solid black;\n",
       "    border-collapse: collapse;\n",
       "  }\n",
       "  th, td {\n",
       "    padding: 5px;\n",
       "  }\n",
       "  th {\n",
       "    text-align: left;\n",
       "  }\n",
       "</style><div class='table-result-container'><table class='table-result'><thead style='background-color: white'><tr><th>OBJECT_ID</th><th>Name</th><th>department</th><th>Customer_ID</th><th>Change_Date</th><th>Load_Date</th><th>Status</th><th>description</th><th>start_date_source</th><th>start_date_bronze</th></tr></thead><tbody><tr><td>null</td><td>null</td><td>null</td><td>null</td><td>null</td><td>null</td><td>null</td><td>null</td><td>null</td><td>null</td></tr></tbody></table></div>"
      ]
     },
     "metadata": {
      "application/vnd.databricks.v1+output": {
       "addedWidgets": {},
       "aggData": [],
       "aggError": "",
       "aggOverflow": false,
       "aggSchema": [],
       "aggSeriesLimitReached": false,
       "aggType": "",
       "arguments": {},
       "columnCustomDisplayInfos": {},
       "data": [
        [
         null,
         null,
         null,
         null,
         null,
         null,
         null,
         null,
         null,
         null
        ]
       ],
       "datasetInfos": [],
       "dbfsResultPath": null,
       "isJsonSchema": true,
       "metadata": {
        "createTempViewForImplicitDf": true,
        "dataframeName": "_sqldf",
        "executionCount": 33
       },
       "overflow": false,
       "plotOptions": {
        "customPlotOptions": {},
        "displayType": "table",
        "pivotAggregation": null,
        "pivotColumns": null,
        "xColumns": null,
        "yColumns": null
       },
       "removedWidgets": [],
       "schema": [
        {
         "metadata": "{}",
         "name": "OBJECT_ID",
         "type": "\"integer\""
        },
        {
         "metadata": "{}",
         "name": "Name",
         "type": "\"string\""
        },
        {
         "metadata": "{}",
         "name": "department",
         "type": "\"string\""
        },
        {
         "metadata": "{}",
         "name": "Customer_ID",
         "type": "\"integer\""
        },
        {
         "metadata": "{}",
         "name": "Change_Date",
         "type": "\"string\""
        },
        {
         "metadata": "{}",
         "name": "Load_Date",
         "type": "\"string\""
        },
        {
         "metadata": "{}",
         "name": "Status",
         "type": "\"string\""
        },
        {
         "metadata": "{}",
         "name": "description",
         "type": "\"string\""
        },
        {
         "metadata": "{}",
         "name": "start_date_source",
         "type": "\"string\""
        },
        {
         "metadata": "{}",
         "name": "start_date_bronze",
         "type": "\"string\""
        }
       ],
       "type": "table"
      }
     },
     "output_type": "display_data"
    }
   ],
   "source": [
    "%sql\n",
    "SELECT *\n",
    "-- SELECT COUNT(*) AS all_null_rows\n",
    "FROM tbl_NonNull_Nulls_Blank\n",
    "WHERE OBJECT_ID IS NULL AND\n",
    "      Name IS NULL AND\n",
    "      department IS NULL AND\n",
    "      Customer_ID IS NULL AND\n",
    "      Change_Date IS NULL AND\n",
    "      Load_Date IS NULL AND\n",
    "      Status IS NULL AND\n",
    "      description IS NULL;"
   ]
  },
  {
   "cell_type": "markdown",
   "metadata": {
    "application/vnd.databricks.v1+cell": {
     "cellMetadata": {},
     "inputWidgets": {},
     "nuid": "6ba77429-3d1d-47c6-9113-9c99ea10b84c",
     "showTitle": false,
     "tableResultSettingsMap": {},
     "title": ""
    }
   },
   "source": [
    "**g) How to count the number of NULL values in a column?**"
   ]
  },
  {
   "cell_type": "code",
   "execution_count": 0,
   "metadata": {
    "application/vnd.databricks.v1+cell": {
     "cellMetadata": {
      "byteLimit": 2048000,
      "implicitDf": true,
      "rowLimit": 10000
     },
     "inputWidgets": {},
     "nuid": "a6f61022-d7f2-4c41-a838-49b9644514dd",
     "showTitle": true,
     "tableResultSettingsMap": {},
     "title": "9) How to count the number of NULL values in a column?"
    }
   },
   "outputs": [
    {
     "output_type": "display_data",
     "data": {
      "text/html": [
       "<style scoped>\n",
       "  .table-result-container {\n",
       "    max-height: 300px;\n",
       "    overflow: auto;\n",
       "  }\n",
       "  table, th, td {\n",
       "    border: 1px solid black;\n",
       "    border-collapse: collapse;\n",
       "  }\n",
       "  th, td {\n",
       "    padding: 5px;\n",
       "  }\n",
       "  th {\n",
       "    text-align: left;\n",
       "  }\n",
       "</style><div class='table-result-container'><table class='table-result'><thead style='background-color: white'><tr><th>NullCount_description</th></tr></thead><tbody><tr><td>5</td></tr></tbody></table></div>"
      ]
     },
     "metadata": {
      "application/vnd.databricks.v1+output": {
       "addedWidgets": {},
       "aggData": [],
       "aggError": "",
       "aggOverflow": false,
       "aggSchema": [],
       "aggSeriesLimitReached": false,
       "aggType": "",
       "arguments": {},
       "columnCustomDisplayInfos": {},
       "data": [
        [
         5
        ]
       ],
       "datasetInfos": [],
       "dbfsResultPath": null,
       "isJsonSchema": true,
       "metadata": {
        "createTempViewForImplicitDf": true,
        "dataframeName": "_sqldf",
        "executionCount": 35
       },
       "overflow": false,
       "plotOptions": {
        "customPlotOptions": {},
        "displayType": "table",
        "pivotAggregation": null,
        "pivotColumns": null,
        "xColumns": null,
        "yColumns": null
       },
       "removedWidgets": [],
       "schema": [
        {
         "metadata": "{}",
         "name": "NullCount_description",
         "type": "\"long\""
        }
       ],
       "type": "table"
      }
     },
     "output_type": "display_data"
    }
   ],
   "source": [
    "%sql\n",
    "SELECT COUNT(CASE WHEN description IS NULL THEN 1 END) AS NullCount_description\n",
    "FROM tbl_NonNull_Nulls_Blank;"
   ]
  },
  {
   "cell_type": "markdown",
   "metadata": {
    "application/vnd.databricks.v1+cell": {
     "cellMetadata": {},
     "inputWidgets": {},
     "nuid": "c8e03dc8-9cf4-490e-99e7-90ecddebfe34",
     "showTitle": false,
     "tableResultSettingsMap": {},
     "title": ""
    }
   },
   "source": [
    "**h) All in one summary**"
   ]
  },
  {
   "cell_type": "markdown",
   "metadata": {
    "application/vnd.databricks.v1+cell": {
     "cellMetadata": {},
     "inputWidgets": {},
     "nuid": "f2cbf094-d5b0-400c-be3a-6a13496c8c89",
     "showTitle": false,
     "tableResultSettingsMap": {},
     "title": ""
    }
   },
   "source": [
    "**COUNT(*):**\n",
    "- Counts all rows.\n",
    "\n",
    "**your_column IS NULL:**\n",
    "- Checks for NULL values.\n",
    "\n",
    "**your_column = '':**\n",
    "- Checks for **blank/empty strings** (only relevant for text/varchar fields).\n",
    "\n",
    "**your_column IS NOT NULL AND your_column <> '':**\n",
    "- Counts values that are **not NULL and not blank**."
   ]
  },
  {
   "cell_type": "code",
   "execution_count": 0,
   "metadata": {
    "application/vnd.databricks.v1+cell": {
     "cellMetadata": {
      "byteLimit": 2048000,
      "implicitDf": true,
      "rowLimit": 10000
     },
     "inputWidgets": {},
     "nuid": "dd1c608b-3a6d-424f-a161-02d0c4b2ee60",
     "showTitle": true,
     "tableResultSettingsMap": {},
     "title": "10) name: Non-Null, Null & Blank"
    }
   },
   "outputs": [
    {
     "output_type": "display_data",
     "data": {
      "text/html": [
       "<style scoped>\n",
       "  .table-result-container {\n",
       "    max-height: 300px;\n",
       "    overflow: auto;\n",
       "  }\n",
       "  table, th, td {\n",
       "    border: 1px solid black;\n",
       "    border-collapse: collapse;\n",
       "  }\n",
       "  th, td {\n",
       "    padding: 5px;\n",
       "  }\n",
       "  th {\n",
       "    text-align: left;\n",
       "  }\n",
       "</style><div class='table-result-container'><table class='table-result'><thead style='background-color: white'><tr><th>Total_Count</th><th>Null_Count</th><th>Non_Null_Count</th><th>Blank_Count</th><th>valid_non_blank_count</th><th>Blank_Count_Difference</th><th>Null_Count_Difference</th></tr></thead><tbody><tr><td>17</td><td>3</td><td>14</td><td>3</td><td>11</td><td>11</td><td>11</td></tr></tbody></table></div>"
      ]
     },
     "metadata": {
      "application/vnd.databricks.v1+output": {
       "addedWidgets": {},
       "aggData": [],
       "aggError": "",
       "aggOverflow": false,
       "aggSchema": [],
       "aggSeriesLimitReached": false,
       "aggType": "",
       "arguments": {},
       "columnCustomDisplayInfos": {},
       "data": [
        [
         17,
         3,
         14,
         3,
         11,
         11,
         11
        ]
       ],
       "datasetInfos": [],
       "dbfsResultPath": null,
       "isJsonSchema": true,
       "metadata": {
        "createTempViewForImplicitDf": true,
        "dataframeName": "_sqldf",
        "executionCount": 36
       },
       "overflow": false,
       "plotOptions": {
        "customPlotOptions": {},
        "displayType": "table",
        "pivotAggregation": null,
        "pivotColumns": null,
        "xColumns": null,
        "yColumns": null
       },
       "removedWidgets": [],
       "schema": [
        {
         "metadata": "{}",
         "name": "Total_Count",
         "type": "\"long\""
        },
        {
         "metadata": "{}",
         "name": "Null_Count",
         "type": "\"long\""
        },
        {
         "metadata": "{}",
         "name": "Non_Null_Count",
         "type": "\"long\""
        },
        {
         "metadata": "{}",
         "name": "Blank_Count",
         "type": "\"long\""
        },
        {
         "metadata": "{}",
         "name": "valid_non_blank_count",
         "type": "\"long\""
        },
        {
         "metadata": "{}",
         "name": "Blank_Count_Difference",
         "type": "\"long\""
        },
        {
         "metadata": "{}",
         "name": "Null_Count_Difference",
         "type": "\"long\""
        }
       ],
       "type": "table"
      }
     },
     "output_type": "display_data"
    }
   ],
   "source": [
    "%sql\n",
    "SELECT \n",
    "    COUNT(*) AS Total_Count,\n",
    "    COUNT(CASE WHEN Name IS NULL THEN 1 END) AS Null_Count,\n",
    "    COUNT(CASE WHEN Name IS NOT NULL THEN 1 END) AS Non_Null_Count,\n",
    "    COUNT(CASE WHEN Name = '' THEN 1 END) AS Blank_Count,\n",
    "    COUNT(CASE WHEN Name IS NOT NULL AND Name <> '' THEN 1 END) AS valid_non_blank_count,\n",
    "    (COUNT(CASE WHEN Name IS NOT NULL THEN 1 END) - \n",
    "     COUNT(CASE WHEN Name = '' THEN 1 END)) AS Blank_Count_Difference,\n",
    "    (COUNT(CASE WHEN Name IS NOT NULL THEN 1 END) - \n",
    "     COUNT(CASE WHEN Name IS NULL THEN 1 END)) AS Null_Count_Difference\n",
    "FROM tbl_NonNull_Nulls_Blank;"
   ]
  },
  {
   "cell_type": "markdown",
   "metadata": {
    "application/vnd.databricks.v1+cell": {
     "cellMetadata": {},
     "inputWidgets": {},
     "nuid": "2cb94861-3f29-4957-aad1-3404c56dda39",
     "showTitle": false,
     "tableResultSettingsMap": {},
     "title": ""
    }
   },
   "source": [
    "**Expression A:**\n",
    "\n",
    "     COUNT(CASE WHEN name IS NOT NULL AND name <> '' THEN 1 END) AS valid_non_blank_count\n",
    "\n",
    "This counts all rows where:\n",
    "- **name** is **not NULL**, and\n",
    "- **name** is **not a blank string ('')**.\n",
    "\n",
    "✅ Not NULL and Not blank → **\"valid non-blank values\"**\n",
    "\n"
   ]
  },
  {
   "cell_type": "markdown",
   "metadata": {
    "application/vnd.databricks.v1+cell": {
     "cellMetadata": {},
     "inputWidgets": {},
     "nuid": "70b6abac-be06-4602-bfec-cdcd81a5cce4",
     "showTitle": false,
     "tableResultSettingsMap": {},
     "title": ""
    }
   },
   "source": [
    "**Expression B:**\n",
    "\n",
    "     (COUNT(CASE WHEN name IS NOT NULL THEN 1 END) - COUNT(CASE WHEN name = '' THEN 1 END)) AS Blank_Count_Difference\n",
    "\n",
    "- Counts all **non-NULL** values: **COUNT(CASE WHEN name IS NOT NULL THEN 1 END)**\n",
    "- Then subtracts the **number of blank strings** (regardless of NULL status): **COUNT(CASE WHEN name = '' THEN 1 END)**\n"
   ]
  },
  {
   "cell_type": "code",
   "execution_count": 0,
   "metadata": {
    "application/vnd.databricks.v1+cell": {
     "cellMetadata": {
      "byteLimit": 2048000,
      "implicitDf": true,
      "rowLimit": 10000
     },
     "inputWidgets": {},
     "nuid": "c4654081-f083-4d3e-9cfa-889cb5b49c80",
     "showTitle": true,
     "tableResultSettingsMap": {},
     "title": "11) department: Non-Null, Null & Blank"
    }
   },
   "outputs": [
    {
     "output_type": "display_data",
     "data": {
      "text/html": [
       "<style scoped>\n",
       "  .table-result-container {\n",
       "    max-height: 300px;\n",
       "    overflow: auto;\n",
       "  }\n",
       "  table, th, td {\n",
       "    border: 1px solid black;\n",
       "    border-collapse: collapse;\n",
       "  }\n",
       "  th, td {\n",
       "    padding: 5px;\n",
       "  }\n",
       "  th {\n",
       "    text-align: left;\n",
       "  }\n",
       "</style><div class='table-result-container'><table class='table-result'><thead style='background-color: white'><tr><th>Total_Count</th><th>Null_Count</th><th>Non_Null_Count</th><th>Blank_Count</th><th>valid_non_blank_count</th><th>Blank_Count_Difference</th><th>Null_Count_Difference</th></tr></thead><tbody><tr><td>17</td><td>4</td><td>13</td><td>1</td><td>12</td><td>12</td><td>9</td></tr></tbody></table></div>"
      ]
     },
     "metadata": {
      "application/vnd.databricks.v1+output": {
       "addedWidgets": {},
       "aggData": [],
       "aggError": "",
       "aggOverflow": false,
       "aggSchema": [],
       "aggSeriesLimitReached": false,
       "aggType": "",
       "arguments": {},
       "columnCustomDisplayInfos": {},
       "data": [
        [
         17,
         4,
         13,
         1,
         12,
         12,
         9
        ]
       ],
       "datasetInfos": [],
       "dbfsResultPath": null,
       "isJsonSchema": true,
       "metadata": {
        "createTempViewForImplicitDf": true,
        "dataframeName": "_sqldf",
        "executionCount": 37
       },
       "overflow": false,
       "plotOptions": {
        "customPlotOptions": {},
        "displayType": "table",
        "pivotAggregation": null,
        "pivotColumns": null,
        "xColumns": null,
        "yColumns": null
       },
       "removedWidgets": [],
       "schema": [
        {
         "metadata": "{}",
         "name": "Total_Count",
         "type": "\"long\""
        },
        {
         "metadata": "{}",
         "name": "Null_Count",
         "type": "\"long\""
        },
        {
         "metadata": "{}",
         "name": "Non_Null_Count",
         "type": "\"long\""
        },
        {
         "metadata": "{}",
         "name": "Blank_Count",
         "type": "\"long\""
        },
        {
         "metadata": "{}",
         "name": "valid_non_blank_count",
         "type": "\"long\""
        },
        {
         "metadata": "{}",
         "name": "Blank_Count_Difference",
         "type": "\"long\""
        },
        {
         "metadata": "{}",
         "name": "Null_Count_Difference",
         "type": "\"long\""
        }
       ],
       "type": "table"
      }
     },
     "output_type": "display_data"
    }
   ],
   "source": [
    "%sql\n",
    "SELECT \n",
    "    COUNT(*) AS Total_Count,\n",
    "    COUNT(CASE WHEN department IS NULL THEN 1 END) AS Null_Count,\n",
    "    COUNT(CASE WHEN department IS NOT NULL THEN 1 END) AS Non_Null_Count,\n",
    "    COUNT(CASE WHEN department = '' THEN 1 END) AS Blank_Count,\n",
    "    COUNT(CASE WHEN department IS NOT NULL AND department <> '' THEN 1 END) AS valid_non_blank_count,\n",
    "    (COUNT(CASE WHEN department IS NOT NULL THEN 1 END) - \n",
    "     COUNT(CASE WHEN department = '' THEN 1 END)) AS Blank_Count_Difference,\n",
    "    (COUNT(CASE WHEN department IS NOT NULL THEN 1 END) - \n",
    "     COUNT(CASE WHEN department IS NULL THEN 1 END)) AS Null_Count_Difference\n",
    "FROM tbl_NonNull_Nulls_Blank;"
   ]
  },
  {
   "cell_type": "code",
   "execution_count": 0,
   "metadata": {
    "application/vnd.databricks.v1+cell": {
     "cellMetadata": {
      "byteLimit": 2048000,
      "implicitDf": true,
      "rowLimit": 10000
     },
     "inputWidgets": {},
     "nuid": "29c7e10f-7af5-4153-956e-255e6b4c2f7d",
     "showTitle": true,
     "tableResultSettingsMap": {},
     "title": "12) All Columns in Tabular Format"
    }
   },
   "outputs": [
    {
     "output_type": "display_data",
     "data": {
      "text/html": [
       "<style scoped>\n",
       "  .table-result-container {\n",
       "    max-height: 300px;\n",
       "    overflow: auto;\n",
       "  }\n",
       "  table, th, td {\n",
       "    border: 1px solid black;\n",
       "    border-collapse: collapse;\n",
       "  }\n",
       "  th, td {\n",
       "    padding: 5px;\n",
       "  }\n",
       "  th {\n",
       "    text-align: left;\n",
       "  }\n",
       "</style><div class='table-result-container'><table class='table-result'><thead style='background-color: white'><tr><th>Column_Name</th><th>Total_Count</th><th>Null_Count</th><th>Non_Null_Count</th><th>Blank_Count</th><th>Valid_Non_Blank_Count</th><th>Blank_Count_Difference</th><th>Null_Count_Difference</th></tr></thead><tbody><tr><td>OBJECT_ID</td><td>17</td><td>2</td><td>15</td><td>0</td><td>0</td><td>15</td><td>13</td></tr><tr><td>Name</td><td>17</td><td>3</td><td>14</td><td>3</td><td>11</td><td>11</td><td>11</td></tr><tr><td>department</td><td>17</td><td>4</td><td>13</td><td>1</td><td>12</td><td>12</td><td>9</td></tr><tr><td>Customer_ID</td><td>17</td><td>4</td><td>13</td><td>0</td><td>0</td><td>13</td><td>9</td></tr><tr><td>Change_Date</td><td>17</td><td>7</td><td>10</td><td>0</td><td>10</td><td>10</td><td>3</td></tr><tr><td>Load_Date</td><td>17</td><td>5</td><td>12</td><td>0</td><td>12</td><td>12</td><td>7</td></tr><tr><td>Status</td><td>17</td><td>3</td><td>14</td><td>0</td><td>14</td><td>14</td><td>11</td></tr><tr><td>description</td><td>17</td><td>5</td><td>12</td><td>0</td><td>12</td><td>12</td><td>7</td></tr></tbody></table></div>"
      ]
     },
     "metadata": {
      "application/vnd.databricks.v1+output": {
       "addedWidgets": {},
       "aggData": [],
       "aggError": "",
       "aggOverflow": false,
       "aggSchema": [],
       "aggSeriesLimitReached": false,
       "aggType": "",
       "arguments": {},
       "columnCustomDisplayInfos": {},
       "data": [
        [
         "OBJECT_ID",
         17,
         2,
         15,
         0,
         0,
         15,
         13
        ],
        [
         "Name",
         17,
         3,
         14,
         3,
         11,
         11,
         11
        ],
        [
         "department",
         17,
         4,
         13,
         1,
         12,
         12,
         9
        ],
        [
         "Customer_ID",
         17,
         4,
         13,
         0,
         0,
         13,
         9
        ],
        [
         "Change_Date",
         17,
         7,
         10,
         0,
         10,
         10,
         3
        ],
        [
         "Load_Date",
         17,
         5,
         12,
         0,
         12,
         12,
         7
        ],
        [
         "Status",
         17,
         3,
         14,
         0,
         14,
         14,
         11
        ],
        [
         "description",
         17,
         5,
         12,
         0,
         12,
         12,
         7
        ]
       ],
       "datasetInfos": [],
       "dbfsResultPath": null,
       "isJsonSchema": true,
       "metadata": {
        "createTempViewForImplicitDf": true,
        "dataframeName": "_sqldf",
        "executionCount": 38
       },
       "overflow": false,
       "plotOptions": {
        "customPlotOptions": {},
        "displayType": "table",
        "pivotAggregation": null,
        "pivotColumns": null,
        "xColumns": null,
        "yColumns": null
       },
       "removedWidgets": [],
       "schema": [
        {
         "metadata": "{}",
         "name": "Column_Name",
         "type": "\"string\""
        },
        {
         "metadata": "{}",
         "name": "Total_Count",
         "type": "\"long\""
        },
        {
         "metadata": "{}",
         "name": "Null_Count",
         "type": "\"long\""
        },
        {
         "metadata": "{}",
         "name": "Non_Null_Count",
         "type": "\"long\""
        },
        {
         "metadata": "{}",
         "name": "Blank_Count",
         "type": "\"long\""
        },
        {
         "metadata": "{}",
         "name": "Valid_Non_Blank_Count",
         "type": "\"long\""
        },
        {
         "metadata": "{}",
         "name": "Blank_Count_Difference",
         "type": "\"long\""
        },
        {
         "metadata": "{}",
         "name": "Null_Count_Difference",
         "type": "\"long\""
        }
       ],
       "type": "table"
      }
     },
     "output_type": "display_data"
    }
   ],
   "source": [
    "%sql\n",
    "SELECT 'OBJECT_ID' AS Column_Name,\n",
    "    COUNT(*) AS Total_Count,\n",
    "    COUNT(CASE WHEN OBJECT_ID IS NULL THEN 1 END) AS Null_Count,\n",
    "    COUNT(CASE WHEN OBJECT_ID IS NOT NULL THEN 1 END) AS Non_Null_Count,\n",
    "    COUNT(CASE WHEN OBJECT_ID = '' THEN 1 END) AS Blank_Count,\n",
    "    COUNT(CASE WHEN OBJECT_ID IS NOT NULL AND OBJECT_ID <> '' THEN 1 END) AS Valid_Non_Blank_Count,\n",
    "    (COUNT(CASE WHEN OBJECT_ID IS NOT NULL THEN 1 END) - COUNT(CASE WHEN OBJECT_ID = '' THEN 1 END)) AS Blank_Count_Difference,\n",
    "    (COUNT(CASE WHEN OBJECT_ID IS NOT NULL THEN 1 END) - COUNT(CASE WHEN OBJECT_ID IS NULL THEN 1 END)) AS Null_Count_Difference\n",
    "FROM tbl_NonNull_Nulls_Blank\n",
    "\n",
    "UNION ALL\n",
    "\n",
    "SELECT 'Name',\n",
    "    COUNT(*),\n",
    "    COUNT(CASE WHEN Name IS NULL THEN 1 END),\n",
    "    COUNT(CASE WHEN Name IS NOT NULL THEN 1 END),\n",
    "    COUNT(CASE WHEN Name = '' THEN 1 END),\n",
    "    COUNT(CASE WHEN Name IS NOT NULL AND Name <> '' THEN 1 END),\n",
    "    (COUNT(CASE WHEN Name IS NOT NULL THEN 1 END) - COUNT(CASE WHEN Name = '' THEN 1 END)),\n",
    "    (COUNT(CASE WHEN Name IS NOT NULL THEN 1 END) - COUNT(CASE WHEN Name IS NULL THEN 1 END))\n",
    "FROM tbl_NonNull_Nulls_Blank\n",
    "\n",
    "UNION ALL\n",
    "\n",
    "SELECT 'department',\n",
    "    COUNT(*),\n",
    "    COUNT(CASE WHEN department IS NULL THEN 1 END),\n",
    "    COUNT(CASE WHEN department IS NOT NULL THEN 1 END),\n",
    "    COUNT(CASE WHEN department = '' THEN 1 END),\n",
    "    COUNT(CASE WHEN department IS NOT NULL AND department <> '' THEN 1 END),\n",
    "    (COUNT(CASE WHEN department IS NOT NULL THEN 1 END) - COUNT(CASE WHEN department = '' THEN 1 END)),\n",
    "    (COUNT(CASE WHEN department IS NOT NULL THEN 1 END) - COUNT(CASE WHEN department IS NULL THEN 1 END))\n",
    "FROM tbl_NonNull_Nulls_Blank\n",
    "\n",
    "UNION ALL\n",
    "\n",
    "SELECT 'Customer_ID',\n",
    "    COUNT(*),\n",
    "    COUNT(CASE WHEN Customer_ID IS NULL THEN 1 END),\n",
    "    COUNT(CASE WHEN Customer_ID IS NOT NULL THEN 1 END),\n",
    "    COUNT(CASE WHEN Customer_ID = '' THEN 1 END),\n",
    "    COUNT(CASE WHEN Customer_ID IS NOT NULL AND Customer_ID <> '' THEN 1 END),\n",
    "    (COUNT(CASE WHEN Customer_ID IS NOT NULL THEN 1 END) - COUNT(CASE WHEN Customer_ID = '' THEN 1 END)),\n",
    "    (COUNT(CASE WHEN Customer_ID IS NOT NULL THEN 1 END) - COUNT(CASE WHEN Customer_ID IS NULL THEN 1 END))\n",
    "FROM tbl_NonNull_Nulls_Blank\n",
    "\n",
    "UNION ALL\n",
    "\n",
    "SELECT 'Change_Date',\n",
    "    COUNT(*),\n",
    "    COUNT(CASE WHEN Change_Date IS NULL THEN 1 END),\n",
    "    COUNT(CASE WHEN Change_Date IS NOT NULL THEN 1 END),\n",
    "    COUNT(CASE WHEN Change_Date = '' THEN 1 END),\n",
    "    COUNT(CASE WHEN Change_Date IS NOT NULL AND Change_Date <> '' THEN 1 END),\n",
    "    (COUNT(CASE WHEN Change_Date IS NOT NULL THEN 1 END) - COUNT(CASE WHEN Change_Date = '' THEN 1 END)),\n",
    "    (COUNT(CASE WHEN Change_Date IS NOT NULL THEN 1 END) - COUNT(CASE WHEN Change_Date IS NULL THEN 1 END))\n",
    "FROM tbl_NonNull_Nulls_Blank\n",
    "\n",
    "UNION ALL\n",
    "\n",
    "SELECT 'Load_Date',\n",
    "    COUNT(*),\n",
    "    COUNT(CASE WHEN Load_Date IS NULL THEN 1 END),\n",
    "    COUNT(CASE WHEN Load_Date IS NOT NULL THEN 1 END),\n",
    "    COUNT(CASE WHEN Load_Date = '' THEN 1 END),\n",
    "    COUNT(CASE WHEN Load_Date IS NOT NULL AND Load_Date <> '' THEN 1 END),\n",
    "    (COUNT(CASE WHEN Load_Date IS NOT NULL THEN 1 END) - COUNT(CASE WHEN Load_Date = '' THEN 1 END)),\n",
    "    (COUNT(CASE WHEN Load_Date IS NOT NULL THEN 1 END) - COUNT(CASE WHEN Load_Date IS NULL THEN 1 END))\n",
    "FROM tbl_NonNull_Nulls_Blank\n",
    "\n",
    "UNION ALL\n",
    "\n",
    "SELECT 'Status',\n",
    "    COUNT(*),\n",
    "    COUNT(CASE WHEN Status IS NULL THEN 1 END),\n",
    "    COUNT(CASE WHEN Status IS NOT NULL THEN 1 END),\n",
    "    COUNT(CASE WHEN Status = '' THEN 1 END),\n",
    "    COUNT(CASE WHEN Status IS NOT NULL AND Status <> '' THEN 1 END),\n",
    "    (COUNT(CASE WHEN Status IS NOT NULL THEN 1 END) - COUNT(CASE WHEN Status = '' THEN 1 END)),\n",
    "    (COUNT(CASE WHEN Status IS NOT NULL THEN 1 END) - COUNT(CASE WHEN Status IS NULL THEN 1 END))\n",
    "FROM tbl_NonNull_Nulls_Blank\n",
    "\n",
    "UNION ALL\n",
    "\n",
    "SELECT 'description',\n",
    "    COUNT(*),\n",
    "    COUNT(CASE WHEN description IS NULL THEN 1 END),\n",
    "    COUNT(CASE WHEN description IS NOT NULL THEN 1 END),\n",
    "    COUNT(CASE WHEN description = '' THEN 1 END),\n",
    "    COUNT(CASE WHEN description IS NOT NULL AND description <> '' THEN 1 END),\n",
    "    (COUNT(CASE WHEN description IS NOT NULL THEN 1 END) - COUNT(CASE WHEN description = '' THEN 1 END)),\n",
    "    (COUNT(CASE WHEN description IS NOT NULL THEN 1 END) - COUNT(CASE WHEN description IS NULL THEN 1 END))\n",
    "FROM tbl_NonNull_Nulls_Blank;\n"
   ]
  },
  {
   "cell_type": "markdown",
   "metadata": {
    "application/vnd.databricks.v1+cell": {
     "cellMetadata": {},
     "inputWidgets": {},
     "nuid": "d2c0f898-a487-41d5-afd2-763f2d91c633",
     "showTitle": false,
     "tableResultSettingsMap": {},
     "title": ""
    }
   },
   "source": [
    "**g) All in one summary using SUM(CASE … END)**"
   ]
  },
  {
   "cell_type": "code",
   "execution_count": 0,
   "metadata": {
    "application/vnd.databricks.v1+cell": {
     "cellMetadata": {
      "byteLimit": 2048000,
      "implicitDf": true,
      "rowLimit": 10000
     },
     "inputWidgets": {},
     "nuid": "dbaa4eb2-002c-4886-aa2b-e6e198eccfd0",
     "showTitle": true,
     "tableResultSettingsMap": {},
     "title": "13) All in one summary using SUM(CASE … END)"
    }
   },
   "outputs": [
    {
     "output_type": "display_data",
     "data": {
      "text/html": [
       "<style scoped>\n",
       "  .table-result-container {\n",
       "    max-height: 300px;\n",
       "    overflow: auto;\n",
       "  }\n",
       "  table, th, td {\n",
       "    border: 1px solid black;\n",
       "    border-collapse: collapse;\n",
       "  }\n",
       "  th, td {\n",
       "    padding: 5px;\n",
       "  }\n",
       "  th {\n",
       "    text-align: left;\n",
       "  }\n",
       "</style><div class='table-result-container'><table class='table-result'><thead style='background-color: white'><tr><th>num_null</th><th>num_blank</th><th>num_non_null_non_blank</th></tr></thead><tbody><tr><td>4</td><td>1</td><td>12</td></tr></tbody></table></div>"
      ]
     },
     "metadata": {
      "application/vnd.databricks.v1+output": {
       "addedWidgets": {},
       "aggData": [],
       "aggError": "",
       "aggOverflow": false,
       "aggSchema": [],
       "aggSeriesLimitReached": false,
       "aggType": "",
       "arguments": {},
       "columnCustomDisplayInfos": {},
       "data": [
        [
         4,
         1,
         12
        ]
       ],
       "datasetInfos": [],
       "dbfsResultPath": null,
       "isJsonSchema": true,
       "metadata": {
        "createTempViewForImplicitDf": true,
        "dataframeName": "_sqldf",
        "executionCount": 39
       },
       "overflow": false,
       "plotOptions": {
        "customPlotOptions": {},
        "displayType": "table",
        "pivotAggregation": null,
        "pivotColumns": null,
        "xColumns": null,
        "yColumns": null
       },
       "removedWidgets": [],
       "schema": [
        {
         "metadata": "{}",
         "name": "num_null",
         "type": "\"long\""
        },
        {
         "metadata": "{}",
         "name": "num_blank",
         "type": "\"long\""
        },
        {
         "metadata": "{}",
         "name": "num_non_null_non_blank",
         "type": "\"long\""
        }
       ],
       "type": "table"
      }
     },
     "output_type": "display_data"
    }
   ],
   "source": [
    "%sql\n",
    "SELECT\n",
    "  SUM(CASE WHEN department IS NULL THEN 1 ELSE 0 END) AS num_null,\n",
    "  SUM(CASE WHEN department = '' THEN 1 ELSE 0 END) AS num_blank,\n",
    "  SUM(CASE WHEN department IS NOT NULL \n",
    "            AND department <> '' THEN 1 ELSE 0 END) AS num_non_null_non_blank\n",
    "FROM tbl_NonNull_Nulls_Blank;"
   ]
  },
  {
   "cell_type": "markdown",
   "metadata": {
    "application/vnd.databricks.v1+cell": {
     "cellMetadata": {},
     "inputWidgets": {},
     "nuid": "cd1dc66b-4201-41e9-ab80-b55e90f2214a",
     "showTitle": false,
     "tableResultSettingsMap": {},
     "title": ""
    }
   },
   "source": [
    "**h) Grouping by status**"
   ]
  },
  {
   "cell_type": "code",
   "execution_count": 0,
   "metadata": {
    "application/vnd.databricks.v1+cell": {
     "cellMetadata": {
      "byteLimit": 2048000,
      "implicitDf": true,
      "rowLimit": 10000
     },
     "inputWidgets": {},
     "nuid": "4e55deef-980c-49a8-8fdb-482101a7b114",
     "showTitle": true,
     "tableResultSettingsMap": {},
     "title": "14) Grouping by status"
    }
   },
   "outputs": [
    {
     "output_type": "display_data",
     "data": {
      "text/html": [
       "<style scoped>\n",
       "  .table-result-container {\n",
       "    max-height: 300px;\n",
       "    overflow: auto;\n",
       "  }\n",
       "  table, th, td {\n",
       "    border: 1px solid black;\n",
       "    border-collapse: collapse;\n",
       "  }\n",
       "  th, td {\n",
       "    padding: 5px;\n",
       "  }\n",
       "  th {\n",
       "    text-align: left;\n",
       "  }\n",
       "</style><div class='table-result-container'><table class='table-result'><thead style='background-color: white'><tr><th>status</th><th>cnt</th></tr></thead><tbody><tr><td>NON-NULL/NON-BLANK</td><td>11</td></tr><tr><td>NULL</td><td>3</td></tr><tr><td>BLANK</td><td>3</td></tr></tbody></table></div>"
      ]
     },
     "metadata": {
      "application/vnd.databricks.v1+output": {
       "addedWidgets": {},
       "aggData": [],
       "aggError": "",
       "aggOverflow": false,
       "aggSchema": [],
       "aggSeriesLimitReached": false,
       "aggType": "",
       "arguments": {},
       "columnCustomDisplayInfos": {},
       "data": [
        [
         "NON-NULL/NON-BLANK",
         11
        ],
        [
         "NULL",
         3
        ],
        [
         "BLANK",
         3
        ]
       ],
       "datasetInfos": [],
       "dbfsResultPath": null,
       "isJsonSchema": true,
       "metadata": {
        "createTempViewForImplicitDf": true,
        "dataframeName": "_sqldf",
        "executionCount": 40
       },
       "overflow": false,
       "plotOptions": {
        "customPlotOptions": {},
        "displayType": "table",
        "pivotAggregation": null,
        "pivotColumns": null,
        "xColumns": null,
        "yColumns": null
       },
       "removedWidgets": [],
       "schema": [
        {
         "metadata": "{}",
         "name": "status",
         "type": "\"string\""
        },
        {
         "metadata": "{}",
         "name": "cnt",
         "type": "\"long\""
        }
       ],
       "type": "table"
      }
     },
     "output_type": "display_data"
    }
   ],
   "source": [
    "%sql\n",
    "SELECT\n",
    "  CASE\n",
    "    WHEN Name IS NULL THEN 'NULL'\n",
    "    WHEN Name = '' THEN 'BLANK'\n",
    "    ELSE 'NON-NULL/NON-BLANK'\n",
    "  END AS status,\n",
    "  COUNT(*) AS cnt\n",
    "FROM tbl_NonNull_Nulls_Blank\n",
    "GROUP BY\n",
    "  CASE\n",
    "    WHEN Name IS NULL THEN 'NULL'\n",
    "    WHEN Name = '' THEN 'BLANK'\n",
    "    ELSE 'NON-NULL/NON-BLANK'\n",
    "  END;"
   ]
  }
 ],
 "metadata": {
  "application/vnd.databricks.v1+notebook": {
   "computePreferences": null,
   "dashboards": [],
   "environmentMetadata": {
    "base_environment": "",
    "environment_version": "1"
   },
   "inputWidgetPreferences": null,
   "language": "python",
   "notebookMetadata": {
    "mostRecentlyExecutedCommandWithImplicitDF": {
     "commandId": 3567209422982358,
     "dataframes": [
      "_sqldf"
     ]
    },
    "pythonIndentUnit": 4
   },
   "notebookName": "11_How to check count of Null, Non-Null, Blank, diff-Null, Non-Null",
   "widgets": {}
  }
 },
 "nbformat": 4,
 "nbformat_minor": 0
}