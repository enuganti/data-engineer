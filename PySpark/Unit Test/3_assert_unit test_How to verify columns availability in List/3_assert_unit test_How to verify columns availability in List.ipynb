{
 "cells": [
  {
   "cell_type": "markdown",
   "metadata": {
    "application/vnd.databricks.v1+cell": {
     "cellMetadata": {},
     "inputWidgets": {},
     "nuid": "1825d45c-546f-4028-b1bb-d5ce9ef0c144",
     "showTitle": false,
     "title": ""
    }
   },
   "source": [
    "#### **Python Assert**\n",
    "\n",
    "- Assert is used to check **if a particular condition is satisfied or not**. \n",
    "\n",
    "- Python provides the assert statement to check if a given **logical expression** is **True or False**.\n",
    "\n",
    "- Programe execution **proceeds only if expression is True** and **raises the AssertionError when it is False**."
   ]
  },
  {
   "cell_type": "markdown",
   "metadata": {
    "application/vnd.databricks.v1+cell": {
     "cellMetadata": {},
     "inputWidgets": {},
     "nuid": "b84b0706-180b-4982-aa85-cc828a9c1d3f",
     "showTitle": false,
     "title": ""
    }
   },
   "source": [
    "     # syntax :::\n",
    "     assert <condition>, <message>\n",
    "\n",
    "- If the condition is **True**, **nothing happens**.\n",
    "\n",
    "- If the condition is **False**, **AssertionError will be raised**."
   ]
  },
  {
   "cell_type": "markdown",
   "metadata": {
    "application/vnd.databricks.v1+cell": {
     "cellMetadata": {},
     "inputWidgets": {},
     "nuid": "508137a2-dc2d-4f9e-a911-33e4fc556b15",
     "showTitle": false,
     "title": ""
    }
   },
   "source": [
    "     .assertEqual(a, b) -->  Checks if a is equal to b, similar to the expression a == b.\n",
    "\n",
    "     # Assert that the original message and the received message are the same\n",
    "     self.assertEqual(json.loads(self.sales_msg), json.loads(d_string), msg=\"Kafka message is not correctly received\")\n",
    "\n",
    "     # Assert that the expected schema matches the actual schema\n",
    "     self.assertEqual(expected_schema, actual_schema, \"Schema does not match\")"
   ]
  },
  {
   "cell_type": "code",
   "execution_count": 0,
   "metadata": {
    "application/vnd.databricks.v1+cell": {
     "cellMetadata": {
      "byteLimit": 2048000,
      "rowLimit": 10000
     },
     "inputWidgets": {},
     "nuid": "d7ae3cb9-4b9b-425d-a9ae-f1f94a79d139",
     "showTitle": true,
     "title": "Update or Insert Sales data to Target"
    }
   },
   "outputs": [],
   "source": [
    "# sales Columns\n",
    "sales_cols = meta_columns + ['vehicle_id', 'technology', 'vehicle_type', 'region', 'input_date', 'model_type', 'start_timestamp', 'end_timestamp', 'price', 'delivery_hours', 'base_value', 'vehicle_status', 'market_type', 'delivery_point1', 'delivery_status1']\n",
    "\n",
    "# sales Columns insert / update to target table\n",
    "sales_updt_cols = ', '.join([f't.{col} = s.{col}' for col in sales_cols])\n",
    "sales_insrt_cols = 'INSERT (' + ','.join([f\"{i}\" for i in sales_cols]) + ') VALUES (' + ','.join([f\"s.{i}\" for i in sales_cols]) + ')'\n",
    "\n",
    "\n",
    "def upsertToDelta(microBatchOutputDF, batchId):\n",
    "    microBatchOutputDF.persist()\n",
    "    microBatchOutputDF.select(*sales_cols).distinct().createOrReplaceTempView(\"sales_updates\")\n",
    "    microBatchOutputDF.sparkSession.sql(f\"\"\"MERGE INTO `ts_bmw_tvs_unitycatalog-dev`.enriched_veh_sales.tbl_mdt_sales as t \\\n",
    "    USING sales_updates as s \\\n",
    "    ON s.sales_id = t.sales_id\\\n",
    "    WHEN MATCHED THEN UPDATE SET {sales_updt_cols}\n",
    "    WHEN NOT MATCHED THEN {sales_insrt_cols}\n",
    "  \"\"\")"
   ]
  },
  {
   "cell_type": "markdown",
   "metadata": {
    "application/vnd.databricks.v1+cell": {
     "cellMetadata": {},
     "inputWidgets": {},
     "nuid": "acc835d4-36a0-4f72-b758-a6db32cc3b9f",
     "showTitle": false,
     "title": ""
    }
   },
   "source": [
    "**if both columns available, nothing happens**"
   ]
  },
  {
   "cell_type": "code",
   "execution_count": 0,
   "metadata": {
    "application/vnd.databricks.v1+cell": {
     "cellMetadata": {
      "byteLimit": 2048000,
      "rowLimit": 10000
     },
     "inputWidgets": {},
     "nuid": "fb8b134e-f418-4551-990b-531f3266c1bc",
     "showTitle": false,
     "title": ""
    }
   },
   "outputs": [],
   "source": [
    "# Ensure 'delivery_point' and 'delivery_status' are in sales_cols\n",
    "assert 'delivery_point' in sales_cols, \"delivery_point not in sales_cols\"\n",
    "assert 'delivery_status' in sales_cols, \"delivery_status not in sales_cols\""
   ]
  },
  {
   "cell_type": "code",
   "execution_count": 0,
   "metadata": {
    "application/vnd.databricks.v1+cell": {
     "cellMetadata": {
      "byteLimit": 2048000,
      "rowLimit": 10000
     },
     "inputWidgets": {},
     "nuid": "a4f5880a-6035-44ad-8d95-ba416585ca28",
     "showTitle": false,
     "title": ""
    }
   },
   "outputs": [],
   "source": [
    "try:\n",
    "    # Ensure 'delivery_point' and 'delivery_status' are in sales_cols\n",
    "    assert 'delivery_point' in sales_cols and 'delivery_status' in sales_cols, \"both delivery_point & delivery_status not in sales_cols\"\n",
    "except AssertionError as e:\n",
    "    print(f\"Test failed: {e}\")"
   ]
  },
  {
   "cell_type": "markdown",
   "metadata": {
    "application/vnd.databricks.v1+cell": {
     "cellMetadata": {},
     "inputWidgets": {},
     "nuid": "e76d2607-f460-4c9a-ad81-3e64a290564d",
     "showTitle": false,
     "title": ""
    }
   },
   "source": [
    "**if first column not available, raise error**"
   ]
  },
  {
   "cell_type": "code",
   "execution_count": 0,
   "metadata": {
    "application/vnd.databricks.v1+cell": {
     "cellMetadata": {
      "byteLimit": 2048000,
      "rowLimit": 10000
     },
     "inputWidgets": {},
     "nuid": "0f403b4e-10e3-466e-a837-df3c545c6ef7",
     "showTitle": false,
     "title": ""
    }
   },
   "outputs": [
    {
     "output_type": "display_data",
     "data": {
      "text/plain": [
       "\u001B[0;31m---------------------------------------------------------------------------\u001B[0m\n",
       "\u001B[0;31mAssertionError\u001B[0m                            Traceback (most recent call last)\n",
       "File \u001B[0;32m<command-4261226127232082>, line 2\u001B[0m\n",
       "\u001B[1;32m      1\u001B[0m \u001B[38;5;66;03m# Ensure 'delivery_point' and 'delivery_status' are in sales_cols\u001B[39;00m\n",
       "\u001B[0;32m----> 2\u001B[0m \u001B[38;5;28;01massert\u001B[39;00m \u001B[38;5;124m'\u001B[39m\u001B[38;5;124mdelivery_point\u001B[39m\u001B[38;5;124m'\u001B[39m \u001B[38;5;129;01min\u001B[39;00m sales_cols, \u001B[38;5;124m\"\u001B[39m\u001B[38;5;124mdelivery_point not in sales_cols\u001B[39m\u001B[38;5;124m\"\u001B[39m\n",
       "\u001B[1;32m      3\u001B[0m \u001B[38;5;28;01massert\u001B[39;00m \u001B[38;5;124m'\u001B[39m\u001B[38;5;124mdelivery_status\u001B[39m\u001B[38;5;124m'\u001B[39m \u001B[38;5;129;01min\u001B[39;00m sales_cols, \u001B[38;5;124m\"\u001B[39m\u001B[38;5;124mdelivery_status not in sales_cols\u001B[39m\u001B[38;5;124m\"\u001B[39m\n",
       "\n",
       "\u001B[0;31mAssertionError\u001B[0m: delivery_point not in sales_cols"
      ]
     },
     "metadata": {
      "application/vnd.databricks.v1+output": {
       "addedWidgets": {},
       "arguments": {},
       "datasetInfos": [],
       "jupyterProps": {
        "ename": "AssertionError",
        "evalue": "delivery_point not in sales_cols"
       },
       "metadata": {
        "errorSummary": "<span class='ansi-red-fg'>AssertionError</span>: delivery_point not in sales_cols"
       },
       "removedWidgets": [],
       "sqlProps": null,
       "stackFrames": [
        "\u001B[0;31m---------------------------------------------------------------------------\u001B[0m",
        "\u001B[0;31mAssertionError\u001B[0m                            Traceback (most recent call last)",
        "File \u001B[0;32m<command-4261226127232082>, line 2\u001B[0m\n\u001B[1;32m      1\u001B[0m \u001B[38;5;66;03m# Ensure 'delivery_point' and 'delivery_status' are in sales_cols\u001B[39;00m\n\u001B[0;32m----> 2\u001B[0m \u001B[38;5;28;01massert\u001B[39;00m \u001B[38;5;124m'\u001B[39m\u001B[38;5;124mdelivery_point\u001B[39m\u001B[38;5;124m'\u001B[39m \u001B[38;5;129;01min\u001B[39;00m sales_cols, \u001B[38;5;124m\"\u001B[39m\u001B[38;5;124mdelivery_point not in sales_cols\u001B[39m\u001B[38;5;124m\"\u001B[39m\n\u001B[1;32m      3\u001B[0m \u001B[38;5;28;01massert\u001B[39;00m \u001B[38;5;124m'\u001B[39m\u001B[38;5;124mdelivery_status\u001B[39m\u001B[38;5;124m'\u001B[39m \u001B[38;5;129;01min\u001B[39;00m sales_cols, \u001B[38;5;124m\"\u001B[39m\u001B[38;5;124mdelivery_status not in sales_cols\u001B[39m\u001B[38;5;124m\"\u001B[39m\n",
        "\u001B[0;31mAssertionError\u001B[0m: delivery_point not in sales_cols"
       ],
       "type": "baseError"
      }
     },
     "output_type": "display_data"
    }
   ],
   "source": [
    "# Ensure 'delivery_point' and 'delivery_status' are in sales_cols\n",
    "assert 'delivery_point' in sales_cols, \"delivery_point not in sales_cols\"\n",
    "assert 'delivery_status' in sales_cols, \"delivery_status not in sales_cols\""
   ]
  },
  {
   "cell_type": "markdown",
   "metadata": {
    "application/vnd.databricks.v1+cell": {
     "cellMetadata": {},
     "inputWidgets": {},
     "nuid": "9462a328-6615-4ff4-a3df-3f388d79929e",
     "showTitle": false,
     "title": ""
    }
   },
   "source": [
    "**if second column not available, raise error**"
   ]
  },
  {
   "cell_type": "code",
   "execution_count": 0,
   "metadata": {
    "application/vnd.databricks.v1+cell": {
     "cellMetadata": {
      "byteLimit": 2048000,
      "rowLimit": 10000
     },
     "inputWidgets": {},
     "nuid": "8e216d0e-fa11-45a2-99d4-65933db481cc",
     "showTitle": false,
     "title": ""
    }
   },
   "outputs": [
    {
     "output_type": "display_data",
     "data": {
      "text/plain": [
       "\u001B[0;31m---------------------------------------------------------------------------\u001B[0m\n",
       "\u001B[0;31mAssertionError\u001B[0m                            Traceback (most recent call last)\n",
       "File \u001B[0;32m<command-435814779648473>, line 3\u001B[0m\n",
       "\u001B[1;32m      1\u001B[0m \u001B[38;5;66;03m# Ensure 'delivery_point' and 'delivery_status' are in sales_cols\u001B[39;00m\n",
       "\u001B[1;32m      2\u001B[0m \u001B[38;5;28;01massert\u001B[39;00m \u001B[38;5;124m'\u001B[39m\u001B[38;5;124mdelivery_point\u001B[39m\u001B[38;5;124m'\u001B[39m \u001B[38;5;129;01min\u001B[39;00m sales_cols, \u001B[38;5;124m\"\u001B[39m\u001B[38;5;124mdelivery_point not in sales_cols\u001B[39m\u001B[38;5;124m\"\u001B[39m\n",
       "\u001B[0;32m----> 3\u001B[0m \u001B[38;5;28;01massert\u001B[39;00m \u001B[38;5;124m'\u001B[39m\u001B[38;5;124mdelivery_status\u001B[39m\u001B[38;5;124m'\u001B[39m \u001B[38;5;129;01min\u001B[39;00m sales_cols, \u001B[38;5;124m\"\u001B[39m\u001B[38;5;124mdelivery_status not in sales_cols\u001B[39m\u001B[38;5;124m\"\u001B[39m\n",
       "\n",
       "\u001B[0;31mAssertionError\u001B[0m: delivery_status not in sales_cols"
      ]
     },
     "metadata": {
      "application/vnd.databricks.v1+output": {
       "addedWidgets": {},
       "arguments": {},
       "datasetInfos": [],
       "jupyterProps": {
        "ename": "AssertionError",
        "evalue": "delivery_status not in sales_cols"
       },
       "metadata": {
        "errorSummary": "<span class='ansi-red-fg'>AssertionError</span>: delivery_status not in sales_cols"
       },
       "removedWidgets": [],
       "sqlProps": null,
       "stackFrames": [
        "\u001B[0;31m---------------------------------------------------------------------------\u001B[0m",
        "\u001B[0;31mAssertionError\u001B[0m                            Traceback (most recent call last)",
        "File \u001B[0;32m<command-435814779648473>, line 3\u001B[0m\n\u001B[1;32m      1\u001B[0m \u001B[38;5;66;03m# Ensure 'delivery_point' and 'delivery_status' are in sales_cols\u001B[39;00m\n\u001B[1;32m      2\u001B[0m \u001B[38;5;28;01massert\u001B[39;00m \u001B[38;5;124m'\u001B[39m\u001B[38;5;124mdelivery_point\u001B[39m\u001B[38;5;124m'\u001B[39m \u001B[38;5;129;01min\u001B[39;00m sales_cols, \u001B[38;5;124m\"\u001B[39m\u001B[38;5;124mdelivery_point not in sales_cols\u001B[39m\u001B[38;5;124m\"\u001B[39m\n\u001B[0;32m----> 3\u001B[0m \u001B[38;5;28;01massert\u001B[39;00m \u001B[38;5;124m'\u001B[39m\u001B[38;5;124mdelivery_status\u001B[39m\u001B[38;5;124m'\u001B[39m \u001B[38;5;129;01min\u001B[39;00m sales_cols, \u001B[38;5;124m\"\u001B[39m\u001B[38;5;124mdelivery_status not in sales_cols\u001B[39m\u001B[38;5;124m\"\u001B[39m\n",
        "\u001B[0;31mAssertionError\u001B[0m: delivery_status not in sales_cols"
       ],
       "type": "baseError"
      }
     },
     "output_type": "display_data"
    }
   ],
   "source": [
    "# Ensure 'delivery_point' and 'delivery_status' are in sales_cols\n",
    "assert 'delivery_point' in sales_cols, \"delivery_point not in sales_cols\"\n",
    "assert 'delivery_status' in sales_cols, \"delivery_status not in sales_cols\""
   ]
  },
  {
   "cell_type": "markdown",
   "metadata": {
    "application/vnd.databricks.v1+cell": {
     "cellMetadata": {},
     "inputWidgets": {},
     "nuid": "6fc8ad6f-a86d-4772-a9df-466a76c1079b",
     "showTitle": false,
     "title": ""
    }
   },
   "source": [
    "**if both columns not available, raise error**"
   ]
  },
  {
   "cell_type": "code",
   "execution_count": 0,
   "metadata": {
    "application/vnd.databricks.v1+cell": {
     "cellMetadata": {
      "byteLimit": 2048000,
      "rowLimit": 10000
     },
     "inputWidgets": {},
     "nuid": "6bf0da6d-59d4-4f97-9a5f-10893ea60707",
     "showTitle": false,
     "title": ""
    }
   },
   "outputs": [
    {
     "output_type": "display_data",
     "data": {
      "text/plain": [
       "\u001B[0;31m---------------------------------------------------------------------------\u001B[0m\n",
       "\u001B[0;31mAssertionError\u001B[0m                            Traceback (most recent call last)\n",
       "File \u001B[0;32m<command-435814779648469>, line 2\u001B[0m\n",
       "\u001B[1;32m      1\u001B[0m \u001B[38;5;66;03m# Ensure 'delivery_point' and 'delivery_status' are in sales_cols\u001B[39;00m\n",
       "\u001B[0;32m----> 2\u001B[0m \u001B[38;5;28;01massert\u001B[39;00m \u001B[38;5;124m'\u001B[39m\u001B[38;5;124mdelivery_point\u001B[39m\u001B[38;5;124m'\u001B[39m \u001B[38;5;129;01min\u001B[39;00m sales_cols \u001B[38;5;129;01mand\u001B[39;00m \u001B[38;5;124m'\u001B[39m\u001B[38;5;124mdelivery_status\u001B[39m\u001B[38;5;124m'\u001B[39m \u001B[38;5;129;01min\u001B[39;00m sales_cols, \u001B[38;5;124m\"\u001B[39m\u001B[38;5;124mboth delivery_point & delivery_status not in sales_cols\u001B[39m\u001B[38;5;124m\"\u001B[39m\n",
       "\n",
       "\u001B[0;31mAssertionError\u001B[0m: both delivery_point & delivery_status not in sales_cols"
      ]
     },
     "metadata": {
      "application/vnd.databricks.v1+output": {
       "addedWidgets": {},
       "arguments": {},
       "datasetInfos": [],
       "jupyterProps": {
        "ename": "AssertionError",
        "evalue": "both delivery_point & delivery_status not in sales_cols"
       },
       "metadata": {
        "errorSummary": "<span class='ansi-red-fg'>AssertionError</span>: both delivery_point & delivery_status not in sales_cols"
       },
       "removedWidgets": [],
       "sqlProps": null,
       "stackFrames": [
        "\u001B[0;31m---------------------------------------------------------------------------\u001B[0m",
        "\u001B[0;31mAssertionError\u001B[0m                            Traceback (most recent call last)",
        "File \u001B[0;32m<command-435814779648469>, line 2\u001B[0m\n\u001B[1;32m      1\u001B[0m \u001B[38;5;66;03m# Ensure 'delivery_point' and 'delivery_status' are in sales_cols\u001B[39;00m\n\u001B[0;32m----> 2\u001B[0m \u001B[38;5;28;01massert\u001B[39;00m \u001B[38;5;124m'\u001B[39m\u001B[38;5;124mdelivery_point\u001B[39m\u001B[38;5;124m'\u001B[39m \u001B[38;5;129;01min\u001B[39;00m sales_cols \u001B[38;5;129;01mand\u001B[39;00m \u001B[38;5;124m'\u001B[39m\u001B[38;5;124mdelivery_status\u001B[39m\u001B[38;5;124m'\u001B[39m \u001B[38;5;129;01min\u001B[39;00m sales_cols, \u001B[38;5;124m\"\u001B[39m\u001B[38;5;124mboth delivery_point & delivery_status not in sales_cols\u001B[39m\u001B[38;5;124m\"\u001B[39m\n",
        "\u001B[0;31mAssertionError\u001B[0m: both delivery_point & delivery_status not in sales_cols"
       ],
       "type": "baseError"
      }
     },
     "output_type": "display_data"
    }
   ],
   "source": [
    "# Ensure 'delivery_point' and 'delivery_status' are in sales_cols\n",
    "assert 'delivery_point' in sales_cols and 'delivery_status' in sales_cols, \"both delivery_point & delivery_status not in sales_cols\""
   ]
  },
  {
   "cell_type": "code",
   "execution_count": 0,
   "metadata": {
    "application/vnd.databricks.v1+cell": {
     "cellMetadata": {
      "byteLimit": 2048000,
      "rowLimit": 10000
     },
     "inputWidgets": {},
     "nuid": "263a9729-7e3e-428f-bc7d-c265c2a0ea23",
     "showTitle": false,
     "title": ""
    }
   },
   "outputs": [
    {
     "output_type": "stream",
     "name": "stdout",
     "output_type": "stream",
     "text": [
      "Test failed: both delivery_point & delivery_status not in sales_cols\n"
     ]
    }
   ],
   "source": [
    "try:\n",
    "    # Ensure 'delivery_point' and 'delivery_status' are in sales_cols\n",
    "    assert 'delivery_point' in sales_cols and 'delivery_status' in sales_cols, \"both delivery_point & delivery_status not in sales_cols\"\n",
    "except AssertionError as e:\n",
    "    print(f\"Test failed: {e}\")"
   ]
  },
  {
   "cell_type": "markdown",
   "metadata": {
    "application/vnd.databricks.v1+cell": {
     "cellMetadata": {},
     "inputWidgets": {},
     "nuid": "afbab35a-2cba-4b8d-8899-fecfa2772561",
     "showTitle": false,
     "title": ""
    }
   },
   "source": [
    "**verbosity**"
   ]
  },
  {
   "cell_type": "markdown",
   "metadata": {
    "application/vnd.databricks.v1+cell": {
     "cellMetadata": {},
     "inputWidgets": {},
     "nuid": "c8dde591-1b39-4a8c-bf79-739cc7421a05",
     "showTitle": false,
     "title": ""
    }
   },
   "source": [
    "     if __name__ == \"__main__\":\n",
    "         unittest.main()\n",
    "\n",
    "     0 for quiet\n",
    "     1 for normal\n",
    "     2 for detailed\n",
    "\n",
    "\n",
    "     if __name__ == \"__main__\":\n",
    "     unittest.main(verbosity=2)\n",
    "\n",
    "- If you set the **verbosity** level to **2** and this update makes **unittest** generate a **more detailed output** when you run the test module."
   ]
  },
  {
   "cell_type": "code",
   "execution_count": 0,
   "metadata": {
    "application/vnd.databricks.v1+cell": {
     "cellMetadata": {
      "byteLimit": 2048000,
      "rowLimit": 10000
     },
     "inputWidgets": {},
     "nuid": "a00e8d3a-9f48-4a04-9ec8-f5a6663de8bf",
     "showTitle": false,
     "title": ""
    }
   },
   "outputs": [
    {
     "output_type": "stream",
     "name": "stderr",
     "output_type": "stream",
     "text": [
      "----------------------------------------------------------------------\nRan 1 test in 0.000s\n\nOK\n"
     ]
    },
    {
     "output_type": "stream",
     "name": "stdout",
     "output_type": "stream",
     "text": [
      "Test failed : both delivery_point & delivery_status not in sales_cols\n"
     ]
    }
   ],
   "source": [
    "import unittest\n",
    "\n",
    "class TestSalesStatus(unittest.TestCase):\n",
    "    # Test to check if the DataFrame is not empty\n",
    "    def test_table_not_empty(self):\n",
    "        try:\n",
    "            # Ensure 'delivery_point' and 'delivery_status' are in sales_cols\n",
    "            assert 'delivery_point' in sales_cols and 'delivery_status' in sales_cols, \"both delivery_point & delivery_status not in sales_cols\"\n",
    "        except AssertionError as e:\n",
    "            print(f\"Test failed : {e}\")\n",
    "\n",
    "if __name__ == '__main__':\n",
    "    unittest.main(argv=[''], verbosity=0, exit=False)"
   ]
  },
  {
   "cell_type": "code",
   "execution_count": 0,
   "metadata": {
    "application/vnd.databricks.v1+cell": {
     "cellMetadata": {
      "byteLimit": 2048000,
      "rowLimit": 10000
     },
     "inputWidgets": {},
     "nuid": "f73c6325-9610-427f-87be-b4bf60ec110c",
     "showTitle": false,
     "title": ""
    }
   },
   "outputs": [
    {
     "output_type": "stream",
     "name": "stderr",
     "output_type": "stream",
     "text": [
      ".\n----------------------------------------------------------------------\nRan 1 test in 0.001s\n\nOK\n"
     ]
    },
    {
     "output_type": "stream",
     "name": "stdout",
     "output_type": "stream",
     "text": [
      "Test failed : both delivery_point & delivery_status not in sales_cols\n"
     ]
    }
   ],
   "source": [
    "import unittest\n",
    "\n",
    "class TestSalesStatus(unittest.TestCase):\n",
    "    # Test to check if the DataFrame is not empty\n",
    "    def test_table_not_empty(self):\n",
    "        try:\n",
    "            # Ensure 'delivery_point' and 'delivery_status' are in sales_cols\n",
    "            assert 'delivery_point' in sales_cols and 'delivery_status' in sales_cols, \"both delivery_point & delivery_status not in sales_cols\"\n",
    "        except AssertionError as e:\n",
    "            print(f\"Test failed : {e}\")\n",
    "\n",
    "if __name__ == '__main__':\n",
    "    unittest.main(argv=[''], verbosity=1, exit=False)"
   ]
  },
  {
   "cell_type": "code",
   "execution_count": 0,
   "metadata": {
    "application/vnd.databricks.v1+cell": {
     "cellMetadata": {
      "byteLimit": 2048000,
      "rowLimit": 10000
     },
     "inputWidgets": {},
     "nuid": "ccf5b894-fc06-4d88-9750-7c1c118cfe0e",
     "showTitle": false,
     "title": ""
    }
   },
   "outputs": [
    {
     "output_type": "stream",
     "name": "stderr",
     "output_type": "stream",
     "text": [
      "test_table_not_empty (__main__.TestSalesStatus.test_table_not_empty) ... ok\n\n----------------------------------------------------------------------\nRan 1 test in 0.004s\n\nOK\n"
     ]
    },
    {
     "output_type": "stream",
     "name": "stdout",
     "output_type": "stream",
     "text": [
      "Test failed : both delivery_point & delivery_status not in sales_cols\n"
     ]
    }
   ],
   "source": [
    "import unittest\n",
    "\n",
    "class TestSalesStatus(unittest.TestCase):\n",
    "    # Test to check if the DataFrame is not empty\n",
    "    def test_table_not_empty(self):\n",
    "        try:\n",
    "            # Ensure 'delivery_point' and 'delivery_status' are in sales_cols\n",
    "            assert 'delivery_point' in sales_cols and 'delivery_status' in sales_cols, \"both delivery_point & delivery_status not in sales_cols\"\n",
    "        except AssertionError as e:\n",
    "            print(f\"Test failed : {e}\")\n",
    "\n",
    "if __name__ == '__main__':\n",
    "    unittest.main(argv=[''], verbosity=2, exit=False)"
   ]
  }
 ],
 "metadata": {
  "application/vnd.databricks.v1+notebook": {
   "dashboards": [],
   "environmentMetadata": null,
   "language": "python",
   "notebookMetadata": {
    "pythonIndentUnit": 4
   },
   "notebookName": "3_assert_unit test_How to verify columns availability in List",
   "widgets": {}
  }
 },
 "nbformat": 4,
 "nbformat_minor": 0
}
