{
 "cells": [
  {
   "cell_type": "markdown",
   "metadata": {
    "application/vnd.databricks.v1+cell": {
     "cellMetadata": {},
     "inputWidgets": {},
     "nuid": "b2435038-554b-426c-8328-5ab13ddd12b3",
     "showTitle": false,
     "title": ""
    }
   },
   "source": [
    "#### **BooleanType()**"
   ]
  },
  {
   "cell_type": "markdown",
   "metadata": {
    "application/vnd.databricks.v1+cell": {
     "cellMetadata": {},
     "inputWidgets": {},
     "nuid": "80774114-3519-4615-8afd-1eaae0044139",
     "showTitle": false,
     "title": ""
    }
   },
   "source": [
    " - BooleanType() helps you specify that a column should only have two values: **true or false**.\n",
    "\n",
    "- Using the **right data type** can **optimize performance** because Spark knows exactly how to handle **boolean** operations efficiently.\n",
    "\n",
    "- The BooleanType is a fundamental data type in Spark, used to represent Boolean values, which can be **either True or False**. This data type is commonly used when dealing with **binary decisions, filtering data based on conditions**, and performing logical operations in Spark.\n"
   ]
  },
  {
   "cell_type": "code",
   "execution_count": 0,
   "metadata": {
    "application/vnd.databricks.v1+cell": {
     "cellMetadata": {
      "byteLimit": 2048000,
      "rowLimit": 10000
     },
     "inputWidgets": {},
     "nuid": "da710ebb-90b3-45a7-9e9f-26c6af2b7601",
     "showTitle": false,
     "title": ""
    }
   },
   "outputs": [
    {
     "output_type": "stream",
     "name": "stdout",
     "output_type": "stream",
     "text": [
      "1\n"
     ]
    }
   ],
   "source": [
    "a = True   # 1\n",
    "b = False  # 0\n",
    "c = a + b  # 1 + 0 = 1\n",
    "print(c)"
   ]
  },
  {
   "cell_type": "code",
   "execution_count": 0,
   "metadata": {
    "application/vnd.databricks.v1+cell": {
     "cellMetadata": {
      "byteLimit": 2048000,
      "rowLimit": 10000
     },
     "inputWidgets": {},
     "nuid": "153a877a-924e-4634-bddf-4e97721dac88",
     "showTitle": false,
     "title": ""
    }
   },
   "outputs": [
    {
     "output_type": "stream",
     "name": "stdout",
     "output_type": "stream",
     "text": [
      "2\n"
     ]
    }
   ],
   "source": [
    "print(True + True)"
   ]
  },
  {
   "cell_type": "code",
   "execution_count": 0,
   "metadata": {
    "application/vnd.databricks.v1+cell": {
     "cellMetadata": {
      "byteLimit": 2048000,
      "rowLimit": 10000
     },
     "inputWidgets": {},
     "nuid": "37c32727-16c1-451c-b8de-5bcf9920fffd",
     "showTitle": false,
     "title": ""
    }
   },
   "outputs": [
    {
     "output_type": "stream",
     "name": "stdout",
     "output_type": "stream",
     "text": [
      "0\n"
     ]
    }
   ],
   "source": [
    "print(False + False)"
   ]
  },
  {
   "cell_type": "code",
   "execution_count": 0,
   "metadata": {
    "application/vnd.databricks.v1+cell": {
     "cellMetadata": {
      "byteLimit": 2048000,
      "rowLimit": 10000
     },
     "collapsed": true,
     "inputWidgets": {},
     "nuid": "d2660867-a022-4786-8917-9b67b170d655",
     "showTitle": false,
     "title": ""
    }
   },
   "outputs": [
    {
     "output_type": "display_data",
     "data": {
      "text/html": [
       "<style scoped>\n",
       "  .table-result-container {\n",
       "    max-height: 300px;\n",
       "    overflow: auto;\n",
       "  }\n",
       "  table, th, td {\n",
       "    border: 1px solid black;\n",
       "    border-collapse: collapse;\n",
       "  }\n",
       "  th, td {\n",
       "    padding: 5px;\n",
       "  }\n",
       "  th {\n",
       "    text-align: left;\n",
       "  }\n",
       "</style><div class='table-result-container'><table class='table-result'><thead style='background-color: white'><tr><th>path</th><th>name</th><th>size</th><th>modificationTime</th></tr></thead><tbody><tr><td>dbfs:/FileStore/tables/Flatten Nested Array.json</td><td>Flatten Nested Array.json</td><td>3756</td><td>1718618620000</td></tr><tr><td>dbfs:/FileStore/tables/MarketPrice-1.csv</td><td>MarketPrice-1.csv</td><td>19528</td><td>1719656512000</td></tr><tr><td>dbfs:/FileStore/tables/MarketPrice.csv</td><td>MarketPrice.csv</td><td>19528</td><td>1719656208000</td></tr><tr><td>dbfs:/FileStore/tables/MultiLineJSON.json/</td><td>MultiLineJSON.json/</td><td>0</td><td>0</td></tr><tr><td>dbfs:/FileStore/tables/MultiLineJSON01.json/</td><td>MultiLineJSON01.json/</td><td>0</td><td>0</td></tr><tr><td>dbfs:/FileStore/tables/MultiLineJSON1.json/</td><td>MultiLineJSON1.json/</td><td>0</td><td>0</td></tr><tr><td>dbfs:/FileStore/tables/MultiLineJSON123.json/</td><td>MultiLineJSON123.json/</td><td>0</td><td>0</td></tr><tr><td>dbfs:/FileStore/tables/MultiLineJSON2.json/</td><td>MultiLineJSON2.json/</td><td>0</td><td>0</td></tr><tr><td>dbfs:/FileStore/tables/Question7.csv</td><td>Question7.csv</td><td>154</td><td>1725816645000</td></tr><tr><td>dbfs:/FileStore/tables/RunningData_Rev02.csv</td><td>RunningData_Rev02.csv</td><td>1222</td><td>1719810609000</td></tr><tr><td>dbfs:/FileStore/tables/RunningData_Rev03.csv</td><td>RunningData_Rev03.csv</td><td>1216</td><td>1719810946000</td></tr><tr><td>dbfs:/FileStore/tables/SalesData_Rev02.csv</td><td>SalesData_Rev02.csv</td><td>472</td><td>1719810784000</td></tr><tr><td>dbfs:/FileStore/tables/SalesData_Rev03.csv</td><td>SalesData_Rev03.csv</td><td>460</td><td>1719810973000</td></tr><tr><td>dbfs:/FileStore/tables/Sales_Collect.csv</td><td>Sales_Collect.csv</td><td>182972</td><td>1720293547000</td></tr><tr><td>dbfs:/FileStore/tables/Sales_Collect_Rev02.csv</td><td>Sales_Collect_Rev02.csv</td><td>166107</td><td>1719810826000</td></tr><tr><td>dbfs:/FileStore/tables/Sales_Collect_Rev03.csv</td><td>Sales_Collect_Rev03.csv</td><td>182828</td><td>1719811001000</td></tr><tr><td>dbfs:/FileStore/tables/StructType-1.csv</td><td>StructType-1.csv</td><td>648</td><td>1717934508000</td></tr><tr><td>dbfs:/FileStore/tables/StructType-2.csv</td><td>StructType-2.csv</td><td>648</td><td>1717935891000</td></tr><tr><td>dbfs:/FileStore/tables/StructType-3.csv</td><td>StructType-3.csv</td><td>648</td><td>1717936009000</td></tr><tr><td>dbfs:/FileStore/tables/StructType-4.csv</td><td>StructType-4.csv</td><td>648</td><td>1717936144000</td></tr><tr><td>dbfs:/FileStore/tables/StructType-5.csv</td><td>StructType-5.csv</td><td>648</td><td>1717936276000</td></tr><tr><td>dbfs:/FileStore/tables/StructType.csv</td><td>StructType.csv</td><td>648</td><td>1717934306000</td></tr><tr><td>dbfs:/FileStore/tables/booleantype-1.csv</td><td>booleantype-1.csv</td><td>4670</td><td>1726837953000</td></tr><tr><td>dbfs:/FileStore/tables/booleantype-2.csv</td><td>booleantype-2.csv</td><td>5337</td><td>1726841165000</td></tr><tr><td>dbfs:/FileStore/tables/booleantype-3.csv</td><td>booleantype-3.csv</td><td>3167</td><td>1726843335000</td></tr><tr><td>dbfs:/FileStore/tables/booleantype-4.csv</td><td>booleantype-4.csv</td><td>2889</td><td>1726843641000</td></tr><tr><td>dbfs:/FileStore/tables/booleantype-5.csv</td><td>booleantype-5.csv</td><td>3164</td><td>1726851645000</td></tr><tr><td>dbfs:/FileStore/tables/booleantype.csv</td><td>booleantype.csv</td><td>4670</td><td>1726837542000</td></tr><tr><td>dbfs:/FileStore/tables/cast_data.txt</td><td>cast_data.txt</td><td>219</td><td>1720376019000</td></tr><tr><td>dbfs:/FileStore/tables/current_date___current_user___current_timestamp__.csv</td><td>current_date___current_user___current_timestamp__.csv</td><td>4040</td><td>1726313822000</td></tr><tr><td>dbfs:/FileStore/tables/date_format-1.csv</td><td>date_format-1.csv</td><td>1656</td><td>1725709118000</td></tr><tr><td>dbfs:/FileStore/tables/date_format-2.csv</td><td>date_format-2.csv</td><td>1923</td><td>1725709313000</td></tr><tr><td>dbfs:/FileStore/tables/date_format.csv</td><td>date_format.csv</td><td>1119</td><td>1725645247000</td></tr><tr><td>dbfs:/FileStore/tables/from_unixtime-1.csv</td><td>from_unixtime-1.csv</td><td>9523</td><td>1725903833000</td></tr><tr><td>dbfs:/FileStore/tables/from_unixtime.csv</td><td>from_unixtime.csv</td><td>9523</td><td>1725901373000</td></tr><tr><td>dbfs:/FileStore/tables/iterate_columns.csv</td><td>iterate_columns.csv</td><td>2023849</td><td>1719767610000</td></tr><tr><td>dbfs:/FileStore/tables/multiline.json</td><td>multiline.json</td><td>1262</td><td>1725858755000</td></tr><tr><td>dbfs:/FileStore/tables/multiline.txt</td><td>multiline.txt</td><td>178</td><td>1721655243000</td></tr><tr><td>dbfs:/FileStore/tables/multiline_nested-1.json</td><td>multiline_nested-1.json</td><td>2233</td><td>1725884748000</td></tr><tr><td>dbfs:/FileStore/tables/multiline_nested.json</td><td>multiline_nested.json</td><td>1731</td><td>1725870338000</td></tr><tr><td>dbfs:/FileStore/tables/person-1.json</td><td>person-1.json</td><td>4608</td><td>1718609578000</td></tr><tr><td>dbfs:/FileStore/tables/person-2.json</td><td>person-2.json</td><td>4616</td><td>1718610165000</td></tr><tr><td>dbfs:/FileStore/tables/person.json</td><td>person.json</td><td>4616</td><td>1718609425000</td></tr><tr><td>dbfs:/FileStore/tables/posexplode.txt</td><td>posexplode.txt</td><td>264</td><td>1718525465000</td></tr><tr><td>dbfs:/FileStore/tables/singleline-1.json</td><td>singleline-1.json</td><td>1000</td><td>1725857789000</td></tr><tr><td>dbfs:/FileStore/tables/singleline-2.json</td><td>singleline-2.json</td><td>999</td><td>1725858047000</td></tr><tr><td>dbfs:/FileStore/tables/singleline-3.json</td><td>singleline-3.json</td><td>1003</td><td>1725858173000</td></tr><tr><td>dbfs:/FileStore/tables/singleline-4.json</td><td>singleline-4.json</td><td>1004</td><td>1725858244000</td></tr><tr><td>dbfs:/FileStore/tables/singleline-5.json</td><td>singleline-5.json</td><td>1006</td><td>1725858294000</td></tr><tr><td>dbfs:/FileStore/tables/singleline-6.json</td><td>singleline-6.json</td><td>1006</td><td>1725858459000</td></tr><tr><td>dbfs:/FileStore/tables/singleline.json</td><td>singleline.json</td><td>1006</td><td>1725856537000</td></tr><tr><td>dbfs:/FileStore/tables/singlelineList.json</td><td>singlelineList.json</td><td>1032</td><td>1725892526000</td></tr><tr><td>dbfs:/FileStore/tables/singleline_nested-1.json</td><td>singleline_nested-1.json</td><td>1388</td><td>1725883300000</td></tr><tr><td>dbfs:/FileStore/tables/singleline_nested.json</td><td>singleline_nested.json</td><td>1096</td><td>1725870020000</td></tr><tr><td>dbfs:/FileStore/tables/split.txt</td><td>split.txt</td><td>390</td><td>1721625608000</td></tr><tr><td>dbfs:/FileStore/tables/syntax.jpg</td><td>syntax.jpg</td><td>32647</td><td>1725976365000</td></tr><tr><td>dbfs:/FileStore/tables/timestamp_millis-1.csv</td><td>timestamp_millis-1.csv</td><td>7513</td><td>1725903371000</td></tr><tr><td>dbfs:/FileStore/tables/timestamp_millis-2.csv</td><td>timestamp_millis-2.csv</td><td>7513</td><td>1725903430000</td></tr><tr><td>dbfs:/FileStore/tables/timestamp_millis-3.csv</td><td>timestamp_millis-3.csv</td><td>8613</td><td>1725903701000</td></tr><tr><td>dbfs:/FileStore/tables/timestamp_millis.csv</td><td>timestamp_millis.csv</td><td>7533</td><td>1725903084000</td></tr><tr><td>dbfs:/FileStore/tables/titanic.csv</td><td>titanic.csv</td><td>60302</td><td>1717853233000</td></tr><tr><td>dbfs:/FileStore/tables/to_date.csv</td><td>to_date.csv</td><td>1923</td><td>1726112031000</td></tr><tr><td>dbfs:/FileStore/tables/to_json.csv</td><td>to_json.csv</td><td>50792</td><td>1726583981000</td></tr><tr><td>dbfs:/FileStore/tables/to_timestamp-1.csv</td><td>to_timestamp-1.csv</td><td>5536</td><td>1726303458000</td></tr><tr><td>dbfs:/FileStore/tables/to_timestamp-2.csv</td><td>to_timestamp-2.csv</td><td>5425</td><td>1726303695000</td></tr><tr><td>dbfs:/FileStore/tables/to_timestamp-3.csv</td><td>to_timestamp-3.csv</td><td>5545</td><td>1726304079000</td></tr><tr><td>dbfs:/FileStore/tables/to_timestamp.csv</td><td>to_timestamp.csv</td><td>6451</td><td>1726300120000</td></tr></tbody></table></div>"
      ]
     },
     "metadata": {
      "application/vnd.databricks.v1+output": {
       "addedWidgets": {},
       "aggData": [],
       "aggError": "",
       "aggOverflow": false,
       "aggSchema": [],
       "aggSeriesLimitReached": false,
       "aggType": "",
       "arguments": {},
       "columnCustomDisplayInfos": {},
       "data": [
        [
         "dbfs:/FileStore/tables/Flatten Nested Array.json",
         "Flatten Nested Array.json",
         3756,
         1718618620000
        ],
        [
         "dbfs:/FileStore/tables/MarketPrice-1.csv",
         "MarketPrice-1.csv",
         19528,
         1719656512000
        ],
        [
         "dbfs:/FileStore/tables/MarketPrice.csv",
         "MarketPrice.csv",
         19528,
         1719656208000
        ],
        [
         "dbfs:/FileStore/tables/MultiLineJSON.json/",
         "MultiLineJSON.json/",
         0,
         0
        ],
        [
         "dbfs:/FileStore/tables/MultiLineJSON01.json/",
         "MultiLineJSON01.json/",
         0,
         0
        ],
        [
         "dbfs:/FileStore/tables/MultiLineJSON1.json/",
         "MultiLineJSON1.json/",
         0,
         0
        ],
        [
         "dbfs:/FileStore/tables/MultiLineJSON123.json/",
         "MultiLineJSON123.json/",
         0,
         0
        ],
        [
         "dbfs:/FileStore/tables/MultiLineJSON2.json/",
         "MultiLineJSON2.json/",
         0,
         0
        ],
        [
         "dbfs:/FileStore/tables/Question7.csv",
         "Question7.csv",
         154,
         1725816645000
        ],
        [
         "dbfs:/FileStore/tables/RunningData_Rev02.csv",
         "RunningData_Rev02.csv",
         1222,
         1719810609000
        ],
        [
         "dbfs:/FileStore/tables/RunningData_Rev03.csv",
         "RunningData_Rev03.csv",
         1216,
         1719810946000
        ],
        [
         "dbfs:/FileStore/tables/SalesData_Rev02.csv",
         "SalesData_Rev02.csv",
         472,
         1719810784000
        ],
        [
         "dbfs:/FileStore/tables/SalesData_Rev03.csv",
         "SalesData_Rev03.csv",
         460,
         1719810973000
        ],
        [
         "dbfs:/FileStore/tables/Sales_Collect.csv",
         "Sales_Collect.csv",
         182972,
         1720293547000
        ],
        [
         "dbfs:/FileStore/tables/Sales_Collect_Rev02.csv",
         "Sales_Collect_Rev02.csv",
         166107,
         1719810826000
        ],
        [
         "dbfs:/FileStore/tables/Sales_Collect_Rev03.csv",
         "Sales_Collect_Rev03.csv",
         182828,
         1719811001000
        ],
        [
         "dbfs:/FileStore/tables/StructType-1.csv",
         "StructType-1.csv",
         648,
         1717934508000
        ],
        [
         "dbfs:/FileStore/tables/StructType-2.csv",
         "StructType-2.csv",
         648,
         1717935891000
        ],
        [
         "dbfs:/FileStore/tables/StructType-3.csv",
         "StructType-3.csv",
         648,
         1717936009000
        ],
        [
         "dbfs:/FileStore/tables/StructType-4.csv",
         "StructType-4.csv",
         648,
         1717936144000
        ],
        [
         "dbfs:/FileStore/tables/StructType-5.csv",
         "StructType-5.csv",
         648,
         1717936276000
        ],
        [
         "dbfs:/FileStore/tables/StructType.csv",
         "StructType.csv",
         648,
         1717934306000
        ],
        [
         "dbfs:/FileStore/tables/booleantype-1.csv",
         "booleantype-1.csv",
         4670,
         1726837953000
        ],
        [
         "dbfs:/FileStore/tables/booleantype-2.csv",
         "booleantype-2.csv",
         5337,
         1726841165000
        ],
        [
         "dbfs:/FileStore/tables/booleantype-3.csv",
         "booleantype-3.csv",
         3167,
         1726843335000
        ],
        [
         "dbfs:/FileStore/tables/booleantype-4.csv",
         "booleantype-4.csv",
         2889,
         1726843641000
        ],
        [
         "dbfs:/FileStore/tables/booleantype-5.csv",
         "booleantype-5.csv",
         3164,
         1726851645000
        ],
        [
         "dbfs:/FileStore/tables/booleantype.csv",
         "booleantype.csv",
         4670,
         1726837542000
        ],
        [
         "dbfs:/FileStore/tables/cast_data.txt",
         "cast_data.txt",
         219,
         1720376019000
        ],
        [
         "dbfs:/FileStore/tables/current_date___current_user___current_timestamp__.csv",
         "current_date___current_user___current_timestamp__.csv",
         4040,
         1726313822000
        ],
        [
         "dbfs:/FileStore/tables/date_format-1.csv",
         "date_format-1.csv",
         1656,
         1725709118000
        ],
        [
         "dbfs:/FileStore/tables/date_format-2.csv",
         "date_format-2.csv",
         1923,
         1725709313000
        ],
        [
         "dbfs:/FileStore/tables/date_format.csv",
         "date_format.csv",
         1119,
         1725645247000
        ],
        [
         "dbfs:/FileStore/tables/from_unixtime-1.csv",
         "from_unixtime-1.csv",
         9523,
         1725903833000
        ],
        [
         "dbfs:/FileStore/tables/from_unixtime.csv",
         "from_unixtime.csv",
         9523,
         1725901373000
        ],
        [
         "dbfs:/FileStore/tables/iterate_columns.csv",
         "iterate_columns.csv",
         2023849,
         1719767610000
        ],
        [
         "dbfs:/FileStore/tables/multiline.json",
         "multiline.json",
         1262,
         1725858755000
        ],
        [
         "dbfs:/FileStore/tables/multiline.txt",
         "multiline.txt",
         178,
         1721655243000
        ],
        [
         "dbfs:/FileStore/tables/multiline_nested-1.json",
         "multiline_nested-1.json",
         2233,
         1725884748000
        ],
        [
         "dbfs:/FileStore/tables/multiline_nested.json",
         "multiline_nested.json",
         1731,
         1725870338000
        ],
        [
         "dbfs:/FileStore/tables/person-1.json",
         "person-1.json",
         4608,
         1718609578000
        ],
        [
         "dbfs:/FileStore/tables/person-2.json",
         "person-2.json",
         4616,
         1718610165000
        ],
        [
         "dbfs:/FileStore/tables/person.json",
         "person.json",
         4616,
         1718609425000
        ],
        [
         "dbfs:/FileStore/tables/posexplode.txt",
         "posexplode.txt",
         264,
         1718525465000
        ],
        [
         "dbfs:/FileStore/tables/singleline-1.json",
         "singleline-1.json",
         1000,
         1725857789000
        ],
        [
         "dbfs:/FileStore/tables/singleline-2.json",
         "singleline-2.json",
         999,
         1725858047000
        ],
        [
         "dbfs:/FileStore/tables/singleline-3.json",
         "singleline-3.json",
         1003,
         1725858173000
        ],
        [
         "dbfs:/FileStore/tables/singleline-4.json",
         "singleline-4.json",
         1004,
         1725858244000
        ],
        [
         "dbfs:/FileStore/tables/singleline-5.json",
         "singleline-5.json",
         1006,
         1725858294000
        ],
        [
         "dbfs:/FileStore/tables/singleline-6.json",
         "singleline-6.json",
         1006,
         1725858459000
        ],
        [
         "dbfs:/FileStore/tables/singleline.json",
         "singleline.json",
         1006,
         1725856537000
        ],
        [
         "dbfs:/FileStore/tables/singlelineList.json",
         "singlelineList.json",
         1032,
         1725892526000
        ],
        [
         "dbfs:/FileStore/tables/singleline_nested-1.json",
         "singleline_nested-1.json",
         1388,
         1725883300000
        ],
        [
         "dbfs:/FileStore/tables/singleline_nested.json",
         "singleline_nested.json",
         1096,
         1725870020000
        ],
        [
         "dbfs:/FileStore/tables/split.txt",
         "split.txt",
         390,
         1721625608000
        ],
        [
         "dbfs:/FileStore/tables/syntax.jpg",
         "syntax.jpg",
         32647,
         1725976365000
        ],
        [
         "dbfs:/FileStore/tables/timestamp_millis-1.csv",
         "timestamp_millis-1.csv",
         7513,
         1725903371000
        ],
        [
         "dbfs:/FileStore/tables/timestamp_millis-2.csv",
         "timestamp_millis-2.csv",
         7513,
         1725903430000
        ],
        [
         "dbfs:/FileStore/tables/timestamp_millis-3.csv",
         "timestamp_millis-3.csv",
         8613,
         1725903701000
        ],
        [
         "dbfs:/FileStore/tables/timestamp_millis.csv",
         "timestamp_millis.csv",
         7533,
         1725903084000
        ],
        [
         "dbfs:/FileStore/tables/titanic.csv",
         "titanic.csv",
         60302,
         1717853233000
        ],
        [
         "dbfs:/FileStore/tables/to_date.csv",
         "to_date.csv",
         1923,
         1726112031000
        ],
        [
         "dbfs:/FileStore/tables/to_json.csv",
         "to_json.csv",
         50792,
         1726583981000
        ],
        [
         "dbfs:/FileStore/tables/to_timestamp-1.csv",
         "to_timestamp-1.csv",
         5536,
         1726303458000
        ],
        [
         "dbfs:/FileStore/tables/to_timestamp-2.csv",
         "to_timestamp-2.csv",
         5425,
         1726303695000
        ],
        [
         "dbfs:/FileStore/tables/to_timestamp-3.csv",
         "to_timestamp-3.csv",
         5545,
         1726304079000
        ],
        [
         "dbfs:/FileStore/tables/to_timestamp.csv",
         "to_timestamp.csv",
         6451,
         1726300120000
        ]
       ],
       "datasetInfos": [],
       "dbfsResultPath": null,
       "isJsonSchema": true,
       "metadata": {
        "isDbfsCommandResult": false
       },
       "overflow": false,
       "plotOptions": {
        "customPlotOptions": {},
        "displayType": "table",
        "pivotAggregation": null,
        "pivotColumns": null,
        "xColumns": null,
        "yColumns": null
       },
       "removedWidgets": [],
       "schema": [
        {
         "metadata": "{}",
         "name": "path",
         "type": "\"string\""
        },
        {
         "metadata": "{}",
         "name": "name",
         "type": "\"string\""
        },
        {
         "metadata": "{}",
         "name": "size",
         "type": "\"long\""
        },
        {
         "metadata": "{}",
         "name": "modificationTime",
         "type": "\"long\""
        }
       ],
       "type": "table"
      }
     },
     "output_type": "display_data"
    }
   ],
   "source": [
    "%fs ls /FileStore/tables"
   ]
  },
  {
   "cell_type": "code",
   "execution_count": 0,
   "metadata": {
    "application/vnd.databricks.v1+cell": {
     "cellMetadata": {
      "byteLimit": 2048000,
      "rowLimit": 10000
     },
     "inputWidgets": {},
     "nuid": "0a353da0-0948-4c18-82fb-add600a714b0",
     "showTitle": false,
     "title": ""
    }
   },
   "outputs": [
    {
     "output_type": "display_data",
     "data": {
      "text/html": [
       "<style scoped>\n",
       "  .table-result-container {\n",
       "    max-height: 300px;\n",
       "    overflow: auto;\n",
       "  }\n",
       "  table, th, td {\n",
       "    border: 1px solid black;\n",
       "    border-collapse: collapse;\n",
       "  }\n",
       "  th, td {\n",
       "    padding: 5px;\n",
       "  }\n",
       "  th {\n",
       "    text-align: left;\n",
       "  }\n",
       "</style><div class='table-result-container'><table class='table-result'><thead style='background-color: white'><tr><th>Name</th><th>Boolean</th><th>Sensex_Category</th><th>Course_Name</th><th>Effective_Date</th><th>Start_Date</th><th>Graduated</th><th>Salary</th></tr></thead><tbody><tr><td>Amit</td><td>0</td><td>Top</td><td>python</td><td>6-Feb-23</td><td>14-Jan-23</td><td>true</td><td>1598000</td></tr><tr><td>Shikhar</td><td>1</td><td>Top</td><td>Data Science</td><td>6-Feb-23</td><td>14-Jan-23</td><td>false</td><td>98756078</td></tr><tr><td>Shivani</td><td>0</td><td>Top</td><td>Accounting</td><td>8-Jan-24</td><td>7-Oct-23</td><td>true</td><td>3550000</td></tr><tr><td>Pooja</td><td>1</td><td>Top</td><td>Soft skills</td><td>8-Jan-24</td><td>7-Oct-23</td><td>true</td><td>98760432</td></tr><tr><td>Vinay</td><td>0</td><td>Top</td><td>ADF</td><td>6-Mar-23</td><td>7-Feb-23</td><td>false</td><td>99803421</td></tr><tr><td>Sharma</td><td>1</td><td>Top</td><td>ADB</td><td>6-Mar-23</td><td>7-Feb-23</td><td>true</td><td>33240000</td></tr><tr><td>Sonu</td><td>1</td><td>Top</td><td>ML</td><td>6-Jan-25</td><td>9-Jan-24</td><td>true</td><td>15670000</td></tr><tr><td>Rakesh</td><td>0</td><td>Top</td><td>databricks</td><td>6-Jan-25</td><td>9-Jan-24</td><td>true</td><td>1598000</td></tr><tr><td>Roshan</td><td>1</td><td>Top</td><td>Soft skills</td><td>6-Apr-23</td><td>7-Mar-23</td><td>true</td><td>18894320</td></tr><tr><td>Rithvik</td><td>1</td><td>Top</td><td>python</td><td>6-Apr-23</td><td>7-Mar-23</td><td>true</td><td>3550000</td></tr></tbody></table></div>"
      ]
     },
     "metadata": {
      "application/vnd.databricks.v1+output": {
       "addedWidgets": {},
       "aggData": [],
       "aggError": "",
       "aggOverflow": false,
       "aggSchema": [],
       "aggSeriesLimitReached": false,
       "aggType": "",
       "arguments": {},
       "columnCustomDisplayInfos": {},
       "data": [
        [
         "Amit",
         0,
         "Top",
         "python",
         "6-Feb-23",
         "14-Jan-23",
         true,
         1598000
        ],
        [
         "Shikhar",
         1,
         "Top",
         "Data Science",
         "6-Feb-23",
         "14-Jan-23",
         false,
         98756078
        ],
        [
         "Shivani",
         0,
         "Top",
         "Accounting",
         "8-Jan-24",
         "7-Oct-23",
         true,
         3550000
        ],
        [
         "Pooja",
         1,
         "Top",
         "Soft skills",
         "8-Jan-24",
         "7-Oct-23",
         true,
         98760432
        ],
        [
         "Vinay",
         0,
         "Top",
         "ADF",
         "6-Mar-23",
         "7-Feb-23",
         false,
         99803421
        ],
        [
         "Sharma",
         1,
         "Top",
         "ADB",
         "6-Mar-23",
         "7-Feb-23",
         true,
         33240000
        ],
        [
         "Sonu",
         1,
         "Top",
         "ML",
         "6-Jan-25",
         "9-Jan-24",
         true,
         15670000
        ],
        [
         "Rakesh",
         0,
         "Top",
         "databricks",
         "6-Jan-25",
         "9-Jan-24",
         true,
         1598000
        ],
        [
         "Roshan",
         1,
         "Top",
         "Soft skills",
         "6-Apr-23",
         "7-Mar-23",
         true,
         18894320
        ],
        [
         "Rithvik",
         1,
         "Top",
         "python",
         "6-Apr-23",
         "7-Mar-23",
         true,
         3550000
        ]
       ],
       "datasetInfos": [],
       "dbfsResultPath": null,
       "isJsonSchema": true,
       "metadata": {},
       "overflow": false,
       "plotOptions": {
        "customPlotOptions": {},
        "displayType": "table",
        "pivotAggregation": null,
        "pivotColumns": null,
        "xColumns": null,
        "yColumns": null
       },
       "removedWidgets": [],
       "schema": [
        {
         "metadata": "{}",
         "name": "Name",
         "type": "\"string\""
        },
        {
         "metadata": "{}",
         "name": "Boolean",
         "type": "\"integer\""
        },
        {
         "metadata": "{}",
         "name": "Sensex_Category",
         "type": "\"string\""
        },
        {
         "metadata": "{}",
         "name": "Course_Name",
         "type": "\"string\""
        },
        {
         "metadata": "{}",
         "name": "Effective_Date",
         "type": "\"string\""
        },
        {
         "metadata": "{}",
         "name": "Start_Date",
         "type": "\"string\""
        },
        {
         "metadata": "{}",
         "name": "Graduated",
         "type": "\"boolean\""
        },
        {
         "metadata": "{}",
         "name": "Salary",
         "type": "\"integer\""
        }
       ],
       "type": "table"
      }
     },
     "output_type": "display_data"
    }
   ],
   "source": [
    "df = spark.read.csv(\"dbfs:/FileStore/tables/booleantype-4.csv\", header=True, inferSchema=True)\n",
    "display(df.limit(10))"
   ]
  },
  {
   "cell_type": "code",
   "execution_count": 0,
   "metadata": {
    "application/vnd.databricks.v1+cell": {
     "cellMetadata": {
      "byteLimit": 2048000,
      "rowLimit": 10000
     },
     "inputWidgets": {},
     "nuid": "ee88c413-7e6a-4a1d-a445-0da38e39b42b",
     "showTitle": false,
     "title": ""
    }
   },
   "outputs": [],
   "source": [
    "from pyspark.sql.functions import col, when, desc, asc\n",
    "from pyspark.sql.types import BooleanType\n",
    "import pyspark.sql.functions as F"
   ]
  },
  {
   "cell_type": "markdown",
   "metadata": {
    "application/vnd.databricks.v1+cell": {
     "cellMetadata": {},
     "inputWidgets": {},
     "nuid": "006bf4f9-f84b-44df-b879-306aca8b6e32",
     "showTitle": false,
     "title": ""
    }
   },
   "source": [
    "#### **How to count a boolean in grouped data**"
   ]
  },
  {
   "cell_type": "code",
   "execution_count": 0,
   "metadata": {
    "application/vnd.databricks.v1+cell": {
     "cellMetadata": {
      "byteLimit": 2048000,
      "rowLimit": 10000
     },
     "inputWidgets": {},
     "nuid": "673c7f0a-187c-4a5a-8a77-58ec6d63afbb",
     "showTitle": false,
     "title": ""
    }
   },
   "outputs": [
    {
     "output_type": "display_data",
     "data": {
      "text/html": [
       "<style scoped>\n",
       "  .table-result-container {\n",
       "    max-height: 300px;\n",
       "    overflow: auto;\n",
       "  }\n",
       "  table, th, td {\n",
       "    border: 1px solid black;\n",
       "    border-collapse: collapse;\n",
       "  }\n",
       "  th, td {\n",
       "    padding: 5px;\n",
       "  }\n",
       "  th {\n",
       "    text-align: left;\n",
       "  }\n",
       "</style><div class='table-result-container'><table class='table-result'><thead style='background-color: white'><tr><th>Course_Name</th><th>round(avg(Salary), 2)</th><th>Count_Graduated</th></tr></thead><tbody><tr><td>ADB</td><td>6.225696867E7</td><td>3</td></tr><tr><td>ADF</td><td>7.436634033E7</td><td>3</td></tr><tr><td>Accounting</td><td>2.461736667E7</td><td>3</td></tr><tr><td>Azure</td><td>4.032433333E7</td><td>3</td></tr><tr><td>DEVOPS</td><td>2.247575E8</td><td>4</td></tr><tr><td>Data Science</td><td>7.691869267E7</td><td>3</td></tr><tr><td>GIT</td><td>8.6602E7</td><td>3</td></tr><tr><td>ML</td><td>6.745783333E7</td><td>3</td></tr><tr><td>PySpark</td><td>3.814256667E7</td><td>3</td></tr><tr><td>Soft skills</td><td>5.697925367E7</td><td>6</td></tr><tr><td>aws</td><td>3.1880220267E8</td><td>3</td></tr><tr><td>databricks</td><td>3.677116667E7</td><td>3</td></tr><tr><td>python</td><td>1.314511429E7</td><td>7</td></tr><tr><td>salesforce</td><td>5.6263181E7</td><td>3</td></tr></tbody></table></div>"
      ]
     },
     "metadata": {
      "application/vnd.databricks.v1+output": {
       "addedWidgets": {},
       "aggData": [],
       "aggError": "",
       "aggOverflow": false,
       "aggSchema": [],
       "aggSeriesLimitReached": false,
       "aggType": "",
       "arguments": {},
       "columnCustomDisplayInfos": {},
       "data": [
        [
         "ADB",
         6.225696867E7,
         3
        ],
        [
         "ADF",
         7.436634033E7,
         3
        ],
        [
         "Accounting",
         2.461736667E7,
         3
        ],
        [
         "Azure",
         4.032433333E7,
         3
        ],
        [
         "DEVOPS",
         2.247575E8,
         4
        ],
        [
         "Data Science",
         7.691869267E7,
         3
        ],
        [
         "GIT",
         8.6602E7,
         3
        ],
        [
         "ML",
         6.745783333E7,
         3
        ],
        [
         "PySpark",
         3.814256667E7,
         3
        ],
        [
         "Soft skills",
         5.697925367E7,
         6
        ],
        [
         "aws",
         3.1880220267E8,
         3
        ],
        [
         "databricks",
         3.677116667E7,
         3
        ],
        [
         "python",
         1.314511429E7,
         7
        ],
        [
         "salesforce",
         5.6263181E7,
         3
        ]
       ],
       "datasetInfos": [],
       "dbfsResultPath": null,
       "isJsonSchema": true,
       "metadata": {},
       "overflow": false,
       "plotOptions": {
        "customPlotOptions": {},
        "displayType": "table",
        "pivotAggregation": null,
        "pivotColumns": null,
        "xColumns": null,
        "yColumns": null
       },
       "removedWidgets": [],
       "schema": [
        {
         "metadata": "{}",
         "name": "Course_Name",
         "type": "\"string\""
        },
        {
         "metadata": "{}",
         "name": "round(avg(Salary), 2)",
         "type": "\"double\""
        },
        {
         "metadata": "{}",
         "name": "Count_Graduated",
         "type": "\"long\""
        }
       ],
       "type": "table"
      }
     },
     "output_type": "display_data"
    }
   ],
   "source": [
    "df_agg = df.groupBy(\"Course_Name\").agg(F.round(F.avg('Salary'),2), F.count('Graduated').alias('Count_Graduated'))\n",
    "display(df_agg.orderBy(asc('Course_Name')))"
   ]
  },
  {
   "cell_type": "markdown",
   "metadata": {
    "application/vnd.databricks.v1+cell": {
     "cellMetadata": {},
     "inputWidgets": {},
     "nuid": "42103055-00a8-4491-8fe4-f4ea588c6fac",
     "showTitle": false,
     "title": ""
    }
   },
   "source": [
    "#### **1) convert integer (data type) to boolean (data type)**"
   ]
  },
  {
   "cell_type": "code",
   "execution_count": 0,
   "metadata": {
    "application/vnd.databricks.v1+cell": {
     "cellMetadata": {
      "byteLimit": 2048000,
      "rowLimit": 10000
     },
     "inputWidgets": {},
     "nuid": "1972d0a1-295a-417d-845f-aea90296bd1f",
     "showTitle": false,
     "title": ""
    }
   },
   "outputs": [
    {
     "output_type": "display_data",
     "data": {
      "text/html": [
       "<style scoped>\n",
       "  .table-result-container {\n",
       "    max-height: 300px;\n",
       "    overflow: auto;\n",
       "  }\n",
       "  table, th, td {\n",
       "    border: 1px solid black;\n",
       "    border-collapse: collapse;\n",
       "  }\n",
       "  th, td {\n",
       "    padding: 5px;\n",
       "  }\n",
       "  th {\n",
       "    text-align: left;\n",
       "  }\n",
       "</style><div class='table-result-container'><table class='table-result'><thead style='background-color: white'><tr><th>Name</th><th>Boolean</th><th>Sensex_Category</th><th>Course_Name</th><th>Effective_Date</th><th>Start_Date</th><th>Graduated</th><th>Salary</th></tr></thead><tbody><tr><td>Amit</td><td>false</td><td>Top</td><td>python</td><td>6-Feb-23</td><td>14-Jan-23</td><td>true</td><td>1598000</td></tr><tr><td>Shikhar</td><td>true</td><td>Top</td><td>Data Science</td><td>6-Feb-23</td><td>14-Jan-23</td><td>false</td><td>98756078</td></tr><tr><td>Shivani</td><td>false</td><td>Top</td><td>Accounting</td><td>8-Jan-24</td><td>7-Oct-23</td><td>true</td><td>3550000</td></tr><tr><td>Pooja</td><td>true</td><td>Top</td><td>Soft skills</td><td>8-Jan-24</td><td>7-Oct-23</td><td>true</td><td>98760432</td></tr><tr><td>Vinay</td><td>false</td><td>Top</td><td>ADF</td><td>6-Mar-23</td><td>7-Feb-23</td><td>false</td><td>99803421</td></tr><tr><td>Sharma</td><td>true</td><td>Top</td><td>ADB</td><td>6-Mar-23</td><td>7-Feb-23</td><td>true</td><td>33240000</td></tr><tr><td>Sonu</td><td>true</td><td>Top</td><td>ML</td><td>6-Jan-25</td><td>9-Jan-24</td><td>true</td><td>15670000</td></tr><tr><td>Rakesh</td><td>false</td><td>Top</td><td>databricks</td><td>6-Jan-25</td><td>9-Jan-24</td><td>true</td><td>1598000</td></tr><tr><td>Roshan</td><td>true</td><td>Top</td><td>Soft skills</td><td>6-Apr-23</td><td>7-Mar-23</td><td>true</td><td>18894320</td></tr><tr><td>Rithvik</td><td>true</td><td>Top</td><td>python</td><td>6-Apr-23</td><td>7-Mar-23</td><td>true</td><td>3550000</td></tr></tbody></table></div>"
      ]
     },
     "metadata": {
      "application/vnd.databricks.v1+output": {
       "addedWidgets": {},
       "aggData": [],
       "aggError": "",
       "aggOverflow": false,
       "aggSchema": [],
       "aggSeriesLimitReached": false,
       "aggType": "",
       "arguments": {},
       "columnCustomDisplayInfos": {},
       "data": [
        [
         "Amit",
         false,
         "Top",
         "python",
         "6-Feb-23",
         "14-Jan-23",
         true,
         1598000
        ],
        [
         "Shikhar",
         true,
         "Top",
         "Data Science",
         "6-Feb-23",
         "14-Jan-23",
         false,
         98756078
        ],
        [
         "Shivani",
         false,
         "Top",
         "Accounting",
         "8-Jan-24",
         "7-Oct-23",
         true,
         3550000
        ],
        [
         "Pooja",
         true,
         "Top",
         "Soft skills",
         "8-Jan-24",
         "7-Oct-23",
         true,
         98760432
        ],
        [
         "Vinay",
         false,
         "Top",
         "ADF",
         "6-Mar-23",
         "7-Feb-23",
         false,
         99803421
        ],
        [
         "Sharma",
         true,
         "Top",
         "ADB",
         "6-Mar-23",
         "7-Feb-23",
         true,
         33240000
        ],
        [
         "Sonu",
         true,
         "Top",
         "ML",
         "6-Jan-25",
         "9-Jan-24",
         true,
         15670000
        ],
        [
         "Rakesh",
         false,
         "Top",
         "databricks",
         "6-Jan-25",
         "9-Jan-24",
         true,
         1598000
        ],
        [
         "Roshan",
         true,
         "Top",
         "Soft skills",
         "6-Apr-23",
         "7-Mar-23",
         true,
         18894320
        ],
        [
         "Rithvik",
         true,
         "Top",
         "python",
         "6-Apr-23",
         "7-Mar-23",
         true,
         3550000
        ]
       ],
       "datasetInfos": [],
       "dbfsResultPath": null,
       "isJsonSchema": true,
       "metadata": {},
       "overflow": false,
       "plotOptions": {
        "customPlotOptions": {},
        "displayType": "table",
        "pivotAggregation": null,
        "pivotColumns": null,
        "xColumns": null,
        "yColumns": null
       },
       "removedWidgets": [],
       "schema": [
        {
         "metadata": "{}",
         "name": "Name",
         "type": "\"string\""
        },
        {
         "metadata": "{}",
         "name": "Boolean",
         "type": "\"boolean\""
        },
        {
         "metadata": "{}",
         "name": "Sensex_Category",
         "type": "\"string\""
        },
        {
         "metadata": "{}",
         "name": "Course_Name",
         "type": "\"string\""
        },
        {
         "metadata": "{}",
         "name": "Effective_Date",
         "type": "\"string\""
        },
        {
         "metadata": "{}",
         "name": "Start_Date",
         "type": "\"string\""
        },
        {
         "metadata": "{}",
         "name": "Graduated",
         "type": "\"boolean\""
        },
        {
         "metadata": "{}",
         "name": "Salary",
         "type": "\"integer\""
        }
       ],
       "type": "table"
      }
     },
     "output_type": "display_data"
    }
   ],
   "source": [
    "df_cast = df.withColumn(\"Boolean\", col(\"Boolean\").cast(BooleanType()))\n",
    "display(df_cast.limit(10))"
   ]
  },
  {
   "cell_type": "markdown",
   "metadata": {
    "application/vnd.databricks.v1+cell": {
     "cellMetadata": {},
     "inputWidgets": {},
     "nuid": "3e1e90c5-18e5-4ca6-939a-3ca5677683f9",
     "showTitle": false,
     "title": ""
    }
   },
   "source": [
    "#### **2) Filter a dataframe by a boolean column**"
   ]
  },
  {
   "cell_type": "code",
   "execution_count": 0,
   "metadata": {
    "application/vnd.databricks.v1+cell": {
     "cellMetadata": {
      "byteLimit": 2048000,
      "rowLimit": 10000
     },
     "inputWidgets": {},
     "nuid": "6334cb7d-de67-46e0-bf84-4dbb2a660943",
     "showTitle": false,
     "title": ""
    }
   },
   "outputs": [
    {
     "output_type": "display_data",
     "data": {
      "text/html": [
       "<style scoped>\n",
       "  .table-result-container {\n",
       "    max-height: 300px;\n",
       "    overflow: auto;\n",
       "  }\n",
       "  table, th, td {\n",
       "    border: 1px solid black;\n",
       "    border-collapse: collapse;\n",
       "  }\n",
       "  th, td {\n",
       "    padding: 5px;\n",
       "  }\n",
       "  th {\n",
       "    text-align: left;\n",
       "  }\n",
       "</style><div class='table-result-container'><table class='table-result'><thead style='background-color: white'><tr><th>Name</th><th>Boolean</th><th>Sensex_Category</th><th>Course_Name</th><th>Effective_Date</th><th>Start_Date</th><th>Graduated</th><th>Salary</th></tr></thead><tbody><tr><td>Amit</td><td>false</td><td>Top</td><td>python</td><td>6-Feb-23</td><td>14-Jan-23</td><td>true</td><td>1598000</td></tr><tr><td>Shivani</td><td>false</td><td>Top</td><td>Accounting</td><td>8-Jan-24</td><td>7-Oct-23</td><td>true</td><td>3550000</td></tr><tr><td>Pooja</td><td>true</td><td>Top</td><td>Soft skills</td><td>8-Jan-24</td><td>7-Oct-23</td><td>true</td><td>98760432</td></tr><tr><td>Sharma</td><td>true</td><td>Top</td><td>ADB</td><td>6-Mar-23</td><td>7-Feb-23</td><td>true</td><td>33240000</td></tr><tr><td>Sonu</td><td>true</td><td>Top</td><td>ML</td><td>6-Jan-25</td><td>9-Jan-24</td><td>true</td><td>15670000</td></tr><tr><td>Rakesh</td><td>false</td><td>Top</td><td>databricks</td><td>6-Jan-25</td><td>9-Jan-24</td><td>true</td><td>1598000</td></tr><tr><td>Roshan</td><td>true</td><td>Top</td><td>Soft skills</td><td>6-Apr-23</td><td>7-Mar-23</td><td>true</td><td>18894320</td></tr><tr><td>Rithvik</td><td>true</td><td>Top</td><td>python</td><td>6-Apr-23</td><td>7-Mar-23</td><td>true</td><td>3550000</td></tr><tr><td>Sreedhar</td><td>false</td><td>Top</td><td>Azure</td><td>6-Jul-23</td><td>7-Apr-23</td><td>true</td><td>15670000</td></tr><tr><td>Vikas</td><td>true</td><td>Social</td><td>Data Science</td><td>6-Jan-23</td><td>4-Jan-23</td><td>true</td><td>98760000</td></tr></tbody></table></div>"
      ]
     },
     "metadata": {
      "application/vnd.databricks.v1+output": {
       "addedWidgets": {},
       "aggData": [],
       "aggError": "",
       "aggOverflow": false,
       "aggSchema": [],
       "aggSeriesLimitReached": false,
       "aggType": "",
       "arguments": {},
       "columnCustomDisplayInfos": {},
       "data": [
        [
         "Amit",
         false,
         "Top",
         "python",
         "6-Feb-23",
         "14-Jan-23",
         true,
         1598000
        ],
        [
         "Shivani",
         false,
         "Top",
         "Accounting",
         "8-Jan-24",
         "7-Oct-23",
         true,
         3550000
        ],
        [
         "Pooja",
         true,
         "Top",
         "Soft skills",
         "8-Jan-24",
         "7-Oct-23",
         true,
         98760432
        ],
        [
         "Sharma",
         true,
         "Top",
         "ADB",
         "6-Mar-23",
         "7-Feb-23",
         true,
         33240000
        ],
        [
         "Sonu",
         true,
         "Top",
         "ML",
         "6-Jan-25",
         "9-Jan-24",
         true,
         15670000
        ],
        [
         "Rakesh",
         false,
         "Top",
         "databricks",
         "6-Jan-25",
         "9-Jan-24",
         true,
         1598000
        ],
        [
         "Roshan",
         true,
         "Top",
         "Soft skills",
         "6-Apr-23",
         "7-Mar-23",
         true,
         18894320
        ],
        [
         "Rithvik",
         true,
         "Top",
         "python",
         "6-Apr-23",
         "7-Mar-23",
         true,
         3550000
        ],
        [
         "Sreedhar",
         false,
         "Top",
         "Azure",
         "6-Jul-23",
         "7-Apr-23",
         true,
         15670000
        ],
        [
         "Vikas",
         true,
         "Social",
         "Data Science",
         "6-Jan-23",
         "4-Jan-23",
         true,
         98760000
        ]
       ],
       "datasetInfos": [],
       "dbfsResultPath": null,
       "isJsonSchema": true,
       "metadata": {},
       "overflow": false,
       "plotOptions": {
        "customPlotOptions": {},
        "displayType": "table",
        "pivotAggregation": null,
        "pivotColumns": null,
        "xColumns": null,
        "yColumns": null
       },
       "removedWidgets": [],
       "schema": [
        {
         "metadata": "{}",
         "name": "Name",
         "type": "\"string\""
        },
        {
         "metadata": "{}",
         "name": "Boolean",
         "type": "\"boolean\""
        },
        {
         "metadata": "{}",
         "name": "Sensex_Category",
         "type": "\"string\""
        },
        {
         "metadata": "{}",
         "name": "Course_Name",
         "type": "\"string\""
        },
        {
         "metadata": "{}",
         "name": "Effective_Date",
         "type": "\"string\""
        },
        {
         "metadata": "{}",
         "name": "Start_Date",
         "type": "\"string\""
        },
        {
         "metadata": "{}",
         "name": "Graduated",
         "type": "\"boolean\""
        },
        {
         "metadata": "{}",
         "name": "Salary",
         "type": "\"integer\""
        }
       ],
       "type": "table"
      }
     },
     "output_type": "display_data"
    }
   ],
   "source": [
    "df_filter = df_cast.filter(col('Graduated') == True)\n",
    "display(df_filter.limit(10))"
   ]
  },
  {
   "cell_type": "code",
   "execution_count": 0,
   "metadata": {
    "application/vnd.databricks.v1+cell": {
     "cellMetadata": {
      "byteLimit": 2048000,
      "rowLimit": 10000
     },
     "inputWidgets": {},
     "nuid": "52721eea-2526-481d-962e-fc3e48beef18",
     "showTitle": false,
     "title": ""
    }
   },
   "outputs": [
    {
     "output_type": "display_data",
     "data": {
      "text/html": [
       "<style scoped>\n",
       "  .table-result-container {\n",
       "    max-height: 300px;\n",
       "    overflow: auto;\n",
       "  }\n",
       "  table, th, td {\n",
       "    border: 1px solid black;\n",
       "    border-collapse: collapse;\n",
       "  }\n",
       "  th, td {\n",
       "    padding: 5px;\n",
       "  }\n",
       "  th {\n",
       "    text-align: left;\n",
       "  }\n",
       "</style><div class='table-result-container'><table class='table-result'><thead style='background-color: white'><tr><th>Name</th><th>Boolean</th><th>Sensex_Category</th><th>Course_Name</th><th>Effective_Date</th><th>Start_Date</th><th>Graduated</th><th>Salary</th><th>Boolean01</th><th>Boolean02</th><th>Boolean03</th><th>Boolean04</th><th>Boolean05</th><th>Boolean06</th></tr></thead><tbody><tr><td>Amit</td><td>false</td><td>Top</td><td>python</td><td>6-Feb-23</td><td>14-Jan-23</td><td>true</td><td>1598000</td><td>true</td><td>true</td><td>true</td><td>false</td><td>true</td><td>true</td></tr><tr><td>Shikhar</td><td>true</td><td>Top</td><td>Data Science</td><td>6-Feb-23</td><td>14-Jan-23</td><td>false</td><td>98756078</td><td>true</td><td>true</td><td>true</td><td>false</td><td>true</td><td>true</td></tr><tr><td>Shivani</td><td>false</td><td>Top</td><td>Accounting</td><td>8-Jan-24</td><td>7-Oct-23</td><td>true</td><td>3550000</td><td>true</td><td>true</td><td>true</td><td>false</td><td>true</td><td>true</td></tr><tr><td>Pooja</td><td>true</td><td>Top</td><td>Soft skills</td><td>8-Jan-24</td><td>7-Oct-23</td><td>true</td><td>98760432</td><td>true</td><td>true</td><td>true</td><td>false</td><td>true</td><td>true</td></tr><tr><td>Vinay</td><td>false</td><td>Top</td><td>ADF</td><td>6-Mar-23</td><td>7-Feb-23</td><td>false</td><td>99803421</td><td>true</td><td>true</td><td>true</td><td>false</td><td>true</td><td>true</td></tr><tr><td>Sharma</td><td>true</td><td>Top</td><td>ADB</td><td>6-Mar-23</td><td>7-Feb-23</td><td>true</td><td>33240000</td><td>true</td><td>true</td><td>true</td><td>false</td><td>true</td><td>true</td></tr><tr><td>Sonu</td><td>true</td><td>Top</td><td>ML</td><td>6-Jan-25</td><td>9-Jan-24</td><td>true</td><td>15670000</td><td>true</td><td>true</td><td>true</td><td>false</td><td>true</td><td>true</td></tr><tr><td>Rakesh</td><td>false</td><td>Top</td><td>databricks</td><td>6-Jan-25</td><td>9-Jan-24</td><td>true</td><td>1598000</td><td>true</td><td>true</td><td>true</td><td>false</td><td>true</td><td>true</td></tr><tr><td>Roshan</td><td>true</td><td>Top</td><td>Soft skills</td><td>6-Apr-23</td><td>7-Mar-23</td><td>true</td><td>18894320</td><td>true</td><td>true</td><td>true</td><td>false</td><td>true</td><td>true</td></tr><tr><td>Rithvik</td><td>true</td><td>Top</td><td>python</td><td>6-Apr-23</td><td>7-Mar-23</td><td>true</td><td>3550000</td><td>true</td><td>true</td><td>true</td><td>false</td><td>true</td><td>true</td></tr></tbody></table></div>"
      ]
     },
     "metadata": {
      "application/vnd.databricks.v1+output": {
       "addedWidgets": {},
       "aggData": [],
       "aggError": "",
       "aggOverflow": false,
       "aggSchema": [],
       "aggSeriesLimitReached": false,
       "aggType": "",
       "arguments": {},
       "columnCustomDisplayInfos": {},
       "data": [
        [
         "Amit",
         false,
         "Top",
         "python",
         "6-Feb-23",
         "14-Jan-23",
         true,
         1598000,
         true,
         true,
         true,
         false,
         true,
         true
        ],
        [
         "Shikhar",
         true,
         "Top",
         "Data Science",
         "6-Feb-23",
         "14-Jan-23",
         false,
         98756078,
         true,
         true,
         true,
         false,
         true,
         true
        ],
        [
         "Shivani",
         false,
         "Top",
         "Accounting",
         "8-Jan-24",
         "7-Oct-23",
         true,
         3550000,
         true,
         true,
         true,
         false,
         true,
         true
        ],
        [
         "Pooja",
         true,
         "Top",
         "Soft skills",
         "8-Jan-24",
         "7-Oct-23",
         true,
         98760432,
         true,
         true,
         true,
         false,
         true,
         true
        ],
        [
         "Vinay",
         false,
         "Top",
         "ADF",
         "6-Mar-23",
         "7-Feb-23",
         false,
         99803421,
         true,
         true,
         true,
         false,
         true,
         true
        ],
        [
         "Sharma",
         true,
         "Top",
         "ADB",
         "6-Mar-23",
         "7-Feb-23",
         true,
         33240000,
         true,
         true,
         true,
         false,
         true,
         true
        ],
        [
         "Sonu",
         true,
         "Top",
         "ML",
         "6-Jan-25",
         "9-Jan-24",
         true,
         15670000,
         true,
         true,
         true,
         false,
         true,
         true
        ],
        [
         "Rakesh",
         false,
         "Top",
         "databricks",
         "6-Jan-25",
         "9-Jan-24",
         true,
         1598000,
         true,
         true,
         true,
         false,
         true,
         true
        ],
        [
         "Roshan",
         true,
         "Top",
         "Soft skills",
         "6-Apr-23",
         "7-Mar-23",
         true,
         18894320,
         true,
         true,
         true,
         false,
         true,
         true
        ],
        [
         "Rithvik",
         true,
         "Top",
         "python",
         "6-Apr-23",
         "7-Mar-23",
         true,
         3550000,
         true,
         true,
         true,
         false,
         true,
         true
        ]
       ],
       "datasetInfos": [],
       "dbfsResultPath": null,
       "isJsonSchema": true,
       "metadata": {},
       "overflow": false,
       "plotOptions": {
        "customPlotOptions": {},
        "displayType": "table",
        "pivotAggregation": null,
        "pivotColumns": null,
        "xColumns": null,
        "yColumns": null
       },
       "removedWidgets": [],
       "schema": [
        {
         "metadata": "{}",
         "name": "Name",
         "type": "\"string\""
        },
        {
         "metadata": "{}",
         "name": "Boolean",
         "type": "\"boolean\""
        },
        {
         "metadata": "{}",
         "name": "Sensex_Category",
         "type": "\"string\""
        },
        {
         "metadata": "{}",
         "name": "Course_Name",
         "type": "\"string\""
        },
        {
         "metadata": "{}",
         "name": "Effective_Date",
         "type": "\"string\""
        },
        {
         "metadata": "{}",
         "name": "Start_Date",
         "type": "\"string\""
        },
        {
         "metadata": "{}",
         "name": "Graduated",
         "type": "\"boolean\""
        },
        {
         "metadata": "{}",
         "name": "Salary",
         "type": "\"integer\""
        },
        {
         "metadata": "{}",
         "name": "Boolean01",
         "type": "\"boolean\""
        },
        {
         "metadata": "{}",
         "name": "Boolean02",
         "type": "\"boolean\""
        },
        {
         "metadata": "{}",
         "name": "Boolean03",
         "type": "\"boolean\""
        },
        {
         "metadata": "{}",
         "name": "Boolean04",
         "type": "\"boolean\""
        },
        {
         "metadata": "{}",
         "name": "Boolean05",
         "type": "\"boolean\""
        },
        {
         "metadata": "{}",
         "name": "Boolean06",
         "type": "\"boolean\""
        }
       ],
       "type": "table"
      }
     },
     "output_type": "display_data"
    }
   ],
   "source": [
    "df_bool = df_cast.withColumn(\"Boolean01\", F.lit(True))\\\n",
    "                 .withColumn(\"Boolean02\", F.lit(\"True\").cast('boolean'))\\\n",
    "                 .withColumn(\"Boolean03\", F.lit(1).cast('boolean'))\\\n",
    "                 .withColumn(\"Boolean04\", F.lit(0).cast('boolean'))\\\n",
    "                 .withColumn(\"Boolean05\", F.lit(\"T\").cast('boolean'))\\\n",
    "                 .withColumn(\"Boolean06\", F.lit(\"t\").cast('boolean'))\n",
    "\n",
    "display(df_bool.limit(10))"
   ]
  },
  {
   "cell_type": "markdown",
   "metadata": {
    "application/vnd.databricks.v1+cell": {
     "cellMetadata": {},
     "inputWidgets": {},
     "nuid": "7c1d45e0-47cd-4ab2-8f4d-75d63b5a33d7",
     "showTitle": false,
     "title": ""
    }
   },
   "source": [
    "#### **3) convert boolean (data type) to integer (data type)**"
   ]
  },
  {
   "cell_type": "code",
   "execution_count": 0,
   "metadata": {
    "application/vnd.databricks.v1+cell": {
     "cellMetadata": {
      "byteLimit": 2048000,
      "rowLimit": 10000
     },
     "inputWidgets": {},
     "nuid": "bcbe13d0-6d29-4982-af9f-21d6704069c8",
     "showTitle": false,
     "title": ""
    }
   },
   "outputs": [
    {
     "output_type": "display_data",
     "data": {
      "text/html": [
       "<style scoped>\n",
       "  .table-result-container {\n",
       "    max-height: 300px;\n",
       "    overflow: auto;\n",
       "  }\n",
       "  table, th, td {\n",
       "    border: 1px solid black;\n",
       "    border-collapse: collapse;\n",
       "  }\n",
       "  th, td {\n",
       "    padding: 5px;\n",
       "  }\n",
       "  th {\n",
       "    text-align: left;\n",
       "  }\n",
       "</style><div class='table-result-container'><table class='table-result'><thead style='background-color: white'><tr><th>Graduated</th><th>Graduated_int</th></tr></thead><tbody><tr><td>true</td><td>1</td></tr><tr><td>false</td><td>0</td></tr><tr><td>true</td><td>1</td></tr><tr><td>true</td><td>1</td></tr><tr><td>false</td><td>0</td></tr><tr><td>true</td><td>1</td></tr><tr><td>true</td><td>1</td></tr><tr><td>true</td><td>1</td></tr><tr><td>true</td><td>1</td></tr><tr><td>true</td><td>1</td></tr></tbody></table></div>"
      ]
     },
     "metadata": {
      "application/vnd.databricks.v1+output": {
       "addedWidgets": {},
       "aggData": [],
       "aggError": "",
       "aggOverflow": false,
       "aggSchema": [],
       "aggSeriesLimitReached": false,
       "aggType": "",
       "arguments": {},
       "columnCustomDisplayInfos": {},
       "data": [
        [
         true,
         1
        ],
        [
         false,
         0
        ],
        [
         true,
         1
        ],
        [
         true,
         1
        ],
        [
         false,
         0
        ],
        [
         true,
         1
        ],
        [
         true,
         1
        ],
        [
         true,
         1
        ],
        [
         true,
         1
        ],
        [
         true,
         1
        ]
       ],
       "datasetInfos": [],
       "dbfsResultPath": null,
       "isJsonSchema": true,
       "metadata": {},
       "overflow": false,
       "plotOptions": {
        "customPlotOptions": {},
        "displayType": "table",
        "pivotAggregation": null,
        "pivotColumns": null,
        "xColumns": null,
        "yColumns": null
       },
       "removedWidgets": [],
       "schema": [
        {
         "metadata": "{}",
         "name": "Graduated",
         "type": "\"boolean\""
        },
        {
         "metadata": "{}",
         "name": "Graduated_int",
         "type": "\"integer\""
        }
       ],
       "type": "table"
      }
     },
     "output_type": "display_data"
    }
   ],
   "source": [
    "from pyspark.sql.functions import when\n",
    "\n",
    "# convert Boolean column to integer column\n",
    "df_new = df_bool.withColumn('Graduated_int', when(df_bool.Graduated==True, 1).otherwise(0))\\\n",
    "                .select('Graduated', 'Graduated_int')\n",
    "\n",
    "# view new DataFrame\n",
    "display(df_new.limit(10))"
   ]
  },
  {
   "cell_type": "code",
   "execution_count": 0,
   "metadata": {
    "application/vnd.databricks.v1+cell": {
     "cellMetadata": {
      "byteLimit": 2048000,
      "rowLimit": 10000
     },
     "inputWidgets": {},
     "nuid": "67731dd8-7950-4862-bcea-7172b278b40c",
     "showTitle": false,
     "title": ""
    }
   },
   "outputs": [
    {
     "output_type": "display_data",
     "data": {
      "text/html": [
       "<style scoped>\n",
       "  .table-result-container {\n",
       "    max-height: 300px;\n",
       "    overflow: auto;\n",
       "  }\n",
       "  table, th, td {\n",
       "    border: 1px solid black;\n",
       "    border-collapse: collapse;\n",
       "  }\n",
       "  th, td {\n",
       "    padding: 5px;\n",
       "  }\n",
       "  th {\n",
       "    text-align: left;\n",
       "  }\n",
       "</style><div class='table-result-container'><table class='table-result'><thead style='background-color: white'><tr><th>Name</th><th>Boolean</th><th>Sensex_Category</th><th>Course_Name</th><th>Effective_Date</th><th>Start_Date</th><th>Graduated</th><th>Salary</th><th>Course_Name_int</th></tr></thead><tbody><tr><td>Amit</td><td>false</td><td>Top</td><td>python</td><td>6-Feb-23</td><td>14-Jan-23</td><td>true</td><td>1598000</td><td>true</td></tr><tr><td>Shikhar</td><td>true</td><td>Top</td><td>Data Science</td><td>6-Feb-23</td><td>14-Jan-23</td><td>false</td><td>98756078</td><td>false</td></tr><tr><td>Shivani</td><td>false</td><td>Top</td><td>Accounting</td><td>8-Jan-24</td><td>7-Oct-23</td><td>true</td><td>3550000</td><td>false</td></tr><tr><td>Pooja</td><td>true</td><td>Top</td><td>Soft skills</td><td>8-Jan-24</td><td>7-Oct-23</td><td>true</td><td>98760432</td><td>false</td></tr><tr><td>Vinay</td><td>false</td><td>Top</td><td>ADF</td><td>6-Mar-23</td><td>7-Feb-23</td><td>false</td><td>99803421</td><td>false</td></tr><tr><td>Sharma</td><td>true</td><td>Top</td><td>ADB</td><td>6-Mar-23</td><td>7-Feb-23</td><td>true</td><td>33240000</td><td>false</td></tr><tr><td>Sonu</td><td>true</td><td>Top</td><td>ML</td><td>6-Jan-25</td><td>9-Jan-24</td><td>true</td><td>15670000</td><td>false</td></tr><tr><td>Rakesh</td><td>false</td><td>Top</td><td>databricks</td><td>6-Jan-25</td><td>9-Jan-24</td><td>true</td><td>1598000</td><td>false</td></tr><tr><td>Roshan</td><td>true</td><td>Top</td><td>Soft skills</td><td>6-Apr-23</td><td>7-Mar-23</td><td>true</td><td>18894320</td><td>false</td></tr><tr><td>Rithvik</td><td>true</td><td>Top</td><td>python</td><td>6-Apr-23</td><td>7-Mar-23</td><td>true</td><td>3550000</td><td>true</td></tr></tbody></table></div>"
      ]
     },
     "metadata": {
      "application/vnd.databricks.v1+output": {
       "addedWidgets": {},
       "aggData": [],
       "aggError": "",
       "aggOverflow": false,
       "aggSchema": [],
       "aggSeriesLimitReached": false,
       "aggType": "",
       "arguments": {},
       "columnCustomDisplayInfos": {},
       "data": [
        [
         "Amit",
         false,
         "Top",
         "python",
         "6-Feb-23",
         "14-Jan-23",
         true,
         1598000,
         "true"
        ],
        [
         "Shikhar",
         true,
         "Top",
         "Data Science",
         "6-Feb-23",
         "14-Jan-23",
         false,
         98756078,
         "false"
        ],
        [
         "Shivani",
         false,
         "Top",
         "Accounting",
         "8-Jan-24",
         "7-Oct-23",
         true,
         3550000,
         "false"
        ],
        [
         "Pooja",
         true,
         "Top",
         "Soft skills",
         "8-Jan-24",
         "7-Oct-23",
         true,
         98760432,
         "false"
        ],
        [
         "Vinay",
         false,
         "Top",
         "ADF",
         "6-Mar-23",
         "7-Feb-23",
         false,
         99803421,
         "false"
        ],
        [
         "Sharma",
         true,
         "Top",
         "ADB",
         "6-Mar-23",
         "7-Feb-23",
         true,
         33240000,
         "false"
        ],
        [
         "Sonu",
         true,
         "Top",
         "ML",
         "6-Jan-25",
         "9-Jan-24",
         true,
         15670000,
         "false"
        ],
        [
         "Rakesh",
         false,
         "Top",
         "databricks",
         "6-Jan-25",
         "9-Jan-24",
         true,
         1598000,
         "false"
        ],
        [
         "Roshan",
         true,
         "Top",
         "Soft skills",
         "6-Apr-23",
         "7-Mar-23",
         true,
         18894320,
         "false"
        ],
        [
         "Rithvik",
         true,
         "Top",
         "python",
         "6-Apr-23",
         "7-Mar-23",
         true,
         3550000,
         "true"
        ]
       ],
       "datasetInfos": [],
       "dbfsResultPath": null,
       "isJsonSchema": true,
       "metadata": {},
       "overflow": false,
       "plotOptions": {
        "customPlotOptions": {},
        "displayType": "table",
        "pivotAggregation": null,
        "pivotColumns": null,
        "xColumns": null,
        "yColumns": null
       },
       "removedWidgets": [],
       "schema": [
        {
         "metadata": "{}",
         "name": "Name",
         "type": "\"string\""
        },
        {
         "metadata": "{}",
         "name": "Boolean",
         "type": "\"boolean\""
        },
        {
         "metadata": "{}",
         "name": "Sensex_Category",
         "type": "\"string\""
        },
        {
         "metadata": "{}",
         "name": "Course_Name",
         "type": "\"string\""
        },
        {
         "metadata": "{}",
         "name": "Effective_Date",
         "type": "\"string\""
        },
        {
         "metadata": "{}",
         "name": "Start_Date",
         "type": "\"string\""
        },
        {
         "metadata": "{}",
         "name": "Graduated",
         "type": "\"boolean\""
        },
        {
         "metadata": "{}",
         "name": "Salary",
         "type": "\"integer\""
        },
        {
         "metadata": "{}",
         "name": "Course_Name_int",
         "type": "\"string\""
        }
       ],
       "type": "table"
      }
     },
     "output_type": "display_data"
    }
   ],
   "source": [
    "# convert Boolean column to integer column\n",
    "df_bool_status = df_cast.withColumn('Course_Name_int', F.when(F.col(\"Course_Name\") == F.lit(\"python\"), F.lit(\"true\")).otherwise(F.lit(\"false\")))\n",
    "\n",
    "# view new DataFrame\n",
    "display(df_bool_status.limit(10))"
   ]
  },
  {
   "cell_type": "code",
   "execution_count": 0,
   "metadata": {
    "application/vnd.databricks.v1+cell": {
     "cellMetadata": {
      "byteLimit": 2048000,
      "rowLimit": 10000
     },
     "inputWidgets": {},
     "nuid": "229b662f-fb2b-4d5b-942c-6e0119f758ee",
     "showTitle": false,
     "title": ""
    }
   },
   "outputs": [
    {
     "output_type": "display_data",
     "data": {
      "text/html": [
       "<style scoped>\n",
       "  .table-result-container {\n",
       "    max-height: 300px;\n",
       "    overflow: auto;\n",
       "  }\n",
       "  table, th, td {\n",
       "    border: 1px solid black;\n",
       "    border-collapse: collapse;\n",
       "  }\n",
       "  th, td {\n",
       "    padding: 5px;\n",
       "  }\n",
       "  th {\n",
       "    text-align: left;\n",
       "  }\n",
       "</style><div class='table-result-container'><table class='table-result'><thead style='background-color: white'><tr><th>Name</th><th>Boolean</th><th>Sensex_Category</th><th>Course_Name</th><th>Effective_Date</th><th>Start_Date</th><th>Graduated</th><th>Salary</th><th>Course_Name_int</th></tr></thead><tbody><tr><td>Amit</td><td>false</td><td>Top</td><td>python</td><td>6-Feb-23</td><td>14-Jan-23</td><td>true</td><td>1598000</td><td>true</td></tr><tr><td>Shikhar</td><td>true</td><td>Top</td><td>Data Science</td><td>6-Feb-23</td><td>14-Jan-23</td><td>false</td><td>98756078</td><td>false</td></tr><tr><td>Shivani</td><td>false</td><td>Top</td><td>Accounting</td><td>8-Jan-24</td><td>7-Oct-23</td><td>true</td><td>3550000</td><td>false</td></tr><tr><td>Pooja</td><td>true</td><td>Top</td><td>Soft skills</td><td>8-Jan-24</td><td>7-Oct-23</td><td>true</td><td>98760432</td><td>false</td></tr><tr><td>Vinay</td><td>false</td><td>Top</td><td>ADF</td><td>6-Mar-23</td><td>7-Feb-23</td><td>false</td><td>99803421</td><td>false</td></tr><tr><td>Sharma</td><td>true</td><td>Top</td><td>ADB</td><td>6-Mar-23</td><td>7-Feb-23</td><td>true</td><td>33240000</td><td>false</td></tr><tr><td>Sonu</td><td>true</td><td>Top</td><td>ML</td><td>6-Jan-25</td><td>9-Jan-24</td><td>true</td><td>15670000</td><td>false</td></tr><tr><td>Rakesh</td><td>false</td><td>Top</td><td>databricks</td><td>6-Jan-25</td><td>9-Jan-24</td><td>true</td><td>1598000</td><td>false</td></tr><tr><td>Roshan</td><td>true</td><td>Top</td><td>Soft skills</td><td>6-Apr-23</td><td>7-Mar-23</td><td>true</td><td>18894320</td><td>false</td></tr><tr><td>Rithvik</td><td>true</td><td>Top</td><td>python</td><td>6-Apr-23</td><td>7-Mar-23</td><td>true</td><td>3550000</td><td>true</td></tr></tbody></table></div>"
      ]
     },
     "metadata": {
      "application/vnd.databricks.v1+output": {
       "addedWidgets": {},
       "aggData": [],
       "aggError": "",
       "aggOverflow": false,
       "aggSchema": [],
       "aggSeriesLimitReached": false,
       "aggType": "",
       "arguments": {},
       "columnCustomDisplayInfos": {},
       "data": [
        [
         "Amit",
         false,
         "Top",
         "python",
         "6-Feb-23",
         "14-Jan-23",
         true,
         1598000,
         true
        ],
        [
         "Shikhar",
         true,
         "Top",
         "Data Science",
         "6-Feb-23",
         "14-Jan-23",
         false,
         98756078,
         false
        ],
        [
         "Shivani",
         false,
         "Top",
         "Accounting",
         "8-Jan-24",
         "7-Oct-23",
         true,
         3550000,
         false
        ],
        [
         "Pooja",
         true,
         "Top",
         "Soft skills",
         "8-Jan-24",
         "7-Oct-23",
         true,
         98760432,
         false
        ],
        [
         "Vinay",
         false,
         "Top",
         "ADF",
         "6-Mar-23",
         "7-Feb-23",
         false,
         99803421,
         false
        ],
        [
         "Sharma",
         true,
         "Top",
         "ADB",
         "6-Mar-23",
         "7-Feb-23",
         true,
         33240000,
         false
        ],
        [
         "Sonu",
         true,
         "Top",
         "ML",
         "6-Jan-25",
         "9-Jan-24",
         true,
         15670000,
         false
        ],
        [
         "Rakesh",
         false,
         "Top",
         "databricks",
         "6-Jan-25",
         "9-Jan-24",
         true,
         1598000,
         false
        ],
        [
         "Roshan",
         true,
         "Top",
         "Soft skills",
         "6-Apr-23",
         "7-Mar-23",
         true,
         18894320,
         false
        ],
        [
         "Rithvik",
         true,
         "Top",
         "python",
         "6-Apr-23",
         "7-Mar-23",
         true,
         3550000,
         true
        ]
       ],
       "datasetInfos": [],
       "dbfsResultPath": null,
       "isJsonSchema": true,
       "metadata": {},
       "overflow": false,
       "plotOptions": {
        "customPlotOptions": {},
        "displayType": "table",
        "pivotAggregation": null,
        "pivotColumns": null,
        "xColumns": null,
        "yColumns": null
       },
       "removedWidgets": [],
       "schema": [
        {
         "metadata": "{}",
         "name": "Name",
         "type": "\"string\""
        },
        {
         "metadata": "{}",
         "name": "Boolean",
         "type": "\"boolean\""
        },
        {
         "metadata": "{}",
         "name": "Sensex_Category",
         "type": "\"string\""
        },
        {
         "metadata": "{}",
         "name": "Course_Name",
         "type": "\"string\""
        },
        {
         "metadata": "{}",
         "name": "Effective_Date",
         "type": "\"string\""
        },
        {
         "metadata": "{}",
         "name": "Start_Date",
         "type": "\"string\""
        },
        {
         "metadata": "{}",
         "name": "Graduated",
         "type": "\"boolean\""
        },
        {
         "metadata": "{}",
         "name": "Salary",
         "type": "\"integer\""
        },
        {
         "metadata": "{}",
         "name": "Course_Name_int",
         "type": "\"boolean\""
        }
       ],
       "type": "table"
      }
     },
     "output_type": "display_data"
    }
   ],
   "source": [
    "# convert Boolean column to integer column\n",
    "df_bool_status_st = df_cast.withColumn('Course_Name_int', F.col(\"Course_Name\") == F.lit(\"python\"))\n",
    "\n",
    "# view new DataFrame\n",
    "display(df_bool_status_st.limit(10))"
   ]
  },
  {
   "cell_type": "code",
   "execution_count": 0,
   "metadata": {
    "application/vnd.databricks.v1+cell": {
     "cellMetadata": {},
     "inputWidgets": {},
     "nuid": "7b94f6c1-f792-42ac-856e-022886782d2f",
     "showTitle": false,
     "title": ""
    }
   },
   "outputs": [],
   "source": []
  }
 ],
 "metadata": {
  "application/vnd.databricks.v1+notebook": {
   "dashboards": [],
   "environmentMetadata": null,
   "language": "python",
   "notebookMetadata": {
    "mostRecentlyExecutedCommandWithImplicitDF": {
     "commandId": 1556179186279794,
     "dataframes": [
      "_sqldf"
     ]
    },
    "pythonIndentUnit": 4
   },
   "notebookName": "8_How to filter boolean values",
   "widgets": {}
  }
 },
 "nbformat": 4,
 "nbformat_minor": 0
}
