{
 "cells": [
  {
   "cell_type": "markdown",
   "metadata": {
    "application/vnd.databricks.v1+cell": {
     "cellMetadata": {},
     "inputWidgets": {},
     "nuid": "46099cbc-199d-4e95-8e69-5160aad1b6ec",
     "showTitle": false,
     "tableResultSettingsMap": {},
     "title": ""
    }
   },
   "source": [
    "#### **PySpark cast column**\n",
    "\n",
    "- In PySpark, you can **cast or change** the DataFrame column **data type** using **cast()** function of Column class.\n",
    "- **Change Column Type** in PySpark DataframeUsing the **cast()** function\n",
    "\n",
    "   - using withColumn()\n",
    "   - using selectExpr()\n",
    "   - using SQL"
   ]
  },
  {
   "cell_type": "markdown",
   "metadata": {
    "application/vnd.databricks.v1+cell": {
     "cellMetadata": {},
     "inputWidgets": {},
     "nuid": "c613234c-80ce-4a16-b17c-4f8de7a8a61d",
     "showTitle": false,
     "tableResultSettingsMap": {},
     "title": ""
    }
   },
   "source": [
    "- Below are the **subclasses** of the **DataType** classes in PySpark and we can **change or cast DataFrame columns** to **only these types**.\n",
    "\n",
    "    - NumericType\n",
    "    - StringType\n",
    "    - DateType\n",
    "    - TimestampType\n",
    "    - ArrayType\n",
    "    - StructType\n",
    "    - ObjectType\n",
    "    - MapType\n",
    "    - BinaryType\n",
    "    - BooleanType\n",
    "    - CalendarIntervalType\n",
    "    - HiveStringType\n",
    "    - NullType\n",
    "\n"
   ]
  },
  {
   "cell_type": "markdown",
   "metadata": {
    "application/vnd.databricks.v1+cell": {
     "cellMetadata": {},
     "inputWidgets": {},
     "nuid": "0e2ee968-219c-4c84-8695-f0022a62d396",
     "showTitle": false,
     "tableResultSettingsMap": {},
     "title": ""
    }
   },
   "source": [
    "     # Convert String to Integer Type\n",
    "     df.withColumn(\"age\", df.age.cast(IntegerType()))\n",
    "     df.withColumn(\"age\", df.age.cast('int'))\n",
    "     df.withColumn(\"age\", df.age.cast('integer'))\n",
    "\n",
    "     # withColumn\n",
    "     df = df.withColumn(\"age\", col(\"age\").cast(StringType())) \\\n",
    "            .withColumn(\"isGraduated\", col(\"isGraduated\").cast(BooleanType())) \\\n",
    "            .withColumn(\"jobStartDate\", col(\"jobStartDate\").cast(DateType()))\n",
    "     df.printSchema()\n",
    "\n",
    "     # Convert String to Date\n",
    "     df.withColumn(\"Start_Date\", to_date(col(\"Start_Date\"), \"dd-MMM-yyyy\"))\n",
    "\n",
    "     # Convert Date to Long\n",
    "     df.withColumn('Payment_Date', f.col('Payment_Date').cast(LongType()))\n",
    "\n",
    "     # Convert String to Boolean\n",
    "     df.withColumn(\"isGraduated\", col(\"isGraduated\").cast(BooleanType()))"
   ]
  },
  {
   "cell_type": "markdown",
   "metadata": {
    "application/vnd.databricks.v1+cell": {
     "cellMetadata": {},
     "inputWidgets": {},
     "nuid": "1482d6bf-bd7f-49de-a5bb-4eac89ec6c30",
     "showTitle": false,
     "tableResultSettingsMap": {},
     "title": ""
    }
   },
   "source": [
    "     # select\n",
    "     df.select(col(\"age\").cast('int').alias(\"age\"))"
   ]
  },
  {
   "cell_type": "markdown",
   "metadata": {
    "application/vnd.databricks.v1+cell": {
     "cellMetadata": {},
     "inputWidgets": {},
     "nuid": "fbfeb444-1e7b-4051-b138-53e37296cfd8",
     "showTitle": false,
     "tableResultSettingsMap": {},
     "title": ""
    }
   },
   "source": [
    "     # selectExpr()\n",
    "     df = df.selectExpr(\"cast(age as int) age\",\n",
    "                        \"cast(isGraduated as string) isGraduated\",\n",
    "                        \"cast(jobStartDate as string) jobStartDate\")\n",
    "     df.printSchema()"
   ]
  },
  {
   "cell_type": "markdown",
   "metadata": {
    "application/vnd.databricks.v1+cell": {
     "cellMetadata": {},
     "inputWidgets": {},
     "nuid": "e83ce9a2-4309-4ea9-a0db-aa52f1416adc",
     "showTitle": false,
     "tableResultSettingsMap": {},
     "title": ""
    }
   },
   "source": [
    "     # SQL expression\n",
    "     df.createOrReplaceTempView(\"CastExample\")\n",
    "     df = spark.sql(\"SELECT STRING(age),BOOLEAN(isGraduated),DATE(jobStartDate) from CastExample\")\n",
    "     df.printSchema()"
   ]
  },
  {
   "cell_type": "markdown",
   "metadata": {
    "application/vnd.databricks.v1+cell": {
     "cellMetadata": {
      "byteLimit": 2048000,
      "rowLimit": 10000
     },
     "inputWidgets": {},
     "nuid": "7ec50ead-0d01-4bc1-8d0d-5c11406e49dd",
     "showTitle": false,
     "tableResultSettingsMap": {},
     "title": ""
    }
   },
   "source": [
    "**Example 01**"
   ]
  },
  {
   "cell_type": "code",
   "execution_count": 0,
   "metadata": {
    "application/vnd.databricks.v1+cell": {
     "cellMetadata": {
      "byteLimit": 2048000,
      "rowLimit": 10000
     },
     "inputWidgets": {},
     "nuid": "72187a07-7284-454b-8d8e-1894c33793cd",
     "showTitle": false,
     "tableResultSettingsMap": {},
     "title": ""
    }
   },
   "outputs": [],
   "source": [
    "import pyspark.sql.functions as f\n",
    "from pyspark.sql.functions import lit, col, to_date, current_timestamp\n",
    "from pyspark.sql.types import IntegerType, StringType, DoubleType, LongType, BooleanType, DateType"
   ]
  },
  {
   "cell_type": "code",
   "execution_count": 0,
   "metadata": {
    "application/vnd.databricks.v1+cell": {
     "cellMetadata": {
      "byteLimit": 2048000,
      "rowLimit": 10000
     },
     "inputWidgets": {},
     "nuid": "d827617a-224a-49a0-8fe3-a5ce9f068b22",
     "showTitle": false,
     "tableResultSettingsMap": {},
     "title": ""
    }
   },
   "outputs": [
    {
     "output_type": "stream",
     "name": "stdout",
     "output_type": "stream",
     "text": [
      "+---------+---+------+-------+------+------+\n|address  |age|height|name   |rollno|weight|\n+---------+---+------+-------+------+------+\n|Guntur   |23 |5.79  |sravan |01    |67    |\n|Hyderabad|26 |3.79  |ojaswi |02    |34    |\n|Chennai  |37 |2.79  |gnanesh|03    |37    |\n|Bangalore|29 |3.69  |rohith |04    |28    |\n|Hyderabad|45 |5.59  |sridevi|05    |54    |\n|Bangalore|49 |4.69  |Kiran  |04    |38    |\n|Nasik    |42 |6.0   |Dhiraj |05    |34    |\n|Kolkata  |42 |6.0   |Dhiraj |05    |34    |\n|Gurgaon  |42 |6.0   |Dhiraj |05    |34    |\n+---------+---+------+-------+------+------+\n\nroot\n |-- address: string (nullable = true)\n |-- age: long (nullable = true)\n |-- height: double (nullable = true)\n |-- name: string (nullable = true)\n |-- rollno: string (nullable = true)\n |-- weight: long (nullable = true)\n\n"
     ]
    }
   ],
   "source": [
    "data =[{'rollno':'01', 'name':'sravan', 'age':23, 'height':5.79, 'weight':67, 'address':'Guntur'},\n",
    "       {'rollno':'02', 'name':'ojaswi', 'age':26, 'height':3.79, 'weight':34, 'address':'Hyderabad'},\n",
    "       {'rollno':'03', 'name':'gnanesh', 'age':37, 'height':2.79, 'weight':37, 'address':'Chennai'},\n",
    "       {'rollno':'04', 'name':'rohith', 'age':29, 'height':3.69, 'weight':28, 'address':'Bangalore'},\n",
    "       {'rollno':'05', 'name':'sridevi', 'age':45, 'height':5.59, 'weight':54, 'address':'Hyderabad'},\n",
    "       {'rollno':'04', 'name':'Kiran', 'age':49, 'height':4.69, 'weight':38, 'address':'Bangalore'},\n",
    "       {'rollno':'05', 'name':'Dhiraj', 'age':42, 'height':6.00, 'weight':34, 'address':'Nasik'},\n",
    "       {'rollno':'05', 'name':'Dhiraj', 'age':42, 'height':6.00, 'weight':34, 'address':'Kolkata'},\n",
    "       {'rollno':'05', 'name':'Dhiraj', 'age':42, 'height':6.00, 'weight':34, 'address':'Gurgaon'}]\n",
    "\n",
    "# create the dataframe\n",
    "df = spark.createDataFrame(data)\n",
    "df.show(truncate=False)\n",
    "df.printSchema()"
   ]
  },
  {
   "cell_type": "code",
   "execution_count": 0,
   "metadata": {
    "application/vnd.databricks.v1+cell": {
     "cellMetadata": {
      "byteLimit": 2048000,
      "rowLimit": 10000
     },
     "inputWidgets": {},
     "nuid": "f7452c58-629f-4fa7-b1ff-3bd522bfe1ce",
     "showTitle": false,
     "tableResultSettingsMap": {},
     "title": ""
    }
   },
   "outputs": [
    {
     "output_type": "display_data",
     "data": {
      "text/html": [
       "<style scoped>\n",
       "  .table-result-container {\n",
       "    max-height: 300px;\n",
       "    overflow: auto;\n",
       "  }\n",
       "  table, th, td {\n",
       "    border: 1px solid black;\n",
       "    border-collapse: collapse;\n",
       "  }\n",
       "  th, td {\n",
       "    padding: 5px;\n",
       "  }\n",
       "  th {\n",
       "    text-align: left;\n",
       "  }\n",
       "</style><div class='table-result-container'><table class='table-result'><thead style='background-color: white'><tr><th>address</th><th>age</th><th>height</th><th>name</th><th>rollno</th><th>weight</th><th>source_system_id</th><th>source_system_id</th><th>source_system_id</th></tr></thead><tbody><tr><td>Guntur</td><td>23</td><td>5.79</td><td>sravan</td><td>01</td><td>67</td><td>2</td><td>2</td><td>2</td></tr><tr><td>Hyderabad</td><td>26</td><td>3.79</td><td>ojaswi</td><td>02</td><td>34</td><td>2</td><td>2</td><td>2</td></tr><tr><td>Chennai</td><td>37</td><td>2.79</td><td>gnanesh</td><td>03</td><td>37</td><td>2</td><td>2</td><td>2</td></tr><tr><td>Bangalore</td><td>29</td><td>3.69</td><td>rohith</td><td>04</td><td>28</td><td>2</td><td>2</td><td>2</td></tr><tr><td>Hyderabad</td><td>45</td><td>5.59</td><td>sridevi</td><td>05</td><td>54</td><td>2</td><td>2</td><td>2</td></tr><tr><td>Bangalore</td><td>49</td><td>4.69</td><td>Kiran</td><td>04</td><td>38</td><td>2</td><td>2</td><td>2</td></tr><tr><td>Nasik</td><td>42</td><td>6.0</td><td>Dhiraj</td><td>05</td><td>34</td><td>2</td><td>2</td><td>2</td></tr><tr><td>Kolkata</td><td>42</td><td>6.0</td><td>Dhiraj</td><td>05</td><td>34</td><td>2</td><td>2</td><td>2</td></tr><tr><td>Gurgaon</td><td>42</td><td>6.0</td><td>Dhiraj</td><td>05</td><td>34</td><td>2</td><td>2</td><td>2</td></tr></tbody></table></div>"
      ]
     },
     "metadata": {
      "application/vnd.databricks.v1+output": {
       "addedWidgets": {},
       "aggData": [],
       "aggError": "",
       "aggOverflow": false,
       "aggSchema": [],
       "aggSeriesLimitReached": false,
       "aggType": "",
       "arguments": {},
       "columnCustomDisplayInfos": {},
       "data": [
        [
         "Guntur",
         23,
         5.79,
         "sravan",
         "01",
         67,
         2,
         "2",
         2
        ],
        [
         "Hyderabad",
         26,
         3.79,
         "ojaswi",
         "02",
         34,
         2,
         "2",
         2
        ],
        [
         "Chennai",
         37,
         2.79,
         "gnanesh",
         "03",
         37,
         2,
         "2",
         2
        ],
        [
         "Bangalore",
         29,
         3.69,
         "rohith",
         "04",
         28,
         2,
         "2",
         2
        ],
        [
         "Hyderabad",
         45,
         5.59,
         "sridevi",
         "05",
         54,
         2,
         "2",
         2
        ],
        [
         "Bangalore",
         49,
         4.69,
         "Kiran",
         "04",
         38,
         2,
         "2",
         2
        ],
        [
         "Nasik",
         42,
         6.0,
         "Dhiraj",
         "05",
         34,
         2,
         "2",
         2
        ],
        [
         "Kolkata",
         42,
         6.0,
         "Dhiraj",
         "05",
         34,
         2,
         "2",
         2
        ],
        [
         "Gurgaon",
         42,
         6.0,
         "Dhiraj",
         "05",
         34,
         2,
         "2",
         2
        ]
       ],
       "datasetInfos": [],
       "dbfsResultPath": null,
       "isJsonSchema": true,
       "metadata": {},
       "overflow": false,
       "plotOptions": {
        "customPlotOptions": {},
        "displayType": "table",
        "pivotAggregation": null,
        "pivotColumns": null,
        "xColumns": null,
        "yColumns": null
       },
       "removedWidgets": [],
       "schema": [
        {
         "metadata": "{}",
         "name": "address",
         "type": "\"string\""
        },
        {
         "metadata": "{}",
         "name": "age",
         "type": "\"long\""
        },
        {
         "metadata": "{}",
         "name": "height",
         "type": "\"double\""
        },
        {
         "metadata": "{}",
         "name": "name",
         "type": "\"string\""
        },
        {
         "metadata": "{}",
         "name": "rollno",
         "type": "\"string\""
        },
        {
         "metadata": "{}",
         "name": "weight",
         "type": "\"long\""
        },
        {
         "metadata": "{}",
         "name": "source_system_id",
         "type": "\"integer\""
        },
        {
         "metadata": "{}",
         "name": "source_system_id",
         "type": "\"string\""
        },
        {
         "metadata": "{}",
         "name": "source_system_id",
         "type": "\"long\""
        }
       ],
       "type": "table"
      }
     },
     "output_type": "display_data"
    },
    {
     "output_type": "stream",
     "name": "stdout",
     "output_type": "stream",
     "text": [
      "root\n |-- address: string (nullable = true)\n |-- age: long (nullable = true)\n |-- height: double (nullable = true)\n |-- name: string (nullable = true)\n |-- rollno: string (nullable = true)\n |-- weight: long (nullable = true)\n |-- source_system_id: integer (nullable = false)\n |-- source_system_id: string (nullable = false)\n |-- source_system_id: long (nullable = false)\n\n"
     ]
    }
   ],
   "source": [
    "df = df.select(\"*\", lit(2).alias('source_system_id'),                       # integer\n",
    "                    lit(\"2\").alias('source_system_id'),                     # string\n",
    "                    lit(2).cast(LongType()).alias('source_system_id')       # long\n",
    "              )\n",
    "\n",
    "display(df)\n",
    "df.printSchema()"
   ]
  },
  {
   "cell_type": "markdown",
   "metadata": {
    "application/vnd.databricks.v1+cell": {
     "cellMetadata": {},
     "inputWidgets": {},
     "nuid": "4c7eb29e-321f-4898-8376-56547347a867",
     "showTitle": false,
     "tableResultSettingsMap": {},
     "title": ""
    }
   },
   "source": [
    "**Example 02**"
   ]
  },
  {
   "cell_type": "code",
   "execution_count": 0,
   "metadata": {
    "application/vnd.databricks.v1+cell": {
     "cellMetadata": {
      "byteLimit": 2048000,
      "rowLimit": 10000
     },
     "inputWidgets": {},
     "nuid": "e8b76ad5-98c7-40a9-b57c-fa0c893d8308",
     "showTitle": false,
     "tableResultSettingsMap": {},
     "title": ""
    }
   },
   "outputs": [
    {
     "output_type": "display_data",
     "data": {
      "text/html": [
       "<style scoped>\n",
       "  .table-result-container {\n",
       "    max-height: 300px;\n",
       "    overflow: auto;\n",
       "  }\n",
       "  table, th, td {\n",
       "    border: 1px solid black;\n",
       "    border-collapse: collapse;\n",
       "  }\n",
       "  th, td {\n",
       "    padding: 5px;\n",
       "  }\n",
       "  th {\n",
       "    text-align: left;\n",
       "  }\n",
       "</style><div class='table-result-container'><table class='table-result'><thead style='background-color: white'><tr><th>language</th><th>framework</th><th>users</th><th>backend</th><th>date</th></tr></thead><tbody><tr><td>Python</td><td>Django</td><td>20000</td><td>true</td><td>2022-03-15</td></tr><tr><td>Python</td><td>FastAPI</td><td>9000</td><td>true</td><td>2022-06-21</td></tr><tr><td>Java</td><td>Spring</td><td>7000</td><td>true</td><td>2023-12-04</td></tr><tr><td>JavaScript</td><td>ReactJS</td><td>5000</td><td>false</td><td>2023-01-11</td></tr></tbody></table></div>"
      ]
     },
     "metadata": {
      "application/vnd.databricks.v1+output": {
       "addedWidgets": {},
       "aggData": [],
       "aggError": "",
       "aggOverflow": false,
       "aggSchema": [],
       "aggSeriesLimitReached": false,
       "aggType": "",
       "arguments": {},
       "columnCustomDisplayInfos": {},
       "data": [
        [
         "Python",
         "Django",
         "20000",
         "true",
         "2022-03-15"
        ],
        [
         "Python",
         "FastAPI",
         "9000",
         "true",
         "2022-06-21"
        ],
        [
         "Java",
         "Spring",
         "7000",
         "true",
         "2023-12-04"
        ],
        [
         "JavaScript",
         "ReactJS",
         "5000",
         "false",
         "2023-01-11"
        ]
       ],
       "datasetInfos": [],
       "dbfsResultPath": null,
       "isJsonSchema": true,
       "metadata": {},
       "overflow": false,
       "plotOptions": {
        "customPlotOptions": {},
        "displayType": "table",
        "pivotAggregation": null,
        "pivotColumns": null,
        "xColumns": null,
        "yColumns": null
       },
       "removedWidgets": [],
       "schema": [
        {
         "metadata": "{}",
         "name": "language",
         "type": "\"string\""
        },
        {
         "metadata": "{}",
         "name": "framework",
         "type": "\"string\""
        },
        {
         "metadata": "{}",
         "name": "users",
         "type": "\"string\""
        },
        {
         "metadata": "{}",
         "name": "backend",
         "type": "\"string\""
        },
        {
         "metadata": "{}",
         "name": "date",
         "type": "\"string\""
        }
       ],
       "type": "table"
      }
     },
     "output_type": "display_data"
    },
    {
     "output_type": "stream",
     "name": "stdout",
     "output_type": "stream",
     "text": [
      "root\n |-- language: string (nullable = true)\n |-- framework: string (nullable = true)\n |-- users: string (nullable = true)\n |-- backend: string (nullable = true)\n |-- date: string (nullable = true)\n\n"
     ]
    }
   ],
   "source": [
    "column_names = [\"language\", \"framework\", \"users\", \"backend\", \"date\"]\n",
    "data = [\n",
    "    (\"Python\", \"Django\", \"20000\", \"true\", \"2022-03-15\"),\n",
    "    (\"Python\", \"FastAPI\", \"9000\", \"true\", \"2022-06-21\"),\n",
    "    (\"Java\", \"Spring\", \"7000\", \"true\", \"2023-12-04\"),\n",
    "    (\"JavaScript\", \"ReactJS\", \"5000\", \"false\", \"2023-01-11\")\n",
    "]\n",
    "df4 = spark.createDataFrame(data, column_names)\n",
    "display(df4)\n",
    "df4.printSchema()"
   ]
  },
  {
   "cell_type": "markdown",
   "metadata": {
    "application/vnd.databricks.v1+cell": {
     "cellMetadata": {},
     "inputWidgets": {},
     "nuid": "d2e8d1d6-a68c-4a25-a77c-398f6dd5ff32",
     "showTitle": false,
     "tableResultSettingsMap": {},
     "title": ""
    }
   },
   "source": [
    "**Change Data Type of a Single Column**"
   ]
  },
  {
   "cell_type": "code",
   "execution_count": 0,
   "metadata": {
    "application/vnd.databricks.v1+cell": {
     "cellMetadata": {
      "byteLimit": 2048000,
      "rowLimit": 10000
     },
     "inputWidgets": {},
     "nuid": "cf26ca69-46d3-49ab-8862-d1cfd2769d95",
     "showTitle": false,
     "tableResultSettingsMap": {},
     "title": ""
    }
   },
   "outputs": [
    {
     "output_type": "display_data",
     "data": {
      "text/html": [
       "<style scoped>\n",
       "  .table-result-container {\n",
       "    max-height: 300px;\n",
       "    overflow: auto;\n",
       "  }\n",
       "  table, th, td {\n",
       "    border: 1px solid black;\n",
       "    border-collapse: collapse;\n",
       "  }\n",
       "  th, td {\n",
       "    padding: 5px;\n",
       "  }\n",
       "  th {\n",
       "    text-align: left;\n",
       "  }\n",
       "</style><div class='table-result-container'><table class='table-result'><thead style='background-color: white'><tr><th>language</th><th>framework</th><th>users</th><th>backend</th><th>date</th></tr></thead><tbody><tr><td>Python</td><td>Django</td><td>20000</td><td>true</td><td>2022-03-15</td></tr><tr><td>Python</td><td>FastAPI</td><td>9000</td><td>true</td><td>2022-06-21</td></tr><tr><td>Java</td><td>Spring</td><td>7000</td><td>true</td><td>2023-12-04</td></tr><tr><td>JavaScript</td><td>ReactJS</td><td>5000</td><td>false</td><td>2023-01-11</td></tr></tbody></table></div>"
      ]
     },
     "metadata": {
      "application/vnd.databricks.v1+output": {
       "addedWidgets": {},
       "aggData": [],
       "aggError": "",
       "aggOverflow": false,
       "aggSchema": [],
       "aggSeriesLimitReached": false,
       "aggType": "",
       "arguments": {},
       "columnCustomDisplayInfos": {},
       "data": [
        [
         "Python",
         "Django",
         20000,
         "true",
         "2022-03-15"
        ],
        [
         "Python",
         "FastAPI",
         9000,
         "true",
         "2022-06-21"
        ],
        [
         "Java",
         "Spring",
         7000,
         "true",
         "2023-12-04"
        ],
        [
         "JavaScript",
         "ReactJS",
         5000,
         "false",
         "2023-01-11"
        ]
       ],
       "datasetInfos": [],
       "dbfsResultPath": null,
       "isJsonSchema": true,
       "metadata": {},
       "overflow": false,
       "plotOptions": {
        "customPlotOptions": {},
        "displayType": "table",
        "pivotAggregation": null,
        "pivotColumns": null,
        "xColumns": null,
        "yColumns": null
       },
       "removedWidgets": [],
       "schema": [
        {
         "metadata": "{}",
         "name": "language",
         "type": "\"string\""
        },
        {
         "metadata": "{}",
         "name": "framework",
         "type": "\"string\""
        },
        {
         "metadata": "{}",
         "name": "users",
         "type": "\"integer\""
        },
        {
         "metadata": "{}",
         "name": "backend",
         "type": "\"string\""
        },
        {
         "metadata": "{}",
         "name": "date",
         "type": "\"string\""
        }
       ],
       "type": "table"
      }
     },
     "output_type": "display_data"
    },
    {
     "output_type": "stream",
     "name": "stdout",
     "output_type": "stream",
     "text": [
      "root\n |-- language: string (nullable = true)\n |-- framework: string (nullable = true)\n |-- users: integer (nullable = true)\n |-- backend: string (nullable = true)\n |-- date: string (nullable = true)\n\n"
     ]
    }
   ],
   "source": [
    "# change column type\n",
    "df_new = df4.withColumn(\"users\", col(\"users\").cast(IntegerType()))\n",
    "display(df_new)\n",
    "\n",
    "# print schema\n",
    "df_new.printSchema()"
   ]
  },
  {
   "cell_type": "markdown",
   "metadata": {
    "application/vnd.databricks.v1+cell": {
     "cellMetadata": {},
     "inputWidgets": {},
     "nuid": "dd9204cf-47f5-40a7-8fe2-27ae3eaa831d",
     "showTitle": false,
     "tableResultSettingsMap": {},
     "title": ""
    }
   },
   "source": [
    "**Change Data Type of Multiple Columns**\n",
    "- Convert the data type of the column \"users\" from string to integer.\n",
    "- Convert the data type of the column \"backend\" from string to boolean.\n",
    "- Convert the data type of the column \"date\" from string to date."
   ]
  },
  {
   "cell_type": "code",
   "execution_count": 0,
   "metadata": {
    "application/vnd.databricks.v1+cell": {
     "cellMetadata": {
      "byteLimit": 2048000,
      "rowLimit": 10000
     },
     "inputWidgets": {},
     "nuid": "cc5f1be2-126f-440a-a5b7-3212e3c01fac",
     "showTitle": false,
     "tableResultSettingsMap": {},
     "title": ""
    }
   },
   "outputs": [
    {
     "output_type": "stream",
     "name": "stdout",
     "output_type": "stream",
     "text": [
      "root\n |-- language: string (nullable = true)\n |-- framework: string (nullable = true)\n |-- users: integer (nullable = true)\n |-- backend: boolean (nullable = true)\n |-- date: date (nullable = true)\n\n"
     ]
    }
   ],
   "source": [
    "# change column types\n",
    "df_new1 = df4.withColumn(\"users\", col(\"users\").cast(IntegerType())) \\\n",
    "             .withColumn(\"backend\", col(\"backend\").cast(BooleanType())) \\\n",
    "             .withColumn(\"date\", col(\"date\").cast(DateType()))\n",
    "\n",
    "# print schema\n",
    "df_new1.printSchema()"
   ]
  }
 ],
 "metadata": {
  "application/vnd.databricks.v1+notebook": {
   "dashboards": [],
   "environmentMetadata": null,
   "language": "python",
   "notebookMetadata": {
    "mostRecentlyExecutedCommandWithImplicitDF": {
     "commandId": 3545764187335839,
     "dataframes": [
      "_sqldf"
     ]
    },
    "pythonIndentUnit": 4
   },
   "notebookName": "90_Databricks | Pyspark: How to change Column Data type using cast()",
   "widgets": {}
  }
 },
 "nbformat": 4,
 "nbformat_minor": 0
}
