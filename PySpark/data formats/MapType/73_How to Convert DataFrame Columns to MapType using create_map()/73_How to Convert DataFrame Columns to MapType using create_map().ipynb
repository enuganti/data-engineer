{
 "cells": [
  {
   "cell_type": "markdown",
   "metadata": {
    "application/vnd.databricks.v1+cell": {
     "cellMetadata": {},
     "inputWidgets": {},
     "nuid": "8f18095f-be24-4eb8-afb3-4dd68c59a2ce",
     "showTitle": false,
     "tableResultSettingsMap": {},
     "title": ""
    }
   },
   "source": [
    "#### **How to Convert DataFrame Columns to MapType**\n",
    "\n",
    "- To convert DataFrame columns to a **MapType (dictionary)** column in PySpark, you can use the **create_map** function from the pyspark.sql.functions module.\n",
    "- This function allows you to create a **map** from a set of **key-value pairs**, where the **keys and values** are columns from the DataFrame."
   ]
  },
  {
   "cell_type": "markdown",
   "metadata": {
    "application/vnd.databricks.v1+cell": {
     "cellMetadata": {},
     "inputWidgets": {},
     "nuid": "c5ba1ffb-91ca-4142-afea-e786bbf99f18",
     "showTitle": false,
     "tableResultSettingsMap": {},
     "title": ""
    }
   },
   "source": [
    "#### **Syntax**\n",
    "\n",
    "     create_map(*columns)\n",
    "- It represents the **column names** or Columns that are **grouped** as **key-value pairs**.   "
   ]
  },
  {
   "cell_type": "code",
   "execution_count": 0,
   "metadata": {
    "application/vnd.databricks.v1+cell": {
     "cellMetadata": {
      "byteLimit": 2048000,
      "rowLimit": 10000
     },
     "inputWidgets": {},
     "nuid": "68cd0972-54fb-4f3f-9cca-4290e22578a6",
     "showTitle": false,
     "tableResultSettingsMap": {},
     "title": ""
    }
   },
   "outputs": [],
   "source": [
    "import pyspark.sql.functions as f\n",
    "from pyspark.sql.types import StructType, StructField, StringType, IntegerType\n",
    "from pyspark.sql.functions import col, lit, create_map, concat"
   ]
  },
  {
   "cell_type": "markdown",
   "metadata": {
    "application/vnd.databricks.v1+cell": {
     "cellMetadata": {},
     "inputWidgets": {},
     "nuid": "178b278e-3c1f-4f2f-92f7-14bb3631853f",
     "showTitle": false,
     "tableResultSettingsMap": {},
     "title": ""
    }
   },
   "source": [
    "#### **Sample dataframe**"
   ]
  },
  {
   "cell_type": "code",
   "execution_count": 0,
   "metadata": {
    "application/vnd.databricks.v1+cell": {
     "cellMetadata": {
      "byteLimit": 2048000,
      "rowLimit": 10000
     },
     "inputWidgets": {},
     "nuid": "f3905863-64de-491b-bb2f-d9c441abb4b3",
     "showTitle": true,
     "tableResultSettingsMap": {},
     "title": "create sample dataframe"
    }
   },
   "outputs": [
    {
     "output_type": "stream",
     "name": "stdout",
     "output_type": "stream",
     "text": [
      "root\n |-- Name: string (nullable = true)\n |-- ProductId: string (nullable = true)\n |-- deptartment: string (nullable = true)\n |-- budget: integer (nullable = true)\n |-- location: string (nullable = true)\n |-- Age: integer (nullable = true)\n\n"
     ]
    },
    {
     "output_type": "display_data",
     "data": {
      "text/html": [
       "<style scoped>\n",
       "  .table-result-container {\n",
       "    max-height: 300px;\n",
       "    overflow: auto;\n",
       "  }\n",
       "  table, th, td {\n",
       "    border: 1px solid black;\n",
       "    border-collapse: collapse;\n",
       "  }\n",
       "  th, td {\n",
       "    padding: 5px;\n",
       "  }\n",
       "  th {\n",
       "    text-align: left;\n",
       "  }\n",
       "</style><div class='table-result-container'><table class='table-result'><thead style='background-color: white'><tr><th>Name</th><th>ProductId</th><th>deptartment</th><th>budget</th><th>location</th><th>Age</th></tr></thead><tbody><tr><td>Vikas</td><td>36636</td><td>IT</td><td>300000</td><td>USA</td><td>25</td></tr><tr><td>Mukul</td><td>40288</td><td>Finance</td><td>500000</td><td>IND</td><td>35</td></tr><tr><td>Kannan</td><td>42114</td><td>Sales</td><td>390000</td><td>AUS</td><td>23</td></tr><tr><td>Rishab</td><td>39192</td><td>Marketing</td><td>250000</td><td>CAN</td><td>31</td></tr><tr><td>Amaresh</td><td>34534</td><td>Maintenance</td><td>650000</td><td>NZ</td><td>37</td></tr><tr><td>Prakash</td><td>69114</td><td>Sales</td><td>390000</td><td>AUS</td><td>23</td></tr><tr><td>Pramod</td><td>78192</td><td>Marketing</td><td>250000</td><td>CAN</td><td>31</td></tr><tr><td>Prasad</td><td>56534</td><td>Maintenance</td><td>650000</td><td>NZ</td><td>37</td></tr></tbody></table></div>"
      ]
     },
     "metadata": {
      "application/vnd.databricks.v1+output": {
       "addedWidgets": {},
       "aggData": [],
       "aggError": "",
       "aggOverflow": false,
       "aggSchema": [],
       "aggSeriesLimitReached": false,
       "aggType": "",
       "arguments": {},
       "columnCustomDisplayInfos": {},
       "data": [
        [
         "Vikas",
         "36636",
         "IT",
         300000,
         "USA",
         25
        ],
        [
         "Mukul",
         "40288",
         "Finance",
         500000,
         "IND",
         35
        ],
        [
         "Kannan",
         "42114",
         "Sales",
         390000,
         "AUS",
         23
        ],
        [
         "Rishab",
         "39192",
         "Marketing",
         250000,
         "CAN",
         31
        ],
        [
         "Amaresh",
         "34534",
         "Maintenance",
         650000,
         "NZ",
         37
        ],
        [
         "Prakash",
         "69114",
         "Sales",
         390000,
         "AUS",
         23
        ],
        [
         "Pramod",
         "78192",
         "Marketing",
         250000,
         "CAN",
         31
        ],
        [
         "Prasad",
         "56534",
         "Maintenance",
         650000,
         "NZ",
         37
        ]
       ],
       "datasetInfos": [],
       "dbfsResultPath": null,
       "isJsonSchema": true,
       "metadata": {},
       "overflow": false,
       "plotOptions": {
        "customPlotOptions": {},
        "displayType": "table",
        "pivotAggregation": null,
        "pivotColumns": null,
        "xColumns": null,
        "yColumns": null
       },
       "removedWidgets": [],
       "schema": [
        {
         "metadata": "{}",
         "name": "Name",
         "type": "\"string\""
        },
        {
         "metadata": "{}",
         "name": "ProductId",
         "type": "\"string\""
        },
        {
         "metadata": "{}",
         "name": "deptartment",
         "type": "\"string\""
        },
        {
         "metadata": "{}",
         "name": "budget",
         "type": "\"integer\""
        },
        {
         "metadata": "{}",
         "name": "location",
         "type": "\"string\""
        },
        {
         "metadata": "{}",
         "name": "Age",
         "type": "\"integer\""
        }
       ],
       "type": "table"
      }
     },
     "output_type": "display_data"
    }
   ],
   "source": [
    "data = [(\"Vikas\", \"36636\", \"IT\", 300000, \"USA\", 25), \n",
    "        (\"Mukul\" ,\"40288\", \"Finance\", 500000, \"IND\", 35), \n",
    "        (\"Kannan\" ,\"42114\", \"Sales\", 390000, \"AUS\", 23), \n",
    "        (\"Rishab\" ,\"39192\", \"Marketing\", 250000, \"CAN\", 31), \n",
    "        (\"Amaresh\" ,\"34534\", \"Maintenance\", 650000, \"NZ\", 37),\n",
    "        (\"Prakash\" ,\"69114\", \"Sales\", 390000, \"AUS\", 23), \n",
    "        (\"Pramod\" ,\"78192\", \"Marketing\", 250000, \"CAN\", 31), \n",
    "        (\"Prasad\" ,\"56534\", \"Maintenance\", 650000, \"NZ\", 37),\n",
    "        ]\n",
    "\n",
    "schema = StructType([\n",
    "     StructField('Name', StringType(), True),\n",
    "     StructField('ProductId', StringType(), True),\n",
    "     StructField('deptartment', StringType(), True),\n",
    "     StructField('budget', IntegerType(), True),\n",
    "     StructField('location', StringType(), True),\n",
    "     StructField('Age', IntegerType(), True)\n",
    "     ])\n",
    "\n",
    "df = spark.createDataFrame(data=data, schema=schema)\n",
    "df.printSchema()\n",
    "display(df)"
   ]
  },
  {
   "cell_type": "markdown",
   "metadata": {
    "application/vnd.databricks.v1+cell": {
     "cellMetadata": {},
     "inputWidgets": {},
     "nuid": "8677fbba-8678-4bee-8c64-81f2c4524232",
     "showTitle": false,
     "tableResultSettingsMap": {},
     "title": ""
    }
   },
   "source": [
    "**How to create a MapType column in PySpark Azure Databricks using various methods**\n",
    "- All below codes generates the same output.\n",
    "\n",
    "      from pyspark.sql.functions import create_map, col\n",
    "\n",
    "      # Method 1:\n",
    "      df.select(\"*\", create_map(\"name\", \"age\")).show()\n",
    "\n",
    "      # Method 2:\n",
    "      df.select(\"*\", create_map([\"name\", \"age\"])).show()\n",
    "\n",
    "      # Method 3:\n",
    "      df.select(\"*\", create_map(col(\"name\"), col(\"age\"))).show()\n",
    "\n",
    "      # Method 4:\n",
    "      df.select(\"*\", create_map([col(\"name\"), col(\"age\")])).show()\n"
   ]
  },
  {
   "cell_type": "markdown",
   "metadata": {
    "application/vnd.databricks.v1+cell": {
     "cellMetadata": {},
     "inputWidgets": {},
     "nuid": "fc639aec-f665-4dff-b15f-df6e17c6e6b2",
     "showTitle": false,
     "tableResultSettingsMap": {},
     "title": ""
    }
   },
   "source": [
    "#### **Convert Columns to dictionary**"
   ]
  },
  {
   "cell_type": "code",
   "execution_count": 0,
   "metadata": {
    "application/vnd.databricks.v1+cell": {
     "cellMetadata": {
      "byteLimit": 2048000,
      "rowLimit": 10000
     },
     "inputWidgets": {},
     "nuid": "bcc4c35a-13f1-4209-a414-5e4284f9ec44",
     "showTitle": false,
     "tableResultSettingsMap": {},
     "title": ""
    }
   },
   "outputs": [
    {
     "output_type": "display_data",
     "data": {
      "text/html": [
       "<style scoped>\n",
       "  .table-result-container {\n",
       "    max-height: 300px;\n",
       "    overflow: auto;\n",
       "  }\n",
       "  table, th, td {\n",
       "    border: 1px solid black;\n",
       "    border-collapse: collapse;\n",
       "  }\n",
       "  th, td {\n",
       "    padding: 5px;\n",
       "  }\n",
       "  th {\n",
       "    text-align: left;\n",
       "  }\n",
       "</style><div class='table-result-container'><table class='table-result'><thead style='background-color: white'><tr><th>Name</th><th>ProductId</th><th>deptartment</th><th>budget</th><th>location</th><th>Age</th><th>dept_sal</th></tr></thead><tbody><tr><td>Vikas</td><td>36636</td><td>IT</td><td>300000</td><td>USA</td><td>25</td><td>Map(IT -> 300000)</td></tr><tr><td>Mukul</td><td>40288</td><td>Finance</td><td>500000</td><td>IND</td><td>35</td><td>Map(Finance -> 500000)</td></tr><tr><td>Kannan</td><td>42114</td><td>Sales</td><td>390000</td><td>AUS</td><td>23</td><td>Map(Sales -> 390000)</td></tr><tr><td>Rishab</td><td>39192</td><td>Marketing</td><td>250000</td><td>CAN</td><td>31</td><td>Map(Marketing -> 250000)</td></tr><tr><td>Amaresh</td><td>34534</td><td>Maintenance</td><td>650000</td><td>NZ</td><td>37</td><td>Map(Maintenance -> 650000)</td></tr><tr><td>Prakash</td><td>69114</td><td>Sales</td><td>390000</td><td>AUS</td><td>23</td><td>Map(Sales -> 390000)</td></tr><tr><td>Pramod</td><td>78192</td><td>Marketing</td><td>250000</td><td>CAN</td><td>31</td><td>Map(Marketing -> 250000)</td></tr><tr><td>Prasad</td><td>56534</td><td>Maintenance</td><td>650000</td><td>NZ</td><td>37</td><td>Map(Maintenance -> 650000)</td></tr></tbody></table></div>"
      ]
     },
     "metadata": {
      "application/vnd.databricks.v1+output": {
       "addedWidgets": {},
       "aggData": [],
       "aggError": "",
       "aggOverflow": false,
       "aggSchema": [],
       "aggSeriesLimitReached": false,
       "aggType": "",
       "arguments": {},
       "columnCustomDisplayInfos": {},
       "data": [
        [
         "Vikas",
         "36636",
         "IT",
         300000,
         "USA",
         25,
         {
          "IT": 300000
         }
        ],
        [
         "Mukul",
         "40288",
         "Finance",
         500000,
         "IND",
         35,
         {
          "Finance": 500000
         }
        ],
        [
         "Kannan",
         "42114",
         "Sales",
         390000,
         "AUS",
         23,
         {
          "Sales": 390000
         }
        ],
        [
         "Rishab",
         "39192",
         "Marketing",
         250000,
         "CAN",
         31,
         {
          "Marketing": 250000
         }
        ],
        [
         "Amaresh",
         "34534",
         "Maintenance",
         650000,
         "NZ",
         37,
         {
          "Maintenance": 650000
         }
        ],
        [
         "Prakash",
         "69114",
         "Sales",
         390000,
         "AUS",
         23,
         {
          "Sales": 390000
         }
        ],
        [
         "Pramod",
         "78192",
         "Marketing",
         250000,
         "CAN",
         31,
         {
          "Marketing": 250000
         }
        ],
        [
         "Prasad",
         "56534",
         "Maintenance",
         650000,
         "NZ",
         37,
         {
          "Maintenance": 650000
         }
        ]
       ],
       "datasetInfos": [],
       "dbfsResultPath": null,
       "isJsonSchema": true,
       "metadata": {},
       "overflow": false,
       "plotOptions": {
        "customPlotOptions": {},
        "displayType": "table",
        "pivotAggregation": null,
        "pivotColumns": null,
        "xColumns": null,
        "yColumns": null
       },
       "removedWidgets": [],
       "schema": [
        {
         "metadata": "{}",
         "name": "Name",
         "type": "\"string\""
        },
        {
         "metadata": "{}",
         "name": "ProductId",
         "type": "\"string\""
        },
        {
         "metadata": "{}",
         "name": "deptartment",
         "type": "\"string\""
        },
        {
         "metadata": "{}",
         "name": "budget",
         "type": "\"integer\""
        },
        {
         "metadata": "{}",
         "name": "location",
         "type": "\"string\""
        },
        {
         "metadata": "{}",
         "name": "Age",
         "type": "\"integer\""
        },
        {
         "metadata": "{}",
         "name": "dept_sal",
         "type": "{\"type\":\"map\",\"keyType\":\"string\",\"valueType\":\"integer\",\"valueContainsNull\":true}"
        }
       ],
       "type": "table"
      }
     },
     "output_type": "display_data"
    }
   ],
   "source": [
    "df_dict = df.select('*', create_map(col('deptartment'), col('budget')).alias('dept_sal'))\n",
    "display(df_dict)"
   ]
  },
  {
   "cell_type": "code",
   "execution_count": 0,
   "metadata": {
    "application/vnd.databricks.v1+cell": {
     "cellMetadata": {
      "byteLimit": 2048000,
      "rowLimit": 10000
     },
     "inputWidgets": {},
     "nuid": "f26c59ec-bd83-4027-8123-2cabcfaa3078",
     "showTitle": false,
     "tableResultSettingsMap": {},
     "title": ""
    }
   },
   "outputs": [
    {
     "output_type": "stream",
     "name": "stdout",
     "output_type": "stream",
     "text": [
      "+-------+---------+-----------+------+--------+---+-----------------------+\n|Name   |ProductId|deptartment|budget|location|Age|dept_sal               |\n+-------+---------+-----------+------+--------+---+-----------------------+\n|Vikas  |36636    |IT         |300000|USA     |25 |{IT -> 300000}         |\n|Mukul  |40288    |Finance    |500000|IND     |35 |{Finance -> 500000}    |\n|Kannan |42114    |Sales      |390000|AUS     |23 |{Sales -> 390000}      |\n|Rishab |39192    |Marketing  |250000|CAN     |31 |{Marketing -> 250000}  |\n|Amaresh|34534    |Maintenance|650000|NZ      |37 |{Maintenance -> 650000}|\n|Prakash|69114    |Sales      |390000|AUS     |23 |{Sales -> 390000}      |\n|Pramod |78192    |Marketing  |250000|CAN     |31 |{Marketing -> 250000}  |\n|Prasad |56534    |Maintenance|650000|NZ      |37 |{Maintenance -> 650000}|\n+-------+---------+-----------+------+--------+---+-----------------------+\n\n"
     ]
    }
   ],
   "source": [
    "df_dict.show(truncate=False)"
   ]
  },
  {
   "cell_type": "markdown",
   "metadata": {
    "application/vnd.databricks.v1+cell": {
     "cellMetadata": {},
     "inputWidgets": {},
     "nuid": "888f8ee8-ce8e-49ab-98f2-6849899304a5",
     "showTitle": false,
     "tableResultSettingsMap": {},
     "title": ""
    }
   },
   "source": [
    "**AVRO Schema for Dept_Metadata**\n",
    "\n",
    "     {\n",
    "       \"name\": \"Dept_Metadata\",\n",
    "       \"type\": [\n",
    "         \"null\",\n",
    "         {\n",
    "           \"type\": \"map\",\n",
    "           \"values\": \"string\"\n",
    "         }\n",
    "       ],\n",
    "       \"doc\": \"key value pair, e.g deptartment, budget\",\n",
    "       \"default\": null\n",
    "     }"
   ]
  },
  {
   "cell_type": "code",
   "execution_count": 0,
   "metadata": {
    "application/vnd.databricks.v1+cell": {
     "cellMetadata": {
      "byteLimit": 2048000,
      "rowLimit": 10000
     },
     "inputWidgets": {},
     "nuid": "823b9f30-f6a5-4832-8218-2885eda2f526",
     "showTitle": false,
     "tableResultSettingsMap": {},
     "title": ""
    }
   },
   "outputs": [
    {
     "output_type": "stream",
     "name": "stdout",
     "output_type": "stream",
     "text": [
      "root\n |-- Name: string (nullable = true)\n |-- ProductId: string (nullable = true)\n |-- deptartment: string (nullable = true)\n |-- budget: integer (nullable = true)\n |-- location: string (nullable = true)\n |-- Age: integer (nullable = true)\n |-- Dept_Metadata: map (nullable = false)\n |    |-- key: string\n |    |-- value: string (valueContainsNull = true)\n\n"
     ]
    },
    {
     "output_type": "display_data",
     "data": {
      "text/html": [
       "<style scoped>\n",
       "  .table-result-container {\n",
       "    max-height: 300px;\n",
       "    overflow: auto;\n",
       "  }\n",
       "  table, th, td {\n",
       "    border: 1px solid black;\n",
       "    border-collapse: collapse;\n",
       "  }\n",
       "  th, td {\n",
       "    padding: 5px;\n",
       "  }\n",
       "  th {\n",
       "    text-align: left;\n",
       "  }\n",
       "</style><div class='table-result-container'><table class='table-result'><thead style='background-color: white'><tr><th>Name</th><th>ProductId</th><th>deptartment</th><th>budget</th><th>location</th><th>Age</th><th>Dept_Metadata</th></tr></thead><tbody><tr><td>Vikas</td><td>36636</td><td>IT</td><td>300000</td><td>USA</td><td>25</td><td>Map(deptartment -> IT, budget -> 300000)</td></tr><tr><td>Mukul</td><td>40288</td><td>Finance</td><td>500000</td><td>IND</td><td>35</td><td>Map(deptartment -> Finance, budget -> 500000)</td></tr><tr><td>Kannan</td><td>42114</td><td>Sales</td><td>390000</td><td>AUS</td><td>23</td><td>Map(deptartment -> Sales, budget -> 390000)</td></tr><tr><td>Rishab</td><td>39192</td><td>Marketing</td><td>250000</td><td>CAN</td><td>31</td><td>Map(deptartment -> Marketing, budget -> 250000)</td></tr><tr><td>Amaresh</td><td>34534</td><td>Maintenance</td><td>650000</td><td>NZ</td><td>37</td><td>Map(deptartment -> Maintenance, budget -> 650000)</td></tr><tr><td>Prakash</td><td>69114</td><td>Sales</td><td>390000</td><td>AUS</td><td>23</td><td>Map(deptartment -> Sales, budget -> 390000)</td></tr><tr><td>Pramod</td><td>78192</td><td>Marketing</td><td>250000</td><td>CAN</td><td>31</td><td>Map(deptartment -> Marketing, budget -> 250000)</td></tr><tr><td>Prasad</td><td>56534</td><td>Maintenance</td><td>650000</td><td>NZ</td><td>37</td><td>Map(deptartment -> Maintenance, budget -> 650000)</td></tr></tbody></table></div>"
      ]
     },
     "metadata": {
      "application/vnd.databricks.v1+output": {
       "addedWidgets": {},
       "aggData": [],
       "aggError": "",
       "aggOverflow": false,
       "aggSchema": [],
       "aggSeriesLimitReached": false,
       "aggType": "",
       "arguments": {},
       "columnCustomDisplayInfos": {},
       "data": [
        [
         "Vikas",
         "36636",
         "IT",
         300000,
         "USA",
         25,
         {
          "budget": "300000",
          "deptartment": "IT"
         }
        ],
        [
         "Mukul",
         "40288",
         "Finance",
         500000,
         "IND",
         35,
         {
          "budget": "500000",
          "deptartment": "Finance"
         }
        ],
        [
         "Kannan",
         "42114",
         "Sales",
         390000,
         "AUS",
         23,
         {
          "budget": "390000",
          "deptartment": "Sales"
         }
        ],
        [
         "Rishab",
         "39192",
         "Marketing",
         250000,
         "CAN",
         31,
         {
          "budget": "250000",
          "deptartment": "Marketing"
         }
        ],
        [
         "Amaresh",
         "34534",
         "Maintenance",
         650000,
         "NZ",
         37,
         {
          "budget": "650000",
          "deptartment": "Maintenance"
         }
        ],
        [
         "Prakash",
         "69114",
         "Sales",
         390000,
         "AUS",
         23,
         {
          "budget": "390000",
          "deptartment": "Sales"
         }
        ],
        [
         "Pramod",
         "78192",
         "Marketing",
         250000,
         "CAN",
         31,
         {
          "budget": "250000",
          "deptartment": "Marketing"
         }
        ],
        [
         "Prasad",
         "56534",
         "Maintenance",
         650000,
         "NZ",
         37,
         {
          "budget": "650000",
          "deptartment": "Maintenance"
         }
        ]
       ],
       "datasetInfos": [],
       "dbfsResultPath": null,
       "isJsonSchema": true,
       "metadata": {},
       "overflow": false,
       "plotOptions": {
        "customPlotOptions": {},
        "displayType": "table",
        "pivotAggregation": null,
        "pivotColumns": null,
        "xColumns": null,
        "yColumns": null
       },
       "removedWidgets": [],
       "schema": [
        {
         "metadata": "{}",
         "name": "Name",
         "type": "\"string\""
        },
        {
         "metadata": "{}",
         "name": "ProductId",
         "type": "\"string\""
        },
        {
         "metadata": "{}",
         "name": "deptartment",
         "type": "\"string\""
        },
        {
         "metadata": "{}",
         "name": "budget",
         "type": "\"integer\""
        },
        {
         "metadata": "{}",
         "name": "location",
         "type": "\"string\""
        },
        {
         "metadata": "{}",
         "name": "Age",
         "type": "\"integer\""
        },
        {
         "metadata": "{}",
         "name": "Dept_Metadata",
         "type": "{\"type\":\"map\",\"keyType\":\"string\",\"valueType\":\"string\",\"valueContainsNull\":true}"
        }
       ],
       "type": "table"
      }
     },
     "output_type": "display_data"
    }
   ],
   "source": [
    "# Convert columns to Map\n",
    "df_map = df.withColumn(\"Dept_Metadata\", create_map(lit(\"deptartment\"), col(\"deptartment\"),\n",
    "                                                   lit(\"budget\"), col(\"budget\"))\n",
    "                       )\n",
    "\n",
    "df_map.printSchema()\n",
    "display(df_map)"
   ]
  },
  {
   "cell_type": "code",
   "execution_count": 0,
   "metadata": {
    "application/vnd.databricks.v1+cell": {
     "cellMetadata": {
      "byteLimit": 2048000,
      "rowLimit": 10000
     },
     "inputWidgets": {},
     "nuid": "abc11354-92e5-434f-bdfc-78c9f6b3c8ff",
     "showTitle": false,
     "tableResultSettingsMap": {},
     "title": ""
    }
   },
   "outputs": [
    {
     "output_type": "stream",
     "name": "stdout",
     "output_type": "stream",
     "text": [
      "+-------+---------+-----------+------+--------+---+----------------------------------------------+\n|Name   |ProductId|deptartment|budget|location|Age|Dept_Metadata                                 |\n+-------+---------+-----------+------+--------+---+----------------------------------------------+\n|Vikas  |36636    |IT         |300000|USA     |25 |{deptartment -> IT, budget -> 300000}         |\n|Mukul  |40288    |Finance    |500000|IND     |35 |{deptartment -> Finance, budget -> 500000}    |\n|Kannan |42114    |Sales      |390000|AUS     |23 |{deptartment -> Sales, budget -> 390000}      |\n|Rishab |39192    |Marketing  |250000|CAN     |31 |{deptartment -> Marketing, budget -> 250000}  |\n|Amaresh|34534    |Maintenance|650000|NZ      |37 |{deptartment -> Maintenance, budget -> 650000}|\n|Prakash|69114    |Sales      |390000|AUS     |23 |{deptartment -> Sales, budget -> 390000}      |\n|Pramod |78192    |Marketing  |250000|CAN     |31 |{deptartment -> Marketing, budget -> 250000}  |\n|Prasad |56534    |Maintenance|650000|NZ      |37 |{deptartment -> Maintenance, budget -> 650000}|\n+-------+---------+-----------+------+--------+---+----------------------------------------------+\n\n"
     ]
    }
   ],
   "source": [
    "df_map.show(truncate=False)"
   ]
  },
  {
   "cell_type": "markdown",
   "metadata": {
    "application/vnd.databricks.v1+cell": {
     "cellMetadata": {},
     "inputWidgets": {},
     "nuid": "cb70f7c0-f768-4340-b4bf-609bdeacba94",
     "showTitle": false,
     "tableResultSettingsMap": {},
     "title": ""
    }
   },
   "source": [
    "**AVRO Schema for Dept_Metadata**\n",
    "\n",
    "     {\n",
    "       \"name\": \"Dept_Metadata\",\n",
    "       \"type\": [\n",
    "         \"null\",\n",
    "         {\n",
    "           \"type\": \"map\",\n",
    "           \"values\": \"string\"\n",
    "         }\n",
    "       ],\n",
    "       \"doc\": \"key value pair, e.g Name, deptartment, budget, location\",\n",
    "       \"default\": null\n",
    "     }"
   ]
  },
  {
   "cell_type": "code",
   "execution_count": 0,
   "metadata": {
    "application/vnd.databricks.v1+cell": {
     "cellMetadata": {
      "byteLimit": 2048000,
      "rowLimit": 10000
     },
     "inputWidgets": {},
     "nuid": "825bec51-98e8-4dde-a984-8cb03f5a7a07",
     "showTitle": false,
     "tableResultSettingsMap": {},
     "title": ""
    }
   },
   "outputs": [
    {
     "output_type": "stream",
     "name": "stdout",
     "output_type": "stream",
     "text": [
      "root\n |-- ProductId: string (nullable = true)\n |-- Age: integer (nullable = true)\n |-- propertiesMap: map (nullable = false)\n |    |-- key: string\n |    |-- value: string (valueContainsNull = true)\n\n"
     ]
    },
    {
     "output_type": "display_data",
     "data": {
      "text/html": [
       "<style scoped>\n",
       "  .table-result-container {\n",
       "    max-height: 300px;\n",
       "    overflow: auto;\n",
       "  }\n",
       "  table, th, td {\n",
       "    border: 1px solid black;\n",
       "    border-collapse: collapse;\n",
       "  }\n",
       "  th, td {\n",
       "    padding: 5px;\n",
       "  }\n",
       "  th {\n",
       "    text-align: left;\n",
       "  }\n",
       "</style><div class='table-result-container'><table class='table-result'><thead style='background-color: white'><tr><th>ProductId</th><th>Age</th><th>propertiesMap</th></tr></thead><tbody><tr><td>36636</td><td>25</td><td>Map(Name -> Vikas, deptartment -> IT, budget -> 300000, location -> USA)</td></tr><tr><td>40288</td><td>35</td><td>Map(Name -> Mukul, deptartment -> Finance, budget -> 500000, location -> IND)</td></tr><tr><td>42114</td><td>23</td><td>Map(Name -> Kannan, deptartment -> Sales, budget -> 390000, location -> AUS)</td></tr><tr><td>39192</td><td>31</td><td>Map(Name -> Rishab, deptartment -> Marketing, budget -> 250000, location -> CAN)</td></tr><tr><td>34534</td><td>37</td><td>Map(Name -> Amaresh, deptartment -> Maintenance, budget -> 650000, location -> NZ)</td></tr><tr><td>69114</td><td>23</td><td>Map(Name -> Prakash, deptartment -> Sales, budget -> 390000, location -> AUS)</td></tr><tr><td>78192</td><td>31</td><td>Map(Name -> Pramod, deptartment -> Marketing, budget -> 250000, location -> CAN)</td></tr><tr><td>56534</td><td>37</td><td>Map(Name -> Prasad, deptartment -> Maintenance, budget -> 650000, location -> NZ)</td></tr></tbody></table></div>"
      ]
     },
     "metadata": {
      "application/vnd.databricks.v1+output": {
       "addedWidgets": {},
       "aggData": [],
       "aggError": "",
       "aggOverflow": false,
       "aggSchema": [],
       "aggSeriesLimitReached": false,
       "aggType": "",
       "arguments": {},
       "columnCustomDisplayInfos": {},
       "data": [
        [
         "36636",
         25,
         {
          "Name": "Vikas",
          "budget": "300000",
          "deptartment": "IT",
          "location": "USA"
         }
        ],
        [
         "40288",
         35,
         {
          "Name": "Mukul",
          "budget": "500000",
          "deptartment": "Finance",
          "location": "IND"
         }
        ],
        [
         "42114",
         23,
         {
          "Name": "Kannan",
          "budget": "390000",
          "deptartment": "Sales",
          "location": "AUS"
         }
        ],
        [
         "39192",
         31,
         {
          "Name": "Rishab",
          "budget": "250000",
          "deptartment": "Marketing",
          "location": "CAN"
         }
        ],
        [
         "34534",
         37,
         {
          "Name": "Amaresh",
          "budget": "650000",
          "deptartment": "Maintenance",
          "location": "NZ"
         }
        ],
        [
         "69114",
         23,
         {
          "Name": "Prakash",
          "budget": "390000",
          "deptartment": "Sales",
          "location": "AUS"
         }
        ],
        [
         "78192",
         31,
         {
          "Name": "Pramod",
          "budget": "250000",
          "deptartment": "Marketing",
          "location": "CAN"
         }
        ],
        [
         "56534",
         37,
         {
          "Name": "Prasad",
          "budget": "650000",
          "deptartment": "Maintenance",
          "location": "NZ"
         }
        ]
       ],
       "datasetInfos": [],
       "dbfsResultPath": null,
       "isJsonSchema": true,
       "metadata": {},
       "overflow": false,
       "plotOptions": {
        "customPlotOptions": {},
        "displayType": "table",
        "pivotAggregation": null,
        "pivotColumns": null,
        "xColumns": null,
        "yColumns": null
       },
       "removedWidgets": [],
       "schema": [
        {
         "metadata": "{}",
         "name": "ProductId",
         "type": "\"string\""
        },
        {
         "metadata": "{}",
         "name": "Age",
         "type": "\"integer\""
        },
        {
         "metadata": "{}",
         "name": "propertiesMap",
         "type": "{\"type\":\"map\",\"keyType\":\"string\",\"valueType\":\"string\",\"valueContainsNull\":true}"
        }
       ],
       "type": "table"
      }
     },
     "output_type": "display_data"
    }
   ],
   "source": [
    "# Convert columns to Map\n",
    "df_map1 = df.withColumn(\"propertiesMap\", create_map(lit(\"Name\"), col(\"Name\"),\n",
    "                                                    lit(\"deptartment\"), col(\"deptartment\"),\n",
    "                                                    lit(\"budget\"), col(\"budget\"),\n",
    "                                                    lit(\"location\"), col(\"location\")))\\\n",
    "            .drop('Name', 'deptartment', 'budget', 'location')\n",
    "df_map1.printSchema()\n",
    "display(df_map1)"
   ]
  },
  {
   "cell_type": "code",
   "execution_count": 0,
   "metadata": {
    "application/vnd.databricks.v1+cell": {
     "cellMetadata": {
      "byteLimit": 2048000,
      "rowLimit": 10000
     },
     "inputWidgets": {},
     "nuid": "600199ab-ed58-4c4d-b971-56fc0599ce77",
     "showTitle": false,
     "tableResultSettingsMap": {},
     "title": ""
    }
   },
   "outputs": [
    {
     "output_type": "stream",
     "name": "stdout",
     "output_type": "stream",
     "text": [
      "+---------+---+-------------------------------------------------------------------------------+\n|ProductId|Age|propertiesMap                                                                  |\n+---------+---+-------------------------------------------------------------------------------+\n|36636    |25 |{Name -> Vikas, deptartment -> IT, budget -> 300000, location -> USA}          |\n|40288    |35 |{Name -> Mukul, deptartment -> Finance, budget -> 500000, location -> IND}     |\n|42114    |23 |{Name -> Kannan, deptartment -> Sales, budget -> 390000, location -> AUS}      |\n|39192    |31 |{Name -> Rishab, deptartment -> Marketing, budget -> 250000, location -> CAN}  |\n|34534    |37 |{Name -> Amaresh, deptartment -> Maintenance, budget -> 650000, location -> NZ}|\n|69114    |23 |{Name -> Prakash, deptartment -> Sales, budget -> 390000, location -> AUS}     |\n|78192    |31 |{Name -> Pramod, deptartment -> Marketing, budget -> 250000, location -> CAN}  |\n|56534    |37 |{Name -> Prasad, deptartment -> Maintenance, budget -> 650000, location -> NZ} |\n+---------+---+-------------------------------------------------------------------------------+\n\n"
     ]
    }
   ],
   "source": [
    "df_map1.show(truncate=False)"
   ]
  },
  {
   "cell_type": "code",
   "execution_count": 0,
   "metadata": {
    "application/vnd.databricks.v1+cell": {
     "cellMetadata": {
      "byteLimit": 2048000,
      "rowLimit": 10000
     },
     "inputWidgets": {},
     "nuid": "c1585a7d-5713-4aa0-892a-bdb6885f1037",
     "showTitle": true,
     "tableResultSettingsMap": {},
     "title": "concat with lit"
    }
   },
   "outputs": [
    {
     "output_type": "stream",
     "name": "stdout",
     "output_type": "stream",
     "text": [
      "root\n |-- ProductId: string (nullable = true)\n |-- Age: integer (nullable = true)\n |-- propertiesMap: map (nullable = false)\n |    |-- key: string\n |    |-- value: string (valueContainsNull = true)\n\n"
     ]
    },
    {
     "output_type": "display_data",
     "data": {
      "text/html": [
       "<style scoped>\n",
       "  .table-result-container {\n",
       "    max-height: 300px;\n",
       "    overflow: auto;\n",
       "  }\n",
       "  table, th, td {\n",
       "    border: 1px solid black;\n",
       "    border-collapse: collapse;\n",
       "  }\n",
       "  th, td {\n",
       "    padding: 5px;\n",
       "  }\n",
       "  th {\n",
       "    text-align: left;\n",
       "  }\n",
       "</style><div class='table-result-container'><table class='table-result'><thead style='background-color: white'><tr><th>ProductId</th><th>Age</th><th>propertiesMap</th></tr></thead><tbody><tr><td>36636</td><td>25</td><td>Map(Name -> Mr.Vikas, deptartment -> IT, budget -> Rs300000/-, location -> USA)</td></tr><tr><td>40288</td><td>35</td><td>Map(Name -> Mr.Mukul, deptartment -> Finance, budget -> Rs500000/-, location -> IND)</td></tr><tr><td>42114</td><td>23</td><td>Map(Name -> Mr.Kannan, deptartment -> Sales, budget -> Rs390000/-, location -> AUS)</td></tr><tr><td>39192</td><td>31</td><td>Map(Name -> Mr.Rishab, deptartment -> Marketing, budget -> Rs250000/-, location -> CAN)</td></tr><tr><td>34534</td><td>37</td><td>Map(Name -> Mr.Amaresh, deptartment -> Maintenance, budget -> Rs650000/-, location -> NZ)</td></tr><tr><td>69114</td><td>23</td><td>Map(Name -> Mr.Prakash, deptartment -> Sales, budget -> Rs390000/-, location -> AUS)</td></tr><tr><td>78192</td><td>31</td><td>Map(Name -> Mr.Pramod, deptartment -> Marketing, budget -> Rs250000/-, location -> CAN)</td></tr><tr><td>56534</td><td>37</td><td>Map(Name -> Mr.Prasad, deptartment -> Maintenance, budget -> Rs650000/-, location -> NZ)</td></tr></tbody></table></div>"
      ]
     },
     "metadata": {
      "application/vnd.databricks.v1+output": {
       "addedWidgets": {},
       "aggData": [],
       "aggError": "",
       "aggOverflow": false,
       "aggSchema": [],
       "aggSeriesLimitReached": false,
       "aggType": "",
       "arguments": {},
       "columnCustomDisplayInfos": {},
       "data": [
        [
         "36636",
         25,
         {
          "Name": "Mr.Vikas",
          "budget": "Rs300000/-",
          "deptartment": "IT",
          "location": "USA"
         }
        ],
        [
         "40288",
         35,
         {
          "Name": "Mr.Mukul",
          "budget": "Rs500000/-",
          "deptartment": "Finance",
          "location": "IND"
         }
        ],
        [
         "42114",
         23,
         {
          "Name": "Mr.Kannan",
          "budget": "Rs390000/-",
          "deptartment": "Sales",
          "location": "AUS"
         }
        ],
        [
         "39192",
         31,
         {
          "Name": "Mr.Rishab",
          "budget": "Rs250000/-",
          "deptartment": "Marketing",
          "location": "CAN"
         }
        ],
        [
         "34534",
         37,
         {
          "Name": "Mr.Amaresh",
          "budget": "Rs650000/-",
          "deptartment": "Maintenance",
          "location": "NZ"
         }
        ],
        [
         "69114",
         23,
         {
          "Name": "Mr.Prakash",
          "budget": "Rs390000/-",
          "deptartment": "Sales",
          "location": "AUS"
         }
        ],
        [
         "78192",
         31,
         {
          "Name": "Mr.Pramod",
          "budget": "Rs250000/-",
          "deptartment": "Marketing",
          "location": "CAN"
         }
        ],
        [
         "56534",
         37,
         {
          "Name": "Mr.Prasad",
          "budget": "Rs650000/-",
          "deptartment": "Maintenance",
          "location": "NZ"
         }
        ]
       ],
       "datasetInfos": [],
       "dbfsResultPath": null,
       "isJsonSchema": true,
       "metadata": {},
       "overflow": false,
       "plotOptions": {
        "customPlotOptions": {},
        "displayType": "table",
        "pivotAggregation": null,
        "pivotColumns": null,
        "xColumns": null,
        "yColumns": null
       },
       "removedWidgets": [],
       "schema": [
        {
         "metadata": "{}",
         "name": "ProductId",
         "type": "\"string\""
        },
        {
         "metadata": "{}",
         "name": "Age",
         "type": "\"integer\""
        },
        {
         "metadata": "{}",
         "name": "propertiesMap",
         "type": "{\"type\":\"map\",\"keyType\":\"string\",\"valueType\":\"string\",\"valueContainsNull\":true}"
        }
       ],
       "type": "table"
      }
     },
     "output_type": "display_data"
    }
   ],
   "source": [
    "# Convert columns to Map\n",
    "df_map2 = df.withColumn(\"propertiesMap\", create_map(lit(\"Name\"), concat(lit(\"Mr.\"), col(\"Name\")),\n",
    "                                                    lit(\"deptartment\"), col(\"deptartment\"),\n",
    "                                                    lit(\"budget\"), concat(lit(\"Rs\"), col(\"budget\"), lit(\"/-\")),\n",
    "                                                    lit(\"location\"), col(\"location\")))\\\n",
    "            .drop('Name', 'deptartment', 'budget', 'location')\n",
    "df_map2.printSchema()\n",
    "display(df_map2)"
   ]
  },
  {
   "cell_type": "code",
   "execution_count": 0,
   "metadata": {
    "application/vnd.databricks.v1+cell": {
     "cellMetadata": {
      "byteLimit": 2048000,
      "rowLimit": 10000
     },
     "inputWidgets": {},
     "nuid": "a6454608-d1a6-4cbf-8f70-92aeb0d99bbc",
     "showTitle": false,
     "tableResultSettingsMap": {},
     "title": ""
    }
   },
   "outputs": [
    {
     "output_type": "stream",
     "name": "stdout",
     "output_type": "stream",
     "text": [
      "+---------+---+--------------------------------------------------------------------------------------+\n|ProductId|Age|propertiesMap                                                                         |\n+---------+---+--------------------------------------------------------------------------------------+\n|36636    |25 |{Name -> Mr.Vikas, deptartment -> IT, budget -> Rs300000/-, location -> USA}          |\n|40288    |35 |{Name -> Mr.Mukul, deptartment -> Finance, budget -> Rs500000/-, location -> IND}     |\n|42114    |23 |{Name -> Mr.Kannan, deptartment -> Sales, budget -> Rs390000/-, location -> AUS}      |\n|39192    |31 |{Name -> Mr.Rishab, deptartment -> Marketing, budget -> Rs250000/-, location -> CAN}  |\n|34534    |37 |{Name -> Mr.Amaresh, deptartment -> Maintenance, budget -> Rs650000/-, location -> NZ}|\n|69114    |23 |{Name -> Mr.Prakash, deptartment -> Sales, budget -> Rs390000/-, location -> AUS}     |\n|78192    |31 |{Name -> Mr.Pramod, deptartment -> Marketing, budget -> Rs250000/-, location -> CAN}  |\n|56534    |37 |{Name -> Mr.Prasad, deptartment -> Maintenance, budget -> Rs650000/-, location -> NZ} |\n+---------+---+--------------------------------------------------------------------------------------+\n\n"
     ]
    }
   ],
   "source": [
    "df_map2.show(truncate=False)"
   ]
  }
 ],
 "metadata": {
  "application/vnd.databricks.v1+notebook": {
   "dashboards": [],
   "environmentMetadata": null,
   "language": "python",
   "notebookMetadata": {
    "pythonIndentUnit": 2
   },
   "notebookName": "73_How to Convert DataFrame Columns to MapType using create_map()",
   "widgets": {}
  }
 },
 "nbformat": 4,
 "nbformat_minor": 0
}
