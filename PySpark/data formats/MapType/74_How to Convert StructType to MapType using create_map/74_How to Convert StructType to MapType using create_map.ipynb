{
 "cells": [
  {
   "cell_type": "markdown",
   "metadata": {
    "application/vnd.databricks.v1+cell": {
     "cellMetadata": {},
     "inputWidgets": {},
     "nuid": "07b89436-b5a2-4334-951a-8ad841d864a0",
     "showTitle": false,
     "tableResultSettingsMap": {},
     "title": ""
    }
   },
   "source": [
    "- To convert a **StructType (struct)** DataFrame column to a **MapType (map)** column in PySpark, you can use the **create_map** function."
   ]
  },
  {
   "cell_type": "code",
   "execution_count": 0,
   "metadata": {
    "application/vnd.databricks.v1+cell": {
     "cellMetadata": {
      "byteLimit": 2048000,
      "rowLimit": 10000
     },
     "inputWidgets": {},
     "nuid": "15dc418d-320d-4d62-89e3-64c70d0345d6",
     "showTitle": false,
     "tableResultSettingsMap": {},
     "title": ""
    }
   },
   "outputs": [],
   "source": [
    "from pyspark.sql.types import StructType,StructField, StringType, IntegerType"
   ]
  },
  {
   "cell_type": "code",
   "execution_count": 0,
   "metadata": {
    "application/vnd.databricks.v1+cell": {
     "cellMetadata": {
      "byteLimit": 2048000,
      "rowLimit": 10000
     },
     "inputWidgets": {},
     "nuid": "7026346f-9088-4a66-a5ab-d24e9bd9a1ca",
     "showTitle": true,
     "tableResultSettingsMap": {},
     "title": "sample dataset"
    }
   },
   "outputs": [
    {
     "output_type": "stream",
     "name": "stdout",
     "output_type": "stream",
     "text": [
      "root\n |-- id: string (nullable = true)\n |-- dept: string (nullable = true)\n |-- properties: struct (nullable = true)\n |    |-- salary: integer (nullable = true)\n |    |-- location: string (nullable = true)\n\n"
     ]
    },
    {
     "output_type": "display_data",
     "data": {
      "text/html": [
       "<style scoped>\n",
       "  .table-result-container {\n",
       "    max-height: 300px;\n",
       "    overflow: auto;\n",
       "  }\n",
       "  table, th, td {\n",
       "    border: 1px solid black;\n",
       "    border-collapse: collapse;\n",
       "  }\n",
       "  th, td {\n",
       "    padding: 5px;\n",
       "  }\n",
       "  th {\n",
       "    text-align: left;\n",
       "  }\n",
       "</style><div class='table-result-container'><table class='table-result'><thead style='background-color: white'><tr><th>id</th><th>dept</th><th>properties</th></tr></thead><tbody><tr><td>36636</td><td>Finance</td><td>List(3000, USA)</td></tr><tr><td>40288</td><td>Finance</td><td>List(5000, IND)</td></tr><tr><td>42114</td><td>Sales</td><td>List(3900, USA)</td></tr><tr><td>39192</td><td>Marketing</td><td>List(2500, CAN)</td></tr><tr><td>34534</td><td>Sales</td><td>List(6500, USA)</td></tr></tbody></table></div>"
      ]
     },
     "metadata": {
      "application/vnd.databricks.v1+output": {
       "addedWidgets": {},
       "aggData": [],
       "aggError": "",
       "aggOverflow": false,
       "aggSchema": [],
       "aggSeriesLimitReached": false,
       "aggType": "",
       "arguments": {},
       "columnCustomDisplayInfos": {},
       "data": [
        [
         "36636",
         "Finance",
         [
          3000,
          "USA"
         ]
        ],
        [
         "40288",
         "Finance",
         [
          5000,
          "IND"
         ]
        ],
        [
         "42114",
         "Sales",
         [
          3900,
          "USA"
         ]
        ],
        [
         "39192",
         "Marketing",
         [
          2500,
          "CAN"
         ]
        ],
        [
         "34534",
         "Sales",
         [
          6500,
          "USA"
         ]
        ]
       ],
       "datasetInfos": [],
       "dbfsResultPath": null,
       "isJsonSchema": true,
       "metadata": {},
       "overflow": false,
       "plotOptions": {
        "customPlotOptions": {},
        "displayType": "table",
        "pivotAggregation": null,
        "pivotColumns": null,
        "xColumns": null,
        "yColumns": null
       },
       "removedWidgets": [],
       "schema": [
        {
         "metadata": "{}",
         "name": "id",
         "type": "\"string\""
        },
        {
         "metadata": "{}",
         "name": "dept",
         "type": "\"string\""
        },
        {
         "metadata": "{}",
         "name": "properties",
         "type": "{\"type\":\"struct\",\"fields\":[{\"name\":\"salary\",\"type\":\"integer\",\"nullable\":true,\"metadata\":{}},{\"name\":\"location\",\"type\":\"string\",\"nullable\":true,\"metadata\":{}}]}"
        }
       ],
       "type": "table"
      }
     },
     "output_type": "display_data"
    }
   ],
   "source": [
    "data = [(\"36636\",\"Finance\",(3000,\"USA\")), \n",
    "        (\"40288\",\"Finance\",(5000,\"IND\")), \n",
    "        (\"42114\",\"Sales\",(3900,\"USA\")), \n",
    "        (\"39192\",\"Marketing\",(2500,\"CAN\")), \n",
    "        (\"34534\",\"Sales\",(6500,\"USA\"))]\n",
    "\n",
    "schema = StructType([\n",
    "     StructField('id', StringType(), True),\n",
    "     StructField('dept', StringType(), True),\n",
    "     StructField('properties', StructType([\n",
    "         StructField('salary', IntegerType(), True),\n",
    "         StructField('location', StringType(), True)\n",
    "         ]))\n",
    "     ])\n",
    "\n",
    "df = spark.createDataFrame(data=data,schema=schema)\n",
    "df.printSchema()\n",
    "display(df)"
   ]
  },
  {
   "cell_type": "markdown",
   "metadata": {
    "application/vnd.databricks.v1+cell": {
     "cellMetadata": {},
     "inputWidgets": {},
     "nuid": "a748906c-8cdf-4c44-b57e-040cf0784f8e",
     "showTitle": false,
     "tableResultSettingsMap": {},
     "title": ""
    }
   },
   "source": [
    "#### **Convert StructType to MapType (map) Column**"
   ]
  },
  {
   "cell_type": "code",
   "execution_count": 0,
   "metadata": {
    "application/vnd.databricks.v1+cell": {
     "cellMetadata": {
      "byteLimit": 2048000,
      "rowLimit": 10000
     },
     "inputWidgets": {},
     "nuid": "4162f365-95b5-409f-ba37-f433929df495",
     "showTitle": false,
     "tableResultSettingsMap": {},
     "title": ""
    }
   },
   "outputs": [
    {
     "output_type": "stream",
     "name": "stdout",
     "output_type": "stream",
     "text": [
      "root\n |-- id: string (nullable = true)\n |-- dept: string (nullable = true)\n |-- properties: struct (nullable = true)\n |    |-- salary: integer (nullable = true)\n |    |-- location: string (nullable = true)\n\n"
     ]
    },
    {
     "output_type": "display_data",
     "data": {
      "text/html": [
       "<style scoped>\n",
       "  .table-result-container {\n",
       "    max-height: 300px;\n",
       "    overflow: auto;\n",
       "  }\n",
       "  table, th, td {\n",
       "    border: 1px solid black;\n",
       "    border-collapse: collapse;\n",
       "  }\n",
       "  th, td {\n",
       "    padding: 5px;\n",
       "  }\n",
       "  th {\n",
       "    text-align: left;\n",
       "  }\n",
       "</style><div class='table-result-container'><table class='table-result'><thead style='background-color: white'><tr><th>id</th><th>dept</th><th>properties</th></tr></thead><tbody><tr><td>36636</td><td>Finance</td><td>List(3000, USA)</td></tr><tr><td>40288</td><td>Finance</td><td>List(5000, IND)</td></tr><tr><td>42114</td><td>Sales</td><td>List(3900, USA)</td></tr><tr><td>39192</td><td>Marketing</td><td>List(2500, CAN)</td></tr><tr><td>34534</td><td>Sales</td><td>List(6500, USA)</td></tr></tbody></table></div>"
      ]
     },
     "metadata": {
      "application/vnd.databricks.v1+output": {
       "addedWidgets": {},
       "aggData": [],
       "aggError": "",
       "aggOverflow": false,
       "aggSchema": [],
       "aggSeriesLimitReached": false,
       "aggType": "",
       "arguments": {},
       "columnCustomDisplayInfos": {},
       "data": [
        [
         "36636",
         "Finance",
         [
          3000,
          "USA"
         ]
        ],
        [
         "40288",
         "Finance",
         [
          5000,
          "IND"
         ]
        ],
        [
         "42114",
         "Sales",
         [
          3900,
          "USA"
         ]
        ],
        [
         "39192",
         "Marketing",
         [
          2500,
          "CAN"
         ]
        ],
        [
         "34534",
         "Sales",
         [
          6500,
          "USA"
         ]
        ]
       ],
       "datasetInfos": [],
       "dbfsResultPath": null,
       "isJsonSchema": true,
       "metadata": {},
       "overflow": false,
       "plotOptions": {
        "customPlotOptions": {},
        "displayType": "table",
        "pivotAggregation": null,
        "pivotColumns": null,
        "xColumns": null,
        "yColumns": null
       },
       "removedWidgets": [],
       "schema": [
        {
         "metadata": "{}",
         "name": "id",
         "type": "\"string\""
        },
        {
         "metadata": "{}",
         "name": "dept",
         "type": "\"string\""
        },
        {
         "metadata": "{}",
         "name": "properties",
         "type": "{\"type\":\"struct\",\"fields\":[{\"name\":\"salary\",\"type\":\"integer\",\"nullable\":true,\"metadata\":{}},{\"name\":\"location\",\"type\":\"string\",\"nullable\":true,\"metadata\":{}}]}"
        }
       ],
       "type": "table"
      }
     },
     "output_type": "display_data"
    }
   ],
   "source": [
    "# Convert struct type to Map\n",
    "from pyspark.sql.functions import col, lit, create_map\n",
    "\n",
    "df_map = df.withColumn(\"propertiesMap\", create_map(\n",
    "  lit(\"salary\"), col(\"properties.salary\"),\n",
    "  lit(\"location\"), col(\"properties.location\")\n",
    "  )).drop(\"properties\")\n",
    "\n",
    "df.printSchema()\n",
    "display(df)"
   ]
  }
 ],
 "metadata": {
  "application/vnd.databricks.v1+notebook": {
   "computePreferences": null,
   "dashboards": [],
   "environmentMetadata": null,
   "inputWidgetPreferences": null,
   "language": "python",
   "notebookMetadata": {
    "pythonIndentUnit": 2
   },
   "notebookName": "74_How to Convert StructType to MapType using create_map",
   "widgets": {}
  }
 },
 "nbformat": 4,
 "nbformat_minor": 0
}