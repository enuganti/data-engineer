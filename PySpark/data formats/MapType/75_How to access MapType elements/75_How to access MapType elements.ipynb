{
 "cells": [
  {
   "cell_type": "markdown",
   "metadata": {
    "application/vnd.databricks.v1+cell": {
     "cellMetadata": {},
     "inputWidgets": {},
     "nuid": "8b9fbbf2-2551-4ef0-ae68-650d8a91ebc7",
     "showTitle": false,
     "tableResultSettingsMap": {},
     "title": ""
    }
   },
   "source": [
    "#### **How to access MapType Elements?**"
   ]
  },
  {
   "cell_type": "code",
   "execution_count": 0,
   "metadata": {
    "application/vnd.databricks.v1+cell": {
     "cellMetadata": {
      "byteLimit": 2048000,
      "rowLimit": 10000
     },
     "inputWidgets": {},
     "nuid": "006ccced-ef70-4619-aa64-220a3dd8a584",
     "showTitle": false,
     "tableResultSettingsMap": {},
     "title": ""
    }
   },
   "outputs": [],
   "source": [
    "from pyspark.sql.functions import lit, col, create_map\n",
    "from pyspark.sql.types import StructField, StructType, StringType, MapType"
   ]
  },
  {
   "cell_type": "code",
   "execution_count": 0,
   "metadata": {
    "application/vnd.databricks.v1+cell": {
     "cellMetadata": {
      "byteLimit": 2048000,
      "rowLimit": 10000
     },
     "collapsed": true,
     "inputWidgets": {},
     "nuid": "9119971f-a14a-447b-8522-63af8f94607e",
     "showTitle": false,
     "tableResultSettingsMap": {},
     "title": ""
    }
   },
   "outputs": [],
   "source": [
    "%fs ls dbfs:/FileStore/tables/"
   ]
  },
  {
   "cell_type": "code",
   "execution_count": 0,
   "metadata": {
    "application/vnd.databricks.v1+cell": {
     "cellMetadata": {
      "byteLimit": 2048000,
      "rowLimit": 10000
     },
     "inputWidgets": {},
     "nuid": "5cdaa154-8e39-4677-bab8-f57d3cdceb58",
     "showTitle": false,
     "tableResultSettingsMap": {},
     "title": ""
    }
   },
   "outputs": [
    {
     "output_type": "display_data",
     "data": {
      "text/html": [
       "<style scoped>\n",
       "  .table-result-container {\n",
       "    max-height: 300px;\n",
       "    overflow: auto;\n",
       "  }\n",
       "  table, th, td {\n",
       "    border: 1px solid black;\n",
       "    border-collapse: collapse;\n",
       "  }\n",
       "  th, td {\n",
       "    padding: 5px;\n",
       "  }\n",
       "  th {\n",
       "    text-align: left;\n",
       "  }\n",
       "</style><div class='table-result-container'><table class='table-result'><thead style='background-color: white'><tr><th>Name</th><th>Product_Id</th><th>department</th><th>Application_Name</th><th>Product_Price_Name</th><th>Product_Category</th><th>Product_Label</th><th>Delivery_Time</th><th>Currency</th><th>Commodity</th><th>Product_Subgroup</th><th>Location</th></tr></thead><tbody><tr><td>Vikas</td><td>36636</td><td>IT</td><td>API</td><td>OnePlus</td><td>Chargers</td><td>Tablets</td><td>50</td><td>EUR</td><td>Natural</td><td>Sub Station EU</td><td>USA</td></tr><tr><td>Mukul</td><td>40288</td><td>Finance</td><td>REST</td><td>OnePlus</td><td>Chargers</td><td>Tablets</td><td>35</td><td>EUR</td><td>Natural</td><td>Sub Station EU</td><td>IND</td></tr><tr><td>Kannan</td><td>42114</td><td>Sales</td><td>.NET</td><td>OnePlus</td><td>Chargers</td><td>Tablets</td><td>67</td><td>EUR</td><td>Natural</td><td>Sub Station EU</td><td>AUS</td></tr><tr><td>Rishab</td><td>39192</td><td>Marketing</td><td>xml</td><td>OnePlus</td><td>Chargers</td><td>Tablets</td><td>78</td><td>EUR</td><td>Natural</td><td>Sub Station EU</td><td>CAN</td></tr><tr><td>Amaresh</td><td>34534</td><td>Maintenance</td><td>azure</td><td>OnePlus</td><td>Chargers</td><td>Tablets</td><td>89</td><td>EUR</td><td>Natural</td><td>Sub Station EU</td><td>NZ</td></tr><tr><td>Prakash</td><td>69114</td><td>Sales</td><td>pwc</td><td>OnePlus</td><td>Chargers</td><td>Tablets</td><td>23</td><td>EUR</td><td>Natural</td><td>Sub Station EU</td><td>AUS</td></tr><tr><td>Pramod</td><td>78192</td><td>Marketing</td><td>rand</td><td>OnePlus</td><td>Chargers</td><td>Tablets</td><td>45</td><td>EUR</td><td>Natural</td><td>Sub Station EU</td><td>CAN</td></tr><tr><td>Prasad</td><td>56534</td><td>Maintenance</td><td>standard</td><td>OnePlus</td><td>Chargers</td><td>Tablets</td><td>38</td><td>EUR</td><td>Natural</td><td>Sub Station EU</td><td>NZ</td></tr><tr><td>Ravi</td><td>36636</td><td>IT</td><td>apple</td><td>OnePlus</td><td>Chargers</td><td>Tablets</td><td>73</td><td>EUR</td><td>Natural</td><td>Sub Station EU</td><td>USA</td></tr><tr><td>Roshan</td><td>40288</td><td>Finance</td><td>algomy</td><td>Nord</td><td>Chargers</td><td>Tablets</td><td>67</td><td>EUR</td><td>Natural</td><td>Sub Station EU</td><td>IND</td></tr></tbody></table></div>"
      ]
     },
     "metadata": {
      "application/vnd.databricks.v1+output": {
       "addedWidgets": {},
       "aggData": [],
       "aggError": "",
       "aggOverflow": false,
       "aggSchema": [],
       "aggSeriesLimitReached": false,
       "aggType": "",
       "arguments": {},
       "columnCustomDisplayInfos": {},
       "data": [
        [
         "Vikas",
         36636,
         "IT",
         "API",
         "OnePlus",
         "Chargers",
         "Tablets",
         50,
         "EUR",
         "Natural",
         "Sub Station EU",
         "USA"
        ],
        [
         "Mukul",
         40288,
         "Finance",
         "REST",
         "OnePlus",
         "Chargers",
         "Tablets",
         35,
         "EUR",
         "Natural",
         "Sub Station EU",
         "IND"
        ],
        [
         "Kannan",
         42114,
         "Sales",
         ".NET",
         "OnePlus",
         "Chargers",
         "Tablets",
         67,
         "EUR",
         "Natural",
         "Sub Station EU",
         "AUS"
        ],
        [
         "Rishab",
         39192,
         "Marketing",
         "xml",
         "OnePlus",
         "Chargers",
         "Tablets",
         78,
         "EUR",
         "Natural",
         "Sub Station EU",
         "CAN"
        ],
        [
         "Amaresh",
         34534,
         "Maintenance",
         "azure",
         "OnePlus",
         "Chargers",
         "Tablets",
         89,
         "EUR",
         "Natural",
         "Sub Station EU",
         "NZ"
        ],
        [
         "Prakash",
         69114,
         "Sales",
         "pwc",
         "OnePlus",
         "Chargers",
         "Tablets",
         23,
         "EUR",
         "Natural",
         "Sub Station EU",
         "AUS"
        ],
        [
         "Pramod",
         78192,
         "Marketing",
         "rand",
         "OnePlus",
         "Chargers",
         "Tablets",
         45,
         "EUR",
         "Natural",
         "Sub Station EU",
         "CAN"
        ],
        [
         "Prasad",
         56534,
         "Maintenance",
         "standard",
         "OnePlus",
         "Chargers",
         "Tablets",
         38,
         "EUR",
         "Natural",
         "Sub Station EU",
         "NZ"
        ],
        [
         "Ravi",
         36636,
         "IT",
         "apple",
         "OnePlus",
         "Chargers",
         "Tablets",
         73,
         "EUR",
         "Natural",
         "Sub Station EU",
         "USA"
        ],
        [
         "Roshan",
         40288,
         "Finance",
         "algomy",
         "Nord",
         "Chargers",
         "Tablets",
         67,
         "EUR",
         "Natural",
         "Sub Station EU",
         "IND"
        ]
       ],
       "datasetInfos": [],
       "dbfsResultPath": null,
       "isJsonSchema": true,
       "metadata": {},
       "overflow": false,
       "plotOptions": {
        "customPlotOptions": {},
        "displayType": "table",
        "pivotAggregation": null,
        "pivotColumns": null,
        "xColumns": null,
        "yColumns": null
       },
       "removedWidgets": [],
       "schema": [
        {
         "metadata": "{}",
         "name": "Name",
         "type": "\"string\""
        },
        {
         "metadata": "{}",
         "name": "Product_Id",
         "type": "\"integer\""
        },
        {
         "metadata": "{}",
         "name": "department",
         "type": "\"string\""
        },
        {
         "metadata": "{}",
         "name": "Application_Name",
         "type": "\"string\""
        },
        {
         "metadata": "{}",
         "name": "Product_Price_Name",
         "type": "\"string\""
        },
        {
         "metadata": "{}",
         "name": "Product_Category",
         "type": "\"string\""
        },
        {
         "metadata": "{}",
         "name": "Product_Label",
         "type": "\"string\""
        },
        {
         "metadata": "{}",
         "name": "Delivery_Time",
         "type": "\"integer\""
        },
        {
         "metadata": "{}",
         "name": "Currency",
         "type": "\"string\""
        },
        {
         "metadata": "{}",
         "name": "Commodity",
         "type": "\"string\""
        },
        {
         "metadata": "{}",
         "name": "Product_Subgroup",
         "type": "\"string\""
        },
        {
         "metadata": "{}",
         "name": "Location",
         "type": "\"string\""
        }
       ],
       "type": "table"
      }
     },
     "output_type": "display_data"
    }
   ],
   "source": [
    "df_map = spark.read.csv(\"dbfs:/FileStore/tables/maptypeaccess.csv\", header=True, inferSchema=True)\n",
    "display(df_map.limit(10))"
   ]
  },
  {
   "cell_type": "code",
   "execution_count": 0,
   "metadata": {
    "application/vnd.databricks.v1+cell": {
     "cellMetadata": {
      "byteLimit": 2048000,
      "rowLimit": 10000
     },
     "inputWidgets": {},
     "nuid": "c498ded0-ebea-476a-ae75-1133c27faa04",
     "showTitle": false,
     "tableResultSettingsMap": {},
     "title": ""
    }
   },
   "outputs": [
    {
     "output_type": "display_data",
     "data": {
      "text/html": [
       "<style scoped>\n",
       "  .table-result-container {\n",
       "    max-height: 300px;\n",
       "    overflow: auto;\n",
       "  }\n",
       "  table, th, td {\n",
       "    border: 1px solid black;\n",
       "    border-collapse: collapse;\n",
       "  }\n",
       "  th, td {\n",
       "    padding: 5px;\n",
       "  }\n",
       "  th {\n",
       "    text-align: left;\n",
       "  }\n",
       "</style><div class='table-result-container'><table class='table-result'><thead style='background-color: white'><tr><th>Name</th><th>Product_Id</th><th>department</th><th>Application_Name</th><th>Product_Price_Name</th><th>Product_Category</th><th>Product_Label</th><th>Delivery_Time</th><th>Currency</th><th>Commodity</th><th>Product_Subgroup</th><th>Location</th><th>Product_Metadata</th><th>Price_Metadata</th></tr></thead><tbody><tr><td>Vikas</td><td>36636</td><td>IT</td><td>API</td><td>OnePlus</td><td>Chargers</td><td>Tablets</td><td>50</td><td>EUR</td><td>Natural</td><td>Sub Station EU</td><td>USA</td><td>Map(Product_Subgroup -> Sub Station EU)</td><td>Map(Product_Price_Name -> OnePlus, Product_Category -> Chargers, Product_Label -> Tablets, Delivery_Time -> 50)</td></tr><tr><td>Mukul</td><td>40288</td><td>Finance</td><td>REST</td><td>OnePlus</td><td>Chargers</td><td>Tablets</td><td>35</td><td>EUR</td><td>Natural</td><td>Sub Station EU</td><td>IND</td><td>Map(Product_Subgroup -> Sub Station EU)</td><td>Map(Product_Price_Name -> OnePlus, Product_Category -> Chargers, Product_Label -> Tablets, Delivery_Time -> 35)</td></tr><tr><td>Kannan</td><td>42114</td><td>Sales</td><td>.NET</td><td>OnePlus</td><td>Chargers</td><td>Tablets</td><td>67</td><td>EUR</td><td>Natural</td><td>Sub Station EU</td><td>AUS</td><td>Map(Product_Subgroup -> Sub Station EU)</td><td>Map(Product_Price_Name -> OnePlus, Product_Category -> Chargers, Product_Label -> Tablets, Delivery_Time -> 67)</td></tr><tr><td>Rishab</td><td>39192</td><td>Marketing</td><td>xml</td><td>OnePlus</td><td>Chargers</td><td>Tablets</td><td>78</td><td>EUR</td><td>Natural</td><td>Sub Station EU</td><td>CAN</td><td>Map(Product_Subgroup -> Sub Station EU)</td><td>Map(Product_Price_Name -> OnePlus, Product_Category -> Chargers, Product_Label -> Tablets, Delivery_Time -> 78)</td></tr><tr><td>Amaresh</td><td>34534</td><td>Maintenance</td><td>azure</td><td>OnePlus</td><td>Chargers</td><td>Tablets</td><td>89</td><td>EUR</td><td>Natural</td><td>Sub Station EU</td><td>NZ</td><td>Map(Product_Subgroup -> Sub Station EU)</td><td>Map(Product_Price_Name -> OnePlus, Product_Category -> Chargers, Product_Label -> Tablets, Delivery_Time -> 89)</td></tr><tr><td>Prakash</td><td>69114</td><td>Sales</td><td>pwc</td><td>OnePlus</td><td>Chargers</td><td>Tablets</td><td>23</td><td>EUR</td><td>Natural</td><td>Sub Station EU</td><td>AUS</td><td>Map(Product_Subgroup -> Sub Station EU)</td><td>Map(Product_Price_Name -> OnePlus, Product_Category -> Chargers, Product_Label -> Tablets, Delivery_Time -> 23)</td></tr><tr><td>Pramod</td><td>78192</td><td>Marketing</td><td>rand</td><td>OnePlus</td><td>Chargers</td><td>Tablets</td><td>45</td><td>EUR</td><td>Natural</td><td>Sub Station EU</td><td>CAN</td><td>Map(Product_Subgroup -> Sub Station EU)</td><td>Map(Product_Price_Name -> OnePlus, Product_Category -> Chargers, Product_Label -> Tablets, Delivery_Time -> 45)</td></tr><tr><td>Prasad</td><td>56534</td><td>Maintenance</td><td>standard</td><td>OnePlus</td><td>Chargers</td><td>Tablets</td><td>38</td><td>EUR</td><td>Natural</td><td>Sub Station EU</td><td>NZ</td><td>Map(Product_Subgroup -> Sub Station EU)</td><td>Map(Product_Price_Name -> OnePlus, Product_Category -> Chargers, Product_Label -> Tablets, Delivery_Time -> 38)</td></tr><tr><td>Ravi</td><td>36636</td><td>IT</td><td>apple</td><td>OnePlus</td><td>Chargers</td><td>Tablets</td><td>73</td><td>EUR</td><td>Natural</td><td>Sub Station EU</td><td>USA</td><td>Map(Product_Subgroup -> Sub Station EU)</td><td>Map(Product_Price_Name -> OnePlus, Product_Category -> Chargers, Product_Label -> Tablets, Delivery_Time -> 73)</td></tr><tr><td>Roshan</td><td>40288</td><td>Finance</td><td>algomy</td><td>Nord</td><td>Chargers</td><td>Tablets</td><td>67</td><td>EUR</td><td>Natural</td><td>Sub Station EU</td><td>IND</td><td>Map(Product_Subgroup -> Sub Station EU)</td><td>Map(Product_Price_Name -> Nord, Product_Category -> Chargers, Product_Label -> Tablets, Delivery_Time -> 67)</td></tr></tbody></table></div>"
      ]
     },
     "metadata": {
      "application/vnd.databricks.v1+output": {
       "addedWidgets": {},
       "aggData": [],
       "aggError": "",
       "aggOverflow": false,
       "aggSchema": [],
       "aggSeriesLimitReached": false,
       "aggType": "",
       "arguments": {},
       "columnCustomDisplayInfos": {},
       "data": [
        [
         "Vikas",
         36636,
         "IT",
         "API",
         "OnePlus",
         "Chargers",
         "Tablets",
         50,
         "EUR",
         "Natural",
         "Sub Station EU",
         "USA",
         {
          "Product_Subgroup": "Sub Station EU"
         },
         {
          "Delivery_Time": "50",
          "Product_Category": "Chargers",
          "Product_Label": "Tablets",
          "Product_Price_Name": "OnePlus"
         }
        ],
        [
         "Mukul",
         40288,
         "Finance",
         "REST",
         "OnePlus",
         "Chargers",
         "Tablets",
         35,
         "EUR",
         "Natural",
         "Sub Station EU",
         "IND",
         {
          "Product_Subgroup": "Sub Station EU"
         },
         {
          "Delivery_Time": "35",
          "Product_Category": "Chargers",
          "Product_Label": "Tablets",
          "Product_Price_Name": "OnePlus"
         }
        ],
        [
         "Kannan",
         42114,
         "Sales",
         ".NET",
         "OnePlus",
         "Chargers",
         "Tablets",
         67,
         "EUR",
         "Natural",
         "Sub Station EU",
         "AUS",
         {
          "Product_Subgroup": "Sub Station EU"
         },
         {
          "Delivery_Time": "67",
          "Product_Category": "Chargers",
          "Product_Label": "Tablets",
          "Product_Price_Name": "OnePlus"
         }
        ],
        [
         "Rishab",
         39192,
         "Marketing",
         "xml",
         "OnePlus",
         "Chargers",
         "Tablets",
         78,
         "EUR",
         "Natural",
         "Sub Station EU",
         "CAN",
         {
          "Product_Subgroup": "Sub Station EU"
         },
         {
          "Delivery_Time": "78",
          "Product_Category": "Chargers",
          "Product_Label": "Tablets",
          "Product_Price_Name": "OnePlus"
         }
        ],
        [
         "Amaresh",
         34534,
         "Maintenance",
         "azure",
         "OnePlus",
         "Chargers",
         "Tablets",
         89,
         "EUR",
         "Natural",
         "Sub Station EU",
         "NZ",
         {
          "Product_Subgroup": "Sub Station EU"
         },
         {
          "Delivery_Time": "89",
          "Product_Category": "Chargers",
          "Product_Label": "Tablets",
          "Product_Price_Name": "OnePlus"
         }
        ],
        [
         "Prakash",
         69114,
         "Sales",
         "pwc",
         "OnePlus",
         "Chargers",
         "Tablets",
         23,
         "EUR",
         "Natural",
         "Sub Station EU",
         "AUS",
         {
          "Product_Subgroup": "Sub Station EU"
         },
         {
          "Delivery_Time": "23",
          "Product_Category": "Chargers",
          "Product_Label": "Tablets",
          "Product_Price_Name": "OnePlus"
         }
        ],
        [
         "Pramod",
         78192,
         "Marketing",
         "rand",
         "OnePlus",
         "Chargers",
         "Tablets",
         45,
         "EUR",
         "Natural",
         "Sub Station EU",
         "CAN",
         {
          "Product_Subgroup": "Sub Station EU"
         },
         {
          "Delivery_Time": "45",
          "Product_Category": "Chargers",
          "Product_Label": "Tablets",
          "Product_Price_Name": "OnePlus"
         }
        ],
        [
         "Prasad",
         56534,
         "Maintenance",
         "standard",
         "OnePlus",
         "Chargers",
         "Tablets",
         38,
         "EUR",
         "Natural",
         "Sub Station EU",
         "NZ",
         {
          "Product_Subgroup": "Sub Station EU"
         },
         {
          "Delivery_Time": "38",
          "Product_Category": "Chargers",
          "Product_Label": "Tablets",
          "Product_Price_Name": "OnePlus"
         }
        ],
        [
         "Ravi",
         36636,
         "IT",
         "apple",
         "OnePlus",
         "Chargers",
         "Tablets",
         73,
         "EUR",
         "Natural",
         "Sub Station EU",
         "USA",
         {
          "Product_Subgroup": "Sub Station EU"
         },
         {
          "Delivery_Time": "73",
          "Product_Category": "Chargers",
          "Product_Label": "Tablets",
          "Product_Price_Name": "OnePlus"
         }
        ],
        [
         "Roshan",
         40288,
         "Finance",
         "algomy",
         "Nord",
         "Chargers",
         "Tablets",
         67,
         "EUR",
         "Natural",
         "Sub Station EU",
         "IND",
         {
          "Product_Subgroup": "Sub Station EU"
         },
         {
          "Delivery_Time": "67",
          "Product_Category": "Chargers",
          "Product_Label": "Tablets",
          "Product_Price_Name": "Nord"
         }
        ]
       ],
       "datasetInfos": [],
       "dbfsResultPath": null,
       "isJsonSchema": true,
       "metadata": {},
       "overflow": false,
       "plotOptions": {
        "customPlotOptions": {},
        "displayType": "table",
        "pivotAggregation": null,
        "pivotColumns": null,
        "xColumns": null,
        "yColumns": null
       },
       "removedWidgets": [],
       "schema": [
        {
         "metadata": "{}",
         "name": "Name",
         "type": "\"string\""
        },
        {
         "metadata": "{}",
         "name": "Product_Id",
         "type": "\"integer\""
        },
        {
         "metadata": "{}",
         "name": "department",
         "type": "\"string\""
        },
        {
         "metadata": "{}",
         "name": "Application_Name",
         "type": "\"string\""
        },
        {
         "metadata": "{}",
         "name": "Product_Price_Name",
         "type": "\"string\""
        },
        {
         "metadata": "{}",
         "name": "Product_Category",
         "type": "\"string\""
        },
        {
         "metadata": "{}",
         "name": "Product_Label",
         "type": "\"string\""
        },
        {
         "metadata": "{}",
         "name": "Delivery_Time",
         "type": "\"integer\""
        },
        {
         "metadata": "{}",
         "name": "Currency",
         "type": "\"string\""
        },
        {
         "metadata": "{}",
         "name": "Commodity",
         "type": "\"string\""
        },
        {
         "metadata": "{}",
         "name": "Product_Subgroup",
         "type": "\"string\""
        },
        {
         "metadata": "{}",
         "name": "Location",
         "type": "\"string\""
        },
        {
         "metadata": "{}",
         "name": "Product_Metadata",
         "type": "{\"type\":\"map\",\"keyType\":\"string\",\"valueType\":\"string\",\"valueContainsNull\":true}"
        },
        {
         "metadata": "{}",
         "name": "Price_Metadata",
         "type": "{\"type\":\"map\",\"keyType\":\"string\",\"valueType\":\"string\",\"valueContainsNull\":true}"
        }
       ],
       "type": "table"
      }
     },
     "output_type": "display_data"
    }
   ],
   "source": [
    "df_map = df_map\\\n",
    "    .withColumn(\"Product_Metadata\", create_map(\n",
    "        lit(\"Product_Subgroup\"), col(\"Product_Subgroup\")))\\\n",
    "    .withColumn(\"Price_Metadata\", create_map(\n",
    "        lit(\"Product_Price_Name\"), col(\"Product_Price_Name\"),\n",
    "        lit(\"Product_Category\"), col(\"Product_Category\"),\n",
    "        lit(\"Product_Label\"), col(\"Product_Label\"),\n",
    "        lit(\"Delivery_Time\"), col(\"Delivery_Time\")))\n",
    "    \n",
    "display(df_map.limit(10))"
   ]
  },
  {
   "cell_type": "markdown",
   "metadata": {
    "application/vnd.databricks.v1+cell": {
     "cellMetadata": {},
     "inputWidgets": {},
     "nuid": "333920d0-0729-461f-99ce-c8d5f6b62701",
     "showTitle": false,
     "tableResultSettingsMap": {},
     "title": ""
    }
   },
   "source": [
    "#### **Method 01: Access elements of Map Type**"
   ]
  },
  {
   "cell_type": "markdown",
   "metadata": {
    "application/vnd.databricks.v1+cell": {
     "cellMetadata": {},
     "inputWidgets": {},
     "nuid": "68724529-8406-4d43-9c44-1727d919e046",
     "showTitle": false,
     "tableResultSettingsMap": {},
     "title": ""
    }
   },
   "source": [
    "     df = df.withColumn(\"Commodity_Subgroup\", df_map.Product_Metadata[\"Product_Subgroup\"])\n",
    "                                         (or)\n",
    "     df = df.withColumn(\"Commodity_Subgroup\", df_map.Product_Metadata.Product_Subgroup)\n"
   ]
  },
  {
   "cell_type": "code",
   "execution_count": 0,
   "metadata": {
    "application/vnd.databricks.v1+cell": {
     "cellMetadata": {
      "byteLimit": 2048000,
      "rowLimit": 10000
     },
     "inputWidgets": {},
     "nuid": "d80b863a-526c-4315-b706-8bbdfeff6dda",
     "showTitle": false,
     "tableResultSettingsMap": {},
     "title": ""
    }
   },
   "outputs": [
    {
     "output_type": "display_data",
     "data": {
      "text/html": [
       "<style scoped>\n",
       "  .table-result-container {\n",
       "    max-height: 300px;\n",
       "    overflow: auto;\n",
       "  }\n",
       "  table, th, td {\n",
       "    border: 1px solid black;\n",
       "    border-collapse: collapse;\n",
       "  }\n",
       "  th, td {\n",
       "    padding: 5px;\n",
       "  }\n",
       "  th {\n",
       "    text-align: left;\n",
       "  }\n",
       "</style><div class='table-result-container'><table class='table-result'><thead style='background-color: white'><tr><th>Name</th><th>Product_Subgroup</th><th>Product_Metadata</th><th>Commodity_Subgroup</th></tr></thead><tbody><tr><td>Vikas</td><td>Sub Station EU</td><td>Map(Product_Subgroup -> Sub Station EU)</td><td>Sub Station EU</td></tr><tr><td>Mukul</td><td>Sub Station EU</td><td>Map(Product_Subgroup -> Sub Station EU)</td><td>Sub Station EU</td></tr><tr><td>Kannan</td><td>Sub Station EU</td><td>Map(Product_Subgroup -> Sub Station EU)</td><td>Sub Station EU</td></tr><tr><td>Rishab</td><td>Sub Station EU</td><td>Map(Product_Subgroup -> Sub Station EU)</td><td>Sub Station EU</td></tr><tr><td>Amaresh</td><td>Sub Station EU</td><td>Map(Product_Subgroup -> Sub Station EU)</td><td>Sub Station EU</td></tr><tr><td>Prakash</td><td>Sub Station EU</td><td>Map(Product_Subgroup -> Sub Station EU)</td><td>Sub Station EU</td></tr><tr><td>Pramod</td><td>Sub Station EU</td><td>Map(Product_Subgroup -> Sub Station EU)</td><td>Sub Station EU</td></tr><tr><td>Prasad</td><td>Sub Station EU</td><td>Map(Product_Subgroup -> Sub Station EU)</td><td>Sub Station EU</td></tr><tr><td>Ravi</td><td>Sub Station EU</td><td>Map(Product_Subgroup -> Sub Station EU)</td><td>Sub Station EU</td></tr><tr><td>Roshan</td><td>Sub Station EU</td><td>Map(Product_Subgroup -> Sub Station EU)</td><td>Sub Station EU</td></tr></tbody></table></div>"
      ]
     },
     "metadata": {
      "application/vnd.databricks.v1+output": {
       "addedWidgets": {},
       "aggData": [],
       "aggError": "",
       "aggOverflow": false,
       "aggSchema": [],
       "aggSeriesLimitReached": false,
       "aggType": "",
       "arguments": {},
       "columnCustomDisplayInfos": {},
       "data": [
        [
         "Vikas",
         "Sub Station EU",
         {
          "Product_Subgroup": "Sub Station EU"
         },
         "Sub Station EU"
        ],
        [
         "Mukul",
         "Sub Station EU",
         {
          "Product_Subgroup": "Sub Station EU"
         },
         "Sub Station EU"
        ],
        [
         "Kannan",
         "Sub Station EU",
         {
          "Product_Subgroup": "Sub Station EU"
         },
         "Sub Station EU"
        ],
        [
         "Rishab",
         "Sub Station EU",
         {
          "Product_Subgroup": "Sub Station EU"
         },
         "Sub Station EU"
        ],
        [
         "Amaresh",
         "Sub Station EU",
         {
          "Product_Subgroup": "Sub Station EU"
         },
         "Sub Station EU"
        ],
        [
         "Prakash",
         "Sub Station EU",
         {
          "Product_Subgroup": "Sub Station EU"
         },
         "Sub Station EU"
        ],
        [
         "Pramod",
         "Sub Station EU",
         {
          "Product_Subgroup": "Sub Station EU"
         },
         "Sub Station EU"
        ],
        [
         "Prasad",
         "Sub Station EU",
         {
          "Product_Subgroup": "Sub Station EU"
         },
         "Sub Station EU"
        ],
        [
         "Ravi",
         "Sub Station EU",
         {
          "Product_Subgroup": "Sub Station EU"
         },
         "Sub Station EU"
        ],
        [
         "Roshan",
         "Sub Station EU",
         {
          "Product_Subgroup": "Sub Station EU"
         },
         "Sub Station EU"
        ]
       ],
       "datasetInfos": [],
       "dbfsResultPath": null,
       "isJsonSchema": true,
       "metadata": {},
       "overflow": false,
       "plotOptions": {
        "customPlotOptions": {},
        "displayType": "table",
        "pivotAggregation": null,
        "pivotColumns": null,
        "xColumns": null,
        "yColumns": null
       },
       "removedWidgets": [],
       "schema": [
        {
         "metadata": "{}",
         "name": "Name",
         "type": "\"string\""
        },
        {
         "metadata": "{}",
         "name": "Product_Subgroup",
         "type": "\"string\""
        },
        {
         "metadata": "{}",
         "name": "Product_Metadata",
         "type": "{\"type\":\"map\",\"keyType\":\"string\",\"valueType\":\"string\",\"valueContainsNull\":true}"
        },
        {
         "metadata": "{}",
         "name": "Commodity_Subgroup",
         "type": "\"string\""
        }
       ],
       "type": "table"
      }
     },
     "output_type": "display_data"
    }
   ],
   "source": [
    "df_Subgp = df_map.select('Name', 'Product_Subgroup', 'Product_Metadata')\\\n",
    "                 .withColumn(\"Commodity_Subgroup\", df_map.Product_Metadata.Product_Subgroup)\n",
    "display(df_Subgp.limit(10))"
   ]
  },
  {
   "cell_type": "code",
   "execution_count": 0,
   "metadata": {
    "application/vnd.databricks.v1+cell": {
     "cellMetadata": {
      "byteLimit": 2048000,
      "rowLimit": 10000
     },
     "inputWidgets": {},
     "nuid": "baa8a749-088a-4343-be23-b73ef47ef3ba",
     "showTitle": false,
     "tableResultSettingsMap": {},
     "title": ""
    }
   },
   "outputs": [
    {
     "output_type": "display_data",
     "data": {
      "text/html": [
       "<style scoped>\n",
       "  .table-result-container {\n",
       "    max-height: 300px;\n",
       "    overflow: auto;\n",
       "  }\n",
       "  table, th, td {\n",
       "    border: 1px solid black;\n",
       "    border-collapse: collapse;\n",
       "  }\n",
       "  th, td {\n",
       "    padding: 5px;\n",
       "  }\n",
       "  th {\n",
       "    text-align: left;\n",
       "  }\n",
       "</style><div class='table-result-container'><table class='table-result'><thead style='background-color: white'><tr><th>Name</th><th>Price_Metadata</th><th>Prd_Price_Name</th><th>Prd_Category</th><th>Prd_Label</th><th>Delvry_Time</th></tr></thead><tbody><tr><td>Vikas</td><td>Map(Product_Price_Name -> OnePlus, Product_Category -> Chargers, Product_Label -> Tablets, Delivery_Time -> 50)</td><td>OnePlus</td><td>Chargers</td><td>Tablets</td><td>50</td></tr><tr><td>Mukul</td><td>Map(Product_Price_Name -> OnePlus, Product_Category -> Chargers, Product_Label -> Tablets, Delivery_Time -> 35)</td><td>OnePlus</td><td>Chargers</td><td>Tablets</td><td>35</td></tr><tr><td>Kannan</td><td>Map(Product_Price_Name -> OnePlus, Product_Category -> Chargers, Product_Label -> Tablets, Delivery_Time -> 67)</td><td>OnePlus</td><td>Chargers</td><td>Tablets</td><td>67</td></tr><tr><td>Rishab</td><td>Map(Product_Price_Name -> OnePlus, Product_Category -> Chargers, Product_Label -> Tablets, Delivery_Time -> 78)</td><td>OnePlus</td><td>Chargers</td><td>Tablets</td><td>78</td></tr><tr><td>Amaresh</td><td>Map(Product_Price_Name -> OnePlus, Product_Category -> Chargers, Product_Label -> Tablets, Delivery_Time -> 89)</td><td>OnePlus</td><td>Chargers</td><td>Tablets</td><td>89</td></tr><tr><td>Prakash</td><td>Map(Product_Price_Name -> OnePlus, Product_Category -> Chargers, Product_Label -> Tablets, Delivery_Time -> 23)</td><td>OnePlus</td><td>Chargers</td><td>Tablets</td><td>23</td></tr><tr><td>Pramod</td><td>Map(Product_Price_Name -> OnePlus, Product_Category -> Chargers, Product_Label -> Tablets, Delivery_Time -> 45)</td><td>OnePlus</td><td>Chargers</td><td>Tablets</td><td>45</td></tr><tr><td>Prasad</td><td>Map(Product_Price_Name -> OnePlus, Product_Category -> Chargers, Product_Label -> Tablets, Delivery_Time -> 38)</td><td>OnePlus</td><td>Chargers</td><td>Tablets</td><td>38</td></tr><tr><td>Ravi</td><td>Map(Product_Price_Name -> OnePlus, Product_Category -> Chargers, Product_Label -> Tablets, Delivery_Time -> 73)</td><td>OnePlus</td><td>Chargers</td><td>Tablets</td><td>73</td></tr><tr><td>Roshan</td><td>Map(Product_Price_Name -> Nord, Product_Category -> Chargers, Product_Label -> Tablets, Delivery_Time -> 67)</td><td>Nord</td><td>Chargers</td><td>Tablets</td><td>67</td></tr><tr><td>Rashi</td><td>Map(Product_Price_Name -> Nord, Product_Category -> Chargers, Product_Label -> Tablets, Delivery_Time -> 79)</td><td>Nord</td><td>Chargers</td><td>Tablets</td><td>79</td></tr><tr><td>Raj</td><td>Map(Product_Price_Name -> Nord, Product_Category -> Chargers, Product_Label -> Tablets, Delivery_Time -> 46)</td><td>Nord</td><td>Chargers</td><td>Tablets</td><td>46</td></tr><tr><td>Keerti</td><td>Map(Product_Price_Name -> Nord, Product_Category -> Chargers, Product_Label -> Tablets, Delivery_Time -> 59)</td><td>Nord</td><td>Chargers</td><td>Tablets</td><td>59</td></tr><tr><td>Ramesh</td><td>Map(Product_Price_Name -> Nord, Product_Category -> Chargers, Product_Label -> Tablets, Delivery_Time -> 27)</td><td>Nord</td><td>Chargers</td><td>Tablets</td><td>27</td></tr><tr><td>Joel</td><td>Map(Product_Price_Name -> Nord, Product_Category -> Chargers, Product_Label -> Tablets, Delivery_Time -> 50)</td><td>Nord</td><td>Chargers</td><td>Tablets</td><td>50</td></tr><tr><td>Damu</td><td>Map(Product_Price_Name -> Galaxy, Product_Category -> Chargers, Product_Label -> Tablets, Delivery_Time -> 35)</td><td>Galaxy</td><td>Chargers</td><td>Tablets</td><td>35</td></tr><tr><td>Raju</td><td>Map(Product_Price_Name -> Galaxy, Product_Category -> Chargers, Product_Label -> Tablets, Delivery_Time -> 67)</td><td>Galaxy</td><td>Chargers</td><td>Tablets</td><td>67</td></tr><tr><td>Pavan</td><td>Map(Product_Price_Name -> Galaxy, Product_Category -> Chargers, Product_Label -> Tablets, Delivery_Time -> 78)</td><td>Galaxy</td><td>Chargers</td><td>Tablets</td><td>78</td></tr><tr><td>Prithvi</td><td>Map(Product_Price_Name -> Galaxy, Product_Category -> Chargers, Product_Label -> Tablets, Delivery_Time -> 89)</td><td>Galaxy</td><td>Chargers</td><td>Tablets</td><td>89</td></tr><tr><td>Pratham</td><td>Map(Product_Price_Name -> Galaxy, Product_Category -> Chargers, Product_Label -> Tablets, Delivery_Time -> 23)</td><td>Galaxy</td><td>Chargers</td><td>Tablets</td><td>23</td></tr></tbody></table></div>"
      ]
     },
     "metadata": {
      "application/vnd.databricks.v1+output": {
       "addedWidgets": {},
       "aggData": [],
       "aggError": "",
       "aggOverflow": false,
       "aggSchema": [],
       "aggSeriesLimitReached": false,
       "aggType": "",
       "arguments": {},
       "columnCustomDisplayInfos": {},
       "data": [
        [
         "Vikas",
         {
          "Delivery_Time": "50",
          "Product_Category": "Chargers",
          "Product_Label": "Tablets",
          "Product_Price_Name": "OnePlus"
         },
         "OnePlus",
         "Chargers",
         "Tablets",
         "50"
        ],
        [
         "Mukul",
         {
          "Delivery_Time": "35",
          "Product_Category": "Chargers",
          "Product_Label": "Tablets",
          "Product_Price_Name": "OnePlus"
         },
         "OnePlus",
         "Chargers",
         "Tablets",
         "35"
        ],
        [
         "Kannan",
         {
          "Delivery_Time": "67",
          "Product_Category": "Chargers",
          "Product_Label": "Tablets",
          "Product_Price_Name": "OnePlus"
         },
         "OnePlus",
         "Chargers",
         "Tablets",
         "67"
        ],
        [
         "Rishab",
         {
          "Delivery_Time": "78",
          "Product_Category": "Chargers",
          "Product_Label": "Tablets",
          "Product_Price_Name": "OnePlus"
         },
         "OnePlus",
         "Chargers",
         "Tablets",
         "78"
        ],
        [
         "Amaresh",
         {
          "Delivery_Time": "89",
          "Product_Category": "Chargers",
          "Product_Label": "Tablets",
          "Product_Price_Name": "OnePlus"
         },
         "OnePlus",
         "Chargers",
         "Tablets",
         "89"
        ],
        [
         "Prakash",
         {
          "Delivery_Time": "23",
          "Product_Category": "Chargers",
          "Product_Label": "Tablets",
          "Product_Price_Name": "OnePlus"
         },
         "OnePlus",
         "Chargers",
         "Tablets",
         "23"
        ],
        [
         "Pramod",
         {
          "Delivery_Time": "45",
          "Product_Category": "Chargers",
          "Product_Label": "Tablets",
          "Product_Price_Name": "OnePlus"
         },
         "OnePlus",
         "Chargers",
         "Tablets",
         "45"
        ],
        [
         "Prasad",
         {
          "Delivery_Time": "38",
          "Product_Category": "Chargers",
          "Product_Label": "Tablets",
          "Product_Price_Name": "OnePlus"
         },
         "OnePlus",
         "Chargers",
         "Tablets",
         "38"
        ],
        [
         "Ravi",
         {
          "Delivery_Time": "73",
          "Product_Category": "Chargers",
          "Product_Label": "Tablets",
          "Product_Price_Name": "OnePlus"
         },
         "OnePlus",
         "Chargers",
         "Tablets",
         "73"
        ],
        [
         "Roshan",
         {
          "Delivery_Time": "67",
          "Product_Category": "Chargers",
          "Product_Label": "Tablets",
          "Product_Price_Name": "Nord"
         },
         "Nord",
         "Chargers",
         "Tablets",
         "67"
        ],
        [
         "Rashi",
         {
          "Delivery_Time": "79",
          "Product_Category": "Chargers",
          "Product_Label": "Tablets",
          "Product_Price_Name": "Nord"
         },
         "Nord",
         "Chargers",
         "Tablets",
         "79"
        ],
        [
         "Raj",
         {
          "Delivery_Time": "46",
          "Product_Category": "Chargers",
          "Product_Label": "Tablets",
          "Product_Price_Name": "Nord"
         },
         "Nord",
         "Chargers",
         "Tablets",
         "46"
        ],
        [
         "Keerti",
         {
          "Delivery_Time": "59",
          "Product_Category": "Chargers",
          "Product_Label": "Tablets",
          "Product_Price_Name": "Nord"
         },
         "Nord",
         "Chargers",
         "Tablets",
         "59"
        ],
        [
         "Ramesh",
         {
          "Delivery_Time": "27",
          "Product_Category": "Chargers",
          "Product_Label": "Tablets",
          "Product_Price_Name": "Nord"
         },
         "Nord",
         "Chargers",
         "Tablets",
         "27"
        ],
        [
         "Joel",
         {
          "Delivery_Time": "50",
          "Product_Category": "Chargers",
          "Product_Label": "Tablets",
          "Product_Price_Name": "Nord"
         },
         "Nord",
         "Chargers",
         "Tablets",
         "50"
        ],
        [
         "Damu",
         {
          "Delivery_Time": "35",
          "Product_Category": "Chargers",
          "Product_Label": "Tablets",
          "Product_Price_Name": "Galaxy"
         },
         "Galaxy",
         "Chargers",
         "Tablets",
         "35"
        ],
        [
         "Raju",
         {
          "Delivery_Time": "67",
          "Product_Category": "Chargers",
          "Product_Label": "Tablets",
          "Product_Price_Name": "Galaxy"
         },
         "Galaxy",
         "Chargers",
         "Tablets",
         "67"
        ],
        [
         "Pavan",
         {
          "Delivery_Time": "78",
          "Product_Category": "Chargers",
          "Product_Label": "Tablets",
          "Product_Price_Name": "Galaxy"
         },
         "Galaxy",
         "Chargers",
         "Tablets",
         "78"
        ],
        [
         "Prithvi",
         {
          "Delivery_Time": "89",
          "Product_Category": "Chargers",
          "Product_Label": "Tablets",
          "Product_Price_Name": "Galaxy"
         },
         "Galaxy",
         "Chargers",
         "Tablets",
         "89"
        ],
        [
         "Pratham",
         {
          "Delivery_Time": "23",
          "Product_Category": "Chargers",
          "Product_Label": "Tablets",
          "Product_Price_Name": "Galaxy"
         },
         "Galaxy",
         "Chargers",
         "Tablets",
         "23"
        ]
       ],
       "datasetInfos": [],
       "dbfsResultPath": null,
       "isJsonSchema": true,
       "metadata": {},
       "overflow": false,
       "plotOptions": {
        "customPlotOptions": {},
        "displayType": "table",
        "pivotAggregation": null,
        "pivotColumns": null,
        "xColumns": null,
        "yColumns": null
       },
       "removedWidgets": [],
       "schema": [
        {
         "metadata": "{}",
         "name": "Name",
         "type": "\"string\""
        },
        {
         "metadata": "{}",
         "name": "Price_Metadata",
         "type": "{\"type\":\"map\",\"keyType\":\"string\",\"valueType\":\"string\",\"valueContainsNull\":true}"
        },
        {
         "metadata": "{}",
         "name": "Prd_Price_Name",
         "type": "\"string\""
        },
        {
         "metadata": "{}",
         "name": "Prd_Category",
         "type": "\"string\""
        },
        {
         "metadata": "{}",
         "name": "Prd_Label",
         "type": "\"string\""
        },
        {
         "metadata": "{}",
         "name": "Delvry_Time",
         "type": "\"string\""
        }
       ],
       "type": "table"
      }
     },
     "output_type": "display_data"
    }
   ],
   "source": [
    "df_data = df_map.select('Name', 'Price_Metadata')\\\n",
    "                 .withColumn(\"Prd_Price_Name\", df_map.Price_Metadata.Product_Price_Name)\\\n",
    "                 .withColumn(\"Prd_Category\", df_map.Price_Metadata.Product_Category)\\\n",
    "                 .withColumn(\"Prd_Label\", df_map.Price_Metadata.Product_Label)\\\n",
    "                 .withColumn(\"Delvry_Time\", df_map.Price_Metadata.Delivery_Time)\\\n",
    "                   \n",
    "display(df_data.limit(20))"
   ]
  },
  {
   "cell_type": "markdown",
   "metadata": {
    "application/vnd.databricks.v1+cell": {
     "cellMetadata": {},
     "inputWidgets": {},
     "nuid": "cea06245-7684-42a9-acff-2e5df6180cb5",
     "showTitle": false,
     "tableResultSettingsMap": {},
     "title": ""
    }
   },
   "source": [
    "#### **Method 02: Access elements of Map Type using getItem**\n",
    "\n",
    "- Get the **keys and values** from MapType using **.getItem()**. "
   ]
  },
  {
   "cell_type": "markdown",
   "metadata": {
    "application/vnd.databricks.v1+cell": {
     "cellMetadata": {},
     "inputWidgets": {},
     "nuid": "6999d9dc-8f22-46ac-8935-fa706fb72f99",
     "showTitle": false,
     "tableResultSettingsMap": {},
     "title": ""
    }
   },
   "source": [
    "     df_map.select('Name', 'Price_Metadata')\\\n",
    "           .withColumn(\"Prd_Price_Name\", df_map.Price_Metadata.getItem(\"Product_Price_Name\"))\\\n",
    "           .withColumn(\"Prd_Category\", df_map.Price_Metadata.getItem(\"Product_Category\"))\\\n",
    "           .withColumn(\"Prd_Label\", df_map.Price_Metadata.getItem(\"Product_Label\"))\\\n",
    "           .withColumn(\"Delvry_Time\", df_map.Price_Metadata.getItem(\"Delivery_Time\"))\\\n",
    "           .drop(\"Price_Metadata\")"
   ]
  },
  {
   "cell_type": "code",
   "execution_count": 0,
   "metadata": {
    "application/vnd.databricks.v1+cell": {
     "cellMetadata": {
      "byteLimit": 2048000,
      "rowLimit": 10000
     },
     "inputWidgets": {},
     "nuid": "8a632d56-cb49-4d03-afe3-d17e310f5e8e",
     "showTitle": false,
     "tableResultSettingsMap": {},
     "title": ""
    }
   },
   "outputs": [
    {
     "output_type": "display_data",
     "data": {
      "text/html": [
       "<style scoped>\n",
       "  .table-result-container {\n",
       "    max-height: 300px;\n",
       "    overflow: auto;\n",
       "  }\n",
       "  table, th, td {\n",
       "    border: 1px solid black;\n",
       "    border-collapse: collapse;\n",
       "  }\n",
       "  th, td {\n",
       "    padding: 5px;\n",
       "  }\n",
       "  th {\n",
       "    text-align: left;\n",
       "  }\n",
       "</style><div class='table-result-container'><table class='table-result'><thead style='background-color: white'><tr><th>Name</th><th>Price_Metadata</th><th>Prd_Price_Name</th><th>Prd_Category</th><th>Prd_Label</th><th>Delvry_Time</th></tr></thead><tbody><tr><td>Vikas</td><td>Map(Product_Price_Name -> OnePlus, Product_Category -> Chargers, Product_Label -> Tablets, Delivery_Time -> 50)</td><td>OnePlus</td><td>Chargers</td><td>Tablets</td><td>50</td></tr><tr><td>Mukul</td><td>Map(Product_Price_Name -> OnePlus, Product_Category -> Chargers, Product_Label -> Tablets, Delivery_Time -> 35)</td><td>OnePlus</td><td>Chargers</td><td>Tablets</td><td>35</td></tr><tr><td>Kannan</td><td>Map(Product_Price_Name -> OnePlus, Product_Category -> Chargers, Product_Label -> Tablets, Delivery_Time -> 67)</td><td>OnePlus</td><td>Chargers</td><td>Tablets</td><td>67</td></tr><tr><td>Rishab</td><td>Map(Product_Price_Name -> OnePlus, Product_Category -> Chargers, Product_Label -> Tablets, Delivery_Time -> 78)</td><td>OnePlus</td><td>Chargers</td><td>Tablets</td><td>78</td></tr><tr><td>Amaresh</td><td>Map(Product_Price_Name -> OnePlus, Product_Category -> Chargers, Product_Label -> Tablets, Delivery_Time -> 89)</td><td>OnePlus</td><td>Chargers</td><td>Tablets</td><td>89</td></tr><tr><td>Prakash</td><td>Map(Product_Price_Name -> OnePlus, Product_Category -> Chargers, Product_Label -> Tablets, Delivery_Time -> 23)</td><td>OnePlus</td><td>Chargers</td><td>Tablets</td><td>23</td></tr><tr><td>Pramod</td><td>Map(Product_Price_Name -> OnePlus, Product_Category -> Chargers, Product_Label -> Tablets, Delivery_Time -> 45)</td><td>OnePlus</td><td>Chargers</td><td>Tablets</td><td>45</td></tr><tr><td>Prasad</td><td>Map(Product_Price_Name -> OnePlus, Product_Category -> Chargers, Product_Label -> Tablets, Delivery_Time -> 38)</td><td>OnePlus</td><td>Chargers</td><td>Tablets</td><td>38</td></tr><tr><td>Ravi</td><td>Map(Product_Price_Name -> OnePlus, Product_Category -> Chargers, Product_Label -> Tablets, Delivery_Time -> 73)</td><td>OnePlus</td><td>Chargers</td><td>Tablets</td><td>73</td></tr><tr><td>Roshan</td><td>Map(Product_Price_Name -> Nord, Product_Category -> Chargers, Product_Label -> Tablets, Delivery_Time -> 67)</td><td>Nord</td><td>Chargers</td><td>Tablets</td><td>67</td></tr><tr><td>Rashi</td><td>Map(Product_Price_Name -> Nord, Product_Category -> Chargers, Product_Label -> Tablets, Delivery_Time -> 79)</td><td>Nord</td><td>Chargers</td><td>Tablets</td><td>79</td></tr><tr><td>Raj</td><td>Map(Product_Price_Name -> Nord, Product_Category -> Chargers, Product_Label -> Tablets, Delivery_Time -> 46)</td><td>Nord</td><td>Chargers</td><td>Tablets</td><td>46</td></tr><tr><td>Keerti</td><td>Map(Product_Price_Name -> Nord, Product_Category -> Chargers, Product_Label -> Tablets, Delivery_Time -> 59)</td><td>Nord</td><td>Chargers</td><td>Tablets</td><td>59</td></tr><tr><td>Ramesh</td><td>Map(Product_Price_Name -> Nord, Product_Category -> Chargers, Product_Label -> Tablets, Delivery_Time -> 27)</td><td>Nord</td><td>Chargers</td><td>Tablets</td><td>27</td></tr><tr><td>Joel</td><td>Map(Product_Price_Name -> Nord, Product_Category -> Chargers, Product_Label -> Tablets, Delivery_Time -> 50)</td><td>Nord</td><td>Chargers</td><td>Tablets</td><td>50</td></tr><tr><td>Damu</td><td>Map(Product_Price_Name -> Galaxy, Product_Category -> Chargers, Product_Label -> Tablets, Delivery_Time -> 35)</td><td>Galaxy</td><td>Chargers</td><td>Tablets</td><td>35</td></tr><tr><td>Raju</td><td>Map(Product_Price_Name -> Galaxy, Product_Category -> Chargers, Product_Label -> Tablets, Delivery_Time -> 67)</td><td>Galaxy</td><td>Chargers</td><td>Tablets</td><td>67</td></tr><tr><td>Pavan</td><td>Map(Product_Price_Name -> Galaxy, Product_Category -> Chargers, Product_Label -> Tablets, Delivery_Time -> 78)</td><td>Galaxy</td><td>Chargers</td><td>Tablets</td><td>78</td></tr><tr><td>Prithvi</td><td>Map(Product_Price_Name -> Galaxy, Product_Category -> Chargers, Product_Label -> Tablets, Delivery_Time -> 89)</td><td>Galaxy</td><td>Chargers</td><td>Tablets</td><td>89</td></tr><tr><td>Pratham</td><td>Map(Product_Price_Name -> Galaxy, Product_Category -> Chargers, Product_Label -> Tablets, Delivery_Time -> 23)</td><td>Galaxy</td><td>Chargers</td><td>Tablets</td><td>23</td></tr></tbody></table></div>"
      ]
     },
     "metadata": {
      "application/vnd.databricks.v1+output": {
       "addedWidgets": {},
       "aggData": [],
       "aggError": "",
       "aggOverflow": false,
       "aggSchema": [],
       "aggSeriesLimitReached": false,
       "aggType": "",
       "arguments": {},
       "columnCustomDisplayInfos": {},
       "data": [
        [
         "Vikas",
         {
          "Delivery_Time": "50",
          "Product_Category": "Chargers",
          "Product_Label": "Tablets",
          "Product_Price_Name": "OnePlus"
         },
         "OnePlus",
         "Chargers",
         "Tablets",
         "50"
        ],
        [
         "Mukul",
         {
          "Delivery_Time": "35",
          "Product_Category": "Chargers",
          "Product_Label": "Tablets",
          "Product_Price_Name": "OnePlus"
         },
         "OnePlus",
         "Chargers",
         "Tablets",
         "35"
        ],
        [
         "Kannan",
         {
          "Delivery_Time": "67",
          "Product_Category": "Chargers",
          "Product_Label": "Tablets",
          "Product_Price_Name": "OnePlus"
         },
         "OnePlus",
         "Chargers",
         "Tablets",
         "67"
        ],
        [
         "Rishab",
         {
          "Delivery_Time": "78",
          "Product_Category": "Chargers",
          "Product_Label": "Tablets",
          "Product_Price_Name": "OnePlus"
         },
         "OnePlus",
         "Chargers",
         "Tablets",
         "78"
        ],
        [
         "Amaresh",
         {
          "Delivery_Time": "89",
          "Product_Category": "Chargers",
          "Product_Label": "Tablets",
          "Product_Price_Name": "OnePlus"
         },
         "OnePlus",
         "Chargers",
         "Tablets",
         "89"
        ],
        [
         "Prakash",
         {
          "Delivery_Time": "23",
          "Product_Category": "Chargers",
          "Product_Label": "Tablets",
          "Product_Price_Name": "OnePlus"
         },
         "OnePlus",
         "Chargers",
         "Tablets",
         "23"
        ],
        [
         "Pramod",
         {
          "Delivery_Time": "45",
          "Product_Category": "Chargers",
          "Product_Label": "Tablets",
          "Product_Price_Name": "OnePlus"
         },
         "OnePlus",
         "Chargers",
         "Tablets",
         "45"
        ],
        [
         "Prasad",
         {
          "Delivery_Time": "38",
          "Product_Category": "Chargers",
          "Product_Label": "Tablets",
          "Product_Price_Name": "OnePlus"
         },
         "OnePlus",
         "Chargers",
         "Tablets",
         "38"
        ],
        [
         "Ravi",
         {
          "Delivery_Time": "73",
          "Product_Category": "Chargers",
          "Product_Label": "Tablets",
          "Product_Price_Name": "OnePlus"
         },
         "OnePlus",
         "Chargers",
         "Tablets",
         "73"
        ],
        [
         "Roshan",
         {
          "Delivery_Time": "67",
          "Product_Category": "Chargers",
          "Product_Label": "Tablets",
          "Product_Price_Name": "Nord"
         },
         "Nord",
         "Chargers",
         "Tablets",
         "67"
        ],
        [
         "Rashi",
         {
          "Delivery_Time": "79",
          "Product_Category": "Chargers",
          "Product_Label": "Tablets",
          "Product_Price_Name": "Nord"
         },
         "Nord",
         "Chargers",
         "Tablets",
         "79"
        ],
        [
         "Raj",
         {
          "Delivery_Time": "46",
          "Product_Category": "Chargers",
          "Product_Label": "Tablets",
          "Product_Price_Name": "Nord"
         },
         "Nord",
         "Chargers",
         "Tablets",
         "46"
        ],
        [
         "Keerti",
         {
          "Delivery_Time": "59",
          "Product_Category": "Chargers",
          "Product_Label": "Tablets",
          "Product_Price_Name": "Nord"
         },
         "Nord",
         "Chargers",
         "Tablets",
         "59"
        ],
        [
         "Ramesh",
         {
          "Delivery_Time": "27",
          "Product_Category": "Chargers",
          "Product_Label": "Tablets",
          "Product_Price_Name": "Nord"
         },
         "Nord",
         "Chargers",
         "Tablets",
         "27"
        ],
        [
         "Joel",
         {
          "Delivery_Time": "50",
          "Product_Category": "Chargers",
          "Product_Label": "Tablets",
          "Product_Price_Name": "Nord"
         },
         "Nord",
         "Chargers",
         "Tablets",
         "50"
        ],
        [
         "Damu",
         {
          "Delivery_Time": "35",
          "Product_Category": "Chargers",
          "Product_Label": "Tablets",
          "Product_Price_Name": "Galaxy"
         },
         "Galaxy",
         "Chargers",
         "Tablets",
         "35"
        ],
        [
         "Raju",
         {
          "Delivery_Time": "67",
          "Product_Category": "Chargers",
          "Product_Label": "Tablets",
          "Product_Price_Name": "Galaxy"
         },
         "Galaxy",
         "Chargers",
         "Tablets",
         "67"
        ],
        [
         "Pavan",
         {
          "Delivery_Time": "78",
          "Product_Category": "Chargers",
          "Product_Label": "Tablets",
          "Product_Price_Name": "Galaxy"
         },
         "Galaxy",
         "Chargers",
         "Tablets",
         "78"
        ],
        [
         "Prithvi",
         {
          "Delivery_Time": "89",
          "Product_Category": "Chargers",
          "Product_Label": "Tablets",
          "Product_Price_Name": "Galaxy"
         },
         "Galaxy",
         "Chargers",
         "Tablets",
         "89"
        ],
        [
         "Pratham",
         {
          "Delivery_Time": "23",
          "Product_Category": "Chargers",
          "Product_Label": "Tablets",
          "Product_Price_Name": "Galaxy"
         },
         "Galaxy",
         "Chargers",
         "Tablets",
         "23"
        ]
       ],
       "datasetInfos": [],
       "dbfsResultPath": null,
       "isJsonSchema": true,
       "metadata": {},
       "overflow": false,
       "plotOptions": {
        "customPlotOptions": {},
        "displayType": "table",
        "pivotAggregation": null,
        "pivotColumns": null,
        "xColumns": null,
        "yColumns": null
       },
       "removedWidgets": [],
       "schema": [
        {
         "metadata": "{}",
         "name": "Name",
         "type": "\"string\""
        },
        {
         "metadata": "{}",
         "name": "Price_Metadata",
         "type": "{\"type\":\"map\",\"keyType\":\"string\",\"valueType\":\"string\",\"valueContainsNull\":true}"
        },
        {
         "metadata": "{}",
         "name": "Prd_Price_Name",
         "type": "\"string\""
        },
        {
         "metadata": "{}",
         "name": "Prd_Category",
         "type": "\"string\""
        },
        {
         "metadata": "{}",
         "name": "Prd_Label",
         "type": "\"string\""
        },
        {
         "metadata": "{}",
         "name": "Delvry_Time",
         "type": "\"string\""
        }
       ],
       "type": "table"
      }
     },
     "output_type": "display_data"
    }
   ],
   "source": [
    "df_getItem = df_map.select('Name', 'Price_Metadata')\\\n",
    "                 .withColumn(\"Prd_Price_Name\", df_map.Price_Metadata.getItem(\"Product_Price_Name\"))\\\n",
    "                 .withColumn(\"Prd_Category\", df_map.Price_Metadata.getItem(\"Product_Category\"))\\\n",
    "                 .withColumn(\"Prd_Label\", df_map.Price_Metadata.getItem(\"Product_Label\"))\\\n",
    "                 .withColumn(\"Delvry_Time\", df_map.Price_Metadata.getItem(\"Delivery_Time\"))\n",
    "                   \n",
    "display(df_getItem.limit(20))"
   ]
  }
 ],
 "metadata": {
  "application/vnd.databricks.v1+notebook": {
   "computePreferences": null,
   "dashboards": [],
   "environmentMetadata": null,
   "inputWidgetPreferences": null,
   "language": "python",
   "notebookMetadata": {
    "mostRecentlyExecutedCommandWithImplicitDF": {
     "commandId": 4277733139155761,
     "dataframes": [
      "_sqldf"
     ]
    },
    "pythonIndentUnit": 2
   },
   "notebookName": "75_How to access MapType elements",
   "widgets": {}
  }
 },
 "nbformat": 4,
 "nbformat_minor": 0
}