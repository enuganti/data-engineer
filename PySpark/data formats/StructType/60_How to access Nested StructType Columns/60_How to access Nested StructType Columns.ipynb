{
 "cells": [
  {
   "cell_type": "markdown",
   "metadata": {
    "application/vnd.databricks.v1+cell": {
     "cellMetadata": {
      "byteLimit": 2048000,
      "rowLimit": 10000
     },
     "inputWidgets": {},
     "nuid": "74ed493e-c4e8-4766-b224-642f8be95664",
     "showTitle": false,
     "tableResultSettingsMap": {},
     "title": ""
    }
   },
   "source": [
    "#### **Struct Data Type**\n",
    "\n",
    "- struct is a **complex data type** that allows the storage of **multiple fields** together within a **single column**.\n",
    "- The **fields** within a **struct** can be of **different data types** and can be **nested as well**.\n",
    "- **STRUCT** column contains an **ordered list** of columns called **entries**.\n",
    "- Each row in the STRUCT column must have the **same keys**.\n",
    "- STRUCTs are typically used to **nest multiple columns** into a **single column**, and the **nested column** can be of **any type, including other STRUCTs and LISTs**."
   ]
  },
  {
   "cell_type": "markdown",
   "metadata": {
    "application/vnd.databricks.v1+cell": {
     "cellMetadata": {},
     "inputWidgets": {},
     "nuid": "daa6074c-ee11-41a0-9d98-f6e599f9d428",
     "showTitle": false,
     "tableResultSettingsMap": {},
     "title": ""
    }
   },
   "source": [
    "- How to access Nested StructType Columns?\n",
    "- How to access Complex Nested StructType Columns?\n",
    "- How to convert csv to struct type and access StructType Columns?"
   ]
  },
  {
   "cell_type": "markdown",
   "metadata": {
    "application/vnd.databricks.v1+cell": {
     "cellMetadata": {
      "byteLimit": 2048000,
      "rowLimit": 10000
     },
     "inputWidgets": {},
     "nuid": "b336550f-eaac-40bb-94c1-5a2b631fbb98",
     "showTitle": false,
     "tableResultSettingsMap": {},
     "title": ""
    }
   },
   "source": [
    "- struct column named **address** with fields **city and zip** can be defined as:\n",
    "\n",
    "      StructType(List(\n",
    "       StructField(\"city\", StringType, true),\n",
    "       StructField(\"zip\", IntegerType, true)\n",
    "      ))\n",
    "- In this example, **address** is the **struct** column name, **city and zip** are the **fields** of the struct column, their respective data types are **StringType and IntegerType**, and all the fields are **nullable**."
   ]
  },
  {
   "cell_type": "code",
   "execution_count": 0,
   "metadata": {
    "application/vnd.databricks.v1+cell": {
     "cellMetadata": {
      "byteLimit": 2048000,
      "rowLimit": 10000
     },
     "inputWidgets": {},
     "nuid": "1ee3eefd-e9db-4dee-921a-84d19cc4241e",
     "showTitle": false,
     "tableResultSettingsMap": {},
     "title": ""
    }
   },
   "outputs": [],
   "source": [
    "from pyspark.sql.functions import lit, col, to_json\n",
    "import pyspark.sql.functions as f\n",
    "from pyspark.sql.types import StringType, StructType, StructField"
   ]
  },
  {
   "cell_type": "code",
   "execution_count": 0,
   "metadata": {
    "application/vnd.databricks.v1+cell": {
     "cellMetadata": {
      "byteLimit": 2048000,
      "implicitDf": true,
      "rowLimit": 10000
     },
     "inputWidgets": {},
     "nuid": "fcef7552-42e6-4db3-9bec-fea8c14f666b",
     "showTitle": false,
     "tableResultSettingsMap": {},
     "title": ""
    }
   },
   "outputs": [
    {
     "output_type": "display_data",
     "data": {
      "text/html": [
       "<style scoped>\n",
       "  .table-result-container {\n",
       "    max-height: 300px;\n",
       "    overflow: auto;\n",
       "  }\n",
       "  table, th, td {\n",
       "    border: 1px solid black;\n",
       "    border-collapse: collapse;\n",
       "  }\n",
       "  th, td {\n",
       "    padding: 5px;\n",
       "  }\n",
       "  th {\n",
       "    text-align: left;\n",
       "  }\n",
       "</style><div class='table-result-container'><table class='table-result'><thead style='background-color: white'><tr><th>s</th></tr></thead><tbody><tr><td>List(value1, 42)</td></tr></tbody></table></div>"
      ]
     },
     "metadata": {
      "application/vnd.databricks.v1+output": {
       "addedWidgets": {},
       "aggData": [],
       "aggError": "",
       "aggOverflow": false,
       "aggSchema": [],
       "aggSeriesLimitReached": false,
       "aggType": "",
       "arguments": {},
       "columnCustomDisplayInfos": {},
       "data": [
        [
         [
          "value1",
          42
         ]
        ]
       ],
       "datasetInfos": [],
       "dbfsResultPath": null,
       "isJsonSchema": true,
       "metadata": {
        "createTempViewForImplicitDf": true,
        "dataframeName": "_sqldf",
        "executionCount": 32
       },
       "overflow": false,
       "plotOptions": {
        "customPlotOptions": {},
        "displayType": "table",
        "pivotAggregation": null,
        "pivotColumns": null,
        "xColumns": null,
        "yColumns": null
       },
       "removedWidgets": [],
       "schema": [
        {
         "metadata": "{}",
         "name": "s",
         "type": "{\"type\":\"struct\",\"fields\":[{\"name\":\"key1\",\"type\":\"string\",\"nullable\":false,\"metadata\":{}},{\"name\":\"key2\",\"type\":\"integer\",\"nullable\":false,\"metadata\":{}}]}"
        }
       ],
       "type": "table"
      }
     },
     "output_type": "display_data"
    }
   ],
   "source": [
    "%sql\n",
    "SELECT named_struct('key1', 'value1', 'key2', 42) AS s;"
   ]
  },
  {
   "cell_type": "markdown",
   "metadata": {
    "application/vnd.databricks.v1+cell": {
     "cellMetadata": {
      "byteLimit": 2048000,
      "rowLimit": 10000
     },
     "inputWidgets": {},
     "nuid": "8fcf8e85-6e9b-43f6-830e-3ad709a08a71",
     "showTitle": false,
     "tableResultSettingsMap": {},
     "title": ""
    }
   },
   "source": [
    "#### **1) Accessing Nested Struct Columns**"
   ]
  },
  {
   "cell_type": "markdown",
   "metadata": {
    "application/vnd.databricks.v1+cell": {
     "cellMetadata": {
      "byteLimit": 2048000,
      "rowLimit": 10000
     },
     "inputWidgets": {},
     "nuid": "d01f786a-a6ce-4818-8a09-0f73ee3bd2fb",
     "showTitle": false,
     "tableResultSettingsMap": {},
     "title": ""
    }
   },
   "source": [
    "**Ex 01**"
   ]
  },
  {
   "cell_type": "code",
   "execution_count": 0,
   "metadata": {
    "application/vnd.databricks.v1+cell": {
     "cellMetadata": {
      "byteLimit": 2048000,
      "rowLimit": 10000
     },
     "inputWidgets": {},
     "nuid": "5f7fc51e-a4bc-4bbd-aacd-87d6fdec8213",
     "showTitle": false,
     "tableResultSettingsMap": {},
     "title": ""
    }
   },
   "outputs": [
    {
     "output_type": "display_data",
     "data": {
      "text/html": [
       "<style scoped>\n",
       "  .table-result-container {\n",
       "    max-height: 300px;\n",
       "    overflow: auto;\n",
       "  }\n",
       "  table, th, td {\n",
       "    border: 1px solid black;\n",
       "    border-collapse: collapse;\n",
       "  }\n",
       "  th, td {\n",
       "    padding: 5px;\n",
       "  }\n",
       "  th {\n",
       "    text-align: left;\n",
       "  }\n",
       "</style><div class='table-result-container'><table class='table-result'><thead style='background-color: white'><tr><th>Name</th><th>Description</th></tr></thead><tbody><tr><td>Rajesh</td><td>List(BMW, ADF, Data Engineer, 5)</td></tr><tr><td>Rajasekar</td><td>List(HONDA, ADB, Developer, 8)</td></tr><tr><td>Harish</td><td>List(MARUTI, AZURE, Testing, 9)</td></tr><tr><td>Kamalesh</td><td>List(BENZ, PYSPARK, Developer, 10)</td></tr><tr><td>Jagadish</td><td>List(FORD, PYTHON, ADE, 3)</td></tr><tr><td>Arijit</td><td>List(KIA, DEVOPS, CI/CD, 4)</td></tr></tbody></table></div>"
      ]
     },
     "metadata": {
      "application/vnd.databricks.v1+output": {
       "addedWidgets": {},
       "aggData": [],
       "aggError": "",
       "aggOverflow": false,
       "aggSchema": [],
       "aggSeriesLimitReached": false,
       "aggType": "",
       "arguments": {},
       "columnCustomDisplayInfos": {},
       "data": [
        [
         "Rajesh",
         [
          "BMW",
          "ADF",
          "Data Engineer",
          "5"
         ]
        ],
        [
         "Rajasekar",
         [
          "HONDA",
          "ADB",
          "Developer",
          "8"
         ]
        ],
        [
         "Harish",
         [
          "MARUTI",
          "AZURE",
          "Testing",
          "9"
         ]
        ],
        [
         "Kamalesh",
         [
          "BENZ",
          "PYSPARK",
          "Developer",
          "10"
         ]
        ],
        [
         "Jagadish",
         [
          "FORD",
          "PYTHON",
          "ADE",
          "3"
         ]
        ],
        [
         "Arijit",
         [
          "KIA",
          "DEVOPS",
          "CI/CD",
          "4"
         ]
        ]
       ],
       "datasetInfos": [],
       "dbfsResultPath": null,
       "isJsonSchema": true,
       "metadata": {},
       "overflow": false,
       "plotOptions": {
        "customPlotOptions": {},
        "displayType": "table",
        "pivotAggregation": null,
        "pivotColumns": null,
        "xColumns": null,
        "yColumns": null
       },
       "removedWidgets": [],
       "schema": [
        {
         "metadata": "{}",
         "name": "Name",
         "type": "\"string\""
        },
        {
         "metadata": "{}",
         "name": "Description",
         "type": "{\"type\":\"struct\",\"fields\":[{\"name\":\"make\",\"type\":\"string\",\"nullable\":true,\"metadata\":{}},{\"name\":\"Technology\",\"type\":\"string\",\"nullable\":true,\"metadata\":{}},{\"name\":\"Designation\",\"type\":\"string\",\"nullable\":true,\"metadata\":{}},{\"name\":\"Experience\",\"type\":\"string\",\"nullable\":true,\"metadata\":{}}]}"
        }
       ],
       "type": "table"
      }
     },
     "output_type": "display_data"
    },
    {
     "output_type": "stream",
     "name": "stdout",
     "output_type": "stream",
     "text": [
      "root\n |-- Name: string (nullable = true)\n |-- Description: struct (nullable = true)\n |    |-- make: string (nullable = true)\n |    |-- Technology: string (nullable = true)\n |    |-- Designation: string (nullable = true)\n |    |-- Experience: string (nullable = true)\n\n"
     ]
    }
   ],
   "source": [
    "data = [('Rajesh', ('BMW', 'ADF', 'Data Engineer', 5)),\n",
    "        ('Rajasekar', ('HONDA', 'ADB', 'Developer', 8)),\n",
    "        ('Harish', ('MARUTI', 'AZURE', 'Testing', 9)),\n",
    "        ('Kamalesh', ('BENZ', 'PYSPARK', 'Developer', 10)),\n",
    "        ('Jagadish', ('FORD', 'PYTHON', 'ADE', 3)),\n",
    "        ('Arijit', ('KIA', 'DEVOPS', 'CI/CD', 4))]\n",
    "\n",
    "schema_sub = StructType([StructField('make', StringType()), StructField('Technology', StringType()),\\\n",
    "                         StructField('Designation', StringType()), StructField('Experience', StringType())])\n",
    "                         \n",
    "schema = StructType([StructField('Name', StringType()), StructField('Description', schema_sub)])\n",
    "\n",
    "df_nest = spark.createDataFrame(data, schema)\n",
    "display(df_nest)\n",
    "df_nest.printSchema()"
   ]
  },
  {
   "cell_type": "markdown",
   "metadata": {
    "application/vnd.databricks.v1+cell": {
     "cellMetadata": {
      "byteLimit": 2048000,
      "rowLimit": 10000
     },
     "inputWidgets": {},
     "nuid": "c1612b6c-c5cd-48c6-a62e-1d463d62c9ed",
     "showTitle": false,
     "tableResultSettingsMap": {},
     "title": ""
    }
   },
   "source": [
    "**a) Selecting the entire Struct Column**"
   ]
  },
  {
   "cell_type": "code",
   "execution_count": 0,
   "metadata": {
    "application/vnd.databricks.v1+cell": {
     "cellMetadata": {
      "byteLimit": 2048000,
      "rowLimit": 10000
     },
     "inputWidgets": {},
     "nuid": "c228f036-4628-4b31-af52-327ff67efb38",
     "showTitle": false,
     "tableResultSettingsMap": {},
     "title": ""
    }
   },
   "outputs": [
    {
     "output_type": "display_data",
     "data": {
      "text/html": [
       "<style scoped>\n",
       "  .table-result-container {\n",
       "    max-height: 300px;\n",
       "    overflow: auto;\n",
       "  }\n",
       "  table, th, td {\n",
       "    border: 1px solid black;\n",
       "    border-collapse: collapse;\n",
       "  }\n",
       "  th, td {\n",
       "    padding: 5px;\n",
       "  }\n",
       "  th {\n",
       "    text-align: left;\n",
       "  }\n",
       "</style><div class='table-result-container'><table class='table-result'><thead style='background-color: white'><tr><th>Description</th></tr></thead><tbody><tr><td>List(BMW, ADF, Data Engineer, 5)</td></tr><tr><td>List(HONDA, ADB, Developer, 8)</td></tr><tr><td>List(MARUTI, AZURE, Testing, 9)</td></tr><tr><td>List(BENZ, PYSPARK, Developer, 10)</td></tr><tr><td>List(FORD, PYTHON, ADE, 3)</td></tr><tr><td>List(KIA, DEVOPS, CI/CD, 4)</td></tr></tbody></table></div>"
      ]
     },
     "metadata": {
      "application/vnd.databricks.v1+output": {
       "addedWidgets": {},
       "aggData": [],
       "aggError": "",
       "aggOverflow": false,
       "aggSchema": [],
       "aggSeriesLimitReached": false,
       "aggType": "",
       "arguments": {},
       "columnCustomDisplayInfos": {},
       "data": [
        [
         [
          "BMW",
          "ADF",
          "Data Engineer",
          "5"
         ]
        ],
        [
         [
          "HONDA",
          "ADB",
          "Developer",
          "8"
         ]
        ],
        [
         [
          "MARUTI",
          "AZURE",
          "Testing",
          "9"
         ]
        ],
        [
         [
          "BENZ",
          "PYSPARK",
          "Developer",
          "10"
         ]
        ],
        [
         [
          "FORD",
          "PYTHON",
          "ADE",
          "3"
         ]
        ],
        [
         [
          "KIA",
          "DEVOPS",
          "CI/CD",
          "4"
         ]
        ]
       ],
       "datasetInfos": [],
       "dbfsResultPath": null,
       "isJsonSchema": true,
       "metadata": {},
       "overflow": false,
       "plotOptions": {
        "customPlotOptions": {},
        "displayType": "table",
        "pivotAggregation": null,
        "pivotColumns": null,
        "xColumns": null,
        "yColumns": null
       },
       "removedWidgets": [],
       "schema": [
        {
         "metadata": "{}",
         "name": "Description",
         "type": "{\"type\":\"struct\",\"fields\":[{\"name\":\"make\",\"type\":\"string\",\"nullable\":true,\"metadata\":{}},{\"name\":\"Technology\",\"type\":\"string\",\"nullable\":true,\"metadata\":{}},{\"name\":\"Designation\",\"type\":\"string\",\"nullable\":true,\"metadata\":{}},{\"name\":\"Experience\",\"type\":\"string\",\"nullable\":true,\"metadata\":{}}]}"
        }
       ],
       "type": "table"
      }
     },
     "output_type": "display_data"
    }
   ],
   "source": [
    "# Selecting the entire nested 'address' column\n",
    "df_nest.select(\"Description\").display()"
   ]
  },
  {
   "cell_type": "markdown",
   "metadata": {
    "application/vnd.databricks.v1+cell": {
     "cellMetadata": {
      "byteLimit": 2048000,
      "rowLimit": 10000
     },
     "inputWidgets": {},
     "nuid": "98d17298-f12e-4ce6-b12a-106165ef2e1a",
     "showTitle": false,
     "tableResultSettingsMap": {},
     "title": ""
    }
   },
   "source": [
    "**b) Selecting Specific Subfields of a Struct Column**"
   ]
  },
  {
   "cell_type": "code",
   "execution_count": 0,
   "metadata": {
    "application/vnd.databricks.v1+cell": {
     "cellMetadata": {
      "byteLimit": 2048000,
      "rowLimit": 10000
     },
     "inputWidgets": {},
     "nuid": "f93ca756-bfe7-4636-a563-25b9afd2db79",
     "showTitle": false,
     "tableResultSettingsMap": {},
     "title": ""
    }
   },
   "outputs": [
    {
     "output_type": "display_data",
     "data": {
      "text/html": [
       "<style scoped>\n",
       "  .table-result-container {\n",
       "    max-height: 300px;\n",
       "    overflow: auto;\n",
       "  }\n",
       "  table, th, td {\n",
       "    border: 1px solid black;\n",
       "    border-collapse: collapse;\n",
       "  }\n",
       "  th, td {\n",
       "    padding: 5px;\n",
       "  }\n",
       "  th {\n",
       "    text-align: left;\n",
       "  }\n",
       "</style><div class='table-result-container'><table class='table-result'><thead style='background-color: white'><tr><th>make</th></tr></thead><tbody><tr><td>BMW</td></tr><tr><td>HONDA</td></tr><tr><td>MARUTI</td></tr><tr><td>BENZ</td></tr><tr><td>FORD</td></tr><tr><td>KIA</td></tr></tbody></table></div>"
      ]
     },
     "metadata": {
      "application/vnd.databricks.v1+output": {
       "addedWidgets": {},
       "aggData": [],
       "aggError": "",
       "aggOverflow": false,
       "aggSchema": [],
       "aggSeriesLimitReached": false,
       "aggType": "",
       "arguments": {},
       "columnCustomDisplayInfos": {},
       "data": [
        [
         "BMW"
        ],
        [
         "HONDA"
        ],
        [
         "MARUTI"
        ],
        [
         "BENZ"
        ],
        [
         "FORD"
        ],
        [
         "KIA"
        ]
       ],
       "datasetInfos": [],
       "dbfsResultPath": null,
       "isJsonSchema": true,
       "metadata": {},
       "overflow": false,
       "plotOptions": {
        "customPlotOptions": {},
        "displayType": "table",
        "pivotAggregation": null,
        "pivotColumns": null,
        "xColumns": null,
        "yColumns": null
       },
       "removedWidgets": [],
       "schema": [
        {
         "metadata": "{}",
         "name": "make",
         "type": "\"string\""
        }
       ],
       "type": "table"
      }
     },
     "output_type": "display_data"
    }
   ],
   "source": [
    "# Selecting 'make' subfield within the 'Description' struct column\n",
    "df_nest.select(\"Description.make\").display()"
   ]
  },
  {
   "cell_type": "code",
   "execution_count": 0,
   "metadata": {
    "application/vnd.databricks.v1+cell": {
     "cellMetadata": {
      "byteLimit": 2048000,
      "rowLimit": 10000
     },
     "inputWidgets": {},
     "nuid": "3598a035-73b7-4887-b52e-f019ea5e9489",
     "showTitle": false,
     "tableResultSettingsMap": {},
     "title": ""
    }
   },
   "outputs": [
    {
     "output_type": "display_data",
     "data": {
      "text/html": [
       "<style scoped>\n",
       "  .table-result-container {\n",
       "    max-height: 300px;\n",
       "    overflow: auto;\n",
       "  }\n",
       "  table, th, td {\n",
       "    border: 1px solid black;\n",
       "    border-collapse: collapse;\n",
       "  }\n",
       "  th, td {\n",
       "    padding: 5px;\n",
       "  }\n",
       "  th {\n",
       "    text-align: left;\n",
       "  }\n",
       "</style><div class='table-result-container'><table class='table-result'><thead style='background-color: white'><tr><th>Name</th><th>Technology</th></tr></thead><tbody><tr><td>Rajesh</td><td>ADF</td></tr><tr><td>Rajasekar</td><td>ADB</td></tr><tr><td>Harish</td><td>AZURE</td></tr><tr><td>Kamalesh</td><td>PYSPARK</td></tr><tr><td>Jagadish</td><td>PYTHON</td></tr><tr><td>Arijit</td><td>DEVOPS</td></tr></tbody></table></div>"
      ]
     },
     "metadata": {
      "application/vnd.databricks.v1+output": {
       "addedWidgets": {},
       "aggData": [],
       "aggError": "",
       "aggOverflow": false,
       "aggSchema": [],
       "aggSeriesLimitReached": false,
       "aggType": "",
       "arguments": {},
       "columnCustomDisplayInfos": {},
       "data": [
        [
         "Rajesh",
         "ADF"
        ],
        [
         "Rajasekar",
         "ADB"
        ],
        [
         "Harish",
         "AZURE"
        ],
        [
         "Kamalesh",
         "PYSPARK"
        ],
        [
         "Jagadish",
         "PYTHON"
        ],
        [
         "Arijit",
         "DEVOPS"
        ]
       ],
       "datasetInfos": [],
       "dbfsResultPath": null,
       "isJsonSchema": true,
       "metadata": {},
       "overflow": false,
       "plotOptions": {
        "customPlotOptions": {},
        "displayType": "table",
        "pivotAggregation": null,
        "pivotColumns": null,
        "xColumns": null,
        "yColumns": null
       },
       "removedWidgets": [],
       "schema": [
        {
         "metadata": "{}",
         "name": "Name",
         "type": "\"string\""
        },
        {
         "metadata": "{}",
         "name": "Technology",
         "type": "\"string\""
        }
       ],
       "type": "table"
      }
     },
     "output_type": "display_data"
    }
   ],
   "source": [
    "# Selecting 'Description' subfield within the 'Description' struct column\n",
    "df_nest.select(\"Name\", \"Description.Technology\").display()"
   ]
  },
  {
   "cell_type": "markdown",
   "metadata": {
    "application/vnd.databricks.v1+cell": {
     "cellMetadata": {
      "byteLimit": 2048000,
      "rowLimit": 10000
     },
     "inputWidgets": {},
     "nuid": "5a85693c-3248-4ed5-b0bd-f9d5500aa0c7",
     "showTitle": false,
     "tableResultSettingsMap": {},
     "title": ""
    }
   },
   "source": [
    "     df.select(\"name\", df[\"Description.Technology\"].alias(\"Technology\"), df[\"Description.Experience\"].alias(\"Experience\"))\n",
    "                                                      (or)\n",
    "     df.select(\"Name\", \"Description.Technology\", \"Description.Experience\").display()"
   ]
  },
  {
   "cell_type": "code",
   "execution_count": 0,
   "metadata": {
    "application/vnd.databricks.v1+cell": {
     "cellMetadata": {
      "byteLimit": 2048000,
      "rowLimit": 10000
     },
     "inputWidgets": {},
     "nuid": "d607e6be-256c-4e3e-8b21-3ebd9ff0b348",
     "showTitle": false,
     "tableResultSettingsMap": {},
     "title": ""
    }
   },
   "outputs": [
    {
     "output_type": "display_data",
     "data": {
      "text/html": [
       "<style scoped>\n",
       "  .table-result-container {\n",
       "    max-height: 300px;\n",
       "    overflow: auto;\n",
       "  }\n",
       "  table, th, td {\n",
       "    border: 1px solid black;\n",
       "    border-collapse: collapse;\n",
       "  }\n",
       "  th, td {\n",
       "    padding: 5px;\n",
       "  }\n",
       "  th {\n",
       "    text-align: left;\n",
       "  }\n",
       "</style><div class='table-result-container'><table class='table-result'><thead style='background-color: white'><tr><th>name</th><th>Technology</th><th>Experience</th></tr></thead><tbody><tr><td>Rajesh</td><td>ADF</td><td>5</td></tr><tr><td>Rajasekar</td><td>ADB</td><td>8</td></tr><tr><td>Harish</td><td>AZURE</td><td>9</td></tr><tr><td>Kamalesh</td><td>PYSPARK</td><td>10</td></tr><tr><td>Jagadish</td><td>PYTHON</td><td>3</td></tr><tr><td>Arijit</td><td>DEVOPS</td><td>4</td></tr></tbody></table></div>"
      ]
     },
     "metadata": {
      "application/vnd.databricks.v1+output": {
       "addedWidgets": {},
       "aggData": [],
       "aggError": "",
       "aggOverflow": false,
       "aggSchema": [],
       "aggSeriesLimitReached": false,
       "aggType": "",
       "arguments": {},
       "columnCustomDisplayInfos": {},
       "data": [
        [
         "Rajesh",
         "ADF",
         "5"
        ],
        [
         "Rajasekar",
         "ADB",
         "8"
        ],
        [
         "Harish",
         "AZURE",
         "9"
        ],
        [
         "Kamalesh",
         "PYSPARK",
         "10"
        ],
        [
         "Jagadish",
         "PYTHON",
         "3"
        ],
        [
         "Arijit",
         "DEVOPS",
         "4"
        ]
       ],
       "datasetInfos": [],
       "dbfsResultPath": null,
       "isJsonSchema": true,
       "metadata": {},
       "overflow": false,
       "plotOptions": {
        "customPlotOptions": {},
        "displayType": "table",
        "pivotAggregation": null,
        "pivotColumns": null,
        "xColumns": null,
        "yColumns": null
       },
       "removedWidgets": [],
       "schema": [
        {
         "metadata": "{}",
         "name": "name",
         "type": "\"string\""
        },
        {
         "metadata": "{}",
         "name": "Technology",
         "type": "\"string\""
        },
        {
         "metadata": "{}",
         "name": "Experience",
         "type": "\"string\""
        }
       ],
       "type": "table"
      }
     },
     "output_type": "display_data"
    }
   ],
   "source": [
    "# Split struct column into separate columns \n",
    "df_nest_01 = df_nest.select(\"name\", df_nest[\"Description.Technology\"].alias(\"Technology\"), df_nest[\"Description.Experience\"].alias(\"Experience\"))\n",
    "display(df_nest_01)"
   ]
  },
  {
   "cell_type": "code",
   "execution_count": 0,
   "metadata": {
    "application/vnd.databricks.v1+cell": {
     "cellMetadata": {
      "byteLimit": 2048000,
      "rowLimit": 10000
     },
     "inputWidgets": {},
     "nuid": "1eb447a1-7899-40d8-ad93-280085e6f6a7",
     "showTitle": false,
     "tableResultSettingsMap": {},
     "title": ""
    }
   },
   "outputs": [
    {
     "output_type": "display_data",
     "data": {
      "text/html": [
       "<style scoped>\n",
       "  .table-result-container {\n",
       "    max-height: 300px;\n",
       "    overflow: auto;\n",
       "  }\n",
       "  table, th, td {\n",
       "    border: 1px solid black;\n",
       "    border-collapse: collapse;\n",
       "  }\n",
       "  th, td {\n",
       "    padding: 5px;\n",
       "  }\n",
       "  th {\n",
       "    text-align: left;\n",
       "  }\n",
       "</style><div class='table-result-container'><table class='table-result'><thead style='background-color: white'><tr><th>Name</th><th>Description</th><th>make</th><th>Technology</th><th>Designation</th><th>Experience</th></tr></thead><tbody><tr><td>Rajesh</td><td>List(BMW, ADF, Data Engineer, 5)</td><td>BMW</td><td>ADF</td><td>Data Engineer</td><td>5</td></tr><tr><td>Rajasekar</td><td>List(HONDA, ADB, Developer, 8)</td><td>HONDA</td><td>ADB</td><td>Developer</td><td>8</td></tr><tr><td>Harish</td><td>List(MARUTI, AZURE, Testing, 9)</td><td>MARUTI</td><td>AZURE</td><td>Testing</td><td>9</td></tr><tr><td>Kamalesh</td><td>List(BENZ, PYSPARK, Developer, 10)</td><td>BENZ</td><td>PYSPARK</td><td>Developer</td><td>10</td></tr><tr><td>Jagadish</td><td>List(FORD, PYTHON, ADE, 3)</td><td>FORD</td><td>PYTHON</td><td>ADE</td><td>3</td></tr><tr><td>Arijit</td><td>List(KIA, DEVOPS, CI/CD, 4)</td><td>KIA</td><td>DEVOPS</td><td>CI/CD</td><td>4</td></tr></tbody></table></div>"
      ]
     },
     "metadata": {
      "application/vnd.databricks.v1+output": {
       "addedWidgets": {},
       "aggData": [],
       "aggError": "",
       "aggOverflow": false,
       "aggSchema": [],
       "aggSeriesLimitReached": false,
       "aggType": "",
       "arguments": {},
       "columnCustomDisplayInfos": {},
       "data": [
        [
         "Rajesh",
         [
          "BMW",
          "ADF",
          "Data Engineer",
          "5"
         ],
         "BMW",
         "ADF",
         "Data Engineer",
         "5"
        ],
        [
         "Rajasekar",
         [
          "HONDA",
          "ADB",
          "Developer",
          "8"
         ],
         "HONDA",
         "ADB",
         "Developer",
         "8"
        ],
        [
         "Harish",
         [
          "MARUTI",
          "AZURE",
          "Testing",
          "9"
         ],
         "MARUTI",
         "AZURE",
         "Testing",
         "9"
        ],
        [
         "Kamalesh",
         [
          "BENZ",
          "PYSPARK",
          "Developer",
          "10"
         ],
         "BENZ",
         "PYSPARK",
         "Developer",
         "10"
        ],
        [
         "Jagadish",
         [
          "FORD",
          "PYTHON",
          "ADE",
          "3"
         ],
         "FORD",
         "PYTHON",
         "ADE",
         "3"
        ],
        [
         "Arijit",
         [
          "KIA",
          "DEVOPS",
          "CI/CD",
          "4"
         ],
         "KIA",
         "DEVOPS",
         "CI/CD",
         "4"
        ]
       ],
       "datasetInfos": [],
       "dbfsResultPath": null,
       "isJsonSchema": true,
       "metadata": {},
       "overflow": false,
       "plotOptions": {
        "customPlotOptions": {},
        "displayType": "table",
        "pivotAggregation": null,
        "pivotColumns": null,
        "xColumns": null,
        "yColumns": null
       },
       "removedWidgets": [],
       "schema": [
        {
         "metadata": "{}",
         "name": "Name",
         "type": "\"string\""
        },
        {
         "metadata": "{}",
         "name": "Description",
         "type": "{\"type\":\"struct\",\"fields\":[{\"name\":\"make\",\"type\":\"string\",\"nullable\":true,\"metadata\":{}},{\"name\":\"Technology\",\"type\":\"string\",\"nullable\":true,\"metadata\":{}},{\"name\":\"Designation\",\"type\":\"string\",\"nullable\":true,\"metadata\":{}},{\"name\":\"Experience\",\"type\":\"string\",\"nullable\":true,\"metadata\":{}}]}"
        },
        {
         "metadata": "{}",
         "name": "make",
         "type": "\"string\""
        },
        {
         "metadata": "{}",
         "name": "Technology",
         "type": "\"string\""
        },
        {
         "metadata": "{}",
         "name": "Designation",
         "type": "\"string\""
        },
        {
         "metadata": "{}",
         "name": "Experience",
         "type": "\"string\""
        }
       ],
       "type": "table"
      }
     },
     "output_type": "display_data"
    }
   ],
   "source": [
    "# Expand all attributes of \"Description\"\n",
    "df_nest.select(\"*\", \"Description.*\").display()"
   ]
  },
  {
   "cell_type": "markdown",
   "metadata": {
    "application/vnd.databricks.v1+cell": {
     "cellMetadata": {
      "byteLimit": 2048000,
      "rowLimit": 10000
     },
     "inputWidgets": {},
     "nuid": "0005ce26-b01c-4737-a8f2-2e5eb391fc8e",
     "showTitle": false,
     "tableResultSettingsMap": {},
     "title": ""
    }
   },
   "source": [
    "**Ex 02**"
   ]
  },
  {
   "cell_type": "code",
   "execution_count": 0,
   "metadata": {
    "application/vnd.databricks.v1+cell": {
     "cellMetadata": {
      "byteLimit": 2048000,
      "rowLimit": 10000
     },
     "inputWidgets": {},
     "nuid": "3f2a3f3f-535a-4717-91f5-762f574784e1",
     "showTitle": false,
     "tableResultSettingsMap": {},
     "title": ""
    }
   },
   "outputs": [
    {
     "output_type": "stream",
     "name": "stdout",
     "output_type": "stream",
     "text": [
      "root\n |-- Name: struct (nullable = true)\n |    |-- firstname: string (nullable = true)\n |    |-- middlename: string (nullable = true)\n |    |-- lastname: string (nullable = true)\n |    |-- age: integer (nullable = true)\n |    |-- experience: integer (nullable = true)\n |    |-- status: string (nullable = true)\n |-- city: string (nullable = true)\n |-- gender: string (nullable = true)\n\n"
     ]
    },
    {
     "output_type": "display_data",
     "data": {
      "text/html": [
       "<style scoped>\n",
       "  .table-result-container {\n",
       "    max-height: 300px;\n",
       "    overflow: auto;\n",
       "  }\n",
       "  table, th, td {\n",
       "    border: 1px solid black;\n",
       "    border-collapse: collapse;\n",
       "  }\n",
       "  th, td {\n",
       "    padding: 5px;\n",
       "  }\n",
       "  th {\n",
       "    text-align: left;\n",
       "  }\n",
       "</style><div class='table-result-container'><table class='table-result'><thead style='background-color: white'><tr><th>Name</th><th>city</th><th>gender</th></tr></thead><tbody><tr><td>List(jagadish, null, Smith, 35, 5, buy)</td><td>chennai</td><td>M</td></tr><tr><td>List(Anand, Rose, , 30, 8, sell)</td><td>bangalore</td><td>M</td></tr><tr><td>List(Julia, , Williams, 25, 3, buy)</td><td>vizak</td><td>F</td></tr><tr><td>List(Mukesh, Bhat, Royal, 45, 8, buy)</td><td>madurai</td><td>M</td></tr><tr><td>List(Swetha, Kumari, Anand, 55, 15, sell)</td><td>mysore</td><td>F</td></tr><tr><td>List(Madan, Mohan, Nair, 22, 11, buy)</td><td>hyderabad</td><td>M</td></tr><tr><td>List(George, , Williams, 38, 7, sell)</td><td>London</td><td>M</td></tr><tr><td>List(Roshan, Bhat, , 41, 3, buy)</td><td>mandya</td><td>M</td></tr><tr><td>List(Sourabh, Sharma, , 27, 2, sell)</td><td>Nasik</td><td>M</td></tr><tr><td>List(Mohan, Rao, K, 42, 7, buy)</td><td>nizamabad</td><td>M</td></tr></tbody></table></div>"
      ]
     },
     "metadata": {
      "application/vnd.databricks.v1+output": {
       "addedWidgets": {},
       "aggData": [],
       "aggError": "",
       "aggOverflow": false,
       "aggSchema": [],
       "aggSeriesLimitReached": false,
       "aggType": "",
       "arguments": {},
       "columnCustomDisplayInfos": {},
       "data": [
        [
         [
          "jagadish",
          null,
          "Smith",
          35,
          5,
          "buy"
         ],
         "chennai",
         "M"
        ],
        [
         [
          "Anand",
          "Rose",
          "",
          30,
          8,
          "sell"
         ],
         "bangalore",
         "M"
        ],
        [
         [
          "Julia",
          "",
          "Williams",
          25,
          3,
          "buy"
         ],
         "vizak",
         "F"
        ],
        [
         [
          "Mukesh",
          "Bhat",
          "Royal",
          45,
          8,
          "buy"
         ],
         "madurai",
         "M"
        ],
        [
         [
          "Swetha",
          "Kumari",
          "Anand",
          55,
          15,
          "sell"
         ],
         "mysore",
         "F"
        ],
        [
         [
          "Madan",
          "Mohan",
          "Nair",
          22,
          11,
          "buy"
         ],
         "hyderabad",
         "M"
        ],
        [
         [
          "George",
          "",
          "Williams",
          38,
          7,
          "sell"
         ],
         "London",
         "M"
        ],
        [
         [
          "Roshan",
          "Bhat",
          "",
          41,
          3,
          "buy"
         ],
         "mandya",
         "M"
        ],
        [
         [
          "Sourabh",
          "Sharma",
          "",
          27,
          2,
          "sell"
         ],
         "Nasik",
         "M"
        ],
        [
         [
          "Mohan",
          "Rao",
          "K",
          42,
          7,
          "buy"
         ],
         "nizamabad",
         "M"
        ]
       ],
       "datasetInfos": [],
       "dbfsResultPath": null,
       "isJsonSchema": true,
       "metadata": {},
       "overflow": false,
       "plotOptions": {
        "customPlotOptions": {},
        "displayType": "table",
        "pivotAggregation": null,
        "pivotColumns": null,
        "xColumns": null,
        "yColumns": null
       },
       "removedWidgets": [],
       "schema": [
        {
         "metadata": "{}",
         "name": "Name",
         "type": "{\"type\":\"struct\",\"fields\":[{\"name\":\"firstname\",\"type\":\"string\",\"nullable\":true,\"metadata\":{}},{\"name\":\"middlename\",\"type\":\"string\",\"nullable\":true,\"metadata\":{}},{\"name\":\"lastname\",\"type\":\"string\",\"nullable\":true,\"metadata\":{}},{\"name\":\"age\",\"type\":\"integer\",\"nullable\":true,\"metadata\":{}},{\"name\":\"experience\",\"type\":\"integer\",\"nullable\":true,\"metadata\":{}},{\"name\":\"status\",\"type\":\"string\",\"nullable\":true,\"metadata\":{}}]}"
        },
        {
         "metadata": "{}",
         "name": "city",
         "type": "\"string\""
        },
        {
         "metadata": "{}",
         "name": "gender",
         "type": "\"string\""
        }
       ],
       "type": "table"
      }
     },
     "output_type": "display_data"
    }
   ],
   "source": [
    "# Data\n",
    "data = [\n",
    "        ((\"jagadish\", None, \"Smith\", 35, 5, \"buy\"),\"chennai\",\"M\"),\n",
    "        ((\"Anand\", \"Rose\", \"\", 30, 8, \"sell\"), \"bangalore\", \"M\"),\n",
    "        ((\"Julia\", \"\", \"Williams\", 25, 3, \"buy\"), \"vizak\", \"F\"),\n",
    "        ((\"Mukesh\", \"Bhat\", \"Royal\", 45, 8, \"buy\"), \"madurai\", \"M\"),\n",
    "        ((\"Swetha\", \"Kumari\", \"Anand\", 55, 15, \"sell\"), \"mysore\", \"F\"),\n",
    "        ((\"Madan\", \"Mohan\", \"Nair\", 22, 11, \"buy\"), \"hyderabad\", \"M\"),\n",
    "        ((\"George\", \"\", \"Williams\", 38, 7, \"sell\"), \"London\", \"M\"),\n",
    "        ((\"Roshan\", \"Bhat\", \"\", 41, 3, \"buy\"), \"mandya\", \"M\"),\n",
    "        ((\"Sourabh\", \"Sharma\", \"\", 27, 2, \"sell\"), \"Nasik\", \"M\"),\n",
    "        ((\"Mohan\", \"Rao\", \"K\", 42, 7, \"buy\"), \"nizamabad\", \"M\")\n",
    "        ]\n",
    "\n",
    "# Schema\n",
    "schema_arr = StructType([\n",
    "    StructField('Name', StructType([\n",
    "         StructField('firstname', StringType(), True),\n",
    "         StructField('middlename', StringType(), True),\n",
    "         StructField('lastname', StringType(), True),\n",
    "         StructField('age', IntegerType(), True),\n",
    "         StructField('experience', IntegerType(), True),\n",
    "         StructField('status', StringType(), True)\n",
    "         ])),\n",
    "     StructField('city', StringType(), True),\n",
    "     StructField('gender', StringType(), True)\n",
    "     ])\n",
    "\n",
    "# Create DataFrame\n",
    "df_arr = spark.createDataFrame(data=data, schema=schema_arr)\n",
    "df_arr.printSchema()\n",
    "display(df_arr)"
   ]
  },
  {
   "cell_type": "code",
   "execution_count": 0,
   "metadata": {
    "application/vnd.databricks.v1+cell": {
     "cellMetadata": {
      "byteLimit": 2048000,
      "rowLimit": 10000
     },
     "inputWidgets": {},
     "nuid": "5247b946-f1a3-4f6e-9a74-6c43a53cc82e",
     "showTitle": false,
     "tableResultSettingsMap": {},
     "title": ""
    }
   },
   "outputs": [
    {
     "output_type": "display_data",
     "data": {
      "text/html": [
       "<style scoped>\n",
       "  .table-result-container {\n",
       "    max-height: 300px;\n",
       "    overflow: auto;\n",
       "  }\n",
       "  table, th, td {\n",
       "    border: 1px solid black;\n",
       "    border-collapse: collapse;\n",
       "  }\n",
       "  th, td {\n",
       "    padding: 5px;\n",
       "  }\n",
       "  th {\n",
       "    text-align: left;\n",
       "  }\n",
       "</style><div class='table-result-container'><table class='table-result'><thead style='background-color: white'><tr><th>Name</th></tr></thead><tbody><tr><td>List(jagadish, null, Smith, 35, 5, buy)</td></tr><tr><td>List(Anand, Rose, , 30, 8, sell)</td></tr><tr><td>List(Julia, , Williams, 25, 3, buy)</td></tr><tr><td>List(Mukesh, Bhat, Royal, 45, 8, buy)</td></tr><tr><td>List(Swetha, Kumari, Anand, 55, 15, sell)</td></tr><tr><td>List(Madan, Mohan, Nair, 22, 11, buy)</td></tr><tr><td>List(George, , Williams, 38, 7, sell)</td></tr><tr><td>List(Roshan, Bhat, , 41, 3, buy)</td></tr><tr><td>List(Sourabh, Sharma, , 27, 2, sell)</td></tr><tr><td>List(Mohan, Rao, K, 42, 7, buy)</td></tr></tbody></table></div>"
      ]
     },
     "metadata": {
      "application/vnd.databricks.v1+output": {
       "addedWidgets": {},
       "aggData": [],
       "aggError": "",
       "aggOverflow": false,
       "aggSchema": [],
       "aggSeriesLimitReached": false,
       "aggType": "",
       "arguments": {},
       "columnCustomDisplayInfos": {},
       "data": [
        [
         [
          "jagadish",
          null,
          "Smith",
          35,
          5,
          "buy"
         ]
        ],
        [
         [
          "Anand",
          "Rose",
          "",
          30,
          8,
          "sell"
         ]
        ],
        [
         [
          "Julia",
          "",
          "Williams",
          25,
          3,
          "buy"
         ]
        ],
        [
         [
          "Mukesh",
          "Bhat",
          "Royal",
          45,
          8,
          "buy"
         ]
        ],
        [
         [
          "Swetha",
          "Kumari",
          "Anand",
          55,
          15,
          "sell"
         ]
        ],
        [
         [
          "Madan",
          "Mohan",
          "Nair",
          22,
          11,
          "buy"
         ]
        ],
        [
         [
          "George",
          "",
          "Williams",
          38,
          7,
          "sell"
         ]
        ],
        [
         [
          "Roshan",
          "Bhat",
          "",
          41,
          3,
          "buy"
         ]
        ],
        [
         [
          "Sourabh",
          "Sharma",
          "",
          27,
          2,
          "sell"
         ]
        ],
        [
         [
          "Mohan",
          "Rao",
          "K",
          42,
          7,
          "buy"
         ]
        ]
       ],
       "datasetInfos": [],
       "dbfsResultPath": null,
       "isJsonSchema": true,
       "metadata": {},
       "overflow": false,
       "plotOptions": {
        "customPlotOptions": {},
        "displayType": "table",
        "pivotAggregation": null,
        "pivotColumns": null,
        "xColumns": null,
        "yColumns": null
       },
       "removedWidgets": [],
       "schema": [
        {
         "metadata": "{}",
         "name": "Name",
         "type": "{\"type\":\"struct\",\"fields\":[{\"name\":\"firstname\",\"type\":\"string\",\"nullable\":true,\"metadata\":{}},{\"name\":\"middlename\",\"type\":\"string\",\"nullable\":true,\"metadata\":{}},{\"name\":\"lastname\",\"type\":\"string\",\"nullable\":true,\"metadata\":{}},{\"name\":\"age\",\"type\":\"integer\",\"nullable\":true,\"metadata\":{}},{\"name\":\"experience\",\"type\":\"integer\",\"nullable\":true,\"metadata\":{}},{\"name\":\"status\",\"type\":\"string\",\"nullable\":true,\"metadata\":{}}]}"
        }
       ],
       "type": "table"
      }
     },
     "output_type": "display_data"
    }
   ],
   "source": [
    "# Select struct type\n",
    "df_arr.select(\"Name\").display()"
   ]
  },
  {
   "cell_type": "code",
   "execution_count": 0,
   "metadata": {
    "application/vnd.databricks.v1+cell": {
     "cellMetadata": {
      "byteLimit": 2048000,
      "rowLimit": 10000
     },
     "inputWidgets": {},
     "nuid": "c08621de-caa8-49bb-8f66-0e28232532d2",
     "showTitle": false,
     "tableResultSettingsMap": {},
     "title": ""
    }
   },
   "outputs": [
    {
     "output_type": "display_data",
     "data": {
      "text/html": [
       "<style scoped>\n",
       "  .table-result-container {\n",
       "    max-height: 300px;\n",
       "    overflow: auto;\n",
       "  }\n",
       "  table, th, td {\n",
       "    border: 1px solid black;\n",
       "    border-collapse: collapse;\n",
       "  }\n",
       "  th, td {\n",
       "    padding: 5px;\n",
       "  }\n",
       "  th {\n",
       "    text-align: left;\n",
       "  }\n",
       "</style><div class='table-result-container'><table class='table-result'><thead style='background-color: white'><tr><th>firstname</th><th>lastname</th></tr></thead><tbody><tr><td>jagadish</td><td>Smith</td></tr><tr><td>Anand</td><td></td></tr><tr><td>Julia</td><td>Williams</td></tr><tr><td>Mukesh</td><td>Royal</td></tr><tr><td>Swetha</td><td>Anand</td></tr><tr><td>Madan</td><td>Nair</td></tr><tr><td>George</td><td>Williams</td></tr><tr><td>Roshan</td><td></td></tr><tr><td>Sourabh</td><td></td></tr><tr><td>Mohan</td><td>K</td></tr></tbody></table></div>"
      ]
     },
     "metadata": {
      "application/vnd.databricks.v1+output": {
       "addedWidgets": {},
       "aggData": [],
       "aggError": "",
       "aggOverflow": false,
       "aggSchema": [],
       "aggSeriesLimitReached": false,
       "aggType": "",
       "arguments": {},
       "columnCustomDisplayInfos": {},
       "data": [
        [
         "jagadish",
         "Smith"
        ],
        [
         "Anand",
         ""
        ],
        [
         "Julia",
         "Williams"
        ],
        [
         "Mukesh",
         "Royal"
        ],
        [
         "Swetha",
         "Anand"
        ],
        [
         "Madan",
         "Nair"
        ],
        [
         "George",
         "Williams"
        ],
        [
         "Roshan",
         ""
        ],
        [
         "Sourabh",
         ""
        ],
        [
         "Mohan",
         "K"
        ]
       ],
       "datasetInfos": [],
       "dbfsResultPath": null,
       "isJsonSchema": true,
       "metadata": {},
       "overflow": false,
       "plotOptions": {
        "customPlotOptions": {},
        "displayType": "table",
        "pivotAggregation": null,
        "pivotColumns": null,
        "xColumns": null,
        "yColumns": null
       },
       "removedWidgets": [],
       "schema": [
        {
         "metadata": "{}",
         "name": "firstname",
         "type": "\"string\""
        },
        {
         "metadata": "{}",
         "name": "lastname",
         "type": "\"string\""
        }
       ],
       "type": "table"
      }
     },
     "output_type": "display_data"
    }
   ],
   "source": [
    "# Select columns from struct type\n",
    "df_arr.select(\"name.firstname\",\"name.lastname\").display()"
   ]
  },
  {
   "cell_type": "code",
   "execution_count": 0,
   "metadata": {
    "application/vnd.databricks.v1+cell": {
     "cellMetadata": {
      "byteLimit": 2048000,
      "rowLimit": 10000
     },
     "inputWidgets": {},
     "nuid": "3ab0aedd-aa5d-4aa2-8017-2ef67f0f18ae",
     "showTitle": false,
     "tableResultSettingsMap": {},
     "title": ""
    }
   },
   "outputs": [
    {
     "output_type": "display_data",
     "data": {
      "text/html": [
       "<style scoped>\n",
       "  .table-result-container {\n",
       "    max-height: 300px;\n",
       "    overflow: auto;\n",
       "  }\n",
       "  table, th, td {\n",
       "    border: 1px solid black;\n",
       "    border-collapse: collapse;\n",
       "  }\n",
       "  th, td {\n",
       "    padding: 5px;\n",
       "  }\n",
       "  th {\n",
       "    text-align: left;\n",
       "  }\n",
       "</style><div class='table-result-container'><table class='table-result'><thead style='background-color: white'><tr><th>firstname</th><th>middlename</th><th>lastname</th><th>age</th><th>experience</th><th>status</th></tr></thead><tbody><tr><td>jagadish</td><td>null</td><td>Smith</td><td>35</td><td>5</td><td>buy</td></tr><tr><td>Anand</td><td>Rose</td><td></td><td>30</td><td>8</td><td>sell</td></tr><tr><td>Julia</td><td></td><td>Williams</td><td>25</td><td>3</td><td>buy</td></tr><tr><td>Mukesh</td><td>Bhat</td><td>Royal</td><td>45</td><td>8</td><td>buy</td></tr><tr><td>Swetha</td><td>Kumari</td><td>Anand</td><td>55</td><td>15</td><td>sell</td></tr><tr><td>Madan</td><td>Mohan</td><td>Nair</td><td>22</td><td>11</td><td>buy</td></tr><tr><td>George</td><td></td><td>Williams</td><td>38</td><td>7</td><td>sell</td></tr><tr><td>Roshan</td><td>Bhat</td><td></td><td>41</td><td>3</td><td>buy</td></tr><tr><td>Sourabh</td><td>Sharma</td><td></td><td>27</td><td>2</td><td>sell</td></tr><tr><td>Mohan</td><td>Rao</td><td>K</td><td>42</td><td>7</td><td>buy</td></tr></tbody></table></div>"
      ]
     },
     "metadata": {
      "application/vnd.databricks.v1+output": {
       "addedWidgets": {},
       "aggData": [],
       "aggError": "",
       "aggOverflow": false,
       "aggSchema": [],
       "aggSeriesLimitReached": false,
       "aggType": "",
       "arguments": {},
       "columnCustomDisplayInfos": {},
       "data": [
        [
         "jagadish",
         null,
         "Smith",
         35,
         5,
         "buy"
        ],
        [
         "Anand",
         "Rose",
         "",
         30,
         8,
         "sell"
        ],
        [
         "Julia",
         "",
         "Williams",
         25,
         3,
         "buy"
        ],
        [
         "Mukesh",
         "Bhat",
         "Royal",
         45,
         8,
         "buy"
        ],
        [
         "Swetha",
         "Kumari",
         "Anand",
         55,
         15,
         "sell"
        ],
        [
         "Madan",
         "Mohan",
         "Nair",
         22,
         11,
         "buy"
        ],
        [
         "George",
         "",
         "Williams",
         38,
         7,
         "sell"
        ],
        [
         "Roshan",
         "Bhat",
         "",
         41,
         3,
         "buy"
        ],
        [
         "Sourabh",
         "Sharma",
         "",
         27,
         2,
         "sell"
        ],
        [
         "Mohan",
         "Rao",
         "K",
         42,
         7,
         "buy"
        ]
       ],
       "datasetInfos": [],
       "dbfsResultPath": null,
       "isJsonSchema": true,
       "metadata": {},
       "overflow": false,
       "plotOptions": {
        "customPlotOptions": {},
        "displayType": "table",
        "pivotAggregation": null,
        "pivotColumns": null,
        "xColumns": null,
        "yColumns": null
       },
       "removedWidgets": [],
       "schema": [
        {
         "metadata": "{}",
         "name": "firstname",
         "type": "\"string\""
        },
        {
         "metadata": "{}",
         "name": "middlename",
         "type": "\"string\""
        },
        {
         "metadata": "{}",
         "name": "lastname",
         "type": "\"string\""
        },
        {
         "metadata": "{}",
         "name": "age",
         "type": "\"integer\""
        },
        {
         "metadata": "{}",
         "name": "experience",
         "type": "\"integer\""
        },
        {
         "metadata": "{}",
         "name": "status",
         "type": "\"string\""
        }
       ],
       "type": "table"
      }
     },
     "output_type": "display_data"
    }
   ],
   "source": [
    "# Extract all columns from struct type\n",
    "df_arr.select(\"name.*\").display()"
   ]
  },
  {
   "cell_type": "code",
   "execution_count": 0,
   "metadata": {
    "application/vnd.databricks.v1+cell": {
     "cellMetadata": {
      "byteLimit": 2048000,
      "rowLimit": 10000
     },
     "inputWidgets": {},
     "nuid": "157ac4c8-724c-4381-b7f3-d4c022e7aac1",
     "showTitle": false,
     "tableResultSettingsMap": {},
     "title": ""
    }
   },
   "outputs": [
    {
     "output_type": "display_data",
     "data": {
      "text/html": [
       "<style scoped>\n",
       "  .table-result-container {\n",
       "    max-height: 300px;\n",
       "    overflow: auto;\n",
       "  }\n",
       "  table, th, td {\n",
       "    border: 1px solid black;\n",
       "    border-collapse: collapse;\n",
       "  }\n",
       "  th, td {\n",
       "    padding: 5px;\n",
       "  }\n",
       "  th {\n",
       "    text-align: left;\n",
       "  }\n",
       "</style><div class='table-result-container'><table class='table-result'><thead style='background-color: white'><tr><th>Name</th><th>city</th><th>gender</th><th>firstname</th><th>middlename</th><th>lastname</th><th>age</th><th>experience</th><th>status</th></tr></thead><tbody><tr><td>List(jagadish, null, Smith, 35, 5, buy)</td><td>chennai</td><td>M</td><td>jagadish</td><td>null</td><td>Smith</td><td>35</td><td>5</td><td>buy</td></tr><tr><td>List(Anand, Rose, , 30, 8, sell)</td><td>bangalore</td><td>M</td><td>Anand</td><td>Rose</td><td></td><td>30</td><td>8</td><td>sell</td></tr><tr><td>List(Julia, , Williams, 25, 3, buy)</td><td>vizak</td><td>F</td><td>Julia</td><td></td><td>Williams</td><td>25</td><td>3</td><td>buy</td></tr><tr><td>List(Mukesh, Bhat, Royal, 45, 8, buy)</td><td>madurai</td><td>M</td><td>Mukesh</td><td>Bhat</td><td>Royal</td><td>45</td><td>8</td><td>buy</td></tr><tr><td>List(Swetha, Kumari, Anand, 55, 15, sell)</td><td>mysore</td><td>F</td><td>Swetha</td><td>Kumari</td><td>Anand</td><td>55</td><td>15</td><td>sell</td></tr><tr><td>List(Madan, Mohan, Nair, 22, 11, buy)</td><td>hyderabad</td><td>M</td><td>Madan</td><td>Mohan</td><td>Nair</td><td>22</td><td>11</td><td>buy</td></tr><tr><td>List(George, , Williams, 38, 7, sell)</td><td>London</td><td>M</td><td>George</td><td></td><td>Williams</td><td>38</td><td>7</td><td>sell</td></tr><tr><td>List(Roshan, Bhat, , 41, 3, buy)</td><td>mandya</td><td>M</td><td>Roshan</td><td>Bhat</td><td></td><td>41</td><td>3</td><td>buy</td></tr><tr><td>List(Sourabh, Sharma, , 27, 2, sell)</td><td>Nasik</td><td>M</td><td>Sourabh</td><td>Sharma</td><td></td><td>27</td><td>2</td><td>sell</td></tr><tr><td>List(Mohan, Rao, K, 42, 7, buy)</td><td>nizamabad</td><td>M</td><td>Mohan</td><td>Rao</td><td>K</td><td>42</td><td>7</td><td>buy</td></tr></tbody></table></div>"
      ]
     },
     "metadata": {
      "application/vnd.databricks.v1+output": {
       "addedWidgets": {},
       "aggData": [],
       "aggError": "",
       "aggOverflow": false,
       "aggSchema": [],
       "aggSeriesLimitReached": false,
       "aggType": "",
       "arguments": {},
       "columnCustomDisplayInfos": {},
       "data": [
        [
         [
          "jagadish",
          null,
          "Smith",
          35,
          5,
          "buy"
         ],
         "chennai",
         "M",
         "jagadish",
         null,
         "Smith",
         35,
         5,
         "buy"
        ],
        [
         [
          "Anand",
          "Rose",
          "",
          30,
          8,
          "sell"
         ],
         "bangalore",
         "M",
         "Anand",
         "Rose",
         "",
         30,
         8,
         "sell"
        ],
        [
         [
          "Julia",
          "",
          "Williams",
          25,
          3,
          "buy"
         ],
         "vizak",
         "F",
         "Julia",
         "",
         "Williams",
         25,
         3,
         "buy"
        ],
        [
         [
          "Mukesh",
          "Bhat",
          "Royal",
          45,
          8,
          "buy"
         ],
         "madurai",
         "M",
         "Mukesh",
         "Bhat",
         "Royal",
         45,
         8,
         "buy"
        ],
        [
         [
          "Swetha",
          "Kumari",
          "Anand",
          55,
          15,
          "sell"
         ],
         "mysore",
         "F",
         "Swetha",
         "Kumari",
         "Anand",
         55,
         15,
         "sell"
        ],
        [
         [
          "Madan",
          "Mohan",
          "Nair",
          22,
          11,
          "buy"
         ],
         "hyderabad",
         "M",
         "Madan",
         "Mohan",
         "Nair",
         22,
         11,
         "buy"
        ],
        [
         [
          "George",
          "",
          "Williams",
          38,
          7,
          "sell"
         ],
         "London",
         "M",
         "George",
         "",
         "Williams",
         38,
         7,
         "sell"
        ],
        [
         [
          "Roshan",
          "Bhat",
          "",
          41,
          3,
          "buy"
         ],
         "mandya",
         "M",
         "Roshan",
         "Bhat",
         "",
         41,
         3,
         "buy"
        ],
        [
         [
          "Sourabh",
          "Sharma",
          "",
          27,
          2,
          "sell"
         ],
         "Nasik",
         "M",
         "Sourabh",
         "Sharma",
         "",
         27,
         2,
         "sell"
        ],
        [
         [
          "Mohan",
          "Rao",
          "K",
          42,
          7,
          "buy"
         ],
         "nizamabad",
         "M",
         "Mohan",
         "Rao",
         "K",
         42,
         7,
         "buy"
        ]
       ],
       "datasetInfos": [],
       "dbfsResultPath": null,
       "isJsonSchema": true,
       "metadata": {},
       "overflow": false,
       "plotOptions": {
        "customPlotOptions": {},
        "displayType": "table",
        "pivotAggregation": null,
        "pivotColumns": null,
        "xColumns": null,
        "yColumns": null
       },
       "removedWidgets": [],
       "schema": [
        {
         "metadata": "{}",
         "name": "Name",
         "type": "{\"type\":\"struct\",\"fields\":[{\"name\":\"firstname\",\"type\":\"string\",\"nullable\":true,\"metadata\":{}},{\"name\":\"middlename\",\"type\":\"string\",\"nullable\":true,\"metadata\":{}},{\"name\":\"lastname\",\"type\":\"string\",\"nullable\":true,\"metadata\":{}},{\"name\":\"age\",\"type\":\"integer\",\"nullable\":true,\"metadata\":{}},{\"name\":\"experience\",\"type\":\"integer\",\"nullable\":true,\"metadata\":{}},{\"name\":\"status\",\"type\":\"string\",\"nullable\":true,\"metadata\":{}}]}"
        },
        {
         "metadata": "{}",
         "name": "city",
         "type": "\"string\""
        },
        {
         "metadata": "{}",
         "name": "gender",
         "type": "\"string\""
        },
        {
         "metadata": "{}",
         "name": "firstname",
         "type": "\"string\""
        },
        {
         "metadata": "{}",
         "name": "middlename",
         "type": "\"string\""
        },
        {
         "metadata": "{}",
         "name": "lastname",
         "type": "\"string\""
        },
        {
         "metadata": "{}",
         "name": "age",
         "type": "\"integer\""
        },
        {
         "metadata": "{}",
         "name": "experience",
         "type": "\"integer\""
        },
        {
         "metadata": "{}",
         "name": "status",
         "type": "\"string\""
        }
       ],
       "type": "table"
      }
     },
     "output_type": "display_data"
    }
   ],
   "source": [
    "# Extract all columns from struct type\n",
    "df_arr.select(\"*\", \"Name.*\").display()"
   ]
  },
  {
   "cell_type": "markdown",
   "metadata": {
    "application/vnd.databricks.v1+cell": {
     "cellMetadata": {},
     "inputWidgets": {},
     "nuid": "edea180c-66ea-4b83-ab5a-02d869c69f02",
     "showTitle": false,
     "tableResultSettingsMap": {},
     "title": ""
    }
   },
   "source": [
    "**Ex 03**"
   ]
  },
  {
   "cell_type": "code",
   "execution_count": 0,
   "metadata": {
    "application/vnd.databricks.v1+cell": {
     "cellMetadata": {
      "byteLimit": 2048000,
      "rowLimit": 10000
     },
     "inputWidgets": {},
     "nuid": "c9899658-935f-4273-ae21-1a16f6a28c6b",
     "showTitle": false,
     "tableResultSettingsMap": {},
     "title": ""
    }
   },
   "outputs": [
    {
     "output_type": "stream",
     "name": "stdout",
     "output_type": "stream",
     "text": [
      "StructType([StructField('id', IntegerType(), True), StructField('customer_profile', StructType([StructField('name', StringType(), True), StructField('age', IntegerType(), True)]), False)])\n"
     ]
    },
    {
     "output_type": "display_data",
     "data": {
      "text/html": [
       "<style scoped>\n",
       "  .table-result-container {\n",
       "    max-height: 300px;\n",
       "    overflow: auto;\n",
       "  }\n",
       "  table, th, td {\n",
       "    border: 1px solid black;\n",
       "    border-collapse: collapse;\n",
       "  }\n",
       "  th, td {\n",
       "    padding: 5px;\n",
       "  }\n",
       "  th {\n",
       "    text-align: left;\n",
       "  }\n",
       "</style><div class='table-result-container'><table class='table-result'><thead style='background-color: white'><tr><th>id</th><th>customer_profile</th></tr></thead><tbody><tr><td>1</td><td>List(Kontext, 3)</td></tr><tr><td>2</td><td>List(Tech, 10)</td></tr><tr><td>3</td><td>List(ADF, 23)</td></tr><tr><td>4</td><td>List(AWS, 30)</td></tr><tr><td>5</td><td>List(GCC, 33)</td></tr><tr><td>6</td><td>List(ADB, 20)</td></tr></tbody></table></div>"
      ]
     },
     "metadata": {
      "application/vnd.databricks.v1+output": {
       "addedWidgets": {},
       "aggData": [],
       "aggError": "",
       "aggOverflow": false,
       "aggSchema": [],
       "aggSeriesLimitReached": false,
       "aggType": "",
       "arguments": {},
       "columnCustomDisplayInfos": {},
       "data": [
        [
         1,
         [
          "Kontext",
          3
         ]
        ],
        [
         2,
         [
          "Tech",
          10
         ]
        ],
        [
         3,
         [
          "ADF",
          23
         ]
        ],
        [
         4,
         [
          "AWS",
          30
         ]
        ],
        [
         5,
         [
          "GCC",
          33
         ]
        ],
        [
         6,
         [
          "ADB",
          20
         ]
        ]
       ],
       "datasetInfos": [],
       "dbfsResultPath": null,
       "isJsonSchema": true,
       "metadata": {},
       "overflow": false,
       "plotOptions": {
        "customPlotOptions": {},
        "displayType": "table",
        "pivotAggregation": null,
        "pivotColumns": null,
        "xColumns": null,
        "yColumns": null
       },
       "removedWidgets": [],
       "schema": [
        {
         "metadata": "{}",
         "name": "id",
         "type": "\"integer\""
        },
        {
         "metadata": "{}",
         "name": "customer_profile",
         "type": "{\"type\":\"struct\",\"fields\":[{\"name\":\"name\",\"type\":\"string\",\"nullable\":true,\"metadata\":{}},{\"name\":\"age\",\"type\":\"integer\",\"nullable\":true,\"metadata\":{}}]}"
        }
       ],
       "type": "table"
      }
     },
     "output_type": "display_data"
    }
   ],
   "source": [
    "data = [{\"id\": 1, \"customer_profile\": {\"name\": \"Kontext\", \"age\": 3}},\n",
    "        {\"id\": 2, \"customer_profile\": {\"name\": \"Tech\", \"age\": 10}},\n",
    "        {\"id\": 3, \"customer_profile\": {\"name\": \"ADF\", \"age\": 23}},\n",
    "        {\"id\": 4, \"customer_profile\": {\"name\": \"AWS\", \"age\": 30}},\n",
    "        {\"id\": 5, \"customer_profile\": {\"name\": \"GCC\", \"age\": 33}},\n",
    "        {\"id\": 6, \"customer_profile\": {\"name\": \"ADB\", \"age\": 20}}]\n",
    "\n",
    "customer_schema = StructType([\n",
    "    StructField('name', StringType(), True),\n",
    "    StructField('age', IntegerType(), True),\n",
    "])\n",
    "\n",
    "df_schema = StructType([StructField(\"id\", IntegerType(), True), StructField(\"customer_profile\", customer_schema, False)])\n",
    "\n",
    "df_dict = spark.createDataFrame(data, df_schema)\n",
    "print(df_dict.schema)\n",
    "display(df_dict)"
   ]
  },
  {
   "cell_type": "code",
   "execution_count": 0,
   "metadata": {
    "application/vnd.databricks.v1+cell": {
     "cellMetadata": {
      "byteLimit": 2048000,
      "rowLimit": 10000
     },
     "inputWidgets": {},
     "nuid": "d53c86c5-cd4d-4e45-88cb-5dc132d69184",
     "showTitle": false,
     "tableResultSettingsMap": {},
     "title": ""
    }
   },
   "outputs": [
    {
     "output_type": "display_data",
     "data": {
      "text/html": [
       "<style scoped>\n",
       "  .table-result-container {\n",
       "    max-height: 300px;\n",
       "    overflow: auto;\n",
       "  }\n",
       "  table, th, td {\n",
       "    border: 1px solid black;\n",
       "    border-collapse: collapse;\n",
       "  }\n",
       "  th, td {\n",
       "    padding: 5px;\n",
       "  }\n",
       "  th {\n",
       "    text-align: left;\n",
       "  }\n",
       "</style><div class='table-result-container'><table class='table-result'><thead style='background-color: white'><tr><th>id</th><th>customer_profile</th><th>name</th><th>age</th></tr></thead><tbody><tr><td>1</td><td>List(Kontext, 3)</td><td>Kontext</td><td>3</td></tr><tr><td>2</td><td>List(Tech, 10)</td><td>Tech</td><td>10</td></tr><tr><td>3</td><td>List(ADF, 23)</td><td>ADF</td><td>23</td></tr><tr><td>4</td><td>List(AWS, 30)</td><td>AWS</td><td>30</td></tr><tr><td>5</td><td>List(GCC, 33)</td><td>GCC</td><td>33</td></tr><tr><td>6</td><td>List(ADB, 20)</td><td>ADB</td><td>20</td></tr></tbody></table></div>"
      ]
     },
     "metadata": {
      "application/vnd.databricks.v1+output": {
       "addedWidgets": {},
       "aggData": [],
       "aggError": "",
       "aggOverflow": false,
       "aggSchema": [],
       "aggSeriesLimitReached": false,
       "aggType": "",
       "arguments": {},
       "columnCustomDisplayInfos": {},
       "data": [
        [
         1,
         [
          "Kontext",
          3
         ],
         "Kontext",
         3
        ],
        [
         2,
         [
          "Tech",
          10
         ],
         "Tech",
         10
        ],
        [
         3,
         [
          "ADF",
          23
         ],
         "ADF",
         23
        ],
        [
         4,
         [
          "AWS",
          30
         ],
         "AWS",
         30
        ],
        [
         5,
         [
          "GCC",
          33
         ],
         "GCC",
         33
        ],
        [
         6,
         [
          "ADB",
          20
         ],
         "ADB",
         20
        ]
       ],
       "datasetInfos": [],
       "dbfsResultPath": null,
       "isJsonSchema": true,
       "metadata": {},
       "overflow": false,
       "plotOptions": {
        "customPlotOptions": {},
        "displayType": "table",
        "pivotAggregation": null,
        "pivotColumns": null,
        "xColumns": null,
        "yColumns": null
       },
       "removedWidgets": [],
       "schema": [
        {
         "metadata": "{}",
         "name": "id",
         "type": "\"integer\""
        },
        {
         "metadata": "{}",
         "name": "customer_profile",
         "type": "{\"type\":\"struct\",\"fields\":[{\"name\":\"name\",\"type\":\"string\",\"nullable\":true,\"metadata\":{}},{\"name\":\"age\",\"type\":\"integer\",\"nullable\":true,\"metadata\":{}}]}"
        },
        {
         "metadata": "{}",
         "name": "name",
         "type": "\"string\""
        },
        {
         "metadata": "{}",
         "name": "age",
         "type": "\"integer\""
        }
       ],
       "type": "table"
      }
     },
     "output_type": "display_data"
    }
   ],
   "source": [
    "# expand the StructType column\n",
    "df_dict.select('*', \"customer_profile.name\", \"customer_profile.age\").display()"
   ]
  },
  {
   "cell_type": "code",
   "execution_count": 0,
   "metadata": {
    "application/vnd.databricks.v1+cell": {
     "cellMetadata": {
      "byteLimit": 2048000,
      "rowLimit": 10000
     },
     "inputWidgets": {},
     "nuid": "c4cab31e-fea1-4aa1-b4c1-7a710216f79c",
     "showTitle": false,
     "tableResultSettingsMap": {},
     "title": ""
    }
   },
   "outputs": [
    {
     "output_type": "display_data",
     "data": {
      "text/html": [
       "<style scoped>\n",
       "  .table-result-container {\n",
       "    max-height: 300px;\n",
       "    overflow: auto;\n",
       "  }\n",
       "  table, th, td {\n",
       "    border: 1px solid black;\n",
       "    border-collapse: collapse;\n",
       "  }\n",
       "  th, td {\n",
       "    padding: 5px;\n",
       "  }\n",
       "  th {\n",
       "    text-align: left;\n",
       "  }\n",
       "</style><div class='table-result-container'><table class='table-result'><thead style='background-color: white'><tr><th>id</th><th>customer_profile</th><th>name</th><th>age</th></tr></thead><tbody><tr><td>1</td><td>List(Kontext, 3)</td><td>Kontext</td><td>3</td></tr><tr><td>2</td><td>List(Tech, 10)</td><td>Tech</td><td>10</td></tr><tr><td>3</td><td>List(ADF, 23)</td><td>ADF</td><td>23</td></tr><tr><td>4</td><td>List(AWS, 30)</td><td>AWS</td><td>30</td></tr><tr><td>5</td><td>List(GCC, 33)</td><td>GCC</td><td>33</td></tr><tr><td>6</td><td>List(ADB, 20)</td><td>ADB</td><td>20</td></tr></tbody></table></div>"
      ]
     },
     "metadata": {
      "application/vnd.databricks.v1+output": {
       "addedWidgets": {},
       "aggData": [],
       "aggError": "",
       "aggOverflow": false,
       "aggSchema": [],
       "aggSeriesLimitReached": false,
       "aggType": "",
       "arguments": {},
       "columnCustomDisplayInfos": {},
       "data": [
        [
         1,
         [
          "Kontext",
          3
         ],
         "Kontext",
         3
        ],
        [
         2,
         [
          "Tech",
          10
         ],
         "Tech",
         10
        ],
        [
         3,
         [
          "ADF",
          23
         ],
         "ADF",
         23
        ],
        [
         4,
         [
          "AWS",
          30
         ],
         "AWS",
         30
        ],
        [
         5,
         [
          "GCC",
          33
         ],
         "GCC",
         33
        ],
        [
         6,
         [
          "ADB",
          20
         ],
         "ADB",
         20
        ]
       ],
       "datasetInfos": [],
       "dbfsResultPath": null,
       "isJsonSchema": true,
       "metadata": {},
       "overflow": false,
       "plotOptions": {
        "customPlotOptions": {},
        "displayType": "table",
        "pivotAggregation": null,
        "pivotColumns": null,
        "xColumns": null,
        "yColumns": null
       },
       "removedWidgets": [],
       "schema": [
        {
         "metadata": "{}",
         "name": "id",
         "type": "\"integer\""
        },
        {
         "metadata": "{}",
         "name": "customer_profile",
         "type": "{\"type\":\"struct\",\"fields\":[{\"name\":\"name\",\"type\":\"string\",\"nullable\":true,\"metadata\":{}},{\"name\":\"age\",\"type\":\"integer\",\"nullable\":true,\"metadata\":{}}]}"
        },
        {
         "metadata": "{}",
         "name": "name",
         "type": "\"string\""
        },
        {
         "metadata": "{}",
         "name": "age",
         "type": "\"integer\""
        }
       ],
       "type": "table"
      }
     },
     "output_type": "display_data"
    }
   ],
   "source": [
    "# explode all attributes\n",
    "df_dict.select('*', \"customer_profile.*\").display()"
   ]
  },
  {
   "cell_type": "markdown",
   "metadata": {
    "application/vnd.databricks.v1+cell": {
     "cellMetadata": {
      "byteLimit": 2048000,
      "rowLimit": 10000
     },
     "inputWidgets": {},
     "nuid": "92344231-eee0-4467-bafc-ccd97109e0a5",
     "showTitle": false,
     "tableResultSettingsMap": {},
     "title": ""
    }
   },
   "source": [
    "#### **2) Complex Nested Structures**"
   ]
  },
  {
   "cell_type": "code",
   "execution_count": 0,
   "metadata": {
    "application/vnd.databricks.v1+cell": {
     "cellMetadata": {
      "byteLimit": 2048000,
      "rowLimit": 10000
     },
     "inputWidgets": {},
     "nuid": "e7aa7a1d-5949-49bb-928a-f2655d1b979e",
     "showTitle": false,
     "tableResultSettingsMap": {},
     "title": ""
    }
   },
   "outputs": [
    {
     "output_type": "display_data",
     "data": {
      "text/html": [
       "<style scoped>\n",
       "  .table-result-container {\n",
       "    max-height: 300px;\n",
       "    overflow: auto;\n",
       "  }\n",
       "  table, th, td {\n",
       "    border: 1px solid black;\n",
       "    border-collapse: collapse;\n",
       "  }\n",
       "  th, td {\n",
       "    padding: 5px;\n",
       "  }\n",
       "  th {\n",
       "    text-align: left;\n",
       "  }\n",
       "</style><div class='table-result-container'><table class='table-result'><thead style='background-color: white'><tr><th>Name</th><th>age</th><th>address</th></tr></thead><tbody><tr><td>James</td><td>34</td><td>List(1st Avenue, New York, US, List(123-456-7890, james@example.com))</td></tr><tr><td>Anna</td><td>23</td><td>List(2nd Avenue, San Francisco, US, List(987-654-3210, anna@example.com))</td></tr><tr><td>Jeff</td><td>45</td><td>List(3rd Avenue, London, UK, List(456-123-7890, jeff@example.com))</td></tr><tr><td>karthik</td><td>34</td><td>List(#876, Chennai, India, List(9866773221, karthik@example.com))</td></tr><tr><td>Anusha</td><td>43</td><td>List(48th Main, Hyderabad, India, List(9933445500, anu@example.com))</td></tr><tr><td>Jayesh</td><td>45</td><td>List(3rd Cross, Colombo, SriLanka, List(8745612345, yay@example.com))</td></tr><tr><td>Paul</td><td>38</td><td>List(River View, Gothenberg, Sweden, List(656-456-7890, paul@example.com))</td></tr><tr><td>Rajesh</td><td>40</td><td>List(Cross word, Berlin, Germany, List(456-123-2678, raj@example.com))</td></tr></tbody></table></div>"
      ]
     },
     "metadata": {
      "application/vnd.databricks.v1+output": {
       "addedWidgets": {},
       "aggData": [],
       "aggError": "",
       "aggOverflow": false,
       "aggSchema": [],
       "aggSeriesLimitReached": false,
       "aggType": "",
       "arguments": {},
       "columnCustomDisplayInfos": {},
       "data": [
        [
         "James",
         34,
         [
          "1st Avenue",
          "New York",
          "US",
          [
           "123-456-7890",
           "james@example.com"
          ]
         ]
        ],
        [
         "Anna",
         23,
         [
          "2nd Avenue",
          "San Francisco",
          "US",
          [
           "987-654-3210",
           "anna@example.com"
          ]
         ]
        ],
        [
         "Jeff",
         45,
         [
          "3rd Avenue",
          "London",
          "UK",
          [
           "456-123-7890",
           "jeff@example.com"
          ]
         ]
        ],
        [
         "karthik",
         34,
         [
          "#876",
          "Chennai",
          "India",
          [
           "9866773221",
           "karthik@example.com"
          ]
         ]
        ],
        [
         "Anusha",
         43,
         [
          "48th Main",
          "Hyderabad",
          "India",
          [
           "9933445500",
           "anu@example.com"
          ]
         ]
        ],
        [
         "Jayesh",
         45,
         [
          "3rd Cross",
          "Colombo",
          "SriLanka",
          [
           "8745612345",
           "yay@example.com"
          ]
         ]
        ],
        [
         "Paul",
         38,
         [
          "River View",
          "Gothenberg",
          "Sweden",
          [
           "656-456-7890",
           "paul@example.com"
          ]
         ]
        ],
        [
         "Rajesh",
         40,
         [
          "Cross word",
          "Berlin",
          "Germany",
          [
           "456-123-2678",
           "raj@example.com"
          ]
         ]
        ]
       ],
       "datasetInfos": [],
       "dbfsResultPath": null,
       "isJsonSchema": true,
       "metadata": {},
       "overflow": false,
       "plotOptions": {
        "customPlotOptions": {},
        "displayType": "table",
        "pivotAggregation": null,
        "pivotColumns": null,
        "xColumns": null,
        "yColumns": null
       },
       "removedWidgets": [],
       "schema": [
        {
         "metadata": "{}",
         "name": "Name",
         "type": "\"string\""
        },
        {
         "metadata": "{}",
         "name": "age",
         "type": "\"integer\""
        },
        {
         "metadata": "{}",
         "name": "address",
         "type": "{\"type\":\"struct\",\"fields\":[{\"name\":\"street\",\"type\":\"string\",\"nullable\":true,\"metadata\":{}},{\"name\":\"city\",\"type\":\"string\",\"nullable\":true,\"metadata\":{}},{\"name\":\"country\",\"type\":\"string\",\"nullable\":true,\"metadata\":{}},{\"name\":\"contact\",\"type\":{\"type\":\"struct\",\"fields\":[{\"name\":\"phone\",\"type\":\"string\",\"nullable\":true,\"metadata\":{}},{\"name\":\"email\",\"type\":\"string\",\"nullable\":true,\"metadata\":{}}]},\"nullable\":true,\"metadata\":{}}]}"
        }
       ],
       "type": "table"
      }
     },
     "output_type": "display_data"
    }
   ],
   "source": [
    "# Create data with nested structure\n",
    "data = [(\"James\", 34, (\"1st Avenue\", \"New York\", \"US\", (\"123-456-7890\", \"james@example.com\"))),\n",
    "        (\"Anna\", 23, (\"2nd Avenue\", \"San Francisco\", \"US\", (\"987-654-3210\", \"anna@example.com\"))),\n",
    "        (\"Jeff\", 45, (\"3rd Avenue\", \"London\", \"UK\", (\"456-123-7890\", \"jeff@example.com\"))),\n",
    "        (\"karthik\", 34, (\"#876\", \"Chennai\", \"India\", (\"9866773221\", \"karthik@example.com\"))),\n",
    "        (\"Anusha\", 43, (\"48th Main\", \"Hyderabad\", \"India\", (\"9933445500\", \"anu@example.com\"))),\n",
    "        (\"Jayesh\", 45, (\"3rd Cross\", \"Colombo\", \"SriLanka\", (\"8745612345\", \"yay@example.com\"))),\n",
    "        (\"Paul\", 38, (\"River View\", \"Gothenberg\", \"Sweden\", (\"656-456-7890\", \"paul@example.com\"))),\n",
    "        (\"Rajesh\", 40, (\"Cross word\", \"Berlin\", \"Germany\", (\"456-123-2678\", \"raj@example.com\"))),\n",
    "        ] \n",
    "\n",
    "# Defined schema for illustration purposes:\n",
    "complex_schema = StructType([\n",
    "    StructField(\"Name\", StringType(), True),\n",
    "    StructField(\"age\", IntegerType(), True),\n",
    "    StructField(\"address\", StructType([\n",
    "        StructField(\"street\", StringType(), True),\n",
    "        StructField(\"city\", StringType(), True),\n",
    "        StructField(\"country\", StringType(), True),\n",
    "        StructField(\"contact\", StructType([\n",
    "            StructField(\"phone\", StringType(), True),\n",
    "            StructField(\"email\", StringType(), True)\n",
    "        ]), True)\n",
    "    ]), True)\n",
    "])\n",
    "\n",
    "# create DataFrame using createDataFrame method \n",
    "df_nested = spark.createDataFrame(data, complex_schema)\n",
    "display(df_nested)"
   ]
  },
  {
   "cell_type": "code",
   "execution_count": 0,
   "metadata": {
    "application/vnd.databricks.v1+cell": {
     "cellMetadata": {
      "byteLimit": 2048000,
      "rowLimit": 10000
     },
     "inputWidgets": {},
     "nuid": "8de90f03-a94b-4a83-b185-ba7b5fed03ad",
     "showTitle": false,
     "tableResultSettingsMap": {},
     "title": ""
    }
   },
   "outputs": [
    {
     "output_type": "display_data",
     "data": {
      "text/html": [
       "<style scoped>\n",
       "  .table-result-container {\n",
       "    max-height: 300px;\n",
       "    overflow: auto;\n",
       "  }\n",
       "  table, th, td {\n",
       "    border: 1px solid black;\n",
       "    border-collapse: collapse;\n",
       "  }\n",
       "  th, td {\n",
       "    padding: 5px;\n",
       "  }\n",
       "  th {\n",
       "    text-align: left;\n",
       "  }\n",
       "</style><div class='table-result-container'><table class='table-result'><thead style='background-color: white'><tr><th>Name</th><th>phone</th></tr></thead><tbody><tr><td>James</td><td>123-456-7890</td></tr><tr><td>Anna</td><td>987-654-3210</td></tr><tr><td>Jeff</td><td>456-123-7890</td></tr><tr><td>karthik</td><td>9866773221</td></tr><tr><td>Anusha</td><td>9933445500</td></tr><tr><td>Jayesh</td><td>8745612345</td></tr><tr><td>Paul</td><td>656-456-7890</td></tr><tr><td>Rajesh</td><td>456-123-2678</td></tr></tbody></table></div>"
      ]
     },
     "metadata": {
      "application/vnd.databricks.v1+output": {
       "addedWidgets": {},
       "aggData": [],
       "aggError": "",
       "aggOverflow": false,
       "aggSchema": [],
       "aggSeriesLimitReached": false,
       "aggType": "",
       "arguments": {},
       "columnCustomDisplayInfos": {},
       "data": [
        [
         "James",
         "123-456-7890"
        ],
        [
         "Anna",
         "987-654-3210"
        ],
        [
         "Jeff",
         "456-123-7890"
        ],
        [
         "karthik",
         "9866773221"
        ],
        [
         "Anusha",
         "9933445500"
        ],
        [
         "Jayesh",
         "8745612345"
        ],
        [
         "Paul",
         "656-456-7890"
        ],
        [
         "Rajesh",
         "456-123-2678"
        ]
       ],
       "datasetInfos": [],
       "dbfsResultPath": null,
       "isJsonSchema": true,
       "metadata": {},
       "overflow": false,
       "plotOptions": {
        "customPlotOptions": {},
        "displayType": "table",
        "pivotAggregation": null,
        "pivotColumns": null,
        "xColumns": null,
        "yColumns": null
       },
       "removedWidgets": [],
       "schema": [
        {
         "metadata": "{}",
         "name": "Name",
         "type": "\"string\""
        },
        {
         "metadata": "{}",
         "name": "phone",
         "type": "\"string\""
        }
       ],
       "type": "table"
      }
     },
     "output_type": "display_data"
    }
   ],
   "source": [
    "# Navigating through multiple levels and selecting 'phone'\n",
    "df_nested.select(\"Name\",\"address.contact.phone\").display()"
   ]
  },
  {
   "cell_type": "code",
   "execution_count": 0,
   "metadata": {
    "application/vnd.databricks.v1+cell": {
     "cellMetadata": {
      "byteLimit": 2048000,
      "rowLimit": 10000
     },
     "inputWidgets": {},
     "nuid": "1bcc9d96-4180-42fa-8a77-3bb53e67f4b8",
     "showTitle": false,
     "tableResultSettingsMap": {},
     "title": ""
    }
   },
   "outputs": [
    {
     "output_type": "display_data",
     "data": {
      "text/html": [
       "<style scoped>\n",
       "  .table-result-container {\n",
       "    max-height: 300px;\n",
       "    overflow: auto;\n",
       "  }\n",
       "  table, th, td {\n",
       "    border: 1px solid black;\n",
       "    border-collapse: collapse;\n",
       "  }\n",
       "  th, td {\n",
       "    padding: 5px;\n",
       "  }\n",
       "  th {\n",
       "    text-align: left;\n",
       "  }\n",
       "</style><div class='table-result-container'><table class='table-result'><thead style='background-color: white'><tr><th>Name</th><th>phone</th><th>email</th></tr></thead><tbody><tr><td>James</td><td>123-456-7890</td><td>james@example.com</td></tr><tr><td>Anna</td><td>987-654-3210</td><td>anna@example.com</td></tr><tr><td>Jeff</td><td>456-123-7890</td><td>jeff@example.com</td></tr><tr><td>karthik</td><td>9866773221</td><td>karthik@example.com</td></tr><tr><td>Anusha</td><td>9933445500</td><td>anu@example.com</td></tr><tr><td>Jayesh</td><td>8745612345</td><td>yay@example.com</td></tr><tr><td>Paul</td><td>656-456-7890</td><td>paul@example.com</td></tr><tr><td>Rajesh</td><td>456-123-2678</td><td>raj@example.com</td></tr></tbody></table></div>"
      ]
     },
     "metadata": {
      "application/vnd.databricks.v1+output": {
       "addedWidgets": {},
       "aggData": [],
       "aggError": "",
       "aggOverflow": false,
       "aggSchema": [],
       "aggSeriesLimitReached": false,
       "aggType": "",
       "arguments": {},
       "columnCustomDisplayInfos": {},
       "data": [
        [
         "James",
         "123-456-7890",
         "james@example.com"
        ],
        [
         "Anna",
         "987-654-3210",
         "anna@example.com"
        ],
        [
         "Jeff",
         "456-123-7890",
         "jeff@example.com"
        ],
        [
         "karthik",
         "9866773221",
         "karthik@example.com"
        ],
        [
         "Anusha",
         "9933445500",
         "anu@example.com"
        ],
        [
         "Jayesh",
         "8745612345",
         "yay@example.com"
        ],
        [
         "Paul",
         "656-456-7890",
         "paul@example.com"
        ],
        [
         "Rajesh",
         "456-123-2678",
         "raj@example.com"
        ]
       ],
       "datasetInfos": [],
       "dbfsResultPath": null,
       "isJsonSchema": true,
       "metadata": {},
       "overflow": false,
       "plotOptions": {
        "customPlotOptions": {},
        "displayType": "table",
        "pivotAggregation": null,
        "pivotColumns": null,
        "xColumns": null,
        "yColumns": null
       },
       "removedWidgets": [],
       "schema": [
        {
         "metadata": "{}",
         "name": "Name",
         "type": "\"string\""
        },
        {
         "metadata": "{}",
         "name": "phone",
         "type": "\"string\""
        },
        {
         "metadata": "{}",
         "name": "email",
         "type": "\"string\""
        }
       ],
       "type": "table"
      }
     },
     "output_type": "display_data"
    }
   ],
   "source": [
    "# Navigating through multiple levels and selecting 'phone' & '\n",
    "df_nested.select(\"Name\", \"address.contact.phone\", \"address.contact.email\").display()"
   ]
  },
  {
   "cell_type": "code",
   "execution_count": 0,
   "metadata": {
    "application/vnd.databricks.v1+cell": {
     "cellMetadata": {
      "byteLimit": 2048000,
      "rowLimit": 10000
     },
     "inputWidgets": {},
     "nuid": "0f5bfeaf-f6e8-4d84-b93a-22f69e3d0c1d",
     "showTitle": false,
     "tableResultSettingsMap": {},
     "title": ""
    }
   },
   "outputs": [
    {
     "output_type": "display_data",
     "data": {
      "text/html": [
       "<style scoped>\n",
       "  .table-result-container {\n",
       "    max-height: 300px;\n",
       "    overflow: auto;\n",
       "  }\n",
       "  table, th, td {\n",
       "    border: 1px solid black;\n",
       "    border-collapse: collapse;\n",
       "  }\n",
       "  th, td {\n",
       "    padding: 5px;\n",
       "  }\n",
       "  th {\n",
       "    text-align: left;\n",
       "  }\n",
       "</style><div class='table-result-container'><table class='table-result'><thead style='background-color: white'><tr><th>phone</th><th>email</th></tr></thead><tbody><tr><td>123-456-7890</td><td>james@example.com</td></tr><tr><td>987-654-3210</td><td>anna@example.com</td></tr><tr><td>456-123-7890</td><td>jeff@example.com</td></tr><tr><td>9866773221</td><td>karthik@example.com</td></tr><tr><td>9933445500</td><td>anu@example.com</td></tr><tr><td>8745612345</td><td>yay@example.com</td></tr><tr><td>656-456-7890</td><td>paul@example.com</td></tr><tr><td>456-123-2678</td><td>raj@example.com</td></tr></tbody></table></div>"
      ]
     },
     "metadata": {
      "application/vnd.databricks.v1+output": {
       "addedWidgets": {},
       "aggData": [],
       "aggError": "",
       "aggOverflow": false,
       "aggSchema": [],
       "aggSeriesLimitReached": false,
       "aggType": "",
       "arguments": {},
       "columnCustomDisplayInfos": {},
       "data": [
        [
         "123-456-7890",
         "james@example.com"
        ],
        [
         "987-654-3210",
         "anna@example.com"
        ],
        [
         "456-123-7890",
         "jeff@example.com"
        ],
        [
         "9866773221",
         "karthik@example.com"
        ],
        [
         "9933445500",
         "anu@example.com"
        ],
        [
         "8745612345",
         "yay@example.com"
        ],
        [
         "656-456-7890",
         "paul@example.com"
        ],
        [
         "456-123-2678",
         "raj@example.com"
        ]
       ],
       "datasetInfos": [],
       "dbfsResultPath": null,
       "isJsonSchema": true,
       "metadata": {},
       "overflow": false,
       "plotOptions": {
        "customPlotOptions": {},
        "displayType": "table",
        "pivotAggregation": null,
        "pivotColumns": null,
        "xColumns": null,
        "yColumns": null
       },
       "removedWidgets": [],
       "schema": [
        {
         "metadata": "{}",
         "name": "phone",
         "type": "\"string\""
        },
        {
         "metadata": "{}",
         "name": "email",
         "type": "\"string\""
        }
       ],
       "type": "table"
      }
     },
     "output_type": "display_data"
    }
   ],
   "source": [
    "# Expand all columns of \"contact\"\n",
    "df_nested.select(\"address.contact.*\").display()"
   ]
  },
  {
   "cell_type": "code",
   "execution_count": 0,
   "metadata": {
    "application/vnd.databricks.v1+cell": {
     "cellMetadata": {
      "byteLimit": 2048000,
      "rowLimit": 10000
     },
     "inputWidgets": {},
     "nuid": "8a6d63e8-a653-4941-8e81-e0b3ce107ee5",
     "showTitle": false,
     "tableResultSettingsMap": {},
     "title": ""
    }
   },
   "outputs": [
    {
     "output_type": "display_data",
     "data": {
      "text/html": [
       "<style scoped>\n",
       "  .table-result-container {\n",
       "    max-height: 300px;\n",
       "    overflow: auto;\n",
       "  }\n",
       "  table, th, td {\n",
       "    border: 1px solid black;\n",
       "    border-collapse: collapse;\n",
       "  }\n",
       "  th, td {\n",
       "    padding: 5px;\n",
       "  }\n",
       "  th {\n",
       "    text-align: left;\n",
       "  }\n",
       "</style><div class='table-result-container'><table class='table-result'><thead style='background-color: white'><tr><th>street</th><th>city</th><th>country</th><th>contact</th></tr></thead><tbody><tr><td>1st Avenue</td><td>New York</td><td>US</td><td>List(123-456-7890, james@example.com)</td></tr><tr><td>2nd Avenue</td><td>San Francisco</td><td>US</td><td>List(987-654-3210, anna@example.com)</td></tr><tr><td>3rd Avenue</td><td>London</td><td>UK</td><td>List(456-123-7890, jeff@example.com)</td></tr><tr><td>#876</td><td>Chennai</td><td>India</td><td>List(9866773221, karthik@example.com)</td></tr><tr><td>48th Main</td><td>Hyderabad</td><td>India</td><td>List(9933445500, anu@example.com)</td></tr><tr><td>3rd Cross</td><td>Colombo</td><td>SriLanka</td><td>List(8745612345, yay@example.com)</td></tr><tr><td>River View</td><td>Gothenberg</td><td>Sweden</td><td>List(656-456-7890, paul@example.com)</td></tr><tr><td>Cross word</td><td>Berlin</td><td>Germany</td><td>List(456-123-2678, raj@example.com)</td></tr></tbody></table></div>"
      ]
     },
     "metadata": {
      "application/vnd.databricks.v1+output": {
       "addedWidgets": {},
       "aggData": [],
       "aggError": "",
       "aggOverflow": false,
       "aggSchema": [],
       "aggSeriesLimitReached": false,
       "aggType": "",
       "arguments": {},
       "columnCustomDisplayInfos": {},
       "data": [
        [
         "1st Avenue",
         "New York",
         "US",
         [
          "123-456-7890",
          "james@example.com"
         ]
        ],
        [
         "2nd Avenue",
         "San Francisco",
         "US",
         [
          "987-654-3210",
          "anna@example.com"
         ]
        ],
        [
         "3rd Avenue",
         "London",
         "UK",
         [
          "456-123-7890",
          "jeff@example.com"
         ]
        ],
        [
         "#876",
         "Chennai",
         "India",
         [
          "9866773221",
          "karthik@example.com"
         ]
        ],
        [
         "48th Main",
         "Hyderabad",
         "India",
         [
          "9933445500",
          "anu@example.com"
         ]
        ],
        [
         "3rd Cross",
         "Colombo",
         "SriLanka",
         [
          "8745612345",
          "yay@example.com"
         ]
        ],
        [
         "River View",
         "Gothenberg",
         "Sweden",
         [
          "656-456-7890",
          "paul@example.com"
         ]
        ],
        [
         "Cross word",
         "Berlin",
         "Germany",
         [
          "456-123-2678",
          "raj@example.com"
         ]
        ]
       ],
       "datasetInfos": [],
       "dbfsResultPath": null,
       "isJsonSchema": true,
       "metadata": {},
       "overflow": false,
       "plotOptions": {
        "customPlotOptions": {},
        "displayType": "table",
        "pivotAggregation": null,
        "pivotColumns": null,
        "xColumns": null,
        "yColumns": null
       },
       "removedWidgets": [],
       "schema": [
        {
         "metadata": "{}",
         "name": "street",
         "type": "\"string\""
        },
        {
         "metadata": "{}",
         "name": "city",
         "type": "\"string\""
        },
        {
         "metadata": "{}",
         "name": "country",
         "type": "\"string\""
        },
        {
         "metadata": "{}",
         "name": "contact",
         "type": "{\"type\":\"struct\",\"fields\":[{\"name\":\"phone\",\"type\":\"string\",\"nullable\":true,\"metadata\":{}},{\"name\":\"email\",\"type\":\"string\",\"nullable\":true,\"metadata\":{}}]}"
        }
       ],
       "type": "table"
      }
     },
     "output_type": "display_data"
    }
   ],
   "source": [
    "# Expand all columns of \"address\"\n",
    "df_nested.select(\"address.*\").display()"
   ]
  },
  {
   "cell_type": "code",
   "execution_count": 0,
   "metadata": {
    "application/vnd.databricks.v1+cell": {
     "cellMetadata": {
      "byteLimit": 2048000,
      "rowLimit": 10000
     },
     "inputWidgets": {},
     "nuid": "c5aafd39-f88f-4062-bc23-607684899302",
     "showTitle": false,
     "tableResultSettingsMap": {},
     "title": ""
    }
   },
   "outputs": [
    {
     "output_type": "display_data",
     "data": {
      "text/html": [
       "<style scoped>\n",
       "  .table-result-container {\n",
       "    max-height: 300px;\n",
       "    overflow: auto;\n",
       "  }\n",
       "  table, th, td {\n",
       "    border: 1px solid black;\n",
       "    border-collapse: collapse;\n",
       "  }\n",
       "  th, td {\n",
       "    padding: 5px;\n",
       "  }\n",
       "  th {\n",
       "    text-align: left;\n",
       "  }\n",
       "</style><div class='table-result-container'><table class='table-result'><thead style='background-color: white'><tr><th>street</th><th>city</th><th>country</th><th>contact</th><th>phone</th><th>email</th></tr></thead><tbody><tr><td>1st Avenue</td><td>New York</td><td>US</td><td>List(123-456-7890, james@example.com)</td><td>123-456-7890</td><td>james@example.com</td></tr><tr><td>2nd Avenue</td><td>San Francisco</td><td>US</td><td>List(987-654-3210, anna@example.com)</td><td>987-654-3210</td><td>anna@example.com</td></tr><tr><td>3rd Avenue</td><td>London</td><td>UK</td><td>List(456-123-7890, jeff@example.com)</td><td>456-123-7890</td><td>jeff@example.com</td></tr><tr><td>#876</td><td>Chennai</td><td>India</td><td>List(9866773221, karthik@example.com)</td><td>9866773221</td><td>karthik@example.com</td></tr><tr><td>48th Main</td><td>Hyderabad</td><td>India</td><td>List(9933445500, anu@example.com)</td><td>9933445500</td><td>anu@example.com</td></tr><tr><td>3rd Cross</td><td>Colombo</td><td>SriLanka</td><td>List(8745612345, yay@example.com)</td><td>8745612345</td><td>yay@example.com</td></tr><tr><td>River View</td><td>Gothenberg</td><td>Sweden</td><td>List(656-456-7890, paul@example.com)</td><td>656-456-7890</td><td>paul@example.com</td></tr><tr><td>Cross word</td><td>Berlin</td><td>Germany</td><td>List(456-123-2678, raj@example.com)</td><td>456-123-2678</td><td>raj@example.com</td></tr></tbody></table></div>"
      ]
     },
     "metadata": {
      "application/vnd.databricks.v1+output": {
       "addedWidgets": {},
       "aggData": [],
       "aggError": "",
       "aggOverflow": false,
       "aggSchema": [],
       "aggSeriesLimitReached": false,
       "aggType": "",
       "arguments": {},
       "columnCustomDisplayInfos": {},
       "data": [
        [
         "1st Avenue",
         "New York",
         "US",
         [
          "123-456-7890",
          "james@example.com"
         ],
         "123-456-7890",
         "james@example.com"
        ],
        [
         "2nd Avenue",
         "San Francisco",
         "US",
         [
          "987-654-3210",
          "anna@example.com"
         ],
         "987-654-3210",
         "anna@example.com"
        ],
        [
         "3rd Avenue",
         "London",
         "UK",
         [
          "456-123-7890",
          "jeff@example.com"
         ],
         "456-123-7890",
         "jeff@example.com"
        ],
        [
         "#876",
         "Chennai",
         "India",
         [
          "9866773221",
          "karthik@example.com"
         ],
         "9866773221",
         "karthik@example.com"
        ],
        [
         "48th Main",
         "Hyderabad",
         "India",
         [
          "9933445500",
          "anu@example.com"
         ],
         "9933445500",
         "anu@example.com"
        ],
        [
         "3rd Cross",
         "Colombo",
         "SriLanka",
         [
          "8745612345",
          "yay@example.com"
         ],
         "8745612345",
         "yay@example.com"
        ],
        [
         "River View",
         "Gothenberg",
         "Sweden",
         [
          "656-456-7890",
          "paul@example.com"
         ],
         "656-456-7890",
         "paul@example.com"
        ],
        [
         "Cross word",
         "Berlin",
         "Germany",
         [
          "456-123-2678",
          "raj@example.com"
         ],
         "456-123-2678",
         "raj@example.com"
        ]
       ],
       "datasetInfos": [],
       "dbfsResultPath": null,
       "isJsonSchema": true,
       "metadata": {},
       "overflow": false,
       "plotOptions": {
        "customPlotOptions": {},
        "displayType": "table",
        "pivotAggregation": null,
        "pivotColumns": null,
        "xColumns": null,
        "yColumns": null
       },
       "removedWidgets": [],
       "schema": [
        {
         "metadata": "{}",
         "name": "street",
         "type": "\"string\""
        },
        {
         "metadata": "{}",
         "name": "city",
         "type": "\"string\""
        },
        {
         "metadata": "{}",
         "name": "country",
         "type": "\"string\""
        },
        {
         "metadata": "{}",
         "name": "contact",
         "type": "{\"type\":\"struct\",\"fields\":[{\"name\":\"phone\",\"type\":\"string\",\"nullable\":true,\"metadata\":{}},{\"name\":\"email\",\"type\":\"string\",\"nullable\":true,\"metadata\":{}}]}"
        },
        {
         "metadata": "{}",
         "name": "phone",
         "type": "\"string\""
        },
        {
         "metadata": "{}",
         "name": "email",
         "type": "\"string\""
        }
       ],
       "type": "table"
      }
     },
     "output_type": "display_data"
    }
   ],
   "source": [
    "# Expand all columns of \"address\"\n",
    "df_nested.select(\"address.*\", \"address.contact.*\").display()"
   ]
  },
  {
   "cell_type": "code",
   "execution_count": 0,
   "metadata": {
    "application/vnd.databricks.v1+cell": {
     "cellMetadata": {
      "byteLimit": 2048000,
      "rowLimit": 10000
     },
     "inputWidgets": {},
     "nuid": "644b11ab-3934-4a8c-8d96-071798d5461b",
     "showTitle": false,
     "tableResultSettingsMap": {},
     "title": ""
    }
   },
   "outputs": [
    {
     "output_type": "display_data",
     "data": {
      "text/html": [
       "<style scoped>\n",
       "  .table-result-container {\n",
       "    max-height: 300px;\n",
       "    overflow: auto;\n",
       "  }\n",
       "  table, th, td {\n",
       "    border: 1px solid black;\n",
       "    border-collapse: collapse;\n",
       "  }\n",
       "  th, td {\n",
       "    padding: 5px;\n",
       "  }\n",
       "  th {\n",
       "    text-align: left;\n",
       "  }\n",
       "</style><div class='table-result-container'><table class='table-result'><thead style='background-color: white'><tr><th>street</th><th>city</th><th>country</th><th>phone</th><th>email</th></tr></thead><tbody><tr><td>1st Avenue</td><td>New York</td><td>US</td><td>123-456-7890</td><td>james@example.com</td></tr><tr><td>2nd Avenue</td><td>San Francisco</td><td>US</td><td>987-654-3210</td><td>anna@example.com</td></tr><tr><td>3rd Avenue</td><td>London</td><td>UK</td><td>456-123-7890</td><td>jeff@example.com</td></tr><tr><td>#876</td><td>Chennai</td><td>India</td><td>9866773221</td><td>karthik@example.com</td></tr><tr><td>48th Main</td><td>Hyderabad</td><td>India</td><td>9933445500</td><td>anu@example.com</td></tr><tr><td>3rd Cross</td><td>Colombo</td><td>SriLanka</td><td>8745612345</td><td>yay@example.com</td></tr><tr><td>River View</td><td>Gothenberg</td><td>Sweden</td><td>656-456-7890</td><td>paul@example.com</td></tr><tr><td>Cross word</td><td>Berlin</td><td>Germany</td><td>456-123-2678</td><td>raj@example.com</td></tr></tbody></table></div>"
      ]
     },
     "metadata": {
      "application/vnd.databricks.v1+output": {
       "addedWidgets": {},
       "aggData": [],
       "aggError": "",
       "aggOverflow": false,
       "aggSchema": [],
       "aggSeriesLimitReached": false,
       "aggType": "",
       "arguments": {},
       "columnCustomDisplayInfos": {},
       "data": [
        [
         "1st Avenue",
         "New York",
         "US",
         "123-456-7890",
         "james@example.com"
        ],
        [
         "2nd Avenue",
         "San Francisco",
         "US",
         "987-654-3210",
         "anna@example.com"
        ],
        [
         "3rd Avenue",
         "London",
         "UK",
         "456-123-7890",
         "jeff@example.com"
        ],
        [
         "#876",
         "Chennai",
         "India",
         "9866773221",
         "karthik@example.com"
        ],
        [
         "48th Main",
         "Hyderabad",
         "India",
         "9933445500",
         "anu@example.com"
        ],
        [
         "3rd Cross",
         "Colombo",
         "SriLanka",
         "8745612345",
         "yay@example.com"
        ],
        [
         "River View",
         "Gothenberg",
         "Sweden",
         "656-456-7890",
         "paul@example.com"
        ],
        [
         "Cross word",
         "Berlin",
         "Germany",
         "456-123-2678",
         "raj@example.com"
        ]
       ],
       "datasetInfos": [],
       "dbfsResultPath": null,
       "isJsonSchema": true,
       "metadata": {},
       "overflow": false,
       "plotOptions": {
        "customPlotOptions": {},
        "displayType": "table",
        "pivotAggregation": null,
        "pivotColumns": null,
        "xColumns": null,
        "yColumns": null
       },
       "removedWidgets": [],
       "schema": [
        {
         "metadata": "{}",
         "name": "street",
         "type": "\"string\""
        },
        {
         "metadata": "{}",
         "name": "city",
         "type": "\"string\""
        },
        {
         "metadata": "{}",
         "name": "country",
         "type": "\"string\""
        },
        {
         "metadata": "{}",
         "name": "phone",
         "type": "\"string\""
        },
        {
         "metadata": "{}",
         "name": "email",
         "type": "\"string\""
        }
       ],
       "type": "table"
      }
     },
     "output_type": "display_data"
    }
   ],
   "source": [
    "# Expand all columns of \"address\"\n",
    "df_nested.select(\"address.*\", \"address.contact.*\").drop('contact').display()"
   ]
  },
  {
   "cell_type": "markdown",
   "metadata": {
    "application/vnd.databricks.v1+cell": {
     "cellMetadata": {
      "byteLimit": 2048000,
      "rowLimit": 10000
     },
     "inputWidgets": {},
     "nuid": "93b7a9b5-7734-436d-8312-a1eb84fb1448",
     "showTitle": false,
     "tableResultSettingsMap": {},
     "title": ""
    }
   },
   "source": [
    "#### **3) convert csv to struct**"
   ]
  },
  {
   "cell_type": "code",
   "execution_count": 0,
   "metadata": {
    "application/vnd.databricks.v1+cell": {
     "cellMetadata": {
      "byteLimit": 2048000,
      "rowLimit": 10000
     },
     "inputWidgets": {},
     "nuid": "0eb3eeeb-b677-44c7-b67a-9f6ed001f72f",
     "showTitle": false,
     "tableResultSettingsMap": {},
     "title": ""
    }
   },
   "outputs": [
    {
     "output_type": "display_data",
     "data": {
      "text/html": [
       "<style scoped>\n",
       "  .table-result-container {\n",
       "    max-height: 300px;\n",
       "    overflow: auto;\n",
       "  }\n",
       "  table, th, td {\n",
       "    border: 1px solid black;\n",
       "    border-collapse: collapse;\n",
       "  }\n",
       "  th, td {\n",
       "    padding: 5px;\n",
       "  }\n",
       "  th {\n",
       "    text-align: left;\n",
       "  }\n",
       "</style><div class='table-result-container'><table class='table-result'><thead style='background-color: white'><tr><th>Id</th><th>Nick_Name</th><th>First_Name</th><th>Last_Name</th><th>Age</th><th>Type</th><th>Description</th><th>Commodity_Index</th><th>Sensex_Category</th><th>Label_Type</th><th>Effective_Date</th><th>Start_Date</th><th>End_Date</th><th>Currency</th><th>Ticket</th><th>Name</th><th>Sex</th></tr></thead><tbody><tr><td>1</td><td>admin</td><td>John</td><td>Victor</td><td>30</td><td>Grade1</td><td>Baleno</td><td>DISCOUNT</td><td>Top</td><td>average</td><td>6-Feb-23</td><td>14-Jan-23</td><td>6-Feb-23</td><td>INR</td><td>A/5 21171</td><td>Braund, Mr. Owen Harris</td><td>male</td></tr><tr><td>2</td><td>everest</td><td>Paul</td><td>Irish</td><td>35</td><td>Grade2</td><td>Engine_Base</td><td>DISCOUNT</td><td>Top</td><td>average</td><td>6-Feb-23</td><td>14-Jan-23</td><td>6-Feb-23</td><td>INR</td><td>PC 17599</td><td>Cumings, Mrs. John Bradley (Florence Briggs Thayer)</td><td>female</td></tr><tr><td>3</td><td>moon</td><td>Erram</td><td>Rammohan</td><td>29</td><td>Enginner1</td><td>Baleno</td><td>DISCOUNT</td><td>Top</td><td>average</td><td>8-Jan-24</td><td>7-Oct-23</td><td>8-Jan-24</td><td>INR</td><td>STON/O2. 3101282</td><td>Heikkinen, Miss. Laina</td><td>female</td></tr><tr><td>4</td><td>service</td><td>Stalin</td><td>Rajesh</td><td>40</td><td>Minister</td><td>Engine_Base</td><td>DISCOUNT</td><td>Top</td><td>average</td><td>8-Jan-24</td><td>7-Oct-23</td><td>8-Jan-24</td><td>INR</td><td>113803</td><td>Futrelle, Mrs. Jacques Heath (Lily May Peel)</td><td>female</td></tr><tr><td>5</td><td>Builder</td><td>Golla</td><td>Rajasekar</td><td>43</td><td>Builder</td><td>Suzuki Swift</td><td>DISCOUNT</td><td>Top</td><td>average</td><td>6-Mar-23</td><td>7-Feb-23</td><td>6-Mar-23</td><td>INR</td><td>373450</td><td>Allen, Mr. William Henry</td><td>male</td></tr><tr><td>6</td><td>Drinker</td><td>Karjala</td><td>Hari</td><td>33</td><td>Army</td><td>Suzuki Swift</td><td>DISCOUNT</td><td>Top</td><td>average</td><td>6-Mar-23</td><td>7-Feb-23</td><td>6-Mar-23</td><td>INR</td><td>330877</td><td>Moran, Mr. James</td><td>male</td></tr><tr><td>7</td><td>Army</td><td>Koyi</td><td>Damodar</td><td>37</td><td>Bettalian</td><td>Wagon R</td><td>DISCOUNT</td><td>Top</td><td>average</td><td>6-Jan-25</td><td>9-Jan-24</td><td>6-Jan-25</td><td>INR</td><td>17463</td><td>McCarthy, Mr. Timothy J</td><td>male</td></tr><tr><td>8</td><td>Marketing</td><td>Vemparla</td><td>Harish</td><td>55</td><td>Manager</td><td>Engine_Base</td><td>DISCOUNT</td><td>Top</td><td>average</td><td>6-Jan-25</td><td>9-Jan-24</td><td>6-Jan-25</td><td>INR</td><td>349909</td><td>Palsson, Master. Gosta Leonard</td><td>male</td></tr><tr><td>9</td><td>Politician</td><td>Devineni</td><td>Umesh</td><td>58</td><td>Senior</td><td>Creta</td><td>DISCOUNT</td><td>Top</td><td>average</td><td>6-Apr-23</td><td>7-Mar-23</td><td>6-Apr-23</td><td>INR</td><td>347742</td><td>Johnson, Mrs. Oscar W (Elisabeth Vilhelmina Berg)</td><td>female</td></tr><tr><td>10</td><td>Minister</td><td>Ponguru</td><td>Narayana</td><td>56</td><td>Education</td><td>Brezza</td><td>DISCOUNT</td><td>Top</td><td>average</td><td>6-Apr-23</td><td>7-Mar-23</td><td>6-Apr-23</td><td>INR</td><td>237736</td><td>Nasser, Mrs. Nicholas (Adele Achem)</td><td>female</td></tr></tbody></table></div>"
      ]
     },
     "metadata": {
      "application/vnd.databricks.v1+output": {
       "addedWidgets": {},
       "aggData": [],
       "aggError": "",
       "aggOverflow": false,
       "aggSchema": [],
       "aggSeriesLimitReached": false,
       "aggType": "",
       "arguments": {},
       "columnCustomDisplayInfos": {},
       "data": [
        [
         1,
         "admin",
         "John",
         "Victor",
         30,
         "Grade1",
         "Baleno",
         "DISCOUNT",
         "Top",
         "average",
         "6-Feb-23",
         "14-Jan-23",
         "6-Feb-23",
         "INR",
         "A/5 21171",
         "Braund, Mr. Owen Harris",
         "male"
        ],
        [
         2,
         "everest",
         "Paul",
         "Irish",
         35,
         "Grade2",
         "Engine_Base",
         "DISCOUNT",
         "Top",
         "average",
         "6-Feb-23",
         "14-Jan-23",
         "6-Feb-23",
         "INR",
         "PC 17599",
         "Cumings, Mrs. John Bradley (Florence Briggs Thayer)",
         "female"
        ],
        [
         3,
         "moon",
         "Erram",
         "Rammohan",
         29,
         "Enginner1",
         "Baleno",
         "DISCOUNT",
         "Top",
         "average",
         "8-Jan-24",
         "7-Oct-23",
         "8-Jan-24",
         "INR",
         "STON/O2. 3101282",
         "Heikkinen, Miss. Laina",
         "female"
        ],
        [
         4,
         "service",
         "Stalin",
         "Rajesh",
         40,
         "Minister",
         "Engine_Base",
         "DISCOUNT",
         "Top",
         "average",
         "8-Jan-24",
         "7-Oct-23",
         "8-Jan-24",
         "INR",
         "113803",
         "Futrelle, Mrs. Jacques Heath (Lily May Peel)",
         "female"
        ],
        [
         5,
         "Builder",
         "Golla",
         "Rajasekar",
         43,
         "Builder",
         "Suzuki Swift",
         "DISCOUNT",
         "Top",
         "average",
         "6-Mar-23",
         "7-Feb-23",
         "6-Mar-23",
         "INR",
         "373450",
         "Allen, Mr. William Henry",
         "male"
        ],
        [
         6,
         "Drinker",
         "Karjala",
         "Hari",
         33,
         "Army",
         "Suzuki Swift",
         "DISCOUNT",
         "Top",
         "average",
         "6-Mar-23",
         "7-Feb-23",
         "6-Mar-23",
         "INR",
         "330877",
         "Moran, Mr. James",
         "male"
        ],
        [
         7,
         "Army",
         "Koyi",
         "Damodar",
         37,
         "Bettalian",
         "Wagon R",
         "DISCOUNT",
         "Top",
         "average",
         "6-Jan-25",
         "9-Jan-24",
         "6-Jan-25",
         "INR",
         "17463",
         "McCarthy, Mr. Timothy J",
         "male"
        ],
        [
         8,
         "Marketing",
         "Vemparla",
         "Harish",
         55,
         "Manager",
         "Engine_Base",
         "DISCOUNT",
         "Top",
         "average",
         "6-Jan-25",
         "9-Jan-24",
         "6-Jan-25",
         "INR",
         "349909",
         "Palsson, Master. Gosta Leonard",
         "male"
        ],
        [
         9,
         "Politician",
         "Devineni",
         "Umesh",
         58,
         "Senior",
         "Creta",
         "DISCOUNT",
         "Top",
         "average",
         "6-Apr-23",
         "7-Mar-23",
         "6-Apr-23",
         "INR",
         "347742",
         "Johnson, Mrs. Oscar W (Elisabeth Vilhelmina Berg)",
         "female"
        ],
        [
         10,
         "Minister",
         "Ponguru",
         "Narayana",
         56,
         "Education",
         "Brezza",
         "DISCOUNT",
         "Top",
         "average",
         "6-Apr-23",
         "7-Mar-23",
         "6-Apr-23",
         "INR",
         "237736",
         "Nasser, Mrs. Nicholas (Adele Achem)",
         "female"
        ]
       ],
       "datasetInfos": [],
       "dbfsResultPath": null,
       "isJsonSchema": true,
       "metadata": {},
       "overflow": false,
       "plotOptions": {
        "customPlotOptions": {},
        "displayType": "table",
        "pivotAggregation": null,
        "pivotColumns": null,
        "xColumns": null,
        "yColumns": null
       },
       "removedWidgets": [],
       "schema": [
        {
         "metadata": "{}",
         "name": "Id",
         "type": "\"integer\""
        },
        {
         "metadata": "{}",
         "name": "Nick_Name",
         "type": "\"string\""
        },
        {
         "metadata": "{}",
         "name": "First_Name",
         "type": "\"string\""
        },
        {
         "metadata": "{}",
         "name": "Last_Name",
         "type": "\"string\""
        },
        {
         "metadata": "{}",
         "name": "Age",
         "type": "\"integer\""
        },
        {
         "metadata": "{}",
         "name": "Type",
         "type": "\"string\""
        },
        {
         "metadata": "{}",
         "name": "Description",
         "type": "\"string\""
        },
        {
         "metadata": "{}",
         "name": "Commodity_Index",
         "type": "\"string\""
        },
        {
         "metadata": "{}",
         "name": "Sensex_Category",
         "type": "\"string\""
        },
        {
         "metadata": "{}",
         "name": "Label_Type",
         "type": "\"string\""
        },
        {
         "metadata": "{}",
         "name": "Effective_Date",
         "type": "\"string\""
        },
        {
         "metadata": "{}",
         "name": "Start_Date",
         "type": "\"string\""
        },
        {
         "metadata": "{}",
         "name": "End_Date",
         "type": "\"string\""
        },
        {
         "metadata": "{}",
         "name": "Currency",
         "type": "\"string\""
        },
        {
         "metadata": "{}",
         "name": "Ticket",
         "type": "\"string\""
        },
        {
         "metadata": "{}",
         "name": "Name",
         "type": "\"string\""
        },
        {
         "metadata": "{}",
         "name": "Sex",
         "type": "\"string\""
        }
       ],
       "type": "table"
      }
     },
     "output_type": "display_data"
    }
   ],
   "source": [
    "df_csv = spark.read.csv(\"dbfs:/FileStore/tables/to_json.csv\", header=True, inferSchema=True)\n",
    "display(df_csv.limit(10))"
   ]
  },
  {
   "cell_type": "code",
   "execution_count": 0,
   "metadata": {
    "application/vnd.databricks.v1+cell": {
     "cellMetadata": {
      "byteLimit": 2048000,
      "rowLimit": 10000
     },
     "inputWidgets": {},
     "nuid": "e94ab227-a5eb-4427-99c4-5dca42d99970",
     "showTitle": false,
     "tableResultSettingsMap": {},
     "title": ""
    }
   },
   "outputs": [
    {
     "output_type": "display_data",
     "data": {
      "text/html": [
       "<style scoped>\n",
       "  .table-result-container {\n",
       "    max-height: 300px;\n",
       "    overflow: auto;\n",
       "  }\n",
       "  table, th, td {\n",
       "    border: 1px solid black;\n",
       "    border-collapse: collapse;\n",
       "  }\n",
       "  th, td {\n",
       "    padding: 5px;\n",
       "  }\n",
       "  th {\n",
       "    text-align: left;\n",
       "  }\n",
       "</style><div class='table-result-container'><table class='table-result'><thead style='background-color: white'><tr><th>pp_msg</th></tr></thead><tbody><tr><td>List(1, admin, John, Victor, 30, Grade1, Baleno, DISCOUNT, Top, average, 6-Feb-23, 14-Jan-23, 6-Feb-23, INR, A/5 21171, Braund, Mr. Owen Harris, male)</td></tr><tr><td>List(7, Army, Koyi, Damodar, 37, Bettalian, Wagon R, DISCOUNT, Top, average, 6-Jan-25, 9-Jan-24, 6-Jan-25, INR, 17463, McCarthy, Mr. Timothy J, male)</td></tr><tr><td>List(2, everest, Paul, Irish, 35, Grade2, Engine_Base, DISCOUNT, Top, average, 6-Feb-23, 14-Jan-23, 6-Feb-23, INR, PC 17599, Cumings, Mrs. John Bradley (Florence Briggs Thayer), female)</td></tr><tr><td>List(5, Builder, Golla, Rajasekar, 43, Builder, Suzuki Swift, DISCOUNT, Top, average, 6-Mar-23, 7-Feb-23, 6-Mar-23, INR, 373450, Allen, Mr. William Henry, male)</td></tr><tr><td>List(3, moon, Erram, Rammohan, 29, Enginner1, Baleno, DISCOUNT, Top, average, 8-Jan-24, 7-Oct-23, 8-Jan-24, INR, STON/O2. 3101282, Heikkinen, Miss. Laina, female)</td></tr><tr><td>List(4, service, Stalin, Rajesh, 40, Minister, Engine_Base, DISCOUNT, Top, average, 8-Jan-24, 7-Oct-23, 8-Jan-24, INR, 113803, Futrelle, Mrs. Jacques Heath (Lily May Peel), female)</td></tr><tr><td>List(8, Marketing, Vemparla, Harish, 55, Manager, Engine_Base, DISCOUNT, Top, average, 6-Jan-25, 9-Jan-24, 6-Jan-25, INR, 349909, Palsson, Master. Gosta Leonard, male)</td></tr><tr><td>List(6, Drinker, Karjala, Hari, 33, Army, Suzuki Swift, DISCOUNT, Top, average, 6-Mar-23, 7-Feb-23, 6-Mar-23, INR, 330877, Moran, Mr. James, male)</td></tr><tr><td>List(9, Politician, Devineni, Umesh, 58, Senior, Creta, DISCOUNT, Top, average, 6-Apr-23, 7-Mar-23, 6-Apr-23, INR, 347742, Johnson, Mrs. Oscar W (Elisabeth Vilhelmina Berg), female)</td></tr><tr><td>List(10, Minister, Ponguru, Narayana, 56, Education, Brezza, DISCOUNT, Top, average, 6-Apr-23, 7-Mar-23, 6-Apr-23, INR, 237736, Nasser, Mrs. Nicholas (Adele Achem), female)</td></tr></tbody></table></div>"
      ]
     },
     "metadata": {
      "application/vnd.databricks.v1+output": {
       "addedWidgets": {},
       "aggData": [],
       "aggError": "",
       "aggOverflow": false,
       "aggSchema": [],
       "aggSeriesLimitReached": false,
       "aggType": "",
       "arguments": {},
       "columnCustomDisplayInfos": {},
       "data": [
        [
         [
          1,
          "admin",
          "John",
          "Victor",
          30,
          "Grade1",
          "Baleno",
          "DISCOUNT",
          "Top",
          "average",
          "6-Feb-23",
          "14-Jan-23",
          "6-Feb-23",
          "INR",
          "A/5 21171",
          "Braund, Mr. Owen Harris",
          "male"
         ]
        ],
        [
         [
          7,
          "Army",
          "Koyi",
          "Damodar",
          37,
          "Bettalian",
          "Wagon R",
          "DISCOUNT",
          "Top",
          "average",
          "6-Jan-25",
          "9-Jan-24",
          "6-Jan-25",
          "INR",
          "17463",
          "McCarthy, Mr. Timothy J",
          "male"
         ]
        ],
        [
         [
          2,
          "everest",
          "Paul",
          "Irish",
          35,
          "Grade2",
          "Engine_Base",
          "DISCOUNT",
          "Top",
          "average",
          "6-Feb-23",
          "14-Jan-23",
          "6-Feb-23",
          "INR",
          "PC 17599",
          "Cumings, Mrs. John Bradley (Florence Briggs Thayer)",
          "female"
         ]
        ],
        [
         [
          5,
          "Builder",
          "Golla",
          "Rajasekar",
          43,
          "Builder",
          "Suzuki Swift",
          "DISCOUNT",
          "Top",
          "average",
          "6-Mar-23",
          "7-Feb-23",
          "6-Mar-23",
          "INR",
          "373450",
          "Allen, Mr. William Henry",
          "male"
         ]
        ],
        [
         [
          3,
          "moon",
          "Erram",
          "Rammohan",
          29,
          "Enginner1",
          "Baleno",
          "DISCOUNT",
          "Top",
          "average",
          "8-Jan-24",
          "7-Oct-23",
          "8-Jan-24",
          "INR",
          "STON/O2. 3101282",
          "Heikkinen, Miss. Laina",
          "female"
         ]
        ],
        [
         [
          4,
          "service",
          "Stalin",
          "Rajesh",
          40,
          "Minister",
          "Engine_Base",
          "DISCOUNT",
          "Top",
          "average",
          "8-Jan-24",
          "7-Oct-23",
          "8-Jan-24",
          "INR",
          "113803",
          "Futrelle, Mrs. Jacques Heath (Lily May Peel)",
          "female"
         ]
        ],
        [
         [
          8,
          "Marketing",
          "Vemparla",
          "Harish",
          55,
          "Manager",
          "Engine_Base",
          "DISCOUNT",
          "Top",
          "average",
          "6-Jan-25",
          "9-Jan-24",
          "6-Jan-25",
          "INR",
          "349909",
          "Palsson, Master. Gosta Leonard",
          "male"
         ]
        ],
        [
         [
          6,
          "Drinker",
          "Karjala",
          "Hari",
          33,
          "Army",
          "Suzuki Swift",
          "DISCOUNT",
          "Top",
          "average",
          "6-Mar-23",
          "7-Feb-23",
          "6-Mar-23",
          "INR",
          "330877",
          "Moran, Mr. James",
          "male"
         ]
        ],
        [
         [
          9,
          "Politician",
          "Devineni",
          "Umesh",
          58,
          "Senior",
          "Creta",
          "DISCOUNT",
          "Top",
          "average",
          "6-Apr-23",
          "7-Mar-23",
          "6-Apr-23",
          "INR",
          "347742",
          "Johnson, Mrs. Oscar W (Elisabeth Vilhelmina Berg)",
          "female"
         ]
        ],
        [
         [
          10,
          "Minister",
          "Ponguru",
          "Narayana",
          56,
          "Education",
          "Brezza",
          "DISCOUNT",
          "Top",
          "average",
          "6-Apr-23",
          "7-Mar-23",
          "6-Apr-23",
          "INR",
          "237736",
          "Nasser, Mrs. Nicholas (Adele Achem)",
          "female"
         ]
        ]
       ],
       "datasetInfos": [],
       "dbfsResultPath": null,
       "isJsonSchema": true,
       "metadata": {},
       "overflow": false,
       "plotOptions": {
        "customPlotOptions": {},
        "displayType": "table",
        "pivotAggregation": null,
        "pivotColumns": null,
        "xColumns": null,
        "yColumns": null
       },
       "removedWidgets": [],
       "schema": [
        {
         "metadata": "{}",
         "name": "pp_msg",
         "type": "{\"type\":\"struct\",\"fields\":[{\"name\":\"Id\",\"type\":\"integer\",\"nullable\":true,\"metadata\":{}},{\"name\":\"Nick_Name\",\"type\":\"string\",\"nullable\":true,\"metadata\":{}},{\"name\":\"First_Name\",\"type\":\"string\",\"nullable\":true,\"metadata\":{}},{\"name\":\"Last_Name\",\"type\":\"string\",\"nullable\":true,\"metadata\":{}},{\"name\":\"Age\",\"type\":\"integer\",\"nullable\":true,\"metadata\":{}},{\"name\":\"Type\",\"type\":\"string\",\"nullable\":true,\"metadata\":{}},{\"name\":\"Description\",\"type\":\"string\",\"nullable\":true,\"metadata\":{}},{\"name\":\"Commodity_Index\",\"type\":\"string\",\"nullable\":true,\"metadata\":{}},{\"name\":\"Sensex_Category\",\"type\":\"string\",\"nullable\":true,\"metadata\":{}},{\"name\":\"Label_Type\",\"type\":\"string\",\"nullable\":true,\"metadata\":{}},{\"name\":\"Effective_Date\",\"type\":\"string\",\"nullable\":true,\"metadata\":{}},{\"name\":\"Start_Date\",\"type\":\"string\",\"nullable\":true,\"metadata\":{}},{\"name\":\"End_Date\",\"type\":\"string\",\"nullable\":true,\"metadata\":{}},{\"name\":\"Currency\",\"type\":\"string\",\"nullable\":true,\"metadata\":{}},{\"name\":\"Ticket\",\"type\":\"string\",\"nullable\":true,\"metadata\":{}},{\"name\":\"Name\",\"type\":\"string\",\"nullable\":true,\"metadata\":{}},{\"name\":\"Sex\",\"type\":\"string\",\"nullable\":true,\"metadata\":{}}]}"
        }
       ],
       "type": "table"
      }
     },
     "output_type": "display_data"
    }
   ],
   "source": [
    "# Select all columns and structure them into a single column named 'pp_msg'\n",
    "df_final = df_csv.select(f.struct('*').alias('pp_msg')).distinct()\n",
    "display(df_final.limit(10))"
   ]
  }
 ],
 "metadata": {
  "application/vnd.databricks.v1+notebook": {
   "dashboards": [],
   "environmentMetadata": null,
   "language": "python",
   "notebookMetadata": {
    "mostRecentlyExecutedCommandWithImplicitDF": {
     "commandId": 2393221865252306,
     "dataframes": [
      "_sqldf"
     ]
    },
    "pythonIndentUnit": 4
   },
   "notebookName": "60_How to access Nested StructType Columns",
   "widgets": {}
  }
 },
 "nbformat": 4,
 "nbformat_minor": 0
}
