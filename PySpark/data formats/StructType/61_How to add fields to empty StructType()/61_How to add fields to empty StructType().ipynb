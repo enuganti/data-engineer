{
 "cells": [
  {
   "cell_type": "markdown",
   "metadata": {
    "application/vnd.databricks.v1+cell": {
     "cellMetadata": {},
     "inputWidgets": {},
     "nuid": "84b4de22-6cf3-4130-b1b0-2890ffe81397",
     "showTitle": false,
     "tableResultSettingsMap": {},
     "title": ""
    }
   },
   "source": [
    "-  How to create an **empty PySpark DataFrame/RDD** manually **with or without schema** (column names) in different ways"
   ]
  },
  {
   "cell_type": "code",
   "execution_count": 0,
   "metadata": {
    "application/vnd.databricks.v1+cell": {
     "cellMetadata": {
      "byteLimit": 2048000,
      "rowLimit": 10000
     },
     "inputWidgets": {},
     "nuid": "cc493fe1-dd35-472c-b8a3-ddb4053417ba",
     "showTitle": false,
     "tableResultSettingsMap": {},
     "title": ""
    }
   },
   "outputs": [],
   "source": [
    "from pyspark.sql.types import StructType, StructField, StringType, IntegerType, ArrayType, MapType\n",
    "import pyspark.sql.functions as F"
   ]
  },
  {
   "cell_type": "markdown",
   "metadata": {
    "application/vnd.databricks.v1+cell": {
     "cellMetadata": {
      "byteLimit": 2048000,
      "rowLimit": 10000
     },
     "inputWidgets": {},
     "nuid": "20416328-e7f0-4869-9465-8004498759a1",
     "showTitle": false,
     "tableResultSettingsMap": {},
     "title": ""
    }
   },
   "source": [
    "##### 1) Create Empty DataFrame with / without Schema"
   ]
  },
  {
   "cell_type": "code",
   "execution_count": 0,
   "metadata": {
    "application/vnd.databricks.v1+cell": {
     "cellMetadata": {
      "byteLimit": 2048000,
      "rowLimit": 10000
     },
     "inputWidgets": {},
     "nuid": "294d1a78-94d7-4b4d-9ffb-02f44e52b55d",
     "showTitle": true,
     "tableResultSettingsMap": {},
     "title": "Create Empty DataFrame without Schema (no columns)"
    }
   },
   "outputs": [
    {
     "output_type": "display_data",
     "data": {
      "text/html": [
       "<style scoped>\n",
       "  .table-result-container {\n",
       "    max-height: 300px;\n",
       "    overflow: auto;\n",
       "  }\n",
       "  table, th, td {\n",
       "    border: 1px solid black;\n",
       "    border-collapse: collapse;\n",
       "  }\n",
       "  th, td {\n",
       "    padding: 5px;\n",
       "  }\n",
       "  th {\n",
       "    text-align: left;\n",
       "  }\n",
       "</style><div class='table-result-container'><table class='table-result'><thead style='background-color: white'><tr></tr></thead><tbody></tbody></table></div>"
      ]
     },
     "metadata": {
      "application/vnd.databricks.v1+output": {
       "addedWidgets": {},
       "aggData": [],
       "aggError": "",
       "aggOverflow": false,
       "aggSchema": [],
       "aggSeriesLimitReached": false,
       "aggType": "",
       "arguments": {},
       "columnCustomDisplayInfos": {},
       "data": [],
       "datasetInfos": [],
       "dbfsResultPath": null,
       "isJsonSchema": true,
       "metadata": {},
       "overflow": false,
       "plotOptions": {
        "customPlotOptions": {},
        "displayType": "table",
        "pivotAggregation": null,
        "pivotColumns": null,
        "xColumns": null,
        "yColumns": null
       },
       "removedWidgets": [],
       "schema": [],
       "type": "table"
      }
     },
     "output_type": "display_data"
    },
    {
     "output_type": "stream",
     "name": "stdout",
     "output_type": "stream",
     "text": [
      "root\n\n"
     ]
    }
   ],
   "source": [
    "# Create an empty StructType\n",
    "schema = StructType()\n",
    "\n",
    "# Create empty DatFrame with no schema (no columns)\n",
    "df_empty = spark.createDataFrame([], schema=schema)\n",
    "display(df_empty)\n",
    "df_empty.printSchema()"
   ]
  },
  {
   "cell_type": "markdown",
   "metadata": {
    "application/vnd.databricks.v1+cell": {
     "cellMetadata": {
      "byteLimit": 2048000,
      "rowLimit": 10000
     },
     "inputWidgets": {},
     "nuid": "38e7405c-8825-411d-a3bb-295f562606db",
     "showTitle": false,
     "tableResultSettingsMap": {},
     "title": ""
    }
   },
   "source": [
    "**Method 01:** Add fields using .add() method\n",
    "     \n",
    "     # Create an empty StructType\n",
    "     schema = StructType()\n",
    "\n",
    "     # Add fields to the schema\n",
    "     schemalist = schema.add(\"name\", StringType(), True)\n",
    "     schemalist = schema.add(\"age\", IntegerType(), True)\n",
    "\n",
    "     print(schema)\n",
    "\n",
    "**Method 02:** Add multiple fields at once by chaining .add()\n",
    "\n",
    "     schema = StructType().add(\"id\", IntegerType()).add(\"email\", StringType())\n",
    "     print(schema)\n",
    "\n",
    "**Method 03:** Create StructFields separately and build StructType\n",
    "\n",
    "     fields = [\n",
    "         StructField(\"username\", StringType(), True),\n",
    "         StructField(\"score\", IntegerType(), False)\n",
    "     ]\n",
    "\n",
    "     schema = StructType(fields)\n",
    "     print(schema)\n"
   ]
  },
  {
   "cell_type": "code",
   "execution_count": 0,
   "metadata": {
    "application/vnd.databricks.v1+cell": {
     "cellMetadata": {
      "byteLimit": 2048000,
      "rowLimit": 10000
     },
     "inputWidgets": {},
     "nuid": "f8c093a4-4893-4d8b-b90b-30dee647e282",
     "showTitle": false,
     "tableResultSettingsMap": {},
     "title": ""
    }
   },
   "outputs": [
    {
     "output_type": "stream",
     "name": "stdout",
     "output_type": "stream",
     "text": [
      "StructType([StructField('name', StringType(), True), StructField('age', IntegerType(), True)])\n"
     ]
    }
   ],
   "source": [
    "# Create an empty StructType\n",
    "schema = StructType()\n",
    "\n",
    "# Add fields to the schema\n",
    "schemaList = schema.add(\"name\", StringType(), True)\n",
    "schemaList = schema.add(\"age\", IntegerType(), True)\n",
    "\n",
    "print(schema)"
   ]
  },
  {
   "cell_type": "markdown",
   "metadata": {
    "application/vnd.databricks.v1+cell": {
     "cellMetadata": {
      "byteLimit": 2048000,
      "rowLimit": 10000
     },
     "inputWidgets": {},
     "nuid": "051dda98-63b7-454e-af03-d9ba6a89e4e3",
     "showTitle": false,
     "tableResultSettingsMap": {},
     "title": ""
    }
   },
   "source": [
    "**Output:**\n",
    "\n",
    "     StructType([\n",
    "         StructField('name', StringType(), True),\n",
    "         StructField('age', IntegerType(), True)\n",
    "     ])\n"
   ]
  },
  {
   "cell_type": "code",
   "execution_count": 0,
   "metadata": {
    "application/vnd.databricks.v1+cell": {
     "cellMetadata": {
      "byteLimit": 2048000,
      "rowLimit": 10000
     },
     "inputWidgets": {},
     "nuid": "6246ca7e-3bb3-42df-9f03-555c2edf1814",
     "showTitle": true,
     "tableResultSettingsMap": {},
     "title": "Create a DataFrame using this schema"
    }
   },
   "outputs": [
    {
     "output_type": "display_data",
     "data": {
      "text/html": [
       "<style scoped>\n",
       "  .table-result-container {\n",
       "    max-height: 300px;\n",
       "    overflow: auto;\n",
       "  }\n",
       "  table, th, td {\n",
       "    border: 1px solid black;\n",
       "    border-collapse: collapse;\n",
       "  }\n",
       "  th, td {\n",
       "    padding: 5px;\n",
       "  }\n",
       "  th {\n",
       "    text-align: left;\n",
       "  }\n",
       "</style><div class='table-result-container'><table class='table-result'><thead style='background-color: white'><tr><th>name</th><th>age</th></tr></thead><tbody></tbody></table></div>"
      ]
     },
     "metadata": {
      "application/vnd.databricks.v1+output": {
       "addedWidgets": {},
       "aggData": [],
       "aggError": "",
       "aggOverflow": false,
       "aggSchema": [],
       "aggSeriesLimitReached": false,
       "aggType": "",
       "arguments": {},
       "columnCustomDisplayInfos": {},
       "data": [],
       "datasetInfos": [],
       "dbfsResultPath": null,
       "isJsonSchema": true,
       "metadata": {},
       "overflow": false,
       "plotOptions": {
        "customPlotOptions": {},
        "displayType": "table",
        "pivotAggregation": null,
        "pivotColumns": null,
        "xColumns": null,
        "yColumns": null
       },
       "removedWidgets": [],
       "schema": [
        {
         "metadata": "{}",
         "name": "name",
         "type": "\"string\""
        },
        {
         "metadata": "{}",
         "name": "age",
         "type": "\"integer\""
        }
       ],
       "type": "table"
      }
     },
     "output_type": "display_data"
    },
    {
     "output_type": "stream",
     "name": "stdout",
     "output_type": "stream",
     "text": [
      "root\n |-- name: string (nullable = true)\n |-- age: integer (nullable = true)\n\n"
     ]
    }
   ],
   "source": [
    "df_empty_data = spark.createDataFrame([], schema=schemaList)\n",
    "display(df_empty_data)\n",
    "df_empty_data.printSchema()"
   ]
  },
  {
   "cell_type": "markdown",
   "metadata": {
    "application/vnd.databricks.v1+cell": {
     "cellMetadata": {
      "byteLimit": 2048000,
      "rowLimit": 10000
     },
     "inputWidgets": {},
     "nuid": "1fe7da47-7cd4-48ef-8a03-eaeba403e6b9",
     "showTitle": false,
     "tableResultSettingsMap": {},
     "title": ""
    }
   },
   "source": [
    "##### 2) Add fields one by one using .add()"
   ]
  },
  {
   "cell_type": "code",
   "execution_count": 0,
   "metadata": {
    "application/vnd.databricks.v1+cell": {
     "cellMetadata": {
      "byteLimit": 2048000,
      "rowLimit": 10000
     },
     "inputWidgets": {},
     "nuid": "de84ef76-153d-45cb-8adf-a93bc0d36a0e",
     "showTitle": false,
     "tableResultSettingsMap": {},
     "title": ""
    }
   },
   "outputs": [
    {
     "output_type": "display_data",
     "data": {
      "text/html": [
       "<style scoped>\n",
       "  .table-result-container {\n",
       "    max-height: 300px;\n",
       "    overflow: auto;\n",
       "  }\n",
       "  table, th, td {\n",
       "    border: 1px solid black;\n",
       "    border-collapse: collapse;\n",
       "  }\n",
       "  th, td {\n",
       "    padding: 5px;\n",
       "  }\n",
       "  th {\n",
       "    text-align: left;\n",
       "  }\n",
       "</style><div class='table-result-container'><table class='table-result'><thead style='background-color: white'><tr><th>name</th><th>age</th></tr></thead><tbody><tr><td>Harish</td><td>30</td></tr><tr><td>Ramesh</td><td>25</td></tr><tr><td>Swapna</td><td>29</td></tr><tr><td>Swetha</td><td>35</td></tr><tr><td>Anand</td><td>26</td></tr></tbody></table></div>"
      ]
     },
     "metadata": {
      "application/vnd.databricks.v1+output": {
       "addedWidgets": {},
       "aggData": [],
       "aggError": "",
       "aggOverflow": false,
       "aggSchema": [],
       "aggSeriesLimitReached": false,
       "aggType": "",
       "arguments": {},
       "columnCustomDisplayInfos": {},
       "data": [
        [
         "Harish",
         30
        ],
        [
         "Ramesh",
         25
        ],
        [
         "Swapna",
         29
        ],
        [
         "Swetha",
         35
        ],
        [
         "Anand",
         26
        ]
       ],
       "datasetInfos": [],
       "dbfsResultPath": null,
       "isJsonSchema": true,
       "metadata": {},
       "overflow": false,
       "plotOptions": {
        "customPlotOptions": {},
        "displayType": "table",
        "pivotAggregation": null,
        "pivotColumns": null,
        "xColumns": null,
        "yColumns": null
       },
       "removedWidgets": [],
       "schema": [
        {
         "metadata": "{}",
         "name": "name",
         "type": "\"string\""
        },
        {
         "metadata": "{}",
         "name": "age",
         "type": "\"integer\""
        }
       ],
       "type": "table"
      }
     },
     "output_type": "display_data"
    }
   ],
   "source": [
    "# Create an empty StructType\n",
    "schema = StructType()\n",
    "\n",
    "# Add fields to the schema\n",
    "schemaList = schema.add(\"name\", StringType(), True)\n",
    "schemaList = schema.add(\"age\", IntegerType(), True)\n",
    "\n",
    "# Use it in DataFrame creation\n",
    "data = [(\"Harish\", 30), (\"Ramesh\", 25), (\"Swapna\", 29), (\"Swetha\", 35), (\"Anand\", 26)]\n",
    "df_add = spark.createDataFrame(data, schema=schemaList)\n",
    "display(df_add)"
   ]
  },
  {
   "cell_type": "markdown",
   "metadata": {
    "application/vnd.databricks.v1+cell": {
     "cellMetadata": {
      "byteLimit": 2048000,
      "rowLimit": 10000
     },
     "inputWidgets": {},
     "nuid": "90366be5-8167-4ea1-92a6-d8b23abf1479",
     "showTitle": false,
     "tableResultSettingsMap": {},
     "title": ""
    }
   },
   "source": [
    "##### 3) Add multiple fields using a list of StructFields"
   ]
  },
  {
   "cell_type": "code",
   "execution_count": 0,
   "metadata": {
    "application/vnd.databricks.v1+cell": {
     "cellMetadata": {
      "byteLimit": 2048000,
      "rowLimit": 10000
     },
     "inputWidgets": {},
     "nuid": "61f70217-f0c1-448c-9194-6336e27ac34a",
     "showTitle": false,
     "tableResultSettingsMap": {},
     "title": ""
    }
   },
   "outputs": [
    {
     "output_type": "display_data",
     "data": {
      "text/html": [
       "<style scoped>\n",
       "  .table-result-container {\n",
       "    max-height: 300px;\n",
       "    overflow: auto;\n",
       "  }\n",
       "  table, th, td {\n",
       "    border: 1px solid black;\n",
       "    border-collapse: collapse;\n",
       "  }\n",
       "  th, td {\n",
       "    padding: 5px;\n",
       "  }\n",
       "  th {\n",
       "    text-align: left;\n",
       "  }\n",
       "</style><div class='table-result-container'><table class='table-result'><thead style='background-color: white'><tr><th>name</th><th>age</th></tr></thead><tbody><tr><td>Harish</td><td>30</td></tr><tr><td>Ramesh</td><td>25</td></tr><tr><td>Swapna</td><td>29</td></tr><tr><td>Swetha</td><td>35</td></tr><tr><td>Anand</td><td>26</td></tr></tbody></table></div>"
      ]
     },
     "metadata": {
      "application/vnd.databricks.v1+output": {
       "addedWidgets": {},
       "aggData": [],
       "aggError": "",
       "aggOverflow": false,
       "aggSchema": [],
       "aggSeriesLimitReached": false,
       "aggType": "",
       "arguments": {},
       "columnCustomDisplayInfos": {},
       "data": [
        [
         "Harish",
         30
        ],
        [
         "Ramesh",
         25
        ],
        [
         "Swapna",
         29
        ],
        [
         "Swetha",
         35
        ],
        [
         "Anand",
         26
        ]
       ],
       "datasetInfos": [],
       "dbfsResultPath": null,
       "isJsonSchema": true,
       "metadata": {},
       "overflow": false,
       "plotOptions": {
        "customPlotOptions": {},
        "displayType": "table",
        "pivotAggregation": null,
        "pivotColumns": null,
        "xColumns": null,
        "yColumns": null
       },
       "removedWidgets": [],
       "schema": [
        {
         "metadata": "{}",
         "name": "name",
         "type": "\"string\""
        },
        {
         "metadata": "{}",
         "name": "age",
         "type": "\"integer\""
        }
       ],
       "type": "table"
      }
     },
     "output_type": "display_data"
    },
    {
     "output_type": "stream",
     "name": "stdout",
     "output_type": "stream",
     "text": [
      "root\n |-- name: string (nullable = true)\n |-- age: integer (nullable = true)\n\n"
     ]
    }
   ],
   "source": [
    "fields = [\n",
    "    StructField(\"name\", StringType(), True),\n",
    "    StructField(\"age\", IntegerType(), True)\n",
    "]\n",
    "\n",
    "schemaList = StructType(fields)\n",
    "\n",
    "# Example usage\n",
    "data = [(\"Harish\", 30), (\"Ramesh\", 25), (\"Swapna\", 29), (\"Swetha\", 35), (\"Anand\", 26)]\n",
    "\n",
    "df_add_mltpl = spark.createDataFrame(data, schema=schemaList)\n",
    "display(df_add_mltpl)\n",
    "df_add_mltpl.printSchema()"
   ]
  },
  {
   "cell_type": "markdown",
   "metadata": {
    "application/vnd.databricks.v1+cell": {
     "cellMetadata": {
      "byteLimit": 2048000,
      "rowLimit": 10000
     },
     "inputWidgets": {},
     "nuid": "db7aa3c2-0962-4ece-a9ee-6e3bae32d295",
     "showTitle": false,
     "tableResultSettingsMap": {},
     "title": ""
    }
   },
   "source": [
    "##### 4) Add nested structures"
   ]
  },
  {
   "cell_type": "code",
   "execution_count": 0,
   "metadata": {
    "application/vnd.databricks.v1+cell": {
     "cellMetadata": {
      "byteLimit": 2048000,
      "rowLimit": 10000
     },
     "inputWidgets": {},
     "nuid": "eb9cf845-79de-4c44-9d76-fe66ef1ad9e8",
     "showTitle": false,
     "tableResultSettingsMap": {},
     "title": ""
    }
   },
   "outputs": [
    {
     "output_type": "display_data",
     "data": {
      "text/html": [
       "<style scoped>\n",
       "  .table-result-container {\n",
       "    max-height: 300px;\n",
       "    overflow: auto;\n",
       "  }\n",
       "  table, th, td {\n",
       "    border: 1px solid black;\n",
       "    border-collapse: collapse;\n",
       "  }\n",
       "  th, td {\n",
       "    padding: 5px;\n",
       "  }\n",
       "  th {\n",
       "    text-align: left;\n",
       "  }\n",
       "</style><div class='table-result-container'><table class='table-result'><thead style='background-color: white'><tr><th>name</th><th>age</th><th>languagesAtSchool</th><th>languagesAtWork</th><th>Properties</th><th>address</th></tr></thead><tbody><tr><td>Harish</td><td>30</td><td>List(Spark, Java, C++)</td><td>Map(Designation -> DE, Domain -> Gas, Branch -> IT)</td><td>Map(Exp -> 5, Age -> 25, emp_id -> 768954)</td><td>List(27th Main, Bangalore, 5132109)</td></tr><tr><td>Ramesh</td><td>25</td><td>List(Java, Scala, C++)</td><td>Map(Designation -> DE, Domain -> DS, Branch -> CSC)</td><td>Map(Exp -> 2, Age -> 30, emp_id -> 768956)</td><td>List(3rd cross, Hyderabad, 5674321)</td></tr><tr><td>Swapna</td><td>29</td><td>List(Devops, VB)</td><td>Map(Designation -> DE, Domain -> Trade, Branch -> EEE)</td><td>Map(Exp -> 8, Age -> 28, emp_id -> 798954)</td><td>List(4th cross, Chennai, 49087654)</td></tr><tr><td>Swetha</td><td>35</td><td>List(CSharp, VB, Python)</td><td>Map(Designation -> DE, Domain -> Sales, Branch -> AI)</td><td>Map(Exp -> 6, Age -> 35, emp_id -> 788956)</td><td>List(4th Avenue, Delhi, 4532167)</td></tr><tr><td>Anand</td><td>26</td><td>List(PySpark, SQL)</td><td>Map(Designation -> DE, Domain -> TELE, Branch -> ECE)</td><td>Map(Exp -> 9, Age -> 21, emp_id -> 769954)</td><td>List(5th Avenue, Mumbai, 5760981)</td></tr></tbody></table></div>"
      ]
     },
     "metadata": {
      "application/vnd.databricks.v1+output": {
       "addedWidgets": {},
       "aggData": [],
       "aggError": "",
       "aggOverflow": false,
       "aggSchema": [],
       "aggSeriesLimitReached": false,
       "aggType": "",
       "arguments": {},
       "columnCustomDisplayInfos": {},
       "data": [
        [
         "Harish",
         30,
         [
          "Spark",
          "Java",
          "C++"
         ],
         {
          "Branch": "IT",
          "Designation": "DE",
          "Domain": "Gas"
         },
         {
          "Age": 25,
          "Exp": 5,
          "emp_id": 768954
         },
         [
          "27th Main",
          "Bangalore",
          5132109
         ]
        ],
        [
         "Ramesh",
         25,
         [
          "Java",
          "Scala",
          "C++"
         ],
         {
          "Branch": "CSC",
          "Designation": "DE",
          "Domain": "DS"
         },
         {
          "Age": 30,
          "Exp": 2,
          "emp_id": 768956
         },
         [
          "3rd cross",
          "Hyderabad",
          5674321
         ]
        ],
        [
         "Swapna",
         29,
         [
          "Devops",
          "VB"
         ],
         {
          "Branch": "EEE",
          "Designation": "DE",
          "Domain": "Trade"
         },
         {
          "Age": 28,
          "Exp": 8,
          "emp_id": 798954
         },
         [
          "4th cross",
          "Chennai",
          49087654
         ]
        ],
        [
         "Swetha",
         35,
         [
          "CSharp",
          "VB",
          "Python"
         ],
         {
          "Branch": "AI",
          "Designation": "DE",
          "Domain": "Sales"
         },
         {
          "Age": 35,
          "Exp": 6,
          "emp_id": 788956
         },
         [
          "4th Avenue",
          "Delhi",
          4532167
         ]
        ],
        [
         "Anand",
         26,
         [
          "PySpark",
          "SQL"
         ],
         {
          "Branch": "ECE",
          "Designation": "DE",
          "Domain": "TELE"
         },
         {
          "Age": 21,
          "Exp": 9,
          "emp_id": 769954
         },
         [
          "5th Avenue",
          "Mumbai",
          5760981
         ]
        ]
       ],
       "datasetInfos": [],
       "dbfsResultPath": null,
       "isJsonSchema": true,
       "metadata": {},
       "overflow": false,
       "plotOptions": {
        "customPlotOptions": {},
        "displayType": "table",
        "pivotAggregation": null,
        "pivotColumns": null,
        "xColumns": null,
        "yColumns": null
       },
       "removedWidgets": [],
       "schema": [
        {
         "metadata": "{}",
         "name": "name",
         "type": "\"string\""
        },
        {
         "metadata": "{}",
         "name": "age",
         "type": "\"integer\""
        },
        {
         "metadata": "{}",
         "name": "languagesAtSchool",
         "type": "{\"type\":\"array\",\"elementType\":\"string\",\"containsNull\":true}"
        },
        {
         "metadata": "{}",
         "name": "languagesAtWork",
         "type": "{\"type\":\"map\",\"keyType\":\"string\",\"valueType\":\"string\",\"valueContainsNull\":true}"
        },
        {
         "metadata": "{}",
         "name": "Properties",
         "type": "{\"type\":\"map\",\"keyType\":\"string\",\"valueType\":\"integer\",\"valueContainsNull\":true}"
        },
        {
         "metadata": "{}",
         "name": "address",
         "type": "{\"type\":\"struct\",\"fields\":[{\"name\":\"street\",\"type\":\"string\",\"nullable\":true,\"metadata\":{}},{\"name\":\"city\",\"type\":\"string\",\"nullable\":true,\"metadata\":{}},{\"name\":\"pincode\",\"type\":\"integer\",\"nullable\":true,\"metadata\":{}}]}"
        }
       ],
       "type": "table"
      }
     },
     "output_type": "display_data"
    }
   ],
   "source": [
    "address_schema = StructType([\n",
    "    StructField(\"street\", StringType(), True),\n",
    "    StructField(\"city\", StringType(), True),\n",
    "    StructField(\"pincode\", IntegerType(), True)\n",
    "])\n",
    "\n",
    "# Create an empty StructType\n",
    "schema = StructType()\n",
    "\n",
    "# Add fields to the schema\n",
    "schemaList = schema.add(\"name\", StringType(), True)\n",
    "schemaList = schema.add(\"age\", IntegerType(), True)\n",
    "schemaList = schema.add(\"languagesAtSchool\", ArrayType(StringType()))\n",
    "schemaList = schema.add(\"languagesAtWork\", MapType(StringType(), StringType(), True))\n",
    "schemaList = schema.add(\"Properties\", MapType(StringType(), IntegerType(), True))\n",
    "# Add nested structure\n",
    "schemaList_nested = schemaList.add(\"address\", address_schema, True)\n",
    "\n",
    "# Example usage\n",
    "data = [(\"Harish\", 30, [\"Spark\", \"Java\", \"C++\"], {\"Domain\": \"Gas\", \"Branch\": \"IT\", \"Designation\": \"DE\"}, {\"Age\": 25, \"emp_id\": 768954, \"Exp\": 5}, (\"27th Main\", \"Bangalore\", 5132109)),\n",
    "        (\"Ramesh\", 25, [\"Java\", \"Scala\", \"C++\"], {\"Domain\": \"DS\", \"Branch\": \"CSC\", \"Designation\": \"DE\"}, {\"Age\": 30, \"emp_id\": 768956, \"Exp\": 2}, (\"3rd cross\", \"Hyderabad\", 5674321)),\n",
    "        (\"Swapna\", 29, [\"Devops\", \"VB\"], {\"Domain\": \"Trade\", \"Branch\": \"EEE\", \"Designation\": \"DE\"}, {\"Age\": 28, \"emp_id\": 798954, \"Exp\": 8}, (\"4th cross\", \"Chennai\", 49087654)),\n",
    "        (\"Swetha\", 35, [\"CSharp\", \"VB\", \"Python\"], {\"Domain\": \"Sales\", \"Branch\": \"AI\", \"Designation\": \"DE\"}, {\"Age\": 35, \"emp_id\": 788956, \"Exp\": 6}, (\"4th Avenue\", \"Delhi\", 4532167)),\n",
    "        (\"Anand\", 26, [\"PySpark\", \"SQL\"], {\"Domain\": \"TELE\", \"Branch\": \"ECE\", \"Designation\": \"DE\"}, {\"Age\": 21, \"emp_id\": 769954, \"Exp\": 9}, (\"5th Avenue\", \"Mumbai\", 5760981))\n",
    "        ]\n",
    "df_nested = spark.createDataFrame(data, schema=schemaList_nested)\n",
    "display(df_nested)"
   ]
  }
 ],
 "metadata": {
  "application/vnd.databricks.v1+notebook": {
   "computePreferences": null,
   "dashboards": [],
   "environmentMetadata": {
    "base_environment": "",
    "environment_version": "1"
   },
   "inputWidgetPreferences": null,
   "language": "python",
   "notebookMetadata": {
    "pythonIndentUnit": 4
   },
   "notebookName": "61_How to add fields to empty StructType()",
   "widgets": {}
  }
 },
 "nbformat": 4,
 "nbformat_minor": 0
}