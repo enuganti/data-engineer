{
 "cells": [
  {
   "cell_type": "markdown",
   "metadata": {
    "application/vnd.databricks.v1+cell": {
     "cellMetadata": {},
     "inputWidgets": {},
     "nuid": "a0337f24-600e-4805-85b0-5d0e1fb9ce47",
     "showTitle": false,
     "tableResultSettingsMap": {},
     "title": ""
    }
   },
   "source": [
    "**DATE_FORMAT()**\n",
    "\n",
    "- This function allows you to **convert date and timestamp** columns into a specified **string** format.\n",
    "\n",
    "- In order to use DATE_FORMAT() function, your column should be either in **'date' format or 'timestamp' format**.\n",
    "\n",
    "-  Format a date column into a specific pattern you need, like changing **2024-09-05** into **05-Sep-2024** or any format you prefer. "
   ]
  },
  {
   "cell_type": "code",
   "execution_count": 0,
   "metadata": {
    "application/vnd.databricks.v1+cell": {
     "cellMetadata": {
      "byteLimit": 2048000,
      "rowLimit": 10000
     },
     "collapsed": true,
     "inputWidgets": {},
     "nuid": "0a485f41-05a4-41b7-9308-44828cab666f",
     "showTitle": false,
     "tableResultSettingsMap": {},
     "title": ""
    }
   },
   "outputs": [
    {
     "output_type": "display_data",
     "data": {
      "text/html": [
       "<style scoped>\n",
       "  .table-result-container {\n",
       "    max-height: 300px;\n",
       "    overflow: auto;\n",
       "  }\n",
       "  table, th, td {\n",
       "    border: 1px solid black;\n",
       "    border-collapse: collapse;\n",
       "  }\n",
       "  th, td {\n",
       "    padding: 5px;\n",
       "  }\n",
       "  th {\n",
       "    text-align: left;\n",
       "  }\n",
       "</style><div class='table-result-container'><table class='table-result'><thead style='background-color: white'><tr><th>path</th><th>name</th><th>size</th><th>modificationTime</th></tr></thead><tbody><tr><td>dbfs:/FileStore/tables/Flatten Nested Array.json</td><td>Flatten Nested Array.json</td><td>3756</td><td>1718618620000</td></tr><tr><td>dbfs:/FileStore/tables/MarketPrice-1.csv</td><td>MarketPrice-1.csv</td><td>19528</td><td>1719656512000</td></tr><tr><td>dbfs:/FileStore/tables/MarketPrice.csv</td><td>MarketPrice.csv</td><td>19528</td><td>1719656208000</td></tr><tr><td>dbfs:/FileStore/tables/Question7.csv</td><td>Question7.csv</td><td>154</td><td>1725816645000</td></tr><tr><td>dbfs:/FileStore/tables/RunningData_Rev02.csv</td><td>RunningData_Rev02.csv</td><td>1222</td><td>1719810609000</td></tr><tr><td>dbfs:/FileStore/tables/RunningData_Rev03.csv</td><td>RunningData_Rev03.csv</td><td>1216</td><td>1719810946000</td></tr><tr><td>dbfs:/FileStore/tables/SalesData_Rev02.csv</td><td>SalesData_Rev02.csv</td><td>472</td><td>1719810784000</td></tr><tr><td>dbfs:/FileStore/tables/SalesData_Rev03.csv</td><td>SalesData_Rev03.csv</td><td>460</td><td>1719810973000</td></tr><tr><td>dbfs:/FileStore/tables/Sales_Collect.csv</td><td>Sales_Collect.csv</td><td>182972</td><td>1720293547000</td></tr><tr><td>dbfs:/FileStore/tables/Sales_Collect_Rev02.csv</td><td>Sales_Collect_Rev02.csv</td><td>166107</td><td>1719810826000</td></tr><tr><td>dbfs:/FileStore/tables/Sales_Collect_Rev03.csv</td><td>Sales_Collect_Rev03.csv</td><td>182828</td><td>1719811001000</td></tr><tr><td>dbfs:/FileStore/tables/StructType-1.csv</td><td>StructType-1.csv</td><td>648</td><td>1717934508000</td></tr><tr><td>dbfs:/FileStore/tables/StructType-2.csv</td><td>StructType-2.csv</td><td>648</td><td>1717935891000</td></tr><tr><td>dbfs:/FileStore/tables/StructType-3.csv</td><td>StructType-3.csv</td><td>648</td><td>1717936009000</td></tr><tr><td>dbfs:/FileStore/tables/StructType-4.csv</td><td>StructType-4.csv</td><td>648</td><td>1717936144000</td></tr><tr><td>dbfs:/FileStore/tables/StructType-5.csv</td><td>StructType-5.csv</td><td>648</td><td>1717936276000</td></tr><tr><td>dbfs:/FileStore/tables/StructType.csv</td><td>StructType.csv</td><td>648</td><td>1717934306000</td></tr><tr><td>dbfs:/FileStore/tables/cast_data.txt</td><td>cast_data.txt</td><td>219</td><td>1720376019000</td></tr><tr><td>dbfs:/FileStore/tables/date_format-1.csv</td><td>date_format-1.csv</td><td>1656</td><td>1725709118000</td></tr><tr><td>dbfs:/FileStore/tables/date_format-2.csv</td><td>date_format-2.csv</td><td>1923</td><td>1725709313000</td></tr><tr><td>dbfs:/FileStore/tables/date_format.csv</td><td>date_format.csv</td><td>1119</td><td>1725645247000</td></tr><tr><td>dbfs:/FileStore/tables/iterate_columns.csv</td><td>iterate_columns.csv</td><td>2023849</td><td>1719767610000</td></tr><tr><td>dbfs:/FileStore/tables/multiline.txt</td><td>multiline.txt</td><td>178</td><td>1721655243000</td></tr><tr><td>dbfs:/FileStore/tables/person-1.json</td><td>person-1.json</td><td>4608</td><td>1718609578000</td></tr><tr><td>dbfs:/FileStore/tables/person-2.json</td><td>person-2.json</td><td>4616</td><td>1718610165000</td></tr><tr><td>dbfs:/FileStore/tables/person.json</td><td>person.json</td><td>4616</td><td>1718609425000</td></tr><tr><td>dbfs:/FileStore/tables/posexplode.txt</td><td>posexplode.txt</td><td>264</td><td>1718525465000</td></tr><tr><td>dbfs:/FileStore/tables/split.txt</td><td>split.txt</td><td>390</td><td>1721625608000</td></tr><tr><td>dbfs:/FileStore/tables/titanic.csv</td><td>titanic.csv</td><td>60302</td><td>1717853233000</td></tr></tbody></table></div>"
      ]
     },
     "metadata": {
      "application/vnd.databricks.v1+output": {
       "addedWidgets": {},
       "aggData": [],
       "aggError": "",
       "aggOverflow": false,
       "aggSchema": [],
       "aggSeriesLimitReached": false,
       "aggType": "",
       "arguments": {},
       "columnCustomDisplayInfos": {},
       "data": [
        [
         "dbfs:/FileStore/tables/Flatten Nested Array.json",
         "Flatten Nested Array.json",
         3756,
         1718618620000
        ],
        [
         "dbfs:/FileStore/tables/MarketPrice-1.csv",
         "MarketPrice-1.csv",
         19528,
         1719656512000
        ],
        [
         "dbfs:/FileStore/tables/MarketPrice.csv",
         "MarketPrice.csv",
         19528,
         1719656208000
        ],
        [
         "dbfs:/FileStore/tables/Question7.csv",
         "Question7.csv",
         154,
         1725816645000
        ],
        [
         "dbfs:/FileStore/tables/RunningData_Rev02.csv",
         "RunningData_Rev02.csv",
         1222,
         1719810609000
        ],
        [
         "dbfs:/FileStore/tables/RunningData_Rev03.csv",
         "RunningData_Rev03.csv",
         1216,
         1719810946000
        ],
        [
         "dbfs:/FileStore/tables/SalesData_Rev02.csv",
         "SalesData_Rev02.csv",
         472,
         1719810784000
        ],
        [
         "dbfs:/FileStore/tables/SalesData_Rev03.csv",
         "SalesData_Rev03.csv",
         460,
         1719810973000
        ],
        [
         "dbfs:/FileStore/tables/Sales_Collect.csv",
         "Sales_Collect.csv",
         182972,
         1720293547000
        ],
        [
         "dbfs:/FileStore/tables/Sales_Collect_Rev02.csv",
         "Sales_Collect_Rev02.csv",
         166107,
         1719810826000
        ],
        [
         "dbfs:/FileStore/tables/Sales_Collect_Rev03.csv",
         "Sales_Collect_Rev03.csv",
         182828,
         1719811001000
        ],
        [
         "dbfs:/FileStore/tables/StructType-1.csv",
         "StructType-1.csv",
         648,
         1717934508000
        ],
        [
         "dbfs:/FileStore/tables/StructType-2.csv",
         "StructType-2.csv",
         648,
         1717935891000
        ],
        [
         "dbfs:/FileStore/tables/StructType-3.csv",
         "StructType-3.csv",
         648,
         1717936009000
        ],
        [
         "dbfs:/FileStore/tables/StructType-4.csv",
         "StructType-4.csv",
         648,
         1717936144000
        ],
        [
         "dbfs:/FileStore/tables/StructType-5.csv",
         "StructType-5.csv",
         648,
         1717936276000
        ],
        [
         "dbfs:/FileStore/tables/StructType.csv",
         "StructType.csv",
         648,
         1717934306000
        ],
        [
         "dbfs:/FileStore/tables/cast_data.txt",
         "cast_data.txt",
         219,
         1720376019000
        ],
        [
         "dbfs:/FileStore/tables/date_format-1.csv",
         "date_format-1.csv",
         1656,
         1725709118000
        ],
        [
         "dbfs:/FileStore/tables/date_format-2.csv",
         "date_format-2.csv",
         1923,
         1725709313000
        ],
        [
         "dbfs:/FileStore/tables/date_format.csv",
         "date_format.csv",
         1119,
         1725645247000
        ],
        [
         "dbfs:/FileStore/tables/iterate_columns.csv",
         "iterate_columns.csv",
         2023849,
         1719767610000
        ],
        [
         "dbfs:/FileStore/tables/multiline.txt",
         "multiline.txt",
         178,
         1721655243000
        ],
        [
         "dbfs:/FileStore/tables/person-1.json",
         "person-1.json",
         4608,
         1718609578000
        ],
        [
         "dbfs:/FileStore/tables/person-2.json",
         "person-2.json",
         4616,
         1718610165000
        ],
        [
         "dbfs:/FileStore/tables/person.json",
         "person.json",
         4616,
         1718609425000
        ],
        [
         "dbfs:/FileStore/tables/posexplode.txt",
         "posexplode.txt",
         264,
         1718525465000
        ],
        [
         "dbfs:/FileStore/tables/split.txt",
         "split.txt",
         390,
         1721625608000
        ],
        [
         "dbfs:/FileStore/tables/titanic.csv",
         "titanic.csv",
         60302,
         1717853233000
        ]
       ],
       "datasetInfos": [],
       "dbfsResultPath": null,
       "isJsonSchema": true,
       "metadata": {
        "isDbfsCommandResult": false
       },
       "overflow": false,
       "plotOptions": {
        "customPlotOptions": {},
        "displayType": "table",
        "pivotAggregation": null,
        "pivotColumns": null,
        "xColumns": null,
        "yColumns": null
       },
       "removedWidgets": [],
       "schema": [
        {
         "metadata": "{}",
         "name": "path",
         "type": "\"string\""
        },
        {
         "metadata": "{}",
         "name": "name",
         "type": "\"string\""
        },
        {
         "metadata": "{}",
         "name": "size",
         "type": "\"long\""
        },
        {
         "metadata": "{}",
         "name": "modificationTime",
         "type": "\"long\""
        }
       ],
       "type": "table"
      }
     },
     "output_type": "display_data"
    }
   ],
   "source": [
    "%fs ls dbfs:/FileStore/tables/"
   ]
  },
  {
   "cell_type": "code",
   "execution_count": 0,
   "metadata": {
    "application/vnd.databricks.v1+cell": {
     "cellMetadata": {
      "byteLimit": 2048000,
      "rowLimit": 10000
     },
     "inputWidgets": {},
     "nuid": "807b4467-e233-4769-b136-cb9c683a4a04",
     "showTitle": false,
     "tableResultSettingsMap": {},
     "title": ""
    }
   },
   "outputs": [
    {
     "output_type": "display_data",
     "data": {
      "text/html": [
       "<style scoped>\n",
       "  .table-result-container {\n",
       "    max-height: 300px;\n",
       "    overflow: auto;\n",
       "  }\n",
       "  table, th, td {\n",
       "    border: 1px solid black;\n",
       "    border-collapse: collapse;\n",
       "  }\n",
       "  th, td {\n",
       "    padding: 5px;\n",
       "  }\n",
       "  th {\n",
       "    text-align: left;\n",
       "  }\n",
       "</style><div class='table-result-container'><table class='table-result'><thead style='background-color: white'><tr><th>input_timestamp</th><th>Sensex_Category</th><th>Label_Type</th><th>Last_transaction_date</th><th>Effective_Date</th><th>last_timestamp</th><th>pymt_timestamp</th></tr></thead><tbody><tr><td>25/04/2023 2:00</td><td>Top</td><td>average</td><td>2024-02-26</td><td>6-Feb-23</td><td>25/04/2023 24:56:18</td><td>25/04/2023 2</td></tr><tr><td>26/04/2023 6:01</td><td>Top</td><td>average</td><td>2023-12-21</td><td>6-Feb-23</td><td>25/04/2002 21:12:00</td><td>26/04/2023 6</td></tr><tr><td>20/01/2020 4:01</td><td>Top</td><td>average</td><td>2025-03-27</td><td>8-Jan-24</td><td>25/04/2021 12:34:01</td><td>20/01/2020 4</td></tr><tr><td>26/04/2023 2:02</td><td>Top</td><td>average</td><td>2023-12-27</td><td>8-Jan-24</td><td>25/04/1957 20:12:01</td><td>26/04/2023 2</td></tr><tr><td>25/04/2023 5:02</td><td>Top</td><td>average</td><td>2024-04-29</td><td>6-Mar-23</td><td>25/04/2023 23:45:22</td><td>25/04/2023 5</td></tr><tr><td>25/04/2023 9:03</td><td>Forward</td><td>medium</td><td>2024-12-27</td><td>6-Mar-23</td><td>25/04/2024 14:12:02</td><td>25/04/2023 9</td></tr><tr><td>25/04/2023 7:03</td><td>Forward</td><td>medium</td><td>2024-03-26</td><td>6-Jan-25</td><td>25/04/2023 20:00:03</td><td>25/04/2023 7</td></tr><tr><td>26/03/2023 8:04</td><td>Forward</td><td>medium</td><td>2024-11-28</td><td>6-Jan-25</td><td>25/04/2024 14:12:03</td><td>26/03/2023 8</td></tr><tr><td>25/01/2022 4:04</td><td>Forward</td><td>medium</td><td>2023-12-27</td><td>6-Apr-23</td><td>25/05/2021 23:45:04</td><td>25/01/2022 4</td></tr><tr><td>26/03/2023 8:05</td><td>Forward</td><td>medium</td><td>2023-05-15</td><td>6-Apr-23</td><td>25/04/2024 14:12:04</td><td>26/03/2023 8</td></tr></tbody></table></div>"
      ]
     },
     "metadata": {
      "application/vnd.databricks.v1+output": {
       "addedWidgets": {},
       "aggData": [],
       "aggError": "",
       "aggOverflow": false,
       "aggSchema": [],
       "aggSeriesLimitReached": false,
       "aggType": "",
       "arguments": {},
       "columnCustomDisplayInfos": {},
       "data": [
        [
         "25/04/2023 2:00",
         "Top",
         "average",
         "2024-02-26",
         "6-Feb-23",
         "25/04/2023 24:56:18",
         "25/04/2023 2"
        ],
        [
         "26/04/2023 6:01",
         "Top",
         "average",
         "2023-12-21",
         "6-Feb-23",
         "25/04/2002 21:12:00",
         "26/04/2023 6"
        ],
        [
         "20/01/2020 4:01",
         "Top",
         "average",
         "2025-03-27",
         "8-Jan-24",
         "25/04/2021 12:34:01",
         "20/01/2020 4"
        ],
        [
         "26/04/2023 2:02",
         "Top",
         "average",
         "2023-12-27",
         "8-Jan-24",
         "25/04/1957 20:12:01",
         "26/04/2023 2"
        ],
        [
         "25/04/2023 5:02",
         "Top",
         "average",
         "2024-04-29",
         "6-Mar-23",
         "25/04/2023 23:45:22",
         "25/04/2023 5"
        ],
        [
         "25/04/2023 9:03",
         "Forward",
         "medium",
         "2024-12-27",
         "6-Mar-23",
         "25/04/2024 14:12:02",
         "25/04/2023 9"
        ],
        [
         "25/04/2023 7:03",
         "Forward",
         "medium",
         "2024-03-26",
         "6-Jan-25",
         "25/04/2023 20:00:03",
         "25/04/2023 7"
        ],
        [
         "26/03/2023 8:04",
         "Forward",
         "medium",
         "2024-11-28",
         "6-Jan-25",
         "25/04/2024 14:12:03",
         "26/03/2023 8"
        ],
        [
         "25/01/2022 4:04",
         "Forward",
         "medium",
         "2023-12-27",
         "6-Apr-23",
         "25/05/2021 23:45:04",
         "25/01/2022 4"
        ],
        [
         "26/03/2023 8:05",
         "Forward",
         "medium",
         "2023-05-15",
         "6-Apr-23",
         "25/04/2024 14:12:04",
         "26/03/2023 8"
        ]
       ],
       "datasetInfos": [],
       "dbfsResultPath": null,
       "isJsonSchema": true,
       "metadata": {},
       "overflow": false,
       "plotOptions": {
        "customPlotOptions": {},
        "displayType": "table",
        "pivotAggregation": null,
        "pivotColumns": null,
        "xColumns": null,
        "yColumns": null
       },
       "removedWidgets": [],
       "schema": [
        {
         "metadata": "{}",
         "name": "input_timestamp",
         "type": "\"string\""
        },
        {
         "metadata": "{}",
         "name": "Sensex_Category",
         "type": "\"string\""
        },
        {
         "metadata": "{}",
         "name": "Label_Type",
         "type": "\"string\""
        },
        {
         "metadata": "{\"__detected_date_formats\":\"d/M/yyyy\"}",
         "name": "Last_transaction_date",
         "type": "\"date\""
        },
        {
         "metadata": "{}",
         "name": "Effective_Date",
         "type": "\"string\""
        },
        {
         "metadata": "{}",
         "name": "last_timestamp",
         "type": "\"string\""
        },
        {
         "metadata": "{}",
         "name": "pymt_timestamp",
         "type": "\"string\""
        }
       ],
       "type": "table"
      }
     },
     "output_type": "display_data"
    }
   ],
   "source": [
    "df = spark.read.csv(\"dbfs:/FileStore/tables/date_format-2.csv\", header=True, inferSchema=True)\n",
    "display(df.limit(10))"
   ]
  },
  {
   "cell_type": "code",
   "execution_count": 0,
   "metadata": {
    "application/vnd.databricks.v1+cell": {
     "cellMetadata": {
      "byteLimit": 2048000,
      "rowLimit": 10000
     },
     "inputWidgets": {},
     "nuid": "7fc94548-0dd5-498d-9666-0ef490422056",
     "showTitle": false,
     "tableResultSettingsMap": {},
     "title": ""
    }
   },
   "outputs": [],
   "source": [
    "import pyspark.sql.functions as f\n",
    "from pyspark.sql.functions import col, to_timestamp, date_format, current_date, current_timestamp, to_date"
   ]
  },
  {
   "cell_type": "markdown",
   "metadata": {
    "application/vnd.databricks.v1+cell": {
     "cellMetadata": {},
     "inputWidgets": {},
     "nuid": "34813d64-d146-44b1-b193-7738c245fb40",
     "showTitle": false,
     "tableResultSettingsMap": {},
     "title": ""
    }
   },
   "source": [
    "#### **1) Convert date to string**\n",
    "**Last_transaction_date**"
   ]
  },
  {
   "cell_type": "code",
   "execution_count": 0,
   "metadata": {
    "application/vnd.databricks.v1+cell": {
     "cellMetadata": {
      "byteLimit": 2048000,
      "rowLimit": 10000
     },
     "inputWidgets": {},
     "nuid": "1c9fa832-9874-45b4-93eb-60e3826669af",
     "showTitle": false,
     "tableResultSettingsMap": {},
     "title": ""
    }
   },
   "outputs": [
    {
     "output_type": "display_data",
     "data": {
      "text/html": [
       "<style scoped>\n",
       "  .table-result-container {\n",
       "    max-height: 300px;\n",
       "    overflow: auto;\n",
       "  }\n",
       "  table, th, td {\n",
       "    border: 1px solid black;\n",
       "    border-collapse: collapse;\n",
       "  }\n",
       "  th, td {\n",
       "    padding: 5px;\n",
       "  }\n",
       "  th {\n",
       "    text-align: left;\n",
       "  }\n",
       "</style><div class='table-result-container'><table class='table-result'><thead style='background-color: white'><tr><th>input_timestamp</th><th>Sensex_Category</th><th>Label_Type</th><th>Last_transaction_date</th><th>Effective_Date</th><th>last_timestamp</th><th>pymt_timestamp</th></tr></thead><tbody><tr><td>25/04/2023 2:00</td><td>Top</td><td>average</td><td>2024-02-26</td><td>6-Feb-23</td><td>25/04/2023 24:56:18</td><td>25/04/2023 2</td></tr><tr><td>26/04/2023 6:01</td><td>Top</td><td>average</td><td>2023-12-21</td><td>6-Feb-23</td><td>25/04/2002 21:12:00</td><td>26/04/2023 6</td></tr><tr><td>20/01/2020 4:01</td><td>Top</td><td>average</td><td>2025-03-27</td><td>8-Jan-24</td><td>25/04/2021 12:34:01</td><td>20/01/2020 4</td></tr><tr><td>26/04/2023 2:02</td><td>Top</td><td>average</td><td>2023-12-27</td><td>8-Jan-24</td><td>25/04/1957 20:12:01</td><td>26/04/2023 2</td></tr><tr><td>25/04/2023 5:02</td><td>Top</td><td>average</td><td>2024-04-29</td><td>6-Mar-23</td><td>25/04/2023 23:45:22</td><td>25/04/2023 5</td></tr><tr><td>25/04/2023 9:03</td><td>Forward</td><td>medium</td><td>2024-12-27</td><td>6-Mar-23</td><td>25/04/2024 14:12:02</td><td>25/04/2023 9</td></tr><tr><td>25/04/2023 7:03</td><td>Forward</td><td>medium</td><td>2024-03-26</td><td>6-Jan-25</td><td>25/04/2023 20:00:03</td><td>25/04/2023 7</td></tr><tr><td>26/03/2023 8:04</td><td>Forward</td><td>medium</td><td>2024-11-28</td><td>6-Jan-25</td><td>25/04/2024 14:12:03</td><td>26/03/2023 8</td></tr><tr><td>25/01/2022 4:04</td><td>Forward</td><td>medium</td><td>2023-12-27</td><td>6-Apr-23</td><td>25/05/2021 23:45:04</td><td>25/01/2022 4</td></tr><tr><td>26/03/2023 8:05</td><td>Forward</td><td>medium</td><td>2023-05-15</td><td>6-Apr-23</td><td>25/04/2024 14:12:04</td><td>26/03/2023 8</td></tr></tbody></table></div>"
      ]
     },
     "metadata": {
      "application/vnd.databricks.v1+output": {
       "addedWidgets": {},
       "aggData": [],
       "aggError": "",
       "aggOverflow": false,
       "aggSchema": [],
       "aggSeriesLimitReached": false,
       "aggType": "",
       "arguments": {},
       "columnCustomDisplayInfos": {},
       "data": [
        [
         "25/04/2023 2:00",
         "Top",
         "average",
         "2024-02-26",
         "6-Feb-23",
         "25/04/2023 24:56:18",
         "25/04/2023 2"
        ],
        [
         "26/04/2023 6:01",
         "Top",
         "average",
         "2023-12-21",
         "6-Feb-23",
         "25/04/2002 21:12:00",
         "26/04/2023 6"
        ],
        [
         "20/01/2020 4:01",
         "Top",
         "average",
         "2025-03-27",
         "8-Jan-24",
         "25/04/2021 12:34:01",
         "20/01/2020 4"
        ],
        [
         "26/04/2023 2:02",
         "Top",
         "average",
         "2023-12-27",
         "8-Jan-24",
         "25/04/1957 20:12:01",
         "26/04/2023 2"
        ],
        [
         "25/04/2023 5:02",
         "Top",
         "average",
         "2024-04-29",
         "6-Mar-23",
         "25/04/2023 23:45:22",
         "25/04/2023 5"
        ],
        [
         "25/04/2023 9:03",
         "Forward",
         "medium",
         "2024-12-27",
         "6-Mar-23",
         "25/04/2024 14:12:02",
         "25/04/2023 9"
        ],
        [
         "25/04/2023 7:03",
         "Forward",
         "medium",
         "2024-03-26",
         "6-Jan-25",
         "25/04/2023 20:00:03",
         "25/04/2023 7"
        ],
        [
         "26/03/2023 8:04",
         "Forward",
         "medium",
         "2024-11-28",
         "6-Jan-25",
         "25/04/2024 14:12:03",
         "26/03/2023 8"
        ],
        [
         "25/01/2022 4:04",
         "Forward",
         "medium",
         "2023-12-27",
         "6-Apr-23",
         "25/05/2021 23:45:04",
         "25/01/2022 4"
        ],
        [
         "26/03/2023 8:05",
         "Forward",
         "medium",
         "2023-05-15",
         "6-Apr-23",
         "25/04/2024 14:12:04",
         "26/03/2023 8"
        ]
       ],
       "datasetInfos": [],
       "dbfsResultPath": null,
       "isJsonSchema": true,
       "metadata": {},
       "overflow": false,
       "plotOptions": {
        "customPlotOptions": {},
        "displayType": "table",
        "pivotAggregation": null,
        "pivotColumns": null,
        "xColumns": null,
        "yColumns": null
       },
       "removedWidgets": [],
       "schema": [
        {
         "metadata": "{}",
         "name": "input_timestamp",
         "type": "\"string\""
        },
        {
         "metadata": "{}",
         "name": "Sensex_Category",
         "type": "\"string\""
        },
        {
         "metadata": "{}",
         "name": "Label_Type",
         "type": "\"string\""
        },
        {
         "metadata": "{}",
         "name": "Last_transaction_date",
         "type": "\"string\""
        },
        {
         "metadata": "{}",
         "name": "Effective_Date",
         "type": "\"string\""
        },
        {
         "metadata": "{}",
         "name": "last_timestamp",
         "type": "\"string\""
        },
        {
         "metadata": "{}",
         "name": "pymt_timestamp",
         "type": "\"string\""
        }
       ],
       "type": "table"
      }
     },
     "output_type": "display_data"
    }
   ],
   "source": [
    "df_ltd = df.withColumn(\"Last_transaction_date\",date_format(\"Last_transaction_date\",\"yyyy-MM-dd\"))\n",
    "display(df_ltd.limit(10))"
   ]
  },
  {
   "cell_type": "markdown",
   "metadata": {
    "application/vnd.databricks.v1+cell": {
     "cellMetadata": {},
     "inputWidgets": {},
     "nuid": "d67c81cf-a6ad-468f-acd3-57ace2f8773b",
     "showTitle": false,
     "tableResultSettingsMap": {},
     "title": ""
    }
   },
   "source": [
    "#### **2) Convert string to timestamp**\n",
    "\n",
    "**input_timestamp, Last_transaction_date, Effective_Date, last_timestamp, pymt_timestamp**"
   ]
  },
  {
   "cell_type": "code",
   "execution_count": 0,
   "metadata": {
    "application/vnd.databricks.v1+cell": {
     "cellMetadata": {
      "byteLimit": 2048000,
      "rowLimit": 10000
     },
     "inputWidgets": {},
     "nuid": "493ab5ad-f544-4c1c-a622-a5ef25ba636e",
     "showTitle": false,
     "tableResultSettingsMap": {},
     "title": ""
    }
   },
   "outputs": [
    {
     "output_type": "display_data",
     "data": {
      "text/html": [
       "<style scoped>\n",
       "  .table-result-container {\n",
       "    max-height: 300px;\n",
       "    overflow: auto;\n",
       "  }\n",
       "  table, th, td {\n",
       "    border: 1px solid black;\n",
       "    border-collapse: collapse;\n",
       "  }\n",
       "  th, td {\n",
       "    padding: 5px;\n",
       "  }\n",
       "  th {\n",
       "    text-align: left;\n",
       "  }\n",
       "</style><div class='table-result-container'><table class='table-result'><thead style='background-color: white'><tr><th>input_timestamp</th><th>Sensex_Category</th><th>Label_Type</th><th>Last_transaction_date</th><th>Effective_Date</th><th>last_timestamp</th><th>pymt_timestamp</th></tr></thead><tbody><tr><td>2023-04-25T02:00:00.000+0000</td><td>Top</td><td>average</td><td>2024-02-26T00:00:00.000+0000</td><td>2023-02-06T00:00:00.000+0000</td><td>null</td><td>2023-04-25T02:00:00.000+0000</td></tr><tr><td>2023-04-26T06:01:00.000+0000</td><td>Top</td><td>average</td><td>2023-12-21T00:00:00.000+0000</td><td>2023-02-06T00:00:00.000+0000</td><td>2002-04-25T21:12:00.000+0000</td><td>2023-04-26T06:00:00.000+0000</td></tr><tr><td>2020-01-20T04:01:00.000+0000</td><td>Top</td><td>average</td><td>2025-03-27T00:00:00.000+0000</td><td>2024-01-08T00:00:00.000+0000</td><td>2021-04-25T12:34:01.000+0000</td><td>2020-01-20T04:00:00.000+0000</td></tr><tr><td>2023-04-26T02:02:00.000+0000</td><td>Top</td><td>average</td><td>2023-12-27T00:00:00.000+0000</td><td>2024-01-08T00:00:00.000+0000</td><td>1957-04-25T20:12:01.000+0000</td><td>2023-04-26T02:00:00.000+0000</td></tr><tr><td>2023-04-25T05:02:00.000+0000</td><td>Top</td><td>average</td><td>2024-04-29T00:00:00.000+0000</td><td>2023-03-06T00:00:00.000+0000</td><td>2023-04-25T23:45:22.000+0000</td><td>2023-04-25T05:00:00.000+0000</td></tr><tr><td>2023-04-25T09:03:00.000+0000</td><td>Forward</td><td>medium</td><td>2024-12-27T00:00:00.000+0000</td><td>2023-03-06T00:00:00.000+0000</td><td>2024-04-25T14:12:02.000+0000</td><td>2023-04-25T09:00:00.000+0000</td></tr><tr><td>2023-04-25T07:03:00.000+0000</td><td>Forward</td><td>medium</td><td>2024-03-26T00:00:00.000+0000</td><td>2025-01-06T00:00:00.000+0000</td><td>2023-04-25T20:00:03.000+0000</td><td>2023-04-25T07:00:00.000+0000</td></tr><tr><td>2023-03-26T08:04:00.000+0000</td><td>Forward</td><td>medium</td><td>2024-11-28T00:00:00.000+0000</td><td>2025-01-06T00:00:00.000+0000</td><td>2024-04-25T14:12:03.000+0000</td><td>2023-03-26T08:00:00.000+0000</td></tr><tr><td>2022-01-25T04:04:00.000+0000</td><td>Forward</td><td>medium</td><td>2023-12-27T00:00:00.000+0000</td><td>2023-04-06T00:00:00.000+0000</td><td>2021-05-25T23:45:04.000+0000</td><td>2022-01-25T04:00:00.000+0000</td></tr><tr><td>2023-03-26T08:05:00.000+0000</td><td>Forward</td><td>medium</td><td>2023-05-15T00:00:00.000+0000</td><td>2023-04-06T00:00:00.000+0000</td><td>2024-04-25T14:12:04.000+0000</td><td>2023-03-26T08:00:00.000+0000</td></tr></tbody></table></div>"
      ]
     },
     "metadata": {
      "application/vnd.databricks.v1+output": {
       "addedWidgets": {},
       "aggData": [],
       "aggError": "",
       "aggOverflow": false,
       "aggSchema": [],
       "aggSeriesLimitReached": false,
       "aggType": "",
       "arguments": {},
       "columnCustomDisplayInfos": {},
       "data": [
        [
         "2023-04-25T02:00:00.000+0000",
         "Top",
         "average",
         "2024-02-26T00:00:00.000+0000",
         "2023-02-06T00:00:00.000+0000",
         null,
         "2023-04-25T02:00:00.000+0000"
        ],
        [
         "2023-04-26T06:01:00.000+0000",
         "Top",
         "average",
         "2023-12-21T00:00:00.000+0000",
         "2023-02-06T00:00:00.000+0000",
         "2002-04-25T21:12:00.000+0000",
         "2023-04-26T06:00:00.000+0000"
        ],
        [
         "2020-01-20T04:01:00.000+0000",
         "Top",
         "average",
         "2025-03-27T00:00:00.000+0000",
         "2024-01-08T00:00:00.000+0000",
         "2021-04-25T12:34:01.000+0000",
         "2020-01-20T04:00:00.000+0000"
        ],
        [
         "2023-04-26T02:02:00.000+0000",
         "Top",
         "average",
         "2023-12-27T00:00:00.000+0000",
         "2024-01-08T00:00:00.000+0000",
         "1957-04-25T20:12:01.000+0000",
         "2023-04-26T02:00:00.000+0000"
        ],
        [
         "2023-04-25T05:02:00.000+0000",
         "Top",
         "average",
         "2024-04-29T00:00:00.000+0000",
         "2023-03-06T00:00:00.000+0000",
         "2023-04-25T23:45:22.000+0000",
         "2023-04-25T05:00:00.000+0000"
        ],
        [
         "2023-04-25T09:03:00.000+0000",
         "Forward",
         "medium",
         "2024-12-27T00:00:00.000+0000",
         "2023-03-06T00:00:00.000+0000",
         "2024-04-25T14:12:02.000+0000",
         "2023-04-25T09:00:00.000+0000"
        ],
        [
         "2023-04-25T07:03:00.000+0000",
         "Forward",
         "medium",
         "2024-03-26T00:00:00.000+0000",
         "2025-01-06T00:00:00.000+0000",
         "2023-04-25T20:00:03.000+0000",
         "2023-04-25T07:00:00.000+0000"
        ],
        [
         "2023-03-26T08:04:00.000+0000",
         "Forward",
         "medium",
         "2024-11-28T00:00:00.000+0000",
         "2025-01-06T00:00:00.000+0000",
         "2024-04-25T14:12:03.000+0000",
         "2023-03-26T08:00:00.000+0000"
        ],
        [
         "2022-01-25T04:04:00.000+0000",
         "Forward",
         "medium",
         "2023-12-27T00:00:00.000+0000",
         "2023-04-06T00:00:00.000+0000",
         "2021-05-25T23:45:04.000+0000",
         "2022-01-25T04:00:00.000+0000"
        ],
        [
         "2023-03-26T08:05:00.000+0000",
         "Forward",
         "medium",
         "2023-05-15T00:00:00.000+0000",
         "2023-04-06T00:00:00.000+0000",
         "2024-04-25T14:12:04.000+0000",
         "2023-03-26T08:00:00.000+0000"
        ]
       ],
       "datasetInfos": [],
       "dbfsResultPath": null,
       "isJsonSchema": true,
       "metadata": {},
       "overflow": false,
       "plotOptions": {
        "customPlotOptions": {},
        "displayType": "table",
        "pivotAggregation": null,
        "pivotColumns": null,
        "xColumns": null,
        "yColumns": null
       },
       "removedWidgets": [],
       "schema": [
        {
         "metadata": "{}",
         "name": "input_timestamp",
         "type": "\"timestamp\""
        },
        {
         "metadata": "{}",
         "name": "Sensex_Category",
         "type": "\"string\""
        },
        {
         "metadata": "{}",
         "name": "Label_Type",
         "type": "\"string\""
        },
        {
         "metadata": "{}",
         "name": "Last_transaction_date",
         "type": "\"timestamp\""
        },
        {
         "metadata": "{}",
         "name": "Effective_Date",
         "type": "\"timestamp\""
        },
        {
         "metadata": "{}",
         "name": "last_timestamp",
         "type": "\"timestamp\""
        },
        {
         "metadata": "{}",
         "name": "pymt_timestamp",
         "type": "\"timestamp\""
        }
       ],
       "type": "table"
      }
     },
     "output_type": "display_data"
    }
   ],
   "source": [
    "# convert input_timestamp, Last_transaction_date, Effective_Date, last_timestamp, pymt_timestamp into timestamp\n",
    "df_all = df.withColumn(\"input_timestamp\",to_timestamp(\"input_timestamp\",\"dd/MM/yyyy H:mm\"))\\\n",
    "           .withColumn(\"Last_transaction_date\",to_timestamp(\"Last_transaction_date\",\"yyyy-MM-dd\"))\\\n",
    "           .withColumn(\"Effective_Date\",to_timestamp(\"Effective_Date\",\"d-MMM-yy\"))\\\n",
    "           .withColumn(\"last_timestamp\",to_timestamp(\"last_timestamp\",\"dd/MM/yyyy HH:mm:ss\"))\\\n",
    "           .withColumn(\"pymt_timestamp\",to_timestamp(\"pymt_timestamp\",\"dd/MM/yyyy H\"))    \n",
    "display(df_all.limit(10))"
   ]
  },
  {
   "cell_type": "code",
   "execution_count": 0,
   "metadata": {
    "application/vnd.databricks.v1+cell": {
     "cellMetadata": {
      "byteLimit": 2048000,
      "implicitDf": true,
      "rowLimit": 10000
     },
     "inputWidgets": {},
     "nuid": "722f699d-93f2-477b-95f7-da9cdc48a9fa",
     "showTitle": false,
     "tableResultSettingsMap": {},
     "title": ""
    }
   },
   "outputs": [
    {
     "output_type": "display_data",
     "data": {
      "text/html": [
       "<style scoped>\n",
       "  .table-result-container {\n",
       "    max-height: 300px;\n",
       "    overflow: auto;\n",
       "  }\n",
       "  table, th, td {\n",
       "    border: 1px solid black;\n",
       "    border-collapse: collapse;\n",
       "  }\n",
       "  th, td {\n",
       "    padding: 5px;\n",
       "  }\n",
       "  th {\n",
       "    text-align: left;\n",
       "  }\n",
       "</style><div class='table-result-container'><table class='table-result'><thead style='background-color: white'><tr><th>to_timestamp(25/04/2023 24:56:18, dd/MM/yyyy HH:mm:ss)</th></tr></thead><tbody><tr><td>null</td></tr></tbody></table></div>"
      ]
     },
     "metadata": {
      "application/vnd.databricks.v1+output": {
       "addedWidgets": {},
       "aggData": [],
       "aggError": "",
       "aggOverflow": false,
       "aggSchema": [],
       "aggSeriesLimitReached": false,
       "aggType": "",
       "arguments": {},
       "columnCustomDisplayInfos": {},
       "data": [
        [
         null
        ]
       ],
       "datasetInfos": [],
       "dbfsResultPath": null,
       "isJsonSchema": true,
       "metadata": {},
       "overflow": false,
       "plotOptions": {
        "customPlotOptions": {},
        "displayType": "table",
        "pivotAggregation": null,
        "pivotColumns": null,
        "xColumns": null,
        "yColumns": null
       },
       "removedWidgets": [],
       "schema": [
        {
         "metadata": "{\"__autoGeneratedAlias\":\"true\"}",
         "name": "to_timestamp(25/04/2023 24:56:18, dd/MM/yyyy HH:mm:ss)",
         "type": "\"timestamp\""
        }
       ],
       "type": "table"
      }
     },
     "output_type": "display_data"
    }
   ],
   "source": [
    "%sql\n",
    "select to_timestamp(\"25/04/2023 24:56:18\", 'dd/MM/yyyy HH:mm:ss')"
   ]
  },
  {
   "cell_type": "code",
   "execution_count": 0,
   "metadata": {
    "application/vnd.databricks.v1+cell": {
     "cellMetadata": {
      "byteLimit": 2048000,
      "implicitDf": true,
      "rowLimit": 10000
     },
     "inputWidgets": {},
     "nuid": "4b697867-da75-4305-9aca-feb025877acd",
     "showTitle": false,
     "tableResultSettingsMap": {},
     "title": ""
    }
   },
   "outputs": [
    {
     "output_type": "display_data",
     "data": {
      "text/html": [
       "<style scoped>\n",
       "  .table-result-container {\n",
       "    max-height: 300px;\n",
       "    overflow: auto;\n",
       "  }\n",
       "  table, th, td {\n",
       "    border: 1px solid black;\n",
       "    border-collapse: collapse;\n",
       "  }\n",
       "  th, td {\n",
       "    padding: 5px;\n",
       "  }\n",
       "  th {\n",
       "    text-align: left;\n",
       "  }\n",
       "</style><div class='table-result-container'><table class='table-result'><thead style='background-color: white'><tr><th>to_timestamp(25/04/2023 23:56:18, dd/MM/yyyy HH:mm:ss)</th></tr></thead><tbody><tr><td>2023-04-25T23:56:18.000+0000</td></tr></tbody></table></div>"
      ]
     },
     "metadata": {
      "application/vnd.databricks.v1+output": {
       "addedWidgets": {},
       "aggData": [],
       "aggError": "",
       "aggOverflow": false,
       "aggSchema": [],
       "aggSeriesLimitReached": false,
       "aggType": "",
       "arguments": {},
       "columnCustomDisplayInfos": {},
       "data": [
        [
         "2023-04-25T23:56:18.000+0000"
        ]
       ],
       "datasetInfos": [],
       "dbfsResultPath": null,
       "isJsonSchema": true,
       "metadata": {},
       "overflow": false,
       "plotOptions": {
        "customPlotOptions": {},
        "displayType": "table",
        "pivotAggregation": null,
        "pivotColumns": null,
        "xColumns": null,
        "yColumns": null
       },
       "removedWidgets": [],
       "schema": [
        {
         "metadata": "{\"__autoGeneratedAlias\":\"true\"}",
         "name": "to_timestamp(25/04/2023 23:56:18, dd/MM/yyyy HH:mm:ss)",
         "type": "\"timestamp\""
        }
       ],
       "type": "table"
      }
     },
     "output_type": "display_data"
    }
   ],
   "source": [
    "%sql\n",
    "select to_timestamp(\"25/04/2023 23:56:18\", 'dd/MM/yyyy HH:mm:ss')"
   ]
  },
  {
   "cell_type": "markdown",
   "metadata": {
    "application/vnd.databricks.v1+cell": {
     "cellMetadata": {},
     "inputWidgets": {},
     "nuid": "6af047bb-08c1-48d6-af42-1f1b59912cf5",
     "showTitle": false,
     "tableResultSettingsMap": {},
     "title": ""
    }
   },
   "source": [
    "#### **3) Convert timestamp to string**"
   ]
  },
  {
   "cell_type": "code",
   "execution_count": 0,
   "metadata": {
    "application/vnd.databricks.v1+cell": {
     "cellMetadata": {
      "byteLimit": 2048000,
      "rowLimit": 10000
     },
     "inputWidgets": {},
     "nuid": "96a61cb4-244d-4847-a352-185cee641c66",
     "showTitle": false,
     "tableResultSettingsMap": {},
     "title": ""
    }
   },
   "outputs": [
    {
     "output_type": "display_data",
     "data": {
      "text/html": [
       "<style scoped>\n",
       "  .table-result-container {\n",
       "    max-height: 300px;\n",
       "    overflow: auto;\n",
       "  }\n",
       "  table, th, td {\n",
       "    border: 1px solid black;\n",
       "    border-collapse: collapse;\n",
       "  }\n",
       "  th, td {\n",
       "    padding: 5px;\n",
       "  }\n",
       "  th {\n",
       "    text-align: left;\n",
       "  }\n",
       "</style><div class='table-result-container'><table class='table-result'><thead style='background-color: white'><tr><th>input_timestamp</th><th>Sensex_Category</th><th>Label_Type</th><th>Last_transaction_date</th><th>Effective_Date</th><th>last_timestamp</th><th>pymt_timestamp</th></tr></thead><tbody><tr><td>2023/04/25 02:00:00</td><td>Top</td><td>average</td><td>2024/02/26 00:00:00</td><td>2023/02/06 00:00:00</td><td>null</td><td>2023/04/25 02:00:00</td></tr><tr><td>2023/04/26 06:01:00</td><td>Top</td><td>average</td><td>2023/12/21 00:00:00</td><td>2023/02/06 00:00:00</td><td>2002/04/25 21:12:00</td><td>2023/04/26 06:00:00</td></tr><tr><td>2020/01/20 04:01:00</td><td>Top</td><td>average</td><td>2025/03/27 00:00:00</td><td>2024/01/08 00:00:00</td><td>2021/04/25 12:34:01</td><td>2020/01/20 04:00:00</td></tr><tr><td>2023/04/26 02:02:00</td><td>Top</td><td>average</td><td>2023/12/27 00:00:00</td><td>2024/01/08 00:00:00</td><td>1957/04/25 20:12:01</td><td>2023/04/26 02:00:00</td></tr><tr><td>2023/04/25 05:02:00</td><td>Top</td><td>average</td><td>2024/04/29 00:00:00</td><td>2023/03/06 00:00:00</td><td>2023/04/25 23:45:22</td><td>2023/04/25 05:00:00</td></tr><tr><td>2023/04/25 09:03:00</td><td>Forward</td><td>medium</td><td>2024/12/27 00:00:00</td><td>2023/03/06 00:00:00</td><td>2024/04/25 14:12:02</td><td>2023/04/25 09:00:00</td></tr><tr><td>2023/04/25 07:03:00</td><td>Forward</td><td>medium</td><td>2024/03/26 00:00:00</td><td>2025/01/06 00:00:00</td><td>2023/04/25 20:00:03</td><td>2023/04/25 07:00:00</td></tr><tr><td>2023/03/26 08:04:00</td><td>Forward</td><td>medium</td><td>2024/11/28 00:00:00</td><td>2025/01/06 00:00:00</td><td>2024/04/25 14:12:03</td><td>2023/03/26 08:00:00</td></tr><tr><td>2022/01/25 04:04:00</td><td>Forward</td><td>medium</td><td>2023/12/27 00:00:00</td><td>2023/04/06 00:00:00</td><td>2021/05/25 23:45:04</td><td>2022/01/25 04:00:00</td></tr><tr><td>2023/03/26 08:05:00</td><td>Forward</td><td>medium</td><td>2023/05/15 00:00:00</td><td>2023/04/06 00:00:00</td><td>2024/04/25 14:12:04</td><td>2023/03/26 08:00:00</td></tr></tbody></table></div>"
      ]
     },
     "metadata": {
      "application/vnd.databricks.v1+output": {
       "addedWidgets": {},
       "aggData": [],
       "aggError": "",
       "aggOverflow": false,
       "aggSchema": [],
       "aggSeriesLimitReached": false,
       "aggType": "",
       "arguments": {},
       "columnCustomDisplayInfos": {},
       "data": [
        [
         "2023/04/25 02:00:00",
         "Top",
         "average",
         "2024/02/26 00:00:00",
         "2023/02/06 00:00:00",
         null,
         "2023/04/25 02:00:00"
        ],
        [
         "2023/04/26 06:01:00",
         "Top",
         "average",
         "2023/12/21 00:00:00",
         "2023/02/06 00:00:00",
         "2002/04/25 21:12:00",
         "2023/04/26 06:00:00"
        ],
        [
         "2020/01/20 04:01:00",
         "Top",
         "average",
         "2025/03/27 00:00:00",
         "2024/01/08 00:00:00",
         "2021/04/25 12:34:01",
         "2020/01/20 04:00:00"
        ],
        [
         "2023/04/26 02:02:00",
         "Top",
         "average",
         "2023/12/27 00:00:00",
         "2024/01/08 00:00:00",
         "1957/04/25 20:12:01",
         "2023/04/26 02:00:00"
        ],
        [
         "2023/04/25 05:02:00",
         "Top",
         "average",
         "2024/04/29 00:00:00",
         "2023/03/06 00:00:00",
         "2023/04/25 23:45:22",
         "2023/04/25 05:00:00"
        ],
        [
         "2023/04/25 09:03:00",
         "Forward",
         "medium",
         "2024/12/27 00:00:00",
         "2023/03/06 00:00:00",
         "2024/04/25 14:12:02",
         "2023/04/25 09:00:00"
        ],
        [
         "2023/04/25 07:03:00",
         "Forward",
         "medium",
         "2024/03/26 00:00:00",
         "2025/01/06 00:00:00",
         "2023/04/25 20:00:03",
         "2023/04/25 07:00:00"
        ],
        [
         "2023/03/26 08:04:00",
         "Forward",
         "medium",
         "2024/11/28 00:00:00",
         "2025/01/06 00:00:00",
         "2024/04/25 14:12:03",
         "2023/03/26 08:00:00"
        ],
        [
         "2022/01/25 04:04:00",
         "Forward",
         "medium",
         "2023/12/27 00:00:00",
         "2023/04/06 00:00:00",
         "2021/05/25 23:45:04",
         "2022/01/25 04:00:00"
        ],
        [
         "2023/03/26 08:05:00",
         "Forward",
         "medium",
         "2023/05/15 00:00:00",
         "2023/04/06 00:00:00",
         "2024/04/25 14:12:04",
         "2023/03/26 08:00:00"
        ]
       ],
       "datasetInfos": [],
       "dbfsResultPath": null,
       "isJsonSchema": true,
       "metadata": {},
       "overflow": false,
       "plotOptions": {
        "customPlotOptions": {},
        "displayType": "table",
        "pivotAggregation": null,
        "pivotColumns": null,
        "xColumns": null,
        "yColumns": null
       },
       "removedWidgets": [],
       "schema": [
        {
         "metadata": "{}",
         "name": "input_timestamp",
         "type": "\"string\""
        },
        {
         "metadata": "{}",
         "name": "Sensex_Category",
         "type": "\"string\""
        },
        {
         "metadata": "{}",
         "name": "Label_Type",
         "type": "\"string\""
        },
        {
         "metadata": "{}",
         "name": "Last_transaction_date",
         "type": "\"string\""
        },
        {
         "metadata": "{}",
         "name": "Effective_Date",
         "type": "\"string\""
        },
        {
         "metadata": "{}",
         "name": "last_timestamp",
         "type": "\"string\""
        },
        {
         "metadata": "{}",
         "name": "pymt_timestamp",
         "type": "\"string\""
        }
       ],
       "type": "table"
      }
     },
     "output_type": "display_data"
    }
   ],
   "source": [
    "# convert input_timestamp, Last_transaction_date, Effective_Date, last_timestamp, pymt_timestamp into timestamp\n",
    "df_tmstpm_stg = df_all.withColumn(\"input_timestamp\",date_format(\"input_timestamp\",\"yyyy/MM/dd HH:mm:ss\"))\\\n",
    "                      .withColumn(\"Last_transaction_date\",date_format(\"Last_transaction_date\",\"yyyy/MM/dd HH:mm:ss\"))\\\n",
    "                      .withColumn(\"Effective_Date\",date_format(\"Effective_Date\",\"yyyy/MM/dd HH:mm:ss\"))\\\n",
    "                      .withColumn(\"last_timestamp\",date_format(\"last_timestamp\",\"yyyy/MM/dd HH:mm:ss\"))\\\n",
    "                      .withColumn(\"pymt_timestamp\",date_format(\"pymt_timestamp\",\"yyyy/MM/dd HH:mm:ss\"))    \n",
    "display(df_tmstpm_stg.limit(10))"
   ]
  },
  {
   "cell_type": "markdown",
   "metadata": {
    "application/vnd.databricks.v1+cell": {
     "cellMetadata": {},
     "inputWidgets": {},
     "nuid": "76c24578-f88a-480e-8cc6-0b07b44ca30d",
     "showTitle": false,
     "tableResultSettingsMap": {},
     "title": ""
    }
   },
   "source": [
    "#### **4) Format date columns**"
   ]
  },
  {
   "cell_type": "code",
   "execution_count": 0,
   "metadata": {
    "application/vnd.databricks.v1+cell": {
     "cellMetadata": {
      "byteLimit": 2048000,
      "rowLimit": 10000
     },
     "inputWidgets": {},
     "nuid": "076cdffe-2330-4cee-aae4-e9bf66d65097",
     "showTitle": false,
     "tableResultSettingsMap": {},
     "title": ""
    }
   },
   "outputs": [
    {
     "output_type": "display_data",
     "data": {
      "text/html": [
       "<style scoped>\n",
       "  .table-result-container {\n",
       "    max-height: 300px;\n",
       "    overflow: auto;\n",
       "  }\n",
       "  table, th, td {\n",
       "    border: 1px solid black;\n",
       "    border-collapse: collapse;\n",
       "  }\n",
       "  th, td {\n",
       "    padding: 5px;\n",
       "  }\n",
       "  th {\n",
       "    text-align: left;\n",
       "  }\n",
       "</style><div class='table-result-container'><table class='table-result'><thead style='background-color: white'><tr><th>current_date</th><th>yyyy MM dd</th><th>MM/dd/yyyy</th><th>yyyy MMMM dd</th><th>yyyy MMMM dd E</th></tr></thead><tbody><tr><td>2024-09-08</td><td>2024 09 08</td><td>09/08/2024 06:07</td><td>2024 Sep 08</td><td>2024 September 08 Sun</td></tr><tr><td>2024-09-08</td><td>2024 09 08</td><td>09/08/2024 06:07</td><td>2024 Sep 08</td><td>2024 September 08 Sun</td></tr><tr><td>2024-09-08</td><td>2024 09 08</td><td>09/08/2024 06:07</td><td>2024 Sep 08</td><td>2024 September 08 Sun</td></tr><tr><td>2024-09-08</td><td>2024 09 08</td><td>09/08/2024 06:07</td><td>2024 Sep 08</td><td>2024 September 08 Sun</td></tr><tr><td>2024-09-08</td><td>2024 09 08</td><td>09/08/2024 06:07</td><td>2024 Sep 08</td><td>2024 September 08 Sun</td></tr><tr><td>2024-09-08</td><td>2024 09 08</td><td>09/08/2024 06:07</td><td>2024 Sep 08</td><td>2024 September 08 Sun</td></tr><tr><td>2024-09-08</td><td>2024 09 08</td><td>09/08/2024 06:07</td><td>2024 Sep 08</td><td>2024 September 08 Sun</td></tr><tr><td>2024-09-08</td><td>2024 09 08</td><td>09/08/2024 06:07</td><td>2024 Sep 08</td><td>2024 September 08 Sun</td></tr><tr><td>2024-09-08</td><td>2024 09 08</td><td>09/08/2024 06:07</td><td>2024 Sep 08</td><td>2024 September 08 Sun</td></tr><tr><td>2024-09-08</td><td>2024 09 08</td><td>09/08/2024 06:07</td><td>2024 Sep 08</td><td>2024 September 08 Sun</td></tr></tbody></table></div>"
      ]
     },
     "metadata": {
      "application/vnd.databricks.v1+output": {
       "addedWidgets": {},
       "aggData": [],
       "aggError": "",
       "aggOverflow": false,
       "aggSchema": [],
       "aggSeriesLimitReached": false,
       "aggType": "",
       "arguments": {},
       "columnCustomDisplayInfos": {},
       "data": [
        [
         "2024-09-08",
         "2024 09 08",
         "09/08/2024 06:07",
         "2024 Sep 08",
         "2024 September 08 Sun"
        ],
        [
         "2024-09-08",
         "2024 09 08",
         "09/08/2024 06:07",
         "2024 Sep 08",
         "2024 September 08 Sun"
        ],
        [
         "2024-09-08",
         "2024 09 08",
         "09/08/2024 06:07",
         "2024 Sep 08",
         "2024 September 08 Sun"
        ],
        [
         "2024-09-08",
         "2024 09 08",
         "09/08/2024 06:07",
         "2024 Sep 08",
         "2024 September 08 Sun"
        ],
        [
         "2024-09-08",
         "2024 09 08",
         "09/08/2024 06:07",
         "2024 Sep 08",
         "2024 September 08 Sun"
        ],
        [
         "2024-09-08",
         "2024 09 08",
         "09/08/2024 06:07",
         "2024 Sep 08",
         "2024 September 08 Sun"
        ],
        [
         "2024-09-08",
         "2024 09 08",
         "09/08/2024 06:07",
         "2024 Sep 08",
         "2024 September 08 Sun"
        ],
        [
         "2024-09-08",
         "2024 09 08",
         "09/08/2024 06:07",
         "2024 Sep 08",
         "2024 September 08 Sun"
        ],
        [
         "2024-09-08",
         "2024 09 08",
         "09/08/2024 06:07",
         "2024 Sep 08",
         "2024 September 08 Sun"
        ],
        [
         "2024-09-08",
         "2024 09 08",
         "09/08/2024 06:07",
         "2024 Sep 08",
         "2024 September 08 Sun"
        ]
       ],
       "datasetInfos": [],
       "dbfsResultPath": null,
       "isJsonSchema": true,
       "metadata": {},
       "overflow": false,
       "plotOptions": {
        "customPlotOptions": {},
        "displayType": "table",
        "pivotAggregation": null,
        "pivotColumns": null,
        "xColumns": null,
        "yColumns": null
       },
       "removedWidgets": [],
       "schema": [
        {
         "metadata": "{}",
         "name": "current_date",
         "type": "\"date\""
        },
        {
         "metadata": "{}",
         "name": "yyyy MM dd",
         "type": "\"string\""
        },
        {
         "metadata": "{}",
         "name": "MM/dd/yyyy",
         "type": "\"string\""
        },
        {
         "metadata": "{}",
         "name": "yyyy MMMM dd",
         "type": "\"string\""
        },
        {
         "metadata": "{}",
         "name": "yyyy MMMM dd E",
         "type": "\"string\""
        }
       ],
       "type": "table"
      }
     },
     "output_type": "display_data"
    }
   ],
   "source": [
    "# Using date_format()\n",
    "df_format = df_tmstpm_stg.select(current_date().alias(\"current_date\"), \\\n",
    "                           date_format(current_timestamp(),\"yyyy MM dd\").alias(\"yyyy MM dd\"), \\\n",
    "                           date_format(current_timestamp(),\"MM/dd/yyyy hh:mm\").alias(\"MM/dd/yyyy\"), \\\n",
    "                           date_format(current_timestamp(),\"yyyy MMM dd\").alias(\"yyyy MMMM dd\"), \\\n",
    "                           date_format(current_timestamp(),\"yyyy MMMM dd E\").alias(\"yyyy MMMM dd E\")\n",
    "                           )\n",
    "display(df_format.limit(10))"
   ]
  },
  {
   "cell_type": "code",
   "execution_count": 0,
   "metadata": {
    "application/vnd.databricks.v1+cell": {
     "cellMetadata": {
      "byteLimit": 2048000,
      "rowLimit": 10000
     },
     "inputWidgets": {},
     "nuid": "bd7ba09e-f1b8-4d2a-a1db-7ea29654cb03",
     "showTitle": false,
     "tableResultSettingsMap": {},
     "title": ""
    }
   },
   "outputs": [
    {
     "output_type": "display_data",
     "data": {
      "text/html": [
       "<style scoped>\n",
       "  .table-result-container {\n",
       "    max-height: 300px;\n",
       "    overflow: auto;\n",
       "  }\n",
       "  table, th, td {\n",
       "    border: 1px solid black;\n",
       "    border-collapse: collapse;\n",
       "  }\n",
       "  th, td {\n",
       "    padding: 5px;\n",
       "  }\n",
       "  th {\n",
       "    text-align: left;\n",
       "  }\n",
       "</style><div class='table-result-container'><table class='table-result'><thead style='background-color: white'><tr><th>current_date</th><th>yyyy_MM_dd</th><th>MM_dd_yyyy</th><th>yyyy_MMMM_dd</th><th>yyyy_MMMM_dd_E</th></tr></thead><tbody><tr><td>2024-09-08</td><td>2024 09 08</td><td>09/08/2024 06:09</td><td>2024 Sep 08</td><td>2024 September 08 Sun</td></tr></tbody></table></div>"
      ]
     },
     "metadata": {
      "application/vnd.databricks.v1+output": {
       "addedWidgets": {},
       "aggData": [],
       "aggError": "",
       "aggOverflow": false,
       "aggSchema": [],
       "aggSeriesLimitReached": false,
       "aggType": "",
       "arguments": {},
       "columnCustomDisplayInfos": {},
       "data": [
        [
         "2024-09-08",
         "2024 09 08",
         "09/08/2024 06:09",
         "2024 Sep 08",
         "2024 September 08 Sun"
        ]
       ],
       "datasetInfos": [],
       "dbfsResultPath": null,
       "isJsonSchema": true,
       "metadata": {},
       "overflow": false,
       "plotOptions": {
        "customPlotOptions": {},
        "displayType": "table",
        "pivotAggregation": null,
        "pivotColumns": null,
        "xColumns": null,
        "yColumns": null
       },
       "removedWidgets": [],
       "schema": [
        {
         "metadata": "{}",
         "name": "current_date",
         "type": "\"date\""
        },
        {
         "metadata": "{}",
         "name": "yyyy_MM_dd",
         "type": "\"string\""
        },
        {
         "metadata": "{}",
         "name": "MM_dd_yyyy",
         "type": "\"string\""
        },
        {
         "metadata": "{}",
         "name": "yyyy_MMMM_dd",
         "type": "\"string\""
        },
        {
         "metadata": "{}",
         "name": "yyyy_MMMM_dd_E",
         "type": "\"string\""
        }
       ],
       "type": "table"
      }
     },
     "output_type": "display_data"
    }
   ],
   "source": [
    "# SQL\n",
    "spark.sql(\"select current_date() as current_date, \"+\n",
    "      \"date_format(current_timestamp(),'yyyy MM dd') as yyyy_MM_dd, \"+\n",
    "      \"date_format(current_timestamp(),'MM/dd/yyyy hh:mm') as MM_dd_yyyy, \"+\n",
    "      \"date_format(current_timestamp(),'yyyy MMM dd') as yyyy_MMMM_dd, \"+\n",
    "      \"date_format(current_timestamp(),'yyyy MMMM dd E') as yyyy_MMMM_dd_E\").display()"
   ]
  },
  {
   "cell_type": "markdown",
   "metadata": {
    "application/vnd.databricks.v1+cell": {
     "cellMetadata": {},
     "inputWidgets": {},
     "nuid": "d6b7784d-02f3-4f69-8cb6-11a999482004",
     "showTitle": false,
     "tableResultSettingsMap": {},
     "title": ""
    }
   },
   "source": [
    "#### **5) convert date to string data type**"
   ]
  },
  {
   "cell_type": "code",
   "execution_count": 0,
   "metadata": {
    "application/vnd.databricks.v1+cell": {
     "cellMetadata": {
      "byteLimit": 2048000,
      "rowLimit": 10000
     },
     "inputWidgets": {},
     "nuid": "b7fe0670-8cc9-4c77-b4f3-51964873a436",
     "showTitle": false,
     "tableResultSettingsMap": {},
     "title": ""
    }
   },
   "outputs": [
    {
     "output_type": "display_data",
     "data": {
      "text/html": [
       "<style scoped>\n",
       "  .table-result-container {\n",
       "    max-height: 300px;\n",
       "    overflow: auto;\n",
       "  }\n",
       "  table, th, td {\n",
       "    border: 1px solid black;\n",
       "    border-collapse: collapse;\n",
       "  }\n",
       "  th, td {\n",
       "    padding: 5px;\n",
       "  }\n",
       "  th {\n",
       "    text-align: left;\n",
       "  }\n",
       "</style><div class='table-result-container'><table class='table-result'><thead style='background-color: white'><tr><th>Input_Timestamp</th><th>Last_Timestamp</th></tr></thead><tbody><tr><td>05/22/2022</td><td>10/21/2022</td></tr></tbody></table></div>"
      ]
     },
     "metadata": {
      "application/vnd.databricks.v1+output": {
       "addedWidgets": {},
       "aggData": [],
       "aggError": "",
       "aggOverflow": false,
       "aggSchema": [],
       "aggSeriesLimitReached": false,
       "aggType": "",
       "arguments": {},
       "columnCustomDisplayInfos": {},
       "data": [
        [
         "05/22/2022",
         "10/21/2022"
        ]
       ],
       "datasetInfos": [],
       "dbfsResultPath": null,
       "isJsonSchema": true,
       "metadata": {},
       "overflow": false,
       "plotOptions": {
        "customPlotOptions": {},
        "displayType": "table",
        "pivotAggregation": null,
        "pivotColumns": null,
        "xColumns": null,
        "yColumns": null
       },
       "removedWidgets": [],
       "schema": [
        {
         "metadata": "{}",
         "name": "Input_Timestamp",
         "type": "\"string\""
        },
        {
         "metadata": "{}",
         "name": "Last_Timestamp",
         "type": "\"string\""
        }
       ],
       "type": "table"
      }
     },
     "output_type": "display_data"
    }
   ],
   "source": [
    "data = spark.createDataFrame([('05/22/2022', '10/21/2022')], schema=['Input_Timestamp', 'Last_Timestamp'])\n",
    "display(data)"
   ]
  },
  {
   "cell_type": "code",
   "execution_count": 0,
   "metadata": {
    "application/vnd.databricks.v1+cell": {
     "cellMetadata": {
      "byteLimit": 2048000,
      "rowLimit": 10000
     },
     "inputWidgets": {},
     "nuid": "b3cd900b-fea5-4d52-a2ea-0d85f91aa13e",
     "showTitle": false,
     "tableResultSettingsMap": {},
     "title": ""
    }
   },
   "outputs": [
    {
     "output_type": "display_data",
     "data": {
      "text/html": [
       "<style scoped>\n",
       "  .table-result-container {\n",
       "    max-height: 300px;\n",
       "    overflow: auto;\n",
       "  }\n",
       "  table, th, td {\n",
       "    border: 1px solid black;\n",
       "    border-collapse: collapse;\n",
       "  }\n",
       "  th, td {\n",
       "    padding: 5px;\n",
       "  }\n",
       "  th {\n",
       "    text-align: left;\n",
       "  }\n",
       "</style><div class='table-result-container'><table class='table-result'><thead style='background-color: white'><tr><th>Input_Timestamp</th><th>Last_Timestamp</th></tr></thead><tbody><tr><td>2022-05-22</td><td>2022-10-21</td></tr></tbody></table></div>"
      ]
     },
     "metadata": {
      "application/vnd.databricks.v1+output": {
       "addedWidgets": {},
       "aggData": [],
       "aggError": "",
       "aggOverflow": false,
       "aggSchema": [],
       "aggSeriesLimitReached": false,
       "aggType": "",
       "arguments": {},
       "columnCustomDisplayInfos": {},
       "data": [
        [
         "2022-05-22",
         "2022-10-21"
        ]
       ],
       "datasetInfos": [],
       "dbfsResultPath": null,
       "isJsonSchema": true,
       "metadata": {},
       "overflow": false,
       "plotOptions": {
        "customPlotOptions": {},
        "displayType": "table",
        "pivotAggregation": null,
        "pivotColumns": null,
        "xColumns": null,
        "yColumns": null
       },
       "removedWidgets": [],
       "schema": [
        {
         "metadata": "{}",
         "name": "Input_Timestamp",
         "type": "\"date\""
        },
        {
         "metadata": "{}",
         "name": "Last_Timestamp",
         "type": "\"date\""
        }
       ],
       "type": "table"
      }
     },
     "output_type": "display_data"
    }
   ],
   "source": [
    "# to_date() converts \"date string\" into \"date\". We need to specify format of date in the string in the function\n",
    "# convert string to date\n",
    "string_date = data \\\n",
    "    .withColumn('Input_Timestamp', to_date(col(\"Input_Timestamp\"), \"MM/dd/yyyy\")) \\\n",
    "    .withColumn('Last_Timestamp', to_date(col(\"Last_Timestamp\"), \"MM/dd/yyyy\"))\n",
    "\n",
    "display(string_date)"
   ]
  },
  {
   "cell_type": "code",
   "execution_count": 0,
   "metadata": {
    "application/vnd.databricks.v1+cell": {
     "cellMetadata": {
      "byteLimit": 2048000,
      "rowLimit": 10000
     },
     "inputWidgets": {},
     "nuid": "6283824e-16b2-4937-9498-5c44d3c1fe4e",
     "showTitle": false,
     "tableResultSettingsMap": {},
     "title": ""
    }
   },
   "outputs": [
    {
     "output_type": "display_data",
     "data": {
      "text/html": [
       "<style scoped>\n",
       "  .table-result-container {\n",
       "    max-height: 300px;\n",
       "    overflow: auto;\n",
       "  }\n",
       "  table, th, td {\n",
       "    border: 1px solid black;\n",
       "    border-collapse: collapse;\n",
       "  }\n",
       "  th, td {\n",
       "    padding: 5px;\n",
       "  }\n",
       "  th {\n",
       "    text-align: left;\n",
       "  }\n",
       "</style><div class='table-result-container'><table class='table-result'><thead style='background-color: white'><tr><th>Input_Timestamp</th><th>Last_Timestamp</th></tr></thead><tbody><tr><td>22-05-2022</td><td>21-10-2022</td></tr></tbody></table></div>"
      ]
     },
     "metadata": {
      "application/vnd.databricks.v1+output": {
       "addedWidgets": {},
       "aggData": [],
       "aggError": "",
       "aggOverflow": false,
       "aggSchema": [],
       "aggSeriesLimitReached": false,
       "aggType": "",
       "arguments": {},
       "columnCustomDisplayInfos": {},
       "data": [
        [
         "22-05-2022",
         "21-10-2022"
        ]
       ],
       "datasetInfos": [],
       "dbfsResultPath": null,
       "isJsonSchema": true,
       "metadata": {},
       "overflow": false,
       "plotOptions": {
        "customPlotOptions": {},
        "displayType": "table",
        "pivotAggregation": null,
        "pivotColumns": null,
        "xColumns": null,
        "yColumns": null
       },
       "removedWidgets": [],
       "schema": [
        {
         "metadata": "{}",
         "name": "Input_Timestamp",
         "type": "\"string\""
        },
        {
         "metadata": "{}",
         "name": "Last_Timestamp",
         "type": "\"string\""
        }
       ],
       "type": "table"
      }
     },
     "output_type": "display_data"
    }
   ],
   "source": [
    "# convert date to string\n",
    "date_string = string_date \\\n",
    "    .withColumn('Input_Timestamp', date_format(col(\"Input_Timestamp\"), \"dd-MM-yyyy\")) \\\n",
    "    .withColumn('Last_Timestamp', date_format(col(\"Last_Timestamp\"), \"dd-MM-yyyy\"))\n",
    "\n",
    "display(date_string)"
   ]
  },
  {
   "cell_type": "code",
   "execution_count": 0,
   "metadata": {
    "application/vnd.databricks.v1+cell": {
     "cellMetadata": {
      "byteLimit": 2048000,
      "rowLimit": 10000
     },
     "inputWidgets": {},
     "nuid": "d81e389b-584a-4daa-a352-55b56815c09e",
     "showTitle": false,
     "tableResultSettingsMap": {},
     "title": ""
    }
   },
   "outputs": [
    {
     "output_type": "display_data",
     "data": {
      "text/html": [
       "<style scoped>\n",
       "  .table-result-container {\n",
       "    max-height: 300px;\n",
       "    overflow: auto;\n",
       "  }\n",
       "  table, th, td {\n",
       "    border: 1px solid black;\n",
       "    border-collapse: collapse;\n",
       "  }\n",
       "  th, td {\n",
       "    padding: 5px;\n",
       "  }\n",
       "  th {\n",
       "    text-align: left;\n",
       "  }\n",
       "</style><div class='table-result-container'><table class='table-result'><thead style='background-color: white'><tr><th>Input_Timestamp</th><th>Last_Timestamp</th></tr></thead><tbody><tr><td>22-05-2022</td><td>21-10-2022</td></tr></tbody></table></div>"
      ]
     },
     "metadata": {
      "application/vnd.databricks.v1+output": {
       "addedWidgets": {},
       "aggData": [],
       "aggError": "",
       "aggOverflow": false,
       "aggSchema": [],
       "aggSeriesLimitReached": false,
       "aggType": "",
       "arguments": {},
       "columnCustomDisplayInfos": {},
       "data": [
        [
         "22-05-2022",
         "21-10-2022"
        ]
       ],
       "datasetInfos": [],
       "dbfsResultPath": null,
       "isJsonSchema": true,
       "metadata": {},
       "overflow": false,
       "plotOptions": {
        "customPlotOptions": {},
        "displayType": "table",
        "pivotAggregation": null,
        "pivotColumns": null,
        "xColumns": null,
        "yColumns": null
       },
       "removedWidgets": [],
       "schema": [
        {
         "metadata": "{}",
         "name": "Input_Timestamp",
         "type": "\"string\""
        },
        {
         "metadata": "{}",
         "name": "Last_Timestamp",
         "type": "\"string\""
        }
       ],
       "type": "table"
      }
     },
     "output_type": "display_data"
    }
   ],
   "source": [
    "# Assuming 'data' is your DataFrame\n",
    "date_format_corrected = data \\\n",
    "    .withColumn('Input_Timestamp', date_format(to_date(col(\"Input_Timestamp\"), \"MM/dd/yyyy\"), \"dd-MM-yyyy\")) \\\n",
    "    .withColumn('Last_Timestamp', date_format(to_date(col(\"Last_Timestamp\"), \"MM/dd/yyyy\"), \"dd-MM-yyyy\"))\n",
    "\n",
    "display(date_format_corrected)"
   ]
  }
 ],
 "metadata": {
  "application/vnd.databricks.v1+notebook": {
   "computePreferences": null,
   "dashboards": [],
   "environmentMetadata": null,
   "language": "python",
   "notebookMetadata": {
    "mostRecentlyExecutedCommandWithImplicitDF": {
     "commandId": 1021705985537559,
     "dataframes": [
      "_sqldf"
     ]
    },
    "pythonIndentUnit": 4
   },
   "notebookName": "91_date_format( )_to_date( )_to_timestamp( )_date to string & string to date",
   "widgets": {}
  }
 },
 "nbformat": 4,
 "nbformat_minor": 0
}
