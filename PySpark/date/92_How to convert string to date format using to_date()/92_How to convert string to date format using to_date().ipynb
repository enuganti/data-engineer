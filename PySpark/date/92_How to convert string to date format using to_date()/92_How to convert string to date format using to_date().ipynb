{
 "cells": [
  {
   "cell_type": "markdown",
   "metadata": {
    "application/vnd.databricks.v1+cell": {
     "cellMetadata": {},
     "inputWidgets": {},
     "nuid": "2bff5491-3624-4996-9cb9-57728818f68d",
     "showTitle": false,
     "tableResultSettingsMap": {},
     "title": ""
    }
   },
   "source": [
    "#### **to_date()**\n",
    "\n",
    "**How to convert string to date format?**\n",
    "\n",
    "✅ **to_date()** function is used to format a **date string / timestamp string column** into the **Date Type column** using a **specified format**."
   ]
  },
  {
   "cell_type": "markdown",
   "metadata": {
    "application/vnd.databricks.v1+cell": {
     "cellMetadata": {},
     "inputWidgets": {},
     "nuid": "a0a56e8f-7691-4c72-b4d6-eafcef6ee795",
     "showTitle": false,
     "tableResultSettingsMap": {},
     "title": ""
    }
   },
   "source": [
    "**Syntax:**\n",
    "\n",
    "     to_date(column,format)\n",
    "     to_date(col(\"string_column\"),\"MM-dd-yyyy\") "
   ]
  },
  {
   "cell_type": "markdown",
   "metadata": {
    "application/vnd.databricks.v1+cell": {
     "cellMetadata": {},
     "inputWidgets": {},
     "nuid": "7f46bf7b-b3e1-42a1-9ef4-fdf773e50533",
     "showTitle": false,
     "tableResultSettingsMap": {},
     "title": ""
    }
   },
   "source": [
    "#### **to_date() Vs date_format()**"
   ]
  },
  {
   "cell_type": "markdown",
   "metadata": {
    "application/vnd.databricks.v1+cell": {
     "cellMetadata": {},
     "inputWidgets": {},
     "nuid": "74750628-7e9c-49ff-8f36-a132b1355d32",
     "showTitle": false,
     "tableResultSettingsMap": {},
     "title": ""
    }
   },
   "source": [
    "**1) to_date()**\n",
    "\n",
    "✅ to_date() function is used to format **string (StringType) to date (DateType)** column.\n",
    "\n",
    "✅ If the **format is not provide**, to_date() takes the **default value as 'yyyy-MM-dd'**.\n",
    "\n",
    "✅ to_date() accepts the first argument in any date format.\n",
    "\n",
    "✅ If the input column values **does not match** with the format specified (second argument) then to_date() populates the new column with **null**.\n",
    "\n",
    "✅ Returns **NULL** if the format does **not match**.\n",
    "\n",
    "✅ Extracts only the **date** portion **(removes time part if present)**."
   ]
  },
  {
   "cell_type": "markdown",
   "metadata": {
    "application/vnd.databricks.v1+cell": {
     "cellMetadata": {},
     "inputWidgets": {},
     "nuid": "2bb6cfc7-c56d-4dfb-8690-63fb74ac3c06",
     "showTitle": false,
     "tableResultSettingsMap": {},
     "title": ""
    }
   },
   "source": [
    "**2) date_format()**\n",
    "\n",
    "✅ date_format() function is used to **format date (DateType / StringType) to (StringType)** in the specified format.\n",
    "\n",
    "✅ If the format is **not provide**, date_format() throws a **TypeError**.\n",
    "\n",
    "✅ date_format() requires the **first argument** to be in **'yyyy-MM-dd'** format, else it populates the **new column with null**.\n",
    "\n",
    "✅ If the **input column values does not match** with the **format** specified (second argument) then date_format() converts it in the specified **format**."
   ]
  },
  {
   "cell_type": "code",
   "execution_count": 0,
   "metadata": {
    "application/vnd.databricks.v1+cell": {
     "cellMetadata": {
      "byteLimit": 2048000,
      "rowLimit": 10000
     },
     "collapsed": true,
     "inputWidgets": {},
     "nuid": "119b3bd1-5ece-4fbb-bf2c-f66d48ff493c",
     "showTitle": false,
     "tableResultSettingsMap": {},
     "title": ""
    }
   },
   "outputs": [
    {
     "output_type": "display_data",
     "data": {
      "text/html": [
       "<style scoped>\n",
       "  .table-result-container {\n",
       "    max-height: 300px;\n",
       "    overflow: auto;\n",
       "  }\n",
       "  table, th, td {\n",
       "    border: 1px solid black;\n",
       "    border-collapse: collapse;\n",
       "  }\n",
       "  th, td {\n",
       "    padding: 5px;\n",
       "  }\n",
       "  th {\n",
       "    text-align: left;\n",
       "  }\n",
       "</style><div class='table-result-container'><table class='table-result'><thead style='background-color: white'><tr><th>path</th><th>name</th><th>size</th><th>modificationTime</th></tr></thead><tbody><tr><td>dbfs:/FileStore/tables/Flatten Nested Array.json</td><td>Flatten Nested Array.json</td><td>3756</td><td>1718618620000</td></tr><tr><td>dbfs:/FileStore/tables/MarketPrice-1.csv</td><td>MarketPrice-1.csv</td><td>19528</td><td>1719656512000</td></tr><tr><td>dbfs:/FileStore/tables/MarketPrice.csv</td><td>MarketPrice.csv</td><td>19528</td><td>1719656208000</td></tr><tr><td>dbfs:/FileStore/tables/MultiLineJSON.json/</td><td>MultiLineJSON.json/</td><td>0</td><td>0</td></tr><tr><td>dbfs:/FileStore/tables/MultiLineJSON01.json/</td><td>MultiLineJSON01.json/</td><td>0</td><td>0</td></tr><tr><td>dbfs:/FileStore/tables/MultiLineJSON1.json/</td><td>MultiLineJSON1.json/</td><td>0</td><td>0</td></tr><tr><td>dbfs:/FileStore/tables/MultiLineJSON123.json/</td><td>MultiLineJSON123.json/</td><td>0</td><td>0</td></tr><tr><td>dbfs:/FileStore/tables/MultiLineJSON2.json/</td><td>MultiLineJSON2.json/</td><td>0</td><td>0</td></tr><tr><td>dbfs:/FileStore/tables/Question7.csv</td><td>Question7.csv</td><td>154</td><td>1725816645000</td></tr><tr><td>dbfs:/FileStore/tables/RunningData_Rev02.csv</td><td>RunningData_Rev02.csv</td><td>1222</td><td>1719810609000</td></tr><tr><td>dbfs:/FileStore/tables/RunningData_Rev03.csv</td><td>RunningData_Rev03.csv</td><td>1216</td><td>1719810946000</td></tr><tr><td>dbfs:/FileStore/tables/SalesData_Rev02.csv</td><td>SalesData_Rev02.csv</td><td>472</td><td>1719810784000</td></tr><tr><td>dbfs:/FileStore/tables/SalesData_Rev03.csv</td><td>SalesData_Rev03.csv</td><td>460</td><td>1719810973000</td></tr><tr><td>dbfs:/FileStore/tables/Sales_Collect.csv</td><td>Sales_Collect.csv</td><td>182972</td><td>1720293547000</td></tr><tr><td>dbfs:/FileStore/tables/Sales_Collect_Rev02.csv</td><td>Sales_Collect_Rev02.csv</td><td>166107</td><td>1719810826000</td></tr><tr><td>dbfs:/FileStore/tables/Sales_Collect_Rev03.csv</td><td>Sales_Collect_Rev03.csv</td><td>182828</td><td>1719811001000</td></tr><tr><td>dbfs:/FileStore/tables/StructType-1.csv</td><td>StructType-1.csv</td><td>648</td><td>1717934508000</td></tr><tr><td>dbfs:/FileStore/tables/StructType-2.csv</td><td>StructType-2.csv</td><td>648</td><td>1717935891000</td></tr><tr><td>dbfs:/FileStore/tables/StructType-3.csv</td><td>StructType-3.csv</td><td>648</td><td>1717936009000</td></tr><tr><td>dbfs:/FileStore/tables/StructType-4.csv</td><td>StructType-4.csv</td><td>648</td><td>1717936144000</td></tr><tr><td>dbfs:/FileStore/tables/StructType-5.csv</td><td>StructType-5.csv</td><td>648</td><td>1717936276000</td></tr><tr><td>dbfs:/FileStore/tables/StructType.csv</td><td>StructType.csv</td><td>648</td><td>1717934306000</td></tr><tr><td>dbfs:/FileStore/tables/cast_data.txt</td><td>cast_data.txt</td><td>219</td><td>1720376019000</td></tr><tr><td>dbfs:/FileStore/tables/date_format-1.csv</td><td>date_format-1.csv</td><td>1656</td><td>1725709118000</td></tr><tr><td>dbfs:/FileStore/tables/date_format-2.csv</td><td>date_format-2.csv</td><td>1923</td><td>1725709313000</td></tr><tr><td>dbfs:/FileStore/tables/date_format.csv</td><td>date_format.csv</td><td>1119</td><td>1725645247000</td></tr><tr><td>dbfs:/FileStore/tables/from_unixtime-1.csv</td><td>from_unixtime-1.csv</td><td>9523</td><td>1725903833000</td></tr><tr><td>dbfs:/FileStore/tables/from_unixtime.csv</td><td>from_unixtime.csv</td><td>9523</td><td>1725901373000</td></tr><tr><td>dbfs:/FileStore/tables/iterate_columns.csv</td><td>iterate_columns.csv</td><td>2023849</td><td>1719767610000</td></tr><tr><td>dbfs:/FileStore/tables/multiline.json</td><td>multiline.json</td><td>1262</td><td>1725858755000</td></tr><tr><td>dbfs:/FileStore/tables/multiline.txt</td><td>multiline.txt</td><td>178</td><td>1721655243000</td></tr><tr><td>dbfs:/FileStore/tables/multiline_nested-1.json</td><td>multiline_nested-1.json</td><td>2233</td><td>1725884748000</td></tr><tr><td>dbfs:/FileStore/tables/multiline_nested.json</td><td>multiline_nested.json</td><td>1731</td><td>1725870338000</td></tr><tr><td>dbfs:/FileStore/tables/person-1.json</td><td>person-1.json</td><td>4608</td><td>1718609578000</td></tr><tr><td>dbfs:/FileStore/tables/person-2.json</td><td>person-2.json</td><td>4616</td><td>1718610165000</td></tr><tr><td>dbfs:/FileStore/tables/person.json</td><td>person.json</td><td>4616</td><td>1718609425000</td></tr><tr><td>dbfs:/FileStore/tables/posexplode.txt</td><td>posexplode.txt</td><td>264</td><td>1718525465000</td></tr><tr><td>dbfs:/FileStore/tables/singleline-1.json</td><td>singleline-1.json</td><td>1000</td><td>1725857789000</td></tr><tr><td>dbfs:/FileStore/tables/singleline-2.json</td><td>singleline-2.json</td><td>999</td><td>1725858047000</td></tr><tr><td>dbfs:/FileStore/tables/singleline-3.json</td><td>singleline-3.json</td><td>1003</td><td>1725858173000</td></tr><tr><td>dbfs:/FileStore/tables/singleline-4.json</td><td>singleline-4.json</td><td>1004</td><td>1725858244000</td></tr><tr><td>dbfs:/FileStore/tables/singleline-5.json</td><td>singleline-5.json</td><td>1006</td><td>1725858294000</td></tr><tr><td>dbfs:/FileStore/tables/singleline-6.json</td><td>singleline-6.json</td><td>1006</td><td>1725858459000</td></tr><tr><td>dbfs:/FileStore/tables/singleline.json</td><td>singleline.json</td><td>1006</td><td>1725856537000</td></tr><tr><td>dbfs:/FileStore/tables/singlelineList.json</td><td>singlelineList.json</td><td>1032</td><td>1725892526000</td></tr><tr><td>dbfs:/FileStore/tables/singleline_nested-1.json</td><td>singleline_nested-1.json</td><td>1388</td><td>1725883300000</td></tr><tr><td>dbfs:/FileStore/tables/singleline_nested.json</td><td>singleline_nested.json</td><td>1096</td><td>1725870020000</td></tr><tr><td>dbfs:/FileStore/tables/split.txt</td><td>split.txt</td><td>390</td><td>1721625608000</td></tr><tr><td>dbfs:/FileStore/tables/syntax.jpg</td><td>syntax.jpg</td><td>32647</td><td>1725976365000</td></tr><tr><td>dbfs:/FileStore/tables/timestamp_millis-1.csv</td><td>timestamp_millis-1.csv</td><td>7513</td><td>1725903371000</td></tr><tr><td>dbfs:/FileStore/tables/timestamp_millis-2.csv</td><td>timestamp_millis-2.csv</td><td>7513</td><td>1725903430000</td></tr><tr><td>dbfs:/FileStore/tables/timestamp_millis-3.csv</td><td>timestamp_millis-3.csv</td><td>8613</td><td>1725903701000</td></tr><tr><td>dbfs:/FileStore/tables/timestamp_millis.csv</td><td>timestamp_millis.csv</td><td>7533</td><td>1725903084000</td></tr><tr><td>dbfs:/FileStore/tables/titanic.csv</td><td>titanic.csv</td><td>60302</td><td>1717853233000</td></tr><tr><td>dbfs:/FileStore/tables/to_date.csv</td><td>to_date.csv</td><td>1923</td><td>1726112031000</td></tr></tbody></table></div>"
      ]
     },
     "metadata": {
      "application/vnd.databricks.v1+output": {
       "addedWidgets": {},
       "aggData": [],
       "aggError": "",
       "aggOverflow": false,
       "aggSchema": [],
       "aggSeriesLimitReached": false,
       "aggType": "",
       "arguments": {},
       "columnCustomDisplayInfos": {},
       "data": [
        [
         "dbfs:/FileStore/tables/Flatten Nested Array.json",
         "Flatten Nested Array.json",
         3756,
         1718618620000
        ],
        [
         "dbfs:/FileStore/tables/MarketPrice-1.csv",
         "MarketPrice-1.csv",
         19528,
         1719656512000
        ],
        [
         "dbfs:/FileStore/tables/MarketPrice.csv",
         "MarketPrice.csv",
         19528,
         1719656208000
        ],
        [
         "dbfs:/FileStore/tables/MultiLineJSON.json/",
         "MultiLineJSON.json/",
         0,
         0
        ],
        [
         "dbfs:/FileStore/tables/MultiLineJSON01.json/",
         "MultiLineJSON01.json/",
         0,
         0
        ],
        [
         "dbfs:/FileStore/tables/MultiLineJSON1.json/",
         "MultiLineJSON1.json/",
         0,
         0
        ],
        [
         "dbfs:/FileStore/tables/MultiLineJSON123.json/",
         "MultiLineJSON123.json/",
         0,
         0
        ],
        [
         "dbfs:/FileStore/tables/MultiLineJSON2.json/",
         "MultiLineJSON2.json/",
         0,
         0
        ],
        [
         "dbfs:/FileStore/tables/Question7.csv",
         "Question7.csv",
         154,
         1725816645000
        ],
        [
         "dbfs:/FileStore/tables/RunningData_Rev02.csv",
         "RunningData_Rev02.csv",
         1222,
         1719810609000
        ],
        [
         "dbfs:/FileStore/tables/RunningData_Rev03.csv",
         "RunningData_Rev03.csv",
         1216,
         1719810946000
        ],
        [
         "dbfs:/FileStore/tables/SalesData_Rev02.csv",
         "SalesData_Rev02.csv",
         472,
         1719810784000
        ],
        [
         "dbfs:/FileStore/tables/SalesData_Rev03.csv",
         "SalesData_Rev03.csv",
         460,
         1719810973000
        ],
        [
         "dbfs:/FileStore/tables/Sales_Collect.csv",
         "Sales_Collect.csv",
         182972,
         1720293547000
        ],
        [
         "dbfs:/FileStore/tables/Sales_Collect_Rev02.csv",
         "Sales_Collect_Rev02.csv",
         166107,
         1719810826000
        ],
        [
         "dbfs:/FileStore/tables/Sales_Collect_Rev03.csv",
         "Sales_Collect_Rev03.csv",
         182828,
         1719811001000
        ],
        [
         "dbfs:/FileStore/tables/StructType-1.csv",
         "StructType-1.csv",
         648,
         1717934508000
        ],
        [
         "dbfs:/FileStore/tables/StructType-2.csv",
         "StructType-2.csv",
         648,
         1717935891000
        ],
        [
         "dbfs:/FileStore/tables/StructType-3.csv",
         "StructType-3.csv",
         648,
         1717936009000
        ],
        [
         "dbfs:/FileStore/tables/StructType-4.csv",
         "StructType-4.csv",
         648,
         1717936144000
        ],
        [
         "dbfs:/FileStore/tables/StructType-5.csv",
         "StructType-5.csv",
         648,
         1717936276000
        ],
        [
         "dbfs:/FileStore/tables/StructType.csv",
         "StructType.csv",
         648,
         1717934306000
        ],
        [
         "dbfs:/FileStore/tables/cast_data.txt",
         "cast_data.txt",
         219,
         1720376019000
        ],
        [
         "dbfs:/FileStore/tables/date_format-1.csv",
         "date_format-1.csv",
         1656,
         1725709118000
        ],
        [
         "dbfs:/FileStore/tables/date_format-2.csv",
         "date_format-2.csv",
         1923,
         1725709313000
        ],
        [
         "dbfs:/FileStore/tables/date_format.csv",
         "date_format.csv",
         1119,
         1725645247000
        ],
        [
         "dbfs:/FileStore/tables/from_unixtime-1.csv",
         "from_unixtime-1.csv",
         9523,
         1725903833000
        ],
        [
         "dbfs:/FileStore/tables/from_unixtime.csv",
         "from_unixtime.csv",
         9523,
         1725901373000
        ],
        [
         "dbfs:/FileStore/tables/iterate_columns.csv",
         "iterate_columns.csv",
         2023849,
         1719767610000
        ],
        [
         "dbfs:/FileStore/tables/multiline.json",
         "multiline.json",
         1262,
         1725858755000
        ],
        [
         "dbfs:/FileStore/tables/multiline.txt",
         "multiline.txt",
         178,
         1721655243000
        ],
        [
         "dbfs:/FileStore/tables/multiline_nested-1.json",
         "multiline_nested-1.json",
         2233,
         1725884748000
        ],
        [
         "dbfs:/FileStore/tables/multiline_nested.json",
         "multiline_nested.json",
         1731,
         1725870338000
        ],
        [
         "dbfs:/FileStore/tables/person-1.json",
         "person-1.json",
         4608,
         1718609578000
        ],
        [
         "dbfs:/FileStore/tables/person-2.json",
         "person-2.json",
         4616,
         1718610165000
        ],
        [
         "dbfs:/FileStore/tables/person.json",
         "person.json",
         4616,
         1718609425000
        ],
        [
         "dbfs:/FileStore/tables/posexplode.txt",
         "posexplode.txt",
         264,
         1718525465000
        ],
        [
         "dbfs:/FileStore/tables/singleline-1.json",
         "singleline-1.json",
         1000,
         1725857789000
        ],
        [
         "dbfs:/FileStore/tables/singleline-2.json",
         "singleline-2.json",
         999,
         1725858047000
        ],
        [
         "dbfs:/FileStore/tables/singleline-3.json",
         "singleline-3.json",
         1003,
         1725858173000
        ],
        [
         "dbfs:/FileStore/tables/singleline-4.json",
         "singleline-4.json",
         1004,
         1725858244000
        ],
        [
         "dbfs:/FileStore/tables/singleline-5.json",
         "singleline-5.json",
         1006,
         1725858294000
        ],
        [
         "dbfs:/FileStore/tables/singleline-6.json",
         "singleline-6.json",
         1006,
         1725858459000
        ],
        [
         "dbfs:/FileStore/tables/singleline.json",
         "singleline.json",
         1006,
         1725856537000
        ],
        [
         "dbfs:/FileStore/tables/singlelineList.json",
         "singlelineList.json",
         1032,
         1725892526000
        ],
        [
         "dbfs:/FileStore/tables/singleline_nested-1.json",
         "singleline_nested-1.json",
         1388,
         1725883300000
        ],
        [
         "dbfs:/FileStore/tables/singleline_nested.json",
         "singleline_nested.json",
         1096,
         1725870020000
        ],
        [
         "dbfs:/FileStore/tables/split.txt",
         "split.txt",
         390,
         1721625608000
        ],
        [
         "dbfs:/FileStore/tables/syntax.jpg",
         "syntax.jpg",
         32647,
         1725976365000
        ],
        [
         "dbfs:/FileStore/tables/timestamp_millis-1.csv",
         "timestamp_millis-1.csv",
         7513,
         1725903371000
        ],
        [
         "dbfs:/FileStore/tables/timestamp_millis-2.csv",
         "timestamp_millis-2.csv",
         7513,
         1725903430000
        ],
        [
         "dbfs:/FileStore/tables/timestamp_millis-3.csv",
         "timestamp_millis-3.csv",
         8613,
         1725903701000
        ],
        [
         "dbfs:/FileStore/tables/timestamp_millis.csv",
         "timestamp_millis.csv",
         7533,
         1725903084000
        ],
        [
         "dbfs:/FileStore/tables/titanic.csv",
         "titanic.csv",
         60302,
         1717853233000
        ],
        [
         "dbfs:/FileStore/tables/to_date.csv",
         "to_date.csv",
         1923,
         1726112031000
        ]
       ],
       "datasetInfos": [],
       "dbfsResultPath": null,
       "isJsonSchema": true,
       "metadata": {
        "isDbfsCommandResult": false
       },
       "overflow": false,
       "plotOptions": {
        "customPlotOptions": {},
        "displayType": "table",
        "pivotAggregation": null,
        "pivotColumns": null,
        "xColumns": null,
        "yColumns": null
       },
       "removedWidgets": [],
       "schema": [
        {
         "metadata": "{}",
         "name": "path",
         "type": "\"string\""
        },
        {
         "metadata": "{}",
         "name": "name",
         "type": "\"string\""
        },
        {
         "metadata": "{}",
         "name": "size",
         "type": "\"long\""
        },
        {
         "metadata": "{}",
         "name": "modificationTime",
         "type": "\"long\""
        }
       ],
       "type": "table"
      }
     },
     "output_type": "display_data"
    }
   ],
   "source": [
    "%fs ls /FileStore/tables "
   ]
  },
  {
   "cell_type": "code",
   "execution_count": 0,
   "metadata": {
    "application/vnd.databricks.v1+cell": {
     "cellMetadata": {
      "byteLimit": 2048000,
      "rowLimit": 10000
     },
     "inputWidgets": {},
     "nuid": "0c7c84ad-7024-44e1-9839-0fccea912eb2",
     "showTitle": false,
     "tableResultSettingsMap": {},
     "title": ""
    }
   },
   "outputs": [
    {
     "output_type": "display_data",
     "data": {
      "text/html": [
       "<style scoped>\n",
       "  .table-result-container {\n",
       "    max-height: 300px;\n",
       "    overflow: auto;\n",
       "  }\n",
       "  table, th, td {\n",
       "    border: 1px solid black;\n",
       "    border-collapse: collapse;\n",
       "  }\n",
       "  th, td {\n",
       "    padding: 5px;\n",
       "  }\n",
       "  th {\n",
       "    text-align: left;\n",
       "  }\n",
       "</style><div class='table-result-container'><table class='table-result'><thead style='background-color: white'><tr><th>input_timestamp</th><th>Sensex_Category</th><th>Label_Type</th><th>Last_transaction_date</th><th>Effective_Date</th><th>last_timestamp</th><th>pymt_timestamp</th></tr></thead><tbody><tr><td>25/04/2023 2:00</td><td>Top</td><td>average</td><td>2024-02-26</td><td>6-Feb-23</td><td>25/04/2023 24:56:18</td><td>25/04/2023 2</td></tr><tr><td>26/04/2023 6:01</td><td>Top</td><td>average</td><td>2023-12-21</td><td>6-Feb-23</td><td>25/04/2002 21:12:00</td><td>26/04/2023 6</td></tr><tr><td>20/01/2020 4:01</td><td>Top</td><td>average</td><td>2025-03-27</td><td>8-Jan-24</td><td>25/04/2021 12:34:01</td><td>20/01/2020 4</td></tr><tr><td>26/04/2023 2:02</td><td>Top</td><td>average</td><td>2023-12-27</td><td>8-Jan-24</td><td>25/04/1957 20:12:01</td><td>26/04/2023 2</td></tr><tr><td>25/04/2023 5:02</td><td>Top</td><td>average</td><td>2024-04-29</td><td>6-Mar-23</td><td>25/04/2023 23:45:22</td><td>25/04/2023 5</td></tr><tr><td>25/04/2023 9:03</td><td>Forward</td><td>medium</td><td>2024-12-27</td><td>6-Mar-23</td><td>25/04/2024 14:12:02</td><td>25/04/2023 9</td></tr><tr><td>25/04/2023 7:03</td><td>Forward</td><td>medium</td><td>2024-03-26</td><td>6-Jan-25</td><td>25/04/2023 20:00:03</td><td>25/04/2023 7</td></tr><tr><td>26/03/2023 8:04</td><td>Forward</td><td>medium</td><td>2024-11-28</td><td>6-Jan-25</td><td>25/04/2024 14:12:03</td><td>26/03/2023 8</td></tr><tr><td>25/01/2022 4:04</td><td>Forward</td><td>medium</td><td>2023-12-27</td><td>6-Apr-23</td><td>25/05/2021 23:45:04</td><td>25/01/2022 4</td></tr><tr><td>26/03/2023 8:05</td><td>Forward</td><td>medium</td><td>2023-05-15</td><td>6-Apr-23</td><td>25/04/2024 14:12:04</td><td>26/03/2023 8</td></tr></tbody></table></div>"
      ]
     },
     "metadata": {
      "application/vnd.databricks.v1+output": {
       "addedWidgets": {},
       "aggData": [],
       "aggError": "",
       "aggOverflow": false,
       "aggSchema": [],
       "aggSeriesLimitReached": false,
       "aggType": "",
       "arguments": {},
       "columnCustomDisplayInfos": {},
       "data": [
        [
         "25/04/2023 2:00",
         "Top",
         "average",
         "2024-02-26",
         "6-Feb-23",
         "25/04/2023 24:56:18",
         "25/04/2023 2"
        ],
        [
         "26/04/2023 6:01",
         "Top",
         "average",
         "2023-12-21",
         "6-Feb-23",
         "25/04/2002 21:12:00",
         "26/04/2023 6"
        ],
        [
         "20/01/2020 4:01",
         "Top",
         "average",
         "2025-03-27",
         "8-Jan-24",
         "25/04/2021 12:34:01",
         "20/01/2020 4"
        ],
        [
         "26/04/2023 2:02",
         "Top",
         "average",
         "2023-12-27",
         "8-Jan-24",
         "25/04/1957 20:12:01",
         "26/04/2023 2"
        ],
        [
         "25/04/2023 5:02",
         "Top",
         "average",
         "2024-04-29",
         "6-Mar-23",
         "25/04/2023 23:45:22",
         "25/04/2023 5"
        ],
        [
         "25/04/2023 9:03",
         "Forward",
         "medium",
         "2024-12-27",
         "6-Mar-23",
         "25/04/2024 14:12:02",
         "25/04/2023 9"
        ],
        [
         "25/04/2023 7:03",
         "Forward",
         "medium",
         "2024-03-26",
         "6-Jan-25",
         "25/04/2023 20:00:03",
         "25/04/2023 7"
        ],
        [
         "26/03/2023 8:04",
         "Forward",
         "medium",
         "2024-11-28",
         "6-Jan-25",
         "25/04/2024 14:12:03",
         "26/03/2023 8"
        ],
        [
         "25/01/2022 4:04",
         "Forward",
         "medium",
         "2023-12-27",
         "6-Apr-23",
         "25/05/2021 23:45:04",
         "25/01/2022 4"
        ],
        [
         "26/03/2023 8:05",
         "Forward",
         "medium",
         "2023-05-15",
         "6-Apr-23",
         "25/04/2024 14:12:04",
         "26/03/2023 8"
        ]
       ],
       "datasetInfos": [],
       "dbfsResultPath": null,
       "isJsonSchema": true,
       "metadata": {},
       "overflow": false,
       "plotOptions": {
        "customPlotOptions": {},
        "displayType": "table",
        "pivotAggregation": null,
        "pivotColumns": null,
        "xColumns": null,
        "yColumns": null
       },
       "removedWidgets": [],
       "schema": [
        {
         "metadata": "{}",
         "name": "input_timestamp",
         "type": "\"string\""
        },
        {
         "metadata": "{}",
         "name": "Sensex_Category",
         "type": "\"string\""
        },
        {
         "metadata": "{}",
         "name": "Label_Type",
         "type": "\"string\""
        },
        {
         "metadata": "{\"__detected_date_formats\":\"d/M/yyyy\"}",
         "name": "Last_transaction_date",
         "type": "\"date\""
        },
        {
         "metadata": "{}",
         "name": "Effective_Date",
         "type": "\"string\""
        },
        {
         "metadata": "{}",
         "name": "last_timestamp",
         "type": "\"string\""
        },
        {
         "metadata": "{}",
         "name": "pymt_timestamp",
         "type": "\"string\""
        }
       ],
       "type": "table"
      }
     },
     "output_type": "display_data"
    }
   ],
   "source": [
    "df = spark.read.csv(\"dbfs:/FileStore/tables/to_date.csv\", header=True, inferSchema=True)\n",
    "display(df.limit(10))"
   ]
  },
  {
   "cell_type": "code",
   "execution_count": 0,
   "metadata": {
    "application/vnd.databricks.v1+cell": {
     "cellMetadata": {
      "byteLimit": 2048000,
      "rowLimit": 10000
     },
     "inputWidgets": {},
     "nuid": "003c2e26-fb63-48a1-afe4-91e1b9ee418e",
     "showTitle": false,
     "tableResultSettingsMap": {},
     "title": ""
    }
   },
   "outputs": [],
   "source": [
    "from pyspark.sql.functions import lit, col, to_date, current_timestamp"
   ]
  },
  {
   "cell_type": "markdown",
   "metadata": {
    "application/vnd.databricks.v1+cell": {
     "cellMetadata": {},
     "inputWidgets": {},
     "nuid": "065eff89-c6e2-467d-9749-f7d9e766a9c1",
     "showTitle": false,
     "tableResultSettingsMap": {},
     "title": ""
    }
   },
   "source": [
    "#### **1) Convert date string / timestamp string to date**"
   ]
  },
  {
   "cell_type": "code",
   "execution_count": 0,
   "metadata": {
    "application/vnd.databricks.v1+cell": {
     "cellMetadata": {
      "byteLimit": 2048000,
      "rowLimit": 10000
     },
     "inputWidgets": {},
     "nuid": "376eeacd-3132-44ba-96ce-e319447f852a",
     "showTitle": false,
     "tableResultSettingsMap": {},
     "title": ""
    }
   },
   "outputs": [
    {
     "output_type": "display_data",
     "data": {
      "text/html": [
       "<style scoped>\n",
       "  .table-result-container {\n",
       "    max-height: 300px;\n",
       "    overflow: auto;\n",
       "  }\n",
       "  table, th, td {\n",
       "    border: 1px solid black;\n",
       "    border-collapse: collapse;\n",
       "  }\n",
       "  th, td {\n",
       "    padding: 5px;\n",
       "  }\n",
       "  th {\n",
       "    text-align: left;\n",
       "  }\n",
       "</style><div class='table-result-container'><table class='table-result'><thead style='background-color: white'><tr><th>input_timestamp</th><th>Sensex_Category</th><th>Label_Type</th><th>Last_transaction_date</th><th>Effective_Date</th><th>last_timestamp</th><th>pymt_timestamp</th></tr></thead><tbody><tr><td>2023-04-25</td><td>Top</td><td>average</td><td>2024-02-26</td><td>2023-02-06</td><td>25/04/2023 24:56:18</td><td>2023-04-25</td></tr><tr><td>2023-04-26</td><td>Top</td><td>average</td><td>2023-12-21</td><td>2023-02-06</td><td>25/04/2002 21:12:00</td><td>2023-04-26</td></tr><tr><td>2020-01-20</td><td>Top</td><td>average</td><td>2025-03-27</td><td>2024-01-08</td><td>25/04/2021 12:34:01</td><td>2020-01-20</td></tr><tr><td>2023-04-26</td><td>Top</td><td>average</td><td>2023-12-27</td><td>2024-01-08</td><td>25/04/1957 20:12:01</td><td>2023-04-26</td></tr><tr><td>2023-04-25</td><td>Top</td><td>average</td><td>2024-04-29</td><td>2023-03-06</td><td>25/04/2023 23:45:22</td><td>2023-04-25</td></tr><tr><td>2023-04-25</td><td>Forward</td><td>medium</td><td>2024-12-27</td><td>2023-03-06</td><td>25/04/2024 14:12:02</td><td>2023-04-25</td></tr><tr><td>2023-04-25</td><td>Forward</td><td>medium</td><td>2024-03-26</td><td>2025-01-06</td><td>25/04/2023 20:00:03</td><td>2023-04-25</td></tr><tr><td>2023-03-26</td><td>Forward</td><td>medium</td><td>2024-11-28</td><td>2025-01-06</td><td>25/04/2024 14:12:03</td><td>2023-03-26</td></tr><tr><td>2022-01-25</td><td>Forward</td><td>medium</td><td>2023-12-27</td><td>2023-04-06</td><td>25/05/2021 23:45:04</td><td>2022-01-25</td></tr><tr><td>2023-03-26</td><td>Forward</td><td>medium</td><td>2023-05-15</td><td>2023-04-06</td><td>25/04/2024 14:12:04</td><td>2023-03-26</td></tr></tbody></table></div>"
      ]
     },
     "metadata": {
      "application/vnd.databricks.v1+output": {
       "addedWidgets": {},
       "aggData": [],
       "aggError": "",
       "aggOverflow": false,
       "aggSchema": [],
       "aggSeriesLimitReached": false,
       "aggType": "",
       "arguments": {},
       "columnCustomDisplayInfos": {},
       "data": [
        [
         "2023-04-25",
         "Top",
         "average",
         "2024-02-26",
         "2023-02-06",
         "25/04/2023 24:56:18",
         "2023-04-25"
        ],
        [
         "2023-04-26",
         "Top",
         "average",
         "2023-12-21",
         "2023-02-06",
         "25/04/2002 21:12:00",
         "2023-04-26"
        ],
        [
         "2020-01-20",
         "Top",
         "average",
         "2025-03-27",
         "2024-01-08",
         "25/04/2021 12:34:01",
         "2020-01-20"
        ],
        [
         "2023-04-26",
         "Top",
         "average",
         "2023-12-27",
         "2024-01-08",
         "25/04/1957 20:12:01",
         "2023-04-26"
        ],
        [
         "2023-04-25",
         "Top",
         "average",
         "2024-04-29",
         "2023-03-06",
         "25/04/2023 23:45:22",
         "2023-04-25"
        ],
        [
         "2023-04-25",
         "Forward",
         "medium",
         "2024-12-27",
         "2023-03-06",
         "25/04/2024 14:12:02",
         "2023-04-25"
        ],
        [
         "2023-04-25",
         "Forward",
         "medium",
         "2024-03-26",
         "2025-01-06",
         "25/04/2023 20:00:03",
         "2023-04-25"
        ],
        [
         "2023-03-26",
         "Forward",
         "medium",
         "2024-11-28",
         "2025-01-06",
         "25/04/2024 14:12:03",
         "2023-03-26"
        ],
        [
         "2022-01-25",
         "Forward",
         "medium",
         "2023-12-27",
         "2023-04-06",
         "25/05/2021 23:45:04",
         "2022-01-25"
        ],
        [
         "2023-03-26",
         "Forward",
         "medium",
         "2023-05-15",
         "2023-04-06",
         "25/04/2024 14:12:04",
         "2023-03-26"
        ]
       ],
       "datasetInfos": [],
       "dbfsResultPath": null,
       "isJsonSchema": true,
       "metadata": {},
       "overflow": false,
       "plotOptions": {
        "customPlotOptions": {},
        "displayType": "table",
        "pivotAggregation": null,
        "pivotColumns": null,
        "xColumns": null,
        "yColumns": null
       },
       "removedWidgets": [],
       "schema": [
        {
         "metadata": "{}",
         "name": "input_timestamp",
         "type": "\"date\""
        },
        {
         "metadata": "{}",
         "name": "Sensex_Category",
         "type": "\"string\""
        },
        {
         "metadata": "{}",
         "name": "Label_Type",
         "type": "\"string\""
        },
        {
         "metadata": "{\"__detected_date_formats\":\"d/M/yyyy\"}",
         "name": "Last_transaction_date",
         "type": "\"date\""
        },
        {
         "metadata": "{}",
         "name": "Effective_Date",
         "type": "\"date\""
        },
        {
         "metadata": "{}",
         "name": "last_timestamp",
         "type": "\"string\""
        },
        {
         "metadata": "{}",
         "name": "pymt_timestamp",
         "type": "\"date\""
        }
       ],
       "type": "table"
      }
     },
     "output_type": "display_data"
    }
   ],
   "source": [
    "df_date = df.withColumn(\"input_timestamp\", to_date(col(\"input_timestamp\"),'dd/MM/yyyy H:mm').alias(\"input_timestamp\"))\\\n",
    "            .withColumn(\"Effective_Date\", to_date(col(\"Effective_Date\"),'d-MMM-yy').alias(\"effective_date\"))\\\n",
    "            .withColumn(\"pymt_timestamp\", to_date(col(\"pymt_timestamp\"),'dd/MM/yyyy H').alias(\"pymt_timestamp\"))\n",
    "display(df_date.limit(10))"
   ]
  },
  {
   "cell_type": "code",
   "execution_count": 0,
   "metadata": {
    "application/vnd.databricks.v1+cell": {
     "cellMetadata": {
      "byteLimit": 2048000,
      "rowLimit": 10000
     },
     "inputWidgets": {},
     "nuid": "29380398-9753-49f8-bbc0-12bdd202a81c",
     "showTitle": false,
     "tableResultSettingsMap": {},
     "title": ""
    }
   },
   "outputs": [
    {
     "output_type": "display_data",
     "data": {
      "text/html": [
       "<style scoped>\n",
       "  .table-result-container {\n",
       "    max-height: 300px;\n",
       "    overflow: auto;\n",
       "  }\n",
       "  table, th, td {\n",
       "    border: 1px solid black;\n",
       "    border-collapse: collapse;\n",
       "  }\n",
       "  th, td {\n",
       "    padding: 5px;\n",
       "  }\n",
       "  th {\n",
       "    text-align: left;\n",
       "  }\n",
       "</style><div class='table-result-container'><table class='table-result'><thead style='background-color: white'><tr><th>input_timestamp</th><th>Sensex_Category</th><th>Label_Type</th><th>Last_transaction_date</th><th>Effective_Date</th><th>last_timestamp</th><th>pymt_timestamp</th><th>custom_timestamp</th></tr></thead><tbody><tr><td>2023-04-25</td><td>Top</td><td>average</td><td>2024-02-26</td><td>2023-02-06</td><td>25/04/2023 24:56:18</td><td>2023-04-25</td><td>2019-06-24</td></tr><tr><td>2023-04-26</td><td>Top</td><td>average</td><td>2023-12-21</td><td>2023-02-06</td><td>25/04/2002 21:12:00</td><td>2023-04-26</td><td>2019-06-24</td></tr><tr><td>2020-01-20</td><td>Top</td><td>average</td><td>2025-03-27</td><td>2024-01-08</td><td>25/04/2021 12:34:01</td><td>2020-01-20</td><td>2019-06-24</td></tr><tr><td>2023-04-26</td><td>Top</td><td>average</td><td>2023-12-27</td><td>2024-01-08</td><td>25/04/1957 20:12:01</td><td>2023-04-26</td><td>2019-06-24</td></tr><tr><td>2023-04-25</td><td>Top</td><td>average</td><td>2024-04-29</td><td>2023-03-06</td><td>25/04/2023 23:45:22</td><td>2023-04-25</td><td>2019-06-24</td></tr><tr><td>2023-04-25</td><td>Forward</td><td>medium</td><td>2024-12-27</td><td>2023-03-06</td><td>25/04/2024 14:12:02</td><td>2023-04-25</td><td>2019-06-24</td></tr><tr><td>2023-04-25</td><td>Forward</td><td>medium</td><td>2024-03-26</td><td>2025-01-06</td><td>25/04/2023 20:00:03</td><td>2023-04-25</td><td>2019-06-24</td></tr><tr><td>2023-03-26</td><td>Forward</td><td>medium</td><td>2024-11-28</td><td>2025-01-06</td><td>25/04/2024 14:12:03</td><td>2023-03-26</td><td>2019-06-24</td></tr><tr><td>2022-01-25</td><td>Forward</td><td>medium</td><td>2023-12-27</td><td>2023-04-06</td><td>25/05/2021 23:45:04</td><td>2022-01-25</td><td>2019-06-24</td></tr><tr><td>2023-03-26</td><td>Forward</td><td>medium</td><td>2023-05-15</td><td>2023-04-06</td><td>25/04/2024 14:12:04</td><td>2023-03-26</td><td>2019-06-24</td></tr></tbody></table></div>"
      ]
     },
     "metadata": {
      "application/vnd.databricks.v1+output": {
       "addedWidgets": {},
       "aggData": [],
       "aggError": "",
       "aggOverflow": false,
       "aggSchema": [],
       "aggSeriesLimitReached": false,
       "aggType": "",
       "arguments": {},
       "columnCustomDisplayInfos": {},
       "data": [
        [
         "2023-04-25",
         "Top",
         "average",
         "2024-02-26",
         "2023-02-06",
         "25/04/2023 24:56:18",
         "2023-04-25",
         "2019-06-24"
        ],
        [
         "2023-04-26",
         "Top",
         "average",
         "2023-12-21",
         "2023-02-06",
         "25/04/2002 21:12:00",
         "2023-04-26",
         "2019-06-24"
        ],
        [
         "2020-01-20",
         "Top",
         "average",
         "2025-03-27",
         "2024-01-08",
         "25/04/2021 12:34:01",
         "2020-01-20",
         "2019-06-24"
        ],
        [
         "2023-04-26",
         "Top",
         "average",
         "2023-12-27",
         "2024-01-08",
         "25/04/1957 20:12:01",
         "2023-04-26",
         "2019-06-24"
        ],
        [
         "2023-04-25",
         "Top",
         "average",
         "2024-04-29",
         "2023-03-06",
         "25/04/2023 23:45:22",
         "2023-04-25",
         "2019-06-24"
        ],
        [
         "2023-04-25",
         "Forward",
         "medium",
         "2024-12-27",
         "2023-03-06",
         "25/04/2024 14:12:02",
         "2023-04-25",
         "2019-06-24"
        ],
        [
         "2023-04-25",
         "Forward",
         "medium",
         "2024-03-26",
         "2025-01-06",
         "25/04/2023 20:00:03",
         "2023-04-25",
         "2019-06-24"
        ],
        [
         "2023-03-26",
         "Forward",
         "medium",
         "2024-11-28",
         "2025-01-06",
         "25/04/2024 14:12:03",
         "2023-03-26",
         "2019-06-24"
        ],
        [
         "2022-01-25",
         "Forward",
         "medium",
         "2023-12-27",
         "2023-04-06",
         "25/05/2021 23:45:04",
         "2022-01-25",
         "2019-06-24"
        ],
        [
         "2023-03-26",
         "Forward",
         "medium",
         "2023-05-15",
         "2023-04-06",
         "25/04/2024 14:12:04",
         "2023-03-26",
         "2019-06-24"
        ]
       ],
       "datasetInfos": [],
       "dbfsResultPath": null,
       "isJsonSchema": true,
       "metadata": {},
       "overflow": false,
       "plotOptions": {
        "customPlotOptions": {},
        "displayType": "table",
        "pivotAggregation": null,
        "pivotColumns": null,
        "xColumns": null,
        "yColumns": null
       },
       "removedWidgets": [],
       "schema": [
        {
         "metadata": "{}",
         "name": "input_timestamp",
         "type": "\"date\""
        },
        {
         "metadata": "{}",
         "name": "Sensex_Category",
         "type": "\"string\""
        },
        {
         "metadata": "{}",
         "name": "Label_Type",
         "type": "\"string\""
        },
        {
         "metadata": "{\"__detected_date_formats\":\"d/M/yyyy\"}",
         "name": "Last_transaction_date",
         "type": "\"date\""
        },
        {
         "metadata": "{}",
         "name": "Effective_Date",
         "type": "\"date\""
        },
        {
         "metadata": "{}",
         "name": "last_timestamp",
         "type": "\"string\""
        },
        {
         "metadata": "{}",
         "name": "pymt_timestamp",
         "type": "\"date\""
        },
        {
         "metadata": "{}",
         "name": "custom_timestamp",
         "type": "\"date\""
        }
       ],
       "type": "table"
      }
     },
     "output_type": "display_data"
    }
   ],
   "source": [
    "# Custom Timestamp format to DateType\n",
    "df_date = df_date.withColumn(\"custom_timestamp\", to_date(lit('06-24-2019 12:01:19.000'),'MM-dd-yyyy HH:mm:ss.SSSS'))\n",
    "display(df_date.limit(10))"
   ]
  },
  {
   "cell_type": "markdown",
   "metadata": {
    "application/vnd.databricks.v1+cell": {
     "cellMetadata": {},
     "inputWidgets": {},
     "nuid": "f1dbec1e-c07e-4805-99dd-20a9c4b84f02",
     "showTitle": false,
     "tableResultSettingsMap": {},
     "title": ""
    }
   },
   "source": [
    "#### **2) How to convert timestamp string to date**"
   ]
  },
  {
   "cell_type": "code",
   "execution_count": 0,
   "metadata": {
    "application/vnd.databricks.v1+cell": {
     "cellMetadata": {
      "byteLimit": 2048000,
      "rowLimit": 10000
     },
     "inputWidgets": {},
     "nuid": "d5a08508-cdd4-4bcb-8c9d-2302d9bb68b0",
     "showTitle": false,
     "tableResultSettingsMap": {},
     "title": ""
    }
   },
   "outputs": [
    {
     "output_type": "display_data",
     "data": {
      "text/html": [
       "<style scoped>\n",
       "  .table-result-container {\n",
       "    max-height: 300px;\n",
       "    overflow: auto;\n",
       "  }\n",
       "  table, th, td {\n",
       "    border: 1px solid black;\n",
       "    border-collapse: collapse;\n",
       "  }\n",
       "  th, td {\n",
       "    padding: 5px;\n",
       "  }\n",
       "  th {\n",
       "    text-align: left;\n",
       "  }\n",
       "</style><div class='table-result-container'><table class='table-result'><thead style='background-color: white'><tr><th>id</th><th>Name</th><th>input_timestamp</th></tr></thead><tbody><tr><td>1</td><td>HSR</td><td>2021-07-24 12:01:19.335</td></tr><tr><td>2</td><td>BDA</td><td>2019-07-22 13:02:20.220</td></tr><tr><td>3</td><td>BMRDS</td><td>2021-07-25 03:03:13.098</td></tr><tr><td>4</td><td>APSRTC</td><td>2023-09-25 15:33:43.054</td></tr><tr><td>5</td><td>SDARC</td><td>2024-05-25 23:53:53.023</td></tr></tbody></table></div>"
      ]
     },
     "metadata": {
      "application/vnd.databricks.v1+output": {
       "addedWidgets": {},
       "aggData": [],
       "aggError": "",
       "aggOverflow": false,
       "aggSchema": [],
       "aggSeriesLimitReached": false,
       "aggType": "",
       "arguments": {},
       "columnCustomDisplayInfos": {},
       "data": [
        [
         1,
         "HSR",
         "2021-07-24 12:01:19.335"
        ],
        [
         2,
         "BDA",
         "2019-07-22 13:02:20.220"
        ],
        [
         3,
         "BMRDS",
         "2021-07-25 03:03:13.098"
        ],
        [
         4,
         "APSRTC",
         "2023-09-25 15:33:43.054"
        ],
        [
         5,
         "SDARC",
         "2024-05-25 23:53:53.023"
        ]
       ],
       "datasetInfos": [],
       "dbfsResultPath": null,
       "isJsonSchema": true,
       "metadata": {},
       "overflow": false,
       "plotOptions": {
        "customPlotOptions": {},
        "displayType": "table",
        "pivotAggregation": null,
        "pivotColumns": null,
        "xColumns": null,
        "yColumns": null
       },
       "removedWidgets": [],
       "schema": [
        {
         "metadata": "{}",
         "name": "id",
         "type": "\"long\""
        },
        {
         "metadata": "{}",
         "name": "Name",
         "type": "\"string\""
        },
        {
         "metadata": "{}",
         "name": "input_timestamp",
         "type": "\"string\""
        }
       ],
       "type": "table"
      }
     },
     "output_type": "display_data"
    }
   ],
   "source": [
    "data = [(1,\"HSR\",\"2021-07-24 12:01:19.335\"),\n",
    "        (2,\"BDA\",\"2019-07-22 13:02:20.220\"),\n",
    "        (3,\"BMRDS\",\"2021-07-25 03:03:13.098\"),\n",
    "        (4,\"APSRTC\",\"2023-09-25 15:33:43.054\"),\n",
    "        (5,\"SDARC\",\"2024-05-25 23:53:53.023\")]\n",
    "\n",
    "schema = [\"id\",\"Name\",\"input_timestamp\"]\n",
    "\n",
    "df_ex = spark.createDataFrame(data, schema)\n",
    "display(df_ex)"
   ]
  },
  {
   "cell_type": "code",
   "execution_count": 0,
   "metadata": {
    "application/vnd.databricks.v1+cell": {
     "cellMetadata": {
      "byteLimit": 2048000,
      "rowLimit": 10000
     },
     "inputWidgets": {},
     "nuid": "6093c1a7-18c7-4731-849c-a6bccf8ed8f3",
     "showTitle": false,
     "tableResultSettingsMap": {},
     "title": ""
    }
   },
   "outputs": [
    {
     "output_type": "display_data",
     "data": {
      "text/html": [
       "<style scoped>\n",
       "  .table-result-container {\n",
       "    max-height: 300px;\n",
       "    overflow: auto;\n",
       "  }\n",
       "  table, th, td {\n",
       "    border: 1px solid black;\n",
       "    border-collapse: collapse;\n",
       "  }\n",
       "  th, td {\n",
       "    padding: 5px;\n",
       "  }\n",
       "  th {\n",
       "    text-align: left;\n",
       "  }\n",
       "</style><div class='table-result-container'><table class='table-result'><thead style='background-color: white'><tr><th>id</th><th>Name</th><th>input_timestamp</th><th>current_date</th></tr></thead><tbody><tr><td>1</td><td>HSR</td><td>2021-07-24</td><td>2024-09-13</td></tr><tr><td>2</td><td>BDA</td><td>2019-07-22</td><td>2024-09-13</td></tr><tr><td>3</td><td>BMRDS</td><td>2021-07-25</td><td>2024-09-13</td></tr><tr><td>4</td><td>APSRTC</td><td>2023-09-25</td><td>2024-09-13</td></tr><tr><td>5</td><td>SDARC</td><td>2024-05-25</td><td>2024-09-13</td></tr></tbody></table></div>"
      ]
     },
     "metadata": {
      "application/vnd.databricks.v1+output": {
       "addedWidgets": {},
       "aggData": [],
       "aggError": "",
       "aggOverflow": false,
       "aggSchema": [],
       "aggSeriesLimitReached": false,
       "aggType": "",
       "arguments": {},
       "columnCustomDisplayInfos": {},
       "data": [
        [
         1,
         "HSR",
         "2021-07-24",
         "2024-09-13"
        ],
        [
         2,
         "BDA",
         "2019-07-22",
         "2024-09-13"
        ],
        [
         3,
         "BMRDS",
         "2021-07-25",
         "2024-09-13"
        ],
        [
         4,
         "APSRTC",
         "2023-09-25",
         "2024-09-13"
        ],
        [
         5,
         "SDARC",
         "2024-05-25",
         "2024-09-13"
        ]
       ],
       "datasetInfos": [],
       "dbfsResultPath": null,
       "isJsonSchema": true,
       "metadata": {},
       "overflow": false,
       "plotOptions": {
        "customPlotOptions": {},
        "displayType": "table",
        "pivotAggregation": null,
        "pivotColumns": null,
        "xColumns": null,
        "yColumns": null
       },
       "removedWidgets": [],
       "schema": [
        {
         "metadata": "{}",
         "name": "id",
         "type": "\"long\""
        },
        {
         "metadata": "{}",
         "name": "Name",
         "type": "\"string\""
        },
        {
         "metadata": "{}",
         "name": "input_timestamp",
         "type": "\"date\""
        },
        {
         "metadata": "{}",
         "name": "current_date",
         "type": "\"date\""
        }
       ],
       "type": "table"
      }
     },
     "output_type": "display_data"
    }
   ],
   "source": [
    "# Timestamp String to DateType\n",
    "df_ex = df_ex.withColumn(\"input_timestamp\",to_date(\"input_timestamp\"))\\\n",
    "             .withColumn(\"current_date\",to_date(current_timestamp()))\n",
    "display(df_ex)"
   ]
  },
  {
   "cell_type": "markdown",
   "metadata": {
    "application/vnd.databricks.v1+cell": {
     "cellMetadata": {},
     "inputWidgets": {},
     "nuid": "8ee00521-b55b-4911-9c12-e250a8f36951",
     "showTitle": false,
     "tableResultSettingsMap": {},
     "title": ""
    }
   },
   "source": [
    "**spark sql**"
   ]
  },
  {
   "cell_type": "code",
   "execution_count": 0,
   "metadata": {
    "application/vnd.databricks.v1+cell": {
     "cellMetadata": {
      "byteLimit": 2048000,
      "rowLimit": 10000
     },
     "inputWidgets": {},
     "nuid": "ed4edb25-95de-4bd5-a435-3eeaf32c884f",
     "showTitle": false,
     "tableResultSettingsMap": {},
     "title": ""
    }
   },
   "outputs": [
    {
     "output_type": "stream",
     "name": "stdout",
     "output_type": "stream",
     "text": [
      "+----------+\n| date_type|\n+----------+\n|2024-09-13|\n+----------+\n\n"
     ]
    }
   ],
   "source": [
    "# SQL TimestampType to DateType\n",
    "spark.sql(\"select to_date(current_timestamp) as date_type\").show()"
   ]
  },
  {
   "cell_type": "code",
   "execution_count": 0,
   "metadata": {
    "application/vnd.databricks.v1+cell": {
     "cellMetadata": {
      "byteLimit": 2048000,
      "rowLimit": 10000
     },
     "inputWidgets": {},
     "nuid": "75515dde-c4a5-4fc0-a7e6-c0456bed0212",
     "showTitle": false,
     "tableResultSettingsMap": {},
     "title": ""
    }
   },
   "outputs": [
    {
     "output_type": "stream",
     "name": "stdout",
     "output_type": "stream",
     "text": [
      "+----------+\n|      date|\n+----------+\n|2013-02-03|\n+----------+\n\n"
     ]
    }
   ],
   "source": [
    "spark.sql(\"select to_date('02-03-2013','MM-dd-yyyy') date\").show()"
   ]
  },
  {
   "cell_type": "code",
   "execution_count": 0,
   "metadata": {
    "application/vnd.databricks.v1+cell": {
     "cellMetadata": {
      "byteLimit": 2048000,
      "rowLimit": 10000
     },
     "inputWidgets": {},
     "nuid": "430a1250-5e34-4e02-b2cb-25269029bdbc",
     "showTitle": false,
     "tableResultSettingsMap": {},
     "title": ""
    }
   },
   "outputs": [
    {
     "output_type": "stream",
     "name": "stdout",
     "output_type": "stream",
     "text": [
      "+----------+\n| date_type|\n+----------+\n|2019-06-24|\n+----------+\n\n"
     ]
    }
   ],
   "source": [
    "# QL CAST TimestampType to DateType\n",
    "spark.sql(\"select date(to_timestamp('2019-06-24 12:01:19.000')) as date_type\").show()"
   ]
  },
  {
   "cell_type": "code",
   "execution_count": 0,
   "metadata": {
    "application/vnd.databricks.v1+cell": {
     "cellMetadata": {
      "byteLimit": 2048000,
      "rowLimit": 10000
     },
     "inputWidgets": {},
     "nuid": "951cccfe-6768-4ed2-93af-80c83ec70d76",
     "showTitle": false,
     "tableResultSettingsMap": {},
     "title": ""
    }
   },
   "outputs": [
    {
     "output_type": "stream",
     "name": "stdout",
     "output_type": "stream",
     "text": [
      "+----------+\n| date_type|\n+----------+\n|2019-06-24|\n+----------+\n\n"
     ]
    }
   ],
   "source": [
    "# SQL CAST timestamp string to DateType\n",
    "spark.sql(\"select date('2019-06-24 12:01:19.000') as date_type\").show()"
   ]
  },
  {
   "cell_type": "code",
   "execution_count": 0,
   "metadata": {
    "application/vnd.databricks.v1+cell": {
     "cellMetadata": {
      "byteLimit": 2048000,
      "rowLimit": 10000
     },
     "inputWidgets": {},
     "nuid": "c64ce94c-be63-4b25-8e2d-309c44771423",
     "showTitle": false,
     "tableResultSettingsMap": {},
     "title": ""
    }
   },
   "outputs": [
    {
     "output_type": "stream",
     "name": "stdout",
     "output_type": "stream",
     "text": [
      "+----------+\n| date_type|\n+----------+\n|2019-06-24|\n+----------+\n\n"
     ]
    }
   ],
   "source": [
    "# SQL Timestamp String (default format) to DateType\n",
    "spark.sql(\"select to_date('2019-06-24 12:01:19.000') as date_type\").show()"
   ]
  },
  {
   "cell_type": "code",
   "execution_count": 0,
   "metadata": {
    "application/vnd.databricks.v1+cell": {
     "cellMetadata": {
      "byteLimit": 2048000,
      "rowLimit": 10000
     },
     "inputWidgets": {},
     "nuid": "4966dfd4-93fb-4360-9148-a3c8a40972c2",
     "showTitle": false,
     "tableResultSettingsMap": {},
     "title": ""
    }
   },
   "outputs": [
    {
     "output_type": "stream",
     "name": "stdout",
     "output_type": "stream",
     "text": [
      "+----------+\n| date_type|\n+----------+\n|2019-06-24|\n+----------+\n\n"
     ]
    }
   ],
   "source": [
    "# SQL Custom Timeformat to DateType\n",
    "spark.sql(\"select to_date('06-24-2019 12:01:19.000','MM-dd-yyyy HH:mm:ss.SSSS') as date_type\").show()"
   ]
  }
 ],
 "metadata": {
  "application/vnd.databricks.v1+notebook": {
   "computePreferences": null,
   "dashboards": [],
   "environmentMetadata": null,
   "language": "python",
   "notebookMetadata": {
    "mostRecentlyExecutedCommandWithImplicitDF": {
     "commandId": 1191382713085911,
     "dataframes": [
      "_sqldf"
     ]
    },
    "pythonIndentUnit": 4
   },
   "notebookName": "92_How to convert string to date format using to_date()",
   "widgets": {}
  }
 },
 "nbformat": 4,
 "nbformat_minor": 0
}
