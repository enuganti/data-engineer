{
 "cells": [
  {
   "cell_type": "markdown",
   "metadata": {
    "application/vnd.databricks.v1+cell": {
     "cellMetadata": {
      "byteLimit": 2048000,
      "rowLimit": 10000
     },
     "inputWidgets": {},
     "nuid": "4318cf2d-54c1-48a2-8e9e-3b3e9cab3585",
     "showTitle": false,
     "tableResultSettingsMap": {},
     "title": ""
    }
   },
   "source": [
    "#### **to_avro**\n",
    "\n",
    "- to **encode** a column as **binary in Avro format**.\n",
    "- **to_avro** is used to **convert** a Spark **DataFrame column** to **Avro binary format**.\n",
    "- can be used to turn **structs into Avro records**. This method is particularly useful when you would like to **re-encode multiple columns into a single** one when writing data out to Kafka."
   ]
  },
  {
   "cell_type": "markdown",
   "metadata": {
    "application/vnd.databricks.v1+cell": {
     "cellMetadata": {
      "byteLimit": 2048000,
      "rowLimit": 10000
     },
     "inputWidgets": {},
     "nuid": "4d51f7c3-9c59-4d55-98eb-78697afb5918",
     "showTitle": false,
     "tableResultSettingsMap": {},
     "title": ""
    }
   },
   "source": [
    "     # Encode the column `name` in Avro format.\n",
    "     output = df.select(to_avro(\"user.name\").alias(\"value\"))"
   ]
  },
  {
   "cell_type": "code",
   "execution_count": 0,
   "metadata": {
    "application/vnd.databricks.v1+cell": {
     "cellMetadata": {
      "byteLimit": 2048000,
      "rowLimit": 10000
     },
     "inputWidgets": {},
     "nuid": "16eea16e-174e-4971-963b-3b84f081e854",
     "showTitle": true,
     "tableResultSettingsMap": {},
     "title": "Import Required Libraries"
    }
   },
   "outputs": [],
   "source": [
    "from pyspark.sql.functions import col\n",
    "from pyspark.sql.avro.functions import to_avro, from_avro"
   ]
  },
  {
   "cell_type": "code",
   "execution_count": 0,
   "metadata": {
    "application/vnd.databricks.v1+cell": {
     "cellMetadata": {
      "byteLimit": 2048000,
      "rowLimit": 10000
     },
     "inputWidgets": {},
     "nuid": "5b985b21-7901-483f-84b1-470d1ea4c63b",
     "showTitle": true,
     "tableResultSettingsMap": {},
     "title": "Create a Sample DataFrame"
    }
   },
   "outputs": [
    {
     "output_type": "display_data",
     "data": {
      "text/html": [
       "<style scoped>\n",
       "  .table-result-container {\n",
       "    max-height: 300px;\n",
       "    overflow: auto;\n",
       "  }\n",
       "  table, th, td {\n",
       "    border: 1px solid black;\n",
       "    border-collapse: collapse;\n",
       "  }\n",
       "  th, td {\n",
       "    padding: 5px;\n",
       "  }\n",
       "  th {\n",
       "    text-align: left;\n",
       "  }\n",
       "</style><div class='table-result-container'><table class='table-result'><thead style='background-color: white'><tr><th>id</th><th>name</th><th>salary</th><th>city</th></tr></thead><tbody><tr><td>1</td><td>Arjun</td><td>50000</td><td>Nasik</td></tr><tr><td>2</td><td>Bibin</td><td>60000</td><td>San Francisco</td></tr><tr><td>3</td><td>Charu</td><td>70000</td><td>Los Angeles</td></tr><tr><td>4</td><td>Anand</td><td>55500</td><td>Chennai</td></tr><tr><td>5</td><td>Bhaskar</td><td>65550</td><td>Pondichery</td></tr><tr><td>6</td><td>Chandan</td><td>85500</td><td>Bangalore</td></tr><tr><td>7</td><td>Sai</td><td>25000</td><td>Hyderabad</td></tr><tr><td>8</td><td>Rakesh</td><td>35000</td><td>Delhi</td></tr><tr><td>9</td><td>Kiran</td><td>95000</td><td>Amaravati</td></tr><tr><td>10</td><td>Rajini</td><td>45000</td><td>Dubai</td></tr></tbody></table></div>"
      ]
     },
     "metadata": {
      "application/vnd.databricks.v1+output": {
       "addedWidgets": {},
       "aggData": [],
       "aggError": "",
       "aggOverflow": false,
       "aggSchema": [],
       "aggSeriesLimitReached": false,
       "aggType": "",
       "arguments": {},
       "columnCustomDisplayInfos": {},
       "data": [
        [
         1,
         "Arjun",
         50000,
         "Nasik"
        ],
        [
         2,
         "Bibin",
         60000,
         "San Francisco"
        ],
        [
         3,
         "Charu",
         70000,
         "Los Angeles"
        ],
        [
         4,
         "Anand",
         55500,
         "Chennai"
        ],
        [
         5,
         "Bhaskar",
         65550,
         "Pondichery"
        ],
        [
         6,
         "Chandan",
         85500,
         "Bangalore"
        ],
        [
         7,
         "Sai",
         25000,
         "Hyderabad"
        ],
        [
         8,
         "Rakesh",
         35000,
         "Delhi"
        ],
        [
         9,
         "Kiran",
         95000,
         "Amaravati"
        ],
        [
         10,
         "Rajini",
         45000,
         "Dubai"
        ]
       ],
       "datasetInfos": [],
       "dbfsResultPath": null,
       "isJsonSchema": true,
       "metadata": {},
       "overflow": false,
       "plotOptions": {
        "customPlotOptions": {},
        "displayType": "table",
        "pivotAggregation": null,
        "pivotColumns": null,
        "xColumns": null,
        "yColumns": null
       },
       "removedWidgets": [],
       "schema": [
        {
         "metadata": "{}",
         "name": "id",
         "type": "\"long\""
        },
        {
         "metadata": "{}",
         "name": "name",
         "type": "\"string\""
        },
        {
         "metadata": "{}",
         "name": "salary",
         "type": "\"long\""
        },
        {
         "metadata": "{}",
         "name": "city",
         "type": "\"string\""
        }
       ],
       "type": "table"
      }
     },
     "output_type": "display_data"
    }
   ],
   "source": [
    "data = [\n",
    "    (1, \"Arjun\", 50000, \"Nasik\"),\n",
    "    (2, \"Bibin\", 60000, \"San Francisco\"),\n",
    "    (3, \"Charu\", 70000, \"Los Angeles\"),\n",
    "    (4, \"Anand\", 55500, \"Chennai\"),\n",
    "    (5, \"Bhaskar\", 65550, \"Pondichery\"),\n",
    "    (6, \"Chandan\", 85500, \"Bangalore\"),\n",
    "    (7, \"Sai\", 25000, \"Hyderabad\"),\n",
    "    (8, \"Rakesh\", 35000, \"Delhi\"),\n",
    "    (9, \"Kiran\", 95000, \"Amaravati\"),\n",
    "    (10, \"Rajini\", 45000, \"Dubai\")\n",
    "]\n",
    "\n",
    "columns = [\"id\", \"name\", \"salary\", \"city\"]\n",
    "\n",
    "df = spark.createDataFrame(data, columns)\n",
    "display(df)"
   ]
  },
  {
   "cell_type": "markdown",
   "metadata": {
    "application/vnd.databricks.v1+cell": {
     "cellMetadata": {
      "byteLimit": 2048000,
      "rowLimit": 10000
     },
     "inputWidgets": {},
     "nuid": "6dc3f2b9-57cd-449e-ad93-8a5c432633ba",
     "showTitle": false,
     "tableResultSettingsMap": {},
     "title": ""
    }
   },
   "source": [
    "**Convert a Column to Avro Format**\n",
    "- The Avro-encoded **binary data** is shown in a \n",
    "**readable format**."
   ]
  },
  {
   "cell_type": "code",
   "execution_count": 0,
   "metadata": {
    "application/vnd.databricks.v1+cell": {
     "cellMetadata": {
      "byteLimit": 2048000,
      "rowLimit": 10000
     },
     "inputWidgets": {},
     "nuid": "aeb44f69-1b77-400d-b581-576049735cd3",
     "showTitle": true,
     "tableResultSettingsMap": {},
     "title": "Convert a Column to Avro Format"
    }
   },
   "outputs": [
    {
     "output_type": "display_data",
     "data": {
      "text/html": [
       "<style scoped>\n",
       "  .table-result-container {\n",
       "    max-height: 300px;\n",
       "    overflow: auto;\n",
       "  }\n",
       "  table, th, td {\n",
       "    border: 1px solid black;\n",
       "    border-collapse: collapse;\n",
       "  }\n",
       "  th, td {\n",
       "    padding: 5px;\n",
       "  }\n",
       "  th {\n",
       "    text-align: left;\n",
       "  }\n",
       "</style><div class='table-result-container'><table class='table-result'><thead style='background-color: white'><tr><th>id</th><th>name</th><th>salary</th><th>city</th><th>encode_col</th></tr></thead><tbody><tr><td>1</td><td>Arjun</td><td>50000</td><td>Nasik</td><td>AApBcmp1bg==</td></tr><tr><td>2</td><td>Bibin</td><td>60000</td><td>San Francisco</td><td>AApCaWJpbg==</td></tr><tr><td>3</td><td>Charu</td><td>70000</td><td>Los Angeles</td><td>AApDaGFydQ==</td></tr><tr><td>4</td><td>Anand</td><td>55500</td><td>Chennai</td><td>AApBbmFuZA==</td></tr><tr><td>5</td><td>Bhaskar</td><td>65550</td><td>Pondichery</td><td>AA5CaGFza2Fy</td></tr><tr><td>6</td><td>Chandan</td><td>85500</td><td>Bangalore</td><td>AA5DaGFuZGFu</td></tr><tr><td>7</td><td>Sai</td><td>25000</td><td>Hyderabad</td><td>AAZTYWk=</td></tr><tr><td>8</td><td>Rakesh</td><td>35000</td><td>Delhi</td><td>AAxSYWtlc2g=</td></tr><tr><td>9</td><td>Kiran</td><td>95000</td><td>Amaravati</td><td>AApLaXJhbg==</td></tr><tr><td>10</td><td>Rajini</td><td>45000</td><td>Dubai</td><td>AAxSYWppbmk=</td></tr></tbody></table></div>"
      ]
     },
     "metadata": {
      "application/vnd.databricks.v1+output": {
       "addedWidgets": {},
       "aggData": [],
       "aggError": "",
       "aggOverflow": false,
       "aggSchema": [],
       "aggSeriesLimitReached": false,
       "aggType": "",
       "arguments": {},
       "columnCustomDisplayInfos": {},
       "data": [
        [
         1,
         "Arjun",
         50000,
         "Nasik",
         "AApBcmp1bg=="
        ],
        [
         2,
         "Bibin",
         60000,
         "San Francisco",
         "AApCaWJpbg=="
        ],
        [
         3,
         "Charu",
         70000,
         "Los Angeles",
         "AApDaGFydQ=="
        ],
        [
         4,
         "Anand",
         55500,
         "Chennai",
         "AApBbmFuZA=="
        ],
        [
         5,
         "Bhaskar",
         65550,
         "Pondichery",
         "AA5CaGFza2Fy"
        ],
        [
         6,
         "Chandan",
         85500,
         "Bangalore",
         "AA5DaGFuZGFu"
        ],
        [
         7,
         "Sai",
         25000,
         "Hyderabad",
         "AAZTYWk="
        ],
        [
         8,
         "Rakesh",
         35000,
         "Delhi",
         "AAxSYWtlc2g="
        ],
        [
         9,
         "Kiran",
         95000,
         "Amaravati",
         "AApLaXJhbg=="
        ],
        [
         10,
         "Rajini",
         45000,
         "Dubai",
         "AAxSYWppbmk="
        ]
       ],
       "datasetInfos": [],
       "dbfsResultPath": null,
       "isJsonSchema": true,
       "metadata": {},
       "overflow": false,
       "plotOptions": {
        "customPlotOptions": {},
        "displayType": "table",
        "pivotAggregation": null,
        "pivotColumns": null,
        "xColumns": null,
        "yColumns": null
       },
       "removedWidgets": [],
       "schema": [
        {
         "metadata": "{}",
         "name": "id",
         "type": "\"long\""
        },
        {
         "metadata": "{}",
         "name": "name",
         "type": "\"string\""
        },
        {
         "metadata": "{}",
         "name": "salary",
         "type": "\"long\""
        },
        {
         "metadata": "{}",
         "name": "city",
         "type": "\"string\""
        },
        {
         "metadata": "{}",
         "name": "encode_col",
         "type": "\"binary\""
        }
       ],
       "type": "table"
      }
     },
     "output_type": "display_data"
    }
   ],
   "source": [
    "# to_avro to serialize the entire row into Avro format\n",
    "df_avro_col = df.withColumn(\"encode_col\", to_avro(df[\"name\"]))\n",
    "display(df_avro_col)"
   ]
  },
  {
   "cell_type": "markdown",
   "metadata": {
    "application/vnd.databricks.v1+cell": {
     "cellMetadata": {
      "byteLimit": 2048000,
      "rowLimit": 10000
     },
     "inputWidgets": {},
     "nuid": "a8a53e1e-fb3a-49ec-a755-b6d09f9e4095",
     "showTitle": false,
     "tableResultSettingsMap": {},
     "title": ""
    }
   },
   "source": [
    "**Convert Entire Row into Avro Format**\n",
    "- Instead of just one column, you can convert the **entire row into Avro**.\n",
    "- **struct(\"*\")** => Converts **all columns** into a **single Avro-encoded structure**."
   ]
  },
  {
   "cell_type": "code",
   "execution_count": 0,
   "metadata": {
    "application/vnd.databricks.v1+cell": {
     "cellMetadata": {
      "byteLimit": 2048000,
      "rowLimit": 10000
     },
     "inputWidgets": {},
     "nuid": "5bacd5ac-406c-4d5a-bc84-5c52a9a59561",
     "showTitle": false,
     "tableResultSettingsMap": {},
     "title": ""
    }
   },
   "outputs": [
    {
     "output_type": "display_data",
     "data": {
      "text/html": [
       "<style scoped>\n",
       "  .table-result-container {\n",
       "    max-height: 300px;\n",
       "    overflow: auto;\n",
       "  }\n",
       "  table, th, td {\n",
       "    border: 1px solid black;\n",
       "    border-collapse: collapse;\n",
       "  }\n",
       "  th, td {\n",
       "    padding: 5px;\n",
       "  }\n",
       "  th {\n",
       "    text-align: left;\n",
       "  }\n",
       "</style><div class='table-result-container'><table class='table-result'><thead style='background-color: white'><tr><th>id</th><th>name</th><th>salary</th><th>city</th><th>encode_row</th></tr></thead><tbody><tr><td>1</td><td>Arjun</td><td>50000</td><td>Nasik</td><td>AAIACkFyanVuAKCNBgAKTmFzaWs=</td></tr><tr><td>2</td><td>Bibin</td><td>60000</td><td>San Francisco</td><td>AAQACkJpYmluAMCpBwAaU2FuIEZyYW5jaXNjbw==</td></tr><tr><td>3</td><td>Charu</td><td>70000</td><td>Los Angeles</td><td>AAYACkNoYXJ1AODFCAAWTG9zIEFuZ2VsZXM=</td></tr><tr><td>4</td><td>Anand</td><td>55500</td><td>Chennai</td><td>AAgACkFuYW5kAJjjBgAOQ2hlbm5haQ==</td></tr><tr><td>5</td><td>Bhaskar</td><td>65550</td><td>Pondichery</td><td>AAoADkJoYXNrYXIAnIAIABRQb25kaWNoZXJ5</td></tr><tr><td>6</td><td>Chandan</td><td>85500</td><td>Bangalore</td><td>AAwADkNoYW5kYW4A+LcKABJCYW5nYWxvcmU=</td></tr><tr><td>7</td><td>Sai</td><td>25000</td><td>Hyderabad</td><td>AA4ABlNhaQDQhgMAEkh5ZGVyYWJhZA==</td></tr><tr><td>8</td><td>Rakesh</td><td>35000</td><td>Delhi</td><td>ABAADFJha2VzaADwogQACkRlbGhp</td></tr><tr><td>9</td><td>Kiran</td><td>95000</td><td>Amaravati</td><td>ABIACktpcmFuALDMCwASQW1hcmF2YXRp</td></tr><tr><td>10</td><td>Rajini</td><td>45000</td><td>Dubai</td><td>ABQADFJhamluaQCQvwUACkR1YmFp</td></tr></tbody></table></div>"
      ]
     },
     "metadata": {
      "application/vnd.databricks.v1+output": {
       "addedWidgets": {},
       "aggData": [],
       "aggError": "",
       "aggOverflow": false,
       "aggSchema": [],
       "aggSeriesLimitReached": false,
       "aggType": "",
       "arguments": {},
       "columnCustomDisplayInfos": {},
       "data": [
        [
         1,
         "Arjun",
         50000,
         "Nasik",
         "AAIACkFyanVuAKCNBgAKTmFzaWs="
        ],
        [
         2,
         "Bibin",
         60000,
         "San Francisco",
         "AAQACkJpYmluAMCpBwAaU2FuIEZyYW5jaXNjbw=="
        ],
        [
         3,
         "Charu",
         70000,
         "Los Angeles",
         "AAYACkNoYXJ1AODFCAAWTG9zIEFuZ2VsZXM="
        ],
        [
         4,
         "Anand",
         55500,
         "Chennai",
         "AAgACkFuYW5kAJjjBgAOQ2hlbm5haQ=="
        ],
        [
         5,
         "Bhaskar",
         65550,
         "Pondichery",
         "AAoADkJoYXNrYXIAnIAIABRQb25kaWNoZXJ5"
        ],
        [
         6,
         "Chandan",
         85500,
         "Bangalore",
         "AAwADkNoYW5kYW4A+LcKABJCYW5nYWxvcmU="
        ],
        [
         7,
         "Sai",
         25000,
         "Hyderabad",
         "AA4ABlNhaQDQhgMAEkh5ZGVyYWJhZA=="
        ],
        [
         8,
         "Rakesh",
         35000,
         "Delhi",
         "ABAADFJha2VzaADwogQACkRlbGhp"
        ],
        [
         9,
         "Kiran",
         95000,
         "Amaravati",
         "ABIACktpcmFuALDMCwASQW1hcmF2YXRp"
        ],
        [
         10,
         "Rajini",
         45000,
         "Dubai",
         "ABQADFJhamluaQCQvwUACkR1YmFp"
        ]
       ],
       "datasetInfos": [],
       "dbfsResultPath": null,
       "isJsonSchema": true,
       "metadata": {},
       "overflow": false,
       "plotOptions": {
        "customPlotOptions": {},
        "displayType": "table",
        "pivotAggregation": null,
        "pivotColumns": null,
        "xColumns": null,
        "yColumns": null
       },
       "removedWidgets": [],
       "schema": [
        {
         "metadata": "{}",
         "name": "id",
         "type": "\"long\""
        },
        {
         "metadata": "{}",
         "name": "name",
         "type": "\"string\""
        },
        {
         "metadata": "{}",
         "name": "salary",
         "type": "\"long\""
        },
        {
         "metadata": "{}",
         "name": "city",
         "type": "\"string\""
        },
        {
         "metadata": "{}",
         "name": "encode_row",
         "type": "\"binary\""
        }
       ],
       "type": "table"
      }
     },
     "output_type": "display_data"
    }
   ],
   "source": [
    "from pyspark.sql.functions import struct\n",
    "\n",
    "df_avro_row = df.withColumn(\"encode_row\", to_avro(struct(\"*\")))\n",
    "display(df_avro_row)"
   ]
  },
  {
   "cell_type": "code",
   "execution_count": 0,
   "metadata": {
    "application/vnd.databricks.v1+cell": {
     "cellMetadata": {
      "byteLimit": 2048000,
      "rowLimit": 10000
     },
     "inputWidgets": {},
     "nuid": "f15594ee-7b0e-4831-b94a-fb1e3230150e",
     "showTitle": true,
     "tableResultSettingsMap": {},
     "title": "Writing Avro Data to a File"
    }
   },
   "outputs": [],
   "source": [
    "df_avro_row.write.format(\"avro\").mode(\"overwrite\").save(\"/FileStore/tables/avro/employee_avro_data\")"
   ]
  },
  {
   "cell_type": "code",
   "execution_count": 0,
   "metadata": {
    "application/vnd.databricks.v1+cell": {
     "cellMetadata": {
      "byteLimit": 2048000,
      "rowLimit": 10000
     },
     "inputWidgets": {},
     "nuid": "168e9d61-c990-416a-876b-501b3e27f20e",
     "showTitle": false,
     "tableResultSettingsMap": {},
     "title": ""
    }
   },
   "outputs": [
    {
     "output_type": "display_data",
     "data": {
      "text/html": [
       "<style scoped>\n",
       "  .table-result-container {\n",
       "    max-height: 300px;\n",
       "    overflow: auto;\n",
       "  }\n",
       "  table, th, td {\n",
       "    border: 1px solid black;\n",
       "    border-collapse: collapse;\n",
       "  }\n",
       "  th, td {\n",
       "    padding: 5px;\n",
       "  }\n",
       "  th {\n",
       "    text-align: left;\n",
       "  }\n",
       "</style><div class='table-result-container'><table class='table-result'><thead style='background-color: white'><tr><th>path</th><th>name</th><th>size</th><th>modificationTime</th></tr></thead><tbody><tr><td>dbfs:/FileStore/tables/avro/employee_avro_data/_committed_4540589104069149071</td><td>_committed_4540589104069149071</td><td>1567</td><td>1740155537000</td></tr><tr><td>dbfs:/FileStore/tables/avro/employee_avro_data/_committed_5384811143179424437</td><td>_committed_5384811143179424437</td><td>1559</td><td>1740153605000</td></tr><tr><td>dbfs:/FileStore/tables/avro/employee_avro_data/_committed_8514726851004921813</td><td>_committed_8514726851004921813</td><td>1570</td><td>1740149810000</td></tr><tr><td>dbfs:/FileStore/tables/avro/employee_avro_data/_started_4540589104069149071</td><td>_started_4540589104069149071</td><td>0</td><td>1740155536000</td></tr><tr><td>dbfs:/FileStore/tables/avro/employee_avro_data/part-00000-tid-4540589104069149071-0300496f-0f56-4989-b549-d83183941916-154-1-c000.snappy.avro</td><td>part-00000-tid-4540589104069149071-0300496f-0f56-4989-b549-d83183941916-154-1-c000.snappy.avro</td><td>382</td><td>1740155537000</td></tr><tr><td>dbfs:/FileStore/tables/avro/employee_avro_data/part-00001-tid-4540589104069149071-0300496f-0f56-4989-b549-d83183941916-155-1-c000.snappy.avro</td><td>part-00001-tid-4540589104069149071-0300496f-0f56-4989-b549-d83183941916-155-1-c000.snappy.avro</td><td>390</td><td>1740155536000</td></tr><tr><td>dbfs:/FileStore/tables/avro/employee_avro_data/part-00002-tid-4540589104069149071-0300496f-0f56-4989-b549-d83183941916-156-1-c000.snappy.avro</td><td>part-00002-tid-4540589104069149071-0300496f-0f56-4989-b549-d83183941916-156-1-c000.snappy.avro</td><td>388</td><td>1740155537000</td></tr><tr><td>dbfs:/FileStore/tables/avro/employee_avro_data/part-00003-tid-4540589104069149071-0300496f-0f56-4989-b549-d83183941916-157-1-c000.snappy.avro</td><td>part-00003-tid-4540589104069149071-0300496f-0f56-4989-b549-d83183941916-157-1-c000.snappy.avro</td><td>417</td><td>1740155536000</td></tr><tr><td>dbfs:/FileStore/tables/avro/employee_avro_data/part-00004-tid-4540589104069149071-0300496f-0f56-4989-b549-d83183941916-158-1-c000.snappy.avro</td><td>part-00004-tid-4540589104069149071-0300496f-0f56-4989-b549-d83183941916-158-1-c000.snappy.avro</td><td>388</td><td>1740155536000</td></tr><tr><td>dbfs:/FileStore/tables/avro/employee_avro_data/part-00005-tid-4540589104069149071-0300496f-0f56-4989-b549-d83183941916-159-1-c000.snappy.avro</td><td>part-00005-tid-4540589104069149071-0300496f-0f56-4989-b549-d83183941916-159-1-c000.snappy.avro</td><td>385</td><td>1740155536000</td></tr><tr><td>dbfs:/FileStore/tables/avro/employee_avro_data/part-00006-tid-4540589104069149071-0300496f-0f56-4989-b549-d83183941916-160-1-c000.snappy.avro</td><td>part-00006-tid-4540589104069149071-0300496f-0f56-4989-b549-d83183941916-160-1-c000.snappy.avro</td><td>383</td><td>1740155537000</td></tr><tr><td>dbfs:/FileStore/tables/avro/employee_avro_data/part-00007-tid-4540589104069149071-0300496f-0f56-4989-b549-d83183941916-161-1-c000.snappy.avro</td><td>part-00007-tid-4540589104069149071-0300496f-0f56-4989-b549-d83183941916-161-1-c000.snappy.avro</td><td>412</td><td>1740155536000</td></tr></tbody></table></div>"
      ]
     },
     "metadata": {
      "application/vnd.databricks.v1+output": {
       "addedWidgets": {},
       "aggData": [],
       "aggError": "",
       "aggOverflow": false,
       "aggSchema": [],
       "aggSeriesLimitReached": false,
       "aggType": "",
       "arguments": {},
       "columnCustomDisplayInfos": {},
       "data": [
        [
         "dbfs:/FileStore/tables/avro/employee_avro_data/_committed_4540589104069149071",
         "_committed_4540589104069149071",
         1567,
         1740155537000
        ],
        [
         "dbfs:/FileStore/tables/avro/employee_avro_data/_committed_5384811143179424437",
         "_committed_5384811143179424437",
         1559,
         1740153605000
        ],
        [
         "dbfs:/FileStore/tables/avro/employee_avro_data/_committed_8514726851004921813",
         "_committed_8514726851004921813",
         1570,
         1740149810000
        ],
        [
         "dbfs:/FileStore/tables/avro/employee_avro_data/_started_4540589104069149071",
         "_started_4540589104069149071",
         0,
         1740155536000
        ],
        [
         "dbfs:/FileStore/tables/avro/employee_avro_data/part-00000-tid-4540589104069149071-0300496f-0f56-4989-b549-d83183941916-154-1-c000.snappy.avro",
         "part-00000-tid-4540589104069149071-0300496f-0f56-4989-b549-d83183941916-154-1-c000.snappy.avro",
         382,
         1740155537000
        ],
        [
         "dbfs:/FileStore/tables/avro/employee_avro_data/part-00001-tid-4540589104069149071-0300496f-0f56-4989-b549-d83183941916-155-1-c000.snappy.avro",
         "part-00001-tid-4540589104069149071-0300496f-0f56-4989-b549-d83183941916-155-1-c000.snappy.avro",
         390,
         1740155536000
        ],
        [
         "dbfs:/FileStore/tables/avro/employee_avro_data/part-00002-tid-4540589104069149071-0300496f-0f56-4989-b549-d83183941916-156-1-c000.snappy.avro",
         "part-00002-tid-4540589104069149071-0300496f-0f56-4989-b549-d83183941916-156-1-c000.snappy.avro",
         388,
         1740155537000
        ],
        [
         "dbfs:/FileStore/tables/avro/employee_avro_data/part-00003-tid-4540589104069149071-0300496f-0f56-4989-b549-d83183941916-157-1-c000.snappy.avro",
         "part-00003-tid-4540589104069149071-0300496f-0f56-4989-b549-d83183941916-157-1-c000.snappy.avro",
         417,
         1740155536000
        ],
        [
         "dbfs:/FileStore/tables/avro/employee_avro_data/part-00004-tid-4540589104069149071-0300496f-0f56-4989-b549-d83183941916-158-1-c000.snappy.avro",
         "part-00004-tid-4540589104069149071-0300496f-0f56-4989-b549-d83183941916-158-1-c000.snappy.avro",
         388,
         1740155536000
        ],
        [
         "dbfs:/FileStore/tables/avro/employee_avro_data/part-00005-tid-4540589104069149071-0300496f-0f56-4989-b549-d83183941916-159-1-c000.snappy.avro",
         "part-00005-tid-4540589104069149071-0300496f-0f56-4989-b549-d83183941916-159-1-c000.snappy.avro",
         385,
         1740155536000
        ],
        [
         "dbfs:/FileStore/tables/avro/employee_avro_data/part-00006-tid-4540589104069149071-0300496f-0f56-4989-b549-d83183941916-160-1-c000.snappy.avro",
         "part-00006-tid-4540589104069149071-0300496f-0f56-4989-b549-d83183941916-160-1-c000.snappy.avro",
         383,
         1740155537000
        ],
        [
         "dbfs:/FileStore/tables/avro/employee_avro_data/part-00007-tid-4540589104069149071-0300496f-0f56-4989-b549-d83183941916-161-1-c000.snappy.avro",
         "part-00007-tid-4540589104069149071-0300496f-0f56-4989-b549-d83183941916-161-1-c000.snappy.avro",
         412,
         1740155536000
        ]
       ],
       "datasetInfos": [],
       "dbfsResultPath": null,
       "isJsonSchema": true,
       "metadata": {
        "isDbfsCommandResult": false
       },
       "overflow": false,
       "plotOptions": {
        "customPlotOptions": {},
        "displayType": "table",
        "pivotAggregation": null,
        "pivotColumns": null,
        "xColumns": null,
        "yColumns": null
       },
       "removedWidgets": [],
       "schema": [
        {
         "metadata": "{}",
         "name": "path",
         "type": "\"string\""
        },
        {
         "metadata": "{}",
         "name": "name",
         "type": "\"string\""
        },
        {
         "metadata": "{}",
         "name": "size",
         "type": "\"long\""
        },
        {
         "metadata": "{}",
         "name": "modificationTime",
         "type": "\"long\""
        }
       ],
       "type": "table"
      }
     },
     "output_type": "display_data"
    }
   ],
   "source": [
    "%fs ls /FileStore/tables/avro/employee_avro_data"
   ]
  },
  {
   "cell_type": "code",
   "execution_count": 0,
   "metadata": {
    "application/vnd.databricks.v1+cell": {
     "cellMetadata": {
      "byteLimit": 2048000,
      "rowLimit": 10000
     },
     "inputWidgets": {},
     "nuid": "a5d6de78-2821-47f4-ad49-6d1faf4d0e28",
     "showTitle": true,
     "tableResultSettingsMap": {},
     "title": "Reading Avro Data Back"
    }
   },
   "outputs": [
    {
     "output_type": "display_data",
     "data": {
      "text/html": [
       "<style scoped>\n",
       "  .table-result-container {\n",
       "    max-height: 300px;\n",
       "    overflow: auto;\n",
       "  }\n",
       "  table, th, td {\n",
       "    border: 1px solid black;\n",
       "    border-collapse: collapse;\n",
       "  }\n",
       "  th, td {\n",
       "    padding: 5px;\n",
       "  }\n",
       "  th {\n",
       "    text-align: left;\n",
       "  }\n",
       "</style><div class='table-result-container'><table class='table-result'><thead style='background-color: white'><tr><th>id</th><th>name</th><th>salary</th><th>city</th><th>encode_row</th></tr></thead><tbody><tr><td>4</td><td>Anand</td><td>55500</td><td>Chennai</td><td>AAgACkFuYW5kAJjjBgAOQ2hlbm5haQ==</td></tr><tr><td>5</td><td>Bhaskar</td><td>65550</td><td>Pondichery</td><td>AAoADkJoYXNrYXIAnIAIABRQb25kaWNoZXJ5</td></tr><tr><td>9</td><td>Kiran</td><td>95000</td><td>Amaravati</td><td>ABIACktpcmFuALDMCwASQW1hcmF2YXRp</td></tr><tr><td>10</td><td>Rajini</td><td>45000</td><td>Dubai</td><td>ABQADFJhamluaQCQvwUACkR1YmFp</td></tr><tr><td>2</td><td>Bibin</td><td>60000</td><td>San Francisco</td><td>AAQACkJpYmluAMCpBwAaU2FuIEZyYW5jaXNjbw==</td></tr><tr><td>3</td><td>Charu</td><td>70000</td><td>Los Angeles</td><td>AAYACkNoYXJ1AODFCAAWTG9zIEFuZ2VsZXM=</td></tr><tr><td>6</td><td>Chandan</td><td>85500</td><td>Bangalore</td><td>AAwADkNoYW5kYW4A+LcKABJCYW5nYWxvcmU=</td></tr><tr><td>7</td><td>Sai</td><td>25000</td><td>Hyderabad</td><td>AA4ABlNhaQDQhgMAEkh5ZGVyYWJhZA==</td></tr><tr><td>8</td><td>Rakesh</td><td>35000</td><td>Delhi</td><td>ABAADFJha2VzaADwogQACkRlbGhp</td></tr><tr><td>1</td><td>Arjun</td><td>50000</td><td>Nasik</td><td>AAIACkFyanVuAKCNBgAKTmFzaWs=</td></tr></tbody></table></div>"
      ]
     },
     "metadata": {
      "application/vnd.databricks.v1+output": {
       "addedWidgets": {},
       "aggData": [],
       "aggError": "",
       "aggOverflow": false,
       "aggSchema": [],
       "aggSeriesLimitReached": false,
       "aggType": "",
       "arguments": {},
       "columnCustomDisplayInfos": {},
       "data": [
        [
         4,
         "Anand",
         55500,
         "Chennai",
         "AAgACkFuYW5kAJjjBgAOQ2hlbm5haQ=="
        ],
        [
         5,
         "Bhaskar",
         65550,
         "Pondichery",
         "AAoADkJoYXNrYXIAnIAIABRQb25kaWNoZXJ5"
        ],
        [
         9,
         "Kiran",
         95000,
         "Amaravati",
         "ABIACktpcmFuALDMCwASQW1hcmF2YXRp"
        ],
        [
         10,
         "Rajini",
         45000,
         "Dubai",
         "ABQADFJhamluaQCQvwUACkR1YmFp"
        ],
        [
         2,
         "Bibin",
         60000,
         "San Francisco",
         "AAQACkJpYmluAMCpBwAaU2FuIEZyYW5jaXNjbw=="
        ],
        [
         3,
         "Charu",
         70000,
         "Los Angeles",
         "AAYACkNoYXJ1AODFCAAWTG9zIEFuZ2VsZXM="
        ],
        [
         6,
         "Chandan",
         85500,
         "Bangalore",
         "AAwADkNoYW5kYW4A+LcKABJCYW5nYWxvcmU="
        ],
        [
         7,
         "Sai",
         25000,
         "Hyderabad",
         "AA4ABlNhaQDQhgMAEkh5ZGVyYWJhZA=="
        ],
        [
         8,
         "Rakesh",
         35000,
         "Delhi",
         "ABAADFJha2VzaADwogQACkRlbGhp"
        ],
        [
         1,
         "Arjun",
         50000,
         "Nasik",
         "AAIACkFyanVuAKCNBgAKTmFzaWs="
        ]
       ],
       "datasetInfos": [],
       "dbfsResultPath": null,
       "isJsonSchema": true,
       "metadata": {},
       "overflow": false,
       "plotOptions": {
        "customPlotOptions": {},
        "displayType": "table",
        "pivotAggregation": null,
        "pivotColumns": null,
        "xColumns": null,
        "yColumns": null
       },
       "removedWidgets": [],
       "schema": [
        {
         "metadata": "{}",
         "name": "id",
         "type": "\"long\""
        },
        {
         "metadata": "{}",
         "name": "name",
         "type": "\"string\""
        },
        {
         "metadata": "{}",
         "name": "salary",
         "type": "\"long\""
        },
        {
         "metadata": "{}",
         "name": "city",
         "type": "\"string\""
        },
        {
         "metadata": "{}",
         "name": "encode_row",
         "type": "\"binary\""
        }
       ],
       "type": "table"
      }
     },
     "output_type": "display_data"
    }
   ],
   "source": [
    "df_read = spark.read.format(\"avro\").load(\"/FileStore/tables/avro/employee_avro_data\")\n",
    "display(df_read)"
   ]
  },
  {
   "cell_type": "code",
   "execution_count": 0,
   "metadata": {
    "application/vnd.databricks.v1+cell": {
     "cellMetadata": {
      "byteLimit": 2048000,
      "rowLimit": 10000
     },
     "inputWidgets": {},
     "nuid": "9c3dddca-47d7-487c-b1ec-43da9c642634",
     "showTitle": false,
     "tableResultSettingsMap": {},
     "title": ""
    }
   },
   "outputs": [
    {
     "output_type": "display_data",
     "data": {
      "text/html": [
       "<style scoped>\n",
       "  .table-result-container {\n",
       "    max-height: 300px;\n",
       "    overflow: auto;\n",
       "  }\n",
       "  table, th, td {\n",
       "    border: 1px solid black;\n",
       "    border-collapse: collapse;\n",
       "  }\n",
       "  th, td {\n",
       "    padding: 5px;\n",
       "  }\n",
       "  th {\n",
       "    text-align: left;\n",
       "  }\n",
       "</style><div class='table-result-container'><table class='table-result'><thead style='background-color: white'><tr><th>id</th><th>name</th><th>salary</th><th>city</th><th>encode_row</th></tr></thead><tbody><tr><td>1</td><td>Arjun</td><td>50000</td><td>Nasik</td><td>AAIACkFyanVuAKCNBgAKTmFzaWs=</td></tr></tbody></table></div>"
      ]
     },
     "metadata": {
      "application/vnd.databricks.v1+output": {
       "addedWidgets": {},
       "aggData": [],
       "aggError": "",
       "aggOverflow": false,
       "aggSchema": [],
       "aggSeriesLimitReached": false,
       "aggType": "",
       "arguments": {},
       "columnCustomDisplayInfos": {},
       "data": [
        [
         1,
         "Arjun",
         50000,
         "Nasik",
         "AAIACkFyanVuAKCNBgAKTmFzaWs="
        ]
       ],
       "datasetInfos": [],
       "dbfsResultPath": null,
       "isJsonSchema": true,
       "metadata": {},
       "overflow": false,
       "plotOptions": {
        "customPlotOptions": {},
        "displayType": "table",
        "pivotAggregation": null,
        "pivotColumns": null,
        "xColumns": null,
        "yColumns": null
       },
       "removedWidgets": [],
       "schema": [
        {
         "metadata": "{}",
         "name": "id",
         "type": "\"long\""
        },
        {
         "metadata": "{}",
         "name": "name",
         "type": "\"string\""
        },
        {
         "metadata": "{}",
         "name": "salary",
         "type": "\"long\""
        },
        {
         "metadata": "{}",
         "name": "city",
         "type": "\"string\""
        },
        {
         "metadata": "{}",
         "name": "encode_row",
         "type": "\"binary\""
        }
       ],
       "type": "table"
      }
     },
     "output_type": "display_data"
    },
    {
     "output_type": "display_data",
     "data": {
      "text/html": [
       "<style scoped>\n",
       "  .table-result-container {\n",
       "    max-height: 300px;\n",
       "    overflow: auto;\n",
       "  }\n",
       "  table, th, td {\n",
       "    border: 1px solid black;\n",
       "    border-collapse: collapse;\n",
       "  }\n",
       "  th, td {\n",
       "    padding: 5px;\n",
       "  }\n",
       "  th {\n",
       "    text-align: left;\n",
       "  }\n",
       "</style><div class='table-result-container'><table class='table-result'><thead style='background-color: white'><tr><th>id</th><th>name</th><th>salary</th><th>city</th><th>encode_row</th></tr></thead><tbody><tr><td>2</td><td>Bibin</td><td>60000</td><td>San Francisco</td><td>AAQACkJpYmluAMCpBwAaU2FuIEZyYW5jaXNjbw==</td></tr></tbody></table></div>"
      ]
     },
     "metadata": {
      "application/vnd.databricks.v1+output": {
       "addedWidgets": {},
       "aggData": [],
       "aggError": "",
       "aggOverflow": false,
       "aggSchema": [],
       "aggSeriesLimitReached": false,
       "aggType": "",
       "arguments": {},
       "columnCustomDisplayInfos": {},
       "data": [
        [
         2,
         "Bibin",
         60000,
         "San Francisco",
         "AAQACkJpYmluAMCpBwAaU2FuIEZyYW5jaXNjbw=="
        ]
       ],
       "datasetInfos": [],
       "dbfsResultPath": null,
       "isJsonSchema": true,
       "metadata": {},
       "overflow": false,
       "plotOptions": {
        "customPlotOptions": {},
        "displayType": "table",
        "pivotAggregation": null,
        "pivotColumns": null,
        "xColumns": null,
        "yColumns": null
       },
       "removedWidgets": [],
       "schema": [
        {
         "metadata": "{}",
         "name": "id",
         "type": "\"long\""
        },
        {
         "metadata": "{}",
         "name": "name",
         "type": "\"string\""
        },
        {
         "metadata": "{}",
         "name": "salary",
         "type": "\"long\""
        },
        {
         "metadata": "{}",
         "name": "city",
         "type": "\"string\""
        },
        {
         "metadata": "{}",
         "name": "encode_row",
         "type": "\"binary\""
        }
       ],
       "type": "table"
      }
     },
     "output_type": "display_data"
    },
    {
     "output_type": "display_data",
     "data": {
      "text/html": [
       "<style scoped>\n",
       "  .table-result-container {\n",
       "    max-height: 300px;\n",
       "    overflow: auto;\n",
       "  }\n",
       "  table, th, td {\n",
       "    border: 1px solid black;\n",
       "    border-collapse: collapse;\n",
       "  }\n",
       "  th, td {\n",
       "    padding: 5px;\n",
       "  }\n",
       "  th {\n",
       "    text-align: left;\n",
       "  }\n",
       "</style><div class='table-result-container'><table class='table-result'><thead style='background-color: white'><tr><th>id</th><th>name</th><th>salary</th><th>city</th><th>encode_row</th></tr></thead><tbody><tr><td>3</td><td>Charu</td><td>70000</td><td>Los Angeles</td><td>AAYACkNoYXJ1AODFCAAWTG9zIEFuZ2VsZXM=</td></tr></tbody></table></div>"
      ]
     },
     "metadata": {
      "application/vnd.databricks.v1+output": {
       "addedWidgets": {},
       "aggData": [],
       "aggError": "",
       "aggOverflow": false,
       "aggSchema": [],
       "aggSeriesLimitReached": false,
       "aggType": "",
       "arguments": {},
       "columnCustomDisplayInfos": {},
       "data": [
        [
         3,
         "Charu",
         70000,
         "Los Angeles",
         "AAYACkNoYXJ1AODFCAAWTG9zIEFuZ2VsZXM="
        ]
       ],
       "datasetInfos": [],
       "dbfsResultPath": null,
       "isJsonSchema": true,
       "metadata": {},
       "overflow": false,
       "plotOptions": {
        "customPlotOptions": {},
        "displayType": "table",
        "pivotAggregation": null,
        "pivotColumns": null,
        "xColumns": null,
        "yColumns": null
       },
       "removedWidgets": [],
       "schema": [
        {
         "metadata": "{}",
         "name": "id",
         "type": "\"long\""
        },
        {
         "metadata": "{}",
         "name": "name",
         "type": "\"string\""
        },
        {
         "metadata": "{}",
         "name": "salary",
         "type": "\"long\""
        },
        {
         "metadata": "{}",
         "name": "city",
         "type": "\"string\""
        },
        {
         "metadata": "{}",
         "name": "encode_row",
         "type": "\"binary\""
        }
       ],
       "type": "table"
      }
     },
     "output_type": "display_data"
    },
    {
     "output_type": "display_data",
     "data": {
      "text/html": [
       "<style scoped>\n",
       "  .table-result-container {\n",
       "    max-height: 300px;\n",
       "    overflow: auto;\n",
       "  }\n",
       "  table, th, td {\n",
       "    border: 1px solid black;\n",
       "    border-collapse: collapse;\n",
       "  }\n",
       "  th, td {\n",
       "    padding: 5px;\n",
       "  }\n",
       "  th {\n",
       "    text-align: left;\n",
       "  }\n",
       "</style><div class='table-result-container'><table class='table-result'><thead style='background-color: white'><tr><th>id</th><th>name</th><th>salary</th><th>city</th><th>encode_row</th></tr></thead><tbody><tr><td>4</td><td>Anand</td><td>55500</td><td>Chennai</td><td>AAgACkFuYW5kAJjjBgAOQ2hlbm5haQ==</td></tr><tr><td>5</td><td>Bhaskar</td><td>65550</td><td>Pondichery</td><td>AAoADkJoYXNrYXIAnIAIABRQb25kaWNoZXJ5</td></tr></tbody></table></div>"
      ]
     },
     "metadata": {
      "application/vnd.databricks.v1+output": {
       "addedWidgets": {},
       "aggData": [],
       "aggError": "",
       "aggOverflow": false,
       "aggSchema": [],
       "aggSeriesLimitReached": false,
       "aggType": "",
       "arguments": {},
       "columnCustomDisplayInfos": {},
       "data": [
        [
         4,
         "Anand",
         55500,
         "Chennai",
         "AAgACkFuYW5kAJjjBgAOQ2hlbm5haQ=="
        ],
        [
         5,
         "Bhaskar",
         65550,
         "Pondichery",
         "AAoADkJoYXNrYXIAnIAIABRQb25kaWNoZXJ5"
        ]
       ],
       "datasetInfos": [],
       "dbfsResultPath": null,
       "isJsonSchema": true,
       "metadata": {},
       "overflow": false,
       "plotOptions": {
        "customPlotOptions": {},
        "displayType": "table",
        "pivotAggregation": null,
        "pivotColumns": null,
        "xColumns": null,
        "yColumns": null
       },
       "removedWidgets": [],
       "schema": [
        {
         "metadata": "{}",
         "name": "id",
         "type": "\"long\""
        },
        {
         "metadata": "{}",
         "name": "name",
         "type": "\"string\""
        },
        {
         "metadata": "{}",
         "name": "salary",
         "type": "\"long\""
        },
        {
         "metadata": "{}",
         "name": "city",
         "type": "\"string\""
        },
        {
         "metadata": "{}",
         "name": "encode_row",
         "type": "\"binary\""
        }
       ],
       "type": "table"
      }
     },
     "output_type": "display_data"
    },
    {
     "output_type": "display_data",
     "data": {
      "text/html": [
       "<style scoped>\n",
       "  .table-result-container {\n",
       "    max-height: 300px;\n",
       "    overflow: auto;\n",
       "  }\n",
       "  table, th, td {\n",
       "    border: 1px solid black;\n",
       "    border-collapse: collapse;\n",
       "  }\n",
       "  th, td {\n",
       "    padding: 5px;\n",
       "  }\n",
       "  th {\n",
       "    text-align: left;\n",
       "  }\n",
       "</style><div class='table-result-container'><table class='table-result'><thead style='background-color: white'><tr><th>id</th><th>name</th><th>salary</th><th>city</th><th>encode_row</th></tr></thead><tbody><tr><td>6</td><td>Chandan</td><td>85500</td><td>Bangalore</td><td>AAwADkNoYW5kYW4A+LcKABJCYW5nYWxvcmU=</td></tr></tbody></table></div>"
      ]
     },
     "metadata": {
      "application/vnd.databricks.v1+output": {
       "addedWidgets": {},
       "aggData": [],
       "aggError": "",
       "aggOverflow": false,
       "aggSchema": [],
       "aggSeriesLimitReached": false,
       "aggType": "",
       "arguments": {},
       "columnCustomDisplayInfos": {},
       "data": [
        [
         6,
         "Chandan",
         85500,
         "Bangalore",
         "AAwADkNoYW5kYW4A+LcKABJCYW5nYWxvcmU="
        ]
       ],
       "datasetInfos": [],
       "dbfsResultPath": null,
       "isJsonSchema": true,
       "metadata": {},
       "overflow": false,
       "plotOptions": {
        "customPlotOptions": {},
        "displayType": "table",
        "pivotAggregation": null,
        "pivotColumns": null,
        "xColumns": null,
        "yColumns": null
       },
       "removedWidgets": [],
       "schema": [
        {
         "metadata": "{}",
         "name": "id",
         "type": "\"long\""
        },
        {
         "metadata": "{}",
         "name": "name",
         "type": "\"string\""
        },
        {
         "metadata": "{}",
         "name": "salary",
         "type": "\"long\""
        },
        {
         "metadata": "{}",
         "name": "city",
         "type": "\"string\""
        },
        {
         "metadata": "{}",
         "name": "encode_row",
         "type": "\"binary\""
        }
       ],
       "type": "table"
      }
     },
     "output_type": "display_data"
    },
    {
     "output_type": "display_data",
     "data": {
      "text/html": [
       "<style scoped>\n",
       "  .table-result-container {\n",
       "    max-height: 300px;\n",
       "    overflow: auto;\n",
       "  }\n",
       "  table, th, td {\n",
       "    border: 1px solid black;\n",
       "    border-collapse: collapse;\n",
       "  }\n",
       "  th, td {\n",
       "    padding: 5px;\n",
       "  }\n",
       "  th {\n",
       "    text-align: left;\n",
       "  }\n",
       "</style><div class='table-result-container'><table class='table-result'><thead style='background-color: white'><tr><th>id</th><th>name</th><th>salary</th><th>city</th><th>encode_row</th></tr></thead><tbody><tr><td>7</td><td>Sai</td><td>25000</td><td>Hyderabad</td><td>AA4ABlNhaQDQhgMAEkh5ZGVyYWJhZA==</td></tr></tbody></table></div>"
      ]
     },
     "metadata": {
      "application/vnd.databricks.v1+output": {
       "addedWidgets": {},
       "aggData": [],
       "aggError": "",
       "aggOverflow": false,
       "aggSchema": [],
       "aggSeriesLimitReached": false,
       "aggType": "",
       "arguments": {},
       "columnCustomDisplayInfos": {},
       "data": [
        [
         7,
         "Sai",
         25000,
         "Hyderabad",
         "AA4ABlNhaQDQhgMAEkh5ZGVyYWJhZA=="
        ]
       ],
       "datasetInfos": [],
       "dbfsResultPath": null,
       "isJsonSchema": true,
       "metadata": {},
       "overflow": false,
       "plotOptions": {
        "customPlotOptions": {},
        "displayType": "table",
        "pivotAggregation": null,
        "pivotColumns": null,
        "xColumns": null,
        "yColumns": null
       },
       "removedWidgets": [],
       "schema": [
        {
         "metadata": "{}",
         "name": "id",
         "type": "\"long\""
        },
        {
         "metadata": "{}",
         "name": "name",
         "type": "\"string\""
        },
        {
         "metadata": "{}",
         "name": "salary",
         "type": "\"long\""
        },
        {
         "metadata": "{}",
         "name": "city",
         "type": "\"string\""
        },
        {
         "metadata": "{}",
         "name": "encode_row",
         "type": "\"binary\""
        }
       ],
       "type": "table"
      }
     },
     "output_type": "display_data"
    },
    {
     "output_type": "display_data",
     "data": {
      "text/html": [
       "<style scoped>\n",
       "  .table-result-container {\n",
       "    max-height: 300px;\n",
       "    overflow: auto;\n",
       "  }\n",
       "  table, th, td {\n",
       "    border: 1px solid black;\n",
       "    border-collapse: collapse;\n",
       "  }\n",
       "  th, td {\n",
       "    padding: 5px;\n",
       "  }\n",
       "  th {\n",
       "    text-align: left;\n",
       "  }\n",
       "</style><div class='table-result-container'><table class='table-result'><thead style='background-color: white'><tr><th>id</th><th>name</th><th>salary</th><th>city</th><th>encode_row</th></tr></thead><tbody><tr><td>8</td><td>Rakesh</td><td>35000</td><td>Delhi</td><td>ABAADFJha2VzaADwogQACkRlbGhp</td></tr></tbody></table></div>"
      ]
     },
     "metadata": {
      "application/vnd.databricks.v1+output": {
       "addedWidgets": {},
       "aggData": [],
       "aggError": "",
       "aggOverflow": false,
       "aggSchema": [],
       "aggSeriesLimitReached": false,
       "aggType": "",
       "arguments": {},
       "columnCustomDisplayInfos": {},
       "data": [
        [
         8,
         "Rakesh",
         35000,
         "Delhi",
         "ABAADFJha2VzaADwogQACkRlbGhp"
        ]
       ],
       "datasetInfos": [],
       "dbfsResultPath": null,
       "isJsonSchema": true,
       "metadata": {},
       "overflow": false,
       "plotOptions": {
        "customPlotOptions": {},
        "displayType": "table",
        "pivotAggregation": null,
        "pivotColumns": null,
        "xColumns": null,
        "yColumns": null
       },
       "removedWidgets": [],
       "schema": [
        {
         "metadata": "{}",
         "name": "id",
         "type": "\"long\""
        },
        {
         "metadata": "{}",
         "name": "name",
         "type": "\"string\""
        },
        {
         "metadata": "{}",
         "name": "salary",
         "type": "\"long\""
        },
        {
         "metadata": "{}",
         "name": "city",
         "type": "\"string\""
        },
        {
         "metadata": "{}",
         "name": "encode_row",
         "type": "\"binary\""
        }
       ],
       "type": "table"
      }
     },
     "output_type": "display_data"
    },
    {
     "output_type": "display_data",
     "data": {
      "text/html": [
       "<style scoped>\n",
       "  .table-result-container {\n",
       "    max-height: 300px;\n",
       "    overflow: auto;\n",
       "  }\n",
       "  table, th, td {\n",
       "    border: 1px solid black;\n",
       "    border-collapse: collapse;\n",
       "  }\n",
       "  th, td {\n",
       "    padding: 5px;\n",
       "  }\n",
       "  th {\n",
       "    text-align: left;\n",
       "  }\n",
       "</style><div class='table-result-container'><table class='table-result'><thead style='background-color: white'><tr><th>id</th><th>name</th><th>salary</th><th>city</th><th>encode_row</th></tr></thead><tbody><tr><td>9</td><td>Kiran</td><td>95000</td><td>Amaravati</td><td>ABIACktpcmFuALDMCwASQW1hcmF2YXRp</td></tr><tr><td>10</td><td>Rajini</td><td>45000</td><td>Dubai</td><td>ABQADFJhamluaQCQvwUACkR1YmFp</td></tr></tbody></table></div>"
      ]
     },
     "metadata": {
      "application/vnd.databricks.v1+output": {
       "addedWidgets": {},
       "aggData": [],
       "aggError": "",
       "aggOverflow": false,
       "aggSchema": [],
       "aggSeriesLimitReached": false,
       "aggType": "",
       "arguments": {},
       "columnCustomDisplayInfos": {},
       "data": [
        [
         9,
         "Kiran",
         95000,
         "Amaravati",
         "ABIACktpcmFuALDMCwASQW1hcmF2YXRp"
        ],
        [
         10,
         "Rajini",
         45000,
         "Dubai",
         "ABQADFJhamluaQCQvwUACkR1YmFp"
        ]
       ],
       "datasetInfos": [],
       "dbfsResultPath": null,
       "isJsonSchema": true,
       "metadata": {},
       "overflow": false,
       "plotOptions": {
        "customPlotOptions": {},
        "displayType": "table",
        "pivotAggregation": null,
        "pivotColumns": null,
        "xColumns": null,
        "yColumns": null
       },
       "removedWidgets": [],
       "schema": [
        {
         "metadata": "{}",
         "name": "id",
         "type": "\"long\""
        },
        {
         "metadata": "{}",
         "name": "name",
         "type": "\"string\""
        },
        {
         "metadata": "{}",
         "name": "salary",
         "type": "\"long\""
        },
        {
         "metadata": "{}",
         "name": "city",
         "type": "\"string\""
        },
        {
         "metadata": "{}",
         "name": "encode_row",
         "type": "\"binary\""
        }
       ],
       "type": "table"
      }
     },
     "output_type": "display_data"
    }
   ],
   "source": [
    "df_read1 = spark.read.format(\"avro\").load(\"dbfs:/FileStore/tables/avro/employee_avro_data/part-00000-tid-4540589104069149071-0300496f-0f56-4989-b549-d83183941916-154-1-c000.snappy.avro\")\n",
    "display(df_read1)\n",
    "\n",
    "df_read2 = spark.read.format(\"avro\").load(\"dbfs:/FileStore/tables/avro/employee_avro_data/part-00001-tid-4540589104069149071-0300496f-0f56-4989-b549-d83183941916-155-1-c000.snappy.avro\")\n",
    "display(df_read2)\n",
    "\n",
    "df_read3 = spark.read.format(\"avro\").load(\"dbfs:/FileStore/tables/avro/employee_avro_data/part-00002-tid-4540589104069149071-0300496f-0f56-4989-b549-d83183941916-156-1-c000.snappy.avro\")\n",
    "display(df_read3)\n",
    "\n",
    "df_read4 = spark.read.format(\"avro\").load(\"dbfs:/FileStore/tables/avro/employee_avro_data/part-00003-tid-4540589104069149071-0300496f-0f56-4989-b549-d83183941916-157-1-c000.snappy.avro\")\n",
    "display(df_read4)\n",
    "\n",
    "df_read5 = spark.read.format(\"avro\").load(\"dbfs:/FileStore/tables/avro/employee_avro_data/part-00004-tid-4540589104069149071-0300496f-0f56-4989-b549-d83183941916-158-1-c000.snappy.avro\")\n",
    "display(df_read5)\n",
    "\n",
    "df_read6 = spark.read.format(\"avro\").load(\"dbfs:/FileStore/tables/avro/employee_avro_data/part-00005-tid-4540589104069149071-0300496f-0f56-4989-b549-d83183941916-159-1-c000.snappy.avro\")\n",
    "display(df_read6)\n",
    "\n",
    "df_read7 = spark.read.format(\"avro\").load(\"dbfs:/FileStore/tables/avro/employee_avro_data/part-00006-tid-4540589104069149071-0300496f-0f56-4989-b549-d83183941916-160-1-c000.snappy.avro\")\n",
    "display(df_read7)\n",
    "\n",
    "df_read8 = spark.read.format(\"avro\").load(\"dbfs:/FileStore/tables/avro/employee_avro_data/part-00007-tid-4540589104069149071-0300496f-0f56-4989-b549-d83183941916-161-1-c000.snappy.avro\")\n",
    "display(df_read8)"
   ]
  }
 ],
 "metadata": {
  "application/vnd.databricks.v1+notebook": {
   "computePreferences": null,
   "dashboards": [],
   "environmentMetadata": null,
   "language": "python",
   "notebookMetadata": {
    "mostRecentlyExecutedCommandWithImplicitDF": {
     "commandId": 2191967400465297,
     "dataframes": [
      "_sqldf"
     ]
    },
    "pythonIndentUnit": 4
   },
   "notebookName": "144_How to convert DataFrame columns into Avro format using to_avro",
   "widgets": {}
  }
 },
 "nbformat": 4,
 "nbformat_minor": 0
}
