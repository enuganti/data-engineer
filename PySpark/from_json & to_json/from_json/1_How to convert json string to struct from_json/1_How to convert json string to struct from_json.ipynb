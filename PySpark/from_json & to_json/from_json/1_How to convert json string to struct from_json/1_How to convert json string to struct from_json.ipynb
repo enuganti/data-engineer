{
 "cells": [
  {
   "cell_type": "markdown",
   "metadata": {
    "application/vnd.databricks.v1+cell": {
     "cellMetadata": {},
     "inputWidgets": {},
     "nuid": "72738194-6898-4200-b83a-abf70fb23c41",
     "showTitle": false,
     "title": ""
    }
   },
   "source": [
    "#### **from_json**\n",
    "\n",
    "- Function is used to convert **JSON string** into **Struct type or Map type**."
   ]
  },
  {
   "cell_type": "markdown",
   "metadata": {
    "application/vnd.databricks.v1+cell": {
     "cellMetadata": {},
     "inputWidgets": {},
     "nuid": "3df695bd-1715-406c-be97-e1e4cbb1ca74",
     "showTitle": false,
     "title": ""
    }
   },
   "source": [
    "#### **How to convert JSON string to StructType?**"
   ]
  },
  {
   "cell_type": "markdown",
   "metadata": {
    "application/vnd.databricks.v1+cell": {
     "cellMetadata": {},
     "inputWidgets": {},
     "nuid": "ab4e75dd-e311-448e-abb2-35429fb50cc6",
     "showTitle": false,
     "title": ""
    }
   },
   "source": [
    "1) JSON String\n",
    "2) Nested Structure\n",
    "3) CSV to StructType to JSON string to StructType"
   ]
  },
  {
   "cell_type": "markdown",
   "metadata": {
    "application/vnd.databricks.v1+cell": {
     "cellMetadata": {},
     "inputWidgets": {},
     "nuid": "344ef0cb-949f-4003-8018-92aabeb9febb",
     "showTitle": false,
     "title": ""
    }
   },
   "source": [
    "**1) JSON String**"
   ]
  },
  {
   "cell_type": "code",
   "execution_count": 0,
   "metadata": {
    "application/vnd.databricks.v1+cell": {
     "cellMetadata": {
      "byteLimit": 2048000,
      "rowLimit": 10000
     },
     "inputWidgets": {},
     "nuid": "d5a1bf1c-9526-429b-9ec6-fe0f0ec5394e",
     "showTitle": false,
     "title": ""
    }
   },
   "outputs": [],
   "source": [
    "from pyspark.sql.functions import from_json, lit, col\n",
    "from pyspark.sql.types import StructType, StructField, IntegerType, StringType\n",
    "import pyspark.sql.functions as f"
   ]
  },
  {
   "cell_type": "markdown",
   "metadata": {
    "application/vnd.databricks.v1+cell": {
     "cellMetadata": {},
     "inputWidgets": {},
     "nuid": "137fc24b-8c60-4f50-a467-3f7f51723058",
     "showTitle": false,
     "title": ""
    }
   },
   "source": [
    "**Ex 01**"
   ]
  },
  {
   "cell_type": "code",
   "execution_count": 0,
   "metadata": {
    "application/vnd.databricks.v1+cell": {
     "cellMetadata": {
      "byteLimit": 2048000,
      "rowLimit": 10000
     },
     "inputWidgets": {},
     "nuid": "bee5cd87-0b91-4479-b7c2-ed98b737179d",
     "showTitle": false,
     "title": ""
    }
   },
   "outputs": [
    {
     "output_type": "display_data",
     "data": {
      "text/html": [
       "<style scoped>\n",
       "  .table-result-container {\n",
       "    max-height: 300px;\n",
       "    overflow: auto;\n",
       "  }\n",
       "  table, th, td {\n",
       "    border: 1px solid black;\n",
       "    border-collapse: collapse;\n",
       "  }\n",
       "  th, td {\n",
       "    padding: 5px;\n",
       "  }\n",
       "  th {\n",
       "    text-align: left;\n",
       "  }\n",
       "</style><div class='table-result-container'><table class='table-result'><thead style='background-color: white'><tr><th>id</th><th>Format</th><th>Name</th></tr></thead><tbody><tr><td>123</td><td>{\"Name\":\"Kiran\", \"Dept\": \"Admin\", \"Tech\": \"SAP\", \"age\": 32, \"Level\": \"High\"}</td><td>Sony</td></tr><tr><td>124</td><td>{\"Name\":\"kishore\", \"Dept\": \"IT\", \"Tech\": \"ORACLE\", \"age\": 42, \"Level\": \"Medium\"}</td><td>kumar</td></tr><tr><td>125</td><td>{\"Name\":\"karan\", \"Dept\": \"Testing\", \"Tech\": \"SQL\", \"age\": 38, \"Level\": \"Low\"}</td><td>sharma</td></tr><tr><td>126</td><td>{\"Name\":\"sharath\", \"Dept\": \"Prod\", \"Tech\": \"ANALYSIS\", \"age\": 40, \"Level\": \"Medium\"}</td><td>roy</td></tr><tr><td>127</td><td>{\"Name\":\"sayan\", \"Dept\": \"Sales\", \"Tech\": \"DATA SCIENCE\", \"age\": 45, \"Level\": \"Top\"}</td><td>gupta</td></tr></tbody></table></div>"
      ]
     },
     "metadata": {
      "application/vnd.databricks.v1+output": {
       "addedWidgets": {},
       "aggData": [],
       "aggError": "",
       "aggOverflow": false,
       "aggSchema": [],
       "aggSeriesLimitReached": false,
       "aggType": "",
       "arguments": {},
       "columnCustomDisplayInfos": {},
       "data": [
        [
         123,
         "{\"Name\":\"Kiran\", \"Dept\": \"Admin\", \"Tech\": \"SAP\", \"age\": 32, \"Level\": \"High\"}",
         "Sony"
        ],
        [
         124,
         "{\"Name\":\"kishore\", \"Dept\": \"IT\", \"Tech\": \"ORACLE\", \"age\": 42, \"Level\": \"Medium\"}",
         "kumar"
        ],
        [
         125,
         "{\"Name\":\"karan\", \"Dept\": \"Testing\", \"Tech\": \"SQL\", \"age\": 38, \"Level\": \"Low\"}",
         "sharma"
        ],
        [
         126,
         "{\"Name\":\"sharath\", \"Dept\": \"Prod\", \"Tech\": \"ANALYSIS\", \"age\": 40, \"Level\": \"Medium\"}",
         "roy"
        ],
        [
         127,
         "{\"Name\":\"sayan\", \"Dept\": \"Sales\", \"Tech\": \"DATA SCIENCE\", \"age\": 45, \"Level\": \"Top\"}",
         "gupta"
        ]
       ],
       "datasetInfos": [],
       "dbfsResultPath": null,
       "isJsonSchema": true,
       "metadata": {},
       "overflow": false,
       "plotOptions": {
        "customPlotOptions": {},
        "displayType": "table",
        "pivotAggregation": null,
        "pivotColumns": null,
        "xColumns": null,
        "yColumns": null
       },
       "removedWidgets": [],
       "schema": [
        {
         "metadata": "{}",
         "name": "id",
         "type": "\"long\""
        },
        {
         "metadata": "{}",
         "name": "Format",
         "type": "\"string\""
        },
        {
         "metadata": "{}",
         "name": "Name",
         "type": "\"string\""
        }
       ],
       "type": "table"
      }
     },
     "output_type": "display_data"
    }
   ],
   "source": [
    "data = [(123, '''{\"Name\":\"Kiran\", \"Dept\": \"Admin\", \"Tech\": \"SAP\", \"age\": 32, \"Level\": \"High\"}''', \"Sony\"),\n",
    "        (124, '''{\"Name\":\"kishore\", \"Dept\": \"IT\", \"Tech\": \"ORACLE\", \"age\": 42, \"Level\": \"Medium\"}''', \"kumar\"),\n",
    "        (125, '''{\"Name\":\"karan\", \"Dept\": \"Testing\", \"Tech\": \"SQL\", \"age\": 38, \"Level\": \"Low\"}''', \"sharma\"),\n",
    "        (126, '''{\"Name\":\"sharath\", \"Dept\": \"Prod\", \"Tech\": \"ANALYSIS\", \"age\": 40, \"Level\": \"Medium\"}''', \"roy\"),\n",
    "        (127, '''{\"Name\":\"sayan\", \"Dept\": \"Sales\", \"Tech\": \"DATA SCIENCE\", \"age\": 45, \"Level\": \"Top\"}''', \"gupta\")]\n",
    "\n",
    "schema = (\"id\", \"Format\", \"Name\")\n",
    "\n",
    "df_ex01 = spark.createDataFrame(data, schema)\n",
    "display(df_ex01)"
   ]
  },
  {
   "cell_type": "code",
   "execution_count": 0,
   "metadata": {
    "application/vnd.databricks.v1+cell": {
     "cellMetadata": {
      "byteLimit": 2048000,
      "rowLimit": 10000
     },
     "inputWidgets": {},
     "nuid": "7f7ebdec-921f-4869-9f41-b13c9f482c0c",
     "showTitle": false,
     "title": ""
    }
   },
   "outputs": [],
   "source": [
    "schema = StructType([StructField(\"Name\", StringType(), True),\n",
    "                     StructField(\"Dept\", StringType(), True),\n",
    "                     StructField(\"Tech\", StringType(), True),\n",
    "                     StructField(\"age\", IntegerType(), True),\n",
    "                     StructField(\"Level\", StringType(), True)\n",
    "                     ]\n",
    "                    )"
   ]
  },
  {
   "cell_type": "code",
   "execution_count": 0,
   "metadata": {
    "application/vnd.databricks.v1+cell": {
     "cellMetadata": {
      "byteLimit": 2048000,
      "rowLimit": 10000
     },
     "inputWidgets": {},
     "nuid": "e3317cf7-5465-4b51-af0c-04bab7390dbd",
     "showTitle": false,
     "title": ""
    }
   },
   "outputs": [
    {
     "output_type": "display_data",
     "data": {
      "text/html": [
       "<style scoped>\n",
       "  .table-result-container {\n",
       "    max-height: 300px;\n",
       "    overflow: auto;\n",
       "  }\n",
       "  table, th, td {\n",
       "    border: 1px solid black;\n",
       "    border-collapse: collapse;\n",
       "  }\n",
       "  th, td {\n",
       "    padding: 5px;\n",
       "  }\n",
       "  th {\n",
       "    text-align: left;\n",
       "  }\n",
       "</style><div class='table-result-container'><table class='table-result'><thead style='background-color: white'><tr><th>Format</th><th>parsed_json</th></tr></thead><tbody><tr><td>{\"Name\":\"Kiran\", \"Dept\": \"Admin\", \"Tech\": \"SAP\", \"age\": 32, \"Level\": \"High\"}</td><td>List(Kiran, Admin, SAP, 32, High)</td></tr><tr><td>{\"Name\":\"kishore\", \"Dept\": \"IT\", \"Tech\": \"ORACLE\", \"age\": 42, \"Level\": \"Medium\"}</td><td>List(kishore, IT, ORACLE, 42, Medium)</td></tr><tr><td>{\"Name\":\"karan\", \"Dept\": \"Testing\", \"Tech\": \"SQL\", \"age\": 38, \"Level\": \"Low\"}</td><td>List(karan, Testing, SQL, 38, Low)</td></tr><tr><td>{\"Name\":\"sharath\", \"Dept\": \"Prod\", \"Tech\": \"ANALYSIS\", \"age\": 40, \"Level\": \"Medium\"}</td><td>List(sharath, Prod, ANALYSIS, 40, Medium)</td></tr><tr><td>{\"Name\":\"sayan\", \"Dept\": \"Sales\", \"Tech\": \"DATA SCIENCE\", \"age\": 45, \"Level\": \"Top\"}</td><td>List(sayan, Sales, DATA SCIENCE, 45, Top)</td></tr></tbody></table></div>"
      ]
     },
     "metadata": {
      "application/vnd.databricks.v1+output": {
       "addedWidgets": {},
       "aggData": [],
       "aggError": "",
       "aggOverflow": false,
       "aggSchema": [],
       "aggSeriesLimitReached": false,
       "aggType": "",
       "arguments": {},
       "columnCustomDisplayInfos": {},
       "data": [
        [
         "{\"Name\":\"Kiran\", \"Dept\": \"Admin\", \"Tech\": \"SAP\", \"age\": 32, \"Level\": \"High\"}",
         [
          "Kiran",
          "Admin",
          "SAP",
          32,
          "High"
         ]
        ],
        [
         "{\"Name\":\"kishore\", \"Dept\": \"IT\", \"Tech\": \"ORACLE\", \"age\": 42, \"Level\": \"Medium\"}",
         [
          "kishore",
          "IT",
          "ORACLE",
          42,
          "Medium"
         ]
        ],
        [
         "{\"Name\":\"karan\", \"Dept\": \"Testing\", \"Tech\": \"SQL\", \"age\": 38, \"Level\": \"Low\"}",
         [
          "karan",
          "Testing",
          "SQL",
          38,
          "Low"
         ]
        ],
        [
         "{\"Name\":\"sharath\", \"Dept\": \"Prod\", \"Tech\": \"ANALYSIS\", \"age\": 40, \"Level\": \"Medium\"}",
         [
          "sharath",
          "Prod",
          "ANALYSIS",
          40,
          "Medium"
         ]
        ],
        [
         "{\"Name\":\"sayan\", \"Dept\": \"Sales\", \"Tech\": \"DATA SCIENCE\", \"age\": 45, \"Level\": \"Top\"}",
         [
          "sayan",
          "Sales",
          "DATA SCIENCE",
          45,
          "Top"
         ]
        ]
       ],
       "datasetInfos": [],
       "dbfsResultPath": null,
       "isJsonSchema": true,
       "metadata": {},
       "overflow": false,
       "plotOptions": {
        "customPlotOptions": {},
        "displayType": "table",
        "pivotAggregation": null,
        "pivotColumns": null,
        "xColumns": null,
        "yColumns": null
       },
       "removedWidgets": [],
       "schema": [
        {
         "metadata": "{}",
         "name": "Format",
         "type": "\"string\""
        },
        {
         "metadata": "{}",
         "name": "parsed_json",
         "type": "{\"type\":\"struct\",\"fields\":[{\"name\":\"Name\",\"type\":\"string\",\"nullable\":true,\"metadata\":{}},{\"name\":\"Dept\",\"type\":\"string\",\"nullable\":true,\"metadata\":{}},{\"name\":\"Tech\",\"type\":\"string\",\"nullable\":true,\"metadata\":{}},{\"name\":\"age\",\"type\":\"integer\",\"nullable\":true,\"metadata\":{}},{\"name\":\"Level\",\"type\":\"string\",\"nullable\":true,\"metadata\":{}}]}"
        }
       ],
       "type": "table"
      }
     },
     "output_type": "display_data"
    }
   ],
   "source": [
    "df_ex01 = df_ex01.select('Format', from_json(f.col('Format'), schema).alias(\"parsed_json\"))\n",
    "display(df_ex01)"
   ]
  },
  {
   "cell_type": "markdown",
   "metadata": {
    "application/vnd.databricks.v1+cell": {
     "cellMetadata": {},
     "inputWidgets": {},
     "nuid": "00a17d1c-aad3-4c54-9c8a-d0445010afea",
     "showTitle": false,
     "title": ""
    }
   },
   "source": [
    "**Ex 02**"
   ]
  },
  {
   "cell_type": "code",
   "execution_count": 0,
   "metadata": {
    "application/vnd.databricks.v1+cell": {
     "cellMetadata": {
      "byteLimit": 2048000,
      "rowLimit": 10000
     },
     "inputWidgets": {},
     "nuid": "ddfa31fd-31f9-422a-93ac-a995f8741e0e",
     "showTitle": false,
     "title": ""
    }
   },
   "outputs": [
    {
     "output_type": "display_data",
     "data": {
      "text/html": [
       "<style scoped>\n",
       "  .table-result-container {\n",
       "    max-height: 300px;\n",
       "    overflow: auto;\n",
       "  }\n",
       "  table, th, td {\n",
       "    border: 1px solid black;\n",
       "    border-collapse: collapse;\n",
       "  }\n",
       "  th, td {\n",
       "    padding: 5px;\n",
       "  }\n",
       "  th {\n",
       "    text-align: left;\n",
       "  }\n",
       "</style><div class='table-result-container'><table class='table-result'><thead style='background-color: white'><tr><th>address</th><th>age</th><th>first_name</th></tr></thead><tbody><tr><td>{\"city\": \"Baroda\", \"country\": \"india\", \"state\": \"Rj\"}</td><td>32</td><td>kiran</td></tr><tr><td>{\"city\": \"Nasik\", \"country\": \"india\", \"state\": \"UP\"}</td><td>25</td><td>Micheal</td></tr><tr><td>{\"city\": \"Hyderabad\", \"country\": \"india\", \"state\": \"TS\"}</td><td>32</td><td>Prakash</td></tr><tr><td>{\"city\": \"Bangalore\", \"country\": \"india\", \"state\": \"KA\"}</td><td>25</td><td>Ritesh</td></tr><tr><td>{\"city\": \"Delhi\", \"country\": \"india\", \"state\": \"DL\"}</td><td>32</td><td>Vaibhav</td></tr><tr><td>{\"city\": \"Chennai\", \"country\": \"india\", \"state\": \"TN\"}</td><td>25</td><td>Goerge</td></tr></tbody></table></div>"
      ]
     },
     "metadata": {
      "application/vnd.databricks.v1+output": {
       "addedWidgets": {},
       "aggData": [],
       "aggError": "",
       "aggOverflow": false,
       "aggSchema": [],
       "aggSeriesLimitReached": false,
       "aggType": "",
       "arguments": {},
       "columnCustomDisplayInfos": {},
       "data": [
        [
         "{\"city\": \"Baroda\", \"country\": \"india\", \"state\": \"Rj\"}",
         32,
         "kiran"
        ],
        [
         "{\"city\": \"Nasik\", \"country\": \"india\", \"state\": \"UP\"}",
         25,
         "Micheal"
        ],
        [
         "{\"city\": \"Hyderabad\", \"country\": \"india\", \"state\": \"TS\"}",
         32,
         "Prakash"
        ],
        [
         "{\"city\": \"Bangalore\", \"country\": \"india\", \"state\": \"KA\"}",
         25,
         "Ritesh"
        ],
        [
         "{\"city\": \"Delhi\", \"country\": \"india\", \"state\": \"DL\"}",
         32,
         "Vaibhav"
        ],
        [
         "{\"city\": \"Chennai\", \"country\": \"india\", \"state\": \"TN\"}",
         25,
         "Goerge"
        ]
       ],
       "datasetInfos": [],
       "dbfsResultPath": null,
       "isJsonSchema": true,
       "metadata": {},
       "overflow": false,
       "plotOptions": {
        "customPlotOptions": {},
        "displayType": "table",
        "pivotAggregation": null,
        "pivotColumns": null,
        "xColumns": null,
        "yColumns": null
       },
       "removedWidgets": [],
       "schema": [
        {
         "metadata": "{}",
         "name": "address",
         "type": "\"string\""
        },
        {
         "metadata": "{}",
         "name": "age",
         "type": "\"long\""
        },
        {
         "metadata": "{}",
         "name": "first_name",
         "type": "\"string\""
        }
       ],
       "type": "table"
      }
     },
     "output_type": "display_data"
    }
   ],
   "source": [
    "from pyspark.sql import SparkSession\n",
    "\n",
    "# Assuming `dff` is your JSON string\n",
    "dff = \"\"\"[\n",
    "    {\"first_name\": \"kiran\", \"age\": 32, \"address\": '{\"city\": \"Baroda\", \"country\": \"india\", \"state\": \"Rj\"}'},\n",
    "    {\"first_name\": \"Micheal\", \"age\": 25, \"address\": '{\"city\": \"Nasik\", \"country\": \"india\", \"state\": \"UP\"}'},\n",
    "    {\"first_name\": \"Prakash\", \"age\": 32, \"address\": '{\"city\": \"Hyderabad\", \"country\": \"india\", \"state\": \"TS\"}'},\n",
    "    {\"first_name\": \"Ritesh\", \"age\": 25, \"address\": '{\"city\": \"Bangalore\", \"country\": \"india\", \"state\": \"KA\"}'},\n",
    "    {\"first_name\": \"Vaibhav\", \"age\": 32, \"address\": '{\"city\": \"Delhi\", \"country\": \"india\", \"state\": \"DL\"}'},\n",
    "    {\"first_name\": \"Goerge\", \"age\": 25, \"address\": '{\"city\": \"Chennai\", \"country\": \"india\", \"state\": \"TN\"}'}        \n",
    "    ]\"\"\"\n",
    "\n",
    "# Convert the JSON string to an RDD\n",
    "rdd = spark.sparkContext.parallelize([dff])\n",
    "\n",
    "# Read the JSON from the RDD\n",
    "df_ex02 = spark.read.json(rdd, multiLine=True)\n",
    "\n",
    "display(df_ex02)"
   ]
  },
  {
   "cell_type": "code",
   "execution_count": 0,
   "metadata": {
    "application/vnd.databricks.v1+cell": {
     "cellMetadata": {
      "byteLimit": 2048000,
      "rowLimit": 10000
     },
     "inputWidgets": {},
     "nuid": "e9e5411d-3803-4633-85c2-b50615a0caa3",
     "showTitle": false,
     "title": ""
    }
   },
   "outputs": [],
   "source": [
    "schema1 = StructType([StructField(\"city\", StringType(), True),\n",
    "                      StructField(\"country\", StringType(), True),\n",
    "                      StructField(\"state\", StringType(), True)\n",
    "                      ]\n",
    "                     )"
   ]
  },
  {
   "cell_type": "code",
   "execution_count": 0,
   "metadata": {
    "application/vnd.databricks.v1+cell": {
     "cellMetadata": {
      "byteLimit": 2048000,
      "rowLimit": 10000
     },
     "inputWidgets": {},
     "nuid": "2500e94f-91ef-4fa7-a791-07b31c7f5451",
     "showTitle": false,
     "title": ""
    }
   },
   "outputs": [
    {
     "output_type": "display_data",
     "data": {
      "text/html": [
       "<style scoped>\n",
       "  .table-result-container {\n",
       "    max-height: 300px;\n",
       "    overflow: auto;\n",
       "  }\n",
       "  table, th, td {\n",
       "    border: 1px solid black;\n",
       "    border-collapse: collapse;\n",
       "  }\n",
       "  th, td {\n",
       "    padding: 5px;\n",
       "  }\n",
       "  th {\n",
       "    text-align: left;\n",
       "  }\n",
       "</style><div class='table-result-container'><table class='table-result'><thead style='background-color: white'><tr><th>address</th><th>address_json</th></tr></thead><tbody><tr><td>{\"city\": \"Baroda\", \"country\": \"india\", \"state\": \"Rj\"}</td><td>List(Baroda, india, Rj)</td></tr><tr><td>{\"city\": \"Nasik\", \"country\": \"india\", \"state\": \"UP\"}</td><td>List(Nasik, india, UP)</td></tr><tr><td>{\"city\": \"Hyderabad\", \"country\": \"india\", \"state\": \"TS\"}</td><td>List(Hyderabad, india, TS)</td></tr><tr><td>{\"city\": \"Bangalore\", \"country\": \"india\", \"state\": \"KA\"}</td><td>List(Bangalore, india, KA)</td></tr><tr><td>{\"city\": \"Delhi\", \"country\": \"india\", \"state\": \"DL\"}</td><td>List(Delhi, india, DL)</td></tr><tr><td>{\"city\": \"Chennai\", \"country\": \"india\", \"state\": \"TN\"}</td><td>List(Chennai, india, TN)</td></tr></tbody></table></div>"
      ]
     },
     "metadata": {
      "application/vnd.databricks.v1+output": {
       "addedWidgets": {},
       "aggData": [],
       "aggError": "",
       "aggOverflow": false,
       "aggSchema": [],
       "aggSeriesLimitReached": false,
       "aggType": "",
       "arguments": {},
       "columnCustomDisplayInfos": {},
       "data": [
        [
         "{\"city\": \"Baroda\", \"country\": \"india\", \"state\": \"Rj\"}",
         [
          "Baroda",
          "india",
          "Rj"
         ]
        ],
        [
         "{\"city\": \"Nasik\", \"country\": \"india\", \"state\": \"UP\"}",
         [
          "Nasik",
          "india",
          "UP"
         ]
        ],
        [
         "{\"city\": \"Hyderabad\", \"country\": \"india\", \"state\": \"TS\"}",
         [
          "Hyderabad",
          "india",
          "TS"
         ]
        ],
        [
         "{\"city\": \"Bangalore\", \"country\": \"india\", \"state\": \"KA\"}",
         [
          "Bangalore",
          "india",
          "KA"
         ]
        ],
        [
         "{\"city\": \"Delhi\", \"country\": \"india\", \"state\": \"DL\"}",
         [
          "Delhi",
          "india",
          "DL"
         ]
        ],
        [
         "{\"city\": \"Chennai\", \"country\": \"india\", \"state\": \"TN\"}",
         [
          "Chennai",
          "india",
          "TN"
         ]
        ]
       ],
       "datasetInfos": [],
       "dbfsResultPath": null,
       "isJsonSchema": true,
       "metadata": {},
       "overflow": false,
       "plotOptions": {
        "customPlotOptions": {},
        "displayType": "table",
        "pivotAggregation": null,
        "pivotColumns": null,
        "xColumns": null,
        "yColumns": null
       },
       "removedWidgets": [],
       "schema": [
        {
         "metadata": "{}",
         "name": "address",
         "type": "\"string\""
        },
        {
         "metadata": "{}",
         "name": "address_json",
         "type": "{\"type\":\"struct\",\"fields\":[{\"name\":\"city\",\"type\":\"string\",\"nullable\":true,\"metadata\":{}},{\"name\":\"country\",\"type\":\"string\",\"nullable\":true,\"metadata\":{}},{\"name\":\"state\",\"type\":\"string\",\"nullable\":true,\"metadata\":{}}]}"
        }
       ],
       "type": "table"
      }
     },
     "output_type": "display_data"
    }
   ],
   "source": [
    "df_ex02 = df_ex02.select('address', f.from_json(f.col('address'), schema1).alias(\"address_json\"))\n",
    "display(df_ex02)"
   ]
  },
  {
   "cell_type": "markdown",
   "metadata": {
    "application/vnd.databricks.v1+cell": {
     "cellMetadata": {},
     "inputWidgets": {},
     "nuid": "e985b9d5-c684-446b-9400-83a4e135dea2",
     "showTitle": false,
     "title": ""
    }
   },
   "source": [
    "**Ex 03**"
   ]
  },
  {
   "cell_type": "code",
   "execution_count": 0,
   "metadata": {
    "application/vnd.databricks.v1+cell": {
     "cellMetadata": {
      "byteLimit": 2048000,
      "rowLimit": 10000
     },
     "inputWidgets": {},
     "nuid": "609a800b-2c2c-406f-847f-f31972ef7a9d",
     "showTitle": false,
     "title": ""
    }
   },
   "outputs": [
    {
     "output_type": "display_data",
     "data": {
      "text/html": [
       "<style scoped>\n",
       "  .table-result-container {\n",
       "    max-height: 300px;\n",
       "    overflow: auto;\n",
       "  }\n",
       "  table, th, td {\n",
       "    border: 1px solid black;\n",
       "    border-collapse: collapse;\n",
       "  }\n",
       "  th, td {\n",
       "    padding: 5px;\n",
       "  }\n",
       "  th {\n",
       "    text-align: left;\n",
       "  }\n",
       "</style><div class='table-result-container'><table class='table-result'><thead style='background-color: white'><tr><th>json_data</th></tr></thead><tbody><tr><td>{\"city\":\"Baroda\", \"country\":\"india\", \"state\":\"RJ\"}</td></tr><tr><td>{\"city\":\"Nasik\", \"country\":\"india\", \"state\":\"UP\"}</td></tr><tr><td>{\"city\":\"Hyderabad\", \"country\":\"india\", \"state\":\"TS\"}</td></tr><tr><td>{\"city\":\"Bangalore\", \"country\":\"india\", \"state\":\"KA\"}</td></tr></tbody></table></div>"
      ]
     },
     "metadata": {
      "application/vnd.databricks.v1+output": {
       "addedWidgets": {},
       "aggData": [],
       "aggError": "",
       "aggOverflow": false,
       "aggSchema": [],
       "aggSeriesLimitReached": false,
       "aggType": "",
       "arguments": {},
       "columnCustomDisplayInfos": {},
       "data": [
        [
         "{\"city\":\"Baroda\", \"country\":\"india\", \"state\":\"RJ\"}"
        ],
        [
         "{\"city\":\"Nasik\", \"country\":\"india\", \"state\":\"UP\"}"
        ],
        [
         "{\"city\":\"Hyderabad\", \"country\":\"india\", \"state\":\"TS\"}"
        ],
        [
         "{\"city\":\"Bangalore\", \"country\":\"india\", \"state\":\"KA\"}"
        ]
       ],
       "datasetInfos": [],
       "dbfsResultPath": null,
       "isJsonSchema": true,
       "metadata": {},
       "overflow": false,
       "plotOptions": {
        "customPlotOptions": {},
        "displayType": "table",
        "pivotAggregation": null,
        "pivotColumns": null,
        "xColumns": null,
        "yColumns": null
       },
       "removedWidgets": [],
       "schema": [
        {
         "metadata": "{}",
         "name": "json_data",
         "type": "\"string\""
        }
       ],
       "type": "table"
      }
     },
     "output_type": "display_data"
    }
   ],
   "source": [
    "data = [(\"{\\\"city\\\":\\\"Baroda\\\", \\\"country\\\":\\\"india\\\", \\\"state\\\":\\\"RJ\\\"}\",),\n",
    "        (\"{\\\"city\\\":\\\"Nasik\\\", \\\"country\\\":\\\"india\\\", \\\"state\\\":\\\"UP\\\"}\",),\n",
    "        (\"{\\\"city\\\":\\\"Hyderabad\\\", \\\"country\\\":\\\"india\\\", \\\"state\\\":\\\"TS\\\"}\",),\n",
    "        (\"{\\\"city\\\":\\\"Bangalore\\\", \\\"country\\\":\\\"india\\\", \\\"state\\\":\\\"KA\\\"}\",),\n",
    "         ]\n",
    "\n",
    "df_ex03 = spark.createDataFrame(data, [\"json_data\"])\n",
    "display(df_ex03)"
   ]
  },
  {
   "cell_type": "code",
   "execution_count": 0,
   "metadata": {
    "application/vnd.databricks.v1+cell": {
     "cellMetadata": {
      "byteLimit": 2048000,
      "rowLimit": 10000
     },
     "inputWidgets": {},
     "nuid": "4402daf3-0dac-45da-b033-0cf47c2e51b9",
     "showTitle": false,
     "title": ""
    }
   },
   "outputs": [],
   "source": [
    "schema2 = StructType([StructField(\"city\", StringType(), True),\n",
    "                      StructField(\"country\", StringType(), True),\n",
    "                      StructField(\"state\", StringType(), True)\n",
    "                      ]\n",
    "                     )"
   ]
  },
  {
   "cell_type": "code",
   "execution_count": 0,
   "metadata": {
    "application/vnd.databricks.v1+cell": {
     "cellMetadata": {
      "byteLimit": 2048000,
      "rowLimit": 10000
     },
     "inputWidgets": {},
     "nuid": "6a19f2b1-ff55-402f-b6b1-f44b1f6a1d2d",
     "showTitle": false,
     "title": ""
    }
   },
   "outputs": [
    {
     "output_type": "display_data",
     "data": {
      "text/html": [
       "<style scoped>\n",
       "  .table-result-container {\n",
       "    max-height: 300px;\n",
       "    overflow: auto;\n",
       "  }\n",
       "  table, th, td {\n",
       "    border: 1px solid black;\n",
       "    border-collapse: collapse;\n",
       "  }\n",
       "  th, td {\n",
       "    padding: 5px;\n",
       "  }\n",
       "  th {\n",
       "    text-align: left;\n",
       "  }\n",
       "</style><div class='table-result-container'><table class='table-result'><thead style='background-color: white'><tr><th>json_data</th><th>json_data_json</th></tr></thead><tbody><tr><td>{\"city\":\"Baroda\", \"country\":\"india\", \"state\":\"RJ\"}</td><td>List(Baroda, india, RJ)</td></tr><tr><td>{\"city\":\"Nasik\", \"country\":\"india\", \"state\":\"UP\"}</td><td>List(Nasik, india, UP)</td></tr><tr><td>{\"city\":\"Hyderabad\", \"country\":\"india\", \"state\":\"TS\"}</td><td>List(Hyderabad, india, TS)</td></tr><tr><td>{\"city\":\"Bangalore\", \"country\":\"india\", \"state\":\"KA\"}</td><td>List(Bangalore, india, KA)</td></tr></tbody></table></div>"
      ]
     },
     "metadata": {
      "application/vnd.databricks.v1+output": {
       "addedWidgets": {},
       "aggData": [],
       "aggError": "",
       "aggOverflow": false,
       "aggSchema": [],
       "aggSeriesLimitReached": false,
       "aggType": "",
       "arguments": {},
       "columnCustomDisplayInfos": {},
       "data": [
        [
         "{\"city\":\"Baroda\", \"country\":\"india\", \"state\":\"RJ\"}",
         [
          "Baroda",
          "india",
          "RJ"
         ]
        ],
        [
         "{\"city\":\"Nasik\", \"country\":\"india\", \"state\":\"UP\"}",
         [
          "Nasik",
          "india",
          "UP"
         ]
        ],
        [
         "{\"city\":\"Hyderabad\", \"country\":\"india\", \"state\":\"TS\"}",
         [
          "Hyderabad",
          "india",
          "TS"
         ]
        ],
        [
         "{\"city\":\"Bangalore\", \"country\":\"india\", \"state\":\"KA\"}",
         [
          "Bangalore",
          "india",
          "KA"
         ]
        ]
       ],
       "datasetInfos": [],
       "dbfsResultPath": null,
       "isJsonSchema": true,
       "metadata": {},
       "overflow": false,
       "plotOptions": {
        "customPlotOptions": {},
        "displayType": "table",
        "pivotAggregation": null,
        "pivotColumns": null,
        "xColumns": null,
        "yColumns": null
       },
       "removedWidgets": [],
       "schema": [
        {
         "metadata": "{}",
         "name": "json_data",
         "type": "\"string\""
        },
        {
         "metadata": "{}",
         "name": "json_data_json",
         "type": "{\"type\":\"struct\",\"fields\":[{\"name\":\"city\",\"type\":\"string\",\"nullable\":true,\"metadata\":{}},{\"name\":\"country\",\"type\":\"string\",\"nullable\":true,\"metadata\":{}},{\"name\":\"state\",\"type\":\"string\",\"nullable\":true,\"metadata\":{}}]}"
        }
       ],
       "type": "table"
      }
     },
     "output_type": "display_data"
    }
   ],
   "source": [
    "df_ex03 = df_ex03.select('json_data', f.from_json(f.col('json_data'), schema1).alias(\"json_data_json\"))\n",
    "display(df_ex03)"
   ]
  },
  {
   "cell_type": "markdown",
   "metadata": {
    "application/vnd.databricks.v1+cell": {
     "cellMetadata": {},
     "inputWidgets": {},
     "nuid": "f5883a15-2e90-40d7-adb5-4d919054e68d",
     "showTitle": false,
     "title": ""
    }
   },
   "source": [
    "**2) Nested Structure**"
   ]
  },
  {
   "cell_type": "code",
   "execution_count": 0,
   "metadata": {
    "application/vnd.databricks.v1+cell": {
     "cellMetadata": {
      "byteLimit": 2048000,
      "rowLimit": 10000
     },
     "inputWidgets": {},
     "nuid": "76605af7-8631-47a2-ba6d-09d4c981acae",
     "showTitle": false,
     "title": ""
    }
   },
   "outputs": [
    {
     "output_type": "display_data",
     "data": {
      "text/html": [
       "<style scoped>\n",
       "  .table-result-container {\n",
       "    max-height: 300px;\n",
       "    overflow: auto;\n",
       "  }\n",
       "  table, th, td {\n",
       "    border: 1px solid black;\n",
       "    border-collapse: collapse;\n",
       "  }\n",
       "  th, td {\n",
       "    padding: 5px;\n",
       "  }\n",
       "  th {\n",
       "    text-align: left;\n",
       "  }\n",
       "</style><div class='table-result-container'><table class='table-result'><thead style='background-color: white'><tr><th>id</th><th>json_string</th></tr></thead><tbody><tr><td>1</td><td>{\"name\": \"John Doe\", \"age\": 30, \"country\": \"USA\", \"First_Name\": \"Rakesh\", \"Last_Name\": \"Kumar\"}</td></tr><tr><td>2</td><td>{\"city\": \"New York\", \"country\": \"USA\", \"zipcode\": \"10001\", \"Tech\": {\"domain\": \"database\", \"designation\": \"data engineer\", \"Exp\": 6, \"Platform\": \"Azure\"}}</td></tr><tr><td>3</td><td>{\"product\": \"Laptop\", \"brand\": \"Dell\", \"specs\": {\"RAM\": \"16GB\", \"Storage\": \"512GB SSD\", \"OS\": \"windows\"}}</td></tr><tr><td>4</td><td>{\"First_Name\": \"Rakesh\", \"country\": \"IND\", \"zipcode\": \"560103\", \"specs\": {\"RAM\": \"16GB\", \"Storage\": \"512GB SSD\", \"OS\": \"windows\"}, \"Tech\": {\"domain\": \"database\", \"designation\": \"data engineer\"}}</td></tr><tr><td>5</td><td>{\"Last_Name\": \"Kumar\", \"country\": \"UK\", \"zipcode\": \"571323\", \"city\": \"SWEDEN\", \"age\": 30, , \"Tech\": {\"domain\": \"database\", \"designation\": \"data engineer\"}}</td></tr><tr><td>6</td><td>{\"name\": \"paul\", \"age\": 35, \"city\": \"SWEDEN\", \"country\": \"UK\", \"zipcode\": \"571323\", \"First_Name\": \"Sourabh\", \"Last_Name\": \"Kumar\", \"product\": \"Desktop\", \"brand\": \"HP\", \"specs\": {\"RAM\": \"32GB\", \"Storage\": \"512GB SSD\", \"OS\": \"windows\"}}</td></tr></tbody></table></div>"
      ]
     },
     "metadata": {
      "application/vnd.databricks.v1+output": {
       "addedWidgets": {},
       "aggData": [],
       "aggError": "",
       "aggOverflow": false,
       "aggSchema": [],
       "aggSeriesLimitReached": false,
       "aggType": "",
       "arguments": {},
       "columnCustomDisplayInfos": {},
       "data": [
        [
         "1",
         "{\"name\": \"John Doe\", \"age\": 30, \"country\": \"USA\", \"First_Name\": \"Rakesh\", \"Last_Name\": \"Kumar\"}"
        ],
        [
         "2",
         "{\"city\": \"New York\", \"country\": \"USA\", \"zipcode\": \"10001\", \"Tech\": {\"domain\": \"database\", \"designation\": \"data engineer\", \"Exp\": 6, \"Platform\": \"Azure\"}}"
        ],
        [
         "3",
         "{\"product\": \"Laptop\", \"brand\": \"Dell\", \"specs\": {\"RAM\": \"16GB\", \"Storage\": \"512GB SSD\", \"OS\": \"windows\"}}"
        ],
        [
         "4",
         "{\"First_Name\": \"Rakesh\", \"country\": \"IND\", \"zipcode\": \"560103\", \"specs\": {\"RAM\": \"16GB\", \"Storage\": \"512GB SSD\", \"OS\": \"windows\"}, \"Tech\": {\"domain\": \"database\", \"designation\": \"data engineer\"}}"
        ],
        [
         "5",
         "{\"Last_Name\": \"Kumar\", \"country\": \"UK\", \"zipcode\": \"571323\", \"city\": \"SWEDEN\", \"age\": 30, , \"Tech\": {\"domain\": \"database\", \"designation\": \"data engineer\"}}"
        ],
        [
         "6",
         "{\"name\": \"paul\", \"age\": 35, \"city\": \"SWEDEN\", \"country\": \"UK\", \"zipcode\": \"571323\", \"First_Name\": \"Sourabh\", \"Last_Name\": \"Kumar\", \"product\": \"Desktop\", \"brand\": \"HP\", \"specs\": {\"RAM\": \"32GB\", \"Storage\": \"512GB SSD\", \"OS\": \"windows\"}}"
        ]
       ],
       "datasetInfos": [],
       "dbfsResultPath": null,
       "isJsonSchema": true,
       "metadata": {},
       "overflow": false,
       "plotOptions": {
        "customPlotOptions": {},
        "displayType": "table",
        "pivotAggregation": null,
        "pivotColumns": null,
        "xColumns": null,
        "yColumns": null
       },
       "removedWidgets": [],
       "schema": [
        {
         "metadata": "{}",
         "name": "id",
         "type": "\"string\""
        },
        {
         "metadata": "{}",
         "name": "json_string",
         "type": "\"string\""
        }
       ],
       "type": "table"
      }
     },
     "output_type": "display_data"
    }
   ],
   "source": [
    "# Sample data showcasing varying JSON structures\n",
    "data = [(\"1\", '{\"name\": \"John Doe\", \"age\": 30, \"country\": \"USA\", \"First_Name\": \"Rakesh\", \"Last_Name\": \"Kumar\"}'),\n",
    "        (\"2\", '{\"city\": \"New York\", \"country\": \"USA\", \"zipcode\": \"10001\", \"Tech\": {\"domain\": \"database\", \"designation\": \"data engineer\", \"Exp\": 6, \"Platform\": \"Azure\"}}'),\n",
    "        (\"3\", '{\"product\": \"Laptop\", \"brand\": \"Dell\", \"specs\": {\"RAM\": \"16GB\", \"Storage\": \"512GB SSD\", \"OS\": \"windows\"}}'),\n",
    "        (\"4\", '{\"First_Name\": \"Rakesh\", \"country\": \"IND\", \"zipcode\": \"560103\", \"specs\": {\"RAM\": \"16GB\", \"Storage\": \"512GB SSD\", \"OS\": \"windows\"}, \"Tech\": {\"domain\": \"database\", \"designation\": \"data engineer\"}}'),\n",
    "        (\"5\", '{\"Last_Name\": \"Kumar\", \"country\": \"UK\", \"zipcode\": \"571323\", \"city\": \"SWEDEN\", \"age\": 30, , \"Tech\": {\"domain\": \"database\", \"designation\": \"data engineer\"}}'),\n",
    "        (\"6\", '{\"name\": \"paul\", \"age\": 35, \"city\": \"SWEDEN\", \"country\": \"UK\", \"zipcode\": \"571323\", \"First_Name\": \"Sourabh\", \"Last_Name\": \"Kumar\", \"product\": \"Desktop\", \"brand\": \"HP\", \"specs\": {\"RAM\": \"32GB\", \"Storage\": \"512GB SSD\", \"OS\": \"windows\"}}')\n",
    "        ]\n",
    "\n",
    "# Creating the DataFrame\n",
    "df_ex02 = spark.createDataFrame(data, [\"id\", \"json_string\"])\n",
    "display(df_ex02)"
   ]
  },
  {
   "cell_type": "code",
   "execution_count": 0,
   "metadata": {
    "application/vnd.databricks.v1+cell": {
     "cellMetadata": {
      "byteLimit": 2048000,
      "rowLimit": 10000
     },
     "inputWidgets": {},
     "nuid": "7088eeb1-65e7-4fe4-8c23-0a25ef934e68",
     "showTitle": false,
     "title": ""
    }
   },
   "outputs": [
    {
     "output_type": "display_data",
     "data": {
      "text/html": [
       "<style scoped>\n",
       "  .table-result-container {\n",
       "    max-height: 300px;\n",
       "    overflow: auto;\n",
       "  }\n",
       "  table, th, td {\n",
       "    border: 1px solid black;\n",
       "    border-collapse: collapse;\n",
       "  }\n",
       "  th, td {\n",
       "    padding: 5px;\n",
       "  }\n",
       "  th {\n",
       "    text-align: left;\n",
       "  }\n",
       "</style><div class='table-result-container'><table class='table-result'><thead style='background-color: white'><tr><th>id</th><th>json_string</th><th>json_struct</th></tr></thead><tbody><tr><td>1</td><td>{\"name\": \"John Doe\", \"age\": 30, \"country\": \"USA\", \"First_Name\": \"Rakesh\", \"Last_Name\": \"Kumar\"}</td><td>List(John Doe, 30, null, USA, null, null, null, null, null, Rakesh, Kumar)</td></tr><tr><td>2</td><td>{\"city\": \"New York\", \"country\": \"USA\", \"zipcode\": \"10001\", \"Tech\": {\"domain\": \"database\", \"designation\": \"data engineer\", \"Exp\": 6, \"Platform\": \"Azure\"}}</td><td>List(null, null, New York, USA, 10001, null, null, null, List(database, data engineer, 6, null), null, null)</td></tr><tr><td>3</td><td>{\"product\": \"Laptop\", \"brand\": \"Dell\", \"specs\": {\"RAM\": \"16GB\", \"Storage\": \"512GB SSD\", \"OS\": \"windows\"}}</td><td>List(null, null, null, null, null, Laptop, Dell, List(16GB, 512GB SSD, windows), null, null, null)</td></tr><tr><td>4</td><td>{\"First_Name\": \"Rakesh\", \"country\": \"IND\", \"zipcode\": \"560103\", \"specs\": {\"RAM\": \"16GB\", \"Storage\": \"512GB SSD\", \"OS\": \"windows\"}, \"Tech\": {\"domain\": \"database\", \"designation\": \"data engineer\"}}</td><td>List(null, null, null, IND, 560103, null, null, List(16GB, 512GB SSD, windows), List(database, data engineer, null, null), Rakesh, null)</td></tr><tr><td>5</td><td>{\"Last_Name\": \"Kumar\", \"country\": \"UK\", \"zipcode\": \"571323\", \"city\": \"SWEDEN\", \"age\": 30, , \"Tech\": {\"domain\": \"database\", \"designation\": \"data engineer\"}}</td><td>List(null, null, null, null, null, null, null, null, null, null, null)</td></tr><tr><td>6</td><td>{\"name\": \"paul\", \"age\": 35, \"city\": \"SWEDEN\", \"country\": \"UK\", \"zipcode\": \"571323\", \"First_Name\": \"Sourabh\", \"Last_Name\": \"Kumar\", \"product\": \"Desktop\", \"brand\": \"HP\", \"specs\": {\"RAM\": \"32GB\", \"Storage\": \"512GB SSD\", \"OS\": \"windows\"}}</td><td>List(paul, 35, SWEDEN, UK, 571323, Desktop, HP, List(32GB, 512GB SSD, windows), null, Sourabh, Kumar)</td></tr></tbody></table></div>"
      ]
     },
     "metadata": {
      "application/vnd.databricks.v1+output": {
       "addedWidgets": {},
       "aggData": [],
       "aggError": "",
       "aggOverflow": false,
       "aggSchema": [],
       "aggSeriesLimitReached": false,
       "aggType": "",
       "arguments": {},
       "columnCustomDisplayInfos": {},
       "data": [
        [
         "1",
         "{\"name\": \"John Doe\", \"age\": 30, \"country\": \"USA\", \"First_Name\": \"Rakesh\", \"Last_Name\": \"Kumar\"}",
         [
          "John Doe",
          30,
          null,
          "USA",
          null,
          null,
          null,
          null,
          null,
          "Rakesh",
          "Kumar"
         ]
        ],
        [
         "2",
         "{\"city\": \"New York\", \"country\": \"USA\", \"zipcode\": \"10001\", \"Tech\": {\"domain\": \"database\", \"designation\": \"data engineer\", \"Exp\": 6, \"Platform\": \"Azure\"}}",
         [
          null,
          null,
          "New York",
          "USA",
          "10001",
          null,
          null,
          null,
          [
           "database",
           "data engineer",
           6,
           null
          ],
          null,
          null
         ]
        ],
        [
         "3",
         "{\"product\": \"Laptop\", \"brand\": \"Dell\", \"specs\": {\"RAM\": \"16GB\", \"Storage\": \"512GB SSD\", \"OS\": \"windows\"}}",
         [
          null,
          null,
          null,
          null,
          null,
          "Laptop",
          "Dell",
          [
           "16GB",
           "512GB SSD",
           "windows"
          ],
          null,
          null,
          null
         ]
        ],
        [
         "4",
         "{\"First_Name\": \"Rakesh\", \"country\": \"IND\", \"zipcode\": \"560103\", \"specs\": {\"RAM\": \"16GB\", \"Storage\": \"512GB SSD\", \"OS\": \"windows\"}, \"Tech\": {\"domain\": \"database\", \"designation\": \"data engineer\"}}",
         [
          null,
          null,
          null,
          "IND",
          "560103",
          null,
          null,
          [
           "16GB",
           "512GB SSD",
           "windows"
          ],
          [
           "database",
           "data engineer",
           null,
           null
          ],
          "Rakesh",
          null
         ]
        ],
        [
         "5",
         "{\"Last_Name\": \"Kumar\", \"country\": \"UK\", \"zipcode\": \"571323\", \"city\": \"SWEDEN\", \"age\": 30, , \"Tech\": {\"domain\": \"database\", \"designation\": \"data engineer\"}}",
         [
          null,
          null,
          null,
          null,
          null,
          null,
          null,
          null,
          null,
          null,
          null
         ]
        ],
        [
         "6",
         "{\"name\": \"paul\", \"age\": 35, \"city\": \"SWEDEN\", \"country\": \"UK\", \"zipcode\": \"571323\", \"First_Name\": \"Sourabh\", \"Last_Name\": \"Kumar\", \"product\": \"Desktop\", \"brand\": \"HP\", \"specs\": {\"RAM\": \"32GB\", \"Storage\": \"512GB SSD\", \"OS\": \"windows\"}}",
         [
          "paul",
          35,
          "SWEDEN",
          "UK",
          "571323",
          "Desktop",
          "HP",
          [
           "32GB",
           "512GB SSD",
           "windows"
          ],
          null,
          "Sourabh",
          "Kumar"
         ]
        ]
       ],
       "datasetInfos": [],
       "dbfsResultPath": null,
       "isJsonSchema": true,
       "metadata": {},
       "overflow": false,
       "plotOptions": {
        "customPlotOptions": {},
        "displayType": "table",
        "pivotAggregation": null,
        "pivotColumns": null,
        "xColumns": null,
        "yColumns": null
       },
       "removedWidgets": [],
       "schema": [
        {
         "metadata": "{}",
         "name": "id",
         "type": "\"string\""
        },
        {
         "metadata": "{}",
         "name": "json_string",
         "type": "\"string\""
        },
        {
         "metadata": "{}",
         "name": "json_struct",
         "type": "{\"type\":\"struct\",\"fields\":[{\"name\":\"name\",\"type\":\"string\",\"nullable\":true,\"metadata\":{}},{\"name\":\"age\",\"type\":\"integer\",\"nullable\":true,\"metadata\":{}},{\"name\":\"city\",\"type\":\"string\",\"nullable\":true,\"metadata\":{}},{\"name\":\"country\",\"type\":\"string\",\"nullable\":true,\"metadata\":{}},{\"name\":\"zipcode\",\"type\":\"string\",\"nullable\":true,\"metadata\":{}},{\"name\":\"product\",\"type\":\"string\",\"nullable\":true,\"metadata\":{}},{\"name\":\"brand\",\"type\":\"string\",\"nullable\":true,\"metadata\":{}},{\"name\":\"specs\",\"type\":{\"type\":\"struct\",\"fields\":[{\"name\":\"RAM\",\"type\":\"string\",\"nullable\":true,\"metadata\":{}},{\"name\":\"Storage\",\"type\":\"string\",\"nullable\":true,\"metadata\":{}},{\"name\":\"OS\",\"type\":\"string\",\"nullable\":true,\"metadata\":{}}]},\"nullable\":true,\"metadata\":{}},{\"name\":\"Tech\",\"type\":{\"type\":\"struct\",\"fields\":[{\"name\":\"domain\",\"type\":\"string\",\"nullable\":true,\"metadata\":{}},{\"name\":\"designation\",\"type\":\"string\",\"nullable\":true,\"metadata\":{}},{\"name\":\"Exp\",\"type\":\"integer\",\"nullable\":true,\"metadata\":{}},{\"name\":\"Platform\",\"type\":\"integer\",\"nullable\":true,\"metadata\":{}}]},\"nullable\":true,\"metadata\":{}},{\"name\":\"First_Name\",\"type\":\"string\",\"nullable\":true,\"metadata\":{}},{\"name\":\"Last_Name\",\"type\":\"string\",\"nullable\":true,\"metadata\":{}}]}"
        }
       ],
       "type": "table"
      }
     },
     "output_type": "display_data"
    }
   ],
   "source": [
    "# Define the schema for the JSON data\n",
    "schema = StructType([StructField(\"name\", StringType(), True),\n",
    "                     StructField(\"age\", IntegerType(), True),\n",
    "                     StructField(\"city\", StringType(), True),\n",
    "                     StructField(\"country\", StringType(), True),\n",
    "                     StructField(\"zipcode\", StringType(), True),\n",
    "                     StructField(\"product\", StringType(), True),\n",
    "                     StructField(\"brand\", StringType(), True),\n",
    "                     StructField(\"specs\", StructType([StructField(\"RAM\", StringType(), True),\n",
    "                                                      StructField(\"Storage\", StringType(), True),\n",
    "                                                      StructField(\"OS\", StringType(), True)\n",
    "                                                      ])\n",
    "                                 ),\n",
    "                    StructField(\"Tech\", StructType([StructField(\"domain\", StringType(), True),\n",
    "                                                    StructField(\"designation\", StringType(), True),\n",
    "                                                    StructField(\"Exp\", IntegerType(), True),\n",
    "                                                    StructField(\"Platform\", IntegerType(), True)\n",
    "                                                    ])\n",
    "                                ),\n",
    "                     StructField(\"First_Name\", StringType(), True),\n",
    "                     StructField(\"Last_Name\", StringType(), True)\n",
    "                     ])\n",
    "\n",
    "# Apply the from_json function to convert the JSON string column to a struct type\n",
    "df_ex03 = df_ex02.withColumn(\"json_struct\", from_json(df_ex02[\"json_string\"], schema))\n",
    "\n",
    "# Display the resulting DataFrame\n",
    "display(df_ex03)"
   ]
  },
  {
   "cell_type": "markdown",
   "metadata": {
    "application/vnd.databricks.v1+cell": {
     "cellMetadata": {},
     "inputWidgets": {},
     "nuid": "1efce278-3172-4f63-83bb-515d466ee46f",
     "showTitle": false,
     "title": ""
    }
   },
   "source": [
    "**3) CSV to StructType to JSON string to StructType**"
   ]
  },
  {
   "cell_type": "code",
   "execution_count": 0,
   "metadata": {
    "application/vnd.databricks.v1+cell": {
     "cellMetadata": {
      "byteLimit": 2048000,
      "rowLimit": 10000
     },
     "inputWidgets": {},
     "nuid": "86c87e15-6dac-4173-af50-648b2aa5f068",
     "showTitle": false,
     "title": ""
    }
   },
   "outputs": [
    {
     "output_type": "display_data",
     "data": {
      "text/html": [
       "<style scoped>\n",
       "  .table-result-container {\n",
       "    max-height: 300px;\n",
       "    overflow: auto;\n",
       "  }\n",
       "  table, th, td {\n",
       "    border: 1px solid black;\n",
       "    border-collapse: collapse;\n",
       "  }\n",
       "  th, td {\n",
       "    padding: 5px;\n",
       "  }\n",
       "  th {\n",
       "    text-align: left;\n",
       "  }\n",
       "</style><div class='table-result-container'><table class='table-result'><thead style='background-color: white'><tr><th>Id</th><th>Nick_Name</th><th>First_Name</th><th>Last_Name</th><th>Age</th><th>Type</th><th>Description</th><th>Commodity_Index</th><th>Sensex_Category</th><th>Label_Type</th><th>Effective_Date</th><th>Start_Date</th><th>End_Date</th><th>Currency</th><th>Ticket</th><th>Name</th><th>Sex</th></tr></thead><tbody><tr><td>1</td><td>admin</td><td>John</td><td>Victor</td><td>30</td><td>Grade1</td><td>Baleno</td><td>DISCOUNT</td><td>Top</td><td>average</td><td>6-Feb-23</td><td>14-Jan-23</td><td>6-Feb-23</td><td>INR</td><td>A/5 21171</td><td>Braund, Mr. Owen Harris</td><td>male</td></tr><tr><td>2</td><td>everest</td><td>Paul</td><td>Irish</td><td>35</td><td>Grade2</td><td>Engine_Base</td><td>DISCOUNT</td><td>Top</td><td>average</td><td>6-Feb-23</td><td>14-Jan-23</td><td>6-Feb-23</td><td>INR</td><td>PC 17599</td><td>Cumings, Mrs. John Bradley (Florence Briggs Thayer)</td><td>female</td></tr><tr><td>3</td><td>moon</td><td>Erram</td><td>Rammohan</td><td>29</td><td>Enginner1</td><td>Baleno</td><td>DISCOUNT</td><td>Top</td><td>average</td><td>8-Jan-24</td><td>7-Oct-23</td><td>8-Jan-24</td><td>INR</td><td>STON/O2. 3101282</td><td>Heikkinen, Miss. Laina</td><td>female</td></tr><tr><td>4</td><td>service</td><td>Stalin</td><td>Rajesh</td><td>40</td><td>Minister</td><td>Engine_Base</td><td>DISCOUNT</td><td>Top</td><td>average</td><td>8-Jan-24</td><td>7-Oct-23</td><td>8-Jan-24</td><td>INR</td><td>113803</td><td>Futrelle, Mrs. Jacques Heath (Lily May Peel)</td><td>female</td></tr><tr><td>5</td><td>Builder</td><td>Golla</td><td>Rajasekar</td><td>43</td><td>Builder</td><td>Suzuki Swift</td><td>DISCOUNT</td><td>Top</td><td>average</td><td>6-Mar-23</td><td>7-Feb-23</td><td>6-Mar-23</td><td>INR</td><td>373450</td><td>Allen, Mr. William Henry</td><td>male</td></tr><tr><td>6</td><td>Drinker</td><td>Karjala</td><td>Hari</td><td>33</td><td>Army</td><td>Suzuki Swift</td><td>DISCOUNT</td><td>Top</td><td>average</td><td>6-Mar-23</td><td>7-Feb-23</td><td>6-Mar-23</td><td>INR</td><td>330877</td><td>Moran, Mr. James</td><td>male</td></tr><tr><td>7</td><td>Army</td><td>Koyi</td><td>Damodar</td><td>37</td><td>Bettalian</td><td>Wagon R</td><td>DISCOUNT</td><td>Top</td><td>average</td><td>6-Jan-25</td><td>9-Jan-24</td><td>6-Jan-25</td><td>INR</td><td>17463</td><td>McCarthy, Mr. Timothy J</td><td>male</td></tr><tr><td>8</td><td>Marketing</td><td>Vemparla</td><td>Harish</td><td>55</td><td>Manager</td><td>Engine_Base</td><td>DISCOUNT</td><td>Top</td><td>average</td><td>6-Jan-25</td><td>9-Jan-24</td><td>6-Jan-25</td><td>INR</td><td>349909</td><td>Palsson, Master. Gosta Leonard</td><td>male</td></tr><tr><td>9</td><td>Politician</td><td>Devineni</td><td>Umesh</td><td>58</td><td>Senior</td><td>Creta</td><td>DISCOUNT</td><td>Top</td><td>average</td><td>6-Apr-23</td><td>7-Mar-23</td><td>6-Apr-23</td><td>INR</td><td>347742</td><td>Johnson, Mrs. Oscar W (Elisabeth Vilhelmina Berg)</td><td>female</td></tr><tr><td>10</td><td>Minister</td><td>Ponguru</td><td>Narayana</td><td>56</td><td>Education</td><td>Brezza</td><td>DISCOUNT</td><td>Top</td><td>average</td><td>6-Apr-23</td><td>7-Mar-23</td><td>6-Apr-23</td><td>INR</td><td>237736</td><td>Nasser, Mrs. Nicholas (Adele Achem)</td><td>female</td></tr></tbody></table></div>"
      ]
     },
     "metadata": {
      "application/vnd.databricks.v1+output": {
       "addedWidgets": {},
       "aggData": [],
       "aggError": "",
       "aggOverflow": false,
       "aggSchema": [],
       "aggSeriesLimitReached": false,
       "aggType": "",
       "arguments": {},
       "columnCustomDisplayInfos": {},
       "data": [
        [
         1,
         "admin",
         "John",
         "Victor",
         30,
         "Grade1",
         "Baleno",
         "DISCOUNT",
         "Top",
         "average",
         "6-Feb-23",
         "14-Jan-23",
         "6-Feb-23",
         "INR",
         "A/5 21171",
         "Braund, Mr. Owen Harris",
         "male"
        ],
        [
         2,
         "everest",
         "Paul",
         "Irish",
         35,
         "Grade2",
         "Engine_Base",
         "DISCOUNT",
         "Top",
         "average",
         "6-Feb-23",
         "14-Jan-23",
         "6-Feb-23",
         "INR",
         "PC 17599",
         "Cumings, Mrs. John Bradley (Florence Briggs Thayer)",
         "female"
        ],
        [
         3,
         "moon",
         "Erram",
         "Rammohan",
         29,
         "Enginner1",
         "Baleno",
         "DISCOUNT",
         "Top",
         "average",
         "8-Jan-24",
         "7-Oct-23",
         "8-Jan-24",
         "INR",
         "STON/O2. 3101282",
         "Heikkinen, Miss. Laina",
         "female"
        ],
        [
         4,
         "service",
         "Stalin",
         "Rajesh",
         40,
         "Minister",
         "Engine_Base",
         "DISCOUNT",
         "Top",
         "average",
         "8-Jan-24",
         "7-Oct-23",
         "8-Jan-24",
         "INR",
         "113803",
         "Futrelle, Mrs. Jacques Heath (Lily May Peel)",
         "female"
        ],
        [
         5,
         "Builder",
         "Golla",
         "Rajasekar",
         43,
         "Builder",
         "Suzuki Swift",
         "DISCOUNT",
         "Top",
         "average",
         "6-Mar-23",
         "7-Feb-23",
         "6-Mar-23",
         "INR",
         "373450",
         "Allen, Mr. William Henry",
         "male"
        ],
        [
         6,
         "Drinker",
         "Karjala",
         "Hari",
         33,
         "Army",
         "Suzuki Swift",
         "DISCOUNT",
         "Top",
         "average",
         "6-Mar-23",
         "7-Feb-23",
         "6-Mar-23",
         "INR",
         "330877",
         "Moran, Mr. James",
         "male"
        ],
        [
         7,
         "Army",
         "Koyi",
         "Damodar",
         37,
         "Bettalian",
         "Wagon R",
         "DISCOUNT",
         "Top",
         "average",
         "6-Jan-25",
         "9-Jan-24",
         "6-Jan-25",
         "INR",
         "17463",
         "McCarthy, Mr. Timothy J",
         "male"
        ],
        [
         8,
         "Marketing",
         "Vemparla",
         "Harish",
         55,
         "Manager",
         "Engine_Base",
         "DISCOUNT",
         "Top",
         "average",
         "6-Jan-25",
         "9-Jan-24",
         "6-Jan-25",
         "INR",
         "349909",
         "Palsson, Master. Gosta Leonard",
         "male"
        ],
        [
         9,
         "Politician",
         "Devineni",
         "Umesh",
         58,
         "Senior",
         "Creta",
         "DISCOUNT",
         "Top",
         "average",
         "6-Apr-23",
         "7-Mar-23",
         "6-Apr-23",
         "INR",
         "347742",
         "Johnson, Mrs. Oscar W (Elisabeth Vilhelmina Berg)",
         "female"
        ],
        [
         10,
         "Minister",
         "Ponguru",
         "Narayana",
         56,
         "Education",
         "Brezza",
         "DISCOUNT",
         "Top",
         "average",
         "6-Apr-23",
         "7-Mar-23",
         "6-Apr-23",
         "INR",
         "237736",
         "Nasser, Mrs. Nicholas (Adele Achem)",
         "female"
        ]
       ],
       "datasetInfos": [],
       "dbfsResultPath": null,
       "isJsonSchema": true,
       "metadata": {},
       "overflow": false,
       "plotOptions": {
        "customPlotOptions": {},
        "displayType": "table",
        "pivotAggregation": null,
        "pivotColumns": null,
        "xColumns": null,
        "yColumns": null
       },
       "removedWidgets": [],
       "schema": [
        {
         "metadata": "{}",
         "name": "Id",
         "type": "\"integer\""
        },
        {
         "metadata": "{}",
         "name": "Nick_Name",
         "type": "\"string\""
        },
        {
         "metadata": "{}",
         "name": "First_Name",
         "type": "\"string\""
        },
        {
         "metadata": "{}",
         "name": "Last_Name",
         "type": "\"string\""
        },
        {
         "metadata": "{}",
         "name": "Age",
         "type": "\"integer\""
        },
        {
         "metadata": "{}",
         "name": "Type",
         "type": "\"string\""
        },
        {
         "metadata": "{}",
         "name": "Description",
         "type": "\"string\""
        },
        {
         "metadata": "{}",
         "name": "Commodity_Index",
         "type": "\"string\""
        },
        {
         "metadata": "{}",
         "name": "Sensex_Category",
         "type": "\"string\""
        },
        {
         "metadata": "{}",
         "name": "Label_Type",
         "type": "\"string\""
        },
        {
         "metadata": "{}",
         "name": "Effective_Date",
         "type": "\"string\""
        },
        {
         "metadata": "{}",
         "name": "Start_Date",
         "type": "\"string\""
        },
        {
         "metadata": "{}",
         "name": "End_Date",
         "type": "\"string\""
        },
        {
         "metadata": "{}",
         "name": "Currency",
         "type": "\"string\""
        },
        {
         "metadata": "{}",
         "name": "Ticket",
         "type": "\"string\""
        },
        {
         "metadata": "{}",
         "name": "Name",
         "type": "\"string\""
        },
        {
         "metadata": "{}",
         "name": "Sex",
         "type": "\"string\""
        }
       ],
       "type": "table"
      }
     },
     "output_type": "display_data"
    }
   ],
   "source": [
    "df_json = spark.read.csv(\"dbfs:/FileStore/tables/to_json.csv\", header=True, inferSchema=True)\n",
    "display(df_json.limit(10))"
   ]
  },
  {
   "cell_type": "code",
   "execution_count": 0,
   "metadata": {
    "application/vnd.databricks.v1+cell": {
     "cellMetadata": {
      "byteLimit": 2048000,
      "rowLimit": 10000
     },
     "inputWidgets": {},
     "nuid": "d772789d-5835-4782-bc22-78079b0bad7a",
     "showTitle": false,
     "title": ""
    }
   },
   "outputs": [
    {
     "output_type": "display_data",
     "data": {
      "text/html": [
       "<style scoped>\n",
       "  .table-result-container {\n",
       "    max-height: 300px;\n",
       "    overflow: auto;\n",
       "  }\n",
       "  table, th, td {\n",
       "    border: 1px solid black;\n",
       "    border-collapse: collapse;\n",
       "  }\n",
       "  th, td {\n",
       "    padding: 5px;\n",
       "  }\n",
       "  th {\n",
       "    text-align: left;\n",
       "  }\n",
       "</style><div class='table-result-container'><table class='table-result'><thead style='background-color: white'><tr><th>sales_msg</th></tr></thead><tbody><tr><td>List(1, admin, John, Victor, 30, Grade1, Baleno, DISCOUNT, Top, average, 6-Feb-23, 14-Jan-23, 6-Feb-23, INR, A/5 21171, Braund, Mr. Owen Harris, male)</td></tr><tr><td>List(7, Army, Koyi, Damodar, 37, Bettalian, Wagon R, DISCOUNT, Top, average, 6-Jan-25, 9-Jan-24, 6-Jan-25, INR, 17463, McCarthy, Mr. Timothy J, male)</td></tr><tr><td>List(2, everest, Paul, Irish, 35, Grade2, Engine_Base, DISCOUNT, Top, average, 6-Feb-23, 14-Jan-23, 6-Feb-23, INR, PC 17599, Cumings, Mrs. John Bradley (Florence Briggs Thayer), female)</td></tr><tr><td>List(5, Builder, Golla, Rajasekar, 43, Builder, Suzuki Swift, DISCOUNT, Top, average, 6-Mar-23, 7-Feb-23, 6-Mar-23, INR, 373450, Allen, Mr. William Henry, male)</td></tr><tr><td>List(3, moon, Erram, Rammohan, 29, Enginner1, Baleno, DISCOUNT, Top, average, 8-Jan-24, 7-Oct-23, 8-Jan-24, INR, STON/O2. 3101282, Heikkinen, Miss. Laina, female)</td></tr><tr><td>List(4, service, Stalin, Rajesh, 40, Minister, Engine_Base, DISCOUNT, Top, average, 8-Jan-24, 7-Oct-23, 8-Jan-24, INR, 113803, Futrelle, Mrs. Jacques Heath (Lily May Peel), female)</td></tr><tr><td>List(8, Marketing, Vemparla, Harish, 55, Manager, Engine_Base, DISCOUNT, Top, average, 6-Jan-25, 9-Jan-24, 6-Jan-25, INR, 349909, Palsson, Master. Gosta Leonard, male)</td></tr><tr><td>List(6, Drinker, Karjala, Hari, 33, Army, Suzuki Swift, DISCOUNT, Top, average, 6-Mar-23, 7-Feb-23, 6-Mar-23, INR, 330877, Moran, Mr. James, male)</td></tr><tr><td>List(9, Politician, Devineni, Umesh, 58, Senior, Creta, DISCOUNT, Top, average, 6-Apr-23, 7-Mar-23, 6-Apr-23, INR, 347742, Johnson, Mrs. Oscar W (Elisabeth Vilhelmina Berg), female)</td></tr><tr><td>List(10, Minister, Ponguru, Narayana, 56, Education, Brezza, DISCOUNT, Top, average, 6-Apr-23, 7-Mar-23, 6-Apr-23, INR, 237736, Nasser, Mrs. Nicholas (Adele Achem), female)</td></tr></tbody></table></div>"
      ]
     },
     "metadata": {
      "application/vnd.databricks.v1+output": {
       "addedWidgets": {},
       "aggData": [],
       "aggError": "",
       "aggOverflow": false,
       "aggSchema": [],
       "aggSeriesLimitReached": false,
       "aggType": "",
       "arguments": {},
       "columnCustomDisplayInfos": {},
       "data": [
        [
         [
          1,
          "admin",
          "John",
          "Victor",
          30,
          "Grade1",
          "Baleno",
          "DISCOUNT",
          "Top",
          "average",
          "6-Feb-23",
          "14-Jan-23",
          "6-Feb-23",
          "INR",
          "A/5 21171",
          "Braund, Mr. Owen Harris",
          "male"
         ]
        ],
        [
         [
          7,
          "Army",
          "Koyi",
          "Damodar",
          37,
          "Bettalian",
          "Wagon R",
          "DISCOUNT",
          "Top",
          "average",
          "6-Jan-25",
          "9-Jan-24",
          "6-Jan-25",
          "INR",
          "17463",
          "McCarthy, Mr. Timothy J",
          "male"
         ]
        ],
        [
         [
          2,
          "everest",
          "Paul",
          "Irish",
          35,
          "Grade2",
          "Engine_Base",
          "DISCOUNT",
          "Top",
          "average",
          "6-Feb-23",
          "14-Jan-23",
          "6-Feb-23",
          "INR",
          "PC 17599",
          "Cumings, Mrs. John Bradley (Florence Briggs Thayer)",
          "female"
         ]
        ],
        [
         [
          5,
          "Builder",
          "Golla",
          "Rajasekar",
          43,
          "Builder",
          "Suzuki Swift",
          "DISCOUNT",
          "Top",
          "average",
          "6-Mar-23",
          "7-Feb-23",
          "6-Mar-23",
          "INR",
          "373450",
          "Allen, Mr. William Henry",
          "male"
         ]
        ],
        [
         [
          3,
          "moon",
          "Erram",
          "Rammohan",
          29,
          "Enginner1",
          "Baleno",
          "DISCOUNT",
          "Top",
          "average",
          "8-Jan-24",
          "7-Oct-23",
          "8-Jan-24",
          "INR",
          "STON/O2. 3101282",
          "Heikkinen, Miss. Laina",
          "female"
         ]
        ],
        [
         [
          4,
          "service",
          "Stalin",
          "Rajesh",
          40,
          "Minister",
          "Engine_Base",
          "DISCOUNT",
          "Top",
          "average",
          "8-Jan-24",
          "7-Oct-23",
          "8-Jan-24",
          "INR",
          "113803",
          "Futrelle, Mrs. Jacques Heath (Lily May Peel)",
          "female"
         ]
        ],
        [
         [
          8,
          "Marketing",
          "Vemparla",
          "Harish",
          55,
          "Manager",
          "Engine_Base",
          "DISCOUNT",
          "Top",
          "average",
          "6-Jan-25",
          "9-Jan-24",
          "6-Jan-25",
          "INR",
          "349909",
          "Palsson, Master. Gosta Leonard",
          "male"
         ]
        ],
        [
         [
          6,
          "Drinker",
          "Karjala",
          "Hari",
          33,
          "Army",
          "Suzuki Swift",
          "DISCOUNT",
          "Top",
          "average",
          "6-Mar-23",
          "7-Feb-23",
          "6-Mar-23",
          "INR",
          "330877",
          "Moran, Mr. James",
          "male"
         ]
        ],
        [
         [
          9,
          "Politician",
          "Devineni",
          "Umesh",
          58,
          "Senior",
          "Creta",
          "DISCOUNT",
          "Top",
          "average",
          "6-Apr-23",
          "7-Mar-23",
          "6-Apr-23",
          "INR",
          "347742",
          "Johnson, Mrs. Oscar W (Elisabeth Vilhelmina Berg)",
          "female"
         ]
        ],
        [
         [
          10,
          "Minister",
          "Ponguru",
          "Narayana",
          56,
          "Education",
          "Brezza",
          "DISCOUNT",
          "Top",
          "average",
          "6-Apr-23",
          "7-Mar-23",
          "6-Apr-23",
          "INR",
          "237736",
          "Nasser, Mrs. Nicholas (Adele Achem)",
          "female"
         ]
        ]
       ],
       "datasetInfos": [],
       "dbfsResultPath": null,
       "isJsonSchema": true,
       "metadata": {},
       "overflow": false,
       "plotOptions": {
        "customPlotOptions": {},
        "displayType": "table",
        "pivotAggregation": null,
        "pivotColumns": null,
        "xColumns": null,
        "yColumns": null
       },
       "removedWidgets": [],
       "schema": [
        {
         "metadata": "{}",
         "name": "sales_msg",
         "type": "{\"type\":\"struct\",\"fields\":[{\"name\":\"Id\",\"type\":\"integer\",\"nullable\":true,\"metadata\":{}},{\"name\":\"Nick_Name\",\"type\":\"string\",\"nullable\":true,\"metadata\":{}},{\"name\":\"First_Name\",\"type\":\"string\",\"nullable\":true,\"metadata\":{}},{\"name\":\"Last_Name\",\"type\":\"string\",\"nullable\":true,\"metadata\":{}},{\"name\":\"Age\",\"type\":\"integer\",\"nullable\":true,\"metadata\":{}},{\"name\":\"Type\",\"type\":\"string\",\"nullable\":true,\"metadata\":{}},{\"name\":\"Description\",\"type\":\"string\",\"nullable\":true,\"metadata\":{}},{\"name\":\"Commodity_Index\",\"type\":\"string\",\"nullable\":true,\"metadata\":{}},{\"name\":\"Sensex_Category\",\"type\":\"string\",\"nullable\":true,\"metadata\":{}},{\"name\":\"Label_Type\",\"type\":\"string\",\"nullable\":true,\"metadata\":{}},{\"name\":\"Effective_Date\",\"type\":\"string\",\"nullable\":true,\"metadata\":{}},{\"name\":\"Start_Date\",\"type\":\"string\",\"nullable\":true,\"metadata\":{}},{\"name\":\"End_Date\",\"type\":\"string\",\"nullable\":true,\"metadata\":{}},{\"name\":\"Currency\",\"type\":\"string\",\"nullable\":true,\"metadata\":{}},{\"name\":\"Ticket\",\"type\":\"string\",\"nullable\":true,\"metadata\":{}},{\"name\":\"Name\",\"type\":\"string\",\"nullable\":true,\"metadata\":{}},{\"name\":\"Sex\",\"type\":\"string\",\"nullable\":true,\"metadata\":{}}]}"
        }
       ],
       "type": "table"
      }
     },
     "output_type": "display_data"
    }
   ],
   "source": [
    "# Select all columns and structure them into a single column named 'pp_msg'\n",
    "df_stru = df_json.select(f.struct('*').alias('sales_msg')).distinct()\n",
    "display(df_stru.limit(10))"
   ]
  },
  {
   "cell_type": "code",
   "execution_count": 0,
   "metadata": {
    "application/vnd.databricks.v1+cell": {
     "cellMetadata": {
      "byteLimit": 2048000,
      "rowLimit": 10000
     },
     "inputWidgets": {},
     "nuid": "6843704b-2f78-4065-8a4f-d6144c60f097",
     "showTitle": false,
     "title": ""
    }
   },
   "outputs": [
    {
     "output_type": "display_data",
     "data": {
      "text/html": [
       "<style scoped>\n",
       "  .table-result-container {\n",
       "    max-height: 300px;\n",
       "    overflow: auto;\n",
       "  }\n",
       "  table, th, td {\n",
       "    border: 1px solid black;\n",
       "    border-collapse: collapse;\n",
       "  }\n",
       "  th, td {\n",
       "    padding: 5px;\n",
       "  }\n",
       "  th {\n",
       "    text-align: left;\n",
       "  }\n",
       "</style><div class='table-result-container'><table class='table-result'><thead style='background-color: white'><tr><th>sales_msg</th><th>sales_msg_json</th></tr></thead><tbody><tr><td>List(1, admin, John, Victor, 30, Grade1, Baleno, DISCOUNT, Top, average, 6-Feb-23, 14-Jan-23, 6-Feb-23, INR, A/5 21171, Braund, Mr. Owen Harris, male)</td><td>{\"Id\":1,\"Nick_Name\":\"admin\",\"First_Name\":\"John\",\"Last_Name\":\"Victor\",\"Age\":30,\"Type\":\"Grade1\",\"Description\":\"Baleno\",\"Commodity_Index\":\"DISCOUNT\",\"Sensex_Category\":\"Top\",\"Label_Type\":\"average\",\"Effective_Date\":\"6-Feb-23\",\"Start_Date\":\"14-Jan-23\",\"End_Date\":\"6-Feb-23\",\"Currency\":\"INR\",\"Ticket\":\"A/5 21171\",\"Name\":\"Braund, Mr. Owen Harris\",\"Sex\":\"male\"}</td></tr><tr><td>List(7, Army, Koyi, Damodar, 37, Bettalian, Wagon R, DISCOUNT, Top, average, 6-Jan-25, 9-Jan-24, 6-Jan-25, INR, 17463, McCarthy, Mr. Timothy J, male)</td><td>{\"Id\":7,\"Nick_Name\":\"Army\",\"First_Name\":\"Koyi\",\"Last_Name\":\"Damodar\",\"Age\":37,\"Type\":\"Bettalian\",\"Description\":\"Wagon R\",\"Commodity_Index\":\"DISCOUNT\",\"Sensex_Category\":\"Top\",\"Label_Type\":\"average\",\"Effective_Date\":\"6-Jan-25\",\"Start_Date\":\"9-Jan-24\",\"End_Date\":\"6-Jan-25\",\"Currency\":\"INR\",\"Ticket\":\"17463\",\"Name\":\"McCarthy, Mr. Timothy J\",\"Sex\":\"male\"}</td></tr><tr><td>List(2, everest, Paul, Irish, 35, Grade2, Engine_Base, DISCOUNT, Top, average, 6-Feb-23, 14-Jan-23, 6-Feb-23, INR, PC 17599, Cumings, Mrs. John Bradley (Florence Briggs Thayer), female)</td><td>{\"Id\":2,\"Nick_Name\":\"everest\",\"First_Name\":\"Paul\",\"Last_Name\":\"Irish\",\"Age\":35,\"Type\":\"Grade2\",\"Description\":\"Engine_Base\",\"Commodity_Index\":\"DISCOUNT\",\"Sensex_Category\":\"Top\",\"Label_Type\":\"average\",\"Effective_Date\":\"6-Feb-23\",\"Start_Date\":\"14-Jan-23\",\"End_Date\":\"6-Feb-23\",\"Currency\":\"INR\",\"Ticket\":\"PC 17599\",\"Name\":\"Cumings, Mrs. John Bradley (Florence Briggs Thayer)\",\"Sex\":\"female\"}</td></tr><tr><td>List(5, Builder, Golla, Rajasekar, 43, Builder, Suzuki Swift, DISCOUNT, Top, average, 6-Mar-23, 7-Feb-23, 6-Mar-23, INR, 373450, Allen, Mr. William Henry, male)</td><td>{\"Id\":5,\"Nick_Name\":\"Builder\",\"First_Name\":\"Golla\",\"Last_Name\":\"Rajasekar\",\"Age\":43,\"Type\":\"Builder\",\"Description\":\"Suzuki Swift\",\"Commodity_Index\":\"DISCOUNT\",\"Sensex_Category\":\"Top\",\"Label_Type\":\"average\",\"Effective_Date\":\"6-Mar-23\",\"Start_Date\":\"7-Feb-23\",\"End_Date\":\"6-Mar-23\",\"Currency\":\"INR\",\"Ticket\":\"373450\",\"Name\":\"Allen, Mr. William Henry\",\"Sex\":\"male\"}</td></tr><tr><td>List(3, moon, Erram, Rammohan, 29, Enginner1, Baleno, DISCOUNT, Top, average, 8-Jan-24, 7-Oct-23, 8-Jan-24, INR, STON/O2. 3101282, Heikkinen, Miss. Laina, female)</td><td>{\"Id\":3,\"Nick_Name\":\"moon\",\"First_Name\":\"Erram\",\"Last_Name\":\"Rammohan\",\"Age\":29,\"Type\":\"Enginner1\",\"Description\":\"Baleno\",\"Commodity_Index\":\"DISCOUNT\",\"Sensex_Category\":\"Top\",\"Label_Type\":\"average\",\"Effective_Date\":\"8-Jan-24\",\"Start_Date\":\"7-Oct-23\",\"End_Date\":\"8-Jan-24\",\"Currency\":\"INR\",\"Ticket\":\"STON/O2. 3101282\",\"Name\":\"Heikkinen, Miss. Laina\",\"Sex\":\"female\"}</td></tr><tr><td>List(4, service, Stalin, Rajesh, 40, Minister, Engine_Base, DISCOUNT, Top, average, 8-Jan-24, 7-Oct-23, 8-Jan-24, INR, 113803, Futrelle, Mrs. Jacques Heath (Lily May Peel), female)</td><td>{\"Id\":4,\"Nick_Name\":\"service\",\"First_Name\":\"Stalin\",\"Last_Name\":\"Rajesh\",\"Age\":40,\"Type\":\"Minister\",\"Description\":\"Engine_Base\",\"Commodity_Index\":\"DISCOUNT\",\"Sensex_Category\":\"Top\",\"Label_Type\":\"average\",\"Effective_Date\":\"8-Jan-24\",\"Start_Date\":\"7-Oct-23\",\"End_Date\":\"8-Jan-24\",\"Currency\":\"INR\",\"Ticket\":\"113803\",\"Name\":\"Futrelle, Mrs. Jacques Heath (Lily May Peel)\",\"Sex\":\"female\"}</td></tr><tr><td>List(8, Marketing, Vemparla, Harish, 55, Manager, Engine_Base, DISCOUNT, Top, average, 6-Jan-25, 9-Jan-24, 6-Jan-25, INR, 349909, Palsson, Master. Gosta Leonard, male)</td><td>{\"Id\":8,\"Nick_Name\":\"Marketing\",\"First_Name\":\"Vemparla\",\"Last_Name\":\"Harish\",\"Age\":55,\"Type\":\"Manager\",\"Description\":\"Engine_Base\",\"Commodity_Index\":\"DISCOUNT\",\"Sensex_Category\":\"Top\",\"Label_Type\":\"average\",\"Effective_Date\":\"6-Jan-25\",\"Start_Date\":\"9-Jan-24\",\"End_Date\":\"6-Jan-25\",\"Currency\":\"INR\",\"Ticket\":\"349909\",\"Name\":\"Palsson, Master. Gosta Leonard\",\"Sex\":\"male\"}</td></tr><tr><td>List(6, Drinker, Karjala, Hari, 33, Army, Suzuki Swift, DISCOUNT, Top, average, 6-Mar-23, 7-Feb-23, 6-Mar-23, INR, 330877, Moran, Mr. James, male)</td><td>{\"Id\":6,\"Nick_Name\":\"Drinker\",\"First_Name\":\"Karjala\",\"Last_Name\":\"Hari\",\"Age\":33,\"Type\":\"Army\",\"Description\":\"Suzuki Swift\",\"Commodity_Index\":\"DISCOUNT\",\"Sensex_Category\":\"Top\",\"Label_Type\":\"average\",\"Effective_Date\":\"6-Mar-23\",\"Start_Date\":\"7-Feb-23\",\"End_Date\":\"6-Mar-23\",\"Currency\":\"INR\",\"Ticket\":\"330877\",\"Name\":\"Moran, Mr. James\",\"Sex\":\"male\"}</td></tr><tr><td>List(9, Politician, Devineni, Umesh, 58, Senior, Creta, DISCOUNT, Top, average, 6-Apr-23, 7-Mar-23, 6-Apr-23, INR, 347742, Johnson, Mrs. Oscar W (Elisabeth Vilhelmina Berg), female)</td><td>{\"Id\":9,\"Nick_Name\":\"Politician\",\"First_Name\":\"Devineni\",\"Last_Name\":\"Umesh\",\"Age\":58,\"Type\":\"Senior\",\"Description\":\"Creta\",\"Commodity_Index\":\"DISCOUNT\",\"Sensex_Category\":\"Top\",\"Label_Type\":\"average\",\"Effective_Date\":\"6-Apr-23\",\"Start_Date\":\"7-Mar-23\",\"End_Date\":\"6-Apr-23\",\"Currency\":\"INR\",\"Ticket\":\"347742\",\"Name\":\"Johnson, Mrs. Oscar W (Elisabeth Vilhelmina Berg)\",\"Sex\":\"female\"}</td></tr><tr><td>List(10, Minister, Ponguru, Narayana, 56, Education, Brezza, DISCOUNT, Top, average, 6-Apr-23, 7-Mar-23, 6-Apr-23, INR, 237736, Nasser, Mrs. Nicholas (Adele Achem), female)</td><td>{\"Id\":10,\"Nick_Name\":\"Minister\",\"First_Name\":\"Ponguru\",\"Last_Name\":\"Narayana\",\"Age\":56,\"Type\":\"Education\",\"Description\":\"Brezza\",\"Commodity_Index\":\"DISCOUNT\",\"Sensex_Category\":\"Top\",\"Label_Type\":\"average\",\"Effective_Date\":\"6-Apr-23\",\"Start_Date\":\"7-Mar-23\",\"End_Date\":\"6-Apr-23\",\"Currency\":\"INR\",\"Ticket\":\"237736\",\"Name\":\"Nasser, Mrs. Nicholas (Adele Achem)\",\"Sex\":\"female\"}</td></tr></tbody></table></div>"
      ]
     },
     "metadata": {
      "application/vnd.databricks.v1+output": {
       "addedWidgets": {},
       "aggData": [],
       "aggError": "",
       "aggOverflow": false,
       "aggSchema": [],
       "aggSeriesLimitReached": false,
       "aggType": "",
       "arguments": {},
       "columnCustomDisplayInfos": {},
       "data": [
        [
         [
          1,
          "admin",
          "John",
          "Victor",
          30,
          "Grade1",
          "Baleno",
          "DISCOUNT",
          "Top",
          "average",
          "6-Feb-23",
          "14-Jan-23",
          "6-Feb-23",
          "INR",
          "A/5 21171",
          "Braund, Mr. Owen Harris",
          "male"
         ],
         "{\"Id\":1,\"Nick_Name\":\"admin\",\"First_Name\":\"John\",\"Last_Name\":\"Victor\",\"Age\":30,\"Type\":\"Grade1\",\"Description\":\"Baleno\",\"Commodity_Index\":\"DISCOUNT\",\"Sensex_Category\":\"Top\",\"Label_Type\":\"average\",\"Effective_Date\":\"6-Feb-23\",\"Start_Date\":\"14-Jan-23\",\"End_Date\":\"6-Feb-23\",\"Currency\":\"INR\",\"Ticket\":\"A/5 21171\",\"Name\":\"Braund, Mr. Owen Harris\",\"Sex\":\"male\"}"
        ],
        [
         [
          7,
          "Army",
          "Koyi",
          "Damodar",
          37,
          "Bettalian",
          "Wagon R",
          "DISCOUNT",
          "Top",
          "average",
          "6-Jan-25",
          "9-Jan-24",
          "6-Jan-25",
          "INR",
          "17463",
          "McCarthy, Mr. Timothy J",
          "male"
         ],
         "{\"Id\":7,\"Nick_Name\":\"Army\",\"First_Name\":\"Koyi\",\"Last_Name\":\"Damodar\",\"Age\":37,\"Type\":\"Bettalian\",\"Description\":\"Wagon R\",\"Commodity_Index\":\"DISCOUNT\",\"Sensex_Category\":\"Top\",\"Label_Type\":\"average\",\"Effective_Date\":\"6-Jan-25\",\"Start_Date\":\"9-Jan-24\",\"End_Date\":\"6-Jan-25\",\"Currency\":\"INR\",\"Ticket\":\"17463\",\"Name\":\"McCarthy, Mr. Timothy J\",\"Sex\":\"male\"}"
        ],
        [
         [
          2,
          "everest",
          "Paul",
          "Irish",
          35,
          "Grade2",
          "Engine_Base",
          "DISCOUNT",
          "Top",
          "average",
          "6-Feb-23",
          "14-Jan-23",
          "6-Feb-23",
          "INR",
          "PC 17599",
          "Cumings, Mrs. John Bradley (Florence Briggs Thayer)",
          "female"
         ],
         "{\"Id\":2,\"Nick_Name\":\"everest\",\"First_Name\":\"Paul\",\"Last_Name\":\"Irish\",\"Age\":35,\"Type\":\"Grade2\",\"Description\":\"Engine_Base\",\"Commodity_Index\":\"DISCOUNT\",\"Sensex_Category\":\"Top\",\"Label_Type\":\"average\",\"Effective_Date\":\"6-Feb-23\",\"Start_Date\":\"14-Jan-23\",\"End_Date\":\"6-Feb-23\",\"Currency\":\"INR\",\"Ticket\":\"PC 17599\",\"Name\":\"Cumings, Mrs. John Bradley (Florence Briggs Thayer)\",\"Sex\":\"female\"}"
        ],
        [
         [
          5,
          "Builder",
          "Golla",
          "Rajasekar",
          43,
          "Builder",
          "Suzuki Swift",
          "DISCOUNT",
          "Top",
          "average",
          "6-Mar-23",
          "7-Feb-23",
          "6-Mar-23",
          "INR",
          "373450",
          "Allen, Mr. William Henry",
          "male"
         ],
         "{\"Id\":5,\"Nick_Name\":\"Builder\",\"First_Name\":\"Golla\",\"Last_Name\":\"Rajasekar\",\"Age\":43,\"Type\":\"Builder\",\"Description\":\"Suzuki Swift\",\"Commodity_Index\":\"DISCOUNT\",\"Sensex_Category\":\"Top\",\"Label_Type\":\"average\",\"Effective_Date\":\"6-Mar-23\",\"Start_Date\":\"7-Feb-23\",\"End_Date\":\"6-Mar-23\",\"Currency\":\"INR\",\"Ticket\":\"373450\",\"Name\":\"Allen, Mr. William Henry\",\"Sex\":\"male\"}"
        ],
        [
         [
          3,
          "moon",
          "Erram",
          "Rammohan",
          29,
          "Enginner1",
          "Baleno",
          "DISCOUNT",
          "Top",
          "average",
          "8-Jan-24",
          "7-Oct-23",
          "8-Jan-24",
          "INR",
          "STON/O2. 3101282",
          "Heikkinen, Miss. Laina",
          "female"
         ],
         "{\"Id\":3,\"Nick_Name\":\"moon\",\"First_Name\":\"Erram\",\"Last_Name\":\"Rammohan\",\"Age\":29,\"Type\":\"Enginner1\",\"Description\":\"Baleno\",\"Commodity_Index\":\"DISCOUNT\",\"Sensex_Category\":\"Top\",\"Label_Type\":\"average\",\"Effective_Date\":\"8-Jan-24\",\"Start_Date\":\"7-Oct-23\",\"End_Date\":\"8-Jan-24\",\"Currency\":\"INR\",\"Ticket\":\"STON/O2. 3101282\",\"Name\":\"Heikkinen, Miss. Laina\",\"Sex\":\"female\"}"
        ],
        [
         [
          4,
          "service",
          "Stalin",
          "Rajesh",
          40,
          "Minister",
          "Engine_Base",
          "DISCOUNT",
          "Top",
          "average",
          "8-Jan-24",
          "7-Oct-23",
          "8-Jan-24",
          "INR",
          "113803",
          "Futrelle, Mrs. Jacques Heath (Lily May Peel)",
          "female"
         ],
         "{\"Id\":4,\"Nick_Name\":\"service\",\"First_Name\":\"Stalin\",\"Last_Name\":\"Rajesh\",\"Age\":40,\"Type\":\"Minister\",\"Description\":\"Engine_Base\",\"Commodity_Index\":\"DISCOUNT\",\"Sensex_Category\":\"Top\",\"Label_Type\":\"average\",\"Effective_Date\":\"8-Jan-24\",\"Start_Date\":\"7-Oct-23\",\"End_Date\":\"8-Jan-24\",\"Currency\":\"INR\",\"Ticket\":\"113803\",\"Name\":\"Futrelle, Mrs. Jacques Heath (Lily May Peel)\",\"Sex\":\"female\"}"
        ],
        [
         [
          8,
          "Marketing",
          "Vemparla",
          "Harish",
          55,
          "Manager",
          "Engine_Base",
          "DISCOUNT",
          "Top",
          "average",
          "6-Jan-25",
          "9-Jan-24",
          "6-Jan-25",
          "INR",
          "349909",
          "Palsson, Master. Gosta Leonard",
          "male"
         ],
         "{\"Id\":8,\"Nick_Name\":\"Marketing\",\"First_Name\":\"Vemparla\",\"Last_Name\":\"Harish\",\"Age\":55,\"Type\":\"Manager\",\"Description\":\"Engine_Base\",\"Commodity_Index\":\"DISCOUNT\",\"Sensex_Category\":\"Top\",\"Label_Type\":\"average\",\"Effective_Date\":\"6-Jan-25\",\"Start_Date\":\"9-Jan-24\",\"End_Date\":\"6-Jan-25\",\"Currency\":\"INR\",\"Ticket\":\"349909\",\"Name\":\"Palsson, Master. Gosta Leonard\",\"Sex\":\"male\"}"
        ],
        [
         [
          6,
          "Drinker",
          "Karjala",
          "Hari",
          33,
          "Army",
          "Suzuki Swift",
          "DISCOUNT",
          "Top",
          "average",
          "6-Mar-23",
          "7-Feb-23",
          "6-Mar-23",
          "INR",
          "330877",
          "Moran, Mr. James",
          "male"
         ],
         "{\"Id\":6,\"Nick_Name\":\"Drinker\",\"First_Name\":\"Karjala\",\"Last_Name\":\"Hari\",\"Age\":33,\"Type\":\"Army\",\"Description\":\"Suzuki Swift\",\"Commodity_Index\":\"DISCOUNT\",\"Sensex_Category\":\"Top\",\"Label_Type\":\"average\",\"Effective_Date\":\"6-Mar-23\",\"Start_Date\":\"7-Feb-23\",\"End_Date\":\"6-Mar-23\",\"Currency\":\"INR\",\"Ticket\":\"330877\",\"Name\":\"Moran, Mr. James\",\"Sex\":\"male\"}"
        ],
        [
         [
          9,
          "Politician",
          "Devineni",
          "Umesh",
          58,
          "Senior",
          "Creta",
          "DISCOUNT",
          "Top",
          "average",
          "6-Apr-23",
          "7-Mar-23",
          "6-Apr-23",
          "INR",
          "347742",
          "Johnson, Mrs. Oscar W (Elisabeth Vilhelmina Berg)",
          "female"
         ],
         "{\"Id\":9,\"Nick_Name\":\"Politician\",\"First_Name\":\"Devineni\",\"Last_Name\":\"Umesh\",\"Age\":58,\"Type\":\"Senior\",\"Description\":\"Creta\",\"Commodity_Index\":\"DISCOUNT\",\"Sensex_Category\":\"Top\",\"Label_Type\":\"average\",\"Effective_Date\":\"6-Apr-23\",\"Start_Date\":\"7-Mar-23\",\"End_Date\":\"6-Apr-23\",\"Currency\":\"INR\",\"Ticket\":\"347742\",\"Name\":\"Johnson, Mrs. Oscar W (Elisabeth Vilhelmina Berg)\",\"Sex\":\"female\"}"
        ],
        [
         [
          10,
          "Minister",
          "Ponguru",
          "Narayana",
          56,
          "Education",
          "Brezza",
          "DISCOUNT",
          "Top",
          "average",
          "6-Apr-23",
          "7-Mar-23",
          "6-Apr-23",
          "INR",
          "237736",
          "Nasser, Mrs. Nicholas (Adele Achem)",
          "female"
         ],
         "{\"Id\":10,\"Nick_Name\":\"Minister\",\"First_Name\":\"Ponguru\",\"Last_Name\":\"Narayana\",\"Age\":56,\"Type\":\"Education\",\"Description\":\"Brezza\",\"Commodity_Index\":\"DISCOUNT\",\"Sensex_Category\":\"Top\",\"Label_Type\":\"average\",\"Effective_Date\":\"6-Apr-23\",\"Start_Date\":\"7-Mar-23\",\"End_Date\":\"6-Apr-23\",\"Currency\":\"INR\",\"Ticket\":\"237736\",\"Name\":\"Nasser, Mrs. Nicholas (Adele Achem)\",\"Sex\":\"female\"}"
        ]
       ],
       "datasetInfos": [],
       "dbfsResultPath": null,
       "isJsonSchema": true,
       "metadata": {},
       "overflow": false,
       "plotOptions": {
        "customPlotOptions": {},
        "displayType": "table",
        "pivotAggregation": null,
        "pivotColumns": null,
        "xColumns": null,
        "yColumns": null
       },
       "removedWidgets": [],
       "schema": [
        {
         "metadata": "{}",
         "name": "sales_msg",
         "type": "{\"type\":\"struct\",\"fields\":[{\"name\":\"Id\",\"type\":\"integer\",\"nullable\":true,\"metadata\":{}},{\"name\":\"Nick_Name\",\"type\":\"string\",\"nullable\":true,\"metadata\":{}},{\"name\":\"First_Name\",\"type\":\"string\",\"nullable\":true,\"metadata\":{}},{\"name\":\"Last_Name\",\"type\":\"string\",\"nullable\":true,\"metadata\":{}},{\"name\":\"Age\",\"type\":\"integer\",\"nullable\":true,\"metadata\":{}},{\"name\":\"Type\",\"type\":\"string\",\"nullable\":true,\"metadata\":{}},{\"name\":\"Description\",\"type\":\"string\",\"nullable\":true,\"metadata\":{}},{\"name\":\"Commodity_Index\",\"type\":\"string\",\"nullable\":true,\"metadata\":{}},{\"name\":\"Sensex_Category\",\"type\":\"string\",\"nullable\":true,\"metadata\":{}},{\"name\":\"Label_Type\",\"type\":\"string\",\"nullable\":true,\"metadata\":{}},{\"name\":\"Effective_Date\",\"type\":\"string\",\"nullable\":true,\"metadata\":{}},{\"name\":\"Start_Date\",\"type\":\"string\",\"nullable\":true,\"metadata\":{}},{\"name\":\"End_Date\",\"type\":\"string\",\"nullable\":true,\"metadata\":{}},{\"name\":\"Currency\",\"type\":\"string\",\"nullable\":true,\"metadata\":{}},{\"name\":\"Ticket\",\"type\":\"string\",\"nullable\":true,\"metadata\":{}},{\"name\":\"Name\",\"type\":\"string\",\"nullable\":true,\"metadata\":{}},{\"name\":\"Sex\",\"type\":\"string\",\"nullable\":true,\"metadata\":{}}]}"
        },
        {
         "metadata": "{}",
         "name": "sales_msg_json",
         "type": "\"string\""
        }
       ],
       "type": "table"
      }
     },
     "output_type": "display_data"
    }
   ],
   "source": [
    "# Convert the 'sales_msg' column to JSON string\n",
    "df_final = df_stru.withColumn('sales_msg_json', f.to_json(f.col('sales_msg')))\n",
    "display(df_final.limit(10))"
   ]
  },
  {
   "cell_type": "code",
   "execution_count": 0,
   "metadata": {
    "application/vnd.databricks.v1+cell": {
     "cellMetadata": {
      "byteLimit": 2048000,
      "rowLimit": 10000
     },
     "inputWidgets": {},
     "nuid": "bf3a19ae-5935-4fd6-a0b0-96024663f0bd",
     "showTitle": false,
     "title": ""
    }
   },
   "outputs": [],
   "source": [
    "schema = StructType([StructField('Id', IntegerType(), False),\n",
    "                     StructField('Nick_Name', StringType(), False),\n",
    "                     StructField('First_Name', StringType(), False),\n",
    "                     StructField('Last_Name', StringType(), False),\n",
    "                     StructField('Age', IntegerType(), False),\n",
    "                     StructField('Type', StringType(), False),\n",
    "                     StructField('Description', StringType(), False),\n",
    "                     StructField('Commodity_Index', StringType(), False),\n",
    "                     StructField('Sensex_Category', StringType(), False),\n",
    "                     StructField('Label_Type', StringType(), False),\n",
    "                     StructField('Effective_Date', StringType(), False),\n",
    "                     StructField('Start_Date', StringType(), False)]\n",
    "                    )"
   ]
  },
  {
   "cell_type": "code",
   "execution_count": 0,
   "metadata": {
    "application/vnd.databricks.v1+cell": {
     "cellMetadata": {
      "byteLimit": 2048000,
      "rowLimit": 10000
     },
     "inputWidgets": {},
     "nuid": "1c476df3-6bac-42f6-84aa-0fe1d010db2e",
     "showTitle": false,
     "title": ""
    }
   },
   "outputs": [
    {
     "output_type": "display_data",
     "data": {
      "text/html": [
       "<style scoped>\n",
       "  .table-result-container {\n",
       "    max-height: 300px;\n",
       "    overflow: auto;\n",
       "  }\n",
       "  table, th, td {\n",
       "    border: 1px solid black;\n",
       "    border-collapse: collapse;\n",
       "  }\n",
       "  th, td {\n",
       "    padding: 5px;\n",
       "  }\n",
       "  th {\n",
       "    text-align: left;\n",
       "  }\n",
       "</style><div class='table-result-container'><table class='table-result'><thead style='background-color: white'><tr><th>kafka_msg</th></tr></thead><tbody><tr><td>List(1, admin, John, Victor, 30, Grade1, Baleno, DISCOUNT, Top, average, 6-Feb-23, 14-Jan-23)</td></tr><tr><td>List(7, Army, Koyi, Damodar, 37, Bettalian, Wagon R, DISCOUNT, Top, average, 6-Jan-25, 9-Jan-24)</td></tr><tr><td>List(2, everest, Paul, Irish, 35, Grade2, Engine_Base, DISCOUNT, Top, average, 6-Feb-23, 14-Jan-23)</td></tr><tr><td>List(5, Builder, Golla, Rajasekar, 43, Builder, Suzuki Swift, DISCOUNT, Top, average, 6-Mar-23, 7-Feb-23)</td></tr><tr><td>List(3, moon, Erram, Rammohan, 29, Enginner1, Baleno, DISCOUNT, Top, average, 8-Jan-24, 7-Oct-23)</td></tr><tr><td>List(4, service, Stalin, Rajesh, 40, Minister, Engine_Base, DISCOUNT, Top, average, 8-Jan-24, 7-Oct-23)</td></tr><tr><td>List(8, Marketing, Vemparla, Harish, 55, Manager, Engine_Base, DISCOUNT, Top, average, 6-Jan-25, 9-Jan-24)</td></tr><tr><td>List(6, Drinker, Karjala, Hari, 33, Army, Suzuki Swift, DISCOUNT, Top, average, 6-Mar-23, 7-Feb-23)</td></tr><tr><td>List(9, Politician, Devineni, Umesh, 58, Senior, Creta, DISCOUNT, Top, average, 6-Apr-23, 7-Mar-23)</td></tr><tr><td>List(10, Minister, Ponguru, Narayana, 56, Education, Brezza, DISCOUNT, Top, average, 6-Apr-23, 7-Mar-23)</td></tr></tbody></table></div>"
      ]
     },
     "metadata": {
      "application/vnd.databricks.v1+output": {
       "addedWidgets": {},
       "aggData": [],
       "aggError": "",
       "aggOverflow": false,
       "aggSchema": [],
       "aggSeriesLimitReached": false,
       "aggType": "",
       "arguments": {},
       "columnCustomDisplayInfos": {},
       "data": [
        [
         [
          1,
          "admin",
          "John",
          "Victor",
          30,
          "Grade1",
          "Baleno",
          "DISCOUNT",
          "Top",
          "average",
          "6-Feb-23",
          "14-Jan-23"
         ]
        ],
        [
         [
          7,
          "Army",
          "Koyi",
          "Damodar",
          37,
          "Bettalian",
          "Wagon R",
          "DISCOUNT",
          "Top",
          "average",
          "6-Jan-25",
          "9-Jan-24"
         ]
        ],
        [
         [
          2,
          "everest",
          "Paul",
          "Irish",
          35,
          "Grade2",
          "Engine_Base",
          "DISCOUNT",
          "Top",
          "average",
          "6-Feb-23",
          "14-Jan-23"
         ]
        ],
        [
         [
          5,
          "Builder",
          "Golla",
          "Rajasekar",
          43,
          "Builder",
          "Suzuki Swift",
          "DISCOUNT",
          "Top",
          "average",
          "6-Mar-23",
          "7-Feb-23"
         ]
        ],
        [
         [
          3,
          "moon",
          "Erram",
          "Rammohan",
          29,
          "Enginner1",
          "Baleno",
          "DISCOUNT",
          "Top",
          "average",
          "8-Jan-24",
          "7-Oct-23"
         ]
        ],
        [
         [
          4,
          "service",
          "Stalin",
          "Rajesh",
          40,
          "Minister",
          "Engine_Base",
          "DISCOUNT",
          "Top",
          "average",
          "8-Jan-24",
          "7-Oct-23"
         ]
        ],
        [
         [
          8,
          "Marketing",
          "Vemparla",
          "Harish",
          55,
          "Manager",
          "Engine_Base",
          "DISCOUNT",
          "Top",
          "average",
          "6-Jan-25",
          "9-Jan-24"
         ]
        ],
        [
         [
          6,
          "Drinker",
          "Karjala",
          "Hari",
          33,
          "Army",
          "Suzuki Swift",
          "DISCOUNT",
          "Top",
          "average",
          "6-Mar-23",
          "7-Feb-23"
         ]
        ],
        [
         [
          9,
          "Politician",
          "Devineni",
          "Umesh",
          58,
          "Senior",
          "Creta",
          "DISCOUNT",
          "Top",
          "average",
          "6-Apr-23",
          "7-Mar-23"
         ]
        ],
        [
         [
          10,
          "Minister",
          "Ponguru",
          "Narayana",
          56,
          "Education",
          "Brezza",
          "DISCOUNT",
          "Top",
          "average",
          "6-Apr-23",
          "7-Mar-23"
         ]
        ]
       ],
       "datasetInfos": [],
       "dbfsResultPath": null,
       "isJsonSchema": true,
       "metadata": {},
       "overflow": false,
       "plotOptions": {
        "customPlotOptions": {},
        "displayType": "table",
        "pivotAggregation": null,
        "pivotColumns": null,
        "xColumns": null,
        "yColumns": null
       },
       "removedWidgets": [],
       "schema": [
        {
         "metadata": "{}",
         "name": "kafka_msg",
         "type": "{\"type\":\"struct\",\"fields\":[{\"name\":\"Id\",\"type\":\"integer\",\"nullable\":true,\"metadata\":{}},{\"name\":\"Nick_Name\",\"type\":\"string\",\"nullable\":true,\"metadata\":{}},{\"name\":\"First_Name\",\"type\":\"string\",\"nullable\":true,\"metadata\":{}},{\"name\":\"Last_Name\",\"type\":\"string\",\"nullable\":true,\"metadata\":{}},{\"name\":\"Age\",\"type\":\"integer\",\"nullable\":true,\"metadata\":{}},{\"name\":\"Type\",\"type\":\"string\",\"nullable\":true,\"metadata\":{}},{\"name\":\"Description\",\"type\":\"string\",\"nullable\":true,\"metadata\":{}},{\"name\":\"Commodity_Index\",\"type\":\"string\",\"nullable\":true,\"metadata\":{}},{\"name\":\"Sensex_Category\",\"type\":\"string\",\"nullable\":true,\"metadata\":{}},{\"name\":\"Label_Type\",\"type\":\"string\",\"nullable\":true,\"metadata\":{}},{\"name\":\"Effective_Date\",\"type\":\"string\",\"nullable\":true,\"metadata\":{}},{\"name\":\"Start_Date\",\"type\":\"string\",\"nullable\":true,\"metadata\":{}}]}"
        }
       ],
       "type": "table"
      }
     },
     "output_type": "display_data"
    }
   ],
   "source": [
    "# Apply the from_json function on the JSON string column\n",
    "df_final = df_final.select(f.from_json(f.col('sales_msg_json'), schema).alias('kafka_msg'))\n",
    "display(df_final.limit(10))"
   ]
  }
 ],
 "metadata": {
  "application/vnd.databricks.v1+notebook": {
   "dashboards": [],
   "environmentMetadata": null,
   "language": "python",
   "notebookMetadata": {
    "pythonIndentUnit": 4
   },
   "notebookName": "1_How to convert json string to struct from_json",
   "widgets": {}
  }
 },
 "nbformat": 4,
 "nbformat_minor": 0
}
