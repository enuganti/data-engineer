{
 "cells": [
  {
   "cell_type": "markdown",
   "metadata": {
    "application/vnd.databricks.v1+cell": {
     "cellMetadata": {},
     "inputWidgets": {},
     "nuid": "bfb9aea8-8cc2-4556-a74d-38e87dc9eacb",
     "showTitle": false,
     "title": ""
    }
   },
   "source": [
    "#### **to_json**\n",
    "\n",
    "- **Converts** a column containing a **StructType, ArrayType or a MapType** into a **JSON string**.\n",
    "\n",
    "- Throws an **exception**, in the case of an **unsupported type**."
   ]
  },
  {
   "cell_type": "code",
   "execution_count": 0,
   "metadata": {
    "application/vnd.databricks.v1+cell": {
     "cellMetadata": {
      "byteLimit": 2048000,
      "rowLimit": 10000
     },
     "collapsed": true,
     "inputWidgets": {},
     "nuid": "4dcbbb9b-f3de-48e0-9d81-c5674346a28b",
     "showTitle": false,
     "title": ""
    }
   },
   "outputs": [
    {
     "output_type": "display_data",
     "data": {
      "text/html": [
       "<style scoped>\n",
       "  .table-result-container {\n",
       "    max-height: 300px;\n",
       "    overflow: auto;\n",
       "  }\n",
       "  table, th, td {\n",
       "    border: 1px solid black;\n",
       "    border-collapse: collapse;\n",
       "  }\n",
       "  th, td {\n",
       "    padding: 5px;\n",
       "  }\n",
       "  th {\n",
       "    text-align: left;\n",
       "  }\n",
       "</style><div class='table-result-container'><table class='table-result'><thead style='background-color: white'><tr><th>path</th><th>name</th><th>size</th><th>modificationTime</th></tr></thead><tbody><tr><td>dbfs:/FileStore/tables/Flatten Nested Array.json</td><td>Flatten Nested Array.json</td><td>3756</td><td>1718618620000</td></tr><tr><td>dbfs:/FileStore/tables/MarketPrice-1.csv</td><td>MarketPrice-1.csv</td><td>19528</td><td>1719656512000</td></tr><tr><td>dbfs:/FileStore/tables/MarketPrice.csv</td><td>MarketPrice.csv</td><td>19528</td><td>1719656208000</td></tr><tr><td>dbfs:/FileStore/tables/MultiLineJSON.json/</td><td>MultiLineJSON.json/</td><td>0</td><td>0</td></tr><tr><td>dbfs:/FileStore/tables/MultiLineJSON01.json/</td><td>MultiLineJSON01.json/</td><td>0</td><td>0</td></tr><tr><td>dbfs:/FileStore/tables/MultiLineJSON1.json/</td><td>MultiLineJSON1.json/</td><td>0</td><td>0</td></tr><tr><td>dbfs:/FileStore/tables/MultiLineJSON123.json/</td><td>MultiLineJSON123.json/</td><td>0</td><td>0</td></tr><tr><td>dbfs:/FileStore/tables/MultiLineJSON2.json/</td><td>MultiLineJSON2.json/</td><td>0</td><td>0</td></tr><tr><td>dbfs:/FileStore/tables/Question7.csv</td><td>Question7.csv</td><td>154</td><td>1725816645000</td></tr><tr><td>dbfs:/FileStore/tables/RunningData_Rev02.csv</td><td>RunningData_Rev02.csv</td><td>1222</td><td>1719810609000</td></tr><tr><td>dbfs:/FileStore/tables/RunningData_Rev03.csv</td><td>RunningData_Rev03.csv</td><td>1216</td><td>1719810946000</td></tr><tr><td>dbfs:/FileStore/tables/SalesData_Rev02.csv</td><td>SalesData_Rev02.csv</td><td>472</td><td>1719810784000</td></tr><tr><td>dbfs:/FileStore/tables/SalesData_Rev03.csv</td><td>SalesData_Rev03.csv</td><td>460</td><td>1719810973000</td></tr><tr><td>dbfs:/FileStore/tables/Sales_Collect.csv</td><td>Sales_Collect.csv</td><td>182972</td><td>1720293547000</td></tr><tr><td>dbfs:/FileStore/tables/Sales_Collect_Rev02.csv</td><td>Sales_Collect_Rev02.csv</td><td>166107</td><td>1719810826000</td></tr><tr><td>dbfs:/FileStore/tables/Sales_Collect_Rev03.csv</td><td>Sales_Collect_Rev03.csv</td><td>182828</td><td>1719811001000</td></tr><tr><td>dbfs:/FileStore/tables/StructType-1.csv</td><td>StructType-1.csv</td><td>648</td><td>1717934508000</td></tr><tr><td>dbfs:/FileStore/tables/StructType-2.csv</td><td>StructType-2.csv</td><td>648</td><td>1717935891000</td></tr><tr><td>dbfs:/FileStore/tables/StructType-3.csv</td><td>StructType-3.csv</td><td>648</td><td>1717936009000</td></tr><tr><td>dbfs:/FileStore/tables/StructType-4.csv</td><td>StructType-4.csv</td><td>648</td><td>1717936144000</td></tr><tr><td>dbfs:/FileStore/tables/StructType-5.csv</td><td>StructType-5.csv</td><td>648</td><td>1717936276000</td></tr><tr><td>dbfs:/FileStore/tables/StructType.csv</td><td>StructType.csv</td><td>648</td><td>1717934306000</td></tr><tr><td>dbfs:/FileStore/tables/booleantype-1.csv</td><td>booleantype-1.csv</td><td>4670</td><td>1726837953000</td></tr><tr><td>dbfs:/FileStore/tables/booleantype-2.csv</td><td>booleantype-2.csv</td><td>5337</td><td>1726841165000</td></tr><tr><td>dbfs:/FileStore/tables/booleantype-3.csv</td><td>booleantype-3.csv</td><td>3167</td><td>1726843335000</td></tr><tr><td>dbfs:/FileStore/tables/booleantype-4.csv</td><td>booleantype-4.csv</td><td>2889</td><td>1726843641000</td></tr><tr><td>dbfs:/FileStore/tables/booleantype-5.csv</td><td>booleantype-5.csv</td><td>3164</td><td>1726851645000</td></tr><tr><td>dbfs:/FileStore/tables/booleantype.csv</td><td>booleantype.csv</td><td>4670</td><td>1726837542000</td></tr><tr><td>dbfs:/FileStore/tables/cast_data.txt</td><td>cast_data.txt</td><td>219</td><td>1720376019000</td></tr><tr><td>dbfs:/FileStore/tables/current_date___current_user___current_timestamp__.csv</td><td>current_date___current_user___current_timestamp__.csv</td><td>4040</td><td>1726313822000</td></tr><tr><td>dbfs:/FileStore/tables/date_format-1.csv</td><td>date_format-1.csv</td><td>1656</td><td>1725709118000</td></tr><tr><td>dbfs:/FileStore/tables/date_format-2.csv</td><td>date_format-2.csv</td><td>1923</td><td>1725709313000</td></tr><tr><td>dbfs:/FileStore/tables/date_format.csv</td><td>date_format.csv</td><td>1119</td><td>1725645247000</td></tr><tr><td>dbfs:/FileStore/tables/from_unixtime-1.csv</td><td>from_unixtime-1.csv</td><td>9523</td><td>1725903833000</td></tr><tr><td>dbfs:/FileStore/tables/from_unixtime.csv</td><td>from_unixtime.csv</td><td>9523</td><td>1725901373000</td></tr><tr><td>dbfs:/FileStore/tables/iterate_columns.csv</td><td>iterate_columns.csv</td><td>2023849</td><td>1719767610000</td></tr><tr><td>dbfs:/FileStore/tables/multiline.json</td><td>multiline.json</td><td>1262</td><td>1725858755000</td></tr><tr><td>dbfs:/FileStore/tables/multiline.txt</td><td>multiline.txt</td><td>178</td><td>1721655243000</td></tr><tr><td>dbfs:/FileStore/tables/multiline_nested-1.json</td><td>multiline_nested-1.json</td><td>2233</td><td>1725884748000</td></tr><tr><td>dbfs:/FileStore/tables/multiline_nested.json</td><td>multiline_nested.json</td><td>1731</td><td>1725870338000</td></tr><tr><td>dbfs:/FileStore/tables/person-1.json</td><td>person-1.json</td><td>4608</td><td>1718609578000</td></tr><tr><td>dbfs:/FileStore/tables/person-2.json</td><td>person-2.json</td><td>4616</td><td>1718610165000</td></tr><tr><td>dbfs:/FileStore/tables/person.json</td><td>person.json</td><td>4616</td><td>1718609425000</td></tr><tr><td>dbfs:/FileStore/tables/posexplode.txt</td><td>posexplode.txt</td><td>264</td><td>1718525465000</td></tr><tr><td>dbfs:/FileStore/tables/singleline-1.json</td><td>singleline-1.json</td><td>1000</td><td>1725857789000</td></tr><tr><td>dbfs:/FileStore/tables/singleline-2.json</td><td>singleline-2.json</td><td>999</td><td>1725858047000</td></tr><tr><td>dbfs:/FileStore/tables/singleline-3.json</td><td>singleline-3.json</td><td>1003</td><td>1725858173000</td></tr><tr><td>dbfs:/FileStore/tables/singleline-4.json</td><td>singleline-4.json</td><td>1004</td><td>1725858244000</td></tr><tr><td>dbfs:/FileStore/tables/singleline-5.json</td><td>singleline-5.json</td><td>1006</td><td>1725858294000</td></tr><tr><td>dbfs:/FileStore/tables/singleline-6.json</td><td>singleline-6.json</td><td>1006</td><td>1725858459000</td></tr><tr><td>dbfs:/FileStore/tables/singleline.json</td><td>singleline.json</td><td>1006</td><td>1725856537000</td></tr><tr><td>dbfs:/FileStore/tables/singlelineList.json</td><td>singlelineList.json</td><td>1032</td><td>1725892526000</td></tr><tr><td>dbfs:/FileStore/tables/singleline_nested-1.json</td><td>singleline_nested-1.json</td><td>1388</td><td>1725883300000</td></tr><tr><td>dbfs:/FileStore/tables/singleline_nested.json</td><td>singleline_nested.json</td><td>1096</td><td>1725870020000</td></tr><tr><td>dbfs:/FileStore/tables/split.txt</td><td>split.txt</td><td>390</td><td>1721625608000</td></tr><tr><td>dbfs:/FileStore/tables/syntax.jpg</td><td>syntax.jpg</td><td>32647</td><td>1725976365000</td></tr><tr><td>dbfs:/FileStore/tables/timestamp_millis-1.csv</td><td>timestamp_millis-1.csv</td><td>7513</td><td>1725903371000</td></tr><tr><td>dbfs:/FileStore/tables/timestamp_millis-2.csv</td><td>timestamp_millis-2.csv</td><td>7513</td><td>1725903430000</td></tr><tr><td>dbfs:/FileStore/tables/timestamp_millis-3.csv</td><td>timestamp_millis-3.csv</td><td>8613</td><td>1725903701000</td></tr><tr><td>dbfs:/FileStore/tables/timestamp_millis.csv</td><td>timestamp_millis.csv</td><td>7533</td><td>1725903084000</td></tr><tr><td>dbfs:/FileStore/tables/titanic.csv</td><td>titanic.csv</td><td>60302</td><td>1717853233000</td></tr><tr><td>dbfs:/FileStore/tables/to_date.csv</td><td>to_date.csv</td><td>1923</td><td>1726112031000</td></tr><tr><td>dbfs:/FileStore/tables/to_json.csv</td><td>to_json.csv</td><td>50792</td><td>1726583981000</td></tr><tr><td>dbfs:/FileStore/tables/to_timestamp-1.csv</td><td>to_timestamp-1.csv</td><td>5536</td><td>1726303458000</td></tr><tr><td>dbfs:/FileStore/tables/to_timestamp-2.csv</td><td>to_timestamp-2.csv</td><td>5425</td><td>1726303695000</td></tr><tr><td>dbfs:/FileStore/tables/to_timestamp-3.csv</td><td>to_timestamp-3.csv</td><td>5545</td><td>1726304079000</td></tr><tr><td>dbfs:/FileStore/tables/to_timestamp.csv</td><td>to_timestamp.csv</td><td>6451</td><td>1726300120000</td></tr></tbody></table></div>"
      ]
     },
     "metadata": {
      "application/vnd.databricks.v1+output": {
       "addedWidgets": {},
       "aggData": [],
       "aggError": "",
       "aggOverflow": false,
       "aggSchema": [],
       "aggSeriesLimitReached": false,
       "aggType": "",
       "arguments": {},
       "columnCustomDisplayInfos": {},
       "data": [
        [
         "dbfs:/FileStore/tables/Flatten Nested Array.json",
         "Flatten Nested Array.json",
         3756,
         1718618620000
        ],
        [
         "dbfs:/FileStore/tables/MarketPrice-1.csv",
         "MarketPrice-1.csv",
         19528,
         1719656512000
        ],
        [
         "dbfs:/FileStore/tables/MarketPrice.csv",
         "MarketPrice.csv",
         19528,
         1719656208000
        ],
        [
         "dbfs:/FileStore/tables/MultiLineJSON.json/",
         "MultiLineJSON.json/",
         0,
         0
        ],
        [
         "dbfs:/FileStore/tables/MultiLineJSON01.json/",
         "MultiLineJSON01.json/",
         0,
         0
        ],
        [
         "dbfs:/FileStore/tables/MultiLineJSON1.json/",
         "MultiLineJSON1.json/",
         0,
         0
        ],
        [
         "dbfs:/FileStore/tables/MultiLineJSON123.json/",
         "MultiLineJSON123.json/",
         0,
         0
        ],
        [
         "dbfs:/FileStore/tables/MultiLineJSON2.json/",
         "MultiLineJSON2.json/",
         0,
         0
        ],
        [
         "dbfs:/FileStore/tables/Question7.csv",
         "Question7.csv",
         154,
         1725816645000
        ],
        [
         "dbfs:/FileStore/tables/RunningData_Rev02.csv",
         "RunningData_Rev02.csv",
         1222,
         1719810609000
        ],
        [
         "dbfs:/FileStore/tables/RunningData_Rev03.csv",
         "RunningData_Rev03.csv",
         1216,
         1719810946000
        ],
        [
         "dbfs:/FileStore/tables/SalesData_Rev02.csv",
         "SalesData_Rev02.csv",
         472,
         1719810784000
        ],
        [
         "dbfs:/FileStore/tables/SalesData_Rev03.csv",
         "SalesData_Rev03.csv",
         460,
         1719810973000
        ],
        [
         "dbfs:/FileStore/tables/Sales_Collect.csv",
         "Sales_Collect.csv",
         182972,
         1720293547000
        ],
        [
         "dbfs:/FileStore/tables/Sales_Collect_Rev02.csv",
         "Sales_Collect_Rev02.csv",
         166107,
         1719810826000
        ],
        [
         "dbfs:/FileStore/tables/Sales_Collect_Rev03.csv",
         "Sales_Collect_Rev03.csv",
         182828,
         1719811001000
        ],
        [
         "dbfs:/FileStore/tables/StructType-1.csv",
         "StructType-1.csv",
         648,
         1717934508000
        ],
        [
         "dbfs:/FileStore/tables/StructType-2.csv",
         "StructType-2.csv",
         648,
         1717935891000
        ],
        [
         "dbfs:/FileStore/tables/StructType-3.csv",
         "StructType-3.csv",
         648,
         1717936009000
        ],
        [
         "dbfs:/FileStore/tables/StructType-4.csv",
         "StructType-4.csv",
         648,
         1717936144000
        ],
        [
         "dbfs:/FileStore/tables/StructType-5.csv",
         "StructType-5.csv",
         648,
         1717936276000
        ],
        [
         "dbfs:/FileStore/tables/StructType.csv",
         "StructType.csv",
         648,
         1717934306000
        ],
        [
         "dbfs:/FileStore/tables/booleantype-1.csv",
         "booleantype-1.csv",
         4670,
         1726837953000
        ],
        [
         "dbfs:/FileStore/tables/booleantype-2.csv",
         "booleantype-2.csv",
         5337,
         1726841165000
        ],
        [
         "dbfs:/FileStore/tables/booleantype-3.csv",
         "booleantype-3.csv",
         3167,
         1726843335000
        ],
        [
         "dbfs:/FileStore/tables/booleantype-4.csv",
         "booleantype-4.csv",
         2889,
         1726843641000
        ],
        [
         "dbfs:/FileStore/tables/booleantype-5.csv",
         "booleantype-5.csv",
         3164,
         1726851645000
        ],
        [
         "dbfs:/FileStore/tables/booleantype.csv",
         "booleantype.csv",
         4670,
         1726837542000
        ],
        [
         "dbfs:/FileStore/tables/cast_data.txt",
         "cast_data.txt",
         219,
         1720376019000
        ],
        [
         "dbfs:/FileStore/tables/current_date___current_user___current_timestamp__.csv",
         "current_date___current_user___current_timestamp__.csv",
         4040,
         1726313822000
        ],
        [
         "dbfs:/FileStore/tables/date_format-1.csv",
         "date_format-1.csv",
         1656,
         1725709118000
        ],
        [
         "dbfs:/FileStore/tables/date_format-2.csv",
         "date_format-2.csv",
         1923,
         1725709313000
        ],
        [
         "dbfs:/FileStore/tables/date_format.csv",
         "date_format.csv",
         1119,
         1725645247000
        ],
        [
         "dbfs:/FileStore/tables/from_unixtime-1.csv",
         "from_unixtime-1.csv",
         9523,
         1725903833000
        ],
        [
         "dbfs:/FileStore/tables/from_unixtime.csv",
         "from_unixtime.csv",
         9523,
         1725901373000
        ],
        [
         "dbfs:/FileStore/tables/iterate_columns.csv",
         "iterate_columns.csv",
         2023849,
         1719767610000
        ],
        [
         "dbfs:/FileStore/tables/multiline.json",
         "multiline.json",
         1262,
         1725858755000
        ],
        [
         "dbfs:/FileStore/tables/multiline.txt",
         "multiline.txt",
         178,
         1721655243000
        ],
        [
         "dbfs:/FileStore/tables/multiline_nested-1.json",
         "multiline_nested-1.json",
         2233,
         1725884748000
        ],
        [
         "dbfs:/FileStore/tables/multiline_nested.json",
         "multiline_nested.json",
         1731,
         1725870338000
        ],
        [
         "dbfs:/FileStore/tables/person-1.json",
         "person-1.json",
         4608,
         1718609578000
        ],
        [
         "dbfs:/FileStore/tables/person-2.json",
         "person-2.json",
         4616,
         1718610165000
        ],
        [
         "dbfs:/FileStore/tables/person.json",
         "person.json",
         4616,
         1718609425000
        ],
        [
         "dbfs:/FileStore/tables/posexplode.txt",
         "posexplode.txt",
         264,
         1718525465000
        ],
        [
         "dbfs:/FileStore/tables/singleline-1.json",
         "singleline-1.json",
         1000,
         1725857789000
        ],
        [
         "dbfs:/FileStore/tables/singleline-2.json",
         "singleline-2.json",
         999,
         1725858047000
        ],
        [
         "dbfs:/FileStore/tables/singleline-3.json",
         "singleline-3.json",
         1003,
         1725858173000
        ],
        [
         "dbfs:/FileStore/tables/singleline-4.json",
         "singleline-4.json",
         1004,
         1725858244000
        ],
        [
         "dbfs:/FileStore/tables/singleline-5.json",
         "singleline-5.json",
         1006,
         1725858294000
        ],
        [
         "dbfs:/FileStore/tables/singleline-6.json",
         "singleline-6.json",
         1006,
         1725858459000
        ],
        [
         "dbfs:/FileStore/tables/singleline.json",
         "singleline.json",
         1006,
         1725856537000
        ],
        [
         "dbfs:/FileStore/tables/singlelineList.json",
         "singlelineList.json",
         1032,
         1725892526000
        ],
        [
         "dbfs:/FileStore/tables/singleline_nested-1.json",
         "singleline_nested-1.json",
         1388,
         1725883300000
        ],
        [
         "dbfs:/FileStore/tables/singleline_nested.json",
         "singleline_nested.json",
         1096,
         1725870020000
        ],
        [
         "dbfs:/FileStore/tables/split.txt",
         "split.txt",
         390,
         1721625608000
        ],
        [
         "dbfs:/FileStore/tables/syntax.jpg",
         "syntax.jpg",
         32647,
         1725976365000
        ],
        [
         "dbfs:/FileStore/tables/timestamp_millis-1.csv",
         "timestamp_millis-1.csv",
         7513,
         1725903371000
        ],
        [
         "dbfs:/FileStore/tables/timestamp_millis-2.csv",
         "timestamp_millis-2.csv",
         7513,
         1725903430000
        ],
        [
         "dbfs:/FileStore/tables/timestamp_millis-3.csv",
         "timestamp_millis-3.csv",
         8613,
         1725903701000
        ],
        [
         "dbfs:/FileStore/tables/timestamp_millis.csv",
         "timestamp_millis.csv",
         7533,
         1725903084000
        ],
        [
         "dbfs:/FileStore/tables/titanic.csv",
         "titanic.csv",
         60302,
         1717853233000
        ],
        [
         "dbfs:/FileStore/tables/to_date.csv",
         "to_date.csv",
         1923,
         1726112031000
        ],
        [
         "dbfs:/FileStore/tables/to_json.csv",
         "to_json.csv",
         50792,
         1726583981000
        ],
        [
         "dbfs:/FileStore/tables/to_timestamp-1.csv",
         "to_timestamp-1.csv",
         5536,
         1726303458000
        ],
        [
         "dbfs:/FileStore/tables/to_timestamp-2.csv",
         "to_timestamp-2.csv",
         5425,
         1726303695000
        ],
        [
         "dbfs:/FileStore/tables/to_timestamp-3.csv",
         "to_timestamp-3.csv",
         5545,
         1726304079000
        ],
        [
         "dbfs:/FileStore/tables/to_timestamp.csv",
         "to_timestamp.csv",
         6451,
         1726300120000
        ]
       ],
       "datasetInfos": [],
       "dbfsResultPath": null,
       "isJsonSchema": true,
       "metadata": {
        "isDbfsCommandResult": false
       },
       "overflow": false,
       "plotOptions": {
        "customPlotOptions": {},
        "displayType": "table",
        "pivotAggregation": null,
        "pivotColumns": null,
        "xColumns": null,
        "yColumns": null
       },
       "removedWidgets": [],
       "schema": [
        {
         "metadata": "{}",
         "name": "path",
         "type": "\"string\""
        },
        {
         "metadata": "{}",
         "name": "name",
         "type": "\"string\""
        },
        {
         "metadata": "{}",
         "name": "size",
         "type": "\"long\""
        },
        {
         "metadata": "{}",
         "name": "modificationTime",
         "type": "\"long\""
        }
       ],
       "type": "table"
      }
     },
     "output_type": "display_data"
    }
   ],
   "source": [
    "%fs ls /FileStore/tables/"
   ]
  },
  {
   "cell_type": "markdown",
   "metadata": {
    "application/vnd.databricks.v1+cell": {
     "cellMetadata": {},
     "inputWidgets": {},
     "nuid": "ad483816-dd7c-45dc-9268-6a0b9d5a4604",
     "showTitle": false,
     "title": ""
    }
   },
   "source": [
    "#### **How to convert StructType column into StringType using to_json?**"
   ]
  },
  {
   "cell_type": "code",
   "execution_count": 0,
   "metadata": {
    "application/vnd.databricks.v1+cell": {
     "cellMetadata": {
      "byteLimit": 2048000,
      "rowLimit": 10000
     },
     "inputWidgets": {},
     "nuid": "22d6296a-2382-4438-9bfd-33d040de3aa2",
     "showTitle": false,
     "title": ""
    }
   },
   "outputs": [
    {
     "output_type": "display_data",
     "data": {
      "text/html": [
       "<style scoped>\n",
       "  .table-result-container {\n",
       "    max-height: 300px;\n",
       "    overflow: auto;\n",
       "  }\n",
       "  table, th, td {\n",
       "    border: 1px solid black;\n",
       "    border-collapse: collapse;\n",
       "  }\n",
       "  th, td {\n",
       "    padding: 5px;\n",
       "  }\n",
       "  th {\n",
       "    text-align: left;\n",
       "  }\n",
       "</style><div class='table-result-container'><table class='table-result'><thead style='background-color: white'><tr><th>Id</th><th>Nick_Name</th><th>First_Name</th><th>Last_Name</th><th>Age</th><th>Type</th><th>Description</th><th>Commodity_Index</th><th>Sensex_Category</th><th>Label_Type</th><th>Effective_Date</th><th>Start_Date</th><th>End_Date</th><th>Currency</th><th>Ticket</th><th>Name</th><th>Sex</th></tr></thead><tbody><tr><td>1</td><td>admin</td><td>John</td><td>Victor</td><td>30</td><td>Grade1</td><td>Baleno</td><td>DISCOUNT</td><td>Top</td><td>average</td><td>6-Feb-23</td><td>14-Jan-23</td><td>6-Feb-23</td><td>INR</td><td>A/5 21171</td><td>Braund, Mr. Owen Harris</td><td>male</td></tr><tr><td>2</td><td>everest</td><td>Paul</td><td>Irish</td><td>35</td><td>Grade2</td><td>Engine_Base</td><td>DISCOUNT</td><td>Top</td><td>average</td><td>6-Feb-23</td><td>14-Jan-23</td><td>6-Feb-23</td><td>INR</td><td>PC 17599</td><td>Cumings, Mrs. John Bradley (Florence Briggs Thayer)</td><td>female</td></tr><tr><td>3</td><td>moon</td><td>Erram</td><td>Rammohan</td><td>29</td><td>Enginner1</td><td>Baleno</td><td>DISCOUNT</td><td>Top</td><td>average</td><td>8-Jan-24</td><td>7-Oct-23</td><td>8-Jan-24</td><td>INR</td><td>STON/O2. 3101282</td><td>Heikkinen, Miss. Laina</td><td>female</td></tr><tr><td>4</td><td>service</td><td>Stalin</td><td>Rajesh</td><td>40</td><td>Minister</td><td>Engine_Base</td><td>DISCOUNT</td><td>Top</td><td>average</td><td>8-Jan-24</td><td>7-Oct-23</td><td>8-Jan-24</td><td>INR</td><td>113803</td><td>Futrelle, Mrs. Jacques Heath (Lily May Peel)</td><td>female</td></tr><tr><td>5</td><td>Builder</td><td>Golla</td><td>Rajasekar</td><td>43</td><td>Builder</td><td>Suzuki Swift</td><td>DISCOUNT</td><td>Top</td><td>average</td><td>6-Mar-23</td><td>7-Feb-23</td><td>6-Mar-23</td><td>INR</td><td>373450</td><td>Allen, Mr. William Henry</td><td>male</td></tr><tr><td>6</td><td>Drinker</td><td>Karjala</td><td>Hari</td><td>33</td><td>Army</td><td>Suzuki Swift</td><td>DISCOUNT</td><td>Top</td><td>average</td><td>6-Mar-23</td><td>7-Feb-23</td><td>6-Mar-23</td><td>INR</td><td>330877</td><td>Moran, Mr. James</td><td>male</td></tr><tr><td>7</td><td>Army</td><td>Koyi</td><td>Damodar</td><td>37</td><td>Bettalian</td><td>Wagon R</td><td>DISCOUNT</td><td>Top</td><td>average</td><td>6-Jan-25</td><td>9-Jan-24</td><td>6-Jan-25</td><td>INR</td><td>17463</td><td>McCarthy, Mr. Timothy J</td><td>male</td></tr><tr><td>8</td><td>Marketing</td><td>Vemparla</td><td>Harish</td><td>55</td><td>Manager</td><td>Engine_Base</td><td>DISCOUNT</td><td>Top</td><td>average</td><td>6-Jan-25</td><td>9-Jan-24</td><td>6-Jan-25</td><td>INR</td><td>349909</td><td>Palsson, Master. Gosta Leonard</td><td>male</td></tr><tr><td>9</td><td>Politician</td><td>Devineni</td><td>Umesh</td><td>58</td><td>Senior</td><td>Creta</td><td>DISCOUNT</td><td>Top</td><td>average</td><td>6-Apr-23</td><td>7-Mar-23</td><td>6-Apr-23</td><td>INR</td><td>347742</td><td>Johnson, Mrs. Oscar W (Elisabeth Vilhelmina Berg)</td><td>female</td></tr><tr><td>10</td><td>Minister</td><td>Ponguru</td><td>Narayana</td><td>56</td><td>Education</td><td>Brezza</td><td>DISCOUNT</td><td>Top</td><td>average</td><td>6-Apr-23</td><td>7-Mar-23</td><td>6-Apr-23</td><td>INR</td><td>237736</td><td>Nasser, Mrs. Nicholas (Adele Achem)</td><td>female</td></tr></tbody></table></div>"
      ]
     },
     "metadata": {
      "application/vnd.databricks.v1+output": {
       "addedWidgets": {},
       "aggData": [],
       "aggError": "",
       "aggOverflow": false,
       "aggSchema": [],
       "aggSeriesLimitReached": false,
       "aggType": "",
       "arguments": {},
       "columnCustomDisplayInfos": {},
       "data": [
        [
         1,
         "admin",
         "John",
         "Victor",
         30,
         "Grade1",
         "Baleno",
         "DISCOUNT",
         "Top",
         "average",
         "6-Feb-23",
         "14-Jan-23",
         "6-Feb-23",
         "INR",
         "A/5 21171",
         "Braund, Mr. Owen Harris",
         "male"
        ],
        [
         2,
         "everest",
         "Paul",
         "Irish",
         35,
         "Grade2",
         "Engine_Base",
         "DISCOUNT",
         "Top",
         "average",
         "6-Feb-23",
         "14-Jan-23",
         "6-Feb-23",
         "INR",
         "PC 17599",
         "Cumings, Mrs. John Bradley (Florence Briggs Thayer)",
         "female"
        ],
        [
         3,
         "moon",
         "Erram",
         "Rammohan",
         29,
         "Enginner1",
         "Baleno",
         "DISCOUNT",
         "Top",
         "average",
         "8-Jan-24",
         "7-Oct-23",
         "8-Jan-24",
         "INR",
         "STON/O2. 3101282",
         "Heikkinen, Miss. Laina",
         "female"
        ],
        [
         4,
         "service",
         "Stalin",
         "Rajesh",
         40,
         "Minister",
         "Engine_Base",
         "DISCOUNT",
         "Top",
         "average",
         "8-Jan-24",
         "7-Oct-23",
         "8-Jan-24",
         "INR",
         "113803",
         "Futrelle, Mrs. Jacques Heath (Lily May Peel)",
         "female"
        ],
        [
         5,
         "Builder",
         "Golla",
         "Rajasekar",
         43,
         "Builder",
         "Suzuki Swift",
         "DISCOUNT",
         "Top",
         "average",
         "6-Mar-23",
         "7-Feb-23",
         "6-Mar-23",
         "INR",
         "373450",
         "Allen, Mr. William Henry",
         "male"
        ],
        [
         6,
         "Drinker",
         "Karjala",
         "Hari",
         33,
         "Army",
         "Suzuki Swift",
         "DISCOUNT",
         "Top",
         "average",
         "6-Mar-23",
         "7-Feb-23",
         "6-Mar-23",
         "INR",
         "330877",
         "Moran, Mr. James",
         "male"
        ],
        [
         7,
         "Army",
         "Koyi",
         "Damodar",
         37,
         "Bettalian",
         "Wagon R",
         "DISCOUNT",
         "Top",
         "average",
         "6-Jan-25",
         "9-Jan-24",
         "6-Jan-25",
         "INR",
         "17463",
         "McCarthy, Mr. Timothy J",
         "male"
        ],
        [
         8,
         "Marketing",
         "Vemparla",
         "Harish",
         55,
         "Manager",
         "Engine_Base",
         "DISCOUNT",
         "Top",
         "average",
         "6-Jan-25",
         "9-Jan-24",
         "6-Jan-25",
         "INR",
         "349909",
         "Palsson, Master. Gosta Leonard",
         "male"
        ],
        [
         9,
         "Politician",
         "Devineni",
         "Umesh",
         58,
         "Senior",
         "Creta",
         "DISCOUNT",
         "Top",
         "average",
         "6-Apr-23",
         "7-Mar-23",
         "6-Apr-23",
         "INR",
         "347742",
         "Johnson, Mrs. Oscar W (Elisabeth Vilhelmina Berg)",
         "female"
        ],
        [
         10,
         "Minister",
         "Ponguru",
         "Narayana",
         56,
         "Education",
         "Brezza",
         "DISCOUNT",
         "Top",
         "average",
         "6-Apr-23",
         "7-Mar-23",
         "6-Apr-23",
         "INR",
         "237736",
         "Nasser, Mrs. Nicholas (Adele Achem)",
         "female"
        ]
       ],
       "datasetInfos": [],
       "dbfsResultPath": null,
       "isJsonSchema": true,
       "metadata": {},
       "overflow": false,
       "plotOptions": {
        "customPlotOptions": {},
        "displayType": "table",
        "pivotAggregation": null,
        "pivotColumns": null,
        "xColumns": null,
        "yColumns": null
       },
       "removedWidgets": [],
       "schema": [
        {
         "metadata": "{}",
         "name": "Id",
         "type": "\"integer\""
        },
        {
         "metadata": "{}",
         "name": "Nick_Name",
         "type": "\"string\""
        },
        {
         "metadata": "{}",
         "name": "First_Name",
         "type": "\"string\""
        },
        {
         "metadata": "{}",
         "name": "Last_Name",
         "type": "\"string\""
        },
        {
         "metadata": "{}",
         "name": "Age",
         "type": "\"integer\""
        },
        {
         "metadata": "{}",
         "name": "Type",
         "type": "\"string\""
        },
        {
         "metadata": "{}",
         "name": "Description",
         "type": "\"string\""
        },
        {
         "metadata": "{}",
         "name": "Commodity_Index",
         "type": "\"string\""
        },
        {
         "metadata": "{}",
         "name": "Sensex_Category",
         "type": "\"string\""
        },
        {
         "metadata": "{}",
         "name": "Label_Type",
         "type": "\"string\""
        },
        {
         "metadata": "{}",
         "name": "Effective_Date",
         "type": "\"string\""
        },
        {
         "metadata": "{}",
         "name": "Start_Date",
         "type": "\"string\""
        },
        {
         "metadata": "{}",
         "name": "End_Date",
         "type": "\"string\""
        },
        {
         "metadata": "{}",
         "name": "Currency",
         "type": "\"string\""
        },
        {
         "metadata": "{}",
         "name": "Ticket",
         "type": "\"string\""
        },
        {
         "metadata": "{}",
         "name": "Name",
         "type": "\"string\""
        },
        {
         "metadata": "{}",
         "name": "Sex",
         "type": "\"string\""
        }
       ],
       "type": "table"
      }
     },
     "output_type": "display_data"
    }
   ],
   "source": [
    "df = spark.read.csv(\"dbfs:/FileStore/tables/to_json.csv\", header=True, inferSchema=True)\n",
    "display(df.limit(10))"
   ]
  },
  {
   "cell_type": "code",
   "execution_count": 0,
   "metadata": {
    "application/vnd.databricks.v1+cell": {
     "cellMetadata": {
      "byteLimit": 2048000,
      "rowLimit": 10000
     },
     "inputWidgets": {},
     "nuid": "4767ae79-85af-42d2-b2f1-a336153e6296",
     "showTitle": false,
     "title": ""
    }
   },
   "outputs": [],
   "source": [
    "from pyspark.sql.functions import lit, col\n",
    "import pyspark.sql.functions as f"
   ]
  },
  {
   "cell_type": "code",
   "execution_count": 0,
   "metadata": {
    "application/vnd.databricks.v1+cell": {
     "cellMetadata": {
      "byteLimit": 2048000,
      "rowLimit": 10000
     },
     "inputWidgets": {},
     "nuid": "583968f1-2bdd-48b4-80a3-ff9349910277",
     "showTitle": false,
     "title": ""
    }
   },
   "outputs": [
    {
     "output_type": "display_data",
     "data": {
      "text/html": [
       "<style scoped>\n",
       "  .table-result-container {\n",
       "    max-height: 300px;\n",
       "    overflow: auto;\n",
       "  }\n",
       "  table, th, td {\n",
       "    border: 1px solid black;\n",
       "    border-collapse: collapse;\n",
       "  }\n",
       "  th, td {\n",
       "    padding: 5px;\n",
       "  }\n",
       "  th {\n",
       "    text-align: left;\n",
       "  }\n",
       "</style><div class='table-result-container'><table class='table-result'><thead style='background-color: white'><tr><th>pp_msg</th></tr></thead><tbody><tr><td>List(17, Batsman, Ricky, Pointing, 36, Cricketer, Engine_Base, FXGBP, Social, Social, 6-Jan-23, 4-Jan-23, 6-Jan-23, INR, 382652, Rice, Master. Eugene, male)</td></tr><tr><td>List(44, Minister, Ponguru, Narayana, 56, Education, Grand Vitara, TUTFER, Forward, fwd-mass, 31-May-24, 1-May-24, 31-May-24, INR, SC/Paris 2123, Laroche, Miss. Simonne Marie Anne Andree, female)</td></tr><tr><td>List(100, Boston, Ivan, Madrid, 34, Cricketer, Grand Vitara, Streamer, Backward, High Level, 28-Feb-23, 28-Feb-23, 28-Feb-23, INR, 244367, Kantor, Mr. Sinai, male)</td></tr><tr><td>List(1, admin, John, Victor, 30, Grade1, Baleno, DISCOUNT, Top, average, 6-Feb-23, 14-Jan-23, 6-Feb-23, INR, A/5 21171, Braund, Mr. Owen Harris, male)</td></tr><tr><td>List(76, Marketing, Vemparla, Harish, 55, Manager, Baleno, Streamer, Backward, High Level, 4-Feb-23, 4-Feb-23, 4-Feb-23, INR, 348123, Moen, Mr. Sigurd Hansen, male)</td></tr><tr><td>List(38, service, Stalin, Rajesh, 40, Minister, Grand Vitara, TUTFER, Forward, fwd-mass, 31-Jan-24, 1-Jan-24, 31-Jan-24, INR, A./5. 2152, Cann, Mr. Ernest Charles, male)</td></tr><tr><td>List(32, Boston, Ivan, Madrid, 34, Cricketer, Suzuki Swift, GASOLYN, FORD, medium, 7-Jan-23, 7-Jan-23, 7-Jan-23, INR, PC 17569, Spencer, Mrs. William Augustus (Marie Eugenie), female)</td></tr><tr><td>List(7, Army, Koyi, Damodar, 37, Bettalian, Wagon R, DISCOUNT, Top, average, 6-Jan-25, 9-Jan-24, 6-Jan-25, INR, 17463, McCarthy, Mr. Timothy J, male)</td></tr><tr><td>List(71, moon, Erram, Rammohan, 29, Enginner1, Suzuki Swift, Streamer, Backward, High Level, 30-Nov-24, 1-Nov-24, 30-Nov-24, INR, C.A. 33111, Jenkin, Mr. Stephen Curnow, male)</td></tr><tr><td>List(88, moon, Erram, Rammohan, 29, Enginner1, Suzuki Swift, Streamer, Backward, High Level, 16-Feb-23, 16-Feb-23, 16-Feb-23, INR, SOTON/OQ 392086, Slocovski, Mr. Selman Francis, male)</td></tr><tr><td>List(2, everest, Paul, Irish, 35, Grade2, Engine_Base, DISCOUNT, Top, average, 6-Feb-23, 14-Jan-23, 6-Feb-23, INR, PC 17599, Cumings, Mrs. John Bradley (Florence Briggs Thayer), female)</td></tr><tr><td>List(64, Lords, Jim, Jackson, 60, Paster, Grand Vitara, Streamer, Backward, High Level, 30-Apr-24, 1-Apr-24, 30-Apr-24, INR, 347088, Skoog, Master. Harald, male)</td></tr><tr><td>List(41, Army, Koyi, Damodar, 37, Bettalian, Suzuki Swift, TUTFER, Forward, fwd-mass, 30-Apr-24, 1-Apr-24, 30-Apr-24, INR, 7546, Ahlin, Mrs. Johan (Johanna Persdotter Larsson), female)</td></tr><tr><td>List(20, moon, Erram, Rammohan, 29, Enginner1, Grand Vitara, GASOLYN, FORD, medium, 29-Feb-24, 1-Feb-24, 29-Feb-24, INR, 2649, Masselmani, Mrs. Fatima, female)</td></tr><tr><td>List(24, Army, Koyi, Damodar, 37, Bettalian, Grand Vitara, GASOLYN, FORD, medium, 30-Jun-24, 1-Jun-24, 30-Jun-24, INR, 113788, Sloper, Mr. William Thompson, male)</td></tr><tr><td>List(63, ADE, Enuganti, Suesh, 31, Resource, BENZ GLE, Streamer, Backward, High Level, 31-Mar-24, 1-Mar-24, 31-Mar-24, INR, 36973, Harris, Mr. Henry Birkhardt, male)</td></tr><tr><td>List(53, everest, Paul, Irish, 35, Grade2, Creta, TUTFER, Forward, fwd-mass, 9-Jan-23, 9-Jan-23, 9-Jan-23, INR, PC 17572, Harper, Mrs. Henry Sleeper (Myna Haxtun), female)</td></tr><tr><td>List(59, Marketing, Vemparla, Harish, 55, Manager, BENZ GLE, THERMAL, Forward, fwd-mass, 31-May-23, 1-May-23, 31-May-23, INR, C.A. 34651, West, Miss. Constance Mirium, female)</td></tr><tr><td>List(87, everest, Paul, Irish, 35, Grade2, Suzuki Swift, Streamer, Backward, High Level, 15-Feb-23, 15-Feb-23, 15-Feb-23, INR, W./C. 6608, Ford, Mr. William Neal, male)</td></tr><tr><td>List(82, jain, Vikas, Jain, 62, Priest, Baleno, Streamer, Backward, High Level, 10-Feb-23, 10-Feb-23, 10-Feb-23, INR, 345779, Sheerlinck, Mr. Jan Baptist, male)</td></tr><tr><td>List(null, null, null, null, null, null, null, null, null, null, null, null, null, null, null, null, null)</td></tr><tr><td>List(48, jain, Vikas, Jain, 62, Priest, Suzuki Swift, TUTFER, Forward, fwd-mass, 31-Aug-24, 1-Aug-24, 31-Aug-24, INR, 14311, O'Driscoll, Miss. Bridget, female)</td></tr><tr><td>List(98, Lords, Jim, Jackson, 60, Paster, Grand Vitara, Streamer, Backward, High Level, 26-Feb-23, 26-Feb-23, 26-Feb-23, INR, PC 17759, Greenfield, Mr. William Bertram, male)</td></tr><tr><td>List(70, everest, Paul, Irish, 35, Grade2, Grand Vitara, Streamer, Backward, High Level, 31-Oct-24, 1-Oct-24, 31-Oct-24, INR, 315151, Kink, Mr. Vincenz, male)</td></tr><tr><td>List(89, service, Stalin, Rajesh, 40, Minister, Suzuki Swift, Streamer, Backward, High Level, 17-Feb-23, 17-Feb-23, 17-Feb-23, INR, 19950, Fortune, Miss. Mabel Helen, female)</td></tr><tr><td>List(30, Lords, Jim, Jackson, 60, Paster, Grand Vitara, GASOLYN, FORD, medium, 31-Dec-24, 1-Dec-24, 31-Dec-24, INR, 349216, Todoroff, Mr. Lalio, male)</td></tr><tr><td>List(86, admin, John, Victor, 30, Grade1, Suzuki Swift, Streamer, Backward, High Level, 14-Feb-23, 14-Feb-23, 14-Feb-23, INR, 3101278, Backstrom, Mrs. Karl Alfred (Maria Mathilda Gustafsson), female)</td></tr><tr><td>List(74, Drinker, Karjala, Hari, 33, Army, Baleno, Streamer, Backward, High Level, 2-Feb-23, 2-Feb-23, 2-Feb-23, INR, 2680, Chronopoulos, Mr. Apostolos, male)</td></tr><tr><td>List(5, Builder, Golla, Rajasekar, 43, Builder, Suzuki Swift, DISCOUNT, Top, average, 6-Mar-23, 7-Feb-23, 6-Mar-23, INR, 373450, Allen, Mr. William Henry, male)</td></tr><tr><td>List(33, Republic, Paul, Raj, 27, Tennis, Ertiga, GASOLYN, FORD, medium, 8-Jan-23, 8-Jan-23, 8-Jan-23, INR, 335677, Glynn, Miss. Mary Agatha, female)</td></tr><tr><td>List(21, service, Stalin, Rajesh, 40, Minister, Suzuki Swift, GASOLYN, FORD, medium, 31-Mar-24, 1-Mar-24, 31-Mar-24, INR, 239865, Fynney, Mr. Joseph J, male)</td></tr><tr><td>List(49, Boston, Ivan, Madrid, 34, Cricketer, Seltos, TUTFER, Forward, fwd-mass, 30-Sep-24, 1-Sep-24, 30-Sep-24, INR, 2662, Samaan, Mr. Youssef, male)</td></tr><tr><td>List(84, Republic, Paul, Raj, 27, Tennis, Suzuki Swift, Streamer, Backward, High Level, 12-Feb-23, 12-Feb-23, 12-Feb-23, INR, 113059, Carrau, Mr. Francisco M, male)</td></tr><tr><td>List(56, Builder, Golla, Rajasekar, 43, Builder, Grand Vitara, THERMAL, Forward, fwd-mass, 29-Feb-24, 1-Feb-24, 29-Feb-24, INR, 19947, Woolner, Mr. Hugh, male)</td></tr><tr><td>List(77, Politician, Devineni, Umesh, 58, Senior, Baleno, Streamer, Backward, High Level, 5-Feb-23, 5-Feb-23, 5-Feb-23, INR, 349208, Staneff, Mr. Ivan, male)</td></tr><tr><td>List(54, moon, Erram, Rammohan, 29, Enginner1, Grand Vitara, TUTFER, Forward, fwd-mass, 10-Jan-23, 10-Jan-23, 10-Jan-23, INR, 2926, Faunthorpe, Mrs. Lizzie (Elizabeth Anne Wilkinson), female)</td></tr><tr><td>List(3, moon, Erram, Rammohan, 29, Enginner1, Baleno, DISCOUNT, Top, average, 8-Jan-24, 7-Oct-23, 8-Jan-24, INR, STON/O2. 3101282, Heikkinen, Miss. Laina, female)</td></tr><tr><td>List(42, Marketing, Vemparla, Harish, 55, Manager, Engine_Base, TUTFER, Forward, fwd-mass, 30-Apr-24, 1-Apr-24, 30-Apr-24, INR, 11668, Turpin, Mrs. William John Robert (Dorothy Ann Wonnacott), female)</td></tr><tr><td>List(18, admin, John, Victor, 30, Grade1, Engine_Base, FXGBP, Social, Social, 6-Jan-23, 4-Jan-23, 6-Jan-23, INR, 244373, Williams, Mr. Charles Eugene, male)</td></tr><tr><td>List(61, Minister, Ponguru, Narayana, 56, Education, BENZ GLE, Streamer, Backward, High Level, 31-Jan-24, 1-Jan-24, 31-Jan-24, INR, 2669, Sirayanian, Mr. Orsen, male)</td></tr><tr><td>List(75, Army, Koyi, Damodar, 37, Bettalian, Baleno, Streamer, Backward, High Level, 3-Feb-23, 3-Feb-23, 3-Feb-23, INR, 1601, Bing, Mr. Lee, male)</td></tr><tr><td>List(83, Boston, Ivan, Madrid, 34, Cricketer, Engine_Base, Streamer, Backward, High Level, 11-Feb-23, 11-Feb-23, 11-Feb-23, INR, 330932, McDermott, Miss. Brigdet Delia, female)</td></tr><tr><td>List(29, ADE, Enuganti, Suesh, 31, Resource, Grand Vitara, GASOLYN, FORD, medium, 30-Nov-24, 1-Nov-24, 30-Nov-24, INR, 330959, \"O'Dwyer, Miss. Ellen \"\"Nellie\"\"\", female)</td></tr><tr><td>List(28, Design, Mohmad, Basha, 47, Enginner2, Grand Vitara, GASOLYN, FORD, medium, 31-Oct-24, 1-Oct-24, 31-Oct-24, INR, 19950, Fortune, Mr. Charles Alexander, male)</td></tr><tr><td>List(69, admin, John, Victor, 30, Grade1, Baleno, Streamer, Backward, High Level, 30-Sep-24, 1-Sep-24, 30-Sep-24, INR, 3101281, Andersson, Miss. Erna Alexandra, female)</td></tr><tr><td>List(57, Drinker, Karjala, Hari, 33, Army, Brezza, THERMAL, Forward, fwd-mass, 31-Mar-24, 1-Mar-24, 31-Mar-24, INR, C.A. 31026, Rugg, Miss. Emily, female)</td></tr><tr><td>List(90, Builder, Golla, Rajasekar, 43, Builder, Suzuki Swift, Streamer, Backward, High Level, 18-Feb-23, 18-Feb-23, 18-Feb-23, INR, 343275, Celotti, Mr. Francesco, male)</td></tr><tr><td>List(80, ADE, Enuganti, Suesh, 31, Resource, Baleno, Streamer, Backward, High Level, 8-Feb-23, 8-Feb-23, 8-Feb-23, INR, 364516, Dowdell, Miss. Elizabeth, female)</td></tr><tr><td>List(52, admin, John, Victor, 30, Grade1, Baleno, TUTFER, Forward, fwd-mass, 31-Dec-24, 1-Dec-24, 31-Dec-24, INR, A/4. 39886, Nosworthy, Mr. Richard Cater, male)</td></tr><tr><td>List(27, Minister, Ponguru, Narayana, 56, Education, Grand Vitara, GASOLYN, FORD, medium, 30-Sep-24, 1-Sep-24, 30-Sep-24, INR, 2631, Emir, Mr. Farred Chehab, male)</td></tr><tr><td>List(4, service, Stalin, Rajesh, 40, Minister, Engine_Base, DISCOUNT, Top, average, 8-Jan-24, 7-Oct-23, 8-Jan-24, INR, 113803, Futrelle, Mrs. Jacques Heath (Lily May Peel), female)</td></tr><tr><td>List(67, Republic, Paul, Raj, 27, Tennis, Grand Vitara, Streamer, Backward, High Level, 31-Jul-24, 1-Jul-24, 31-Jul-24, INR, C.A. 29395, Nye, Mrs. (Elizabeth Ramell), female)</td></tr><tr><td>List(34, Batsman, Ricky, Pointing, 36, Cricketer, Grand Vitara, GASOLYN, FORD, medium, 30-Apr-23, 1-Apr-23, 30-Apr-23, INR, C.A. 24579, Wheadon, Mr. Edward H, male)</td></tr><tr><td>List(23, Drinker, Karjala, Hari, 33, Army, Grand Vitara, GASOLYN, FORD, medium, 31-May-24, 1-May-24, 31-May-24, INR, 330923, \"McGowan, Miss. Anna \"\"Annie\"\"\", female)</td></tr><tr><td>List(73, Builder, Golla, Rajasekar, 43, Builder, Baleno, Streamer, Backward, High Level, 1-Feb-23, 1-Feb-23, 1-Feb-23, INR, S.O.C. 14879, Hood, Mr. Ambrose Jr, male)</td></tr><tr><td>List(8, Marketing, Vemparla, Harish, 55, Manager, Engine_Base, DISCOUNT, Top, average, 6-Jan-25, 9-Jan-24, 6-Jan-25, INR, 349909, Palsson, Master. Gosta Leonard, male)</td></tr><tr><td>List(40, Drinker, Karjala, Hari, 33, Army, Suzuki Swift, TUTFER, Forward, fwd-mass, 31-Mar-24, 1-Mar-24, 31-Mar-24, INR, 2651, Nicola-Yarred, Miss. Jamila, female)</td></tr><tr><td>List(26, Politician, Devineni, Umesh, 58, Senior, Seltos, GASOLYN, FORD, medium, 31-Aug-24, 1-Aug-24, 31-Aug-24, INR, 347077, Asplund, Mrs. Carl Oscar (Selma Augusta Emilia Johansson), female)</td></tr><tr><td>List(45, Design, Mohmad, Basha, 47, Enginner2, Suzuki Swift, TUTFER, Forward, fwd-mass, 30-Jun-24, 1-Jun-24, 30-Jun-24, INR, 330958, Devaney, Miss. Margaret Delia, female)</td></tr><tr><td>List(6, Drinker, Karjala, Hari, 33, Army, Suzuki Swift, DISCOUNT, Top, average, 6-Mar-23, 7-Feb-23, 6-Mar-23, INR, 330877, Moran, Mr. James, male)</td></tr><tr><td>List(43, Politician, Devineni, Umesh, 58, Senior, Engine_Base, TUTFER, Forward, fwd-mass, 31-May-24, 1-May-24, 31-May-24, INR, 349253, Kraeff, Mr. Theodor, male)</td></tr><tr><td>List(65, jain, Vikas, Jain, 62, Priest, Grand Vitara, Streamer, Backward, High Level, 31-May-24, 1-May-24, 31-May-24, INR, PC 17605, Stewart, Mr. Albert A, male)</td></tr><tr><td>List(79, Design, Mohmad, Basha, 47, Enginner2, Baleno, Streamer, Backward, High Level, 7-Feb-23, 7-Feb-23, 7-Feb-23, INR, 248738, Caldwell, Master. Alden Gates, male)</td></tr><tr><td>List(68, Batsman, Ricky, Pointing, 36, Cricketer, Baleno, Streamer, Backward, High Level, 31-Aug-24, 1-Aug-24, 31-Aug-24, INR, S.P. 3464, Crease, Mr. Ernest James, male)</td></tr><tr><td>List(13, Lords, Jim, Jackson, 60, Paster, Verna, DISCOUNT, Top, average, 6-Jul-23, 7-Apr-23, 6-Jul-23, INR, A/5. 2151, Saundercock, Mr. William Henry, male)</td></tr><tr><td>List(15, Boston, Ivan, Madrid, 34, Cricketer, Engine_Base, DISCOUNT, Top, average, 6-Oct-23, 7-Jul-23, 6-Oct-23, INR, 350406, Vestrom, Miss. Hulda Amanda Adolfina, female)</td></tr><tr><td>List(99, jain, Vikas, Jain, 62, Priest, Suzuki Swift, Streamer, Backward, High Level, 27-Feb-23, 27-Feb-23, 27-Feb-23, INR, 231919, Doling, Mrs. John T (Ada Julia Bone), female)</td></tr><tr><td>List(66, Boston, Ivan, Madrid, 34, Cricketer, Baleno, Streamer, Backward, High Level, 30-Jun-24, 1-Jun-24, 30-Jun-24, INR, 2661, Moubarek, Master. Gerios, male)</td></tr><tr><td>List(47, Lords, Jim, Jackson, 60, Paster, Grand Vitara, TUTFER, Forward, fwd-mass, 31-Jul-24, 1-Jul-24, 31-Jul-24, INR, 370371, Lennon, Mr. Denis, male)</td></tr><tr><td>List(22, Builder, Golla, Rajasekar, 43, Builder, Grand Vitara, GASOLYN, FORD, medium, 30-Apr-24, 1-Apr-24, 30-Apr-24, INR, 248698, Beesley, Mr. Lawrence, male)</td></tr><tr><td>List(58, Army, Koyi, Damodar, 37, Bettalian, Grand I20, THERMAL, Forward, fwd-mass, 30-Apr-23, 1-Apr-23, 30-Apr-23, INR, 2697, Novel, Mr. Mansouer, male)</td></tr><tr><td>List(19, everest, Paul, Irish, 35, Grade2, Grand Vitara, GASOLYN, FORD, medium, 31-Jan-24, 1-Jan-24, 31-Jan-24, INR, 345763, Vander Planke, Mrs. Julius (Emelia Maria Vandemoortele), female)</td></tr><tr><td>List(37, moon, Erram, Rammohan, 29, Enginner1, Grand Vitara, GASOLYN, FORD, medium, 30-Jun-23, 1-Jun-23, 30-Jun-23, INR, 2677, Mamee, Mr. Hanna, male)</td></tr><tr><td>List(12, ADE, Enuganti, Suesh, 31, Resource, Grand Vitara, DISCOUNT, Top, average, 6-Jan-26, 7-Jan-25, 6-Jan-26, INR, 113783, Bonnell, Miss. Elizabeth, female)</td></tr><tr><td>List(72, service, Stalin, Rajesh, 40, Minister, Baleno, Streamer, Backward, High Level, 31-Dec-24, 1-Dec-24, 31-Dec-24, INR, CA 2144, Goodwin, Miss. Lillian Amy, female)</td></tr><tr><td>List(91, Drinker, Karjala, Hari, 33, Army, Suzuki Swift, Streamer, Backward, High Level, 19-Feb-23, 19-Feb-23, 19-Feb-23, INR, 343276, Christmann, Mr. Emil, male)</td></tr><tr><td>List(96, Design, Mohmad, Basha, 47, Enginner2, Suzuki Swift, Streamer, Backward, High Level, 24-Feb-23, 24-Feb-23, 24-Feb-23, INR, 374910, Shorney, Mr. Charles Joseph, male)</td></tr><tr><td>List(46, ADE, Enuganti, Suesh, 31, Resource, Grand Vitara, TUTFER, Forward, fwd-mass, 30-Jun-24, 1-Jun-24, 30-Jun-24, INR, S.C./A.4. 23567, Rogers, Mr. William John, male)</td></tr><tr><td>List(11, Design, Mohmad, Basha, 47, Enginner2, Ertiga, DISCOUNT, Top, average, 6-Jan-26, 7-Jan-25, 6-Jan-26, INR, PP 9549, Sandstrom, Miss. Marguerite Rut, female)</td></tr><tr><td>List(93, Marketing, Vemparla, Harish, 55, Manager, Suzuki Swift, Streamer, Backward, High Level, 21-Feb-23, 21-Feb-23, 21-Feb-23, INR, W.E.P. 5734, Chaffee, Mr. Herbert Fuller, male)</td></tr><tr><td>List(36, everest, Paul, Irish, 35, Grade2, Engine_Base, GASOLYN, FORD, medium, 31-May-23, 1-May-23, 31-May-23, INR, 113789, Holverson, Mr. Alexander Oskar, male)</td></tr><tr><td>List(51, Batsman, Ricky, Pointing, 36, Cricketer, Grand Vitara, TUTFER, Forward, fwd-mass, 30-Nov-24, 1-Nov-24, 30-Nov-24, INR, 3101295, Panula, Master. Juha Niilo, male)</td></tr><tr><td>List(60, Politician, Devineni, Umesh, 58, Senior, Grand I20, THERMAL, Forward, fwd-mass, 30-Jun-23, 1-Jun-23, 30-Jun-23, INR, CA 2144, Goodwin, Master. William Frederick, male)</td></tr><tr><td>List(95, Minister, Ponguru, Narayana, 56, Education, Suzuki Swift, Streamer, Backward, High Level, 23-Feb-23, 23-Feb-23, 23-Feb-23, INR, 364500, Coxon, Mr. Daniel, male)</td></tr><tr><td>List(50, Republic, Paul, Raj, 27, Tennis, EXAUST_SYSTEM, TUTFER, Forward, fwd-mass, 31-Oct-24, 1-Oct-24, 31-Oct-24, INR, 349237, Arnold-Franchi, Mrs. Josef (Josefine Franchi), female)</td></tr><tr><td>List(55, service, Stalin, Rajesh, 40, Minister, Grand Vitara, THERMAL, Forward, fwd-mass, 31-Jan-24, 1-Jan-24, 31-Jan-24, INR, 113509, Ostby, Mr. Engelhart Cornelius, male)</td></tr><tr><td>List(92, Army, Koyi, Damodar, 37, Bettalian, Suzuki Swift, Streamer, Backward, High Level, 20-Feb-23, 20-Feb-23, 20-Feb-23, INR, 347466, Andreasson, Mr. Paul Edvin, male)</td></tr><tr><td>List(39, Builder, Golla, Rajasekar, 43, Builder, Engine_Base, TUTFER, Forward, fwd-mass, 29-Feb-24, 1-Feb-24, 29-Feb-24, INR, 345764, Vander Planke, Miss. Augusta Maria, female)</td></tr><tr><td>List(97, ADE, Enuganti, Suesh, 31, Resource, Suzuki Swift, Streamer, Backward, High Level, 25-Feb-23, 25-Feb-23, 25-Feb-23, INR, PC 17754, Goldschmidt, Mr. George B, male)</td></tr><tr><td>List(31, jain, Vikas, Jain, 62, Priest, Grand Vitara, GASOLYN, FORD, medium, 6-Jan-23, 6-Jan-23, 6-Jan-23, INR, PC 17601, Uruchurtu, Don. Manuel E, male)</td></tr><tr><td>List(94, Politician, Devineni, Umesh, 58, Senior, Suzuki Swift, Streamer, Backward, High Level, 22-Feb-23, 22-Feb-23, 22-Feb-23, INR, C.A. 2315, Dean, Mr. Bertram Frank, male)</td></tr><tr><td>List(78, Minister, Ponguru, Narayana, 56, Education, Baleno, Streamer, Backward, High Level, 6-Feb-23, 6-Feb-23, 6-Feb-23, INR, 374746, Moutal, Mr. Rahamin Haim, male)</td></tr><tr><td>List(9, Politician, Devineni, Umesh, 58, Senior, Creta, DISCOUNT, Top, average, 6-Apr-23, 7-Mar-23, 6-Apr-23, INR, 347742, Johnson, Mrs. Oscar W (Elisabeth Vilhelmina Berg), female)</td></tr><tr><td>List(25, Marketing, Vemparla, Harish, 55, Manager, Grand Vitara, GASOLYN, FORD, medium, 31-Jul-24, 1-Jul-24, 31-Jul-24, INR, 349909, Palsson, Miss. Torborg Danira, female)</td></tr><tr><td>List(14, jain, Vikas, Jain, 62, Priest, Grand Vitara, DISCOUNT, Top, average, 6-Jul-23, 7-Apr-23, 6-Jul-23, INR, 347082, Andersson, Mr. Anders Johan, male)</td></tr><tr><td>List(16, Republic, Paul, Raj, 27, Tennis, Engine_Base, DISCOUNT, Top, average, 6-Oct-23, 7-Jul-23, 6-Oct-23, INR, 248706, Hewlett, Mrs. (Mary D Kingcome) , female)</td></tr><tr><td>List(10, Minister, Ponguru, Narayana, 56, Education, Brezza, DISCOUNT, Top, average, 6-Apr-23, 7-Mar-23, 6-Apr-23, INR, 237736, Nasser, Mrs. Nicholas (Adele Achem), female)</td></tr><tr><td>List(62, Design, Mohmad, Basha, 47, Enginner2, Celerio, Streamer, Backward, High Level, 29-Feb-24, 1-Feb-24, 29-Feb-24, INR, 113572, Icard, Miss. Amelie, female)</td></tr><tr><td>List(35, admin, John, Victor, 30, Grade1, Grand Vitara, GASOLYN, FORD, medium, 9-Jan-23, 9-Jan-23, 9-Jan-23, INR, PC 17604, Meyer, Mr. Edgar Joseph, male)</td></tr><tr><td>List(81, Lords, Jim, Jackson, 60, Paster, Baleno, Streamer, Backward, High Level, 9-Feb-23, 9-Feb-23, 9-Feb-23, INR, 345767, Waelens, Mr. Achille, male)</td></tr><tr><td>List(85, Batsman, Ricky, Pointing, 36, Cricketer, Suzuki Swift, Streamer, Backward, High Level, 13-Feb-23, 13-Feb-23, 13-Feb-23, INR, SO/C 14885, Ilett, Miss. Bertha, female)</td></tr></tbody></table></div>"
      ]
     },
     "metadata": {
      "application/vnd.databricks.v1+output": {
       "addedWidgets": {},
       "aggData": [],
       "aggError": "",
       "aggOverflow": false,
       "aggSchema": [],
       "aggSeriesLimitReached": false,
       "aggType": "",
       "arguments": {},
       "columnCustomDisplayInfos": {},
       "data": [
        [
         [
          17,
          "Batsman",
          "Ricky",
          "Pointing",
          36,
          "Cricketer",
          "Engine_Base",
          "FXGBP",
          "Social",
          "Social",
          "6-Jan-23",
          "4-Jan-23",
          "6-Jan-23",
          "INR",
          "382652",
          "Rice, Master. Eugene",
          "male"
         ]
        ],
        [
         [
          44,
          "Minister",
          "Ponguru",
          "Narayana",
          56,
          "Education",
          "Grand Vitara",
          "TUTFER",
          "Forward",
          "fwd-mass",
          "31-May-24",
          "1-May-24",
          "31-May-24",
          "INR",
          "SC/Paris 2123",
          "Laroche, Miss. Simonne Marie Anne Andree",
          "female"
         ]
        ],
        [
         [
          100,
          "Boston",
          "Ivan",
          "Madrid",
          34,
          "Cricketer",
          "Grand Vitara",
          "Streamer",
          "Backward",
          "High Level",
          "28-Feb-23",
          "28-Feb-23",
          "28-Feb-23",
          "INR",
          "244367",
          "Kantor, Mr. Sinai",
          "male"
         ]
        ],
        [
         [
          1,
          "admin",
          "John",
          "Victor",
          30,
          "Grade1",
          "Baleno",
          "DISCOUNT",
          "Top",
          "average",
          "6-Feb-23",
          "14-Jan-23",
          "6-Feb-23",
          "INR",
          "A/5 21171",
          "Braund, Mr. Owen Harris",
          "male"
         ]
        ],
        [
         [
          76,
          "Marketing",
          "Vemparla",
          "Harish",
          55,
          "Manager",
          "Baleno",
          "Streamer",
          "Backward",
          "High Level",
          "4-Feb-23",
          "4-Feb-23",
          "4-Feb-23",
          "INR",
          "348123",
          "Moen, Mr. Sigurd Hansen",
          "male"
         ]
        ],
        [
         [
          38,
          "service",
          "Stalin",
          "Rajesh",
          40,
          "Minister",
          "Grand Vitara",
          "TUTFER",
          "Forward",
          "fwd-mass",
          "31-Jan-24",
          "1-Jan-24",
          "31-Jan-24",
          "INR",
          "A./5. 2152",
          "Cann, Mr. Ernest Charles",
          "male"
         ]
        ],
        [
         [
          32,
          "Boston",
          "Ivan",
          "Madrid",
          34,
          "Cricketer",
          "Suzuki Swift",
          "GASOLYN",
          "FORD",
          "medium",
          "7-Jan-23",
          "7-Jan-23",
          "7-Jan-23",
          "INR",
          "PC 17569",
          "Spencer, Mrs. William Augustus (Marie Eugenie)",
          "female"
         ]
        ],
        [
         [
          7,
          "Army",
          "Koyi",
          "Damodar",
          37,
          "Bettalian",
          "Wagon R",
          "DISCOUNT",
          "Top",
          "average",
          "6-Jan-25",
          "9-Jan-24",
          "6-Jan-25",
          "INR",
          "17463",
          "McCarthy, Mr. Timothy J",
          "male"
         ]
        ],
        [
         [
          71,
          "moon",
          "Erram",
          "Rammohan",
          29,
          "Enginner1",
          "Suzuki Swift",
          "Streamer",
          "Backward",
          "High Level",
          "30-Nov-24",
          "1-Nov-24",
          "30-Nov-24",
          "INR",
          "C.A. 33111",
          "Jenkin, Mr. Stephen Curnow",
          "male"
         ]
        ],
        [
         [
          88,
          "moon",
          "Erram",
          "Rammohan",
          29,
          "Enginner1",
          "Suzuki Swift",
          "Streamer",
          "Backward",
          "High Level",
          "16-Feb-23",
          "16-Feb-23",
          "16-Feb-23",
          "INR",
          "SOTON/OQ 392086",
          "Slocovski, Mr. Selman Francis",
          "male"
         ]
        ],
        [
         [
          2,
          "everest",
          "Paul",
          "Irish",
          35,
          "Grade2",
          "Engine_Base",
          "DISCOUNT",
          "Top",
          "average",
          "6-Feb-23",
          "14-Jan-23",
          "6-Feb-23",
          "INR",
          "PC 17599",
          "Cumings, Mrs. John Bradley (Florence Briggs Thayer)",
          "female"
         ]
        ],
        [
         [
          64,
          "Lords",
          "Jim",
          "Jackson",
          60,
          "Paster",
          "Grand Vitara",
          "Streamer",
          "Backward",
          "High Level",
          "30-Apr-24",
          "1-Apr-24",
          "30-Apr-24",
          "INR",
          "347088",
          "Skoog, Master. Harald",
          "male"
         ]
        ],
        [
         [
          41,
          "Army",
          "Koyi",
          "Damodar",
          37,
          "Bettalian",
          "Suzuki Swift",
          "TUTFER",
          "Forward",
          "fwd-mass",
          "30-Apr-24",
          "1-Apr-24",
          "30-Apr-24",
          "INR",
          "7546",
          "Ahlin, Mrs. Johan (Johanna Persdotter Larsson)",
          "female"
         ]
        ],
        [
         [
          20,
          "moon",
          "Erram",
          "Rammohan",
          29,
          "Enginner1",
          "Grand Vitara",
          "GASOLYN",
          "FORD",
          "medium",
          "29-Feb-24",
          "1-Feb-24",
          "29-Feb-24",
          "INR",
          "2649",
          "Masselmani, Mrs. Fatima",
          "female"
         ]
        ],
        [
         [
          24,
          "Army",
          "Koyi",
          "Damodar",
          37,
          "Bettalian",
          "Grand Vitara",
          "GASOLYN",
          "FORD",
          "medium",
          "30-Jun-24",
          "1-Jun-24",
          "30-Jun-24",
          "INR",
          "113788",
          "Sloper, Mr. William Thompson",
          "male"
         ]
        ],
        [
         [
          63,
          "ADE",
          "Enuganti",
          "Suesh",
          31,
          "Resource",
          "BENZ GLE",
          "Streamer",
          "Backward",
          "High Level",
          "31-Mar-24",
          "1-Mar-24",
          "31-Mar-24",
          "INR",
          "36973",
          "Harris, Mr. Henry Birkhardt",
          "male"
         ]
        ],
        [
         [
          53,
          "everest",
          "Paul",
          "Irish",
          35,
          "Grade2",
          "Creta",
          "TUTFER",
          "Forward",
          "fwd-mass",
          "9-Jan-23",
          "9-Jan-23",
          "9-Jan-23",
          "INR",
          "PC 17572",
          "Harper, Mrs. Henry Sleeper (Myna Haxtun)",
          "female"
         ]
        ],
        [
         [
          59,
          "Marketing",
          "Vemparla",
          "Harish",
          55,
          "Manager",
          "BENZ GLE",
          "THERMAL",
          "Forward",
          "fwd-mass",
          "31-May-23",
          "1-May-23",
          "31-May-23",
          "INR",
          "C.A. 34651",
          "West, Miss. Constance Mirium",
          "female"
         ]
        ],
        [
         [
          87,
          "everest",
          "Paul",
          "Irish",
          35,
          "Grade2",
          "Suzuki Swift",
          "Streamer",
          "Backward",
          "High Level",
          "15-Feb-23",
          "15-Feb-23",
          "15-Feb-23",
          "INR",
          "W./C. 6608",
          "Ford, Mr. William Neal",
          "male"
         ]
        ],
        [
         [
          82,
          "jain",
          "Vikas",
          "Jain",
          62,
          "Priest",
          "Baleno",
          "Streamer",
          "Backward",
          "High Level",
          "10-Feb-23",
          "10-Feb-23",
          "10-Feb-23",
          "INR",
          "345779",
          "Sheerlinck, Mr. Jan Baptist",
          "male"
         ]
        ],
        [
         [
          null,
          null,
          null,
          null,
          null,
          null,
          null,
          null,
          null,
          null,
          null,
          null,
          null,
          null,
          null,
          null,
          null
         ]
        ],
        [
         [
          48,
          "jain",
          "Vikas",
          "Jain",
          62,
          "Priest",
          "Suzuki Swift",
          "TUTFER",
          "Forward",
          "fwd-mass",
          "31-Aug-24",
          "1-Aug-24",
          "31-Aug-24",
          "INR",
          "14311",
          "O'Driscoll, Miss. Bridget",
          "female"
         ]
        ],
        [
         [
          98,
          "Lords",
          "Jim",
          "Jackson",
          60,
          "Paster",
          "Grand Vitara",
          "Streamer",
          "Backward",
          "High Level",
          "26-Feb-23",
          "26-Feb-23",
          "26-Feb-23",
          "INR",
          "PC 17759",
          "Greenfield, Mr. William Bertram",
          "male"
         ]
        ],
        [
         [
          70,
          "everest",
          "Paul",
          "Irish",
          35,
          "Grade2",
          "Grand Vitara",
          "Streamer",
          "Backward",
          "High Level",
          "31-Oct-24",
          "1-Oct-24",
          "31-Oct-24",
          "INR",
          "315151",
          "Kink, Mr. Vincenz",
          "male"
         ]
        ],
        [
         [
          89,
          "service",
          "Stalin",
          "Rajesh",
          40,
          "Minister",
          "Suzuki Swift",
          "Streamer",
          "Backward",
          "High Level",
          "17-Feb-23",
          "17-Feb-23",
          "17-Feb-23",
          "INR",
          "19950",
          "Fortune, Miss. Mabel Helen",
          "female"
         ]
        ],
        [
         [
          30,
          "Lords",
          "Jim",
          "Jackson",
          60,
          "Paster",
          "Grand Vitara",
          "GASOLYN",
          "FORD",
          "medium",
          "31-Dec-24",
          "1-Dec-24",
          "31-Dec-24",
          "INR",
          "349216",
          "Todoroff, Mr. Lalio",
          "male"
         ]
        ],
        [
         [
          86,
          "admin",
          "John",
          "Victor",
          30,
          "Grade1",
          "Suzuki Swift",
          "Streamer",
          "Backward",
          "High Level",
          "14-Feb-23",
          "14-Feb-23",
          "14-Feb-23",
          "INR",
          "3101278",
          "Backstrom, Mrs. Karl Alfred (Maria Mathilda Gustafsson)",
          "female"
         ]
        ],
        [
         [
          74,
          "Drinker",
          "Karjala",
          "Hari",
          33,
          "Army",
          "Baleno",
          "Streamer",
          "Backward",
          "High Level",
          "2-Feb-23",
          "2-Feb-23",
          "2-Feb-23",
          "INR",
          "2680",
          "Chronopoulos, Mr. Apostolos",
          "male"
         ]
        ],
        [
         [
          5,
          "Builder",
          "Golla",
          "Rajasekar",
          43,
          "Builder",
          "Suzuki Swift",
          "DISCOUNT",
          "Top",
          "average",
          "6-Mar-23",
          "7-Feb-23",
          "6-Mar-23",
          "INR",
          "373450",
          "Allen, Mr. William Henry",
          "male"
         ]
        ],
        [
         [
          33,
          "Republic",
          "Paul",
          "Raj",
          27,
          "Tennis",
          "Ertiga",
          "GASOLYN",
          "FORD",
          "medium",
          "8-Jan-23",
          "8-Jan-23",
          "8-Jan-23",
          "INR",
          "335677",
          "Glynn, Miss. Mary Agatha",
          "female"
         ]
        ],
        [
         [
          21,
          "service",
          "Stalin",
          "Rajesh",
          40,
          "Minister",
          "Suzuki Swift",
          "GASOLYN",
          "FORD",
          "medium",
          "31-Mar-24",
          "1-Mar-24",
          "31-Mar-24",
          "INR",
          "239865",
          "Fynney, Mr. Joseph J",
          "male"
         ]
        ],
        [
         [
          49,
          "Boston",
          "Ivan",
          "Madrid",
          34,
          "Cricketer",
          "Seltos",
          "TUTFER",
          "Forward",
          "fwd-mass",
          "30-Sep-24",
          "1-Sep-24",
          "30-Sep-24",
          "INR",
          "2662",
          "Samaan, Mr. Youssef",
          "male"
         ]
        ],
        [
         [
          84,
          "Republic",
          "Paul",
          "Raj",
          27,
          "Tennis",
          "Suzuki Swift",
          "Streamer",
          "Backward",
          "High Level",
          "12-Feb-23",
          "12-Feb-23",
          "12-Feb-23",
          "INR",
          "113059",
          "Carrau, Mr. Francisco M",
          "male"
         ]
        ],
        [
         [
          56,
          "Builder",
          "Golla",
          "Rajasekar",
          43,
          "Builder",
          "Grand Vitara",
          "THERMAL",
          "Forward",
          "fwd-mass",
          "29-Feb-24",
          "1-Feb-24",
          "29-Feb-24",
          "INR",
          "19947",
          "Woolner, Mr. Hugh",
          "male"
         ]
        ],
        [
         [
          77,
          "Politician",
          "Devineni",
          "Umesh",
          58,
          "Senior",
          "Baleno",
          "Streamer",
          "Backward",
          "High Level",
          "5-Feb-23",
          "5-Feb-23",
          "5-Feb-23",
          "INR",
          "349208",
          "Staneff, Mr. Ivan",
          "male"
         ]
        ],
        [
         [
          54,
          "moon",
          "Erram",
          "Rammohan",
          29,
          "Enginner1",
          "Grand Vitara",
          "TUTFER",
          "Forward",
          "fwd-mass",
          "10-Jan-23",
          "10-Jan-23",
          "10-Jan-23",
          "INR",
          "2926",
          "Faunthorpe, Mrs. Lizzie (Elizabeth Anne Wilkinson)",
          "female"
         ]
        ],
        [
         [
          3,
          "moon",
          "Erram",
          "Rammohan",
          29,
          "Enginner1",
          "Baleno",
          "DISCOUNT",
          "Top",
          "average",
          "8-Jan-24",
          "7-Oct-23",
          "8-Jan-24",
          "INR",
          "STON/O2. 3101282",
          "Heikkinen, Miss. Laina",
          "female"
         ]
        ],
        [
         [
          42,
          "Marketing",
          "Vemparla",
          "Harish",
          55,
          "Manager",
          "Engine_Base",
          "TUTFER",
          "Forward",
          "fwd-mass",
          "30-Apr-24",
          "1-Apr-24",
          "30-Apr-24",
          "INR",
          "11668",
          "Turpin, Mrs. William John Robert (Dorothy Ann Wonnacott)",
          "female"
         ]
        ],
        [
         [
          18,
          "admin",
          "John",
          "Victor",
          30,
          "Grade1",
          "Engine_Base",
          "FXGBP",
          "Social",
          "Social",
          "6-Jan-23",
          "4-Jan-23",
          "6-Jan-23",
          "INR",
          "244373",
          "Williams, Mr. Charles Eugene",
          "male"
         ]
        ],
        [
         [
          61,
          "Minister",
          "Ponguru",
          "Narayana",
          56,
          "Education",
          "BENZ GLE",
          "Streamer",
          "Backward",
          "High Level",
          "31-Jan-24",
          "1-Jan-24",
          "31-Jan-24",
          "INR",
          "2669",
          "Sirayanian, Mr. Orsen",
          "male"
         ]
        ],
        [
         [
          75,
          "Army",
          "Koyi",
          "Damodar",
          37,
          "Bettalian",
          "Baleno",
          "Streamer",
          "Backward",
          "High Level",
          "3-Feb-23",
          "3-Feb-23",
          "3-Feb-23",
          "INR",
          "1601",
          "Bing, Mr. Lee",
          "male"
         ]
        ],
        [
         [
          83,
          "Boston",
          "Ivan",
          "Madrid",
          34,
          "Cricketer",
          "Engine_Base",
          "Streamer",
          "Backward",
          "High Level",
          "11-Feb-23",
          "11-Feb-23",
          "11-Feb-23",
          "INR",
          "330932",
          "McDermott, Miss. Brigdet Delia",
          "female"
         ]
        ],
        [
         [
          29,
          "ADE",
          "Enuganti",
          "Suesh",
          31,
          "Resource",
          "Grand Vitara",
          "GASOLYN",
          "FORD",
          "medium",
          "30-Nov-24",
          "1-Nov-24",
          "30-Nov-24",
          "INR",
          "330959",
          "\"O'Dwyer, Miss. Ellen \"\"Nellie\"\"\"",
          "female"
         ]
        ],
        [
         [
          28,
          "Design",
          "Mohmad",
          "Basha",
          47,
          "Enginner2",
          "Grand Vitara",
          "GASOLYN",
          "FORD",
          "medium",
          "31-Oct-24",
          "1-Oct-24",
          "31-Oct-24",
          "INR",
          "19950",
          "Fortune, Mr. Charles Alexander",
          "male"
         ]
        ],
        [
         [
          69,
          "admin",
          "John",
          "Victor",
          30,
          "Grade1",
          "Baleno",
          "Streamer",
          "Backward",
          "High Level",
          "30-Sep-24",
          "1-Sep-24",
          "30-Sep-24",
          "INR",
          "3101281",
          "Andersson, Miss. Erna Alexandra",
          "female"
         ]
        ],
        [
         [
          57,
          "Drinker",
          "Karjala",
          "Hari",
          33,
          "Army",
          "Brezza",
          "THERMAL",
          "Forward",
          "fwd-mass",
          "31-Mar-24",
          "1-Mar-24",
          "31-Mar-24",
          "INR",
          "C.A. 31026",
          "Rugg, Miss. Emily",
          "female"
         ]
        ],
        [
         [
          90,
          "Builder",
          "Golla",
          "Rajasekar",
          43,
          "Builder",
          "Suzuki Swift",
          "Streamer",
          "Backward",
          "High Level",
          "18-Feb-23",
          "18-Feb-23",
          "18-Feb-23",
          "INR",
          "343275",
          "Celotti, Mr. Francesco",
          "male"
         ]
        ],
        [
         [
          80,
          "ADE",
          "Enuganti",
          "Suesh",
          31,
          "Resource",
          "Baleno",
          "Streamer",
          "Backward",
          "High Level",
          "8-Feb-23",
          "8-Feb-23",
          "8-Feb-23",
          "INR",
          "364516",
          "Dowdell, Miss. Elizabeth",
          "female"
         ]
        ],
        [
         [
          52,
          "admin",
          "John",
          "Victor",
          30,
          "Grade1",
          "Baleno",
          "TUTFER",
          "Forward",
          "fwd-mass",
          "31-Dec-24",
          "1-Dec-24",
          "31-Dec-24",
          "INR",
          "A/4. 39886",
          "Nosworthy, Mr. Richard Cater",
          "male"
         ]
        ],
        [
         [
          27,
          "Minister",
          "Ponguru",
          "Narayana",
          56,
          "Education",
          "Grand Vitara",
          "GASOLYN",
          "FORD",
          "medium",
          "30-Sep-24",
          "1-Sep-24",
          "30-Sep-24",
          "INR",
          "2631",
          "Emir, Mr. Farred Chehab",
          "male"
         ]
        ],
        [
         [
          4,
          "service",
          "Stalin",
          "Rajesh",
          40,
          "Minister",
          "Engine_Base",
          "DISCOUNT",
          "Top",
          "average",
          "8-Jan-24",
          "7-Oct-23",
          "8-Jan-24",
          "INR",
          "113803",
          "Futrelle, Mrs. Jacques Heath (Lily May Peel)",
          "female"
         ]
        ],
        [
         [
          67,
          "Republic",
          "Paul",
          "Raj",
          27,
          "Tennis",
          "Grand Vitara",
          "Streamer",
          "Backward",
          "High Level",
          "31-Jul-24",
          "1-Jul-24",
          "31-Jul-24",
          "INR",
          "C.A. 29395",
          "Nye, Mrs. (Elizabeth Ramell)",
          "female"
         ]
        ],
        [
         [
          34,
          "Batsman",
          "Ricky",
          "Pointing",
          36,
          "Cricketer",
          "Grand Vitara",
          "GASOLYN",
          "FORD",
          "medium",
          "30-Apr-23",
          "1-Apr-23",
          "30-Apr-23",
          "INR",
          "C.A. 24579",
          "Wheadon, Mr. Edward H",
          "male"
         ]
        ],
        [
         [
          23,
          "Drinker",
          "Karjala",
          "Hari",
          33,
          "Army",
          "Grand Vitara",
          "GASOLYN",
          "FORD",
          "medium",
          "31-May-24",
          "1-May-24",
          "31-May-24",
          "INR",
          "330923",
          "\"McGowan, Miss. Anna \"\"Annie\"\"\"",
          "female"
         ]
        ],
        [
         [
          73,
          "Builder",
          "Golla",
          "Rajasekar",
          43,
          "Builder",
          "Baleno",
          "Streamer",
          "Backward",
          "High Level",
          "1-Feb-23",
          "1-Feb-23",
          "1-Feb-23",
          "INR",
          "S.O.C. 14879",
          "Hood, Mr. Ambrose Jr",
          "male"
         ]
        ],
        [
         [
          8,
          "Marketing",
          "Vemparla",
          "Harish",
          55,
          "Manager",
          "Engine_Base",
          "DISCOUNT",
          "Top",
          "average",
          "6-Jan-25",
          "9-Jan-24",
          "6-Jan-25",
          "INR",
          "349909",
          "Palsson, Master. Gosta Leonard",
          "male"
         ]
        ],
        [
         [
          40,
          "Drinker",
          "Karjala",
          "Hari",
          33,
          "Army",
          "Suzuki Swift",
          "TUTFER",
          "Forward",
          "fwd-mass",
          "31-Mar-24",
          "1-Mar-24",
          "31-Mar-24",
          "INR",
          "2651",
          "Nicola-Yarred, Miss. Jamila",
          "female"
         ]
        ],
        [
         [
          26,
          "Politician",
          "Devineni",
          "Umesh",
          58,
          "Senior",
          "Seltos",
          "GASOLYN",
          "FORD",
          "medium",
          "31-Aug-24",
          "1-Aug-24",
          "31-Aug-24",
          "INR",
          "347077",
          "Asplund, Mrs. Carl Oscar (Selma Augusta Emilia Johansson)",
          "female"
         ]
        ],
        [
         [
          45,
          "Design",
          "Mohmad",
          "Basha",
          47,
          "Enginner2",
          "Suzuki Swift",
          "TUTFER",
          "Forward",
          "fwd-mass",
          "30-Jun-24",
          "1-Jun-24",
          "30-Jun-24",
          "INR",
          "330958",
          "Devaney, Miss. Margaret Delia",
          "female"
         ]
        ],
        [
         [
          6,
          "Drinker",
          "Karjala",
          "Hari",
          33,
          "Army",
          "Suzuki Swift",
          "DISCOUNT",
          "Top",
          "average",
          "6-Mar-23",
          "7-Feb-23",
          "6-Mar-23",
          "INR",
          "330877",
          "Moran, Mr. James",
          "male"
         ]
        ],
        [
         [
          43,
          "Politician",
          "Devineni",
          "Umesh",
          58,
          "Senior",
          "Engine_Base",
          "TUTFER",
          "Forward",
          "fwd-mass",
          "31-May-24",
          "1-May-24",
          "31-May-24",
          "INR",
          "349253",
          "Kraeff, Mr. Theodor",
          "male"
         ]
        ],
        [
         [
          65,
          "jain",
          "Vikas",
          "Jain",
          62,
          "Priest",
          "Grand Vitara",
          "Streamer",
          "Backward",
          "High Level",
          "31-May-24",
          "1-May-24",
          "31-May-24",
          "INR",
          "PC 17605",
          "Stewart, Mr. Albert A",
          "male"
         ]
        ],
        [
         [
          79,
          "Design",
          "Mohmad",
          "Basha",
          47,
          "Enginner2",
          "Baleno",
          "Streamer",
          "Backward",
          "High Level",
          "7-Feb-23",
          "7-Feb-23",
          "7-Feb-23",
          "INR",
          "248738",
          "Caldwell, Master. Alden Gates",
          "male"
         ]
        ],
        [
         [
          68,
          "Batsman",
          "Ricky",
          "Pointing",
          36,
          "Cricketer",
          "Baleno",
          "Streamer",
          "Backward",
          "High Level",
          "31-Aug-24",
          "1-Aug-24",
          "31-Aug-24",
          "INR",
          "S.P. 3464",
          "Crease, Mr. Ernest James",
          "male"
         ]
        ],
        [
         [
          13,
          "Lords",
          "Jim",
          "Jackson",
          60,
          "Paster",
          "Verna",
          "DISCOUNT",
          "Top",
          "average",
          "6-Jul-23",
          "7-Apr-23",
          "6-Jul-23",
          "INR",
          "A/5. 2151",
          "Saundercock, Mr. William Henry",
          "male"
         ]
        ],
        [
         [
          15,
          "Boston",
          "Ivan",
          "Madrid",
          34,
          "Cricketer",
          "Engine_Base",
          "DISCOUNT",
          "Top",
          "average",
          "6-Oct-23",
          "7-Jul-23",
          "6-Oct-23",
          "INR",
          "350406",
          "Vestrom, Miss. Hulda Amanda Adolfina",
          "female"
         ]
        ],
        [
         [
          99,
          "jain",
          "Vikas",
          "Jain",
          62,
          "Priest",
          "Suzuki Swift",
          "Streamer",
          "Backward",
          "High Level",
          "27-Feb-23",
          "27-Feb-23",
          "27-Feb-23",
          "INR",
          "231919",
          "Doling, Mrs. John T (Ada Julia Bone)",
          "female"
         ]
        ],
        [
         [
          66,
          "Boston",
          "Ivan",
          "Madrid",
          34,
          "Cricketer",
          "Baleno",
          "Streamer",
          "Backward",
          "High Level",
          "30-Jun-24",
          "1-Jun-24",
          "30-Jun-24",
          "INR",
          "2661",
          "Moubarek, Master. Gerios",
          "male"
         ]
        ],
        [
         [
          47,
          "Lords",
          "Jim",
          "Jackson",
          60,
          "Paster",
          "Grand Vitara",
          "TUTFER",
          "Forward",
          "fwd-mass",
          "31-Jul-24",
          "1-Jul-24",
          "31-Jul-24",
          "INR",
          "370371",
          "Lennon, Mr. Denis",
          "male"
         ]
        ],
        [
         [
          22,
          "Builder",
          "Golla",
          "Rajasekar",
          43,
          "Builder",
          "Grand Vitara",
          "GASOLYN",
          "FORD",
          "medium",
          "30-Apr-24",
          "1-Apr-24",
          "30-Apr-24",
          "INR",
          "248698",
          "Beesley, Mr. Lawrence",
          "male"
         ]
        ],
        [
         [
          58,
          "Army",
          "Koyi",
          "Damodar",
          37,
          "Bettalian",
          "Grand I20",
          "THERMAL",
          "Forward",
          "fwd-mass",
          "30-Apr-23",
          "1-Apr-23",
          "30-Apr-23",
          "INR",
          "2697",
          "Novel, Mr. Mansouer",
          "male"
         ]
        ],
        [
         [
          19,
          "everest",
          "Paul",
          "Irish",
          35,
          "Grade2",
          "Grand Vitara",
          "GASOLYN",
          "FORD",
          "medium",
          "31-Jan-24",
          "1-Jan-24",
          "31-Jan-24",
          "INR",
          "345763",
          "Vander Planke, Mrs. Julius (Emelia Maria Vandemoortele)",
          "female"
         ]
        ],
        [
         [
          37,
          "moon",
          "Erram",
          "Rammohan",
          29,
          "Enginner1",
          "Grand Vitara",
          "GASOLYN",
          "FORD",
          "medium",
          "30-Jun-23",
          "1-Jun-23",
          "30-Jun-23",
          "INR",
          "2677",
          "Mamee, Mr. Hanna",
          "male"
         ]
        ],
        [
         [
          12,
          "ADE",
          "Enuganti",
          "Suesh",
          31,
          "Resource",
          "Grand Vitara",
          "DISCOUNT",
          "Top",
          "average",
          "6-Jan-26",
          "7-Jan-25",
          "6-Jan-26",
          "INR",
          "113783",
          "Bonnell, Miss. Elizabeth",
          "female"
         ]
        ],
        [
         [
          72,
          "service",
          "Stalin",
          "Rajesh",
          40,
          "Minister",
          "Baleno",
          "Streamer",
          "Backward",
          "High Level",
          "31-Dec-24",
          "1-Dec-24",
          "31-Dec-24",
          "INR",
          "CA 2144",
          "Goodwin, Miss. Lillian Amy",
          "female"
         ]
        ],
        [
         [
          91,
          "Drinker",
          "Karjala",
          "Hari",
          33,
          "Army",
          "Suzuki Swift",
          "Streamer",
          "Backward",
          "High Level",
          "19-Feb-23",
          "19-Feb-23",
          "19-Feb-23",
          "INR",
          "343276",
          "Christmann, Mr. Emil",
          "male"
         ]
        ],
        [
         [
          96,
          "Design",
          "Mohmad",
          "Basha",
          47,
          "Enginner2",
          "Suzuki Swift",
          "Streamer",
          "Backward",
          "High Level",
          "24-Feb-23",
          "24-Feb-23",
          "24-Feb-23",
          "INR",
          "374910",
          "Shorney, Mr. Charles Joseph",
          "male"
         ]
        ],
        [
         [
          46,
          "ADE",
          "Enuganti",
          "Suesh",
          31,
          "Resource",
          "Grand Vitara",
          "TUTFER",
          "Forward",
          "fwd-mass",
          "30-Jun-24",
          "1-Jun-24",
          "30-Jun-24",
          "INR",
          "S.C./A.4. 23567",
          "Rogers, Mr. William John",
          "male"
         ]
        ],
        [
         [
          11,
          "Design",
          "Mohmad",
          "Basha",
          47,
          "Enginner2",
          "Ertiga",
          "DISCOUNT",
          "Top",
          "average",
          "6-Jan-26",
          "7-Jan-25",
          "6-Jan-26",
          "INR",
          "PP 9549",
          "Sandstrom, Miss. Marguerite Rut",
          "female"
         ]
        ],
        [
         [
          93,
          "Marketing",
          "Vemparla",
          "Harish",
          55,
          "Manager",
          "Suzuki Swift",
          "Streamer",
          "Backward",
          "High Level",
          "21-Feb-23",
          "21-Feb-23",
          "21-Feb-23",
          "INR",
          "W.E.P. 5734",
          "Chaffee, Mr. Herbert Fuller",
          "male"
         ]
        ],
        [
         [
          36,
          "everest",
          "Paul",
          "Irish",
          35,
          "Grade2",
          "Engine_Base",
          "GASOLYN",
          "FORD",
          "medium",
          "31-May-23",
          "1-May-23",
          "31-May-23",
          "INR",
          "113789",
          "Holverson, Mr. Alexander Oskar",
          "male"
         ]
        ],
        [
         [
          51,
          "Batsman",
          "Ricky",
          "Pointing",
          36,
          "Cricketer",
          "Grand Vitara",
          "TUTFER",
          "Forward",
          "fwd-mass",
          "30-Nov-24",
          "1-Nov-24",
          "30-Nov-24",
          "INR",
          "3101295",
          "Panula, Master. Juha Niilo",
          "male"
         ]
        ],
        [
         [
          60,
          "Politician",
          "Devineni",
          "Umesh",
          58,
          "Senior",
          "Grand I20",
          "THERMAL",
          "Forward",
          "fwd-mass",
          "30-Jun-23",
          "1-Jun-23",
          "30-Jun-23",
          "INR",
          "CA 2144",
          "Goodwin, Master. William Frederick",
          "male"
         ]
        ],
        [
         [
          95,
          "Minister",
          "Ponguru",
          "Narayana",
          56,
          "Education",
          "Suzuki Swift",
          "Streamer",
          "Backward",
          "High Level",
          "23-Feb-23",
          "23-Feb-23",
          "23-Feb-23",
          "INR",
          "364500",
          "Coxon, Mr. Daniel",
          "male"
         ]
        ],
        [
         [
          50,
          "Republic",
          "Paul",
          "Raj",
          27,
          "Tennis",
          "EXAUST_SYSTEM",
          "TUTFER",
          "Forward",
          "fwd-mass",
          "31-Oct-24",
          "1-Oct-24",
          "31-Oct-24",
          "INR",
          "349237",
          "Arnold-Franchi, Mrs. Josef (Josefine Franchi)",
          "female"
         ]
        ],
        [
         [
          55,
          "service",
          "Stalin",
          "Rajesh",
          40,
          "Minister",
          "Grand Vitara",
          "THERMAL",
          "Forward",
          "fwd-mass",
          "31-Jan-24",
          "1-Jan-24",
          "31-Jan-24",
          "INR",
          "113509",
          "Ostby, Mr. Engelhart Cornelius",
          "male"
         ]
        ],
        [
         [
          92,
          "Army",
          "Koyi",
          "Damodar",
          37,
          "Bettalian",
          "Suzuki Swift",
          "Streamer",
          "Backward",
          "High Level",
          "20-Feb-23",
          "20-Feb-23",
          "20-Feb-23",
          "INR",
          "347466",
          "Andreasson, Mr. Paul Edvin",
          "male"
         ]
        ],
        [
         [
          39,
          "Builder",
          "Golla",
          "Rajasekar",
          43,
          "Builder",
          "Engine_Base",
          "TUTFER",
          "Forward",
          "fwd-mass",
          "29-Feb-24",
          "1-Feb-24",
          "29-Feb-24",
          "INR",
          "345764",
          "Vander Planke, Miss. Augusta Maria",
          "female"
         ]
        ],
        [
         [
          97,
          "ADE",
          "Enuganti",
          "Suesh",
          31,
          "Resource",
          "Suzuki Swift",
          "Streamer",
          "Backward",
          "High Level",
          "25-Feb-23",
          "25-Feb-23",
          "25-Feb-23",
          "INR",
          "PC 17754",
          "Goldschmidt, Mr. George B",
          "male"
         ]
        ],
        [
         [
          31,
          "jain",
          "Vikas",
          "Jain",
          62,
          "Priest",
          "Grand Vitara",
          "GASOLYN",
          "FORD",
          "medium",
          "6-Jan-23",
          "6-Jan-23",
          "6-Jan-23",
          "INR",
          "PC 17601",
          "Uruchurtu, Don. Manuel E",
          "male"
         ]
        ],
        [
         [
          94,
          "Politician",
          "Devineni",
          "Umesh",
          58,
          "Senior",
          "Suzuki Swift",
          "Streamer",
          "Backward",
          "High Level",
          "22-Feb-23",
          "22-Feb-23",
          "22-Feb-23",
          "INR",
          "C.A. 2315",
          "Dean, Mr. Bertram Frank",
          "male"
         ]
        ],
        [
         [
          78,
          "Minister",
          "Ponguru",
          "Narayana",
          56,
          "Education",
          "Baleno",
          "Streamer",
          "Backward",
          "High Level",
          "6-Feb-23",
          "6-Feb-23",
          "6-Feb-23",
          "INR",
          "374746",
          "Moutal, Mr. Rahamin Haim",
          "male"
         ]
        ],
        [
         [
          9,
          "Politician",
          "Devineni",
          "Umesh",
          58,
          "Senior",
          "Creta",
          "DISCOUNT",
          "Top",
          "average",
          "6-Apr-23",
          "7-Mar-23",
          "6-Apr-23",
          "INR",
          "347742",
          "Johnson, Mrs. Oscar W (Elisabeth Vilhelmina Berg)",
          "female"
         ]
        ],
        [
         [
          25,
          "Marketing",
          "Vemparla",
          "Harish",
          55,
          "Manager",
          "Grand Vitara",
          "GASOLYN",
          "FORD",
          "medium",
          "31-Jul-24",
          "1-Jul-24",
          "31-Jul-24",
          "INR",
          "349909",
          "Palsson, Miss. Torborg Danira",
          "female"
         ]
        ],
        [
         [
          14,
          "jain",
          "Vikas",
          "Jain",
          62,
          "Priest",
          "Grand Vitara",
          "DISCOUNT",
          "Top",
          "average",
          "6-Jul-23",
          "7-Apr-23",
          "6-Jul-23",
          "INR",
          "347082",
          "Andersson, Mr. Anders Johan",
          "male"
         ]
        ],
        [
         [
          16,
          "Republic",
          "Paul",
          "Raj",
          27,
          "Tennis",
          "Engine_Base",
          "DISCOUNT",
          "Top",
          "average",
          "6-Oct-23",
          "7-Jul-23",
          "6-Oct-23",
          "INR",
          "248706",
          "Hewlett, Mrs. (Mary D Kingcome) ",
          "female"
         ]
        ],
        [
         [
          10,
          "Minister",
          "Ponguru",
          "Narayana",
          56,
          "Education",
          "Brezza",
          "DISCOUNT",
          "Top",
          "average",
          "6-Apr-23",
          "7-Mar-23",
          "6-Apr-23",
          "INR",
          "237736",
          "Nasser, Mrs. Nicholas (Adele Achem)",
          "female"
         ]
        ],
        [
         [
          62,
          "Design",
          "Mohmad",
          "Basha",
          47,
          "Enginner2",
          "Celerio",
          "Streamer",
          "Backward",
          "High Level",
          "29-Feb-24",
          "1-Feb-24",
          "29-Feb-24",
          "INR",
          "113572",
          "Icard, Miss. Amelie",
          "female"
         ]
        ],
        [
         [
          35,
          "admin",
          "John",
          "Victor",
          30,
          "Grade1",
          "Grand Vitara",
          "GASOLYN",
          "FORD",
          "medium",
          "9-Jan-23",
          "9-Jan-23",
          "9-Jan-23",
          "INR",
          "PC 17604",
          "Meyer, Mr. Edgar Joseph",
          "male"
         ]
        ],
        [
         [
          81,
          "Lords",
          "Jim",
          "Jackson",
          60,
          "Paster",
          "Baleno",
          "Streamer",
          "Backward",
          "High Level",
          "9-Feb-23",
          "9-Feb-23",
          "9-Feb-23",
          "INR",
          "345767",
          "Waelens, Mr. Achille",
          "male"
         ]
        ],
        [
         [
          85,
          "Batsman",
          "Ricky",
          "Pointing",
          36,
          "Cricketer",
          "Suzuki Swift",
          "Streamer",
          "Backward",
          "High Level",
          "13-Feb-23",
          "13-Feb-23",
          "13-Feb-23",
          "INR",
          "SO/C 14885",
          "Ilett, Miss. Bertha",
          "female"
         ]
        ]
       ],
       "datasetInfos": [],
       "dbfsResultPath": null,
       "isJsonSchema": true,
       "metadata": {},
       "overflow": false,
       "plotOptions": {
        "customPlotOptions": {},
        "displayType": "table",
        "pivotAggregation": null,
        "pivotColumns": null,
        "xColumns": null,
        "yColumns": null
       },
       "removedWidgets": [],
       "schema": [
        {
         "metadata": "{}",
         "name": "pp_msg",
         "type": "{\"type\":\"struct\",\"fields\":[{\"name\":\"Id\",\"type\":\"integer\",\"nullable\":true,\"metadata\":{}},{\"name\":\"Nick_Name\",\"type\":\"string\",\"nullable\":true,\"metadata\":{}},{\"name\":\"First_Name\",\"type\":\"string\",\"nullable\":true,\"metadata\":{}},{\"name\":\"Last_Name\",\"type\":\"string\",\"nullable\":true,\"metadata\":{}},{\"name\":\"Age\",\"type\":\"integer\",\"nullable\":true,\"metadata\":{}},{\"name\":\"Type\",\"type\":\"string\",\"nullable\":true,\"metadata\":{}},{\"name\":\"Description\",\"type\":\"string\",\"nullable\":true,\"metadata\":{}},{\"name\":\"Commodity_Index\",\"type\":\"string\",\"nullable\":true,\"metadata\":{}},{\"name\":\"Sensex_Category\",\"type\":\"string\",\"nullable\":true,\"metadata\":{}},{\"name\":\"Label_Type\",\"type\":\"string\",\"nullable\":true,\"metadata\":{}},{\"name\":\"Effective_Date\",\"type\":\"string\",\"nullable\":true,\"metadata\":{}},{\"name\":\"Start_Date\",\"type\":\"string\",\"nullable\":true,\"metadata\":{}},{\"name\":\"End_Date\",\"type\":\"string\",\"nullable\":true,\"metadata\":{}},{\"name\":\"Currency\",\"type\":\"string\",\"nullable\":true,\"metadata\":{}},{\"name\":\"Ticket\",\"type\":\"string\",\"nullable\":true,\"metadata\":{}},{\"name\":\"Name\",\"type\":\"string\",\"nullable\":true,\"metadata\":{}},{\"name\":\"Sex\",\"type\":\"string\",\"nullable\":true,\"metadata\":{}}]}"
        }
       ],
       "type": "table"
      }
     },
     "output_type": "display_data"
    }
   ],
   "source": [
    "# Select all columns and structure them into a single column named 'pp_msg'\n",
    "df_final = df.select(f.struct('*').alias('pp_msg')).distinct()\n",
    "df_final.display()"
   ]
  },
  {
   "cell_type": "code",
   "execution_count": 0,
   "metadata": {
    "application/vnd.databricks.v1+cell": {
     "cellMetadata": {
      "byteLimit": 2048000,
      "rowLimit": 10000
     },
     "inputWidgets": {},
     "nuid": "24ae7214-97e1-40e8-9157-8900516eeba8",
     "showTitle": false,
     "title": ""
    }
   },
   "outputs": [
    {
     "output_type": "display_data",
     "data": {
      "text/html": [
       "<style scoped>\n",
       "  .table-result-container {\n",
       "    max-height: 300px;\n",
       "    overflow: auto;\n",
       "  }\n",
       "  table, th, td {\n",
       "    border: 1px solid black;\n",
       "    border-collapse: collapse;\n",
       "  }\n",
       "  th, td {\n",
       "    padding: 5px;\n",
       "  }\n",
       "  th {\n",
       "    text-align: left;\n",
       "  }\n",
       "</style><div class='table-result-container'><table class='table-result'><thead style='background-color: white'><tr><th>pp_msg</th><th>pp_msg_json</th></tr></thead><tbody><tr><td>List(17, Batsman, Ricky, Pointing, 36, Cricketer, Engine_Base, FXGBP, Social, Social, 6-Jan-23, 4-Jan-23, 6-Jan-23, INR, 382652, Rice, Master. Eugene, male)</td><td>{\"Id\":17,\"Nick_Name\":\"Batsman\",\"First_Name\":\"Ricky\",\"Last_Name\":\"Pointing\",\"Age\":36,\"Type\":\"Cricketer\",\"Description\":\"Engine_Base\",\"Commodity_Index\":\"FXGBP\",\"Sensex_Category\":\"Social\",\"Label_Type\":\"Social\",\"Effective_Date\":\"6-Jan-23\",\"Start_Date\":\"4-Jan-23\",\"End_Date\":\"6-Jan-23\",\"Currency\":\"INR\",\"Ticket\":\"382652\",\"Name\":\"Rice, Master. Eugene\",\"Sex\":\"male\"}</td></tr><tr><td>List(44, Minister, Ponguru, Narayana, 56, Education, Grand Vitara, TUTFER, Forward, fwd-mass, 31-May-24, 1-May-24, 31-May-24, INR, SC/Paris 2123, Laroche, Miss. Simonne Marie Anne Andree, female)</td><td>{\"Id\":44,\"Nick_Name\":\"Minister\",\"First_Name\":\"Ponguru\",\"Last_Name\":\"Narayana\",\"Age\":56,\"Type\":\"Education\",\"Description\":\"Grand Vitara\",\"Commodity_Index\":\"TUTFER\",\"Sensex_Category\":\"Forward\",\"Label_Type\":\"fwd-mass\",\"Effective_Date\":\"31-May-24\",\"Start_Date\":\"1-May-24\",\"End_Date\":\"31-May-24\",\"Currency\":\"INR\",\"Ticket\":\"SC/Paris 2123\",\"Name\":\"Laroche, Miss. Simonne Marie Anne Andree\",\"Sex\":\"female\"}</td></tr><tr><td>List(100, Boston, Ivan, Madrid, 34, Cricketer, Grand Vitara, Streamer, Backward, High Level, 28-Feb-23, 28-Feb-23, 28-Feb-23, INR, 244367, Kantor, Mr. Sinai, male)</td><td>{\"Id\":100,\"Nick_Name\":\"Boston\",\"First_Name\":\"Ivan\",\"Last_Name\":\"Madrid\",\"Age\":34,\"Type\":\"Cricketer\",\"Description\":\"Grand Vitara\",\"Commodity_Index\":\"Streamer\",\"Sensex_Category\":\"Backward\",\"Label_Type\":\"High Level\",\"Effective_Date\":\"28-Feb-23\",\"Start_Date\":\"28-Feb-23\",\"End_Date\":\"28-Feb-23\",\"Currency\":\"INR\",\"Ticket\":\"244367\",\"Name\":\"Kantor, Mr. Sinai\",\"Sex\":\"male\"}</td></tr><tr><td>List(1, admin, John, Victor, 30, Grade1, Baleno, DISCOUNT, Top, average, 6-Feb-23, 14-Jan-23, 6-Feb-23, INR, A/5 21171, Braund, Mr. Owen Harris, male)</td><td>{\"Id\":1,\"Nick_Name\":\"admin\",\"First_Name\":\"John\",\"Last_Name\":\"Victor\",\"Age\":30,\"Type\":\"Grade1\",\"Description\":\"Baleno\",\"Commodity_Index\":\"DISCOUNT\",\"Sensex_Category\":\"Top\",\"Label_Type\":\"average\",\"Effective_Date\":\"6-Feb-23\",\"Start_Date\":\"14-Jan-23\",\"End_Date\":\"6-Feb-23\",\"Currency\":\"INR\",\"Ticket\":\"A/5 21171\",\"Name\":\"Braund, Mr. Owen Harris\",\"Sex\":\"male\"}</td></tr><tr><td>List(76, Marketing, Vemparla, Harish, 55, Manager, Baleno, Streamer, Backward, High Level, 4-Feb-23, 4-Feb-23, 4-Feb-23, INR, 348123, Moen, Mr. Sigurd Hansen, male)</td><td>{\"Id\":76,\"Nick_Name\":\"Marketing\",\"First_Name\":\"Vemparla\",\"Last_Name\":\"Harish\",\"Age\":55,\"Type\":\"Manager\",\"Description\":\"Baleno\",\"Commodity_Index\":\"Streamer\",\"Sensex_Category\":\"Backward\",\"Label_Type\":\"High Level\",\"Effective_Date\":\"4-Feb-23\",\"Start_Date\":\"4-Feb-23\",\"End_Date\":\"4-Feb-23\",\"Currency\":\"INR\",\"Ticket\":\"348123\",\"Name\":\"Moen, Mr. Sigurd Hansen\",\"Sex\":\"male\"}</td></tr><tr><td>List(38, service, Stalin, Rajesh, 40, Minister, Grand Vitara, TUTFER, Forward, fwd-mass, 31-Jan-24, 1-Jan-24, 31-Jan-24, INR, A./5. 2152, Cann, Mr. Ernest Charles, male)</td><td>{\"Id\":38,\"Nick_Name\":\"service\",\"First_Name\":\"Stalin\",\"Last_Name\":\"Rajesh\",\"Age\":40,\"Type\":\"Minister\",\"Description\":\"Grand Vitara\",\"Commodity_Index\":\"TUTFER\",\"Sensex_Category\":\"Forward\",\"Label_Type\":\"fwd-mass\",\"Effective_Date\":\"31-Jan-24\",\"Start_Date\":\"1-Jan-24\",\"End_Date\":\"31-Jan-24\",\"Currency\":\"INR\",\"Ticket\":\"A./5. 2152\",\"Name\":\"Cann, Mr. Ernest Charles\",\"Sex\":\"male\"}</td></tr><tr><td>List(32, Boston, Ivan, Madrid, 34, Cricketer, Suzuki Swift, GASOLYN, FORD, medium, 7-Jan-23, 7-Jan-23, 7-Jan-23, INR, PC 17569, Spencer, Mrs. William Augustus (Marie Eugenie), female)</td><td>{\"Id\":32,\"Nick_Name\":\"Boston\",\"First_Name\":\"Ivan\",\"Last_Name\":\"Madrid\",\"Age\":34,\"Type\":\"Cricketer\",\"Description\":\"Suzuki Swift\",\"Commodity_Index\":\"GASOLYN\",\"Sensex_Category\":\"FORD\",\"Label_Type\":\"medium\",\"Effective_Date\":\"7-Jan-23\",\"Start_Date\":\"7-Jan-23\",\"End_Date\":\"7-Jan-23\",\"Currency\":\"INR\",\"Ticket\":\"PC 17569\",\"Name\":\"Spencer, Mrs. William Augustus (Marie Eugenie)\",\"Sex\":\"female\"}</td></tr><tr><td>List(7, Army, Koyi, Damodar, 37, Bettalian, Wagon R, DISCOUNT, Top, average, 6-Jan-25, 9-Jan-24, 6-Jan-25, INR, 17463, McCarthy, Mr. Timothy J, male)</td><td>{\"Id\":7,\"Nick_Name\":\"Army\",\"First_Name\":\"Koyi\",\"Last_Name\":\"Damodar\",\"Age\":37,\"Type\":\"Bettalian\",\"Description\":\"Wagon R\",\"Commodity_Index\":\"DISCOUNT\",\"Sensex_Category\":\"Top\",\"Label_Type\":\"average\",\"Effective_Date\":\"6-Jan-25\",\"Start_Date\":\"9-Jan-24\",\"End_Date\":\"6-Jan-25\",\"Currency\":\"INR\",\"Ticket\":\"17463\",\"Name\":\"McCarthy, Mr. Timothy J\",\"Sex\":\"male\"}</td></tr><tr><td>List(71, moon, Erram, Rammohan, 29, Enginner1, Suzuki Swift, Streamer, Backward, High Level, 30-Nov-24, 1-Nov-24, 30-Nov-24, INR, C.A. 33111, Jenkin, Mr. Stephen Curnow, male)</td><td>{\"Id\":71,\"Nick_Name\":\"moon\",\"First_Name\":\"Erram\",\"Last_Name\":\"Rammohan\",\"Age\":29,\"Type\":\"Enginner1\",\"Description\":\"Suzuki Swift\",\"Commodity_Index\":\"Streamer\",\"Sensex_Category\":\"Backward\",\"Label_Type\":\"High Level\",\"Effective_Date\":\"30-Nov-24\",\"Start_Date\":\"1-Nov-24\",\"End_Date\":\"30-Nov-24\",\"Currency\":\"INR\",\"Ticket\":\"C.A. 33111\",\"Name\":\"Jenkin, Mr. Stephen Curnow\",\"Sex\":\"male\"}</td></tr><tr><td>List(88, moon, Erram, Rammohan, 29, Enginner1, Suzuki Swift, Streamer, Backward, High Level, 16-Feb-23, 16-Feb-23, 16-Feb-23, INR, SOTON/OQ 392086, Slocovski, Mr. Selman Francis, male)</td><td>{\"Id\":88,\"Nick_Name\":\"moon\",\"First_Name\":\"Erram\",\"Last_Name\":\"Rammohan\",\"Age\":29,\"Type\":\"Enginner1\",\"Description\":\"Suzuki Swift\",\"Commodity_Index\":\"Streamer\",\"Sensex_Category\":\"Backward\",\"Label_Type\":\"High Level\",\"Effective_Date\":\"16-Feb-23\",\"Start_Date\":\"16-Feb-23\",\"End_Date\":\"16-Feb-23\",\"Currency\":\"INR\",\"Ticket\":\"SOTON/OQ 392086\",\"Name\":\"Slocovski, Mr. Selman Francis\",\"Sex\":\"male\"}</td></tr><tr><td>List(2, everest, Paul, Irish, 35, Grade2, Engine_Base, DISCOUNT, Top, average, 6-Feb-23, 14-Jan-23, 6-Feb-23, INR, PC 17599, Cumings, Mrs. John Bradley (Florence Briggs Thayer), female)</td><td>{\"Id\":2,\"Nick_Name\":\"everest\",\"First_Name\":\"Paul\",\"Last_Name\":\"Irish\",\"Age\":35,\"Type\":\"Grade2\",\"Description\":\"Engine_Base\",\"Commodity_Index\":\"DISCOUNT\",\"Sensex_Category\":\"Top\",\"Label_Type\":\"average\",\"Effective_Date\":\"6-Feb-23\",\"Start_Date\":\"14-Jan-23\",\"End_Date\":\"6-Feb-23\",\"Currency\":\"INR\",\"Ticket\":\"PC 17599\",\"Name\":\"Cumings, Mrs. John Bradley (Florence Briggs Thayer)\",\"Sex\":\"female\"}</td></tr><tr><td>List(64, Lords, Jim, Jackson, 60, Paster, Grand Vitara, Streamer, Backward, High Level, 30-Apr-24, 1-Apr-24, 30-Apr-24, INR, 347088, Skoog, Master. Harald, male)</td><td>{\"Id\":64,\"Nick_Name\":\"Lords\",\"First_Name\":\"Jim\",\"Last_Name\":\"Jackson\",\"Age\":60,\"Type\":\"Paster\",\"Description\":\"Grand Vitara\",\"Commodity_Index\":\"Streamer\",\"Sensex_Category\":\"Backward\",\"Label_Type\":\"High Level\",\"Effective_Date\":\"30-Apr-24\",\"Start_Date\":\"1-Apr-24\",\"End_Date\":\"30-Apr-24\",\"Currency\":\"INR\",\"Ticket\":\"347088\",\"Name\":\"Skoog, Master. Harald\",\"Sex\":\"male\"}</td></tr><tr><td>List(41, Army, Koyi, Damodar, 37, Bettalian, Suzuki Swift, TUTFER, Forward, fwd-mass, 30-Apr-24, 1-Apr-24, 30-Apr-24, INR, 7546, Ahlin, Mrs. Johan (Johanna Persdotter Larsson), female)</td><td>{\"Id\":41,\"Nick_Name\":\"Army\",\"First_Name\":\"Koyi\",\"Last_Name\":\"Damodar\",\"Age\":37,\"Type\":\"Bettalian\",\"Description\":\"Suzuki Swift\",\"Commodity_Index\":\"TUTFER\",\"Sensex_Category\":\"Forward\",\"Label_Type\":\"fwd-mass\",\"Effective_Date\":\"30-Apr-24\",\"Start_Date\":\"1-Apr-24\",\"End_Date\":\"30-Apr-24\",\"Currency\":\"INR\",\"Ticket\":\"7546\",\"Name\":\"Ahlin, Mrs. Johan (Johanna Persdotter Larsson)\",\"Sex\":\"female\"}</td></tr><tr><td>List(20, moon, Erram, Rammohan, 29, Enginner1, Grand Vitara, GASOLYN, FORD, medium, 29-Feb-24, 1-Feb-24, 29-Feb-24, INR, 2649, Masselmani, Mrs. Fatima, female)</td><td>{\"Id\":20,\"Nick_Name\":\"moon\",\"First_Name\":\"Erram\",\"Last_Name\":\"Rammohan\",\"Age\":29,\"Type\":\"Enginner1\",\"Description\":\"Grand Vitara\",\"Commodity_Index\":\"GASOLYN\",\"Sensex_Category\":\"FORD\",\"Label_Type\":\"medium\",\"Effective_Date\":\"29-Feb-24\",\"Start_Date\":\"1-Feb-24\",\"End_Date\":\"29-Feb-24\",\"Currency\":\"INR\",\"Ticket\":\"2649\",\"Name\":\"Masselmani, Mrs. Fatima\",\"Sex\":\"female\"}</td></tr><tr><td>List(24, Army, Koyi, Damodar, 37, Bettalian, Grand Vitara, GASOLYN, FORD, medium, 30-Jun-24, 1-Jun-24, 30-Jun-24, INR, 113788, Sloper, Mr. William Thompson, male)</td><td>{\"Id\":24,\"Nick_Name\":\"Army\",\"First_Name\":\"Koyi\",\"Last_Name\":\"Damodar\",\"Age\":37,\"Type\":\"Bettalian\",\"Description\":\"Grand Vitara\",\"Commodity_Index\":\"GASOLYN\",\"Sensex_Category\":\"FORD\",\"Label_Type\":\"medium\",\"Effective_Date\":\"30-Jun-24\",\"Start_Date\":\"1-Jun-24\",\"End_Date\":\"30-Jun-24\",\"Currency\":\"INR\",\"Ticket\":\"113788\",\"Name\":\"Sloper, Mr. William Thompson\",\"Sex\":\"male\"}</td></tr><tr><td>List(63, ADE, Enuganti, Suesh, 31, Resource, BENZ GLE, Streamer, Backward, High Level, 31-Mar-24, 1-Mar-24, 31-Mar-24, INR, 36973, Harris, Mr. Henry Birkhardt, male)</td><td>{\"Id\":63,\"Nick_Name\":\"ADE\",\"First_Name\":\"Enuganti\",\"Last_Name\":\"Suesh\",\"Age\":31,\"Type\":\"Resource\",\"Description\":\"BENZ GLE\",\"Commodity_Index\":\"Streamer\",\"Sensex_Category\":\"Backward\",\"Label_Type\":\"High Level\",\"Effective_Date\":\"31-Mar-24\",\"Start_Date\":\"1-Mar-24\",\"End_Date\":\"31-Mar-24\",\"Currency\":\"INR\",\"Ticket\":\"36973\",\"Name\":\"Harris, Mr. Henry Birkhardt\",\"Sex\":\"male\"}</td></tr><tr><td>List(53, everest, Paul, Irish, 35, Grade2, Creta, TUTFER, Forward, fwd-mass, 9-Jan-23, 9-Jan-23, 9-Jan-23, INR, PC 17572, Harper, Mrs. Henry Sleeper (Myna Haxtun), female)</td><td>{\"Id\":53,\"Nick_Name\":\"everest\",\"First_Name\":\"Paul\",\"Last_Name\":\"Irish\",\"Age\":35,\"Type\":\"Grade2\",\"Description\":\"Creta\",\"Commodity_Index\":\"TUTFER\",\"Sensex_Category\":\"Forward\",\"Label_Type\":\"fwd-mass\",\"Effective_Date\":\"9-Jan-23\",\"Start_Date\":\"9-Jan-23\",\"End_Date\":\"9-Jan-23\",\"Currency\":\"INR\",\"Ticket\":\"PC 17572\",\"Name\":\"Harper, Mrs. Henry Sleeper (Myna Haxtun)\",\"Sex\":\"female\"}</td></tr><tr><td>List(59, Marketing, Vemparla, Harish, 55, Manager, BENZ GLE, THERMAL, Forward, fwd-mass, 31-May-23, 1-May-23, 31-May-23, INR, C.A. 34651, West, Miss. Constance Mirium, female)</td><td>{\"Id\":59,\"Nick_Name\":\"Marketing\",\"First_Name\":\"Vemparla\",\"Last_Name\":\"Harish\",\"Age\":55,\"Type\":\"Manager\",\"Description\":\"BENZ GLE\",\"Commodity_Index\":\"THERMAL\",\"Sensex_Category\":\"Forward\",\"Label_Type\":\"fwd-mass\",\"Effective_Date\":\"31-May-23\",\"Start_Date\":\"1-May-23\",\"End_Date\":\"31-May-23\",\"Currency\":\"INR\",\"Ticket\":\"C.A. 34651\",\"Name\":\"West, Miss. Constance Mirium\",\"Sex\":\"female\"}</td></tr><tr><td>List(87, everest, Paul, Irish, 35, Grade2, Suzuki Swift, Streamer, Backward, High Level, 15-Feb-23, 15-Feb-23, 15-Feb-23, INR, W./C. 6608, Ford, Mr. William Neal, male)</td><td>{\"Id\":87,\"Nick_Name\":\"everest\",\"First_Name\":\"Paul\",\"Last_Name\":\"Irish\",\"Age\":35,\"Type\":\"Grade2\",\"Description\":\"Suzuki Swift\",\"Commodity_Index\":\"Streamer\",\"Sensex_Category\":\"Backward\",\"Label_Type\":\"High Level\",\"Effective_Date\":\"15-Feb-23\",\"Start_Date\":\"15-Feb-23\",\"End_Date\":\"15-Feb-23\",\"Currency\":\"INR\",\"Ticket\":\"W./C. 6608\",\"Name\":\"Ford, Mr. William Neal\",\"Sex\":\"male\"}</td></tr><tr><td>List(82, jain, Vikas, Jain, 62, Priest, Baleno, Streamer, Backward, High Level, 10-Feb-23, 10-Feb-23, 10-Feb-23, INR, 345779, Sheerlinck, Mr. Jan Baptist, male)</td><td>{\"Id\":82,\"Nick_Name\":\"jain\",\"First_Name\":\"Vikas\",\"Last_Name\":\"Jain\",\"Age\":62,\"Type\":\"Priest\",\"Description\":\"Baleno\",\"Commodity_Index\":\"Streamer\",\"Sensex_Category\":\"Backward\",\"Label_Type\":\"High Level\",\"Effective_Date\":\"10-Feb-23\",\"Start_Date\":\"10-Feb-23\",\"End_Date\":\"10-Feb-23\",\"Currency\":\"INR\",\"Ticket\":\"345779\",\"Name\":\"Sheerlinck, Mr. Jan Baptist\",\"Sex\":\"male\"}</td></tr><tr><td>List(null, null, null, null, null, null, null, null, null, null, null, null, null, null, null, null, null)</td><td>{}</td></tr><tr><td>List(48, jain, Vikas, Jain, 62, Priest, Suzuki Swift, TUTFER, Forward, fwd-mass, 31-Aug-24, 1-Aug-24, 31-Aug-24, INR, 14311, O'Driscoll, Miss. Bridget, female)</td><td>{\"Id\":48,\"Nick_Name\":\"jain\",\"First_Name\":\"Vikas\",\"Last_Name\":\"Jain\",\"Age\":62,\"Type\":\"Priest\",\"Description\":\"Suzuki Swift\",\"Commodity_Index\":\"TUTFER\",\"Sensex_Category\":\"Forward\",\"Label_Type\":\"fwd-mass\",\"Effective_Date\":\"31-Aug-24\",\"Start_Date\":\"1-Aug-24\",\"End_Date\":\"31-Aug-24\",\"Currency\":\"INR\",\"Ticket\":\"14311\",\"Name\":\"O'Driscoll, Miss. Bridget\",\"Sex\":\"female\"}</td></tr><tr><td>List(98, Lords, Jim, Jackson, 60, Paster, Grand Vitara, Streamer, Backward, High Level, 26-Feb-23, 26-Feb-23, 26-Feb-23, INR, PC 17759, Greenfield, Mr. William Bertram, male)</td><td>{\"Id\":98,\"Nick_Name\":\"Lords\",\"First_Name\":\"Jim\",\"Last_Name\":\"Jackson\",\"Age\":60,\"Type\":\"Paster\",\"Description\":\"Grand Vitara\",\"Commodity_Index\":\"Streamer\",\"Sensex_Category\":\"Backward\",\"Label_Type\":\"High Level\",\"Effective_Date\":\"26-Feb-23\",\"Start_Date\":\"26-Feb-23\",\"End_Date\":\"26-Feb-23\",\"Currency\":\"INR\",\"Ticket\":\"PC 17759\",\"Name\":\"Greenfield, Mr. William Bertram\",\"Sex\":\"male\"}</td></tr><tr><td>List(70, everest, Paul, Irish, 35, Grade2, Grand Vitara, Streamer, Backward, High Level, 31-Oct-24, 1-Oct-24, 31-Oct-24, INR, 315151, Kink, Mr. Vincenz, male)</td><td>{\"Id\":70,\"Nick_Name\":\"everest\",\"First_Name\":\"Paul\",\"Last_Name\":\"Irish\",\"Age\":35,\"Type\":\"Grade2\",\"Description\":\"Grand Vitara\",\"Commodity_Index\":\"Streamer\",\"Sensex_Category\":\"Backward\",\"Label_Type\":\"High Level\",\"Effective_Date\":\"31-Oct-24\",\"Start_Date\":\"1-Oct-24\",\"End_Date\":\"31-Oct-24\",\"Currency\":\"INR\",\"Ticket\":\"315151\",\"Name\":\"Kink, Mr. Vincenz\",\"Sex\":\"male\"}</td></tr><tr><td>List(89, service, Stalin, Rajesh, 40, Minister, Suzuki Swift, Streamer, Backward, High Level, 17-Feb-23, 17-Feb-23, 17-Feb-23, INR, 19950, Fortune, Miss. Mabel Helen, female)</td><td>{\"Id\":89,\"Nick_Name\":\"service\",\"First_Name\":\"Stalin\",\"Last_Name\":\"Rajesh\",\"Age\":40,\"Type\":\"Minister\",\"Description\":\"Suzuki Swift\",\"Commodity_Index\":\"Streamer\",\"Sensex_Category\":\"Backward\",\"Label_Type\":\"High Level\",\"Effective_Date\":\"17-Feb-23\",\"Start_Date\":\"17-Feb-23\",\"End_Date\":\"17-Feb-23\",\"Currency\":\"INR\",\"Ticket\":\"19950\",\"Name\":\"Fortune, Miss. Mabel Helen\",\"Sex\":\"female\"}</td></tr><tr><td>List(30, Lords, Jim, Jackson, 60, Paster, Grand Vitara, GASOLYN, FORD, medium, 31-Dec-24, 1-Dec-24, 31-Dec-24, INR, 349216, Todoroff, Mr. Lalio, male)</td><td>{\"Id\":30,\"Nick_Name\":\"Lords\",\"First_Name\":\"Jim\",\"Last_Name\":\"Jackson\",\"Age\":60,\"Type\":\"Paster\",\"Description\":\"Grand Vitara\",\"Commodity_Index\":\"GASOLYN\",\"Sensex_Category\":\"FORD\",\"Label_Type\":\"medium\",\"Effective_Date\":\"31-Dec-24\",\"Start_Date\":\"1-Dec-24\",\"End_Date\":\"31-Dec-24\",\"Currency\":\"INR\",\"Ticket\":\"349216\",\"Name\":\"Todoroff, Mr. Lalio\",\"Sex\":\"male\"}</td></tr><tr><td>List(86, admin, John, Victor, 30, Grade1, Suzuki Swift, Streamer, Backward, High Level, 14-Feb-23, 14-Feb-23, 14-Feb-23, INR, 3101278, Backstrom, Mrs. Karl Alfred (Maria Mathilda Gustafsson), female)</td><td>{\"Id\":86,\"Nick_Name\":\"admin\",\"First_Name\":\"John\",\"Last_Name\":\"Victor\",\"Age\":30,\"Type\":\"Grade1\",\"Description\":\"Suzuki Swift\",\"Commodity_Index\":\"Streamer\",\"Sensex_Category\":\"Backward\",\"Label_Type\":\"High Level\",\"Effective_Date\":\"14-Feb-23\",\"Start_Date\":\"14-Feb-23\",\"End_Date\":\"14-Feb-23\",\"Currency\":\"INR\",\"Ticket\":\"3101278\",\"Name\":\"Backstrom, Mrs. Karl Alfred (Maria Mathilda Gustafsson)\",\"Sex\":\"female\"}</td></tr><tr><td>List(74, Drinker, Karjala, Hari, 33, Army, Baleno, Streamer, Backward, High Level, 2-Feb-23, 2-Feb-23, 2-Feb-23, INR, 2680, Chronopoulos, Mr. Apostolos, male)</td><td>{\"Id\":74,\"Nick_Name\":\"Drinker\",\"First_Name\":\"Karjala\",\"Last_Name\":\"Hari\",\"Age\":33,\"Type\":\"Army\",\"Description\":\"Baleno\",\"Commodity_Index\":\"Streamer\",\"Sensex_Category\":\"Backward\",\"Label_Type\":\"High Level\",\"Effective_Date\":\"2-Feb-23\",\"Start_Date\":\"2-Feb-23\",\"End_Date\":\"2-Feb-23\",\"Currency\":\"INR\",\"Ticket\":\"2680\",\"Name\":\"Chronopoulos, Mr. Apostolos\",\"Sex\":\"male\"}</td></tr><tr><td>List(5, Builder, Golla, Rajasekar, 43, Builder, Suzuki Swift, DISCOUNT, Top, average, 6-Mar-23, 7-Feb-23, 6-Mar-23, INR, 373450, Allen, Mr. William Henry, male)</td><td>{\"Id\":5,\"Nick_Name\":\"Builder\",\"First_Name\":\"Golla\",\"Last_Name\":\"Rajasekar\",\"Age\":43,\"Type\":\"Builder\",\"Description\":\"Suzuki Swift\",\"Commodity_Index\":\"DISCOUNT\",\"Sensex_Category\":\"Top\",\"Label_Type\":\"average\",\"Effective_Date\":\"6-Mar-23\",\"Start_Date\":\"7-Feb-23\",\"End_Date\":\"6-Mar-23\",\"Currency\":\"INR\",\"Ticket\":\"373450\",\"Name\":\"Allen, Mr. William Henry\",\"Sex\":\"male\"}</td></tr><tr><td>List(33, Republic, Paul, Raj, 27, Tennis, Ertiga, GASOLYN, FORD, medium, 8-Jan-23, 8-Jan-23, 8-Jan-23, INR, 335677, Glynn, Miss. Mary Agatha, female)</td><td>{\"Id\":33,\"Nick_Name\":\"Republic\",\"First_Name\":\"Paul\",\"Last_Name\":\"Raj\",\"Age\":27,\"Type\":\"Tennis\",\"Description\":\"Ertiga\",\"Commodity_Index\":\"GASOLYN\",\"Sensex_Category\":\"FORD\",\"Label_Type\":\"medium\",\"Effective_Date\":\"8-Jan-23\",\"Start_Date\":\"8-Jan-23\",\"End_Date\":\"8-Jan-23\",\"Currency\":\"INR\",\"Ticket\":\"335677\",\"Name\":\"Glynn, Miss. Mary Agatha\",\"Sex\":\"female\"}</td></tr><tr><td>List(21, service, Stalin, Rajesh, 40, Minister, Suzuki Swift, GASOLYN, FORD, medium, 31-Mar-24, 1-Mar-24, 31-Mar-24, INR, 239865, Fynney, Mr. Joseph J, male)</td><td>{\"Id\":21,\"Nick_Name\":\"service\",\"First_Name\":\"Stalin\",\"Last_Name\":\"Rajesh\",\"Age\":40,\"Type\":\"Minister\",\"Description\":\"Suzuki Swift\",\"Commodity_Index\":\"GASOLYN\",\"Sensex_Category\":\"FORD\",\"Label_Type\":\"medium\",\"Effective_Date\":\"31-Mar-24\",\"Start_Date\":\"1-Mar-24\",\"End_Date\":\"31-Mar-24\",\"Currency\":\"INR\",\"Ticket\":\"239865\",\"Name\":\"Fynney, Mr. Joseph J\",\"Sex\":\"male\"}</td></tr><tr><td>List(49, Boston, Ivan, Madrid, 34, Cricketer, Seltos, TUTFER, Forward, fwd-mass, 30-Sep-24, 1-Sep-24, 30-Sep-24, INR, 2662, Samaan, Mr. Youssef, male)</td><td>{\"Id\":49,\"Nick_Name\":\"Boston\",\"First_Name\":\"Ivan\",\"Last_Name\":\"Madrid\",\"Age\":34,\"Type\":\"Cricketer\",\"Description\":\"Seltos\",\"Commodity_Index\":\"TUTFER\",\"Sensex_Category\":\"Forward\",\"Label_Type\":\"fwd-mass\",\"Effective_Date\":\"30-Sep-24\",\"Start_Date\":\"1-Sep-24\",\"End_Date\":\"30-Sep-24\",\"Currency\":\"INR\",\"Ticket\":\"2662\",\"Name\":\"Samaan, Mr. Youssef\",\"Sex\":\"male\"}</td></tr><tr><td>List(84, Republic, Paul, Raj, 27, Tennis, Suzuki Swift, Streamer, Backward, High Level, 12-Feb-23, 12-Feb-23, 12-Feb-23, INR, 113059, Carrau, Mr. Francisco M, male)</td><td>{\"Id\":84,\"Nick_Name\":\"Republic\",\"First_Name\":\"Paul\",\"Last_Name\":\"Raj\",\"Age\":27,\"Type\":\"Tennis\",\"Description\":\"Suzuki Swift\",\"Commodity_Index\":\"Streamer\",\"Sensex_Category\":\"Backward\",\"Label_Type\":\"High Level\",\"Effective_Date\":\"12-Feb-23\",\"Start_Date\":\"12-Feb-23\",\"End_Date\":\"12-Feb-23\",\"Currency\":\"INR\",\"Ticket\":\"113059\",\"Name\":\"Carrau, Mr. Francisco M\",\"Sex\":\"male\"}</td></tr><tr><td>List(56, Builder, Golla, Rajasekar, 43, Builder, Grand Vitara, THERMAL, Forward, fwd-mass, 29-Feb-24, 1-Feb-24, 29-Feb-24, INR, 19947, Woolner, Mr. Hugh, male)</td><td>{\"Id\":56,\"Nick_Name\":\"Builder\",\"First_Name\":\"Golla\",\"Last_Name\":\"Rajasekar\",\"Age\":43,\"Type\":\"Builder\",\"Description\":\"Grand Vitara\",\"Commodity_Index\":\"THERMAL\",\"Sensex_Category\":\"Forward\",\"Label_Type\":\"fwd-mass\",\"Effective_Date\":\"29-Feb-24\",\"Start_Date\":\"1-Feb-24\",\"End_Date\":\"29-Feb-24\",\"Currency\":\"INR\",\"Ticket\":\"19947\",\"Name\":\"Woolner, Mr. Hugh\",\"Sex\":\"male\"}</td></tr><tr><td>List(77, Politician, Devineni, Umesh, 58, Senior, Baleno, Streamer, Backward, High Level, 5-Feb-23, 5-Feb-23, 5-Feb-23, INR, 349208, Staneff, Mr. Ivan, male)</td><td>{\"Id\":77,\"Nick_Name\":\"Politician\",\"First_Name\":\"Devineni\",\"Last_Name\":\"Umesh\",\"Age\":58,\"Type\":\"Senior\",\"Description\":\"Baleno\",\"Commodity_Index\":\"Streamer\",\"Sensex_Category\":\"Backward\",\"Label_Type\":\"High Level\",\"Effective_Date\":\"5-Feb-23\",\"Start_Date\":\"5-Feb-23\",\"End_Date\":\"5-Feb-23\",\"Currency\":\"INR\",\"Ticket\":\"349208\",\"Name\":\"Staneff, Mr. Ivan\",\"Sex\":\"male\"}</td></tr><tr><td>List(54, moon, Erram, Rammohan, 29, Enginner1, Grand Vitara, TUTFER, Forward, fwd-mass, 10-Jan-23, 10-Jan-23, 10-Jan-23, INR, 2926, Faunthorpe, Mrs. Lizzie (Elizabeth Anne Wilkinson), female)</td><td>{\"Id\":54,\"Nick_Name\":\"moon\",\"First_Name\":\"Erram\",\"Last_Name\":\"Rammohan\",\"Age\":29,\"Type\":\"Enginner1\",\"Description\":\"Grand Vitara\",\"Commodity_Index\":\"TUTFER\",\"Sensex_Category\":\"Forward\",\"Label_Type\":\"fwd-mass\",\"Effective_Date\":\"10-Jan-23\",\"Start_Date\":\"10-Jan-23\",\"End_Date\":\"10-Jan-23\",\"Currency\":\"INR\",\"Ticket\":\"2926\",\"Name\":\"Faunthorpe, Mrs. Lizzie (Elizabeth Anne Wilkinson)\",\"Sex\":\"female\"}</td></tr><tr><td>List(3, moon, Erram, Rammohan, 29, Enginner1, Baleno, DISCOUNT, Top, average, 8-Jan-24, 7-Oct-23, 8-Jan-24, INR, STON/O2. 3101282, Heikkinen, Miss. Laina, female)</td><td>{\"Id\":3,\"Nick_Name\":\"moon\",\"First_Name\":\"Erram\",\"Last_Name\":\"Rammohan\",\"Age\":29,\"Type\":\"Enginner1\",\"Description\":\"Baleno\",\"Commodity_Index\":\"DISCOUNT\",\"Sensex_Category\":\"Top\",\"Label_Type\":\"average\",\"Effective_Date\":\"8-Jan-24\",\"Start_Date\":\"7-Oct-23\",\"End_Date\":\"8-Jan-24\",\"Currency\":\"INR\",\"Ticket\":\"STON/O2. 3101282\",\"Name\":\"Heikkinen, Miss. Laina\",\"Sex\":\"female\"}</td></tr><tr><td>List(42, Marketing, Vemparla, Harish, 55, Manager, Engine_Base, TUTFER, Forward, fwd-mass, 30-Apr-24, 1-Apr-24, 30-Apr-24, INR, 11668, Turpin, Mrs. William John Robert (Dorothy Ann Wonnacott), female)</td><td>{\"Id\":42,\"Nick_Name\":\"Marketing\",\"First_Name\":\"Vemparla\",\"Last_Name\":\"Harish\",\"Age\":55,\"Type\":\"Manager\",\"Description\":\"Engine_Base\",\"Commodity_Index\":\"TUTFER\",\"Sensex_Category\":\"Forward\",\"Label_Type\":\"fwd-mass\",\"Effective_Date\":\"30-Apr-24\",\"Start_Date\":\"1-Apr-24\",\"End_Date\":\"30-Apr-24\",\"Currency\":\"INR\",\"Ticket\":\"11668\",\"Name\":\"Turpin, Mrs. William John Robert (Dorothy Ann Wonnacott)\",\"Sex\":\"female\"}</td></tr><tr><td>List(18, admin, John, Victor, 30, Grade1, Engine_Base, FXGBP, Social, Social, 6-Jan-23, 4-Jan-23, 6-Jan-23, INR, 244373, Williams, Mr. Charles Eugene, male)</td><td>{\"Id\":18,\"Nick_Name\":\"admin\",\"First_Name\":\"John\",\"Last_Name\":\"Victor\",\"Age\":30,\"Type\":\"Grade1\",\"Description\":\"Engine_Base\",\"Commodity_Index\":\"FXGBP\",\"Sensex_Category\":\"Social\",\"Label_Type\":\"Social\",\"Effective_Date\":\"6-Jan-23\",\"Start_Date\":\"4-Jan-23\",\"End_Date\":\"6-Jan-23\",\"Currency\":\"INR\",\"Ticket\":\"244373\",\"Name\":\"Williams, Mr. Charles Eugene\",\"Sex\":\"male\"}</td></tr><tr><td>List(61, Minister, Ponguru, Narayana, 56, Education, BENZ GLE, Streamer, Backward, High Level, 31-Jan-24, 1-Jan-24, 31-Jan-24, INR, 2669, Sirayanian, Mr. Orsen, male)</td><td>{\"Id\":61,\"Nick_Name\":\"Minister\",\"First_Name\":\"Ponguru\",\"Last_Name\":\"Narayana\",\"Age\":56,\"Type\":\"Education\",\"Description\":\"BENZ GLE\",\"Commodity_Index\":\"Streamer\",\"Sensex_Category\":\"Backward\",\"Label_Type\":\"High Level\",\"Effective_Date\":\"31-Jan-24\",\"Start_Date\":\"1-Jan-24\",\"End_Date\":\"31-Jan-24\",\"Currency\":\"INR\",\"Ticket\":\"2669\",\"Name\":\"Sirayanian, Mr. Orsen\",\"Sex\":\"male\"}</td></tr><tr><td>List(75, Army, Koyi, Damodar, 37, Bettalian, Baleno, Streamer, Backward, High Level, 3-Feb-23, 3-Feb-23, 3-Feb-23, INR, 1601, Bing, Mr. Lee, male)</td><td>{\"Id\":75,\"Nick_Name\":\"Army\",\"First_Name\":\"Koyi\",\"Last_Name\":\"Damodar\",\"Age\":37,\"Type\":\"Bettalian\",\"Description\":\"Baleno\",\"Commodity_Index\":\"Streamer\",\"Sensex_Category\":\"Backward\",\"Label_Type\":\"High Level\",\"Effective_Date\":\"3-Feb-23\",\"Start_Date\":\"3-Feb-23\",\"End_Date\":\"3-Feb-23\",\"Currency\":\"INR\",\"Ticket\":\"1601\",\"Name\":\"Bing, Mr. Lee\",\"Sex\":\"male\"}</td></tr><tr><td>List(83, Boston, Ivan, Madrid, 34, Cricketer, Engine_Base, Streamer, Backward, High Level, 11-Feb-23, 11-Feb-23, 11-Feb-23, INR, 330932, McDermott, Miss. Brigdet Delia, female)</td><td>{\"Id\":83,\"Nick_Name\":\"Boston\",\"First_Name\":\"Ivan\",\"Last_Name\":\"Madrid\",\"Age\":34,\"Type\":\"Cricketer\",\"Description\":\"Engine_Base\",\"Commodity_Index\":\"Streamer\",\"Sensex_Category\":\"Backward\",\"Label_Type\":\"High Level\",\"Effective_Date\":\"11-Feb-23\",\"Start_Date\":\"11-Feb-23\",\"End_Date\":\"11-Feb-23\",\"Currency\":\"INR\",\"Ticket\":\"330932\",\"Name\":\"McDermott, Miss. Brigdet Delia\",\"Sex\":\"female\"}</td></tr><tr><td>List(29, ADE, Enuganti, Suesh, 31, Resource, Grand Vitara, GASOLYN, FORD, medium, 30-Nov-24, 1-Nov-24, 30-Nov-24, INR, 330959, \"O'Dwyer, Miss. Ellen \"\"Nellie\"\"\", female)</td><td>{\"Id\":29,\"Nick_Name\":\"ADE\",\"First_Name\":\"Enuganti\",\"Last_Name\":\"Suesh\",\"Age\":31,\"Type\":\"Resource\",\"Description\":\"Grand Vitara\",\"Commodity_Index\":\"GASOLYN\",\"Sensex_Category\":\"FORD\",\"Label_Type\":\"medium\",\"Effective_Date\":\"30-Nov-24\",\"Start_Date\":\"1-Nov-24\",\"End_Date\":\"30-Nov-24\",\"Currency\":\"INR\",\"Ticket\":\"330959\",\"Name\":\"\\\"O'Dwyer, Miss. Ellen \\\"\\\"Nellie\\\"\\\"\\\"\",\"Sex\":\"female\"}</td></tr><tr><td>List(28, Design, Mohmad, Basha, 47, Enginner2, Grand Vitara, GASOLYN, FORD, medium, 31-Oct-24, 1-Oct-24, 31-Oct-24, INR, 19950, Fortune, Mr. Charles Alexander, male)</td><td>{\"Id\":28,\"Nick_Name\":\"Design\",\"First_Name\":\"Mohmad\",\"Last_Name\":\"Basha\",\"Age\":47,\"Type\":\"Enginner2\",\"Description\":\"Grand Vitara\",\"Commodity_Index\":\"GASOLYN\",\"Sensex_Category\":\"FORD\",\"Label_Type\":\"medium\",\"Effective_Date\":\"31-Oct-24\",\"Start_Date\":\"1-Oct-24\",\"End_Date\":\"31-Oct-24\",\"Currency\":\"INR\",\"Ticket\":\"19950\",\"Name\":\"Fortune, Mr. Charles Alexander\",\"Sex\":\"male\"}</td></tr><tr><td>List(69, admin, John, Victor, 30, Grade1, Baleno, Streamer, Backward, High Level, 30-Sep-24, 1-Sep-24, 30-Sep-24, INR, 3101281, Andersson, Miss. Erna Alexandra, female)</td><td>{\"Id\":69,\"Nick_Name\":\"admin\",\"First_Name\":\"John\",\"Last_Name\":\"Victor\",\"Age\":30,\"Type\":\"Grade1\",\"Description\":\"Baleno\",\"Commodity_Index\":\"Streamer\",\"Sensex_Category\":\"Backward\",\"Label_Type\":\"High Level\",\"Effective_Date\":\"30-Sep-24\",\"Start_Date\":\"1-Sep-24\",\"End_Date\":\"30-Sep-24\",\"Currency\":\"INR\",\"Ticket\":\"3101281\",\"Name\":\"Andersson, Miss. Erna Alexandra\",\"Sex\":\"female\"}</td></tr><tr><td>List(57, Drinker, Karjala, Hari, 33, Army, Brezza, THERMAL, Forward, fwd-mass, 31-Mar-24, 1-Mar-24, 31-Mar-24, INR, C.A. 31026, Rugg, Miss. Emily, female)</td><td>{\"Id\":57,\"Nick_Name\":\"Drinker\",\"First_Name\":\"Karjala\",\"Last_Name\":\"Hari\",\"Age\":33,\"Type\":\"Army\",\"Description\":\"Brezza\",\"Commodity_Index\":\"THERMAL\",\"Sensex_Category\":\"Forward\",\"Label_Type\":\"fwd-mass\",\"Effective_Date\":\"31-Mar-24\",\"Start_Date\":\"1-Mar-24\",\"End_Date\":\"31-Mar-24\",\"Currency\":\"INR\",\"Ticket\":\"C.A. 31026\",\"Name\":\"Rugg, Miss. Emily\",\"Sex\":\"female\"}</td></tr><tr><td>List(90, Builder, Golla, Rajasekar, 43, Builder, Suzuki Swift, Streamer, Backward, High Level, 18-Feb-23, 18-Feb-23, 18-Feb-23, INR, 343275, Celotti, Mr. Francesco, male)</td><td>{\"Id\":90,\"Nick_Name\":\"Builder\",\"First_Name\":\"Golla\",\"Last_Name\":\"Rajasekar\",\"Age\":43,\"Type\":\"Builder\",\"Description\":\"Suzuki Swift\",\"Commodity_Index\":\"Streamer\",\"Sensex_Category\":\"Backward\",\"Label_Type\":\"High Level\",\"Effective_Date\":\"18-Feb-23\",\"Start_Date\":\"18-Feb-23\",\"End_Date\":\"18-Feb-23\",\"Currency\":\"INR\",\"Ticket\":\"343275\",\"Name\":\"Celotti, Mr. Francesco\",\"Sex\":\"male\"}</td></tr><tr><td>List(80, ADE, Enuganti, Suesh, 31, Resource, Baleno, Streamer, Backward, High Level, 8-Feb-23, 8-Feb-23, 8-Feb-23, INR, 364516, Dowdell, Miss. Elizabeth, female)</td><td>{\"Id\":80,\"Nick_Name\":\"ADE\",\"First_Name\":\"Enuganti\",\"Last_Name\":\"Suesh\",\"Age\":31,\"Type\":\"Resource\",\"Description\":\"Baleno\",\"Commodity_Index\":\"Streamer\",\"Sensex_Category\":\"Backward\",\"Label_Type\":\"High Level\",\"Effective_Date\":\"8-Feb-23\",\"Start_Date\":\"8-Feb-23\",\"End_Date\":\"8-Feb-23\",\"Currency\":\"INR\",\"Ticket\":\"364516\",\"Name\":\"Dowdell, Miss. Elizabeth\",\"Sex\":\"female\"}</td></tr><tr><td>List(52, admin, John, Victor, 30, Grade1, Baleno, TUTFER, Forward, fwd-mass, 31-Dec-24, 1-Dec-24, 31-Dec-24, INR, A/4. 39886, Nosworthy, Mr. Richard Cater, male)</td><td>{\"Id\":52,\"Nick_Name\":\"admin\",\"First_Name\":\"John\",\"Last_Name\":\"Victor\",\"Age\":30,\"Type\":\"Grade1\",\"Description\":\"Baleno\",\"Commodity_Index\":\"TUTFER\",\"Sensex_Category\":\"Forward\",\"Label_Type\":\"fwd-mass\",\"Effective_Date\":\"31-Dec-24\",\"Start_Date\":\"1-Dec-24\",\"End_Date\":\"31-Dec-24\",\"Currency\":\"INR\",\"Ticket\":\"A/4. 39886\",\"Name\":\"Nosworthy, Mr. Richard Cater\",\"Sex\":\"male\"}</td></tr><tr><td>List(27, Minister, Ponguru, Narayana, 56, Education, Grand Vitara, GASOLYN, FORD, medium, 30-Sep-24, 1-Sep-24, 30-Sep-24, INR, 2631, Emir, Mr. Farred Chehab, male)</td><td>{\"Id\":27,\"Nick_Name\":\"Minister\",\"First_Name\":\"Ponguru\",\"Last_Name\":\"Narayana\",\"Age\":56,\"Type\":\"Education\",\"Description\":\"Grand Vitara\",\"Commodity_Index\":\"GASOLYN\",\"Sensex_Category\":\"FORD\",\"Label_Type\":\"medium\",\"Effective_Date\":\"30-Sep-24\",\"Start_Date\":\"1-Sep-24\",\"End_Date\":\"30-Sep-24\",\"Currency\":\"INR\",\"Ticket\":\"2631\",\"Name\":\"Emir, Mr. Farred Chehab\",\"Sex\":\"male\"}</td></tr><tr><td>List(4, service, Stalin, Rajesh, 40, Minister, Engine_Base, DISCOUNT, Top, average, 8-Jan-24, 7-Oct-23, 8-Jan-24, INR, 113803, Futrelle, Mrs. Jacques Heath (Lily May Peel), female)</td><td>{\"Id\":4,\"Nick_Name\":\"service\",\"First_Name\":\"Stalin\",\"Last_Name\":\"Rajesh\",\"Age\":40,\"Type\":\"Minister\",\"Description\":\"Engine_Base\",\"Commodity_Index\":\"DISCOUNT\",\"Sensex_Category\":\"Top\",\"Label_Type\":\"average\",\"Effective_Date\":\"8-Jan-24\",\"Start_Date\":\"7-Oct-23\",\"End_Date\":\"8-Jan-24\",\"Currency\":\"INR\",\"Ticket\":\"113803\",\"Name\":\"Futrelle, Mrs. Jacques Heath (Lily May Peel)\",\"Sex\":\"female\"}</td></tr><tr><td>List(67, Republic, Paul, Raj, 27, Tennis, Grand Vitara, Streamer, Backward, High Level, 31-Jul-24, 1-Jul-24, 31-Jul-24, INR, C.A. 29395, Nye, Mrs. (Elizabeth Ramell), female)</td><td>{\"Id\":67,\"Nick_Name\":\"Republic\",\"First_Name\":\"Paul\",\"Last_Name\":\"Raj\",\"Age\":27,\"Type\":\"Tennis\",\"Description\":\"Grand Vitara\",\"Commodity_Index\":\"Streamer\",\"Sensex_Category\":\"Backward\",\"Label_Type\":\"High Level\",\"Effective_Date\":\"31-Jul-24\",\"Start_Date\":\"1-Jul-24\",\"End_Date\":\"31-Jul-24\",\"Currency\":\"INR\",\"Ticket\":\"C.A. 29395\",\"Name\":\"Nye, Mrs. (Elizabeth Ramell)\",\"Sex\":\"female\"}</td></tr><tr><td>List(34, Batsman, Ricky, Pointing, 36, Cricketer, Grand Vitara, GASOLYN, FORD, medium, 30-Apr-23, 1-Apr-23, 30-Apr-23, INR, C.A. 24579, Wheadon, Mr. Edward H, male)</td><td>{\"Id\":34,\"Nick_Name\":\"Batsman\",\"First_Name\":\"Ricky\",\"Last_Name\":\"Pointing\",\"Age\":36,\"Type\":\"Cricketer\",\"Description\":\"Grand Vitara\",\"Commodity_Index\":\"GASOLYN\",\"Sensex_Category\":\"FORD\",\"Label_Type\":\"medium\",\"Effective_Date\":\"30-Apr-23\",\"Start_Date\":\"1-Apr-23\",\"End_Date\":\"30-Apr-23\",\"Currency\":\"INR\",\"Ticket\":\"C.A. 24579\",\"Name\":\"Wheadon, Mr. Edward H\",\"Sex\":\"male\"}</td></tr><tr><td>List(23, Drinker, Karjala, Hari, 33, Army, Grand Vitara, GASOLYN, FORD, medium, 31-May-24, 1-May-24, 31-May-24, INR, 330923, \"McGowan, Miss. Anna \"\"Annie\"\"\", female)</td><td>{\"Id\":23,\"Nick_Name\":\"Drinker\",\"First_Name\":\"Karjala\",\"Last_Name\":\"Hari\",\"Age\":33,\"Type\":\"Army\",\"Description\":\"Grand Vitara\",\"Commodity_Index\":\"GASOLYN\",\"Sensex_Category\":\"FORD\",\"Label_Type\":\"medium\",\"Effective_Date\":\"31-May-24\",\"Start_Date\":\"1-May-24\",\"End_Date\":\"31-May-24\",\"Currency\":\"INR\",\"Ticket\":\"330923\",\"Name\":\"\\\"McGowan, Miss. Anna \\\"\\\"Annie\\\"\\\"\\\"\",\"Sex\":\"female\"}</td></tr><tr><td>List(73, Builder, Golla, Rajasekar, 43, Builder, Baleno, Streamer, Backward, High Level, 1-Feb-23, 1-Feb-23, 1-Feb-23, INR, S.O.C. 14879, Hood, Mr. Ambrose Jr, male)</td><td>{\"Id\":73,\"Nick_Name\":\"Builder\",\"First_Name\":\"Golla\",\"Last_Name\":\"Rajasekar\",\"Age\":43,\"Type\":\"Builder\",\"Description\":\"Baleno\",\"Commodity_Index\":\"Streamer\",\"Sensex_Category\":\"Backward\",\"Label_Type\":\"High Level\",\"Effective_Date\":\"1-Feb-23\",\"Start_Date\":\"1-Feb-23\",\"End_Date\":\"1-Feb-23\",\"Currency\":\"INR\",\"Ticket\":\"S.O.C. 14879\",\"Name\":\"Hood, Mr. Ambrose Jr\",\"Sex\":\"male\"}</td></tr><tr><td>List(8, Marketing, Vemparla, Harish, 55, Manager, Engine_Base, DISCOUNT, Top, average, 6-Jan-25, 9-Jan-24, 6-Jan-25, INR, 349909, Palsson, Master. Gosta Leonard, male)</td><td>{\"Id\":8,\"Nick_Name\":\"Marketing\",\"First_Name\":\"Vemparla\",\"Last_Name\":\"Harish\",\"Age\":55,\"Type\":\"Manager\",\"Description\":\"Engine_Base\",\"Commodity_Index\":\"DISCOUNT\",\"Sensex_Category\":\"Top\",\"Label_Type\":\"average\",\"Effective_Date\":\"6-Jan-25\",\"Start_Date\":\"9-Jan-24\",\"End_Date\":\"6-Jan-25\",\"Currency\":\"INR\",\"Ticket\":\"349909\",\"Name\":\"Palsson, Master. Gosta Leonard\",\"Sex\":\"male\"}</td></tr><tr><td>List(40, Drinker, Karjala, Hari, 33, Army, Suzuki Swift, TUTFER, Forward, fwd-mass, 31-Mar-24, 1-Mar-24, 31-Mar-24, INR, 2651, Nicola-Yarred, Miss. Jamila, female)</td><td>{\"Id\":40,\"Nick_Name\":\"Drinker\",\"First_Name\":\"Karjala\",\"Last_Name\":\"Hari\",\"Age\":33,\"Type\":\"Army\",\"Description\":\"Suzuki Swift\",\"Commodity_Index\":\"TUTFER\",\"Sensex_Category\":\"Forward\",\"Label_Type\":\"fwd-mass\",\"Effective_Date\":\"31-Mar-24\",\"Start_Date\":\"1-Mar-24\",\"End_Date\":\"31-Mar-24\",\"Currency\":\"INR\",\"Ticket\":\"2651\",\"Name\":\"Nicola-Yarred, Miss. Jamila\",\"Sex\":\"female\"}</td></tr><tr><td>List(26, Politician, Devineni, Umesh, 58, Senior, Seltos, GASOLYN, FORD, medium, 31-Aug-24, 1-Aug-24, 31-Aug-24, INR, 347077, Asplund, Mrs. Carl Oscar (Selma Augusta Emilia Johansson), female)</td><td>{\"Id\":26,\"Nick_Name\":\"Politician\",\"First_Name\":\"Devineni\",\"Last_Name\":\"Umesh\",\"Age\":58,\"Type\":\"Senior\",\"Description\":\"Seltos\",\"Commodity_Index\":\"GASOLYN\",\"Sensex_Category\":\"FORD\",\"Label_Type\":\"medium\",\"Effective_Date\":\"31-Aug-24\",\"Start_Date\":\"1-Aug-24\",\"End_Date\":\"31-Aug-24\",\"Currency\":\"INR\",\"Ticket\":\"347077\",\"Name\":\"Asplund, Mrs. Carl Oscar (Selma Augusta Emilia Johansson)\",\"Sex\":\"female\"}</td></tr><tr><td>List(45, Design, Mohmad, Basha, 47, Enginner2, Suzuki Swift, TUTFER, Forward, fwd-mass, 30-Jun-24, 1-Jun-24, 30-Jun-24, INR, 330958, Devaney, Miss. Margaret Delia, female)</td><td>{\"Id\":45,\"Nick_Name\":\"Design\",\"First_Name\":\"Mohmad\",\"Last_Name\":\"Basha\",\"Age\":47,\"Type\":\"Enginner2\",\"Description\":\"Suzuki Swift\",\"Commodity_Index\":\"TUTFER\",\"Sensex_Category\":\"Forward\",\"Label_Type\":\"fwd-mass\",\"Effective_Date\":\"30-Jun-24\",\"Start_Date\":\"1-Jun-24\",\"End_Date\":\"30-Jun-24\",\"Currency\":\"INR\",\"Ticket\":\"330958\",\"Name\":\"Devaney, Miss. Margaret Delia\",\"Sex\":\"female\"}</td></tr><tr><td>List(6, Drinker, Karjala, Hari, 33, Army, Suzuki Swift, DISCOUNT, Top, average, 6-Mar-23, 7-Feb-23, 6-Mar-23, INR, 330877, Moran, Mr. James, male)</td><td>{\"Id\":6,\"Nick_Name\":\"Drinker\",\"First_Name\":\"Karjala\",\"Last_Name\":\"Hari\",\"Age\":33,\"Type\":\"Army\",\"Description\":\"Suzuki Swift\",\"Commodity_Index\":\"DISCOUNT\",\"Sensex_Category\":\"Top\",\"Label_Type\":\"average\",\"Effective_Date\":\"6-Mar-23\",\"Start_Date\":\"7-Feb-23\",\"End_Date\":\"6-Mar-23\",\"Currency\":\"INR\",\"Ticket\":\"330877\",\"Name\":\"Moran, Mr. James\",\"Sex\":\"male\"}</td></tr><tr><td>List(43, Politician, Devineni, Umesh, 58, Senior, Engine_Base, TUTFER, Forward, fwd-mass, 31-May-24, 1-May-24, 31-May-24, INR, 349253, Kraeff, Mr. Theodor, male)</td><td>{\"Id\":43,\"Nick_Name\":\"Politician\",\"First_Name\":\"Devineni\",\"Last_Name\":\"Umesh\",\"Age\":58,\"Type\":\"Senior\",\"Description\":\"Engine_Base\",\"Commodity_Index\":\"TUTFER\",\"Sensex_Category\":\"Forward\",\"Label_Type\":\"fwd-mass\",\"Effective_Date\":\"31-May-24\",\"Start_Date\":\"1-May-24\",\"End_Date\":\"31-May-24\",\"Currency\":\"INR\",\"Ticket\":\"349253\",\"Name\":\"Kraeff, Mr. Theodor\",\"Sex\":\"male\"}</td></tr><tr><td>List(65, jain, Vikas, Jain, 62, Priest, Grand Vitara, Streamer, Backward, High Level, 31-May-24, 1-May-24, 31-May-24, INR, PC 17605, Stewart, Mr. Albert A, male)</td><td>{\"Id\":65,\"Nick_Name\":\"jain\",\"First_Name\":\"Vikas\",\"Last_Name\":\"Jain\",\"Age\":62,\"Type\":\"Priest\",\"Description\":\"Grand Vitara\",\"Commodity_Index\":\"Streamer\",\"Sensex_Category\":\"Backward\",\"Label_Type\":\"High Level\",\"Effective_Date\":\"31-May-24\",\"Start_Date\":\"1-May-24\",\"End_Date\":\"31-May-24\",\"Currency\":\"INR\",\"Ticket\":\"PC 17605\",\"Name\":\"Stewart, Mr. Albert A\",\"Sex\":\"male\"}</td></tr><tr><td>List(79, Design, Mohmad, Basha, 47, Enginner2, Baleno, Streamer, Backward, High Level, 7-Feb-23, 7-Feb-23, 7-Feb-23, INR, 248738, Caldwell, Master. Alden Gates, male)</td><td>{\"Id\":79,\"Nick_Name\":\"Design\",\"First_Name\":\"Mohmad\",\"Last_Name\":\"Basha\",\"Age\":47,\"Type\":\"Enginner2\",\"Description\":\"Baleno\",\"Commodity_Index\":\"Streamer\",\"Sensex_Category\":\"Backward\",\"Label_Type\":\"High Level\",\"Effective_Date\":\"7-Feb-23\",\"Start_Date\":\"7-Feb-23\",\"End_Date\":\"7-Feb-23\",\"Currency\":\"INR\",\"Ticket\":\"248738\",\"Name\":\"Caldwell, Master. Alden Gates\",\"Sex\":\"male\"}</td></tr><tr><td>List(68, Batsman, Ricky, Pointing, 36, Cricketer, Baleno, Streamer, Backward, High Level, 31-Aug-24, 1-Aug-24, 31-Aug-24, INR, S.P. 3464, Crease, Mr. Ernest James, male)</td><td>{\"Id\":68,\"Nick_Name\":\"Batsman\",\"First_Name\":\"Ricky\",\"Last_Name\":\"Pointing\",\"Age\":36,\"Type\":\"Cricketer\",\"Description\":\"Baleno\",\"Commodity_Index\":\"Streamer\",\"Sensex_Category\":\"Backward\",\"Label_Type\":\"High Level\",\"Effective_Date\":\"31-Aug-24\",\"Start_Date\":\"1-Aug-24\",\"End_Date\":\"31-Aug-24\",\"Currency\":\"INR\",\"Ticket\":\"S.P. 3464\",\"Name\":\"Crease, Mr. Ernest James\",\"Sex\":\"male\"}</td></tr><tr><td>List(13, Lords, Jim, Jackson, 60, Paster, Verna, DISCOUNT, Top, average, 6-Jul-23, 7-Apr-23, 6-Jul-23, INR, A/5. 2151, Saundercock, Mr. William Henry, male)</td><td>{\"Id\":13,\"Nick_Name\":\"Lords\",\"First_Name\":\"Jim\",\"Last_Name\":\"Jackson\",\"Age\":60,\"Type\":\"Paster\",\"Description\":\"Verna\",\"Commodity_Index\":\"DISCOUNT\",\"Sensex_Category\":\"Top\",\"Label_Type\":\"average\",\"Effective_Date\":\"6-Jul-23\",\"Start_Date\":\"7-Apr-23\",\"End_Date\":\"6-Jul-23\",\"Currency\":\"INR\",\"Ticket\":\"A/5. 2151\",\"Name\":\"Saundercock, Mr. William Henry\",\"Sex\":\"male\"}</td></tr><tr><td>List(15, Boston, Ivan, Madrid, 34, Cricketer, Engine_Base, DISCOUNT, Top, average, 6-Oct-23, 7-Jul-23, 6-Oct-23, INR, 350406, Vestrom, Miss. Hulda Amanda Adolfina, female)</td><td>{\"Id\":15,\"Nick_Name\":\"Boston\",\"First_Name\":\"Ivan\",\"Last_Name\":\"Madrid\",\"Age\":34,\"Type\":\"Cricketer\",\"Description\":\"Engine_Base\",\"Commodity_Index\":\"DISCOUNT\",\"Sensex_Category\":\"Top\",\"Label_Type\":\"average\",\"Effective_Date\":\"6-Oct-23\",\"Start_Date\":\"7-Jul-23\",\"End_Date\":\"6-Oct-23\",\"Currency\":\"INR\",\"Ticket\":\"350406\",\"Name\":\"Vestrom, Miss. Hulda Amanda Adolfina\",\"Sex\":\"female\"}</td></tr><tr><td>List(99, jain, Vikas, Jain, 62, Priest, Suzuki Swift, Streamer, Backward, High Level, 27-Feb-23, 27-Feb-23, 27-Feb-23, INR, 231919, Doling, Mrs. John T (Ada Julia Bone), female)</td><td>{\"Id\":99,\"Nick_Name\":\"jain\",\"First_Name\":\"Vikas\",\"Last_Name\":\"Jain\",\"Age\":62,\"Type\":\"Priest\",\"Description\":\"Suzuki Swift\",\"Commodity_Index\":\"Streamer\",\"Sensex_Category\":\"Backward\",\"Label_Type\":\"High Level\",\"Effective_Date\":\"27-Feb-23\",\"Start_Date\":\"27-Feb-23\",\"End_Date\":\"27-Feb-23\",\"Currency\":\"INR\",\"Ticket\":\"231919\",\"Name\":\"Doling, Mrs. John T (Ada Julia Bone)\",\"Sex\":\"female\"}</td></tr><tr><td>List(66, Boston, Ivan, Madrid, 34, Cricketer, Baleno, Streamer, Backward, High Level, 30-Jun-24, 1-Jun-24, 30-Jun-24, INR, 2661, Moubarek, Master. Gerios, male)</td><td>{\"Id\":66,\"Nick_Name\":\"Boston\",\"First_Name\":\"Ivan\",\"Last_Name\":\"Madrid\",\"Age\":34,\"Type\":\"Cricketer\",\"Description\":\"Baleno\",\"Commodity_Index\":\"Streamer\",\"Sensex_Category\":\"Backward\",\"Label_Type\":\"High Level\",\"Effective_Date\":\"30-Jun-24\",\"Start_Date\":\"1-Jun-24\",\"End_Date\":\"30-Jun-24\",\"Currency\":\"INR\",\"Ticket\":\"2661\",\"Name\":\"Moubarek, Master. Gerios\",\"Sex\":\"male\"}</td></tr><tr><td>List(47, Lords, Jim, Jackson, 60, Paster, Grand Vitara, TUTFER, Forward, fwd-mass, 31-Jul-24, 1-Jul-24, 31-Jul-24, INR, 370371, Lennon, Mr. Denis, male)</td><td>{\"Id\":47,\"Nick_Name\":\"Lords\",\"First_Name\":\"Jim\",\"Last_Name\":\"Jackson\",\"Age\":60,\"Type\":\"Paster\",\"Description\":\"Grand Vitara\",\"Commodity_Index\":\"TUTFER\",\"Sensex_Category\":\"Forward\",\"Label_Type\":\"fwd-mass\",\"Effective_Date\":\"31-Jul-24\",\"Start_Date\":\"1-Jul-24\",\"End_Date\":\"31-Jul-24\",\"Currency\":\"INR\",\"Ticket\":\"370371\",\"Name\":\"Lennon, Mr. Denis\",\"Sex\":\"male\"}</td></tr><tr><td>List(22, Builder, Golla, Rajasekar, 43, Builder, Grand Vitara, GASOLYN, FORD, medium, 30-Apr-24, 1-Apr-24, 30-Apr-24, INR, 248698, Beesley, Mr. Lawrence, male)</td><td>{\"Id\":22,\"Nick_Name\":\"Builder\",\"First_Name\":\"Golla\",\"Last_Name\":\"Rajasekar\",\"Age\":43,\"Type\":\"Builder\",\"Description\":\"Grand Vitara\",\"Commodity_Index\":\"GASOLYN\",\"Sensex_Category\":\"FORD\",\"Label_Type\":\"medium\",\"Effective_Date\":\"30-Apr-24\",\"Start_Date\":\"1-Apr-24\",\"End_Date\":\"30-Apr-24\",\"Currency\":\"INR\",\"Ticket\":\"248698\",\"Name\":\"Beesley, Mr. Lawrence\",\"Sex\":\"male\"}</td></tr><tr><td>List(58, Army, Koyi, Damodar, 37, Bettalian, Grand I20, THERMAL, Forward, fwd-mass, 30-Apr-23, 1-Apr-23, 30-Apr-23, INR, 2697, Novel, Mr. Mansouer, male)</td><td>{\"Id\":58,\"Nick_Name\":\"Army\",\"First_Name\":\"Koyi\",\"Last_Name\":\"Damodar\",\"Age\":37,\"Type\":\"Bettalian\",\"Description\":\"Grand I20\",\"Commodity_Index\":\"THERMAL\",\"Sensex_Category\":\"Forward\",\"Label_Type\":\"fwd-mass\",\"Effective_Date\":\"30-Apr-23\",\"Start_Date\":\"1-Apr-23\",\"End_Date\":\"30-Apr-23\",\"Currency\":\"INR\",\"Ticket\":\"2697\",\"Name\":\"Novel, Mr. Mansouer\",\"Sex\":\"male\"}</td></tr><tr><td>List(19, everest, Paul, Irish, 35, Grade2, Grand Vitara, GASOLYN, FORD, medium, 31-Jan-24, 1-Jan-24, 31-Jan-24, INR, 345763, Vander Planke, Mrs. Julius (Emelia Maria Vandemoortele), female)</td><td>{\"Id\":19,\"Nick_Name\":\"everest\",\"First_Name\":\"Paul\",\"Last_Name\":\"Irish\",\"Age\":35,\"Type\":\"Grade2\",\"Description\":\"Grand Vitara\",\"Commodity_Index\":\"GASOLYN\",\"Sensex_Category\":\"FORD\",\"Label_Type\":\"medium\",\"Effective_Date\":\"31-Jan-24\",\"Start_Date\":\"1-Jan-24\",\"End_Date\":\"31-Jan-24\",\"Currency\":\"INR\",\"Ticket\":\"345763\",\"Name\":\"Vander Planke, Mrs. Julius (Emelia Maria Vandemoortele)\",\"Sex\":\"female\"}</td></tr><tr><td>List(37, moon, Erram, Rammohan, 29, Enginner1, Grand Vitara, GASOLYN, FORD, medium, 30-Jun-23, 1-Jun-23, 30-Jun-23, INR, 2677, Mamee, Mr. Hanna, male)</td><td>{\"Id\":37,\"Nick_Name\":\"moon\",\"First_Name\":\"Erram\",\"Last_Name\":\"Rammohan\",\"Age\":29,\"Type\":\"Enginner1\",\"Description\":\"Grand Vitara\",\"Commodity_Index\":\"GASOLYN\",\"Sensex_Category\":\"FORD\",\"Label_Type\":\"medium\",\"Effective_Date\":\"30-Jun-23\",\"Start_Date\":\"1-Jun-23\",\"End_Date\":\"30-Jun-23\",\"Currency\":\"INR\",\"Ticket\":\"2677\",\"Name\":\"Mamee, Mr. Hanna\",\"Sex\":\"male\"}</td></tr><tr><td>List(12, ADE, Enuganti, Suesh, 31, Resource, Grand Vitara, DISCOUNT, Top, average, 6-Jan-26, 7-Jan-25, 6-Jan-26, INR, 113783, Bonnell, Miss. Elizabeth, female)</td><td>{\"Id\":12,\"Nick_Name\":\"ADE\",\"First_Name\":\"Enuganti\",\"Last_Name\":\"Suesh\",\"Age\":31,\"Type\":\"Resource\",\"Description\":\"Grand Vitara\",\"Commodity_Index\":\"DISCOUNT\",\"Sensex_Category\":\"Top\",\"Label_Type\":\"average\",\"Effective_Date\":\"6-Jan-26\",\"Start_Date\":\"7-Jan-25\",\"End_Date\":\"6-Jan-26\",\"Currency\":\"INR\",\"Ticket\":\"113783\",\"Name\":\"Bonnell, Miss. Elizabeth\",\"Sex\":\"female\"}</td></tr><tr><td>List(72, service, Stalin, Rajesh, 40, Minister, Baleno, Streamer, Backward, High Level, 31-Dec-24, 1-Dec-24, 31-Dec-24, INR, CA 2144, Goodwin, Miss. Lillian Amy, female)</td><td>{\"Id\":72,\"Nick_Name\":\"service\",\"First_Name\":\"Stalin\",\"Last_Name\":\"Rajesh\",\"Age\":40,\"Type\":\"Minister\",\"Description\":\"Baleno\",\"Commodity_Index\":\"Streamer\",\"Sensex_Category\":\"Backward\",\"Label_Type\":\"High Level\",\"Effective_Date\":\"31-Dec-24\",\"Start_Date\":\"1-Dec-24\",\"End_Date\":\"31-Dec-24\",\"Currency\":\"INR\",\"Ticket\":\"CA 2144\",\"Name\":\"Goodwin, Miss. Lillian Amy\",\"Sex\":\"female\"}</td></tr><tr><td>List(91, Drinker, Karjala, Hari, 33, Army, Suzuki Swift, Streamer, Backward, High Level, 19-Feb-23, 19-Feb-23, 19-Feb-23, INR, 343276, Christmann, Mr. Emil, male)</td><td>{\"Id\":91,\"Nick_Name\":\"Drinker\",\"First_Name\":\"Karjala\",\"Last_Name\":\"Hari\",\"Age\":33,\"Type\":\"Army\",\"Description\":\"Suzuki Swift\",\"Commodity_Index\":\"Streamer\",\"Sensex_Category\":\"Backward\",\"Label_Type\":\"High Level\",\"Effective_Date\":\"19-Feb-23\",\"Start_Date\":\"19-Feb-23\",\"End_Date\":\"19-Feb-23\",\"Currency\":\"INR\",\"Ticket\":\"343276\",\"Name\":\"Christmann, Mr. Emil\",\"Sex\":\"male\"}</td></tr><tr><td>List(96, Design, Mohmad, Basha, 47, Enginner2, Suzuki Swift, Streamer, Backward, High Level, 24-Feb-23, 24-Feb-23, 24-Feb-23, INR, 374910, Shorney, Mr. Charles Joseph, male)</td><td>{\"Id\":96,\"Nick_Name\":\"Design\",\"First_Name\":\"Mohmad\",\"Last_Name\":\"Basha\",\"Age\":47,\"Type\":\"Enginner2\",\"Description\":\"Suzuki Swift\",\"Commodity_Index\":\"Streamer\",\"Sensex_Category\":\"Backward\",\"Label_Type\":\"High Level\",\"Effective_Date\":\"24-Feb-23\",\"Start_Date\":\"24-Feb-23\",\"End_Date\":\"24-Feb-23\",\"Currency\":\"INR\",\"Ticket\":\"374910\",\"Name\":\"Shorney, Mr. Charles Joseph\",\"Sex\":\"male\"}</td></tr><tr><td>List(46, ADE, Enuganti, Suesh, 31, Resource, Grand Vitara, TUTFER, Forward, fwd-mass, 30-Jun-24, 1-Jun-24, 30-Jun-24, INR, S.C./A.4. 23567, Rogers, Mr. William John, male)</td><td>{\"Id\":46,\"Nick_Name\":\"ADE\",\"First_Name\":\"Enuganti\",\"Last_Name\":\"Suesh\",\"Age\":31,\"Type\":\"Resource\",\"Description\":\"Grand Vitara\",\"Commodity_Index\":\"TUTFER\",\"Sensex_Category\":\"Forward\",\"Label_Type\":\"fwd-mass\",\"Effective_Date\":\"30-Jun-24\",\"Start_Date\":\"1-Jun-24\",\"End_Date\":\"30-Jun-24\",\"Currency\":\"INR\",\"Ticket\":\"S.C./A.4. 23567\",\"Name\":\"Rogers, Mr. William John\",\"Sex\":\"male\"}</td></tr><tr><td>List(11, Design, Mohmad, Basha, 47, Enginner2, Ertiga, DISCOUNT, Top, average, 6-Jan-26, 7-Jan-25, 6-Jan-26, INR, PP 9549, Sandstrom, Miss. Marguerite Rut, female)</td><td>{\"Id\":11,\"Nick_Name\":\"Design\",\"First_Name\":\"Mohmad\",\"Last_Name\":\"Basha\",\"Age\":47,\"Type\":\"Enginner2\",\"Description\":\"Ertiga\",\"Commodity_Index\":\"DISCOUNT\",\"Sensex_Category\":\"Top\",\"Label_Type\":\"average\",\"Effective_Date\":\"6-Jan-26\",\"Start_Date\":\"7-Jan-25\",\"End_Date\":\"6-Jan-26\",\"Currency\":\"INR\",\"Ticket\":\"PP 9549\",\"Name\":\"Sandstrom, Miss. Marguerite Rut\",\"Sex\":\"female\"}</td></tr><tr><td>List(93, Marketing, Vemparla, Harish, 55, Manager, Suzuki Swift, Streamer, Backward, High Level, 21-Feb-23, 21-Feb-23, 21-Feb-23, INR, W.E.P. 5734, Chaffee, Mr. Herbert Fuller, male)</td><td>{\"Id\":93,\"Nick_Name\":\"Marketing\",\"First_Name\":\"Vemparla\",\"Last_Name\":\"Harish\",\"Age\":55,\"Type\":\"Manager\",\"Description\":\"Suzuki Swift\",\"Commodity_Index\":\"Streamer\",\"Sensex_Category\":\"Backward\",\"Label_Type\":\"High Level\",\"Effective_Date\":\"21-Feb-23\",\"Start_Date\":\"21-Feb-23\",\"End_Date\":\"21-Feb-23\",\"Currency\":\"INR\",\"Ticket\":\"W.E.P. 5734\",\"Name\":\"Chaffee, Mr. Herbert Fuller\",\"Sex\":\"male\"}</td></tr><tr><td>List(36, everest, Paul, Irish, 35, Grade2, Engine_Base, GASOLYN, FORD, medium, 31-May-23, 1-May-23, 31-May-23, INR, 113789, Holverson, Mr. Alexander Oskar, male)</td><td>{\"Id\":36,\"Nick_Name\":\"everest\",\"First_Name\":\"Paul\",\"Last_Name\":\"Irish\",\"Age\":35,\"Type\":\"Grade2\",\"Description\":\"Engine_Base\",\"Commodity_Index\":\"GASOLYN\",\"Sensex_Category\":\"FORD\",\"Label_Type\":\"medium\",\"Effective_Date\":\"31-May-23\",\"Start_Date\":\"1-May-23\",\"End_Date\":\"31-May-23\",\"Currency\":\"INR\",\"Ticket\":\"113789\",\"Name\":\"Holverson, Mr. Alexander Oskar\",\"Sex\":\"male\"}</td></tr><tr><td>List(51, Batsman, Ricky, Pointing, 36, Cricketer, Grand Vitara, TUTFER, Forward, fwd-mass, 30-Nov-24, 1-Nov-24, 30-Nov-24, INR, 3101295, Panula, Master. Juha Niilo, male)</td><td>{\"Id\":51,\"Nick_Name\":\"Batsman\",\"First_Name\":\"Ricky\",\"Last_Name\":\"Pointing\",\"Age\":36,\"Type\":\"Cricketer\",\"Description\":\"Grand Vitara\",\"Commodity_Index\":\"TUTFER\",\"Sensex_Category\":\"Forward\",\"Label_Type\":\"fwd-mass\",\"Effective_Date\":\"30-Nov-24\",\"Start_Date\":\"1-Nov-24\",\"End_Date\":\"30-Nov-24\",\"Currency\":\"INR\",\"Ticket\":\"3101295\",\"Name\":\"Panula, Master. Juha Niilo\",\"Sex\":\"male\"}</td></tr><tr><td>List(60, Politician, Devineni, Umesh, 58, Senior, Grand I20, THERMAL, Forward, fwd-mass, 30-Jun-23, 1-Jun-23, 30-Jun-23, INR, CA 2144, Goodwin, Master. William Frederick, male)</td><td>{\"Id\":60,\"Nick_Name\":\"Politician\",\"First_Name\":\"Devineni\",\"Last_Name\":\"Umesh\",\"Age\":58,\"Type\":\"Senior\",\"Description\":\"Grand I20\",\"Commodity_Index\":\"THERMAL\",\"Sensex_Category\":\"Forward\",\"Label_Type\":\"fwd-mass\",\"Effective_Date\":\"30-Jun-23\",\"Start_Date\":\"1-Jun-23\",\"End_Date\":\"30-Jun-23\",\"Currency\":\"INR\",\"Ticket\":\"CA 2144\",\"Name\":\"Goodwin, Master. William Frederick\",\"Sex\":\"male\"}</td></tr><tr><td>List(95, Minister, Ponguru, Narayana, 56, Education, Suzuki Swift, Streamer, Backward, High Level, 23-Feb-23, 23-Feb-23, 23-Feb-23, INR, 364500, Coxon, Mr. Daniel, male)</td><td>{\"Id\":95,\"Nick_Name\":\"Minister\",\"First_Name\":\"Ponguru\",\"Last_Name\":\"Narayana\",\"Age\":56,\"Type\":\"Education\",\"Description\":\"Suzuki Swift\",\"Commodity_Index\":\"Streamer\",\"Sensex_Category\":\"Backward\",\"Label_Type\":\"High Level\",\"Effective_Date\":\"23-Feb-23\",\"Start_Date\":\"23-Feb-23\",\"End_Date\":\"23-Feb-23\",\"Currency\":\"INR\",\"Ticket\":\"364500\",\"Name\":\"Coxon, Mr. Daniel\",\"Sex\":\"male\"}</td></tr><tr><td>List(50, Republic, Paul, Raj, 27, Tennis, EXAUST_SYSTEM, TUTFER, Forward, fwd-mass, 31-Oct-24, 1-Oct-24, 31-Oct-24, INR, 349237, Arnold-Franchi, Mrs. Josef (Josefine Franchi), female)</td><td>{\"Id\":50,\"Nick_Name\":\"Republic\",\"First_Name\":\"Paul\",\"Last_Name\":\"Raj\",\"Age\":27,\"Type\":\"Tennis\",\"Description\":\"EXAUST_SYSTEM\",\"Commodity_Index\":\"TUTFER\",\"Sensex_Category\":\"Forward\",\"Label_Type\":\"fwd-mass\",\"Effective_Date\":\"31-Oct-24\",\"Start_Date\":\"1-Oct-24\",\"End_Date\":\"31-Oct-24\",\"Currency\":\"INR\",\"Ticket\":\"349237\",\"Name\":\"Arnold-Franchi, Mrs. Josef (Josefine Franchi)\",\"Sex\":\"female\"}</td></tr><tr><td>List(55, service, Stalin, Rajesh, 40, Minister, Grand Vitara, THERMAL, Forward, fwd-mass, 31-Jan-24, 1-Jan-24, 31-Jan-24, INR, 113509, Ostby, Mr. Engelhart Cornelius, male)</td><td>{\"Id\":55,\"Nick_Name\":\"service\",\"First_Name\":\"Stalin\",\"Last_Name\":\"Rajesh\",\"Age\":40,\"Type\":\"Minister\",\"Description\":\"Grand Vitara\",\"Commodity_Index\":\"THERMAL\",\"Sensex_Category\":\"Forward\",\"Label_Type\":\"fwd-mass\",\"Effective_Date\":\"31-Jan-24\",\"Start_Date\":\"1-Jan-24\",\"End_Date\":\"31-Jan-24\",\"Currency\":\"INR\",\"Ticket\":\"113509\",\"Name\":\"Ostby, Mr. Engelhart Cornelius\",\"Sex\":\"male\"}</td></tr><tr><td>List(92, Army, Koyi, Damodar, 37, Bettalian, Suzuki Swift, Streamer, Backward, High Level, 20-Feb-23, 20-Feb-23, 20-Feb-23, INR, 347466, Andreasson, Mr. Paul Edvin, male)</td><td>{\"Id\":92,\"Nick_Name\":\"Army\",\"First_Name\":\"Koyi\",\"Last_Name\":\"Damodar\",\"Age\":37,\"Type\":\"Bettalian\",\"Description\":\"Suzuki Swift\",\"Commodity_Index\":\"Streamer\",\"Sensex_Category\":\"Backward\",\"Label_Type\":\"High Level\",\"Effective_Date\":\"20-Feb-23\",\"Start_Date\":\"20-Feb-23\",\"End_Date\":\"20-Feb-23\",\"Currency\":\"INR\",\"Ticket\":\"347466\",\"Name\":\"Andreasson, Mr. Paul Edvin\",\"Sex\":\"male\"}</td></tr><tr><td>List(39, Builder, Golla, Rajasekar, 43, Builder, Engine_Base, TUTFER, Forward, fwd-mass, 29-Feb-24, 1-Feb-24, 29-Feb-24, INR, 345764, Vander Planke, Miss. Augusta Maria, female)</td><td>{\"Id\":39,\"Nick_Name\":\"Builder\",\"First_Name\":\"Golla\",\"Last_Name\":\"Rajasekar\",\"Age\":43,\"Type\":\"Builder\",\"Description\":\"Engine_Base\",\"Commodity_Index\":\"TUTFER\",\"Sensex_Category\":\"Forward\",\"Label_Type\":\"fwd-mass\",\"Effective_Date\":\"29-Feb-24\",\"Start_Date\":\"1-Feb-24\",\"End_Date\":\"29-Feb-24\",\"Currency\":\"INR\",\"Ticket\":\"345764\",\"Name\":\"Vander Planke, Miss. Augusta Maria\",\"Sex\":\"female\"}</td></tr><tr><td>List(97, ADE, Enuganti, Suesh, 31, Resource, Suzuki Swift, Streamer, Backward, High Level, 25-Feb-23, 25-Feb-23, 25-Feb-23, INR, PC 17754, Goldschmidt, Mr. George B, male)</td><td>{\"Id\":97,\"Nick_Name\":\"ADE\",\"First_Name\":\"Enuganti\",\"Last_Name\":\"Suesh\",\"Age\":31,\"Type\":\"Resource\",\"Description\":\"Suzuki Swift\",\"Commodity_Index\":\"Streamer\",\"Sensex_Category\":\"Backward\",\"Label_Type\":\"High Level\",\"Effective_Date\":\"25-Feb-23\",\"Start_Date\":\"25-Feb-23\",\"End_Date\":\"25-Feb-23\",\"Currency\":\"INR\",\"Ticket\":\"PC 17754\",\"Name\":\"Goldschmidt, Mr. George B\",\"Sex\":\"male\"}</td></tr><tr><td>List(31, jain, Vikas, Jain, 62, Priest, Grand Vitara, GASOLYN, FORD, medium, 6-Jan-23, 6-Jan-23, 6-Jan-23, INR, PC 17601, Uruchurtu, Don. Manuel E, male)</td><td>{\"Id\":31,\"Nick_Name\":\"jain\",\"First_Name\":\"Vikas\",\"Last_Name\":\"Jain\",\"Age\":62,\"Type\":\"Priest\",\"Description\":\"Grand Vitara\",\"Commodity_Index\":\"GASOLYN\",\"Sensex_Category\":\"FORD\",\"Label_Type\":\"medium\",\"Effective_Date\":\"6-Jan-23\",\"Start_Date\":\"6-Jan-23\",\"End_Date\":\"6-Jan-23\",\"Currency\":\"INR\",\"Ticket\":\"PC 17601\",\"Name\":\"Uruchurtu, Don. Manuel E\",\"Sex\":\"male\"}</td></tr><tr><td>List(94, Politician, Devineni, Umesh, 58, Senior, Suzuki Swift, Streamer, Backward, High Level, 22-Feb-23, 22-Feb-23, 22-Feb-23, INR, C.A. 2315, Dean, Mr. Bertram Frank, male)</td><td>{\"Id\":94,\"Nick_Name\":\"Politician\",\"First_Name\":\"Devineni\",\"Last_Name\":\"Umesh\",\"Age\":58,\"Type\":\"Senior\",\"Description\":\"Suzuki Swift\",\"Commodity_Index\":\"Streamer\",\"Sensex_Category\":\"Backward\",\"Label_Type\":\"High Level\",\"Effective_Date\":\"22-Feb-23\",\"Start_Date\":\"22-Feb-23\",\"End_Date\":\"22-Feb-23\",\"Currency\":\"INR\",\"Ticket\":\"C.A. 2315\",\"Name\":\"Dean, Mr. Bertram Frank\",\"Sex\":\"male\"}</td></tr><tr><td>List(78, Minister, Ponguru, Narayana, 56, Education, Baleno, Streamer, Backward, High Level, 6-Feb-23, 6-Feb-23, 6-Feb-23, INR, 374746, Moutal, Mr. Rahamin Haim, male)</td><td>{\"Id\":78,\"Nick_Name\":\"Minister\",\"First_Name\":\"Ponguru\",\"Last_Name\":\"Narayana\",\"Age\":56,\"Type\":\"Education\",\"Description\":\"Baleno\",\"Commodity_Index\":\"Streamer\",\"Sensex_Category\":\"Backward\",\"Label_Type\":\"High Level\",\"Effective_Date\":\"6-Feb-23\",\"Start_Date\":\"6-Feb-23\",\"End_Date\":\"6-Feb-23\",\"Currency\":\"INR\",\"Ticket\":\"374746\",\"Name\":\"Moutal, Mr. Rahamin Haim\",\"Sex\":\"male\"}</td></tr><tr><td>List(9, Politician, Devineni, Umesh, 58, Senior, Creta, DISCOUNT, Top, average, 6-Apr-23, 7-Mar-23, 6-Apr-23, INR, 347742, Johnson, Mrs. Oscar W (Elisabeth Vilhelmina Berg), female)</td><td>{\"Id\":9,\"Nick_Name\":\"Politician\",\"First_Name\":\"Devineni\",\"Last_Name\":\"Umesh\",\"Age\":58,\"Type\":\"Senior\",\"Description\":\"Creta\",\"Commodity_Index\":\"DISCOUNT\",\"Sensex_Category\":\"Top\",\"Label_Type\":\"average\",\"Effective_Date\":\"6-Apr-23\",\"Start_Date\":\"7-Mar-23\",\"End_Date\":\"6-Apr-23\",\"Currency\":\"INR\",\"Ticket\":\"347742\",\"Name\":\"Johnson, Mrs. Oscar W (Elisabeth Vilhelmina Berg)\",\"Sex\":\"female\"}</td></tr><tr><td>List(25, Marketing, Vemparla, Harish, 55, Manager, Grand Vitara, GASOLYN, FORD, medium, 31-Jul-24, 1-Jul-24, 31-Jul-24, INR, 349909, Palsson, Miss. Torborg Danira, female)</td><td>{\"Id\":25,\"Nick_Name\":\"Marketing\",\"First_Name\":\"Vemparla\",\"Last_Name\":\"Harish\",\"Age\":55,\"Type\":\"Manager\",\"Description\":\"Grand Vitara\",\"Commodity_Index\":\"GASOLYN\",\"Sensex_Category\":\"FORD\",\"Label_Type\":\"medium\",\"Effective_Date\":\"31-Jul-24\",\"Start_Date\":\"1-Jul-24\",\"End_Date\":\"31-Jul-24\",\"Currency\":\"INR\",\"Ticket\":\"349909\",\"Name\":\"Palsson, Miss. Torborg Danira\",\"Sex\":\"female\"}</td></tr><tr><td>List(14, jain, Vikas, Jain, 62, Priest, Grand Vitara, DISCOUNT, Top, average, 6-Jul-23, 7-Apr-23, 6-Jul-23, INR, 347082, Andersson, Mr. Anders Johan, male)</td><td>{\"Id\":14,\"Nick_Name\":\"jain\",\"First_Name\":\"Vikas\",\"Last_Name\":\"Jain\",\"Age\":62,\"Type\":\"Priest\",\"Description\":\"Grand Vitara\",\"Commodity_Index\":\"DISCOUNT\",\"Sensex_Category\":\"Top\",\"Label_Type\":\"average\",\"Effective_Date\":\"6-Jul-23\",\"Start_Date\":\"7-Apr-23\",\"End_Date\":\"6-Jul-23\",\"Currency\":\"INR\",\"Ticket\":\"347082\",\"Name\":\"Andersson, Mr. Anders Johan\",\"Sex\":\"male\"}</td></tr><tr><td>List(16, Republic, Paul, Raj, 27, Tennis, Engine_Base, DISCOUNT, Top, average, 6-Oct-23, 7-Jul-23, 6-Oct-23, INR, 248706, Hewlett, Mrs. (Mary D Kingcome) , female)</td><td>{\"Id\":16,\"Nick_Name\":\"Republic\",\"First_Name\":\"Paul\",\"Last_Name\":\"Raj\",\"Age\":27,\"Type\":\"Tennis\",\"Description\":\"Engine_Base\",\"Commodity_Index\":\"DISCOUNT\",\"Sensex_Category\":\"Top\",\"Label_Type\":\"average\",\"Effective_Date\":\"6-Oct-23\",\"Start_Date\":\"7-Jul-23\",\"End_Date\":\"6-Oct-23\",\"Currency\":\"INR\",\"Ticket\":\"248706\",\"Name\":\"Hewlett, Mrs. (Mary D Kingcome) \",\"Sex\":\"female\"}</td></tr><tr><td>List(10, Minister, Ponguru, Narayana, 56, Education, Brezza, DISCOUNT, Top, average, 6-Apr-23, 7-Mar-23, 6-Apr-23, INR, 237736, Nasser, Mrs. Nicholas (Adele Achem), female)</td><td>{\"Id\":10,\"Nick_Name\":\"Minister\",\"First_Name\":\"Ponguru\",\"Last_Name\":\"Narayana\",\"Age\":56,\"Type\":\"Education\",\"Description\":\"Brezza\",\"Commodity_Index\":\"DISCOUNT\",\"Sensex_Category\":\"Top\",\"Label_Type\":\"average\",\"Effective_Date\":\"6-Apr-23\",\"Start_Date\":\"7-Mar-23\",\"End_Date\":\"6-Apr-23\",\"Currency\":\"INR\",\"Ticket\":\"237736\",\"Name\":\"Nasser, Mrs. Nicholas (Adele Achem)\",\"Sex\":\"female\"}</td></tr><tr><td>List(62, Design, Mohmad, Basha, 47, Enginner2, Celerio, Streamer, Backward, High Level, 29-Feb-24, 1-Feb-24, 29-Feb-24, INR, 113572, Icard, Miss. Amelie, female)</td><td>{\"Id\":62,\"Nick_Name\":\"Design\",\"First_Name\":\"Mohmad\",\"Last_Name\":\"Basha\",\"Age\":47,\"Type\":\"Enginner2\",\"Description\":\"Celerio\",\"Commodity_Index\":\"Streamer\",\"Sensex_Category\":\"Backward\",\"Label_Type\":\"High Level\",\"Effective_Date\":\"29-Feb-24\",\"Start_Date\":\"1-Feb-24\",\"End_Date\":\"29-Feb-24\",\"Currency\":\"INR\",\"Ticket\":\"113572\",\"Name\":\"Icard, Miss. Amelie\",\"Sex\":\"female\"}</td></tr><tr><td>List(35, admin, John, Victor, 30, Grade1, Grand Vitara, GASOLYN, FORD, medium, 9-Jan-23, 9-Jan-23, 9-Jan-23, INR, PC 17604, Meyer, Mr. Edgar Joseph, male)</td><td>{\"Id\":35,\"Nick_Name\":\"admin\",\"First_Name\":\"John\",\"Last_Name\":\"Victor\",\"Age\":30,\"Type\":\"Grade1\",\"Description\":\"Grand Vitara\",\"Commodity_Index\":\"GASOLYN\",\"Sensex_Category\":\"FORD\",\"Label_Type\":\"medium\",\"Effective_Date\":\"9-Jan-23\",\"Start_Date\":\"9-Jan-23\",\"End_Date\":\"9-Jan-23\",\"Currency\":\"INR\",\"Ticket\":\"PC 17604\",\"Name\":\"Meyer, Mr. Edgar Joseph\",\"Sex\":\"male\"}</td></tr><tr><td>List(81, Lords, Jim, Jackson, 60, Paster, Baleno, Streamer, Backward, High Level, 9-Feb-23, 9-Feb-23, 9-Feb-23, INR, 345767, Waelens, Mr. Achille, male)</td><td>{\"Id\":81,\"Nick_Name\":\"Lords\",\"First_Name\":\"Jim\",\"Last_Name\":\"Jackson\",\"Age\":60,\"Type\":\"Paster\",\"Description\":\"Baleno\",\"Commodity_Index\":\"Streamer\",\"Sensex_Category\":\"Backward\",\"Label_Type\":\"High Level\",\"Effective_Date\":\"9-Feb-23\",\"Start_Date\":\"9-Feb-23\",\"End_Date\":\"9-Feb-23\",\"Currency\":\"INR\",\"Ticket\":\"345767\",\"Name\":\"Waelens, Mr. Achille\",\"Sex\":\"male\"}</td></tr><tr><td>List(85, Batsman, Ricky, Pointing, 36, Cricketer, Suzuki Swift, Streamer, Backward, High Level, 13-Feb-23, 13-Feb-23, 13-Feb-23, INR, SO/C 14885, Ilett, Miss. Bertha, female)</td><td>{\"Id\":85,\"Nick_Name\":\"Batsman\",\"First_Name\":\"Ricky\",\"Last_Name\":\"Pointing\",\"Age\":36,\"Type\":\"Cricketer\",\"Description\":\"Suzuki Swift\",\"Commodity_Index\":\"Streamer\",\"Sensex_Category\":\"Backward\",\"Label_Type\":\"High Level\",\"Effective_Date\":\"13-Feb-23\",\"Start_Date\":\"13-Feb-23\",\"End_Date\":\"13-Feb-23\",\"Currency\":\"INR\",\"Ticket\":\"SO/C 14885\",\"Name\":\"Ilett, Miss. Bertha\",\"Sex\":\"female\"}</td></tr></tbody></table></div>"
      ]
     },
     "metadata": {
      "application/vnd.databricks.v1+output": {
       "addedWidgets": {},
       "aggData": [],
       "aggError": "",
       "aggOverflow": false,
       "aggSchema": [],
       "aggSeriesLimitReached": false,
       "aggType": "",
       "arguments": {},
       "columnCustomDisplayInfos": {},
       "data": [
        [
         [
          17,
          "Batsman",
          "Ricky",
          "Pointing",
          36,
          "Cricketer",
          "Engine_Base",
          "FXGBP",
          "Social",
          "Social",
          "6-Jan-23",
          "4-Jan-23",
          "6-Jan-23",
          "INR",
          "382652",
          "Rice, Master. Eugene",
          "male"
         ],
         "{\"Id\":17,\"Nick_Name\":\"Batsman\",\"First_Name\":\"Ricky\",\"Last_Name\":\"Pointing\",\"Age\":36,\"Type\":\"Cricketer\",\"Description\":\"Engine_Base\",\"Commodity_Index\":\"FXGBP\",\"Sensex_Category\":\"Social\",\"Label_Type\":\"Social\",\"Effective_Date\":\"6-Jan-23\",\"Start_Date\":\"4-Jan-23\",\"End_Date\":\"6-Jan-23\",\"Currency\":\"INR\",\"Ticket\":\"382652\",\"Name\":\"Rice, Master. Eugene\",\"Sex\":\"male\"}"
        ],
        [
         [
          44,
          "Minister",
          "Ponguru",
          "Narayana",
          56,
          "Education",
          "Grand Vitara",
          "TUTFER",
          "Forward",
          "fwd-mass",
          "31-May-24",
          "1-May-24",
          "31-May-24",
          "INR",
          "SC/Paris 2123",
          "Laroche, Miss. Simonne Marie Anne Andree",
          "female"
         ],
         "{\"Id\":44,\"Nick_Name\":\"Minister\",\"First_Name\":\"Ponguru\",\"Last_Name\":\"Narayana\",\"Age\":56,\"Type\":\"Education\",\"Description\":\"Grand Vitara\",\"Commodity_Index\":\"TUTFER\",\"Sensex_Category\":\"Forward\",\"Label_Type\":\"fwd-mass\",\"Effective_Date\":\"31-May-24\",\"Start_Date\":\"1-May-24\",\"End_Date\":\"31-May-24\",\"Currency\":\"INR\",\"Ticket\":\"SC/Paris 2123\",\"Name\":\"Laroche, Miss. Simonne Marie Anne Andree\",\"Sex\":\"female\"}"
        ],
        [
         [
          100,
          "Boston",
          "Ivan",
          "Madrid",
          34,
          "Cricketer",
          "Grand Vitara",
          "Streamer",
          "Backward",
          "High Level",
          "28-Feb-23",
          "28-Feb-23",
          "28-Feb-23",
          "INR",
          "244367",
          "Kantor, Mr. Sinai",
          "male"
         ],
         "{\"Id\":100,\"Nick_Name\":\"Boston\",\"First_Name\":\"Ivan\",\"Last_Name\":\"Madrid\",\"Age\":34,\"Type\":\"Cricketer\",\"Description\":\"Grand Vitara\",\"Commodity_Index\":\"Streamer\",\"Sensex_Category\":\"Backward\",\"Label_Type\":\"High Level\",\"Effective_Date\":\"28-Feb-23\",\"Start_Date\":\"28-Feb-23\",\"End_Date\":\"28-Feb-23\",\"Currency\":\"INR\",\"Ticket\":\"244367\",\"Name\":\"Kantor, Mr. Sinai\",\"Sex\":\"male\"}"
        ],
        [
         [
          1,
          "admin",
          "John",
          "Victor",
          30,
          "Grade1",
          "Baleno",
          "DISCOUNT",
          "Top",
          "average",
          "6-Feb-23",
          "14-Jan-23",
          "6-Feb-23",
          "INR",
          "A/5 21171",
          "Braund, Mr. Owen Harris",
          "male"
         ],
         "{\"Id\":1,\"Nick_Name\":\"admin\",\"First_Name\":\"John\",\"Last_Name\":\"Victor\",\"Age\":30,\"Type\":\"Grade1\",\"Description\":\"Baleno\",\"Commodity_Index\":\"DISCOUNT\",\"Sensex_Category\":\"Top\",\"Label_Type\":\"average\",\"Effective_Date\":\"6-Feb-23\",\"Start_Date\":\"14-Jan-23\",\"End_Date\":\"6-Feb-23\",\"Currency\":\"INR\",\"Ticket\":\"A/5 21171\",\"Name\":\"Braund, Mr. Owen Harris\",\"Sex\":\"male\"}"
        ],
        [
         [
          76,
          "Marketing",
          "Vemparla",
          "Harish",
          55,
          "Manager",
          "Baleno",
          "Streamer",
          "Backward",
          "High Level",
          "4-Feb-23",
          "4-Feb-23",
          "4-Feb-23",
          "INR",
          "348123",
          "Moen, Mr. Sigurd Hansen",
          "male"
         ],
         "{\"Id\":76,\"Nick_Name\":\"Marketing\",\"First_Name\":\"Vemparla\",\"Last_Name\":\"Harish\",\"Age\":55,\"Type\":\"Manager\",\"Description\":\"Baleno\",\"Commodity_Index\":\"Streamer\",\"Sensex_Category\":\"Backward\",\"Label_Type\":\"High Level\",\"Effective_Date\":\"4-Feb-23\",\"Start_Date\":\"4-Feb-23\",\"End_Date\":\"4-Feb-23\",\"Currency\":\"INR\",\"Ticket\":\"348123\",\"Name\":\"Moen, Mr. Sigurd Hansen\",\"Sex\":\"male\"}"
        ],
        [
         [
          38,
          "service",
          "Stalin",
          "Rajesh",
          40,
          "Minister",
          "Grand Vitara",
          "TUTFER",
          "Forward",
          "fwd-mass",
          "31-Jan-24",
          "1-Jan-24",
          "31-Jan-24",
          "INR",
          "A./5. 2152",
          "Cann, Mr. Ernest Charles",
          "male"
         ],
         "{\"Id\":38,\"Nick_Name\":\"service\",\"First_Name\":\"Stalin\",\"Last_Name\":\"Rajesh\",\"Age\":40,\"Type\":\"Minister\",\"Description\":\"Grand Vitara\",\"Commodity_Index\":\"TUTFER\",\"Sensex_Category\":\"Forward\",\"Label_Type\":\"fwd-mass\",\"Effective_Date\":\"31-Jan-24\",\"Start_Date\":\"1-Jan-24\",\"End_Date\":\"31-Jan-24\",\"Currency\":\"INR\",\"Ticket\":\"A./5. 2152\",\"Name\":\"Cann, Mr. Ernest Charles\",\"Sex\":\"male\"}"
        ],
        [
         [
          32,
          "Boston",
          "Ivan",
          "Madrid",
          34,
          "Cricketer",
          "Suzuki Swift",
          "GASOLYN",
          "FORD",
          "medium",
          "7-Jan-23",
          "7-Jan-23",
          "7-Jan-23",
          "INR",
          "PC 17569",
          "Spencer, Mrs. William Augustus (Marie Eugenie)",
          "female"
         ],
         "{\"Id\":32,\"Nick_Name\":\"Boston\",\"First_Name\":\"Ivan\",\"Last_Name\":\"Madrid\",\"Age\":34,\"Type\":\"Cricketer\",\"Description\":\"Suzuki Swift\",\"Commodity_Index\":\"GASOLYN\",\"Sensex_Category\":\"FORD\",\"Label_Type\":\"medium\",\"Effective_Date\":\"7-Jan-23\",\"Start_Date\":\"7-Jan-23\",\"End_Date\":\"7-Jan-23\",\"Currency\":\"INR\",\"Ticket\":\"PC 17569\",\"Name\":\"Spencer, Mrs. William Augustus (Marie Eugenie)\",\"Sex\":\"female\"}"
        ],
        [
         [
          7,
          "Army",
          "Koyi",
          "Damodar",
          37,
          "Bettalian",
          "Wagon R",
          "DISCOUNT",
          "Top",
          "average",
          "6-Jan-25",
          "9-Jan-24",
          "6-Jan-25",
          "INR",
          "17463",
          "McCarthy, Mr. Timothy J",
          "male"
         ],
         "{\"Id\":7,\"Nick_Name\":\"Army\",\"First_Name\":\"Koyi\",\"Last_Name\":\"Damodar\",\"Age\":37,\"Type\":\"Bettalian\",\"Description\":\"Wagon R\",\"Commodity_Index\":\"DISCOUNT\",\"Sensex_Category\":\"Top\",\"Label_Type\":\"average\",\"Effective_Date\":\"6-Jan-25\",\"Start_Date\":\"9-Jan-24\",\"End_Date\":\"6-Jan-25\",\"Currency\":\"INR\",\"Ticket\":\"17463\",\"Name\":\"McCarthy, Mr. Timothy J\",\"Sex\":\"male\"}"
        ],
        [
         [
          71,
          "moon",
          "Erram",
          "Rammohan",
          29,
          "Enginner1",
          "Suzuki Swift",
          "Streamer",
          "Backward",
          "High Level",
          "30-Nov-24",
          "1-Nov-24",
          "30-Nov-24",
          "INR",
          "C.A. 33111",
          "Jenkin, Mr. Stephen Curnow",
          "male"
         ],
         "{\"Id\":71,\"Nick_Name\":\"moon\",\"First_Name\":\"Erram\",\"Last_Name\":\"Rammohan\",\"Age\":29,\"Type\":\"Enginner1\",\"Description\":\"Suzuki Swift\",\"Commodity_Index\":\"Streamer\",\"Sensex_Category\":\"Backward\",\"Label_Type\":\"High Level\",\"Effective_Date\":\"30-Nov-24\",\"Start_Date\":\"1-Nov-24\",\"End_Date\":\"30-Nov-24\",\"Currency\":\"INR\",\"Ticket\":\"C.A. 33111\",\"Name\":\"Jenkin, Mr. Stephen Curnow\",\"Sex\":\"male\"}"
        ],
        [
         [
          88,
          "moon",
          "Erram",
          "Rammohan",
          29,
          "Enginner1",
          "Suzuki Swift",
          "Streamer",
          "Backward",
          "High Level",
          "16-Feb-23",
          "16-Feb-23",
          "16-Feb-23",
          "INR",
          "SOTON/OQ 392086",
          "Slocovski, Mr. Selman Francis",
          "male"
         ],
         "{\"Id\":88,\"Nick_Name\":\"moon\",\"First_Name\":\"Erram\",\"Last_Name\":\"Rammohan\",\"Age\":29,\"Type\":\"Enginner1\",\"Description\":\"Suzuki Swift\",\"Commodity_Index\":\"Streamer\",\"Sensex_Category\":\"Backward\",\"Label_Type\":\"High Level\",\"Effective_Date\":\"16-Feb-23\",\"Start_Date\":\"16-Feb-23\",\"End_Date\":\"16-Feb-23\",\"Currency\":\"INR\",\"Ticket\":\"SOTON/OQ 392086\",\"Name\":\"Slocovski, Mr. Selman Francis\",\"Sex\":\"male\"}"
        ],
        [
         [
          2,
          "everest",
          "Paul",
          "Irish",
          35,
          "Grade2",
          "Engine_Base",
          "DISCOUNT",
          "Top",
          "average",
          "6-Feb-23",
          "14-Jan-23",
          "6-Feb-23",
          "INR",
          "PC 17599",
          "Cumings, Mrs. John Bradley (Florence Briggs Thayer)",
          "female"
         ],
         "{\"Id\":2,\"Nick_Name\":\"everest\",\"First_Name\":\"Paul\",\"Last_Name\":\"Irish\",\"Age\":35,\"Type\":\"Grade2\",\"Description\":\"Engine_Base\",\"Commodity_Index\":\"DISCOUNT\",\"Sensex_Category\":\"Top\",\"Label_Type\":\"average\",\"Effective_Date\":\"6-Feb-23\",\"Start_Date\":\"14-Jan-23\",\"End_Date\":\"6-Feb-23\",\"Currency\":\"INR\",\"Ticket\":\"PC 17599\",\"Name\":\"Cumings, Mrs. John Bradley (Florence Briggs Thayer)\",\"Sex\":\"female\"}"
        ],
        [
         [
          64,
          "Lords",
          "Jim",
          "Jackson",
          60,
          "Paster",
          "Grand Vitara",
          "Streamer",
          "Backward",
          "High Level",
          "30-Apr-24",
          "1-Apr-24",
          "30-Apr-24",
          "INR",
          "347088",
          "Skoog, Master. Harald",
          "male"
         ],
         "{\"Id\":64,\"Nick_Name\":\"Lords\",\"First_Name\":\"Jim\",\"Last_Name\":\"Jackson\",\"Age\":60,\"Type\":\"Paster\",\"Description\":\"Grand Vitara\",\"Commodity_Index\":\"Streamer\",\"Sensex_Category\":\"Backward\",\"Label_Type\":\"High Level\",\"Effective_Date\":\"30-Apr-24\",\"Start_Date\":\"1-Apr-24\",\"End_Date\":\"30-Apr-24\",\"Currency\":\"INR\",\"Ticket\":\"347088\",\"Name\":\"Skoog, Master. Harald\",\"Sex\":\"male\"}"
        ],
        [
         [
          41,
          "Army",
          "Koyi",
          "Damodar",
          37,
          "Bettalian",
          "Suzuki Swift",
          "TUTFER",
          "Forward",
          "fwd-mass",
          "30-Apr-24",
          "1-Apr-24",
          "30-Apr-24",
          "INR",
          "7546",
          "Ahlin, Mrs. Johan (Johanna Persdotter Larsson)",
          "female"
         ],
         "{\"Id\":41,\"Nick_Name\":\"Army\",\"First_Name\":\"Koyi\",\"Last_Name\":\"Damodar\",\"Age\":37,\"Type\":\"Bettalian\",\"Description\":\"Suzuki Swift\",\"Commodity_Index\":\"TUTFER\",\"Sensex_Category\":\"Forward\",\"Label_Type\":\"fwd-mass\",\"Effective_Date\":\"30-Apr-24\",\"Start_Date\":\"1-Apr-24\",\"End_Date\":\"30-Apr-24\",\"Currency\":\"INR\",\"Ticket\":\"7546\",\"Name\":\"Ahlin, Mrs. Johan (Johanna Persdotter Larsson)\",\"Sex\":\"female\"}"
        ],
        [
         [
          20,
          "moon",
          "Erram",
          "Rammohan",
          29,
          "Enginner1",
          "Grand Vitara",
          "GASOLYN",
          "FORD",
          "medium",
          "29-Feb-24",
          "1-Feb-24",
          "29-Feb-24",
          "INR",
          "2649",
          "Masselmani, Mrs. Fatima",
          "female"
         ],
         "{\"Id\":20,\"Nick_Name\":\"moon\",\"First_Name\":\"Erram\",\"Last_Name\":\"Rammohan\",\"Age\":29,\"Type\":\"Enginner1\",\"Description\":\"Grand Vitara\",\"Commodity_Index\":\"GASOLYN\",\"Sensex_Category\":\"FORD\",\"Label_Type\":\"medium\",\"Effective_Date\":\"29-Feb-24\",\"Start_Date\":\"1-Feb-24\",\"End_Date\":\"29-Feb-24\",\"Currency\":\"INR\",\"Ticket\":\"2649\",\"Name\":\"Masselmani, Mrs. Fatima\",\"Sex\":\"female\"}"
        ],
        [
         [
          24,
          "Army",
          "Koyi",
          "Damodar",
          37,
          "Bettalian",
          "Grand Vitara",
          "GASOLYN",
          "FORD",
          "medium",
          "30-Jun-24",
          "1-Jun-24",
          "30-Jun-24",
          "INR",
          "113788",
          "Sloper, Mr. William Thompson",
          "male"
         ],
         "{\"Id\":24,\"Nick_Name\":\"Army\",\"First_Name\":\"Koyi\",\"Last_Name\":\"Damodar\",\"Age\":37,\"Type\":\"Bettalian\",\"Description\":\"Grand Vitara\",\"Commodity_Index\":\"GASOLYN\",\"Sensex_Category\":\"FORD\",\"Label_Type\":\"medium\",\"Effective_Date\":\"30-Jun-24\",\"Start_Date\":\"1-Jun-24\",\"End_Date\":\"30-Jun-24\",\"Currency\":\"INR\",\"Ticket\":\"113788\",\"Name\":\"Sloper, Mr. William Thompson\",\"Sex\":\"male\"}"
        ],
        [
         [
          63,
          "ADE",
          "Enuganti",
          "Suesh",
          31,
          "Resource",
          "BENZ GLE",
          "Streamer",
          "Backward",
          "High Level",
          "31-Mar-24",
          "1-Mar-24",
          "31-Mar-24",
          "INR",
          "36973",
          "Harris, Mr. Henry Birkhardt",
          "male"
         ],
         "{\"Id\":63,\"Nick_Name\":\"ADE\",\"First_Name\":\"Enuganti\",\"Last_Name\":\"Suesh\",\"Age\":31,\"Type\":\"Resource\",\"Description\":\"BENZ GLE\",\"Commodity_Index\":\"Streamer\",\"Sensex_Category\":\"Backward\",\"Label_Type\":\"High Level\",\"Effective_Date\":\"31-Mar-24\",\"Start_Date\":\"1-Mar-24\",\"End_Date\":\"31-Mar-24\",\"Currency\":\"INR\",\"Ticket\":\"36973\",\"Name\":\"Harris, Mr. Henry Birkhardt\",\"Sex\":\"male\"}"
        ],
        [
         [
          53,
          "everest",
          "Paul",
          "Irish",
          35,
          "Grade2",
          "Creta",
          "TUTFER",
          "Forward",
          "fwd-mass",
          "9-Jan-23",
          "9-Jan-23",
          "9-Jan-23",
          "INR",
          "PC 17572",
          "Harper, Mrs. Henry Sleeper (Myna Haxtun)",
          "female"
         ],
         "{\"Id\":53,\"Nick_Name\":\"everest\",\"First_Name\":\"Paul\",\"Last_Name\":\"Irish\",\"Age\":35,\"Type\":\"Grade2\",\"Description\":\"Creta\",\"Commodity_Index\":\"TUTFER\",\"Sensex_Category\":\"Forward\",\"Label_Type\":\"fwd-mass\",\"Effective_Date\":\"9-Jan-23\",\"Start_Date\":\"9-Jan-23\",\"End_Date\":\"9-Jan-23\",\"Currency\":\"INR\",\"Ticket\":\"PC 17572\",\"Name\":\"Harper, Mrs. Henry Sleeper (Myna Haxtun)\",\"Sex\":\"female\"}"
        ],
        [
         [
          59,
          "Marketing",
          "Vemparla",
          "Harish",
          55,
          "Manager",
          "BENZ GLE",
          "THERMAL",
          "Forward",
          "fwd-mass",
          "31-May-23",
          "1-May-23",
          "31-May-23",
          "INR",
          "C.A. 34651",
          "West, Miss. Constance Mirium",
          "female"
         ],
         "{\"Id\":59,\"Nick_Name\":\"Marketing\",\"First_Name\":\"Vemparla\",\"Last_Name\":\"Harish\",\"Age\":55,\"Type\":\"Manager\",\"Description\":\"BENZ GLE\",\"Commodity_Index\":\"THERMAL\",\"Sensex_Category\":\"Forward\",\"Label_Type\":\"fwd-mass\",\"Effective_Date\":\"31-May-23\",\"Start_Date\":\"1-May-23\",\"End_Date\":\"31-May-23\",\"Currency\":\"INR\",\"Ticket\":\"C.A. 34651\",\"Name\":\"West, Miss. Constance Mirium\",\"Sex\":\"female\"}"
        ],
        [
         [
          87,
          "everest",
          "Paul",
          "Irish",
          35,
          "Grade2",
          "Suzuki Swift",
          "Streamer",
          "Backward",
          "High Level",
          "15-Feb-23",
          "15-Feb-23",
          "15-Feb-23",
          "INR",
          "W./C. 6608",
          "Ford, Mr. William Neal",
          "male"
         ],
         "{\"Id\":87,\"Nick_Name\":\"everest\",\"First_Name\":\"Paul\",\"Last_Name\":\"Irish\",\"Age\":35,\"Type\":\"Grade2\",\"Description\":\"Suzuki Swift\",\"Commodity_Index\":\"Streamer\",\"Sensex_Category\":\"Backward\",\"Label_Type\":\"High Level\",\"Effective_Date\":\"15-Feb-23\",\"Start_Date\":\"15-Feb-23\",\"End_Date\":\"15-Feb-23\",\"Currency\":\"INR\",\"Ticket\":\"W./C. 6608\",\"Name\":\"Ford, Mr. William Neal\",\"Sex\":\"male\"}"
        ],
        [
         [
          82,
          "jain",
          "Vikas",
          "Jain",
          62,
          "Priest",
          "Baleno",
          "Streamer",
          "Backward",
          "High Level",
          "10-Feb-23",
          "10-Feb-23",
          "10-Feb-23",
          "INR",
          "345779",
          "Sheerlinck, Mr. Jan Baptist",
          "male"
         ],
         "{\"Id\":82,\"Nick_Name\":\"jain\",\"First_Name\":\"Vikas\",\"Last_Name\":\"Jain\",\"Age\":62,\"Type\":\"Priest\",\"Description\":\"Baleno\",\"Commodity_Index\":\"Streamer\",\"Sensex_Category\":\"Backward\",\"Label_Type\":\"High Level\",\"Effective_Date\":\"10-Feb-23\",\"Start_Date\":\"10-Feb-23\",\"End_Date\":\"10-Feb-23\",\"Currency\":\"INR\",\"Ticket\":\"345779\",\"Name\":\"Sheerlinck, Mr. Jan Baptist\",\"Sex\":\"male\"}"
        ],
        [
         [
          null,
          null,
          null,
          null,
          null,
          null,
          null,
          null,
          null,
          null,
          null,
          null,
          null,
          null,
          null,
          null,
          null
         ],
         "{}"
        ],
        [
         [
          48,
          "jain",
          "Vikas",
          "Jain",
          62,
          "Priest",
          "Suzuki Swift",
          "TUTFER",
          "Forward",
          "fwd-mass",
          "31-Aug-24",
          "1-Aug-24",
          "31-Aug-24",
          "INR",
          "14311",
          "O'Driscoll, Miss. Bridget",
          "female"
         ],
         "{\"Id\":48,\"Nick_Name\":\"jain\",\"First_Name\":\"Vikas\",\"Last_Name\":\"Jain\",\"Age\":62,\"Type\":\"Priest\",\"Description\":\"Suzuki Swift\",\"Commodity_Index\":\"TUTFER\",\"Sensex_Category\":\"Forward\",\"Label_Type\":\"fwd-mass\",\"Effective_Date\":\"31-Aug-24\",\"Start_Date\":\"1-Aug-24\",\"End_Date\":\"31-Aug-24\",\"Currency\":\"INR\",\"Ticket\":\"14311\",\"Name\":\"O'Driscoll, Miss. Bridget\",\"Sex\":\"female\"}"
        ],
        [
         [
          98,
          "Lords",
          "Jim",
          "Jackson",
          60,
          "Paster",
          "Grand Vitara",
          "Streamer",
          "Backward",
          "High Level",
          "26-Feb-23",
          "26-Feb-23",
          "26-Feb-23",
          "INR",
          "PC 17759",
          "Greenfield, Mr. William Bertram",
          "male"
         ],
         "{\"Id\":98,\"Nick_Name\":\"Lords\",\"First_Name\":\"Jim\",\"Last_Name\":\"Jackson\",\"Age\":60,\"Type\":\"Paster\",\"Description\":\"Grand Vitara\",\"Commodity_Index\":\"Streamer\",\"Sensex_Category\":\"Backward\",\"Label_Type\":\"High Level\",\"Effective_Date\":\"26-Feb-23\",\"Start_Date\":\"26-Feb-23\",\"End_Date\":\"26-Feb-23\",\"Currency\":\"INR\",\"Ticket\":\"PC 17759\",\"Name\":\"Greenfield, Mr. William Bertram\",\"Sex\":\"male\"}"
        ],
        [
         [
          70,
          "everest",
          "Paul",
          "Irish",
          35,
          "Grade2",
          "Grand Vitara",
          "Streamer",
          "Backward",
          "High Level",
          "31-Oct-24",
          "1-Oct-24",
          "31-Oct-24",
          "INR",
          "315151",
          "Kink, Mr. Vincenz",
          "male"
         ],
         "{\"Id\":70,\"Nick_Name\":\"everest\",\"First_Name\":\"Paul\",\"Last_Name\":\"Irish\",\"Age\":35,\"Type\":\"Grade2\",\"Description\":\"Grand Vitara\",\"Commodity_Index\":\"Streamer\",\"Sensex_Category\":\"Backward\",\"Label_Type\":\"High Level\",\"Effective_Date\":\"31-Oct-24\",\"Start_Date\":\"1-Oct-24\",\"End_Date\":\"31-Oct-24\",\"Currency\":\"INR\",\"Ticket\":\"315151\",\"Name\":\"Kink, Mr. Vincenz\",\"Sex\":\"male\"}"
        ],
        [
         [
          89,
          "service",
          "Stalin",
          "Rajesh",
          40,
          "Minister",
          "Suzuki Swift",
          "Streamer",
          "Backward",
          "High Level",
          "17-Feb-23",
          "17-Feb-23",
          "17-Feb-23",
          "INR",
          "19950",
          "Fortune, Miss. Mabel Helen",
          "female"
         ],
         "{\"Id\":89,\"Nick_Name\":\"service\",\"First_Name\":\"Stalin\",\"Last_Name\":\"Rajesh\",\"Age\":40,\"Type\":\"Minister\",\"Description\":\"Suzuki Swift\",\"Commodity_Index\":\"Streamer\",\"Sensex_Category\":\"Backward\",\"Label_Type\":\"High Level\",\"Effective_Date\":\"17-Feb-23\",\"Start_Date\":\"17-Feb-23\",\"End_Date\":\"17-Feb-23\",\"Currency\":\"INR\",\"Ticket\":\"19950\",\"Name\":\"Fortune, Miss. Mabel Helen\",\"Sex\":\"female\"}"
        ],
        [
         [
          30,
          "Lords",
          "Jim",
          "Jackson",
          60,
          "Paster",
          "Grand Vitara",
          "GASOLYN",
          "FORD",
          "medium",
          "31-Dec-24",
          "1-Dec-24",
          "31-Dec-24",
          "INR",
          "349216",
          "Todoroff, Mr. Lalio",
          "male"
         ],
         "{\"Id\":30,\"Nick_Name\":\"Lords\",\"First_Name\":\"Jim\",\"Last_Name\":\"Jackson\",\"Age\":60,\"Type\":\"Paster\",\"Description\":\"Grand Vitara\",\"Commodity_Index\":\"GASOLYN\",\"Sensex_Category\":\"FORD\",\"Label_Type\":\"medium\",\"Effective_Date\":\"31-Dec-24\",\"Start_Date\":\"1-Dec-24\",\"End_Date\":\"31-Dec-24\",\"Currency\":\"INR\",\"Ticket\":\"349216\",\"Name\":\"Todoroff, Mr. Lalio\",\"Sex\":\"male\"}"
        ],
        [
         [
          86,
          "admin",
          "John",
          "Victor",
          30,
          "Grade1",
          "Suzuki Swift",
          "Streamer",
          "Backward",
          "High Level",
          "14-Feb-23",
          "14-Feb-23",
          "14-Feb-23",
          "INR",
          "3101278",
          "Backstrom, Mrs. Karl Alfred (Maria Mathilda Gustafsson)",
          "female"
         ],
         "{\"Id\":86,\"Nick_Name\":\"admin\",\"First_Name\":\"John\",\"Last_Name\":\"Victor\",\"Age\":30,\"Type\":\"Grade1\",\"Description\":\"Suzuki Swift\",\"Commodity_Index\":\"Streamer\",\"Sensex_Category\":\"Backward\",\"Label_Type\":\"High Level\",\"Effective_Date\":\"14-Feb-23\",\"Start_Date\":\"14-Feb-23\",\"End_Date\":\"14-Feb-23\",\"Currency\":\"INR\",\"Ticket\":\"3101278\",\"Name\":\"Backstrom, Mrs. Karl Alfred (Maria Mathilda Gustafsson)\",\"Sex\":\"female\"}"
        ],
        [
         [
          74,
          "Drinker",
          "Karjala",
          "Hari",
          33,
          "Army",
          "Baleno",
          "Streamer",
          "Backward",
          "High Level",
          "2-Feb-23",
          "2-Feb-23",
          "2-Feb-23",
          "INR",
          "2680",
          "Chronopoulos, Mr. Apostolos",
          "male"
         ],
         "{\"Id\":74,\"Nick_Name\":\"Drinker\",\"First_Name\":\"Karjala\",\"Last_Name\":\"Hari\",\"Age\":33,\"Type\":\"Army\",\"Description\":\"Baleno\",\"Commodity_Index\":\"Streamer\",\"Sensex_Category\":\"Backward\",\"Label_Type\":\"High Level\",\"Effective_Date\":\"2-Feb-23\",\"Start_Date\":\"2-Feb-23\",\"End_Date\":\"2-Feb-23\",\"Currency\":\"INR\",\"Ticket\":\"2680\",\"Name\":\"Chronopoulos, Mr. Apostolos\",\"Sex\":\"male\"}"
        ],
        [
         [
          5,
          "Builder",
          "Golla",
          "Rajasekar",
          43,
          "Builder",
          "Suzuki Swift",
          "DISCOUNT",
          "Top",
          "average",
          "6-Mar-23",
          "7-Feb-23",
          "6-Mar-23",
          "INR",
          "373450",
          "Allen, Mr. William Henry",
          "male"
         ],
         "{\"Id\":5,\"Nick_Name\":\"Builder\",\"First_Name\":\"Golla\",\"Last_Name\":\"Rajasekar\",\"Age\":43,\"Type\":\"Builder\",\"Description\":\"Suzuki Swift\",\"Commodity_Index\":\"DISCOUNT\",\"Sensex_Category\":\"Top\",\"Label_Type\":\"average\",\"Effective_Date\":\"6-Mar-23\",\"Start_Date\":\"7-Feb-23\",\"End_Date\":\"6-Mar-23\",\"Currency\":\"INR\",\"Ticket\":\"373450\",\"Name\":\"Allen, Mr. William Henry\",\"Sex\":\"male\"}"
        ],
        [
         [
          33,
          "Republic",
          "Paul",
          "Raj",
          27,
          "Tennis",
          "Ertiga",
          "GASOLYN",
          "FORD",
          "medium",
          "8-Jan-23",
          "8-Jan-23",
          "8-Jan-23",
          "INR",
          "335677",
          "Glynn, Miss. Mary Agatha",
          "female"
         ],
         "{\"Id\":33,\"Nick_Name\":\"Republic\",\"First_Name\":\"Paul\",\"Last_Name\":\"Raj\",\"Age\":27,\"Type\":\"Tennis\",\"Description\":\"Ertiga\",\"Commodity_Index\":\"GASOLYN\",\"Sensex_Category\":\"FORD\",\"Label_Type\":\"medium\",\"Effective_Date\":\"8-Jan-23\",\"Start_Date\":\"8-Jan-23\",\"End_Date\":\"8-Jan-23\",\"Currency\":\"INR\",\"Ticket\":\"335677\",\"Name\":\"Glynn, Miss. Mary Agatha\",\"Sex\":\"female\"}"
        ],
        [
         [
          21,
          "service",
          "Stalin",
          "Rajesh",
          40,
          "Minister",
          "Suzuki Swift",
          "GASOLYN",
          "FORD",
          "medium",
          "31-Mar-24",
          "1-Mar-24",
          "31-Mar-24",
          "INR",
          "239865",
          "Fynney, Mr. Joseph J",
          "male"
         ],
         "{\"Id\":21,\"Nick_Name\":\"service\",\"First_Name\":\"Stalin\",\"Last_Name\":\"Rajesh\",\"Age\":40,\"Type\":\"Minister\",\"Description\":\"Suzuki Swift\",\"Commodity_Index\":\"GASOLYN\",\"Sensex_Category\":\"FORD\",\"Label_Type\":\"medium\",\"Effective_Date\":\"31-Mar-24\",\"Start_Date\":\"1-Mar-24\",\"End_Date\":\"31-Mar-24\",\"Currency\":\"INR\",\"Ticket\":\"239865\",\"Name\":\"Fynney, Mr. Joseph J\",\"Sex\":\"male\"}"
        ],
        [
         [
          49,
          "Boston",
          "Ivan",
          "Madrid",
          34,
          "Cricketer",
          "Seltos",
          "TUTFER",
          "Forward",
          "fwd-mass",
          "30-Sep-24",
          "1-Sep-24",
          "30-Sep-24",
          "INR",
          "2662",
          "Samaan, Mr. Youssef",
          "male"
         ],
         "{\"Id\":49,\"Nick_Name\":\"Boston\",\"First_Name\":\"Ivan\",\"Last_Name\":\"Madrid\",\"Age\":34,\"Type\":\"Cricketer\",\"Description\":\"Seltos\",\"Commodity_Index\":\"TUTFER\",\"Sensex_Category\":\"Forward\",\"Label_Type\":\"fwd-mass\",\"Effective_Date\":\"30-Sep-24\",\"Start_Date\":\"1-Sep-24\",\"End_Date\":\"30-Sep-24\",\"Currency\":\"INR\",\"Ticket\":\"2662\",\"Name\":\"Samaan, Mr. Youssef\",\"Sex\":\"male\"}"
        ],
        [
         [
          84,
          "Republic",
          "Paul",
          "Raj",
          27,
          "Tennis",
          "Suzuki Swift",
          "Streamer",
          "Backward",
          "High Level",
          "12-Feb-23",
          "12-Feb-23",
          "12-Feb-23",
          "INR",
          "113059",
          "Carrau, Mr. Francisco M",
          "male"
         ],
         "{\"Id\":84,\"Nick_Name\":\"Republic\",\"First_Name\":\"Paul\",\"Last_Name\":\"Raj\",\"Age\":27,\"Type\":\"Tennis\",\"Description\":\"Suzuki Swift\",\"Commodity_Index\":\"Streamer\",\"Sensex_Category\":\"Backward\",\"Label_Type\":\"High Level\",\"Effective_Date\":\"12-Feb-23\",\"Start_Date\":\"12-Feb-23\",\"End_Date\":\"12-Feb-23\",\"Currency\":\"INR\",\"Ticket\":\"113059\",\"Name\":\"Carrau, Mr. Francisco M\",\"Sex\":\"male\"}"
        ],
        [
         [
          56,
          "Builder",
          "Golla",
          "Rajasekar",
          43,
          "Builder",
          "Grand Vitara",
          "THERMAL",
          "Forward",
          "fwd-mass",
          "29-Feb-24",
          "1-Feb-24",
          "29-Feb-24",
          "INR",
          "19947",
          "Woolner, Mr. Hugh",
          "male"
         ],
         "{\"Id\":56,\"Nick_Name\":\"Builder\",\"First_Name\":\"Golla\",\"Last_Name\":\"Rajasekar\",\"Age\":43,\"Type\":\"Builder\",\"Description\":\"Grand Vitara\",\"Commodity_Index\":\"THERMAL\",\"Sensex_Category\":\"Forward\",\"Label_Type\":\"fwd-mass\",\"Effective_Date\":\"29-Feb-24\",\"Start_Date\":\"1-Feb-24\",\"End_Date\":\"29-Feb-24\",\"Currency\":\"INR\",\"Ticket\":\"19947\",\"Name\":\"Woolner, Mr. Hugh\",\"Sex\":\"male\"}"
        ],
        [
         [
          77,
          "Politician",
          "Devineni",
          "Umesh",
          58,
          "Senior",
          "Baleno",
          "Streamer",
          "Backward",
          "High Level",
          "5-Feb-23",
          "5-Feb-23",
          "5-Feb-23",
          "INR",
          "349208",
          "Staneff, Mr. Ivan",
          "male"
         ],
         "{\"Id\":77,\"Nick_Name\":\"Politician\",\"First_Name\":\"Devineni\",\"Last_Name\":\"Umesh\",\"Age\":58,\"Type\":\"Senior\",\"Description\":\"Baleno\",\"Commodity_Index\":\"Streamer\",\"Sensex_Category\":\"Backward\",\"Label_Type\":\"High Level\",\"Effective_Date\":\"5-Feb-23\",\"Start_Date\":\"5-Feb-23\",\"End_Date\":\"5-Feb-23\",\"Currency\":\"INR\",\"Ticket\":\"349208\",\"Name\":\"Staneff, Mr. Ivan\",\"Sex\":\"male\"}"
        ],
        [
         [
          54,
          "moon",
          "Erram",
          "Rammohan",
          29,
          "Enginner1",
          "Grand Vitara",
          "TUTFER",
          "Forward",
          "fwd-mass",
          "10-Jan-23",
          "10-Jan-23",
          "10-Jan-23",
          "INR",
          "2926",
          "Faunthorpe, Mrs. Lizzie (Elizabeth Anne Wilkinson)",
          "female"
         ],
         "{\"Id\":54,\"Nick_Name\":\"moon\",\"First_Name\":\"Erram\",\"Last_Name\":\"Rammohan\",\"Age\":29,\"Type\":\"Enginner1\",\"Description\":\"Grand Vitara\",\"Commodity_Index\":\"TUTFER\",\"Sensex_Category\":\"Forward\",\"Label_Type\":\"fwd-mass\",\"Effective_Date\":\"10-Jan-23\",\"Start_Date\":\"10-Jan-23\",\"End_Date\":\"10-Jan-23\",\"Currency\":\"INR\",\"Ticket\":\"2926\",\"Name\":\"Faunthorpe, Mrs. Lizzie (Elizabeth Anne Wilkinson)\",\"Sex\":\"female\"}"
        ],
        [
         [
          3,
          "moon",
          "Erram",
          "Rammohan",
          29,
          "Enginner1",
          "Baleno",
          "DISCOUNT",
          "Top",
          "average",
          "8-Jan-24",
          "7-Oct-23",
          "8-Jan-24",
          "INR",
          "STON/O2. 3101282",
          "Heikkinen, Miss. Laina",
          "female"
         ],
         "{\"Id\":3,\"Nick_Name\":\"moon\",\"First_Name\":\"Erram\",\"Last_Name\":\"Rammohan\",\"Age\":29,\"Type\":\"Enginner1\",\"Description\":\"Baleno\",\"Commodity_Index\":\"DISCOUNT\",\"Sensex_Category\":\"Top\",\"Label_Type\":\"average\",\"Effective_Date\":\"8-Jan-24\",\"Start_Date\":\"7-Oct-23\",\"End_Date\":\"8-Jan-24\",\"Currency\":\"INR\",\"Ticket\":\"STON/O2. 3101282\",\"Name\":\"Heikkinen, Miss. Laina\",\"Sex\":\"female\"}"
        ],
        [
         [
          42,
          "Marketing",
          "Vemparla",
          "Harish",
          55,
          "Manager",
          "Engine_Base",
          "TUTFER",
          "Forward",
          "fwd-mass",
          "30-Apr-24",
          "1-Apr-24",
          "30-Apr-24",
          "INR",
          "11668",
          "Turpin, Mrs. William John Robert (Dorothy Ann Wonnacott)",
          "female"
         ],
         "{\"Id\":42,\"Nick_Name\":\"Marketing\",\"First_Name\":\"Vemparla\",\"Last_Name\":\"Harish\",\"Age\":55,\"Type\":\"Manager\",\"Description\":\"Engine_Base\",\"Commodity_Index\":\"TUTFER\",\"Sensex_Category\":\"Forward\",\"Label_Type\":\"fwd-mass\",\"Effective_Date\":\"30-Apr-24\",\"Start_Date\":\"1-Apr-24\",\"End_Date\":\"30-Apr-24\",\"Currency\":\"INR\",\"Ticket\":\"11668\",\"Name\":\"Turpin, Mrs. William John Robert (Dorothy Ann Wonnacott)\",\"Sex\":\"female\"}"
        ],
        [
         [
          18,
          "admin",
          "John",
          "Victor",
          30,
          "Grade1",
          "Engine_Base",
          "FXGBP",
          "Social",
          "Social",
          "6-Jan-23",
          "4-Jan-23",
          "6-Jan-23",
          "INR",
          "244373",
          "Williams, Mr. Charles Eugene",
          "male"
         ],
         "{\"Id\":18,\"Nick_Name\":\"admin\",\"First_Name\":\"John\",\"Last_Name\":\"Victor\",\"Age\":30,\"Type\":\"Grade1\",\"Description\":\"Engine_Base\",\"Commodity_Index\":\"FXGBP\",\"Sensex_Category\":\"Social\",\"Label_Type\":\"Social\",\"Effective_Date\":\"6-Jan-23\",\"Start_Date\":\"4-Jan-23\",\"End_Date\":\"6-Jan-23\",\"Currency\":\"INR\",\"Ticket\":\"244373\",\"Name\":\"Williams, Mr. Charles Eugene\",\"Sex\":\"male\"}"
        ],
        [
         [
          61,
          "Minister",
          "Ponguru",
          "Narayana",
          56,
          "Education",
          "BENZ GLE",
          "Streamer",
          "Backward",
          "High Level",
          "31-Jan-24",
          "1-Jan-24",
          "31-Jan-24",
          "INR",
          "2669",
          "Sirayanian, Mr. Orsen",
          "male"
         ],
         "{\"Id\":61,\"Nick_Name\":\"Minister\",\"First_Name\":\"Ponguru\",\"Last_Name\":\"Narayana\",\"Age\":56,\"Type\":\"Education\",\"Description\":\"BENZ GLE\",\"Commodity_Index\":\"Streamer\",\"Sensex_Category\":\"Backward\",\"Label_Type\":\"High Level\",\"Effective_Date\":\"31-Jan-24\",\"Start_Date\":\"1-Jan-24\",\"End_Date\":\"31-Jan-24\",\"Currency\":\"INR\",\"Ticket\":\"2669\",\"Name\":\"Sirayanian, Mr. Orsen\",\"Sex\":\"male\"}"
        ],
        [
         [
          75,
          "Army",
          "Koyi",
          "Damodar",
          37,
          "Bettalian",
          "Baleno",
          "Streamer",
          "Backward",
          "High Level",
          "3-Feb-23",
          "3-Feb-23",
          "3-Feb-23",
          "INR",
          "1601",
          "Bing, Mr. Lee",
          "male"
         ],
         "{\"Id\":75,\"Nick_Name\":\"Army\",\"First_Name\":\"Koyi\",\"Last_Name\":\"Damodar\",\"Age\":37,\"Type\":\"Bettalian\",\"Description\":\"Baleno\",\"Commodity_Index\":\"Streamer\",\"Sensex_Category\":\"Backward\",\"Label_Type\":\"High Level\",\"Effective_Date\":\"3-Feb-23\",\"Start_Date\":\"3-Feb-23\",\"End_Date\":\"3-Feb-23\",\"Currency\":\"INR\",\"Ticket\":\"1601\",\"Name\":\"Bing, Mr. Lee\",\"Sex\":\"male\"}"
        ],
        [
         [
          83,
          "Boston",
          "Ivan",
          "Madrid",
          34,
          "Cricketer",
          "Engine_Base",
          "Streamer",
          "Backward",
          "High Level",
          "11-Feb-23",
          "11-Feb-23",
          "11-Feb-23",
          "INR",
          "330932",
          "McDermott, Miss. Brigdet Delia",
          "female"
         ],
         "{\"Id\":83,\"Nick_Name\":\"Boston\",\"First_Name\":\"Ivan\",\"Last_Name\":\"Madrid\",\"Age\":34,\"Type\":\"Cricketer\",\"Description\":\"Engine_Base\",\"Commodity_Index\":\"Streamer\",\"Sensex_Category\":\"Backward\",\"Label_Type\":\"High Level\",\"Effective_Date\":\"11-Feb-23\",\"Start_Date\":\"11-Feb-23\",\"End_Date\":\"11-Feb-23\",\"Currency\":\"INR\",\"Ticket\":\"330932\",\"Name\":\"McDermott, Miss. Brigdet Delia\",\"Sex\":\"female\"}"
        ],
        [
         [
          29,
          "ADE",
          "Enuganti",
          "Suesh",
          31,
          "Resource",
          "Grand Vitara",
          "GASOLYN",
          "FORD",
          "medium",
          "30-Nov-24",
          "1-Nov-24",
          "30-Nov-24",
          "INR",
          "330959",
          "\"O'Dwyer, Miss. Ellen \"\"Nellie\"\"\"",
          "female"
         ],
         "{\"Id\":29,\"Nick_Name\":\"ADE\",\"First_Name\":\"Enuganti\",\"Last_Name\":\"Suesh\",\"Age\":31,\"Type\":\"Resource\",\"Description\":\"Grand Vitara\",\"Commodity_Index\":\"GASOLYN\",\"Sensex_Category\":\"FORD\",\"Label_Type\":\"medium\",\"Effective_Date\":\"30-Nov-24\",\"Start_Date\":\"1-Nov-24\",\"End_Date\":\"30-Nov-24\",\"Currency\":\"INR\",\"Ticket\":\"330959\",\"Name\":\"\\\"O'Dwyer, Miss. Ellen \\\"\\\"Nellie\\\"\\\"\\\"\",\"Sex\":\"female\"}"
        ],
        [
         [
          28,
          "Design",
          "Mohmad",
          "Basha",
          47,
          "Enginner2",
          "Grand Vitara",
          "GASOLYN",
          "FORD",
          "medium",
          "31-Oct-24",
          "1-Oct-24",
          "31-Oct-24",
          "INR",
          "19950",
          "Fortune, Mr. Charles Alexander",
          "male"
         ],
         "{\"Id\":28,\"Nick_Name\":\"Design\",\"First_Name\":\"Mohmad\",\"Last_Name\":\"Basha\",\"Age\":47,\"Type\":\"Enginner2\",\"Description\":\"Grand Vitara\",\"Commodity_Index\":\"GASOLYN\",\"Sensex_Category\":\"FORD\",\"Label_Type\":\"medium\",\"Effective_Date\":\"31-Oct-24\",\"Start_Date\":\"1-Oct-24\",\"End_Date\":\"31-Oct-24\",\"Currency\":\"INR\",\"Ticket\":\"19950\",\"Name\":\"Fortune, Mr. Charles Alexander\",\"Sex\":\"male\"}"
        ],
        [
         [
          69,
          "admin",
          "John",
          "Victor",
          30,
          "Grade1",
          "Baleno",
          "Streamer",
          "Backward",
          "High Level",
          "30-Sep-24",
          "1-Sep-24",
          "30-Sep-24",
          "INR",
          "3101281",
          "Andersson, Miss. Erna Alexandra",
          "female"
         ],
         "{\"Id\":69,\"Nick_Name\":\"admin\",\"First_Name\":\"John\",\"Last_Name\":\"Victor\",\"Age\":30,\"Type\":\"Grade1\",\"Description\":\"Baleno\",\"Commodity_Index\":\"Streamer\",\"Sensex_Category\":\"Backward\",\"Label_Type\":\"High Level\",\"Effective_Date\":\"30-Sep-24\",\"Start_Date\":\"1-Sep-24\",\"End_Date\":\"30-Sep-24\",\"Currency\":\"INR\",\"Ticket\":\"3101281\",\"Name\":\"Andersson, Miss. Erna Alexandra\",\"Sex\":\"female\"}"
        ],
        [
         [
          57,
          "Drinker",
          "Karjala",
          "Hari",
          33,
          "Army",
          "Brezza",
          "THERMAL",
          "Forward",
          "fwd-mass",
          "31-Mar-24",
          "1-Mar-24",
          "31-Mar-24",
          "INR",
          "C.A. 31026",
          "Rugg, Miss. Emily",
          "female"
         ],
         "{\"Id\":57,\"Nick_Name\":\"Drinker\",\"First_Name\":\"Karjala\",\"Last_Name\":\"Hari\",\"Age\":33,\"Type\":\"Army\",\"Description\":\"Brezza\",\"Commodity_Index\":\"THERMAL\",\"Sensex_Category\":\"Forward\",\"Label_Type\":\"fwd-mass\",\"Effective_Date\":\"31-Mar-24\",\"Start_Date\":\"1-Mar-24\",\"End_Date\":\"31-Mar-24\",\"Currency\":\"INR\",\"Ticket\":\"C.A. 31026\",\"Name\":\"Rugg, Miss. Emily\",\"Sex\":\"female\"}"
        ],
        [
         [
          90,
          "Builder",
          "Golla",
          "Rajasekar",
          43,
          "Builder",
          "Suzuki Swift",
          "Streamer",
          "Backward",
          "High Level",
          "18-Feb-23",
          "18-Feb-23",
          "18-Feb-23",
          "INR",
          "343275",
          "Celotti, Mr. Francesco",
          "male"
         ],
         "{\"Id\":90,\"Nick_Name\":\"Builder\",\"First_Name\":\"Golla\",\"Last_Name\":\"Rajasekar\",\"Age\":43,\"Type\":\"Builder\",\"Description\":\"Suzuki Swift\",\"Commodity_Index\":\"Streamer\",\"Sensex_Category\":\"Backward\",\"Label_Type\":\"High Level\",\"Effective_Date\":\"18-Feb-23\",\"Start_Date\":\"18-Feb-23\",\"End_Date\":\"18-Feb-23\",\"Currency\":\"INR\",\"Ticket\":\"343275\",\"Name\":\"Celotti, Mr. Francesco\",\"Sex\":\"male\"}"
        ],
        [
         [
          80,
          "ADE",
          "Enuganti",
          "Suesh",
          31,
          "Resource",
          "Baleno",
          "Streamer",
          "Backward",
          "High Level",
          "8-Feb-23",
          "8-Feb-23",
          "8-Feb-23",
          "INR",
          "364516",
          "Dowdell, Miss. Elizabeth",
          "female"
         ],
         "{\"Id\":80,\"Nick_Name\":\"ADE\",\"First_Name\":\"Enuganti\",\"Last_Name\":\"Suesh\",\"Age\":31,\"Type\":\"Resource\",\"Description\":\"Baleno\",\"Commodity_Index\":\"Streamer\",\"Sensex_Category\":\"Backward\",\"Label_Type\":\"High Level\",\"Effective_Date\":\"8-Feb-23\",\"Start_Date\":\"8-Feb-23\",\"End_Date\":\"8-Feb-23\",\"Currency\":\"INR\",\"Ticket\":\"364516\",\"Name\":\"Dowdell, Miss. Elizabeth\",\"Sex\":\"female\"}"
        ],
        [
         [
          52,
          "admin",
          "John",
          "Victor",
          30,
          "Grade1",
          "Baleno",
          "TUTFER",
          "Forward",
          "fwd-mass",
          "31-Dec-24",
          "1-Dec-24",
          "31-Dec-24",
          "INR",
          "A/4. 39886",
          "Nosworthy, Mr. Richard Cater",
          "male"
         ],
         "{\"Id\":52,\"Nick_Name\":\"admin\",\"First_Name\":\"John\",\"Last_Name\":\"Victor\",\"Age\":30,\"Type\":\"Grade1\",\"Description\":\"Baleno\",\"Commodity_Index\":\"TUTFER\",\"Sensex_Category\":\"Forward\",\"Label_Type\":\"fwd-mass\",\"Effective_Date\":\"31-Dec-24\",\"Start_Date\":\"1-Dec-24\",\"End_Date\":\"31-Dec-24\",\"Currency\":\"INR\",\"Ticket\":\"A/4. 39886\",\"Name\":\"Nosworthy, Mr. Richard Cater\",\"Sex\":\"male\"}"
        ],
        [
         [
          27,
          "Minister",
          "Ponguru",
          "Narayana",
          56,
          "Education",
          "Grand Vitara",
          "GASOLYN",
          "FORD",
          "medium",
          "30-Sep-24",
          "1-Sep-24",
          "30-Sep-24",
          "INR",
          "2631",
          "Emir, Mr. Farred Chehab",
          "male"
         ],
         "{\"Id\":27,\"Nick_Name\":\"Minister\",\"First_Name\":\"Ponguru\",\"Last_Name\":\"Narayana\",\"Age\":56,\"Type\":\"Education\",\"Description\":\"Grand Vitara\",\"Commodity_Index\":\"GASOLYN\",\"Sensex_Category\":\"FORD\",\"Label_Type\":\"medium\",\"Effective_Date\":\"30-Sep-24\",\"Start_Date\":\"1-Sep-24\",\"End_Date\":\"30-Sep-24\",\"Currency\":\"INR\",\"Ticket\":\"2631\",\"Name\":\"Emir, Mr. Farred Chehab\",\"Sex\":\"male\"}"
        ],
        [
         [
          4,
          "service",
          "Stalin",
          "Rajesh",
          40,
          "Minister",
          "Engine_Base",
          "DISCOUNT",
          "Top",
          "average",
          "8-Jan-24",
          "7-Oct-23",
          "8-Jan-24",
          "INR",
          "113803",
          "Futrelle, Mrs. Jacques Heath (Lily May Peel)",
          "female"
         ],
         "{\"Id\":4,\"Nick_Name\":\"service\",\"First_Name\":\"Stalin\",\"Last_Name\":\"Rajesh\",\"Age\":40,\"Type\":\"Minister\",\"Description\":\"Engine_Base\",\"Commodity_Index\":\"DISCOUNT\",\"Sensex_Category\":\"Top\",\"Label_Type\":\"average\",\"Effective_Date\":\"8-Jan-24\",\"Start_Date\":\"7-Oct-23\",\"End_Date\":\"8-Jan-24\",\"Currency\":\"INR\",\"Ticket\":\"113803\",\"Name\":\"Futrelle, Mrs. Jacques Heath (Lily May Peel)\",\"Sex\":\"female\"}"
        ],
        [
         [
          67,
          "Republic",
          "Paul",
          "Raj",
          27,
          "Tennis",
          "Grand Vitara",
          "Streamer",
          "Backward",
          "High Level",
          "31-Jul-24",
          "1-Jul-24",
          "31-Jul-24",
          "INR",
          "C.A. 29395",
          "Nye, Mrs. (Elizabeth Ramell)",
          "female"
         ],
         "{\"Id\":67,\"Nick_Name\":\"Republic\",\"First_Name\":\"Paul\",\"Last_Name\":\"Raj\",\"Age\":27,\"Type\":\"Tennis\",\"Description\":\"Grand Vitara\",\"Commodity_Index\":\"Streamer\",\"Sensex_Category\":\"Backward\",\"Label_Type\":\"High Level\",\"Effective_Date\":\"31-Jul-24\",\"Start_Date\":\"1-Jul-24\",\"End_Date\":\"31-Jul-24\",\"Currency\":\"INR\",\"Ticket\":\"C.A. 29395\",\"Name\":\"Nye, Mrs. (Elizabeth Ramell)\",\"Sex\":\"female\"}"
        ],
        [
         [
          34,
          "Batsman",
          "Ricky",
          "Pointing",
          36,
          "Cricketer",
          "Grand Vitara",
          "GASOLYN",
          "FORD",
          "medium",
          "30-Apr-23",
          "1-Apr-23",
          "30-Apr-23",
          "INR",
          "C.A. 24579",
          "Wheadon, Mr. Edward H",
          "male"
         ],
         "{\"Id\":34,\"Nick_Name\":\"Batsman\",\"First_Name\":\"Ricky\",\"Last_Name\":\"Pointing\",\"Age\":36,\"Type\":\"Cricketer\",\"Description\":\"Grand Vitara\",\"Commodity_Index\":\"GASOLYN\",\"Sensex_Category\":\"FORD\",\"Label_Type\":\"medium\",\"Effective_Date\":\"30-Apr-23\",\"Start_Date\":\"1-Apr-23\",\"End_Date\":\"30-Apr-23\",\"Currency\":\"INR\",\"Ticket\":\"C.A. 24579\",\"Name\":\"Wheadon, Mr. Edward H\",\"Sex\":\"male\"}"
        ],
        [
         [
          23,
          "Drinker",
          "Karjala",
          "Hari",
          33,
          "Army",
          "Grand Vitara",
          "GASOLYN",
          "FORD",
          "medium",
          "31-May-24",
          "1-May-24",
          "31-May-24",
          "INR",
          "330923",
          "\"McGowan, Miss. Anna \"\"Annie\"\"\"",
          "female"
         ],
         "{\"Id\":23,\"Nick_Name\":\"Drinker\",\"First_Name\":\"Karjala\",\"Last_Name\":\"Hari\",\"Age\":33,\"Type\":\"Army\",\"Description\":\"Grand Vitara\",\"Commodity_Index\":\"GASOLYN\",\"Sensex_Category\":\"FORD\",\"Label_Type\":\"medium\",\"Effective_Date\":\"31-May-24\",\"Start_Date\":\"1-May-24\",\"End_Date\":\"31-May-24\",\"Currency\":\"INR\",\"Ticket\":\"330923\",\"Name\":\"\\\"McGowan, Miss. Anna \\\"\\\"Annie\\\"\\\"\\\"\",\"Sex\":\"female\"}"
        ],
        [
         [
          73,
          "Builder",
          "Golla",
          "Rajasekar",
          43,
          "Builder",
          "Baleno",
          "Streamer",
          "Backward",
          "High Level",
          "1-Feb-23",
          "1-Feb-23",
          "1-Feb-23",
          "INR",
          "S.O.C. 14879",
          "Hood, Mr. Ambrose Jr",
          "male"
         ],
         "{\"Id\":73,\"Nick_Name\":\"Builder\",\"First_Name\":\"Golla\",\"Last_Name\":\"Rajasekar\",\"Age\":43,\"Type\":\"Builder\",\"Description\":\"Baleno\",\"Commodity_Index\":\"Streamer\",\"Sensex_Category\":\"Backward\",\"Label_Type\":\"High Level\",\"Effective_Date\":\"1-Feb-23\",\"Start_Date\":\"1-Feb-23\",\"End_Date\":\"1-Feb-23\",\"Currency\":\"INR\",\"Ticket\":\"S.O.C. 14879\",\"Name\":\"Hood, Mr. Ambrose Jr\",\"Sex\":\"male\"}"
        ],
        [
         [
          8,
          "Marketing",
          "Vemparla",
          "Harish",
          55,
          "Manager",
          "Engine_Base",
          "DISCOUNT",
          "Top",
          "average",
          "6-Jan-25",
          "9-Jan-24",
          "6-Jan-25",
          "INR",
          "349909",
          "Palsson, Master. Gosta Leonard",
          "male"
         ],
         "{\"Id\":8,\"Nick_Name\":\"Marketing\",\"First_Name\":\"Vemparla\",\"Last_Name\":\"Harish\",\"Age\":55,\"Type\":\"Manager\",\"Description\":\"Engine_Base\",\"Commodity_Index\":\"DISCOUNT\",\"Sensex_Category\":\"Top\",\"Label_Type\":\"average\",\"Effective_Date\":\"6-Jan-25\",\"Start_Date\":\"9-Jan-24\",\"End_Date\":\"6-Jan-25\",\"Currency\":\"INR\",\"Ticket\":\"349909\",\"Name\":\"Palsson, Master. Gosta Leonard\",\"Sex\":\"male\"}"
        ],
        [
         [
          40,
          "Drinker",
          "Karjala",
          "Hari",
          33,
          "Army",
          "Suzuki Swift",
          "TUTFER",
          "Forward",
          "fwd-mass",
          "31-Mar-24",
          "1-Mar-24",
          "31-Mar-24",
          "INR",
          "2651",
          "Nicola-Yarred, Miss. Jamila",
          "female"
         ],
         "{\"Id\":40,\"Nick_Name\":\"Drinker\",\"First_Name\":\"Karjala\",\"Last_Name\":\"Hari\",\"Age\":33,\"Type\":\"Army\",\"Description\":\"Suzuki Swift\",\"Commodity_Index\":\"TUTFER\",\"Sensex_Category\":\"Forward\",\"Label_Type\":\"fwd-mass\",\"Effective_Date\":\"31-Mar-24\",\"Start_Date\":\"1-Mar-24\",\"End_Date\":\"31-Mar-24\",\"Currency\":\"INR\",\"Ticket\":\"2651\",\"Name\":\"Nicola-Yarred, Miss. Jamila\",\"Sex\":\"female\"}"
        ],
        [
         [
          26,
          "Politician",
          "Devineni",
          "Umesh",
          58,
          "Senior",
          "Seltos",
          "GASOLYN",
          "FORD",
          "medium",
          "31-Aug-24",
          "1-Aug-24",
          "31-Aug-24",
          "INR",
          "347077",
          "Asplund, Mrs. Carl Oscar (Selma Augusta Emilia Johansson)",
          "female"
         ],
         "{\"Id\":26,\"Nick_Name\":\"Politician\",\"First_Name\":\"Devineni\",\"Last_Name\":\"Umesh\",\"Age\":58,\"Type\":\"Senior\",\"Description\":\"Seltos\",\"Commodity_Index\":\"GASOLYN\",\"Sensex_Category\":\"FORD\",\"Label_Type\":\"medium\",\"Effective_Date\":\"31-Aug-24\",\"Start_Date\":\"1-Aug-24\",\"End_Date\":\"31-Aug-24\",\"Currency\":\"INR\",\"Ticket\":\"347077\",\"Name\":\"Asplund, Mrs. Carl Oscar (Selma Augusta Emilia Johansson)\",\"Sex\":\"female\"}"
        ],
        [
         [
          45,
          "Design",
          "Mohmad",
          "Basha",
          47,
          "Enginner2",
          "Suzuki Swift",
          "TUTFER",
          "Forward",
          "fwd-mass",
          "30-Jun-24",
          "1-Jun-24",
          "30-Jun-24",
          "INR",
          "330958",
          "Devaney, Miss. Margaret Delia",
          "female"
         ],
         "{\"Id\":45,\"Nick_Name\":\"Design\",\"First_Name\":\"Mohmad\",\"Last_Name\":\"Basha\",\"Age\":47,\"Type\":\"Enginner2\",\"Description\":\"Suzuki Swift\",\"Commodity_Index\":\"TUTFER\",\"Sensex_Category\":\"Forward\",\"Label_Type\":\"fwd-mass\",\"Effective_Date\":\"30-Jun-24\",\"Start_Date\":\"1-Jun-24\",\"End_Date\":\"30-Jun-24\",\"Currency\":\"INR\",\"Ticket\":\"330958\",\"Name\":\"Devaney, Miss. Margaret Delia\",\"Sex\":\"female\"}"
        ],
        [
         [
          6,
          "Drinker",
          "Karjala",
          "Hari",
          33,
          "Army",
          "Suzuki Swift",
          "DISCOUNT",
          "Top",
          "average",
          "6-Mar-23",
          "7-Feb-23",
          "6-Mar-23",
          "INR",
          "330877",
          "Moran, Mr. James",
          "male"
         ],
         "{\"Id\":6,\"Nick_Name\":\"Drinker\",\"First_Name\":\"Karjala\",\"Last_Name\":\"Hari\",\"Age\":33,\"Type\":\"Army\",\"Description\":\"Suzuki Swift\",\"Commodity_Index\":\"DISCOUNT\",\"Sensex_Category\":\"Top\",\"Label_Type\":\"average\",\"Effective_Date\":\"6-Mar-23\",\"Start_Date\":\"7-Feb-23\",\"End_Date\":\"6-Mar-23\",\"Currency\":\"INR\",\"Ticket\":\"330877\",\"Name\":\"Moran, Mr. James\",\"Sex\":\"male\"}"
        ],
        [
         [
          43,
          "Politician",
          "Devineni",
          "Umesh",
          58,
          "Senior",
          "Engine_Base",
          "TUTFER",
          "Forward",
          "fwd-mass",
          "31-May-24",
          "1-May-24",
          "31-May-24",
          "INR",
          "349253",
          "Kraeff, Mr. Theodor",
          "male"
         ],
         "{\"Id\":43,\"Nick_Name\":\"Politician\",\"First_Name\":\"Devineni\",\"Last_Name\":\"Umesh\",\"Age\":58,\"Type\":\"Senior\",\"Description\":\"Engine_Base\",\"Commodity_Index\":\"TUTFER\",\"Sensex_Category\":\"Forward\",\"Label_Type\":\"fwd-mass\",\"Effective_Date\":\"31-May-24\",\"Start_Date\":\"1-May-24\",\"End_Date\":\"31-May-24\",\"Currency\":\"INR\",\"Ticket\":\"349253\",\"Name\":\"Kraeff, Mr. Theodor\",\"Sex\":\"male\"}"
        ],
        [
         [
          65,
          "jain",
          "Vikas",
          "Jain",
          62,
          "Priest",
          "Grand Vitara",
          "Streamer",
          "Backward",
          "High Level",
          "31-May-24",
          "1-May-24",
          "31-May-24",
          "INR",
          "PC 17605",
          "Stewart, Mr. Albert A",
          "male"
         ],
         "{\"Id\":65,\"Nick_Name\":\"jain\",\"First_Name\":\"Vikas\",\"Last_Name\":\"Jain\",\"Age\":62,\"Type\":\"Priest\",\"Description\":\"Grand Vitara\",\"Commodity_Index\":\"Streamer\",\"Sensex_Category\":\"Backward\",\"Label_Type\":\"High Level\",\"Effective_Date\":\"31-May-24\",\"Start_Date\":\"1-May-24\",\"End_Date\":\"31-May-24\",\"Currency\":\"INR\",\"Ticket\":\"PC 17605\",\"Name\":\"Stewart, Mr. Albert A\",\"Sex\":\"male\"}"
        ],
        [
         [
          79,
          "Design",
          "Mohmad",
          "Basha",
          47,
          "Enginner2",
          "Baleno",
          "Streamer",
          "Backward",
          "High Level",
          "7-Feb-23",
          "7-Feb-23",
          "7-Feb-23",
          "INR",
          "248738",
          "Caldwell, Master. Alden Gates",
          "male"
         ],
         "{\"Id\":79,\"Nick_Name\":\"Design\",\"First_Name\":\"Mohmad\",\"Last_Name\":\"Basha\",\"Age\":47,\"Type\":\"Enginner2\",\"Description\":\"Baleno\",\"Commodity_Index\":\"Streamer\",\"Sensex_Category\":\"Backward\",\"Label_Type\":\"High Level\",\"Effective_Date\":\"7-Feb-23\",\"Start_Date\":\"7-Feb-23\",\"End_Date\":\"7-Feb-23\",\"Currency\":\"INR\",\"Ticket\":\"248738\",\"Name\":\"Caldwell, Master. Alden Gates\",\"Sex\":\"male\"}"
        ],
        [
         [
          68,
          "Batsman",
          "Ricky",
          "Pointing",
          36,
          "Cricketer",
          "Baleno",
          "Streamer",
          "Backward",
          "High Level",
          "31-Aug-24",
          "1-Aug-24",
          "31-Aug-24",
          "INR",
          "S.P. 3464",
          "Crease, Mr. Ernest James",
          "male"
         ],
         "{\"Id\":68,\"Nick_Name\":\"Batsman\",\"First_Name\":\"Ricky\",\"Last_Name\":\"Pointing\",\"Age\":36,\"Type\":\"Cricketer\",\"Description\":\"Baleno\",\"Commodity_Index\":\"Streamer\",\"Sensex_Category\":\"Backward\",\"Label_Type\":\"High Level\",\"Effective_Date\":\"31-Aug-24\",\"Start_Date\":\"1-Aug-24\",\"End_Date\":\"31-Aug-24\",\"Currency\":\"INR\",\"Ticket\":\"S.P. 3464\",\"Name\":\"Crease, Mr. Ernest James\",\"Sex\":\"male\"}"
        ],
        [
         [
          13,
          "Lords",
          "Jim",
          "Jackson",
          60,
          "Paster",
          "Verna",
          "DISCOUNT",
          "Top",
          "average",
          "6-Jul-23",
          "7-Apr-23",
          "6-Jul-23",
          "INR",
          "A/5. 2151",
          "Saundercock, Mr. William Henry",
          "male"
         ],
         "{\"Id\":13,\"Nick_Name\":\"Lords\",\"First_Name\":\"Jim\",\"Last_Name\":\"Jackson\",\"Age\":60,\"Type\":\"Paster\",\"Description\":\"Verna\",\"Commodity_Index\":\"DISCOUNT\",\"Sensex_Category\":\"Top\",\"Label_Type\":\"average\",\"Effective_Date\":\"6-Jul-23\",\"Start_Date\":\"7-Apr-23\",\"End_Date\":\"6-Jul-23\",\"Currency\":\"INR\",\"Ticket\":\"A/5. 2151\",\"Name\":\"Saundercock, Mr. William Henry\",\"Sex\":\"male\"}"
        ],
        [
         [
          15,
          "Boston",
          "Ivan",
          "Madrid",
          34,
          "Cricketer",
          "Engine_Base",
          "DISCOUNT",
          "Top",
          "average",
          "6-Oct-23",
          "7-Jul-23",
          "6-Oct-23",
          "INR",
          "350406",
          "Vestrom, Miss. Hulda Amanda Adolfina",
          "female"
         ],
         "{\"Id\":15,\"Nick_Name\":\"Boston\",\"First_Name\":\"Ivan\",\"Last_Name\":\"Madrid\",\"Age\":34,\"Type\":\"Cricketer\",\"Description\":\"Engine_Base\",\"Commodity_Index\":\"DISCOUNT\",\"Sensex_Category\":\"Top\",\"Label_Type\":\"average\",\"Effective_Date\":\"6-Oct-23\",\"Start_Date\":\"7-Jul-23\",\"End_Date\":\"6-Oct-23\",\"Currency\":\"INR\",\"Ticket\":\"350406\",\"Name\":\"Vestrom, Miss. Hulda Amanda Adolfina\",\"Sex\":\"female\"}"
        ],
        [
         [
          99,
          "jain",
          "Vikas",
          "Jain",
          62,
          "Priest",
          "Suzuki Swift",
          "Streamer",
          "Backward",
          "High Level",
          "27-Feb-23",
          "27-Feb-23",
          "27-Feb-23",
          "INR",
          "231919",
          "Doling, Mrs. John T (Ada Julia Bone)",
          "female"
         ],
         "{\"Id\":99,\"Nick_Name\":\"jain\",\"First_Name\":\"Vikas\",\"Last_Name\":\"Jain\",\"Age\":62,\"Type\":\"Priest\",\"Description\":\"Suzuki Swift\",\"Commodity_Index\":\"Streamer\",\"Sensex_Category\":\"Backward\",\"Label_Type\":\"High Level\",\"Effective_Date\":\"27-Feb-23\",\"Start_Date\":\"27-Feb-23\",\"End_Date\":\"27-Feb-23\",\"Currency\":\"INR\",\"Ticket\":\"231919\",\"Name\":\"Doling, Mrs. John T (Ada Julia Bone)\",\"Sex\":\"female\"}"
        ],
        [
         [
          66,
          "Boston",
          "Ivan",
          "Madrid",
          34,
          "Cricketer",
          "Baleno",
          "Streamer",
          "Backward",
          "High Level",
          "30-Jun-24",
          "1-Jun-24",
          "30-Jun-24",
          "INR",
          "2661",
          "Moubarek, Master. Gerios",
          "male"
         ],
         "{\"Id\":66,\"Nick_Name\":\"Boston\",\"First_Name\":\"Ivan\",\"Last_Name\":\"Madrid\",\"Age\":34,\"Type\":\"Cricketer\",\"Description\":\"Baleno\",\"Commodity_Index\":\"Streamer\",\"Sensex_Category\":\"Backward\",\"Label_Type\":\"High Level\",\"Effective_Date\":\"30-Jun-24\",\"Start_Date\":\"1-Jun-24\",\"End_Date\":\"30-Jun-24\",\"Currency\":\"INR\",\"Ticket\":\"2661\",\"Name\":\"Moubarek, Master. Gerios\",\"Sex\":\"male\"}"
        ],
        [
         [
          47,
          "Lords",
          "Jim",
          "Jackson",
          60,
          "Paster",
          "Grand Vitara",
          "TUTFER",
          "Forward",
          "fwd-mass",
          "31-Jul-24",
          "1-Jul-24",
          "31-Jul-24",
          "INR",
          "370371",
          "Lennon, Mr. Denis",
          "male"
         ],
         "{\"Id\":47,\"Nick_Name\":\"Lords\",\"First_Name\":\"Jim\",\"Last_Name\":\"Jackson\",\"Age\":60,\"Type\":\"Paster\",\"Description\":\"Grand Vitara\",\"Commodity_Index\":\"TUTFER\",\"Sensex_Category\":\"Forward\",\"Label_Type\":\"fwd-mass\",\"Effective_Date\":\"31-Jul-24\",\"Start_Date\":\"1-Jul-24\",\"End_Date\":\"31-Jul-24\",\"Currency\":\"INR\",\"Ticket\":\"370371\",\"Name\":\"Lennon, Mr. Denis\",\"Sex\":\"male\"}"
        ],
        [
         [
          22,
          "Builder",
          "Golla",
          "Rajasekar",
          43,
          "Builder",
          "Grand Vitara",
          "GASOLYN",
          "FORD",
          "medium",
          "30-Apr-24",
          "1-Apr-24",
          "30-Apr-24",
          "INR",
          "248698",
          "Beesley, Mr. Lawrence",
          "male"
         ],
         "{\"Id\":22,\"Nick_Name\":\"Builder\",\"First_Name\":\"Golla\",\"Last_Name\":\"Rajasekar\",\"Age\":43,\"Type\":\"Builder\",\"Description\":\"Grand Vitara\",\"Commodity_Index\":\"GASOLYN\",\"Sensex_Category\":\"FORD\",\"Label_Type\":\"medium\",\"Effective_Date\":\"30-Apr-24\",\"Start_Date\":\"1-Apr-24\",\"End_Date\":\"30-Apr-24\",\"Currency\":\"INR\",\"Ticket\":\"248698\",\"Name\":\"Beesley, Mr. Lawrence\",\"Sex\":\"male\"}"
        ],
        [
         [
          58,
          "Army",
          "Koyi",
          "Damodar",
          37,
          "Bettalian",
          "Grand I20",
          "THERMAL",
          "Forward",
          "fwd-mass",
          "30-Apr-23",
          "1-Apr-23",
          "30-Apr-23",
          "INR",
          "2697",
          "Novel, Mr. Mansouer",
          "male"
         ],
         "{\"Id\":58,\"Nick_Name\":\"Army\",\"First_Name\":\"Koyi\",\"Last_Name\":\"Damodar\",\"Age\":37,\"Type\":\"Bettalian\",\"Description\":\"Grand I20\",\"Commodity_Index\":\"THERMAL\",\"Sensex_Category\":\"Forward\",\"Label_Type\":\"fwd-mass\",\"Effective_Date\":\"30-Apr-23\",\"Start_Date\":\"1-Apr-23\",\"End_Date\":\"30-Apr-23\",\"Currency\":\"INR\",\"Ticket\":\"2697\",\"Name\":\"Novel, Mr. Mansouer\",\"Sex\":\"male\"}"
        ],
        [
         [
          19,
          "everest",
          "Paul",
          "Irish",
          35,
          "Grade2",
          "Grand Vitara",
          "GASOLYN",
          "FORD",
          "medium",
          "31-Jan-24",
          "1-Jan-24",
          "31-Jan-24",
          "INR",
          "345763",
          "Vander Planke, Mrs. Julius (Emelia Maria Vandemoortele)",
          "female"
         ],
         "{\"Id\":19,\"Nick_Name\":\"everest\",\"First_Name\":\"Paul\",\"Last_Name\":\"Irish\",\"Age\":35,\"Type\":\"Grade2\",\"Description\":\"Grand Vitara\",\"Commodity_Index\":\"GASOLYN\",\"Sensex_Category\":\"FORD\",\"Label_Type\":\"medium\",\"Effective_Date\":\"31-Jan-24\",\"Start_Date\":\"1-Jan-24\",\"End_Date\":\"31-Jan-24\",\"Currency\":\"INR\",\"Ticket\":\"345763\",\"Name\":\"Vander Planke, Mrs. Julius (Emelia Maria Vandemoortele)\",\"Sex\":\"female\"}"
        ],
        [
         [
          37,
          "moon",
          "Erram",
          "Rammohan",
          29,
          "Enginner1",
          "Grand Vitara",
          "GASOLYN",
          "FORD",
          "medium",
          "30-Jun-23",
          "1-Jun-23",
          "30-Jun-23",
          "INR",
          "2677",
          "Mamee, Mr. Hanna",
          "male"
         ],
         "{\"Id\":37,\"Nick_Name\":\"moon\",\"First_Name\":\"Erram\",\"Last_Name\":\"Rammohan\",\"Age\":29,\"Type\":\"Enginner1\",\"Description\":\"Grand Vitara\",\"Commodity_Index\":\"GASOLYN\",\"Sensex_Category\":\"FORD\",\"Label_Type\":\"medium\",\"Effective_Date\":\"30-Jun-23\",\"Start_Date\":\"1-Jun-23\",\"End_Date\":\"30-Jun-23\",\"Currency\":\"INR\",\"Ticket\":\"2677\",\"Name\":\"Mamee, Mr. Hanna\",\"Sex\":\"male\"}"
        ],
        [
         [
          12,
          "ADE",
          "Enuganti",
          "Suesh",
          31,
          "Resource",
          "Grand Vitara",
          "DISCOUNT",
          "Top",
          "average",
          "6-Jan-26",
          "7-Jan-25",
          "6-Jan-26",
          "INR",
          "113783",
          "Bonnell, Miss. Elizabeth",
          "female"
         ],
         "{\"Id\":12,\"Nick_Name\":\"ADE\",\"First_Name\":\"Enuganti\",\"Last_Name\":\"Suesh\",\"Age\":31,\"Type\":\"Resource\",\"Description\":\"Grand Vitara\",\"Commodity_Index\":\"DISCOUNT\",\"Sensex_Category\":\"Top\",\"Label_Type\":\"average\",\"Effective_Date\":\"6-Jan-26\",\"Start_Date\":\"7-Jan-25\",\"End_Date\":\"6-Jan-26\",\"Currency\":\"INR\",\"Ticket\":\"113783\",\"Name\":\"Bonnell, Miss. Elizabeth\",\"Sex\":\"female\"}"
        ],
        [
         [
          72,
          "service",
          "Stalin",
          "Rajesh",
          40,
          "Minister",
          "Baleno",
          "Streamer",
          "Backward",
          "High Level",
          "31-Dec-24",
          "1-Dec-24",
          "31-Dec-24",
          "INR",
          "CA 2144",
          "Goodwin, Miss. Lillian Amy",
          "female"
         ],
         "{\"Id\":72,\"Nick_Name\":\"service\",\"First_Name\":\"Stalin\",\"Last_Name\":\"Rajesh\",\"Age\":40,\"Type\":\"Minister\",\"Description\":\"Baleno\",\"Commodity_Index\":\"Streamer\",\"Sensex_Category\":\"Backward\",\"Label_Type\":\"High Level\",\"Effective_Date\":\"31-Dec-24\",\"Start_Date\":\"1-Dec-24\",\"End_Date\":\"31-Dec-24\",\"Currency\":\"INR\",\"Ticket\":\"CA 2144\",\"Name\":\"Goodwin, Miss. Lillian Amy\",\"Sex\":\"female\"}"
        ],
        [
         [
          91,
          "Drinker",
          "Karjala",
          "Hari",
          33,
          "Army",
          "Suzuki Swift",
          "Streamer",
          "Backward",
          "High Level",
          "19-Feb-23",
          "19-Feb-23",
          "19-Feb-23",
          "INR",
          "343276",
          "Christmann, Mr. Emil",
          "male"
         ],
         "{\"Id\":91,\"Nick_Name\":\"Drinker\",\"First_Name\":\"Karjala\",\"Last_Name\":\"Hari\",\"Age\":33,\"Type\":\"Army\",\"Description\":\"Suzuki Swift\",\"Commodity_Index\":\"Streamer\",\"Sensex_Category\":\"Backward\",\"Label_Type\":\"High Level\",\"Effective_Date\":\"19-Feb-23\",\"Start_Date\":\"19-Feb-23\",\"End_Date\":\"19-Feb-23\",\"Currency\":\"INR\",\"Ticket\":\"343276\",\"Name\":\"Christmann, Mr. Emil\",\"Sex\":\"male\"}"
        ],
        [
         [
          96,
          "Design",
          "Mohmad",
          "Basha",
          47,
          "Enginner2",
          "Suzuki Swift",
          "Streamer",
          "Backward",
          "High Level",
          "24-Feb-23",
          "24-Feb-23",
          "24-Feb-23",
          "INR",
          "374910",
          "Shorney, Mr. Charles Joseph",
          "male"
         ],
         "{\"Id\":96,\"Nick_Name\":\"Design\",\"First_Name\":\"Mohmad\",\"Last_Name\":\"Basha\",\"Age\":47,\"Type\":\"Enginner2\",\"Description\":\"Suzuki Swift\",\"Commodity_Index\":\"Streamer\",\"Sensex_Category\":\"Backward\",\"Label_Type\":\"High Level\",\"Effective_Date\":\"24-Feb-23\",\"Start_Date\":\"24-Feb-23\",\"End_Date\":\"24-Feb-23\",\"Currency\":\"INR\",\"Ticket\":\"374910\",\"Name\":\"Shorney, Mr. Charles Joseph\",\"Sex\":\"male\"}"
        ],
        [
         [
          46,
          "ADE",
          "Enuganti",
          "Suesh",
          31,
          "Resource",
          "Grand Vitara",
          "TUTFER",
          "Forward",
          "fwd-mass",
          "30-Jun-24",
          "1-Jun-24",
          "30-Jun-24",
          "INR",
          "S.C./A.4. 23567",
          "Rogers, Mr. William John",
          "male"
         ],
         "{\"Id\":46,\"Nick_Name\":\"ADE\",\"First_Name\":\"Enuganti\",\"Last_Name\":\"Suesh\",\"Age\":31,\"Type\":\"Resource\",\"Description\":\"Grand Vitara\",\"Commodity_Index\":\"TUTFER\",\"Sensex_Category\":\"Forward\",\"Label_Type\":\"fwd-mass\",\"Effective_Date\":\"30-Jun-24\",\"Start_Date\":\"1-Jun-24\",\"End_Date\":\"30-Jun-24\",\"Currency\":\"INR\",\"Ticket\":\"S.C./A.4. 23567\",\"Name\":\"Rogers, Mr. William John\",\"Sex\":\"male\"}"
        ],
        [
         [
          11,
          "Design",
          "Mohmad",
          "Basha",
          47,
          "Enginner2",
          "Ertiga",
          "DISCOUNT",
          "Top",
          "average",
          "6-Jan-26",
          "7-Jan-25",
          "6-Jan-26",
          "INR",
          "PP 9549",
          "Sandstrom, Miss. Marguerite Rut",
          "female"
         ],
         "{\"Id\":11,\"Nick_Name\":\"Design\",\"First_Name\":\"Mohmad\",\"Last_Name\":\"Basha\",\"Age\":47,\"Type\":\"Enginner2\",\"Description\":\"Ertiga\",\"Commodity_Index\":\"DISCOUNT\",\"Sensex_Category\":\"Top\",\"Label_Type\":\"average\",\"Effective_Date\":\"6-Jan-26\",\"Start_Date\":\"7-Jan-25\",\"End_Date\":\"6-Jan-26\",\"Currency\":\"INR\",\"Ticket\":\"PP 9549\",\"Name\":\"Sandstrom, Miss. Marguerite Rut\",\"Sex\":\"female\"}"
        ],
        [
         [
          93,
          "Marketing",
          "Vemparla",
          "Harish",
          55,
          "Manager",
          "Suzuki Swift",
          "Streamer",
          "Backward",
          "High Level",
          "21-Feb-23",
          "21-Feb-23",
          "21-Feb-23",
          "INR",
          "W.E.P. 5734",
          "Chaffee, Mr. Herbert Fuller",
          "male"
         ],
         "{\"Id\":93,\"Nick_Name\":\"Marketing\",\"First_Name\":\"Vemparla\",\"Last_Name\":\"Harish\",\"Age\":55,\"Type\":\"Manager\",\"Description\":\"Suzuki Swift\",\"Commodity_Index\":\"Streamer\",\"Sensex_Category\":\"Backward\",\"Label_Type\":\"High Level\",\"Effective_Date\":\"21-Feb-23\",\"Start_Date\":\"21-Feb-23\",\"End_Date\":\"21-Feb-23\",\"Currency\":\"INR\",\"Ticket\":\"W.E.P. 5734\",\"Name\":\"Chaffee, Mr. Herbert Fuller\",\"Sex\":\"male\"}"
        ],
        [
         [
          36,
          "everest",
          "Paul",
          "Irish",
          35,
          "Grade2",
          "Engine_Base",
          "GASOLYN",
          "FORD",
          "medium",
          "31-May-23",
          "1-May-23",
          "31-May-23",
          "INR",
          "113789",
          "Holverson, Mr. Alexander Oskar",
          "male"
         ],
         "{\"Id\":36,\"Nick_Name\":\"everest\",\"First_Name\":\"Paul\",\"Last_Name\":\"Irish\",\"Age\":35,\"Type\":\"Grade2\",\"Description\":\"Engine_Base\",\"Commodity_Index\":\"GASOLYN\",\"Sensex_Category\":\"FORD\",\"Label_Type\":\"medium\",\"Effective_Date\":\"31-May-23\",\"Start_Date\":\"1-May-23\",\"End_Date\":\"31-May-23\",\"Currency\":\"INR\",\"Ticket\":\"113789\",\"Name\":\"Holverson, Mr. Alexander Oskar\",\"Sex\":\"male\"}"
        ],
        [
         [
          51,
          "Batsman",
          "Ricky",
          "Pointing",
          36,
          "Cricketer",
          "Grand Vitara",
          "TUTFER",
          "Forward",
          "fwd-mass",
          "30-Nov-24",
          "1-Nov-24",
          "30-Nov-24",
          "INR",
          "3101295",
          "Panula, Master. Juha Niilo",
          "male"
         ],
         "{\"Id\":51,\"Nick_Name\":\"Batsman\",\"First_Name\":\"Ricky\",\"Last_Name\":\"Pointing\",\"Age\":36,\"Type\":\"Cricketer\",\"Description\":\"Grand Vitara\",\"Commodity_Index\":\"TUTFER\",\"Sensex_Category\":\"Forward\",\"Label_Type\":\"fwd-mass\",\"Effective_Date\":\"30-Nov-24\",\"Start_Date\":\"1-Nov-24\",\"End_Date\":\"30-Nov-24\",\"Currency\":\"INR\",\"Ticket\":\"3101295\",\"Name\":\"Panula, Master. Juha Niilo\",\"Sex\":\"male\"}"
        ],
        [
         [
          60,
          "Politician",
          "Devineni",
          "Umesh",
          58,
          "Senior",
          "Grand I20",
          "THERMAL",
          "Forward",
          "fwd-mass",
          "30-Jun-23",
          "1-Jun-23",
          "30-Jun-23",
          "INR",
          "CA 2144",
          "Goodwin, Master. William Frederick",
          "male"
         ],
         "{\"Id\":60,\"Nick_Name\":\"Politician\",\"First_Name\":\"Devineni\",\"Last_Name\":\"Umesh\",\"Age\":58,\"Type\":\"Senior\",\"Description\":\"Grand I20\",\"Commodity_Index\":\"THERMAL\",\"Sensex_Category\":\"Forward\",\"Label_Type\":\"fwd-mass\",\"Effective_Date\":\"30-Jun-23\",\"Start_Date\":\"1-Jun-23\",\"End_Date\":\"30-Jun-23\",\"Currency\":\"INR\",\"Ticket\":\"CA 2144\",\"Name\":\"Goodwin, Master. William Frederick\",\"Sex\":\"male\"}"
        ],
        [
         [
          95,
          "Minister",
          "Ponguru",
          "Narayana",
          56,
          "Education",
          "Suzuki Swift",
          "Streamer",
          "Backward",
          "High Level",
          "23-Feb-23",
          "23-Feb-23",
          "23-Feb-23",
          "INR",
          "364500",
          "Coxon, Mr. Daniel",
          "male"
         ],
         "{\"Id\":95,\"Nick_Name\":\"Minister\",\"First_Name\":\"Ponguru\",\"Last_Name\":\"Narayana\",\"Age\":56,\"Type\":\"Education\",\"Description\":\"Suzuki Swift\",\"Commodity_Index\":\"Streamer\",\"Sensex_Category\":\"Backward\",\"Label_Type\":\"High Level\",\"Effective_Date\":\"23-Feb-23\",\"Start_Date\":\"23-Feb-23\",\"End_Date\":\"23-Feb-23\",\"Currency\":\"INR\",\"Ticket\":\"364500\",\"Name\":\"Coxon, Mr. Daniel\",\"Sex\":\"male\"}"
        ],
        [
         [
          50,
          "Republic",
          "Paul",
          "Raj",
          27,
          "Tennis",
          "EXAUST_SYSTEM",
          "TUTFER",
          "Forward",
          "fwd-mass",
          "31-Oct-24",
          "1-Oct-24",
          "31-Oct-24",
          "INR",
          "349237",
          "Arnold-Franchi, Mrs. Josef (Josefine Franchi)",
          "female"
         ],
         "{\"Id\":50,\"Nick_Name\":\"Republic\",\"First_Name\":\"Paul\",\"Last_Name\":\"Raj\",\"Age\":27,\"Type\":\"Tennis\",\"Description\":\"EXAUST_SYSTEM\",\"Commodity_Index\":\"TUTFER\",\"Sensex_Category\":\"Forward\",\"Label_Type\":\"fwd-mass\",\"Effective_Date\":\"31-Oct-24\",\"Start_Date\":\"1-Oct-24\",\"End_Date\":\"31-Oct-24\",\"Currency\":\"INR\",\"Ticket\":\"349237\",\"Name\":\"Arnold-Franchi, Mrs. Josef (Josefine Franchi)\",\"Sex\":\"female\"}"
        ],
        [
         [
          55,
          "service",
          "Stalin",
          "Rajesh",
          40,
          "Minister",
          "Grand Vitara",
          "THERMAL",
          "Forward",
          "fwd-mass",
          "31-Jan-24",
          "1-Jan-24",
          "31-Jan-24",
          "INR",
          "113509",
          "Ostby, Mr. Engelhart Cornelius",
          "male"
         ],
         "{\"Id\":55,\"Nick_Name\":\"service\",\"First_Name\":\"Stalin\",\"Last_Name\":\"Rajesh\",\"Age\":40,\"Type\":\"Minister\",\"Description\":\"Grand Vitara\",\"Commodity_Index\":\"THERMAL\",\"Sensex_Category\":\"Forward\",\"Label_Type\":\"fwd-mass\",\"Effective_Date\":\"31-Jan-24\",\"Start_Date\":\"1-Jan-24\",\"End_Date\":\"31-Jan-24\",\"Currency\":\"INR\",\"Ticket\":\"113509\",\"Name\":\"Ostby, Mr. Engelhart Cornelius\",\"Sex\":\"male\"}"
        ],
        [
         [
          92,
          "Army",
          "Koyi",
          "Damodar",
          37,
          "Bettalian",
          "Suzuki Swift",
          "Streamer",
          "Backward",
          "High Level",
          "20-Feb-23",
          "20-Feb-23",
          "20-Feb-23",
          "INR",
          "347466",
          "Andreasson, Mr. Paul Edvin",
          "male"
         ],
         "{\"Id\":92,\"Nick_Name\":\"Army\",\"First_Name\":\"Koyi\",\"Last_Name\":\"Damodar\",\"Age\":37,\"Type\":\"Bettalian\",\"Description\":\"Suzuki Swift\",\"Commodity_Index\":\"Streamer\",\"Sensex_Category\":\"Backward\",\"Label_Type\":\"High Level\",\"Effective_Date\":\"20-Feb-23\",\"Start_Date\":\"20-Feb-23\",\"End_Date\":\"20-Feb-23\",\"Currency\":\"INR\",\"Ticket\":\"347466\",\"Name\":\"Andreasson, Mr. Paul Edvin\",\"Sex\":\"male\"}"
        ],
        [
         [
          39,
          "Builder",
          "Golla",
          "Rajasekar",
          43,
          "Builder",
          "Engine_Base",
          "TUTFER",
          "Forward",
          "fwd-mass",
          "29-Feb-24",
          "1-Feb-24",
          "29-Feb-24",
          "INR",
          "345764",
          "Vander Planke, Miss. Augusta Maria",
          "female"
         ],
         "{\"Id\":39,\"Nick_Name\":\"Builder\",\"First_Name\":\"Golla\",\"Last_Name\":\"Rajasekar\",\"Age\":43,\"Type\":\"Builder\",\"Description\":\"Engine_Base\",\"Commodity_Index\":\"TUTFER\",\"Sensex_Category\":\"Forward\",\"Label_Type\":\"fwd-mass\",\"Effective_Date\":\"29-Feb-24\",\"Start_Date\":\"1-Feb-24\",\"End_Date\":\"29-Feb-24\",\"Currency\":\"INR\",\"Ticket\":\"345764\",\"Name\":\"Vander Planke, Miss. Augusta Maria\",\"Sex\":\"female\"}"
        ],
        [
         [
          97,
          "ADE",
          "Enuganti",
          "Suesh",
          31,
          "Resource",
          "Suzuki Swift",
          "Streamer",
          "Backward",
          "High Level",
          "25-Feb-23",
          "25-Feb-23",
          "25-Feb-23",
          "INR",
          "PC 17754",
          "Goldschmidt, Mr. George B",
          "male"
         ],
         "{\"Id\":97,\"Nick_Name\":\"ADE\",\"First_Name\":\"Enuganti\",\"Last_Name\":\"Suesh\",\"Age\":31,\"Type\":\"Resource\",\"Description\":\"Suzuki Swift\",\"Commodity_Index\":\"Streamer\",\"Sensex_Category\":\"Backward\",\"Label_Type\":\"High Level\",\"Effective_Date\":\"25-Feb-23\",\"Start_Date\":\"25-Feb-23\",\"End_Date\":\"25-Feb-23\",\"Currency\":\"INR\",\"Ticket\":\"PC 17754\",\"Name\":\"Goldschmidt, Mr. George B\",\"Sex\":\"male\"}"
        ],
        [
         [
          31,
          "jain",
          "Vikas",
          "Jain",
          62,
          "Priest",
          "Grand Vitara",
          "GASOLYN",
          "FORD",
          "medium",
          "6-Jan-23",
          "6-Jan-23",
          "6-Jan-23",
          "INR",
          "PC 17601",
          "Uruchurtu, Don. Manuel E",
          "male"
         ],
         "{\"Id\":31,\"Nick_Name\":\"jain\",\"First_Name\":\"Vikas\",\"Last_Name\":\"Jain\",\"Age\":62,\"Type\":\"Priest\",\"Description\":\"Grand Vitara\",\"Commodity_Index\":\"GASOLYN\",\"Sensex_Category\":\"FORD\",\"Label_Type\":\"medium\",\"Effective_Date\":\"6-Jan-23\",\"Start_Date\":\"6-Jan-23\",\"End_Date\":\"6-Jan-23\",\"Currency\":\"INR\",\"Ticket\":\"PC 17601\",\"Name\":\"Uruchurtu, Don. Manuel E\",\"Sex\":\"male\"}"
        ],
        [
         [
          94,
          "Politician",
          "Devineni",
          "Umesh",
          58,
          "Senior",
          "Suzuki Swift",
          "Streamer",
          "Backward",
          "High Level",
          "22-Feb-23",
          "22-Feb-23",
          "22-Feb-23",
          "INR",
          "C.A. 2315",
          "Dean, Mr. Bertram Frank",
          "male"
         ],
         "{\"Id\":94,\"Nick_Name\":\"Politician\",\"First_Name\":\"Devineni\",\"Last_Name\":\"Umesh\",\"Age\":58,\"Type\":\"Senior\",\"Description\":\"Suzuki Swift\",\"Commodity_Index\":\"Streamer\",\"Sensex_Category\":\"Backward\",\"Label_Type\":\"High Level\",\"Effective_Date\":\"22-Feb-23\",\"Start_Date\":\"22-Feb-23\",\"End_Date\":\"22-Feb-23\",\"Currency\":\"INR\",\"Ticket\":\"C.A. 2315\",\"Name\":\"Dean, Mr. Bertram Frank\",\"Sex\":\"male\"}"
        ],
        [
         [
          78,
          "Minister",
          "Ponguru",
          "Narayana",
          56,
          "Education",
          "Baleno",
          "Streamer",
          "Backward",
          "High Level",
          "6-Feb-23",
          "6-Feb-23",
          "6-Feb-23",
          "INR",
          "374746",
          "Moutal, Mr. Rahamin Haim",
          "male"
         ],
         "{\"Id\":78,\"Nick_Name\":\"Minister\",\"First_Name\":\"Ponguru\",\"Last_Name\":\"Narayana\",\"Age\":56,\"Type\":\"Education\",\"Description\":\"Baleno\",\"Commodity_Index\":\"Streamer\",\"Sensex_Category\":\"Backward\",\"Label_Type\":\"High Level\",\"Effective_Date\":\"6-Feb-23\",\"Start_Date\":\"6-Feb-23\",\"End_Date\":\"6-Feb-23\",\"Currency\":\"INR\",\"Ticket\":\"374746\",\"Name\":\"Moutal, Mr. Rahamin Haim\",\"Sex\":\"male\"}"
        ],
        [
         [
          9,
          "Politician",
          "Devineni",
          "Umesh",
          58,
          "Senior",
          "Creta",
          "DISCOUNT",
          "Top",
          "average",
          "6-Apr-23",
          "7-Mar-23",
          "6-Apr-23",
          "INR",
          "347742",
          "Johnson, Mrs. Oscar W (Elisabeth Vilhelmina Berg)",
          "female"
         ],
         "{\"Id\":9,\"Nick_Name\":\"Politician\",\"First_Name\":\"Devineni\",\"Last_Name\":\"Umesh\",\"Age\":58,\"Type\":\"Senior\",\"Description\":\"Creta\",\"Commodity_Index\":\"DISCOUNT\",\"Sensex_Category\":\"Top\",\"Label_Type\":\"average\",\"Effective_Date\":\"6-Apr-23\",\"Start_Date\":\"7-Mar-23\",\"End_Date\":\"6-Apr-23\",\"Currency\":\"INR\",\"Ticket\":\"347742\",\"Name\":\"Johnson, Mrs. Oscar W (Elisabeth Vilhelmina Berg)\",\"Sex\":\"female\"}"
        ],
        [
         [
          25,
          "Marketing",
          "Vemparla",
          "Harish",
          55,
          "Manager",
          "Grand Vitara",
          "GASOLYN",
          "FORD",
          "medium",
          "31-Jul-24",
          "1-Jul-24",
          "31-Jul-24",
          "INR",
          "349909",
          "Palsson, Miss. Torborg Danira",
          "female"
         ],
         "{\"Id\":25,\"Nick_Name\":\"Marketing\",\"First_Name\":\"Vemparla\",\"Last_Name\":\"Harish\",\"Age\":55,\"Type\":\"Manager\",\"Description\":\"Grand Vitara\",\"Commodity_Index\":\"GASOLYN\",\"Sensex_Category\":\"FORD\",\"Label_Type\":\"medium\",\"Effective_Date\":\"31-Jul-24\",\"Start_Date\":\"1-Jul-24\",\"End_Date\":\"31-Jul-24\",\"Currency\":\"INR\",\"Ticket\":\"349909\",\"Name\":\"Palsson, Miss. Torborg Danira\",\"Sex\":\"female\"}"
        ],
        [
         [
          14,
          "jain",
          "Vikas",
          "Jain",
          62,
          "Priest",
          "Grand Vitara",
          "DISCOUNT",
          "Top",
          "average",
          "6-Jul-23",
          "7-Apr-23",
          "6-Jul-23",
          "INR",
          "347082",
          "Andersson, Mr. Anders Johan",
          "male"
         ],
         "{\"Id\":14,\"Nick_Name\":\"jain\",\"First_Name\":\"Vikas\",\"Last_Name\":\"Jain\",\"Age\":62,\"Type\":\"Priest\",\"Description\":\"Grand Vitara\",\"Commodity_Index\":\"DISCOUNT\",\"Sensex_Category\":\"Top\",\"Label_Type\":\"average\",\"Effective_Date\":\"6-Jul-23\",\"Start_Date\":\"7-Apr-23\",\"End_Date\":\"6-Jul-23\",\"Currency\":\"INR\",\"Ticket\":\"347082\",\"Name\":\"Andersson, Mr. Anders Johan\",\"Sex\":\"male\"}"
        ],
        [
         [
          16,
          "Republic",
          "Paul",
          "Raj",
          27,
          "Tennis",
          "Engine_Base",
          "DISCOUNT",
          "Top",
          "average",
          "6-Oct-23",
          "7-Jul-23",
          "6-Oct-23",
          "INR",
          "248706",
          "Hewlett, Mrs. (Mary D Kingcome) ",
          "female"
         ],
         "{\"Id\":16,\"Nick_Name\":\"Republic\",\"First_Name\":\"Paul\",\"Last_Name\":\"Raj\",\"Age\":27,\"Type\":\"Tennis\",\"Description\":\"Engine_Base\",\"Commodity_Index\":\"DISCOUNT\",\"Sensex_Category\":\"Top\",\"Label_Type\":\"average\",\"Effective_Date\":\"6-Oct-23\",\"Start_Date\":\"7-Jul-23\",\"End_Date\":\"6-Oct-23\",\"Currency\":\"INR\",\"Ticket\":\"248706\",\"Name\":\"Hewlett, Mrs. (Mary D Kingcome) \",\"Sex\":\"female\"}"
        ],
        [
         [
          10,
          "Minister",
          "Ponguru",
          "Narayana",
          56,
          "Education",
          "Brezza",
          "DISCOUNT",
          "Top",
          "average",
          "6-Apr-23",
          "7-Mar-23",
          "6-Apr-23",
          "INR",
          "237736",
          "Nasser, Mrs. Nicholas (Adele Achem)",
          "female"
         ],
         "{\"Id\":10,\"Nick_Name\":\"Minister\",\"First_Name\":\"Ponguru\",\"Last_Name\":\"Narayana\",\"Age\":56,\"Type\":\"Education\",\"Description\":\"Brezza\",\"Commodity_Index\":\"DISCOUNT\",\"Sensex_Category\":\"Top\",\"Label_Type\":\"average\",\"Effective_Date\":\"6-Apr-23\",\"Start_Date\":\"7-Mar-23\",\"End_Date\":\"6-Apr-23\",\"Currency\":\"INR\",\"Ticket\":\"237736\",\"Name\":\"Nasser, Mrs. Nicholas (Adele Achem)\",\"Sex\":\"female\"}"
        ],
        [
         [
          62,
          "Design",
          "Mohmad",
          "Basha",
          47,
          "Enginner2",
          "Celerio",
          "Streamer",
          "Backward",
          "High Level",
          "29-Feb-24",
          "1-Feb-24",
          "29-Feb-24",
          "INR",
          "113572",
          "Icard, Miss. Amelie",
          "female"
         ],
         "{\"Id\":62,\"Nick_Name\":\"Design\",\"First_Name\":\"Mohmad\",\"Last_Name\":\"Basha\",\"Age\":47,\"Type\":\"Enginner2\",\"Description\":\"Celerio\",\"Commodity_Index\":\"Streamer\",\"Sensex_Category\":\"Backward\",\"Label_Type\":\"High Level\",\"Effective_Date\":\"29-Feb-24\",\"Start_Date\":\"1-Feb-24\",\"End_Date\":\"29-Feb-24\",\"Currency\":\"INR\",\"Ticket\":\"113572\",\"Name\":\"Icard, Miss. Amelie\",\"Sex\":\"female\"}"
        ],
        [
         [
          35,
          "admin",
          "John",
          "Victor",
          30,
          "Grade1",
          "Grand Vitara",
          "GASOLYN",
          "FORD",
          "medium",
          "9-Jan-23",
          "9-Jan-23",
          "9-Jan-23",
          "INR",
          "PC 17604",
          "Meyer, Mr. Edgar Joseph",
          "male"
         ],
         "{\"Id\":35,\"Nick_Name\":\"admin\",\"First_Name\":\"John\",\"Last_Name\":\"Victor\",\"Age\":30,\"Type\":\"Grade1\",\"Description\":\"Grand Vitara\",\"Commodity_Index\":\"GASOLYN\",\"Sensex_Category\":\"FORD\",\"Label_Type\":\"medium\",\"Effective_Date\":\"9-Jan-23\",\"Start_Date\":\"9-Jan-23\",\"End_Date\":\"9-Jan-23\",\"Currency\":\"INR\",\"Ticket\":\"PC 17604\",\"Name\":\"Meyer, Mr. Edgar Joseph\",\"Sex\":\"male\"}"
        ],
        [
         [
          81,
          "Lords",
          "Jim",
          "Jackson",
          60,
          "Paster",
          "Baleno",
          "Streamer",
          "Backward",
          "High Level",
          "9-Feb-23",
          "9-Feb-23",
          "9-Feb-23",
          "INR",
          "345767",
          "Waelens, Mr. Achille",
          "male"
         ],
         "{\"Id\":81,\"Nick_Name\":\"Lords\",\"First_Name\":\"Jim\",\"Last_Name\":\"Jackson\",\"Age\":60,\"Type\":\"Paster\",\"Description\":\"Baleno\",\"Commodity_Index\":\"Streamer\",\"Sensex_Category\":\"Backward\",\"Label_Type\":\"High Level\",\"Effective_Date\":\"9-Feb-23\",\"Start_Date\":\"9-Feb-23\",\"End_Date\":\"9-Feb-23\",\"Currency\":\"INR\",\"Ticket\":\"345767\",\"Name\":\"Waelens, Mr. Achille\",\"Sex\":\"male\"}"
        ],
        [
         [
          85,
          "Batsman",
          "Ricky",
          "Pointing",
          36,
          "Cricketer",
          "Suzuki Swift",
          "Streamer",
          "Backward",
          "High Level",
          "13-Feb-23",
          "13-Feb-23",
          "13-Feb-23",
          "INR",
          "SO/C 14885",
          "Ilett, Miss. Bertha",
          "female"
         ],
         "{\"Id\":85,\"Nick_Name\":\"Batsman\",\"First_Name\":\"Ricky\",\"Last_Name\":\"Pointing\",\"Age\":36,\"Type\":\"Cricketer\",\"Description\":\"Suzuki Swift\",\"Commodity_Index\":\"Streamer\",\"Sensex_Category\":\"Backward\",\"Label_Type\":\"High Level\",\"Effective_Date\":\"13-Feb-23\",\"Start_Date\":\"13-Feb-23\",\"End_Date\":\"13-Feb-23\",\"Currency\":\"INR\",\"Ticket\":\"SO/C 14885\",\"Name\":\"Ilett, Miss. Bertha\",\"Sex\":\"female\"}"
        ]
       ],
       "datasetInfos": [],
       "dbfsResultPath": null,
       "isJsonSchema": true,
       "metadata": {},
       "overflow": false,
       "plotOptions": {
        "customPlotOptions": {},
        "displayType": "table",
        "pivotAggregation": null,
        "pivotColumns": null,
        "xColumns": null,
        "yColumns": null
       },
       "removedWidgets": [],
       "schema": [
        {
         "metadata": "{}",
         "name": "pp_msg",
         "type": "{\"type\":\"struct\",\"fields\":[{\"name\":\"Id\",\"type\":\"integer\",\"nullable\":true,\"metadata\":{}},{\"name\":\"Nick_Name\",\"type\":\"string\",\"nullable\":true,\"metadata\":{}},{\"name\":\"First_Name\",\"type\":\"string\",\"nullable\":true,\"metadata\":{}},{\"name\":\"Last_Name\",\"type\":\"string\",\"nullable\":true,\"metadata\":{}},{\"name\":\"Age\",\"type\":\"integer\",\"nullable\":true,\"metadata\":{}},{\"name\":\"Type\",\"type\":\"string\",\"nullable\":true,\"metadata\":{}},{\"name\":\"Description\",\"type\":\"string\",\"nullable\":true,\"metadata\":{}},{\"name\":\"Commodity_Index\",\"type\":\"string\",\"nullable\":true,\"metadata\":{}},{\"name\":\"Sensex_Category\",\"type\":\"string\",\"nullable\":true,\"metadata\":{}},{\"name\":\"Label_Type\",\"type\":\"string\",\"nullable\":true,\"metadata\":{}},{\"name\":\"Effective_Date\",\"type\":\"string\",\"nullable\":true,\"metadata\":{}},{\"name\":\"Start_Date\",\"type\":\"string\",\"nullable\":true,\"metadata\":{}},{\"name\":\"End_Date\",\"type\":\"string\",\"nullable\":true,\"metadata\":{}},{\"name\":\"Currency\",\"type\":\"string\",\"nullable\":true,\"metadata\":{}},{\"name\":\"Ticket\",\"type\":\"string\",\"nullable\":true,\"metadata\":{}},{\"name\":\"Name\",\"type\":\"string\",\"nullable\":true,\"metadata\":{}},{\"name\":\"Sex\",\"type\":\"string\",\"nullable\":true,\"metadata\":{}}]}"
        },
        {
         "metadata": "{}",
         "name": "pp_msg_json",
         "type": "\"string\""
        }
       ],
       "type": "table"
      }
     },
     "output_type": "display_data"
    }
   ],
   "source": [
    "# Convert the 'pp_msg' column to JSON string\n",
    "df_final = df_final.withColumn('pp_msg_json', f.to_json(f.col('pp_msg')))\n",
    "df_final.display()"
   ]
  }
 ],
 "metadata": {
  "application/vnd.databricks.v1+notebook": {
   "dashboards": [],
   "environmentMetadata": null,
   "language": "python",
   "notebookMetadata": {
    "mostRecentlyExecutedCommandWithImplicitDF": {
     "commandId": 522026198061257,
     "dataframes": [
      "_sqldf"
     ]
    },
    "pythonIndentUnit": 4
   },
   "notebookName": "1_How to convert StructType column into StringType using to_json",
   "widgets": {}
  }
 },
 "nbformat": 4,
 "nbformat_minor": 0
}
