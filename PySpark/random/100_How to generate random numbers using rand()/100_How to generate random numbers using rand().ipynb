{
 "cells": [
  {
   "cell_type": "markdown",
   "metadata": {
    "application/vnd.databricks.v1+cell": {
     "cellMetadata": {},
     "inputWidgets": {},
     "nuid": "907bab8e-4661-42e9-a745-f70719376b8b",
     "showTitle": false,
     "tableResultSettingsMap": {},
     "title": ""
    }
   },
   "source": [
    "#### **rand()**\n",
    "- The **rand()** function in PySpark generates a column with **random values uniformly distributed in the range [0.0, 1.0)**.\n",
    "- The **range()** function in Python is used for **generating sequences of numbers**."
   ]
  },
  {
   "cell_type": "code",
   "execution_count": 0,
   "metadata": {
    "application/vnd.databricks.v1+cell": {
     "cellMetadata": {
      "byteLimit": 2048000,
      "rowLimit": 10000
     },
     "inputWidgets": {},
     "nuid": "d386ca49-f18a-4107-9d0a-660844bf877b",
     "showTitle": false,
     "tableResultSettingsMap": {},
     "title": ""
    }
   },
   "outputs": [],
   "source": [
    "from pyspark.sql.functions import rand"
   ]
  },
  {
   "cell_type": "code",
   "execution_count": 0,
   "metadata": {
    "application/vnd.databricks.v1+cell": {
     "cellMetadata": {
      "byteLimit": 2048000,
      "rowLimit": 10000
     },
     "inputWidgets": {},
     "nuid": "bbff3267-b163-4293-9a7f-14e591335763",
     "showTitle": false,
     "tableResultSettingsMap": {},
     "title": ""
    }
   },
   "outputs": [
    {
     "output_type": "display_data",
     "data": {
      "text/html": [
       "<style scoped>\n",
       "  .table-result-container {\n",
       "    max-height: 300px;\n",
       "    overflow: auto;\n",
       "  }\n",
       "  table, th, td {\n",
       "    border: 1px solid black;\n",
       "    border-collapse: collapse;\n",
       "  }\n",
       "  th, td {\n",
       "    padding: 5px;\n",
       "  }\n",
       "  th {\n",
       "    text-align: left;\n",
       "  }\n",
       "</style><div class='table-result-container'><table class='table-result'><thead style='background-color: white'><tr><th>id</th></tr></thead><tbody><tr><td>1</td></tr><tr><td>2</td></tr><tr><td>3</td></tr><tr><td>4</td></tr><tr><td>5</td></tr><tr><td>6</td></tr><tr><td>7</td></tr><tr><td>8</td></tr><tr><td>9</td></tr><tr><td>10</td></tr></tbody></table></div>"
      ]
     },
     "metadata": {
      "application/vnd.databricks.v1+output": {
       "addedWidgets": {},
       "aggData": [],
       "aggError": "",
       "aggOverflow": false,
       "aggSchema": [],
       "aggSeriesLimitReached": false,
       "aggType": "",
       "arguments": {},
       "columnCustomDisplayInfos": {},
       "data": [
        [
         1
        ],
        [
         2
        ],
        [
         3
        ],
        [
         4
        ],
        [
         5
        ],
        [
         6
        ],
        [
         7
        ],
        [
         8
        ],
        [
         9
        ],
        [
         10
        ]
       ],
       "datasetInfos": [],
       "dbfsResultPath": null,
       "isJsonSchema": true,
       "metadata": {},
       "overflow": false,
       "plotOptions": {
        "customPlotOptions": {},
        "displayType": "table",
        "pivotAggregation": null,
        "pivotColumns": null,
        "xColumns": null,
        "yColumns": null
       },
       "removedWidgets": [],
       "schema": [
        {
         "metadata": "{}",
         "name": "id",
         "type": "\"long\""
        }
       ],
       "type": "table"
      }
     },
     "output_type": "display_data"
    }
   ],
   "source": [
    "# Create a sample DataFrame\n",
    "data = [(1,), (2,), (3,), (4,), (5,), (6,), (7,), (8,), (9,), (10,)]\n",
    "df = spark.createDataFrame(data, [\"id\"])\n",
    "display(df)"
   ]
  },
  {
   "cell_type": "markdown",
   "metadata": {
    "application/vnd.databricks.v1+cell": {
     "cellMetadata": {},
     "inputWidgets": {},
     "nuid": "6f884c41-772e-48f0-bb63-10304cff42a0",
     "showTitle": false,
     "tableResultSettingsMap": {},
     "title": ""
    }
   },
   "source": [
    "#### **1) Assigning Random Decimal Values to a New Column**"
   ]
  },
  {
   "cell_type": "code",
   "execution_count": 0,
   "metadata": {
    "application/vnd.databricks.v1+cell": {
     "cellMetadata": {
      "byteLimit": 2048000,
      "rowLimit": 10000
     },
     "inputWidgets": {},
     "nuid": "64dd368f-95d1-4fd9-812a-c9cd4b4275d0",
     "showTitle": false,
     "tableResultSettingsMap": {},
     "title": ""
    }
   },
   "outputs": [
    {
     "output_type": "display_data",
     "data": {
      "text/html": [
       "<style scoped>\n",
       "  .table-result-container {\n",
       "    max-height: 300px;\n",
       "    overflow: auto;\n",
       "  }\n",
       "  table, th, td {\n",
       "    border: 1px solid black;\n",
       "    border-collapse: collapse;\n",
       "  }\n",
       "  th, td {\n",
       "    padding: 5px;\n",
       "  }\n",
       "  th {\n",
       "    text-align: left;\n",
       "  }\n",
       "</style><div class='table-result-container'><table class='table-result'><thead style='background-color: white'><tr><th>id</th><th>randomValue</th></tr></thead><tbody><tr><td>1</td><td>0.27984731579016375</td></tr><tr><td>2</td><td>0.9295428002575243</td></tr><tr><td>3</td><td>0.029784526663577116</td></tr><tr><td>4</td><td>0.813936480443932</td></tr><tr><td>5</td><td>0.8380057665230152</td></tr><tr><td>6</td><td>0.16424753828606786</td></tr><tr><td>7</td><td>0.7980734069812483</td></tr><tr><td>8</td><td>0.9011207953998212</td></tr><tr><td>9</td><td>0.19186900729619816</td></tr><tr><td>10</td><td>0.3666338515820985</td></tr></tbody></table></div>"
      ]
     },
     "metadata": {
      "application/vnd.databricks.v1+output": {
       "addedWidgets": {},
       "aggData": [],
       "aggError": "",
       "aggOverflow": false,
       "aggSchema": [],
       "aggSeriesLimitReached": false,
       "aggType": "",
       "arguments": {},
       "columnCustomDisplayInfos": {},
       "data": [
        [
         1,
         0.27984731579016375
        ],
        [
         2,
         0.9295428002575243
        ],
        [
         3,
         0.029784526663577116
        ],
        [
         4,
         0.813936480443932
        ],
        [
         5,
         0.8380057665230152
        ],
        [
         6,
         0.16424753828606786
        ],
        [
         7,
         0.7980734069812483
        ],
        [
         8,
         0.9011207953998212
        ],
        [
         9,
         0.19186900729619816
        ],
        [
         10,
         0.3666338515820985
        ]
       ],
       "datasetInfos": [],
       "dbfsResultPath": null,
       "isJsonSchema": true,
       "metadata": {},
       "overflow": false,
       "plotOptions": {
        "customPlotOptions": {},
        "displayType": "table",
        "pivotAggregation": null,
        "pivotColumns": null,
        "xColumns": null,
        "yColumns": null
       },
       "removedWidgets": [],
       "schema": [
        {
         "metadata": "{}",
         "name": "id",
         "type": "\"long\""
        },
        {
         "metadata": "{}",
         "name": "randomValue",
         "type": "\"double\""
        }
       ],
       "type": "table"
      }
     },
     "output_type": "display_data"
    }
   ],
   "source": [
    "from pyspark.sql.functions import rand\n",
    "# create new column named 'rand' that contains random floats between\n",
    "df_with_random = df.withColumn(\"randomValue\", rand())\n",
    "display(df_with_random)"
   ]
  },
  {
   "cell_type": "code",
   "execution_count": 0,
   "metadata": {
    "application/vnd.databricks.v1+cell": {
     "cellMetadata": {
      "byteLimit": 2048000,
      "rowLimit": 10000
     },
     "inputWidgets": {},
     "nuid": "759d5d15-0370-47dd-a6d0-8de4fbc0561a",
     "showTitle": false,
     "tableResultSettingsMap": {},
     "title": ""
    }
   },
   "outputs": [
    {
     "output_type": "display_data",
     "data": {
      "text/html": [
       "<style scoped>\n",
       "  .table-result-container {\n",
       "    max-height: 300px;\n",
       "    overflow: auto;\n",
       "  }\n",
       "  table, th, td {\n",
       "    border: 1px solid black;\n",
       "    border-collapse: collapse;\n",
       "  }\n",
       "  th, td {\n",
       "    padding: 5px;\n",
       "  }\n",
       "  th {\n",
       "    text-align: left;\n",
       "  }\n",
       "</style><div class='table-result-container'><table class='table-result'><thead style='background-color: white'><tr><th>id</th><th>randomValue_01</th><th>randomValue_02</th><th>randomValue_03</th></tr></thead><tbody><tr><td>1</td><td>0.1359369624418737</td><td>0.3911864294589773</td><td>0.2361550279990836</td></tr><tr><td>2</td><td>0.6087107863494011</td><td>0.3010735703306754</td><td>0.28382742116332393</td></tr><tr><td>3</td><td>0.948172961543561</td><td>0.6294746601757544</td><td>0.8508272305123705</td></tr><tr><td>4</td><td>0.6754506643460293</td><td>0.5718517159450239</td><td>0.56443329527368</td></tr><tr><td>5</td><td>0.371262235836714</td><td>0.5013299549229663</td><td>0.512755233167723</td></tr><tr><td>6</td><td>0.7793689048510651</td><td>0.9635123784921759</td><td>0.3931929552689192</td></tr><tr><td>7</td><td>0.14820058555666282</td><td>0.005035226592801867</td><td>0.7898927389441236</td></tr><tr><td>8</td><td>0.6362535155793646</td><td>0.815665146338009</td><td>0.2360847472315597</td></tr><tr><td>9</td><td>0.18792339883192966</td><td>0.7992995139682154</td><td>0.8691918635662662</td></tr><tr><td>10</td><td>0.04764069074073729</td><td>0.04213216008207077</td><td>0.9253449274192896</td></tr></tbody></table></div>"
      ]
     },
     "metadata": {
      "application/vnd.databricks.v1+output": {
       "addedWidgets": {},
       "aggData": [],
       "aggError": "",
       "aggOverflow": false,
       "aggSchema": [],
       "aggSeriesLimitReached": false,
       "aggType": "",
       "arguments": {},
       "columnCustomDisplayInfos": {},
       "data": [
        [
         1,
         0.1359369624418737,
         0.3911864294589773,
         0.2361550279990836
        ],
        [
         2,
         0.6087107863494011,
         0.3010735703306754,
         0.28382742116332393
        ],
        [
         3,
         0.948172961543561,
         0.6294746601757544,
         0.8508272305123705
        ],
        [
         4,
         0.6754506643460293,
         0.5718517159450239,
         0.56443329527368
        ],
        [
         5,
         0.371262235836714,
         0.5013299549229663,
         0.512755233167723
        ],
        [
         6,
         0.7793689048510651,
         0.9635123784921759,
         0.3931929552689192
        ],
        [
         7,
         0.14820058555666282,
         0.005035226592801867,
         0.7898927389441236
        ],
        [
         8,
         0.6362535155793646,
         0.815665146338009,
         0.2360847472315597
        ],
        [
         9,
         0.18792339883192966,
         0.7992995139682154,
         0.8691918635662662
        ],
        [
         10,
         0.04764069074073729,
         0.04213216008207077,
         0.9253449274192896
        ]
       ],
       "datasetInfos": [],
       "dbfsResultPath": null,
       "isJsonSchema": true,
       "metadata": {},
       "overflow": false,
       "plotOptions": {
        "customPlotOptions": {},
        "displayType": "table",
        "pivotAggregation": null,
        "pivotColumns": null,
        "xColumns": null,
        "yColumns": null
       },
       "removedWidgets": [],
       "schema": [
        {
         "metadata": "{}",
         "name": "id",
         "type": "\"long\""
        },
        {
         "metadata": "{}",
         "name": "randomValue_01",
         "type": "\"double\""
        },
        {
         "metadata": "{}",
         "name": "randomValue_02",
         "type": "\"double\""
        },
        {
         "metadata": "{}",
         "name": "randomValue_03",
         "type": "\"double\""
        }
       ],
       "type": "table"
      }
     },
     "output_type": "display_data"
    }
   ],
   "source": [
    "# create new column named 'rand' that contains random floats between\n",
    "df_with_random_mult = df.withColumn(\"randomValue_01\", rand())\\\n",
    "                        .withColumn(\"randomValue_02\", rand())\\\n",
    "                        .withColumn(\"randomValue_03\", rand())\n",
    "display(df_with_random_mult)"
   ]
  },
  {
   "cell_type": "markdown",
   "metadata": {
    "application/vnd.databricks.v1+cell": {
     "cellMetadata": {},
     "inputWidgets": {},
     "nuid": "dc5089c4-19b0-4d7d-aa35-8ec352f1f1c6",
     "showTitle": false,
     "tableResultSettingsMap": {},
     "title": ""
    }
   },
   "source": [
    "#### **2) Filtering Rows Based on Random Values**"
   ]
  },
  {
   "cell_type": "code",
   "execution_count": 0,
   "metadata": {
    "application/vnd.databricks.v1+cell": {
     "cellMetadata": {
      "byteLimit": 2048000,
      "rowLimit": 10000
     },
     "inputWidgets": {},
     "nuid": "47deebc2-ec56-4056-9391-8e2caf270905",
     "showTitle": false,
     "tableResultSettingsMap": {},
     "title": ""
    }
   },
   "outputs": [
    {
     "output_type": "display_data",
     "data": {
      "text/html": [
       "<style scoped>\n",
       "  .table-result-container {\n",
       "    max-height: 300px;\n",
       "    overflow: auto;\n",
       "  }\n",
       "  table, th, td {\n",
       "    border: 1px solid black;\n",
       "    border-collapse: collapse;\n",
       "  }\n",
       "  th, td {\n",
       "    padding: 5px;\n",
       "  }\n",
       "  th {\n",
       "    text-align: left;\n",
       "  }\n",
       "</style><div class='table-result-container'><table class='table-result'><thead style='background-color: white'><tr><th>id</th><th>RandomNumber</th></tr></thead><tbody><tr><td>1</td><td>0.18408861218321482</td></tr><tr><td>4</td><td>0.017102840905695915</td></tr><tr><td>6</td><td>0.040321433298052156</td></tr><tr><td>7</td><td>0.3674548229648664</td></tr><tr><td>8</td><td>0.4423708164469996</td></tr><tr><td>10</td><td>0.12084719754891493</td></tr></tbody></table></div>"
      ]
     },
     "metadata": {
      "application/vnd.databricks.v1+output": {
       "addedWidgets": {},
       "aggData": [],
       "aggError": "",
       "aggOverflow": false,
       "aggSchema": [],
       "aggSeriesLimitReached": false,
       "aggType": "",
       "arguments": {},
       "columnCustomDisplayInfos": {},
       "data": [
        [
         1,
         0.18408861218321482
        ],
        [
         4,
         0.017102840905695915
        ],
        [
         6,
         0.040321433298052156
        ],
        [
         7,
         0.3674548229648664
        ],
        [
         8,
         0.4423708164469996
        ],
        [
         10,
         0.12084719754891493
        ]
       ],
       "datasetInfos": [],
       "dbfsResultPath": null,
       "isJsonSchema": true,
       "metadata": {},
       "overflow": false,
       "plotOptions": {
        "customPlotOptions": {},
        "displayType": "table",
        "pivotAggregation": null,
        "pivotColumns": null,
        "xColumns": null,
        "yColumns": null
       },
       "removedWidgets": [],
       "schema": [
        {
         "metadata": "{}",
         "name": "id",
         "type": "\"long\""
        },
        {
         "metadata": "{}",
         "name": "RandomNumber",
         "type": "\"double\""
        }
       ],
       "type": "table"
      }
     },
     "output_type": "display_data"
    }
   ],
   "source": [
    "# Filter rows where random number < 0.5\n",
    "filtered_df = df.withColumn(\"RandomNumber\", rand()).filter(\"RandomNumber < 0.5\")\n",
    "display(filtered_df)"
   ]
  },
  {
   "cell_type": "code",
   "execution_count": 0,
   "metadata": {
    "application/vnd.databricks.v1+cell": {
     "cellMetadata": {
      "byteLimit": 2048000,
      "rowLimit": 10000
     },
     "inputWidgets": {},
     "nuid": "1bff4c13-8e6a-42f4-a688-c6459186819d",
     "showTitle": false,
     "tableResultSettingsMap": {},
     "title": ""
    }
   },
   "outputs": [
    {
     "output_type": "display_data",
     "data": {
      "text/html": [
       "<style scoped>\n",
       "  .table-result-container {\n",
       "    max-height: 300px;\n",
       "    overflow: auto;\n",
       "  }\n",
       "  table, th, td {\n",
       "    border: 1px solid black;\n",
       "    border-collapse: collapse;\n",
       "  }\n",
       "  th, td {\n",
       "    padding: 5px;\n",
       "  }\n",
       "  th {\n",
       "    text-align: left;\n",
       "  }\n",
       "</style><div class='table-result-container'><table class='table-result'><thead style='background-color: white'><tr><th>id</th><th>random_value</th></tr></thead><tbody><tr><td>1</td><td>false</td></tr><tr><td>2</td><td>false</td></tr><tr><td>3</td><td>true</td></tr><tr><td>4</td><td>true</td></tr><tr><td>5</td><td>false</td></tr><tr><td>6</td><td>true</td></tr><tr><td>7</td><td>false</td></tr><tr><td>8</td><td>false</td></tr><tr><td>9</td><td>true</td></tr><tr><td>10</td><td>false</td></tr></tbody></table></div>"
      ]
     },
     "metadata": {
      "application/vnd.databricks.v1+output": {
       "addedWidgets": {},
       "aggData": [],
       "aggError": "",
       "aggOverflow": false,
       "aggSchema": [],
       "aggSeriesLimitReached": false,
       "aggType": "",
       "arguments": {},
       "columnCustomDisplayInfos": {},
       "data": [
        [
         1,
         false
        ],
        [
         2,
         false
        ],
        [
         3,
         true
        ],
        [
         4,
         true
        ],
        [
         5,
         false
        ],
        [
         6,
         true
        ],
        [
         7,
         false
        ],
        [
         8,
         false
        ],
        [
         9,
         true
        ],
        [
         10,
         false
        ]
       ],
       "datasetInfos": [],
       "dbfsResultPath": null,
       "isJsonSchema": true,
       "metadata": {},
       "overflow": false,
       "plotOptions": {
        "customPlotOptions": {},
        "displayType": "table",
        "pivotAggregation": null,
        "pivotColumns": null,
        "xColumns": null,
        "yColumns": null
       },
       "removedWidgets": [],
       "schema": [
        {
         "metadata": "{}",
         "name": "id",
         "type": "\"long\""
        },
        {
         "metadata": "{}",
         "name": "random_value",
         "type": "\"boolean\""
        }
       ],
       "type": "table"
      }
     },
     "output_type": "display_data"
    }
   ],
   "source": [
    "df.withColumn(\"random_value\", (rand() > 0.5)).display()"
   ]
  },
  {
   "cell_type": "code",
   "execution_count": 0,
   "metadata": {
    "application/vnd.databricks.v1+cell": {
     "cellMetadata": {
      "byteLimit": 2048000,
      "rowLimit": 10000
     },
     "inputWidgets": {},
     "nuid": "ce286868-8e31-44c7-8591-0f6866ebc0c5",
     "showTitle": false,
     "tableResultSettingsMap": {},
     "title": ""
    }
   },
   "outputs": [
    {
     "output_type": "display_data",
     "data": {
      "text/html": [
       "<style scoped>\n",
       "  .table-result-container {\n",
       "    max-height: 300px;\n",
       "    overflow: auto;\n",
       "  }\n",
       "  table, th, td {\n",
       "    border: 1px solid black;\n",
       "    border-collapse: collapse;\n",
       "  }\n",
       "  th, td {\n",
       "    padding: 5px;\n",
       "  }\n",
       "  th {\n",
       "    text-align: left;\n",
       "  }\n",
       "</style><div class='table-result-container'><table class='table-result'><thead style='background-color: white'><tr><th>id</th><th>random_value</th></tr></thead><tbody><tr><td>1</td><td>false</td></tr><tr><td>2</td><td>false</td></tr><tr><td>3</td><td>false</td></tr><tr><td>4</td><td>false</td></tr><tr><td>5</td><td>false</td></tr><tr><td>6</td><td>true</td></tr><tr><td>7</td><td>false</td></tr><tr><td>8</td><td>false</td></tr><tr><td>9</td><td>false</td></tr><tr><td>10</td><td>true</td></tr></tbody></table></div>"
      ]
     },
     "metadata": {
      "application/vnd.databricks.v1+output": {
       "addedWidgets": {},
       "aggData": [],
       "aggError": "",
       "aggOverflow": false,
       "aggSchema": [],
       "aggSeriesLimitReached": false,
       "aggType": "",
       "arguments": {},
       "columnCustomDisplayInfos": {},
       "data": [
        [
         1,
         false
        ],
        [
         2,
         false
        ],
        [
         3,
         false
        ],
        [
         4,
         false
        ],
        [
         5,
         false
        ],
        [
         6,
         true
        ],
        [
         7,
         false
        ],
        [
         8,
         false
        ],
        [
         9,
         false
        ],
        [
         10,
         true
        ]
       ],
       "datasetInfos": [],
       "dbfsResultPath": null,
       "isJsonSchema": true,
       "metadata": {},
       "overflow": false,
       "plotOptions": {
        "customPlotOptions": {},
        "displayType": "table",
        "pivotAggregation": null,
        "pivotColumns": null,
        "xColumns": null,
        "yColumns": null
       },
       "removedWidgets": [],
       "schema": [
        {
         "metadata": "{}",
         "name": "id",
         "type": "\"long\""
        },
        {
         "metadata": "{}",
         "name": "random_value",
         "type": "\"boolean\""
        }
       ],
       "type": "table"
      }
     },
     "output_type": "display_data"
    }
   ],
   "source": [
    "df.withColumn(\"random_value\", (rand() < 0.5)).display()"
   ]
  },
  {
   "cell_type": "markdown",
   "metadata": {
    "application/vnd.databricks.v1+cell": {
     "cellMetadata": {},
     "inputWidgets": {},
     "nuid": "a1152b8f-24f2-4a7a-922f-6488f5e5d254",
     "showTitle": false,
     "tableResultSettingsMap": {},
     "title": ""
    }
   },
   "source": [
    "#### **3) Assigning Random Integer Values to a New Column**"
   ]
  },
  {
   "cell_type": "markdown",
   "metadata": {
    "application/vnd.databricks.v1+cell": {
     "cellMetadata": {},
     "inputWidgets": {},
     "nuid": "591707f5-6815-4925-8bd4-804e8efb6868",
     "showTitle": false,
     "tableResultSettingsMap": {},
     "title": ""
    }
   },
   "source": [
    "     df.withColumn('rand_int', round(rand(), 0)).display()\n",
    "                           (or)\n",
    "     df.withColumn(\"random_int\", (rand() * 100).cast(\"integer\")).show()"
   ]
  },
  {
   "cell_type": "code",
   "execution_count": 0,
   "metadata": {
    "application/vnd.databricks.v1+cell": {
     "cellMetadata": {
      "byteLimit": 2048000,
      "rowLimit": 10000
     },
     "inputWidgets": {},
     "nuid": "da951f83-2a40-4d74-b585-13625bbe0105",
     "showTitle": true,
     "tableResultSettingsMap": {},
     "title": "Round"
    }
   },
   "outputs": [
    {
     "output_type": "display_data",
     "data": {
      "text/html": [
       "<style scoped>\n",
       "  .table-result-container {\n",
       "    max-height: 300px;\n",
       "    overflow: auto;\n",
       "  }\n",
       "  table, th, td {\n",
       "    border: 1px solid black;\n",
       "    border-collapse: collapse;\n",
       "  }\n",
       "  th, td {\n",
       "    padding: 5px;\n",
       "  }\n",
       "  th {\n",
       "    text-align: left;\n",
       "  }\n",
       "</style><div class='table-result-container'><table class='table-result'><thead style='background-color: white'><tr><th>id</th><th>rand_int</th></tr></thead><tbody><tr><td>1</td><td>0.0</td></tr><tr><td>2</td><td>0.0</td></tr><tr><td>3</td><td>1.0</td></tr><tr><td>4</td><td>0.0</td></tr><tr><td>5</td><td>1.0</td></tr><tr><td>6</td><td>0.0</td></tr><tr><td>7</td><td>1.0</td></tr><tr><td>8</td><td>0.0</td></tr><tr><td>9</td><td>1.0</td></tr><tr><td>10</td><td>1.0</td></tr></tbody></table></div>"
      ]
     },
     "metadata": {
      "application/vnd.databricks.v1+output": {
       "addedWidgets": {},
       "aggData": [],
       "aggError": "",
       "aggOverflow": false,
       "aggSchema": [],
       "aggSeriesLimitReached": false,
       "aggType": "",
       "arguments": {},
       "columnCustomDisplayInfos": {},
       "data": [
        [
         1,
         0.0
        ],
        [
         2,
         0.0
        ],
        [
         3,
         1.0
        ],
        [
         4,
         0.0
        ],
        [
         5,
         1.0
        ],
        [
         6,
         0.0
        ],
        [
         7,
         1.0
        ],
        [
         8,
         0.0
        ],
        [
         9,
         1.0
        ],
        [
         10,
         1.0
        ]
       ],
       "datasetInfos": [],
       "dbfsResultPath": null,
       "isJsonSchema": true,
       "metadata": {},
       "overflow": false,
       "plotOptions": {
        "customPlotOptions": {},
        "displayType": "table",
        "pivotAggregation": null,
        "pivotColumns": null,
        "xColumns": null,
        "yColumns": null
       },
       "removedWidgets": [],
       "schema": [
        {
         "metadata": "{}",
         "name": "id",
         "type": "\"long\""
        },
        {
         "metadata": "{}",
         "name": "rand_int",
         "type": "\"double\""
        }
       ],
       "type": "table"
      }
     },
     "output_type": "display_data"
    }
   ],
   "source": [
    "from pyspark.sql.functions import rand, round\n",
    "\n",
    "#create new column named 'rand' that contains random integers\n",
    "df.withColumn('rand_int', round(rand(), 0)).display()"
   ]
  },
  {
   "cell_type": "code",
   "execution_count": 0,
   "metadata": {
    "application/vnd.databricks.v1+cell": {
     "cellMetadata": {
      "byteLimit": 2048000,
      "rowLimit": 10000
     },
     "inputWidgets": {},
     "nuid": "ce7affa4-c03d-4ae1-bcb8-0ef664636855",
     "showTitle": true,
     "tableResultSettingsMap": {},
     "title": "Floor"
    }
   },
   "outputs": [
    {
     "output_type": "display_data",
     "data": {
      "text/html": [
       "<style scoped>\n",
       "  .table-result-container {\n",
       "    max-height: 300px;\n",
       "    overflow: auto;\n",
       "  }\n",
       "  table, th, td {\n",
       "    border: 1px solid black;\n",
       "    border-collapse: collapse;\n",
       "  }\n",
       "  th, td {\n",
       "    padding: 5px;\n",
       "  }\n",
       "  th {\n",
       "    text-align: left;\n",
       "  }\n",
       "</style><div class='table-result-container'><table class='table-result'><thead style='background-color: white'><tr><th>id</th><th>GroupID</th></tr></thead><tbody><tr><td>1</td><td>2</td></tr><tr><td>2</td><td>2</td></tr><tr><td>3</td><td>1</td></tr><tr><td>4</td><td>3</td></tr><tr><td>5</td><td>2</td></tr><tr><td>6</td><td>3</td></tr><tr><td>7</td><td>3</td></tr><tr><td>8</td><td>1</td></tr><tr><td>9</td><td>3</td></tr><tr><td>10</td><td>2</td></tr></tbody></table></div>"
      ]
     },
     "metadata": {
      "application/vnd.databricks.v1+output": {
       "addedWidgets": {},
       "aggData": [],
       "aggError": "",
       "aggOverflow": false,
       "aggSchema": [],
       "aggSeriesLimitReached": false,
       "aggType": "",
       "arguments": {},
       "columnCustomDisplayInfos": {},
       "data": [
        [
         1,
         2
        ],
        [
         2,
         2
        ],
        [
         3,
         1
        ],
        [
         4,
         3
        ],
        [
         5,
         2
        ],
        [
         6,
         3
        ],
        [
         7,
         3
        ],
        [
         8,
         1
        ],
        [
         9,
         3
        ],
        [
         10,
         2
        ]
       ],
       "datasetInfos": [],
       "dbfsResultPath": null,
       "isJsonSchema": true,
       "metadata": {},
       "overflow": false,
       "plotOptions": {
        "customPlotOptions": {},
        "displayType": "table",
        "pivotAggregation": null,
        "pivotColumns": null,
        "xColumns": null,
        "yColumns": null
       },
       "removedWidgets": [],
       "schema": [
        {
         "metadata": "{}",
         "name": "id",
         "type": "\"long\""
        },
        {
         "metadata": "{}",
         "name": "GroupID",
         "type": "\"long\""
        }
       ],
       "type": "table"
      }
     },
     "output_type": "display_data"
    }
   ],
   "source": [
    "# Assign random group IDs (1 to 3)\n",
    "from pyspark.sql.functions import floor\n",
    "\n",
    "df_with_groups = df.withColumn(\"GroupID\", floor(rand() * 3) + 1)\n",
    "display(df_with_groups)"
   ]
  },
  {
   "cell_type": "code",
   "execution_count": 0,
   "metadata": {
    "application/vnd.databricks.v1+cell": {
     "cellMetadata": {
      "byteLimit": 2048000,
      "rowLimit": 10000
     },
     "inputWidgets": {},
     "nuid": "41342ed2-7b9e-4b67-81bb-100a19400b57",
     "showTitle": true,
     "tableResultSettingsMap": {},
     "title": "Create Range"
    }
   },
   "outputs": [
    {
     "output_type": "display_data",
     "data": {
      "text/html": [
       "<style scoped>\n",
       "  .table-result-container {\n",
       "    max-height: 300px;\n",
       "    overflow: auto;\n",
       "  }\n",
       "  table, th, td {\n",
       "    border: 1px solid black;\n",
       "    border-collapse: collapse;\n",
       "  }\n",
       "  th, td {\n",
       "    padding: 5px;\n",
       "  }\n",
       "  th {\n",
       "    text-align: left;\n",
       "  }\n",
       "</style><div class='table-result-container'><table class='table-result'><thead style='background-color: white'><tr><th>id</th></tr></thead><tbody><tr><td>0</td></tr><tr><td>1</td></tr><tr><td>2</td></tr><tr><td>3</td></tr><tr><td>4</td></tr><tr><td>5</td></tr><tr><td>6</td></tr><tr><td>7</td></tr><tr><td>8</td></tr></tbody></table></div>"
      ]
     },
     "metadata": {
      "application/vnd.databricks.v1+output": {
       "addedWidgets": {},
       "aggData": [],
       "aggError": "",
       "aggOverflow": false,
       "aggSchema": [],
       "aggSeriesLimitReached": false,
       "aggType": "",
       "arguments": {},
       "columnCustomDisplayInfos": {},
       "data": [
        [
         0
        ],
        [
         1
        ],
        [
         2
        ],
        [
         3
        ],
        [
         4
        ],
        [
         5
        ],
        [
         6
        ],
        [
         7
        ],
        [
         8
        ]
       ],
       "datasetInfos": [],
       "dbfsResultPath": null,
       "isJsonSchema": true,
       "metadata": {},
       "overflow": false,
       "plotOptions": {
        "customPlotOptions": {},
        "displayType": "table",
        "pivotAggregation": null,
        "pivotColumns": null,
        "xColumns": null,
        "yColumns": null
       },
       "removedWidgets": [],
       "schema": [
        {
         "metadata": "{}",
         "name": "id",
         "type": "\"long\""
        }
       ],
       "type": "table"
      }
     },
     "output_type": "display_data"
    }
   ],
   "source": [
    "df_range = spark.range(9)\n",
    "display(df_range)"
   ]
  },
  {
   "cell_type": "code",
   "execution_count": 0,
   "metadata": {
    "application/vnd.databricks.v1+cell": {
     "cellMetadata": {
      "byteLimit": 2048000,
      "rowLimit": 10000
     },
     "inputWidgets": {},
     "nuid": "d0ed7ca5-47a3-47d0-a9c1-e325dc229ffc",
     "showTitle": true,
     "tableResultSettingsMap": {},
     "title": "Cast"
    }
   },
   "outputs": [
    {
     "output_type": "display_data",
     "data": {
      "text/html": [
       "<style scoped>\n",
       "  .table-result-container {\n",
       "    max-height: 300px;\n",
       "    overflow: auto;\n",
       "  }\n",
       "  table, th, td {\n",
       "    border: 1px solid black;\n",
       "    border-collapse: collapse;\n",
       "  }\n",
       "  th, td {\n",
       "    padding: 5px;\n",
       "  }\n",
       "  th {\n",
       "    text-align: left;\n",
       "  }\n",
       "</style><div class='table-result-container'><table class='table-result'><thead style='background-color: white'><tr><th>id</th><th>random_int</th></tr></thead><tbody><tr><td>0</td><td>3</td></tr><tr><td>1</td><td>49</td></tr><tr><td>2</td><td>4</td></tr><tr><td>3</td><td>26</td></tr><tr><td>4</td><td>91</td></tr><tr><td>5</td><td>69</td></tr><tr><td>6</td><td>3</td></tr><tr><td>7</td><td>90</td></tr><tr><td>8</td><td>16</td></tr></tbody></table></div>"
      ]
     },
     "metadata": {
      "application/vnd.databricks.v1+output": {
       "addedWidgets": {},
       "aggData": [],
       "aggError": "",
       "aggOverflow": false,
       "aggSchema": [],
       "aggSeriesLimitReached": false,
       "aggType": "",
       "arguments": {},
       "columnCustomDisplayInfos": {},
       "data": [
        [
         0,
         3
        ],
        [
         1,
         49
        ],
        [
         2,
         4
        ],
        [
         3,
         26
        ],
        [
         4,
         91
        ],
        [
         5,
         69
        ],
        [
         6,
         3
        ],
        [
         7,
         90
        ],
        [
         8,
         16
        ]
       ],
       "datasetInfos": [],
       "dbfsResultPath": null,
       "isJsonSchema": true,
       "metadata": {},
       "overflow": false,
       "plotOptions": {
        "customPlotOptions": {},
        "displayType": "table",
        "pivotAggregation": null,
        "pivotColumns": null,
        "xColumns": null,
        "yColumns": null
       },
       "removedWidgets": [],
       "schema": [
        {
         "metadata": "{}",
         "name": "id",
         "type": "\"long\""
        },
        {
         "metadata": "{}",
         "name": "random_int",
         "type": "\"integer\""
        }
       ],
       "type": "table"
      }
     },
     "output_type": "display_data"
    }
   ],
   "source": [
    "df_range.withColumn(\"random_int\", (rand() * 100).cast(\"integer\")).display()"
   ]
  },
  {
   "cell_type": "code",
   "execution_count": 0,
   "metadata": {
    "application/vnd.databricks.v1+cell": {
     "cellMetadata": {
      "byteLimit": 2048000,
      "rowLimit": 10000
     },
     "inputWidgets": {},
     "nuid": "c02d0b67-37c6-4636-bdc5-e9295e22f938",
     "showTitle": false,
     "tableResultSettingsMap": {},
     "title": ""
    }
   },
   "outputs": [
    {
     "output_type": "display_data",
     "data": {
      "text/html": [
       "<style scoped>\n",
       "  .table-result-container {\n",
       "    max-height: 300px;\n",
       "    overflow: auto;\n",
       "  }\n",
       "  table, th, td {\n",
       "    border: 1px solid black;\n",
       "    border-collapse: collapse;\n",
       "  }\n",
       "  th, td {\n",
       "    padding: 5px;\n",
       "  }\n",
       "  th {\n",
       "    text-align: left;\n",
       "  }\n",
       "</style><div class='table-result-container'><table class='table-result'><thead style='background-color: white'><tr><th>id</th><th>rand_01</th><th>random_int</th></tr></thead><tbody><tr><td>0</td><td>686.6590264512935</td><td>63</td></tr><tr><td>1</td><td>114.69002382346416</td><td>905</td></tr><tr><td>2</td><td>698.6154832447789</td><td>368</td></tr><tr><td>3</td><td>535.625928260888</td><td>276</td></tr><tr><td>4</td><td>750.9944528724891</td><td>222</td></tr><tr><td>5</td><td>447.0103983268037</td><td>561</td></tr><tr><td>6</td><td>698.4892214641027</td><td>853</td></tr><tr><td>7</td><td>805.7483698310514</td><td>53</td></tr><tr><td>8</td><td>870.9678440704349</td><td>884</td></tr></tbody></table></div>"
      ]
     },
     "metadata": {
      "application/vnd.databricks.v1+output": {
       "addedWidgets": {},
       "aggData": [],
       "aggError": "",
       "aggOverflow": false,
       "aggSchema": [],
       "aggSeriesLimitReached": false,
       "aggType": "",
       "arguments": {},
       "columnCustomDisplayInfos": {},
       "data": [
        [
         0,
         686.6590264512935,
         63
        ],
        [
         1,
         114.69002382346416,
         905
        ],
        [
         2,
         698.6154832447789,
         368
        ],
        [
         3,
         535.625928260888,
         276
        ],
        [
         4,
         750.9944528724891,
         222
        ],
        [
         5,
         447.0103983268037,
         561
        ],
        [
         6,
         698.4892214641027,
         853
        ],
        [
         7,
         805.7483698310514,
         53
        ],
        [
         8,
         870.9678440704349,
         884
        ]
       ],
       "datasetInfos": [],
       "dbfsResultPath": null,
       "isJsonSchema": true,
       "metadata": {},
       "overflow": false,
       "plotOptions": {
        "customPlotOptions": {},
        "displayType": "table",
        "pivotAggregation": null,
        "pivotColumns": null,
        "xColumns": null,
        "yColumns": null
       },
       "removedWidgets": [],
       "schema": [
        {
         "metadata": "{}",
         "name": "id",
         "type": "\"long\""
        },
        {
         "metadata": "{}",
         "name": "rand_01",
         "type": "\"double\""
        },
        {
         "metadata": "{}",
         "name": "random_int",
         "type": "\"integer\""
        }
       ],
       "type": "table"
      }
     },
     "output_type": "display_data"
    }
   ],
   "source": [
    "df_cast = df_range.withColumn(\"rand_01\", rand() * 1000)\\\n",
    "                  .withColumn(\"random_int\", (rand() * 1000).cast(\"integer\"))\n",
    "display(df_cast)"
   ]
  },
  {
   "cell_type": "markdown",
   "metadata": {
    "application/vnd.databricks.v1+cell": {
     "cellMetadata": {},
     "inputWidgets": {},
     "nuid": "2fff4c87-538d-4c0d-8bc2-e5e6366d9348",
     "showTitle": false,
     "tableResultSettingsMap": {},
     "title": ""
    }
   },
   "source": [
    "#### **4) How to create random decimals / integers between 0 and 100**"
   ]
  },
  {
   "cell_type": "code",
   "execution_count": 0,
   "metadata": {
    "application/vnd.databricks.v1+cell": {
     "cellMetadata": {
      "byteLimit": 2048000,
      "rowLimit": 10000
     },
     "inputWidgets": {},
     "nuid": "052096df-2403-4cd4-9f90-dc503cf10162",
     "showTitle": true,
     "tableResultSettingsMap": {},
     "title": "Generate random decimals b/n 0 to 100"
    }
   },
   "outputs": [
    {
     "output_type": "display_data",
     "data": {
      "text/html": [
       "<style scoped>\n",
       "  .table-result-container {\n",
       "    max-height: 300px;\n",
       "    overflow: auto;\n",
       "  }\n",
       "  table, th, td {\n",
       "    border: 1px solid black;\n",
       "    border-collapse: collapse;\n",
       "  }\n",
       "  th, td {\n",
       "    padding: 5px;\n",
       "  }\n",
       "  th {\n",
       "    text-align: left;\n",
       "  }\n",
       "</style><div class='table-result-container'><table class='table-result'><thead style='background-color: white'><tr><th>id</th><th>random_decimal</th></tr></thead><tbody><tr><td>1</td><td>33.47784823775336</td></tr><tr><td>2</td><td>95.8227916781665</td></tr><tr><td>3</td><td>45.69612799128196</td></tr><tr><td>4</td><td>83.46617242480953</td></tr><tr><td>5</td><td>37.56251572726457</td></tr><tr><td>6</td><td>53.76628252369895</td></tr><tr><td>7</td><td>80.51881103283375</td></tr><tr><td>8</td><td>46.92653008842241</td></tr><tr><td>9</td><td>86.0649836460729</td></tr><tr><td>10</td><td>81.39797776460824</td></tr></tbody></table></div>"
      ]
     },
     "metadata": {
      "application/vnd.databricks.v1+output": {
       "addedWidgets": {},
       "aggData": [],
       "aggError": "",
       "aggOverflow": false,
       "aggSchema": [],
       "aggSeriesLimitReached": false,
       "aggType": "",
       "arguments": {},
       "columnCustomDisplayInfos": {},
       "data": [
        [
         1,
         33.47784823775336
        ],
        [
         2,
         95.8227916781665
        ],
        [
         3,
         45.69612799128196
        ],
        [
         4,
         83.46617242480953
        ],
        [
         5,
         37.56251572726457
        ],
        [
         6,
         53.76628252369895
        ],
        [
         7,
         80.51881103283375
        ],
        [
         8,
         46.92653008842241
        ],
        [
         9,
         86.0649836460729
        ],
        [
         10,
         81.39797776460824
        ]
       ],
       "datasetInfos": [],
       "dbfsResultPath": null,
       "isJsonSchema": true,
       "metadata": {},
       "overflow": false,
       "plotOptions": {
        "customPlotOptions": {},
        "displayType": "table",
        "pivotAggregation": null,
        "pivotColumns": null,
        "xColumns": null,
        "yColumns": null
       },
       "removedWidgets": [],
       "schema": [
        {
         "metadata": "{}",
         "name": "id",
         "type": "\"long\""
        },
        {
         "metadata": "{}",
         "name": "random_decimal",
         "type": "\"double\""
        }
       ],
       "type": "table"
      }
     },
     "output_type": "display_data"
    }
   ],
   "source": [
    "# create new column named 'rand' that contains random floats between 0 and 100\n",
    "df_with_deci = df.withColumn(\"random_decimal\", rand()*100)\n",
    "display(df_with_deci)"
   ]
  },
  {
   "cell_type": "code",
   "execution_count": 0,
   "metadata": {
    "application/vnd.databricks.v1+cell": {
     "cellMetadata": {
      "byteLimit": 2048000,
      "rowLimit": 10000
     },
     "inputWidgets": {},
     "nuid": "d25044f5-2a69-4e83-a179-f5f61b0fe64f",
     "showTitle": true,
     "tableResultSettingsMap": {},
     "title": "Generate random decimals b/n 0 to 50"
    }
   },
   "outputs": [
    {
     "output_type": "display_data",
     "data": {
      "text/html": [
       "<style scoped>\n",
       "  .table-result-container {\n",
       "    max-height: 300px;\n",
       "    overflow: auto;\n",
       "  }\n",
       "  table, th, td {\n",
       "    border: 1px solid black;\n",
       "    border-collapse: collapse;\n",
       "  }\n",
       "  th, td {\n",
       "    padding: 5px;\n",
       "  }\n",
       "  th {\n",
       "    text-align: left;\n",
       "  }\n",
       "</style><div class='table-result-container'><table class='table-result'><thead style='background-color: white'><tr><th>id</th><th>random_decimal</th></tr></thead><tbody><tr><td>1</td><td>33.97789152510946</td></tr><tr><td>2</td><td>5.731185128265315</td></tr><tr><td>3</td><td>14.433501546218869</td></tr><tr><td>4</td><td>19.93883746672563</td></tr><tr><td>5</td><td>42.56679942992203</td></tr><tr><td>6</td><td>42.42608453587161</td></tr><tr><td>7</td><td>9.05351299558433</td></tr><tr><td>8</td><td>35.164176421319645</td></tr><tr><td>9</td><td>17.425448354802253</td></tr><tr><td>10</td><td>34.218457419135284</td></tr></tbody></table></div>"
      ]
     },
     "metadata": {
      "application/vnd.databricks.v1+output": {
       "addedWidgets": {},
       "aggData": [],
       "aggError": "",
       "aggOverflow": false,
       "aggSchema": [],
       "aggSeriesLimitReached": false,
       "aggType": "",
       "arguments": {},
       "columnCustomDisplayInfos": {},
       "data": [
        [
         1,
         33.97789152510946
        ],
        [
         2,
         5.731185128265315
        ],
        [
         3,
         14.433501546218869
        ],
        [
         4,
         19.93883746672563
        ],
        [
         5,
         42.56679942992203
        ],
        [
         6,
         42.42608453587161
        ],
        [
         7,
         9.05351299558433
        ],
        [
         8,
         35.164176421319645
        ],
        [
         9,
         17.425448354802253
        ],
        [
         10,
         34.218457419135284
        ]
       ],
       "datasetInfos": [],
       "dbfsResultPath": null,
       "isJsonSchema": true,
       "metadata": {},
       "overflow": false,
       "plotOptions": {
        "customPlotOptions": {},
        "displayType": "table",
        "pivotAggregation": null,
        "pivotColumns": null,
        "xColumns": null,
        "yColumns": null
       },
       "removedWidgets": [],
       "schema": [
        {
         "metadata": "{}",
         "name": "id",
         "type": "\"long\""
        },
        {
         "metadata": "{}",
         "name": "random_decimal",
         "type": "\"double\""
        }
       ],
       "type": "table"
      }
     },
     "output_type": "display_data"
    }
   ],
   "source": [
    "# create new column named 'rand' that contains random floats between 0 and 50\n",
    "df_with_deci50 = df.withColumn(\"random_decimal\", rand()*50)\n",
    "display(df_with_deci50)"
   ]
  },
  {
   "cell_type": "code",
   "execution_count": 0,
   "metadata": {
    "application/vnd.databricks.v1+cell": {
     "cellMetadata": {
      "byteLimit": 2048000,
      "rowLimit": 10000
     },
     "inputWidgets": {},
     "nuid": "f2867988-4d79-484b-b199-6f29cb55e3ab",
     "showTitle": true,
     "tableResultSettingsMap": {},
     "title": "Generate random integers b/n 0 to 100"
    }
   },
   "outputs": [
    {
     "output_type": "display_data",
     "data": {
      "text/html": [
       "<style scoped>\n",
       "  .table-result-container {\n",
       "    max-height: 300px;\n",
       "    overflow: auto;\n",
       "  }\n",
       "  table, th, td {\n",
       "    border: 1px solid black;\n",
       "    border-collapse: collapse;\n",
       "  }\n",
       "  th, td {\n",
       "    padding: 5px;\n",
       "  }\n",
       "  th {\n",
       "    text-align: left;\n",
       "  }\n",
       "</style><div class='table-result-container'><table class='table-result'><thead style='background-color: white'><tr><th>id</th><th>random_int</th></tr></thead><tbody><tr><td>1</td><td>62.0</td></tr><tr><td>2</td><td>25.0</td></tr><tr><td>3</td><td>96.0</td></tr><tr><td>4</td><td>88.0</td></tr><tr><td>5</td><td>9.0</td></tr><tr><td>6</td><td>36.0</td></tr><tr><td>7</td><td>83.0</td></tr><tr><td>8</td><td>95.0</td></tr><tr><td>9</td><td>44.0</td></tr><tr><td>10</td><td>90.0</td></tr></tbody></table></div>"
      ]
     },
     "metadata": {
      "application/vnd.databricks.v1+output": {
       "addedWidgets": {},
       "aggData": [],
       "aggError": "",
       "aggOverflow": false,
       "aggSchema": [],
       "aggSeriesLimitReached": false,
       "aggType": "",
       "arguments": {},
       "columnCustomDisplayInfos": {},
       "data": [
        [
         1,
         62.0
        ],
        [
         2,
         25.0
        ],
        [
         3,
         96.0
        ],
        [
         4,
         88.0
        ],
        [
         5,
         9.0
        ],
        [
         6,
         36.0
        ],
        [
         7,
         83.0
        ],
        [
         8,
         95.0
        ],
        [
         9,
         44.0
        ],
        [
         10,
         90.0
        ]
       ],
       "datasetInfos": [],
       "dbfsResultPath": null,
       "isJsonSchema": true,
       "metadata": {},
       "overflow": false,
       "plotOptions": {
        "customPlotOptions": {},
        "displayType": "table",
        "pivotAggregation": null,
        "pivotColumns": null,
        "xColumns": null,
        "yColumns": null
       },
       "removedWidgets": [],
       "schema": [
        {
         "metadata": "{}",
         "name": "id",
         "type": "\"long\""
        },
        {
         "metadata": "{}",
         "name": "random_int",
         "type": "\"double\""
        }
       ],
       "type": "table"
      }
     },
     "output_type": "display_data"
    }
   ],
   "source": [
    "# create new column named 'rand' that contains random floats between 0 and 100\n",
    "df_with_int = df.withColumn(\"random_int\", round(rand()*100, 0))\n",
    "display(df_with_int)"
   ]
  },
  {
   "cell_type": "code",
   "execution_count": 0,
   "metadata": {
    "application/vnd.databricks.v1+cell": {
     "cellMetadata": {
      "byteLimit": 2048000,
      "rowLimit": 10000
     },
     "inputWidgets": {},
     "nuid": "ef727258-c354-4aa2-998e-99f54c097f3d",
     "showTitle": true,
     "tableResultSettingsMap": {},
     "title": "Generate random decimals b/n 10 to 20"
    }
   },
   "outputs": [
    {
     "output_type": "display_data",
     "data": {
      "text/html": [
       "<style scoped>\n",
       "  .table-result-container {\n",
       "    max-height: 300px;\n",
       "    overflow: auto;\n",
       "  }\n",
       "  table, th, td {\n",
       "    border: 1px solid black;\n",
       "    border-collapse: collapse;\n",
       "  }\n",
       "  th, td {\n",
       "    padding: 5px;\n",
       "  }\n",
       "  th {\n",
       "    text-align: left;\n",
       "  }\n",
       "</style><div class='table-result-container'><table class='table-result'><thead style='background-color: white'><tr><th>id</th><th>RandomInRange</th></tr></thead><tbody><tr><td>1</td><td>15.343804446108118</td></tr><tr><td>2</td><td>16.701757067639218</td></tr><tr><td>3</td><td>11.855330626482477</td></tr><tr><td>4</td><td>17.844604778827193</td></tr><tr><td>5</td><td>10.967346516354608</td></tr><tr><td>6</td><td>17.279607341761736</td></tr><tr><td>7</td><td>17.303777165069107</td></tr><tr><td>8</td><td>19.619099470759657</td></tr><tr><td>9</td><td>19.001829631271516</td></tr><tr><td>10</td><td>16.019314848985136</td></tr></tbody></table></div>"
      ]
     },
     "metadata": {
      "application/vnd.databricks.v1+output": {
       "addedWidgets": {},
       "aggData": [],
       "aggError": "",
       "aggOverflow": false,
       "aggSchema": [],
       "aggSeriesLimitReached": false,
       "aggType": "",
       "arguments": {},
       "columnCustomDisplayInfos": {},
       "data": [
        [
         1,
         15.343804446108118
        ],
        [
         2,
         16.701757067639218
        ],
        [
         3,
         11.855330626482477
        ],
        [
         4,
         17.844604778827193
        ],
        [
         5,
         10.967346516354608
        ],
        [
         6,
         17.279607341761736
        ],
        [
         7,
         17.303777165069107
        ],
        [
         8,
         19.619099470759657
        ],
        [
         9,
         19.001829631271516
        ],
        [
         10,
         16.019314848985136
        ]
       ],
       "datasetInfos": [],
       "dbfsResultPath": null,
       "isJsonSchema": true,
       "metadata": {},
       "overflow": false,
       "plotOptions": {
        "customPlotOptions": {},
        "displayType": "table",
        "pivotAggregation": null,
        "pivotColumns": null,
        "xColumns": null,
        "yColumns": null
       },
       "removedWidgets": [],
       "schema": [
        {
         "metadata": "{}",
         "name": "id",
         "type": "\"long\""
        },
        {
         "metadata": "{}",
         "name": "RandomInRange",
         "type": "\"double\""
        }
       ],
       "type": "table"
      }
     },
     "output_type": "display_data"
    }
   ],
   "source": [
    "# Generate random numbers between 10 and 20\n",
    "df_with_random_range = df.withColumn(\"RandomInRange\", rand() * 10 + 10)\n",
    "display(df_with_random_range)"
   ]
  },
  {
   "cell_type": "markdown",
   "metadata": {
    "application/vnd.databricks.v1+cell": {
     "cellMetadata": {},
     "inputWidgets": {},
     "nuid": "6f12f544-36c0-4bf5-be01-3ebb00ca9685",
     "showTitle": false,
     "tableResultSettingsMap": {},
     "title": ""
    }
   },
   "source": [
    "#### **5) How to add random noise to existing numeric columns**"
   ]
  },
  {
   "cell_type": "code",
   "execution_count": 0,
   "metadata": {
    "application/vnd.databricks.v1+cell": {
     "cellMetadata": {
      "byteLimit": 2048000,
      "rowLimit": 10000
     },
     "inputWidgets": {},
     "nuid": "921f9421-e85e-4d44-a3d3-62f651b710b3",
     "showTitle": false,
     "tableResultSettingsMap": {},
     "title": ""
    }
   },
   "outputs": [
    {
     "output_type": "display_data",
     "data": {
      "text/html": [
       "<style scoped>\n",
       "  .table-result-container {\n",
       "    max-height: 300px;\n",
       "    overflow: auto;\n",
       "  }\n",
       "  table, th, td {\n",
       "    border: 1px solid black;\n",
       "    border-collapse: collapse;\n",
       "  }\n",
       "  th, td {\n",
       "    padding: 5px;\n",
       "  }\n",
       "  th {\n",
       "    text-align: left;\n",
       "  }\n",
       "</style><div class='table-result-container'><table class='table-result'><thead style='background-color: white'><tr><th>ID</th><th>Value</th><th>ValueWithNoise</th></tr></thead><tbody><tr><td>1</td><td>100</td><td>100.94450790601594</td></tr><tr><td>2</td><td>200</td><td>200.57186419320865</td></tr><tr><td>3</td><td>300</td><td>300.46456837603057</td></tr><tr><td>4</td><td>400</td><td>400.2812182938175</td></tr></tbody></table></div>"
      ]
     },
     "metadata": {
      "application/vnd.databricks.v1+output": {
       "addedWidgets": {},
       "aggData": [],
       "aggError": "",
       "aggOverflow": false,
       "aggSchema": [],
       "aggSeriesLimitReached": false,
       "aggType": "",
       "arguments": {},
       "columnCustomDisplayInfos": {},
       "data": [
        [
         1,
         100,
         100.94450790601594
        ],
        [
         2,
         200,
         200.57186419320865
        ],
        [
         3,
         300,
         300.46456837603057
        ],
        [
         4,
         400,
         400.2812182938175
        ]
       ],
       "datasetInfos": [],
       "dbfsResultPath": null,
       "isJsonSchema": true,
       "metadata": {},
       "overflow": false,
       "plotOptions": {
        "customPlotOptions": {},
        "displayType": "table",
        "pivotAggregation": null,
        "pivotColumns": null,
        "xColumns": null,
        "yColumns": null
       },
       "removedWidgets": [],
       "schema": [
        {
         "metadata": "{}",
         "name": "ID",
         "type": "\"long\""
        },
        {
         "metadata": "{}",
         "name": "Value",
         "type": "\"long\""
        },
        {
         "metadata": "{}",
         "name": "ValueWithNoise",
         "type": "\"double\""
        }
       ],
       "type": "table"
      }
     },
     "output_type": "display_data"
    }
   ],
   "source": [
    "# Create a DataFrame with a numeric column\n",
    "data = [(1, 100), (2, 200), (3, 300), (4, 400)]\n",
    "df_numeric = spark.createDataFrame(data, [\"ID\", \"Value\"])\n",
    "\n",
    "from pyspark.sql.functions import col\n",
    "# Add random noise\n",
    "df_with_noise = df_numeric.withColumn(\"ValueWithNoise\", col(\"Value\") + rand())\n",
    "display(df_with_noise)"
   ]
  },
  {
   "cell_type": "markdown",
   "metadata": {
    "application/vnd.databricks.v1+cell": {
     "cellMetadata": {},
     "inputWidgets": {},
     "nuid": "e44bb140-0012-4d3c-9369-4bd10310c72c",
     "showTitle": false,
     "tableResultSettingsMap": {},
     "title": ""
    }
   },
   "source": [
    "#### **6) seed**\n",
    "- By specifying a value for **seed** within the **rand()** function, we will be able to generate the **same random numbers** each time we run the code.\n",
    "\n",
    "       rand(seed=23)\n",
    "       rand(seed=42)\n",
    "       df.withColumn('rand_value', rand(seed=23))\n",
    "       df.withColumn('rand_value', rand(seed=42))\n",
    "       df.withColumn('rand_value', rand(123))"
   ]
  },
  {
   "cell_type": "code",
   "execution_count": 0,
   "metadata": {
    "application/vnd.databricks.v1+cell": {
     "cellMetadata": {
      "byteLimit": 2048000,
      "rowLimit": 10000
     },
     "inputWidgets": {},
     "nuid": "c45f7595-06b6-4279-b2dd-a0508bde97b2",
     "showTitle": true,
     "tableResultSettingsMap": {},
     "title": "Create Table"
    }
   },
   "outputs": [
    {
     "output_type": "display_data",
     "data": {
      "text/html": [
       "<style scoped>\n",
       "  .table-result-container {\n",
       "    max-height: 300px;\n",
       "    overflow: auto;\n",
       "  }\n",
       "  table, th, td {\n",
       "    border: 1px solid black;\n",
       "    border-collapse: collapse;\n",
       "  }\n",
       "  th, td {\n",
       "    padding: 5px;\n",
       "  }\n",
       "  th {\n",
       "    text-align: left;\n",
       "  }\n",
       "</style><div class='table-result-container'><table class='table-result'><thead style='background-color: white'><tr><th>team</th><th>points</th></tr></thead><tbody><tr><td>Mahesh</td><td>18</td></tr><tr><td>Nitesh</td><td>33</td></tr><tr><td>Lakshan</td><td>12</td></tr><tr><td>Kishore</td><td>15</td></tr><tr><td>Harish</td><td>19</td></tr><tr><td>Watson</td><td>24</td></tr><tr><td>Mohit</td><td>28</td></tr><tr><td>Jagadish</td><td>40</td></tr><tr><td>Tharun</td><td>24</td></tr><tr><td>Supriya</td><td>13</td></tr></tbody></table></div>"
      ]
     },
     "metadata": {
      "application/vnd.databricks.v1+output": {
       "addedWidgets": {},
       "aggData": [],
       "aggError": "",
       "aggOverflow": false,
       "aggSchema": [],
       "aggSeriesLimitReached": false,
       "aggType": "",
       "arguments": {},
       "columnCustomDisplayInfos": {},
       "data": [
        [
         "Mahesh",
         18
        ],
        [
         "Nitesh",
         33
        ],
        [
         "Lakshan",
         12
        ],
        [
         "Kishore",
         15
        ],
        [
         "Harish",
         19
        ],
        [
         "Watson",
         24
        ],
        [
         "Mohit",
         28
        ],
        [
         "Jagadish",
         40
        ],
        [
         "Tharun",
         24
        ],
        [
         "Supriya",
         13
        ]
       ],
       "datasetInfos": [],
       "dbfsResultPath": null,
       "isJsonSchema": true,
       "metadata": {},
       "overflow": false,
       "plotOptions": {
        "customPlotOptions": {},
        "displayType": "table",
        "pivotAggregation": null,
        "pivotColumns": null,
        "xColumns": null,
        "yColumns": null
       },
       "removedWidgets": [],
       "schema": [
        {
         "metadata": "{}",
         "name": "team",
         "type": "\"string\""
        },
        {
         "metadata": "{}",
         "name": "points",
         "type": "\"long\""
        }
       ],
       "type": "table"
      }
     },
     "output_type": "display_data"
    }
   ],
   "source": [
    "# define data\n",
    "data = [['Mahesh', 18], \n",
    "        ['Nitesh', 33], \n",
    "        ['Lakshan', 12], \n",
    "        ['Kishore', 15], \n",
    "        ['Harish', 19],\n",
    "        ['Watson', 24],\n",
    "        ['Mohit', 28],\n",
    "        ['Jagadish', 40],\n",
    "        ['Tharun', 24],\n",
    "        ['Supriya', 13]]\n",
    "  \n",
    "# define column names\n",
    "columns = ['team', 'points'] \n",
    "  \n",
    "# create dataframe using data and column names\n",
    "df_seed = spark.createDataFrame(data, columns) \n",
    "  \n",
    "# view dataframe\n",
    "display(df_seed)"
   ]
  },
  {
   "cell_type": "code",
   "execution_count": 0,
   "metadata": {
    "application/vnd.databricks.v1+cell": {
     "cellMetadata": {
      "byteLimit": 2048000,
      "rowLimit": 10000
     },
     "inputWidgets": {},
     "nuid": "b7bb7edf-2d9a-4c3a-90e8-f95bc45addbe",
     "showTitle": false,
     "tableResultSettingsMap": {},
     "title": ""
    }
   },
   "outputs": [
    {
     "output_type": "display_data",
     "data": {
      "text/html": [
       "<style scoped>\n",
       "  .table-result-container {\n",
       "    max-height: 300px;\n",
       "    overflow: auto;\n",
       "  }\n",
       "  table, th, td {\n",
       "    border: 1px solid black;\n",
       "    border-collapse: collapse;\n",
       "  }\n",
       "  th, td {\n",
       "    padding: 5px;\n",
       "  }\n",
       "  th {\n",
       "    text-align: left;\n",
       "  }\n",
       "</style><div class='table-result-container'><table class='table-result'><thead style='background-color: white'><tr><th>team</th><th>points</th><th>rand_seed_decimal</th></tr></thead><tbody><tr><td>Mahesh</td><td>18</td><td>93.88044512577216</td></tr><tr><td>Nitesh</td><td>33</td><td>39.432553969527554</td></tr><tr><td>Lakshan</td><td>12</td><td>23.260361399084918</td></tr><tr><td>Kishore</td><td>15</td><td>2.339183228862929</td></tr><tr><td>Harish</td><td>19</td><td>82.53753350983487</td></tr><tr><td>Watson</td><td>24</td><td>88.94415403143505</td></tr><tr><td>Mohit</td><td>28</td><td>80.81524027081029</td></tr><tr><td>Jagadish</td><td>40</td><td>59.56629641640896</td></tr><tr><td>Tharun</td><td>24</td><td>27.62195585886885</td></tr><tr><td>Supriya</td><td>13</td><td>70.43214981152886</td></tr></tbody></table></div>"
      ]
     },
     "metadata": {
      "application/vnd.databricks.v1+output": {
       "addedWidgets": {},
       "aggData": [],
       "aggError": "",
       "aggOverflow": false,
       "aggSchema": [],
       "aggSeriesLimitReached": false,
       "aggType": "",
       "arguments": {},
       "columnCustomDisplayInfos": {},
       "data": [
        [
         "Mahesh",
         18,
         93.88044512577216
        ],
        [
         "Nitesh",
         33,
         39.432553969527554
        ],
        [
         "Lakshan",
         12,
         23.260361399084918
        ],
        [
         "Kishore",
         15,
         2.339183228862929
        ],
        [
         "Harish",
         19,
         82.53753350983487
        ],
        [
         "Watson",
         24,
         88.94415403143505
        ],
        [
         "Mohit",
         28,
         80.81524027081029
        ],
        [
         "Jagadish",
         40,
         59.56629641640896
        ],
        [
         "Tharun",
         24,
         27.62195585886885
        ],
        [
         "Supriya",
         13,
         70.43214981152886
        ]
       ],
       "datasetInfos": [],
       "dbfsResultPath": null,
       "isJsonSchema": true,
       "metadata": {},
       "overflow": false,
       "plotOptions": {
        "customPlotOptions": {},
        "displayType": "table",
        "pivotAggregation": null,
        "pivotColumns": null,
        "xColumns": null,
        "yColumns": null
       },
       "removedWidgets": [],
       "schema": [
        {
         "metadata": "{}",
         "name": "team",
         "type": "\"string\""
        },
        {
         "metadata": "{}",
         "name": "points",
         "type": "\"long\""
        },
        {
         "metadata": "{}",
         "name": "rand_seed_decimal",
         "type": "\"double\""
        }
       ],
       "type": "table"
      }
     },
     "output_type": "display_data"
    }
   ],
   "source": [
    "from pyspark.sql.functions import rand\n",
    "\n",
    "#create new column named 'rand' that contains random floats between 0 and 100\n",
    "df_seed.withColumn('rand_seed_decimal', rand(seed=23)*100).display()"
   ]
  },
  {
   "cell_type": "code",
   "execution_count": 0,
   "metadata": {
    "application/vnd.databricks.v1+cell": {
     "cellMetadata": {
      "byteLimit": 2048000,
      "rowLimit": 10000
     },
     "inputWidgets": {},
     "nuid": "42e794c8-45f8-45ac-a11d-9e86e03cb095",
     "showTitle": false,
     "tableResultSettingsMap": {},
     "title": ""
    }
   },
   "outputs": [
    {
     "output_type": "display_data",
     "data": {
      "text/html": [
       "<style scoped>\n",
       "  .table-result-container {\n",
       "    max-height: 300px;\n",
       "    overflow: auto;\n",
       "  }\n",
       "  table, th, td {\n",
       "    border: 1px solid black;\n",
       "    border-collapse: collapse;\n",
       "  }\n",
       "  th, td {\n",
       "    padding: 5px;\n",
       "  }\n",
       "  th {\n",
       "    text-align: left;\n",
       "  }\n",
       "</style><div class='table-result-container'><table class='table-result'><thead style='background-color: white'><tr><th>team</th><th>points</th><th>rand_seed_int</th></tr></thead><tbody><tr><td>Mahesh</td><td>18</td><td>94.0</td></tr><tr><td>Nitesh</td><td>33</td><td>39.0</td></tr><tr><td>Lakshan</td><td>12</td><td>23.0</td></tr><tr><td>Kishore</td><td>15</td><td>2.0</td></tr><tr><td>Harish</td><td>19</td><td>83.0</td></tr><tr><td>Watson</td><td>24</td><td>89.0</td></tr><tr><td>Mohit</td><td>28</td><td>81.0</td></tr><tr><td>Jagadish</td><td>40</td><td>60.0</td></tr><tr><td>Tharun</td><td>24</td><td>28.0</td></tr><tr><td>Supriya</td><td>13</td><td>70.0</td></tr></tbody></table></div>"
      ]
     },
     "metadata": {
      "application/vnd.databricks.v1+output": {
       "addedWidgets": {},
       "aggData": [],
       "aggError": "",
       "aggOverflow": false,
       "aggSchema": [],
       "aggSeriesLimitReached": false,
       "aggType": "",
       "arguments": {},
       "columnCustomDisplayInfos": {},
       "data": [
        [
         "Mahesh",
         18,
         94.0
        ],
        [
         "Nitesh",
         33,
         39.0
        ],
        [
         "Lakshan",
         12,
         23.0
        ],
        [
         "Kishore",
         15,
         2.0
        ],
        [
         "Harish",
         19,
         83.0
        ],
        [
         "Watson",
         24,
         89.0
        ],
        [
         "Mohit",
         28,
         81.0
        ],
        [
         "Jagadish",
         40,
         60.0
        ],
        [
         "Tharun",
         24,
         28.0
        ],
        [
         "Supriya",
         13,
         70.0
        ]
       ],
       "datasetInfos": [],
       "dbfsResultPath": null,
       "isJsonSchema": true,
       "metadata": {},
       "overflow": false,
       "plotOptions": {
        "customPlotOptions": {},
        "displayType": "table",
        "pivotAggregation": null,
        "pivotColumns": null,
        "xColumns": null,
        "yColumns": null
       },
       "removedWidgets": [],
       "schema": [
        {
         "metadata": "{}",
         "name": "team",
         "type": "\"string\""
        },
        {
         "metadata": "{}",
         "name": "points",
         "type": "\"long\""
        },
        {
         "metadata": "{}",
         "name": "rand_seed_int",
         "type": "\"double\""
        }
       ],
       "type": "table"
      }
     },
     "output_type": "display_data"
    }
   ],
   "source": [
    "from pyspark.sql.functions import rand, round\n",
    "\n",
    "#create new column named 'rand' that contains random integers between 0 and 100\n",
    "df_seed.withColumn('rand_seed_int', round(rand(seed=23)*100, 0)).display()"
   ]
  },
  {
   "cell_type": "code",
   "execution_count": 0,
   "metadata": {
    "application/vnd.databricks.v1+cell": {
     "cellMetadata": {
      "byteLimit": 2048000,
      "rowLimit": 10000
     },
     "inputWidgets": {},
     "nuid": "f09016cb-9021-4b24-b8be-3abe782086c3",
     "showTitle": false,
     "tableResultSettingsMap": {},
     "title": ""
    }
   },
   "outputs": [
    {
     "output_type": "display_data",
     "data": {
      "text/html": [
       "<style scoped>\n",
       "  .table-result-container {\n",
       "    max-height: 300px;\n",
       "    overflow: auto;\n",
       "  }\n",
       "  table, th, td {\n",
       "    border: 1px solid black;\n",
       "    border-collapse: collapse;\n",
       "  }\n",
       "  th, td {\n",
       "    padding: 5px;\n",
       "  }\n",
       "  th {\n",
       "    text-align: left;\n",
       "  }\n",
       "</style><div class='table-result-container'><table class='table-result'><thead style='background-color: white'><tr><th>id</th><th>randomValue_01</th><th>randomValue_02</th><th>randomSeed_03</th><th>randomSeed_04</th></tr></thead><tbody><tr><td>1</td><td>0.05198377269308696</td><td>0.11706584433499301</td><td>0.9388044512577215</td><td>0.9388044512577215</td></tr><tr><td>2</td><td>0.08423525439332036</td><td>0.4316392558230483</td><td>0.3943255396952755</td><td>0.3943255396952755</td></tr><tr><td>3</td><td>0.10720511756607409</td><td>0.5525204832945797</td><td>0.23260361399084917</td><td>0.23260361399084917</td></tr><tr><td>4</td><td>0.24298114556974937</td><td>0.05298339889469206</td><td>0.02339183228862929</td><td>0.02339183228862929</td></tr><tr><td>5</td><td>0.46181492315915185</td><td>0.8528891267293843</td><td>0.8253753350983487</td><td>0.8253753350983487</td></tr><tr><td>6</td><td>0.07480555698427649</td><td>0.5184338363971495</td><td>0.8894415403143504</td><td>0.8894415403143504</td></tr><tr><td>7</td><td>0.9391304253932777</td><td>0.3419045136148039</td><td>0.808152402708103</td><td>0.808152402708103</td></tr><tr><td>8</td><td>0.09674408389128264</td><td>0.9667652171714154</td><td>0.5956629641640896</td><td>0.5956629641640896</td></tr><tr><td>9</td><td>0.9100235862362641</td><td>0.14436209572051928</td><td>0.2762195585886885</td><td>0.2762195585886885</td></tr><tr><td>10</td><td>0.2293001876631754</td><td>0.2646626067937685</td><td>0.7043214981152885</td><td>0.7043214981152885</td></tr></tbody></table></div>"
      ]
     },
     "metadata": {
      "application/vnd.databricks.v1+output": {
       "addedWidgets": {},
       "aggData": [],
       "aggError": "",
       "aggOverflow": false,
       "aggSchema": [],
       "aggSeriesLimitReached": false,
       "aggType": "",
       "arguments": {},
       "columnCustomDisplayInfos": {},
       "data": [
        [
         1,
         0.05198377269308696,
         0.11706584433499301,
         0.9388044512577215,
         0.9388044512577215
        ],
        [
         2,
         0.08423525439332036,
         0.4316392558230483,
         0.3943255396952755,
         0.3943255396952755
        ],
        [
         3,
         0.10720511756607409,
         0.5525204832945797,
         0.23260361399084917,
         0.23260361399084917
        ],
        [
         4,
         0.24298114556974937,
         0.05298339889469206,
         0.02339183228862929,
         0.02339183228862929
        ],
        [
         5,
         0.46181492315915185,
         0.8528891267293843,
         0.8253753350983487,
         0.8253753350983487
        ],
        [
         6,
         0.07480555698427649,
         0.5184338363971495,
         0.8894415403143504,
         0.8894415403143504
        ],
        [
         7,
         0.9391304253932777,
         0.3419045136148039,
         0.808152402708103,
         0.808152402708103
        ],
        [
         8,
         0.09674408389128264,
         0.9667652171714154,
         0.5956629641640896,
         0.5956629641640896
        ],
        [
         9,
         0.9100235862362641,
         0.14436209572051928,
         0.2762195585886885,
         0.2762195585886885
        ],
        [
         10,
         0.2293001876631754,
         0.2646626067937685,
         0.7043214981152885,
         0.7043214981152885
        ]
       ],
       "datasetInfos": [],
       "dbfsResultPath": null,
       "isJsonSchema": true,
       "metadata": {},
       "overflow": false,
       "plotOptions": {
        "customPlotOptions": {},
        "displayType": "table",
        "pivotAggregation": null,
        "pivotColumns": null,
        "xColumns": null,
        "yColumns": null
       },
       "removedWidgets": [],
       "schema": [
        {
         "metadata": "{}",
         "name": "id",
         "type": "\"long\""
        },
        {
         "metadata": "{}",
         "name": "randomValue_01",
         "type": "\"double\""
        },
        {
         "metadata": "{}",
         "name": "randomValue_02",
         "type": "\"double\""
        },
        {
         "metadata": "{}",
         "name": "randomSeed_03",
         "type": "\"double\""
        },
        {
         "metadata": "{}",
         "name": "randomSeed_04",
         "type": "\"double\""
        }
       ],
       "type": "table"
      }
     },
     "output_type": "display_data"
    }
   ],
   "source": [
    "# check out the side to side comparison when running rand without the seed\n",
    "df_with_rand_seed = df.withColumn(\"randomValue_01\", rand())\\\n",
    "                      .withColumn(\"randomValue_02\", rand())\\\n",
    "                      .withColumn(\"randomSeed_03\", rand(seed=23))\\\n",
    "                      .withColumn(\"randomSeed_04\", rand(seed=23))\n",
    "display(df_with_rand_seed)"
   ]
  },
  {
   "cell_type": "markdown",
   "metadata": {
    "application/vnd.databricks.v1+cell": {
     "cellMetadata": {},
     "inputWidgets": {},
     "nuid": "952baa0a-5bfa-44ca-8173-32cbca1167ab",
     "showTitle": false,
     "tableResultSettingsMap": {},
     "title": ""
    }
   },
   "source": [
    "#### **7) How to partition using range() & rand()?**"
   ]
  },
  {
   "cell_type": "code",
   "execution_count": 0,
   "metadata": {
    "application/vnd.databricks.v1+cell": {
     "cellMetadata": {
      "byteLimit": 2048000,
      "rowLimit": 10000
     },
     "inputWidgets": {},
     "nuid": "9c2888e5-f580-4b54-928b-78e12a522178",
     "showTitle": false,
     "tableResultSettingsMap": {},
     "title": ""
    }
   },
   "outputs": [
    {
     "output_type": "display_data",
     "data": {
      "text/html": [
       "<style scoped>\n",
       "  .table-result-container {\n",
       "    max-height: 300px;\n",
       "    overflow: auto;\n",
       "  }\n",
       "  table, th, td {\n",
       "    border: 1px solid black;\n",
       "    border-collapse: collapse;\n",
       "  }\n",
       "  th, td {\n",
       "    padding: 5px;\n",
       "  }\n",
       "  th {\n",
       "    text-align: left;\n",
       "  }\n",
       "</style><div class='table-result-container'><table class='table-result'><thead style='background-color: white'><tr><th>id</th><th>rand</th><th>spart_partition</th></tr></thead><tbody><tr><td>0</td><td>1.8575681106759028</td><td>0</td></tr><tr><td>2</td><td>1.5288056527339444</td><td>0</td></tr><tr><td>4</td><td>2.4975778166614573</td><td>0</td></tr><tr><td>6</td><td>0.7896842712351707</td><td>0</td></tr><tr><td>8</td><td>2.0108603088792405</td><td>0</td></tr><tr><td>10</td><td>2.4052597283576684</td><td>1</td></tr><tr><td>12</td><td>1.9696658849976958</td><td>1</td></tr><tr><td>14</td><td>0.7546787347780908</td><td>1</td></tr><tr><td>16</td><td>0.6220285128333222</td><td>1</td></tr><tr><td>18</td><td>1.9178764137836781</td><td>1</td></tr></tbody></table></div>"
      ]
     },
     "metadata": {
      "application/vnd.databricks.v1+output": {
       "addedWidgets": {},
       "aggData": [],
       "aggError": "",
       "aggOverflow": false,
       "aggSchema": [],
       "aggSeriesLimitReached": false,
       "aggType": "",
       "arguments": {},
       "columnCustomDisplayInfos": {},
       "data": [
        [
         0,
         1.8575681106759028,
         0
        ],
        [
         2,
         1.5288056527339444,
         0
        ],
        [
         4,
         2.4975778166614573,
         0
        ],
        [
         6,
         0.7896842712351707,
         0
        ],
        [
         8,
         2.0108603088792405,
         0
        ],
        [
         10,
         2.4052597283576684,
         1
        ],
        [
         12,
         1.9696658849976958,
         1
        ],
        [
         14,
         0.7546787347780908,
         1
        ],
        [
         16,
         0.6220285128333222,
         1
        ],
        [
         18,
         1.9178764137836781,
         1
        ]
       ],
       "datasetInfos": [],
       "dbfsResultPath": null,
       "isJsonSchema": true,
       "metadata": {},
       "overflow": false,
       "plotOptions": {
        "customPlotOptions": {},
        "displayType": "table",
        "pivotAggregation": null,
        "pivotColumns": null,
        "xColumns": null,
        "yColumns": null
       },
       "removedWidgets": [],
       "schema": [
        {
         "metadata": "{}",
         "name": "id",
         "type": "\"long\""
        },
        {
         "metadata": "{}",
         "name": "rand",
         "type": "\"double\""
        },
        {
         "metadata": "{}",
         "name": "spart_partition",
         "type": "\"integer\""
        }
       ],
       "type": "table"
      }
     },
     "output_type": "display_data"
    }
   ],
   "source": [
    "from pyspark.sql import functions as f\n",
    "from pyspark.sql.functions import spark_partition_id\n",
    "\n",
    "# range(start, end, step, num of partitions)\n",
    "spark.range(0, 20, 2, 2).withColumn('rand', f.rand(seed=42) * 3)\\\n",
    "                        .withColumn(\"spart_partition\", spark_partition_id()).display()"
   ]
  }
 ],
 "metadata": {
  "application/vnd.databricks.v1+notebook": {
   "computePreferences": null,
   "dashboards": [],
   "environmentMetadata": null,
   "language": "python",
   "notebookMetadata": {
    "pythonIndentUnit": 4
   },
   "notebookName": "100_How to generate random numbers using rand()",
   "widgets": {}
  }
 },
 "nbformat": 4,
 "nbformat_minor": 0
}
