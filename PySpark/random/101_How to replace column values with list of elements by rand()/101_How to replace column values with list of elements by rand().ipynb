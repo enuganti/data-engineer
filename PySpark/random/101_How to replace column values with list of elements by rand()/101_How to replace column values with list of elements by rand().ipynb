{
 "cells": [
  {
   "cell_type": "code",
   "execution_count": 0,
   "metadata": {
    "application/vnd.databricks.v1+cell": {
     "cellMetadata": {
      "byteLimit": 2048000,
      "rowLimit": 10000
     },
     "inputWidgets": {},
     "nuid": "d386ca49-f18a-4107-9d0a-660844bf877b",
     "showTitle": false,
     "tableResultSettingsMap": {},
     "title": ""
    }
   },
   "outputs": [],
   "source": [
    "from pyspark.sql.functions import rand, lit, array"
   ]
  },
  {
   "cell_type": "code",
   "execution_count": 0,
   "metadata": {
    "application/vnd.databricks.v1+cell": {
     "cellMetadata": {
      "byteLimit": 2048000,
      "rowLimit": 10000
     },
     "inputWidgets": {},
     "nuid": "bbff3267-b163-4293-9a7f-14e591335763",
     "showTitle": false,
     "tableResultSettingsMap": {},
     "title": ""
    }
   },
   "outputs": [
    {
     "output_type": "display_data",
     "data": {
      "text/html": [
       "<style scoped>\n",
       "  .table-result-container {\n",
       "    max-height: 300px;\n",
       "    overflow: auto;\n",
       "  }\n",
       "  table, th, td {\n",
       "    border: 1px solid black;\n",
       "    border-collapse: collapse;\n",
       "  }\n",
       "  th, td {\n",
       "    padding: 5px;\n",
       "  }\n",
       "  th {\n",
       "    text-align: left;\n",
       "  }\n",
       "</style><div class='table-result-container'><table class='table-result'><thead style='background-color: white'><tr><th>id</th></tr></thead><tbody><tr><td>1</td></tr><tr><td>2</td></tr><tr><td>3</td></tr><tr><td>4</td></tr><tr><td>5</td></tr><tr><td>6</td></tr><tr><td>7</td></tr><tr><td>8</td></tr><tr><td>9</td></tr><tr><td>10</td></tr></tbody></table></div>"
      ]
     },
     "metadata": {
      "application/vnd.databricks.v1+output": {
       "addedWidgets": {},
       "aggData": [],
       "aggError": "",
       "aggOverflow": false,
       "aggSchema": [],
       "aggSeriesLimitReached": false,
       "aggType": "",
       "arguments": {},
       "columnCustomDisplayInfos": {},
       "data": [
        [
         1
        ],
        [
         2
        ],
        [
         3
        ],
        [
         4
        ],
        [
         5
        ],
        [
         6
        ],
        [
         7
        ],
        [
         8
        ],
        [
         9
        ],
        [
         10
        ]
       ],
       "datasetInfos": [],
       "dbfsResultPath": null,
       "isJsonSchema": true,
       "metadata": {},
       "overflow": false,
       "plotOptions": {
        "customPlotOptions": {},
        "displayType": "table",
        "pivotAggregation": null,
        "pivotColumns": null,
        "xColumns": null,
        "yColumns": null
       },
       "removedWidgets": [],
       "schema": [
        {
         "metadata": "{}",
         "name": "id",
         "type": "\"long\""
        }
       ],
       "type": "table"
      }
     },
     "output_type": "display_data"
    }
   ],
   "source": [
    "# Create a sample DataFrame\n",
    "data = [(1,), (2,), (3,), (4,), (5,), (6,), (7,), (8,), (9,), (10,)]\n",
    "df = spark.createDataFrame(data, [\"id\"])\n",
    "display(df)"
   ]
  },
  {
   "cell_type": "markdown",
   "metadata": {
    "application/vnd.databricks.v1+cell": {
     "cellMetadata": {},
     "inputWidgets": {},
     "nuid": "e36399c5-fe1b-43c5-b058-1f60a7a4a53b",
     "showTitle": false,
     "tableResultSettingsMap": {},
     "title": ""
    }
   },
   "source": [
    "#### **Using rand() to Randomly Select Elements from a List**"
   ]
  },
  {
   "cell_type": "markdown",
   "metadata": {
    "application/vnd.databricks.v1+cell": {
     "cellMetadata": {},
     "inputWidgets": {},
     "nuid": "e91e38d7-1107-49ee-9e57-6e20562ace97",
     "showTitle": false,
     "tableResultSettingsMap": {},
     "title": ""
    }
   },
   "source": [
    "     # Define the fixed integer values\n",
    "     fixed_values_cust = [25, 30, 40, 55, 70, 85, 100, 130, 150, 145, 160]\n",
    "\n",
    "     # Add a column with random fixed values\n",
    "     df_with_fixed_value = df.withColumn(\n",
    "                      'fixed_value', \n",
    "                      array([lit(x) for x in fixed_values_cust])[(rand() * len(fixed_values_cust)).cast('int')]\n",
    "     )\n",
    "     display(df_with_fixed_value)"
   ]
  },
  {
   "cell_type": "code",
   "execution_count": 0,
   "metadata": {
    "application/vnd.databricks.v1+cell": {
     "cellMetadata": {
      "byteLimit": 2048000,
      "rowLimit": 10000
     },
     "inputWidgets": {},
     "nuid": "d65c5081-533f-4544-911c-7b65233fe517",
     "showTitle": false,
     "tableResultSettingsMap": {},
     "title": ""
    }
   },
   "outputs": [
    {
     "output_type": "execute_result",
     "data": {
      "text/plain": [
       "11"
      ]
     },
     "execution_count": 4,
     "metadata": {},
     "output_type": "execute_result"
    }
   ],
   "source": [
    "# Define the fixed integer values\n",
    "# A list of predefined fixed values that you want to use as random selections for the fixed_value column.\n",
    "fixed_values_cust = [25, 30, 40, 55, 70, 85, 100, 130, 150, 145, 160]\n",
    "\n",
    "len(fixed_values_cust)"
   ]
  },
  {
   "cell_type": "code",
   "execution_count": 0,
   "metadata": {
    "application/vnd.databricks.v1+cell": {
     "cellMetadata": {
      "byteLimit": 2048000,
      "rowLimit": 10000
     },
     "inputWidgets": {},
     "nuid": "e3c00baa-d06a-4f44-b331-29cbd38931a4",
     "showTitle": true,
     "tableResultSettingsMap": {},
     "title": "Generate Random integer values b/n 0 to 11"
    }
   },
   "outputs": [
    {
     "output_type": "display_data",
     "data": {
      "text/html": [
       "<style scoped>\n",
       "  .table-result-container {\n",
       "    max-height: 300px;\n",
       "    overflow: auto;\n",
       "  }\n",
       "  table, th, td {\n",
       "    border: 1px solid black;\n",
       "    border-collapse: collapse;\n",
       "  }\n",
       "  th, td {\n",
       "    padding: 5px;\n",
       "  }\n",
       "  th {\n",
       "    text-align: left;\n",
       "  }\n",
       "</style><div class='table-result-container'><table class='table-result'><thead style='background-color: white'><tr><th>id</th><th>fixed_value</th></tr></thead><tbody><tr><td>1</td><td>5</td></tr><tr><td>2</td><td>0</td></tr><tr><td>3</td><td>3</td></tr><tr><td>4</td><td>9</td></tr><tr><td>5</td><td>4</td></tr><tr><td>6</td><td>4</td></tr><tr><td>7</td><td>9</td></tr><tr><td>8</td><td>6</td></tr><tr><td>9</td><td>7</td></tr><tr><td>10</td><td>6</td></tr></tbody></table></div>"
      ]
     },
     "metadata": {
      "application/vnd.databricks.v1+output": {
       "addedWidgets": {},
       "aggData": [],
       "aggError": "",
       "aggOverflow": false,
       "aggSchema": [],
       "aggSeriesLimitReached": false,
       "aggType": "",
       "arguments": {},
       "columnCustomDisplayInfos": {},
       "data": [
        [
         1,
         5
        ],
        [
         2,
         0
        ],
        [
         3,
         3
        ],
        [
         4,
         9
        ],
        [
         5,
         4
        ],
        [
         6,
         4
        ],
        [
         7,
         9
        ],
        [
         8,
         6
        ],
        [
         9,
         7
        ],
        [
         10,
         6
        ]
       ],
       "datasetInfos": [],
       "dbfsResultPath": null,
       "isJsonSchema": true,
       "metadata": {},
       "overflow": false,
       "plotOptions": {
        "customPlotOptions": {},
        "displayType": "table",
        "pivotAggregation": null,
        "pivotColumns": null,
        "xColumns": null,
        "yColumns": null
       },
       "removedWidgets": [],
       "schema": [
        {
         "metadata": "{}",
         "name": "id",
         "type": "\"long\""
        },
        {
         "metadata": "{}",
         "name": "fixed_value",
         "type": "\"integer\""
        }
       ],
       "type": "table"
      }
     },
     "output_type": "display_data"
    }
   ],
   "source": [
    "# Add a column with random fixed values\n",
    "# Used to pick a random index from the array\n",
    "df_with_fixed_value2 = df.withColumn(\n",
    "    'fixed_value', (rand() * len(fixed_values_cust)).cast('int')\n",
    ")\n",
    "display(df_with_fixed_value2)"
   ]
  },
  {
   "cell_type": "markdown",
   "metadata": {
    "application/vnd.databricks.v1+cell": {
     "cellMetadata": {},
     "inputWidgets": {},
     "nuid": "781edac5-f381-49a3-a29f-6f51e15ef1a0",
     "showTitle": false,
     "tableResultSettingsMap": {},
     "title": ""
    }
   },
   "source": [
    "**Why lit() is Used**\n",
    "- PySpark operations work on **columns and expressions**.\n",
    "- The elements of **fixed_values_cust** are simple **Python integers**, and to use them in Spark expressions like **array**, they must be **converted** to **PySpark column-compatible** literals.\n",
    "- Without lit(), Spark would **not recognize** the elements as **valid column expressions**, and the code would throw an **error**."
   ]
  },
  {
   "cell_type": "code",
   "execution_count": 0,
   "metadata": {
    "application/vnd.databricks.v1+cell": {
     "cellMetadata": {
      "byteLimit": 2048000,
      "rowLimit": 10000
     },
     "inputWidgets": {},
     "nuid": "0cb45894-96f6-48dc-a17f-152cea52c0b2",
     "showTitle": false,
     "tableResultSettingsMap": {},
     "title": ""
    }
   },
   "outputs": [
    {
     "output_type": "execute_result",
     "data": {
      "text/plain": [
       "[25, 30, 40, 55, 70, 85, 100, 130, 150, 145, 160]"
      ]
     },
     "execution_count": 11,
     "metadata": {},
     "output_type": "execute_result"
    }
   ],
   "source": [
    "[x for x in fixed_values_cust]"
   ]
  },
  {
   "cell_type": "markdown",
   "metadata": {
    "application/vnd.databricks.v1+cell": {
     "cellMetadata": {},
     "inputWidgets": {},
     "nuid": "7d165fd3-cc86-4ade-902f-802c593f0067",
     "showTitle": false,
     "tableResultSettingsMap": {},
     "title": ""
    }
   },
   "source": [
    "**Explanation:**\n",
    "- **fixed_values_cust:** This is a Python list containing predefined numeric values:\n",
    "\n",
    "    [25, 30, 40, 55, 70, 85, 100, 130, 150, 145, 160].\n",
    "\n",
    "**lit(x):**\n",
    "\n",
    "- The `lit()` function in PySpark creates a column object representing a `literal value (a constant)`.\n",
    "- For each element `x` in the `fixed_values_cust` list, `lit(x)` converts it into a `PySpark literal column`.\n",
    "\n",
    "**List Comprehension:**\n",
    "\n",
    "- The comprehension `[lit(x) for x in fixed_values_cust]` iterates over every value `x` in the list `fixed_values_cust` and applies the `lit(x)` function to it.\n",
    "- As a result, it produces a new list where each item is a PySpark column object representing the corresponding value from `fixed_values_cust`."
   ]
  },
  {
   "cell_type": "code",
   "execution_count": 0,
   "metadata": {
    "application/vnd.databricks.v1+cell": {
     "cellMetadata": {
      "byteLimit": 2048000,
      "rowLimit": 10000
     },
     "inputWidgets": {},
     "nuid": "754f670c-0f85-400e-b7a1-b6e57a5aa215",
     "showTitle": false,
     "tableResultSettingsMap": {},
     "title": ""
    }
   },
   "outputs": [
    {
     "output_type": "execute_result",
     "data": {
      "text/plain": [
       "[Column<'25'>,\n",
       " Column<'30'>,\n",
       " Column<'40'>,\n",
       " Column<'55'>,\n",
       " Column<'70'>,\n",
       " Column<'85'>,\n",
       " Column<'100'>,\n",
       " Column<'130'>,\n",
       " Column<'150'>,\n",
       " Column<'145'>,\n",
       " Column<'160'>]"
      ]
     },
     "execution_count": 12,
     "metadata": {},
     "output_type": "execute_result"
    }
   ],
   "source": [
    "[lit(x) for x in fixed_values_cust]"
   ]
  },
  {
   "cell_type": "markdown",
   "metadata": {
    "application/vnd.databricks.v1+cell": {
     "cellMetadata": {},
     "inputWidgets": {},
     "nuid": "dada5fe9-aa0b-45b5-b0bc-3272ac3cc5b9",
     "showTitle": false,
     "tableResultSettingsMap": {},
     "title": ""
    }
   },
   "source": [
    "     [\n",
    "        Column<'25'>,  # A PySpark column object for the literal value 25\n",
    "        Column<'30'>,  # A PySpark column object for the literal value 30\n",
    "        Column<'40'>,  # A PySpark column object for the literal value 40\n",
    "        Column<'55'>,  # A PySpark column object for the literal value 55\n",
    "        Column<'70'>,  # A PySpark column object for the literal value 70\n",
    "        Column<'85'>,  # A PySpark column object for the literal value 85\n",
    "        Column<'100'>, # A PySpark column object for the literal value 100\n",
    "        Column<'130'>, # A PySpark column object for the literal value 130\n",
    "        Column<'150'>, # A PySpark column object for the literal value 150\n",
    "        Column<'145'>, # A PySpark column object for the literal value 145\n",
    "        Column<'160'>  # A PySpark column object for the literal value 160\n",
    "     ]"
   ]
  },
  {
   "cell_type": "code",
   "execution_count": 0,
   "metadata": {
    "application/vnd.databricks.v1+cell": {
     "cellMetadata": {
      "byteLimit": 2048000,
      "rowLimit": 10000
     },
     "inputWidgets": {},
     "nuid": "6503f563-8dfe-43fd-a6b2-ff1e55666fb4",
     "showTitle": false,
     "tableResultSettingsMap": {},
     "title": ""
    }
   },
   "outputs": [
    {
     "output_type": "execute_result",
     "data": {
      "text/plain": [
       "Column<'array(25, 30, 40, 55, 70, 85, 100, 130, 150, 145, 160)'>"
      ]
     },
     "execution_count": 15,
     "metadata": {},
     "output_type": "execute_result"
    }
   ],
   "source": [
    "# Converts the `fixed_values_cust` Python list into a `PySpark array column` where each element is wrapped as a literal (`lit`).\n",
    "array([lit(x) for x in fixed_values_cust])"
   ]
  },
  {
   "cell_type": "markdown",
   "metadata": {
    "application/vnd.databricks.v1+cell": {
     "cellMetadata": {},
     "inputWidgets": {},
     "nuid": "bb24ef24-5734-4ddc-8e83-433fbf1fbaef",
     "showTitle": false,
     "tableResultSettingsMap": {},
     "title": ""
    }
   },
   "source": [
    "**Why Use array for List Comprehension?**\n",
    "\n",
    "- **Consolidate Fixed Values into a Single Data Structure**:\n",
    "\n",
    "  - The **[lit(x) for x in fixed_values_cust]** generates a **list of PySpark literal column objects**. However, PySpark operations, such as **indexing or random selection**, cannot directly operate on a Python list.\n",
    "  \n",
    "  - The **array()** function **combines** these individual **column literals into a single PySpark array column**, which is a valid column type for further DataFrame operations."
   ]
  },
  {
   "cell_type": "code",
   "execution_count": 0,
   "metadata": {
    "application/vnd.databricks.v1+cell": {
     "cellMetadata": {
      "byteLimit": 2048000,
      "rowLimit": 10000
     },
     "inputWidgets": {},
     "nuid": "a57ba55c-6c4c-4306-80b1-63c29c2ebad3",
     "showTitle": false,
     "tableResultSettingsMap": {},
     "title": ""
    }
   },
   "outputs": [
    {
     "output_type": "display_data",
     "data": {
      "text/html": [
       "<style scoped>\n",
       "  .table-result-container {\n",
       "    max-height: 300px;\n",
       "    overflow: auto;\n",
       "  }\n",
       "  table, th, td {\n",
       "    border: 1px solid black;\n",
       "    border-collapse: collapse;\n",
       "  }\n",
       "  th, td {\n",
       "    padding: 5px;\n",
       "  }\n",
       "  th {\n",
       "    text-align: left;\n",
       "  }\n",
       "</style><div class='table-result-container'><table class='table-result'><thead style='background-color: white'><tr><th>id</th><th>fixed_value</th></tr></thead><tbody><tr><td>1</td><td>List(25, 30, 40, 55, 70, 85, 100, 130, 150, 145, 160)</td></tr><tr><td>2</td><td>List(25, 30, 40, 55, 70, 85, 100, 130, 150, 145, 160)</td></tr><tr><td>3</td><td>List(25, 30, 40, 55, 70, 85, 100, 130, 150, 145, 160)</td></tr><tr><td>4</td><td>List(25, 30, 40, 55, 70, 85, 100, 130, 150, 145, 160)</td></tr><tr><td>5</td><td>List(25, 30, 40, 55, 70, 85, 100, 130, 150, 145, 160)</td></tr><tr><td>6</td><td>List(25, 30, 40, 55, 70, 85, 100, 130, 150, 145, 160)</td></tr><tr><td>7</td><td>List(25, 30, 40, 55, 70, 85, 100, 130, 150, 145, 160)</td></tr><tr><td>8</td><td>List(25, 30, 40, 55, 70, 85, 100, 130, 150, 145, 160)</td></tr><tr><td>9</td><td>List(25, 30, 40, 55, 70, 85, 100, 130, 150, 145, 160)</td></tr><tr><td>10</td><td>List(25, 30, 40, 55, 70, 85, 100, 130, 150, 145, 160)</td></tr></tbody></table></div>"
      ]
     },
     "metadata": {
      "application/vnd.databricks.v1+output": {
       "addedWidgets": {},
       "aggData": [],
       "aggError": "",
       "aggOverflow": false,
       "aggSchema": [],
       "aggSeriesLimitReached": false,
       "aggType": "",
       "arguments": {},
       "columnCustomDisplayInfos": {},
       "data": [
        [
         1,
         [
          25,
          30,
          40,
          55,
          70,
          85,
          100,
          130,
          150,
          145,
          160
         ]
        ],
        [
         2,
         [
          25,
          30,
          40,
          55,
          70,
          85,
          100,
          130,
          150,
          145,
          160
         ]
        ],
        [
         3,
         [
          25,
          30,
          40,
          55,
          70,
          85,
          100,
          130,
          150,
          145,
          160
         ]
        ],
        [
         4,
         [
          25,
          30,
          40,
          55,
          70,
          85,
          100,
          130,
          150,
          145,
          160
         ]
        ],
        [
         5,
         [
          25,
          30,
          40,
          55,
          70,
          85,
          100,
          130,
          150,
          145,
          160
         ]
        ],
        [
         6,
         [
          25,
          30,
          40,
          55,
          70,
          85,
          100,
          130,
          150,
          145,
          160
         ]
        ],
        [
         7,
         [
          25,
          30,
          40,
          55,
          70,
          85,
          100,
          130,
          150,
          145,
          160
         ]
        ],
        [
         8,
         [
          25,
          30,
          40,
          55,
          70,
          85,
          100,
          130,
          150,
          145,
          160
         ]
        ],
        [
         9,
         [
          25,
          30,
          40,
          55,
          70,
          85,
          100,
          130,
          150,
          145,
          160
         ]
        ],
        [
         10,
         [
          25,
          30,
          40,
          55,
          70,
          85,
          100,
          130,
          150,
          145,
          160
         ]
        ]
       ],
       "datasetInfos": [],
       "dbfsResultPath": null,
       "isJsonSchema": true,
       "metadata": {},
       "overflow": false,
       "plotOptions": {
        "customPlotOptions": {},
        "displayType": "table",
        "pivotAggregation": null,
        "pivotColumns": null,
        "xColumns": null,
        "yColumns": null
       },
       "removedWidgets": [],
       "schema": [
        {
         "metadata": "{}",
         "name": "id",
         "type": "\"long\""
        },
        {
         "metadata": "{}",
         "name": "fixed_value",
         "type": "{\"type\":\"array\",\"elementType\":\"integer\",\"containsNull\":false}"
        }
       ],
       "type": "table"
      }
     },
     "output_type": "display_data"
    }
   ],
   "source": [
    "# Add a column with random fixed values\n",
    "df_with_fixed_value3 = df.withColumn(\n",
    "    'fixed_value', \n",
    "    array([lit(x) for x in fixed_values_cust])\n",
    ")\n",
    "display(df_with_fixed_value3)"
   ]
  },
  {
   "cell_type": "code",
   "execution_count": 0,
   "metadata": {
    "application/vnd.databricks.v1+cell": {
     "cellMetadata": {
      "byteLimit": 2048000,
      "rowLimit": 10000
     },
     "inputWidgets": {},
     "nuid": "536bf976-371a-46ee-b258-a4a0ffb29e7b",
     "showTitle": false,
     "tableResultSettingsMap": {},
     "title": ""
    }
   },
   "outputs": [
    {
     "output_type": "display_data",
     "data": {
      "text/html": [
       "<style scoped>\n",
       "  .table-result-container {\n",
       "    max-height: 300px;\n",
       "    overflow: auto;\n",
       "  }\n",
       "  table, th, td {\n",
       "    border: 1px solid black;\n",
       "    border-collapse: collapse;\n",
       "  }\n",
       "  th, td {\n",
       "    padding: 5px;\n",
       "  }\n",
       "  th {\n",
       "    text-align: left;\n",
       "  }\n",
       "</style><div class='table-result-container'><table class='table-result'><thead style='background-color: white'><tr><th>id</th><th>fixed_value</th></tr></thead><tbody><tr><td>1</td><td>25</td></tr><tr><td>2</td><td>25</td></tr><tr><td>3</td><td>25</td></tr><tr><td>4</td><td>25</td></tr><tr><td>5</td><td>25</td></tr><tr><td>6</td><td>25</td></tr><tr><td>7</td><td>25</td></tr><tr><td>8</td><td>25</td></tr><tr><td>9</td><td>25</td></tr><tr><td>10</td><td>25</td></tr></tbody></table></div>"
      ]
     },
     "metadata": {
      "application/vnd.databricks.v1+output": {
       "addedWidgets": {},
       "aggData": [],
       "aggError": "",
       "aggOverflow": false,
       "aggSchema": [],
       "aggSeriesLimitReached": false,
       "aggType": "",
       "arguments": {},
       "columnCustomDisplayInfos": {},
       "data": [
        [
         1,
         25
        ],
        [
         2,
         25
        ],
        [
         3,
         25
        ],
        [
         4,
         25
        ],
        [
         5,
         25
        ],
        [
         6,
         25
        ],
        [
         7,
         25
        ],
        [
         8,
         25
        ],
        [
         9,
         25
        ],
        [
         10,
         25
        ]
       ],
       "datasetInfos": [],
       "dbfsResultPath": null,
       "isJsonSchema": true,
       "metadata": {},
       "overflow": false,
       "plotOptions": {
        "customPlotOptions": {},
        "displayType": "table",
        "pivotAggregation": null,
        "pivotColumns": null,
        "xColumns": null,
        "yColumns": null
       },
       "removedWidgets": [],
       "schema": [
        {
         "metadata": "{}",
         "name": "id",
         "type": "\"long\""
        },
        {
         "metadata": "{}",
         "name": "fixed_value",
         "type": "\"integer\""
        }
       ],
       "type": "table"
      }
     },
     "output_type": "display_data"
    }
   ],
   "source": [
    "# Add a column with random fixed values\n",
    "df_with_fixed_value4 = df.withColumn(\n",
    "    'fixed_value', \n",
    "    array([lit(x) for x in fixed_values_cust])[0]\n",
    ")\n",
    "display(df_with_fixed_value4)"
   ]
  },
  {
   "cell_type": "code",
   "execution_count": 0,
   "metadata": {
    "application/vnd.databricks.v1+cell": {
     "cellMetadata": {
      "byteLimit": 2048000,
      "rowLimit": 10000
     },
     "inputWidgets": {},
     "nuid": "3535e9e4-a445-43bc-85fc-d9eb2894bb2d",
     "showTitle": false,
     "tableResultSettingsMap": {},
     "title": ""
    }
   },
   "outputs": [
    {
     "output_type": "display_data",
     "data": {
      "text/html": [
       "<style scoped>\n",
       "  .table-result-container {\n",
       "    max-height: 300px;\n",
       "    overflow: auto;\n",
       "  }\n",
       "  table, th, td {\n",
       "    border: 1px solid black;\n",
       "    border-collapse: collapse;\n",
       "  }\n",
       "  th, td {\n",
       "    padding: 5px;\n",
       "  }\n",
       "  th {\n",
       "    text-align: left;\n",
       "  }\n",
       "</style><div class='table-result-container'><table class='table-result'><thead style='background-color: white'><tr><th>id</th><th>fixed_value</th></tr></thead><tbody><tr><td>1</td><td>160</td></tr><tr><td>2</td><td>160</td></tr><tr><td>3</td><td>160</td></tr><tr><td>4</td><td>160</td></tr><tr><td>5</td><td>160</td></tr><tr><td>6</td><td>160</td></tr><tr><td>7</td><td>160</td></tr><tr><td>8</td><td>160</td></tr><tr><td>9</td><td>160</td></tr><tr><td>10</td><td>160</td></tr></tbody></table></div>"
      ]
     },
     "metadata": {
      "application/vnd.databricks.v1+output": {
       "addedWidgets": {},
       "aggData": [],
       "aggError": "",
       "aggOverflow": false,
       "aggSchema": [],
       "aggSeriesLimitReached": false,
       "aggType": "",
       "arguments": {},
       "columnCustomDisplayInfos": {},
       "data": [
        [
         1,
         160
        ],
        [
         2,
         160
        ],
        [
         3,
         160
        ],
        [
         4,
         160
        ],
        [
         5,
         160
        ],
        [
         6,
         160
        ],
        [
         7,
         160
        ],
        [
         8,
         160
        ],
        [
         9,
         160
        ],
        [
         10,
         160
        ]
       ],
       "datasetInfos": [],
       "dbfsResultPath": null,
       "isJsonSchema": true,
       "metadata": {},
       "overflow": false,
       "plotOptions": {
        "customPlotOptions": {},
        "displayType": "table",
        "pivotAggregation": null,
        "pivotColumns": null,
        "xColumns": null,
        "yColumns": null
       },
       "removedWidgets": [],
       "schema": [
        {
         "metadata": "{}",
         "name": "id",
         "type": "\"long\""
        },
        {
         "metadata": "{}",
         "name": "fixed_value",
         "type": "\"integer\""
        }
       ],
       "type": "table"
      }
     },
     "output_type": "display_data"
    }
   ],
   "source": [
    "# Add a column with random fixed values\n",
    "df_with_fixed_value = df.withColumn(\n",
    "    'fixed_value', \n",
    "    array([lit(x) for x in fixed_values_cust])[len(fixed_values_cust)-1]\n",
    ")\n",
    "display(df_with_fixed_value)"
   ]
  },
  {
   "cell_type": "code",
   "execution_count": 0,
   "metadata": {
    "application/vnd.databricks.v1+cell": {
     "cellMetadata": {
      "byteLimit": 2048000,
      "rowLimit": 10000
     },
     "inputWidgets": {},
     "nuid": "8503aa4e-2abd-43ae-8419-30f736a72ea9",
     "showTitle": false,
     "tableResultSettingsMap": {},
     "title": ""
    }
   },
   "outputs": [
    {
     "output_type": "display_data",
     "data": {
      "text/html": [
       "<style scoped>\n",
       "  .table-result-container {\n",
       "    max-height: 300px;\n",
       "    overflow: auto;\n",
       "  }\n",
       "  table, th, td {\n",
       "    border: 1px solid black;\n",
       "    border-collapse: collapse;\n",
       "  }\n",
       "  th, td {\n",
       "    padding: 5px;\n",
       "  }\n",
       "  th {\n",
       "    text-align: left;\n",
       "  }\n",
       "</style><div class='table-result-container'><table class='table-result'><thead style='background-color: white'><tr><th>id</th><th>fixed_value</th></tr></thead><tbody><tr><td>1</td><td>130</td></tr><tr><td>2</td><td>100</td></tr><tr><td>3</td><td>130</td></tr><tr><td>4</td><td>55</td></tr><tr><td>5</td><td>150</td></tr><tr><td>6</td><td>70</td></tr><tr><td>7</td><td>85</td></tr><tr><td>8</td><td>100</td></tr><tr><td>9</td><td>85</td></tr><tr><td>10</td><td>25</td></tr></tbody></table></div>"
      ]
     },
     "metadata": {
      "application/vnd.databricks.v1+output": {
       "addedWidgets": {},
       "aggData": [],
       "aggError": "",
       "aggOverflow": false,
       "aggSchema": [],
       "aggSeriesLimitReached": false,
       "aggType": "",
       "arguments": {},
       "columnCustomDisplayInfos": {},
       "data": [
        [
         1,
         130
        ],
        [
         2,
         100
        ],
        [
         3,
         130
        ],
        [
         4,
         55
        ],
        [
         5,
         150
        ],
        [
         6,
         70
        ],
        [
         7,
         85
        ],
        [
         8,
         100
        ],
        [
         9,
         85
        ],
        [
         10,
         25
        ]
       ],
       "datasetInfos": [],
       "dbfsResultPath": null,
       "isJsonSchema": true,
       "metadata": {},
       "overflow": false,
       "plotOptions": {
        "customPlotOptions": {},
        "displayType": "table",
        "pivotAggregation": null,
        "pivotColumns": null,
        "xColumns": null,
        "yColumns": null
       },
       "removedWidgets": [],
       "schema": [
        {
         "metadata": "{}",
         "name": "id",
         "type": "\"long\""
        },
        {
         "metadata": "{}",
         "name": "fixed_value",
         "type": "\"integer\""
        }
       ],
       "type": "table"
      }
     },
     "output_type": "display_data"
    }
   ],
   "source": [
    "# Define the fixed integer values\n",
    "fixed_values_cust = [25, 30, 40, 55, 70, 85, 100, 130, 150, 145, 160]\n",
    "\n",
    "# Add a column with random fixed values\n",
    "df_with_fixed_value = df.withColumn(\n",
    "    'fixed_value', \n",
    "    array([lit(x) for x in fixed_values_cust])[(rand() * len(fixed_values_cust)).cast('int')]\n",
    ")\n",
    "display(df_with_fixed_value)"
   ]
  },
  {
   "cell_type": "markdown",
   "metadata": {
    "application/vnd.databricks.v1+cell": {
     "cellMetadata": {},
     "inputWidgets": {},
     "nuid": "5dbb09ba-4b49-40dd-8af7-e6a9db8d02b9",
     "showTitle": false,
     "tableResultSettingsMap": {},
     "title": ""
    }
   },
   "source": [
    "The expression **[(rand() * len(fixed_values_cust)).cast('int')]** is used to generate a **random index** within the range of the **fixed_values_cust** list. \n",
    "\n",
    "**rand():**\n",
    "- Generates a random float value **between 0 and 1**.\n",
    "\n",
    "**rand() * len(fixed_values_cust):**\n",
    "- **Multiplies** the **random float** by the **length of the fixed_values_cust** list, which scales the random value to the range **[0, len(fixed_values_cust))**.\n",
    "\n",
    "**(rand() * len(fixed_values_cust)).cast('int'):**\n",
    "- Casts the scaled random **float to an integer**, effectively generating a random **index** within the range of the list indices.\n",
    "\n",
    "**[(rand() * len(fixed_values_cust)).cast('int')]:**\n",
    "- The result is wrapped in a **list** to be used as an **index** for **array selection**."
   ]
  }
 ],
 "metadata": {
  "application/vnd.databricks.v1+notebook": {
   "computePreferences": null,
   "dashboards": [],
   "environmentMetadata": null,
   "language": "python",
   "notebookMetadata": {
    "pythonIndentUnit": 4
   },
   "notebookName": "101_How to replace column values with list of elements by rand()",
   "widgets": {}
  }
 },
 "nbformat": 4,
 "nbformat_minor": 0
}
