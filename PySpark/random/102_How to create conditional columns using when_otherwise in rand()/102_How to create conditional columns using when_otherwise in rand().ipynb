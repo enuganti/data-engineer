{
 "cells": [
  {
   "cell_type": "markdown",
   "metadata": {
    "application/vnd.databricks.v1+cell": {
     "cellMetadata": {},
     "inputWidgets": {},
     "nuid": "9f325809-d644-471f-b97b-6594e3db8396",
     "showTitle": false,
     "tableResultSettingsMap": {},
     "title": ""
    }
   },
   "source": [
    "**Ex 01**"
   ]
  },
  {
   "cell_type": "code",
   "execution_count": 0,
   "metadata": {
    "application/vnd.databricks.v1+cell": {
     "cellMetadata": {
      "byteLimit": 2048000,
      "rowLimit": 10000
     },
     "inputWidgets": {},
     "nuid": "ff99f508-63b7-4a0b-8255-2bd2c0747ca8",
     "showTitle": false,
     "tableResultSettingsMap": {},
     "title": ""
    }
   },
   "outputs": [
    {
     "output_type": "display_data",
     "data": {
      "text/html": [
       "<style scoped>\n",
       "  .table-result-container {\n",
       "    max-height: 300px;\n",
       "    overflow: auto;\n",
       "  }\n",
       "  table, th, td {\n",
       "    border: 1px solid black;\n",
       "    border-collapse: collapse;\n",
       "  }\n",
       "  th, td {\n",
       "    padding: 5px;\n",
       "  }\n",
       "  th {\n",
       "    text-align: left;\n",
       "  }\n",
       "</style><div class='table-result-container'><table class='table-result'><thead style='background-color: white'><tr><th>id</th></tr></thead><tbody><tr><td>0</td></tr><tr><td>1</td></tr><tr><td>2</td></tr><tr><td>3</td></tr><tr><td>4</td></tr><tr><td>5</td></tr><tr><td>6</td></tr><tr><td>7</td></tr><tr><td>8</td></tr><tr><td>9</td></tr><tr><td>10</td></tr><tr><td>11</td></tr><tr><td>12</td></tr><tr><td>13</td></tr><tr><td>14</td></tr></tbody></table></div>"
      ]
     },
     "metadata": {
      "application/vnd.databricks.v1+output": {
       "addedWidgets": {},
       "aggData": [],
       "aggError": "",
       "aggOverflow": false,
       "aggSchema": [],
       "aggSeriesLimitReached": false,
       "aggType": "",
       "arguments": {},
       "columnCustomDisplayInfos": {},
       "data": [
        [
         0
        ],
        [
         1
        ],
        [
         2
        ],
        [
         3
        ],
        [
         4
        ],
        [
         5
        ],
        [
         6
        ],
        [
         7
        ],
        [
         8
        ],
        [
         9
        ],
        [
         10
        ],
        [
         11
        ],
        [
         12
        ],
        [
         13
        ],
        [
         14
        ]
       ],
       "datasetInfos": [],
       "dbfsResultPath": null,
       "isJsonSchema": true,
       "metadata": {},
       "overflow": false,
       "plotOptions": {
        "customPlotOptions": {},
        "displayType": "table",
        "pivotAggregation": null,
        "pivotColumns": null,
        "xColumns": null,
        "yColumns": null
       },
       "removedWidgets": [],
       "schema": [
        {
         "metadata": "{}",
         "name": "id",
         "type": "\"long\""
        }
       ],
       "type": "table"
      }
     },
     "output_type": "display_data"
    }
   ],
   "source": [
    "df = spark.range(15)\n",
    "display(df)"
   ]
  },
  {
   "cell_type": "code",
   "execution_count": 0,
   "metadata": {
    "application/vnd.databricks.v1+cell": {
     "cellMetadata": {
      "byteLimit": 2048000,
      "rowLimit": 10000
     },
     "inputWidgets": {},
     "nuid": "1d183a34-9b03-49f6-9915-2a1d06b8df3d",
     "showTitle": false,
     "tableResultSettingsMap": {},
     "title": ""
    }
   },
   "outputs": [],
   "source": [
    "import pyspark.sql.functions as f\n",
    "from pyspark.sql.functions import rand, when, lit, col\n",
    "from pyspark.sql.types import LongType"
   ]
  },
  {
   "cell_type": "code",
   "execution_count": 0,
   "metadata": {
    "application/vnd.databricks.v1+cell": {
     "cellMetadata": {
      "byteLimit": 2048000,
      "rowLimit": 10000
     },
     "inputWidgets": {},
     "nuid": "9e1e769f-0b67-440f-bb56-163f280bb184",
     "showTitle": false,
     "tableResultSettingsMap": {},
     "title": ""
    }
   },
   "outputs": [
    {
     "output_type": "display_data",
     "data": {
      "text/html": [
       "<style scoped>\n",
       "  .table-result-container {\n",
       "    max-height: 300px;\n",
       "    overflow: auto;\n",
       "  }\n",
       "  table, th, td {\n",
       "    border: 1px solid black;\n",
       "    border-collapse: collapse;\n",
       "  }\n",
       "  th, td {\n",
       "    padding: 5px;\n",
       "  }\n",
       "  th {\n",
       "    text-align: left;\n",
       "  }\n",
       "</style><div class='table-result-container'><table class='table-result'><thead style='background-color: white'><tr><th>id</th><th>random_value</th><th>isVal</th></tr></thead><tbody><tr><td>0</td><td>0.7643605714316595</td><td>1</td></tr><tr><td>1</td><td>0.9289715420218712</td><td>1</td></tr><tr><td>2</td><td>0.03644063142076137</td><td>0</td></tr><tr><td>3</td><td>0.7291303706774628</td><td>1</td></tr><tr><td>4</td><td>0.49902317839079624</td><td>0</td></tr><tr><td>5</td><td>0.34325632920422877</td><td>0</td></tr><tr><td>6</td><td>0.6838461936613202</td><td>1</td></tr><tr><td>7</td><td>0.2186112938017104</td><td>0</td></tr><tr><td>8</td><td>0.3360641162675362</td><td>0</td></tr><tr><td>9</td><td>0.8808821782822814</td><td>1</td></tr><tr><td>10</td><td>0.1667958397273176</td><td>0</td></tr><tr><td>11</td><td>0.3680999422934087</td><td>0</td></tr><tr><td>12</td><td>0.5064075904997529</td><td>1</td></tr><tr><td>13</td><td>0.5642042679887285</td><td>1</td></tr><tr><td>14</td><td>0.5088207773416731</td><td>1</td></tr></tbody></table></div>"
      ]
     },
     "metadata": {
      "application/vnd.databricks.v1+output": {
       "addedWidgets": {},
       "aggData": [],
       "aggError": "",
       "aggOverflow": false,
       "aggSchema": [],
       "aggSeriesLimitReached": false,
       "aggType": "",
       "arguments": {},
       "columnCustomDisplayInfos": {},
       "data": [
        [
         0,
         0.7643605714316595,
         1
        ],
        [
         1,
         0.9289715420218712,
         1
        ],
        [
         2,
         0.03644063142076137,
         0
        ],
        [
         3,
         0.7291303706774628,
         1
        ],
        [
         4,
         0.49902317839079624,
         0
        ],
        [
         5,
         0.34325632920422877,
         0
        ],
        [
         6,
         0.6838461936613202,
         1
        ],
        [
         7,
         0.2186112938017104,
         0
        ],
        [
         8,
         0.3360641162675362,
         0
        ],
        [
         9,
         0.8808821782822814,
         1
        ],
        [
         10,
         0.1667958397273176,
         0
        ],
        [
         11,
         0.3680999422934087,
         0
        ],
        [
         12,
         0.5064075904997529,
         1
        ],
        [
         13,
         0.5642042679887285,
         1
        ],
        [
         14,
         0.5088207773416731,
         1
        ]
       ],
       "datasetInfos": [],
       "dbfsResultPath": null,
       "isJsonSchema": true,
       "metadata": {},
       "overflow": false,
       "plotOptions": {
        "customPlotOptions": {},
        "displayType": "table",
        "pivotAggregation": null,
        "pivotColumns": null,
        "xColumns": null,
        "yColumns": null
       },
       "removedWidgets": [],
       "schema": [
        {
         "metadata": "{}",
         "name": "id",
         "type": "\"long\""
        },
        {
         "metadata": "{}",
         "name": "random_value",
         "type": "\"double\""
        },
        {
         "metadata": "{}",
         "name": "isVal",
         "type": "\"integer\""
        }
       ],
       "type": "table"
      }
     },
     "output_type": "display_data"
    }
   ],
   "source": [
    "# Add a column for random values\n",
    "df1 = df.withColumn('random_value', rand())\n",
    "\n",
    "# Add a column 'isVal' based on the condition\n",
    "df2 = df1.withColumn('isVal', when(df1['random_value'] > 0.5, 1).otherwise(0))\n",
    "\n",
    "# Display the result\n",
    "display(df2)"
   ]
  },
  {
   "cell_type": "code",
   "execution_count": 0,
   "metadata": {
    "application/vnd.databricks.v1+cell": {
     "cellMetadata": {
      "byteLimit": 2048000,
      "rowLimit": 10000
     },
     "inputWidgets": {},
     "nuid": "48a8fad5-900d-48ef-b5ae-d2f9f70edc0f",
     "showTitle": false,
     "tableResultSettingsMap": {},
     "title": ""
    }
   },
   "outputs": [
    {
     "output_type": "display_data",
     "data": {
      "text/html": [
       "<style scoped>\n",
       "  .table-result-container {\n",
       "    max-height: 300px;\n",
       "    overflow: auto;\n",
       "  }\n",
       "  table, th, td {\n",
       "    border: 1px solid black;\n",
       "    border-collapse: collapse;\n",
       "  }\n",
       "  th, td {\n",
       "    padding: 5px;\n",
       "  }\n",
       "  th {\n",
       "    text-align: left;\n",
       "  }\n",
       "</style><div class='table-result-container'><table class='table-result'><thead style='background-color: white'><tr><th>id</th><th>random_value</th><th>isVal</th><th>isEven</th><th>isHigh</th><th>Status</th></tr></thead><tbody><tr><td>0</td><td>0.7643605714316595</td><td>1</td><td>1</td><td>0</td><td>Low</td></tr><tr><td>1</td><td>0.9289715420218712</td><td>1</td><td>1</td><td>0</td><td>High</td></tr><tr><td>2</td><td>0.03644063142076137</td><td>0</td><td>1</td><td>0</td><td>High</td></tr><tr><td>3</td><td>0.7291303706774628</td><td>1</td><td>1</td><td>1</td><td>Low</td></tr><tr><td>4</td><td>0.49902317839079624</td><td>0</td><td>0</td><td>1</td><td>High</td></tr><tr><td>5</td><td>0.34325632920422877</td><td>0</td><td>1</td><td>0</td><td>High</td></tr><tr><td>6</td><td>0.6838461936613202</td><td>1</td><td>1</td><td>0</td><td>Low</td></tr><tr><td>7</td><td>0.2186112938017104</td><td>0</td><td>0</td><td>0</td><td>Low</td></tr><tr><td>8</td><td>0.3360641162675362</td><td>0</td><td>0</td><td>1</td><td>High</td></tr><tr><td>9</td><td>0.8808821782822814</td><td>1</td><td>1</td><td>1</td><td>High</td></tr><tr><td>10</td><td>0.1667958397273176</td><td>0</td><td>1</td><td>0</td><td>High</td></tr><tr><td>11</td><td>0.3680999422934087</td><td>0</td><td>0</td><td>0</td><td>High</td></tr><tr><td>12</td><td>0.5064075904997529</td><td>1</td><td>1</td><td>1</td><td>Low</td></tr><tr><td>13</td><td>0.5642042679887285</td><td>1</td><td>1</td><td>1</td><td>Low</td></tr><tr><td>14</td><td>0.5088207773416731</td><td>1</td><td>1</td><td>0</td><td>Low</td></tr></tbody></table></div>"
      ]
     },
     "metadata": {
      "application/vnd.databricks.v1+output": {
       "addedWidgets": {},
       "aggData": [],
       "aggError": "",
       "aggOverflow": false,
       "aggSchema": [],
       "aggSeriesLimitReached": false,
       "aggType": "",
       "arguments": {},
       "columnCustomDisplayInfos": {},
       "data": [
        [
         0,
         0.7643605714316595,
         1,
         1,
         0,
         "Low"
        ],
        [
         1,
         0.9289715420218712,
         1,
         1,
         0,
         "High"
        ],
        [
         2,
         0.03644063142076137,
         0,
         1,
         0,
         "High"
        ],
        [
         3,
         0.7291303706774628,
         1,
         1,
         1,
         "Low"
        ],
        [
         4,
         0.49902317839079624,
         0,
         0,
         1,
         "High"
        ],
        [
         5,
         0.34325632920422877,
         0,
         1,
         0,
         "High"
        ],
        [
         6,
         0.6838461936613202,
         1,
         1,
         0,
         "Low"
        ],
        [
         7,
         0.2186112938017104,
         0,
         0,
         0,
         "Low"
        ],
        [
         8,
         0.3360641162675362,
         0,
         0,
         1,
         "High"
        ],
        [
         9,
         0.8808821782822814,
         1,
         1,
         1,
         "High"
        ],
        [
         10,
         0.1667958397273176,
         0,
         1,
         0,
         "High"
        ],
        [
         11,
         0.3680999422934087,
         0,
         0,
         0,
         "High"
        ],
        [
         12,
         0.5064075904997529,
         1,
         1,
         1,
         "Low"
        ],
        [
         13,
         0.5642042679887285,
         1,
         1,
         1,
         "Low"
        ],
        [
         14,
         0.5088207773416731,
         1,
         1,
         0,
         "Low"
        ]
       ],
       "datasetInfos": [],
       "dbfsResultPath": null,
       "isJsonSchema": true,
       "metadata": {},
       "overflow": false,
       "plotOptions": {
        "customPlotOptions": {},
        "displayType": "table",
        "pivotAggregation": null,
        "pivotColumns": null,
        "xColumns": null,
        "yColumns": null
       },
       "removedWidgets": [],
       "schema": [
        {
         "metadata": "{}",
         "name": "id",
         "type": "\"long\""
        },
        {
         "metadata": "{}",
         "name": "random_value",
         "type": "\"double\""
        },
        {
         "metadata": "{}",
         "name": "isVal",
         "type": "\"integer\""
        },
        {
         "metadata": "{}",
         "name": "isEven",
         "type": "\"integer\""
        },
        {
         "metadata": "{}",
         "name": "isHigh",
         "type": "\"integer\""
        },
        {
         "metadata": "{}",
         "name": "Status",
         "type": "\"string\""
        }
       ],
       "type": "table"
      }
     },
     "output_type": "display_data"
    }
   ],
   "source": [
    "df3 = df2.withColumn('isEven', when((rand() * 10).cast('int') % 2 == 0, 1).otherwise(0)) \\\n",
    "         .withColumn('isHigh', when(rand() > 0.7, 1).otherwise(0))\\\n",
    "         .withColumn('Status', when(rand() < 0.5, 'Low') # 50% chance for \"Low\"\n",
    "                              .when((rand() >= 0.5) & (rand() < 0.8), 'Medium') # 30% chance for \"Medium\"\n",
    "                              .otherwise('High')) # 20% chance for \"High\"\n",
    "\n",
    "display(df3)"
   ]
  },
  {
   "cell_type": "markdown",
   "metadata": {
    "application/vnd.databricks.v1+cell": {
     "cellMetadata": {},
     "inputWidgets": {},
     "nuid": "cb817ebe-0975-418d-b8c3-26c44e89c58c",
     "showTitle": false,
     "tableResultSettingsMap": {},
     "title": ""
    }
   },
   "source": [
    "**Ex 02**"
   ]
  },
  {
   "cell_type": "code",
   "execution_count": 0,
   "metadata": {
    "application/vnd.databricks.v1+cell": {
     "cellMetadata": {
      "byteLimit": 2048000,
      "rowLimit": 10000
     },
     "inputWidgets": {},
     "nuid": "18c2a781-4437-424f-9103-7eb7db12cd11",
     "showTitle": false,
     "tableResultSettingsMap": {},
     "title": ""
    }
   },
   "outputs": [
    {
     "output_type": "display_data",
     "data": {
      "text/html": [
       "<style scoped>\n",
       "  .table-result-container {\n",
       "    max-height: 300px;\n",
       "    overflow: auto;\n",
       "  }\n",
       "  table, th, td {\n",
       "    border: 1px solid black;\n",
       "    border-collapse: collapse;\n",
       "  }\n",
       "  th, td {\n",
       "    padding: 5px;\n",
       "  }\n",
       "  th {\n",
       "    text-align: left;\n",
       "  }\n",
       "</style><div class='table-result-container'><table class='table-result'><thead style='background-color: white'><tr><th>Source</th><th>Product_Id</th><th>Product_Version_Id</th><th>Category</th><th>Index</th><th>Location</th><th>Start_Date</th><th>Start_Cust_Date</th><th>Cust_Value</th><th>End_Date</th><th>Product_Type</th><th>Product_Volume</th><th>Product_Volume_Start</th><th>Product_Volume_End</th><th>Product_Flag</th><th>Last_Date</th><th>Product_Subversion_Id</th><th>Product_Base_Id</th><th>Product_Base_Profile_Id</th></tr></thead><tbody><tr><td>RESTAPI</td><td>200</td><td>650</td><td>Standard</td><td>true</td><td>IND</td><td>3-Feb-23</td><td>1.74E12</td><td>30</td><td>1.78E12</td><td>Automatic</td><td>34.0</td><td>56.0</td><td>12.0</td><td>Yes</td><td>1.73E12</td><td>14</td><td>100</td><td>100</td></tr><tr><td>RESTAPI</td><td>201</td><td>651</td><td>Standard</td><td>false</td><td>IND</td><td>6-Feb-23</td><td>1.73E12</td><td>25</td><td>1.73E12</td><td>Automatic</td><td>23.0</td><td>12.5</td><td>34.0</td><td>Yes</td><td>1.73E12</td><td>11</td><td>100</td><td>100</td></tr><tr><td>RESTAPI</td><td>202</td><td>652</td><td>Standard</td><td>false</td><td>IND</td><td>9-Feb-23</td><td>1.74E12</td><td>28</td><td>1.71E12</td><td>Automatic</td><td>155.66</td><td>2.4</td><td>5.678</td><td>No</td><td>1.73E12</td><td>11</td><td>100</td><td>100</td></tr><tr><td>RESTAPI</td><td>203</td><td>653</td><td>Standard</td><td>false</td><td>IND</td><td>3-Jan-24</td><td>1.74E12</td><td>31</td><td>1.74E12</td><td>Automatic</td><td>43.0</td><td>34.0</td><td>6.0</td><td>Yes</td><td>1.73E12</td><td>12</td><td>100</td><td>100</td></tr><tr><td>RESTAPI</td><td>204</td><td>654</td><td>Standard</td><td>false</td><td>IND</td><td>8-Jan-24</td><td>1.72E12</td><td>34</td><td>1.73E12</td><td>Automatic</td><td>67.0</td><td>67.0</td><td>8.0</td><td>Yes</td><td>1.73E12</td><td>11</td><td>100</td><td>100</td></tr><tr><td>RESTAPI</td><td>205</td><td>655</td><td>Standard</td><td>true</td><td>IND</td><td>9-Jan-24</td><td>1.71E12</td><td>37</td><td>1.72E12</td><td>Automatic</td><td>59.0</td><td>34.0</td><td>9.0</td><td>Yes</td><td>1.73E12</td><td>12</td><td>100</td><td>100</td></tr><tr><td>RESTAPI</td><td>206</td><td>656</td><td>Upper</td><td>true</td><td>IND</td><td>3-Mar-23</td><td>1.73E12</td><td>40</td><td>1.74E12</td><td>Automatic</td><td>42.0</td><td>22.0</td><td>11.0</td><td>No</td><td>1.73E12</td><td>11</td><td>100</td><td>100</td></tr><tr><td>RESTAPI</td><td>207</td><td>657</td><td>Upper</td><td>true</td><td>IND</td><td>6-Mar-23</td><td>1.73E12</td><td>43</td><td>1.74E12</td><td>Automatic</td><td>61.0</td><td>31.0</td><td>14.0</td><td>Yes</td><td>1.73E12</td><td>11</td><td>100</td><td>100</td></tr><tr><td>RESTAPI</td><td>208</td><td>658</td><td>Upper</td><td>true</td><td>IND</td><td>9-Mar-23</td><td>1.74E12</td><td>46</td><td>1.77E12</td><td>Automatic</td><td>63.0</td><td>23.0</td><td>16.0</td><td>Yes</td><td>1.73E12</td><td>11</td><td>100</td><td>100</td></tr><tr><td>RESTAPI</td><td>209</td><td>659</td><td>Upper</td><td>false</td><td>IND</td><td>3-Jan-25</td><td>1.71E12</td><td>49</td><td>1.71E12</td><td>Automatic</td><td>433.768</td><td>56.78</td><td>9.7</td><td>Yes</td><td>1.73E12</td><td>11</td><td>100</td><td>100</td></tr><tr><td>RESTAPI</td><td>210</td><td>660</td><td>Upper</td><td>false</td><td>IND</td><td>6-Jan-25</td><td>1.72E12</td><td>52</td><td>1.76E12</td><td>Automatic</td><td>108.2233</td><td>43.0</td><td>6.5</td><td>No</td><td>1.73E12</td><td>11</td><td>100</td><td>100</td></tr><tr><td>RESTAPI</td><td>211</td><td>661</td><td>Upper</td><td>false</td><td>IND</td><td>9-Jan-25</td><td>1.73E12</td><td>55</td><td>1.73E12</td><td>Automatic</td><td>225.0</td><td>1.8</td><td>3.56</td><td>Yes</td><td>1.73E12</td><td>12</td><td>100</td><td>100</td></tr><tr><td>RESTAPI</td><td>212</td><td>662</td><td>Upper</td><td>false</td><td>IND</td><td>3-Apr-23</td><td>1.74E12</td><td>58</td><td>1.72E12</td><td>Automatic</td><td>450.0</td><td>3.6</td><td>7.45</td><td>Yes</td><td>1.73E12</td><td>15</td><td>100</td><td>100</td></tr><tr><td>RESTAPI</td><td>213</td><td>663</td><td>Upper</td><td>false</td><td>USA</td><td>6-Apr-23</td><td>1.71E12</td><td>61</td><td>1.71E12</td><td>Automatic</td><td>265.897</td><td>4.78</td><td>6.43</td><td>No</td><td>1.73E12</td><td>12</td><td>100</td><td>100</td></tr><tr><td>RESTAPI</td><td>214</td><td>664</td><td>Medium</td><td>false</td><td>USA</td><td>6-Apr-23</td><td>1.75E12</td><td>64</td><td>1.75E12</td><td>Mannual</td><td>25.0</td><td>7.5</td><td>15.0</td><td>Yes</td><td>1.73E12</td><td>12</td><td>111</td><td>111</td></tr><tr><td>RESTAPI</td><td>215</td><td>665</td><td>Medium</td><td>false</td><td>USA</td><td>3-Feb-23</td><td>1.74E12</td><td>67</td><td>1.74E12</td><td>Automatic</td><td>-25.345</td><td>-21.78</td><td>-43.56</td><td>Yes</td><td>1.73E12</td><td>11</td><td>111</td><td>100</td></tr><tr><td>RESTAPI</td><td>216</td><td>666</td><td>Medium</td><td>true</td><td>USA</td><td>6-Feb-23</td><td>1.73E12</td><td>70</td><td>1.73E12</td><td>Automatic</td><td>-21.546</td><td>-0.6</td><td>-11.23</td><td>No</td><td>1.73E12</td><td>11</td><td>111</td><td>100</td></tr><tr><td>RESTAPI</td><td>217</td><td>667</td><td>Medium</td><td>true</td><td>USA</td><td>9-Feb-23</td><td>1.73E12</td><td>73</td><td>1.73E12</td><td>Mannual</td><td>76.567</td><td>0.6</td><td>1.56</td><td>No</td><td>1.73E12</td><td>12</td><td>111</td><td>12</td></tr><tr><td>RESTAPI</td><td>218</td><td>668</td><td>Medium</td><td>true</td><td>USA</td><td>3-Jan-24</td><td>1.73E12</td><td>76</td><td>1.73E12</td><td>Automatic</td><td>98.098</td><td>0.6</td><td>2.78</td><td>No</td><td>1.73E12</td><td>12</td><td>111</td><td>111</td></tr><tr><td>RESTAPI</td><td>219</td><td>669</td><td>Medium</td><td>true</td><td>USA</td><td>8-Jan-24</td><td>1.73E12</td><td>79</td><td>1.73E12</td><td>Automatic</td><td>11.65</td><td>0.6</td><td>3.23</td><td>Yes</td><td>1.73E12</td><td>12</td><td>111</td><td>100</td></tr><tr><td>RESTAPI</td><td>220</td><td>670</td><td>Medium</td><td>true</td><td>USA</td><td>9-Jan-24</td><td>1.75E12</td><td>82</td><td>1.75E12</td><td>Mannual</td><td>4.22</td><td>0.06</td><td>0.14</td><td>Yes</td><td>1.73E12</td><td>11</td><td>111</td><td>111</td></tr><tr><td>RESTAPI</td><td>221</td><td>671</td><td>Medium</td><td>false</td><td>USA</td><td>3-Mar-23</td><td>1.74E12</td><td>85</td><td>1.75E12</td><td>Mannual</td><td>3.21</td><td>20.06</td><td>0.34</td><td>Yes</td><td>1.73E12</td><td>11</td><td>111</td><td>100</td></tr><tr><td>RESTAPI</td><td>222</td><td>672</td><td>Medium</td><td>false</td><td>USA</td><td>6-Mar-23</td><td>1.75E12</td><td>88</td><td>1.75E12</td><td>Mannual</td><td>-23.32</td><td>-10.06</td><td>-1.45</td><td>No</td><td>1.73E12</td><td>11</td><td>111</td><td>111</td></tr><tr><td>RESTAPI</td><td>223</td><td>673</td><td>Medium</td><td>false</td><td>USA</td><td>9-Mar-23</td><td>1.74E12</td><td>91</td><td>1.75E12</td><td>Automatic</td><td>-78.76</td><td>-0.36</td><td>-0.98</td><td>Yes</td><td>1.73E12</td><td>11</td><td>111</td><td>100</td></tr><tr><td>RESTAPI</td><td>224</td><td>674</td><td>Medium</td><td>false</td><td>USA</td><td>3-Jan-25</td><td>1.74E12</td><td>94</td><td>1.8E12</td><td>Automatic</td><td>-7.56</td><td>-0.16</td><td>-0.345</td><td>Yes</td><td>1.73E12</td><td>12</td><td>111</td><td>100</td></tr><tr><td>RESTAPI</td><td>225</td><td>675</td><td>Medium</td><td>false</td><td>USA</td><td>6-Jan-25</td><td>1.73E12</td><td>97</td><td>1.73E12</td><td>Automatic</td><td>67.667</td><td>0.6</td><td>4.345</td><td>Yes</td><td>1.73E12</td><td>12</td><td>111</td><td>100</td></tr><tr><td>RESTAPI</td><td>226</td><td>676</td><td>Medium</td><td>true</td><td>USA</td><td>9-Jan-25</td><td>1.73E12</td><td>100</td><td>1.73E12</td><td>Automatic</td><td>-88.0</td><td>-11.0</td><td>-22.0</td><td>Yes</td><td>1.73E12</td><td>12</td><td>111</td><td>100</td></tr><tr><td>RESTAPI</td><td>227</td><td>677</td><td>Medium</td><td>true</td><td>USA</td><td>3-Apr-23</td><td>1.73E12</td><td>103</td><td>1.73E12</td><td>Mannual</td><td>35.0</td><td>2.5</td><td>5.0</td><td>Yes</td><td>1.73E12</td><td>12</td><td>111</td><td>100</td></tr><tr><td>RESTAPI</td><td>228</td><td>678</td><td>Medium</td><td>true</td><td>UK</td><td>6-Apr-23</td><td>1.75E12</td><td>106</td><td>1.75E12</td><td>Mannual</td><td>60.0</td><td>51.0</td><td>10.0</td><td>No</td><td>1.73E12</td><td>12</td><td>111</td><td>12</td></tr><tr><td>RESTAPI</td><td>229</td><td>679</td><td>Premium</td><td>true</td><td>UK</td><td>9-Apr-23</td><td>1.75E12</td><td>109</td><td>1.75E12</td><td>Mannual</td><td>30.0</td><td>53.0</td><td>23.0</td><td>No</td><td>1.73E12</td><td>12</td><td>111</td><td>111</td></tr><tr><td>RESTAPI</td><td>230</td><td>680</td><td>Premium</td><td>true</td><td>UK</td><td>3-Feb-23</td><td>1.74E12</td><td>112</td><td>1.75E12</td><td>Automatic</td><td>10.0</td><td>13.0</td><td>22.0</td><td>Yes</td><td>1.73E12</td><td>12</td><td>111</td><td>100</td></tr><tr><td>RESTAPI</td><td>231</td><td>681</td><td>Premium</td><td>true</td><td>UK</td><td>6-Feb-23</td><td>1.74E12</td><td>115</td><td>1.75E12</td><td>Mannual</td><td>15.0</td><td>7.5</td><td>39.0</td><td>Yes</td><td>1.73E12</td><td>12</td><td>111</td><td>100</td></tr><tr><td>RESTAPI</td><td>232</td><td>682</td><td>Premium</td><td>true</td><td>UK</td><td>9-Feb-23</td><td>1.74E12</td><td>118</td><td>1.74E12</td><td>Mannual</td><td>-91.0</td><td>-25.94</td><td>-34.7</td><td>Yes</td><td>1.73E12</td><td>11</td><td>111</td><td>100</td></tr><tr><td>RESTAPI</td><td>233</td><td>683</td><td>Premium</td><td>false</td><td>UK</td><td>3-Jan-24</td><td>1.74E12</td><td>121</td><td>1.74E12</td><td>Mannual</td><td>-67.0</td><td>-50.45</td><td>-23.7</td><td>No</td><td>1.73E12</td><td>11</td><td>111</td><td>100</td></tr><tr><td>RESTAPI</td><td>234</td><td>684</td><td>Premium</td><td>false</td><td>UK</td><td>8-Jan-24</td><td>1.74E12</td><td>124</td><td>1.74E12</td><td>Mannual</td><td>-38.98</td><td>-26.73</td><td>-12.345</td><td>Yes</td><td>1.73E12</td><td>11</td><td>111</td><td>100</td></tr><tr><td>RESTAPI</td><td>235</td><td>685</td><td>Premium</td><td>false</td><td>UK</td><td>9-Jan-24</td><td>1.74E12</td><td>127</td><td>1.74E12</td><td>Automatic</td><td>-44.54</td><td>-87.67</td><td>-89.76</td><td>Yes</td><td>1.73E12</td><td>11</td><td>111</td><td>100</td></tr><tr><td>RESTAPI</td><td>236</td><td>686</td><td>Premium</td><td>false</td><td>UK</td><td>3-Mar-23</td><td>1.74E12</td><td>130</td><td>1.74E12</td><td>Automatic</td><td>-76.0</td><td>-78.345</td><td>-65.123</td><td>Yes</td><td>1.73E12</td><td>11</td><td>111</td><td>100</td></tr><tr><td>RESTAPI</td><td>237</td><td>687</td><td>Premium</td><td>false</td><td>UK</td><td>6-Mar-23</td><td>1.74E12</td><td>133</td><td>1.73E12</td><td>Mannual</td><td>-88.0</td><td>-0.576</td><td>-1.456</td><td>No</td><td>1.73E12</td><td>11</td><td>111</td><td>100</td></tr><tr><td>RESTAPI</td><td>238</td><td>688</td><td>Premium</td><td>true</td><td>UK</td><td>9-Mar-23</td><td>1.73E12</td><td>136</td><td>1.73E12</td><td>Mannual</td><td>-76.564</td><td>-0.6</td><td>-23.56</td><td>No</td><td>1.73E12</td><td>11</td><td>111</td><td>100</td></tr><tr><td>RESTAPI</td><td>239</td><td>689</td><td>Lower</td><td>true</td><td>UK</td><td>3-Jan-25</td><td>1.73E12</td><td>139</td><td>1.73E12</td><td>Automatic</td><td>-40.0</td><td>-0.576</td><td>-12.34</td><td>No</td><td>1.73E12</td><td>11</td><td>111</td><td>100</td></tr><tr><td>RESTAPI</td><td>240</td><td>690</td><td>Lower</td><td>true</td><td>UK</td><td>6-Jan-25</td><td>1.73E12</td><td>142</td><td>1.73E12</td><td>Automatic</td><td>-213.456</td><td>-20.6</td><td>-11.11</td><td>Yes</td><td>1.73E12</td><td>11</td><td>111</td><td>100</td></tr><tr><td>RESTAPI</td><td>241</td><td>691</td><td>Lower</td><td>true</td><td>UK</td><td>9-Jan-25</td><td>1.73E12</td><td>145</td><td>1.73E12</td><td>Mannual</td><td>-11.98</td><td>-10.6</td><td>-14.67</td><td>Yes</td><td>1.73E12</td><td>11</td><td>111</td><td>100</td></tr><tr><td>RESTAPI</td><td>242</td><td>692</td><td>Lower</td><td>true</td><td>UK</td><td>3-Apr-23</td><td>1.73E12</td><td>148</td><td>1.73E12</td><td>Mannual</td><td>91.78</td><td>0.698</td><td>1.221</td><td>Yes</td><td>1.73E12</td><td>12</td><td>111</td><td>100</td></tr><tr><td>RESTAPI</td><td>243</td><td>693</td><td>Lower</td><td>true</td><td>UK</td><td>6-Apr-23</td><td>1.73E12</td><td>151</td><td>1.73E12</td><td>Mannual</td><td>55.0</td><td>0.5</td><td>1.789</td><td>Yes</td><td>1.73E12</td><td>12</td><td>111</td><td>111</td></tr><tr><td>RESTAPI</td><td>244</td><td>694</td><td>Lower</td><td>true</td><td>SL</td><td>3-Apr-23</td><td>1.73E12</td><td>154</td><td>1.73E12</td><td>Automatic</td><td>78.0</td><td>10.5</td><td>4.17</td><td>Yes</td><td>1.73E12</td><td>12</td><td>111</td><td>111</td></tr><tr><td>RESTAPI</td><td>245</td><td>695</td><td>Lower</td><td>true</td><td>SL</td><td>3-Feb-23</td><td>1.73E12</td><td>157</td><td>1.76E12</td><td>Mannual</td><td>32.56</td><td>0.06</td><td>11.55</td><td>No</td><td>1.73E12</td><td>12</td><td>111</td><td>111</td></tr><tr><td>RESTAPI</td><td>246</td><td>696</td><td>Lower</td><td>false</td><td>SL</td><td>6-Feb-23</td><td>1.73E12</td><td>160</td><td>1.73E12</td><td>Mannual</td><td>67.99</td><td>0.136</td><td>31.56</td><td>No</td><td>1.73E12</td><td>12</td><td>111</td><td>111</td></tr><tr><td>RESTAPI</td><td>247</td><td>697</td><td>Lower</td><td>false</td><td>SL</td><td>9-Feb-23</td><td>1.73E12</td><td>163</td><td>1.73E12</td><td>Automatic</td><td>67.55</td><td>0.6345</td><td>1.98</td><td>Yes</td><td>1.73E12</td><td>12</td><td>111</td><td>111</td></tr><tr><td>RESTAPI</td><td>248</td><td>698</td><td>Lower</td><td>false</td><td>SL</td><td>3-Jan-24</td><td>1.73E12</td><td>166</td><td>1.73E12</td><td>Automatic</td><td>34.34</td><td>10.6</td><td>41.89</td><td>Yes</td><td>1.73E12</td><td>12</td><td>111</td><td>12</td></tr><tr><td>RESTAPI</td><td>249</td><td>699</td><td>Lower</td><td>false</td><td>SL</td><td>3-Jan-24</td><td>1.74E12</td><td>166</td><td>1.75E12</td><td>Automatic</td><td>4.789</td><td>0.06</td><td>0.567</td><td>No</td><td>1.73E12</td><td>12</td><td>111</td><td>100</td></tr></tbody></table></div>"
      ]
     },
     "metadata": {
      "application/vnd.databricks.v1+output": {
       "addedWidgets": {},
       "aggData": [],
       "aggError": "",
       "aggOverflow": false,
       "aggSchema": [],
       "aggSeriesLimitReached": false,
       "aggType": "",
       "arguments": {},
       "columnCustomDisplayInfos": {},
       "data": [
        [
         "RESTAPI",
         200,
         650,
         "Standard",
         true,
         "IND",
         "3-Feb-23",
         1.74E12,
         30,
         1.78E12,
         "Automatic",
         34.0,
         56.0,
         12.0,
         "Yes",
         1.73E12,
         14,
         100,
         100
        ],
        [
         "RESTAPI",
         201,
         651,
         "Standard",
         false,
         "IND",
         "6-Feb-23",
         1.73E12,
         25,
         1.73E12,
         "Automatic",
         23.0,
         12.5,
         34.0,
         "Yes",
         1.73E12,
         11,
         100,
         100
        ],
        [
         "RESTAPI",
         202,
         652,
         "Standard",
         false,
         "IND",
         "9-Feb-23",
         1.74E12,
         28,
         1.71E12,
         "Automatic",
         155.66,
         2.4,
         5.678,
         "No",
         1.73E12,
         11,
         100,
         100
        ],
        [
         "RESTAPI",
         203,
         653,
         "Standard",
         false,
         "IND",
         "3-Jan-24",
         1.74E12,
         31,
         1.74E12,
         "Automatic",
         43.0,
         34.0,
         6.0,
         "Yes",
         1.73E12,
         12,
         100,
         100
        ],
        [
         "RESTAPI",
         204,
         654,
         "Standard",
         false,
         "IND",
         "8-Jan-24",
         1.72E12,
         34,
         1.73E12,
         "Automatic",
         67.0,
         67.0,
         8.0,
         "Yes",
         1.73E12,
         11,
         100,
         100
        ],
        [
         "RESTAPI",
         205,
         655,
         "Standard",
         true,
         "IND",
         "9-Jan-24",
         1.71E12,
         37,
         1.72E12,
         "Automatic",
         59.0,
         34.0,
         9.0,
         "Yes",
         1.73E12,
         12,
         100,
         100
        ],
        [
         "RESTAPI",
         206,
         656,
         "Upper",
         true,
         "IND",
         "3-Mar-23",
         1.73E12,
         40,
         1.74E12,
         "Automatic",
         42.0,
         22.0,
         11.0,
         "No",
         1.73E12,
         11,
         100,
         100
        ],
        [
         "RESTAPI",
         207,
         657,
         "Upper",
         true,
         "IND",
         "6-Mar-23",
         1.73E12,
         43,
         1.74E12,
         "Automatic",
         61.0,
         31.0,
         14.0,
         "Yes",
         1.73E12,
         11,
         100,
         100
        ],
        [
         "RESTAPI",
         208,
         658,
         "Upper",
         true,
         "IND",
         "9-Mar-23",
         1.74E12,
         46,
         1.77E12,
         "Automatic",
         63.0,
         23.0,
         16.0,
         "Yes",
         1.73E12,
         11,
         100,
         100
        ],
        [
         "RESTAPI",
         209,
         659,
         "Upper",
         false,
         "IND",
         "3-Jan-25",
         1.71E12,
         49,
         1.71E12,
         "Automatic",
         433.768,
         56.78,
         9.7,
         "Yes",
         1.73E12,
         11,
         100,
         100
        ],
        [
         "RESTAPI",
         210,
         660,
         "Upper",
         false,
         "IND",
         "6-Jan-25",
         1.72E12,
         52,
         1.76E12,
         "Automatic",
         108.2233,
         43.0,
         6.5,
         "No",
         1.73E12,
         11,
         100,
         100
        ],
        [
         "RESTAPI",
         211,
         661,
         "Upper",
         false,
         "IND",
         "9-Jan-25",
         1.73E12,
         55,
         1.73E12,
         "Automatic",
         225.0,
         1.8,
         3.56,
         "Yes",
         1.73E12,
         12,
         100,
         100
        ],
        [
         "RESTAPI",
         212,
         662,
         "Upper",
         false,
         "IND",
         "3-Apr-23",
         1.74E12,
         58,
         1.72E12,
         "Automatic",
         450.0,
         3.6,
         7.45,
         "Yes",
         1.73E12,
         15,
         100,
         100
        ],
        [
         "RESTAPI",
         213,
         663,
         "Upper",
         false,
         "USA",
         "6-Apr-23",
         1.71E12,
         61,
         1.71E12,
         "Automatic",
         265.897,
         4.78,
         6.43,
         "No",
         1.73E12,
         12,
         100,
         100
        ],
        [
         "RESTAPI",
         214,
         664,
         "Medium",
         false,
         "USA",
         "6-Apr-23",
         1.75E12,
         64,
         1.75E12,
         "Mannual",
         25.0,
         7.5,
         15.0,
         "Yes",
         1.73E12,
         12,
         111,
         111
        ],
        [
         "RESTAPI",
         215,
         665,
         "Medium",
         false,
         "USA",
         "3-Feb-23",
         1.74E12,
         67,
         1.74E12,
         "Automatic",
         -25.345,
         -21.78,
         -43.56,
         "Yes",
         1.73E12,
         11,
         111,
         100
        ],
        [
         "RESTAPI",
         216,
         666,
         "Medium",
         true,
         "USA",
         "6-Feb-23",
         1.73E12,
         70,
         1.73E12,
         "Automatic",
         -21.546,
         -0.6,
         -11.23,
         "No",
         1.73E12,
         11,
         111,
         100
        ],
        [
         "RESTAPI",
         217,
         667,
         "Medium",
         true,
         "USA",
         "9-Feb-23",
         1.73E12,
         73,
         1.73E12,
         "Mannual",
         76.567,
         0.6,
         1.56,
         "No",
         1.73E12,
         12,
         111,
         12
        ],
        [
         "RESTAPI",
         218,
         668,
         "Medium",
         true,
         "USA",
         "3-Jan-24",
         1.73E12,
         76,
         1.73E12,
         "Automatic",
         98.098,
         0.6,
         2.78,
         "No",
         1.73E12,
         12,
         111,
         111
        ],
        [
         "RESTAPI",
         219,
         669,
         "Medium",
         true,
         "USA",
         "8-Jan-24",
         1.73E12,
         79,
         1.73E12,
         "Automatic",
         11.65,
         0.6,
         3.23,
         "Yes",
         1.73E12,
         12,
         111,
         100
        ],
        [
         "RESTAPI",
         220,
         670,
         "Medium",
         true,
         "USA",
         "9-Jan-24",
         1.75E12,
         82,
         1.75E12,
         "Mannual",
         4.22,
         0.06,
         0.14,
         "Yes",
         1.73E12,
         11,
         111,
         111
        ],
        [
         "RESTAPI",
         221,
         671,
         "Medium",
         false,
         "USA",
         "3-Mar-23",
         1.74E12,
         85,
         1.75E12,
         "Mannual",
         3.21,
         20.06,
         0.34,
         "Yes",
         1.73E12,
         11,
         111,
         100
        ],
        [
         "RESTAPI",
         222,
         672,
         "Medium",
         false,
         "USA",
         "6-Mar-23",
         1.75E12,
         88,
         1.75E12,
         "Mannual",
         -23.32,
         -10.06,
         -1.45,
         "No",
         1.73E12,
         11,
         111,
         111
        ],
        [
         "RESTAPI",
         223,
         673,
         "Medium",
         false,
         "USA",
         "9-Mar-23",
         1.74E12,
         91,
         1.75E12,
         "Automatic",
         -78.76,
         -0.36,
         -0.98,
         "Yes",
         1.73E12,
         11,
         111,
         100
        ],
        [
         "RESTAPI",
         224,
         674,
         "Medium",
         false,
         "USA",
         "3-Jan-25",
         1.74E12,
         94,
         1.8E12,
         "Automatic",
         -7.56,
         -0.16,
         -0.345,
         "Yes",
         1.73E12,
         12,
         111,
         100
        ],
        [
         "RESTAPI",
         225,
         675,
         "Medium",
         false,
         "USA",
         "6-Jan-25",
         1.73E12,
         97,
         1.73E12,
         "Automatic",
         67.667,
         0.6,
         4.345,
         "Yes",
         1.73E12,
         12,
         111,
         100
        ],
        [
         "RESTAPI",
         226,
         676,
         "Medium",
         true,
         "USA",
         "9-Jan-25",
         1.73E12,
         100,
         1.73E12,
         "Automatic",
         -88.0,
         -11.0,
         -22.0,
         "Yes",
         1.73E12,
         12,
         111,
         100
        ],
        [
         "RESTAPI",
         227,
         677,
         "Medium",
         true,
         "USA",
         "3-Apr-23",
         1.73E12,
         103,
         1.73E12,
         "Mannual",
         35.0,
         2.5,
         5.0,
         "Yes",
         1.73E12,
         12,
         111,
         100
        ],
        [
         "RESTAPI",
         228,
         678,
         "Medium",
         true,
         "UK",
         "6-Apr-23",
         1.75E12,
         106,
         1.75E12,
         "Mannual",
         60.0,
         51.0,
         10.0,
         "No",
         1.73E12,
         12,
         111,
         12
        ],
        [
         "RESTAPI",
         229,
         679,
         "Premium",
         true,
         "UK",
         "9-Apr-23",
         1.75E12,
         109,
         1.75E12,
         "Mannual",
         30.0,
         53.0,
         23.0,
         "No",
         1.73E12,
         12,
         111,
         111
        ],
        [
         "RESTAPI",
         230,
         680,
         "Premium",
         true,
         "UK",
         "3-Feb-23",
         1.74E12,
         112,
         1.75E12,
         "Automatic",
         10.0,
         13.0,
         22.0,
         "Yes",
         1.73E12,
         12,
         111,
         100
        ],
        [
         "RESTAPI",
         231,
         681,
         "Premium",
         true,
         "UK",
         "6-Feb-23",
         1.74E12,
         115,
         1.75E12,
         "Mannual",
         15.0,
         7.5,
         39.0,
         "Yes",
         1.73E12,
         12,
         111,
         100
        ],
        [
         "RESTAPI",
         232,
         682,
         "Premium",
         true,
         "UK",
         "9-Feb-23",
         1.74E12,
         118,
         1.74E12,
         "Mannual",
         -91.0,
         -25.94,
         -34.7,
         "Yes",
         1.73E12,
         11,
         111,
         100
        ],
        [
         "RESTAPI",
         233,
         683,
         "Premium",
         false,
         "UK",
         "3-Jan-24",
         1.74E12,
         121,
         1.74E12,
         "Mannual",
         -67.0,
         -50.45,
         -23.7,
         "No",
         1.73E12,
         11,
         111,
         100
        ],
        [
         "RESTAPI",
         234,
         684,
         "Premium",
         false,
         "UK",
         "8-Jan-24",
         1.74E12,
         124,
         1.74E12,
         "Mannual",
         -38.98,
         -26.73,
         -12.345,
         "Yes",
         1.73E12,
         11,
         111,
         100
        ],
        [
         "RESTAPI",
         235,
         685,
         "Premium",
         false,
         "UK",
         "9-Jan-24",
         1.74E12,
         127,
         1.74E12,
         "Automatic",
         -44.54,
         -87.67,
         -89.76,
         "Yes",
         1.73E12,
         11,
         111,
         100
        ],
        [
         "RESTAPI",
         236,
         686,
         "Premium",
         false,
         "UK",
         "3-Mar-23",
         1.74E12,
         130,
         1.74E12,
         "Automatic",
         -76.0,
         -78.345,
         -65.123,
         "Yes",
         1.73E12,
         11,
         111,
         100
        ],
        [
         "RESTAPI",
         237,
         687,
         "Premium",
         false,
         "UK",
         "6-Mar-23",
         1.74E12,
         133,
         1.73E12,
         "Mannual",
         -88.0,
         -0.576,
         -1.456,
         "No",
         1.73E12,
         11,
         111,
         100
        ],
        [
         "RESTAPI",
         238,
         688,
         "Premium",
         true,
         "UK",
         "9-Mar-23",
         1.73E12,
         136,
         1.73E12,
         "Mannual",
         -76.564,
         -0.6,
         -23.56,
         "No",
         1.73E12,
         11,
         111,
         100
        ],
        [
         "RESTAPI",
         239,
         689,
         "Lower",
         true,
         "UK",
         "3-Jan-25",
         1.73E12,
         139,
         1.73E12,
         "Automatic",
         -40.0,
         -0.576,
         -12.34,
         "No",
         1.73E12,
         11,
         111,
         100
        ],
        [
         "RESTAPI",
         240,
         690,
         "Lower",
         true,
         "UK",
         "6-Jan-25",
         1.73E12,
         142,
         1.73E12,
         "Automatic",
         -213.456,
         -20.6,
         -11.11,
         "Yes",
         1.73E12,
         11,
         111,
         100
        ],
        [
         "RESTAPI",
         241,
         691,
         "Lower",
         true,
         "UK",
         "9-Jan-25",
         1.73E12,
         145,
         1.73E12,
         "Mannual",
         -11.98,
         -10.6,
         -14.67,
         "Yes",
         1.73E12,
         11,
         111,
         100
        ],
        [
         "RESTAPI",
         242,
         692,
         "Lower",
         true,
         "UK",
         "3-Apr-23",
         1.73E12,
         148,
         1.73E12,
         "Mannual",
         91.78,
         0.698,
         1.221,
         "Yes",
         1.73E12,
         12,
         111,
         100
        ],
        [
         "RESTAPI",
         243,
         693,
         "Lower",
         true,
         "UK",
         "6-Apr-23",
         1.73E12,
         151,
         1.73E12,
         "Mannual",
         55.0,
         0.5,
         1.789,
         "Yes",
         1.73E12,
         12,
         111,
         111
        ],
        [
         "RESTAPI",
         244,
         694,
         "Lower",
         true,
         "SL",
         "3-Apr-23",
         1.73E12,
         154,
         1.73E12,
         "Automatic",
         78.0,
         10.5,
         4.17,
         "Yes",
         1.73E12,
         12,
         111,
         111
        ],
        [
         "RESTAPI",
         245,
         695,
         "Lower",
         true,
         "SL",
         "3-Feb-23",
         1.73E12,
         157,
         1.76E12,
         "Mannual",
         32.56,
         0.06,
         11.55,
         "No",
         1.73E12,
         12,
         111,
         111
        ],
        [
         "RESTAPI",
         246,
         696,
         "Lower",
         false,
         "SL",
         "6-Feb-23",
         1.73E12,
         160,
         1.73E12,
         "Mannual",
         67.99,
         0.136,
         31.56,
         "No",
         1.73E12,
         12,
         111,
         111
        ],
        [
         "RESTAPI",
         247,
         697,
         "Lower",
         false,
         "SL",
         "9-Feb-23",
         1.73E12,
         163,
         1.73E12,
         "Automatic",
         67.55,
         0.6345,
         1.98,
         "Yes",
         1.73E12,
         12,
         111,
         111
        ],
        [
         "RESTAPI",
         248,
         698,
         "Lower",
         false,
         "SL",
         "3-Jan-24",
         1.73E12,
         166,
         1.73E12,
         "Automatic",
         34.34,
         10.6,
         41.89,
         "Yes",
         1.73E12,
         12,
         111,
         12
        ],
        [
         "RESTAPI",
         249,
         699,
         "Lower",
         false,
         "SL",
         "3-Jan-24",
         1.74E12,
         166,
         1.75E12,
         "Automatic",
         4.789,
         0.06,
         0.567,
         "No",
         1.73E12,
         12,
         111,
         100
        ]
       ],
       "datasetInfos": [],
       "dbfsResultPath": null,
       "isJsonSchema": true,
       "metadata": {},
       "overflow": false,
       "plotOptions": {
        "customPlotOptions": {},
        "displayType": "table",
        "pivotAggregation": null,
        "pivotColumns": null,
        "xColumns": null,
        "yColumns": null
       },
       "removedWidgets": [],
       "schema": [
        {
         "metadata": "{}",
         "name": "Source",
         "type": "\"string\""
        },
        {
         "metadata": "{}",
         "name": "Product_Id",
         "type": "\"integer\""
        },
        {
         "metadata": "{}",
         "name": "Product_Version_Id",
         "type": "\"integer\""
        },
        {
         "metadata": "{}",
         "name": "Category",
         "type": "\"string\""
        },
        {
         "metadata": "{}",
         "name": "Index",
         "type": "\"boolean\""
        },
        {
         "metadata": "{}",
         "name": "Location",
         "type": "\"string\""
        },
        {
         "metadata": "{}",
         "name": "Start_Date",
         "type": "\"string\""
        },
        {
         "metadata": "{}",
         "name": "Start_Cust_Date",
         "type": "\"double\""
        },
        {
         "metadata": "{}",
         "name": "Cust_Value",
         "type": "\"integer\""
        },
        {
         "metadata": "{}",
         "name": "End_Date",
         "type": "\"double\""
        },
        {
         "metadata": "{}",
         "name": "Product_Type",
         "type": "\"string\""
        },
        {
         "metadata": "{}",
         "name": "Product_Volume",
         "type": "\"double\""
        },
        {
         "metadata": "{}",
         "name": "Product_Volume_Start",
         "type": "\"double\""
        },
        {
         "metadata": "{}",
         "name": "Product_Volume_End",
         "type": "\"double\""
        },
        {
         "metadata": "{}",
         "name": "Product_Flag",
         "type": "\"string\""
        },
        {
         "metadata": "{}",
         "name": "Last_Date",
         "type": "\"double\""
        },
        {
         "metadata": "{}",
         "name": "Product_Subversion_Id",
         "type": "\"integer\""
        },
        {
         "metadata": "{}",
         "name": "Product_Base_Id",
         "type": "\"integer\""
        },
        {
         "metadata": "{}",
         "name": "Product_Base_Profile_Id",
         "type": "\"integer\""
        }
       ],
       "type": "table"
      }
     },
     "output_type": "display_data"
    }
   ],
   "source": [
    "product_df = spark.read.csv(\"/FileStore/tables/cross_join_million-1.csv\", header=True, inferSchema=True)\n",
    "display(product_df)"
   ]
  },
  {
   "cell_type": "code",
   "execution_count": 0,
   "metadata": {
    "application/vnd.databricks.v1+cell": {
     "cellMetadata": {
      "byteLimit": 2048000,
      "rowLimit": 10000
     },
     "inputWidgets": {},
     "nuid": "72938ecb-e78d-4715-a791-6ec87197d698",
     "showTitle": true,
     "tableResultSettingsMap": {},
     "title": "Product_Type"
    }
   },
   "outputs": [
    {
     "output_type": "display_data",
     "data": {
      "text/html": [
       "<style scoped>\n",
       "  .table-result-container {\n",
       "    max-height: 300px;\n",
       "    overflow: auto;\n",
       "  }\n",
       "  table, th, td {\n",
       "    border: 1px solid black;\n",
       "    border-collapse: collapse;\n",
       "  }\n",
       "  th, td {\n",
       "    padding: 5px;\n",
       "  }\n",
       "  th {\n",
       "    text-align: left;\n",
       "  }\n",
       "</style><div class='table-result-container'><table class='table-result'><thead style='background-color: white'><tr><th>Product_Type</th><th>count</th><th>Percentage</th></tr></thead><tbody><tr><td>Automatic</td><td>31</td><td>62.0</td></tr><tr><td>Mannual</td><td>19</td><td>38.0</td></tr></tbody></table></div>"
      ]
     },
     "metadata": {
      "application/vnd.databricks.v1+output": {
       "addedWidgets": {},
       "aggData": [],
       "aggError": "",
       "aggOverflow": false,
       "aggSchema": [],
       "aggSeriesLimitReached": false,
       "aggType": "",
       "arguments": {},
       "columnCustomDisplayInfos": {},
       "data": [
        [
         "Automatic",
         31,
         62.0
        ],
        [
         "Mannual",
         19,
         38.0
        ]
       ],
       "datasetInfos": [],
       "dbfsResultPath": null,
       "isJsonSchema": true,
       "metadata": {},
       "overflow": false,
       "plotOptions": {
        "customPlotOptions": {},
        "displayType": "table",
        "pivotAggregation": null,
        "pivotColumns": null,
        "xColumns": null,
        "yColumns": null
       },
       "removedWidgets": [],
       "schema": [
        {
         "metadata": "{}",
         "name": "Product_Type",
         "type": "\"string\""
        },
        {
         "metadata": "{}",
         "name": "count",
         "type": "\"long\""
        },
        {
         "metadata": "{}",
         "name": "Percentage",
         "type": "\"double\""
        }
       ],
       "type": "table"
      }
     },
     "output_type": "display_data"
    }
   ],
   "source": [
    "# Group by 'Product_Type' and calculate the count\n",
    "grouped_df_type_init = product_df.groupBy('Product_Type').count()\n",
    "\n",
    "# Calculate the total count\n",
    "total_count = product_df.count()\n",
    "\n",
    "# Add a percentage column\n",
    "result_Product_Type_int = grouped_df_type_init.withColumn('Percentage', (col('count') / total_count) * 100)\n",
    "\n",
    "# Display the result\n",
    "result_Product_Type_int.display()"
   ]
  },
  {
   "cell_type": "code",
   "execution_count": 0,
   "metadata": {
    "application/vnd.databricks.v1+cell": {
     "cellMetadata": {
      "byteLimit": 2048000,
      "rowLimit": 10000
     },
     "inputWidgets": {},
     "nuid": "c8121252-1607-4bbb-a226-8c01572198d6",
     "showTitle": true,
     "tableResultSettingsMap": {},
     "title": "Product_Flag"
    }
   },
   "outputs": [
    {
     "output_type": "display_data",
     "data": {
      "text/html": [
       "<style scoped>\n",
       "  .table-result-container {\n",
       "    max-height: 300px;\n",
       "    overflow: auto;\n",
       "  }\n",
       "  table, th, td {\n",
       "    border: 1px solid black;\n",
       "    border-collapse: collapse;\n",
       "  }\n",
       "  th, td {\n",
       "    padding: 5px;\n",
       "  }\n",
       "  th {\n",
       "    text-align: left;\n",
       "  }\n",
       "</style><div class='table-result-container'><table class='table-result'><thead style='background-color: white'><tr><th>Product_Flag</th><th>count</th><th>Percentage</th></tr></thead><tbody><tr><td>No</td><td>17</td><td>34.0</td></tr><tr><td>Yes</td><td>33</td><td>66.0</td></tr></tbody></table></div>"
      ]
     },
     "metadata": {
      "application/vnd.databricks.v1+output": {
       "addedWidgets": {},
       "aggData": [],
       "aggError": "",
       "aggOverflow": false,
       "aggSchema": [],
       "aggSeriesLimitReached": false,
       "aggType": "",
       "arguments": {},
       "columnCustomDisplayInfos": {},
       "data": [
        [
         "No",
         17,
         34.0
        ],
        [
         "Yes",
         33,
         66.0
        ]
       ],
       "datasetInfos": [],
       "dbfsResultPath": null,
       "isJsonSchema": true,
       "metadata": {},
       "overflow": false,
       "plotOptions": {
        "customPlotOptions": {},
        "displayType": "table",
        "pivotAggregation": null,
        "pivotColumns": null,
        "xColumns": null,
        "yColumns": null
       },
       "removedWidgets": [],
       "schema": [
        {
         "metadata": "{}",
         "name": "Product_Flag",
         "type": "\"string\""
        },
        {
         "metadata": "{}",
         "name": "count",
         "type": "\"long\""
        },
        {
         "metadata": "{}",
         "name": "Percentage",
         "type": "\"double\""
        }
       ],
       "type": "table"
      }
     },
     "output_type": "display_data"
    }
   ],
   "source": [
    "# Group by 'Product_Flag' and calculate the count\n",
    "grouped_df_flag_init = product_df.groupBy('Product_Flag').count()\n",
    "\n",
    "# Calculate the total count\n",
    "total_count = product_df.count()\n",
    "\n",
    "# Add a percentage column\n",
    "result_Product_Flag_int = grouped_df_flag_init.withColumn('Percentage', (col('count') / total_count) * 100)\n",
    "\n",
    "# Display the result\n",
    "result_Product_Flag_int.display()"
   ]
  },
  {
   "cell_type": "code",
   "execution_count": 0,
   "metadata": {
    "application/vnd.databricks.v1+cell": {
     "cellMetadata": {
      "byteLimit": 2048000,
      "rowLimit": 10000
     },
     "inputWidgets": {},
     "nuid": "f95b3353-f569-4c92-bf65-a23a49676e72",
     "showTitle": true,
     "tableResultSettingsMap": {},
     "title": "Index"
    }
   },
   "outputs": [
    {
     "output_type": "display_data",
     "data": {
      "text/html": [
       "<style scoped>\n",
       "  .table-result-container {\n",
       "    max-height: 300px;\n",
       "    overflow: auto;\n",
       "  }\n",
       "  table, th, td {\n",
       "    border: 1px solid black;\n",
       "    border-collapse: collapse;\n",
       "  }\n",
       "  th, td {\n",
       "    padding: 5px;\n",
       "  }\n",
       "  th {\n",
       "    text-align: left;\n",
       "  }\n",
       "</style><div class='table-result-container'><table class='table-result'><thead style='background-color: white'><tr><th>Index</th><th>count</th><th>Percentage</th></tr></thead><tbody><tr><td>true</td><td>25</td><td>50.0</td></tr><tr><td>false</td><td>25</td><td>50.0</td></tr></tbody></table></div>"
      ]
     },
     "metadata": {
      "application/vnd.databricks.v1+output": {
       "addedWidgets": {},
       "aggData": [],
       "aggError": "",
       "aggOverflow": false,
       "aggSchema": [],
       "aggSeriesLimitReached": false,
       "aggType": "",
       "arguments": {},
       "columnCustomDisplayInfos": {},
       "data": [
        [
         true,
         25,
         50.0
        ],
        [
         false,
         25,
         50.0
        ]
       ],
       "datasetInfos": [],
       "dbfsResultPath": null,
       "isJsonSchema": true,
       "metadata": {},
       "overflow": false,
       "plotOptions": {
        "customPlotOptions": {},
        "displayType": "table",
        "pivotAggregation": null,
        "pivotColumns": null,
        "xColumns": null,
        "yColumns": null
       },
       "removedWidgets": [],
       "schema": [
        {
         "metadata": "{}",
         "name": "Index",
         "type": "\"boolean\""
        },
        {
         "metadata": "{}",
         "name": "count",
         "type": "\"long\""
        },
        {
         "metadata": "{}",
         "name": "Percentage",
         "type": "\"double\""
        }
       ],
       "type": "table"
      }
     },
     "output_type": "display_data"
    }
   ],
   "source": [
    "# Group by 'Index' and calculate the count\n",
    "grouped_df_Index_init = product_df.groupBy('Index').count()\n",
    "\n",
    "# Calculate the total count\n",
    "total_count = product_df.count()\n",
    "\n",
    "# Add a percentage column\n",
    "result_Index_int = grouped_df_Index_init.withColumn('Percentage', (col('count') / total_count) * 100)\n",
    "\n",
    "# Display the result\n",
    "result_Index_int.display()"
   ]
  },
  {
   "cell_type": "code",
   "execution_count": 0,
   "metadata": {
    "application/vnd.databricks.v1+cell": {
     "cellMetadata": {
      "byteLimit": 2048000,
      "rowLimit": 10000
     },
     "inputWidgets": {},
     "nuid": "3c748dd0-3091-4d66-bea1-0cb9fe72f2cb",
     "showTitle": true,
     "tableResultSettingsMap": {},
     "title": "Last_Date"
    }
   },
   "outputs": [
    {
     "output_type": "display_data",
     "data": {
      "text/html": [
       "<style scoped>\n",
       "  .table-result-container {\n",
       "    max-height: 300px;\n",
       "    overflow: auto;\n",
       "  }\n",
       "  table, th, td {\n",
       "    border: 1px solid black;\n",
       "    border-collapse: collapse;\n",
       "  }\n",
       "  th, td {\n",
       "    padding: 5px;\n",
       "  }\n",
       "  th {\n",
       "    text-align: left;\n",
       "  }\n",
       "</style><div class='table-result-container'><table class='table-result'><thead style='background-color: white'><tr><th>Last_Date</th><th>count</th><th>Percentage</th></tr></thead><tbody><tr><td>1.73E12</td><td>50</td><td>100.0</td></tr></tbody></table></div>"
      ]
     },
     "metadata": {
      "application/vnd.databricks.v1+output": {
       "addedWidgets": {},
       "aggData": [],
       "aggError": "",
       "aggOverflow": false,
       "aggSchema": [],
       "aggSeriesLimitReached": false,
       "aggType": "",
       "arguments": {},
       "columnCustomDisplayInfos": {},
       "data": [
        [
         1.73E12,
         50,
         100.0
        ]
       ],
       "datasetInfos": [],
       "dbfsResultPath": null,
       "isJsonSchema": true,
       "metadata": {},
       "overflow": false,
       "plotOptions": {
        "customPlotOptions": {},
        "displayType": "table",
        "pivotAggregation": null,
        "pivotColumns": null,
        "xColumns": null,
        "yColumns": null
       },
       "removedWidgets": [],
       "schema": [
        {
         "metadata": "{}",
         "name": "Last_Date",
         "type": "\"double\""
        },
        {
         "metadata": "{}",
         "name": "count",
         "type": "\"long\""
        },
        {
         "metadata": "{}",
         "name": "Percentage",
         "type": "\"double\""
        }
       ],
       "type": "table"
      }
     },
     "output_type": "display_data"
    }
   ],
   "source": [
    "# Group by 'Last_Date' and calculate the count\n",
    "grouped_df_date_init = product_df.groupBy('Last_Date').count()\n",
    "\n",
    "# Calculate the total count\n",
    "total_count = product_df.count()\n",
    "\n",
    "# Add a percentage column\n",
    "result_date_int = grouped_df_date_init.withColumn('Percentage', (col('count') / total_count) * 100)\n",
    "\n",
    "# Display the result\n",
    "result_date_int.display()"
   ]
  },
  {
   "cell_type": "code",
   "execution_count": 0,
   "metadata": {
    "application/vnd.databricks.v1+cell": {
     "cellMetadata": {
      "byteLimit": 2048000,
      "rowLimit": 10000
     },
     "inputWidgets": {},
     "nuid": "af34e47e-6300-46d0-b331-935e5f4f0974",
     "showTitle": true,
     "tableResultSettingsMap": {},
     "title": "End_Date"
    }
   },
   "outputs": [
    {
     "output_type": "display_data",
     "data": {
      "text/html": [
       "<style scoped>\n",
       "  .table-result-container {\n",
       "    max-height: 300px;\n",
       "    overflow: auto;\n",
       "  }\n",
       "  table, th, td {\n",
       "    border: 1px solid black;\n",
       "    border-collapse: collapse;\n",
       "  }\n",
       "  th, td {\n",
       "    padding: 5px;\n",
       "  }\n",
       "  th {\n",
       "    text-align: left;\n",
       "  }\n",
       "</style><div class='table-result-container'><table class='table-result'><thead style='background-color: white'><tr><th>End_Date</th><th>count</th><th>Percentage</th></tr></thead><tbody><tr><td>1.8E12</td><td>1</td><td>2.0</td></tr><tr><td>1.77E12</td><td>1</td><td>2.0</td></tr><tr><td>1.76E12</td><td>2</td><td>4.0</td></tr><tr><td>1.72E12</td><td>2</td><td>4.0</td></tr><tr><td>1.71E12</td><td>3</td><td>6.0</td></tr><tr><td>1.75E12</td><td>10</td><td>20.0</td></tr><tr><td>1.74E12</td><td>9</td><td>18.0</td></tr><tr><td>1.78E12</td><td>1</td><td>2.0</td></tr><tr><td>1.73E12</td><td>21</td><td>42.0</td></tr></tbody></table></div>"
      ]
     },
     "metadata": {
      "application/vnd.databricks.v1+output": {
       "addedWidgets": {},
       "aggData": [],
       "aggError": "",
       "aggOverflow": false,
       "aggSchema": [],
       "aggSeriesLimitReached": false,
       "aggType": "",
       "arguments": {},
       "columnCustomDisplayInfos": {},
       "data": [
        [
         1.8E12,
         1,
         2.0
        ],
        [
         1.77E12,
         1,
         2.0
        ],
        [
         1.76E12,
         2,
         4.0
        ],
        [
         1.72E12,
         2,
         4.0
        ],
        [
         1.71E12,
         3,
         6.0
        ],
        [
         1.75E12,
         10,
         20.0
        ],
        [
         1.74E12,
         9,
         18.0
        ],
        [
         1.78E12,
         1,
         2.0
        ],
        [
         1.73E12,
         21,
         42.0
        ]
       ],
       "datasetInfos": [],
       "dbfsResultPath": null,
       "isJsonSchema": true,
       "metadata": {},
       "overflow": false,
       "plotOptions": {
        "customPlotOptions": {},
        "displayType": "table",
        "pivotAggregation": null,
        "pivotColumns": null,
        "xColumns": null,
        "yColumns": null
       },
       "removedWidgets": [],
       "schema": [
        {
         "metadata": "{}",
         "name": "End_Date",
         "type": "\"double\""
        },
        {
         "metadata": "{}",
         "name": "count",
         "type": "\"long\""
        },
        {
         "metadata": "{}",
         "name": "Percentage",
         "type": "\"double\""
        }
       ],
       "type": "table"
      }
     },
     "output_type": "display_data"
    }
   ],
   "source": [
    "# Group by 'End_Date' and calculate the count\n",
    "grouped_df_enddate_init = product_df.groupBy('End_Date').count()\n",
    "\n",
    "# Calculate the total count\n",
    "total_count = product_df.count()\n",
    "\n",
    "# Add a percentage column\n",
    "result_enddate_int = grouped_df_enddate_init.withColumn('Percentage', (col('count') / total_count) * 100)\n",
    "\n",
    "# Display the result\n",
    "result_enddate_int.display()"
   ]
  },
  {
   "cell_type": "code",
   "execution_count": 0,
   "metadata": {
    "application/vnd.databricks.v1+cell": {
     "cellMetadata": {
      "byteLimit": 2048000,
      "rowLimit": 10000
     },
     "inputWidgets": {},
     "nuid": "3731d207-8bfc-4af5-9bb1-bc15a343c72e",
     "showTitle": false,
     "tableResultSettingsMap": {},
     "title": ""
    }
   },
   "outputs": [
    {
     "output_type": "display_data",
     "data": {
      "text/html": [
       "<style scoped>\n",
       "  .table-result-container {\n",
       "    max-height: 300px;\n",
       "    overflow: auto;\n",
       "  }\n",
       "  table, th, td {\n",
       "    border: 1px solid black;\n",
       "    border-collapse: collapse;\n",
       "  }\n",
       "  th, td {\n",
       "    padding: 5px;\n",
       "  }\n",
       "  th {\n",
       "    text-align: left;\n",
       "  }\n",
       "</style><div class='table-result-container'><table class='table-result'><thead style='background-color: white'><tr><th>Source</th><th>Product_Id</th><th>Product_Version_Id</th><th>Category</th><th>Index</th><th>Location</th><th>Start_Date</th><th>Start_Cust_Date</th><th>Cust_Value</th><th>End_Date</th><th>Product_Type</th><th>Product_Volume</th><th>Product_Volume_Start</th><th>Product_Volume_End</th><th>Product_Flag</th><th>Last_Date</th><th>Product_Subversion_Id</th><th>Product_Base_Id</th><th>Product_Base_Profile_Id</th></tr></thead><tbody><tr><td>RESTAPI</td><td>200</td><td>650</td><td>Standard</td><td>False</td><td>IND</td><td>3-Feb-23</td><td>1740000000000</td><td>30</td><td>1717214400000</td><td>Automatic</td><td>34.0</td><td>56.0</td><td>12.0</td><td>No</td><td>1726127367000</td><td>14</td><td>100</td><td>100</td></tr><tr><td>RESTAPI</td><td>201</td><td>651</td><td>Standard</td><td>True</td><td>IND</td><td>6-Feb-23</td><td>1730000000000</td><td>25</td><td>1767243600000</td><td>Mannual</td><td>23.0</td><td>12.5</td><td>34.0</td><td>No</td><td>1726127367000</td><td>11</td><td>100</td><td>100</td></tr><tr><td>RESTAPI</td><td>202</td><td>652</td><td>Standard</td><td>True</td><td>IND</td><td>9-Feb-23</td><td>1740000000000</td><td>28</td><td>1735707600000</td><td>Mannual</td><td>155.66</td><td>2.4</td><td>5.678</td><td>No</td><td>1727413385000</td><td>11</td><td>100</td><td>100</td></tr><tr><td>RESTAPI</td><td>203</td><td>653</td><td>Standard</td><td>True</td><td>IND</td><td>3-Jan-24</td><td>1740000000000</td><td>31</td><td>1767243600000</td><td>Mannual</td><td>43.0</td><td>34.0</td><td>6.0</td><td>No</td><td>1726127367000</td><td>12</td><td>100</td><td>100</td></tr><tr><td>RESTAPI</td><td>204</td><td>654</td><td>Standard</td><td>False</td><td>IND</td><td>8-Jan-24</td><td>1720000000000</td><td>34</td><td>1743307200000</td><td>Mannual</td><td>67.0</td><td>67.0</td><td>8.0</td><td>No</td><td>1727413385000</td><td>11</td><td>100</td><td>100</td></tr><tr><td>RESTAPI</td><td>205</td><td>655</td><td>Standard</td><td>True</td><td>IND</td><td>9-Jan-24</td><td>1710000000000</td><td>37</td><td>1725163200000</td><td>Mannual</td><td>59.0</td><td>34.0</td><td>9.0</td><td>Yes</td><td>1727413385000</td><td>12</td><td>100</td><td>100</td></tr><tr><td>RESTAPI</td><td>206</td><td>656</td><td>Upper</td><td>False</td><td>IND</td><td>3-Mar-23</td><td>1730000000000</td><td>40</td><td>1717214400000</td><td>Automatic</td><td>42.0</td><td>22.0</td><td>11.0</td><td>No</td><td>1727413385000</td><td>11</td><td>100</td><td>100</td></tr><tr><td>RESTAPI</td><td>207</td><td>657</td><td>Upper</td><td>False</td><td>IND</td><td>6-Mar-23</td><td>1730000000000</td><td>43</td><td>1767243600000</td><td>Mannual</td><td>61.0</td><td>31.0</td><td>14.0</td><td>Yes</td><td>1726127367000</td><td>11</td><td>100</td><td>100</td></tr><tr><td>RESTAPI</td><td>208</td><td>658</td><td>Upper</td><td>True</td><td>IND</td><td>9-Mar-23</td><td>1740000000000</td><td>46</td><td>1767243600000</td><td>Automatic</td><td>63.0</td><td>23.0</td><td>16.0</td><td>No</td><td>1727413385000</td><td>11</td><td>100</td><td>100</td></tr><tr><td>RESTAPI</td><td>209</td><td>659</td><td>Upper</td><td>False</td><td>IND</td><td>3-Jan-25</td><td>1710000000000</td><td>49</td><td>1719806400000</td><td>Automatic</td><td>433.768</td><td>56.78</td><td>9.7</td><td>No</td><td>1726127367000</td><td>11</td><td>100</td><td>100</td></tr><tr><td>RESTAPI</td><td>210</td><td>660</td><td>Upper</td><td>True</td><td>IND</td><td>6-Jan-25</td><td>1720000000000</td><td>52</td><td>1725163200000</td><td>Automatic</td><td>108.2233</td><td>43.0</td><td>6.5</td><td>No</td><td>1727413385000</td><td>11</td><td>100</td><td>100</td></tr><tr><td>RESTAPI</td><td>211</td><td>661</td><td>Upper</td><td>False</td><td>IND</td><td>9-Jan-25</td><td>1730000000000</td><td>55</td><td>1767243600000</td><td>Automatic</td><td>225.0</td><td>1.8</td><td>3.56</td><td>Yes</td><td>1726127367000</td><td>12</td><td>100</td><td>100</td></tr><tr><td>RESTAPI</td><td>212</td><td>662</td><td>Upper</td><td>True</td><td>IND</td><td>3-Apr-23</td><td>1740000000000</td><td>58</td><td>1767243600000</td><td>Mannual</td><td>450.0</td><td>3.6</td><td>7.45</td><td>No</td><td>1727413385000</td><td>15</td><td>100</td><td>100</td></tr><tr><td>RESTAPI</td><td>213</td><td>663</td><td>Upper</td><td>True</td><td>USA</td><td>6-Apr-23</td><td>1710000000000</td><td>61</td><td>1725163200000</td><td>Mannual</td><td>265.897</td><td>4.78</td><td>6.43</td><td>Yes</td><td>1727413385000</td><td>12</td><td>100</td><td>100</td></tr><tr><td>RESTAPI</td><td>214</td><td>664</td><td>Medium</td><td>False</td><td>USA</td><td>6-Apr-23</td><td>1750000000000</td><td>64</td><td>1719806400000</td><td>Automatic</td><td>25.0</td><td>7.5</td><td>15.0</td><td>No</td><td>1726127367000</td><td>12</td><td>111</td><td>111</td></tr><tr><td>RESTAPI</td><td>215</td><td>665</td><td>Medium</td><td>True</td><td>USA</td><td>3-Feb-23</td><td>1740000000000</td><td>67</td><td>1743480000000</td><td>Mannual</td><td>-25.345</td><td>-21.78</td><td>-43.56</td><td>Yes</td><td>1727413385000</td><td>11</td><td>111</td><td>100</td></tr><tr><td>RESTAPI</td><td>216</td><td>666</td><td>Medium</td><td>False</td><td>USA</td><td>6-Feb-23</td><td>1730000000000</td><td>70</td><td>1714536000000</td><td>Mannual</td><td>-21.546</td><td>-0.6</td><td>-11.23</td><td>Yes</td><td>1727413385000</td><td>11</td><td>111</td><td>100</td></tr><tr><td>RESTAPI</td><td>217</td><td>667</td><td>Medium</td><td>True</td><td>USA</td><td>9-Feb-23</td><td>1730000000000</td><td>73</td><td>1730437200000</td><td>Automatic</td><td>76.567</td><td>0.6</td><td>1.56</td><td>No</td><td>1726127367000</td><td>12</td><td>111</td><td>12</td></tr><tr><td>RESTAPI</td><td>218</td><td>668</td><td>Medium</td><td>True</td><td>USA</td><td>3-Jan-24</td><td>1730000000000</td><td>76</td><td>1767243600000</td><td>Automatic</td><td>98.098</td><td>0.6</td><td>2.78</td><td>Yes</td><td>1727413385000</td><td>12</td><td>111</td><td>111</td></tr><tr><td>RESTAPI</td><td>219</td><td>669</td><td>Medium</td><td>False</td><td>USA</td><td>8-Jan-24</td><td>1730000000000</td><td>79</td><td>1714536000000</td><td>Mannual</td><td>11.65</td><td>0.6</td><td>3.23</td><td>No</td><td>1727413385000</td><td>12</td><td>111</td><td>100</td></tr><tr><td>RESTAPI</td><td>220</td><td>670</td><td>Medium</td><td>False</td><td>USA</td><td>9-Jan-24</td><td>1750000000000</td><td>82</td><td>1743480000000</td><td>Automatic</td><td>4.22</td><td>0.06</td><td>0.14</td><td>Yes</td><td>1727413385000</td><td>11</td><td>111</td><td>111</td></tr><tr><td>RESTAPI</td><td>221</td><td>671</td><td>Medium</td><td>True</td><td>USA</td><td>3-Mar-23</td><td>1740000000000</td><td>85</td><td>1725163200000</td><td>Mannual</td><td>3.21</td><td>20.06</td><td>0.34</td><td>No</td><td>1726127367000</td><td>11</td><td>111</td><td>100</td></tr><tr><td>RESTAPI</td><td>222</td><td>672</td><td>Medium</td><td>False</td><td>USA</td><td>6-Mar-23</td><td>1750000000000</td><td>88</td><td>1725163200000</td><td>Mannual</td><td>-23.32</td><td>-10.06</td><td>-1.45</td><td>Yes</td><td>1726127367000</td><td>11</td><td>111</td><td>111</td></tr><tr><td>RESTAPI</td><td>223</td><td>673</td><td>Medium</td><td>True</td><td>USA</td><td>9-Mar-23</td><td>1740000000000</td><td>91</td><td>1767243600000</td><td>Automatic</td><td>-78.76</td><td>-0.36</td><td>-0.98</td><td>No</td><td>1726127367000</td><td>11</td><td>111</td><td>100</td></tr><tr><td>RESTAPI</td><td>224</td><td>674</td><td>Medium</td><td>False</td><td>USA</td><td>3-Jan-25</td><td>1740000000000</td><td>94</td><td>1717214400000</td><td>Mannual</td><td>-7.56</td><td>-0.16</td><td>-0.345</td><td>No</td><td>1726127367000</td><td>12</td><td>111</td><td>100</td></tr><tr><td>RESTAPI</td><td>225</td><td>675</td><td>Medium</td><td>True</td><td>USA</td><td>6-Jan-25</td><td>1730000000000</td><td>97</td><td>1767243600000</td><td>Automatic</td><td>67.667</td><td>0.6</td><td>4.345</td><td>Yes</td><td>1727413385000</td><td>12</td><td>111</td><td>100</td></tr><tr><td>RESTAPI</td><td>226</td><td>676</td><td>Medium</td><td>True</td><td>USA</td><td>9-Jan-25</td><td>1730000000000</td><td>100</td><td>1735707600000</td><td>Automatic</td><td>-88.0</td><td>-11.0</td><td>-22.0</td><td>Yes</td><td>1727413385000</td><td>12</td><td>111</td><td>100</td></tr><tr><td>RESTAPI</td><td>227</td><td>677</td><td>Medium</td><td>True</td><td>USA</td><td>3-Apr-23</td><td>1730000000000</td><td>103</td><td>1730437200000</td><td>Mannual</td><td>35.0</td><td>2.5</td><td>5.0</td><td>No</td><td>1726127367000</td><td>12</td><td>111</td><td>100</td></tr><tr><td>RESTAPI</td><td>228</td><td>678</td><td>Medium</td><td>True</td><td>UK</td><td>6-Apr-23</td><td>1750000000000</td><td>106</td><td>1730437200000</td><td>Automatic</td><td>60.0</td><td>51.0</td><td>10.0</td><td>No</td><td>1727413385000</td><td>12</td><td>111</td><td>12</td></tr><tr><td>RESTAPI</td><td>229</td><td>679</td><td>Premium</td><td>False</td><td>UK</td><td>9-Apr-23</td><td>1750000000000</td><td>109</td><td>1767243600000</td><td>Mannual</td><td>30.0</td><td>53.0</td><td>23.0</td><td>No</td><td>1726127367000</td><td>12</td><td>111</td><td>111</td></tr><tr><td>RESTAPI</td><td>230</td><td>680</td><td>Premium</td><td>True</td><td>UK</td><td>3-Feb-23</td><td>1740000000000</td><td>112</td><td>1730437200000</td><td>Mannual</td><td>10.0</td><td>13.0</td><td>22.0</td><td>No</td><td>1726127367000</td><td>12</td><td>111</td><td>100</td></tr><tr><td>RESTAPI</td><td>231</td><td>681</td><td>Premium</td><td>True</td><td>UK</td><td>6-Feb-23</td><td>1740000000000</td><td>115</td><td>1717214400000</td><td>Mannual</td><td>15.0</td><td>7.5</td><td>39.0</td><td>No</td><td>1727413385000</td><td>12</td><td>111</td><td>100</td></tr><tr><td>RESTAPI</td><td>232</td><td>682</td><td>Premium</td><td>True</td><td>UK</td><td>9-Feb-23</td><td>1740000000000</td><td>118</td><td>1767243600000</td><td>Mannual</td><td>-91.0</td><td>-25.94</td><td>-34.7</td><td>No</td><td>1727413385000</td><td>11</td><td>111</td><td>100</td></tr><tr><td>RESTAPI</td><td>233</td><td>683</td><td>Premium</td><td>False</td><td>UK</td><td>3-Jan-24</td><td>1740000000000</td><td>121</td><td>1748728800000</td><td>Automatic</td><td>-67.0</td><td>-50.45</td><td>-23.7</td><td>Yes</td><td>1726127367000</td><td>11</td><td>111</td><td>100</td></tr><tr><td>RESTAPI</td><td>234</td><td>684</td><td>Premium</td><td>True</td><td>UK</td><td>8-Jan-24</td><td>1740000000000</td><td>124</td><td>1767243600000</td><td>Mannual</td><td>-38.98</td><td>-26.73</td><td>-12.345</td><td>Yes</td><td>1727413385000</td><td>11</td><td>111</td><td>100</td></tr><tr><td>RESTAPI</td><td>235</td><td>685</td><td>Premium</td><td>False</td><td>UK</td><td>9-Jan-24</td><td>1740000000000</td><td>127</td><td>1725163200000</td><td>Mannual</td><td>-44.54</td><td>-87.67</td><td>-89.76</td><td>Yes</td><td>1726127367000</td><td>11</td><td>111</td><td>100</td></tr><tr><td>RESTAPI</td><td>236</td><td>686</td><td>Premium</td><td>True</td><td>UK</td><td>3-Mar-23</td><td>1740000000000</td><td>130</td><td>1735707600000</td><td>Automatic</td><td>-76.0</td><td>-78.345</td><td>-65.123</td><td>Yes</td><td>1727413385000</td><td>11</td><td>111</td><td>100</td></tr><tr><td>RESTAPI</td><td>237</td><td>687</td><td>Premium</td><td>False</td><td>UK</td><td>6-Mar-23</td><td>1740000000000</td><td>133</td><td>1748728800000</td><td>Mannual</td><td>-88.0</td><td>-0.576</td><td>-1.456</td><td>Yes</td><td>1727413385000</td><td>11</td><td>111</td><td>100</td></tr><tr><td>RESTAPI</td><td>238</td><td>688</td><td>Premium</td><td>False</td><td>UK</td><td>9-Mar-23</td><td>1730000000000</td><td>136</td><td>1719806400000</td><td>Mannual</td><td>-76.564</td><td>-0.6</td><td>-23.56</td><td>Yes</td><td>1726127367000</td><td>11</td><td>111</td><td>100</td></tr><tr><td>RESTAPI</td><td>239</td><td>689</td><td>Lower</td><td>True</td><td>UK</td><td>3-Jan-25</td><td>1730000000000</td><td>139</td><td>1717214400000</td><td>Automatic</td><td>-40.0</td><td>-0.576</td><td>-12.34</td><td>Yes</td><td>1726127367000</td><td>11</td><td>111</td><td>100</td></tr><tr><td>RESTAPI</td><td>240</td><td>690</td><td>Lower</td><td>True</td><td>UK</td><td>6-Jan-25</td><td>1730000000000</td><td>142</td><td>1735707600000</td><td>Automatic</td><td>-213.456</td><td>-20.6</td><td>-11.11</td><td>No</td><td>1727413385000</td><td>11</td><td>111</td><td>100</td></tr><tr><td>RESTAPI</td><td>241</td><td>691</td><td>Lower</td><td>False</td><td>UK</td><td>9-Jan-25</td><td>1730000000000</td><td>145</td><td>1743307200000</td><td>Mannual</td><td>-11.98</td><td>-10.6</td><td>-14.67</td><td>No</td><td>1726127367000</td><td>11</td><td>111</td><td>100</td></tr><tr><td>RESTAPI</td><td>242</td><td>692</td><td>Lower</td><td>True</td><td>UK</td><td>3-Apr-23</td><td>1730000000000</td><td>148</td><td>1725163200000</td><td>Mannual</td><td>91.78</td><td>0.698</td><td>1.221</td><td>No</td><td>1727413385000</td><td>12</td><td>111</td><td>100</td></tr><tr><td>RESTAPI</td><td>243</td><td>693</td><td>Lower</td><td>True</td><td>UK</td><td>6-Apr-23</td><td>1730000000000</td><td>151</td><td>1717214400000</td><td>Mannual</td><td>55.0</td><td>0.5</td><td>1.789</td><td>Yes</td><td>1726127367000</td><td>12</td><td>111</td><td>111</td></tr><tr><td>RESTAPI</td><td>244</td><td>694</td><td>Lower</td><td>False</td><td>SL</td><td>3-Apr-23</td><td>1730000000000</td><td>154</td><td>1767243600000</td><td>Automatic</td><td>78.0</td><td>10.5</td><td>4.17</td><td>Yes</td><td>1727413385000</td><td>12</td><td>111</td><td>111</td></tr><tr><td>RESTAPI</td><td>245</td><td>695</td><td>Lower</td><td>False</td><td>SL</td><td>3-Feb-23</td><td>1730000000000</td><td>157</td><td>1719806400000</td><td>Mannual</td><td>32.56</td><td>0.06</td><td>11.55</td><td>No</td><td>1726127367000</td><td>12</td><td>111</td><td>111</td></tr><tr><td>RESTAPI</td><td>246</td><td>696</td><td>Lower</td><td>True</td><td>SL</td><td>6-Feb-23</td><td>1730000000000</td><td>160</td><td>1767243600000</td><td>Mannual</td><td>67.99</td><td>0.136</td><td>31.56</td><td>No</td><td>1727413385000</td><td>12</td><td>111</td><td>111</td></tr><tr><td>RESTAPI</td><td>247</td><td>697</td><td>Lower</td><td>True</td><td>SL</td><td>9-Feb-23</td><td>1730000000000</td><td>163</td><td>1719806400000</td><td>Automatic</td><td>67.55</td><td>0.6345</td><td>1.98</td><td>Yes</td><td>1726127367000</td><td>12</td><td>111</td><td>111</td></tr><tr><td>RESTAPI</td><td>248</td><td>698</td><td>Lower</td><td>False</td><td>SL</td><td>3-Jan-24</td><td>1730000000000</td><td>166</td><td>1717214400000</td><td>Mannual</td><td>34.34</td><td>10.6</td><td>41.89</td><td>No</td><td>1726127367000</td><td>12</td><td>111</td><td>12</td></tr><tr><td>RESTAPI</td><td>249</td><td>699</td><td>Lower</td><td>False</td><td>SL</td><td>3-Jan-24</td><td>1740000000000</td><td>166</td><td>1730437200000</td><td>Automatic</td><td>4.789</td><td>0.06</td><td>0.567</td><td>Yes</td><td>1726127367000</td><td>12</td><td>111</td><td>100</td></tr></tbody></table></div>"
      ]
     },
     "metadata": {
      "application/vnd.databricks.v1+output": {
       "addedWidgets": {},
       "aggData": [],
       "aggError": "",
       "aggOverflow": false,
       "aggSchema": [],
       "aggSeriesLimitReached": false,
       "aggType": "",
       "arguments": {},
       "columnCustomDisplayInfos": {},
       "data": [
        [
         "RESTAPI",
         200,
         650,
         "Standard",
         "False",
         "IND",
         "3-Feb-23",
         1740000000000,
         30,
         1717214400000,
         "Automatic",
         34.0,
         56.0,
         12.0,
         "No",
         1726127367000,
         14,
         100,
         100
        ],
        [
         "RESTAPI",
         201,
         651,
         "Standard",
         "True",
         "IND",
         "6-Feb-23",
         1730000000000,
         25,
         1767243600000,
         "Mannual",
         23.0,
         12.5,
         34.0,
         "No",
         1726127367000,
         11,
         100,
         100
        ],
        [
         "RESTAPI",
         202,
         652,
         "Standard",
         "True",
         "IND",
         "9-Feb-23",
         1740000000000,
         28,
         1735707600000,
         "Mannual",
         155.66,
         2.4,
         5.678,
         "No",
         1727413385000,
         11,
         100,
         100
        ],
        [
         "RESTAPI",
         203,
         653,
         "Standard",
         "True",
         "IND",
         "3-Jan-24",
         1740000000000,
         31,
         1767243600000,
         "Mannual",
         43.0,
         34.0,
         6.0,
         "No",
         1726127367000,
         12,
         100,
         100
        ],
        [
         "RESTAPI",
         204,
         654,
         "Standard",
         "False",
         "IND",
         "8-Jan-24",
         1720000000000,
         34,
         1743307200000,
         "Mannual",
         67.0,
         67.0,
         8.0,
         "No",
         1727413385000,
         11,
         100,
         100
        ],
        [
         "RESTAPI",
         205,
         655,
         "Standard",
         "True",
         "IND",
         "9-Jan-24",
         1710000000000,
         37,
         1725163200000,
         "Mannual",
         59.0,
         34.0,
         9.0,
         "Yes",
         1727413385000,
         12,
         100,
         100
        ],
        [
         "RESTAPI",
         206,
         656,
         "Upper",
         "False",
         "IND",
         "3-Mar-23",
         1730000000000,
         40,
         1717214400000,
         "Automatic",
         42.0,
         22.0,
         11.0,
         "No",
         1727413385000,
         11,
         100,
         100
        ],
        [
         "RESTAPI",
         207,
         657,
         "Upper",
         "False",
         "IND",
         "6-Mar-23",
         1730000000000,
         43,
         1767243600000,
         "Mannual",
         61.0,
         31.0,
         14.0,
         "Yes",
         1726127367000,
         11,
         100,
         100
        ],
        [
         "RESTAPI",
         208,
         658,
         "Upper",
         "True",
         "IND",
         "9-Mar-23",
         1740000000000,
         46,
         1767243600000,
         "Automatic",
         63.0,
         23.0,
         16.0,
         "No",
         1727413385000,
         11,
         100,
         100
        ],
        [
         "RESTAPI",
         209,
         659,
         "Upper",
         "False",
         "IND",
         "3-Jan-25",
         1710000000000,
         49,
         1719806400000,
         "Automatic",
         433.768,
         56.78,
         9.7,
         "No",
         1726127367000,
         11,
         100,
         100
        ],
        [
         "RESTAPI",
         210,
         660,
         "Upper",
         "True",
         "IND",
         "6-Jan-25",
         1720000000000,
         52,
         1725163200000,
         "Automatic",
         108.2233,
         43.0,
         6.5,
         "No",
         1727413385000,
         11,
         100,
         100
        ],
        [
         "RESTAPI",
         211,
         661,
         "Upper",
         "False",
         "IND",
         "9-Jan-25",
         1730000000000,
         55,
         1767243600000,
         "Automatic",
         225.0,
         1.8,
         3.56,
         "Yes",
         1726127367000,
         12,
         100,
         100
        ],
        [
         "RESTAPI",
         212,
         662,
         "Upper",
         "True",
         "IND",
         "3-Apr-23",
         1740000000000,
         58,
         1767243600000,
         "Mannual",
         450.0,
         3.6,
         7.45,
         "No",
         1727413385000,
         15,
         100,
         100
        ],
        [
         "RESTAPI",
         213,
         663,
         "Upper",
         "True",
         "USA",
         "6-Apr-23",
         1710000000000,
         61,
         1725163200000,
         "Mannual",
         265.897,
         4.78,
         6.43,
         "Yes",
         1727413385000,
         12,
         100,
         100
        ],
        [
         "RESTAPI",
         214,
         664,
         "Medium",
         "False",
         "USA",
         "6-Apr-23",
         1750000000000,
         64,
         1719806400000,
         "Automatic",
         25.0,
         7.5,
         15.0,
         "No",
         1726127367000,
         12,
         111,
         111
        ],
        [
         "RESTAPI",
         215,
         665,
         "Medium",
         "True",
         "USA",
         "3-Feb-23",
         1740000000000,
         67,
         1743480000000,
         "Mannual",
         -25.345,
         -21.78,
         -43.56,
         "Yes",
         1727413385000,
         11,
         111,
         100
        ],
        [
         "RESTAPI",
         216,
         666,
         "Medium",
         "False",
         "USA",
         "6-Feb-23",
         1730000000000,
         70,
         1714536000000,
         "Mannual",
         -21.546,
         -0.6,
         -11.23,
         "Yes",
         1727413385000,
         11,
         111,
         100
        ],
        [
         "RESTAPI",
         217,
         667,
         "Medium",
         "True",
         "USA",
         "9-Feb-23",
         1730000000000,
         73,
         1730437200000,
         "Automatic",
         76.567,
         0.6,
         1.56,
         "No",
         1726127367000,
         12,
         111,
         12
        ],
        [
         "RESTAPI",
         218,
         668,
         "Medium",
         "True",
         "USA",
         "3-Jan-24",
         1730000000000,
         76,
         1767243600000,
         "Automatic",
         98.098,
         0.6,
         2.78,
         "Yes",
         1727413385000,
         12,
         111,
         111
        ],
        [
         "RESTAPI",
         219,
         669,
         "Medium",
         "False",
         "USA",
         "8-Jan-24",
         1730000000000,
         79,
         1714536000000,
         "Mannual",
         11.65,
         0.6,
         3.23,
         "No",
         1727413385000,
         12,
         111,
         100
        ],
        [
         "RESTAPI",
         220,
         670,
         "Medium",
         "False",
         "USA",
         "9-Jan-24",
         1750000000000,
         82,
         1743480000000,
         "Automatic",
         4.22,
         0.06,
         0.14,
         "Yes",
         1727413385000,
         11,
         111,
         111
        ],
        [
         "RESTAPI",
         221,
         671,
         "Medium",
         "True",
         "USA",
         "3-Mar-23",
         1740000000000,
         85,
         1725163200000,
         "Mannual",
         3.21,
         20.06,
         0.34,
         "No",
         1726127367000,
         11,
         111,
         100
        ],
        [
         "RESTAPI",
         222,
         672,
         "Medium",
         "False",
         "USA",
         "6-Mar-23",
         1750000000000,
         88,
         1725163200000,
         "Mannual",
         -23.32,
         -10.06,
         -1.45,
         "Yes",
         1726127367000,
         11,
         111,
         111
        ],
        [
         "RESTAPI",
         223,
         673,
         "Medium",
         "True",
         "USA",
         "9-Mar-23",
         1740000000000,
         91,
         1767243600000,
         "Automatic",
         -78.76,
         -0.36,
         -0.98,
         "No",
         1726127367000,
         11,
         111,
         100
        ],
        [
         "RESTAPI",
         224,
         674,
         "Medium",
         "False",
         "USA",
         "3-Jan-25",
         1740000000000,
         94,
         1717214400000,
         "Mannual",
         -7.56,
         -0.16,
         -0.345,
         "No",
         1726127367000,
         12,
         111,
         100
        ],
        [
         "RESTAPI",
         225,
         675,
         "Medium",
         "True",
         "USA",
         "6-Jan-25",
         1730000000000,
         97,
         1767243600000,
         "Automatic",
         67.667,
         0.6,
         4.345,
         "Yes",
         1727413385000,
         12,
         111,
         100
        ],
        [
         "RESTAPI",
         226,
         676,
         "Medium",
         "True",
         "USA",
         "9-Jan-25",
         1730000000000,
         100,
         1735707600000,
         "Automatic",
         -88.0,
         -11.0,
         -22.0,
         "Yes",
         1727413385000,
         12,
         111,
         100
        ],
        [
         "RESTAPI",
         227,
         677,
         "Medium",
         "True",
         "USA",
         "3-Apr-23",
         1730000000000,
         103,
         1730437200000,
         "Mannual",
         35.0,
         2.5,
         5.0,
         "No",
         1726127367000,
         12,
         111,
         100
        ],
        [
         "RESTAPI",
         228,
         678,
         "Medium",
         "True",
         "UK",
         "6-Apr-23",
         1750000000000,
         106,
         1730437200000,
         "Automatic",
         60.0,
         51.0,
         10.0,
         "No",
         1727413385000,
         12,
         111,
         12
        ],
        [
         "RESTAPI",
         229,
         679,
         "Premium",
         "False",
         "UK",
         "9-Apr-23",
         1750000000000,
         109,
         1767243600000,
         "Mannual",
         30.0,
         53.0,
         23.0,
         "No",
         1726127367000,
         12,
         111,
         111
        ],
        [
         "RESTAPI",
         230,
         680,
         "Premium",
         "True",
         "UK",
         "3-Feb-23",
         1740000000000,
         112,
         1730437200000,
         "Mannual",
         10.0,
         13.0,
         22.0,
         "No",
         1726127367000,
         12,
         111,
         100
        ],
        [
         "RESTAPI",
         231,
         681,
         "Premium",
         "True",
         "UK",
         "6-Feb-23",
         1740000000000,
         115,
         1717214400000,
         "Mannual",
         15.0,
         7.5,
         39.0,
         "No",
         1727413385000,
         12,
         111,
         100
        ],
        [
         "RESTAPI",
         232,
         682,
         "Premium",
         "True",
         "UK",
         "9-Feb-23",
         1740000000000,
         118,
         1767243600000,
         "Mannual",
         -91.0,
         -25.94,
         -34.7,
         "No",
         1727413385000,
         11,
         111,
         100
        ],
        [
         "RESTAPI",
         233,
         683,
         "Premium",
         "False",
         "UK",
         "3-Jan-24",
         1740000000000,
         121,
         1748728800000,
         "Automatic",
         -67.0,
         -50.45,
         -23.7,
         "Yes",
         1726127367000,
         11,
         111,
         100
        ],
        [
         "RESTAPI",
         234,
         684,
         "Premium",
         "True",
         "UK",
         "8-Jan-24",
         1740000000000,
         124,
         1767243600000,
         "Mannual",
         -38.98,
         -26.73,
         -12.345,
         "Yes",
         1727413385000,
         11,
         111,
         100
        ],
        [
         "RESTAPI",
         235,
         685,
         "Premium",
         "False",
         "UK",
         "9-Jan-24",
         1740000000000,
         127,
         1725163200000,
         "Mannual",
         -44.54,
         -87.67,
         -89.76,
         "Yes",
         1726127367000,
         11,
         111,
         100
        ],
        [
         "RESTAPI",
         236,
         686,
         "Premium",
         "True",
         "UK",
         "3-Mar-23",
         1740000000000,
         130,
         1735707600000,
         "Automatic",
         -76.0,
         -78.345,
         -65.123,
         "Yes",
         1727413385000,
         11,
         111,
         100
        ],
        [
         "RESTAPI",
         237,
         687,
         "Premium",
         "False",
         "UK",
         "6-Mar-23",
         1740000000000,
         133,
         1748728800000,
         "Mannual",
         -88.0,
         -0.576,
         -1.456,
         "Yes",
         1727413385000,
         11,
         111,
         100
        ],
        [
         "RESTAPI",
         238,
         688,
         "Premium",
         "False",
         "UK",
         "9-Mar-23",
         1730000000000,
         136,
         1719806400000,
         "Mannual",
         -76.564,
         -0.6,
         -23.56,
         "Yes",
         1726127367000,
         11,
         111,
         100
        ],
        [
         "RESTAPI",
         239,
         689,
         "Lower",
         "True",
         "UK",
         "3-Jan-25",
         1730000000000,
         139,
         1717214400000,
         "Automatic",
         -40.0,
         -0.576,
         -12.34,
         "Yes",
         1726127367000,
         11,
         111,
         100
        ],
        [
         "RESTAPI",
         240,
         690,
         "Lower",
         "True",
         "UK",
         "6-Jan-25",
         1730000000000,
         142,
         1735707600000,
         "Automatic",
         -213.456,
         -20.6,
         -11.11,
         "No",
         1727413385000,
         11,
         111,
         100
        ],
        [
         "RESTAPI",
         241,
         691,
         "Lower",
         "False",
         "UK",
         "9-Jan-25",
         1730000000000,
         145,
         1743307200000,
         "Mannual",
         -11.98,
         -10.6,
         -14.67,
         "No",
         1726127367000,
         11,
         111,
         100
        ],
        [
         "RESTAPI",
         242,
         692,
         "Lower",
         "True",
         "UK",
         "3-Apr-23",
         1730000000000,
         148,
         1725163200000,
         "Mannual",
         91.78,
         0.698,
         1.221,
         "No",
         1727413385000,
         12,
         111,
         100
        ],
        [
         "RESTAPI",
         243,
         693,
         "Lower",
         "True",
         "UK",
         "6-Apr-23",
         1730000000000,
         151,
         1717214400000,
         "Mannual",
         55.0,
         0.5,
         1.789,
         "Yes",
         1726127367000,
         12,
         111,
         111
        ],
        [
         "RESTAPI",
         244,
         694,
         "Lower",
         "False",
         "SL",
         "3-Apr-23",
         1730000000000,
         154,
         1767243600000,
         "Automatic",
         78.0,
         10.5,
         4.17,
         "Yes",
         1727413385000,
         12,
         111,
         111
        ],
        [
         "RESTAPI",
         245,
         695,
         "Lower",
         "False",
         "SL",
         "3-Feb-23",
         1730000000000,
         157,
         1719806400000,
         "Mannual",
         32.56,
         0.06,
         11.55,
         "No",
         1726127367000,
         12,
         111,
         111
        ],
        [
         "RESTAPI",
         246,
         696,
         "Lower",
         "True",
         "SL",
         "6-Feb-23",
         1730000000000,
         160,
         1767243600000,
         "Mannual",
         67.99,
         0.136,
         31.56,
         "No",
         1727413385000,
         12,
         111,
         111
        ],
        [
         "RESTAPI",
         247,
         697,
         "Lower",
         "True",
         "SL",
         "9-Feb-23",
         1730000000000,
         163,
         1719806400000,
         "Automatic",
         67.55,
         0.6345,
         1.98,
         "Yes",
         1726127367000,
         12,
         111,
         111
        ],
        [
         "RESTAPI",
         248,
         698,
         "Lower",
         "False",
         "SL",
         "3-Jan-24",
         1730000000000,
         166,
         1717214400000,
         "Mannual",
         34.34,
         10.6,
         41.89,
         "No",
         1726127367000,
         12,
         111,
         12
        ],
        [
         "RESTAPI",
         249,
         699,
         "Lower",
         "False",
         "SL",
         "3-Jan-24",
         1740000000000,
         166,
         1730437200000,
         "Automatic",
         4.789,
         0.06,
         0.567,
         "Yes",
         1726127367000,
         12,
         111,
         100
        ]
       ],
       "datasetInfos": [],
       "dbfsResultPath": null,
       "isJsonSchema": true,
       "metadata": {},
       "overflow": false,
       "plotOptions": {
        "customPlotOptions": {},
        "displayType": "table",
        "pivotAggregation": null,
        "pivotColumns": null,
        "xColumns": null,
        "yColumns": null
       },
       "removedWidgets": [],
       "schema": [
        {
         "metadata": "{}",
         "name": "Source",
         "type": "\"string\""
        },
        {
         "metadata": "{}",
         "name": "Product_Id",
         "type": "\"integer\""
        },
        {
         "metadata": "{}",
         "name": "Product_Version_Id",
         "type": "\"integer\""
        },
        {
         "metadata": "{}",
         "name": "Category",
         "type": "\"string\""
        },
        {
         "metadata": "{}",
         "name": "Index",
         "type": "\"string\""
        },
        {
         "metadata": "{}",
         "name": "Location",
         "type": "\"string\""
        },
        {
         "metadata": "{}",
         "name": "Start_Date",
         "type": "\"string\""
        },
        {
         "metadata": "{}",
         "name": "Start_Cust_Date",
         "type": "\"long\""
        },
        {
         "metadata": "{}",
         "name": "Cust_Value",
         "type": "\"integer\""
        },
        {
         "metadata": "{}",
         "name": "End_Date",
         "type": "\"long\""
        },
        {
         "metadata": "{}",
         "name": "Product_Type",
         "type": "\"string\""
        },
        {
         "metadata": "{}",
         "name": "Product_Volume",
         "type": "\"double\""
        },
        {
         "metadata": "{}",
         "name": "Product_Volume_Start",
         "type": "\"double\""
        },
        {
         "metadata": "{}",
         "name": "Product_Volume_End",
         "type": "\"double\""
        },
        {
         "metadata": "{}",
         "name": "Product_Flag",
         "type": "\"string\""
        },
        {
         "metadata": "{}",
         "name": "Last_Date",
         "type": "\"long\""
        },
        {
         "metadata": "{}",
         "name": "Product_Subversion_Id",
         "type": "\"integer\""
        },
        {
         "metadata": "{}",
         "name": "Product_Base_Id",
         "type": "\"integer\""
        },
        {
         "metadata": "{}",
         "name": "Product_Base_Profile_Id",
         "type": "\"integer\""
        }
       ],
       "type": "table"
      }
     },
     "output_type": "display_data"
    }
   ],
   "source": [
    "df_final = product_df.withColumn('Product_Type', when(rand() < 0.5, 'Automatic').otherwise('Mannual'))\\\n",
    "                     .withColumn('Product_Flag', when(rand() < 0.5, 'Yes').otherwise('No'))\\\n",
    "                     .withColumn(\"Index\", when(rand() < 0.5, 'True').otherwise('False'))\\\n",
    "                     .withColumn('Last_Date', when(rand() < 0.5, lit('1726127367000'))\n",
    "                                             .otherwise(lit('1727413385000')))\\\n",
    "                     .withColumn('End_Date', when(rand() < 0.12, lit('1717214400000'))\n",
    "                                            .when(rand() < 0.12, lit('1730437200000'))\n",
    "                                            .when(rand() < 0.12, lit('1714536000000'))\n",
    "                                            .when(rand() < 0.12, lit('1725163200000'))\n",
    "                                            .when(rand() < 0.12, lit('1719806400000'))\n",
    "                                            .when(rand() < 0.12, lit('1735707600000'))\n",
    "                                            .when(rand() < 0.12, lit('1743480000000'))\n",
    "                                            .when(rand() < 0.12, lit('1748728800000'))\n",
    "                                            .when(rand() < 0.12, lit('1743307200000'))\n",
    "                                            .otherwise(lit('1767243600000')))\\\n",
    "                     .withColumn(\"End_Date\", f.col(\"End_Date\").cast(LongType()))\\\n",
    "                     .withColumn(\"Last_Date\", f.col(\"Last_Date\").cast(LongType()))\\\n",
    "                     .withColumn(\"Start_Cust_Date\", f.col(\"Start_Cust_Date\").cast(LongType()))\n",
    "\n",
    "display(df_final)"
   ]
  },
  {
   "cell_type": "code",
   "execution_count": 0,
   "metadata": {
    "application/vnd.databricks.v1+cell": {
     "cellMetadata": {
      "byteLimit": 2048000,
      "rowLimit": 10000
     },
     "inputWidgets": {},
     "nuid": "59ca0ab1-c9bf-43d0-a361-7dc294475be0",
     "showTitle": true,
     "tableResultSettingsMap": {},
     "title": "Product_Type"
    }
   },
   "outputs": [
    {
     "output_type": "display_data",
     "data": {
      "text/html": [
       "<style scoped>\n",
       "  .table-result-container {\n",
       "    max-height: 300px;\n",
       "    overflow: auto;\n",
       "  }\n",
       "  table, th, td {\n",
       "    border: 1px solid black;\n",
       "    border-collapse: collapse;\n",
       "  }\n",
       "  th, td {\n",
       "    padding: 5px;\n",
       "  }\n",
       "  th {\n",
       "    text-align: left;\n",
       "  }\n",
       "</style><div class='table-result-container'><table class='table-result'><thead style='background-color: white'><tr><th>Product_Type</th><th>count</th><th>Percentage</th></tr></thead><tbody><tr><td>Automatic</td><td>21</td><td>42.0</td></tr><tr><td>Mannual</td><td>29</td><td>57.99999999999999</td></tr></tbody></table></div>"
      ]
     },
     "metadata": {
      "application/vnd.databricks.v1+output": {
       "addedWidgets": {},
       "aggData": [],
       "aggError": "",
       "aggOverflow": false,
       "aggSchema": [],
       "aggSeriesLimitReached": false,
       "aggType": "",
       "arguments": {},
       "columnCustomDisplayInfos": {},
       "data": [
        [
         "Automatic",
         21,
         42.0
        ],
        [
         "Mannual",
         29,
         57.99999999999999
        ]
       ],
       "datasetInfos": [],
       "dbfsResultPath": null,
       "isJsonSchema": true,
       "metadata": {},
       "overflow": false,
       "plotOptions": {
        "customPlotOptions": {},
        "displayType": "table",
        "pivotAggregation": null,
        "pivotColumns": null,
        "xColumns": null,
        "yColumns": null
       },
       "removedWidgets": [],
       "schema": [
        {
         "metadata": "{}",
         "name": "Product_Type",
         "type": "\"string\""
        },
        {
         "metadata": "{}",
         "name": "count",
         "type": "\"long\""
        },
        {
         "metadata": "{}",
         "name": "Percentage",
         "type": "\"double\""
        }
       ],
       "type": "table"
      }
     },
     "output_type": "display_data"
    }
   ],
   "source": [
    "# Group by 'Product_Type' and calculate the count\n",
    "grouped_df_type = df_final.groupBy('Product_Type').count()\n",
    "\n",
    "# Calculate the total count\n",
    "total_count = df_final.count()\n",
    "\n",
    "# Add a percentage column\n",
    "result_Product_Type = grouped_df_type.withColumn('Percentage', (col('count') / total_count) * 100)\n",
    "\n",
    "# Display the result\n",
    "result_Product_Type.display()"
   ]
  },
  {
   "cell_type": "code",
   "execution_count": 0,
   "metadata": {
    "application/vnd.databricks.v1+cell": {
     "cellMetadata": {
      "byteLimit": 2048000,
      "rowLimit": 10000
     },
     "inputWidgets": {},
     "nuid": "bcc13ba5-0d33-4245-8ae8-7339f0a8f7b2",
     "showTitle": true,
     "tableResultSettingsMap": {},
     "title": "Product_Flag"
    }
   },
   "outputs": [
    {
     "output_type": "display_data",
     "data": {
      "text/html": [
       "<style scoped>\n",
       "  .table-result-container {\n",
       "    max-height: 300px;\n",
       "    overflow: auto;\n",
       "  }\n",
       "  table, th, td {\n",
       "    border: 1px solid black;\n",
       "    border-collapse: collapse;\n",
       "  }\n",
       "  th, td {\n",
       "    padding: 5px;\n",
       "  }\n",
       "  th {\n",
       "    text-align: left;\n",
       "  }\n",
       "</style><div class='table-result-container'><table class='table-result'><thead style='background-color: white'><tr><th>Product_Flag</th><th>count</th><th>Percentage</th></tr></thead><tbody><tr><td>No</td><td>28</td><td>56.00000000000001</td></tr><tr><td>Yes</td><td>22</td><td>44.0</td></tr></tbody></table></div>"
      ]
     },
     "metadata": {
      "application/vnd.databricks.v1+output": {
       "addedWidgets": {},
       "aggData": [],
       "aggError": "",
       "aggOverflow": false,
       "aggSchema": [],
       "aggSeriesLimitReached": false,
       "aggType": "",
       "arguments": {},
       "columnCustomDisplayInfos": {},
       "data": [
        [
         "No",
         28,
         56.00000000000001
        ],
        [
         "Yes",
         22,
         44.0
        ]
       ],
       "datasetInfos": [],
       "dbfsResultPath": null,
       "isJsonSchema": true,
       "metadata": {},
       "overflow": false,
       "plotOptions": {
        "customPlotOptions": {},
        "displayType": "table",
        "pivotAggregation": null,
        "pivotColumns": null,
        "xColumns": null,
        "yColumns": null
       },
       "removedWidgets": [],
       "schema": [
        {
         "metadata": "{}",
         "name": "Product_Flag",
         "type": "\"string\""
        },
        {
         "metadata": "{}",
         "name": "count",
         "type": "\"long\""
        },
        {
         "metadata": "{}",
         "name": "Percentage",
         "type": "\"double\""
        }
       ],
       "type": "table"
      }
     },
     "output_type": "display_data"
    }
   ],
   "source": [
    "# Group by 'Product_Flag' and calculate the count\n",
    "grouped_df_flag = df_final.groupBy('Product_Flag').count()\n",
    "\n",
    "# Calculate the total count\n",
    "total_count = df_final.count()\n",
    "\n",
    "# Add a percentage column\n",
    "result_Product_Flag = grouped_df_flag.withColumn('Percentage', (col('count') / total_count) * 100)\n",
    "\n",
    "# Display the result\n",
    "result_Product_Flag.display()"
   ]
  },
  {
   "cell_type": "code",
   "execution_count": 0,
   "metadata": {
    "application/vnd.databricks.v1+cell": {
     "cellMetadata": {
      "byteLimit": 2048000,
      "rowLimit": 10000
     },
     "inputWidgets": {},
     "nuid": "8380b336-1168-4e87-b9e0-6cb4f7149a2d",
     "showTitle": true,
     "tableResultSettingsMap": {},
     "title": "Index"
    }
   },
   "outputs": [
    {
     "output_type": "display_data",
     "data": {
      "text/html": [
       "<style scoped>\n",
       "  .table-result-container {\n",
       "    max-height: 300px;\n",
       "    overflow: auto;\n",
       "  }\n",
       "  table, th, td {\n",
       "    border: 1px solid black;\n",
       "    border-collapse: collapse;\n",
       "  }\n",
       "  th, td {\n",
       "    padding: 5px;\n",
       "  }\n",
       "  th {\n",
       "    text-align: left;\n",
       "  }\n",
       "</style><div class='table-result-container'><table class='table-result'><thead style='background-color: white'><tr><th>Index</th><th>count</th><th>Percentage</th></tr></thead><tbody><tr><td>False</td><td>30</td><td>60.0</td></tr><tr><td>True</td><td>20</td><td>40.0</td></tr></tbody></table></div>"
      ]
     },
     "metadata": {
      "application/vnd.databricks.v1+output": {
       "addedWidgets": {},
       "aggData": [],
       "aggError": "",
       "aggOverflow": false,
       "aggSchema": [],
       "aggSeriesLimitReached": false,
       "aggType": "",
       "arguments": {},
       "columnCustomDisplayInfos": {},
       "data": [
        [
         "False",
         30,
         60.0
        ],
        [
         "True",
         20,
         40.0
        ]
       ],
       "datasetInfos": [],
       "dbfsResultPath": null,
       "isJsonSchema": true,
       "metadata": {},
       "overflow": false,
       "plotOptions": {
        "customPlotOptions": {},
        "displayType": "table",
        "pivotAggregation": null,
        "pivotColumns": null,
        "xColumns": null,
        "yColumns": null
       },
       "removedWidgets": [],
       "schema": [
        {
         "metadata": "{}",
         "name": "Index",
         "type": "\"string\""
        },
        {
         "metadata": "{}",
         "name": "count",
         "type": "\"long\""
        },
        {
         "metadata": "{}",
         "name": "Percentage",
         "type": "\"double\""
        }
       ],
       "type": "table"
      }
     },
     "output_type": "display_data"
    }
   ],
   "source": [
    "# Group by 'Index' and calculate the count\n",
    "grouped_df_index = df_final.groupBy('Index').count()\n",
    "\n",
    "# Calculate the total count\n",
    "total_count = df_final.count()\n",
    "\n",
    "# Add a percentage column\n",
    "result_Index = grouped_df_index.withColumn('Percentage', (col('count') / total_count) * 100)\n",
    "\n",
    "# Display the result\n",
    "result_Index.display()"
   ]
  },
  {
   "cell_type": "code",
   "execution_count": 0,
   "metadata": {
    "application/vnd.databricks.v1+cell": {
     "cellMetadata": {
      "byteLimit": 2048000,
      "rowLimit": 10000
     },
     "inputWidgets": {},
     "nuid": "96ea28e5-db48-4ea4-a2ad-08d1f218e3bc",
     "showTitle": true,
     "tableResultSettingsMap": {},
     "title": "Last_Date"
    }
   },
   "outputs": [
    {
     "output_type": "display_data",
     "data": {
      "text/html": [
       "<style scoped>\n",
       "  .table-result-container {\n",
       "    max-height: 300px;\n",
       "    overflow: auto;\n",
       "  }\n",
       "  table, th, td {\n",
       "    border: 1px solid black;\n",
       "    border-collapse: collapse;\n",
       "  }\n",
       "  th, td {\n",
       "    padding: 5px;\n",
       "  }\n",
       "  th {\n",
       "    text-align: left;\n",
       "  }\n",
       "</style><div class='table-result-container'><table class='table-result'><thead style='background-color: white'><tr><th>Last_Date</th><th>count</th><th>Percentage</th></tr></thead><tbody><tr><td>1727413385000</td><td>26</td><td>52.0</td></tr><tr><td>1726127367000</td><td>24</td><td>48.0</td></tr></tbody></table></div>"
      ]
     },
     "metadata": {
      "application/vnd.databricks.v1+output": {
       "addedWidgets": {},
       "aggData": [],
       "aggError": "",
       "aggOverflow": false,
       "aggSchema": [],
       "aggSeriesLimitReached": false,
       "aggType": "",
       "arguments": {},
       "columnCustomDisplayInfos": {},
       "data": [
        [
         1727413385000,
         26,
         52.0
        ],
        [
         1726127367000,
         24,
         48.0
        ]
       ],
       "datasetInfos": [],
       "dbfsResultPath": null,
       "isJsonSchema": true,
       "metadata": {},
       "overflow": false,
       "plotOptions": {
        "customPlotOptions": {},
        "displayType": "table",
        "pivotAggregation": null,
        "pivotColumns": null,
        "xColumns": null,
        "yColumns": null
       },
       "removedWidgets": [],
       "schema": [
        {
         "metadata": "{}",
         "name": "Last_Date",
         "type": "\"long\""
        },
        {
         "metadata": "{}",
         "name": "count",
         "type": "\"long\""
        },
        {
         "metadata": "{}",
         "name": "Percentage",
         "type": "\"double\""
        }
       ],
       "type": "table"
      }
     },
     "output_type": "display_data"
    }
   ],
   "source": [
    "# Group by 'Last_Date' and calculate the count\n",
    "grouped_df_date = df_final.groupBy('Last_Date').count()\n",
    "\n",
    "# Calculate the total count\n",
    "total_count = df_final.count()\n",
    "\n",
    "# Add a percentage column\n",
    "result_Last_Date = grouped_df_date.withColumn('Percentage', (col('count') / total_count) * 100)\n",
    "\n",
    "# Display the result\n",
    "result_Last_Date.display()"
   ]
  },
  {
   "cell_type": "code",
   "execution_count": 0,
   "metadata": {
    "application/vnd.databricks.v1+cell": {
     "cellMetadata": {
      "byteLimit": 2048000,
      "rowLimit": 10000
     },
     "inputWidgets": {},
     "nuid": "8923125d-d5a5-46a8-9a6c-40f519985f71",
     "showTitle": true,
     "tableResultSettingsMap": {},
     "title": "End_Date"
    }
   },
   "outputs": [
    {
     "output_type": "display_data",
     "data": {
      "text/html": [
       "<style scoped>\n",
       "  .table-result-container {\n",
       "    max-height: 300px;\n",
       "    overflow: auto;\n",
       "  }\n",
       "  table, th, td {\n",
       "    border: 1px solid black;\n",
       "    border-collapse: collapse;\n",
       "  }\n",
       "  th, td {\n",
       "    padding: 5px;\n",
       "  }\n",
       "  th {\n",
       "    text-align: left;\n",
       "  }\n",
       "</style><div class='table-result-container'><table class='table-result'><thead style='background-color: white'><tr><th>End_Date</th><th>count</th><th>Percentage</th></tr></thead><tbody><tr><td>1748728800000</td><td>2</td><td>4.0</td></tr><tr><td>1719806400000</td><td>5</td><td>10.0</td></tr><tr><td>1743480000000</td><td>2</td><td>4.0</td></tr><tr><td>1717214400000</td><td>7</td><td>14.000000000000002</td></tr><tr><td>1725163200000</td><td>7</td><td>14.000000000000002</td></tr><tr><td>1735707600000</td><td>4</td><td>8.0</td></tr><tr><td>1714536000000</td><td>2</td><td>4.0</td></tr><tr><td>1730437200000</td><td>5</td><td>10.0</td></tr><tr><td>1743307200000</td><td>2</td><td>4.0</td></tr><tr><td>1767243600000</td><td>14</td><td>28.000000000000004</td></tr></tbody></table></div>"
      ]
     },
     "metadata": {
      "application/vnd.databricks.v1+output": {
       "addedWidgets": {},
       "aggData": [],
       "aggError": "",
       "aggOverflow": false,
       "aggSchema": [],
       "aggSeriesLimitReached": false,
       "aggType": "",
       "arguments": {},
       "columnCustomDisplayInfos": {},
       "data": [
        [
         1748728800000,
         2,
         4.0
        ],
        [
         1719806400000,
         5,
         10.0
        ],
        [
         1743480000000,
         2,
         4.0
        ],
        [
         1717214400000,
         7,
         14.000000000000002
        ],
        [
         1725163200000,
         7,
         14.000000000000002
        ],
        [
         1735707600000,
         4,
         8.0
        ],
        [
         1714536000000,
         2,
         4.0
        ],
        [
         1730437200000,
         5,
         10.0
        ],
        [
         1743307200000,
         2,
         4.0
        ],
        [
         1767243600000,
         14,
         28.000000000000004
        ]
       ],
       "datasetInfos": [],
       "dbfsResultPath": null,
       "isJsonSchema": true,
       "metadata": {},
       "overflow": false,
       "plotOptions": {
        "customPlotOptions": {},
        "displayType": "table",
        "pivotAggregation": null,
        "pivotColumns": null,
        "xColumns": null,
        "yColumns": null
       },
       "removedWidgets": [],
       "schema": [
        {
         "metadata": "{}",
         "name": "End_Date",
         "type": "\"long\""
        },
        {
         "metadata": "{}",
         "name": "count",
         "type": "\"long\""
        },
        {
         "metadata": "{}",
         "name": "Percentage",
         "type": "\"double\""
        }
       ],
       "type": "table"
      }
     },
     "output_type": "display_data"
    }
   ],
   "source": [
    "# Group by 'End_Date' and calculate the count\n",
    "grouped_df_enddate = df_final.groupBy('End_Date').count()\n",
    "\n",
    "# Calculate the total count\n",
    "total_count = df_final.count()\n",
    "\n",
    "# Add a percentage column\n",
    "result_enddate = grouped_df_enddate.withColumn('Percentage', (col('count') / total_count) * 100)\n",
    "\n",
    "# Display the result\n",
    "result_enddate.display()"
   ]
  }
 ],
 "metadata": {
  "application/vnd.databricks.v1+notebook": {
   "computePreferences": null,
   "dashboards": [],
   "environmentMetadata": {
    "base_environment": "",
    "client": "1"
   },
   "language": "python",
   "notebookMetadata": {
    "pythonIndentUnit": 4
   },
   "notebookName": "102_How to create conditional columns using when_otherwise in rand()",
   "widgets": {}
  }
 },
 "nbformat": 4,
 "nbformat_minor": 0
}
