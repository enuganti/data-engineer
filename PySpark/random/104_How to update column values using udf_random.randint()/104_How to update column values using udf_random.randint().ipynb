{
 "cells": [
  {
   "cell_type": "code",
   "execution_count": 0,
   "metadata": {
    "application/vnd.databricks.v1+cell": {
     "cellMetadata": {
      "byteLimit": 2048000,
      "rowLimit": 10000
     },
     "inputWidgets": {},
     "nuid": "14b8dab7-48b6-4f4e-b6f9-6897ca121b48",
     "showTitle": false,
     "tableResultSettingsMap": {},
     "title": ""
    }
   },
   "outputs": [],
   "source": [
    "import random\n",
    "import pyspark.sql.functions as f\n",
    "from pyspark.sql.functions import udf\n",
    "from pyspark.sql.types import IntegerType"
   ]
  },
  {
   "cell_type": "markdown",
   "metadata": {
    "application/vnd.databricks.v1+cell": {
     "cellMetadata": {
      "byteLimit": 2048000,
      "rowLimit": 10000
     },
     "inputWidgets": {},
     "nuid": "861ca433-222a-40c3-b48b-ca5ea7104f31",
     "showTitle": false,
     "tableResultSettingsMap": {},
     "title": ""
    }
   },
   "source": [
    "**Ex 01**"
   ]
  },
  {
   "cell_type": "code",
   "execution_count": 0,
   "metadata": {
    "application/vnd.databricks.v1+cell": {
     "cellMetadata": {
      "byteLimit": 2048000,
      "rowLimit": 10000
     },
     "inputWidgets": {},
     "nuid": "5b53066f-bc9d-4e71-991b-7470603246eb",
     "showTitle": true,
     "tableResultSettingsMap": {},
     "title": "sample dataframe 1"
    }
   },
   "outputs": [
    {
     "output_type": "display_data",
     "data": {
      "text/html": [
       "<style scoped>\n",
       "  .table-result-container {\n",
       "    max-height: 300px;\n",
       "    overflow: auto;\n",
       "  }\n",
       "  table, th, td {\n",
       "    border: 1px solid black;\n",
       "    border-collapse: collapse;\n",
       "  }\n",
       "  th, td {\n",
       "    padding: 5px;\n",
       "  }\n",
       "  th {\n",
       "    text-align: left;\n",
       "  }\n",
       "</style><div class='table-result-container'><table class='table-result'><thead style='background-color: white'><tr><th>id</th><th>age</th></tr></thead><tbody><tr><td>1</td><td>25</td></tr><tr><td>2</td><td>35</td></tr><tr><td>3</td><td>33</td></tr><tr><td>4</td><td>39</td></tr><tr><td>5</td><td>29</td></tr><tr><td>6</td><td>22</td></tr><tr><td>7</td><td>45</td></tr><tr><td>8</td><td>48</td></tr><tr><td>9</td><td>37</td></tr><tr><td>10</td><td>55</td></tr></tbody></table></div>"
      ]
     },
     "metadata": {
      "application/vnd.databricks.v1+output": {
       "addedWidgets": {},
       "aggData": [],
       "aggError": "",
       "aggOverflow": false,
       "aggSchema": [],
       "aggSeriesLimitReached": false,
       "aggType": "",
       "arguments": {},
       "columnCustomDisplayInfos": {},
       "data": [
        [
         1,
         25
        ],
        [
         2,
         35
        ],
        [
         3,
         33
        ],
        [
         4,
         39
        ],
        [
         5,
         29
        ],
        [
         6,
         22
        ],
        [
         7,
         45
        ],
        [
         8,
         48
        ],
        [
         9,
         37
        ],
        [
         10,
         55
        ]
       ],
       "datasetInfos": [],
       "dbfsResultPath": null,
       "isJsonSchema": true,
       "metadata": {},
       "overflow": false,
       "plotOptions": {
        "customPlotOptions": {},
        "displayType": "table",
        "pivotAggregation": null,
        "pivotColumns": null,
        "xColumns": null,
        "yColumns": null
       },
       "removedWidgets": [],
       "schema": [
        {
         "metadata": "{}",
         "name": "id",
         "type": "\"long\""
        },
        {
         "metadata": "{}",
         "name": "age",
         "type": "\"long\""
        }
       ],
       "type": "table"
      }
     },
     "output_type": "display_data"
    }
   ],
   "source": [
    "# Sample DataFrame\n",
    "data = [(1,25), (2,35), (3,33), (4,39), (5,29), (6,22), (7,45), (8,48), (9,37), (10,55)]\n",
    "df = spark.createDataFrame(data, [\"id\", \"age\"])\n",
    "display(df)"
   ]
  },
  {
   "cell_type": "markdown",
   "metadata": {
    "application/vnd.databricks.v1+cell": {
     "cellMetadata": {
      "byteLimit": 2048000,
      "rowLimit": 10000
     },
     "inputWidgets": {},
     "nuid": "4c8dfb70-b0c5-424d-86d0-01ef4ad5dc84",
     "showTitle": false,
     "tableResultSettingsMap": {},
     "title": ""
    }
   },
   "source": [
    "**a) Add a Random Integer Column**"
   ]
  },
  {
   "cell_type": "code",
   "execution_count": 0,
   "metadata": {
    "application/vnd.databricks.v1+cell": {
     "cellMetadata": {
      "byteLimit": 2048000,
      "rowLimit": 10000
     },
     "inputWidgets": {},
     "nuid": "7bce8113-c82b-465d-a4e7-75c8323723bb",
     "showTitle": false,
     "tableResultSettingsMap": {},
     "title": ""
    }
   },
   "outputs": [
    {
     "output_type": "display_data",
     "data": {
      "text/html": [
       "<style scoped>\n",
       "  .table-result-container {\n",
       "    max-height: 300px;\n",
       "    overflow: auto;\n",
       "  }\n",
       "  table, th, td {\n",
       "    border: 1px solid black;\n",
       "    border-collapse: collapse;\n",
       "  }\n",
       "  th, td {\n",
       "    padding: 5px;\n",
       "  }\n",
       "  th {\n",
       "    text-align: left;\n",
       "  }\n",
       "</style><div class='table-result-container'><table class='table-result'><thead style='background-color: white'><tr><th>id</th><th>age</th><th>random_int</th></tr></thead><tbody><tr><td>1</td><td>25</td><td>92</td></tr><tr><td>2</td><td>35</td><td>100</td></tr><tr><td>3</td><td>33</td><td>85</td></tr><tr><td>4</td><td>39</td><td>46</td></tr><tr><td>5</td><td>29</td><td>39</td></tr><tr><td>6</td><td>22</td><td>95</td></tr><tr><td>7</td><td>45</td><td>72</td></tr><tr><td>8</td><td>48</td><td>92</td></tr><tr><td>9</td><td>37</td><td>79</td></tr><tr><td>10</td><td>55</td><td>4</td></tr></tbody></table></div>"
      ]
     },
     "metadata": {
      "application/vnd.databricks.v1+output": {
       "addedWidgets": {},
       "aggData": [],
       "aggError": "",
       "aggOverflow": false,
       "aggSchema": [],
       "aggSeriesLimitReached": false,
       "aggType": "",
       "arguments": {},
       "columnCustomDisplayInfos": {},
       "data": [
        [
         1,
         25,
         92
        ],
        [
         2,
         35,
         100
        ],
        [
         3,
         33,
         85
        ],
        [
         4,
         39,
         46
        ],
        [
         5,
         29,
         39
        ],
        [
         6,
         22,
         95
        ],
        [
         7,
         45,
         72
        ],
        [
         8,
         48,
         92
        ],
        [
         9,
         37,
         79
        ],
        [
         10,
         55,
         4
        ]
       ],
       "datasetInfos": [],
       "dbfsResultPath": null,
       "isJsonSchema": true,
       "metadata": {},
       "overflow": false,
       "plotOptions": {
        "customPlotOptions": {},
        "displayType": "table",
        "pivotAggregation": null,
        "pivotColumns": null,
        "xColumns": null,
        "yColumns": null
       },
       "removedWidgets": [],
       "schema": [
        {
         "metadata": "{}",
         "name": "id",
         "type": "\"long\""
        },
        {
         "metadata": "{}",
         "name": "age",
         "type": "\"long\""
        },
        {
         "metadata": "{}",
         "name": "random_int",
         "type": "\"integer\""
        }
       ],
       "type": "table"
      }
     },
     "output_type": "display_data"
    }
   ],
   "source": [
    "# Define a UDF for generating random integers\n",
    "random_udf = udf(lambda: random.randint(1, 100), IntegerType())\n",
    "\n",
    "# Add a new column with random integers\n",
    "df_with_random = df.withColumn('random_int', random_udf())\n",
    "\n",
    "display(df_with_random)"
   ]
  },
  {
   "cell_type": "markdown",
   "metadata": {
    "application/vnd.databricks.v1+cell": {
     "cellMetadata": {
      "byteLimit": 2048000,
      "rowLimit": 10000
     },
     "inputWidgets": {},
     "nuid": "4c9fdb20-a68d-48d1-b20f-b996a5409f9c",
     "showTitle": false,
     "tableResultSettingsMap": {},
     "title": ""
    }
   },
   "source": [
    "**b) Random Integers Within a Specific Range**"
   ]
  },
  {
   "cell_type": "code",
   "execution_count": 0,
   "metadata": {
    "application/vnd.databricks.v1+cell": {
     "cellMetadata": {
      "byteLimit": 2048000,
      "rowLimit": 10000
     },
     "inputWidgets": {},
     "nuid": "35155c0c-4650-468f-8cb8-555c10fec01b",
     "showTitle": false,
     "tableResultSettingsMap": {},
     "title": ""
    }
   },
   "outputs": [
    {
     "output_type": "display_data",
     "data": {
      "text/html": [
       "<style scoped>\n",
       "  .table-result-container {\n",
       "    max-height: 300px;\n",
       "    overflow: auto;\n",
       "  }\n",
       "  table, th, td {\n",
       "    border: 1px solid black;\n",
       "    border-collapse: collapse;\n",
       "  }\n",
       "  th, td {\n",
       "    padding: 5px;\n",
       "  }\n",
       "  th {\n",
       "    text-align: left;\n",
       "  }\n",
       "</style><div class='table-result-container'><table class='table-result'><thead style='background-color: white'><tr><th>id</th><th>age</th><th>random_in_range</th></tr></thead><tbody><tr><td>1</td><td>25</td><td>98</td></tr><tr><td>2</td><td>35</td><td>98</td></tr><tr><td>3</td><td>33</td><td>57</td></tr><tr><td>4</td><td>39</td><td>72</td></tr><tr><td>5</td><td>29</td><td>88</td></tr><tr><td>6</td><td>22</td><td>87</td></tr><tr><td>7</td><td>45</td><td>98</td></tr><tr><td>8</td><td>48</td><td>100</td></tr><tr><td>9</td><td>37</td><td>76</td></tr><tr><td>10</td><td>55</td><td>73</td></tr></tbody></table></div>"
      ]
     },
     "metadata": {
      "application/vnd.databricks.v1+output": {
       "addedWidgets": {},
       "aggData": [],
       "aggError": "",
       "aggOverflow": false,
       "aggSchema": [],
       "aggSeriesLimitReached": false,
       "aggType": "",
       "arguments": {},
       "columnCustomDisplayInfos": {},
       "data": [
        [
         1,
         25,
         98
        ],
        [
         2,
         35,
         98
        ],
        [
         3,
         33,
         57
        ],
        [
         4,
         39,
         72
        ],
        [
         5,
         29,
         88
        ],
        [
         6,
         22,
         87
        ],
        [
         7,
         45,
         98
        ],
        [
         8,
         48,
         100
        ],
        [
         9,
         37,
         76
        ],
        [
         10,
         55,
         73
        ]
       ],
       "datasetInfos": [],
       "dbfsResultPath": null,
       "isJsonSchema": true,
       "metadata": {},
       "overflow": false,
       "plotOptions": {
        "customPlotOptions": {},
        "displayType": "table",
        "pivotAggregation": null,
        "pivotColumns": null,
        "xColumns": null,
        "yColumns": null
       },
       "removedWidgets": [],
       "schema": [
        {
         "metadata": "{}",
         "name": "id",
         "type": "\"long\""
        },
        {
         "metadata": "{}",
         "name": "age",
         "type": "\"long\""
        },
        {
         "metadata": "{}",
         "name": "random_in_range",
         "type": "\"integer\""
        }
       ],
       "type": "table"
      }
     },
     "output_type": "display_data"
    }
   ],
   "source": [
    "# UDF to generate random integers in a given range (e.g., 50 to 100)\n",
    "random_in_range_udf = udf(lambda: random.randint(50, 100), IntegerType())\n",
    "\n",
    "# Add a new column with random integers in the range 50 to 100\n",
    "df_with_random_range = df.withColumn('random_in_range', random_in_range_udf())\n",
    "\n",
    "display(df_with_random_range)"
   ]
  },
  {
   "cell_type": "markdown",
   "metadata": {
    "application/vnd.databricks.v1+cell": {
     "cellMetadata": {
      "byteLimit": 2048000,
      "rowLimit": 10000
     },
     "inputWidgets": {},
     "nuid": "7070db07-8e8a-48fb-b7b6-40e949510035",
     "showTitle": false,
     "tableResultSettingsMap": {},
     "title": ""
    }
   },
   "source": [
    "**c) Replace Existing Column Values with Random Integers**"
   ]
  },
  {
   "cell_type": "code",
   "execution_count": 0,
   "metadata": {
    "application/vnd.databricks.v1+cell": {
     "cellMetadata": {
      "byteLimit": 2048000,
      "rowLimit": 10000
     },
     "inputWidgets": {},
     "nuid": "91fb88d6-40f4-4093-927c-bee26f0f115f",
     "showTitle": false,
     "tableResultSettingsMap": {},
     "title": ""
    }
   },
   "outputs": [
    {
     "output_type": "display_data",
     "data": {
      "text/html": [
       "<style scoped>\n",
       "  .table-result-container {\n",
       "    max-height: 300px;\n",
       "    overflow: auto;\n",
       "  }\n",
       "  table, th, td {\n",
       "    border: 1px solid black;\n",
       "    border-collapse: collapse;\n",
       "  }\n",
       "  th, td {\n",
       "    padding: 5px;\n",
       "  }\n",
       "  th {\n",
       "    text-align: left;\n",
       "  }\n",
       "</style><div class='table-result-container'><table class='table-result'><thead style='background-color: white'><tr><th>id</th><th>age</th></tr></thead><tbody><tr><td>1</td><td>51</td></tr><tr><td>2</td><td>79</td></tr><tr><td>3</td><td>87</td></tr><tr><td>4</td><td>62</td></tr><tr><td>5</td><td>55</td></tr><tr><td>6</td><td>94</td></tr><tr><td>7</td><td>77</td></tr><tr><td>8</td><td>88</td></tr><tr><td>9</td><td>67</td></tr><tr><td>10</td><td>94</td></tr></tbody></table></div>"
      ]
     },
     "metadata": {
      "application/vnd.databricks.v1+output": {
       "addedWidgets": {},
       "aggData": [],
       "aggError": "",
       "aggOverflow": false,
       "aggSchema": [],
       "aggSeriesLimitReached": false,
       "aggType": "",
       "arguments": {},
       "columnCustomDisplayInfos": {},
       "data": [
        [
         1,
         51
        ],
        [
         2,
         79
        ],
        [
         3,
         87
        ],
        [
         4,
         62
        ],
        [
         5,
         55
        ],
        [
         6,
         94
        ],
        [
         7,
         77
        ],
        [
         8,
         88
        ],
        [
         9,
         67
        ],
        [
         10,
         94
        ]
       ],
       "datasetInfos": [],
       "dbfsResultPath": null,
       "isJsonSchema": true,
       "metadata": {},
       "overflow": false,
       "plotOptions": {
        "customPlotOptions": {},
        "displayType": "table",
        "pivotAggregation": null,
        "pivotColumns": null,
        "xColumns": null,
        "yColumns": null
       },
       "removedWidgets": [],
       "schema": [
        {
         "metadata": "{}",
         "name": "id",
         "type": "\"long\""
        },
        {
         "metadata": "{}",
         "name": "age",
         "type": "\"integer\""
        }
       ],
       "type": "table"
      }
     },
     "output_type": "display_data"
    }
   ],
   "source": [
    "# Replace the `id` column with random integers between 10 and 20\n",
    "df_with_replaced_values = df.withColumn('age', random_in_range_udf())\n",
    "\n",
    "display(df_with_replaced_values)"
   ]
  },
  {
   "cell_type": "markdown",
   "metadata": {
    "application/vnd.databricks.v1+cell": {
     "cellMetadata": {
      "byteLimit": 2048000,
      "rowLimit": 10000
     },
     "inputWidgets": {},
     "nuid": "99d37dec-6164-4954-8ea7-6f044724f786",
     "showTitle": false,
     "tableResultSettingsMap": {},
     "title": ""
    }
   },
   "source": [
    "**d) Random Integers Based on an Existing Column Value**"
   ]
  },
  {
   "cell_type": "code",
   "execution_count": 0,
   "metadata": {
    "application/vnd.databricks.v1+cell": {
     "cellMetadata": {
      "byteLimit": 2048000,
      "rowLimit": 10000
     },
     "inputWidgets": {},
     "nuid": "89bc8b5a-17c1-49b1-bbdb-b102f4b9aa11",
     "showTitle": false,
     "tableResultSettingsMap": {},
     "title": ""
    }
   },
   "outputs": [
    {
     "output_type": "display_data",
     "data": {
      "text/html": [
       "<style scoped>\n",
       "  .table-result-container {\n",
       "    max-height: 300px;\n",
       "    overflow: auto;\n",
       "  }\n",
       "  table, th, td {\n",
       "    border: 1px solid black;\n",
       "    border-collapse: collapse;\n",
       "  }\n",
       "  th, td {\n",
       "    padding: 5px;\n",
       "  }\n",
       "  th {\n",
       "    text-align: left;\n",
       "  }\n",
       "</style><div class='table-result-container'><table class='table-result'><thead style='background-color: white'><tr><th>id</th><th>age</th><th>random_based_on_id</th></tr></thead><tbody><tr><td>1</td><td>25</td><td>9</td></tr><tr><td>2</td><td>35</td><td>4</td></tr><tr><td>3</td><td>33</td><td>3</td></tr><tr><td>4</td><td>39</td><td>9</td></tr><tr><td>5</td><td>29</td><td>13</td></tr><tr><td>6</td><td>22</td><td>9</td></tr><tr><td>7</td><td>45</td><td>16</td></tr><tr><td>8</td><td>48</td><td>13</td></tr><tr><td>9</td><td>37</td><td>12</td></tr><tr><td>10</td><td>55</td><td>10</td></tr></tbody></table></div>"
      ]
     },
     "metadata": {
      "application/vnd.databricks.v1+output": {
       "addedWidgets": {},
       "aggData": [],
       "aggError": "",
       "aggOverflow": false,
       "aggSchema": [],
       "aggSeriesLimitReached": false,
       "aggType": "",
       "arguments": {},
       "columnCustomDisplayInfos": {},
       "data": [
        [
         1,
         25,
         9
        ],
        [
         2,
         35,
         4
        ],
        [
         3,
         33,
         3
        ],
        [
         4,
         39,
         9
        ],
        [
         5,
         29,
         13
        ],
        [
         6,
         22,
         9
        ],
        [
         7,
         45,
         16
        ],
        [
         8,
         48,
         13
        ],
        [
         9,
         37,
         12
        ],
        [
         10,
         55,
         10
        ]
       ],
       "datasetInfos": [],
       "dbfsResultPath": null,
       "isJsonSchema": true,
       "metadata": {},
       "overflow": false,
       "plotOptions": {
        "customPlotOptions": {},
        "displayType": "table",
        "pivotAggregation": null,
        "pivotColumns": null,
        "xColumns": null,
        "yColumns": null
       },
       "removedWidgets": [],
       "schema": [
        {
         "metadata": "{}",
         "name": "id",
         "type": "\"long\""
        },
        {
         "metadata": "{}",
         "name": "age",
         "type": "\"long\""
        },
        {
         "metadata": "{}",
         "name": "random_based_on_id",
         "type": "\"integer\""
        }
       ],
       "type": "table"
      }
     },
     "output_type": "display_data"
    }
   ],
   "source": [
    "# UDF to generate random integers based on the existing column value\n",
    "random_based_on_column_udf = udf(lambda x: random.randint(x, x + 10), IntegerType())\n",
    "\n",
    "# Add a new column with random integers based on the `id` column\n",
    "df_with_random_based = df.withColumn('random_based_on_id', random_based_on_column_udf(df['id']))\n",
    "\n",
    "display(df_with_random_based)"
   ]
  },
  {
   "cell_type": "markdown",
   "metadata": {
    "application/vnd.databricks.v1+cell": {
     "cellMetadata": {
      "byteLimit": 2048000,
      "rowLimit": 10000
     },
     "inputWidgets": {},
     "nuid": "34a26c3e-6fac-4bd8-99e3-c7f3228b47c5",
     "showTitle": false,
     "tableResultSettingsMap": {},
     "title": ""
    }
   },
   "source": [
    "**e) Random Integers for Grouped Data**"
   ]
  },
  {
   "cell_type": "code",
   "execution_count": 0,
   "metadata": {
    "application/vnd.databricks.v1+cell": {
     "cellMetadata": {
      "byteLimit": 2048000,
      "rowLimit": 10000
     },
     "inputWidgets": {},
     "nuid": "d89a3dd5-5a19-4136-98a2-aa7ac07ba6df",
     "showTitle": false,
     "tableResultSettingsMap": {},
     "title": ""
    }
   },
   "outputs": [
    {
     "output_type": "display_data",
     "data": {
      "text/html": [
       "<style scoped>\n",
       "  .table-result-container {\n",
       "    max-height: 300px;\n",
       "    overflow: auto;\n",
       "  }\n",
       "  table, th, td {\n",
       "    border: 1px solid black;\n",
       "    border-collapse: collapse;\n",
       "  }\n",
       "  th, td {\n",
       "    padding: 5px;\n",
       "  }\n",
       "  th {\n",
       "    text-align: left;\n",
       "  }\n",
       "</style><div class='table-result-container'><table class='table-result'><thead style='background-color: white'><tr><th>random_group_value</th></tr></thead><tbody><tr><td>60</td></tr></tbody></table></div>"
      ]
     },
     "metadata": {
      "application/vnd.databricks.v1+output": {
       "addedWidgets": {},
       "aggData": [],
       "aggError": "",
       "aggOverflow": false,
       "aggSchema": [],
       "aggSeriesLimitReached": false,
       "aggType": "",
       "arguments": {},
       "columnCustomDisplayInfos": {},
       "data": [
        [
         60
        ]
       ],
       "datasetInfos": [],
       "dbfsResultPath": null,
       "isJsonSchema": true,
       "metadata": {},
       "overflow": false,
       "plotOptions": {
        "customPlotOptions": {},
        "displayType": "table",
        "pivotAggregation": null,
        "pivotColumns": null,
        "xColumns": null,
        "yColumns": null
       },
       "removedWidgets": [],
       "schema": [
        {
         "metadata": "{}",
         "name": "random_group_value",
         "type": "\"integer\""
        }
       ],
       "type": "table"
      }
     },
     "output_type": "display_data"
    }
   ],
   "source": [
    "# Group data and assign random values per group\n",
    "df_grouped = df.groupBy().agg(\n",
    "    f.lit(random.randint(1, 100)).alias('random_group_value')\n",
    ")\n",
    "\n",
    "display(df_grouped)"
   ]
  },
  {
   "cell_type": "markdown",
   "metadata": {
    "application/vnd.databricks.v1+cell": {
     "cellMetadata": {
      "byteLimit": 2048000,
      "rowLimit": 10000
     },
     "inputWidgets": {},
     "nuid": "f4816a1b-a7b1-4a0a-a8e6-2ceecdcb01a5",
     "showTitle": false,
     "tableResultSettingsMap": {},
     "title": ""
    }
   },
   "source": [
    "**f) Using randint for Conditional Column Values**"
   ]
  },
  {
   "cell_type": "code",
   "execution_count": 0,
   "metadata": {
    "application/vnd.databricks.v1+cell": {
     "cellMetadata": {
      "byteLimit": 2048000,
      "rowLimit": 10000
     },
     "inputWidgets": {},
     "nuid": "7a489ecf-2019-4ad5-bb15-6c8df4f12e51",
     "showTitle": false,
     "tableResultSettingsMap": {},
     "title": ""
    }
   },
   "outputs": [
    {
     "output_type": "display_data",
     "data": {
      "text/html": [
       "<style scoped>\n",
       "  .table-result-container {\n",
       "    max-height: 300px;\n",
       "    overflow: auto;\n",
       "  }\n",
       "  table, th, td {\n",
       "    border: 1px solid black;\n",
       "    border-collapse: collapse;\n",
       "  }\n",
       "  th, td {\n",
       "    padding: 5px;\n",
       "  }\n",
       "  th {\n",
       "    text-align: left;\n",
       "  }\n",
       "</style><div class='table-result-container'><table class='table-result'><thead style='background-color: white'><tr><th>id</th><th>age</th><th>conditional_random</th></tr></thead><tbody><tr><td>1</td><td>25</td><td>100</td></tr><tr><td>2</td><td>35</td><td>34</td></tr><tr><td>3</td><td>33</td><td>72</td></tr><tr><td>4</td><td>39</td><td>47</td></tr><tr><td>5</td><td>29</td><td>77</td></tr><tr><td>6</td><td>22</td><td>31</td></tr><tr><td>7</td><td>45</td><td>74</td></tr><tr><td>8</td><td>48</td><td>48</td></tr><tr><td>9</td><td>37</td><td>81</td></tr><tr><td>10</td><td>55</td><td>6</td></tr></tbody></table></div>"
      ]
     },
     "metadata": {
      "application/vnd.databricks.v1+output": {
       "addedWidgets": {},
       "aggData": [],
       "aggError": "",
       "aggOverflow": false,
       "aggSchema": [],
       "aggSeriesLimitReached": false,
       "aggType": "",
       "arguments": {},
       "columnCustomDisplayInfos": {},
       "data": [
        [
         1,
         25,
         100
        ],
        [
         2,
         35,
         34
        ],
        [
         3,
         33,
         72
        ],
        [
         4,
         39,
         47
        ],
        [
         5,
         29,
         77
        ],
        [
         6,
         22,
         31
        ],
        [
         7,
         45,
         74
        ],
        [
         8,
         48,
         48
        ],
        [
         9,
         37,
         81
        ],
        [
         10,
         55,
         6
        ]
       ],
       "datasetInfos": [],
       "dbfsResultPath": null,
       "isJsonSchema": true,
       "metadata": {},
       "overflow": false,
       "plotOptions": {
        "customPlotOptions": {},
        "displayType": "table",
        "pivotAggregation": null,
        "pivotColumns": null,
        "xColumns": null,
        "yColumns": null
       },
       "removedWidgets": [],
       "schema": [
        {
         "metadata": "{}",
         "name": "id",
         "type": "\"long\""
        },
        {
         "metadata": "{}",
         "name": "age",
         "type": "\"long\""
        },
        {
         "metadata": "{}",
         "name": "conditional_random",
         "type": "\"integer\""
        }
       ],
       "type": "table"
      }
     },
     "output_type": "display_data"
    }
   ],
   "source": [
    "# UDF for conditional random values\n",
    "conditional_random_udf = udf(lambda x: random.randint(1, 50) if x % 2 == 0 else random.randint(51, 100), IntegerType())\n",
    "\n",
    "# Add a column with random values based on a condition\n",
    "df_with_conditional_random = df.withColumn('conditional_random', conditional_random_udf(df['id']))\n",
    "\n",
    "display(df_with_conditional_random)"
   ]
  },
  {
   "cell_type": "markdown",
   "metadata": {
    "application/vnd.databricks.v1+cell": {
     "cellMetadata": {
      "byteLimit": 2048000,
      "rowLimit": 10000
     },
     "inputWidgets": {},
     "nuid": "462377fc-ab2c-4f19-8c77-405533696c1d",
     "showTitle": false,
     "tableResultSettingsMap": {},
     "title": ""
    }
   },
   "source": [
    "**EX 02**"
   ]
  },
  {
   "cell_type": "code",
   "execution_count": 0,
   "metadata": {
    "application/vnd.databricks.v1+cell": {
     "cellMetadata": {
      "byteLimit": 2048000,
      "rowLimit": 10000
     },
     "inputWidgets": {},
     "nuid": "431f5a87-50ba-41ea-8190-c7718138cdea",
     "showTitle": true,
     "tableResultSettingsMap": {},
     "title": "sample dataframe 2"
    }
   },
   "outputs": [
    {
     "output_type": "display_data",
     "data": {
      "text/html": [
       "<style scoped>\n",
       "  .table-result-container {\n",
       "    max-height: 300px;\n",
       "    overflow: auto;\n",
       "  }\n",
       "  table, th, td {\n",
       "    border: 1px solid black;\n",
       "    border-collapse: collapse;\n",
       "  }\n",
       "  th, td {\n",
       "    padding: 5px;\n",
       "  }\n",
       "  th {\n",
       "    text-align: left;\n",
       "  }\n",
       "</style><div class='table-result-container'><table class='table-result'><thead style='background-color: white'><tr><th>ID</th><th>Name</th><th>Department</th><th>Salary</th><th>cust_value</th></tr></thead><tbody><tr><td>1</td><td>Alice</td><td>HR</td><td>5000</td><td>1</td></tr><tr><td>2</td><td>Bob</td><td>IT</td><td>6000</td><td>2</td></tr><tr><td>3</td><td>Cathy</td><td>HR</td><td>5500</td><td>3</td></tr><tr><td>4</td><td>David</td><td>IT</td><td>7000</td><td>4</td></tr><tr><td>5</td><td>Eve</td><td>HR</td><td>8000</td><td>5</td></tr><tr><td>6</td><td>Frank</td><td>IT</td><td>7500</td><td>6</td></tr><tr><td>7</td><td>Grace</td><td>HR</td><td>6200</td><td>7</td></tr><tr><td>8</td><td>Hank</td><td>IT</td><td>6800</td><td>8</td></tr><tr><td>9</td><td>Ivy</td><td>HR</td><td>7800</td><td>9</td></tr><tr><td>10</td><td>Jack</td><td>IT</td><td>6700</td><td>10</td></tr></tbody></table></div>"
      ]
     },
     "metadata": {
      "application/vnd.databricks.v1+output": {
       "addedWidgets": {},
       "aggData": [],
       "aggError": "",
       "aggOverflow": false,
       "aggSchema": [],
       "aggSeriesLimitReached": false,
       "aggType": "",
       "arguments": {},
       "columnCustomDisplayInfos": {},
       "data": [
        [
         1,
         "Alice",
         "HR",
         5000,
         1
        ],
        [
         2,
         "Bob",
         "IT",
         6000,
         2
        ],
        [
         3,
         "Cathy",
         "HR",
         5500,
         3
        ],
        [
         4,
         "David",
         "IT",
         7000,
         4
        ],
        [
         5,
         "Eve",
         "HR",
         8000,
         5
        ],
        [
         6,
         "Frank",
         "IT",
         7500,
         6
        ],
        [
         7,
         "Grace",
         "HR",
         6200,
         7
        ],
        [
         8,
         "Hank",
         "IT",
         6800,
         8
        ],
        [
         9,
         "Ivy",
         "HR",
         7800,
         9
        ],
        [
         10,
         "Jack",
         "IT",
         6700,
         10
        ]
       ],
       "datasetInfos": [],
       "dbfsResultPath": null,
       "isJsonSchema": true,
       "metadata": {},
       "overflow": false,
       "plotOptions": {
        "customPlotOptions": {},
        "displayType": "table",
        "pivotAggregation": null,
        "pivotColumns": null,
        "xColumns": null,
        "yColumns": null
       },
       "removedWidgets": [],
       "schema": [
        {
         "metadata": "{}",
         "name": "ID",
         "type": "\"long\""
        },
        {
         "metadata": "{}",
         "name": "Name",
         "type": "\"string\""
        },
        {
         "metadata": "{}",
         "name": "Department",
         "type": "\"string\""
        },
        {
         "metadata": "{}",
         "name": "Salary",
         "type": "\"long\""
        },
        {
         "metadata": "{}",
         "name": "cust_value",
         "type": "\"long\""
        }
       ],
       "type": "table"
      }
     },
     "output_type": "display_data"
    }
   ],
   "source": [
    "# Sample DataFrame with 10 rows\n",
    "data = [(1, \"Alice\", \"HR\", 5000, 1),\n",
    "        (2, \"Bob\", \"IT\", 6000, 2),\n",
    "        (3, \"Cathy\", \"HR\", 5500, 3),\n",
    "        (4, \"David\", \"IT\", 7000, 4),\n",
    "        (5, \"Eve\", \"HR\", 8000, 5),\n",
    "        (6, \"Frank\", \"IT\", 7500, 6),\n",
    "        (7, \"Grace\", \"HR\", 6200, 7),\n",
    "        (8, \"Hank\", \"IT\", 6800, 8),\n",
    "        (9, \"Ivy\", \"HR\", 7800, 9),\n",
    "        (10, \"Jack\", \"IT\", 6700, 10)]\n",
    "\n",
    "columns = [\"ID\", \"Name\", \"Department\", \"Salary\", \"cust_value\"]\n",
    "\n",
    "# Create DataFrame\n",
    "df1 = spark.createDataFrame(data, columns)\n",
    "display(df1)"
   ]
  },
  {
   "cell_type": "code",
   "execution_count": 0,
   "metadata": {
    "application/vnd.databricks.v1+cell": {
     "cellMetadata": {
      "byteLimit": 2048000,
      "rowLimit": 10000
     },
     "inputWidgets": {},
     "nuid": "c7043cb7-6b65-4235-b75c-ddc00800974a",
     "showTitle": true,
     "tableResultSettingsMap": {},
     "title": "@udf"
    }
   },
   "outputs": [],
   "source": [
    "# Define UDF for random salary values (e.g., between 4000 and 10000)\n",
    "@udf(IntegerType())\n",
    "def random_salary():\n",
    "    return random.randint(4000, 10000)\n",
    "\n",
    "# Define UDF for random cust_value values (e.g., between 1 and 20)\n",
    "@udf(IntegerType())\n",
    "def random_cust_value():\n",
    "    return random.randint(1, 20)"
   ]
  },
  {
   "cell_type": "markdown",
   "metadata": {
    "application/vnd.databricks.v1+cell": {
     "cellMetadata": {
      "byteLimit": 2048000,
      "rowLimit": 10000
     },
     "inputWidgets": {},
     "nuid": "e4d6f2b3-c4a9-4036-8d72-920ea9fbf12f",
     "showTitle": false,
     "tableResultSettingsMap": {},
     "title": ""
    }
   },
   "source": [
    "#### **1) Replace random integers for single column**"
   ]
  },
  {
   "cell_type": "code",
   "execution_count": 0,
   "metadata": {
    "application/vnd.databricks.v1+cell": {
     "cellMetadata": {
      "byteLimit": 2048000,
      "rowLimit": 10000
     },
     "inputWidgets": {},
     "nuid": "17579ac9-e5e8-46f6-8e40-1f0d32a5007a",
     "showTitle": false,
     "tableResultSettingsMap": {},
     "title": ""
    }
   },
   "outputs": [
    {
     "output_type": "display_data",
     "data": {
      "text/html": [
       "<style scoped>\n",
       "  .table-result-container {\n",
       "    max-height: 300px;\n",
       "    overflow: auto;\n",
       "  }\n",
       "  table, th, td {\n",
       "    border: 1px solid black;\n",
       "    border-collapse: collapse;\n",
       "  }\n",
       "  th, td {\n",
       "    padding: 5px;\n",
       "  }\n",
       "  th {\n",
       "    text-align: left;\n",
       "  }\n",
       "</style><div class='table-result-container'><table class='table-result'><thead style='background-color: white'><tr><th>ID</th><th>Name</th><th>Department</th><th>Salary</th><th>cust_value</th></tr></thead><tbody><tr><td>1</td><td>Alice</td><td>HR</td><td>5000</td><td>92</td></tr><tr><td>2</td><td>Bob</td><td>IT</td><td>6000</td><td>74</td></tr><tr><td>3</td><td>Cathy</td><td>HR</td><td>5500</td><td>97</td></tr><tr><td>4</td><td>David</td><td>IT</td><td>7000</td><td>72</td></tr><tr><td>5</td><td>Eve</td><td>HR</td><td>8000</td><td>70</td></tr><tr><td>6</td><td>Frank</td><td>IT</td><td>7500</td><td>78</td></tr><tr><td>7</td><td>Grace</td><td>HR</td><td>6200</td><td>85</td></tr><tr><td>8</td><td>Hank</td><td>IT</td><td>6800</td><td>83</td></tr><tr><td>9</td><td>Ivy</td><td>HR</td><td>7800</td><td>78</td></tr><tr><td>10</td><td>Jack</td><td>IT</td><td>6700</td><td>63</td></tr></tbody></table></div>"
      ]
     },
     "metadata": {
      "application/vnd.databricks.v1+output": {
       "addedWidgets": {},
       "aggData": [],
       "aggError": "",
       "aggOverflow": false,
       "aggSchema": [],
       "aggSeriesLimitReached": false,
       "aggType": "",
       "arguments": {},
       "columnCustomDisplayInfos": {},
       "data": [
        [
         1,
         "Alice",
         "HR",
         5000,
         92
        ],
        [
         2,
         "Bob",
         "IT",
         6000,
         74
        ],
        [
         3,
         "Cathy",
         "HR",
         5500,
         97
        ],
        [
         4,
         "David",
         "IT",
         7000,
         72
        ],
        [
         5,
         "Eve",
         "HR",
         8000,
         70
        ],
        [
         6,
         "Frank",
         "IT",
         7500,
         78
        ],
        [
         7,
         "Grace",
         "HR",
         6200,
         85
        ],
        [
         8,
         "Hank",
         "IT",
         6800,
         83
        ],
        [
         9,
         "Ivy",
         "HR",
         7800,
         78
        ],
        [
         10,
         "Jack",
         "IT",
         6700,
         63
        ]
       ],
       "datasetInfos": [],
       "dbfsResultPath": null,
       "isJsonSchema": true,
       "metadata": {},
       "overflow": false,
       "plotOptions": {
        "customPlotOptions": {},
        "displayType": "table",
        "pivotAggregation": null,
        "pivotColumns": null,
        "xColumns": null,
        "yColumns": null
       },
       "removedWidgets": [],
       "schema": [
        {
         "metadata": "{}",
         "name": "ID",
         "type": "\"long\""
        },
        {
         "metadata": "{}",
         "name": "Name",
         "type": "\"string\""
        },
        {
         "metadata": "{}",
         "name": "Department",
         "type": "\"string\""
        },
        {
         "metadata": "{}",
         "name": "Salary",
         "type": "\"long\""
        },
        {
         "metadata": "{}",
         "name": "cust_value",
         "type": "\"integer\""
        }
       ],
       "type": "table"
      }
     },
     "output_type": "display_data"
    }
   ],
   "source": [
    "# Replace the `cust_value` column with random integers\n",
    "df_with_random_values = df1.withColumn(\"cust_value\", random_in_range_udf())\n",
    "\n",
    "# Show the result\n",
    "display(df_with_random_values)"
   ]
  },
  {
   "cell_type": "markdown",
   "metadata": {
    "application/vnd.databricks.v1+cell": {
     "cellMetadata": {
      "byteLimit": 2048000,
      "rowLimit": 10000
     },
     "inputWidgets": {},
     "nuid": "64a4cce2-6548-4e99-83c2-d8a866e993e3",
     "showTitle": false,
     "tableResultSettingsMap": {},
     "title": ""
    }
   },
   "source": [
    "#### **2) Replace random integers for multiple columns**"
   ]
  },
  {
   "cell_type": "code",
   "execution_count": 0,
   "metadata": {
    "application/vnd.databricks.v1+cell": {
     "cellMetadata": {
      "byteLimit": 2048000,
      "rowLimit": 10000
     },
     "inputWidgets": {},
     "nuid": "801415ea-1bee-4300-ab2e-6d03d6afc6c0",
     "showTitle": false,
     "tableResultSettingsMap": {},
     "title": ""
    }
   },
   "outputs": [
    {
     "output_type": "display_data",
     "data": {
      "text/html": [
       "<style scoped>\n",
       "  .table-result-container {\n",
       "    max-height: 300px;\n",
       "    overflow: auto;\n",
       "  }\n",
       "  table, th, td {\n",
       "    border: 1px solid black;\n",
       "    border-collapse: collapse;\n",
       "  }\n",
       "  th, td {\n",
       "    padding: 5px;\n",
       "  }\n",
       "  th {\n",
       "    text-align: left;\n",
       "  }\n",
       "</style><div class='table-result-container'><table class='table-result'><thead style='background-color: white'><tr><th>ID</th><th>Name</th><th>Department</th><th>Salary</th><th>cust_value</th></tr></thead><tbody><tr><td>1</td><td>Alice</td><td>HR</td><td>4470</td><td>17</td></tr><tr><td>2</td><td>Bob</td><td>IT</td><td>9752</td><td>16</td></tr><tr><td>3</td><td>Cathy</td><td>HR</td><td>6735</td><td>4</td></tr><tr><td>4</td><td>David</td><td>IT</td><td>6395</td><td>17</td></tr><tr><td>5</td><td>Eve</td><td>HR</td><td>6224</td><td>4</td></tr><tr><td>6</td><td>Frank</td><td>IT</td><td>6357</td><td>7</td></tr><tr><td>7</td><td>Grace</td><td>HR</td><td>4259</td><td>17</td></tr><tr><td>8</td><td>Hank</td><td>IT</td><td>4269</td><td>5</td></tr><tr><td>9</td><td>Ivy</td><td>HR</td><td>7306</td><td>15</td></tr><tr><td>10</td><td>Jack</td><td>IT</td><td>9428</td><td>11</td></tr></tbody></table></div>"
      ]
     },
     "metadata": {
      "application/vnd.databricks.v1+output": {
       "addedWidgets": {},
       "aggData": [],
       "aggError": "",
       "aggOverflow": false,
       "aggSchema": [],
       "aggSeriesLimitReached": false,
       "aggType": "",
       "arguments": {},
       "columnCustomDisplayInfos": {},
       "data": [
        [
         1,
         "Alice",
         "HR",
         4470,
         17
        ],
        [
         2,
         "Bob",
         "IT",
         9752,
         16
        ],
        [
         3,
         "Cathy",
         "HR",
         6735,
         4
        ],
        [
         4,
         "David",
         "IT",
         6395,
         17
        ],
        [
         5,
         "Eve",
         "HR",
         6224,
         4
        ],
        [
         6,
         "Frank",
         "IT",
         6357,
         7
        ],
        [
         7,
         "Grace",
         "HR",
         4259,
         17
        ],
        [
         8,
         "Hank",
         "IT",
         4269,
         5
        ],
        [
         9,
         "Ivy",
         "HR",
         7306,
         15
        ],
        [
         10,
         "Jack",
         "IT",
         9428,
         11
        ]
       ],
       "datasetInfos": [],
       "dbfsResultPath": null,
       "isJsonSchema": true,
       "metadata": {},
       "overflow": false,
       "plotOptions": {
        "customPlotOptions": {},
        "displayType": "table",
        "pivotAggregation": null,
        "pivotColumns": null,
        "xColumns": null,
        "yColumns": null
       },
       "removedWidgets": [],
       "schema": [
        {
         "metadata": "{}",
         "name": "ID",
         "type": "\"long\""
        },
        {
         "metadata": "{}",
         "name": "Name",
         "type": "\"string\""
        },
        {
         "metadata": "{}",
         "name": "Department",
         "type": "\"string\""
        },
        {
         "metadata": "{}",
         "name": "Salary",
         "type": "\"integer\""
        },
        {
         "metadata": "{}",
         "name": "cust_value",
         "type": "\"integer\""
        }
       ],
       "type": "table"
      }
     },
     "output_type": "display_data"
    }
   ],
   "source": [
    "# Update the columns with random values\n",
    "df_updated = df1.withColumn(\"Salary\", random_salary())\\\n",
    "                .withColumn(\"cust_value\", random_cust_value())\n",
    "\n",
    "# Show the result\n",
    "display(df_updated)"
   ]
  }
 ],
 "metadata": {
  "application/vnd.databricks.v1+notebook": {
   "computePreferences": null,
   "dashboards": [],
   "environmentMetadata": {
    "base_environment": "",
    "client": "1"
   },
   "language": "python",
   "notebookMetadata": {
    "pythonIndentUnit": 4
   },
   "notebookName": "104_How to update column values using udf_random.randint()",
   "widgets": {}
  }
 },
 "nbformat": 4,
 "nbformat_minor": 0
}
