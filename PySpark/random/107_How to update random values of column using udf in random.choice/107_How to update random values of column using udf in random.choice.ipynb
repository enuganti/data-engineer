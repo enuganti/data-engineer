{
 "cells": [
  {
   "cell_type": "markdown",
   "metadata": {
    "application/vnd.databricks.v1+cell": {
     "cellMetadata": {},
     "inputWidgets": {},
     "nuid": "3e8f9a40-d644-425b-a3ea-6a32f61cbe38",
     "showTitle": false,
     "tableResultSettingsMap": {},
     "title": ""
    }
   },
   "source": [
    "#### **1) Applying random.choice to a Single Column**"
   ]
  },
  {
   "cell_type": "code",
   "execution_count": 0,
   "metadata": {
    "application/vnd.databricks.v1+cell": {
     "cellMetadata": {
      "byteLimit": 2048000,
      "rowLimit": 10000
     },
     "inputWidgets": {},
     "nuid": "aab5f799-4824-42f7-b89d-2c48918f8386",
     "showTitle": false,
     "tableResultSettingsMap": {},
     "title": ""
    }
   },
   "outputs": [],
   "source": [
    "from pyspark.sql.functions import col, udf\n",
    "from pyspark.sql.types import StringType\n",
    "import random"
   ]
  },
  {
   "cell_type": "code",
   "execution_count": 0,
   "metadata": {
    "application/vnd.databricks.v1+cell": {
     "cellMetadata": {
      "byteLimit": 2048000,
      "rowLimit": 10000
     },
     "inputWidgets": {},
     "nuid": "8267d919-3c55-4b14-91f2-31531cd1c195",
     "showTitle": true,
     "tableResultSettingsMap": {},
     "title": "sample dataframe"
    }
   },
   "outputs": [
    {
     "output_type": "display_data",
     "data": {
      "text/html": [
       "<style scoped>\n",
       "  .table-result-container {\n",
       "    max-height: 300px;\n",
       "    overflow: auto;\n",
       "  }\n",
       "  table, th, td {\n",
       "    border: 1px solid black;\n",
       "    border-collapse: collapse;\n",
       "  }\n",
       "  th, td {\n",
       "    padding: 5px;\n",
       "  }\n",
       "  th {\n",
       "    text-align: left;\n",
       "  }\n",
       "</style><div class='table-result-container'><table class='table-result'><thead style='background-color: white'><tr><th>ID</th><th>Name</th></tr></thead><tbody><tr><td>1</td><td>Anand</td></tr><tr><td>2</td><td>Baskar</td></tr><tr><td>3</td><td>Catherin</td></tr><tr><td>4</td><td>Dravid</td></tr><tr><td>5</td><td>Swetha</td></tr><tr><td>6</td><td>Akash</td></tr><tr><td>7</td><td>Senthil</td></tr><tr><td>8</td><td>Praveen</td></tr></tbody></table></div>"
      ]
     },
     "metadata": {
      "application/vnd.databricks.v1+output": {
       "addedWidgets": {},
       "aggData": [],
       "aggError": "",
       "aggOverflow": false,
       "aggSchema": [],
       "aggSeriesLimitReached": false,
       "aggType": "",
       "arguments": {},
       "columnCustomDisplayInfos": {},
       "data": [
        [
         1,
         "Anand"
        ],
        [
         2,
         "Baskar"
        ],
        [
         3,
         "Catherin"
        ],
        [
         4,
         "Dravid"
        ],
        [
         5,
         "Swetha"
        ],
        [
         6,
         "Akash"
        ],
        [
         7,
         "Senthil"
        ],
        [
         8,
         "Praveen"
        ]
       ],
       "datasetInfos": [],
       "dbfsResultPath": null,
       "isJsonSchema": true,
       "metadata": {},
       "overflow": false,
       "plotOptions": {
        "customPlotOptions": {},
        "displayType": "table",
        "pivotAggregation": null,
        "pivotColumns": null,
        "xColumns": null,
        "yColumns": null
       },
       "removedWidgets": [],
       "schema": [
        {
         "metadata": "{}",
         "name": "ID",
         "type": "\"long\""
        },
        {
         "metadata": "{}",
         "name": "Name",
         "type": "\"string\""
        }
       ],
       "type": "table"
      }
     },
     "output_type": "display_data"
    }
   ],
   "source": [
    "# Sample DataFrame\n",
    "data = [(1, \"Anand\"),\n",
    "        (2, \"Baskar\"),\n",
    "        (3, \"Catherin\"),\n",
    "        (4, \"Dravid\"),\n",
    "        (5, \"Swetha\"),\n",
    "        (6, \"Akash\"),\n",
    "        (7, \"Senthil\"),\n",
    "        (8, \"Praveen\")]\n",
    "columns = [\"ID\", \"Name\"]\n",
    "\n",
    "df = spark.createDataFrame(data, columns)\n",
    "display(df)"
   ]
  },
  {
   "cell_type": "code",
   "execution_count": 0,
   "metadata": {
    "application/vnd.databricks.v1+cell": {
     "cellMetadata": {
      "byteLimit": 2048000,
      "rowLimit": 10000
     },
     "inputWidgets": {},
     "nuid": "d151e58f-2e2d-4d1f-bfc5-b26d0dd7f5ad",
     "showTitle": false,
     "tableResultSettingsMap": {},
     "title": ""
    }
   },
   "outputs": [
    {
     "output_type": "display_data",
     "data": {
      "text/html": [
       "<style scoped>\n",
       "  .table-result-container {\n",
       "    max-height: 300px;\n",
       "    overflow: auto;\n",
       "  }\n",
       "  table, th, td {\n",
       "    border: 1px solid black;\n",
       "    border-collapse: collapse;\n",
       "  }\n",
       "  th, td {\n",
       "    padding: 5px;\n",
       "  }\n",
       "  th {\n",
       "    text-align: left;\n",
       "  }\n",
       "</style><div class='table-result-container'><table class='table-result'><thead style='background-color: white'><tr><th>ID</th><th>Name</th><th>Department</th></tr></thead><tbody><tr><td>1</td><td>Anand</td><td>Finance</td></tr><tr><td>2</td><td>Baskar</td><td>HR</td></tr><tr><td>3</td><td>Catherin</td><td>IT</td></tr><tr><td>4</td><td>Dravid</td><td>IT</td></tr><tr><td>5</td><td>Swetha</td><td>Finance</td></tr><tr><td>6</td><td>Akash</td><td>Finance</td></tr><tr><td>7</td><td>Senthil</td><td>HR</td></tr><tr><td>8</td><td>Praveen</td><td>IT</td></tr></tbody></table></div>"
      ]
     },
     "metadata": {
      "application/vnd.databricks.v1+output": {
       "addedWidgets": {},
       "aggData": [],
       "aggError": "",
       "aggOverflow": false,
       "aggSchema": [],
       "aggSeriesLimitReached": false,
       "aggType": "",
       "arguments": {},
       "columnCustomDisplayInfos": {},
       "data": [
        [
         1,
         "Anand",
         "Finance"
        ],
        [
         2,
         "Baskar",
         "HR"
        ],
        [
         3,
         "Catherin",
         "IT"
        ],
        [
         4,
         "Dravid",
         "IT"
        ],
        [
         5,
         "Swetha",
         "Finance"
        ],
        [
         6,
         "Akash",
         "Finance"
        ],
        [
         7,
         "Senthil",
         "HR"
        ],
        [
         8,
         "Praveen",
         "IT"
        ]
       ],
       "datasetInfos": [],
       "dbfsResultPath": null,
       "isJsonSchema": true,
       "metadata": {},
       "overflow": false,
       "plotOptions": {
        "customPlotOptions": {},
        "displayType": "table",
        "pivotAggregation": null,
        "pivotColumns": null,
        "xColumns": null,
        "yColumns": null
       },
       "removedWidgets": [],
       "schema": [
        {
         "metadata": "{}",
         "name": "ID",
         "type": "\"long\""
        },
        {
         "metadata": "{}",
         "name": "Name",
         "type": "\"string\""
        },
        {
         "metadata": "{}",
         "name": "Department",
         "type": "\"string\""
        }
       ],
       "type": "table"
      }
     },
     "output_type": "display_data"
    }
   ],
   "source": [
    "# List of random choices\n",
    "choices = [\"HR\", \"IT\", \"Finance\", \"Marketing\"]\n",
    "\n",
    "# Define UDF to apply random.choice\n",
    "@udf(StringType())\n",
    "def random_choice_udf():\n",
    "    return random.choice(choices)\n",
    "\n",
    "# Apply the UDF to add a new column\n",
    "df_with_random_choice = df.withColumn(\"Department\", random_choice_udf())\n",
    "\n",
    "# Show the resulting DataFrame\n",
    "display(df_with_random_choice)"
   ]
  },
  {
   "cell_type": "markdown",
   "metadata": {
    "application/vnd.databricks.v1+cell": {
     "cellMetadata": {},
     "inputWidgets": {},
     "nuid": "38564dba-e0d6-4ea7-a5e6-538822cb8ed5",
     "showTitle": false,
     "tableResultSettingsMap": {},
     "title": ""
    }
   },
   "source": [
    "#### **2) Applying random.choice to Multiple Columns**"
   ]
  },
  {
   "cell_type": "code",
   "execution_count": 0,
   "metadata": {
    "application/vnd.databricks.v1+cell": {
     "cellMetadata": {
      "byteLimit": 2048000,
      "rowLimit": 10000
     },
     "inputWidgets": {},
     "nuid": "426d7d10-68ba-4eba-89e8-e55afabf9724",
     "showTitle": true,
     "tableResultSettingsMap": {},
     "title": "udf on multiple columns"
    }
   },
   "outputs": [
    {
     "output_type": "display_data",
     "data": {
      "text/html": [
       "<style scoped>\n",
       "  .table-result-container {\n",
       "    max-height: 300px;\n",
       "    overflow: auto;\n",
       "  }\n",
       "  table, th, td {\n",
       "    border: 1px solid black;\n",
       "    border-collapse: collapse;\n",
       "  }\n",
       "  th, td {\n",
       "    padding: 5px;\n",
       "  }\n",
       "  th {\n",
       "    text-align: left;\n",
       "  }\n",
       "</style><div class='table-result-container'><table class='table-result'><thead style='background-color: white'><tr><th>ID</th><th>Name</th><th>Department</th><th>Project</th></tr></thead><tbody><tr><td>1</td><td>Anand</td><td>Marketing</td><td>Project A</td></tr><tr><td>2</td><td>Baskar</td><td>Finance</td><td>Project C</td></tr><tr><td>3</td><td>Catherin</td><td>Finance</td><td>Project C</td></tr><tr><td>4</td><td>Dravid</td><td>HR</td><td>Project C</td></tr><tr><td>5</td><td>Swetha</td><td>HR</td><td>Project A</td></tr><tr><td>6</td><td>Akash</td><td>Marketing</td><td>Project A</td></tr><tr><td>7</td><td>Senthil</td><td>HR</td><td>Project A</td></tr><tr><td>8</td><td>Praveen</td><td>Finance</td><td>Project C</td></tr></tbody></table></div>"
      ]
     },
     "metadata": {
      "application/vnd.databricks.v1+output": {
       "addedWidgets": {},
       "aggData": [],
       "aggError": "",
       "aggOverflow": false,
       "aggSchema": [],
       "aggSeriesLimitReached": false,
       "aggType": "",
       "arguments": {},
       "columnCustomDisplayInfos": {},
       "data": [
        [
         1,
         "Anand",
         "Marketing",
         "Project A"
        ],
        [
         2,
         "Baskar",
         "Finance",
         "Project C"
        ],
        [
         3,
         "Catherin",
         "Finance",
         "Project C"
        ],
        [
         4,
         "Dravid",
         "HR",
         "Project C"
        ],
        [
         5,
         "Swetha",
         "HR",
         "Project A"
        ],
        [
         6,
         "Akash",
         "Marketing",
         "Project A"
        ],
        [
         7,
         "Senthil",
         "HR",
         "Project A"
        ],
        [
         8,
         "Praveen",
         "Finance",
         "Project C"
        ]
       ],
       "datasetInfos": [],
       "dbfsResultPath": null,
       "isJsonSchema": true,
       "metadata": {},
       "overflow": false,
       "plotOptions": {
        "customPlotOptions": {},
        "displayType": "table",
        "pivotAggregation": null,
        "pivotColumns": null,
        "xColumns": null,
        "yColumns": null
       },
       "removedWidgets": [],
       "schema": [
        {
         "metadata": "{}",
         "name": "ID",
         "type": "\"long\""
        },
        {
         "metadata": "{}",
         "name": "Name",
         "type": "\"string\""
        },
        {
         "metadata": "{}",
         "name": "Department",
         "type": "\"string\""
        },
        {
         "metadata": "{}",
         "name": "Project",
         "type": "\"string\""
        }
       ],
       "type": "table"
      }
     },
     "output_type": "display_data"
    }
   ],
   "source": [
    "# List of random choices\n",
    "choices = [\"HR\", \"IT\", \"Finance\", \"Marketing\"]\n",
    "\n",
    "# Define UDF for random department\n",
    "@udf(StringType())\n",
    "def random_department():\n",
    "    return random.choice(choices)\n",
    "\n",
    "# Another UDF for random project assignment\n",
    "projects = [\"Project A\", \"Project B\", \"Project C\"]\n",
    "\n",
    "@udf(StringType())\n",
    "def random_project():\n",
    "    return random.choice(projects)\n",
    "\n",
    "# Apply both UDFs to add new columns\n",
    "df_with_random_columns = (\n",
    "    df.withColumn(\"Department\", random_department())\n",
    "      .withColumn(\"Project\", random_project())\n",
    ")\n",
    "\n",
    "# Show the resulting DataFrame\n",
    "display(df_with_random_columns)"
   ]
  },
  {
   "cell_type": "markdown",
   "metadata": {
    "application/vnd.databricks.v1+cell": {
     "cellMetadata": {},
     "inputWidgets": {},
     "nuid": "db70c2fe-815e-447a-9610-903370cb4814",
     "showTitle": false,
     "tableResultSettingsMap": {},
     "title": ""
    }
   },
   "source": [
    "#### **3) Using a Predefined List in random.choice with Existing Column Data**"
   ]
  },
  {
   "cell_type": "markdown",
   "metadata": {
    "application/vnd.databricks.v1+cell": {
     "cellMetadata": {},
     "inputWidgets": {},
     "nuid": "be9e92a2-f50b-4c52-877c-2cfef7dcf1b0",
     "showTitle": false,
     "tableResultSettingsMap": {},
     "title": ""
    }
   },
   "source": [
    "**Syntax**\n",
    "\n",
    "     dict.get(key,value)\n",
    "\n",
    "**key:** (Required) Key to be **searched in the dictionary**.\n",
    "\n",
    "**value:** (Optional) Value to be returned if the **key is not present** in the dictionary."
   ]
  },
  {
   "cell_type": "code",
   "execution_count": 0,
   "metadata": {
    "application/vnd.databricks.v1+cell": {
     "cellMetadata": {
      "byteLimit": 2048000,
      "rowLimit": 10000
     },
     "inputWidgets": {},
     "nuid": "7250c8a6-09c9-40ba-9110-e8db4a7a9987",
     "showTitle": false,
     "tableResultSettingsMap": {},
     "title": ""
    }
   },
   "outputs": [
    {
     "output_type": "stream",
     "name": "stdout",
     "output_type": "stream",
     "text": [
      "language: python\nfee: 4000\n"
     ]
    }
   ],
   "source": [
    "course = {'language': 'python', 'fee': 4000}\n",
    "\n",
    "# Using get() method to get the value from dictionary\n",
    "print('language:', course.get('language'))\n",
    "print('fee:', course.get('fee'))"
   ]
  },
  {
   "cell_type": "code",
   "execution_count": 0,
   "metadata": {
    "application/vnd.databricks.v1+cell": {
     "cellMetadata": {
      "byteLimit": 2048000,
      "rowLimit": 10000
     },
     "inputWidgets": {},
     "nuid": "b2729c23-e4a7-4477-9992-c9cae20cad06",
     "showTitle": false,
     "tableResultSettingsMap": {},
     "title": ""
    }
   },
   "outputs": [
    {
     "output_type": "stream",
     "name": "stdout",
     "output_type": "stream",
     "text": [
      "duration: None\n"
     ]
    }
   ],
   "source": [
    "# Using get() to get the value as a None\n",
    "print('duration:', course.get('duration'))"
   ]
  },
  {
   "cell_type": "code",
   "execution_count": 0,
   "metadata": {
    "application/vnd.databricks.v1+cell": {
     "cellMetadata": {
      "byteLimit": 2048000,
      "rowLimit": 10000
     },
     "inputWidgets": {},
     "nuid": "94a8b1d0-c5c7-4c50-a9cb-e974136687c7",
     "showTitle": false,
     "tableResultSettingsMap": {},
     "title": ""
    }
   },
   "outputs": [
    {
     "output_type": "stream",
     "name": "stdout",
     "output_type": "stream",
     "text": [
      "duration: Not in dictionary\n"
     ]
    }
   ],
   "source": [
    "# Using get() to get the value as specified\n",
    "print('duration:', course.get('duration','Not in dictionary'))"
   ]
  },
  {
   "cell_type": "code",
   "execution_count": 0,
   "metadata": {
    "application/vnd.databricks.v1+cell": {
     "cellMetadata": {
      "byteLimit": 2048000,
      "rowLimit": 10000
     },
     "inputWidgets": {},
     "nuid": "3c3b13a9-8646-4a8f-8056-a72f4921c3f7",
     "showTitle": false,
     "tableResultSettingsMap": {},
     "title": ""
    }
   },
   "outputs": [
    {
     "output_type": "stream",
     "name": "stdout",
     "output_type": "stream",
     "text": [
      "duration: python\n"
     ]
    }
   ],
   "source": [
    "\n",
    "# Using get() to get the value as specified\n",
    "course = {'language': 'python', 'fee': 4000}\n",
    "print('duration:', course.get('language','Not in dictionary'))"
   ]
  },
  {
   "cell_type": "code",
   "execution_count": 0,
   "metadata": {
    "application/vnd.databricks.v1+cell": {
     "cellMetadata": {
      "byteLimit": 2048000,
      "rowLimit": 10000
     },
     "inputWidgets": {},
     "nuid": "5735716b-8422-4967-8b6e-406f45243681",
     "showTitle": false,
     "tableResultSettingsMap": {},
     "title": ""
    }
   },
   "outputs": [
    {
     "output_type": "stream",
     "name": "stdout",
     "output_type": "stream",
     "text": [
      "HR: ['Policy', 'Recruitment', 'Sales']\nRandom Choice of HR: Sales\nFinance: ['Auditing', 'Budgeting', 'Works', 'Temp']\nRandom Choice of Finance: Auditing\n"
     ]
    }
   ],
   "source": [
    "# Using get() to get the value as specified\n",
    "course = {'language': 'python', 'fee': 4000, 'HR': [\"Policy\", \"Recruitment\", \"Sales\"], 'Finance': [\"Auditing\", \"Budgeting\", \"Works\", \"Temp\"]}\n",
    "\n",
    "print('HR:', course.get('HR','Not in dictionary'))\n",
    "print('Random Choice of HR:', random.choice(course.get('HR','Not in dictionary')))\n",
    "\n",
    "print('Finance:', course.get('Finance','Not in dictionary'))\n",
    "print('Random Choice of Finance:', random.choice(course.get('Finance','Not in dictionary')))"
   ]
  },
  {
   "cell_type": "code",
   "execution_count": 0,
   "metadata": {
    "application/vnd.databricks.v1+cell": {
     "cellMetadata": {
      "byteLimit": 2048000,
      "rowLimit": 10000
     },
     "inputWidgets": {},
     "nuid": "ad10475d-caf3-4117-a9e5-d236d9ef0870",
     "showTitle": false,
     "tableResultSettingsMap": {},
     "title": ""
    }
   },
   "outputs": [
    {
     "output_type": "display_data",
     "data": {
      "text/html": [
       "<style scoped>\n",
       "  .table-result-container {\n",
       "    max-height: 300px;\n",
       "    overflow: auto;\n",
       "  }\n",
       "  table, th, td {\n",
       "    border: 1px solid black;\n",
       "    border-collapse: collapse;\n",
       "  }\n",
       "  th, td {\n",
       "    padding: 5px;\n",
       "  }\n",
       "  th {\n",
       "    text-align: left;\n",
       "  }\n",
       "</style><div class='table-result-container'><table class='table-result'><thead style='background-color: white'><tr><th>ID</th><th>Name</th><th>Department</th><th>Project</th><th>Specialization</th></tr></thead><tbody><tr><td>1</td><td>Anand</td><td>Marketing</td><td>Project C</td><td>General</td></tr><tr><td>2</td><td>Baskar</td><td>HR</td><td>Project A</td><td>DevOps</td></tr><tr><td>3</td><td>Catherin</td><td>Finance</td><td>Project B</td><td>Policy</td></tr><tr><td>4</td><td>Dravid</td><td>IT</td><td>Project B</td><td>General</td></tr><tr><td>5</td><td>Swetha</td><td>IT</td><td>Project A</td><td>General</td></tr><tr><td>6</td><td>Akash</td><td>HR</td><td>Project A</td><td>Policy</td></tr><tr><td>7</td><td>Senthil</td><td>Finance</td><td>Project B</td><td>Auditing</td></tr><tr><td>8</td><td>Praveen</td><td>IT</td><td>Project A</td><td>Auditing</td></tr></tbody></table></div>"
      ]
     },
     "metadata": {
      "application/vnd.databricks.v1+output": {
       "addedWidgets": {},
       "aggData": [],
       "aggError": "",
       "aggOverflow": false,
       "aggSchema": [],
       "aggSeriesLimitReached": false,
       "aggType": "",
       "arguments": {},
       "columnCustomDisplayInfos": {},
       "data": [
        [
         1,
         "Anand",
         "Marketing",
         "Project C",
         "General"
        ],
        [
         2,
         "Baskar",
         "HR",
         "Project A",
         "DevOps"
        ],
        [
         3,
         "Catherin",
         "Finance",
         "Project B",
         "Policy"
        ],
        [
         4,
         "Dravid",
         "IT",
         "Project B",
         "General"
        ],
        [
         5,
         "Swetha",
         "IT",
         "Project A",
         "General"
        ],
        [
         6,
         "Akash",
         "HR",
         "Project A",
         "Policy"
        ],
        [
         7,
         "Senthil",
         "Finance",
         "Project B",
         "Auditing"
        ],
        [
         8,
         "Praveen",
         "IT",
         "Project A",
         "Auditing"
        ]
       ],
       "datasetInfos": [],
       "dbfsResultPath": null,
       "isJsonSchema": true,
       "metadata": {},
       "overflow": false,
       "plotOptions": {
        "customPlotOptions": {},
        "displayType": "table",
        "pivotAggregation": null,
        "pivotColumns": null,
        "xColumns": null,
        "yColumns": null
       },
       "removedWidgets": [],
       "schema": [
        {
         "metadata": "{}",
         "name": "ID",
         "type": "\"long\""
        },
        {
         "metadata": "{}",
         "name": "Name",
         "type": "\"string\""
        },
        {
         "metadata": "{}",
         "name": "Department",
         "type": "\"string\""
        },
        {
         "metadata": "{}",
         "name": "Project",
         "type": "\"string\""
        },
        {
         "metadata": "{}",
         "name": "Specialization",
         "type": "\"string\""
        }
       ],
       "type": "table"
      }
     },
     "output_type": "display_data"
    }
   ],
   "source": [
    "@udf(StringType())\n",
    "def random_from_column(value):\n",
    "    options = {\n",
    "        \"HR\": [\"Policy\"],\n",
    "        \"IT\": [\"DevOps\"],\n",
    "        \"Finance\": [\"Auditing\"]\n",
    "    }\n",
    "    return random.choice(options.get(value, [\"General\"]))\n",
    "\n",
    "# Add a new column with predefined random values based on \"Department\"\n",
    "df_with_dependent_choice = df_with_random_columns.withColumn(\"Specialization\", random_from_column(col(\"Department\")))\n",
    "\n",
    "display(df_with_dependent_choice)"
   ]
  }
 ],
 "metadata": {
  "application/vnd.databricks.v1+notebook": {
   "computePreferences": null,
   "dashboards": [],
   "environmentMetadata": {
    "base_environment": "",
    "client": "1"
   },
   "language": "python",
   "notebookMetadata": {
    "pythonIndentUnit": 4
   },
   "notebookName": "107_How to update random values of column using udf in random.choice",
   "widgets": {}
  }
 },
 "nbformat": 4,
 "nbformat_minor": 0
}
