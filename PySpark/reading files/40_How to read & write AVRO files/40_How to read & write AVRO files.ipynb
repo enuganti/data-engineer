{
 "cells": [
  {
   "cell_type": "code",
   "execution_count": 0,
   "metadata": {
    "application/vnd.databricks.v1+cell": {
     "cellMetadata": {
      "byteLimit": 2048000,
      "rowLimit": 10000
     },
     "inputWidgets": {},
     "nuid": "a3ca19a5-c338-40d0-aa66-37d2a673c014",
     "showTitle": false,
     "tableResultSettingsMap": {},
     "title": ""
    }
   },
   "outputs": [],
   "source": [
    "from pyspark.sql.types import StructType, StructField, IntegerType, StringType"
   ]
  },
  {
   "cell_type": "markdown",
   "metadata": {
    "application/vnd.databricks.v1+cell": {
     "cellMetadata": {},
     "inputWidgets": {},
     "nuid": "c1cb18df-4d5a-445a-8d7a-9c225d1d7a03",
     "showTitle": false,
     "tableResultSettingsMap": {},
     "title": ""
    }
   },
   "source": [
    "**1) Write DataFrame to Avro & Load Avro files into DataFrame**"
   ]
  },
  {
   "cell_type": "markdown",
   "metadata": {
    "application/vnd.databricks.v1+cell": {
     "cellMetadata": {},
     "inputWidgets": {},
     "nuid": "9cc853cf-4d14-4b11-b8bf-c8b270a5b145",
     "showTitle": false,
     "tableResultSettingsMap": {},
     "title": ""
    }
   },
   "source": [
    "**a) Without define schema**"
   ]
  },
  {
   "cell_type": "code",
   "execution_count": 0,
   "metadata": {
    "application/vnd.databricks.v1+cell": {
     "cellMetadata": {
      "byteLimit": 2048000,
      "rowLimit": 10000
     },
     "inputWidgets": {},
     "nuid": "49611598-c0d2-4c8e-8019-bcfab4004288",
     "showTitle": true,
     "tableResultSettingsMap": {},
     "title": "sample dataframe"
    }
   },
   "outputs": [
    {
     "output_type": "display_data",
     "data": {
      "text/html": [
       "<style scoped>\n",
       "  .table-result-container {\n",
       "    max-height: 300px;\n",
       "    overflow: auto;\n",
       "  }\n",
       "  table, th, td {\n",
       "    border: 1px solid black;\n",
       "    border-collapse: collapse;\n",
       "  }\n",
       "  th, td {\n",
       "    padding: 5px;\n",
       "  }\n",
       "  th {\n",
       "    text-align: left;\n",
       "  }\n",
       "</style><div class='table-result-container'><table class='table-result'><thead style='background-color: white'><tr><th>id</th><th>name</th><th>salary</th><th>city</th><th>year</th><th>month</th><th>title</th><th>rating</th></tr></thead><tbody><tr><td>1</td><td>kiran</td><td>50000</td><td>Chennai</td><td>2012</td><td>8</td><td>Batman</td><td>9.8</td></tr><tr><td>2</td><td>Jayesh</td><td>60000</td><td>Bangalore</td><td>2012</td><td>8</td><td>Hero</td><td>8.7</td></tr><tr><td>3</td><td>Mithun</td><td>55000</td><td>Hyderabad</td><td>2012</td><td>7</td><td>Robot</td><td>5.5</td></tr><tr><td>4</td><td>Muthu</td><td>25000</td><td>Chennai</td><td>2011</td><td>7</td><td>Git</td><td>2.0</td></tr><tr><td>5</td><td>Nirmal</td><td>35000</td><td>Nasik</td><td>2011</td><td>8</td><td>Azure</td><td>2.5</td></tr><tr><td>6</td><td>Naresh</td><td>65000</td><td>Hyderabad</td><td>2012</td><td>7</td><td>ADF</td><td>6.5</td></tr><tr><td>7</td><td>Kamal</td><td>85000</td><td>Chennai</td><td>2011</td><td>7</td><td>ADB</td><td>3.8</td></tr><tr><td>8</td><td>Kiran</td><td>95000</td><td>Nasik</td><td>2011</td><td>8</td><td>Azure</td><td>4.5</td></tr></tbody></table></div>"
      ]
     },
     "metadata": {
      "application/vnd.databricks.v1+output": {
       "addedWidgets": {},
       "aggData": [],
       "aggError": "",
       "aggOverflow": false,
       "aggSchema": [],
       "aggSeriesLimitReached": false,
       "aggType": "",
       "arguments": {},
       "columnCustomDisplayInfos": {},
       "data": [
        [
         1,
         "kiran",
         50000,
         "Chennai",
         2012,
         8,
         "Batman",
         9.8
        ],
        [
         2,
         "Jayesh",
         60000,
         "Bangalore",
         2012,
         8,
         "Hero",
         8.7
        ],
        [
         3,
         "Mithun",
         55000,
         "Hyderabad",
         2012,
         7,
         "Robot",
         5.5
        ],
        [
         4,
         "Muthu",
         25000,
         "Chennai",
         2011,
         7,
         "Git",
         2.0
        ],
        [
         5,
         "Nirmal",
         35000,
         "Nasik",
         2011,
         8,
         "Azure",
         2.5
        ],
        [
         6,
         "Naresh",
         65000,
         "Hyderabad",
         2012,
         7,
         "ADF",
         6.5
        ],
        [
         7,
         "Kamal",
         85000,
         "Chennai",
         2011,
         7,
         "ADB",
         3.8
        ],
        [
         8,
         "Kiran",
         95000,
         "Nasik",
         2011,
         8,
         "Azure",
         4.5
        ]
       ],
       "datasetInfos": [],
       "dbfsResultPath": null,
       "isJsonSchema": true,
       "metadata": {},
       "overflow": false,
       "plotOptions": {
        "customPlotOptions": {},
        "displayType": "table",
        "pivotAggregation": null,
        "pivotColumns": null,
        "xColumns": null,
        "yColumns": null
       },
       "removedWidgets": [],
       "schema": [
        {
         "metadata": "{}",
         "name": "id",
         "type": "\"long\""
        },
        {
         "metadata": "{}",
         "name": "name",
         "type": "\"string\""
        },
        {
         "metadata": "{}",
         "name": "salary",
         "type": "\"long\""
        },
        {
         "metadata": "{}",
         "name": "city",
         "type": "\"string\""
        },
        {
         "metadata": "{}",
         "name": "year",
         "type": "\"long\""
        },
        {
         "metadata": "{}",
         "name": "month",
         "type": "\"long\""
        },
        {
         "metadata": "{}",
         "name": "title",
         "type": "\"string\""
        },
        {
         "metadata": "{}",
         "name": "rating",
         "type": "\"double\""
        }
       ],
       "type": "table"
      }
     },
     "output_type": "display_data"
    }
   ],
   "source": [
    "# Sample DataFrame\n",
    "data = [(1, \"kiran\", 50000, \"Chennai\", 2012, 8, \"Batman\", 9.8),\n",
    "        (2, \"Jayesh\", 60000, \"Bangalore\", 2012, 8, \"Hero\", 8.7),\n",
    "        (3, \"Mithun\", 55000, \"Hyderabad\", 2012, 7, \"Robot\", 5.5),\n",
    "        (4, \"Muthu\", 25000, \"Chennai\", 2011, 7, \"Git\", 2.0),\n",
    "        (5, \"Nirmal\", 35000, \"Nasik\", 2011, 8, \"Azure\", 2.5),\n",
    "        (6, \"Naresh\", 65000, \"Hyderabad\", 2012, 7, \"ADF\", 6.5),\n",
    "        (7, \"Kamal\", 85000, \"Chennai\", 2011, 7, \"ADB\", 3.8),\n",
    "        (8, \"Kiran\", 95000, \"Nasik\", 2011, 8, \"Azure\", 4.5)]\n",
    "        \n",
    "columns = [\"id\", \"name\", \"salary\", \"city\", \"year\", \"month\", \"title\", \"rating\"]\n",
    "\n",
    "df = spark.createDataFrame(data, columns)\n",
    "display(df)"
   ]
  },
  {
   "cell_type": "code",
   "execution_count": 0,
   "metadata": {
    "application/vnd.databricks.v1+cell": {
     "cellMetadata": {
      "byteLimit": 2048000,
      "rowLimit": 10000
     },
     "inputWidgets": {},
     "nuid": "493c278d-2ee5-4c84-b9af-8a99f6bda0a3",
     "showTitle": true,
     "tableResultSettingsMap": {},
     "title": "save as avro with partition by"
    }
   },
   "outputs": [],
   "source": [
    "# Write DataFrame to Avro\n",
    "df.write.format(\"avro\").mode(\"overwrite\").save(\"/FileStore/tables/avro/Employee_data\")\n",
    "\n",
    "# Write DataFrame to Avro with partition by \"city\"\n",
    "df.write.format(\"avro\").mode(\"overwrite\").partitionBy(\"city\").save(\"/FileStore/tables/avro/city_partitioned\")\n",
    "\n",
    "# Write DataFrame to Avro with partition by \"year\", \"month\"\n",
    "df.write.format(\"avro\").mode(\"overwrite\").partitionBy(\"year\", \"month\").save(\"/FileStore/tables/avro/year_month_partitioned\")"
   ]
  },
  {
   "cell_type": "markdown",
   "metadata": {
    "application/vnd.databricks.v1+cell": {
     "cellMetadata": {},
     "inputWidgets": {},
     "nuid": "5c9a7843-4037-424b-8f20-bb39212f1714",
     "showTitle": false,
     "tableResultSettingsMap": {},
     "title": ""
    }
   },
   "source": [
    "**Supported Avro Compression Codecs in PySpark**\n",
    "- \"uncompressed\" (for no compression)\n",
    "- \"snappy\" (default and recommended)\n",
    "- \"deflate\"\n",
    "- \"bzip2\"\n",
    "- \"xz\"\n",
    "- **\"lz4\" and \"gzip\"** are **NOT supported** for Avro in PySpark."
   ]
  },
  {
   "cell_type": "code",
   "execution_count": 0,
   "metadata": {
    "application/vnd.databricks.v1+cell": {
     "cellMetadata": {
      "byteLimit": 2048000,
      "rowLimit": 10000
     },
     "inputWidgets": {},
     "nuid": "32490b4d-d645-47ed-b574-75e1b8ed0222",
     "showTitle": true,
     "tableResultSettingsMap": {},
     "title": "save as avro with different compression"
    }
   },
   "outputs": [],
   "source": [
    "# Write DataFrame to Avro with compression \"snappy\"\n",
    "df.write.format(\"avro\").mode(\"overwrite\")\\\n",
    "    .option(\"compression\", \"snappy\").save(\"/FileStore/tables/avro/Employee_data_snappy\")\n",
    "\n",
    "# Write DataFrame to Avro with compression \"uncompressed\"\n",
    "df.write.format(\"avro\").mode(\"overwrite\")\\\n",
    "    .option(\"compression\", \"uncompressed\").save(\"/FileStore/tables/avro/Employee_data_uncompressed\")\n",
    "\n",
    "# Write DataFrame to Avro with compression \"deflate\"\n",
    "df.write.format(\"avro\").mode(\"overwrite\")\\\n",
    "    .option(\"compression\", \"deflate\").save(\"/FileStore/tables/avro/Employee_data_deflate\")\n",
    "\n",
    "# Write DataFrame to Avro with compression \"bzip2\"\n",
    "df.write.format(\"avro\").mode(\"overwrite\")\\\n",
    "    .option(\"compression\", \"bzip2\").save(\"/FileStore/tables/avro/Employee_data_bzip2\")\n",
    "\n",
    "# Write DataFrame to Avro with compression \"xz\"\n",
    "df.write.format(\"avro\").mode(\"overwrite\")\\\n",
    "    .option(\"compression\", \"xz\").save(\"/FileStore/tables/avro/Employee_data_xz\")"
   ]
  },
  {
   "cell_type": "markdown",
   "metadata": {
    "application/vnd.databricks.v1+cell": {
     "cellMetadata": {},
     "inputWidgets": {},
     "nuid": "64419990-62a5-435a-b1a7-a8834f1db069",
     "showTitle": false,
     "tableResultSettingsMap": {},
     "title": ""
    }
   },
   "source": [
    "     %fs ls dbfs:/FileStore/tables/avro/\n",
    "                      (or)\n",
    "     display(dbutils.fs.ls(\"/FileStore/tables/avro/\"))"
   ]
  },
  {
   "cell_type": "code",
   "execution_count": 0,
   "metadata": {
    "application/vnd.databricks.v1+cell": {
     "cellMetadata": {
      "byteLimit": 2048000,
      "rowLimit": 10000
     },
     "inputWidgets": {},
     "nuid": "0413e408-2d05-494a-ae11-cd75521623c4",
     "showTitle": false,
     "tableResultSettingsMap": {},
     "title": ""
    }
   },
   "outputs": [
    {
     "output_type": "display_data",
     "data": {
      "text/html": [
       "<style scoped>\n",
       "  .table-result-container {\n",
       "    max-height: 300px;\n",
       "    overflow: auto;\n",
       "  }\n",
       "  table, th, td {\n",
       "    border: 1px solid black;\n",
       "    border-collapse: collapse;\n",
       "  }\n",
       "  th, td {\n",
       "    padding: 5px;\n",
       "  }\n",
       "  th {\n",
       "    text-align: left;\n",
       "  }\n",
       "</style><div class='table-result-container'><table class='table-result'><thead style='background-color: white'><tr><th>path</th><th>name</th><th>size</th><th>modificationTime</th></tr></thead><tbody><tr><td>dbfs:/FileStore/tables/avro/Employee_data/</td><td>Employee_data/</td><td>0</td><td>0</td></tr><tr><td>dbfs:/FileStore/tables/avro/Employee_data_bzip2/</td><td>Employee_data_bzip2/</td><td>0</td><td>0</td></tr><tr><td>dbfs:/FileStore/tables/avro/Employee_data_deflate/</td><td>Employee_data_deflate/</td><td>0</td><td>0</td></tr><tr><td>dbfs:/FileStore/tables/avro/Employee_data_snappy/</td><td>Employee_data_snappy/</td><td>0</td><td>0</td></tr><tr><td>dbfs:/FileStore/tables/avro/Employee_data_uncompressed/</td><td>Employee_data_uncompressed/</td><td>0</td><td>0</td></tr><tr><td>dbfs:/FileStore/tables/avro/Employee_data_xz/</td><td>Employee_data_xz/</td><td>0</td><td>0</td></tr><tr><td>dbfs:/FileStore/tables/avro/city_partitioned/</td><td>city_partitioned/</td><td>0</td><td>0</td></tr><tr><td>dbfs:/FileStore/tables/avro/year_month_partitioned/</td><td>year_month_partitioned/</td><td>0</td><td>0</td></tr></tbody></table></div>"
      ]
     },
     "metadata": {
      "application/vnd.databricks.v1+output": {
       "addedWidgets": {},
       "aggData": [],
       "aggError": "",
       "aggOverflow": false,
       "aggSchema": [],
       "aggSeriesLimitReached": false,
       "aggType": "",
       "arguments": {},
       "columnCustomDisplayInfos": {},
       "data": [
        [
         "dbfs:/FileStore/tables/avro/Employee_data/",
         "Employee_data/",
         0,
         0
        ],
        [
         "dbfs:/FileStore/tables/avro/Employee_data_bzip2/",
         "Employee_data_bzip2/",
         0,
         0
        ],
        [
         "dbfs:/FileStore/tables/avro/Employee_data_deflate/",
         "Employee_data_deflate/",
         0,
         0
        ],
        [
         "dbfs:/FileStore/tables/avro/Employee_data_snappy/",
         "Employee_data_snappy/",
         0,
         0
        ],
        [
         "dbfs:/FileStore/tables/avro/Employee_data_uncompressed/",
         "Employee_data_uncompressed/",
         0,
         0
        ],
        [
         "dbfs:/FileStore/tables/avro/Employee_data_xz/",
         "Employee_data_xz/",
         0,
         0
        ],
        [
         "dbfs:/FileStore/tables/avro/city_partitioned/",
         "city_partitioned/",
         0,
         0
        ],
        [
         "dbfs:/FileStore/tables/avro/year_month_partitioned/",
         "year_month_partitioned/",
         0,
         0
        ]
       ],
       "datasetInfos": [],
       "dbfsResultPath": null,
       "isJsonSchema": true,
       "metadata": {
        "isDbfsCommandResult": false
       },
       "overflow": false,
       "plotOptions": {
        "customPlotOptions": {},
        "displayType": "table",
        "pivotAggregation": null,
        "pivotColumns": null,
        "xColumns": null,
        "yColumns": null
       },
       "removedWidgets": [],
       "schema": [
        {
         "metadata": "{}",
         "name": "path",
         "type": "\"string\""
        },
        {
         "metadata": "{}",
         "name": "name",
         "type": "\"string\""
        },
        {
         "metadata": "{}",
         "name": "size",
         "type": "\"long\""
        },
        {
         "metadata": "{}",
         "name": "modificationTime",
         "type": "\"long\""
        }
       ],
       "type": "table"
      }
     },
     "output_type": "display_data"
    }
   ],
   "source": [
    "%fs ls dbfs:/FileStore/tables/avro/"
   ]
  },
  {
   "cell_type": "code",
   "execution_count": 0,
   "metadata": {
    "application/vnd.databricks.v1+cell": {
     "cellMetadata": {
      "byteLimit": 2048000,
      "rowLimit": 10000
     },
     "inputWidgets": {},
     "nuid": "7ba7eef6-86dc-40e2-9301-af18bedd232f",
     "showTitle": false,
     "tableResultSettingsMap": {},
     "title": ""
    }
   },
   "outputs": [
    {
     "output_type": "display_data",
     "data": {
      "text/html": [
       "<style scoped>\n",
       "  .table-result-container {\n",
       "    max-height: 300px;\n",
       "    overflow: auto;\n",
       "  }\n",
       "  table, th, td {\n",
       "    border: 1px solid black;\n",
       "    border-collapse: collapse;\n",
       "  }\n",
       "  th, td {\n",
       "    padding: 5px;\n",
       "  }\n",
       "  th {\n",
       "    text-align: left;\n",
       "  }\n",
       "</style><div class='table-result-container'><table class='table-result'><thead style='background-color: white'><tr><th>path</th><th>name</th><th>size</th><th>modificationTime</th></tr></thead><tbody><tr><td>dbfs:/FileStore/tables/avro/Employee_data/_SUCCESS</td><td>_SUCCESS</td><td>0</td><td>1739933099000</td></tr><tr><td>dbfs:/FileStore/tables/avro/Employee_data/_committed_3582650581164422351</td><td>_committed_3582650581164422351</td><td>792</td><td>1739933099000</td></tr><tr><td>dbfs:/FileStore/tables/avro/Employee_data/_started_3582650581164422351</td><td>_started_3582650581164422351</td><td>0</td><td>1739933098000</td></tr><tr><td>dbfs:/FileStore/tables/avro/Employee_data/part-00000-tid-3582650581164422351-7fbbe85c-9c76-46a7-b7c9-947e04b72b1c-56-1-c000.snappy.avro</td><td>part-00000-tid-3582650581164422351-7fbbe85c-9c76-46a7-b7c9-947e04b72b1c-56-1-c000.snappy.avro</td><td>529</td><td>1739933099000</td></tr><tr><td>dbfs:/FileStore/tables/avro/Employee_data/part-00001-tid-3582650581164422351-7fbbe85c-9c76-46a7-b7c9-947e04b72b1c-57-1-c000.snappy.avro</td><td>part-00001-tid-3582650581164422351-7fbbe85c-9c76-46a7-b7c9-947e04b72b1c-57-1-c000.snappy.avro</td><td>530</td><td>1739933099000</td></tr><tr><td>dbfs:/FileStore/tables/avro/Employee_data/part-00002-tid-3582650581164422351-7fbbe85c-9c76-46a7-b7c9-947e04b72b1c-58-1-c000.snappy.avro</td><td>part-00002-tid-3582650581164422351-7fbbe85c-9c76-46a7-b7c9-947e04b72b1c-58-1-c000.snappy.avro</td><td>531</td><td>1739933099000</td></tr><tr><td>dbfs:/FileStore/tables/avro/Employee_data/part-00003-tid-3582650581164422351-7fbbe85c-9c76-46a7-b7c9-947e04b72b1c-59-1-c000.snappy.avro</td><td>part-00003-tid-3582650581164422351-7fbbe85c-9c76-46a7-b7c9-947e04b72b1c-59-1-c000.snappy.avro</td><td>526</td><td>1739933099000</td></tr><tr><td>dbfs:/FileStore/tables/avro/Employee_data/part-00004-tid-3582650581164422351-7fbbe85c-9c76-46a7-b7c9-947e04b72b1c-60-1-c000.snappy.avro</td><td>part-00004-tid-3582650581164422351-7fbbe85c-9c76-46a7-b7c9-947e04b72b1c-60-1-c000.snappy.avro</td><td>527</td><td>1739933099000</td></tr><tr><td>dbfs:/FileStore/tables/avro/Employee_data/part-00005-tid-3582650581164422351-7fbbe85c-9c76-46a7-b7c9-947e04b72b1c-61-1-c000.snappy.avro</td><td>part-00005-tid-3582650581164422351-7fbbe85c-9c76-46a7-b7c9-947e04b72b1c-61-1-c000.snappy.avro</td><td>529</td><td>1739933099000</td></tr><tr><td>dbfs:/FileStore/tables/avro/Employee_data/part-00006-tid-3582650581164422351-7fbbe85c-9c76-46a7-b7c9-947e04b72b1c-62-1-c000.snappy.avro</td><td>part-00006-tid-3582650581164422351-7fbbe85c-9c76-46a7-b7c9-947e04b72b1c-62-1-c000.snappy.avro</td><td>526</td><td>1739933099000</td></tr><tr><td>dbfs:/FileStore/tables/avro/Employee_data/part-00007-tid-3582650581164422351-7fbbe85c-9c76-46a7-b7c9-947e04b72b1c-63-1-c000.snappy.avro</td><td>part-00007-tid-3582650581164422351-7fbbe85c-9c76-46a7-b7c9-947e04b72b1c-63-1-c000.snappy.avro</td><td>525</td><td>1739933099000</td></tr></tbody></table></div>"
      ]
     },
     "metadata": {
      "application/vnd.databricks.v1+output": {
       "addedWidgets": {},
       "aggData": [],
       "aggError": "",
       "aggOverflow": false,
       "aggSchema": [],
       "aggSeriesLimitReached": false,
       "aggType": "",
       "arguments": {},
       "columnCustomDisplayInfos": {},
       "data": [
        [
         "dbfs:/FileStore/tables/avro/Employee_data/_SUCCESS",
         "_SUCCESS",
         0,
         1739933099000
        ],
        [
         "dbfs:/FileStore/tables/avro/Employee_data/_committed_3582650581164422351",
         "_committed_3582650581164422351",
         792,
         1739933099000
        ],
        [
         "dbfs:/FileStore/tables/avro/Employee_data/_started_3582650581164422351",
         "_started_3582650581164422351",
         0,
         1739933098000
        ],
        [
         "dbfs:/FileStore/tables/avro/Employee_data/part-00000-tid-3582650581164422351-7fbbe85c-9c76-46a7-b7c9-947e04b72b1c-56-1-c000.snappy.avro",
         "part-00000-tid-3582650581164422351-7fbbe85c-9c76-46a7-b7c9-947e04b72b1c-56-1-c000.snappy.avro",
         529,
         1739933099000
        ],
        [
         "dbfs:/FileStore/tables/avro/Employee_data/part-00001-tid-3582650581164422351-7fbbe85c-9c76-46a7-b7c9-947e04b72b1c-57-1-c000.snappy.avro",
         "part-00001-tid-3582650581164422351-7fbbe85c-9c76-46a7-b7c9-947e04b72b1c-57-1-c000.snappy.avro",
         530,
         1739933099000
        ],
        [
         "dbfs:/FileStore/tables/avro/Employee_data/part-00002-tid-3582650581164422351-7fbbe85c-9c76-46a7-b7c9-947e04b72b1c-58-1-c000.snappy.avro",
         "part-00002-tid-3582650581164422351-7fbbe85c-9c76-46a7-b7c9-947e04b72b1c-58-1-c000.snappy.avro",
         531,
         1739933099000
        ],
        [
         "dbfs:/FileStore/tables/avro/Employee_data/part-00003-tid-3582650581164422351-7fbbe85c-9c76-46a7-b7c9-947e04b72b1c-59-1-c000.snappy.avro",
         "part-00003-tid-3582650581164422351-7fbbe85c-9c76-46a7-b7c9-947e04b72b1c-59-1-c000.snappy.avro",
         526,
         1739933099000
        ],
        [
         "dbfs:/FileStore/tables/avro/Employee_data/part-00004-tid-3582650581164422351-7fbbe85c-9c76-46a7-b7c9-947e04b72b1c-60-1-c000.snappy.avro",
         "part-00004-tid-3582650581164422351-7fbbe85c-9c76-46a7-b7c9-947e04b72b1c-60-1-c000.snappy.avro",
         527,
         1739933099000
        ],
        [
         "dbfs:/FileStore/tables/avro/Employee_data/part-00005-tid-3582650581164422351-7fbbe85c-9c76-46a7-b7c9-947e04b72b1c-61-1-c000.snappy.avro",
         "part-00005-tid-3582650581164422351-7fbbe85c-9c76-46a7-b7c9-947e04b72b1c-61-1-c000.snappy.avro",
         529,
         1739933099000
        ],
        [
         "dbfs:/FileStore/tables/avro/Employee_data/part-00006-tid-3582650581164422351-7fbbe85c-9c76-46a7-b7c9-947e04b72b1c-62-1-c000.snappy.avro",
         "part-00006-tid-3582650581164422351-7fbbe85c-9c76-46a7-b7c9-947e04b72b1c-62-1-c000.snappy.avro",
         526,
         1739933099000
        ],
        [
         "dbfs:/FileStore/tables/avro/Employee_data/part-00007-tid-3582650581164422351-7fbbe85c-9c76-46a7-b7c9-947e04b72b1c-63-1-c000.snappy.avro",
         "part-00007-tid-3582650581164422351-7fbbe85c-9c76-46a7-b7c9-947e04b72b1c-63-1-c000.snappy.avro",
         525,
         1739933099000
        ]
       ],
       "datasetInfos": [],
       "dbfsResultPath": null,
       "isJsonSchema": true,
       "metadata": {
        "isDbfsCommandResult": false
       },
       "overflow": false,
       "plotOptions": {
        "customPlotOptions": {},
        "displayType": "table",
        "pivotAggregation": null,
        "pivotColumns": null,
        "xColumns": null,
        "yColumns": null
       },
       "removedWidgets": [],
       "schema": [
        {
         "metadata": "{}",
         "name": "path",
         "type": "\"string\""
        },
        {
         "metadata": "{}",
         "name": "name",
         "type": "\"string\""
        },
        {
         "metadata": "{}",
         "name": "size",
         "type": "\"long\""
        },
        {
         "metadata": "{}",
         "name": "modificationTime",
         "type": "\"long\""
        }
       ],
       "type": "table"
      }
     },
     "output_type": "display_data"
    }
   ],
   "source": [
    "%fs ls dbfs:/FileStore/tables/avro/Employee_data/"
   ]
  },
  {
   "cell_type": "code",
   "execution_count": 0,
   "metadata": {
    "application/vnd.databricks.v1+cell": {
     "cellMetadata": {
      "byteLimit": 2048000,
      "rowLimit": 10000
     },
     "inputWidgets": {},
     "nuid": "fac1fe44-e1b7-4457-b71f-2ccc28a1abac",
     "showTitle": false,
     "tableResultSettingsMap": {},
     "title": ""
    }
   },
   "outputs": [
    {
     "output_type": "display_data",
     "data": {
      "text/html": [
       "<style scoped>\n",
       "  .table-result-container {\n",
       "    max-height: 300px;\n",
       "    overflow: auto;\n",
       "  }\n",
       "  table, th, td {\n",
       "    border: 1px solid black;\n",
       "    border-collapse: collapse;\n",
       "  }\n",
       "  th, td {\n",
       "    padding: 5px;\n",
       "  }\n",
       "  th {\n",
       "    text-align: left;\n",
       "  }\n",
       "</style><div class='table-result-container'><table class='table-result'><thead style='background-color: white'><tr><th>id</th><th>name</th><th>salary</th><th>city</th><th>year</th><th>month</th><th>title</th><th>rating</th></tr></thead><tbody><tr><td>1</td><td>kiran</td><td>50000</td><td>Chennai</td><td>2012</td><td>8</td><td>Batman</td><td>9.8</td></tr></tbody></table></div>"
      ]
     },
     "metadata": {
      "application/vnd.databricks.v1+output": {
       "addedWidgets": {},
       "aggData": [],
       "aggError": "",
       "aggOverflow": false,
       "aggSchema": [],
       "aggSeriesLimitReached": false,
       "aggType": "",
       "arguments": {},
       "columnCustomDisplayInfos": {},
       "data": [
        [
         1,
         "kiran",
         50000,
         "Chennai",
         2012,
         8,
         "Batman",
         9.8
        ]
       ],
       "datasetInfos": [],
       "dbfsResultPath": null,
       "isJsonSchema": true,
       "metadata": {},
       "overflow": false,
       "plotOptions": {
        "customPlotOptions": {},
        "displayType": "table",
        "pivotAggregation": null,
        "pivotColumns": null,
        "xColumns": null,
        "yColumns": null
       },
       "removedWidgets": [],
       "schema": [
        {
         "metadata": "{}",
         "name": "id",
         "type": "\"long\""
        },
        {
         "metadata": "{}",
         "name": "name",
         "type": "\"string\""
        },
        {
         "metadata": "{}",
         "name": "salary",
         "type": "\"long\""
        },
        {
         "metadata": "{}",
         "name": "city",
         "type": "\"string\""
        },
        {
         "metadata": "{}",
         "name": "year",
         "type": "\"long\""
        },
        {
         "metadata": "{}",
         "name": "month",
         "type": "\"long\""
        },
        {
         "metadata": "{}",
         "name": "title",
         "type": "\"string\""
        },
        {
         "metadata": "{}",
         "name": "rating",
         "type": "\"double\""
        }
       ],
       "type": "table"
      }
     },
     "output_type": "display_data"
    }
   ],
   "source": [
    "# Read Avro file with schema\n",
    "df123 = spark.read.format(\"avro\").load(\"dbfs:/FileStore/tables/avro/Employee_data/part-00000-tid-3582650581164422351-7fbbe85c-9c76-46a7-b7c9-947e04b72b1c-56-1-c000.snappy.avro\")\n",
    "\n",
    "# Show DataFrame\n",
    "display(df123)"
   ]
  },
  {
   "cell_type": "code",
   "execution_count": 0,
   "metadata": {
    "application/vnd.databricks.v1+cell": {
     "cellMetadata": {
      "byteLimit": 2048000,
      "rowLimit": 10000
     },
     "inputWidgets": {},
     "nuid": "45fd324b-ac68-4f6f-b78f-29440efe8aef",
     "showTitle": true,
     "tableResultSettingsMap": {},
     "title": "read avro file"
    }
   },
   "outputs": [
    {
     "output_type": "display_data",
     "data": {
      "text/html": [
       "<style scoped>\n",
       "  .table-result-container {\n",
       "    max-height: 300px;\n",
       "    overflow: auto;\n",
       "  }\n",
       "  table, th, td {\n",
       "    border: 1px solid black;\n",
       "    border-collapse: collapse;\n",
       "  }\n",
       "  th, td {\n",
       "    padding: 5px;\n",
       "  }\n",
       "  th {\n",
       "    text-align: left;\n",
       "  }\n",
       "</style><div class='table-result-container'><table class='table-result'><thead style='background-color: white'><tr><th>id</th><th>name</th><th>salary</th><th>city</th><th>year</th><th>month</th><th>title</th><th>rating</th></tr></thead><tbody><tr><td>3</td><td>Mithun</td><td>55000</td><td>Hyderabad</td><td>2012</td><td>7</td><td>Robot</td><td>5.5</td></tr><tr><td>2</td><td>Jayesh</td><td>60000</td><td>Bangalore</td><td>2012</td><td>8</td><td>Hero</td><td>8.7</td></tr><tr><td>1</td><td>kiran</td><td>50000</td><td>Chennai</td><td>2012</td><td>8</td><td>Batman</td><td>9.8</td></tr><tr><td>6</td><td>Naresh</td><td>65000</td><td>Hyderabad</td><td>2012</td><td>7</td><td>ADF</td><td>6.5</td></tr><tr><td>5</td><td>Nirmal</td><td>35000</td><td>Nasik</td><td>2011</td><td>8</td><td>Azure</td><td>2.5</td></tr><tr><td>4</td><td>Muthu</td><td>25000</td><td>Chennai</td><td>2011</td><td>7</td><td>Git</td><td>2.0</td></tr><tr><td>7</td><td>Kamal</td><td>85000</td><td>Chennai</td><td>2011</td><td>7</td><td>ADB</td><td>3.8</td></tr><tr><td>8</td><td>Kiran</td><td>95000</td><td>Nasik</td><td>2011</td><td>8</td><td>Azure</td><td>4.5</td></tr></tbody></table></div>"
      ]
     },
     "metadata": {
      "application/vnd.databricks.v1+output": {
       "addedWidgets": {},
       "aggData": [],
       "aggError": "",
       "aggOverflow": false,
       "aggSchema": [],
       "aggSeriesLimitReached": false,
       "aggType": "",
       "arguments": {},
       "columnCustomDisplayInfos": {},
       "data": [
        [
         3,
         "Mithun",
         55000,
         "Hyderabad",
         2012,
         7,
         "Robot",
         5.5
        ],
        [
         2,
         "Jayesh",
         60000,
         "Bangalore",
         2012,
         8,
         "Hero",
         8.7
        ],
        [
         1,
         "kiran",
         50000,
         "Chennai",
         2012,
         8,
         "Batman",
         9.8
        ],
        [
         6,
         "Naresh",
         65000,
         "Hyderabad",
         2012,
         7,
         "ADF",
         6.5
        ],
        [
         5,
         "Nirmal",
         35000,
         "Nasik",
         2011,
         8,
         "Azure",
         2.5
        ],
        [
         4,
         "Muthu",
         25000,
         "Chennai",
         2011,
         7,
         "Git",
         2.0
        ],
        [
         7,
         "Kamal",
         85000,
         "Chennai",
         2011,
         7,
         "ADB",
         3.8
        ],
        [
         8,
         "Kiran",
         95000,
         "Nasik",
         2011,
         8,
         "Azure",
         4.5
        ]
       ],
       "datasetInfos": [],
       "dbfsResultPath": null,
       "isJsonSchema": true,
       "metadata": {},
       "overflow": false,
       "plotOptions": {
        "customPlotOptions": {},
        "displayType": "table",
        "pivotAggregation": null,
        "pivotColumns": null,
        "xColumns": null,
        "yColumns": null
       },
       "removedWidgets": [],
       "schema": [
        {
         "metadata": "{}",
         "name": "id",
         "type": "\"long\""
        },
        {
         "metadata": "{}",
         "name": "name",
         "type": "\"string\""
        },
        {
         "metadata": "{}",
         "name": "salary",
         "type": "\"long\""
        },
        {
         "metadata": "{}",
         "name": "city",
         "type": "\"string\""
        },
        {
         "metadata": "{}",
         "name": "year",
         "type": "\"long\""
        },
        {
         "metadata": "{}",
         "name": "month",
         "type": "\"long\""
        },
        {
         "metadata": "{}",
         "name": "title",
         "type": "\"string\""
        },
        {
         "metadata": "{}",
         "name": "rating",
         "type": "\"double\""
        }
       ],
       "type": "table"
      }
     },
     "output_type": "display_data"
    }
   ],
   "source": [
    "# Read Avro file with schema\n",
    "df1 = spark.read.format(\"avro\").load(\"dbfs:/FileStore/tables/avro/Employee_data/\")\n",
    "\n",
    "# Show DataFrame\n",
    "display(df1)"
   ]
  },
  {
   "cell_type": "code",
   "execution_count": 0,
   "metadata": {
    "application/vnd.databricks.v1+cell": {
     "cellMetadata": {
      "byteLimit": 2048000,
      "rowLimit": 10000
     },
     "inputWidgets": {},
     "nuid": "91a703d6-37af-44e1-b453-671553402605",
     "showTitle": true,
     "tableResultSettingsMap": {},
     "title": "read avro file with schema"
    }
   },
   "outputs": [
    {
     "output_type": "display_data",
     "data": {
      "text/html": [
       "<style scoped>\n",
       "  .table-result-container {\n",
       "    max-height: 300px;\n",
       "    overflow: auto;\n",
       "  }\n",
       "  table, th, td {\n",
       "    border: 1px solid black;\n",
       "    border-collapse: collapse;\n",
       "  }\n",
       "  th, td {\n",
       "    padding: 5px;\n",
       "  }\n",
       "  th {\n",
       "    text-align: left;\n",
       "  }\n",
       "</style><div class='table-result-container'><table class='table-result'><thead style='background-color: white'><tr><th>id</th><th>name</th><th>salary</th><th>city</th><th>year</th><th>month</th><th>title</th><th>rating</th></tr></thead><tbody><tr><td>3</td><td>Mithun</td><td>55000</td><td>Hyderabad</td><td>2012</td><td>7</td><td>Robot</td><td>5.5</td></tr><tr><td>2</td><td>Jayesh</td><td>60000</td><td>Bangalore</td><td>2012</td><td>8</td><td>Hero</td><td>8.7</td></tr><tr><td>1</td><td>kiran</td><td>50000</td><td>Chennai</td><td>2012</td><td>8</td><td>Batman</td><td>9.8</td></tr><tr><td>6</td><td>Naresh</td><td>65000</td><td>Hyderabad</td><td>2012</td><td>7</td><td>ADF</td><td>6.5</td></tr><tr><td>5</td><td>Nirmal</td><td>35000</td><td>Nasik</td><td>2011</td><td>8</td><td>Azure</td><td>2.5</td></tr><tr><td>4</td><td>Muthu</td><td>25000</td><td>Chennai</td><td>2011</td><td>7</td><td>Git</td><td>2.0</td></tr><tr><td>7</td><td>Kamal</td><td>85000</td><td>Chennai</td><td>2011</td><td>7</td><td>ADB</td><td>3.8</td></tr><tr><td>8</td><td>Kiran</td><td>95000</td><td>Nasik</td><td>2011</td><td>8</td><td>Azure</td><td>4.5</td></tr></tbody></table></div>"
      ]
     },
     "metadata": {
      "application/vnd.databricks.v1+output": {
       "addedWidgets": {},
       "aggData": [],
       "aggError": "",
       "aggOverflow": false,
       "aggSchema": [],
       "aggSeriesLimitReached": false,
       "aggType": "",
       "arguments": {},
       "columnCustomDisplayInfos": {},
       "data": [
        [
         3,
         "Mithun",
         55000,
         "Hyderabad",
         2012,
         7,
         "Robot",
         5.5
        ],
        [
         2,
         "Jayesh",
         60000,
         "Bangalore",
         2012,
         8,
         "Hero",
         8.7
        ],
        [
         1,
         "kiran",
         50000,
         "Chennai",
         2012,
         8,
         "Batman",
         9.8
        ],
        [
         6,
         "Naresh",
         65000,
         "Hyderabad",
         2012,
         7,
         "ADF",
         6.5
        ],
        [
         5,
         "Nirmal",
         35000,
         "Nasik",
         2011,
         8,
         "Azure",
         2.5
        ],
        [
         4,
         "Muthu",
         25000,
         "Chennai",
         2011,
         7,
         "Git",
         2.0
        ],
        [
         7,
         "Kamal",
         85000,
         "Chennai",
         2011,
         7,
         "ADB",
         3.8
        ],
        [
         8,
         "Kiran",
         95000,
         "Nasik",
         2011,
         8,
         "Azure",
         4.5
        ]
       ],
       "datasetInfos": [],
       "dbfsResultPath": null,
       "isJsonSchema": true,
       "metadata": {},
       "overflow": false,
       "plotOptions": {
        "customPlotOptions": {},
        "displayType": "table",
        "pivotAggregation": null,
        "pivotColumns": null,
        "xColumns": null,
        "yColumns": null
       },
       "removedWidgets": [],
       "schema": [
        {
         "metadata": "{}",
         "name": "id",
         "type": "\"long\""
        },
        {
         "metadata": "{}",
         "name": "name",
         "type": "\"string\""
        },
        {
         "metadata": "{}",
         "name": "salary",
         "type": "\"long\""
        },
        {
         "metadata": "{}",
         "name": "city",
         "type": "\"string\""
        },
        {
         "metadata": "{}",
         "name": "year",
         "type": "\"long\""
        },
        {
         "metadata": "{}",
         "name": "month",
         "type": "\"long\""
        },
        {
         "metadata": "{}",
         "name": "title",
         "type": "\"string\""
        },
        {
         "metadata": "{}",
         "name": "rating",
         "type": "\"double\""
        }
       ],
       "type": "table"
      }
     },
     "output_type": "display_data"
    }
   ],
   "source": [
    "from pyspark.sql.types import StructType, StructField, IntegerType, StringType, LongType, DoubleType\n",
    "\n",
    "# Define schema\n",
    "schema = StructType([StructField(\"id\", LongType(), True),\n",
    "                     StructField(\"name\", StringType(), True),\n",
    "                     StructField(\"salary\", LongType(), True),\n",
    "                     StructField(\"city\", StringType(), True),\n",
    "                     StructField(\"year\", LongType(), True),\n",
    "                     StructField(\"month\", LongType(), True),\n",
    "                     StructField(\"title\", StringType(), True),\n",
    "                     StructField(\"rating\", DoubleType(), True)\n",
    "                    ])\n",
    "\n",
    "# Read Avro file with schema\n",
    "df1 = spark.read.format(\"avro\").schema(schema).load(\"dbfs:/FileStore/tables/avro/Employee_data/\")\n",
    "\n",
    "# Show DataFrame\n",
    "display(df1)"
   ]
  },
  {
   "cell_type": "code",
   "execution_count": 0,
   "metadata": {
    "application/vnd.databricks.v1+cell": {
     "cellMetadata": {
      "byteLimit": 2048000,
      "rowLimit": 10000
     },
     "inputWidgets": {},
     "nuid": "ba1c442f-b8e2-402d-b69a-693742194c4c",
     "showTitle": true,
     "tableResultSettingsMap": {},
     "title": "read avro file (Compression)"
    }
   },
   "outputs": [
    {
     "output_type": "display_data",
     "data": {
      "text/html": [
       "<style scoped>\n",
       "  .table-result-container {\n",
       "    max-height: 300px;\n",
       "    overflow: auto;\n",
       "  }\n",
       "  table, th, td {\n",
       "    border: 1px solid black;\n",
       "    border-collapse: collapse;\n",
       "  }\n",
       "  th, td {\n",
       "    padding: 5px;\n",
       "  }\n",
       "  th {\n",
       "    text-align: left;\n",
       "  }\n",
       "</style><div class='table-result-container'><table class='table-result'><thead style='background-color: white'><tr><th>id</th><th>name</th><th>salary</th><th>city</th><th>year</th><th>month</th><th>title</th><th>rating</th></tr></thead><tbody><tr><td>3</td><td>Mithun</td><td>55000</td><td>Hyderabad</td><td>2012</td><td>7</td><td>Robot</td><td>5.5</td></tr><tr><td>2</td><td>Jayesh</td><td>60000</td><td>Bangalore</td><td>2012</td><td>8</td><td>Hero</td><td>8.7</td></tr><tr><td>1</td><td>kiran</td><td>50000</td><td>Chennai</td><td>2012</td><td>8</td><td>Batman</td><td>9.8</td></tr><tr><td>6</td><td>Naresh</td><td>65000</td><td>Hyderabad</td><td>2012</td><td>7</td><td>ADF</td><td>6.5</td></tr><tr><td>5</td><td>Nirmal</td><td>35000</td><td>Nasik</td><td>2011</td><td>8</td><td>Azure</td><td>2.5</td></tr><tr><td>4</td><td>Muthu</td><td>25000</td><td>Chennai</td><td>2011</td><td>7</td><td>Git</td><td>2.0</td></tr><tr><td>7</td><td>Kamal</td><td>85000</td><td>Chennai</td><td>2011</td><td>7</td><td>ADB</td><td>3.8</td></tr><tr><td>8</td><td>Kiran</td><td>95000</td><td>Nasik</td><td>2011</td><td>8</td><td>Azure</td><td>4.5</td></tr></tbody></table></div>"
      ]
     },
     "metadata": {
      "application/vnd.databricks.v1+output": {
       "addedWidgets": {},
       "aggData": [],
       "aggError": "",
       "aggOverflow": false,
       "aggSchema": [],
       "aggSeriesLimitReached": false,
       "aggType": "",
       "arguments": {},
       "columnCustomDisplayInfos": {},
       "data": [
        [
         3,
         "Mithun",
         55000,
         "Hyderabad",
         2012,
         7,
         "Robot",
         5.5
        ],
        [
         2,
         "Jayesh",
         60000,
         "Bangalore",
         2012,
         8,
         "Hero",
         8.7
        ],
        [
         1,
         "kiran",
         50000,
         "Chennai",
         2012,
         8,
         "Batman",
         9.8
        ],
        [
         6,
         "Naresh",
         65000,
         "Hyderabad",
         2012,
         7,
         "ADF",
         6.5
        ],
        [
         5,
         "Nirmal",
         35000,
         "Nasik",
         2011,
         8,
         "Azure",
         2.5
        ],
        [
         4,
         "Muthu",
         25000,
         "Chennai",
         2011,
         7,
         "Git",
         2.0
        ],
        [
         7,
         "Kamal",
         85000,
         "Chennai",
         2011,
         7,
         "ADB",
         3.8
        ],
        [
         8,
         "Kiran",
         95000,
         "Nasik",
         2011,
         8,
         "Azure",
         4.5
        ]
       ],
       "datasetInfos": [],
       "dbfsResultPath": null,
       "isJsonSchema": true,
       "metadata": {},
       "overflow": false,
       "plotOptions": {
        "customPlotOptions": {},
        "displayType": "table",
        "pivotAggregation": null,
        "pivotColumns": null,
        "xColumns": null,
        "yColumns": null
       },
       "removedWidgets": [],
       "schema": [
        {
         "metadata": "{}",
         "name": "id",
         "type": "\"long\""
        },
        {
         "metadata": "{}",
         "name": "name",
         "type": "\"string\""
        },
        {
         "metadata": "{}",
         "name": "salary",
         "type": "\"long\""
        },
        {
         "metadata": "{}",
         "name": "city",
         "type": "\"string\""
        },
        {
         "metadata": "{}",
         "name": "year",
         "type": "\"long\""
        },
        {
         "metadata": "{}",
         "name": "month",
         "type": "\"long\""
        },
        {
         "metadata": "{}",
         "name": "title",
         "type": "\"string\""
        },
        {
         "metadata": "{}",
         "name": "rating",
         "type": "\"double\""
        }
       ],
       "type": "table"
      }
     },
     "output_type": "display_data"
    },
    {
     "output_type": "display_data",
     "data": {
      "text/html": [
       "<style scoped>\n",
       "  .table-result-container {\n",
       "    max-height: 300px;\n",
       "    overflow: auto;\n",
       "  }\n",
       "  table, th, td {\n",
       "    border: 1px solid black;\n",
       "    border-collapse: collapse;\n",
       "  }\n",
       "  th, td {\n",
       "    padding: 5px;\n",
       "  }\n",
       "  th {\n",
       "    text-align: left;\n",
       "  }\n",
       "</style><div class='table-result-container'><table class='table-result'><thead style='background-color: white'><tr><th>id</th><th>name</th><th>salary</th><th>city</th><th>year</th><th>month</th><th>title</th><th>rating</th></tr></thead><tbody><tr><td>3</td><td>Mithun</td><td>55000</td><td>Hyderabad</td><td>2012</td><td>7</td><td>Robot</td><td>5.5</td></tr><tr><td>2</td><td>Jayesh</td><td>60000</td><td>Bangalore</td><td>2012</td><td>8</td><td>Hero</td><td>8.7</td></tr><tr><td>1</td><td>kiran</td><td>50000</td><td>Chennai</td><td>2012</td><td>8</td><td>Batman</td><td>9.8</td></tr><tr><td>6</td><td>Naresh</td><td>65000</td><td>Hyderabad</td><td>2012</td><td>7</td><td>ADF</td><td>6.5</td></tr><tr><td>5</td><td>Nirmal</td><td>35000</td><td>Nasik</td><td>2011</td><td>8</td><td>Azure</td><td>2.5</td></tr><tr><td>4</td><td>Muthu</td><td>25000</td><td>Chennai</td><td>2011</td><td>7</td><td>Git</td><td>2.0</td></tr><tr><td>7</td><td>Kamal</td><td>85000</td><td>Chennai</td><td>2011</td><td>7</td><td>ADB</td><td>3.8</td></tr><tr><td>8</td><td>Kiran</td><td>95000</td><td>Nasik</td><td>2011</td><td>8</td><td>Azure</td><td>4.5</td></tr></tbody></table></div>"
      ]
     },
     "metadata": {
      "application/vnd.databricks.v1+output": {
       "addedWidgets": {},
       "aggData": [],
       "aggError": "",
       "aggOverflow": false,
       "aggSchema": [],
       "aggSeriesLimitReached": false,
       "aggType": "",
       "arguments": {},
       "columnCustomDisplayInfos": {},
       "data": [
        [
         3,
         "Mithun",
         55000,
         "Hyderabad",
         2012,
         7,
         "Robot",
         5.5
        ],
        [
         2,
         "Jayesh",
         60000,
         "Bangalore",
         2012,
         8,
         "Hero",
         8.7
        ],
        [
         1,
         "kiran",
         50000,
         "Chennai",
         2012,
         8,
         "Batman",
         9.8
        ],
        [
         6,
         "Naresh",
         65000,
         "Hyderabad",
         2012,
         7,
         "ADF",
         6.5
        ],
        [
         5,
         "Nirmal",
         35000,
         "Nasik",
         2011,
         8,
         "Azure",
         2.5
        ],
        [
         4,
         "Muthu",
         25000,
         "Chennai",
         2011,
         7,
         "Git",
         2.0
        ],
        [
         7,
         "Kamal",
         85000,
         "Chennai",
         2011,
         7,
         "ADB",
         3.8
        ],
        [
         8,
         "Kiran",
         95000,
         "Nasik",
         2011,
         8,
         "Azure",
         4.5
        ]
       ],
       "datasetInfos": [],
       "dbfsResultPath": null,
       "isJsonSchema": true,
       "metadata": {},
       "overflow": false,
       "plotOptions": {
        "customPlotOptions": {},
        "displayType": "table",
        "pivotAggregation": null,
        "pivotColumns": null,
        "xColumns": null,
        "yColumns": null
       },
       "removedWidgets": [],
       "schema": [
        {
         "metadata": "{}",
         "name": "id",
         "type": "\"long\""
        },
        {
         "metadata": "{}",
         "name": "name",
         "type": "\"string\""
        },
        {
         "metadata": "{}",
         "name": "salary",
         "type": "\"long\""
        },
        {
         "metadata": "{}",
         "name": "city",
         "type": "\"string\""
        },
        {
         "metadata": "{}",
         "name": "year",
         "type": "\"long\""
        },
        {
         "metadata": "{}",
         "name": "month",
         "type": "\"long\""
        },
        {
         "metadata": "{}",
         "name": "title",
         "type": "\"string\""
        },
        {
         "metadata": "{}",
         "name": "rating",
         "type": "\"double\""
        }
       ],
       "type": "table"
      }
     },
     "output_type": "display_data"
    },
    {
     "output_type": "display_data",
     "data": {
      "text/html": [
       "<style scoped>\n",
       "  .table-result-container {\n",
       "    max-height: 300px;\n",
       "    overflow: auto;\n",
       "  }\n",
       "  table, th, td {\n",
       "    border: 1px solid black;\n",
       "    border-collapse: collapse;\n",
       "  }\n",
       "  th, td {\n",
       "    padding: 5px;\n",
       "  }\n",
       "  th {\n",
       "    text-align: left;\n",
       "  }\n",
       "</style><div class='table-result-container'><table class='table-result'><thead style='background-color: white'><tr><th>id</th><th>name</th><th>salary</th><th>city</th><th>year</th><th>month</th><th>title</th><th>rating</th></tr></thead><tbody><tr><td>2</td><td>Jayesh</td><td>60000</td><td>Bangalore</td><td>2012</td><td>8</td><td>Hero</td><td>8.7</td></tr><tr><td>3</td><td>Mithun</td><td>55000</td><td>Hyderabad</td><td>2012</td><td>7</td><td>Robot</td><td>5.5</td></tr><tr><td>1</td><td>kiran</td><td>50000</td><td>Chennai</td><td>2012</td><td>8</td><td>Batman</td><td>9.8</td></tr><tr><td>6</td><td>Naresh</td><td>65000</td><td>Hyderabad</td><td>2012</td><td>7</td><td>ADF</td><td>6.5</td></tr><tr><td>5</td><td>Nirmal</td><td>35000</td><td>Nasik</td><td>2011</td><td>8</td><td>Azure</td><td>2.5</td></tr><tr><td>7</td><td>Kamal</td><td>85000</td><td>Chennai</td><td>2011</td><td>7</td><td>ADB</td><td>3.8</td></tr><tr><td>4</td><td>Muthu</td><td>25000</td><td>Chennai</td><td>2011</td><td>7</td><td>Git</td><td>2.0</td></tr><tr><td>8</td><td>Kiran</td><td>95000</td><td>Nasik</td><td>2011</td><td>8</td><td>Azure</td><td>4.5</td></tr></tbody></table></div>"
      ]
     },
     "metadata": {
      "application/vnd.databricks.v1+output": {
       "addedWidgets": {},
       "aggData": [],
       "aggError": "",
       "aggOverflow": false,
       "aggSchema": [],
       "aggSeriesLimitReached": false,
       "aggType": "",
       "arguments": {},
       "columnCustomDisplayInfos": {},
       "data": [
        [
         2,
         "Jayesh",
         60000,
         "Bangalore",
         2012,
         8,
         "Hero",
         8.7
        ],
        [
         3,
         "Mithun",
         55000,
         "Hyderabad",
         2012,
         7,
         "Robot",
         5.5
        ],
        [
         1,
         "kiran",
         50000,
         "Chennai",
         2012,
         8,
         "Batman",
         9.8
        ],
        [
         6,
         "Naresh",
         65000,
         "Hyderabad",
         2012,
         7,
         "ADF",
         6.5
        ],
        [
         5,
         "Nirmal",
         35000,
         "Nasik",
         2011,
         8,
         "Azure",
         2.5
        ],
        [
         7,
         "Kamal",
         85000,
         "Chennai",
         2011,
         7,
         "ADB",
         3.8
        ],
        [
         4,
         "Muthu",
         25000,
         "Chennai",
         2011,
         7,
         "Git",
         2.0
        ],
        [
         8,
         "Kiran",
         95000,
         "Nasik",
         2011,
         8,
         "Azure",
         4.5
        ]
       ],
       "datasetInfos": [],
       "dbfsResultPath": null,
       "isJsonSchema": true,
       "metadata": {},
       "overflow": false,
       "plotOptions": {
        "customPlotOptions": {},
        "displayType": "table",
        "pivotAggregation": null,
        "pivotColumns": null,
        "xColumns": null,
        "yColumns": null
       },
       "removedWidgets": [],
       "schema": [
        {
         "metadata": "{}",
         "name": "id",
         "type": "\"long\""
        },
        {
         "metadata": "{}",
         "name": "name",
         "type": "\"string\""
        },
        {
         "metadata": "{}",
         "name": "salary",
         "type": "\"long\""
        },
        {
         "metadata": "{}",
         "name": "city",
         "type": "\"string\""
        },
        {
         "metadata": "{}",
         "name": "year",
         "type": "\"long\""
        },
        {
         "metadata": "{}",
         "name": "month",
         "type": "\"long\""
        },
        {
         "metadata": "{}",
         "name": "title",
         "type": "\"string\""
        },
        {
         "metadata": "{}",
         "name": "rating",
         "type": "\"double\""
        }
       ],
       "type": "table"
      }
     },
     "output_type": "display_data"
    },
    {
     "output_type": "display_data",
     "data": {
      "text/html": [
       "<style scoped>\n",
       "  .table-result-container {\n",
       "    max-height: 300px;\n",
       "    overflow: auto;\n",
       "  }\n",
       "  table, th, td {\n",
       "    border: 1px solid black;\n",
       "    border-collapse: collapse;\n",
       "  }\n",
       "  th, td {\n",
       "    padding: 5px;\n",
       "  }\n",
       "  th {\n",
       "    text-align: left;\n",
       "  }\n",
       "</style><div class='table-result-container'><table class='table-result'><thead style='background-color: white'><tr><th>id</th><th>name</th><th>salary</th><th>city</th><th>year</th><th>month</th><th>title</th><th>rating</th></tr></thead><tbody><tr><td>1</td><td>kiran</td><td>50000</td><td>Chennai</td><td>2012</td><td>8</td><td>Batman</td><td>9.8</td></tr><tr><td>2</td><td>Jayesh</td><td>60000</td><td>Bangalore</td><td>2012</td><td>8</td><td>Hero</td><td>8.7</td></tr><tr><td>3</td><td>Mithun</td><td>55000</td><td>Hyderabad</td><td>2012</td><td>7</td><td>Robot</td><td>5.5</td></tr><tr><td>6</td><td>Naresh</td><td>65000</td><td>Hyderabad</td><td>2012</td><td>7</td><td>ADF</td><td>6.5</td></tr><tr><td>5</td><td>Nirmal</td><td>35000</td><td>Nasik</td><td>2011</td><td>8</td><td>Azure</td><td>2.5</td></tr><tr><td>4</td><td>Muthu</td><td>25000</td><td>Chennai</td><td>2011</td><td>7</td><td>Git</td><td>2.0</td></tr><tr><td>8</td><td>Kiran</td><td>95000</td><td>Nasik</td><td>2011</td><td>8</td><td>Azure</td><td>4.5</td></tr><tr><td>7</td><td>Kamal</td><td>85000</td><td>Chennai</td><td>2011</td><td>7</td><td>ADB</td><td>3.8</td></tr></tbody></table></div>"
      ]
     },
     "metadata": {
      "application/vnd.databricks.v1+output": {
       "addedWidgets": {},
       "aggData": [],
       "aggError": "",
       "aggOverflow": false,
       "aggSchema": [],
       "aggSeriesLimitReached": false,
       "aggType": "",
       "arguments": {},
       "columnCustomDisplayInfos": {},
       "data": [
        [
         1,
         "kiran",
         50000,
         "Chennai",
         2012,
         8,
         "Batman",
         9.8
        ],
        [
         2,
         "Jayesh",
         60000,
         "Bangalore",
         2012,
         8,
         "Hero",
         8.7
        ],
        [
         3,
         "Mithun",
         55000,
         "Hyderabad",
         2012,
         7,
         "Robot",
         5.5
        ],
        [
         6,
         "Naresh",
         65000,
         "Hyderabad",
         2012,
         7,
         "ADF",
         6.5
        ],
        [
         5,
         "Nirmal",
         35000,
         "Nasik",
         2011,
         8,
         "Azure",
         2.5
        ],
        [
         4,
         "Muthu",
         25000,
         "Chennai",
         2011,
         7,
         "Git",
         2.0
        ],
        [
         8,
         "Kiran",
         95000,
         "Nasik",
         2011,
         8,
         "Azure",
         4.5
        ],
        [
         7,
         "Kamal",
         85000,
         "Chennai",
         2011,
         7,
         "ADB",
         3.8
        ]
       ],
       "datasetInfos": [],
       "dbfsResultPath": null,
       "isJsonSchema": true,
       "metadata": {},
       "overflow": false,
       "plotOptions": {
        "customPlotOptions": {},
        "displayType": "table",
        "pivotAggregation": null,
        "pivotColumns": null,
        "xColumns": null,
        "yColumns": null
       },
       "removedWidgets": [],
       "schema": [
        {
         "metadata": "{}",
         "name": "id",
         "type": "\"long\""
        },
        {
         "metadata": "{}",
         "name": "name",
         "type": "\"string\""
        },
        {
         "metadata": "{}",
         "name": "salary",
         "type": "\"long\""
        },
        {
         "metadata": "{}",
         "name": "city",
         "type": "\"string\""
        },
        {
         "metadata": "{}",
         "name": "year",
         "type": "\"long\""
        },
        {
         "metadata": "{}",
         "name": "month",
         "type": "\"long\""
        },
        {
         "metadata": "{}",
         "name": "title",
         "type": "\"string\""
        },
        {
         "metadata": "{}",
         "name": "rating",
         "type": "\"double\""
        }
       ],
       "type": "table"
      }
     },
     "output_type": "display_data"
    },
    {
     "output_type": "display_data",
     "data": {
      "text/html": [
       "<style scoped>\n",
       "  .table-result-container {\n",
       "    max-height: 300px;\n",
       "    overflow: auto;\n",
       "  }\n",
       "  table, th, td {\n",
       "    border: 1px solid black;\n",
       "    border-collapse: collapse;\n",
       "  }\n",
       "  th, td {\n",
       "    padding: 5px;\n",
       "  }\n",
       "  th {\n",
       "    text-align: left;\n",
       "  }\n",
       "</style><div class='table-result-container'><table class='table-result'><thead style='background-color: white'><tr><th>id</th><th>name</th><th>salary</th><th>city</th><th>year</th><th>month</th><th>title</th><th>rating</th></tr></thead><tbody><tr><td>2</td><td>Jayesh</td><td>60000</td><td>Bangalore</td><td>2012</td><td>8</td><td>Hero</td><td>8.7</td></tr><tr><td>3</td><td>Mithun</td><td>55000</td><td>Hyderabad</td><td>2012</td><td>7</td><td>Robot</td><td>5.5</td></tr><tr><td>1</td><td>kiran</td><td>50000</td><td>Chennai</td><td>2012</td><td>8</td><td>Batman</td><td>9.8</td></tr><tr><td>4</td><td>Muthu</td><td>25000</td><td>Chennai</td><td>2011</td><td>7</td><td>Git</td><td>2.0</td></tr><tr><td>5</td><td>Nirmal</td><td>35000</td><td>Nasik</td><td>2011</td><td>8</td><td>Azure</td><td>2.5</td></tr><tr><td>6</td><td>Naresh</td><td>65000</td><td>Hyderabad</td><td>2012</td><td>7</td><td>ADF</td><td>6.5</td></tr><tr><td>7</td><td>Kamal</td><td>85000</td><td>Chennai</td><td>2011</td><td>7</td><td>ADB</td><td>3.8</td></tr><tr><td>8</td><td>Kiran</td><td>95000</td><td>Nasik</td><td>2011</td><td>8</td><td>Azure</td><td>4.5</td></tr></tbody></table></div>"
      ]
     },
     "metadata": {
      "application/vnd.databricks.v1+output": {
       "addedWidgets": {},
       "aggData": [],
       "aggError": "",
       "aggOverflow": false,
       "aggSchema": [],
       "aggSeriesLimitReached": false,
       "aggType": "",
       "arguments": {},
       "columnCustomDisplayInfos": {},
       "data": [
        [
         2,
         "Jayesh",
         60000,
         "Bangalore",
         2012,
         8,
         "Hero",
         8.7
        ],
        [
         3,
         "Mithun",
         55000,
         "Hyderabad",
         2012,
         7,
         "Robot",
         5.5
        ],
        [
         1,
         "kiran",
         50000,
         "Chennai",
         2012,
         8,
         "Batman",
         9.8
        ],
        [
         4,
         "Muthu",
         25000,
         "Chennai",
         2011,
         7,
         "Git",
         2.0
        ],
        [
         5,
         "Nirmal",
         35000,
         "Nasik",
         2011,
         8,
         "Azure",
         2.5
        ],
        [
         6,
         "Naresh",
         65000,
         "Hyderabad",
         2012,
         7,
         "ADF",
         6.5
        ],
        [
         7,
         "Kamal",
         85000,
         "Chennai",
         2011,
         7,
         "ADB",
         3.8
        ],
        [
         8,
         "Kiran",
         95000,
         "Nasik",
         2011,
         8,
         "Azure",
         4.5
        ]
       ],
       "datasetInfos": [],
       "dbfsResultPath": null,
       "isJsonSchema": true,
       "metadata": {},
       "overflow": false,
       "plotOptions": {
        "customPlotOptions": {},
        "displayType": "table",
        "pivotAggregation": null,
        "pivotColumns": null,
        "xColumns": null,
        "yColumns": null
       },
       "removedWidgets": [],
       "schema": [
        {
         "metadata": "{}",
         "name": "id",
         "type": "\"long\""
        },
        {
         "metadata": "{}",
         "name": "name",
         "type": "\"string\""
        },
        {
         "metadata": "{}",
         "name": "salary",
         "type": "\"long\""
        },
        {
         "metadata": "{}",
         "name": "city",
         "type": "\"string\""
        },
        {
         "metadata": "{}",
         "name": "year",
         "type": "\"long\""
        },
        {
         "metadata": "{}",
         "name": "month",
         "type": "\"long\""
        },
        {
         "metadata": "{}",
         "name": "title",
         "type": "\"string\""
        },
        {
         "metadata": "{}",
         "name": "rating",
         "type": "\"double\""
        }
       ],
       "type": "table"
      }
     },
     "output_type": "display_data"
    }
   ],
   "source": [
    "# Handling Compression\n",
    "# Read Avro file with specified compression code\n",
    "df_snappy = spark.read.format(\"avro\")\\\n",
    "    .option(\"compression\", \"snappy\").load(\"/FileStore/tables/avro/Employee_data_snappy\")\n",
    "\n",
    "# Show DataFrame\n",
    "display(df_snappy)\n",
    "\n",
    "# Read Avro file with specified compression code \"uncompressed\"\n",
    "df_uncompressed = spark.read.format(\"avro\")\\\n",
    "    .option(\"compression\", \"uncompressed\").load(\"/FileStore/tables/avro/Employee_data_uncompressed\")\n",
    "\n",
    "# Show DataFrame\n",
    "display(df_uncompressed)\n",
    "\n",
    "# Read Avro file with specified compression code \"deflate\"\n",
    "df_deflate = spark.read.format(\"avro\")\\\n",
    "    .option(\"compression\", \"deflate\").load(\"/FileStore/tables/avro/Employee_data_deflate\")\n",
    "\n",
    "# Show DataFrame\n",
    "display(df_deflate)\n",
    "\n",
    "# Read Avro file with specified compression code \"bzip2\"\n",
    "df_bzip2 = spark.read.format(\"avro\")\\\n",
    "    .option(\"compression\", \"bzip2\").load(\"/FileStore/tables/avro/Employee_data_bzip2\")\n",
    "\n",
    "# Show DataFrame\n",
    "display(df_bzip2)\n",
    "\n",
    "# Read Avro file with specified compression code \"xz\"\n",
    "df_xz = spark.read.format(\"avro\")\\\n",
    "    .option(\"compression\", \"xz\").load(\"/FileStore/tables/avro/Employee_data_xz\")\n",
    "\n",
    "# Show DataFrame\n",
    "display(df_xz)"
   ]
  },
  {
   "cell_type": "markdown",
   "metadata": {
    "application/vnd.databricks.v1+cell": {
     "cellMetadata": {},
     "inputWidgets": {},
     "nuid": "da726236-da32-4f6c-8302-fec22bf391d8",
     "showTitle": false,
     "tableResultSettingsMap": {},
     "title": ""
    }
   },
   "source": [
    "**b) With schema**"
   ]
  },
  {
   "cell_type": "code",
   "execution_count": 0,
   "metadata": {
    "application/vnd.databricks.v1+cell": {
     "cellMetadata": {
      "byteLimit": 2048000,
      "rowLimit": 10000
     },
     "inputWidgets": {},
     "nuid": "21ff7379-345f-4583-a743-e4adaaaa49f3",
     "showTitle": true,
     "tableResultSettingsMap": {},
     "title": "sample dataframe with schema"
    }
   },
   "outputs": [
    {
     "output_type": "display_data",
     "data": {
      "text/html": [
       "<style scoped>\n",
       "  .table-result-container {\n",
       "    max-height: 300px;\n",
       "    overflow: auto;\n",
       "  }\n",
       "  table, th, td {\n",
       "    border: 1px solid black;\n",
       "    border-collapse: collapse;\n",
       "  }\n",
       "  th, td {\n",
       "    padding: 5px;\n",
       "  }\n",
       "  th {\n",
       "    text-align: left;\n",
       "  }\n",
       "</style><div class='table-result-container'><table class='table-result'><thead style='background-color: white'><tr><th>id</th><th>name</th><th>salary</th><th>city</th><th>year</th><th>month</th><th>title</th><th>rating</th></tr></thead><tbody><tr><td>1</td><td>kiran</td><td>50000</td><td>Chennai</td><td>2012</td><td>8</td><td>Batman</td><td>9.8</td></tr><tr><td>2</td><td>Jayesh</td><td>60000</td><td>Bangalore</td><td>2012</td><td>8</td><td>Hero</td><td>8.7</td></tr><tr><td>3</td><td>Mithun</td><td>55000</td><td>Hyderabad</td><td>2012</td><td>7</td><td>Robot</td><td>5.5</td></tr><tr><td>4</td><td>Muthu</td><td>25000</td><td>Chennai</td><td>2011</td><td>7</td><td>Git</td><td>2.0</td></tr><tr><td>5</td><td>Nirmal</td><td>35000</td><td>Nasik</td><td>2011</td><td>8</td><td>Azure</td><td>2.5</td></tr><tr><td>6</td><td>Naresh</td><td>65000</td><td>Hyderabad</td><td>2012</td><td>7</td><td>ADF</td><td>6.5</td></tr><tr><td>7</td><td>Kamal</td><td>85000</td><td>Chennai</td><td>2011</td><td>7</td><td>ADB</td><td>3.8</td></tr><tr><td>8</td><td>Kiran</td><td>95000</td><td>Nasik</td><td>2011</td><td>8</td><td>Azure</td><td>4.5</td></tr></tbody></table></div>"
      ]
     },
     "metadata": {
      "application/vnd.databricks.v1+output": {
       "addedWidgets": {},
       "aggData": [],
       "aggError": "",
       "aggOverflow": false,
       "aggSchema": [],
       "aggSeriesLimitReached": false,
       "aggType": "",
       "arguments": {},
       "columnCustomDisplayInfos": {},
       "data": [
        [
         1,
         "kiran",
         50000,
         "Chennai",
         2012,
         8,
         "Batman",
         9.8
        ],
        [
         2,
         "Jayesh",
         60000,
         "Bangalore",
         2012,
         8,
         "Hero",
         8.7
        ],
        [
         3,
         "Mithun",
         55000,
         "Hyderabad",
         2012,
         7,
         "Robot",
         5.5
        ],
        [
         4,
         "Muthu",
         25000,
         "Chennai",
         2011,
         7,
         "Git",
         2.0
        ],
        [
         5,
         "Nirmal",
         35000,
         "Nasik",
         2011,
         8,
         "Azure",
         2.5
        ],
        [
         6,
         "Naresh",
         65000,
         "Hyderabad",
         2012,
         7,
         "ADF",
         6.5
        ],
        [
         7,
         "Kamal",
         85000,
         "Chennai",
         2011,
         7,
         "ADB",
         3.8
        ],
        [
         8,
         "Kiran",
         95000,
         "Nasik",
         2011,
         8,
         "Azure",
         4.5
        ]
       ],
       "datasetInfos": [],
       "dbfsResultPath": null,
       "isJsonSchema": true,
       "metadata": {},
       "overflow": false,
       "plotOptions": {
        "customPlotOptions": {},
        "displayType": "table",
        "pivotAggregation": null,
        "pivotColumns": null,
        "xColumns": null,
        "yColumns": null
       },
       "removedWidgets": [],
       "schema": [
        {
         "metadata": "{}",
         "name": "id",
         "type": "\"integer\""
        },
        {
         "metadata": "{}",
         "name": "name",
         "type": "\"string\""
        },
        {
         "metadata": "{}",
         "name": "salary",
         "type": "\"integer\""
        },
        {
         "metadata": "{}",
         "name": "city",
         "type": "\"string\""
        },
        {
         "metadata": "{}",
         "name": "year",
         "type": "\"integer\""
        },
        {
         "metadata": "{}",
         "name": "month",
         "type": "\"integer\""
        },
        {
         "metadata": "{}",
         "name": "title",
         "type": "\"string\""
        },
        {
         "metadata": "{}",
         "name": "rating",
         "type": "\"double\""
        }
       ],
       "type": "table"
      }
     },
     "output_type": "display_data"
    }
   ],
   "source": [
    "# Sample DataFrame\n",
    "data = [(1, \"kiran\", 50000, \"Chennai\", 2012, 8, \"Batman\", 9.8),\n",
    "        (2, \"Jayesh\", 60000, \"Bangalore\", 2012, 8, \"Hero\", 8.7),\n",
    "        (3, \"Mithun\", 55000, \"Hyderabad\", 2012, 7, \"Robot\", 5.5),\n",
    "        (4, \"Muthu\", 25000, \"Chennai\", 2011, 7, \"Git\", 2.0),\n",
    "        (5, \"Nirmal\", 35000, \"Nasik\", 2011, 8, \"Azure\", 2.5),\n",
    "        (6, \"Naresh\", 65000, \"Hyderabad\", 2012, 7, \"ADF\", 6.5),\n",
    "        (7, \"Kamal\", 85000, \"Chennai\", 2011, 7, \"ADB\", 3.8),\n",
    "        (8, \"Kiran\", 95000, \"Nasik\", 2011, 8, \"Azure\", 4.5)]\n",
    "        \n",
    "# Define schema\n",
    "schema = StructType([StructField(\"id\", IntegerType(), True),\n",
    "                     StructField(\"name\", StringType(), True),\n",
    "                     StructField(\"salary\", IntegerType(), True),\n",
    "                     StructField(\"city\", StringType(), True),\n",
    "                     StructField(\"year\", IntegerType(), True),\n",
    "                     StructField(\"month\", IntegerType(), True),\n",
    "                     StructField(\"title\", StringType(), True),\n",
    "                     StructField(\"rating\", DoubleType(), True)\n",
    "                    ])\n",
    "\n",
    "df_schema = spark.createDataFrame(data, schema)\n",
    "display(df_schema)"
   ]
  },
  {
   "cell_type": "code",
   "execution_count": 0,
   "metadata": {
    "application/vnd.databricks.v1+cell": {
     "cellMetadata": {
      "byteLimit": 2048000,
      "rowLimit": 10000
     },
     "inputWidgets": {},
     "nuid": "95f4d38e-89c8-4cd5-9082-e3824cfa3d0d",
     "showTitle": false,
     "tableResultSettingsMap": {},
     "title": ""
    }
   },
   "outputs": [],
   "source": [
    "# Write DataFrame to Avro\n",
    "df_schema.write.format(\"avro\").mode(\"overwrite\").save(\"/FileStore/tables/avro/Employee_data_schema\")"
   ]
  },
  {
   "cell_type": "code",
   "execution_count": 0,
   "metadata": {
    "application/vnd.databricks.v1+cell": {
     "cellMetadata": {
      "byteLimit": 2048000,
      "rowLimit": 10000
     },
     "inputWidgets": {},
     "nuid": "a89ed4c3-91e8-4fa8-b6dd-a35a3dcc8f96",
     "showTitle": false,
     "tableResultSettingsMap": {},
     "title": ""
    }
   },
   "outputs": [
    {
     "output_type": "display_data",
     "data": {
      "text/html": [
       "<style scoped>\n",
       "  .table-result-container {\n",
       "    max-height: 300px;\n",
       "    overflow: auto;\n",
       "  }\n",
       "  table, th, td {\n",
       "    border: 1px solid black;\n",
       "    border-collapse: collapse;\n",
       "  }\n",
       "  th, td {\n",
       "    padding: 5px;\n",
       "  }\n",
       "  th {\n",
       "    text-align: left;\n",
       "  }\n",
       "</style><div class='table-result-container'><table class='table-result'><thead style='background-color: white'><tr><th>path</th><th>name</th><th>size</th><th>modificationTime</th></tr></thead><tbody><tr><td>dbfs:/FileStore/tables/avro/Employee_data/</td><td>Employee_data/</td><td>0</td><td>0</td></tr><tr><td>dbfs:/FileStore/tables/avro/Employee_data_bzip2/</td><td>Employee_data_bzip2/</td><td>0</td><td>0</td></tr><tr><td>dbfs:/FileStore/tables/avro/Employee_data_deflate/</td><td>Employee_data_deflate/</td><td>0</td><td>0</td></tr><tr><td>dbfs:/FileStore/tables/avro/Employee_data_schema/</td><td>Employee_data_schema/</td><td>0</td><td>0</td></tr><tr><td>dbfs:/FileStore/tables/avro/Employee_data_snappy/</td><td>Employee_data_snappy/</td><td>0</td><td>0</td></tr><tr><td>dbfs:/FileStore/tables/avro/Employee_data_uncompressed/</td><td>Employee_data_uncompressed/</td><td>0</td><td>0</td></tr><tr><td>dbfs:/FileStore/tables/avro/Employee_data_xz/</td><td>Employee_data_xz/</td><td>0</td><td>0</td></tr><tr><td>dbfs:/FileStore/tables/avro/city_partitioned/</td><td>city_partitioned/</td><td>0</td><td>0</td></tr><tr><td>dbfs:/FileStore/tables/avro/year_month_partitioned/</td><td>year_month_partitioned/</td><td>0</td><td>0</td></tr></tbody></table></div>"
      ]
     },
     "metadata": {
      "application/vnd.databricks.v1+output": {
       "addedWidgets": {},
       "aggData": [],
       "aggError": "",
       "aggOverflow": false,
       "aggSchema": [],
       "aggSeriesLimitReached": false,
       "aggType": "",
       "arguments": {},
       "columnCustomDisplayInfos": {},
       "data": [
        [
         "dbfs:/FileStore/tables/avro/Employee_data/",
         "Employee_data/",
         0,
         0
        ],
        [
         "dbfs:/FileStore/tables/avro/Employee_data_bzip2/",
         "Employee_data_bzip2/",
         0,
         0
        ],
        [
         "dbfs:/FileStore/tables/avro/Employee_data_deflate/",
         "Employee_data_deflate/",
         0,
         0
        ],
        [
         "dbfs:/FileStore/tables/avro/Employee_data_schema/",
         "Employee_data_schema/",
         0,
         0
        ],
        [
         "dbfs:/FileStore/tables/avro/Employee_data_snappy/",
         "Employee_data_snappy/",
         0,
         0
        ],
        [
         "dbfs:/FileStore/tables/avro/Employee_data_uncompressed/",
         "Employee_data_uncompressed/",
         0,
         0
        ],
        [
         "dbfs:/FileStore/tables/avro/Employee_data_xz/",
         "Employee_data_xz/",
         0,
         0
        ],
        [
         "dbfs:/FileStore/tables/avro/city_partitioned/",
         "city_partitioned/",
         0,
         0
        ],
        [
         "dbfs:/FileStore/tables/avro/year_month_partitioned/",
         "year_month_partitioned/",
         0,
         0
        ]
       ],
       "datasetInfos": [],
       "dbfsResultPath": null,
       "isJsonSchema": true,
       "metadata": {
        "isDbfsCommandResult": false
       },
       "overflow": false,
       "plotOptions": {
        "customPlotOptions": {},
        "displayType": "table",
        "pivotAggregation": null,
        "pivotColumns": null,
        "xColumns": null,
        "yColumns": null
       },
       "removedWidgets": [],
       "schema": [
        {
         "metadata": "{}",
         "name": "path",
         "type": "\"string\""
        },
        {
         "metadata": "{}",
         "name": "name",
         "type": "\"string\""
        },
        {
         "metadata": "{}",
         "name": "size",
         "type": "\"long\""
        },
        {
         "metadata": "{}",
         "name": "modificationTime",
         "type": "\"long\""
        }
       ],
       "type": "table"
      }
     },
     "output_type": "display_data"
    }
   ],
   "source": [
    "%fs ls dbfs:/FileStore/tables/avro/"
   ]
  },
  {
   "cell_type": "code",
   "execution_count": 0,
   "metadata": {
    "application/vnd.databricks.v1+cell": {
     "cellMetadata": {
      "byteLimit": 2048000,
      "rowLimit": 10000
     },
     "inputWidgets": {},
     "nuid": "a96b95b9-64b2-4381-9e67-514e8aaf29c3",
     "showTitle": false,
     "tableResultSettingsMap": {},
     "title": ""
    }
   },
   "outputs": [
    {
     "output_type": "display_data",
     "data": {
      "text/html": [
       "<style scoped>\n",
       "  .table-result-container {\n",
       "    max-height: 300px;\n",
       "    overflow: auto;\n",
       "  }\n",
       "  table, th, td {\n",
       "    border: 1px solid black;\n",
       "    border-collapse: collapse;\n",
       "  }\n",
       "  th, td {\n",
       "    padding: 5px;\n",
       "  }\n",
       "  th {\n",
       "    text-align: left;\n",
       "  }\n",
       "</style><div class='table-result-container'><table class='table-result'><thead style='background-color: white'><tr><th>id</th><th>name</th><th>salary</th><th>city</th><th>year</th><th>month</th><th>title</th><th>rating</th></tr></thead><tbody><tr><td>3</td><td>Mithun</td><td>55000</td><td>Hyderabad</td><td>2012</td><td>7</td><td>Robot</td><td>5.5</td></tr><tr><td>2</td><td>Jayesh</td><td>60000</td><td>Bangalore</td><td>2012</td><td>8</td><td>Hero</td><td>8.7</td></tr><tr><td>1</td><td>kiran</td><td>50000</td><td>Chennai</td><td>2012</td><td>8</td><td>Batman</td><td>9.8</td></tr><tr><td>6</td><td>Naresh</td><td>65000</td><td>Hyderabad</td><td>2012</td><td>7</td><td>ADF</td><td>6.5</td></tr><tr><td>5</td><td>Nirmal</td><td>35000</td><td>Nasik</td><td>2011</td><td>8</td><td>Azure</td><td>2.5</td></tr><tr><td>4</td><td>Muthu</td><td>25000</td><td>Chennai</td><td>2011</td><td>7</td><td>Git</td><td>2.0</td></tr><tr><td>7</td><td>Kamal</td><td>85000</td><td>Chennai</td><td>2011</td><td>7</td><td>ADB</td><td>3.8</td></tr><tr><td>8</td><td>Kiran</td><td>95000</td><td>Nasik</td><td>2011</td><td>8</td><td>Azure</td><td>4.5</td></tr></tbody></table></div>"
      ]
     },
     "metadata": {
      "application/vnd.databricks.v1+output": {
       "addedWidgets": {},
       "aggData": [],
       "aggError": "",
       "aggOverflow": false,
       "aggSchema": [],
       "aggSeriesLimitReached": false,
       "aggType": "",
       "arguments": {},
       "columnCustomDisplayInfos": {},
       "data": [
        [
         3,
         "Mithun",
         55000,
         "Hyderabad",
         2012,
         7,
         "Robot",
         5.5
        ],
        [
         2,
         "Jayesh",
         60000,
         "Bangalore",
         2012,
         8,
         "Hero",
         8.7
        ],
        [
         1,
         "kiran",
         50000,
         "Chennai",
         2012,
         8,
         "Batman",
         9.8
        ],
        [
         6,
         "Naresh",
         65000,
         "Hyderabad",
         2012,
         7,
         "ADF",
         6.5
        ],
        [
         5,
         "Nirmal",
         35000,
         "Nasik",
         2011,
         8,
         "Azure",
         2.5
        ],
        [
         4,
         "Muthu",
         25000,
         "Chennai",
         2011,
         7,
         "Git",
         2.0
        ],
        [
         7,
         "Kamal",
         85000,
         "Chennai",
         2011,
         7,
         "ADB",
         3.8
        ],
        [
         8,
         "Kiran",
         95000,
         "Nasik",
         2011,
         8,
         "Azure",
         4.5
        ]
       ],
       "datasetInfos": [],
       "dbfsResultPath": null,
       "isJsonSchema": true,
       "metadata": {},
       "overflow": false,
       "plotOptions": {
        "customPlotOptions": {},
        "displayType": "table",
        "pivotAggregation": null,
        "pivotColumns": null,
        "xColumns": null,
        "yColumns": null
       },
       "removedWidgets": [],
       "schema": [
        {
         "metadata": "{}",
         "name": "id",
         "type": "\"integer\""
        },
        {
         "metadata": "{}",
         "name": "name",
         "type": "\"string\""
        },
        {
         "metadata": "{}",
         "name": "salary",
         "type": "\"integer\""
        },
        {
         "metadata": "{}",
         "name": "city",
         "type": "\"string\""
        },
        {
         "metadata": "{}",
         "name": "year",
         "type": "\"integer\""
        },
        {
         "metadata": "{}",
         "name": "month",
         "type": "\"integer\""
        },
        {
         "metadata": "{}",
         "name": "title",
         "type": "\"string\""
        },
        {
         "metadata": "{}",
         "name": "rating",
         "type": "\"double\""
        }
       ],
       "type": "table"
      }
     },
     "output_type": "display_data"
    }
   ],
   "source": [
    "# Read Avro file with schema\n",
    "df1_schema = spark.read.format(\"avro\").load(\"dbfs:/FileStore/tables/avro/Employee_data_schema/\")\n",
    "\n",
    "# Show DataFrame\n",
    "display(df1_schema)"
   ]
  },
  {
   "cell_type": "code",
   "execution_count": 0,
   "metadata": {
    "application/vnd.databricks.v1+cell": {
     "cellMetadata": {
      "byteLimit": 2048000,
      "rowLimit": 10000
     },
     "inputWidgets": {},
     "nuid": "2fc0ef2d-b8bf-4156-b8e2-30502be645fd",
     "showTitle": false,
     "tableResultSettingsMap": {},
     "title": ""
    }
   },
   "outputs": [
    {
     "output_type": "display_data",
     "data": {
      "text/html": [
       "<style scoped>\n",
       "  .table-result-container {\n",
       "    max-height: 300px;\n",
       "    overflow: auto;\n",
       "  }\n",
       "  table, th, td {\n",
       "    border: 1px solid black;\n",
       "    border-collapse: collapse;\n",
       "  }\n",
       "  th, td {\n",
       "    padding: 5px;\n",
       "  }\n",
       "  th {\n",
       "    text-align: left;\n",
       "  }\n",
       "</style><div class='table-result-container'><table class='table-result'><thead style='background-color: white'><tr><th>id</th><th>name</th><th>salary</th><th>city</th><th>year</th><th>month</th><th>title</th><th>rating</th></tr></thead><tbody><tr><td>3</td><td>Mithun</td><td>55000</td><td>Hyderabad</td><td>2012</td><td>7</td><td>Robot</td><td>5.5</td></tr><tr><td>2</td><td>Jayesh</td><td>60000</td><td>Bangalore</td><td>2012</td><td>8</td><td>Hero</td><td>8.7</td></tr><tr><td>1</td><td>kiran</td><td>50000</td><td>Chennai</td><td>2012</td><td>8</td><td>Batman</td><td>9.8</td></tr><tr><td>6</td><td>Naresh</td><td>65000</td><td>Hyderabad</td><td>2012</td><td>7</td><td>ADF</td><td>6.5</td></tr><tr><td>5</td><td>Nirmal</td><td>35000</td><td>Nasik</td><td>2011</td><td>8</td><td>Azure</td><td>2.5</td></tr><tr><td>4</td><td>Muthu</td><td>25000</td><td>Chennai</td><td>2011</td><td>7</td><td>Git</td><td>2.0</td></tr><tr><td>7</td><td>Kamal</td><td>85000</td><td>Chennai</td><td>2011</td><td>7</td><td>ADB</td><td>3.8</td></tr><tr><td>8</td><td>Kiran</td><td>95000</td><td>Nasik</td><td>2011</td><td>8</td><td>Azure</td><td>4.5</td></tr></tbody></table></div>"
      ]
     },
     "metadata": {
      "application/vnd.databricks.v1+output": {
       "addedWidgets": {},
       "aggData": [],
       "aggError": "",
       "aggOverflow": false,
       "aggSchema": [],
       "aggSeriesLimitReached": false,
       "aggType": "",
       "arguments": {},
       "columnCustomDisplayInfos": {},
       "data": [
        [
         3,
         "Mithun",
         55000,
         "Hyderabad",
         2012,
         7,
         "Robot",
         5.5
        ],
        [
         2,
         "Jayesh",
         60000,
         "Bangalore",
         2012,
         8,
         "Hero",
         8.7
        ],
        [
         1,
         "kiran",
         50000,
         "Chennai",
         2012,
         8,
         "Batman",
         9.8
        ],
        [
         6,
         "Naresh",
         65000,
         "Hyderabad",
         2012,
         7,
         "ADF",
         6.5
        ],
        [
         5,
         "Nirmal",
         35000,
         "Nasik",
         2011,
         8,
         "Azure",
         2.5
        ],
        [
         4,
         "Muthu",
         25000,
         "Chennai",
         2011,
         7,
         "Git",
         2.0
        ],
        [
         7,
         "Kamal",
         85000,
         "Chennai",
         2011,
         7,
         "ADB",
         3.8
        ],
        [
         8,
         "Kiran",
         95000,
         "Nasik",
         2011,
         8,
         "Azure",
         4.5
        ]
       ],
       "datasetInfos": [],
       "dbfsResultPath": null,
       "isJsonSchema": true,
       "metadata": {},
       "overflow": false,
       "plotOptions": {
        "customPlotOptions": {},
        "displayType": "table",
        "pivotAggregation": null,
        "pivotColumns": null,
        "xColumns": null,
        "yColumns": null
       },
       "removedWidgets": [],
       "schema": [
        {
         "metadata": "{}",
         "name": "id",
         "type": "\"integer\""
        },
        {
         "metadata": "{}",
         "name": "name",
         "type": "\"string\""
        },
        {
         "metadata": "{}",
         "name": "salary",
         "type": "\"integer\""
        },
        {
         "metadata": "{}",
         "name": "city",
         "type": "\"string\""
        },
        {
         "metadata": "{}",
         "name": "year",
         "type": "\"integer\""
        },
        {
         "metadata": "{}",
         "name": "month",
         "type": "\"integer\""
        },
        {
         "metadata": "{}",
         "name": "title",
         "type": "\"string\""
        },
        {
         "metadata": "{}",
         "name": "rating",
         "type": "\"double\""
        }
       ],
       "type": "table"
      }
     },
     "output_type": "display_data"
    }
   ],
   "source": [
    "# Define schema\n",
    "schema = StructType([StructField(\"id\", IntegerType(), True),\n",
    "                     StructField(\"name\", StringType(), True),\n",
    "                     StructField(\"salary\", IntegerType(), True),\n",
    "                     StructField(\"city\", StringType(), True),\n",
    "                     StructField(\"year\", IntegerType(), True),\n",
    "                     StructField(\"month\", IntegerType(), True),\n",
    "                     StructField(\"title\", StringType(), True),\n",
    "                     StructField(\"rating\", DoubleType(), True)\n",
    "                    ])\n",
    "\n",
    "# Read Avro file with schema\n",
    "df2_schema = spark.read.format(\"avro\").schema(schema).load(\"dbfs:/FileStore/tables/avro/Employee_data_schema/\")\n",
    "\n",
    "# Show DataFrame\n",
    "display(df2_schema)"
   ]
  },
  {
   "cell_type": "code",
   "execution_count": 0,
   "metadata": {
    "application/vnd.databricks.v1+cell": {
     "cellMetadata": {
      "byteLimit": 2048000,
      "rowLimit": 10000
     },
     "inputWidgets": {},
     "nuid": "a3b8f9d8-2fc9-4480-8dce-536e90753edd",
     "showTitle": false,
     "tableResultSettingsMap": {},
     "title": ""
    }
   },
   "outputs": [
    {
     "output_type": "display_data",
     "data": {
      "text/html": [
       "<style scoped>\n",
       "  .table-result-container {\n",
       "    max-height: 300px;\n",
       "    overflow: auto;\n",
       "  }\n",
       "  table, th, td {\n",
       "    border: 1px solid black;\n",
       "    border-collapse: collapse;\n",
       "  }\n",
       "  th, td {\n",
       "    padding: 5px;\n",
       "  }\n",
       "  th {\n",
       "    text-align: left;\n",
       "  }\n",
       "</style><div class='table-result-container'><table class='table-result'><thead style='background-color: white'><tr><th>id</th><th>name</th><th>salary</th><th>city</th><th>year</th><th>month</th><th>title</th><th>rating</th></tr></thead><tbody><tr><td>1</td><td>kiran</td><td>50000</td><td>Chennai</td><td>2012</td><td>8</td><td>Batman</td><td>9.8</td></tr><tr><td>4</td><td>Muthu</td><td>25000</td><td>Chennai</td><td>2011</td><td>7</td><td>Git</td><td>2.0</td></tr><tr><td>7</td><td>Kamal</td><td>85000</td><td>Chennai</td><td>2011</td><td>7</td><td>ADB</td><td>3.8</td></tr></tbody></table></div>"
      ]
     },
     "metadata": {
      "application/vnd.databricks.v1+output": {
       "addedWidgets": {},
       "aggData": [],
       "aggError": "",
       "aggOverflow": false,
       "aggSchema": [],
       "aggSeriesLimitReached": false,
       "aggType": "",
       "arguments": {},
       "columnCustomDisplayInfos": {},
       "data": [
        [
         1,
         "kiran",
         50000,
         "Chennai",
         2012,
         8,
         "Batman",
         9.8
        ],
        [
         4,
         "Muthu",
         25000,
         "Chennai",
         2011,
         7,
         "Git",
         2.0
        ],
        [
         7,
         "Kamal",
         85000,
         "Chennai",
         2011,
         7,
         "ADB",
         3.8
        ]
       ],
       "datasetInfos": [],
       "dbfsResultPath": null,
       "isJsonSchema": true,
       "metadata": {},
       "overflow": false,
       "plotOptions": {
        "customPlotOptions": {},
        "displayType": "table",
        "pivotAggregation": null,
        "pivotColumns": null,
        "xColumns": null,
        "yColumns": null
       },
       "removedWidgets": [],
       "schema": [
        {
         "metadata": "{}",
         "name": "id",
         "type": "\"integer\""
        },
        {
         "metadata": "{}",
         "name": "name",
         "type": "\"string\""
        },
        {
         "metadata": "{}",
         "name": "salary",
         "type": "\"integer\""
        },
        {
         "metadata": "{}",
         "name": "city",
         "type": "\"string\""
        },
        {
         "metadata": "{}",
         "name": "year",
         "type": "\"integer\""
        },
        {
         "metadata": "{}",
         "name": "month",
         "type": "\"integer\""
        },
        {
         "metadata": "{}",
         "name": "title",
         "type": "\"string\""
        },
        {
         "metadata": "{}",
         "name": "rating",
         "type": "\"double\""
        }
       ],
       "type": "table"
      }
     },
     "output_type": "display_data"
    }
   ],
   "source": [
    "df2_schema.filter(\"city == 'Chennai'\").display()"
   ]
  },
  {
   "cell_type": "code",
   "execution_count": 0,
   "metadata": {
    "application/vnd.databricks.v1+cell": {
     "cellMetadata": {
      "byteLimit": 2048000,
      "rowLimit": 10000
     },
     "inputWidgets": {},
     "nuid": "d7d701f7-e37c-4862-8d3b-5af3f813958c",
     "showTitle": false,
     "tableResultSettingsMap": {},
     "title": ""
    }
   },
   "outputs": [
    {
     "output_type": "display_data",
     "data": {
      "text/html": [
       "<style scoped>\n",
       "  .table-result-container {\n",
       "    max-height: 300px;\n",
       "    overflow: auto;\n",
       "  }\n",
       "  table, th, td {\n",
       "    border: 1px solid black;\n",
       "    border-collapse: collapse;\n",
       "  }\n",
       "  th, td {\n",
       "    padding: 5px;\n",
       "  }\n",
       "  th {\n",
       "    text-align: left;\n",
       "  }\n",
       "</style><div class='table-result-container'><table class='table-result'><thead style='background-color: white'><tr><th>id</th><th>name</th><th>salary</th><th>city</th><th>year</th><th>month</th><th>title</th><th>rating</th></tr></thead><tbody><tr><td>5</td><td>Nirmal</td><td>35000</td><td>Nasik</td><td>2011</td><td>8</td><td>Azure</td><td>2.5</td></tr><tr><td>4</td><td>Muthu</td><td>25000</td><td>Chennai</td><td>2011</td><td>7</td><td>Git</td><td>2.0</td></tr><tr><td>7</td><td>Kamal</td><td>85000</td><td>Chennai</td><td>2011</td><td>7</td><td>ADB</td><td>3.8</td></tr><tr><td>8</td><td>Kiran</td><td>95000</td><td>Nasik</td><td>2011</td><td>8</td><td>Azure</td><td>4.5</td></tr></tbody></table></div>"
      ]
     },
     "metadata": {
      "application/vnd.databricks.v1+output": {
       "addedWidgets": {},
       "aggData": [],
       "aggError": "",
       "aggOverflow": false,
       "aggSchema": [],
       "aggSeriesLimitReached": false,
       "aggType": "",
       "arguments": {},
       "columnCustomDisplayInfos": {},
       "data": [
        [
         5,
         "Nirmal",
         35000,
         "Nasik",
         2011,
         8,
         "Azure",
         2.5
        ],
        [
         4,
         "Muthu",
         25000,
         "Chennai",
         2011,
         7,
         "Git",
         2.0
        ],
        [
         7,
         "Kamal",
         85000,
         "Chennai",
         2011,
         7,
         "ADB",
         3.8
        ],
        [
         8,
         "Kiran",
         95000,
         "Nasik",
         2011,
         8,
         "Azure",
         4.5
        ]
       ],
       "datasetInfos": [],
       "dbfsResultPath": null,
       "isJsonSchema": true,
       "metadata": {},
       "overflow": false,
       "plotOptions": {
        "customPlotOptions": {},
        "displayType": "table",
        "pivotAggregation": null,
        "pivotColumns": null,
        "xColumns": null,
        "yColumns": null
       },
       "removedWidgets": [],
       "schema": [
        {
         "metadata": "{}",
         "name": "id",
         "type": "\"integer\""
        },
        {
         "metadata": "{}",
         "name": "name",
         "type": "\"string\""
        },
        {
         "metadata": "{}",
         "name": "salary",
         "type": "\"integer\""
        },
        {
         "metadata": "{}",
         "name": "city",
         "type": "\"string\""
        },
        {
         "metadata": "{}",
         "name": "year",
         "type": "\"integer\""
        },
        {
         "metadata": "{}",
         "name": "month",
         "type": "\"integer\""
        },
        {
         "metadata": "{}",
         "name": "title",
         "type": "\"string\""
        },
        {
         "metadata": "{}",
         "name": "rating",
         "type": "\"double\""
        }
       ],
       "type": "table"
      }
     },
     "output_type": "display_data"
    }
   ],
   "source": [
    "df2_schema.filter(\"year == 2011\").display()"
   ]
  },
  {
   "cell_type": "code",
   "execution_count": 0,
   "metadata": {
    "application/vnd.databricks.v1+cell": {
     "cellMetadata": {
      "byteLimit": 2048000,
      "rowLimit": 10000
     },
     "inputWidgets": {},
     "nuid": "bbb8c0b8-68e4-4e3a-8690-b191ee9ed70b",
     "showTitle": false,
     "tableResultSettingsMap": {},
     "title": ""
    }
   },
   "outputs": [
    {
     "output_type": "display_data",
     "data": {
      "text/html": [
       "<style scoped>\n",
       "  .table-result-container {\n",
       "    max-height: 300px;\n",
       "    overflow: auto;\n",
       "  }\n",
       "  table, th, td {\n",
       "    border: 1px solid black;\n",
       "    border-collapse: collapse;\n",
       "  }\n",
       "  th, td {\n",
       "    padding: 5px;\n",
       "  }\n",
       "  th {\n",
       "    text-align: left;\n",
       "  }\n",
       "</style><div class='table-result-container'><table class='table-result'><thead style='background-color: white'><tr><th>id</th><th>name</th><th>salary</th><th>city</th><th>year</th><th>month</th><th>title</th><th>rating</th><th>full_name</th></tr></thead><tbody><tr><td>3</td><td>Mithun</td><td>55000</td><td>Hyderabad</td><td>2012</td><td>7</td><td>Robot</td><td>5.5</td><td>Mithun, Robot</td></tr><tr><td>2</td><td>Jayesh</td><td>60000</td><td>Bangalore</td><td>2012</td><td>8</td><td>Hero</td><td>8.7</td><td>Jayesh, Hero</td></tr><tr><td>1</td><td>kiran</td><td>50000</td><td>Chennai</td><td>2012</td><td>8</td><td>Batman</td><td>9.8</td><td>kiran, Batman</td></tr><tr><td>6</td><td>Naresh</td><td>65000</td><td>Hyderabad</td><td>2012</td><td>7</td><td>ADF</td><td>6.5</td><td>Naresh, ADF</td></tr><tr><td>5</td><td>Nirmal</td><td>35000</td><td>Nasik</td><td>2011</td><td>8</td><td>Azure</td><td>2.5</td><td>Nirmal, Azure</td></tr><tr><td>4</td><td>Muthu</td><td>25000</td><td>Chennai</td><td>2011</td><td>7</td><td>Git</td><td>2.0</td><td>Muthu, Git</td></tr><tr><td>7</td><td>Kamal</td><td>85000</td><td>Chennai</td><td>2011</td><td>7</td><td>ADB</td><td>3.8</td><td>Kamal, ADB</td></tr><tr><td>8</td><td>Kiran</td><td>95000</td><td>Nasik</td><td>2011</td><td>8</td><td>Azure</td><td>4.5</td><td>Kiran, Azure</td></tr></tbody></table></div>"
      ]
     },
     "metadata": {
      "application/vnd.databricks.v1+output": {
       "addedWidgets": {},
       "aggData": [],
       "aggError": "",
       "aggOverflow": false,
       "aggSchema": [],
       "aggSeriesLimitReached": false,
       "aggType": "",
       "arguments": {},
       "columnCustomDisplayInfos": {},
       "data": [
        [
         3,
         "Mithun",
         55000,
         "Hyderabad",
         2012,
         7,
         "Robot",
         5.5,
         "Mithun, Robot"
        ],
        [
         2,
         "Jayesh",
         60000,
         "Bangalore",
         2012,
         8,
         "Hero",
         8.7,
         "Jayesh, Hero"
        ],
        [
         1,
         "kiran",
         50000,
         "Chennai",
         2012,
         8,
         "Batman",
         9.8,
         "kiran, Batman"
        ],
        [
         6,
         "Naresh",
         65000,
         "Hyderabad",
         2012,
         7,
         "ADF",
         6.5,
         "Naresh, ADF"
        ],
        [
         5,
         "Nirmal",
         35000,
         "Nasik",
         2011,
         8,
         "Azure",
         2.5,
         "Nirmal, Azure"
        ],
        [
         4,
         "Muthu",
         25000,
         "Chennai",
         2011,
         7,
         "Git",
         2.0,
         "Muthu, Git"
        ],
        [
         7,
         "Kamal",
         85000,
         "Chennai",
         2011,
         7,
         "ADB",
         3.8,
         "Kamal, ADB"
        ],
        [
         8,
         "Kiran",
         95000,
         "Nasik",
         2011,
         8,
         "Azure",
         4.5,
         "Kiran, Azure"
        ]
       ],
       "datasetInfos": [],
       "dbfsResultPath": null,
       "isJsonSchema": true,
       "metadata": {},
       "overflow": false,
       "plotOptions": {
        "customPlotOptions": {},
        "displayType": "table",
        "pivotAggregation": null,
        "pivotColumns": null,
        "xColumns": null,
        "yColumns": null
       },
       "removedWidgets": [],
       "schema": [
        {
         "metadata": "{}",
         "name": "id",
         "type": "\"integer\""
        },
        {
         "metadata": "{}",
         "name": "name",
         "type": "\"string\""
        },
        {
         "metadata": "{}",
         "name": "salary",
         "type": "\"integer\""
        },
        {
         "metadata": "{}",
         "name": "city",
         "type": "\"string\""
        },
        {
         "metadata": "{}",
         "name": "year",
         "type": "\"integer\""
        },
        {
         "metadata": "{}",
         "name": "month",
         "type": "\"integer\""
        },
        {
         "metadata": "{}",
         "name": "title",
         "type": "\"string\""
        },
        {
         "metadata": "{}",
         "name": "rating",
         "type": "\"double\""
        },
        {
         "metadata": "{}",
         "name": "full_name",
         "type": "\"string\""
        }
       ],
       "type": "table"
      }
     },
     "output_type": "display_data"
    }
   ],
   "source": [
    "from pyspark.sql.functions import concat_ws\n",
    "df2_schema = df2_schema.withColumn(\"full_name\", concat_ws(\", \", \"name\", \"title\"))\n",
    "display(df2_schema)"
   ]
  },
  {
   "cell_type": "code",
   "execution_count": 0,
   "metadata": {
    "application/vnd.databricks.v1+cell": {
     "cellMetadata": {
      "byteLimit": 2048000,
      "rowLimit": 10000
     },
     "inputWidgets": {},
     "nuid": "52541846-e087-46ab-92d9-dc4b1be367a5",
     "showTitle": false,
     "tableResultSettingsMap": {},
     "title": ""
    }
   },
   "outputs": [],
   "source": [
    "# Write DataFrame to Avro\n",
    "df2_schema.write.format(\"avro\").mode(\"overwrite\").save(\"dbfs:/FileStore/tables/avro/Employee_data_schema/\")"
   ]
  },
  {
   "cell_type": "code",
   "execution_count": 0,
   "metadata": {
    "application/vnd.databricks.v1+cell": {
     "cellMetadata": {
      "byteLimit": 2048000,
      "rowLimit": 10000
     },
     "inputWidgets": {},
     "nuid": "9e2cb48e-34d0-4382-ad6c-55ee2578616c",
     "showTitle": false,
     "tableResultSettingsMap": {},
     "title": ""
    }
   },
   "outputs": [
    {
     "output_type": "display_data",
     "data": {
      "text/html": [
       "<style scoped>\n",
       "  .table-result-container {\n",
       "    max-height: 300px;\n",
       "    overflow: auto;\n",
       "  }\n",
       "  table, th, td {\n",
       "    border: 1px solid black;\n",
       "    border-collapse: collapse;\n",
       "  }\n",
       "  th, td {\n",
       "    padding: 5px;\n",
       "  }\n",
       "  th {\n",
       "    text-align: left;\n",
       "  }\n",
       "</style><div class='table-result-container'><table class='table-result'><thead style='background-color: white'><tr><th>id</th><th>name</th><th>salary</th><th>city</th><th>year</th><th>month</th><th>title</th><th>rating</th><th>full_name</th></tr></thead><tbody><tr><td>3</td><td>Mithun</td><td>55000</td><td>Hyderabad</td><td>2012</td><td>7</td><td>Robot</td><td>5.5</td><td>Mithun, Robot</td></tr><tr><td>1</td><td>kiran</td><td>50000</td><td>Chennai</td><td>2012</td><td>8</td><td>Batman</td><td>9.8</td><td>kiran, Batman</td></tr><tr><td>2</td><td>Jayesh</td><td>60000</td><td>Bangalore</td><td>2012</td><td>8</td><td>Hero</td><td>8.7</td><td>Jayesh, Hero</td></tr><tr><td>6</td><td>Naresh</td><td>65000</td><td>Hyderabad</td><td>2012</td><td>7</td><td>ADF</td><td>6.5</td><td>Naresh, ADF</td></tr><tr><td>5</td><td>Nirmal</td><td>35000</td><td>Nasik</td><td>2011</td><td>8</td><td>Azure</td><td>2.5</td><td>Nirmal, Azure</td></tr><tr><td>7</td><td>Kamal</td><td>85000</td><td>Chennai</td><td>2011</td><td>7</td><td>ADB</td><td>3.8</td><td>Kamal, ADB</td></tr><tr><td>8</td><td>Kiran</td><td>95000</td><td>Nasik</td><td>2011</td><td>8</td><td>Azure</td><td>4.5</td><td>Kiran, Azure</td></tr><tr><td>4</td><td>Muthu</td><td>25000</td><td>Chennai</td><td>2011</td><td>7</td><td>Git</td><td>2.0</td><td>Muthu, Git</td></tr></tbody></table></div>"
      ]
     },
     "metadata": {
      "application/vnd.databricks.v1+output": {
       "addedWidgets": {},
       "aggData": [],
       "aggError": "",
       "aggOverflow": false,
       "aggSchema": [],
       "aggSeriesLimitReached": false,
       "aggType": "",
       "arguments": {},
       "columnCustomDisplayInfos": {},
       "data": [
        [
         3,
         "Mithun",
         55000,
         "Hyderabad",
         2012,
         7,
         "Robot",
         5.5,
         "Mithun, Robot"
        ],
        [
         1,
         "kiran",
         50000,
         "Chennai",
         2012,
         8,
         "Batman",
         9.8,
         "kiran, Batman"
        ],
        [
         2,
         "Jayesh",
         60000,
         "Bangalore",
         2012,
         8,
         "Hero",
         8.7,
         "Jayesh, Hero"
        ],
        [
         6,
         "Naresh",
         65000,
         "Hyderabad",
         2012,
         7,
         "ADF",
         6.5,
         "Naresh, ADF"
        ],
        [
         5,
         "Nirmal",
         35000,
         "Nasik",
         2011,
         8,
         "Azure",
         2.5,
         "Nirmal, Azure"
        ],
        [
         7,
         "Kamal",
         85000,
         "Chennai",
         2011,
         7,
         "ADB",
         3.8,
         "Kamal, ADB"
        ],
        [
         8,
         "Kiran",
         95000,
         "Nasik",
         2011,
         8,
         "Azure",
         4.5,
         "Kiran, Azure"
        ],
        [
         4,
         "Muthu",
         25000,
         "Chennai",
         2011,
         7,
         "Git",
         2.0,
         "Muthu, Git"
        ]
       ],
       "datasetInfos": [],
       "dbfsResultPath": null,
       "isJsonSchema": true,
       "metadata": {},
       "overflow": false,
       "plotOptions": {
        "customPlotOptions": {},
        "displayType": "table",
        "pivotAggregation": null,
        "pivotColumns": null,
        "xColumns": null,
        "yColumns": null
       },
       "removedWidgets": [],
       "schema": [
        {
         "metadata": "{}",
         "name": "id",
         "type": "\"integer\""
        },
        {
         "metadata": "{}",
         "name": "name",
         "type": "\"string\""
        },
        {
         "metadata": "{}",
         "name": "salary",
         "type": "\"integer\""
        },
        {
         "metadata": "{}",
         "name": "city",
         "type": "\"string\""
        },
        {
         "metadata": "{}",
         "name": "year",
         "type": "\"integer\""
        },
        {
         "metadata": "{}",
         "name": "month",
         "type": "\"integer\""
        },
        {
         "metadata": "{}",
         "name": "title",
         "type": "\"string\""
        },
        {
         "metadata": "{}",
         "name": "rating",
         "type": "\"double\""
        },
        {
         "metadata": "{}",
         "name": "full_name",
         "type": "\"string\""
        }
       ],
       "type": "table"
      }
     },
     "output_type": "display_data"
    }
   ],
   "source": [
    "# Read Avro file with schema\n",
    "df3_schema = spark.read.format(\"avro\").load(\"dbfs:/FileStore/tables/avro/Employee_data_schema/\")\n",
    "\n",
    "# Show DataFrame\n",
    "display(df3_schema)"
   ]
  },
  {
   "cell_type": "code",
   "execution_count": 0,
   "metadata": {
    "application/vnd.databricks.v1+cell": {
     "cellMetadata": {
      "byteLimit": 2048000,
      "rowLimit": 10000
     },
     "inputWidgets": {},
     "nuid": "59ba36a7-5541-43df-8a3f-117b5b286ba3",
     "showTitle": false,
     "tableResultSettingsMap": {},
     "title": ""
    }
   },
   "outputs": [
    {
     "output_type": "display_data",
     "data": {
      "text/html": [
       "<style scoped>\n",
       "  .table-result-container {\n",
       "    max-height: 300px;\n",
       "    overflow: auto;\n",
       "  }\n",
       "  table, th, td {\n",
       "    border: 1px solid black;\n",
       "    border-collapse: collapse;\n",
       "  }\n",
       "  th, td {\n",
       "    padding: 5px;\n",
       "  }\n",
       "  th {\n",
       "    text-align: left;\n",
       "  }\n",
       "</style><div class='table-result-container'><table class='table-result'><thead style='background-color: white'><tr><th>path</th><th>name</th><th>size</th><th>modificationTime</th></tr></thead><tbody><tr><td>dbfs:/FileStore/tables/avro/Employee_data_schema/_SUCCESS</td><td>_SUCCESS</td><td>0</td><td>1739936556000</td></tr><tr><td>dbfs:/FileStore/tables/avro/Employee_data_schema/_committed_5242275188727982932</td><td>_committed_5242275188727982932</td><td>800</td><td>1739935153000</td></tr><tr><td>dbfs:/FileStore/tables/avro/Employee_data_schema/_committed_6295649103379877596</td><td>_committed_6295649103379877596</td><td>1586</td><td>1739936303000</td></tr><tr><td>dbfs:/FileStore/tables/avro/Employee_data_schema/_committed_777174235325077592</td><td>_committed_777174235325077592</td><td>1567</td><td>1739936497000</td></tr><tr><td>dbfs:/FileStore/tables/avro/Employee_data_schema/_committed_7958917076368329786</td><td>_committed_7958917076368329786</td><td>1567</td><td>1739936556000</td></tr><tr><td>dbfs:/FileStore/tables/avro/Employee_data_schema/_started_5242275188727982932</td><td>_started_5242275188727982932</td><td>0</td><td>1739935152000</td></tr><tr><td>dbfs:/FileStore/tables/avro/Employee_data_schema/_started_6295649103379877596</td><td>_started_6295649103379877596</td><td>0</td><td>1739936302000</td></tr><tr><td>dbfs:/FileStore/tables/avro/Employee_data_schema/_started_777174235325077592</td><td>_started_777174235325077592</td><td>0</td><td>1739936496000</td></tr><tr><td>dbfs:/FileStore/tables/avro/Employee_data_schema/_started_7958917076368329786</td><td>_started_7958917076368329786</td><td>0</td><td>1739936555000</td></tr><tr><td>dbfs:/FileStore/tables/avro/Employee_data_schema/part-00000-tid-7958917076368329786-dbbb74aa-1447-4dd9-8b14-13b8ff144aba-357-1-c000.snappy.avro</td><td>part-00000-tid-7958917076368329786-dbbb74aa-1447-4dd9-8b14-13b8ff144aba-357-1-c000.snappy.avro</td><td>577</td><td>1739936556000</td></tr><tr><td>dbfs:/FileStore/tables/avro/Employee_data_schema/part-00001-tid-7958917076368329786-dbbb74aa-1447-4dd9-8b14-13b8ff144aba-358-1-c000.snappy.avro</td><td>part-00001-tid-7958917076368329786-dbbb74aa-1447-4dd9-8b14-13b8ff144aba-358-1-c000.snappy.avro</td><td>575</td><td>1739936555000</td></tr><tr><td>dbfs:/FileStore/tables/avro/Employee_data_schema/part-00002-tid-7958917076368329786-dbbb74aa-1447-4dd9-8b14-13b8ff144aba-359-1-c000.snappy.avro</td><td>part-00002-tid-7958917076368329786-dbbb74aa-1447-4dd9-8b14-13b8ff144aba-359-1-c000.snappy.avro</td><td>577</td><td>1739936556000</td></tr><tr><td>dbfs:/FileStore/tables/avro/Employee_data_schema/part-00003-tid-7958917076368329786-dbbb74aa-1447-4dd9-8b14-13b8ff144aba-360-1-c000.snappy.avro</td><td>part-00003-tid-7958917076368329786-dbbb74aa-1447-4dd9-8b14-13b8ff144aba-360-1-c000.snappy.avro</td><td>572</td><td>1739936556000</td></tr><tr><td>dbfs:/FileStore/tables/avro/Employee_data_schema/part-00004-tid-7958917076368329786-dbbb74aa-1447-4dd9-8b14-13b8ff144aba-361-1-c000.snappy.avro</td><td>part-00004-tid-7958917076368329786-dbbb74aa-1447-4dd9-8b14-13b8ff144aba-361-1-c000.snappy.avro</td><td>572</td><td>1739936556000</td></tr><tr><td>dbfs:/FileStore/tables/avro/Employee_data_schema/part-00005-tid-7958917076368329786-dbbb74aa-1447-4dd9-8b14-13b8ff144aba-362-1-c000.snappy.avro</td><td>part-00005-tid-7958917076368329786-dbbb74aa-1447-4dd9-8b14-13b8ff144aba-362-1-c000.snappy.avro</td><td>566</td><td>1739936556000</td></tr><tr><td>dbfs:/FileStore/tables/avro/Employee_data_schema/part-00006-tid-7958917076368329786-dbbb74aa-1447-4dd9-8b14-13b8ff144aba-363-1-c000.snappy.avro</td><td>part-00006-tid-7958917076368329786-dbbb74aa-1447-4dd9-8b14-13b8ff144aba-363-1-c000.snappy.avro</td><td>569</td><td>1739936555000</td></tr><tr><td>dbfs:/FileStore/tables/avro/Employee_data_schema/part-00007-tid-7958917076368329786-dbbb74aa-1447-4dd9-8b14-13b8ff144aba-364-1-c000.snappy.avro</td><td>part-00007-tid-7958917076368329786-dbbb74aa-1447-4dd9-8b14-13b8ff144aba-364-1-c000.snappy.avro</td><td>568</td><td>1739936556000</td></tr></tbody></table></div>"
      ]
     },
     "metadata": {
      "application/vnd.databricks.v1+output": {
       "addedWidgets": {},
       "aggData": [],
       "aggError": "",
       "aggOverflow": false,
       "aggSchema": [],
       "aggSeriesLimitReached": false,
       "aggType": "",
       "arguments": {},
       "columnCustomDisplayInfos": {},
       "data": [
        [
         "dbfs:/FileStore/tables/avro/Employee_data_schema/_SUCCESS",
         "_SUCCESS",
         0,
         1739936556000
        ],
        [
         "dbfs:/FileStore/tables/avro/Employee_data_schema/_committed_5242275188727982932",
         "_committed_5242275188727982932",
         800,
         1739935153000
        ],
        [
         "dbfs:/FileStore/tables/avro/Employee_data_schema/_committed_6295649103379877596",
         "_committed_6295649103379877596",
         1586,
         1739936303000
        ],
        [
         "dbfs:/FileStore/tables/avro/Employee_data_schema/_committed_777174235325077592",
         "_committed_777174235325077592",
         1567,
         1739936497000
        ],
        [
         "dbfs:/FileStore/tables/avro/Employee_data_schema/_committed_7958917076368329786",
         "_committed_7958917076368329786",
         1567,
         1739936556000
        ],
        [
         "dbfs:/FileStore/tables/avro/Employee_data_schema/_started_5242275188727982932",
         "_started_5242275188727982932",
         0,
         1739935152000
        ],
        [
         "dbfs:/FileStore/tables/avro/Employee_data_schema/_started_6295649103379877596",
         "_started_6295649103379877596",
         0,
         1739936302000
        ],
        [
         "dbfs:/FileStore/tables/avro/Employee_data_schema/_started_777174235325077592",
         "_started_777174235325077592",
         0,
         1739936496000
        ],
        [
         "dbfs:/FileStore/tables/avro/Employee_data_schema/_started_7958917076368329786",
         "_started_7958917076368329786",
         0,
         1739936555000
        ],
        [
         "dbfs:/FileStore/tables/avro/Employee_data_schema/part-00000-tid-7958917076368329786-dbbb74aa-1447-4dd9-8b14-13b8ff144aba-357-1-c000.snappy.avro",
         "part-00000-tid-7958917076368329786-dbbb74aa-1447-4dd9-8b14-13b8ff144aba-357-1-c000.snappy.avro",
         577,
         1739936556000
        ],
        [
         "dbfs:/FileStore/tables/avro/Employee_data_schema/part-00001-tid-7958917076368329786-dbbb74aa-1447-4dd9-8b14-13b8ff144aba-358-1-c000.snappy.avro",
         "part-00001-tid-7958917076368329786-dbbb74aa-1447-4dd9-8b14-13b8ff144aba-358-1-c000.snappy.avro",
         575,
         1739936555000
        ],
        [
         "dbfs:/FileStore/tables/avro/Employee_data_schema/part-00002-tid-7958917076368329786-dbbb74aa-1447-4dd9-8b14-13b8ff144aba-359-1-c000.snappy.avro",
         "part-00002-tid-7958917076368329786-dbbb74aa-1447-4dd9-8b14-13b8ff144aba-359-1-c000.snappy.avro",
         577,
         1739936556000
        ],
        [
         "dbfs:/FileStore/tables/avro/Employee_data_schema/part-00003-tid-7958917076368329786-dbbb74aa-1447-4dd9-8b14-13b8ff144aba-360-1-c000.snappy.avro",
         "part-00003-tid-7958917076368329786-dbbb74aa-1447-4dd9-8b14-13b8ff144aba-360-1-c000.snappy.avro",
         572,
         1739936556000
        ],
        [
         "dbfs:/FileStore/tables/avro/Employee_data_schema/part-00004-tid-7958917076368329786-dbbb74aa-1447-4dd9-8b14-13b8ff144aba-361-1-c000.snappy.avro",
         "part-00004-tid-7958917076368329786-dbbb74aa-1447-4dd9-8b14-13b8ff144aba-361-1-c000.snappy.avro",
         572,
         1739936556000
        ],
        [
         "dbfs:/FileStore/tables/avro/Employee_data_schema/part-00005-tid-7958917076368329786-dbbb74aa-1447-4dd9-8b14-13b8ff144aba-362-1-c000.snappy.avro",
         "part-00005-tid-7958917076368329786-dbbb74aa-1447-4dd9-8b14-13b8ff144aba-362-1-c000.snappy.avro",
         566,
         1739936556000
        ],
        [
         "dbfs:/FileStore/tables/avro/Employee_data_schema/part-00006-tid-7958917076368329786-dbbb74aa-1447-4dd9-8b14-13b8ff144aba-363-1-c000.snappy.avro",
         "part-00006-tid-7958917076368329786-dbbb74aa-1447-4dd9-8b14-13b8ff144aba-363-1-c000.snappy.avro",
         569,
         1739936555000
        ],
        [
         "dbfs:/FileStore/tables/avro/Employee_data_schema/part-00007-tid-7958917076368329786-dbbb74aa-1447-4dd9-8b14-13b8ff144aba-364-1-c000.snappy.avro",
         "part-00007-tid-7958917076368329786-dbbb74aa-1447-4dd9-8b14-13b8ff144aba-364-1-c000.snappy.avro",
         568,
         1739936556000
        ]
       ],
       "datasetInfos": [],
       "dbfsResultPath": null,
       "isJsonSchema": true,
       "metadata": {
        "isDbfsCommandResult": false
       },
       "overflow": false,
       "plotOptions": {
        "customPlotOptions": {},
        "displayType": "table",
        "pivotAggregation": null,
        "pivotColumns": null,
        "xColumns": null,
        "yColumns": null
       },
       "removedWidgets": [],
       "schema": [
        {
         "metadata": "{}",
         "name": "path",
         "type": "\"string\""
        },
        {
         "metadata": "{}",
         "name": "name",
         "type": "\"string\""
        },
        {
         "metadata": "{}",
         "name": "size",
         "type": "\"long\""
        },
        {
         "metadata": "{}",
         "name": "modificationTime",
         "type": "\"long\""
        }
       ],
       "type": "table"
      }
     },
     "output_type": "display_data"
    }
   ],
   "source": [
    "%fs ls dbfs:/FileStore/tables/avro/Employee_data_schema/"
   ]
  },
  {
   "cell_type": "code",
   "execution_count": 0,
   "metadata": {
    "application/vnd.databricks.v1+cell": {
     "cellMetadata": {
      "byteLimit": 2048000,
      "rowLimit": 10000
     },
     "inputWidgets": {},
     "nuid": "2d936825-f2a8-4886-9644-b36af99910fe",
     "showTitle": false,
     "tableResultSettingsMap": {},
     "title": ""
    }
   },
   "outputs": [
    {
     "output_type": "display_data",
     "data": {
      "text/html": [
       "<style scoped>\n",
       "  .table-result-container {\n",
       "    max-height: 300px;\n",
       "    overflow: auto;\n",
       "  }\n",
       "  table, th, td {\n",
       "    border: 1px solid black;\n",
       "    border-collapse: collapse;\n",
       "  }\n",
       "  th, td {\n",
       "    padding: 5px;\n",
       "  }\n",
       "  th {\n",
       "    text-align: left;\n",
       "  }\n",
       "</style><div class='table-result-container'><table class='table-result'><thead style='background-color: white'><tr><th>id</th><th>name</th><th>salary</th><th>city</th><th>year</th><th>month</th><th>title</th><th>rating</th><th>full_name</th></tr></thead><tbody><tr><td>3</td><td>Mithun</td><td>55000</td><td>Hyderabad</td><td>2012</td><td>7</td><td>Robot</td><td>5.5</td><td>Mithun, Robot</td></tr></tbody></table></div>"
      ]
     },
     "metadata": {
      "application/vnd.databricks.v1+output": {
       "addedWidgets": {},
       "aggData": [],
       "aggError": "",
       "aggOverflow": false,
       "aggSchema": [],
       "aggSeriesLimitReached": false,
       "aggType": "",
       "arguments": {},
       "columnCustomDisplayInfos": {},
       "data": [
        [
         3,
         "Mithun",
         55000,
         "Hyderabad",
         2012,
         7,
         "Robot",
         5.5,
         "Mithun, Robot"
        ]
       ],
       "datasetInfos": [],
       "dbfsResultPath": null,
       "isJsonSchema": true,
       "metadata": {},
       "overflow": false,
       "plotOptions": {
        "customPlotOptions": {},
        "displayType": "table",
        "pivotAggregation": null,
        "pivotColumns": null,
        "xColumns": null,
        "yColumns": null
       },
       "removedWidgets": [],
       "schema": [
        {
         "metadata": "{}",
         "name": "id",
         "type": "\"integer\""
        },
        {
         "metadata": "{}",
         "name": "name",
         "type": "\"string\""
        },
        {
         "metadata": "{}",
         "name": "salary",
         "type": "\"integer\""
        },
        {
         "metadata": "{}",
         "name": "city",
         "type": "\"string\""
        },
        {
         "metadata": "{}",
         "name": "year",
         "type": "\"integer\""
        },
        {
         "metadata": "{}",
         "name": "month",
         "type": "\"integer\""
        },
        {
         "metadata": "{}",
         "name": "title",
         "type": "\"string\""
        },
        {
         "metadata": "{}",
         "name": "rating",
         "type": "\"double\""
        },
        {
         "metadata": "{}",
         "name": "full_name",
         "type": "\"string\""
        }
       ],
       "type": "table"
      }
     },
     "output_type": "display_data"
    },
    {
     "output_type": "display_data",
     "data": {
      "text/html": [
       "<style scoped>\n",
       "  .table-result-container {\n",
       "    max-height: 300px;\n",
       "    overflow: auto;\n",
       "  }\n",
       "  table, th, td {\n",
       "    border: 1px solid black;\n",
       "    border-collapse: collapse;\n",
       "  }\n",
       "  th, td {\n",
       "    padding: 5px;\n",
       "  }\n",
       "  th {\n",
       "    text-align: left;\n",
       "  }\n",
       "</style><div class='table-result-container'><table class='table-result'><thead style='background-color: white'><tr><th>id</th><th>name</th><th>salary</th><th>city</th><th>year</th><th>month</th><th>title</th><th>rating</th><th>full_name</th></tr></thead><tbody><tr><td>2</td><td>Jayesh</td><td>60000</td><td>Bangalore</td><td>2012</td><td>8</td><td>Hero</td><td>8.7</td><td>Jayesh, Hero</td></tr></tbody></table></div>"
      ]
     },
     "metadata": {
      "application/vnd.databricks.v1+output": {
       "addedWidgets": {},
       "aggData": [],
       "aggError": "",
       "aggOverflow": false,
       "aggSchema": [],
       "aggSeriesLimitReached": false,
       "aggType": "",
       "arguments": {},
       "columnCustomDisplayInfos": {},
       "data": [
        [
         2,
         "Jayesh",
         60000,
         "Bangalore",
         2012,
         8,
         "Hero",
         8.7,
         "Jayesh, Hero"
        ]
       ],
       "datasetInfos": [],
       "dbfsResultPath": null,
       "isJsonSchema": true,
       "metadata": {},
       "overflow": false,
       "plotOptions": {
        "customPlotOptions": {},
        "displayType": "table",
        "pivotAggregation": null,
        "pivotColumns": null,
        "xColumns": null,
        "yColumns": null
       },
       "removedWidgets": [],
       "schema": [
        {
         "metadata": "{}",
         "name": "id",
         "type": "\"integer\""
        },
        {
         "metadata": "{}",
         "name": "name",
         "type": "\"string\""
        },
        {
         "metadata": "{}",
         "name": "salary",
         "type": "\"integer\""
        },
        {
         "metadata": "{}",
         "name": "city",
         "type": "\"string\""
        },
        {
         "metadata": "{}",
         "name": "year",
         "type": "\"integer\""
        },
        {
         "metadata": "{}",
         "name": "month",
         "type": "\"integer\""
        },
        {
         "metadata": "{}",
         "name": "title",
         "type": "\"string\""
        },
        {
         "metadata": "{}",
         "name": "rating",
         "type": "\"double\""
        },
        {
         "metadata": "{}",
         "name": "full_name",
         "type": "\"string\""
        }
       ],
       "type": "table"
      }
     },
     "output_type": "display_data"
    },
    {
     "output_type": "display_data",
     "data": {
      "text/html": [
       "<style scoped>\n",
       "  .table-result-container {\n",
       "    max-height: 300px;\n",
       "    overflow: auto;\n",
       "  }\n",
       "  table, th, td {\n",
       "    border: 1px solid black;\n",
       "    border-collapse: collapse;\n",
       "  }\n",
       "  th, td {\n",
       "    padding: 5px;\n",
       "  }\n",
       "  th {\n",
       "    text-align: left;\n",
       "  }\n",
       "</style><div class='table-result-container'><table class='table-result'><thead style='background-color: white'><tr><th>id</th><th>name</th><th>salary</th><th>city</th><th>year</th><th>month</th><th>title</th><th>rating</th><th>full_name</th></tr></thead><tbody><tr><td>1</td><td>kiran</td><td>50000</td><td>Chennai</td><td>2012</td><td>8</td><td>Batman</td><td>9.8</td><td>kiran, Batman</td></tr></tbody></table></div>"
      ]
     },
     "metadata": {
      "application/vnd.databricks.v1+output": {
       "addedWidgets": {},
       "aggData": [],
       "aggError": "",
       "aggOverflow": false,
       "aggSchema": [],
       "aggSeriesLimitReached": false,
       "aggType": "",
       "arguments": {},
       "columnCustomDisplayInfos": {},
       "data": [
        [
         1,
         "kiran",
         50000,
         "Chennai",
         2012,
         8,
         "Batman",
         9.8,
         "kiran, Batman"
        ]
       ],
       "datasetInfos": [],
       "dbfsResultPath": null,
       "isJsonSchema": true,
       "metadata": {},
       "overflow": false,
       "plotOptions": {
        "customPlotOptions": {},
        "displayType": "table",
        "pivotAggregation": null,
        "pivotColumns": null,
        "xColumns": null,
        "yColumns": null
       },
       "removedWidgets": [],
       "schema": [
        {
         "metadata": "{}",
         "name": "id",
         "type": "\"integer\""
        },
        {
         "metadata": "{}",
         "name": "name",
         "type": "\"string\""
        },
        {
         "metadata": "{}",
         "name": "salary",
         "type": "\"integer\""
        },
        {
         "metadata": "{}",
         "name": "city",
         "type": "\"string\""
        },
        {
         "metadata": "{}",
         "name": "year",
         "type": "\"integer\""
        },
        {
         "metadata": "{}",
         "name": "month",
         "type": "\"integer\""
        },
        {
         "metadata": "{}",
         "name": "title",
         "type": "\"string\""
        },
        {
         "metadata": "{}",
         "name": "rating",
         "type": "\"double\""
        },
        {
         "metadata": "{}",
         "name": "full_name",
         "type": "\"string\""
        }
       ],
       "type": "table"
      }
     },
     "output_type": "display_data"
    },
    {
     "output_type": "display_data",
     "data": {
      "text/html": [
       "<style scoped>\n",
       "  .table-result-container {\n",
       "    max-height: 300px;\n",
       "    overflow: auto;\n",
       "  }\n",
       "  table, th, td {\n",
       "    border: 1px solid black;\n",
       "    border-collapse: collapse;\n",
       "  }\n",
       "  th, td {\n",
       "    padding: 5px;\n",
       "  }\n",
       "  th {\n",
       "    text-align: left;\n",
       "  }\n",
       "</style><div class='table-result-container'><table class='table-result'><thead style='background-color: white'><tr><th>id</th><th>name</th><th>salary</th><th>city</th><th>year</th><th>month</th><th>title</th><th>rating</th><th>full_name</th></tr></thead><tbody><tr><td>6</td><td>Naresh</td><td>65000</td><td>Hyderabad</td><td>2012</td><td>7</td><td>ADF</td><td>6.5</td><td>Naresh, ADF</td></tr></tbody></table></div>"
      ]
     },
     "metadata": {
      "application/vnd.databricks.v1+output": {
       "addedWidgets": {},
       "aggData": [],
       "aggError": "",
       "aggOverflow": false,
       "aggSchema": [],
       "aggSeriesLimitReached": false,
       "aggType": "",
       "arguments": {},
       "columnCustomDisplayInfos": {},
       "data": [
        [
         6,
         "Naresh",
         65000,
         "Hyderabad",
         2012,
         7,
         "ADF",
         6.5,
         "Naresh, ADF"
        ]
       ],
       "datasetInfos": [],
       "dbfsResultPath": null,
       "isJsonSchema": true,
       "metadata": {},
       "overflow": false,
       "plotOptions": {
        "customPlotOptions": {},
        "displayType": "table",
        "pivotAggregation": null,
        "pivotColumns": null,
        "xColumns": null,
        "yColumns": null
       },
       "removedWidgets": [],
       "schema": [
        {
         "metadata": "{}",
         "name": "id",
         "type": "\"integer\""
        },
        {
         "metadata": "{}",
         "name": "name",
         "type": "\"string\""
        },
        {
         "metadata": "{}",
         "name": "salary",
         "type": "\"integer\""
        },
        {
         "metadata": "{}",
         "name": "city",
         "type": "\"string\""
        },
        {
         "metadata": "{}",
         "name": "year",
         "type": "\"integer\""
        },
        {
         "metadata": "{}",
         "name": "month",
         "type": "\"integer\""
        },
        {
         "metadata": "{}",
         "name": "title",
         "type": "\"string\""
        },
        {
         "metadata": "{}",
         "name": "rating",
         "type": "\"double\""
        },
        {
         "metadata": "{}",
         "name": "full_name",
         "type": "\"string\""
        }
       ],
       "type": "table"
      }
     },
     "output_type": "display_data"
    },
    {
     "output_type": "display_data",
     "data": {
      "text/html": [
       "<style scoped>\n",
       "  .table-result-container {\n",
       "    max-height: 300px;\n",
       "    overflow: auto;\n",
       "  }\n",
       "  table, th, td {\n",
       "    border: 1px solid black;\n",
       "    border-collapse: collapse;\n",
       "  }\n",
       "  th, td {\n",
       "    padding: 5px;\n",
       "  }\n",
       "  th {\n",
       "    text-align: left;\n",
       "  }\n",
       "</style><div class='table-result-container'><table class='table-result'><thead style='background-color: white'><tr><th>id</th><th>name</th><th>salary</th><th>city</th><th>year</th><th>month</th><th>title</th><th>rating</th><th>full_name</th></tr></thead><tbody><tr><td>5</td><td>Nirmal</td><td>35000</td><td>Nasik</td><td>2011</td><td>8</td><td>Azure</td><td>2.5</td><td>Nirmal, Azure</td></tr></tbody></table></div>"
      ]
     },
     "metadata": {
      "application/vnd.databricks.v1+output": {
       "addedWidgets": {},
       "aggData": [],
       "aggError": "",
       "aggOverflow": false,
       "aggSchema": [],
       "aggSeriesLimitReached": false,
       "aggType": "",
       "arguments": {},
       "columnCustomDisplayInfos": {},
       "data": [
        [
         5,
         "Nirmal",
         35000,
         "Nasik",
         2011,
         8,
         "Azure",
         2.5,
         "Nirmal, Azure"
        ]
       ],
       "datasetInfos": [],
       "dbfsResultPath": null,
       "isJsonSchema": true,
       "metadata": {},
       "overflow": false,
       "plotOptions": {
        "customPlotOptions": {},
        "displayType": "table",
        "pivotAggregation": null,
        "pivotColumns": null,
        "xColumns": null,
        "yColumns": null
       },
       "removedWidgets": [],
       "schema": [
        {
         "metadata": "{}",
         "name": "id",
         "type": "\"integer\""
        },
        {
         "metadata": "{}",
         "name": "name",
         "type": "\"string\""
        },
        {
         "metadata": "{}",
         "name": "salary",
         "type": "\"integer\""
        },
        {
         "metadata": "{}",
         "name": "city",
         "type": "\"string\""
        },
        {
         "metadata": "{}",
         "name": "year",
         "type": "\"integer\""
        },
        {
         "metadata": "{}",
         "name": "month",
         "type": "\"integer\""
        },
        {
         "metadata": "{}",
         "name": "title",
         "type": "\"string\""
        },
        {
         "metadata": "{}",
         "name": "rating",
         "type": "\"double\""
        },
        {
         "metadata": "{}",
         "name": "full_name",
         "type": "\"string\""
        }
       ],
       "type": "table"
      }
     },
     "output_type": "display_data"
    },
    {
     "output_type": "display_data",
     "data": {
      "text/html": [
       "<style scoped>\n",
       "  .table-result-container {\n",
       "    max-height: 300px;\n",
       "    overflow: auto;\n",
       "  }\n",
       "  table, th, td {\n",
       "    border: 1px solid black;\n",
       "    border-collapse: collapse;\n",
       "  }\n",
       "  th, td {\n",
       "    padding: 5px;\n",
       "  }\n",
       "  th {\n",
       "    text-align: left;\n",
       "  }\n",
       "</style><div class='table-result-container'><table class='table-result'><thead style='background-color: white'><tr><th>id</th><th>name</th><th>salary</th><th>city</th><th>year</th><th>month</th><th>title</th><th>rating</th><th>full_name</th></tr></thead><tbody><tr><td>4</td><td>Muthu</td><td>25000</td><td>Chennai</td><td>2011</td><td>7</td><td>Git</td><td>2.0</td><td>Muthu, Git</td></tr></tbody></table></div>"
      ]
     },
     "metadata": {
      "application/vnd.databricks.v1+output": {
       "addedWidgets": {},
       "aggData": [],
       "aggError": "",
       "aggOverflow": false,
       "aggSchema": [],
       "aggSeriesLimitReached": false,
       "aggType": "",
       "arguments": {},
       "columnCustomDisplayInfos": {},
       "data": [
        [
         4,
         "Muthu",
         25000,
         "Chennai",
         2011,
         7,
         "Git",
         2.0,
         "Muthu, Git"
        ]
       ],
       "datasetInfos": [],
       "dbfsResultPath": null,
       "isJsonSchema": true,
       "metadata": {},
       "overflow": false,
       "plotOptions": {
        "customPlotOptions": {},
        "displayType": "table",
        "pivotAggregation": null,
        "pivotColumns": null,
        "xColumns": null,
        "yColumns": null
       },
       "removedWidgets": [],
       "schema": [
        {
         "metadata": "{}",
         "name": "id",
         "type": "\"integer\""
        },
        {
         "metadata": "{}",
         "name": "name",
         "type": "\"string\""
        },
        {
         "metadata": "{}",
         "name": "salary",
         "type": "\"integer\""
        },
        {
         "metadata": "{}",
         "name": "city",
         "type": "\"string\""
        },
        {
         "metadata": "{}",
         "name": "year",
         "type": "\"integer\""
        },
        {
         "metadata": "{}",
         "name": "month",
         "type": "\"integer\""
        },
        {
         "metadata": "{}",
         "name": "title",
         "type": "\"string\""
        },
        {
         "metadata": "{}",
         "name": "rating",
         "type": "\"double\""
        },
        {
         "metadata": "{}",
         "name": "full_name",
         "type": "\"string\""
        }
       ],
       "type": "table"
      }
     },
     "output_type": "display_data"
    },
    {
     "output_type": "display_data",
     "data": {
      "text/html": [
       "<style scoped>\n",
       "  .table-result-container {\n",
       "    max-height: 300px;\n",
       "    overflow: auto;\n",
       "  }\n",
       "  table, th, td {\n",
       "    border: 1px solid black;\n",
       "    border-collapse: collapse;\n",
       "  }\n",
       "  th, td {\n",
       "    padding: 5px;\n",
       "  }\n",
       "  th {\n",
       "    text-align: left;\n",
       "  }\n",
       "</style><div class='table-result-container'><table class='table-result'><thead style='background-color: white'><tr><th>id</th><th>name</th><th>salary</th><th>city</th><th>year</th><th>month</th><th>title</th><th>rating</th><th>full_name</th></tr></thead><tbody><tr><td>7</td><td>Kamal</td><td>85000</td><td>Chennai</td><td>2011</td><td>7</td><td>ADB</td><td>3.8</td><td>Kamal, ADB</td></tr></tbody></table></div>"
      ]
     },
     "metadata": {
      "application/vnd.databricks.v1+output": {
       "addedWidgets": {},
       "aggData": [],
       "aggError": "",
       "aggOverflow": false,
       "aggSchema": [],
       "aggSeriesLimitReached": false,
       "aggType": "",
       "arguments": {},
       "columnCustomDisplayInfos": {},
       "data": [
        [
         7,
         "Kamal",
         85000,
         "Chennai",
         2011,
         7,
         "ADB",
         3.8,
         "Kamal, ADB"
        ]
       ],
       "datasetInfos": [],
       "dbfsResultPath": null,
       "isJsonSchema": true,
       "metadata": {},
       "overflow": false,
       "plotOptions": {
        "customPlotOptions": {},
        "displayType": "table",
        "pivotAggregation": null,
        "pivotColumns": null,
        "xColumns": null,
        "yColumns": null
       },
       "removedWidgets": [],
       "schema": [
        {
         "metadata": "{}",
         "name": "id",
         "type": "\"integer\""
        },
        {
         "metadata": "{}",
         "name": "name",
         "type": "\"string\""
        },
        {
         "metadata": "{}",
         "name": "salary",
         "type": "\"integer\""
        },
        {
         "metadata": "{}",
         "name": "city",
         "type": "\"string\""
        },
        {
         "metadata": "{}",
         "name": "year",
         "type": "\"integer\""
        },
        {
         "metadata": "{}",
         "name": "month",
         "type": "\"integer\""
        },
        {
         "metadata": "{}",
         "name": "title",
         "type": "\"string\""
        },
        {
         "metadata": "{}",
         "name": "rating",
         "type": "\"double\""
        },
        {
         "metadata": "{}",
         "name": "full_name",
         "type": "\"string\""
        }
       ],
       "type": "table"
      }
     },
     "output_type": "display_data"
    },
    {
     "output_type": "display_data",
     "data": {
      "text/html": [
       "<style scoped>\n",
       "  .table-result-container {\n",
       "    max-height: 300px;\n",
       "    overflow: auto;\n",
       "  }\n",
       "  table, th, td {\n",
       "    border: 1px solid black;\n",
       "    border-collapse: collapse;\n",
       "  }\n",
       "  th, td {\n",
       "    padding: 5px;\n",
       "  }\n",
       "  th {\n",
       "    text-align: left;\n",
       "  }\n",
       "</style><div class='table-result-container'><table class='table-result'><thead style='background-color: white'><tr><th>id</th><th>name</th><th>salary</th><th>city</th><th>year</th><th>month</th><th>title</th><th>rating</th><th>full_name</th></tr></thead><tbody><tr><td>8</td><td>Kiran</td><td>95000</td><td>Nasik</td><td>2011</td><td>8</td><td>Azure</td><td>4.5</td><td>Kiran, Azure</td></tr></tbody></table></div>"
      ]
     },
     "metadata": {
      "application/vnd.databricks.v1+output": {
       "addedWidgets": {},
       "aggData": [],
       "aggError": "",
       "aggOverflow": false,
       "aggSchema": [],
       "aggSeriesLimitReached": false,
       "aggType": "",
       "arguments": {},
       "columnCustomDisplayInfos": {},
       "data": [
        [
         8,
         "Kiran",
         95000,
         "Nasik",
         2011,
         8,
         "Azure",
         4.5,
         "Kiran, Azure"
        ]
       ],
       "datasetInfos": [],
       "dbfsResultPath": null,
       "isJsonSchema": true,
       "metadata": {},
       "overflow": false,
       "plotOptions": {
        "customPlotOptions": {},
        "displayType": "table",
        "pivotAggregation": null,
        "pivotColumns": null,
        "xColumns": null,
        "yColumns": null
       },
       "removedWidgets": [],
       "schema": [
        {
         "metadata": "{}",
         "name": "id",
         "type": "\"integer\""
        },
        {
         "metadata": "{}",
         "name": "name",
         "type": "\"string\""
        },
        {
         "metadata": "{}",
         "name": "salary",
         "type": "\"integer\""
        },
        {
         "metadata": "{}",
         "name": "city",
         "type": "\"string\""
        },
        {
         "metadata": "{}",
         "name": "year",
         "type": "\"integer\""
        },
        {
         "metadata": "{}",
         "name": "month",
         "type": "\"integer\""
        },
        {
         "metadata": "{}",
         "name": "title",
         "type": "\"string\""
        },
        {
         "metadata": "{}",
         "name": "rating",
         "type": "\"double\""
        },
        {
         "metadata": "{}",
         "name": "full_name",
         "type": "\"string\""
        }
       ],
       "type": "table"
      }
     },
     "output_type": "display_data"
    }
   ],
   "source": [
    "spark.read.format(\"avro\").load(\"dbfs:/FileStore/tables/avro/Employee_data_schema/part-00000-tid-7958917076368329786-dbbb74aa-1447-4dd9-8b14-13b8ff144aba-357-1-c000.snappy.avro\").display()\n",
    "\n",
    "spark.read.format(\"avro\").load(\"dbfs:/FileStore/tables/avro/Employee_data_schema/part-00001-tid-7958917076368329786-dbbb74aa-1447-4dd9-8b14-13b8ff144aba-358-1-c000.snappy.avro\").display()\n",
    "\n",
    "spark.read.format(\"avro\").load(\"dbfs:/FileStore/tables/avro/Employee_data_schema/part-00002-tid-7958917076368329786-dbbb74aa-1447-4dd9-8b14-13b8ff144aba-359-1-c000.snappy.avro\").display()\n",
    "\n",
    "spark.read.format(\"avro\").load(\"dbfs:/FileStore/tables/avro/Employee_data_schema/part-00003-tid-7958917076368329786-dbbb74aa-1447-4dd9-8b14-13b8ff144aba-360-1-c000.snappy.avro\").display()\n",
    "\n",
    "spark.read.format(\"avro\").load(\"dbfs:/FileStore/tables/avro/Employee_data_schema/part-00004-tid-7958917076368329786-dbbb74aa-1447-4dd9-8b14-13b8ff144aba-361-1-c000.snappy.avro\").display()\n",
    "\n",
    "spark.read.format(\"avro\").load(\"dbfs:/FileStore/tables/avro/Employee_data_schema/part-00005-tid-7958917076368329786-dbbb74aa-1447-4dd9-8b14-13b8ff144aba-362-1-c000.snappy.avro\").display()\n",
    "\n",
    "spark.read.format(\"avro\").load(\"dbfs:/FileStore/tables/avro/Employee_data_schema/part-00006-tid-7958917076368329786-dbbb74aa-1447-4dd9-8b14-13b8ff144aba-363-1-c000.snappy.avro\").display()\n",
    "\n",
    "spark.read.format(\"avro\").load(\"dbfs:/FileStore/tables/avro/Employee_data_schema/part-00007-tid-7958917076368329786-dbbb74aa-1447-4dd9-8b14-13b8ff144aba-364-1-c000.snappy.avro\").display()"
   ]
  }
 ],
 "metadata": {
  "application/vnd.databricks.v1+notebook": {
   "computePreferences": null,
   "dashboards": [],
   "environmentMetadata": null,
   "language": "python",
   "notebookMetadata": {
    "mostRecentlyExecutedCommandWithImplicitDF": {
     "commandId": 2191967400465295,
     "dataframes": [
      "_sqldf"
     ]
    },
    "pythonIndentUnit": 4
   },
   "notebookName": "40_How to read & write AVRO files",
   "widgets": {}
  }
 },
 "nbformat": 4,
 "nbformat_minor": 0
}
