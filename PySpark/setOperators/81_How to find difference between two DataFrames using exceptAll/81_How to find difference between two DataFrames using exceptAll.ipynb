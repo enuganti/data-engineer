{
 "cells": [
  {
   "cell_type": "markdown",
   "metadata": {
    "application/vnd.databricks.v1+cell": {
     "cellMetadata": {},
     "inputWidgets": {},
     "nuid": "22c9ff07-a440-4b15-aa93-2ed2d22e59cb",
     "showTitle": false,
     "tableResultSettingsMap": {},
     "title": ""
    }
   },
   "source": [
    "#### **exceptAll**\n",
    "\n",
    "- The exceptAll function in PySpark is used to find the **difference between two DataFrames** while preserving `duplicates`. This means that it returns all the rows that **exist** in the **first DataFrame** but **do not appear** in the **second DataFrame**, even if there are **duplicate rows**."
   ]
  },
  {
   "cell_type": "markdown",
   "metadata": {
    "application/vnd.databricks.v1+cell": {
     "cellMetadata": {},
     "inputWidgets": {},
     "nuid": "2435b4fe-7357-4c7d-bb4a-d8e9f1969f3b",
     "showTitle": false,
     "tableResultSettingsMap": {},
     "title": ""
    }
   },
   "source": [
    "#### **Use Cases**\n",
    "\n",
    "**Data Validation:**\n",
    "- When performing data validation `between two datasets`, you can use exceptAll to `identify discrepancies and missing records`, even if `duplicates` exist.\n",
    "\n",
    "**Data Cleansing:**\n",
    "- During data cleansing processes, you may want to find and `remove duplicates or redundant records`. exceptAll can help identify such records.\n",
    "\n",
    "**Data Synchronization:**\n",
    "- When dealing with data synchronization between `different data sources or systems`, exceptAll can assist in identifying changes or discrepancies.\n",
    "\n",
    "**Data Quality Monitoring:**\n",
    "- For monitoring data quality in a `streaming or batch processing` pipeline, exceptAll can help detect `anomalies and inconsistencies`."
   ]
  },
  {
   "cell_type": "markdown",
   "metadata": {
    "application/vnd.databricks.v1+cell": {
     "cellMetadata": {},
     "inputWidgets": {},
     "nuid": "233db124-e803-4314-855c-c8065a6e00d1",
     "showTitle": false,
     "tableResultSettingsMap": {},
     "title": ""
    }
   },
   "source": [
    "**Syntax**\n",
    "\n",
    "     DataFrame.exceptAll(other)\n",
    "\n",
    "**DataFrame:** The source DataFrame from which you want to find the difference.\n",
    "\n",
    "**other:** The DataFrame you want to compare against."
   ]
  },
  {
   "cell_type": "markdown",
   "metadata": {
    "application/vnd.databricks.v1+cell": {
     "cellMetadata": {},
     "inputWidgets": {},
     "nuid": "0d45aa5f-4616-4310-90f9-16ba9580a897",
     "showTitle": false,
     "tableResultSettingsMap": {},
     "title": ""
    }
   },
   "source": [
    "**CASE 01:** \n",
    "- exceptAll on two dataframes"
   ]
  },
  {
   "cell_type": "code",
   "execution_count": 0,
   "metadata": {
    "application/vnd.databricks.v1+cell": {
     "cellMetadata": {
      "byteLimit": 2048000,
      "rowLimit": 10000
     },
     "inputWidgets": {},
     "nuid": "fb06efdb-8924-4eb6-badb-980b5a3b4a1e",
     "showTitle": false,
     "tableResultSettingsMap": {},
     "title": ""
    }
   },
   "outputs": [
    {
     "output_type": "display_data",
     "data": {
      "text/html": [
       "<style scoped>\n",
       "  .table-result-container {\n",
       "    max-height: 300px;\n",
       "    overflow: auto;\n",
       "  }\n",
       "  table, th, td {\n",
       "    border: 1px solid black;\n",
       "    border-collapse: collapse;\n",
       "  }\n",
       "  th, td {\n",
       "    padding: 5px;\n",
       "  }\n",
       "  th {\n",
       "    text-align: left;\n",
       "  }\n",
       "</style><div class='table-result-container'><table class='table-result'><thead style='background-color: white'><tr><th>Customer</th><th>Tech</th><th>Level</th><th>Age</th><th>Experience</th></tr></thead><tbody><tr><td>Ramesh</td><td>ADF</td><td>Grade1</td><td>20</td><td>5</td></tr><tr><td>Kamal</td><td>ADB</td><td>Grade2</td><td>25</td><td>8</td></tr><tr><td>Bibin</td><td>SQL</td><td>Grade3</td><td>28</td><td>3</td></tr><tr><td>Bharath</td><td>Git</td><td>Grade4</td><td>32</td><td>5</td></tr><tr><td>Ramesh</td><td>ADF</td><td>Grade1</td><td>35</td><td>2</td></tr><tr><td>Ramesh</td><td>ADF</td><td>Grade1</td><td>38</td><td>6</td></tr><tr><td>Bibin</td><td>SQL</td><td>Grade3</td><td>36</td><td>4</td></tr><tr><td>Bibin</td><td>SQL</td><td>Grade3</td><td>23</td><td>7</td></tr></tbody></table></div>"
      ]
     },
     "metadata": {
      "application/vnd.databricks.v1+output": {
       "addedWidgets": {},
       "aggData": [],
       "aggError": "",
       "aggOverflow": false,
       "aggSchema": [],
       "aggSeriesLimitReached": false,
       "aggType": "",
       "arguments": {},
       "columnCustomDisplayInfos": {},
       "data": [
        [
         "Ramesh",
         "ADF",
         "Grade1",
         20,
         5
        ],
        [
         "Kamal",
         "ADB",
         "Grade2",
         25,
         8
        ],
        [
         "Bibin",
         "SQL",
         "Grade3",
         28,
         3
        ],
        [
         "Bharath",
         "Git",
         "Grade4",
         32,
         5
        ],
        [
         "Ramesh",
         "ADF",
         "Grade1",
         35,
         2
        ],
        [
         "Ramesh",
         "ADF",
         "Grade1",
         38,
         6
        ],
        [
         "Bibin",
         "SQL",
         "Grade3",
         36,
         4
        ],
        [
         "Bibin",
         "SQL",
         "Grade3",
         23,
         7
        ]
       ],
       "datasetInfos": [],
       "dbfsResultPath": null,
       "isJsonSchema": true,
       "metadata": {},
       "overflow": false,
       "plotOptions": {
        "customPlotOptions": {},
        "displayType": "table",
        "pivotAggregation": null,
        "pivotColumns": null,
        "xColumns": null,
        "yColumns": null
       },
       "removedWidgets": [],
       "schema": [
        {
         "metadata": "{}",
         "name": "Customer",
         "type": "\"string\""
        },
        {
         "metadata": "{}",
         "name": "Tech",
         "type": "\"string\""
        },
        {
         "metadata": "{}",
         "name": "Level",
         "type": "\"string\""
        },
        {
         "metadata": "{}",
         "name": "Age",
         "type": "\"long\""
        },
        {
         "metadata": "{}",
         "name": "Experience",
         "type": "\"long\""
        }
       ],
       "type": "table"
      }
     },
     "output_type": "display_data"
    },
    {
     "output_type": "display_data",
     "data": {
      "text/html": [
       "<style scoped>\n",
       "  .table-result-container {\n",
       "    max-height: 300px;\n",
       "    overflow: auto;\n",
       "  }\n",
       "  table, th, td {\n",
       "    border: 1px solid black;\n",
       "    border-collapse: collapse;\n",
       "  }\n",
       "  th, td {\n",
       "    padding: 5px;\n",
       "  }\n",
       "  th {\n",
       "    text-align: left;\n",
       "  }\n",
       "</style><div class='table-result-container'><table class='table-result'><thead style='background-color: white'><tr><th>Customer</th><th>Tech</th><th>Level</th><th>Age</th><th>Experience</th></tr></thead><tbody><tr><td>Ramesh</td><td>ADF</td><td>Grade1</td><td>20</td><td>5</td></tr><tr><td>Bibin</td><td>SQL</td><td>Grade3</td><td>28</td><td>3</td></tr></tbody></table></div>"
      ]
     },
     "metadata": {
      "application/vnd.databricks.v1+output": {
       "addedWidgets": {},
       "aggData": [],
       "aggError": "",
       "aggOverflow": false,
       "aggSchema": [],
       "aggSeriesLimitReached": false,
       "aggType": "",
       "arguments": {},
       "columnCustomDisplayInfos": {},
       "data": [
        [
         "Ramesh",
         "ADF",
         "Grade1",
         20,
         5
        ],
        [
         "Bibin",
         "SQL",
         "Grade3",
         28,
         3
        ]
       ],
       "datasetInfos": [],
       "dbfsResultPath": null,
       "isJsonSchema": true,
       "metadata": {},
       "overflow": false,
       "plotOptions": {
        "customPlotOptions": {},
        "displayType": "table",
        "pivotAggregation": null,
        "pivotColumns": null,
        "xColumns": null,
        "yColumns": null
       },
       "removedWidgets": [],
       "schema": [
        {
         "metadata": "{}",
         "name": "Customer",
         "type": "\"string\""
        },
        {
         "metadata": "{}",
         "name": "Tech",
         "type": "\"string\""
        },
        {
         "metadata": "{}",
         "name": "Level",
         "type": "\"string\""
        },
        {
         "metadata": "{}",
         "name": "Age",
         "type": "\"long\""
        },
        {
         "metadata": "{}",
         "name": "Experience",
         "type": "\"long\""
        }
       ],
       "type": "table"
      }
     },
     "output_type": "display_data"
    }
   ],
   "source": [
    "# How to find all the orders that exist in df1 but do not appear in df2\n",
    "# Create two DataFrames\n",
    "data1 = [(\"Ramesh\", \"ADF\", \"Grade1\", 20, 5),\n",
    "         (\"Kamal\", \"ADB\", \"Grade2\", 25, 8),\n",
    "         (\"Bibin\", \"SQL\", \"Grade3\", 28, 3),\n",
    "         (\"Bharath\", \"Git\", \"Grade4\", 32, 5),\n",
    "         (\"Ramesh\", \"ADF\", \"Grade1\", 35, 2),\n",
    "         (\"Ramesh\", \"ADF\", \"Grade1\", 38, 6),\n",
    "         (\"Bibin\", \"SQL\", \"Grade3\", 36, 4),\n",
    "         (\"Bibin\", \"SQL\", \"Grade3\", 23, 7),]\n",
    "\n",
    "data2 = [(\"Ramesh\", \"ADF\", \"Grade1\", 20, 5),\n",
    "         (\"Bibin\", \"SQL\", \"Grade3\", 28, 3)]\n",
    "\n",
    "columns = [\"Customer\", \"Tech\", \"Level\", \"Age\", \"Experience\"]\n",
    "\n",
    "df1 = spark.createDataFrame(data1, columns)\n",
    "df2 = spark.createDataFrame(data2, columns)\n",
    "\n",
    "display(df1)\n",
    "display(df2)"
   ]
  },
  {
   "cell_type": "code",
   "execution_count": 0,
   "metadata": {
    "application/vnd.databricks.v1+cell": {
     "cellMetadata": {
      "byteLimit": 2048000,
      "rowLimit": 10000
     },
     "inputWidgets": {},
     "nuid": "b0210cd3-a04a-414a-9438-722ef991caa6",
     "showTitle": false,
     "tableResultSettingsMap": {},
     "title": ""
    }
   },
   "outputs": [
    {
     "output_type": "display_data",
     "data": {
      "text/html": [
       "<style scoped>\n",
       "  .table-result-container {\n",
       "    max-height: 300px;\n",
       "    overflow: auto;\n",
       "  }\n",
       "  table, th, td {\n",
       "    border: 1px solid black;\n",
       "    border-collapse: collapse;\n",
       "  }\n",
       "  th, td {\n",
       "    padding: 5px;\n",
       "  }\n",
       "  th {\n",
       "    text-align: left;\n",
       "  }\n",
       "</style><div class='table-result-container'><table class='table-result'><thead style='background-color: white'><tr><th>Customer</th><th>Tech</th><th>Level</th><th>Age</th><th>Experience</th></tr></thead><tbody><tr><td>Kamal</td><td>ADB</td><td>Grade2</td><td>25</td><td>8</td></tr><tr><td>Bharath</td><td>Git</td><td>Grade4</td><td>32</td><td>5</td></tr><tr><td>Ramesh</td><td>ADF</td><td>Grade1</td><td>35</td><td>2</td></tr><tr><td>Ramesh</td><td>ADF</td><td>Grade1</td><td>38</td><td>6</td></tr><tr><td>Bibin</td><td>SQL</td><td>Grade3</td><td>36</td><td>4</td></tr><tr><td>Bibin</td><td>SQL</td><td>Grade3</td><td>23</td><td>7</td></tr></tbody></table></div>"
      ]
     },
     "metadata": {
      "application/vnd.databricks.v1+output": {
       "addedWidgets": {},
       "aggData": [],
       "aggError": "",
       "aggOverflow": false,
       "aggSchema": [],
       "aggSeriesLimitReached": false,
       "aggType": "",
       "arguments": {},
       "columnCustomDisplayInfos": {},
       "data": [
        [
         "Kamal",
         "ADB",
         "Grade2",
         25,
         8
        ],
        [
         "Bharath",
         "Git",
         "Grade4",
         32,
         5
        ],
        [
         "Ramesh",
         "ADF",
         "Grade1",
         35,
         2
        ],
        [
         "Ramesh",
         "ADF",
         "Grade1",
         38,
         6
        ],
        [
         "Bibin",
         "SQL",
         "Grade3",
         36,
         4
        ],
        [
         "Bibin",
         "SQL",
         "Grade3",
         23,
         7
        ]
       ],
       "datasetInfos": [],
       "dbfsResultPath": null,
       "isJsonSchema": true,
       "metadata": {},
       "overflow": false,
       "plotOptions": {
        "customPlotOptions": {},
        "displayType": "table",
        "pivotAggregation": null,
        "pivotColumns": null,
        "xColumns": null,
        "yColumns": null
       },
       "removedWidgets": [],
       "schema": [
        {
         "metadata": "{}",
         "name": "Customer",
         "type": "\"string\""
        },
        {
         "metadata": "{}",
         "name": "Tech",
         "type": "\"string\""
        },
        {
         "metadata": "{}",
         "name": "Level",
         "type": "\"string\""
        },
        {
         "metadata": "{}",
         "name": "Age",
         "type": "\"long\""
        },
        {
         "metadata": "{}",
         "name": "Experience",
         "type": "\"long\""
        }
       ],
       "type": "table"
      }
     },
     "output_type": "display_data"
    }
   ],
   "source": [
    "# Use exceptAll to find the difference\n",
    "result = df1.exceptAll(df2)\n",
    "\n",
    "# Show the result\n",
    "display(result)"
   ]
  },
  {
   "cell_type": "markdown",
   "metadata": {
    "application/vnd.databricks.v1+cell": {
     "cellMetadata": {},
     "inputWidgets": {},
     "nuid": "89047c57-7aa7-48b8-b386-564f57e125c1",
     "showTitle": false,
     "tableResultSettingsMap": {},
     "title": ""
    }
   },
   "source": [
    "**CASE 02:** \n",
    "- exceptAll on two dataframes with required columns"
   ]
  },
  {
   "cell_type": "code",
   "execution_count": 0,
   "metadata": {
    "application/vnd.databricks.v1+cell": {
     "cellMetadata": {
      "byteLimit": 2048000,
      "rowLimit": 10000
     },
     "inputWidgets": {},
     "nuid": "350a2b80-b763-40af-b8b2-6f7550ef519d",
     "showTitle": false,
     "tableResultSettingsMap": {},
     "title": ""
    }
   },
   "outputs": [
    {
     "output_type": "display_data",
     "data": {
      "text/html": [
       "<style scoped>\n",
       "  .table-result-container {\n",
       "    max-height: 300px;\n",
       "    overflow: auto;\n",
       "  }\n",
       "  table, th, td {\n",
       "    border: 1px solid black;\n",
       "    border-collapse: collapse;\n",
       "  }\n",
       "  th, td {\n",
       "    padding: 5px;\n",
       "  }\n",
       "  th {\n",
       "    text-align: left;\n",
       "  }\n",
       "</style><div class='table-result-container'><table class='table-result'><thead style='background-color: white'><tr><th>Customer</th><th>Tech</th><th>Level</th></tr></thead><tbody><tr><td>Ramesh</td><td>ADF</td><td>Grade1</td></tr><tr><td>Ramesh</td><td>ADF</td><td>Grade1</td></tr><tr><td>Kamal</td><td>ADB</td><td>Grade2</td></tr><tr><td>Bibin</td><td>SQL</td><td>Grade3</td></tr><tr><td>Bibin</td><td>SQL</td><td>Grade3</td></tr><tr><td>Bharath</td><td>Git</td><td>Grade4</td></tr></tbody></table></div>"
      ]
     },
     "metadata": {
      "application/vnd.databricks.v1+output": {
       "addedWidgets": {},
       "aggData": [],
       "aggError": "",
       "aggOverflow": false,
       "aggSchema": [],
       "aggSeriesLimitReached": false,
       "aggType": "",
       "arguments": {},
       "columnCustomDisplayInfos": {},
       "data": [
        [
         "Ramesh",
         "ADF",
         "Grade1"
        ],
        [
         "Ramesh",
         "ADF",
         "Grade1"
        ],
        [
         "Kamal",
         "ADB",
         "Grade2"
        ],
        [
         "Bibin",
         "SQL",
         "Grade3"
        ],
        [
         "Bibin",
         "SQL",
         "Grade3"
        ],
        [
         "Bharath",
         "Git",
         "Grade4"
        ]
       ],
       "datasetInfos": [],
       "dbfsResultPath": null,
       "isJsonSchema": true,
       "metadata": {},
       "overflow": false,
       "plotOptions": {
        "customPlotOptions": {},
        "displayType": "table",
        "pivotAggregation": null,
        "pivotColumns": null,
        "xColumns": null,
        "yColumns": null
       },
       "removedWidgets": [],
       "schema": [
        {
         "metadata": "{}",
         "name": "Customer",
         "type": "\"string\""
        },
        {
         "metadata": "{}",
         "name": "Tech",
         "type": "\"string\""
        },
        {
         "metadata": "{}",
         "name": "Level",
         "type": "\"string\""
        }
       ],
       "type": "table"
      }
     },
     "output_type": "display_data"
    }
   ],
   "source": [
    "# Assuming df1 and df2 are your DataFrames\n",
    "columns_to_compare = [\"Customer\", \"Tech\", \"Level\"]\n",
    "\n",
    "# Select the specific columns from each DataFrame\n",
    "df1_selected = df1.select(columns_to_compare)\n",
    "df2_selected = df2.select(columns_to_compare)\n",
    "\n",
    "# Use exceptAll to find rows in df1 that are not in df2\n",
    "result_df = df1_selected.exceptAll(df2_selected)\n",
    "\n",
    "# Display the result\n",
    "display(result_df)"
   ]
  },
  {
   "cell_type": "markdown",
   "metadata": {
    "application/vnd.databricks.v1+cell": {
     "cellMetadata": {},
     "inputWidgets": {},
     "nuid": "339e2a67-285d-415d-98ef-2b78913fe7a8",
     "showTitle": false,
     "tableResultSettingsMap": {},
     "title": ""
    }
   },
   "source": [
    "**CASE 03:** \n",
    "- exceptAll on three dataframes"
   ]
  },
  {
   "cell_type": "code",
   "execution_count": 0,
   "metadata": {
    "application/vnd.databricks.v1+cell": {
     "cellMetadata": {
      "byteLimit": 2048000,
      "rowLimit": 10000
     },
     "inputWidgets": {},
     "nuid": "8d273166-6ec5-4b9b-9aab-4ea78d0cc862",
     "showTitle": false,
     "tableResultSettingsMap": {},
     "title": ""
    }
   },
   "outputs": [
    {
     "output_type": "display_data",
     "data": {
      "text/html": [
       "<style scoped>\n",
       "  .table-result-container {\n",
       "    max-height: 300px;\n",
       "    overflow: auto;\n",
       "  }\n",
       "  table, th, td {\n",
       "    border: 1px solid black;\n",
       "    border-collapse: collapse;\n",
       "  }\n",
       "  th, td {\n",
       "    padding: 5px;\n",
       "  }\n",
       "  th {\n",
       "    text-align: left;\n",
       "  }\n",
       "</style><div class='table-result-container'><table class='table-result'><thead style='background-color: white'><tr><th>id</th><th>fruit</th></tr></thead><tbody><tr><td>4</td><td>grape</td></tr><tr><td>5</td><td>melon</td></tr><tr><td>3</td><td>orange</td></tr></tbody></table></div>"
      ]
     },
     "metadata": {
      "application/vnd.databricks.v1+output": {
       "addedWidgets": {},
       "aggData": [],
       "aggError": "",
       "aggOverflow": false,
       "aggSchema": [],
       "aggSeriesLimitReached": false,
       "aggType": "",
       "arguments": {},
       "columnCustomDisplayInfos": {},
       "data": [
        [
         4,
         "grape"
        ],
        [
         5,
         "melon"
        ],
        [
         3,
         "orange"
        ]
       ],
       "datasetInfos": [],
       "dbfsResultPath": null,
       "isJsonSchema": true,
       "metadata": {},
       "overflow": false,
       "plotOptions": {
        "customPlotOptions": {},
        "displayType": "table",
        "pivotAggregation": null,
        "pivotColumns": null,
        "xColumns": null,
        "yColumns": null
       },
       "removedWidgets": [],
       "schema": [
        {
         "metadata": "{}",
         "name": "id",
         "type": "\"long\""
        },
        {
         "metadata": "{}",
         "name": "fruit",
         "type": "\"string\""
        }
       ],
       "type": "table"
      }
     },
     "output_type": "display_data"
    },
    {
     "output_type": "display_data",
     "data": {
      "text/html": [
       "<style scoped>\n",
       "  .table-result-container {\n",
       "    max-height: 300px;\n",
       "    overflow: auto;\n",
       "  }\n",
       "  table, th, td {\n",
       "    border: 1px solid black;\n",
       "    border-collapse: collapse;\n",
       "  }\n",
       "  th, td {\n",
       "    padding: 5px;\n",
       "  }\n",
       "  th {\n",
       "    text-align: left;\n",
       "  }\n",
       "</style><div class='table-result-container'><table class='table-result'><thead style='background-color: white'><tr><th>id</th><th>fruit</th></tr></thead><tbody><tr><td>3</td><td>orange</td></tr></tbody></table></div>"
      ]
     },
     "metadata": {
      "application/vnd.databricks.v1+output": {
       "addedWidgets": {},
       "aggData": [],
       "aggError": "",
       "aggOverflow": false,
       "aggSchema": [],
       "aggSeriesLimitReached": false,
       "aggType": "",
       "arguments": {},
       "columnCustomDisplayInfos": {},
       "data": [
        [
         3,
         "orange"
        ]
       ],
       "datasetInfos": [],
       "dbfsResultPath": null,
       "isJsonSchema": true,
       "metadata": {},
       "overflow": false,
       "plotOptions": {
        "customPlotOptions": {},
        "displayType": "table",
        "pivotAggregation": null,
        "pivotColumns": null,
        "xColumns": null,
        "yColumns": null
       },
       "removedWidgets": [],
       "schema": [
        {
         "metadata": "{}",
         "name": "id",
         "type": "\"long\""
        },
        {
         "metadata": "{}",
         "name": "fruit",
         "type": "\"string\""
        }
       ],
       "type": "table"
      }
     },
     "output_type": "display_data"
    }
   ],
   "source": [
    "df1 = spark.createDataFrame([(1, \"apple\"), (2, \"banana\"), (4, \"grape\"), (5, \"melon\"), (3, \"orange\")], [\"id\", \"fruit\"])\n",
    "df2 = spark.createDataFrame([(1, \"apple\"), (2, \"banana\")], [\"id\", \"fruit\"])\n",
    "df5 = spark.createDataFrame([(4, \"grape\"), (5, \"melon\"), (6, \"watermelon\")], [\"id\", \"fruit\"])\n",
    "\n",
    "# Find differences between df1 and df2, then find differences between that result and df5\n",
    "# To find rows in df1 not in df2, and then further filter those results by removing rows that are also in df5\n",
    "df1_df2 = df1.exceptAll(df2)\n",
    "display(df1_df2)\n",
    "\n",
    "result = df1.exceptAll(df2).exceptAll(df5)\n",
    "display(result)"
   ]
  },
  {
   "cell_type": "markdown",
   "metadata": {
    "application/vnd.databricks.v1+cell": {
     "cellMetadata": {},
     "inputWidgets": {},
     "nuid": "5e6b759b-f865-4535-8df2-25983c136482",
     "showTitle": false,
     "tableResultSettingsMap": {},
     "title": ""
    }
   },
   "source": [
    "**CASE 04**\n",
    "- How to return a `new DataFrame` that `exist` in one DataFrame but `not` in the other DataFrame."
   ]
  },
  {
   "cell_type": "code",
   "execution_count": 0,
   "metadata": {
    "application/vnd.databricks.v1+cell": {
     "cellMetadata": {
      "byteLimit": 2048000,
      "rowLimit": 10000
     },
     "inputWidgets": {},
     "nuid": "cf17c184-5c38-433e-93f3-be09bfd8cbed",
     "showTitle": true,
     "tableResultSettingsMap": {},
     "title": "Read dataframe Rev01"
    }
   },
   "outputs": [
    {
     "output_type": "display_data",
     "data": {
      "text/html": [
       "<style scoped>\n",
       "  .table-result-container {\n",
       "    max-height: 300px;\n",
       "    overflow: auto;\n",
       "  }\n",
       "  table, th, td {\n",
       "    border: 1px solid black;\n",
       "    border-collapse: collapse;\n",
       "  }\n",
       "  th, td {\n",
       "    padding: 5px;\n",
       "  }\n",
       "  th {\n",
       "    text-align: left;\n",
       "  }\n",
       "</style><div class='table-result-container'><table class='table-result'><thead style='background-color: white'><tr><th>Company_Name</th><th>Cust_Id</th><th>Cust_Name</th><th>Category</th><th>Start_Date</th><th>Start_Cust_Date</th><th>End_Date</th><th>Updated_Date</th><th>Cust_Value</th><th>Cust_Type</th><th>Exchange</th><th>Location</th><th>Last_Date_UTC</th><th>Cust_Category</th><th>Index</th></tr></thead><tbody><tr><td>Sony</td><td>20</td><td>Naresh</td><td>Standard</td><td>3-Feb-23</td><td>1.73E12</td><td>1.73E12</td><td>1.73E12</td><td>30</td><td>STD</td><td>EUR</td><td>IND</td><td>1.72E12</td><td>SETTL</td><td>true</td></tr><tr><td>Sony</td><td>21</td><td>kamal</td><td>Standard</td><td>6-Feb-23</td><td>1.73E12</td><td>1.73E12</td><td>1.73E12</td><td>25</td><td>STD</td><td>EUR</td><td>IND</td><td>1.72E12</td><td>TOI</td><td>false</td></tr><tr><td>Sony</td><td>22</td><td>kajal</td><td>Standard</td><td>9-Feb-23</td><td>1.73E12</td><td>1.73E12</td><td>1.73E12</td><td>28</td><td>STD</td><td>EUR</td><td>IND</td><td>1.72E12</td><td>TOI</td><td>false</td></tr><tr><td>Sony</td><td>23</td><td>kiran</td><td>Standard</td><td>3-Jan-24</td><td>1.73E12</td><td>1.73E12</td><td>1.73E12</td><td>31</td><td>STD</td><td>EUR</td><td>IND</td><td>1.72E12</td><td>TOI</td><td>false</td></tr><tr><td>Sony</td><td>24</td><td>sam</td><td>Standard</td><td>8-Jan-24</td><td>1.73E12</td><td>1.73E12</td><td>1.73E12</td><td>34</td><td>STD</td><td>EUR</td><td>IND</td><td>1.72E12</td><td>TOI</td><td>false</td></tr><tr><td>Sony</td><td>25</td><td>sourab</td><td>Standard</td><td>9-Jan-24</td><td>1.73E12</td><td>1.74E12</td><td>1.73E12</td><td>37</td><td>STD</td><td>EUR</td><td>IND</td><td>1.72E12</td><td>TOI</td><td>true</td></tr><tr><td>Sony</td><td>26</td><td>jai</td><td>Upper</td><td>3-Mar-23</td><td>1.73E12</td><td>1.74E12</td><td>1.73E12</td><td>40</td><td>STD</td><td>EUR</td><td>IND</td><td>1.72E12</td><td>TOI</td><td>true</td></tr><tr><td>BPL</td><td>27</td><td>sree</td><td>Upper</td><td>6-Mar-23</td><td>1.73E12</td><td>1.73E12</td><td>1.73E12</td><td>43</td><td>STD</td><td>EUR</td><td>IND</td><td>1.72E12</td><td>SETTL</td><td>true</td></tr><tr><td>BPL</td><td>28</td><td>sreenath</td><td>Upper</td><td>9-Mar-23</td><td>1.73E12</td><td>1.74E12</td><td>1.73E12</td><td>46</td><td>STD</td><td>EUR</td><td>IND</td><td>1.72E12</td><td>SETTL</td><td>true</td></tr><tr><td>BPL</td><td>29</td><td>kamaesh</td><td>Upper</td><td>3-Jan-25</td><td>1.74E12</td><td>1.74E12</td><td>1.73E12</td><td>49</td><td>STD</td><td>EUR</td><td>IND</td><td>1.72E12</td><td>SETTL</td><td>false</td></tr></tbody></table></div>"
      ]
     },
     "metadata": {
      "application/vnd.databricks.v1+output": {
       "addedWidgets": {},
       "aggData": [],
       "aggError": "",
       "aggOverflow": false,
       "aggSchema": [],
       "aggSeriesLimitReached": false,
       "aggType": "",
       "arguments": {},
       "columnCustomDisplayInfos": {},
       "data": [
        [
         "Sony",
         20,
         "Naresh",
         "Standard",
         "3-Feb-23",
         1.73E12,
         1.73E12,
         1.73E12,
         30,
         "STD",
         "EUR",
         "IND",
         1.72E12,
         "SETTL",
         true
        ],
        [
         "Sony",
         21,
         "kamal",
         "Standard",
         "6-Feb-23",
         1.73E12,
         1.73E12,
         1.73E12,
         25,
         "STD",
         "EUR",
         "IND",
         1.72E12,
         "TOI",
         false
        ],
        [
         "Sony",
         22,
         "kajal",
         "Standard",
         "9-Feb-23",
         1.73E12,
         1.73E12,
         1.73E12,
         28,
         "STD",
         "EUR",
         "IND",
         1.72E12,
         "TOI",
         false
        ],
        [
         "Sony",
         23,
         "kiran",
         "Standard",
         "3-Jan-24",
         1.73E12,
         1.73E12,
         1.73E12,
         31,
         "STD",
         "EUR",
         "IND",
         1.72E12,
         "TOI",
         false
        ],
        [
         "Sony",
         24,
         "sam",
         "Standard",
         "8-Jan-24",
         1.73E12,
         1.73E12,
         1.73E12,
         34,
         "STD",
         "EUR",
         "IND",
         1.72E12,
         "TOI",
         false
        ],
        [
         "Sony",
         25,
         "sourab",
         "Standard",
         "9-Jan-24",
         1.73E12,
         1.74E12,
         1.73E12,
         37,
         "STD",
         "EUR",
         "IND",
         1.72E12,
         "TOI",
         true
        ],
        [
         "Sony",
         26,
         "jai",
         "Upper",
         "3-Mar-23",
         1.73E12,
         1.74E12,
         1.73E12,
         40,
         "STD",
         "EUR",
         "IND",
         1.72E12,
         "TOI",
         true
        ],
        [
         "BPL",
         27,
         "sree",
         "Upper",
         "6-Mar-23",
         1.73E12,
         1.73E12,
         1.73E12,
         43,
         "STD",
         "EUR",
         "IND",
         1.72E12,
         "SETTL",
         true
        ],
        [
         "BPL",
         28,
         "sreenath",
         "Upper",
         "9-Mar-23",
         1.73E12,
         1.74E12,
         1.73E12,
         46,
         "STD",
         "EUR",
         "IND",
         1.72E12,
         "SETTL",
         true
        ],
        [
         "BPL",
         29,
         "kamaesh",
         "Upper",
         "3-Jan-25",
         1.74E12,
         1.74E12,
         1.73E12,
         49,
         "STD",
         "EUR",
         "IND",
         1.72E12,
         "SETTL",
         false
        ]
       ],
       "datasetInfos": [],
       "dbfsResultPath": null,
       "isJsonSchema": true,
       "metadata": {},
       "overflow": false,
       "plotOptions": {
        "customPlotOptions": {},
        "displayType": "table",
        "pivotAggregation": null,
        "pivotColumns": null,
        "xColumns": null,
        "yColumns": null
       },
       "removedWidgets": [],
       "schema": [
        {
         "metadata": "{}",
         "name": "Company_Name",
         "type": "\"string\""
        },
        {
         "metadata": "{}",
         "name": "Cust_Id",
         "type": "\"integer\""
        },
        {
         "metadata": "{}",
         "name": "Cust_Name",
         "type": "\"string\""
        },
        {
         "metadata": "{}",
         "name": "Category",
         "type": "\"string\""
        },
        {
         "metadata": "{}",
         "name": "Start_Date",
         "type": "\"string\""
        },
        {
         "metadata": "{}",
         "name": "Start_Cust_Date",
         "type": "\"double\""
        },
        {
         "metadata": "{}",
         "name": "End_Date",
         "type": "\"double\""
        },
        {
         "metadata": "{}",
         "name": "Updated_Date",
         "type": "\"double\""
        },
        {
         "metadata": "{}",
         "name": "Cust_Value",
         "type": "\"integer\""
        },
        {
         "metadata": "{}",
         "name": "Cust_Type",
         "type": "\"string\""
        },
        {
         "metadata": "{}",
         "name": "Exchange",
         "type": "\"string\""
        },
        {
         "metadata": "{}",
         "name": "Location",
         "type": "\"string\""
        },
        {
         "metadata": "{}",
         "name": "Last_Date_UTC",
         "type": "\"double\""
        },
        {
         "metadata": "{}",
         "name": "Cust_Category",
         "type": "\"string\""
        },
        {
         "metadata": "{}",
         "name": "Index",
         "type": "\"boolean\""
        }
       ],
       "type": "table"
      }
     },
     "output_type": "display_data"
    }
   ],
   "source": [
    "df_rev01 = spark.read.csv(\"/FileStore/tables/exceptAll_rev01.csv\", header=True, inferSchema=True)\n",
    "display(df_rev01.limit(10))"
   ]
  },
  {
   "cell_type": "code",
   "execution_count": 0,
   "metadata": {
    "application/vnd.databricks.v1+cell": {
     "cellMetadata": {
      "byteLimit": 2048000,
      "rowLimit": 10000
     },
     "inputWidgets": {},
     "nuid": "0eb8f954-1d0b-42f7-956f-b2a19abb1856",
     "showTitle": true,
     "tableResultSettingsMap": {},
     "title": "Read dataframe Rev02"
    }
   },
   "outputs": [
    {
     "output_type": "display_data",
     "data": {
      "text/html": [
       "<style scoped>\n",
       "  .table-result-container {\n",
       "    max-height: 300px;\n",
       "    overflow: auto;\n",
       "  }\n",
       "  table, th, td {\n",
       "    border: 1px solid black;\n",
       "    border-collapse: collapse;\n",
       "  }\n",
       "  th, td {\n",
       "    padding: 5px;\n",
       "  }\n",
       "  th {\n",
       "    text-align: left;\n",
       "  }\n",
       "</style><div class='table-result-container'><table class='table-result'><thead style='background-color: white'><tr><th>Company_Name</th><th>Cust_Id</th><th>Cust_Name</th><th>Category</th><th>Start_Date</th><th>Start_Cust_Date</th><th>End_Date</th><th>Updated_Date</th><th>Cust_Value</th><th>Cust_Type</th><th>Exchange</th><th>Location</th><th>Last_Date_UTC</th><th>Cust_Category</th><th>Index</th></tr></thead><tbody><tr><td>Sony</td><td>20</td><td>Naresh</td><td>Standard</td><td>3-Feb-23</td><td>1.73E12</td><td>1.73E12</td><td>1.73E12</td><td>30</td><td>STD</td><td>EUR</td><td>IND</td><td>1.72E12</td><td>SETTL</td><td>true</td></tr><tr><td>Sony</td><td>21</td><td>kamal</td><td>Standard</td><td>6-Feb-23</td><td>1.73E12</td><td>1.73E12</td><td>1.73E12</td><td>25</td><td>STD</td><td>EUR</td><td>IND</td><td>1.72E12</td><td>TOI</td><td>false</td></tr><tr><td>Sony</td><td>22</td><td>kajal</td><td>Standard</td><td>9-Feb-23</td><td>1.73E12</td><td>1.73E12</td><td>1.73E12</td><td>28</td><td>STD</td><td>EUR</td><td>IND</td><td>1.72E12</td><td>TOI</td><td>false</td></tr><tr><td>Sony</td><td>23</td><td>kiran</td><td>Standard</td><td>3-Jan-24</td><td>1.73E12</td><td>1.73E12</td><td>1.73E12</td><td>31</td><td>STD</td><td>EUR</td><td>IND</td><td>1.72E12</td><td>TOI</td><td>false</td></tr><tr><td>Sony</td><td>32</td><td>sam</td><td>Standard</td><td>13/8/2024</td><td>1.78E12</td><td>1.73E12</td><td>1.73E12</td><td>45</td><td>STD</td><td>EUR</td><td>IND</td><td>1.79E12</td><td>TOI</td><td>true</td></tr><tr><td>Sony</td><td>25</td><td>sourab</td><td>Standard</td><td>9-Jan-24</td><td>1.73E12</td><td>1.74E12</td><td>1.73E12</td><td>37</td><td>STD</td><td>EUR</td><td>IND</td><td>1.72E12</td><td>TOI</td><td>true</td></tr><tr><td>Sony</td><td>35</td><td>jaji</td><td>Lower</td><td>3-Mar-23</td><td>1.73E12</td><td>1.74E12</td><td>1.73E12</td><td>50</td><td>STD</td><td>EUR</td><td>IND</td><td>1.72E12</td><td>TOI</td><td>false</td></tr><tr><td>BPL</td><td>27</td><td>sree</td><td>Upper</td><td>6-Mar-23</td><td>1.73E12</td><td>1.73E12</td><td>1.73E12</td><td>43</td><td>STD</td><td>EUR</td><td>IND</td><td>1.72E12</td><td>SETTL</td><td>true</td></tr><tr><td>BPL</td><td>28</td><td>sreenath</td><td>Upper</td><td>9-Mar-23</td><td>1.73E12</td><td>1.74E12</td><td>1.73E12</td><td>46</td><td>STD</td><td>EUR</td><td>IND</td><td>1.72E12</td><td>SETTL</td><td>true</td></tr><tr><td>BPL</td><td>29</td><td>kamaesh</td><td>Upper</td><td>3-Jan-25</td><td>1.74E12</td><td>1.74E12</td><td>1.73E12</td><td>49</td><td>STD</td><td>EUR</td><td>IND</td><td>1.72E12</td><td>SETTL</td><td>false</td></tr></tbody></table></div>"
      ]
     },
     "metadata": {
      "application/vnd.databricks.v1+output": {
       "addedWidgets": {},
       "aggData": [],
       "aggError": "",
       "aggOverflow": false,
       "aggSchema": [],
       "aggSeriesLimitReached": false,
       "aggType": "",
       "arguments": {},
       "columnCustomDisplayInfos": {},
       "data": [
        [
         "Sony",
         20,
         "Naresh",
         "Standard",
         "3-Feb-23",
         1.73E12,
         1.73E12,
         1.73E12,
         30,
         "STD",
         "EUR",
         "IND",
         1.72E12,
         "SETTL",
         true
        ],
        [
         "Sony",
         21,
         "kamal",
         "Standard",
         "6-Feb-23",
         1.73E12,
         1.73E12,
         1.73E12,
         25,
         "STD",
         "EUR",
         "IND",
         1.72E12,
         "TOI",
         false
        ],
        [
         "Sony",
         22,
         "kajal",
         "Standard",
         "9-Feb-23",
         1.73E12,
         1.73E12,
         1.73E12,
         28,
         "STD",
         "EUR",
         "IND",
         1.72E12,
         "TOI",
         false
        ],
        [
         "Sony",
         23,
         "kiran",
         "Standard",
         "3-Jan-24",
         1.73E12,
         1.73E12,
         1.73E12,
         31,
         "STD",
         "EUR",
         "IND",
         1.72E12,
         "TOI",
         false
        ],
        [
         "Sony",
         32,
         "sam",
         "Standard",
         "13/8/2024",
         1.78E12,
         1.73E12,
         1.73E12,
         45,
         "STD",
         "EUR",
         "IND",
         1.79E12,
         "TOI",
         true
        ],
        [
         "Sony",
         25,
         "sourab",
         "Standard",
         "9-Jan-24",
         1.73E12,
         1.74E12,
         1.73E12,
         37,
         "STD",
         "EUR",
         "IND",
         1.72E12,
         "TOI",
         true
        ],
        [
         "Sony",
         35,
         "jaji",
         "Lower",
         "3-Mar-23",
         1.73E12,
         1.74E12,
         1.73E12,
         50,
         "STD",
         "EUR",
         "IND",
         1.72E12,
         "TOI",
         false
        ],
        [
         "BPL",
         27,
         "sree",
         "Upper",
         "6-Mar-23",
         1.73E12,
         1.73E12,
         1.73E12,
         43,
         "STD",
         "EUR",
         "IND",
         1.72E12,
         "SETTL",
         true
        ],
        [
         "BPL",
         28,
         "sreenath",
         "Upper",
         "9-Mar-23",
         1.73E12,
         1.74E12,
         1.73E12,
         46,
         "STD",
         "EUR",
         "IND",
         1.72E12,
         "SETTL",
         true
        ],
        [
         "BPL",
         29,
         "kamaesh",
         "Upper",
         "3-Jan-25",
         1.74E12,
         1.74E12,
         1.73E12,
         49,
         "STD",
         "EUR",
         "IND",
         1.72E12,
         "SETTL",
         false
        ]
       ],
       "datasetInfos": [],
       "dbfsResultPath": null,
       "isJsonSchema": true,
       "metadata": {},
       "overflow": false,
       "plotOptions": {
        "customPlotOptions": {},
        "displayType": "table",
        "pivotAggregation": null,
        "pivotColumns": null,
        "xColumns": null,
        "yColumns": null
       },
       "removedWidgets": [],
       "schema": [
        {
         "metadata": "{}",
         "name": "Company_Name",
         "type": "\"string\""
        },
        {
         "metadata": "{}",
         "name": "Cust_Id",
         "type": "\"integer\""
        },
        {
         "metadata": "{}",
         "name": "Cust_Name",
         "type": "\"string\""
        },
        {
         "metadata": "{}",
         "name": "Category",
         "type": "\"string\""
        },
        {
         "metadata": "{}",
         "name": "Start_Date",
         "type": "\"string\""
        },
        {
         "metadata": "{}",
         "name": "Start_Cust_Date",
         "type": "\"double\""
        },
        {
         "metadata": "{}",
         "name": "End_Date",
         "type": "\"double\""
        },
        {
         "metadata": "{}",
         "name": "Updated_Date",
         "type": "\"double\""
        },
        {
         "metadata": "{}",
         "name": "Cust_Value",
         "type": "\"integer\""
        },
        {
         "metadata": "{}",
         "name": "Cust_Type",
         "type": "\"string\""
        },
        {
         "metadata": "{}",
         "name": "Exchange",
         "type": "\"string\""
        },
        {
         "metadata": "{}",
         "name": "Location",
         "type": "\"string\""
        },
        {
         "metadata": "{}",
         "name": "Last_Date_UTC",
         "type": "\"double\""
        },
        {
         "metadata": "{}",
         "name": "Cust_Category",
         "type": "\"string\""
        },
        {
         "metadata": "{}",
         "name": "Index",
         "type": "\"boolean\""
        }
       ],
       "type": "table"
      }
     },
     "output_type": "display_data"
    }
   ],
   "source": [
    "df_rev02 = spark.read.csv(\"/FileStore/tables/exceptAll_rev02.csv\", header=True, inferSchema=True)\n",
    "display(df_rev02.limit(10))"
   ]
  },
  {
   "cell_type": "code",
   "execution_count": 0,
   "metadata": {
    "application/vnd.databricks.v1+cell": {
     "cellMetadata": {
      "byteLimit": 2048000,
      "rowLimit": 10000
     },
     "inputWidgets": {},
     "nuid": "7643aabf-466e-46a7-a792-75ed18186fa0",
     "showTitle": false,
     "tableResultSettingsMap": {},
     "title": ""
    }
   },
   "outputs": [
    {
     "output_type": "stream",
     "name": "stdout",
     "output_type": "stream",
     "text": [
      "No of Rows in Rev01: 49\nNo of distinct Rows in Rev01: 49\n\nNo of Rows in Rev02: 69\nNo of distinct Rows in Rev02: 49\n"
     ]
    }
   ],
   "source": [
    "print(\"No of Rows in Rev01:\", df_rev01.count())\n",
    "print(\"No of distinct Rows in Rev01:\", df_rev01.distinct().count())\n",
    "\n",
    "print(\"\\nNo of Rows in Rev02:\", df_rev02.count())\n",
    "print(\"No of distinct Rows in Rev02:\", df_rev02.distinct().count())"
   ]
  },
  {
   "cell_type": "code",
   "execution_count": 0,
   "metadata": {
    "application/vnd.databricks.v1+cell": {
     "cellMetadata": {
      "byteLimit": 2048000,
      "rowLimit": 10000
     },
     "inputWidgets": {},
     "nuid": "52323c8f-e76e-47f7-b0a4-31ed521041a9",
     "showTitle": false,
     "tableResultSettingsMap": {},
     "title": ""
    }
   },
   "outputs": [
    {
     "output_type": "display_data",
     "data": {
      "text/html": [
       "<style scoped>\n",
       "  .table-result-container {\n",
       "    max-height: 300px;\n",
       "    overflow: auto;\n",
       "  }\n",
       "  table, th, td {\n",
       "    border: 1px solid black;\n",
       "    border-collapse: collapse;\n",
       "  }\n",
       "  th, td {\n",
       "    padding: 5px;\n",
       "  }\n",
       "  th {\n",
       "    text-align: left;\n",
       "  }\n",
       "</style><div class='table-result-container'><table class='table-result'><thead style='background-color: white'><tr><th>Company_Name</th><th>Cust_Id</th><th>Cust_Name</th><th>Category</th><th>Start_Date</th><th>Start_Cust_Date</th><th>End_Date</th><th>Updated_Date</th><th>Cust_Value</th><th>Cust_Type</th><th>Exchange</th><th>Location</th><th>Last_Date_UTC</th><th>Cust_Category</th><th>Index</th></tr></thead><tbody><tr><td>BP</td><td>57</td><td>sourab</td><td>Premium</td><td>6-Mar-23</td><td>1.76E12</td><td>1.76E12</td><td>1.73E12</td><td>133</td><td>STD</td><td>EUR</td><td>UK</td><td>1.72E12</td><td>EDA</td><td>false</td></tr><tr><td>BP</td><td>56</td><td>sam</td><td>Premium</td><td>3-Mar-23</td><td>1.76E12</td><td>1.76E12</td><td>1.73E12</td><td>130</td><td>STD</td><td>EUR</td><td>UK</td><td>1.72E12</td><td>EDA</td><td>false</td></tr><tr><td>BP</td><td>55</td><td>vidish</td><td>Premium</td><td>9-Jan-24</td><td>1.76E12</td><td>1.76E12</td><td>1.73E12</td><td>127</td><td>STD</td><td>EUR</td><td>UK</td><td>1.72E12</td><td>EDA</td><td>false</td></tr><tr><td>Reliance</td><td>65</td><td>sweta</td><td>Lower</td><td>3-Feb-23</td><td>1.71E12</td><td>1.72E12</td><td>1.73E12</td><td>157</td><td>STD</td><td>EUR</td><td>SL</td><td>1.72E12</td><td>SETTL</td><td>true</td></tr><tr><td>Sony</td><td>26</td><td>jai</td><td>Upper</td><td>3-Mar-23</td><td>1.73E12</td><td>1.74E12</td><td>1.73E12</td><td>40</td><td>STD</td><td>EUR</td><td>IND</td><td>1.72E12</td><td>TOI</td><td>true</td></tr><tr><td>Sony</td><td>24</td><td>sam</td><td>Standard</td><td>8-Jan-24</td><td>1.73E12</td><td>1.73E12</td><td>1.73E12</td><td>34</td><td>STD</td><td>EUR</td><td>IND</td><td>1.72E12</td><td>TOI</td><td>false</td></tr><tr><td>Reliance</td><td>67</td><td>ramesh</td><td>Lower</td><td>9-Feb-23</td><td>1.71E12</td><td>1.72E12</td><td>1.73E12</td><td>163</td><td>STD</td><td>EUR</td><td>SL</td><td>1.72E12</td><td>SETTL</td><td>false</td></tr><tr><td>BP</td><td>58</td><td>jai</td><td>Premium</td><td>9-Mar-23</td><td>1.76E12</td><td>1.76E12</td><td>1.73E12</td><td>136</td><td>STD</td><td>EUR</td><td>UK</td><td>1.72E12</td><td>EDA</td><td>true</td></tr><tr><td>Reliance</td><td>66</td><td>narendra</td><td>Lower</td><td>6-Feb-23</td><td>1.71E12</td><td>1.72E12</td><td>1.73E12</td><td>160</td><td>STD</td><td>EUR</td><td>SL</td><td>1.72E12</td><td>SETTL</td><td>false</td></tr><tr><td>BPL</td><td>30</td><td>david</td><td>Upper</td><td>6-Jan-25</td><td>1.74E12</td><td>1.74E12</td><td>1.73E12</td><td>52</td><td>STD</td><td>EUR</td><td>IND</td><td>1.72E12</td><td>SETTL</td><td>false</td></tr><tr><td>Philips</td><td>46</td><td>narendra</td><td>Medium</td><td>9-Jan-25</td><td>1.75E12</td><td>1.75E12</td><td>1.73E12</td><td>100</td><td>STD</td><td>EUR</td><td>USA</td><td>1.72E12</td><td>RTO</td><td>true</td></tr><tr><td>Reliance</td><td>68</td><td>kalmesh</td><td>Lower</td><td>3-Jan-24</td><td>1.72E12</td><td>1.73E12</td><td>1.73E12</td><td>166</td><td>STD</td><td>EUR</td><td>SL</td><td>1.72E12</td><td>SETTL</td><td>false</td></tr><tr><td>BPL</td><td>33</td><td>sweta</td><td>Upper</td><td>6-Apr-23</td><td>1.74E12</td><td>1.74E12</td><td>1.73E12</td><td>61</td><td>STD</td><td>EUR</td><td>USA</td><td>1.72E12</td><td>SETTL</td><td>false</td></tr><tr><td>Philips</td><td>44</td><td>paul</td><td>Medium</td><td>3-Jan-25</td><td>1.75E12</td><td>1.75E12</td><td>1.73E12</td><td>94</td><td>STD</td><td>EUR</td><td>USA</td><td>1.72E12</td><td>RTO</td><td>false</td></tr><tr><td>Philips</td><td>43</td><td>joes</td><td>Medium</td><td>9-Mar-23</td><td>1.75E12</td><td>1.75E12</td><td>1.73E12</td><td>91</td><td>STD</td><td>EUR</td><td>USA</td><td>1.72E12</td><td>RTO</td><td>false</td></tr><tr><td>Philips</td><td>45</td><td>sweta</td><td>Medium</td><td>6-Jan-25</td><td>1.75E12</td><td>1.75E12</td><td>1.73E12</td><td>97</td><td>STD</td><td>EUR</td><td>USA</td><td>1.72E12</td><td>RTO</td><td>false</td></tr></tbody></table></div>"
      ]
     },
     "metadata": {
      "application/vnd.databricks.v1+output": {
       "addedWidgets": {},
       "aggData": [],
       "aggError": "",
       "aggOverflow": false,
       "aggSchema": [],
       "aggSeriesLimitReached": false,
       "aggType": "",
       "arguments": {},
       "columnCustomDisplayInfos": {},
       "data": [
        [
         "BP",
         57,
         "sourab",
         "Premium",
         "6-Mar-23",
         1.76E12,
         1.76E12,
         1.73E12,
         133,
         "STD",
         "EUR",
         "UK",
         1.72E12,
         "EDA",
         false
        ],
        [
         "BP",
         56,
         "sam",
         "Premium",
         "3-Mar-23",
         1.76E12,
         1.76E12,
         1.73E12,
         130,
         "STD",
         "EUR",
         "UK",
         1.72E12,
         "EDA",
         false
        ],
        [
         "BP",
         55,
         "vidish",
         "Premium",
         "9-Jan-24",
         1.76E12,
         1.76E12,
         1.73E12,
         127,
         "STD",
         "EUR",
         "UK",
         1.72E12,
         "EDA",
         false
        ],
        [
         "Reliance",
         65,
         "sweta",
         "Lower",
         "3-Feb-23",
         1.71E12,
         1.72E12,
         1.73E12,
         157,
         "STD",
         "EUR",
         "SL",
         1.72E12,
         "SETTL",
         true
        ],
        [
         "Sony",
         26,
         "jai",
         "Upper",
         "3-Mar-23",
         1.73E12,
         1.74E12,
         1.73E12,
         40,
         "STD",
         "EUR",
         "IND",
         1.72E12,
         "TOI",
         true
        ],
        [
         "Sony",
         24,
         "sam",
         "Standard",
         "8-Jan-24",
         1.73E12,
         1.73E12,
         1.73E12,
         34,
         "STD",
         "EUR",
         "IND",
         1.72E12,
         "TOI",
         false
        ],
        [
         "Reliance",
         67,
         "ramesh",
         "Lower",
         "9-Feb-23",
         1.71E12,
         1.72E12,
         1.73E12,
         163,
         "STD",
         "EUR",
         "SL",
         1.72E12,
         "SETTL",
         false
        ],
        [
         "BP",
         58,
         "jai",
         "Premium",
         "9-Mar-23",
         1.76E12,
         1.76E12,
         1.73E12,
         136,
         "STD",
         "EUR",
         "UK",
         1.72E12,
         "EDA",
         true
        ],
        [
         "Reliance",
         66,
         "narendra",
         "Lower",
         "6-Feb-23",
         1.71E12,
         1.72E12,
         1.73E12,
         160,
         "STD",
         "EUR",
         "SL",
         1.72E12,
         "SETTL",
         false
        ],
        [
         "BPL",
         30,
         "david",
         "Upper",
         "6-Jan-25",
         1.74E12,
         1.74E12,
         1.73E12,
         52,
         "STD",
         "EUR",
         "IND",
         1.72E12,
         "SETTL",
         false
        ],
        [
         "Philips",
         46,
         "narendra",
         "Medium",
         "9-Jan-25",
         1.75E12,
         1.75E12,
         1.73E12,
         100,
         "STD",
         "EUR",
         "USA",
         1.72E12,
         "RTO",
         true
        ],
        [
         "Reliance",
         68,
         "kalmesh",
         "Lower",
         "3-Jan-24",
         1.72E12,
         1.73E12,
         1.73E12,
         166,
         "STD",
         "EUR",
         "SL",
         1.72E12,
         "SETTL",
         false
        ],
        [
         "BPL",
         33,
         "sweta",
         "Upper",
         "6-Apr-23",
         1.74E12,
         1.74E12,
         1.73E12,
         61,
         "STD",
         "EUR",
         "USA",
         1.72E12,
         "SETTL",
         false
        ],
        [
         "Philips",
         44,
         "paul",
         "Medium",
         "3-Jan-25",
         1.75E12,
         1.75E12,
         1.73E12,
         94,
         "STD",
         "EUR",
         "USA",
         1.72E12,
         "RTO",
         false
        ],
        [
         "Philips",
         43,
         "joes",
         "Medium",
         "9-Mar-23",
         1.75E12,
         1.75E12,
         1.73E12,
         91,
         "STD",
         "EUR",
         "USA",
         1.72E12,
         "RTO",
         false
        ],
        [
         "Philips",
         45,
         "sweta",
         "Medium",
         "6-Jan-25",
         1.75E12,
         1.75E12,
         1.73E12,
         97,
         "STD",
         "EUR",
         "USA",
         1.72E12,
         "RTO",
         false
        ]
       ],
       "datasetInfos": [],
       "dbfsResultPath": null,
       "isJsonSchema": true,
       "metadata": {},
       "overflow": false,
       "plotOptions": {
        "customPlotOptions": {},
        "displayType": "table",
        "pivotAggregation": null,
        "pivotColumns": null,
        "xColumns": null,
        "yColumns": null
       },
       "removedWidgets": [],
       "schema": [
        {
         "metadata": "{}",
         "name": "Company_Name",
         "type": "\"string\""
        },
        {
         "metadata": "{}",
         "name": "Cust_Id",
         "type": "\"integer\""
        },
        {
         "metadata": "{}",
         "name": "Cust_Name",
         "type": "\"string\""
        },
        {
         "metadata": "{}",
         "name": "Category",
         "type": "\"string\""
        },
        {
         "metadata": "{}",
         "name": "Start_Date",
         "type": "\"string\""
        },
        {
         "metadata": "{}",
         "name": "Start_Cust_Date",
         "type": "\"double\""
        },
        {
         "metadata": "{}",
         "name": "End_Date",
         "type": "\"double\""
        },
        {
         "metadata": "{}",
         "name": "Updated_Date",
         "type": "\"double\""
        },
        {
         "metadata": "{}",
         "name": "Cust_Value",
         "type": "\"integer\""
        },
        {
         "metadata": "{}",
         "name": "Cust_Type",
         "type": "\"string\""
        },
        {
         "metadata": "{}",
         "name": "Exchange",
         "type": "\"string\""
        },
        {
         "metadata": "{}",
         "name": "Location",
         "type": "\"string\""
        },
        {
         "metadata": "{}",
         "name": "Last_Date_UTC",
         "type": "\"double\""
        },
        {
         "metadata": "{}",
         "name": "Cust_Category",
         "type": "\"string\""
        },
        {
         "metadata": "{}",
         "name": "Index",
         "type": "\"boolean\""
        }
       ],
       "type": "table"
      }
     },
     "output_type": "display_data"
    }
   ],
   "source": [
    "# Use exceptAll to find the difference\n",
    "New_Records = df_rev01.exceptAll(df_rev02)\n",
    "\n",
    "# Show the result\n",
    "display(New_Records)"
   ]
  }
 ],
 "metadata": {
  "application/vnd.databricks.v1+notebook": {
   "dashboards": [],
   "environmentMetadata": null,
   "language": "python",
   "notebookMetadata": {
    "pythonIndentUnit": 2
   },
   "notebookName": "81_How to find difference between two DataFrames using exceptAll",
   "widgets": {}
  }
 },
 "nbformat": 4,
 "nbformat_minor": 0
}
