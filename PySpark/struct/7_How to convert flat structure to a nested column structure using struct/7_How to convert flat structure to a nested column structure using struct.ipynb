{
 "cells": [
  {
   "cell_type": "markdown",
   "metadata": {
    "application/vnd.databricks.v1+cell": {
     "cellMetadata": {},
     "inputWidgets": {},
     "nuid": "cbade3b1-ca0e-4b60-b040-7c782c140e66",
     "showTitle": false,
     "title": ""
    }
   },
   "source": [
    "#### **Struct**\n",
    "\n",
    "- used to create a **new column** of type **StructType** by **combining multiple columns into a single struct column**.\n",
    "\n",
    "- you were given two columns and want to change column values from a **flat structure** to a **nested column structure**.\n",
    "\n",
    "- **Combining Columns:**\n",
    "  - The struct function can **combine multiple columns** into a **single struct column**.\n",
    "\n",
    "- **Nested Structures:**\n",
    "  - It allows for the creation of **nested structures**, which can be useful for **organizing related data**.\n",
    "  - when you want to **group** related columns together into a **single column with a nested structure**."
   ]
  },
  {
   "cell_type": "markdown",
   "metadata": {
    "application/vnd.databricks.v1+cell": {
     "cellMetadata": {},
     "inputWidgets": {},
     "nuid": "cc1d52e0-77f5-430d-b6c1-9e46c51eb7f1",
     "showTitle": false,
     "title": ""
    }
   },
   "source": [
    "**Syntax:**\n",
    "\n",
    "     struct()\n",
    "     struct(*columns) --> columns (list, set, str or column)"
   ]
  },
  {
   "cell_type": "markdown",
   "metadata": {
    "application/vnd.databricks.v1+cell": {
     "cellMetadata": {},
     "inputWidgets": {},
     "nuid": "b3061fa3-114e-40a6-8afe-fcf7246aff41",
     "showTitle": false,
     "title": ""
    }
   },
   "source": [
    "     from pyspark.sql.functions import struct, col\n",
    " \n",
    "     # Method 1:\n",
    "     df = df.select(struct(\"f_name\", \"l_name\").alias(\"name\"))\n",
    " \n",
    "     # Method 2:\n",
    "     df = df.select(struct([\"f_name\", \"l_name\"]).alias(\"name\"))\n",
    " \n",
    "     # Method 3:\n",
    "     df = df.select(struct([col(\"f_name\"), col(\"l_name\")]).alias(\"name\"))\n",
    " \n",
    "     # Method 4:\n",
    "     columns = (\"f_name\", \"l_name\")\n",
    "     df = df.select(struct(*columns).alias(\"name\"))\n",
    "\n",
    "     df = df.withColumn(\"name\", struct(\"f_name\", \"l_name\"))"
   ]
  },
  {
   "cell_type": "code",
   "execution_count": 0,
   "metadata": {
    "application/vnd.databricks.v1+cell": {
     "cellMetadata": {
      "byteLimit": 2048000,
      "rowLimit": 10000
     },
     "inputWidgets": {},
     "nuid": "d6acd9d2-e399-418b-8cba-2e4e9aa55838",
     "showTitle": false,
     "title": ""
    }
   },
   "outputs": [
    {
     "output_type": "display_data",
     "data": {
      "text/html": [
       "<style scoped>\n",
       "  .table-result-container {\n",
       "    max-height: 300px;\n",
       "    overflow: auto;\n",
       "  }\n",
       "  table, th, td {\n",
       "    border: 1px solid black;\n",
       "    border-collapse: collapse;\n",
       "  }\n",
       "  th, td {\n",
       "    padding: 5px;\n",
       "  }\n",
       "  th {\n",
       "    text-align: left;\n",
       "  }\n",
       "</style><div class='table-result-container'><table class='table-result'><thead style='background-color: white'><tr><th>name</th><th>age</th></tr></thead><tbody><tr><td>Alice</td><td>2</td></tr><tr><td>Bob</td><td>5</td></tr></tbody></table></div>"
      ]
     },
     "metadata": {
      "application/vnd.databricks.v1+output": {
       "addedWidgets": {},
       "aggData": [],
       "aggError": "",
       "aggOverflow": false,
       "aggSchema": [],
       "aggSeriesLimitReached": false,
       "aggType": "",
       "arguments": {},
       "columnCustomDisplayInfos": {},
       "data": [
        [
         "Alice",
         2
        ],
        [
         "Bob",
         5
        ]
       ],
       "datasetInfos": [],
       "dbfsResultPath": null,
       "isJsonSchema": true,
       "metadata": {},
       "overflow": false,
       "plotOptions": {
        "customPlotOptions": {},
        "displayType": "table",
        "pivotAggregation": null,
        "pivotColumns": null,
        "xColumns": null,
        "yColumns": null
       },
       "removedWidgets": [],
       "schema": [
        {
         "metadata": "{}",
         "name": "name",
         "type": "\"string\""
        },
        {
         "metadata": "{}",
         "name": "age",
         "type": "\"long\""
        }
       ],
       "type": "table"
      }
     },
     "output_type": "display_data"
    },
    {
     "output_type": "stream",
     "name": "stdout",
     "output_type": "stream",
     "text": [
      "root\n |-- name: string (nullable = true)\n |-- age: long (nullable = true)\n\n"
     ]
    }
   ],
   "source": [
    "df = spark.createDataFrame([(\"Alice\", 2), (\"Bob\", 5)], (\"name\", \"age\"))\n",
    "display(df)\n",
    "df.printSchema()"
   ]
  },
  {
   "cell_type": "code",
   "execution_count": 0,
   "metadata": {
    "application/vnd.databricks.v1+cell": {
     "cellMetadata": {
      "byteLimit": 2048000,
      "rowLimit": 10000
     },
     "inputWidgets": {},
     "nuid": "bb4f8922-729a-46e4-a954-761b6b4489c2",
     "showTitle": false,
     "title": ""
    }
   },
   "outputs": [
    {
     "output_type": "stream",
     "name": "stdout",
     "output_type": "stream",
     "text": [
      "Out[17]: [Row(struct=Row(age=2, name='Alice')), Row(struct=Row(age=5, name='Bob'))]"
     ]
    }
   ],
   "source": [
    "df.select(struct('age', 'name').alias(\"struct\")).collect()"
   ]
  },
  {
   "cell_type": "markdown",
   "metadata": {
    "application/vnd.databricks.v1+cell": {
     "cellMetadata": {},
     "inputWidgets": {},
     "nuid": "2c0919f0-5026-4697-a447-167d02b03f69",
     "showTitle": false,
     "title": ""
    }
   },
   "source": [
    "#### **How to convert flat structure to a nested column structure**"
   ]
  },
  {
   "cell_type": "code",
   "execution_count": 0,
   "metadata": {
    "application/vnd.databricks.v1+cell": {
     "cellMetadata": {
      "byteLimit": 2048000,
      "rowLimit": 10000
     },
     "inputWidgets": {},
     "nuid": "2abd9a54-6828-41bd-84bf-8985997b1dd6",
     "showTitle": false,
     "title": ""
    }
   },
   "outputs": [],
   "source": [
    "from pyspark.sql.functions import struct, col, from_json, to_json\n",
    "from pyspark.sql.types import StructType, StructField, IntegerType, StringType\n",
    "import pyspark.sql.functions as f"
   ]
  },
  {
   "cell_type": "code",
   "execution_count": 0,
   "metadata": {
    "application/vnd.databricks.v1+cell": {
     "cellMetadata": {
      "byteLimit": 2048000,
      "rowLimit": 10000
     },
     "inputWidgets": {},
     "nuid": "8b67fba3-0b5b-45f5-be33-28ed6b956f53",
     "showTitle": false,
     "title": ""
    }
   },
   "outputs": [
    {
     "output_type": "display_data",
     "data": {
      "text/html": [
       "<style scoped>\n",
       "  .table-result-container {\n",
       "    max-height: 300px;\n",
       "    overflow: auto;\n",
       "  }\n",
       "  table, th, td {\n",
       "    border: 1px solid black;\n",
       "    border-collapse: collapse;\n",
       "  }\n",
       "  th, td {\n",
       "    padding: 5px;\n",
       "  }\n",
       "  th {\n",
       "    text-align: left;\n",
       "  }\n",
       "</style><div class='table-result-container'><table class='table-result'><thead style='background-color: white'><tr><th>S.No</th><th>First_Name</th><th>Last_Name</th></tr></thead><tbody><tr><td>1</td><td>Marry</td><td>Terissa</td></tr><tr><td>2</td><td>Kapil</td><td>Sharma</td></tr><tr><td>3</td><td>Niraj</td><td>Gupta</td></tr><tr><td>4</td><td>Amit</td><td>Jain</td></tr></tbody></table></div>"
      ]
     },
     "metadata": {
      "application/vnd.databricks.v1+output": {
       "addedWidgets": {},
       "aggData": [],
       "aggError": "",
       "aggOverflow": false,
       "aggSchema": [],
       "aggSeriesLimitReached": false,
       "aggType": "",
       "arguments": {},
       "columnCustomDisplayInfos": {},
       "data": [
        [
         1,
         "Marry",
         "Terissa"
        ],
        [
         2,
         "Kapil",
         "Sharma"
        ],
        [
         3,
         "Niraj",
         "Gupta"
        ],
        [
         4,
         "Amit",
         "Jain"
        ]
       ],
       "datasetInfos": [],
       "dbfsResultPath": null,
       "isJsonSchema": true,
       "metadata": {},
       "overflow": false,
       "plotOptions": {
        "customPlotOptions": {},
        "displayType": "table",
        "pivotAggregation": null,
        "pivotColumns": null,
        "xColumns": null,
        "yColumns": null
       },
       "removedWidgets": [],
       "schema": [
        {
         "metadata": "{}",
         "name": "S.No",
         "type": "\"integer\""
        },
        {
         "metadata": "{}",
         "name": "First_Name",
         "type": "\"string\""
        },
        {
         "metadata": "{}",
         "name": "Last_Name",
         "type": "\"string\""
        }
       ],
       "type": "table"
      }
     },
     "output_type": "display_data"
    }
   ],
   "source": [
    "data = [(1, \"Marry\", \"Terissa\"), (2, \"Kapil\", \"Sharma\"), (3, \"Niraj\", \"Gupta\"), (4, \"Amit\", \"Jain\")]\n",
    "\n",
    "schema = StructType([StructField(\"S.No\", IntegerType(), False),\n",
    "                     StructField(\"First_Name\", StringType(), False),\n",
    "                     StructField(\"Last_Name\", StringType(), False)])\n",
    "\n",
    "dff = spark.createDataFrame(data, schema=schema)\n",
    "display(dff)"
   ]
  },
  {
   "cell_type": "code",
   "execution_count": 0,
   "metadata": {
    "application/vnd.databricks.v1+cell": {
     "cellMetadata": {
      "byteLimit": 2048000,
      "rowLimit": 10000
     },
     "inputWidgets": {},
     "nuid": "9ec50db0-c9d9-4f2b-b582-2d87e2d278cb",
     "showTitle": false,
     "title": ""
    }
   },
   "outputs": [
    {
     "output_type": "display_data",
     "data": {
      "text/html": [
       "<style scoped>\n",
       "  .table-result-container {\n",
       "    max-height: 300px;\n",
       "    overflow: auto;\n",
       "  }\n",
       "  table, th, td {\n",
       "    border: 1px solid black;\n",
       "    border-collapse: collapse;\n",
       "  }\n",
       "  th, td {\n",
       "    padding: 5px;\n",
       "  }\n",
       "  th {\n",
       "    text-align: left;\n",
       "  }\n",
       "</style><div class='table-result-container'><table class='table-result'><thead style='background-color: white'><tr><th>S.No</th><th>First_Name</th><th>Last_Name</th><th>Name</th></tr></thead><tbody><tr><td>1</td><td>Marry</td><td>Terissa</td><td>List(Marry, Terissa)</td></tr><tr><td>2</td><td>Kapil</td><td>Sharma</td><td>List(Kapil, Sharma)</td></tr><tr><td>3</td><td>Niraj</td><td>Gupta</td><td>List(Niraj, Gupta)</td></tr><tr><td>4</td><td>Amit</td><td>Jain</td><td>List(Amit, Jain)</td></tr></tbody></table></div>"
      ]
     },
     "metadata": {
      "application/vnd.databricks.v1+output": {
       "addedWidgets": {},
       "aggData": [],
       "aggError": "",
       "aggOverflow": false,
       "aggSchema": [],
       "aggSeriesLimitReached": false,
       "aggType": "",
       "arguments": {},
       "columnCustomDisplayInfos": {},
       "data": [
        [
         1,
         "Marry",
         "Terissa",
         [
          "Marry",
          "Terissa"
         ]
        ],
        [
         2,
         "Kapil",
         "Sharma",
         [
          "Kapil",
          "Sharma"
         ]
        ],
        [
         3,
         "Niraj",
         "Gupta",
         [
          "Niraj",
          "Gupta"
         ]
        ],
        [
         4,
         "Amit",
         "Jain",
         [
          "Amit",
          "Jain"
         ]
        ]
       ],
       "datasetInfos": [],
       "dbfsResultPath": null,
       "isJsonSchema": true,
       "metadata": {},
       "overflow": false,
       "plotOptions": {
        "customPlotOptions": {},
        "displayType": "table",
        "pivotAggregation": null,
        "pivotColumns": null,
        "xColumns": null,
        "yColumns": null
       },
       "removedWidgets": [],
       "schema": [
        {
         "metadata": "{}",
         "name": "S.No",
         "type": "\"integer\""
        },
        {
         "metadata": "{}",
         "name": "First_Name",
         "type": "\"string\""
        },
        {
         "metadata": "{}",
         "name": "Last_Name",
         "type": "\"string\""
        },
        {
         "metadata": "{}",
         "name": "Name",
         "type": "{\"type\":\"struct\",\"fields\":[{\"name\":\"First_Name\",\"type\":\"string\",\"nullable\":false,\"metadata\":{}},{\"name\":\"Last_Name\",\"type\":\"string\",\"nullable\":false,\"metadata\":{}}]}"
        }
       ],
       "type": "table"
      }
     },
     "output_type": "display_data"
    }
   ],
   "source": [
    "# using withColumn method\n",
    "df1 = dff.withColumn(\"Name\", struct(\"First_Name\", \"Last_Name\"))\n",
    "display(df1)"
   ]
  },
  {
   "cell_type": "code",
   "execution_count": 0,
   "metadata": {
    "application/vnd.databricks.v1+cell": {
     "cellMetadata": {
      "byteLimit": 2048000,
      "rowLimit": 10000
     },
     "inputWidgets": {},
     "nuid": "574ec52d-9444-4ca6-b666-ff77ebf228ba",
     "showTitle": false,
     "title": ""
    }
   },
   "outputs": [
    {
     "output_type": "display_data",
     "data": {
      "text/html": [
       "<style scoped>\n",
       "  .table-result-container {\n",
       "    max-height: 300px;\n",
       "    overflow: auto;\n",
       "  }\n",
       "  table, th, td {\n",
       "    border: 1px solid black;\n",
       "    border-collapse: collapse;\n",
       "  }\n",
       "  th, td {\n",
       "    padding: 5px;\n",
       "  }\n",
       "  th {\n",
       "    text-align: left;\n",
       "  }\n",
       "</style><div class='table-result-container'><table class='table-result'><thead style='background-color: white'><tr><th>S.No</th><th>First_Name</th><th>Last_Name</th><th>Name</th></tr></thead><tbody><tr><td>1</td><td>Marry</td><td>Terissa</td><td>List(Marry, Terissa)</td></tr><tr><td>2</td><td>Kapil</td><td>Sharma</td><td>List(Kapil, Sharma)</td></tr><tr><td>3</td><td>Niraj</td><td>Gupta</td><td>List(Niraj, Gupta)</td></tr><tr><td>4</td><td>Amit</td><td>Jain</td><td>List(Amit, Jain)</td></tr></tbody></table></div>"
      ]
     },
     "metadata": {
      "application/vnd.databricks.v1+output": {
       "addedWidgets": {},
       "aggData": [],
       "aggError": "",
       "aggOverflow": false,
       "aggSchema": [],
       "aggSeriesLimitReached": false,
       "aggType": "",
       "arguments": {},
       "columnCustomDisplayInfos": {},
       "data": [
        [
         1,
         "Marry",
         "Terissa",
         [
          "Marry",
          "Terissa"
         ]
        ],
        [
         2,
         "Kapil",
         "Sharma",
         [
          "Kapil",
          "Sharma"
         ]
        ],
        [
         3,
         "Niraj",
         "Gupta",
         [
          "Niraj",
          "Gupta"
         ]
        ],
        [
         4,
         "Amit",
         "Jain",
         [
          "Amit",
          "Jain"
         ]
        ]
       ],
       "datasetInfos": [],
       "dbfsResultPath": null,
       "isJsonSchema": true,
       "metadata": {},
       "overflow": false,
       "plotOptions": {
        "customPlotOptions": {},
        "displayType": "table",
        "pivotAggregation": null,
        "pivotColumns": null,
        "xColumns": null,
        "yColumns": null
       },
       "removedWidgets": [],
       "schema": [
        {
         "metadata": "{}",
         "name": "S.No",
         "type": "\"integer\""
        },
        {
         "metadata": "{}",
         "name": "First_Name",
         "type": "\"string\""
        },
        {
         "metadata": "{}",
         "name": "Last_Name",
         "type": "\"string\""
        },
        {
         "metadata": "{}",
         "name": "Name",
         "type": "{\"type\":\"struct\",\"fields\":[{\"name\":\"First_Name\",\"type\":\"string\",\"nullable\":false,\"metadata\":{}},{\"name\":\"Last_Name\",\"type\":\"string\",\"nullable\":false,\"metadata\":{}}]}"
        }
       ],
       "type": "table"
      }
     },
     "output_type": "display_data"
    }
   ],
   "source": [
    "# using Select method 01\n",
    "df2 = dff.select(\"*\", struct(\"First_Name\", \"Last_Name\").alias(\"Name\"))\n",
    "display(df2)"
   ]
  },
  {
   "cell_type": "code",
   "execution_count": 0,
   "metadata": {
    "application/vnd.databricks.v1+cell": {
     "cellMetadata": {
      "byteLimit": 2048000,
      "rowLimit": 10000
     },
     "inputWidgets": {},
     "nuid": "f881de17-4980-425f-a56a-237189facf21",
     "showTitle": false,
     "title": ""
    }
   },
   "outputs": [
    {
     "output_type": "display_data",
     "data": {
      "text/html": [
       "<style scoped>\n",
       "  .table-result-container {\n",
       "    max-height: 300px;\n",
       "    overflow: auto;\n",
       "  }\n",
       "  table, th, td {\n",
       "    border: 1px solid black;\n",
       "    border-collapse: collapse;\n",
       "  }\n",
       "  th, td {\n",
       "    padding: 5px;\n",
       "  }\n",
       "  th {\n",
       "    text-align: left;\n",
       "  }\n",
       "</style><div class='table-result-container'><table class='table-result'><thead style='background-color: white'><tr><th>S.No</th><th>First_Name</th><th>Last_Name</th><th>Name</th></tr></thead><tbody><tr><td>1</td><td>Marry</td><td>Terissa</td><td>List(Marry, Terissa)</td></tr><tr><td>2</td><td>Kapil</td><td>Sharma</td><td>List(Kapil, Sharma)</td></tr><tr><td>3</td><td>Niraj</td><td>Gupta</td><td>List(Niraj, Gupta)</td></tr><tr><td>4</td><td>Amit</td><td>Jain</td><td>List(Amit, Jain)</td></tr></tbody></table></div>"
      ]
     },
     "metadata": {
      "application/vnd.databricks.v1+output": {
       "addedWidgets": {},
       "aggData": [],
       "aggError": "",
       "aggOverflow": false,
       "aggSchema": [],
       "aggSeriesLimitReached": false,
       "aggType": "",
       "arguments": {},
       "columnCustomDisplayInfos": {},
       "data": [
        [
         1,
         "Marry",
         "Terissa",
         [
          "Marry",
          "Terissa"
         ]
        ],
        [
         2,
         "Kapil",
         "Sharma",
         [
          "Kapil",
          "Sharma"
         ]
        ],
        [
         3,
         "Niraj",
         "Gupta",
         [
          "Niraj",
          "Gupta"
         ]
        ],
        [
         4,
         "Amit",
         "Jain",
         [
          "Amit",
          "Jain"
         ]
        ]
       ],
       "datasetInfos": [],
       "dbfsResultPath": null,
       "isJsonSchema": true,
       "metadata": {},
       "overflow": false,
       "plotOptions": {
        "customPlotOptions": {},
        "displayType": "table",
        "pivotAggregation": null,
        "pivotColumns": null,
        "xColumns": null,
        "yColumns": null
       },
       "removedWidgets": [],
       "schema": [
        {
         "metadata": "{}",
         "name": "S.No",
         "type": "\"integer\""
        },
        {
         "metadata": "{}",
         "name": "First_Name",
         "type": "\"string\""
        },
        {
         "metadata": "{}",
         "name": "Last_Name",
         "type": "\"string\""
        },
        {
         "metadata": "{}",
         "name": "Name",
         "type": "{\"type\":\"struct\",\"fields\":[{\"name\":\"First_Name\",\"type\":\"string\",\"nullable\":false,\"metadata\":{}},{\"name\":\"Last_Name\",\"type\":\"string\",\"nullable\":false,\"metadata\":{}}]}"
        }
       ],
       "type": "table"
      }
     },
     "output_type": "display_data"
    }
   ],
   "source": [
    "# using Select method 02\n",
    "df3 = dff.select(\"*\", struct([\"First_Name\", \"Last_Name\"]).alias(\"Name\"))\n",
    "display(df3)"
   ]
  },
  {
   "cell_type": "code",
   "execution_count": 0,
   "metadata": {
    "application/vnd.databricks.v1+cell": {
     "cellMetadata": {
      "byteLimit": 2048000,
      "rowLimit": 10000
     },
     "inputWidgets": {},
     "nuid": "18bb5f4b-7f0b-4e54-ba9c-222c0bd7d18a",
     "showTitle": false,
     "title": ""
    }
   },
   "outputs": [
    {
     "output_type": "display_data",
     "data": {
      "text/html": [
       "<style scoped>\n",
       "  .table-result-container {\n",
       "    max-height: 300px;\n",
       "    overflow: auto;\n",
       "  }\n",
       "  table, th, td {\n",
       "    border: 1px solid black;\n",
       "    border-collapse: collapse;\n",
       "  }\n",
       "  th, td {\n",
       "    padding: 5px;\n",
       "  }\n",
       "  th {\n",
       "    text-align: left;\n",
       "  }\n",
       "</style><div class='table-result-container'><table class='table-result'><thead style='background-color: white'><tr><th>S.No</th><th>First_Name</th><th>Last_Name</th><th>Name</th></tr></thead><tbody><tr><td>1</td><td>Marry</td><td>Terissa</td><td>List(Marry, Terissa)</td></tr><tr><td>2</td><td>Kapil</td><td>Sharma</td><td>List(Kapil, Sharma)</td></tr><tr><td>3</td><td>Niraj</td><td>Gupta</td><td>List(Niraj, Gupta)</td></tr><tr><td>4</td><td>Amit</td><td>Jain</td><td>List(Amit, Jain)</td></tr></tbody></table></div>"
      ]
     },
     "metadata": {
      "application/vnd.databricks.v1+output": {
       "addedWidgets": {},
       "aggData": [],
       "aggError": "",
       "aggOverflow": false,
       "aggSchema": [],
       "aggSeriesLimitReached": false,
       "aggType": "",
       "arguments": {},
       "columnCustomDisplayInfos": {},
       "data": [
        [
         1,
         "Marry",
         "Terissa",
         [
          "Marry",
          "Terissa"
         ]
        ],
        [
         2,
         "Kapil",
         "Sharma",
         [
          "Kapil",
          "Sharma"
         ]
        ],
        [
         3,
         "Niraj",
         "Gupta",
         [
          "Niraj",
          "Gupta"
         ]
        ],
        [
         4,
         "Amit",
         "Jain",
         [
          "Amit",
          "Jain"
         ]
        ]
       ],
       "datasetInfos": [],
       "dbfsResultPath": null,
       "isJsonSchema": true,
       "metadata": {},
       "overflow": false,
       "plotOptions": {
        "customPlotOptions": {},
        "displayType": "table",
        "pivotAggregation": null,
        "pivotColumns": null,
        "xColumns": null,
        "yColumns": null
       },
       "removedWidgets": [],
       "schema": [
        {
         "metadata": "{}",
         "name": "S.No",
         "type": "\"integer\""
        },
        {
         "metadata": "{}",
         "name": "First_Name",
         "type": "\"string\""
        },
        {
         "metadata": "{}",
         "name": "Last_Name",
         "type": "\"string\""
        },
        {
         "metadata": "{}",
         "name": "Name",
         "type": "{\"type\":\"struct\",\"fields\":[{\"name\":\"First_Name\",\"type\":\"string\",\"nullable\":false,\"metadata\":{}},{\"name\":\"Last_Name\",\"type\":\"string\",\"nullable\":false,\"metadata\":{}}]}"
        }
       ],
       "type": "table"
      }
     },
     "output_type": "display_data"
    }
   ],
   "source": [
    "# using Select method 03\n",
    "df4 = dff.select(\"*\", struct([col(\"First_Name\"), col(\"Last_Name\")]).alias(\"Name\"))\n",
    "display(df4)"
   ]
  },
  {
   "cell_type": "code",
   "execution_count": 0,
   "metadata": {
    "application/vnd.databricks.v1+cell": {
     "cellMetadata": {
      "byteLimit": 2048000,
      "rowLimit": 10000
     },
     "inputWidgets": {},
     "nuid": "e8f9e84e-02d4-4a5e-9034-26575244b34e",
     "showTitle": false,
     "title": ""
    }
   },
   "outputs": [
    {
     "output_type": "display_data",
     "data": {
      "text/html": [
       "<style scoped>\n",
       "  .table-result-container {\n",
       "    max-height: 300px;\n",
       "    overflow: auto;\n",
       "  }\n",
       "  table, th, td {\n",
       "    border: 1px solid black;\n",
       "    border-collapse: collapse;\n",
       "  }\n",
       "  th, td {\n",
       "    padding: 5px;\n",
       "  }\n",
       "  th {\n",
       "    text-align: left;\n",
       "  }\n",
       "</style><div class='table-result-container'><table class='table-result'><thead style='background-color: white'><tr><th>S.No</th><th>First_Name</th><th>Last_Name</th><th>Name</th></tr></thead><tbody><tr><td>1</td><td>Marry</td><td>Terissa</td><td>List(Marry, Terissa)</td></tr><tr><td>2</td><td>Kapil</td><td>Sharma</td><td>List(Kapil, Sharma)</td></tr><tr><td>3</td><td>Niraj</td><td>Gupta</td><td>List(Niraj, Gupta)</td></tr><tr><td>4</td><td>Amit</td><td>Jain</td><td>List(Amit, Jain)</td></tr></tbody></table></div>"
      ]
     },
     "metadata": {
      "application/vnd.databricks.v1+output": {
       "addedWidgets": {},
       "aggData": [],
       "aggError": "",
       "aggOverflow": false,
       "aggSchema": [],
       "aggSeriesLimitReached": false,
       "aggType": "",
       "arguments": {},
       "columnCustomDisplayInfos": {},
       "data": [
        [
         1,
         "Marry",
         "Terissa",
         [
          "Marry",
          "Terissa"
         ]
        ],
        [
         2,
         "Kapil",
         "Sharma",
         [
          "Kapil",
          "Sharma"
         ]
        ],
        [
         3,
         "Niraj",
         "Gupta",
         [
          "Niraj",
          "Gupta"
         ]
        ],
        [
         4,
         "Amit",
         "Jain",
         [
          "Amit",
          "Jain"
         ]
        ]
       ],
       "datasetInfos": [],
       "dbfsResultPath": null,
       "isJsonSchema": true,
       "metadata": {},
       "overflow": false,
       "plotOptions": {
        "customPlotOptions": {},
        "displayType": "table",
        "pivotAggregation": null,
        "pivotColumns": null,
        "xColumns": null,
        "yColumns": null
       },
       "removedWidgets": [],
       "schema": [
        {
         "metadata": "{}",
         "name": "S.No",
         "type": "\"integer\""
        },
        {
         "metadata": "{}",
         "name": "First_Name",
         "type": "\"string\""
        },
        {
         "metadata": "{}",
         "name": "Last_Name",
         "type": "\"string\""
        },
        {
         "metadata": "{}",
         "name": "Name",
         "type": "{\"type\":\"struct\",\"fields\":[{\"name\":\"First_Name\",\"type\":\"string\",\"nullable\":false,\"metadata\":{}},{\"name\":\"Last_Name\",\"type\":\"string\",\"nullable\":false,\"metadata\":{}}]}"
        }
       ],
       "type": "table"
      }
     },
     "output_type": "display_data"
    }
   ],
   "source": [
    "# using Select method 04\n",
    "cols = (\"First_Name\", \"Last_Name\")\n",
    "df5 = dff.select(\"*\", struct(*cols).alias(\"Name\"))\n",
    "display(df5)"
   ]
  },
  {
   "cell_type": "markdown",
   "metadata": {
    "application/vnd.databricks.v1+cell": {
     "cellMetadata": {},
     "inputWidgets": {},
     "nuid": "746fa4ac-071d-4c20-ad6f-0fc1dd810e62",
     "showTitle": false,
     "title": ""
    }
   },
   "source": [
    "#### **How to convert StructType column into StringType using to_json?**"
   ]
  },
  {
   "cell_type": "code",
   "execution_count": 0,
   "metadata": {
    "application/vnd.databricks.v1+cell": {
     "cellMetadata": {
      "byteLimit": 2048000,
      "rowLimit": 10000
     },
     "inputWidgets": {},
     "nuid": "15e81645-290a-4ff4-86cf-424cad8f2e6b",
     "showTitle": false,
     "title": ""
    }
   },
   "outputs": [
    {
     "output_type": "display_data",
     "data": {
      "text/html": [
       "<style scoped>\n",
       "  .table-result-container {\n",
       "    max-height: 300px;\n",
       "    overflow: auto;\n",
       "  }\n",
       "  table, th, td {\n",
       "    border: 1px solid black;\n",
       "    border-collapse: collapse;\n",
       "  }\n",
       "  th, td {\n",
       "    padding: 5px;\n",
       "  }\n",
       "  th {\n",
       "    text-align: left;\n",
       "  }\n",
       "</style><div class='table-result-container'><table class='table-result'><thead style='background-color: white'><tr><th>Id</th><th>Nick_Name</th><th>First_Name</th><th>Last_Name</th><th>Type</th><th>Age</th></tr></thead><tbody><tr><td>1</td><td>admin</td><td>John</td><td>Victor</td><td>Grade1</td><td>30</td></tr><tr><td>2</td><td>everest</td><td>Paul</td><td>Irish</td><td>Grade2</td><td>35</td></tr><tr><td>3</td><td>moon</td><td>Erram</td><td>Rammohan</td><td>Enginner1</td><td>29</td></tr><tr><td>4</td><td>service</td><td>Stalin</td><td>Rajesh</td><td>Minister</td><td>40</td></tr><tr><td>5</td><td>Builder</td><td>Golla</td><td>Rajasekar</td><td>Builder</td><td>43</td></tr><tr><td>6</td><td>Drinker</td><td>Karjala</td><td>Hari</td><td>Army</td><td>33</td></tr><tr><td>7</td><td>Army</td><td>Koyi</td><td>Damodar</td><td>Bettalian</td><td>37</td></tr><tr><td>8</td><td>Marketing</td><td>Vemparla</td><td>Harish</td><td>Manager</td><td>55</td></tr><tr><td>9</td><td>Politician</td><td>Devineni</td><td>Umesh</td><td>Senior</td><td>58</td></tr><tr><td>10</td><td>Minister</td><td>Ponguru</td><td>Narayana</td><td>Education</td><td>56</td></tr><tr><td>11</td><td>Design</td><td>Mohmad</td><td>Basha</td><td>Enginner2</td><td>47</td></tr><tr><td>12</td><td>ADE</td><td>Enuganti</td><td>Suesh</td><td>Resource</td><td>31</td></tr><tr><td>13</td><td>Lords</td><td>Jim</td><td>Jackson</td><td>Paster</td><td>60</td></tr><tr><td>14</td><td>jain</td><td>Vikas</td><td>Jain</td><td>Priest</td><td>62</td></tr><tr><td>15</td><td>Boston</td><td>Ivan</td><td>Madrid</td><td>Cricketer</td><td>34</td></tr><tr><td>16</td><td>Republic</td><td>Paul</td><td>Raj</td><td>Tennis</td><td>27</td></tr><tr><td>17</td><td>Batsman</td><td>Ricky</td><td>Pointing</td><td>Cricketer</td><td>36</td></tr></tbody></table></div>"
      ]
     },
     "metadata": {
      "application/vnd.databricks.v1+output": {
       "addedWidgets": {},
       "aggData": [],
       "aggError": "",
       "aggOverflow": false,
       "aggSchema": [],
       "aggSeriesLimitReached": false,
       "aggType": "",
       "arguments": {},
       "columnCustomDisplayInfos": {},
       "data": [
        [
         1,
         "admin",
         "John",
         "Victor",
         "Grade1",
         30
        ],
        [
         2,
         "everest",
         "Paul",
         "Irish",
         "Grade2",
         35
        ],
        [
         3,
         "moon",
         "Erram",
         "Rammohan",
         "Enginner1",
         29
        ],
        [
         4,
         "service",
         "Stalin",
         "Rajesh",
         "Minister",
         40
        ],
        [
         5,
         "Builder",
         "Golla",
         "Rajasekar",
         "Builder",
         43
        ],
        [
         6,
         "Drinker",
         "Karjala",
         "Hari",
         "Army",
         33
        ],
        [
         7,
         "Army",
         "Koyi",
         "Damodar",
         "Bettalian",
         37
        ],
        [
         8,
         "Marketing",
         "Vemparla",
         "Harish",
         "Manager",
         55
        ],
        [
         9,
         "Politician",
         "Devineni",
         "Umesh",
         "Senior",
         58
        ],
        [
         10,
         "Minister",
         "Ponguru",
         "Narayana",
         "Education",
         56
        ],
        [
         11,
         "Design",
         "Mohmad",
         "Basha",
         "Enginner2",
         47
        ],
        [
         12,
         "ADE",
         "Enuganti",
         "Suesh",
         "Resource",
         31
        ],
        [
         13,
         "Lords",
         "Jim",
         "Jackson",
         "Paster",
         60
        ],
        [
         14,
         "jain",
         "Vikas",
         "Jain",
         "Priest",
         62
        ],
        [
         15,
         "Boston",
         "Ivan",
         "Madrid",
         "Cricketer",
         34
        ],
        [
         16,
         "Republic",
         "Paul",
         "Raj",
         "Tennis",
         27
        ],
        [
         17,
         "Batsman",
         "Ricky",
         "Pointing",
         "Cricketer",
         36
        ]
       ],
       "datasetInfos": [],
       "dbfsResultPath": null,
       "isJsonSchema": true,
       "metadata": {},
       "overflow": false,
       "plotOptions": {
        "customPlotOptions": {},
        "displayType": "table",
        "pivotAggregation": null,
        "pivotColumns": null,
        "xColumns": null,
        "yColumns": null
       },
       "removedWidgets": [],
       "schema": [
        {
         "metadata": "{}",
         "name": "Id",
         "type": "\"integer\""
        },
        {
         "metadata": "{}",
         "name": "Nick_Name",
         "type": "\"string\""
        },
        {
         "metadata": "{}",
         "name": "First_Name",
         "type": "\"string\""
        },
        {
         "metadata": "{}",
         "name": "Last_Name",
         "type": "\"string\""
        },
        {
         "metadata": "{}",
         "name": "Type",
         "type": "\"string\""
        },
        {
         "metadata": "{}",
         "name": "Age",
         "type": "\"integer\""
        }
       ],
       "type": "table"
      }
     },
     "output_type": "display_data"
    }
   ],
   "source": [
    "df = spark.read.csv(\"/FileStore/tables/StructType-5.csv\", header=True, inferSchema=True)\n",
    "display(df)"
   ]
  },
  {
   "cell_type": "code",
   "execution_count": 0,
   "metadata": {
    "application/vnd.databricks.v1+cell": {
     "cellMetadata": {
      "byteLimit": 2048000,
      "rowLimit": 10000
     },
     "inputWidgets": {},
     "nuid": "671931d5-060f-4d02-930c-e1206924eacf",
     "showTitle": false,
     "title": ""
    }
   },
   "outputs": [
    {
     "output_type": "stream",
     "name": "stdout",
     "output_type": "stream",
     "text": [
      "root\n |-- Id: integer (nullable = true)\n |-- Nick_Name: string (nullable = true)\n |-- First_Name: string (nullable = true)\n |-- Last_Name: string (nullable = true)\n |-- Type: string (nullable = true)\n |-- Age: integer (nullable = true)\n\n"
     ]
    }
   ],
   "source": [
    "df.printSchema()"
   ]
  },
  {
   "cell_type": "markdown",
   "metadata": {
    "application/vnd.databricks.v1+cell": {
     "cellMetadata": {},
     "inputWidgets": {},
     "nuid": "4ba298a2-fa18-4166-982f-642b9563a355",
     "showTitle": false,
     "title": ""
    }
   },
   "source": [
    "     # Select all columns and structure them into a single column named 'Sales'\n",
    "     df_stru = df_json.select(f.struct('*').alias('sales_msg')).distinct()\n",
    "     display(df_stru.limit(10))\n",
    "                                (or)\n",
    "     # Select all columns and structure them into a single column named 'Sales'\n",
    "     sales_df_final = df.select(f.struct(\n",
    "                                f.col('Id'),\n",
    "                                f.col('Nick_Name'),\n",
    "                                f.col('First_Name'),\n",
    "                                f.col('Last_Name'),\n",
    "                                f.col('Type'),\n",
    "                                f.col('Age')\n",
    "                                ).alias('Sales')\n",
    "                              )\n",
    "\n",
    "     display(sales_df_final)"
   ]
  },
  {
   "cell_type": "code",
   "execution_count": 0,
   "metadata": {
    "application/vnd.databricks.v1+cell": {
     "cellMetadata": {
      "byteLimit": 2048000,
      "rowLimit": 10000
     },
     "inputWidgets": {},
     "nuid": "1b38370f-0364-4f3d-8b5a-32b33a9be85f",
     "showTitle": false,
     "title": ""
    }
   },
   "outputs": [
    {
     "output_type": "display_data",
     "data": {
      "text/html": [
       "<style scoped>\n",
       "  .table-result-container {\n",
       "    max-height: 300px;\n",
       "    overflow: auto;\n",
       "  }\n",
       "  table, th, td {\n",
       "    border: 1px solid black;\n",
       "    border-collapse: collapse;\n",
       "  }\n",
       "  th, td {\n",
       "    padding: 5px;\n",
       "  }\n",
       "  th {\n",
       "    text-align: left;\n",
       "  }\n",
       "</style><div class='table-result-container'><table class='table-result'><thead style='background-color: white'><tr><th>Sales</th></tr></thead><tbody><tr><td>List(1, admin, John, Victor, Grade1, 30)</td></tr><tr><td>List(2, everest, Paul, Irish, Grade2, 35)</td></tr><tr><td>List(3, moon, Erram, Rammohan, Enginner1, 29)</td></tr><tr><td>List(4, service, Stalin, Rajesh, Minister, 40)</td></tr><tr><td>List(5, Builder, Golla, Rajasekar, Builder, 43)</td></tr><tr><td>List(6, Drinker, Karjala, Hari, Army, 33)</td></tr><tr><td>List(7, Army, Koyi, Damodar, Bettalian, 37)</td></tr><tr><td>List(8, Marketing, Vemparla, Harish, Manager, 55)</td></tr><tr><td>List(9, Politician, Devineni, Umesh, Senior, 58)</td></tr><tr><td>List(10, Minister, Ponguru, Narayana, Education, 56)</td></tr><tr><td>List(11, Design, Mohmad, Basha, Enginner2, 47)</td></tr><tr><td>List(12, ADE, Enuganti, Suesh, Resource, 31)</td></tr><tr><td>List(13, Lords, Jim, Jackson, Paster, 60)</td></tr><tr><td>List(14, jain, Vikas, Jain, Priest, 62)</td></tr><tr><td>List(15, Boston, Ivan, Madrid, Cricketer, 34)</td></tr><tr><td>List(16, Republic, Paul, Raj, Tennis, 27)</td></tr><tr><td>List(17, Batsman, Ricky, Pointing, Cricketer, 36)</td></tr></tbody></table></div>"
      ]
     },
     "metadata": {
      "application/vnd.databricks.v1+output": {
       "addedWidgets": {},
       "aggData": [],
       "aggError": "",
       "aggOverflow": false,
       "aggSchema": [],
       "aggSeriesLimitReached": false,
       "aggType": "",
       "arguments": {},
       "columnCustomDisplayInfos": {},
       "data": [
        [
         [
          1,
          "admin",
          "John",
          "Victor",
          "Grade1",
          30
         ]
        ],
        [
         [
          2,
          "everest",
          "Paul",
          "Irish",
          "Grade2",
          35
         ]
        ],
        [
         [
          3,
          "moon",
          "Erram",
          "Rammohan",
          "Enginner1",
          29
         ]
        ],
        [
         [
          4,
          "service",
          "Stalin",
          "Rajesh",
          "Minister",
          40
         ]
        ],
        [
         [
          5,
          "Builder",
          "Golla",
          "Rajasekar",
          "Builder",
          43
         ]
        ],
        [
         [
          6,
          "Drinker",
          "Karjala",
          "Hari",
          "Army",
          33
         ]
        ],
        [
         [
          7,
          "Army",
          "Koyi",
          "Damodar",
          "Bettalian",
          37
         ]
        ],
        [
         [
          8,
          "Marketing",
          "Vemparla",
          "Harish",
          "Manager",
          55
         ]
        ],
        [
         [
          9,
          "Politician",
          "Devineni",
          "Umesh",
          "Senior",
          58
         ]
        ],
        [
         [
          10,
          "Minister",
          "Ponguru",
          "Narayana",
          "Education",
          56
         ]
        ],
        [
         [
          11,
          "Design",
          "Mohmad",
          "Basha",
          "Enginner2",
          47
         ]
        ],
        [
         [
          12,
          "ADE",
          "Enuganti",
          "Suesh",
          "Resource",
          31
         ]
        ],
        [
         [
          13,
          "Lords",
          "Jim",
          "Jackson",
          "Paster",
          60
         ]
        ],
        [
         [
          14,
          "jain",
          "Vikas",
          "Jain",
          "Priest",
          62
         ]
        ],
        [
         [
          15,
          "Boston",
          "Ivan",
          "Madrid",
          "Cricketer",
          34
         ]
        ],
        [
         [
          16,
          "Republic",
          "Paul",
          "Raj",
          "Tennis",
          27
         ]
        ],
        [
         [
          17,
          "Batsman",
          "Ricky",
          "Pointing",
          "Cricketer",
          36
         ]
        ]
       ],
       "datasetInfos": [],
       "dbfsResultPath": null,
       "isJsonSchema": true,
       "metadata": {},
       "overflow": false,
       "plotOptions": {
        "customPlotOptions": {},
        "displayType": "table",
        "pivotAggregation": null,
        "pivotColumns": null,
        "xColumns": null,
        "yColumns": null
       },
       "removedWidgets": [],
       "schema": [
        {
         "metadata": "{}",
         "name": "Sales",
         "type": "{\"type\":\"struct\",\"fields\":[{\"name\":\"Id\",\"type\":\"integer\",\"nullable\":true,\"metadata\":{}},{\"name\":\"Nick_Name\",\"type\":\"string\",\"nullable\":true,\"metadata\":{}},{\"name\":\"First_Name\",\"type\":\"string\",\"nullable\":true,\"metadata\":{}},{\"name\":\"Last_Name\",\"type\":\"string\",\"nullable\":true,\"metadata\":{}},{\"name\":\"Type\",\"type\":\"string\",\"nullable\":true,\"metadata\":{}},{\"name\":\"Age\",\"type\":\"integer\",\"nullable\":true,\"metadata\":{}}]}"
        }
       ],
       "type": "table"
      }
     },
     "output_type": "display_data"
    }
   ],
   "source": [
    "# Select all columns and structure them into a single column named 'Sales'\n",
    "sales_df_final = df.select(f.struct(\n",
    "                     f.col('Id'),\n",
    "                     f.col('Nick_Name'),\n",
    "                     f.col('First_Name'),\n",
    "                     f.col('Last_Name'),\n",
    "                     f.col('Type'),\n",
    "                     f.col('Age')\n",
    "                     ).alias('Sales')\n",
    "                     )\n",
    "\n",
    "display(sales_df_final)"
   ]
  },
  {
   "cell_type": "code",
   "execution_count": 0,
   "metadata": {
    "application/vnd.databricks.v1+cell": {
     "cellMetadata": {
      "byteLimit": 2048000,
      "rowLimit": 10000
     },
     "inputWidgets": {},
     "nuid": "a0fac054-e6b2-4189-bf70-f009ebab5f91",
     "showTitle": false,
     "title": ""
    }
   },
   "outputs": [
    {
     "output_type": "display_data",
     "data": {
      "text/html": [
       "<style scoped>\n",
       "  .table-result-container {\n",
       "    max-height: 300px;\n",
       "    overflow: auto;\n",
       "  }\n",
       "  table, th, td {\n",
       "    border: 1px solid black;\n",
       "    border-collapse: collapse;\n",
       "  }\n",
       "  th, td {\n",
       "    padding: 5px;\n",
       "  }\n",
       "  th {\n",
       "    text-align: left;\n",
       "  }\n",
       "</style><div class='table-result-container'><table class='table-result'><thead style='background-color: white'><tr><th>Sales</th><th>message</th></tr></thead><tbody><tr><td>List(1, admin, John, Victor, Grade1, 30)</td><td>{\"Id\":1,\"Nick_Name\":\"admin\",\"First_Name\":\"John\",\"Last_Name\":\"Victor\",\"Type\":\"Grade1\",\"Age\":30}</td></tr><tr><td>List(2, everest, Paul, Irish, Grade2, 35)</td><td>{\"Id\":2,\"Nick_Name\":\"everest\",\"First_Name\":\"Paul\",\"Last_Name\":\"Irish\",\"Type\":\"Grade2\",\"Age\":35}</td></tr><tr><td>List(3, moon, Erram, Rammohan, Enginner1, 29)</td><td>{\"Id\":3,\"Nick_Name\":\"moon\",\"First_Name\":\"Erram\",\"Last_Name\":\"Rammohan\",\"Type\":\"Enginner1\",\"Age\":29}</td></tr><tr><td>List(4, service, Stalin, Rajesh, Minister, 40)</td><td>{\"Id\":4,\"Nick_Name\":\"service\",\"First_Name\":\"Stalin\",\"Last_Name\":\"Rajesh\",\"Type\":\"Minister\",\"Age\":40}</td></tr><tr><td>List(5, Builder, Golla, Rajasekar, Builder, 43)</td><td>{\"Id\":5,\"Nick_Name\":\"Builder\",\"First_Name\":\"Golla\",\"Last_Name\":\"Rajasekar\",\"Type\":\"Builder\",\"Age\":43}</td></tr><tr><td>List(6, Drinker, Karjala, Hari, Army, 33)</td><td>{\"Id\":6,\"Nick_Name\":\"Drinker\",\"First_Name\":\"Karjala\",\"Last_Name\":\"Hari\",\"Type\":\"Army\",\"Age\":33}</td></tr><tr><td>List(7, Army, Koyi, Damodar, Bettalian, 37)</td><td>{\"Id\":7,\"Nick_Name\":\"Army\",\"First_Name\":\"Koyi\",\"Last_Name\":\"Damodar\",\"Type\":\"Bettalian\",\"Age\":37}</td></tr><tr><td>List(8, Marketing, Vemparla, Harish, Manager, 55)</td><td>{\"Id\":8,\"Nick_Name\":\"Marketing\",\"First_Name\":\"Vemparla\",\"Last_Name\":\"Harish\",\"Type\":\"Manager\",\"Age\":55}</td></tr><tr><td>List(9, Politician, Devineni, Umesh, Senior, 58)</td><td>{\"Id\":9,\"Nick_Name\":\"Politician\",\"First_Name\":\"Devineni\",\"Last_Name\":\"Umesh\",\"Type\":\"Senior\",\"Age\":58}</td></tr><tr><td>List(10, Minister, Ponguru, Narayana, Education, 56)</td><td>{\"Id\":10,\"Nick_Name\":\"Minister\",\"First_Name\":\"Ponguru\",\"Last_Name\":\"Narayana\",\"Type\":\"Education\",\"Age\":56}</td></tr><tr><td>List(11, Design, Mohmad, Basha, Enginner2, 47)</td><td>{\"Id\":11,\"Nick_Name\":\"Design\",\"First_Name\":\"Mohmad\",\"Last_Name\":\"Basha\",\"Type\":\"Enginner2\",\"Age\":47}</td></tr><tr><td>List(12, ADE, Enuganti, Suesh, Resource, 31)</td><td>{\"Id\":12,\"Nick_Name\":\"ADE\",\"First_Name\":\"Enuganti\",\"Last_Name\":\"Suesh\",\"Type\":\"Resource\",\"Age\":31}</td></tr><tr><td>List(13, Lords, Jim, Jackson, Paster, 60)</td><td>{\"Id\":13,\"Nick_Name\":\"Lords\",\"First_Name\":\"Jim\",\"Last_Name\":\"Jackson\",\"Type\":\"Paster\",\"Age\":60}</td></tr><tr><td>List(14, jain, Vikas, Jain, Priest, 62)</td><td>{\"Id\":14,\"Nick_Name\":\"jain\",\"First_Name\":\"Vikas\",\"Last_Name\":\"Jain\",\"Type\":\"Priest\",\"Age\":62}</td></tr><tr><td>List(15, Boston, Ivan, Madrid, Cricketer, 34)</td><td>{\"Id\":15,\"Nick_Name\":\"Boston\",\"First_Name\":\"Ivan\",\"Last_Name\":\"Madrid\",\"Type\":\"Cricketer\",\"Age\":34}</td></tr><tr><td>List(16, Republic, Paul, Raj, Tennis, 27)</td><td>{\"Id\":16,\"Nick_Name\":\"Republic\",\"First_Name\":\"Paul\",\"Last_Name\":\"Raj\",\"Type\":\"Tennis\",\"Age\":27}</td></tr><tr><td>List(17, Batsman, Ricky, Pointing, Cricketer, 36)</td><td>{\"Id\":17,\"Nick_Name\":\"Batsman\",\"First_Name\":\"Ricky\",\"Last_Name\":\"Pointing\",\"Type\":\"Cricketer\",\"Age\":36}</td></tr></tbody></table></div>"
      ]
     },
     "metadata": {
      "application/vnd.databricks.v1+output": {
       "addedWidgets": {},
       "aggData": [],
       "aggError": "",
       "aggOverflow": false,
       "aggSchema": [],
       "aggSeriesLimitReached": false,
       "aggType": "",
       "arguments": {},
       "columnCustomDisplayInfos": {},
       "data": [
        [
         [
          1,
          "admin",
          "John",
          "Victor",
          "Grade1",
          30
         ],
         "{\"Id\":1,\"Nick_Name\":\"admin\",\"First_Name\":\"John\",\"Last_Name\":\"Victor\",\"Type\":\"Grade1\",\"Age\":30}"
        ],
        [
         [
          2,
          "everest",
          "Paul",
          "Irish",
          "Grade2",
          35
         ],
         "{\"Id\":2,\"Nick_Name\":\"everest\",\"First_Name\":\"Paul\",\"Last_Name\":\"Irish\",\"Type\":\"Grade2\",\"Age\":35}"
        ],
        [
         [
          3,
          "moon",
          "Erram",
          "Rammohan",
          "Enginner1",
          29
         ],
         "{\"Id\":3,\"Nick_Name\":\"moon\",\"First_Name\":\"Erram\",\"Last_Name\":\"Rammohan\",\"Type\":\"Enginner1\",\"Age\":29}"
        ],
        [
         [
          4,
          "service",
          "Stalin",
          "Rajesh",
          "Minister",
          40
         ],
         "{\"Id\":4,\"Nick_Name\":\"service\",\"First_Name\":\"Stalin\",\"Last_Name\":\"Rajesh\",\"Type\":\"Minister\",\"Age\":40}"
        ],
        [
         [
          5,
          "Builder",
          "Golla",
          "Rajasekar",
          "Builder",
          43
         ],
         "{\"Id\":5,\"Nick_Name\":\"Builder\",\"First_Name\":\"Golla\",\"Last_Name\":\"Rajasekar\",\"Type\":\"Builder\",\"Age\":43}"
        ],
        [
         [
          6,
          "Drinker",
          "Karjala",
          "Hari",
          "Army",
          33
         ],
         "{\"Id\":6,\"Nick_Name\":\"Drinker\",\"First_Name\":\"Karjala\",\"Last_Name\":\"Hari\",\"Type\":\"Army\",\"Age\":33}"
        ],
        [
         [
          7,
          "Army",
          "Koyi",
          "Damodar",
          "Bettalian",
          37
         ],
         "{\"Id\":7,\"Nick_Name\":\"Army\",\"First_Name\":\"Koyi\",\"Last_Name\":\"Damodar\",\"Type\":\"Bettalian\",\"Age\":37}"
        ],
        [
         [
          8,
          "Marketing",
          "Vemparla",
          "Harish",
          "Manager",
          55
         ],
         "{\"Id\":8,\"Nick_Name\":\"Marketing\",\"First_Name\":\"Vemparla\",\"Last_Name\":\"Harish\",\"Type\":\"Manager\",\"Age\":55}"
        ],
        [
         [
          9,
          "Politician",
          "Devineni",
          "Umesh",
          "Senior",
          58
         ],
         "{\"Id\":9,\"Nick_Name\":\"Politician\",\"First_Name\":\"Devineni\",\"Last_Name\":\"Umesh\",\"Type\":\"Senior\",\"Age\":58}"
        ],
        [
         [
          10,
          "Minister",
          "Ponguru",
          "Narayana",
          "Education",
          56
         ],
         "{\"Id\":10,\"Nick_Name\":\"Minister\",\"First_Name\":\"Ponguru\",\"Last_Name\":\"Narayana\",\"Type\":\"Education\",\"Age\":56}"
        ],
        [
         [
          11,
          "Design",
          "Mohmad",
          "Basha",
          "Enginner2",
          47
         ],
         "{\"Id\":11,\"Nick_Name\":\"Design\",\"First_Name\":\"Mohmad\",\"Last_Name\":\"Basha\",\"Type\":\"Enginner2\",\"Age\":47}"
        ],
        [
         [
          12,
          "ADE",
          "Enuganti",
          "Suesh",
          "Resource",
          31
         ],
         "{\"Id\":12,\"Nick_Name\":\"ADE\",\"First_Name\":\"Enuganti\",\"Last_Name\":\"Suesh\",\"Type\":\"Resource\",\"Age\":31}"
        ],
        [
         [
          13,
          "Lords",
          "Jim",
          "Jackson",
          "Paster",
          60
         ],
         "{\"Id\":13,\"Nick_Name\":\"Lords\",\"First_Name\":\"Jim\",\"Last_Name\":\"Jackson\",\"Type\":\"Paster\",\"Age\":60}"
        ],
        [
         [
          14,
          "jain",
          "Vikas",
          "Jain",
          "Priest",
          62
         ],
         "{\"Id\":14,\"Nick_Name\":\"jain\",\"First_Name\":\"Vikas\",\"Last_Name\":\"Jain\",\"Type\":\"Priest\",\"Age\":62}"
        ],
        [
         [
          15,
          "Boston",
          "Ivan",
          "Madrid",
          "Cricketer",
          34
         ],
         "{\"Id\":15,\"Nick_Name\":\"Boston\",\"First_Name\":\"Ivan\",\"Last_Name\":\"Madrid\",\"Type\":\"Cricketer\",\"Age\":34}"
        ],
        [
         [
          16,
          "Republic",
          "Paul",
          "Raj",
          "Tennis",
          27
         ],
         "{\"Id\":16,\"Nick_Name\":\"Republic\",\"First_Name\":\"Paul\",\"Last_Name\":\"Raj\",\"Type\":\"Tennis\",\"Age\":27}"
        ],
        [
         [
          17,
          "Batsman",
          "Ricky",
          "Pointing",
          "Cricketer",
          36
         ],
         "{\"Id\":17,\"Nick_Name\":\"Batsman\",\"First_Name\":\"Ricky\",\"Last_Name\":\"Pointing\",\"Type\":\"Cricketer\",\"Age\":36}"
        ]
       ],
       "datasetInfos": [],
       "dbfsResultPath": null,
       "isJsonSchema": true,
       "metadata": {},
       "overflow": false,
       "plotOptions": {
        "customPlotOptions": {},
        "displayType": "table",
        "pivotAggregation": null,
        "pivotColumns": null,
        "xColumns": null,
        "yColumns": null
       },
       "removedWidgets": [],
       "schema": [
        {
         "metadata": "{}",
         "name": "Sales",
         "type": "{\"type\":\"struct\",\"fields\":[{\"name\":\"Id\",\"type\":\"integer\",\"nullable\":true,\"metadata\":{}},{\"name\":\"Nick_Name\",\"type\":\"string\",\"nullable\":true,\"metadata\":{}},{\"name\":\"First_Name\",\"type\":\"string\",\"nullable\":true,\"metadata\":{}},{\"name\":\"Last_Name\",\"type\":\"string\",\"nullable\":true,\"metadata\":{}},{\"name\":\"Type\",\"type\":\"string\",\"nullable\":true,\"metadata\":{}},{\"name\":\"Age\",\"type\":\"integer\",\"nullable\":true,\"metadata\":{}}]}"
        },
        {
         "metadata": "{}",
         "name": "message",
         "type": "\"string\""
        }
       ],
       "type": "table"
      }
     },
     "output_type": "display_data"
    }
   ],
   "source": [
    "# Convert the 'Sales' column to JSON string\n",
    "df_final = sales_df_final.withColumn('message', f.to_json('Sales'))\n",
    "df_final.display()"
   ]
  },
  {
   "cell_type": "code",
   "execution_count": 0,
   "metadata": {
    "application/vnd.databricks.v1+cell": {
     "cellMetadata": {
      "byteLimit": 2048000,
      "rowLimit": 10000
     },
     "inputWidgets": {},
     "nuid": "65bc0a78-9bed-49fe-8121-1e5b85344277",
     "showTitle": false,
     "title": ""
    }
   },
   "outputs": [],
   "source": [
    "df_schema = StructType([StructField('Id', IntegerType(), False),\n",
    "                        StructField('Nick_Name', StringType(), False),\n",
    "                        StructField('First_Name', StringType(), False),\n",
    "                        StructField('Last_Name', StringType(), False),\n",
    "                        StructField('Type', StringType(), False),\n",
    "                        StructField('Age', IntegerType(), False)\n",
    "                        ])"
   ]
  },
  {
   "cell_type": "code",
   "execution_count": 0,
   "metadata": {
    "application/vnd.databricks.v1+cell": {
     "cellMetadata": {
      "byteLimit": 2048000,
      "rowLimit": 10000
     },
     "inputWidgets": {},
     "nuid": "154e904b-be0d-4525-b183-8160a7e57afd",
     "showTitle": false,
     "title": ""
    }
   },
   "outputs": [
    {
     "output_type": "display_data",
     "data": {
      "text/html": [
       "<style scoped>\n",
       "  .table-result-container {\n",
       "    max-height: 300px;\n",
       "    overflow: auto;\n",
       "  }\n",
       "  table, th, td {\n",
       "    border: 1px solid black;\n",
       "    border-collapse: collapse;\n",
       "  }\n",
       "  th, td {\n",
       "    padding: 5px;\n",
       "  }\n",
       "  th {\n",
       "    text-align: left;\n",
       "  }\n",
       "</style><div class='table-result-container'><table class='table-result'><thead style='background-color: white'><tr><th>kafka_message</th></tr></thead><tbody><tr><td>List(1, admin, John, Victor, Grade1, 30)</td></tr><tr><td>List(2, everest, Paul, Irish, Grade2, 35)</td></tr><tr><td>List(3, moon, Erram, Rammohan, Enginner1, 29)</td></tr><tr><td>List(4, service, Stalin, Rajesh, Minister, 40)</td></tr><tr><td>List(5, Builder, Golla, Rajasekar, Builder, 43)</td></tr><tr><td>List(6, Drinker, Karjala, Hari, Army, 33)</td></tr><tr><td>List(7, Army, Koyi, Damodar, Bettalian, 37)</td></tr><tr><td>List(8, Marketing, Vemparla, Harish, Manager, 55)</td></tr><tr><td>List(9, Politician, Devineni, Umesh, Senior, 58)</td></tr><tr><td>List(10, Minister, Ponguru, Narayana, Education, 56)</td></tr><tr><td>List(11, Design, Mohmad, Basha, Enginner2, 47)</td></tr><tr><td>List(12, ADE, Enuganti, Suesh, Resource, 31)</td></tr><tr><td>List(13, Lords, Jim, Jackson, Paster, 60)</td></tr><tr><td>List(14, jain, Vikas, Jain, Priest, 62)</td></tr><tr><td>List(15, Boston, Ivan, Madrid, Cricketer, 34)</td></tr><tr><td>List(16, Republic, Paul, Raj, Tennis, 27)</td></tr><tr><td>List(17, Batsman, Ricky, Pointing, Cricketer, 36)</td></tr></tbody></table></div>"
      ]
     },
     "metadata": {
      "application/vnd.databricks.v1+output": {
       "addedWidgets": {},
       "aggData": [],
       "aggError": "",
       "aggOverflow": false,
       "aggSchema": [],
       "aggSeriesLimitReached": false,
       "aggType": "",
       "arguments": {},
       "columnCustomDisplayInfos": {},
       "data": [
        [
         [
          1,
          "admin",
          "John",
          "Victor",
          "Grade1",
          30
         ]
        ],
        [
         [
          2,
          "everest",
          "Paul",
          "Irish",
          "Grade2",
          35
         ]
        ],
        [
         [
          3,
          "moon",
          "Erram",
          "Rammohan",
          "Enginner1",
          29
         ]
        ],
        [
         [
          4,
          "service",
          "Stalin",
          "Rajesh",
          "Minister",
          40
         ]
        ],
        [
         [
          5,
          "Builder",
          "Golla",
          "Rajasekar",
          "Builder",
          43
         ]
        ],
        [
         [
          6,
          "Drinker",
          "Karjala",
          "Hari",
          "Army",
          33
         ]
        ],
        [
         [
          7,
          "Army",
          "Koyi",
          "Damodar",
          "Bettalian",
          37
         ]
        ],
        [
         [
          8,
          "Marketing",
          "Vemparla",
          "Harish",
          "Manager",
          55
         ]
        ],
        [
         [
          9,
          "Politician",
          "Devineni",
          "Umesh",
          "Senior",
          58
         ]
        ],
        [
         [
          10,
          "Minister",
          "Ponguru",
          "Narayana",
          "Education",
          56
         ]
        ],
        [
         [
          11,
          "Design",
          "Mohmad",
          "Basha",
          "Enginner2",
          47
         ]
        ],
        [
         [
          12,
          "ADE",
          "Enuganti",
          "Suesh",
          "Resource",
          31
         ]
        ],
        [
         [
          13,
          "Lords",
          "Jim",
          "Jackson",
          "Paster",
          60
         ]
        ],
        [
         [
          14,
          "jain",
          "Vikas",
          "Jain",
          "Priest",
          62
         ]
        ],
        [
         [
          15,
          "Boston",
          "Ivan",
          "Madrid",
          "Cricketer",
          34
         ]
        ],
        [
         [
          16,
          "Republic",
          "Paul",
          "Raj",
          "Tennis",
          27
         ]
        ],
        [
         [
          17,
          "Batsman",
          "Ricky",
          "Pointing",
          "Cricketer",
          36
         ]
        ]
       ],
       "datasetInfos": [],
       "dbfsResultPath": null,
       "isJsonSchema": true,
       "metadata": {},
       "overflow": false,
       "plotOptions": {
        "customPlotOptions": {},
        "displayType": "table",
        "pivotAggregation": null,
        "pivotColumns": null,
        "xColumns": null,
        "yColumns": null
       },
       "removedWidgets": [],
       "schema": [
        {
         "metadata": "{}",
         "name": "kafka_message",
         "type": "{\"type\":\"struct\",\"fields\":[{\"name\":\"Id\",\"type\":\"integer\",\"nullable\":true,\"metadata\":{}},{\"name\":\"Nick_Name\",\"type\":\"string\",\"nullable\":true,\"metadata\":{}},{\"name\":\"First_Name\",\"type\":\"string\",\"nullable\":true,\"metadata\":{}},{\"name\":\"Last_Name\",\"type\":\"string\",\"nullable\":true,\"metadata\":{}},{\"name\":\"Type\",\"type\":\"string\",\"nullable\":true,\"metadata\":{}},{\"name\":\"Age\",\"type\":\"integer\",\"nullable\":true,\"metadata\":{}}]}"
        }
       ],
       "type": "table"
      }
     },
     "output_type": "display_data"
    }
   ],
   "source": [
    "# Apply the from_json function on the JSON string column\n",
    "df_final = df_final.select(f.from_json('message', df_schema).alias('kafka_message'))\n",
    "display(df_final)"
   ]
  }
 ],
 "metadata": {
  "application/vnd.databricks.v1+notebook": {
   "dashboards": [],
   "environmentMetadata": null,
   "language": "python",
   "notebookMetadata": {
    "pythonIndentUnit": 4
   },
   "notebookName": "7_How to convert flat structure to a nested column structure using struct",
   "widgets": {}
  }
 },
 "nbformat": 4,
 "nbformat_minor": 0
}
