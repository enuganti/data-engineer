{
 "cells": [
  {
   "cell_type": "markdown",
   "metadata": {
    "application/vnd.databricks.v1+cell": {
     "cellMetadata": {
      "byteLimit": 2048000,
      "rowLimit": 10000
     },
     "inputWidgets": {},
     "nuid": "441e8814-cb3a-42f8-b996-b30a9124810d",
     "showTitle": false,
     "tableResultSettingsMap": {},
     "title": ""
    }
   },
   "source": [
    "**timestamp_millis()**\n",
    "\n",
    "- This function is useful when you have **timestamps** represented as **long integers** in **milliseconds** and you need to convert them into a **human-readable timestamp format** for further processing or analysis.\n",
    "\n",
    "- For example, if you have the timestamp value **1230219000123** in **milliseconds**, using **timestamp_millis(1230219000123)** will convert this value to the **TIMESTAMP 2008-12-25 07:30:00.123**, representing the **date and time** in a readable format."
   ]
  },
  {
   "cell_type": "markdown",
   "metadata": {
    "application/vnd.databricks.v1+cell": {
     "cellMetadata": {},
     "inputWidgets": {},
     "nuid": "312bca5d-9921-4d09-bb15-38e3fbcd707a",
     "showTitle": false,
     "tableResultSettingsMap": {},
     "title": ""
    }
   },
   "source": [
    "**Syntax**\n",
    "\n",
    "      timestamp_millis(expr)\n",
    "     \n",
    "**expr:** An integral numeric expression specifying **milliseconds**.\n",
    "\n",
    "**Returns:** TIMESTAMP.\n",
    "\n",
    "      > SELECT timestamp_millis(1230219000123);\n",
    "        2008-12-25 07:30:00.123"
   ]
  },
  {
   "cell_type": "code",
   "execution_count": 0,
   "metadata": {
    "application/vnd.databricks.v1+cell": {
     "cellMetadata": {
      "byteLimit": 2048000,
      "rowLimit": 10000
     },
     "collapsed": true,
     "inputWidgets": {},
     "nuid": "e7cd206f-707a-434d-9215-a8375679f7c6",
     "showTitle": false,
     "tableResultSettingsMap": {},
     "title": ""
    }
   },
   "outputs": [
    {
     "output_type": "display_data",
     "data": {
      "text/html": [
       "<style scoped>\n",
       "  .table-result-container {\n",
       "    max-height: 300px;\n",
       "    overflow: auto;\n",
       "  }\n",
       "  table, th, td {\n",
       "    border: 1px solid black;\n",
       "    border-collapse: collapse;\n",
       "  }\n",
       "  th, td {\n",
       "    padding: 5px;\n",
       "  }\n",
       "  th {\n",
       "    text-align: left;\n",
       "  }\n",
       "</style><div class='table-result-container'><table class='table-result'><thead style='background-color: white'><tr><th>path</th><th>name</th><th>size</th><th>modificationTime</th></tr></thead><tbody><tr><td>dbfs:/FileStore/tables/Flatten Nested Array.json</td><td>Flatten Nested Array.json</td><td>3756</td><td>1718618620000</td></tr><tr><td>dbfs:/FileStore/tables/MarketPrice-1.csv</td><td>MarketPrice-1.csv</td><td>19528</td><td>1719656512000</td></tr><tr><td>dbfs:/FileStore/tables/MarketPrice.csv</td><td>MarketPrice.csv</td><td>19528</td><td>1719656208000</td></tr><tr><td>dbfs:/FileStore/tables/MultiLineJSON.json/</td><td>MultiLineJSON.json/</td><td>0</td><td>0</td></tr><tr><td>dbfs:/FileStore/tables/MultiLineJSON1.json/</td><td>MultiLineJSON1.json/</td><td>0</td><td>0</td></tr><tr><td>dbfs:/FileStore/tables/MultiLineJSON2.json/</td><td>MultiLineJSON2.json/</td><td>0</td><td>0</td></tr><tr><td>dbfs:/FileStore/tables/Question7.csv</td><td>Question7.csv</td><td>154</td><td>1725816645000</td></tr><tr><td>dbfs:/FileStore/tables/RunningData_Rev02.csv</td><td>RunningData_Rev02.csv</td><td>1222</td><td>1719810609000</td></tr><tr><td>dbfs:/FileStore/tables/RunningData_Rev03.csv</td><td>RunningData_Rev03.csv</td><td>1216</td><td>1719810946000</td></tr><tr><td>dbfs:/FileStore/tables/SalesData_Rev02.csv</td><td>SalesData_Rev02.csv</td><td>472</td><td>1719810784000</td></tr><tr><td>dbfs:/FileStore/tables/SalesData_Rev03.csv</td><td>SalesData_Rev03.csv</td><td>460</td><td>1719810973000</td></tr><tr><td>dbfs:/FileStore/tables/Sales_Collect.csv</td><td>Sales_Collect.csv</td><td>182972</td><td>1720293547000</td></tr><tr><td>dbfs:/FileStore/tables/Sales_Collect_Rev02.csv</td><td>Sales_Collect_Rev02.csv</td><td>166107</td><td>1719810826000</td></tr><tr><td>dbfs:/FileStore/tables/Sales_Collect_Rev03.csv</td><td>Sales_Collect_Rev03.csv</td><td>182828</td><td>1719811001000</td></tr><tr><td>dbfs:/FileStore/tables/StructType-1.csv</td><td>StructType-1.csv</td><td>648</td><td>1717934508000</td></tr><tr><td>dbfs:/FileStore/tables/StructType-2.csv</td><td>StructType-2.csv</td><td>648</td><td>1717935891000</td></tr><tr><td>dbfs:/FileStore/tables/StructType-3.csv</td><td>StructType-3.csv</td><td>648</td><td>1717936009000</td></tr><tr><td>dbfs:/FileStore/tables/StructType-4.csv</td><td>StructType-4.csv</td><td>648</td><td>1717936144000</td></tr><tr><td>dbfs:/FileStore/tables/StructType-5.csv</td><td>StructType-5.csv</td><td>648</td><td>1717936276000</td></tr><tr><td>dbfs:/FileStore/tables/StructType.csv</td><td>StructType.csv</td><td>648</td><td>1717934306000</td></tr><tr><td>dbfs:/FileStore/tables/cast_data.txt</td><td>cast_data.txt</td><td>219</td><td>1720376019000</td></tr><tr><td>dbfs:/FileStore/tables/date_format-1.csv</td><td>date_format-1.csv</td><td>1656</td><td>1725709118000</td></tr><tr><td>dbfs:/FileStore/tables/date_format-2.csv</td><td>date_format-2.csv</td><td>1923</td><td>1725709313000</td></tr><tr><td>dbfs:/FileStore/tables/date_format.csv</td><td>date_format.csv</td><td>1119</td><td>1725645247000</td></tr><tr><td>dbfs:/FileStore/tables/from_unixtime-1.csv</td><td>from_unixtime-1.csv</td><td>9523</td><td>1725903833000</td></tr><tr><td>dbfs:/FileStore/tables/from_unixtime.csv</td><td>from_unixtime.csv</td><td>9523</td><td>1725901373000</td></tr><tr><td>dbfs:/FileStore/tables/iterate_columns.csv</td><td>iterate_columns.csv</td><td>2023849</td><td>1719767610000</td></tr><tr><td>dbfs:/FileStore/tables/multiline.json</td><td>multiline.json</td><td>1262</td><td>1725858755000</td></tr><tr><td>dbfs:/FileStore/tables/multiline.txt</td><td>multiline.txt</td><td>178</td><td>1721655243000</td></tr><tr><td>dbfs:/FileStore/tables/multiline_nested-1.json</td><td>multiline_nested-1.json</td><td>2233</td><td>1725884748000</td></tr><tr><td>dbfs:/FileStore/tables/multiline_nested.json</td><td>multiline_nested.json</td><td>1731</td><td>1725870338000</td></tr><tr><td>dbfs:/FileStore/tables/person-1.json</td><td>person-1.json</td><td>4608</td><td>1718609578000</td></tr><tr><td>dbfs:/FileStore/tables/person-2.json</td><td>person-2.json</td><td>4616</td><td>1718610165000</td></tr><tr><td>dbfs:/FileStore/tables/person.json</td><td>person.json</td><td>4616</td><td>1718609425000</td></tr><tr><td>dbfs:/FileStore/tables/posexplode.txt</td><td>posexplode.txt</td><td>264</td><td>1718525465000</td></tr><tr><td>dbfs:/FileStore/tables/singleline-1.json</td><td>singleline-1.json</td><td>1000</td><td>1725857789000</td></tr><tr><td>dbfs:/FileStore/tables/singleline-2.json</td><td>singleline-2.json</td><td>999</td><td>1725858047000</td></tr><tr><td>dbfs:/FileStore/tables/singleline-3.json</td><td>singleline-3.json</td><td>1003</td><td>1725858173000</td></tr><tr><td>dbfs:/FileStore/tables/singleline-4.json</td><td>singleline-4.json</td><td>1004</td><td>1725858244000</td></tr><tr><td>dbfs:/FileStore/tables/singleline-5.json</td><td>singleline-5.json</td><td>1006</td><td>1725858294000</td></tr><tr><td>dbfs:/FileStore/tables/singleline-6.json</td><td>singleline-6.json</td><td>1006</td><td>1725858459000</td></tr><tr><td>dbfs:/FileStore/tables/singleline.json</td><td>singleline.json</td><td>1006</td><td>1725856537000</td></tr><tr><td>dbfs:/FileStore/tables/singlelineList.json</td><td>singlelineList.json</td><td>1032</td><td>1725892526000</td></tr><tr><td>dbfs:/FileStore/tables/singleline_nested-1.json</td><td>singleline_nested-1.json</td><td>1388</td><td>1725883300000</td></tr><tr><td>dbfs:/FileStore/tables/singleline_nested.json</td><td>singleline_nested.json</td><td>1096</td><td>1725870020000</td></tr><tr><td>dbfs:/FileStore/tables/split.txt</td><td>split.txt</td><td>390</td><td>1721625608000</td></tr><tr><td>dbfs:/FileStore/tables/timestamp_millis-1.csv</td><td>timestamp_millis-1.csv</td><td>7513</td><td>1725903371000</td></tr><tr><td>dbfs:/FileStore/tables/timestamp_millis-2.csv</td><td>timestamp_millis-2.csv</td><td>7513</td><td>1725903430000</td></tr><tr><td>dbfs:/FileStore/tables/timestamp_millis-3.csv</td><td>timestamp_millis-3.csv</td><td>8613</td><td>1725903701000</td></tr><tr><td>dbfs:/FileStore/tables/timestamp_millis.csv</td><td>timestamp_millis.csv</td><td>7533</td><td>1725903084000</td></tr><tr><td>dbfs:/FileStore/tables/titanic.csv</td><td>titanic.csv</td><td>60302</td><td>1717853233000</td></tr></tbody></table></div>"
      ]
     },
     "metadata": {
      "application/vnd.databricks.v1+output": {
       "addedWidgets": {},
       "aggData": [],
       "aggError": "",
       "aggOverflow": false,
       "aggSchema": [],
       "aggSeriesLimitReached": false,
       "aggType": "",
       "arguments": {},
       "columnCustomDisplayInfos": {},
       "data": [
        [
         "dbfs:/FileStore/tables/Flatten Nested Array.json",
         "Flatten Nested Array.json",
         3756,
         1718618620000
        ],
        [
         "dbfs:/FileStore/tables/MarketPrice-1.csv",
         "MarketPrice-1.csv",
         19528,
         1719656512000
        ],
        [
         "dbfs:/FileStore/tables/MarketPrice.csv",
         "MarketPrice.csv",
         19528,
         1719656208000
        ],
        [
         "dbfs:/FileStore/tables/MultiLineJSON.json/",
         "MultiLineJSON.json/",
         0,
         0
        ],
        [
         "dbfs:/FileStore/tables/MultiLineJSON1.json/",
         "MultiLineJSON1.json/",
         0,
         0
        ],
        [
         "dbfs:/FileStore/tables/MultiLineJSON2.json/",
         "MultiLineJSON2.json/",
         0,
         0
        ],
        [
         "dbfs:/FileStore/tables/Question7.csv",
         "Question7.csv",
         154,
         1725816645000
        ],
        [
         "dbfs:/FileStore/tables/RunningData_Rev02.csv",
         "RunningData_Rev02.csv",
         1222,
         1719810609000
        ],
        [
         "dbfs:/FileStore/tables/RunningData_Rev03.csv",
         "RunningData_Rev03.csv",
         1216,
         1719810946000
        ],
        [
         "dbfs:/FileStore/tables/SalesData_Rev02.csv",
         "SalesData_Rev02.csv",
         472,
         1719810784000
        ],
        [
         "dbfs:/FileStore/tables/SalesData_Rev03.csv",
         "SalesData_Rev03.csv",
         460,
         1719810973000
        ],
        [
         "dbfs:/FileStore/tables/Sales_Collect.csv",
         "Sales_Collect.csv",
         182972,
         1720293547000
        ],
        [
         "dbfs:/FileStore/tables/Sales_Collect_Rev02.csv",
         "Sales_Collect_Rev02.csv",
         166107,
         1719810826000
        ],
        [
         "dbfs:/FileStore/tables/Sales_Collect_Rev03.csv",
         "Sales_Collect_Rev03.csv",
         182828,
         1719811001000
        ],
        [
         "dbfs:/FileStore/tables/StructType-1.csv",
         "StructType-1.csv",
         648,
         1717934508000
        ],
        [
         "dbfs:/FileStore/tables/StructType-2.csv",
         "StructType-2.csv",
         648,
         1717935891000
        ],
        [
         "dbfs:/FileStore/tables/StructType-3.csv",
         "StructType-3.csv",
         648,
         1717936009000
        ],
        [
         "dbfs:/FileStore/tables/StructType-4.csv",
         "StructType-4.csv",
         648,
         1717936144000
        ],
        [
         "dbfs:/FileStore/tables/StructType-5.csv",
         "StructType-5.csv",
         648,
         1717936276000
        ],
        [
         "dbfs:/FileStore/tables/StructType.csv",
         "StructType.csv",
         648,
         1717934306000
        ],
        [
         "dbfs:/FileStore/tables/cast_data.txt",
         "cast_data.txt",
         219,
         1720376019000
        ],
        [
         "dbfs:/FileStore/tables/date_format-1.csv",
         "date_format-1.csv",
         1656,
         1725709118000
        ],
        [
         "dbfs:/FileStore/tables/date_format-2.csv",
         "date_format-2.csv",
         1923,
         1725709313000
        ],
        [
         "dbfs:/FileStore/tables/date_format.csv",
         "date_format.csv",
         1119,
         1725645247000
        ],
        [
         "dbfs:/FileStore/tables/from_unixtime-1.csv",
         "from_unixtime-1.csv",
         9523,
         1725903833000
        ],
        [
         "dbfs:/FileStore/tables/from_unixtime.csv",
         "from_unixtime.csv",
         9523,
         1725901373000
        ],
        [
         "dbfs:/FileStore/tables/iterate_columns.csv",
         "iterate_columns.csv",
         2023849,
         1719767610000
        ],
        [
         "dbfs:/FileStore/tables/multiline.json",
         "multiline.json",
         1262,
         1725858755000
        ],
        [
         "dbfs:/FileStore/tables/multiline.txt",
         "multiline.txt",
         178,
         1721655243000
        ],
        [
         "dbfs:/FileStore/tables/multiline_nested-1.json",
         "multiline_nested-1.json",
         2233,
         1725884748000
        ],
        [
         "dbfs:/FileStore/tables/multiline_nested.json",
         "multiline_nested.json",
         1731,
         1725870338000
        ],
        [
         "dbfs:/FileStore/tables/person-1.json",
         "person-1.json",
         4608,
         1718609578000
        ],
        [
         "dbfs:/FileStore/tables/person-2.json",
         "person-2.json",
         4616,
         1718610165000
        ],
        [
         "dbfs:/FileStore/tables/person.json",
         "person.json",
         4616,
         1718609425000
        ],
        [
         "dbfs:/FileStore/tables/posexplode.txt",
         "posexplode.txt",
         264,
         1718525465000
        ],
        [
         "dbfs:/FileStore/tables/singleline-1.json",
         "singleline-1.json",
         1000,
         1725857789000
        ],
        [
         "dbfs:/FileStore/tables/singleline-2.json",
         "singleline-2.json",
         999,
         1725858047000
        ],
        [
         "dbfs:/FileStore/tables/singleline-3.json",
         "singleline-3.json",
         1003,
         1725858173000
        ],
        [
         "dbfs:/FileStore/tables/singleline-4.json",
         "singleline-4.json",
         1004,
         1725858244000
        ],
        [
         "dbfs:/FileStore/tables/singleline-5.json",
         "singleline-5.json",
         1006,
         1725858294000
        ],
        [
         "dbfs:/FileStore/tables/singleline-6.json",
         "singleline-6.json",
         1006,
         1725858459000
        ],
        [
         "dbfs:/FileStore/tables/singleline.json",
         "singleline.json",
         1006,
         1725856537000
        ],
        [
         "dbfs:/FileStore/tables/singlelineList.json",
         "singlelineList.json",
         1032,
         1725892526000
        ],
        [
         "dbfs:/FileStore/tables/singleline_nested-1.json",
         "singleline_nested-1.json",
         1388,
         1725883300000
        ],
        [
         "dbfs:/FileStore/tables/singleline_nested.json",
         "singleline_nested.json",
         1096,
         1725870020000
        ],
        [
         "dbfs:/FileStore/tables/split.txt",
         "split.txt",
         390,
         1721625608000
        ],
        [
         "dbfs:/FileStore/tables/timestamp_millis-1.csv",
         "timestamp_millis-1.csv",
         7513,
         1725903371000
        ],
        [
         "dbfs:/FileStore/tables/timestamp_millis-2.csv",
         "timestamp_millis-2.csv",
         7513,
         1725903430000
        ],
        [
         "dbfs:/FileStore/tables/timestamp_millis-3.csv",
         "timestamp_millis-3.csv",
         8613,
         1725903701000
        ],
        [
         "dbfs:/FileStore/tables/timestamp_millis.csv",
         "timestamp_millis.csv",
         7533,
         1725903084000
        ],
        [
         "dbfs:/FileStore/tables/titanic.csv",
         "titanic.csv",
         60302,
         1717853233000
        ]
       ],
       "datasetInfos": [],
       "dbfsResultPath": null,
       "isJsonSchema": true,
       "metadata": {
        "isDbfsCommandResult": false
       },
       "overflow": false,
       "plotOptions": {
        "customPlotOptions": {},
        "displayType": "table",
        "pivotAggregation": null,
        "pivotColumns": null,
        "xColumns": null,
        "yColumns": null
       },
       "removedWidgets": [],
       "schema": [
        {
         "metadata": "{}",
         "name": "path",
         "type": "\"string\""
        },
        {
         "metadata": "{}",
         "name": "name",
         "type": "\"string\""
        },
        {
         "metadata": "{}",
         "name": "size",
         "type": "\"long\""
        },
        {
         "metadata": "{}",
         "name": "modificationTime",
         "type": "\"long\""
        }
       ],
       "type": "table"
      }
     },
     "output_type": "display_data"
    }
   ],
   "source": [
    "%fs ls /FileStore/tables/"
   ]
  },
  {
   "cell_type": "code",
   "execution_count": 0,
   "metadata": {
    "application/vnd.databricks.v1+cell": {
     "cellMetadata": {
      "byteLimit": 2048000,
      "rowLimit": 10000
     },
     "inputWidgets": {},
     "nuid": "74ddee5f-adb6-48b2-9599-d0ec1d48e947",
     "showTitle": false,
     "tableResultSettingsMap": {},
     "title": ""
    }
   },
   "outputs": [],
   "source": [
    "import pyspark.sql.functions as f\n",
    "from pyspark.sql.functions import *\n",
    "from pyspark.sql.types import LongType"
   ]
  },
  {
   "cell_type": "code",
   "execution_count": 0,
   "metadata": {
    "application/vnd.databricks.v1+cell": {
     "cellMetadata": {
      "byteLimit": 2048000,
      "rowLimit": 10000
     },
     "inputWidgets": {},
     "nuid": "851ed713-0ee4-4d28-bb86-57297b286135",
     "showTitle": false,
     "tableResultSettingsMap": {},
     "title": ""
    }
   },
   "outputs": [
    {
     "output_type": "display_data",
     "data": {
      "text/html": [
       "<style scoped>\n",
       "  .table-result-container {\n",
       "    max-height: 300px;\n",
       "    overflow: auto;\n",
       "  }\n",
       "  table, th, td {\n",
       "    border: 1px solid black;\n",
       "    border-collapse: collapse;\n",
       "  }\n",
       "  th, td {\n",
       "    padding: 5px;\n",
       "  }\n",
       "  th {\n",
       "    text-align: left;\n",
       "  }\n",
       "</style><div class='table-result-container'><table class='table-result'><thead style='background-color: white'><tr><th>Commodity_Index</th><th>Effective_Date</th><th>Start_Date</th><th>End_Date</th><th>Income</th><th>Delta_Value</th><th>Target_Id</th><th>Input_Timestamp_UTC</th><th>Update_Timestamp_UTC</th></tr></thead><tbody><tr><td>DISCOUNT</td><td>6-Feb-23</td><td>14-Jan-23</td><td>6-Feb-23</td><td>1500</td><td>10</td><td>1068</td><td>1724256609000</td><td>1724256609000</td></tr><tr><td>DISCOUNT</td><td>6-Feb-23</td><td>14-Jan-23</td><td>6-Feb-23</td><td>1500</td><td>10</td><td>1071</td><td>1724256609000</td><td>1724256609000</td></tr><tr><td>DISCOUNT</td><td>8-Jan-24</td><td>7-Oct-23</td><td>8-Jan-24</td><td>1500</td><td>10</td><td>1068</td><td>1724256609000</td><td>1724256609000</td></tr><tr><td>DISCOUNT</td><td>8-Jan-24</td><td>7-Oct-23</td><td>8-Jan-24</td><td>1500</td><td>10</td><td>1071</td><td>1724256609000</td><td>1724256609000</td></tr><tr><td>DISCOUNT</td><td>6-Mar-23</td><td>7-Feb-23</td><td>6-Mar-23</td><td>1500</td><td>10</td><td>1068</td><td>1724256609000</td><td>1724256609000</td></tr><tr><td>DISCOUNT</td><td>6-Mar-23</td><td>7-Feb-23</td><td>6-Mar-23</td><td>1500</td><td>10</td><td>1071</td><td>1724256609000</td><td>1724256609000</td></tr><tr><td>DISCOUNT</td><td>6-Jan-25</td><td>9-Jan-24</td><td>6-Jan-25</td><td>1500</td><td>10</td><td>1068</td><td>1724256609000</td><td>1724256609000</td></tr><tr><td>DISCOUNT</td><td>6-Jan-25</td><td>9-Jan-24</td><td>6-Jan-25</td><td>1500</td><td>10</td><td>1071</td><td>1724256609000</td><td>1724256609000</td></tr><tr><td>DISCOUNT</td><td>6-Apr-23</td><td>7-Mar-23</td><td>6-Apr-23</td><td>1500</td><td>10</td><td>1068</td><td>1724256609000</td><td>1724256609000</td></tr><tr><td>DISCOUNT</td><td>6-Apr-23</td><td>7-Mar-23</td><td>6-Apr-23</td><td>1500</td><td>10</td><td>1071</td><td>1724256609000</td><td>1724256609000</td></tr></tbody></table></div>"
      ]
     },
     "metadata": {
      "application/vnd.databricks.v1+output": {
       "addedWidgets": {},
       "aggData": [],
       "aggError": "",
       "aggOverflow": false,
       "aggSchema": [],
       "aggSeriesLimitReached": false,
       "aggType": "",
       "arguments": {},
       "columnCustomDisplayInfos": {},
       "data": [
        [
         "DISCOUNT",
         "6-Feb-23",
         "14-Jan-23",
         "6-Feb-23",
         1500,
         10,
         1068,
         1724256609000,
         1724256609000
        ],
        [
         "DISCOUNT",
         "6-Feb-23",
         "14-Jan-23",
         "6-Feb-23",
         1500,
         10,
         1071,
         1724256609000,
         1724256609000
        ],
        [
         "DISCOUNT",
         "8-Jan-24",
         "7-Oct-23",
         "8-Jan-24",
         1500,
         10,
         1068,
         1724256609000,
         1724256609000
        ],
        [
         "DISCOUNT",
         "8-Jan-24",
         "7-Oct-23",
         "8-Jan-24",
         1500,
         10,
         1071,
         1724256609000,
         1724256609000
        ],
        [
         "DISCOUNT",
         "6-Mar-23",
         "7-Feb-23",
         "6-Mar-23",
         1500,
         10,
         1068,
         1724256609000,
         1724256609000
        ],
        [
         "DISCOUNT",
         "6-Mar-23",
         "7-Feb-23",
         "6-Mar-23",
         1500,
         10,
         1071,
         1724256609000,
         1724256609000
        ],
        [
         "DISCOUNT",
         "6-Jan-25",
         "9-Jan-24",
         "6-Jan-25",
         1500,
         10,
         1068,
         1724256609000,
         1724256609000
        ],
        [
         "DISCOUNT",
         "6-Jan-25",
         "9-Jan-24",
         "6-Jan-25",
         1500,
         10,
         1071,
         1724256609000,
         1724256609000
        ],
        [
         "DISCOUNT",
         "6-Apr-23",
         "7-Mar-23",
         "6-Apr-23",
         1500,
         10,
         1068,
         1724256609000,
         1724256609000
        ],
        [
         "DISCOUNT",
         "6-Apr-23",
         "7-Mar-23",
         "6-Apr-23",
         1500,
         10,
         1071,
         1724256609000,
         1724256609000
        ]
       ],
       "datasetInfos": [],
       "dbfsResultPath": null,
       "isJsonSchema": true,
       "metadata": {},
       "overflow": false,
       "plotOptions": {
        "customPlotOptions": {},
        "displayType": "table",
        "pivotAggregation": null,
        "pivotColumns": null,
        "xColumns": null,
        "yColumns": null
       },
       "removedWidgets": [],
       "schema": [
        {
         "metadata": "{}",
         "name": "Commodity_Index",
         "type": "\"string\""
        },
        {
         "metadata": "{}",
         "name": "Effective_Date",
         "type": "\"string\""
        },
        {
         "metadata": "{}",
         "name": "Start_Date",
         "type": "\"string\""
        },
        {
         "metadata": "{}",
         "name": "End_Date",
         "type": "\"string\""
        },
        {
         "metadata": "{}",
         "name": "Income",
         "type": "\"integer\""
        },
        {
         "metadata": "{}",
         "name": "Delta_Value",
         "type": "\"integer\""
        },
        {
         "metadata": "{}",
         "name": "Target_Id",
         "type": "\"integer\""
        },
        {
         "metadata": "{}",
         "name": "Input_Timestamp_UTC",
         "type": "\"long\""
        },
        {
         "metadata": "{}",
         "name": "Update_Timestamp_UTC",
         "type": "\"long\""
        }
       ],
       "type": "table"
      }
     },
     "output_type": "display_data"
    }
   ],
   "source": [
    "df = spark.read.csv(\"dbfs:/FileStore/tables/timestamp_millis-3.csv\", header=True, inferSchema=True)\n",
    "display(df.limit(10))"
   ]
  },
  {
   "cell_type": "code",
   "execution_count": 0,
   "metadata": {
    "application/vnd.databricks.v1+cell": {
     "cellMetadata": {
      "byteLimit": 2048000,
      "rowLimit": 10000
     },
     "inputWidgets": {},
     "nuid": "8a6a2700-010f-447d-acaf-beabaf1b1641",
     "showTitle": false,
     "tableResultSettingsMap": {},
     "title": ""
    }
   },
   "outputs": [
    {
     "output_type": "display_data",
     "data": {
      "text/html": [
       "<style scoped>\n",
       "  .table-result-container {\n",
       "    max-height: 300px;\n",
       "    overflow: auto;\n",
       "  }\n",
       "  table, th, td {\n",
       "    border: 1px solid black;\n",
       "    border-collapse: collapse;\n",
       "  }\n",
       "  th, td {\n",
       "    padding: 5px;\n",
       "  }\n",
       "  th {\n",
       "    text-align: left;\n",
       "  }\n",
       "</style><div class='table-result-container'><table class='table-result'><thead style='background-color: white'><tr><th>created_timestamp</th><th>created_by</th><th>input_timestamp_utc</th><th>last_update_timestamp_utc</th></tr></thead><tbody><tr><td>2024-09-14T18:11:32.806Z</td><td>enugantisuresh12@gmail.com</td><td>2024-08-21T16:10:09Z</td><td>2024-08-21T16:10:09Z</td></tr><tr><td>2024-09-14T18:11:32.806Z</td><td>enugantisuresh12@gmail.com</td><td>2024-08-21T16:10:09Z</td><td>2024-08-21T16:10:09Z</td></tr><tr><td>2024-09-14T18:11:32.806Z</td><td>enugantisuresh12@gmail.com</td><td>2024-08-21T16:10:09Z</td><td>2024-08-21T16:10:09Z</td></tr><tr><td>2024-09-14T18:11:32.806Z</td><td>enugantisuresh12@gmail.com</td><td>2024-08-21T16:10:09Z</td><td>2024-08-21T16:10:09Z</td></tr><tr><td>2024-09-14T18:11:32.806Z</td><td>enugantisuresh12@gmail.com</td><td>2024-08-21T16:10:09Z</td><td>2024-08-21T16:10:09Z</td></tr><tr><td>2024-09-14T18:11:32.806Z</td><td>enugantisuresh12@gmail.com</td><td>2024-08-21T16:10:09Z</td><td>2024-08-21T16:10:09Z</td></tr><tr><td>2024-09-14T18:11:32.806Z</td><td>enugantisuresh12@gmail.com</td><td>2024-08-21T16:10:09Z</td><td>2024-08-21T16:10:09Z</td></tr><tr><td>2024-09-14T18:11:32.806Z</td><td>enugantisuresh12@gmail.com</td><td>2024-08-21T16:10:09Z</td><td>2024-08-21T16:10:09Z</td></tr><tr><td>2024-09-14T18:11:32.806Z</td><td>enugantisuresh12@gmail.com</td><td>2024-08-21T16:10:09Z</td><td>2024-08-21T16:10:09Z</td></tr><tr><td>2024-09-14T18:11:32.806Z</td><td>enugantisuresh12@gmail.com</td><td>2024-08-21T16:10:09Z</td><td>2024-08-21T16:10:09Z</td></tr></tbody></table></div>"
      ]
     },
     "metadata": {
      "application/vnd.databricks.v1+output": {
       "addedWidgets": {},
       "aggData": [],
       "aggError": "",
       "aggOverflow": false,
       "aggSchema": [],
       "aggSeriesLimitReached": false,
       "aggType": "",
       "arguments": {},
       "columnCustomDisplayInfos": {},
       "data": [
        [
         "2024-09-14T18:11:32.806Z",
         "enugantisuresh12@gmail.com",
         "2024-08-21T16:10:09Z",
         "2024-08-21T16:10:09Z"
        ],
        [
         "2024-09-14T18:11:32.806Z",
         "enugantisuresh12@gmail.com",
         "2024-08-21T16:10:09Z",
         "2024-08-21T16:10:09Z"
        ],
        [
         "2024-09-14T18:11:32.806Z",
         "enugantisuresh12@gmail.com",
         "2024-08-21T16:10:09Z",
         "2024-08-21T16:10:09Z"
        ],
        [
         "2024-09-14T18:11:32.806Z",
         "enugantisuresh12@gmail.com",
         "2024-08-21T16:10:09Z",
         "2024-08-21T16:10:09Z"
        ],
        [
         "2024-09-14T18:11:32.806Z",
         "enugantisuresh12@gmail.com",
         "2024-08-21T16:10:09Z",
         "2024-08-21T16:10:09Z"
        ],
        [
         "2024-09-14T18:11:32.806Z",
         "enugantisuresh12@gmail.com",
         "2024-08-21T16:10:09Z",
         "2024-08-21T16:10:09Z"
        ],
        [
         "2024-09-14T18:11:32.806Z",
         "enugantisuresh12@gmail.com",
         "2024-08-21T16:10:09Z",
         "2024-08-21T16:10:09Z"
        ],
        [
         "2024-09-14T18:11:32.806Z",
         "enugantisuresh12@gmail.com",
         "2024-08-21T16:10:09Z",
         "2024-08-21T16:10:09Z"
        ],
        [
         "2024-09-14T18:11:32.806Z",
         "enugantisuresh12@gmail.com",
         "2024-08-21T16:10:09Z",
         "2024-08-21T16:10:09Z"
        ],
        [
         "2024-09-14T18:11:32.806Z",
         "enugantisuresh12@gmail.com",
         "2024-08-21T16:10:09Z",
         "2024-08-21T16:10:09Z"
        ]
       ],
       "datasetInfos": [],
       "dbfsResultPath": null,
       "isJsonSchema": true,
       "metadata": {},
       "overflow": false,
       "plotOptions": {
        "customPlotOptions": {},
        "displayType": "table",
        "pivotAggregation": null,
        "pivotColumns": null,
        "xColumns": null,
        "yColumns": null
       },
       "removedWidgets": [],
       "schema": [
        {
         "metadata": "{}",
         "name": "created_timestamp",
         "type": "\"timestamp\""
        },
        {
         "metadata": "{}",
         "name": "created_by",
         "type": "\"string\""
        },
        {
         "metadata": "{}",
         "name": "input_timestamp_utc",
         "type": "\"timestamp\""
        },
        {
         "metadata": "{}",
         "name": "last_update_timestamp_utc",
         "type": "\"timestamp\""
        }
       ],
       "type": "table"
      }
     },
     "output_type": "display_data"
    }
   ],
   "source": [
    "df_err = df.select(current_timestamp().alias(\"created_timestamp\"),\n",
    "               current_user().alias(\"created_by\"),\n",
    "               timestamp_millis(col(\"Input_Timestamp_UTC\")).alias('input_timestamp_utc'),\n",
    "               timestamp_millis(col(\"Update_Timestamp_UTC\")).alias('last_update_timestamp_utc'))\n",
    "display(df_err.limit(10))"
   ]
  },
  {
   "cell_type": "markdown",
   "metadata": {
    "application/vnd.databricks.v1+cell": {
     "cellMetadata": {},
     "inputWidgets": {},
     "nuid": "b664cee1-3287-435b-abca-d7264c6a3b77",
     "showTitle": false,
     "tableResultSettingsMap": {},
     "title": ""
    }
   },
   "source": [
    "- The reason why you are not encountering this error in this notebook could be due to the difference in **Spark versions or configurations between the two environments**. It's possible that the version of Spark in the **Databricks Community Edition does not include the timestamp_millis function**.\n",
    "\n",
    "- The functions **timestamp_millis and unix_millis** are **not available** in the **Apache Spark DataFrame API**. These functions are **specific to SQL** and are included in **Spark 3.1.1 and above**."
   ]
  },
  {
   "cell_type": "markdown",
   "metadata": {
    "application/vnd.databricks.v1+cell": {
     "cellMetadata": {},
     "inputWidgets": {},
     "nuid": "5fd206e6-226b-4592-9f52-5fb4786de8f4",
     "showTitle": false,
     "tableResultSettingsMap": {},
     "title": ""
    }
   },
   "source": [
    "#### **Solution 01**"
   ]
  },
  {
   "cell_type": "markdown",
   "metadata": {
    "application/vnd.databricks.v1+cell": {
     "cellMetadata": {
      "byteLimit": 2048000,
      "rowLimit": 10000
     },
     "inputWidgets": {},
     "nuid": "488eee73-594a-4398-ba07-37e802c280e1",
     "showTitle": false,
     "tableResultSettingsMap": {},
     "title": ""
    }
   },
   "source": [
    "- This code snippet uses **from_unixtime(col / 1000)** to **convert the milliseconds to seconds** and then casts the result to a timestamp\n",
    "\n",
    "- The error occurs because **timestamp_millis** is not a **direct function** available in **pyspark.sql.functions**. To convert a timestamp in **milliseconds to a timestamp** type, you should use the **from_unixtime** function combined with **division by 1000** (since **from_unixtime expects seconds, not milliseconds**) and then **cast to a timestamp** if needed."
   ]
  },
  {
   "cell_type": "code",
   "execution_count": 0,
   "metadata": {
    "application/vnd.databricks.v1+cell": {
     "cellMetadata": {
      "byteLimit": 2048000,
      "rowLimit": 10000
     },
     "inputWidgets": {},
     "nuid": "60c390be-34ee-42f8-83e9-70e29b96d121",
     "showTitle": false,
     "tableResultSettingsMap": {},
     "title": ""
    }
   },
   "outputs": [
    {
     "output_type": "display_data",
     "data": {
      "text/html": [
       "<style scoped>\n",
       "  .table-result-container {\n",
       "    max-height: 300px;\n",
       "    overflow: auto;\n",
       "  }\n",
       "  table, th, td {\n",
       "    border: 1px solid black;\n",
       "    border-collapse: collapse;\n",
       "  }\n",
       "  th, td {\n",
       "    padding: 5px;\n",
       "  }\n",
       "  th {\n",
       "    text-align: left;\n",
       "  }\n",
       "</style><div class='table-result-container'><table class='table-result'><thead style='background-color: white'><tr><th>created_timestamp</th><th>created_by</th><th>input_timestamp_utc</th><th>last_update_timestamp_utc</th></tr></thead><tbody><tr><td>2024-09-14T17:57:47.288+0000</td><td>enugantisuresh12@gmail.com</td><td>2024-08-21 16:10:09</td><td>2024-08-21 16:10:09</td></tr><tr><td>2024-09-14T17:57:47.288+0000</td><td>enugantisuresh12@gmail.com</td><td>2024-08-21 16:10:09</td><td>2024-08-21 16:10:09</td></tr><tr><td>2024-09-14T17:57:47.288+0000</td><td>enugantisuresh12@gmail.com</td><td>2024-08-21 16:10:09</td><td>2024-08-21 16:10:09</td></tr><tr><td>2024-09-14T17:57:47.288+0000</td><td>enugantisuresh12@gmail.com</td><td>2024-08-21 16:10:09</td><td>2024-08-21 16:10:09</td></tr><tr><td>2024-09-14T17:57:47.288+0000</td><td>enugantisuresh12@gmail.com</td><td>2024-08-21 16:10:09</td><td>2024-08-21 16:10:09</td></tr><tr><td>2024-09-14T17:57:47.288+0000</td><td>enugantisuresh12@gmail.com</td><td>2024-08-21 16:10:09</td><td>2024-08-21 16:10:09</td></tr><tr><td>2024-09-14T17:57:47.288+0000</td><td>enugantisuresh12@gmail.com</td><td>2024-08-21 16:10:09</td><td>2024-08-21 16:10:09</td></tr><tr><td>2024-09-14T17:57:47.288+0000</td><td>enugantisuresh12@gmail.com</td><td>2024-08-21 16:10:09</td><td>2024-08-21 16:10:09</td></tr><tr><td>2024-09-14T17:57:47.288+0000</td><td>enugantisuresh12@gmail.com</td><td>2024-08-21 16:10:09</td><td>2024-08-21 16:10:09</td></tr><tr><td>2024-09-14T17:57:47.288+0000</td><td>enugantisuresh12@gmail.com</td><td>2024-08-21 16:10:09</td><td>2024-08-21 16:10:09</td></tr></tbody></table></div>"
      ]
     },
     "metadata": {
      "application/vnd.databricks.v1+output": {
       "addedWidgets": {},
       "aggData": [],
       "aggError": "",
       "aggOverflow": false,
       "aggSchema": [],
       "aggSeriesLimitReached": false,
       "aggType": "",
       "arguments": {},
       "columnCustomDisplayInfos": {},
       "data": [
        [
         "2024-09-14T17:57:47.288+0000",
         "enugantisuresh12@gmail.com",
         "2024-08-21 16:10:09",
         "2024-08-21 16:10:09"
        ],
        [
         "2024-09-14T17:57:47.288+0000",
         "enugantisuresh12@gmail.com",
         "2024-08-21 16:10:09",
         "2024-08-21 16:10:09"
        ],
        [
         "2024-09-14T17:57:47.288+0000",
         "enugantisuresh12@gmail.com",
         "2024-08-21 16:10:09",
         "2024-08-21 16:10:09"
        ],
        [
         "2024-09-14T17:57:47.288+0000",
         "enugantisuresh12@gmail.com",
         "2024-08-21 16:10:09",
         "2024-08-21 16:10:09"
        ],
        [
         "2024-09-14T17:57:47.288+0000",
         "enugantisuresh12@gmail.com",
         "2024-08-21 16:10:09",
         "2024-08-21 16:10:09"
        ],
        [
         "2024-09-14T17:57:47.288+0000",
         "enugantisuresh12@gmail.com",
         "2024-08-21 16:10:09",
         "2024-08-21 16:10:09"
        ],
        [
         "2024-09-14T17:57:47.288+0000",
         "enugantisuresh12@gmail.com",
         "2024-08-21 16:10:09",
         "2024-08-21 16:10:09"
        ],
        [
         "2024-09-14T17:57:47.288+0000",
         "enugantisuresh12@gmail.com",
         "2024-08-21 16:10:09",
         "2024-08-21 16:10:09"
        ],
        [
         "2024-09-14T17:57:47.288+0000",
         "enugantisuresh12@gmail.com",
         "2024-08-21 16:10:09",
         "2024-08-21 16:10:09"
        ],
        [
         "2024-09-14T17:57:47.288+0000",
         "enugantisuresh12@gmail.com",
         "2024-08-21 16:10:09",
         "2024-08-21 16:10:09"
        ]
       ],
       "datasetInfos": [],
       "dbfsResultPath": null,
       "isJsonSchema": true,
       "metadata": {},
       "overflow": false,
       "plotOptions": {
        "customPlotOptions": {},
        "displayType": "table",
        "pivotAggregation": null,
        "pivotColumns": null,
        "xColumns": null,
        "yColumns": null
       },
       "removedWidgets": [],
       "schema": [
        {
         "metadata": "{}",
         "name": "created_timestamp",
         "type": "\"timestamp\""
        },
        {
         "metadata": "{}",
         "name": "created_by",
         "type": "\"string\""
        },
        {
         "metadata": "{}",
         "name": "input_timestamp_utc",
         "type": "\"string\""
        },
        {
         "metadata": "{}",
         "name": "last_update_timestamp_utc",
         "type": "\"string\""
        }
       ],
       "type": "table"
      }
     },
     "output_type": "display_data"
    }
   ],
   "source": [
    "df1 = df.select(\n",
    "    current_timestamp().alias(\"created_timestamp\"),\n",
    "    expr(\"current_user()\").alias(\"created_by\"),\n",
    "    from_unixtime(col(\"Input_Timestamp_UTC\") / 1000).alias('input_timestamp_utc'),\n",
    "    from_unixtime(col(\"Update_Timestamp_UTC\") / 1000).alias('last_update_timestamp_utc')\n",
    ")\n",
    "\n",
    "display(df1.limit(10))"
   ]
  },
  {
   "cell_type": "code",
   "execution_count": 0,
   "metadata": {
    "application/vnd.databricks.v1+cell": {
     "cellMetadata": {
      "byteLimit": 2048000,
      "rowLimit": 10000
     },
     "inputWidgets": {},
     "nuid": "bb25619e-efd6-48fc-be1d-6c98d41553b3",
     "showTitle": false,
     "tableResultSettingsMap": {},
     "title": ""
    }
   },
   "outputs": [
    {
     "output_type": "display_data",
     "data": {
      "text/html": [
       "<style scoped>\n",
       "  .table-result-container {\n",
       "    max-height: 300px;\n",
       "    overflow: auto;\n",
       "  }\n",
       "  table, th, td {\n",
       "    border: 1px solid black;\n",
       "    border-collapse: collapse;\n",
       "  }\n",
       "  th, td {\n",
       "    padding: 5px;\n",
       "  }\n",
       "  th {\n",
       "    text-align: left;\n",
       "  }\n",
       "</style><div class='table-result-container'><table class='table-result'><thead style='background-color: white'><tr><th>created_timestamp</th><th>created_by</th><th>input_timestamp_utc</th><th>update_timestamp_utc</th></tr></thead><tbody><tr><td>2024-09-14T18:00:44.081+0000</td><td>enugantisuresh12@gmail.com</td><td>2024-08-21T16:10:09.000+0000</td><td>2024-08-21T16:10:09.000+0000</td></tr><tr><td>2024-09-14T18:00:44.081+0000</td><td>enugantisuresh12@gmail.com</td><td>2024-08-21T16:10:09.000+0000</td><td>2024-08-21T16:10:09.000+0000</td></tr><tr><td>2024-09-14T18:00:44.081+0000</td><td>enugantisuresh12@gmail.com</td><td>2024-08-21T16:10:09.000+0000</td><td>2024-08-21T16:10:09.000+0000</td></tr><tr><td>2024-09-14T18:00:44.081+0000</td><td>enugantisuresh12@gmail.com</td><td>2024-08-21T16:10:09.000+0000</td><td>2024-08-21T16:10:09.000+0000</td></tr><tr><td>2024-09-14T18:00:44.081+0000</td><td>enugantisuresh12@gmail.com</td><td>2024-08-21T16:10:09.000+0000</td><td>2024-08-21T16:10:09.000+0000</td></tr><tr><td>2024-09-14T18:00:44.081+0000</td><td>enugantisuresh12@gmail.com</td><td>2024-08-21T16:10:09.000+0000</td><td>2024-08-21T16:10:09.000+0000</td></tr><tr><td>2024-09-14T18:00:44.081+0000</td><td>enugantisuresh12@gmail.com</td><td>2024-08-21T16:10:09.000+0000</td><td>2024-08-21T16:10:09.000+0000</td></tr><tr><td>2024-09-14T18:00:44.081+0000</td><td>enugantisuresh12@gmail.com</td><td>2024-08-21T16:10:09.000+0000</td><td>2024-08-21T16:10:09.000+0000</td></tr><tr><td>2024-09-14T18:00:44.081+0000</td><td>enugantisuresh12@gmail.com</td><td>2024-08-21T16:10:09.000+0000</td><td>2024-08-21T16:10:09.000+0000</td></tr><tr><td>2024-09-14T18:00:44.081+0000</td><td>enugantisuresh12@gmail.com</td><td>2024-08-21T16:10:09.000+0000</td><td>2024-08-21T16:10:09.000+0000</td></tr></tbody></table></div>"
      ]
     },
     "metadata": {
      "application/vnd.databricks.v1+output": {
       "addedWidgets": {},
       "aggData": [],
       "aggError": "",
       "aggOverflow": false,
       "aggSchema": [],
       "aggSeriesLimitReached": false,
       "aggType": "",
       "arguments": {},
       "columnCustomDisplayInfos": {},
       "data": [
        [
         "2024-09-14T18:00:44.081+0000",
         "enugantisuresh12@gmail.com",
         "2024-08-21T16:10:09.000+0000",
         "2024-08-21T16:10:09.000+0000"
        ],
        [
         "2024-09-14T18:00:44.081+0000",
         "enugantisuresh12@gmail.com",
         "2024-08-21T16:10:09.000+0000",
         "2024-08-21T16:10:09.000+0000"
        ],
        [
         "2024-09-14T18:00:44.081+0000",
         "enugantisuresh12@gmail.com",
         "2024-08-21T16:10:09.000+0000",
         "2024-08-21T16:10:09.000+0000"
        ],
        [
         "2024-09-14T18:00:44.081+0000",
         "enugantisuresh12@gmail.com",
         "2024-08-21T16:10:09.000+0000",
         "2024-08-21T16:10:09.000+0000"
        ],
        [
         "2024-09-14T18:00:44.081+0000",
         "enugantisuresh12@gmail.com",
         "2024-08-21T16:10:09.000+0000",
         "2024-08-21T16:10:09.000+0000"
        ],
        [
         "2024-09-14T18:00:44.081+0000",
         "enugantisuresh12@gmail.com",
         "2024-08-21T16:10:09.000+0000",
         "2024-08-21T16:10:09.000+0000"
        ],
        [
         "2024-09-14T18:00:44.081+0000",
         "enugantisuresh12@gmail.com",
         "2024-08-21T16:10:09.000+0000",
         "2024-08-21T16:10:09.000+0000"
        ],
        [
         "2024-09-14T18:00:44.081+0000",
         "enugantisuresh12@gmail.com",
         "2024-08-21T16:10:09.000+0000",
         "2024-08-21T16:10:09.000+0000"
        ],
        [
         "2024-09-14T18:00:44.081+0000",
         "enugantisuresh12@gmail.com",
         "2024-08-21T16:10:09.000+0000",
         "2024-08-21T16:10:09.000+0000"
        ],
        [
         "2024-09-14T18:00:44.081+0000",
         "enugantisuresh12@gmail.com",
         "2024-08-21T16:10:09.000+0000",
         "2024-08-21T16:10:09.000+0000"
        ]
       ],
       "datasetInfos": [],
       "dbfsResultPath": null,
       "isJsonSchema": true,
       "metadata": {},
       "overflow": false,
       "plotOptions": {
        "customPlotOptions": {},
        "displayType": "table",
        "pivotAggregation": null,
        "pivotColumns": null,
        "xColumns": null,
        "yColumns": null
       },
       "removedWidgets": [],
       "schema": [
        {
         "metadata": "{}",
         "name": "created_timestamp",
         "type": "\"timestamp\""
        },
        {
         "metadata": "{}",
         "name": "created_by",
         "type": "\"string\""
        },
        {
         "metadata": "{}",
         "name": "input_timestamp_utc",
         "type": "\"timestamp\""
        },
        {
         "metadata": "{}",
         "name": "update_timestamp_utc",
         "type": "\"timestamp\""
        }
       ],
       "type": "table"
      }
     },
     "output_type": "display_data"
    }
   ],
   "source": [
    "df2 = df.select(\n",
    "    current_timestamp().alias(\"created_timestamp\"),\n",
    "    expr(\"current_user()\").alias(\"created_by\"),\n",
    "    to_timestamp(from_unixtime(col(\"Input_Timestamp_UTC\") / 1000), 'yyyy-MM-dd HH:mm:ss').alias('input_timestamp_utc'),\n",
    "    to_timestamp(from_unixtime(col(\"Update_Timestamp_UTC\") / 1000), 'yyyy-MM-dd HH:mm:ss').alias('update_timestamp_utc')\n",
    ")\n",
    "\n",
    "display(df2.limit(10))"
   ]
  },
  {
   "cell_type": "code",
   "execution_count": 0,
   "metadata": {
    "application/vnd.databricks.v1+cell": {
     "cellMetadata": {
      "byteLimit": 2048000,
      "implicitDf": true,
      "rowLimit": 10000
     },
     "inputWidgets": {},
     "nuid": "1968971c-3ea6-4f62-b2b3-8e89f5085f8e",
     "showTitle": false,
     "tableResultSettingsMap": {},
     "title": ""
    }
   },
   "outputs": [
    {
     "output_type": "display_data",
     "data": {
      "text/html": [
       "<style scoped>\n",
       "  .table-result-container {\n",
       "    max-height: 300px;\n",
       "    overflow: auto;\n",
       "  }\n",
       "  table, th, td {\n",
       "    border: 1px solid black;\n",
       "    border-collapse: collapse;\n",
       "  }\n",
       "  th, td {\n",
       "    padding: 5px;\n",
       "  }\n",
       "  th {\n",
       "    text-align: left;\n",
       "  }\n",
       "</style><div class='table-result-container'><table class='table-result'><thead style='background-color: white'><tr><th>timestamp_millis(1724256609000)</th></tr></thead><tbody><tr><td>2024-08-21T16:10:09.000+0000</td></tr></tbody></table></div>"
      ]
     },
     "metadata": {
      "application/vnd.databricks.v1+output": {
       "addedWidgets": {},
       "aggData": [],
       "aggError": "",
       "aggOverflow": false,
       "aggSchema": [],
       "aggSeriesLimitReached": false,
       "aggType": "",
       "arguments": {},
       "columnCustomDisplayInfos": {},
       "data": [
        [
         "2024-08-21T16:10:09.000+0000"
        ]
       ],
       "datasetInfos": [],
       "dbfsResultPath": null,
       "isJsonSchema": true,
       "metadata": {},
       "overflow": false,
       "plotOptions": {
        "customPlotOptions": {},
        "displayType": "table",
        "pivotAggregation": null,
        "pivotColumns": null,
        "xColumns": null,
        "yColumns": null
       },
       "removedWidgets": [],
       "schema": [
        {
         "metadata": "{\"__autoGeneratedAlias\":\"true\"}",
         "name": "timestamp_millis(1724256609000)",
         "type": "\"timestamp\""
        }
       ],
       "type": "table"
      }
     },
     "output_type": "display_data"
    }
   ],
   "source": [
    "%sql\n",
    "select timestamp_millis(1724256609000)"
   ]
  },
  {
   "cell_type": "markdown",
   "metadata": {
    "application/vnd.databricks.v1+cell": {
     "cellMetadata": {},
     "inputWidgets": {},
     "nuid": "e0c81e8f-c416-4385-bd59-7c18e3e3a63e",
     "showTitle": false,
     "tableResultSettingsMap": {},
     "title": ""
    }
   },
   "source": [
    "#### **Solution 02**"
   ]
  },
  {
   "cell_type": "code",
   "execution_count": 0,
   "metadata": {
    "application/vnd.databricks.v1+cell": {
     "cellMetadata": {
      "byteLimit": 2048000,
      "rowLimit": 10000
     },
     "inputWidgets": {},
     "nuid": "660a41a4-4d1c-48ab-b573-d19788422f62",
     "showTitle": false,
     "tableResultSettingsMap": {},
     "title": ""
    }
   },
   "outputs": [
    {
     "output_type": "display_data",
     "data": {
      "text/html": [
       "<style scoped>\n",
       "  .table-result-container {\n",
       "    max-height: 300px;\n",
       "    overflow: auto;\n",
       "  }\n",
       "  table, th, td {\n",
       "    border: 1px solid black;\n",
       "    border-collapse: collapse;\n",
       "  }\n",
       "  th, td {\n",
       "    padding: 5px;\n",
       "  }\n",
       "  th {\n",
       "    text-align: left;\n",
       "  }\n",
       "</style><div class='table-result-container'><table class='table-result'><thead style='background-color: white'><tr><th>created_timestamp</th><th>created_by</th><th>input_timestamp_utc</th><th>last_update_timestamp_utc</th></tr></thead><tbody><tr><td>2024-09-10T08:24:48.595+0000</td><td>enugantisuresh12@gmail.com</td><td>2024-08-21T16:10:09.000+0000</td><td>2024-08-21T16:10:09.000+0000</td></tr><tr><td>2024-09-10T08:24:48.595+0000</td><td>enugantisuresh12@gmail.com</td><td>2024-08-21T16:10:09.000+0000</td><td>2024-08-21T16:10:09.000+0000</td></tr><tr><td>2024-09-10T08:24:48.595+0000</td><td>enugantisuresh12@gmail.com</td><td>2024-08-21T16:10:09.000+0000</td><td>2024-08-21T16:10:09.000+0000</td></tr><tr><td>2024-09-10T08:24:48.595+0000</td><td>enugantisuresh12@gmail.com</td><td>2024-08-21T16:10:09.000+0000</td><td>2024-08-21T16:10:09.000+0000</td></tr><tr><td>2024-09-10T08:24:48.595+0000</td><td>enugantisuresh12@gmail.com</td><td>2024-08-21T16:10:09.000+0000</td><td>2024-08-21T16:10:09.000+0000</td></tr><tr><td>2024-09-10T08:24:48.595+0000</td><td>enugantisuresh12@gmail.com</td><td>2024-08-21T16:10:09.000+0000</td><td>2024-08-21T16:10:09.000+0000</td></tr><tr><td>2024-09-10T08:24:48.595+0000</td><td>enugantisuresh12@gmail.com</td><td>2024-08-21T16:10:09.000+0000</td><td>2024-08-21T16:10:09.000+0000</td></tr><tr><td>2024-09-10T08:24:48.595+0000</td><td>enugantisuresh12@gmail.com</td><td>2024-08-21T16:10:09.000+0000</td><td>2024-08-21T16:10:09.000+0000</td></tr><tr><td>2024-09-10T08:24:48.595+0000</td><td>enugantisuresh12@gmail.com</td><td>2024-08-21T16:10:09.000+0000</td><td>2024-08-21T16:10:09.000+0000</td></tr><tr><td>2024-09-10T08:24:48.595+0000</td><td>enugantisuresh12@gmail.com</td><td>2024-08-21T16:10:09.000+0000</td><td>2024-08-21T16:10:09.000+0000</td></tr></tbody></table></div>"
      ]
     },
     "metadata": {
      "application/vnd.databricks.v1+output": {
       "addedWidgets": {},
       "aggData": [],
       "aggError": "",
       "aggOverflow": false,
       "aggSchema": [],
       "aggSeriesLimitReached": false,
       "aggType": "",
       "arguments": {},
       "columnCustomDisplayInfos": {},
       "data": [
        [
         "2024-09-10T08:24:48.595+0000",
         "enugantisuresh12@gmail.com",
         "2024-08-21T16:10:09.000+0000",
         "2024-08-21T16:10:09.000+0000"
        ],
        [
         "2024-09-10T08:24:48.595+0000",
         "enugantisuresh12@gmail.com",
         "2024-08-21T16:10:09.000+0000",
         "2024-08-21T16:10:09.000+0000"
        ],
        [
         "2024-09-10T08:24:48.595+0000",
         "enugantisuresh12@gmail.com",
         "2024-08-21T16:10:09.000+0000",
         "2024-08-21T16:10:09.000+0000"
        ],
        [
         "2024-09-10T08:24:48.595+0000",
         "enugantisuresh12@gmail.com",
         "2024-08-21T16:10:09.000+0000",
         "2024-08-21T16:10:09.000+0000"
        ],
        [
         "2024-09-10T08:24:48.595+0000",
         "enugantisuresh12@gmail.com",
         "2024-08-21T16:10:09.000+0000",
         "2024-08-21T16:10:09.000+0000"
        ],
        [
         "2024-09-10T08:24:48.595+0000",
         "enugantisuresh12@gmail.com",
         "2024-08-21T16:10:09.000+0000",
         "2024-08-21T16:10:09.000+0000"
        ],
        [
         "2024-09-10T08:24:48.595+0000",
         "enugantisuresh12@gmail.com",
         "2024-08-21T16:10:09.000+0000",
         "2024-08-21T16:10:09.000+0000"
        ],
        [
         "2024-09-10T08:24:48.595+0000",
         "enugantisuresh12@gmail.com",
         "2024-08-21T16:10:09.000+0000",
         "2024-08-21T16:10:09.000+0000"
        ],
        [
         "2024-09-10T08:24:48.595+0000",
         "enugantisuresh12@gmail.com",
         "2024-08-21T16:10:09.000+0000",
         "2024-08-21T16:10:09.000+0000"
        ],
        [
         "2024-09-10T08:24:48.595+0000",
         "enugantisuresh12@gmail.com",
         "2024-08-21T16:10:09.000+0000",
         "2024-08-21T16:10:09.000+0000"
        ]
       ],
       "datasetInfos": [],
       "dbfsResultPath": null,
       "isJsonSchema": true,
       "metadata": {},
       "overflow": false,
       "plotOptions": {
        "customPlotOptions": {},
        "displayType": "table",
        "pivotAggregation": null,
        "pivotColumns": null,
        "xColumns": null,
        "yColumns": null
       },
       "removedWidgets": [],
       "schema": [
        {
         "metadata": "{}",
         "name": "created_timestamp",
         "type": "\"timestamp\""
        },
        {
         "metadata": "{}",
         "name": "created_by",
         "type": "\"string\""
        },
        {
         "metadata": "{}",
         "name": "input_timestamp_utc",
         "type": "\"timestamp\""
        },
        {
         "metadata": "{}",
         "name": "last_update_timestamp_utc",
         "type": "\"timestamp\""
        }
       ],
       "type": "table"
      }
     },
     "output_type": "display_data"
    }
   ],
   "source": [
    "df_exp = df.select(\n",
    "    current_timestamp().alias(\"created_timestamp\"),\n",
    "    expr(\"current_user()\").alias(\"created_by\"),\n",
    "    expr(\"timestamp_millis(Input_Timestamp_UTC)\").alias('input_timestamp_utc'),\n",
    "    expr(\"timestamp_millis(Update_Timestamp_UTC)\").alias('last_update_timestamp_utc')\n",
    ")\n",
    "display(df_exp.limit(10))"
   ]
  },
  {
   "cell_type": "markdown",
   "metadata": {
    "application/vnd.databricks.v1+cell": {
     "cellMetadata": {},
     "inputWidgets": {},
     "nuid": "aa52df04-c6a0-4eb2-b755-707ffc7bf92c",
     "showTitle": false,
     "tableResultSettingsMap": {},
     "title": ""
    }
   },
   "source": [
    "#### **Solution 03**"
   ]
  },
  {
   "cell_type": "markdown",
   "metadata": {
    "application/vnd.databricks.v1+cell": {
     "cellMetadata": {},
     "inputWidgets": {},
     "nuid": "13ec297d-518d-452b-878f-3843f6b47f49",
     "showTitle": false,
     "tableResultSettingsMap": {},
     "title": ""
    }
   },
   "source": [
    "- The reason why you are not encountering this error in this notebook could be due to the difference in **Spark versions or configurations between the two environments**. It's possible that the version of Spark in the **Databricks Community Edition does not include the timestamp_millis function**.\n",
    "\n",
    "- The functions **timestamp_millis and unix_millis** are **not available** in the **Apache Spark DataFrame API**. These functions are **specific to SQL** and are included in **Spark 3.1.1 and above**."
   ]
  },
  {
   "cell_type": "code",
   "execution_count": 0,
   "metadata": {
    "application/vnd.databricks.v1+cell": {
     "cellMetadata": {
      "byteLimit": 2048000,
      "rowLimit": 10000
     },
     "inputWidgets": {},
     "nuid": "39d5c135-d45e-4c1a-8875-94cb3bddfe88",
     "showTitle": false,
     "tableResultSettingsMap": {},
     "title": ""
    }
   },
   "outputs": [
    {
     "output_type": "display_data",
     "data": {
      "text/html": [
       "<style scoped>\n",
       "  .table-result-container {\n",
       "    max-height: 300px;\n",
       "    overflow: auto;\n",
       "  }\n",
       "  table, th, td {\n",
       "    border: 1px solid black;\n",
       "    border-collapse: collapse;\n",
       "  }\n",
       "  th, td {\n",
       "    padding: 5px;\n",
       "  }\n",
       "  th {\n",
       "    text-align: left;\n",
       "  }\n",
       "</style><div class='table-result-container'><table class='table-result'><thead style='background-color: white'><tr><th>created_timestamp</th><th>created_by</th><th>input_timestamp_utc</th><th>last_update_timestamp_utc</th></tr></thead><tbody><tr><td>2024-09-10T08:11:41.459Z</td><td>enugantisuresh12@gmail.com</td><td>2024-08-21T16:10:09Z</td><td>2024-08-21T16:10:09Z</td></tr><tr><td>2024-09-10T08:11:41.459Z</td><td>enugantisuresh12@gmail.com</td><td>2024-08-21T16:10:09Z</td><td>2024-08-21T16:10:09Z</td></tr><tr><td>2024-09-10T08:11:41.459Z</td><td>enugantisuresh12@gmail.com</td><td>2024-08-21T16:10:09Z</td><td>2024-08-21T16:10:09Z</td></tr><tr><td>2024-09-10T08:11:41.459Z</td><td>enugantisuresh12@gmail.com</td><td>2024-08-21T16:10:09Z</td><td>2024-08-21T16:10:09Z</td></tr><tr><td>2024-09-10T08:11:41.459Z</td><td>enugantisuresh12@gmail.com</td><td>2024-08-21T16:10:09Z</td><td>2024-08-21T16:10:09Z</td></tr><tr><td>2024-09-10T08:11:41.459Z</td><td>enugantisuresh12@gmail.com</td><td>2024-08-21T16:10:09Z</td><td>2024-08-21T16:10:09Z</td></tr><tr><td>2024-09-10T08:11:41.459Z</td><td>enugantisuresh12@gmail.com</td><td>2024-08-21T16:10:09Z</td><td>2024-08-21T16:10:09Z</td></tr><tr><td>2024-09-10T08:11:41.459Z</td><td>enugantisuresh12@gmail.com</td><td>2024-08-21T16:10:09Z</td><td>2024-08-21T16:10:09Z</td></tr><tr><td>2024-09-10T08:11:41.459Z</td><td>enugantisuresh12@gmail.com</td><td>2024-08-21T16:10:09Z</td><td>2024-08-21T16:10:09Z</td></tr><tr><td>2024-09-10T08:11:41.459Z</td><td>enugantisuresh12@gmail.com</td><td>2024-08-21T16:10:09Z</td><td>2024-08-21T16:10:09Z</td></tr></tbody></table></div>"
      ]
     },
     "metadata": {
      "application/vnd.databricks.v1+output": {
       "addedWidgets": {},
       "aggData": [],
       "aggError": "",
       "aggOverflow": false,
       "aggSchema": [],
       "aggSeriesLimitReached": false,
       "aggType": "",
       "arguments": {},
       "columnCustomDisplayInfos": {},
       "data": [
        [
         "2024-09-10T08:11:41.459Z",
         "enugantisuresh12@gmail.com",
         "2024-08-21T16:10:09Z",
         "2024-08-21T16:10:09Z"
        ],
        [
         "2024-09-10T08:11:41.459Z",
         "enugantisuresh12@gmail.com",
         "2024-08-21T16:10:09Z",
         "2024-08-21T16:10:09Z"
        ],
        [
         "2024-09-10T08:11:41.459Z",
         "enugantisuresh12@gmail.com",
         "2024-08-21T16:10:09Z",
         "2024-08-21T16:10:09Z"
        ],
        [
         "2024-09-10T08:11:41.459Z",
         "enugantisuresh12@gmail.com",
         "2024-08-21T16:10:09Z",
         "2024-08-21T16:10:09Z"
        ],
        [
         "2024-09-10T08:11:41.459Z",
         "enugantisuresh12@gmail.com",
         "2024-08-21T16:10:09Z",
         "2024-08-21T16:10:09Z"
        ],
        [
         "2024-09-10T08:11:41.459Z",
         "enugantisuresh12@gmail.com",
         "2024-08-21T16:10:09Z",
         "2024-08-21T16:10:09Z"
        ],
        [
         "2024-09-10T08:11:41.459Z",
         "enugantisuresh12@gmail.com",
         "2024-08-21T16:10:09Z",
         "2024-08-21T16:10:09Z"
        ],
        [
         "2024-09-10T08:11:41.459Z",
         "enugantisuresh12@gmail.com",
         "2024-08-21T16:10:09Z",
         "2024-08-21T16:10:09Z"
        ],
        [
         "2024-09-10T08:11:41.459Z",
         "enugantisuresh12@gmail.com",
         "2024-08-21T16:10:09Z",
         "2024-08-21T16:10:09Z"
        ],
        [
         "2024-09-10T08:11:41.459Z",
         "enugantisuresh12@gmail.com",
         "2024-08-21T16:10:09Z",
         "2024-08-21T16:10:09Z"
        ]
       ],
       "datasetInfos": [],
       "dbfsResultPath": null,
       "isJsonSchema": true,
       "metadata": {},
       "overflow": false,
       "plotOptions": {
        "customPlotOptions": {},
        "displayType": "table",
        "pivotAggregation": null,
        "pivotColumns": null,
        "xColumns": null,
        "yColumns": null
       },
       "removedWidgets": [],
       "schema": [
        {
         "metadata": "{}",
         "name": "created_timestamp",
         "type": "\"timestamp\""
        },
        {
         "metadata": "{}",
         "name": "created_by",
         "type": "\"string\""
        },
        {
         "metadata": "{}",
         "name": "input_timestamp_utc",
         "type": "\"timestamp\""
        },
        {
         "metadata": "{}",
         "name": "last_update_timestamp_utc",
         "type": "\"timestamp\""
        }
       ],
       "type": "table"
      }
     },
     "output_type": "display_data"
    }
   ],
   "source": [
    "df_confg = df.select(current_timestamp().alias(\"created_timestamp\"),\n",
    "               current_user().alias(\"created_by\"),\n",
    "               timestamp_millis(col(\"Input_Timestamp_UTC\")).alias('input_timestamp_utc'),\n",
    "               timestamp_millis(col(\"Update_Timestamp_UTC\")).alias('last_update_timestamp_utc'))\n",
    "display(df_confg.limit(10))"
   ]
  }
 ],
 "metadata": {
  "application/vnd.databricks.v1+notebook": {
   "dashboards": [],
   "environmentMetadata": null,
   "language": "python",
   "notebookMetadata": {
    "mostRecentlyExecutedCommandWithImplicitDF": {
     "commandId": 3877367649014253,
     "dataframes": [
      "_sqldf"
     ]
    },
    "pythonIndentUnit": 4
   },
   "notebookName": "22_How to convert Unix Time milli-seconds to Timestamp using timestamp_millis",
   "widgets": {}
  }
 },
 "nbformat": 4,
 "nbformat_minor": 0
}
