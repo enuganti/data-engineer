{
 "cells": [
  {
   "cell_type": "markdown",
   "metadata": {
    "application/vnd.databricks.v1+cell": {
     "cellMetadata": {},
     "inputWidgets": {},
     "nuid": "6c65287b-6804-49c5-a583-ea007cd6e84e",
     "showTitle": false,
     "title": ""
    }
   },
   "source": [
    "#### **unix_timestamp (EPOCH)**\n",
    "\n",
    "- is used to get the **current time** and to convert the time string in format **yyyy-MM-dd HH:mm:ss** to Unix timestamp (in **seconds**) by using the **current timezone of the system**.\n",
    "\n",
    "- It is an **integer** and started from **January 1st 1970 Midnight UTC**.\n",
    "\n",
    "- Converts **Date and Timestamp** Column to **Unix Time**.\n",
    "\n",
    "- https://www.epochconverter.com/"
   ]
  },
  {
   "cell_type": "markdown",
   "metadata": {
    "application/vnd.databricks.v1+cell": {
     "cellMetadata": {},
     "inputWidgets": {},
     "nuid": "bb96112b-e7d4-4cfd-bf37-3e80f23901c9",
     "showTitle": false,
     "title": ""
    }
   },
   "source": [
    "Here are some common use cases:\n",
    "\n",
    "**Converting Date/Time to Unix Timestamp:**\n",
    "- When you need to convert a date or time string into a Unix timestamp (the number of seconds since '1970-01-01 00:00:00' UTC). This is useful for performing time-based calculations or when storing or transmitting date/time data in a compact, numeric format.\n",
    "\n",
    "**Time Difference Calculations:**\n",
    "- To calculate the difference between two dates or times by converting them to Unix timestamps first. Since Unix timestamps are in seconds, subtracting one from another gives the difference in seconds, which can then be converted to other units of time.\n",
    "\n",
    "**Data Filtering Based on Time Range:**\n",
    "- When querying data within a specific time range, converting dates to Unix timestamps can simplify the query. You can filter rows based on Unix timestamp values to retrieve records within a desired timeframe.\n",
    "\n",
    "**Sorting or Grouping by Time:**\n",
    "- Unix timestamps are numeric, making them straightforward to use for sorting or grouping operations in your queries. This can be particularly useful when dealing with large datasets and you need to organize records based on their timestamp values.\n",
    "\n",
    "**Interoperability with Other Systems:**\n",
    "- When exchanging data with other systems or applications that use Unix timestamps to represent date/time values. Converting to and from Unix timestamps ensures compatibility and simplifies data integration tasks.\n",
    "\n",
    "**Efficiency in Storage and Computation:**\n",
    "- Unix timestamps are stored as integers, which can be more storage-efficient than storing full datetime strings. Computations with integers (Unix timestamps) can also be faster than parsing and operating on string representations of dates and times."
   ]
  },
  {
   "cell_type": "markdown",
   "metadata": {
    "application/vnd.databricks.v1+cell": {
     "cellMetadata": {},
     "inputWidgets": {},
     "nuid": "80078a7b-78b9-42ca-ae18-c3300158bb50",
     "showTitle": false,
     "title": ""
    }
   },
   "source": [
    "#### **Syntax**\n",
    "\n",
    "     unix_timestamp(date_time_column, pattern)\n",
    "\n",
    "**Arguments**\n",
    "\n",
    "- **date_time_column:** An optional **DATE, TIMESTAMP, or a STRING** expression in a valid datetime format.\n",
    "\n",
    "- **pattern:** An optional STRING expression specifying the format if expr is a STRING.\n",
    "\n",
    "- The default **pattern** value is **'yyyy-MM-dd HH:mm:ss'**.\n",
    "\n",
    "**Returns:** BIGINT"
   ]
  },
  {
   "cell_type": "markdown",
   "metadata": {
    "application/vnd.databricks.v1+cell": {
     "cellMetadata": {},
     "inputWidgets": {},
     "nuid": "d4ccf47f-177b-4449-98c9-4da726ee7d7c",
     "showTitle": false,
     "title": ""
    }
   },
   "source": [
    "![test image](files/syntax-1.png)"
   ]
  },
  {
   "cell_type": "code",
   "execution_count": 0,
   "metadata": {
    "application/vnd.databricks.v1+cell": {
     "cellMetadata": {
      "byteLimit": 2048000,
      "implicitDf": true,
      "rowLimit": 10000
     },
     "inputWidgets": {},
     "nuid": "0cf94a42-178e-4a35-8994-c8bb609b55fd",
     "showTitle": false,
     "title": ""
    }
   },
   "outputs": [
    {
     "output_type": "display_data",
     "data": {
      "text/html": [
       "<style scoped>\n",
       "  .table-result-container {\n",
       "    max-height: 300px;\n",
       "    overflow: auto;\n",
       "  }\n",
       "  table, th, td {\n",
       "    border: 1px solid black;\n",
       "    border-collapse: collapse;\n",
       "  }\n",
       "  th, td {\n",
       "    padding: 5px;\n",
       "  }\n",
       "  th {\n",
       "    text-align: left;\n",
       "  }\n",
       "</style><div class='table-result-container'><table class='table-result'><thead style='background-color: white'><tr><th>default</th></tr></thead><tbody><tr><td>1726385352</td></tr></tbody></table></div>"
      ]
     },
     "metadata": {
      "application/vnd.databricks.v1+output": {
       "addedWidgets": {},
       "aggData": [],
       "aggError": "",
       "aggOverflow": false,
       "aggSchema": [],
       "aggSeriesLimitReached": false,
       "aggType": "",
       "arguments": {},
       "columnCustomDisplayInfos": {},
       "data": [
        [
         1726385352
        ]
       ],
       "datasetInfos": [],
       "dbfsResultPath": null,
       "isJsonSchema": true,
       "metadata": {},
       "overflow": false,
       "plotOptions": {
        "customPlotOptions": {},
        "displayType": "table",
        "pivotAggregation": null,
        "pivotColumns": null,
        "xColumns": null,
        "yColumns": null
       },
       "removedWidgets": [],
       "schema": [
        {
         "metadata": "{}",
         "name": "default",
         "type": "\"long\""
        }
       ],
       "type": "table"
      }
     },
     "output_type": "display_data"
    }
   ],
   "source": [
    "%sql\n",
    "-- unix timestamp or epoc time \n",
    "-- If no argument is provided the default is the current timestamp.\n",
    "-- The number of seconds that are passed from 01-JAN-1970 to this particular moment.\n",
    "SELECT unix_timestamp() AS default;"
   ]
  },
  {
   "cell_type": "code",
   "execution_count": 0,
   "metadata": {
    "application/vnd.databricks.v1+cell": {
     "cellMetadata": {
      "byteLimit": 2048000,
      "implicitDf": true,
      "rowLimit": 10000
     },
     "inputWidgets": {},
     "nuid": "01ded4b6-4423-4780-a164-9fe6e18fe2cf",
     "showTitle": false,
     "title": ""
    }
   },
   "outputs": [
    {
     "output_type": "display_data",
     "data": {
      "text/html": [
       "<style scoped>\n",
       "  .table-result-container {\n",
       "    max-height: 300px;\n",
       "    overflow: auto;\n",
       "  }\n",
       "  table, th, td {\n",
       "    border: 1px solid black;\n",
       "    border-collapse: collapse;\n",
       "  }\n",
       "  th, td {\n",
       "    padding: 5px;\n",
       "  }\n",
       "  th {\n",
       "    text-align: left;\n",
       "  }\n",
       "</style><div class='table-result-container'><table class='table-result'><thead style='background-color: white'><tr><th>default</th></tr></thead><tbody><tr><td>2024-09-15 07:34:47</td></tr></tbody></table></div>"
      ]
     },
     "metadata": {
      "application/vnd.databricks.v1+output": {
       "addedWidgets": {},
       "aggData": [],
       "aggError": "",
       "aggOverflow": false,
       "aggSchema": [],
       "aggSeriesLimitReached": false,
       "aggType": "",
       "arguments": {},
       "columnCustomDisplayInfos": {},
       "data": [
        [
         "2024-09-15 07:34:47"
        ]
       ],
       "datasetInfos": [],
       "dbfsResultPath": null,
       "isJsonSchema": true,
       "metadata": {},
       "overflow": false,
       "plotOptions": {
        "customPlotOptions": {},
        "displayType": "table",
        "pivotAggregation": null,
        "pivotColumns": null,
        "xColumns": null,
        "yColumns": null
       },
       "removedWidgets": [],
       "schema": [
        {
         "metadata": "{}",
         "name": "default",
         "type": "\"string\""
        }
       ],
       "type": "table"
      }
     },
     "output_type": "display_data"
    }
   ],
   "source": [
    "%sql\n",
    "-- convert epoc time to human readble format\n",
    "SELECT from_unixtime(unix_timestamp()) AS default;"
   ]
  },
  {
   "cell_type": "code",
   "execution_count": 0,
   "metadata": {
    "application/vnd.databricks.v1+cell": {
     "cellMetadata": {
      "byteLimit": 2048000,
      "implicitDf": true,
      "rowLimit": 10000
     },
     "inputWidgets": {},
     "nuid": "8aa8e98b-7285-4e69-889a-e712ba072c64",
     "showTitle": false,
     "title": ""
    }
   },
   "outputs": [
    {
     "output_type": "display_data",
     "data": {
      "text/html": [
       "<style scoped>\n",
       "  .table-result-container {\n",
       "    max-height: 300px;\n",
       "    overflow: auto;\n",
       "  }\n",
       "  table, th, td {\n",
       "    border: 1px solid black;\n",
       "    border-collapse: collapse;\n",
       "  }\n",
       "  th, td {\n",
       "    padding: 5px;\n",
       "  }\n",
       "  th {\n",
       "    text-align: left;\n",
       "  }\n",
       "</style><div class='table-result-container'><table class='table-result'><thead style='background-color: white'><tr><th>unixtimestamp</th></tr></thead><tbody><tr><td>1460073600</td></tr></tbody></table></div>"
      ]
     },
     "metadata": {
      "application/vnd.databricks.v1+output": {
       "addedWidgets": {},
       "aggData": [],
       "aggError": "",
       "aggOverflow": false,
       "aggSchema": [],
       "aggSeriesLimitReached": false,
       "aggType": "",
       "arguments": {},
       "columnCustomDisplayInfos": {},
       "data": [
        [
         1460073600
        ]
       ],
       "datasetInfos": [],
       "dbfsResultPath": null,
       "isJsonSchema": true,
       "metadata": {
        "dataframeName": "_sqldf",
        "executionCount": 96
       },
       "overflow": false,
       "plotOptions": {
        "customPlotOptions": {},
        "displayType": "table",
        "pivotAggregation": null,
        "pivotColumns": null,
        "xColumns": null,
        "yColumns": null
       },
       "removedWidgets": [],
       "schema": [
        {
         "metadata": "{}",
         "name": "unixtimestamp",
         "type": "\"long\""
        }
       ],
       "type": "table"
      }
     },
     "output_type": "display_data"
    }
   ],
   "source": [
    "%sql\n",
    "SELECT unix_timestamp('2016-04-08', 'yyyy-MM-dd') AS unixtimestamp;"
   ]
  },
  {
   "cell_type": "code",
   "execution_count": 0,
   "metadata": {
    "application/vnd.databricks.v1+cell": {
     "cellMetadata": {
      "byteLimit": 2048000,
      "rowLimit": 10000
     },
     "inputWidgets": {},
     "nuid": "b891d4f8-8415-43bc-9f7a-04c523f74546",
     "showTitle": false,
     "title": ""
    }
   },
   "outputs": [],
   "source": [
    "import pyspark.sql.functions as F\n",
    "from pyspark.sql.functions import lit, col, unix_timestamp, current_timestamp"
   ]
  },
  {
   "cell_type": "markdown",
   "metadata": {
    "application/vnd.databricks.v1+cell": {
     "cellMetadata": {},
     "inputWidgets": {},
     "nuid": "507050b8-1ef0-4575-83ea-2e23f608bd11",
     "showTitle": false,
     "title": ""
    }
   },
   "source": [
    "#### **1) Convert timestamp string to Unix time**"
   ]
  },
  {
   "cell_type": "code",
   "execution_count": 0,
   "metadata": {
    "application/vnd.databricks.v1+cell": {
     "cellMetadata": {
      "byteLimit": 2048000,
      "rowLimit": 10000
     },
     "inputWidgets": {},
     "nuid": "b6ffee5e-9c3e-4ec8-ad5e-96164d0b712c",
     "showTitle": false,
     "title": ""
    }
   },
   "outputs": [
    {
     "output_type": "display_data",
     "data": {
      "text/html": [
       "<style scoped>\n",
       "  .table-result-container {\n",
       "    max-height: 300px;\n",
       "    overflow: auto;\n",
       "  }\n",
       "  table, th, td {\n",
       "    border: 1px solid black;\n",
       "    border-collapse: collapse;\n",
       "  }\n",
       "  th, td {\n",
       "    padding: 5px;\n",
       "  }\n",
       "  th {\n",
       "    text-align: left;\n",
       "  }\n",
       "</style><div class='table-result-container'><table class='table-result'><thead style='background-color: white'><tr><th>dateid</th><th>start_timestamp</th><th>input_timestamp</th><th>last_timestamp</th><th>start_date</th><th>end_date</th></tr></thead><tbody><tr><td>20140228</td><td>2017-03-09 10:27:18</td><td>17-01-2019 12:01:19</td><td>01-07-2019 12:01:19</td><td>08-18-2022</td><td>2022-08-18</td></tr><tr><td>20160229</td><td>2017-03-10 15:27:18</td><td>13-05-2022 15:05:36</td><td>05-13-2022 15:05:36</td><td>04-29-2022</td><td>2022-04-29</td></tr><tr><td>20171031</td><td>2017-03-13 12:27:18</td><td>18-08-2023 17:22:45</td><td>08-18-2023 17:22:45</td><td>08-22-2022</td><td>2022-08-22</td></tr><tr><td>20191130</td><td>2017-03-15 12:27:18</td><td>22-04-2002 18:15:34</td><td>04-22-2002 18:15:34</td><td>03-28-2021</td><td>2021-09-28</td></tr><tr><td>20221130</td><td>2017-03-15 02:27:18</td><td>29-06-2005 22:55:29</td><td>06-29-2005 22:55:29</td><td>02-13-2022</td><td>2022-02-13</td></tr><tr><td>20321130</td><td>2017-03-18 11:27:18</td><td>20-10-2019 23:45:56</td><td>10-20-2019 23:45:56</td><td>07-23-2024</td><td>2024-07-23</td></tr></tbody></table></div>"
      ]
     },
     "metadata": {
      "application/vnd.databricks.v1+output": {
       "addedWidgets": {},
       "aggData": [],
       "aggError": "",
       "aggOverflow": false,
       "aggSchema": [],
       "aggSeriesLimitReached": false,
       "aggType": "",
       "arguments": {},
       "columnCustomDisplayInfos": {},
       "data": [
        [
         20140228,
         "2017-03-09 10:27:18",
         "17-01-2019 12:01:19",
         "01-07-2019 12:01:19",
         "08-18-2022",
         "2022-08-18"
        ],
        [
         20160229,
         "2017-03-10 15:27:18",
         "13-05-2022 15:05:36",
         "05-13-2022 15:05:36",
         "04-29-2022",
         "2022-04-29"
        ],
        [
         20171031,
         "2017-03-13 12:27:18",
         "18-08-2023 17:22:45",
         "08-18-2023 17:22:45",
         "08-22-2022",
         "2022-08-22"
        ],
        [
         20191130,
         "2017-03-15 12:27:18",
         "22-04-2002 18:15:34",
         "04-22-2002 18:15:34",
         "03-28-2021",
         "2021-09-28"
        ],
        [
         20221130,
         "2017-03-15 02:27:18",
         "29-06-2005 22:55:29",
         "06-29-2005 22:55:29",
         "02-13-2022",
         "2022-02-13"
        ],
        [
         20321130,
         "2017-03-18 11:27:18",
         "20-10-2019 23:45:56",
         "10-20-2019 23:45:56",
         "07-23-2024",
         "2024-07-23"
        ]
       ],
       "datasetInfos": [],
       "dbfsResultPath": null,
       "isJsonSchema": true,
       "metadata": {},
       "overflow": false,
       "plotOptions": {
        "customPlotOptions": {},
        "displayType": "table",
        "pivotAggregation": null,
        "pivotColumns": null,
        "xColumns": null,
        "yColumns": null
       },
       "removedWidgets": [],
       "schema": [
        {
         "metadata": "{}",
         "name": "dateid",
         "type": "\"long\""
        },
        {
         "metadata": "{}",
         "name": "start_timestamp",
         "type": "\"string\""
        },
        {
         "metadata": "{}",
         "name": "input_timestamp",
         "type": "\"string\""
        },
        {
         "metadata": "{}",
         "name": "last_timestamp",
         "type": "\"string\""
        },
        {
         "metadata": "{}",
         "name": "start_date",
         "type": "\"string\""
        },
        {
         "metadata": "{}",
         "name": "end_date",
         "type": "\"string\""
        }
       ],
       "type": "table"
      }
     },
     "output_type": "display_data"
    }
   ],
   "source": [
    "df_ts_ut = spark.createDataFrame([\n",
    "    (20140228, \"2017-03-09 10:27:18\", \"17-01-2019 12:01:19\", \"01-07-2019 12:01:19\", \"08-18-2022\", \"2022-08-18\"),\n",
    "    (20160229, \"2017-03-10 15:27:18\", \"13-05-2022 15:05:36\", \"05-13-2022 15:05:36\", \"04-29-2022\", \"2022-04-29\"),\n",
    "    (20171031, \"2017-03-13 12:27:18\", \"18-08-2023 17:22:45\", \"08-18-2023 17:22:45\", \"08-22-2022\", \"2022-08-22\"),\n",
    "    (20191130, \"2017-03-15 12:27:18\", \"22-04-2002 18:15:34\", \"04-22-2002 18:15:34\", \"03-28-2021\", \"2021-09-28\"),\n",
    "    (20221130, \"2017-03-15 02:27:18\", \"29-06-2005 22:55:29\", \"06-29-2005 22:55:29\", \"02-13-2022\", \"2022-02-13\"),\n",
    "    (20321130, \"2017-03-18 11:27:18\", \"20-10-2019 23:45:56\", \"10-20-2019 23:45:56\", \"07-23-2024\", \"2024-07-23\")],\n",
    "    [\"dateid\", \"start_timestamp\", \"input_timestamp\", \"last_timestamp\", \"start_date\", \"end_date\"])\n",
    "display(df_ts_ut)"
   ]
  },
  {
   "cell_type": "code",
   "execution_count": 0,
   "metadata": {
    "application/vnd.databricks.v1+cell": {
     "cellMetadata": {
      "byteLimit": 2048000,
      "rowLimit": 10000
     },
     "inputWidgets": {},
     "nuid": "7e9bfe8c-48b1-4c4e-85a4-1cfa900471af",
     "showTitle": false,
     "title": ""
    }
   },
   "outputs": [
    {
     "output_type": "display_data",
     "data": {
      "text/html": [
       "<style scoped>\n",
       "  .table-result-container {\n",
       "    max-height: 300px;\n",
       "    overflow: auto;\n",
       "  }\n",
       "  table, th, td {\n",
       "    border: 1px solid black;\n",
       "    border-collapse: collapse;\n",
       "  }\n",
       "  th, td {\n",
       "    padding: 5px;\n",
       "  }\n",
       "  th {\n",
       "    text-align: left;\n",
       "  }\n",
       "</style><div class='table-result-container'><table class='table-result'><thead style='background-color: white'><tr><th>dateid</th><th>start_timestamp</th><th>input_timestamp</th><th>last_timestamp</th><th>start_date</th><th>end_date</th></tr></thead><tbody><tr><td>1393545600</td><td>1489055238</td><td>1547726479</td><td>1546862479</td><td>1660780800</td><td>1660780800</td></tr><tr><td>1456704000</td><td>1489159638</td><td>1652454336</td><td>1652454336</td><td>1651190400</td><td>1651190400</td></tr><tr><td>1509408000</td><td>1489408038</td><td>1692379365</td><td>1692379365</td><td>1661126400</td><td>1661126400</td></tr><tr><td>1575072000</td><td>1489580838</td><td>1019499334</td><td>1019499334</td><td>1616889600</td><td>1632787200</td></tr><tr><td>1669766400</td><td>1489544838</td><td>1120085729</td><td>1120085729</td><td>1644710400</td><td>1644710400</td></tr><tr><td>1985385600</td><td>1489836438</td><td>1571615156</td><td>1571615156</td><td>1721692800</td><td>1721692800</td></tr></tbody></table></div>"
      ]
     },
     "metadata": {
      "application/vnd.databricks.v1+output": {
       "addedWidgets": {},
       "aggData": [],
       "aggError": "",
       "aggOverflow": false,
       "aggSchema": [],
       "aggSeriesLimitReached": false,
       "aggType": "",
       "arguments": {},
       "columnCustomDisplayInfos": {},
       "data": [
        [
         1393545600,
         1489055238,
         1547726479,
         1546862479,
         1660780800,
         1660780800
        ],
        [
         1456704000,
         1489159638,
         1652454336,
         1652454336,
         1651190400,
         1651190400
        ],
        [
         1509408000,
         1489408038,
         1692379365,
         1692379365,
         1661126400,
         1661126400
        ],
        [
         1575072000,
         1489580838,
         1019499334,
         1019499334,
         1616889600,
         1632787200
        ],
        [
         1669766400,
         1489544838,
         1120085729,
         1120085729,
         1644710400,
         1644710400
        ],
        [
         1985385600,
         1489836438,
         1571615156,
         1571615156,
         1721692800,
         1721692800
        ]
       ],
       "datasetInfos": [],
       "dbfsResultPath": null,
       "isJsonSchema": true,
       "metadata": {},
       "overflow": false,
       "plotOptions": {
        "customPlotOptions": {},
        "displayType": "table",
        "pivotAggregation": null,
        "pivotColumns": null,
        "xColumns": null,
        "yColumns": null
       },
       "removedWidgets": [],
       "schema": [
        {
         "metadata": "{}",
         "name": "dateid",
         "type": "\"long\""
        },
        {
         "metadata": "{}",
         "name": "start_timestamp",
         "type": "\"long\""
        },
        {
         "metadata": "{}",
         "name": "input_timestamp",
         "type": "\"long\""
        },
        {
         "metadata": "{}",
         "name": "last_timestamp",
         "type": "\"long\""
        },
        {
         "metadata": "{}",
         "name": "start_date",
         "type": "\"long\""
        },
        {
         "metadata": "{}",
         "name": "end_date",
         "type": "\"long\""
        }
       ],
       "type": "table"
      }
     },
     "output_type": "display_data"
    }
   ],
   "source": [
    "df_ts_ut = df_ts_ut\\\n",
    "         .withColumn('dateid', F.unix_timestamp(F.col('dateid').cast('string'),'yyyyMMdd'))\\\n",
    "         .withColumn('start_timestamp', F.unix_timestamp(F.col('start_timestamp')))\\\n",
    "         .withColumn('input_timestamp', F.unix_timestamp(F.col('input_timestamp'), 'dd-MM-yyyy HH:mm:ss'))\\\n",
    "         .withColumn('last_timestamp', F.unix_timestamp(F.col('last_timestamp'), \"MM-dd-yyyy HH:mm:ss\"))\\\n",
    "         .withColumn('start_date', F.unix_timestamp(F.col('start_date'), 'MM-dd-yyyy'))\\\n",
    "         .withColumn('end_date', F.unix_timestamp(F.col('end_date'), \"yyyy-MM-dd\"))\n",
    "display(df_ts_ut)"
   ]
  },
  {
   "cell_type": "code",
   "execution_count": 0,
   "metadata": {
    "application/vnd.databricks.v1+cell": {
     "cellMetadata": {
      "byteLimit": 2048000,
      "rowLimit": 10000
     },
     "inputWidgets": {},
     "nuid": "36c0d34f-27d3-4813-b5b6-28cda15803c2",
     "showTitle": false,
     "title": ""
    }
   },
   "outputs": [
    {
     "output_type": "display_data",
     "data": {
      "text/html": [
       "<style scoped>\n",
       "  .table-result-container {\n",
       "    max-height: 300px;\n",
       "    overflow: auto;\n",
       "  }\n",
       "  table, th, td {\n",
       "    border: 1px solid black;\n",
       "    border-collapse: collapse;\n",
       "  }\n",
       "  th, td {\n",
       "    padding: 5px;\n",
       "  }\n",
       "  th {\n",
       "    text-align: left;\n",
       "  }\n",
       "</style><div class='table-result-container'><table class='table-result'><thead style='background-color: white'><tr><th>dateid</th><th>start_timestamp</th><th>input_timestamp</th><th>last_timestamp</th><th>start_date</th><th>end_date</th><th>lit_timestamp</th><th>current_timestamp</th><th>current_date</th><th>default_timestamp</th></tr></thead><tbody><tr><td>1393545600</td><td>1489055238</td><td>1547726479</td><td>1546862479</td><td>1660780800</td><td>1660780800</td><td>1727617555</td><td>1726043127</td><td>1726043127</td><td>1726043127</td></tr><tr><td>1456704000</td><td>1489159638</td><td>1652454336</td><td>1652454336</td><td>1651190400</td><td>1651190400</td><td>1727617555</td><td>1726043127</td><td>1726043127</td><td>1726043127</td></tr><tr><td>1509408000</td><td>1489408038</td><td>1692379365</td><td>1692379365</td><td>1661126400</td><td>1661126400</td><td>1727617555</td><td>1726043127</td><td>1726043127</td><td>1726043127</td></tr><tr><td>1575072000</td><td>1489580838</td><td>1019499334</td><td>1019499334</td><td>1616889600</td><td>1632787200</td><td>1727617555</td><td>1726043127</td><td>1726043127</td><td>1726043127</td></tr><tr><td>1669766400</td><td>1489544838</td><td>1120085729</td><td>1120085729</td><td>1644710400</td><td>1644710400</td><td>1727617555</td><td>1726043127</td><td>1726043127</td><td>1726043127</td></tr><tr><td>1985385600</td><td>1489836438</td><td>1571615156</td><td>1571615156</td><td>1721692800</td><td>1721692800</td><td>1727617555</td><td>1726043127</td><td>1726043127</td><td>1726043127</td></tr></tbody></table></div>"
      ]
     },
     "metadata": {
      "application/vnd.databricks.v1+output": {
       "addedWidgets": {},
       "aggData": [],
       "aggError": "",
       "aggOverflow": false,
       "aggSchema": [],
       "aggSeriesLimitReached": false,
       "aggType": "",
       "arguments": {},
       "columnCustomDisplayInfos": {},
       "data": [
        [
         1393545600,
         1489055238,
         1547726479,
         1546862479,
         1660780800,
         1660780800,
         1727617555,
         1726043127,
         1726043127,
         1726043127
        ],
        [
         1456704000,
         1489159638,
         1652454336,
         1652454336,
         1651190400,
         1651190400,
         1727617555,
         1726043127,
         1726043127,
         1726043127
        ],
        [
         1509408000,
         1489408038,
         1692379365,
         1692379365,
         1661126400,
         1661126400,
         1727617555,
         1726043127,
         1726043127,
         1726043127
        ],
        [
         1575072000,
         1489580838,
         1019499334,
         1019499334,
         1616889600,
         1632787200,
         1727617555,
         1726043127,
         1726043127,
         1726043127
        ],
        [
         1669766400,
         1489544838,
         1120085729,
         1120085729,
         1644710400,
         1644710400,
         1727617555,
         1726043127,
         1726043127,
         1726043127
        ],
        [
         1985385600,
         1489836438,
         1571615156,
         1571615156,
         1721692800,
         1721692800,
         1727617555,
         1726043127,
         1726043127,
         1726043127
        ]
       ],
       "datasetInfos": [],
       "dbfsResultPath": null,
       "isJsonSchema": true,
       "metadata": {},
       "overflow": false,
       "plotOptions": {
        "customPlotOptions": {},
        "displayType": "table",
        "pivotAggregation": null,
        "pivotColumns": null,
        "xColumns": null,
        "yColumns": null
       },
       "removedWidgets": [],
       "schema": [
        {
         "metadata": "{}",
         "name": "dateid",
         "type": "\"long\""
        },
        {
         "metadata": "{}",
         "name": "start_timestamp",
         "type": "\"long\""
        },
        {
         "metadata": "{}",
         "name": "input_timestamp",
         "type": "\"long\""
        },
        {
         "metadata": "{}",
         "name": "last_timestamp",
         "type": "\"long\""
        },
        {
         "metadata": "{}",
         "name": "start_date",
         "type": "\"long\""
        },
        {
         "metadata": "{}",
         "name": "end_date",
         "type": "\"long\""
        },
        {
         "metadata": "{}",
         "name": "lit_timestamp",
         "type": "\"long\""
        },
        {
         "metadata": "{}",
         "name": "current_timestamp",
         "type": "\"long\""
        },
        {
         "metadata": "{}",
         "name": "current_date",
         "type": "\"long\""
        },
        {
         "metadata": "{}",
         "name": "default_timestamp",
         "type": "\"long\""
        }
       ],
       "type": "table"
      }
     },
     "output_type": "display_data"
    }
   ],
   "source": [
    "df_ts_ut = df_ts_ut.select(\"*\",\n",
    "                           unix_timestamp(lit(\"2024-09-29 13:45:55\")).alias('lit_timestamp'),\\\n",
    "                           unix_timestamp(current_timestamp(),'yyyy-MM-dd HH:mm:ss').alias('current_time'),\\\n",
    "                           unix_timestamp(current_timestamp(),'yyyy-MM-dd').alias('current_date'),\\\n",
    "                           unix_timestamp().alias('default_time')\n",
    "                           )\n",
    "display(df_ts_ut)"
   ]
  },
  {
   "cell_type": "markdown",
   "metadata": {
    "application/vnd.databricks.v1+cell": {
     "cellMetadata": {},
     "inputWidgets": {},
     "nuid": "76af1128-4214-413d-8563-94181c48db66",
     "showTitle": false,
     "title": ""
    }
   },
   "source": [
    "#### **2) Convert string to timestamp to Unix time**"
   ]
  },
  {
   "cell_type": "markdown",
   "metadata": {
    "application/vnd.databricks.v1+cell": {
     "cellMetadata": {},
     "inputWidgets": {},
     "nuid": "4b275fe8-875b-42cc-9226-8968e3a7f42f",
     "showTitle": false,
     "title": ""
    }
   },
   "source": [
    "**convert string to timestamp by cast()**"
   ]
  },
  {
   "cell_type": "code",
   "execution_count": 0,
   "metadata": {
    "application/vnd.databricks.v1+cell": {
     "cellMetadata": {
      "byteLimit": 2048000,
      "rowLimit": 10000
     },
     "inputWidgets": {},
     "nuid": "e52fb868-16a7-4604-9732-2685fd590428",
     "showTitle": false,
     "title": ""
    }
   },
   "outputs": [
    {
     "output_type": "display_data",
     "data": {
      "text/html": [
       "<style scoped>\n",
       "  .table-result-container {\n",
       "    max-height: 300px;\n",
       "    overflow: auto;\n",
       "  }\n",
       "  table, th, td {\n",
       "    border: 1px solid black;\n",
       "    border-collapse: collapse;\n",
       "  }\n",
       "  th, td {\n",
       "    padding: 5px;\n",
       "  }\n",
       "  th {\n",
       "    text-align: left;\n",
       "  }\n",
       "</style><div class='table-result-container'><table class='table-result'><thead style='background-color: white'><tr><th>time_zone</th></tr></thead><tbody><tr><td>2024-01-15T07:17:37Z</td></tr><tr><td>2024-01-16T10:28:33Z</td></tr><tr><td>2024-01-15T07:17:21Z</td></tr><tr><td>2024-01-16T10:12:49Z</td></tr><tr><td>2024-01-16T10:36:48Z</td></tr><tr><td>2024-01-16T11:44:29Z</td></tr><tr><td>2024-01-15T07:58:03Z</td></tr><tr><td>2024-01-15T07:16:18Z</td></tr><tr><td>2024-01-16T10:27:13Z</td></tr><tr><td>2024-01-16T10:10:34Z</td></tr><tr><td>2024-01-16T10:39:04Z</td></tr><tr><td>2024-01-20T23:39:04Z</td></tr><tr><td>2024-01-21T07:39:04Z</td></tr><tr><td>2024-01-16T11:44:29Z</td></tr><tr><td>2024-01-15T07:17:21Z</td></tr><tr><td>2024-01-16T10:36:48Z</td></tr></tbody></table></div>"
      ]
     },
     "metadata": {
      "application/vnd.databricks.v1+output": {
       "addedWidgets": {},
       "aggData": [],
       "aggError": "",
       "aggOverflow": false,
       "aggSchema": [],
       "aggSeriesLimitReached": false,
       "aggType": "",
       "arguments": {},
       "columnCustomDisplayInfos": {},
       "data": [
        [
         "2024-01-15T07:17:37Z"
        ],
        [
         "2024-01-16T10:28:33Z"
        ],
        [
         "2024-01-15T07:17:21Z"
        ],
        [
         "2024-01-16T10:12:49Z"
        ],
        [
         "2024-01-16T10:36:48Z"
        ],
        [
         "2024-01-16T11:44:29Z"
        ],
        [
         "2024-01-15T07:58:03Z"
        ],
        [
         "2024-01-15T07:16:18Z"
        ],
        [
         "2024-01-16T10:27:13Z"
        ],
        [
         "2024-01-16T10:10:34Z"
        ],
        [
         "2024-01-16T10:39:04Z"
        ],
        [
         "2024-01-20T23:39:04Z"
        ],
        [
         "2024-01-21T07:39:04Z"
        ],
        [
         "2024-01-16T11:44:29Z"
        ],
        [
         "2024-01-15T07:17:21Z"
        ],
        [
         "2024-01-16T10:36:48Z"
        ]
       ],
       "datasetInfos": [],
       "dbfsResultPath": null,
       "isJsonSchema": true,
       "metadata": {},
       "overflow": false,
       "plotOptions": {
        "customPlotOptions": {},
        "displayType": "table",
        "pivotAggregation": null,
        "pivotColumns": null,
        "xColumns": null,
        "yColumns": null
       },
       "removedWidgets": [],
       "schema": [
        {
         "metadata": "{}",
         "name": "time_zone",
         "type": "\"string\""
        }
       ],
       "type": "table"
      }
     },
     "output_type": "display_data"
    }
   ],
   "source": [
    "# Create a DataFrame from the timestamps list\n",
    "timestamps = [\"2024-01-15T07:17:37Z\", \"2024-01-16T10:28:33Z\", \"2024-01-15T07:17:21Z\", \"2024-01-16T10:12:49Z\",\n",
    "              \"2024-01-16T10:36:48Z\", \"2024-01-16T11:44:29Z\", \"2024-01-15T07:58:03Z\", \"2024-01-15T07:16:18Z\",\n",
    "              \"2024-01-16T10:27:13Z\", \"2024-01-16T10:10:34Z\", \"2024-01-16T10:39:04Z\", \"2024-01-20T23:39:04Z\",\n",
    "              \"2024-01-21T07:39:04Z\", \"2024-01-16T11:44:29Z\", \"2024-01-15T07:17:21Z\", \"2024-01-16T10:36:48Z\"\n",
    "              ]\n",
    "\n",
    "timestamps_df = spark.createDataFrame([(ts,) for ts in timestamps], [\"time_zone\"])\n",
    "display(timestamps_df)"
   ]
  },
  {
   "cell_type": "code",
   "execution_count": 0,
   "metadata": {
    "application/vnd.databricks.v1+cell": {
     "cellMetadata": {
      "byteLimit": 2048000,
      "rowLimit": 10000
     },
     "inputWidgets": {},
     "nuid": "63434387-77d4-4b53-8d08-606ce3f0aaa7",
     "showTitle": false,
     "title": ""
    }
   },
   "outputs": [
    {
     "output_type": "display_data",
     "data": {
      "text/html": [
       "<style scoped>\n",
       "  .table-result-container {\n",
       "    max-height: 300px;\n",
       "    overflow: auto;\n",
       "  }\n",
       "  table, th, td {\n",
       "    border: 1px solid black;\n",
       "    border-collapse: collapse;\n",
       "  }\n",
       "  th, td {\n",
       "    padding: 5px;\n",
       "  }\n",
       "  th {\n",
       "    text-align: left;\n",
       "  }\n",
       "</style><div class='table-result-container'><table class='table-result'><thead style='background-color: white'><tr><th>time_zone</th></tr></thead><tbody><tr><td>2024-01-15T07:17:37Z</td></tr><tr><td>2024-01-16T10:28:33Z</td></tr><tr><td>2024-01-15T07:17:21Z</td></tr><tr><td>2024-01-16T10:12:49Z</td></tr><tr><td>2024-01-16T10:36:48Z</td></tr><tr><td>2024-01-16T11:44:29Z</td></tr><tr><td>2024-01-15T07:58:03Z</td></tr><tr><td>2024-01-15T07:16:18Z</td></tr><tr><td>2024-01-16T10:27:13Z</td></tr><tr><td>2024-01-16T10:10:34Z</td></tr><tr><td>2024-01-16T10:39:04Z</td></tr><tr><td>2024-01-20T23:39:04Z</td></tr><tr><td>2024-01-21T07:39:04Z</td></tr><tr><td>2024-01-16T11:44:29Z</td></tr><tr><td>2024-01-15T07:17:21Z</td></tr><tr><td>2024-01-16T10:36:48Z</td></tr></tbody></table></div>"
      ]
     },
     "metadata": {
      "application/vnd.databricks.v1+output": {
       "addedWidgets": {},
       "aggData": [],
       "aggError": "",
       "aggOverflow": false,
       "aggSchema": [],
       "aggSeriesLimitReached": false,
       "aggType": "",
       "arguments": {},
       "columnCustomDisplayInfos": {},
       "data": [
        [
         "2024-01-15T07:17:37Z"
        ],
        [
         "2024-01-16T10:28:33Z"
        ],
        [
         "2024-01-15T07:17:21Z"
        ],
        [
         "2024-01-16T10:12:49Z"
        ],
        [
         "2024-01-16T10:36:48Z"
        ],
        [
         "2024-01-16T11:44:29Z"
        ],
        [
         "2024-01-15T07:58:03Z"
        ],
        [
         "2024-01-15T07:16:18Z"
        ],
        [
         "2024-01-16T10:27:13Z"
        ],
        [
         "2024-01-16T10:10:34Z"
        ],
        [
         "2024-01-16T10:39:04Z"
        ],
        [
         "2024-01-20T23:39:04Z"
        ],
        [
         "2024-01-21T07:39:04Z"
        ],
        [
         "2024-01-16T11:44:29Z"
        ],
        [
         "2024-01-15T07:17:21Z"
        ],
        [
         "2024-01-16T10:36:48Z"
        ]
       ],
       "datasetInfos": [],
       "dbfsResultPath": null,
       "isJsonSchema": true,
       "metadata": {},
       "overflow": false,
       "plotOptions": {
        "customPlotOptions": {},
        "displayType": "table",
        "pivotAggregation": null,
        "pivotColumns": null,
        "xColumns": null,
        "yColumns": null
       },
       "removedWidgets": [],
       "schema": [
        {
         "metadata": "{}",
         "name": "time_zone",
         "type": "\"timestamp\""
        }
       ],
       "type": "table"
      }
     },
     "output_type": "display_data"
    }
   ],
   "source": [
    "# Convert timestamp string to timestamp type\n",
    "timestamps_df = timestamps_df.withColumn(\"time_zone\", col(\"time_zone\").cast(\"timestamp\"))\n",
    "display(timestamps_df)"
   ]
  },
  {
   "cell_type": "code",
   "execution_count": 0,
   "metadata": {
    "application/vnd.databricks.v1+cell": {
     "cellMetadata": {
      "byteLimit": 2048000,
      "rowLimit": 10000
     },
     "inputWidgets": {},
     "nuid": "a1cd8071-2144-4b5a-bb70-a388f4740aae",
     "showTitle": false,
     "title": ""
    }
   },
   "outputs": [
    {
     "output_type": "display_data",
     "data": {
      "text/html": [
       "<style scoped>\n",
       "  .table-result-container {\n",
       "    max-height: 300px;\n",
       "    overflow: auto;\n",
       "  }\n",
       "  table, th, td {\n",
       "    border: 1px solid black;\n",
       "    border-collapse: collapse;\n",
       "  }\n",
       "  th, td {\n",
       "    padding: 5px;\n",
       "  }\n",
       "  th {\n",
       "    text-align: left;\n",
       "  }\n",
       "</style><div class='table-result-container'><table class='table-result'><thead style='background-color: white'><tr><th>time_zone</th></tr></thead><tbody><tr><td>1705303057</td></tr><tr><td>1705400913</td></tr><tr><td>1705303041</td></tr><tr><td>1705399969</td></tr><tr><td>1705401408</td></tr><tr><td>1705405469</td></tr><tr><td>1705305483</td></tr><tr><td>1705302978</td></tr><tr><td>1705400833</td></tr><tr><td>1705399834</td></tr><tr><td>1705401544</td></tr><tr><td>1705793944</td></tr><tr><td>1705822744</td></tr><tr><td>1705405469</td></tr><tr><td>1705303041</td></tr><tr><td>1705401408</td></tr></tbody></table></div>"
      ]
     },
     "metadata": {
      "application/vnd.databricks.v1+output": {
       "addedWidgets": {},
       "aggData": [],
       "aggError": "",
       "aggOverflow": false,
       "aggSchema": [],
       "aggSeriesLimitReached": false,
       "aggType": "",
       "arguments": {},
       "columnCustomDisplayInfos": {},
       "data": [
        [
         1705303057
        ],
        [
         1705400913
        ],
        [
         1705303041
        ],
        [
         1705399969
        ],
        [
         1705401408
        ],
        [
         1705405469
        ],
        [
         1705305483
        ],
        [
         1705302978
        ],
        [
         1705400833
        ],
        [
         1705399834
        ],
        [
         1705401544
        ],
        [
         1705793944
        ],
        [
         1705822744
        ],
        [
         1705405469
        ],
        [
         1705303041
        ],
        [
         1705401408
        ]
       ],
       "datasetInfos": [],
       "dbfsResultPath": null,
       "isJsonSchema": true,
       "metadata": {},
       "overflow": false,
       "plotOptions": {
        "customPlotOptions": {},
        "displayType": "table",
        "pivotAggregation": null,
        "pivotColumns": null,
        "xColumns": null,
        "yColumns": null
       },
       "removedWidgets": [],
       "schema": [
        {
         "metadata": "{}",
         "name": "time_zone",
         "type": "\"long\""
        }
       ],
       "type": "table"
      }
     },
     "output_type": "display_data"
    }
   ],
   "source": [
    "timestamps_df = timestamps_df.withColumn('time_zone', F.unix_timestamp(F.col('time_zone'), \"yyyy-MM-dd HH:mm:ss\"))\n",
    "display(timestamps_df)"
   ]
  },
  {
   "cell_type": "markdown",
   "metadata": {
    "application/vnd.databricks.v1+cell": {
     "cellMetadata": {},
     "inputWidgets": {},
     "nuid": "b3622ea2-eb32-40c1-ac3d-df1291b680a5",
     "showTitle": false,
     "title": ""
    }
   },
   "source": [
    "**convert string to timestamp by to_timestamp()**"
   ]
  },
  {
   "cell_type": "code",
   "execution_count": 0,
   "metadata": {
    "application/vnd.databricks.v1+cell": {
     "cellMetadata": {
      "byteLimit": 2048000,
      "rowLimit": 10000
     },
     "inputWidgets": {},
     "nuid": "2fb44ef8-5e63-4f26-9947-07b5534a3725",
     "showTitle": false,
     "title": ""
    }
   },
   "outputs": [
    {
     "output_type": "display_data",
     "data": {
      "text/html": [
       "<style scoped>\n",
       "  .table-result-container {\n",
       "    max-height: 300px;\n",
       "    overflow: auto;\n",
       "  }\n",
       "  table, th, td {\n",
       "    border: 1px solid black;\n",
       "    border-collapse: collapse;\n",
       "  }\n",
       "  th, td {\n",
       "    padding: 5px;\n",
       "  }\n",
       "  th {\n",
       "    text-align: left;\n",
       "  }\n",
       "</style><div class='table-result-container'><table class='table-result'><thead style='background-color: white'><tr><th>start_date</th><th>input_timestamp</th><th>update_timestamp</th></tr></thead><tbody><tr><td>2022-08-08</td><td>2022-04-17 17:16:20</td><td>19-04-2022 23:02:32</td></tr><tr><td>2022-04-29</td><td>2022-11-07 04:03:11</td><td>27-07-2022 18:09:39</td></tr><tr><td>2022-08-22</td><td>2022-02-07 09:15:31</td><td>08-11-2022 09:58:34</td></tr><tr><td>2021-12-28</td><td>2022-02-28 02:47:25</td><td>03-01-2022 01:59:22</td></tr><tr><td>2022-02-13</td><td>2022-05-22 11:25:29</td><td>25-02-2022 04:46:47</td></tr></tbody></table></div>"
      ]
     },
     "metadata": {
      "application/vnd.databricks.v1+output": {
       "addedWidgets": {},
       "aggData": [],
       "aggError": "",
       "aggOverflow": false,
       "aggSchema": [],
       "aggSeriesLimitReached": false,
       "aggType": "",
       "arguments": {},
       "columnCustomDisplayInfos": {},
       "data": [
        [
         "2022-08-08",
         "2022-04-17 17:16:20",
         "19-04-2022 23:02:32"
        ],
        [
         "2022-04-29",
         "2022-11-07 04:03:11",
         "27-07-2022 18:09:39"
        ],
        [
         "2022-08-22",
         "2022-02-07 09:15:31",
         "08-11-2022 09:58:34"
        ],
        [
         "2021-12-28",
         "2022-02-28 02:47:25",
         "03-01-2022 01:59:22"
        ],
        [
         "2022-02-13",
         "2022-05-22 11:25:29",
         "25-02-2022 04:46:47"
        ]
       ],
       "datasetInfos": [],
       "dbfsResultPath": null,
       "isJsonSchema": true,
       "metadata": {},
       "overflow": false,
       "plotOptions": {
        "customPlotOptions": {},
        "displayType": "table",
        "pivotAggregation": null,
        "pivotColumns": null,
        "xColumns": null,
        "yColumns": null
       },
       "removedWidgets": [],
       "schema": [
        {
         "metadata": "{}",
         "name": "start_date",
         "type": "\"string\""
        },
        {
         "metadata": "{}",
         "name": "input_timestamp",
         "type": "\"string\""
        },
        {
         "metadata": "{}",
         "name": "update_timestamp",
         "type": "\"string\""
        }
       ],
       "type": "table"
      }
     },
     "output_type": "display_data"
    }
   ],
   "source": [
    "data = [\n",
    "    (\"2022-08-08\",\"2022-04-17 17:16:20\",\"19-04-2022 23:02:32\"),\n",
    "    (\"2022-04-29\",\"2022-11-07 04:03:11\",\"27-07-2022 18:09:39\"),\n",
    "    (\"2022-08-22\",\"2022-02-07 09:15:31\",\"08-11-2022 09:58:34\"),\n",
    "    (\"2021-12-28\",\"2022-02-28 02:47:25\",\"03-01-2022 01:59:22\"),\n",
    "    (\"2022-02-13\",\"2022-05-22 11:25:29\",\"25-02-2022 04:46:47\")\n",
    "    ]\n",
    " \n",
    "df_stt = spark.createDataFrame(data, schema=[\"start_date\",\"input_timestamp\",\"update_timestamp\"])\n",
    "display(df_stt)"
   ]
  },
  {
   "cell_type": "code",
   "execution_count": 0,
   "metadata": {
    "application/vnd.databricks.v1+cell": {
     "cellMetadata": {
      "byteLimit": 2048000,
      "rowLimit": 10000
     },
     "inputWidgets": {},
     "nuid": "6635a983-309c-43f0-aa36-b6228a789acc",
     "showTitle": false,
     "title": ""
    }
   },
   "outputs": [
    {
     "output_type": "display_data",
     "data": {
      "text/html": [
       "<style scoped>\n",
       "  .table-result-container {\n",
       "    max-height: 300px;\n",
       "    overflow: auto;\n",
       "  }\n",
       "  table, th, td {\n",
       "    border: 1px solid black;\n",
       "    border-collapse: collapse;\n",
       "  }\n",
       "  th, td {\n",
       "    padding: 5px;\n",
       "  }\n",
       "  th {\n",
       "    text-align: left;\n",
       "  }\n",
       "</style><div class='table-result-container'><table class='table-result'><thead style='background-color: white'><tr><th>start_date</th><th>input_timestamp</th><th>update_timestamp</th></tr></thead><tbody><tr><td>2022-08-08</td><td>2022-04-17T17:16:20Z</td><td>2022-04-19T23:02:32Z</td></tr><tr><td>2022-04-29</td><td>2022-11-07T04:03:11Z</td><td>2022-07-27T18:09:39Z</td></tr><tr><td>2022-08-22</td><td>2022-02-07T09:15:31Z</td><td>2022-11-08T09:58:34Z</td></tr><tr><td>2021-12-28</td><td>2022-02-28T02:47:25Z</td><td>2022-01-03T01:59:22Z</td></tr><tr><td>2022-02-13</td><td>2022-05-22T11:25:29Z</td><td>2022-02-25T04:46:47Z</td></tr></tbody></table></div>"
      ]
     },
     "metadata": {
      "application/vnd.databricks.v1+output": {
       "addedWidgets": {},
       "aggData": [],
       "aggError": "",
       "aggOverflow": false,
       "aggSchema": [],
       "aggSeriesLimitReached": false,
       "aggType": "",
       "arguments": {},
       "columnCustomDisplayInfos": {},
       "data": [
        [
         "2022-08-08",
         "2022-04-17T17:16:20Z",
         "2022-04-19T23:02:32Z"
        ],
        [
         "2022-04-29",
         "2022-11-07T04:03:11Z",
         "2022-07-27T18:09:39Z"
        ],
        [
         "2022-08-22",
         "2022-02-07T09:15:31Z",
         "2022-11-08T09:58:34Z"
        ],
        [
         "2021-12-28",
         "2022-02-28T02:47:25Z",
         "2022-01-03T01:59:22Z"
        ],
        [
         "2022-02-13",
         "2022-05-22T11:25:29Z",
         "2022-02-25T04:46:47Z"
        ]
       ],
       "datasetInfos": [],
       "dbfsResultPath": null,
       "isJsonSchema": true,
       "metadata": {},
       "overflow": false,
       "plotOptions": {
        "customPlotOptions": {},
        "displayType": "table",
        "pivotAggregation": null,
        "pivotColumns": null,
        "xColumns": null,
        "yColumns": null
       },
       "removedWidgets": [],
       "schema": [
        {
         "metadata": "{}",
         "name": "start_date",
         "type": "\"string\""
        },
        {
         "metadata": "{}",
         "name": "input_timestamp",
         "type": "\"timestamp\""
        },
        {
         "metadata": "{}",
         "name": "update_timestamp",
         "type": "\"timestamp\""
        }
       ],
       "type": "table"
      }
     },
     "output_type": "display_data"
    }
   ],
   "source": [
    "from pyspark.sql.functions import to_timestamp\n",
    "df_stt = df_stt.withColumn(\"input_timestamp\", to_timestamp(\"input_timestamp\", 'yyyy-MM-dd HH:mm:ss'))\\\n",
    "               .withColumn(\"update_timestamp\", to_timestamp(\"update_timestamp\", 'dd-MM-yyyy HH:mm:ss'))\n",
    "display(df_stt)"
   ]
  },
  {
   "cell_type": "code",
   "execution_count": 0,
   "metadata": {
    "application/vnd.databricks.v1+cell": {
     "cellMetadata": {
      "byteLimit": 2048000,
      "rowLimit": 10000
     },
     "inputWidgets": {},
     "nuid": "abc6830b-c963-4e1f-bb4d-3bb6d741c172",
     "showTitle": false,
     "title": ""
    }
   },
   "outputs": [
    {
     "output_type": "display_data",
     "data": {
      "text/html": [
       "<style scoped>\n",
       "  .table-result-container {\n",
       "    max-height: 300px;\n",
       "    overflow: auto;\n",
       "  }\n",
       "  table, th, td {\n",
       "    border: 1px solid black;\n",
       "    border-collapse: collapse;\n",
       "  }\n",
       "  th, td {\n",
       "    padding: 5px;\n",
       "  }\n",
       "  th {\n",
       "    text-align: left;\n",
       "  }\n",
       "</style><div class='table-result-container'><table class='table-result'><thead style='background-color: white'><tr><th>start_date</th><th>input_timestamp</th><th>update_timestamp</th></tr></thead><tbody><tr><td>1659916800</td><td>1650215780</td><td>1650409352</td></tr><tr><td>1651190400</td><td>1667793791</td><td>1658945379</td></tr><tr><td>1661126400</td><td>1644225331</td><td>1667901514</td></tr><tr><td>1640649600</td><td>1646016445</td><td>1641175162</td></tr><tr><td>1644710400</td><td>1653218729</td><td>1645764407</td></tr></tbody></table></div>"
      ]
     },
     "metadata": {
      "application/vnd.databricks.v1+output": {
       "addedWidgets": {},
       "aggData": [],
       "aggError": "",
       "aggOverflow": false,
       "aggSchema": [],
       "aggSeriesLimitReached": false,
       "aggType": "",
       "arguments": {},
       "columnCustomDisplayInfos": {},
       "data": [
        [
         1659916800,
         1650215780,
         1650409352
        ],
        [
         1651190400,
         1667793791,
         1658945379
        ],
        [
         1661126400,
         1644225331,
         1667901514
        ],
        [
         1640649600,
         1646016445,
         1641175162
        ],
        [
         1644710400,
         1653218729,
         1645764407
        ]
       ],
       "datasetInfos": [],
       "dbfsResultPath": null,
       "isJsonSchema": true,
       "metadata": {},
       "overflow": false,
       "plotOptions": {
        "customPlotOptions": {},
        "displayType": "table",
        "pivotAggregation": null,
        "pivotColumns": null,
        "xColumns": null,
        "yColumns": null
       },
       "removedWidgets": [],
       "schema": [
        {
         "metadata": "{}",
         "name": "start_date",
         "type": "\"long\""
        },
        {
         "metadata": "{}",
         "name": "input_timestamp",
         "type": "\"long\""
        },
        {
         "metadata": "{}",
         "name": "update_timestamp",
         "type": "\"long\""
        }
       ],
       "type": "table"
      }
     },
     "output_type": "display_data"
    }
   ],
   "source": [
    "df_stt = df_stt.withColumn('start_date', F.unix_timestamp(F.col('start_date'), \"yyyy-MM-dd\"))\\\n",
    "               .withColumn('input_timestamp', F.unix_timestamp(F.col('input_timestamp'), \"yyyy-MM-dd HH:mm:ss\"))\\\n",
    "               .withColumn('update_timestamp', F.unix_timestamp(F.col('update_timestamp'), \"yyyy-MM-dd HH:mm:ss\"))\n",
    "display(df_stt)"
   ]
  }
 ],
 "metadata": {
  "application/vnd.databricks.v1+notebook": {
   "dashboards": [],
   "environmentMetadata": null,
   "language": "python",
   "notebookMetadata": {
    "mostRecentlyExecutedCommandWithImplicitDF": {
     "commandId": 2856297645671165,
     "dataframes": [
      "_sqldf"
     ]
    },
    "pythonIndentUnit": 4
   },
   "notebookName": "24_How to convert date-string-timestamp to epoch seconds using unix_timestamp",
   "widgets": {}
  }
 },
 "nbformat": 4,
 "nbformat_minor": 0
}
