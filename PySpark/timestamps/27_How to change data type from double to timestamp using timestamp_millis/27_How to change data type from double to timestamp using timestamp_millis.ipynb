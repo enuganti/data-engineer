{
 "cells": [
  {
   "cell_type": "markdown",
   "metadata": {
    "application/vnd.databricks.v1+cell": {
     "cellMetadata": {},
     "inputWidgets": {},
     "nuid": "0602cfad-d044-437d-a42a-1be38bffd020",
     "showTitle": false,
     "tableResultSettingsMap": {},
     "title": ""
    }
   },
   "source": [
    "#### **How to change data type from double to timestamp using timestamp_millis?**"
   ]
  },
  {
   "cell_type": "markdown",
   "metadata": {
    "application/vnd.databricks.v1+cell": {
     "cellMetadata": {},
     "inputWidgets": {},
     "nuid": "f8a601f0-a816-48d5-bb62-2f0c40de4564",
     "showTitle": false,
     "tableResultSettingsMap": {},
     "title": ""
    }
   },
   "source": [
    "**timestamp_millis()**\n",
    "\n",
    "- This function is useful when you have **timestamps** represented as **long integers** in **milliseconds** and you need to convert them into a **human-readable timestamp format** for further processing or analysis.\n",
    "\n",
    "- For example, if you have the timestamp value **1230219000123** in **milliseconds**, using **timestamp_millis(1230219000123)** will convert this value to the **TIMESTAMP 2008-12-25 07:30:00.123**, representing the **date and time** in a readable format."
   ]
  },
  {
   "cell_type": "markdown",
   "metadata": {
    "application/vnd.databricks.v1+cell": {
     "cellMetadata": {},
     "inputWidgets": {},
     "nuid": "0506d3c1-7b53-4fd2-b062-a754f6352308",
     "showTitle": false,
     "tableResultSettingsMap": {},
     "title": ""
    }
   },
   "source": [
    "**Syntax**\n",
    "\n",
    "      timestamp_millis(expr)\n",
    "     \n",
    "**expr:** An integral numeric expression specifying **milliseconds**.\n",
    "\n",
    "**Returns:** TIMESTAMP.\n",
    "\n",
    "      > SELECT timestamp_millis(1230219000123);\n",
    "        2008-12-25 07:30:00.123"
   ]
  },
  {
   "cell_type": "code",
   "execution_count": 0,
   "metadata": {
    "application/vnd.databricks.v1+cell": {
     "cellMetadata": {
      "byteLimit": 2048000,
      "rowLimit": 10000
     },
     "inputWidgets": {},
     "nuid": "06210dff-3dd4-4bd7-8c06-b484ad15628a",
     "showTitle": true,
     "tableResultSettingsMap": {},
     "title": "import required libraries"
    }
   },
   "outputs": [],
   "source": [
    "import pyspark.sql.functions as f\n",
    "from pyspark.sql.functions import col, timestamp_millis"
   ]
  },
  {
   "cell_type": "code",
   "execution_count": 0,
   "metadata": {
    "application/vnd.databricks.v1+cell": {
     "cellMetadata": {
      "byteLimit": 2048000,
      "rowLimit": 10000
     },
     "inputWidgets": {},
     "nuid": "a84dee67-6eef-4a9a-bf5e-7a80fbe14ad0",
     "showTitle": true,
     "tableResultSettingsMap": {},
     "title": "Read Source dataset"
    }
   },
   "outputs": [
    {
     "output_type": "display_data",
     "data": {
      "text/html": [
       "<style scoped>\n",
       "  .table-result-container {\n",
       "    max-height: 300px;\n",
       "    overflow: auto;\n",
       "  }\n",
       "  table, th, td {\n",
       "    border: 1px solid black;\n",
       "    border-collapse: collapse;\n",
       "  }\n",
       "  th, td {\n",
       "    padding: 5px;\n",
       "  }\n",
       "  th {\n",
       "    text-align: left;\n",
       "  }\n",
       "</style><div class='table-result-container'><table class='table-result'><thead style='background-color: white'><tr><th>Company_Name</th><th>Cust_Id</th><th>Cust_Name</th><th>Category</th><th>Start_Date</th><th>Start_Cust_Date</th><th>End_Date</th><th>Updated_Date</th><th>Cust_Value</th><th>Cust_Type</th><th>Exchange</th><th>Location</th><th>Last_Date_UTC</th><th>Cust_Category</th><th>Index</th></tr></thead><tbody><tr><td>Sony</td><td>20</td><td>Naresh</td><td>Standard</td><td>3-Feb-23</td><td>1.73E12</td><td>1.73E12</td><td>1.73E12</td><td>30</td><td>STD</td><td>EUR</td><td>IND</td><td>1.72E12</td><td>SETTL</td><td>true</td></tr><tr><td>Sony</td><td>21</td><td>kamal</td><td>Standard</td><td>6-Feb-23</td><td>1.73E12</td><td>1.73E12</td><td>1.73E12</td><td>25</td><td>STD</td><td>EUR</td><td>IND</td><td>1.72E12</td><td>TOI</td><td>false</td></tr><tr><td>Sony</td><td>22</td><td>kajal</td><td>Standard</td><td>9-Feb-23</td><td>1.73E12</td><td>1.73E12</td><td>1.73E12</td><td>28</td><td>STD</td><td>EUR</td><td>IND</td><td>1.72E12</td><td>TOI</td><td>false</td></tr><tr><td>Sony</td><td>23</td><td>kiran</td><td>Standard</td><td>3-Jan-24</td><td>1.73E12</td><td>1.73E12</td><td>1.73E12</td><td>31</td><td>STD</td><td>EUR</td><td>IND</td><td>1.72E12</td><td>TOI</td><td>false</td></tr><tr><td>Sony</td><td>24</td><td>sam</td><td>Standard</td><td>8-Jan-24</td><td>1.73E12</td><td>1.73E12</td><td>1.73E12</td><td>34</td><td>STD</td><td>EUR</td><td>IND</td><td>1.72E12</td><td>TOI</td><td>false</td></tr><tr><td>Sony</td><td>25</td><td>sourab</td><td>Standard</td><td>9-Jan-24</td><td>1.73E12</td><td>1.74E12</td><td>1.73E12</td><td>37</td><td>STD</td><td>EUR</td><td>IND</td><td>1.72E12</td><td>TOI</td><td>true</td></tr><tr><td>Sony</td><td>26</td><td>jai</td><td>Upper</td><td>3-Mar-23</td><td>1.73E12</td><td>1.74E12</td><td>1.73E12</td><td>40</td><td>STD</td><td>EUR</td><td>IND</td><td>1.72E12</td><td>TOI</td><td>true</td></tr><tr><td>BPL</td><td>27</td><td>sree</td><td>Upper</td><td>6-Mar-23</td><td>1.73E12</td><td>1.73E12</td><td>1.73E12</td><td>43</td><td>STD</td><td>EUR</td><td>IND</td><td>1.72E12</td><td>SETTL</td><td>true</td></tr><tr><td>BPL</td><td>28</td><td>sreenath</td><td>Upper</td><td>9-Mar-23</td><td>1.73E12</td><td>1.74E12</td><td>1.73E12</td><td>46</td><td>STD</td><td>EUR</td><td>IND</td><td>1.72E12</td><td>SETTL</td><td>true</td></tr><tr><td>BPL</td><td>29</td><td>kamaesh</td><td>Upper</td><td>3-Jan-25</td><td>1.74E12</td><td>1.74E12</td><td>1.73E12</td><td>49</td><td>STD</td><td>EUR</td><td>IND</td><td>1.72E12</td><td>SETTL</td><td>false</td></tr></tbody></table></div>"
      ]
     },
     "metadata": {
      "application/vnd.databricks.v1+output": {
       "addedWidgets": {},
       "aggData": [],
       "aggError": "",
       "aggOverflow": false,
       "aggSchema": [],
       "aggSeriesLimitReached": false,
       "aggType": "",
       "arguments": {},
       "columnCustomDisplayInfos": {},
       "data": [
        [
         "Sony",
         20,
         "Naresh",
         "Standard",
         "3-Feb-23",
         1.73E12,
         1.73E12,
         1.73E12,
         30,
         "STD",
         "EUR",
         "IND",
         1.72E12,
         "SETTL",
         true
        ],
        [
         "Sony",
         21,
         "kamal",
         "Standard",
         "6-Feb-23",
         1.73E12,
         1.73E12,
         1.73E12,
         25,
         "STD",
         "EUR",
         "IND",
         1.72E12,
         "TOI",
         false
        ],
        [
         "Sony",
         22,
         "kajal",
         "Standard",
         "9-Feb-23",
         1.73E12,
         1.73E12,
         1.73E12,
         28,
         "STD",
         "EUR",
         "IND",
         1.72E12,
         "TOI",
         false
        ],
        [
         "Sony",
         23,
         "kiran",
         "Standard",
         "3-Jan-24",
         1.73E12,
         1.73E12,
         1.73E12,
         31,
         "STD",
         "EUR",
         "IND",
         1.72E12,
         "TOI",
         false
        ],
        [
         "Sony",
         24,
         "sam",
         "Standard",
         "8-Jan-24",
         1.73E12,
         1.73E12,
         1.73E12,
         34,
         "STD",
         "EUR",
         "IND",
         1.72E12,
         "TOI",
         false
        ],
        [
         "Sony",
         25,
         "sourab",
         "Standard",
         "9-Jan-24",
         1.73E12,
         1.74E12,
         1.73E12,
         37,
         "STD",
         "EUR",
         "IND",
         1.72E12,
         "TOI",
         true
        ],
        [
         "Sony",
         26,
         "jai",
         "Upper",
         "3-Mar-23",
         1.73E12,
         1.74E12,
         1.73E12,
         40,
         "STD",
         "EUR",
         "IND",
         1.72E12,
         "TOI",
         true
        ],
        [
         "BPL",
         27,
         "sree",
         "Upper",
         "6-Mar-23",
         1.73E12,
         1.73E12,
         1.73E12,
         43,
         "STD",
         "EUR",
         "IND",
         1.72E12,
         "SETTL",
         true
        ],
        [
         "BPL",
         28,
         "sreenath",
         "Upper",
         "9-Mar-23",
         1.73E12,
         1.74E12,
         1.73E12,
         46,
         "STD",
         "EUR",
         "IND",
         1.72E12,
         "SETTL",
         true
        ],
        [
         "BPL",
         29,
         "kamaesh",
         "Upper",
         "3-Jan-25",
         1.74E12,
         1.74E12,
         1.73E12,
         49,
         "STD",
         "EUR",
         "IND",
         1.72E12,
         "SETTL",
         false
        ]
       ],
       "datasetInfos": [],
       "dbfsResultPath": null,
       "isJsonSchema": true,
       "metadata": {},
       "overflow": false,
       "plotOptions": {
        "customPlotOptions": {},
        "displayType": "table",
        "pivotAggregation": null,
        "pivotColumns": null,
        "xColumns": null,
        "yColumns": null
       },
       "removedWidgets": [],
       "schema": [
        {
         "metadata": "{}",
         "name": "Company_Name",
         "type": "\"string\""
        },
        {
         "metadata": "{}",
         "name": "Cust_Id",
         "type": "\"integer\""
        },
        {
         "metadata": "{}",
         "name": "Cust_Name",
         "type": "\"string\""
        },
        {
         "metadata": "{}",
         "name": "Category",
         "type": "\"string\""
        },
        {
         "metadata": "{}",
         "name": "Start_Date",
         "type": "\"string\""
        },
        {
         "metadata": "{}",
         "name": "Start_Cust_Date",
         "type": "\"double\""
        },
        {
         "metadata": "{}",
         "name": "End_Date",
         "type": "\"double\""
        },
        {
         "metadata": "{}",
         "name": "Updated_Date",
         "type": "\"double\""
        },
        {
         "metadata": "{}",
         "name": "Cust_Value",
         "type": "\"integer\""
        },
        {
         "metadata": "{}",
         "name": "Cust_Type",
         "type": "\"string\""
        },
        {
         "metadata": "{}",
         "name": "Exchange",
         "type": "\"string\""
        },
        {
         "metadata": "{}",
         "name": "Location",
         "type": "\"string\""
        },
        {
         "metadata": "{}",
         "name": "Last_Date_UTC",
         "type": "\"double\""
        },
        {
         "metadata": "{}",
         "name": "Cust_Category",
         "type": "\"string\""
        },
        {
         "metadata": "{}",
         "name": "Index",
         "type": "\"boolean\""
        }
       ],
       "type": "table"
      }
     },
     "output_type": "display_data"
    }
   ],
   "source": [
    "df = spark.read.csv(\"/FileStore/tables/doubletotimestamp-2.csv\", header=True, inferSchema=True)\n",
    "display(df.limit(10))"
   ]
  },
  {
   "cell_type": "markdown",
   "metadata": {
    "application/vnd.databricks.v1+cell": {
     "cellMetadata": {},
     "inputWidgets": {},
     "nuid": "4b35d903-d24d-42c0-ba8c-4cbfe278682d",
     "showTitle": false,
     "tableResultSettingsMap": {},
     "title": ""
    }
   },
   "source": [
    "     {\n",
    "       \"name\": \"Period_Date\",\n",
    "       \"type\": {\n",
    "         \"type\": \"long\",\n",
    "         \"logicalType\": \"timestamp-micros\"\n",
    "       },\n",
    "       \"doc\": \"Date till which the customer value is applicable\"\n",
    "      }"
   ]
  },
  {
   "cell_type": "code",
   "execution_count": 0,
   "metadata": {
    "application/vnd.databricks.v1+cell": {
     "cellMetadata": {
      "byteLimit": 2048000,
      "rowLimit": 10000
     },
     "inputWidgets": {},
     "nuid": "e007f1fb-67c4-490d-ad9c-06848adf0429",
     "showTitle": true,
     "tableResultSettingsMap": {},
     "title": "convert double to timestamp by timestamp_millis"
    }
   },
   "outputs": [
    {
     "output_type": "display_data",
     "data": {
      "text/plain": [
       "\u001B[0;31m---------------------------------------------------------------------------\u001B[0m\n",
       "\u001B[0;31mAnalysisException\u001B[0m                         Traceback (most recent call last)\n",
       "File \u001B[0;32m<command-42067895739671>, line 3\u001B[0m\n",
       "\u001B[1;32m      1\u001B[0m \u001B[38;5;66;03m# Convert columns from double (milliseconds) to timestamp\u001B[39;00m\n",
       "\u001B[1;32m      2\u001B[0m df_dbl \u001B[38;5;241m=\u001B[39m df\\\n",
       "\u001B[0;32m----> 3\u001B[0m     \u001B[38;5;241m.\u001B[39mwithColumn(\u001B[38;5;124m\"\u001B[39m\u001B[38;5;124mStart_Cust_Date\u001B[39m\u001B[38;5;124m\"\u001B[39m, f\u001B[38;5;241m.\u001B[39mtimestamp_millis(col(\u001B[38;5;124m\"\u001B[39m\u001B[38;5;124mStart_Cust_Date\u001B[39m\u001B[38;5;124m\"\u001B[39m)))\\\n",
       "\u001B[1;32m      4\u001B[0m     \u001B[38;5;241m.\u001B[39mwithColumn(\u001B[38;5;124m\"\u001B[39m\u001B[38;5;124mEnd_Date\u001B[39m\u001B[38;5;124m\"\u001B[39m, f\u001B[38;5;241m.\u001B[39mtimestamp_millis(col(\u001B[38;5;124m\"\u001B[39m\u001B[38;5;124mEnd_Date\u001B[39m\u001B[38;5;124m\"\u001B[39m)))\\\n",
       "\u001B[1;32m      5\u001B[0m     \u001B[38;5;241m.\u001B[39mwithColumn(\u001B[38;5;124m\"\u001B[39m\u001B[38;5;124mUpdated_Date\u001B[39m\u001B[38;5;124m\"\u001B[39m, f\u001B[38;5;241m.\u001B[39mtimestamp_millis(col(\u001B[38;5;124m\"\u001B[39m\u001B[38;5;124mUpdated_Date\u001B[39m\u001B[38;5;124m\"\u001B[39m)))\\\n",
       "\u001B[1;32m      6\u001B[0m     \u001B[38;5;241m.\u001B[39mwithColumn(\u001B[38;5;124m\"\u001B[39m\u001B[38;5;124mLast_Date_UTC\u001B[39m\u001B[38;5;124m\"\u001B[39m, f\u001B[38;5;241m.\u001B[39mtimestamp_millis(col(\u001B[38;5;124m\"\u001B[39m\u001B[38;5;124mLast_Date_UTC\u001B[39m\u001B[38;5;124m\"\u001B[39m)))\n",
       "\u001B[1;32m      7\u001B[0m display(df_dbl)\n",
       "\n",
       "File \u001B[0;32m/databricks/spark/python/pyspark/instrumentation_utils.py:47\u001B[0m, in \u001B[0;36m_wrap_function.<locals>.wrapper\u001B[0;34m(*args, **kwargs)\u001B[0m\n",
       "\u001B[1;32m     45\u001B[0m start \u001B[38;5;241m=\u001B[39m time\u001B[38;5;241m.\u001B[39mperf_counter()\n",
       "\u001B[1;32m     46\u001B[0m \u001B[38;5;28;01mtry\u001B[39;00m:\n",
       "\u001B[0;32m---> 47\u001B[0m     res \u001B[38;5;241m=\u001B[39m func(\u001B[38;5;241m*\u001B[39margs, \u001B[38;5;241m*\u001B[39m\u001B[38;5;241m*\u001B[39mkwargs)\n",
       "\u001B[1;32m     48\u001B[0m     logger\u001B[38;5;241m.\u001B[39mlog_success(\n",
       "\u001B[1;32m     49\u001B[0m         module_name, class_name, function_name, time\u001B[38;5;241m.\u001B[39mperf_counter() \u001B[38;5;241m-\u001B[39m start, signature\n",
       "\u001B[1;32m     50\u001B[0m     )\n",
       "\u001B[1;32m     51\u001B[0m     \u001B[38;5;28;01mreturn\u001B[39;00m res\n",
       "\n",
       "File \u001B[0;32m/databricks/spark/python/pyspark/sql/dataframe.py:6282\u001B[0m, in \u001B[0;36mDataFrame.withColumn\u001B[0;34m(self, colName, col)\u001B[0m\n",
       "\u001B[1;32m   6277\u001B[0m \u001B[38;5;28;01mif\u001B[39;00m \u001B[38;5;129;01mnot\u001B[39;00m \u001B[38;5;28misinstance\u001B[39m(col, Column):\n",
       "\u001B[1;32m   6278\u001B[0m     \u001B[38;5;28;01mraise\u001B[39;00m PySparkTypeError(\n",
       "\u001B[1;32m   6279\u001B[0m         error_class\u001B[38;5;241m=\u001B[39m\u001B[38;5;124m\"\u001B[39m\u001B[38;5;124mNOT_COLUMN\u001B[39m\u001B[38;5;124m\"\u001B[39m,\n",
       "\u001B[1;32m   6280\u001B[0m         message_parameters\u001B[38;5;241m=\u001B[39m{\u001B[38;5;124m\"\u001B[39m\u001B[38;5;124marg_name\u001B[39m\u001B[38;5;124m\"\u001B[39m: \u001B[38;5;124m\"\u001B[39m\u001B[38;5;124mcol\u001B[39m\u001B[38;5;124m\"\u001B[39m, \u001B[38;5;124m\"\u001B[39m\u001B[38;5;124marg_type\u001B[39m\u001B[38;5;124m\"\u001B[39m: \u001B[38;5;28mtype\u001B[39m(col)\u001B[38;5;241m.\u001B[39m\u001B[38;5;18m__name__\u001B[39m},\n",
       "\u001B[1;32m   6281\u001B[0m     )\n",
       "\u001B[0;32m-> 6282\u001B[0m \u001B[38;5;28;01mreturn\u001B[39;00m DataFrame(\u001B[38;5;28mself\u001B[39m\u001B[38;5;241m.\u001B[39m_jdf\u001B[38;5;241m.\u001B[39mwithColumn(colName, col\u001B[38;5;241m.\u001B[39m_jc), \u001B[38;5;28mself\u001B[39m\u001B[38;5;241m.\u001B[39msparkSession)\n",
       "\n",
       "File \u001B[0;32m/databricks/spark/python/lib/py4j-0.10.9.7-src.zip/py4j/java_gateway.py:1355\u001B[0m, in \u001B[0;36mJavaMember.__call__\u001B[0;34m(self, *args)\u001B[0m\n",
       "\u001B[1;32m   1349\u001B[0m command \u001B[38;5;241m=\u001B[39m proto\u001B[38;5;241m.\u001B[39mCALL_COMMAND_NAME \u001B[38;5;241m+\u001B[39m\\\n",
       "\u001B[1;32m   1350\u001B[0m     \u001B[38;5;28mself\u001B[39m\u001B[38;5;241m.\u001B[39mcommand_header \u001B[38;5;241m+\u001B[39m\\\n",
       "\u001B[1;32m   1351\u001B[0m     args_command \u001B[38;5;241m+\u001B[39m\\\n",
       "\u001B[1;32m   1352\u001B[0m     proto\u001B[38;5;241m.\u001B[39mEND_COMMAND_PART\n",
       "\u001B[1;32m   1354\u001B[0m answer \u001B[38;5;241m=\u001B[39m \u001B[38;5;28mself\u001B[39m\u001B[38;5;241m.\u001B[39mgateway_client\u001B[38;5;241m.\u001B[39msend_command(command)\n",
       "\u001B[0;32m-> 1355\u001B[0m return_value \u001B[38;5;241m=\u001B[39m get_return_value(\n",
       "\u001B[1;32m   1356\u001B[0m     answer, \u001B[38;5;28mself\u001B[39m\u001B[38;5;241m.\u001B[39mgateway_client, \u001B[38;5;28mself\u001B[39m\u001B[38;5;241m.\u001B[39mtarget_id, \u001B[38;5;28mself\u001B[39m\u001B[38;5;241m.\u001B[39mname)\n",
       "\u001B[1;32m   1358\u001B[0m \u001B[38;5;28;01mfor\u001B[39;00m temp_arg \u001B[38;5;129;01min\u001B[39;00m temp_args:\n",
       "\u001B[1;32m   1359\u001B[0m     \u001B[38;5;28;01mif\u001B[39;00m \u001B[38;5;28mhasattr\u001B[39m(temp_arg, \u001B[38;5;124m\"\u001B[39m\u001B[38;5;124m_detach\u001B[39m\u001B[38;5;124m\"\u001B[39m):\n",
       "\n",
       "File \u001B[0;32m/databricks/spark/python/pyspark/errors/exceptions/captured.py:261\u001B[0m, in \u001B[0;36mcapture_sql_exception.<locals>.deco\u001B[0;34m(*a, **kw)\u001B[0m\n",
       "\u001B[1;32m    257\u001B[0m converted \u001B[38;5;241m=\u001B[39m convert_exception(e\u001B[38;5;241m.\u001B[39mjava_exception)\n",
       "\u001B[1;32m    258\u001B[0m \u001B[38;5;28;01mif\u001B[39;00m \u001B[38;5;129;01mnot\u001B[39;00m \u001B[38;5;28misinstance\u001B[39m(converted, UnknownException):\n",
       "\u001B[1;32m    259\u001B[0m     \u001B[38;5;66;03m# Hide where the exception came from that shows a non-Pythonic\u001B[39;00m\n",
       "\u001B[1;32m    260\u001B[0m     \u001B[38;5;66;03m# JVM exception message.\u001B[39;00m\n",
       "\u001B[0;32m--> 261\u001B[0m     \u001B[38;5;28;01mraise\u001B[39;00m converted \u001B[38;5;28;01mfrom\u001B[39;00m \u001B[38;5;28;01mNone\u001B[39;00m\n",
       "\u001B[1;32m    262\u001B[0m \u001B[38;5;28;01melse\u001B[39;00m:\n",
       "\u001B[1;32m    263\u001B[0m     \u001B[38;5;28;01mraise\u001B[39;00m\n",
       "\n",
       "\u001B[0;31mAnalysisException\u001B[0m: [DATATYPE_MISMATCH.UNEXPECTED_INPUT_TYPE] Cannot resolve \"timestamp_millis(Start_Cust_Date)\" due to data type mismatch: The first parameter requires the \"INTEGRAL\" type, however \"Start_Cust_Date\" has the type \"DOUBLE\". SQLSTATE: 42K09;\n",
       "'Project [Company_Name#2014, Cust_Id#2015, Cust_Name#2016, Category#2017, Start_Date#2018, timestamp_millis(Start_Cust_Date#2019) AS Start_Cust_Date#2090, End_Date#2020, Updated_Date#2021, Cust_Value#2022, Cust_Type#2023, Exchange#2024, Location#2025, Last_Date_UTC#2026, Cust_Category#2027, Index#2028]\n",
       "+- Relation [Company_Name#2014,Cust_Id#2015,Cust_Name#2016,Category#2017,Start_Date#2018,Start_Cust_Date#2019,End_Date#2020,Updated_Date#2021,Cust_Value#2022,Cust_Type#2023,Exchange#2024,Location#2025,Last_Date_UTC#2026,Cust_Category#2027,Index#2028] csv\n"
      ]
     },
     "metadata": {
      "application/vnd.databricks.v1+output": {
       "addedWidgets": {},
       "arguments": {},
       "datasetInfos": [],
       "jupyterProps": {
        "ename": "AnalysisException",
        "evalue": "[DATATYPE_MISMATCH.UNEXPECTED_INPUT_TYPE] Cannot resolve \"timestamp_millis(Start_Cust_Date)\" due to data type mismatch: The first parameter requires the \"INTEGRAL\" type, however \"Start_Cust_Date\" has the type \"DOUBLE\". SQLSTATE: 42K09;\n'Project [Company_Name#2014, Cust_Id#2015, Cust_Name#2016, Category#2017, Start_Date#2018, timestamp_millis(Start_Cust_Date#2019) AS Start_Cust_Date#2090, End_Date#2020, Updated_Date#2021, Cust_Value#2022, Cust_Type#2023, Exchange#2024, Location#2025, Last_Date_UTC#2026, Cust_Category#2027, Index#2028]\n+- Relation [Company_Name#2014,Cust_Id#2015,Cust_Name#2016,Category#2017,Start_Date#2018,Start_Cust_Date#2019,End_Date#2020,Updated_Date#2021,Cust_Value#2022,Cust_Type#2023,Exchange#2024,Location#2025,Last_Date_UTC#2026,Cust_Category#2027,Index#2028] csv\n"
       },
       "metadata": {
        "errorSummary": "[DATATYPE_MISMATCH.UNEXPECTED_INPUT_TYPE] Cannot resolve \"timestamp_millis(Start_Cust_Date)\" due to data type mismatch: The first parameter requires the \"INTEGRAL\" type, however \"Start_Cust_Date\" has the type \"DOUBLE\". SQLSTATE: 42K09"
       },
       "removedWidgets": [],
       "sqlProps": {
        "errorClass": "DATATYPE_MISMATCH.UNEXPECTED_INPUT_TYPE",
        "pysparkCallSite": null,
        "pysparkFragment": null,
        "sqlState": "42K09",
        "stackTrace": null,
        "startIndex": null,
        "stopIndex": null
       },
       "stackFrames": [
        "\u001B[0;31m---------------------------------------------------------------------------\u001B[0m",
        "\u001B[0;31mAnalysisException\u001B[0m                         Traceback (most recent call last)",
        "File \u001B[0;32m<command-42067895739671>, line 3\u001B[0m\n\u001B[1;32m      1\u001B[0m \u001B[38;5;66;03m# Convert columns from double (milliseconds) to timestamp\u001B[39;00m\n\u001B[1;32m      2\u001B[0m df_dbl \u001B[38;5;241m=\u001B[39m df\\\n\u001B[0;32m----> 3\u001B[0m     \u001B[38;5;241m.\u001B[39mwithColumn(\u001B[38;5;124m\"\u001B[39m\u001B[38;5;124mStart_Cust_Date\u001B[39m\u001B[38;5;124m\"\u001B[39m, f\u001B[38;5;241m.\u001B[39mtimestamp_millis(col(\u001B[38;5;124m\"\u001B[39m\u001B[38;5;124mStart_Cust_Date\u001B[39m\u001B[38;5;124m\"\u001B[39m)))\\\n\u001B[1;32m      4\u001B[0m     \u001B[38;5;241m.\u001B[39mwithColumn(\u001B[38;5;124m\"\u001B[39m\u001B[38;5;124mEnd_Date\u001B[39m\u001B[38;5;124m\"\u001B[39m, f\u001B[38;5;241m.\u001B[39mtimestamp_millis(col(\u001B[38;5;124m\"\u001B[39m\u001B[38;5;124mEnd_Date\u001B[39m\u001B[38;5;124m\"\u001B[39m)))\\\n\u001B[1;32m      5\u001B[0m     \u001B[38;5;241m.\u001B[39mwithColumn(\u001B[38;5;124m\"\u001B[39m\u001B[38;5;124mUpdated_Date\u001B[39m\u001B[38;5;124m\"\u001B[39m, f\u001B[38;5;241m.\u001B[39mtimestamp_millis(col(\u001B[38;5;124m\"\u001B[39m\u001B[38;5;124mUpdated_Date\u001B[39m\u001B[38;5;124m\"\u001B[39m)))\\\n\u001B[1;32m      6\u001B[0m     \u001B[38;5;241m.\u001B[39mwithColumn(\u001B[38;5;124m\"\u001B[39m\u001B[38;5;124mLast_Date_UTC\u001B[39m\u001B[38;5;124m\"\u001B[39m, f\u001B[38;5;241m.\u001B[39mtimestamp_millis(col(\u001B[38;5;124m\"\u001B[39m\u001B[38;5;124mLast_Date_UTC\u001B[39m\u001B[38;5;124m\"\u001B[39m)))\n\u001B[1;32m      7\u001B[0m display(df_dbl)\n",
        "File \u001B[0;32m/databricks/spark/python/pyspark/instrumentation_utils.py:47\u001B[0m, in \u001B[0;36m_wrap_function.<locals>.wrapper\u001B[0;34m(*args, **kwargs)\u001B[0m\n\u001B[1;32m     45\u001B[0m start \u001B[38;5;241m=\u001B[39m time\u001B[38;5;241m.\u001B[39mperf_counter()\n\u001B[1;32m     46\u001B[0m \u001B[38;5;28;01mtry\u001B[39;00m:\n\u001B[0;32m---> 47\u001B[0m     res \u001B[38;5;241m=\u001B[39m func(\u001B[38;5;241m*\u001B[39margs, \u001B[38;5;241m*\u001B[39m\u001B[38;5;241m*\u001B[39mkwargs)\n\u001B[1;32m     48\u001B[0m     logger\u001B[38;5;241m.\u001B[39mlog_success(\n\u001B[1;32m     49\u001B[0m         module_name, class_name, function_name, time\u001B[38;5;241m.\u001B[39mperf_counter() \u001B[38;5;241m-\u001B[39m start, signature\n\u001B[1;32m     50\u001B[0m     )\n\u001B[1;32m     51\u001B[0m     \u001B[38;5;28;01mreturn\u001B[39;00m res\n",
        "File \u001B[0;32m/databricks/spark/python/pyspark/sql/dataframe.py:6282\u001B[0m, in \u001B[0;36mDataFrame.withColumn\u001B[0;34m(self, colName, col)\u001B[0m\n\u001B[1;32m   6277\u001B[0m \u001B[38;5;28;01mif\u001B[39;00m \u001B[38;5;129;01mnot\u001B[39;00m \u001B[38;5;28misinstance\u001B[39m(col, Column):\n\u001B[1;32m   6278\u001B[0m     \u001B[38;5;28;01mraise\u001B[39;00m PySparkTypeError(\n\u001B[1;32m   6279\u001B[0m         error_class\u001B[38;5;241m=\u001B[39m\u001B[38;5;124m\"\u001B[39m\u001B[38;5;124mNOT_COLUMN\u001B[39m\u001B[38;5;124m\"\u001B[39m,\n\u001B[1;32m   6280\u001B[0m         message_parameters\u001B[38;5;241m=\u001B[39m{\u001B[38;5;124m\"\u001B[39m\u001B[38;5;124marg_name\u001B[39m\u001B[38;5;124m\"\u001B[39m: \u001B[38;5;124m\"\u001B[39m\u001B[38;5;124mcol\u001B[39m\u001B[38;5;124m\"\u001B[39m, \u001B[38;5;124m\"\u001B[39m\u001B[38;5;124marg_type\u001B[39m\u001B[38;5;124m\"\u001B[39m: \u001B[38;5;28mtype\u001B[39m(col)\u001B[38;5;241m.\u001B[39m\u001B[38;5;18m__name__\u001B[39m},\n\u001B[1;32m   6281\u001B[0m     )\n\u001B[0;32m-> 6282\u001B[0m \u001B[38;5;28;01mreturn\u001B[39;00m DataFrame(\u001B[38;5;28mself\u001B[39m\u001B[38;5;241m.\u001B[39m_jdf\u001B[38;5;241m.\u001B[39mwithColumn(colName, col\u001B[38;5;241m.\u001B[39m_jc), \u001B[38;5;28mself\u001B[39m\u001B[38;5;241m.\u001B[39msparkSession)\n",
        "File \u001B[0;32m/databricks/spark/python/lib/py4j-0.10.9.7-src.zip/py4j/java_gateway.py:1355\u001B[0m, in \u001B[0;36mJavaMember.__call__\u001B[0;34m(self, *args)\u001B[0m\n\u001B[1;32m   1349\u001B[0m command \u001B[38;5;241m=\u001B[39m proto\u001B[38;5;241m.\u001B[39mCALL_COMMAND_NAME \u001B[38;5;241m+\u001B[39m\\\n\u001B[1;32m   1350\u001B[0m     \u001B[38;5;28mself\u001B[39m\u001B[38;5;241m.\u001B[39mcommand_header \u001B[38;5;241m+\u001B[39m\\\n\u001B[1;32m   1351\u001B[0m     args_command \u001B[38;5;241m+\u001B[39m\\\n\u001B[1;32m   1352\u001B[0m     proto\u001B[38;5;241m.\u001B[39mEND_COMMAND_PART\n\u001B[1;32m   1354\u001B[0m answer \u001B[38;5;241m=\u001B[39m \u001B[38;5;28mself\u001B[39m\u001B[38;5;241m.\u001B[39mgateway_client\u001B[38;5;241m.\u001B[39msend_command(command)\n\u001B[0;32m-> 1355\u001B[0m return_value \u001B[38;5;241m=\u001B[39m get_return_value(\n\u001B[1;32m   1356\u001B[0m     answer, \u001B[38;5;28mself\u001B[39m\u001B[38;5;241m.\u001B[39mgateway_client, \u001B[38;5;28mself\u001B[39m\u001B[38;5;241m.\u001B[39mtarget_id, \u001B[38;5;28mself\u001B[39m\u001B[38;5;241m.\u001B[39mname)\n\u001B[1;32m   1358\u001B[0m \u001B[38;5;28;01mfor\u001B[39;00m temp_arg \u001B[38;5;129;01min\u001B[39;00m temp_args:\n\u001B[1;32m   1359\u001B[0m     \u001B[38;5;28;01mif\u001B[39;00m \u001B[38;5;28mhasattr\u001B[39m(temp_arg, \u001B[38;5;124m\"\u001B[39m\u001B[38;5;124m_detach\u001B[39m\u001B[38;5;124m\"\u001B[39m):\n",
        "File \u001B[0;32m/databricks/spark/python/pyspark/errors/exceptions/captured.py:261\u001B[0m, in \u001B[0;36mcapture_sql_exception.<locals>.deco\u001B[0;34m(*a, **kw)\u001B[0m\n\u001B[1;32m    257\u001B[0m converted \u001B[38;5;241m=\u001B[39m convert_exception(e\u001B[38;5;241m.\u001B[39mjava_exception)\n\u001B[1;32m    258\u001B[0m \u001B[38;5;28;01mif\u001B[39;00m \u001B[38;5;129;01mnot\u001B[39;00m \u001B[38;5;28misinstance\u001B[39m(converted, UnknownException):\n\u001B[1;32m    259\u001B[0m     \u001B[38;5;66;03m# Hide where the exception came from that shows a non-Pythonic\u001B[39;00m\n\u001B[1;32m    260\u001B[0m     \u001B[38;5;66;03m# JVM exception message.\u001B[39;00m\n\u001B[0;32m--> 261\u001B[0m     \u001B[38;5;28;01mraise\u001B[39;00m converted \u001B[38;5;28;01mfrom\u001B[39;00m \u001B[38;5;28;01mNone\u001B[39;00m\n\u001B[1;32m    262\u001B[0m \u001B[38;5;28;01melse\u001B[39;00m:\n\u001B[1;32m    263\u001B[0m     \u001B[38;5;28;01mraise\u001B[39;00m\n",
        "\u001B[0;31mAnalysisException\u001B[0m: [DATATYPE_MISMATCH.UNEXPECTED_INPUT_TYPE] Cannot resolve \"timestamp_millis(Start_Cust_Date)\" due to data type mismatch: The first parameter requires the \"INTEGRAL\" type, however \"Start_Cust_Date\" has the type \"DOUBLE\". SQLSTATE: 42K09;\n'Project [Company_Name#2014, Cust_Id#2015, Cust_Name#2016, Category#2017, Start_Date#2018, timestamp_millis(Start_Cust_Date#2019) AS Start_Cust_Date#2090, End_Date#2020, Updated_Date#2021, Cust_Value#2022, Cust_Type#2023, Exchange#2024, Location#2025, Last_Date_UTC#2026, Cust_Category#2027, Index#2028]\n+- Relation [Company_Name#2014,Cust_Id#2015,Cust_Name#2016,Category#2017,Start_Date#2018,Start_Cust_Date#2019,End_Date#2020,Updated_Date#2021,Cust_Value#2022,Cust_Type#2023,Exchange#2024,Location#2025,Last_Date_UTC#2026,Cust_Category#2027,Index#2028] csv\n"
       ],
       "type": "baseError"
      }
     },
     "output_type": "display_data"
    }
   ],
   "source": [
    "# Convert columns from double (milliseconds) to timestamp using timestamp_millis\n",
    "df_dbl = df\\\n",
    "    .withColumn(\"Start_Cust_Date\", f.timestamp_millis(col(\"Start_Cust_Date\")))\\\n",
    "    .withColumn(\"End_Date\", f.timestamp_millis(col(\"End_Date\")))\\\n",
    "    .withColumn(\"Updated_Date\", f.timestamp_millis(col(\"Updated_Date\")))\\\n",
    "    .withColumn(\"Last_Date_UTC\", f.timestamp_millis(col(\"Last_Date_UTC\")))\n",
    "display(df_dbl)"
   ]
  },
  {
   "cell_type": "code",
   "execution_count": 0,
   "metadata": {
    "application/vnd.databricks.v1+cell": {
     "cellMetadata": {
      "byteLimit": 2048000,
      "rowLimit": 10000
     },
     "inputWidgets": {},
     "nuid": "9e4f34c0-fddc-4270-853c-738ed487114c",
     "showTitle": true,
     "tableResultSettingsMap": {},
     "title": "convert double to timestamp by cast as Long"
    }
   },
   "outputs": [
    {
     "output_type": "display_data",
     "data": {
      "text/html": [
       "<style scoped>\n",
       "  .table-result-container {\n",
       "    max-height: 300px;\n",
       "    overflow: auto;\n",
       "  }\n",
       "  table, th, td {\n",
       "    border: 1px solid black;\n",
       "    border-collapse: collapse;\n",
       "  }\n",
       "  th, td {\n",
       "    padding: 5px;\n",
       "  }\n",
       "  th {\n",
       "    text-align: left;\n",
       "  }\n",
       "</style><div class='table-result-container'><table class='table-result'><thead style='background-color: white'><tr><th>Company_Name</th><th>Cust_Id</th><th>Cust_Name</th><th>Category</th><th>Start_Date</th><th>Start_Cust_Date</th><th>End_Date</th><th>Updated_Date</th><th>Cust_Value</th><th>Cust_Type</th><th>Exchange</th><th>Location</th><th>Last_Date_UTC</th><th>Cust_Category</th><th>Index</th></tr></thead><tbody><tr><td>Sony</td><td>20</td><td>Naresh</td><td>Standard</td><td>3-Feb-23</td><td>2024-10-27T03:33:20Z</td><td>2024-10-27T03:33:20Z</td><td>2024-10-27T03:33:20Z</td><td>30</td><td>STD</td><td>EUR</td><td>IND</td><td>2024-07-03T09:46:40Z</td><td>SETTL</td><td>true</td></tr><tr><td>Sony</td><td>21</td><td>kamal</td><td>Standard</td><td>6-Feb-23</td><td>2024-10-27T03:33:20Z</td><td>2024-10-27T03:33:20Z</td><td>2024-10-27T03:33:20Z</td><td>25</td><td>STD</td><td>EUR</td><td>IND</td><td>2024-07-03T09:46:40Z</td><td>TOI</td><td>false</td></tr><tr><td>Sony</td><td>22</td><td>kajal</td><td>Standard</td><td>9-Feb-23</td><td>2024-10-27T03:33:20Z</td><td>2024-10-27T03:33:20Z</td><td>2024-10-27T03:33:20Z</td><td>28</td><td>STD</td><td>EUR</td><td>IND</td><td>2024-07-03T09:46:40Z</td><td>TOI</td><td>false</td></tr><tr><td>Sony</td><td>23</td><td>kiran</td><td>Standard</td><td>3-Jan-24</td><td>2024-10-27T03:33:20Z</td><td>2024-10-27T03:33:20Z</td><td>2024-10-27T03:33:20Z</td><td>31</td><td>STD</td><td>EUR</td><td>IND</td><td>2024-07-03T09:46:40Z</td><td>TOI</td><td>false</td></tr><tr><td>Sony</td><td>24</td><td>sam</td><td>Standard</td><td>8-Jan-24</td><td>2024-10-27T03:33:20Z</td><td>2024-10-27T03:33:20Z</td><td>2024-10-27T03:33:20Z</td><td>34</td><td>STD</td><td>EUR</td><td>IND</td><td>2024-07-03T09:46:40Z</td><td>TOI</td><td>false</td></tr><tr><td>Sony</td><td>25</td><td>sourab</td><td>Standard</td><td>9-Jan-24</td><td>2024-10-27T03:33:20Z</td><td>2025-02-19T21:20:00Z</td><td>2024-10-27T03:33:20Z</td><td>37</td><td>STD</td><td>EUR</td><td>IND</td><td>2024-07-03T09:46:40Z</td><td>TOI</td><td>true</td></tr><tr><td>Sony</td><td>26</td><td>jai</td><td>Upper</td><td>3-Mar-23</td><td>2024-10-27T03:33:20Z</td><td>2025-02-19T21:20:00Z</td><td>2024-10-27T03:33:20Z</td><td>40</td><td>STD</td><td>EUR</td><td>IND</td><td>2024-07-03T09:46:40Z</td><td>TOI</td><td>true</td></tr><tr><td>BPL</td><td>27</td><td>sree</td><td>Upper</td><td>6-Mar-23</td><td>2024-10-27T03:33:20Z</td><td>2024-10-27T03:33:20Z</td><td>2024-10-27T03:33:20Z</td><td>43</td><td>STD</td><td>EUR</td><td>IND</td><td>2024-07-03T09:46:40Z</td><td>SETTL</td><td>true</td></tr><tr><td>BPL</td><td>28</td><td>sreenath</td><td>Upper</td><td>9-Mar-23</td><td>2024-10-27T03:33:20Z</td><td>2025-02-19T21:20:00Z</td><td>2024-10-27T03:33:20Z</td><td>46</td><td>STD</td><td>EUR</td><td>IND</td><td>2024-07-03T09:46:40Z</td><td>SETTL</td><td>true</td></tr><tr><td>BPL</td><td>29</td><td>kamaesh</td><td>Upper</td><td>3-Jan-25</td><td>2025-02-19T21:20:00Z</td><td>2025-02-19T21:20:00Z</td><td>2024-10-27T03:33:20Z</td><td>49</td><td>STD</td><td>EUR</td><td>IND</td><td>2024-07-03T09:46:40Z</td><td>SETTL</td><td>false</td></tr><tr><td>BPL</td><td>30</td><td>david</td><td>Upper</td><td>6-Jan-25</td><td>2025-02-19T21:20:00Z</td><td>2025-02-19T21:20:00Z</td><td>2024-10-27T03:33:20Z</td><td>52</td><td>STD</td><td>EUR</td><td>IND</td><td>2024-07-03T09:46:40Z</td><td>SETTL</td><td>false</td></tr><tr><td>BPL</td><td>31</td><td>joes</td><td>Upper</td><td>9-Jan-25</td><td>2025-02-19T21:20:00Z</td><td>2025-02-19T21:20:00Z</td><td>2024-10-27T03:33:20Z</td><td>55</td><td>STD</td><td>EUR</td><td>IND</td><td>2024-07-03T09:46:40Z</td><td>SETTL</td><td>false</td></tr><tr><td>BPL</td><td>32</td><td>paul</td><td>Upper</td><td>3-Apr-23</td><td>2025-02-19T21:20:00Z</td><td>2025-02-19T21:20:00Z</td><td>2024-10-27T03:33:20Z</td><td>58</td><td>STD</td><td>EUR</td><td>IND</td><td>2024-07-03T09:46:40Z</td><td>SETTL</td><td>false</td></tr><tr><td>BPL</td><td>33</td><td>sweta</td><td>Upper</td><td>6-Apr-23</td><td>2025-02-19T21:20:00Z</td><td>2025-02-19T21:20:00Z</td><td>2024-10-27T03:33:20Z</td><td>61</td><td>STD</td><td>EUR</td><td>USA</td><td>2024-07-03T09:46:40Z</td><td>SETTL</td><td>false</td></tr><tr><td>Philips</td><td>34</td><td>narendra</td><td>Medium</td><td>11-Apr-23</td><td>2025-02-19T21:20:00Z</td><td>2025-02-19T21:20:00Z</td><td>2024-10-27T03:33:20Z</td><td>64</td><td>STD</td><td>EUR</td><td>USA</td><td>2024-07-03T09:46:40Z</td><td>TOI</td><td>false</td></tr><tr><td>Philips</td><td>35</td><td>ramesh</td><td>Medium</td><td>3-Feb-23</td><td>2025-02-19T21:20:00Z</td><td>2025-02-19T21:20:00Z</td><td>2024-10-27T03:33:20Z</td><td>67</td><td>STD</td><td>EUR</td><td>USA</td><td>2024-07-03T09:46:40Z</td><td>TOI</td><td>false</td></tr><tr><td>Philips</td><td>36</td><td>rakesh</td><td>Medium</td><td>6-Feb-23</td><td>2025-02-19T21:20:00Z</td><td>2025-02-19T21:20:00Z</td><td>2024-10-27T03:33:20Z</td><td>70</td><td>STD</td><td>EUR</td><td>USA</td><td>2024-07-03T09:46:40Z</td><td>TOI</td><td>true</td></tr><tr><td>Philips</td><td>37</td><td>rajesh</td><td>Medium</td><td>9-Feb-23</td><td>2025-02-19T21:20:00Z</td><td>2025-06-15T15:06:40Z</td><td>2024-10-27T03:33:20Z</td><td>73</td><td>STD</td><td>EUR</td><td>USA</td><td>2024-07-03T09:46:40Z</td><td>TOI</td><td>true</td></tr><tr><td>Philips</td><td>38</td><td>mukesh</td><td>Medium</td><td>3-Jan-24</td><td>2025-02-19T21:20:00Z</td><td>2025-06-15T15:06:40Z</td><td>2024-10-27T03:33:20Z</td><td>76</td><td>STD</td><td>EUR</td><td>USA</td><td>2024-07-03T09:46:40Z</td><td>TOI</td><td>true</td></tr><tr><td>Philips</td><td>39</td><td>venkatesh</td><td>Medium</td><td>8-Jan-24</td><td>2025-02-19T21:20:00Z</td><td>2025-02-19T21:20:00Z</td><td>2024-10-27T03:33:20Z</td><td>79</td><td>STD</td><td>EUR</td><td>USA</td><td>2024-07-03T09:46:40Z</td><td>TOI</td><td>true</td></tr><tr><td>Philips</td><td>40</td><td>Naresh</td><td>Medium</td><td>9-Jan-24</td><td>2025-02-19T21:20:00Z</td><td>2025-06-15T15:06:40Z</td><td>2024-10-27T03:33:20Z</td><td>82</td><td>STD</td><td>EUR</td><td>USA</td><td>2024-07-03T09:46:40Z</td><td>TOI</td><td>true</td></tr><tr><td>Philips</td><td>41</td><td>kamal</td><td>Medium</td><td>3-Mar-23</td><td>2025-06-15T15:06:40Z</td><td>2025-06-15T15:06:40Z</td><td>2024-10-27T03:33:20Z</td><td>85</td><td>STD</td><td>EUR</td><td>USA</td><td>2024-07-03T09:46:40Z</td><td>TOI</td><td>false</td></tr><tr><td>Philips</td><td>42</td><td>kajal</td><td>Medium</td><td>6-Mar-23</td><td>2025-06-15T15:06:40Z</td><td>2025-06-15T15:06:40Z</td><td>2024-10-27T03:33:20Z</td><td>88</td><td>STD</td><td>EUR</td><td>USA</td><td>2024-07-03T09:46:40Z</td><td>TOI</td><td>false</td></tr><tr><td>Philips</td><td>43</td><td>joes</td><td>Medium</td><td>9-Mar-23</td><td>2025-06-15T15:06:40Z</td><td>2025-06-15T15:06:40Z</td><td>2024-10-27T03:33:20Z</td><td>91</td><td>STD</td><td>EUR</td><td>USA</td><td>2024-07-03T09:46:40Z</td><td>RTO</td><td>false</td></tr><tr><td>Philips</td><td>44</td><td>paul</td><td>Medium</td><td>3-Jan-25</td><td>2025-06-15T15:06:40Z</td><td>2025-06-15T15:06:40Z</td><td>2024-10-27T03:33:20Z</td><td>94</td><td>STD</td><td>EUR</td><td>USA</td><td>2024-07-03T09:46:40Z</td><td>RTO</td><td>false</td></tr><tr><td>Philips</td><td>45</td><td>sweta</td><td>Medium</td><td>6-Jan-25</td><td>2025-06-15T15:06:40Z</td><td>2025-06-15T15:06:40Z</td><td>2024-10-27T03:33:20Z</td><td>97</td><td>STD</td><td>EUR</td><td>USA</td><td>2024-07-03T09:46:40Z</td><td>RTO</td><td>false</td></tr><tr><td>Philips</td><td>46</td><td>narendra</td><td>Medium</td><td>9-Jan-25</td><td>2025-06-15T15:06:40Z</td><td>2025-06-15T15:06:40Z</td><td>2024-10-27T03:33:20Z</td><td>100</td><td>STD</td><td>EUR</td><td>USA</td><td>2024-07-03T09:46:40Z</td><td>RTO</td><td>true</td></tr><tr><td>Philips</td><td>47</td><td>ramesh</td><td>Medium</td><td>3-Apr-23</td><td>2025-06-15T15:06:40Z</td><td>2025-06-15T15:06:40Z</td><td>2024-10-27T03:33:20Z</td><td>103</td><td>STD</td><td>EUR</td><td>USA</td><td>2024-07-03T09:46:40Z</td><td>RTO</td><td>true</td></tr><tr><td>Philips</td><td>48</td><td>rashi</td><td>Medium</td><td>6-Apr-23</td><td>2025-06-15T15:06:40Z</td><td>2025-06-15T15:06:40Z</td><td>2024-10-27T03:33:20Z</td><td>106</td><td>STD</td><td>EUR</td><td>UK</td><td>2024-07-03T09:46:40Z</td><td>EDA</td><td>true</td></tr><tr><td>BP</td><td>49</td><td>rishab</td><td>Premium</td><td>11-Apr-23</td><td>2025-06-15T15:06:40Z</td><td>2025-10-09T08:53:20Z</td><td>2024-10-27T03:33:20Z</td><td>109</td><td>STD</td><td>EUR</td><td>UK</td><td>2024-07-03T09:46:40Z</td><td>EDA</td><td>true</td></tr><tr><td>BP</td><td>50</td><td>basha</td><td>Premium</td><td>3-Feb-23</td><td>2025-06-15T15:06:40Z</td><td>2025-10-09T08:53:20Z</td><td>2024-10-27T03:33:20Z</td><td>112</td><td>STD</td><td>EUR</td><td>UK</td><td>2024-07-03T09:46:40Z</td><td>TOI</td><td>true</td></tr><tr><td>BP</td><td>51</td><td>kumaran</td><td>Premium</td><td>6-Feb-23</td><td>2025-06-15T15:06:40Z</td><td>2025-06-15T15:06:40Z</td><td>2024-10-27T03:33:20Z</td><td>115</td><td>STD</td><td>EUR</td><td>UK</td><td>2024-07-03T09:46:40Z</td><td>TOI</td><td>true</td></tr><tr><td>BP</td><td>52</td><td>karthik</td><td>Premium</td><td>9-Feb-23</td><td>2025-06-15T15:06:40Z</td><td>2025-10-09T08:53:20Z</td><td>2024-10-27T03:33:20Z</td><td>118</td><td>STD</td><td>EUR</td><td>UK</td><td>2024-07-03T09:46:40Z</td><td>TOI</td><td>true</td></tr><tr><td>BP</td><td>53</td><td>parvesh</td><td>Premium</td><td>3-Jan-24</td><td>2025-10-09T08:53:20Z</td><td>2025-10-09T08:53:20Z</td><td>2024-10-27T03:33:20Z</td><td>121</td><td>STD</td><td>EUR</td><td>UK</td><td>2024-07-03T09:46:40Z</td><td>TOI</td><td>false</td></tr><tr><td>BP</td><td>54</td><td>danush</td><td>Premium</td><td>8-Jan-24</td><td>2025-10-09T08:53:20Z</td><td>2025-10-09T08:53:20Z</td><td>2024-10-27T03:33:20Z</td><td>124</td><td>STD</td><td>EUR</td><td>UK</td><td>2024-07-03T09:46:40Z</td><td>TOI</td><td>false</td></tr><tr><td>BP</td><td>55</td><td>vidish</td><td>Premium</td><td>9-Jan-24</td><td>2025-10-09T08:53:20Z</td><td>2025-10-09T08:53:20Z</td><td>2024-10-27T03:33:20Z</td><td>127</td><td>STD</td><td>EUR</td><td>UK</td><td>2024-07-03T09:46:40Z</td><td>EDA</td><td>false</td></tr><tr><td>BP</td><td>56</td><td>sam</td><td>Premium</td><td>3-Mar-23</td><td>2025-10-09T08:53:20Z</td><td>2025-10-09T08:53:20Z</td><td>2024-10-27T03:33:20Z</td><td>130</td><td>STD</td><td>EUR</td><td>UK</td><td>2024-07-03T09:46:40Z</td><td>EDA</td><td>false</td></tr><tr><td>BP</td><td>57</td><td>sourab</td><td>Premium</td><td>6-Mar-23</td><td>2025-10-09T08:53:20Z</td><td>2025-10-09T08:53:20Z</td><td>2024-10-27T03:33:20Z</td><td>133</td><td>STD</td><td>EUR</td><td>UK</td><td>2024-07-03T09:46:40Z</td><td>EDA</td><td>false</td></tr><tr><td>BP</td><td>58</td><td>jai</td><td>Premium</td><td>9-Mar-23</td><td>2025-10-09T08:53:20Z</td><td>2025-10-09T08:53:20Z</td><td>2024-10-27T03:33:20Z</td><td>136</td><td>STD</td><td>EUR</td><td>UK</td><td>2024-07-03T09:46:40Z</td><td>EDA</td><td>true</td></tr><tr><td>Reliance</td><td>59</td><td>sree</td><td>Lower</td><td>3-Jan-25</td><td>2025-10-09T08:53:20Z</td><td>2025-10-09T08:53:20Z</td><td>2024-10-27T03:33:20Z</td><td>139</td><td>STD</td><td>EUR</td><td>UK</td><td>2024-07-03T09:46:40Z</td><td>TOI</td><td>true</td></tr><tr><td>Reliance</td><td>60</td><td>sreenath</td><td>Lower</td><td>6-Jan-25</td><td>2025-10-09T08:53:20Z</td><td>2025-10-09T08:53:20Z</td><td>2024-10-27T03:33:20Z</td><td>142</td><td>STD</td><td>EUR</td><td>UK</td><td>2024-07-03T09:46:40Z</td><td>TOI</td><td>true</td></tr><tr><td>Reliance</td><td>61</td><td>Naresh</td><td>Lower</td><td>9-Jan-25</td><td>2025-10-09T08:53:20Z</td><td>2026-02-02T02:40:00Z</td><td>2024-10-27T03:33:20Z</td><td>145</td><td>STD</td><td>EUR</td><td>UK</td><td>2024-07-03T09:46:40Z</td><td>TOI</td><td>true</td></tr><tr><td>Reliance</td><td>62</td><td>kamal</td><td>Lower</td><td>3-Apr-23</td><td>2025-10-09T08:53:20Z</td><td>2026-02-02T02:40:00Z</td><td>2024-10-27T03:33:20Z</td><td>148</td><td>STD</td><td>EUR</td><td>UK</td><td>2024-07-03T09:46:40Z</td><td>SETTL</td><td>true</td></tr><tr><td>Reliance</td><td>63</td><td>kajal</td><td>Lower</td><td>6-Apr-23</td><td>2025-10-09T08:53:20Z</td><td>2025-10-09T08:53:20Z</td><td>2024-10-27T03:33:20Z</td><td>151</td><td>STD</td><td>EUR</td><td>UK</td><td>2024-07-03T09:46:40Z</td><td>SETTL</td><td>true</td></tr><tr><td>Reliance</td><td>64</td><td>paul</td><td>Lower</td><td>11-Apr-23</td><td>2025-10-09T08:53:20Z</td><td>2026-02-02T02:40:00Z</td><td>2024-10-27T03:33:20Z</td><td>154</td><td>STD</td><td>EUR</td><td>SL</td><td>2024-07-03T09:46:40Z</td><td>SETTL</td><td>true</td></tr><tr><td>Reliance</td><td>65</td><td>sweta</td><td>Lower</td><td>3-Feb-23</td><td>2024-03-09T16:00:00Z</td><td>2024-07-03T09:46:40Z</td><td>2024-10-27T03:33:20Z</td><td>157</td><td>STD</td><td>EUR</td><td>SL</td><td>2024-07-03T09:46:40Z</td><td>SETTL</td><td>true</td></tr><tr><td>Reliance</td><td>66</td><td>narendra</td><td>Lower</td><td>6-Feb-23</td><td>2024-03-09T16:00:00Z</td><td>2024-07-03T09:46:40Z</td><td>2024-10-27T03:33:20Z</td><td>160</td><td>STD</td><td>EUR</td><td>SL</td><td>2024-07-03T09:46:40Z</td><td>SETTL</td><td>false</td></tr><tr><td>Reliance</td><td>67</td><td>ramesh</td><td>Lower</td><td>9-Feb-23</td><td>2024-03-09T16:00:00Z</td><td>2024-07-03T09:46:40Z</td><td>2024-10-27T03:33:20Z</td><td>163</td><td>STD</td><td>EUR</td><td>SL</td><td>2024-07-03T09:46:40Z</td><td>SETTL</td><td>false</td></tr><tr><td>Reliance</td><td>68</td><td>kalmesh</td><td>Lower</td><td>3-Jan-24</td><td>2024-07-03T09:46:40Z</td><td>2024-10-27T03:33:20Z</td><td>2024-10-27T03:33:20Z</td><td>166</td><td>STD</td><td>EUR</td><td>SL</td><td>2024-07-03T09:46:40Z</td><td>SETTL</td><td>false</td></tr></tbody></table></div>"
      ]
     },
     "metadata": {
      "application/vnd.databricks.v1+output": {
       "addedWidgets": {},
       "aggData": [],
       "aggError": "",
       "aggOverflow": false,
       "aggSchema": [],
       "aggSeriesLimitReached": false,
       "aggType": "",
       "arguments": {},
       "columnCustomDisplayInfos": {},
       "data": [
        [
         "Sony",
         20,
         "Naresh",
         "Standard",
         "3-Feb-23",
         "2024-10-27T03:33:20Z",
         "2024-10-27T03:33:20Z",
         "2024-10-27T03:33:20Z",
         30,
         "STD",
         "EUR",
         "IND",
         "2024-07-03T09:46:40Z",
         "SETTL",
         true
        ],
        [
         "Sony",
         21,
         "kamal",
         "Standard",
         "6-Feb-23",
         "2024-10-27T03:33:20Z",
         "2024-10-27T03:33:20Z",
         "2024-10-27T03:33:20Z",
         25,
         "STD",
         "EUR",
         "IND",
         "2024-07-03T09:46:40Z",
         "TOI",
         false
        ],
        [
         "Sony",
         22,
         "kajal",
         "Standard",
         "9-Feb-23",
         "2024-10-27T03:33:20Z",
         "2024-10-27T03:33:20Z",
         "2024-10-27T03:33:20Z",
         28,
         "STD",
         "EUR",
         "IND",
         "2024-07-03T09:46:40Z",
         "TOI",
         false
        ],
        [
         "Sony",
         23,
         "kiran",
         "Standard",
         "3-Jan-24",
         "2024-10-27T03:33:20Z",
         "2024-10-27T03:33:20Z",
         "2024-10-27T03:33:20Z",
         31,
         "STD",
         "EUR",
         "IND",
         "2024-07-03T09:46:40Z",
         "TOI",
         false
        ],
        [
         "Sony",
         24,
         "sam",
         "Standard",
         "8-Jan-24",
         "2024-10-27T03:33:20Z",
         "2024-10-27T03:33:20Z",
         "2024-10-27T03:33:20Z",
         34,
         "STD",
         "EUR",
         "IND",
         "2024-07-03T09:46:40Z",
         "TOI",
         false
        ],
        [
         "Sony",
         25,
         "sourab",
         "Standard",
         "9-Jan-24",
         "2024-10-27T03:33:20Z",
         "2025-02-19T21:20:00Z",
         "2024-10-27T03:33:20Z",
         37,
         "STD",
         "EUR",
         "IND",
         "2024-07-03T09:46:40Z",
         "TOI",
         true
        ],
        [
         "Sony",
         26,
         "jai",
         "Upper",
         "3-Mar-23",
         "2024-10-27T03:33:20Z",
         "2025-02-19T21:20:00Z",
         "2024-10-27T03:33:20Z",
         40,
         "STD",
         "EUR",
         "IND",
         "2024-07-03T09:46:40Z",
         "TOI",
         true
        ],
        [
         "BPL",
         27,
         "sree",
         "Upper",
         "6-Mar-23",
         "2024-10-27T03:33:20Z",
         "2024-10-27T03:33:20Z",
         "2024-10-27T03:33:20Z",
         43,
         "STD",
         "EUR",
         "IND",
         "2024-07-03T09:46:40Z",
         "SETTL",
         true
        ],
        [
         "BPL",
         28,
         "sreenath",
         "Upper",
         "9-Mar-23",
         "2024-10-27T03:33:20Z",
         "2025-02-19T21:20:00Z",
         "2024-10-27T03:33:20Z",
         46,
         "STD",
         "EUR",
         "IND",
         "2024-07-03T09:46:40Z",
         "SETTL",
         true
        ],
        [
         "BPL",
         29,
         "kamaesh",
         "Upper",
         "3-Jan-25",
         "2025-02-19T21:20:00Z",
         "2025-02-19T21:20:00Z",
         "2024-10-27T03:33:20Z",
         49,
         "STD",
         "EUR",
         "IND",
         "2024-07-03T09:46:40Z",
         "SETTL",
         false
        ],
        [
         "BPL",
         30,
         "david",
         "Upper",
         "6-Jan-25",
         "2025-02-19T21:20:00Z",
         "2025-02-19T21:20:00Z",
         "2024-10-27T03:33:20Z",
         52,
         "STD",
         "EUR",
         "IND",
         "2024-07-03T09:46:40Z",
         "SETTL",
         false
        ],
        [
         "BPL",
         31,
         "joes",
         "Upper",
         "9-Jan-25",
         "2025-02-19T21:20:00Z",
         "2025-02-19T21:20:00Z",
         "2024-10-27T03:33:20Z",
         55,
         "STD",
         "EUR",
         "IND",
         "2024-07-03T09:46:40Z",
         "SETTL",
         false
        ],
        [
         "BPL",
         32,
         "paul",
         "Upper",
         "3-Apr-23",
         "2025-02-19T21:20:00Z",
         "2025-02-19T21:20:00Z",
         "2024-10-27T03:33:20Z",
         58,
         "STD",
         "EUR",
         "IND",
         "2024-07-03T09:46:40Z",
         "SETTL",
         false
        ],
        [
         "BPL",
         33,
         "sweta",
         "Upper",
         "6-Apr-23",
         "2025-02-19T21:20:00Z",
         "2025-02-19T21:20:00Z",
         "2024-10-27T03:33:20Z",
         61,
         "STD",
         "EUR",
         "USA",
         "2024-07-03T09:46:40Z",
         "SETTL",
         false
        ],
        [
         "Philips",
         34,
         "narendra",
         "Medium",
         "11-Apr-23",
         "2025-02-19T21:20:00Z",
         "2025-02-19T21:20:00Z",
         "2024-10-27T03:33:20Z",
         64,
         "STD",
         "EUR",
         "USA",
         "2024-07-03T09:46:40Z",
         "TOI",
         false
        ],
        [
         "Philips",
         35,
         "ramesh",
         "Medium",
         "3-Feb-23",
         "2025-02-19T21:20:00Z",
         "2025-02-19T21:20:00Z",
         "2024-10-27T03:33:20Z",
         67,
         "STD",
         "EUR",
         "USA",
         "2024-07-03T09:46:40Z",
         "TOI",
         false
        ],
        [
         "Philips",
         36,
         "rakesh",
         "Medium",
         "6-Feb-23",
         "2025-02-19T21:20:00Z",
         "2025-02-19T21:20:00Z",
         "2024-10-27T03:33:20Z",
         70,
         "STD",
         "EUR",
         "USA",
         "2024-07-03T09:46:40Z",
         "TOI",
         true
        ],
        [
         "Philips",
         37,
         "rajesh",
         "Medium",
         "9-Feb-23",
         "2025-02-19T21:20:00Z",
         "2025-06-15T15:06:40Z",
         "2024-10-27T03:33:20Z",
         73,
         "STD",
         "EUR",
         "USA",
         "2024-07-03T09:46:40Z",
         "TOI",
         true
        ],
        [
         "Philips",
         38,
         "mukesh",
         "Medium",
         "3-Jan-24",
         "2025-02-19T21:20:00Z",
         "2025-06-15T15:06:40Z",
         "2024-10-27T03:33:20Z",
         76,
         "STD",
         "EUR",
         "USA",
         "2024-07-03T09:46:40Z",
         "TOI",
         true
        ],
        [
         "Philips",
         39,
         "venkatesh",
         "Medium",
         "8-Jan-24",
         "2025-02-19T21:20:00Z",
         "2025-02-19T21:20:00Z",
         "2024-10-27T03:33:20Z",
         79,
         "STD",
         "EUR",
         "USA",
         "2024-07-03T09:46:40Z",
         "TOI",
         true
        ],
        [
         "Philips",
         40,
         "Naresh",
         "Medium",
         "9-Jan-24",
         "2025-02-19T21:20:00Z",
         "2025-06-15T15:06:40Z",
         "2024-10-27T03:33:20Z",
         82,
         "STD",
         "EUR",
         "USA",
         "2024-07-03T09:46:40Z",
         "TOI",
         true
        ],
        [
         "Philips",
         41,
         "kamal",
         "Medium",
         "3-Mar-23",
         "2025-06-15T15:06:40Z",
         "2025-06-15T15:06:40Z",
         "2024-10-27T03:33:20Z",
         85,
         "STD",
         "EUR",
         "USA",
         "2024-07-03T09:46:40Z",
         "TOI",
         false
        ],
        [
         "Philips",
         42,
         "kajal",
         "Medium",
         "6-Mar-23",
         "2025-06-15T15:06:40Z",
         "2025-06-15T15:06:40Z",
         "2024-10-27T03:33:20Z",
         88,
         "STD",
         "EUR",
         "USA",
         "2024-07-03T09:46:40Z",
         "TOI",
         false
        ],
        [
         "Philips",
         43,
         "joes",
         "Medium",
         "9-Mar-23",
         "2025-06-15T15:06:40Z",
         "2025-06-15T15:06:40Z",
         "2024-10-27T03:33:20Z",
         91,
         "STD",
         "EUR",
         "USA",
         "2024-07-03T09:46:40Z",
         "RTO",
         false
        ],
        [
         "Philips",
         44,
         "paul",
         "Medium",
         "3-Jan-25",
         "2025-06-15T15:06:40Z",
         "2025-06-15T15:06:40Z",
         "2024-10-27T03:33:20Z",
         94,
         "STD",
         "EUR",
         "USA",
         "2024-07-03T09:46:40Z",
         "RTO",
         false
        ],
        [
         "Philips",
         45,
         "sweta",
         "Medium",
         "6-Jan-25",
         "2025-06-15T15:06:40Z",
         "2025-06-15T15:06:40Z",
         "2024-10-27T03:33:20Z",
         97,
         "STD",
         "EUR",
         "USA",
         "2024-07-03T09:46:40Z",
         "RTO",
         false
        ],
        [
         "Philips",
         46,
         "narendra",
         "Medium",
         "9-Jan-25",
         "2025-06-15T15:06:40Z",
         "2025-06-15T15:06:40Z",
         "2024-10-27T03:33:20Z",
         100,
         "STD",
         "EUR",
         "USA",
         "2024-07-03T09:46:40Z",
         "RTO",
         true
        ],
        [
         "Philips",
         47,
         "ramesh",
         "Medium",
         "3-Apr-23",
         "2025-06-15T15:06:40Z",
         "2025-06-15T15:06:40Z",
         "2024-10-27T03:33:20Z",
         103,
         "STD",
         "EUR",
         "USA",
         "2024-07-03T09:46:40Z",
         "RTO",
         true
        ],
        [
         "Philips",
         48,
         "rashi",
         "Medium",
         "6-Apr-23",
         "2025-06-15T15:06:40Z",
         "2025-06-15T15:06:40Z",
         "2024-10-27T03:33:20Z",
         106,
         "STD",
         "EUR",
         "UK",
         "2024-07-03T09:46:40Z",
         "EDA",
         true
        ],
        [
         "BP",
         49,
         "rishab",
         "Premium",
         "11-Apr-23",
         "2025-06-15T15:06:40Z",
         "2025-10-09T08:53:20Z",
         "2024-10-27T03:33:20Z",
         109,
         "STD",
         "EUR",
         "UK",
         "2024-07-03T09:46:40Z",
         "EDA",
         true
        ],
        [
         "BP",
         50,
         "basha",
         "Premium",
         "3-Feb-23",
         "2025-06-15T15:06:40Z",
         "2025-10-09T08:53:20Z",
         "2024-10-27T03:33:20Z",
         112,
         "STD",
         "EUR",
         "UK",
         "2024-07-03T09:46:40Z",
         "TOI",
         true
        ],
        [
         "BP",
         51,
         "kumaran",
         "Premium",
         "6-Feb-23",
         "2025-06-15T15:06:40Z",
         "2025-06-15T15:06:40Z",
         "2024-10-27T03:33:20Z",
         115,
         "STD",
         "EUR",
         "UK",
         "2024-07-03T09:46:40Z",
         "TOI",
         true
        ],
        [
         "BP",
         52,
         "karthik",
         "Premium",
         "9-Feb-23",
         "2025-06-15T15:06:40Z",
         "2025-10-09T08:53:20Z",
         "2024-10-27T03:33:20Z",
         118,
         "STD",
         "EUR",
         "UK",
         "2024-07-03T09:46:40Z",
         "TOI",
         true
        ],
        [
         "BP",
         53,
         "parvesh",
         "Premium",
         "3-Jan-24",
         "2025-10-09T08:53:20Z",
         "2025-10-09T08:53:20Z",
         "2024-10-27T03:33:20Z",
         121,
         "STD",
         "EUR",
         "UK",
         "2024-07-03T09:46:40Z",
         "TOI",
         false
        ],
        [
         "BP",
         54,
         "danush",
         "Premium",
         "8-Jan-24",
         "2025-10-09T08:53:20Z",
         "2025-10-09T08:53:20Z",
         "2024-10-27T03:33:20Z",
         124,
         "STD",
         "EUR",
         "UK",
         "2024-07-03T09:46:40Z",
         "TOI",
         false
        ],
        [
         "BP",
         55,
         "vidish",
         "Premium",
         "9-Jan-24",
         "2025-10-09T08:53:20Z",
         "2025-10-09T08:53:20Z",
         "2024-10-27T03:33:20Z",
         127,
         "STD",
         "EUR",
         "UK",
         "2024-07-03T09:46:40Z",
         "EDA",
         false
        ],
        [
         "BP",
         56,
         "sam",
         "Premium",
         "3-Mar-23",
         "2025-10-09T08:53:20Z",
         "2025-10-09T08:53:20Z",
         "2024-10-27T03:33:20Z",
         130,
         "STD",
         "EUR",
         "UK",
         "2024-07-03T09:46:40Z",
         "EDA",
         false
        ],
        [
         "BP",
         57,
         "sourab",
         "Premium",
         "6-Mar-23",
         "2025-10-09T08:53:20Z",
         "2025-10-09T08:53:20Z",
         "2024-10-27T03:33:20Z",
         133,
         "STD",
         "EUR",
         "UK",
         "2024-07-03T09:46:40Z",
         "EDA",
         false
        ],
        [
         "BP",
         58,
         "jai",
         "Premium",
         "9-Mar-23",
         "2025-10-09T08:53:20Z",
         "2025-10-09T08:53:20Z",
         "2024-10-27T03:33:20Z",
         136,
         "STD",
         "EUR",
         "UK",
         "2024-07-03T09:46:40Z",
         "EDA",
         true
        ],
        [
         "Reliance",
         59,
         "sree",
         "Lower",
         "3-Jan-25",
         "2025-10-09T08:53:20Z",
         "2025-10-09T08:53:20Z",
         "2024-10-27T03:33:20Z",
         139,
         "STD",
         "EUR",
         "UK",
         "2024-07-03T09:46:40Z",
         "TOI",
         true
        ],
        [
         "Reliance",
         60,
         "sreenath",
         "Lower",
         "6-Jan-25",
         "2025-10-09T08:53:20Z",
         "2025-10-09T08:53:20Z",
         "2024-10-27T03:33:20Z",
         142,
         "STD",
         "EUR",
         "UK",
         "2024-07-03T09:46:40Z",
         "TOI",
         true
        ],
        [
         "Reliance",
         61,
         "Naresh",
         "Lower",
         "9-Jan-25",
         "2025-10-09T08:53:20Z",
         "2026-02-02T02:40:00Z",
         "2024-10-27T03:33:20Z",
         145,
         "STD",
         "EUR",
         "UK",
         "2024-07-03T09:46:40Z",
         "TOI",
         true
        ],
        [
         "Reliance",
         62,
         "kamal",
         "Lower",
         "3-Apr-23",
         "2025-10-09T08:53:20Z",
         "2026-02-02T02:40:00Z",
         "2024-10-27T03:33:20Z",
         148,
         "STD",
         "EUR",
         "UK",
         "2024-07-03T09:46:40Z",
         "SETTL",
         true
        ],
        [
         "Reliance",
         63,
         "kajal",
         "Lower",
         "6-Apr-23",
         "2025-10-09T08:53:20Z",
         "2025-10-09T08:53:20Z",
         "2024-10-27T03:33:20Z",
         151,
         "STD",
         "EUR",
         "UK",
         "2024-07-03T09:46:40Z",
         "SETTL",
         true
        ],
        [
         "Reliance",
         64,
         "paul",
         "Lower",
         "11-Apr-23",
         "2025-10-09T08:53:20Z",
         "2026-02-02T02:40:00Z",
         "2024-10-27T03:33:20Z",
         154,
         "STD",
         "EUR",
         "SL",
         "2024-07-03T09:46:40Z",
         "SETTL",
         true
        ],
        [
         "Reliance",
         65,
         "sweta",
         "Lower",
         "3-Feb-23",
         "2024-03-09T16:00:00Z",
         "2024-07-03T09:46:40Z",
         "2024-10-27T03:33:20Z",
         157,
         "STD",
         "EUR",
         "SL",
         "2024-07-03T09:46:40Z",
         "SETTL",
         true
        ],
        [
         "Reliance",
         66,
         "narendra",
         "Lower",
         "6-Feb-23",
         "2024-03-09T16:00:00Z",
         "2024-07-03T09:46:40Z",
         "2024-10-27T03:33:20Z",
         160,
         "STD",
         "EUR",
         "SL",
         "2024-07-03T09:46:40Z",
         "SETTL",
         false
        ],
        [
         "Reliance",
         67,
         "ramesh",
         "Lower",
         "9-Feb-23",
         "2024-03-09T16:00:00Z",
         "2024-07-03T09:46:40Z",
         "2024-10-27T03:33:20Z",
         163,
         "STD",
         "EUR",
         "SL",
         "2024-07-03T09:46:40Z",
         "SETTL",
         false
        ],
        [
         "Reliance",
         68,
         "kalmesh",
         "Lower",
         "3-Jan-24",
         "2024-07-03T09:46:40Z",
         "2024-10-27T03:33:20Z",
         "2024-10-27T03:33:20Z",
         166,
         "STD",
         "EUR",
         "SL",
         "2024-07-03T09:46:40Z",
         "SETTL",
         false
        ]
       ],
       "datasetInfos": [],
       "dbfsResultPath": null,
       "isJsonSchema": true,
       "metadata": {},
       "overflow": false,
       "plotOptions": {
        "customPlotOptions": {},
        "displayType": "table",
        "pivotAggregation": null,
        "pivotColumns": null,
        "xColumns": null,
        "yColumns": null
       },
       "removedWidgets": [],
       "schema": [
        {
         "metadata": "{}",
         "name": "Company_Name",
         "type": "\"string\""
        },
        {
         "metadata": "{}",
         "name": "Cust_Id",
         "type": "\"integer\""
        },
        {
         "metadata": "{}",
         "name": "Cust_Name",
         "type": "\"string\""
        },
        {
         "metadata": "{}",
         "name": "Category",
         "type": "\"string\""
        },
        {
         "metadata": "{}",
         "name": "Start_Date",
         "type": "\"string\""
        },
        {
         "metadata": "{}",
         "name": "Start_Cust_Date",
         "type": "\"timestamp\""
        },
        {
         "metadata": "{}",
         "name": "End_Date",
         "type": "\"timestamp\""
        },
        {
         "metadata": "{}",
         "name": "Updated_Date",
         "type": "\"timestamp\""
        },
        {
         "metadata": "{}",
         "name": "Cust_Value",
         "type": "\"integer\""
        },
        {
         "metadata": "{}",
         "name": "Cust_Type",
         "type": "\"string\""
        },
        {
         "metadata": "{}",
         "name": "Exchange",
         "type": "\"string\""
        },
        {
         "metadata": "{}",
         "name": "Location",
         "type": "\"string\""
        },
        {
         "metadata": "{}",
         "name": "Last_Date_UTC",
         "type": "\"timestamp\""
        },
        {
         "metadata": "{}",
         "name": "Cust_Category",
         "type": "\"string\""
        },
        {
         "metadata": "{}",
         "name": "Index",
         "type": "\"boolean\""
        }
       ],
       "type": "table"
      }
     },
     "output_type": "display_data"
    }
   ],
   "source": [
    "# Convert columns from double (milliseconds) to Long\n",
    "# Convert columns from Long (milliseconds) to timestamp using timestamp_millis\n",
    "df_lng = df\\\n",
    "    .withColumn(\"Start_Cust_Date\", f.timestamp_millis(col(\"Start_Cust_Date\").cast(\"long\")))\\\n",
    "    .withColumn(\"End_Date\", f.timestamp_millis(col(\"End_Date\").cast(\"long\")))\\\n",
    "    .withColumn(\"Updated_Date\", f.timestamp_millis(col(\"Updated_Date\").cast(\"long\")))\\\n",
    "    .withColumn(\"Last_Date_UTC\", f.timestamp_millis(col(\"Last_Date_UTC\").cast(\"long\")))\n",
    "display(df_lng)"
   ]
  }
 ],
 "metadata": {
  "application/vnd.databricks.v1+notebook": {
   "dashboards": [],
   "environmentMetadata": null,
   "language": "python",
   "notebookMetadata": {
    "pythonIndentUnit": 4
   },
   "notebookName": "27_How to change data type from double to timestamp using timestamp_millis",
   "widgets": {}
  }
 },
 "nbformat": 4,
 "nbformat_minor": 0
}
