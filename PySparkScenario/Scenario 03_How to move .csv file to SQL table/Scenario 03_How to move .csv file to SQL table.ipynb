{
 "cells": [
  {
   "cell_type": "code",
   "execution_count": 0,
   "metadata": {
    "application/vnd.databricks.v1+cell": {
     "cellMetadata": {
      "byteLimit": 2048000,
      "rowLimit": 10000
     },
     "inputWidgets": {},
     "nuid": "013d5648-1314-42c0-8922-16fa7a65cdd9",
     "showTitle": true,
     "tableResultSettingsMap": {},
     "title": "Import Required Libraries PySpark"
    }
   },
   "outputs": [],
   "source": [
    "from pyspark.sql.functions import col, lit, current_timestamp, to_date"
   ]
  },
  {
   "cell_type": "code",
   "execution_count": 0,
   "metadata": {
    "application/vnd.databricks.v1+cell": {
     "cellMetadata": {
      "byteLimit": 2048000,
      "rowLimit": 10000
     },
     "inputWidgets": {},
     "nuid": "b7087d84-e4f2-4406-911b-b57be55df36e",
     "showTitle": true,
     "tableResultSettingsMap": {},
     "title": "Import Legecy Funcion"
    }
   },
   "outputs": [],
   "source": [
    "spark.conf.set(\"spark.sql.parquet.int96RebaseModeInWrite\", \"CORRECTED\")\n",
    "spark.conf.set(\"spark.sql.legacy.timeParserPolicy\", \"LEGACY\")"
   ]
  },
  {
   "cell_type": "code",
   "execution_count": 0,
   "metadata": {
    "application/vnd.databricks.v1+cell": {
     "cellMetadata": {
      "byteLimit": 2048000,
      "rowLimit": 10000
     },
     "inputWidgets": {},
     "nuid": "42a612f2-7c91-4aaf-a058-ce131241dd4d",
     "showTitle": true,
     "tableResultSettingsMap": {},
     "title": "Read input data"
    }
   },
   "outputs": [
    {
     "output_type": "display_data",
     "data": {
      "text/html": [
       "<style scoped>\n",
       "  .table-result-container {\n",
       "    max-height: 300px;\n",
       "    overflow: auto;\n",
       "  }\n",
       "  table, th, td {\n",
       "    border: 1px solid black;\n",
       "    border-collapse: collapse;\n",
       "  }\n",
       "  th, td {\n",
       "    padding: 5px;\n",
       "  }\n",
       "  th {\n",
       "    text-align: left;\n",
       "  }\n",
       "</style><div class='table-result-container'><table class='table-result'><thead style='background-color: white'><tr><th>Commodity_Index</th><th>Sensex_Id</th><th>Sensex_Name</th><th>Sensex_Category</th><th>Label_Type</th><th>Effective_Date</th><th>Start_Date</th><th>End_Date</th><th>Income</th><th>Delta_Value</th><th>Target_Id</th></tr></thead><tbody><tr><td>DISCOUNT</td><td>4</td><td>1</td><td>Top</td><td>average</td><td>6-Feb-23</td><td>14-Jan-23</td><td>6-Feb-23</td><td>1500</td><td>10.0</td><td>1068</td></tr><tr><td>DISCOUNT</td><td>4</td><td>1</td><td>Top</td><td>average</td><td>6-Feb-23</td><td>14-Jan-23</td><td>6-Feb-23</td><td>1500</td><td>10.0</td><td>1071</td></tr><tr><td>DISCOUNT</td><td>9</td><td>1</td><td>Top</td><td>average</td><td>8-Jan-24</td><td>7-Oct-23</td><td>8-Jan-24</td><td>1500</td><td>10.0</td><td>1068</td></tr><tr><td>DISCOUNT</td><td>9</td><td>1</td><td>Top</td><td>average</td><td>8-Jan-24</td><td>7-Oct-23</td><td>8-Jan-24</td><td>1500</td><td>10.0</td><td>1071</td></tr><tr><td>DISCOUNT</td><td>5</td><td>2</td><td>Top</td><td>average</td><td>6-Mar-23</td><td>7-Feb-23</td><td>6-Mar-23</td><td>1500</td><td>10.0</td><td>1068</td></tr><tr><td>DISCOUNT</td><td>5</td><td>2</td><td>Top</td><td>average</td><td>6-Mar-23</td><td>7-Feb-23</td><td>6-Mar-23</td><td>1500</td><td>10.0</td><td>1071</td></tr><tr><td>DISCOUNT</td><td>10</td><td>2</td><td>Top</td><td>average</td><td>6-Jan-25</td><td>9-Jan-24</td><td>6-Jan-25</td><td>1500</td><td>10.0</td><td>1068</td></tr><tr><td>DISCOUNT</td><td>10</td><td>2</td><td>Top</td><td>average</td><td>6-Jan-25</td><td>9-Jan-24</td><td>6-Jan-25</td><td>1500</td><td>10.0</td><td>1071</td></tr><tr><td>DISCOUNT</td><td>6</td><td>3</td><td>Top</td><td>average</td><td>6-Apr-23</td><td>7-Mar-23</td><td>6-Apr-23</td><td>1500</td><td>10.0</td><td>1068</td></tr><tr><td>DISCOUNT</td><td>6</td><td>3</td><td>Top</td><td>average</td><td>6-Apr-23</td><td>7-Mar-23</td><td>6-Apr-23</td><td>1500</td><td>10.0</td><td>1071</td></tr></tbody></table></div>"
      ]
     },
     "metadata": {
      "application/vnd.databricks.v1+output": {
       "addedWidgets": {},
       "aggData": [],
       "aggError": "",
       "aggOverflow": false,
       "aggSchema": [],
       "aggSeriesLimitReached": false,
       "aggType": "",
       "arguments": {},
       "columnCustomDisplayInfos": {},
       "data": [
        [
         "DISCOUNT",
         4,
         1,
         "Top",
         "average",
         "6-Feb-23",
         "14-Jan-23",
         "6-Feb-23",
         1500,
         10.0,
         1068
        ],
        [
         "DISCOUNT",
         4,
         1,
         "Top",
         "average",
         "6-Feb-23",
         "14-Jan-23",
         "6-Feb-23",
         1500,
         10.0,
         1071
        ],
        [
         "DISCOUNT",
         9,
         1,
         "Top",
         "average",
         "8-Jan-24",
         "7-Oct-23",
         "8-Jan-24",
         1500,
         10.0,
         1068
        ],
        [
         "DISCOUNT",
         9,
         1,
         "Top",
         "average",
         "8-Jan-24",
         "7-Oct-23",
         "8-Jan-24",
         1500,
         10.0,
         1071
        ],
        [
         "DISCOUNT",
         5,
         2,
         "Top",
         "average",
         "6-Mar-23",
         "7-Feb-23",
         "6-Mar-23",
         1500,
         10.0,
         1068
        ],
        [
         "DISCOUNT",
         5,
         2,
         "Top",
         "average",
         "6-Mar-23",
         "7-Feb-23",
         "6-Mar-23",
         1500,
         10.0,
         1071
        ],
        [
         "DISCOUNT",
         10,
         2,
         "Top",
         "average",
         "6-Jan-25",
         "9-Jan-24",
         "6-Jan-25",
         1500,
         10.0,
         1068
        ],
        [
         "DISCOUNT",
         10,
         2,
         "Top",
         "average",
         "6-Jan-25",
         "9-Jan-24",
         "6-Jan-25",
         1500,
         10.0,
         1071
        ],
        [
         "DISCOUNT",
         6,
         3,
         "Top",
         "average",
         "6-Apr-23",
         "7-Mar-23",
         "6-Apr-23",
         1500,
         10.0,
         1068
        ],
        [
         "DISCOUNT",
         6,
         3,
         "Top",
         "average",
         "6-Apr-23",
         "7-Mar-23",
         "6-Apr-23",
         1500,
         10.0,
         1071
        ]
       ],
       "datasetInfos": [],
       "dbfsResultPath": null,
       "isJsonSchema": true,
       "metadata": {},
       "overflow": false,
       "plotOptions": {
        "customPlotOptions": {},
        "displayType": "table",
        "pivotAggregation": null,
        "pivotColumns": null,
        "xColumns": null,
        "yColumns": null
       },
       "removedWidgets": [],
       "schema": [
        {
         "metadata": "{}",
         "name": "Commodity_Index",
         "type": "\"string\""
        },
        {
         "metadata": "{}",
         "name": "Sensex_Id",
         "type": "\"integer\""
        },
        {
         "metadata": "{}",
         "name": "Sensex_Name",
         "type": "\"integer\""
        },
        {
         "metadata": "{}",
         "name": "Sensex_Category",
         "type": "\"string\""
        },
        {
         "metadata": "{}",
         "name": "Label_Type",
         "type": "\"string\""
        },
        {
         "metadata": "{}",
         "name": "Effective_Date",
         "type": "\"string\""
        },
        {
         "metadata": "{}",
         "name": "Start_Date",
         "type": "\"string\""
        },
        {
         "metadata": "{}",
         "name": "End_Date",
         "type": "\"string\""
        },
        {
         "metadata": "{}",
         "name": "Income",
         "type": "\"integer\""
        },
        {
         "metadata": "{}",
         "name": "Delta_Value",
         "type": "\"double\""
        },
        {
         "metadata": "{}",
         "name": "Target_Id",
         "type": "\"integer\""
        }
       ],
       "type": "table"
      }
     },
     "output_type": "display_data"
    },
    {
     "output_type": "stream",
     "name": "stdout",
     "output_type": "stream",
     "text": [
      "root\n |-- Commodity_Index: string (nullable = true)\n |-- Sensex_Id: integer (nullable = true)\n |-- Sensex_Name: integer (nullable = true)\n |-- Sensex_Category: string (nullable = true)\n |-- Label_Type: string (nullable = true)\n |-- Effective_Date: string (nullable = true)\n |-- Start_Date: string (nullable = true)\n |-- End_Date: string (nullable = true)\n |-- Income: integer (nullable = true)\n |-- Delta_Value: double (nullable = true)\n |-- Target_Id: integer (nullable = true)\n\nNumber of Rows: 267\n"
     ]
    }
   ],
   "source": [
    "df = spark.read.option('header',True).option('InferSchema',True).csv(\"/FileStore/tables/MarketPrice-1.csv\")\n",
    "display(df.limit(10))\n",
    "df.printSchema()\n",
    "print(\"Number of Rows:\", df.count())"
   ]
  },
  {
   "cell_type": "code",
   "execution_count": 0,
   "metadata": {
    "application/vnd.databricks.v1+cell": {
     "cellMetadata": {
      "byteLimit": 2048000,
      "rowLimit": 10000
     },
     "inputWidgets": {},
     "nuid": "7310b398-0b9d-4acb-b655-a7b6e6908748",
     "showTitle": true,
     "tableResultSettingsMap": {},
     "title": "Print data types and count of data"
    }
   },
   "outputs": [
    {
     "output_type": "stream",
     "name": "stdout",
     "output_type": "stream",
     "text": [
      "Column Names: ['Commodity_Index', 'Sensex_Id', 'Sensex_Name', 'Sensex_Category', 'Label_Type', 'Effective_Date', 'Start_Date', 'End_Date', 'Income', 'Delta_Value', 'Target_Id']\n\nNumber of Columns: 11\n"
     ]
    }
   ],
   "source": [
    "print(\"Column Names:\", df.columns)\n",
    "print(\"\\nNumber of Columns:\", len(df.columns))"
   ]
  },
  {
   "cell_type": "markdown",
   "metadata": {
    "application/vnd.databricks.v1+cell": {
     "cellMetadata": {
      "byteLimit": 2048000,
      "rowLimit": 10000
     },
     "inputWidgets": {},
     "nuid": "92130ff4-372a-4924-b599-c68a50dd89f4",
     "showTitle": false,
     "tableResultSettingsMap": {},
     "title": ""
    }
   },
   "source": [
    "#### **change data type from string to date (Start_Date, End_Date & Effective_Date)**"
   ]
  },
  {
   "cell_type": "code",
   "execution_count": 0,
   "metadata": {
    "application/vnd.databricks.v1+cell": {
     "cellMetadata": {
      "byteLimit": 2048000,
      "rowLimit": 10000
     },
     "inputWidgets": {},
     "nuid": "36cceea7-ea9e-4da5-a027-d9ed1e209e67",
     "showTitle": true,
     "tableResultSettingsMap": {},
     "title": "Transformation"
    }
   },
   "outputs": [
    {
     "output_type": "display_data",
     "data": {
      "text/html": [
       "<style scoped>\n",
       "  .table-result-container {\n",
       "    max-height: 300px;\n",
       "    overflow: auto;\n",
       "  }\n",
       "  table, th, td {\n",
       "    border: 1px solid black;\n",
       "    border-collapse: collapse;\n",
       "  }\n",
       "  th, td {\n",
       "    padding: 5px;\n",
       "  }\n",
       "  th {\n",
       "    text-align: left;\n",
       "  }\n",
       "</style><div class='table-result-container'><table class='table-result'><thead style='background-color: white'><tr><th>commodity_index</th><th>sensex_id</th><th>sensex_name</th><th>sensex_category</th><th>label_type</th><th>effective_date</th><th>start_date</th><th>end_date</th><th>income</th><th>delta_value</th><th>target_id</th><th>source_database_id</th><th>created_datetime</th><th>updated_datetime</th></tr></thead><tbody><tr><td>DISCOUNT</td><td>4</td><td>1</td><td>Top</td><td>average</td><td>2023-02-06</td><td>2023-01-14</td><td>2023-02-06</td><td>1500</td><td>10.0</td><td>1068</td><td>Azure</td><td>2024-07-06T18:15:13.329+0000</td><td>2024-07-06T18:15:13.329+0000</td></tr><tr><td>DISCOUNT</td><td>4</td><td>1</td><td>Top</td><td>average</td><td>2023-02-06</td><td>2023-01-14</td><td>2023-02-06</td><td>1500</td><td>10.0</td><td>1071</td><td>Azure</td><td>2024-07-06T18:15:13.329+0000</td><td>2024-07-06T18:15:13.329+0000</td></tr><tr><td>DISCOUNT</td><td>9</td><td>1</td><td>Top</td><td>average</td><td>2024-01-08</td><td>2023-10-07</td><td>2024-01-08</td><td>1500</td><td>10.0</td><td>1068</td><td>Azure</td><td>2024-07-06T18:15:13.329+0000</td><td>2024-07-06T18:15:13.329+0000</td></tr><tr><td>DISCOUNT</td><td>9</td><td>1</td><td>Top</td><td>average</td><td>2024-01-08</td><td>2023-10-07</td><td>2024-01-08</td><td>1500</td><td>10.0</td><td>1071</td><td>Azure</td><td>2024-07-06T18:15:13.329+0000</td><td>2024-07-06T18:15:13.329+0000</td></tr><tr><td>DISCOUNT</td><td>5</td><td>2</td><td>Top</td><td>average</td><td>2023-03-06</td><td>2023-02-07</td><td>2023-03-06</td><td>1500</td><td>10.0</td><td>1068</td><td>Azure</td><td>2024-07-06T18:15:13.329+0000</td><td>2024-07-06T18:15:13.329+0000</td></tr><tr><td>DISCOUNT</td><td>5</td><td>2</td><td>Top</td><td>average</td><td>2023-03-06</td><td>2023-02-07</td><td>2023-03-06</td><td>1500</td><td>10.0</td><td>1071</td><td>Azure</td><td>2024-07-06T18:15:13.329+0000</td><td>2024-07-06T18:15:13.329+0000</td></tr><tr><td>DISCOUNT</td><td>10</td><td>2</td><td>Top</td><td>average</td><td>2025-01-06</td><td>2024-01-09</td><td>2025-01-06</td><td>1500</td><td>10.0</td><td>1068</td><td>Azure</td><td>2024-07-06T18:15:13.329+0000</td><td>2024-07-06T18:15:13.329+0000</td></tr><tr><td>DISCOUNT</td><td>10</td><td>2</td><td>Top</td><td>average</td><td>2025-01-06</td><td>2024-01-09</td><td>2025-01-06</td><td>1500</td><td>10.0</td><td>1071</td><td>Azure</td><td>2024-07-06T18:15:13.329+0000</td><td>2024-07-06T18:15:13.329+0000</td></tr><tr><td>DISCOUNT</td><td>6</td><td>3</td><td>Top</td><td>average</td><td>2023-04-06</td><td>2023-03-07</td><td>2023-04-06</td><td>1500</td><td>10.0</td><td>1068</td><td>Azure</td><td>2024-07-06T18:15:13.329+0000</td><td>2024-07-06T18:15:13.329+0000</td></tr><tr><td>DISCOUNT</td><td>6</td><td>3</td><td>Top</td><td>average</td><td>2023-04-06</td><td>2023-03-07</td><td>2023-04-06</td><td>1500</td><td>10.0</td><td>1071</td><td>Azure</td><td>2024-07-06T18:15:13.329+0000</td><td>2024-07-06T18:15:13.329+0000</td></tr></tbody></table></div>"
      ]
     },
     "metadata": {
      "application/vnd.databricks.v1+output": {
       "addedWidgets": {},
       "aggData": [],
       "aggError": "",
       "aggOverflow": false,
       "aggSchema": [],
       "aggSeriesLimitReached": false,
       "aggType": "",
       "arguments": {},
       "columnCustomDisplayInfos": {},
       "data": [
        [
         "DISCOUNT",
         4,
         1,
         "Top",
         "average",
         "2023-02-06",
         "2023-01-14",
         "2023-02-06",
         1500,
         10.0,
         1068,
         "Azure",
         "2024-07-06T18:15:13.329+0000",
         "2024-07-06T18:15:13.329+0000"
        ],
        [
         "DISCOUNT",
         4,
         1,
         "Top",
         "average",
         "2023-02-06",
         "2023-01-14",
         "2023-02-06",
         1500,
         10.0,
         1071,
         "Azure",
         "2024-07-06T18:15:13.329+0000",
         "2024-07-06T18:15:13.329+0000"
        ],
        [
         "DISCOUNT",
         9,
         1,
         "Top",
         "average",
         "2024-01-08",
         "2023-10-07",
         "2024-01-08",
         1500,
         10.0,
         1068,
         "Azure",
         "2024-07-06T18:15:13.329+0000",
         "2024-07-06T18:15:13.329+0000"
        ],
        [
         "DISCOUNT",
         9,
         1,
         "Top",
         "average",
         "2024-01-08",
         "2023-10-07",
         "2024-01-08",
         1500,
         10.0,
         1071,
         "Azure",
         "2024-07-06T18:15:13.329+0000",
         "2024-07-06T18:15:13.329+0000"
        ],
        [
         "DISCOUNT",
         5,
         2,
         "Top",
         "average",
         "2023-03-06",
         "2023-02-07",
         "2023-03-06",
         1500,
         10.0,
         1068,
         "Azure",
         "2024-07-06T18:15:13.329+0000",
         "2024-07-06T18:15:13.329+0000"
        ],
        [
         "DISCOUNT",
         5,
         2,
         "Top",
         "average",
         "2023-03-06",
         "2023-02-07",
         "2023-03-06",
         1500,
         10.0,
         1071,
         "Azure",
         "2024-07-06T18:15:13.329+0000",
         "2024-07-06T18:15:13.329+0000"
        ],
        [
         "DISCOUNT",
         10,
         2,
         "Top",
         "average",
         "2025-01-06",
         "2024-01-09",
         "2025-01-06",
         1500,
         10.0,
         1068,
         "Azure",
         "2024-07-06T18:15:13.329+0000",
         "2024-07-06T18:15:13.329+0000"
        ],
        [
         "DISCOUNT",
         10,
         2,
         "Top",
         "average",
         "2025-01-06",
         "2024-01-09",
         "2025-01-06",
         1500,
         10.0,
         1071,
         "Azure",
         "2024-07-06T18:15:13.329+0000",
         "2024-07-06T18:15:13.329+0000"
        ],
        [
         "DISCOUNT",
         6,
         3,
         "Top",
         "average",
         "2023-04-06",
         "2023-03-07",
         "2023-04-06",
         1500,
         10.0,
         1068,
         "Azure",
         "2024-07-06T18:15:13.329+0000",
         "2024-07-06T18:15:13.329+0000"
        ],
        [
         "DISCOUNT",
         6,
         3,
         "Top",
         "average",
         "2023-04-06",
         "2023-03-07",
         "2023-04-06",
         1500,
         10.0,
         1071,
         "Azure",
         "2024-07-06T18:15:13.329+0000",
         "2024-07-06T18:15:13.329+0000"
        ]
       ],
       "datasetInfos": [],
       "dbfsResultPath": null,
       "isJsonSchema": true,
       "metadata": {},
       "overflow": false,
       "plotOptions": {
        "customPlotOptions": {},
        "displayType": "table",
        "pivotAggregation": null,
        "pivotColumns": null,
        "xColumns": null,
        "yColumns": null
       },
       "removedWidgets": [],
       "schema": [
        {
         "metadata": "{}",
         "name": "commodity_index",
         "type": "\"string\""
        },
        {
         "metadata": "{}",
         "name": "sensex_id",
         "type": "\"integer\""
        },
        {
         "metadata": "{}",
         "name": "sensex_name",
         "type": "\"integer\""
        },
        {
         "metadata": "{}",
         "name": "sensex_category",
         "type": "\"string\""
        },
        {
         "metadata": "{}",
         "name": "label_type",
         "type": "\"string\""
        },
        {
         "metadata": "{}",
         "name": "effective_date",
         "type": "\"date\""
        },
        {
         "metadata": "{}",
         "name": "start_date",
         "type": "\"date\""
        },
        {
         "metadata": "{}",
         "name": "end_date",
         "type": "\"date\""
        },
        {
         "metadata": "{}",
         "name": "income",
         "type": "\"integer\""
        },
        {
         "metadata": "{}",
         "name": "delta_value",
         "type": "\"double\""
        },
        {
         "metadata": "{}",
         "name": "target_id",
         "type": "\"integer\""
        },
        {
         "metadata": "{}",
         "name": "source_database_id",
         "type": "\"string\""
        },
        {
         "metadata": "{}",
         "name": "created_datetime",
         "type": "\"timestamp\""
        },
        {
         "metadata": "{}",
         "name": "updated_datetime",
         "type": "\"timestamp\""
        }
       ],
       "type": "table"
      }
     },
     "output_type": "display_data"
    },
    {
     "output_type": "stream",
     "name": "stdout",
     "output_type": "stream",
     "text": [
      "root\n |-- commodity_index: string (nullable = true)\n |-- sensex_id: integer (nullable = true)\n |-- sensex_name: integer (nullable = true)\n |-- sensex_category: string (nullable = true)\n |-- label_type: string (nullable = true)\n |-- effective_date: date (nullable = true)\n |-- start_date: date (nullable = true)\n |-- end_date: date (nullable = true)\n |-- income: integer (nullable = true)\n |-- delta_value: double (nullable = true)\n |-- target_id: integer (nullable = true)\n |-- source_database_id: string (nullable = false)\n |-- created_datetime: timestamp (nullable = false)\n |-- updated_datetime: timestamp (nullable = false)\n\n"
     ]
    }
   ],
   "source": [
    "df = df.withColumn(\"Start_Date\", to_date(col(\"Start_Date\"), \"dd-MMM-yy\")) \\\n",
    "       .withColumn(\"End_Date\", to_date(col(\"End_Date\"), \"dd-MMM-yy\")) \\\n",
    "       .withColumn(\"Effective_Date\", to_date(col(\"Effective_Date\"), \"dd-MMM-yy\")) \\\n",
    "       .withColumn(\"created_datetime\", current_timestamp()) \\\n",
    "       .withColumn(\"updated_datetime\", current_timestamp()) \\\n",
    "       .withColumn(\"source_database_id\", lit(\"Azure\")) \\\n",
    "       .select(col(\"Commodity_Index\").alias(\"commodity_index\"),\n",
    "               col(\"Sensex_Id\").alias(\"sensex_id\"),\n",
    "               col(\"Sensex_Name\").alias(\"sensex_name\"),\n",
    "               col(\"Sensex_Category\").alias(\"sensex_category\"),\n",
    "               col(\"Label_Type\").alias(\"label_type\"),\n",
    "               col(\"Effective_Date\").alias(\"effective_date\"),\n",
    "               col(\"Start_Date\").alias(\"start_date\"),\n",
    "               col(\"End_Date\").alias(\"end_date\"),\n",
    "               col(\"Income\").alias(\"income\"),\n",
    "               col(\"Delta_Value\").alias(\"delta_value\"),\n",
    "               col(\"Target_Id\").alias(\"target_id\"),\n",
    "               col(\"source_database_id\"),\n",
    "               col(\"created_datetime\"),\n",
    "               col(\"updated_datetime\")\n",
    "               )      \n",
    "\n",
    "display(df.limit(10))\n",
    "df.printSchema()    "
   ]
  },
  {
   "cell_type": "code",
   "execution_count": 0,
   "metadata": {
    "application/vnd.databricks.v1+cell": {
     "cellMetadata": {
      "byteLimit": 2048000,
      "rowLimit": 10000
     },
     "inputWidgets": {},
     "nuid": "707cd242-8d0c-4efc-9bcb-ecf26497a159",
     "showTitle": false,
     "tableResultSettingsMap": {},
     "title": ""
    }
   },
   "outputs": [],
   "source": [
    "# drop_cols = [\"Price_Effective_Date\", \"Price_Period_Start_Date\", \"Price_Period_End_Date\"]\n",
    "# price_point_cols = [col for col in price_point.columns if col not in drop_cols] \n",
    "\n",
    "# price_point = price_point.select(\n",
    "#     *price_point_cols,\n",
    "#     current_timestamp().alias(\"created_datetime\"),\n",
    "#     current_timestamp().alias(\"updated_datetime\"),\n",
    "#     to_date(col(\"Price_Period_Start_Date\"), \"dd-MMM-yyyy\").alias(\"Price_Period_Start_Date\"),\n",
    "#     to_date(col(\"Price_Period_End_Date\"), \"dd-MMM-yyyy\").alias(\"Price_Period_End_Date\"),\n",
    "#     to_date(col(\"Price_Effective_Date\"), \"dd-MMM-yyyy\").alias(\"Price_Effective_Date\")\n",
    "# )"
   ]
  },
  {
   "cell_type": "code",
   "execution_count": 0,
   "metadata": {
    "application/vnd.databricks.v1+cell": {
     "cellMetadata": {
      "byteLimit": 2048000,
      "rowLimit": 10000
     },
     "inputWidgets": {},
     "nuid": "e8521fc3-7ea5-43c1-8193-12554de44612",
     "showTitle": false,
     "tableResultSettingsMap": {},
     "title": ""
    }
   },
   "outputs": [],
   "source": [
    "df.createOrReplaceTempView(\"MarketPrice_tmp\")"
   ]
  },
  {
   "cell_type": "code",
   "execution_count": 0,
   "metadata": {
    "application/vnd.databricks.v1+cell": {
     "cellMetadata": {
      "byteLimit": 2048000,
      "implicitDf": true,
      "rowLimit": 10000
     },
     "inputWidgets": {},
     "nuid": "a51ef066-46db-4612-a964-bda28daff2c2",
     "showTitle": false,
     "tableResultSettingsMap": {},
     "title": ""
    }
   },
   "outputs": [
    {
     "output_type": "display_data",
     "data": {
      "text/html": [
       "<style scoped>\n",
       "  .table-result-container {\n",
       "    max-height: 300px;\n",
       "    overflow: auto;\n",
       "  }\n",
       "  table, th, td {\n",
       "    border: 1px solid black;\n",
       "    border-collapse: collapse;\n",
       "  }\n",
       "  th, td {\n",
       "    padding: 5px;\n",
       "  }\n",
       "  th {\n",
       "    text-align: left;\n",
       "  }\n",
       "</style><div class='table-result-container'><table class='table-result'><thead style='background-color: white'><tr><th>commodity_index</th><th>sensex_id</th><th>sensex_name</th><th>sensex_category</th><th>label_type</th><th>effective_date</th><th>start_date</th><th>end_date</th><th>income</th><th>delta_value</th><th>target_id</th><th>source_database_id</th><th>created_datetime</th><th>updated_datetime</th></tr></thead><tbody><tr><td>DISCOUNT</td><td>4</td><td>1</td><td>Top</td><td>average</td><td>2023-02-06</td><td>2023-01-14</td><td>2023-02-06</td><td>1500</td><td>10.0</td><td>1068</td><td>Azure</td><td>2024-07-06T18:16:32.620+0000</td><td>2024-07-06T18:16:32.620+0000</td></tr><tr><td>DISCOUNT</td><td>4</td><td>1</td><td>Top</td><td>average</td><td>2023-02-06</td><td>2023-01-14</td><td>2023-02-06</td><td>1500</td><td>10.0</td><td>1071</td><td>Azure</td><td>2024-07-06T18:16:32.620+0000</td><td>2024-07-06T18:16:32.620+0000</td></tr><tr><td>DISCOUNT</td><td>9</td><td>1</td><td>Top</td><td>average</td><td>2024-01-08</td><td>2023-10-07</td><td>2024-01-08</td><td>1500</td><td>10.0</td><td>1068</td><td>Azure</td><td>2024-07-06T18:16:32.620+0000</td><td>2024-07-06T18:16:32.620+0000</td></tr><tr><td>DISCOUNT</td><td>9</td><td>1</td><td>Top</td><td>average</td><td>2024-01-08</td><td>2023-10-07</td><td>2024-01-08</td><td>1500</td><td>10.0</td><td>1071</td><td>Azure</td><td>2024-07-06T18:16:32.620+0000</td><td>2024-07-06T18:16:32.620+0000</td></tr><tr><td>DISCOUNT</td><td>5</td><td>2</td><td>Top</td><td>average</td><td>2023-03-06</td><td>2023-02-07</td><td>2023-03-06</td><td>1500</td><td>10.0</td><td>1068</td><td>Azure</td><td>2024-07-06T18:16:32.620+0000</td><td>2024-07-06T18:16:32.620+0000</td></tr><tr><td>DISCOUNT</td><td>5</td><td>2</td><td>Top</td><td>average</td><td>2023-03-06</td><td>2023-02-07</td><td>2023-03-06</td><td>1500</td><td>10.0</td><td>1071</td><td>Azure</td><td>2024-07-06T18:16:32.620+0000</td><td>2024-07-06T18:16:32.620+0000</td></tr><tr><td>DISCOUNT</td><td>10</td><td>2</td><td>Top</td><td>average</td><td>2025-01-06</td><td>2024-01-09</td><td>2025-01-06</td><td>1500</td><td>10.0</td><td>1068</td><td>Azure</td><td>2024-07-06T18:16:32.620+0000</td><td>2024-07-06T18:16:32.620+0000</td></tr><tr><td>DISCOUNT</td><td>10</td><td>2</td><td>Top</td><td>average</td><td>2025-01-06</td><td>2024-01-09</td><td>2025-01-06</td><td>1500</td><td>10.0</td><td>1071</td><td>Azure</td><td>2024-07-06T18:16:32.620+0000</td><td>2024-07-06T18:16:32.620+0000</td></tr><tr><td>DISCOUNT</td><td>6</td><td>3</td><td>Top</td><td>average</td><td>2023-04-06</td><td>2023-03-07</td><td>2023-04-06</td><td>1500</td><td>10.0</td><td>1068</td><td>Azure</td><td>2024-07-06T18:16:32.620+0000</td><td>2024-07-06T18:16:32.620+0000</td></tr><tr><td>DISCOUNT</td><td>6</td><td>3</td><td>Top</td><td>average</td><td>2023-04-06</td><td>2023-03-07</td><td>2023-04-06</td><td>1500</td><td>10.0</td><td>1071</td><td>Azure</td><td>2024-07-06T18:16:32.620+0000</td><td>2024-07-06T18:16:32.620+0000</td></tr></tbody></table></div>"
      ]
     },
     "metadata": {
      "application/vnd.databricks.v1+output": {
       "addedWidgets": {},
       "aggData": [],
       "aggError": "",
       "aggOverflow": false,
       "aggSchema": [],
       "aggSeriesLimitReached": false,
       "aggType": "",
       "arguments": {},
       "columnCustomDisplayInfos": {},
       "data": [
        [
         "DISCOUNT",
         4,
         1,
         "Top",
         "average",
         "2023-02-06",
         "2023-01-14",
         "2023-02-06",
         1500,
         10.0,
         1068,
         "Azure",
         "2024-07-06T18:16:32.620+0000",
         "2024-07-06T18:16:32.620+0000"
        ],
        [
         "DISCOUNT",
         4,
         1,
         "Top",
         "average",
         "2023-02-06",
         "2023-01-14",
         "2023-02-06",
         1500,
         10.0,
         1071,
         "Azure",
         "2024-07-06T18:16:32.620+0000",
         "2024-07-06T18:16:32.620+0000"
        ],
        [
         "DISCOUNT",
         9,
         1,
         "Top",
         "average",
         "2024-01-08",
         "2023-10-07",
         "2024-01-08",
         1500,
         10.0,
         1068,
         "Azure",
         "2024-07-06T18:16:32.620+0000",
         "2024-07-06T18:16:32.620+0000"
        ],
        [
         "DISCOUNT",
         9,
         1,
         "Top",
         "average",
         "2024-01-08",
         "2023-10-07",
         "2024-01-08",
         1500,
         10.0,
         1071,
         "Azure",
         "2024-07-06T18:16:32.620+0000",
         "2024-07-06T18:16:32.620+0000"
        ],
        [
         "DISCOUNT",
         5,
         2,
         "Top",
         "average",
         "2023-03-06",
         "2023-02-07",
         "2023-03-06",
         1500,
         10.0,
         1068,
         "Azure",
         "2024-07-06T18:16:32.620+0000",
         "2024-07-06T18:16:32.620+0000"
        ],
        [
         "DISCOUNT",
         5,
         2,
         "Top",
         "average",
         "2023-03-06",
         "2023-02-07",
         "2023-03-06",
         1500,
         10.0,
         1071,
         "Azure",
         "2024-07-06T18:16:32.620+0000",
         "2024-07-06T18:16:32.620+0000"
        ],
        [
         "DISCOUNT",
         10,
         2,
         "Top",
         "average",
         "2025-01-06",
         "2024-01-09",
         "2025-01-06",
         1500,
         10.0,
         1068,
         "Azure",
         "2024-07-06T18:16:32.620+0000",
         "2024-07-06T18:16:32.620+0000"
        ],
        [
         "DISCOUNT",
         10,
         2,
         "Top",
         "average",
         "2025-01-06",
         "2024-01-09",
         "2025-01-06",
         1500,
         10.0,
         1071,
         "Azure",
         "2024-07-06T18:16:32.620+0000",
         "2024-07-06T18:16:32.620+0000"
        ],
        [
         "DISCOUNT",
         6,
         3,
         "Top",
         "average",
         "2023-04-06",
         "2023-03-07",
         "2023-04-06",
         1500,
         10.0,
         1068,
         "Azure",
         "2024-07-06T18:16:32.620+0000",
         "2024-07-06T18:16:32.620+0000"
        ],
        [
         "DISCOUNT",
         6,
         3,
         "Top",
         "average",
         "2023-04-06",
         "2023-03-07",
         "2023-04-06",
         1500,
         10.0,
         1071,
         "Azure",
         "2024-07-06T18:16:32.620+0000",
         "2024-07-06T18:16:32.620+0000"
        ]
       ],
       "datasetInfos": [],
       "dbfsResultPath": null,
       "isJsonSchema": true,
       "metadata": {},
       "overflow": false,
       "plotOptions": {
        "customPlotOptions": {},
        "displayType": "table",
        "pivotAggregation": null,
        "pivotColumns": null,
        "xColumns": null,
        "yColumns": null
       },
       "removedWidgets": [],
       "schema": [
        {
         "metadata": "{}",
         "name": "commodity_index",
         "type": "\"string\""
        },
        {
         "metadata": "{}",
         "name": "sensex_id",
         "type": "\"integer\""
        },
        {
         "metadata": "{}",
         "name": "sensex_name",
         "type": "\"integer\""
        },
        {
         "metadata": "{}",
         "name": "sensex_category",
         "type": "\"string\""
        },
        {
         "metadata": "{}",
         "name": "label_type",
         "type": "\"string\""
        },
        {
         "metadata": "{}",
         "name": "effective_date",
         "type": "\"date\""
        },
        {
         "metadata": "{}",
         "name": "start_date",
         "type": "\"date\""
        },
        {
         "metadata": "{}",
         "name": "end_date",
         "type": "\"date\""
        },
        {
         "metadata": "{}",
         "name": "income",
         "type": "\"integer\""
        },
        {
         "metadata": "{}",
         "name": "delta_value",
         "type": "\"double\""
        },
        {
         "metadata": "{}",
         "name": "target_id",
         "type": "\"integer\""
        },
        {
         "metadata": "{}",
         "name": "source_database_id",
         "type": "\"string\""
        },
        {
         "metadata": "{}",
         "name": "created_datetime",
         "type": "\"timestamp\""
        },
        {
         "metadata": "{}",
         "name": "updated_datetime",
         "type": "\"timestamp\""
        }
       ],
       "type": "table"
      }
     },
     "output_type": "display_data"
    }
   ],
   "source": [
    "%sql\n",
    "SELECT * FROM MarketPrice_tmp LIMIT 10;"
   ]
  },
  {
   "cell_type": "code",
   "execution_count": 0,
   "metadata": {
    "application/vnd.databricks.v1+cell": {
     "cellMetadata": {
      "byteLimit": 2048000,
      "implicitDf": true,
      "rowLimit": 10000
     },
     "inputWidgets": {},
     "nuid": "d1a2b33b-f2fe-439c-ae93-478485921881",
     "showTitle": false,
     "tableResultSettingsMap": {},
     "title": ""
    }
   },
   "outputs": [],
   "source": [
    "%sql\n",
    "DROP TABLE IF EXISTS tbl_enriched_MarketPrice;\n",
    "CREATE TABLE tbl_enriched_MarketPrice AS \n",
    "SELECT mpt.commodity_index,\n",
    "       mpt.sensex_id,\n",
    "       mpt.sensex_name,\n",
    "       mpt.sensex_category,\n",
    "       mpt.label_type,\n",
    "       mpt.effective_date,\n",
    "       mpt.start_date,\n",
    "       mpt.end_date,\n",
    "       mpt.income,\n",
    "       mpt.delta_value,\n",
    "       mpt.target_id,\n",
    "       mpt.source_database_id,\n",
    "       mpt.created_datetime,\n",
    "       mpt.updated_datetime\n",
    "FROM MarketPrice_tmp mpt;"
   ]
  },
  {
   "cell_type": "code",
   "execution_count": 0,
   "metadata": {
    "application/vnd.databricks.v1+cell": {
     "cellMetadata": {
      "byteLimit": 2048000,
      "implicitDf": true,
      "rowLimit": 10000
     },
     "inputWidgets": {},
     "nuid": "1d36c170-9716-402c-b74e-f22b9a4a828d",
     "showTitle": false,
     "tableResultSettingsMap": {},
     "title": ""
    }
   },
   "outputs": [],
   "source": [
    "%sql\n",
    "SELECT * FROM tbl_enriched_MarketPrice;"
   ]
  }
 ],
 "metadata": {
  "application/vnd.databricks.v1+notebook": {
   "computePreferences": null,
   "dashboards": [],
   "environmentMetadata": null,
   "inputWidgetPreferences": null,
   "language": "python",
   "notebookMetadata": {
    "mostRecentlyExecutedCommandWithImplicitDF": {
     "commandId": 2847466777042005,
     "dataframes": [
      "_sqldf"
     ]
    },
    "pythonIndentUnit": 4
   },
   "notebookName": "Scenario 03_How to move .csv file to SQL table",
   "widgets": {}
  }
 },
 "nbformat": 4,
 "nbformat_minor": 0
}