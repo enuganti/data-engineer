{
 "cells": [
  {
   "cell_type": "markdown",
   "metadata": {
    "application/vnd.databricks.v1+cell": {
     "cellMetadata": {},
     "inputWidgets": {},
     "nuid": "45a53353-21c9-4f13-b334-bedd5178dd6e",
     "showTitle": false,
     "tableResultSettingsMap": {},
     "title": ""
    }
   },
   "source": [
    "### **How to join multiple datasets?**\n",
    "\n",
    "- used to combine fields from **two or multiple** DataFrames by **chaining join()**.\n",
    "- how to **eliminate the duplicate columns** on the result DataFrame\n",
    "- Join is a **wider transformation** that does a lot of **shuffling**.\n",
    "- This notebook covers **inner join** and **left join**."
   ]
  },
  {
   "cell_type": "markdown",
   "metadata": {
    "application/vnd.databricks.v1+cell": {
     "cellMetadata": {},
     "inputWidgets": {},
     "nuid": "3e4ba849-b9f3-4041-ad45-f69904043c1e",
     "showTitle": false,
     "tableResultSettingsMap": {},
     "title": ""
    }
   },
   "source": [
    "**Syntax**\n",
    "\n",
    "     df1.join(df2, df1.emp_id == df2.emp_id, 'left')\n",
    "\n",
    "     df1.join(df2, on=[f.col('emp_id') == f.col('emp_id')], how='left')\n",
    "\n",
    "     df1.join(df2, on=[f.col('emp_id') == f.col('emp_id')], how='left') \\\n",
    "        .join(df3, on=[\"emp_dept_id\"], 'left')\n",
    "\n",
    "     df1.join(df2, [\"emp_id\"], 'left') \\\n",
    "        .join(df3, df1[\"emp_dept_id\"] == df3[\"dept_id\"], 'left')"
   ]
  },
  {
   "cell_type": "code",
   "execution_count": 0,
   "metadata": {
    "application/vnd.databricks.v1+cell": {
     "cellMetadata": {
      "byteLimit": 2048000,
      "rowLimit": 10000
     },
     "inputWidgets": {},
     "nuid": "3f4830e6-53a1-47f5-860f-1c24e9ab08f1",
     "showTitle": false,
     "tableResultSettingsMap": {},
     "title": ""
    }
   },
   "outputs": [
    {
     "output_type": "display_data",
     "data": {
      "text/html": [
       "<style scoped>\n",
       "  .table-result-container {\n",
       "    max-height: 300px;\n",
       "    overflow: auto;\n",
       "  }\n",
       "  table, th, td {\n",
       "    border: 1px solid black;\n",
       "    border-collapse: collapse;\n",
       "  }\n",
       "  th, td {\n",
       "    padding: 5px;\n",
       "  }\n",
       "  th {\n",
       "    text-align: left;\n",
       "  }\n",
       "</style><div class='table-result-container'><table class='table-result'><thead style='background-color: white'><tr><th>path</th><th>name</th><th>size</th><th>modificationTime</th></tr></thead><tbody><tr><td>dbfs:/FileStore/tables/Flatten Nested Array.json</td><td>Flatten Nested Array.json</td><td>3756</td><td>1718618620000</td></tr><tr><td>dbfs:/FileStore/tables/MarketPrice-1.csv</td><td>MarketPrice-1.csv</td><td>19528</td><td>1719656512000</td></tr><tr><td>dbfs:/FileStore/tables/MarketPrice.csv</td><td>MarketPrice.csv</td><td>19528</td><td>1719656208000</td></tr><tr><td>dbfs:/FileStore/tables/RunningData_Rev02.csv</td><td>RunningData_Rev02.csv</td><td>1222</td><td>1719810609000</td></tr><tr><td>dbfs:/FileStore/tables/RunningData_Rev03.csv</td><td>RunningData_Rev03.csv</td><td>1216</td><td>1719810946000</td></tr><tr><td>dbfs:/FileStore/tables/SalesData_Rev02.csv</td><td>SalesData_Rev02.csv</td><td>472</td><td>1719810784000</td></tr><tr><td>dbfs:/FileStore/tables/SalesData_Rev03.csv</td><td>SalesData_Rev03.csv</td><td>460</td><td>1719810973000</td></tr><tr><td>dbfs:/FileStore/tables/Sales_Collect_Rev02.csv</td><td>Sales_Collect_Rev02.csv</td><td>166107</td><td>1719810826000</td></tr><tr><td>dbfs:/FileStore/tables/Sales_Collect_Rev03.csv</td><td>Sales_Collect_Rev03.csv</td><td>182828</td><td>1719811001000</td></tr><tr><td>dbfs:/FileStore/tables/StructType-1.csv</td><td>StructType-1.csv</td><td>648</td><td>1717934508000</td></tr><tr><td>dbfs:/FileStore/tables/StructType-2.csv</td><td>StructType-2.csv</td><td>648</td><td>1717935891000</td></tr><tr><td>dbfs:/FileStore/tables/StructType-3.csv</td><td>StructType-3.csv</td><td>648</td><td>1717936009000</td></tr><tr><td>dbfs:/FileStore/tables/StructType-4.csv</td><td>StructType-4.csv</td><td>648</td><td>1717936144000</td></tr><tr><td>dbfs:/FileStore/tables/StructType-5.csv</td><td>StructType-5.csv</td><td>648</td><td>1717936276000</td></tr><tr><td>dbfs:/FileStore/tables/StructType.csv</td><td>StructType.csv</td><td>648</td><td>1717934306000</td></tr><tr><td>dbfs:/FileStore/tables/iterate_columns.csv</td><td>iterate_columns.csv</td><td>2023849</td><td>1719767610000</td></tr><tr><td>dbfs:/FileStore/tables/person-1.json</td><td>person-1.json</td><td>4608</td><td>1718609578000</td></tr><tr><td>dbfs:/FileStore/tables/person-2.json</td><td>person-2.json</td><td>4616</td><td>1718610165000</td></tr><tr><td>dbfs:/FileStore/tables/person.json</td><td>person.json</td><td>4616</td><td>1718609425000</td></tr><tr><td>dbfs:/FileStore/tables/posexplode.txt</td><td>posexplode.txt</td><td>264</td><td>1718525465000</td></tr><tr><td>dbfs:/FileStore/tables/titanic.csv</td><td>titanic.csv</td><td>60302</td><td>1717853233000</td></tr></tbody></table></div>"
      ]
     },
     "metadata": {
      "application/vnd.databricks.v1+output": {
       "addedWidgets": {},
       "aggData": [],
       "aggError": "",
       "aggOverflow": false,
       "aggSchema": [],
       "aggSeriesLimitReached": false,
       "aggType": "",
       "arguments": {},
       "columnCustomDisplayInfos": {},
       "data": [
        [
         "dbfs:/FileStore/tables/Flatten Nested Array.json",
         "Flatten Nested Array.json",
         3756,
         1718618620000
        ],
        [
         "dbfs:/FileStore/tables/MarketPrice-1.csv",
         "MarketPrice-1.csv",
         19528,
         1719656512000
        ],
        [
         "dbfs:/FileStore/tables/MarketPrice.csv",
         "MarketPrice.csv",
         19528,
         1719656208000
        ],
        [
         "dbfs:/FileStore/tables/RunningData_Rev02.csv",
         "RunningData_Rev02.csv",
         1222,
         1719810609000
        ],
        [
         "dbfs:/FileStore/tables/RunningData_Rev03.csv",
         "RunningData_Rev03.csv",
         1216,
         1719810946000
        ],
        [
         "dbfs:/FileStore/tables/SalesData_Rev02.csv",
         "SalesData_Rev02.csv",
         472,
         1719810784000
        ],
        [
         "dbfs:/FileStore/tables/SalesData_Rev03.csv",
         "SalesData_Rev03.csv",
         460,
         1719810973000
        ],
        [
         "dbfs:/FileStore/tables/Sales_Collect_Rev02.csv",
         "Sales_Collect_Rev02.csv",
         166107,
         1719810826000
        ],
        [
         "dbfs:/FileStore/tables/Sales_Collect_Rev03.csv",
         "Sales_Collect_Rev03.csv",
         182828,
         1719811001000
        ],
        [
         "dbfs:/FileStore/tables/StructType-1.csv",
         "StructType-1.csv",
         648,
         1717934508000
        ],
        [
         "dbfs:/FileStore/tables/StructType-2.csv",
         "StructType-2.csv",
         648,
         1717935891000
        ],
        [
         "dbfs:/FileStore/tables/StructType-3.csv",
         "StructType-3.csv",
         648,
         1717936009000
        ],
        [
         "dbfs:/FileStore/tables/StructType-4.csv",
         "StructType-4.csv",
         648,
         1717936144000
        ],
        [
         "dbfs:/FileStore/tables/StructType-5.csv",
         "StructType-5.csv",
         648,
         1717936276000
        ],
        [
         "dbfs:/FileStore/tables/StructType.csv",
         "StructType.csv",
         648,
         1717934306000
        ],
        [
         "dbfs:/FileStore/tables/iterate_columns.csv",
         "iterate_columns.csv",
         2023849,
         1719767610000
        ],
        [
         "dbfs:/FileStore/tables/person-1.json",
         "person-1.json",
         4608,
         1718609578000
        ],
        [
         "dbfs:/FileStore/tables/person-2.json",
         "person-2.json",
         4616,
         1718610165000
        ],
        [
         "dbfs:/FileStore/tables/person.json",
         "person.json",
         4616,
         1718609425000
        ],
        [
         "dbfs:/FileStore/tables/posexplode.txt",
         "posexplode.txt",
         264,
         1718525465000
        ],
        [
         "dbfs:/FileStore/tables/titanic.csv",
         "titanic.csv",
         60302,
         1717853233000
        ]
       ],
       "datasetInfos": [],
       "dbfsResultPath": null,
       "isJsonSchema": true,
       "metadata": {
        "isDbfsCommandResult": false
       },
       "overflow": false,
       "plotOptions": {
        "customPlotOptions": {},
        "displayType": "table",
        "pivotAggregation": null,
        "pivotColumns": null,
        "xColumns": null,
        "yColumns": null
       },
       "removedWidgets": [],
       "schema": [
        {
         "metadata": "{}",
         "name": "path",
         "type": "\"string\""
        },
        {
         "metadata": "{}",
         "name": "name",
         "type": "\"string\""
        },
        {
         "metadata": "{}",
         "name": "size",
         "type": "\"long\""
        },
        {
         "metadata": "{}",
         "name": "modificationTime",
         "type": "\"long\""
        }
       ],
       "type": "table"
      }
     },
     "output_type": "display_data"
    }
   ],
   "source": [
    "%fs ls /FileStore/tables/"
   ]
  },
  {
   "cell_type": "code",
   "execution_count": 0,
   "metadata": {
    "application/vnd.databricks.v1+cell": {
     "cellMetadata": {
      "byteLimit": 2048000,
      "rowLimit": 10000
     },
     "inputWidgets": {},
     "nuid": "ae45c4a4-cdfd-4425-be2a-cee772ee3910",
     "showTitle": false,
     "tableResultSettingsMap": {},
     "title": ""
    }
   },
   "outputs": [],
   "source": [
    "import pyspark.sql.functions  as f\n",
    "from pyspark.sql.functions import col\n",
    "from pyspark.sql.types import StringType, DoubleType, LongType"
   ]
  },
  {
   "cell_type": "markdown",
   "metadata": {
    "application/vnd.databricks.v1+cell": {
     "cellMetadata": {},
     "inputWidgets": {},
     "nuid": "a0e22855-2319-48ea-9a47-3651b0d25e03",
     "showTitle": false,
     "tableResultSettingsMap": {},
     "title": ""
    }
   },
   "source": [
    "#### **Ex 01**\n",
    "\n",
    "- How to join three datasets **Emp, Address and Dept** datasets.\n",
    "- Inner join, this is the **default join** and it’s mostly used\n",
    "- **Inner Join** joins two DataFrames on **key** columns, and where keys **don’t match** the rows get **dropped from both datasets**."
   ]
  },
  {
   "cell_type": "code",
   "execution_count": 0,
   "metadata": {
    "application/vnd.databricks.v1+cell": {
     "cellMetadata": {
      "byteLimit": 2048000,
      "rowLimit": 10000
     },
     "inputWidgets": {},
     "nuid": "83458ab2-1a4d-4a6b-ab42-b2a3610eac62",
     "showTitle": true,
     "tableResultSettingsMap": {},
     "title": "Dataset 1: Employee"
    }
   },
   "outputs": [
    {
     "output_type": "display_data",
     "data": {
      "text/html": [
       "<style scoped>\n",
       "  .table-result-container {\n",
       "    max-height: 300px;\n",
       "    overflow: auto;\n",
       "  }\n",
       "  table, th, td {\n",
       "    border: 1px solid black;\n",
       "    border-collapse: collapse;\n",
       "  }\n",
       "  th, td {\n",
       "    padding: 5px;\n",
       "  }\n",
       "  th {\n",
       "    text-align: left;\n",
       "  }\n",
       "</style><div class='table-result-container'><table class='table-result'><thead style='background-color: white'><tr><th>emp_id</th><th>name</th><th>emp_dept_id</th></tr></thead><tbody><tr><td>1</td><td>Smith</td><td>10</td></tr><tr><td>2</td><td>Rose</td><td>20</td></tr><tr><td>3</td><td>Williams</td><td>10</td></tr><tr><td>4</td><td>Jones</td><td>30</td></tr></tbody></table></div>"
      ]
     },
     "metadata": {
      "application/vnd.databricks.v1+output": {
       "addedWidgets": {},
       "aggData": [],
       "aggError": "",
       "aggOverflow": false,
       "aggSchema": [],
       "aggSeriesLimitReached": false,
       "aggType": "",
       "arguments": {},
       "columnCustomDisplayInfos": {},
       "data": [
        [
         1,
         "Smith",
         10
        ],
        [
         2,
         "Rose",
         20
        ],
        [
         3,
         "Williams",
         10
        ],
        [
         4,
         "Jones",
         30
        ]
       ],
       "datasetInfos": [],
       "dbfsResultPath": null,
       "isJsonSchema": true,
       "metadata": {},
       "overflow": false,
       "plotOptions": {
        "customPlotOptions": {},
        "displayType": "table",
        "pivotAggregation": null,
        "pivotColumns": null,
        "xColumns": null,
        "yColumns": null
       },
       "removedWidgets": [],
       "schema": [
        {
         "metadata": "{}",
         "name": "emp_id",
         "type": "\"long\""
        },
        {
         "metadata": "{}",
         "name": "name",
         "type": "\"string\""
        },
        {
         "metadata": "{}",
         "name": "emp_dept_id",
         "type": "\"long\""
        }
       ],
       "type": "table"
      }
     },
     "output_type": "display_data"
    }
   ],
   "source": [
    "# Emp Table\n",
    "\n",
    "emp_data = [(1,\"Smith\",10), (2,\"Rose\",20), (3,\"Williams\",10), (4,\"Jones\",30)]\n",
    "emp_Columns = [\"emp_id\",\"name\",\"emp_dept_id\"]\n",
    "\n",
    "df_emp = spark.createDataFrame(emp_data, emp_Columns)\n",
    "display(df_emp)"
   ]
  },
  {
   "cell_type": "code",
   "execution_count": 0,
   "metadata": {
    "application/vnd.databricks.v1+cell": {
     "cellMetadata": {
      "byteLimit": 2048000,
      "rowLimit": 10000
     },
     "inputWidgets": {},
     "nuid": "a1efdfe8-5ec8-43c7-b981-20e7b51cb41c",
     "showTitle": true,
     "tableResultSettingsMap": {},
     "title": "Dataset 2: Address"
    }
   },
   "outputs": [
    {
     "output_type": "display_data",
     "data": {
      "text/html": [
       "<style scoped>\n",
       "  .table-result-container {\n",
       "    max-height: 300px;\n",
       "    overflow: auto;\n",
       "  }\n",
       "  table, th, td {\n",
       "    border: 1px solid black;\n",
       "    border-collapse: collapse;\n",
       "  }\n",
       "  th, td {\n",
       "    padding: 5px;\n",
       "  }\n",
       "  th {\n",
       "    text-align: left;\n",
       "  }\n",
       "</style><div class='table-result-container'><table class='table-result'><thead style='background-color: white'><tr><th>emp_id</th><th>addline1</th><th>city</th><th>state</th></tr></thead><tbody><tr><td>1</td><td>1523 Main St</td><td>SFO</td><td>CA</td></tr><tr><td>2</td><td>3453 Orange St</td><td>SFO</td><td>NY</td></tr><tr><td>3</td><td>34 Warner St</td><td>Jersey</td><td>NJ</td></tr><tr><td>4</td><td>221 Cavalier St</td><td>Newark</td><td>DE</td></tr><tr><td>5</td><td>789 Walnut St</td><td>Sandiago</td><td>CA</td></tr></tbody></table></div>"
      ]
     },
     "metadata": {
      "application/vnd.databricks.v1+output": {
       "addedWidgets": {},
       "aggData": [],
       "aggError": "",
       "aggOverflow": false,
       "aggSchema": [],
       "aggSeriesLimitReached": false,
       "aggType": "",
       "arguments": {},
       "columnCustomDisplayInfos": {},
       "data": [
        [
         1,
         "1523 Main St",
         "SFO",
         "CA"
        ],
        [
         2,
         "3453 Orange St",
         "SFO",
         "NY"
        ],
        [
         3,
         "34 Warner St",
         "Jersey",
         "NJ"
        ],
        [
         4,
         "221 Cavalier St",
         "Newark",
         "DE"
        ],
        [
         5,
         "789 Walnut St",
         "Sandiago",
         "CA"
        ]
       ],
       "datasetInfos": [],
       "dbfsResultPath": null,
       "isJsonSchema": true,
       "metadata": {},
       "overflow": false,
       "plotOptions": {
        "customPlotOptions": {},
        "displayType": "table",
        "pivotAggregation": null,
        "pivotColumns": null,
        "xColumns": null,
        "yColumns": null
       },
       "removedWidgets": [],
       "schema": [
        {
         "metadata": "{}",
         "name": "emp_id",
         "type": "\"long\""
        },
        {
         "metadata": "{}",
         "name": "addline1",
         "type": "\"string\""
        },
        {
         "metadata": "{}",
         "name": "city",
         "type": "\"string\""
        },
        {
         "metadata": "{}",
         "name": "state",
         "type": "\"string\""
        }
       ],
       "type": "table"
      }
     },
     "output_type": "display_data"
    }
   ],
   "source": [
    "# Address Table\n",
    "\n",
    "add_data=[(1,\"1523 Main St\",\"SFO\",\"CA\"),\n",
    "          (2,\"3453 Orange St\",\"SFO\",\"NY\"),\n",
    "          (3,\"34 Warner St\",\"Jersey\",\"NJ\"),\n",
    "          (4,\"221 Cavalier St\",\"Newark\",\"DE\"),\n",
    "          (5,\"789 Walnut St\",\"Sandiago\",\"CA\")\n",
    "         ]\n",
    "add_Columns = [\"emp_id\",\"addline1\",\"city\",\"state\"]\n",
    "\n",
    "df_add = spark.createDataFrame(add_data, add_Columns)\n",
    "display(df_add)"
   ]
  },
  {
   "cell_type": "code",
   "execution_count": 0,
   "metadata": {
    "application/vnd.databricks.v1+cell": {
     "cellMetadata": {
      "byteLimit": 2048000,
      "rowLimit": 10000
     },
     "inputWidgets": {},
     "nuid": "d8f64a05-fcf1-48ee-87ff-6249712fb46f",
     "showTitle": true,
     "tableResultSettingsMap": {},
     "title": "Dataset 3: Department"
    }
   },
   "outputs": [
    {
     "output_type": "display_data",
     "data": {
      "text/html": [
       "<style scoped>\n",
       "  .table-result-container {\n",
       "    max-height: 300px;\n",
       "    overflow: auto;\n",
       "  }\n",
       "  table, th, td {\n",
       "    border: 1px solid black;\n",
       "    border-collapse: collapse;\n",
       "  }\n",
       "  th, td {\n",
       "    padding: 5px;\n",
       "  }\n",
       "  th {\n",
       "    text-align: left;\n",
       "  }\n",
       "</style><div class='table-result-container'><table class='table-result'><thead style='background-color: white'><tr><th>dept_name</th><th>dept_id</th></tr></thead><tbody><tr><td>Finance</td><td>10</td></tr><tr><td>Marketing</td><td>20</td></tr><tr><td>Sales</td><td>30</td></tr><tr><td>IT</td><td>40</td></tr></tbody></table></div>"
      ]
     },
     "metadata": {
      "application/vnd.databricks.v1+output": {
       "addedWidgets": {},
       "aggData": [],
       "aggError": "",
       "aggOverflow": false,
       "aggSchema": [],
       "aggSeriesLimitReached": false,
       "aggType": "",
       "arguments": {},
       "columnCustomDisplayInfos": {},
       "data": [
        [
         "Finance",
         10
        ],
        [
         "Marketing",
         20
        ],
        [
         "Sales",
         30
        ],
        [
         "IT",
         40
        ]
       ],
       "datasetInfos": [],
       "dbfsResultPath": null,
       "isJsonSchema": true,
       "metadata": {},
       "overflow": false,
       "plotOptions": {
        "customPlotOptions": {},
        "displayType": "table",
        "pivotAggregation": null,
        "pivotColumns": null,
        "xColumns": null,
        "yColumns": null
       },
       "removedWidgets": [],
       "schema": [
        {
         "metadata": "{}",
         "name": "dept_name",
         "type": "\"string\""
        },
        {
         "metadata": "{}",
         "name": "dept_id",
         "type": "\"long\""
        }
       ],
       "type": "table"
      }
     },
     "output_type": "display_data"
    }
   ],
   "source": [
    "# Dept Table\n",
    "\n",
    "dept_data = [(\"Finance\",10), (\"Marketing\",20), (\"Sales\",30),(\"IT\",40)]\n",
    "dept_Columns = [\"dept_name\",\"dept_id\"]\n",
    "\n",
    "df_dept = spark.createDataFrame(dept_data, dept_Columns)  \n",
    "display(df_dept)"
   ]
  },
  {
   "cell_type": "code",
   "execution_count": 0,
   "metadata": {
    "application/vnd.databricks.v1+cell": {
     "cellMetadata": {
      "byteLimit": 2048000,
      "rowLimit": 10000
     },
     "inputWidgets": {},
     "nuid": "e586fea4-e68b-4e9d-8b5d-a2b01aec7518",
     "showTitle": true,
     "tableResultSettingsMap": {},
     "title": "join Dataset 1 (Employee) & Dataset 2 (Address)"
    }
   },
   "outputs": [
    {
     "output_type": "display_data",
     "data": {
      "text/html": [
       "<style scoped>\n",
       "  .table-result-container {\n",
       "    max-height: 300px;\n",
       "    overflow: auto;\n",
       "  }\n",
       "  table, th, td {\n",
       "    border: 1px solid black;\n",
       "    border-collapse: collapse;\n",
       "  }\n",
       "  th, td {\n",
       "    padding: 5px;\n",
       "  }\n",
       "  th {\n",
       "    text-align: left;\n",
       "  }\n",
       "</style><div class='table-result-container'><table class='table-result'><thead style='background-color: white'><tr><th>emp_id</th><th>name</th><th>emp_dept_id</th><th>emp_id</th><th>addline1</th><th>city</th><th>state</th></tr></thead><tbody><tr><td>1</td><td>Smith</td><td>10</td><td>1</td><td>1523 Main St</td><td>SFO</td><td>CA</td></tr><tr><td>2</td><td>Rose</td><td>20</td><td>2</td><td>3453 Orange St</td><td>SFO</td><td>NY</td></tr><tr><td>3</td><td>Williams</td><td>10</td><td>3</td><td>34 Warner St</td><td>Jersey</td><td>NJ</td></tr><tr><td>4</td><td>Jones</td><td>30</td><td>4</td><td>221 Cavalier St</td><td>Newark</td><td>DE</td></tr></tbody></table></div>"
      ]
     },
     "metadata": {
      "application/vnd.databricks.v1+output": {
       "addedWidgets": {},
       "aggData": [],
       "aggError": "",
       "aggOverflow": false,
       "aggSchema": [],
       "aggSeriesLimitReached": false,
       "aggType": "",
       "arguments": {},
       "columnCustomDisplayInfos": {},
       "data": [
        [
         1,
         "Smith",
         10,
         1,
         "1523 Main St",
         "SFO",
         "CA"
        ],
        [
         2,
         "Rose",
         20,
         2,
         "3453 Orange St",
         "SFO",
         "NY"
        ],
        [
         3,
         "Williams",
         10,
         3,
         "34 Warner St",
         "Jersey",
         "NJ"
        ],
        [
         4,
         "Jones",
         30,
         4,
         "221 Cavalier St",
         "Newark",
         "DE"
        ]
       ],
       "datasetInfos": [],
       "dbfsResultPath": null,
       "isJsonSchema": true,
       "metadata": {},
       "overflow": false,
       "plotOptions": {
        "customPlotOptions": {},
        "displayType": "table",
        "pivotAggregation": null,
        "pivotColumns": null,
        "xColumns": null,
        "yColumns": null
       },
       "removedWidgets": [],
       "schema": [
        {
         "metadata": "{}",
         "name": "emp_id",
         "type": "\"long\""
        },
        {
         "metadata": "{}",
         "name": "name",
         "type": "\"string\""
        },
        {
         "metadata": "{}",
         "name": "emp_dept_id",
         "type": "\"long\""
        },
        {
         "metadata": "{}",
         "name": "emp_id",
         "type": "\"long\""
        },
        {
         "metadata": "{}",
         "name": "addline1",
         "type": "\"string\""
        },
        {
         "metadata": "{}",
         "name": "city",
         "type": "\"string\""
        },
        {
         "metadata": "{}",
         "name": "state",
         "type": "\"string\""
        }
       ],
       "type": "table"
      }
     },
     "output_type": "display_data"
    }
   ],
   "source": [
    "# join Employee and Address datasets\n",
    "df_emp.join(df_add, df_emp.emp_id == df_add.emp_id, 'left').display()"
   ]
  },
  {
   "cell_type": "markdown",
   "metadata": {
    "application/vnd.databricks.v1+cell": {
     "cellMetadata": {},
     "inputWidgets": {},
     "nuid": "e3997bbe-697d-4d86-9d4b-5ec2576d9583",
     "showTitle": false,
     "tableResultSettingsMap": {},
     "title": ""
    }
   },
   "source": [
    "#### **Drop Duplicate Columns After Join**\n",
    "- If you notice above Join DataFrame **emp_id** is **duplicated** on the result, In order to remove this duplicate column, specify the join column as an **array type or string**.\n",
    "\n",
    "- In order to use join columns as an **array**, you need to have the **same join columns** on **both DataFrames**."
   ]
  },
  {
   "cell_type": "code",
   "execution_count": 0,
   "metadata": {
    "application/vnd.databricks.v1+cell": {
     "cellMetadata": {
      "byteLimit": 2048000,
      "rowLimit": 10000
     },
     "inputWidgets": {},
     "nuid": "2265b9af-c603-4745-8aa3-9bff3f7f436f",
     "showTitle": true,
     "tableResultSettingsMap": {},
     "title": "Drop Duplicate Columns (emp_id) After Join Employee & Address"
    }
   },
   "outputs": [
    {
     "output_type": "display_data",
     "data": {
      "text/html": [
       "<style scoped>\n",
       "  .table-result-container {\n",
       "    max-height: 300px;\n",
       "    overflow: auto;\n",
       "  }\n",
       "  table, th, td {\n",
       "    border: 1px solid black;\n",
       "    border-collapse: collapse;\n",
       "  }\n",
       "  th, td {\n",
       "    padding: 5px;\n",
       "  }\n",
       "  th {\n",
       "    text-align: left;\n",
       "  }\n",
       "</style><div class='table-result-container'><table class='table-result'><thead style='background-color: white'><tr><th>emp_id</th><th>name</th><th>emp_dept_id</th><th>addline1</th><th>city</th><th>state</th></tr></thead><tbody><tr><td>1</td><td>Smith</td><td>10</td><td>1523 Main St</td><td>SFO</td><td>CA</td></tr><tr><td>2</td><td>Rose</td><td>20</td><td>3453 Orange St</td><td>SFO</td><td>NY</td></tr><tr><td>3</td><td>Williams</td><td>10</td><td>34 Warner St</td><td>Jersey</td><td>NJ</td></tr><tr><td>4</td><td>Jones</td><td>30</td><td>221 Cavalier St</td><td>Newark</td><td>DE</td></tr></tbody></table></div>"
      ]
     },
     "metadata": {
      "application/vnd.databricks.v1+output": {
       "addedWidgets": {},
       "aggData": [],
       "aggError": "",
       "aggOverflow": false,
       "aggSchema": [],
       "aggSeriesLimitReached": false,
       "aggType": "",
       "arguments": {},
       "columnCustomDisplayInfos": {},
       "data": [
        [
         1,
         "Smith",
         10,
         "1523 Main St",
         "SFO",
         "CA"
        ],
        [
         2,
         "Rose",
         20,
         "3453 Orange St",
         "SFO",
         "NY"
        ],
        [
         3,
         "Williams",
         10,
         "34 Warner St",
         "Jersey",
         "NJ"
        ],
        [
         4,
         "Jones",
         30,
         "221 Cavalier St",
         "Newark",
         "DE"
        ]
       ],
       "datasetInfos": [],
       "dbfsResultPath": null,
       "isJsonSchema": true,
       "metadata": {},
       "overflow": false,
       "plotOptions": {
        "customPlotOptions": {},
        "displayType": "table",
        "pivotAggregation": null,
        "pivotColumns": null,
        "xColumns": null,
        "yColumns": null
       },
       "removedWidgets": [],
       "schema": [
        {
         "metadata": "{}",
         "name": "emp_id",
         "type": "\"long\""
        },
        {
         "metadata": "{}",
         "name": "name",
         "type": "\"string\""
        },
        {
         "metadata": "{}",
         "name": "emp_dept_id",
         "type": "\"long\""
        },
        {
         "metadata": "{}",
         "name": "addline1",
         "type": "\"string\""
        },
        {
         "metadata": "{}",
         "name": "city",
         "type": "\"string\""
        },
        {
         "metadata": "{}",
         "name": "state",
         "type": "\"string\""
        }
       ],
       "type": "table"
      }
     },
     "output_type": "display_data"
    }
   ],
   "source": [
    "# Removes duplicate columns emp_id\n",
    "df_emp.join(df_add, [\"emp_id\"], 'left').display()"
   ]
  },
  {
   "cell_type": "code",
   "execution_count": 0,
   "metadata": {
    "application/vnd.databricks.v1+cell": {
     "cellMetadata": {
      "byteLimit": 2048000,
      "rowLimit": 10000
     },
     "inputWidgets": {},
     "nuid": "e9eab57c-106b-433f-84a9-8ba34f4361fe",
     "showTitle": true,
     "tableResultSettingsMap": {},
     "title": "join Dataset 1 (Employee), Dataset 2 (Address) & Dataset 3 (Department)"
    }
   },
   "outputs": [
    {
     "output_type": "display_data",
     "data": {
      "text/html": [
       "<style scoped>\n",
       "  .table-result-container {\n",
       "    max-height: 300px;\n",
       "    overflow: auto;\n",
       "  }\n",
       "  table, th, td {\n",
       "    border: 1px solid black;\n",
       "    border-collapse: collapse;\n",
       "  }\n",
       "  th, td {\n",
       "    padding: 5px;\n",
       "  }\n",
       "  th {\n",
       "    text-align: left;\n",
       "  }\n",
       "</style><div class='table-result-container'><table class='table-result'><thead style='background-color: white'><tr><th>emp_id</th><th>name</th><th>emp_dept_id</th><th>addline1</th><th>city</th><th>state</th><th>dept_name</th><th>dept_id</th></tr></thead><tbody><tr><td>1</td><td>Smith</td><td>10</td><td>1523 Main St</td><td>SFO</td><td>CA</td><td>Finance</td><td>10</td></tr><tr><td>2</td><td>Rose</td><td>20</td><td>3453 Orange St</td><td>SFO</td><td>NY</td><td>Marketing</td><td>20</td></tr><tr><td>3</td><td>Williams</td><td>10</td><td>34 Warner St</td><td>Jersey</td><td>NJ</td><td>Finance</td><td>10</td></tr><tr><td>4</td><td>Jones</td><td>30</td><td>221 Cavalier St</td><td>Newark</td><td>DE</td><td>Sales</td><td>30</td></tr></tbody></table></div>"
      ]
     },
     "metadata": {
      "application/vnd.databricks.v1+output": {
       "addedWidgets": {},
       "aggData": [],
       "aggError": "",
       "aggOverflow": false,
       "aggSchema": [],
       "aggSeriesLimitReached": false,
       "aggType": "",
       "arguments": {},
       "columnCustomDisplayInfos": {},
       "data": [
        [
         1,
         "Smith",
         10,
         "1523 Main St",
         "SFO",
         "CA",
         "Finance",
         10
        ],
        [
         2,
         "Rose",
         20,
         "3453 Orange St",
         "SFO",
         "NY",
         "Marketing",
         20
        ],
        [
         3,
         "Williams",
         10,
         "34 Warner St",
         "Jersey",
         "NJ",
         "Finance",
         10
        ],
        [
         4,
         "Jones",
         30,
         "221 Cavalier St",
         "Newark",
         "DE",
         "Sales",
         30
        ]
       ],
       "datasetInfos": [],
       "dbfsResultPath": null,
       "isJsonSchema": true,
       "metadata": {},
       "overflow": false,
       "plotOptions": {
        "customPlotOptions": {},
        "displayType": "table",
        "pivotAggregation": null,
        "pivotColumns": null,
        "xColumns": null,
        "yColumns": null
       },
       "removedWidgets": [],
       "schema": [
        {
         "metadata": "{}",
         "name": "emp_id",
         "type": "\"long\""
        },
        {
         "metadata": "{}",
         "name": "name",
         "type": "\"string\""
        },
        {
         "metadata": "{}",
         "name": "emp_dept_id",
         "type": "\"long\""
        },
        {
         "metadata": "{}",
         "name": "addline1",
         "type": "\"string\""
        },
        {
         "metadata": "{}",
         "name": "city",
         "type": "\"string\""
        },
        {
         "metadata": "{}",
         "name": "state",
         "type": "\"string\""
        },
        {
         "metadata": "{}",
         "name": "dept_name",
         "type": "\"string\""
        },
        {
         "metadata": "{}",
         "name": "dept_id",
         "type": "\"long\""
        }
       ],
       "type": "table"
      }
     },
     "output_type": "display_data"
    }
   ],
   "source": [
    "# Join Multiple DataFrames (Employee, Address and Department) by chaining\n",
    "df_emp.join(df_add, [\"emp_id\"], 'left') \\\n",
    "      .join(df_dept, df_emp[\"emp_dept_id\"] == df_dept[\"dept_id\"], 'left') \\\n",
    "      .display()"
   ]
  },
  {
   "cell_type": "markdown",
   "metadata": {
    "application/vnd.databricks.v1+cell": {
     "cellMetadata": {},
     "inputWidgets": {},
     "nuid": "4d3d3919-1523-44bf-97c2-2eb4f32eda73",
     "showTitle": false,
     "tableResultSettingsMap": {},
     "title": ""
    }
   },
   "source": [
    "#### **Ex 02**\n",
    "\n",
    "- Read all input .csv files\n",
    "  - Sales_Collect_Rev02.csv\n",
    "  - SalesData_Rev02.csv\n",
    "  - RunningData_Rev02.csv\n",
    "\n",
    "- join two datasets:\n",
    "  - **Sales_Collect_Rev02** and **SalesData_Rev02**\n",
    "- join three datasets:\n",
    "  - **Sales_Collect_Rev02**, **SalesData_Rev02** and **RunningData_Rev02**"
   ]
  },
  {
   "cell_type": "code",
   "execution_count": 0,
   "metadata": {
    "application/vnd.databricks.v1+cell": {
     "cellMetadata": {
      "byteLimit": 2048000,
      "rowLimit": 10000
     },
     "inputWidgets": {},
     "nuid": "bfd1c100-d338-4670-b0b3-e2172e8f690a",
     "showTitle": true,
     "tableResultSettingsMap": {},
     "title": "Read: Sales_Collect_Rev02.csv"
    }
   },
   "outputs": [
    {
     "output_type": "display_data",
     "data": {
      "text/html": [
       "<style scoped>\n",
       "  .table-result-container {\n",
       "    max-height: 300px;\n",
       "    overflow: auto;\n",
       "  }\n",
       "  table, th, td {\n",
       "    border: 1px solid black;\n",
       "    border-collapse: collapse;\n",
       "  }\n",
       "  th, td {\n",
       "    padding: 5px;\n",
       "  }\n",
       "  th {\n",
       "    text-align: left;\n",
       "  }\n",
       "</style><div class='table-result-container'><table class='table-result'><thead style='background-color: white'><tr><th>Id</th><th>dept_Id</th><th>SubDept_Id</th><th>Vehicle_Id</th><th>Vehicle_Profile_Id</th><th>Description</th><th>Vehicle_Price_Id</th><th>Vehicle_Showroom_Price</th><th>Vehicle_Showroom_Delta</th><th>Vehicle_Showroom_Payment_Date</th><th>Average</th><th>Increment</th><th>Target_Simulation_Id</th></tr></thead><tbody><tr><td>257</td><td>257</td><td>1</td><td>1</td><td>0</td><td>Baleno</td><td>6</td><td>72567.98</td><td>5678.01</td><td>2023-02-20</td><td>2381.657773</td><td>0.0</td><td>1071</td></tr><tr><td>264</td><td>264</td><td>1</td><td>0</td><td>0</td><td>Engine_Base</td><td>90</td><td>91768.98</td><td>12678.01</td><td>2025-06-30</td><td>553.8461539</td><td>0.0</td><td>1063</td></tr><tr><td>265</td><td>265</td><td>1</td><td>0</td><td>0</td><td>Baleno</td><td>83</td><td>8400.123</td><td>1450.01</td><td>2023-12-27</td><td>-7199.999999</td><td>0.0</td><td>1065</td></tr><tr><td>266</td><td>266</td><td>1</td><td>0</td><td>0</td><td>Engine_Base</td><td>76</td><td>77345.665</td><td>3456.01</td><td>2024-04-30</td><td>7200.0</td><td>0.0</td><td>1063</td></tr><tr><td>267</td><td>267</td><td>1</td><td>0</td><td>0</td><td>Suzuki Swift</td><td>96</td><td>974567.11</td><td>110.01</td><td>2025-12-31</td><td>1404.878049</td><td>0.0</td><td>1063</td></tr><tr><td>268</td><td>268</td><td>1</td><td>1</td><td>0</td><td>Suzuki Swift</td><td>48</td><td>49.0</td><td>0.01</td><td>2023-03-20</td><td>834.1253</td><td>0.0</td><td>1068</td></tr><tr><td>270</td><td>270</td><td>1</td><td>0</td><td>0</td><td>Wagon R</td><td>76</td><td>77345.665</td><td>3456.01</td><td>2024-03-26</td><td>7200.0</td><td>0.0</td><td>1065</td></tr><tr><td>271</td><td>271</td><td>1</td><td>0</td><td>0</td><td>Engine_Base</td><td>34</td><td>35.0</td><td>12340.0123</td><td>2023-03-20</td><td>1668.2506</td><td>0.0</td><td>1068</td></tr><tr><td>272</td><td>272</td><td>1</td><td>1</td><td>0</td><td>Creta</td><td>29</td><td>30.0</td><td>12340.0123</td><td>2023-03-20</td><td>-2383.215143</td><td>0.0</td><td>1071</td></tr><tr><td>277</td><td>277</td><td>1</td><td>0</td><td>0</td><td>Brezza</td><td>73</td><td>74567.34567</td><td>3456.01</td><td>2023-12-28</td><td>7440.0</td><td>0.0</td><td>1065</td></tr></tbody></table></div>"
      ]
     },
     "metadata": {
      "application/vnd.databricks.v1+output": {
       "addedWidgets": {},
       "aggData": [],
       "aggError": "",
       "aggOverflow": false,
       "aggSchema": [],
       "aggSeriesLimitReached": false,
       "aggType": "",
       "arguments": {},
       "columnCustomDisplayInfos": {},
       "data": [
        [
         257,
         257,
         1,
         1,
         0,
         "Baleno",
         6,
         72567.98,
         5678.01,
         "2023-02-20",
         2381.657773,
         0.0,
         1071
        ],
        [
         264,
         264,
         1,
         0,
         0,
         "Engine_Base",
         90,
         91768.98,
         12678.01,
         "2025-06-30",
         553.8461539,
         0.0,
         1063
        ],
        [
         265,
         265,
         1,
         0,
         0,
         "Baleno",
         83,
         8400.123,
         1450.01,
         "2023-12-27",
         -7199.999999,
         0.0,
         1065
        ],
        [
         266,
         266,
         1,
         0,
         0,
         "Engine_Base",
         76,
         77345.665,
         3456.01,
         "2024-04-30",
         7200.0,
         0.0,
         1063
        ],
        [
         267,
         267,
         1,
         0,
         0,
         "Suzuki Swift",
         96,
         974567.11,
         110.01,
         "2025-12-31",
         1404.878049,
         0.0,
         1063
        ],
        [
         268,
         268,
         1,
         1,
         0,
         "Suzuki Swift",
         48,
         49.0,
         0.01,
         "2023-03-20",
         834.1253,
         0.0,
         1068
        ],
        [
         270,
         270,
         1,
         0,
         0,
         "Wagon R",
         76,
         77345.665,
         3456.01,
         "2024-03-26",
         7200.0,
         0.0,
         1065
        ],
        [
         271,
         271,
         1,
         0,
         0,
         "Engine_Base",
         34,
         35.0,
         12340.0123,
         "2023-03-20",
         1668.2506,
         0.0,
         1068
        ],
        [
         272,
         272,
         1,
         1,
         0,
         "Creta",
         29,
         30.0,
         12340.0123,
         "2023-03-20",
         -2383.215143,
         0.0,
         1071
        ],
        [
         277,
         277,
         1,
         0,
         0,
         "Brezza",
         73,
         74567.34567,
         3456.01,
         "2023-12-28",
         7440.0,
         0.0,
         1065
        ]
       ],
       "datasetInfos": [],
       "dbfsResultPath": null,
       "isJsonSchema": true,
       "metadata": {},
       "overflow": false,
       "plotOptions": {
        "customPlotOptions": {},
        "displayType": "table",
        "pivotAggregation": null,
        "pivotColumns": null,
        "xColumns": null,
        "yColumns": null
       },
       "removedWidgets": [],
       "schema": [
        {
         "metadata": "{}",
         "name": "Id",
         "type": "\"integer\""
        },
        {
         "metadata": "{}",
         "name": "dept_Id",
         "type": "\"integer\""
        },
        {
         "metadata": "{}",
         "name": "SubDept_Id",
         "type": "\"integer\""
        },
        {
         "metadata": "{}",
         "name": "Vehicle_Id",
         "type": "\"integer\""
        },
        {
         "metadata": "{}",
         "name": "Vehicle_Profile_Id",
         "type": "\"integer\""
        },
        {
         "metadata": "{}",
         "name": "Description",
         "type": "\"string\""
        },
        {
         "metadata": "{}",
         "name": "Vehicle_Price_Id",
         "type": "\"integer\""
        },
        {
         "metadata": "{}",
         "name": "Vehicle_Showroom_Price",
         "type": "\"double\""
        },
        {
         "metadata": "{}",
         "name": "Vehicle_Showroom_Delta",
         "type": "\"double\""
        },
        {
         "metadata": "{\"__detected_date_formats\":\"M/d/yyyy\"}",
         "name": "Vehicle_Showroom_Payment_Date",
         "type": "\"date\""
        },
        {
         "metadata": "{}",
         "name": "Average",
         "type": "\"double\""
        },
        {
         "metadata": "{}",
         "name": "Increment",
         "type": "\"double\""
        },
        {
         "metadata": "{}",
         "name": "Target_Simulation_Id",
         "type": "\"integer\""
        }
       ],
       "type": "table"
      }
     },
     "output_type": "display_data"
    },
    {
     "output_type": "stream",
     "name": "stdout",
     "output_type": "stream",
     "text": [
      "root\n |-- Id: integer (nullable = true)\n |-- dept_Id: integer (nullable = true)\n |-- SubDept_Id: integer (nullable = true)\n |-- Vehicle_Id: integer (nullable = true)\n |-- Vehicle_Profile_Id: integer (nullable = true)\n |-- Description: string (nullable = true)\n |-- Vehicle_Price_Id: integer (nullable = true)\n |-- Vehicle_Showroom_Price: double (nullable = true)\n |-- Vehicle_Showroom_Delta: double (nullable = true)\n |-- Vehicle_Showroom_Payment_Date: date (nullable = true)\n |-- Average: double (nullable = true)\n |-- Increment: double (nullable = true)\n |-- Target_Simulation_Id: integer (nullable = true)\n\nNumber of Rows: 2087\n"
     ]
    }
   ],
   "source": [
    "# Read \"Sales_Collect_Rev02.csv\"\n",
    "Sales_Collect_Rev02 = spark.read.option('header',True).option(\"quote\", \"\\\"\").option('InferSchema',True).csv(\"/FileStore/tables/Sales_Collect_Rev02.csv\")\n",
    "\n",
    "display(Sales_Collect_Rev02.limit(10))\n",
    "Sales_Collect_Rev02.printSchema()\n",
    "print(\"Number of Rows:\", Sales_Collect_Rev02.count())"
   ]
  },
  {
   "cell_type": "code",
   "execution_count": 0,
   "metadata": {
    "application/vnd.databricks.v1+cell": {
     "cellMetadata": {
      "byteLimit": 2048000,
      "rowLimit": 10000
     },
     "inputWidgets": {},
     "nuid": "cad5b5df-ced3-4731-a618-47ec1e17a222",
     "showTitle": true,
     "tableResultSettingsMap": {},
     "title": "Read: SalesData_Rev02.csv"
    }
   },
   "outputs": [
    {
     "output_type": "display_data",
     "data": {
      "text/html": [
       "<style scoped>\n",
       "  .table-result-container {\n",
       "    max-height: 300px;\n",
       "    overflow: auto;\n",
       "  }\n",
       "  table, th, td {\n",
       "    border: 1px solid black;\n",
       "    border-collapse: collapse;\n",
       "  }\n",
       "  th, td {\n",
       "    padding: 5px;\n",
       "  }\n",
       "  th {\n",
       "    text-align: left;\n",
       "  }\n",
       "</style><div class='table-result-container'><table class='table-result'><thead style='background-color: white'><tr><th>Target_Event_Identity</th><th>Vehicle_Name</th><th>Sales_Currency</th><th>Transmission</th><th>Capacity</th><th>Target_Simulation_Identity</th></tr></thead><tbody><tr><td>1032</td><td>SUV</td><td>INR</td><td>Manual</td><td>1300</td><td>1061</td></tr><tr><td>1033</td><td>SUV</td><td>INR</td><td>Manual</td><td>1300</td><td>1062</td></tr><tr><td>1034</td><td>SUV</td><td>INR</td><td>Manual</td><td>1300</td><td>1063</td></tr><tr><td>1035</td><td>SUV</td><td>INR</td><td>Manual</td><td>1300</td><td>1064</td></tr><tr><td>1037</td><td>SUV</td><td>INR</td><td>Manual</td><td>1300</td><td>1065</td></tr><tr><td>1036</td><td>SUV</td><td>INR</td><td>Manual</td><td>1300</td><td>1066</td></tr><tr><td>1040</td><td>SUV</td><td>INR</td><td>Manual</td><td>1300</td><td>1067</td></tr><tr><td>1038</td><td>SUV</td><td>INR</td><td>Manual</td><td>1300</td><td>1068</td></tr><tr><td>1039</td><td>SUV</td><td>INR</td><td>Manual</td><td>1300</td><td>1069</td></tr><tr><td>1042</td><td>SUV</td><td>INR</td><td>Manual</td><td>1300</td><td>1070</td></tr></tbody></table></div>"
      ]
     },
     "metadata": {
      "application/vnd.databricks.v1+output": {
       "addedWidgets": {},
       "aggData": [],
       "aggError": "",
       "aggOverflow": false,
       "aggSchema": [],
       "aggSeriesLimitReached": false,
       "aggType": "",
       "arguments": {},
       "columnCustomDisplayInfos": {},
       "data": [
        [
         1032,
         "SUV",
         "INR",
         "Manual",
         1300,
         1061
        ],
        [
         1033,
         "SUV",
         "INR",
         "Manual",
         1300,
         1062
        ],
        [
         1034,
         "SUV",
         "INR",
         "Manual",
         1300,
         1063
        ],
        [
         1035,
         "SUV",
         "INR",
         "Manual",
         1300,
         1064
        ],
        [
         1037,
         "SUV",
         "INR",
         "Manual",
         1300,
         1065
        ],
        [
         1036,
         "SUV",
         "INR",
         "Manual",
         1300,
         1066
        ],
        [
         1040,
         "SUV",
         "INR",
         "Manual",
         1300,
         1067
        ],
        [
         1038,
         "SUV",
         "INR",
         "Manual",
         1300,
         1068
        ],
        [
         1039,
         "SUV",
         "INR",
         "Manual",
         1300,
         1069
        ],
        [
         1042,
         "SUV",
         "INR",
         "Manual",
         1300,
         1070
        ]
       ],
       "datasetInfos": [],
       "dbfsResultPath": null,
       "isJsonSchema": true,
       "metadata": {},
       "overflow": false,
       "plotOptions": {
        "customPlotOptions": {},
        "displayType": "table",
        "pivotAggregation": null,
        "pivotColumns": null,
        "xColumns": null,
        "yColumns": null
       },
       "removedWidgets": [],
       "schema": [
        {
         "metadata": "{}",
         "name": "Target_Event_Identity",
         "type": "\"integer\""
        },
        {
         "metadata": "{}",
         "name": "Vehicle_Name",
         "type": "\"string\""
        },
        {
         "metadata": "{}",
         "name": "Sales_Currency",
         "type": "\"string\""
        },
        {
         "metadata": "{}",
         "name": "Transmission",
         "type": "\"string\""
        },
        {
         "metadata": "{}",
         "name": "Capacity",
         "type": "\"integer\""
        },
        {
         "metadata": "{}",
         "name": "Target_Simulation_Identity",
         "type": "\"integer\""
        }
       ],
       "type": "table"
      }
     },
     "output_type": "display_data"
    },
    {
     "output_type": "stream",
     "name": "stdout",
     "output_type": "stream",
     "text": [
      "root\n |-- Target_Event_Identity: integer (nullable = true)\n |-- Vehicle_Name: string (nullable = true)\n |-- Sales_Currency: string (nullable = true)\n |-- Transmission: string (nullable = true)\n |-- Capacity: integer (nullable = true)\n |-- Target_Simulation_Identity: integer (nullable = true)\n\nNumber of Rows: 12\n"
     ]
    }
   ],
   "source": [
    "# Read \"SalesData_Rev02.csv\"\n",
    "SalesData_Rev02 = spark.read.option('header',True).option(\"quote\", \"\\\"\").option('InferSchema',True).csv(\"/FileStore/tables/SalesData_Rev02.csv\")\n",
    "\n",
    "display(SalesData_Rev02.limit(10))\n",
    "SalesData_Rev02.printSchema()\n",
    "print(\"Number of Rows:\", SalesData_Rev02.count())"
   ]
  },
  {
   "cell_type": "code",
   "execution_count": 0,
   "metadata": {
    "application/vnd.databricks.v1+cell": {
     "cellMetadata": {
      "byteLimit": 2048000,
      "rowLimit": 10000
     },
     "inputWidgets": {},
     "nuid": "2b95dc5d-eaa9-4de5-910b-7711d5509628",
     "showTitle": true,
     "tableResultSettingsMap": {},
     "title": "Read: RunningData_Rev02.csv"
    }
   },
   "outputs": [
    {
     "output_type": "display_data",
     "data": {
      "text/html": [
       "<style scoped>\n",
       "  .table-result-container {\n",
       "    max-height: 300px;\n",
       "    overflow: auto;\n",
       "  }\n",
       "  table, th, td {\n",
       "    border: 1px solid black;\n",
       "    border-collapse: collapse;\n",
       "  }\n",
       "  th, td {\n",
       "    padding: 5px;\n",
       "  }\n",
       "  th {\n",
       "    text-align: left;\n",
       "  }\n",
       "</style><div class='table-result-container'><table class='table-result'><thead style='background-color: white'><tr><th>Target_Event_Identity</th><th>Sales_Timestamp</th><th>Method</th><th>Customer</th><th>Sales_Event</th><th>Type_of_Market</th><th>Vehicle_Delivery_Date</th><th>Vehicle_Delivery_Status</th><th>Post_Vehicle_Delivery_Status</th><th>Database</th></tr></thead><tbody><tr><td>1032</td><td>1717497686</td><td>Dealership</td><td>SRS Travels</td><td>Bulk Delivery</td><td>Commercial</td><td>4-Jan-23</td><td>DOB</td><td>DOJ</td><td>Azure</td></tr><tr><td>1033</td><td>1717497687</td><td>Dealership</td><td>SRS Travels</td><td>Bulk Delivery</td><td>Commercial</td><td>4-Jan-23</td><td>DOB</td><td>DOJ</td><td>Azure</td></tr><tr><td>1034</td><td>1717497688</td><td>Dealership</td><td>SRS Travels</td><td>Bulk Delivery</td><td>Commercial</td><td>4-Jan-23</td><td>DOB</td><td>DOJ</td><td>Azure</td></tr><tr><td>1035</td><td>1717497695</td><td>Dealership</td><td>SRS Travels</td><td>Bulk Delivery</td><td>Commercial</td><td>4-Jan-23</td><td>DOB</td><td>DOJ</td><td>Azure</td></tr><tr><td>1036</td><td>1717497734</td><td>Dealership</td><td>SRS Travels</td><td>Bulk Delivery</td><td>Commercial</td><td>4-Jan-23</td><td>DOB</td><td>DOJ</td><td>Azure</td></tr><tr><td>1037</td><td>1717497711</td><td>Dealership</td><td>SRS Travels</td><td>Bulk Delivery</td><td>Commercial</td><td>4-Jan-23</td><td>DOB</td><td>DOJ</td><td>Azure</td></tr><tr><td>1038</td><td>1717497741</td><td>Dealership</td><td>SRS Travels</td><td>Bulk Delivery</td><td>Commercial</td><td>4-Jan-23</td><td>DOB</td><td>DOJ</td><td>Azure</td></tr><tr><td>1039</td><td>1717497742</td><td>Dealership</td><td>SRS Travels</td><td>Bulk Delivery</td><td>Commercial</td><td>4-Jan-23</td><td>DOB</td><td>DOJ</td><td>Azure</td></tr><tr><td>1040</td><td>1717497740</td><td>Dealership</td><td>SRS Travels</td><td>Bulk Delivery</td><td>Commercial</td><td>4-Jan-23</td><td>DOB</td><td>DOJ</td><td>Azure</td></tr><tr><td>1041</td><td>1717497749</td><td>Dealership</td><td>SRS Travels</td><td>Bulk Delivery</td><td>Commercial</td><td>4-Jan-23</td><td>DOB</td><td>DOJ</td><td>Azure</td></tr></tbody></table></div>"
      ]
     },
     "metadata": {
      "application/vnd.databricks.v1+output": {
       "addedWidgets": {},
       "aggData": [],
       "aggError": "",
       "aggOverflow": false,
       "aggSchema": [],
       "aggSeriesLimitReached": false,
       "aggType": "",
       "arguments": {},
       "columnCustomDisplayInfos": {},
       "data": [
        [
         1032,
         1717497686,
         "Dealership",
         "SRS Travels",
         "Bulk Delivery",
         "Commercial",
         "4-Jan-23",
         "DOB",
         "DOJ",
         "Azure"
        ],
        [
         1033,
         1717497687,
         "Dealership",
         "SRS Travels",
         "Bulk Delivery",
         "Commercial",
         "4-Jan-23",
         "DOB",
         "DOJ",
         "Azure"
        ],
        [
         1034,
         1717497688,
         "Dealership",
         "SRS Travels",
         "Bulk Delivery",
         "Commercial",
         "4-Jan-23",
         "DOB",
         "DOJ",
         "Azure"
        ],
        [
         1035,
         1717497695,
         "Dealership",
         "SRS Travels",
         "Bulk Delivery",
         "Commercial",
         "4-Jan-23",
         "DOB",
         "DOJ",
         "Azure"
        ],
        [
         1036,
         1717497734,
         "Dealership",
         "SRS Travels",
         "Bulk Delivery",
         "Commercial",
         "4-Jan-23",
         "DOB",
         "DOJ",
         "Azure"
        ],
        [
         1037,
         1717497711,
         "Dealership",
         "SRS Travels",
         "Bulk Delivery",
         "Commercial",
         "4-Jan-23",
         "DOB",
         "DOJ",
         "Azure"
        ],
        [
         1038,
         1717497741,
         "Dealership",
         "SRS Travels",
         "Bulk Delivery",
         "Commercial",
         "4-Jan-23",
         "DOB",
         "DOJ",
         "Azure"
        ],
        [
         1039,
         1717497742,
         "Dealership",
         "SRS Travels",
         "Bulk Delivery",
         "Commercial",
         "4-Jan-23",
         "DOB",
         "DOJ",
         "Azure"
        ],
        [
         1040,
         1717497740,
         "Dealership",
         "SRS Travels",
         "Bulk Delivery",
         "Commercial",
         "4-Jan-23",
         "DOB",
         "DOJ",
         "Azure"
        ],
        [
         1041,
         1717497749,
         "Dealership",
         "SRS Travels",
         "Bulk Delivery",
         "Commercial",
         "4-Jan-23",
         "DOB",
         "DOJ",
         "Azure"
        ]
       ],
       "datasetInfos": [],
       "dbfsResultPath": null,
       "isJsonSchema": true,
       "metadata": {},
       "overflow": false,
       "plotOptions": {
        "customPlotOptions": {},
        "displayType": "table",
        "pivotAggregation": null,
        "pivotColumns": null,
        "xColumns": null,
        "yColumns": null
       },
       "removedWidgets": [],
       "schema": [
        {
         "metadata": "{}",
         "name": "Target_Event_Identity",
         "type": "\"integer\""
        },
        {
         "metadata": "{}",
         "name": "Sales_Timestamp",
         "type": "\"integer\""
        },
        {
         "metadata": "{}",
         "name": "Method",
         "type": "\"string\""
        },
        {
         "metadata": "{}",
         "name": "Customer",
         "type": "\"string\""
        },
        {
         "metadata": "{}",
         "name": "Sales_Event",
         "type": "\"string\""
        },
        {
         "metadata": "{}",
         "name": "Type_of_Market",
         "type": "\"string\""
        },
        {
         "metadata": "{}",
         "name": "Vehicle_Delivery_Date",
         "type": "\"string\""
        },
        {
         "metadata": "{}",
         "name": "Vehicle_Delivery_Status",
         "type": "\"string\""
        },
        {
         "metadata": "{}",
         "name": "Post_Vehicle_Delivery_Status",
         "type": "\"string\""
        },
        {
         "metadata": "{}",
         "name": "Database",
         "type": "\"string\""
        }
       ],
       "type": "table"
      }
     },
     "output_type": "display_data"
    },
    {
     "output_type": "stream",
     "name": "stdout",
     "output_type": "stream",
     "text": [
      "root\n |-- Target_Event_Identity: integer (nullable = true)\n |-- Sales_Timestamp: integer (nullable = true)\n |-- Method: string (nullable = true)\n |-- Customer: string (nullable = true)\n |-- Sales_Event: string (nullable = true)\n |-- Type_of_Market: string (nullable = true)\n |-- Vehicle_Delivery_Date: string (nullable = true)\n |-- Vehicle_Delivery_Status: string (nullable = true)\n |-- Post_Vehicle_Delivery_Status: string (nullable = true)\n |-- Database: string (nullable = true)\n\nNumber of Rows: 12\n"
     ]
    }
   ],
   "source": [
    "# Read \"RunningData_Rev02.csv\"\n",
    "RunningData_Rev02 = spark.read.option('header',True).option(\"quote\", \"\\\"\").option('InferSchema',True).csv(\"/FileStore/tables/RunningData_Rev02.csv\")\n",
    "\n",
    "display(RunningData_Rev02.limit(10))\n",
    "RunningData_Rev02.printSchema()\n",
    "print(\"Number of Rows:\", RunningData_Rev02.count())"
   ]
  },
  {
   "cell_type": "code",
   "execution_count": 0,
   "metadata": {
    "application/vnd.databricks.v1+cell": {
     "cellMetadata": {
      "byteLimit": 2048000,
      "rowLimit": 10000
     },
     "inputWidgets": {},
     "nuid": "3e5c40f0-9424-46cc-a047-fc9e3a4565e9",
     "showTitle": true,
     "tableResultSettingsMap": {},
     "title": "join: Sales_Collect_Rev02 & SalesData_Rev02"
    }
   },
   "outputs": [
    {
     "output_type": "display_data",
     "data": {
      "text/html": [
       "<style scoped>\n",
       "  .table-result-container {\n",
       "    max-height: 300px;\n",
       "    overflow: auto;\n",
       "  }\n",
       "  table, th, td {\n",
       "    border: 1px solid black;\n",
       "    border-collapse: collapse;\n",
       "  }\n",
       "  th, td {\n",
       "    padding: 5px;\n",
       "  }\n",
       "  th {\n",
       "    text-align: left;\n",
       "  }\n",
       "</style><div class='table-result-container'><table class='table-result'><thead style='background-color: white'><tr><th>Id</th><th>dept_Id</th><th>SubDept_Id</th><th>Vehicle_Id</th><th>Vehicle_Profile_Id</th><th>Description</th><th>Vehicle_Price_Id</th><th>Vehicle_Showroom_Price</th><th>Vehicle_Showroom_Delta</th><th>Vehicle_Showroom_Payment_Date</th><th>Average</th><th>Increment</th><th>Target_Simulation_Id</th><th>Target_Event_Identity</th><th>Vehicle_Name</th><th>Sales_Currency</th><th>Transmission</th><th>Capacity</th><th>Target_Simulation_Identity</th></tr></thead><tbody><tr><td>257</td><td>257</td><td>1</td><td>1</td><td>0</td><td>Baleno</td><td>6</td><td>72567.98</td><td>5678.01</td><td>2023-02-20</td><td>2381.657773</td><td>0.0</td><td>1071</td><td>1041</td><td>SUV</td><td>INR</td><td>Manual</td><td>1300</td><td>1071</td></tr><tr><td>264</td><td>264</td><td>1</td><td>0</td><td>0</td><td>Engine_Base</td><td>90</td><td>91768.98</td><td>12678.01</td><td>2025-06-30</td><td>553.8461539</td><td>0.0</td><td>1063</td><td>1034</td><td>SUV</td><td>INR</td><td>Manual</td><td>1300</td><td>1063</td></tr><tr><td>265</td><td>265</td><td>1</td><td>0</td><td>0</td><td>Baleno</td><td>83</td><td>8400.123</td><td>1450.01</td><td>2023-12-27</td><td>-7199.999999</td><td>0.0</td><td>1065</td><td>1037</td><td>SUV</td><td>INR</td><td>Manual</td><td>1300</td><td>1065</td></tr><tr><td>266</td><td>266</td><td>1</td><td>0</td><td>0</td><td>Engine_Base</td><td>76</td><td>77345.665</td><td>3456.01</td><td>2024-04-30</td><td>7200.0</td><td>0.0</td><td>1063</td><td>1034</td><td>SUV</td><td>INR</td><td>Manual</td><td>1300</td><td>1063</td></tr><tr><td>267</td><td>267</td><td>1</td><td>0</td><td>0</td><td>Suzuki Swift</td><td>96</td><td>974567.11</td><td>110.01</td><td>2025-12-31</td><td>1404.878049</td><td>0.0</td><td>1063</td><td>1034</td><td>SUV</td><td>INR</td><td>Manual</td><td>1300</td><td>1063</td></tr><tr><td>268</td><td>268</td><td>1</td><td>1</td><td>0</td><td>Suzuki Swift</td><td>48</td><td>49.0</td><td>0.01</td><td>2023-03-20</td><td>834.1253</td><td>0.0</td><td>1068</td><td>1038</td><td>SUV</td><td>INR</td><td>Manual</td><td>1300</td><td>1068</td></tr><tr><td>270</td><td>270</td><td>1</td><td>0</td><td>0</td><td>Wagon R</td><td>76</td><td>77345.665</td><td>3456.01</td><td>2024-03-26</td><td>7200.0</td><td>0.0</td><td>1065</td><td>1037</td><td>SUV</td><td>INR</td><td>Manual</td><td>1300</td><td>1065</td></tr><tr><td>271</td><td>271</td><td>1</td><td>0</td><td>0</td><td>Engine_Base</td><td>34</td><td>35.0</td><td>12340.0123</td><td>2023-03-20</td><td>1668.2506</td><td>0.0</td><td>1068</td><td>1038</td><td>SUV</td><td>INR</td><td>Manual</td><td>1300</td><td>1068</td></tr><tr><td>272</td><td>272</td><td>1</td><td>1</td><td>0</td><td>Creta</td><td>29</td><td>30.0</td><td>12340.0123</td><td>2023-03-20</td><td>-2383.215143</td><td>0.0</td><td>1071</td><td>1041</td><td>SUV</td><td>INR</td><td>Manual</td><td>1300</td><td>1071</td></tr><tr><td>277</td><td>277</td><td>1</td><td>0</td><td>0</td><td>Brezza</td><td>73</td><td>74567.34567</td><td>3456.01</td><td>2023-12-28</td><td>7440.0</td><td>0.0</td><td>1065</td><td>1037</td><td>SUV</td><td>INR</td><td>Manual</td><td>1300</td><td>1065</td></tr><tr><td>285</td><td>285</td><td>1</td><td>0</td><td>0</td><td>Ertiga</td><td>83</td><td>8400.123</td><td>1450.01</td><td>2024-11-29</td><td>2520.0</td><td>0.0</td><td>1063</td><td>1034</td><td>SUV</td><td>INR</td><td>Manual</td><td>1300</td><td>1063</td></tr><tr><td>292</td><td>292</td><td>1</td><td>1</td><td>1</td><td>Grand Vitara</td><td>7</td><td>230.9960486</td><td>1289.0001</td><td>2023-06-20</td><td>-1013501.197</td><td>424612.4066</td><td>1068</td><td>1038</td><td>SUV</td><td>INR</td><td>Manual</td><td>1300</td><td>1068</td></tr><tr><td>293</td><td>293</td><td>1</td><td>0</td><td>0</td><td>Verna</td><td>81</td><td>82123.0</td><td>1450.01</td><td>2023-12-27</td><td>300.0</td><td>0.0</td><td>1065</td><td>1037</td><td>SUV</td><td>INR</td><td>Manual</td><td>1300</td><td>1065</td></tr><tr><td>295</td><td>295</td><td>1</td><td>0</td><td>1</td><td>Grand Vitara</td><td>9</td><td>2120.994668</td><td>1289.0001</td><td>2024-03-20</td><td>1082123.228</td><td>-889778.7891</td><td>1068</td><td>1038</td><td>SUV</td><td>INR</td><td>Manual</td><td>1300</td><td>1068</td></tr><tr><td>298</td><td>298</td><td>1</td><td>0</td><td>0</td><td>Engine_Base</td><td>28</td><td>29.0</td><td>12340.0123</td><td>2023-03-20</td><td>1668.2506</td><td>0.0</td><td>1068</td><td>1038</td><td>SUV</td><td>INR</td><td>Manual</td><td>1300</td><td>1068</td></tr><tr><td>307</td><td>307</td><td>1</td><td>0</td><td>0</td><td>Engine_Base</td><td>64</td><td>65.0</td><td>0.01</td><td>2023-05-22</td><td>50155.411</td><td>0.0</td><td>1068</td><td>1038</td><td>SUV</td><td>INR</td><td>Manual</td><td>1300</td><td>1068</td></tr><tr><td>309</td><td>309</td><td>1</td><td>0</td><td>0</td><td>Engine_Base</td><td>47</td><td>48.0</td><td>0.01</td><td>2023-03-20</td><td>1429.929086</td><td>0.0</td><td>1068</td><td>1038</td><td>SUV</td><td>INR</td><td>Manual</td><td>1300</td><td>1068</td></tr><tr><td>310</td><td>310</td><td>1</td><td>0</td><td>0</td><td>Engine_Base</td><td>53</td><td>543456.1234</td><td>134560.01</td><td>2023-03-20</td><td>1429.929086</td><td>0.0</td><td>1068</td><td>1038</td><td>SUV</td><td>INR</td><td>Manual</td><td>1300</td><td>1068</td></tr><tr><td>311</td><td>311</td><td>1</td><td>0</td><td>1</td><td>Grand Vitara</td><td>6</td><td>54670.9942</td><td>1289.0001</td><td>2023-04-20</td><td>265906.7505</td><td>-57499.52979</td><td>1068</td><td>1038</td><td>SUV</td><td>INR</td><td>Manual</td><td>1300</td><td>1068</td></tr><tr><td>312</td><td>312</td><td>1</td><td>1</td><td>0</td><td>Grand Vitara</td><td>7</td><td>56432.60486</td><td>1289.0001</td><td>2023-05-22</td><td>-523077.7015</td><td>134409.9175</td><td>1068</td><td>1038</td><td>SUV</td><td>INR</td><td>Manual</td><td>1300</td><td>1068</td></tr><tr><td>313</td><td>313</td><td>1</td><td>0</td><td>11</td><td>Suzuki Swift</td><td>84</td><td>853456.765</td><td>12678.01</td><td>2025-01-20</td><td>-15922.9846</td><td>0.0</td><td>1068</td><td>1038</td><td>SUV</td><td>INR</td><td>Manual</td><td>1300</td><td>1068</td></tr><tr><td>314</td><td>314</td><td>1</td><td>0</td><td>5</td><td>Grand Vitara</td><td>10</td><td>6789900.995</td><td>1289.0001</td><td>2024-07-22</td><td>-4342930.376</td><td>4761447.664</td><td>1068</td><td>1038</td><td>SUV</td><td>INR</td><td>Manual</td><td>1300</td><td>1068</td></tr><tr><td>342</td><td>342</td><td>1</td><td>1</td><td>1</td><td>Grand Vitara</td><td>6</td><td>54670.9942</td><td>1289.0001</td><td>2023-06-20</td><td>219695.6602</td><td>-9871.460497</td><td>1071</td><td>1041</td><td>SUV</td><td>INR</td><td>Manual</td><td>1300</td><td>1071</td></tr><tr><td>346</td><td>346</td><td>1</td><td>1</td><td>9</td><td>Grand Vitara</td><td>9</td><td>789.6797</td><td>1289.0001</td><td>2024-11-20</td><td>-814291.5441</td><td>107770.5994</td><td>1071</td><td>1041</td><td>SUV</td><td>INR</td><td>Manual</td><td>1300</td><td>1071</td></tr><tr><td>354</td><td>354</td><td>1</td><td>2</td><td>0</td><td>Grand Vitara</td><td>4</td><td>14567.3</td><td>1234.156</td><td>2023-02-20</td><td>1637.389719</td><td>-75.04713722</td><td>1071</td><td>1041</td><td>SUV</td><td>INR</td><td>Manual</td><td>1300</td><td>1071</td></tr><tr><td>357</td><td>357</td><td>1</td><td>2</td><td>0</td><td>Seltos</td><td>48</td><td>49.0</td><td>0.01</td><td>2023-03-20</td><td>-99.30063095</td><td>0.0</td><td>1071</td><td>1041</td><td>SUV</td><td>INR</td><td>Manual</td><td>1300</td><td>1071</td></tr><tr><td>364</td><td>364</td><td>1</td><td>2</td><td>1</td><td>Grand Vitara</td><td>6</td><td>54670.9942</td><td>1289.0001</td><td>2023-06-20</td><td>219695.6602</td><td>-9871.460497</td><td>1071</td><td>1041</td><td>SUV</td><td>INR</td><td>Manual</td><td>1300</td><td>1071</td></tr><tr><td>372</td><td>372</td><td>1</td><td>2</td><td>2</td><td>Grand Vitara</td><td>9</td><td>789.6797</td><td>1289.0001</td><td>2024-04-19</td><td>4144304.343</td><td>-3057563.119</td><td>1071</td><td>1041</td><td>SUV</td><td>INR</td><td>Manual</td><td>1300</td><td>1071</td></tr><tr><td>394</td><td>394</td><td>8</td><td>1</td><td>0</td><td>Grand Vitara</td><td>5</td><td>2953456.992</td><td>10.01</td><td>2023-02-07</td><td>-2392.895</td><td>98751.167</td><td>1071</td><td>1041</td><td>SUV</td><td>INR</td><td>Manual</td><td>1300</td><td>1071</td></tr><tr><td>398</td><td>398</td><td>1</td><td>1</td><td>0</td><td>Grand Vitara</td><td>7</td><td>56432.60486</td><td>1289.0001</td><td>2023-04-11</td><td>-1343.606266</td><td>37.52647899</td><td>1071</td><td>1041</td><td>SUV</td><td>INR</td><td>Manual</td><td>1300</td><td>1071</td></tr><tr><td>402</td><td>402</td><td>1</td><td>0</td><td>8</td><td>Grand Vitara</td><td>10</td><td>6789900.995</td><td>1289.0001</td><td>2024-09-06</td><td>-110438.3045</td><td>149497.9282</td><td>1071</td><td>1041</td><td>SUV</td><td>INR</td><td>Manual</td><td>1300</td><td>1071</td></tr><tr><td>414</td><td>414</td><td>1</td><td>0</td><td>0</td><td>Suzuki Swift</td><td>65</td><td>66345.789</td><td>45678.01</td><td>2023-05-16</td><td>54.0</td><td>0.0</td><td>1063</td><td>1034</td><td>SUV</td><td>INR</td><td>Manual</td><td>1300</td><td>1063</td></tr><tr><td>415</td><td>415</td><td>1</td><td>0</td><td>0</td><td>Ertiga</td><td>65</td><td>66345.789</td><td>45678.01</td><td>2023-05-16</td><td>120.0</td><td>0.0</td><td>1063</td><td>1034</td><td>SUV</td><td>INR</td><td>Manual</td><td>1300</td><td>1063</td></tr><tr><td>417</td><td>417</td><td>2</td><td>1</td><td>0</td><td>Grand Vitara</td><td>5</td><td>2953456.992</td><td>10.01</td><td>2023-02-20</td><td>45523.252</td><td>-32209.615</td><td>1068</td><td>1038</td><td>SUV</td><td>INR</td><td>Manual</td><td>1300</td><td>1068</td></tr><tr><td>419</td><td>419</td><td>2</td><td>0</td><td>0</td><td>Grand Vitara</td><td>4</td><td>14567.3</td><td>1234.156</td><td>2023-02-20</td><td>491.8991615</td><td>-22.54564606</td><td>1068</td><td>1038</td><td>SUV</td><td>INR</td><td>Manual</td><td>1300</td><td>1068</td></tr><tr><td>427</td><td>427</td><td>1</td><td>0</td><td>0</td><td>Engine_Base</td><td>31</td><td>32.0</td><td>12340.0123</td><td>2023-03-20</td><td>1277.403417</td><td>0.0</td><td>1068</td><td>1038</td><td>SUV</td><td>INR</td><td>Manual</td><td>1300</td><td>1068</td></tr><tr><td>430</td><td>430</td><td>1</td><td>1</td><td>2</td><td>Grand Vitara</td><td>8</td><td>3894560.999</td><td>1289.0001</td><td>2023-07-20</td><td>-198949.4303</td><td>23126.69531</td><td>1068</td><td>1038</td><td>SUV</td><td>INR</td><td>Manual</td><td>1300</td><td>1068</td></tr><tr><td>431</td><td>431</td><td>1</td><td>0</td><td>2</td><td>Grand Vitara</td><td>6</td><td>54670.9942</td><td>1289.0001</td><td>2023-05-22</td><td>-322503.5582</td><td>40755.97972</td><td>1068</td><td>1038</td><td>SUV</td><td>INR</td><td>Manual</td><td>1300</td><td>1068</td></tr><tr><td>440</td><td>440</td><td>1</td><td>0</td><td>4</td><td>Engine_Base</td><td>77</td><td>78234.543</td><td>1450.01</td><td>2024-06-20</td><td>-41371.0323</td><td>0.0</td><td>1068</td><td>1038</td><td>SUV</td><td>INR</td><td>Manual</td><td>1300</td><td>1068</td></tr><tr><td>442</td><td>442</td><td>1</td><td>0</td><td>0</td><td>Suzuki Swift</td><td>35</td><td>36.0</td><td>0.01</td><td>2023-03-20</td><td>74.22327667</td><td>0.0</td><td>1068</td><td>1038</td><td>SUV</td><td>INR</td><td>Manual</td><td>1300</td><td>1068</td></tr><tr><td>448</td><td>448</td><td>1</td><td>1</td><td>1</td><td>Suzuki Swift</td><td>65</td><td>66345.789</td><td>45678.01</td><td>2023-06-20</td><td>-333.7531355</td><td>0.0</td><td>1068</td><td>1038</td><td>SUV</td><td>INR</td><td>Manual</td><td>1300</td><td>1068</td></tr><tr><td>453</td><td>453</td><td>1</td><td>0</td><td>0</td><td>Engine_Base</td><td>32</td><td>33.0</td><td>12340.0123</td><td>2023-03-20</td><td>-1291.849863</td><td>0.0</td><td>1068</td><td>1038</td><td>SUV</td><td>INR</td><td>Manual</td><td>1300</td><td>1068</td></tr><tr><td>458</td><td>458</td><td>1</td><td>1</td><td>7</td><td>Engine_Base</td><td>80</td><td>815678.435</td><td>1450.01</td><td>2024-09-20</td><td>-40472.1143</td><td>0.0</td><td>1068</td><td>1038</td><td>SUV</td><td>INR</td><td>Manual</td><td>1300</td><td>1068</td></tr><tr><td>461</td><td>461</td><td>2</td><td>1</td><td>0</td><td>Grand Vitara</td><td>5</td><td>2953456.992</td><td>10.01</td><td>2023-02-20</td><td>37489.063</td><td>-2328.935079</td><td>1068</td><td>1038</td><td>SUV</td><td>INR</td><td>Manual</td><td>1300</td><td>1068</td></tr><tr><td>466</td><td>466</td><td>1</td><td>0</td><td>0</td><td>Suzuki Swift</td><td>28</td><td>29.0</td><td>12340.0123</td><td>2023-03-20</td><td>104.2472325</td><td>0.0</td><td>1068</td><td>1038</td><td>SUV</td><td>INR</td><td>Manual</td><td>1300</td><td>1068</td></tr><tr><td>471</td><td>471</td><td>1</td><td>1</td><td>1</td><td>Grand Vitara</td><td>6</td><td>54670.9942</td><td>1289.0001</td><td>2023-06-20</td><td>-86871.84927</td><td>3903.405741</td><td>1068</td><td>1038</td><td>SUV</td><td>INR</td><td>Manual</td><td>1300</td><td>1068</td></tr><tr><td>477</td><td>477</td><td>1</td><td>0</td><td>2</td><td>Grand Vitara</td><td>6</td><td>54670.9942</td><td>1289.0001</td><td>2023-05-22</td><td>-322503.5582</td><td>40755.97972</td><td>1068</td><td>1038</td><td>SUV</td><td>INR</td><td>Manual</td><td>1300</td><td>1068</td></tr><tr><td>481</td><td>481</td><td>1</td><td>0</td><td>11</td><td>Suzuki Swift</td><td>84</td><td>853456.765</td><td>12678.01</td><td>2025-01-20</td><td>851.5843579</td><td>0.0</td><td>1068</td><td>1038</td><td>SUV</td><td>INR</td><td>Manual</td><td>1300</td><td>1068</td></tr><tr><td>485</td><td>485</td><td>1</td><td>1</td><td>0</td><td>Seltos</td><td>30</td><td>31.0</td><td>12340.0123</td><td>2023-03-20</td><td>11077.73033</td><td>0.0</td><td>1071</td><td>1041</td><td>SUV</td><td>INR</td><td>Manual</td><td>1300</td><td>1071</td></tr><tr><td>489</td><td>489</td><td>1</td><td>2</td><td>0</td><td>EXAUST_SYSTEM</td><td>64</td><td>65.0</td><td>0.01</td><td>2023-05-19</td><td>-951204.6824</td><td>-1.4901E-4</td><td>1071</td><td>1041</td><td>SUV</td><td>INR</td><td>Manual</td><td>1300</td><td>1071</td></tr><tr><td>494</td><td>494</td><td>1</td><td>2</td><td>4</td><td>Grand Vitara</td><td>9</td><td>789.6797</td><td>1289.0001</td><td>2024-06-20</td><td>1.940047187E8</td><td>-1.092608809E8</td><td>1071</td><td>1041</td><td>SUV</td><td>INR</td><td>Manual</td><td>1300</td><td>1071</td></tr><tr><td>502</td><td>502</td><td>1</td><td>1</td><td>0</td><td>Baleno</td><td>4</td><td>51234.567</td><td>5678.01</td><td>2023-02-20</td><td>3286.400034</td><td>0.0</td><td>1071</td><td>1041</td><td>SUV</td><td>INR</td><td>Manual</td><td>1300</td><td>1071</td></tr><tr><td>506</td><td>506</td><td>1</td><td>1</td><td>0</td><td>Creta</td><td>45</td><td>46.0</td><td>0.01</td><td>2023-03-20</td><td>-14444.1487</td><td>0.0</td><td>1071</td><td>1041</td><td>SUV</td><td>INR</td><td>Manual</td><td>1300</td><td>1071</td></tr><tr><td>510</td><td>510</td><td>1</td><td>2</td><td>1</td><td>Grand Vitara</td><td>7</td><td>56432.60486</td><td>1289.0001</td><td>2023-06-20</td><td>-1.035852679E7</td><td>4339766.502</td><td>1071</td><td>1041</td><td>SUV</td><td>INR</td><td>Manual</td><td>1300</td><td>1071</td></tr><tr><td>514</td><td>514</td><td>1</td><td>2</td><td>1</td><td>Grand Vitara</td><td>9</td><td>789.6797</td><td>1289.0001</td><td>2024-03-20</td><td>5.787714669E7</td><td>-4.758964479E7</td><td>1071</td><td>1041</td><td>SUV</td><td>INR</td><td>Manual</td><td>1300</td><td>1071</td></tr><tr><td>437</td><td>534</td><td>3</td><td>0</td><td>0</td><td>Grand Vitara</td><td>5</td><td>2953456.992</td><td>10.01</td><td>2023-02-20</td><td>1427.286476</td><td>-128760.92</td><td>1068</td><td>1038</td><td>SUV</td><td>INR</td><td>Manual</td><td>1300</td><td>1068</td></tr><tr><td>269</td><td>544</td><td>2</td><td>0</td><td>0</td><td>Brezza</td><td>73</td><td>74567.34567</td><td>3456.01</td><td>2023-12-27</td><td>7436.593407</td><td>0.0</td><td>1065</td><td>1037</td><td>SUV</td><td>INR</td><td>Manual</td><td>1300</td><td>1065</td></tr><tr><td>274</td><td>575</td><td>2</td><td>0</td><td>0</td><td>Grand I20</td><td>81</td><td>82123.0</td><td>1450.01</td><td>2024-09-30</td><td>7184.615385</td><td>0.0</td><td>1062</td><td>1033</td><td>SUV</td><td>INR</td><td>Manual</td><td>1300</td><td>1062</td></tr><tr><td>275</td><td>576</td><td>2</td><td>0</td><td>0</td><td>BENZ GLE</td><td>85</td><td>8612345.568</td><td>12678.01</td><td>2025-03-31</td><td>2574.0</td><td>0.0</td><td>1062</td><td>1033</td><td>SUV</td><td>INR</td><td>Manual</td><td>1300</td><td>1062</td></tr><tr><td>276</td><td>577</td><td>2</td><td>0</td><td>0</td><td>Grand I20</td><td>69</td><td>70234.56789</td><td>3456.01</td><td>2023-10-02</td><td>7200.0</td><td>0.0</td><td>1062</td><td>1033</td><td>SUV</td><td>INR</td><td>Manual</td><td>1300</td><td>1062</td></tr><tr><td>294</td><td>579</td><td>2</td><td>0</td><td>0</td><td>BENZ GLE</td><td>84</td><td>853456.765</td><td>12678.01</td><td>2024-12-31</td><td>2285.714286</td><td>0.0</td><td>1062</td><td>1033</td><td>SUV</td><td>INR</td><td>Manual</td><td>1300</td><td>1062</td></tr><tr><td>273</td><td>580</td><td>2</td><td>0</td><td>0</td><td>Celerio</td><td>1</td><td>1.16</td><td>1.0E-4</td><td>2023-03-15</td><td>640000.0</td><td>0.0</td><td>1061</td><td>1032</td><td>SUV</td><td>INR</td><td>Manual</td><td>1300</td><td>1061</td></tr><tr><td>289</td><td>581</td><td>2</td><td>0</td><td>0</td><td>BENZ GLE</td><td>87</td><td>88234.432</td><td>12678.01</td><td>2025-03-31</td><td>2520.0</td><td>0.0</td><td>1062</td><td>1033</td><td>SUV</td><td>INR</td><td>Manual</td><td>1300</td><td>1062</td></tr><tr><td>257</td><td>257</td><td>1</td><td>2</td><td>0</td><td>Grand Vitara</td><td>5</td><td>2953456.992</td><td>10.01</td><td>2023-02-20</td><td>16142.34713</td><td>-128760.92</td><td>1071</td><td>1041</td><td>SUV</td><td>INR</td><td>Manual</td><td>1300</td><td>1071</td></tr><tr><td>257</td><td>257</td><td>1</td><td>2</td><td>0</td><td>Grand Vitara</td><td>4</td><td>14567.3</td><td>1234.156</td><td>2023-02-20</td><td>8732.745169</td><td>-400.247518</td><td>1071</td><td>1041</td><td>SUV</td><td>INR</td><td>Manual</td><td>1300</td><td>1071</td></tr><tr><td>257</td><td>257</td><td>1</td><td>1</td><td>0</td><td>Baleno</td><td>4</td><td>51234.567</td><td>5678.01</td><td>2023-02-20</td><td>2381.657773</td><td>0.0</td><td>1071</td><td>1041</td><td>SUV</td><td>INR</td><td>Manual</td><td>1300</td><td>1071</td></tr><tr><td>257</td><td>257</td><td>1</td><td>1</td><td>0</td><td>Grand Vitara</td><td>5</td><td>2953456.992</td><td>10.01</td><td>2023-02-20</td><td>-5439.145</td><td>376.0942491</td><td>1071</td><td>1041</td><td>SUV</td><td>INR</td><td>Manual</td><td>1300</td><td>1071</td></tr><tr><td>257</td><td>257</td><td>1</td><td>1</td><td>0</td><td>Baleno</td><td>5</td><td>6234.546</td><td>5678.01</td><td>2023-02-20</td><td>2381.657773</td><td>0.0</td><td>1071</td><td>1041</td><td>SUV</td><td>INR</td><td>Manual</td><td>1300</td><td>1071</td></tr><tr><td>257</td><td>257</td><td>1</td><td>1</td><td>0</td><td>Baleno</td><td>3</td><td>4234.56789</td><td>5678.01</td><td>2023-02-20</td><td>2381.657773</td><td>0.0</td><td>1071</td><td>1041</td><td>SUV</td><td>INR</td><td>Manual</td><td>1300</td><td>1071</td></tr><tr><td>257</td><td>257</td><td>1</td><td>1</td><td>0</td><td>Grand Vitara</td><td>4</td><td>14567.3</td><td>1234.156</td><td>2023-02-20</td><td>-2401.504922</td><td>110.0692316</td><td>1071</td><td>1041</td><td>SUV</td><td>INR</td><td>Manual</td><td>1300</td><td>1071</td></tr><tr><td>264</td><td>264</td><td>1</td><td>0</td><td>0</td><td>Suzuki Swift</td><td>90</td><td>91768.98</td><td>12678.01</td><td>2025-06-30</td><td>7246.153846</td><td>0.0</td><td>1063</td><td>1034</td><td>SUV</td><td>INR</td><td>Manual</td><td>1300</td><td>1063</td></tr><tr><td>265</td><td>265</td><td>1</td><td>0</td><td>0</td><td>Baleno</td><td>81</td><td>82123.0</td><td>1450.01</td><td>2023-12-27</td><td>-7199.999999</td><td>0.0</td><td>1065</td><td>1037</td><td>SUV</td><td>INR</td><td>Manual</td><td>1300</td><td>1065</td></tr><tr><td>265</td><td>265</td><td>1</td><td>0</td><td>0</td><td>Baleno</td><td>84</td><td>853456.765</td><td>12678.01</td><td>2023-12-27</td><td>-7439.999999</td><td>0.0</td><td>1065</td><td>1037</td><td>SUV</td><td>INR</td><td>Manual</td><td>1300</td><td>1065</td></tr><tr><td>265</td><td>265</td><td>1</td><td>0</td><td>0</td><td>Baleno</td><td>75</td><td>764567.1234</td><td>3456.01</td><td>2023-12-27</td><td>-7440.0</td><td>0.0</td><td>1065</td><td>1037</td><td>SUV</td><td>INR</td><td>Manual</td><td>1300</td><td>1065</td></tr><tr><td>265</td><td>265</td><td>1</td><td>0</td><td>0</td><td>Baleno</td><td>73</td><td>74567.34567</td><td>3456.01</td><td>2023-12-27</td><td>-7440.0</td><td>0.0</td><td>1065</td><td>1037</td><td>SUV</td><td>INR</td><td>Manual</td><td>1300</td><td>1065</td></tr><tr><td>265</td><td>265</td><td>1</td><td>0</td><td>0</td><td>Baleno</td><td>78</td><td>79234.678</td><td>1450.01</td><td>2023-12-27</td><td>-7200.0</td><td>0.0</td><td>1065</td><td>1037</td><td>SUV</td><td>INR</td><td>Manual</td><td>1300</td><td>1065</td></tr><tr><td>265</td><td>265</td><td>1</td><td>0</td><td>0</td><td>Baleno</td><td>77</td><td>78234.543</td><td>1450.01</td><td>2023-12-27</td><td>-7440.0</td><td>0.0</td><td>1065</td><td>1037</td><td>SUV</td><td>INR</td><td>Manual</td><td>1300</td><td>1065</td></tr><tr><td>265</td><td>265</td><td>1</td><td>0</td><td>0</td><td>Baleno</td><td>76</td><td>77345.665</td><td>3456.01</td><td>2023-12-27</td><td>-7200.0</td><td>0.0</td><td>1065</td><td>1037</td><td>SUV</td><td>INR</td><td>Manual</td><td>1300</td><td>1065</td></tr><tr><td>265</td><td>265</td><td>1</td><td>0</td><td>0</td><td>Baleno</td><td>80</td><td>815678.435</td><td>1450.01</td><td>2023-12-27</td><td>-7439.999999</td><td>0.0</td><td>1065</td><td>1037</td><td>SUV</td><td>INR</td><td>Manual</td><td>1300</td><td>1065</td></tr><tr><td>265</td><td>265</td><td>1</td><td>0</td><td>0</td><td>Baleno</td><td>74</td><td>75456.6543</td><td>3456.01</td><td>2023-12-27</td><td>-6960.0</td><td>0.0</td><td>1065</td><td>1037</td><td>SUV</td><td>INR</td><td>Manual</td><td>1300</td><td>1065</td></tr><tr><td>265</td><td>265</td><td>1</td><td>0</td><td>0</td><td>Baleno</td><td>79</td><td>809876.456</td><td>1450.01</td><td>2023-12-27</td><td>-7440.0</td><td>0.0</td><td>1065</td><td>1037</td><td>SUV</td><td>INR</td><td>Manual</td><td>1300</td><td>1065</td></tr><tr><td>265</td><td>265</td><td>1</td><td>0</td><td>0</td><td>Baleno</td><td>82</td><td>83345.789</td><td>1450.01</td><td>2023-12-27</td><td>-7439.999999</td><td>0.0</td><td>1065</td><td>1037</td><td>SUV</td><td>INR</td><td>Manual</td><td>1300</td><td>1065</td></tr><tr><td>267</td><td>267</td><td>1</td><td>0</td><td>0</td><td>Engine_Base</td><td>96</td><td>974567.11</td><td>110.01</td><td>2025-12-31</td><td>86195.12195</td><td>0.0</td><td>1063</td><td>1034</td><td>SUV</td><td>INR</td><td>Manual</td><td>1300</td><td>1063</td></tr><tr><td>268</td><td>268</td><td>1</td><td>1</td><td>0</td><td>Suzuki Swift</td><td>37</td><td>38.0</td><td>0.01</td><td>2023-03-20</td><td>834.1253</td><td>0.0</td><td>1068</td><td>1038</td><td>SUV</td><td>INR</td><td>Manual</td><td>1300</td><td>1068</td></tr><tr><td>268</td><td>268</td><td>1</td><td>1</td><td>0</td><td>Suzuki Swift</td><td>36</td><td>37.0</td><td>0.01</td><td>2023-03-20</td><td>834.1253</td><td>0.0</td><td>1068</td><td>1038</td><td>SUV</td><td>INR</td><td>Manual</td><td>1300</td><td>1068</td></tr><tr><td>268</td><td>268</td><td>1</td><td>0</td><td>0</td><td>Suzuki Swift</td><td>54</td><td>55.0</td><td>134560.01</td><td>2023-03-20</td><td>-834.1253</td><td>0.0</td><td>1068</td><td>1038</td><td>SUV</td><td>INR</td><td>Manual</td><td>1300</td><td>1068</td></tr><tr><td>268</td><td>268</td><td>1</td><td>1</td><td>0</td><td>Suzuki Swift</td><td>34</td><td>35.0</td><td>12340.0123</td><td>2023-03-20</td><td>834.1253</td><td>0.0</td><td>1068</td><td>1038</td><td>SUV</td><td>INR</td><td>Manual</td><td>1300</td><td>1068</td></tr><tr><td>268</td><td>268</td><td>1</td><td>1</td><td>0</td><td>Suzuki Swift</td><td>40</td><td>41.0</td><td>0.01</td><td>2023-03-20</td><td>834.1253</td><td>0.0</td><td>1068</td><td>1038</td><td>SUV</td><td>INR</td><td>Manual</td><td>1300</td><td>1068</td></tr><tr><td>268</td><td>268</td><td>1</td><td>1</td><td>0</td><td>Suzuki Swift</td><td>41</td><td>42.0</td><td>0.01</td><td>2023-03-20</td><td>834.1253</td><td>0.0</td><td>1068</td><td>1038</td><td>SUV</td><td>INR</td><td>Manual</td><td>1300</td><td>1068</td></tr><tr><td>268</td><td>268</td><td>1</td><td>1</td><td>0</td><td>Suzuki Swift</td><td>47</td><td>48.0</td><td>0.01</td><td>2023-03-20</td><td>834.1253</td><td>0.0</td><td>1068</td><td>1038</td><td>SUV</td><td>INR</td><td>Manual</td><td>1300</td><td>1068</td></tr><tr><td>268</td><td>268</td><td>1</td><td>1</td><td>0</td><td>Suzuki Swift</td><td>44</td><td>45.0</td><td>0.01</td><td>2023-03-20</td><td>834.1253</td><td>0.0</td><td>1068</td><td>1038</td><td>SUV</td><td>INR</td><td>Manual</td><td>1300</td><td>1068</td></tr><tr><td>268</td><td>268</td><td>1</td><td>0</td><td>0</td><td>Suzuki Swift</td><td>35</td><td>36.0</td><td>0.01</td><td>2023-03-20</td><td>-834.1253</td><td>0.0</td><td>1068</td><td>1038</td><td>SUV</td><td>INR</td><td>Manual</td><td>1300</td><td>1068</td></tr><tr><td>268</td><td>268</td><td>1</td><td>1</td><td>0</td><td>Suzuki Swift</td><td>30</td><td>31.0</td><td>12340.0123</td><td>2023-03-20</td><td>834.1253</td><td>0.0</td><td>1068</td><td>1038</td><td>SUV</td><td>INR</td><td>Manual</td><td>1300</td><td>1068</td></tr><tr><td>268</td><td>268</td><td>1</td><td>1</td><td>0</td><td>Suzuki Swift</td><td>42</td><td>43.0</td><td>0.01</td><td>2023-03-20</td><td>834.1253</td><td>0.0</td><td>1068</td><td>1038</td><td>SUV</td><td>INR</td><td>Manual</td><td>1300</td><td>1068</td></tr><tr><td>268</td><td>268</td><td>1</td><td>0</td><td>0</td><td>Suzuki Swift</td><td>44</td><td>45.0</td><td>0.01</td><td>2023-03-20</td><td>-834.1253</td><td>0.0</td><td>1068</td><td>1038</td><td>SUV</td><td>INR</td><td>Manual</td><td>1300</td><td>1068</td></tr><tr><td>268</td><td>268</td><td>1</td><td>0</td><td>0</td><td>Suzuki Swift</td><td>30</td><td>31.0</td><td>12340.0123</td><td>2023-03-20</td><td>-834.1253</td><td>0.0</td><td>1068</td><td>1038</td><td>SUV</td><td>INR</td><td>Manual</td><td>1300</td><td>1068</td></tr><tr><td>268</td><td>268</td><td>1</td><td>0</td><td>0</td><td>Suzuki Swift</td><td>33</td><td>34.0</td><td>12340.0123</td><td>2023-03-20</td><td>-834.1253</td><td>0.0</td><td>1068</td><td>1038</td><td>SUV</td><td>INR</td><td>Manual</td><td>1300</td><td>1068</td></tr><tr><td>268</td><td>268</td><td>1</td><td>0</td><td>0</td><td>Grand Vitara</td><td>5</td><td>2953456.992</td><td>10.01</td><td>2023-03-20</td><td>65571.66613</td><td>-6093.014963</td><td>1068</td><td>1038</td><td>SUV</td><td>INR</td><td>Manual</td><td>1300</td><td>1068</td></tr><tr><td>268</td><td>268</td><td>1</td><td>0</td><td>0</td><td>Suzuki Swift</td><td>48</td><td>49.0</td><td>0.01</td><td>2023-03-20</td><td>-834.1253</td><td>0.0</td><td>1068</td><td>1038</td><td>SUV</td><td>INR</td><td>Manual</td><td>1300</td><td>1068</td></tr><tr><td>268</td><td>268</td><td>1</td><td>1</td><td>0</td><td>Grand Vitara</td><td>6</td><td>54670.9942</td><td>1289.0001</td><td>2023-03-20</td><td>-81442.918</td><td>9399.536066</td><td>1068</td><td>1038</td><td>SUV</td><td>INR</td><td>Manual</td><td>1300</td><td>1068</td></tr></tbody></table></div>"
      ]
     },
     "metadata": {
      "application/vnd.databricks.v1+output": {
       "addedWidgets": {},
       "aggData": [],
       "aggError": "",
       "aggOverflow": false,
       "aggSchema": [],
       "aggSeriesLimitReached": false,
       "aggType": "",
       "arguments": {},
       "columnCustomDisplayInfos": {},
       "data": [
        [
         257,
         257,
         1,
         1,
         0,
         "Baleno",
         6,
         72567.98,
         5678.01,
         "2023-02-20",
         2381.657773,
         0.0,
         1071,
         1041,
         "SUV",
         "INR",
         "Manual",
         1300,
         1071
        ],
        [
         264,
         264,
         1,
         0,
         0,
         "Engine_Base",
         90,
         91768.98,
         12678.01,
         "2025-06-30",
         553.8461539,
         0.0,
         1063,
         1034,
         "SUV",
         "INR",
         "Manual",
         1300,
         1063
        ],
        [
         265,
         265,
         1,
         0,
         0,
         "Baleno",
         83,
         8400.123,
         1450.01,
         "2023-12-27",
         -7199.999999,
         0.0,
         1065,
         1037,
         "SUV",
         "INR",
         "Manual",
         1300,
         1065
        ],
        [
         266,
         266,
         1,
         0,
         0,
         "Engine_Base",
         76,
         77345.665,
         3456.01,
         "2024-04-30",
         7200.0,
         0.0,
         1063,
         1034,
         "SUV",
         "INR",
         "Manual",
         1300,
         1063
        ],
        [
         267,
         267,
         1,
         0,
         0,
         "Suzuki Swift",
         96,
         974567.11,
         110.01,
         "2025-12-31",
         1404.878049,
         0.0,
         1063,
         1034,
         "SUV",
         "INR",
         "Manual",
         1300,
         1063
        ],
        [
         268,
         268,
         1,
         1,
         0,
         "Suzuki Swift",
         48,
         49.0,
         0.01,
         "2023-03-20",
         834.1253,
         0.0,
         1068,
         1038,
         "SUV",
         "INR",
         "Manual",
         1300,
         1068
        ],
        [
         270,
         270,
         1,
         0,
         0,
         "Wagon R",
         76,
         77345.665,
         3456.01,
         "2024-03-26",
         7200.0,
         0.0,
         1065,
         1037,
         "SUV",
         "INR",
         "Manual",
         1300,
         1065
        ],
        [
         271,
         271,
         1,
         0,
         0,
         "Engine_Base",
         34,
         35.0,
         12340.0123,
         "2023-03-20",
         1668.2506,
         0.0,
         1068,
         1038,
         "SUV",
         "INR",
         "Manual",
         1300,
         1068
        ],
        [
         272,
         272,
         1,
         1,
         0,
         "Creta",
         29,
         30.0,
         12340.0123,
         "2023-03-20",
         -2383.215143,
         0.0,
         1071,
         1041,
         "SUV",
         "INR",
         "Manual",
         1300,
         1071
        ],
        [
         277,
         277,
         1,
         0,
         0,
         "Brezza",
         73,
         74567.34567,
         3456.01,
         "2023-12-28",
         7440.0,
         0.0,
         1065,
         1037,
         "SUV",
         "INR",
         "Manual",
         1300,
         1065
        ],
        [
         285,
         285,
         1,
         0,
         0,
         "Ertiga",
         83,
         8400.123,
         1450.01,
         "2024-11-29",
         2520.0,
         0.0,
         1063,
         1034,
         "SUV",
         "INR",
         "Manual",
         1300,
         1063
        ],
        [
         292,
         292,
         1,
         1,
         1,
         "Grand Vitara",
         7,
         230.9960486,
         1289.0001,
         "2023-06-20",
         -1013501.197,
         424612.4066,
         1068,
         1038,
         "SUV",
         "INR",
         "Manual",
         1300,
         1068
        ],
        [
         293,
         293,
         1,
         0,
         0,
         "Verna",
         81,
         82123.0,
         1450.01,
         "2023-12-27",
         300.0,
         0.0,
         1065,
         1037,
         "SUV",
         "INR",
         "Manual",
         1300,
         1065
        ],
        [
         295,
         295,
         1,
         0,
         1,
         "Grand Vitara",
         9,
         2120.994668,
         1289.0001,
         "2024-03-20",
         1082123.228,
         -889778.7891,
         1068,
         1038,
         "SUV",
         "INR",
         "Manual",
         1300,
         1068
        ],
        [
         298,
         298,
         1,
         0,
         0,
         "Engine_Base",
         28,
         29.0,
         12340.0123,
         "2023-03-20",
         1668.2506,
         0.0,
         1068,
         1038,
         "SUV",
         "INR",
         "Manual",
         1300,
         1068
        ],
        [
         307,
         307,
         1,
         0,
         0,
         "Engine_Base",
         64,
         65.0,
         0.01,
         "2023-05-22",
         50155.411,
         0.0,
         1068,
         1038,
         "SUV",
         "INR",
         "Manual",
         1300,
         1068
        ],
        [
         309,
         309,
         1,
         0,
         0,
         "Engine_Base",
         47,
         48.0,
         0.01,
         "2023-03-20",
         1429.929086,
         0.0,
         1068,
         1038,
         "SUV",
         "INR",
         "Manual",
         1300,
         1068
        ],
        [
         310,
         310,
         1,
         0,
         0,
         "Engine_Base",
         53,
         543456.1234,
         134560.01,
         "2023-03-20",
         1429.929086,
         0.0,
         1068,
         1038,
         "SUV",
         "INR",
         "Manual",
         1300,
         1068
        ],
        [
         311,
         311,
         1,
         0,
         1,
         "Grand Vitara",
         6,
         54670.9942,
         1289.0001,
         "2023-04-20",
         265906.7505,
         -57499.52979,
         1068,
         1038,
         "SUV",
         "INR",
         "Manual",
         1300,
         1068
        ],
        [
         312,
         312,
         1,
         1,
         0,
         "Grand Vitara",
         7,
         56432.60486,
         1289.0001,
         "2023-05-22",
         -523077.7015,
         134409.9175,
         1068,
         1038,
         "SUV",
         "INR",
         "Manual",
         1300,
         1068
        ],
        [
         313,
         313,
         1,
         0,
         11,
         "Suzuki Swift",
         84,
         853456.765,
         12678.01,
         "2025-01-20",
         -15922.9846,
         0.0,
         1068,
         1038,
         "SUV",
         "INR",
         "Manual",
         1300,
         1068
        ],
        [
         314,
         314,
         1,
         0,
         5,
         "Grand Vitara",
         10,
         6789900.995,
         1289.0001,
         "2024-07-22",
         -4342930.376,
         4761447.664,
         1068,
         1038,
         "SUV",
         "INR",
         "Manual",
         1300,
         1068
        ],
        [
         342,
         342,
         1,
         1,
         1,
         "Grand Vitara",
         6,
         54670.9942,
         1289.0001,
         "2023-06-20",
         219695.6602,
         -9871.460497,
         1071,
         1041,
         "SUV",
         "INR",
         "Manual",
         1300,
         1071
        ],
        [
         346,
         346,
         1,
         1,
         9,
         "Grand Vitara",
         9,
         789.6797,
         1289.0001,
         "2024-11-20",
         -814291.5441,
         107770.5994,
         1071,
         1041,
         "SUV",
         "INR",
         "Manual",
         1300,
         1071
        ],
        [
         354,
         354,
         1,
         2,
         0,
         "Grand Vitara",
         4,
         14567.3,
         1234.156,
         "2023-02-20",
         1637.389719,
         -75.04713722,
         1071,
         1041,
         "SUV",
         "INR",
         "Manual",
         1300,
         1071
        ],
        [
         357,
         357,
         1,
         2,
         0,
         "Seltos",
         48,
         49.0,
         0.01,
         "2023-03-20",
         -99.30063095,
         0.0,
         1071,
         1041,
         "SUV",
         "INR",
         "Manual",
         1300,
         1071
        ],
        [
         364,
         364,
         1,
         2,
         1,
         "Grand Vitara",
         6,
         54670.9942,
         1289.0001,
         "2023-06-20",
         219695.6602,
         -9871.460497,
         1071,
         1041,
         "SUV",
         "INR",
         "Manual",
         1300,
         1071
        ],
        [
         372,
         372,
         1,
         2,
         2,
         "Grand Vitara",
         9,
         789.6797,
         1289.0001,
         "2024-04-19",
         4144304.343,
         -3057563.119,
         1071,
         1041,
         "SUV",
         "INR",
         "Manual",
         1300,
         1071
        ],
        [
         394,
         394,
         8,
         1,
         0,
         "Grand Vitara",
         5,
         2953456.992,
         10.01,
         "2023-02-07",
         -2392.895,
         98751.167,
         1071,
         1041,
         "SUV",
         "INR",
         "Manual",
         1300,
         1071
        ],
        [
         398,
         398,
         1,
         1,
         0,
         "Grand Vitara",
         7,
         56432.60486,
         1289.0001,
         "2023-04-11",
         -1343.606266,
         37.52647899,
         1071,
         1041,
         "SUV",
         "INR",
         "Manual",
         1300,
         1071
        ],
        [
         402,
         402,
         1,
         0,
         8,
         "Grand Vitara",
         10,
         6789900.995,
         1289.0001,
         "2024-09-06",
         -110438.3045,
         149497.9282,
         1071,
         1041,
         "SUV",
         "INR",
         "Manual",
         1300,
         1071
        ],
        [
         414,
         414,
         1,
         0,
         0,
         "Suzuki Swift",
         65,
         66345.789,
         45678.01,
         "2023-05-16",
         54.0,
         0.0,
         1063,
         1034,
         "SUV",
         "INR",
         "Manual",
         1300,
         1063
        ],
        [
         415,
         415,
         1,
         0,
         0,
         "Ertiga",
         65,
         66345.789,
         45678.01,
         "2023-05-16",
         120.0,
         0.0,
         1063,
         1034,
         "SUV",
         "INR",
         "Manual",
         1300,
         1063
        ],
        [
         417,
         417,
         2,
         1,
         0,
         "Grand Vitara",
         5,
         2953456.992,
         10.01,
         "2023-02-20",
         45523.252,
         -32209.615,
         1068,
         1038,
         "SUV",
         "INR",
         "Manual",
         1300,
         1068
        ],
        [
         419,
         419,
         2,
         0,
         0,
         "Grand Vitara",
         4,
         14567.3,
         1234.156,
         "2023-02-20",
         491.8991615,
         -22.54564606,
         1068,
         1038,
         "SUV",
         "INR",
         "Manual",
         1300,
         1068
        ],
        [
         427,
         427,
         1,
         0,
         0,
         "Engine_Base",
         31,
         32.0,
         12340.0123,
         "2023-03-20",
         1277.403417,
         0.0,
         1068,
         1038,
         "SUV",
         "INR",
         "Manual",
         1300,
         1068
        ],
        [
         430,
         430,
         1,
         1,
         2,
         "Grand Vitara",
         8,
         3894560.999,
         1289.0001,
         "2023-07-20",
         -198949.4303,
         23126.69531,
         1068,
         1038,
         "SUV",
         "INR",
         "Manual",
         1300,
         1068
        ],
        [
         431,
         431,
         1,
         0,
         2,
         "Grand Vitara",
         6,
         54670.9942,
         1289.0001,
         "2023-05-22",
         -322503.5582,
         40755.97972,
         1068,
         1038,
         "SUV",
         "INR",
         "Manual",
         1300,
         1068
        ],
        [
         440,
         440,
         1,
         0,
         4,
         "Engine_Base",
         77,
         78234.543,
         1450.01,
         "2024-06-20",
         -41371.0323,
         0.0,
         1068,
         1038,
         "SUV",
         "INR",
         "Manual",
         1300,
         1068
        ],
        [
         442,
         442,
         1,
         0,
         0,
         "Suzuki Swift",
         35,
         36.0,
         0.01,
         "2023-03-20",
         74.22327667,
         0.0,
         1068,
         1038,
         "SUV",
         "INR",
         "Manual",
         1300,
         1068
        ],
        [
         448,
         448,
         1,
         1,
         1,
         "Suzuki Swift",
         65,
         66345.789,
         45678.01,
         "2023-06-20",
         -333.7531355,
         0.0,
         1068,
         1038,
         "SUV",
         "INR",
         "Manual",
         1300,
         1068
        ],
        [
         453,
         453,
         1,
         0,
         0,
         "Engine_Base",
         32,
         33.0,
         12340.0123,
         "2023-03-20",
         -1291.849863,
         0.0,
         1068,
         1038,
         "SUV",
         "INR",
         "Manual",
         1300,
         1068
        ],
        [
         458,
         458,
         1,
         1,
         7,
         "Engine_Base",
         80,
         815678.435,
         1450.01,
         "2024-09-20",
         -40472.1143,
         0.0,
         1068,
         1038,
         "SUV",
         "INR",
         "Manual",
         1300,
         1068
        ],
        [
         461,
         461,
         2,
         1,
         0,
         "Grand Vitara",
         5,
         2953456.992,
         10.01,
         "2023-02-20",
         37489.063,
         -2328.935079,
         1068,
         1038,
         "SUV",
         "INR",
         "Manual",
         1300,
         1068
        ],
        [
         466,
         466,
         1,
         0,
         0,
         "Suzuki Swift",
         28,
         29.0,
         12340.0123,
         "2023-03-20",
         104.2472325,
         0.0,
         1068,
         1038,
         "SUV",
         "INR",
         "Manual",
         1300,
         1068
        ],
        [
         471,
         471,
         1,
         1,
         1,
         "Grand Vitara",
         6,
         54670.9942,
         1289.0001,
         "2023-06-20",
         -86871.84927,
         3903.405741,
         1068,
         1038,
         "SUV",
         "INR",
         "Manual",
         1300,
         1068
        ],
        [
         477,
         477,
         1,
         0,
         2,
         "Grand Vitara",
         6,
         54670.9942,
         1289.0001,
         "2023-05-22",
         -322503.5582,
         40755.97972,
         1068,
         1038,
         "SUV",
         "INR",
         "Manual",
         1300,
         1068
        ],
        [
         481,
         481,
         1,
         0,
         11,
         "Suzuki Swift",
         84,
         853456.765,
         12678.01,
         "2025-01-20",
         851.5843579,
         0.0,
         1068,
         1038,
         "SUV",
         "INR",
         "Manual",
         1300,
         1068
        ],
        [
         485,
         485,
         1,
         1,
         0,
         "Seltos",
         30,
         31.0,
         12340.0123,
         "2023-03-20",
         11077.73033,
         0.0,
         1071,
         1041,
         "SUV",
         "INR",
         "Manual",
         1300,
         1071
        ],
        [
         489,
         489,
         1,
         2,
         0,
         "EXAUST_SYSTEM",
         64,
         65.0,
         0.01,
         "2023-05-19",
         -951204.6824,
         -1.4901E-4,
         1071,
         1041,
         "SUV",
         "INR",
         "Manual",
         1300,
         1071
        ],
        [
         494,
         494,
         1,
         2,
         4,
         "Grand Vitara",
         9,
         789.6797,
         1289.0001,
         "2024-06-20",
         1.940047187E8,
         -1.092608809E8,
         1071,
         1041,
         "SUV",
         "INR",
         "Manual",
         1300,
         1071
        ],
        [
         502,
         502,
         1,
         1,
         0,
         "Baleno",
         4,
         51234.567,
         5678.01,
         "2023-02-20",
         3286.400034,
         0.0,
         1071,
         1041,
         "SUV",
         "INR",
         "Manual",
         1300,
         1071
        ],
        [
         506,
         506,
         1,
         1,
         0,
         "Creta",
         45,
         46.0,
         0.01,
         "2023-03-20",
         -14444.1487,
         0.0,
         1071,
         1041,
         "SUV",
         "INR",
         "Manual",
         1300,
         1071
        ],
        [
         510,
         510,
         1,
         2,
         1,
         "Grand Vitara",
         7,
         56432.60486,
         1289.0001,
         "2023-06-20",
         -1.035852679E7,
         4339766.502,
         1071,
         1041,
         "SUV",
         "INR",
         "Manual",
         1300,
         1071
        ],
        [
         514,
         514,
         1,
         2,
         1,
         "Grand Vitara",
         9,
         789.6797,
         1289.0001,
         "2024-03-20",
         5.787714669E7,
         -4.758964479E7,
         1071,
         1041,
         "SUV",
         "INR",
         "Manual",
         1300,
         1071
        ],
        [
         437,
         534,
         3,
         0,
         0,
         "Grand Vitara",
         5,
         2953456.992,
         10.01,
         "2023-02-20",
         1427.286476,
         -128760.92,
         1068,
         1038,
         "SUV",
         "INR",
         "Manual",
         1300,
         1068
        ],
        [
         269,
         544,
         2,
         0,
         0,
         "Brezza",
         73,
         74567.34567,
         3456.01,
         "2023-12-27",
         7436.593407,
         0.0,
         1065,
         1037,
         "SUV",
         "INR",
         "Manual",
         1300,
         1065
        ],
        [
         274,
         575,
         2,
         0,
         0,
         "Grand I20",
         81,
         82123.0,
         1450.01,
         "2024-09-30",
         7184.615385,
         0.0,
         1062,
         1033,
         "SUV",
         "INR",
         "Manual",
         1300,
         1062
        ],
        [
         275,
         576,
         2,
         0,
         0,
         "BENZ GLE",
         85,
         8612345.568,
         12678.01,
         "2025-03-31",
         2574.0,
         0.0,
         1062,
         1033,
         "SUV",
         "INR",
         "Manual",
         1300,
         1062
        ],
        [
         276,
         577,
         2,
         0,
         0,
         "Grand I20",
         69,
         70234.56789,
         3456.01,
         "2023-10-02",
         7200.0,
         0.0,
         1062,
         1033,
         "SUV",
         "INR",
         "Manual",
         1300,
         1062
        ],
        [
         294,
         579,
         2,
         0,
         0,
         "BENZ GLE",
         84,
         853456.765,
         12678.01,
         "2024-12-31",
         2285.714286,
         0.0,
         1062,
         1033,
         "SUV",
         "INR",
         "Manual",
         1300,
         1062
        ],
        [
         273,
         580,
         2,
         0,
         0,
         "Celerio",
         1,
         1.16,
         1.0E-4,
         "2023-03-15",
         640000.0,
         0.0,
         1061,
         1032,
         "SUV",
         "INR",
         "Manual",
         1300,
         1061
        ],
        [
         289,
         581,
         2,
         0,
         0,
         "BENZ GLE",
         87,
         88234.432,
         12678.01,
         "2025-03-31",
         2520.0,
         0.0,
         1062,
         1033,
         "SUV",
         "INR",
         "Manual",
         1300,
         1062
        ],
        [
         257,
         257,
         1,
         2,
         0,
         "Grand Vitara",
         5,
         2953456.992,
         10.01,
         "2023-02-20",
         16142.34713,
         -128760.92,
         1071,
         1041,
         "SUV",
         "INR",
         "Manual",
         1300,
         1071
        ],
        [
         257,
         257,
         1,
         2,
         0,
         "Grand Vitara",
         4,
         14567.3,
         1234.156,
         "2023-02-20",
         8732.745169,
         -400.247518,
         1071,
         1041,
         "SUV",
         "INR",
         "Manual",
         1300,
         1071
        ],
        [
         257,
         257,
         1,
         1,
         0,
         "Baleno",
         4,
         51234.567,
         5678.01,
         "2023-02-20",
         2381.657773,
         0.0,
         1071,
         1041,
         "SUV",
         "INR",
         "Manual",
         1300,
         1071
        ],
        [
         257,
         257,
         1,
         1,
         0,
         "Grand Vitara",
         5,
         2953456.992,
         10.01,
         "2023-02-20",
         -5439.145,
         376.0942491,
         1071,
         1041,
         "SUV",
         "INR",
         "Manual",
         1300,
         1071
        ],
        [
         257,
         257,
         1,
         1,
         0,
         "Baleno",
         5,
         6234.546,
         5678.01,
         "2023-02-20",
         2381.657773,
         0.0,
         1071,
         1041,
         "SUV",
         "INR",
         "Manual",
         1300,
         1071
        ],
        [
         257,
         257,
         1,
         1,
         0,
         "Baleno",
         3,
         4234.56789,
         5678.01,
         "2023-02-20",
         2381.657773,
         0.0,
         1071,
         1041,
         "SUV",
         "INR",
         "Manual",
         1300,
         1071
        ],
        [
         257,
         257,
         1,
         1,
         0,
         "Grand Vitara",
         4,
         14567.3,
         1234.156,
         "2023-02-20",
         -2401.504922,
         110.0692316,
         1071,
         1041,
         "SUV",
         "INR",
         "Manual",
         1300,
         1071
        ],
        [
         264,
         264,
         1,
         0,
         0,
         "Suzuki Swift",
         90,
         91768.98,
         12678.01,
         "2025-06-30",
         7246.153846,
         0.0,
         1063,
         1034,
         "SUV",
         "INR",
         "Manual",
         1300,
         1063
        ],
        [
         265,
         265,
         1,
         0,
         0,
         "Baleno",
         81,
         82123.0,
         1450.01,
         "2023-12-27",
         -7199.999999,
         0.0,
         1065,
         1037,
         "SUV",
         "INR",
         "Manual",
         1300,
         1065
        ],
        [
         265,
         265,
         1,
         0,
         0,
         "Baleno",
         84,
         853456.765,
         12678.01,
         "2023-12-27",
         -7439.999999,
         0.0,
         1065,
         1037,
         "SUV",
         "INR",
         "Manual",
         1300,
         1065
        ],
        [
         265,
         265,
         1,
         0,
         0,
         "Baleno",
         75,
         764567.1234,
         3456.01,
         "2023-12-27",
         -7440.0,
         0.0,
         1065,
         1037,
         "SUV",
         "INR",
         "Manual",
         1300,
         1065
        ],
        [
         265,
         265,
         1,
         0,
         0,
         "Baleno",
         73,
         74567.34567,
         3456.01,
         "2023-12-27",
         -7440.0,
         0.0,
         1065,
         1037,
         "SUV",
         "INR",
         "Manual",
         1300,
         1065
        ],
        [
         265,
         265,
         1,
         0,
         0,
         "Baleno",
         78,
         79234.678,
         1450.01,
         "2023-12-27",
         -7200.0,
         0.0,
         1065,
         1037,
         "SUV",
         "INR",
         "Manual",
         1300,
         1065
        ],
        [
         265,
         265,
         1,
         0,
         0,
         "Baleno",
         77,
         78234.543,
         1450.01,
         "2023-12-27",
         -7440.0,
         0.0,
         1065,
         1037,
         "SUV",
         "INR",
         "Manual",
         1300,
         1065
        ],
        [
         265,
         265,
         1,
         0,
         0,
         "Baleno",
         76,
         77345.665,
         3456.01,
         "2023-12-27",
         -7200.0,
         0.0,
         1065,
         1037,
         "SUV",
         "INR",
         "Manual",
         1300,
         1065
        ],
        [
         265,
         265,
         1,
         0,
         0,
         "Baleno",
         80,
         815678.435,
         1450.01,
         "2023-12-27",
         -7439.999999,
         0.0,
         1065,
         1037,
         "SUV",
         "INR",
         "Manual",
         1300,
         1065
        ],
        [
         265,
         265,
         1,
         0,
         0,
         "Baleno",
         74,
         75456.6543,
         3456.01,
         "2023-12-27",
         -6960.0,
         0.0,
         1065,
         1037,
         "SUV",
         "INR",
         "Manual",
         1300,
         1065
        ],
        [
         265,
         265,
         1,
         0,
         0,
         "Baleno",
         79,
         809876.456,
         1450.01,
         "2023-12-27",
         -7440.0,
         0.0,
         1065,
         1037,
         "SUV",
         "INR",
         "Manual",
         1300,
         1065
        ],
        [
         265,
         265,
         1,
         0,
         0,
         "Baleno",
         82,
         83345.789,
         1450.01,
         "2023-12-27",
         -7439.999999,
         0.0,
         1065,
         1037,
         "SUV",
         "INR",
         "Manual",
         1300,
         1065
        ],
        [
         267,
         267,
         1,
         0,
         0,
         "Engine_Base",
         96,
         974567.11,
         110.01,
         "2025-12-31",
         86195.12195,
         0.0,
         1063,
         1034,
         "SUV",
         "INR",
         "Manual",
         1300,
         1063
        ],
        [
         268,
         268,
         1,
         1,
         0,
         "Suzuki Swift",
         37,
         38.0,
         0.01,
         "2023-03-20",
         834.1253,
         0.0,
         1068,
         1038,
         "SUV",
         "INR",
         "Manual",
         1300,
         1068
        ],
        [
         268,
         268,
         1,
         1,
         0,
         "Suzuki Swift",
         36,
         37.0,
         0.01,
         "2023-03-20",
         834.1253,
         0.0,
         1068,
         1038,
         "SUV",
         "INR",
         "Manual",
         1300,
         1068
        ],
        [
         268,
         268,
         1,
         0,
         0,
         "Suzuki Swift",
         54,
         55.0,
         134560.01,
         "2023-03-20",
         -834.1253,
         0.0,
         1068,
         1038,
         "SUV",
         "INR",
         "Manual",
         1300,
         1068
        ],
        [
         268,
         268,
         1,
         1,
         0,
         "Suzuki Swift",
         34,
         35.0,
         12340.0123,
         "2023-03-20",
         834.1253,
         0.0,
         1068,
         1038,
         "SUV",
         "INR",
         "Manual",
         1300,
         1068
        ],
        [
         268,
         268,
         1,
         1,
         0,
         "Suzuki Swift",
         40,
         41.0,
         0.01,
         "2023-03-20",
         834.1253,
         0.0,
         1068,
         1038,
         "SUV",
         "INR",
         "Manual",
         1300,
         1068
        ],
        [
         268,
         268,
         1,
         1,
         0,
         "Suzuki Swift",
         41,
         42.0,
         0.01,
         "2023-03-20",
         834.1253,
         0.0,
         1068,
         1038,
         "SUV",
         "INR",
         "Manual",
         1300,
         1068
        ],
        [
         268,
         268,
         1,
         1,
         0,
         "Suzuki Swift",
         47,
         48.0,
         0.01,
         "2023-03-20",
         834.1253,
         0.0,
         1068,
         1038,
         "SUV",
         "INR",
         "Manual",
         1300,
         1068
        ],
        [
         268,
         268,
         1,
         1,
         0,
         "Suzuki Swift",
         44,
         45.0,
         0.01,
         "2023-03-20",
         834.1253,
         0.0,
         1068,
         1038,
         "SUV",
         "INR",
         "Manual",
         1300,
         1068
        ],
        [
         268,
         268,
         1,
         0,
         0,
         "Suzuki Swift",
         35,
         36.0,
         0.01,
         "2023-03-20",
         -834.1253,
         0.0,
         1068,
         1038,
         "SUV",
         "INR",
         "Manual",
         1300,
         1068
        ],
        [
         268,
         268,
         1,
         1,
         0,
         "Suzuki Swift",
         30,
         31.0,
         12340.0123,
         "2023-03-20",
         834.1253,
         0.0,
         1068,
         1038,
         "SUV",
         "INR",
         "Manual",
         1300,
         1068
        ],
        [
         268,
         268,
         1,
         1,
         0,
         "Suzuki Swift",
         42,
         43.0,
         0.01,
         "2023-03-20",
         834.1253,
         0.0,
         1068,
         1038,
         "SUV",
         "INR",
         "Manual",
         1300,
         1068
        ],
        [
         268,
         268,
         1,
         0,
         0,
         "Suzuki Swift",
         44,
         45.0,
         0.01,
         "2023-03-20",
         -834.1253,
         0.0,
         1068,
         1038,
         "SUV",
         "INR",
         "Manual",
         1300,
         1068
        ],
        [
         268,
         268,
         1,
         0,
         0,
         "Suzuki Swift",
         30,
         31.0,
         12340.0123,
         "2023-03-20",
         -834.1253,
         0.0,
         1068,
         1038,
         "SUV",
         "INR",
         "Manual",
         1300,
         1068
        ],
        [
         268,
         268,
         1,
         0,
         0,
         "Suzuki Swift",
         33,
         34.0,
         12340.0123,
         "2023-03-20",
         -834.1253,
         0.0,
         1068,
         1038,
         "SUV",
         "INR",
         "Manual",
         1300,
         1068
        ],
        [
         268,
         268,
         1,
         0,
         0,
         "Grand Vitara",
         5,
         2953456.992,
         10.01,
         "2023-03-20",
         65571.66613,
         -6093.014963,
         1068,
         1038,
         "SUV",
         "INR",
         "Manual",
         1300,
         1068
        ],
        [
         268,
         268,
         1,
         0,
         0,
         "Suzuki Swift",
         48,
         49.0,
         0.01,
         "2023-03-20",
         -834.1253,
         0.0,
         1068,
         1038,
         "SUV",
         "INR",
         "Manual",
         1300,
         1068
        ],
        [
         268,
         268,
         1,
         1,
         0,
         "Grand Vitara",
         6,
         54670.9942,
         1289.0001,
         "2023-03-20",
         -81442.918,
         9399.536066,
         1068,
         1038,
         "SUV",
         "INR",
         "Manual",
         1300,
         1068
        ]
       ],
       "datasetInfos": [],
       "dbfsResultPath": null,
       "isJsonSchema": true,
       "metadata": {},
       "overflow": false,
       "plotOptions": {
        "customPlotOptions": {},
        "displayType": "table",
        "pivotAggregation": null,
        "pivotColumns": null,
        "xColumns": null,
        "yColumns": null
       },
       "removedWidgets": [],
       "schema": [
        {
         "metadata": "{}",
         "name": "Id",
         "type": "\"integer\""
        },
        {
         "metadata": "{}",
         "name": "dept_Id",
         "type": "\"integer\""
        },
        {
         "metadata": "{}",
         "name": "SubDept_Id",
         "type": "\"integer\""
        },
        {
         "metadata": "{}",
         "name": "Vehicle_Id",
         "type": "\"integer\""
        },
        {
         "metadata": "{}",
         "name": "Vehicle_Profile_Id",
         "type": "\"integer\""
        },
        {
         "metadata": "{}",
         "name": "Description",
         "type": "\"string\""
        },
        {
         "metadata": "{}",
         "name": "Vehicle_Price_Id",
         "type": "\"integer\""
        },
        {
         "metadata": "{}",
         "name": "Vehicle_Showroom_Price",
         "type": "\"double\""
        },
        {
         "metadata": "{}",
         "name": "Vehicle_Showroom_Delta",
         "type": "\"double\""
        },
        {
         "metadata": "{\"__detected_date_formats\":\"M/d/yyyy\"}",
         "name": "Vehicle_Showroom_Payment_Date",
         "type": "\"date\""
        },
        {
         "metadata": "{}",
         "name": "Average",
         "type": "\"double\""
        },
        {
         "metadata": "{}",
         "name": "Increment",
         "type": "\"double\""
        },
        {
         "metadata": "{}",
         "name": "Target_Simulation_Id",
         "type": "\"integer\""
        },
        {
         "metadata": "{}",
         "name": "Target_Event_Identity",
         "type": "\"integer\""
        },
        {
         "metadata": "{}",
         "name": "Vehicle_Name",
         "type": "\"string\""
        },
        {
         "metadata": "{}",
         "name": "Sales_Currency",
         "type": "\"string\""
        },
        {
         "metadata": "{}",
         "name": "Transmission",
         "type": "\"string\""
        },
        {
         "metadata": "{}",
         "name": "Capacity",
         "type": "\"integer\""
        },
        {
         "metadata": "{}",
         "name": "Target_Simulation_Identity",
         "type": "\"integer\""
        }
       ],
       "type": "table"
      }
     },
     "output_type": "display_data"
    }
   ],
   "source": [
    "# left join \"Sales_Collect_Rev02\" & \"SalesData_Rev02\"\n",
    "Sales_Collect_df_Rev02_01 = Sales_Collect_Rev02.\\\n",
    "                             join(SalesData_Rev02, how='left',\n",
    "                                  on=[f.col('Target_Simulation_Id') == f.col('Target_Simulation_Identity')])\n",
    "                        \n",
    "display(Sales_Collect_df_Rev02_01.limit(100))"
   ]
  },
  {
   "cell_type": "code",
   "execution_count": 0,
   "metadata": {
    "application/vnd.databricks.v1+cell": {
     "cellMetadata": {
      "byteLimit": 2048000,
      "rowLimit": 10000
     },
     "inputWidgets": {},
     "nuid": "671902af-c1c1-4e0e-83a8-1b4684958fe1",
     "showTitle": true,
     "tableResultSettingsMap": {},
     "title": "join: Sales_Collect_Rev02, SalesData_Rev02 & RunningData_Rev02"
    }
   },
   "outputs": [
    {
     "output_type": "display_data",
     "data": {
      "text/html": [
       "<style scoped>\n",
       "  .table-result-container {\n",
       "    max-height: 300px;\n",
       "    overflow: auto;\n",
       "  }\n",
       "  table, th, td {\n",
       "    border: 1px solid black;\n",
       "    border-collapse: collapse;\n",
       "  }\n",
       "  th, td {\n",
       "    padding: 5px;\n",
       "  }\n",
       "  th {\n",
       "    text-align: left;\n",
       "  }\n",
       "</style><div class='table-result-container'><table class='table-result'><thead style='background-color: white'><tr><th>Target_Event_Identity</th><th>Id</th><th>dept_Id</th><th>SubDept_Id</th><th>Vehicle_Id</th><th>Vehicle_Profile_Id</th><th>Description</th><th>Vehicle_Price_Id</th><th>Vehicle_Showroom_Price</th><th>Vehicle_Showroom_Delta</th><th>Vehicle_Showroom_Payment_Date</th><th>Average</th><th>Increment</th><th>Target_Simulation_Id</th><th>Vehicle_Name</th><th>Sales_Currency</th><th>Transmission</th><th>Capacity</th><th>Target_Simulation_Identity</th><th>Sales_Timestamp</th><th>Method</th><th>Customer</th><th>Sales_Event</th><th>Type_of_Market</th><th>Vehicle_Delivery_Date</th><th>Vehicle_Delivery_Status</th><th>Post_Vehicle_Delivery_Status</th><th>Database</th></tr></thead><tbody><tr><td>1041</td><td>257</td><td>257</td><td>1</td><td>1</td><td>0</td><td>Baleno</td><td>6</td><td>72567.98</td><td>5678.01</td><td>2023-02-20</td><td>2381.657773</td><td>0.0</td><td>1071</td><td>SUV</td><td>INR</td><td>Manual</td><td>1300</td><td>1071</td><td>1717497749</td><td>Dealership</td><td>SRS Travels</td><td>Bulk Delivery</td><td>Commercial</td><td>4-Jan-23</td><td>DOB</td><td>DOJ</td><td>Azure</td></tr><tr><td>1034</td><td>264</td><td>264</td><td>1</td><td>0</td><td>0</td><td>Engine_Base</td><td>90</td><td>91768.98</td><td>12678.01</td><td>2025-06-30</td><td>553.8461539</td><td>0.0</td><td>1063</td><td>SUV</td><td>INR</td><td>Manual</td><td>1300</td><td>1063</td><td>1717497688</td><td>Dealership</td><td>SRS Travels</td><td>Bulk Delivery</td><td>Commercial</td><td>4-Jan-23</td><td>DOB</td><td>DOJ</td><td>Azure</td></tr><tr><td>1037</td><td>265</td><td>265</td><td>1</td><td>0</td><td>0</td><td>Baleno</td><td>83</td><td>8400.123</td><td>1450.01</td><td>2023-12-27</td><td>-7199.999999</td><td>0.0</td><td>1065</td><td>SUV</td><td>INR</td><td>Manual</td><td>1300</td><td>1065</td><td>1717497711</td><td>Dealership</td><td>SRS Travels</td><td>Bulk Delivery</td><td>Commercial</td><td>4-Jan-23</td><td>DOB</td><td>DOJ</td><td>Azure</td></tr><tr><td>1034</td><td>266</td><td>266</td><td>1</td><td>0</td><td>0</td><td>Engine_Base</td><td>76</td><td>77345.665</td><td>3456.01</td><td>2024-04-30</td><td>7200.0</td><td>0.0</td><td>1063</td><td>SUV</td><td>INR</td><td>Manual</td><td>1300</td><td>1063</td><td>1717497688</td><td>Dealership</td><td>SRS Travels</td><td>Bulk Delivery</td><td>Commercial</td><td>4-Jan-23</td><td>DOB</td><td>DOJ</td><td>Azure</td></tr><tr><td>1034</td><td>267</td><td>267</td><td>1</td><td>0</td><td>0</td><td>Suzuki Swift</td><td>96</td><td>974567.11</td><td>110.01</td><td>2025-12-31</td><td>1404.878049</td><td>0.0</td><td>1063</td><td>SUV</td><td>INR</td><td>Manual</td><td>1300</td><td>1063</td><td>1717497688</td><td>Dealership</td><td>SRS Travels</td><td>Bulk Delivery</td><td>Commercial</td><td>4-Jan-23</td><td>DOB</td><td>DOJ</td><td>Azure</td></tr><tr><td>1038</td><td>268</td><td>268</td><td>1</td><td>1</td><td>0</td><td>Suzuki Swift</td><td>48</td><td>49.0</td><td>0.01</td><td>2023-03-20</td><td>834.1253</td><td>0.0</td><td>1068</td><td>SUV</td><td>INR</td><td>Manual</td><td>1300</td><td>1068</td><td>1717497741</td><td>Dealership</td><td>SRS Travels</td><td>Bulk Delivery</td><td>Commercial</td><td>4-Jan-23</td><td>DOB</td><td>DOJ</td><td>Azure</td></tr><tr><td>1037</td><td>270</td><td>270</td><td>1</td><td>0</td><td>0</td><td>Wagon R</td><td>76</td><td>77345.665</td><td>3456.01</td><td>2024-03-26</td><td>7200.0</td><td>0.0</td><td>1065</td><td>SUV</td><td>INR</td><td>Manual</td><td>1300</td><td>1065</td><td>1717497711</td><td>Dealership</td><td>SRS Travels</td><td>Bulk Delivery</td><td>Commercial</td><td>4-Jan-23</td><td>DOB</td><td>DOJ</td><td>Azure</td></tr><tr><td>1038</td><td>271</td><td>271</td><td>1</td><td>0</td><td>0</td><td>Engine_Base</td><td>34</td><td>35.0</td><td>12340.0123</td><td>2023-03-20</td><td>1668.2506</td><td>0.0</td><td>1068</td><td>SUV</td><td>INR</td><td>Manual</td><td>1300</td><td>1068</td><td>1717497741</td><td>Dealership</td><td>SRS Travels</td><td>Bulk Delivery</td><td>Commercial</td><td>4-Jan-23</td><td>DOB</td><td>DOJ</td><td>Azure</td></tr><tr><td>1041</td><td>272</td><td>272</td><td>1</td><td>1</td><td>0</td><td>Creta</td><td>29</td><td>30.0</td><td>12340.0123</td><td>2023-03-20</td><td>-2383.215143</td><td>0.0</td><td>1071</td><td>SUV</td><td>INR</td><td>Manual</td><td>1300</td><td>1071</td><td>1717497749</td><td>Dealership</td><td>SRS Travels</td><td>Bulk Delivery</td><td>Commercial</td><td>4-Jan-23</td><td>DOB</td><td>DOJ</td><td>Azure</td></tr><tr><td>1037</td><td>277</td><td>277</td><td>1</td><td>0</td><td>0</td><td>Brezza</td><td>73</td><td>74567.34567</td><td>3456.01</td><td>2023-12-28</td><td>7440.0</td><td>0.0</td><td>1065</td><td>SUV</td><td>INR</td><td>Manual</td><td>1300</td><td>1065</td><td>1717497711</td><td>Dealership</td><td>SRS Travels</td><td>Bulk Delivery</td><td>Commercial</td><td>4-Jan-23</td><td>DOB</td><td>DOJ</td><td>Azure</td></tr></tbody></table></div>"
      ]
     },
     "metadata": {
      "application/vnd.databricks.v1+output": {
       "addedWidgets": {},
       "aggData": [],
       "aggError": "",
       "aggOverflow": false,
       "aggSchema": [],
       "aggSeriesLimitReached": false,
       "aggType": "",
       "arguments": {},
       "columnCustomDisplayInfos": {},
       "data": [
        [
         1041,
         257,
         257,
         1,
         1,
         0,
         "Baleno",
         6,
         72567.98,
         5678.01,
         "2023-02-20",
         2381.657773,
         0.0,
         1071,
         "SUV",
         "INR",
         "Manual",
         1300,
         1071,
         1717497749,
         "Dealership",
         "SRS Travels",
         "Bulk Delivery",
         "Commercial",
         "4-Jan-23",
         "DOB",
         "DOJ",
         "Azure"
        ],
        [
         1034,
         264,
         264,
         1,
         0,
         0,
         "Engine_Base",
         90,
         91768.98,
         12678.01,
         "2025-06-30",
         553.8461539,
         0.0,
         1063,
         "SUV",
         "INR",
         "Manual",
         1300,
         1063,
         1717497688,
         "Dealership",
         "SRS Travels",
         "Bulk Delivery",
         "Commercial",
         "4-Jan-23",
         "DOB",
         "DOJ",
         "Azure"
        ],
        [
         1037,
         265,
         265,
         1,
         0,
         0,
         "Baleno",
         83,
         8400.123,
         1450.01,
         "2023-12-27",
         -7199.999999,
         0.0,
         1065,
         "SUV",
         "INR",
         "Manual",
         1300,
         1065,
         1717497711,
         "Dealership",
         "SRS Travels",
         "Bulk Delivery",
         "Commercial",
         "4-Jan-23",
         "DOB",
         "DOJ",
         "Azure"
        ],
        [
         1034,
         266,
         266,
         1,
         0,
         0,
         "Engine_Base",
         76,
         77345.665,
         3456.01,
         "2024-04-30",
         7200.0,
         0.0,
         1063,
         "SUV",
         "INR",
         "Manual",
         1300,
         1063,
         1717497688,
         "Dealership",
         "SRS Travels",
         "Bulk Delivery",
         "Commercial",
         "4-Jan-23",
         "DOB",
         "DOJ",
         "Azure"
        ],
        [
         1034,
         267,
         267,
         1,
         0,
         0,
         "Suzuki Swift",
         96,
         974567.11,
         110.01,
         "2025-12-31",
         1404.878049,
         0.0,
         1063,
         "SUV",
         "INR",
         "Manual",
         1300,
         1063,
         1717497688,
         "Dealership",
         "SRS Travels",
         "Bulk Delivery",
         "Commercial",
         "4-Jan-23",
         "DOB",
         "DOJ",
         "Azure"
        ],
        [
         1038,
         268,
         268,
         1,
         1,
         0,
         "Suzuki Swift",
         48,
         49.0,
         0.01,
         "2023-03-20",
         834.1253,
         0.0,
         1068,
         "SUV",
         "INR",
         "Manual",
         1300,
         1068,
         1717497741,
         "Dealership",
         "SRS Travels",
         "Bulk Delivery",
         "Commercial",
         "4-Jan-23",
         "DOB",
         "DOJ",
         "Azure"
        ],
        [
         1037,
         270,
         270,
         1,
         0,
         0,
         "Wagon R",
         76,
         77345.665,
         3456.01,
         "2024-03-26",
         7200.0,
         0.0,
         1065,
         "SUV",
         "INR",
         "Manual",
         1300,
         1065,
         1717497711,
         "Dealership",
         "SRS Travels",
         "Bulk Delivery",
         "Commercial",
         "4-Jan-23",
         "DOB",
         "DOJ",
         "Azure"
        ],
        [
         1038,
         271,
         271,
         1,
         0,
         0,
         "Engine_Base",
         34,
         35.0,
         12340.0123,
         "2023-03-20",
         1668.2506,
         0.0,
         1068,
         "SUV",
         "INR",
         "Manual",
         1300,
         1068,
         1717497741,
         "Dealership",
         "SRS Travels",
         "Bulk Delivery",
         "Commercial",
         "4-Jan-23",
         "DOB",
         "DOJ",
         "Azure"
        ],
        [
         1041,
         272,
         272,
         1,
         1,
         0,
         "Creta",
         29,
         30.0,
         12340.0123,
         "2023-03-20",
         -2383.215143,
         0.0,
         1071,
         "SUV",
         "INR",
         "Manual",
         1300,
         1071,
         1717497749,
         "Dealership",
         "SRS Travels",
         "Bulk Delivery",
         "Commercial",
         "4-Jan-23",
         "DOB",
         "DOJ",
         "Azure"
        ],
        [
         1037,
         277,
         277,
         1,
         0,
         0,
         "Brezza",
         73,
         74567.34567,
         3456.01,
         "2023-12-28",
         7440.0,
         0.0,
         1065,
         "SUV",
         "INR",
         "Manual",
         1300,
         1065,
         1717497711,
         "Dealership",
         "SRS Travels",
         "Bulk Delivery",
         "Commercial",
         "4-Jan-23",
         "DOB",
         "DOJ",
         "Azure"
        ]
       ],
       "datasetInfos": [],
       "dbfsResultPath": null,
       "isJsonSchema": true,
       "metadata": {},
       "overflow": false,
       "plotOptions": {
        "customPlotOptions": {},
        "displayType": "table",
        "pivotAggregation": null,
        "pivotColumns": null,
        "xColumns": null,
        "yColumns": null
       },
       "removedWidgets": [],
       "schema": [
        {
         "metadata": "{}",
         "name": "Target_Event_Identity",
         "type": "\"integer\""
        },
        {
         "metadata": "{}",
         "name": "Id",
         "type": "\"integer\""
        },
        {
         "metadata": "{}",
         "name": "dept_Id",
         "type": "\"integer\""
        },
        {
         "metadata": "{}",
         "name": "SubDept_Id",
         "type": "\"integer\""
        },
        {
         "metadata": "{}",
         "name": "Vehicle_Id",
         "type": "\"integer\""
        },
        {
         "metadata": "{}",
         "name": "Vehicle_Profile_Id",
         "type": "\"integer\""
        },
        {
         "metadata": "{}",
         "name": "Description",
         "type": "\"string\""
        },
        {
         "metadata": "{}",
         "name": "Vehicle_Price_Id",
         "type": "\"integer\""
        },
        {
         "metadata": "{}",
         "name": "Vehicle_Showroom_Price",
         "type": "\"double\""
        },
        {
         "metadata": "{}",
         "name": "Vehicle_Showroom_Delta",
         "type": "\"double\""
        },
        {
         "metadata": "{\"__detected_date_formats\":\"M/d/yyyy\"}",
         "name": "Vehicle_Showroom_Payment_Date",
         "type": "\"date\""
        },
        {
         "metadata": "{}",
         "name": "Average",
         "type": "\"double\""
        },
        {
         "metadata": "{}",
         "name": "Increment",
         "type": "\"double\""
        },
        {
         "metadata": "{}",
         "name": "Target_Simulation_Id",
         "type": "\"integer\""
        },
        {
         "metadata": "{}",
         "name": "Vehicle_Name",
         "type": "\"string\""
        },
        {
         "metadata": "{}",
         "name": "Sales_Currency",
         "type": "\"string\""
        },
        {
         "metadata": "{}",
         "name": "Transmission",
         "type": "\"string\""
        },
        {
         "metadata": "{}",
         "name": "Capacity",
         "type": "\"integer\""
        },
        {
         "metadata": "{}",
         "name": "Target_Simulation_Identity",
         "type": "\"integer\""
        },
        {
         "metadata": "{}",
         "name": "Sales_Timestamp",
         "type": "\"integer\""
        },
        {
         "metadata": "{}",
         "name": "Method",
         "type": "\"string\""
        },
        {
         "metadata": "{}",
         "name": "Customer",
         "type": "\"string\""
        },
        {
         "metadata": "{}",
         "name": "Sales_Event",
         "type": "\"string\""
        },
        {
         "metadata": "{}",
         "name": "Type_of_Market",
         "type": "\"string\""
        },
        {
         "metadata": "{}",
         "name": "Vehicle_Delivery_Date",
         "type": "\"string\""
        },
        {
         "metadata": "{}",
         "name": "Vehicle_Delivery_Status",
         "type": "\"string\""
        },
        {
         "metadata": "{}",
         "name": "Post_Vehicle_Delivery_Status",
         "type": "\"string\""
        },
        {
         "metadata": "{}",
         "name": "Database",
         "type": "\"string\""
        }
       ],
       "type": "table"
      }
     },
     "output_type": "display_data"
    }
   ],
   "source": [
    "# left join \"Sales_Collect_Rev02\", \"SalesData_Rev02\" and \"RunningData_Rev02\"\n",
    "Sales_Collect_df_Rev02_02 = Sales_Collect_Rev02.\\\n",
    "                             join(SalesData_Rev02, how='left',\n",
    "                                  on=[f.col('Target_Simulation_Id') == f.col('Target_Simulation_Identity')]).\\\n",
    "                             join(RunningData_Rev02, how='left', on=['Target_Event_Identity'])\n",
    "                        \n",
    "display(Sales_Collect_df_Rev02_02.limit(10))"
   ]
  },
  {
   "cell_type": "markdown",
   "metadata": {
    "application/vnd.databricks.v1+cell": {
     "cellMetadata": {
      "byteLimit": 2048000,
      "rowLimit": 10000
     },
     "inputWidgets": {},
     "nuid": "22639fe7-d555-4394-ba77-c415945ecf7f",
     "showTitle": false,
     "tableResultSettingsMap": {},
     "title": ""
    }
   },
   "source": [
    "#### **Ex 03**\n",
    "\n",
    "- Read all input .csv files\n",
    "  - Sales_Collect_Rev03.csv\n",
    "  - SalesData_Rev03.csv\n",
    "  - RunningData_Rev03.csv\n",
    "\n",
    "- join two datasets:\n",
    "  - **Sales_Collect_Rev03** and **SalesData_Rev03**\n",
    "- join three datasets:\n",
    "  - **Sales_Collect_Rev03**, **SalesData_Rev03** and **RunningData_Rev03**"
   ]
  },
  {
   "cell_type": "code",
   "execution_count": 0,
   "metadata": {
    "application/vnd.databricks.v1+cell": {
     "cellMetadata": {
      "byteLimit": 2048000,
      "rowLimit": 10000
     },
     "inputWidgets": {},
     "nuid": "8381fbb2-7b3a-41c9-a88b-3883e21642ac",
     "showTitle": true,
     "tableResultSettingsMap": {},
     "title": "Read: Sales_Collect_Rev03.csv"
    }
   },
   "outputs": [
    {
     "output_type": "display_data",
     "data": {
      "text/html": [
       "<style scoped>\n",
       "  .table-result-container {\n",
       "    max-height: 300px;\n",
       "    overflow: auto;\n",
       "  }\n",
       "  table, th, td {\n",
       "    border: 1px solid black;\n",
       "    border-collapse: collapse;\n",
       "  }\n",
       "  th, td {\n",
       "    padding: 5px;\n",
       "  }\n",
       "  th {\n",
       "    text-align: left;\n",
       "  }\n",
       "</style><div class='table-result-container'><table class='table-result'><thead style='background-color: white'><tr><th>Id</th><th>dept_Id</th><th>SubDept_Id</th><th>Vehicle_Id</th><th>Vehicle_Profile_Id</th><th>Description</th><th>Vehicle_Price_Id</th><th>Vehicle_Showroom_Price</th><th>Vehicle_Showroom_Delta</th><th>Vehicle_Showroom_Payment_Date</th><th>Currency</th><th>Target_Currency</th><th>Average</th><th>Increment</th><th>Target_Simulation_Id</th></tr></thead><tbody><tr><td>257</td><td>257</td><td>1</td><td>1</td><td>0</td><td>Baleno</td><td>6</td><td>72567.98</td><td>5678.01</td><td>2023-02-20</td><td>INR</td><td>INR</td><td>2381.657773</td><td>0.0</td><td>1071</td></tr><tr><td>264</td><td>264</td><td>1</td><td>0</td><td>0</td><td>Engine_Base</td><td>90</td><td>91768.98</td><td>12678.01</td><td>2025-06-30</td><td>INR</td><td>INR</td><td>553.8461539</td><td>0.0</td><td>1063</td></tr><tr><td>265</td><td>265</td><td>1</td><td>0</td><td>0</td><td>Baleno</td><td>83</td><td>8400.123</td><td>1450.01</td><td>2023-12-27</td><td>INR</td><td>INR</td><td>-7199.999999</td><td>0.0</td><td>1065</td></tr><tr><td>266</td><td>266</td><td>1</td><td>0</td><td>0</td><td>Engine_Base</td><td>76</td><td>77345.665</td><td>3456.01</td><td>2024-04-30</td><td>INR</td><td>INR</td><td>7200.0</td><td>0.0</td><td>1063</td></tr><tr><td>267</td><td>267</td><td>1</td><td>0</td><td>0</td><td>Suzuki Swift</td><td>96</td><td>974567.11</td><td>110.01</td><td>2025-12-31</td><td>INR</td><td>INR</td><td>1404.878049</td><td>0.0</td><td>1063</td></tr><tr><td>268</td><td>268</td><td>1</td><td>1</td><td>0</td><td>Suzuki Swift</td><td>48</td><td>49.0</td><td>0.01</td><td>2023-03-20</td><td>INR</td><td>INR</td><td>834.1253</td><td>0.0</td><td>1068</td></tr><tr><td>270</td><td>270</td><td>1</td><td>0</td><td>0</td><td>Wagon R</td><td>76</td><td>77345.665</td><td>3456.01</td><td>2024-03-26</td><td>INR</td><td>INR</td><td>7200.0</td><td>0.0</td><td>1065</td></tr><tr><td>271</td><td>271</td><td>1</td><td>0</td><td>0</td><td>Engine_Base</td><td>34</td><td>35.0</td><td>12340.0123</td><td>2023-03-20</td><td>INR</td><td>INR</td><td>1668.2506</td><td>0.0</td><td>1068</td></tr><tr><td>272</td><td>272</td><td>1</td><td>1</td><td>0</td><td>Creta</td><td>29</td><td>30.0</td><td>12340.0123</td><td>2023-03-20</td><td>INR</td><td>INR</td><td>-2383.215143</td><td>0.0</td><td>1071</td></tr><tr><td>277</td><td>277</td><td>1</td><td>0</td><td>0</td><td>Brezza</td><td>73</td><td>74567.34567</td><td>3456.01</td><td>2023-12-28</td><td>INR</td><td>INR</td><td>7440.0</td><td>0.0</td><td>1065</td></tr></tbody></table></div>"
      ]
     },
     "metadata": {
      "application/vnd.databricks.v1+output": {
       "addedWidgets": {},
       "aggData": [],
       "aggError": "",
       "aggOverflow": false,
       "aggSchema": [],
       "aggSeriesLimitReached": false,
       "aggType": "",
       "arguments": {},
       "columnCustomDisplayInfos": {},
       "data": [
        [
         257,
         257,
         1,
         1,
         0,
         "Baleno",
         6,
         72567.98,
         5678.01,
         "2023-02-20",
         "INR",
         "INR",
         2381.657773,
         0.0,
         1071
        ],
        [
         264,
         264,
         1,
         0,
         0,
         "Engine_Base",
         90,
         91768.98,
         12678.01,
         "2025-06-30",
         "INR",
         "INR",
         553.8461539,
         0.0,
         1063
        ],
        [
         265,
         265,
         1,
         0,
         0,
         "Baleno",
         83,
         8400.123,
         1450.01,
         "2023-12-27",
         "INR",
         "INR",
         -7199.999999,
         0.0,
         1065
        ],
        [
         266,
         266,
         1,
         0,
         0,
         "Engine_Base",
         76,
         77345.665,
         3456.01,
         "2024-04-30",
         "INR",
         "INR",
         7200.0,
         0.0,
         1063
        ],
        [
         267,
         267,
         1,
         0,
         0,
         "Suzuki Swift",
         96,
         974567.11,
         110.01,
         "2025-12-31",
         "INR",
         "INR",
         1404.878049,
         0.0,
         1063
        ],
        [
         268,
         268,
         1,
         1,
         0,
         "Suzuki Swift",
         48,
         49.0,
         0.01,
         "2023-03-20",
         "INR",
         "INR",
         834.1253,
         0.0,
         1068
        ],
        [
         270,
         270,
         1,
         0,
         0,
         "Wagon R",
         76,
         77345.665,
         3456.01,
         "2024-03-26",
         "INR",
         "INR",
         7200.0,
         0.0,
         1065
        ],
        [
         271,
         271,
         1,
         0,
         0,
         "Engine_Base",
         34,
         35.0,
         12340.0123,
         "2023-03-20",
         "INR",
         "INR",
         1668.2506,
         0.0,
         1068
        ],
        [
         272,
         272,
         1,
         1,
         0,
         "Creta",
         29,
         30.0,
         12340.0123,
         "2023-03-20",
         "INR",
         "INR",
         -2383.215143,
         0.0,
         1071
        ],
        [
         277,
         277,
         1,
         0,
         0,
         "Brezza",
         73,
         74567.34567,
         3456.01,
         "2023-12-28",
         "INR",
         "INR",
         7440.0,
         0.0,
         1065
        ]
       ],
       "datasetInfos": [],
       "dbfsResultPath": null,
       "isJsonSchema": true,
       "metadata": {},
       "overflow": false,
       "plotOptions": {
        "customPlotOptions": {},
        "displayType": "table",
        "pivotAggregation": null,
        "pivotColumns": null,
        "xColumns": null,
        "yColumns": null
       },
       "removedWidgets": [],
       "schema": [
        {
         "metadata": "{}",
         "name": "Id",
         "type": "\"integer\""
        },
        {
         "metadata": "{}",
         "name": "dept_Id",
         "type": "\"integer\""
        },
        {
         "metadata": "{}",
         "name": "SubDept_Id",
         "type": "\"integer\""
        },
        {
         "metadata": "{}",
         "name": "Vehicle_Id",
         "type": "\"integer\""
        },
        {
         "metadata": "{}",
         "name": "Vehicle_Profile_Id",
         "type": "\"integer\""
        },
        {
         "metadata": "{}",
         "name": "Description",
         "type": "\"string\""
        },
        {
         "metadata": "{}",
         "name": "Vehicle_Price_Id",
         "type": "\"integer\""
        },
        {
         "metadata": "{}",
         "name": "Vehicle_Showroom_Price",
         "type": "\"double\""
        },
        {
         "metadata": "{}",
         "name": "Vehicle_Showroom_Delta",
         "type": "\"double\""
        },
        {
         "metadata": "{\"__detected_date_formats\":\"M/d/yyyy\"}",
         "name": "Vehicle_Showroom_Payment_Date",
         "type": "\"date\""
        },
        {
         "metadata": "{}",
         "name": "Currency",
         "type": "\"string\""
        },
        {
         "metadata": "{}",
         "name": "Target_Currency",
         "type": "\"string\""
        },
        {
         "metadata": "{}",
         "name": "Average",
         "type": "\"double\""
        },
        {
         "metadata": "{}",
         "name": "Increment",
         "type": "\"double\""
        },
        {
         "metadata": "{}",
         "name": "Target_Simulation_Id",
         "type": "\"integer\""
        }
       ],
       "type": "table"
      }
     },
     "output_type": "display_data"
    },
    {
     "output_type": "stream",
     "name": "stdout",
     "output_type": "stream",
     "text": [
      "root\n |-- Id: integer (nullable = true)\n |-- dept_Id: integer (nullable = true)\n |-- SubDept_Id: integer (nullable = true)\n |-- Vehicle_Id: integer (nullable = true)\n |-- Vehicle_Profile_Id: integer (nullable = true)\n |-- Description: string (nullable = true)\n |-- Vehicle_Price_Id: integer (nullable = true)\n |-- Vehicle_Showroom_Price: double (nullable = true)\n |-- Vehicle_Showroom_Delta: double (nullable = true)\n |-- Vehicle_Showroom_Payment_Date: date (nullable = true)\n |-- Currency: string (nullable = true)\n |-- Target_Currency: string (nullable = true)\n |-- Average: double (nullable = true)\n |-- Increment: double (nullable = true)\n |-- Target_Simulation_Id: integer (nullable = true)\n\nNumber of Rows: 2087\n"
     ]
    }
   ],
   "source": [
    "# Read \"Sales_Collect_Rev03.csv\"\n",
    "Sales_Collect_Rev03 = spark.read.option('header',True).option(\"quote\", \"\\\"\").option('InferSchema',True).csv(\"/FileStore/tables/Sales_Collect_Rev03.csv\")\n",
    "\n",
    "display(Sales_Collect_Rev03.limit(10))\n",
    "Sales_Collect_Rev03.printSchema()\n",
    "print(\"Number of Rows:\", Sales_Collect_Rev03.count())"
   ]
  },
  {
   "cell_type": "code",
   "execution_count": 0,
   "metadata": {
    "application/vnd.databricks.v1+cell": {
     "cellMetadata": {
      "byteLimit": 2048000,
      "rowLimit": 10000
     },
     "inputWidgets": {},
     "nuid": "704d759a-fbef-470b-8729-29308eba024c",
     "showTitle": true,
     "tableResultSettingsMap": {},
     "title": "Read: SalesData_Rev03.csv"
    }
   },
   "outputs": [
    {
     "output_type": "display_data",
     "data": {
      "text/html": [
       "<style scoped>\n",
       "  .table-result-container {\n",
       "    max-height: 300px;\n",
       "    overflow: auto;\n",
       "  }\n",
       "  table, th, td {\n",
       "    border: 1px solid black;\n",
       "    border-collapse: collapse;\n",
       "  }\n",
       "  th, td {\n",
       "    padding: 5px;\n",
       "  }\n",
       "  th {\n",
       "    text-align: left;\n",
       "  }\n",
       "</style><div class='table-result-container'><table class='table-result'><thead style='background-color: white'><tr><th>Target_Event_Id</th><th>Vehicle_Name</th><th>Sales_Currency</th><th>Transmission</th><th>Capacity</th><th>Target_Simulation_Id</th></tr></thead><tbody><tr><td>1032</td><td>SUV</td><td>INR</td><td>Manual</td><td>1300</td><td>1061</td></tr><tr><td>1033</td><td>SUV</td><td>INR</td><td>Manual</td><td>1300</td><td>1062</td></tr><tr><td>1034</td><td>SUV</td><td>INR</td><td>Manual</td><td>1300</td><td>1063</td></tr><tr><td>1035</td><td>SUV</td><td>INR</td><td>Manual</td><td>1300</td><td>1064</td></tr><tr><td>1037</td><td>SUV</td><td>INR</td><td>Manual</td><td>1300</td><td>1065</td></tr><tr><td>1036</td><td>SUV</td><td>INR</td><td>Manual</td><td>1300</td><td>1066</td></tr><tr><td>1040</td><td>SUV</td><td>INR</td><td>Manual</td><td>1300</td><td>1067</td></tr><tr><td>1038</td><td>SUV</td><td>INR</td><td>Manual</td><td>1300</td><td>1068</td></tr><tr><td>1039</td><td>SUV</td><td>INR</td><td>Manual</td><td>1300</td><td>1069</td></tr><tr><td>1042</td><td>SUV</td><td>INR</td><td>Manual</td><td>1300</td><td>1070</td></tr></tbody></table></div>"
      ]
     },
     "metadata": {
      "application/vnd.databricks.v1+output": {
       "addedWidgets": {},
       "aggData": [],
       "aggError": "",
       "aggOverflow": false,
       "aggSchema": [],
       "aggSeriesLimitReached": false,
       "aggType": "",
       "arguments": {},
       "columnCustomDisplayInfos": {},
       "data": [
        [
         1032,
         "SUV",
         "INR",
         "Manual",
         1300,
         1061
        ],
        [
         1033,
         "SUV",
         "INR",
         "Manual",
         1300,
         1062
        ],
        [
         1034,
         "SUV",
         "INR",
         "Manual",
         1300,
         1063
        ],
        [
         1035,
         "SUV",
         "INR",
         "Manual",
         1300,
         1064
        ],
        [
         1037,
         "SUV",
         "INR",
         "Manual",
         1300,
         1065
        ],
        [
         1036,
         "SUV",
         "INR",
         "Manual",
         1300,
         1066
        ],
        [
         1040,
         "SUV",
         "INR",
         "Manual",
         1300,
         1067
        ],
        [
         1038,
         "SUV",
         "INR",
         "Manual",
         1300,
         1068
        ],
        [
         1039,
         "SUV",
         "INR",
         "Manual",
         1300,
         1069
        ],
        [
         1042,
         "SUV",
         "INR",
         "Manual",
         1300,
         1070
        ]
       ],
       "datasetInfos": [],
       "dbfsResultPath": null,
       "isJsonSchema": true,
       "metadata": {},
       "overflow": false,
       "plotOptions": {
        "customPlotOptions": {},
        "displayType": "table",
        "pivotAggregation": null,
        "pivotColumns": null,
        "xColumns": null,
        "yColumns": null
       },
       "removedWidgets": [],
       "schema": [
        {
         "metadata": "{}",
         "name": "Target_Event_Id",
         "type": "\"integer\""
        },
        {
         "metadata": "{}",
         "name": "Vehicle_Name",
         "type": "\"string\""
        },
        {
         "metadata": "{}",
         "name": "Sales_Currency",
         "type": "\"string\""
        },
        {
         "metadata": "{}",
         "name": "Transmission",
         "type": "\"string\""
        },
        {
         "metadata": "{}",
         "name": "Capacity",
         "type": "\"integer\""
        },
        {
         "metadata": "{}",
         "name": "Target_Simulation_Id",
         "type": "\"integer\""
        }
       ],
       "type": "table"
      }
     },
     "output_type": "display_data"
    },
    {
     "output_type": "stream",
     "name": "stdout",
     "output_type": "stream",
     "text": [
      "root\n |-- Target_Event_Id: integer (nullable = true)\n |-- Vehicle_Name: string (nullable = true)\n |-- Sales_Currency: string (nullable = true)\n |-- Transmission: string (nullable = true)\n |-- Capacity: integer (nullable = true)\n |-- Target_Simulation_Id: integer (nullable = true)\n\nNumber of Rows: 12\n"
     ]
    }
   ],
   "source": [
    "# Read \"SalesData_Rev03.csv\"\n",
    "SalesData_Rev03 = spark.read.option('header',True).option(\"quote\", \"\\\"\").option('InferSchema',True).csv(\"/FileStore/tables/SalesData_Rev03.csv\")\n",
    "\n",
    "display(SalesData_Rev03.limit(10))\n",
    "SalesData_Rev03.printSchema()\n",
    "print(\"Number of Rows:\", SalesData_Rev03.count())"
   ]
  },
  {
   "cell_type": "code",
   "execution_count": 0,
   "metadata": {
    "application/vnd.databricks.v1+cell": {
     "cellMetadata": {
      "byteLimit": 2048000,
      "rowLimit": 10000
     },
     "inputWidgets": {},
     "nuid": "77fbd07e-3467-44c6-9689-25ad3c177a20",
     "showTitle": true,
     "tableResultSettingsMap": {},
     "title": "Read: RunningData_Rev03.csv"
    }
   },
   "outputs": [
    {
     "output_type": "display_data",
     "data": {
      "text/html": [
       "<style scoped>\n",
       "  .table-result-container {\n",
       "    max-height: 300px;\n",
       "    overflow: auto;\n",
       "  }\n",
       "  table, th, td {\n",
       "    border: 1px solid black;\n",
       "    border-collapse: collapse;\n",
       "  }\n",
       "  th, td {\n",
       "    padding: 5px;\n",
       "  }\n",
       "  th {\n",
       "    text-align: left;\n",
       "  }\n",
       "</style><div class='table-result-container'><table class='table-result'><thead style='background-color: white'><tr><th>Target_Event_Id</th><th>Sales_Timestamp</th><th>Method</th><th>Customer</th><th>Sales_Event</th><th>Type_of_Market</th><th>Vehicle_Delivery_Date</th><th>Vehicle_Delivery_Status</th><th>Post_Vehicle_Delivery_Status</th><th>Database</th></tr></thead><tbody><tr><td>1032</td><td>1717497686</td><td>Dealership</td><td>SRS Travels</td><td>Bulk Delivery</td><td>Commercial</td><td>4-Jan-23</td><td>DOB</td><td>DOJ</td><td>Azure</td></tr><tr><td>1033</td><td>1717497687</td><td>Dealership</td><td>SRS Travels</td><td>Bulk Delivery</td><td>Commercial</td><td>4-Jan-23</td><td>DOB</td><td>DOJ</td><td>Azure</td></tr><tr><td>1034</td><td>1717497688</td><td>Dealership</td><td>SRS Travels</td><td>Bulk Delivery</td><td>Commercial</td><td>4-Jan-23</td><td>DOB</td><td>DOJ</td><td>Azure</td></tr><tr><td>1035</td><td>1717497695</td><td>Dealership</td><td>SRS Travels</td><td>Bulk Delivery</td><td>Commercial</td><td>4-Jan-23</td><td>DOB</td><td>DOJ</td><td>Azure</td></tr><tr><td>1036</td><td>1717497734</td><td>Dealership</td><td>SRS Travels</td><td>Bulk Delivery</td><td>Commercial</td><td>4-Jan-23</td><td>DOB</td><td>DOJ</td><td>Azure</td></tr><tr><td>1037</td><td>1717497711</td><td>Dealership</td><td>SRS Travels</td><td>Bulk Delivery</td><td>Commercial</td><td>4-Jan-23</td><td>DOB</td><td>DOJ</td><td>Azure</td></tr><tr><td>1038</td><td>1717497741</td><td>Dealership</td><td>SRS Travels</td><td>Bulk Delivery</td><td>Commercial</td><td>4-Jan-23</td><td>DOB</td><td>DOJ</td><td>Azure</td></tr><tr><td>1039</td><td>1717497742</td><td>Dealership</td><td>SRS Travels</td><td>Bulk Delivery</td><td>Commercial</td><td>4-Jan-23</td><td>DOB</td><td>DOJ</td><td>Azure</td></tr><tr><td>1040</td><td>1717497740</td><td>Dealership</td><td>SRS Travels</td><td>Bulk Delivery</td><td>Commercial</td><td>4-Jan-23</td><td>DOB</td><td>DOJ</td><td>Azure</td></tr><tr><td>1041</td><td>1717497749</td><td>Dealership</td><td>SRS Travels</td><td>Bulk Delivery</td><td>Commercial</td><td>4-Jan-23</td><td>DOB</td><td>DOJ</td><td>Azure</td></tr></tbody></table></div>"
      ]
     },
     "metadata": {
      "application/vnd.databricks.v1+output": {
       "addedWidgets": {},
       "aggData": [],
       "aggError": "",
       "aggOverflow": false,
       "aggSchema": [],
       "aggSeriesLimitReached": false,
       "aggType": "",
       "arguments": {},
       "columnCustomDisplayInfos": {},
       "data": [
        [
         1032,
         1717497686,
         "Dealership",
         "SRS Travels",
         "Bulk Delivery",
         "Commercial",
         "4-Jan-23",
         "DOB",
         "DOJ",
         "Azure"
        ],
        [
         1033,
         1717497687,
         "Dealership",
         "SRS Travels",
         "Bulk Delivery",
         "Commercial",
         "4-Jan-23",
         "DOB",
         "DOJ",
         "Azure"
        ],
        [
         1034,
         1717497688,
         "Dealership",
         "SRS Travels",
         "Bulk Delivery",
         "Commercial",
         "4-Jan-23",
         "DOB",
         "DOJ",
         "Azure"
        ],
        [
         1035,
         1717497695,
         "Dealership",
         "SRS Travels",
         "Bulk Delivery",
         "Commercial",
         "4-Jan-23",
         "DOB",
         "DOJ",
         "Azure"
        ],
        [
         1036,
         1717497734,
         "Dealership",
         "SRS Travels",
         "Bulk Delivery",
         "Commercial",
         "4-Jan-23",
         "DOB",
         "DOJ",
         "Azure"
        ],
        [
         1037,
         1717497711,
         "Dealership",
         "SRS Travels",
         "Bulk Delivery",
         "Commercial",
         "4-Jan-23",
         "DOB",
         "DOJ",
         "Azure"
        ],
        [
         1038,
         1717497741,
         "Dealership",
         "SRS Travels",
         "Bulk Delivery",
         "Commercial",
         "4-Jan-23",
         "DOB",
         "DOJ",
         "Azure"
        ],
        [
         1039,
         1717497742,
         "Dealership",
         "SRS Travels",
         "Bulk Delivery",
         "Commercial",
         "4-Jan-23",
         "DOB",
         "DOJ",
         "Azure"
        ],
        [
         1040,
         1717497740,
         "Dealership",
         "SRS Travels",
         "Bulk Delivery",
         "Commercial",
         "4-Jan-23",
         "DOB",
         "DOJ",
         "Azure"
        ],
        [
         1041,
         1717497749,
         "Dealership",
         "SRS Travels",
         "Bulk Delivery",
         "Commercial",
         "4-Jan-23",
         "DOB",
         "DOJ",
         "Azure"
        ]
       ],
       "datasetInfos": [],
       "dbfsResultPath": null,
       "isJsonSchema": true,
       "metadata": {},
       "overflow": false,
       "plotOptions": {
        "customPlotOptions": {},
        "displayType": "table",
        "pivotAggregation": null,
        "pivotColumns": null,
        "xColumns": null,
        "yColumns": null
       },
       "removedWidgets": [],
       "schema": [
        {
         "metadata": "{}",
         "name": "Target_Event_Id",
         "type": "\"integer\""
        },
        {
         "metadata": "{}",
         "name": "Sales_Timestamp",
         "type": "\"integer\""
        },
        {
         "metadata": "{}",
         "name": "Method",
         "type": "\"string\""
        },
        {
         "metadata": "{}",
         "name": "Customer",
         "type": "\"string\""
        },
        {
         "metadata": "{}",
         "name": "Sales_Event",
         "type": "\"string\""
        },
        {
         "metadata": "{}",
         "name": "Type_of_Market",
         "type": "\"string\""
        },
        {
         "metadata": "{}",
         "name": "Vehicle_Delivery_Date",
         "type": "\"string\""
        },
        {
         "metadata": "{}",
         "name": "Vehicle_Delivery_Status",
         "type": "\"string\""
        },
        {
         "metadata": "{}",
         "name": "Post_Vehicle_Delivery_Status",
         "type": "\"string\""
        },
        {
         "metadata": "{}",
         "name": "Database",
         "type": "\"string\""
        }
       ],
       "type": "table"
      }
     },
     "output_type": "display_data"
    },
    {
     "output_type": "stream",
     "name": "stdout",
     "output_type": "stream",
     "text": [
      "root\n |-- Target_Event_Id: integer (nullable = true)\n |-- Sales_Timestamp: integer (nullable = true)\n |-- Method: string (nullable = true)\n |-- Customer: string (nullable = true)\n |-- Sales_Event: string (nullable = true)\n |-- Type_of_Market: string (nullable = true)\n |-- Vehicle_Delivery_Date: string (nullable = true)\n |-- Vehicle_Delivery_Status: string (nullable = true)\n |-- Post_Vehicle_Delivery_Status: string (nullable = true)\n |-- Database: string (nullable = true)\n\nNumber of Rows: 12\n"
     ]
    }
   ],
   "source": [
    "# Read \"RunningData_Rev03.csv\"\n",
    "RunningData_Rev03 = spark.read.option('header',True).option(\"quote\", \"\\\"\").option('InferSchema',True).csv(\"/FileStore/tables/RunningData_Rev03.csv\")\n",
    "\n",
    "display(RunningData_Rev03.limit(10))\n",
    "RunningData_Rev03.printSchema()\n",
    "print(\"Number of Rows:\", RunningData_Rev03.count())"
   ]
  },
  {
   "cell_type": "code",
   "execution_count": 0,
   "metadata": {
    "application/vnd.databricks.v1+cell": {
     "cellMetadata": {
      "byteLimit": 2048000,
      "rowLimit": 10000
     },
     "inputWidgets": {},
     "nuid": "7419a4b7-b5f0-4554-8213-b1e9f388d67d",
     "showTitle": true,
     "tableResultSettingsMap": {},
     "title": "join: Sales_Collect_Rev03 & SalesData_Rev03"
    }
   },
   "outputs": [
    {
     "output_type": "display_data",
     "data": {
      "text/html": [
       "<style scoped>\n",
       "  .table-result-container {\n",
       "    max-height: 300px;\n",
       "    overflow: auto;\n",
       "  }\n",
       "  table, th, td {\n",
       "    border: 1px solid black;\n",
       "    border-collapse: collapse;\n",
       "  }\n",
       "  th, td {\n",
       "    padding: 5px;\n",
       "  }\n",
       "  th {\n",
       "    text-align: left;\n",
       "  }\n",
       "</style><div class='table-result-container'><table class='table-result'><thead style='background-color: white'><tr><th>Target_Simulation_Id</th><th>Id</th><th>dept_Id</th><th>SubDept_Id</th><th>Vehicle_Id</th><th>Vehicle_Profile_Id</th><th>Description</th><th>Vehicle_Price_Id</th><th>Vehicle_Showroom_Price</th><th>Vehicle_Showroom_Delta</th><th>Vehicle_Showroom_Payment_Date</th><th>Currency</th><th>Target_Currency</th><th>Average</th><th>Increment</th><th>Target_Event_Id</th><th>Vehicle_Name</th><th>Sales_Currency</th><th>Transmission</th><th>Capacity</th></tr></thead><tbody><tr><td>1071</td><td>257</td><td>257</td><td>1</td><td>1</td><td>0</td><td>Baleno</td><td>6</td><td>72567.98</td><td>5678.01</td><td>2023-02-20</td><td>INR</td><td>INR</td><td>2381.657773</td><td>0.0</td><td>1041</td><td>SUV</td><td>INR</td><td>Manual</td><td>1300</td></tr><tr><td>1063</td><td>264</td><td>264</td><td>1</td><td>0</td><td>0</td><td>Engine_Base</td><td>90</td><td>91768.98</td><td>12678.01</td><td>2025-06-30</td><td>INR</td><td>INR</td><td>553.8461539</td><td>0.0</td><td>1034</td><td>SUV</td><td>INR</td><td>Manual</td><td>1300</td></tr><tr><td>1065</td><td>265</td><td>265</td><td>1</td><td>0</td><td>0</td><td>Baleno</td><td>83</td><td>8400.123</td><td>1450.01</td><td>2023-12-27</td><td>INR</td><td>INR</td><td>-7199.999999</td><td>0.0</td><td>1037</td><td>SUV</td><td>INR</td><td>Manual</td><td>1300</td></tr><tr><td>1063</td><td>266</td><td>266</td><td>1</td><td>0</td><td>0</td><td>Engine_Base</td><td>76</td><td>77345.665</td><td>3456.01</td><td>2024-04-30</td><td>INR</td><td>INR</td><td>7200.0</td><td>0.0</td><td>1034</td><td>SUV</td><td>INR</td><td>Manual</td><td>1300</td></tr><tr><td>1063</td><td>267</td><td>267</td><td>1</td><td>0</td><td>0</td><td>Suzuki Swift</td><td>96</td><td>974567.11</td><td>110.01</td><td>2025-12-31</td><td>INR</td><td>INR</td><td>1404.878049</td><td>0.0</td><td>1034</td><td>SUV</td><td>INR</td><td>Manual</td><td>1300</td></tr><tr><td>1068</td><td>268</td><td>268</td><td>1</td><td>1</td><td>0</td><td>Suzuki Swift</td><td>48</td><td>49.0</td><td>0.01</td><td>2023-03-20</td><td>INR</td><td>INR</td><td>834.1253</td><td>0.0</td><td>1038</td><td>SUV</td><td>INR</td><td>Manual</td><td>1300</td></tr><tr><td>1065</td><td>270</td><td>270</td><td>1</td><td>0</td><td>0</td><td>Wagon R</td><td>76</td><td>77345.665</td><td>3456.01</td><td>2024-03-26</td><td>INR</td><td>INR</td><td>7200.0</td><td>0.0</td><td>1037</td><td>SUV</td><td>INR</td><td>Manual</td><td>1300</td></tr><tr><td>1068</td><td>271</td><td>271</td><td>1</td><td>0</td><td>0</td><td>Engine_Base</td><td>34</td><td>35.0</td><td>12340.0123</td><td>2023-03-20</td><td>INR</td><td>INR</td><td>1668.2506</td><td>0.0</td><td>1038</td><td>SUV</td><td>INR</td><td>Manual</td><td>1300</td></tr><tr><td>1071</td><td>272</td><td>272</td><td>1</td><td>1</td><td>0</td><td>Creta</td><td>29</td><td>30.0</td><td>12340.0123</td><td>2023-03-20</td><td>INR</td><td>INR</td><td>-2383.215143</td><td>0.0</td><td>1041</td><td>SUV</td><td>INR</td><td>Manual</td><td>1300</td></tr><tr><td>1065</td><td>277</td><td>277</td><td>1</td><td>0</td><td>0</td><td>Brezza</td><td>73</td><td>74567.34567</td><td>3456.01</td><td>2023-12-28</td><td>INR</td><td>INR</td><td>7440.0</td><td>0.0</td><td>1037</td><td>SUV</td><td>INR</td><td>Manual</td><td>1300</td></tr></tbody></table></div>"
      ]
     },
     "metadata": {
      "application/vnd.databricks.v1+output": {
       "addedWidgets": {},
       "aggData": [],
       "aggError": "",
       "aggOverflow": false,
       "aggSchema": [],
       "aggSeriesLimitReached": false,
       "aggType": "",
       "arguments": {},
       "columnCustomDisplayInfos": {},
       "data": [
        [
         1071,
         257,
         257,
         1,
         1,
         0,
         "Baleno",
         6,
         72567.98,
         5678.01,
         "2023-02-20",
         "INR",
         "INR",
         2381.657773,
         0.0,
         1041,
         "SUV",
         "INR",
         "Manual",
         1300
        ],
        [
         1063,
         264,
         264,
         1,
         0,
         0,
         "Engine_Base",
         90,
         91768.98,
         12678.01,
         "2025-06-30",
         "INR",
         "INR",
         553.8461539,
         0.0,
         1034,
         "SUV",
         "INR",
         "Manual",
         1300
        ],
        [
         1065,
         265,
         265,
         1,
         0,
         0,
         "Baleno",
         83,
         8400.123,
         1450.01,
         "2023-12-27",
         "INR",
         "INR",
         -7199.999999,
         0.0,
         1037,
         "SUV",
         "INR",
         "Manual",
         1300
        ],
        [
         1063,
         266,
         266,
         1,
         0,
         0,
         "Engine_Base",
         76,
         77345.665,
         3456.01,
         "2024-04-30",
         "INR",
         "INR",
         7200.0,
         0.0,
         1034,
         "SUV",
         "INR",
         "Manual",
         1300
        ],
        [
         1063,
         267,
         267,
         1,
         0,
         0,
         "Suzuki Swift",
         96,
         974567.11,
         110.01,
         "2025-12-31",
         "INR",
         "INR",
         1404.878049,
         0.0,
         1034,
         "SUV",
         "INR",
         "Manual",
         1300
        ],
        [
         1068,
         268,
         268,
         1,
         1,
         0,
         "Suzuki Swift",
         48,
         49.0,
         0.01,
         "2023-03-20",
         "INR",
         "INR",
         834.1253,
         0.0,
         1038,
         "SUV",
         "INR",
         "Manual",
         1300
        ],
        [
         1065,
         270,
         270,
         1,
         0,
         0,
         "Wagon R",
         76,
         77345.665,
         3456.01,
         "2024-03-26",
         "INR",
         "INR",
         7200.0,
         0.0,
         1037,
         "SUV",
         "INR",
         "Manual",
         1300
        ],
        [
         1068,
         271,
         271,
         1,
         0,
         0,
         "Engine_Base",
         34,
         35.0,
         12340.0123,
         "2023-03-20",
         "INR",
         "INR",
         1668.2506,
         0.0,
         1038,
         "SUV",
         "INR",
         "Manual",
         1300
        ],
        [
         1071,
         272,
         272,
         1,
         1,
         0,
         "Creta",
         29,
         30.0,
         12340.0123,
         "2023-03-20",
         "INR",
         "INR",
         -2383.215143,
         0.0,
         1041,
         "SUV",
         "INR",
         "Manual",
         1300
        ],
        [
         1065,
         277,
         277,
         1,
         0,
         0,
         "Brezza",
         73,
         74567.34567,
         3456.01,
         "2023-12-28",
         "INR",
         "INR",
         7440.0,
         0.0,
         1037,
         "SUV",
         "INR",
         "Manual",
         1300
        ]
       ],
       "datasetInfos": [],
       "dbfsResultPath": null,
       "isJsonSchema": true,
       "metadata": {},
       "overflow": false,
       "plotOptions": {
        "customPlotOptions": {},
        "displayType": "table",
        "pivotAggregation": null,
        "pivotColumns": null,
        "xColumns": null,
        "yColumns": null
       },
       "removedWidgets": [],
       "schema": [
        {
         "metadata": "{}",
         "name": "Target_Simulation_Id",
         "type": "\"integer\""
        },
        {
         "metadata": "{}",
         "name": "Id",
         "type": "\"integer\""
        },
        {
         "metadata": "{}",
         "name": "dept_Id",
         "type": "\"integer\""
        },
        {
         "metadata": "{}",
         "name": "SubDept_Id",
         "type": "\"integer\""
        },
        {
         "metadata": "{}",
         "name": "Vehicle_Id",
         "type": "\"integer\""
        },
        {
         "metadata": "{}",
         "name": "Vehicle_Profile_Id",
         "type": "\"integer\""
        },
        {
         "metadata": "{}",
         "name": "Description",
         "type": "\"string\""
        },
        {
         "metadata": "{}",
         "name": "Vehicle_Price_Id",
         "type": "\"integer\""
        },
        {
         "metadata": "{}",
         "name": "Vehicle_Showroom_Price",
         "type": "\"double\""
        },
        {
         "metadata": "{}",
         "name": "Vehicle_Showroom_Delta",
         "type": "\"double\""
        },
        {
         "metadata": "{\"__detected_date_formats\":\"M/d/yyyy\"}",
         "name": "Vehicle_Showroom_Payment_Date",
         "type": "\"date\""
        },
        {
         "metadata": "{}",
         "name": "Currency",
         "type": "\"string\""
        },
        {
         "metadata": "{}",
         "name": "Target_Currency",
         "type": "\"string\""
        },
        {
         "metadata": "{}",
         "name": "Average",
         "type": "\"double\""
        },
        {
         "metadata": "{}",
         "name": "Increment",
         "type": "\"double\""
        },
        {
         "metadata": "{}",
         "name": "Target_Event_Id",
         "type": "\"integer\""
        },
        {
         "metadata": "{}",
         "name": "Vehicle_Name",
         "type": "\"string\""
        },
        {
         "metadata": "{}",
         "name": "Sales_Currency",
         "type": "\"string\""
        },
        {
         "metadata": "{}",
         "name": "Transmission",
         "type": "\"string\""
        },
        {
         "metadata": "{}",
         "name": "Capacity",
         "type": "\"integer\""
        }
       ],
       "type": "table"
      }
     },
     "output_type": "display_data"
    }
   ],
   "source": [
    "# left join \"Sales_Collect_Rev03\" & \"SalesData_Rev03\"\n",
    "Sales_Collect_df_Rev03_01 = Sales_Collect_Rev03.\\\n",
    "                             join(SalesData_Rev03, how='left',\n",
    "                                  on=['Target_Simulation_Id'])\n",
    "                        \n",
    "display(Sales_Collect_df_Rev03_01.limit(10))"
   ]
  },
  {
   "cell_type": "code",
   "execution_count": 0,
   "metadata": {
    "application/vnd.databricks.v1+cell": {
     "cellMetadata": {
      "byteLimit": 2048000,
      "rowLimit": 10000
     },
     "inputWidgets": {},
     "nuid": "5907d6ea-0a74-41dd-971e-74d487d9ebd6",
     "showTitle": true,
     "tableResultSettingsMap": {},
     "title": "join: Sales_Collect_Rev03, SalesData_Rev03 & RunningData_Rev03"
    }
   },
   "outputs": [
    {
     "output_type": "display_data",
     "data": {
      "text/html": [
       "<style scoped>\n",
       "  .table-result-container {\n",
       "    max-height: 300px;\n",
       "    overflow: auto;\n",
       "  }\n",
       "  table, th, td {\n",
       "    border: 1px solid black;\n",
       "    border-collapse: collapse;\n",
       "  }\n",
       "  th, td {\n",
       "    padding: 5px;\n",
       "  }\n",
       "  th {\n",
       "    text-align: left;\n",
       "  }\n",
       "</style><div class='table-result-container'><table class='table-result'><thead style='background-color: white'><tr><th>Target_Event_Id</th><th>Target_Simulation_Id</th><th>Id</th><th>dept_Id</th><th>SubDept_Id</th><th>Vehicle_Id</th><th>Vehicle_Profile_Id</th><th>Description</th><th>Vehicle_Price_Id</th><th>Vehicle_Showroom_Price</th><th>Vehicle_Showroom_Delta</th><th>Vehicle_Showroom_Payment_Date</th><th>Currency</th><th>Target_Currency</th><th>Average</th><th>Increment</th><th>Vehicle_Name</th><th>Sales_Currency</th><th>Transmission</th><th>Capacity</th><th>Sales_Timestamp</th><th>Method</th><th>Customer</th><th>Sales_Event</th><th>Type_of_Market</th><th>Vehicle_Delivery_Date</th><th>Vehicle_Delivery_Status</th><th>Post_Vehicle_Delivery_Status</th><th>Database</th></tr></thead><tbody><tr><td>1041</td><td>1071</td><td>257</td><td>257</td><td>1</td><td>1</td><td>0</td><td>Baleno</td><td>6</td><td>72567.98</td><td>5678.01</td><td>2023-02-20</td><td>INR</td><td>INR</td><td>2381.657773</td><td>0.0</td><td>SUV</td><td>INR</td><td>Manual</td><td>1300</td><td>1717497749</td><td>Dealership</td><td>SRS Travels</td><td>Bulk Delivery</td><td>Commercial</td><td>4-Jan-23</td><td>DOB</td><td>DOJ</td><td>Azure</td></tr><tr><td>1034</td><td>1063</td><td>264</td><td>264</td><td>1</td><td>0</td><td>0</td><td>Engine_Base</td><td>90</td><td>91768.98</td><td>12678.01</td><td>2025-06-30</td><td>INR</td><td>INR</td><td>553.8461539</td><td>0.0</td><td>SUV</td><td>INR</td><td>Manual</td><td>1300</td><td>1717497688</td><td>Dealership</td><td>SRS Travels</td><td>Bulk Delivery</td><td>Commercial</td><td>4-Jan-23</td><td>DOB</td><td>DOJ</td><td>Azure</td></tr><tr><td>1037</td><td>1065</td><td>265</td><td>265</td><td>1</td><td>0</td><td>0</td><td>Baleno</td><td>83</td><td>8400.123</td><td>1450.01</td><td>2023-12-27</td><td>INR</td><td>INR</td><td>-7199.999999</td><td>0.0</td><td>SUV</td><td>INR</td><td>Manual</td><td>1300</td><td>1717497711</td><td>Dealership</td><td>SRS Travels</td><td>Bulk Delivery</td><td>Commercial</td><td>4-Jan-23</td><td>DOB</td><td>DOJ</td><td>Azure</td></tr><tr><td>1034</td><td>1063</td><td>266</td><td>266</td><td>1</td><td>0</td><td>0</td><td>Engine_Base</td><td>76</td><td>77345.665</td><td>3456.01</td><td>2024-04-30</td><td>INR</td><td>INR</td><td>7200.0</td><td>0.0</td><td>SUV</td><td>INR</td><td>Manual</td><td>1300</td><td>1717497688</td><td>Dealership</td><td>SRS Travels</td><td>Bulk Delivery</td><td>Commercial</td><td>4-Jan-23</td><td>DOB</td><td>DOJ</td><td>Azure</td></tr><tr><td>1034</td><td>1063</td><td>267</td><td>267</td><td>1</td><td>0</td><td>0</td><td>Suzuki Swift</td><td>96</td><td>974567.11</td><td>110.01</td><td>2025-12-31</td><td>INR</td><td>INR</td><td>1404.878049</td><td>0.0</td><td>SUV</td><td>INR</td><td>Manual</td><td>1300</td><td>1717497688</td><td>Dealership</td><td>SRS Travels</td><td>Bulk Delivery</td><td>Commercial</td><td>4-Jan-23</td><td>DOB</td><td>DOJ</td><td>Azure</td></tr><tr><td>1038</td><td>1068</td><td>268</td><td>268</td><td>1</td><td>1</td><td>0</td><td>Suzuki Swift</td><td>48</td><td>49.0</td><td>0.01</td><td>2023-03-20</td><td>INR</td><td>INR</td><td>834.1253</td><td>0.0</td><td>SUV</td><td>INR</td><td>Manual</td><td>1300</td><td>1717497741</td><td>Dealership</td><td>SRS Travels</td><td>Bulk Delivery</td><td>Commercial</td><td>4-Jan-23</td><td>DOB</td><td>DOJ</td><td>Azure</td></tr><tr><td>1037</td><td>1065</td><td>270</td><td>270</td><td>1</td><td>0</td><td>0</td><td>Wagon R</td><td>76</td><td>77345.665</td><td>3456.01</td><td>2024-03-26</td><td>INR</td><td>INR</td><td>7200.0</td><td>0.0</td><td>SUV</td><td>INR</td><td>Manual</td><td>1300</td><td>1717497711</td><td>Dealership</td><td>SRS Travels</td><td>Bulk Delivery</td><td>Commercial</td><td>4-Jan-23</td><td>DOB</td><td>DOJ</td><td>Azure</td></tr><tr><td>1038</td><td>1068</td><td>271</td><td>271</td><td>1</td><td>0</td><td>0</td><td>Engine_Base</td><td>34</td><td>35.0</td><td>12340.0123</td><td>2023-03-20</td><td>INR</td><td>INR</td><td>1668.2506</td><td>0.0</td><td>SUV</td><td>INR</td><td>Manual</td><td>1300</td><td>1717497741</td><td>Dealership</td><td>SRS Travels</td><td>Bulk Delivery</td><td>Commercial</td><td>4-Jan-23</td><td>DOB</td><td>DOJ</td><td>Azure</td></tr><tr><td>1041</td><td>1071</td><td>272</td><td>272</td><td>1</td><td>1</td><td>0</td><td>Creta</td><td>29</td><td>30.0</td><td>12340.0123</td><td>2023-03-20</td><td>INR</td><td>INR</td><td>-2383.215143</td><td>0.0</td><td>SUV</td><td>INR</td><td>Manual</td><td>1300</td><td>1717497749</td><td>Dealership</td><td>SRS Travels</td><td>Bulk Delivery</td><td>Commercial</td><td>4-Jan-23</td><td>DOB</td><td>DOJ</td><td>Azure</td></tr><tr><td>1037</td><td>1065</td><td>277</td><td>277</td><td>1</td><td>0</td><td>0</td><td>Brezza</td><td>73</td><td>74567.34567</td><td>3456.01</td><td>2023-12-28</td><td>INR</td><td>INR</td><td>7440.0</td><td>0.0</td><td>SUV</td><td>INR</td><td>Manual</td><td>1300</td><td>1717497711</td><td>Dealership</td><td>SRS Travels</td><td>Bulk Delivery</td><td>Commercial</td><td>4-Jan-23</td><td>DOB</td><td>DOJ</td><td>Azure</td></tr></tbody></table></div>"
      ]
     },
     "metadata": {
      "application/vnd.databricks.v1+output": {
       "addedWidgets": {},
       "aggData": [],
       "aggError": "",
       "aggOverflow": false,
       "aggSchema": [],
       "aggSeriesLimitReached": false,
       "aggType": "",
       "arguments": {},
       "columnCustomDisplayInfos": {},
       "data": [
        [
         1041,
         1071,
         257,
         257,
         1,
         1,
         0,
         "Baleno",
         6,
         72567.98,
         5678.01,
         "2023-02-20",
         "INR",
         "INR",
         2381.657773,
         0.0,
         "SUV",
         "INR",
         "Manual",
         1300,
         1717497749,
         "Dealership",
         "SRS Travels",
         "Bulk Delivery",
         "Commercial",
         "4-Jan-23",
         "DOB",
         "DOJ",
         "Azure"
        ],
        [
         1034,
         1063,
         264,
         264,
         1,
         0,
         0,
         "Engine_Base",
         90,
         91768.98,
         12678.01,
         "2025-06-30",
         "INR",
         "INR",
         553.8461539,
         0.0,
         "SUV",
         "INR",
         "Manual",
         1300,
         1717497688,
         "Dealership",
         "SRS Travels",
         "Bulk Delivery",
         "Commercial",
         "4-Jan-23",
         "DOB",
         "DOJ",
         "Azure"
        ],
        [
         1037,
         1065,
         265,
         265,
         1,
         0,
         0,
         "Baleno",
         83,
         8400.123,
         1450.01,
         "2023-12-27",
         "INR",
         "INR",
         -7199.999999,
         0.0,
         "SUV",
         "INR",
         "Manual",
         1300,
         1717497711,
         "Dealership",
         "SRS Travels",
         "Bulk Delivery",
         "Commercial",
         "4-Jan-23",
         "DOB",
         "DOJ",
         "Azure"
        ],
        [
         1034,
         1063,
         266,
         266,
         1,
         0,
         0,
         "Engine_Base",
         76,
         77345.665,
         3456.01,
         "2024-04-30",
         "INR",
         "INR",
         7200.0,
         0.0,
         "SUV",
         "INR",
         "Manual",
         1300,
         1717497688,
         "Dealership",
         "SRS Travels",
         "Bulk Delivery",
         "Commercial",
         "4-Jan-23",
         "DOB",
         "DOJ",
         "Azure"
        ],
        [
         1034,
         1063,
         267,
         267,
         1,
         0,
         0,
         "Suzuki Swift",
         96,
         974567.11,
         110.01,
         "2025-12-31",
         "INR",
         "INR",
         1404.878049,
         0.0,
         "SUV",
         "INR",
         "Manual",
         1300,
         1717497688,
         "Dealership",
         "SRS Travels",
         "Bulk Delivery",
         "Commercial",
         "4-Jan-23",
         "DOB",
         "DOJ",
         "Azure"
        ],
        [
         1038,
         1068,
         268,
         268,
         1,
         1,
         0,
         "Suzuki Swift",
         48,
         49.0,
         0.01,
         "2023-03-20",
         "INR",
         "INR",
         834.1253,
         0.0,
         "SUV",
         "INR",
         "Manual",
         1300,
         1717497741,
         "Dealership",
         "SRS Travels",
         "Bulk Delivery",
         "Commercial",
         "4-Jan-23",
         "DOB",
         "DOJ",
         "Azure"
        ],
        [
         1037,
         1065,
         270,
         270,
         1,
         0,
         0,
         "Wagon R",
         76,
         77345.665,
         3456.01,
         "2024-03-26",
         "INR",
         "INR",
         7200.0,
         0.0,
         "SUV",
         "INR",
         "Manual",
         1300,
         1717497711,
         "Dealership",
         "SRS Travels",
         "Bulk Delivery",
         "Commercial",
         "4-Jan-23",
         "DOB",
         "DOJ",
         "Azure"
        ],
        [
         1038,
         1068,
         271,
         271,
         1,
         0,
         0,
         "Engine_Base",
         34,
         35.0,
         12340.0123,
         "2023-03-20",
         "INR",
         "INR",
         1668.2506,
         0.0,
         "SUV",
         "INR",
         "Manual",
         1300,
         1717497741,
         "Dealership",
         "SRS Travels",
         "Bulk Delivery",
         "Commercial",
         "4-Jan-23",
         "DOB",
         "DOJ",
         "Azure"
        ],
        [
         1041,
         1071,
         272,
         272,
         1,
         1,
         0,
         "Creta",
         29,
         30.0,
         12340.0123,
         "2023-03-20",
         "INR",
         "INR",
         -2383.215143,
         0.0,
         "SUV",
         "INR",
         "Manual",
         1300,
         1717497749,
         "Dealership",
         "SRS Travels",
         "Bulk Delivery",
         "Commercial",
         "4-Jan-23",
         "DOB",
         "DOJ",
         "Azure"
        ],
        [
         1037,
         1065,
         277,
         277,
         1,
         0,
         0,
         "Brezza",
         73,
         74567.34567,
         3456.01,
         "2023-12-28",
         "INR",
         "INR",
         7440.0,
         0.0,
         "SUV",
         "INR",
         "Manual",
         1300,
         1717497711,
         "Dealership",
         "SRS Travels",
         "Bulk Delivery",
         "Commercial",
         "4-Jan-23",
         "DOB",
         "DOJ",
         "Azure"
        ]
       ],
       "datasetInfos": [],
       "dbfsResultPath": null,
       "isJsonSchema": true,
       "metadata": {},
       "overflow": false,
       "plotOptions": {
        "customPlotOptions": {},
        "displayType": "table",
        "pivotAggregation": null,
        "pivotColumns": null,
        "xColumns": null,
        "yColumns": null
       },
       "removedWidgets": [],
       "schema": [
        {
         "metadata": "{}",
         "name": "Target_Event_Id",
         "type": "\"integer\""
        },
        {
         "metadata": "{}",
         "name": "Target_Simulation_Id",
         "type": "\"integer\""
        },
        {
         "metadata": "{}",
         "name": "Id",
         "type": "\"integer\""
        },
        {
         "metadata": "{}",
         "name": "dept_Id",
         "type": "\"integer\""
        },
        {
         "metadata": "{}",
         "name": "SubDept_Id",
         "type": "\"integer\""
        },
        {
         "metadata": "{}",
         "name": "Vehicle_Id",
         "type": "\"integer\""
        },
        {
         "metadata": "{}",
         "name": "Vehicle_Profile_Id",
         "type": "\"integer\""
        },
        {
         "metadata": "{}",
         "name": "Description",
         "type": "\"string\""
        },
        {
         "metadata": "{}",
         "name": "Vehicle_Price_Id",
         "type": "\"integer\""
        },
        {
         "metadata": "{}",
         "name": "Vehicle_Showroom_Price",
         "type": "\"double\""
        },
        {
         "metadata": "{}",
         "name": "Vehicle_Showroom_Delta",
         "type": "\"double\""
        },
        {
         "metadata": "{\"__detected_date_formats\":\"M/d/yyyy\"}",
         "name": "Vehicle_Showroom_Payment_Date",
         "type": "\"date\""
        },
        {
         "metadata": "{}",
         "name": "Currency",
         "type": "\"string\""
        },
        {
         "metadata": "{}",
         "name": "Target_Currency",
         "type": "\"string\""
        },
        {
         "metadata": "{}",
         "name": "Average",
         "type": "\"double\""
        },
        {
         "metadata": "{}",
         "name": "Increment",
         "type": "\"double\""
        },
        {
         "metadata": "{}",
         "name": "Vehicle_Name",
         "type": "\"string\""
        },
        {
         "metadata": "{}",
         "name": "Sales_Currency",
         "type": "\"string\""
        },
        {
         "metadata": "{}",
         "name": "Transmission",
         "type": "\"string\""
        },
        {
         "metadata": "{}",
         "name": "Capacity",
         "type": "\"integer\""
        },
        {
         "metadata": "{}",
         "name": "Sales_Timestamp",
         "type": "\"integer\""
        },
        {
         "metadata": "{}",
         "name": "Method",
         "type": "\"string\""
        },
        {
         "metadata": "{}",
         "name": "Customer",
         "type": "\"string\""
        },
        {
         "metadata": "{}",
         "name": "Sales_Event",
         "type": "\"string\""
        },
        {
         "metadata": "{}",
         "name": "Type_of_Market",
         "type": "\"string\""
        },
        {
         "metadata": "{}",
         "name": "Vehicle_Delivery_Date",
         "type": "\"string\""
        },
        {
         "metadata": "{}",
         "name": "Vehicle_Delivery_Status",
         "type": "\"string\""
        },
        {
         "metadata": "{}",
         "name": "Post_Vehicle_Delivery_Status",
         "type": "\"string\""
        },
        {
         "metadata": "{}",
         "name": "Database",
         "type": "\"string\""
        }
       ],
       "type": "table"
      }
     },
     "output_type": "display_data"
    }
   ],
   "source": [
    "# left join \"Sales_Collect_Rev03\", \"SalesData_Rev03\" and \"RunningData_Rev03\"\n",
    "Sales_Collect_df_Rev03_02 = Sales_Collect_Rev03.\\\n",
    "                             join(SalesData_Rev03, how='left',\n",
    "                                  on=['Target_Simulation_Id']).\\\n",
    "                             join(RunningData_Rev03, how='left', on=['Target_Event_Id'])\n",
    "                        \n",
    "display(Sales_Collect_df_Rev03_02.limit(10))"
   ]
  }
 ],
 "metadata": {
  "application/vnd.databricks.v1+notebook": {
   "computePreferences": null,
   "dashboards": [],
   "environmentMetadata": null,
   "inputWidgetPreferences": null,
   "language": "python",
   "notebookMetadata": {
    "mostRecentlyExecutedCommandWithImplicitDF": {
     "commandId": 2482666618292928,
     "dataframes": [
      "_sqldf"
     ]
    },
    "pythonIndentUnit": 4
   },
   "notebookName": "Scenario 07_How to join multiple datasets_inner join_left join",
   "widgets": {}
  }
 },
 "nbformat": 4,
 "nbformat_minor": 0
}