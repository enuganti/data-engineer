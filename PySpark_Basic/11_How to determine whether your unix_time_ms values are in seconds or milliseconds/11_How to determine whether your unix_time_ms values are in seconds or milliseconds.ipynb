{
 "cells": [
  {
   "cell_type": "markdown",
   "metadata": {
    "application/vnd.databricks.v1+cell": {
     "cellMetadata": {},
     "inputWidgets": {},
     "nuid": "0a969227-69f0-4967-868e-c66403e2fddc",
     "showTitle": false,
     "tableResultSettingsMap": {},
     "title": ""
    }
   },
   "source": [
    "#### How to determine whether your unix_time_ms values are in seconds or milliseconds?"
   ]
  },
  {
   "cell_type": "markdown",
   "metadata": {
    "application/vnd.databricks.v1+cell": {
     "cellMetadata": {},
     "inputWidgets": {},
     "nuid": "962450d1-ff45-4420-9257-5a558e41228a",
     "showTitle": false,
     "tableResultSettingsMap": {},
     "title": ""
    }
   },
   "source": [
    "**1) Check the Length or Magnitude of the Number**\n",
    "\n",
    "| Value Type       | Typical Range                  | Example         |\n",
    "| ---------------- | ------------------------------ | --------------- |\n",
    "| **Seconds**      | 10-digit numbers (≈ billions)  | `1633072800`    |\n",
    "| **Milliseconds** | 13-digit numbers (≈ trillions) | `1633072800000` |"
   ]
  },
  {
   "cell_type": "markdown",
   "metadata": {
    "application/vnd.databricks.v1+cell": {
     "cellMetadata": {},
     "inputWidgets": {},
     "nuid": "325186d3-ca46-4e27-849e-4fed64ff94f4",
     "showTitle": false,
     "tableResultSettingsMap": {},
     "title": ""
    }
   },
   "source": [
    "✅ Rule of Thumb:\n",
    "\n",
    "- If the value is **around 10 digits** → it's likely **seconds**\n",
    "- If the value is **around 13 digits** → it's likely **milliseconds**"
   ]
  },
  {
   "cell_type": "markdown",
   "metadata": {
    "application/vnd.databricks.v1+cell": {
     "cellMetadata": {},
     "inputWidgets": {},
     "nuid": "bb1d3f23-fcba-4940-8376-f388bc469002",
     "showTitle": false,
     "tableResultSettingsMap": {},
     "title": ""
    }
   },
   "source": [
    "##### 2) Convert a Sample Value and Check Output"
   ]
  },
  {
   "cell_type": "code",
   "execution_count": 0,
   "metadata": {
    "application/vnd.databricks.v1+cell": {
     "cellMetadata": {
      "byteLimit": 2048000,
      "rowLimit": 10000
     },
     "inputWidgets": {},
     "nuid": "e1e13b0e-b57c-42a6-a2eb-ae7ff11353bd",
     "showTitle": false,
     "tableResultSettingsMap": {
      "0": {
       "dataGridStateBlob": "{\"version\":1,\"tableState\":{\"columnPinning\":{\"left\":[\"#row_number#\"],\"right\":[]},\"columnSizing\":{\"as_seconds\":150},\"columnVisibility\":{}},\"settings\":{\"columns\":{}},\"syncTimestamp\":1754840414614}",
       "filterBlob": null,
       "queryPlanFiltersBlob": null,
       "tableResultIndex": 0
      }
     },
     "title": ""
    }
   },
   "outputs": [
    {
     "output_type": "display_data",
     "data": {
      "text/html": [
       "<style scoped>\n",
       "  .table-result-container {\n",
       "    max-height: 300px;\n",
       "    overflow: auto;\n",
       "  }\n",
       "  table, th, td {\n",
       "    border: 1px solid black;\n",
       "    border-collapse: collapse;\n",
       "  }\n",
       "  th, td {\n",
       "    padding: 5px;\n",
       "  }\n",
       "  th {\n",
       "    text-align: left;\n",
       "  }\n",
       "</style><div class='table-result-container'><table class='table-result'><thead style='background-color: white'><tr><th>timestamp_milli_seconds</th><th>as_milli_seconds</th></tr></thead><tbody><tr><td>1633072800000</td><td>+53720-01-07 13:20:00</td></tr></tbody></table></div>"
      ]
     },
     "metadata": {
      "application/vnd.databricks.v1+output": {
       "addedWidgets": {},
       "aggData": [],
       "aggError": "",
       "aggOverflow": false,
       "aggSchema": [],
       "aggSeriesLimitReached": false,
       "aggType": "",
       "arguments": {},
       "columnCustomDisplayInfos": {},
       "data": [
        [
         1633072800000,
         "+53720-01-07 13:20:00"
        ]
       ],
       "datasetInfos": [],
       "dbfsResultPath": null,
       "isJsonSchema": true,
       "metadata": {},
       "overflow": false,
       "plotOptions": {
        "customPlotOptions": {},
        "displayType": "table",
        "pivotAggregation": null,
        "pivotColumns": null,
        "xColumns": null,
        "yColumns": null
       },
       "removedWidgets": [],
       "schema": [
        {
         "metadata": "{}",
         "name": "timestamp_milli_seconds",
         "type": "\"long\""
        },
        {
         "metadata": "{}",
         "name": "as_milli_seconds",
         "type": "\"string\""
        }
       ],
       "type": "table"
      }
     },
     "output_type": "display_data"
    },
    {
     "output_type": "display_data",
     "data": {
      "text/html": [
       "<style scoped>\n",
       "  .table-result-container {\n",
       "    max-height: 300px;\n",
       "    overflow: auto;\n",
       "  }\n",
       "  table, th, td {\n",
       "    border: 1px solid black;\n",
       "    border-collapse: collapse;\n",
       "  }\n",
       "  th, td {\n",
       "    padding: 5px;\n",
       "  }\n",
       "  th {\n",
       "    text-align: left;\n",
       "  }\n",
       "</style><div class='table-result-container'><table class='table-result'><thead style='background-color: white'><tr><th>timestamp_seconds</th><th>as_seconds</th></tr></thead><tbody><tr><td>1633072800</td><td>2021-10-01 07:20:00</td></tr></tbody></table></div>"
      ]
     },
     "metadata": {
      "application/vnd.databricks.v1+output": {
       "addedWidgets": {},
       "aggData": [],
       "aggError": "",
       "aggOverflow": false,
       "aggSchema": [],
       "aggSeriesLimitReached": false,
       "aggType": "",
       "arguments": {},
       "columnCustomDisplayInfos": {},
       "data": [
        [
         1633072800,
         "2021-10-01 07:20:00"
        ]
       ],
       "datasetInfos": [],
       "dbfsResultPath": null,
       "isJsonSchema": true,
       "metadata": {},
       "overflow": false,
       "plotOptions": {
        "customPlotOptions": {},
        "displayType": "table",
        "pivotAggregation": null,
        "pivotColumns": null,
        "xColumns": null,
        "yColumns": null
       },
       "removedWidgets": [],
       "schema": [
        {
         "metadata": "{}",
         "name": "timestamp_seconds",
         "type": "\"long\""
        },
        {
         "metadata": "{}",
         "name": "as_seconds",
         "type": "\"string\""
        }
       ],
       "type": "table"
      }
     },
     "output_type": "display_data"
    }
   ],
   "source": [
    "from pyspark.sql.functions import from_unixtime, col\n",
    "\n",
    "data_milli_seconds = [(1633072800000,)]\n",
    "data_seconds = [(1633072800,)]\n",
    "\n",
    "df_milli_seconds = spark.createDataFrame(data_milli_seconds, [\"timestamp_milli_seconds\"])\n",
    "df_seconds = spark.createDataFrame(data_seconds, [\"timestamp_seconds\"])\n",
    "\n",
    "# Convert both as if they were in seconds\n",
    "df_timestamp_milli_seconds = df_milli_seconds.withColumn(\"as_milli_seconds\", from_unixtime(\"timestamp_milli_seconds\"))\n",
    "display(df_timestamp_milli_seconds)\n",
    "\n",
    "# Convert both as if they were in seconds\n",
    "df_timestamp_seconds = df_seconds.withColumn(\"as_seconds\", from_unixtime(\"timestamp_seconds\"))\n",
    "display(df_timestamp_seconds)"
   ]
  },
  {
   "cell_type": "markdown",
   "metadata": {
    "application/vnd.databricks.v1+cell": {
     "cellMetadata": {},
     "inputWidgets": {},
     "nuid": "33a0d47c-4d64-4d33-9ab5-5d5e25cffcff",
     "showTitle": false,
     "tableResultSettingsMap": {},
     "title": ""
    }
   },
   "source": [
    "\n",
    "|  timestamp_raw  |       as_seconds         |                      |\n",
    "|-----------------|--------------------------|----------------------|\n",
    "|  1633072800000  |  +53720-01-07 13:20:00   |  => clearly invalid  |\n",
    "|  1633072800     |  2021-10-01 07:20:00     |  => makes sense      |"
   ]
  },
  {
   "cell_type": "markdown",
   "metadata": {
    "application/vnd.databricks.v1+cell": {
     "cellMetadata": {},
     "inputWidgets": {},
     "nuid": "cf7627b8-c367-48d1-8cda-ab30c3fc3127",
     "showTitle": false,
     "tableResultSettingsMap": {},
     "title": ""
    }
   },
   "source": [
    "##### 3) Divide by 1000 and Try Again"
   ]
  },
  {
   "cell_type": "code",
   "execution_count": 0,
   "metadata": {
    "application/vnd.databricks.v1+cell": {
     "cellMetadata": {
      "byteLimit": 2048000,
      "rowLimit": 10000
     },
     "inputWidgets": {},
     "nuid": "0f48a193-524e-4750-8848-35a19db4594c",
     "showTitle": false,
     "tableResultSettingsMap": {
      "0": {
       "dataGridStateBlob": "{\"version\":1,\"tableState\":{\"columnPinning\":{\"left\":[\"#row_number#\"],\"right\":[]},\"columnSizing\":{\"timestamp_milli_seconds\":177},\"columnVisibility\":{}},\"settings\":{\"columns\":{}},\"syncTimestamp\":1754842406558}",
       "filterBlob": null,
       "queryPlanFiltersBlob": null,
       "tableResultIndex": 0
      }
     },
     "title": ""
    }
   },
   "outputs": [
    {
     "output_type": "display_data",
     "data": {
      "text/html": [
       "<style scoped>\n",
       "  .table-result-container {\n",
       "    max-height: 300px;\n",
       "    overflow: auto;\n",
       "  }\n",
       "  table, th, td {\n",
       "    border: 1px solid black;\n",
       "    border-collapse: collapse;\n",
       "  }\n",
       "  th, td {\n",
       "    padding: 5px;\n",
       "  }\n",
       "  th {\n",
       "    text-align: left;\n",
       "  }\n",
       "</style><div class='table-result-container'><table class='table-result'><thead style='background-color: white'><tr><th>timestamp_milli_seconds</th><th>timestamp_milli_sec</th></tr></thead><tbody><tr><td>1633072800000</td><td>2021-10-01 07:20:00</td></tr></tbody></table></div>"
      ]
     },
     "metadata": {
      "application/vnd.databricks.v1+output": {
       "addedWidgets": {},
       "aggData": [],
       "aggError": "",
       "aggOverflow": false,
       "aggSchema": [],
       "aggSeriesLimitReached": false,
       "aggType": "",
       "arguments": {},
       "columnCustomDisplayInfos": {},
       "data": [
        [
         1633072800000,
         "2021-10-01 07:20:00"
        ]
       ],
       "datasetInfos": [],
       "dbfsResultPath": null,
       "isJsonSchema": true,
       "metadata": {},
       "overflow": false,
       "plotOptions": {
        "customPlotOptions": {},
        "displayType": "table",
        "pivotAggregation": null,
        "pivotColumns": null,
        "xColumns": null,
        "yColumns": null
       },
       "removedWidgets": [],
       "schema": [
        {
         "metadata": "{}",
         "name": "timestamp_milli_seconds",
         "type": "\"long\""
        },
        {
         "metadata": "{}",
         "name": "timestamp_milli_sec",
         "type": "\"string\""
        }
       ],
       "type": "table"
      }
     },
     "output_type": "display_data"
    },
    {
     "output_type": "display_data",
     "data": {
      "text/html": [
       "<style scoped>\n",
       "  .table-result-container {\n",
       "    max-height: 300px;\n",
       "    overflow: auto;\n",
       "  }\n",
       "  table, th, td {\n",
       "    border: 1px solid black;\n",
       "    border-collapse: collapse;\n",
       "  }\n",
       "  th, td {\n",
       "    padding: 5px;\n",
       "  }\n",
       "  th {\n",
       "    text-align: left;\n",
       "  }\n",
       "</style><div class='table-result-container'><table class='table-result'><thead style='background-color: white'><tr><th>timestamp_seconds</th><th>timestamp_sec</th></tr></thead><tbody><tr><td>1633072800</td><td>2021-10-01 07:20:00</td></tr></tbody></table></div>"
      ]
     },
     "metadata": {
      "application/vnd.databricks.v1+output": {
       "addedWidgets": {},
       "aggData": [],
       "aggError": "",
       "aggOverflow": false,
       "aggSchema": [],
       "aggSeriesLimitReached": false,
       "aggType": "",
       "arguments": {},
       "columnCustomDisplayInfos": {},
       "data": [
        [
         1633072800,
         "2021-10-01 07:20:00"
        ]
       ],
       "datasetInfos": [],
       "dbfsResultPath": null,
       "isJsonSchema": true,
       "metadata": {},
       "overflow": false,
       "plotOptions": {
        "customPlotOptions": {},
        "displayType": "table",
        "pivotAggregation": null,
        "pivotColumns": null,
        "xColumns": null,
        "yColumns": null
       },
       "removedWidgets": [],
       "schema": [
        {
         "metadata": "{}",
         "name": "timestamp_seconds",
         "type": "\"long\""
        },
        {
         "metadata": "{}",
         "name": "timestamp_sec",
         "type": "\"string\""
        }
       ],
       "type": "table"
      }
     },
     "output_type": "display_data"
    }
   ],
   "source": [
    "df_corrected_milli_seconds = df_milli_seconds.withColumn(\"timestamp_milli_sec\", from_unixtime(col(\"timestamp_milli_seconds\") / 1000))\n",
    "df_corrected_seconds = df_seconds.withColumn(\"timestamp_sec\", from_unixtime(\"timestamp_seconds\"))\n",
    "display(df_corrected_milli_seconds)\n",
    "display(df_corrected_seconds)"
   ]
  },
  {
   "cell_type": "markdown",
   "metadata": {
    "application/vnd.databricks.v1+cell": {
     "cellMetadata": {},
     "inputWidgets": {},
     "nuid": "9cbfaef8-53ab-4008-afdb-931be0990f87",
     "showTitle": false,
     "tableResultSettingsMap": {},
     "title": ""
    }
   },
   "source": [
    "##### 4) Automatic safe conversion pattern"
   ]
  },
  {
   "cell_type": "code",
   "execution_count": 0,
   "metadata": {
    "application/vnd.databricks.v1+cell": {
     "cellMetadata": {
      "byteLimit": 2048000,
      "rowLimit": 10000
     },
     "inputWidgets": {},
     "nuid": "6792199c-cbe0-4475-bbd2-141beec76f93",
     "showTitle": false,
     "tableResultSettingsMap": {},
     "title": ""
    }
   },
   "outputs": [
    {
     "output_type": "display_data",
     "data": {
      "text/html": [
       "<style scoped>\n",
       "  .table-result-container {\n",
       "    max-height: 300px;\n",
       "    overflow: auto;\n",
       "  }\n",
       "  table, th, td {\n",
       "    border: 1px solid black;\n",
       "    border-collapse: collapse;\n",
       "  }\n",
       "  th, td {\n",
       "    padding: 5px;\n",
       "  }\n",
       "  th {\n",
       "    text-align: left;\n",
       "  }\n",
       "</style><div class='table-result-container'><table class='table-result'><thead style='background-color: white'><tr><th>unix_time_ms</th><th>ts_seconds</th><th>ts_readable</th></tr></thead><tbody><tr><td>1633072800000</td><td>1633072800</td><td>2021-10-01 07:20:00</td></tr><tr><td>1622476800</td><td>1622476800</td><td>2021-05-31 16:00:00</td></tr><tr><td>1609459200000</td><td>1609459200</td><td>2021-01-01 00:00:00</td></tr><tr><td>1633068900</td><td>1633068900</td><td>2021-10-01 06:15:00</td></tr><tr><td>1989456700000</td><td>1989456700</td><td>2033-01-16 02:51:40</td></tr><tr><td>1622599900</td><td>1622599900</td><td>2021-06-02 02:11:40</td></tr><tr><td>1689499800000</td><td>1689499800</td><td>2023-07-16 09:30:00</td></tr></tbody></table></div>"
      ]
     },
     "metadata": {
      "application/vnd.databricks.v1+output": {
       "addedWidgets": {},
       "aggData": [],
       "aggError": "",
       "aggOverflow": false,
       "aggSchema": [],
       "aggSeriesLimitReached": false,
       "aggType": "",
       "arguments": {},
       "columnCustomDisplayInfos": {},
       "data": [
        [
         1633072800000,
         1633072800,
         "2021-10-01 07:20:00"
        ],
        [
         1622476800,
         1622476800,
         "2021-05-31 16:00:00"
        ],
        [
         1609459200000,
         1609459200,
         "2021-01-01 00:00:00"
        ],
        [
         1633068900,
         1633068900,
         "2021-10-01 06:15:00"
        ],
        [
         1989456700000,
         1989456700,
         "2033-01-16 02:51:40"
        ],
        [
         1622599900,
         1622599900,
         "2021-06-02 02:11:40"
        ],
        [
         1689499800000,
         1689499800,
         "2023-07-16 09:30:00"
        ]
       ],
       "datasetInfos": [],
       "dbfsResultPath": null,
       "isJsonSchema": true,
       "metadata": {},
       "overflow": false,
       "plotOptions": {
        "customPlotOptions": {},
        "displayType": "table",
        "pivotAggregation": null,
        "pivotColumns": null,
        "xColumns": null,
        "yColumns": null
       },
       "removedWidgets": [],
       "schema": [
        {
         "metadata": "{}",
         "name": "unix_time_ms",
         "type": "\"long\""
        },
        {
         "metadata": "{}",
         "name": "ts_seconds",
         "type": "\"long\""
        },
        {
         "metadata": "{}",
         "name": "ts_readable",
         "type": "\"string\""
        }
       ],
       "type": "table"
      }
     },
     "output_type": "display_data"
    }
   ],
   "source": [
    "from pyspark.sql.functions import length, col, when, from_unixtime\n",
    "\n",
    "# Example input data\n",
    "data = [\n",
    "    (1633072800000,),   # milliseconds\n",
    "    (1622476800,),      # seconds\n",
    "    (1609459200000,),   # milliseconds\n",
    "    (1633068900,),      # seconds\n",
    "    (1989456700000,),   # milliseconds\n",
    "    (1622599900,),      # seconds\n",
    "    (1689499800000,)    # milliseconds\n",
    "]\n",
    "df = spark.createDataFrame(data, [\"unix_time_ms\"])\n",
    "\n",
    "# Column with detection & conversion\n",
    "df_conv = df.withColumn(\n",
    "    \"ts_seconds\",\n",
    "    when(length(col(\"unix_time_ms\")) >= 13, (col(\"unix_time_ms\") / 1000).cast(\"long\"))\n",
    "    .otherwise(col(\"unix_time_ms\").cast(\"long\"))\n",
    ").withColumn(\"ts_readable\", from_unixtime(\"ts_seconds\"))\n",
    "\n",
    "display(df_conv)"
   ]
  },
  {
   "cell_type": "markdown",
   "metadata": {
    "application/vnd.databricks.v1+cell": {
     "cellMetadata": {},
     "inputWidgets": {},
     "nuid": "bb0f625d-a4c4-4cd9-8563-f0a6b683a5bf",
     "showTitle": false,
     "tableResultSettingsMap": {},
     "title": ""
    }
   },
   "source": [
    "✅ Summary:\n",
    "\n",
    "| What to Do                     | What It Tells You                                   |\n",
    "| ------------------------------ | --------------------------------------------------- |\n",
    "| Check if value has \\~13 digits | Likely milliseconds                                 |\n",
    "| Check if value has \\~10 digits | Likely seconds                                      |\n",
    "| Use `from_unixtime` and verify | If date looks wrong, likely wrong unit              |\n",
    "| Try dividing by 1000           | Converts ms → sec; check if date looks correct then |"
   ]
  }
 ],
 "metadata": {
  "application/vnd.databricks.v1+notebook": {
   "computePreferences": {
    "hardware": {
     "accelerator": null,
     "gpuPoolId": null,
     "memory": null
    }
   },
   "dashboards": [],
   "environmentMetadata": {
    "base_environment": "",
    "environment_version": "2"
   },
   "inputWidgetPreferences": null,
   "language": "python",
   "notebookMetadata": {
    "pythonIndentUnit": 4
   },
   "notebookName": "11_How to determine whether your unix_time_ms values are in seconds or milliseconds",
   "widgets": {}
  },
  "language_info": {
   "name": "python"
  }
 },
 "nbformat": 4,
 "nbformat_minor": 0
}