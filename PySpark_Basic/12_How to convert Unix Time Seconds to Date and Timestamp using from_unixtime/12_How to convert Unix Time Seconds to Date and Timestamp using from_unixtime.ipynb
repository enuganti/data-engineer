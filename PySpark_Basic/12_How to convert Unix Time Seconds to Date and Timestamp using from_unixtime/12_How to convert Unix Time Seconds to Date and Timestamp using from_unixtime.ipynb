{
 "cells": [
  {
   "cell_type": "markdown",
   "metadata": {
    "application/vnd.databricks.v1+cell": {
     "cellMetadata": {
      "byteLimit": 2048000,
      "rowLimit": 10000
     },
     "inputWidgets": {},
     "nuid": "90813333-5523-47f2-b57b-7eb3a2741de3",
     "showTitle": false,
     "tableResultSettingsMap": {},
     "title": ""
    }
   },
   "source": [
    "**from_unixtime**\n",
    "\n",
    "- Converts **Unix Time Seconds** to **Date and Timestamp**.\n",
    "- is used to convert the number of **seconds** from Unix epoch (1970-01-01 00:00:00 UTC) to a **string** representation of the **timestamp**.\n",
    "- Converting **Unix Time** to a **Human-Readable Format** of timestamp.\n",
    "\n",
    "\n",
    "|unix_time (seconds) |   timestamp          |\n",
    "|--------------------|----------------------|\n",
    "|1648974310|2023-04-03 09:45:10|\n"
   ]
  },
  {
   "cell_type": "markdown",
   "metadata": {
    "application/vnd.databricks.v1+cell": {
     "cellMetadata": {
      "byteLimit": 2048000,
      "rowLimit": 10000
     },
     "inputWidgets": {},
     "nuid": "d467f432-5cd4-49da-91bd-54b879b7de42",
     "showTitle": false,
     "tableResultSettingsMap": {},
     "title": ""
    }
   },
   "source": [
    "- **from_unixtime** expects **timestamp in seconds, not milliseconds**.\n",
    "- If your **timestamps are in milliseconds, divide by 1000** first:\n",
    "\n",
    "      df = df.withColumn(\"unix_time_sec\", (df[\"unix_time_ms\"] / 1000).cast(\"long\"))"
   ]
  },
  {
   "cell_type": "markdown",
   "metadata": {
    "application/vnd.databricks.v1+cell": {
     "cellMetadata": {
      "byteLimit": 2048000,
      "rowLimit": 10000
     },
     "inputWidgets": {},
     "nuid": "6d734142-5f83-4032-9467-b69932941ff3",
     "showTitle": false,
     "tableResultSettingsMap": {},
     "title": ""
    }
   },
   "source": [
    "#### Syntax\n",
    "\n",
    "     from_unixtime(timestamp: ColumnOrName, format: str = 'yyyy-MM-dd HH:mm:ss') \n",
    "\n",
    "**timestamp:** column of **unix time** values.\n",
    "\n",
    "**format:**\n",
    "\n",
    "      # default: yyyy-MM-dd HH:mm:ss\n",
    "      from_unixtime(col(\"timestamp_1\")).alias(\"timestamp_1\") \n",
    "\n",
    "      # custom format\n",
    "      from_unixtime(col(\"timestamp_2\"),\"MM-dd-yyyy HH:mm:ss\").alias(\"timestamp_2\")\n",
    "      from_unixtime(col(\"timestamp_3\"),\"MM-dd-yyyy\").alias(\"timestamp_3\")\n",
    "\n",
    "**Returns:** string of **default: yyyy-MM-dd HH:mm:ss**"
   ]
  },
  {
   "cell_type": "markdown",
   "metadata": {
    "application/vnd.databricks.v1+cell": {
     "cellMetadata": {},
     "inputWidgets": {},
     "nuid": "0f32fadc-1e9a-4c74-9d4b-122267a023f7",
     "showTitle": false,
     "tableResultSettingsMap": {},
     "title": ""
    }
   },
   "source": [
    "**Supported input data types**\n",
    "- LONG\n",
    "- BIGINT\n",
    "- INT\n",
    "- DOUBLE"
   ]
  },
  {
   "cell_type": "code",
   "execution_count": 0,
   "metadata": {
    "application/vnd.databricks.v1+cell": {
     "cellMetadata": {
      "byteLimit": 2048000,
      "rowLimit": 10000
     },
     "inputWidgets": {},
     "nuid": "e9d41908-d04a-4750-b291-681eed270630",
     "showTitle": false,
     "tableResultSettingsMap": {},
     "title": ""
    }
   },
   "outputs": [],
   "source": [
    "import pyspark.sql.functions as f\n",
    "from pyspark.sql.functions import col, exp, current_timestamp, to_timestamp, from_unixtime\n",
    "from pyspark.sql.functions import *\n",
    "from pyspark.sql.types import LongType"
   ]
  },
  {
   "cell_type": "markdown",
   "metadata": {
    "application/vnd.databricks.v1+cell": {
     "cellMetadata": {
      "byteLimit": 2048000,
      "rowLimit": 10000
     },
     "inputWidgets": {},
     "nuid": "f49aa5db-fe1c-4f5a-81a1-d23504f654bb",
     "showTitle": false,
     "tableResultSettingsMap": {},
     "title": ""
    }
   },
   "source": [
    "##### 1) Basic Usage\n",
    "\n",
    "- Convert **Unix timestamp** to **default timestamp format (yyyy-MM-dd HH:mm:ss)**."
   ]
  },
  {
   "cell_type": "code",
   "execution_count": 0,
   "metadata": {
    "application/vnd.databricks.v1+cell": {
     "cellMetadata": {
      "byteLimit": 2048000,
      "rowLimit": 10000
     },
     "inputWidgets": {},
     "nuid": "de6987b4-15f6-4c5b-abb8-0f1a86799565",
     "showTitle": false,
     "tableResultSettingsMap": {},
     "title": ""
    }
   },
   "outputs": [
    {
     "output_type": "display_data",
     "data": {
      "text/html": [
       "<style scoped>\n",
       "  .table-result-container {\n",
       "    max-height: 300px;\n",
       "    overflow: auto;\n",
       "  }\n",
       "  table, th, td {\n",
       "    border: 1px solid black;\n",
       "    border-collapse: collapse;\n",
       "  }\n",
       "  th, td {\n",
       "    padding: 5px;\n",
       "  }\n",
       "  th {\n",
       "    text-align: left;\n",
       "  }\n",
       "</style><div class='table-result-container'><table class='table-result'><thead style='background-color: white'><tr><th>unix_time</th><th>timestamp</th></tr></thead><tbody><tr><td>1633072800</td><td>2021-10-01 07:20:00</td></tr><tr><td>1622476800</td><td>2021-05-31 16:00:00</td></tr><tr><td>1609459200</td><td>2021-01-01 00:00:00</td></tr><tr><td>1766476800</td><td>2025-12-23 08:00:00</td></tr><tr><td>1998859200</td><td>2033-05-04 22:40:00</td></tr></tbody></table></div>"
      ]
     },
     "metadata": {
      "application/vnd.databricks.v1+output": {
       "addedWidgets": {},
       "aggData": [],
       "aggError": "",
       "aggOverflow": false,
       "aggSchema": [],
       "aggSeriesLimitReached": false,
       "aggType": "",
       "arguments": {},
       "columnCustomDisplayInfos": {},
       "data": [
        [
         1633072800,
         "2021-10-01 07:20:00"
        ],
        [
         1622476800,
         "2021-05-31 16:00:00"
        ],
        [
         1609459200,
         "2021-01-01 00:00:00"
        ],
        [
         1766476800,
         "2025-12-23 08:00:00"
        ],
        [
         1998859200,
         "2033-05-04 22:40:00"
        ]
       ],
       "datasetInfos": [],
       "dbfsResultPath": null,
       "isJsonSchema": true,
       "metadata": {},
       "overflow": false,
       "plotOptions": {
        "customPlotOptions": {},
        "displayType": "table",
        "pivotAggregation": null,
        "pivotColumns": null,
        "xColumns": null,
        "yColumns": null
       },
       "removedWidgets": [],
       "schema": [
        {
         "metadata": "{}",
         "name": "unix_time",
         "type": "\"long\""
        },
        {
         "metadata": "{}",
         "name": "timestamp",
         "type": "\"string\""
        }
       ],
       "type": "table"
      }
     },
     "output_type": "display_data"
    }
   ],
   "source": [
    "from pyspark.sql.functions import from_unixtime\n",
    "\n",
    "data = [(1633072800,), (1622476800,), (1609459200,), (1766476800,), (1998859200,)]\n",
    "df = spark.createDataFrame(data, [\"unix_time\"])\n",
    "\n",
    "df_with_timestamp = df.withColumn(\"timestamp\", from_unixtime(\"unix_time\"))\n",
    "display(df_with_timestamp)"
   ]
  },
  {
   "cell_type": "markdown",
   "metadata": {
    "application/vnd.databricks.v1+cell": {
     "cellMetadata": {
      "byteLimit": 2048000,
      "rowLimit": 10000
     },
     "inputWidgets": {},
     "nuid": "68055fe2-c3a7-4432-b207-9260b7bd0ce1",
     "showTitle": false,
     "tableResultSettingsMap": {},
     "title": ""
    }
   },
   "source": [
    "##### 2) Custom Format"
   ]
  },
  {
   "cell_type": "code",
   "execution_count": 0,
   "metadata": {
    "application/vnd.databricks.v1+cell": {
     "cellMetadata": {
      "byteLimit": 2048000,
      "rowLimit": 10000
     },
     "inputWidgets": {},
     "nuid": "4296de67-2c9d-4a6c-adcd-344937e04533",
     "showTitle": false,
     "tableResultSettingsMap": {
      "0": {
       "dataGridStateBlob": "{\"version\":1,\"tableState\":{\"columnPinning\":{\"left\":[\"#row_number#\"],\"right\":[]},\"columnSizing\":{},\"columnVisibility\":{}},\"settings\":{\"columns\":{}},\"syncTimestamp\":1754897837701}",
       "filterBlob": null,
       "queryPlanFiltersBlob": null,
       "tableResultIndex": 0
      }
     },
     "title": ""
    }
   },
   "outputs": [
    {
     "output_type": "display_data",
     "data": {
      "text/html": [
       "<style scoped>\n",
       "  .table-result-container {\n",
       "    max-height: 300px;\n",
       "    overflow: auto;\n",
       "  }\n",
       "  table, th, td {\n",
       "    border: 1px solid black;\n",
       "    border-collapse: collapse;\n",
       "  }\n",
       "  th, td {\n",
       "    padding: 5px;\n",
       "  }\n",
       "  th {\n",
       "    text-align: left;\n",
       "  }\n",
       "</style><div class='table-result-container'><table class='table-result'><thead style='background-color: white'><tr><th>unix_time</th><th>formatted01</th><th>formatted02</th><th>formatted03</th><th>formatted04</th></tr></thead><tbody><tr><td>1633072800</td><td>2021/10/01 07:20</td><td>2021/10/01 07:20:00</td><td>2021-10-01 07:20:00</td><td>2021-10-01</td></tr><tr><td>1622476800</td><td>2021/05/31 16:00</td><td>2021/05/31 16:00:00</td><td>2021-05-31 16:00:00</td><td>2021-05-31</td></tr><tr><td>1609459200</td><td>2021/01/01 00:00</td><td>2021/01/01 00:00:00</td><td>2021-01-01 00:00:00</td><td>2021-01-01</td></tr><tr><td>1766476800</td><td>2025/12/23 08:00</td><td>2025/12/23 08:00:00</td><td>2025-12-23 08:00:00</td><td>2025-12-23</td></tr><tr><td>1998859200</td><td>2033/05/04 22:40</td><td>2033/05/04 22:40:00</td><td>2033-05-04 22:40:00</td><td>2033-05-04</td></tr></tbody></table></div>"
      ]
     },
     "metadata": {
      "application/vnd.databricks.v1+output": {
       "addedWidgets": {},
       "aggData": [],
       "aggError": "",
       "aggOverflow": false,
       "aggSchema": [],
       "aggSeriesLimitReached": false,
       "aggType": "",
       "arguments": {},
       "columnCustomDisplayInfos": {},
       "data": [
        [
         1633072800,
         "2021/10/01 07:20",
         "2021/10/01 07:20:00",
         "2021-10-01 07:20:00",
         "2021-10-01"
        ],
        [
         1622476800,
         "2021/05/31 16:00",
         "2021/05/31 16:00:00",
         "2021-05-31 16:00:00",
         "2021-05-31"
        ],
        [
         1609459200,
         "2021/01/01 00:00",
         "2021/01/01 00:00:00",
         "2021-01-01 00:00:00",
         "2021-01-01"
        ],
        [
         1766476800,
         "2025/12/23 08:00",
         "2025/12/23 08:00:00",
         "2025-12-23 08:00:00",
         "2025-12-23"
        ],
        [
         1998859200,
         "2033/05/04 22:40",
         "2033/05/04 22:40:00",
         "2033-05-04 22:40:00",
         "2033-05-04"
        ]
       ],
       "datasetInfos": [],
       "dbfsResultPath": null,
       "isJsonSchema": true,
       "metadata": {},
       "overflow": false,
       "plotOptions": {
        "customPlotOptions": {},
        "displayType": "table",
        "pivotAggregation": null,
        "pivotColumns": null,
        "xColumns": null,
        "yColumns": null
       },
       "removedWidgets": [],
       "schema": [
        {
         "metadata": "{}",
         "name": "unix_time",
         "type": "\"long\""
        },
        {
         "metadata": "{}",
         "name": "formatted01",
         "type": "\"string\""
        },
        {
         "metadata": "{}",
         "name": "formatted02",
         "type": "\"string\""
        },
        {
         "metadata": "{}",
         "name": "formatted03",
         "type": "\"string\""
        },
        {
         "metadata": "{}",
         "name": "formatted04",
         "type": "\"string\""
        }
       ],
       "type": "table"
      }
     },
     "output_type": "display_data"
    }
   ],
   "source": [
    "df_with_format = df\\\n",
    "    .withColumn(\"formatted01\", from_unixtime(\"unix_time\", \"yyyy/MM/dd HH:mm\")) \\\n",
    "    .withColumn(\"formatted02\", from_unixtime(\"unix_time\", \"yyyy/MM/dd HH:mm:ss\")) \\\n",
    "    .withColumn(\"formatted03\", from_unixtime(\"unix_time\", \"yyyy-MM-dd HH:mm:ss\")) \\\n",
    "    .withColumn(\"formatted04\", from_unixtime(\"unix_time\", \"yyyy-MM-dd\"))\n",
    "display(df_with_format)"
   ]
  },
  {
   "cell_type": "markdown",
   "metadata": {
    "application/vnd.databricks.v1+cell": {
     "cellMetadata": {},
     "inputWidgets": {},
     "nuid": "c862259d-b749-4676-9105-9940ac36dc8c",
     "showTitle": false,
     "tableResultSettingsMap": {},
     "title": ""
    }
   },
   "source": [
    "##### 3) Convert string time-format (including milliseconds ) to unix_timestamp(double)\n",
    "- unix_timestamp() function **excludes milliseconds**. "
   ]
  },
  {
   "cell_type": "code",
   "execution_count": 0,
   "metadata": {
    "application/vnd.databricks.v1+cell": {
     "cellMetadata": {
      "byteLimit": 2048000,
      "rowLimit": 10000
     },
     "inputWidgets": {},
     "nuid": "c01f6dbd-3331-4d2e-81c2-91c0316862c9",
     "showTitle": false,
     "tableResultSettingsMap": {
      "0": {
       "dataGridStateBlob": "{\"version\":1,\"tableState\":{\"columnPinning\":{\"left\":[\"#row_number#\"],\"right\":[]},\"columnSizing\":{\"TIME\":203},\"columnVisibility\":{}},\"settings\":{\"columns\":{}},\"syncTimestamp\":1754967233633}",
       "filterBlob": null,
       "queryPlanFiltersBlob": null,
       "tableResultIndex": 0
      }
     },
     "title": ""
    }
   },
   "outputs": [
    {
     "output_type": "display_data",
     "data": {
      "text/html": [
       "<style scoped>\n",
       "  .table-result-container {\n",
       "    max-height: 300px;\n",
       "    overflow: auto;\n",
       "  }\n",
       "  table, th, td {\n",
       "    border: 1px solid black;\n",
       "    border-collapse: collapse;\n",
       "  }\n",
       "  th, td {\n",
       "    padding: 5px;\n",
       "  }\n",
       "  th {\n",
       "    text-align: left;\n",
       "  }\n",
       "</style><div class='table-result-container'><table class='table-result'><thead style='background-color: white'><tr><th>TIME</th><th>date_time</th><th>unix_timestamp</th></tr></thead><tbody><tr><td>22-Jul-2018 04:21:18.792 UTC</td><td>1532233278</td><td>1.532233278792E9</td></tr><tr><td>23-Jul-2018 04:21:25.888 UTC</td><td>1532319685</td><td>1.532319685888E9</td></tr><tr><td>24-Jul-2018 07:24:28.992 UTC</td><td>1532417068</td><td>1.532417068992E9</td></tr><tr><td>25-Jul-2019 22:29:55.555 UTC</td><td>1564093795</td><td>1.564093795555E9</td></tr><tr><td>26-Jul-2021 12:45:35.666 UTC</td><td>1627303535</td><td>1.627303535666E9</td></tr></tbody></table></div>"
      ]
     },
     "metadata": {
      "application/vnd.databricks.v1+output": {
       "addedWidgets": {},
       "aggData": [],
       "aggError": "",
       "aggOverflow": false,
       "aggSchema": [],
       "aggSeriesLimitReached": false,
       "aggType": "",
       "arguments": {},
       "columnCustomDisplayInfos": {},
       "data": [
        [
         "22-Jul-2018 04:21:18.792 UTC",
         1532233278,
         1.532233278792E9
        ],
        [
         "23-Jul-2018 04:21:25.888 UTC",
         1532319685,
         1.532319685888E9
        ],
        [
         "24-Jul-2018 07:24:28.992 UTC",
         1532417068,
         1.532417068992E9
        ],
        [
         "25-Jul-2019 22:29:55.555 UTC",
         1564093795,
         1.564093795555E9
        ],
        [
         "26-Jul-2021 12:45:35.666 UTC",
         1627303535,
         1.627303535666E9
        ]
       ],
       "datasetInfos": [],
       "dbfsResultPath": null,
       "isJsonSchema": true,
       "metadata": {},
       "overflow": false,
       "plotOptions": {
        "customPlotOptions": {},
        "displayType": "table",
        "pivotAggregation": null,
        "pivotColumns": null,
        "xColumns": null,
        "yColumns": null
       },
       "removedWidgets": [],
       "schema": [
        {
         "metadata": "{}",
         "name": "TIME",
         "type": "\"string\""
        },
        {
         "metadata": "{}",
         "name": "date_time",
         "type": "\"long\""
        },
        {
         "metadata": "{}",
         "name": "unix_timestamp",
         "type": "\"double\""
        }
       ],
       "type": "table"
      }
     },
     "output_type": "display_data"
    }
   ],
   "source": [
    "df_cust_frmt = spark.createDataFrame([('22-Jul-2018 04:21:18.792 UTC',),\n",
    "                                      ('23-Jul-2018 04:21:25.888 UTC',),\n",
    "                                      ('24-Jul-2018 07:24:28.992 UTC',),\n",
    "                                      ('25-Jul-2019 22:29:55.555 UTC',),\n",
    "                                      ('26-Jul-2021 12:45:35.666 UTC',)], ['TIME'])\n",
    "\n",
    "df_cust_frmt = df_cust_frmt\\\n",
    "  .withColumn(\"date_time\", unix_timestamp(col(\"TIME\"),'dd-MMM-yyyy HH:mm:ss.SSS z')) \\\n",
    "  .withColumn(\"unix_timestamp\", unix_timestamp(df_cust_frmt.TIME,'dd-MMM-yyyy HH:mm:ss.SSS z') + substring(df_cust_frmt.TIME,-7,3)/1000)\n",
    "\n",
    "display(df_cust_frmt)"
   ]
  },
  {
   "cell_type": "markdown",
   "metadata": {
    "application/vnd.databricks.v1+cell": {
     "cellMetadata": {},
     "inputWidgets": {},
     "nuid": "8b2a6bfd-b7e2-46c3-9b15-73840c0c75cb",
     "showTitle": false,
     "tableResultSettingsMap": {},
     "title": ""
    }
   },
   "source": [
    "##### 4) set timezone"
   ]
  },
  {
   "cell_type": "code",
   "execution_count": 0,
   "metadata": {
    "application/vnd.databricks.v1+cell": {
     "cellMetadata": {
      "byteLimit": 2048000,
      "rowLimit": 10000
     },
     "inputWidgets": {},
     "nuid": "d6b8058c-1cb9-4cf7-9025-715f95a399e2",
     "showTitle": false,
     "tableResultSettingsMap": {},
     "title": ""
    }
   },
   "outputs": [
    {
     "output_type": "display_data",
     "data": {
      "text/html": [
       "<style scoped>\n",
       "  .table-result-container {\n",
       "    max-height: 300px;\n",
       "    overflow: auto;\n",
       "  }\n",
       "  table, th, td {\n",
       "    border: 1px solid black;\n",
       "    border-collapse: collapse;\n",
       "  }\n",
       "  th, td {\n",
       "    padding: 5px;\n",
       "  }\n",
       "  th {\n",
       "    text-align: left;\n",
       "  }\n",
       "</style><div class='table-result-container'><table class='table-result'><thead style='background-color: white'><tr><th>unix_time</th><th>intToString</th></tr></thead><tbody><tr><td>1428476400</td><td>2015-04-08 07:00:00</td></tr><tr><td>1528598500</td><td>2018-06-10 02:41:40</td></tr></tbody></table></div>"
      ]
     },
     "metadata": {
      "application/vnd.databricks.v1+output": {
       "addedWidgets": {},
       "aggData": [],
       "aggError": "",
       "aggOverflow": false,
       "aggSchema": [],
       "aggSeriesLimitReached": false,
       "aggType": "",
       "arguments": {},
       "columnCustomDisplayInfos": {},
       "data": [
        [
         1428476400,
         "2015-04-08 07:00:00"
        ],
        [
         1528598500,
         "2018-06-10 02:41:40"
        ]
       ],
       "datasetInfos": [],
       "dbfsResultPath": null,
       "isJsonSchema": true,
       "metadata": {},
       "overflow": false,
       "plotOptions": {
        "customPlotOptions": {},
        "displayType": "table",
        "pivotAggregation": null,
        "pivotColumns": null,
        "xColumns": null,
        "yColumns": null
       },
       "removedWidgets": [],
       "schema": [
        {
         "metadata": "{}",
         "name": "unix_time",
         "type": "\"long\""
        },
        {
         "metadata": "{}",
         "name": "intToString",
         "type": "\"string\""
        }
       ],
       "type": "table"
      }
     },
     "output_type": "display_data"
    }
   ],
   "source": [
    "from pyspark.sql import functions as F\n",
    "df = spark.createDataFrame([(1428476400,), (1528598500,)], ['unix_time'])\n",
    "df.select('*', F.from_unixtime('unix_time').alias(\"intToString\")).display()"
   ]
  },
  {
   "cell_type": "code",
   "execution_count": 0,
   "metadata": {
    "application/vnd.databricks.v1+cell": {
     "cellMetadata": {
      "byteLimit": 2048000,
      "rowLimit": 10000
     },
     "inputWidgets": {},
     "nuid": "8b41256e-3d88-4599-8c06-c296cc595d56",
     "showTitle": true,
     "tableResultSettingsMap": {},
     "title": "timeZone: America/Los_Angeles"
    }
   },
   "outputs": [],
   "source": [
    "spark.conf.set(\"spark.sql.session.timeZone\", \"America/Los_Angeles\")"
   ]
  },
  {
   "cell_type": "code",
   "execution_count": 0,
   "metadata": {
    "application/vnd.databricks.v1+cell": {
     "cellMetadata": {
      "byteLimit": 2048000,
      "rowLimit": 10000
     },
     "inputWidgets": {},
     "nuid": "10ba4c70-296b-4c02-b9f8-9a1ae328a0ec",
     "showTitle": false,
     "tableResultSettingsMap": {},
     "title": ""
    }
   },
   "outputs": [
    {
     "output_type": "display_data",
     "data": {
      "text/html": [
       "<style scoped>\n",
       "  .table-result-container {\n",
       "    max-height: 300px;\n",
       "    overflow: auto;\n",
       "  }\n",
       "  table, th, td {\n",
       "    border: 1px solid black;\n",
       "    border-collapse: collapse;\n",
       "  }\n",
       "  th, td {\n",
       "    padding: 5px;\n",
       "  }\n",
       "  th {\n",
       "    text-align: left;\n",
       "  }\n",
       "</style><div class='table-result-container'><table class='table-result'><thead style='background-color: white'><tr><th>unix_time</th><th>intToString</th></tr></thead><tbody><tr><td>1428476400</td><td>2015-04-08 00:00:00</td></tr><tr><td>1528598500</td><td>2018-06-09 19:41:40</td></tr></tbody></table></div>"
      ]
     },
     "metadata": {
      "application/vnd.databricks.v1+output": {
       "addedWidgets": {},
       "aggData": [],
       "aggError": "",
       "aggOverflow": false,
       "aggSchema": [],
       "aggSeriesLimitReached": false,
       "aggType": "",
       "arguments": {},
       "columnCustomDisplayInfos": {},
       "data": [
        [
         1428476400,
         "2015-04-08 00:00:00"
        ],
        [
         1528598500,
         "2018-06-09 19:41:40"
        ]
       ],
       "datasetInfos": [],
       "dbfsResultPath": null,
       "isJsonSchema": true,
       "metadata": {},
       "overflow": false,
       "plotOptions": {
        "customPlotOptions": {},
        "displayType": "table",
        "pivotAggregation": null,
        "pivotColumns": null,
        "xColumns": null,
        "yColumns": null
       },
       "removedWidgets": [],
       "schema": [
        {
         "metadata": "{}",
         "name": "unix_time",
         "type": "\"long\""
        },
        {
         "metadata": "{}",
         "name": "intToString",
         "type": "\"string\""
        }
       ],
       "type": "table"
      }
     },
     "output_type": "display_data"
    }
   ],
   "source": [
    "from pyspark.sql import functions as F\n",
    "df = spark.createDataFrame([(1428476400,), (1528598500,)], ['unix_time'])\n",
    "df.select('*', F.from_unixtime('unix_time').alias(\"intToString\")).display()"
   ]
  },
  {
   "cell_type": "code",
   "execution_count": 0,
   "metadata": {
    "application/vnd.databricks.v1+cell": {
     "cellMetadata": {
      "byteLimit": 2048000,
      "rowLimit": 10000
     },
     "inputWidgets": {},
     "nuid": "a4ea85a8-a8a4-4875-8808-dcf059e34813",
     "showTitle": false,
     "tableResultSettingsMap": {},
     "title": ""
    }
   },
   "outputs": [],
   "source": [
    "spark.conf.unset(\"spark.sql.session.timeZone\")"
   ]
  },
  {
   "cell_type": "code",
   "execution_count": 0,
   "metadata": {
    "application/vnd.databricks.v1+cell": {
     "cellMetadata": {
      "byteLimit": 2048000,
      "rowLimit": 10000
     },
     "inputWidgets": {},
     "nuid": "b035732f-7b47-414d-8ec6-11b77b0c0fa5",
     "showTitle": true,
     "tableResultSettingsMap": {},
     "title": "timeZone: America/New_York"
    }
   },
   "outputs": [],
   "source": [
    "spark.conf.set(\"spark.sql.session.timeZone\", \"America/New_York\")"
   ]
  },
  {
   "cell_type": "code",
   "execution_count": 0,
   "metadata": {
    "application/vnd.databricks.v1+cell": {
     "cellMetadata": {
      "byteLimit": 2048000,
      "rowLimit": 10000
     },
     "inputWidgets": {},
     "nuid": "cd202e83-6d3f-42fa-8883-538edfaee9d0",
     "showTitle": false,
     "tableResultSettingsMap": {},
     "title": ""
    }
   },
   "outputs": [
    {
     "output_type": "display_data",
     "data": {
      "text/html": [
       "<style scoped>\n",
       "  .table-result-container {\n",
       "    max-height: 300px;\n",
       "    overflow: auto;\n",
       "  }\n",
       "  table, th, td {\n",
       "    border: 1px solid black;\n",
       "    border-collapse: collapse;\n",
       "  }\n",
       "  th, td {\n",
       "    padding: 5px;\n",
       "  }\n",
       "  th {\n",
       "    text-align: left;\n",
       "  }\n",
       "</style><div class='table-result-container'><table class='table-result'><thead style='background-color: white'><tr><th>unix_time</th><th>intToString</th></tr></thead><tbody><tr><td>1428476400</td><td>2015-04-08 03:00:00</td></tr><tr><td>1528598500</td><td>2018-06-09 22:41:40</td></tr></tbody></table></div>"
      ]
     },
     "metadata": {
      "application/vnd.databricks.v1+output": {
       "addedWidgets": {},
       "aggData": [],
       "aggError": "",
       "aggOverflow": false,
       "aggSchema": [],
       "aggSeriesLimitReached": false,
       "aggType": "",
       "arguments": {},
       "columnCustomDisplayInfos": {},
       "data": [
        [
         1428476400,
         "2015-04-08 03:00:00"
        ],
        [
         1528598500,
         "2018-06-09 22:41:40"
        ]
       ],
       "datasetInfos": [],
       "dbfsResultPath": null,
       "isJsonSchema": true,
       "metadata": {},
       "overflow": false,
       "plotOptions": {
        "customPlotOptions": {},
        "displayType": "table",
        "pivotAggregation": null,
        "pivotColumns": null,
        "xColumns": null,
        "yColumns": null
       },
       "removedWidgets": [],
       "schema": [
        {
         "metadata": "{}",
         "name": "unix_time",
         "type": "\"long\""
        },
        {
         "metadata": "{}",
         "name": "intToString",
         "type": "\"string\""
        }
       ],
       "type": "table"
      }
     },
     "output_type": "display_data"
    }
   ],
   "source": [
    "from pyspark.sql import functions as F\n",
    "df = spark.createDataFrame([(1428476400,), (1528598500,)], ['unix_time'])\n",
    "df.select('*', F.from_unixtime('unix_time').alias(\"intToString\")).display()"
   ]
  },
  {
   "cell_type": "code",
   "execution_count": 0,
   "metadata": {
    "application/vnd.databricks.v1+cell": {
     "cellMetadata": {
      "byteLimit": 2048000,
      "rowLimit": 10000
     },
     "inputWidgets": {},
     "nuid": "fb0a6e5b-dbb9-4e75-993d-a14dc811f3b4",
     "showTitle": false,
     "tableResultSettingsMap": {},
     "title": ""
    }
   },
   "outputs": [],
   "source": [
    "spark.conf.unset(\"spark.sql.session.timeZone\")"
   ]
  },
  {
   "cell_type": "markdown",
   "metadata": {
    "application/vnd.databricks.v1+cell": {
     "cellMetadata": {
      "byteLimit": 2048000,
      "rowLimit": 10000
     },
     "inputWidgets": {},
     "nuid": "833a95da-6f35-4199-b505-c625a5082935",
     "showTitle": false,
     "tableResultSettingsMap": {},
     "title": ""
    }
   },
   "source": [
    "##### 4) Basic usage and custom format"
   ]
  },
  {
   "cell_type": "code",
   "execution_count": 0,
   "metadata": {
    "application/vnd.databricks.v1+cell": {
     "cellMetadata": {
      "byteLimit": 2048000,
      "rowLimit": 10000
     },
     "inputWidgets": {},
     "nuid": "6e8cb069-e358-4c96-94f1-b973db869caa",
     "showTitle": false,
     "tableResultSettingsMap": {},
     "title": ""
    }
   },
   "outputs": [
    {
     "output_type": "display_data",
     "data": {
      "text/html": [
       "<style scoped>\n",
       "  .table-result-container {\n",
       "    max-height: 300px;\n",
       "    overflow: auto;\n",
       "  }\n",
       "  table, th, td {\n",
       "    border: 1px solid black;\n",
       "    border-collapse: collapse;\n",
       "  }\n",
       "  th, td {\n",
       "    padding: 5px;\n",
       "  }\n",
       "  th {\n",
       "    text-align: left;\n",
       "  }\n",
       "</style><div class='table-result-container'><table class='table-result'><thead style='background-color: white'><tr><th>Commodity_Index</th><th>Effective_Date</th><th>Start_Date</th><th>End_Date</th><th>Income</th><th>Delta_Value</th><th>Target_Id</th><th>Input_Timestamp_UTC</th><th>Update_Timestamp_UTC</th></tr></thead><tbody><tr><td>DISCOUNT</td><td>6-Feb-23</td><td>14-Jan-23</td><td>6-Feb-23</td><td>1500</td><td>10</td><td>1068</td><td>1709109264</td><td>1709109264</td></tr><tr><td>DISCOUNT</td><td>6-Feb-23</td><td>14-Jan-23</td><td>6-Feb-23</td><td>1500</td><td>10</td><td>1071</td><td>1710234895</td><td>1710234895</td></tr><tr><td>DISCOUNT</td><td>8-Jan-24</td><td>7-Oct-23</td><td>8-Jan-24</td><td>1500</td><td>10</td><td>1068</td><td>1709109264</td><td>1709109264</td></tr><tr><td>DISCOUNT</td><td>8-Jan-24</td><td>7-Oct-23</td><td>8-Jan-24</td><td>1500</td><td>10</td><td>1071</td><td>1707813327</td><td>1707813327</td></tr><tr><td>DISCOUNT</td><td>6-Mar-23</td><td>7-Feb-23</td><td>6-Mar-23</td><td>1500</td><td>10</td><td>1068</td><td>1707813327</td><td>1707813327</td></tr><tr><td>DISCOUNT</td><td>6-Mar-23</td><td>7-Feb-23</td><td>6-Mar-23</td><td>1500</td><td>10</td><td>1071</td><td>1707813327</td><td>1707813327</td></tr><tr><td>DISCOUNT</td><td>6-Jan-25</td><td>9-Jan-24</td><td>6-Jan-25</td><td>1500</td><td>10</td><td>1068</td><td>1707813327</td><td>1707813327</td></tr><tr><td>DISCOUNT</td><td>6-Jan-25</td><td>9-Jan-24</td><td>6-Jan-25</td><td>1500</td><td>10</td><td>1071</td><td>1707813327</td><td>1707813327</td></tr><tr><td>DISCOUNT</td><td>6-Apr-23</td><td>7-Mar-23</td><td>6-Apr-23</td><td>1500</td><td>10</td><td>1068</td><td>1707813327</td><td>1707813327</td></tr><tr><td>DISCOUNT</td><td>6-Apr-23</td><td>7-Mar-23</td><td>6-Apr-23</td><td>1500</td><td>10</td><td>1071</td><td>1707813327</td><td>1707813327</td></tr></tbody></table></div>"
      ]
     },
     "metadata": {
      "application/vnd.databricks.v1+output": {
       "addedWidgets": {},
       "aggData": [],
       "aggError": "",
       "aggOverflow": false,
       "aggSchema": [],
       "aggSeriesLimitReached": false,
       "aggType": "",
       "arguments": {},
       "columnCustomDisplayInfos": {},
       "data": [
        [
         "DISCOUNT",
         "6-Feb-23",
         "14-Jan-23",
         "6-Feb-23",
         1500,
         10,
         1068,
         1709109264,
         1709109264
        ],
        [
         "DISCOUNT",
         "6-Feb-23",
         "14-Jan-23",
         "6-Feb-23",
         1500,
         10,
         1071,
         1710234895,
         1710234895
        ],
        [
         "DISCOUNT",
         "8-Jan-24",
         "7-Oct-23",
         "8-Jan-24",
         1500,
         10,
         1068,
         1709109264,
         1709109264
        ],
        [
         "DISCOUNT",
         "8-Jan-24",
         "7-Oct-23",
         "8-Jan-24",
         1500,
         10,
         1071,
         1707813327,
         1707813327
        ],
        [
         "DISCOUNT",
         "6-Mar-23",
         "7-Feb-23",
         "6-Mar-23",
         1500,
         10,
         1068,
         1707813327,
         1707813327
        ],
        [
         "DISCOUNT",
         "6-Mar-23",
         "7-Feb-23",
         "6-Mar-23",
         1500,
         10,
         1071,
         1707813327,
         1707813327
        ],
        [
         "DISCOUNT",
         "6-Jan-25",
         "9-Jan-24",
         "6-Jan-25",
         1500,
         10,
         1068,
         1707813327,
         1707813327
        ],
        [
         "DISCOUNT",
         "6-Jan-25",
         "9-Jan-24",
         "6-Jan-25",
         1500,
         10,
         1071,
         1707813327,
         1707813327
        ],
        [
         "DISCOUNT",
         "6-Apr-23",
         "7-Mar-23",
         "6-Apr-23",
         1500,
         10,
         1068,
         1707813327,
         1707813327
        ],
        [
         "DISCOUNT",
         "6-Apr-23",
         "7-Mar-23",
         "6-Apr-23",
         1500,
         10,
         1071,
         1707813327,
         1707813327
        ]
       ],
       "datasetInfos": [],
       "dbfsResultPath": null,
       "isJsonSchema": true,
       "metadata": {},
       "overflow": false,
       "plotOptions": {
        "customPlotOptions": {},
        "displayType": "table",
        "pivotAggregation": null,
        "pivotColumns": null,
        "xColumns": null,
        "yColumns": null
       },
       "removedWidgets": [],
       "schema": [
        {
         "metadata": "{}",
         "name": "Commodity_Index",
         "type": "\"string\""
        },
        {
         "metadata": "{}",
         "name": "Effective_Date",
         "type": "\"string\""
        },
        {
         "metadata": "{}",
         "name": "Start_Date",
         "type": "\"string\""
        },
        {
         "metadata": "{}",
         "name": "End_Date",
         "type": "\"string\""
        },
        {
         "metadata": "{}",
         "name": "Income",
         "type": "\"integer\""
        },
        {
         "metadata": "{}",
         "name": "Delta_Value",
         "type": "\"integer\""
        },
        {
         "metadata": "{}",
         "name": "Target_Id",
         "type": "\"integer\""
        },
        {
         "metadata": "{}",
         "name": "Input_Timestamp_UTC",
         "type": "\"integer\""
        },
        {
         "metadata": "{}",
         "name": "Update_Timestamp_UTC",
         "type": "\"integer\""
        }
       ],
       "type": "table"
      }
     },
     "output_type": "display_data"
    }
   ],
   "source": [
    "df = spark.read.csv(\"/Volumes/workspace/default/@azureadb/from_unixtime.csv\", header=True, inferSchema=True)\n",
    "display(df.limit(10))"
   ]
  },
  {
   "cell_type": "code",
   "execution_count": 0,
   "metadata": {
    "application/vnd.databricks.v1+cell": {
     "cellMetadata": {
      "byteLimit": 2048000,
      "rowLimit": 10000
     },
     "inputWidgets": {},
     "nuid": "46a90d11-050b-42c0-84c2-66c286262a7b",
     "showTitle": false,
     "tableResultSettingsMap": {},
     "title": ""
    }
   },
   "outputs": [
    {
     "output_type": "display_data",
     "data": {
      "text/html": [
       "<style scoped>\n",
       "  .table-result-container {\n",
       "    max-height: 300px;\n",
       "    overflow: auto;\n",
       "  }\n",
       "  table, th, td {\n",
       "    border: 1px solid black;\n",
       "    border-collapse: collapse;\n",
       "  }\n",
       "  th, td {\n",
       "    padding: 5px;\n",
       "  }\n",
       "  th {\n",
       "    text-align: left;\n",
       "  }\n",
       "</style><div class='table-result-container'><table class='table-result'><thead style='background-color: white'><tr><th>Commodity_Index</th><th>Effective_Date</th><th>Start_Date</th><th>End_Date</th><th>Income</th><th>Delta_Value</th><th>Target_Id</th><th>Input_Timestamp_UTC</th><th>Update_Timestamp_UTC</th></tr></thead><tbody><tr><td>DISCOUNT</td><td>6-Feb-23</td><td>14-Jan-23</td><td>6-Feb-23</td><td>1500</td><td>10</td><td>1068</td><td>1709109264</td><td>1709109264</td></tr><tr><td>DISCOUNT</td><td>6-Feb-23</td><td>14-Jan-23</td><td>6-Feb-23</td><td>1500</td><td>10</td><td>1071</td><td>1710234895</td><td>1710234895</td></tr><tr><td>DISCOUNT</td><td>8-Jan-24</td><td>7-Oct-23</td><td>8-Jan-24</td><td>1500</td><td>10</td><td>1068</td><td>1709109264</td><td>1709109264</td></tr><tr><td>DISCOUNT</td><td>8-Jan-24</td><td>7-Oct-23</td><td>8-Jan-24</td><td>1500</td><td>10</td><td>1071</td><td>1707813327</td><td>1707813327</td></tr><tr><td>DISCOUNT</td><td>6-Mar-23</td><td>7-Feb-23</td><td>6-Mar-23</td><td>1500</td><td>10</td><td>1068</td><td>1707813327</td><td>1707813327</td></tr><tr><td>DISCOUNT</td><td>6-Mar-23</td><td>7-Feb-23</td><td>6-Mar-23</td><td>1500</td><td>10</td><td>1071</td><td>1707813327</td><td>1707813327</td></tr><tr><td>DISCOUNT</td><td>6-Jan-25</td><td>9-Jan-24</td><td>6-Jan-25</td><td>1500</td><td>10</td><td>1068</td><td>1707813327</td><td>1707813327</td></tr><tr><td>DISCOUNT</td><td>6-Jan-25</td><td>9-Jan-24</td><td>6-Jan-25</td><td>1500</td><td>10</td><td>1071</td><td>1707813327</td><td>1707813327</td></tr><tr><td>DISCOUNT</td><td>6-Apr-23</td><td>7-Mar-23</td><td>6-Apr-23</td><td>1500</td><td>10</td><td>1068</td><td>1707813327</td><td>1707813327</td></tr><tr><td>DISCOUNT</td><td>6-Apr-23</td><td>7-Mar-23</td><td>6-Apr-23</td><td>1500</td><td>10</td><td>1071</td><td>1707813327</td><td>1707813327</td></tr></tbody></table></div>"
      ]
     },
     "metadata": {
      "application/vnd.databricks.v1+output": {
       "addedWidgets": {},
       "aggData": [],
       "aggError": "",
       "aggOverflow": false,
       "aggSchema": [],
       "aggSeriesLimitReached": false,
       "aggType": "",
       "arguments": {},
       "columnCustomDisplayInfos": {},
       "data": [
        [
         "DISCOUNT",
         "6-Feb-23",
         "14-Jan-23",
         "6-Feb-23",
         1500,
         10,
         1068,
         1709109264,
         1709109264
        ],
        [
         "DISCOUNT",
         "6-Feb-23",
         "14-Jan-23",
         "6-Feb-23",
         1500,
         10,
         1071,
         1710234895,
         1710234895
        ],
        [
         "DISCOUNT",
         "8-Jan-24",
         "7-Oct-23",
         "8-Jan-24",
         1500,
         10,
         1068,
         1709109264,
         1709109264
        ],
        [
         "DISCOUNT",
         "8-Jan-24",
         "7-Oct-23",
         "8-Jan-24",
         1500,
         10,
         1071,
         1707813327,
         1707813327
        ],
        [
         "DISCOUNT",
         "6-Mar-23",
         "7-Feb-23",
         "6-Mar-23",
         1500,
         10,
         1068,
         1707813327,
         1707813327
        ],
        [
         "DISCOUNT",
         "6-Mar-23",
         "7-Feb-23",
         "6-Mar-23",
         1500,
         10,
         1071,
         1707813327,
         1707813327
        ],
        [
         "DISCOUNT",
         "6-Jan-25",
         "9-Jan-24",
         "6-Jan-25",
         1500,
         10,
         1068,
         1707813327,
         1707813327
        ],
        [
         "DISCOUNT",
         "6-Jan-25",
         "9-Jan-24",
         "6-Jan-25",
         1500,
         10,
         1071,
         1707813327,
         1707813327
        ],
        [
         "DISCOUNT",
         "6-Apr-23",
         "7-Mar-23",
         "6-Apr-23",
         1500,
         10,
         1068,
         1707813327,
         1707813327
        ],
        [
         "DISCOUNT",
         "6-Apr-23",
         "7-Mar-23",
         "6-Apr-23",
         1500,
         10,
         1071,
         1707813327,
         1707813327
        ]
       ],
       "datasetInfos": [],
       "dbfsResultPath": null,
       "isJsonSchema": true,
       "metadata": {},
       "overflow": false,
       "plotOptions": {
        "customPlotOptions": {},
        "displayType": "table",
        "pivotAggregation": null,
        "pivotColumns": null,
        "xColumns": null,
        "yColumns": null
       },
       "removedWidgets": [],
       "schema": [
        {
         "metadata": "{}",
         "name": "Commodity_Index",
         "type": "\"string\""
        },
        {
         "metadata": "{}",
         "name": "Effective_Date",
         "type": "\"string\""
        },
        {
         "metadata": "{}",
         "name": "Start_Date",
         "type": "\"string\""
        },
        {
         "metadata": "{}",
         "name": "End_Date",
         "type": "\"string\""
        },
        {
         "metadata": "{}",
         "name": "Income",
         "type": "\"integer\""
        },
        {
         "metadata": "{}",
         "name": "Delta_Value",
         "type": "\"integer\""
        },
        {
         "metadata": "{}",
         "name": "Target_Id",
         "type": "\"integer\""
        },
        {
         "metadata": "{}",
         "name": "Input_Timestamp_UTC",
         "type": "\"long\""
        },
        {
         "metadata": "{}",
         "name": "Update_Timestamp_UTC",
         "type": "\"long\""
        }
       ],
       "type": "table"
      }
     },
     "output_type": "display_data"
    }
   ],
   "source": [
    "# format columns according to datatypes of Kafka Schema\n",
    "df_cast = df.withColumn('Input_Timestamp_UTC', f.col('Input_Timestamp_UTC').cast(LongType()))\\\n",
    "            .withColumn('Update_Timestamp_UTC', f.col('Update_Timestamp_UTC').cast(LongType()))\n",
    "\n",
    "display(df_cast.limit(10))"
   ]
  },
  {
   "cell_type": "markdown",
   "metadata": {
    "application/vnd.databricks.v1+cell": {
     "cellMetadata": {
      "byteLimit": 2048000,
      "rowLimit": 10000
     },
     "inputWidgets": {},
     "nuid": "a298484c-d4fd-4353-8494-e9726a61b120",
     "showTitle": false,
     "tableResultSettingsMap": {},
     "title": ""
    }
   },
   "source": [
    "#### from_unixtime:\n",
    "\n",
    "     from_unixtime(col(\"Input_Timestamp_UTC\"))\n",
    "     from_unixtime(col(\"Update_Timestamp_UTC\"))\n",
    "\n",
    "**default:** yyyy-MM-dd HH:mm:ss\n"
   ]
  },
  {
   "cell_type": "code",
   "execution_count": 0,
   "metadata": {
    "application/vnd.databricks.v1+cell": {
     "cellMetadata": {
      "byteLimit": 2048000,
      "rowLimit": 10000
     },
     "inputWidgets": {},
     "nuid": "83f7083c-dcda-48ae-92b2-1a2107ab6a80",
     "showTitle": true,
     "tableResultSettingsMap": {},
     "title": "default and customize format"
    }
   },
   "outputs": [
    {
     "output_type": "display_data",
     "data": {
      "text/html": [
       "<style scoped>\n",
       "  .table-result-container {\n",
       "    max-height: 300px;\n",
       "    overflow: auto;\n",
       "  }\n",
       "  table, th, td {\n",
       "    border: 1px solid black;\n",
       "    border-collapse: collapse;\n",
       "  }\n",
       "  th, td {\n",
       "    padding: 5px;\n",
       "  }\n",
       "  th {\n",
       "    text-align: left;\n",
       "  }\n",
       "</style><div class='table-result-container'><table class='table-result'><thead style='background-color: white'><tr><th>Input_Timestamp_UTC</th><th>Update_Timestamp_UTC</th><th>default_str_input_timestamp_utc</th><th>default_str_last_update_timestamp_utc</th><th>custom_input_timestamp_utc</th><th>custom_last_update_timestamp_utc</th><th>default_ts_input_timestamp_utc</th><th>default_ts_update_timestamp_utc</th></tr></thead><tbody><tr><td>1709109264</td><td>1709109264</td><td>2024-02-28 08:34:24</td><td>2024-02-28 08:34:24</td><td>02-28-2024 08:34:24</td><td>02-28-2024</td><td>2024-02-28T08:34:24.000Z</td><td>2024-02-28T08:34:24.000Z</td></tr><tr><td>1710234895</td><td>1710234895</td><td>2024-03-12 09:14:55</td><td>2024-03-12 09:14:55</td><td>03-12-2024 09:14:55</td><td>03-12-2024</td><td>2024-03-12T09:14:55.000Z</td><td>2024-03-12T09:14:55.000Z</td></tr><tr><td>1709109264</td><td>1709109264</td><td>2024-02-28 08:34:24</td><td>2024-02-28 08:34:24</td><td>02-28-2024 08:34:24</td><td>02-28-2024</td><td>2024-02-28T08:34:24.000Z</td><td>2024-02-28T08:34:24.000Z</td></tr><tr><td>1707813327</td><td>1707813327</td><td>2024-02-13 08:35:27</td><td>2024-02-13 08:35:27</td><td>02-13-2024 08:35:27</td><td>02-13-2024</td><td>2024-02-13T08:35:27.000Z</td><td>2024-02-13T08:35:27.000Z</td></tr><tr><td>1707813327</td><td>1707813327</td><td>2024-02-13 08:35:27</td><td>2024-02-13 08:35:27</td><td>02-13-2024 08:35:27</td><td>02-13-2024</td><td>2024-02-13T08:35:27.000Z</td><td>2024-02-13T08:35:27.000Z</td></tr><tr><td>1707813327</td><td>1707813327</td><td>2024-02-13 08:35:27</td><td>2024-02-13 08:35:27</td><td>02-13-2024 08:35:27</td><td>02-13-2024</td><td>2024-02-13T08:35:27.000Z</td><td>2024-02-13T08:35:27.000Z</td></tr><tr><td>1707813327</td><td>1707813327</td><td>2024-02-13 08:35:27</td><td>2024-02-13 08:35:27</td><td>02-13-2024 08:35:27</td><td>02-13-2024</td><td>2024-02-13T08:35:27.000Z</td><td>2024-02-13T08:35:27.000Z</td></tr><tr><td>1707813327</td><td>1707813327</td><td>2024-02-13 08:35:27</td><td>2024-02-13 08:35:27</td><td>02-13-2024 08:35:27</td><td>02-13-2024</td><td>2024-02-13T08:35:27.000Z</td><td>2024-02-13T08:35:27.000Z</td></tr><tr><td>1707813327</td><td>1707813327</td><td>2024-02-13 08:35:27</td><td>2024-02-13 08:35:27</td><td>02-13-2024 08:35:27</td><td>02-13-2024</td><td>2024-02-13T08:35:27.000Z</td><td>2024-02-13T08:35:27.000Z</td></tr><tr><td>1707813327</td><td>1707813327</td><td>2024-02-13 08:35:27</td><td>2024-02-13 08:35:27</td><td>02-13-2024 08:35:27</td><td>02-13-2024</td><td>2024-02-13T08:35:27.000Z</td><td>2024-02-13T08:35:27.000Z</td></tr></tbody></table></div>"
      ]
     },
     "metadata": {
      "application/vnd.databricks.v1+output": {
       "addedWidgets": {},
       "aggData": [],
       "aggError": "",
       "aggOverflow": false,
       "aggSchema": [],
       "aggSeriesLimitReached": false,
       "aggType": "",
       "arguments": {},
       "columnCustomDisplayInfos": {},
       "data": [
        [
         1709109264,
         1709109264,
         "2024-02-28 08:34:24",
         "2024-02-28 08:34:24",
         "02-28-2024 08:34:24",
         "02-28-2024",
         "2024-02-28T08:34:24.000Z",
         "2024-02-28T08:34:24.000Z"
        ],
        [
         1710234895,
         1710234895,
         "2024-03-12 09:14:55",
         "2024-03-12 09:14:55",
         "03-12-2024 09:14:55",
         "03-12-2024",
         "2024-03-12T09:14:55.000Z",
         "2024-03-12T09:14:55.000Z"
        ],
        [
         1709109264,
         1709109264,
         "2024-02-28 08:34:24",
         "2024-02-28 08:34:24",
         "02-28-2024 08:34:24",
         "02-28-2024",
         "2024-02-28T08:34:24.000Z",
         "2024-02-28T08:34:24.000Z"
        ],
        [
         1707813327,
         1707813327,
         "2024-02-13 08:35:27",
         "2024-02-13 08:35:27",
         "02-13-2024 08:35:27",
         "02-13-2024",
         "2024-02-13T08:35:27.000Z",
         "2024-02-13T08:35:27.000Z"
        ],
        [
         1707813327,
         1707813327,
         "2024-02-13 08:35:27",
         "2024-02-13 08:35:27",
         "02-13-2024 08:35:27",
         "02-13-2024",
         "2024-02-13T08:35:27.000Z",
         "2024-02-13T08:35:27.000Z"
        ],
        [
         1707813327,
         1707813327,
         "2024-02-13 08:35:27",
         "2024-02-13 08:35:27",
         "02-13-2024 08:35:27",
         "02-13-2024",
         "2024-02-13T08:35:27.000Z",
         "2024-02-13T08:35:27.000Z"
        ],
        [
         1707813327,
         1707813327,
         "2024-02-13 08:35:27",
         "2024-02-13 08:35:27",
         "02-13-2024 08:35:27",
         "02-13-2024",
         "2024-02-13T08:35:27.000Z",
         "2024-02-13T08:35:27.000Z"
        ],
        [
         1707813327,
         1707813327,
         "2024-02-13 08:35:27",
         "2024-02-13 08:35:27",
         "02-13-2024 08:35:27",
         "02-13-2024",
         "2024-02-13T08:35:27.000Z",
         "2024-02-13T08:35:27.000Z"
        ],
        [
         1707813327,
         1707813327,
         "2024-02-13 08:35:27",
         "2024-02-13 08:35:27",
         "02-13-2024 08:35:27",
         "02-13-2024",
         "2024-02-13T08:35:27.000Z",
         "2024-02-13T08:35:27.000Z"
        ],
        [
         1707813327,
         1707813327,
         "2024-02-13 08:35:27",
         "2024-02-13 08:35:27",
         "02-13-2024 08:35:27",
         "02-13-2024",
         "2024-02-13T08:35:27.000Z",
         "2024-02-13T08:35:27.000Z"
        ]
       ],
       "datasetInfos": [],
       "dbfsResultPath": null,
       "isJsonSchema": true,
       "metadata": {},
       "overflow": false,
       "plotOptions": {
        "customPlotOptions": {},
        "displayType": "table",
        "pivotAggregation": null,
        "pivotColumns": null,
        "xColumns": null,
        "yColumns": null
       },
       "removedWidgets": [],
       "schema": [
        {
         "metadata": "{}",
         "name": "Input_Timestamp_UTC",
         "type": "\"long\""
        },
        {
         "metadata": "{}",
         "name": "Update_Timestamp_UTC",
         "type": "\"long\""
        },
        {
         "metadata": "{}",
         "name": "default_str_input_timestamp_utc",
         "type": "\"string\""
        },
        {
         "metadata": "{}",
         "name": "default_str_last_update_timestamp_utc",
         "type": "\"string\""
        },
        {
         "metadata": "{}",
         "name": "custom_input_timestamp_utc",
         "type": "\"string\""
        },
        {
         "metadata": "{}",
         "name": "custom_last_update_timestamp_utc",
         "type": "\"string\""
        },
        {
         "metadata": "{}",
         "name": "default_ts_input_timestamp_utc",
         "type": "\"timestamp\""
        },
        {
         "metadata": "{}",
         "name": "default_ts_update_timestamp_utc",
         "type": "\"timestamp\""
        }
       ],
       "type": "table"
      }
     },
     "output_type": "display_data"
    }
   ],
   "source": [
    "df_cust = df_cast.select(\"Input_Timestamp_UTC\", \"Update_Timestamp_UTC\", \n",
    "                         from_unixtime(col(\"Input_Timestamp_UTC\")).alias('default_str_input_timestamp_utc'),\n",
    "                         from_unixtime(col(\"Update_Timestamp_UTC\")).alias('default_str_last_update_timestamp_utc'),\n",
    "                         from_unixtime(col(\"Input_Timestamp_UTC\"), 'MM-dd-yyyy HH:mm:ss').alias('custom_input_timestamp_utc'),\n",
    "                         from_unixtime(col(\"Update_Timestamp_UTC\"), 'MM-dd-yyyy').alias('custom_last_update_timestamp_utc'),\n",
    "                         from_unixtime(col(\"Input_Timestamp_UTC\")).cast(\"timestamp\").alias('default_ts_input_timestamp_utc'),\n",
    "                         from_unixtime(col(\"Update_Timestamp_UTC\")).cast(\"timestamp\").alias('default_ts_update_timestamp_utc')\n",
    "                        )\n",
    "display(df_cust.limit(10))"
   ]
  },
  {
   "cell_type": "markdown",
   "metadata": {
    "application/vnd.databricks.v1+cell": {
     "cellMetadata": {
      "byteLimit": 2048000,
      "rowLimit": 10000
     },
     "inputWidgets": {},
     "nuid": "b5c061b5-ccd5-4d3d-81b1-84ee4c7c016a",
     "showTitle": false,
     "tableResultSettingsMap": {},
     "title": ""
    }
   },
   "source": [
    "#### to_timestamp\n",
    "\n",
    "- Convert **String** to **Timestamp** type.\n",
    "- **yyyy-MM-dd HH:mm:ss.SSS** is the **standard timestamp format**.\n",
    "\n",
    "**Syntax**\n",
    "\n",
    "       to_timestamp(column_name, pattern)"
   ]
  },
  {
   "cell_type": "code",
   "execution_count": 0,
   "metadata": {
    "application/vnd.databricks.v1+cell": {
     "cellMetadata": {
      "byteLimit": 2048000,
      "rowLimit": 10000
     },
     "inputWidgets": {},
     "nuid": "d254faa6-e276-4a9c-8992-5a5b382f393b",
     "showTitle": true,
     "tableResultSettingsMap": {},
     "title": "to_timestamp"
    }
   },
   "outputs": [
    {
     "output_type": "display_data",
     "data": {
      "text/html": [
       "<style scoped>\n",
       "  .table-result-container {\n",
       "    max-height: 300px;\n",
       "    overflow: auto;\n",
       "  }\n",
       "  table, th, td {\n",
       "    border: 1px solid black;\n",
       "    border-collapse: collapse;\n",
       "  }\n",
       "  th, td {\n",
       "    padding: 5px;\n",
       "  }\n",
       "  th {\n",
       "    text-align: left;\n",
       "  }\n",
       "</style><div class='table-result-container'><table class='table-result'><thead style='background-color: white'><tr><th>created_timestamp</th><th>created_by</th><th>default_str_input_timestamp_utc</th><th>default_input_timestamp_utc</th></tr></thead><tbody><tr><td>2025-08-12T02:33:22.948Z</td><td>enugantisuresh12@gmail.com</td><td>2024-02-28 08:34:24</td><td>2024-02-28T08:34:24.000Z</td></tr><tr><td>2025-08-12T02:33:22.948Z</td><td>enugantisuresh12@gmail.com</td><td>2024-03-12 09:14:55</td><td>2024-03-12T09:14:55.000Z</td></tr><tr><td>2025-08-12T02:33:22.948Z</td><td>enugantisuresh12@gmail.com</td><td>2024-02-28 08:34:24</td><td>2024-02-28T08:34:24.000Z</td></tr><tr><td>2025-08-12T02:33:22.948Z</td><td>enugantisuresh12@gmail.com</td><td>2024-02-13 08:35:27</td><td>2024-02-13T08:35:27.000Z</td></tr><tr><td>2025-08-12T02:33:22.948Z</td><td>enugantisuresh12@gmail.com</td><td>2024-02-13 08:35:27</td><td>2024-02-13T08:35:27.000Z</td></tr><tr><td>2025-08-12T02:33:22.948Z</td><td>enugantisuresh12@gmail.com</td><td>2024-02-13 08:35:27</td><td>2024-02-13T08:35:27.000Z</td></tr><tr><td>2025-08-12T02:33:22.948Z</td><td>enugantisuresh12@gmail.com</td><td>2024-02-13 08:35:27</td><td>2024-02-13T08:35:27.000Z</td></tr><tr><td>2025-08-12T02:33:22.948Z</td><td>enugantisuresh12@gmail.com</td><td>2024-02-13 08:35:27</td><td>2024-02-13T08:35:27.000Z</td></tr><tr><td>2025-08-12T02:33:22.948Z</td><td>enugantisuresh12@gmail.com</td><td>2024-02-13 08:35:27</td><td>2024-02-13T08:35:27.000Z</td></tr><tr><td>2025-08-12T02:33:22.948Z</td><td>enugantisuresh12@gmail.com</td><td>2024-02-13 08:35:27</td><td>2024-02-13T08:35:27.000Z</td></tr></tbody></table></div>"
      ]
     },
     "metadata": {
      "application/vnd.databricks.v1+output": {
       "addedWidgets": {},
       "aggData": [],
       "aggError": "",
       "aggOverflow": false,
       "aggSchema": [],
       "aggSeriesLimitReached": false,
       "aggType": "",
       "arguments": {},
       "columnCustomDisplayInfos": {},
       "data": [
        [
         "2025-08-12T02:33:22.948Z",
         "enugantisuresh12@gmail.com",
         "2024-02-28 08:34:24",
         "2024-02-28T08:34:24.000Z"
        ],
        [
         "2025-08-12T02:33:22.948Z",
         "enugantisuresh12@gmail.com",
         "2024-03-12 09:14:55",
         "2024-03-12T09:14:55.000Z"
        ],
        [
         "2025-08-12T02:33:22.948Z",
         "enugantisuresh12@gmail.com",
         "2024-02-28 08:34:24",
         "2024-02-28T08:34:24.000Z"
        ],
        [
         "2025-08-12T02:33:22.948Z",
         "enugantisuresh12@gmail.com",
         "2024-02-13 08:35:27",
         "2024-02-13T08:35:27.000Z"
        ],
        [
         "2025-08-12T02:33:22.948Z",
         "enugantisuresh12@gmail.com",
         "2024-02-13 08:35:27",
         "2024-02-13T08:35:27.000Z"
        ],
        [
         "2025-08-12T02:33:22.948Z",
         "enugantisuresh12@gmail.com",
         "2024-02-13 08:35:27",
         "2024-02-13T08:35:27.000Z"
        ],
        [
         "2025-08-12T02:33:22.948Z",
         "enugantisuresh12@gmail.com",
         "2024-02-13 08:35:27",
         "2024-02-13T08:35:27.000Z"
        ],
        [
         "2025-08-12T02:33:22.948Z",
         "enugantisuresh12@gmail.com",
         "2024-02-13 08:35:27",
         "2024-02-13T08:35:27.000Z"
        ],
        [
         "2025-08-12T02:33:22.948Z",
         "enugantisuresh12@gmail.com",
         "2024-02-13 08:35:27",
         "2024-02-13T08:35:27.000Z"
        ],
        [
         "2025-08-12T02:33:22.948Z",
         "enugantisuresh12@gmail.com",
         "2024-02-13 08:35:27",
         "2024-02-13T08:35:27.000Z"
        ]
       ],
       "datasetInfos": [],
       "dbfsResultPath": null,
       "isJsonSchema": true,
       "metadata": {},
       "overflow": false,
       "plotOptions": {
        "customPlotOptions": {},
        "displayType": "table",
        "pivotAggregation": null,
        "pivotColumns": null,
        "xColumns": null,
        "yColumns": null
       },
       "removedWidgets": [],
       "schema": [
        {
         "metadata": "{}",
         "name": "created_timestamp",
         "type": "\"timestamp\""
        },
        {
         "metadata": "{}",
         "name": "created_by",
         "type": "\"string\""
        },
        {
         "metadata": "{}",
         "name": "default_str_input_timestamp_utc",
         "type": "\"string\""
        },
        {
         "metadata": "{}",
         "name": "default_input_timestamp_utc",
         "type": "\"timestamp\""
        }
       ],
       "type": "table"
      }
     },
     "output_type": "display_data"
    }
   ],
   "source": [
    "df_all = df_cast.select(current_timestamp().alias(\"created_timestamp\"),\n",
    "                        expr(\"current_user()\").alias(\"created_by\"),\n",
    "                        from_unixtime(col(\"Input_Timestamp_UTC\")).alias('default_str_input_timestamp_utc'),\n",
    "                        to_timestamp(from_unixtime(col(\"Input_Timestamp_UTC\"))).alias('default_input_timestamp_utc'))\n",
    "display(df_all.limit(10))"
   ]
  },
  {
   "cell_type": "markdown",
   "metadata": {
    "application/vnd.databricks.v1+cell": {
     "cellMetadata": {
      "byteLimit": 2048000,
      "rowLimit": 10000
     },
     "inputWidgets": {},
     "nuid": "da3d7a32-f34a-401a-966c-de859b1525e6",
     "showTitle": false,
     "tableResultSettingsMap": {},
     "title": ""
    }
   },
   "source": [
    "%md\n",
    "- **current_user()** is **not directly** available as a PySpark function.\n",
    "- To resolve this issue, you can use the **SQL expression functionality** provided by PySpark to execute SQL functions that are **not directly** exposed in the **PySpark API**."
   ]
  }
 ],
 "metadata": {
  "application/vnd.databricks.v1+notebook": {
   "computePreferences": {
    "hardware": {
     "accelerator": null,
     "gpuPoolId": null,
     "memory": null
    }
   },
   "dashboards": [],
   "environmentMetadata": null,
   "inputWidgetPreferences": null,
   "language": "python",
   "notebookMetadata": {
    "mostRecentlyExecutedCommandWithImplicitDF": {
     "commandId": 8636321641360420,
     "dataframes": [
      "_sqldf"
     ]
    },
    "pythonIndentUnit": 4
   },
   "notebookName": "12_How to convert Unix Time Seconds to Date and Timestamp using from_unixtime",
   "widgets": {}
  },
  "language_info": {
   "name": "python"
  }
 },
 "nbformat": 4,
 "nbformat_minor": 0
}