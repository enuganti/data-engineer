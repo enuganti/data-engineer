{
 "cells": [
  {
   "cell_type": "markdown",
   "metadata": {
    "application/vnd.databricks.v1+cell": {
     "cellMetadata": {},
     "inputWidgets": {},
     "nuid": "3aeda831-1b15-4c3c-8e9d-88319f2cadcd",
     "showTitle": false,
     "tableResultSettingsMap": {},
     "title": ""
    }
   },
   "source": [
    "##### How to add columns using dictionary?"
   ]
  },
  {
   "cell_type": "code",
   "execution_count": 0,
   "metadata": {
    "application/vnd.databricks.v1+cell": {
     "cellMetadata": {
      "byteLimit": 2048000,
      "rowLimit": 10000
     },
     "inputWidgets": {},
     "nuid": "35477b4b-00c2-47ce-850d-f1e12f75e326",
     "showTitle": false,
     "tableResultSettingsMap": {},
     "title": ""
    }
   },
   "outputs": [],
   "source": [
    "from pyspark.sql import functions as F\n",
    "from pyspark.sql.functions import lit"
   ]
  },
  {
   "cell_type": "code",
   "execution_count": 0,
   "metadata": {
    "application/vnd.databricks.v1+cell": {
     "cellMetadata": {
      "byteLimit": 2048000,
      "rowLimit": 10000
     },
     "inputWidgets": {},
     "nuid": "30e18f54-7294-4389-8ca5-74f5261a2b97",
     "showTitle": false,
     "tableResultSettingsMap": {},
     "title": ""
    }
   },
   "outputs": [
    {
     "output_type": "display_data",
     "data": {
      "text/html": [
       "<style scoped>\n",
       "  .table-result-container {\n",
       "    max-height: 300px;\n",
       "    overflow: auto;\n",
       "  }\n",
       "  table, th, td {\n",
       "    border: 1px solid black;\n",
       "    border-collapse: collapse;\n",
       "  }\n",
       "  th, td {\n",
       "    padding: 5px;\n",
       "  }\n",
       "  th {\n",
       "    text-align: left;\n",
       "  }\n",
       "</style><div class='table-result-container'><table class='table-result'><thead style='background-color: white'><tr><th>start_date</th><th>product_url</th><th>category</th><th>default_group</th><th>cloud_flatform</th><th>session_id</th><th>session_name</th><th>session_type</th><th>sessions</th><th>product_id</th></tr></thead><tbody><tr><td>2025-08-25T00:00:00.000Z</td><td>shop.sony.bpl</td><td>mobile</td><td>wifi-network</td><td>azure / aws / gcc</td><td>9876543</td><td>first_visit</td><td>Not Available</td><td>1</td><td>409516064</td></tr><tr><td>2025-08-25T00:00:00.000Z</td><td>shop.sony.bpl</td><td>mobile</td><td>wifi-network</td><td>azure / aws / gcc</td><td>9876544</td><td>purchase</td><td>Not Available</td><td>1</td><td>409516064</td></tr><tr><td>2025-08-25T00:00:00.000Z</td><td>shop.sony.bpl</td><td>mobile</td><td>wifi-network</td><td>azure / aws / gcc</td><td>9876545</td><td>search</td><td>Not Available</td><td>1</td><td>409516064</td></tr><tr><td>2025-08-25T00:00:00.000Z</td><td>shop.sony.bpl</td><td>mobile</td><td>wifi-network</td><td>azure / aws / gcc</td><td>9876546</td><td>search</td><td>Not Available</td><td>1</td><td>409516064</td></tr><tr><td>2025-08-25T00:00:00.000Z</td><td>shop.sony.bpl</td><td>mobile</td><td>wifi-network</td><td>azure / aws / gcc</td><td>9876547</td><td>search</td><td>Not Available</td><td>1</td><td>409516064</td></tr><tr><td>2025-08-25T00:00:00.000Z</td><td>shop.sony.bpl</td><td>mobile</td><td>wifi-network</td><td>azure / aws / gcc</td><td>9876548</td><td>add_to_cart</td><td>Not Available</td><td>1</td><td>409516064</td></tr><tr><td>2025-08-25T00:00:00.000Z</td><td>shop.sony.bpl</td><td>mobile</td><td>wifi-network</td><td>azure / aws / gcc</td><td>9876549</td><td>add_to_cart</td><td>Not Available</td><td>1</td><td>409516064</td></tr><tr><td>2025-08-25T00:00:00.000Z</td><td>shop.sony.bpl</td><td>mobile</td><td>wifi-network</td><td>azure / aws / gcc</td><td>9876550</td><td>add_to_cart</td><td>Not Available</td><td>1</td><td>409516064</td></tr><tr><td>2025-08-25T00:00:00.000Z</td><td>shop.sony.bpl</td><td>mobile</td><td>wifi-network</td><td>azure / aws / gcc</td><td>9876551</td><td>add_to_cart</td><td>Not Available</td><td>1</td><td>409516064</td></tr><tr><td>2025-08-25T00:00:00.000Z</td><td>shop.sony.bpl</td><td>mobile</td><td>wifi-network</td><td>azure / aws / gcc</td><td>9876552</td><td>add_to_cart</td><td>Not Available</td><td>1</td><td>409516064</td></tr><tr><td>2025-08-25T00:00:00.000Z</td><td>shop.sony.bpl</td><td>mobile</td><td>wifi-network</td><td>azure / aws / gcc</td><td>9876553</td><td>add_to_cart</td><td>Not Available</td><td>1</td><td>409516064</td></tr><tr><td>2025-08-25T00:00:00.000Z</td><td>shop.sony.bpl</td><td>mobile</td><td>wifi-network</td><td>azure / aws / gcc</td><td>9876554</td><td>first_visit</td><td>Not Available</td><td>1</td><td>409516064</td></tr><tr><td>2025-08-25T00:00:00.000Z</td><td>shop.sony.bpl</td><td>mobile</td><td>wifi-network</td><td>azure / aws / gcc</td><td>9876555</td><td>purchase</td><td>Not Available</td><td>1</td><td>409516064</td></tr><tr><td>2025-08-25T00:00:00.000Z</td><td>shop.sony.bpl</td><td>mobile</td><td>wifi-network</td><td>azure / aws / gcc</td><td>9876556</td><td>purchase</td><td>Not Available</td><td>1</td><td>409516064</td></tr><tr><td>2025-08-25T00:00:00.000Z</td><td>shop.sony.bpl</td><td>mobile</td><td>wifi-network</td><td>azure / aws / gcc</td><td>9876557</td><td>purchase</td><td>Checkout</td><td>1</td><td>409516064</td></tr><tr><td>2025-08-25T00:00:00.000Z</td><td>shop.sony.bpl</td><td>mobile</td><td>wifi-network</td><td>azure / aws / gcc</td><td>9876558</td><td>purchase</td><td>Checkout</td><td>1</td><td>409516064</td></tr><tr><td>2025-08-25T00:00:00.000Z</td><td>shop.sony.bpl</td><td>mobile</td><td>wifi-network</td><td>azure / aws / gcc</td><td>9876559</td><td>purchase</td><td>Checkout</td><td>1</td><td>409516064</td></tr><tr><td>2025-08-25T00:00:00.000Z</td><td>shop.sony.bpl</td><td>mobile</td><td>wifi-network</td><td>azure / aws / gcc</td><td>9876560</td><td>purchase</td><td>Checkout</td><td>1</td><td>409516064</td></tr><tr><td>2025-08-25T00:00:00.000Z</td><td>shop.sony.bpl</td><td>mobile</td><td>wifi-network</td><td>azure / aws / gcc</td><td>9876561</td><td>purchase</td><td>Checkout</td><td>1</td><td>409516064</td></tr><tr><td>2025-08-25T00:00:00.000Z</td><td>shop.sony.bpl</td><td>mobile</td><td>wifi-network</td><td>azure / aws / gcc</td><td>9876562</td><td>purchase</td><td>Checkout</td><td>1</td><td>409516064</td></tr><tr><td>2025-08-25T00:00:00.000Z</td><td>shop.sony.bpl</td><td>mobile</td><td>wifi-network</td><td>azure / aws / gcc</td><td>9876563</td><td>purchase</td><td>Checkout</td><td>1</td><td>409516064</td></tr><tr><td>2025-08-25T00:00:00.000Z</td><td>shop.sony.bpl</td><td>mobile</td><td>wifi-network</td><td>azure / aws / gcc</td><td>9876564</td><td>first_visit</td><td>Checkout</td><td>1</td><td>409516064</td></tr><tr><td>2025-08-25T00:00:00.000Z</td><td>shop.sony.bpl</td><td>mobile</td><td>wifi-network</td><td>azure / aws / gcc</td><td>9876565</td><td>first_visit</td><td>Checkout</td><td>1</td><td>409516064</td></tr><tr><td>2025-08-25T00:00:00.000Z</td><td>shop.sony.bpl</td><td>mobile</td><td>wifi-network</td><td>azure / aws / gcc</td><td>9876566</td><td>first_visit</td><td>Checkout</td><td>1</td><td>409516064</td></tr><tr><td>2025-08-25T00:00:00.000Z</td><td>shop.sony.bpl</td><td>mobile</td><td>wifi-network</td><td>azure / aws / gcc</td><td>9876567</td><td>first_visit</td><td>Checkout</td><td>1</td><td>409516064</td></tr><tr><td>2025-08-25T00:00:00.000Z</td><td>shop.sony.bpl</td><td>mobile</td><td>wifi-network</td><td>azure / aws / gcc</td><td>9876568</td><td>first_visit</td><td>Checkout</td><td>1</td><td>409516064</td></tr><tr><td>2025-08-25T00:00:00.000Z</td><td>shop.sony.bpl</td><td>mobile</td><td>wifi-network</td><td>azure / aws / gcc</td><td>9876569</td><td>first_visit</td><td>Checkout</td><td>1</td><td>409516064</td></tr><tr><td>2025-08-25T00:00:00.000Z</td><td>shop.sony.bpl</td><td>mobile</td><td>wifi-network</td><td>azure / aws / gcc</td><td>9876570</td><td>first_visit</td><td>Checkout</td><td>1</td><td>409516064</td></tr><tr><td>2025-08-25T00:00:00.000Z</td><td>shop.sony.bpl</td><td>mobile</td><td>wifi-network</td><td>azure / aws / gcc</td><td>9876571</td><td>first_visit</td><td>Subscribe</td><td>1</td><td>409516064</td></tr><tr><td>2025-08-25T00:00:00.000Z</td><td>shop.sony.bpl</td><td>mobile</td><td>wifi-network</td><td>azure / aws / gcc</td><td>9876572</td><td>first_visit</td><td>Subscribe</td><td>1</td><td>409516064</td></tr><tr><td>2025-08-25T00:00:00.000Z</td><td>shop.sony.bpl</td><td>mobile</td><td>wifi-network</td><td>azure / aws / gcc</td><td>9876573</td><td>first_visit</td><td>Subscribe</td><td>1</td><td>409516064</td></tr><tr><td>2025-08-25T00:00:00.000Z</td><td>shop.sony.bpl</td><td>mobile</td><td>wifi-network</td><td>azure / aws / gcc</td><td>9876574</td><td>first_visit</td><td>Subscribe</td><td>1</td><td>409516064</td></tr><tr><td>2025-08-25T00:00:00.000Z</td><td>shop.sony.bpl</td><td>mobile</td><td>wifi-network</td><td>azure / aws / gcc</td><td>9876575</td><td>session_start</td><td>Subscribe</td><td>1</td><td>409516064</td></tr><tr><td>2025-08-25T00:00:00.000Z</td><td>shop.sony.bpl</td><td>mobile</td><td>wifi-network</td><td>azure / aws / gcc</td><td>9876576</td><td>session_start</td><td>Subscribe</td><td>1</td><td>409516064</td></tr><tr><td>2025-08-25T00:00:00.000Z</td><td>shop.sony.bpl</td><td>mobile</td><td>wifi-network</td><td>azure / aws / gcc</td><td>9876577</td><td>session_start</td><td>Subscribe</td><td>1</td><td>409516064</td></tr><tr><td>2025-08-25T00:00:00.000Z</td><td>shop.sony.bpl</td><td>mobile</td><td>wifi-network</td><td>azure / aws / gcc</td><td>9876578</td><td>session_start</td><td>Subscribe</td><td>1</td><td>409516064</td></tr><tr><td>2025-08-25T00:00:00.000Z</td><td>shop.sony.bpl</td><td>mobile</td><td>wifi-network</td><td>azure / aws / gcc</td><td>9876579</td><td>session_start</td><td>Subscribe</td><td>1</td><td>409516064</td></tr><tr><td>2025-08-25T00:00:00.000Z</td><td>shop.sony.bpl</td><td>mobile</td><td>wifi-network</td><td>azure / aws / gcc</td><td>9876580</td><td>first_visit</td><td>Subscribe</td><td>1</td><td>409516064</td></tr><tr><td>2025-08-25T00:00:00.000Z</td><td>shop.sony.bpl</td><td>mobile</td><td>wifi-network</td><td>azure / aws / gcc</td><td>9876581</td><td>first_visit</td><td>Search</td><td>1</td><td>409516064</td></tr><tr><td>2025-08-25T00:00:00.000Z</td><td>shop.sony.bpl</td><td>mobile</td><td>wifi-network</td><td>azure / aws / gcc</td><td>9876582</td><td>first_visit</td><td>Search</td><td>1</td><td>409516064</td></tr><tr><td>2025-08-25T00:00:00.000Z</td><td>shop.sony.bpl</td><td>mobile</td><td>wifi-network</td><td>azure / aws / gcc</td><td>9876583</td><td>first_visit</td><td>Search</td><td>1</td><td>409516064</td></tr><tr><td>2025-08-25T00:00:00.000Z</td><td>shop.sony.bpl</td><td>mobile</td><td>wifi-network</td><td>azure / aws / gcc</td><td>9876584</td><td>first_visit</td><td>Search</td><td>1</td><td>409516064</td></tr><tr><td>2025-08-25T00:00:00.000Z</td><td>shop.sony.bpl</td><td>mobile</td><td>wifi-network</td><td>azure / aws / gcc</td><td>9876585</td><td>first_visit</td><td>Search</td><td>1</td><td>409516064</td></tr><tr><td>2025-08-25T00:00:00.000Z</td><td>shop.sony.bpl</td><td>mobile</td><td>wifi-network</td><td>azure / aws / gcc</td><td>9876586</td><td>first_visit</td><td>Search</td><td>1</td><td>409516064</td></tr><tr><td>2025-08-25T00:00:00.000Z</td><td>shop.sony.bpl</td><td>mobile</td><td>wifi-network</td><td>azure / aws / gcc</td><td>9876587</td><td>add_to_cart</td><td>Search</td><td>1</td><td>409516064</td></tr><tr><td>2025-08-25T00:00:00.000Z</td><td>shop.sony.bpl</td><td>mobile</td><td>wifi-network</td><td>azure / aws / gcc</td><td>9876588</td><td>add_to_cart</td><td>Search</td><td>1</td><td>409516064</td></tr><tr><td>2025-08-25T00:00:00.000Z</td><td>shop.sony.bpl</td><td>mobile</td><td>wifi-network</td><td>azure / aws / gcc</td><td>9876589</td><td>add_to_cart</td><td>Search</td><td>1</td><td>409516064</td></tr><tr><td>2025-08-25T00:00:00.000Z</td><td>shop.sony.bpl</td><td>mobile</td><td>wifi-network</td><td>azure / aws / gcc</td><td>9876590</td><td>add_to_cart</td><td>Autocomplete</td><td>1</td><td>409516064</td></tr><tr><td>2025-08-25T00:00:00.000Z</td><td>shop.sony.bpl</td><td>mobile</td><td>wifi-network</td><td>azure / aws / gcc</td><td>9876591</td><td>add_to_cart</td><td>Autocomplete</td><td>1</td><td>409516064</td></tr><tr><td>2025-08-25T00:00:00.000Z</td><td>shop.sony.bpl</td><td>mobile</td><td>wifi-network</td><td>azure / aws / gcc</td><td>9876592</td><td>add_to_cart</td><td>Autocomplete</td><td>1</td><td>409516064</td></tr><tr><td>2025-08-25T00:00:00.000Z</td><td>shop.sony.bpl</td><td>mobile</td><td>wifi-network</td><td>azure / aws / gcc</td><td>9876593</td><td>add_to_cart</td><td>Autocomplete</td><td>1</td><td>409516064</td></tr><tr><td>2025-08-25T00:00:00.000Z</td><td>shop.sony.bpl</td><td>mobile</td><td>wifi-network</td><td>azure / aws / gcc</td><td>9876594</td><td>add_to_cart</td><td>Autocomplete</td><td>1</td><td>409516064</td></tr><tr><td>2025-08-25T00:00:00.000Z</td><td>shop.sony.bpl</td><td>mobile</td><td>wifi-network</td><td>azure / aws / gcc</td><td>9876595</td><td>add_to_cart</td><td>Autocomplete</td><td>1</td><td>409516064</td></tr><tr><td>2025-08-25T00:00:00.000Z</td><td>shop.sony.bpl</td><td>mobile</td><td>wifi-network</td><td>azure / aws / gcc</td><td>9876596</td><td>add_to_cart</td><td>Autocomplete</td><td>1</td><td>409516064</td></tr><tr><td>2025-08-25T00:00:00.000Z</td><td>shop.sony.bpl</td><td>mobile</td><td>wifi-network</td><td>azure / aws / gcc</td><td>9876597</td><td>add_to_cart</td><td>Autocomplete</td><td>1</td><td>409516064</td></tr><tr><td>2025-08-25T00:00:00.000Z</td><td>shop.sony.bpl</td><td>mobile</td><td>wifi-network</td><td>azure / aws / gcc</td><td>9876598</td><td>purchase</td><td>Autocomplete</td><td>1</td><td>409516064</td></tr><tr><td>2025-08-25T00:00:00.000Z</td><td>shop.sony.bpl</td><td>mobile</td><td>wifi-network</td><td>azure / aws / gcc</td><td>9876599</td><td>click</td><td>Autocomplete</td><td>1</td><td>409516064</td></tr><tr><td>2025-08-25T00:00:00.000Z</td><td>shop.sony.bpl</td><td>mobile</td><td>wifi-network</td><td>azure / aws / gcc</td><td>9876600</td><td>search</td><td>Autocomplete</td><td>1</td><td>409516064</td></tr><tr><td>2025-08-25T00:00:00.000Z</td><td>shop.sony.bpl</td><td>mobile</td><td>wifi-network</td><td>azure / aws / gcc</td><td>9876601</td><td>click</td><td>Customer</td><td>1</td><td>409516064</td></tr><tr><td>2025-08-25T00:00:00.000Z</td><td>shop.sony.bpl</td><td>mobile</td><td>wifi-network</td><td>azure / aws / gcc</td><td>9876602</td><td>click</td><td>Customer</td><td>1</td><td>409516064</td></tr><tr><td>2025-08-25T00:00:00.000Z</td><td>shop.sony.bpl</td><td>mobile</td><td>wifi-network</td><td>azure / aws / gcc</td><td>9876603</td><td>click</td><td>Customer</td><td>1</td><td>409516064</td></tr><tr><td>2025-08-25T00:00:00.000Z</td><td>shop.sony.bpl</td><td>mobile</td><td>wifi-network</td><td>azure / aws / gcc</td><td>9876604</td><td>click</td><td>Customer</td><td>1</td><td>409516064</td></tr><tr><td>2025-08-25T00:00:00.000Z</td><td>shop.sony.bpl</td><td>mobile</td><td>wifi-network</td><td>azure / aws / gcc</td><td>9876605</td><td>click</td><td>Customer</td><td>1</td><td>409516064</td></tr><tr><td>2025-08-25T00:00:00.000Z</td><td>shop.sony.bpl</td><td>mobile</td><td>wifi-network</td><td>azure / aws / gcc</td><td>9876606</td><td>click</td><td>Customer</td><td>1</td><td>409516064</td></tr><tr><td>2025-08-25T00:00:00.000Z</td><td>shop.sony.bpl</td><td>mobile</td><td>wifi-network</td><td>azure / aws / gcc</td><td>9876607</td><td>click</td><td>Customer</td><td>1</td><td>409516064</td></tr><tr><td>2025-08-25T00:00:00.000Z</td><td>shop.sony.bpl</td><td>mobile</td><td>wifi-network</td><td>azure / aws / gcc</td><td>9876608</td><td>click</td><td>Customer</td><td>1</td><td>409516064</td></tr><tr><td>2025-08-25T00:00:00.000Z</td><td>shop.sony.bpl</td><td>mobile</td><td>wifi-network</td><td>azure / aws / gcc</td><td>9876609</td><td>click</td><td>Customer</td><td>1</td><td>409516064</td></tr><tr><td>2025-08-25T00:00:00.000Z</td><td>shop.sony.bpl</td><td>mobile</td><td>wifi-network</td><td>azure / aws / gcc</td><td>9876610</td><td>search</td><td>Customer</td><td>1</td><td>409516064</td></tr><tr><td>2025-08-25T00:00:00.000Z</td><td>shop.sony.bpl</td><td>mobile</td><td>wifi-network</td><td>azure / aws / gcc</td><td>9876611</td><td>search</td><td>Customer</td><td>1</td><td>409516064</td></tr><tr><td>2025-08-25T00:00:00.000Z</td><td>shop.sony.bpl</td><td>mobile</td><td>wifi-network</td><td>azure / aws / gcc</td><td>9876612</td><td>search</td><td>Customer</td><td>1</td><td>409516064</td></tr><tr><td>2025-08-25T00:00:00.000Z</td><td>shop.sony.bpl</td><td>mobile</td><td>wifi-network</td><td>azure / aws / gcc</td><td>9876613</td><td>add_to_cart</td><td>Audit</td><td>1</td><td>409516064</td></tr><tr><td>2025-08-25T00:00:00.000Z</td><td>shop.sony.bpl</td><td>mobile</td><td>wifi-network</td><td>azure / aws / gcc</td><td>9876614</td><td>add_to_cart</td><td>Audit</td><td>1</td><td>409516064</td></tr><tr><td>2025-08-25T00:00:00.000Z</td><td>shop.sony.bpl</td><td>mobile</td><td>wifi-network</td><td>azure / aws / gcc</td><td>9876615</td><td>add_to_cart</td><td>Audit</td><td>1</td><td>409516064</td></tr><tr><td>2025-08-25T00:00:00.000Z</td><td>shop.sony.bpl</td><td>mobile</td><td>wifi-network</td><td>azure / aws / gcc</td><td>9876616</td><td>add_to_cart</td><td>Audit</td><td>1</td><td>409516064</td></tr><tr><td>2025-08-25T00:00:00.000Z</td><td>shop.sony.bpl</td><td>mobile</td><td>wifi-network</td><td>azure / aws / gcc</td><td>9876617</td><td>add_to_cart</td><td>Audit</td><td>1</td><td>409516064</td></tr><tr><td>2025-08-25T00:00:00.000Z</td><td>shop.sony.bpl</td><td>mobile</td><td>wifi-network</td><td>azure / aws / gcc</td><td>9876618</td><td>add_to_cart</td><td>Audit</td><td>1</td><td>409516064</td></tr><tr><td>2025-08-25T00:00:00.000Z</td><td>shop.sony.bpl</td><td>mobile</td><td>wifi-network</td><td>azure / aws / gcc</td><td>9876619</td><td>search</td><td>Audit</td><td>1</td><td>409516064</td></tr><tr><td>2025-08-25T00:00:00.000Z</td><td>shop.sony.bpl</td><td>mobile</td><td>wifi-network</td><td>azure / aws / gcc</td><td>9876620</td><td>search</td><td>Audit</td><td>1</td><td>409516064</td></tr><tr><td>2025-08-25T00:00:00.000Z</td><td>shop.sony.bpl</td><td>mobile</td><td>wifi-network</td><td>azure / aws / gcc</td><td>9876621</td><td>search</td><td>Audit</td><td>1</td><td>409516064</td></tr><tr><td>2025-08-25T00:00:00.000Z</td><td>shop.sony.bpl</td><td>mobile</td><td>wifi-network</td><td>azure / aws / gcc</td><td>9876622</td><td>session_start</td><td>Audit</td><td>1</td><td>409516064</td></tr><tr><td>2025-08-25T00:00:00.000Z</td><td>shop.sony.bpl</td><td>mobile</td><td>wifi-network</td><td>azure / aws / gcc</td><td>9876623</td><td>session_start</td><td>Audit</td><td>1</td><td>409516064</td></tr><tr><td>2025-08-25T00:00:00.000Z</td><td>shop.sony.bpl</td><td>mobile</td><td>wifi-network</td><td>azure / aws / gcc</td><td>9876624</td><td>session_start</td><td>Audit</td><td>1</td><td>409516064</td></tr><tr><td>2025-08-25T00:00:00.000Z</td><td>shop.sony.bpl</td><td>mobile</td><td>wifi-network</td><td>azure / aws / gcc</td><td>9876625</td><td>first_visit</td><td>Audit</td><td>1</td><td>409516064</td></tr><tr><td>2025-08-25T00:00:00.000Z</td><td>shop.sony.bpl</td><td>mobile</td><td>wifi-network</td><td>azure / aws / gcc</td><td>9876626</td><td>click</td><td>Audit</td><td>1</td><td>409516064</td></tr><tr><td>2025-08-25T00:00:00.000Z</td><td>shop.sony.bpl</td><td>mobile</td><td>wifi-network</td><td>azure / aws / gcc</td><td>9876627</td><td>click</td><td>Audit</td><td>1</td><td>409516064</td></tr><tr><td>2025-08-25T00:00:00.000Z</td><td>shop.sony.bpl</td><td>mobile</td><td>wifi-network</td><td>azure / aws / gcc</td><td>9876628</td><td>click</td><td>Audit</td><td>1</td><td>409516064</td></tr><tr><td>2025-08-25T00:00:00.000Z</td><td>shop.sony.bpl</td><td>mobile</td><td>wifi-network</td><td>azure / aws / gcc</td><td>9876629</td><td>click</td><td>Audit</td><td>1</td><td>409516064</td></tr><tr><td>2025-08-25T00:00:00.000Z</td><td>shop.sony.bpl</td><td>mobile</td><td>wifi-network</td><td>azure / aws / gcc</td><td>9876630</td><td>session_start</td><td>Marketing</td><td>1</td><td>409516064</td></tr><tr><td>2025-08-25T00:00:00.000Z</td><td>shop.sony.bpl</td><td>mobile</td><td>wifi-network</td><td>azure / aws / gcc</td><td>9876631</td><td>session_start</td><td>Marketing</td><td>1</td><td>409516064</td></tr><tr><td>2025-08-25T00:00:00.000Z</td><td>shop.sony.bpl</td><td>mobile</td><td>wifi-network</td><td>azure / aws / gcc</td><td>9876632</td><td>session_start</td><td>Marketing</td><td>1</td><td>409516064</td></tr><tr><td>2025-08-25T00:00:00.000Z</td><td>shop.sony.bpl</td><td>mobile</td><td>wifi-network</td><td>azure / aws / gcc</td><td>9876633</td><td>session_start</td><td>Marketing</td><td>1</td><td>409516064</td></tr><tr><td>2025-08-25T00:00:00.000Z</td><td>shop.sony.bpl</td><td>mobile</td><td>wifi-network</td><td>azure / aws / gcc</td><td>9876634</td><td>session_start</td><td>Marketing</td><td>1</td><td>409516064</td></tr><tr><td>2025-08-25T00:00:00.000Z</td><td>shop.sony.bpl</td><td>mobile</td><td>wifi-network</td><td>azure / aws / gcc</td><td>9876635</td><td>session_start</td><td>Marketing</td><td>1</td><td>409516064</td></tr><tr><td>2025-08-25T00:00:00.000Z</td><td>shop.sony.bpl</td><td>mobile</td><td>wifi-network</td><td>azure / aws / gcc</td><td>9876636</td><td>session_start</td><td>Marketing</td><td>1</td><td>409516064</td></tr><tr><td>2025-08-25T00:00:00.000Z</td><td>shop.sony.bpl</td><td>mobile</td><td>wifi-network</td><td>azure / aws / gcc</td><td>9876637</td><td>session_start</td><td>Marketing</td><td>1</td><td>409516064</td></tr><tr><td>2025-08-25T00:00:00.000Z</td><td>shop.sony.bpl</td><td>mobile</td><td>wifi-network</td><td>azure / aws / gcc</td><td>9876638</td><td>session_start</td><td>Marketing</td><td>1</td><td>409516064</td></tr><tr><td>2025-08-25T00:00:00.000Z</td><td>shop.sony.bpl</td><td>mobile</td><td>wifi-network</td><td>azure / aws / gcc</td><td>9876639</td><td>session_start</td><td>Marketing</td><td>1</td><td>409516064</td></tr><tr><td>2025-08-25T00:00:00.000Z</td><td>shop.sony.bpl</td><td>mobile</td><td>wifi-network</td><td>azure / aws / gcc</td><td>9876640</td><td>session_start</td><td>Marketing</td><td>1</td><td>409516064</td></tr><tr><td>2025-08-25T00:00:00.000Z</td><td>shop.sony.bpl</td><td>mobile</td><td>wifi-network</td><td>azure / aws / gcc</td><td>9876641</td><td>session_start</td><td>Marketing</td><td>1</td><td>409516064</td></tr><tr><td>2025-08-25T00:00:00.000Z</td><td>shop.sony.bpl</td><td>mobile</td><td>wifi-network</td><td>azure / aws / gcc</td><td>9876642</td><td>session_start</td><td>Marketing</td><td>1</td><td>409516064</td></tr></tbody></table></div>"
      ]
     },
     "metadata": {
      "application/vnd.databricks.v1+output": {
       "addedWidgets": {},
       "aggData": [],
       "aggError": "",
       "aggOverflow": false,
       "aggSchema": [],
       "aggSeriesLimitReached": false,
       "aggType": "",
       "arguments": {},
       "columnCustomDisplayInfos": {},
       "data": [
        [
         "2025-08-25T00:00:00.000Z",
         "shop.sony.bpl",
         "mobile",
         "wifi-network",
         "azure / aws / gcc",
         9876543,
         "first_visit",
         "Not Available",
         1,
         409516064
        ],
        [
         "2025-08-25T00:00:00.000Z",
         "shop.sony.bpl",
         "mobile",
         "wifi-network",
         "azure / aws / gcc",
         9876544,
         "purchase",
         "Not Available",
         1,
         409516064
        ],
        [
         "2025-08-25T00:00:00.000Z",
         "shop.sony.bpl",
         "mobile",
         "wifi-network",
         "azure / aws / gcc",
         9876545,
         "search",
         "Not Available",
         1,
         409516064
        ],
        [
         "2025-08-25T00:00:00.000Z",
         "shop.sony.bpl",
         "mobile",
         "wifi-network",
         "azure / aws / gcc",
         9876546,
         "search",
         "Not Available",
         1,
         409516064
        ],
        [
         "2025-08-25T00:00:00.000Z",
         "shop.sony.bpl",
         "mobile",
         "wifi-network",
         "azure / aws / gcc",
         9876547,
         "search",
         "Not Available",
         1,
         409516064
        ],
        [
         "2025-08-25T00:00:00.000Z",
         "shop.sony.bpl",
         "mobile",
         "wifi-network",
         "azure / aws / gcc",
         9876548,
         "add_to_cart",
         "Not Available",
         1,
         409516064
        ],
        [
         "2025-08-25T00:00:00.000Z",
         "shop.sony.bpl",
         "mobile",
         "wifi-network",
         "azure / aws / gcc",
         9876549,
         "add_to_cart",
         "Not Available",
         1,
         409516064
        ],
        [
         "2025-08-25T00:00:00.000Z",
         "shop.sony.bpl",
         "mobile",
         "wifi-network",
         "azure / aws / gcc",
         9876550,
         "add_to_cart",
         "Not Available",
         1,
         409516064
        ],
        [
         "2025-08-25T00:00:00.000Z",
         "shop.sony.bpl",
         "mobile",
         "wifi-network",
         "azure / aws / gcc",
         9876551,
         "add_to_cart",
         "Not Available",
         1,
         409516064
        ],
        [
         "2025-08-25T00:00:00.000Z",
         "shop.sony.bpl",
         "mobile",
         "wifi-network",
         "azure / aws / gcc",
         9876552,
         "add_to_cart",
         "Not Available",
         1,
         409516064
        ],
        [
         "2025-08-25T00:00:00.000Z",
         "shop.sony.bpl",
         "mobile",
         "wifi-network",
         "azure / aws / gcc",
         9876553,
         "add_to_cart",
         "Not Available",
         1,
         409516064
        ],
        [
         "2025-08-25T00:00:00.000Z",
         "shop.sony.bpl",
         "mobile",
         "wifi-network",
         "azure / aws / gcc",
         9876554,
         "first_visit",
         "Not Available",
         1,
         409516064
        ],
        [
         "2025-08-25T00:00:00.000Z",
         "shop.sony.bpl",
         "mobile",
         "wifi-network",
         "azure / aws / gcc",
         9876555,
         "purchase",
         "Not Available",
         1,
         409516064
        ],
        [
         "2025-08-25T00:00:00.000Z",
         "shop.sony.bpl",
         "mobile",
         "wifi-network",
         "azure / aws / gcc",
         9876556,
         "purchase",
         "Not Available",
         1,
         409516064
        ],
        [
         "2025-08-25T00:00:00.000Z",
         "shop.sony.bpl",
         "mobile",
         "wifi-network",
         "azure / aws / gcc",
         9876557,
         "purchase",
         "Checkout",
         1,
         409516064
        ],
        [
         "2025-08-25T00:00:00.000Z",
         "shop.sony.bpl",
         "mobile",
         "wifi-network",
         "azure / aws / gcc",
         9876558,
         "purchase",
         "Checkout",
         1,
         409516064
        ],
        [
         "2025-08-25T00:00:00.000Z",
         "shop.sony.bpl",
         "mobile",
         "wifi-network",
         "azure / aws / gcc",
         9876559,
         "purchase",
         "Checkout",
         1,
         409516064
        ],
        [
         "2025-08-25T00:00:00.000Z",
         "shop.sony.bpl",
         "mobile",
         "wifi-network",
         "azure / aws / gcc",
         9876560,
         "purchase",
         "Checkout",
         1,
         409516064
        ],
        [
         "2025-08-25T00:00:00.000Z",
         "shop.sony.bpl",
         "mobile",
         "wifi-network",
         "azure / aws / gcc",
         9876561,
         "purchase",
         "Checkout",
         1,
         409516064
        ],
        [
         "2025-08-25T00:00:00.000Z",
         "shop.sony.bpl",
         "mobile",
         "wifi-network",
         "azure / aws / gcc",
         9876562,
         "purchase",
         "Checkout",
         1,
         409516064
        ],
        [
         "2025-08-25T00:00:00.000Z",
         "shop.sony.bpl",
         "mobile",
         "wifi-network",
         "azure / aws / gcc",
         9876563,
         "purchase",
         "Checkout",
         1,
         409516064
        ],
        [
         "2025-08-25T00:00:00.000Z",
         "shop.sony.bpl",
         "mobile",
         "wifi-network",
         "azure / aws / gcc",
         9876564,
         "first_visit",
         "Checkout",
         1,
         409516064
        ],
        [
         "2025-08-25T00:00:00.000Z",
         "shop.sony.bpl",
         "mobile",
         "wifi-network",
         "azure / aws / gcc",
         9876565,
         "first_visit",
         "Checkout",
         1,
         409516064
        ],
        [
         "2025-08-25T00:00:00.000Z",
         "shop.sony.bpl",
         "mobile",
         "wifi-network",
         "azure / aws / gcc",
         9876566,
         "first_visit",
         "Checkout",
         1,
         409516064
        ],
        [
         "2025-08-25T00:00:00.000Z",
         "shop.sony.bpl",
         "mobile",
         "wifi-network",
         "azure / aws / gcc",
         9876567,
         "first_visit",
         "Checkout",
         1,
         409516064
        ],
        [
         "2025-08-25T00:00:00.000Z",
         "shop.sony.bpl",
         "mobile",
         "wifi-network",
         "azure / aws / gcc",
         9876568,
         "first_visit",
         "Checkout",
         1,
         409516064
        ],
        [
         "2025-08-25T00:00:00.000Z",
         "shop.sony.bpl",
         "mobile",
         "wifi-network",
         "azure / aws / gcc",
         9876569,
         "first_visit",
         "Checkout",
         1,
         409516064
        ],
        [
         "2025-08-25T00:00:00.000Z",
         "shop.sony.bpl",
         "mobile",
         "wifi-network",
         "azure / aws / gcc",
         9876570,
         "first_visit",
         "Checkout",
         1,
         409516064
        ],
        [
         "2025-08-25T00:00:00.000Z",
         "shop.sony.bpl",
         "mobile",
         "wifi-network",
         "azure / aws / gcc",
         9876571,
         "first_visit",
         "Subscribe",
         1,
         409516064
        ],
        [
         "2025-08-25T00:00:00.000Z",
         "shop.sony.bpl",
         "mobile",
         "wifi-network",
         "azure / aws / gcc",
         9876572,
         "first_visit",
         "Subscribe",
         1,
         409516064
        ],
        [
         "2025-08-25T00:00:00.000Z",
         "shop.sony.bpl",
         "mobile",
         "wifi-network",
         "azure / aws / gcc",
         9876573,
         "first_visit",
         "Subscribe",
         1,
         409516064
        ],
        [
         "2025-08-25T00:00:00.000Z",
         "shop.sony.bpl",
         "mobile",
         "wifi-network",
         "azure / aws / gcc",
         9876574,
         "first_visit",
         "Subscribe",
         1,
         409516064
        ],
        [
         "2025-08-25T00:00:00.000Z",
         "shop.sony.bpl",
         "mobile",
         "wifi-network",
         "azure / aws / gcc",
         9876575,
         "session_start",
         "Subscribe",
         1,
         409516064
        ],
        [
         "2025-08-25T00:00:00.000Z",
         "shop.sony.bpl",
         "mobile",
         "wifi-network",
         "azure / aws / gcc",
         9876576,
         "session_start",
         "Subscribe",
         1,
         409516064
        ],
        [
         "2025-08-25T00:00:00.000Z",
         "shop.sony.bpl",
         "mobile",
         "wifi-network",
         "azure / aws / gcc",
         9876577,
         "session_start",
         "Subscribe",
         1,
         409516064
        ],
        [
         "2025-08-25T00:00:00.000Z",
         "shop.sony.bpl",
         "mobile",
         "wifi-network",
         "azure / aws / gcc",
         9876578,
         "session_start",
         "Subscribe",
         1,
         409516064
        ],
        [
         "2025-08-25T00:00:00.000Z",
         "shop.sony.bpl",
         "mobile",
         "wifi-network",
         "azure / aws / gcc",
         9876579,
         "session_start",
         "Subscribe",
         1,
         409516064
        ],
        [
         "2025-08-25T00:00:00.000Z",
         "shop.sony.bpl",
         "mobile",
         "wifi-network",
         "azure / aws / gcc",
         9876580,
         "first_visit",
         "Subscribe",
         1,
         409516064
        ],
        [
         "2025-08-25T00:00:00.000Z",
         "shop.sony.bpl",
         "mobile",
         "wifi-network",
         "azure / aws / gcc",
         9876581,
         "first_visit",
         "Search",
         1,
         409516064
        ],
        [
         "2025-08-25T00:00:00.000Z",
         "shop.sony.bpl",
         "mobile",
         "wifi-network",
         "azure / aws / gcc",
         9876582,
         "first_visit",
         "Search",
         1,
         409516064
        ],
        [
         "2025-08-25T00:00:00.000Z",
         "shop.sony.bpl",
         "mobile",
         "wifi-network",
         "azure / aws / gcc",
         9876583,
         "first_visit",
         "Search",
         1,
         409516064
        ],
        [
         "2025-08-25T00:00:00.000Z",
         "shop.sony.bpl",
         "mobile",
         "wifi-network",
         "azure / aws / gcc",
         9876584,
         "first_visit",
         "Search",
         1,
         409516064
        ],
        [
         "2025-08-25T00:00:00.000Z",
         "shop.sony.bpl",
         "mobile",
         "wifi-network",
         "azure / aws / gcc",
         9876585,
         "first_visit",
         "Search",
         1,
         409516064
        ],
        [
         "2025-08-25T00:00:00.000Z",
         "shop.sony.bpl",
         "mobile",
         "wifi-network",
         "azure / aws / gcc",
         9876586,
         "first_visit",
         "Search",
         1,
         409516064
        ],
        [
         "2025-08-25T00:00:00.000Z",
         "shop.sony.bpl",
         "mobile",
         "wifi-network",
         "azure / aws / gcc",
         9876587,
         "add_to_cart",
         "Search",
         1,
         409516064
        ],
        [
         "2025-08-25T00:00:00.000Z",
         "shop.sony.bpl",
         "mobile",
         "wifi-network",
         "azure / aws / gcc",
         9876588,
         "add_to_cart",
         "Search",
         1,
         409516064
        ],
        [
         "2025-08-25T00:00:00.000Z",
         "shop.sony.bpl",
         "mobile",
         "wifi-network",
         "azure / aws / gcc",
         9876589,
         "add_to_cart",
         "Search",
         1,
         409516064
        ],
        [
         "2025-08-25T00:00:00.000Z",
         "shop.sony.bpl",
         "mobile",
         "wifi-network",
         "azure / aws / gcc",
         9876590,
         "add_to_cart",
         "Autocomplete",
         1,
         409516064
        ],
        [
         "2025-08-25T00:00:00.000Z",
         "shop.sony.bpl",
         "mobile",
         "wifi-network",
         "azure / aws / gcc",
         9876591,
         "add_to_cart",
         "Autocomplete",
         1,
         409516064
        ],
        [
         "2025-08-25T00:00:00.000Z",
         "shop.sony.bpl",
         "mobile",
         "wifi-network",
         "azure / aws / gcc",
         9876592,
         "add_to_cart",
         "Autocomplete",
         1,
         409516064
        ],
        [
         "2025-08-25T00:00:00.000Z",
         "shop.sony.bpl",
         "mobile",
         "wifi-network",
         "azure / aws / gcc",
         9876593,
         "add_to_cart",
         "Autocomplete",
         1,
         409516064
        ],
        [
         "2025-08-25T00:00:00.000Z",
         "shop.sony.bpl",
         "mobile",
         "wifi-network",
         "azure / aws / gcc",
         9876594,
         "add_to_cart",
         "Autocomplete",
         1,
         409516064
        ],
        [
         "2025-08-25T00:00:00.000Z",
         "shop.sony.bpl",
         "mobile",
         "wifi-network",
         "azure / aws / gcc",
         9876595,
         "add_to_cart",
         "Autocomplete",
         1,
         409516064
        ],
        [
         "2025-08-25T00:00:00.000Z",
         "shop.sony.bpl",
         "mobile",
         "wifi-network",
         "azure / aws / gcc",
         9876596,
         "add_to_cart",
         "Autocomplete",
         1,
         409516064
        ],
        [
         "2025-08-25T00:00:00.000Z",
         "shop.sony.bpl",
         "mobile",
         "wifi-network",
         "azure / aws / gcc",
         9876597,
         "add_to_cart",
         "Autocomplete",
         1,
         409516064
        ],
        [
         "2025-08-25T00:00:00.000Z",
         "shop.sony.bpl",
         "mobile",
         "wifi-network",
         "azure / aws / gcc",
         9876598,
         "purchase",
         "Autocomplete",
         1,
         409516064
        ],
        [
         "2025-08-25T00:00:00.000Z",
         "shop.sony.bpl",
         "mobile",
         "wifi-network",
         "azure / aws / gcc",
         9876599,
         "click",
         "Autocomplete",
         1,
         409516064
        ],
        [
         "2025-08-25T00:00:00.000Z",
         "shop.sony.bpl",
         "mobile",
         "wifi-network",
         "azure / aws / gcc",
         9876600,
         "search",
         "Autocomplete",
         1,
         409516064
        ],
        [
         "2025-08-25T00:00:00.000Z",
         "shop.sony.bpl",
         "mobile",
         "wifi-network",
         "azure / aws / gcc",
         9876601,
         "click",
         "Customer",
         1,
         409516064
        ],
        [
         "2025-08-25T00:00:00.000Z",
         "shop.sony.bpl",
         "mobile",
         "wifi-network",
         "azure / aws / gcc",
         9876602,
         "click",
         "Customer",
         1,
         409516064
        ],
        [
         "2025-08-25T00:00:00.000Z",
         "shop.sony.bpl",
         "mobile",
         "wifi-network",
         "azure / aws / gcc",
         9876603,
         "click",
         "Customer",
         1,
         409516064
        ],
        [
         "2025-08-25T00:00:00.000Z",
         "shop.sony.bpl",
         "mobile",
         "wifi-network",
         "azure / aws / gcc",
         9876604,
         "click",
         "Customer",
         1,
         409516064
        ],
        [
         "2025-08-25T00:00:00.000Z",
         "shop.sony.bpl",
         "mobile",
         "wifi-network",
         "azure / aws / gcc",
         9876605,
         "click",
         "Customer",
         1,
         409516064
        ],
        [
         "2025-08-25T00:00:00.000Z",
         "shop.sony.bpl",
         "mobile",
         "wifi-network",
         "azure / aws / gcc",
         9876606,
         "click",
         "Customer",
         1,
         409516064
        ],
        [
         "2025-08-25T00:00:00.000Z",
         "shop.sony.bpl",
         "mobile",
         "wifi-network",
         "azure / aws / gcc",
         9876607,
         "click",
         "Customer",
         1,
         409516064
        ],
        [
         "2025-08-25T00:00:00.000Z",
         "shop.sony.bpl",
         "mobile",
         "wifi-network",
         "azure / aws / gcc",
         9876608,
         "click",
         "Customer",
         1,
         409516064
        ],
        [
         "2025-08-25T00:00:00.000Z",
         "shop.sony.bpl",
         "mobile",
         "wifi-network",
         "azure / aws / gcc",
         9876609,
         "click",
         "Customer",
         1,
         409516064
        ],
        [
         "2025-08-25T00:00:00.000Z",
         "shop.sony.bpl",
         "mobile",
         "wifi-network",
         "azure / aws / gcc",
         9876610,
         "search",
         "Customer",
         1,
         409516064
        ],
        [
         "2025-08-25T00:00:00.000Z",
         "shop.sony.bpl",
         "mobile",
         "wifi-network",
         "azure / aws / gcc",
         9876611,
         "search",
         "Customer",
         1,
         409516064
        ],
        [
         "2025-08-25T00:00:00.000Z",
         "shop.sony.bpl",
         "mobile",
         "wifi-network",
         "azure / aws / gcc",
         9876612,
         "search",
         "Customer",
         1,
         409516064
        ],
        [
         "2025-08-25T00:00:00.000Z",
         "shop.sony.bpl",
         "mobile",
         "wifi-network",
         "azure / aws / gcc",
         9876613,
         "add_to_cart",
         "Audit",
         1,
         409516064
        ],
        [
         "2025-08-25T00:00:00.000Z",
         "shop.sony.bpl",
         "mobile",
         "wifi-network",
         "azure / aws / gcc",
         9876614,
         "add_to_cart",
         "Audit",
         1,
         409516064
        ],
        [
         "2025-08-25T00:00:00.000Z",
         "shop.sony.bpl",
         "mobile",
         "wifi-network",
         "azure / aws / gcc",
         9876615,
         "add_to_cart",
         "Audit",
         1,
         409516064
        ],
        [
         "2025-08-25T00:00:00.000Z",
         "shop.sony.bpl",
         "mobile",
         "wifi-network",
         "azure / aws / gcc",
         9876616,
         "add_to_cart",
         "Audit",
         1,
         409516064
        ],
        [
         "2025-08-25T00:00:00.000Z",
         "shop.sony.bpl",
         "mobile",
         "wifi-network",
         "azure / aws / gcc",
         9876617,
         "add_to_cart",
         "Audit",
         1,
         409516064
        ],
        [
         "2025-08-25T00:00:00.000Z",
         "shop.sony.bpl",
         "mobile",
         "wifi-network",
         "azure / aws / gcc",
         9876618,
         "add_to_cart",
         "Audit",
         1,
         409516064
        ],
        [
         "2025-08-25T00:00:00.000Z",
         "shop.sony.bpl",
         "mobile",
         "wifi-network",
         "azure / aws / gcc",
         9876619,
         "search",
         "Audit",
         1,
         409516064
        ],
        [
         "2025-08-25T00:00:00.000Z",
         "shop.sony.bpl",
         "mobile",
         "wifi-network",
         "azure / aws / gcc",
         9876620,
         "search",
         "Audit",
         1,
         409516064
        ],
        [
         "2025-08-25T00:00:00.000Z",
         "shop.sony.bpl",
         "mobile",
         "wifi-network",
         "azure / aws / gcc",
         9876621,
         "search",
         "Audit",
         1,
         409516064
        ],
        [
         "2025-08-25T00:00:00.000Z",
         "shop.sony.bpl",
         "mobile",
         "wifi-network",
         "azure / aws / gcc",
         9876622,
         "session_start",
         "Audit",
         1,
         409516064
        ],
        [
         "2025-08-25T00:00:00.000Z",
         "shop.sony.bpl",
         "mobile",
         "wifi-network",
         "azure / aws / gcc",
         9876623,
         "session_start",
         "Audit",
         1,
         409516064
        ],
        [
         "2025-08-25T00:00:00.000Z",
         "shop.sony.bpl",
         "mobile",
         "wifi-network",
         "azure / aws / gcc",
         9876624,
         "session_start",
         "Audit",
         1,
         409516064
        ],
        [
         "2025-08-25T00:00:00.000Z",
         "shop.sony.bpl",
         "mobile",
         "wifi-network",
         "azure / aws / gcc",
         9876625,
         "first_visit",
         "Audit",
         1,
         409516064
        ],
        [
         "2025-08-25T00:00:00.000Z",
         "shop.sony.bpl",
         "mobile",
         "wifi-network",
         "azure / aws / gcc",
         9876626,
         "click",
         "Audit",
         1,
         409516064
        ],
        [
         "2025-08-25T00:00:00.000Z",
         "shop.sony.bpl",
         "mobile",
         "wifi-network",
         "azure / aws / gcc",
         9876627,
         "click",
         "Audit",
         1,
         409516064
        ],
        [
         "2025-08-25T00:00:00.000Z",
         "shop.sony.bpl",
         "mobile",
         "wifi-network",
         "azure / aws / gcc",
         9876628,
         "click",
         "Audit",
         1,
         409516064
        ],
        [
         "2025-08-25T00:00:00.000Z",
         "shop.sony.bpl",
         "mobile",
         "wifi-network",
         "azure / aws / gcc",
         9876629,
         "click",
         "Audit",
         1,
         409516064
        ],
        [
         "2025-08-25T00:00:00.000Z",
         "shop.sony.bpl",
         "mobile",
         "wifi-network",
         "azure / aws / gcc",
         9876630,
         "session_start",
         "Marketing",
         1,
         409516064
        ],
        [
         "2025-08-25T00:00:00.000Z",
         "shop.sony.bpl",
         "mobile",
         "wifi-network",
         "azure / aws / gcc",
         9876631,
         "session_start",
         "Marketing",
         1,
         409516064
        ],
        [
         "2025-08-25T00:00:00.000Z",
         "shop.sony.bpl",
         "mobile",
         "wifi-network",
         "azure / aws / gcc",
         9876632,
         "session_start",
         "Marketing",
         1,
         409516064
        ],
        [
         "2025-08-25T00:00:00.000Z",
         "shop.sony.bpl",
         "mobile",
         "wifi-network",
         "azure / aws / gcc",
         9876633,
         "session_start",
         "Marketing",
         1,
         409516064
        ],
        [
         "2025-08-25T00:00:00.000Z",
         "shop.sony.bpl",
         "mobile",
         "wifi-network",
         "azure / aws / gcc",
         9876634,
         "session_start",
         "Marketing",
         1,
         409516064
        ],
        [
         "2025-08-25T00:00:00.000Z",
         "shop.sony.bpl",
         "mobile",
         "wifi-network",
         "azure / aws / gcc",
         9876635,
         "session_start",
         "Marketing",
         1,
         409516064
        ],
        [
         "2025-08-25T00:00:00.000Z",
         "shop.sony.bpl",
         "mobile",
         "wifi-network",
         "azure / aws / gcc",
         9876636,
         "session_start",
         "Marketing",
         1,
         409516064
        ],
        [
         "2025-08-25T00:00:00.000Z",
         "shop.sony.bpl",
         "mobile",
         "wifi-network",
         "azure / aws / gcc",
         9876637,
         "session_start",
         "Marketing",
         1,
         409516064
        ],
        [
         "2025-08-25T00:00:00.000Z",
         "shop.sony.bpl",
         "mobile",
         "wifi-network",
         "azure / aws / gcc",
         9876638,
         "session_start",
         "Marketing",
         1,
         409516064
        ],
        [
         "2025-08-25T00:00:00.000Z",
         "shop.sony.bpl",
         "mobile",
         "wifi-network",
         "azure / aws / gcc",
         9876639,
         "session_start",
         "Marketing",
         1,
         409516064
        ],
        [
         "2025-08-25T00:00:00.000Z",
         "shop.sony.bpl",
         "mobile",
         "wifi-network",
         "azure / aws / gcc",
         9876640,
         "session_start",
         "Marketing",
         1,
         409516064
        ],
        [
         "2025-08-25T00:00:00.000Z",
         "shop.sony.bpl",
         "mobile",
         "wifi-network",
         "azure / aws / gcc",
         9876641,
         "session_start",
         "Marketing",
         1,
         409516064
        ],
        [
         "2025-08-25T00:00:00.000Z",
         "shop.sony.bpl",
         "mobile",
         "wifi-network",
         "azure / aws / gcc",
         9876642,
         "session_start",
         "Marketing",
         1,
         409516064
        ]
       ],
       "datasetInfos": [],
       "dbfsResultPath": null,
       "isJsonSchema": true,
       "metadata": {},
       "overflow": false,
       "plotOptions": {
        "customPlotOptions": {},
        "displayType": "table",
        "pivotAggregation": null,
        "pivotColumns": null,
        "xColumns": null,
        "yColumns": null
       },
       "removedWidgets": [],
       "schema": [
        {
         "metadata": "{}",
         "name": "start_date",
         "type": "\"timestamp\""
        },
        {
         "metadata": "{}",
         "name": "product_url",
         "type": "\"string\""
        },
        {
         "metadata": "{}",
         "name": "category",
         "type": "\"string\""
        },
        {
         "metadata": "{}",
         "name": "default_group",
         "type": "\"string\""
        },
        {
         "metadata": "{}",
         "name": "cloud_flatform",
         "type": "\"string\""
        },
        {
         "metadata": "{}",
         "name": "session_id",
         "type": "\"integer\""
        },
        {
         "metadata": "{}",
         "name": "session_name",
         "type": "\"string\""
        },
        {
         "metadata": "{}",
         "name": "session_type",
         "type": "\"string\""
        },
        {
         "metadata": "{}",
         "name": "sessions",
         "type": "\"integer\""
        },
        {
         "metadata": "{}",
         "name": "product_id",
         "type": "\"integer\""
        }
       ],
       "type": "table"
      }
     },
     "output_type": "display_data"
    }
   ],
   "source": [
    "df_ts = spark.read.csv(\"/Volumes/@azureadb/pyspark/timestamp/timestamptodate.csv\", header=True, inferSchema=True)\n",
    "display(df_ts)"
   ]
  },
  {
   "cell_type": "markdown",
   "metadata": {
    "application/vnd.databricks.v1+cell": {
     "cellMetadata": {},
     "inputWidgets": {},
     "nuid": "984370a9-3683-4973-aeff-fed190eb6c47",
     "showTitle": false,
     "tableResultSettingsMap": {},
     "title": ""
    }
   },
   "source": [
    "**1) Add columns from a dictionary of literal values**\n",
    "- If your **dictionary** has **column names and constant values**."
   ]
  },
  {
   "cell_type": "markdown",
   "metadata": {
    "application/vnd.databricks.v1+cell": {
     "cellMetadata": {},
     "inputWidgets": {},
     "nuid": "5c429e47-82f0-4976-b490-bc89e6e57eb8",
     "showTitle": false,
     "tableResultSettingsMap": {},
     "title": ""
    }
   },
   "source": [
    "     # Method 01\n",
    "     for col, val in col_dict.items():\n",
    "         df = df.withColumn(col, F.lit(val))\n",
    "\n",
    "     # Method 02\n",
    "     df_ts_adv = df_ts.withColumn(\"productivity\", F.lit(\"advertisement\")) \\\n",
    "                      .withColumn(\"Sales_ID\", F.lit(\"NULL\")) \\\n",
    "                      .withColumn(\"Sales_Name\", F.lit(\"NULL\")) \\\n",
    "                      .withColumn(\"Granularity\", F.lit(\"product_category\"))"
   ]
  },
  {
   "cell_type": "code",
   "execution_count": 0,
   "metadata": {
    "application/vnd.databricks.v1+cell": {
     "cellMetadata": {
      "byteLimit": 2048000,
      "rowLimit": 10000
     },
     "inputWidgets": {},
     "nuid": "25ea1aa4-b861-4749-bde7-d4c29b7d5855",
     "showTitle": false,
     "tableResultSettingsMap": {},
     "title": ""
    }
   },
   "outputs": [],
   "source": [
    "def add_col(df, dic_name_value):\n",
    "    for col_name, col_value in dic_name_value.items():\n",
    "        df = df.withColumn(col_name, F.lit(col_value))\n",
    "    return df"
   ]
  },
  {
   "cell_type": "code",
   "execution_count": 0,
   "metadata": {
    "application/vnd.databricks.v1+cell": {
     "cellMetadata": {
      "byteLimit": 2048000,
      "rowLimit": 10000
     },
     "inputWidgets": {},
     "nuid": "2636db03-84cf-4986-b130-3d7d96d96874",
     "showTitle": false,
     "tableResultSettingsMap": {
      "0": {
       "dataGridStateBlob": "{\"version\":1,\"tableState\":{\"columnPinning\":{\"left\":[\"#row_number#\"],\"right\":[]},\"columnSizing\":{},\"columnVisibility\":{}},\"settings\":{\"columns\":{}},\"syncTimestamp\":1758994227215}",
       "filterBlob": null,
       "queryPlanFiltersBlob": null,
       "tableResultIndex": 0
      }
     },
     "title": ""
    }
   },
   "outputs": [
    {
     "output_type": "display_data",
     "data": {
      "text/html": [
       "<style scoped>\n",
       "  .table-result-container {\n",
       "    max-height: 300px;\n",
       "    overflow: auto;\n",
       "  }\n",
       "  table, th, td {\n",
       "    border: 1px solid black;\n",
       "    border-collapse: collapse;\n",
       "  }\n",
       "  th, td {\n",
       "    padding: 5px;\n",
       "  }\n",
       "  th {\n",
       "    text-align: left;\n",
       "  }\n",
       "</style><div class='table-result-container'><table class='table-result'><thead style='background-color: white'><tr><th>start_date</th><th>product_url</th><th>category</th><th>default_group</th><th>cloud_flatform</th><th>session_id</th><th>session_name</th><th>session_type</th><th>sessions</th><th>product_id</th><th>productivity</th><th>Sales</th><th>Sales_Name</th><th>Granularity</th><th>country</th><th>status</th></tr></thead><tbody><tr><td>2025-08-25T00:00:00.000Z</td><td>shop.sony.bpl</td><td>mobile</td><td>wifi-network</td><td>azure / aws / gcc</td><td>9876543</td><td>first_visit</td><td>Not Available</td><td>1</td><td>409516064</td><td>advertisement</td><td>NULL</td><td>NULL</td><td>product_category</td><td>India</td><td>Active</td></tr><tr><td>2025-08-25T00:00:00.000Z</td><td>shop.sony.bpl</td><td>mobile</td><td>wifi-network</td><td>azure / aws / gcc</td><td>9876544</td><td>purchase</td><td>Not Available</td><td>1</td><td>409516064</td><td>advertisement</td><td>NULL</td><td>NULL</td><td>product_category</td><td>India</td><td>Active</td></tr><tr><td>2025-08-25T00:00:00.000Z</td><td>shop.sony.bpl</td><td>mobile</td><td>wifi-network</td><td>azure / aws / gcc</td><td>9876545</td><td>search</td><td>Not Available</td><td>1</td><td>409516064</td><td>advertisement</td><td>NULL</td><td>NULL</td><td>product_category</td><td>India</td><td>Active</td></tr><tr><td>2025-08-25T00:00:00.000Z</td><td>shop.sony.bpl</td><td>mobile</td><td>wifi-network</td><td>azure / aws / gcc</td><td>9876546</td><td>search</td><td>Not Available</td><td>1</td><td>409516064</td><td>advertisement</td><td>NULL</td><td>NULL</td><td>product_category</td><td>India</td><td>Active</td></tr><tr><td>2025-08-25T00:00:00.000Z</td><td>shop.sony.bpl</td><td>mobile</td><td>wifi-network</td><td>azure / aws / gcc</td><td>9876547</td><td>search</td><td>Not Available</td><td>1</td><td>409516064</td><td>advertisement</td><td>NULL</td><td>NULL</td><td>product_category</td><td>India</td><td>Active</td></tr><tr><td>2025-08-25T00:00:00.000Z</td><td>shop.sony.bpl</td><td>mobile</td><td>wifi-network</td><td>azure / aws / gcc</td><td>9876548</td><td>add_to_cart</td><td>Not Available</td><td>1</td><td>409516064</td><td>advertisement</td><td>NULL</td><td>NULL</td><td>product_category</td><td>India</td><td>Active</td></tr><tr><td>2025-08-25T00:00:00.000Z</td><td>shop.sony.bpl</td><td>mobile</td><td>wifi-network</td><td>azure / aws / gcc</td><td>9876549</td><td>add_to_cart</td><td>Not Available</td><td>1</td><td>409516064</td><td>advertisement</td><td>NULL</td><td>NULL</td><td>product_category</td><td>India</td><td>Active</td></tr><tr><td>2025-08-25T00:00:00.000Z</td><td>shop.sony.bpl</td><td>mobile</td><td>wifi-network</td><td>azure / aws / gcc</td><td>9876550</td><td>add_to_cart</td><td>Not Available</td><td>1</td><td>409516064</td><td>advertisement</td><td>NULL</td><td>NULL</td><td>product_category</td><td>India</td><td>Active</td></tr><tr><td>2025-08-25T00:00:00.000Z</td><td>shop.sony.bpl</td><td>mobile</td><td>wifi-network</td><td>azure / aws / gcc</td><td>9876551</td><td>add_to_cart</td><td>Not Available</td><td>1</td><td>409516064</td><td>advertisement</td><td>NULL</td><td>NULL</td><td>product_category</td><td>India</td><td>Active</td></tr><tr><td>2025-08-25T00:00:00.000Z</td><td>shop.sony.bpl</td><td>mobile</td><td>wifi-network</td><td>azure / aws / gcc</td><td>9876552</td><td>add_to_cart</td><td>Not Available</td><td>1</td><td>409516064</td><td>advertisement</td><td>NULL</td><td>NULL</td><td>product_category</td><td>India</td><td>Active</td></tr><tr><td>2025-08-25T00:00:00.000Z</td><td>shop.sony.bpl</td><td>mobile</td><td>wifi-network</td><td>azure / aws / gcc</td><td>9876553</td><td>add_to_cart</td><td>Not Available</td><td>1</td><td>409516064</td><td>advertisement</td><td>NULL</td><td>NULL</td><td>product_category</td><td>India</td><td>Active</td></tr><tr><td>2025-08-25T00:00:00.000Z</td><td>shop.sony.bpl</td><td>mobile</td><td>wifi-network</td><td>azure / aws / gcc</td><td>9876554</td><td>first_visit</td><td>Not Available</td><td>1</td><td>409516064</td><td>advertisement</td><td>NULL</td><td>NULL</td><td>product_category</td><td>India</td><td>Active</td></tr><tr><td>2025-08-25T00:00:00.000Z</td><td>shop.sony.bpl</td><td>mobile</td><td>wifi-network</td><td>azure / aws / gcc</td><td>9876555</td><td>purchase</td><td>Not Available</td><td>1</td><td>409516064</td><td>advertisement</td><td>NULL</td><td>NULL</td><td>product_category</td><td>India</td><td>Active</td></tr><tr><td>2025-08-25T00:00:00.000Z</td><td>shop.sony.bpl</td><td>mobile</td><td>wifi-network</td><td>azure / aws / gcc</td><td>9876556</td><td>purchase</td><td>Not Available</td><td>1</td><td>409516064</td><td>advertisement</td><td>NULL</td><td>NULL</td><td>product_category</td><td>India</td><td>Active</td></tr><tr><td>2025-08-25T00:00:00.000Z</td><td>shop.sony.bpl</td><td>mobile</td><td>wifi-network</td><td>azure / aws / gcc</td><td>9876557</td><td>purchase</td><td>Checkout</td><td>1</td><td>409516064</td><td>advertisement</td><td>NULL</td><td>NULL</td><td>product_category</td><td>India</td><td>Active</td></tr><tr><td>2025-08-25T00:00:00.000Z</td><td>shop.sony.bpl</td><td>mobile</td><td>wifi-network</td><td>azure / aws / gcc</td><td>9876558</td><td>purchase</td><td>Checkout</td><td>1</td><td>409516064</td><td>advertisement</td><td>NULL</td><td>NULL</td><td>product_category</td><td>India</td><td>Active</td></tr><tr><td>2025-08-25T00:00:00.000Z</td><td>shop.sony.bpl</td><td>mobile</td><td>wifi-network</td><td>azure / aws / gcc</td><td>9876559</td><td>purchase</td><td>Checkout</td><td>1</td><td>409516064</td><td>advertisement</td><td>NULL</td><td>NULL</td><td>product_category</td><td>India</td><td>Active</td></tr><tr><td>2025-08-25T00:00:00.000Z</td><td>shop.sony.bpl</td><td>mobile</td><td>wifi-network</td><td>azure / aws / gcc</td><td>9876560</td><td>purchase</td><td>Checkout</td><td>1</td><td>409516064</td><td>advertisement</td><td>NULL</td><td>NULL</td><td>product_category</td><td>India</td><td>Active</td></tr><tr><td>2025-08-25T00:00:00.000Z</td><td>shop.sony.bpl</td><td>mobile</td><td>wifi-network</td><td>azure / aws / gcc</td><td>9876561</td><td>purchase</td><td>Checkout</td><td>1</td><td>409516064</td><td>advertisement</td><td>NULL</td><td>NULL</td><td>product_category</td><td>India</td><td>Active</td></tr><tr><td>2025-08-25T00:00:00.000Z</td><td>shop.sony.bpl</td><td>mobile</td><td>wifi-network</td><td>azure / aws / gcc</td><td>9876562</td><td>purchase</td><td>Checkout</td><td>1</td><td>409516064</td><td>advertisement</td><td>NULL</td><td>NULL</td><td>product_category</td><td>India</td><td>Active</td></tr><tr><td>2025-08-25T00:00:00.000Z</td><td>shop.sony.bpl</td><td>mobile</td><td>wifi-network</td><td>azure / aws / gcc</td><td>9876563</td><td>purchase</td><td>Checkout</td><td>1</td><td>409516064</td><td>advertisement</td><td>NULL</td><td>NULL</td><td>product_category</td><td>India</td><td>Active</td></tr><tr><td>2025-08-25T00:00:00.000Z</td><td>shop.sony.bpl</td><td>mobile</td><td>wifi-network</td><td>azure / aws / gcc</td><td>9876564</td><td>first_visit</td><td>Checkout</td><td>1</td><td>409516064</td><td>advertisement</td><td>NULL</td><td>NULL</td><td>product_category</td><td>India</td><td>Active</td></tr><tr><td>2025-08-25T00:00:00.000Z</td><td>shop.sony.bpl</td><td>mobile</td><td>wifi-network</td><td>azure / aws / gcc</td><td>9876565</td><td>first_visit</td><td>Checkout</td><td>1</td><td>409516064</td><td>advertisement</td><td>NULL</td><td>NULL</td><td>product_category</td><td>India</td><td>Active</td></tr><tr><td>2025-08-25T00:00:00.000Z</td><td>shop.sony.bpl</td><td>mobile</td><td>wifi-network</td><td>azure / aws / gcc</td><td>9876566</td><td>first_visit</td><td>Checkout</td><td>1</td><td>409516064</td><td>advertisement</td><td>NULL</td><td>NULL</td><td>product_category</td><td>India</td><td>Active</td></tr><tr><td>2025-08-25T00:00:00.000Z</td><td>shop.sony.bpl</td><td>mobile</td><td>wifi-network</td><td>azure / aws / gcc</td><td>9876567</td><td>first_visit</td><td>Checkout</td><td>1</td><td>409516064</td><td>advertisement</td><td>NULL</td><td>NULL</td><td>product_category</td><td>India</td><td>Active</td></tr></tbody></table></div>"
      ]
     },
     "metadata": {
      "application/vnd.databricks.v1+output": {
       "addedWidgets": {},
       "aggData": [],
       "aggError": "",
       "aggOverflow": false,
       "aggSchema": [],
       "aggSeriesLimitReached": false,
       "aggType": "",
       "arguments": {},
       "columnCustomDisplayInfos": {},
       "data": [
        [
         "2025-08-25T00:00:00.000Z",
         "shop.sony.bpl",
         "mobile",
         "wifi-network",
         "azure / aws / gcc",
         9876543,
         "first_visit",
         "Not Available",
         1,
         409516064,
         "advertisement",
         "NULL",
         "NULL",
         "product_category",
         "India",
         "Active"
        ],
        [
         "2025-08-25T00:00:00.000Z",
         "shop.sony.bpl",
         "mobile",
         "wifi-network",
         "azure / aws / gcc",
         9876544,
         "purchase",
         "Not Available",
         1,
         409516064,
         "advertisement",
         "NULL",
         "NULL",
         "product_category",
         "India",
         "Active"
        ],
        [
         "2025-08-25T00:00:00.000Z",
         "shop.sony.bpl",
         "mobile",
         "wifi-network",
         "azure / aws / gcc",
         9876545,
         "search",
         "Not Available",
         1,
         409516064,
         "advertisement",
         "NULL",
         "NULL",
         "product_category",
         "India",
         "Active"
        ],
        [
         "2025-08-25T00:00:00.000Z",
         "shop.sony.bpl",
         "mobile",
         "wifi-network",
         "azure / aws / gcc",
         9876546,
         "search",
         "Not Available",
         1,
         409516064,
         "advertisement",
         "NULL",
         "NULL",
         "product_category",
         "India",
         "Active"
        ],
        [
         "2025-08-25T00:00:00.000Z",
         "shop.sony.bpl",
         "mobile",
         "wifi-network",
         "azure / aws / gcc",
         9876547,
         "search",
         "Not Available",
         1,
         409516064,
         "advertisement",
         "NULL",
         "NULL",
         "product_category",
         "India",
         "Active"
        ],
        [
         "2025-08-25T00:00:00.000Z",
         "shop.sony.bpl",
         "mobile",
         "wifi-network",
         "azure / aws / gcc",
         9876548,
         "add_to_cart",
         "Not Available",
         1,
         409516064,
         "advertisement",
         "NULL",
         "NULL",
         "product_category",
         "India",
         "Active"
        ],
        [
         "2025-08-25T00:00:00.000Z",
         "shop.sony.bpl",
         "mobile",
         "wifi-network",
         "azure / aws / gcc",
         9876549,
         "add_to_cart",
         "Not Available",
         1,
         409516064,
         "advertisement",
         "NULL",
         "NULL",
         "product_category",
         "India",
         "Active"
        ],
        [
         "2025-08-25T00:00:00.000Z",
         "shop.sony.bpl",
         "mobile",
         "wifi-network",
         "azure / aws / gcc",
         9876550,
         "add_to_cart",
         "Not Available",
         1,
         409516064,
         "advertisement",
         "NULL",
         "NULL",
         "product_category",
         "India",
         "Active"
        ],
        [
         "2025-08-25T00:00:00.000Z",
         "shop.sony.bpl",
         "mobile",
         "wifi-network",
         "azure / aws / gcc",
         9876551,
         "add_to_cart",
         "Not Available",
         1,
         409516064,
         "advertisement",
         "NULL",
         "NULL",
         "product_category",
         "India",
         "Active"
        ],
        [
         "2025-08-25T00:00:00.000Z",
         "shop.sony.bpl",
         "mobile",
         "wifi-network",
         "azure / aws / gcc",
         9876552,
         "add_to_cart",
         "Not Available",
         1,
         409516064,
         "advertisement",
         "NULL",
         "NULL",
         "product_category",
         "India",
         "Active"
        ],
        [
         "2025-08-25T00:00:00.000Z",
         "shop.sony.bpl",
         "mobile",
         "wifi-network",
         "azure / aws / gcc",
         9876553,
         "add_to_cart",
         "Not Available",
         1,
         409516064,
         "advertisement",
         "NULL",
         "NULL",
         "product_category",
         "India",
         "Active"
        ],
        [
         "2025-08-25T00:00:00.000Z",
         "shop.sony.bpl",
         "mobile",
         "wifi-network",
         "azure / aws / gcc",
         9876554,
         "first_visit",
         "Not Available",
         1,
         409516064,
         "advertisement",
         "NULL",
         "NULL",
         "product_category",
         "India",
         "Active"
        ],
        [
         "2025-08-25T00:00:00.000Z",
         "shop.sony.bpl",
         "mobile",
         "wifi-network",
         "azure / aws / gcc",
         9876555,
         "purchase",
         "Not Available",
         1,
         409516064,
         "advertisement",
         "NULL",
         "NULL",
         "product_category",
         "India",
         "Active"
        ],
        [
         "2025-08-25T00:00:00.000Z",
         "shop.sony.bpl",
         "mobile",
         "wifi-network",
         "azure / aws / gcc",
         9876556,
         "purchase",
         "Not Available",
         1,
         409516064,
         "advertisement",
         "NULL",
         "NULL",
         "product_category",
         "India",
         "Active"
        ],
        [
         "2025-08-25T00:00:00.000Z",
         "shop.sony.bpl",
         "mobile",
         "wifi-network",
         "azure / aws / gcc",
         9876557,
         "purchase",
         "Checkout",
         1,
         409516064,
         "advertisement",
         "NULL",
         "NULL",
         "product_category",
         "India",
         "Active"
        ],
        [
         "2025-08-25T00:00:00.000Z",
         "shop.sony.bpl",
         "mobile",
         "wifi-network",
         "azure / aws / gcc",
         9876558,
         "purchase",
         "Checkout",
         1,
         409516064,
         "advertisement",
         "NULL",
         "NULL",
         "product_category",
         "India",
         "Active"
        ],
        [
         "2025-08-25T00:00:00.000Z",
         "shop.sony.bpl",
         "mobile",
         "wifi-network",
         "azure / aws / gcc",
         9876559,
         "purchase",
         "Checkout",
         1,
         409516064,
         "advertisement",
         "NULL",
         "NULL",
         "product_category",
         "India",
         "Active"
        ],
        [
         "2025-08-25T00:00:00.000Z",
         "shop.sony.bpl",
         "mobile",
         "wifi-network",
         "azure / aws / gcc",
         9876560,
         "purchase",
         "Checkout",
         1,
         409516064,
         "advertisement",
         "NULL",
         "NULL",
         "product_category",
         "India",
         "Active"
        ],
        [
         "2025-08-25T00:00:00.000Z",
         "shop.sony.bpl",
         "mobile",
         "wifi-network",
         "azure / aws / gcc",
         9876561,
         "purchase",
         "Checkout",
         1,
         409516064,
         "advertisement",
         "NULL",
         "NULL",
         "product_category",
         "India",
         "Active"
        ],
        [
         "2025-08-25T00:00:00.000Z",
         "shop.sony.bpl",
         "mobile",
         "wifi-network",
         "azure / aws / gcc",
         9876562,
         "purchase",
         "Checkout",
         1,
         409516064,
         "advertisement",
         "NULL",
         "NULL",
         "product_category",
         "India",
         "Active"
        ],
        [
         "2025-08-25T00:00:00.000Z",
         "shop.sony.bpl",
         "mobile",
         "wifi-network",
         "azure / aws / gcc",
         9876563,
         "purchase",
         "Checkout",
         1,
         409516064,
         "advertisement",
         "NULL",
         "NULL",
         "product_category",
         "India",
         "Active"
        ],
        [
         "2025-08-25T00:00:00.000Z",
         "shop.sony.bpl",
         "mobile",
         "wifi-network",
         "azure / aws / gcc",
         9876564,
         "first_visit",
         "Checkout",
         1,
         409516064,
         "advertisement",
         "NULL",
         "NULL",
         "product_category",
         "India",
         "Active"
        ],
        [
         "2025-08-25T00:00:00.000Z",
         "shop.sony.bpl",
         "mobile",
         "wifi-network",
         "azure / aws / gcc",
         9876565,
         "first_visit",
         "Checkout",
         1,
         409516064,
         "advertisement",
         "NULL",
         "NULL",
         "product_category",
         "India",
         "Active"
        ],
        [
         "2025-08-25T00:00:00.000Z",
         "shop.sony.bpl",
         "mobile",
         "wifi-network",
         "azure / aws / gcc",
         9876566,
         "first_visit",
         "Checkout",
         1,
         409516064,
         "advertisement",
         "NULL",
         "NULL",
         "product_category",
         "India",
         "Active"
        ],
        [
         "2025-08-25T00:00:00.000Z",
         "shop.sony.bpl",
         "mobile",
         "wifi-network",
         "azure / aws / gcc",
         9876567,
         "first_visit",
         "Checkout",
         1,
         409516064,
         "advertisement",
         "NULL",
         "NULL",
         "product_category",
         "India",
         "Active"
        ]
       ],
       "datasetInfos": [],
       "dbfsResultPath": null,
       "isJsonSchema": true,
       "metadata": {},
       "overflow": false,
       "plotOptions": {
        "customPlotOptions": {},
        "displayType": "table",
        "pivotAggregation": null,
        "pivotColumns": null,
        "xColumns": null,
        "yColumns": null
       },
       "removedWidgets": [],
       "schema": [
        {
         "metadata": "{}",
         "name": "start_date",
         "type": "\"timestamp\""
        },
        {
         "metadata": "{}",
         "name": "product_url",
         "type": "\"string\""
        },
        {
         "metadata": "{}",
         "name": "category",
         "type": "\"string\""
        },
        {
         "metadata": "{}",
         "name": "default_group",
         "type": "\"string\""
        },
        {
         "metadata": "{}",
         "name": "cloud_flatform",
         "type": "\"string\""
        },
        {
         "metadata": "{}",
         "name": "session_id",
         "type": "\"integer\""
        },
        {
         "metadata": "{}",
         "name": "session_name",
         "type": "\"string\""
        },
        {
         "metadata": "{}",
         "name": "session_type",
         "type": "\"string\""
        },
        {
         "metadata": "{}",
         "name": "sessions",
         "type": "\"integer\""
        },
        {
         "metadata": "{}",
         "name": "product_id",
         "type": "\"integer\""
        },
        {
         "metadata": "{}",
         "name": "productivity",
         "type": "\"string\""
        },
        {
         "metadata": "{}",
         "name": "Sales",
         "type": "\"string\""
        },
        {
         "metadata": "{}",
         "name": "Sales_Name",
         "type": "\"string\""
        },
        {
         "metadata": "{}",
         "name": "Granularity",
         "type": "\"string\""
        },
        {
         "metadata": "{}",
         "name": "country",
         "type": "\"string\""
        },
        {
         "metadata": "{}",
         "name": "status",
         "type": "\"string\""
        }
       ],
       "type": "table"
      }
     },
     "output_type": "display_data"
    }
   ],
   "source": [
    "dic_add_cols = {\"productivity\": \"advertisement\", \"Sales\": \"NULL\", \"Sales_Name\": \"NULL\", \"Granularity\": \"product_category\", \"country\": \"India\", \"status\": \"Active\"}\n",
    "\n",
    "df_ts_adv = add_col(df_ts, dic_add_cols)\n",
    "display(df_ts_adv.limit(25))"
   ]
  },
  {
   "cell_type": "markdown",
   "metadata": {
    "application/vnd.databricks.v1+cell": {
     "cellMetadata": {},
     "inputWidgets": {},
     "nuid": "48417f19-9d5b-4525-b047-d04b32cc3ab9",
     "showTitle": false,
     "tableResultSettingsMap": {},
     "title": ""
    }
   },
   "source": [
    "**2) Add columns from a dictionary of expressions**\n",
    "- If your dictionary maps new column names to transformations"
   ]
  },
  {
   "cell_type": "code",
   "execution_count": 0,
   "metadata": {
    "application/vnd.databricks.v1+cell": {
     "cellMetadata": {
      "byteLimit": 2048000,
      "rowLimit": 10000
     },
     "inputWidgets": {},
     "nuid": "363dbace-c2d6-4037-afeb-5668f5199d07",
     "showTitle": false,
     "tableResultSettingsMap": {
      "0": {
       "dataGridStateBlob": "{\"version\":1,\"tableState\":{\"columnPinning\":{\"left\":[\"#row_number#\"],\"right\":[]},\"columnSizing\":{},\"columnVisibility\":{}},\"settings\":{\"columns\":{}},\"syncTimestamp\":1758994445436}",
       "filterBlob": null,
       "queryPlanFiltersBlob": null,
       "tableResultIndex": 0
      }
     },
     "title": ""
    }
   },
   "outputs": [
    {
     "output_type": "display_data",
     "data": {
      "text/html": [
       "<style scoped>\n",
       "  .table-result-container {\n",
       "    max-height: 300px;\n",
       "    overflow: auto;\n",
       "  }\n",
       "  table, th, td {\n",
       "    border: 1px solid black;\n",
       "    border-collapse: collapse;\n",
       "  }\n",
       "  th, td {\n",
       "    padding: 5px;\n",
       "  }\n",
       "  th {\n",
       "    text-align: left;\n",
       "  }\n",
       "</style><div class='table-result-container'><table class='table-result'><thead style='background-color: white'><tr><th>id</th><th>name</th><th>sales</th><th>country</th><th>status</th></tr></thead><tbody><tr><td>1</td><td>Roja</td><td>3</td><td>India</td><td>Active</td></tr><tr><td>2</td><td>Bibin</td><td>4</td><td>India</td><td>Active</td></tr><tr><td>3</td><td>Rajesh</td><td>5</td><td>India</td><td>Active</td></tr><tr><td>4</td><td>Priya</td><td>6</td><td>India</td><td>Active</td></tr><tr><td>5</td><td>Mohan</td><td>9</td><td>India</td><td>Active</td></tr></tbody></table></div>"
      ]
     },
     "metadata": {
      "application/vnd.databricks.v1+output": {
       "addedWidgets": {},
       "aggData": [],
       "aggError": "",
       "aggOverflow": false,
       "aggSchema": [],
       "aggSeriesLimitReached": false,
       "aggType": "",
       "arguments": {},
       "columnCustomDisplayInfos": {},
       "data": [
        [
         1,
         "Roja",
         3,
         "India",
         "Active"
        ],
        [
         2,
         "Bibin",
         4,
         "India",
         "Active"
        ],
        [
         3,
         "Rajesh",
         5,
         "India",
         "Active"
        ],
        [
         4,
         "Priya",
         6,
         "India",
         "Active"
        ],
        [
         5,
         "Mohan",
         9,
         "India",
         "Active"
        ]
       ],
       "datasetInfos": [],
       "dbfsResultPath": null,
       "isJsonSchema": true,
       "metadata": {},
       "overflow": false,
       "plotOptions": {
        "customPlotOptions": {},
        "displayType": "table",
        "pivotAggregation": null,
        "pivotColumns": null,
        "xColumns": null,
        "yColumns": null
       },
       "removedWidgets": [],
       "schema": [
        {
         "metadata": "{}",
         "name": "id",
         "type": "\"long\""
        },
        {
         "metadata": "{}",
         "name": "name",
         "type": "\"string\""
        },
        {
         "metadata": "{}",
         "name": "sales",
         "type": "\"long\""
        },
        {
         "metadata": "{}",
         "name": "country",
         "type": "\"string\""
        },
        {
         "metadata": "{}",
         "name": "status",
         "type": "\"string\""
        }
       ],
       "type": "table"
      }
     },
     "output_type": "display_data"
    }
   ],
   "source": [
    "# Example DataFrame\n",
    "df_exp = spark.createDataFrame([(1, \"Roja\", 3),\n",
    "                                (2, \"Bibin\", 4),\n",
    "                                (3, \"Rajesh\", 5),\n",
    "                                (4, \"Priya\", 6),\n",
    "                                (5, \"Mohan\", 9),],\n",
    "                               [\"id\", \"name\", \"sales\"])\n",
    "\n",
    "# Dictionary: new column names -> constant values\n",
    "col_dict = {\"country\": \"India\", \"status\": \"Active\"}\n",
    "\n",
    "df_dict = df_exp\n",
    "for col, val in col_dict.items():\n",
    "    df_dict = df_dict.withColumn(col, F.lit(val))\n",
    "\n",
    "display(df_dict)"
   ]
  },
  {
   "cell_type": "code",
   "execution_count": 0,
   "metadata": {
    "application/vnd.databricks.v1+cell": {
     "cellMetadata": {
      "byteLimit": 2048000,
      "rowLimit": 10000
     },
     "inputWidgets": {},
     "nuid": "14e33ff2-0033-4a77-af20-c2383d522bf4",
     "showTitle": false,
     "tableResultSettingsMap": {
      "0": {
       "dataGridStateBlob": "{\"version\":1,\"tableState\":{\"columnPinning\":{\"left\":[\"#row_number#\"],\"right\":[]},\"columnSizing\":{},\"columnVisibility\":{}},\"settings\":{\"columns\":{}},\"syncTimestamp\":1758994470729}",
       "filterBlob": null,
       "queryPlanFiltersBlob": null,
       "tableResultIndex": 0
      }
     },
     "title": ""
    }
   },
   "outputs": [
    {
     "output_type": "display_data",
     "data": {
      "text/html": [
       "<style scoped>\n",
       "  .table-result-container {\n",
       "    max-height: 300px;\n",
       "    overflow: auto;\n",
       "  }\n",
       "  table, th, td {\n",
       "    border: 1px solid black;\n",
       "    border-collapse: collapse;\n",
       "  }\n",
       "  th, td {\n",
       "    padding: 5px;\n",
       "  }\n",
       "  th {\n",
       "    text-align: left;\n",
       "  }\n",
       "</style><div class='table-result-container'><table class='table-result'><thead style='background-color: white'><tr><th>id</th><th>name</th><th>sales</th><th>name_upper</th><th>sales_squared</th><th>id_plus_10</th><th>constant_val</th><th>name_length</th></tr></thead><tbody><tr><td>1</td><td>Roja</td><td>3</td><td>ROJA</td><td>1.0</td><td>11</td><td>50</td><td>4</td></tr><tr><td>2</td><td>Bibin</td><td>4</td><td>BIBIN</td><td>4.0</td><td>12</td><td>50</td><td>5</td></tr><tr><td>3</td><td>Rajesh</td><td>5</td><td>RAJESH</td><td>9.0</td><td>13</td><td>50</td><td>6</td></tr><tr><td>4</td><td>Priya</td><td>6</td><td>PRIYA</td><td>16.0</td><td>14</td><td>50</td><td>5</td></tr><tr><td>5</td><td>Mohan</td><td>9</td><td>MOHAN</td><td>25.0</td><td>15</td><td>50</td><td>5</td></tr></tbody></table></div>"
      ]
     },
     "metadata": {
      "application/vnd.databricks.v1+output": {
       "addedWidgets": {},
       "aggData": [],
       "aggError": "",
       "aggOverflow": false,
       "aggSchema": [],
       "aggSeriesLimitReached": false,
       "aggType": "",
       "arguments": {},
       "columnCustomDisplayInfos": {},
       "data": [
        [
         1,
         "Roja",
         3,
         "ROJA",
         1.0,
         11,
         50,
         4
        ],
        [
         2,
         "Bibin",
         4,
         "BIBIN",
         4.0,
         12,
         50,
         5
        ],
        [
         3,
         "Rajesh",
         5,
         "RAJESH",
         9.0,
         13,
         50,
         6
        ],
        [
         4,
         "Priya",
         6,
         "PRIYA",
         16.0,
         14,
         50,
         5
        ],
        [
         5,
         "Mohan",
         9,
         "MOHAN",
         25.0,
         15,
         50,
         5
        ]
       ],
       "datasetInfos": [],
       "dbfsResultPath": null,
       "isJsonSchema": true,
       "metadata": {},
       "overflow": false,
       "plotOptions": {
        "customPlotOptions": {},
        "displayType": "table",
        "pivotAggregation": null,
        "pivotColumns": null,
        "xColumns": null,
        "yColumns": null
       },
       "removedWidgets": [],
       "schema": [
        {
         "metadata": "{}",
         "name": "id",
         "type": "\"long\""
        },
        {
         "metadata": "{}",
         "name": "name",
         "type": "\"string\""
        },
        {
         "metadata": "{}",
         "name": "sales",
         "type": "\"long\""
        },
        {
         "metadata": "{}",
         "name": "name_upper",
         "type": "\"string\""
        },
        {
         "metadata": "{}",
         "name": "sales_squared",
         "type": "\"double\""
        },
        {
         "metadata": "{}",
         "name": "id_plus_10",
         "type": "\"long\""
        },
        {
         "metadata": "{}",
         "name": "constant_val",
         "type": "\"integer\""
        },
        {
         "metadata": "{}",
         "name": "name_length",
         "type": "\"integer\""
        }
       ],
       "type": "table"
      }
     },
     "output_type": "display_data"
    }
   ],
   "source": [
    "expr_dict = {\n",
    "    \"name_upper\": F.upper(F.col(\"name\")),\n",
    "    \"sales_squared\": (F.col(\"id\") ** 2),\n",
    "    \"id_plus_10\": F.col(\"id\") + 10,\n",
    "    \"constant_val\": F.lit(50),\n",
    "    \"name_length\": F.length(F.col(\"name\"))\n",
    "}\n",
    "\n",
    "df_dict_expr = df_exp\n",
    "\n",
    "for col, expr in expr_dict.items():\n",
    "    df_dict_expr = df_dict_expr.withColumn(col, expr)\n",
    "\n",
    "display(df_dict_expr)"
   ]
  },
  {
   "cell_type": "markdown",
   "metadata": {
    "application/vnd.databricks.v1+cell": {
     "cellMetadata": {},
     "inputWidgets": {},
     "nuid": "66e1925a-16fb-442c-be9d-f275dd2e83eb",
     "showTitle": false,
     "tableResultSettingsMap": {},
     "title": ""
    }
   },
   "source": [
    "**3) Add columns from a dictionary of different datatypes**"
   ]
  },
  {
   "cell_type": "code",
   "execution_count": 0,
   "metadata": {
    "application/vnd.databricks.v1+cell": {
     "cellMetadata": {
      "byteLimit": 2048000,
      "rowLimit": 10000
     },
     "inputWidgets": {},
     "nuid": "8257b878-1903-4043-9cba-a70f438e4e0a",
     "showTitle": false,
     "tableResultSettingsMap": {
      "0": {
       "dataGridStateBlob": "{\"version\":1,\"tableState\":{\"columnPinning\":{\"left\":[\"#row_number#\"],\"right\":[]},\"columnSizing\":{},\"columnVisibility\":{}},\"settings\":{\"columns\":{}},\"syncTimestamp\":1758994812041}",
       "filterBlob": null,
       "queryPlanFiltersBlob": null,
       "tableResultIndex": 0
      }
     },
     "title": ""
    }
   },
   "outputs": [
    {
     "output_type": "display_data",
     "data": {
      "text/html": [
       "<style scoped>\n",
       "  .table-result-container {\n",
       "    max-height: 300px;\n",
       "    overflow: auto;\n",
       "  }\n",
       "  table, th, td {\n",
       "    border: 1px solid black;\n",
       "    border-collapse: collapse;\n",
       "  }\n",
       "  th, td {\n",
       "    padding: 5px;\n",
       "  }\n",
       "  th {\n",
       "    text-align: left;\n",
       "  }\n",
       "</style><div class='table-result-container'><table class='table-result'><thead style='background-color: white'><tr><th>id</th><th>name</th><th>sales</th><th>name_upper</th><th>sales_squared</th><th>id_plus_10</th><th>is_valid</th><th>score</th></tr></thead><tbody><tr><td>1</td><td>Roja</td><td>3</td><td>ROJA</td><td>1.0</td><td>11</td><td>true</td><td>95.5</td></tr><tr><td>2</td><td>Bibin</td><td>4</td><td>BIBIN</td><td>4.0</td><td>12</td><td>true</td><td>95.5</td></tr><tr><td>3</td><td>Rajesh</td><td>5</td><td>RAJESH</td><td>9.0</td><td>13</td><td>true</td><td>95.5</td></tr><tr><td>4</td><td>Priya</td><td>6</td><td>PRIYA</td><td>16.0</td><td>14</td><td>true</td><td>95.5</td></tr><tr><td>5</td><td>Mohan</td><td>9</td><td>MOHAN</td><td>25.0</td><td>15</td><td>true</td><td>95.5</td></tr></tbody></table></div>"
      ]
     },
     "metadata": {
      "application/vnd.databricks.v1+output": {
       "addedWidgets": {},
       "aggData": [],
       "aggError": "",
       "aggOverflow": false,
       "aggSchema": [],
       "aggSeriesLimitReached": false,
       "aggType": "",
       "arguments": {},
       "columnCustomDisplayInfos": {},
       "data": [
        [
         1,
         "Roja",
         3,
         "ROJA",
         1.0,
         11,
         true,
         95.5
        ],
        [
         2,
         "Bibin",
         4,
         "BIBIN",
         4.0,
         12,
         true,
         95.5
        ],
        [
         3,
         "Rajesh",
         5,
         "RAJESH",
         9.0,
         13,
         true,
         95.5
        ],
        [
         4,
         "Priya",
         6,
         "PRIYA",
         16.0,
         14,
         true,
         95.5
        ],
        [
         5,
         "Mohan",
         9,
         "MOHAN",
         25.0,
         15,
         true,
         95.5
        ]
       ],
       "datasetInfos": [],
       "dbfsResultPath": null,
       "isJsonSchema": true,
       "metadata": {},
       "overflow": false,
       "plotOptions": {
        "customPlotOptions": {},
        "displayType": "table",
        "pivotAggregation": null,
        "pivotColumns": null,
        "xColumns": null,
        "yColumns": null
       },
       "removedWidgets": [],
       "schema": [
        {
         "metadata": "{}",
         "name": "id",
         "type": "\"long\""
        },
        {
         "metadata": "{}",
         "name": "name",
         "type": "\"string\""
        },
        {
         "metadata": "{}",
         "name": "sales",
         "type": "\"long\""
        },
        {
         "metadata": "{}",
         "name": "name_upper",
         "type": "\"string\""
        },
        {
         "metadata": "{}",
         "name": "sales_squared",
         "type": "\"double\""
        },
        {
         "metadata": "{}",
         "name": "id_plus_10",
         "type": "\"long\""
        },
        {
         "metadata": "{}",
         "name": "is_valid",
         "type": "\"boolean\""
        },
        {
         "metadata": "{}",
         "name": "score",
         "type": "\"double\""
        }
       ],
       "type": "table"
      }
     },
     "output_type": "display_data"
    },
    {
     "output_type": "stream",
     "name": "stdout",
     "output_type": "stream",
     "text": [
      "root\n |-- id: long (nullable = true)\n |-- name: string (nullable = true)\n |-- sales: long (nullable = true)\n |-- name_upper: string (nullable = true)\n |-- sales_squared: double (nullable = true)\n |-- id_plus_10: long (nullable = true)\n |-- is_valid: boolean (nullable = false)\n |-- score: double (nullable = false)\n\n"
     ]
    }
   ],
   "source": [
    "col_dict = {\"is_valid\": True, \"score\": 95.5}\n",
    "\n",
    "df_dtypes = df_dict_expr\n",
    "for col, val in col_dict.items():\n",
    "    df_dtypes = df_dtypes.withColumn(col, F.lit(val))\n",
    "\n",
    "display(df_dtypes)\n",
    "df_dtypes.printSchema()"
   ]
  },
  {
   "cell_type": "markdown",
   "metadata": {
    "application/vnd.databricks.v1+cell": {
     "cellMetadata": {},
     "inputWidgets": {},
     "nuid": "e623d10a-d7eb-429f-b8d7-49c05a89172e",
     "showTitle": false,
     "tableResultSettingsMap": {},
     "title": ""
    }
   },
   "source": [
    "**4) Adding Multiple New Columns from a Dictionary**"
   ]
  },
  {
   "cell_type": "code",
   "execution_count": 0,
   "metadata": {
    "application/vnd.databricks.v1+cell": {
     "cellMetadata": {
      "byteLimit": 2048000,
      "rowLimit": 10000
     },
     "inputWidgets": {},
     "nuid": "a6b06b2c-2cfb-4107-8844-adfe69928db4",
     "showTitle": false,
     "tableResultSettingsMap": {},
     "title": ""
    }
   },
   "outputs": [
    {
     "output_type": "display_data",
     "data": {
      "text/html": [
       "<style scoped>\n",
       "  .table-result-container {\n",
       "    max-height: 300px;\n",
       "    overflow: auto;\n",
       "  }\n",
       "  table, th, td {\n",
       "    border: 1px solid black;\n",
       "    border-collapse: collapse;\n",
       "  }\n",
       "  th, td {\n",
       "    padding: 5px;\n",
       "  }\n",
       "  th {\n",
       "    text-align: left;\n",
       "  }\n",
       "</style><div class='table-result-container'><table class='table-result'><thead style='background-color: white'><tr><th>id</th><th>name</th><th>sales</th><th>country</th><th>status</th><th>city</th></tr></thead><tbody><tr><td>1</td><td>Roja</td><td>3</td><td>USA</td><td>Active</td><td>New York</td></tr><tr><td>2</td><td>Bibin</td><td>4</td><td>USA</td><td>Active</td><td>New York</td></tr><tr><td>3</td><td>Rajesh</td><td>5</td><td>USA</td><td>Active</td><td>New York</td></tr><tr><td>4</td><td>Priya</td><td>6</td><td>USA</td><td>Active</td><td>New York</td></tr><tr><td>5</td><td>Mohan</td><td>9</td><td>USA</td><td>Active</td><td>New York</td></tr></tbody></table></div>"
      ]
     },
     "metadata": {
      "application/vnd.databricks.v1+output": {
       "addedWidgets": {},
       "aggData": [],
       "aggError": "",
       "aggOverflow": false,
       "aggSchema": [],
       "aggSeriesLimitReached": false,
       "aggType": "",
       "arguments": {},
       "columnCustomDisplayInfos": {},
       "data": [
        [
         1,
         "Roja",
         3,
         "USA",
         "Active",
         "New York"
        ],
        [
         2,
         "Bibin",
         4,
         "USA",
         "Active",
         "New York"
        ],
        [
         3,
         "Rajesh",
         5,
         "USA",
         "Active",
         "New York"
        ],
        [
         4,
         "Priya",
         6,
         "USA",
         "Active",
         "New York"
        ],
        [
         5,
         "Mohan",
         9,
         "USA",
         "Active",
         "New York"
        ]
       ],
       "datasetInfos": [],
       "dbfsResultPath": null,
       "isJsonSchema": true,
       "metadata": {},
       "overflow": false,
       "plotOptions": {
        "customPlotOptions": {},
        "displayType": "table",
        "pivotAggregation": null,
        "pivotColumns": null,
        "xColumns": null,
        "yColumns": null
       },
       "removedWidgets": [],
       "schema": [
        {
         "metadata": "{}",
         "name": "id",
         "type": "\"long\""
        },
        {
         "metadata": "{}",
         "name": "name",
         "type": "\"string\""
        },
        {
         "metadata": "{}",
         "name": "sales",
         "type": "\"long\""
        },
        {
         "metadata": "{}",
         "name": "country",
         "type": "\"string\""
        },
        {
         "metadata": "{}",
         "name": "status",
         "type": "\"string\""
        },
        {
         "metadata": "{}",
         "name": "city",
         "type": "\"string\""
        }
       ],
       "type": "table"
      }
     },
     "output_type": "display_data"
    }
   ],
   "source": [
    "# Dictionary containing new column names and their literal values\n",
    "new_columns_dict = {\"city\": \"New York\", \"country\": \"USA\"}\n",
    "\n",
    "# Add multiple columns using withColumns()\n",
    "df_with_new_cols = df.withColumns(\n",
    "    {col_name: lit(value) for col_name, value in new_columns_dict.items()}\n",
    ")\n",
    "\n",
    "display(df_with_new_cols)"
   ]
  },
  {
   "cell_type": "markdown",
   "metadata": {
    "application/vnd.databricks.v1+cell": {
     "cellMetadata": {},
     "inputWidgets": {},
     "nuid": "1178fa0c-dc07-47a4-803a-b9dd9ec568b8",
     "showTitle": false,
     "tableResultSettingsMap": {},
     "title": ""
    }
   },
   "source": [
    "**5) Using select + dictionary unpacking (one-shot)**"
   ]
  },
  {
   "cell_type": "code",
   "execution_count": 0,
   "metadata": {
    "application/vnd.databricks.v1+cell": {
     "cellMetadata": {
      "byteLimit": 2048000,
      "rowLimit": 10000
     },
     "inputWidgets": {},
     "nuid": "d2737304-1ca7-45e1-8274-b1e967b0564b",
     "showTitle": false,
     "tableResultSettingsMap": {
      "0": {
       "dataGridStateBlob": "{\"version\":1,\"tableState\":{\"columnPinning\":{\"left\":[\"#row_number#\"],\"right\":[]},\"columnSizing\":{},\"columnVisibility\":{}},\"settings\":{\"columns\":{}},\"syncTimestamp\":1758994615805}",
       "filterBlob": null,
       "queryPlanFiltersBlob": null,
       "tableResultIndex": 0
      }
     },
     "title": ""
    }
   },
   "outputs": [
    {
     "output_type": "display_data",
     "data": {
      "text/html": [
       "<style scoped>\n",
       "  .table-result-container {\n",
       "    max-height: 300px;\n",
       "    overflow: auto;\n",
       "  }\n",
       "  table, th, td {\n",
       "    border: 1px solid black;\n",
       "    border-collapse: collapse;\n",
       "  }\n",
       "  th, td {\n",
       "    padding: 5px;\n",
       "  }\n",
       "  th {\n",
       "    text-align: left;\n",
       "  }\n",
       "</style><div class='table-result-container'><table class='table-result'><thead style='background-color: white'><tr><th>id</th><th>name</th><th>sales</th><th>country</th><th>status</th><th>is_valid</th><th>score</th></tr></thead><tbody><tr><td>1</td><td>Roja</td><td>3</td><td>India</td><td>Active</td><td>true</td><td>95.5</td></tr><tr><td>2</td><td>Bibin</td><td>4</td><td>India</td><td>Active</td><td>true</td><td>95.5</td></tr><tr><td>3</td><td>Rajesh</td><td>5</td><td>India</td><td>Active</td><td>true</td><td>95.5</td></tr><tr><td>4</td><td>Priya</td><td>6</td><td>India</td><td>Active</td><td>true</td><td>95.5</td></tr><tr><td>5</td><td>Mohan</td><td>9</td><td>India</td><td>Active</td><td>true</td><td>95.5</td></tr></tbody></table></div>"
      ]
     },
     "metadata": {
      "application/vnd.databricks.v1+output": {
       "addedWidgets": {},
       "aggData": [],
       "aggError": "",
       "aggOverflow": false,
       "aggSchema": [],
       "aggSeriesLimitReached": false,
       "aggType": "",
       "arguments": {},
       "columnCustomDisplayInfos": {},
       "data": [
        [
         1,
         "Roja",
         3,
         "India",
         "Active",
         true,
         95.5
        ],
        [
         2,
         "Bibin",
         4,
         "India",
         "Active",
         true,
         95.5
        ],
        [
         3,
         "Rajesh",
         5,
         "India",
         "Active",
         true,
         95.5
        ],
        [
         4,
         "Priya",
         6,
         "India",
         "Active",
         true,
         95.5
        ],
        [
         5,
         "Mohan",
         9,
         "India",
         "Active",
         true,
         95.5
        ]
       ],
       "datasetInfos": [],
       "dbfsResultPath": null,
       "isJsonSchema": true,
       "metadata": {},
       "overflow": false,
       "plotOptions": {
        "customPlotOptions": {},
        "displayType": "table",
        "pivotAggregation": null,
        "pivotColumns": null,
        "xColumns": null,
        "yColumns": null
       },
       "removedWidgets": [],
       "schema": [
        {
         "metadata": "{}",
         "name": "id",
         "type": "\"long\""
        },
        {
         "metadata": "{}",
         "name": "name",
         "type": "\"string\""
        },
        {
         "metadata": "{}",
         "name": "sales",
         "type": "\"long\""
        },
        {
         "metadata": "{}",
         "name": "country",
         "type": "\"string\""
        },
        {
         "metadata": "{}",
         "name": "status",
         "type": "\"string\""
        },
        {
         "metadata": "{}",
         "name": "is_valid",
         "type": "\"boolean\""
        },
        {
         "metadata": "{}",
         "name": "score",
         "type": "\"double\""
        }
       ],
       "type": "table"
      }
     },
     "output_type": "display_data"
    }
   ],
   "source": [
    "df_dict = df.select(\"*\", *[F.lit(v).alias(k) for k, v in col_dict.items()])\n",
    "display(df_dict)"
   ]
  },
  {
   "cell_type": "markdown",
   "metadata": {
    "application/vnd.databricks.v1+cell": {
     "cellMetadata": {},
     "inputWidgets": {},
     "nuid": "6cb3d1db-34a4-45a3-b0f3-1767216395ca",
     "showTitle": false,
     "tableResultSettingsMap": {},
     "title": ""
    }
   },
   "source": [
    "      [F.lit(v).alias(k) for k, v in col_dict.items()]\n",
    "\n",
    "- Loops through each **key, value** pair in the dictionary **col_dict**.\n",
    "- **F.lit(v)** → creates a literal column (constant value for every row).\n",
    "- **.alias(k)** → names that new column with the dictionary key."
   ]
  },
  {
   "cell_type": "markdown",
   "metadata": {
    "application/vnd.databricks.v1+cell": {
     "cellMetadata": {},
     "inputWidgets": {},
     "nuid": "856f2944-33b4-4d9a-9561-f6f57fc60b7b",
     "showTitle": false,
     "tableResultSettingsMap": {},
     "title": ""
    }
   },
   "source": [
    "     col_dict = {\"is_valid\": True, \"score\": 95.5}\n",
    "     [F.lit(\"True\").alias(\"is_valid\"), F.lit(95.5).alias(\"score\")]\n",
    "     \n",
    "     col_dict = {\"country\": \"India\", \"status\": \"Active\"}\n",
    "     [F.lit(\"India\").alias(\"country\"), F.lit(\"Active\").alias(\"status\")]\n",
    "\n",
    "- The * before the **list**\n",
    "  - **Unpacks the list** so each element is passed as a separate argument to select.\n",
    "  - Equivalent to writing:\n",
    "\n",
    "        df.select(\"*\", F.lit(\"India\").alias(\"country\"), F.lit(\"Active\").alias(\"status\"))"
   ]
  }
 ],
 "metadata": {
  "application/vnd.databricks.v1+notebook": {
   "computePreferences": {
    "hardware": {
     "accelerator": null,
     "gpuPoolId": null,
     "memory": null
    }
   },
   "dashboards": [],
   "environmentMetadata": {
    "base_environment": "",
    "environment_version": "3"
   },
   "inputWidgetPreferences": null,
   "language": "python",
   "notebookMetadata": {
    "pythonIndentUnit": 4
   },
   "notebookName": "31_how to add column by using dictionary",
   "widgets": {}
  },
  "language_info": {
   "name": "python"
  }
 },
 "nbformat": 4,
 "nbformat_minor": 0
}