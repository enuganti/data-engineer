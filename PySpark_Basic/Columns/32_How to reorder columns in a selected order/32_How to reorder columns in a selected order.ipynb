{
 "cells": [
  {
   "cell_type": "markdown",
   "metadata": {
    "application/vnd.databricks.v1+cell": {
     "cellMetadata": {},
     "inputWidgets": {},
     "nuid": "c368e95b-aaf7-4b65-b6ef-d685b05074c0",
     "showTitle": false,
     "tableResultSettingsMap": {},
     "title": ""
    }
   },
   "source": [
    "##### How to reorder columns in a selected order?"
   ]
  },
  {
   "cell_type": "code",
   "execution_count": 0,
   "metadata": {
    "application/vnd.databricks.v1+cell": {
     "cellMetadata": {
      "byteLimit": 2048000,
      "rowLimit": 10000
     },
     "inputWidgets": {},
     "nuid": "4233dbad-bfd7-40b6-9d14-d3b66aaa26e2",
     "showTitle": false,
     "tableResultSettingsMap": {},
     "title": ""
    }
   },
   "outputs": [],
   "source": [
    "import pyspark.sql.functions as F"
   ]
  },
  {
   "cell_type": "code",
   "execution_count": 0,
   "metadata": {
    "application/vnd.databricks.v1+cell": {
     "cellMetadata": {
      "byteLimit": 2048000,
      "rowLimit": 10000
     },
     "inputWidgets": {},
     "nuid": "1f1c77f7-ba9a-424a-a179-d44c13c3e2b7",
     "showTitle": false,
     "tableResultSettingsMap": {},
     "title": ""
    }
   },
   "outputs": [
    {
     "output_type": "display_data",
     "data": {
      "text/html": [
       "<style scoped>\n",
       "  .table-result-container {\n",
       "    max-height: 300px;\n",
       "    overflow: auto;\n",
       "  }\n",
       "  table, th, td {\n",
       "    border: 1px solid black;\n",
       "    border-collapse: collapse;\n",
       "  }\n",
       "  th, td {\n",
       "    padding: 5px;\n",
       "  }\n",
       "  th {\n",
       "    text-align: left;\n",
       "  }\n",
       "</style><div class='table-result-container'><table class='table-result'><thead style='background-color: white'><tr><th>Sales_DT</th><th>Product_NM</th><th>Source_NM</th><th>Target_NM</th><th>Product_Group</th><th>Device_Category</th><th>Product_ID</th><th>Company_NM</th><th>Grade</th><th>Event_Name</th><th>Event_Type</th><th>Sessions_CNT</th></tr></thead><tbody><tr><td>2025-09-01</td><td>Blue</td><td>google</td><td>GCC</td><td>Search</td><td>mobile</td><td>123</td><td>SONY</td><td>daily</td><td>launch</td><td>Sales</td><td>100</td></tr><tr><td>2025-07-11</td><td>Green</td><td>facebook</td><td>parts</td><td>Social</td><td>desktop</td><td>456</td><td>BRAVIA</td><td>weekly</td><td>production</td><td>gether</td><td>200</td></tr><tr><td>2024-06-21</td><td>Yellow</td><td>instagram</td><td>AWS</td><td>cloud</td><td>tab</td><td>123</td><td>IBM</td><td>monthly</td><td>roll-out</td><td>Marketing</td><td>100</td></tr><tr><td>2023-04-15</td><td>Dark</td><td>gamil</td><td>Cloude</td><td>bing</td><td>monitor</td><td>456</td><td>DELPHI</td><td>yearly</td><td>inaguaration</td><td>Admin</td><td>200</td></tr><tr><td>2022-03-17</td><td>Brown</td><td>redbus</td><td>Azure</td><td>service</td><td>iphone</td><td>123</td><td>SOLAR</td><td>daily</td><td>close</td><td>Finance</td><td>100</td></tr><tr><td>2021-02-18</td><td>Pink</td><td>linkedin</td><td>SQL</td><td>rediff</td><td>keyboars</td><td>456</td><td>TAFFE</td><td>bi-weekly</td><td>vacation</td><td>Accounts</td><td>200</td></tr></tbody></table></div>"
      ]
     },
     "metadata": {
      "application/vnd.databricks.v1+output": {
       "addedWidgets": {},
       "aggData": [],
       "aggError": "",
       "aggOverflow": false,
       "aggSchema": [],
       "aggSeriesLimitReached": false,
       "aggType": "",
       "arguments": {},
       "columnCustomDisplayInfos": {},
       "data": [
        [
         "2025-09-01",
         "Blue",
         "google",
         "GCC",
         "Search",
         "mobile",
         123,
         "SONY",
         "daily",
         "launch",
         "Sales",
         100
        ],
        [
         "2025-07-11",
         "Green",
         "facebook",
         "parts",
         "Social",
         "desktop",
         456,
         "BRAVIA",
         "weekly",
         "production",
         "gether",
         200
        ],
        [
         "2024-06-21",
         "Yellow",
         "instagram",
         "AWS",
         "cloud",
         "tab",
         123,
         "IBM",
         "monthly",
         "roll-out",
         "Marketing",
         100
        ],
        [
         "2023-04-15",
         "Dark",
         "gamil",
         "Cloude",
         "bing",
         "monitor",
         456,
         "DELPHI",
         "yearly",
         "inaguaration",
         "Admin",
         200
        ],
        [
         "2022-03-17",
         "Brown",
         "redbus",
         "Azure",
         "service",
         "iphone",
         123,
         "SOLAR",
         "daily",
         "close",
         "Finance",
         100
        ],
        [
         "2021-02-18",
         "Pink",
         "linkedin",
         "SQL",
         "rediff",
         "keyboars",
         456,
         "TAFFE",
         "bi-weekly",
         "vacation",
         "Accounts",
         200
        ]
       ],
       "datasetInfos": [],
       "dbfsResultPath": null,
       "isJsonSchema": true,
       "metadata": {},
       "overflow": false,
       "plotOptions": {
        "customPlotOptions": {},
        "displayType": "table",
        "pivotAggregation": null,
        "pivotColumns": null,
        "xColumns": null,
        "yColumns": null
       },
       "removedWidgets": [],
       "schema": [
        {
         "metadata": "{}",
         "name": "Sales_DT",
         "type": "\"string\""
        },
        {
         "metadata": "{}",
         "name": "Product_NM",
         "type": "\"string\""
        },
        {
         "metadata": "{}",
         "name": "Source_NM",
         "type": "\"string\""
        },
        {
         "metadata": "{}",
         "name": "Target_NM",
         "type": "\"string\""
        },
        {
         "metadata": "{}",
         "name": "Product_Group",
         "type": "\"string\""
        },
        {
         "metadata": "{}",
         "name": "Device_Category",
         "type": "\"string\""
        },
        {
         "metadata": "{}",
         "name": "Product_ID",
         "type": "\"long\""
        },
        {
         "metadata": "{}",
         "name": "Company_NM",
         "type": "\"string\""
        },
        {
         "metadata": "{}",
         "name": "Grade",
         "type": "\"string\""
        },
        {
         "metadata": "{}",
         "name": "Event_Name",
         "type": "\"string\""
        },
        {
         "metadata": "{}",
         "name": "Event_Type",
         "type": "\"string\""
        },
        {
         "metadata": "{}",
         "name": "Sessions_CNT",
         "type": "\"long\""
        }
       ],
       "type": "table"
      }
     },
     "output_type": "display_data"
    }
   ],
   "source": [
    "data = [\n",
    "    (\"2025-09-01\", \"Blue\", \"google\", \"GCC\", \"Search\", \"mobile\", 123, \"SONY\", \"daily\", \"launch\", \"Sales\", 100),\n",
    "    (\"2025-07-11\", \"Green\", \"facebook\", \"parts\", \"Social\", \"desktop\", 456, \"BRAVIA\", \"weekly\", \"production\", \"gether\", 200),\n",
    "    (\"2024-06-21\", \"Yellow\", \"instagram\", \"AWS\", \"cloud\", \"tab\", 123, \"IBM\", \"monthly\", \"roll-out\", \"Marketing\", 100),\n",
    "    (\"2023-04-15\", \"Dark\", \"gamil\", \"Cloude\", \"bing\", \"monitor\", 456, \"DELPHI\", \"yearly\", \"inaguaration\", \"Admin\", 200),\n",
    "    (\"2022-03-17\", \"Brown\", \"redbus\", \"Azure\", \"service\", \"iphone\", 123, \"SOLAR\", \"daily\", \"close\", \"Finance\", 100),\n",
    "    (\"2021-02-18\", \"Pink\", \"linkedin\", \"SQL\", \"rediff\", \"keyboars\", 456, \"TAFFE\", \"bi-weekly\", \"vacation\", \"Accounts\", 200)\n",
    "    ]\n",
    "\n",
    "schema = [\"Sales_DT\", \"Product_NM\", \"Source_NM\", \"Target_NM\", \"Product_Group\", \"Device_Category\", \"Product_ID\", \"Company_NM\", \"Grade\", \"Event_Name\", \"Event_Type\", \"Sessions_CNT\"]\n",
    "\n",
    "df_order = spark.createDataFrame(data, schema)\n",
    "display(df_order)"
   ]
  },
  {
   "cell_type": "markdown",
   "metadata": {
    "application/vnd.databricks.v1+cell": {
     "cellMetadata": {},
     "inputWidgets": {},
     "nuid": "f33699de-241a-441d-91f5-b8ec8328f49d",
     "showTitle": false,
     "tableResultSettingsMap": {},
     "title": ""
    }
   },
   "source": [
    "**Method 01**\n",
    "- Use **select()** with **column list**"
   ]
  },
  {
   "cell_type": "code",
   "execution_count": 0,
   "metadata": {
    "application/vnd.databricks.v1+cell": {
     "cellMetadata": {
      "byteLimit": 2048000,
      "rowLimit": 10000
     },
     "inputWidgets": {},
     "nuid": "6ddc25bf-b55e-4661-a31d-63a87773ad0b",
     "showTitle": false,
     "tableResultSettingsMap": {},
     "title": ""
    }
   },
   "outputs": [
    {
     "output_type": "display_data",
     "data": {
      "text/html": [
       "<style scoped>\n",
       "  .table-result-container {\n",
       "    max-height: 300px;\n",
       "    overflow: auto;\n",
       "  }\n",
       "  table, th, td {\n",
       "    border: 1px solid black;\n",
       "    border-collapse: collapse;\n",
       "  }\n",
       "  th, td {\n",
       "    padding: 5px;\n",
       "  }\n",
       "  th {\n",
       "    text-align: left;\n",
       "  }\n",
       "</style><div class='table-result-container'><table class='table-result'><thead style='background-color: white'><tr><th>Sales_DT</th><th>Product_NM</th><th>Source_NM</th><th>Target_NM</th><th>Product_Group</th><th>Device_Category</th><th>Product_ID</th><th>Company_NM</th><th>Grade</th><th>Event_Name</th><th>Event_Type</th><th>Sessions_CNT</th></tr></thead><tbody><tr><td>2025-09-01</td><td>Blue</td><td>google</td><td>GCC</td><td>Search</td><td>mobile</td><td>123</td><td>SONY</td><td>daily</td><td>launch</td><td>Sales</td><td>100</td></tr><tr><td>2025-07-11</td><td>Green</td><td>facebook</td><td>parts</td><td>Social</td><td>desktop</td><td>456</td><td>BRAVIA</td><td>weekly</td><td>production</td><td>gether</td><td>200</td></tr><tr><td>2024-06-21</td><td>Yellow</td><td>instagram</td><td>AWS</td><td>cloud</td><td>tab</td><td>123</td><td>IBM</td><td>monthly</td><td>roll-out</td><td>Marketing</td><td>100</td></tr><tr><td>2023-04-15</td><td>Dark</td><td>gamil</td><td>Cloude</td><td>bing</td><td>monitor</td><td>456</td><td>DELPHI</td><td>yearly</td><td>inaguaration</td><td>Admin</td><td>200</td></tr><tr><td>2022-03-17</td><td>Brown</td><td>redbus</td><td>Azure</td><td>service</td><td>iphone</td><td>123</td><td>SOLAR</td><td>daily</td><td>close</td><td>Finance</td><td>100</td></tr><tr><td>2021-02-18</td><td>Pink</td><td>linkedin</td><td>SQL</td><td>rediff</td><td>keyboars</td><td>456</td><td>TAFFE</td><td>bi-weekly</td><td>vacation</td><td>Accounts</td><td>200</td></tr></tbody></table></div>"
      ]
     },
     "metadata": {
      "application/vnd.databricks.v1+output": {
       "addedWidgets": {},
       "aggData": [],
       "aggError": "",
       "aggOverflow": false,
       "aggSchema": [],
       "aggSeriesLimitReached": false,
       "aggType": "",
       "arguments": {},
       "columnCustomDisplayInfos": {},
       "data": [
        [
         "2025-09-01",
         "Blue",
         "google",
         "GCC",
         "Search",
         "mobile",
         123,
         "SONY",
         "daily",
         "launch",
         "Sales",
         100
        ],
        [
         "2025-07-11",
         "Green",
         "facebook",
         "parts",
         "Social",
         "desktop",
         456,
         "BRAVIA",
         "weekly",
         "production",
         "gether",
         200
        ],
        [
         "2024-06-21",
         "Yellow",
         "instagram",
         "AWS",
         "cloud",
         "tab",
         123,
         "IBM",
         "monthly",
         "roll-out",
         "Marketing",
         100
        ],
        [
         "2023-04-15",
         "Dark",
         "gamil",
         "Cloude",
         "bing",
         "monitor",
         456,
         "DELPHI",
         "yearly",
         "inaguaration",
         "Admin",
         200
        ],
        [
         "2022-03-17",
         "Brown",
         "redbus",
         "Azure",
         "service",
         "iphone",
         123,
         "SOLAR",
         "daily",
         "close",
         "Finance",
         100
        ],
        [
         "2021-02-18",
         "Pink",
         "linkedin",
         "SQL",
         "rediff",
         "keyboars",
         456,
         "TAFFE",
         "bi-weekly",
         "vacation",
         "Accounts",
         200
        ]
       ],
       "datasetInfos": [],
       "dbfsResultPath": null,
       "isJsonSchema": true,
       "metadata": {},
       "overflow": false,
       "plotOptions": {
        "customPlotOptions": {},
        "displayType": "table",
        "pivotAggregation": null,
        "pivotColumns": null,
        "xColumns": null,
        "yColumns": null
       },
       "removedWidgets": [],
       "schema": [
        {
         "metadata": "{}",
         "name": "Sales_DT",
         "type": "\"string\""
        },
        {
         "metadata": "{}",
         "name": "Product_NM",
         "type": "\"string\""
        },
        {
         "metadata": "{}",
         "name": "Source_NM",
         "type": "\"string\""
        },
        {
         "metadata": "{}",
         "name": "Target_NM",
         "type": "\"string\""
        },
        {
         "metadata": "{}",
         "name": "Product_Group",
         "type": "\"string\""
        },
        {
         "metadata": "{}",
         "name": "Device_Category",
         "type": "\"string\""
        },
        {
         "metadata": "{}",
         "name": "Product_ID",
         "type": "\"long\""
        },
        {
         "metadata": "{}",
         "name": "Company_NM",
         "type": "\"string\""
        },
        {
         "metadata": "{}",
         "name": "Grade",
         "type": "\"string\""
        },
        {
         "metadata": "{}",
         "name": "Event_Name",
         "type": "\"string\""
        },
        {
         "metadata": "{}",
         "name": "Event_Type",
         "type": "\"string\""
        },
        {
         "metadata": "{}",
         "name": "Sessions_CNT",
         "type": "\"long\""
        }
       ],
       "type": "table"
      }
     },
     "output_type": "display_data"
    }
   ],
   "source": [
    "# Ordered column list\n",
    "var_lst_ordered_clms = [\n",
    "    \"Sales_DT\",\n",
    "    \"Product_NM\",\n",
    "    \"Source_NM\",\n",
    "    \"Target_NM\",\n",
    "    \"Product_Group\",\n",
    "    \"Device_Category\",\n",
    "    \"Product_ID\",\n",
    "    \"Company_NM\",\n",
    "    \"Grade\",\n",
    "    \"Event_Name\",\n",
    "    \"Event_Type\",\n",
    "    \"Sessions_CNT\",\n",
    "]\n",
    "\n",
    "# Reorder DataFrame\n",
    "df_reordered = df_order.select(var_lst_ordered_clms)\n",
    "\n",
    "# Show result\n",
    "display(df_reordered)"
   ]
  },
  {
   "cell_type": "markdown",
   "metadata": {
    "application/vnd.databricks.v1+cell": {
     "cellMetadata": {},
     "inputWidgets": {},
     "nuid": "ea40d85a-06de-4242-b82d-993c42ebb227",
     "showTitle": false,
     "tableResultSettingsMap": {},
     "title": ""
    }
   },
   "source": [
    "**Method 02**\n",
    "- Use **df[columns]**"
   ]
  },
  {
   "cell_type": "code",
   "execution_count": 0,
   "metadata": {
    "application/vnd.databricks.v1+cell": {
     "cellMetadata": {
      "byteLimit": 2048000,
      "rowLimit": 10000
     },
     "inputWidgets": {},
     "nuid": "0f68c27f-6c72-4172-93d4-ed4ec36e1461",
     "showTitle": false,
     "tableResultSettingsMap": {},
     "title": ""
    }
   },
   "outputs": [
    {
     "output_type": "display_data",
     "data": {
      "text/html": [
       "<style scoped>\n",
       "  .table-result-container {\n",
       "    max-height: 300px;\n",
       "    overflow: auto;\n",
       "  }\n",
       "  table, th, td {\n",
       "    border: 1px solid black;\n",
       "    border-collapse: collapse;\n",
       "  }\n",
       "  th, td {\n",
       "    padding: 5px;\n",
       "  }\n",
       "  th {\n",
       "    text-align: left;\n",
       "  }\n",
       "</style><div class='table-result-container'><table class='table-result'><thead style='background-color: white'><tr><th>Sales_DT</th><th>Product_ID</th><th>Product_NM</th><th>Product_Group</th><th>Source_NM</th><th>Target_NM</th><th>Device_Category</th><th>Company_NM</th><th>Grade</th><th>Event_Name</th><th>Event_Type</th><th>Sessions_CNT</th></tr></thead><tbody><tr><td>2025-09-01</td><td>123</td><td>Blue</td><td>Search</td><td>google</td><td>GCC</td><td>mobile</td><td>SONY</td><td>daily</td><td>launch</td><td>Sales</td><td>100</td></tr><tr><td>2025-07-11</td><td>456</td><td>Green</td><td>Social</td><td>facebook</td><td>parts</td><td>desktop</td><td>BRAVIA</td><td>weekly</td><td>production</td><td>gether</td><td>200</td></tr><tr><td>2024-06-21</td><td>123</td><td>Yellow</td><td>cloud</td><td>instagram</td><td>AWS</td><td>tab</td><td>IBM</td><td>monthly</td><td>roll-out</td><td>Marketing</td><td>100</td></tr><tr><td>2023-04-15</td><td>456</td><td>Dark</td><td>bing</td><td>gamil</td><td>Cloude</td><td>monitor</td><td>DELPHI</td><td>yearly</td><td>inaguaration</td><td>Admin</td><td>200</td></tr><tr><td>2022-03-17</td><td>123</td><td>Brown</td><td>service</td><td>redbus</td><td>Azure</td><td>iphone</td><td>SOLAR</td><td>daily</td><td>close</td><td>Finance</td><td>100</td></tr><tr><td>2021-02-18</td><td>456</td><td>Pink</td><td>rediff</td><td>linkedin</td><td>SQL</td><td>keyboars</td><td>TAFFE</td><td>bi-weekly</td><td>vacation</td><td>Accounts</td><td>200</td></tr></tbody></table></div>"
      ]
     },
     "metadata": {
      "application/vnd.databricks.v1+output": {
       "addedWidgets": {},
       "aggData": [],
       "aggError": "",
       "aggOverflow": false,
       "aggSchema": [],
       "aggSeriesLimitReached": false,
       "aggType": "",
       "arguments": {},
       "columnCustomDisplayInfos": {},
       "data": [
        [
         "2025-09-01",
         123,
         "Blue",
         "Search",
         "google",
         "GCC",
         "mobile",
         "SONY",
         "daily",
         "launch",
         "Sales",
         100
        ],
        [
         "2025-07-11",
         456,
         "Green",
         "Social",
         "facebook",
         "parts",
         "desktop",
         "BRAVIA",
         "weekly",
         "production",
         "gether",
         200
        ],
        [
         "2024-06-21",
         123,
         "Yellow",
         "cloud",
         "instagram",
         "AWS",
         "tab",
         "IBM",
         "monthly",
         "roll-out",
         "Marketing",
         100
        ],
        [
         "2023-04-15",
         456,
         "Dark",
         "bing",
         "gamil",
         "Cloude",
         "monitor",
         "DELPHI",
         "yearly",
         "inaguaration",
         "Admin",
         200
        ],
        [
         "2022-03-17",
         123,
         "Brown",
         "service",
         "redbus",
         "Azure",
         "iphone",
         "SOLAR",
         "daily",
         "close",
         "Finance",
         100
        ],
        [
         "2021-02-18",
         456,
         "Pink",
         "rediff",
         "linkedin",
         "SQL",
         "keyboars",
         "TAFFE",
         "bi-weekly",
         "vacation",
         "Accounts",
         200
        ]
       ],
       "datasetInfos": [],
       "dbfsResultPath": null,
       "isJsonSchema": true,
       "metadata": {},
       "overflow": false,
       "plotOptions": {
        "customPlotOptions": {},
        "displayType": "table",
        "pivotAggregation": null,
        "pivotColumns": null,
        "xColumns": null,
        "yColumns": null
       },
       "removedWidgets": [],
       "schema": [
        {
         "metadata": "{}",
         "name": "Sales_DT",
         "type": "\"string\""
        },
        {
         "metadata": "{}",
         "name": "Product_ID",
         "type": "\"long\""
        },
        {
         "metadata": "{}",
         "name": "Product_NM",
         "type": "\"string\""
        },
        {
         "metadata": "{}",
         "name": "Product_Group",
         "type": "\"string\""
        },
        {
         "metadata": "{}",
         "name": "Source_NM",
         "type": "\"string\""
        },
        {
         "metadata": "{}",
         "name": "Target_NM",
         "type": "\"string\""
        },
        {
         "metadata": "{}",
         "name": "Device_Category",
         "type": "\"string\""
        },
        {
         "metadata": "{}",
         "name": "Company_NM",
         "type": "\"string\""
        },
        {
         "metadata": "{}",
         "name": "Grade",
         "type": "\"string\""
        },
        {
         "metadata": "{}",
         "name": "Event_Name",
         "type": "\"string\""
        },
        {
         "metadata": "{}",
         "name": "Event_Type",
         "type": "\"string\""
        },
        {
         "metadata": "{}",
         "name": "Sessions_CNT",
         "type": "\"long\""
        }
       ],
       "type": "table"
      }
     },
     "output_type": "display_data"
    }
   ],
   "source": [
    "new_order = [\"Sales_DT\", \"Product_ID\", \"Product_NM\", \"Product_Group\", \"Source_NM\", \"Target_NM\", \"Device_Category\", \"Company_NM\", \"Grade\", \"Event_Name\", \"Event_Type\", \"Sessions_CNT\"]\n",
    "\n",
    "df_mt02 = df_order[new_order]\n",
    "display(df_mt02)"
   ]
  },
  {
   "cell_type": "markdown",
   "metadata": {
    "application/vnd.databricks.v1+cell": {
     "cellMetadata": {},
     "inputWidgets": {},
     "nuid": "45504e12-0c7d-4ae3-a289-f1c36f3a52ad",
     "showTitle": false,
     "tableResultSettingsMap": {},
     "title": ""
    }
   },
   "source": [
    "**Method 03**\n",
    "- Use **selectExpr()**"
   ]
  },
  {
   "cell_type": "code",
   "execution_count": 0,
   "metadata": {
    "application/vnd.databricks.v1+cell": {
     "cellMetadata": {
      "byteLimit": 2048000,
      "rowLimit": 10000
     },
     "inputWidgets": {},
     "nuid": "38d1b898-bd02-448b-a76e-17e1568dbe8d",
     "showTitle": false,
     "tableResultSettingsMap": {},
     "title": ""
    }
   },
   "outputs": [
    {
     "output_type": "display_data",
     "data": {
      "text/html": [
       "<style scoped>\n",
       "  .table-result-container {\n",
       "    max-height: 300px;\n",
       "    overflow: auto;\n",
       "  }\n",
       "  table, th, td {\n",
       "    border: 1px solid black;\n",
       "    border-collapse: collapse;\n",
       "  }\n",
       "  th, td {\n",
       "    padding: 5px;\n",
       "  }\n",
       "  th {\n",
       "    text-align: left;\n",
       "  }\n",
       "</style><div class='table-result-container'><table class='table-result'><thead style='background-color: white'><tr><th>Sales_DT</th><th>product_id</th><th>product_name</th><th>Product_Group</th><th>Source_NM</th><th>Target_NM</th><th>Device_Category</th><th>company_name</th><th>Grade</th><th>Event_Name</th><th>Event_Type</th><th>sessions_count</th></tr></thead><tbody><tr><td>2025-09-01</td><td>123</td><td>Blue</td><td>Search</td><td>google</td><td>GCC</td><td>mobile</td><td>SONY</td><td>daily</td><td>launch</td><td>Sales</td><td>100</td></tr><tr><td>2025-07-11</td><td>456</td><td>Green</td><td>Social</td><td>facebook</td><td>parts</td><td>desktop</td><td>BRAVIA</td><td>weekly</td><td>production</td><td>gether</td><td>200</td></tr><tr><td>2024-06-21</td><td>123</td><td>Yellow</td><td>cloud</td><td>instagram</td><td>AWS</td><td>tab</td><td>IBM</td><td>monthly</td><td>roll-out</td><td>Marketing</td><td>100</td></tr><tr><td>2023-04-15</td><td>456</td><td>Dark</td><td>bing</td><td>gamil</td><td>Cloude</td><td>monitor</td><td>DELPHI</td><td>yearly</td><td>inaguaration</td><td>Admin</td><td>200</td></tr><tr><td>2022-03-17</td><td>123</td><td>Brown</td><td>service</td><td>redbus</td><td>Azure</td><td>iphone</td><td>SOLAR</td><td>daily</td><td>close</td><td>Finance</td><td>100</td></tr><tr><td>2021-02-18</td><td>456</td><td>Pink</td><td>rediff</td><td>linkedin</td><td>SQL</td><td>keyboars</td><td>TAFFE</td><td>bi-weekly</td><td>vacation</td><td>Accounts</td><td>200</td></tr></tbody></table></div>"
      ]
     },
     "metadata": {
      "application/vnd.databricks.v1+output": {
       "addedWidgets": {},
       "aggData": [],
       "aggError": "",
       "aggOverflow": false,
       "aggSchema": [],
       "aggSeriesLimitReached": false,
       "aggType": "",
       "arguments": {},
       "columnCustomDisplayInfos": {},
       "data": [
        [
         "2025-09-01",
         123,
         "Blue",
         "Search",
         "google",
         "GCC",
         "mobile",
         "SONY",
         "daily",
         "launch",
         "Sales",
         100
        ],
        [
         "2025-07-11",
         456,
         "Green",
         "Social",
         "facebook",
         "parts",
         "desktop",
         "BRAVIA",
         "weekly",
         "production",
         "gether",
         200
        ],
        [
         "2024-06-21",
         123,
         "Yellow",
         "cloud",
         "instagram",
         "AWS",
         "tab",
         "IBM",
         "monthly",
         "roll-out",
         "Marketing",
         100
        ],
        [
         "2023-04-15",
         456,
         "Dark",
         "bing",
         "gamil",
         "Cloude",
         "monitor",
         "DELPHI",
         "yearly",
         "inaguaration",
         "Admin",
         200
        ],
        [
         "2022-03-17",
         123,
         "Brown",
         "service",
         "redbus",
         "Azure",
         "iphone",
         "SOLAR",
         "daily",
         "close",
         "Finance",
         100
        ],
        [
         "2021-02-18",
         456,
         "Pink",
         "rediff",
         "linkedin",
         "SQL",
         "keyboars",
         "TAFFE",
         "bi-weekly",
         "vacation",
         "Accounts",
         200
        ]
       ],
       "datasetInfos": [],
       "dbfsResultPath": null,
       "isJsonSchema": true,
       "metadata": {},
       "overflow": false,
       "plotOptions": {
        "customPlotOptions": {},
        "displayType": "table",
        "pivotAggregation": null,
        "pivotColumns": null,
        "xColumns": null,
        "yColumns": null
       },
       "removedWidgets": [],
       "schema": [
        {
         "metadata": "{}",
         "name": "Sales_DT",
         "type": "\"string\""
        },
        {
         "metadata": "{}",
         "name": "product_id",
         "type": "\"long\""
        },
        {
         "metadata": "{}",
         "name": "product_name",
         "type": "\"string\""
        },
        {
         "metadata": "{}",
         "name": "Product_Group",
         "type": "\"string\""
        },
        {
         "metadata": "{}",
         "name": "Source_NM",
         "type": "\"string\""
        },
        {
         "metadata": "{}",
         "name": "Target_NM",
         "type": "\"string\""
        },
        {
         "metadata": "{}",
         "name": "Device_Category",
         "type": "\"string\""
        },
        {
         "metadata": "{}",
         "name": "company_name",
         "type": "\"string\""
        },
        {
         "metadata": "{}",
         "name": "Grade",
         "type": "\"string\""
        },
        {
         "metadata": "{}",
         "name": "Event_Name",
         "type": "\"string\""
        },
        {
         "metadata": "{}",
         "name": "Event_Type",
         "type": "\"string\""
        },
        {
         "metadata": "{}",
         "name": "sessions_count",
         "type": "\"long\""
        }
       ],
       "type": "table"
      }
     },
     "output_type": "display_data"
    }
   ],
   "source": [
    "df_sexpr = df_order.selectExpr(\"Sales_DT\", \"Product_ID as product_id\", \"Product_NM as product_name\", \"Product_Group\", \"Source_NM\", \"Target_NM\", \"Device_Category\", \"Company_NM as company_name\", \"Grade\", \"Event_Name\", \"Event_Type\", \"Sessions_CNT as sessions_count\")\n",
    "display(df_sexpr)"
   ]
  },
  {
   "cell_type": "markdown",
   "metadata": {
    "application/vnd.databricks.v1+cell": {
     "cellMetadata": {},
     "inputWidgets": {},
     "nuid": "d343bc96-abb5-4366-8b37-bb45a84466c2",
     "showTitle": false,
     "tableResultSettingsMap": {},
     "title": ""
    }
   },
   "source": [
    "**Method 04**"
   ]
  },
  {
   "cell_type": "code",
   "execution_count": 0,
   "metadata": {
    "application/vnd.databricks.v1+cell": {
     "cellMetadata": {
      "byteLimit": 2048000,
      "rowLimit": 10000
     },
     "inputWidgets": {},
     "nuid": "b1436a44-4e7a-4559-9e37-9556e86a087f",
     "showTitle": false,
     "tableResultSettingsMap": {},
     "title": ""
    }
   },
   "outputs": [],
   "source": [
    "def select_ordered_cols(df, list_ordered_cols):\n",
    "  return df.select(list_ordered_cols)"
   ]
  },
  {
   "cell_type": "code",
   "execution_count": 0,
   "metadata": {
    "application/vnd.databricks.v1+cell": {
     "cellMetadata": {
      "byteLimit": 2048000,
      "rowLimit": 10000
     },
     "inputWidgets": {},
     "nuid": "daf128b8-5362-4e0d-8dd1-e904c721e2cf",
     "showTitle": false,
     "tableResultSettingsMap": {},
     "title": ""
    }
   },
   "outputs": [
    {
     "output_type": "display_data",
     "data": {
      "text/html": [
       "<style scoped>\n",
       "  .table-result-container {\n",
       "    max-height: 300px;\n",
       "    overflow: auto;\n",
       "  }\n",
       "  table, th, td {\n",
       "    border: 1px solid black;\n",
       "    border-collapse: collapse;\n",
       "  }\n",
       "  th, td {\n",
       "    padding: 5px;\n",
       "  }\n",
       "  th {\n",
       "    text-align: left;\n",
       "  }\n",
       "</style><div class='table-result-container'><table class='table-result'><thead style='background-color: white'><tr><th>Sales_DT</th><th>Product_ID</th><th>Product_NM</th><th>Product_Group</th><th>Source_NM</th><th>Target_NM</th><th>Device_Category</th><th>Company_NM</th><th>Grade</th><th>Event_Name</th><th>Event_Type</th><th>Sessions_CNT</th></tr></thead><tbody><tr><td>2025-09-01</td><td>123</td><td>Blue</td><td>Search</td><td>google</td><td>GCC</td><td>mobile</td><td>SONY</td><td>daily</td><td>launch</td><td>Sales</td><td>100</td></tr><tr><td>2025-07-11</td><td>456</td><td>Green</td><td>Social</td><td>facebook</td><td>parts</td><td>desktop</td><td>BRAVIA</td><td>weekly</td><td>production</td><td>gether</td><td>200</td></tr><tr><td>2024-06-21</td><td>123</td><td>Yellow</td><td>cloud</td><td>instagram</td><td>AWS</td><td>tab</td><td>IBM</td><td>monthly</td><td>roll-out</td><td>Marketing</td><td>100</td></tr><tr><td>2023-04-15</td><td>456</td><td>Dark</td><td>bing</td><td>gamil</td><td>Cloude</td><td>monitor</td><td>DELPHI</td><td>yearly</td><td>inaguaration</td><td>Admin</td><td>200</td></tr><tr><td>2022-03-17</td><td>123</td><td>Brown</td><td>service</td><td>redbus</td><td>Azure</td><td>iphone</td><td>SOLAR</td><td>daily</td><td>close</td><td>Finance</td><td>100</td></tr><tr><td>2021-02-18</td><td>456</td><td>Pink</td><td>rediff</td><td>linkedin</td><td>SQL</td><td>keyboars</td><td>TAFFE</td><td>bi-weekly</td><td>vacation</td><td>Accounts</td><td>200</td></tr></tbody></table></div>"
      ]
     },
     "metadata": {
      "application/vnd.databricks.v1+output": {
       "addedWidgets": {},
       "aggData": [],
       "aggError": "",
       "aggOverflow": false,
       "aggSchema": [],
       "aggSeriesLimitReached": false,
       "aggType": "",
       "arguments": {},
       "columnCustomDisplayInfos": {},
       "data": [
        [
         "2025-09-01",
         123,
         "Blue",
         "Search",
         "google",
         "GCC",
         "mobile",
         "SONY",
         "daily",
         "launch",
         "Sales",
         100
        ],
        [
         "2025-07-11",
         456,
         "Green",
         "Social",
         "facebook",
         "parts",
         "desktop",
         "BRAVIA",
         "weekly",
         "production",
         "gether",
         200
        ],
        [
         "2024-06-21",
         123,
         "Yellow",
         "cloud",
         "instagram",
         "AWS",
         "tab",
         "IBM",
         "monthly",
         "roll-out",
         "Marketing",
         100
        ],
        [
         "2023-04-15",
         456,
         "Dark",
         "bing",
         "gamil",
         "Cloude",
         "monitor",
         "DELPHI",
         "yearly",
         "inaguaration",
         "Admin",
         200
        ],
        [
         "2022-03-17",
         123,
         "Brown",
         "service",
         "redbus",
         "Azure",
         "iphone",
         "SOLAR",
         "daily",
         "close",
         "Finance",
         100
        ],
        [
         "2021-02-18",
         456,
         "Pink",
         "rediff",
         "linkedin",
         "SQL",
         "keyboars",
         "TAFFE",
         "bi-weekly",
         "vacation",
         "Accounts",
         200
        ]
       ],
       "datasetInfos": [],
       "dbfsResultPath": null,
       "isJsonSchema": true,
       "metadata": {},
       "overflow": false,
       "plotOptions": {
        "customPlotOptions": {},
        "displayType": "table",
        "pivotAggregation": null,
        "pivotColumns": null,
        "xColumns": null,
        "yColumns": null
       },
       "removedWidgets": [],
       "schema": [
        {
         "metadata": "{}",
         "name": "Sales_DT",
         "type": "\"string\""
        },
        {
         "metadata": "{}",
         "name": "Product_ID",
         "type": "\"long\""
        },
        {
         "metadata": "{}",
         "name": "Product_NM",
         "type": "\"string\""
        },
        {
         "metadata": "{}",
         "name": "Product_Group",
         "type": "\"string\""
        },
        {
         "metadata": "{}",
         "name": "Source_NM",
         "type": "\"string\""
        },
        {
         "metadata": "{}",
         "name": "Target_NM",
         "type": "\"string\""
        },
        {
         "metadata": "{}",
         "name": "Device_Category",
         "type": "\"string\""
        },
        {
         "metadata": "{}",
         "name": "Company_NM",
         "type": "\"string\""
        },
        {
         "metadata": "{}",
         "name": "Grade",
         "type": "\"string\""
        },
        {
         "metadata": "{}",
         "name": "Event_Name",
         "type": "\"string\""
        },
        {
         "metadata": "{}",
         "name": "Event_Type",
         "type": "\"string\""
        },
        {
         "metadata": "{}",
         "name": "Sessions_CNT",
         "type": "\"long\""
        }
       ],
       "type": "table"
      }
     },
     "output_type": "display_data"
    }
   ],
   "source": [
    "ordered_cols = [\"Sales_DT\", \"Product_ID\", \"Product_NM\", \"Product_Group\", \"Source_NM\", \"Target_NM\", \"Device_Category\", \"Company_NM\", \"Grade\", \"Event_Name\", \"Event_Type\", \"Sessions_CNT\"]\n",
    "\n",
    "method_02 = select_ordered_cols(df_order, ordered_cols)\n",
    "display(method_02)"
   ]
  },
  {
   "cell_type": "markdown",
   "metadata": {
    "application/vnd.databricks.v1+cell": {
     "cellMetadata": {},
     "inputWidgets": {},
     "nuid": "6725578a-ed0b-49d2-8395-6240bfda6683",
     "showTitle": false,
     "tableResultSettingsMap": {},
     "title": ""
    }
   },
   "source": [
    "**Method 05**"
   ]
  },
  {
   "cell_type": "code",
   "execution_count": 0,
   "metadata": {
    "application/vnd.databricks.v1+cell": {
     "cellMetadata": {
      "byteLimit": 2048000,
      "rowLimit": 10000
     },
     "inputWidgets": {},
     "nuid": "6e8091cc-b5f9-4395-b61c-bf6d40c3b9b6",
     "showTitle": false,
     "tableResultSettingsMap": {},
     "title": ""
    }
   },
   "outputs": [],
   "source": [
    "dbutils.widgets.text(\"list_ordered_clms\", \"\", \"list_ordered_clms\")\n",
    "widget_value = dbutils.widgets.get(\"list_ordered_clms\")\n",
    "if widget_value.strip():\n",
    "    list_ordered_clms = eval(widget_value)\n",
    "else:\n",
    "    list_ordered_clms = []"
   ]
  },
  {
   "cell_type": "markdown",
   "metadata": {
    "application/vnd.databricks.v1+cell": {
     "cellMetadata": {},
     "inputWidgets": {},
     "nuid": "3991c620-d36a-4e5a-8740-99db59c7f124",
     "showTitle": false,
     "tableResultSettingsMap": {},
     "title": ""
    }
   },
   "source": [
    "- The **strip()** method in Python is used to **remove leading (starting)** and **trailing (ending) whitespaces** characters from a given **string**.\n",
    "\n",
    "**strip():** Trim whitespace from Strings using strip(), LSTRIP, RSTRIP -> python playlist"
   ]
  },
  {
   "cell_type": "code",
   "execution_count": 0,
   "metadata": {
    "application/vnd.databricks.v1+cell": {
     "cellMetadata": {
      "byteLimit": 2048000,
      "rowLimit": 10000
     },
     "inputWidgets": {},
     "nuid": "1c4f6630-8cbd-4a76-9b4e-22e976f9955f",
     "showTitle": false,
     "tableResultSettingsMap": {},
     "title": ""
    }
   },
   "outputs": [],
   "source": [
    "def select_ordered_cols(df, list_ordered_cols):\n",
    "  return df.select(list_ordered_cols)"
   ]
  },
  {
   "cell_type": "code",
   "execution_count": 0,
   "metadata": {
    "application/vnd.databricks.v1+cell": {
     "cellMetadata": {
      "byteLimit": 2048000,
      "rowLimit": 10000
     },
     "inputWidgets": {},
     "nuid": "0c690e20-c0f4-4615-98fb-e027d215a35a",
     "showTitle": false,
     "tableResultSettingsMap": {},
     "title": ""
    }
   },
   "outputs": [
    {
     "output_type": "display_data",
     "data": {
      "text/html": [
       "<style scoped>\n",
       "  .table-result-container {\n",
       "    max-height: 300px;\n",
       "    overflow: auto;\n",
       "  }\n",
       "  table, th, td {\n",
       "    border: 1px solid black;\n",
       "    border-collapse: collapse;\n",
       "  }\n",
       "  th, td {\n",
       "    padding: 5px;\n",
       "  }\n",
       "  th {\n",
       "    text-align: left;\n",
       "  }\n",
       "</style><div class='table-result-container'><table class='table-result'><thead style='background-color: white'><tr><th>Sales_DT</th><th>Product_ID</th><th>Product_NM</th><th>Product_Group</th><th>Source_NM</th><th>Target_NM</th><th>Device_Category</th><th>Company_NM</th><th>Grade</th><th>Event_Name</th><th>Event_Type</th><th>Sessions_CNT</th></tr></thead><tbody><tr><td>2025-09-01</td><td>123</td><td>Blue</td><td>Search</td><td>google</td><td>GCC</td><td>mobile</td><td>SONY</td><td>daily</td><td>launch</td><td>Sales</td><td>100</td></tr><tr><td>2025-07-11</td><td>456</td><td>Green</td><td>Social</td><td>facebook</td><td>parts</td><td>desktop</td><td>BRAVIA</td><td>weekly</td><td>production</td><td>gether</td><td>200</td></tr><tr><td>2024-06-21</td><td>123</td><td>Yellow</td><td>cloud</td><td>instagram</td><td>AWS</td><td>tab</td><td>IBM</td><td>monthly</td><td>roll-out</td><td>Marketing</td><td>100</td></tr><tr><td>2023-04-15</td><td>456</td><td>Dark</td><td>bing</td><td>gamil</td><td>Cloude</td><td>monitor</td><td>DELPHI</td><td>yearly</td><td>inaguaration</td><td>Admin</td><td>200</td></tr><tr><td>2022-03-17</td><td>123</td><td>Brown</td><td>service</td><td>redbus</td><td>Azure</td><td>iphone</td><td>SOLAR</td><td>daily</td><td>close</td><td>Finance</td><td>100</td></tr><tr><td>2021-02-18</td><td>456</td><td>Pink</td><td>rediff</td><td>linkedin</td><td>SQL</td><td>keyboars</td><td>TAFFE</td><td>bi-weekly</td><td>vacation</td><td>Accounts</td><td>200</td></tr></tbody></table></div>"
      ]
     },
     "metadata": {
      "application/vnd.databricks.v1+output": {
       "addedWidgets": {},
       "aggData": [],
       "aggError": "",
       "aggOverflow": false,
       "aggSchema": [],
       "aggSeriesLimitReached": false,
       "aggType": "",
       "arguments": {},
       "columnCustomDisplayInfos": {},
       "data": [
        [
         "2025-09-01",
         123,
         "Blue",
         "Search",
         "google",
         "GCC",
         "mobile",
         "SONY",
         "daily",
         "launch",
         "Sales",
         100
        ],
        [
         "2025-07-11",
         456,
         "Green",
         "Social",
         "facebook",
         "parts",
         "desktop",
         "BRAVIA",
         "weekly",
         "production",
         "gether",
         200
        ],
        [
         "2024-06-21",
         123,
         "Yellow",
         "cloud",
         "instagram",
         "AWS",
         "tab",
         "IBM",
         "monthly",
         "roll-out",
         "Marketing",
         100
        ],
        [
         "2023-04-15",
         456,
         "Dark",
         "bing",
         "gamil",
         "Cloude",
         "monitor",
         "DELPHI",
         "yearly",
         "inaguaration",
         "Admin",
         200
        ],
        [
         "2022-03-17",
         123,
         "Brown",
         "service",
         "redbus",
         "Azure",
         "iphone",
         "SOLAR",
         "daily",
         "close",
         "Finance",
         100
        ],
        [
         "2021-02-18",
         456,
         "Pink",
         "rediff",
         "linkedin",
         "SQL",
         "keyboars",
         "TAFFE",
         "bi-weekly",
         "vacation",
         "Accounts",
         200
        ]
       ],
       "datasetInfos": [],
       "dbfsResultPath": null,
       "isJsonSchema": true,
       "metadata": {},
       "overflow": false,
       "plotOptions": {
        "customPlotOptions": {},
        "displayType": "table",
        "pivotAggregation": null,
        "pivotColumns": null,
        "xColumns": null,
        "yColumns": null
       },
       "removedWidgets": [],
       "schema": [
        {
         "metadata": "{}",
         "name": "Sales_DT",
         "type": "\"string\""
        },
        {
         "metadata": "{}",
         "name": "Product_ID",
         "type": "\"long\""
        },
        {
         "metadata": "{}",
         "name": "Product_NM",
         "type": "\"string\""
        },
        {
         "metadata": "{}",
         "name": "Product_Group",
         "type": "\"string\""
        },
        {
         "metadata": "{}",
         "name": "Source_NM",
         "type": "\"string\""
        },
        {
         "metadata": "{}",
         "name": "Target_NM",
         "type": "\"string\""
        },
        {
         "metadata": "{}",
         "name": "Device_Category",
         "type": "\"string\""
        },
        {
         "metadata": "{}",
         "name": "Company_NM",
         "type": "\"string\""
        },
        {
         "metadata": "{}",
         "name": "Grade",
         "type": "\"string\""
        },
        {
         "metadata": "{}",
         "name": "Event_Name",
         "type": "\"string\""
        },
        {
         "metadata": "{}",
         "name": "Event_Type",
         "type": "\"string\""
        },
        {
         "metadata": "{}",
         "name": "Sessions_CNT",
         "type": "\"long\""
        }
       ],
       "type": "table"
      }
     },
     "output_type": "display_data"
    }
   ],
   "source": [
    "# [\"Sales_DT\", \"Product_ID\", \"Product_NM\", \"Product_Group\", \"Source_NM\", \"Target_NM\", \"Device_Category\", \"Company_NM\", \"Grade\", \"Event_Name\", \"Event_Type\", \"Sessions_CNT\"]\n",
    "\n",
    "method_03 = select_ordered_cols(df_order, list_ordered_clms)\n",
    "display(method_03)"
   ]
  },
  {
   "cell_type": "markdown",
   "metadata": {
    "application/vnd.databricks.v1+cell": {
     "cellMetadata": {},
     "inputWidgets": {},
     "nuid": "3a95fbed-59cb-413f-9d50-dd9548a6a010",
     "showTitle": false,
     "tableResultSettingsMap": {},
     "title": ""
    }
   },
   "source": [
    "**Method 06**"
   ]
  },
  {
   "cell_type": "code",
   "execution_count": 0,
   "metadata": {
    "application/vnd.databricks.v1+cell": {
     "cellMetadata": {
      "byteLimit": 2048000,
      "rowLimit": 10000
     },
     "inputWidgets": {},
     "nuid": "89b6f24b-1491-4739-8e11-253d46aee3f3",
     "showTitle": false,
     "tableResultSettingsMap": {},
     "title": ""
    }
   },
   "outputs": [
    {
     "output_type": "display_data",
     "data": {
      "text/html": [
       "<style scoped>\n",
       "  .table-result-container {\n",
       "    max-height: 300px;\n",
       "    overflow: auto;\n",
       "  }\n",
       "  table, th, td {\n",
       "    border: 1px solid black;\n",
       "    border-collapse: collapse;\n",
       "  }\n",
       "  th, td {\n",
       "    padding: 5px;\n",
       "  }\n",
       "  th {\n",
       "    text-align: left;\n",
       "  }\n",
       "</style><div class='table-result-container'><table class='table-result'><thead style='background-color: white'><tr><th>Grade</th><th>Sales_DT</th><th>Product_NM</th><th>Source_NM</th><th>Target_NM</th><th>Product_Group</th><th>Device_Category</th><th>Product_ID</th><th>Company_NM</th><th>Event_Name</th><th>Event_Type</th><th>Sessions_CNT</th></tr></thead><tbody><tr><td>daily</td><td>2025-09-01</td><td>Blue</td><td>google</td><td>GCC</td><td>Search</td><td>mobile</td><td>123</td><td>SONY</td><td>launch</td><td>Sales</td><td>100</td></tr><tr><td>weekly</td><td>2025-07-11</td><td>Green</td><td>facebook</td><td>parts</td><td>Social</td><td>desktop</td><td>456</td><td>BRAVIA</td><td>production</td><td>gether</td><td>200</td></tr><tr><td>monthly</td><td>2024-06-21</td><td>Yellow</td><td>instagram</td><td>AWS</td><td>cloud</td><td>tab</td><td>123</td><td>IBM</td><td>roll-out</td><td>Marketing</td><td>100</td></tr><tr><td>yearly</td><td>2023-04-15</td><td>Dark</td><td>gamil</td><td>Cloude</td><td>bing</td><td>monitor</td><td>456</td><td>DELPHI</td><td>inaguaration</td><td>Admin</td><td>200</td></tr><tr><td>daily</td><td>2022-03-17</td><td>Brown</td><td>redbus</td><td>Azure</td><td>service</td><td>iphone</td><td>123</td><td>SOLAR</td><td>close</td><td>Finance</td><td>100</td></tr><tr><td>bi-weekly</td><td>2021-02-18</td><td>Pink</td><td>linkedin</td><td>SQL</td><td>rediff</td><td>keyboars</td><td>456</td><td>TAFFE</td><td>vacation</td><td>Accounts</td><td>200</td></tr></tbody></table></div>"
      ]
     },
     "metadata": {
      "application/vnd.databricks.v1+output": {
       "addedWidgets": {},
       "aggData": [],
       "aggError": "",
       "aggOverflow": false,
       "aggSchema": [],
       "aggSeriesLimitReached": false,
       "aggType": "",
       "arguments": {},
       "columnCustomDisplayInfos": {},
       "data": [
        [
         "daily",
         "2025-09-01",
         "Blue",
         "google",
         "GCC",
         "Search",
         "mobile",
         123,
         "SONY",
         "launch",
         "Sales",
         100
        ],
        [
         "weekly",
         "2025-07-11",
         "Green",
         "facebook",
         "parts",
         "Social",
         "desktop",
         456,
         "BRAVIA",
         "production",
         "gether",
         200
        ],
        [
         "monthly",
         "2024-06-21",
         "Yellow",
         "instagram",
         "AWS",
         "cloud",
         "tab",
         123,
         "IBM",
         "roll-out",
         "Marketing",
         100
        ],
        [
         "yearly",
         "2023-04-15",
         "Dark",
         "gamil",
         "Cloude",
         "bing",
         "monitor",
         456,
         "DELPHI",
         "inaguaration",
         "Admin",
         200
        ],
        [
         "daily",
         "2022-03-17",
         "Brown",
         "redbus",
         "Azure",
         "service",
         "iphone",
         123,
         "SOLAR",
         "close",
         "Finance",
         100
        ],
        [
         "bi-weekly",
         "2021-02-18",
         "Pink",
         "linkedin",
         "SQL",
         "rediff",
         "keyboars",
         456,
         "TAFFE",
         "vacation",
         "Accounts",
         200
        ]
       ],
       "datasetInfos": [],
       "dbfsResultPath": null,
       "isJsonSchema": true,
       "metadata": {},
       "overflow": false,
       "plotOptions": {
        "customPlotOptions": {},
        "displayType": "table",
        "pivotAggregation": null,
        "pivotColumns": null,
        "xColumns": null,
        "yColumns": null
       },
       "removedWidgets": [],
       "schema": [
        {
         "metadata": "{}",
         "name": "Grade",
         "type": "\"string\""
        },
        {
         "metadata": "{}",
         "name": "Sales_DT",
         "type": "\"string\""
        },
        {
         "metadata": "{}",
         "name": "Product_NM",
         "type": "\"string\""
        },
        {
         "metadata": "{}",
         "name": "Source_NM",
         "type": "\"string\""
        },
        {
         "metadata": "{}",
         "name": "Target_NM",
         "type": "\"string\""
        },
        {
         "metadata": "{}",
         "name": "Product_Group",
         "type": "\"string\""
        },
        {
         "metadata": "{}",
         "name": "Device_Category",
         "type": "\"string\""
        },
        {
         "metadata": "{}",
         "name": "Product_ID",
         "type": "\"long\""
        },
        {
         "metadata": "{}",
         "name": "Company_NM",
         "type": "\"string\""
        },
        {
         "metadata": "{}",
         "name": "Event_Name",
         "type": "\"string\""
        },
        {
         "metadata": "{}",
         "name": "Event_Type",
         "type": "\"string\""
        },
        {
         "metadata": "{}",
         "name": "Sessions_CNT",
         "type": "\"long\""
        }
       ],
       "type": "table"
      }
     },
     "output_type": "display_data"
    }
   ],
   "source": [
    "# Move \"Grade\" column to the front\n",
    "cols = df_order.columns\n",
    "new_order = [\"Grade\"] + [c for c in cols if c != \"Grade\"]\n",
    "\n",
    "df_reordered_new = df_order.select(new_order)\n",
    "display(df_reordered_new)"
   ]
  },
  {
   "cell_type": "markdown",
   "metadata": {
    "application/vnd.databricks.v1+cell": {
     "cellMetadata": {},
     "inputWidgets": {},
     "nuid": "c1b61dd4-748b-4d34-967b-f0a8c623a252",
     "showTitle": false,
     "tableResultSettingsMap": {},
     "title": ""
    }
   },
   "source": [
    "**Method 07**\n",
    "- Use **withColumn + reorder** using select"
   ]
  },
  {
   "cell_type": "code",
   "execution_count": 0,
   "metadata": {
    "application/vnd.databricks.v1+cell": {
     "cellMetadata": {
      "byteLimit": 2048000,
      "rowLimit": 10000
     },
     "inputWidgets": {},
     "nuid": "5aa2a522-e6f2-428e-bb79-64c4d6c7ecf3",
     "showTitle": false,
     "tableResultSettingsMap": {},
     "title": ""
    }
   },
   "outputs": [
    {
     "output_type": "display_data",
     "data": {
      "text/html": [
       "<style scoped>\n",
       "  .table-result-container {\n",
       "    max-height: 300px;\n",
       "    overflow: auto;\n",
       "  }\n",
       "  table, th, td {\n",
       "    border: 1px solid black;\n",
       "    border-collapse: collapse;\n",
       "  }\n",
       "  th, td {\n",
       "    padding: 5px;\n",
       "  }\n",
       "  th {\n",
       "    text-align: left;\n",
       "  }\n",
       "</style><div class='table-result-container'><table class='table-result'><thead style='background-color: white'><tr><th>country</th><th>Sales_DT</th><th>Product_NM</th><th>Source_NM</th><th>Target_NM</th><th>Product_Group</th><th>Device_Category</th><th>Product_ID</th><th>Company_NM</th><th>Grade</th><th>Event_Name</th><th>Event_Type</th><th>Sessions_CNT</th></tr></thead><tbody><tr><td>India</td><td>2025-09-01</td><td>Blue</td><td>google</td><td>GCC</td><td>Search</td><td>mobile</td><td>123</td><td>SONY</td><td>daily</td><td>launch</td><td>Sales</td><td>100</td></tr><tr><td>India</td><td>2025-07-11</td><td>Green</td><td>facebook</td><td>parts</td><td>Social</td><td>desktop</td><td>456</td><td>BRAVIA</td><td>weekly</td><td>production</td><td>gether</td><td>200</td></tr><tr><td>India</td><td>2024-06-21</td><td>Yellow</td><td>instagram</td><td>AWS</td><td>cloud</td><td>tab</td><td>123</td><td>IBM</td><td>monthly</td><td>roll-out</td><td>Marketing</td><td>100</td></tr><tr><td>India</td><td>2023-04-15</td><td>Dark</td><td>gamil</td><td>Cloude</td><td>bing</td><td>monitor</td><td>456</td><td>DELPHI</td><td>yearly</td><td>inaguaration</td><td>Admin</td><td>200</td></tr><tr><td>India</td><td>2022-03-17</td><td>Brown</td><td>redbus</td><td>Azure</td><td>service</td><td>iphone</td><td>123</td><td>SOLAR</td><td>daily</td><td>close</td><td>Finance</td><td>100</td></tr><tr><td>India</td><td>2021-02-18</td><td>Pink</td><td>linkedin</td><td>SQL</td><td>rediff</td><td>keyboars</td><td>456</td><td>TAFFE</td><td>bi-weekly</td><td>vacation</td><td>Accounts</td><td>200</td></tr></tbody></table></div>"
      ]
     },
     "metadata": {
      "application/vnd.databricks.v1+output": {
       "addedWidgets": {},
       "aggData": [],
       "aggError": "",
       "aggOverflow": false,
       "aggSchema": [],
       "aggSeriesLimitReached": false,
       "aggType": "",
       "arguments": {},
       "columnCustomDisplayInfos": {},
       "data": [
        [
         "India",
         "2025-09-01",
         "Blue",
         "google",
         "GCC",
         "Search",
         "mobile",
         123,
         "SONY",
         "daily",
         "launch",
         "Sales",
         100
        ],
        [
         "India",
         "2025-07-11",
         "Green",
         "facebook",
         "parts",
         "Social",
         "desktop",
         456,
         "BRAVIA",
         "weekly",
         "production",
         "gether",
         200
        ],
        [
         "India",
         "2024-06-21",
         "Yellow",
         "instagram",
         "AWS",
         "cloud",
         "tab",
         123,
         "IBM",
         "monthly",
         "roll-out",
         "Marketing",
         100
        ],
        [
         "India",
         "2023-04-15",
         "Dark",
         "gamil",
         "Cloude",
         "bing",
         "monitor",
         456,
         "DELPHI",
         "yearly",
         "inaguaration",
         "Admin",
         200
        ],
        [
         "India",
         "2022-03-17",
         "Brown",
         "redbus",
         "Azure",
         "service",
         "iphone",
         123,
         "SOLAR",
         "daily",
         "close",
         "Finance",
         100
        ],
        [
         "India",
         "2021-02-18",
         "Pink",
         "linkedin",
         "SQL",
         "rediff",
         "keyboars",
         456,
         "TAFFE",
         "bi-weekly",
         "vacation",
         "Accounts",
         200
        ]
       ],
       "datasetInfos": [],
       "dbfsResultPath": null,
       "isJsonSchema": true,
       "metadata": {},
       "overflow": false,
       "plotOptions": {
        "customPlotOptions": {},
        "displayType": "table",
        "pivotAggregation": null,
        "pivotColumns": null,
        "xColumns": null,
        "yColumns": null
       },
       "removedWidgets": [],
       "schema": [
        {
         "metadata": "{}",
         "name": "country",
         "type": "\"string\""
        },
        {
         "metadata": "{}",
         "name": "Sales_DT",
         "type": "\"string\""
        },
        {
         "metadata": "{}",
         "name": "Product_NM",
         "type": "\"string\""
        },
        {
         "metadata": "{}",
         "name": "Source_NM",
         "type": "\"string\""
        },
        {
         "metadata": "{}",
         "name": "Target_NM",
         "type": "\"string\""
        },
        {
         "metadata": "{}",
         "name": "Product_Group",
         "type": "\"string\""
        },
        {
         "metadata": "{}",
         "name": "Device_Category",
         "type": "\"string\""
        },
        {
         "metadata": "{}",
         "name": "Product_ID",
         "type": "\"long\""
        },
        {
         "metadata": "{}",
         "name": "Company_NM",
         "type": "\"string\""
        },
        {
         "metadata": "{}",
         "name": "Grade",
         "type": "\"string\""
        },
        {
         "metadata": "{}",
         "name": "Event_Name",
         "type": "\"string\""
        },
        {
         "metadata": "{}",
         "name": "Event_Type",
         "type": "\"string\""
        },
        {
         "metadata": "{}",
         "name": "Sessions_CNT",
         "type": "\"long\""
        }
       ],
       "type": "table"
      }
     },
     "output_type": "display_data"
    }
   ],
   "source": [
    "df_add_col = df_order.withColumn(\"country\", F.lit(\"India\"))\n",
    "\n",
    "cols_reordered = [\"country\"] + [c for c in df_order.columns]\n",
    "\n",
    "df_final_ord = df_add_col.select(cols_reordered)\n",
    "display(df_final_ord)"
   ]
  }
 ],
 "metadata": {
  "application/vnd.databricks.v1+notebook": {
   "computePreferences": {
    "hardware": {
     "accelerator": null,
     "gpuPoolId": null,
     "memory": null
    }
   },
   "dashboards": [],
   "environmentMetadata": {
    "base_environment": "",
    "environment_version": "3"
   },
   "inputWidgetPreferences": null,
   "language": "python",
   "notebookMetadata": {
    "pythonIndentUnit": 4
   },
   "notebookName": "32_How to reorder columns in a selected order",
   "widgets": {
    "list_ordered_clms": {
     "currentValue": "[\"Sales_DT\", \"Product_ID\", \"Product_NM\", \"Product_Group\", \"Source_NM\", \"Target_NM\", \"Device_Category\", \"Company_NM\", \"Grade\", \"Event_Name\", \"Event_Type\", \"Sessions_CNT\"]",
     "nuid": "6a2e483c-4a3a-4c62-8040-0c28adf35e9f",
     "typedWidgetInfo": {
      "autoCreated": false,
      "defaultValue": "",
      "label": "list_ordered_clms",
      "name": "list_ordered_clms",
      "options": {
       "widgetDisplayType": "Text",
       "validationRegex": null
      },
      "parameterDataType": "String"
     },
     "widgetInfo": {
      "widgetType": "text",
      "defaultValue": "",
      "label": "list_ordered_clms",
      "name": "list_ordered_clms",
      "options": {
       "widgetType": "text",
       "autoCreated": null,
       "validationRegex": null
      }
     }
    }
   }
  },
  "language_info": {
   "name": "python"
  }
 },
 "nbformat": 4,
 "nbformat_minor": 0
}