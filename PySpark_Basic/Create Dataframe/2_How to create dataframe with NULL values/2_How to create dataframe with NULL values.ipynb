{
 "cells": [
  {
   "cell_type": "code",
   "execution_count": 0,
   "metadata": {
    "application/vnd.databricks.v1+cell": {
     "cellMetadata": {
      "byteLimit": 2048000,
      "rowLimit": 10000
     },
     "inputWidgets": {},
     "nuid": "09014150-13f9-48ac-ae7c-a07b6e1dfc98",
     "showTitle": false,
     "tableResultSettingsMap": {},
     "title": ""
    }
   },
   "outputs": [],
   "source": [
    "from pyspark.sql.types import StructType, StructField, StringType, IntegerType"
   ]
  },
  {
   "cell_type": "markdown",
   "metadata": {
    "application/vnd.databricks.v1+cell": {
     "cellMetadata": {},
     "inputWidgets": {},
     "nuid": "76a8c909-63a9-4ab8-bbba-1c9c685b8294",
     "showTitle": false,
     "tableResultSettingsMap": {},
     "title": ""
    }
   },
   "source": [
    "**1) Creating a DataFrame with None values**"
   ]
  },
  {
   "cell_type": "code",
   "execution_count": 0,
   "metadata": {
    "application/vnd.databricks.v1+cell": {
     "cellMetadata": {
      "byteLimit": 2048000,
      "rowLimit": 10000
     },
     "inputWidgets": {},
     "nuid": "2c0001b7-998b-4b2f-9ce3-2ffe38bc07b1",
     "showTitle": false,
     "tableResultSettingsMap": {},
     "title": ""
    }
   },
   "outputs": [
    {
     "output_type": "display_data",
     "data": {
      "text/html": [
       "<style scoped>\n",
       "  .table-result-container {\n",
       "    max-height: 300px;\n",
       "    overflow: auto;\n",
       "  }\n",
       "  table, th, td {\n",
       "    border: 1px solid black;\n",
       "    border-collapse: collapse;\n",
       "  }\n",
       "  th, td {\n",
       "    padding: 5px;\n",
       "  }\n",
       "  th {\n",
       "    text-align: left;\n",
       "  }\n",
       "</style><div class='table-result-container'><table class='table-result'><thead style='background-color: white'><tr><th>Employee Name</th><th>Age of Employee</th><th>Experience (in years)</th><th>Salary (per month - $)</th></tr></thead><tbody><tr><td>Arnab</td><td>31</td><td>10</td><td>30000</td></tr><tr><td>Henry</td><td>null</td><td>8</td><td>25000</td></tr><tr><td>Jayesh</td><td>29</td><td>4</td><td>null</td></tr><tr><td>Jagadish</td><td>24</td><td>3</td><td>20000</td></tr><tr><td>Kamalesh</td><td>21</td><td>null</td><td>15000</td></tr><tr><td>Lepakshi</td><td>23</td><td>2</td><td>18000</td></tr><tr><td>Anand</td><td>null</td><td>null</td><td>40000</td></tr><tr><td>NULL</td><td>34</td><td>10</td><td>38000</td></tr><tr><td>NULL</td><td>36</td><td>null</td><td>null</td></tr></tbody></table></div>"
      ]
     },
     "metadata": {
      "application/vnd.databricks.v1+output": {
       "addedWidgets": {},
       "aggData": [],
       "aggError": "",
       "aggOverflow": false,
       "aggSchema": [],
       "aggSeriesLimitReached": false,
       "aggType": "",
       "arguments": {},
       "columnCustomDisplayInfos": {},
       "data": [
        [
         "Arnab",
         31,
         10,
         30000
        ],
        [
         "Henry",
         null,
         8,
         25000
        ],
        [
         "Jayesh",
         29,
         4,
         null
        ],
        [
         "Jagadish",
         24,
         3,
         20000
        ],
        [
         "Kamalesh",
         21,
         null,
         15000
        ],
        [
         "Lepakshi",
         23,
         2,
         18000
        ],
        [
         "Anand",
         null,
         null,
         40000
        ],
        [
         "NULL",
         34,
         10,
         38000
        ],
        [
         "NULL",
         36,
         null,
         null
        ]
       ],
       "datasetInfos": [],
       "dbfsResultPath": null,
       "isJsonSchema": true,
       "metadata": {},
       "overflow": false,
       "plotOptions": {
        "customPlotOptions": {},
        "displayType": "table",
        "pivotAggregation": null,
        "pivotColumns": null,
        "xColumns": null,
        "yColumns": null
       },
       "removedWidgets": [],
       "schema": [
        {
         "metadata": "{}",
         "name": "Employee Name",
         "type": "\"string\""
        },
        {
         "metadata": "{}",
         "name": "Age of Employee",
         "type": "\"long\""
        },
        {
         "metadata": "{}",
         "name": "Experience (in years)",
         "type": "\"long\""
        },
        {
         "metadata": "{}",
         "name": "Salary (per month - $)",
         "type": "\"long\""
        }
       ],
       "type": "table"
      }
     },
     "output_type": "display_data"
    }
   ],
   "source": [
    "data = [(\"Arnab\", 31, 10, 30000),\n",
    "        (\"Henry\", None, 8, 25000),\n",
    "        (\"Jayesh\", 29, 4, None),\n",
    "        (\"Jagadish\", 24, 3, 20000),\n",
    "        (\"Kamalesh\", 21, None, 15000),\n",
    "        (\"Lepakshi\", 23, 2, 18000),\n",
    "        (\"Anand\", None, None, 40000),\n",
    "        (\"NULL\", 34, 10, 38000),\n",
    "        (\"NULL\", 36, None, None)]\n",
    "\n",
    "columns = [\"Employee Name\", \"Age of Employee\", \"Experience (in years)\", \"Salary (per month - $)\"]\n",
    "\n",
    "df = spark.createDataFrame(data, columns)\n",
    "display(df)"
   ]
  },
  {
   "cell_type": "markdown",
   "metadata": {
    "application/vnd.databricks.v1+cell": {
     "cellMetadata": {},
     "inputWidgets": {},
     "nuid": "f8635e02-a19a-42fd-b4b1-cd2fee97761f",
     "showTitle": false,
     "tableResultSettingsMap": {},
     "title": ""
    }
   },
   "source": [
    "**2) Using .withColumn() to add a NULL column**"
   ]
  },
  {
   "cell_type": "code",
   "execution_count": 0,
   "metadata": {
    "application/vnd.databricks.v1+cell": {
     "cellMetadata": {
      "byteLimit": 2048000,
      "rowLimit": 10000
     },
     "inputWidgets": {},
     "nuid": "d6e1966e-a833-4be8-8ad1-68e6890f0c84",
     "showTitle": false,
     "tableResultSettingsMap": {},
     "title": ""
    }
   },
   "outputs": [
    {
     "output_type": "display_data",
     "data": {
      "text/html": [
       "<style scoped>\n",
       "  .table-result-container {\n",
       "    max-height: 300px;\n",
       "    overflow: auto;\n",
       "  }\n",
       "  table, th, td {\n",
       "    border: 1px solid black;\n",
       "    border-collapse: collapse;\n",
       "  }\n",
       "  th, td {\n",
       "    padding: 5px;\n",
       "  }\n",
       "  th {\n",
       "    text-align: left;\n",
       "  }\n",
       "</style><div class='table-result-container'><table class='table-result'><thead style='background-color: white'><tr><th>Employee Name</th><th>Age of Employee</th><th>Experience (in years)</th><th>Salary (per month - $)</th><th>Value</th><th>Sales</th></tr></thead><tbody><tr><td>Arnab</td><td>31</td><td>10</td><td>30000</td><td>null</td><td>null</td></tr><tr><td>Henry</td><td>null</td><td>8</td><td>25000</td><td>null</td><td>null</td></tr><tr><td>Jayesh</td><td>29</td><td>4</td><td>null</td><td>null</td><td>null</td></tr><tr><td>Jagadish</td><td>24</td><td>3</td><td>20000</td><td>null</td><td>null</td></tr><tr><td>Kamalesh</td><td>21</td><td>null</td><td>15000</td><td>null</td><td>null</td></tr><tr><td>Lepakshi</td><td>23</td><td>2</td><td>18000</td><td>null</td><td>null</td></tr><tr><td>Anand</td><td>null</td><td>null</td><td>40000</td><td>null</td><td>null</td></tr><tr><td>NULL</td><td>34</td><td>10</td><td>38000</td><td>null</td><td>null</td></tr><tr><td>NULL</td><td>36</td><td>null</td><td>null</td><td>null</td><td>null</td></tr></tbody></table></div>"
      ]
     },
     "metadata": {
      "application/vnd.databricks.v1+output": {
       "addedWidgets": {},
       "aggData": [],
       "aggError": "",
       "aggOverflow": false,
       "aggSchema": [],
       "aggSeriesLimitReached": false,
       "aggType": "",
       "arguments": {},
       "columnCustomDisplayInfos": {},
       "data": [
        [
         "Arnab",
         31,
         10,
         30000,
         null,
         null
        ],
        [
         "Henry",
         null,
         8,
         25000,
         null,
         null
        ],
        [
         "Jayesh",
         29,
         4,
         null,
         null,
         null
        ],
        [
         "Jagadish",
         24,
         3,
         20000,
         null,
         null
        ],
        [
         "Kamalesh",
         21,
         null,
         15000,
         null,
         null
        ],
        [
         "Lepakshi",
         23,
         2,
         18000,
         null,
         null
        ],
        [
         "Anand",
         null,
         null,
         40000,
         null,
         null
        ],
        [
         "NULL",
         34,
         10,
         38000,
         null,
         null
        ],
        [
         "NULL",
         36,
         null,
         null,
         null,
         null
        ]
       ],
       "datasetInfos": [],
       "dbfsResultPath": null,
       "isJsonSchema": true,
       "metadata": {},
       "overflow": false,
       "plotOptions": {
        "customPlotOptions": {},
        "displayType": "table",
        "pivotAggregation": null,
        "pivotColumns": null,
        "xColumns": null,
        "yColumns": null
       },
       "removedWidgets": [],
       "schema": [
        {
         "metadata": "{}",
         "name": "Employee Name",
         "type": "\"string\""
        },
        {
         "metadata": "{}",
         "name": "Age of Employee",
         "type": "\"long\""
        },
        {
         "metadata": "{}",
         "name": "Experience (in years)",
         "type": "\"long\""
        },
        {
         "metadata": "{}",
         "name": "Salary (per month - $)",
         "type": "\"long\""
        },
        {
         "metadata": "{}",
         "name": "Value",
         "type": "\"void\""
        },
        {
         "metadata": "{}",
         "name": "Sales",
         "type": "\"integer\""
        }
       ],
       "type": "table"
      }
     },
     "output_type": "display_data"
    }
   ],
   "source": [
    "from pyspark.sql.functions import lit\n",
    "\n",
    "df_with_null = df.withColumn(\"Value\", lit(None)) \\\n",
    "                 .withColumn(\"Sales\", lit(None).cast(IntegerType()))\n",
    "display(df_with_null)"
   ]
  },
  {
   "cell_type": "markdown",
   "metadata": {
    "application/vnd.databricks.v1+cell": {
     "cellMetadata": {},
     "inputWidgets": {},
     "nuid": "8e6f12c4-5202-44d6-bfe0-b2b7f5e2c26e",
     "showTitle": false,
     "tableResultSettingsMap": {},
     "title": ""
    }
   },
   "source": [
    "**3) Creating a DataFrame from Row objects with NULLs**"
   ]
  },
  {
   "cell_type": "code",
   "execution_count": 0,
   "metadata": {
    "application/vnd.databricks.v1+cell": {
     "cellMetadata": {
      "byteLimit": 2048000,
      "rowLimit": 10000
     },
     "inputWidgets": {},
     "nuid": "4dcea39a-cfd7-49a0-af21-c2fd8e631158",
     "showTitle": false,
     "tableResultSettingsMap": {},
     "title": ""
    }
   },
   "outputs": [
    {
     "output_type": "display_data",
     "data": {
      "text/html": [
       "<style scoped>\n",
       "  .table-result-container {\n",
       "    max-height: 300px;\n",
       "    overflow: auto;\n",
       "  }\n",
       "  table, th, td {\n",
       "    border: 1px solid black;\n",
       "    border-collapse: collapse;\n",
       "  }\n",
       "  th, td {\n",
       "    padding: 5px;\n",
       "  }\n",
       "  th {\n",
       "    text-align: left;\n",
       "  }\n",
       "</style><div class='table-result-container'><table class='table-result'><thead style='background-color: white'><tr><th>id</th><th>name</th></tr></thead><tbody><tr><td>1</td><td>Alekya</td></tr><tr><td>null</td><td>Bibin</td></tr><tr><td>3</td><td>null</td></tr><tr><td>null</td><td>null</td></tr></tbody></table></div>"
      ]
     },
     "metadata": {
      "application/vnd.databricks.v1+output": {
       "addedWidgets": {},
       "aggData": [],
       "aggError": "",
       "aggOverflow": false,
       "aggSchema": [],
       "aggSeriesLimitReached": false,
       "aggType": "",
       "arguments": {},
       "columnCustomDisplayInfos": {},
       "data": [
        [
         1,
         "Alekya"
        ],
        [
         null,
         "Bibin"
        ],
        [
         3,
         null
        ],
        [
         null,
         null
        ]
       ],
       "datasetInfos": [],
       "dbfsResultPath": null,
       "isJsonSchema": true,
       "metadata": {},
       "overflow": false,
       "plotOptions": {
        "customPlotOptions": {},
        "displayType": "table",
        "pivotAggregation": null,
        "pivotColumns": null,
        "xColumns": null,
        "yColumns": null
       },
       "removedWidgets": [],
       "schema": [
        {
         "metadata": "{}",
         "name": "id",
         "type": "\"long\""
        },
        {
         "metadata": "{}",
         "name": "name",
         "type": "\"string\""
        }
       ],
       "type": "table"
      }
     },
     "output_type": "display_data"
    }
   ],
   "source": [
    "from pyspark.sql import Row\n",
    "\n",
    "data = [\n",
    "    Row(id=1, name=\"Alekya\"),\n",
    "    Row(id=None, name=\"Bibin\"),\n",
    "    Row(id=3, name=None),\n",
    "    Row(id=None, name=None)\n",
    "]\n",
    "\n",
    "df_from_rows = spark.createDataFrame(data)\n",
    "display(df_from_rows)"
   ]
  },
  {
   "cell_type": "markdown",
   "metadata": {
    "application/vnd.databricks.v1+cell": {
     "cellMetadata": {},
     "inputWidgets": {},
     "nuid": "374f7e6a-4ebc-43ed-9505-467cb37ab5d4",
     "showTitle": false,
     "tableResultSettingsMap": {},
     "title": ""
    }
   },
   "source": [
    "**4) Creating empty DataFrame with NULL placeholders**"
   ]
  },
  {
   "cell_type": "code",
   "execution_count": 0,
   "metadata": {
    "application/vnd.databricks.v1+cell": {
     "cellMetadata": {
      "byteLimit": 2048000,
      "rowLimit": 10000
     },
     "inputWidgets": {},
     "nuid": "324eef6f-5502-4c1b-8f72-d7e69519fcd0",
     "showTitle": false,
     "tableResultSettingsMap": {},
     "title": ""
    }
   },
   "outputs": [
    {
     "output_type": "display_data",
     "data": {
      "text/html": [
       "<style scoped>\n",
       "  .table-result-container {\n",
       "    max-height: 300px;\n",
       "    overflow: auto;\n",
       "  }\n",
       "  table, th, td {\n",
       "    border: 1px solid black;\n",
       "    border-collapse: collapse;\n",
       "  }\n",
       "  th, td {\n",
       "    padding: 5px;\n",
       "  }\n",
       "  th {\n",
       "    text-align: left;\n",
       "  }\n",
       "</style><div class='table-result-container'><table class='table-result'><thead style='background-color: white'><tr><th>id</th><th>name</th></tr></thead><tbody><tr><td>null</td><td>null</td></tr><tr><td>null</td><td>null</td></tr><tr><td>null</td><td>null</td></tr><tr><td>null</td><td>null</td></tr><tr><td>null</td><td>null</td></tr></tbody></table></div>"
      ]
     },
     "metadata": {
      "application/vnd.databricks.v1+output": {
       "addedWidgets": {},
       "aggData": [],
       "aggError": "",
       "aggOverflow": false,
       "aggSchema": [],
       "aggSeriesLimitReached": false,
       "aggType": "",
       "arguments": {},
       "columnCustomDisplayInfos": {},
       "data": [
        [
         null,
         null
        ],
        [
         null,
         null
        ],
        [
         null,
         null
        ],
        [
         null,
         null
        ],
        [
         null,
         null
        ]
       ],
       "datasetInfos": [],
       "dbfsResultPath": null,
       "isJsonSchema": true,
       "metadata": {},
       "overflow": false,
       "plotOptions": {
        "customPlotOptions": {},
        "displayType": "table",
        "pivotAggregation": null,
        "pivotColumns": null,
        "xColumns": null,
        "yColumns": null
       },
       "removedWidgets": [],
       "schema": [
        {
         "metadata": "{}",
         "name": "id",
         "type": "\"integer\""
        },
        {
         "metadata": "{}",
         "name": "name",
         "type": "\"string\""
        }
       ],
       "type": "table"
      }
     },
     "output_type": "display_data"
    }
   ],
   "source": [
    "# Define schema\n",
    "schema = StructType([\n",
    "    StructField(\"id\", IntegerType(), True),\n",
    "    StructField(\"name\", StringType(), True),\n",
    "])\n",
    "\n",
    "# Just placeholders with all nulls\n",
    "empty_data = [(None, None), (None, None), (None, None), (None, None), (None, None)]\n",
    "\n",
    "df_null_placeholder = spark.createDataFrame(empty_data, schema)\n",
    "display(df_null_placeholder)"
   ]
  }
 ],
 "metadata": {
  "application/vnd.databricks.v1+notebook": {
   "computePreferences": null,
   "dashboards": [],
   "environmentMetadata": {
    "base_environment": "",
    "environment_version": "1"
   },
   "inputWidgetPreferences": null,
   "language": "python",
   "notebookMetadata": {
    "pythonIndentUnit": 4
   },
   "notebookName": "2_How to create dataframe with NULL values",
   "widgets": {}
  }
 },
 "nbformat": 4,
 "nbformat_minor": 0
}