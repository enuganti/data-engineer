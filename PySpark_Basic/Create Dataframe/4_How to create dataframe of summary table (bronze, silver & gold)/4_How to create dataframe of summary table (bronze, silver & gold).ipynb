{
 "cells": [
  {
   "cell_type": "markdown",
   "metadata": {
    "application/vnd.databricks.v1+cell": {
     "cellMetadata": {},
     "inputWidgets": {},
     "nuid": "7e54d625-6555-48f8-909d-fe8abfa33576",
     "showTitle": false,
     "tableResultSettingsMap": {},
     "title": ""
    }
   },
   "source": [
    "#### How to create dataframe (summary table) for bronze, silver & gold tables? "
   ]
  },
  {
   "cell_type": "markdown",
   "metadata": {
    "application/vnd.databricks.v1+cell": {
     "cellMetadata": {},
     "inputWidgets": {},
     "nuid": "7dc82dda-22ad-4e8c-9ac2-a674420ab490",
     "showTitle": false,
     "tableResultSettingsMap": {},
     "title": ""
    }
   },
   "source": [
    "| DataFrame\t| Row_Count\t| Distinct_Count\t| Aggregated_Sessions\t| Min_Sessions | Max_Sessions\t| Avg_Sessions | Null_Sessions | \tColumns_Count |\n",
    "|-----------|-----------|-----------------|---------------------|--------------|--------------|--------------|---------------|--------------|\n",
    "| Silver_tbl_01\t| 100\t| 100\t| 8370\t| 3\t| 195\t| 83.7\t| 0\t| 13 |\n",
    "| Silver_tbl_02\t| 100\t| 100\t| 7654\t| 8\t| 191\t| 76.54\t| 0\t| 11 |\n",
    "| Gold_table\t  | 200\t| 200\t| 16024\t| 3\t| 195\t| 80.12\t| 0\t| 14 |"
   ]
  },
  {
   "cell_type": "code",
   "execution_count": 0,
   "metadata": {
    "application/vnd.databricks.v1+cell": {
     "cellMetadata": {
      "byteLimit": 2048000,
      "rowLimit": 10000
     },
     "inputWidgets": {},
     "nuid": "9fd860c7-7dba-48ed-8147-ad04761d85a4",
     "showTitle": false,
     "tableResultSettingsMap": {},
     "title": ""
    }
   },
   "outputs": [],
   "source": [
    "from pyspark.sql.functions import lit, col, sum"
   ]
  },
  {
   "cell_type": "code",
   "execution_count": 0,
   "metadata": {
    "application/vnd.databricks.v1+cell": {
     "cellMetadata": {
      "byteLimit": 2048000,
      "rowLimit": 10000
     },
     "inputWidgets": {},
     "nuid": "264fde8c-a3bf-45c8-b375-ca11243e9a7e",
     "showTitle": true,
     "tableResultSettingsMap": {},
     "title": "Silver Table: 01"
    }
   },
   "outputs": [
    {
     "output_type": "stream",
     "name": "stdout",
     "output_type": "stream",
     "text": [
      "Column Names of Silver Table 1: \n ['start_date', 'product_url', 'category', 'default_group', 'source_target', 'cloud_flatform', 'session_id', 'session_name', 'status_name', 'status_type', 'sessions', 'product_id', 'load datetime']\n\nNo of Columns in Silver Table 1:  13\n\nTotal Rows in Silver Table 01:  100\n"
     ]
    },
    {
     "output_type": "display_data",
     "data": {
      "text/html": [
       "<style scoped>\n",
       "  .table-result-container {\n",
       "    max-height: 300px;\n",
       "    overflow: auto;\n",
       "  }\n",
       "  table, th, td {\n",
       "    border: 1px solid black;\n",
       "    border-collapse: collapse;\n",
       "  }\n",
       "  th, td {\n",
       "    padding: 5px;\n",
       "  }\n",
       "  th {\n",
       "    text-align: left;\n",
       "  }\n",
       "</style><div class='table-result-container'><table class='table-result'><thead style='background-color: white'><tr><th>start_date</th><th>product_url</th><th>category</th><th>default_group</th><th>source_target</th><th>cloud_flatform</th><th>session_id</th><th>session_name</th><th>status_name</th><th>status_type</th><th>sessions</th><th>product_id</th><th>load datetime</th></tr></thead><tbody><tr><td>2025-08-25</td><td>shop.sony.bpl</td><td>mobile</td><td>wifi-network</td><td>google</td><td>azure / aws / gcc</td><td>9876543</td><td>first_visit</td><td>first_visit</td><td>Not Available</td><td>5</td><td>409516064</td><td>2025-09-02T19:10:35</td></tr><tr><td>2025-08-26</td><td>shop.sony.bpl</td><td>mobile</td><td>wifi-network</td><td>google</td><td>azure / aws / gcc</td><td>9876544</td><td>purchase</td><td>organic</td><td>Not Available</td><td>12</td><td>409516064</td><td>2025-09-02T19:10:36</td></tr><tr><td>2025-08-27</td><td>shop.sony.bpl</td><td>mobile</td><td>wifi-network</td><td>google</td><td>azure / aws / gcc</td><td>9876545</td><td>search</td><td>network</td><td>Not Available</td><td>16</td><td>409516064</td><td>2025-09-02T19:10:37</td></tr><tr><td>2025-08-28</td><td>shop.sony.bpl</td><td>mobile</td><td>wifi-network</td><td>google</td><td>azure / aws / gcc</td><td>9876546</td><td>search</td><td>scroll</td><td>Not Available</td><td>22</td><td>409516064</td><td>2025-09-02T19:10:38</td></tr><tr><td>2025-08-29</td><td>shop.sony.bpl</td><td>mobile</td><td>wifi-network</td><td>google</td><td>azure / aws / gcc</td><td>9876547</td><td>search</td><td>organic</td><td>Not Available</td><td>25</td><td>409516064</td><td>2025-09-02T19:10:39</td></tr><tr><td>2025-08-30</td><td>shop.sony.bpl</td><td>mobile</td><td>wifi-network</td><td>(not set)</td><td>azure / aws / gcc</td><td>9876548</td><td>add_to_cart</td><td>organic</td><td>Not Available</td><td>4</td><td>409516064</td><td>2025-09-02T19:10:40</td></tr><tr><td>2025-08-31</td><td>shop.sony.bpl</td><td>mobile</td><td>wifi-network</td><td>(not set)</td><td>azure / aws / gcc</td><td>9876549</td><td>add_to_cart</td><td>organic</td><td>Not Available</td><td>9</td><td>409516064</td><td>2025-09-02T19:10:41</td></tr><tr><td>2025-09-01</td><td>shop.sony.bpl</td><td>mobile</td><td>wifi-network</td><td>(none) / (direct)</td><td>azure / aws / gcc</td><td>9876550</td><td>add_to_cart</td><td>first_visit</td><td>Not Available</td><td>8</td><td>409516064</td><td>2025-09-02T19:10:42</td></tr><tr><td>2025-09-02</td><td>shop.sony.bpl</td><td>mobile</td><td>wifi-network</td><td>flipkart / referral</td><td>azure / aws / gcc</td><td>9876551</td><td>add_to_cart</td><td>first_visit</td><td>Not Available</td><td>7</td><td>409516064</td><td>2025-09-02T19:10:43</td></tr><tr><td>2025-09-03</td><td>shop.sony.bpl</td><td>mobile</td><td>wifi-network</td><td>(data not available)</td><td>azure / aws / gcc</td><td>9876552</td><td>add_to_cart</td><td>first_visit</td><td>Not Available</td><td>6</td><td>409516064</td><td>2025-09-02T19:10:44</td></tr></tbody></table></div>"
      ]
     },
     "metadata": {
      "application/vnd.databricks.v1+output": {
       "addedWidgets": {},
       "aggData": [],
       "aggError": "",
       "aggOverflow": false,
       "aggSchema": [],
       "aggSeriesLimitReached": false,
       "aggType": "",
       "arguments": {},
       "columnCustomDisplayInfos": {},
       "data": [
        [
         "2025-08-25",
         "shop.sony.bpl",
         "mobile",
         "wifi-network",
         "google",
         "azure / aws / gcc",
         "9876543",
         "first_visit",
         "first_visit",
         "Not Available",
         5,
         409516064,
         "2025-09-02T19:10:35"
        ],
        [
         "2025-08-26",
         "shop.sony.bpl",
         "mobile",
         "wifi-network",
         "google",
         "azure / aws / gcc",
         "9876544",
         "purchase",
         "organic",
         "Not Available",
         12,
         409516064,
         "2025-09-02T19:10:36"
        ],
        [
         "2025-08-27",
         "shop.sony.bpl",
         "mobile",
         "wifi-network",
         "google",
         "azure / aws / gcc",
         "9876545",
         "search",
         "network",
         "Not Available",
         16,
         409516064,
         "2025-09-02T19:10:37"
        ],
        [
         "2025-08-28",
         "shop.sony.bpl",
         "mobile",
         "wifi-network",
         "google",
         "azure / aws / gcc",
         "9876546",
         "search",
         "scroll",
         "Not Available",
         22,
         409516064,
         "2025-09-02T19:10:38"
        ],
        [
         "2025-08-29",
         "shop.sony.bpl",
         "mobile",
         "wifi-network",
         "google",
         "azure / aws / gcc",
         "9876547",
         "search",
         "organic",
         "Not Available",
         25,
         409516064,
         "2025-09-02T19:10:39"
        ],
        [
         "2025-08-30",
         "shop.sony.bpl",
         "mobile",
         "wifi-network",
         "(not set)",
         "azure / aws / gcc",
         "9876548",
         "add_to_cart",
         "organic",
         "Not Available",
         4,
         409516064,
         "2025-09-02T19:10:40"
        ],
        [
         "2025-08-31",
         "shop.sony.bpl",
         "mobile",
         "wifi-network",
         "(not set)",
         "azure / aws / gcc",
         "9876549",
         "add_to_cart",
         "organic",
         "Not Available",
         9,
         409516064,
         "2025-09-02T19:10:41"
        ],
        [
         "2025-09-01",
         "shop.sony.bpl",
         "mobile",
         "wifi-network",
         "(none) / (direct)",
         "azure / aws / gcc",
         "9876550",
         "add_to_cart",
         "first_visit",
         "Not Available",
         8,
         409516064,
         "2025-09-02T19:10:42"
        ],
        [
         "2025-09-02",
         "shop.sony.bpl",
         "mobile",
         "wifi-network",
         "flipkart / referral",
         "azure / aws / gcc",
         "9876551",
         "add_to_cart",
         "first_visit",
         "Not Available",
         7,
         409516064,
         "2025-09-02T19:10:43"
        ],
        [
         "2025-09-03",
         "shop.sony.bpl",
         "mobile",
         "wifi-network",
         "(data not available)",
         "azure / aws / gcc",
         "9876552",
         "add_to_cart",
         "first_visit",
         "Not Available",
         6,
         409516064,
         "2025-09-02T19:10:44"
        ]
       ],
       "datasetInfos": [],
       "dbfsResultPath": null,
       "isJsonSchema": true,
       "metadata": {},
       "overflow": false,
       "plotOptions": {
        "customPlotOptions": {},
        "displayType": "table",
        "pivotAggregation": null,
        "pivotColumns": null,
        "xColumns": null,
        "yColumns": null
       },
       "removedWidgets": [],
       "schema": [
        {
         "metadata": "{\"__detected_date_formats\": \"d-M-yyyy\"}",
         "name": "start_date",
         "type": "\"date\""
        },
        {
         "metadata": "{}",
         "name": "product_url",
         "type": "\"string\""
        },
        {
         "metadata": "{}",
         "name": "category",
         "type": "\"string\""
        },
        {
         "metadata": "{}",
         "name": "default_group",
         "type": "\"string\""
        },
        {
         "metadata": "{}",
         "name": "source_target",
         "type": "\"string\""
        },
        {
         "metadata": "{}",
         "name": "cloud_flatform",
         "type": "\"string\""
        },
        {
         "metadata": "{}",
         "name": "session_id",
         "type": "\"string\""
        },
        {
         "metadata": "{}",
         "name": "session_name",
         "type": "\"string\""
        },
        {
         "metadata": "{}",
         "name": "status_name",
         "type": "\"string\""
        },
        {
         "metadata": "{}",
         "name": "status_type",
         "type": "\"string\""
        },
        {
         "metadata": "{}",
         "name": "sessions",
         "type": "\"integer\""
        },
        {
         "metadata": "{}",
         "name": "product_id",
         "type": "\"integer\""
        },
        {
         "metadata": "{}",
         "name": "load datetime",
         "type": "\"string\""
        }
       ],
       "type": "table"
      }
     },
     "output_type": "display_data"
    }
   ],
   "source": [
    "silver_tbl_01 = spark.read.csv(\"/Volumes/@azureadb/pyspark/unionby/company_level.csv\", header=True, inferSchema=True)\n",
    "silver_tbl_01 = silver_tbl_01.withColumn(\"session_id\", col(\"session_id\").cast(\"string\"))\n",
    "\n",
    "print(\"Column Names of Silver Table 1: \\n\", silver_tbl_01.columns)\n",
    "print(\"\\nNo of Columns in Silver Table 1: \", len(silver_tbl_01.columns))\n",
    "print(\"\\nTotal Rows in Silver Table 01: \", silver_tbl_01.count())\n",
    "\n",
    "display(silver_tbl_01.limit(10))"
   ]
  },
  {
   "cell_type": "code",
   "execution_count": 0,
   "metadata": {
    "application/vnd.databricks.v1+cell": {
     "cellMetadata": {
      "byteLimit": 2048000,
      "rowLimit": 10000
     },
     "inputWidgets": {},
     "nuid": "d528be1f-7847-47d8-a9f6-21d4310e15ee",
     "showTitle": true,
     "tableResultSettingsMap": {},
     "title": "Silver Table: 02"
    }
   },
   "outputs": [
    {
     "output_type": "stream",
     "name": "stdout",
     "output_type": "stream",
     "text": [
      "Column Names of Silver Table 2: \n ['start_date', 'product_url', 'category', 'default_group', 'source_target', 'cloud_flatform', 'status_name', 'status_type', 'sessions', 'product_id', 'load datetime']\n\nNo of Columns in Silver Table 2:  11\n\nTotal Rows in Silver Table 02:  100\n"
     ]
    },
    {
     "output_type": "display_data",
     "data": {
      "text/html": [
       "<style scoped>\n",
       "  .table-result-container {\n",
       "    max-height: 300px;\n",
       "    overflow: auto;\n",
       "  }\n",
       "  table, th, td {\n",
       "    border: 1px solid black;\n",
       "    border-collapse: collapse;\n",
       "  }\n",
       "  th, td {\n",
       "    padding: 5px;\n",
       "  }\n",
       "  th {\n",
       "    text-align: left;\n",
       "  }\n",
       "</style><div class='table-result-container'><table class='table-result'><thead style='background-color: white'><tr><th>start_date</th><th>product_url</th><th>category</th><th>default_group</th><th>source_target</th><th>cloud_flatform</th><th>status_name</th><th>status_type</th><th>sessions</th><th>product_id</th><th>load datetime</th></tr></thead><tbody><tr><td>2025-08-25</td><td>shop.sony.bpl</td><td>mobile</td><td>wifi-network</td><td>google</td><td>azure / aws / gcc</td><td>first_visit</td><td>Not Available</td><td>55</td><td>409516064</td><td>2025-09-02T19:10:35</td></tr><tr><td>2025-08-26</td><td>shop.sony.bpl</td><td>mobile</td><td>wifi-network</td><td>google</td><td>azure / aws / gcc</td><td>organic</td><td>Not Available</td><td>12</td><td>409516064</td><td>2025-09-02T19:10:36</td></tr><tr><td>2025-08-27</td><td>shop.sony.bpl</td><td>mobile</td><td>wifi-network</td><td>google</td><td>azure / aws / gcc</td><td>network</td><td>Not Available</td><td>16</td><td>409516064</td><td>2025-09-02T19:10:37</td></tr><tr><td>2025-08-28</td><td>shop.sony.bpl</td><td>mobile</td><td>wifi-network</td><td>google</td><td>azure / aws / gcc</td><td>scroll</td><td>Not Available</td><td>22</td><td>409516064</td><td>2025-09-02T19:10:38</td></tr><tr><td>2025-08-29</td><td>shop.sony.bpl</td><td>mobile</td><td>wifi-network</td><td>google</td><td>azure / aws / gcc</td><td>organic</td><td>Not Available</td><td>25</td><td>409516064</td><td>2025-09-02T19:10:39</td></tr><tr><td>2025-08-30</td><td>shop.sony.bpl</td><td>mobile</td><td>wifi-network</td><td>(not set)</td><td>azure / aws / gcc</td><td>organic</td><td>Not Available</td><td>41</td><td>409516064</td><td>2025-09-02T19:10:40</td></tr><tr><td>2025-08-31</td><td>shop.sony.bpl</td><td>mobile</td><td>wifi-network</td><td>(not set)</td><td>azure / aws / gcc</td><td>organic</td><td>Not Available</td><td>91</td><td>409516064</td><td>2025-09-02T19:10:41</td></tr><tr><td>2025-09-01</td><td>shop.sony.bpl</td><td>mobile</td><td>wifi-network</td><td>(none) / (direct)</td><td>azure / aws / gcc</td><td>first_visit</td><td>Not Available</td><td>28</td><td>409516064</td><td>2025-09-02T19:10:42</td></tr><tr><td>2025-09-02</td><td>shop.sony.bpl</td><td>mobile</td><td>wifi-network</td><td>flipkart / referral</td><td>azure / aws / gcc</td><td>first_visit</td><td>Not Available</td><td>17</td><td>409516064</td><td>2025-09-02T19:10:43</td></tr><tr><td>2025-09-03</td><td>shop.sony.bpl</td><td>mobile</td><td>wifi-network</td><td>(data not available)</td><td>azure / aws / gcc</td><td>first_visit</td><td>Not Available</td><td>16</td><td>409516064</td><td>2025-09-02T19:10:44</td></tr></tbody></table></div>"
      ]
     },
     "metadata": {
      "application/vnd.databricks.v1+output": {
       "addedWidgets": {},
       "aggData": [],
       "aggError": "",
       "aggOverflow": false,
       "aggSchema": [],
       "aggSeriesLimitReached": false,
       "aggType": "",
       "arguments": {},
       "columnCustomDisplayInfos": {},
       "data": [
        [
         "2025-08-25",
         "shop.sony.bpl",
         "mobile",
         "wifi-network",
         "google",
         "azure / aws / gcc",
         "first_visit",
         "Not Available",
         55,
         409516064,
         "2025-09-02T19:10:35"
        ],
        [
         "2025-08-26",
         "shop.sony.bpl",
         "mobile",
         "wifi-network",
         "google",
         "azure / aws / gcc",
         "organic",
         "Not Available",
         12,
         409516064,
         "2025-09-02T19:10:36"
        ],
        [
         "2025-08-27",
         "shop.sony.bpl",
         "mobile",
         "wifi-network",
         "google",
         "azure / aws / gcc",
         "network",
         "Not Available",
         16,
         409516064,
         "2025-09-02T19:10:37"
        ],
        [
         "2025-08-28",
         "shop.sony.bpl",
         "mobile",
         "wifi-network",
         "google",
         "azure / aws / gcc",
         "scroll",
         "Not Available",
         22,
         409516064,
         "2025-09-02T19:10:38"
        ],
        [
         "2025-08-29",
         "shop.sony.bpl",
         "mobile",
         "wifi-network",
         "google",
         "azure / aws / gcc",
         "organic",
         "Not Available",
         25,
         409516064,
         "2025-09-02T19:10:39"
        ],
        [
         "2025-08-30",
         "shop.sony.bpl",
         "mobile",
         "wifi-network",
         "(not set)",
         "azure / aws / gcc",
         "organic",
         "Not Available",
         41,
         409516064,
         "2025-09-02T19:10:40"
        ],
        [
         "2025-08-31",
         "shop.sony.bpl",
         "mobile",
         "wifi-network",
         "(not set)",
         "azure / aws / gcc",
         "organic",
         "Not Available",
         91,
         409516064,
         "2025-09-02T19:10:41"
        ],
        [
         "2025-09-01",
         "shop.sony.bpl",
         "mobile",
         "wifi-network",
         "(none) / (direct)",
         "azure / aws / gcc",
         "first_visit",
         "Not Available",
         28,
         409516064,
         "2025-09-02T19:10:42"
        ],
        [
         "2025-09-02",
         "shop.sony.bpl",
         "mobile",
         "wifi-network",
         "flipkart / referral",
         "azure / aws / gcc",
         "first_visit",
         "Not Available",
         17,
         409516064,
         "2025-09-02T19:10:43"
        ],
        [
         "2025-09-03",
         "shop.sony.bpl",
         "mobile",
         "wifi-network",
         "(data not available)",
         "azure / aws / gcc",
         "first_visit",
         "Not Available",
         16,
         409516064,
         "2025-09-02T19:10:44"
        ]
       ],
       "datasetInfos": [],
       "dbfsResultPath": null,
       "isJsonSchema": true,
       "metadata": {},
       "overflow": false,
       "plotOptions": {
        "customPlotOptions": {},
        "displayType": "table",
        "pivotAggregation": null,
        "pivotColumns": null,
        "xColumns": null,
        "yColumns": null
       },
       "removedWidgets": [],
       "schema": [
        {
         "metadata": "{\"__detected_date_formats\": \"d-M-yyyy\"}",
         "name": "start_date",
         "type": "\"date\""
        },
        {
         "metadata": "{}",
         "name": "product_url",
         "type": "\"string\""
        },
        {
         "metadata": "{}",
         "name": "category",
         "type": "\"string\""
        },
        {
         "metadata": "{}",
         "name": "default_group",
         "type": "\"string\""
        },
        {
         "metadata": "{}",
         "name": "source_target",
         "type": "\"string\""
        },
        {
         "metadata": "{}",
         "name": "cloud_flatform",
         "type": "\"string\""
        },
        {
         "metadata": "{}",
         "name": "status_name",
         "type": "\"string\""
        },
        {
         "metadata": "{}",
         "name": "status_type",
         "type": "\"string\""
        },
        {
         "metadata": "{}",
         "name": "sessions",
         "type": "\"integer\""
        },
        {
         "metadata": "{}",
         "name": "product_id",
         "type": "\"integer\""
        },
        {
         "metadata": "{}",
         "name": "load datetime",
         "type": "\"string\""
        }
       ],
       "type": "table"
      }
     },
     "output_type": "display_data"
    }
   ],
   "source": [
    "silver_tbl_02 = spark.read.csv(\"/Volumes/@azureadb/pyspark/unionby/device_level.csv\", header=True, inferSchema=True)\n",
    "\n",
    "print(\"Column Names of Silver Table 2: \\n\", silver_tbl_02.columns)\n",
    "print(\"\\nNo of Columns in Silver Table 2: \", len(silver_tbl_02.columns))\n",
    "print(\"\\nTotal Rows in Silver Table 02: \", silver_tbl_02.count())\n",
    "\n",
    "display(silver_tbl_02.limit(10))"
   ]
  },
  {
   "cell_type": "code",
   "execution_count": 0,
   "metadata": {
    "application/vnd.databricks.v1+cell": {
     "cellMetadata": {
      "byteLimit": 2048000,
      "rowLimit": 10000
     },
     "inputWidgets": {},
     "nuid": "4ec1e086-de68-474a-ae9b-82565f6be293",
     "showTitle": false,
     "tableResultSettingsMap": {},
     "title": ""
    }
   },
   "outputs": [
    {
     "output_type": "stream",
     "name": "stdout",
     "output_type": "stream",
     "text": [
      "Columns in Silver Table 1 but not in Silver Table 2:  {'session_name', 'session_id'}\n"
     ]
    }
   ],
   "source": [
    "diff_cols_silver_1_2 = set(silver_tbl_01.columns) - set(silver_tbl_02.columns)\n",
    "print(\"Columns in Silver Table 1 but not in Silver Table 2: \", diff_cols_silver_1_2)"
   ]
  },
  {
   "cell_type": "code",
   "execution_count": 0,
   "metadata": {
    "application/vnd.databricks.v1+cell": {
     "cellMetadata": {
      "byteLimit": 2048000,
      "rowLimit": 10000
     },
     "inputWidgets": {},
     "nuid": "d70ee059-d861-484a-9eca-526b1bbb0055",
     "showTitle": true,
     "tableResultSettingsMap": {},
     "title": "Gold Table: unionByName"
    }
   },
   "outputs": [
    {
     "output_type": "display_data",
     "data": {
      "text/html": [
       "<style scoped>\n",
       "  .table-result-container {\n",
       "    max-height: 300px;\n",
       "    overflow: auto;\n",
       "  }\n",
       "  table, th, td {\n",
       "    border: 1px solid black;\n",
       "    border-collapse: collapse;\n",
       "  }\n",
       "  th, td {\n",
       "    padding: 5px;\n",
       "  }\n",
       "  th {\n",
       "    text-align: left;\n",
       "  }\n",
       "</style><div class='table-result-container'><table class='table-result'><thead style='background-color: white'><tr><th>start_date</th><th>product_url</th><th>category</th><th>default_group</th><th>source_target</th><th>cloud_flatform</th><th>session_id</th><th>session_name</th><th>status_name</th><th>status_type</th><th>sessions</th><th>product_id</th><th>load datetime</th><th>GRANULARITY</th></tr></thead><tbody><tr><td>2025-08-25</td><td>shop.sony.bpl</td><td>mobile</td><td>wifi-network</td><td>google</td><td>azure / aws / gcc</td><td>9876543</td><td>first_visit</td><td>first_visit</td><td>Not Available</td><td>5</td><td>409516064</td><td>2025-09-02T19:10:35</td><td>campaign</td></tr><tr><td>2025-08-26</td><td>shop.sony.bpl</td><td>mobile</td><td>wifi-network</td><td>google</td><td>azure / aws / gcc</td><td>9876544</td><td>purchase</td><td>organic</td><td>Not Available</td><td>12</td><td>409516064</td><td>2025-09-02T19:10:36</td><td>campaign</td></tr><tr><td>2025-08-27</td><td>shop.sony.bpl</td><td>mobile</td><td>wifi-network</td><td>google</td><td>azure / aws / gcc</td><td>9876545</td><td>search</td><td>network</td><td>Not Available</td><td>16</td><td>409516064</td><td>2025-09-02T19:10:37</td><td>campaign</td></tr><tr><td>2025-08-28</td><td>shop.sony.bpl</td><td>mobile</td><td>wifi-network</td><td>google</td><td>azure / aws / gcc</td><td>9876546</td><td>search</td><td>scroll</td><td>Not Available</td><td>22</td><td>409516064</td><td>2025-09-02T19:10:38</td><td>campaign</td></tr><tr><td>2025-08-29</td><td>shop.sony.bpl</td><td>mobile</td><td>wifi-network</td><td>google</td><td>azure / aws / gcc</td><td>9876547</td><td>search</td><td>organic</td><td>Not Available</td><td>25</td><td>409516064</td><td>2025-09-02T19:10:39</td><td>campaign</td></tr><tr><td>2025-08-30</td><td>shop.sony.bpl</td><td>mobile</td><td>wifi-network</td><td>(not set)</td><td>azure / aws / gcc</td><td>9876548</td><td>add_to_cart</td><td>organic</td><td>Not Available</td><td>4</td><td>409516064</td><td>2025-09-02T19:10:40</td><td>campaign</td></tr><tr><td>2025-08-31</td><td>shop.sony.bpl</td><td>mobile</td><td>wifi-network</td><td>(not set)</td><td>azure / aws / gcc</td><td>9876549</td><td>add_to_cart</td><td>organic</td><td>Not Available</td><td>9</td><td>409516064</td><td>2025-09-02T19:10:41</td><td>campaign</td></tr><tr><td>2025-09-01</td><td>shop.sony.bpl</td><td>mobile</td><td>wifi-network</td><td>(none) / (direct)</td><td>azure / aws / gcc</td><td>9876550</td><td>add_to_cart</td><td>first_visit</td><td>Not Available</td><td>8</td><td>409516064</td><td>2025-09-02T19:10:42</td><td>campaign</td></tr><tr><td>2025-09-02</td><td>shop.sony.bpl</td><td>mobile</td><td>wifi-network</td><td>flipkart / referral</td><td>azure / aws / gcc</td><td>9876551</td><td>add_to_cart</td><td>first_visit</td><td>Not Available</td><td>7</td><td>409516064</td><td>2025-09-02T19:10:43</td><td>campaign</td></tr><tr><td>2025-09-03</td><td>shop.sony.bpl</td><td>mobile</td><td>wifi-network</td><td>(data not available)</td><td>azure / aws / gcc</td><td>9876552</td><td>add_to_cart</td><td>first_visit</td><td>Not Available</td><td>6</td><td>409516064</td><td>2025-09-02T19:10:44</td><td>campaign</td></tr><tr><td>2025-09-04</td><td>shop.sony.bpl</td><td>mobile</td><td>wifi-network</td><td>(none) / (direct)</td><td>azure / aws / gcc</td><td>9876553</td><td>add_to_cart</td><td>first_visit</td><td>Not Available</td><td>5</td><td>409516064</td><td>2025-09-02T19:10:45</td><td>campaign</td></tr><tr><td>2025-09-05</td><td>shop.sony.bpl</td><td>mobile</td><td>wifi-network</td><td>(data not available)</td><td>azure / aws / gcc</td><td>9876554</td><td>first_visit</td><td>user_engagement</td><td>Not Available</td><td>4</td><td>409516064</td><td>2025-09-02T19:10:46</td><td>campaign</td></tr><tr><td>2025-09-06</td><td>shop.sony.bpl</td><td>mobile</td><td>wifi-network</td><td>(data not available)</td><td>azure / aws / gcc</td><td>9876555</td><td>purchase</td><td>scroll</td><td>Not Available</td><td>3</td><td>409516064</td><td>2025-09-02T19:10:47</td><td>campaign</td></tr><tr><td>2025-09-07</td><td>shop.sony.bpl</td><td>mobile</td><td>wifi-network</td><td>(none) / (direct)</td><td>azure / aws / gcc</td><td>9876556</td><td>purchase</td><td>scroll</td><td>Not Available</td><td>19</td><td>409516064</td><td>2025-09-02T19:10:48</td><td>campaign</td></tr><tr><td>2025-09-08</td><td>shop.sony.bpl</td><td>mobile</td><td>wifi-network</td><td>TTD / video</td><td>azure / aws / gcc</td><td>9876557</td><td>purchase</td><td>scroll</td><td>Checkout</td><td>100</td><td>409516064</td><td>2025-09-02T19:10:49</td><td>campaign</td></tr><tr><td>2025-09-09</td><td>shop.sony.bpl</td><td>mobile</td><td>wifi-network</td><td>(not set)</td><td>azure / aws / gcc</td><td>9876558</td><td>purchase</td><td>scroll</td><td>Checkout</td><td>54</td><td>409516064</td><td>2025-09-02T19:10:50</td><td>campaign</td></tr><tr><td>2025-09-10</td><td>shop.sony.bpl</td><td>mobile</td><td>wifi-network</td><td>flipkart / referral</td><td>azure / aws / gcc</td><td>9876559</td><td>purchase</td><td>network</td><td>Checkout</td><td>36</td><td>409516064</td><td>2025-09-02T19:10:51</td><td>campaign</td></tr><tr><td>2025-09-11</td><td>shop.sony.bpl</td><td>mobile</td><td>wifi-network</td><td>email / email</td><td>azure / aws / gcc</td><td>9876560</td><td>purchase</td><td>network</td><td>Checkout</td><td>23</td><td>409516064</td><td>2025-09-02T19:10:52</td><td>campaign</td></tr><tr><td>2025-09-12</td><td>shop.sony.bpl</td><td>mobile</td><td>wifi-network</td><td>(not available) / paid_social</td><td>azure / aws / gcc</td><td>9876561</td><td>purchase</td><td>network</td><td>Checkout</td><td>98</td><td>409516064</td><td>2025-09-02T19:10:53</td><td>campaign</td></tr><tr><td>2025-09-13</td><td>shop.sony.bpl</td><td>mobile</td><td>wifi-network</td><td>instagram / organic</td><td>azure / aws / gcc</td><td>9876562</td><td>purchase</td><td>last_visit</td><td>Checkout</td><td>78</td><td>409516064</td><td>2025-09-02T19:10:54</td><td>campaign</td></tr><tr><td>2025-09-14</td><td>shop.sony.bpl</td><td>mobile</td><td>wifi-network</td><td>(data not available)</td><td>azure / aws / gcc</td><td>9876563</td><td>purchase</td><td>user_engagement</td><td>Checkout</td><td>76</td><td>409516064</td><td>2025-09-02T19:10:55</td><td>campaign</td></tr><tr><td>2025-09-15</td><td>shop.sony.bpl</td><td>mobile</td><td>wifi-network</td><td>(data not available)</td><td>azure / aws / gcc</td><td>9876564</td><td>first_visit</td><td>user_engagement</td><td>Checkout</td><td>74</td><td>409516064</td><td>2025-09-02T19:10:56</td><td>campaign</td></tr><tr><td>2025-09-16</td><td>shop.sony.bpl</td><td>mobile</td><td>wifi-network</td><td>(data not available)</td><td>azure / aws / gcc</td><td>9876565</td><td>first_visit</td><td>user_engagement</td><td>Checkout</td><td>63</td><td>409516064</td><td>2025-09-02T19:10:57</td><td>campaign</td></tr><tr><td>2025-09-17</td><td>shop.sony.bpl</td><td>mobile</td><td>wifi-network</td><td>TTD / video</td><td>azure / aws / gcc</td><td>9876566</td><td>first_visit</td><td>user_engagement</td><td>Checkout</td><td>90</td><td>409516064</td><td>2025-09-02T19:10:58</td><td>campaign</td></tr><tr><td>2025-09-18</td><td>shop.sony.bpl</td><td>mobile</td><td>wifi-network</td><td>github.com / referral</td><td>azure / aws / gcc</td><td>9876567</td><td>first_visit</td><td>user_engagement</td><td>Checkout</td><td>171</td><td>409516064</td><td>2025-09-02T19:10:59</td><td>campaign</td></tr><tr><td>2025-09-19</td><td>shop.sony.bpl</td><td>mobile</td><td>wifi-network</td><td>(none) / (direct)</td><td>azure / aws / gcc</td><td>9876568</td><td>first_visit</td><td>organic</td><td>Checkout</td><td>172</td><td>409516064</td><td>2025-09-02T19:10:60</td><td>campaign</td></tr><tr><td>2025-09-20</td><td>shop.sony.bpl</td><td>mobile</td><td>wifi-network</td><td>email / email</td><td>azure / aws / gcc</td><td>9876569</td><td>first_visit</td><td>organic</td><td>Checkout</td><td>173</td><td>409516064</td><td>2025-09-02T19:10:61</td><td>campaign</td></tr><tr><td>2025-09-21</td><td>shop.sony.bpl</td><td>mobile</td><td>wifi-network</td><td>TTD / video</td><td>azure / aws / gcc</td><td>9876570</td><td>first_visit</td><td>organic</td><td>Checkout</td><td>174</td><td>409516064</td><td>2025-09-02T19:10:62</td><td>campaign</td></tr><tr><td>2025-09-22</td><td>shop.sony.bpl</td><td>mobile</td><td>wifi-network</td><td>(data not available)</td><td>azure / aws / gcc</td><td>9876571</td><td>first_visit</td><td>network</td><td>Subscribe</td><td>175</td><td>409516064</td><td>2025-09-02T19:10:63</td><td>campaign</td></tr><tr><td>2025-09-23</td><td>shop.sony.bpl</td><td>mobile</td><td>wifi-network</td><td>(data not available)</td><td>azure / aws / gcc</td><td>9876572</td><td>first_visit</td><td>network</td><td>Subscribe</td><td>176</td><td>409516064</td><td>2025-09-02T19:10:64</td><td>campaign</td></tr><tr><td>2025-09-24</td><td>shop.sony.bpl</td><td>mobile</td><td>wifi-network</td><td>(data not available)</td><td>azure / aws / gcc</td><td>9876573</td><td>first_visit</td><td>search</td><td>Subscribe</td><td>177</td><td>409516064</td><td>2025-09-02T19:10:65</td><td>campaign</td></tr><tr><td>2025-09-25</td><td>shop.sony.bpl</td><td>mobile</td><td>wifi-network</td><td>(none) / (direct)</td><td>azure / aws / gcc</td><td>9876574</td><td>first_visit</td><td>referral</td><td>Subscribe</td><td>74</td><td>409516064</td><td>2025-09-02T19:10:66</td><td>campaign</td></tr><tr><td>2025-09-26</td><td>shop.sony.bpl</td><td>mobile</td><td>wifi-network</td><td>meta.com / referral</td><td>azure / aws / gcc</td><td>9876575</td><td>session_start</td><td>referral</td><td>Subscribe</td><td>78</td><td>409516064</td><td>2025-09-02T19:10:67</td><td>campaign</td></tr><tr><td>2025-09-27</td><td>shop.sony.bpl</td><td>mobile</td><td>wifi-network</td><td>github.com / referral</td><td>azure / aws / gcc</td><td>9876576</td><td>session_start</td><td>network</td><td>Subscribe</td><td>79</td><td>409516064</td><td>2025-09-02T19:10:68</td><td>campaign</td></tr><tr><td>2025-09-28</td><td>shop.sony.bpl</td><td>mobile</td><td>wifi-network</td><td>github.com / referral</td><td>azure / aws / gcc</td><td>9876577</td><td>session_start</td><td>network</td><td>Subscribe</td><td>90</td><td>409516064</td><td>2025-09-02T19:10:69</td><td>campaign</td></tr><tr><td>2025-09-29</td><td>shop.sony.bpl</td><td>mobile</td><td>wifi-network</td><td>email / email</td><td>azure / aws / gcc</td><td>9876578</td><td>session_start</td><td>network</td><td>Subscribe</td><td>191</td><td>409516064</td><td>2025-09-02T19:10:70</td><td>campaign</td></tr><tr><td>2025-09-30</td><td>shop.sony.bpl</td><td>mobile</td><td>wifi-network</td><td>(not set)</td><td>azure / aws / gcc</td><td>9876579</td><td>session_start</td><td>network</td><td>Subscribe</td><td>195</td><td>409516064</td><td>2025-09-02T19:10:71</td><td>campaign</td></tr><tr><td>2025-10-01</td><td>shop.sony.bpl</td><td>mobile</td><td>wifi-network</td><td>(not set)</td><td>azure / aws / gcc</td><td>9876580</td><td>first_visit</td><td>network</td><td>Subscribe</td><td>111</td><td>409516064</td><td>2025-09-02T19:10:72</td><td>campaign</td></tr><tr><td>2025-10-02</td><td>shop.sony.bpl</td><td>mobile</td><td>wifi-network</td><td>(not set)</td><td>azure / aws / gcc</td><td>9876581</td><td>first_visit</td><td>organic</td><td>Search</td><td>113</td><td>409516064</td><td>2025-09-02T19:10:73</td><td>campaign</td></tr><tr><td>2025-10-03</td><td>shop.sony.bpl</td><td>mobile</td><td>wifi-network</td><td>github.com / referral</td><td>azure / aws / gcc</td><td>9876582</td><td>first_visit</td><td>organic</td><td>Search</td><td>115</td><td>409516064</td><td>2025-09-02T19:10:74</td><td>campaign</td></tr><tr><td>2025-10-04</td><td>shop.sony.bpl</td><td>mobile</td><td>wifi-network</td><td>github.com / referral</td><td>azure / aws / gcc</td><td>9876583</td><td>first_visit</td><td>organic</td><td>Search</td><td>118</td><td>409516064</td><td>2025-09-02T19:10:75</td><td>campaign</td></tr><tr><td>2025-10-05</td><td>shop.sony.bpl</td><td>mobile</td><td>wifi-network</td><td>google / display</td><td>azure / aws / gcc</td><td>9876584</td><td>first_visit</td><td>organic</td><td>Search</td><td>119</td><td>409516064</td><td>2025-09-02T19:10:76</td><td>campaign</td></tr><tr><td>2025-10-06</td><td>shop.sony.bpl</td><td>mobile</td><td>wifi-network</td><td>(not set) / paid_social</td><td>azure / aws / gcc</td><td>9876585</td><td>first_visit</td><td>organic</td><td>Search</td><td>127</td><td>409516064</td><td>2025-09-02T19:10:77</td><td>campaign</td></tr><tr><td>2025-10-07</td><td>shop.sony.bpl</td><td>mobile</td><td>wifi-network</td><td>(data not available)</td><td>azure / aws / gcc</td><td>9876586</td><td>first_visit</td><td>organic</td><td>Search</td><td>129</td><td>409516064</td><td>2025-09-02T19:10:78</td><td>campaign</td></tr><tr><td>2025-10-08</td><td>shop.sony.bpl</td><td>mobile</td><td>wifi-network</td><td>(not available) / paid_social</td><td>azure / aws / gcc</td><td>9876587</td><td>add_to_cart</td><td>search</td><td>Search</td><td>12</td><td>409516064</td><td>2025-09-02T19:10:79</td><td>campaign</td></tr><tr><td>2025-10-09</td><td>shop.sony.bpl</td><td>mobile</td><td>wifi-network</td><td>(not available) / paid_social</td><td>azure / aws / gcc</td><td>9876588</td><td>add_to_cart</td><td>search</td><td>Search</td><td>14</td><td>409516064</td><td>2025-09-02T19:10:80</td><td>campaign</td></tr><tr><td>2025-10-10</td><td>shop.sony.bpl</td><td>mobile</td><td>wifi-network</td><td>(not set)</td><td>azure / aws / gcc</td><td>9876589</td><td>add_to_cart</td><td>search</td><td>Search</td><td>16</td><td>409516064</td><td>2025-09-02T19:10:81</td><td>campaign</td></tr><tr><td>2025-10-11</td><td>shop.sony.bpl</td><td>mobile</td><td>wifi-network</td><td>(not set)</td><td>azure / aws / gcc</td><td>9876590</td><td>add_to_cart</td><td>search</td><td>Autocomplete</td><td>105</td><td>409516064</td><td>2025-09-02T19:10:82</td><td>campaign</td></tr><tr><td>2025-10-12</td><td>shop.sony.bpl</td><td>mobile</td><td>wifi-network</td><td>email / email</td><td>azure / aws / gcc</td><td>9876591</td><td>add_to_cart</td><td>search</td><td>Autocomplete</td><td>120</td><td>409516064</td><td>2025-09-02T19:10:83</td><td>campaign</td></tr><tr><td>2025-10-13</td><td>shop.sony.bpl</td><td>mobile</td><td>wifi-network</td><td>(not set) / shorturl</td><td>azure / aws / gcc</td><td>9876592</td><td>add_to_cart</td><td>organic</td><td>Autocomplete</td><td>135</td><td>409516064</td><td>2025-09-02T19:10:84</td><td>campaign</td></tr><tr><td>2025-10-14</td><td>shop.sony.bpl</td><td>mobile</td><td>wifi-network</td><td>TTD / video</td><td>azure / aws / gcc</td><td>9876593</td><td>add_to_cart</td><td>organic</td><td>Autocomplete</td><td>176</td><td>409516064</td><td>2025-09-02T19:10:85</td><td>campaign</td></tr><tr><td>2025-10-15</td><td>shop.sony.bpl</td><td>mobile</td><td>wifi-network</td><td>github.com / referral</td><td>azure / aws / gcc</td><td>9876594</td><td>add_to_cart</td><td>organic</td><td>Autocomplete</td><td>129</td><td>409516064</td><td>2025-09-02T19:10:86</td><td>campaign</td></tr><tr><td>2025-10-16</td><td>shop.sony.bpl</td><td>mobile</td><td>wifi-network</td><td>(data not available)</td><td>azure / aws / gcc</td><td>9876595</td><td>add_to_cart</td><td>unit_test</td><td>Autocomplete</td><td>132</td><td>409516064</td><td>2025-09-02T19:10:87</td><td>campaign</td></tr><tr><td>2025-10-17</td><td>shop.sony.bpl</td><td>mobile</td><td>wifi-network</td><td>github.com / referral</td><td>azure / aws / gcc</td><td>9876596</td><td>add_to_cart</td><td>unit_test</td><td>Autocomplete</td><td>143</td><td>409516064</td><td>2025-09-02T19:10:88</td><td>campaign</td></tr><tr><td>2025-10-18</td><td>shop.sony.bpl</td><td>mobile</td><td>wifi-network</td><td>(not set) / paid_social</td><td>azure / aws / gcc</td><td>9876597</td><td>add_to_cart</td><td>unit_test</td><td>Autocomplete</td><td>146</td><td>409516064</td><td>2025-09-02T19:10:89</td><td>campaign</td></tr><tr><td>2025-10-19</td><td>shop.sony.bpl</td><td>mobile</td><td>wifi-network</td><td>(none) / (direct)</td><td>azure / aws / gcc</td><td>9876598</td><td>purchase</td><td>unit_test</td><td>Autocomplete</td><td>148</td><td>409516064</td><td>2025-09-02T19:10:90</td><td>campaign</td></tr><tr><td>2025-10-20</td><td>shop.sony.bpl</td><td>mobile</td><td>wifi-network</td><td>github.com / referral</td><td>azure / aws / gcc</td><td>9876599</td><td>click</td><td>unit_test</td><td>Autocomplete</td><td>149</td><td>409516064</td><td>2025-09-02T19:10:91</td><td>campaign</td></tr><tr><td>2025-10-21</td><td>shop.sony.bpl</td><td>mobile</td><td>wifi-network</td><td>(not set)</td><td>azure / aws / gcc</td><td>9876600</td><td>search</td><td>unit_test</td><td>Autocomplete</td><td>151</td><td>409516064</td><td>2025-09-02T19:10:92</td><td>campaign</td></tr><tr><td>2025-10-22</td><td>shop.sony.bpl</td><td>mobile</td><td>wifi-network</td><td>(not set)</td><td>azure / aws / gcc</td><td>9876601</td><td>click</td><td>unit_test</td><td>Customer</td><td>152</td><td>409516064</td><td>2025-09-02T19:10:93</td><td>campaign</td></tr><tr><td>2025-10-23</td><td>shop.sony.bpl</td><td>mobile</td><td>wifi-network</td><td>email / email</td><td>azure / aws / gcc</td><td>9876602</td><td>click</td><td>smoke_test</td><td>Customer</td><td>153</td><td>409516064</td><td>2025-09-02T19:10:94</td><td>campaign</td></tr><tr><td>2025-10-24</td><td>shop.sony.bpl</td><td>mobile</td><td>wifi-network</td><td>yahoo / organic</td><td>azure / aws / gcc</td><td>9876603</td><td>click</td><td>smoke_test</td><td>Customer</td><td>154</td><td>409516064</td><td>2025-09-02T19:10:95</td><td>campaign</td></tr><tr><td>2025-10-25</td><td>shop.sony.bpl</td><td>mobile</td><td>wifi-network</td><td>(data not available)</td><td>azure / aws / gcc</td><td>9876604</td><td>click</td><td>smoke_test</td><td>Customer</td><td>155</td><td>409516064</td><td>2025-09-02T19:10:96</td><td>campaign</td></tr><tr><td>2025-10-26</td><td>shop.sony.bpl</td><td>mobile</td><td>wifi-network</td><td>(not set) / shorturl</td><td>azure / aws / gcc</td><td>9876605</td><td>click</td><td>smoke_test</td><td>Customer</td><td>156</td><td>409516064</td><td>2025-09-02T19:10:97</td><td>campaign</td></tr><tr><td>2025-10-27</td><td>shop.sony.bpl</td><td>mobile</td><td>wifi-network</td><td>email / email</td><td>azure / aws / gcc</td><td>9876606</td><td>click</td><td>smoke_test</td><td>Customer</td><td>157</td><td>409516064</td><td>2025-09-02T19:10:98</td><td>campaign</td></tr><tr><td>2025-10-28</td><td>shop.sony.bpl</td><td>mobile</td><td>wifi-network</td><td>meta.com / referral</td><td>azure / aws / gcc</td><td>9876607</td><td>click</td><td>smoke_test</td><td>Customer</td><td>158</td><td>409516064</td><td>2025-09-02T19:10:99</td><td>campaign</td></tr><tr><td>2025-10-29</td><td>shop.sony.bpl</td><td>mobile</td><td>wifi-network</td><td>email / email</td><td>azure / aws / gcc</td><td>9876608</td><td>click</td><td>smoke_test</td><td>Customer</td><td>159</td><td>409516064</td><td>2025-09-02T19:10:100</td><td>campaign</td></tr><tr><td>2025-10-30</td><td>shop.sony.bpl</td><td>mobile</td><td>wifi-network</td><td>(not set)</td><td>azure / aws / gcc</td><td>9876609</td><td>click</td><td>smoke_test</td><td>Customer</td><td>160</td><td>409516064</td><td>2025-09-02T19:10:101</td><td>campaign</td></tr><tr><td>2025-10-31</td><td>shop.sony.bpl</td><td>mobile</td><td>wifi-network</td><td>(not set)</td><td>azure / aws / gcc</td><td>9876610</td><td>search</td><td>smoke_test</td><td>Customer</td><td>161</td><td>409516064</td><td>2025-09-02T19:10:102</td><td>campaign</td></tr><tr><td>2025-11-01</td><td>shop.sony.bpl</td><td>mobile</td><td>wifi-network</td><td>instagram / organic</td><td>azure / aws / gcc</td><td>9876611</td><td>search</td><td>smoke_test</td><td>Customer</td><td>85</td><td>409516064</td><td>2025-09-02T19:10:103</td><td>campaign</td></tr><tr><td>2025-11-02</td><td>shop.sony.bpl</td><td>mobile</td><td>wifi-network</td><td>amazon.se / referral</td><td>azure / aws / gcc</td><td>9876612</td><td>search</td><td>scroll</td><td>Customer</td><td>86</td><td>409516064</td><td>2025-09-02T19:10:104</td><td>campaign</td></tr><tr><td>2025-11-03</td><td>shop.sony.bpl</td><td>mobile</td><td>wifi-network</td><td>(data not available)</td><td>azure / aws / gcc</td><td>9876613</td><td>add_to_cart</td><td>scroll</td><td>Audit</td><td>87</td><td>409516064</td><td>2025-09-02T19:10:105</td><td>campaign</td></tr><tr><td>2025-11-04</td><td>shop.sony.bpl</td><td>mobile</td><td>wifi-network</td><td>flipkart / referral</td><td>azure / aws / gcc</td><td>9876614</td><td>add_to_cart</td><td>scroll</td><td>Audit</td><td>88</td><td>409516064</td><td>2025-09-02T19:10:106</td><td>campaign</td></tr><tr><td>2025-11-05</td><td>shop.sony.bpl</td><td>mobile</td><td>wifi-network</td><td>instagram / organic</td><td>azure / aws / gcc</td><td>9876615</td><td>add_to_cart</td><td>scroll</td><td>Audit</td><td>89</td><td>409516064</td><td>2025-09-02T19:10:107</td><td>campaign</td></tr><tr><td>2025-11-06</td><td>shop.sony.bpl</td><td>mobile</td><td>wifi-network</td><td>(direct) / (none)</td><td>azure / aws / gcc</td><td>9876616</td><td>add_to_cart</td><td>scroll</td><td>Audit</td><td>41</td><td>409516064</td><td>2025-09-02T19:10:108</td><td>campaign</td></tr><tr><td>2025-11-07</td><td>shop.sony.bpl</td><td>mobile</td><td>wifi-network</td><td>github.com / referral</td><td>azure / aws / gcc</td><td>9876617</td><td>add_to_cart</td><td>organic</td><td>Audit</td><td>42</td><td>409516064</td><td>2025-09-02T19:10:109</td><td>campaign</td></tr><tr><td>2025-11-08</td><td>shop.sony.bpl</td><td>mobile</td><td>wifi-network</td><td>instagram / organic</td><td>azure / aws / gcc</td><td>9876618</td><td>add_to_cart</td><td>organic</td><td>Audit</td><td>43</td><td>409516064</td><td>2025-09-02T19:10:110</td><td>campaign</td></tr><tr><td>2025-11-09</td><td>shop.sony.bpl</td><td>mobile</td><td>wifi-network</td><td>(not set)</td><td>azure / aws / gcc</td><td>9876619</td><td>search</td><td>organic</td><td>Audit</td><td>44</td><td>409516064</td><td>2025-09-02T19:10:111</td><td>campaign</td></tr><tr><td>2025-11-10</td><td>shop.sony.bpl</td><td>mobile</td><td>wifi-network</td><td>(not set)</td><td>azure / aws / gcc</td><td>9876620</td><td>search</td><td>drag</td><td>Audit</td><td>45</td><td>409516064</td><td>2025-09-02T19:10:112</td><td>campaign</td></tr><tr><td>2025-11-11</td><td>shop.sony.bpl</td><td>mobile</td><td>wifi-network</td><td>(none) / (direct)</td><td>azure / aws / gcc</td><td>9876621</td><td>search</td><td>drag</td><td>Audit</td><td>46</td><td>409516064</td><td>2025-09-02T19:10:113</td><td>campaign</td></tr><tr><td>2025-11-12</td><td>shop.sony.bpl</td><td>mobile</td><td>wifi-network</td><td>flipkart / referral</td><td>azure / aws / gcc</td><td>9876622</td><td>session_start</td><td>drag</td><td>Audit</td><td>47</td><td>409516064</td><td>2025-09-02T19:10:114</td><td>campaign</td></tr><tr><td>2025-11-13</td><td>shop.sony.bpl</td><td>mobile</td><td>wifi-network</td><td>email / email</td><td>azure / aws / gcc</td><td>9876623</td><td>session_start</td><td>scroll</td><td>Audit</td><td>48</td><td>409516064</td><td>2025-09-02T19:10:115</td><td>campaign</td></tr><tr><td>2025-11-14</td><td>shop.sony.bpl</td><td>mobile</td><td>wifi-network</td><td>TTD / video</td><td>azure / aws / gcc</td><td>9876624</td><td>session_start</td><td>scroll</td><td>Audit</td><td>49</td><td>409516064</td><td>2025-09-02T19:10:116</td><td>campaign</td></tr><tr><td>2025-11-15</td><td>shop.sony.bpl</td><td>mobile</td><td>wifi-network</td><td>(data not available)</td><td>azure / aws / gcc</td><td>9876625</td><td>first_visit</td><td>scroll</td><td>Audit</td><td>31</td><td>409516064</td><td>2025-09-02T19:10:117</td><td>campaign</td></tr><tr><td>2025-11-16</td><td>shop.sony.bpl</td><td>mobile</td><td>wifi-network</td><td>(direct) / (none)</td><td>azure / aws / gcc</td><td>9876626</td><td>click</td><td>scroll</td><td>Audit</td><td>32</td><td>409516064</td><td>2025-09-02T19:10:118</td><td>campaign</td></tr><tr><td>2025-11-17</td><td>shop.sony.bpl</td><td>mobile</td><td>wifi-network</td><td>(direct) / (none)</td><td>azure / aws / gcc</td><td>9876627</td><td>click</td><td>scroll</td><td>Audit</td><td>33</td><td>409516064</td><td>2025-09-02T19:10:119</td><td>campaign</td></tr><tr><td>2025-11-18</td><td>shop.sony.bpl</td><td>mobile</td><td>wifi-network</td><td>flipkart / referral</td><td>azure / aws / gcc</td><td>9876628</td><td>click</td><td>scroll</td><td>Audit</td><td>34</td><td>409516064</td><td>2025-09-02T19:10:120</td><td>campaign</td></tr><tr><td>2025-11-19</td><td>shop.sony.bpl</td><td>mobile</td><td>wifi-network</td><td>(none) / (direct)</td><td>azure / aws / gcc</td><td>9876629</td><td>click</td><td>referral</td><td>Audit</td><td>35</td><td>409516064</td><td>2025-09-02T19:10:121</td><td>campaign</td></tr><tr><td>2025-11-20</td><td>shop.sony.bpl</td><td>mobile</td><td>wifi-network</td><td>brochure / shorturl</td><td>azure / aws / gcc</td><td>9876630</td><td>session_start</td><td>direct</td><td>Marketing</td><td>36</td><td>409516064</td><td>2025-09-02T19:10:122</td><td>campaign</td></tr><tr><td>2025-11-21</td><td>shop.sony.bpl</td><td>mobile</td><td>wifi-network</td><td>(not set)</td><td>azure / aws / gcc</td><td>9876631</td><td>session_start</td><td>direct</td><td>Marketing</td><td>37</td><td>409516064</td><td>2025-09-02T19:10:123</td><td>campaign</td></tr><tr><td>2025-11-22</td><td>shop.sony.bpl</td><td>mobile</td><td>wifi-network</td><td>(data not available)</td><td>azure / aws / gcc</td><td>9876632</td><td>session_start</td><td>direct</td><td>Marketing</td><td>38</td><td>409516064</td><td>2025-09-02T19:10:124</td><td>campaign</td></tr><tr><td>2025-11-23</td><td>shop.sony.bpl</td><td>mobile</td><td>wifi-network</td><td>brochure / shorturl</td><td>azure / aws / gcc</td><td>9876633</td><td>session_start</td><td>direct</td><td>Marketing</td><td>39</td><td>409516064</td><td>2025-09-02T19:10:125</td><td>campaign</td></tr><tr><td>2025-11-24</td><td>shop.sony.bpl</td><td>mobile</td><td>wifi-network</td><td>brochure / shorturl</td><td>azure / aws / gcc</td><td>9876634</td><td>session_start</td><td>direct</td><td>Marketing</td><td>40</td><td>409516064</td><td>2025-09-02T19:10:126</td><td>campaign</td></tr><tr><td>2025-11-25</td><td>shop.sony.bpl</td><td>mobile</td><td>wifi-network</td><td>(not set)</td><td>azure / aws / gcc</td><td>9876635</td><td>session_start</td><td>direct</td><td>Marketing</td><td>28</td><td>409516064</td><td>2025-09-02T19:10:127</td><td>campaign</td></tr><tr><td>2025-11-26</td><td>shop.sony.bpl</td><td>mobile</td><td>wifi-network</td><td>(not set)</td><td>azure / aws / gcc</td><td>9876636</td><td>session_start</td><td>referral</td><td>Marketing</td><td>27</td><td>409516064</td><td>2025-09-02T19:10:128</td><td>campaign</td></tr><tr><td>2025-11-27</td><td>shop.sony.bpl</td><td>mobile</td><td>wifi-network</td><td>fb / paid</td><td>azure / aws / gcc</td><td>9876637</td><td>session_start</td><td>referral</td><td>Marketing</td><td>26</td><td>409516064</td><td>2025-09-02T19:10:129</td><td>campaign</td></tr><tr><td>2025-11-28</td><td>shop.sony.bpl</td><td>mobile</td><td>wifi-network</td><td>(direct) / (none)</td><td>azure / aws / gcc</td><td>9876638</td><td>session_start</td><td>referral</td><td>Marketing</td><td>84</td><td>409516064</td><td>2025-09-02T19:10:130</td><td>campaign</td></tr><tr><td>2025-11-29</td><td>shop.sony.bpl</td><td>mobile</td><td>wifi-network</td><td>(direct) / (none)</td><td>azure / aws / gcc</td><td>9876639</td><td>session_start</td><td>referral</td><td>Marketing</td><td>83</td><td>409516064</td><td>2025-09-02T19:10:131</td><td>campaign</td></tr><tr><td>2025-11-30</td><td>shop.sony.bpl</td><td>mobile</td><td>wifi-network</td><td>(data not available)</td><td>azure / aws / gcc</td><td>9876640</td><td>session_start</td><td>referral</td><td>Marketing</td><td>82</td><td>409516064</td><td>2025-09-02T19:10:132</td><td>campaign</td></tr><tr><td>2025-12-01</td><td>shop.sony.bpl</td><td>mobile</td><td>wifi-network</td><td>fb / paid</td><td>azure / aws / gcc</td><td>9876641</td><td>session_start</td><td>organic</td><td>Marketing</td><td>81</td><td>409516064</td><td>2025-09-02T19:10:133</td><td>campaign</td></tr><tr><td>2025-12-02</td><td>shop.sony.bpl</td><td>mobile</td><td>wifi-network</td><td>fb / paid</td><td>azure / aws / gcc</td><td>9876642</td><td>session_start</td><td>organic</td><td>Marketing</td><td>29</td><td>409516064</td><td>2025-09-02T19:10:134</td><td>campaign</td></tr><tr><td>2025-08-25</td><td>shop.sony.bpl</td><td>mobile</td><td>wifi-network</td><td>google</td><td>azure / aws / gcc</td><td>NULL</td><td>NULL</td><td>first_visit</td><td>Not Available</td><td>55</td><td>409516064</td><td>2025-09-02T19:10:35</td><td>device_category</td></tr><tr><td>2025-08-26</td><td>shop.sony.bpl</td><td>mobile</td><td>wifi-network</td><td>google</td><td>azure / aws / gcc</td><td>NULL</td><td>NULL</td><td>organic</td><td>Not Available</td><td>12</td><td>409516064</td><td>2025-09-02T19:10:36</td><td>device_category</td></tr><tr><td>2025-08-27</td><td>shop.sony.bpl</td><td>mobile</td><td>wifi-network</td><td>google</td><td>azure / aws / gcc</td><td>NULL</td><td>NULL</td><td>network</td><td>Not Available</td><td>16</td><td>409516064</td><td>2025-09-02T19:10:37</td><td>device_category</td></tr><tr><td>2025-08-28</td><td>shop.sony.bpl</td><td>mobile</td><td>wifi-network</td><td>google</td><td>azure / aws / gcc</td><td>NULL</td><td>NULL</td><td>scroll</td><td>Not Available</td><td>22</td><td>409516064</td><td>2025-09-02T19:10:38</td><td>device_category</td></tr><tr><td>2025-08-29</td><td>shop.sony.bpl</td><td>mobile</td><td>wifi-network</td><td>google</td><td>azure / aws / gcc</td><td>NULL</td><td>NULL</td><td>organic</td><td>Not Available</td><td>25</td><td>409516064</td><td>2025-09-02T19:10:39</td><td>device_category</td></tr><tr><td>2025-08-30</td><td>shop.sony.bpl</td><td>mobile</td><td>wifi-network</td><td>(not set)</td><td>azure / aws / gcc</td><td>NULL</td><td>NULL</td><td>organic</td><td>Not Available</td><td>41</td><td>409516064</td><td>2025-09-02T19:10:40</td><td>device_category</td></tr><tr><td>2025-08-31</td><td>shop.sony.bpl</td><td>mobile</td><td>wifi-network</td><td>(not set)</td><td>azure / aws / gcc</td><td>NULL</td><td>NULL</td><td>organic</td><td>Not Available</td><td>91</td><td>409516064</td><td>2025-09-02T19:10:41</td><td>device_category</td></tr><tr><td>2025-09-01</td><td>shop.sony.bpl</td><td>mobile</td><td>wifi-network</td><td>(none) / (direct)</td><td>azure / aws / gcc</td><td>NULL</td><td>NULL</td><td>first_visit</td><td>Not Available</td><td>28</td><td>409516064</td><td>2025-09-02T19:10:42</td><td>device_category</td></tr><tr><td>2025-09-02</td><td>shop.sony.bpl</td><td>mobile</td><td>wifi-network</td><td>flipkart / referral</td><td>azure / aws / gcc</td><td>NULL</td><td>NULL</td><td>first_visit</td><td>Not Available</td><td>17</td><td>409516064</td><td>2025-09-02T19:10:43</td><td>device_category</td></tr><tr><td>2025-09-03</td><td>shop.sony.bpl</td><td>mobile</td><td>wifi-network</td><td>(data not available)</td><td>azure / aws / gcc</td><td>NULL</td><td>NULL</td><td>first_visit</td><td>Not Available</td><td>16</td><td>409516064</td><td>2025-09-02T19:10:44</td><td>device_category</td></tr><tr><td>2025-09-04</td><td>shop.sony.bpl</td><td>mobile</td><td>wifi-network</td><td>(none) / (direct)</td><td>azure / aws / gcc</td><td>NULL</td><td>NULL</td><td>first_visit</td><td>Not Available</td><td>8</td><td>409516064</td><td>2025-09-02T19:10:45</td><td>device_category</td></tr><tr><td>2025-09-05</td><td>shop.sony.bpl</td><td>mobile</td><td>wifi-network</td><td>(data not available)</td><td>azure / aws / gcc</td><td>NULL</td><td>NULL</td><td>user_engagement</td><td>Not Available</td><td>10</td><td>409516064</td><td>2025-09-02T19:10:46</td><td>device_category</td></tr><tr><td>2025-09-06</td><td>shop.sony.bpl</td><td>mobile</td><td>wifi-network</td><td>(data not available)</td><td>azure / aws / gcc</td><td>NULL</td><td>NULL</td><td>scroll</td><td>Not Available</td><td>31</td><td>409516064</td><td>2025-09-02T19:10:47</td><td>device_category</td></tr><tr><td>2025-09-07</td><td>shop.sony.bpl</td><td>mobile</td><td>wifi-network</td><td>(none) / (direct)</td><td>azure / aws / gcc</td><td>NULL</td><td>NULL</td><td>scroll</td><td>Not Available</td><td>19</td><td>409516064</td><td>2025-09-02T19:10:48</td><td>device_category</td></tr><tr><td>2025-09-08</td><td>shop.sony.bpl</td><td>mobile</td><td>wifi-network</td><td>TTD / video</td><td>azure / aws / gcc</td><td>NULL</td><td>NULL</td><td>scroll</td><td>Checkout</td><td>10</td><td>409516064</td><td>2025-09-02T19:10:49</td><td>device_category</td></tr><tr><td>2025-09-09</td><td>shop.sony.bpl</td><td>mobile</td><td>wifi-network</td><td>(not set)</td><td>azure / aws / gcc</td><td>NULL</td><td>NULL</td><td>scroll</td><td>Checkout</td><td>54</td><td>409516064</td><td>2025-09-02T19:10:50</td><td>device_category</td></tr><tr><td>2025-09-10</td><td>shop.sony.bpl</td><td>mobile</td><td>wifi-network</td><td>flipkart / referral</td><td>azure / aws / gcc</td><td>NULL</td><td>NULL</td><td>network</td><td>Checkout</td><td>36</td><td>409516064</td><td>2025-09-02T19:10:51</td><td>device_category</td></tr><tr><td>2025-09-11</td><td>shop.sony.bpl</td><td>mobile</td><td>wifi-network</td><td>email / email</td><td>azure / aws / gcc</td><td>NULL</td><td>NULL</td><td>network</td><td>Checkout</td><td>23</td><td>409516064</td><td>2025-09-02T19:10:52</td><td>device_category</td></tr><tr><td>2025-09-12</td><td>shop.sony.bpl</td><td>mobile</td><td>wifi-network</td><td>(not available) / paid_social</td><td>azure / aws / gcc</td><td>NULL</td><td>NULL</td><td>network</td><td>Checkout</td><td>98</td><td>409516064</td><td>2025-09-02T19:10:53</td><td>device_category</td></tr><tr><td>2025-09-13</td><td>shop.sony.bpl</td><td>mobile</td><td>wifi-network</td><td>instagram / organic</td><td>azure / aws / gcc</td><td>NULL</td><td>NULL</td><td>last_visit</td><td>Checkout</td><td>78</td><td>409516064</td><td>2025-09-02T19:10:54</td><td>device_category</td></tr><tr><td>2025-09-14</td><td>shop.sony.bpl</td><td>mobile</td><td>wifi-network</td><td>(data not available)</td><td>azure / aws / gcc</td><td>NULL</td><td>NULL</td><td>user_engagement</td><td>Checkout</td><td>76</td><td>409516064</td><td>2025-09-02T19:10:55</td><td>device_category</td></tr><tr><td>2025-09-15</td><td>shop.sony.bpl</td><td>mobile</td><td>wifi-network</td><td>(data not available)</td><td>azure / aws / gcc</td><td>NULL</td><td>NULL</td><td>user_engagement</td><td>Checkout</td><td>74</td><td>409516064</td><td>2025-09-02T19:10:56</td><td>device_category</td></tr><tr><td>2025-09-16</td><td>shop.sony.bpl</td><td>mobile</td><td>wifi-network</td><td>(data not available)</td><td>azure / aws / gcc</td><td>NULL</td><td>NULL</td><td>user_engagement</td><td>Checkout</td><td>63</td><td>409516064</td><td>2025-09-02T19:10:57</td><td>device_category</td></tr><tr><td>2025-09-17</td><td>shop.sony.bpl</td><td>mobile</td><td>wifi-network</td><td>TTD / video</td><td>azure / aws / gcc</td><td>NULL</td><td>NULL</td><td>user_engagement</td><td>Checkout</td><td>90</td><td>409516064</td><td>2025-09-02T19:10:58</td><td>device_category</td></tr><tr><td>2025-09-18</td><td>shop.sony.bpl</td><td>mobile</td><td>wifi-network</td><td>github.com / referral</td><td>azure / aws / gcc</td><td>NULL</td><td>NULL</td><td>user_engagement</td><td>Checkout</td><td>171</td><td>409516064</td><td>2025-09-02T19:10:59</td><td>device_category</td></tr><tr><td>2025-09-19</td><td>shop.sony.bpl</td><td>mobile</td><td>wifi-network</td><td>(none) / (direct)</td><td>azure / aws / gcc</td><td>NULL</td><td>NULL</td><td>organic</td><td>Checkout</td><td>167</td><td>409516064</td><td>2025-09-02T19:10:60</td><td>device_category</td></tr><tr><td>2025-09-20</td><td>shop.sony.bpl</td><td>mobile</td><td>wifi-network</td><td>email / email</td><td>azure / aws / gcc</td><td>NULL</td><td>NULL</td><td>organic</td><td>Checkout</td><td>101</td><td>409516064</td><td>2025-09-02T19:10:61</td><td>device_category</td></tr><tr><td>2025-09-21</td><td>shop.sony.bpl</td><td>mobile</td><td>wifi-network</td><td>TTD / video</td><td>azure / aws / gcc</td><td>NULL</td><td>NULL</td><td>organic</td><td>Checkout</td><td>25</td><td>409516064</td><td>2025-09-02T19:10:62</td><td>device_category</td></tr><tr><td>2025-09-22</td><td>shop.sony.bpl</td><td>mobile</td><td>wifi-network</td><td>(data not available)</td><td>azure / aws / gcc</td><td>NULL</td><td>NULL</td><td>network</td><td>Subscribe</td><td>27</td><td>409516064</td><td>2025-09-02T19:10:63</td><td>device_category</td></tr><tr><td>2025-09-23</td><td>shop.sony.bpl</td><td>mobile</td><td>wifi-network</td><td>(data not available)</td><td>azure / aws / gcc</td><td>NULL</td><td>NULL</td><td>network</td><td>Subscribe</td><td>29</td><td>409516064</td><td>2025-09-02T19:10:64</td><td>device_category</td></tr><tr><td>2025-09-24</td><td>shop.sony.bpl</td><td>mobile</td><td>wifi-network</td><td>(data not available)</td><td>azure / aws / gcc</td><td>NULL</td><td>NULL</td><td>search</td><td>Subscribe</td><td>54</td><td>409516064</td><td>2025-09-02T19:10:65</td><td>device_category</td></tr><tr><td>2025-09-25</td><td>shop.sony.bpl</td><td>mobile</td><td>wifi-network</td><td>(none) / (direct)</td><td>azure / aws / gcc</td><td>NULL</td><td>NULL</td><td>referral</td><td>Subscribe</td><td>74</td><td>409516064</td><td>2025-09-02T19:10:66</td><td>device_category</td></tr><tr><td>2025-09-26</td><td>shop.sony.bpl</td><td>mobile</td><td>wifi-network</td><td>meta.com / referral</td><td>azure / aws / gcc</td><td>NULL</td><td>NULL</td><td>referral</td><td>Subscribe</td><td>78</td><td>409516064</td><td>2025-09-02T19:10:67</td><td>device_category</td></tr><tr><td>2025-09-27</td><td>shop.sony.bpl</td><td>mobile</td><td>wifi-network</td><td>github.com / referral</td><td>azure / aws / gcc</td><td>NULL</td><td>NULL</td><td>network</td><td>Subscribe</td><td>79</td><td>409516064</td><td>2025-09-02T19:10:68</td><td>device_category</td></tr><tr><td>2025-09-28</td><td>shop.sony.bpl</td><td>mobile</td><td>wifi-network</td><td>github.com / referral</td><td>azure / aws / gcc</td><td>NULL</td><td>NULL</td><td>network</td><td>Subscribe</td><td>90</td><td>409516064</td><td>2025-09-02T19:10:69</td><td>device_category</td></tr><tr><td>2025-09-29</td><td>shop.sony.bpl</td><td>mobile</td><td>wifi-network</td><td>email / email</td><td>azure / aws / gcc</td><td>NULL</td><td>NULL</td><td>network</td><td>Subscribe</td><td>191</td><td>409516064</td><td>2025-09-02T19:10:70</td><td>device_category</td></tr><tr><td>2025-09-30</td><td>shop.sony.bpl</td><td>mobile</td><td>wifi-network</td><td>(not set)</td><td>azure / aws / gcc</td><td>NULL</td><td>NULL</td><td>network</td><td>Subscribe</td><td>119</td><td>409516064</td><td>2025-09-02T19:10:71</td><td>device_category</td></tr><tr><td>2025-10-01</td><td>shop.sony.bpl</td><td>mobile</td><td>wifi-network</td><td>(not set)</td><td>azure / aws / gcc</td><td>NULL</td><td>NULL</td><td>network</td><td>Subscribe</td><td>111</td><td>409516064</td><td>2025-09-02T19:10:72</td><td>device_category</td></tr><tr><td>2025-10-02</td><td>shop.sony.bpl</td><td>mobile</td><td>wifi-network</td><td>(not set)</td><td>azure / aws / gcc</td><td>NULL</td><td>NULL</td><td>organic</td><td>Search</td><td>113</td><td>409516064</td><td>2025-09-02T19:10:73</td><td>device_category</td></tr><tr><td>2025-10-03</td><td>shop.sony.bpl</td><td>mobile</td><td>wifi-network</td><td>github.com / referral</td><td>azure / aws / gcc</td><td>NULL</td><td>NULL</td><td>organic</td><td>Search</td><td>115</td><td>409516064</td><td>2025-09-02T19:10:74</td><td>device_category</td></tr><tr><td>2025-10-04</td><td>shop.sony.bpl</td><td>mobile</td><td>wifi-network</td><td>github.com / referral</td><td>azure / aws / gcc</td><td>NULL</td><td>NULL</td><td>organic</td><td>Search</td><td>118</td><td>409516064</td><td>2025-09-02T19:10:75</td><td>device_category</td></tr><tr><td>2025-10-05</td><td>shop.sony.bpl</td><td>mobile</td><td>wifi-network</td><td>google / display</td><td>azure / aws / gcc</td><td>NULL</td><td>NULL</td><td>organic</td><td>Search</td><td>134</td><td>409516064</td><td>2025-09-02T19:10:76</td><td>device_category</td></tr><tr><td>2025-10-06</td><td>shop.sony.bpl</td><td>mobile</td><td>wifi-network</td><td>(not set) / paid_social</td><td>azure / aws / gcc</td><td>NULL</td><td>NULL</td><td>organic</td><td>Search</td><td>154</td><td>409516064</td><td>2025-09-02T19:10:77</td><td>device_category</td></tr><tr><td>2025-10-07</td><td>shop.sony.bpl</td><td>mobile</td><td>wifi-network</td><td>(data not available)</td><td>azure / aws / gcc</td><td>NULL</td><td>NULL</td><td>organic</td><td>Search</td><td>189</td><td>409516064</td><td>2025-09-02T19:10:78</td><td>device_category</td></tr><tr><td>2025-10-08</td><td>shop.sony.bpl</td><td>mobile</td><td>wifi-network</td><td>(not available) / paid_social</td><td>azure / aws / gcc</td><td>NULL</td><td>NULL</td><td>search</td><td>Search</td><td>32</td><td>409516064</td><td>2025-09-02T19:10:79</td><td>device_category</td></tr><tr><td>2025-10-09</td><td>shop.sony.bpl</td><td>mobile</td><td>wifi-network</td><td>(not available) / paid_social</td><td>azure / aws / gcc</td><td>NULL</td><td>NULL</td><td>search</td><td>Search</td><td>34</td><td>409516064</td><td>2025-09-02T19:10:80</td><td>device_category</td></tr><tr><td>2025-10-10</td><td>shop.sony.bpl</td><td>mobile</td><td>wifi-network</td><td>(not set)</td><td>azure / aws / gcc</td><td>NULL</td><td>NULL</td><td>search</td><td>Search</td><td>56</td><td>409516064</td><td>2025-09-02T19:10:81</td><td>device_category</td></tr><tr><td>2025-10-11</td><td>shop.sony.bpl</td><td>mobile</td><td>wifi-network</td><td>(not set)</td><td>azure / aws / gcc</td><td>NULL</td><td>NULL</td><td>search</td><td>Autocomplete</td><td>105</td><td>409516064</td><td>2025-09-02T19:10:82</td><td>device_category</td></tr><tr><td>2025-10-12</td><td>shop.sony.bpl</td><td>mobile</td><td>wifi-network</td><td>email / email</td><td>azure / aws / gcc</td><td>NULL</td><td>NULL</td><td>search</td><td>Autocomplete</td><td>120</td><td>409516064</td><td>2025-09-02T19:10:83</td><td>device_category</td></tr><tr><td>2025-10-13</td><td>shop.sony.bpl</td><td>mobile</td><td>wifi-network</td><td>(not set) / shorturl</td><td>azure / aws / gcc</td><td>NULL</td><td>NULL</td><td>organic</td><td>Autocomplete</td><td>135</td><td>409516064</td><td>2025-09-02T19:10:84</td><td>device_category</td></tr><tr><td>2025-10-14</td><td>shop.sony.bpl</td><td>mobile</td><td>wifi-network</td><td>TTD / video</td><td>azure / aws / gcc</td><td>NULL</td><td>NULL</td><td>organic</td><td>Autocomplete</td><td>176</td><td>409516064</td><td>2025-09-02T19:10:85</td><td>device_category</td></tr><tr><td>2025-10-15</td><td>shop.sony.bpl</td><td>mobile</td><td>wifi-network</td><td>github.com / referral</td><td>azure / aws / gcc</td><td>NULL</td><td>NULL</td><td>organic</td><td>Autocomplete</td><td>129</td><td>409516064</td><td>2025-09-02T19:10:86</td><td>device_category</td></tr><tr><td>2025-10-16</td><td>shop.sony.bpl</td><td>mobile</td><td>wifi-network</td><td>(data not available)</td><td>azure / aws / gcc</td><td>NULL</td><td>NULL</td><td>unit_test</td><td>Autocomplete</td><td>132</td><td>409516064</td><td>2025-09-02T19:10:87</td><td>device_category</td></tr><tr><td>2025-10-17</td><td>shop.sony.bpl</td><td>mobile</td><td>wifi-network</td><td>github.com / referral</td><td>azure / aws / gcc</td><td>NULL</td><td>NULL</td><td>unit_test</td><td>Autocomplete</td><td>143</td><td>409516064</td><td>2025-09-02T19:10:88</td><td>device_category</td></tr><tr><td>2025-10-18</td><td>shop.sony.bpl</td><td>mobile</td><td>wifi-network</td><td>(not set) / paid_social</td><td>azure / aws / gcc</td><td>NULL</td><td>NULL</td><td>unit_test</td><td>Autocomplete</td><td>146</td><td>409516064</td><td>2025-09-02T19:10:89</td><td>device_category</td></tr><tr><td>2025-10-19</td><td>shop.sony.bpl</td><td>mobile</td><td>wifi-network</td><td>(none) / (direct)</td><td>azure / aws / gcc</td><td>NULL</td><td>NULL</td><td>unit_test</td><td>Autocomplete</td><td>148</td><td>409516064</td><td>2025-09-02T19:10:90</td><td>device_category</td></tr><tr><td>2025-10-20</td><td>shop.sony.bpl</td><td>mobile</td><td>wifi-network</td><td>github.com / referral</td><td>azure / aws / gcc</td><td>NULL</td><td>NULL</td><td>unit_test</td><td>Autocomplete</td><td>149</td><td>409516064</td><td>2025-09-02T19:10:91</td><td>device_category</td></tr><tr><td>2025-10-21</td><td>shop.sony.bpl</td><td>mobile</td><td>wifi-network</td><td>(not set)</td><td>azure / aws / gcc</td><td>NULL</td><td>NULL</td><td>unit_test</td><td>Autocomplete</td><td>151</td><td>409516064</td><td>2025-09-02T19:10:92</td><td>device_category</td></tr><tr><td>2025-10-22</td><td>shop.sony.bpl</td><td>mobile</td><td>wifi-network</td><td>(not set)</td><td>azure / aws / gcc</td><td>NULL</td><td>NULL</td><td>unit_test</td><td>Customer</td><td>152</td><td>409516064</td><td>2025-09-02T19:10:93</td><td>device_category</td></tr><tr><td>2025-10-23</td><td>shop.sony.bpl</td><td>mobile</td><td>wifi-network</td><td>email / email</td><td>azure / aws / gcc</td><td>NULL</td><td>NULL</td><td>smoke_test</td><td>Customer</td><td>153</td><td>409516064</td><td>2025-09-02T19:10:94</td><td>device_category</td></tr><tr><td>2025-10-24</td><td>shop.sony.bpl</td><td>mobile</td><td>wifi-network</td><td>yahoo / organic</td><td>azure / aws / gcc</td><td>NULL</td><td>NULL</td><td>smoke_test</td><td>Customer</td><td>154</td><td>409516064</td><td>2025-09-02T19:10:95</td><td>device_category</td></tr><tr><td>2025-10-25</td><td>shop.sony.bpl</td><td>mobile</td><td>wifi-network</td><td>(data not available)</td><td>azure / aws / gcc</td><td>NULL</td><td>NULL</td><td>smoke_test</td><td>Customer</td><td>54</td><td>409516064</td><td>2025-09-02T19:10:96</td><td>device_category</td></tr><tr><td>2025-10-26</td><td>shop.sony.bpl</td><td>mobile</td><td>wifi-network</td><td>(not set) / shorturl</td><td>azure / aws / gcc</td><td>NULL</td><td>NULL</td><td>smoke_test</td><td>Customer</td><td>156</td><td>409516064</td><td>2025-09-02T19:10:97</td><td>device_category</td></tr><tr><td>2025-10-27</td><td>shop.sony.bpl</td><td>mobile</td><td>wifi-network</td><td>email / email</td><td>azure / aws / gcc</td><td>NULL</td><td>NULL</td><td>smoke_test</td><td>Customer</td><td>52</td><td>409516064</td><td>2025-09-02T19:10:98</td><td>device_category</td></tr><tr><td>2025-10-28</td><td>shop.sony.bpl</td><td>mobile</td><td>wifi-network</td><td>meta.com / referral</td><td>azure / aws / gcc</td><td>NULL</td><td>NULL</td><td>smoke_test</td><td>Customer</td><td>158</td><td>409516064</td><td>2025-09-02T19:10:99</td><td>device_category</td></tr><tr><td>2025-10-29</td><td>shop.sony.bpl</td><td>mobile</td><td>wifi-network</td><td>email / email</td><td>azure / aws / gcc</td><td>NULL</td><td>NULL</td><td>smoke_test</td><td>Customer</td><td>100</td><td>409516064</td><td>2025-09-02T19:10:100</td><td>device_category</td></tr><tr><td>2025-10-30</td><td>shop.sony.bpl</td><td>mobile</td><td>wifi-network</td><td>(not set)</td><td>azure / aws / gcc</td><td>NULL</td><td>NULL</td><td>smoke_test</td><td>Customer</td><td>111</td><td>409516064</td><td>2025-09-02T19:10:101</td><td>device_category</td></tr><tr><td>2025-10-31</td><td>shop.sony.bpl</td><td>mobile</td><td>wifi-network</td><td>(not set)</td><td>azure / aws / gcc</td><td>NULL</td><td>NULL</td><td>smoke_test</td><td>Customer</td><td>141</td><td>409516064</td><td>2025-09-02T19:10:102</td><td>device_category</td></tr><tr><td>2025-11-01</td><td>shop.sony.bpl</td><td>mobile</td><td>wifi-network</td><td>instagram / organic</td><td>azure / aws / gcc</td><td>NULL</td><td>NULL</td><td>smoke_test</td><td>Customer</td><td>85</td><td>409516064</td><td>2025-09-02T19:10:103</td><td>device_category</td></tr><tr><td>2025-11-02</td><td>shop.sony.bpl</td><td>mobile</td><td>wifi-network</td><td>amazon.se / referral</td><td>azure / aws / gcc</td><td>NULL</td><td>NULL</td><td>scroll</td><td>Customer</td><td>86</td><td>409516064</td><td>2025-09-02T19:10:104</td><td>device_category</td></tr><tr><td>2025-11-03</td><td>shop.sony.bpl</td><td>mobile</td><td>wifi-network</td><td>(data not available)</td><td>azure / aws / gcc</td><td>NULL</td><td>NULL</td><td>scroll</td><td>Audit</td><td>87</td><td>409516064</td><td>2025-09-02T19:10:105</td><td>device_category</td></tr><tr><td>2025-11-04</td><td>shop.sony.bpl</td><td>mobile</td><td>wifi-network</td><td>flipkart / referral</td><td>azure / aws / gcc</td><td>NULL</td><td>NULL</td><td>scroll</td><td>Audit</td><td>88</td><td>409516064</td><td>2025-09-02T19:10:106</td><td>device_category</td></tr><tr><td>2025-11-05</td><td>shop.sony.bpl</td><td>mobile</td><td>wifi-network</td><td>instagram / organic</td><td>azure / aws / gcc</td><td>NULL</td><td>NULL</td><td>scroll</td><td>Audit</td><td>89</td><td>409516064</td><td>2025-09-02T19:10:107</td><td>device_category</td></tr><tr><td>2025-11-06</td><td>shop.sony.bpl</td><td>mobile</td><td>wifi-network</td><td>(direct) / (none)</td><td>azure / aws / gcc</td><td>NULL</td><td>NULL</td><td>scroll</td><td>Audit</td><td>41</td><td>409516064</td><td>2025-09-02T19:10:108</td><td>device_category</td></tr><tr><td>2025-11-07</td><td>shop.sony.bpl</td><td>mobile</td><td>wifi-network</td><td>github.com / referral</td><td>azure / aws / gcc</td><td>NULL</td><td>NULL</td><td>organic</td><td>Audit</td><td>42</td><td>409516064</td><td>2025-09-02T19:10:109</td><td>device_category</td></tr><tr><td>2025-11-08</td><td>shop.sony.bpl</td><td>mobile</td><td>wifi-network</td><td>instagram / organic</td><td>azure / aws / gcc</td><td>NULL</td><td>NULL</td><td>organic</td><td>Audit</td><td>43</td><td>409516064</td><td>2025-09-02T19:10:110</td><td>device_category</td></tr><tr><td>2025-11-09</td><td>shop.sony.bpl</td><td>mobile</td><td>wifi-network</td><td>(not set)</td><td>azure / aws / gcc</td><td>NULL</td><td>NULL</td><td>organic</td><td>Audit</td><td>44</td><td>409516064</td><td>2025-09-02T19:10:111</td><td>device_category</td></tr><tr><td>2025-11-10</td><td>shop.sony.bpl</td><td>mobile</td><td>wifi-network</td><td>(not set)</td><td>azure / aws / gcc</td><td>NULL</td><td>NULL</td><td>drag</td><td>Audit</td><td>45</td><td>409516064</td><td>2025-09-02T19:10:112</td><td>device_category</td></tr><tr><td>2025-11-11</td><td>shop.sony.bpl</td><td>mobile</td><td>wifi-network</td><td>(none) / (direct)</td><td>azure / aws / gcc</td><td>NULL</td><td>NULL</td><td>drag</td><td>Audit</td><td>46</td><td>409516064</td><td>2025-09-02T19:10:113</td><td>device_category</td></tr><tr><td>2025-11-12</td><td>shop.sony.bpl</td><td>mobile</td><td>wifi-network</td><td>flipkart / referral</td><td>azure / aws / gcc</td><td>NULL</td><td>NULL</td><td>drag</td><td>Audit</td><td>47</td><td>409516064</td><td>2025-09-02T19:10:114</td><td>device_category</td></tr><tr><td>2025-11-13</td><td>shop.sony.bpl</td><td>mobile</td><td>wifi-network</td><td>email / email</td><td>azure / aws / gcc</td><td>NULL</td><td>NULL</td><td>scroll</td><td>Audit</td><td>48</td><td>409516064</td><td>2025-09-02T19:10:115</td><td>device_category</td></tr><tr><td>2025-11-14</td><td>shop.sony.bpl</td><td>mobile</td><td>wifi-network</td><td>TTD / video</td><td>azure / aws / gcc</td><td>NULL</td><td>NULL</td><td>scroll</td><td>Audit</td><td>49</td><td>409516064</td><td>2025-09-02T19:10:116</td><td>device_category</td></tr><tr><td>2025-11-15</td><td>shop.sony.bpl</td><td>mobile</td><td>wifi-network</td><td>(data not available)</td><td>azure / aws / gcc</td><td>NULL</td><td>NULL</td><td>scroll</td><td>Audit</td><td>31</td><td>409516064</td><td>2025-09-02T19:10:117</td><td>device_category</td></tr><tr><td>2025-11-16</td><td>shop.sony.bpl</td><td>mobile</td><td>wifi-network</td><td>(direct) / (none)</td><td>azure / aws / gcc</td><td>NULL</td><td>NULL</td><td>scroll</td><td>Audit</td><td>32</td><td>409516064</td><td>2025-09-02T19:10:118</td><td>device_category</td></tr><tr><td>2025-11-17</td><td>shop.sony.bpl</td><td>mobile</td><td>wifi-network</td><td>(direct) / (none)</td><td>azure / aws / gcc</td><td>NULL</td><td>NULL</td><td>scroll</td><td>Audit</td><td>33</td><td>409516064</td><td>2025-09-02T19:10:119</td><td>device_category</td></tr><tr><td>2025-11-18</td><td>shop.sony.bpl</td><td>mobile</td><td>wifi-network</td><td>flipkart / referral</td><td>azure / aws / gcc</td><td>NULL</td><td>NULL</td><td>scroll</td><td>Audit</td><td>34</td><td>409516064</td><td>2025-09-02T19:10:120</td><td>device_category</td></tr><tr><td>2025-11-19</td><td>shop.sony.bpl</td><td>mobile</td><td>wifi-network</td><td>(none) / (direct)</td><td>azure / aws / gcc</td><td>NULL</td><td>NULL</td><td>referral</td><td>Audit</td><td>35</td><td>409516064</td><td>2025-09-02T19:10:121</td><td>device_category</td></tr><tr><td>2025-11-20</td><td>shop.sony.bpl</td><td>mobile</td><td>wifi-network</td><td>brochure / shorturl</td><td>azure / aws / gcc</td><td>NULL</td><td>NULL</td><td>direct</td><td>Marketing</td><td>36</td><td>409516064</td><td>2025-09-02T19:10:122</td><td>device_category</td></tr><tr><td>2025-11-21</td><td>shop.sony.bpl</td><td>mobile</td><td>wifi-network</td><td>(not set)</td><td>azure / aws / gcc</td><td>NULL</td><td>NULL</td><td>direct</td><td>Marketing</td><td>37</td><td>409516064</td><td>2025-09-02T19:10:123</td><td>device_category</td></tr><tr><td>2025-11-22</td><td>shop.sony.bpl</td><td>mobile</td><td>wifi-network</td><td>(data not available)</td><td>azure / aws / gcc</td><td>NULL</td><td>NULL</td><td>direct</td><td>Marketing</td><td>38</td><td>409516064</td><td>2025-09-02T19:10:124</td><td>device_category</td></tr><tr><td>2025-11-23</td><td>shop.sony.bpl</td><td>mobile</td><td>wifi-network</td><td>brochure / shorturl</td><td>azure / aws / gcc</td><td>NULL</td><td>NULL</td><td>direct</td><td>Marketing</td><td>39</td><td>409516064</td><td>2025-09-02T19:10:125</td><td>device_category</td></tr><tr><td>2025-11-24</td><td>shop.sony.bpl</td><td>mobile</td><td>wifi-network</td><td>brochure / shorturl</td><td>azure / aws / gcc</td><td>NULL</td><td>NULL</td><td>direct</td><td>Marketing</td><td>40</td><td>409516064</td><td>2025-09-02T19:10:126</td><td>device_category</td></tr><tr><td>2025-11-25</td><td>shop.sony.bpl</td><td>mobile</td><td>wifi-network</td><td>(not set)</td><td>azure / aws / gcc</td><td>NULL</td><td>NULL</td><td>direct</td><td>Marketing</td><td>28</td><td>409516064</td><td>2025-09-02T19:10:127</td><td>device_category</td></tr><tr><td>2025-11-26</td><td>shop.sony.bpl</td><td>mobile</td><td>wifi-network</td><td>(not set)</td><td>azure / aws / gcc</td><td>NULL</td><td>NULL</td><td>referral</td><td>Marketing</td><td>27</td><td>409516064</td><td>2025-09-02T19:10:128</td><td>device_category</td></tr><tr><td>2025-11-27</td><td>shop.sony.bpl</td><td>mobile</td><td>wifi-network</td><td>fb / paid</td><td>azure / aws / gcc</td><td>NULL</td><td>NULL</td><td>referral</td><td>Marketing</td><td>26</td><td>409516064</td><td>2025-09-02T19:10:129</td><td>device_category</td></tr><tr><td>2025-11-28</td><td>shop.sony.bpl</td><td>mobile</td><td>wifi-network</td><td>(direct) / (none)</td><td>azure / aws / gcc</td><td>NULL</td><td>NULL</td><td>referral</td><td>Marketing</td><td>84</td><td>409516064</td><td>2025-09-02T19:10:130</td><td>device_category</td></tr><tr><td>2025-11-29</td><td>shop.sony.bpl</td><td>mobile</td><td>wifi-network</td><td>(direct) / (none)</td><td>azure / aws / gcc</td><td>NULL</td><td>NULL</td><td>referral</td><td>Marketing</td><td>83</td><td>409516064</td><td>2025-09-02T19:10:131</td><td>device_category</td></tr><tr><td>2025-11-30</td><td>shop.sony.bpl</td><td>mobile</td><td>wifi-network</td><td>(data not available)</td><td>azure / aws / gcc</td><td>NULL</td><td>NULL</td><td>referral</td><td>Marketing</td><td>82</td><td>409516064</td><td>2025-09-02T19:10:132</td><td>device_category</td></tr><tr><td>2025-12-01</td><td>shop.sony.bpl</td><td>mobile</td><td>wifi-network</td><td>fb / paid</td><td>azure / aws / gcc</td><td>NULL</td><td>NULL</td><td>organic</td><td>Marketing</td><td>81</td><td>409516064</td><td>2025-09-02T19:10:133</td><td>device_category</td></tr><tr><td>2025-12-02</td><td>shop.sony.bpl</td><td>mobile</td><td>wifi-network</td><td>fb / paid</td><td>azure / aws / gcc</td><td>NULL</td><td>NULL</td><td>organic</td><td>Marketing</td><td>29</td><td>409516064</td><td>2025-09-02T19:10:134</td><td>device_category</td></tr></tbody></table></div>"
      ]
     },
     "metadata": {
      "application/vnd.databricks.v1+output": {
       "addedWidgets": {},
       "aggData": [],
       "aggError": "",
       "aggOverflow": false,
       "aggSchema": [],
       "aggSeriesLimitReached": false,
       "aggType": "",
       "arguments": {},
       "columnCustomDisplayInfos": {},
       "data": [
        [
         "2025-08-25",
         "shop.sony.bpl",
         "mobile",
         "wifi-network",
         "google",
         "azure / aws / gcc",
         "9876543",
         "first_visit",
         "first_visit",
         "Not Available",
         5,
         409516064,
         "2025-09-02T19:10:35",
         "campaign"
        ],
        [
         "2025-08-26",
         "shop.sony.bpl",
         "mobile",
         "wifi-network",
         "google",
         "azure / aws / gcc",
         "9876544",
         "purchase",
         "organic",
         "Not Available",
         12,
         409516064,
         "2025-09-02T19:10:36",
         "campaign"
        ],
        [
         "2025-08-27",
         "shop.sony.bpl",
         "mobile",
         "wifi-network",
         "google",
         "azure / aws / gcc",
         "9876545",
         "search",
         "network",
         "Not Available",
         16,
         409516064,
         "2025-09-02T19:10:37",
         "campaign"
        ],
        [
         "2025-08-28",
         "shop.sony.bpl",
         "mobile",
         "wifi-network",
         "google",
         "azure / aws / gcc",
         "9876546",
         "search",
         "scroll",
         "Not Available",
         22,
         409516064,
         "2025-09-02T19:10:38",
         "campaign"
        ],
        [
         "2025-08-29",
         "shop.sony.bpl",
         "mobile",
         "wifi-network",
         "google",
         "azure / aws / gcc",
         "9876547",
         "search",
         "organic",
         "Not Available",
         25,
         409516064,
         "2025-09-02T19:10:39",
         "campaign"
        ],
        [
         "2025-08-30",
         "shop.sony.bpl",
         "mobile",
         "wifi-network",
         "(not set)",
         "azure / aws / gcc",
         "9876548",
         "add_to_cart",
         "organic",
         "Not Available",
         4,
         409516064,
         "2025-09-02T19:10:40",
         "campaign"
        ],
        [
         "2025-08-31",
         "shop.sony.bpl",
         "mobile",
         "wifi-network",
         "(not set)",
         "azure / aws / gcc",
         "9876549",
         "add_to_cart",
         "organic",
         "Not Available",
         9,
         409516064,
         "2025-09-02T19:10:41",
         "campaign"
        ],
        [
         "2025-09-01",
         "shop.sony.bpl",
         "mobile",
         "wifi-network",
         "(none) / (direct)",
         "azure / aws / gcc",
         "9876550",
         "add_to_cart",
         "first_visit",
         "Not Available",
         8,
         409516064,
         "2025-09-02T19:10:42",
         "campaign"
        ],
        [
         "2025-09-02",
         "shop.sony.bpl",
         "mobile",
         "wifi-network",
         "flipkart / referral",
         "azure / aws / gcc",
         "9876551",
         "add_to_cart",
         "first_visit",
         "Not Available",
         7,
         409516064,
         "2025-09-02T19:10:43",
         "campaign"
        ],
        [
         "2025-09-03",
         "shop.sony.bpl",
         "mobile",
         "wifi-network",
         "(data not available)",
         "azure / aws / gcc",
         "9876552",
         "add_to_cart",
         "first_visit",
         "Not Available",
         6,
         409516064,
         "2025-09-02T19:10:44",
         "campaign"
        ],
        [
         "2025-09-04",
         "shop.sony.bpl",
         "mobile",
         "wifi-network",
         "(none) / (direct)",
         "azure / aws / gcc",
         "9876553",
         "add_to_cart",
         "first_visit",
         "Not Available",
         5,
         409516064,
         "2025-09-02T19:10:45",
         "campaign"
        ],
        [
         "2025-09-05",
         "shop.sony.bpl",
         "mobile",
         "wifi-network",
         "(data not available)",
         "azure / aws / gcc",
         "9876554",
         "first_visit",
         "user_engagement",
         "Not Available",
         4,
         409516064,
         "2025-09-02T19:10:46",
         "campaign"
        ],
        [
         "2025-09-06",
         "shop.sony.bpl",
         "mobile",
         "wifi-network",
         "(data not available)",
         "azure / aws / gcc",
         "9876555",
         "purchase",
         "scroll",
         "Not Available",
         3,
         409516064,
         "2025-09-02T19:10:47",
         "campaign"
        ],
        [
         "2025-09-07",
         "shop.sony.bpl",
         "mobile",
         "wifi-network",
         "(none) / (direct)",
         "azure / aws / gcc",
         "9876556",
         "purchase",
         "scroll",
         "Not Available",
         19,
         409516064,
         "2025-09-02T19:10:48",
         "campaign"
        ],
        [
         "2025-09-08",
         "shop.sony.bpl",
         "mobile",
         "wifi-network",
         "TTD / video",
         "azure / aws / gcc",
         "9876557",
         "purchase",
         "scroll",
         "Checkout",
         100,
         409516064,
         "2025-09-02T19:10:49",
         "campaign"
        ],
        [
         "2025-09-09",
         "shop.sony.bpl",
         "mobile",
         "wifi-network",
         "(not set)",
         "azure / aws / gcc",
         "9876558",
         "purchase",
         "scroll",
         "Checkout",
         54,
         409516064,
         "2025-09-02T19:10:50",
         "campaign"
        ],
        [
         "2025-09-10",
         "shop.sony.bpl",
         "mobile",
         "wifi-network",
         "flipkart / referral",
         "azure / aws / gcc",
         "9876559",
         "purchase",
         "network",
         "Checkout",
         36,
         409516064,
         "2025-09-02T19:10:51",
         "campaign"
        ],
        [
         "2025-09-11",
         "shop.sony.bpl",
         "mobile",
         "wifi-network",
         "email / email",
         "azure / aws / gcc",
         "9876560",
         "purchase",
         "network",
         "Checkout",
         23,
         409516064,
         "2025-09-02T19:10:52",
         "campaign"
        ],
        [
         "2025-09-12",
         "shop.sony.bpl",
         "mobile",
         "wifi-network",
         "(not available) / paid_social",
         "azure / aws / gcc",
         "9876561",
         "purchase",
         "network",
         "Checkout",
         98,
         409516064,
         "2025-09-02T19:10:53",
         "campaign"
        ],
        [
         "2025-09-13",
         "shop.sony.bpl",
         "mobile",
         "wifi-network",
         "instagram / organic",
         "azure / aws / gcc",
         "9876562",
         "purchase",
         "last_visit",
         "Checkout",
         78,
         409516064,
         "2025-09-02T19:10:54",
         "campaign"
        ],
        [
         "2025-09-14",
         "shop.sony.bpl",
         "mobile",
         "wifi-network",
         "(data not available)",
         "azure / aws / gcc",
         "9876563",
         "purchase",
         "user_engagement",
         "Checkout",
         76,
         409516064,
         "2025-09-02T19:10:55",
         "campaign"
        ],
        [
         "2025-09-15",
         "shop.sony.bpl",
         "mobile",
         "wifi-network",
         "(data not available)",
         "azure / aws / gcc",
         "9876564",
         "first_visit",
         "user_engagement",
         "Checkout",
         74,
         409516064,
         "2025-09-02T19:10:56",
         "campaign"
        ],
        [
         "2025-09-16",
         "shop.sony.bpl",
         "mobile",
         "wifi-network",
         "(data not available)",
         "azure / aws / gcc",
         "9876565",
         "first_visit",
         "user_engagement",
         "Checkout",
         63,
         409516064,
         "2025-09-02T19:10:57",
         "campaign"
        ],
        [
         "2025-09-17",
         "shop.sony.bpl",
         "mobile",
         "wifi-network",
         "TTD / video",
         "azure / aws / gcc",
         "9876566",
         "first_visit",
         "user_engagement",
         "Checkout",
         90,
         409516064,
         "2025-09-02T19:10:58",
         "campaign"
        ],
        [
         "2025-09-18",
         "shop.sony.bpl",
         "mobile",
         "wifi-network",
         "github.com / referral",
         "azure / aws / gcc",
         "9876567",
         "first_visit",
         "user_engagement",
         "Checkout",
         171,
         409516064,
         "2025-09-02T19:10:59",
         "campaign"
        ],
        [
         "2025-09-19",
         "shop.sony.bpl",
         "mobile",
         "wifi-network",
         "(none) / (direct)",
         "azure / aws / gcc",
         "9876568",
         "first_visit",
         "organic",
         "Checkout",
         172,
         409516064,
         "2025-09-02T19:10:60",
         "campaign"
        ],
        [
         "2025-09-20",
         "shop.sony.bpl",
         "mobile",
         "wifi-network",
         "email / email",
         "azure / aws / gcc",
         "9876569",
         "first_visit",
         "organic",
         "Checkout",
         173,
         409516064,
         "2025-09-02T19:10:61",
         "campaign"
        ],
        [
         "2025-09-21",
         "shop.sony.bpl",
         "mobile",
         "wifi-network",
         "TTD / video",
         "azure / aws / gcc",
         "9876570",
         "first_visit",
         "organic",
         "Checkout",
         174,
         409516064,
         "2025-09-02T19:10:62",
         "campaign"
        ],
        [
         "2025-09-22",
         "shop.sony.bpl",
         "mobile",
         "wifi-network",
         "(data not available)",
         "azure / aws / gcc",
         "9876571",
         "first_visit",
         "network",
         "Subscribe",
         175,
         409516064,
         "2025-09-02T19:10:63",
         "campaign"
        ],
        [
         "2025-09-23",
         "shop.sony.bpl",
         "mobile",
         "wifi-network",
         "(data not available)",
         "azure / aws / gcc",
         "9876572",
         "first_visit",
         "network",
         "Subscribe",
         176,
         409516064,
         "2025-09-02T19:10:64",
         "campaign"
        ],
        [
         "2025-09-24",
         "shop.sony.bpl",
         "mobile",
         "wifi-network",
         "(data not available)",
         "azure / aws / gcc",
         "9876573",
         "first_visit",
         "search",
         "Subscribe",
         177,
         409516064,
         "2025-09-02T19:10:65",
         "campaign"
        ],
        [
         "2025-09-25",
         "shop.sony.bpl",
         "mobile",
         "wifi-network",
         "(none) / (direct)",
         "azure / aws / gcc",
         "9876574",
         "first_visit",
         "referral",
         "Subscribe",
         74,
         409516064,
         "2025-09-02T19:10:66",
         "campaign"
        ],
        [
         "2025-09-26",
         "shop.sony.bpl",
         "mobile",
         "wifi-network",
         "meta.com / referral",
         "azure / aws / gcc",
         "9876575",
         "session_start",
         "referral",
         "Subscribe",
         78,
         409516064,
         "2025-09-02T19:10:67",
         "campaign"
        ],
        [
         "2025-09-27",
         "shop.sony.bpl",
         "mobile",
         "wifi-network",
         "github.com / referral",
         "azure / aws / gcc",
         "9876576",
         "session_start",
         "network",
         "Subscribe",
         79,
         409516064,
         "2025-09-02T19:10:68",
         "campaign"
        ],
        [
         "2025-09-28",
         "shop.sony.bpl",
         "mobile",
         "wifi-network",
         "github.com / referral",
         "azure / aws / gcc",
         "9876577",
         "session_start",
         "network",
         "Subscribe",
         90,
         409516064,
         "2025-09-02T19:10:69",
         "campaign"
        ],
        [
         "2025-09-29",
         "shop.sony.bpl",
         "mobile",
         "wifi-network",
         "email / email",
         "azure / aws / gcc",
         "9876578",
         "session_start",
         "network",
         "Subscribe",
         191,
         409516064,
         "2025-09-02T19:10:70",
         "campaign"
        ],
        [
         "2025-09-30",
         "shop.sony.bpl",
         "mobile",
         "wifi-network",
         "(not set)",
         "azure / aws / gcc",
         "9876579",
         "session_start",
         "network",
         "Subscribe",
         195,
         409516064,
         "2025-09-02T19:10:71",
         "campaign"
        ],
        [
         "2025-10-01",
         "shop.sony.bpl",
         "mobile",
         "wifi-network",
         "(not set)",
         "azure / aws / gcc",
         "9876580",
         "first_visit",
         "network",
         "Subscribe",
         111,
         409516064,
         "2025-09-02T19:10:72",
         "campaign"
        ],
        [
         "2025-10-02",
         "shop.sony.bpl",
         "mobile",
         "wifi-network",
         "(not set)",
         "azure / aws / gcc",
         "9876581",
         "first_visit",
         "organic",
         "Search",
         113,
         409516064,
         "2025-09-02T19:10:73",
         "campaign"
        ],
        [
         "2025-10-03",
         "shop.sony.bpl",
         "mobile",
         "wifi-network",
         "github.com / referral",
         "azure / aws / gcc",
         "9876582",
         "first_visit",
         "organic",
         "Search",
         115,
         409516064,
         "2025-09-02T19:10:74",
         "campaign"
        ],
        [
         "2025-10-04",
         "shop.sony.bpl",
         "mobile",
         "wifi-network",
         "github.com / referral",
         "azure / aws / gcc",
         "9876583",
         "first_visit",
         "organic",
         "Search",
         118,
         409516064,
         "2025-09-02T19:10:75",
         "campaign"
        ],
        [
         "2025-10-05",
         "shop.sony.bpl",
         "mobile",
         "wifi-network",
         "google / display",
         "azure / aws / gcc",
         "9876584",
         "first_visit",
         "organic",
         "Search",
         119,
         409516064,
         "2025-09-02T19:10:76",
         "campaign"
        ],
        [
         "2025-10-06",
         "shop.sony.bpl",
         "mobile",
         "wifi-network",
         "(not set) / paid_social",
         "azure / aws / gcc",
         "9876585",
         "first_visit",
         "organic",
         "Search",
         127,
         409516064,
         "2025-09-02T19:10:77",
         "campaign"
        ],
        [
         "2025-10-07",
         "shop.sony.bpl",
         "mobile",
         "wifi-network",
         "(data not available)",
         "azure / aws / gcc",
         "9876586",
         "first_visit",
         "organic",
         "Search",
         129,
         409516064,
         "2025-09-02T19:10:78",
         "campaign"
        ],
        [
         "2025-10-08",
         "shop.sony.bpl",
         "mobile",
         "wifi-network",
         "(not available) / paid_social",
         "azure / aws / gcc",
         "9876587",
         "add_to_cart",
         "search",
         "Search",
         12,
         409516064,
         "2025-09-02T19:10:79",
         "campaign"
        ],
        [
         "2025-10-09",
         "shop.sony.bpl",
         "mobile",
         "wifi-network",
         "(not available) / paid_social",
         "azure / aws / gcc",
         "9876588",
         "add_to_cart",
         "search",
         "Search",
         14,
         409516064,
         "2025-09-02T19:10:80",
         "campaign"
        ],
        [
         "2025-10-10",
         "shop.sony.bpl",
         "mobile",
         "wifi-network",
         "(not set)",
         "azure / aws / gcc",
         "9876589",
         "add_to_cart",
         "search",
         "Search",
         16,
         409516064,
         "2025-09-02T19:10:81",
         "campaign"
        ],
        [
         "2025-10-11",
         "shop.sony.bpl",
         "mobile",
         "wifi-network",
         "(not set)",
         "azure / aws / gcc",
         "9876590",
         "add_to_cart",
         "search",
         "Autocomplete",
         105,
         409516064,
         "2025-09-02T19:10:82",
         "campaign"
        ],
        [
         "2025-10-12",
         "shop.sony.bpl",
         "mobile",
         "wifi-network",
         "email / email",
         "azure / aws / gcc",
         "9876591",
         "add_to_cart",
         "search",
         "Autocomplete",
         120,
         409516064,
         "2025-09-02T19:10:83",
         "campaign"
        ],
        [
         "2025-10-13",
         "shop.sony.bpl",
         "mobile",
         "wifi-network",
         "(not set) / shorturl",
         "azure / aws / gcc",
         "9876592",
         "add_to_cart",
         "organic",
         "Autocomplete",
         135,
         409516064,
         "2025-09-02T19:10:84",
         "campaign"
        ],
        [
         "2025-10-14",
         "shop.sony.bpl",
         "mobile",
         "wifi-network",
         "TTD / video",
         "azure / aws / gcc",
         "9876593",
         "add_to_cart",
         "organic",
         "Autocomplete",
         176,
         409516064,
         "2025-09-02T19:10:85",
         "campaign"
        ],
        [
         "2025-10-15",
         "shop.sony.bpl",
         "mobile",
         "wifi-network",
         "github.com / referral",
         "azure / aws / gcc",
         "9876594",
         "add_to_cart",
         "organic",
         "Autocomplete",
         129,
         409516064,
         "2025-09-02T19:10:86",
         "campaign"
        ],
        [
         "2025-10-16",
         "shop.sony.bpl",
         "mobile",
         "wifi-network",
         "(data not available)",
         "azure / aws / gcc",
         "9876595",
         "add_to_cart",
         "unit_test",
         "Autocomplete",
         132,
         409516064,
         "2025-09-02T19:10:87",
         "campaign"
        ],
        [
         "2025-10-17",
         "shop.sony.bpl",
         "mobile",
         "wifi-network",
         "github.com / referral",
         "azure / aws / gcc",
         "9876596",
         "add_to_cart",
         "unit_test",
         "Autocomplete",
         143,
         409516064,
         "2025-09-02T19:10:88",
         "campaign"
        ],
        [
         "2025-10-18",
         "shop.sony.bpl",
         "mobile",
         "wifi-network",
         "(not set) / paid_social",
         "azure / aws / gcc",
         "9876597",
         "add_to_cart",
         "unit_test",
         "Autocomplete",
         146,
         409516064,
         "2025-09-02T19:10:89",
         "campaign"
        ],
        [
         "2025-10-19",
         "shop.sony.bpl",
         "mobile",
         "wifi-network",
         "(none) / (direct)",
         "azure / aws / gcc",
         "9876598",
         "purchase",
         "unit_test",
         "Autocomplete",
         148,
         409516064,
         "2025-09-02T19:10:90",
         "campaign"
        ],
        [
         "2025-10-20",
         "shop.sony.bpl",
         "mobile",
         "wifi-network",
         "github.com / referral",
         "azure / aws / gcc",
         "9876599",
         "click",
         "unit_test",
         "Autocomplete",
         149,
         409516064,
         "2025-09-02T19:10:91",
         "campaign"
        ],
        [
         "2025-10-21",
         "shop.sony.bpl",
         "mobile",
         "wifi-network",
         "(not set)",
         "azure / aws / gcc",
         "9876600",
         "search",
         "unit_test",
         "Autocomplete",
         151,
         409516064,
         "2025-09-02T19:10:92",
         "campaign"
        ],
        [
         "2025-10-22",
         "shop.sony.bpl",
         "mobile",
         "wifi-network",
         "(not set)",
         "azure / aws / gcc",
         "9876601",
         "click",
         "unit_test",
         "Customer",
         152,
         409516064,
         "2025-09-02T19:10:93",
         "campaign"
        ],
        [
         "2025-10-23",
         "shop.sony.bpl",
         "mobile",
         "wifi-network",
         "email / email",
         "azure / aws / gcc",
         "9876602",
         "click",
         "smoke_test",
         "Customer",
         153,
         409516064,
         "2025-09-02T19:10:94",
         "campaign"
        ],
        [
         "2025-10-24",
         "shop.sony.bpl",
         "mobile",
         "wifi-network",
         "yahoo / organic",
         "azure / aws / gcc",
         "9876603",
         "click",
         "smoke_test",
         "Customer",
         154,
         409516064,
         "2025-09-02T19:10:95",
         "campaign"
        ],
        [
         "2025-10-25",
         "shop.sony.bpl",
         "mobile",
         "wifi-network",
         "(data not available)",
         "azure / aws / gcc",
         "9876604",
         "click",
         "smoke_test",
         "Customer",
         155,
         409516064,
         "2025-09-02T19:10:96",
         "campaign"
        ],
        [
         "2025-10-26",
         "shop.sony.bpl",
         "mobile",
         "wifi-network",
         "(not set) / shorturl",
         "azure / aws / gcc",
         "9876605",
         "click",
         "smoke_test",
         "Customer",
         156,
         409516064,
         "2025-09-02T19:10:97",
         "campaign"
        ],
        [
         "2025-10-27",
         "shop.sony.bpl",
         "mobile",
         "wifi-network",
         "email / email",
         "azure / aws / gcc",
         "9876606",
         "click",
         "smoke_test",
         "Customer",
         157,
         409516064,
         "2025-09-02T19:10:98",
         "campaign"
        ],
        [
         "2025-10-28",
         "shop.sony.bpl",
         "mobile",
         "wifi-network",
         "meta.com / referral",
         "azure / aws / gcc",
         "9876607",
         "click",
         "smoke_test",
         "Customer",
         158,
         409516064,
         "2025-09-02T19:10:99",
         "campaign"
        ],
        [
         "2025-10-29",
         "shop.sony.bpl",
         "mobile",
         "wifi-network",
         "email / email",
         "azure / aws / gcc",
         "9876608",
         "click",
         "smoke_test",
         "Customer",
         159,
         409516064,
         "2025-09-02T19:10:100",
         "campaign"
        ],
        [
         "2025-10-30",
         "shop.sony.bpl",
         "mobile",
         "wifi-network",
         "(not set)",
         "azure / aws / gcc",
         "9876609",
         "click",
         "smoke_test",
         "Customer",
         160,
         409516064,
         "2025-09-02T19:10:101",
         "campaign"
        ],
        [
         "2025-10-31",
         "shop.sony.bpl",
         "mobile",
         "wifi-network",
         "(not set)",
         "azure / aws / gcc",
         "9876610",
         "search",
         "smoke_test",
         "Customer",
         161,
         409516064,
         "2025-09-02T19:10:102",
         "campaign"
        ],
        [
         "2025-11-01",
         "shop.sony.bpl",
         "mobile",
         "wifi-network",
         "instagram / organic",
         "azure / aws / gcc",
         "9876611",
         "search",
         "smoke_test",
         "Customer",
         85,
         409516064,
         "2025-09-02T19:10:103",
         "campaign"
        ],
        [
         "2025-11-02",
         "shop.sony.bpl",
         "mobile",
         "wifi-network",
         "amazon.se / referral",
         "azure / aws / gcc",
         "9876612",
         "search",
         "scroll",
         "Customer",
         86,
         409516064,
         "2025-09-02T19:10:104",
         "campaign"
        ],
        [
         "2025-11-03",
         "shop.sony.bpl",
         "mobile",
         "wifi-network",
         "(data not available)",
         "azure / aws / gcc",
         "9876613",
         "add_to_cart",
         "scroll",
         "Audit",
         87,
         409516064,
         "2025-09-02T19:10:105",
         "campaign"
        ],
        [
         "2025-11-04",
         "shop.sony.bpl",
         "mobile",
         "wifi-network",
         "flipkart / referral",
         "azure / aws / gcc",
         "9876614",
         "add_to_cart",
         "scroll",
         "Audit",
         88,
         409516064,
         "2025-09-02T19:10:106",
         "campaign"
        ],
        [
         "2025-11-05",
         "shop.sony.bpl",
         "mobile",
         "wifi-network",
         "instagram / organic",
         "azure / aws / gcc",
         "9876615",
         "add_to_cart",
         "scroll",
         "Audit",
         89,
         409516064,
         "2025-09-02T19:10:107",
         "campaign"
        ],
        [
         "2025-11-06",
         "shop.sony.bpl",
         "mobile",
         "wifi-network",
         "(direct) / (none)",
         "azure / aws / gcc",
         "9876616",
         "add_to_cart",
         "scroll",
         "Audit",
         41,
         409516064,
         "2025-09-02T19:10:108",
         "campaign"
        ],
        [
         "2025-11-07",
         "shop.sony.bpl",
         "mobile",
         "wifi-network",
         "github.com / referral",
         "azure / aws / gcc",
         "9876617",
         "add_to_cart",
         "organic",
         "Audit",
         42,
         409516064,
         "2025-09-02T19:10:109",
         "campaign"
        ],
        [
         "2025-11-08",
         "shop.sony.bpl",
         "mobile",
         "wifi-network",
         "instagram / organic",
         "azure / aws / gcc",
         "9876618",
         "add_to_cart",
         "organic",
         "Audit",
         43,
         409516064,
         "2025-09-02T19:10:110",
         "campaign"
        ],
        [
         "2025-11-09",
         "shop.sony.bpl",
         "mobile",
         "wifi-network",
         "(not set)",
         "azure / aws / gcc",
         "9876619",
         "search",
         "organic",
         "Audit",
         44,
         409516064,
         "2025-09-02T19:10:111",
         "campaign"
        ],
        [
         "2025-11-10",
         "shop.sony.bpl",
         "mobile",
         "wifi-network",
         "(not set)",
         "azure / aws / gcc",
         "9876620",
         "search",
         "drag",
         "Audit",
         45,
         409516064,
         "2025-09-02T19:10:112",
         "campaign"
        ],
        [
         "2025-11-11",
         "shop.sony.bpl",
         "mobile",
         "wifi-network",
         "(none) / (direct)",
         "azure / aws / gcc",
         "9876621",
         "search",
         "drag",
         "Audit",
         46,
         409516064,
         "2025-09-02T19:10:113",
         "campaign"
        ],
        [
         "2025-11-12",
         "shop.sony.bpl",
         "mobile",
         "wifi-network",
         "flipkart / referral",
         "azure / aws / gcc",
         "9876622",
         "session_start",
         "drag",
         "Audit",
         47,
         409516064,
         "2025-09-02T19:10:114",
         "campaign"
        ],
        [
         "2025-11-13",
         "shop.sony.bpl",
         "mobile",
         "wifi-network",
         "email / email",
         "azure / aws / gcc",
         "9876623",
         "session_start",
         "scroll",
         "Audit",
         48,
         409516064,
         "2025-09-02T19:10:115",
         "campaign"
        ],
        [
         "2025-11-14",
         "shop.sony.bpl",
         "mobile",
         "wifi-network",
         "TTD / video",
         "azure / aws / gcc",
         "9876624",
         "session_start",
         "scroll",
         "Audit",
         49,
         409516064,
         "2025-09-02T19:10:116",
         "campaign"
        ],
        [
         "2025-11-15",
         "shop.sony.bpl",
         "mobile",
         "wifi-network",
         "(data not available)",
         "azure / aws / gcc",
         "9876625",
         "first_visit",
         "scroll",
         "Audit",
         31,
         409516064,
         "2025-09-02T19:10:117",
         "campaign"
        ],
        [
         "2025-11-16",
         "shop.sony.bpl",
         "mobile",
         "wifi-network",
         "(direct) / (none)",
         "azure / aws / gcc",
         "9876626",
         "click",
         "scroll",
         "Audit",
         32,
         409516064,
         "2025-09-02T19:10:118",
         "campaign"
        ],
        [
         "2025-11-17",
         "shop.sony.bpl",
         "mobile",
         "wifi-network",
         "(direct) / (none)",
         "azure / aws / gcc",
         "9876627",
         "click",
         "scroll",
         "Audit",
         33,
         409516064,
         "2025-09-02T19:10:119",
         "campaign"
        ],
        [
         "2025-11-18",
         "shop.sony.bpl",
         "mobile",
         "wifi-network",
         "flipkart / referral",
         "azure / aws / gcc",
         "9876628",
         "click",
         "scroll",
         "Audit",
         34,
         409516064,
         "2025-09-02T19:10:120",
         "campaign"
        ],
        [
         "2025-11-19",
         "shop.sony.bpl",
         "mobile",
         "wifi-network",
         "(none) / (direct)",
         "azure / aws / gcc",
         "9876629",
         "click",
         "referral",
         "Audit",
         35,
         409516064,
         "2025-09-02T19:10:121",
         "campaign"
        ],
        [
         "2025-11-20",
         "shop.sony.bpl",
         "mobile",
         "wifi-network",
         "brochure / shorturl",
         "azure / aws / gcc",
         "9876630",
         "session_start",
         "direct",
         "Marketing",
         36,
         409516064,
         "2025-09-02T19:10:122",
         "campaign"
        ],
        [
         "2025-11-21",
         "shop.sony.bpl",
         "mobile",
         "wifi-network",
         "(not set)",
         "azure / aws / gcc",
         "9876631",
         "session_start",
         "direct",
         "Marketing",
         37,
         409516064,
         "2025-09-02T19:10:123",
         "campaign"
        ],
        [
         "2025-11-22",
         "shop.sony.bpl",
         "mobile",
         "wifi-network",
         "(data not available)",
         "azure / aws / gcc",
         "9876632",
         "session_start",
         "direct",
         "Marketing",
         38,
         409516064,
         "2025-09-02T19:10:124",
         "campaign"
        ],
        [
         "2025-11-23",
         "shop.sony.bpl",
         "mobile",
         "wifi-network",
         "brochure / shorturl",
         "azure / aws / gcc",
         "9876633",
         "session_start",
         "direct",
         "Marketing",
         39,
         409516064,
         "2025-09-02T19:10:125",
         "campaign"
        ],
        [
         "2025-11-24",
         "shop.sony.bpl",
         "mobile",
         "wifi-network",
         "brochure / shorturl",
         "azure / aws / gcc",
         "9876634",
         "session_start",
         "direct",
         "Marketing",
         40,
         409516064,
         "2025-09-02T19:10:126",
         "campaign"
        ],
        [
         "2025-11-25",
         "shop.sony.bpl",
         "mobile",
         "wifi-network",
         "(not set)",
         "azure / aws / gcc",
         "9876635",
         "session_start",
         "direct",
         "Marketing",
         28,
         409516064,
         "2025-09-02T19:10:127",
         "campaign"
        ],
        [
         "2025-11-26",
         "shop.sony.bpl",
         "mobile",
         "wifi-network",
         "(not set)",
         "azure / aws / gcc",
         "9876636",
         "session_start",
         "referral",
         "Marketing",
         27,
         409516064,
         "2025-09-02T19:10:128",
         "campaign"
        ],
        [
         "2025-11-27",
         "shop.sony.bpl",
         "mobile",
         "wifi-network",
         "fb / paid",
         "azure / aws / gcc",
         "9876637",
         "session_start",
         "referral",
         "Marketing",
         26,
         409516064,
         "2025-09-02T19:10:129",
         "campaign"
        ],
        [
         "2025-11-28",
         "shop.sony.bpl",
         "mobile",
         "wifi-network",
         "(direct) / (none)",
         "azure / aws / gcc",
         "9876638",
         "session_start",
         "referral",
         "Marketing",
         84,
         409516064,
         "2025-09-02T19:10:130",
         "campaign"
        ],
        [
         "2025-11-29",
         "shop.sony.bpl",
         "mobile",
         "wifi-network",
         "(direct) / (none)",
         "azure / aws / gcc",
         "9876639",
         "session_start",
         "referral",
         "Marketing",
         83,
         409516064,
         "2025-09-02T19:10:131",
         "campaign"
        ],
        [
         "2025-11-30",
         "shop.sony.bpl",
         "mobile",
         "wifi-network",
         "(data not available)",
         "azure / aws / gcc",
         "9876640",
         "session_start",
         "referral",
         "Marketing",
         82,
         409516064,
         "2025-09-02T19:10:132",
         "campaign"
        ],
        [
         "2025-12-01",
         "shop.sony.bpl",
         "mobile",
         "wifi-network",
         "fb / paid",
         "azure / aws / gcc",
         "9876641",
         "session_start",
         "organic",
         "Marketing",
         81,
         409516064,
         "2025-09-02T19:10:133",
         "campaign"
        ],
        [
         "2025-12-02",
         "shop.sony.bpl",
         "mobile",
         "wifi-network",
         "fb / paid",
         "azure / aws / gcc",
         "9876642",
         "session_start",
         "organic",
         "Marketing",
         29,
         409516064,
         "2025-09-02T19:10:134",
         "campaign"
        ],
        [
         "2025-08-25",
         "shop.sony.bpl",
         "mobile",
         "wifi-network",
         "google",
         "azure / aws / gcc",
         "NULL",
         "NULL",
         "first_visit",
         "Not Available",
         55,
         409516064,
         "2025-09-02T19:10:35",
         "device_category"
        ],
        [
         "2025-08-26",
         "shop.sony.bpl",
         "mobile",
         "wifi-network",
         "google",
         "azure / aws / gcc",
         "NULL",
         "NULL",
         "organic",
         "Not Available",
         12,
         409516064,
         "2025-09-02T19:10:36",
         "device_category"
        ],
        [
         "2025-08-27",
         "shop.sony.bpl",
         "mobile",
         "wifi-network",
         "google",
         "azure / aws / gcc",
         "NULL",
         "NULL",
         "network",
         "Not Available",
         16,
         409516064,
         "2025-09-02T19:10:37",
         "device_category"
        ],
        [
         "2025-08-28",
         "shop.sony.bpl",
         "mobile",
         "wifi-network",
         "google",
         "azure / aws / gcc",
         "NULL",
         "NULL",
         "scroll",
         "Not Available",
         22,
         409516064,
         "2025-09-02T19:10:38",
         "device_category"
        ],
        [
         "2025-08-29",
         "shop.sony.bpl",
         "mobile",
         "wifi-network",
         "google",
         "azure / aws / gcc",
         "NULL",
         "NULL",
         "organic",
         "Not Available",
         25,
         409516064,
         "2025-09-02T19:10:39",
         "device_category"
        ],
        [
         "2025-08-30",
         "shop.sony.bpl",
         "mobile",
         "wifi-network",
         "(not set)",
         "azure / aws / gcc",
         "NULL",
         "NULL",
         "organic",
         "Not Available",
         41,
         409516064,
         "2025-09-02T19:10:40",
         "device_category"
        ],
        [
         "2025-08-31",
         "shop.sony.bpl",
         "mobile",
         "wifi-network",
         "(not set)",
         "azure / aws / gcc",
         "NULL",
         "NULL",
         "organic",
         "Not Available",
         91,
         409516064,
         "2025-09-02T19:10:41",
         "device_category"
        ],
        [
         "2025-09-01",
         "shop.sony.bpl",
         "mobile",
         "wifi-network",
         "(none) / (direct)",
         "azure / aws / gcc",
         "NULL",
         "NULL",
         "first_visit",
         "Not Available",
         28,
         409516064,
         "2025-09-02T19:10:42",
         "device_category"
        ],
        [
         "2025-09-02",
         "shop.sony.bpl",
         "mobile",
         "wifi-network",
         "flipkart / referral",
         "azure / aws / gcc",
         "NULL",
         "NULL",
         "first_visit",
         "Not Available",
         17,
         409516064,
         "2025-09-02T19:10:43",
         "device_category"
        ],
        [
         "2025-09-03",
         "shop.sony.bpl",
         "mobile",
         "wifi-network",
         "(data not available)",
         "azure / aws / gcc",
         "NULL",
         "NULL",
         "first_visit",
         "Not Available",
         16,
         409516064,
         "2025-09-02T19:10:44",
         "device_category"
        ],
        [
         "2025-09-04",
         "shop.sony.bpl",
         "mobile",
         "wifi-network",
         "(none) / (direct)",
         "azure / aws / gcc",
         "NULL",
         "NULL",
         "first_visit",
         "Not Available",
         8,
         409516064,
         "2025-09-02T19:10:45",
         "device_category"
        ],
        [
         "2025-09-05",
         "shop.sony.bpl",
         "mobile",
         "wifi-network",
         "(data not available)",
         "azure / aws / gcc",
         "NULL",
         "NULL",
         "user_engagement",
         "Not Available",
         10,
         409516064,
         "2025-09-02T19:10:46",
         "device_category"
        ],
        [
         "2025-09-06",
         "shop.sony.bpl",
         "mobile",
         "wifi-network",
         "(data not available)",
         "azure / aws / gcc",
         "NULL",
         "NULL",
         "scroll",
         "Not Available",
         31,
         409516064,
         "2025-09-02T19:10:47",
         "device_category"
        ],
        [
         "2025-09-07",
         "shop.sony.bpl",
         "mobile",
         "wifi-network",
         "(none) / (direct)",
         "azure / aws / gcc",
         "NULL",
         "NULL",
         "scroll",
         "Not Available",
         19,
         409516064,
         "2025-09-02T19:10:48",
         "device_category"
        ],
        [
         "2025-09-08",
         "shop.sony.bpl",
         "mobile",
         "wifi-network",
         "TTD / video",
         "azure / aws / gcc",
         "NULL",
         "NULL",
         "scroll",
         "Checkout",
         10,
         409516064,
         "2025-09-02T19:10:49",
         "device_category"
        ],
        [
         "2025-09-09",
         "shop.sony.bpl",
         "mobile",
         "wifi-network",
         "(not set)",
         "azure / aws / gcc",
         "NULL",
         "NULL",
         "scroll",
         "Checkout",
         54,
         409516064,
         "2025-09-02T19:10:50",
         "device_category"
        ],
        [
         "2025-09-10",
         "shop.sony.bpl",
         "mobile",
         "wifi-network",
         "flipkart / referral",
         "azure / aws / gcc",
         "NULL",
         "NULL",
         "network",
         "Checkout",
         36,
         409516064,
         "2025-09-02T19:10:51",
         "device_category"
        ],
        [
         "2025-09-11",
         "shop.sony.bpl",
         "mobile",
         "wifi-network",
         "email / email",
         "azure / aws / gcc",
         "NULL",
         "NULL",
         "network",
         "Checkout",
         23,
         409516064,
         "2025-09-02T19:10:52",
         "device_category"
        ],
        [
         "2025-09-12",
         "shop.sony.bpl",
         "mobile",
         "wifi-network",
         "(not available) / paid_social",
         "azure / aws / gcc",
         "NULL",
         "NULL",
         "network",
         "Checkout",
         98,
         409516064,
         "2025-09-02T19:10:53",
         "device_category"
        ],
        [
         "2025-09-13",
         "shop.sony.bpl",
         "mobile",
         "wifi-network",
         "instagram / organic",
         "azure / aws / gcc",
         "NULL",
         "NULL",
         "last_visit",
         "Checkout",
         78,
         409516064,
         "2025-09-02T19:10:54",
         "device_category"
        ],
        [
         "2025-09-14",
         "shop.sony.bpl",
         "mobile",
         "wifi-network",
         "(data not available)",
         "azure / aws / gcc",
         "NULL",
         "NULL",
         "user_engagement",
         "Checkout",
         76,
         409516064,
         "2025-09-02T19:10:55",
         "device_category"
        ],
        [
         "2025-09-15",
         "shop.sony.bpl",
         "mobile",
         "wifi-network",
         "(data not available)",
         "azure / aws / gcc",
         "NULL",
         "NULL",
         "user_engagement",
         "Checkout",
         74,
         409516064,
         "2025-09-02T19:10:56",
         "device_category"
        ],
        [
         "2025-09-16",
         "shop.sony.bpl",
         "mobile",
         "wifi-network",
         "(data not available)",
         "azure / aws / gcc",
         "NULL",
         "NULL",
         "user_engagement",
         "Checkout",
         63,
         409516064,
         "2025-09-02T19:10:57",
         "device_category"
        ],
        [
         "2025-09-17",
         "shop.sony.bpl",
         "mobile",
         "wifi-network",
         "TTD / video",
         "azure / aws / gcc",
         "NULL",
         "NULL",
         "user_engagement",
         "Checkout",
         90,
         409516064,
         "2025-09-02T19:10:58",
         "device_category"
        ],
        [
         "2025-09-18",
         "shop.sony.bpl",
         "mobile",
         "wifi-network",
         "github.com / referral",
         "azure / aws / gcc",
         "NULL",
         "NULL",
         "user_engagement",
         "Checkout",
         171,
         409516064,
         "2025-09-02T19:10:59",
         "device_category"
        ],
        [
         "2025-09-19",
         "shop.sony.bpl",
         "mobile",
         "wifi-network",
         "(none) / (direct)",
         "azure / aws / gcc",
         "NULL",
         "NULL",
         "organic",
         "Checkout",
         167,
         409516064,
         "2025-09-02T19:10:60",
         "device_category"
        ],
        [
         "2025-09-20",
         "shop.sony.bpl",
         "mobile",
         "wifi-network",
         "email / email",
         "azure / aws / gcc",
         "NULL",
         "NULL",
         "organic",
         "Checkout",
         101,
         409516064,
         "2025-09-02T19:10:61",
         "device_category"
        ],
        [
         "2025-09-21",
         "shop.sony.bpl",
         "mobile",
         "wifi-network",
         "TTD / video",
         "azure / aws / gcc",
         "NULL",
         "NULL",
         "organic",
         "Checkout",
         25,
         409516064,
         "2025-09-02T19:10:62",
         "device_category"
        ],
        [
         "2025-09-22",
         "shop.sony.bpl",
         "mobile",
         "wifi-network",
         "(data not available)",
         "azure / aws / gcc",
         "NULL",
         "NULL",
         "network",
         "Subscribe",
         27,
         409516064,
         "2025-09-02T19:10:63",
         "device_category"
        ],
        [
         "2025-09-23",
         "shop.sony.bpl",
         "mobile",
         "wifi-network",
         "(data not available)",
         "azure / aws / gcc",
         "NULL",
         "NULL",
         "network",
         "Subscribe",
         29,
         409516064,
         "2025-09-02T19:10:64",
         "device_category"
        ],
        [
         "2025-09-24",
         "shop.sony.bpl",
         "mobile",
         "wifi-network",
         "(data not available)",
         "azure / aws / gcc",
         "NULL",
         "NULL",
         "search",
         "Subscribe",
         54,
         409516064,
         "2025-09-02T19:10:65",
         "device_category"
        ],
        [
         "2025-09-25",
         "shop.sony.bpl",
         "mobile",
         "wifi-network",
         "(none) / (direct)",
         "azure / aws / gcc",
         "NULL",
         "NULL",
         "referral",
         "Subscribe",
         74,
         409516064,
         "2025-09-02T19:10:66",
         "device_category"
        ],
        [
         "2025-09-26",
         "shop.sony.bpl",
         "mobile",
         "wifi-network",
         "meta.com / referral",
         "azure / aws / gcc",
         "NULL",
         "NULL",
         "referral",
         "Subscribe",
         78,
         409516064,
         "2025-09-02T19:10:67",
         "device_category"
        ],
        [
         "2025-09-27",
         "shop.sony.bpl",
         "mobile",
         "wifi-network",
         "github.com / referral",
         "azure / aws / gcc",
         "NULL",
         "NULL",
         "network",
         "Subscribe",
         79,
         409516064,
         "2025-09-02T19:10:68",
         "device_category"
        ],
        [
         "2025-09-28",
         "shop.sony.bpl",
         "mobile",
         "wifi-network",
         "github.com / referral",
         "azure / aws / gcc",
         "NULL",
         "NULL",
         "network",
         "Subscribe",
         90,
         409516064,
         "2025-09-02T19:10:69",
         "device_category"
        ],
        [
         "2025-09-29",
         "shop.sony.bpl",
         "mobile",
         "wifi-network",
         "email / email",
         "azure / aws / gcc",
         "NULL",
         "NULL",
         "network",
         "Subscribe",
         191,
         409516064,
         "2025-09-02T19:10:70",
         "device_category"
        ],
        [
         "2025-09-30",
         "shop.sony.bpl",
         "mobile",
         "wifi-network",
         "(not set)",
         "azure / aws / gcc",
         "NULL",
         "NULL",
         "network",
         "Subscribe",
         119,
         409516064,
         "2025-09-02T19:10:71",
         "device_category"
        ],
        [
         "2025-10-01",
         "shop.sony.bpl",
         "mobile",
         "wifi-network",
         "(not set)",
         "azure / aws / gcc",
         "NULL",
         "NULL",
         "network",
         "Subscribe",
         111,
         409516064,
         "2025-09-02T19:10:72",
         "device_category"
        ],
        [
         "2025-10-02",
         "shop.sony.bpl",
         "mobile",
         "wifi-network",
         "(not set)",
         "azure / aws / gcc",
         "NULL",
         "NULL",
         "organic",
         "Search",
         113,
         409516064,
         "2025-09-02T19:10:73",
         "device_category"
        ],
        [
         "2025-10-03",
         "shop.sony.bpl",
         "mobile",
         "wifi-network",
         "github.com / referral",
         "azure / aws / gcc",
         "NULL",
         "NULL",
         "organic",
         "Search",
         115,
         409516064,
         "2025-09-02T19:10:74",
         "device_category"
        ],
        [
         "2025-10-04",
         "shop.sony.bpl",
         "mobile",
         "wifi-network",
         "github.com / referral",
         "azure / aws / gcc",
         "NULL",
         "NULL",
         "organic",
         "Search",
         118,
         409516064,
         "2025-09-02T19:10:75",
         "device_category"
        ],
        [
         "2025-10-05",
         "shop.sony.bpl",
         "mobile",
         "wifi-network",
         "google / display",
         "azure / aws / gcc",
         "NULL",
         "NULL",
         "organic",
         "Search",
         134,
         409516064,
         "2025-09-02T19:10:76",
         "device_category"
        ],
        [
         "2025-10-06",
         "shop.sony.bpl",
         "mobile",
         "wifi-network",
         "(not set) / paid_social",
         "azure / aws / gcc",
         "NULL",
         "NULL",
         "organic",
         "Search",
         154,
         409516064,
         "2025-09-02T19:10:77",
         "device_category"
        ],
        [
         "2025-10-07",
         "shop.sony.bpl",
         "mobile",
         "wifi-network",
         "(data not available)",
         "azure / aws / gcc",
         "NULL",
         "NULL",
         "organic",
         "Search",
         189,
         409516064,
         "2025-09-02T19:10:78",
         "device_category"
        ],
        [
         "2025-10-08",
         "shop.sony.bpl",
         "mobile",
         "wifi-network",
         "(not available) / paid_social",
         "azure / aws / gcc",
         "NULL",
         "NULL",
         "search",
         "Search",
         32,
         409516064,
         "2025-09-02T19:10:79",
         "device_category"
        ],
        [
         "2025-10-09",
         "shop.sony.bpl",
         "mobile",
         "wifi-network",
         "(not available) / paid_social",
         "azure / aws / gcc",
         "NULL",
         "NULL",
         "search",
         "Search",
         34,
         409516064,
         "2025-09-02T19:10:80",
         "device_category"
        ],
        [
         "2025-10-10",
         "shop.sony.bpl",
         "mobile",
         "wifi-network",
         "(not set)",
         "azure / aws / gcc",
         "NULL",
         "NULL",
         "search",
         "Search",
         56,
         409516064,
         "2025-09-02T19:10:81",
         "device_category"
        ],
        [
         "2025-10-11",
         "shop.sony.bpl",
         "mobile",
         "wifi-network",
         "(not set)",
         "azure / aws / gcc",
         "NULL",
         "NULL",
         "search",
         "Autocomplete",
         105,
         409516064,
         "2025-09-02T19:10:82",
         "device_category"
        ],
        [
         "2025-10-12",
         "shop.sony.bpl",
         "mobile",
         "wifi-network",
         "email / email",
         "azure / aws / gcc",
         "NULL",
         "NULL",
         "search",
         "Autocomplete",
         120,
         409516064,
         "2025-09-02T19:10:83",
         "device_category"
        ],
        [
         "2025-10-13",
         "shop.sony.bpl",
         "mobile",
         "wifi-network",
         "(not set) / shorturl",
         "azure / aws / gcc",
         "NULL",
         "NULL",
         "organic",
         "Autocomplete",
         135,
         409516064,
         "2025-09-02T19:10:84",
         "device_category"
        ],
        [
         "2025-10-14",
         "shop.sony.bpl",
         "mobile",
         "wifi-network",
         "TTD / video",
         "azure / aws / gcc",
         "NULL",
         "NULL",
         "organic",
         "Autocomplete",
         176,
         409516064,
         "2025-09-02T19:10:85",
         "device_category"
        ],
        [
         "2025-10-15",
         "shop.sony.bpl",
         "mobile",
         "wifi-network",
         "github.com / referral",
         "azure / aws / gcc",
         "NULL",
         "NULL",
         "organic",
         "Autocomplete",
         129,
         409516064,
         "2025-09-02T19:10:86",
         "device_category"
        ],
        [
         "2025-10-16",
         "shop.sony.bpl",
         "mobile",
         "wifi-network",
         "(data not available)",
         "azure / aws / gcc",
         "NULL",
         "NULL",
         "unit_test",
         "Autocomplete",
         132,
         409516064,
         "2025-09-02T19:10:87",
         "device_category"
        ],
        [
         "2025-10-17",
         "shop.sony.bpl",
         "mobile",
         "wifi-network",
         "github.com / referral",
         "azure / aws / gcc",
         "NULL",
         "NULL",
         "unit_test",
         "Autocomplete",
         143,
         409516064,
         "2025-09-02T19:10:88",
         "device_category"
        ],
        [
         "2025-10-18",
         "shop.sony.bpl",
         "mobile",
         "wifi-network",
         "(not set) / paid_social",
         "azure / aws / gcc",
         "NULL",
         "NULL",
         "unit_test",
         "Autocomplete",
         146,
         409516064,
         "2025-09-02T19:10:89",
         "device_category"
        ],
        [
         "2025-10-19",
         "shop.sony.bpl",
         "mobile",
         "wifi-network",
         "(none) / (direct)",
         "azure / aws / gcc",
         "NULL",
         "NULL",
         "unit_test",
         "Autocomplete",
         148,
         409516064,
         "2025-09-02T19:10:90",
         "device_category"
        ],
        [
         "2025-10-20",
         "shop.sony.bpl",
         "mobile",
         "wifi-network",
         "github.com / referral",
         "azure / aws / gcc",
         "NULL",
         "NULL",
         "unit_test",
         "Autocomplete",
         149,
         409516064,
         "2025-09-02T19:10:91",
         "device_category"
        ],
        [
         "2025-10-21",
         "shop.sony.bpl",
         "mobile",
         "wifi-network",
         "(not set)",
         "azure / aws / gcc",
         "NULL",
         "NULL",
         "unit_test",
         "Autocomplete",
         151,
         409516064,
         "2025-09-02T19:10:92",
         "device_category"
        ],
        [
         "2025-10-22",
         "shop.sony.bpl",
         "mobile",
         "wifi-network",
         "(not set)",
         "azure / aws / gcc",
         "NULL",
         "NULL",
         "unit_test",
         "Customer",
         152,
         409516064,
         "2025-09-02T19:10:93",
         "device_category"
        ],
        [
         "2025-10-23",
         "shop.sony.bpl",
         "mobile",
         "wifi-network",
         "email / email",
         "azure / aws / gcc",
         "NULL",
         "NULL",
         "smoke_test",
         "Customer",
         153,
         409516064,
         "2025-09-02T19:10:94",
         "device_category"
        ],
        [
         "2025-10-24",
         "shop.sony.bpl",
         "mobile",
         "wifi-network",
         "yahoo / organic",
         "azure / aws / gcc",
         "NULL",
         "NULL",
         "smoke_test",
         "Customer",
         154,
         409516064,
         "2025-09-02T19:10:95",
         "device_category"
        ],
        [
         "2025-10-25",
         "shop.sony.bpl",
         "mobile",
         "wifi-network",
         "(data not available)",
         "azure / aws / gcc",
         "NULL",
         "NULL",
         "smoke_test",
         "Customer",
         54,
         409516064,
         "2025-09-02T19:10:96",
         "device_category"
        ],
        [
         "2025-10-26",
         "shop.sony.bpl",
         "mobile",
         "wifi-network",
         "(not set) / shorturl",
         "azure / aws / gcc",
         "NULL",
         "NULL",
         "smoke_test",
         "Customer",
         156,
         409516064,
         "2025-09-02T19:10:97",
         "device_category"
        ],
        [
         "2025-10-27",
         "shop.sony.bpl",
         "mobile",
         "wifi-network",
         "email / email",
         "azure / aws / gcc",
         "NULL",
         "NULL",
         "smoke_test",
         "Customer",
         52,
         409516064,
         "2025-09-02T19:10:98",
         "device_category"
        ],
        [
         "2025-10-28",
         "shop.sony.bpl",
         "mobile",
         "wifi-network",
         "meta.com / referral",
         "azure / aws / gcc",
         "NULL",
         "NULL",
         "smoke_test",
         "Customer",
         158,
         409516064,
         "2025-09-02T19:10:99",
         "device_category"
        ],
        [
         "2025-10-29",
         "shop.sony.bpl",
         "mobile",
         "wifi-network",
         "email / email",
         "azure / aws / gcc",
         "NULL",
         "NULL",
         "smoke_test",
         "Customer",
         100,
         409516064,
         "2025-09-02T19:10:100",
         "device_category"
        ],
        [
         "2025-10-30",
         "shop.sony.bpl",
         "mobile",
         "wifi-network",
         "(not set)",
         "azure / aws / gcc",
         "NULL",
         "NULL",
         "smoke_test",
         "Customer",
         111,
         409516064,
         "2025-09-02T19:10:101",
         "device_category"
        ],
        [
         "2025-10-31",
         "shop.sony.bpl",
         "mobile",
         "wifi-network",
         "(not set)",
         "azure / aws / gcc",
         "NULL",
         "NULL",
         "smoke_test",
         "Customer",
         141,
         409516064,
         "2025-09-02T19:10:102",
         "device_category"
        ],
        [
         "2025-11-01",
         "shop.sony.bpl",
         "mobile",
         "wifi-network",
         "instagram / organic",
         "azure / aws / gcc",
         "NULL",
         "NULL",
         "smoke_test",
         "Customer",
         85,
         409516064,
         "2025-09-02T19:10:103",
         "device_category"
        ],
        [
         "2025-11-02",
         "shop.sony.bpl",
         "mobile",
         "wifi-network",
         "amazon.se / referral",
         "azure / aws / gcc",
         "NULL",
         "NULL",
         "scroll",
         "Customer",
         86,
         409516064,
         "2025-09-02T19:10:104",
         "device_category"
        ],
        [
         "2025-11-03",
         "shop.sony.bpl",
         "mobile",
         "wifi-network",
         "(data not available)",
         "azure / aws / gcc",
         "NULL",
         "NULL",
         "scroll",
         "Audit",
         87,
         409516064,
         "2025-09-02T19:10:105",
         "device_category"
        ],
        [
         "2025-11-04",
         "shop.sony.bpl",
         "mobile",
         "wifi-network",
         "flipkart / referral",
         "azure / aws / gcc",
         "NULL",
         "NULL",
         "scroll",
         "Audit",
         88,
         409516064,
         "2025-09-02T19:10:106",
         "device_category"
        ],
        [
         "2025-11-05",
         "shop.sony.bpl",
         "mobile",
         "wifi-network",
         "instagram / organic",
         "azure / aws / gcc",
         "NULL",
         "NULL",
         "scroll",
         "Audit",
         89,
         409516064,
         "2025-09-02T19:10:107",
         "device_category"
        ],
        [
         "2025-11-06",
         "shop.sony.bpl",
         "mobile",
         "wifi-network",
         "(direct) / (none)",
         "azure / aws / gcc",
         "NULL",
         "NULL",
         "scroll",
         "Audit",
         41,
         409516064,
         "2025-09-02T19:10:108",
         "device_category"
        ],
        [
         "2025-11-07",
         "shop.sony.bpl",
         "mobile",
         "wifi-network",
         "github.com / referral",
         "azure / aws / gcc",
         "NULL",
         "NULL",
         "organic",
         "Audit",
         42,
         409516064,
         "2025-09-02T19:10:109",
         "device_category"
        ],
        [
         "2025-11-08",
         "shop.sony.bpl",
         "mobile",
         "wifi-network",
         "instagram / organic",
         "azure / aws / gcc",
         "NULL",
         "NULL",
         "organic",
         "Audit",
         43,
         409516064,
         "2025-09-02T19:10:110",
         "device_category"
        ],
        [
         "2025-11-09",
         "shop.sony.bpl",
         "mobile",
         "wifi-network",
         "(not set)",
         "azure / aws / gcc",
         "NULL",
         "NULL",
         "organic",
         "Audit",
         44,
         409516064,
         "2025-09-02T19:10:111",
         "device_category"
        ],
        [
         "2025-11-10",
         "shop.sony.bpl",
         "mobile",
         "wifi-network",
         "(not set)",
         "azure / aws / gcc",
         "NULL",
         "NULL",
         "drag",
         "Audit",
         45,
         409516064,
         "2025-09-02T19:10:112",
         "device_category"
        ],
        [
         "2025-11-11",
         "shop.sony.bpl",
         "mobile",
         "wifi-network",
         "(none) / (direct)",
         "azure / aws / gcc",
         "NULL",
         "NULL",
         "drag",
         "Audit",
         46,
         409516064,
         "2025-09-02T19:10:113",
         "device_category"
        ],
        [
         "2025-11-12",
         "shop.sony.bpl",
         "mobile",
         "wifi-network",
         "flipkart / referral",
         "azure / aws / gcc",
         "NULL",
         "NULL",
         "drag",
         "Audit",
         47,
         409516064,
         "2025-09-02T19:10:114",
         "device_category"
        ],
        [
         "2025-11-13",
         "shop.sony.bpl",
         "mobile",
         "wifi-network",
         "email / email",
         "azure / aws / gcc",
         "NULL",
         "NULL",
         "scroll",
         "Audit",
         48,
         409516064,
         "2025-09-02T19:10:115",
         "device_category"
        ],
        [
         "2025-11-14",
         "shop.sony.bpl",
         "mobile",
         "wifi-network",
         "TTD / video",
         "azure / aws / gcc",
         "NULL",
         "NULL",
         "scroll",
         "Audit",
         49,
         409516064,
         "2025-09-02T19:10:116",
         "device_category"
        ],
        [
         "2025-11-15",
         "shop.sony.bpl",
         "mobile",
         "wifi-network",
         "(data not available)",
         "azure / aws / gcc",
         "NULL",
         "NULL",
         "scroll",
         "Audit",
         31,
         409516064,
         "2025-09-02T19:10:117",
         "device_category"
        ],
        [
         "2025-11-16",
         "shop.sony.bpl",
         "mobile",
         "wifi-network",
         "(direct) / (none)",
         "azure / aws / gcc",
         "NULL",
         "NULL",
         "scroll",
         "Audit",
         32,
         409516064,
         "2025-09-02T19:10:118",
         "device_category"
        ],
        [
         "2025-11-17",
         "shop.sony.bpl",
         "mobile",
         "wifi-network",
         "(direct) / (none)",
         "azure / aws / gcc",
         "NULL",
         "NULL",
         "scroll",
         "Audit",
         33,
         409516064,
         "2025-09-02T19:10:119",
         "device_category"
        ],
        [
         "2025-11-18",
         "shop.sony.bpl",
         "mobile",
         "wifi-network",
         "flipkart / referral",
         "azure / aws / gcc",
         "NULL",
         "NULL",
         "scroll",
         "Audit",
         34,
         409516064,
         "2025-09-02T19:10:120",
         "device_category"
        ],
        [
         "2025-11-19",
         "shop.sony.bpl",
         "mobile",
         "wifi-network",
         "(none) / (direct)",
         "azure / aws / gcc",
         "NULL",
         "NULL",
         "referral",
         "Audit",
         35,
         409516064,
         "2025-09-02T19:10:121",
         "device_category"
        ],
        [
         "2025-11-20",
         "shop.sony.bpl",
         "mobile",
         "wifi-network",
         "brochure / shorturl",
         "azure / aws / gcc",
         "NULL",
         "NULL",
         "direct",
         "Marketing",
         36,
         409516064,
         "2025-09-02T19:10:122",
         "device_category"
        ],
        [
         "2025-11-21",
         "shop.sony.bpl",
         "mobile",
         "wifi-network",
         "(not set)",
         "azure / aws / gcc",
         "NULL",
         "NULL",
         "direct",
         "Marketing",
         37,
         409516064,
         "2025-09-02T19:10:123",
         "device_category"
        ],
        [
         "2025-11-22",
         "shop.sony.bpl",
         "mobile",
         "wifi-network",
         "(data not available)",
         "azure / aws / gcc",
         "NULL",
         "NULL",
         "direct",
         "Marketing",
         38,
         409516064,
         "2025-09-02T19:10:124",
         "device_category"
        ],
        [
         "2025-11-23",
         "shop.sony.bpl",
         "mobile",
         "wifi-network",
         "brochure / shorturl",
         "azure / aws / gcc",
         "NULL",
         "NULL",
         "direct",
         "Marketing",
         39,
         409516064,
         "2025-09-02T19:10:125",
         "device_category"
        ],
        [
         "2025-11-24",
         "shop.sony.bpl",
         "mobile",
         "wifi-network",
         "brochure / shorturl",
         "azure / aws / gcc",
         "NULL",
         "NULL",
         "direct",
         "Marketing",
         40,
         409516064,
         "2025-09-02T19:10:126",
         "device_category"
        ],
        [
         "2025-11-25",
         "shop.sony.bpl",
         "mobile",
         "wifi-network",
         "(not set)",
         "azure / aws / gcc",
         "NULL",
         "NULL",
         "direct",
         "Marketing",
         28,
         409516064,
         "2025-09-02T19:10:127",
         "device_category"
        ],
        [
         "2025-11-26",
         "shop.sony.bpl",
         "mobile",
         "wifi-network",
         "(not set)",
         "azure / aws / gcc",
         "NULL",
         "NULL",
         "referral",
         "Marketing",
         27,
         409516064,
         "2025-09-02T19:10:128",
         "device_category"
        ],
        [
         "2025-11-27",
         "shop.sony.bpl",
         "mobile",
         "wifi-network",
         "fb / paid",
         "azure / aws / gcc",
         "NULL",
         "NULL",
         "referral",
         "Marketing",
         26,
         409516064,
         "2025-09-02T19:10:129",
         "device_category"
        ],
        [
         "2025-11-28",
         "shop.sony.bpl",
         "mobile",
         "wifi-network",
         "(direct) / (none)",
         "azure / aws / gcc",
         "NULL",
         "NULL",
         "referral",
         "Marketing",
         84,
         409516064,
         "2025-09-02T19:10:130",
         "device_category"
        ],
        [
         "2025-11-29",
         "shop.sony.bpl",
         "mobile",
         "wifi-network",
         "(direct) / (none)",
         "azure / aws / gcc",
         "NULL",
         "NULL",
         "referral",
         "Marketing",
         83,
         409516064,
         "2025-09-02T19:10:131",
         "device_category"
        ],
        [
         "2025-11-30",
         "shop.sony.bpl",
         "mobile",
         "wifi-network",
         "(data not available)",
         "azure / aws / gcc",
         "NULL",
         "NULL",
         "referral",
         "Marketing",
         82,
         409516064,
         "2025-09-02T19:10:132",
         "device_category"
        ],
        [
         "2025-12-01",
         "shop.sony.bpl",
         "mobile",
         "wifi-network",
         "fb / paid",
         "azure / aws / gcc",
         "NULL",
         "NULL",
         "organic",
         "Marketing",
         81,
         409516064,
         "2025-09-02T19:10:133",
         "device_category"
        ],
        [
         "2025-12-02",
         "shop.sony.bpl",
         "mobile",
         "wifi-network",
         "fb / paid",
         "azure / aws / gcc",
         "NULL",
         "NULL",
         "organic",
         "Marketing",
         29,
         409516064,
         "2025-09-02T19:10:134",
         "device_category"
        ]
       ],
       "datasetInfos": [],
       "dbfsResultPath": null,
       "isJsonSchema": true,
       "metadata": {},
       "overflow": false,
       "plotOptions": {
        "customPlotOptions": {},
        "displayType": "table",
        "pivotAggregation": null,
        "pivotColumns": null,
        "xColumns": null,
        "yColumns": null
       },
       "removedWidgets": [],
       "schema": [
        {
         "metadata": "{\"__detected_date_formats\": \"d-M-yyyy\"}",
         "name": "start_date",
         "type": "\"date\""
        },
        {
         "metadata": "{}",
         "name": "product_url",
         "type": "\"string\""
        },
        {
         "metadata": "{}",
         "name": "category",
         "type": "\"string\""
        },
        {
         "metadata": "{}",
         "name": "default_group",
         "type": "\"string\""
        },
        {
         "metadata": "{}",
         "name": "source_target",
         "type": "\"string\""
        },
        {
         "metadata": "{}",
         "name": "cloud_flatform",
         "type": "\"string\""
        },
        {
         "metadata": "{}",
         "name": "session_id",
         "type": "\"string\""
        },
        {
         "metadata": "{}",
         "name": "session_name",
         "type": "\"string\""
        },
        {
         "metadata": "{}",
         "name": "status_name",
         "type": "\"string\""
        },
        {
         "metadata": "{}",
         "name": "status_type",
         "type": "\"string\""
        },
        {
         "metadata": "{}",
         "name": "sessions",
         "type": "\"integer\""
        },
        {
         "metadata": "{}",
         "name": "product_id",
         "type": "\"integer\""
        },
        {
         "metadata": "{}",
         "name": "load datetime",
         "type": "\"string\""
        },
        {
         "metadata": "{}",
         "name": "GRANULARITY",
         "type": "\"string\""
        }
       ],
       "type": "table"
      }
     },
     "output_type": "display_data"
    }
   ],
   "source": [
    "# step:1 adding GRANULARITY column to identify the level of dataframe\n",
    "df_silver_tbl_01 = silver_tbl_01.withColumn(\"GRANULARITY\", lit(\"campaign\"))\n",
    "\n",
    "df_silver_tbl_02 = silver_tbl_02 \\\n",
    "    .withColumn(\"session_id\", lit(\"NULL\")) \\\n",
    "    .withColumn(\"session_name\", lit(\"NULL\")) \\\n",
    "    .withColumn(\"GRANULARITY\", lit(\"device_category\"))\n",
    "\n",
    "# step:2 union of silver dataframes\n",
    "df_gold_tbl = df_silver_tbl_01.unionByName(df_silver_tbl_02)\n",
    "display(df_gold_tbl)"
   ]
  },
  {
   "cell_type": "code",
   "execution_count": 0,
   "metadata": {
    "application/vnd.databricks.v1+cell": {
     "cellMetadata": {
      "byteLimit": 2048000,
      "rowLimit": 10000
     },
     "inputWidgets": {},
     "nuid": "53f2fefe-5dca-4b34-9f3e-528cab2531a7",
     "showTitle": false,
     "tableResultSettingsMap": {},
     "title": ""
    }
   },
   "outputs": [
    {
     "output_type": "display_data",
     "data": {
      "text/html": [
       "<style scoped>\n",
       "  .table-result-container {\n",
       "    max-height: 300px;\n",
       "    overflow: auto;\n",
       "  }\n",
       "  table, th, td {\n",
       "    border: 1px solid black;\n",
       "    border-collapse: collapse;\n",
       "  }\n",
       "  th, td {\n",
       "    padding: 5px;\n",
       "  }\n",
       "  th {\n",
       "    text-align: left;\n",
       "  }\n",
       "</style><div class='table-result-container'><table class='table-result'><thead style='background-color: white'><tr><th>session_id</th></tr></thead><tbody><tr><td>9876568</td></tr><tr><td>9876557</td></tr><tr><td>9876592</td></tr><tr><td>9876582</td></tr><tr><td>9876567</td></tr><tr><td>9876616</td></tr><tr><td>9876569</td></tr><tr><td>9876549</td></tr><tr><td>9876597</td></tr><tr><td>9876556</td></tr><tr><td>9876619</td></tr><tr><td>9876608</td></tr><tr><td>9876632</td></tr><tr><td>9876623</td></tr><tr><td>9876609</td></tr><tr><td>9876580</td></tr><tr><td>9876560</td></tr><tr><td>9876543</td></tr><tr><td>9876585</td></tr><tr><td>9876570</td></tr><tr><td>9876550</td></tr><tr><td>9876588</td></tr><tr><td>9876573</td></tr><tr><td>9876589</td></tr><tr><td>9876575</td></tr><tr><td>9876612</td></tr><tr><td>9876545</td></tr><tr><td>9876591</td></tr><tr><td>9876598</td></tr><tr><td>9876633</td></tr><tr><td>9876565</td></tr><tr><td>9876641</td></tr><tr><td>9876578</td></tr><tr><td>9876607</td></tr><tr><td>9876602</td></tr><tr><td>9876581</td></tr><tr><td>9876642</td></tr><tr><td>9876554</td></tr><tr><td>9876551</td></tr><tr><td>9876548</td></tr><tr><td>9876600</td></tr><tr><td>9876624</td></tr><tr><td>9876590</td></tr><tr><td>9876572</td></tr><tr><td>9876627</td></tr><tr><td>9876628</td></tr><tr><td>9876563</td></tr><tr><td>9876576</td></tr><tr><td>9876615</td></tr><tr><td>9876595</td></tr><tr><td>9876629</td></tr><tr><td>9876625</td></tr><tr><td>9876613</td></tr><tr><td>9876620</td></tr><tr><td>9876561</td></tr><tr><td>9876562</td></tr><tr><td>9876626</td></tr><tr><td>9876558</td></tr><tr><td>9876618</td></tr><tr><td>9876583</td></tr><tr><td>9876546</td></tr><tr><td>9876611</td></tr><tr><td>9876559</td></tr><tr><td>9876553</td></tr><tr><td>9876634</td></tr><tr><td>9876555</td></tr><tr><td>9876599</td></tr><tr><td>9876630</td></tr><tr><td>9876605</td></tr><tr><td>9876635</td></tr><tr><td>9876594</td></tr><tr><td>9876571</td></tr><tr><td>9876621</td></tr><tr><td>9876631</td></tr><tr><td>9876639</td></tr><tr><td>9876614</td></tr><tr><td>9876544</td></tr><tr><td>9876603</td></tr><tr><td>9876601</td></tr><tr><td>9876593</td></tr><tr><td>9876584</td></tr><tr><td>9876547</td></tr><tr><td>9876617</td></tr><tr><td>9876577</td></tr><tr><td>9876622</td></tr><tr><td>9876637</td></tr><tr><td>9876586</td></tr><tr><td>9876596</td></tr><tr><td>9876587</td></tr><tr><td>9876636</td></tr><tr><td>9876606</td></tr><tr><td>9876564</td></tr><tr><td>9876638</td></tr><tr><td>9876640</td></tr><tr><td>9876552</td></tr><tr><td>9876604</td></tr><tr><td>9876579</td></tr><tr><td>9876610</td></tr><tr><td>9876574</td></tr><tr><td>9876566</td></tr><tr><td>NULL</td></tr></tbody></table></div>"
      ]
     },
     "metadata": {
      "application/vnd.databricks.v1+output": {
       "addedWidgets": {},
       "aggData": [],
       "aggError": "",
       "aggOverflow": false,
       "aggSchema": [],
       "aggSeriesLimitReached": false,
       "aggType": "",
       "arguments": {},
       "columnCustomDisplayInfos": {},
       "data": [
        [
         "9876568"
        ],
        [
         "9876557"
        ],
        [
         "9876592"
        ],
        [
         "9876582"
        ],
        [
         "9876567"
        ],
        [
         "9876616"
        ],
        [
         "9876569"
        ],
        [
         "9876549"
        ],
        [
         "9876597"
        ],
        [
         "9876556"
        ],
        [
         "9876619"
        ],
        [
         "9876608"
        ],
        [
         "9876632"
        ],
        [
         "9876623"
        ],
        [
         "9876609"
        ],
        [
         "9876580"
        ],
        [
         "9876560"
        ],
        [
         "9876543"
        ],
        [
         "9876585"
        ],
        [
         "9876570"
        ],
        [
         "9876550"
        ],
        [
         "9876588"
        ],
        [
         "9876573"
        ],
        [
         "9876589"
        ],
        [
         "9876575"
        ],
        [
         "9876612"
        ],
        [
         "9876545"
        ],
        [
         "9876591"
        ],
        [
         "9876598"
        ],
        [
         "9876633"
        ],
        [
         "9876565"
        ],
        [
         "9876641"
        ],
        [
         "9876578"
        ],
        [
         "9876607"
        ],
        [
         "9876602"
        ],
        [
         "9876581"
        ],
        [
         "9876642"
        ],
        [
         "9876554"
        ],
        [
         "9876551"
        ],
        [
         "9876548"
        ],
        [
         "9876600"
        ],
        [
         "9876624"
        ],
        [
         "9876590"
        ],
        [
         "9876572"
        ],
        [
         "9876627"
        ],
        [
         "9876628"
        ],
        [
         "9876563"
        ],
        [
         "9876576"
        ],
        [
         "9876615"
        ],
        [
         "9876595"
        ],
        [
         "9876629"
        ],
        [
         "9876625"
        ],
        [
         "9876613"
        ],
        [
         "9876620"
        ],
        [
         "9876561"
        ],
        [
         "9876562"
        ],
        [
         "9876626"
        ],
        [
         "9876558"
        ],
        [
         "9876618"
        ],
        [
         "9876583"
        ],
        [
         "9876546"
        ],
        [
         "9876611"
        ],
        [
         "9876559"
        ],
        [
         "9876553"
        ],
        [
         "9876634"
        ],
        [
         "9876555"
        ],
        [
         "9876599"
        ],
        [
         "9876630"
        ],
        [
         "9876605"
        ],
        [
         "9876635"
        ],
        [
         "9876594"
        ],
        [
         "9876571"
        ],
        [
         "9876621"
        ],
        [
         "9876631"
        ],
        [
         "9876639"
        ],
        [
         "9876614"
        ],
        [
         "9876544"
        ],
        [
         "9876603"
        ],
        [
         "9876601"
        ],
        [
         "9876593"
        ],
        [
         "9876584"
        ],
        [
         "9876547"
        ],
        [
         "9876617"
        ],
        [
         "9876577"
        ],
        [
         "9876622"
        ],
        [
         "9876637"
        ],
        [
         "9876586"
        ],
        [
         "9876596"
        ],
        [
         "9876587"
        ],
        [
         "9876636"
        ],
        [
         "9876606"
        ],
        [
         "9876564"
        ],
        [
         "9876638"
        ],
        [
         "9876640"
        ],
        [
         "9876552"
        ],
        [
         "9876604"
        ],
        [
         "9876579"
        ],
        [
         "9876610"
        ],
        [
         "9876574"
        ],
        [
         "9876566"
        ],
        [
         "NULL"
        ]
       ],
       "datasetInfos": [],
       "dbfsResultPath": null,
       "isJsonSchema": true,
       "metadata": {},
       "overflow": false,
       "plotOptions": {
        "customPlotOptions": {},
        "displayType": "table",
        "pivotAggregation": null,
        "pivotColumns": null,
        "xColumns": null,
        "yColumns": null
       },
       "removedWidgets": [],
       "schema": [
        {
         "metadata": "{}",
         "name": "session_id",
         "type": "\"string\""
        }
       ],
       "type": "table"
      }
     },
     "output_type": "display_data"
    }
   ],
   "source": [
    "df_gold_tbl.select(\"session_id\").distinct().display()"
   ]
  },
  {
   "cell_type": "code",
   "execution_count": 0,
   "metadata": {
    "application/vnd.databricks.v1+cell": {
     "cellMetadata": {
      "byteLimit": 2048000,
      "rowLimit": 10000
     },
     "inputWidgets": {},
     "nuid": "8445f4d4-aa78-4a2a-a642-a5505bb0a0c4",
     "showTitle": false,
     "tableResultSettingsMap": {},
     "title": ""
    }
   },
   "outputs": [
    {
     "output_type": "display_data",
     "data": {
      "text/html": [
       "<style scoped>\n",
       "  .table-result-container {\n",
       "    max-height: 300px;\n",
       "    overflow: auto;\n",
       "  }\n",
       "  table, th, td {\n",
       "    border: 1px solid black;\n",
       "    border-collapse: collapse;\n",
       "  }\n",
       "  th, td {\n",
       "    padding: 5px;\n",
       "  }\n",
       "  th {\n",
       "    text-align: left;\n",
       "  }\n",
       "</style><div class='table-result-container'><table class='table-result'><thead style='background-color: white'><tr><th>session_name</th></tr></thead><tbody><tr><td>add_to_cart</td></tr><tr><td>first_visit</td></tr><tr><td>purchase</td></tr><tr><td>click</td></tr><tr><td>search</td></tr><tr><td>session_start</td></tr><tr><td>NULL</td></tr></tbody></table></div>"
      ]
     },
     "metadata": {
      "application/vnd.databricks.v1+output": {
       "addedWidgets": {},
       "aggData": [],
       "aggError": "",
       "aggOverflow": false,
       "aggSchema": [],
       "aggSeriesLimitReached": false,
       "aggType": "",
       "arguments": {},
       "columnCustomDisplayInfos": {},
       "data": [
        [
         "add_to_cart"
        ],
        [
         "first_visit"
        ],
        [
         "purchase"
        ],
        [
         "click"
        ],
        [
         "search"
        ],
        [
         "session_start"
        ],
        [
         "NULL"
        ]
       ],
       "datasetInfos": [],
       "dbfsResultPath": null,
       "isJsonSchema": true,
       "metadata": {},
       "overflow": false,
       "plotOptions": {
        "customPlotOptions": {},
        "displayType": "table",
        "pivotAggregation": null,
        "pivotColumns": null,
        "xColumns": null,
        "yColumns": null
       },
       "removedWidgets": [],
       "schema": [
        {
         "metadata": "{}",
         "name": "session_name",
         "type": "\"string\""
        }
       ],
       "type": "table"
      }
     },
     "output_type": "display_data"
    }
   ],
   "source": [
    "df_gold_tbl.select(\"session_name\").distinct().display()"
   ]
  },
  {
   "cell_type": "code",
   "execution_count": 0,
   "metadata": {
    "application/vnd.databricks.v1+cell": {
     "cellMetadata": {
      "byteLimit": 2048000,
      "rowLimit": 10000
     },
     "inputWidgets": {},
     "nuid": "db45c0f9-7a0c-4d3c-bb63-b16951ca7ee7",
     "showTitle": true,
     "tableResultSettingsMap": {
      "0": {
       "dataGridStateBlob": "{\"version\":1,\"tableState\":{\"columnPinning\":{\"left\":[\"#row_number#\"],\"right\":[]},\"columnSizing\":{\"DataFrame\":103,\"Row_Count\":108,\"Aggregated_Sessions\":161},\"columnVisibility\":{}},\"settings\":{\"columns\":{}},\"syncTimestamp\":1759339569339}",
       "filterBlob": null,
       "queryPlanFiltersBlob": null,
       "tableResultIndex": 0
      }
     },
     "title": "create dataframe"
    }
   },
   "outputs": [
    {
     "output_type": "display_data",
     "data": {
      "text/html": [
       "<style scoped>\n",
       "  .table-result-container {\n",
       "    max-height: 300px;\n",
       "    overflow: auto;\n",
       "  }\n",
       "  table, th, td {\n",
       "    border: 1px solid black;\n",
       "    border-collapse: collapse;\n",
       "  }\n",
       "  th, td {\n",
       "    padding: 5px;\n",
       "  }\n",
       "  th {\n",
       "    text-align: left;\n",
       "  }\n",
       "</style><div class='table-result-container'><table class='table-result'><thead style='background-color: white'><tr><th>DataFrame</th><th>Row_Count</th><th>Distinct_Count</th><th>Aggregated_Sessions</th><th>Min_Sessions</th><th>Max_Sessions</th><th>Avg_Sessions</th><th>Null_Sessions</th><th>Columns_Count</th></tr></thead><tbody><tr><td>Silver_tbl_01</td><td>100</td><td>100</td><td>8370</td><td>3</td><td>195</td><td>83.7</td><td>0</td><td>13</td></tr><tr><td>Silver_tbl_02</td><td>100</td><td>100</td><td>7654</td><td>8</td><td>191</td><td>76.54</td><td>0</td><td>11</td></tr><tr><td>Gold_table</td><td>200</td><td>200</td><td>16024</td><td>3</td><td>195</td><td>80.12</td><td>0</td><td>14</td></tr></tbody></table></div>"
      ]
     },
     "metadata": {
      "application/vnd.databricks.v1+output": {
       "addedWidgets": {},
       "aggData": [],
       "aggError": "",
       "aggOverflow": false,
       "aggSchema": [],
       "aggSeriesLimitReached": false,
       "aggType": "",
       "arguments": {},
       "columnCustomDisplayInfos": {},
       "data": [
        [
         "Silver_tbl_01",
         100,
         100,
         8370,
         3,
         195,
         83.7,
         0,
         13
        ],
        [
         "Silver_tbl_02",
         100,
         100,
         7654,
         8,
         191,
         76.54,
         0,
         11
        ],
        [
         "Gold_table",
         200,
         200,
         16024,
         3,
         195,
         80.12,
         0,
         14
        ]
       ],
       "datasetInfos": [],
       "dbfsResultPath": null,
       "isJsonSchema": true,
       "metadata": {},
       "overflow": false,
       "plotOptions": {
        "customPlotOptions": {},
        "displayType": "table",
        "pivotAggregation": null,
        "pivotColumns": null,
        "xColumns": null,
        "yColumns": null
       },
       "removedWidgets": [],
       "schema": [
        {
         "metadata": "{}",
         "name": "DataFrame",
         "type": "\"string\""
        },
        {
         "metadata": "{}",
         "name": "Row_Count",
         "type": "\"long\""
        },
        {
         "metadata": "{}",
         "name": "Distinct_Count",
         "type": "\"long\""
        },
        {
         "metadata": "{}",
         "name": "Aggregated_Sessions",
         "type": "\"long\""
        },
        {
         "metadata": "{}",
         "name": "Min_Sessions",
         "type": "\"long\""
        },
        {
         "metadata": "{}",
         "name": "Max_Sessions",
         "type": "\"long\""
        },
        {
         "metadata": "{}",
         "name": "Avg_Sessions",
         "type": "\"double\""
        },
        {
         "metadata": "{}",
         "name": "Null_Sessions",
         "type": "\"long\""
        },
        {
         "metadata": "{}",
         "name": "Columns_Count",
         "type": "\"long\""
        }
       ],
       "type": "table"
      }
     },
     "output_type": "display_data"
    }
   ],
   "source": [
    "from pyspark.sql.functions import sum, min, max, avg, col\n",
    "\n",
    "data = [\n",
    "    [\n",
    "        \"Silver_tbl_01\",\n",
    "        silver_tbl_01.count(),\n",
    "        silver_tbl_01.distinct().count(),\n",
    "        silver_tbl_01.groupBy().agg(sum(\"sessions\")).collect()[0][0],\n",
    "        silver_tbl_01.agg(min(\"sessions\")).collect()[0][0],\n",
    "        silver_tbl_01.agg(max(\"sessions\")).collect()[0][0],\n",
    "        silver_tbl_01.agg(avg(\"sessions\")).collect()[0][0],\n",
    "        silver_tbl_01.filter(col(\"sessions\").isNull()).count(),\n",
    "        len(silver_tbl_01.columns)\n",
    "    ],\n",
    "    [\n",
    "        \"Silver_tbl_02\",\n",
    "        silver_tbl_02.count(),\n",
    "        silver_tbl_02.distinct().count(),\n",
    "        silver_tbl_02.groupBy().agg(sum(\"sessions\")).collect()[0][0],\n",
    "        silver_tbl_02.agg(min(\"sessions\")).collect()[0][0],\n",
    "        silver_tbl_02.agg(max(\"sessions\")).collect()[0][0],\n",
    "        silver_tbl_02.agg(avg(\"sessions\")).collect()[0][0],\n",
    "        silver_tbl_02.filter(col(\"sessions\").isNull()).count(),\n",
    "        len(silver_tbl_02.columns)\n",
    "    ],\n",
    "    [\n",
    "        \"Gold_table\",\n",
    "        df_gold_tbl.count(),\n",
    "        df_gold_tbl.distinct().count(),\n",
    "        df_gold_tbl.groupBy().agg(sum(\"sessions\")).collect()[0][0],\n",
    "        df_gold_tbl.agg(min(\"sessions\")).collect()[0][0],\n",
    "        df_gold_tbl.agg(max(\"sessions\")).collect()[0][0],\n",
    "        df_gold_tbl.agg(avg(\"sessions\")).collect()[0][0],\n",
    "        df_gold_tbl.filter(col(\"sessions\").isNull()).count(),\n",
    "        len(df_gold_tbl.columns)\n",
    "    ]\n",
    "]\n",
    "\n",
    "df_tst = spark.createDataFrame(\n",
    "    data, \n",
    "    [\"DataFrame\", \"Row_Count\", \"Distinct_Count\", \"Aggregated_Sessions\",\n",
    "     \"Min_Sessions\", \"Max_Sessions\", \"Avg_Sessions\", \"Null_Sessions\", \"Columns_Count\"]\n",
    ")\n",
    "\n",
    "display(df_tst)"
   ]
  }
 ],
 "metadata": {
  "application/vnd.databricks.v1+notebook": {
   "computePreferences": {
    "hardware": {
     "accelerator": null,
     "gpuPoolId": null,
     "memory": null
    }
   },
   "dashboards": [],
   "environmentMetadata": {
    "base_environment": "",
    "environment_version": "3"
   },
   "inputWidgetPreferences": null,
   "language": "python",
   "notebookMetadata": {
    "pythonIndentUnit": 4
   },
   "notebookName": "4_How to create dataframe of summary table (bronze, silver & gold)",
   "widgets": {}
  },
  "language_info": {
   "name": "python"
  }
 },
 "nbformat": 4,
 "nbformat_minor": 0
}