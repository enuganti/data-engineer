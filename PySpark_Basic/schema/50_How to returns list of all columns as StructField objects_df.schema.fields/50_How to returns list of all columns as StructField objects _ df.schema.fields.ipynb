{
 "cells": [
  {
   "cell_type": "markdown",
   "metadata": {
    "application/vnd.databricks.v1+cell": {
     "cellMetadata": {},
     "inputWidgets": {},
     "nuid": "6e787073-f4dd-4dc6-96df-dc01e872cf58",
     "showTitle": false,
     "tableResultSettingsMap": {},
     "title": ""
    }
   },
   "source": [
    "**How to return list of all columns as StructField objects?**"
   ]
  },
  {
   "cell_type": "markdown",
   "metadata": {
    "application/vnd.databricks.v1+cell": {
     "cellMetadata": {},
     "inputWidgets": {},
     "nuid": "f5559025-cc98-4138-8c86-f32bad23c1a5",
     "showTitle": false,
     "tableResultSettingsMap": {},
     "title": ""
    }
   },
   "source": [
    "| Code Part                                                    | Purpose                                    |\n",
    "| ------------------------------------------------------------ | ------------------------------------------ |\n",
    "| `df.schema`                                                  | Returns full schema object                 |\n",
    "| `df.schema.fields`                                           | Returns **list of all columns** as **StructField** objects |\n",
    "| `field.name`                                                 | Gets the **column name** from each **StructField** |\n",
    "| `field.dataType`                                             | Column data type                           |\n",
    "| `field.nullable`                                             | Whether nulls are allowed                  |\n",
    "| `for field in df.schema.fields'                              | Iterate over all schema fields             |\n",
    "| `any(field.name == \"colname\" for field in df.schema.fields)` | Check if column exists (Returns **True** if any field matches) |\n",
    "| `[field.name for field in df.schema.fields]`                 | Extract list of column names               |"
   ]
  },
  {
   "cell_type": "code",
   "execution_count": 0,
   "metadata": {
    "application/vnd.databricks.v1+cell": {
     "cellMetadata": {
      "byteLimit": 2048000,
      "rowLimit": 10000
     },
     "inputWidgets": {},
     "nuid": "869f28e6-2510-4e6c-a598-652e54a6e256",
     "showTitle": false,
     "tableResultSettingsMap": {},
     "title": ""
    }
   },
   "outputs": [
    {
     "output_type": "display_data",
     "data": {
      "text/html": [
       "<style scoped>\n",
       "  .table-result-container {\n",
       "    max-height: 300px;\n",
       "    overflow: auto;\n",
       "  }\n",
       "  table, th, td {\n",
       "    border: 1px solid black;\n",
       "    border-collapse: collapse;\n",
       "  }\n",
       "  th, td {\n",
       "    padding: 5px;\n",
       "  }\n",
       "  th {\n",
       "    text-align: left;\n",
       "  }\n",
       "</style><div class='table-result-container'><table class='table-result'><thead style='background-color: white'><tr><th>start_date</th><th>product_url</th><th>category</th><th>default_group</th><th>source_target</th><th>cloud_flatform</th><th>session_id</th><th>session_name</th><th>status_name</th><th>status_type</th><th>sessions</th><th>product_id</th><th>load datetime</th></tr></thead><tbody><tr><td>2025-08-25</td><td>shop.sony.bpl</td><td>mobile</td><td>wifi-network</td><td>google</td><td>azure / aws / gcc</td><td>9876543</td><td>first_visit</td><td>first_visit</td><td>Not Available</td><td>5</td><td>409516064</td><td>2025-09-02T19:10:35</td></tr><tr><td>2025-08-26</td><td>shop.sony.bpl</td><td>mobile</td><td>wifi-network</td><td>google</td><td>azure / aws / gcc</td><td>9876544</td><td>purchase</td><td>organic</td><td>Not Available</td><td>12</td><td>409516064</td><td>2025-09-02T19:10:36</td></tr><tr><td>2025-08-27</td><td>shop.sony.bpl</td><td>mobile</td><td>wifi-network</td><td>google</td><td>azure / aws / gcc</td><td>9876545</td><td>search</td><td>network</td><td>Not Available</td><td>16</td><td>409516064</td><td>2025-09-02T19:10:37</td></tr><tr><td>2025-08-28</td><td>shop.sony.bpl</td><td>mobile</td><td>wifi-network</td><td>google</td><td>azure / aws / gcc</td><td>9876546</td><td>search</td><td>scroll</td><td>Not Available</td><td>22</td><td>409516064</td><td>2025-09-02T19:10:38</td></tr><tr><td>2025-08-29</td><td>shop.sony.bpl</td><td>mobile</td><td>wifi-network</td><td>google</td><td>azure / aws / gcc</td><td>9876547</td><td>search</td><td>organic</td><td>Not Available</td><td>25</td><td>409516064</td><td>2025-09-02T19:10:39</td></tr></tbody></table></div>"
      ]
     },
     "metadata": {
      "application/vnd.databricks.v1+output": {
       "addedWidgets": {},
       "aggData": [],
       "aggError": "",
       "aggOverflow": false,
       "aggSchema": [],
       "aggSeriesLimitReached": false,
       "aggType": "",
       "arguments": {},
       "columnCustomDisplayInfos": {},
       "data": [
        [
         "2025-08-25",
         "shop.sony.bpl",
         "mobile",
         "wifi-network",
         "google",
         "azure / aws / gcc",
         9876543,
         "first_visit",
         "first_visit",
         "Not Available",
         5,
         409516064,
         "2025-09-02T19:10:35"
        ],
        [
         "2025-08-26",
         "shop.sony.bpl",
         "mobile",
         "wifi-network",
         "google",
         "azure / aws / gcc",
         9876544,
         "purchase",
         "organic",
         "Not Available",
         12,
         409516064,
         "2025-09-02T19:10:36"
        ],
        [
         "2025-08-27",
         "shop.sony.bpl",
         "mobile",
         "wifi-network",
         "google",
         "azure / aws / gcc",
         9876545,
         "search",
         "network",
         "Not Available",
         16,
         409516064,
         "2025-09-02T19:10:37"
        ],
        [
         "2025-08-28",
         "shop.sony.bpl",
         "mobile",
         "wifi-network",
         "google",
         "azure / aws / gcc",
         9876546,
         "search",
         "scroll",
         "Not Available",
         22,
         409516064,
         "2025-09-02T19:10:38"
        ],
        [
         "2025-08-29",
         "shop.sony.bpl",
         "mobile",
         "wifi-network",
         "google",
         "azure / aws / gcc",
         9876547,
         "search",
         "organic",
         "Not Available",
         25,
         409516064,
         "2025-09-02T19:10:39"
        ]
       ],
       "datasetInfos": [],
       "dbfsResultPath": null,
       "isJsonSchema": true,
       "metadata": {},
       "overflow": false,
       "plotOptions": {
        "customPlotOptions": {},
        "displayType": "table",
        "pivotAggregation": null,
        "pivotColumns": null,
        "xColumns": null,
        "yColumns": null
       },
       "removedWidgets": [],
       "schema": [
        {
         "metadata": "{\"__detected_date_formats\": \"d-M-yyyy\"}",
         "name": "start_date",
         "type": "\"date\""
        },
        {
         "metadata": "{}",
         "name": "product_url",
         "type": "\"string\""
        },
        {
         "metadata": "{}",
         "name": "category",
         "type": "\"string\""
        },
        {
         "metadata": "{}",
         "name": "default_group",
         "type": "\"string\""
        },
        {
         "metadata": "{}",
         "name": "source_target",
         "type": "\"string\""
        },
        {
         "metadata": "{}",
         "name": "cloud_flatform",
         "type": "\"string\""
        },
        {
         "metadata": "{}",
         "name": "session_id",
         "type": "\"integer\""
        },
        {
         "metadata": "{}",
         "name": "session_name",
         "type": "\"string\""
        },
        {
         "metadata": "{}",
         "name": "status_name",
         "type": "\"string\""
        },
        {
         "metadata": "{}",
         "name": "status_type",
         "type": "\"string\""
        },
        {
         "metadata": "{}",
         "name": "sessions",
         "type": "\"integer\""
        },
        {
         "metadata": "{}",
         "name": "product_id",
         "type": "\"integer\""
        },
        {
         "metadata": "{}",
         "name": "load datetime",
         "type": "\"string\""
        }
       ],
       "type": "table"
      }
     },
     "output_type": "display_data"
    }
   ],
   "source": [
    "df = spark.read.csv(\"/Volumes/@azureadb/pyspark/unionby/company_level.csv\", header=True, inferSchema=True)\n",
    "display(df.limit(5))"
   ]
  },
  {
   "cell_type": "code",
   "execution_count": 0,
   "metadata": {
    "application/vnd.databricks.v1+cell": {
     "cellMetadata": {
      "byteLimit": 2048000,
      "rowLimit": 10000
     },
     "inputWidgets": {},
     "nuid": "cde3b539-6186-44f8-b9b5-b289991d914b",
     "showTitle": false,
     "tableResultSettingsMap": {},
     "title": ""
    }
   },
   "outputs": [
    {
     "output_type": "stream",
     "name": "stdout",
     "output_type": "stream",
     "text": [
      "root\n |-- start_date: date (nullable = true)\n |-- product_url: string (nullable = true)\n |-- category: string (nullable = true)\n |-- default_group: string (nullable = true)\n |-- source_target: string (nullable = true)\n |-- cloud_flatform: string (nullable = true)\n |-- session_id: integer (nullable = true)\n |-- session_name: string (nullable = true)\n |-- status_name: string (nullable = true)\n |-- status_type: string (nullable = true)\n |-- sessions: integer (nullable = true)\n |-- product_id: integer (nullable = true)\n |-- load datetime: string (nullable = true)\n\n"
     ]
    }
   ],
   "source": [
    "# Display schema (structure of the DataFrame)\n",
    "df.printSchema()"
   ]
  },
  {
   "cell_type": "code",
   "execution_count": 0,
   "metadata": {
    "application/vnd.databricks.v1+cell": {
     "cellMetadata": {
      "byteLimit": 2048000,
      "rowLimit": 10000
     },
     "inputWidgets": {},
     "nuid": "0ceea7f5-dd61-48c6-947b-cf1f5df0ec04",
     "showTitle": false,
     "tableResultSettingsMap": {},
     "title": ""
    }
   },
   "outputs": [
    {
     "output_type": "stream",
     "name": "stdout",
     "output_type": "stream",
     "text": [
      "\n=== All Fields in Schema ===\n[StructField('start_date', DateType(), True), StructField('product_url', StringType(), True), StructField('category', StringType(), True), StructField('default_group', StringType(), True), StructField('source_target', StringType(), True), StructField('cloud_flatform', StringType(), True), StructField('session_id', IntegerType(), True), StructField('session_name', StringType(), True), StructField('status_name', StringType(), True), StructField('status_type', StringType(), True), StructField('sessions', IntegerType(), True), StructField('product_id', IntegerType(), True), StructField('load datetime', StringType(), True)]\n"
     ]
    }
   ],
   "source": [
    "# Access all fields (columns) in schema\n",
    "print(\"\\n=== All Fields in Schema ===\")\n",
    "print(df.schema.fields)"
   ]
  },
  {
   "cell_type": "code",
   "execution_count": 0,
   "metadata": {
    "application/vnd.databricks.v1+cell": {
     "cellMetadata": {
      "byteLimit": 2048000,
      "rowLimit": 10000
     },
     "inputWidgets": {},
     "nuid": "6f64e1b2-9494-4bac-9f51-5cb4ce61e6eb",
     "showTitle": false,
     "tableResultSettingsMap": {},
     "title": ""
    }
   },
   "outputs": [
    {
     "output_type": "stream",
     "name": "stdout",
     "output_type": "stream",
     "text": [
      "StructField('start_date', DateType(), True)\nStructField('product_url', StringType(), True)\nStructField('category', StringType(), True)\nStructField('default_group', StringType(), True)\nStructField('source_target', StringType(), True)\nStructField('cloud_flatform', StringType(), True)\nStructField('session_id', IntegerType(), True)\nStructField('session_name', StringType(), True)\nStructField('status_name', StringType(), True)\nStructField('status_type', StringType(), True)\nStructField('sessions', IntegerType(), True)\nStructField('product_id', IntegerType(), True)\nStructField('load datetime', StringType(), True)\n"
     ]
    }
   ],
   "source": [
    "for field in df.schema.fields:\n",
    "    print(field)"
   ]
  },
  {
   "cell_type": "code",
   "execution_count": 0,
   "metadata": {
    "application/vnd.databricks.v1+cell": {
     "cellMetadata": {
      "byteLimit": 2048000,
      "rowLimit": 10000
     },
     "inputWidgets": {},
     "nuid": "a7473a1c-672c-4d89-bf87-4abd15090df7",
     "showTitle": false,
     "tableResultSettingsMap": {},
     "title": ""
    }
   },
   "outputs": [
    {
     "output_type": "stream",
     "name": "stdout",
     "output_type": "stream",
     "text": [
      "[StructField('start_date', DateType(), True), StructField('product_url', StringType(), True), StructField('category', StringType(), True), StructField('default_group', StringType(), True), StructField('source_target', StringType(), True), StructField('cloud_flatform', StringType(), True), StructField('session_id', IntegerType(), True), StructField('session_name', StringType(), True), StructField('status_name', StringType(), True), StructField('status_type', StringType(), True), StructField('sessions', IntegerType(), True), StructField('product_id', IntegerType(), True), StructField('load datetime', StringType(), True)]\n"
     ]
    }
   ],
   "source": [
    "StructField_names = [field for field in df.schema.fields]\n",
    "print(StructField_names)"
   ]
  },
  {
   "cell_type": "code",
   "execution_count": 0,
   "metadata": {
    "application/vnd.databricks.v1+cell": {
     "cellMetadata": {
      "byteLimit": 2048000,
      "rowLimit": 10000
     },
     "inputWidgets": {},
     "nuid": "0a2e1acc-594b-4c61-bcae-5a7a64b7b3f8",
     "showTitle": false,
     "tableResultSettingsMap": {},
     "title": ""
    }
   },
   "outputs": [
    {
     "output_type": "execute_result",
     "data": {
      "text/plain": [
       "DateType()"
      ]
     },
     "execution_count": 51,
     "metadata": {},
     "output_type": "execute_result"
    }
   ],
   "source": [
    "df.schema['start_date'].dataType"
   ]
  },
  {
   "cell_type": "code",
   "execution_count": 0,
   "metadata": {
    "application/vnd.databricks.v1+cell": {
     "cellMetadata": {
      "byteLimit": 2048000,
      "rowLimit": 10000
     },
     "inputWidgets": {},
     "nuid": "f21e650e-7f9a-4850-9014-4185ff1f569e",
     "showTitle": false,
     "tableResultSettingsMap": {},
     "title": ""
    }
   },
   "outputs": [
    {
     "output_type": "stream",
     "name": "stdout",
     "output_type": "stream",
     "text": [
      "\n=== Detailed Field Information ===\nColumn Name   : start_date\nData Type     : DateType()\nNullable      : True\n-----------------------------------\nColumn Name   : product_url\nData Type     : StringType()\nNullable      : True\n-----------------------------------\nColumn Name   : category\nData Type     : StringType()\nNullable      : True\n-----------------------------------\nColumn Name   : default_group\nData Type     : StringType()\nNullable      : True\n-----------------------------------\nColumn Name   : source_target\nData Type     : StringType()\nNullable      : True\n-----------------------------------\nColumn Name   : cloud_flatform\nData Type     : StringType()\nNullable      : True\n-----------------------------------\nColumn Name   : session_id\nData Type     : IntegerType()\nNullable      : True\n-----------------------------------\nColumn Name   : session_name\nData Type     : StringType()\nNullable      : True\n-----------------------------------\nColumn Name   : status_name\nData Type     : StringType()\nNullable      : True\n-----------------------------------\nColumn Name   : status_type\nData Type     : StringType()\nNullable      : True\n-----------------------------------\nColumn Name   : sessions\nData Type     : IntegerType()\nNullable      : True\n-----------------------------------\nColumn Name   : product_id\nData Type     : IntegerType()\nNullable      : True\n-----------------------------------\nColumn Name   : load datetime\nData Type     : StringType()\nNullable      : True\n-----------------------------------\n"
     ]
    }
   ],
   "source": [
    "# Print column name, data type, and nullable for each field\n",
    "print(\"\\n=== Detailed Field Information ===\")\n",
    "for field in df.schema.fields:\n",
    "    print(f\"Column Name   : {field.name}\")\n",
    "    print(f\"Data Type     : {field.dataType}\")\n",
    "    print(f\"Nullable      : {field.nullable}\")\n",
    "    print(\"-\" * 35)"
   ]
  },
  {
   "cell_type": "code",
   "execution_count": 0,
   "metadata": {
    "application/vnd.databricks.v1+cell": {
     "cellMetadata": {
      "byteLimit": 2048000,
      "rowLimit": 10000
     },
     "inputWidgets": {},
     "nuid": "c335964b-3be7-446d-8a4e-c3cccb289dcb",
     "showTitle": false,
     "tableResultSettingsMap": {},
     "title": ""
    }
   },
   "outputs": [
    {
     "output_type": "stream",
     "name": "stdout",
     "output_type": "stream",
     "text": [
      "\nColumn Names: ['start_date', 'product_url', 'category', 'default_group', 'source_target', 'cloud_flatform', 'session_id', 'session_name', 'status_name', 'status_type', 'sessions', 'product_id', 'load datetime']\n"
     ]
    }
   ],
   "source": [
    "# Extract only column names using a list comprehension\n",
    "column_names = [field.name for field in df.schema.fields]\n",
    "print(\"\\nColumn Names:\", column_names)"
   ]
  },
  {
   "cell_type": "code",
   "execution_count": 0,
   "metadata": {
    "application/vnd.databricks.v1+cell": {
     "cellMetadata": {
      "byteLimit": 2048000,
      "rowLimit": 10000
     },
     "inputWidgets": {},
     "nuid": "cd542035-0590-45ca-a7c4-4674098c0ce5",
     "showTitle": false,
     "tableResultSettingsMap": {},
     "title": ""
    }
   },
   "outputs": [
    {
     "output_type": "stream",
     "name": "stdout",
     "output_type": "stream",
     "text": [
      "[DateType(), StringType(), StringType(), StringType(), StringType(), StringType(), IntegerType(), StringType(), StringType(), StringType(), IntegerType(), IntegerType(), StringType()]\n"
     ]
    }
   ],
   "source": [
    "datatypes = [field.dataType for field in df.schema.fields]\n",
    "print(datatypes)"
   ]
  },
  {
   "cell_type": "code",
   "execution_count": 0,
   "metadata": {
    "application/vnd.databricks.v1+cell": {
     "cellMetadata": {
      "byteLimit": 2048000,
      "rowLimit": 10000
     },
     "inputWidgets": {},
     "nuid": "4473132f-099b-4241-84a1-4c278d2b7e86",
     "showTitle": false,
     "tableResultSettingsMap": {},
     "title": ""
    }
   },
   "outputs": [
    {
     "output_type": "stream",
     "name": "stdout",
     "output_type": "stream",
     "text": [
      "[True, True, True, True, True, True, True, True, True, True, True, True, True]\n"
     ]
    }
   ],
   "source": [
    "fiels_nullable = [field.nullable for field in df.schema.fields]\n",
    "print(fiels_nullable)"
   ]
  },
  {
   "cell_type": "markdown",
   "metadata": {
    "application/vnd.databricks.v1+cell": {
     "cellMetadata": {},
     "inputWidgets": {},
     "nuid": "d00905b6-8e05-4e63-8b37-9a74155d08f5",
     "showTitle": false,
     "tableResultSettingsMap": {},
     "title": ""
    }
   },
   "source": [
    "**1) Use df.schema.fields for Conditional Checks**"
   ]
  },
  {
   "cell_type": "code",
   "execution_count": 0,
   "metadata": {
    "application/vnd.databricks.v1+cell": {
     "cellMetadata": {
      "byteLimit": 2048000,
      "rowLimit": 10000
     },
     "inputWidgets": {},
     "nuid": "91c354d0-7beb-499b-889b-fcdf6e85bfcd",
     "showTitle": false,
     "tableResultSettingsMap": {},
     "title": ""
    }
   },
   "outputs": [
    {
     "output_type": "stream",
     "name": "stdout",
     "output_type": "stream",
     "text": [
      "\n Column 'department' not found\n Column 'bonus' not found\n Column 'category' exists in DataFrame\n Column 'session_name' exists in DataFrame\n Column 'product_id' exists in DataFrame\n"
     ]
    }
   ],
   "source": [
    "# Check if a specific column exists using df.schema.fields\n",
    "if any(field.name == \"department\" for field in df.schema.fields):\n",
    "    print(\"\\n Column 'department' exists in DataFrame\")\n",
    "else:\n",
    "    print(\"\\n Column 'department' not found\")\n",
    "\n",
    "if any(field.name == \"bonus\" for field in df.schema.fields):\n",
    "    print(\" Column 'bonus' exists in DataFrame\")\n",
    "else:\n",
    "    print(\" Column 'bonus' not found\")\n",
    "\n",
    "if any(field.name == \"category\" for field in df.schema.fields):\n",
    "    print(\" Column 'category' exists in DataFrame\")\n",
    "else:\n",
    "    print(\" Column 'category' not found\")\n",
    "\n",
    "if any(field.name == \"session_name\" for field in df.schema.fields):\n",
    "    print(\" Column 'session_name' exists in DataFrame\")\n",
    "else:\n",
    "    print(\" Column 'session_name' not found\")\n",
    "\n",
    "if any(field.name == \"product_id\" for field in df.schema.fields):\n",
    "    print(\" Column 'product_id' exists in DataFrame\")\n",
    "else:\n",
    "    print(\" Column 'product_id' not found\")"
   ]
  },
  {
   "cell_type": "markdown",
   "metadata": {
    "application/vnd.databricks.v1+cell": {
     "cellMetadata": {},
     "inputWidgets": {},
     "nuid": "96de5cad-2f07-4200-8c20-ebd099e449ac",
     "showTitle": false,
     "tableResultSettingsMap": {},
     "title": ""
    }
   },
   "source": [
    "      (field.name == \"category\" for field in df.schema.fields)\n",
    "- This generator expression loops through **each field** in **df.schema.fields** and checks:\n",
    "  - “Is this field’s name **equal** to **category**?”\n",
    "  - It produces a **sequence of Boolean values**: **[False, True, False]**\n",
    "  - if only one of the columns (like \"category\") matches."
   ]
  },
  {
   "cell_type": "markdown",
   "metadata": {
    "application/vnd.databricks.v1+cell": {
     "cellMetadata": {},
     "inputWidgets": {},
     "nuid": "661e31bb-98ce-4f7c-a0c3-bf20b186f456",
     "showTitle": false,
     "tableResultSettingsMap": {},
     "title": ""
    }
   },
   "source": [
    "      if any(field.name == \"category\" for field in df.schema.fields):\n",
    "- The built-in **any()** function returns:\n",
    "  - **True** → if **at least one** of the conditions is **True**.\n",
    "  - **False** → if **none** of the conditions is **True**."
   ]
  },
  {
   "cell_type": "code",
   "execution_count": 0,
   "metadata": {
    "application/vnd.databricks.v1+cell": {
     "cellMetadata": {
      "byteLimit": 2048000,
      "rowLimit": 10000
     },
     "inputWidgets": {},
     "nuid": "740e5401-83fe-40cc-baf2-7746dba53241",
     "showTitle": false,
     "tableResultSettingsMap": {},
     "title": ""
    }
   },
   "outputs": [
    {
     "output_type": "stream",
     "name": "stdout",
     "output_type": "stream",
     "text": [
      "\nColumn Details (ColumnName → DataType): [('start_date', 'DateType()'), ('product_url', 'StringType()'), ('category', 'StringType()'), ('default_group', 'StringType()'), ('source_target', 'StringType()'), ('cloud_flatform', 'StringType()'), ('session_id', 'IntegerType()'), ('session_name', 'StringType()'), ('status_name', 'StringType()'), ('status_type', 'StringType()'), ('sessions', 'IntegerType()'), ('product_id', 'IntegerType()'), ('load datetime', 'StringType()')]\n"
     ]
    }
   ],
   "source": [
    "# Create a list of column:datatype pairs\n",
    "column_details = [(field.name, str(field.dataType)) for field in df.schema.fields]\n",
    "print(\"\\nColumn Details (ColumnName → DataType):\", column_details)"
   ]
  },
  {
   "cell_type": "markdown",
   "metadata": {
    "application/vnd.databricks.v1+cell": {
     "cellMetadata": {},
     "inputWidgets": {},
     "nuid": "34ce8e90-3c69-460b-b998-d1a57a132240",
     "showTitle": false,
     "tableResultSettingsMap": {},
     "title": ""
    }
   },
   "source": [
    "**2) Loop through Schema Fields and Display Details**"
   ]
  },
  {
   "cell_type": "code",
   "execution_count": 0,
   "metadata": {
    "application/vnd.databricks.v1+cell": {
     "cellMetadata": {
      "byteLimit": 2048000,
      "rowLimit": 10000
     },
     "inputWidgets": {},
     "nuid": "0684e677-1032-44c0-b23b-e8ee55130510",
     "showTitle": false,
     "tableResultSettingsMap": {},
     "title": ""
    }
   },
   "outputs": [
    {
     "output_type": "stream",
     "name": "stdout",
     "output_type": "stream",
     "text": [
      "DataFrame Schema Details:\n\n--------------------------------------------------\nColumn Name            Data Type        Nullable  \n--------------------------------------------------\nstart_date           DateType()           True           \nproduct_url          StringType()         True           \ncategory             StringType()         True           \ndefault_group        StringType()         True           \nsource_target        StringType()         True           \ncloud_flatform       StringType()         True           \nsession_id           IntegerType()        True           \nsession_name         StringType()         True           \nstatus_name          StringType()         True           \nstatus_type          StringType()         True           \nsessions             IntegerType()        True           \nproduct_id           IntegerType()        True           \nload datetime        StringType()         True           \nxxxxxxxxxxxxxxxxxxxxxxxxxxxxxxxxxxxxxxxxxxxxxxxxxx\n"
     ]
    }
   ],
   "source": [
    "print(\"DataFrame Schema Details:\\n\")\n",
    "print(\"-\" * 50)\n",
    "print(\"{:<22} {:<16} {:<10}\".format(\"Column Name\", \"Data Type\", \"Nullable\"))\n",
    "print(\"-\" * 50)\n",
    "\n",
    "for field in df.schema.fields:\n",
    "    print(\"{:<20} {:<20} {:<15}\".format(field.name, str(field.dataType), str(field.nullable)))\n",
    "\n",
    "print(\"x\" * 50)"
   ]
  },
  {
   "cell_type": "markdown",
   "metadata": {
    "application/vnd.databricks.v1+cell": {
     "cellMetadata": {},
     "inputWidgets": {},
     "nuid": "90d396f4-cfbb-47b7-9788-d44154bafe46",
     "showTitle": false,
     "tableResultSettingsMap": {},
     "title": ""
    }
   },
   "source": [
    "**3) Access Specific Attributes**"
   ]
  },
  {
   "cell_type": "code",
   "execution_count": 0,
   "metadata": {
    "application/vnd.databricks.v1+cell": {
     "cellMetadata": {
      "byteLimit": 2048000,
      "rowLimit": 10000
     },
     "inputWidgets": {},
     "nuid": "b24cfda4-729c-45c3-9474-4c2ae364d763",
     "showTitle": false,
     "tableResultSettingsMap": {},
     "title": ""
    }
   },
   "outputs": [
    {
     "output_type": "stream",
     "name": "stdout",
     "output_type": "stream",
     "text": [
      "Column Name  : start_date\nData Type    : DateType()\nNullable     : True\n"
     ]
    }
   ],
   "source": [
    "# Example: Access the first field\n",
    "field = df.schema.fields[0]\n",
    "\n",
    "print(\"Column Name  :\", field.name)\n",
    "print(\"Data Type    :\", field.dataType)\n",
    "print(\"Nullable     :\", field.nullable)"
   ]
  },
  {
   "cell_type": "markdown",
   "metadata": {
    "application/vnd.databricks.v1+cell": {
     "cellMetadata": {},
     "inputWidgets": {},
     "nuid": "8ba102c7-a314-4130-b775-620117538005",
     "showTitle": false,
     "tableResultSettingsMap": {},
     "title": ""
    }
   },
   "source": [
    "**4) Extract Schema Information into a Pandas Table**"
   ]
  },
  {
   "cell_type": "code",
   "execution_count": 0,
   "metadata": {
    "application/vnd.databricks.v1+cell": {
     "cellMetadata": {
      "byteLimit": 2048000,
      "rowLimit": 10000
     },
     "inputWidgets": {},
     "nuid": "a6d394a9-983d-40ee-8eb2-698477d9cf8a",
     "showTitle": false,
     "tableResultSettingsMap": {},
     "title": ""
    }
   },
   "outputs": [
    {
     "output_type": "execute_result",
     "data": {
      "text/html": [
       "<div>\n",
       "<style scoped>\n",
       "    .dataframe tbody tr th:only-of-type {\n",
       "        vertical-align: middle;\n",
       "    }\n",
       "\n",
       "    .dataframe tbody tr th {\n",
       "        vertical-align: top;\n",
       "    }\n",
       "\n",
       "    .dataframe thead th {\n",
       "        text-align: right;\n",
       "    }\n",
       "</style>\n",
       "<table border=\"1\" class=\"dataframe\">\n",
       "  <thead>\n",
       "    <tr style=\"text-align: right;\">\n",
       "      <th></th>\n",
       "      <th>Column Name</th>\n",
       "      <th>Data Type</th>\n",
       "      <th>Nullable</th>\n",
       "    </tr>\n",
       "  </thead>\n",
       "  <tbody>\n",
       "    <tr>\n",
       "      <th>0</th>\n",
       "      <td>start_date</td>\n",
       "      <td>DateType()</td>\n",
       "      <td>True</td>\n",
       "    </tr>\n",
       "    <tr>\n",
       "      <th>1</th>\n",
       "      <td>product_url</td>\n",
       "      <td>StringType()</td>\n",
       "      <td>True</td>\n",
       "    </tr>\n",
       "    <tr>\n",
       "      <th>2</th>\n",
       "      <td>category</td>\n",
       "      <td>StringType()</td>\n",
       "      <td>True</td>\n",
       "    </tr>\n",
       "    <tr>\n",
       "      <th>3</th>\n",
       "      <td>default_group</td>\n",
       "      <td>StringType()</td>\n",
       "      <td>True</td>\n",
       "    </tr>\n",
       "    <tr>\n",
       "      <th>4</th>\n",
       "      <td>source_target</td>\n",
       "      <td>StringType()</td>\n",
       "      <td>True</td>\n",
       "    </tr>\n",
       "    <tr>\n",
       "      <th>5</th>\n",
       "      <td>cloud_flatform</td>\n",
       "      <td>StringType()</td>\n",
       "      <td>True</td>\n",
       "    </tr>\n",
       "    <tr>\n",
       "      <th>6</th>\n",
       "      <td>session_id</td>\n",
       "      <td>IntegerType()</td>\n",
       "      <td>True</td>\n",
       "    </tr>\n",
       "    <tr>\n",
       "      <th>7</th>\n",
       "      <td>session_name</td>\n",
       "      <td>StringType()</td>\n",
       "      <td>True</td>\n",
       "    </tr>\n",
       "    <tr>\n",
       "      <th>8</th>\n",
       "      <td>status_name</td>\n",
       "      <td>StringType()</td>\n",
       "      <td>True</td>\n",
       "    </tr>\n",
       "    <tr>\n",
       "      <th>9</th>\n",
       "      <td>status_type</td>\n",
       "      <td>StringType()</td>\n",
       "      <td>True</td>\n",
       "    </tr>\n",
       "    <tr>\n",
       "      <th>10</th>\n",
       "      <td>sessions</td>\n",
       "      <td>IntegerType()</td>\n",
       "      <td>True</td>\n",
       "    </tr>\n",
       "    <tr>\n",
       "      <th>11</th>\n",
       "      <td>product_id</td>\n",
       "      <td>IntegerType()</td>\n",
       "      <td>True</td>\n",
       "    </tr>\n",
       "    <tr>\n",
       "      <th>12</th>\n",
       "      <td>load datetime</td>\n",
       "      <td>StringType()</td>\n",
       "      <td>True</td>\n",
       "    </tr>\n",
       "  </tbody>\n",
       "</table>\n",
       "</div>"
      ],
      "text/plain": [
       "       Column Name      Data Type  Nullable\n",
       "0       start_date     DateType()      True\n",
       "1      product_url   StringType()      True\n",
       "2         category   StringType()      True\n",
       "3    default_group   StringType()      True\n",
       "4    source_target   StringType()      True\n",
       "5   cloud_flatform   StringType()      True\n",
       "6       session_id  IntegerType()      True\n",
       "7     session_name   StringType()      True\n",
       "8      status_name   StringType()      True\n",
       "9      status_type   StringType()      True\n",
       "10        sessions  IntegerType()      True\n",
       "11      product_id  IntegerType()      True\n",
       "12   load datetime   StringType()      True"
      ]
     },
     "execution_count": 13,
     "metadata": {},
     "output_type": "execute_result"
    }
   ],
   "source": [
    "import pandas as pd\n",
    "\n",
    "schema_info = [(field.name, str(field.dataType), field.nullable) for field in df.schema.fields]\n",
    "schema_df = pd.DataFrame(schema_info, columns=[\"Column Name\", \"Data Type\", \"Nullable\"])\n",
    "\n",
    "schema_df"
   ]
  }
 ],
 "metadata": {
  "application/vnd.databricks.v1+notebook": {
   "computePreferences": {
    "hardware": {
     "accelerator": null,
     "gpuPoolId": null,
     "memory": null
    }
   },
   "dashboards": [],
   "environmentMetadata": {
    "base_environment": "",
    "environment_version": "4"
   },
   "inputWidgetPreferences": null,
   "language": "python",
   "notebookMetadata": {
    "pythonIndentUnit": 4
   },
   "notebookName": "50_How to returns list of all columns as StructField objects | df.schema.fields",
   "widgets": {}
  },
  "language_info": {
   "name": "python"
  }
 },
 "nbformat": 4,
 "nbformat_minor": 0
}