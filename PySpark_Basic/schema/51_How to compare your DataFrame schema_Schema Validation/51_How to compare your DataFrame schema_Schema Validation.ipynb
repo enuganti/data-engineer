{
 "cells": [
  {
   "cell_type": "markdown",
   "metadata": {
    "application/vnd.databricks.v1+cell": {
     "cellMetadata": {},
     "inputWidgets": {},
     "nuid": "7f55b6d3-34aa-46dd-8c5a-44dc7bd6d7f3",
     "showTitle": false,
     "tableResultSettingsMap": {},
     "title": ""
    }
   },
   "source": [
    "#### How to compare your DataFrame schema?\n",
    "- **schema validation** snippet, used to **compare your DataFrame schema** (df.schema.fields) against an **expected schema** (expected_schema dictionary)."
   ]
  },
  {
   "cell_type": "code",
   "execution_count": 0,
   "metadata": {
    "application/vnd.databricks.v1+cell": {
     "cellMetadata": {
      "byteLimit": 2048000,
      "rowLimit": 10000
     },
     "inputWidgets": {},
     "nuid": "0e88be4b-8b9d-488e-979a-559fd3028322",
     "showTitle": false,
     "tableResultSettingsMap": {},
     "title": ""
    }
   },
   "outputs": [
    {
     "output_type": "display_data",
     "data": {
      "text/html": [
       "<style scoped>\n",
       "  .table-result-container {\n",
       "    max-height: 300px;\n",
       "    overflow: auto;\n",
       "  }\n",
       "  table, th, td {\n",
       "    border: 1px solid black;\n",
       "    border-collapse: collapse;\n",
       "  }\n",
       "  th, td {\n",
       "    padding: 5px;\n",
       "  }\n",
       "  th {\n",
       "    text-align: left;\n",
       "  }\n",
       "</style><div class='table-result-container'><table class='table-result'><thead style='background-color: white'><tr><th>start_date</th><th>product_url</th><th>category</th><th>default_group</th><th>source_target</th><th>cloud_flatform</th><th>session_id</th><th>session_name</th><th>status_name</th><th>status_type</th><th>sessions</th><th>product_id</th><th>load datetime</th></tr></thead><tbody><tr><td>2025-08-25</td><td>shop.sony.bpl</td><td>mobile</td><td>wifi-network</td><td>google</td><td>azure / aws / gcc</td><td>9876543</td><td>first_visit</td><td>first_visit</td><td>Not Available</td><td>5</td><td>409516064</td><td>2025-09-02T19:10:35</td></tr><tr><td>2025-08-26</td><td>shop.sony.bpl</td><td>mobile</td><td>wifi-network</td><td>google</td><td>azure / aws / gcc</td><td>9876544</td><td>purchase</td><td>organic</td><td>Not Available</td><td>12</td><td>409516064</td><td>2025-09-02T19:10:36</td></tr><tr><td>2025-08-27</td><td>shop.sony.bpl</td><td>mobile</td><td>wifi-network</td><td>google</td><td>azure / aws / gcc</td><td>9876545</td><td>search</td><td>network</td><td>Not Available</td><td>16</td><td>409516064</td><td>2025-09-02T19:10:37</td></tr><tr><td>2025-08-28</td><td>shop.sony.bpl</td><td>mobile</td><td>wifi-network</td><td>google</td><td>azure / aws / gcc</td><td>9876546</td><td>search</td><td>scroll</td><td>Not Available</td><td>22</td><td>409516064</td><td>2025-09-02T19:10:38</td></tr><tr><td>2025-08-29</td><td>shop.sony.bpl</td><td>mobile</td><td>wifi-network</td><td>google</td><td>azure / aws / gcc</td><td>9876547</td><td>search</td><td>organic</td><td>Not Available</td><td>25</td><td>409516064</td><td>2025-09-02T19:10:39</td></tr></tbody></table></div>"
      ]
     },
     "metadata": {
      "application/vnd.databricks.v1+output": {
       "addedWidgets": {},
       "aggData": [],
       "aggError": "",
       "aggOverflow": false,
       "aggSchema": [],
       "aggSeriesLimitReached": false,
       "aggType": "",
       "arguments": {},
       "columnCustomDisplayInfos": {},
       "data": [
        [
         "2025-08-25",
         "shop.sony.bpl",
         "mobile",
         "wifi-network",
         "google",
         "azure / aws / gcc",
         9876543,
         "first_visit",
         "first_visit",
         "Not Available",
         5,
         409516064,
         "2025-09-02T19:10:35"
        ],
        [
         "2025-08-26",
         "shop.sony.bpl",
         "mobile",
         "wifi-network",
         "google",
         "azure / aws / gcc",
         9876544,
         "purchase",
         "organic",
         "Not Available",
         12,
         409516064,
         "2025-09-02T19:10:36"
        ],
        [
         "2025-08-27",
         "shop.sony.bpl",
         "mobile",
         "wifi-network",
         "google",
         "azure / aws / gcc",
         9876545,
         "search",
         "network",
         "Not Available",
         16,
         409516064,
         "2025-09-02T19:10:37"
        ],
        [
         "2025-08-28",
         "shop.sony.bpl",
         "mobile",
         "wifi-network",
         "google",
         "azure / aws / gcc",
         9876546,
         "search",
         "scroll",
         "Not Available",
         22,
         409516064,
         "2025-09-02T19:10:38"
        ],
        [
         "2025-08-29",
         "shop.sony.bpl",
         "mobile",
         "wifi-network",
         "google",
         "azure / aws / gcc",
         9876547,
         "search",
         "organic",
         "Not Available",
         25,
         409516064,
         "2025-09-02T19:10:39"
        ]
       ],
       "datasetInfos": [],
       "dbfsResultPath": null,
       "isJsonSchema": true,
       "metadata": {},
       "overflow": false,
       "plotOptions": {
        "customPlotOptions": {},
        "displayType": "table",
        "pivotAggregation": null,
        "pivotColumns": null,
        "xColumns": null,
        "yColumns": null
       },
       "removedWidgets": [],
       "schema": [
        {
         "metadata": "{\"__detected_date_formats\": \"d-M-yyyy\"}",
         "name": "start_date",
         "type": "\"date\""
        },
        {
         "metadata": "{}",
         "name": "product_url",
         "type": "\"string\""
        },
        {
         "metadata": "{}",
         "name": "category",
         "type": "\"string\""
        },
        {
         "metadata": "{}",
         "name": "default_group",
         "type": "\"string\""
        },
        {
         "metadata": "{}",
         "name": "source_target",
         "type": "\"string\""
        },
        {
         "metadata": "{}",
         "name": "cloud_flatform",
         "type": "\"string\""
        },
        {
         "metadata": "{}",
         "name": "session_id",
         "type": "\"integer\""
        },
        {
         "metadata": "{}",
         "name": "session_name",
         "type": "\"string\""
        },
        {
         "metadata": "{}",
         "name": "status_name",
         "type": "\"string\""
        },
        {
         "metadata": "{}",
         "name": "status_type",
         "type": "\"string\""
        },
        {
         "metadata": "{}",
         "name": "sessions",
         "type": "\"integer\""
        },
        {
         "metadata": "{}",
         "name": "product_id",
         "type": "\"integer\""
        },
        {
         "metadata": "{}",
         "name": "load datetime",
         "type": "\"string\""
        }
       ],
       "type": "table"
      }
     },
     "output_type": "display_data"
    }
   ],
   "source": [
    "df = spark.read.csv(\"/Volumes/@azureadb/pyspark/unionby/company_level.csv\", header=True, inferSchema=True)\n",
    "display(df.limit(5))"
   ]
  },
  {
   "cell_type": "markdown",
   "metadata": {
    "application/vnd.databricks.v1+cell": {
     "cellMetadata": {},
     "inputWidgets": {},
     "nuid": "5478d18f-90cf-4542-804d-70a9f09bfb60",
     "showTitle": false,
     "tableResultSettingsMap": {},
     "title": ""
    }
   },
   "source": [
    "**Schema Validation Script**"
   ]
  },
  {
   "cell_type": "code",
   "execution_count": 0,
   "metadata": {
    "application/vnd.databricks.v1+cell": {
     "cellMetadata": {
      "byteLimit": 2048000,
      "rowLimit": 10000
     },
     "inputWidgets": {},
     "nuid": "fc166450-76d1-40cf-8eda-b85b075ba7cb",
     "showTitle": false,
     "tableResultSettingsMap": {},
     "title": ""
    }
   },
   "outputs": [
    {
     "output_type": "stream",
     "name": "stdout",
     "output_type": "stream",
     "text": [
      "⚠️ start_date → expected StringType(), found DateType()\n✅ product_url → matches expected type StringType()\n⚠️ category → expected IntegerType(), found StringType()\n✅ default_group → matches expected type StringType()\n✅ source_target → matches expected type StringType()\n⚠️ cloud_flatform → expected IntegerType(), found StringType()\n✅ session_id → matches expected type IntegerType()\n✅ session_name → matches expected type StringType()\n⚠️ status_name → expected IntegerType(), found StringType()\n✅ status_type → matches expected type StringType()\n✅ sessions → matches expected type IntegerType()\nℹ️ Extra column: product_id\n✅ load datetime → matches expected type StringType()\n"
     ]
    }
   ],
   "source": [
    "expected_schema = {\n",
    "    \"start_date\": \"StringType()\",\n",
    "    \"product_url\": \"StringType()\",\n",
    "    \"category\": \"IntegerType()\",\n",
    "    \"cloud_flatform\": \"IntegerType()\",\n",
    "    \"default_group\": \"StringType()\",\n",
    "    \"source_target\": \"StringType()\",\n",
    "    \"product\": \"StringType()\",\n",
    "    \"product_version\": \"StringType()\",\n",
    "    \"session_id\": \"IntegerType()\",\n",
    "    \"session_name\": \"StringType()\",\n",
    "    \"status_name\": \"IntegerType()\",\n",
    "    \"status_type\": \"StringType()\",\n",
    "    \"sessions\": \"IntegerType()\",\n",
    "    \"load datetime\": \"StringType()\",\n",
    "    \"load date\": \"StringType()\",\n",
    "    \"load time\": \"DoubleType()\"\n",
    "}\n",
    "\n",
    "for field in df.schema.fields:\n",
    "    expected_type = expected_schema.get(field.name)\n",
    "    if expected_type:\n",
    "        if str(field.dataType) == expected_type:\n",
    "            print(f\"✅ {field.name} → matches expected type {expected_type}\")\n",
    "        else:\n",
    "            print(f\"⚠️ {field.name} → expected {expected_type}, found {field.dataType}\")\n",
    "    else:\n",
    "        print(f\"ℹ️ Extra column: {field.name}\")"
   ]
  },
  {
   "cell_type": "markdown",
   "metadata": {
    "application/vnd.databricks.v1+cell": {
     "cellMetadata": {},
     "inputWidgets": {},
     "nuid": "1b5218de-b01a-4a1d-a611-df8b2958e41a",
     "showTitle": false,
     "tableResultSettingsMap": {},
     "title": ""
    }
   },
   "source": [
    "- **df.schema.fields** gives a **list of StructField objects**, each representing a column."
   ]
  },
  {
   "cell_type": "markdown",
   "metadata": {
    "application/vnd.databricks.v1+cell": {
     "cellMetadata": {},
     "inputWidgets": {},
     "nuid": "5e19def3-d984-4b50-ba0c-02cda58fc514",
     "showTitle": false,
     "tableResultSettingsMap": {},
     "title": ""
    }
   },
   "source": [
    "     df.schema.fields\n",
    "\n",
    "     [\n",
    "      StructField('start_date', DateType(), True)\n",
    "      StructField('product_url', StringType(), True)\n",
    "      StructField('category', StringType(), True)\n",
    "      StructField('default_group', StringType(), True)\n",
    "      StructField('source_target', StringType(), True)\n",
    "      StructField('cloud_flatform', StringType(), True)\n",
    "      StructField('session_id', IntegerType(), True)\n",
    "      StructField('session_name', StringType(), True)\n",
    "      StructField('status_name', StringType(), True)\n",
    "      StructField('status_type', StringType(), True)\n",
    "      StructField('sessions', IntegerType(), True)\n",
    "      StructField('product_id', IntegerType(), True)\n",
    "      StructField('load datetime', StringType(), True)\n",
    "     ]"
   ]
  },
  {
   "cell_type": "markdown",
   "metadata": {
    "application/vnd.databricks.v1+cell": {
     "cellMetadata": {},
     "inputWidgets": {},
     "nuid": "50e4891e-3431-40b8-b5c1-f791f73baff7",
     "showTitle": false,
     "tableResultSettingsMap": {},
     "title": ""
    }
   },
   "source": [
    "     for field in df.schema.fields:\n",
    "         print(field)\n",
    "     -------------------------------\n",
    "     StructField('start_date', DateType(), True)\n",
    "     StructField('product_url', StringType(), True)\n",
    "     StructField('category', StringType(), True)\n",
    "     StructField('default_group', StringType(), True)\n",
    "     StructField('source_target', StringType(), True)\n",
    "     StructField('cloud_flatform', StringType(), True)\n",
    "     StructField('session_id', IntegerType(), True)\n",
    "     StructField('session_name', StringType(), True)\n",
    "     StructField('status_name', StringType(), True)\n",
    "     StructField('status_type', StringType(), True)\n",
    "     StructField('sessions', IntegerType(), True)\n",
    "     StructField('product_id', IntegerType(), True)\n",
    "     StructField('load datetime', StringType(), True)"
   ]
  },
  {
   "cell_type": "code",
   "execution_count": 0,
   "metadata": {
    "application/vnd.databricks.v1+cell": {
     "cellMetadata": {
      "byteLimit": 2048000,
      "rowLimit": 10000
     },
     "inputWidgets": {},
     "nuid": "073fb633-7f40-48a2-a3d2-db22f61aa68a",
     "showTitle": false,
     "tableResultSettingsMap": {},
     "title": ""
    }
   },
   "outputs": [
    {
     "output_type": "stream",
     "name": "stdout",
     "output_type": "stream",
     "text": [
      "StringType()\nStringType()\nIntegerType()\nStringType()\nStringType()\nIntegerType()\nIntegerType()\nStringType()\nIntegerType()\nStringType()\nIntegerType()\nNone\nStringType()\n"
     ]
    }
   ],
   "source": [
    "for field in df.schema.fields:\n",
    "    expected_type = expected_schema.get(field.name)\n",
    "    print(expected_type)"
   ]
  },
  {
   "cell_type": "markdown",
   "metadata": {
    "application/vnd.databricks.v1+cell": {
     "cellMetadata": {},
     "inputWidgets": {},
     "nuid": "2f432b43-0206-434a-a63b-65afe52a798d",
     "showTitle": false,
     "tableResultSettingsMap": {},
     "title": ""
    }
   },
   "source": [
    "     expected_schema.get(field.name)\n",
    "\n",
    "     expected_schema.get(start_date) => StringType()\n",
    "     expected_schema.get(product_url) => StringType()\n",
    "     expected_schema.get(category) => IntegerType()\n",
    "     expected_schema.get(default_group) => StringType()\n",
    "     expected_schema.get(source_target) => StringType()\n",
    "     expected_schema.get(cloud_flatform) => IntegerType()\n",
    "     expected_schema.get(session_id) => IntegerType()\n",
    "     expected_schema.get(session_name) => StringType()\n",
    "     expected_schema.get(status_name) => IntegerType()\n",
    "     expected_schema.get(status_type) => StringType()\n",
    "     expected_schema.get(sessions) => IntegerType()\n",
    "     expected_schema.get(product_id) => xxxxxx\n",
    "     expected_schema.get(load datetime) => StringType()"
   ]
  }
 ],
 "metadata": {
  "application/vnd.databricks.v1+notebook": {
   "computePreferences": {
    "hardware": {
     "accelerator": null,
     "gpuPoolId": null,
     "memory": null
    }
   },
   "dashboards": [],
   "environmentMetadata": {
    "base_environment": "",
    "environment_version": "4"
   },
   "inputWidgetPreferences": null,
   "language": "python",
   "notebookMetadata": {
    "pythonIndentUnit": 4
   },
   "notebookName": "51_How to compare your DataFrame schema_Schema Validation",
   "widgets": {}
  },
  "language_info": {
   "name": "python"
  }
 },
 "nbformat": 4,
 "nbformat_minor": 0
}