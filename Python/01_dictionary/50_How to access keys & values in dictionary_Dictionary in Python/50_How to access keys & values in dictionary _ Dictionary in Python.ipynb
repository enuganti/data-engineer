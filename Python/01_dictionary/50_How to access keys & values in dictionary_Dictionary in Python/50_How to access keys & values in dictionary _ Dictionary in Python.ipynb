{
 "cells": [
  {
   "cell_type": "markdown",
   "metadata": {
    "application/vnd.databricks.v1+cell": {
     "cellMetadata": {},
     "inputWidgets": {},
     "nuid": "50983d13-5d1c-4b0d-b159-8ea51d085bc4",
     "showTitle": false,
     "tableResultSettingsMap": {},
     "title": ""
    }
   },
   "source": [
    "#### How to access dictionary items (keys & values)?\n",
    "- key()\n",
    "- values()\n",
    "- items()\n",
    "- get()\n",
    "- index\n",
    "- setdefault()"
   ]
  },
  {
   "cell_type": "code",
   "execution_count": 0,
   "metadata": {
    "application/vnd.databricks.v1+cell": {
     "cellMetadata": {
      "byteLimit": 2048000,
      "rowLimit": 10000
     },
     "inputWidgets": {},
     "nuid": "f6a55d93-5790-4923-9a60-819346c13f51",
     "showTitle": false,
     "tableResultSettingsMap": {},
     "title": ""
    }
   },
   "outputs": [
    {
     "output_type": "stream",
     "name": "stdout",
     "output_type": "stream",
     "text": [
      "{'name': 'John', 'age': 20, 'grade': 'A', 'brand': 'audi', 'model': 'q7', 'subjects': ['Math', 'Science', 'English']}\n"
     ]
    }
   ],
   "source": [
    "student = {\n",
    "    \"name\": \"John\",\n",
    "    \"age\": 20,\n",
    "    \"grade\": \"A\",\n",
    "    'brand':'audi',\n",
    "    'model':'q7',\n",
    "    \"subjects\": [\"Math\", \"Science\", \"English\"]}\n",
    "    \n",
    "print(student)"
   ]
  },
  {
   "cell_type": "markdown",
   "metadata": {
    "application/vnd.databricks.v1+cell": {
     "cellMetadata": {},
     "inputWidgets": {},
     "nuid": "7f89ef86-0249-4dd7-b310-8ae588f9a7e3",
     "showTitle": false,
     "tableResultSettingsMap": {},
     "title": ""
    }
   },
   "source": [
    "%md\n",
    "**1) Accessing keys using:**\n",
    "- **key() method**\n",
    "\n",
    "**Syntax**\n",
    "\n",
    "      dict_name.keys()"
   ]
  },
  {
   "cell_type": "code",
   "execution_count": 0,
   "metadata": {
    "application/vnd.databricks.v1+cell": {
     "cellMetadata": {
      "byteLimit": 2048000,
      "rowLimit": 10000
     },
     "inputWidgets": {},
     "nuid": "a7f9c7c5-9fd7-4d92-be0a-cadda7279c2b",
     "showTitle": false,
     "tableResultSettingsMap": {},
     "title": ""
    }
   },
   "outputs": [
    {
     "output_type": "execute_result",
     "data": {
      "text/plain": [
       "dict_keys(['name', 'age', 'grade', 'brand', 'model', 'subjects'])"
      ]
     },
     "execution_count": 22,
     "metadata": {},
     "output_type": "execute_result"
    }
   ],
   "source": [
    "student_keys = student.keys()\n",
    "student_keys"
   ]
  },
  {
   "cell_type": "markdown",
   "metadata": {
    "application/vnd.databricks.v1+cell": {
     "cellMetadata": {},
     "inputWidgets": {},
     "nuid": "a3d966da-a30d-4078-ba91-a787dac07441",
     "showTitle": false,
     "tableResultSettingsMap": {},
     "title": ""
    }
   },
   "source": [
    "**How to add new items to a dictionary**"
   ]
  },
  {
   "cell_type": "code",
   "execution_count": 0,
   "metadata": {
    "application/vnd.databricks.v1+cell": {
     "cellMetadata": {
      "byteLimit": 2048000,
      "rowLimit": 10000
     },
     "inputWidgets": {},
     "nuid": "71bc25af-4327-4096-86d8-998c1818556a",
     "showTitle": false,
     "tableResultSettingsMap": {},
     "title": ""
    }
   },
   "outputs": [
    {
     "output_type": "stream",
     "name": "stdout",
     "output_type": "stream",
     "text": [
      "dict_keys(['name', 'age', 'grade', 'brand', 'model', 'subjects', 'gender'])\n"
     ]
    }
   ],
   "source": [
    "student[\"gender\"] = \"Male\"\n",
    "print(student.keys()) "
   ]
  },
  {
   "cell_type": "code",
   "execution_count": 0,
   "metadata": {
    "application/vnd.databricks.v1+cell": {
     "cellMetadata": {
      "byteLimit": 2048000,
      "rowLimit": 10000
     },
     "inputWidgets": {},
     "nuid": "7f12b4f6-ec8d-4f21-84b6-8a09b6602fbd",
     "showTitle": false,
     "tableResultSettingsMap": {},
     "title": ""
    }
   },
   "outputs": [
    {
     "output_type": "execute_result",
     "data": {
      "text/plain": [
       "dict_keys(['name', 'age', 'grade', 'brand', 'model', 'subjects', 'gender', 'fuel type'])"
      ]
     },
     "execution_count": 24,
     "metadata": {},
     "output_type": "execute_result"
    }
   ],
   "source": [
    "student['fuel type'] = 'diesel'\n",
    "student_keys"
   ]
  },
  {
   "cell_type": "code",
   "execution_count": 0,
   "metadata": {
    "application/vnd.databricks.v1+cell": {
     "cellMetadata": {
      "byteLimit": 2048000,
      "rowLimit": 10000
     },
     "inputWidgets": {},
     "nuid": "d7b66a7e-393b-4a6d-91bc-9984294207c7",
     "showTitle": false,
     "tableResultSettingsMap": {},
     "title": ""
    }
   },
   "outputs": [
    {
     "output_type": "stream",
     "name": "stdout",
     "output_type": "stream",
     "text": [
      "{'name': 'John', 'age': 20, 'grade': 'A', 'brand': 'audi', 'model': 'q7', 'subjects': ['Math', 'Science', 'English'], 'gender': 'Male', 'fuel type': 'diesel'}\n"
     ]
    }
   ],
   "source": [
    "print(student)"
   ]
  },
  {
   "cell_type": "markdown",
   "metadata": {
    "application/vnd.databricks.v1+cell": {
     "cellMetadata": {},
     "inputWidgets": {},
     "nuid": "c9f6cfc8-4a2c-4c56-b4f2-a4478055972a",
     "showTitle": false,
     "tableResultSettingsMap": {},
     "title": ""
    }
   },
   "source": [
    "**Converting to a list**"
   ]
  },
  {
   "cell_type": "code",
   "execution_count": 0,
   "metadata": {
    "application/vnd.databricks.v1+cell": {
     "cellMetadata": {
      "byteLimit": 2048000,
      "rowLimit": 10000
     },
     "inputWidgets": {},
     "nuid": "7f81ae4c-5951-45e7-90c4-e2d43f796729",
     "showTitle": false,
     "tableResultSettingsMap": {},
     "title": ""
    }
   },
   "outputs": [
    {
     "output_type": "stream",
     "name": "stdout",
     "output_type": "stream",
     "text": [
      "['name', 'age', 'grade', 'brand', 'model', 'subjects', 'gender', 'fuel type']\n"
     ]
    }
   ],
   "source": [
    "print(list(student.keys()))"
   ]
  },
  {
   "cell_type": "markdown",
   "metadata": {
    "application/vnd.databricks.v1+cell": {
     "cellMetadata": {},
     "inputWidgets": {},
     "nuid": "ba1d4818-f85e-4482-b1f1-b276e897a061",
     "showTitle": false,
     "tableResultSettingsMap": {},
     "title": ""
    }
   },
   "source": [
    "**2) Accessing Values using:**\n",
    "- **index / Key Names / square brackets []**\n",
    "\n",
    "**Syntax**\n",
    "\n",
    "      dict_name[key]"
   ]
  },
  {
   "cell_type": "code",
   "execution_count": 0,
   "metadata": {
    "application/vnd.databricks.v1+cell": {
     "cellMetadata": {
      "byteLimit": 2048000,
      "rowLimit": 10000
     },
     "inputWidgets": {},
     "nuid": "13143925-85be-41e5-bd57-f9f302fb4a8c",
     "showTitle": false,
     "tableResultSettingsMap": {},
     "title": ""
    }
   },
   "outputs": [
    {
     "output_type": "stream",
     "name": "stdout",
     "output_type": "stream",
     "text": [
      "Senthil\n20\nfinolex\n"
     ]
    },
    {
     "output_type": "display_data",
     "data": {
      "text/plain": [
       "\u001B[0;31m---------------------------------------------------------------------------\u001B[0m\n",
       "\u001B[0;31mKeyError\u001B[0m                                  Traceback (most recent call last)\n",
       "File \u001B[0;32m<command-6176091204605920>, line 6\u001B[0m\n",
       "\u001B[1;32m      4\u001B[0m \u001B[38;5;28mprint\u001B[39m(student_index[\u001B[38;5;124m\"\u001B[39m\u001B[38;5;124mage\u001B[39m\u001B[38;5;124m\"\u001B[39m])\n",
       "\u001B[1;32m      5\u001B[0m \u001B[38;5;28mprint\u001B[39m(student_index[\u001B[38;5;124m\"\u001B[39m\u001B[38;5;124mbrand\u001B[39m\u001B[38;5;124m\"\u001B[39m])\n",
       "\u001B[0;32m----> 6\u001B[0m \u001B[38;5;28mprint\u001B[39m(student_index[\u001B[38;5;124m\"\u001B[39m\u001B[38;5;124mAge\u001B[39m\u001B[38;5;124m\"\u001B[39m])\n",
       "\n",
       "\u001B[0;31mKeyError\u001B[0m: 'Age'"
      ]
     },
     "metadata": {
      "application/vnd.databricks.v1+output": {
       "addedWidgets": {},
       "arguments": {},
       "datasetInfos": [],
       "jupyterProps": {
        "ename": "KeyError",
        "evalue": "'Age'"
       },
       "metadata": {
        "errorSummary": "<span class='ansi-red-fg'>KeyError</span>: 'Age'"
       },
       "removedWidgets": [],
       "sqlProps": null,
       "stackFrames": [
        "\u001B[0;31m---------------------------------------------------------------------------\u001B[0m",
        "\u001B[0;31mKeyError\u001B[0m                                  Traceback (most recent call last)",
        "File \u001B[0;32m<command-6176091204605920>, line 6\u001B[0m\n\u001B[1;32m      4\u001B[0m \u001B[38;5;28mprint\u001B[39m(student_index[\u001B[38;5;124m\"\u001B[39m\u001B[38;5;124mage\u001B[39m\u001B[38;5;124m\"\u001B[39m])\n\u001B[1;32m      5\u001B[0m \u001B[38;5;28mprint\u001B[39m(student_index[\u001B[38;5;124m\"\u001B[39m\u001B[38;5;124mbrand\u001B[39m\u001B[38;5;124m\"\u001B[39m])\n\u001B[0;32m----> 6\u001B[0m \u001B[38;5;28mprint\u001B[39m(student_index[\u001B[38;5;124m\"\u001B[39m\u001B[38;5;124mAge\u001B[39m\u001B[38;5;124m\"\u001B[39m])\n",
        "\u001B[0;31mKeyError\u001B[0m: 'Age'"
       ],
       "type": "baseError"
      }
     },
     "output_type": "display_data"
    }
   ],
   "source": [
    "student_index = {\"name\": \"Senthil\", \"age\": 20, \"grade\": \"A\", 'brand':'finolex', 'model':'abc123'}\n",
    "\n",
    "print(student_index[\"name\"])\n",
    "print(student_index[\"age\"])\n",
    "print(student_index[\"brand\"])\n",
    "print(student_index[\"Age\"])"
   ]
  },
  {
   "cell_type": "markdown",
   "metadata": {
    "application/vnd.databricks.v1+cell": {
     "cellMetadata": {},
     "inputWidgets": {},
     "nuid": "d7734df7-5b93-41bf-8bd4-1976ddfae94b",
     "showTitle": false,
     "tableResultSettingsMap": {},
     "title": ""
    }
   },
   "source": [
    "- If the **key doesn’t exist**, this will **raise a KeyError**."
   ]
  },
  {
   "cell_type": "code",
   "execution_count": 0,
   "metadata": {
    "application/vnd.databricks.v1+cell": {
     "cellMetadata": {
      "byteLimit": 2048000,
      "rowLimit": 10000
     },
     "inputWidgets": {},
     "nuid": "6d368324-1db4-4ba2-934a-dc1f6dba2a2b",
     "showTitle": false,
     "tableResultSettingsMap": {},
     "title": ""
    }
   },
   "outputs": [
    {
     "output_type": "stream",
     "name": "stdout",
     "output_type": "stream",
     "text": [
      "50\n60\n70\n80\n90\n100\n"
     ]
    }
   ],
   "source": [
    "marks = {1:50, 2:60, 3:70, 4:80, 5:90, 6:100}\n",
    "\n",
    "print(marks[1])\n",
    "print(marks[2])\n",
    "print(marks[3])\n",
    "print(marks[4])\n",
    "print(marks[5])\n",
    "print(marks[6])"
   ]
  },
  {
   "cell_type": "markdown",
   "metadata": {
    "application/vnd.databricks.v1+cell": {
     "cellMetadata": {},
     "inputWidgets": {},
     "nuid": "cb76a1cf-c17d-42c6-ab35-02712ae6b998",
     "showTitle": false,
     "tableResultSettingsMap": {},
     "title": ""
    }
   },
   "source": [
    "**3) Accessing Values using:**\n",
    "- **get() method**\n",
    "\n",
    "**Syntax**\n",
    "\n",
    "      dict_name.get(key)"
   ]
  },
  {
   "cell_type": "code",
   "execution_count": 0,
   "metadata": {
    "application/vnd.databricks.v1+cell": {
     "cellMetadata": {
      "byteLimit": 2048000,
      "rowLimit": 10000
     },
     "inputWidgets": {},
     "nuid": "3d742f23-65ff-4ccd-8325-f2148d4df244",
     "showTitle": false,
     "tableResultSettingsMap": {},
     "title": ""
    }
   },
   "outputs": [
    {
     "output_type": "stream",
     "name": "stdout",
     "output_type": "stream",
     "text": [
      "100\n200\n300\nNone\nN/A\n"
     ]
    }
   ],
   "source": [
    "department = {\"HR\": 100, \"IT\": 200, \"Sales\": 300}\n",
    "\n",
    "print(department.get(\"HR\"))                 # Output: 100\n",
    "print(department.get(\"IT\"))                 # Output: 200\n",
    "print(department.get(\"Sales\"))              # Output: 300\n",
    "print(department.get(\"Marketing\"))          # Output: None (no error)\n",
    "print(department.get(\"Marketing\", \"N/A\"))   # Output: N/A (default value)"
   ]
  },
  {
   "cell_type": "markdown",
   "metadata": {
    "application/vnd.databricks.v1+cell": {
     "cellMetadata": {},
     "inputWidgets": {},
     "nuid": "b2648ef5-0cdf-4066-a58e-295c3c099fb3",
     "showTitle": false,
     "tableResultSettingsMap": {},
     "title": ""
    }
   },
   "source": [
    "- **Safer than []**, since it won’t **throw an error** if the **key is missing**."
   ]
  },
  {
   "cell_type": "markdown",
   "metadata": {
    "application/vnd.databricks.v1+cell": {
     "cellMetadata": {},
     "inputWidgets": {},
     "nuid": "e0ce2e2f-be31-4c0c-b2c9-f4ac83cbd013",
     "showTitle": false,
     "tableResultSettingsMap": {},
     "title": ""
    }
   },
   "source": [
    "**4) Accessing values using:**\n",
    "- **values() method**\n",
    "\n",
    "**Syntax**\n",
    "\n",
    "      dict_name.values()"
   ]
  },
  {
   "cell_type": "code",
   "execution_count": 0,
   "metadata": {
    "application/vnd.databricks.v1+cell": {
     "cellMetadata": {
      "byteLimit": 2048000,
      "rowLimit": 10000
     },
     "inputWidgets": {},
     "nuid": "788e313d-6ec6-4abf-a329-3a83bc8a3c69",
     "showTitle": false,
     "tableResultSettingsMap": {},
     "title": ""
    }
   },
   "outputs": [
    {
     "output_type": "execute_result",
     "data": {
      "text/plain": [
       "dict_values(['John', 20, 'A', 'audi', 'q7'])"
      ]
     },
     "execution_count": 34,
     "metadata": {},
     "output_type": "execute_result"
    }
   ],
   "source": [
    "student = {\"name\": \"John\", \"age\": 20, \"grade\": \"A\", 'brand':'audi', 'model':'q7'}\n",
    "\n",
    "student_values = student.values()\n",
    "student_values"
   ]
  },
  {
   "cell_type": "markdown",
   "metadata": {
    "application/vnd.databricks.v1+cell": {
     "cellMetadata": {},
     "inputWidgets": {},
     "nuid": "f827fc7f-47e4-4070-9c95-5b084b3649a7",
     "showTitle": false,
     "tableResultSettingsMap": {},
     "title": ""
    }
   },
   "source": [
    "**5) Accessing values using:**\n",
    "- **items() method**\n",
    "\n",
    "**Syntax**\n",
    "\n",
    "      dict_name.items()"
   ]
  },
  {
   "cell_type": "code",
   "execution_count": 0,
   "metadata": {
    "application/vnd.databricks.v1+cell": {
     "cellMetadata": {
      "byteLimit": 2048000,
      "rowLimit": 10000
     },
     "inputWidgets": {},
     "nuid": "bb5984ab-56a5-4206-90fa-10051752383e",
     "showTitle": false,
     "tableResultSettingsMap": {},
     "title": ""
    }
   },
   "outputs": [
    {
     "output_type": "execute_result",
     "data": {
      "text/plain": [
       "dict_items([('brand', 'Ford'), ('model', 'Mustang'), ('year', 1964)])"
      ]
     },
     "execution_count": 35,
     "metadata": {},
     "output_type": "execute_result"
    }
   ],
   "source": [
    "car = {\"brand\": \"Ford\", \"model\": \"Mustang\", \"year\": 1964}\n",
    "car_items = car.items()\n",
    "car_items"
   ]
  },
  {
   "cell_type": "code",
   "execution_count": 0,
   "metadata": {
    "application/vnd.databricks.v1+cell": {
     "cellMetadata": {
      "byteLimit": 2048000,
      "rowLimit": 10000
     },
     "inputWidgets": {},
     "nuid": "2316a84f-9821-4f21-8cf4-462a8d37911b",
     "showTitle": false,
     "tableResultSettingsMap": {},
     "title": ""
    }
   },
   "outputs": [
    {
     "output_type": "execute_result",
     "data": {
      "text/plain": [
       "dict_items([('brand', 'Ford'), ('model', 'Mustang'), ('year', 1964), ('fuel type', 'diesel')])"
      ]
     },
     "execution_count": 36,
     "metadata": {},
     "output_type": "execute_result"
    }
   ],
   "source": [
    "car['fuel type'] = 'diesel'\n",
    "car_items"
   ]
  },
  {
   "cell_type": "code",
   "execution_count": 0,
   "metadata": {
    "application/vnd.databricks.v1+cell": {
     "cellMetadata": {
      "byteLimit": 2048000,
      "rowLimit": 10000
     },
     "inputWidgets": {},
     "nuid": "8bde9f71-5734-421a-8593-a4569ef305a3",
     "showTitle": false,
     "tableResultSettingsMap": {},
     "title": ""
    }
   },
   "outputs": [
    {
     "output_type": "stream",
     "name": "stdout",
     "output_type": "stream",
     "text": [
      "{'brand': 'Ford', 'model': 'Mustang', 'year': 1964, 'fuel type': 'diesel'}\n"
     ]
    }
   ],
   "source": [
    "print(car)"
   ]
  },
  {
   "cell_type": "markdown",
   "metadata": {
    "application/vnd.databricks.v1+cell": {
     "cellMetadata": {},
     "inputWidgets": {},
     "nuid": "758b0a51-5232-48a1-90f8-59e6535bec6a",
     "showTitle": false,
     "tableResultSettingsMap": {},
     "title": ""
    }
   },
   "source": [
    "**6) Accessing all keys or values**\n",
    "\n",
    "- **student.keys()** → returns **all the keys**\n",
    "- **student.values()** → returns **all the values**\n",
    "- **student.items()** → returns **key–value pairs as tuples**"
   ]
  },
  {
   "cell_type": "code",
   "execution_count": 0,
   "metadata": {
    "application/vnd.databricks.v1+cell": {
     "cellMetadata": {
      "byteLimit": 2048000,
      "rowLimit": 10000
     },
     "inputWidgets": {},
     "nuid": "7be5acfe-95fb-4088-9868-a573f1853968",
     "showTitle": false,
     "tableResultSettingsMap": {},
     "title": ""
    }
   },
   "outputs": [
    {
     "output_type": "stream",
     "name": "stdout",
     "output_type": "stream",
     "text": [
      "dict_keys(['name', 'age', 'grade', 'brand', 'model', 'fuel type'])\ndict_values(['John', 20, 'A', 'audi', 'q7', 'diesel'])\ndict_items([('name', 'John'), ('age', 20), ('grade', 'A'), ('brand', 'audi'), ('model', 'q7'), ('fuel type', 'diesel')])\n"
     ]
    }
   ],
   "source": [
    "print(student.keys())\n",
    "print(student.values())\n",
    "print(student.items())"
   ]
  },
  {
   "cell_type": "markdown",
   "metadata": {
    "application/vnd.databricks.v1+cell": {
     "cellMetadata": {},
     "inputWidgets": {},
     "nuid": "7033119f-9f94-4e95-9bbb-8be69f57b38b",
     "showTitle": false,
     "tableResultSettingsMap": {},
     "title": ""
    }
   },
   "source": [
    "**7) setdefault**"
   ]
  },
  {
   "cell_type": "code",
   "execution_count": 0,
   "metadata": {
    "application/vnd.databricks.v1+cell": {
     "cellMetadata": {
      "byteLimit": 2048000,
      "rowLimit": 10000
     },
     "inputWidgets": {},
     "nuid": "00d8453f-ce27-44aa-b8a7-dd5b3dfa00e2",
     "showTitle": false,
     "tableResultSettingsMap": {},
     "title": ""
    }
   },
   "outputs": [
    {
     "output_type": "stream",
     "name": "stdout",
     "output_type": "stream",
     "text": [
      "{'product': 'Vimson', 'orders': 20, 'person_name': 'nand', 'pattern': 'quarterly', 'salary': 50000}\n"
     ]
    }
   ],
   "source": [
    "sales = {\"product\": \"Vimson\", \"orders\": 20, \"person_name\":\"nand\", \"pattern\":\"quarterly\"}\n",
    "\n",
    "sales.setdefault(\"salary\", 50000)\n",
    "print(sales)"
   ]
  }
 ],
 "metadata": {
  "application/vnd.databricks.v1+notebook": {
   "computePreferences": {
    "hardware": {
     "accelerator": null,
     "gpuPoolId": null,
     "memory": null
    }
   },
   "dashboards": [],
   "environmentMetadata": {
    "base_environment": "",
    "environment_version": "3"
   },
   "inputWidgetPreferences": null,
   "language": "python",
   "notebookMetadata": {
    "pythonIndentUnit": 4
   },
   "notebookName": "50_How to access keys & values in dictionary | Dictionary in Python",
   "widgets": {}
  },
  "language_info": {
   "name": "python"
  }
 },
 "nbformat": 4,
 "nbformat_minor": 0
}