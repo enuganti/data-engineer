{
 "cells": [
  {
   "cell_type": "markdown",
   "metadata": {
    "application/vnd.databricks.v1+cell": {
     "cellMetadata": {},
     "inputWidgets": {},
     "nuid": "1e410da5-eca9-4f90-8c1d-0adadc51794a",
     "showTitle": false,
     "tableResultSettingsMap": {},
     "title": ""
    }
   },
   "source": [
    "- We can **iterate** over\n",
    "  - **keys** [using **keys()** method]\n",
    "  - **values** [using **values()** method]\n",
    "  - **both** [using **item()** method] with a for loop."
   ]
  },
  {
   "cell_type": "markdown",
   "metadata": {
    "application/vnd.databricks.v1+cell": {
     "cellMetadata": {},
     "inputWidgets": {},
     "nuid": "2a3e421e-589d-41e5-86e1-f15d9be6aa2f",
     "showTitle": false,
     "tableResultSettingsMap": {},
     "title": ""
    }
   },
   "source": [
    "**1) Simple dictionary**"
   ]
  },
  {
   "cell_type": "code",
   "execution_count": 0,
   "metadata": {
    "application/vnd.databricks.v1+cell": {
     "cellMetadata": {
      "byteLimit": 2048000,
      "rowLimit": 10000
     },
     "inputWidgets": {},
     "nuid": "ae8f6062-a4a8-48c3-8ebf-619c58e0cfad",
     "showTitle": false,
     "tableResultSettingsMap": {},
     "title": ""
    }
   },
   "outputs": [],
   "source": [
    "data = {\"name\": \"Alice\", \"age\": 25, \"city\": \"Bangalore\"}"
   ]
  },
  {
   "cell_type": "markdown",
   "metadata": {
    "application/vnd.databricks.v1+cell": {
     "cellMetadata": {},
     "inputWidgets": {},
     "nuid": "5bfda1a7-e726-422c-8bba-2c8d6767cbd4",
     "showTitle": false,
     "tableResultSettingsMap": {},
     "title": ""
    }
   },
   "source": [
    "     # Iterate over keys\n",
    "     for key in data:\n",
    "         print(key)\n",
    "\n",
    "         (or)\n",
    "\n",
    "     for key in data.keys():\n",
    "     print(key)"
   ]
  },
  {
   "cell_type": "code",
   "execution_count": 0,
   "metadata": {
    "application/vnd.databricks.v1+cell": {
     "cellMetadata": {
      "byteLimit": 2048000,
      "rowLimit": 10000
     },
     "inputWidgets": {},
     "nuid": "2e4141d8-a88a-4df6-b7dc-e88b713e7673",
     "showTitle": true,
     "tableResultSettingsMap": {},
     "title": "keys"
    }
   },
   "outputs": [
    {
     "output_type": "stream",
     "name": "stdout",
     "output_type": "stream",
     "text": [
      "name\nage\ncity\n"
     ]
    }
   ],
   "source": [
    "# Iterate over keys\n",
    "for key in data:\n",
    "    print(key)"
   ]
  },
  {
   "cell_type": "code",
   "execution_count": 0,
   "metadata": {
    "application/vnd.databricks.v1+cell": {
     "cellMetadata": {
      "byteLimit": 2048000,
      "rowLimit": 10000
     },
     "inputWidgets": {},
     "nuid": "ce2275df-6609-430d-b19b-85ba66eda7e2",
     "showTitle": false,
     "tableResultSettingsMap": {},
     "title": ""
    }
   },
   "outputs": [
    {
     "output_type": "stream",
     "name": "stdout",
     "output_type": "stream",
     "text": [
      "name\nage\ncity\n"
     ]
    }
   ],
   "source": [
    "# Iterate over keys\n",
    "for key in data.keys():\n",
    "    print(key)"
   ]
  },
  {
   "cell_type": "code",
   "execution_count": 0,
   "metadata": {
    "application/vnd.databricks.v1+cell": {
     "cellMetadata": {
      "byteLimit": 2048000,
      "rowLimit": 10000
     },
     "inputWidgets": {},
     "nuid": "b73d51a3-a92b-4da7-86fb-392778ee250c",
     "showTitle": true,
     "tableResultSettingsMap": {},
     "title": "values()"
    }
   },
   "outputs": [
    {
     "output_type": "stream",
     "name": "stdout",
     "output_type": "stream",
     "text": [
      "Alice\n25\nBangalore\n"
     ]
    }
   ],
   "source": [
    "# Iterate over values\n",
    "for value in data.values():\n",
    "    print(value)"
   ]
  },
  {
   "cell_type": "code",
   "execution_count": 0,
   "metadata": {
    "application/vnd.databricks.v1+cell": {
     "cellMetadata": {
      "byteLimit": 2048000,
      "rowLimit": 10000
     },
     "inputWidgets": {},
     "nuid": "2bffbd93-9124-41cd-b10d-a8c712a2a198",
     "showTitle": true,
     "tableResultSettingsMap": {},
     "title": "items()"
    }
   },
   "outputs": [
    {
     "output_type": "stream",
     "name": "stdout",
     "output_type": "stream",
     "text": [
      "Key = name, Value = Alice\nKey = age, Value = 25\nKey = city, Value = Bangalore\n"
     ]
    }
   ],
   "source": [
    "# Iterate over key-value pairs\n",
    "for key, value in data.items():\n",
    "    print(f\"Key = {key}, Value = {value}\")"
   ]
  },
  {
   "cell_type": "markdown",
   "metadata": {
    "application/vnd.databricks.v1+cell": {
     "cellMetadata": {},
     "inputWidgets": {},
     "nuid": "980b03d3-032d-4c91-a3a8-18c3f9dd320e",
     "showTitle": false,
     "tableResultSettingsMap": {},
     "title": ""
    }
   },
   "source": [
    "**2) Using .items() in Conditional Logic**"
   ]
  },
  {
   "cell_type": "code",
   "execution_count": 0,
   "metadata": {
    "application/vnd.databricks.v1+cell": {
     "cellMetadata": {
      "byteLimit": 2048000,
      "rowLimit": 10000
     },
     "inputWidgets": {},
     "nuid": "9373e206-24f0-49b2-8fe1-d5a88e7da560",
     "showTitle": false,
     "tableResultSettingsMap": {},
     "title": ""
    }
   },
   "outputs": [
    {
     "output_type": "stream",
     "name": "stdout",
     "output_type": "stream",
     "text": [
      "Math: Excellent\nScience: Good\nEnglish: Good\nSocial: Needs Improvement\nPhysics: Needs Improvement\n"
     ]
    }
   ],
   "source": [
    "scores = {\"Math\": 95, \"Science\": 82, \"English\": 76, \"Social\": 70, \"Physics\":65}\n",
    "\n",
    "for subject, score in scores.items():\n",
    "    if score >= 90:\n",
    "        print(f\"{subject}: Excellent\")\n",
    "    elif score >= 75:\n",
    "        print(f\"{subject}: Good\")\n",
    "    else:\n",
    "        print(f\"{subject}: Needs Improvement\")"
   ]
  },
  {
   "cell_type": "markdown",
   "metadata": {
    "application/vnd.databricks.v1+cell": {
     "cellMetadata": {},
     "inputWidgets": {},
     "nuid": "5063f94b-d840-42b1-820d-4a8dd6306702",
     "showTitle": false,
     "tableResultSettingsMap": {},
     "title": ""
    }
   },
   "source": [
    "**3) Nested Dictionaries with .items()**"
   ]
  },
  {
   "cell_type": "code",
   "execution_count": 0,
   "metadata": {
    "application/vnd.databricks.v1+cell": {
     "cellMetadata": {
      "byteLimit": 2048000,
      "rowLimit": 10000
     },
     "inputWidgets": {},
     "nuid": "a55274e7-0e1e-4d99-9dec-0a2d3232ad7a",
     "showTitle": false,
     "tableResultSettingsMap": {},
     "title": ""
    }
   },
   "outputs": [
    {
     "output_type": "stream",
     "name": "stdout",
     "output_type": "stream",
     "text": [
      "Student: Ashok\n  age: 20\n  skill: Azure\n  Exp: 5\n  Location: Bangalore\nStudent: Abhijith\n  age: 22\n  skill: AWS\n  Exp: 8\n  Location: Chennai\nStudent: Nirmala\n  age: 21\n  skill: GCC\n  Exp: 7\n  Location: Hyderabad\n"
     ]
    }
   ],
   "source": [
    "employees = {\n",
    "    \"Ashok\": {\"age\": 20, \"skill\": \"Azure\", \"Exp\": 5, \"Location\": \"Bangalore\"},\n",
    "    \"Abhijith\": {\"age\": 22, \"skill\": \"AWS\", \"Exp\": 8, \"Location\": \"Chennai\"},\n",
    "    \"Nirmala\": {\"age\": 21, \"skill\": \"GCC\", \"Exp\": 7, \"Location\": \"Hyderabad\"}\n",
    "}\n",
    "\n",
    "for name, details in employees.items():\n",
    "    print(f\"Student: {name}\")\n",
    "    for key, value in details.items():\n",
    "        print(f\"  {key}: {value}\")"
   ]
  },
  {
   "cell_type": "markdown",
   "metadata": {
    "application/vnd.databricks.v1+cell": {
     "cellMetadata": {},
     "inputWidgets": {},
     "nuid": "091c1b8c-6086-4028-9103-bfdceaf9a9db",
     "showTitle": false,
     "tableResultSettingsMap": {},
     "title": ""
    }
   },
   "source": [
    "**4) Count word frequency**"
   ]
  },
  {
   "cell_type": "code",
   "execution_count": 0,
   "metadata": {
    "application/vnd.databricks.v1+cell": {
     "cellMetadata": {
      "byteLimit": 2048000,
      "rowLimit": 10000
     },
     "inputWidgets": {},
     "nuid": "154d3c48-c90d-4824-b475-966395082854",
     "showTitle": false,
     "tableResultSettingsMap": {},
     "title": ""
    }
   },
   "outputs": [
    {
     "output_type": "stream",
     "name": "stdout",
     "output_type": "stream",
     "text": [
      "There are 13 sql students\nThere are 15 azure students\nThere are 22 aws students\nThere are 17 vs code students\n"
     ]
    }
   ],
   "source": [
    "word_count = {\"sql\": 13, \"azure\": 15, \"aws\": 22, \"vs code\": 17}\n",
    "\n",
    "for skill, count in word_count.items():\n",
    "    print(f\"There are {count} {skill} students\")"
   ]
  },
  {
   "cell_type": "markdown",
   "metadata": {
    "application/vnd.databricks.v1+cell": {
     "cellMetadata": {},
     "inputWidgets": {},
     "nuid": "3f25eccc-e7ab-4adb-b449-f1e11c049b6a",
     "showTitle": false,
     "tableResultSettingsMap": {},
     "title": ""
    }
   },
   "source": [
    "**5) With numbers**"
   ]
  },
  {
   "cell_type": "code",
   "execution_count": 0,
   "metadata": {
    "application/vnd.databricks.v1+cell": {
     "cellMetadata": {
      "byteLimit": 2048000,
      "rowLimit": 10000
     },
     "inputWidgets": {},
     "nuid": "8d92d232-e985-4ccb-836d-65ab72168f99",
     "showTitle": false,
     "tableResultSettingsMap": {},
     "title": ""
    }
   },
   "outputs": [
    {
     "output_type": "stream",
     "name": "stdout",
     "output_type": "stream",
     "text": [
      "1 squared = 1\n2 squared = 4\n3 squared = 9\n4 squared = 16\n"
     ]
    }
   ],
   "source": [
    "squares = {1: 1, 2: 4, 3: 9, 4: 16}\n",
    "\n",
    "for number, square in squares.items():\n",
    "    print(f\"{number} squared = {square}\")"
   ]
  },
  {
   "cell_type": "markdown",
   "metadata": {
    "application/vnd.databricks.v1+cell": {
     "cellMetadata": {},
     "inputWidgets": {},
     "nuid": "c061d753-92ad-4578-bd9a-e2f5ff6ffbea",
     "showTitle": false,
     "tableResultSettingsMap": {},
     "title": ""
    }
   },
   "source": [
    "**6) Inside your PySpark case**"
   ]
  },
  {
   "cell_type": "code",
   "execution_count": 0,
   "metadata": {
    "application/vnd.databricks.v1+cell": {
     "cellMetadata": {
      "byteLimit": 2048000,
      "rowLimit": 10000
     },
     "inputWidgets": {},
     "nuid": "2d3348e5-dd2a-424b-b4d2-0b8f40fc08fb",
     "showTitle": false,
     "tableResultSettingsMap": {},
     "title": ""
    }
   },
   "outputs": [
    {
     "output_type": "stream",
     "name": "stdout",
     "output_type": "stream",
     "text": [
      "Column age should be converted to int\nColumn salary should be converted to double\nColumn is_active should be converted to boolean\nColumn join_date should be converted to date\nColumn last_login should be converted to timestamp\n"
     ]
    }
   ],
   "source": [
    "col_type_map = {\n",
    "    \"age\": \"int\",\n",
    "    \"salary\": \"double\",\n",
    "    \"is_active\": \"boolean\",\n",
    "    \"join_date\": \"date\",\n",
    "    \"last_login\": \"timestamp\"\n",
    "}\n",
    "\n",
    "for col_name, target_type in col_type_map.items():\n",
    "    print(f\"Column {col_name} should be converted to {target_type}\")"
   ]
  },
  {
   "cell_type": "code",
   "execution_count": 0,
   "metadata": {
    "application/vnd.databricks.v1+cell": {
     "cellMetadata": {
      "byteLimit": 2048000,
      "rowLimit": 10000
     },
     "inputWidgets": {},
     "nuid": "7c406800-6ee0-4136-82c2-10ca640bbbc6",
     "showTitle": false,
     "tableResultSettingsMap": {},
     "title": ""
    }
   },
   "outputs": [
    {
     "output_type": "stream",
     "name": "stdout",
     "output_type": "stream",
     "text": [
      "Column: age → Target Type: int\nColumn: salary → Target Type: double\nColumn: is_active → Target Type: boolean\nColumn: join_date → Target Type: date\nColumn: last_login → Target Type: timestamp\n"
     ]
    }
   ],
   "source": [
    "for col_name, target_type in col_type_map.items():\n",
    "    print(f\"Column: {col_name} → Target Type: {target_type}\")"
   ]
  },
  {
   "cell_type": "code",
   "execution_count": 0,
   "metadata": {
    "application/vnd.databricks.v1+cell": {
     "cellMetadata": {
      "byteLimit": 2048000,
      "rowLimit": 10000
     },
     "inputWidgets": {},
     "nuid": "8da377ae-40d6-4818-9d0d-ade692a7e685",
     "showTitle": false,
     "tableResultSettingsMap": {},
     "title": ""
    }
   },
   "outputs": [
    {
     "output_type": "stream",
     "name": "stdout",
     "output_type": "stream",
     "text": [
      "age: int\nsalary: double\nis_active: boolean\njoin_date: date\nlast_login: timestamp\nExp: int\nCount: int\n"
     ]
    }
   ],
   "source": [
    "col_type_map = {\n",
    "    \"age\": \"Int\",\n",
    "    \"salary\": \"DOUBLE\",\n",
    "    \"is_active\": \"Boolean\",\n",
    "    \"join_date\": \"date\",\n",
    "    \"last_login\": \"Timestamp\",\n",
    "    \"Exp\": \"int\",\n",
    "    \"Count\": \"INT\"\n",
    "}\n",
    "\n",
    "for col_name, target_type in col_type_map.items():\n",
    "    target_type = target_type.lower()\n",
    "    print(f\"{col_name}: {target_type}\")"
   ]
  }
 ],
 "metadata": {
  "application/vnd.databricks.v1+notebook": {
   "computePreferences": {
    "hardware": {
     "accelerator": null,
     "gpuPoolId": null,
     "memory": null
    }
   },
   "dashboards": [],
   "environmentMetadata": {
    "base_environment": "",
    "environment_version": "3"
   },
   "inputWidgetPreferences": null,
   "language": "python",
   "notebookMetadata": {
    "pythonIndentUnit": 4
   },
   "notebookName": "52_Iterating Through a Dictionary",
   "widgets": {}
  },
  "language_info": {
   "name": "python"
  }
 },
 "nbformat": 4,
 "nbformat_minor": 0
}