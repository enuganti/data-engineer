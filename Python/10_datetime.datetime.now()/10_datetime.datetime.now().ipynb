{
 "cells": [
  {
   "cell_type": "markdown",
   "metadata": {
    "application/vnd.databricks.v1+cell": {
     "cellMetadata": {},
     "inputWidgets": {},
     "nuid": "493e87e7-a2ec-4ba6-9f53-7dc31961ffcd",
     "showTitle": false,
     "tableResultSettingsMap": {},
     "title": ""
    }
   },
   "source": [
    "- The **datetime.datetime.now()** function in Python is used to get the **current local date and time**.\n",
    "\n",
    "      # module, class, method\n",
    "      datetime.datetime.now()"
   ]
  },
  {
   "cell_type": "markdown",
   "metadata": {
    "application/vnd.databricks.v1+cell": {
     "cellMetadata": {},
     "inputWidgets": {},
     "nuid": "dfaaffd8-3426-45a4-a547-8c5dff78d4e5",
     "showTitle": false,
     "tableResultSettingsMap": {},
     "title": ""
    }
   },
   "source": [
    "#### **1) Get the Current Date and Time**"
   ]
  },
  {
   "cell_type": "code",
   "execution_count": 0,
   "metadata": {
    "application/vnd.databricks.v1+cell": {
     "cellMetadata": {
      "byteLimit": 2048000,
      "rowLimit": 10000
     },
     "inputWidgets": {},
     "nuid": "96823749-b361-45af-b452-2a8def38b32d",
     "showTitle": false,
     "tableResultSettingsMap": {},
     "title": ""
    }
   },
   "outputs": [
    {
     "output_type": "stream",
     "name": "stdout",
     "output_type": "stream",
     "text": [
      "Current Date and Time: 2025-02-04 07:29:58.688174\n"
     ]
    }
   ],
   "source": [
    "import datetime\n",
    "\n",
    "# Get the current date and time\n",
    "current_datetime = datetime.datetime.now()             # Applying datetime.now\n",
    "print(\"Current Date and Time:\", current_datetime)      # show current date and time"
   ]
  },
  {
   "cell_type": "code",
   "execution_count": 0,
   "metadata": {
    "application/vnd.databricks.v1+cell": {
     "cellMetadata": {
      "byteLimit": 2048000,
      "rowLimit": 10000
     },
     "inputWidgets": {},
     "nuid": "2d527976-ecd1-42aa-8963-a5eca52dd29c",
     "showTitle": false,
     "tableResultSettingsMap": {},
     "title": ""
    }
   },
   "outputs": [
    {
     "output_type": "stream",
     "name": "stdout",
     "output_type": "stream",
     "text": [
      "Current Date and Time: 2025-02-04 07:30:53.474503\n"
     ]
    }
   ],
   "source": [
    "# Load datetime from datetime module\n",
    "from datetime import datetime\n",
    "\n",
    "# Get the current date and time\n",
    "my_datetime = datetime.now()\n",
    "print(\"Current Date and Time:\", my_datetime)"
   ]
  },
  {
   "cell_type": "markdown",
   "metadata": {
    "application/vnd.databricks.v1+cell": {
     "cellMetadata": {},
     "inputWidgets": {},
     "nuid": "bd2654d0-a62c-47f3-b25a-8b716acbb97d",
     "showTitle": false,
     "tableResultSettingsMap": {},
     "title": ""
    }
   },
   "source": [
    "#### **2) Format the Current Date and Time**\n",
    "- You can format the current date and time using the **strftime** method."
   ]
  },
  {
   "cell_type": "code",
   "execution_count": 0,
   "metadata": {
    "application/vnd.databricks.v1+cell": {
     "cellMetadata": {
      "byteLimit": 2048000,
      "rowLimit": 10000
     },
     "inputWidgets": {},
     "nuid": "3e08094a-bbe4-4641-b5ab-a508f8312215",
     "showTitle": false,
     "tableResultSettingsMap": {},
     "title": ""
    }
   },
   "outputs": [
    {
     "output_type": "stream",
     "name": "stdout",
     "output_type": "stream",
     "text": [
      "Short Version of Year: 25\nFull Version of Year: 2025\n\nShort Version of Month: Feb\nFull Version of Month: February\n\nShort Version of Day: Tue\nFull Version of Day: Tuesday\n"
     ]
    }
   ],
   "source": [
    "# Get the current date and time\n",
    "import datetime\n",
    "current_datetime = datetime.datetime.now()\n",
    "\n",
    "# Short Version of Year\n",
    "SVY = current_datetime.strftime(\"%y\")\n",
    "print(\"Short Version of Year:\", SVY)\n",
    "\n",
    "# Full Version of Year\n",
    "FVY = current_datetime.strftime(\"%Y\")\n",
    "print(\"Full Version of Year:\", FVY)\n",
    "\n",
    "# Short Version of Month\n",
    "SVM = current_datetime.strftime(\"%b\")\n",
    "print(\"\\nShort Version of Month:\", SVM)\n",
    "\n",
    "# Full Version of Month\n",
    "FVM = current_datetime.strftime(\"%B\")\n",
    "print(\"Full Version of Month:\", FVM)\n",
    "\n",
    "# Short Version of Day\n",
    "SVD = current_datetime.strftime(\"%a\")\n",
    "print(\"\\nShort Version of Day:\", SVD)\n",
    "\n",
    "# Full Version of Day\n",
    "FVD = current_datetime.strftime(\"%A\")\n",
    "print(\"Full Version of Day:\", FVD)"
   ]
  },
  {
   "cell_type": "code",
   "execution_count": 0,
   "metadata": {
    "application/vnd.databricks.v1+cell": {
     "cellMetadata": {
      "byteLimit": 2048000,
      "rowLimit": 10000
     },
     "inputWidgets": {},
     "nuid": "5672e273-5baf-452b-a314-edcfc1247852",
     "showTitle": false,
     "tableResultSettingsMap": {},
     "title": ""
    }
   },
   "outputs": [
    {
     "output_type": "stream",
     "name": "stdout",
     "output_type": "stream",
     "text": [
      "Number of Weekday: 2\n\n24 Hour Format: 07\n12 Hour Format: 07\n\nAM / PM: AM\n"
     ]
    }
   ],
   "source": [
    "# Number of Weekday\n",
    "WD = current_datetime.strftime(\"%w\")\n",
    "print(\"Number of Weekday:\", WD)\n",
    "\n",
    "# 24 Hour Format\n",
    "HFormat24 = current_datetime.strftime(\"%H\")\n",
    "print(\"\\n24 Hour Format:\", HFormat24)\n",
    "\n",
    "# 12 Hour Format\n",
    "HFormat12 = current_datetime.strftime(\"%I\")\n",
    "print(\"12 Hour Format:\", HFormat12)\n",
    "\n",
    "# AM / PM\n",
    "AM_PM = current_datetime.strftime(\"%p\")\n",
    "print(\"\\nAM / PM:\", AM_PM)"
   ]
  },
  {
   "cell_type": "code",
   "execution_count": 0,
   "metadata": {
    "application/vnd.databricks.v1+cell": {
     "cellMetadata": {
      "byteLimit": 2048000,
      "rowLimit": 10000
     },
     "inputWidgets": {},
     "nuid": "66d4bc73-b825-4d99-9a24-79dbe0f5d93f",
     "showTitle": false,
     "tableResultSettingsMap": {},
     "title": ""
    }
   },
   "outputs": [
    {
     "output_type": "stream",
     "name": "stdout",
     "output_type": "stream",
     "text": [
      "Minutes: 33\nSeconds: 27\nMicroSeconds: 348737\n"
     ]
    }
   ],
   "source": [
    "# Minutes\n",
    "Minutes = current_datetime.strftime(\"%M\")\n",
    "print(\"Minutes:\", Minutes)\n",
    "\n",
    "# Seconds\n",
    "Seconds = current_datetime.strftime(\"%S\")\n",
    "print(\"Seconds:\", Seconds)\n",
    "\n",
    "# MicroSeconds\n",
    "MicroSec = current_datetime.strftime(\"%f\")\n",
    "print(\"MicroSeconds:\", MicroSec)"
   ]
  },
  {
   "cell_type": "code",
   "execution_count": 0,
   "metadata": {
    "application/vnd.databricks.v1+cell": {
     "cellMetadata": {
      "byteLimit": 2048000,
      "rowLimit": 10000
     },
     "inputWidgets": {},
     "nuid": "2fc0346a-758c-4351-b255-2ad4bb4a3dc8",
     "showTitle": false,
     "tableResultSettingsMap": {},
     "title": ""
    }
   },
   "outputs": [
    {
     "output_type": "stream",
     "name": "stdout",
     "output_type": "stream",
     "text": [
      "Day Number of Year: 033\ndate: 02/02/25\ntime: 15:09:24\n"
     ]
    }
   ],
   "source": [
    "# Day Number of Year\n",
    "DNOY = current_datetime.strftime(\"%j\")\n",
    "print(\"Day Number of Year:\", DNOY)\n",
    "\n",
    "# date\n",
    "date = current_datetime.strftime(\"%x\")\n",
    "print(\"date:\", date)\n",
    "\n",
    "# time\n",
    "time = current_datetime.strftime(\"%X\")\n",
    "print(\"time:\", time)"
   ]
  },
  {
   "cell_type": "code",
   "execution_count": 0,
   "metadata": {
    "application/vnd.databricks.v1+cell": {
     "cellMetadata": {
      "byteLimit": 2048000,
      "rowLimit": 10000
     },
     "inputWidgets": {},
     "nuid": "d08f1f4c-e38a-45ce-ac13-252fb46cee6d",
     "showTitle": false,
     "tableResultSettingsMap": {},
     "title": ""
    }
   },
   "outputs": [
    {
     "output_type": "stream",
     "name": "stdout",
     "output_type": "stream",
     "text": [
      "Formatted Date: 2025-02-02\nFormatted Time: 15:09:24\nFormatted Date and Time: 2025-02-02 15:09:24\n"
     ]
    }
   ],
   "source": [
    "# Format date\n",
    "format_date = current_datetime.strftime(\"%Y-%m-%d\")\n",
    "print(\"Formatted Date:\", format_date)\n",
    "\n",
    "# Format time\n",
    "format_time = current_datetime.strftime(\"%H:%M:%S\")\n",
    "print(\"Formatted Time:\", format_time)\n",
    "\n",
    "# Format the date and time\n",
    "formatted_datetime = current_datetime.strftime(\"%Y-%m-%d %H:%M:%S\")\n",
    "print(\"Formatted Date and Time:\", formatted_datetime)"
   ]
  },
  {
   "cell_type": "markdown",
   "metadata": {
    "application/vnd.databricks.v1+cell": {
     "cellMetadata": {},
     "inputWidgets": {},
     "nuid": "2bc02b7a-c976-4897-813e-6f51f6f7dc14",
     "showTitle": false,
     "tableResultSettingsMap": {},
     "title": ""
    }
   },
   "source": [
    "#### **3) Get the Current Date**"
   ]
  },
  {
   "cell_type": "code",
   "execution_count": 0,
   "metadata": {
    "application/vnd.databricks.v1+cell": {
     "cellMetadata": {
      "byteLimit": 2048000,
      "rowLimit": 10000
     },
     "inputWidgets": {},
     "nuid": "f9404a2c-63c1-4806-86dd-0872e2eb31dc",
     "showTitle": false,
     "tableResultSettingsMap": {},
     "title": ""
    }
   },
   "outputs": [
    {
     "output_type": "stream",
     "name": "stdout",
     "output_type": "stream",
     "text": [
      "2025-02-02\n"
     ]
    }
   ],
   "source": [
    "import datetime\n",
    "date = datetime.date(2025,2,2)\n",
    "print(date)"
   ]
  },
  {
   "cell_type": "code",
   "execution_count": 0,
   "metadata": {
    "application/vnd.databricks.v1+cell": {
     "cellMetadata": {
      "byteLimit": 2048000,
      "rowLimit": 10000
     },
     "inputWidgets": {},
     "nuid": "4d6b16a8-6979-48e4-ace0-6698106e4ae0",
     "showTitle": false,
     "tableResultSettingsMap": {},
     "title": ""
    }
   },
   "outputs": [
    {
     "output_type": "stream",
     "name": "stdout",
     "output_type": "stream",
     "text": [
      "Current Date: 2025-02-02\n"
     ]
    }
   ],
   "source": [
    "# Get the current date\n",
    "current_date = datetime.datetime.now().date()\n",
    "print(\"Current Date:\", current_date)"
   ]
  },
  {
   "cell_type": "code",
   "execution_count": 0,
   "metadata": {
    "application/vnd.databricks.v1+cell": {
     "cellMetadata": {
      "byteLimit": 2048000,
      "rowLimit": 10000
     },
     "inputWidgets": {},
     "nuid": "1d70382e-52e2-4257-8db6-9daf59057742",
     "showTitle": false,
     "tableResultSettingsMap": {},
     "title": ""
    }
   },
   "outputs": [
    {
     "output_type": "stream",
     "name": "stdout",
     "output_type": "stream",
     "text": [
      "2025-02-02\n"
     ]
    }
   ],
   "source": [
    "today = datetime.date.today()\n",
    "print(today)"
   ]
  },
  {
   "cell_type": "code",
   "execution_count": 0,
   "metadata": {
    "application/vnd.databricks.v1+cell": {
     "cellMetadata": {
      "byteLimit": 2048000,
      "rowLimit": 10000
     },
     "inputWidgets": {},
     "nuid": "121bf438-f375-4370-b9f3-1f65b778dfd1",
     "showTitle": false,
     "tableResultSettingsMap": {},
     "title": ""
    }
   },
   "outputs": [
    {
     "output_type": "stream",
     "name": "stdout",
     "output_type": "stream",
     "text": [
      "target date has passed\n"
     ]
    }
   ],
   "source": [
    "import datetime\n",
    "\n",
    "# datetime(YEAR MONTH DAY HOURS MINUTES SECONDS MICROSECONDS)\n",
    "target_datetime = datetime.datetime(2028, 7, 15, 15, 30, 5, 513)\n",
    "current_datetime = datetime.datetime.now()\n",
    "\n",
    "if target_datetime > current_datetime:\n",
    "    print(\"target date has passed\")\n",
    "else:\n",
    "    print(\"target date has not passed\")"
   ]
  },
  {
   "cell_type": "markdown",
   "metadata": {
    "application/vnd.databricks.v1+cell": {
     "cellMetadata": {},
     "inputWidgets": {},
     "nuid": "7dcfa7da-c247-4c13-813b-e825811608f3",
     "showTitle": false,
     "tableResultSettingsMap": {},
     "title": ""
    }
   },
   "source": [
    "#### **4) Get the Current Time**"
   ]
  },
  {
   "cell_type": "code",
   "execution_count": 0,
   "metadata": {
    "application/vnd.databricks.v1+cell": {
     "cellMetadata": {
      "byteLimit": 2048000,
      "rowLimit": 10000
     },
     "inputWidgets": {},
     "nuid": "14feb122-cec4-4720-9287-c16f09ea6172",
     "showTitle": false,
     "tableResultSettingsMap": {},
     "title": ""
    }
   },
   "outputs": [
    {
     "output_type": "stream",
     "name": "stdout",
     "output_type": "stream",
     "text": [
      "12:30:00\n"
     ]
    }
   ],
   "source": [
    "time = datetime.time(12, 30, 0)\n",
    "print(time)"
   ]
  },
  {
   "cell_type": "code",
   "execution_count": 0,
   "metadata": {
    "application/vnd.databricks.v1+cell": {
     "cellMetadata": {
      "byteLimit": 2048000,
      "rowLimit": 10000
     },
     "inputWidgets": {},
     "nuid": "af013146-125b-491b-83bd-0d38fec4be9e",
     "showTitle": false,
     "tableResultSettingsMap": {},
     "title": ""
    }
   },
   "outputs": [
    {
     "output_type": "stream",
     "name": "stdout",
     "output_type": "stream",
     "text": [
      "Current Time: 16:53:24.749312\n"
     ]
    }
   ],
   "source": [
    "# Get the current time\n",
    "current_time = datetime.datetime.now().time()\n",
    "print(\"Current Time:\", current_time)"
   ]
  },
  {
   "cell_type": "code",
   "execution_count": 0,
   "metadata": {
    "application/vnd.databricks.v1+cell": {
     "cellMetadata": {
      "byteLimit": 2048000,
      "rowLimit": 10000
     },
     "inputWidgets": {},
     "nuid": "862309f7-f39d-4805-a681-558f78ba7b14",
     "showTitle": true,
     "tableResultSettingsMap": {},
     "title": "Creating Date & time"
    }
   },
   "outputs": [
    {
     "output_type": "stream",
     "name": "stdout",
     "output_type": "stream",
     "text": [
      "Created Date: 2028-07-15 15:30:05.000513\n"
     ]
    }
   ],
   "source": [
    "# datetime(YEAR MONTH DAY HOURS MINUTES SECONDS MICROSECONDS)\n",
    "create_date = datetime.datetime(2028, 7, 15, 15, 30, 5, 513)\n",
    "print(\"Created Date:\", create_date)"
   ]
  },
  {
   "cell_type": "code",
   "execution_count": 0,
   "metadata": {
    "application/vnd.databricks.v1+cell": {
     "cellMetadata": {
      "byteLimit": 2048000,
      "rowLimit": 10000
     },
     "inputWidgets": {},
     "nuid": "f4b95d90-6d1a-4a88-9d18-36a8d84a04fa",
     "showTitle": true,
     "tableResultSettingsMap": {},
     "title": "Creating Date"
    }
   },
   "outputs": [
    {
     "output_type": "stream",
     "name": "stdout",
     "output_type": "stream",
     "text": [
      "Created Date: 2028-07-15 00:00:00\n"
     ]
    }
   ],
   "source": [
    "import datetime\n",
    "# datetime(YEAR MONTH DAY HOURS MINUTES SECONDS MICROSECONDS)\n",
    "create_date1 = datetime.datetime(2028, 7, 15)\n",
    "print(\"Created Date:\", create_date1)"
   ]
  },
  {
   "cell_type": "markdown",
   "metadata": {
    "application/vnd.databricks.v1+cell": {
     "cellMetadata": {},
     "inputWidgets": {},
     "nuid": "cd9e52f4-2d0e-4a39-97a8-d6d67c3e9d7b",
     "showTitle": false,
     "tableResultSettingsMap": {},
     "title": ""
    }
   },
   "source": [
    "#### **5) Use datetime.datetime.now() in a Function**"
   ]
  },
  {
   "cell_type": "code",
   "execution_count": 0,
   "metadata": {
    "application/vnd.databricks.v1+cell": {
     "cellMetadata": {
      "byteLimit": 2048000,
      "rowLimit": 10000
     },
     "inputWidgets": {},
     "nuid": "a2d9706f-e6d1-4859-8c02-d2921c707196",
     "showTitle": false,
     "tableResultSettingsMap": {},
     "title": ""
    }
   },
   "outputs": [
    {
     "output_type": "stream",
     "name": "stdout",
     "output_type": "stream",
     "text": [
      "Log Time: 2024-12-16 16:54:24\n"
     ]
    }
   ],
   "source": [
    "def log_current_time():\n",
    "    current_time = datetime.datetime.now().strftime(\"%Y-%m-%d %H:%M:%S\")\n",
    "    print(\"Log Time:\", current_time)\n",
    "\n",
    "# Call the function\n",
    "log_current_time()"
   ]
  },
  {
   "cell_type": "markdown",
   "metadata": {
    "application/vnd.databricks.v1+cell": {
     "cellMetadata": {},
     "inputWidgets": {},
     "nuid": "59a2c9f6-eb4b-41f7-8f56-d0d2374b8b86",
     "showTitle": false,
     "tableResultSettingsMap": {},
     "title": ""
    }
   },
   "source": [
    "#### **6) Calculate Time Difference**"
   ]
  },
  {
   "cell_type": "code",
   "execution_count": 0,
   "metadata": {
    "application/vnd.databricks.v1+cell": {
     "cellMetadata": {
      "byteLimit": 2048000,
      "rowLimit": 10000
     },
     "inputWidgets": {},
     "nuid": "7531f715-e15c-4525-af3c-721cc10d5ddb",
     "showTitle": false,
     "tableResultSettingsMap": {},
     "title": ""
    }
   },
   "outputs": [
    {
     "output_type": "stream",
     "name": "stdout",
     "output_type": "stream",
     "text": [
      "Time Difference: 0:00:02.000528\n"
     ]
    }
   ],
   "source": [
    "# Get the current time\n",
    "start_time = datetime.datetime.now()\n",
    "\n",
    "# Simulate a delay\n",
    "time.sleep(2)\n",
    "\n",
    "# Get the time after delay\n",
    "end_time = datetime.datetime.now()\n",
    "\n",
    "# Calculate the difference\n",
    "time_difference = end_time - start_time\n",
    "print(\"Time Difference:\", time_difference)"
   ]
  },
  {
   "cell_type": "markdown",
   "metadata": {
    "application/vnd.databricks.v1+cell": {
     "cellMetadata": {},
     "inputWidgets": {},
     "nuid": "5beebc2a-5f89-43a6-9ea9-29c6b34da213",
     "showTitle": false,
     "tableResultSettingsMap": {},
     "title": ""
    }
   },
   "source": [
    "#### **Key Differences b/n datetime.now() & datetime.today()**\n",
    "\n",
    "**Time Zone Support**\n",
    "\n",
    "     datetime.now(tz) can return a timezone-aware datetime.\n",
    "     datetime.today() does not support time zones.\n",
    "\n",
    "**Best Practice**\n",
    "\n",
    "- Use **datetime.now(tz=timezone.utc)** if you need **timezone-aware** datetime.\n",
    "- Use **datetime.today()** only if you **don't** need **timezone** support."
   ]
  },
  {
   "cell_type": "code",
   "execution_count": 0,
   "metadata": {
    "application/vnd.databricks.v1+cell": {
     "cellMetadata": {
      "byteLimit": 2048000,
      "rowLimit": 10000
     },
     "inputWidgets": {},
     "nuid": "c900f4a3-72a1-4926-bd24-6f52dd2bf80d",
     "showTitle": false,
     "tableResultSettingsMap": {},
     "title": ""
    }
   },
   "outputs": [
    {
     "output_type": "stream",
     "name": "stdout",
     "output_type": "stream",
     "text": [
      "Now with UTC: 2025-02-02 14:28:07.879543+00:00\n"
     ]
    }
   ],
   "source": [
    "from datetime import datetime, timezone\n",
    "\n",
    "now_with_tz = datetime.now(timezone.utc)\n",
    "print(\"Now with UTC:\", now_with_tz)"
   ]
  },
  {
   "cell_type": "code",
   "execution_count": 0,
   "metadata": {
    "application/vnd.databricks.v1+cell": {
     "cellMetadata": {
      "byteLimit": 2048000,
      "rowLimit": 10000
     },
     "inputWidgets": {},
     "nuid": "936152a5-cabe-46b5-9743-f2909ea50d14",
     "showTitle": false,
     "tableResultSettingsMap": {},
     "title": ""
    }
   },
   "outputs": [
    {
     "output_type": "stream",
     "name": "stdout",
     "output_type": "stream",
     "text": [
      "2025-02-04 12:24:39.771276+04:30\n"
     ]
    }
   ],
   "source": [
    "from datetime import datetime\n",
    "import pytz\n",
    "\n",
    "# Define Europe timezone with a 4.5-hour offset (Asia/Kabul is UTC+4:30, no direct Europe zone)\n",
    "custom_tz = pytz.FixedOffset(270)  # 4 hours 30 minutes = 270 minutes\n",
    "\n",
    "# Get current time in that timezone\n",
    "europe_time = datetime.now(custom_tz)\n",
    "\n",
    "print(europe_time)"
   ]
  }
 ],
 "metadata": {
  "application/vnd.databricks.v1+notebook": {
   "computePreferences": null,
   "dashboards": [],
   "environmentMetadata": {
    "base_environment": "",
    "client": "1"
   },
   "language": "python",
   "notebookMetadata": {
    "pythonIndentUnit": 4
   },
   "notebookName": "10_datetime.datetime.now()",
   "widgets": {}
  }
 },
 "nbformat": 4,
 "nbformat_minor": 0
}
