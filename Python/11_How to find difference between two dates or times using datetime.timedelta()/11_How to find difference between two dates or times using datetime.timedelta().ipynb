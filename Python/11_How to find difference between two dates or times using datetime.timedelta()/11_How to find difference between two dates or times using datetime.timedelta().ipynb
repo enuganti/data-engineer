{
 "cells": [
  {
   "cell_type": "markdown",
   "metadata": {
    "application/vnd.databricks.v1+cell": {
     "cellMetadata": {},
     "inputWidgets": {},
     "nuid": "c35dab9e-905e-471f-9ba4-9132726497d8",
     "showTitle": false,
     "tableResultSettingsMap": {},
     "title": ""
    }
   },
   "source": [
    "#### **datetime.timedelta**\n",
    "\n",
    "- The datetime.timedelta class in Python is used to represent a **duration**, i.e., the **difference between two dates or times**.\n",
    "- used to **manipulate the date**.\n",
    "- **timedelta()** function is present under **datetime** library which is generally used for calculating **differences in dates.**"
   ]
  },
  {
   "cell_type": "markdown",
   "metadata": {
    "application/vnd.databricks.v1+cell": {
     "cellMetadata": {},
     "inputWidgets": {},
     "nuid": "4310a91d-37cc-4aea-a392-a4f43ee2dd43",
     "showTitle": false,
     "tableResultSettingsMap": {},
     "title": ""
    }
   },
   "source": [
    "**Syntax**\n",
    "\n",
    "     import datetime\n",
    "     datetime.timedelta(\n",
    "          weeks = value,\n",
    "          days = value,\n",
    "          hours = value,\n",
    "          minutes = value,\n",
    "          seconds = value,\n",
    "          microseconds = value,\n",
    "          milliseconds = value\n",
    "          )"
   ]
  },
  {
   "cell_type": "markdown",
   "metadata": {
    "application/vnd.databricks.v1+cell": {
     "cellMetadata": {},
     "inputWidgets": {},
     "nuid": "99dc9e20-d89a-4ea1-aac4-1741f78a46bd",
     "showTitle": false,
     "tableResultSettingsMap": {},
     "title": ""
    }
   },
   "source": [
    "     |Parameter\t|    Description\t                                                                         |       Example                |\n",
    "     |--------------|------------------------------------------------------------------------------------------------|------------------------------|\n",
    "     |days\t        | value in days to be passed to our timedelta object. It is an optional parameter.\t         | timedelta(days=1)            |\n",
    "     |seconds\t| time value in seconds to be passed to our timedelta object. It is an optional parameter.\t | timedelta(seconds=1)         |\n",
    "     |microseconds\t| time value in microseconds to be passed to our timedelta object. It is an optional parameter.\t | timedelta(microseconds=1)    |\n",
    "     |milliseconds\t| time value in milliseconds to be passed to our timedelta object. It is an optional parameter.\t | timedelta(milliseconds=1)    |\n",
    "     |minutes\t| time value in minutes to be passed to our timedelta object. It is an optional parameter.\t | timedelta(minutes=1)         |\n",
    "     |hours\t        | time value in hours to be passed to our timedelta object. It is an optional parameter.\t | timedelta(hours=1)           |\n",
    "     |weeks\t        | value in weeks to be passed to our timedelta object. It is an optional parameter.\t         | timedelta(weeks=1)           |"
   ]
  },
  {
   "cell_type": "markdown",
   "metadata": {
    "application/vnd.databricks.v1+cell": {
     "cellMetadata": {},
     "inputWidgets": {},
     "nuid": "117472b6-cd47-4319-9869-422402c4bfce",
     "showTitle": false,
     "tableResultSettingsMap": {},
     "title": ""
    }
   },
   "source": [
    "**parameters**\n",
    "\n",
    "     # Days\n",
    "     - The timedelta object's number of days is represented by this argument.\n",
    "     - It can be an integer that is `positive or negative`.\n",
    "\n",
    "     # Seconds\n",
    "     - The timedelta object's total number of seconds is represented by this argument.\n",
    "     - It can be an integer that is positive or negative.\n",
    "\n",
    "     # Microseconds\n",
    "     - The value of this property indicates how many microseconds are contained in the timedelta object. \n",
    "     - It can be an integer that is positive or negative.\n",
    "\n",
    "     # Minutes\n",
    "     - The timedelta object's minute count is represented by this argument.\n",
    "     - It can be an integer that is positive or negative.\n",
    "\n",
    "     # Hours\n",
    "     - The timedelta object's number of hours is represented by this argument.\n",
    "     - It can be an integer that is positive or negative.\n",
    "\n",
    "     # Weeks\n",
    "     - The timedelta object's number of weeks is represented by this attribute.\n",
    "     - It can be an integer that is positive or negative."
   ]
  },
  {
   "cell_type": "markdown",
   "metadata": {
    "application/vnd.databricks.v1+cell": {
     "cellMetadata": {},
     "inputWidgets": {},
     "nuid": "d1e3b2f5-6d27-4b3c-ae9d-dace3a07664b",
     "showTitle": false,
     "tableResultSettingsMap": {},
     "title": ""
    }
   },
   "source": [
    "#### **1) Create a timedelta Object**"
   ]
  },
  {
   "cell_type": "code",
   "execution_count": 0,
   "metadata": {
    "application/vnd.databricks.v1+cell": {
     "cellMetadata": {
      "byteLimit": 2048000,
      "rowLimit": 10000
     },
     "inputWidgets": {},
     "nuid": "9f6e78ee-85dd-4d26-977b-10a10edb24af",
     "showTitle": false,
     "tableResultSettingsMap": {},
     "title": ""
    }
   },
   "outputs": [
    {
     "output_type": "stream",
     "name": "stdout",
     "output_type": "stream",
     "text": [
      "Timedelta: 5 days, 0:00:00\n"
     ]
    }
   ],
   "source": [
    "from datetime import datetime, timedelta\n",
    "# Create a timedelta object representing 5 days\n",
    "delta = timedelta(days=5)\n",
    "print(\"Timedelta:\", delta)"
   ]
  },
  {
   "cell_type": "code",
   "execution_count": 0,
   "metadata": {
    "application/vnd.databricks.v1+cell": {
     "cellMetadata": {
      "byteLimit": 2048000,
      "rowLimit": 10000
     },
     "inputWidgets": {},
     "nuid": "700a7f16-006b-41c6-8f31-b3e0823f9f93",
     "showTitle": false,
     "tableResultSettingsMap": {},
     "title": ""
    }
   },
   "outputs": [
    {
     "output_type": "stream",
     "name": "stdout",
     "output_type": "stream",
     "text": [
      "Timedelta: 10 days, 1:00:00\n"
     ]
    }
   ],
   "source": [
    "import datetime\n",
    "interval = datetime.timedelta(days=10, seconds=3600)\n",
    "print(\"Timedelta:\", interval)"
   ]
  },
  {
   "cell_type": "code",
   "execution_count": 0,
   "metadata": {
    "application/vnd.databricks.v1+cell": {
     "cellMetadata": {
      "byteLimit": 2048000,
      "rowLimit": 10000
     },
     "inputWidgets": {},
     "nuid": "8c87f2cf-7097-4a7b-b754-0a033a405aaa",
     "showTitle": false,
     "tableResultSettingsMap": {},
     "title": ""
    }
   },
   "outputs": [
    {
     "output_type": "stream",
     "name": "stdout",
     "output_type": "stream",
     "text": [
      "10 days, 1:00:00\n"
     ]
    }
   ],
   "source": [
    "import datetime\n",
    "interval = datetime.timedelta(weeks=1, days=3, hours=1)\n",
    "print(interval)"
   ]
  },
  {
   "cell_type": "code",
   "execution_count": 0,
   "metadata": {
    "application/vnd.databricks.v1+cell": {
     "cellMetadata": {
      "byteLimit": 2048000,
      "rowLimit": 10000
     },
     "inputWidgets": {},
     "nuid": "55aa0aa0-1405-4455-95cd-9799be0ebbd0",
     "showTitle": false,
     "tableResultSettingsMap": {},
     "title": ""
    }
   },
   "outputs": [
    {
     "output_type": "stream",
     "name": "stdout",
     "output_type": "stream",
     "text": [
      "Today: 2025-01-21\nThree days ago: 2025-01-18\n"
     ]
    }
   ],
   "source": [
    "import datetime\n",
    "today = datetime.date.today()\n",
    "three_days_ago = today - datetime.timedelta(days=3)\n",
    "\n",
    "print(\"Today:\", today)\n",
    "print(\"Three days ago:\", three_days_ago)"
   ]
  },
  {
   "cell_type": "code",
   "execution_count": 0,
   "metadata": {
    "application/vnd.databricks.v1+cell": {
     "cellMetadata": {
      "byteLimit": 2048000,
      "rowLimit": 10000
     },
     "inputWidgets": {},
     "nuid": "4925c64c-c4a4-46c1-8df3-32de1833ed4a",
     "showTitle": false,
     "tableResultSettingsMap": {},
     "title": ""
    }
   },
   "outputs": [
    {
     "output_type": "stream",
     "name": "stdout",
     "output_type": "stream",
     "text": [
      "Today: 2025-02-02 13:55:01.518409\nTomorrow: 2025-02-03 13:55:01.518409\nYesterday: 2025-02-01 13:55:01.518409\nAfter 5 days from today: 2025-02-07 13:55:01.518409\n"
     ]
    }
   ],
   "source": [
    "import datetime\n",
    "today = datetime.datetime.today()\n",
    "tomorrow = today + datetime.timedelta(days=1)\n",
    "yesterday = today - datetime.timedelta(days=1)\n",
    "day = today + datetime.timedelta(days=5)\n",
    "\n",
    "print(\"Today:\", today)\n",
    "print(\"Tomorrow:\", tomorrow)\n",
    "print(\"Yesterday:\", yesterday)\n",
    "print(\"After 5 days from today:\", day)"
   ]
  },
  {
   "cell_type": "code",
   "execution_count": 0,
   "metadata": {
    "application/vnd.databricks.v1+cell": {
     "cellMetadata": {
      "byteLimit": 2048000,
      "rowLimit": 10000
     },
     "inputWidgets": {},
     "nuid": "42906f3f-f339-4e48-a2a7-3b6c617c4820",
     "showTitle": false,
     "tableResultSettingsMap": {},
     "title": ""
    }
   },
   "outputs": [
    {
     "output_type": "stream",
     "name": "stdout",
     "output_type": "stream",
     "text": [
      "interval = datetime.timedelta(days=7, seconds=37321, microseconds=42000)\ninterval.days = 7\ninterval.seconds = 37321\ninterval.microseconds = 42000\n"
     ]
    }
   ],
   "source": [
    "interval = datetime.timedelta(\n",
    "    weeks=1,\n",
    "    hours=10,\n",
    "    minutes=22,\n",
    "    milliseconds=1042,\n",
    ")\n",
    "\n",
    "print(f\"{interval = }\")\n",
    "print(f\"{interval.days = }\")\n",
    "print(f\"{interval.seconds = }\")\n",
    "print(f\"{interval.microseconds = }\")"
   ]
  },
  {
   "cell_type": "markdown",
   "metadata": {
    "application/vnd.databricks.v1+cell": {
     "cellMetadata": {},
     "inputWidgets": {},
     "nuid": "275a9a79-2171-49d7-989d-21ad4b204368",
     "showTitle": false,
     "tableResultSettingsMap": {},
     "title": ""
    }
   },
   "source": [
    "#### **2) Add timedelta to the Current Date**"
   ]
  },
  {
   "cell_type": "code",
   "execution_count": 0,
   "metadata": {
    "application/vnd.databricks.v1+cell": {
     "cellMetadata": {
      "byteLimit": 2048000,
      "rowLimit": 10000
     },
     "inputWidgets": {},
     "nuid": "b97d5ab0-5f7d-4fcb-8d70-7331b11a878c",
     "showTitle": false,
     "tableResultSettingsMap": {},
     "title": ""
    }
   },
   "outputs": [
    {
     "output_type": "stream",
     "name": "stdout",
     "output_type": "stream",
     "text": [
      "Future Date: 2025-01-31 14:43:06.289040\n"
     ]
    }
   ],
   "source": [
    "# Get the current date and time\n",
    "current_datetime = datetime.now()\n",
    "\n",
    "# Create a timedelta object representing 10 days\n",
    "delta = timedelta(days=10)\n",
    "\n",
    "# Add the timedelta to the current date\n",
    "future_date = current_datetime + delta\n",
    "print(\"Future Date:\", future_date)"
   ]
  },
  {
   "cell_type": "markdown",
   "metadata": {
    "application/vnd.databricks.v1+cell": {
     "cellMetadata": {},
     "inputWidgets": {},
     "nuid": "544623a9-d133-4a92-9b65-845c167d844a",
     "showTitle": false,
     "tableResultSettingsMap": {},
     "title": ""
    }
   },
   "source": [
    "#### **3) Subtract timedelta from the Current Date**"
   ]
  },
  {
   "cell_type": "code",
   "execution_count": 0,
   "metadata": {
    "application/vnd.databricks.v1+cell": {
     "cellMetadata": {
      "byteLimit": 2048000,
      "rowLimit": 10000
     },
     "inputWidgets": {},
     "nuid": "7fda9a70-717c-4f28-b385-a38a5bf82dca",
     "showTitle": false,
     "tableResultSettingsMap": {},
     "title": ""
    }
   },
   "outputs": [
    {
     "output_type": "stream",
     "name": "stdout",
     "output_type": "stream",
     "text": [
      "Past Date: 2025-01-14 14:44:51.374543\n"
     ]
    }
   ],
   "source": [
    "# Get the current date and time\n",
    "current_datetime = datetime.now()\n",
    "\n",
    "# Create a timedelta object representing 7 days\n",
    "delta = timedelta(days=7)\n",
    "\n",
    "# Subtract the timedelta from the current date\n",
    "past_date = current_datetime - delta\n",
    "print(\"Past Date:\", past_date)"
   ]
  },
  {
   "cell_type": "markdown",
   "metadata": {
    "application/vnd.databricks.v1+cell": {
     "cellMetadata": {},
     "inputWidgets": {},
     "nuid": "d271f45a-00be-4c8f-8dfe-817bb5fc87ae",
     "showTitle": false,
     "tableResultSettingsMap": {},
     "title": ""
    }
   },
   "source": [
    "#### **4) Calculate the Difference Between Two Dates**"
   ]
  },
  {
   "cell_type": "code",
   "execution_count": 0,
   "metadata": {
    "application/vnd.databricks.v1+cell": {
     "cellMetadata": {
      "byteLimit": 2048000,
      "rowLimit": 10000
     },
     "inputWidgets": {},
     "nuid": "8dd62b4b-093b-4425-a7be-13ff5b196a42",
     "showTitle": false,
     "tableResultSettingsMap": {},
     "title": ""
    }
   },
   "outputs": [
    {
     "output_type": "stream",
     "name": "stdout",
     "output_type": "stream",
     "text": [
      "Difference: 9 days, 0:00:00\nDays: 9\n"
     ]
    }
   ],
   "source": [
    "# Define two dates\n",
    "date1 = datetime(2024, 1, 1)\n",
    "date2 = datetime(2024, 1, 10)\n",
    "\n",
    "# Calculate the difference between the two dates\n",
    "difference = date2 - date1\n",
    "print(\"Difference:\", difference)\n",
    "print(\"Days:\", difference.days)"
   ]
  },
  {
   "cell_type": "markdown",
   "metadata": {
    "application/vnd.databricks.v1+cell": {
     "cellMetadata": {},
     "inputWidgets": {},
     "nuid": "c5c5e818-6a01-40d8-b429-37631df08ce1",
     "showTitle": false,
     "tableResultSettingsMap": {},
     "title": ""
    }
   },
   "source": [
    "#### **5) Use timedelta with Weeks, Hours, Minutes, Seconds & Milliseconds**"
   ]
  },
  {
   "cell_type": "code",
   "execution_count": 0,
   "metadata": {
    "application/vnd.databricks.v1+cell": {
     "cellMetadata": {
      "byteLimit": 2048000,
      "rowLimit": 10000
     },
     "inputWidgets": {},
     "nuid": "6f525986-8856-4d09-b558-cbd3715261ed",
     "showTitle": true,
     "tableResultSettingsMap": {},
     "title": "current time"
    }
   },
   "outputs": [
    {
     "output_type": "stream",
     "name": "stdout",
     "output_type": "stream",
     "text": [
      "Out[31]: datetime.datetime(2025, 1, 21, 15, 23, 59, 965791)"
     ]
    }
   ],
   "source": [
    "# Get the current date and time\n",
    "now = datetime.datetime.now()\n",
    "now"
   ]
  },
  {
   "cell_type": "code",
   "execution_count": 0,
   "metadata": {
    "application/vnd.databricks.v1+cell": {
     "cellMetadata": {
      "byteLimit": 2048000,
      "rowLimit": 10000
     },
     "inputWidgets": {},
     "nuid": "a72209b8-3d48-47c8-bb79-cf2b31f86cf7",
     "showTitle": false,
     "tableResultSettingsMap": {},
     "title": ""
    }
   },
   "outputs": [
    {
     "output_type": "stream",
     "name": "stdout",
     "output_type": "stream",
     "text": [
      "2025-01-21 15:23:59.965791\n"
     ]
    }
   ],
   "source": [
    "print(now)"
   ]
  },
  {
   "cell_type": "code",
   "execution_count": 0,
   "metadata": {
    "application/vnd.databricks.v1+cell": {
     "cellMetadata": {
      "byteLimit": 2048000,
      "rowLimit": 10000
     },
     "inputWidgets": {},
     "nuid": "3d2052a2-ff8e-48ef-a81e-62658d9aedcd",
     "showTitle": false,
     "tableResultSettingsMap": {},
     "title": ""
    }
   },
   "outputs": [
    {
     "output_type": "stream",
     "name": "stdout",
     "output_type": "stream",
     "text": [
      "New Date and Time: 2025-01-21 17:54:44.965791\n"
     ]
    }
   ],
   "source": [
    "# Create a timedelta object representing 2 hours, 30 minutes, and 45 seconds\n",
    "delta = timedelta(hours=2, minutes=30, seconds=45)\n",
    "\n",
    "# Add the timedelta to the current date\n",
    "new_datetime = now + delta\n",
    "print(\"New Date and Time:\", new_datetime)"
   ]
  },
  {
   "cell_type": "code",
   "execution_count": 0,
   "metadata": {
    "application/vnd.databricks.v1+cell": {
     "cellMetadata": {
      "byteLimit": 2048000,
      "rowLimit": 10000
     },
     "inputWidgets": {},
     "nuid": "e9e95f39-35b3-4b4c-8155-86ba44c2d908",
     "showTitle": false,
     "tableResultSettingsMap": {},
     "title": ""
    }
   },
   "outputs": [
    {
     "output_type": "stream",
     "name": "stdout",
     "output_type": "stream",
     "text": [
      "10 days, 3:20:45\n"
     ]
    }
   ],
   "source": [
    "# Creating a timedelta object\n",
    "td = timedelta(days=10, hours=3, minutes=20, seconds=45)\n",
    "\n",
    "# Printing the timedelta object\n",
    "print(td)"
   ]
  },
  {
   "cell_type": "code",
   "execution_count": 0,
   "metadata": {
    "application/vnd.databricks.v1+cell": {
     "cellMetadata": {
      "byteLimit": 2048000,
      "rowLimit": 10000
     },
     "inputWidgets": {},
     "nuid": "aabb145f-4519-4150-a577-11641b7a2661",
     "showTitle": true,
     "tableResultSettingsMap": {},
     "title": "weeks"
    }
   },
   "outputs": [
    {
     "output_type": "stream",
     "name": "stdout",
     "output_type": "stream",
     "text": [
      "Weeks Addition: 2025-02-11 15:23:59.965791\n"
     ]
    }
   ],
   "source": [
    "add_weeks = now + datetime.timedelta(week=1)\n",
    "sub_weeks = now - datetime.timedelta(week=1)\n",
    "\n",
    "print(\"Weeks Addition:\", add_weeks)\n",
    "print(\"Weeks Subtractiob:\", sub_weeks)"
   ]
  },
  {
   "cell_type": "code",
   "execution_count": 0,
   "metadata": {
    "application/vnd.databricks.v1+cell": {
     "cellMetadata": {
      "byteLimit": 2048000,
      "rowLimit": 10000
     },
     "inputWidgets": {},
     "nuid": "35e86235-0a9b-4298-99d3-e412e7996510",
     "showTitle": true,
     "tableResultSettingsMap": {},
     "title": "days"
    }
   },
   "outputs": [
    {
     "output_type": "stream",
     "name": "stdout",
     "output_type": "stream",
     "text": [
      "Add 3 days: 2025-01-24 15:23:59.965791\nSub 3 days: 2025-01-18 15:23:59.965791\n"
     ]
    }
   ],
   "source": [
    "# Add the timedelta to the current date\n",
    "newdate_3days_add = now + timedelta(days=3)\n",
    "newdate_3days_sub = now - timedelta(days=3)\n",
    "\n",
    "newdate_365days_add = now + timedelta(days=365)\n",
    "newdate_365days_sub = now - timedelta(days=366)\n",
    "\n",
    "print(\"Add 3 days:\", newdate_3days_add)\n",
    "print(\"Sub 3 days:\", newdate_3days_sub)\n",
    "\n",
    "print(\"Add 365 days:\", newdate_365days_add)\n",
    "print(\"Sub 365 days:\", newdate_365days_sub)"
   ]
  },
  {
   "cell_type": "code",
   "execution_count": 0,
   "metadata": {
    "application/vnd.databricks.v1+cell": {
     "cellMetadata": {
      "byteLimit": 2048000,
      "rowLimit": 10000
     },
     "inputWidgets": {},
     "nuid": "2f4b303d-4fff-4f8c-a31e-3af85c25a59a",
     "showTitle": true,
     "tableResultSettingsMap": {},
     "title": "hours"
    }
   },
   "outputs": [
    {
     "output_type": "stream",
     "name": "stdout",
     "output_type": "stream",
     "text": [
      "Add Hours: 2025-01-21 18:23:59.965791\n"
     ]
    }
   ],
   "source": [
    "add_hours = today + datetime.timedelta(hours=3)\n",
    "sub_hours = today - datetime.timedelta(hours=3)\n",
    "\n",
    "print(\"Add Hours:\", add_hours)\n",
    "print(\"Sub Hours:\", sub_hours)"
   ]
  },
  {
   "cell_type": "code",
   "execution_count": 0,
   "metadata": {
    "application/vnd.databricks.v1+cell": {
     "cellMetadata": {
      "byteLimit": 2048000,
      "rowLimit": 10000
     },
     "inputWidgets": {},
     "nuid": "88a4e3dc-20a9-4f59-a409-ed97ef225705",
     "showTitle": true,
     "tableResultSettingsMap": {},
     "title": "minutes"
    }
   },
   "outputs": [
    {
     "output_type": "stream",
     "name": "stdout",
     "output_type": "stream",
     "text": [
      "Add 3 minutes: 2025-01-21 15:22:38.369460\nSub 3 minutes: 2025-01-21 15:16:38.369460\n"
     ]
    }
   ],
   "source": [
    "# Add the timedelta to the current date\n",
    "newdate_3min_add = now + timedelta(minutes=10)\n",
    "newdate_3days_sub = now - timedelta(minutes=10)\n",
    "\n",
    "print(\"Add 3 minutes:\", newdate_3min_add)\n",
    "print(\"Sub 3 minutes:\", newdate_3days_sub)"
   ]
  },
  {
   "cell_type": "code",
   "execution_count": 0,
   "metadata": {
    "application/vnd.databricks.v1+cell": {
     "cellMetadata": {
      "byteLimit": 2048000,
      "rowLimit": 10000
     },
     "inputWidgets": {},
     "nuid": "2012bd5c-f271-47d4-a240-6def47c6ddaa",
     "showTitle": true,
     "tableResultSettingsMap": {},
     "title": "microseconds"
    }
   },
   "outputs": [
    {
     "output_type": "stream",
     "name": "stdout",
     "output_type": "stream",
     "text": [
      "Add microseconds: 2025-01-21 15:23:59.965794\n"
     ]
    }
   ],
   "source": [
    "add_microseconds = today + datetime.timedelta(microseconds=10)\n",
    "sub_microseconds = today - datetime.timedelta(microseconds=10)\n",
    "\n",
    "print(\"Add microseconds:\", add_microseconds)\n",
    "print(\"Sub microseconds:\", sub_microseconds)"
   ]
  },
  {
   "cell_type": "code",
   "execution_count": 0,
   "metadata": {
    "application/vnd.databricks.v1+cell": {
     "cellMetadata": {
      "byteLimit": 2048000,
      "rowLimit": 10000
     },
     "inputWidgets": {},
     "nuid": "dd627a81-512e-44d0-a288-4b9ed6b13152",
     "showTitle": true,
     "tableResultSettingsMap": {},
     "title": "milliseconds"
    }
   },
   "outputs": [
    {
     "output_type": "stream",
     "name": "stdout",
     "output_type": "stream",
     "text": [
      "Add milliseconds: 2025-01-21 15:23:59.968791\n"
     ]
    }
   ],
   "source": [
    "add_milliseconds = now + timedelta(milliseconds=3)\n",
    "sub_milliseconds = now + timedelta(milliseconds=3)\n",
    "\n",
    "print(\"Add milliseconds:\", add_milliseconds)\n",
    "print(\"Sub milliseconds:\", sub_milliseconds)"
   ]
  },
  {
   "cell_type": "code",
   "execution_count": 0,
   "metadata": {
    "application/vnd.databricks.v1+cell": {
     "cellMetadata": {
      "byteLimit": 2048000,
      "rowLimit": 10000
     },
     "inputWidgets": {},
     "nuid": "d2b77877-6ae4-417e-ab19-fb68bbbef81b",
     "showTitle": false,
     "tableResultSettingsMap": {},
     "title": ""
    }
   },
   "outputs": [
    {
     "output_type": "execute_result",
     "data": {
      "text/plain": [
       "datetime.datetime(2024, 2, 26, 17, 54, 57, 166755)"
      ]
     },
     "execution_count": 3,
     "metadata": {},
     "output_type": "execute_result"
    }
   ],
   "source": [
    "import random\n",
    "(datetime.now() - timedelta(days=random.randint(0, 365)))"
   ]
  },
  {
   "cell_type": "code",
   "execution_count": 0,
   "metadata": {
    "application/vnd.databricks.v1+cell": {
     "cellMetadata": {
      "byteLimit": 2048000,
      "rowLimit": 10000
     },
     "inputWidgets": {},
     "nuid": "a7cb9f59-7a11-4dd0-a4b0-d83cbf8fbc7f",
     "showTitle": false,
     "tableResultSettingsMap": {},
     "title": ""
    }
   },
   "outputs": [
    {
     "output_type": "stream",
     "name": "stdout",
     "output_type": "stream",
     "text": [
      "Out[10]: 1716994066.162727"
     ]
    }
   ],
   "source": [
    "((datetime.now() - timedelta(days=random.randint(0, 365))).timestamp())"
   ]
  },
  {
   "cell_type": "code",
   "execution_count": 0,
   "metadata": {
    "application/vnd.databricks.v1+cell": {
     "cellMetadata": {
      "byteLimit": 2048000,
      "rowLimit": 10000
     },
     "inputWidgets": {},
     "nuid": "3b21816a-8532-43d7-99eb-3ac4875f61bc",
     "showTitle": false,
     "tableResultSettingsMap": {},
     "title": ""
    }
   },
   "outputs": [
    {
     "output_type": "stream",
     "name": "stdout",
     "output_type": "stream",
     "text": [
      "Out[11]: 1715784527"
     ]
    }
   ],
   "source": [
    "int((datetime.now() - timedelta(days=random.randint(0, 365))).timestamp())"
   ]
  },
  {
   "cell_type": "markdown",
   "metadata": {
    "application/vnd.databricks.v1+cell": {
     "cellMetadata": {},
     "inputWidgets": {},
     "nuid": "7c473e44-f173-4dbe-8aaf-70890f783cc8",
     "showTitle": false,
     "tableResultSettingsMap": {},
     "title": ""
    }
   },
   "source": [
    "#### **6) Use timedelta in a Function**"
   ]
  },
  {
   "cell_type": "code",
   "execution_count": 0,
   "metadata": {
    "application/vnd.databricks.v1+cell": {
     "cellMetadata": {
      "byteLimit": 2048000,
      "rowLimit": 10000
     },
     "inputWidgets": {},
     "nuid": "30e18524-002c-43bf-b27c-f11c42c1516f",
     "showTitle": false,
     "tableResultSettingsMap": {},
     "title": ""
    }
   },
   "outputs": [
    {
     "output_type": "stream",
     "name": "stdout",
     "output_type": "stream",
     "text": [
      "Date after 15 days: 2025-02-05 14:48:58.664468\n"
     ]
    }
   ],
   "source": [
    "def add_days_to_current_date(days):\n",
    "    current_datetime = datetime.now()\n",
    "    delta = timedelta(days=days)\n",
    "    return current_datetime + delta\n",
    "\n",
    "# Call the function\n",
    "print(\"Date after 15 days:\", add_days_to_current_date(15))"
   ]
  }
 ],
 "metadata": {
  "application/vnd.databricks.v1+notebook": {
   "computePreferences": null,
   "dashboards": [],
   "environmentMetadata": {
    "base_environment": "",
    "client": "1"
   },
   "language": "python",
   "notebookMetadata": {
    "pythonIndentUnit": 4
   },
   "notebookName": "11_How to find difference between two dates or times using datetime.timedelta()",
   "widgets": {}
  }
 },
 "nbformat": 4,
 "nbformat_minor": 0
}
