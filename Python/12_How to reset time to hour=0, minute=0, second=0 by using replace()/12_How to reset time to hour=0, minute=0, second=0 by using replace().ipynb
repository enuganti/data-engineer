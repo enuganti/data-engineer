{
 "cells": [
  {
   "cell_type": "markdown",
   "metadata": {
    "application/vnd.databricks.v1+cell": {
     "cellMetadata": {},
     "inputWidgets": {},
     "nuid": "4e9ced5f-a28f-42fe-92cb-95635f9535d8",
     "showTitle": false,
     "tableResultSettingsMap": {},
     "title": ""
    }
   },
   "source": [
    "**Why is .replace() needed?**\n",
    "- When you add **timedelta(days=1)**, it preserves the original time.\n",
    "- If current has a **non-midnight time** (e.g., 2024-02-14 15:45:30), then adding a day would result in:"
   ]
  },
  {
   "cell_type": "code",
   "execution_count": 0,
   "metadata": {
    "application/vnd.databricks.v1+cell": {
     "cellMetadata": {
      "byteLimit": 2048000,
      "rowLimit": 10000
     },
     "inputWidgets": {},
     "nuid": "15b897ed-85e9-481d-ac79-cd67db9e9c04",
     "showTitle": true,
     "tableResultSettingsMap": {},
     "title": "without .replace()"
    }
   },
   "outputs": [
    {
     "output_type": "stream",
     "name": "stdout",
     "output_type": "stream",
     "text": [
      "Current Date: 2024-02-14 15:45:30\nNext Day: 2024-02-15 15:45:30\n"
     ]
    }
   ],
   "source": [
    "import datetime\n",
    "\n",
    "current = datetime.datetime(2024, 2, 14, 15, 45, 30)\n",
    "next_day = current + datetime.timedelta(days=1)\n",
    "\n",
    "print(\"Current Date:\", current)\n",
    "print(\"Next Day:\", next_day)"
   ]
  },
  {
   "cell_type": "markdown",
   "metadata": {
    "application/vnd.databricks.v1+cell": {
     "cellMetadata": {},
     "inputWidgets": {},
     "nuid": "448dff1b-631c-455b-80b3-ac20128149ce",
     "showTitle": false,
     "tableResultSettingsMap": {},
     "title": ""
    }
   },
   "source": [
    "- If you want the **next day's** timestamp at **midnight (00:00:00)**, you must explicitly reset the time portion using **.replace(hour=0, minute=0, second=0)**."
   ]
  },
  {
   "cell_type": "code",
   "execution_count": 0,
   "metadata": {
    "application/vnd.databricks.v1+cell": {
     "cellMetadata": {
      "byteLimit": 2048000,
      "rowLimit": 10000
     },
     "inputWidgets": {},
     "nuid": "fe6c355c-1762-47f9-b027-9590b2de7e31",
     "showTitle": true,
     "tableResultSettingsMap": {},
     "title": "with .replace()"
    }
   },
   "outputs": [
    {
     "output_type": "stream",
     "name": "stdout",
     "output_type": "stream",
     "text": [
      "Current Date: 2024-02-14 22:30:00\nEnd Date: 2024-02-15 10:00:00\nNext Day: 2024-02-15 00:00:00\n"
     ]
    }
   ],
   "source": [
    "# Without min()\n",
    "from datetime import datetime, timedelta\n",
    "\n",
    "current = datetime(2024, 2, 14, 22, 30, 0)   # Feb 14, 2024, 10:30 PM\n",
    "end_date = datetime(2024, 2, 15, 10, 0, 0)   # Feb 15, 2024, 10:00 AM\n",
    "\n",
    "next_day = (current + timedelta(days=1)).replace(hour=0, minute=0, second=0)\n",
    "\n",
    "print(\"Current Date:\", current)\n",
    "print(\"End Date:\", end_date)\n",
    "print(\"Next Day:\", next_day)\n",
    "\n",
    "# Problem: What if end_date is 2024-02-15 10:00 AM?\n",
    "# We want next_interval to be the EARLIEST of next_day or end_date."
   ]
  },
  {
   "cell_type": "markdown",
   "metadata": {
    "application/vnd.databricks.v1+cell": {
     "cellMetadata": {},
     "inputWidgets": {},
     "nuid": "e719b7ea-3aa3-4557-bb8d-e03f6f05619f",
     "showTitle": false,
     "tableResultSettingsMap": {},
     "title": ""
    }
   },
   "source": [
    "%md\n",
    "     next_day = (current + timedelta(days=1)).replace(hour=0, minute=0, second=0)\n",
    "\n",
    "- The **.replace(hour=0, minute=0, second=0)** in your code is used to ensure that the **time** portion of the **datetime** object is set to **midnight (00:00:00)** while keeping the **date unchanged**.\n",
    "\n",
    "- **Adding one day and resetting time**\n",
    "  - **timedelta(days=1)** adds a **day**.\n",
    "  - **.replace(hour=0, minute=0, second=0)** resets the time to **midnight**."
   ]
  },
  {
   "cell_type": "code",
   "execution_count": 0,
   "metadata": {
    "application/vnd.databricks.v1+cell": {
     "cellMetadata": {
      "byteLimit": 2048000,
      "rowLimit": 10000
     },
     "inputWidgets": {},
     "nuid": "234666d5-7b73-4d76-9a44-aed28ec97394",
     "showTitle": true,
     "tableResultSettingsMap": {},
     "title": "With min()"
    }
   },
   "outputs": [
    {
     "output_type": "stream",
     "name": "stdout",
     "output_type": "stream",
     "text": [
      "Next Interval: 2024-02-15 00:00:00\n"
     ]
    }
   ],
   "source": [
    "# Explicitly referring to built-in functions\n",
    "import builtins\n",
    "\n",
    "next_interval = builtins.min(next_day, end_date)\n",
    "\n",
    "print(\"Next Interval:\", next_interval)\n",
    "# Output: 2024-02-15 00:00:00 (if next_day < end_date_01)\n",
    "# Output: 2024-02-15 10:00:00 (if next_day > end_date)"
   ]
  }
 ],
 "metadata": {
  "application/vnd.databricks.v1+notebook": {
   "computePreferences": null,
   "dashboards": [],
   "environmentMetadata": {
    "base_environment": "",
    "client": "1"
   },
   "language": "python",
   "notebookMetadata": {
    "pythonIndentUnit": 4
   },
   "notebookName": "12_How to reset time to hour=0, minute=0, second=0 by using replace()",
   "widgets": {}
  }
 },
 "nbformat": 4,
 "nbformat_minor": 0
}
