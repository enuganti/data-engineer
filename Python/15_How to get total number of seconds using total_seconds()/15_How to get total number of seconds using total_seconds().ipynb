{
 "cells": [
  {
   "cell_type": "markdown",
   "metadata": {
    "application/vnd.databricks.v1+cell": {
     "cellMetadata": {},
     "inputWidgets": {},
     "nuid": "a1d7fc60-8bfa-4904-a40e-2e0ae1ff9dd9",
     "showTitle": false,
     "tableResultSettingsMap": {},
     "title": ""
    }
   },
   "source": [
    "#### **total_seconds()**\n",
    "\n",
    "- The **total_seconds()** function is used to return the total number of **seconds** covered for the specified **duration of time instance**."
   ]
  },
  {
   "cell_type": "markdown",
   "metadata": {
    "application/vnd.databricks.v1+cell": {
     "cellMetadata": {},
     "inputWidgets": {},
     "nuid": "87bec4b0-973c-4ff3-abc6-69f97e74c502",
     "showTitle": false,
     "tableResultSettingsMap": {},
     "title": ""
    }
   },
   "source": [
    "**Syntax:**\n",
    "     \n",
    "      total_seconds()"
   ]
  },
  {
   "cell_type": "code",
   "execution_count": 0,
   "metadata": {
    "application/vnd.databricks.v1+cell": {
     "cellMetadata": {
      "byteLimit": 2048000,
      "rowLimit": 10000
     },
     "inputWidgets": {},
     "nuid": "6506c9b6-229c-4d27-baa4-c2d1fe5718a8",
     "showTitle": false,
     "tableResultSettingsMap": {},
     "title": ""
    }
   },
   "outputs": [],
   "source": [
    "# Importing time and timedelta module\n",
    "from datetime import time, timedelta, datetime"
   ]
  },
  {
   "cell_type": "code",
   "execution_count": 0,
   "metadata": {
    "application/vnd.databricks.v1+cell": {
     "cellMetadata": {
      "byteLimit": 2048000,
      "rowLimit": 10000
     },
     "inputWidgets": {},
     "nuid": "1ac86d84-08e2-4648-9c9b-0c03c6810869",
     "showTitle": false,
     "tableResultSettingsMap": {},
     "title": ""
    }
   },
   "outputs": [
    {
     "output_type": "stream",
     "name": "stdout",
     "output_type": "stream",
     "text": [
      "duration 0:55:00\nTotal seconds in 55 minutes: 3300.0\n"
     ]
    }
   ],
   "source": [
    "# For getting total seconds for the given duration of time\n",
    " \n",
    "# Specifying a time duration\n",
    "duration = timedelta(minutes = 55)\n",
    "print(\"duration\", duration)\n",
    " \n",
    "totalsecond = duration.total_seconds()\n",
    " \n",
    "# Getting the Total seconds for the duration of 55 minutes\n",
    "print(\"Total seconds in 55 minutes:\", totalsecond)"
   ]
  },
  {
   "cell_type": "code",
   "execution_count": 0,
   "metadata": {
    "application/vnd.databricks.v1+cell": {
     "cellMetadata": {
      "byteLimit": 2048000,
      "rowLimit": 10000
     },
     "inputWidgets": {},
     "nuid": "5aeab962-39f6-4a4e-8f5b-e5542d2ac5a5",
     "showTitle": false,
     "tableResultSettingsMap": {},
     "title": ""
    }
   },
   "outputs": [
    {
     "output_type": "stream",
     "name": "stdout",
     "output_type": "stream",
     "text": [
      "duration -1 day, 23:21:00\nTotal seconds in -3*13 minutes: -2340.0\n"
     ]
    }
   ],
   "source": [
    "# For getting total seconds for the given duration of time\n",
    " \n",
    "# Specifying a time duration\n",
    "duration = timedelta(minutes = -3*13)\n",
    "print(\"duration\", duration)\n",
    " \n",
    "totalsecond = duration.total_seconds()\n",
    " \n",
    "# Getting the Total seconds for the duration of 55 minutes\n",
    "print(\"Total seconds in -3*13 minutes:\", totalsecond)"
   ]
  },
  {
   "cell_type": "code",
   "execution_count": 0,
   "metadata": {
    "application/vnd.databricks.v1+cell": {
     "cellMetadata": {
      "byteLimit": 2048000,
      "rowLimit": 10000
     },
     "inputWidgets": {},
     "nuid": "d0db9820-35be-4695-8711-98f74867b600",
     "showTitle": false,
     "tableResultSettingsMap": {},
     "title": ""
    }
   },
   "outputs": [
    {
     "output_type": "stream",
     "name": "stdout",
     "output_type": "stream",
     "text": [
      "timediff 2 days, 5:30:15\nTotal seconds: 192615.0\n"
     ]
    }
   ],
   "source": [
    "from datetime import timedelta\n",
    "\n",
    "# Create a timedelta of 2 days, 5 hours, 30 minutes, and 15 seconds\n",
    "time_difference = timedelta(days=2, hours=5, minutes=30, seconds=15)\n",
    "print(\"timediff\", time_difference)\n",
    "\n",
    "# Get total seconds\n",
    "total_secs = time_difference.total_seconds()\n",
    "\n",
    "print(\"Total seconds:\", total_secs)"
   ]
  },
  {
   "cell_type": "markdown",
   "metadata": {
    "application/vnd.databricks.v1+cell": {
     "cellMetadata": {},
     "inputWidgets": {},
     "nuid": "fe9bdbd5-2299-4a18-9171-6cdf4b3f1d4b",
     "showTitle": false,
     "tableResultSettingsMap": {},
     "title": ""
    }
   },
   "source": [
    "     2 days      =  172800 seconds\n",
    "     5 hours     =  18000  seconds\n",
    "     30 minutes  =  1800   seconds\n",
    "     15 seconds  =  15     seconds\n",
    "     -----------------------------\n",
    "     Total       =  189015 seconds\n",
    "     -----------------------------"
   ]
  },
  {
   "cell_type": "code",
   "execution_count": 0,
   "metadata": {
    "application/vnd.databricks.v1+cell": {
     "cellMetadata": {
      "byteLimit": 2048000,
      "rowLimit": 10000
     },
     "inputWidgets": {},
     "nuid": "e39f467a-eec7-4aa3-bc7a-31a881950b24",
     "showTitle": false,
     "tableResultSettingsMap": {},
     "title": ""
    }
   },
   "outputs": [
    {
     "output_type": "stream",
     "name": "stdout",
     "output_type": "stream",
     "text": [
      "datetime: 2 days, 3:43:35\nTotal seconds are: 186215.0\nTotal Hours are: 51.0\n"
     ]
    }
   ],
   "source": [
    "# Specifying a time duration\n",
    "date1 = timedelta(days = 2,\n",
    "                  hours = 3,\n",
    "                  minutes = 43,\n",
    "                  seconds = 35)\n",
    " \n",
    "totalsecond = date1.total_seconds()\n",
    "totalHours = date1.total_seconds() // 3600\n",
    " \n",
    "# Getting the Total seconds\n",
    "print(\"datetime:\", date1)\n",
    "print(\"Total seconds are:\", totalsecond)\n",
    "print(\"Total Hours are:\", totalHours)"
   ]
  },
  {
   "cell_type": "code",
   "execution_count": 0,
   "metadata": {
    "application/vnd.databricks.v1+cell": {
     "cellMetadata": {
      "byteLimit": 2048000,
      "rowLimit": 10000
     },
     "inputWidgets": {},
     "nuid": "3194a2c6-b506-40d6-8ced-c3435f84ebce",
     "showTitle": false,
     "tableResultSettingsMap": {},
     "title": ""
    }
   },
   "outputs": [
    {
     "output_type": "stream",
     "name": "stdout",
     "output_type": "stream",
     "text": [
      "datetime: 3:40:00\nTotal seconds are: 13200.0\nTotal Hours are: 3.7\nTotal Hours are: 3.0\n"
     ]
    }
   ],
   "source": [
    "# Specifying a time duration\n",
    "date2 = timedelta(minutes = 220)\n",
    "\n",
    "totalsecond1 = date2.total_seconds()\n",
    "totalHours1 = round(date2.total_seconds() / 3600, 1)\n",
    "totalHours2 = date2.total_seconds() // 3600\n",
    " \n",
    "# Getting the Total seconds\n",
    "print(\"datetime:\", date2)\n",
    "print(\"Total seconds are:\", totalsecond1)\n",
    "print(\"Total Hours are:\", totalHours1)\n",
    "print(\"Total Hours are:\", totalHours2)"
   ]
  },
  {
   "cell_type": "markdown",
   "metadata": {
    "application/vnd.databricks.v1+cell": {
     "cellMetadata": {},
     "inputWidgets": {},
     "nuid": "35983607-47e2-45c6-a79b-da7fbeb6a8d9",
     "showTitle": false,
     "tableResultSettingsMap": {},
     "title": ""
    }
   },
   "source": [
    "**1) Calculate Difference Between Two Datetimes**"
   ]
  },
  {
   "cell_type": "code",
   "execution_count": 0,
   "metadata": {
    "application/vnd.databricks.v1+cell": {
     "cellMetadata": {
      "byteLimit": 2048000,
      "rowLimit": 10000
     },
     "inputWidgets": {},
     "nuid": "03e9647c-e38a-49f2-8f87-d5112e8bfc9b",
     "showTitle": false,
     "tableResultSettingsMap": {},
     "title": ""
    }
   },
   "outputs": [
    {
     "output_type": "stream",
     "name": "stdout",
     "output_type": "stream",
     "text": [
      "Time difference 2 days, 6:15:30\nTime difference in seconds: 195330.0\n"
     ]
    }
   ],
   "source": [
    "from datetime import datetime\n",
    "\n",
    "# Define two datetime objects\n",
    "start_time = datetime(2024, 2, 10, 8, 30, 0)  # Feb 10, 2024, 08:30:00\n",
    "end_time = datetime(2024, 2, 12, 14, 45, 30)  # Feb 12, 2024, 14:45:30\n",
    "\n",
    "# Calculate time difference\n",
    "time_diff = end_time - start_time\n",
    "\n",
    "# Convert to total seconds\n",
    "print(\"Time difference\", time_diff)\n",
    "print(\"Time difference in seconds:\", time_diff.total_seconds())"
   ]
  },
  {
   "cell_type": "markdown",
   "metadata": {
    "application/vnd.databricks.v1+cell": {
     "cellMetadata": {},
     "inputWidgets": {},
     "nuid": "53ac1c60-8329-4fe3-a06b-2636b4bbc424",
     "showTitle": false,
     "tableResultSettingsMap": {},
     "title": ""
    }
   },
   "source": [
    "- This accounts for **2 days, 6 hours, 15 minutes, and 30 seconds**."
   ]
  },
  {
   "cell_type": "markdown",
   "metadata": {
    "application/vnd.databricks.v1+cell": {
     "cellMetadata": {},
     "inputWidgets": {},
     "nuid": "2b54010c-355a-4dfe-92d8-6476d58edf32",
     "showTitle": false,
     "tableResultSettingsMap": {},
     "title": ""
    }
   },
   "source": [
    "**2) Use Case: Check if a Time Difference Exceeds a Limit**"
   ]
  },
  {
   "cell_type": "code",
   "execution_count": 0,
   "metadata": {
    "application/vnd.databricks.v1+cell": {
     "cellMetadata": {
      "byteLimit": 2048000,
      "rowLimit": 10000
     },
     "inputWidgets": {},
     "nuid": "0423ee03-d4b0-4547-ae4f-f6e56bef07e1",
     "showTitle": false,
     "tableResultSettingsMap": {},
     "title": ""
    }
   },
   "outputs": [
    {
     "output_type": "stream",
     "name": "stdout",
     "output_type": "stream",
     "text": [
      "Starting time: 2024-02-14 12:00:00\ntime limit: 2 days, 0:00:00\nCurrent time: 2024-02-16 14:30:00\nelapsed time: 2 days, 2:30:00\n\nTime limit exceeded!\n"
     ]
    }
   ],
   "source": [
    "from datetime import datetime, timedelta\n",
    "\n",
    "# Define start time and limit (e.g., 48 hours)\n",
    "start_time = datetime(2024, 2, 14, 12, 0, 0)\n",
    "time_limit = timedelta(hours=48)\n",
    "\n",
    "# Get current time\n",
    "current_time = datetime(2024, 2, 16, 14, 30, 0)\n",
    "\n",
    "# Check if exceeded\n",
    "time_elapsed = current_time - start_time\n",
    "\n",
    "print(\"Starting time:\", start_time)\n",
    "print(\"time limit:\", time_limit)\n",
    "print(\"Current time:\", current_time)\n",
    "print(\"elapsed time:\", time_elapsed)\n",
    "\n",
    "if time_elapsed.total_seconds() > time_limit.total_seconds():\n",
    "    print(\"\\nTime limit exceeded!\")\n",
    "else:\n",
    "    print(\"\\nStill within the time limit.\")"
   ]
  },
  {
   "cell_type": "markdown",
   "metadata": {
    "application/vnd.databricks.v1+cell": {
     "cellMetadata": {},
     "inputWidgets": {},
     "nuid": "7ba08373-54d4-463b-9aaf-50ac38913b37",
     "showTitle": false,
     "tableResultSettingsMap": {},
     "title": ""
    }
   },
   "source": [
    "**3) Convert Seconds Back to Days, Hours, and Minutes**"
   ]
  },
  {
   "cell_type": "code",
   "execution_count": 0,
   "metadata": {
    "application/vnd.databricks.v1+cell": {
     "cellMetadata": {
      "byteLimit": 2048000,
      "rowLimit": 10000
     },
     "inputWidgets": {},
     "nuid": "ea03310a-e9bd-411d-bf2f-6ef98a6dab57",
     "showTitle": false,
     "tableResultSettingsMap": {},
     "title": ""
    }
   },
   "outputs": [
    {
     "output_type": "stream",
     "name": "stdout",
     "output_type": "stream",
     "text": [
      "timediff 2 days, 21:26:40\nEquivalent Time: 2 days, 21 hours, 26 minutes, 40 seconds\n"
     ]
    }
   ],
   "source": [
    "from datetime import timedelta\n",
    "\n",
    "# Example total seconds\n",
    "total_seconds = 250000  \n",
    "\n",
    "# Convert back to timedelta\n",
    "time_diff = timedelta(seconds=total_seconds)\n",
    "print(\"timediff\", time_diff)\n",
    "\n",
    "# Extract days, hours, minutes, seconds\n",
    "days = time_diff.days\n",
    "hours, remainder = divmod(time_diff.seconds, 3600)\n",
    "minutes, seconds = divmod(remainder, 60)\n",
    "\n",
    "print(f\"Equivalent Time: {days} days, {hours} hours, {minutes} minutes, {seconds} seconds\")"
   ]
  }
 ],
 "metadata": {
  "application/vnd.databricks.v1+notebook": {
   "computePreferences": null,
   "dashboards": [],
   "environmentMetadata": {
    "base_environment": "",
    "client": "1"
   },
   "language": "python",
   "notebookMetadata": {
    "pythonIndentUnit": 4
   },
   "notebookName": "15_How to get total number of seconds using total_seconds()",
   "widgets": {}
  }
 },
 "nbformat": 4,
 "nbformat_minor": 0
}
