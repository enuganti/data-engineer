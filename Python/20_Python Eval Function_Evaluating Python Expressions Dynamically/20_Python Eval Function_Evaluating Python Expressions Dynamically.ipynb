{
 "cells": [
  {
   "cell_type": "markdown",
   "metadata": {
    "application/vnd.databricks.v1+cell": {
     "cellMetadata": {},
     "inputWidgets": {},
     "nuid": "17fb37d1-ded3-4c3b-a3be-46023d86b274",
     "showTitle": false,
     "tableResultSettingsMap": {},
     "title": ""
    }
   },
   "source": [
    "#### **eval()**\n",
    "\n",
    "- The **eval()** function **evaluates the specified expression, if the expression is a legal Python statement**, it will be **executed**.\n",
    "\n",
    "- The Python eval() is a **built-in function** that allows us to **evaluate** the Python expression as a **‘string’** and return the value as an **integer**."
   ]
  },
  {
   "cell_type": "markdown",
   "metadata": {
    "application/vnd.databricks.v1+cell": {
     "cellMetadata": {},
     "inputWidgets": {},
     "nuid": "e2096c39-3bec-49fb-b21a-6612eef050fd",
     "showTitle": false,
     "tableResultSettingsMap": {},
     "title": ""
    }
   },
   "source": [
    "**Syntax:**\n",
    "\n",
    "     eval(expression, globals=None, locals=None)\n",
    "\n",
    "**Parameters:**\n",
    "\n",
    "- **expression:**\n",
    "  - String is parsed and evaluated as a Python expression\n",
    "- **globals [optional]:**\n",
    "  - Dictionary to specify the available global methods and variables.\n",
    "- **locals [optional]:**\n",
    "  - Another dictionary to specify the available local methods and variables.\n",
    "- **Return:**\n",
    "  - Returns output of the expression."
   ]
  },
  {
   "cell_type": "code",
   "execution_count": 0,
   "metadata": {
    "application/vnd.databricks.v1+cell": {
     "cellMetadata": {
      "byteLimit": 2048000,
      "rowLimit": 10000
     },
     "inputWidgets": {},
     "nuid": "524fa2f7-063d-479e-aaea-6d3795130915",
     "showTitle": false,
     "tableResultSettingsMap": {},
     "title": ""
    }
   },
   "outputs": [
    {
     "output_type": "display_data",
     "data": {
      "text/plain": [
       "\u001B[0;31m---------------------------------------------------------------------------\u001B[0m\n",
       "\u001B[0;31mTypeError\u001B[0m                                 Traceback (most recent call last)\n",
       "File \u001B[0;32m<command-4390887525067962>, line 1\u001B[0m\n",
       "\u001B[0;32m----> 1\u001B[0m \u001B[38;5;28meval\u001B[39m()\n",
       "\n",
       "\u001B[0;31mTypeError\u001B[0m: eval expected at least 1 argument, got 0"
      ]
     },
     "metadata": {
      "application/vnd.databricks.v1+output": {
       "addedWidgets": {},
       "arguments": {},
       "datasetInfos": [],
       "jupyterProps": {
        "ename": "TypeError",
        "evalue": "eval expected at least 1 argument, got 0"
       },
       "metadata": {
        "errorSummary": "<span class='ansi-red-fg'>TypeError</span>: eval expected at least 1 argument, got 0"
       },
       "removedWidgets": [],
       "sqlProps": null,
       "stackFrames": [
        "\u001B[0;31m---------------------------------------------------------------------------\u001B[0m",
        "\u001B[0;31mTypeError\u001B[0m                                 Traceback (most recent call last)",
        "File \u001B[0;32m<command-4390887525067962>, line 1\u001B[0m\n\u001B[0;32m----> 1\u001B[0m \u001B[38;5;28meval\u001B[39m()\n",
        "\u001B[0;31mTypeError\u001B[0m: eval expected at least 1 argument, got 0"
       ],
       "type": "baseError"
      }
     },
     "output_type": "display_data"
    }
   ],
   "source": [
    "eval()"
   ]
  },
  {
   "cell_type": "code",
   "execution_count": 0,
   "metadata": {
    "application/vnd.databricks.v1+cell": {
     "cellMetadata": {
      "byteLimit": 2048000,
      "rowLimit": 10000
     },
     "inputWidgets": {},
     "nuid": "a9d6383f-0921-40d7-aac0-8b9c54222b40",
     "showTitle": false,
     "tableResultSettingsMap": {},
     "title": ""
    }
   },
   "outputs": [
    {
     "output_type": "display_data",
     "data": {
      "text/plain": [
       "\u001B[0;31m---------------------------------------------------------------------------\u001B[0m\n",
       "\u001B[0;31mTypeError\u001B[0m                                 Traceback (most recent call last)\n",
       "File \u001B[0;32m<command-2496109607020387>, line 1\u001B[0m\n",
       "\u001B[0;32m----> 1\u001B[0m \u001B[38;5;28meval\u001B[39m(\u001B[38;5;241m1\u001B[39m)\n",
       "\n",
       "\u001B[0;31mTypeError\u001B[0m: eval() arg 1 must be a string, bytes or code object"
      ]
     },
     "metadata": {
      "application/vnd.databricks.v1+output": {
       "addedWidgets": {},
       "arguments": {},
       "datasetInfos": [],
       "jupyterProps": {
        "ename": "TypeError",
        "evalue": "eval() arg 1 must be a string, bytes or code object"
       },
       "metadata": {
        "errorSummary": "<span class='ansi-red-fg'>TypeError</span>: eval() arg 1 must be a string, bytes or code object"
       },
       "removedWidgets": [],
       "sqlProps": null,
       "stackFrames": [
        "\u001B[0;31m---------------------------------------------------------------------------\u001B[0m",
        "\u001B[0;31mTypeError\u001B[0m                                 Traceback (most recent call last)",
        "File \u001B[0;32m<command-2496109607020387>, line 1\u001B[0m\n\u001B[0;32m----> 1\u001B[0m \u001B[38;5;28meval\u001B[39m(\u001B[38;5;241m1\u001B[39m)\n",
        "\u001B[0;31mTypeError\u001B[0m: eval() arg 1 must be a string, bytes or code object"
       ],
       "type": "baseError"
      }
     },
     "output_type": "display_data"
    }
   ],
   "source": [
    "eval(1)"
   ]
  },
  {
   "cell_type": "code",
   "execution_count": 0,
   "metadata": {
    "application/vnd.databricks.v1+cell": {
     "cellMetadata": {
      "byteLimit": 2048000,
      "rowLimit": 10000
     },
     "inputWidgets": {},
     "nuid": "0dc86017-3690-48a4-8923-ca10beb51e13",
     "showTitle": false,
     "tableResultSettingsMap": {},
     "title": ""
    }
   },
   "outputs": [
    {
     "output_type": "stream",
     "name": "stdout",
     "output_type": "stream",
     "text": [
      "1 <class 'int'>\n"
     ]
    }
   ],
   "source": [
    "a = eval(\"1\")\n",
    "print(a, type(a))"
   ]
  },
  {
   "cell_type": "code",
   "execution_count": 0,
   "metadata": {
    "application/vnd.databricks.v1+cell": {
     "cellMetadata": {
      "byteLimit": 2048000,
      "rowLimit": 10000
     },
     "inputWidgets": {},
     "nuid": "817d6bbd-0e44-4fd2-bed7-41f709f2b628",
     "showTitle": false,
     "tableResultSettingsMap": {},
     "title": ""
    }
   },
   "outputs": [
    {
     "output_type": "stream",
     "name": "stdout",
     "output_type": "stream",
     "text": [
      "-1 <class 'int'>\n"
     ]
    }
   ],
   "source": [
    "b = eval(\"-1\")\n",
    "print(b, type(b))"
   ]
  },
  {
   "cell_type": "code",
   "execution_count": 0,
   "metadata": {
    "application/vnd.databricks.v1+cell": {
     "cellMetadata": {
      "byteLimit": 2048000,
      "rowLimit": 10000
     },
     "inputWidgets": {},
     "nuid": "02c9ec40-ad43-4321-9405-f2a49e9601b2",
     "showTitle": true,
     "tableResultSettingsMap": {},
     "title": "integer 5 without eval"
    }
   },
   "outputs": [
    {
     "output_type": "display_data",
     "data": {
      "text/plain": [
       "Enter Something: 5"
      ]
     },
     "metadata": {},
     "output_type": "display_data"
    },
    {
     "output_type": "stream",
     "name": "stdout",
     "output_type": "stream",
     "text": [
      "5 <class 'str'>\n"
     ]
    }
   ],
   "source": [
    "x = input('Enter Something:')\n",
    "print(x, type(x))"
   ]
  },
  {
   "cell_type": "code",
   "execution_count": 0,
   "metadata": {
    "application/vnd.databricks.v1+cell": {
     "cellMetadata": {
      "byteLimit": 2048000,
      "rowLimit": 10000
     },
     "inputWidgets": {},
     "nuid": "3ee96028-c0df-4ab4-888f-a06ecdedada8",
     "showTitle": true,
     "tableResultSettingsMap": {},
     "title": "integer 10"
    }
   },
   "outputs": [
    {
     "output_type": "display_data",
     "data": {
      "text/plain": [
       "Enter Something: 10"
      ]
     },
     "metadata": {},
     "output_type": "display_data"
    },
    {
     "output_type": "stream",
     "name": "stdout",
     "output_type": "stream",
     "text": [
      "10 <class 'int'>\n"
     ]
    }
   ],
   "source": [
    "x = eval(input('Enter Something:'))\n",
    "print(x, type(x))"
   ]
  },
  {
   "cell_type": "code",
   "execution_count": 0,
   "metadata": {
    "application/vnd.databricks.v1+cell": {
     "cellMetadata": {
      "byteLimit": 2048000,
      "rowLimit": 10000
     },
     "inputWidgets": {},
     "nuid": "24255317-04fd-44bf-986b-0faeccd79fe1",
     "showTitle": true,
     "tableResultSettingsMap": {},
     "title": "float 10.5"
    }
   },
   "outputs": [
    {
     "output_type": "display_data",
     "data": {
      "text/plain": [
       "Enter Something: 10.5"
      ]
     },
     "metadata": {},
     "output_type": "display_data"
    },
    {
     "output_type": "stream",
     "name": "stdout",
     "output_type": "stream",
     "text": [
      "10.5 <class 'float'>\n"
     ]
    }
   ],
   "source": [
    "x = eval(input('Enter Something:'))\n",
    "print(x, type(x))"
   ]
  },
  {
   "cell_type": "code",
   "execution_count": 0,
   "metadata": {
    "application/vnd.databricks.v1+cell": {
     "cellMetadata": {
      "byteLimit": 2048000,
      "rowLimit": 10000
     },
     "inputWidgets": {},
     "nuid": "ff0e77c2-40db-48f5-9d9b-b65277e6e6ff",
     "showTitle": true,
     "tableResultSettingsMap": {},
     "title": "Boolean value: True"
    }
   },
   "outputs": [
    {
     "output_type": "display_data",
     "data": {
      "text/plain": [
       "Enter Something: True"
      ]
     },
     "metadata": {},
     "output_type": "display_data"
    },
    {
     "output_type": "stream",
     "name": "stdout",
     "output_type": "stream",
     "text": [
      "True <class 'bool'>\n"
     ]
    }
   ],
   "source": [
    "x = eval(input('Enter Something:'))\n",
    "print(x, type(x))"
   ]
  },
  {
   "cell_type": "code",
   "execution_count": 0,
   "metadata": {
    "application/vnd.databricks.v1+cell": {
     "cellMetadata": {
      "byteLimit": 2048000,
      "rowLimit": 10000
     },
     "inputWidgets": {},
     "nuid": "5b30f0e1-2df4-4d99-a2eb-dfac5c5c7247",
     "showTitle": true,
     "tableResultSettingsMap": {},
     "title": "enter string: 'suresh'"
    }
   },
   "outputs": [
    {
     "output_type": "display_data",
     "data": {
      "text/plain": [
       "Enter Something: 'suresh'"
      ]
     },
     "metadata": {},
     "output_type": "display_data"
    },
    {
     "output_type": "stream",
     "name": "stdout",
     "output_type": "stream",
     "text": [
      "suresh <class 'str'>\n"
     ]
    }
   ],
   "source": [
    "x = eval(input('Enter Something:'))\n",
    "print(x, type(x))"
   ]
  },
  {
   "cell_type": "code",
   "execution_count": 0,
   "metadata": {
    "application/vnd.databricks.v1+cell": {
     "cellMetadata": {
      "byteLimit": 2048000,
      "rowLimit": 10000
     },
     "inputWidgets": {},
     "nuid": "d39395fe-6b8f-4ff4-b84d-a5c8ee04c3f2",
     "showTitle": true,
     "tableResultSettingsMap": {},
     "title": "Enter List: [10, 20, 30]"
    }
   },
   "outputs": [
    {
     "output_type": "display_data",
     "data": {
      "text/plain": [
       "Enter Something: [10, 20, 30]"
      ]
     },
     "metadata": {},
     "output_type": "display_data"
    },
    {
     "output_type": "stream",
     "name": "stdout",
     "output_type": "stream",
     "text": [
      "[10, 20, 30] <class 'list'>\n"
     ]
    }
   ],
   "source": [
    "x = eval(input('Enter Something:'))\n",
    "print(x, type(x))"
   ]
  },
  {
   "cell_type": "code",
   "execution_count": 0,
   "metadata": {
    "application/vnd.databricks.v1+cell": {
     "cellMetadata": {
      "byteLimit": 2048000,
      "rowLimit": 10000
     },
     "inputWidgets": {},
     "nuid": "231f9a60-d7ae-484e-94af-3289be08a532",
     "showTitle": true,
     "tableResultSettingsMap": {},
     "title": "Enter Tuple: (10, 20, 30)"
    }
   },
   "outputs": [
    {
     "output_type": "display_data",
     "data": {
      "text/plain": [
       "Enter Something:  (10, 20, 30)"
      ]
     },
     "metadata": {},
     "output_type": "display_data"
    },
    {
     "output_type": "stream",
     "name": "stdout",
     "output_type": "stream",
     "text": [
      "(10, 20, 30) <class 'tuple'>\n"
     ]
    }
   ],
   "source": [
    "x = eval(input('Enter Something: '))\n",
    "print(x, type(x))"
   ]
  },
  {
   "cell_type": "code",
   "execution_count": 0,
   "metadata": {
    "application/vnd.databricks.v1+cell": {
     "cellMetadata": {
      "byteLimit": 2048000,
      "rowLimit": 10000
     },
     "inputWidgets": {},
     "nuid": "0a109524-1560-4e2b-9ce2-952d4c51cf2e",
     "showTitle": true,
     "tableResultSettingsMap": {},
     "title": "Enter tuple: (10)"
    }
   },
   "outputs": [
    {
     "output_type": "display_data",
     "data": {
      "text/plain": [
       "Enter Something:  (10)"
      ]
     },
     "metadata": {},
     "output_type": "display_data"
    },
    {
     "output_type": "stream",
     "name": "stdout",
     "output_type": "stream",
     "text": [
      "10 <class 'int'>\n"
     ]
    }
   ],
   "source": [
    "x = eval(input('Enter Something: '))\n",
    "print(x, type(x))"
   ]
  },
  {
   "cell_type": "code",
   "execution_count": 0,
   "metadata": {
    "application/vnd.databricks.v1+cell": {
     "cellMetadata": {
      "byteLimit": 2048000,
      "rowLimit": 10000
     },
     "inputWidgets": {},
     "nuid": "2489e1e3-9527-4d34-8b3e-d2088bd67197",
     "showTitle": true,
     "tableResultSettingsMap": {},
     "title": "Enter tuple: (10,)"
    }
   },
   "outputs": [
    {
     "output_type": "display_data",
     "data": {
      "text/plain": [
       "Enter Something:  (10,)"
      ]
     },
     "metadata": {},
     "output_type": "display_data"
    },
    {
     "output_type": "stream",
     "name": "stdout",
     "output_type": "stream",
     "text": [
      "(10,) <class 'tuple'>\n"
     ]
    }
   ],
   "source": [
    "x = eval(input('Enter Something: '))\n",
    "print(x, type(x))"
   ]
  },
  {
   "cell_type": "code",
   "execution_count": 0,
   "metadata": {
    "application/vnd.databricks.v1+cell": {
     "cellMetadata": {
      "byteLimit": 2048000,
      "rowLimit": 10000
     },
     "inputWidgets": {},
     "nuid": "1991e49e-b340-44ea-8d40-c1a90199f7aa",
     "showTitle": true,
     "tableResultSettingsMap": {},
     "title": "data type: sum of integers"
    }
   },
   "outputs": [
    {
     "output_type": "stream",
     "name": "stdout",
     "output_type": "stream",
     "text": [
      "60 <class 'int'>\n10.0 <class 'float'>\n"
     ]
    }
   ],
   "source": [
    "x = eval(\"10+20+30\")\n",
    "print(x, type(x))\n",
    "\n",
    "y = eval(\"10+20/3**4//5*40\")\n",
    "print(y, type(y))"
   ]
  },
  {
   "cell_type": "code",
   "execution_count": 0,
   "metadata": {
    "application/vnd.databricks.v1+cell": {
     "cellMetadata": {
      "byteLimit": 2048000,
      "rowLimit": 10000
     },
     "inputWidgets": {},
     "nuid": "df422b05-6091-40fe-9923-82a62adc915c",
     "showTitle": true,
     "tableResultSettingsMap": {},
     "title": "data types: sum of integers, float"
    }
   },
   "outputs": [
    {
     "output_type": "stream",
     "name": "stdout",
     "output_type": "stream",
     "text": [
      "256 <class 'int'>\n2048.8 <class 'float'>\n56 <class 'int'>\nArithmetic 01:  12 <class 'int'>\nArithmetic 02:  35 <class 'int'>\nArithmetic 03:  78125 <class 'int'>\nArithmetic 04:  6.0 <class 'float'>\n"
     ]
    }
   ],
   "source": [
    "a = eval(\"2 ** 8\")\n",
    "print(a, type(a))\n",
    "\n",
    "b = eval(\"1024.5 + 1024.3\")\n",
    "print(b, type(b))\n",
    "\n",
    "c = eval(\"sum([8, 16, 32])\")\n",
    "print(c, type(c))\n",
    "\n",
    "# Arithmetic operations\n",
    "arth1 = eval(\"5 + 7\")\n",
    "print(\"Arithmetic 01: \", arth1, type(arth1))\n",
    "\n",
    "arth2 = eval(\"5 * 7\")\n",
    "print(\"Arithmetic 02: \", arth2, type(arth2))\n",
    "\n",
    "arth3 = eval(\"5 ** 7\")\n",
    "print(\"Arithmetic 03: \", arth3, type(arth3))\n",
    "\n",
    "arth4 = eval(\"(5 + 7) / 2\")\n",
    "print(\"Arithmetic 04: \", arth4, type(arth4))"
   ]
  },
  {
   "cell_type": "code",
   "execution_count": 0,
   "metadata": {
    "application/vnd.databricks.v1+cell": {
     "cellMetadata": {
      "byteLimit": 2048000,
      "rowLimit": 10000
     },
     "inputWidgets": {},
     "nuid": "bdb9b8f8-8c26-4cb6-8a95-c97db0c40a8e",
     "showTitle": true,
     "tableResultSettingsMap": {},
     "title": "data type: square root"
    }
   },
   "outputs": [
    {
     "output_type": "stream",
     "name": "stdout",
     "output_type": "stream",
     "text": [
      "200 <class 'int'>\n"
     ]
    }
   ],
   "source": [
    "x = 100\n",
    "sqr = eval(\"x * 2\")\n",
    "print(sqr, type(sqr))"
   ]
  },
  {
   "cell_type": "code",
   "execution_count": 0,
   "metadata": {
    "application/vnd.databricks.v1+cell": {
     "cellMetadata": {
      "byteLimit": 2048000,
      "rowLimit": 10000
     },
     "inputWidgets": {},
     "nuid": "241fdfcc-f6e3-4237-b9e6-9624c021df45",
     "showTitle": true,
     "tableResultSettingsMap": {},
     "title": "data type: boolean"
    }
   },
   "outputs": [
    {
     "output_type": "stream",
     "name": "stdout",
     "output_type": "stream",
     "text": [
      "False <class 'bool'>\nTrue <class 'bool'>\nFalse <class 'bool'>\n"
     ]
    }
   ],
   "source": [
    "x = 100\n",
    "y = 100\n",
    "cond = eval(\"x != y\")\n",
    "print(cond, type(cond))\n",
    "\n",
    "cond1 = eval(\"x is y\")\n",
    "print(cond1, type(cond1))\n",
    "\n",
    "boole = eval(\"x < 200 and y > 100\")\n",
    "print(boole, type(boole))"
   ]
  },
  {
   "cell_type": "code",
   "execution_count": 0,
   "metadata": {
    "application/vnd.databricks.v1+cell": {
     "cellMetadata": {
      "byteLimit": 2048000,
      "rowLimit": 10000
     },
     "inputWidgets": {},
     "nuid": "c6dee8bf-4ac3-4c73-9efa-6d34ac1d0423",
     "showTitle": true,
     "tableResultSettingsMap": {},
     "title": "data type: boolean"
    }
   },
   "outputs": [
    {
     "output_type": "stream",
     "name": "stdout",
     "output_type": "stream",
     "text": [
      "True <class 'bool'>\n"
     ]
    }
   ],
   "source": [
    "x = 100\n",
    "in_ope = eval(\"x in {50, 100, 150, 200}\")\n",
    "print(in_ope, type(in_ope))"
   ]
  },
  {
   "cell_type": "code",
   "execution_count": 0,
   "metadata": {
    "application/vnd.databricks.v1+cell": {
     "cellMetadata": {
      "byteLimit": 2048000,
      "rowLimit": 10000
     },
     "inputWidgets": {},
     "nuid": "b496a547-6d71-4d28-b427-140f56ddf600",
     "showTitle": true,
     "tableResultSettingsMap": {},
     "title": "len([3,5,7,9,12,15])"
    }
   },
   "outputs": [
    {
     "output_type": "display_data",
     "data": {
      "text/plain": [
       "Enter the python expression:  len([3,5,7,9,12,15])"
      ]
     },
     "metadata": {},
     "output_type": "display_data"
    },
    {
     "output_type": "stream",
     "name": "stdout",
     "output_type": "stream",
     "text": [
      "6 <class 'int'>\n"
     ]
    }
   ],
   "source": [
    "lengt = eval(input(\"Enter the python expression: \"))\n",
    "print(lengt, type(lengt))"
   ]
  },
  {
   "cell_type": "code",
   "execution_count": 0,
   "metadata": {
    "application/vnd.databricks.v1+cell": {
     "cellMetadata": {
      "byteLimit": 2048000,
      "rowLimit": 10000
     },
     "inputWidgets": {},
     "nuid": "2663debf-aed2-4c73-9c22-bcbd6245233c",
     "showTitle": true,
     "tableResultSettingsMap": {},
     "title": "Find sum of List: sum([1,2,3,4,5])"
    }
   },
   "outputs": [
    {
     "output_type": "display_data",
     "data": {
      "text/plain": [
       "Enter the python expression:  sum([1,2,3,4,5])"
      ]
     },
     "metadata": {},
     "output_type": "display_data"
    },
    {
     "output_type": "stream",
     "name": "stdout",
     "output_type": "stream",
     "text": [
      "15 <class 'int'>\n"
     ]
    }
   ],
   "source": [
    "summ = eval(input(\"Enter the python expression: \"))\n",
    "print(summ, type(summ))"
   ]
  },
  {
   "cell_type": "code",
   "execution_count": 0,
   "metadata": {
    "application/vnd.databricks.v1+cell": {
     "cellMetadata": {
      "byteLimit": 2048000,
      "rowLimit": 10000
     },
     "inputWidgets": {},
     "nuid": "a72b04d9-7a23-48c1-9831-5daaf5f46f02",
     "showTitle": true,
     "tableResultSettingsMap": {},
     "title": "Enter 50, 50"
    }
   },
   "outputs": [
    {
     "output_type": "display_data",
     "data": {
      "text/plain": [
       "Enter No 1:  50"
      ]
     },
     "metadata": {},
     "output_type": "display_data"
    },
    {
     "output_type": "display_data",
     "data": {
      "text/plain": [
       "Enter No 2:  50"
      ]
     },
     "metadata": {},
     "output_type": "display_data"
    },
    {
     "output_type": "stream",
     "name": "stdout",
     "output_type": "stream",
     "text": [
      "Sum: 5050 <class 'str'>\n"
     ]
    }
   ],
   "source": [
    "# input function returns always string value\n",
    "# we are getting \"50\" + \"50\" = 5050\n",
    "x = input(\"Enter No 1: \")\n",
    "y = input(\"Enter No 2: \")\n",
    "z = x+y\n",
    "print(\"Sum:\", z, type(z))"
   ]
  },
  {
   "cell_type": "code",
   "execution_count": 0,
   "metadata": {
    "application/vnd.databricks.v1+cell": {
     "cellMetadata": {
      "byteLimit": 2048000,
      "rowLimit": 10000
     },
     "inputWidgets": {},
     "nuid": "d6e179c0-82b0-4e23-ba97-9afc0e7ca9a1",
     "showTitle": true,
     "tableResultSettingsMap": {},
     "title": "Enter 50, 50"
    }
   },
   "outputs": [
    {
     "output_type": "display_data",
     "data": {
      "text/plain": [
       "Enter No 1:  50"
      ]
     },
     "metadata": {},
     "output_type": "display_data"
    },
    {
     "output_type": "display_data",
     "data": {
      "text/plain": [
       "Enter No 2:  50"
      ]
     },
     "metadata": {},
     "output_type": "display_data"
    },
    {
     "output_type": "stream",
     "name": "stdout",
     "output_type": "stream",
     "text": [
      "Sum: 100 <class 'int'>\n"
     ]
    }
   ],
   "source": [
    "# int converts string to integer means \"50\" to 50 So 50+50=100\n",
    "x = int(input(\"Enter No 1: \"))\n",
    "y = int(input(\"Enter No 2: \"))\n",
    "z = x+y\n",
    "print(\"Sum:\", z, type(z))"
   ]
  },
  {
   "cell_type": "code",
   "execution_count": 0,
   "metadata": {
    "application/vnd.databricks.v1+cell": {
     "cellMetadata": {
      "byteLimit": 2048000,
      "rowLimit": 10000
     },
     "inputWidgets": {},
     "nuid": "8d43f539-2ba9-4c9f-b92e-9499c952351c",
     "showTitle": true,
     "tableResultSettingsMap": {},
     "title": "Enter 50, 50.5"
    }
   },
   "outputs": [
    {
     "output_type": "display_data",
     "data": {
      "text/plain": [
       "Enter No 1: 50"
      ]
     },
     "metadata": {},
     "output_type": "display_data"
    },
    {
     "output_type": "display_data",
     "data": {
      "text/plain": [
       "Enter No 2: 50.5"
      ]
     },
     "metadata": {},
     "output_type": "display_data"
    },
    {
     "output_type": "display_data",
     "data": {
      "text/plain": [
       "\u001B[0;31m---------------------------------------------------------------------------\u001B[0m\n",
       "\u001B[0;31mValueError\u001B[0m                                Traceback (most recent call last)\n",
       "File \u001B[0;32m<command-4390887525067977>, line 3\u001B[0m\n",
       "\u001B[1;32m      1\u001B[0m \u001B[38;5;66;03m# by using int only integers not float or any other data type\u001B[39;00m\n",
       "\u001B[1;32m      2\u001B[0m x \u001B[38;5;241m=\u001B[39m \u001B[38;5;28mint\u001B[39m(\u001B[38;5;28minput\u001B[39m(\u001B[38;5;124m\"\u001B[39m\u001B[38;5;124mEnter No 1:\u001B[39m\u001B[38;5;124m\"\u001B[39m))\n",
       "\u001B[0;32m----> 3\u001B[0m y \u001B[38;5;241m=\u001B[39m \u001B[38;5;28mint\u001B[39m(\u001B[38;5;28minput\u001B[39m(\u001B[38;5;124m\"\u001B[39m\u001B[38;5;124mEnter No 2:\u001B[39m\u001B[38;5;124m\"\u001B[39m))\n",
       "\u001B[1;32m      4\u001B[0m z \u001B[38;5;241m=\u001B[39m x\u001B[38;5;241m+\u001B[39my\n",
       "\u001B[1;32m      5\u001B[0m \u001B[38;5;28mprint\u001B[39m(\u001B[38;5;124m\"\u001B[39m\u001B[38;5;124mSum:\u001B[39m\u001B[38;5;124m\"\u001B[39m, z)\n",
       "\n",
       "\u001B[0;31mValueError\u001B[0m: invalid literal for int() with base 10: '50.5'"
      ]
     },
     "metadata": {
      "application/vnd.databricks.v1+output": {
       "addedWidgets": {},
       "arguments": {},
       "datasetInfos": [],
       "jupyterProps": {
        "ename": "ValueError",
        "evalue": "invalid literal for int() with base 10: '50.5'"
       },
       "metadata": {
        "errorSummary": "<span class='ansi-red-fg'>ValueError</span>: invalid literal for int() with base 10: '50.5'"
       },
       "removedWidgets": [],
       "sqlProps": null,
       "stackFrames": [
        "\u001B[0;31m---------------------------------------------------------------------------\u001B[0m",
        "\u001B[0;31mValueError\u001B[0m                                Traceback (most recent call last)",
        "File \u001B[0;32m<command-4390887525067977>, line 3\u001B[0m\n\u001B[1;32m      1\u001B[0m \u001B[38;5;66;03m# by using int only integers not float or any other data type\u001B[39;00m\n\u001B[1;32m      2\u001B[0m x \u001B[38;5;241m=\u001B[39m \u001B[38;5;28mint\u001B[39m(\u001B[38;5;28minput\u001B[39m(\u001B[38;5;124m\"\u001B[39m\u001B[38;5;124mEnter No 1:\u001B[39m\u001B[38;5;124m\"\u001B[39m))\n\u001B[0;32m----> 3\u001B[0m y \u001B[38;5;241m=\u001B[39m \u001B[38;5;28mint\u001B[39m(\u001B[38;5;28minput\u001B[39m(\u001B[38;5;124m\"\u001B[39m\u001B[38;5;124mEnter No 2:\u001B[39m\u001B[38;5;124m\"\u001B[39m))\n\u001B[1;32m      4\u001B[0m z \u001B[38;5;241m=\u001B[39m x\u001B[38;5;241m+\u001B[39my\n\u001B[1;32m      5\u001B[0m \u001B[38;5;28mprint\u001B[39m(\u001B[38;5;124m\"\u001B[39m\u001B[38;5;124mSum:\u001B[39m\u001B[38;5;124m\"\u001B[39m, z)\n",
        "\u001B[0;31mValueError\u001B[0m: invalid literal for int() with base 10: '50.5'"
       ],
       "type": "baseError"
      }
     },
     "output_type": "display_data"
    }
   ],
   "source": [
    "# by using int only integers not float or any other data type\n",
    "x = int(input(\"Enter No 1:\"))\n",
    "y = int(input(\"Enter No 2:\"))\n",
    "z = x+y\n",
    "print(\"Sum:\", z)"
   ]
  },
  {
   "cell_type": "code",
   "execution_count": 0,
   "metadata": {
    "application/vnd.databricks.v1+cell": {
     "cellMetadata": {
      "byteLimit": 2048000,
      "rowLimit": 10000
     },
     "inputWidgets": {},
     "nuid": "acb3ba77-c8a9-4df4-95c9-a2e1e329e55c",
     "showTitle": true,
     "tableResultSettingsMap": {},
     "title": "Enter 50, 50"
    }
   },
   "outputs": [
    {
     "output_type": "display_data",
     "data": {
      "text/plain": [
       "Enter No 1:  50"
      ]
     },
     "metadata": {},
     "output_type": "display_data"
    },
    {
     "output_type": "display_data",
     "data": {
      "text/plain": [
       "Enter No 2:  50"
      ]
     },
     "metadata": {},
     "output_type": "display_data"
    },
    {
     "output_type": "stream",
     "name": "stdout",
     "output_type": "stream",
     "text": [
      "Sum: 100\n<class 'int'>\n"
     ]
    }
   ],
   "source": [
    "# by using int only integers not float or any other data type\n",
    "x = eval(input(\"Enter No 1: \"))\n",
    "y = eval(input(\"Enter No 2: \"))\n",
    "z = x+y\n",
    "print(\"Sum:\", z)\n",
    "print(type(z))"
   ]
  },
  {
   "cell_type": "code",
   "execution_count": 0,
   "metadata": {
    "application/vnd.databricks.v1+cell": {
     "cellMetadata": {
      "byteLimit": 2048000,
      "rowLimit": 10000
     },
     "inputWidgets": {},
     "nuid": "f50e874d-2e16-4911-90a0-0c7465659ff9",
     "showTitle": true,
     "tableResultSettingsMap": {},
     "title": "Enter 50, 50.5"
    }
   },
   "outputs": [
    {
     "output_type": "display_data",
     "data": {
      "text/plain": [
       "Enter No 1:  50"
      ]
     },
     "metadata": {},
     "output_type": "display_data"
    },
    {
     "output_type": "display_data",
     "data": {
      "text/plain": [
       "Enter No 2:  50.5"
      ]
     },
     "metadata": {},
     "output_type": "display_data"
    },
    {
     "output_type": "stream",
     "name": "stdout",
     "output_type": "stream",
     "text": [
      "Sum: 100.5\n<class 'float'>\n"
     ]
    }
   ],
   "source": [
    "# by using int only integers not float or any other data type\n",
    "x = eval(input(\"Enter No 1: \"))\n",
    "y = eval(input(\"Enter No 2: \"))\n",
    "z = x+y\n",
    "print(\"Sum:\", z)\n",
    "print(type(z))"
   ]
  },
  {
   "cell_type": "code",
   "execution_count": 0,
   "metadata": {
    "application/vnd.databricks.v1+cell": {
     "cellMetadata": {
      "byteLimit": 2048000,
      "rowLimit": 10000
     },
     "inputWidgets": {},
     "nuid": "e1e21cfb-3e91-45e7-8a8c-abfb536a5d10",
     "showTitle": true,
     "tableResultSettingsMap": {},
     "title": "Enter strings: \"Naresh\", \"Sundar\""
    }
   },
   "outputs": [
    {
     "output_type": "display_data",
     "data": {
      "text/plain": [
       "Enter No 1:  \"Swati \""
      ]
     },
     "metadata": {},
     "output_type": "display_data"
    },
    {
     "output_type": "display_data",
     "data": {
      "text/plain": [
       "Enter No 2:  \"Akash\""
      ]
     },
     "metadata": {},
     "output_type": "display_data"
    },
    {
     "output_type": "stream",
     "name": "stdout",
     "output_type": "stream",
     "text": [
      "Sum: Swati Akash\n<class 'str'>\n"
     ]
    }
   ],
   "source": [
    "# by using int only integers not float or any other data type\n",
    "x = eval(input(\"Enter No 1: \"))\n",
    "y = eval(input(\"Enter No 2: \"))\n",
    "z = x+y\n",
    "print(\"Sum:\", z)\n",
    "print(type(z))"
   ]
  },
  {
   "cell_type": "code",
   "execution_count": 0,
   "metadata": {
    "application/vnd.databricks.v1+cell": {
     "cellMetadata": {
      "byteLimit": 2048000,
      "rowLimit": 10000
     },
     "inputWidgets": {},
     "nuid": "9fd7d21a-1aea-4ec8-8fe1-4a1a12824c4c",
     "showTitle": true,
     "tableResultSettingsMap": {},
     "title": "[10, 5], [12, 15, 25]"
    }
   },
   "outputs": [
    {
     "output_type": "display_data",
     "data": {
      "text/plain": [
       "Enter No 1:  [10, 5]"
      ]
     },
     "metadata": {},
     "output_type": "display_data"
    },
    {
     "output_type": "display_data",
     "data": {
      "text/plain": [
       "Enter No 2:  [12, 15, 25]"
      ]
     },
     "metadata": {},
     "output_type": "display_data"
    },
    {
     "output_type": "stream",
     "name": "stdout",
     "output_type": "stream",
     "text": [
      "Sum: [10, 5, 12, 15, 25] <class 'list'>\n"
     ]
    }
   ],
   "source": [
    "# by using int only integers not float or any other data type\n",
    "x = eval(input(\"Enter No 1: \"))\n",
    "y = eval(input(\"Enter No 2: \"))\n",
    "z = x+y\n",
    "print(\"Sum:\", z, type(z))"
   ]
  },
  {
   "cell_type": "code",
   "execution_count": 0,
   "metadata": {
    "application/vnd.databricks.v1+cell": {
     "cellMetadata": {
      "byteLimit": 2048000,
      "rowLimit": 10000
     },
     "inputWidgets": {},
     "nuid": "e27dc66c-838d-4ceb-baaf-ec01df595c8f",
     "showTitle": true,
     "tableResultSettingsMap": {},
     "title": "(4, 5, 6), (7, 3, 9)"
    }
   },
   "outputs": [
    {
     "output_type": "display_data",
     "data": {
      "text/plain": [
       "Enter No 1:  (4, 5, 6)"
      ]
     },
     "metadata": {},
     "output_type": "display_data"
    },
    {
     "output_type": "display_data",
     "data": {
      "text/plain": [
       "Enter No 2:  (7, 3, 9)"
      ]
     },
     "metadata": {},
     "output_type": "display_data"
    },
    {
     "output_type": "stream",
     "name": "stdout",
     "output_type": "stream",
     "text": [
      "Sum: (4, 5, 6, 7, 3, 9)\n<class 'tuple'>\n"
     ]
    }
   ],
   "source": [
    "# by using int only integers not float or any other data type\n",
    "x = eval(input(\"Enter No 1: \"))\n",
    "y = eval(input(\"Enter No 2: \"))\n",
    "z = x+y\n",
    "print(\"Sum:\", z)\n",
    "print(type(z))"
   ]
  },
  {
   "cell_type": "code",
   "execution_count": 0,
   "metadata": {
    "application/vnd.databricks.v1+cell": {
     "cellMetadata": {
      "byteLimit": 2048000,
      "rowLimit": 10000
     },
     "inputWidgets": {},
     "nuid": "6cc0f819-6ff5-403b-8923-efcf1b9a4286",
     "showTitle": true,
     "tableResultSettingsMap": {},
     "title": "Global: dictionary"
    }
   },
   "outputs": [
    {
     "output_type": "stream",
     "name": "stdout",
     "output_type": "stream",
     "text": [
      "160 <class 'int'>\n"
     ]
    }
   ],
   "source": [
    "# Globals\n",
    "glb = eval(\"x+50+x**2\", {'x':10})\n",
    "print(glb, type(glb))"
   ]
  },
  {
   "cell_type": "code",
   "execution_count": 0,
   "metadata": {
    "application/vnd.databricks.v1+cell": {
     "cellMetadata": {
      "byteLimit": 2048000,
      "rowLimit": 10000
     },
     "inputWidgets": {},
     "nuid": "80015b4d-2aa4-491e-81e3-8b060f754df5",
     "showTitle": false,
     "tableResultSettingsMap": {},
     "title": ""
    }
   },
   "outputs": [
    {
     "output_type": "stream",
     "name": "stdout",
     "output_type": "stream",
     "text": [
      "160 <class 'int'>\n"
     ]
    }
   ],
   "source": [
    "# Globals\n",
    "x=10\n",
    "glb1 = eval(\"x+50+x**2\", {'x':x})\n",
    "print(glb1, type(glb1))"
   ]
  },
  {
   "cell_type": "code",
   "execution_count": 0,
   "metadata": {
    "application/vnd.databricks.v1+cell": {
     "cellMetadata": {
      "byteLimit": 2048000,
      "rowLimit": 10000
     },
     "inputWidgets": {},
     "nuid": "3b173f90-bb98-41bb-bd8b-de31639ecbc7",
     "showTitle": false,
     "tableResultSettingsMap": {},
     "title": ""
    }
   },
   "outputs": [
    {
     "output_type": "stream",
     "name": "stdout",
     "output_type": "stream",
     "text": [
      "1200 <class 'int'>\n1200 <class 'int'>\n"
     ]
    }
   ],
   "source": [
    "x=100\n",
    "y=100\n",
    "z=1000\n",
    "sep = eval(\"x+y+z\", {'x':x, 'y':y, 'z':z})\n",
    "print(sep, type(sep))\n",
    "\n",
    "sep1 = eval(\"x+y+z\")\n",
    "print(sep1, type(sep1))"
   ]
  },
  {
   "cell_type": "code",
   "execution_count": 0,
   "metadata": {
    "application/vnd.databricks.v1+cell": {
     "cellMetadata": {
      "byteLimit": 2048000,
      "rowLimit": 10000
     },
     "inputWidgets": {},
     "nuid": "f938774b-7946-4453-9ba1-b017d0f6378e",
     "showTitle": false,
     "tableResultSettingsMap": {},
     "title": ""
    }
   },
   "outputs": [
    {
     "output_type": "stream",
     "name": "stdout",
     "output_type": "stream",
     "text": [
      "1963.4954084936207 <class 'float'>\n65449.84694978735 <class 'float'>\n18.027756377319946 <class 'float'>\n"
     ]
    }
   ],
   "source": [
    "import math\n",
    "\n",
    "# Area of a circle\n",
    "crl = eval(\"math.pi * pow(25, 2)\")\n",
    "print(crl, type(crl))\n",
    "\n",
    "# Volume of a sphere\n",
    "vol_sph = eval(\"4 / 3 * math.pi * math.pow(25, 3)\")\n",
    "print(vol_sph, type(vol_sph))\n",
    "\n",
    "# Hypotenuse of a right triangle\n",
    "trgl = eval(\"math.sqrt(math.pow(10, 2) + math.pow(15, 2))\")\n",
    "print(trgl, type(trgl))"
   ]
  }
 ],
 "metadata": {
  "application/vnd.databricks.v1+notebook": {
   "computePreferences": null,
   "dashboards": [],
   "environmentMetadata": {
    "base_environment": "",
    "client": "1"
   },
   "language": "python",
   "notebookMetadata": {
    "pythonIndentUnit": 4
   },
   "notebookName": "20_Python Eval Function_Evaluating Python Expressions Dynamically",
   "widgets": {}
  }
 },
 "nbformat": 4,
 "nbformat_minor": 0
}
