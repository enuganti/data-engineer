{
 "cells": [
  {
   "cell_type": "markdown",
   "metadata": {
    "application/vnd.databricks.v1+cell": {
     "cellMetadata": {},
     "inputWidgets": {},
     "nuid": "f1ca39d0-fa38-48a6-8d20-83f62ba51211",
     "showTitle": false,
     "tableResultSettingsMap": {},
     "title": ""
    }
   },
   "source": [
    "- The **datetime.fromtimestamp()** method in Python is used to **convert a timestamp** (a number representing the **seconds since the Unix epoch, January 1, 1970**) into a **datetime object**."
   ]
  },
  {
   "cell_type": "markdown",
   "metadata": {
    "application/vnd.databricks.v1+cell": {
     "cellMetadata": {},
     "inputWidgets": {},
     "nuid": "71cd2cbd-5aa4-4acb-b310-8d13b05d85f9",
     "showTitle": false,
     "tableResultSettingsMap": {},
     "title": ""
    }
   },
   "source": [
    "**Syntax**\n",
    "\n",
    "     datetime.fromtimestamp(timestamp, tz=None)\n",
    "\n",
    "**timestamp:**\n",
    "- A **float or int**, representing **seconds** since the **epoch (January 1, 1970, 00:00:00 UTC)**.\n",
    "- The **timestamp** should be in **seconds, NOT in milliseconds**.\n",
    "\n",
    "**tz (optional):**\n",
    "- A **timezone info** object (like **from zoneinfo.ZoneInfo**).\n",
    "- If **not provided**, it uses your **local time zone**."
   ]
  },
  {
   "cell_type": "code",
   "execution_count": 0,
   "metadata": {
    "application/vnd.databricks.v1+cell": {
     "cellMetadata": {
      "byteLimit": 2048000,
      "rowLimit": 10000
     },
     "inputWidgets": {},
     "nuid": "c838b572-1143-4ab5-988f-9019f7e56148",
     "showTitle": true,
     "tableResultSettingsMap": {},
     "title": "Converting a Timestamp to a Readable Date"
    }
   },
   "outputs": [
    {
     "output_type": "stream",
     "name": "stdout",
     "output_type": "stream",
     "text": [
      "2021-01-01 00:00:00\n"
     ]
    }
   ],
   "source": [
    "from datetime import datetime\n",
    "\n",
    "timestamp = 1609459200  # seconds\n",
    "dt = datetime.fromtimestamp(timestamp)\n",
    "print(dt)"
   ]
  },
  {
   "cell_type": "markdown",
   "metadata": {
    "application/vnd.databricks.v1+cell": {
     "cellMetadata": {},
     "inputWidgets": {},
     "nuid": "c0cb6c6f-2190-4ed5-9444-db7fdb901f55",
     "showTitle": false,
     "tableResultSettingsMap": {},
     "title": ""
    }
   },
   "source": [
    "- If your **timestamp** were in **milliseconds (like 1609459200000)**, you would need to **divide it by 1000**."
   ]
  },
  {
   "cell_type": "code",
   "execution_count": 0,
   "metadata": {
    "application/vnd.databricks.v1+cell": {
     "cellMetadata": {
      "byteLimit": 2048000,
      "rowLimit": 10000
     },
     "inputWidgets": {},
     "nuid": "222b14b1-909c-4786-b64b-6b6ac55673f1",
     "showTitle": true,
     "tableResultSettingsMap": {},
     "title": "milliseconds"
    }
   },
   "outputs": [
    {
     "output_type": "stream",
     "name": "stdout",
     "output_type": "stream",
     "text": [
      "2021-01-01 00:00:00\n"
     ]
    }
   ],
   "source": [
    "timestamp_ms = 1609459200000  # milliseconds\n",
    "dt = datetime.fromtimestamp(timestamp_ms / 1000)\n",
    "print(dt)"
   ]
  },
  {
   "cell_type": "markdown",
   "metadata": {
    "application/vnd.databricks.v1+cell": {
     "cellMetadata": {},
     "inputWidgets": {},
     "nuid": "9cde0b55-56b3-438d-b58e-a1940efc1325",
     "showTitle": false,
     "tableResultSettingsMap": {},
     "title": ""
    }
   },
   "source": [
    "**Summary**:\n",
    "\n",
    "- **timestamp = seconds** ➔ use directly\n",
    "- **timestamp = milliseconds** ➔ **divide by 1000** before using"
   ]
  },
  {
   "cell_type": "code",
   "execution_count": 0,
   "metadata": {
    "application/vnd.databricks.v1+cell": {
     "cellMetadata": {
      "byteLimit": 2048000,
      "rowLimit": 10000
     },
     "inputWidgets": {},
     "nuid": "98098772-bfed-44ee-86fa-8a213f124fe3",
     "showTitle": true,
     "tableResultSettingsMap": {},
     "title": "Handling Time Zones"
    }
   },
   "outputs": [
    {
     "output_type": "stream",
     "name": "stdout",
     "output_type": "stream",
     "text": [
      "2021-01-01 00:00:00+00:00 UTC UTC\n"
     ]
    }
   ],
   "source": [
    "from datetime import datetime, timezone\n",
    "\n",
    "timestamp = 1609459200\n",
    "dt = datetime.fromtimestamp(timestamp, tz=timezone.utc)\n",
    "print(dt, dt.tzname(), dt.tzinfo)"
   ]
  },
  {
   "cell_type": "code",
   "execution_count": 0,
   "metadata": {
    "application/vnd.databricks.v1+cell": {
     "cellMetadata": {
      "byteLimit": 2048000,
      "rowLimit": 10000
     },
     "inputWidgets": {},
     "nuid": "b3a08a14-f698-4bbf-bd31-71ea2d1c09cc",
     "showTitle": true,
     "tableResultSettingsMap": {},
     "title": "Converting Future Timestamps"
    }
   },
   "outputs": [
    {
     "output_type": "stream",
     "name": "stdout",
     "output_type": "stream",
     "text": [
      "2027-01-01 07:17:45\n"
     ]
    }
   ],
   "source": [
    "from datetime import datetime\n",
    "\n",
    "future_timestamp = 1798787865\n",
    "dt = datetime.fromtimestamp(future_timestamp)\n",
    "print(dt)"
   ]
  },
  {
   "cell_type": "code",
   "execution_count": 0,
   "metadata": {
    "application/vnd.databricks.v1+cell": {
     "cellMetadata": {
      "byteLimit": 2048000,
      "rowLimit": 10000
     },
     "inputWidgets": {},
     "nuid": "81515b56-26b1-455f-a929-b7917d9d0789",
     "showTitle": true,
     "tableResultSettingsMap": {},
     "title": "Handling Timestamps Before Epoch (Negative Timestamps)"
    }
   },
   "outputs": [
    {
     "output_type": "stream",
     "name": "stdout",
     "output_type": "stream",
     "text": [
      "1966-02-02 02:26:51\n"
     ]
    }
   ],
   "source": [
    "negative_timestamp = -123456789\n",
    "dt = datetime.fromtimestamp(negative_timestamp)\n",
    "print(dt)"
   ]
  },
  {
   "cell_type": "markdown",
   "metadata": {
    "application/vnd.databricks.v1+cell": {
     "cellMetadata": {},
     "inputWidgets": {},
     "nuid": "38481fad-f871-4578-a0e9-b19f3e1e715e",
     "showTitle": false,
     "tableResultSettingsMap": {},
     "title": ""
    }
   },
   "source": [
    "**datetime.date**"
   ]
  },
  {
   "cell_type": "code",
   "execution_count": 0,
   "metadata": {
    "application/vnd.databricks.v1+cell": {
     "cellMetadata": {
      "byteLimit": 2048000,
      "rowLimit": 10000
     },
     "inputWidgets": {},
     "nuid": "5dba5d4a-31f5-47fa-ac5b-e0ecf8e40120",
     "showTitle": true,
     "tableResultSettingsMap": {},
     "title": "Getting a date corresponding to an Epoch & Unix Timestamp"
    }
   },
   "outputs": [
    {
     "output_type": "stream",
     "name": "stdout",
     "output_type": "stream",
     "text": [
      "1745765969.7897825\nDate for the Timestamp is: 2025-04-27\n"
     ]
    }
   ],
   "source": [
    "# Importing datetime and time module \n",
    "import datetime \n",
    "import time \n",
    "\n",
    "# Calling the time() function to return current time \n",
    "Todays_time = time.time() \n",
    "\n",
    "# Printing today's time \n",
    "print(Todays_time) \n",
    "\n",
    "\n",
    "# Calling the fromtimestamp() function to get date from the current time \n",
    "date_From_CurrentTime = datetime.date.fromtimestamp(Todays_time); \n",
    "\n",
    "# Printing the current date \n",
    "print(\"Date for the Timestamp is: %s\"%date_From_CurrentTime);"
   ]
  },
  {
   "cell_type": "code",
   "execution_count": 0,
   "metadata": {
    "application/vnd.databricks.v1+cell": {
     "cellMetadata": {
      "byteLimit": 2048000,
      "rowLimit": 10000
     },
     "inputWidgets": {},
     "nuid": "4531273a-5f71-4855-958f-81a440fe74c2",
     "showTitle": true,
     "tableResultSettingsMap": {},
     "title": "Getting a date corresponding to a specified timestamp"
    }
   },
   "outputs": [
    {
     "output_type": "stream",
     "name": "stdout",
     "output_type": "stream",
     "text": [
      "Date for the Timestamp is: 2011-12-09\n"
     ]
    }
   ],
   "source": [
    "# Importing datetime and time module \n",
    "import datetime \n",
    "import time \n",
    "\n",
    "# Initializing a timestamp value \n",
    "Timestamp = 1323456464; \n",
    "\n",
    "# Calling the fromtimestamp() function over the above specified Timestamp \n",
    "date_From_Timestamp = datetime.date.fromtimestamp(Timestamp); \n",
    "\n",
    "# Printing the date \n",
    "print(\"Date for the Timestamp is: %s\"%date_From_Timestamp);"
   ]
  },
  {
   "cell_type": "code",
   "execution_count": 0,
   "metadata": {
    "application/vnd.databricks.v1+cell": {
     "cellMetadata": {
      "byteLimit": 2048000,
      "rowLimit": 10000
     },
     "inputWidgets": {},
     "nuid": "f66eede5-8654-4aca-971b-b378d5d34227",
     "showTitle": false,
     "tableResultSettingsMap": {},
     "title": ""
    }
   },
   "outputs": [
    {
     "output_type": "stream",
     "name": "stdout",
     "output_type": "stream",
     "text": [
      "Date = 2012-01-11\n"
     ]
    }
   ],
   "source": [
    "from datetime import date\n",
    "\n",
    "timestamp = date.fromtimestamp(1326244364)\n",
    "print(\"Date =\", timestamp)"
   ]
  },
  {
   "cell_type": "markdown",
   "metadata": {
    "application/vnd.databricks.v1+cell": {
     "cellMetadata": {},
     "inputWidgets": {},
     "nuid": "25a0245c-2761-4425-a35c-35bb55f7d4a0",
     "showTitle": false,
     "tableResultSettingsMap": {},
     "title": ""
    }
   },
   "source": [
    "**formatting**"
   ]
  },
  {
   "cell_type": "code",
   "execution_count": 0,
   "metadata": {
    "application/vnd.databricks.v1+cell": {
     "cellMetadata": {
      "byteLimit": 2048000,
      "rowLimit": 10000
     },
     "inputWidgets": {},
     "nuid": "48e1bf25-cea7-4b64-b3bf-bf44d40c2c09",
     "showTitle": true,
     "tableResultSettingsMap": {},
     "title": "formatting the datetime"
    }
   },
   "outputs": [
    {
     "output_type": "stream",
     "name": "stdout",
     "output_type": "stream",
     "text": [
      "Datetime: 2022-04-26 23:20:00\nFormatted date: 2022-04-26 23:20:00\nYear: 2022\nMonth: 4\nDay: 26\n"
     ]
    }
   ],
   "source": [
    "from datetime import datetime\n",
    "\n",
    "timestamp = 1651015200  # This represents a Unix timestamp (time in seconds)\n",
    "\n",
    "# Convert the timestamp to a datetime object\n",
    "dt = datetime.fromtimestamp(timestamp)\n",
    "\n",
    "# Print the resulting datetime object\n",
    "print(\"Datetime:\", dt)\n",
    "\n",
    "# Print the date in a custom format (e.g., YYYY-MM-DD HH:MM:SS)\n",
    "print(\"Formatted date:\", dt.strftime(\"%Y-%m-%d %H:%M:%S\"))\n",
    "\n",
    "# Getting only specific parts of the datetime\n",
    "print(\"Year:\", dt.year)\n",
    "print(\"Month:\", dt.month)\n",
    "print(\"Day:\", dt.day)"
   ]
  },
  {
   "cell_type": "code",
   "execution_count": 0,
   "metadata": {
    "application/vnd.databricks.v1+cell": {
     "cellMetadata": {
      "byteLimit": 2048000,
      "rowLimit": 10000
     },
     "inputWidgets": {},
     "nuid": "91aa4367-2d6a-4a09-a315-9d89ad9d42fb",
     "showTitle": true,
     "tableResultSettingsMap": {},
     "title": "Handling fractional seconds"
    }
   },
   "outputs": [
    {
     "output_type": "stream",
     "name": "stdout",
     "output_type": "stream",
     "text": [
      "2021-06-01 00:00:00.123456\n"
     ]
    }
   ],
   "source": [
    "from datetime import datetime\n",
    "timestamp = 1622505600.123456\n",
    "dt_frac = datetime.fromtimestamp(timestamp)\n",
    "print(dt_frac)"
   ]
  },
  {
   "cell_type": "code",
   "execution_count": 0,
   "metadata": {
    "application/vnd.databricks.v1+cell": {
     "cellMetadata": {
      "byteLimit": 2048000,
      "rowLimit": 10000
     },
     "inputWidgets": {},
     "nuid": "15eb9f02-f912-4d60-96e5-afeb508cd210",
     "showTitle": false,
     "tableResultSettingsMap": {},
     "title": ""
    }
   },
   "outputs": [
    {
     "output_type": "stream",
     "name": "stdout",
     "output_type": "stream",
     "text": [
      "1745765964.5614872\nCurrent local datetime: 2025-04-27 14:59:24.561487\n"
     ]
    }
   ],
   "source": [
    "import time\n",
    "from datetime import datetime\n",
    "\n",
    "timestamp = time.time()  # Current time in seconds\n",
    "print(timestamp)\n",
    "\n",
    "dt = datetime.fromtimestamp(timestamp)\n",
    "print(\"Current local datetime:\", dt)"
   ]
  },
  {
   "cell_type": "code",
   "execution_count": 0,
   "metadata": {
    "application/vnd.databricks.v1+cell": {
     "cellMetadata": {
      "byteLimit": 2048000,
      "rowLimit": 10000
     },
     "inputWidgets": {},
     "nuid": "e6979dce-cc50-4055-b8d0-6e551e5844e0",
     "showTitle": false,
     "tableResultSettingsMap": {},
     "title": ""
    }
   },
   "outputs": [
    {
     "output_type": "stream",
     "name": "stdout",
     "output_type": "stream",
     "text": [
      "Local time: 2022-04-26 23:20:00\nUTC time: 2022-04-26 23:20:00\n"
     ]
    }
   ],
   "source": [
    "from datetime import datetime, timezone\n",
    "\n",
    "timestamp = 1651015200\n",
    "\n",
    "local_dt = datetime.fromtimestamp(timestamp)\n",
    "utc_dt = datetime.utcfromtimestamp(timestamp)\n",
    "\n",
    "print(\"Local time:\", local_dt)\n",
    "print(\"UTC time:\", utc_dt)"
   ]
  },
  {
   "cell_type": "markdown",
   "metadata": {
    "application/vnd.databricks.v1+cell": {
     "cellMetadata": {},
     "inputWidgets": {},
     "nuid": "bf35116b-d119-43c9-990c-5dde0be156cc",
     "showTitle": false,
     "tableResultSettingsMap": {},
     "title": ""
    }
   },
   "source": [
    "**Handling Timezones (using pytz)**\n",
    "- By default, **fromtimestamp()** uses the **system's local time zone**.\n",
    "- If you want to use a **different timezone**, you can use the **timezone module**."
   ]
  },
  {
   "cell_type": "code",
   "execution_count": 0,
   "metadata": {
    "application/vnd.databricks.v1+cell": {
     "cellMetadata": {
      "byteLimit": 2048000,
      "rowLimit": 10000
     },
     "inputWidgets": {},
     "nuid": "c8583b9d-26b2-48d7-8217-1c42316899d4",
     "showTitle": false,
     "tableResultSettingsMap": {},
     "title": ""
    }
   },
   "outputs": [
    {
     "output_type": "stream",
     "name": "stdout",
     "output_type": "stream",
     "text": [
      "2021-01-01 00:00:00+00:00\n2021-01-01 05:30:00+05:30\n"
     ]
    }
   ],
   "source": [
    "from datetime import datetime, timezone, timedelta\n",
    "\n",
    "# Define the timestamp\n",
    "timestamp = 1609459200\n",
    "\n",
    "# Convert the timestamp to a datetime object in UTC\n",
    "dt_utc = datetime.fromtimestamp(timestamp, tz=timezone.utc)\n",
    "\n",
    "# Print the UTC time\n",
    "print(dt_utc)\n",
    "\n",
    "# Convert the timestamp to a datetime object with a custom timezone offset (e.g., UTC +5:30)\n",
    "custom_tz = timezone(timedelta(hours=5, minutes=30))\n",
    "dt_custom = datetime.fromtimestamp(timestamp, tz=custom_tz)\n",
    "\n",
    "# Print the time in the custom timezone\n",
    "print(dt_custom)"
   ]
  },
  {
   "cell_type": "markdown",
   "metadata": {
    "application/vnd.databricks.v1+cell": {
     "cellMetadata": {},
     "inputWidgets": {},
     "nuid": "4ee68e14-eac0-4fa4-ad15-2bafcefb0415",
     "showTitle": false,
     "tableResultSettingsMap": {},
     "title": ""
    }
   },
   "source": [
    "**Comparing Dates**"
   ]
  },
  {
   "cell_type": "code",
   "execution_count": 0,
   "metadata": {
    "application/vnd.databricks.v1+cell": {
     "cellMetadata": {
      "byteLimit": 2048000,
      "rowLimit": 10000
     },
     "inputWidgets": {},
     "nuid": "a06d68ae-66d4-4d60-abd1-c2750dbdd14d",
     "showTitle": false,
     "tableResultSettingsMap": {},
     "title": ""
    }
   },
   "outputs": [
    {
     "output_type": "stream",
     "name": "stdout",
     "output_type": "stream",
     "text": [
      "2023-03-28 10:40:00 is after 2022-12-02 16:53:20\n"
     ]
    }
   ],
   "source": [
    "from datetime import datetime\n",
    "\n",
    "timestamp1 = 1670000000\n",
    "timestamp2 = 1680000000\n",
    "\n",
    "dt1 = datetime.fromtimestamp(timestamp1)\n",
    "dt2 = datetime.fromtimestamp(timestamp2)\n",
    "\n",
    "if dt2 > dt1:\n",
    "    print(f\"{dt2} is after {dt1}\")"
   ]
  },
  {
   "cell_type": "markdown",
   "metadata": {
    "application/vnd.databricks.v1+cell": {
     "cellMetadata": {},
     "inputWidgets": {},
     "nuid": "7bff0c10-ff28-4a8e-a0f1-21859b7e13b9",
     "showTitle": false,
     "tableResultSettingsMap": {},
     "title": ""
    }
   },
   "source": [
    "**Converting a list of timestamps**"
   ]
  },
  {
   "cell_type": "code",
   "execution_count": 0,
   "metadata": {
    "application/vnd.databricks.v1+cell": {
     "cellMetadata": {
      "byteLimit": 2048000,
      "rowLimit": 10000
     },
     "inputWidgets": {},
     "nuid": "505bc376-cbe4-4717-adc4-70cd65580175",
     "showTitle": false,
     "tableResultSettingsMap": {},
     "title": ""
    }
   },
   "outputs": [
    {
     "output_type": "stream",
     "name": "stdout",
     "output_type": "stream",
     "text": [
      "Jan 01, 2021 00:00\nFeb 01, 2021 00:00\nMar 01, 2021 00:00\n"
     ]
    }
   ],
   "source": [
    "from datetime import datetime\n",
    "timestamps = [1609459200, 1612137600, 1614556800]\n",
    "datetimes = [datetime.fromtimestamp(ts) for ts in timestamps]\n",
    "\n",
    "for dt in datetimes:\n",
    "    print(dt.strftime(\"%b %d, %Y %H:%M\"))"
   ]
  },
  {
   "cell_type": "markdown",
   "metadata": {
    "application/vnd.databricks.v1+cell": {
     "cellMetadata": {},
     "inputWidgets": {},
     "nuid": "99cc3537-9066-48a4-848f-0f4e8119d6fb",
     "showTitle": false,
     "tableResultSettingsMap": {},
     "title": ""
    }
   },
   "source": [
    "**Handle invalid timestamps gracefully**\n",
    "- If the **timestamp** is **too large or too small**, it might not represent a **valid datetime**. You can catch **exceptions** and handle them."
   ]
  },
  {
   "cell_type": "code",
   "execution_count": 0,
   "metadata": {
    "application/vnd.databricks.v1+cell": {
     "cellMetadata": {
      "byteLimit": 2048000,
      "rowLimit": 10000
     },
     "inputWidgets": {},
     "nuid": "0e70bdc4-181a-46c1-9418-8a6bb0504536",
     "showTitle": false,
     "tableResultSettingsMap": {},
     "title": ""
    }
   },
   "outputs": [
    {
     "output_type": "stream",
     "name": "stdout",
     "output_type": "stream",
     "text": [
      "Error: timestamp out of range for platform time_t\n"
     ]
    }
   ],
   "source": [
    "from datetime import datetime\n",
    "\n",
    "# Example invalid timestamp (too large)\n",
    "timestamp = 9999999999999999999999999999\n",
    "\n",
    "try:\n",
    "    dt = datetime.fromtimestamp(timestamp)\n",
    "    print(dt)\n",
    "except (OverflowError, OSError) as e:\n",
    "    print(\"Error:\", e)"
   ]
  }
 ],
 "metadata": {
  "application/vnd.databricks.v1+notebook": {
   "computePreferences": null,
   "dashboards": [],
   "environmentMetadata": {
    "base_environment": "",
    "environment_version": "1"
   },
   "inputWidgetPreferences": null,
   "language": "python",
   "notebookMetadata": {
    "pythonIndentUnit": 4
   },
   "notebookName": "22_Convert Milliseconds to Date & Time using fromtimestamp()",
   "widgets": {}
  }
 },
 "nbformat": 4,
 "nbformat_minor": 0
}