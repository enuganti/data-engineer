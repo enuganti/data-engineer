{
 "cells": [
  {
   "cell_type": "markdown",
   "metadata": {
    "application/vnd.databricks.v1+cell": {
     "cellMetadata": {},
     "inputWidgets": {},
     "nuid": "52ad8638-8507-4950-a1c1-1f4537fc52fc",
     "showTitle": false,
     "tableResultSettingsMap": {},
     "title": ""
    }
   },
   "source": [
    "#### **pytz**\n",
    "\n",
    "- **pytz** is a Python library used to work with **time zones**.\n",
    "- It helps in handling and **converting dates and times** across **different time zones**."
   ]
  },
  {
   "cell_type": "code",
   "execution_count": 0,
   "metadata": {
    "application/vnd.databricks.v1+cell": {
     "cellMetadata": {
      "byteLimit": 2048000,
      "rowLimit": 10000
     },
     "inputWidgets": {},
     "nuid": "cb37e436-0623-44e7-9eab-02ce49821163",
     "showTitle": false,
     "tableResultSettingsMap": {},
     "title": ""
    }
   },
   "outputs": [],
   "source": [
    "import datetime\n",
    "import pytz\n",
    "from datetime import datetime"
   ]
  },
  {
   "cell_type": "markdown",
   "metadata": {
    "application/vnd.databricks.v1+cell": {
     "cellMetadata": {},
     "inputWidgets": {},
     "nuid": "66b2e6fd-df0e-4510-beca-eb844f72f3b0",
     "showTitle": false,
     "tableResultSettingsMap": {},
     "title": ""
    }
   },
   "source": [
    "#### **a) all_timezones**\n",
    "\n",
    "- It returns the **list** all the available **timezones** with **pytz.all_timezones**."
   ]
  },
  {
   "cell_type": "code",
   "execution_count": 0,
   "metadata": {
    "application/vnd.databricks.v1+cell": {
     "cellMetadata": {
      "byteLimit": 2048000,
      "rowLimit": 10000
     },
     "inputWidgets": {},
     "nuid": "84319b7d-e8f9-41e2-9de1-08290d148ad5",
     "showTitle": true,
     "tableResultSettingsMap": {},
     "title": "Listing All Time Zones"
    }
   },
   "outputs": [
    {
     "output_type": "stream",
     "name": "stdout",
     "output_type": "stream",
     "text": [
      "['Africa/Abidjan', 'Africa/Accra', 'Africa/Addis_Ababa', 'Africa/Algiers', 'Africa/Asmara', 'Africa/Asmera', 'Africa/Bamako', 'Africa/Bangui', 'Africa/Banjul', 'Africa/Bissau', 'Africa/Blantyre', 'Africa/Brazzaville', 'Africa/Bujumbura', 'Africa/Cairo', 'Africa/Casablanca', 'Africa/Ceuta', 'Africa/Conakry', 'Africa/Dakar', 'Africa/Dar_es_Salaam', 'Africa/Djibouti', 'Africa/Douala', 'Africa/El_Aaiun', 'Africa/Freetown', 'Africa/Gaborone', 'Africa/Harare', 'Africa/Johannesburg', 'Africa/Juba', 'Africa/Kampala', 'Africa/Khartoum', 'Africa/Kigali', 'Africa/Kinshasa', 'Africa/Lagos', 'Africa/Libreville', 'Africa/Lome', 'Africa/Luanda', 'Africa/Lubumbashi', 'Africa/Lusaka', 'Africa/Malabo', 'Africa/Maputo', 'Africa/Maseru', 'Africa/Mbabane', 'Africa/Mogadishu', 'Africa/Monrovia', 'Africa/Nairobi', 'Africa/Ndjamena', 'Africa/Niamey', 'Africa/Nouakchott', 'Africa/Ouagadougou', 'Africa/Porto-Novo', 'Africa/Sao_Tome', 'Africa/Timbuktu', 'Africa/Tripoli', 'Africa/Tunis', 'Africa/Windhoek', 'America/Adak', 'America/Anchorage', 'America/Anguilla', 'America/Antigua', 'America/Araguaina', 'America/Argentina/Buenos_Aires', 'America/Argentina/Catamarca', 'America/Argentina/ComodRivadavia', 'America/Argentina/Cordoba', 'America/Argentina/Jujuy', 'America/Argentina/La_Rioja', 'America/Argentina/Mendoza', 'America/Argentina/Rio_Gallegos', 'America/Argentina/Salta', 'America/Argentina/San_Juan', 'America/Argentina/San_Luis', 'America/Argentina/Tucuman', 'America/Argentina/Ushuaia', 'America/Aruba', 'America/Asuncion', 'America/Atikokan', 'America/Atka', 'America/Bahia', 'America/Bahia_Banderas', 'America/Barbados', 'America/Belem', 'America/Belize', 'America/Blanc-Sablon', 'America/Boa_Vista', 'America/Bogota', 'America/Boise', 'America/Buenos_Aires', 'America/Cambridge_Bay', 'America/Campo_Grande', 'America/Cancun', 'America/Caracas', 'America/Catamarca', 'America/Cayenne', 'America/Cayman', 'America/Chicago', 'America/Chihuahua', 'America/Ciudad_Juarez', 'America/Coral_Harbour', 'America/Cordoba', 'America/Costa_Rica', 'America/Creston', 'America/Cuiaba', 'America/Curacao', 'America/Danmarkshavn', 'America/Dawson', 'America/Dawson_Creek', 'America/Denver', 'America/Detroit', 'America/Dominica', 'America/Edmonton', 'America/Eirunepe', 'America/El_Salvador', 'America/Ensenada', 'America/Fort_Nelson', 'America/Fort_Wayne', 'America/Fortaleza', 'America/Glace_Bay', 'America/Godthab', 'America/Goose_Bay', 'America/Grand_Turk', 'America/Grenada', 'America/Guadeloupe', 'America/Guatemala', 'America/Guayaquil', 'America/Guyana', 'America/Halifax', 'America/Havana', 'America/Hermosillo', 'America/Indiana/Indianapolis', 'America/Indiana/Knox', 'America/Indiana/Marengo', 'America/Indiana/Petersburg', 'America/Indiana/Tell_City', 'America/Indiana/Vevay', 'America/Indiana/Vincennes', 'America/Indiana/Winamac', 'America/Indianapolis', 'America/Inuvik', 'America/Iqaluit', 'America/Jamaica', 'America/Jujuy', 'America/Juneau', 'America/Kentucky/Louisville', 'America/Kentucky/Monticello', 'America/Knox_IN', 'America/Kralendijk', 'America/La_Paz', 'America/Lima', 'America/Los_Angeles', 'America/Louisville', 'America/Lower_Princes', 'America/Maceio', 'America/Managua', 'America/Manaus', 'America/Marigot', 'America/Martinique', 'America/Matamoros', 'America/Mazatlan', 'America/Mendoza', 'America/Menominee', 'America/Merida', 'America/Metlakatla', 'America/Mexico_City', 'America/Miquelon', 'America/Moncton', 'America/Monterrey', 'America/Montevideo', 'America/Montreal', 'America/Montserrat', 'America/Nassau', 'America/New_York', 'America/Nipigon', 'America/Nome', 'America/Noronha', 'America/North_Dakota/Beulah', 'America/North_Dakota/Center', 'America/North_Dakota/New_Salem', 'America/Nuuk', 'America/Ojinaga', 'America/Panama', 'America/Pangnirtung', 'America/Paramaribo', 'America/Phoenix', 'America/Port-au-Prince', 'America/Port_of_Spain', 'America/Porto_Acre', 'America/Porto_Velho', 'America/Puerto_Rico', 'America/Punta_Arenas', 'America/Rainy_River', 'America/Rankin_Inlet', 'America/Recife', 'America/Regina', 'America/Resolute', 'America/Rio_Branco', 'America/Rosario', 'America/Santa_Isabel', 'America/Santarem', 'America/Santiago', 'America/Santo_Domingo', 'America/Sao_Paulo', 'America/Scoresbysund', 'America/Shiprock', 'America/Sitka', 'America/St_Barthelemy', 'America/St_Johns', 'America/St_Kitts', 'America/St_Lucia', 'America/St_Thomas', 'America/St_Vincent', 'America/Swift_Current', 'America/Tegucigalpa', 'America/Thule', 'America/Thunder_Bay', 'America/Tijuana', 'America/Toronto', 'America/Tortola', 'America/Vancouver', 'America/Virgin', 'America/Whitehorse', 'America/Winnipeg', 'America/Yakutat', 'America/Yellowknife', 'Antarctica/Casey', 'Antarctica/Davis', 'Antarctica/DumontDUrville', 'Antarctica/Macquarie', 'Antarctica/Mawson', 'Antarctica/McMurdo', 'Antarctica/Palmer', 'Antarctica/Rothera', 'Antarctica/South_Pole', 'Antarctica/Syowa', 'Antarctica/Troll', 'Antarctica/Vostok', 'Arctic/Longyearbyen', 'Asia/Aden', 'Asia/Almaty', 'Asia/Amman', 'Asia/Anadyr', 'Asia/Aqtau', 'Asia/Aqtobe', 'Asia/Ashgabat', 'Asia/Ashkhabad', 'Asia/Atyrau', 'Asia/Baghdad', 'Asia/Bahrain', 'Asia/Baku', 'Asia/Bangkok', 'Asia/Barnaul', 'Asia/Beirut', 'Asia/Bishkek', 'Asia/Brunei', 'Asia/Calcutta', 'Asia/Chita', 'Asia/Choibalsan', 'Asia/Chongqing', 'Asia/Chungking', 'Asia/Colombo', 'Asia/Dacca', 'Asia/Damascus', 'Asia/Dhaka', 'Asia/Dili', 'Asia/Dubai', 'Asia/Dushanbe', 'Asia/Famagusta', 'Asia/Gaza', 'Asia/Harbin', 'Asia/Hebron', 'Asia/Ho_Chi_Minh', 'Asia/Hong_Kong', 'Asia/Hovd', 'Asia/Irkutsk', 'Asia/Istanbul', 'Asia/Jakarta', 'Asia/Jayapura', 'Asia/Jerusalem', 'Asia/Kabul', 'Asia/Kamchatka', 'Asia/Karachi', 'Asia/Kashgar', 'Asia/Kathmandu', 'Asia/Katmandu', 'Asia/Khandyga', 'Asia/Kolkata', 'Asia/Krasnoyarsk', 'Asia/Kuala_Lumpur', 'Asia/Kuching', 'Asia/Kuwait', 'Asia/Macao', 'Asia/Macau', 'Asia/Magadan', 'Asia/Makassar', 'Asia/Manila', 'Asia/Muscat', 'Asia/Nicosia', 'Asia/Novokuznetsk', 'Asia/Novosibirsk', 'Asia/Omsk', 'Asia/Oral', 'Asia/Phnom_Penh', 'Asia/Pontianak', 'Asia/Pyongyang', 'Asia/Qatar', 'Asia/Qostanay', 'Asia/Qyzylorda', 'Asia/Rangoon', 'Asia/Riyadh', 'Asia/Saigon', 'Asia/Sakhalin', 'Asia/Samarkand', 'Asia/Seoul', 'Asia/Shanghai', 'Asia/Singapore', 'Asia/Srednekolymsk', 'Asia/Taipei', 'Asia/Tashkent', 'Asia/Tbilisi', 'Asia/Tehran', 'Asia/Tel_Aviv', 'Asia/Thimbu', 'Asia/Thimphu', 'Asia/Tokyo', 'Asia/Tomsk', 'Asia/Ujung_Pandang', 'Asia/Ulaanbaatar', 'Asia/Ulan_Bator', 'Asia/Urumqi', 'Asia/Ust-Nera', 'Asia/Vientiane', 'Asia/Vladivostok', 'Asia/Yakutsk', 'Asia/Yangon', 'Asia/Yekaterinburg', 'Asia/Yerevan', 'Atlantic/Azores', 'Atlantic/Bermuda', 'Atlantic/Canary', 'Atlantic/Cape_Verde', 'Atlantic/Faeroe', 'Atlantic/Faroe', 'Atlantic/Jan_Mayen', 'Atlantic/Madeira', 'Atlantic/Reykjavik', 'Atlantic/South_Georgia', 'Atlantic/St_Helena', 'Atlantic/Stanley', 'Australia/ACT', 'Australia/Adelaide', 'Australia/Brisbane', 'Australia/Broken_Hill', 'Australia/Canberra', 'Australia/Currie', 'Australia/Darwin', 'Australia/Eucla', 'Australia/Hobart', 'Australia/LHI', 'Australia/Lindeman', 'Australia/Lord_Howe', 'Australia/Melbourne', 'Australia/NSW', 'Australia/North', 'Australia/Perth', 'Australia/Queensland', 'Australia/South', 'Australia/Sydney', 'Australia/Tasmania', 'Australia/Victoria', 'Australia/West', 'Australia/Yancowinna', 'Brazil/Acre', 'Brazil/DeNoronha', 'Brazil/East', 'Brazil/West', 'CET', 'CST6CDT', 'Canada/Atlantic', 'Canada/Central', 'Canada/Eastern', 'Canada/Mountain', 'Canada/Newfoundland', 'Canada/Pacific', 'Canada/Saskatchewan', 'Canada/Yukon', 'Chile/Continental', 'Chile/EasterIsland', 'Cuba', 'EET', 'EST', 'EST5EDT', 'Egypt', 'Eire', 'Etc/GMT', 'Etc/GMT+0', 'Etc/GMT+1', 'Etc/GMT+10', 'Etc/GMT+11', 'Etc/GMT+12', 'Etc/GMT+2', 'Etc/GMT+3', 'Etc/GMT+4', 'Etc/GMT+5', 'Etc/GMT+6', 'Etc/GMT+7', 'Etc/GMT+8', 'Etc/GMT+9', 'Etc/GMT-0', 'Etc/GMT-1', 'Etc/GMT-10', 'Etc/GMT-11', 'Etc/GMT-12', 'Etc/GMT-13', 'Etc/GMT-14', 'Etc/GMT-2', 'Etc/GMT-3', 'Etc/GMT-4', 'Etc/GMT-5', 'Etc/GMT-6', 'Etc/GMT-7', 'Etc/GMT-8', 'Etc/GMT-9', 'Etc/GMT0', 'Etc/Greenwich', 'Etc/UCT', 'Etc/UTC', 'Etc/Universal', 'Etc/Zulu', 'Europe/Amsterdam', 'Europe/Andorra', 'Europe/Astrakhan', 'Europe/Athens', 'Europe/Belfast', 'Europe/Belgrade', 'Europe/Berlin', 'Europe/Bratislava', 'Europe/Brussels', 'Europe/Bucharest', 'Europe/Budapest', 'Europe/Busingen', 'Europe/Chisinau', 'Europe/Copenhagen', 'Europe/Dublin', 'Europe/Gibraltar', 'Europe/Guernsey', 'Europe/Helsinki', 'Europe/Isle_of_Man', 'Europe/Istanbul', 'Europe/Jersey', 'Europe/Kaliningrad', 'Europe/Kiev', 'Europe/Kirov', 'Europe/Kyiv', 'Europe/Lisbon', 'Europe/Ljubljana', 'Europe/London', 'Europe/Luxembourg', 'Europe/Madrid', 'Europe/Malta', 'Europe/Mariehamn', 'Europe/Minsk', 'Europe/Monaco', 'Europe/Moscow', 'Europe/Nicosia', 'Europe/Oslo', 'Europe/Paris', 'Europe/Podgorica', 'Europe/Prague', 'Europe/Riga', 'Europe/Rome', 'Europe/Samara', 'Europe/San_Marino', 'Europe/Sarajevo', 'Europe/Saratov', 'Europe/Simferopol', 'Europe/Skopje', 'Europe/Sofia', 'Europe/Stockholm', 'Europe/Tallinn', 'Europe/Tirane', 'Europe/Tiraspol', 'Europe/Ulyanovsk', 'Europe/Uzhgorod', 'Europe/Vaduz', 'Europe/Vatican', 'Europe/Vienna', 'Europe/Vilnius', 'Europe/Volgograd', 'Europe/Warsaw', 'Europe/Zagreb', 'Europe/Zaporozhye', 'Europe/Zurich', 'GB', 'GB-Eire', 'GMT', 'GMT+0', 'GMT-0', 'GMT0', 'Greenwich', 'HST', 'Hongkong', 'Iceland', 'Indian/Antananarivo', 'Indian/Chagos', 'Indian/Christmas', 'Indian/Cocos', 'Indian/Comoro', 'Indian/Kerguelen', 'Indian/Mahe', 'Indian/Maldives', 'Indian/Mauritius', 'Indian/Mayotte', 'Indian/Reunion', 'Iran', 'Israel', 'Jamaica', 'Japan', 'Kwajalein', 'Libya', 'MET', 'MST', 'MST7MDT', 'Mexico/BajaNorte', 'Mexico/BajaSur', 'Mexico/General', 'NZ', 'NZ-CHAT', 'Navajo', 'PRC', 'PST8PDT', 'Pacific/Apia', 'Pacific/Auckland', 'Pacific/Bougainville', 'Pacific/Chatham', 'Pacific/Chuuk', 'Pacific/Easter', 'Pacific/Efate', 'Pacific/Enderbury', 'Pacific/Fakaofo', 'Pacific/Fiji', 'Pacific/Funafuti', 'Pacific/Galapagos', 'Pacific/Gambier', 'Pacific/Guadalcanal', 'Pacific/Guam', 'Pacific/Honolulu', 'Pacific/Johnston', 'Pacific/Kanton', 'Pacific/Kiritimati', 'Pacific/Kosrae', 'Pacific/Kwajalein', 'Pacific/Majuro', 'Pacific/Marquesas', 'Pacific/Midway', 'Pacific/Nauru', 'Pacific/Niue', 'Pacific/Norfolk', 'Pacific/Noumea', 'Pacific/Pago_Pago', 'Pacific/Palau', 'Pacific/Pitcairn', 'Pacific/Pohnpei', 'Pacific/Ponape', 'Pacific/Port_Moresby', 'Pacific/Rarotonga', 'Pacific/Saipan', 'Pacific/Samoa', 'Pacific/Tahiti', 'Pacific/Tarawa', 'Pacific/Tongatapu', 'Pacific/Truk', 'Pacific/Wake', 'Pacific/Wallis', 'Pacific/Yap', 'Poland', 'Portugal', 'ROC', 'ROK', 'Singapore', 'Turkey', 'UCT', 'US/Alaska', 'US/Aleutian', 'US/Arizona', 'US/Central', 'US/East-Indiana', 'US/Eastern', 'US/Hawaii', 'US/Indiana-Starke', 'US/Michigan', 'US/Mountain', 'US/Pacific', 'US/Samoa', 'UTC', 'Universal', 'W-SU', 'WET', 'Zulu']\n['Africa/Abidjan', 'Africa/Accra', 'Africa/Addis_Ababa', 'Africa/Algiers', 'Africa/Asmara', 'Africa/Asmera', 'Africa/Bamako', 'Africa/Bangui', 'Africa/Banjul', 'Africa/Bissau']\n"
     ]
    }
   ],
   "source": [
    "# Get a list of all time zones\n",
    "time_zones = pytz.all_timezones\n",
    "print('the supported timezones by the pytz module:', time_zones)\n",
    "print(time_zones[:10])  # Print first 10 time zones"
   ]
  },
  {
   "cell_type": "code",
   "execution_count": 0,
   "metadata": {
    "application/vnd.databricks.v1+cell": {
     "cellMetadata": {
      "byteLimit": 2048000,
      "rowLimit": 10000
     },
     "inputWidgets": {},
     "nuid": "af462697-1d01-4137-b50b-f7c1fc43b336",
     "showTitle": false,
     "tableResultSettingsMap": {},
     "title": ""
    }
   },
   "outputs": [
    {
     "output_type": "stream",
     "name": "stdout",
     "output_type": "stream",
     "text": [
      "America/Adak\nAmerica/Anchorage\nAmerica/Anguilla\nAmerica/Antigua\nAmerica/Araguaina\nAmerica/Argentina/Buenos_Aires\nAmerica/Argentina/Catamarca\nAmerica/Argentina/ComodRivadavia\nAmerica/Argentina/Cordoba\nAmerica/Argentina/Jujuy\nAmerica/Argentina/La_Rioja\nAmerica/Argentina/Mendoza\nAmerica/Argentina/Rio_Gallegos\nAmerica/Argentina/Salta\nAmerica/Argentina/San_Juan\nAmerica/Argentina/San_Luis\nAmerica/Argentina/Tucuman\nAmerica/Argentina/Ushuaia\nAmerica/Aruba\nAmerica/Asuncion\nAmerica/Atikokan\nAmerica/Atka\nAmerica/Bahia\nAmerica/Bahia_Banderas\nAmerica/Barbados\nAmerica/Belem\nAmerica/Belize\nAmerica/Blanc-Sablon\nAmerica/Boa_Vista\nAmerica/Bogota\nAmerica/Boise\nAmerica/Buenos_Aires\nAmerica/Cambridge_Bay\nAmerica/Campo_Grande\nAmerica/Cancun\nAmerica/Caracas\nAmerica/Catamarca\nAmerica/Cayenne\nAmerica/Cayman\nAmerica/Chicago\nAmerica/Chihuahua\nAmerica/Ciudad_Juarez\nAmerica/Coral_Harbour\nAmerica/Cordoba\nAmerica/Costa_Rica\nAmerica/Creston\nAmerica/Cuiaba\nAmerica/Curacao\nAmerica/Danmarkshavn\nAmerica/Dawson\nAmerica/Dawson_Creek\nAmerica/Denver\nAmerica/Detroit\nAmerica/Dominica\nAmerica/Edmonton\nAmerica/Eirunepe\nAmerica/El_Salvador\nAmerica/Ensenada\nAmerica/Fort_Nelson\nAmerica/Fort_Wayne\nAmerica/Fortaleza\nAmerica/Glace_Bay\nAmerica/Godthab\nAmerica/Goose_Bay\nAmerica/Grand_Turk\nAmerica/Grenada\nAmerica/Guadeloupe\nAmerica/Guatemala\nAmerica/Guayaquil\nAmerica/Guyana\nAmerica/Halifax\nAmerica/Havana\nAmerica/Hermosillo\nAmerica/Indiana/Indianapolis\nAmerica/Indiana/Knox\nAmerica/Indiana/Marengo\nAmerica/Indiana/Petersburg\nAmerica/Indiana/Tell_City\nAmerica/Indiana/Vevay\nAmerica/Indiana/Vincennes\nAmerica/Indiana/Winamac\nAmerica/Indianapolis\nAmerica/Inuvik\nAmerica/Iqaluit\nAmerica/Jamaica\nAmerica/Jujuy\nAmerica/Juneau\nAmerica/Kentucky/Louisville\nAmerica/Kentucky/Monticello\nAmerica/Knox_IN\nAmerica/Kralendijk\nAmerica/La_Paz\nAmerica/Lima\nAmerica/Los_Angeles\nAmerica/Louisville\nAmerica/Lower_Princes\nAmerica/Maceio\nAmerica/Managua\nAmerica/Manaus\nAmerica/Marigot\nAmerica/Martinique\nAmerica/Matamoros\nAmerica/Mazatlan\nAmerica/Mendoza\nAmerica/Menominee\nAmerica/Merida\nAmerica/Metlakatla\nAmerica/Mexico_City\nAmerica/Miquelon\nAmerica/Moncton\nAmerica/Monterrey\nAmerica/Montevideo\nAmerica/Montreal\nAmerica/Montserrat\nAmerica/Nassau\nAmerica/New_York\nAmerica/Nipigon\nAmerica/Nome\nAmerica/Noronha\nAmerica/North_Dakota/Beulah\nAmerica/North_Dakota/Center\nAmerica/North_Dakota/New_Salem\nAmerica/Nuuk\nAmerica/Ojinaga\nAmerica/Panama\nAmerica/Pangnirtung\nAmerica/Paramaribo\nAmerica/Phoenix\nAmerica/Port-au-Prince\nAmerica/Port_of_Spain\nAmerica/Porto_Acre\nAmerica/Porto_Velho\nAmerica/Puerto_Rico\nAmerica/Punta_Arenas\nAmerica/Rainy_River\nAmerica/Rankin_Inlet\nAmerica/Recife\nAmerica/Regina\nAmerica/Resolute\nAmerica/Rio_Branco\nAmerica/Rosario\nAmerica/Santa_Isabel\nAmerica/Santarem\nAmerica/Santiago\nAmerica/Santo_Domingo\nAmerica/Sao_Paulo\nAmerica/Scoresbysund\nAmerica/Shiprock\nAmerica/Sitka\nAmerica/St_Barthelemy\nAmerica/St_Johns\nAmerica/St_Kitts\nAmerica/St_Lucia\nAmerica/St_Thomas\nAmerica/St_Vincent\nAmerica/Swift_Current\nAmerica/Tegucigalpa\nAmerica/Thule\nAmerica/Thunder_Bay\nAmerica/Tijuana\nAmerica/Toronto\nAmerica/Tortola\nAmerica/Vancouver\nAmerica/Virgin\nAmerica/Whitehorse\nAmerica/Winnipeg\nAmerica/Yakutat\nAmerica/Yellowknife\n"
     ]
    }
   ],
   "source": [
    "for tz in pytz.all_timezones:\n",
    "    if(tz.__contains__(\"America/\")):\n",
    "        print(tz)"
   ]
  },
  {
   "cell_type": "code",
   "execution_count": 0,
   "metadata": {
    "application/vnd.databricks.v1+cell": {
     "cellMetadata": {
      "byteLimit": 2048000,
      "rowLimit": 10000
     },
     "inputWidgets": {},
     "nuid": "094a5fb8-a835-4a6d-b0bd-b7fd332bf1b8",
     "showTitle": false,
     "tableResultSettingsMap": {},
     "title": ""
    }
   },
   "outputs": [
    {
     "output_type": "stream",
     "name": "stdout",
     "output_type": "stream",
     "text": [
      "US/Alaska\nUS/Aleutian\nUS/Arizona\nUS/Central\nUS/East-Indiana\nUS/Eastern\nUS/Hawaii\nUS/Indiana-Starke\nUS/Michigan\nUS/Mountain\nUS/Pacific\nUS/Samoa\n"
     ]
    }
   ],
   "source": [
    "for tz in pytz.all_timezones:\n",
    "    if(tz.__contains__(\"US/\")):\n",
    "        print(tz)"
   ]
  },
  {
   "cell_type": "code",
   "execution_count": 0,
   "metadata": {
    "application/vnd.databricks.v1+cell": {
     "cellMetadata": {
      "byteLimit": 2048000,
      "rowLimit": 10000
     },
     "inputWidgets": {},
     "nuid": "134b8b44-a983-40de-93d2-24085f8327dd",
     "showTitle": false,
     "tableResultSettingsMap": {},
     "title": ""
    }
   },
   "outputs": [
    {
     "output_type": "stream",
     "name": "stdout",
     "output_type": "stream",
     "text": [
      "Asia/Aden\nAsia/Almaty\nAsia/Amman\nAsia/Anadyr\nAsia/Aqtau\nAsia/Aqtobe\nAsia/Ashgabat\nAsia/Ashkhabad\nAsia/Atyrau\nAsia/Baghdad\nAsia/Bahrain\nAsia/Baku\nAsia/Bangkok\nAsia/Barnaul\nAsia/Beirut\nAsia/Bishkek\nAsia/Brunei\nAsia/Calcutta\nAsia/Chita\nAsia/Choibalsan\nAsia/Chongqing\nAsia/Chungking\nAsia/Colombo\nAsia/Dacca\nAsia/Damascus\nAsia/Dhaka\nAsia/Dili\nAsia/Dubai\nAsia/Dushanbe\nAsia/Famagusta\nAsia/Gaza\nAsia/Harbin\nAsia/Hebron\nAsia/Ho_Chi_Minh\nAsia/Hong_Kong\nAsia/Hovd\nAsia/Irkutsk\nAsia/Istanbul\nAsia/Jakarta\nAsia/Jayapura\nAsia/Jerusalem\nAsia/Kabul\nAsia/Kamchatka\nAsia/Karachi\nAsia/Kashgar\nAsia/Kathmandu\nAsia/Katmandu\nAsia/Khandyga\nAsia/Kolkata\nAsia/Krasnoyarsk\nAsia/Kuala_Lumpur\nAsia/Kuching\nAsia/Kuwait\nAsia/Macao\nAsia/Macau\nAsia/Magadan\nAsia/Makassar\nAsia/Manila\nAsia/Muscat\nAsia/Nicosia\nAsia/Novokuznetsk\nAsia/Novosibirsk\nAsia/Omsk\nAsia/Oral\nAsia/Phnom_Penh\nAsia/Pontianak\nAsia/Pyongyang\nAsia/Qatar\nAsia/Qostanay\nAsia/Qyzylorda\nAsia/Rangoon\nAsia/Riyadh\nAsia/Saigon\nAsia/Sakhalin\nAsia/Samarkand\nAsia/Seoul\nAsia/Shanghai\nAsia/Singapore\nAsia/Srednekolymsk\nAsia/Taipei\nAsia/Tashkent\nAsia/Tbilisi\nAsia/Tehran\nAsia/Tel_Aviv\nAsia/Thimbu\nAsia/Thimphu\nAsia/Tokyo\nAsia/Tomsk\nAsia/Ujung_Pandang\nAsia/Ulaanbaatar\nAsia/Ulan_Bator\nAsia/Urumqi\nAsia/Ust-Nera\nAsia/Vientiane\nAsia/Vladivostok\nAsia/Yakutsk\nAsia/Yangon\nAsia/Yekaterinburg\nAsia/Yerevan\n"
     ]
    }
   ],
   "source": [
    "for tz in pytz.all_timezones:\n",
    "    if(tz.__contains__(\"Asia/\")):\n",
    "        print(tz)"
   ]
  },
  {
   "cell_type": "markdown",
   "metadata": {
    "application/vnd.databricks.v1+cell": {
     "cellMetadata": {},
     "inputWidgets": {},
     "nuid": "108f911d-26bf-46f3-a63c-66b9bc079bf5",
     "showTitle": false,
     "tableResultSettingsMap": {},
     "title": ""
    }
   },
   "source": [
    "#### **b) all_timezones_set**\n",
    "\n",
    "- It returns the **set** of all the available **timezones** with **pytz.all_timezones_set**."
   ]
  },
  {
   "cell_type": "code",
   "execution_count": 0,
   "metadata": {
    "application/vnd.databricks.v1+cell": {
     "cellMetadata": {
      "byteLimit": 2048000,
      "rowLimit": 10000
     },
     "inputWidgets": {},
     "nuid": "5532702a-fd7d-4272-8f17-db01dd3c4d08",
     "showTitle": false,
     "tableResultSettingsMap": {},
     "title": ""
    }
   },
   "outputs": [
    {
     "output_type": "stream",
     "name": "stdout",
     "output_type": "stream",
     "text": [
      "all the supported timezones set:  LazySet({'America/Cuiaba', 'Europe/Zurich', 'America/Sao_Paulo', 'Africa/Brazzaville', 'America/St_Thomas', 'America/Pangnirtung', 'Europe/Dublin', 'Asia/Krasnoyarsk', 'Asia/Nicosia', 'Africa/Dar_es_Salaam', 'America/Argentina/Catamarca', 'Etc/Zulu', 'Pacific/Bougainville', 'America/Goose_Bay', 'Indian/Cocos', 'Pacific/Wallis', 'America/Fortaleza', 'America/Eirunepe', 'Africa/Bamako', 'Atlantic/Stanley', 'America/Argentina/Rio_Gallegos', 'America/Glace_Bay', 'Australia/ACT', 'Etc/GMT-12', 'US/Pacific', 'Australia/Brisbane', 'Europe/Warsaw', 'Africa/Bujumbura', 'Asia/Kathmandu', 'Asia/Thimphu', 'America/Manaus', 'Africa/Sao_Tome', 'Pacific/Kanton', 'America/Knox_IN', 'Africa/Porto-Novo', 'Asia/Qatar', 'America/Virgin', 'Africa/Casablanca', 'America/Argentina/Tucuman', 'Pacific/Apia', 'Europe/Ulyanovsk', 'America/Catamarca', 'America/Marigot', 'US/Alaska', 'Pacific/Midway', 'America/Argentina/Salta', 'America/Rosario', 'W-SU', 'US/Aleutian', 'Asia/Kuching', 'America/Miquelon', 'Europe/Tallinn', 'Pacific/Galapagos', 'Asia/Katmandu', 'Europe/Malta', 'Africa/Accra', 'Europe/Stockholm', 'Pacific/Majuro', 'America/Phoenix', 'Etc/Greenwich', 'Europe/Zagreb', 'Australia/NSW', 'Asia/Oral', 'Asia/Gaza', 'Europe/Mariehamn', 'America/Thunder_Bay', 'Antarctica/Rothera', 'Asia/Pontianak', 'Europe/Vatican', 'Africa/Maputo', 'Antarctica/McMurdo', 'Indian/Maldives', 'Africa/Mogadishu', 'Europe/Andorra', 'Europe/Simferopol', 'America/Metlakatla', 'America/Scoresbysund', 'Singapore', 'Asia/Aqtobe', 'Australia/Victoria', 'GMT0', 'Asia/Brunei', 'Africa/Kigali', 'America/St_Kitts', 'Europe/Oslo', 'Asia/Beirut', 'America/Porto_Velho', 'Africa/Lusaka', 'America/Argentina/Jujuy', 'Etc/GMT+1', 'America/Coral_Harbour', 'America/Managua', 'Europe/Zaporozhye', 'Pacific/Guadalcanal', 'America/Swift_Current', 'Africa/Timbuktu', 'Arctic/Longyearbyen', 'Asia/Yangon', 'America/Santiago', 'Asia/Aqtau', 'America/Curacao', 'America/Detroit', 'America/Tortola', 'Asia/Khandyga', 'America/Juneau', 'Africa/Tunis', 'America/Whitehorse', 'Africa/Niamey', 'Pacific/Guam', 'America/Mexico_City', 'Europe/Luxembourg', 'America/Bahia_Banderas', 'Asia/Seoul', 'Etc/GMT-5', 'Pacific/Fiji', 'Europe/Belgrade', 'Atlantic/Faroe', 'America/Boa_Vista', 'America/Argentina/Mendoza', 'Etc/GMT-6', 'America/Lower_Princes', 'Australia/Broken_Hill', 'America/Tegucigalpa', 'US/Arizona', 'Indian/Chagos', 'Asia/Ashgabat', 'US/Hawaii', 'America/Campo_Grande', 'America/Fort_Nelson', 'Atlantic/St_Helena', 'Asia/Kabul', 'America/Moncton', 'Asia/Anadyr', 'Etc/GMT-9', 'Etc/Universal', 'Etc/GMT+9', 'Atlantic/Reykjavik', 'America/Anchorage', 'America/Nuuk', 'Canada/Eastern', 'Asia/Tehran', 'Indian/Mauritius', 'US/Mountain', 'America/Indiana/Petersburg', 'Antarctica/South_Pole', 'Europe/Amsterdam', 'Europe/Bratislava', 'America/Cayman', 'Asia/Muscat', 'Africa/Monrovia', 'Europe/Volgograd', 'America/Adak', 'MST', 'Canada/Mountain', 'America/Atka', 'Asia/Novosibirsk', 'Asia/Dhaka', 'Pacific/Yap', 'Pacific/Niue', 'Europe/Kyiv', 'Pacific/Easter', 'America/Argentina/San_Luis', 'UCT', 'Europe/Berlin', 'America/Buenos_Aires', 'Australia/Perth', 'America/Santo_Domingo', 'Etc/GMT+8', 'Asia/Karachi', 'Antarctica/DumontDUrville', 'US/Eastern', 'Asia/Rangoon', 'Mexico/BajaNorte', 'Zulu', 'America/Argentina/Cordoba', 'Europe/Sarajevo', 'America/Bogota', 'Canada/Saskatchewan', 'America/Guyana', 'Asia/Dubai', 'Pacific/Nauru', 'Asia/Yekaterinburg', 'Pacific/Kwajalein', 'Africa/Ouagadougou', 'America/Merida', 'Etc/GMT+6', 'Brazil/DeNoronha', 'America/Yellowknife', 'Asia/Shanghai', 'Europe/Bucharest', 'Asia/Dacca', 'US/Central', 'Eire', 'Etc/GMT0', 'Asia/Riyadh', 'US/East-Indiana', 'CST6CDT', 'Europe/Ljubljana', 'Africa/Lome', 'Australia/Canberra', 'Etc/GMT+7', 'Africa/Libreville', 'Asia/Macao', 'America/Araguaina', 'Europe/Riga', 'Kwajalein', 'Europe/Prague', 'Etc/GMT-1', 'Etc/GMT-10', 'Asia/Bangkok', 'Europe/Jersey', 'America/Indianapolis', 'Asia/Kolkata', 'Asia/Jakarta', 'Africa/Harare', 'Europe/Samara', 'Asia/Phnom_Penh', 'America/Indiana/Vevay', 'Australia/North', 'Africa/Khartoum', 'Asia/Ashkhabad', 'Canada/Atlantic', 'Israel', 'Africa/Bangui', 'America/Guayaquil', 'America/Maceio', 'Europe/Gibraltar', 'Asia/Urumqi', 'Pacific/Honolulu', 'America/Guatemala', 'Indian/Antananarivo', 'Africa/Ceuta', 'America/Havana', 'Antarctica/Syowa', 'Africa/Freetown', 'America/Asuncion', 'Asia/Samarkand', 'Canada/Central', 'Antarctica/Vostok', 'Atlantic/Cape_Verde', 'Antarctica/Mawson', 'Cuba', 'Libya', 'Greenwich', 'Australia/Lord_Howe', 'MET', 'America/Danmarkshavn', 'Pacific/Tongatapu', 'Africa/Abidjan', 'Asia/Manila', 'Etc/GMT-14', 'Australia/Melbourne', 'America/Toronto', 'Pacific/Fakaofo', 'Asia/Tokyo', 'America/Nome', 'Etc/GMT+0', 'Asia/Chongqing', 'America/Inuvik', 'Pacific/Kosrae', 'Asia/Singapore', 'Etc/GMT+5', 'Europe/Copenhagen', 'Portugal', 'Indian/Reunion', 'Asia/Sakhalin', 'America/Hermosillo', 'Pacific/Marquesas', 'America/Barbados', 'Asia/Srednekolymsk', 'America/St_Vincent', 'America/Matamoros', 'Asia/Bishkek', 'Etc/GMT-0', 'Etc/GMT-4', 'Turkey', 'Europe/Uzhgorod', 'US/Indiana-Starke', 'Asia/Aden', 'Etc/GMT-8', 'GMT+0', 'America/Aruba', 'Asia/Makassar', 'Australia/South', 'America/Argentina/Buenos_Aires', 'Europe/Istanbul', 'Europe/Nicosia', 'Atlantic/Bermuda', 'Asia/Kamchatka', 'Asia/Damascus', 'Europe/Tirane', 'Australia/Eucla', 'America/Argentina/ComodRivadavia', 'Africa/Maseru', 'US/Michigan', 'HST', 'Asia/Qyzylorda', 'Africa/Bissau', 'America/Winnipeg', 'America/Indiana/Marengo', 'America/Indiana/Tell_City', 'Pacific/Samoa', 'Chile/EasterIsland', 'Etc/GMT-13', 'Pacific/Port_Moresby', 'Indian/Comoro', 'Asia/Chungking', 'Pacific/Chatham', 'Australia/LHI', 'America/Indiana/Vincennes', 'Etc/GMT-11', 'Antarctica/Casey', 'America/Panama', 'America/Santarem', 'Africa/Blantyre', 'Pacific/Tahiti', 'Africa/Windhoek', 'Atlantic/South_Georgia', 'Pacific/Pago_Pago', 'Africa/Algiers', 'Africa/Johannesburg', 'America/Cambridge_Bay', 'America/Dawson_Creek', 'Pacific/Johnston', 'America/Iqaluit', 'America/El_Salvador', 'Africa/Dakar', 'America/Recife', 'America/Los_Angeles', 'America/North_Dakota/Beulah', 'Mexico/General', 'America/Halifax', 'Asia/Istanbul', 'Etc/UCT', 'America/Montevideo', 'Africa/Tripoli', 'Canada/Yukon', 'America/Argentina/La_Rioja', 'Pacific/Kiritimati', 'Pacific/Gambier', 'Europe/Chisinau', 'Asia/Omsk', 'Asia/Ho_Chi_Minh', 'Atlantic/Jan_Mayen', 'America/Punta_Arenas', 'Europe/Minsk', 'Atlantic/Madeira', 'Australia/Lindeman', 'Africa/Lubumbashi', 'America/Grenada', 'NZ', 'America/New_York', 'Europe/Kirov', 'America/Port-au-Prince', 'Iran', 'America/Monterrey', 'Canada/Pacific', 'Europe/Rome', 'America/Rainy_River', 'Africa/Douala', 'Europe/Astrakhan', 'Pacific/Pohnpei', 'America/Grand_Turk', 'GMT', 'America/Shiprock', 'America/Indiana/Knox', 'America/Jujuy', 'Etc/GMT-2', 'Etc/GMT', 'Africa/Cairo', 'Africa/Banjul', 'CET', 'GMT-0', 'America/St_Lucia', 'Asia/Vientiane', 'America/Jamaica', 'Asia/Choibalsan', 'Australia/Darwin', 'Asia/Ujung_Pandang', 'America/Caracas', 'Pacific/Pitcairn', 'Asia/Macau', 'Asia/Hovd', 'Antarctica/Davis', 'America/Louisville', 'Atlantic/Faeroe', 'Africa/Asmera', 'EST', 'Asia/Baghdad', 'Asia/Jerusalem', 'America/Porto_Acre', 'Antarctica/Palmer', 'Europe/Sofia', 'Europe/Podgorica', 'America/Tijuana', 'Asia/Hebron', 'Antarctica/Troll', 'America/Ojinaga', 'Pacific/Rarotonga', 'Pacific/Funafuti', 'Etc/GMT+12', 'America/Chicago', 'Pacific/Enderbury', 'Europe/Kaliningrad', 'Europe/Kiev', 'Antarctica/Macquarie', 'Australia/Adelaide', 'Canada/Newfoundland', 'Asia/Kashgar', 'America/Ensenada', 'Atlantic/Canary', 'Brazil/West', 'Egypt', 'Asia/Tel_Aviv', 'Europe/Paris', 'Europe/Madrid', 'Indian/Kerguelen', 'Africa/Kampala', 'America/Resolute', 'Indian/Christmas', 'NZ-CHAT', 'Europe/Lisbon', 'Africa/Asmara', 'Europe/Tiraspol', 'Asia/Yerevan', 'Europe/Busingen', 'Australia/Tasmania', 'Africa/Juba', 'Asia/Calcutta', 'Asia/Chita', 'America/Bahia', 'Brazil/Acre', 'Europe/Monaco', 'Europe/Vienna', 'Pacific/Saipan', 'Asia/Bahrain', 'Asia/Dushanbe', 'America/Kentucky/Louisville', 'Asia/Famagusta', 'Europe/Skopje', 'Asia/Hong_Kong', 'America/Creston', 'Etc/UTC', 'America/Godthab', 'WET', 'Asia/Vladivostok', 'Etc/GMT-7', 'Australia/Hobart', 'Europe/Athens', 'America/Nipigon', 'Pacific/Chuuk', 'America/Montserrat', 'Etc/GMT+4', 'Asia/Qostanay', 'Europe/Budapest', 'America/Cayenne', 'America/Menominee', 'Asia/Barnaul', 'America/Cancun', 'Europe/Vaduz', 'America/Antigua', 'America/Boise', 'America/Atikokan', 'America/Martinique', 'America/Kentucky/Monticello', 'America/Costa_Rica', 'America/Regina', 'Africa/Malabo', 'Asia/Harbin', 'Europe/Helsinki', 'America/Guadeloupe', 'America/Argentina/Ushuaia', 'America/Indiana/Indianapolis', 'Africa/Lagos', 'America/Belem', 'America/Cordoba', 'Africa/Nouakchott', 'Asia/Ust-Nera', 'Etc/GMT+2', 'Asia/Magadan', 'Asia/Novokuznetsk', 'Pacific/Efate', 'Pacific/Noumea', 'Europe/Saratov', 'America/Thule', 'Europe/Moscow', 'Asia/Dili', 'Indian/Mahe', 'America/Vancouver', 'Chile/Continental', 'Asia/Kuwait', 'America/North_Dakota/New_Salem', 'Poland', 'Asia/Ulaanbaatar', 'Asia/Baku', 'Asia/Yakutsk', 'Europe/Belfast', 'Pacific/Auckland', 'America/Kralendijk', 'Pacific/Palau', 'Asia/Taipei', 'America/St_Barthelemy', 'America/Port_of_Spain', 'Brazil/East', 'Asia/Thimbu', 'Africa/Gaborone', 'America/Noronha', 'Etc/GMT+3', 'America/Indiana/Winamac', 'Universal', 'Europe/London', 'Asia/Tbilisi', 'America/Anguilla', 'America/Edmonton', 'America/Mazatlan', 'America/La_Paz', 'Pacific/Norfolk', 'Asia/Irkutsk', 'PRC', 'Etc/GMT+10', 'America/Puerto_Rico', 'Asia/Colombo', 'ROK', 'Asia/Ulan_Bator', 'America/Ciudad_Juarez', 'Africa/Djibouti', 'Australia/West', 'Africa/Addis_Ababa', 'America/Argentina/San_Juan', 'Europe/Isle_of_Man', 'Asia/Atyrau', 'GB', 'Navajo', 'America/Santa_Isabel', 'Hongkong', 'Pacific/Truk', 'Europe/Vilnius', 'Japan', 'Asia/Almaty', 'Etc/GMT+11', 'Africa/Conakry', 'Asia/Amman', 'Atlantic/Azores', 'America/Blanc-Sablon', 'America/Belize', 'Europe/Brussels', 'Europe/San_Marino', 'Africa/Nairobi', 'Asia/Pyongyang', 'America/Dominica', 'Asia/Jayapura', 'Australia/Queensland', 'Indian/Mayotte', 'US/Samoa', 'America/Fort_Wayne', 'America/St_Johns', 'PST8PDT', 'Jamaica', 'America/Lima', 'America/Sitka', 'Asia/Tashkent', 'ROC', 'Africa/Mbabane', 'America/Dawson', 'Asia/Saigon', 'Pacific/Tarawa', 'Mexico/BajaSur', 'Australia/Sydney', 'America/Denver', 'Pacific/Ponape', 'Iceland', 'America/Chihuahua', 'Africa/Ndjamena', 'America/Mendoza', 'Europe/Guernsey', 'America/Paramaribo', 'Etc/GMT-3', 'EST5EDT', 'MST7MDT', 'Asia/Tomsk', 'America/Rio_Branco', 'America/Montreal', 'America/Yakutat', 'Africa/El_Aaiun', 'GB-Eire', 'America/North_Dakota/Center', 'Africa/Luanda', 'Australia/Yancowinna', 'Africa/Kinshasa', 'EET', 'America/Nassau', 'Pacific/Wake', 'America/Rankin_Inlet', 'Australia/Currie', 'UTC', 'Asia/Kuala_Lumpur'}) \n\n"
     ]
    }
   ],
   "source": [
    "print('all the supported timezones set: ', pytz.all_timezones_set, '\\n')"
   ]
  },
  {
   "cell_type": "markdown",
   "metadata": {
    "application/vnd.databricks.v1+cell": {
     "cellMetadata": {},
     "inputWidgets": {},
     "nuid": "37aafccf-e521-4526-9037-c13132d2a509",
     "showTitle": false,
     "tableResultSettingsMap": {},
     "title": ""
    }
   },
   "source": [
    "#### **c) Common_timezones, Common_timezones_set**\n",
    "\n",
    "- It returns the **list and set** of commonly used timezones with **pytz.common_timezones, pytz.common_timezones_set**."
   ]
  },
  {
   "cell_type": "code",
   "execution_count": 0,
   "metadata": {
    "application/vnd.databricks.v1+cell": {
     "cellMetadata": {
      "byteLimit": 2048000,
      "rowLimit": 10000
     },
     "inputWidgets": {},
     "nuid": "f7faec92-14f8-4188-9936-8e8b2b162039",
     "showTitle": false,
     "tableResultSettingsMap": {},
     "title": ""
    }
   },
   "outputs": [
    {
     "output_type": "stream",
     "name": "stdout",
     "output_type": "stream",
     "text": [
      "Commonly used time-zones: ['Africa/Abidjan', 'Africa/Accra', 'Africa/Addis_Ababa', 'Africa/Algiers', 'Africa/Asmara', 'Africa/Bamako', 'Africa/Bangui', 'Africa/Banjul', 'Africa/Bissau', 'Africa/Blantyre', 'Africa/Brazzaville', 'Africa/Bujumbura', 'Africa/Cairo', 'Africa/Casablanca', 'Africa/Ceuta', 'Africa/Conakry', 'Africa/Dakar', 'Africa/Dar_es_Salaam', 'Africa/Djibouti', 'Africa/Douala', 'Africa/El_Aaiun', 'Africa/Freetown', 'Africa/Gaborone', 'Africa/Harare', 'Africa/Johannesburg', 'Africa/Juba', 'Africa/Kampala', 'Africa/Khartoum', 'Africa/Kigali', 'Africa/Kinshasa', 'Africa/Lagos', 'Africa/Libreville', 'Africa/Lome', 'Africa/Luanda', 'Africa/Lubumbashi', 'Africa/Lusaka', 'Africa/Malabo', 'Africa/Maputo', 'Africa/Maseru', 'Africa/Mbabane', 'Africa/Mogadishu', 'Africa/Monrovia', 'Africa/Nairobi', 'Africa/Ndjamena', 'Africa/Niamey', 'Africa/Nouakchott', 'Africa/Ouagadougou', 'Africa/Porto-Novo', 'Africa/Sao_Tome', 'Africa/Tripoli', 'Africa/Tunis', 'Africa/Windhoek', 'America/Adak', 'America/Anchorage', 'America/Anguilla', 'America/Antigua', 'America/Araguaina', 'America/Argentina/Buenos_Aires', 'America/Argentina/Catamarca', 'America/Argentina/Cordoba', 'America/Argentina/Jujuy', 'America/Argentina/La_Rioja', 'America/Argentina/Mendoza', 'America/Argentina/Rio_Gallegos', 'America/Argentina/Salta', 'America/Argentina/San_Juan', 'America/Argentina/San_Luis', 'America/Argentina/Tucuman', 'America/Argentina/Ushuaia', 'America/Aruba', 'America/Asuncion', 'America/Atikokan', 'America/Bahia', 'America/Bahia_Banderas', 'America/Barbados', 'America/Belem', 'America/Belize', 'America/Blanc-Sablon', 'America/Boa_Vista', 'America/Bogota', 'America/Boise', 'America/Cambridge_Bay', 'America/Campo_Grande', 'America/Cancun', 'America/Caracas', 'America/Cayenne', 'America/Cayman', 'America/Chicago', 'America/Chihuahua', 'America/Ciudad_Juarez', 'America/Costa_Rica', 'America/Creston', 'America/Cuiaba', 'America/Curacao', 'America/Danmarkshavn', 'America/Dawson', 'America/Dawson_Creek', 'America/Denver', 'America/Detroit', 'America/Dominica', 'America/Edmonton', 'America/Eirunepe', 'America/El_Salvador', 'America/Fort_Nelson', 'America/Fortaleza', 'America/Glace_Bay', 'America/Goose_Bay', 'America/Grand_Turk', 'America/Grenada', 'America/Guadeloupe', 'America/Guatemala', 'America/Guayaquil', 'America/Guyana', 'America/Halifax', 'America/Havana', 'America/Hermosillo', 'America/Indiana/Indianapolis', 'America/Indiana/Knox', 'America/Indiana/Marengo', 'America/Indiana/Petersburg', 'America/Indiana/Tell_City', 'America/Indiana/Vevay', 'America/Indiana/Vincennes', 'America/Indiana/Winamac', 'America/Inuvik', 'America/Iqaluit', 'America/Jamaica', 'America/Juneau', 'America/Kentucky/Louisville', 'America/Kentucky/Monticello', 'America/Kralendijk', 'America/La_Paz', 'America/Lima', 'America/Los_Angeles', 'America/Lower_Princes', 'America/Maceio', 'America/Managua', 'America/Manaus', 'America/Marigot', 'America/Martinique', 'America/Matamoros', 'America/Mazatlan', 'America/Menominee', 'America/Merida', 'America/Metlakatla', 'America/Mexico_City', 'America/Miquelon', 'America/Moncton', 'America/Monterrey', 'America/Montevideo', 'America/Montserrat', 'America/Nassau', 'America/New_York', 'America/Nome', 'America/Noronha', 'America/North_Dakota/Beulah', 'America/North_Dakota/Center', 'America/North_Dakota/New_Salem', 'America/Nuuk', 'America/Ojinaga', 'America/Panama', 'America/Paramaribo', 'America/Phoenix', 'America/Port-au-Prince', 'America/Port_of_Spain', 'America/Porto_Velho', 'America/Puerto_Rico', 'America/Punta_Arenas', 'America/Rankin_Inlet', 'America/Recife', 'America/Regina', 'America/Resolute', 'America/Rio_Branco', 'America/Santarem', 'America/Santiago', 'America/Santo_Domingo', 'America/Sao_Paulo', 'America/Scoresbysund', 'America/Sitka', 'America/St_Barthelemy', 'America/St_Johns', 'America/St_Kitts', 'America/St_Lucia', 'America/St_Thomas', 'America/St_Vincent', 'America/Swift_Current', 'America/Tegucigalpa', 'America/Thule', 'America/Tijuana', 'America/Toronto', 'America/Tortola', 'America/Vancouver', 'America/Whitehorse', 'America/Winnipeg', 'America/Yakutat', 'America/Yellowknife', 'Antarctica/Casey', 'Antarctica/Davis', 'Antarctica/DumontDUrville', 'Antarctica/Macquarie', 'Antarctica/Mawson', 'Antarctica/McMurdo', 'Antarctica/Palmer', 'Antarctica/Rothera', 'Antarctica/Syowa', 'Antarctica/Troll', 'Antarctica/Vostok', 'Arctic/Longyearbyen', 'Asia/Aden', 'Asia/Almaty', 'Asia/Amman', 'Asia/Anadyr', 'Asia/Aqtau', 'Asia/Aqtobe', 'Asia/Ashgabat', 'Asia/Atyrau', 'Asia/Baghdad', 'Asia/Bahrain', 'Asia/Baku', 'Asia/Bangkok', 'Asia/Barnaul', 'Asia/Beirut', 'Asia/Bishkek', 'Asia/Brunei', 'Asia/Chita', 'Asia/Choibalsan', 'Asia/Colombo', 'Asia/Damascus', 'Asia/Dhaka', 'Asia/Dili', 'Asia/Dubai', 'Asia/Dushanbe', 'Asia/Famagusta', 'Asia/Gaza', 'Asia/Hebron', 'Asia/Ho_Chi_Minh', 'Asia/Hong_Kong', 'Asia/Hovd', 'Asia/Irkutsk', 'Asia/Jakarta', 'Asia/Jayapura', 'Asia/Jerusalem', 'Asia/Kabul', 'Asia/Kamchatka', 'Asia/Karachi', 'Asia/Kathmandu', 'Asia/Khandyga', 'Asia/Kolkata', 'Asia/Krasnoyarsk', 'Asia/Kuala_Lumpur', 'Asia/Kuching', 'Asia/Kuwait', 'Asia/Macau', 'Asia/Magadan', 'Asia/Makassar', 'Asia/Manila', 'Asia/Muscat', 'Asia/Nicosia', 'Asia/Novokuznetsk', 'Asia/Novosibirsk', 'Asia/Omsk', 'Asia/Oral', 'Asia/Phnom_Penh', 'Asia/Pontianak', 'Asia/Pyongyang', 'Asia/Qatar', 'Asia/Qostanay', 'Asia/Qyzylorda', 'Asia/Riyadh', 'Asia/Sakhalin', 'Asia/Samarkand', 'Asia/Seoul', 'Asia/Shanghai', 'Asia/Singapore', 'Asia/Srednekolymsk', 'Asia/Taipei', 'Asia/Tashkent', 'Asia/Tbilisi', 'Asia/Tehran', 'Asia/Thimphu', 'Asia/Tokyo', 'Asia/Tomsk', 'Asia/Ulaanbaatar', 'Asia/Urumqi', 'Asia/Ust-Nera', 'Asia/Vientiane', 'Asia/Vladivostok', 'Asia/Yakutsk', 'Asia/Yangon', 'Asia/Yekaterinburg', 'Asia/Yerevan', 'Atlantic/Azores', 'Atlantic/Bermuda', 'Atlantic/Canary', 'Atlantic/Cape_Verde', 'Atlantic/Faroe', 'Atlantic/Madeira', 'Atlantic/Reykjavik', 'Atlantic/South_Georgia', 'Atlantic/St_Helena', 'Atlantic/Stanley', 'Australia/Adelaide', 'Australia/Brisbane', 'Australia/Broken_Hill', 'Australia/Darwin', 'Australia/Eucla', 'Australia/Hobart', 'Australia/Lindeman', 'Australia/Lord_Howe', 'Australia/Melbourne', 'Australia/Perth', 'Australia/Sydney', 'Canada/Atlantic', 'Canada/Central', 'Canada/Eastern', 'Canada/Mountain', 'Canada/Newfoundland', 'Canada/Pacific', 'Europe/Amsterdam', 'Europe/Andorra', 'Europe/Astrakhan', 'Europe/Athens', 'Europe/Belgrade', 'Europe/Berlin', 'Europe/Bratislava', 'Europe/Brussels', 'Europe/Bucharest', 'Europe/Budapest', 'Europe/Busingen', 'Europe/Chisinau', 'Europe/Copenhagen', 'Europe/Dublin', 'Europe/Gibraltar', 'Europe/Guernsey', 'Europe/Helsinki', 'Europe/Isle_of_Man', 'Europe/Istanbul', 'Europe/Jersey', 'Europe/Kaliningrad', 'Europe/Kirov', 'Europe/Kyiv', 'Europe/Lisbon', 'Europe/Ljubljana', 'Europe/London', 'Europe/Luxembourg', 'Europe/Madrid', 'Europe/Malta', 'Europe/Mariehamn', 'Europe/Minsk', 'Europe/Monaco', 'Europe/Moscow', 'Europe/Oslo', 'Europe/Paris', 'Europe/Podgorica', 'Europe/Prague', 'Europe/Riga', 'Europe/Rome', 'Europe/Samara', 'Europe/San_Marino', 'Europe/Sarajevo', 'Europe/Saratov', 'Europe/Simferopol', 'Europe/Skopje', 'Europe/Sofia', 'Europe/Stockholm', 'Europe/Tallinn', 'Europe/Tirane', 'Europe/Ulyanovsk', 'Europe/Vaduz', 'Europe/Vatican', 'Europe/Vienna', 'Europe/Vilnius', 'Europe/Volgograd', 'Europe/Warsaw', 'Europe/Zagreb', 'Europe/Zurich', 'GMT', 'Indian/Antananarivo', 'Indian/Chagos', 'Indian/Christmas', 'Indian/Cocos', 'Indian/Comoro', 'Indian/Kerguelen', 'Indian/Mahe', 'Indian/Maldives', 'Indian/Mauritius', 'Indian/Mayotte', 'Indian/Reunion', 'Pacific/Apia', 'Pacific/Auckland', 'Pacific/Bougainville', 'Pacific/Chatham', 'Pacific/Chuuk', 'Pacific/Easter', 'Pacific/Efate', 'Pacific/Fakaofo', 'Pacific/Fiji', 'Pacific/Funafuti', 'Pacific/Galapagos', 'Pacific/Gambier', 'Pacific/Guadalcanal', 'Pacific/Guam', 'Pacific/Honolulu', 'Pacific/Kanton', 'Pacific/Kiritimati', 'Pacific/Kosrae', 'Pacific/Kwajalein', 'Pacific/Majuro', 'Pacific/Marquesas', 'Pacific/Midway', 'Pacific/Nauru', 'Pacific/Niue', 'Pacific/Norfolk', 'Pacific/Noumea', 'Pacific/Pago_Pago', 'Pacific/Palau', 'Pacific/Pitcairn', 'Pacific/Pohnpei', 'Pacific/Port_Moresby', 'Pacific/Rarotonga', 'Pacific/Saipan', 'Pacific/Tahiti', 'Pacific/Tarawa', 'Pacific/Tongatapu', 'Pacific/Wake', 'Pacific/Wallis', 'US/Alaska', 'US/Arizona', 'US/Central', 'US/Eastern', 'US/Hawaii', 'US/Mountain', 'US/Pacific', 'UTC'] \n\nCommonly used time-zones-set: LazySet({'America/Cuiaba', 'Europe/Zurich', 'America/Sao_Paulo', 'Africa/Brazzaville', 'America/St_Thomas', 'Europe/Dublin', 'Asia/Krasnoyarsk', 'Asia/Nicosia', 'Africa/Dar_es_Salaam', 'America/Argentina/Catamarca', 'Pacific/Bougainville', 'America/Goose_Bay', 'Indian/Cocos', 'Pacific/Wallis', 'America/Fortaleza', 'America/Eirunepe', 'Africa/Bamako', 'Atlantic/Stanley', 'America/Argentina/Rio_Gallegos', 'America/Glace_Bay', 'US/Pacific', 'Australia/Brisbane', 'Europe/Warsaw', 'Africa/Bujumbura', 'Asia/Kathmandu', 'Asia/Thimphu', 'America/Manaus', 'Africa/Sao_Tome', 'Pacific/Kanton', 'Africa/Porto-Novo', 'Asia/Qatar', 'Africa/Casablanca', 'America/Argentina/Tucuman', 'Pacific/Apia', 'Europe/Ulyanovsk', 'America/Marigot', 'US/Alaska', 'Pacific/Midway', 'America/Argentina/Salta', 'Asia/Kuching', 'America/Miquelon', 'Europe/Tallinn', 'Pacific/Galapagos', 'Europe/Malta', 'Africa/Accra', 'Europe/Stockholm', 'Pacific/Majuro', 'America/Phoenix', 'Europe/Zagreb', 'Asia/Oral', 'Asia/Gaza', 'Europe/Mariehamn', 'Antarctica/Rothera', 'Asia/Pontianak', 'Europe/Vatican', 'Africa/Maputo', 'Antarctica/McMurdo', 'Indian/Maldives', 'Africa/Mogadishu', 'Europe/Andorra', 'Europe/Simferopol', 'America/Metlakatla', 'America/Scoresbysund', 'Asia/Aqtobe', 'Asia/Brunei', 'Africa/Kigali', 'America/St_Kitts', 'Europe/Oslo', 'Asia/Beirut', 'America/Porto_Velho', 'Africa/Lusaka', 'America/Argentina/Jujuy', 'America/Managua', 'Pacific/Guadalcanal', 'America/Swift_Current', 'Arctic/Longyearbyen', 'Asia/Yangon', 'America/Santiago', 'Asia/Aqtau', 'America/Curacao', 'America/Detroit', 'America/Tortola', 'Asia/Khandyga', 'America/Juneau', 'Africa/Tunis', 'America/Whitehorse', 'Africa/Niamey', 'Pacific/Guam', 'America/Mexico_City', 'Europe/Luxembourg', 'America/Bahia_Banderas', 'Asia/Seoul', 'Pacific/Fiji', 'Europe/Belgrade', 'Atlantic/Faroe', 'America/Boa_Vista', 'America/Argentina/Mendoza', 'America/Lower_Princes', 'Australia/Broken_Hill', 'America/Tegucigalpa', 'US/Arizona', 'Indian/Chagos', 'Asia/Ashgabat', 'US/Hawaii', 'America/Campo_Grande', 'America/Fort_Nelson', 'Atlantic/St_Helena', 'Asia/Kabul', 'America/Moncton', 'Asia/Anadyr', 'Atlantic/Reykjavik', 'America/Anchorage', 'America/Nuuk', 'Canada/Eastern', 'Asia/Tehran', 'Indian/Mauritius', 'US/Mountain', 'America/Indiana/Petersburg', 'Europe/Amsterdam', 'Europe/Bratislava', 'America/Cayman', 'Asia/Muscat', 'Africa/Monrovia', 'Europe/Volgograd', 'America/Adak', 'Canada/Mountain', 'Asia/Novosibirsk', 'Asia/Dhaka', 'Pacific/Niue', 'Europe/Kyiv', 'Pacific/Easter', 'America/Argentina/San_Luis', 'Europe/Berlin', 'Australia/Perth', 'America/Santo_Domingo', 'Asia/Karachi', 'Antarctica/DumontDUrville', 'US/Eastern', 'America/Argentina/Cordoba', 'Europe/Sarajevo', 'America/Bogota', 'America/Guyana', 'Asia/Dubai', 'Pacific/Nauru', 'Asia/Yekaterinburg', 'Pacific/Kwajalein', 'Africa/Ouagadougou', 'America/Merida', 'America/Yellowknife', 'Asia/Shanghai', 'Europe/Bucharest', 'US/Central', 'Asia/Riyadh', 'Europe/Ljubljana', 'Africa/Lome', 'Africa/Libreville', 'America/Araguaina', 'Europe/Riga', 'Europe/Prague', 'Europe/Jersey', 'Asia/Bangkok', 'Asia/Kolkata', 'Asia/Jakarta', 'Africa/Harare', 'Europe/Samara', 'Asia/Phnom_Penh', 'America/Indiana/Vevay', 'Africa/Khartoum', 'Canada/Atlantic', 'Africa/Bangui', 'America/Guayaquil', 'America/Maceio', 'Europe/Gibraltar', 'Asia/Urumqi', 'Pacific/Honolulu', 'America/Guatemala', 'Indian/Antananarivo', 'Africa/Ceuta', 'America/Havana', 'Antarctica/Syowa', 'Africa/Freetown', 'America/Asuncion', 'Asia/Samarkand', 'Canada/Central', 'Antarctica/Vostok', 'Atlantic/Cape_Verde', 'Antarctica/Mawson', 'Australia/Lord_Howe', 'America/Danmarkshavn', 'Pacific/Tongatapu', 'Africa/Abidjan', 'Asia/Manila', 'Australia/Melbourne', 'America/Toronto', 'Pacific/Fakaofo', 'Asia/Tokyo', 'America/Nome', 'America/Inuvik', 'Pacific/Kosrae', 'Asia/Singapore', 'Europe/Copenhagen', 'Indian/Reunion', 'Asia/Sakhalin', 'America/Hermosillo', 'Pacific/Marquesas', 'America/Barbados', 'Asia/Srednekolymsk', 'America/St_Vincent', 'America/Matamoros', 'Asia/Bishkek', 'Asia/Aden', 'America/Aruba', 'Asia/Makassar', 'America/Argentina/Buenos_Aires', 'Europe/Istanbul', 'Atlantic/Bermuda', 'Asia/Kamchatka', 'Asia/Damascus', 'Europe/Tirane', 'Australia/Eucla', 'Africa/Maseru', 'Asia/Qyzylorda', 'Africa/Bissau', 'America/Winnipeg', 'America/Indiana/Marengo', 'America/Indiana/Tell_City', 'Pacific/Port_Moresby', 'Indian/Comoro', 'Pacific/Chatham', 'America/Indiana/Vincennes', 'Antarctica/Casey', 'America/Panama', 'America/Santarem', 'Africa/Blantyre', 'Pacific/Tahiti', 'Africa/Windhoek', 'Atlantic/South_Georgia', 'Pacific/Pago_Pago', 'Africa/Algiers', 'Africa/Johannesburg', 'America/Cambridge_Bay', 'America/Dawson_Creek', 'America/Iqaluit', 'America/El_Salvador', 'Africa/Dakar', 'America/Recife', 'America/Los_Angeles', 'America/North_Dakota/Beulah', 'America/Halifax', 'America/Montevideo', 'Africa/Tripoli', 'America/Argentina/La_Rioja', 'Pacific/Kiritimati', 'Pacific/Gambier', 'Europe/Chisinau', 'Asia/Omsk', 'Asia/Ho_Chi_Minh', 'America/Punta_Arenas', 'Europe/Minsk', 'Atlantic/Madeira', 'Australia/Lindeman', 'Africa/Lubumbashi', 'America/Grenada', 'America/New_York', 'Europe/Kirov', 'America/Port-au-Prince', 'America/Monterrey', 'Canada/Pacific', 'Europe/Rome', 'Africa/Douala', 'Europe/Astrakhan', 'Pacific/Pohnpei', 'America/Grand_Turk', 'GMT', 'America/Indiana/Knox', 'Africa/Cairo', 'Africa/Banjul', 'America/St_Lucia', 'Asia/Vientiane', 'America/Jamaica', 'Asia/Choibalsan', 'Australia/Darwin', 'America/Caracas', 'Pacific/Pitcairn', 'Asia/Macau', 'Asia/Hovd', 'Antarctica/Davis', 'Asia/Baghdad', 'Asia/Jerusalem', 'Antarctica/Palmer', 'Europe/Sofia', 'Europe/Podgorica', 'America/Tijuana', 'Asia/Hebron', 'Antarctica/Troll', 'America/Ojinaga', 'Pacific/Rarotonga', 'Pacific/Funafuti', 'America/Chicago', 'Europe/Kaliningrad', 'Antarctica/Macquarie', 'Australia/Adelaide', 'Canada/Newfoundland', 'Atlantic/Canary', 'Europe/Paris', 'Europe/Madrid', 'Indian/Kerguelen', 'Africa/Kampala', 'America/Resolute', 'Indian/Christmas', 'Europe/Lisbon', 'Africa/Asmara', 'Asia/Yerevan', 'Europe/Busingen', 'Africa/Juba', 'Asia/Chita', 'America/Bahia', 'Europe/Monaco', 'Europe/Vienna', 'Pacific/Saipan', 'Asia/Bahrain', 'Asia/Dushanbe', 'America/Kentucky/Louisville', 'Asia/Famagusta', 'Europe/Skopje', 'Asia/Hong_Kong', 'America/Creston', 'Asia/Vladivostok', 'Australia/Hobart', 'Europe/Athens', 'Pacific/Chuuk', 'America/Montserrat', 'Asia/Qostanay', 'Europe/Budapest', 'America/Cayenne', 'America/Menominee', 'Asia/Barnaul', 'America/Cancun', 'Europe/Vaduz', 'America/Antigua', 'America/Boise', 'America/Atikokan', 'America/Martinique', 'America/Kentucky/Monticello', 'America/Costa_Rica', 'America/Regina', 'Africa/Malabo', 'Europe/Helsinki', 'America/Guadeloupe', 'America/Argentina/Ushuaia', 'America/Indiana/Indianapolis', 'Africa/Lagos', 'America/Belem', 'Africa/Nouakchott', 'Asia/Ust-Nera', 'Asia/Magadan', 'Asia/Novokuznetsk', 'Pacific/Efate', 'Pacific/Noumea', 'Europe/Saratov', 'America/Thule', 'Europe/Moscow', 'Asia/Dili', 'Indian/Mahe', 'America/Vancouver', 'Asia/Kuwait', 'America/North_Dakota/New_Salem', 'Asia/Ulaanbaatar', 'Asia/Baku', 'Asia/Yakutsk', 'Pacific/Auckland', 'America/Kralendijk', 'Pacific/Palau', 'Asia/Taipei', 'America/St_Barthelemy', 'America/Port_of_Spain', 'Africa/Gaborone', 'America/Noronha', 'America/Indiana/Winamac', 'Europe/London', 'Asia/Tbilisi', 'America/Anguilla', 'America/Edmonton', 'America/Mazatlan', 'America/La_Paz', 'Pacific/Norfolk', 'Asia/Irkutsk', 'America/Puerto_Rico', 'Asia/Colombo', 'America/Ciudad_Juarez', 'Africa/Djibouti', 'Africa/Addis_Ababa', 'America/Argentina/San_Juan', 'Europe/Isle_of_Man', 'Asia/Atyrau', 'Europe/Vilnius', 'Asia/Almaty', 'Africa/Conakry', 'Asia/Amman', 'Atlantic/Azores', 'America/Blanc-Sablon', 'America/Belize', 'Europe/Brussels', 'Europe/San_Marino', 'Africa/Nairobi', 'Asia/Pyongyang', 'America/Dominica', 'Asia/Jayapura', 'Indian/Mayotte', 'America/St_Johns', 'America/Lima', 'America/Sitka', 'Asia/Tashkent', 'Africa/Mbabane', 'America/Dawson', 'Pacific/Tarawa', 'Australia/Sydney', 'America/Denver', 'America/Chihuahua', 'Africa/Ndjamena', 'Europe/Guernsey', 'America/Paramaribo', 'Asia/Tomsk', 'America/Rio_Branco', 'America/Yakutat', 'Africa/El_Aaiun', 'America/North_Dakota/Center', 'Africa/Luanda', 'Africa/Kinshasa', 'America/Nassau', 'Pacific/Wake', 'America/Rankin_Inlet', 'UTC', 'Asia/Kuala_Lumpur'}) \n\n"
     ]
    }
   ],
   "source": [
    "print('Commonly used time-zones:', pytz.common_timezones, '\\n')\n",
    "\n",
    "print('Commonly used time-zones-set:', pytz.common_timezones_set, '\\n')"
   ]
  },
  {
   "cell_type": "markdown",
   "metadata": {
    "application/vnd.databricks.v1+cell": {
     "cellMetadata": {},
     "inputWidgets": {},
     "nuid": "c1a0641e-4fb0-483e-9ed6-2a3826d05fc5",
     "showTitle": false,
     "tableResultSettingsMap": {},
     "title": ""
    }
   },
   "source": [
    "#### **d) country_names**\n",
    "\n",
    "- It returns a **dict** of **country ISO Alpha-2** Code and country name as a **key-value** pair."
   ]
  },
  {
   "cell_type": "code",
   "execution_count": 0,
   "metadata": {
    "application/vnd.databricks.v1+cell": {
     "cellMetadata": {
      "byteLimit": 2048000,
      "rowLimit": 10000
     },
     "inputWidgets": {},
     "nuid": "dca84bcd-bbea-4a83-b135-6c1db423bb4f",
     "showTitle": false,
     "tableResultSettingsMap": {},
     "title": ""
    }
   },
   "outputs": [
    {
     "output_type": "stream",
     "name": "stdout",
     "output_type": "stream",
     "text": [
      "country_names =\nAD = Andorra,AE = United Arab Emirates,AF = Afghanistan,AG = Antigua & Barbuda,AI = Anguilla,AL = Albania,AM = Armenia,AO = Angola,AQ = Antarctica,AR = Argentina,AS = Samoa (American),AT = Austria,AU = Australia,AW = Aruba,AX = Åland Islands,AZ = Azerbaijan,BA = Bosnia & Herzegovina,BB = Barbados,BD = Bangladesh,BE = Belgium,BF = Burkina Faso,BG = Bulgaria,BH = Bahrain,BI = Burundi,BJ = Benin,BL = St Barthelemy,BM = Bermuda,BN = Brunei,BO = Bolivia,BQ = Caribbean NL,BR = Brazil,BS = Bahamas,BT = Bhutan,BV = Bouvet Island,BW = Botswana,BY = Belarus,BZ = Belize,CA = Canada,CC = Cocos (Keeling) Islands,CD = Congo (Dem. Rep.),CF = Central African Rep.,CG = Congo (Rep.),CH = Switzerland,CI = Côte d'Ivoire,CK = Cook Islands,CL = Chile,CM = Cameroon,CN = China,CO = Colombia,CR = Costa Rica,CU = Cuba,CV = Cape Verde,CW = Curaçao,CX = Christmas Island,CY = Cyprus,CZ = Czech Republic,DE = Germany,DJ = Djibouti,DK = Denmark,DM = Dominica,DO = Dominican Republic,DZ = Algeria,EC = Ecuador,EE = Estonia,EG = Egypt,EH = Western Sahara,ER = Eritrea,ES = Spain,ET = Ethiopia,FI = Finland,FJ = Fiji,FK = Falkland Islands,FM = Micronesia,FO = Faroe Islands,FR = France,GA = Gabon,GB = Britain (UK),GD = Grenada,GE = Georgia,GF = French Guiana,GG = Guernsey,GH = Ghana,GI = Gibraltar,GL = Greenland,GM = Gambia,GN = Guinea,GP = Guadeloupe,GQ = Equatorial Guinea,GR = Greece,GS = South Georgia & the South Sandwich Islands,GT = Guatemala,GU = Guam,GW = Guinea-Bissau,GY = Guyana,HK = Hong Kong,HM = Heard Island & McDonald Islands,HN = Honduras,HR = Croatia,HT = Haiti,HU = Hungary,ID = Indonesia,IE = Ireland,IL = Israel,IM = Isle of Man,IN = India,IO = British Indian Ocean Territory,IQ = Iraq,IR = Iran,IS = Iceland,IT = Italy,JE = Jersey,JM = Jamaica,JO = Jordan,JP = Japan,KE = Kenya,KG = Kyrgyzstan,KH = Cambodia,KI = Kiribati,KM = Comoros,KN = St Kitts & Nevis,KP = Korea (North),KR = Korea (South),KW = Kuwait,KY = Cayman Islands,KZ = Kazakhstan,LA = Laos,LB = Lebanon,LC = St Lucia,LI = Liechtenstein,LK = Sri Lanka,LR = Liberia,LS = Lesotho,LT = Lithuania,LU = Luxembourg,LV = Latvia,LY = Libya,MA = Morocco,MC = Monaco,MD = Moldova,ME = Montenegro,MF = St Martin (French),MG = Madagascar,MH = Marshall Islands,MK = North Macedonia,ML = Mali,MM = Myanmar (Burma),MN = Mongolia,MO = Macau,MP = Northern Mariana Islands,MQ = Martinique,MR = Mauritania,MS = Montserrat,MT = Malta,MU = Mauritius,MV = Maldives,MW = Malawi,MX = Mexico,MY = Malaysia,MZ = Mozambique,NA = Namibia,NC = New Caledonia,NE = Niger,NF = Norfolk Island,NG = Nigeria,NI = Nicaragua,NL = Netherlands,NO = Norway,NP = Nepal,NR = Nauru,NU = Niue,NZ = New Zealand,OM = Oman,PA = Panama,PE = Peru,PF = French Polynesia,PG = Papua New Guinea,PH = Philippines,PK = Pakistan,PL = Poland,PM = St Pierre & Miquelon,PN = Pitcairn,PR = Puerto Rico,PS = Palestine,PT = Portugal,PW = Palau,PY = Paraguay,QA = Qatar,RE = Réunion,RO = Romania,RS = Serbia,RU = Russia,RW = Rwanda,SA = Saudi Arabia,SB = Solomon Islands,SC = Seychelles,SD = Sudan,SE = Sweden,SG = Singapore,SH = St Helena,SI = Slovenia,SJ = Svalbard & Jan Mayen,SK = Slovakia,SL = Sierra Leone,SM = San Marino,SN = Senegal,SO = Somalia,SR = Suriname,SS = South Sudan,ST = Sao Tome & Principe,SV = El Salvador,SX = St Maarten (Dutch),SY = Syria,SZ = Eswatini (Swaziland),TC = Turks & Caicos Is,TD = Chad,TF = French Southern Territories,TG = Togo,TH = Thailand,TJ = Tajikistan,TK = Tokelau,TL = East Timor,TM = Turkmenistan,TN = Tunisia,TO = Tonga,TR = Turkey,TT = Trinidad & Tobago,TV = Tuvalu,TW = Taiwan,TZ = Tanzania,UA = Ukraine,UG = Uganda,UM = US minor outlying islands,US = United States,UY = Uruguay,UZ = Uzbekistan,VA = Vatican City,VC = St Vincent,VE = Venezuela,VG = Virgin Islands (UK),VI = Virgin Islands (US),VN = Vietnam,VU = Vanuatu,WF = Wallis & Futuna,WS = Samoa (western),YE = Yemen,YT = Mayotte,ZA = South Africa,ZM = Zambia,ZW = Zimbabwe,\n\nequivalent country name to the input code: = India\n"
     ]
    }
   ],
   "source": [
    "print('country_names =')\n",
    "\n",
    "for key, val in pytz.country_names.items():\n",
    "\tprint(key, '=', val, end=',')\n",
    "\t\n",
    "print('\\n')\n",
    "print('equivalent country name to the input code: =', pytz.country_names['IN'])"
   ]
  },
  {
   "cell_type": "markdown",
   "metadata": {
    "application/vnd.databricks.v1+cell": {
     "cellMetadata": {},
     "inputWidgets": {},
     "nuid": "b37629f5-2d84-4c8f-b71c-31395f68129c",
     "showTitle": false,
     "tableResultSettingsMap": {},
     "title": ""
    }
   },
   "source": [
    "#### **e) country_timezones**\n",
    "\n",
    "- It returns a **dictionary** of country **ISO Alpha-2** Code as **key and list** of supported time-zones for a particular input key (country code) as value."
   ]
  },
  {
   "cell_type": "code",
   "execution_count": 0,
   "metadata": {
    "application/vnd.databricks.v1+cell": {
     "cellMetadata": {
      "byteLimit": 2048000,
      "rowLimit": 10000
     },
     "inputWidgets": {},
     "nuid": "d48afc9d-bb9b-4b2c-8bf8-e467cc8138fe",
     "showTitle": false,
     "tableResultSettingsMap": {},
     "title": ""
    }
   },
   "outputs": [
    {
     "output_type": "stream",
     "name": "stdout",
     "output_type": "stream",
     "text": [
      "country_timezones =\nAD = ['Europe/Andorra'],AE = ['Asia/Dubai'],AF = ['Asia/Kabul'],AG = ['America/Antigua'],AI = ['America/Anguilla'],AL = ['Europe/Tirane'],AM = ['Asia/Yerevan'],AO = ['Africa/Luanda'],AQ = ['Antarctica/McMurdo', 'Antarctica/Casey', 'Antarctica/Davis', 'Antarctica/DumontDUrville', 'Antarctica/Mawson', 'Antarctica/Palmer', 'Antarctica/Rothera', 'Antarctica/Syowa', 'Antarctica/Troll', 'Antarctica/Vostok'],AR = ['America/Argentina/Buenos_Aires', 'America/Argentina/Cordoba', 'America/Argentina/Salta', 'America/Argentina/Jujuy', 'America/Argentina/Tucuman', 'America/Argentina/Catamarca', 'America/Argentina/La_Rioja', 'America/Argentina/San_Juan', 'America/Argentina/Mendoza', 'America/Argentina/San_Luis', 'America/Argentina/Rio_Gallegos', 'America/Argentina/Ushuaia'],AS = ['Pacific/Pago_Pago'],AT = ['Europe/Vienna'],AU = ['Australia/Lord_Howe', 'Antarctica/Macquarie', 'Australia/Hobart', 'Australia/Melbourne', 'Australia/Sydney', 'Australia/Broken_Hill', 'Australia/Brisbane', 'Australia/Lindeman', 'Australia/Adelaide', 'Australia/Darwin', 'Australia/Perth', 'Australia/Eucla'],AW = ['America/Aruba'],AX = ['Europe/Mariehamn'],AZ = ['Asia/Baku'],BA = ['Europe/Sarajevo'],BB = ['America/Barbados'],BD = ['Asia/Dhaka'],BE = ['Europe/Brussels'],BF = ['Africa/Ouagadougou'],BG = ['Europe/Sofia'],BH = ['Asia/Bahrain'],BI = ['Africa/Bujumbura'],BJ = ['Africa/Porto-Novo'],BL = ['America/St_Barthelemy'],BM = ['Atlantic/Bermuda'],BN = ['Asia/Brunei'],BO = ['America/La_Paz'],BQ = ['America/Kralendijk'],BR = ['America/Noronha', 'America/Belem', 'America/Fortaleza', 'America/Recife', 'America/Araguaina', 'America/Maceio', 'America/Bahia', 'America/Sao_Paulo', 'America/Campo_Grande', 'America/Cuiaba', 'America/Santarem', 'America/Porto_Velho', 'America/Boa_Vista', 'America/Manaus', 'America/Eirunepe', 'America/Rio_Branco'],BS = ['America/Nassau'],BT = ['Asia/Thimphu'],BW = ['Africa/Gaborone'],BY = ['Europe/Minsk'],BZ = ['America/Belize'],CA = ['America/St_Johns', 'America/Halifax', 'America/Glace_Bay', 'America/Moncton', 'America/Goose_Bay', 'America/Blanc-Sablon', 'America/Toronto', 'America/Iqaluit', 'America/Atikokan', 'America/Winnipeg', 'America/Resolute', 'America/Rankin_Inlet', 'America/Regina', 'America/Swift_Current', 'America/Edmonton', 'America/Cambridge_Bay', 'America/Yellowknife', 'America/Inuvik', 'America/Creston', 'America/Dawson_Creek', 'America/Fort_Nelson', 'America/Whitehorse', 'America/Dawson', 'America/Vancouver'],CC = ['Indian/Cocos'],CD = ['Africa/Kinshasa', 'Africa/Lubumbashi'],CF = ['Africa/Bangui'],CG = ['Africa/Brazzaville'],CH = ['Europe/Zurich'],CI = ['Africa/Abidjan'],CK = ['Pacific/Rarotonga'],CL = ['America/Santiago', 'America/Punta_Arenas', 'Pacific/Easter'],CM = ['Africa/Douala'],CN = ['Asia/Shanghai', 'Asia/Urumqi'],CO = ['America/Bogota'],CR = ['America/Costa_Rica'],CU = ['America/Havana'],CV = ['Atlantic/Cape_Verde'],CW = ['America/Curacao'],CX = ['Indian/Christmas'],CY = ['Asia/Nicosia', 'Asia/Famagusta'],CZ = ['Europe/Prague'],DE = ['Europe/Berlin', 'Europe/Busingen'],DJ = ['Africa/Djibouti'],DK = ['Europe/Copenhagen'],DM = ['America/Dominica'],DO = ['America/Santo_Domingo'],DZ = ['Africa/Algiers'],EC = ['America/Guayaquil', 'Pacific/Galapagos'],EE = ['Europe/Tallinn'],EG = ['Africa/Cairo'],EH = ['Africa/El_Aaiun'],ER = ['Africa/Asmara'],ES = ['Europe/Madrid', 'Africa/Ceuta', 'Atlantic/Canary'],ET = ['Africa/Addis_Ababa'],FI = ['Europe/Helsinki'],FJ = ['Pacific/Fiji'],FK = ['Atlantic/Stanley'],FM = ['Pacific/Chuuk', 'Pacific/Pohnpei', 'Pacific/Kosrae'],FO = ['Atlantic/Faroe'],FR = ['Europe/Paris'],GA = ['Africa/Libreville'],GB = ['Europe/London'],GD = ['America/Grenada'],GE = ['Asia/Tbilisi'],GF = ['America/Cayenne'],GG = ['Europe/Guernsey'],GH = ['Africa/Accra'],GI = ['Europe/Gibraltar'],GL = ['America/Nuuk', 'America/Danmarkshavn', 'America/Scoresbysund', 'America/Thule'],GM = ['Africa/Banjul'],GN = ['Africa/Conakry'],GP = ['America/Guadeloupe'],GQ = ['Africa/Malabo'],GR = ['Europe/Athens'],GS = ['Atlantic/South_Georgia'],GT = ['America/Guatemala'],GU = ['Pacific/Guam'],GW = ['Africa/Bissau'],GY = ['America/Guyana'],HK = ['Asia/Hong_Kong'],HN = ['America/Tegucigalpa'],HR = ['Europe/Zagreb'],HT = ['America/Port-au-Prince'],HU = ['Europe/Budapest'],ID = ['Asia/Jakarta', 'Asia/Pontianak', 'Asia/Makassar', 'Asia/Jayapura'],IE = ['Europe/Dublin'],IL = ['Asia/Jerusalem'],IM = ['Europe/Isle_of_Man'],IN = ['Asia/Kolkata'],IO = ['Indian/Chagos'],IQ = ['Asia/Baghdad'],IR = ['Asia/Tehran'],IS = ['Atlantic/Reykjavik'],IT = ['Europe/Rome'],JE = ['Europe/Jersey'],JM = ['America/Jamaica'],JO = ['Asia/Amman'],JP = ['Asia/Tokyo'],KE = ['Africa/Nairobi'],KG = ['Asia/Bishkek'],KH = ['Asia/Phnom_Penh'],KI = ['Pacific/Tarawa', 'Pacific/Kanton', 'Pacific/Kiritimati'],KM = ['Indian/Comoro'],KN = ['America/St_Kitts'],KP = ['Asia/Pyongyang'],KR = ['Asia/Seoul'],KW = ['Asia/Kuwait'],KY = ['America/Cayman'],KZ = ['Asia/Almaty', 'Asia/Qyzylorda', 'Asia/Qostanay', 'Asia/Aqtobe', 'Asia/Aqtau', 'Asia/Atyrau', 'Asia/Oral'],LA = ['Asia/Vientiane'],LB = ['Asia/Beirut'],LC = ['America/St_Lucia'],LI = ['Europe/Vaduz'],LK = ['Asia/Colombo'],LR = ['Africa/Monrovia'],LS = ['Africa/Maseru'],LT = ['Europe/Vilnius'],LU = ['Europe/Luxembourg'],LV = ['Europe/Riga'],LY = ['Africa/Tripoli'],MA = ['Africa/Casablanca'],MC = ['Europe/Monaco'],MD = ['Europe/Chisinau'],ME = ['Europe/Podgorica'],MF = ['America/Marigot'],MG = ['Indian/Antananarivo'],MH = ['Pacific/Majuro', 'Pacific/Kwajalein'],MK = ['Europe/Skopje'],ML = ['Africa/Bamako'],MM = ['Asia/Yangon'],MN = ['Asia/Ulaanbaatar', 'Asia/Hovd', 'Asia/Choibalsan'],MO = ['Asia/Macau'],MP = ['Pacific/Saipan'],MQ = ['America/Martinique'],MR = ['Africa/Nouakchott'],MS = ['America/Montserrat'],MT = ['Europe/Malta'],MU = ['Indian/Mauritius'],MV = ['Indian/Maldives'],MW = ['Africa/Blantyre'],MX = ['America/Mexico_City', 'America/Cancun', 'America/Merida', 'America/Monterrey', 'America/Matamoros', 'America/Chihuahua', 'America/Ciudad_Juarez', 'America/Ojinaga', 'America/Mazatlan', 'America/Bahia_Banderas', 'America/Hermosillo', 'America/Tijuana'],MY = ['Asia/Kuala_Lumpur', 'Asia/Kuching'],MZ = ['Africa/Maputo'],NA = ['Africa/Windhoek'],NC = ['Pacific/Noumea'],NE = ['Africa/Niamey'],NF = ['Pacific/Norfolk'],NG = ['Africa/Lagos'],NI = ['America/Managua'],NL = ['Europe/Amsterdam'],NO = ['Europe/Oslo'],NP = ['Asia/Kathmandu'],NR = ['Pacific/Nauru'],NU = ['Pacific/Niue'],NZ = ['Pacific/Auckland', 'Pacific/Chatham'],OM = ['Asia/Muscat'],PA = ['America/Panama'],PE = ['America/Lima'],PF = ['Pacific/Tahiti', 'Pacific/Marquesas', 'Pacific/Gambier'],PG = ['Pacific/Port_Moresby', 'Pacific/Bougainville'],PH = ['Asia/Manila'],PK = ['Asia/Karachi'],PL = ['Europe/Warsaw'],PM = ['America/Miquelon'],PN = ['Pacific/Pitcairn'],PR = ['America/Puerto_Rico'],PS = ['Asia/Gaza', 'Asia/Hebron'],PT = ['Europe/Lisbon', 'Atlantic/Madeira', 'Atlantic/Azores'],PW = ['Pacific/Palau'],PY = ['America/Asuncion'],QA = ['Asia/Qatar'],RE = ['Indian/Reunion'],RO = ['Europe/Bucharest'],RS = ['Europe/Belgrade'],RU = ['Europe/Kaliningrad', 'Europe/Moscow', 'Europe/Kirov', 'Europe/Volgograd', 'Europe/Astrakhan', 'Europe/Saratov', 'Europe/Ulyanovsk', 'Europe/Samara', 'Asia/Yekaterinburg', 'Asia/Omsk', 'Asia/Novosibirsk', 'Asia/Barnaul', 'Asia/Tomsk', 'Asia/Novokuznetsk', 'Asia/Krasnoyarsk', 'Asia/Irkutsk', 'Asia/Chita', 'Asia/Yakutsk', 'Asia/Khandyga', 'Asia/Vladivostok', 'Asia/Ust-Nera', 'Asia/Magadan', 'Asia/Sakhalin', 'Asia/Srednekolymsk', 'Asia/Kamchatka', 'Asia/Anadyr'],UA = ['Europe/Simferopol', 'Europe/Kyiv'],RW = ['Africa/Kigali'],SA = ['Asia/Riyadh'],SB = ['Pacific/Guadalcanal'],SC = ['Indian/Mahe'],SD = ['Africa/Khartoum'],SE = ['Europe/Stockholm'],SG = ['Asia/Singapore'],SH = ['Atlantic/St_Helena'],SI = ['Europe/Ljubljana'],SJ = ['Arctic/Longyearbyen'],SK = ['Europe/Bratislava'],SL = ['Africa/Freetown'],SM = ['Europe/San_Marino'],SN = ['Africa/Dakar'],SO = ['Africa/Mogadishu'],SR = ['America/Paramaribo'],SS = ['Africa/Juba'],ST = ['Africa/Sao_Tome'],SV = ['America/El_Salvador'],SX = ['America/Lower_Princes'],SY = ['Asia/Damascus'],SZ = ['Africa/Mbabane'],TC = ['America/Grand_Turk'],TD = ['Africa/Ndjamena'],TF = ['Indian/Kerguelen'],TG = ['Africa/Lome'],TH = ['Asia/Bangkok'],TJ = ['Asia/Dushanbe'],TK = ['Pacific/Fakaofo'],TL = ['Asia/Dili'],TM = ['Asia/Ashgabat'],TN = ['Africa/Tunis'],TO = ['Pacific/Tongatapu'],TR = ['Europe/Istanbul'],TT = ['America/Port_of_Spain'],TV = ['Pacific/Funafuti'],TW = ['Asia/Taipei'],TZ = ['Africa/Dar_es_Salaam'],UG = ['Africa/Kampala'],UM = ['Pacific/Midway', 'Pacific/Wake'],US = ['America/New_York', 'America/Detroit', 'America/Kentucky/Louisville', 'America/Kentucky/Monticello', 'America/Indiana/Indianapolis', 'America/Indiana/Vincennes', 'America/Indiana/Winamac', 'America/Indiana/Marengo', 'America/Indiana/Petersburg', 'America/Indiana/Vevay', 'America/Chicago', 'America/Indiana/Tell_City', 'America/Indiana/Knox', 'America/Menominee', 'America/North_Dakota/Center', 'America/North_Dakota/New_Salem', 'America/North_Dakota/Beulah', 'America/Denver', 'America/Boise', 'America/Phoenix', 'America/Los_Angeles', 'America/Anchorage', 'America/Juneau', 'America/Sitka', 'America/Metlakatla', 'America/Yakutat', 'America/Nome', 'America/Adak', 'Pacific/Honolulu'],UY = ['America/Montevideo'],UZ = ['Asia/Samarkand', 'Asia/Tashkent'],VA = ['Europe/Vatican'],VC = ['America/St_Vincent'],VE = ['America/Caracas'],VG = ['America/Tortola'],VI = ['America/St_Thomas'],VN = ['Asia/Ho_Chi_Minh'],VU = ['Pacific/Efate'],WF = ['Pacific/Wallis'],WS = ['Pacific/Apia'],YE = ['Asia/Aden'],YT = ['Indian/Mayotte'],ZA = ['Africa/Johannesburg'],ZM = ['Africa/Lusaka'],ZW = ['Africa/Harare'],\n\nTime-zones supported by Antarctica = ['Antarctica/McMurdo', 'Antarctica/Casey', 'Antarctica/Davis', 'Antarctica/DumontDUrville', 'Antarctica/Mawson', 'Antarctica/Palmer', 'Antarctica/Rothera', 'Antarctica/Syowa', 'Antarctica/Troll', 'Antarctica/Vostok']\n"
     ]
    }
   ],
   "source": [
    "print('country_timezones =')\n",
    "\n",
    "for key, val in pytz.country_timezones.items():\n",
    "\tprint(key, '=', val, end=',')\n",
    "\t\n",
    "print('\\n')\n",
    "print('Time-zones supported by Antarctica =', pytz.country_timezones['AQ'])"
   ]
  },
  {
   "cell_type": "code",
   "execution_count": 0,
   "metadata": {
    "application/vnd.databricks.v1+cell": {
     "cellMetadata": {
      "byteLimit": 2048000,
      "rowLimit": 10000
     },
     "inputWidgets": {},
     "nuid": "a485ccc6-6851-4391-9abb-f2dcc60a1468",
     "showTitle": false,
     "tableResultSettingsMap": {},
     "title": ""
    }
   },
   "outputs": [
    {
     "output_type": "stream",
     "name": "stdout",
     "output_type": "stream",
     "text": [
      "\n\nCountry timezones: \n\n ['America/New_York', 'America/Detroit', 'America/Kentucky/Louisville', 'America/Kentucky/Monticello', 'America/Indiana/Indianapolis', 'America/Indiana/Vincennes', 'America/Indiana/Winamac', 'America/Indiana/Marengo', 'America/Indiana/Petersburg', 'America/Indiana/Vevay', 'America/Chicago', 'America/Indiana/Tell_City', 'America/Indiana/Knox', 'America/Menominee', 'America/North_Dakota/Center', 'America/North_Dakota/New_Salem', 'America/North_Dakota/Beulah', 'America/Denver', 'America/Boise', 'America/Phoenix', 'America/Los_Angeles', 'America/Anchorage', 'America/Juneau', 'America/Sitka', 'America/Metlakatla', 'America/Yakutat', 'America/Nome', 'America/Adak', 'Pacific/Honolulu']\n"
     ]
    }
   ],
   "source": [
    "print(\"\\n\\nCountry timezones: \\n\\n\", pytz.country_timezones[\"US\"])"
   ]
  },
  {
   "cell_type": "code",
   "execution_count": 0,
   "metadata": {
    "application/vnd.databricks.v1+cell": {
     "cellMetadata": {
      "byteLimit": 2048000,
      "rowLimit": 10000
     },
     "inputWidgets": {},
     "nuid": "01f33cd8-c46f-4bae-852c-926e12bc016b",
     "showTitle": false,
     "tableResultSettingsMap": {},
     "title": ""
    }
   },
   "outputs": [
    {
     "output_type": "stream",
     "name": "stdout",
     "output_type": "stream",
     "text": [
      "Andorra ['Europe/Andorra']\nUnited Arab Emirates ['Asia/Dubai']\nAfghanistan ['Asia/Kabul']\nAntigua & Barbuda ['America/Antigua']\nAnguilla ['America/Anguilla']\nAlbania ['Europe/Tirane']\nArmenia ['Asia/Yerevan']\nAngola ['Africa/Luanda']\nAntarctica ['Antarctica/McMurdo', 'Antarctica/Casey', 'Antarctica/Davis', 'Antarctica/DumontDUrville', 'Antarctica/Mawson', 'Antarctica/Palmer', 'Antarctica/Rothera', 'Antarctica/Syowa', 'Antarctica/Troll', 'Antarctica/Vostok']\nArgentina ['America/Argentina/Buenos_Aires', 'America/Argentina/Cordoba', 'America/Argentina/Salta', 'America/Argentina/Jujuy', 'America/Argentina/Tucuman', 'America/Argentina/Catamarca', 'America/Argentina/La_Rioja', 'America/Argentina/San_Juan', 'America/Argentina/Mendoza', 'America/Argentina/San_Luis', 'America/Argentina/Rio_Gallegos', 'America/Argentina/Ushuaia']\nSamoa (American) ['Pacific/Pago_Pago']\nAustria ['Europe/Vienna']\nAustralia ['Australia/Lord_Howe', 'Antarctica/Macquarie', 'Australia/Hobart', 'Australia/Melbourne', 'Australia/Sydney', 'Australia/Broken_Hill', 'Australia/Brisbane', 'Australia/Lindeman', 'Australia/Adelaide', 'Australia/Darwin', 'Australia/Perth', 'Australia/Eucla']\nAruba ['America/Aruba']\nÅland Islands ['Europe/Mariehamn']\nAzerbaijan ['Asia/Baku']\nBosnia & Herzegovina ['Europe/Sarajevo']\nBarbados ['America/Barbados']\nBangladesh ['Asia/Dhaka']\nBelgium ['Europe/Brussels']\nBurkina Faso ['Africa/Ouagadougou']\nBulgaria ['Europe/Sofia']\nBahrain ['Asia/Bahrain']\nBurundi ['Africa/Bujumbura']\nBenin ['Africa/Porto-Novo']\nSt Barthelemy ['America/St_Barthelemy']\nBermuda ['Atlantic/Bermuda']\nBrunei ['Asia/Brunei']\nBolivia ['America/La_Paz']\nCaribbean NL ['America/Kralendijk']\nBrazil ['America/Noronha', 'America/Belem', 'America/Fortaleza', 'America/Recife', 'America/Araguaina', 'America/Maceio', 'America/Bahia', 'America/Sao_Paulo', 'America/Campo_Grande', 'America/Cuiaba', 'America/Santarem', 'America/Porto_Velho', 'America/Boa_Vista', 'America/Manaus', 'America/Eirunepe', 'America/Rio_Branco']\nBahamas ['America/Nassau']\nBhutan ['Asia/Thimphu']\nBouvet Island None\nBotswana ['Africa/Gaborone']\nBelarus ['Europe/Minsk']\nBelize ['America/Belize']\nCanada ['America/St_Johns', 'America/Halifax', 'America/Glace_Bay', 'America/Moncton', 'America/Goose_Bay', 'America/Blanc-Sablon', 'America/Toronto', 'America/Iqaluit', 'America/Atikokan', 'America/Winnipeg', 'America/Resolute', 'America/Rankin_Inlet', 'America/Regina', 'America/Swift_Current', 'America/Edmonton', 'America/Cambridge_Bay', 'America/Yellowknife', 'America/Inuvik', 'America/Creston', 'America/Dawson_Creek', 'America/Fort_Nelson', 'America/Whitehorse', 'America/Dawson', 'America/Vancouver']\nCocos (Keeling) Islands ['Indian/Cocos']\nCongo (Dem. Rep.) ['Africa/Kinshasa', 'Africa/Lubumbashi']\nCentral African Rep. ['Africa/Bangui']\nCongo (Rep.) ['Africa/Brazzaville']\nSwitzerland ['Europe/Zurich']\nCôte d'Ivoire ['Africa/Abidjan']\nCook Islands ['Pacific/Rarotonga']\nChile ['America/Santiago', 'America/Punta_Arenas', 'Pacific/Easter']\nCameroon ['Africa/Douala']\nChina ['Asia/Shanghai', 'Asia/Urumqi']\nColombia ['America/Bogota']\nCosta Rica ['America/Costa_Rica']\nCuba ['America/Havana']\nCape Verde ['Atlantic/Cape_Verde']\nCuraçao ['America/Curacao']\nChristmas Island ['Indian/Christmas']\nCyprus ['Asia/Nicosia', 'Asia/Famagusta']\nCzech Republic ['Europe/Prague']\nGermany ['Europe/Berlin', 'Europe/Busingen']\nDjibouti ['Africa/Djibouti']\nDenmark ['Europe/Copenhagen']\nDominica ['America/Dominica']\nDominican Republic ['America/Santo_Domingo']\nAlgeria ['Africa/Algiers']\nEcuador ['America/Guayaquil', 'Pacific/Galapagos']\nEstonia ['Europe/Tallinn']\nEgypt ['Africa/Cairo']\nWestern Sahara ['Africa/El_Aaiun']\nEritrea ['Africa/Asmara']\nSpain ['Europe/Madrid', 'Africa/Ceuta', 'Atlantic/Canary']\nEthiopia ['Africa/Addis_Ababa']\nFinland ['Europe/Helsinki']\nFiji ['Pacific/Fiji']\nFalkland Islands ['Atlantic/Stanley']\nMicronesia ['Pacific/Chuuk', 'Pacific/Pohnpei', 'Pacific/Kosrae']\nFaroe Islands ['Atlantic/Faroe']\nFrance ['Europe/Paris']\nGabon ['Africa/Libreville']\nBritain (UK) ['Europe/London']\nGrenada ['America/Grenada']\nGeorgia ['Asia/Tbilisi']\nFrench Guiana ['America/Cayenne']\nGuernsey ['Europe/Guernsey']\nGhana ['Africa/Accra']\nGibraltar ['Europe/Gibraltar']\nGreenland ['America/Nuuk', 'America/Danmarkshavn', 'America/Scoresbysund', 'America/Thule']\nGambia ['Africa/Banjul']\nGuinea ['Africa/Conakry']\nGuadeloupe ['America/Guadeloupe']\nEquatorial Guinea ['Africa/Malabo']\nGreece ['Europe/Athens']\nSouth Georgia & the South Sandwich Islands ['Atlantic/South_Georgia']\nGuatemala ['America/Guatemala']\nGuam ['Pacific/Guam']\nGuinea-Bissau ['Africa/Bissau']\nGuyana ['America/Guyana']\nHong Kong ['Asia/Hong_Kong']\nHeard Island & McDonald Islands None\nHonduras ['America/Tegucigalpa']\nCroatia ['Europe/Zagreb']\nHaiti ['America/Port-au-Prince']\nHungary ['Europe/Budapest']\nIndonesia ['Asia/Jakarta', 'Asia/Pontianak', 'Asia/Makassar', 'Asia/Jayapura']\nIreland ['Europe/Dublin']\nIsrael ['Asia/Jerusalem']\nIsle of Man ['Europe/Isle_of_Man']\nIndia ['Asia/Kolkata']\nBritish Indian Ocean Territory ['Indian/Chagos']\nIraq ['Asia/Baghdad']\nIran ['Asia/Tehran']\nIceland ['Atlantic/Reykjavik']\nItaly ['Europe/Rome']\nJersey ['Europe/Jersey']\nJamaica ['America/Jamaica']\nJordan ['Asia/Amman']\nJapan ['Asia/Tokyo']\nKenya ['Africa/Nairobi']\nKyrgyzstan ['Asia/Bishkek']\nCambodia ['Asia/Phnom_Penh']\nKiribati ['Pacific/Tarawa', 'Pacific/Kanton', 'Pacific/Kiritimati']\nComoros ['Indian/Comoro']\nSt Kitts & Nevis ['America/St_Kitts']\nKorea (North) ['Asia/Pyongyang']\nKorea (South) ['Asia/Seoul']\nKuwait ['Asia/Kuwait']\nCayman Islands ['America/Cayman']\nKazakhstan ['Asia/Almaty', 'Asia/Qyzylorda', 'Asia/Qostanay', 'Asia/Aqtobe', 'Asia/Aqtau', 'Asia/Atyrau', 'Asia/Oral']\nLaos ['Asia/Vientiane']\nLebanon ['Asia/Beirut']\nSt Lucia ['America/St_Lucia']\nLiechtenstein ['Europe/Vaduz']\nSri Lanka ['Asia/Colombo']\nLiberia ['Africa/Monrovia']\nLesotho ['Africa/Maseru']\nLithuania ['Europe/Vilnius']\nLuxembourg ['Europe/Luxembourg']\nLatvia ['Europe/Riga']\nLibya ['Africa/Tripoli']\nMorocco ['Africa/Casablanca']\nMonaco ['Europe/Monaco']\nMoldova ['Europe/Chisinau']\nMontenegro ['Europe/Podgorica']\nSt Martin (French) ['America/Marigot']\nMadagascar ['Indian/Antananarivo']\nMarshall Islands ['Pacific/Majuro', 'Pacific/Kwajalein']\nNorth Macedonia ['Europe/Skopje']\nMali ['Africa/Bamako']\nMyanmar (Burma) ['Asia/Yangon']\nMongolia ['Asia/Ulaanbaatar', 'Asia/Hovd', 'Asia/Choibalsan']\nMacau ['Asia/Macau']\nNorthern Mariana Islands ['Pacific/Saipan']\nMartinique ['America/Martinique']\nMauritania ['Africa/Nouakchott']\nMontserrat ['America/Montserrat']\nMalta ['Europe/Malta']\nMauritius ['Indian/Mauritius']\nMaldives ['Indian/Maldives']\nMalawi ['Africa/Blantyre']\nMexico ['America/Mexico_City', 'America/Cancun', 'America/Merida', 'America/Monterrey', 'America/Matamoros', 'America/Chihuahua', 'America/Ciudad_Juarez', 'America/Ojinaga', 'America/Mazatlan', 'America/Bahia_Banderas', 'America/Hermosillo', 'America/Tijuana']\nMalaysia ['Asia/Kuala_Lumpur', 'Asia/Kuching']\nMozambique ['Africa/Maputo']\nNamibia ['Africa/Windhoek']\nNew Caledonia ['Pacific/Noumea']\nNiger ['Africa/Niamey']\nNorfolk Island ['Pacific/Norfolk']\nNigeria ['Africa/Lagos']\nNicaragua ['America/Managua']\nNetherlands ['Europe/Amsterdam']\nNorway ['Europe/Oslo']\nNepal ['Asia/Kathmandu']\nNauru ['Pacific/Nauru']\nNiue ['Pacific/Niue']\nNew Zealand ['Pacific/Auckland', 'Pacific/Chatham']\nOman ['Asia/Muscat']\nPanama ['America/Panama']\nPeru ['America/Lima']\nFrench Polynesia ['Pacific/Tahiti', 'Pacific/Marquesas', 'Pacific/Gambier']\nPapua New Guinea ['Pacific/Port_Moresby', 'Pacific/Bougainville']\nPhilippines ['Asia/Manila']\nPakistan ['Asia/Karachi']\nPoland ['Europe/Warsaw']\nSt Pierre & Miquelon ['America/Miquelon']\nPitcairn ['Pacific/Pitcairn']\nPuerto Rico ['America/Puerto_Rico']\nPalestine ['Asia/Gaza', 'Asia/Hebron']\nPortugal ['Europe/Lisbon', 'Atlantic/Madeira', 'Atlantic/Azores']\nPalau ['Pacific/Palau']\nParaguay ['America/Asuncion']\nQatar ['Asia/Qatar']\nRéunion ['Indian/Reunion']\nRomania ['Europe/Bucharest']\nSerbia ['Europe/Belgrade']\nRussia ['Europe/Kaliningrad', 'Europe/Moscow', 'Europe/Kirov', 'Europe/Volgograd', 'Europe/Astrakhan', 'Europe/Saratov', 'Europe/Ulyanovsk', 'Europe/Samara', 'Asia/Yekaterinburg', 'Asia/Omsk', 'Asia/Novosibirsk', 'Asia/Barnaul', 'Asia/Tomsk', 'Asia/Novokuznetsk', 'Asia/Krasnoyarsk', 'Asia/Irkutsk', 'Asia/Chita', 'Asia/Yakutsk', 'Asia/Khandyga', 'Asia/Vladivostok', 'Asia/Ust-Nera', 'Asia/Magadan', 'Asia/Sakhalin', 'Asia/Srednekolymsk', 'Asia/Kamchatka', 'Asia/Anadyr']\nRwanda ['Africa/Kigali']\nSaudi Arabia ['Asia/Riyadh']\nSolomon Islands ['Pacific/Guadalcanal']\nSeychelles ['Indian/Mahe']\nSudan ['Africa/Khartoum']\nSweden ['Europe/Stockholm']\nSingapore ['Asia/Singapore']\nSt Helena ['Atlantic/St_Helena']\nSlovenia ['Europe/Ljubljana']\nSvalbard & Jan Mayen ['Arctic/Longyearbyen']\nSlovakia ['Europe/Bratislava']\nSierra Leone ['Africa/Freetown']\nSan Marino ['Europe/San_Marino']\nSenegal ['Africa/Dakar']\nSomalia ['Africa/Mogadishu']\nSuriname ['America/Paramaribo']\nSouth Sudan ['Africa/Juba']\nSao Tome & Principe ['Africa/Sao_Tome']\nEl Salvador ['America/El_Salvador']\nSt Maarten (Dutch) ['America/Lower_Princes']\nSyria ['Asia/Damascus']\nEswatini (Swaziland) ['Africa/Mbabane']\nTurks & Caicos Is ['America/Grand_Turk']\nChad ['Africa/Ndjamena']\nFrench Southern Territories ['Indian/Kerguelen']\nTogo ['Africa/Lome']\nThailand ['Asia/Bangkok']\nTajikistan ['Asia/Dushanbe']\nTokelau ['Pacific/Fakaofo']\nEast Timor ['Asia/Dili']\nTurkmenistan ['Asia/Ashgabat']\nTunisia ['Africa/Tunis']\nTonga ['Pacific/Tongatapu']\nTurkey ['Europe/Istanbul']\nTrinidad & Tobago ['America/Port_of_Spain']\nTuvalu ['Pacific/Funafuti']\nTaiwan ['Asia/Taipei']\nTanzania ['Africa/Dar_es_Salaam']\nUkraine ['Europe/Simferopol', 'Europe/Kyiv']\nUganda ['Africa/Kampala']\nUS minor outlying islands ['Pacific/Midway', 'Pacific/Wake']\nUnited States ['America/New_York', 'America/Detroit', 'America/Kentucky/Louisville', 'America/Kentucky/Monticello', 'America/Indiana/Indianapolis', 'America/Indiana/Vincennes', 'America/Indiana/Winamac', 'America/Indiana/Marengo', 'America/Indiana/Petersburg', 'America/Indiana/Vevay', 'America/Chicago', 'America/Indiana/Tell_City', 'America/Indiana/Knox', 'America/Menominee', 'America/North_Dakota/Center', 'America/North_Dakota/New_Salem', 'America/North_Dakota/Beulah', 'America/Denver', 'America/Boise', 'America/Phoenix', 'America/Los_Angeles', 'America/Anchorage', 'America/Juneau', 'America/Sitka', 'America/Metlakatla', 'America/Yakutat', 'America/Nome', 'America/Adak', 'Pacific/Honolulu']\nUruguay ['America/Montevideo']\nUzbekistan ['Asia/Samarkand', 'Asia/Tashkent']\nVatican City ['Europe/Vatican']\nSt Vincent ['America/St_Vincent']\nVenezuela ['America/Caracas']\nVirgin Islands (UK) ['America/Tortola']\nVirgin Islands (US) ['America/St_Thomas']\nVietnam ['Asia/Ho_Chi_Minh']\nVanuatu ['Pacific/Efate']\nWallis & Futuna ['Pacific/Wallis']\nSamoa (western) ['Pacific/Apia']\nYemen ['Asia/Aden']\nMayotte ['Indian/Mayotte']\nSouth Africa ['Africa/Johannesburg']\nZambia ['Africa/Lusaka']\nZimbabwe ['Africa/Harare']\n"
     ]
    }
   ],
   "source": [
    "for i in pytz.country_names:\n",
    "    print(pytz.country_names[i], pytz.country_timezones.get(i))"
   ]
  },
  {
   "cell_type": "code",
   "execution_count": 0,
   "metadata": {
    "application/vnd.databricks.v1+cell": {
     "cellMetadata": {
      "byteLimit": 2048000,
      "rowLimit": 10000
     },
     "inputWidgets": {},
     "nuid": "e7e0dddd-0941-4fc4-b7ad-e0eae22c3ad1",
     "showTitle": true,
     "tableResultSettingsMap": {},
     "title": "custom datetime"
    }
   },
   "outputs": [
    {
     "output_type": "stream",
     "name": "stdout",
     "output_type": "stream",
     "text": [
      "naive datetime:  2021-08-15 08:15:12 None None\nUTC / aware timezone:  2021-08-15 08:15:12+00:00 UTC UTC\nFalse\n"
     ]
    }
   ],
   "source": [
    "from datetime import datetime, timezone\n",
    "\n",
    "# naive datetime\n",
    "unaware = datetime(2021, 8, 15, 8, 15, 12, 0)\n",
    "print(\"naive datetime: \", unaware, unaware.tzname(), unaware.tzinfo)\n",
    "\n",
    "# aware datetime\n",
    "aware = datetime(2021, 8, 15, 8, 15, 12, 0, pytz.UTC)\n",
    "print(\"UTC / aware timezone: \", aware, aware.tzname(), aware.tzinfo)\n",
    "\n",
    "print(aware == unaware)"
   ]
  },
  {
   "cell_type": "code",
   "execution_count": 0,
   "metadata": {
    "application/vnd.databricks.v1+cell": {
     "cellMetadata": {
      "byteLimit": 2048000,
      "rowLimit": 10000
     },
     "inputWidgets": {},
     "nuid": "b456c41e-04d5-4cf3-a6a1-c90cce19fd59",
     "showTitle": false,
     "tableResultSettingsMap": {},
     "title": ""
    }
   },
   "outputs": [
    {
     "output_type": "stream",
     "name": "stdout",
     "output_type": "stream",
     "text": [
      "Local Time:   2025-03-23 11:03:30.156613 None None\nUTC Time:     2025-03-23 11:03:30.156719+00:00 UTC UTC\nIST Time = 2025-03-23 12:03:30.156800+01:00 CET Europe/Vienna\nIST Time = 2025-03-23 13:03:30.156871+02:00 EET Europe/Kiev\n"
     ]
    }
   ],
   "source": [
    "from datetime import datetime, timezone\n",
    "\n",
    "dt1 = datetime.now()\n",
    "print(\"Local Time:  \", dt1, dt1.tzname(), dt1.tzinfo)\n",
    "\n",
    "# Get current time in UTC\n",
    "dt2 = datetime.now(pytz.utc)    # datetime.now(tz=pytz.utc)\n",
    "print(\"UTC Time:    \", dt2, dt2.tzname(), dt2.tzinfo)\n",
    "\n",
    "dt3 = datetime.now(pytz.timezone(\"Europe/Vienna\"))  # datetime.now(tz=pytz.timezone('Europe/Vienna'))\n",
    "print(\"IST Time =\", dt3, dt3.tzname(), dt3.tzinfo)\n",
    "\n",
    "dt4 = datetime.now(pytz.timezone(\"Europe/Kiev\"))  # datetime.now(tz=pytz.timezone('Europe/Kiev'))\n",
    "print(\"IST Time =\", dt4, dt4.tzname(), dt4.tzinfo)"
   ]
  },
  {
   "cell_type": "code",
   "execution_count": 0,
   "metadata": {
    "application/vnd.databricks.v1+cell": {
     "cellMetadata": {
      "byteLimit": 2048000,
      "rowLimit": 10000
     },
     "inputWidgets": {},
     "nuid": "b4a42fcc-517b-41d3-ba90-226fe3aeaac6",
     "showTitle": false,
     "tableResultSettingsMap": {},
     "title": ""
    }
   },
   "outputs": [
    {
     "output_type": "stream",
     "name": "stdout",
     "output_type": "stream",
     "text": [
      "UTC Timezone:  2025-03-18 16:53:28.501439+00:00 <class 'pytz.UTC'>\nUS/Eastern Timezone:  2025-03-18 12:53:28.503535-04:00 <class 'pytz.tzfile.US/Eastern'>\nUS/Pacific Timezone:  2025-03-18 09:53:28.505773-07:00 <class 'pytz.tzfile.US/Pacific'>\nAmerica/Santiago:  2025-03-18 13:53:28.506628-03:00 <class 'pytz.tzfile.America/Santiago'>\nEurope/Paris Timezone:  2025-03-18 17:53:28.507276+01:00 <class 'pytz.tzfile.Europe/Paris'>\nAsia/Tokyo Timezone:  2025-03-19 01:53:28.507529+09:00 <class 'pytz.tzfile.Asia/Tokyo'>\n"
     ]
    }
   ],
   "source": [
    "# convert  local to UTC timezone\n",
    "utc_timezone = pytz.timezone('UTC')\n",
    "dt_utc = datetime.now(utc_timezone)\n",
    "print(\"UTC Timezone: \", dt_utc, type(utc_timezone))\n",
    "\n",
    "# convert  local to \"US/Eastern\" timezone\n",
    "us_timezone = pytz.timezone('US/Eastern')\n",
    "dt_us = datetime.now(us_timezone)\n",
    "print(\"US/Eastern Timezone: \", dt_us, type(us_timezone))\n",
    "\n",
    "# convert  local to \"US/Pacific\" timezone\n",
    "us_pac_timezone = pytz.timezone('US/Pacific')\n",
    "dt_us_pac = datetime.now(us_pac_timezone)\n",
    "print(\"US/Pacific Timezone: \", dt_us_pac, type(us_pac_timezone))\n",
    "\n",
    "# convert  local to \"America/Santiago\" timezone\n",
    "amr_sant_timezone = pytz.timezone('America/Santiago')\n",
    "dt_amr_sant = datetime.now(amr_sant_timezone)\n",
    "print(\"America/Santiago: \\n\", dt_amr_sant, type(amr_sant_timezone))\n",
    "\n",
    "# convert  local to \"America/New_York\" timezone\n",
    "amr_NY_timezone = pytz.timezone('America/New_York')\n",
    "dt_amr_NY = datetime.now(amr_NY_timezone)\n",
    "print(\"America/New_York: \", dt_amr_NY, type(amr_NY_timezone))\n",
    "print(\"strftime_America/New_York: \\n\", dt_amr_NY.strftime(\"%m/%d/%Y %H:%M:%S\"))\n",
    "\n",
    "# convert  local to \"Europe/Paris\" timezone\n",
    "europe_timezone = pytz.timezone('Europe/Paris')\n",
    "dt_eur = datetime.now(europe_timezone)\n",
    "print(\"Europe/Paris Timezone: \", dt_eur, type(europe_timezone))\n",
    "\n",
    "# convert  local to \"Asia/Tokyo\" timezone\n",
    "asia_timezone = pytz.timezone('Asia/Tokyo')\n",
    "dt_asia = datetime.now(asia_timezone)\n",
    "print(\"Asia/Tokyo Timezone: \", dt_asia, type(asia_timezone))"
   ]
  },
  {
   "cell_type": "code",
   "execution_count": 0,
   "metadata": {
    "application/vnd.databricks.v1+cell": {
     "cellMetadata": {
      "byteLimit": 2048000,
      "rowLimit": 10000
     },
     "inputWidgets": {},
     "nuid": "be01bf6c-f124-406e-8c04-1e6034a2d2d1",
     "showTitle": false,
     "tableResultSettingsMap": {},
     "title": ""
    }
   },
   "outputs": [
    {
     "output_type": "stream",
     "name": "stdout",
     "output_type": "stream",
     "text": [
      "2025-03-10 18:30:00+00:00 UTC\n2025-03-18 16:59:10.734786+00:00 UTC\n2025-03-10 18:30:00-05:00 EST\n"
     ]
    }
   ],
   "source": [
    "import datetime\n",
    "\n",
    "dt = datetime.datetime(2025, 3, 10, 18, 30, 0, tzinfo=pytz.UTC)\n",
    "print(dt, dt.tzname())\n",
    "\n",
    "dt = datetime.datetime.now(pytz.timezone('UCT'))\n",
    "print(dt, dt.tzname())\n",
    "\n",
    "dt = datetime.datetime(2025, 3, 10, 18, 30, 0, tzinfo=pytz.timezone('EST'))\n",
    "print(dt, dt.tzname())"
   ]
  }
 ],
 "metadata": {
  "application/vnd.databricks.v1+notebook": {
   "computePreferences": null,
   "dashboards": [],
   "environmentMetadata": {
    "base_environment": "",
    "client": "1"
   },
   "language": "python",
   "notebookMetadata": {
    "pythonIndentUnit": 4
   },
   "notebookName": "25_Python Datetime and pytz modules",
   "widgets": {}
  }
 },
 "nbformat": 4,
 "nbformat_minor": 0
}
