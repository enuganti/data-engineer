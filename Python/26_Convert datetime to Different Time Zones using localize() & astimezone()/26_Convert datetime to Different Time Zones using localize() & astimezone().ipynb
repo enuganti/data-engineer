{
 "cells": [
  {
   "cell_type": "markdown",
   "metadata": {
    "application/vnd.databricks.v1+cell": {
     "cellMetadata": {},
     "inputWidgets": {},
     "nuid": "a0ae4cb2-0788-4d95-95f8-c4c96f3c3c8f",
     "showTitle": false,
     "tableResultSettingsMap": {},
     "title": ""
    }
   },
   "source": [
    "#### **Convert timezones**\n",
    "\n",
    "- **replace(tzinfo=ZoneInfo(...))** → Assigns a timezone **without changing the time**.\n",
    "\n",
    "- **astimezone(ZoneInfo(...))** → Converts **time to another timezone** correctly.\n",
    "\n",
    "- **strftime()** → Formats timestamps in **ISO 8601 format (yyyy-MM-ddTHH:mm:ss.SSSZ)**."
   ]
  },
  {
   "cell_type": "markdown",
   "metadata": {
    "application/vnd.databricks.v1+cell": {
     "cellMetadata": {},
     "inputWidgets": {},
     "nuid": "38bb4fe8-0acc-4de7-94cd-9cabaabe46c6",
     "showTitle": false,
     "tableResultSettingsMap": {},
     "title": ""
    }
   },
   "source": [
    "#### **a) localize()**\n",
    "\n",
    "- The **localize()** method is provided by the **pytz library** in Python to **attach a timezone** to a **naive datetime object**.\n",
    "\n",
    "- localize() **does not alter** the **actual time** like **astimezone()**. Instead, it **attaches a timezone** to a **naive datetime object without changing the clock time**.\n",
    "\n",
    "- localize() **only assigns a timezone** to a **naive datetime without changing the time value**."
   ]
  },
  {
   "cell_type": "code",
   "execution_count": 0,
   "metadata": {
    "application/vnd.databricks.v1+cell": {
     "cellMetadata": {
      "byteLimit": 2048000,
      "rowLimit": 10000
     },
     "inputWidgets": {},
     "nuid": "fcba7b47-5084-40c5-8b50-bacf38372489",
     "showTitle": false,
     "tableResultSettingsMap": {},
     "title": ""
    }
   },
   "outputs": [
    {
     "output_type": "stream",
     "name": "stdout",
     "output_type": "stream",
     "text": [
      "2019-08-19 12:00:00\n2019-08-19 12:00:00+00:00\n"
     ]
    }
   ],
   "source": [
    "from datetime import datetime\n",
    "from pytz import timezone\n",
    "\n",
    "# Set the time to noon on 2019-08-19\n",
    "naive = datetime(2019, 8, 19, 12, 0)\n",
    "print(naive)\n",
    "\n",
    "# Let's treat this time as being in the UTC timezone\n",
    "aware = timezone('UTC').localize(naive)\n",
    "print(aware)"
   ]
  },
  {
   "cell_type": "code",
   "execution_count": 0,
   "metadata": {
    "application/vnd.databricks.v1+cell": {
     "cellMetadata": {
      "byteLimit": 2048000,
      "rowLimit": 10000
     },
     "inputWidgets": {},
     "nuid": "57a7b381-93a7-4cd8-9a69-afe99e0de6dd",
     "showTitle": true,
     "tableResultSettingsMap": {},
     "title": "Localizing a naive datetime to a specific timezone"
    }
   },
   "outputs": [
    {
     "output_type": "stream",
     "name": "stdout",
     "output_type": "stream",
     "text": [
      "Naive datetime: 2025-06-23 12:00:00 None None\nLocalized datetime: 2025-06-23 12:00:00-04:00 EDT US/Eastern\n"
     ]
    }
   ],
   "source": [
    "from datetime import datetime\n",
    "import pytz\n",
    "\n",
    "# Naive datetime (no timezone information)\n",
    "naive_dt = datetime(2025, 3, 23, 12, 0)\n",
    "print(\"Naive datetime:\", naive_dt, naive_dt.tzname(), naive_dt.tzinfo)\n",
    "\n",
    "# Assigning timezone (US/Eastern)\n",
    "eastern_tz = pytz.timezone(\"US/Eastern\")\n",
    "\n",
    "# Localize the naive datetime\n",
    "localized_dt = eastern_tz.localize(naive_dt)\n",
    "\n",
    "print(\"Localized datetime:\", localized_dt, localized_dt.tzname(), localized_dt.tzinfo)"
   ]
  },
  {
   "cell_type": "markdown",
   "metadata": {
    "application/vnd.databricks.v1+cell": {
     "cellMetadata": {},
     "inputWidgets": {},
     "nuid": "6e28cb62-f3cf-4b5c-82f4-cf26841499f2",
     "showTitle": false,
     "tableResultSettingsMap": {},
     "title": ""
    }
   },
   "source": [
    "**Notice:**\n",
    "- The **time remains 12:00:00**, but the **-04:00 timezone offset is added**.\n",
    "\n",
    "- The **-04:00** offset indicates **Eastern Daylight Time (EDT)** during **daylight saving time**."
   ]
  },
  {
   "cell_type": "code",
   "execution_count": 0,
   "metadata": {
    "application/vnd.databricks.v1+cell": {
     "cellMetadata": {
      "byteLimit": 2048000,
      "rowLimit": 10000
     },
     "inputWidgets": {},
     "nuid": "e7c42138-772d-4ece-adc1-646c051d6815",
     "showTitle": false,
     "tableResultSettingsMap": {},
     "title": ""
    }
   },
   "outputs": [
    {
     "output_type": "stream",
     "name": "stdout",
     "output_type": "stream",
     "text": [
      "2025-03-23 11:34:05.587196+05:30\nIST Current Time = 2025-03-23 11:34:05 IST+0530\nIST Current Time = 2025-03-23 11:34:05.588403+00:00\nWrong UTC Current Time = 2025-03-23 11:34:05 UTC+0000\n"
     ]
    }
   ],
   "source": [
    "from datetime import datetime\n",
    "\n",
    "# using localize() function, my system is on IST timezone\n",
    "ist = pytz.timezone('Asia/Kolkata')\n",
    "utc = pytz.utc\n",
    "local_datetime = ist.localize(datetime.now())\n",
    "print(local_datetime)\n",
    "\n",
    "print('IST Current Time =', local_datetime.strftime('%Y-%m-%d %H:%M:%S %Z%z'))\n",
    "\n",
    "print('IST Current Time =', utc.localize(datetime.now()))\n",
    "print('Wrong UTC Current Time =', utc.localize(\n",
    "\tdatetime.now()).strftime('%Y-%m-%d %H:%M:%S %Z%z'))"
   ]
  },
  {
   "cell_type": "code",
   "execution_count": 0,
   "metadata": {
    "application/vnd.databricks.v1+cell": {
     "cellMetadata": {
      "byteLimit": 2048000,
      "rowLimit": 10000
     },
     "inputWidgets": {},
     "nuid": "a04db0f7-8e0a-4feb-8d7e-f6e800b991ae",
     "showTitle": true,
     "tableResultSettingsMap": {},
     "title": "Handling Daylight Saving Time (DST)"
    }
   },
   "outputs": [
    {
     "output_type": "stream",
     "name": "stdout",
     "output_type": "stream",
     "text": [
      "Before DST: 2025-03-29 12:00:00+01:00\nAfter DST: 2025-03-31 12:00:00+02:00\n"
     ]
    }
   ],
   "source": [
    "from datetime import datetime\n",
    "import pytz\n",
    "\n",
    "# Define timezone\n",
    "paris_tz = pytz.timezone('Europe/Paris')\n",
    "\n",
    "# Define a date before and after DST change\n",
    "dt_before_dst = paris_tz.localize(datetime(2025, 3, 29, 12, 0))  # Before DST\n",
    "dt_after_dst = paris_tz.localize(datetime(2025, 3, 31, 12, 0))   # After DST\n",
    "\n",
    "print(\"Before DST:\", dt_before_dst)\n",
    "print(\"After DST:\", dt_after_dst)"
   ]
  },
  {
   "cell_type": "code",
   "execution_count": 0,
   "metadata": {
    "application/vnd.databricks.v1+cell": {
     "cellMetadata": {
      "byteLimit": 2048000,
      "rowLimit": 10000
     },
     "inputWidgets": {},
     "nuid": "142ecb6b-1b5c-4f0c-b579-6f158e590e89",
     "showTitle": true,
     "tableResultSettingsMap": {},
     "title": "Creating a Timezone-Aware Datetime"
    }
   },
   "outputs": [
    {
     "output_type": "stream",
     "name": "stdout",
     "output_type": "stream",
     "text": [
      "2020-03-01 05:20:40.002344\nNew York Time: 2025-03-14 10:30:00-04:00\nNew York Time: 2020-03-01 05:20:40.002344-05:00\n"
     ]
    }
   ],
   "source": [
    "from datetime import datetime\n",
    "import pytz\n",
    "\n",
    "# Define timezone\n",
    "ny_tz = pytz.timezone('America/New_York')\n",
    "\n",
    "# Create a timezone-aware datetime\n",
    "ny_time_01 = ny_tz.localize(datetime(2025, 3, 14, 10, 30))\n",
    "print(\"New York Time:\", ny_time_01)\n",
    "\n",
    "dt_object_local = datetime(year=2020, month=3, day=1, hour=5, minute=20, second=40, microsecond=2344)\n",
    "print(dt_object_local)\n",
    "\n",
    "# Create a timezone-aware datetime\n",
    "ny_time_02 = ny_tz.localize(dt_object_local)\n",
    "print(\"New York Time:\", ny_time_02)"
   ]
  },
  {
   "cell_type": "markdown",
   "metadata": {
    "application/vnd.databricks.v1+cell": {
     "cellMetadata": {},
     "inputWidgets": {},
     "nuid": "6ee377f0-4d56-4bd8-9de8-374b892a9f15",
     "showTitle": false,
     "tableResultSettingsMap": {},
     "title": ""
    }
   },
   "source": [
    "**Navigating Daylight Saving Time Transitions**"
   ]
  },
  {
   "cell_type": "code",
   "execution_count": 0,
   "metadata": {
    "application/vnd.databricks.v1+cell": {
     "cellMetadata": {
      "byteLimit": 2048000,
      "rowLimit": 10000
     },
     "inputWidgets": {},
     "nuid": "e6068f18-ad1a-4f33-b9d6-854bf095afa9",
     "showTitle": false,
     "tableResultSettingsMap": {},
     "title": ""
    }
   },
   "outputs": [
    {
     "output_type": "stream",
     "name": "stdout",
     "output_type": "stream",
     "text": [
      "Summer (DST): 2024-07-01 12:00:00-04:00\nWinter (non-DST): 2024-01-01 12:00:00-05:00\n"
     ]
    }
   ],
   "source": [
    "tz = pytz.timezone('US/Eastern')\n",
    "\n",
    "# Create a datetime during DST\n",
    "dst_dt = tz.localize(datetime(2024, 7, 1, 12, 0))\n",
    "print(f\"Summer (DST): {dst_dt}\")\n",
    "\n",
    "# Create a datetime not during DST\n",
    "non_dst_dt = tz.localize(datetime(2024, 1, 1, 12, 0))\n",
    "print(f\"Winter (non-DST): {non_dst_dt}\")"
   ]
  },
  {
   "cell_type": "markdown",
   "metadata": {
    "application/vnd.databricks.v1+cell": {
     "cellMetadata": {},
     "inputWidgets": {},
     "nuid": "712b7325-6b2b-4038-9b99-685f8284eee0",
     "showTitle": false,
     "tableResultSettingsMap": {},
     "title": ""
    }
   },
   "source": [
    "- Notice the difference in UTC offsets: **-04:00** for **summer (EDT)** and **-05:00** for **winter (EST)**, reflecting the **DST change**."
   ]
  },
  {
   "cell_type": "code",
   "execution_count": 0,
   "metadata": {
    "application/vnd.databricks.v1+cell": {
     "cellMetadata": {
      "byteLimit": 2048000,
      "rowLimit": 10000
     },
     "inputWidgets": {},
     "nuid": "7d2b053c-0bef-45c5-a551-3d48cb88c5c2",
     "showTitle": false,
     "tableResultSettingsMap": {},
     "title": ""
    }
   },
   "outputs": [
    {
     "output_type": "stream",
     "name": "stdout",
     "output_type": "stream",
     "text": [
      "2024-11-03 01:30:00\n"
     ]
    },
    {
     "output_type": "display_data",
     "data": {
      "text/plain": [
       "\u001B[0;31m---------------------------------------------------------------------------\u001B[0m\n",
       "\u001B[0;31mAmbiguousTimeError\u001B[0m                        Traceback (most recent call last)\n",
       "File \u001B[0;32m<command-1048013850136793>, line 11\u001B[0m\n",
       "\u001B[1;32m      8\u001B[0m eastern_tz \u001B[38;5;241m=\u001B[39m pytz\u001B[38;5;241m.\u001B[39mtimezone(\u001B[38;5;124m\"\u001B[39m\u001B[38;5;124mUS/Eastern\u001B[39m\u001B[38;5;124m\"\u001B[39m)\n",
       "\u001B[1;32m     10\u001B[0m \u001B[38;5;66;03m# Localize with handling ambiguous time\u001B[39;00m\n",
       "\u001B[0;32m---> 11\u001B[0m localized_dt \u001B[38;5;241m=\u001B[39m eastern_tz\u001B[38;5;241m.\u001B[39mlocalize(naive_dt, is_dst\u001B[38;5;241m=\u001B[39m\u001B[38;5;28;01mNone\u001B[39;00m)  \u001B[38;5;66;03m# Raises an error if ambiguous\u001B[39;00m\n",
       "\u001B[1;32m     12\u001B[0m \u001B[38;5;28mprint\u001B[39m(localized_dt)\n",
       "\n",
       "File \u001B[0;32m/databricks/python/lib/python3.11/site-packages/pytz/tzinfo.py:363\u001B[0m, in \u001B[0;36mDstTzInfo.localize\u001B[0;34m(self, dt, is_dst)\u001B[0m\n",
       "\u001B[1;32m    357\u001B[0m \u001B[38;5;66;03m# If we get this far, we have multiple possible timezones - this\u001B[39;00m\n",
       "\u001B[1;32m    358\u001B[0m \u001B[38;5;66;03m# is an ambiguous case occuring during the end-of-DST transition.\u001B[39;00m\n",
       "\u001B[1;32m    359\u001B[0m \n",
       "\u001B[1;32m    360\u001B[0m \u001B[38;5;66;03m# If told to be strict, raise an exception since we have an\u001B[39;00m\n",
       "\u001B[1;32m    361\u001B[0m \u001B[38;5;66;03m# ambiguous case\u001B[39;00m\n",
       "\u001B[1;32m    362\u001B[0m \u001B[38;5;28;01mif\u001B[39;00m is_dst \u001B[38;5;129;01mis\u001B[39;00m \u001B[38;5;28;01mNone\u001B[39;00m:\n",
       "\u001B[0;32m--> 363\u001B[0m     \u001B[38;5;28;01mraise\u001B[39;00m AmbiguousTimeError(dt)\n",
       "\u001B[1;32m    365\u001B[0m \u001B[38;5;66;03m# Filter out the possiblilities that don't match the requested\u001B[39;00m\n",
       "\u001B[1;32m    366\u001B[0m \u001B[38;5;66;03m# is_dst\u001B[39;00m\n",
       "\u001B[1;32m    367\u001B[0m filtered_possible_loc_dt \u001B[38;5;241m=\u001B[39m [\n",
       "\u001B[1;32m    368\u001B[0m     p \u001B[38;5;28;01mfor\u001B[39;00m p \u001B[38;5;129;01min\u001B[39;00m possible_loc_dt \u001B[38;5;28;01mif\u001B[39;00m \u001B[38;5;28mbool\u001B[39m(p\u001B[38;5;241m.\u001B[39mtzinfo\u001B[38;5;241m.\u001B[39m_dst) \u001B[38;5;241m==\u001B[39m is_dst\n",
       "\u001B[1;32m    369\u001B[0m ]\n",
       "\n",
       "\u001B[0;31mAmbiguousTimeError\u001B[0m: 2024-11-03 01:30:00"
      ]
     },
     "metadata": {
      "application/vnd.databricks.v1+output": {
       "addedWidgets": {},
       "arguments": {},
       "datasetInfos": [],
       "jupyterProps": {
        "ename": "AmbiguousTimeError",
        "evalue": "2024-11-03 01:30:00"
       },
       "metadata": {
        "errorSummary": "<span class='ansi-red-fg'>AmbiguousTimeError</span>: 2024-11-03 01:30:00"
       },
       "removedWidgets": [],
       "sqlProps": null,
       "stackFrames": [
        "\u001B[0;31m---------------------------------------------------------------------------\u001B[0m",
        "\u001B[0;31mAmbiguousTimeError\u001B[0m                        Traceback (most recent call last)",
        "File \u001B[0;32m<command-1048013850136793>, line 11\u001B[0m\n\u001B[1;32m      8\u001B[0m eastern_tz \u001B[38;5;241m=\u001B[39m pytz\u001B[38;5;241m.\u001B[39mtimezone(\u001B[38;5;124m\"\u001B[39m\u001B[38;5;124mUS/Eastern\u001B[39m\u001B[38;5;124m\"\u001B[39m)\n\u001B[1;32m     10\u001B[0m \u001B[38;5;66;03m# Localize with handling ambiguous time\u001B[39;00m\n\u001B[0;32m---> 11\u001B[0m localized_dt \u001B[38;5;241m=\u001B[39m eastern_tz\u001B[38;5;241m.\u001B[39mlocalize(naive_dt, is_dst\u001B[38;5;241m=\u001B[39m\u001B[38;5;28;01mNone\u001B[39;00m)  \u001B[38;5;66;03m# Raises an error if ambiguous\u001B[39;00m\n\u001B[1;32m     12\u001B[0m \u001B[38;5;28mprint\u001B[39m(localized_dt)\n",
        "File \u001B[0;32m/databricks/python/lib/python3.11/site-packages/pytz/tzinfo.py:363\u001B[0m, in \u001B[0;36mDstTzInfo.localize\u001B[0;34m(self, dt, is_dst)\u001B[0m\n\u001B[1;32m    357\u001B[0m \u001B[38;5;66;03m# If we get this far, we have multiple possible timezones - this\u001B[39;00m\n\u001B[1;32m    358\u001B[0m \u001B[38;5;66;03m# is an ambiguous case occuring during the end-of-DST transition.\u001B[39;00m\n\u001B[1;32m    359\u001B[0m \n\u001B[1;32m    360\u001B[0m \u001B[38;5;66;03m# If told to be strict, raise an exception since we have an\u001B[39;00m\n\u001B[1;32m    361\u001B[0m \u001B[38;5;66;03m# ambiguous case\u001B[39;00m\n\u001B[1;32m    362\u001B[0m \u001B[38;5;28;01mif\u001B[39;00m is_dst \u001B[38;5;129;01mis\u001B[39;00m \u001B[38;5;28;01mNone\u001B[39;00m:\n\u001B[0;32m--> 363\u001B[0m     \u001B[38;5;28;01mraise\u001B[39;00m AmbiguousTimeError(dt)\n\u001B[1;32m    365\u001B[0m \u001B[38;5;66;03m# Filter out the possiblilities that don't match the requested\u001B[39;00m\n\u001B[1;32m    366\u001B[0m \u001B[38;5;66;03m# is_dst\u001B[39;00m\n\u001B[1;32m    367\u001B[0m filtered_possible_loc_dt \u001B[38;5;241m=\u001B[39m [\n\u001B[1;32m    368\u001B[0m     p \u001B[38;5;28;01mfor\u001B[39;00m p \u001B[38;5;129;01min\u001B[39;00m possible_loc_dt \u001B[38;5;28;01mif\u001B[39;00m \u001B[38;5;28mbool\u001B[39m(p\u001B[38;5;241m.\u001B[39mtzinfo\u001B[38;5;241m.\u001B[39m_dst) \u001B[38;5;241m==\u001B[39m is_dst\n\u001B[1;32m    369\u001B[0m ]\n",
        "\u001B[0;31mAmbiguousTimeError\u001B[0m: 2024-11-03 01:30:00"
       ],
       "type": "baseError"
      }
     },
     "output_type": "display_data"
    }
   ],
   "source": [
    "from datetime import datetime\n",
    "import pytz\n",
    "\n",
    "# Define a naive datetime during a fall-back transition\n",
    "naive_dt = datetime(2024, 11, 3, 1, 30)  # When DST ends in US/Eastern\n",
    "print(naive_dt)\n",
    "\n",
    "eastern_tz = pytz.timezone(\"US/Eastern\")\n",
    "\n",
    "# Localize with handling ambiguous time\n",
    "localized_dt = eastern_tz.localize(naive_dt, is_dst=None)  # Raises an error if ambiguous\n",
    "print(localized_dt)"
   ]
  },
  {
   "cell_type": "markdown",
   "metadata": {
    "application/vnd.databricks.v1+cell": {
     "cellMetadata": {},
     "inputWidgets": {},
     "nuid": "e428485d-fc99-4990-b541-8123add9b6ce",
     "showTitle": false,
     "tableResultSettingsMap": {},
     "title": ""
    }
   },
   "source": [
    "- If **is_dst=None** is used, it **raises an error for ambiguous times**.\n",
    "- Use **is_dst=True or is_dst=False** to specify which **offset** to apply."
   ]
  },
  {
   "cell_type": "code",
   "execution_count": 0,
   "metadata": {
    "application/vnd.databricks.v1+cell": {
     "cellMetadata": {
      "byteLimit": 2048000,
      "rowLimit": 10000
     },
     "inputWidgets": {},
     "nuid": "028bf943-cb7a-4365-acbd-56a5bde14d12",
     "showTitle": false,
     "tableResultSettingsMap": {},
     "title": ""
    }
   },
   "outputs": [
    {
     "output_type": "stream",
     "name": "stdout",
     "output_type": "stream",
     "text": [
      "2024-11-03 01:30:00\n2024-11-03 01:30:00-04:00\n"
     ]
    }
   ],
   "source": [
    "from datetime import datetime\n",
    "import pytz\n",
    "\n",
    "# Define a naive datetime during a fall-back transition\n",
    "naive_dt = datetime(2024, 11, 3, 1, 30)  # When DST ends in US/Eastern\n",
    "print(naive_dt)\n",
    "\n",
    "eastern_tz = pytz.timezone(\"US/Eastern\")\n",
    "\n",
    "# Localize with handling ambiguous time\n",
    "localized_dt = eastern_tz.localize(naive_dt, is_dst=True)\n",
    "print(localized_dt)"
   ]
  },
  {
   "cell_type": "markdown",
   "metadata": {
    "application/vnd.databricks.v1+cell": {
     "cellMetadata": {},
     "inputWidgets": {},
     "nuid": "ee661751-5fb9-4cc5-84ca-05c02001e807",
     "showTitle": false,
     "tableResultSettingsMap": {},
     "title": ""
    }
   },
   "source": [
    "#### **b) astimezone()**\n",
    "\n",
    "- Converting Between Timezones\n",
    "- astimezone() converts a **datetime** from **one timezone to another, altering the time** accordingly."
   ]
  },
  {
   "cell_type": "code",
   "execution_count": 0,
   "metadata": {
    "application/vnd.databricks.v1+cell": {
     "cellMetadata": {
      "byteLimit": 2048000,
      "rowLimit": 10000
     },
     "inputWidgets": {},
     "nuid": "e1a34062-19ae-408f-b290-065550c1184f",
     "showTitle": true,
     "tableResultSettingsMap": {},
     "title": "convert from \"naive\" to \"America/New_York\""
    }
   },
   "outputs": [
    {
     "output_type": "stream",
     "name": "stdout",
     "output_type": "stream",
     "text": [
      "2023-05-05 12:00:00 None None\n2023-05-05 08:00:00-04:00 EDT America/New_York\n"
     ]
    }
   ],
   "source": [
    "from datetime import datetime\n",
    "from zoneinfo import ZoneInfo\n",
    "\n",
    "# create datetime object for May 5, 2023 12:00 PM\n",
    "dt = datetime(2023, 5, 5, 12, 0)\n",
    "print(dt, dt.tzname(), dt.tzinfo)\n",
    "\n",
    "# associate the datetime object with the New York timezone\n",
    "dt_ny = dt.astimezone(ZoneInfo('America/New_York'))\n",
    "\n",
    "# print the datetime object in the New York timezone\n",
    "print(dt_ny, dt_ny.tzname(), dt_ny.tzinfo)"
   ]
  },
  {
   "cell_type": "code",
   "execution_count": 0,
   "metadata": {
    "application/vnd.databricks.v1+cell": {
     "cellMetadata": {
      "byteLimit": 2048000,
      "rowLimit": 10000
     },
     "inputWidgets": {},
     "nuid": "0432b9ee-4303-41c8-bcbd-563e19079347",
     "showTitle": true,
     "tableResultSettingsMap": {},
     "title": "convert from \"naive\" to \"UTC\""
    }
   },
   "outputs": [
    {
     "output_type": "stream",
     "name": "stdout",
     "output_type": "stream",
     "text": [
      "2024-11-04 16:09:00 None None\n2024-11-04 16:09:00+00:00 UTC UTC\n"
     ]
    }
   ],
   "source": [
    "from datetime import datetime\n",
    "from zoneinfo import ZoneInfo\n",
    "\n",
    "# create datetime object\n",
    "event_time = datetime(2024, 11, 4, 16, 9)\n",
    "print(event_time, event_time.tzname(), event_time.tzinfo)\n",
    "\n",
    "# associate the datetime object with the UTC timezone\n",
    "event_time_utc = event_time.astimezone(ZoneInfo('UTC'))\n",
    "\n",
    "# print the datetime object in the UTC timezone\n",
    "print(event_time_utc, event_time_utc.tzname(), event_time_utc.tzinfo)"
   ]
  },
  {
   "cell_type": "code",
   "execution_count": 0,
   "metadata": {
    "application/vnd.databricks.v1+cell": {
     "cellMetadata": {
      "byteLimit": 2048000,
      "rowLimit": 10000
     },
     "inputWidgets": {},
     "nuid": "01f32f50-474d-417b-8587-71f5eee6fac0",
     "showTitle": true,
     "tableResultSettingsMap": {},
     "title": "convert from \"UTC\" to \"America/New_York\" & \"Asia/Tokyo\""
    }
   },
   "outputs": [
    {
     "output_type": "stream",
     "name": "stdout",
     "output_type": "stream",
     "text": [
      "UTC Time: 2025-03-23 08:09:24.364009 None None\nUTC Time: 2025-03-23 08:09:24.364009+00:00 UTC UTC\nNew York Time: 2025-03-23 04:09:24.364009-04:00 EDT America/New_York\nTokyo Time: 2025-03-23 17:09:24.364009+09:00 JST Asia/Tokyo\n"
     ]
    }
   ],
   "source": [
    "from datetime import datetime\n",
    "from zoneinfo import ZoneInfo\n",
    "\n",
    "# Get current UTC time\n",
    "d_utc = datetime.utcnow()\n",
    "print(\"UTC Time:\", d_utc, d_utc.tzname(), d_utc.tzinfo)\n",
    "\n",
    "d_utc_rep = d_utc.replace(tzinfo=ZoneInfo(\"UTC\"))\n",
    "print(\"UTC Time:\", d_utc_rep, d_utc_rep.tzname(), d_utc_rep.tzinfo)\n",
    "\n",
    "# Convert UTC to New York time\n",
    "d_ny = d_utc.astimezone(ZoneInfo(\"America/New_York\"))\n",
    "print(\"New York Time:\", d_ny, d_ny.tzname(), d_ny.tzinfo)\n",
    "\n",
    "# Convert UTC to Tokyo time\n",
    "d_tokyo = d_utc.astimezone(ZoneInfo(\"Asia/Tokyo\"))\n",
    "print(\"Tokyo Time:\", d_tokyo, d_tokyo.tzname(), d_tokyo.tzinfo)"
   ]
  },
  {
   "cell_type": "markdown",
   "metadata": {
    "application/vnd.databricks.v1+cell": {
     "cellMetadata": {},
     "inputWidgets": {},
     "nuid": "1d849634-e9b6-48ea-b16b-bf52b35a0f07",
     "showTitle": false,
     "tableResultSettingsMap": {},
     "title": ""
    }
   },
   "source": [
    "- Here, **.astimezone()** converts the **time** to the **specified timezone** correctly."
   ]
  },
  {
   "cell_type": "code",
   "execution_count": 0,
   "metadata": {
    "application/vnd.databricks.v1+cell": {
     "cellMetadata": {
      "byteLimit": 2048000,
      "rowLimit": 10000
     },
     "inputWidgets": {},
     "nuid": "cd59d44c-b157-4a8d-a152-6b593ecfa68d",
     "showTitle": true,
     "tableResultSettingsMap": {},
     "title": "convert from \"Europe/Paris\" to \"America/New_York\""
    }
   },
   "outputs": [
    {
     "output_type": "stream",
     "name": "stdout",
     "output_type": "stream",
     "text": [
      "2025-03-23 11:51:44.063824\n2025-03-23 12:51:44.063918+01:00 CET Europe/Paris\n2025-03-23 07:51:44.063918-04:00 EDT America/New_York\n"
     ]
    }
   ],
   "source": [
    "from datetime import datetime\n",
    "from zoneinfo import ZoneInfo\n",
    "\n",
    "now = datetime.now()\n",
    "print(now)\n",
    "\n",
    "paris = datetime.now(tz=ZoneInfo(\"Europe/Paris\"))\n",
    "print(paris, paris.tzname(), paris.tzinfo)\n",
    "\n",
    "New_York = paris.astimezone(ZoneInfo(\"America/New_York\"))\n",
    "print(New_York, New_York.tzname(), New_York.tzinfo)"
   ]
  },
  {
   "cell_type": "code",
   "execution_count": 0,
   "metadata": {
    "application/vnd.databricks.v1+cell": {
     "cellMetadata": {
      "byteLimit": 2048000,
      "rowLimit": 10000
     },
     "inputWidgets": {},
     "nuid": "9ab40be3-89eb-4a0b-bdcd-98d22710f6af",
     "showTitle": true,
     "tableResultSettingsMap": {},
     "title": "convert from \"UTC\" to \"Asia/Kolkata\""
    }
   },
   "outputs": [
    {
     "output_type": "stream",
     "name": "stdout",
     "output_type": "stream",
     "text": [
      "2025-03-23 11:52:40.477495\nUTC Time: 2025-03-23 11:52:40.479557+00:00\nIST Time: 2025-03-23 17:22:40.479557+05:30\n"
     ]
    }
   ],
   "source": [
    "import pytz\n",
    "\n",
    "now = datetime.now()\n",
    "print(now)\n",
    "\n",
    "# Get current time in UTC\n",
    "utc_now = datetime.now(pytz.utc)\n",
    "print(\"UTC Time:\", utc_now)\n",
    "\n",
    "# Convert to IST\n",
    "ist_now = utc_now.astimezone(pytz.timezone('Asia/Kolkata'))\n",
    "print(\"IST Time:\", ist_now)"
   ]
  },
  {
   "cell_type": "markdown",
   "metadata": {
    "application/vnd.databricks.v1+cell": {
     "cellMetadata": {},
     "inputWidgets": {},
     "nuid": "045c5e03-362f-4337-934d-ace62b16200f",
     "showTitle": false,
     "tableResultSettingsMap": {},
     "title": ""
    }
   },
   "source": [
    "**When to Use tzinfo vs tz**\n",
    "\n",
    "| Scenario\t| Use tzinfo\t| Use tz (with astimezone) |\n",
    "|-----------|-------------|---------------|\n",
    "| Attach timezone to naive datetime\t| ✅ replace(tzinfo=...)\t| ❌ |\n",
    "| Convert between timezones\t| ❌ |\t✅ astimezone(tz=...) |\n",
    "| Get current UTC time\t| ✅ datetime.now(timezone.utc)\t| ❌ |\n",
    "| Normalize all datetimes to UTC\t| ✅ dt.replace(tzinfo=timezone.utc)\t| ✅ dt.astimezone(timezone.utc) |"
   ]
  },
  {
   "cell_type": "markdown",
   "metadata": {
    "application/vnd.databricks.v1+cell": {
     "cellMetadata": {},
     "inputWidgets": {},
     "nuid": "334e8d3a-bec4-47d6-b48e-445bb4717458",
     "showTitle": false,
     "tableResultSettingsMap": {},
     "title": ""
    }
   },
   "source": [
    "**Conclusion:**\n",
    "\n",
    "✅ **localize():**\n",
    "- Just **adds a timezone without modifying the time**.\n",
    "\n",
    "✅ **astimezone():**\n",
    "- **Changes the time** to reflect the **new timezone**."
   ]
  }
 ],
 "metadata": {
  "application/vnd.databricks.v1+notebook": {
   "computePreferences": null,
   "dashboards": [],
   "environmentMetadata": {
    "base_environment": "",
    "client": "1"
   },
   "language": "python",
   "notebookMetadata": {
    "pythonIndentUnit": 4
   },
   "notebookName": "26_Convert datetime to Different Time Zones using localize() & astimezone()",
   "widgets": {}
  }
 },
 "nbformat": 4,
 "nbformat_minor": 0
}
