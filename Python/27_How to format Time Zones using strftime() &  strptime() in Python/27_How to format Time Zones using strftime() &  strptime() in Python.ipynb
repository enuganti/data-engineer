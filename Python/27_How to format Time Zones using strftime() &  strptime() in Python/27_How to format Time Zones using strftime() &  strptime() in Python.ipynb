{
 "cells": [
  {
   "cell_type": "markdown",
   "metadata": {
    "application/vnd.databricks.v1+cell": {
     "cellMetadata": {},
     "inputWidgets": {},
     "nuid": "5a000123-23ee-4492-bb5c-0ddcf2369ecd",
     "showTitle": false,
     "tableResultSettingsMap": {},
     "title": ""
    }
   },
   "source": [
    "#### **1) strftime() Method**\n",
    "\n",
    "- The **datetime object** has a method for **formatting** date objects into **readable strings**.\n",
    "\n",
    "- The method is called **strftime()**, and takes **one parameter, format**, to specify the format of the returned string.\n",
    "\n",
    "- **strftime():** Formats timestamps in **ISO 8601 format (yyyy-MM-ddTHH:mm:ss.SSSZ)**.\n",
    "\n",
    "#### **2) strptime() Method**\n",
    "\n",
    "- The **strptime()** method creates a **datetime** object from the given **string**.\n",
    "\n",
    "**How strptime() works?**\n",
    "\n",
    "The strptime() class method takes two arguments:\n",
    "\n",
    "- string (that be converted to datetime)\n",
    "- format code\n",
    "\n",
    "Based on the **string and format code** used, the method returns its **equivalent datetime** object.\n",
    "\n",
    "      date_string = \"21 June, 2018\"\n",
    "      date_object = datetime.strptime(date_string, \"%d %B %Y\")\n",
    "\n",
    "Here,\n",
    "\n",
    "- **%d** - Represents the day of the month. **Example: 01, 02, ..., 31**\n",
    "- **%B** - Month's name in full. **Example: January, February etc.**\n",
    "- **%Y** - Year in four digits. **Example: 2018, 2019 etc.**\n",
    "\n",
    "**ValueError in strptime()**\n",
    "\n",
    "- If the **string (first argument) and the format code (second argument)** passed to the **strptime() doesn't match**, you will get **ValueError**.\n",
    "\n",
    "      from datetime import datetime\n",
    "\n",
    "      date_string = \"12/11/2018\"\n",
    "      date_object = datetime.strptime(date_string, \"%d %m %Y\")\n",
    "\n",
    "      print(\"date_object =\", date_object)\n",
    "\n",
    "- If you run this program, you will get an error.\n",
    "\n",
    "- **ValueError:** time data '12/11/2018' **does not match** format '%d %m %Y'"
   ]
  },
  {
   "cell_type": "markdown",
   "metadata": {
    "application/vnd.databricks.v1+cell": {
     "cellMetadata": {},
     "inputWidgets": {},
     "nuid": "e155a6e4-d558-404d-bef7-98ad255a5819",
     "showTitle": false,
     "tableResultSettingsMap": {},
     "title": ""
    }
   },
   "source": [
    "#### **Common Format Codes**\n",
    "\n",
    "| Format Code |\tDescription\t| Example Output |\n",
    "|-------------|-------------|----------------|\n",
    "| %Y\t| Year (4 digits)\t| 2025 |\n",
    "| %y\t| Year (2 digits)\t| 25   |\n",
    "| %d\t| Day of month (01-31)\t | 22   |\n",
    "| %H  | Hour (24-hour)\t| 14   |\n",
    "| %I  | Hour (12-hour)\t| 02   |\n",
    "| %M\t| Minute (00-59)\t| 30   |\n",
    "| %S\t| Second (00-59)\t| 00   |\n",
    "| %p\t| AM/PM\t            | PM   |\n",
    "| %w  | Weekday as a number 0-6, 0 is Sunday | 3 |\n",
    "| %m\t| Month as a number 01-12   | 12       |\t\n",
    "| %p  |\tAM/PM |\tPM |\t\n",
    "| %M\t| Minute 00-59\t| 41 |\t\n",
    "| %f\t| Microsecond | 000000-999999\t548513 |\n",
    "| %z |\tUTC offset\t| +0100 |\t\n",
    "| %Z\t| Timezone\t| CST |\t\n",
    "| %j\t| Day number of year 001-366 |\t365 |\t\n",
    "| %U\t|Week number of year, Sunday as the first day of week, 00-53 |\t52 |\t\n",
    "| %W\t| Week number of year, Monday as the first day of week, 00-53\t| 52 |\t\n",
    "| %c\t| Local version of date and time\tMon Dec 31 17:41:00 | 2018 |\t\n",
    "| %C\t| Century |\t20 |\t\n",
    "| %x\t| Local version of date |\t12/31/18 |\t\n",
    "| %X |\tLocal version of time |\t17:41:00 |\t\n",
    "| %%\t| A % character |\t% |\t\n",
    "| %G\t| ISO 8601 year |\t2018 |\t\n",
    "| %u\t| ISO 8601 weekday (1-7) | \t1 |\t\n",
    "| %V\t| ISO 8601 weeknumber (01-53) |\t01 |\n"
   ]
  },
  {
   "cell_type": "markdown",
   "metadata": {
    "application/vnd.databricks.v1+cell": {
     "cellMetadata": {},
     "inputWidgets": {},
     "nuid": "55915fd6-e0bf-45b6-885e-9953189a8822",
     "showTitle": false,
     "tableResultSettingsMap": {},
     "title": ""
    }
   },
   "source": [
    "| Format Code |\tDescription\t| Example Output |\n",
    "|-------------|-------------|----------------|\n",
    "| %a    | Weekday, short version | Wed       |\n",
    "| %A    | Weekday, full version  | Wednesday |\n",
    "| %b\t  | Month name, short version | Mar    |\n",
    "| %B\t  | Month name, full version  | March  |"
   ]
  },
  {
   "cell_type": "code",
   "execution_count": 0,
   "metadata": {
    "application/vnd.databricks.v1+cell": {
     "cellMetadata": {
      "byteLimit": 2048000,
      "rowLimit": 10000
     },
     "inputWidgets": {},
     "nuid": "5470bc6d-eb89-4d9d-8b68-bc2e288118f7",
     "showTitle": true,
     "tableResultSettingsMap": {},
     "title": "Return the year and name of weekday"
    }
   },
   "outputs": [
    {
     "output_type": "stream",
     "name": "stdout",
     "output_type": "stream",
     "text": [
      "2025-04-22 17:27:23.927797\n2025\nTuesday\n"
     ]
    }
   ],
   "source": [
    "import datetime\n",
    "\n",
    "x = datetime.datetime.now()\n",
    "\n",
    "print(x)\n",
    "print(x.year)\n",
    "print(x.strftime(\"%A\")) #  %A =>  (Weekday, full version)  =>  Tuesday"
   ]
  },
  {
   "cell_type": "code",
   "execution_count": 0,
   "metadata": {
    "application/vnd.databricks.v1+cell": {
     "cellMetadata": {
      "byteLimit": 2048000,
      "rowLimit": 10000
     },
     "inputWidgets": {},
     "nuid": "968b8e33-527b-4e36-8a9e-9c23f4469f1a",
     "showTitle": true,
     "tableResultSettingsMap": {},
     "title": "Display the name of the month"
    }
   },
   "outputs": [
    {
     "output_type": "stream",
     "name": "stdout",
     "output_type": "stream",
     "text": [
      "2018-06-01 00:00:00\nJune\n"
     ]
    }
   ],
   "source": [
    "import datetime\n",
    "\n",
    "x = datetime.datetime(2018, 6, 1)\n",
    "\n",
    "print(x)\n",
    "print(x.strftime(\"%B\"))  # %B\t=>  (Month name, full version)  => \tJune"
   ]
  },
  {
   "cell_type": "markdown",
   "metadata": {
    "application/vnd.databricks.v1+cell": {
     "cellMetadata": {},
     "inputWidgets": {},
     "nuid": "dd435c99-8eaf-46c0-a1bd-e151e6d75a29",
     "showTitle": false,
     "tableResultSettingsMap": {},
     "title": ""
    }
   },
   "source": [
    "**1) Formatting a Datetime with UTC Timezone**"
   ]
  },
  {
   "cell_type": "code",
   "execution_count": 0,
   "metadata": {
    "application/vnd.databricks.v1+cell": {
     "cellMetadata": {
      "byteLimit": 2048000,
      "rowLimit": 10000
     },
     "inputWidgets": {},
     "nuid": "cc4a339f-f3a2-429a-bc7f-f2cc0b417ece",
     "showTitle": true,
     "tableResultSettingsMap": {},
     "title": "UTC timezone"
    }
   },
   "outputs": [
    {
     "output_type": "stream",
     "name": "stdout",
     "output_type": "stream",
     "text": [
      "2023-02-13 17:10:27+00:00 UTC UTC\n2023-02-13 17:10:27 UTC+0000\n"
     ]
    }
   ],
   "source": [
    "import pytz\n",
    "from datetime import datetime\n",
    "\n",
    "naive = datetime(2023, 2, 13, 17, 10, 27, tzinfo = pytz.utc)\n",
    "print(naive, naive.tzname(), naive.tzinfo)\n",
    "\n",
    "my_datetime_utc = naive.strftime('%Y-%m-%d %H:%M:%S %Z%z')\n",
    "print(my_datetime_utc)"
   ]
  },
  {
   "cell_type": "markdown",
   "metadata": {
    "application/vnd.databricks.v1+cell": {
     "cellMetadata": {},
     "inputWidgets": {},
     "nuid": "a6c9678d-d995-4c11-96da-02021193e01f",
     "showTitle": false,
     "tableResultSettingsMap": {},
     "title": ""
    }
   },
   "source": [
    "| Format Code |\tDescription\t| Example Output |\n",
    "|-------------|-------------|----------------|\n",
    "| %z          |\tUTC offset\t| +0000          |\t\n",
    "| %Z\t      | Timezone\t| UTC            |"
   ]
  },
  {
   "cell_type": "code",
   "execution_count": 0,
   "metadata": {
    "application/vnd.databricks.v1+cell": {
     "cellMetadata": {
      "byteLimit": 2048000,
      "rowLimit": 10000
     },
     "inputWidgets": {},
     "nuid": "c0947399-3f5d-4802-97f6-8443a3521314",
     "showTitle": true,
     "tableResultSettingsMap": {},
     "title": "Formatting a Datetime with UTC Timezone"
    }
   },
   "outputs": [
    {
     "output_type": "stream",
     "name": "stdout",
     "output_type": "stream",
     "text": [
      "2025-03-25 03:02:53.363328+00:00 UTC UTC\n2025-03-25 03:02:53 UTC+0000\n"
     ]
    }
   ],
   "source": [
    "from datetime import datetime, timezone\n",
    "\n",
    "dt = datetime.now(timezone.utc)\n",
    "print(dt, dt.tzname(), dt.tzinfo)\n",
    "\n",
    "formatted_dt = dt.strftime(\"%Y-%m-%d %H:%M:%S %Z%z\")\n",
    "print(formatted_dt)"
   ]
  },
  {
   "cell_type": "markdown",
   "metadata": {
    "application/vnd.databricks.v1+cell": {
     "cellMetadata": {},
     "inputWidgets": {},
     "nuid": "8443d856-5748-4c31-9ec9-2a04c52e603a",
     "showTitle": false,
     "tableResultSettingsMap": {},
     "title": ""
    }
   },
   "source": [
    "**2) Convert and Format UTC to a Local Timezone**"
   ]
  },
  {
   "cell_type": "code",
   "execution_count": 0,
   "metadata": {
    "application/vnd.databricks.v1+cell": {
     "cellMetadata": {
      "byteLimit": 2048000,
      "rowLimit": 10000
     },
     "inputWidgets": {},
     "nuid": "dba9768f-9333-424b-a539-e6fc94518684",
     "showTitle": true,
     "tableResultSettingsMap": {},
     "title": "strptime"
    }
   },
   "outputs": [
    {
     "output_type": "stream",
     "name": "stdout",
     "output_type": "stream",
     "text": [
      "User Time (India): 2025-03-20 12:45:00+05:30\nConverted to UTC: 2025-03-20 07:15:00+00:00\n"
     ]
    }
   ],
   "source": [
    "from datetime import datetime\n",
    "from zoneinfo import ZoneInfo\n",
    "\n",
    "# Simulate user input as a string\n",
    "user_time = \"2025-03-20 12:45:00\"\n",
    "\n",
    "# Parse string and set timezone\n",
    "dt = datetime.strptime(user_time, \"%Y-%m-%d %H:%M:%S\").replace(tzinfo=ZoneInfo(\"Asia/Kolkata\"))\n",
    "print(\"User Time (India):\", dt)\n",
    "\n",
    "# Convert to UTC\n",
    "dt_utc = dt.astimezone(ZoneInfo(\"UTC\"))\n",
    "print(\"Converted to UTC:\", dt_utc)"
   ]
  },
  {
   "cell_type": "code",
   "execution_count": 0,
   "metadata": {
    "application/vnd.databricks.v1+cell": {
     "cellMetadata": {
      "byteLimit": 2048000,
      "rowLimit": 10000
     },
     "inputWidgets": {},
     "nuid": "5d73d71c-acdb-43b0-b48b-03bdcc2cfa68",
     "showTitle": true,
     "tableResultSettingsMap": {},
     "title": "strftime"
    }
   },
   "outputs": [
    {
     "output_type": "stream",
     "name": "stdout",
     "output_type": "stream",
     "text": [
      "2025-03-25 03:03:02 UTC+0000\n2025-03-25 08:33:02 IST+0530\n"
     ]
    }
   ],
   "source": [
    "from datetime import datetime\n",
    "from pytz import timezone\n",
    "\n",
    "format = \"%Y-%m-%d %H:%M:%S %Z%z\"\n",
    "\n",
    "# Current time in UTC\n",
    "now_utc = datetime.now(timezone('UTC'))\n",
    "print(now_utc.strftime(format))\n",
    "\n",
    "# Convert to Asia/Kolkata time zone\n",
    "now_asia = now_utc.astimezone(timezone('Asia/Kolkata'))\n",
    "print(now_asia.strftime(format))"
   ]
  },
  {
   "cell_type": "code",
   "execution_count": 0,
   "metadata": {
    "application/vnd.databricks.v1+cell": {
     "cellMetadata": {
      "byteLimit": 2048000,
      "rowLimit": 10000
     },
     "inputWidgets": {},
     "nuid": "23a27d94-8f9a-45f1-90eb-5925fd248c19",
     "showTitle": true,
     "tableResultSettingsMap": {},
     "title": "strftime"
    }
   },
   "outputs": [
    {
     "output_type": "stream",
     "name": "stdout",
     "output_type": "stream",
     "text": [
      "2025-03-25 03:03:27.463945 None None\n2025-03-25 03:03:27.463945+00:00 UTC UTC\n2025-03-25 03:03:27\n"
     ]
    }
   ],
   "source": [
    "import time\n",
    "from datetime import timezone\n",
    "import datetime\n",
    "\n",
    "dt = datetime.datetime.now()\n",
    "print(dt, dt.tzname(), dt.tzinfo)\n",
    "\n",
    "utc_time = dt.replace(tzinfo=timezone.utc)\n",
    "print(utc_time, utc_time.tzname(), utc_time.tzinfo)\n",
    "\n",
    "formt = utc_time.strftime(\"%Y-%m-%d %H:%M:%S\")\n",
    "print(formt)"
   ]
  },
  {
   "cell_type": "markdown",
   "metadata": {
    "application/vnd.databricks.v1+cell": {
     "cellMetadata": {},
     "inputWidgets": {},
     "nuid": "62e92d17-0853-4f44-aec3-2947f0774552",
     "showTitle": false,
     "tableResultSettingsMap": {},
     "title": ""
    }
   },
   "source": [
    "**3) Display ISO 8601 Format with Timezone**"
   ]
  },
  {
   "cell_type": "markdown",
   "metadata": {
    "application/vnd.databricks.v1+cell": {
     "cellMetadata": {},
     "inputWidgets": {},
     "nuid": "5009b35b-5e0b-4d90-a674-c5cd05f5b7e2",
     "showTitle": false,
     "tableResultSettingsMap": {},
     "title": ""
    }
   },
   "source": [
    "| Format Code |\tDescription\t| Example Output |\n",
    "|-------------|-------------|----------------|\n",
    "| %B\t  | Month name, full version  | March  |\n",
    "| %d    | Day of month (01-31)      | 22     |\n",
    "| %Y    | Year (4 digits)           | 2025   |"
   ]
  },
  {
   "cell_type": "code",
   "execution_count": 0,
   "metadata": {
    "application/vnd.databricks.v1+cell": {
     "cellMetadata": {
      "byteLimit": 2048000,
      "rowLimit": 10000
     },
     "inputWidgets": {},
     "nuid": "e9334b11-34a5-4e64-84dc-a31bee8c47b5",
     "showTitle": true,
     "tableResultSettingsMap": {},
     "title": "strftime"
    }
   },
   "outputs": [
    {
     "output_type": "stream",
     "name": "stdout",
     "output_type": "stream",
     "text": [
      "datetime:  1984-01-10 23:30:00\nstrftime format:  January 10, 1984\nISO 8601 formatted date/time:  1984-01-10T23:30:00\n"
     ]
    }
   ],
   "source": [
    "# import the modules\n",
    "import datetime\n",
    "\n",
    "d = datetime.datetime(1984, 1, 10, 23, 30)\n",
    "print(\"datetime: \", d)\n",
    "\n",
    "# strftime method allows you to print a string formatted using a series of formatting directives\n",
    "d1 = d.strftime(\"%B %d, %Y\")\n",
    "\n",
    "# isoformat method used for quickly generating an ISO 8601 formatted date/time\n",
    "d2 = d.isoformat()\n",
    "print(\"strftime format: \", d1)\n",
    "print(\"ISO 8601 formatted date/time: \", d2)"
   ]
  },
  {
   "cell_type": "code",
   "execution_count": 0,
   "metadata": {
    "application/vnd.databricks.v1+cell": {
     "cellMetadata": {
      "byteLimit": 2048000,
      "rowLimit": 10000
     },
     "inputWidgets": {},
     "nuid": "fafcc832-6426-440c-8ecf-0c8523f120cc",
     "showTitle": false,
     "tableResultSettingsMap": {},
     "title": ""
    }
   },
   "outputs": [
    {
     "output_type": "stream",
     "name": "stdout",
     "output_type": "stream",
     "text": [
      "2025-03-25 14:03:35.087815+11:00 AEDT Australia/Sydney\n2025-03-25T14:03:35.087815+11:00\n"
     ]
    }
   ],
   "source": [
    "from datetime import datetime\n",
    "import pytz\n",
    "\n",
    "dt = datetime.now(pytz.timezone(\"Australia/Sydney\"))\n",
    "print(dt, dt.tzname(), dt.tzinfo)\n",
    "\n",
    "formatted_dt = dt.isoformat()\n",
    "print(formatted_dt)"
   ]
  },
  {
   "cell_type": "markdown",
   "metadata": {
    "application/vnd.databricks.v1+cell": {
     "cellMetadata": {},
     "inputWidgets": {},
     "nuid": "40ea29ed-f60f-4921-8c18-a5e20232f55c",
     "showTitle": false,
     "tableResultSettingsMap": {},
     "title": ""
    }
   },
   "source": [
    "**4) Custom Format with AM/PM, Timezone Name, and Offset**"
   ]
  },
  {
   "cell_type": "code",
   "execution_count": 0,
   "metadata": {
    "application/vnd.databricks.v1+cell": {
     "cellMetadata": {
      "byteLimit": 2048000,
      "rowLimit": 10000
     },
     "inputWidgets": {},
     "nuid": "44c14f3e-5979-45e6-9cad-2b850a29e293",
     "showTitle": true,
     "tableResultSettingsMap": {},
     "title": "strftime"
    }
   },
   "outputs": [
    {
     "output_type": "stream",
     "name": "stdout",
     "output_type": "stream",
     "text": [
      "2025-03-24 20:03:38.373651-07:00 PDT America/Los_Angeles\n2025-03-24 08:03:38 PM (PDT, UTC-0700)\n"
     ]
    }
   ],
   "source": [
    "from datetime import datetime\n",
    "import pytz\n",
    "\n",
    "dt = datetime.now(pytz.timezone(\"America/Los_Angeles\"))\n",
    "print(dt, dt.tzname(), dt.tzinfo)\n",
    "\n",
    "formatted_dt = dt.strftime(\"%Y-%m-%d %I:%M:%S %p (%Z, UTC%z)\")\n",
    "print(formatted_dt)"
   ]
  },
  {
   "cell_type": "markdown",
   "metadata": {
    "application/vnd.databricks.v1+cell": {
     "cellMetadata": {},
     "inputWidgets": {},
     "nuid": "c8b48bde-e595-4651-a7e1-17ac06122baa",
     "showTitle": false,
     "tableResultSettingsMap": {},
     "title": ""
    }
   },
   "source": [
    "\n",
    "| Format Code |\tDescription\t| Example Output |\n",
    "|-------------|-------------|----------------|\n",
    "| %Y\t| Year (4 digits)\t| 2025 |\n",
    "| %d\t| Day of month (01-31)\t | 22   |\n",
    "| %I  | Hour (12-hour)\t| 02   |\n",
    "| %M\t| Minute (00-59)\t| 30   |\n",
    "| %S\t| Second (00-59)\t| 00   |\n",
    "| %p\t| AM/PM\t            | PM   |\n",
    "| %m\t| Month as a number 01-12   | 12       |\t\n",
    "| %z |\tUTC offset\t| +0100 |\t\n",
    "| %Z\t| Timezone\t| CST |\t"
   ]
  },
  {
   "cell_type": "markdown",
   "metadata": {
    "application/vnd.databricks.v1+cell": {
     "cellMetadata": {},
     "inputWidgets": {},
     "nuid": "0e63bc22-cec6-4b20-a5c9-64073a2753c7",
     "showTitle": false,
     "tableResultSettingsMap": {},
     "title": ""
    }
   },
   "source": [
    "**5) Extracting and Formatting Just the Timezone Offset**"
   ]
  },
  {
   "cell_type": "code",
   "execution_count": 0,
   "metadata": {
    "application/vnd.databricks.v1+cell": {
     "cellMetadata": {
      "byteLimit": 2048000,
      "rowLimit": 10000
     },
     "inputWidgets": {},
     "nuid": "ce0f64bd-8693-45c2-ab9b-d193daca8cde",
     "showTitle": true,
     "tableResultSettingsMap": {},
     "title": "strftime"
    }
   },
   "outputs": [
    {
     "output_type": "stream",
     "name": "stdout",
     "output_type": "stream",
     "text": [
      "2025-03-25 08:33:44.066929+05:30 IST Asia/Kolkata\nUTC Offset: +0530\n"
     ]
    }
   ],
   "source": [
    "from datetime import datetime\n",
    "import pytz\n",
    "\n",
    "dt = datetime.now(pytz.timezone(\"Asia/Kolkata\"))\n",
    "print(dt, dt.tzname(), dt.tzinfo)\n",
    "\n",
    "formatted_dt = dt.strftime(\"UTC Offset: %z\")\n",
    "print(formatted_dt)"
   ]
  },
  {
   "cell_type": "markdown",
   "metadata": {
    "application/vnd.databricks.v1+cell": {
     "cellMetadata": {},
     "inputWidgets": {},
     "nuid": "f2bf620b-e8da-4230-859b-f9e6d00c2470",
     "showTitle": false,
     "tableResultSettingsMap": {},
     "title": ""
    }
   },
   "source": [
    "**6) Formatting Datetime with a Specific Timezone (pytz)**"
   ]
  },
  {
   "cell_type": "markdown",
   "metadata": {
    "application/vnd.databricks.v1+cell": {
     "cellMetadata": {},
     "inputWidgets": {},
     "nuid": "8c699626-7520-4e5c-84b2-83bd63b6b28c",
     "showTitle": false,
     "tableResultSettingsMap": {},
     "title": ""
    }
   },
   "source": [
    "| Format Code |\tDescription\t| Example Output |\n",
    "|-------------|-------------|----------------|\n",
    "| %z |\tUTC offset\t| +0100 |\t\n",
    "| %Z\t| Timezone\t| CST |"
   ]
  },
  {
   "cell_type": "code",
   "execution_count": 0,
   "metadata": {
    "application/vnd.databricks.v1+cell": {
     "cellMetadata": {
      "byteLimit": 2048000,
      "rowLimit": 10000
     },
     "inputWidgets": {},
     "nuid": "51db92a2-b0c8-4948-913c-86afd758a8c8",
     "showTitle": true,
     "tableResultSettingsMap": {},
     "title": "Europe/Berlin"
    }
   },
   "outputs": [
    {
     "output_type": "stream",
     "name": "stdout",
     "output_type": "stream",
     "text": [
      "2025-03-25 04:03:44.066929+01:00\n2025-03-25 04:03:44 CET+0100\n"
     ]
    }
   ],
   "source": [
    "eur_berl = dt.astimezone(pytz.timezone('Europe/Berlin'))\n",
    "print(eur_berl)\n",
    "\n",
    "eur_berl_form = eur_berl.strftime('%Y-%m-%d %H:%M:%S %Z%z')\n",
    "print(eur_berl_form)"
   ]
  },
  {
   "cell_type": "code",
   "execution_count": 0,
   "metadata": {
    "application/vnd.databricks.v1+cell": {
     "cellMetadata": {
      "byteLimit": 2048000,
      "rowLimit": 10000
     },
     "inputWidgets": {},
     "nuid": "33cba498-3a54-46f9-9260-158c3fd14044",
     "showTitle": false,
     "tableResultSettingsMap": {},
     "title": "US/Central"
    }
   },
   "outputs": [
    {
     "output_type": "stream",
     "name": "stdout",
     "output_type": "stream",
     "text": [
      "2025-03-24 22:03:44.066929-05:00\n2025-03-24 22:03:44 CDT-0500\n"
     ]
    }
   ],
   "source": [
    "US_centrl = dt.astimezone(pytz.timezone('US/Central'))\n",
    "print(US_centrl)\n",
    "\n",
    "US_centrl_formt = US_centrl.strftime('%Y-%m-%d %H:%M:%S %Z%z')\n",
    "print(US_centrl_formt)"
   ]
  },
  {
   "cell_type": "code",
   "execution_count": 0,
   "metadata": {
    "application/vnd.databricks.v1+cell": {
     "cellMetadata": {
      "byteLimit": 2048000,
      "rowLimit": 10000
     },
     "inputWidgets": {},
     "nuid": "217c5cab-65c7-412b-8e07-ba328996fd93",
     "showTitle": true,
     "tableResultSettingsMap": {},
     "title": "US/Eastern"
    }
   },
   "outputs": [
    {
     "output_type": "stream",
     "name": "stdout",
     "output_type": "stream",
     "text": [
      "2025-03-24 23:03:44.066929-04:00\n2025-03-24 23:03:44 EDT-0400\n"
     ]
    }
   ],
   "source": [
    "US_Eastern = dt.astimezone(pytz.timezone('US/Eastern'))\n",
    "print(US_Eastern)\n",
    "\n",
    "US_Eastern_formt = US_Eastern.strftime('%Y-%m-%d %H:%M:%S %Z%z')\n",
    "print(US_Eastern_formt)"
   ]
  },
  {
   "cell_type": "code",
   "execution_count": 0,
   "metadata": {
    "application/vnd.databricks.v1+cell": {
     "cellMetadata": {
      "byteLimit": 2048000,
      "rowLimit": 10000
     },
     "inputWidgets": {},
     "nuid": "59710005-8bff-4895-9786-bd0a25ca39da",
     "showTitle": true,
     "tableResultSettingsMap": {},
     "title": "Convert and Format UTC to a Local Timezone"
    }
   },
   "outputs": [
    {
     "output_type": "stream",
     "name": "stdout",
     "output_type": "stream",
     "text": [
      "2025-04-22 17:50:27.557962+00:00 UTC UTC\n2025-04-22 18:50:27.557962+01:00 BST Europe/London\n2025-04-22 18:50:27 BST+0100\n"
     ]
    }
   ],
   "source": [
    "from datetime import datetime\n",
    "import pytz\n",
    "\n",
    "utc_dt = datetime.utcnow().replace(tzinfo=pytz.utc)\n",
    "print(utc_dt, utc_dt.tzname(), utc_dt.tzinfo)\n",
    "\n",
    "local_dt = utc_dt.astimezone(pytz.timezone(\"Europe/London\"))\n",
    "print(local_dt, local_dt.tzname(), local_dt.tzinfo)\n",
    "\n",
    "formatted_dt = local_dt.strftime(\"%Y-%m-%d %H:%M:%S %Z%z\")\n",
    "\n",
    "print(formatted_dt)"
   ]
  },
  {
   "cell_type": "markdown",
   "metadata": {
    "application/vnd.databricks.v1+cell": {
     "cellMetadata": {},
     "inputWidgets": {},
     "nuid": "f744bb21-8201-42ca-af02-e1184fe1f26a",
     "showTitle": false,
     "tableResultSettingsMap": {},
     "title": ""
    }
   },
   "source": [
    "**7) Formatting Datetime Using \"zoneinfo\" (Python 3.9+)**"
   ]
  },
  {
   "cell_type": "code",
   "execution_count": 0,
   "metadata": {
    "application/vnd.databricks.v1+cell": {
     "cellMetadata": {
      "byteLimit": 2048000,
      "rowLimit": 10000
     },
     "inputWidgets": {},
     "nuid": "206767f4-a75c-4e3a-b12f-dea7383048c3",
     "showTitle": true,
     "tableResultSettingsMap": {},
     "title": "Formatting Datetime Using zoneinfo (Python 3.9+)"
    }
   },
   "outputs": [
    {
     "output_type": "stream",
     "name": "stdout",
     "output_type": "stream",
     "text": [
      "2025-03-25 12:05:10.564457+09:00 JST Asia/Tokyo\nTuesday, March 25, 2025 12:05 PM JST+0900\n"
     ]
    }
   ],
   "source": [
    "from datetime import datetime\n",
    "from zoneinfo import ZoneInfo\n",
    "\n",
    "dt = datetime.now(ZoneInfo(\"Asia/Tokyo\"))\n",
    "print(dt, dt.tzname(), dt.tzinfo)\n",
    "\n",
    "formatted_dt = dt.strftime(\"%A, %B %d, %Y %I:%M %p %Z%z\")\n",
    "print(formatted_dt)"
   ]
  },
  {
   "cell_type": "code",
   "execution_count": 0,
   "metadata": {
    "application/vnd.databricks.v1+cell": {
     "cellMetadata": {
      "byteLimit": 2048000,
      "rowLimit": 10000
     },
     "inputWidgets": {},
     "nuid": "51c30928-883e-488f-b9a9-b154ba610ac7",
     "showTitle": false,
     "tableResultSettingsMap": {},
     "title": ""
    }
   },
   "outputs": [
    {
     "output_type": "stream",
     "name": "stdout",
     "output_type": "stream",
     "text": [
      "2025-04-22 17:58:08.706707+00:00 UTC UTC\nISO 8601 Timestamp (London): 2025-04-22 18:58:08.706707+01:00\nISO 8601 Timestamp (London): 2025-04-22T18:58:08.706Z\n"
     ]
    }
   ],
   "source": [
    "from datetime import datetime\n",
    "from zoneinfo import ZoneInfo\n",
    "\n",
    "d = datetime.utcnow().replace(tzinfo=ZoneInfo(\"UTC\"))\n",
    "print(d, d.tzname(), d.tzinfo)\n",
    "\n",
    "# Convert to ISO 8601 format\n",
    "iso = d.astimezone(ZoneInfo(\"Europe/London\"))\n",
    "print(\"ISO 8601 Timestamp (London):\", iso)\n",
    "\n",
    "iso_timestamp = d.astimezone(ZoneInfo(\"Europe/London\")).strftime(\"%Y-%m-%dT%H:%M:%S.%f\")[:-3] + \"Z\"\n",
    "print(\"ISO 8601 Timestamp (London):\", iso_timestamp)"
   ]
  },
  {
   "cell_type": "markdown",
   "metadata": {
    "application/vnd.databricks.v1+cell": {
     "cellMetadata": {},
     "inputWidgets": {},
     "nuid": "055a6469-bd4a-455f-8f68-77bf9783c195",
     "showTitle": false,
     "tableResultSettingsMap": {},
     "title": ""
    }
   },
   "source": [
    "- Formats **timestamp** in **yyyy-MM-ddTHH:mm:ss.SSSZ** format."
   ]
  },
  {
   "cell_type": "markdown",
   "metadata": {
    "application/vnd.databricks.v1+cell": {
     "cellMetadata": {},
     "inputWidgets": {},
     "nuid": "48e2871c-0dbd-4c4d-aa27-60b0dca125f3",
     "showTitle": false,
     "tableResultSettingsMap": {},
     "title": ""
    }
   },
   "source": [
    "| Format Code |\tDescription\t| Example Output |\n",
    "|-------------|-------------|----------------|\n",
    "| %f          |\tMicrosecond\t| 000000-999999 548513          |"
   ]
  }
 ],
 "metadata": {
  "application/vnd.databricks.v1+notebook": {
   "computePreferences": null,
   "dashboards": [],
   "environmentMetadata": {
    "base_environment": "",
    "environment_version": "1"
   },
   "inputWidgetPreferences": null,
   "language": "python",
   "notebookMetadata": {
    "pythonIndentUnit": 4
   },
   "notebookName": "27_How to format Time Zones using strftime() &  strptime() in Python",
   "widgets": {}
  }
 },
 "nbformat": 4,
 "nbformat_minor": 0
}