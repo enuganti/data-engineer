{
 "cells": [
  {
   "cell_type": "markdown",
   "metadata": {
    "application/vnd.databricks.v1+cell": {
     "cellMetadata": {},
     "inputWidgets": {},
     "nuid": "adaa7ab3-2fa7-4b4f-80a4-f8cbad76d72a",
     "showTitle": false,
     "tableResultSettingsMap": {},
     "title": ""
    }
   },
   "source": [
    "%md\n",
    "#### **Key Differences b/n datetime.now() & datetime.today()**\n",
    "\n",
    "**Time Zone Support**\n",
    "\n",
    "     datetime.now(tz) can return a timezone-aware datetime.\n",
    "     datetime.today() does not support time zones.\n",
    "\n",
    "**Best Practice**\n",
    "\n",
    "- Use **datetime.now(tz=timezone.utc)** if you need **timezone-aware** datetime.\n",
    "- Use **datetime.today()** only if you **don't** need **timezone** support."
   ]
  },
  {
   "cell_type": "markdown",
   "metadata": {
    "application/vnd.databricks.v1+cell": {
     "cellMetadata": {},
     "inputWidgets": {},
     "nuid": "4d17c178-e276-4403-8efa-8fef45a717c3",
     "showTitle": false,
     "tableResultSettingsMap": {},
     "title": ""
    }
   },
   "source": [
    "#### **1) tz (timezone)**\n",
    "\n",
    "**tz (Parameter in datetime.astimezone())**\n",
    "- Used to **convert** a **timezone-aware datetime** to a **different timezone**.\n",
    "\n",
    "- **Adjusts** the **time** accordingly.\n",
    "\n",
    "- **Timezone-aware objects** are Python **DateTime or time** objects that include **timezone** information."
   ]
  },
  {
   "cell_type": "markdown",
   "metadata": {
    "application/vnd.databricks.v1+cell": {
     "cellMetadata": {},
     "inputWidgets": {},
     "nuid": "5a8a6052-2100-4d8b-959b-edb6be1b3a6d",
     "showTitle": false,
     "tableResultSettingsMap": {},
     "title": ""
    }
   },
   "source": [
    "**When to Use:**\n",
    "\n",
    "- **Converting Time Zones**\n",
    "\n",
    "  - When you have an **aware datetime object (one that already has a tzinfo attribute)** and you need to **convert it to another time zone**, pass the **desired time zone** as the **tz** argument."
   ]
  },
  {
   "cell_type": "code",
   "execution_count": 0,
   "metadata": {
    "application/vnd.databricks.v1+cell": {
     "cellMetadata": {
      "byteLimit": 2048000,
      "rowLimit": 10000
     },
     "inputWidgets": {},
     "nuid": "af66da13-c21a-4937-9a72-6f555de857d0",
     "showTitle": false,
     "tableResultSettingsMap": {},
     "title": ""
    }
   },
   "outputs": [],
   "source": [
    "import datetime"
   ]
  },
  {
   "cell_type": "code",
   "execution_count": 0,
   "metadata": {
    "application/vnd.databricks.v1+cell": {
     "cellMetadata": {
      "byteLimit": 2048000,
      "rowLimit": 10000
     },
     "inputWidgets": {},
     "nuid": "6dbad7ce-0b0e-4e8a-961c-22af8080f7fe",
     "showTitle": false,
     "tableResultSettingsMap": {},
     "title": ""
    }
   },
   "outputs": [
    {
     "output_type": "stream",
     "name": "stdout",
     "output_type": "stream",
     "text": [
      "Help on module datetime:\n\nNAME\n    datetime - Fast implementation of the datetime type.\n\nMODULE REFERENCE\n    https://docs.python.org/3.11/library/datetime.html\n    \n    The following documentation is automatically generated from the Python\n    source files.  It may be incomplete, incorrect or include features that\n    are considered implementation detail and may vary between Python\n    implementations.  When in doubt, consult the module reference at the\n    location listed above.\n\nCLASSES\n    builtins.object\n        date\n            datetime\n        time\n        timedelta\n        tzinfo\n            timezone\n    \n    class date(builtins.object)\n     |  date(year, month, day) --> date object\n     |  \n     |  Methods defined here:\n     |  \n     |  __add__(self, value, /)\n     |      Return self+value.\n     |  \n     |  __eq__(self, value, /)\n     |      Return self==value.\n     |  \n     |  __format__(...)\n     |      Formats self with strftime.\n     |  \n     |  __ge__(self, value, /)\n     |      Return self>=value.\n     |  \n     |  __getattribute__(self, name, /)\n     |      Return getattr(self, name).\n     |  \n     |  __gt__(self, value, /)\n     |      Return self>value.\n     |  \n     |  __hash__(self, /)\n     |      Return hash(self).\n     |  \n     |  __le__(self, value, /)\n     |      Return self<=value.\n     |  \n     |  __lt__(self, value, /)\n     |      Return self<value.\n     |  \n     |  __ne__(self, value, /)\n     |      Return self!=value.\n     |  \n     |  __radd__(self, value, /)\n     |      Return value+self.\n     |  \n     |  __reduce__(...)\n     |      __reduce__() -> (cls, state)\n     |  \n     |  __repr__(self, /)\n     |      Return repr(self).\n     |  \n     |  __rsub__(self, value, /)\n     |      Return value-self.\n     |  \n     |  __str__(self, /)\n     |      Return str(self).\n     |  \n     |  __sub__(self, value, /)\n     |      Return self-value.\n     |  \n     |  ctime(...)\n     |      Return ctime() style string.\n     |  \n     |  isocalendar(...)\n     |      Return a named tuple containing ISO year, week number, and weekday.\n     |  \n     |  isoformat(...)\n     |      Return string in ISO 8601 format, YYYY-MM-DD.\n     |  \n     |  isoweekday(...)\n     |      Return the day of the week represented by the date.\n     |      Monday == 1 ... Sunday == 7\n     |  \n     |  replace(...)\n     |      Return date with new specified fields.\n     |  \n     |  strftime(...)\n     |      format -> strftime() style string.\n     |  \n     |  timetuple(...)\n     |      Return time tuple, compatible with time.localtime().\n     |  \n     |  toordinal(...)\n     |      Return proleptic Gregorian ordinal.  January 1 of year 1 is day 1.\n     |  \n     |  weekday(...)\n     |      Return the day of the week represented by the date.\n     |      Monday == 0 ... Sunday == 6\n     |  \n     |  ----------------------------------------------------------------------\n     |  Class methods defined here:\n     |  \n     |  fromisocalendar(...) from builtins.type\n     |      int, int, int -> Construct a date from the ISO year, week number and weekday.\n     |      \n     |      This is the inverse of the date.isocalendar() function\n     |  \n     |  fromisoformat(...) from builtins.type\n     |      str -> Construct a date from a string in ISO 8601 format.\n     |  \n     |  fromordinal(...) from builtins.type\n     |      int -> date corresponding to a proleptic Gregorian ordinal.\n     |  \n     |  fromtimestamp(timestamp, /) from builtins.type\n     |      Create a date from a POSIX timestamp.\n     |      \n     |      The timestamp is a number, e.g. created via time.time(), that is interpreted\n     |      as local time.\n     |  \n     |  today(...) from builtins.type\n     |      Current date or datetime:  same as self.__class__.fromtimestamp(time.time()).\n     |  \n     |  ----------------------------------------------------------------------\n     |  Static methods defined here:\n     |  \n     |  __new__(*args, **kwargs) from builtins.type\n     |      Create and return a new object.  See help(type) for accurate signature.\n     |  \n     |  ----------------------------------------------------------------------\n     |  Data descriptors defined here:\n     |  \n     |  day\n     |  \n     |  month\n     |  \n     |  year\n     |  \n     |  ----------------------------------------------------------------------\n     |  Data and other attributes defined here:\n     |  \n     |  max = datetime.date(9999, 12, 31)\n     |  \n     |  min = datetime.date(1, 1, 1)\n     |  \n     |  resolution = datetime.timedelta(days=1)\n    \n    class datetime(date)\n     |  datetime(year, month, day[, hour[, minute[, second[, microsecond[,tzinfo]]]]])\n     |  \n     |  The year, month and day arguments are required. tzinfo may be None, or an\n     |  instance of a tzinfo subclass. The remaining arguments may be ints.\n     |  \n     |  Method resolution order:\n     |      datetime\n     |      date\n     |      builtins.object\n     |  \n     |  Methods defined here:\n     |  \n     |  __add__(self, value, /)\n     |      Return self+value.\n     |  \n     |  __eq__(self, value, /)\n     |      Return self==value.\n     |  \n     |  __ge__(self, value, /)\n     |      Return self>=value.\n     |  \n     |  __getattribute__(self, name, /)\n     |      Return getattr(self, name).\n     |  \n     |  __gt__(self, value, /)\n     |      Return self>value.\n     |  \n     |  __hash__(self, /)\n     |      Return hash(self).\n     |  \n     |  __le__(self, value, /)\n     |      Return self<=value.\n     |  \n     |  __lt__(self, value, /)\n     |      Return self<value.\n     |  \n     |  __ne__(self, value, /)\n     |      Return self!=value.\n     |  \n     |  __radd__(self, value, /)\n     |      Return value+self.\n     |  \n     |  __reduce__(...)\n     |      __reduce__() -> (cls, state)\n     |  \n     |  __reduce_ex__(...)\n     |      __reduce_ex__(proto) -> (cls, state)\n     |  \n     |  __repr__(self, /)\n     |      Return repr(self).\n     |  \n     |  __rsub__(self, value, /)\n     |      Return value-self.\n     |  \n     |  __str__(self, /)\n     |      Return str(self).\n     |  \n     |  __sub__(self, value, /)\n     |      Return self-value.\n     |  \n     |  astimezone(...)\n     |      tz -> convert to local time in new timezone tz\n     |  \n     |  ctime(...)\n     |      Return ctime() style string.\n     |  \n     |  date(...)\n     |      Return date object with same year, month and day.\n     |  \n     |  dst(...)\n     |      Return self.tzinfo.dst(self).\n     |  \n     |  isoformat(...)\n     |      [sep] -> string in ISO 8601 format, YYYY-MM-DDT[HH[:MM[:SS[.mmm[uuu]]]]][+HH:MM].\n     |      sep is used to separate the year from the time, and defaults to 'T'.\n     |      The optional argument timespec specifies the number of additional terms\n     |      of the time to include. Valid options are 'auto', 'hours', 'minutes',\n     |      'seconds', 'milliseconds' and 'microseconds'.\n     |  \n     |  replace(...)\n     |      Return datetime with new specified fields.\n     |  \n     |  time(...)\n     |      Return time object with same time but with tzinfo=None.\n     |  \n     |  timestamp(...)\n     |      Return POSIX timestamp as float.\n     |  \n     |  timetuple(...)\n     |      Return time tuple, compatible with time.localtime().\n     |  \n     |  timetz(...)\n     |      Return time object with same time and tzinfo.\n     |  \n     |  tzname(...)\n     |      Return self.tzinfo.tzname(self).\n     |  \n     |  utcoffset(...)\n     |      Return self.tzinfo.utcoffset(self).\n     |  \n     |  utctimetuple(...)\n     |      Return UTC time tuple, compatible with time.localtime().\n     |  \n     |  ----------------------------------------------------------------------\n     |  Class methods defined here:\n     |  \n     |  combine(...) from builtins.type\n     |      date, time -> datetime with same date and time fields\n     |  \n     |  fromisoformat(...) from builtins.type\n     |      string -> datetime from a string in most ISO 8601 formats\n     |  \n     |  fromtimestamp(...) from builtins.type\n     |      timestamp[, tz] -> tz's local time from POSIX timestamp.\n     |  \n     |  now(tz=None) from builtins.type\n     |      Returns new datetime object representing current time local to tz.\n     |      \n     |        tz\n     |          Timezone object.\n     |      \n     |      If no tz is specified, uses local timezone.\n     |  \n     |  strptime(...) from builtins.type\n     |      string, format -> new datetime parsed from a string (like time.strptime()).\n     |  \n     |  utcfromtimestamp(...) from builtins.type\n     |      Construct a naive UTC datetime from a POSIX timestamp.\n     |  \n     |  utcnow(...) from builtins.type\n     |      Return a new datetime representing UTC day and time.\n     |  \n     |  ----------------------------------------------------------------------\n     |  Static methods defined here:\n     |  \n     |  __new__(*args, **kwargs) from builtins.type\n     |      Create and return a new object.  See help(type) for accurate signature.\n     |  \n     |  ----------------------------------------------------------------------\n     |  Data descriptors defined here:\n     |  \n     |  fold\n     |  \n     |  hour\n     |  \n     |  microsecond\n     |  \n     |  minute\n     |  \n     |  second\n     |  \n     |  tzinfo\n     |  \n     |  ----------------------------------------------------------------------\n     |  Data and other attributes defined here:\n     |  \n     |  max = datetime.datetime(9999, 12, 31, 23, 59, 59, 999999)\n     |  \n     |  min = datetime.datetime(1, 1, 1, 0, 0)\n     |  \n     |  resolution = datetime.timedelta(microseconds=1)\n     |  \n     |  ----------------------------------------------------------------------\n     |  Methods inherited from date:\n     |  \n     |  __format__(...)\n     |      Formats self with strftime.\n     |  \n     |  isocalendar(...)\n     |      Return a named tuple containing ISO year, week number, and weekday.\n     |  \n     |  isoweekday(...)\n     |      Return the day of the week represented by the date.\n     |      Monday == 1 ... Sunday == 7\n     |  \n     |  strftime(...)\n     |      format -> strftime() style string.\n     |  \n     |  toordinal(...)\n     |      Return proleptic Gregorian ordinal.  January 1 of year 1 is day 1.\n     |  \n     |  weekday(...)\n     |      Return the day of the week represented by the date.\n     |      Monday == 0 ... Sunday == 6\n     |  \n     |  ----------------------------------------------------------------------\n     |  Class methods inherited from date:\n     |  \n     |  fromisocalendar(...) from builtins.type\n     |      int, int, int -> Construct a date from the ISO year, week number and weekday.\n     |      \n     |      This is the inverse of the date.isocalendar() function\n     |  \n     |  fromordinal(...) from builtins.type\n     |      int -> date corresponding to a proleptic Gregorian ordinal.\n     |  \n     |  today(...) from builtins.type\n     |      Current date or datetime:  same as self.__class__.fromtimestamp(time.time()).\n     |  \n     |  ----------------------------------------------------------------------\n     |  Data descriptors inherited from date:\n     |  \n     |  day\n     |  \n     |  month\n     |  \n     |  year\n    \n    class time(builtins.object)\n     |  time([hour[, minute[, second[, microsecond[, tzinfo]]]]]) --> a time object\n     |  \n     |  All arguments are optional. tzinfo may be None, or an instance of\n     |  a tzinfo subclass. The remaining arguments may be ints.\n     |  \n     |  Methods defined here:\n     |  \n     |  __eq__(self, value, /)\n     |      Return self==value.\n     |  \n     |  __format__(...)\n     |      Formats self with strftime.\n     |  \n     |  __ge__(self, value, /)\n     |      Return self>=value.\n     |  \n     |  __getattribute__(self, name, /)\n     |      Return getattr(self, name).\n     |  \n     |  __gt__(self, value, /)\n     |      Return self>value.\n     |  \n     |  __hash__(self, /)\n     |      Return hash(self).\n     |  \n     |  __le__(self, value, /)\n     |      Return self<=value.\n     |  \n     |  __lt__(self, value, /)\n     |      Return self<value.\n     |  \n     |  __ne__(self, value, /)\n     |      Return self!=value.\n     |  \n     |  __reduce__(...)\n     |      __reduce__() -> (cls, state)\n     |  \n     |  __reduce_ex__(...)\n     |      __reduce_ex__(proto) -> (cls, state)\n     |  \n     |  __repr__(self, /)\n     |      Return repr(self).\n     |  \n     |  __str__(self, /)\n     |      Return str(self).\n     |  \n     |  dst(...)\n     |      Return self.tzinfo.dst(self).\n     |  \n     |  isoformat(...)\n     |      Return string in ISO 8601 format, [HH[:MM[:SS[.mmm[uuu]]]]][+HH:MM].\n     |      \n     |      The optional argument timespec specifies the number of additional terms\n     |      of the time to include. Valid options are 'auto', 'hours', 'minutes',\n     |      'seconds', 'milliseconds' and 'microseconds'.\n     |  \n     |  replace(...)\n     |      Return time with new specified fields.\n     |  \n     |  strftime(...)\n     |      format -> strftime() style string.\n     |  \n     |  tzname(...)\n     |      Return self.tzinfo.tzname(self).\n     |  \n     |  utcoffset(...)\n     |      Return self.tzinfo.utcoffset(self).\n     |  \n     |  ----------------------------------------------------------------------\n     |  Class methods defined here:\n     |  \n     |  fromisoformat(...) from builtins.type\n     |      string -> time from a string in ISO 8601 format\n     |  \n     |  ----------------------------------------------------------------------\n     |  Static methods defined here:\n     |  \n     |  __new__(*args, **kwargs) from builtins.type\n     |      Create and return a new object.  See help(type) for accurate signature.\n     |  \n     |  ----------------------------------------------------------------------\n     |  Data descriptors defined here:\n     |  \n     |  fold\n     |  \n     |  hour\n     |  \n     |  microsecond\n     |  \n     |  minute\n     |  \n     |  second\n     |  \n     |  tzinfo\n     |  \n     |  ----------------------------------------------------------------------\n     |  Data and other attributes defined here:\n     |  \n     |  max = datetime.time(23, 59, 59, 999999)\n     |  \n     |  min = datetime.time(0, 0)\n     |  \n     |  resolution = datetime.timedelta(microseconds=1)\n    \n    class timedelta(builtins.object)\n     |  Difference between two datetime values.\n     |  \n     |  timedelta(days=0, seconds=0, microseconds=0, milliseconds=0, minutes=0, hours=0, weeks=0)\n     |  \n     |  All arguments are optional and default to 0.\n     |  Arguments may be integers or floats, and may be positive or negative.\n     |  \n     |  Methods defined here:\n     |  \n     |  __abs__(self, /)\n     |      abs(self)\n     |  \n     |  __add__(self, value, /)\n     |      Return self+value.\n     |  \n     |  __bool__(self, /)\n     |      True if self else False\n     |  \n     |  __divmod__(self, value, /)\n     |      Return divmod(self, value).\n     |  \n     |  __eq__(self, value, /)\n     |      Return self==value.\n     |  \n     |  __floordiv__(self, value, /)\n     |      Return self//value.\n     |  \n     |  __ge__(self, value, /)\n     |      Return self>=value.\n     |  \n     |  __getattribute__(self, name, /)\n     |      Return getattr(self, name).\n     |  \n     |  __gt__(self, value, /)\n     |      Return self>value.\n     |  \n     |  __hash__(self, /)\n     |      Return hash(self).\n     |  \n     |  __le__(self, value, /)\n     |      Return self<=value.\n     |  \n     |  __lt__(self, value, /)\n     |      Return self<value.\n     |  \n     |  __mod__(self, value, /)\n     |      Return self%value.\n     |  \n     |  __mul__(self, value, /)\n     |      Return self*value.\n     |  \n     |  __ne__(self, value, /)\n     |      Return self!=value.\n     |  \n     |  __neg__(self, /)\n     |      -self\n     |  \n     |  __pos__(self, /)\n     |      +self\n     |  \n     |  __radd__(self, value, /)\n     |      Return value+self.\n     |  \n     |  __rdivmod__(self, value, /)\n     |      Return divmod(value, self).\n     |  \n     |  __reduce__(...)\n     |      __reduce__() -> (cls, state)\n     |  \n     |  __repr__(self, /)\n     |      Return repr(self).\n     |  \n     |  __rfloordiv__(self, value, /)\n     |      Return value//self.\n     |  \n     |  __rmod__(self, value, /)\n     |      Return value%self.\n     |  \n     |  __rmul__(self, value, /)\n     |      Return value*self.\n     |  \n     |  __rsub__(self, value, /)\n     |      Return value-self.\n     |  \n     |  __rtruediv__(self, value, /)\n     |      Return value/self.\n     |  \n     |  __str__(self, /)\n     |      Return str(self).\n     |  \n     |  __sub__(self, value, /)\n     |      Return self-value.\n     |  \n     |  __truediv__(self, value, /)\n     |      Return self/value.\n     |  \n     |  total_seconds(...)\n     |      Total seconds in the duration.\n     |  \n     |  ----------------------------------------------------------------------\n     |  Static methods defined here:\n     |  \n     |  __new__(*args, **kwargs) from builtins.type\n     |      Create and return a new object.  See help(type) for accurate signature.\n     |  \n     |  ----------------------------------------------------------------------\n     |  Data descriptors defined here:\n     |  \n     |  days\n     |      Number of days.\n     |  \n     |  microseconds\n     |      Number of microseconds (>= 0 and less than 1 second).\n     |  \n     |  seconds\n     |      Number of seconds (>= 0 and less than 1 day).\n     |  \n     |  ----------------------------------------------------------------------\n     |  Data and other attributes defined here:\n     |  \n     |  max = datetime.timedelta(days=999999999, seconds=86399, microseconds=9...\n     |  \n     |  min = datetime.timedelta(days=-999999999)\n     |  \n     |  resolution = datetime.timedelta(microseconds=1)\n    \n    class timezone(tzinfo)\n     |  Fixed offset from UTC implementation of tzinfo.\n     |  \n     |  Method resolution order:\n     |      timezone\n     |      tzinfo\n     |      builtins.object\n     |  \n     |  Methods defined here:\n     |  \n     |  __eq__(self, value, /)\n     |      Return self==value.\n     |  \n     |  __ge__(self, value, /)\n     |      Return self>=value.\n     |  \n     |  __getinitargs__(...)\n     |      pickle support\n     |  \n     |  __gt__(self, value, /)\n     |      Return self>value.\n     |  \n     |  __hash__(self, /)\n     |      Return hash(self).\n     |  \n     |  __le__(self, value, /)\n     |      Return self<=value.\n     |  \n     |  __lt__(self, value, /)\n     |      Return self<value.\n     |  \n     |  __ne__(self, value, /)\n     |      Return self!=value.\n     |  \n     |  __repr__(self, /)\n     |      Return repr(self).\n     |  \n     |  __str__(self, /)\n     |      Return str(self).\n     |  \n     |  dst(...)\n     |      Return None.\n     |  \n     |  fromutc(...)\n     |      datetime in UTC -> datetime in local time.\n     |  \n     |  tzname(...)\n     |      If name is specified when timezone is created, returns the name.  Otherwise returns offset as 'UTC(+|-)HH:MM'.\n     |  \n     |  utcoffset(...)\n     |      Return fixed offset.\n     |  \n     |  ----------------------------------------------------------------------\n     |  Static methods defined here:\n     |  \n     |  __new__(*args, **kwargs) from builtins.type\n     |      Create and return a new object.  See help(type) for accurate signature.\n     |  \n     |  ----------------------------------------------------------------------\n     |  Data and other attributes defined here:\n     |  \n     |  max = datetime.timezone(datetime.timedelta(seconds=86340))\n     |  \n     |  min = datetime.timezone(datetime.timedelta(days=-1, seconds=60))\n     |  \n     |  utc = datetime.timezone.utc\n     |  \n     |  ----------------------------------------------------------------------\n     |  Methods inherited from tzinfo:\n     |  \n     |  __getattribute__(self, name, /)\n     |      Return getattr(self, name).\n     |  \n     |  __reduce__(...)\n     |      -> (cls, state)\n    \n    class tzinfo(builtins.object)\n     |  Abstract base class for time zone info objects.\n     |  \n     |  Methods defined here:\n     |  \n     |  __getattribute__(self, name, /)\n     |      Return getattr(self, name).\n     |  \n     |  __reduce__(...)\n     |      -> (cls, state)\n     |  \n     |  dst(...)\n     |      datetime -> DST offset as timedelta positive east of UTC.\n     |  \n     |  fromutc(...)\n     |      datetime in UTC -> datetime in local time.\n     |  \n     |  tzname(...)\n     |      datetime -> string name of time zone.\n     |  \n     |  utcoffset(...)\n     |      datetime -> timedelta showing offset from UTC, negative values indicating West of UTC\n     |  \n     |  ----------------------------------------------------------------------\n     |  Static methods defined here:\n     |  \n     |  __new__(*args, **kwargs) from builtins.type\n     |      Create and return a new object.  See help(type) for accurate signature.\n\nDATA\n    MAXYEAR = 9999\n    MINYEAR = 1\n    UTC = datetime.timezone.utc\n    __all__ = ('date', 'datetime', 'time', 'timedelta', 'timezone', 'tzinf...\n\nFILE\n    /usr/lib/python3.11/datetime.py\n\n\n"
     ]
    }
   ],
   "source": [
    "help(datetime)"
   ]
  },
  {
   "cell_type": "markdown",
   "metadata": {
    "application/vnd.databricks.v1+cell": {
     "cellMetadata": {},
     "inputWidgets": {},
     "nuid": "f5a273bd-896b-40e5-8427-05593c08b637",
     "showTitle": false,
     "tableResultSettingsMap": {},
     "title": ""
    }
   },
   "source": [
    "      datetime.now(timezone.utc)\n",
    "                (or)\n",
    "      datetime.now(tz=timezone.utc)"
   ]
  },
  {
   "cell_type": "code",
   "execution_count": 0,
   "metadata": {
    "application/vnd.databricks.v1+cell": {
     "cellMetadata": {
      "byteLimit": 2048000,
      "rowLimit": 10000
     },
     "inputWidgets": {},
     "nuid": "e8cf0a75-ce34-4188-a472-86f696ee0f56",
     "showTitle": false,
     "tableResultSettingsMap": {},
     "title": ""
    }
   },
   "outputs": [
    {
     "output_type": "stream",
     "name": "stdout",
     "output_type": "stream",
     "text": [
      "Current Date and Time: 2025-03-18 16:44:21.262505\nCurrent Date and Time: 2025-03-18 16:44:21.262639+00:00\n"
     ]
    }
   ],
   "source": [
    "# Load datetime from datetime module\n",
    "from datetime import datetime, timezone\n",
    "\n",
    "# Get the current date and time\n",
    "current_datetime = datetime.now()                      # Applying datetime.now\n",
    "print(\"Current Date and Time:\", current_datetime)      # show current date and time\n",
    "\n",
    "# Get the current date and time with UTC timezone\n",
    "dt = datetime.now(tz=timezone.utc)      # Applying datetime.now\n",
    "print(\"Current Date and Time:\", dt)     # show current date and time"
   ]
  },
  {
   "cell_type": "markdown",
   "metadata": {
    "application/vnd.databricks.v1+cell": {
     "cellMetadata": {},
     "inputWidgets": {},
     "nuid": "d05f4280-ca8f-4383-adeb-e734b36d3491",
     "showTitle": false,
     "tableResultSettingsMap": {},
     "title": ""
    }
   },
   "source": [
    "- **tz** is a **keyword argument** in **datetime.now()**, used to specify the **timezone**.\n",
    "\n",
    "- This ensures that the returned datetime object is **timezone-aware**.\n",
    "\n",
    "- If you **don't** need **timezone** information, **datetime.now() (without tz)** is fine for simple **local timestamps**.\n",
    "\n",
    "- If you **only need UTC**, prefer **datetime.now(timezone.utc)** instead of setting a **custom tz**."
   ]
  },
  {
   "cell_type": "markdown",
   "metadata": {
    "application/vnd.databricks.v1+cell": {
     "cellMetadata": {},
     "inputWidgets": {},
     "nuid": "4bdc4aa7-90bb-426c-89c5-e79e5ccd3c88",
     "showTitle": false,
     "tableResultSettingsMap": {},
     "title": ""
    }
   },
   "source": [
    "**datetime.now(tz=None):**\n",
    "- Returns the **current local date and time**."
   ]
  },
  {
   "cell_type": "code",
   "execution_count": 0,
   "metadata": {
    "application/vnd.databricks.v1+cell": {
     "cellMetadata": {
      "byteLimit": 2048000,
      "rowLimit": 10000
     },
     "inputWidgets": {},
     "nuid": "613276bb-8ece-4ad8-81db-6171e82d0883",
     "showTitle": false,
     "tableResultSettingsMap": {},
     "title": ""
    }
   },
   "outputs": [
    {
     "output_type": "stream",
     "name": "stdout",
     "output_type": "stream",
     "text": [
      "Current Date and Time: 2025-03-18 16:44:33.641071\n"
     ]
    }
   ],
   "source": [
    "from datetime import datetime, timezone\n",
    "\n",
    "dt = datetime.now(tz=None)\n",
    "print(\"Current Date and Time:\", dt)"
   ]
  },
  {
   "cell_type": "code",
   "execution_count": 0,
   "metadata": {
    "application/vnd.databricks.v1+cell": {
     "cellMetadata": {
      "byteLimit": 2048000,
      "rowLimit": 10000
     },
     "inputWidgets": {},
     "nuid": "95ca4a5f-252a-4b31-9bfd-7ba097b80b8e",
     "showTitle": true,
     "tableResultSettingsMap": {},
     "title": "convert timezones"
    }
   },
   "outputs": [
    {
     "output_type": "stream",
     "name": "stdout",
     "output_type": "stream",
     "text": [
      "2025-03-22 14:30:45+00:00\n2025-03-22 19:30:45+05:00\n"
     ]
    }
   ],
   "source": [
    "from datetime import datetime, timezone, timedelta\n",
    "\n",
    "# Create a timezone-aware datetime in UTC\n",
    "dt_utc = datetime(2025, 3, 22, 14, 30, 45, tzinfo=timezone.utc)\n",
    "print(dt_utc)\n",
    "\n",
    "# Define a custom time zone (e.g., UTC+5)\n",
    "tz_utc_plus_5 = timezone(timedelta(hours=5))\n",
    "\n",
    "# Convert datetime to UTC+5 using the tz parameter\n",
    "dt_new_tz = dt_utc.astimezone(tz=tz_utc_plus_5)\n",
    "\n",
    "print(dt_new_tz)"
   ]
  },
  {
   "cell_type": "markdown",
   "metadata": {
    "application/vnd.databricks.v1+cell": {
     "cellMetadata": {},
     "inputWidgets": {},
     "nuid": "16d530ca-d756-43c3-ab92-77d1183cdcf1",
     "showTitle": false,
     "tableResultSettingsMap": {},
     "title": ""
    }
   },
   "source": [
    "- Here, **.astimezone()** adjusts the time from **UTC+00:00 to UTC+05:00**."
   ]
  },
  {
   "cell_type": "markdown",
   "metadata": {
    "application/vnd.databricks.v1+cell": {
     "cellMetadata": {},
     "inputWidgets": {},
     "nuid": "8f8c7d72-a71d-4376-8421-4c1e6ef8b9cf",
     "showTitle": false,
     "tableResultSettingsMap": {},
     "title": ""
    }
   },
   "source": [
    "#### **2) class datetime.tzinfo**\n",
    "\n",
    "**tzinfo (Attribute in datetime.replace())**\n",
    "- Used with the **.replace()** method to **set or assign** a **timezone without conversion**.\n",
    "\n",
    "- Only **attaches timezone** info to a **naive datetime**, but does **NOT adjust the time**.\n",
    "\n",
    "- These are used by the **datetime and time classes** to provide a customizable notion of time adjustment (for example, to **account for time zone and/or daylight saving time**)."
   ]
  },
  {
   "cell_type": "markdown",
   "metadata": {
    "application/vnd.databricks.v1+cell": {
     "cellMetadata": {},
     "inputWidgets": {},
     "nuid": "85c363a7-3516-4ee4-b78a-35515a37b729",
     "showTitle": false,
     "tableResultSettingsMap": {},
     "title": ""
    }
   },
   "source": [
    "#### **When to Use**\n",
    "**a) Constructing a Datetime**"
   ]
  },
  {
   "cell_type": "code",
   "execution_count": 0,
   "metadata": {
    "application/vnd.databricks.v1+cell": {
     "cellMetadata": {
      "byteLimit": 2048000,
      "rowLimit": 10000
     },
     "inputWidgets": {},
     "nuid": "97b4d911-6916-4a4f-a6a9-53d76eee8220",
     "showTitle": false,
     "tableResultSettingsMap": {},
     "title": ""
    }
   },
   "outputs": [
    {
     "output_type": "stream",
     "name": "stdout",
     "output_type": "stream",
     "text": [
      "None\n"
     ]
    }
   ],
   "source": [
    "from datetime import datetime\n",
    "event_time = datetime(2024, 11, 4, 16, 9)\n",
    "print(event_time.tzinfo)"
   ]
  },
  {
   "cell_type": "code",
   "execution_count": 0,
   "metadata": {
    "application/vnd.databricks.v1+cell": {
     "cellMetadata": {
      "byteLimit": 2048000,
      "rowLimit": 10000
     },
     "inputWidgets": {},
     "nuid": "78978d90-93fa-42d0-8e4d-8bbce340bee4",
     "showTitle": false,
     "tableResultSettingsMap": {},
     "title": ""
    }
   },
   "outputs": [
    {
     "output_type": "stream",
     "name": "stdout",
     "output_type": "stream",
     "text": [
      "2024-11-04 23:09:00+00:00 UTC\n"
     ]
    }
   ],
   "source": [
    "from datetime import datetime\n",
    "from zoneinfo import ZoneInfo\n",
    "\n",
    "later_utc = datetime(2024, 11, 4, 23, 9, tzinfo=ZoneInfo('UTC'))\n",
    "print(later_utc, later_utc.tzinfo)"
   ]
  },
  {
   "cell_type": "code",
   "execution_count": 0,
   "metadata": {
    "application/vnd.databricks.v1+cell": {
     "cellMetadata": {
      "byteLimit": 2048000,
      "rowLimit": 10000
     },
     "inputWidgets": {},
     "nuid": "8fd6e2b3-3add-41cb-9028-7eb7bf4fef2d",
     "showTitle": true,
     "tableResultSettingsMap": {},
     "title": "Assigning UTC to a naive datetime"
    }
   },
   "outputs": [
    {
     "output_type": "stream",
     "name": "stdout",
     "output_type": "stream",
     "text": [
      "2021-08-15 08:15:12\n2021-08-15 08:15:12+00:00\n"
     ]
    }
   ],
   "source": [
    "from datetime import datetime, timezone\n",
    "\n",
    "# naive datetime\n",
    "unaware = datetime(2021, 8, 15, 8, 15, 12, 0)\n",
    "print(unaware)\n",
    "\n",
    "# aware datetime\n",
    "aware = datetime(2021, 8, 15, 8, 15, 12, 0, tzinfo=timezone.utc)\n",
    "print(aware)"
   ]
  },
  {
   "cell_type": "markdown",
   "metadata": {
    "application/vnd.databricks.v1+cell": {
     "cellMetadata": {},
     "inputWidgets": {},
     "nuid": "bf725467-c023-4d47-9a6d-ba83d720782e",
     "showTitle": false,
     "tableResultSettingsMap": {},
     "title": ""
    }
   },
   "source": [
    "- This **does NOT** convert the **time**; it just **labels** it.\n",
    "\n",
    "- **tzinfo** is an argument for the **datetime constructor**, not for **datetime.now()**.\n",
    "\n",
    "- It defines the **timezone** for a **manually created** datetime object."
   ]
  },
  {
   "cell_type": "code",
   "execution_count": 0,
   "metadata": {
    "application/vnd.databricks.v1+cell": {
     "cellMetadata": {
      "byteLimit": 2048000,
      "rowLimit": 10000
     },
     "inputWidgets": {},
     "nuid": "52845182-bdfc-4007-bc22-017f583cd309",
     "showTitle": false,
     "tableResultSettingsMap": {},
     "title": ""
    }
   },
   "outputs": [
    {
     "output_type": "stream",
     "name": "stdout",
     "output_type": "stream",
     "text": [
      "Current DateTime:  2025-03-18 16:45:48.746998\ntzinfo:  None\n"
     ]
    }
   ],
   "source": [
    "from datetime import datetime\n",
    "\n",
    "print(\"Current DateTime: \", datetime.now())\n",
    "print(\"tzinfo: \", datetime.now().tzinfo)"
   ]
  },
  {
   "cell_type": "markdown",
   "metadata": {
    "application/vnd.databricks.v1+cell": {
     "cellMetadata": {},
     "inputWidgets": {},
     "nuid": "ef5594dc-d1be-494d-9565-3fdf0ae90056",
     "showTitle": false,
     "tableResultSettingsMap": {},
     "title": ""
    }
   },
   "source": [
    "**b) Assigning a Time Zone**\n",
    "\n",
    "- When you want to mark a **naive datetime object** (one without any time zone) as belonging to a particular time zone, you set its **tzinfo** attribute."
   ]
  },
  {
   "cell_type": "code",
   "execution_count": 0,
   "metadata": {
    "application/vnd.databricks.v1+cell": {
     "cellMetadata": {
      "byteLimit": 2048000,
      "rowLimit": 10000
     },
     "inputWidgets": {},
     "nuid": "ceb3af4e-3023-442b-a892-f042ee48c4d6",
     "showTitle": false,
     "tableResultSettingsMap": {},
     "title": ""
    }
   },
   "outputs": [
    {
     "output_type": "stream",
     "name": "stdout",
     "output_type": "stream",
     "text": [
      "2025-03-22 14:30:45\n2025-03-22 14:30:45+00:00\n"
     ]
    }
   ],
   "source": [
    "from datetime import datetime, timezone\n",
    "\n",
    "# Naive datetime\n",
    "dt = datetime(2025, 3, 22, 14, 30, 45)\n",
    "print(dt)\n",
    "\n",
    "# Assign UTC timezone using replace\n",
    "dt_utc = dt.replace(tzinfo=timezone.utc)\n",
    "print(dt_utc)"
   ]
  },
  {
   "cell_type": "markdown",
   "metadata": {
    "application/vnd.databricks.v1+cell": {
     "cellMetadata": {},
     "inputWidgets": {},
     "nuid": "252faabd-aa42-4656-94e7-5d578fb99d01",
     "showTitle": false,
     "tableResultSettingsMap": {},
     "title": ""
    }
   },
   "source": [
    "#### **Incorrect Usage**\n",
    "\n",
    "- **datetime.now(tzinfo=timezone.utc):**  \n",
    "- ❌ Error: **tzinfo** is **not a valid keyword** for **now()**.\n"
   ]
  },
  {
   "cell_type": "markdown",
   "metadata": {
    "application/vnd.databricks.v1+cell": {
     "cellMetadata": {},
     "inputWidgets": {},
     "nuid": "da22d356-f2f0-44f4-9fb4-b420733f8998",
     "showTitle": false,
     "tableResultSettingsMap": {},
     "title": ""
    }
   },
   "source": [
    "#### **Summary**\n",
    "\n",
    "|   Context\t   |  Correct Argument     | Example |\n",
    "|--------------|-----------------------|---------|\n",
    "| datetime.now()\t| tz\t| datetime.now(tz=timezone.utc) |\n",
    "| datetime() constructor |\ttzinfo\t| datetime(2024, 3, 18, tzinfo=timezone.utc) |\n",
    "\n",
    "\n",
    "**Use:**\n",
    "\n",
    "- **tz** with **datetime.now()**\n",
    "- **tzinfo** with **datetime() constructor**"
   ]
  }
 ],
 "metadata": {
  "application/vnd.databricks.v1+notebook": {
   "computePreferences": null,
   "dashboards": [],
   "environmentMetadata": {
    "base_environment": "",
    "client": "1"
   },
   "language": "python",
   "notebookMetadata": {
    "pythonIndentUnit": 4
   },
   "notebookName": "28_How to use function tz & tzinfo in Python",
   "widgets": {}
  }
 },
 "nbformat": 4,
 "nbformat_minor": 0
}
