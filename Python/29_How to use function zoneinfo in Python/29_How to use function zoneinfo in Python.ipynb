{
 "cells": [
  {
   "cell_type": "markdown",
   "metadata": {
    "application/vnd.databricks.v1+cell": {
     "cellMetadata": {},
     "inputWidgets": {},
     "nuid": "51e6bdf0-5438-4393-8b22-6048aed9d543",
     "showTitle": false,
     "tableResultSettingsMap": {},
     "title": ""
    }
   },
   "source": [
    "### **zoneinfo**\n",
    "\n",
    "- In Python, the **ZoneInfo** module is a **built-in library** that provides a way to work with **time zones**."
   ]
  },
  {
   "cell_type": "markdown",
   "metadata": {
    "application/vnd.databricks.v1+cell": {
     "cellMetadata": {},
     "inputWidgets": {},
     "nuid": "6ad25f05-6406-4ab3-aecc-a552e882ba97",
     "showTitle": false,
     "tableResultSettingsMap": {},
     "title": ""
    }
   },
   "source": [
    "**What is ZoneInfo?**\n",
    "\n",
    "- The **ZoneInfo** module is a part of the standard library introduced in **Python 3.9**.\n",
    "- It provides access to the **IANA Time Zone database**, which is a comprehensive database of **all time zones worldwide**.\n",
    "- The IANA Time Zone database is the most widely used time zone database in the world and is maintained by the **Internet Assigned Numbers Authority (IANA)**.\n",
    "- Using the ZoneInfo module, we can retrieve information about a specific time zone, including the \n",
    " \n",
    "  - **time zone name**\n",
    "  - **offset from Coordinated Universal Time (UTC)**\n",
    "  - **Handling Daylight Saving Time (DST) Properly**\n",
    "  \n",
    "- It also provides us with the ability to **convert** a given **datetime object** to a **different time zone**, allowing us to work with times in **different regions of the world** easily."
   ]
  },
  {
   "cell_type": "code",
   "execution_count": 0,
   "metadata": {
    "application/vnd.databricks.v1+cell": {
     "cellMetadata": {
      "byteLimit": 2048000,
      "rowLimit": 10000
     },
     "inputWidgets": {},
     "nuid": "b6b9b9ab-e1d0-453f-a222-825120b9967c",
     "showTitle": false,
     "tableResultSettingsMap": {},
     "title": ""
    }
   },
   "outputs": [],
   "source": [
    "# Load datetime from datetime module\n",
    "from datetime import datetime, timezone, timedelta\n",
    "from zoneinfo import ZoneInfo, available_timezones"
   ]
  },
  {
   "cell_type": "code",
   "execution_count": 0,
   "metadata": {
    "application/vnd.databricks.v1+cell": {
     "cellMetadata": {
      "byteLimit": 2048000,
      "rowLimit": 10000
     },
     "inputWidgets": {},
     "nuid": "4de69dcd-8b65-41fc-9b81-7d3090c02f78",
     "showTitle": false,
     "tableResultSettingsMap": {},
     "title": ""
    }
   },
   "outputs": [
    {
     "output_type": "execute_result",
     "data": {
      "text/plain": [
       "{'Africa/Abidjan',\n",
       " 'Africa/Accra',\n",
       " 'Africa/Addis_Ababa',\n",
       " 'Africa/Algiers',\n",
       " 'Africa/Asmara',\n",
       " 'Africa/Asmera',\n",
       " 'Africa/Bamako',\n",
       " 'Africa/Bangui',\n",
       " 'Africa/Banjul',\n",
       " 'Africa/Bissau',\n",
       " 'Africa/Blantyre',\n",
       " 'Africa/Brazzaville',\n",
       " 'Africa/Bujumbura',\n",
       " 'Africa/Cairo',\n",
       " 'Africa/Casablanca',\n",
       " 'Africa/Ceuta',\n",
       " 'Africa/Conakry',\n",
       " 'Africa/Dakar',\n",
       " 'Africa/Dar_es_Salaam',\n",
       " 'Africa/Djibouti',\n",
       " 'Africa/Douala',\n",
       " 'Africa/El_Aaiun',\n",
       " 'Africa/Freetown',\n",
       " 'Africa/Gaborone',\n",
       " 'Africa/Harare',\n",
       " 'Africa/Johannesburg',\n",
       " 'Africa/Juba',\n",
       " 'Africa/Kampala',\n",
       " 'Africa/Khartoum',\n",
       " 'Africa/Kigali',\n",
       " 'Africa/Kinshasa',\n",
       " 'Africa/Lagos',\n",
       " 'Africa/Libreville',\n",
       " 'Africa/Lome',\n",
       " 'Africa/Luanda',\n",
       " 'Africa/Lubumbashi',\n",
       " 'Africa/Lusaka',\n",
       " 'Africa/Malabo',\n",
       " 'Africa/Maputo',\n",
       " 'Africa/Maseru',\n",
       " 'Africa/Mbabane',\n",
       " 'Africa/Mogadishu',\n",
       " 'Africa/Monrovia',\n",
       " 'Africa/Nairobi',\n",
       " 'Africa/Ndjamena',\n",
       " 'Africa/Niamey',\n",
       " 'Africa/Nouakchott',\n",
       " 'Africa/Ouagadougou',\n",
       " 'Africa/Porto-Novo',\n",
       " 'Africa/Sao_Tome',\n",
       " 'Africa/Timbuktu',\n",
       " 'Africa/Tripoli',\n",
       " 'Africa/Tunis',\n",
       " 'Africa/Windhoek',\n",
       " 'America/Adak',\n",
       " 'America/Anchorage',\n",
       " 'America/Anguilla',\n",
       " 'America/Antigua',\n",
       " 'America/Araguaina',\n",
       " 'America/Argentina/Buenos_Aires',\n",
       " 'America/Argentina/Catamarca',\n",
       " 'America/Argentina/ComodRivadavia',\n",
       " 'America/Argentina/Cordoba',\n",
       " 'America/Argentina/Jujuy',\n",
       " 'America/Argentina/La_Rioja',\n",
       " 'America/Argentina/Mendoza',\n",
       " 'America/Argentina/Rio_Gallegos',\n",
       " 'America/Argentina/Salta',\n",
       " 'America/Argentina/San_Juan',\n",
       " 'America/Argentina/San_Luis',\n",
       " 'America/Argentina/Tucuman',\n",
       " 'America/Argentina/Ushuaia',\n",
       " 'America/Aruba',\n",
       " 'America/Asuncion',\n",
       " 'America/Atikokan',\n",
       " 'America/Atka',\n",
       " 'America/Bahia',\n",
       " 'America/Bahia_Banderas',\n",
       " 'America/Barbados',\n",
       " 'America/Belem',\n",
       " 'America/Belize',\n",
       " 'America/Blanc-Sablon',\n",
       " 'America/Boa_Vista',\n",
       " 'America/Bogota',\n",
       " 'America/Boise',\n",
       " 'America/Buenos_Aires',\n",
       " 'America/Cambridge_Bay',\n",
       " 'America/Campo_Grande',\n",
       " 'America/Cancun',\n",
       " 'America/Caracas',\n",
       " 'America/Catamarca',\n",
       " 'America/Cayenne',\n",
       " 'America/Cayman',\n",
       " 'America/Chicago',\n",
       " 'America/Chihuahua',\n",
       " 'America/Ciudad_Juarez',\n",
       " 'America/Coral_Harbour',\n",
       " 'America/Cordoba',\n",
       " 'America/Costa_Rica',\n",
       " 'America/Creston',\n",
       " 'America/Cuiaba',\n",
       " 'America/Curacao',\n",
       " 'America/Danmarkshavn',\n",
       " 'America/Dawson',\n",
       " 'America/Dawson_Creek',\n",
       " 'America/Denver',\n",
       " 'America/Detroit',\n",
       " 'America/Dominica',\n",
       " 'America/Edmonton',\n",
       " 'America/Eirunepe',\n",
       " 'America/El_Salvador',\n",
       " 'America/Ensenada',\n",
       " 'America/Fort_Nelson',\n",
       " 'America/Fort_Wayne',\n",
       " 'America/Fortaleza',\n",
       " 'America/Glace_Bay',\n",
       " 'America/Godthab',\n",
       " 'America/Goose_Bay',\n",
       " 'America/Grand_Turk',\n",
       " 'America/Grenada',\n",
       " 'America/Guadeloupe',\n",
       " 'America/Guatemala',\n",
       " 'America/Guayaquil',\n",
       " 'America/Guyana',\n",
       " 'America/Halifax',\n",
       " 'America/Havana',\n",
       " 'America/Hermosillo',\n",
       " 'America/Indiana/Indianapolis',\n",
       " 'America/Indiana/Knox',\n",
       " 'America/Indiana/Marengo',\n",
       " 'America/Indiana/Petersburg',\n",
       " 'America/Indiana/Tell_City',\n",
       " 'America/Indiana/Vevay',\n",
       " 'America/Indiana/Vincennes',\n",
       " 'America/Indiana/Winamac',\n",
       " 'America/Indianapolis',\n",
       " 'America/Inuvik',\n",
       " 'America/Iqaluit',\n",
       " 'America/Jamaica',\n",
       " 'America/Jujuy',\n",
       " 'America/Juneau',\n",
       " 'America/Kentucky/Louisville',\n",
       " 'America/Kentucky/Monticello',\n",
       " 'America/Knox_IN',\n",
       " 'America/Kralendijk',\n",
       " 'America/La_Paz',\n",
       " 'America/Lima',\n",
       " 'America/Los_Angeles',\n",
       " 'America/Louisville',\n",
       " 'America/Lower_Princes',\n",
       " 'America/Maceio',\n",
       " 'America/Managua',\n",
       " 'America/Manaus',\n",
       " 'America/Marigot',\n",
       " 'America/Martinique',\n",
       " 'America/Matamoros',\n",
       " 'America/Mazatlan',\n",
       " 'America/Mendoza',\n",
       " 'America/Menominee',\n",
       " 'America/Merida',\n",
       " 'America/Metlakatla',\n",
       " 'America/Mexico_City',\n",
       " 'America/Miquelon',\n",
       " 'America/Moncton',\n",
       " 'America/Monterrey',\n",
       " 'America/Montevideo',\n",
       " 'America/Montreal',\n",
       " 'America/Montserrat',\n",
       " 'America/Nassau',\n",
       " 'America/New_York',\n",
       " 'America/Nipigon',\n",
       " 'America/Nome',\n",
       " 'America/Noronha',\n",
       " 'America/North_Dakota/Beulah',\n",
       " 'America/North_Dakota/Center',\n",
       " 'America/North_Dakota/New_Salem',\n",
       " 'America/Nuuk',\n",
       " 'America/Ojinaga',\n",
       " 'America/Panama',\n",
       " 'America/Pangnirtung',\n",
       " 'America/Paramaribo',\n",
       " 'America/Phoenix',\n",
       " 'America/Port-au-Prince',\n",
       " 'America/Port_of_Spain',\n",
       " 'America/Porto_Acre',\n",
       " 'America/Porto_Velho',\n",
       " 'America/Puerto_Rico',\n",
       " 'America/Punta_Arenas',\n",
       " 'America/Rainy_River',\n",
       " 'America/Rankin_Inlet',\n",
       " 'America/Recife',\n",
       " 'America/Regina',\n",
       " 'America/Resolute',\n",
       " 'America/Rio_Branco',\n",
       " 'America/Rosario',\n",
       " 'America/Santa_Isabel',\n",
       " 'America/Santarem',\n",
       " 'America/Santiago',\n",
       " 'America/Santo_Domingo',\n",
       " 'America/Sao_Paulo',\n",
       " 'America/Scoresbysund',\n",
       " 'America/Shiprock',\n",
       " 'America/Sitka',\n",
       " 'America/St_Barthelemy',\n",
       " 'America/St_Johns',\n",
       " 'America/St_Kitts',\n",
       " 'America/St_Lucia',\n",
       " 'America/St_Thomas',\n",
       " 'America/St_Vincent',\n",
       " 'America/Swift_Current',\n",
       " 'America/Tegucigalpa',\n",
       " 'America/Thule',\n",
       " 'America/Thunder_Bay',\n",
       " 'America/Tijuana',\n",
       " 'America/Toronto',\n",
       " 'America/Tortola',\n",
       " 'America/Vancouver',\n",
       " 'America/Virgin',\n",
       " 'America/Whitehorse',\n",
       " 'America/Winnipeg',\n",
       " 'America/Yakutat',\n",
       " 'America/Yellowknife',\n",
       " 'Antarctica/Casey',\n",
       " 'Antarctica/Davis',\n",
       " 'Antarctica/DumontDUrville',\n",
       " 'Antarctica/Macquarie',\n",
       " 'Antarctica/Mawson',\n",
       " 'Antarctica/McMurdo',\n",
       " 'Antarctica/Palmer',\n",
       " 'Antarctica/Rothera',\n",
       " 'Antarctica/South_Pole',\n",
       " 'Antarctica/Syowa',\n",
       " 'Antarctica/Troll',\n",
       " 'Antarctica/Vostok',\n",
       " 'Arctic/Longyearbyen',\n",
       " 'Asia/Aden',\n",
       " 'Asia/Almaty',\n",
       " 'Asia/Amman',\n",
       " 'Asia/Anadyr',\n",
       " 'Asia/Aqtau',\n",
       " 'Asia/Aqtobe',\n",
       " 'Asia/Ashgabat',\n",
       " 'Asia/Ashkhabad',\n",
       " 'Asia/Atyrau',\n",
       " 'Asia/Baghdad',\n",
       " 'Asia/Bahrain',\n",
       " 'Asia/Baku',\n",
       " 'Asia/Bangkok',\n",
       " 'Asia/Barnaul',\n",
       " 'Asia/Beirut',\n",
       " 'Asia/Bishkek',\n",
       " 'Asia/Brunei',\n",
       " 'Asia/Calcutta',\n",
       " 'Asia/Chita',\n",
       " 'Asia/Choibalsan',\n",
       " 'Asia/Chongqing',\n",
       " 'Asia/Chungking',\n",
       " 'Asia/Colombo',\n",
       " 'Asia/Dacca',\n",
       " 'Asia/Damascus',\n",
       " 'Asia/Dhaka',\n",
       " 'Asia/Dili',\n",
       " 'Asia/Dubai',\n",
       " 'Asia/Dushanbe',\n",
       " 'Asia/Famagusta',\n",
       " 'Asia/Gaza',\n",
       " 'Asia/Harbin',\n",
       " 'Asia/Hebron',\n",
       " 'Asia/Ho_Chi_Minh',\n",
       " 'Asia/Hong_Kong',\n",
       " 'Asia/Hovd',\n",
       " 'Asia/Irkutsk',\n",
       " 'Asia/Istanbul',\n",
       " 'Asia/Jakarta',\n",
       " 'Asia/Jayapura',\n",
       " 'Asia/Jerusalem',\n",
       " 'Asia/Kabul',\n",
       " 'Asia/Kamchatka',\n",
       " 'Asia/Karachi',\n",
       " 'Asia/Kashgar',\n",
       " 'Asia/Kathmandu',\n",
       " 'Asia/Katmandu',\n",
       " 'Asia/Khandyga',\n",
       " 'Asia/Kolkata',\n",
       " 'Asia/Krasnoyarsk',\n",
       " 'Asia/Kuala_Lumpur',\n",
       " 'Asia/Kuching',\n",
       " 'Asia/Kuwait',\n",
       " 'Asia/Macao',\n",
       " 'Asia/Macau',\n",
       " 'Asia/Magadan',\n",
       " 'Asia/Makassar',\n",
       " 'Asia/Manila',\n",
       " 'Asia/Muscat',\n",
       " 'Asia/Nicosia',\n",
       " 'Asia/Novokuznetsk',\n",
       " 'Asia/Novosibirsk',\n",
       " 'Asia/Omsk',\n",
       " 'Asia/Oral',\n",
       " 'Asia/Phnom_Penh',\n",
       " 'Asia/Pontianak',\n",
       " 'Asia/Pyongyang',\n",
       " 'Asia/Qatar',\n",
       " 'Asia/Qostanay',\n",
       " 'Asia/Qyzylorda',\n",
       " 'Asia/Rangoon',\n",
       " 'Asia/Riyadh',\n",
       " 'Asia/Saigon',\n",
       " 'Asia/Sakhalin',\n",
       " 'Asia/Samarkand',\n",
       " 'Asia/Seoul',\n",
       " 'Asia/Shanghai',\n",
       " 'Asia/Singapore',\n",
       " 'Asia/Srednekolymsk',\n",
       " 'Asia/Taipei',\n",
       " 'Asia/Tashkent',\n",
       " 'Asia/Tbilisi',\n",
       " 'Asia/Tehran',\n",
       " 'Asia/Tel_Aviv',\n",
       " 'Asia/Thimbu',\n",
       " 'Asia/Thimphu',\n",
       " 'Asia/Tokyo',\n",
       " 'Asia/Tomsk',\n",
       " 'Asia/Ujung_Pandang',\n",
       " 'Asia/Ulaanbaatar',\n",
       " 'Asia/Ulan_Bator',\n",
       " 'Asia/Urumqi',\n",
       " 'Asia/Ust-Nera',\n",
       " 'Asia/Vientiane',\n",
       " 'Asia/Vladivostok',\n",
       " 'Asia/Yakutsk',\n",
       " 'Asia/Yangon',\n",
       " 'Asia/Yekaterinburg',\n",
       " 'Asia/Yerevan',\n",
       " 'Atlantic/Azores',\n",
       " 'Atlantic/Bermuda',\n",
       " 'Atlantic/Canary',\n",
       " 'Atlantic/Cape_Verde',\n",
       " 'Atlantic/Faeroe',\n",
       " 'Atlantic/Faroe',\n",
       " 'Atlantic/Jan_Mayen',\n",
       " 'Atlantic/Madeira',\n",
       " 'Atlantic/Reykjavik',\n",
       " 'Atlantic/South_Georgia',\n",
       " 'Atlantic/St_Helena',\n",
       " 'Atlantic/Stanley',\n",
       " 'Australia/ACT',\n",
       " 'Australia/Adelaide',\n",
       " 'Australia/Brisbane',\n",
       " 'Australia/Broken_Hill',\n",
       " 'Australia/Canberra',\n",
       " 'Australia/Currie',\n",
       " 'Australia/Darwin',\n",
       " 'Australia/Eucla',\n",
       " 'Australia/Hobart',\n",
       " 'Australia/LHI',\n",
       " 'Australia/Lindeman',\n",
       " 'Australia/Lord_Howe',\n",
       " 'Australia/Melbourne',\n",
       " 'Australia/NSW',\n",
       " 'Australia/North',\n",
       " 'Australia/Perth',\n",
       " 'Australia/Queensland',\n",
       " 'Australia/South',\n",
       " 'Australia/Sydney',\n",
       " 'Australia/Tasmania',\n",
       " 'Australia/Victoria',\n",
       " 'Australia/West',\n",
       " 'Australia/Yancowinna',\n",
       " 'Brazil/Acre',\n",
       " 'Brazil/DeNoronha',\n",
       " 'Brazil/East',\n",
       " 'Brazil/West',\n",
       " 'CET',\n",
       " 'CST6CDT',\n",
       " 'Canada/Atlantic',\n",
       " 'Canada/Central',\n",
       " 'Canada/Eastern',\n",
       " 'Canada/Mountain',\n",
       " 'Canada/Newfoundland',\n",
       " 'Canada/Pacific',\n",
       " 'Canada/Saskatchewan',\n",
       " 'Canada/Yukon',\n",
       " 'Chile/Continental',\n",
       " 'Chile/EasterIsland',\n",
       " 'Cuba',\n",
       " 'EET',\n",
       " 'EST',\n",
       " 'EST5EDT',\n",
       " 'Egypt',\n",
       " 'Eire',\n",
       " 'Etc/GMT',\n",
       " 'Etc/GMT+0',\n",
       " 'Etc/GMT+1',\n",
       " 'Etc/GMT+10',\n",
       " 'Etc/GMT+11',\n",
       " 'Etc/GMT+12',\n",
       " 'Etc/GMT+2',\n",
       " 'Etc/GMT+3',\n",
       " 'Etc/GMT+4',\n",
       " 'Etc/GMT+5',\n",
       " 'Etc/GMT+6',\n",
       " 'Etc/GMT+7',\n",
       " 'Etc/GMT+8',\n",
       " 'Etc/GMT+9',\n",
       " 'Etc/GMT-0',\n",
       " 'Etc/GMT-1',\n",
       " 'Etc/GMT-10',\n",
       " 'Etc/GMT-11',\n",
       " 'Etc/GMT-12',\n",
       " 'Etc/GMT-13',\n",
       " 'Etc/GMT-14',\n",
       " 'Etc/GMT-2',\n",
       " 'Etc/GMT-3',\n",
       " 'Etc/GMT-4',\n",
       " 'Etc/GMT-5',\n",
       " 'Etc/GMT-6',\n",
       " 'Etc/GMT-7',\n",
       " 'Etc/GMT-8',\n",
       " 'Etc/GMT-9',\n",
       " 'Etc/GMT0',\n",
       " 'Etc/Greenwich',\n",
       " 'Etc/UCT',\n",
       " 'Etc/UTC',\n",
       " 'Etc/Universal',\n",
       " 'Etc/Zulu',\n",
       " 'Europe/Amsterdam',\n",
       " 'Europe/Andorra',\n",
       " 'Europe/Astrakhan',\n",
       " 'Europe/Athens',\n",
       " 'Europe/Belfast',\n",
       " 'Europe/Belgrade',\n",
       " 'Europe/Berlin',\n",
       " 'Europe/Bratislava',\n",
       " 'Europe/Brussels',\n",
       " 'Europe/Bucharest',\n",
       " 'Europe/Budapest',\n",
       " 'Europe/Busingen',\n",
       " 'Europe/Chisinau',\n",
       " 'Europe/Copenhagen',\n",
       " 'Europe/Dublin',\n",
       " 'Europe/Gibraltar',\n",
       " 'Europe/Guernsey',\n",
       " 'Europe/Helsinki',\n",
       " 'Europe/Isle_of_Man',\n",
       " 'Europe/Istanbul',\n",
       " 'Europe/Jersey',\n",
       " 'Europe/Kaliningrad',\n",
       " 'Europe/Kiev',\n",
       " 'Europe/Kirov',\n",
       " 'Europe/Kyiv',\n",
       " 'Europe/Lisbon',\n",
       " 'Europe/Ljubljana',\n",
       " 'Europe/London',\n",
       " 'Europe/Luxembourg',\n",
       " 'Europe/Madrid',\n",
       " 'Europe/Malta',\n",
       " 'Europe/Mariehamn',\n",
       " 'Europe/Minsk',\n",
       " 'Europe/Monaco',\n",
       " 'Europe/Moscow',\n",
       " 'Europe/Nicosia',\n",
       " 'Europe/Oslo',\n",
       " 'Europe/Paris',\n",
       " 'Europe/Podgorica',\n",
       " 'Europe/Prague',\n",
       " 'Europe/Riga',\n",
       " 'Europe/Rome',\n",
       " 'Europe/Samara',\n",
       " 'Europe/San_Marino',\n",
       " 'Europe/Sarajevo',\n",
       " 'Europe/Saratov',\n",
       " 'Europe/Simferopol',\n",
       " 'Europe/Skopje',\n",
       " 'Europe/Sofia',\n",
       " 'Europe/Stockholm',\n",
       " 'Europe/Tallinn',\n",
       " 'Europe/Tirane',\n",
       " 'Europe/Tiraspol',\n",
       " 'Europe/Ulyanovsk',\n",
       " 'Europe/Uzhgorod',\n",
       " 'Europe/Vaduz',\n",
       " 'Europe/Vatican',\n",
       " 'Europe/Vienna',\n",
       " 'Europe/Vilnius',\n",
       " 'Europe/Volgograd',\n",
       " 'Europe/Warsaw',\n",
       " 'Europe/Zagreb',\n",
       " 'Europe/Zaporozhye',\n",
       " 'Europe/Zurich',\n",
       " 'Factory',\n",
       " 'GB',\n",
       " 'GB-Eire',\n",
       " 'GMT',\n",
       " 'GMT+0',\n",
       " 'GMT-0',\n",
       " 'GMT0',\n",
       " 'Greenwich',\n",
       " 'HST',\n",
       " 'Hongkong',\n",
       " 'Iceland',\n",
       " 'Indian/Antananarivo',\n",
       " 'Indian/Chagos',\n",
       " 'Indian/Christmas',\n",
       " 'Indian/Cocos',\n",
       " 'Indian/Comoro',\n",
       " 'Indian/Kerguelen',\n",
       " 'Indian/Mahe',\n",
       " 'Indian/Maldives',\n",
       " 'Indian/Mauritius',\n",
       " 'Indian/Mayotte',\n",
       " 'Indian/Reunion',\n",
       " 'Iran',\n",
       " 'Israel',\n",
       " 'Jamaica',\n",
       " 'Japan',\n",
       " 'Kwajalein',\n",
       " 'Libya',\n",
       " 'MET',\n",
       " 'MST',\n",
       " 'MST7MDT',\n",
       " 'Mexico/BajaNorte',\n",
       " 'Mexico/BajaSur',\n",
       " 'Mexico/General',\n",
       " 'NZ',\n",
       " 'NZ-CHAT',\n",
       " 'Navajo',\n",
       " 'PRC',\n",
       " 'PST8PDT',\n",
       " 'Pacific/Apia',\n",
       " 'Pacific/Auckland',\n",
       " 'Pacific/Bougainville',\n",
       " 'Pacific/Chatham',\n",
       " 'Pacific/Chuuk',\n",
       " 'Pacific/Easter',\n",
       " 'Pacific/Efate',\n",
       " 'Pacific/Enderbury',\n",
       " 'Pacific/Fakaofo',\n",
       " 'Pacific/Fiji',\n",
       " 'Pacific/Funafuti',\n",
       " 'Pacific/Galapagos',\n",
       " 'Pacific/Gambier',\n",
       " 'Pacific/Guadalcanal',\n",
       " 'Pacific/Guam',\n",
       " 'Pacific/Honolulu',\n",
       " 'Pacific/Johnston',\n",
       " 'Pacific/Kanton',\n",
       " 'Pacific/Kiritimati',\n",
       " 'Pacific/Kosrae',\n",
       " 'Pacific/Kwajalein',\n",
       " 'Pacific/Majuro',\n",
       " 'Pacific/Marquesas',\n",
       " 'Pacific/Midway',\n",
       " 'Pacific/Nauru',\n",
       " 'Pacific/Niue',\n",
       " 'Pacific/Norfolk',\n",
       " 'Pacific/Noumea',\n",
       " 'Pacific/Pago_Pago',\n",
       " 'Pacific/Palau',\n",
       " 'Pacific/Pitcairn',\n",
       " 'Pacific/Pohnpei',\n",
       " 'Pacific/Ponape',\n",
       " 'Pacific/Port_Moresby',\n",
       " 'Pacific/Rarotonga',\n",
       " 'Pacific/Saipan',\n",
       " 'Pacific/Samoa',\n",
       " 'Pacific/Tahiti',\n",
       " 'Pacific/Tarawa',\n",
       " 'Pacific/Tongatapu',\n",
       " 'Pacific/Truk',\n",
       " 'Pacific/Wake',\n",
       " 'Pacific/Wallis',\n",
       " 'Pacific/Yap',\n",
       " 'Poland',\n",
       " 'Portugal',\n",
       " 'ROC',\n",
       " 'ROK',\n",
       " 'Singapore',\n",
       " 'Turkey',\n",
       " 'UCT',\n",
       " 'US/Alaska',\n",
       " 'US/Aleutian',\n",
       " 'US/Arizona',\n",
       " 'US/Central',\n",
       " 'US/East-Indiana',\n",
       " 'US/Eastern',\n",
       " 'US/Hawaii',\n",
       " 'US/Indiana-Starke',\n",
       " 'US/Michigan',\n",
       " 'US/Mountain',\n",
       " 'US/Pacific',\n",
       " 'US/Samoa',\n",
       " 'UTC',\n",
       " 'Universal',\n",
       " 'W-SU',\n",
       " 'WET',\n",
       " 'Zulu',\n",
       " 'localtime'}"
      ]
     },
     "execution_count": 2,
     "metadata": {},
     "output_type": "execute_result"
    }
   ],
   "source": [
    "available_timezones()"
   ]
  },
  {
   "cell_type": "code",
   "execution_count": 0,
   "metadata": {
    "application/vnd.databricks.v1+cell": {
     "cellMetadata": {
      "byteLimit": 2048000,
      "rowLimit": 10000
     },
     "inputWidgets": {},
     "nuid": "882adab2-a79c-4d55-a130-bb20b248d32d",
     "showTitle": true,
     "tableResultSettingsMap": {},
     "title": "Print all available timezones"
    }
   },
   "outputs": [
    {
     "output_type": "stream",
     "name": "stdout",
     "output_type": "stream",
     "text": [
      "America/Cuiaba\nEurope/Zurich\nAmerica/Sao_Paulo\nAfrica/Brazzaville\nEurope/Dublin\nAmerica/Pangnirtung\nAmerica/St_Thomas\nAsia/Krasnoyarsk\nAsia/Nicosia\nAfrica/Dar_es_Salaam\nAmerica/Argentina/Catamarca\nPacific/Bougainville\nEtc/Zulu\nIndian/Cocos\nPacific/Wallis\nAmerica/Goose_Bay\nAmerica/Fortaleza\nAmerica/Eirunepe\nAfrica/Bamako\nAtlantic/Stanley\nAmerica/Argentina/Rio_Gallegos\nAmerica/Glace_Bay\nEtc/GMT-12\nAustralia/ACT\nUS/Pacific\nAustralia/Brisbane\nEurope/Warsaw\nAfrica/Bujumbura\nAsia/Thimphu\nAsia/Kathmandu\nAmerica/Manaus\nAfrica/Sao_Tome\nPacific/Kanton\nAmerica/Knox_IN\nAfrica/Porto-Novo\nAsia/Qatar\nAmerica/Virgin\nAfrica/Casablanca\nAmerica/Argentina/Tucuman\nPacific/Apia\nEurope/Ulyanovsk\nAmerica/Catamarca\nAmerica/Marigot\nUS/Alaska\nPacific/Midway\nAmerica/Argentina/Salta\nAmerica/Rosario\nW-SU\nUS/Aleutian\nAsia/Kuching\nAmerica/Miquelon\nEurope/Tallinn\nPacific/Galapagos\nAsia/Katmandu\nEurope/Malta\nAfrica/Accra\nPacific/Majuro\nEurope/Stockholm\nAmerica/Phoenix\nEtc/Greenwich\nEurope/Zagreb\nAustralia/NSW\nAsia/Oral\nAsia/Gaza\nEurope/Mariehamn\nAmerica/Thunder_Bay\nAntarctica/Rothera\nAsia/Pontianak\nEurope/Vatican\nAfrica/Maputo\nAntarctica/McMurdo\nIndian/Maldives\nAfrica/Mogadishu\nEurope/Andorra\nEurope/Simferopol\nAmerica/Metlakatla\nAmerica/Scoresbysund\nSingapore\nAsia/Aqtobe\nAustralia/Victoria\nGMT0\nAsia/Brunei\nAfrica/Kigali\nAmerica/St_Kitts\nEurope/Oslo\nAsia/Beirut\nAmerica/Porto_Velho\nAfrica/Lusaka\nAmerica/Argentina/Jujuy\nEtc/GMT+1\nAmerica/Coral_Harbour\nAmerica/Managua\nEurope/Zaporozhye\nPacific/Guadalcanal\nAmerica/Swift_Current\nAfrica/Timbuktu\nArctic/Longyearbyen\nAsia/Yangon\nAmerica/Santiago\nAsia/Aqtau\nAmerica/Detroit\nAmerica/Curacao\nAmerica/Tortola\nAsia/Khandyga\nAmerica/Juneau\nAfrica/Tunis\nAmerica/Whitehorse\nAfrica/Niamey\nPacific/Guam\nAmerica/Mexico_City\nEurope/Luxembourg\nAmerica/Bahia_Banderas\nAsia/Seoul\nEtc/GMT-5\nPacific/Fiji\nEurope/Belgrade\nAtlantic/Faroe\nAmerica/Boa_Vista\nAmerica/Argentina/Mendoza\nEtc/GMT-6\nAmerica/Lower_Princes\nAustralia/Broken_Hill\nAmerica/Tegucigalpa\nUS/Arizona\nIndian/Chagos\nAsia/Ashgabat\nUS/Hawaii\nAmerica/Fort_Nelson\nAmerica/Campo_Grande\nAtlantic/St_Helena\nAsia/Kabul\nAmerica/Moncton\nAsia/Anadyr\nEtc/GMT-9\nEtc/Universal\nEtc/GMT+9\nAtlantic/Reykjavik\nAmerica/Nuuk\nAmerica/Anchorage\nCanada/Eastern\nIndian/Mauritius\nAsia/Tehran\nUS/Mountain\nEurope/Bratislava\nEurope/Amsterdam\nAmerica/Indiana/Petersburg\nAntarctica/South_Pole\nAmerica/Cayman\nAsia/Muscat\nAfrica/Monrovia\nEurope/Volgograd\nMST\nAmerica/Adak\nCanada/Mountain\nAsia/Novosibirsk\nAmerica/Atka\nAsia/Dhaka\nPacific/Yap\nPacific/Niue\nEurope/Kyiv\nPacific/Easter\nAmerica/Argentina/San_Luis\nUCT\nEurope/Berlin\nAmerica/Buenos_Aires\nAustralia/Perth\nAmerica/Santo_Domingo\nEtc/GMT+8\nAsia/Karachi\nAntarctica/DumontDUrville\nUS/Eastern\nAsia/Rangoon\nMexico/BajaNorte\nZulu\nAmerica/Argentina/Cordoba\nEurope/Sarajevo\nAmerica/Bogota\nCanada/Saskatchewan\nAmerica/Guyana\nAsia/Dubai\nPacific/Nauru\nAsia/Yekaterinburg\nPacific/Kwajalein\nAfrica/Ouagadougou\nAmerica/Merida\nEtc/GMT+6\nBrazil/DeNoronha\nAsia/Shanghai\nEurope/Bucharest\nAmerica/Yellowknife\nAsia/Dacca\nUS/Central\nEtc/GMT0\nEire\nAsia/Riyadh\nUS/East-Indiana\nCST6CDT\nEurope/Ljubljana\nAfrica/Lome\nAustralia/Canberra\nEtc/GMT+7\nAfrica/Libreville\nAsia/Macao\nAmerica/Araguaina\nEurope/Riga\nKwajalein\nEurope/Prague\nEtc/GMT-10\nEurope/Jersey\nAsia/Bangkok\nEtc/GMT-1\nAmerica/Indianapolis\nAsia/Kolkata\nAsia/Jakarta\nAfrica/Harare\nEurope/Samara\nAsia/Phnom_Penh\nAmerica/Indiana/Vevay\nAustralia/North\nAfrica/Khartoum\nAsia/Ashkhabad\nCanada/Atlantic\nIsrael\nAfrica/Bangui\nAmerica/Maceio\nAmerica/Guayaquil\nEurope/Gibraltar\nAsia/Urumqi\nPacific/Honolulu\nAmerica/Guatemala\nIndian/Antananarivo\nAfrica/Ceuta\nAmerica/Havana\nAntarctica/Syowa\nAfrica/Freetown\nAmerica/Asuncion\nAsia/Samarkand\nCanada/Central\nAntarctica/Vostok\nAtlantic/Cape_Verde\nAntarctica/Mawson\nCuba\nMET\nGreenwich\nAustralia/Lord_Howe\nLibya\nAmerica/Danmarkshavn\nPacific/Tongatapu\nAfrica/Abidjan\nAsia/Manila\nEtc/GMT-14\nAustralia/Melbourne\nAmerica/Toronto\nPacific/Fakaofo\nAsia/Tokyo\nAmerica/Nome\nEtc/GMT+0\nAsia/Chongqing\nAmerica/Inuvik\nPacific/Kosrae\nAsia/Singapore\nEtc/GMT+5\nEurope/Copenhagen\nPortugal\nIndian/Reunion\nAsia/Sakhalin\nAmerica/Hermosillo\nPacific/Marquesas\nAmerica/Barbados\nAsia/Srednekolymsk\nAmerica/St_Vincent\nAmerica/Matamoros\nAsia/Bishkek\nEtc/GMT-0\nEtc/GMT-4\nTurkey\nEurope/Uzhgorod\nUS/Indiana-Starke\nAsia/Aden\nEtc/GMT-8\nGMT+0\nAmerica/Aruba\nAsia/Makassar\nAustralia/South\nAmerica/Argentina/Buenos_Aires\nEurope/Istanbul\nEurope/Nicosia\nAtlantic/Bermuda\nAsia/Kamchatka\nAsia/Damascus\nEurope/Tirane\nAustralia/Eucla\nAmerica/Argentina/ComodRivadavia\nAfrica/Maseru\nUS/Michigan\nHST\nAsia/Qyzylorda\nAfrica/Bissau\nAmerica/Winnipeg\nAmerica/Indiana/Marengo\nAmerica/Indiana/Tell_City\nPacific/Samoa\nChile/EasterIsland\nPacific/Port_Moresby\nEtc/GMT-13\nIndian/Comoro\nAsia/Chungking\nPacific/Chatham\nAustralia/LHI\nAmerica/Indiana/Vincennes\nEtc/GMT-11\nAntarctica/Casey\nAmerica/Panama\nAmerica/Santarem\nAfrica/Blantyre\nPacific/Tahiti\nAfrica/Windhoek\nAtlantic/South_Georgia\nPacific/Pago_Pago\nFactory\nAfrica/Algiers\nAfrica/Johannesburg\nAmerica/Dawson_Creek\nAmerica/Cambridge_Bay\nPacific/Johnston\nAmerica/Iqaluit\nAmerica/El_Salvador\nAfrica/Dakar\nAmerica/Recife\nAmerica/Los_Angeles\nAmerica/North_Dakota/Beulah\nMexico/General\nAsia/Istanbul\nAmerica/Halifax\nEtc/UCT\nAmerica/Montevideo\nAfrica/Tripoli\nCanada/Yukon\nAmerica/Argentina/La_Rioja\nPacific/Kiritimati\nPacific/Gambier\nEurope/Chisinau\nAsia/Omsk\nAsia/Ho_Chi_Minh\nAtlantic/Jan_Mayen\nAmerica/Punta_Arenas\nEurope/Minsk\nAtlantic/Madeira\nAustralia/Lindeman\nAfrica/Lubumbashi\nAmerica/Grenada\nNZ\nAmerica/New_York\nEurope/Kirov\nAmerica/Port-au-Prince\nIran\nAmerica/Monterrey\nCanada/Pacific\nEurope/Rome\nAmerica/Rainy_River\nAfrica/Douala\nEurope/Astrakhan\nPacific/Pohnpei\nAmerica/Grand_Turk\nGMT\nAmerica/Shiprock\nAmerica/Indiana/Knox\nAmerica/Jujuy\nEtc/GMT-2\nEtc/GMT\nAfrica/Cairo\nAfrica/Banjul\nCET\nGMT-0\nAmerica/St_Lucia\nAsia/Vientiane\nAsia/Choibalsan\nAmerica/Jamaica\nAustralia/Darwin\nAsia/Ujung_Pandang\nAmerica/Caracas\nPacific/Pitcairn\nAsia/Macau\nAsia/Hovd\nAntarctica/Davis\nAmerica/Louisville\nEST\nAfrica/Asmera\nAtlantic/Faeroe\nAsia/Baghdad\nAsia/Jerusalem\nAmerica/Porto_Acre\nAntarctica/Palmer\nEurope/Sofia\nEurope/Podgorica\nAsia/Hebron\nAmerica/Tijuana\nAntarctica/Troll\nAmerica/Ojinaga\nPacific/Rarotonga\nPacific/Funafuti\nEtc/GMT+12\nAmerica/Chicago\nPacific/Enderbury\nEurope/Kaliningrad\nEurope/Kiev\nAntarctica/Macquarie\nAustralia/Adelaide\nCanada/Newfoundland\nAsia/Kashgar\nAtlantic/Canary\nAmerica/Ensenada\nBrazil/West\nEgypt\nAsia/Tel_Aviv\nEurope/Paris\nEurope/Madrid\nIndian/Kerguelen\nAfrica/Kampala\nAmerica/Resolute\nIndian/Christmas\nNZ-CHAT\nEurope/Lisbon\nAfrica/Asmara\nEurope/Tiraspol\nAsia/Yerevan\nEurope/Busingen\nAustralia/Tasmania\nAfrica/Juba\nAsia/Chita\nAsia/Calcutta\nAmerica/Bahia\nEurope/Vienna\nEurope/Monaco\nBrazil/Acre\nPacific/Saipan\nAsia/Bahrain\nAsia/Dushanbe\nAmerica/Kentucky/Louisville\nAsia/Famagusta\nEurope/Skopje\nAsia/Hong_Kong\nAmerica/Creston\nEtc/UTC\nAmerica/Godthab\nWET\nAsia/Vladivostok\nEtc/GMT-7\nAustralia/Hobart\nEurope/Athens\nAmerica/Nipigon\nPacific/Chuuk\nAmerica/Montserrat\nEtc/GMT+4\nEurope/Budapest\nAsia/Qostanay\nAmerica/Cayenne\nAmerica/Menominee\nAsia/Barnaul\nAmerica/Cancun\nEurope/Vaduz\nAmerica/Antigua\nAmerica/Boise\nAmerica/Martinique\nAmerica/Atikokan\nAmerica/Kentucky/Monticello\nAmerica/Regina\nAmerica/Costa_Rica\nAfrica/Malabo\nEurope/Helsinki\nAsia/Harbin\nAmerica/Guadeloupe\nAmerica/Argentina/Ushuaia\nAmerica/Indiana/Indianapolis\nAfrica/Lagos\nAmerica/Belem\nAmerica/Cordoba\nAfrica/Nouakchott\nAsia/Ust-Nera\nEtc/GMT+2\nAsia/Magadan\nPacific/Efate\nAsia/Novokuznetsk\nPacific/Noumea\nEurope/Saratov\nAmerica/Thule\nEurope/Moscow\nIndian/Mahe\nAsia/Dili\nAmerica/Vancouver\nChile/Continental\nAsia/Kuwait\nAmerica/North_Dakota/New_Salem\nPoland\nAsia/Ulaanbaatar\nAsia/Baku\nAsia/Yakutsk\nEurope/Belfast\nPacific/Auckland\nAmerica/Kralendijk\nPacific/Palau\nAsia/Taipei\nAmerica/St_Barthelemy\nAmerica/Port_of_Spain\nBrazil/East\nAsia/Thimbu\nAfrica/Gaborone\nAmerica/Noronha\nEtc/GMT+3\nAmerica/Indiana/Winamac\nUniversal\nEurope/London\nlocaltime\nAsia/Tbilisi\nAmerica/Edmonton\nAmerica/Anguilla\nAmerica/Mazatlan\nAmerica/La_Paz\nPacific/Norfolk\nAsia/Irkutsk\nPRC\nEtc/GMT+10\nAmerica/Puerto_Rico\nAsia/Colombo\nROK\nAsia/Ulan_Bator\nAmerica/Ciudad_Juarez\nAfrica/Djibouti\nAustralia/West\nAfrica/Addis_Ababa\nAmerica/Argentina/San_Juan\nEurope/Isle_of_Man\nAsia/Atyrau\nGB\nNavajo\nAmerica/Santa_Isabel\nHongkong\nPacific/Truk\nEurope/Vilnius\nJapan\nAsia/Almaty\nEtc/GMT+11\nAfrica/Conakry\nAsia/Amman\nAtlantic/Azores\nAmerica/Blanc-Sablon\nAmerica/Belize\nEurope/Brussels\nEurope/San_Marino\nAfrica/Nairobi\nAsia/Pyongyang\nAsia/Jayapura\nIndian/Mayotte\nAmerica/Dominica\nAustralia/Queensland\nUS/Samoa\nAmerica/Fort_Wayne\nAmerica/St_Johns\nPST8PDT\nJamaica\nAmerica/Lima\nAmerica/Sitka\nAsia/Tashkent\nROC\nAfrica/Mbabane\nAmerica/Dawson\nAsia/Saigon\nPacific/Tarawa\nMexico/BajaSur\nAustralia/Sydney\nAmerica/Denver\nPacific/Ponape\nIceland\nEurope/Guernsey\nAfrica/Ndjamena\nAmerica/Chihuahua\nAmerica/Mendoza\nAmerica/Paramaribo\nEtc/GMT-3\nEST5EDT\nMST7MDT\nAsia/Tomsk\nAmerica/Rio_Branco\nAmerica/Montreal\nAmerica/Yakutat\nAfrica/El_Aaiun\nGB-Eire\nAmerica/North_Dakota/Center\nAfrica/Luanda\nAustralia/Yancowinna\nAfrica/Kinshasa\nEET\nAmerica/Nassau\nPacific/Wake\nAmerica/Rankin_Inlet\nAustralia/Currie\nUTC\nAsia/Kuala_Lumpur\n"
     ]
    }
   ],
   "source": [
    "from zoneinfo import ZoneInfo, available_timezones\n",
    "\n",
    "for z in available_timezones():\n",
    "    print(z)"
   ]
  },
  {
   "cell_type": "code",
   "execution_count": 0,
   "metadata": {
    "application/vnd.databricks.v1+cell": {
     "cellMetadata": {
      "byteLimit": 2048000,
      "rowLimit": 10000
     },
     "inputWidgets": {},
     "nuid": "acc39eb0-32a6-4975-bd9d-186e3b1394ae",
     "showTitle": true,
     "tableResultSettingsMap": {},
     "title": "List all timezones"
    }
   },
   "outputs": [
    {
     "output_type": "stream",
     "name": "stdout",
     "output_type": "stream",
     "text": [
      "America/Cuiaba\nEurope/Zurich\nAmerica/Sao_Paulo\nAfrica/Brazzaville\nEurope/Dublin\nAmerica/Pangnirtung\nAmerica/St_Thomas\nAsia/Krasnoyarsk\nAsia/Nicosia\nAfrica/Dar_es_Salaam\nAmerica/Argentina/Catamarca\nPacific/Bougainville\nEtc/Zulu\nIndian/Cocos\nPacific/Wallis\nAmerica/Goose_Bay\nAmerica/Fortaleza\nAmerica/Eirunepe\nAfrica/Bamako\nAtlantic/Stanley\nAmerica/Argentina/Rio_Gallegos\nAmerica/Glace_Bay\nEtc/GMT-12\nAustralia/ACT\nUS/Pacific\nAustralia/Brisbane\nEurope/Warsaw\nAfrica/Bujumbura\nAsia/Thimphu\nAsia/Kathmandu\nAmerica/Manaus\nAfrica/Sao_Tome\nPacific/Kanton\nAmerica/Knox_IN\nAfrica/Porto-Novo\nAsia/Qatar\nAmerica/Virgin\nAfrica/Casablanca\nAmerica/Argentina/Tucuman\nPacific/Apia\nEurope/Ulyanovsk\nAmerica/Catamarca\nAmerica/Marigot\nUS/Alaska\nPacific/Midway\nAmerica/Argentina/Salta\nAmerica/Rosario\nW-SU\nUS/Aleutian\nAsia/Kuching\nAmerica/Miquelon\nEurope/Tallinn\nPacific/Galapagos\nAsia/Katmandu\nEurope/Malta\nAfrica/Accra\nPacific/Majuro\nEurope/Stockholm\nAmerica/Phoenix\nEtc/Greenwich\nEurope/Zagreb\nAustralia/NSW\nAsia/Oral\nAsia/Gaza\nEurope/Mariehamn\nAmerica/Thunder_Bay\nAntarctica/Rothera\nAsia/Pontianak\nEurope/Vatican\nAfrica/Maputo\nAntarctica/McMurdo\nIndian/Maldives\nAfrica/Mogadishu\nEurope/Andorra\nEurope/Simferopol\nAmerica/Metlakatla\nAmerica/Scoresbysund\nSingapore\nAsia/Aqtobe\nAustralia/Victoria\nGMT0\nAsia/Brunei\nAfrica/Kigali\nAmerica/St_Kitts\nEurope/Oslo\nAsia/Beirut\nAmerica/Porto_Velho\nAfrica/Lusaka\nAmerica/Argentina/Jujuy\nEtc/GMT+1\nAmerica/Coral_Harbour\nAmerica/Managua\nEurope/Zaporozhye\nPacific/Guadalcanal\nAmerica/Swift_Current\nAfrica/Timbuktu\nArctic/Longyearbyen\nAsia/Yangon\nAmerica/Santiago\nAsia/Aqtau\nAmerica/Detroit\nAmerica/Curacao\nAmerica/Tortola\nAsia/Khandyga\nAmerica/Juneau\nAfrica/Tunis\nAmerica/Whitehorse\nAfrica/Niamey\nPacific/Guam\nAmerica/Mexico_City\nEurope/Luxembourg\nAmerica/Bahia_Banderas\nAsia/Seoul\nEtc/GMT-5\nPacific/Fiji\nEurope/Belgrade\nAtlantic/Faroe\nAmerica/Boa_Vista\nAmerica/Argentina/Mendoza\nEtc/GMT-6\nAmerica/Lower_Princes\nAustralia/Broken_Hill\nAmerica/Tegucigalpa\nUS/Arizona\nIndian/Chagos\nAsia/Ashgabat\nUS/Hawaii\nAmerica/Fort_Nelson\nAmerica/Campo_Grande\nAtlantic/St_Helena\nAsia/Kabul\nAmerica/Moncton\nAsia/Anadyr\nEtc/GMT-9\nEtc/Universal\nEtc/GMT+9\nAtlantic/Reykjavik\nAmerica/Nuuk\nAmerica/Anchorage\nCanada/Eastern\nIndian/Mauritius\nAsia/Tehran\nUS/Mountain\nEurope/Bratislava\nEurope/Amsterdam\nAmerica/Indiana/Petersburg\nAntarctica/South_Pole\nAmerica/Cayman\nAsia/Muscat\nAfrica/Monrovia\nEurope/Volgograd\nMST\nAmerica/Adak\nCanada/Mountain\nAsia/Novosibirsk\nAmerica/Atka\nAsia/Dhaka\nPacific/Yap\nPacific/Niue\nEurope/Kyiv\nPacific/Easter\nAmerica/Argentina/San_Luis\nUCT\nEurope/Berlin\nAmerica/Buenos_Aires\nAustralia/Perth\nAmerica/Santo_Domingo\nEtc/GMT+8\nAsia/Karachi\nAntarctica/DumontDUrville\nUS/Eastern\nAsia/Rangoon\nMexico/BajaNorte\nZulu\nAmerica/Argentina/Cordoba\nEurope/Sarajevo\nAmerica/Bogota\nCanada/Saskatchewan\nAmerica/Guyana\nAsia/Dubai\nPacific/Nauru\nAsia/Yekaterinburg\nPacific/Kwajalein\nAfrica/Ouagadougou\nAmerica/Merida\nEtc/GMT+6\nBrazil/DeNoronha\nAsia/Shanghai\nEurope/Bucharest\nAmerica/Yellowknife\nAsia/Dacca\nUS/Central\nEtc/GMT0\nEire\nAsia/Riyadh\nUS/East-Indiana\nCST6CDT\nEurope/Ljubljana\nAfrica/Lome\nAustralia/Canberra\nEtc/GMT+7\nAfrica/Libreville\nAsia/Macao\nAmerica/Araguaina\nEurope/Riga\nKwajalein\nEurope/Prague\nEtc/GMT-10\nEurope/Jersey\nAsia/Bangkok\nEtc/GMT-1\nAmerica/Indianapolis\nAsia/Kolkata\nAsia/Jakarta\nAfrica/Harare\nEurope/Samara\nAsia/Phnom_Penh\nAmerica/Indiana/Vevay\nAustralia/North\nAfrica/Khartoum\nAsia/Ashkhabad\nCanada/Atlantic\nIsrael\nAfrica/Bangui\nAmerica/Maceio\nAmerica/Guayaquil\nEurope/Gibraltar\nAsia/Urumqi\nPacific/Honolulu\nAmerica/Guatemala\nIndian/Antananarivo\nAfrica/Ceuta\nAmerica/Havana\nAntarctica/Syowa\nAfrica/Freetown\nAmerica/Asuncion\nAsia/Samarkand\nCanada/Central\nAntarctica/Vostok\nAtlantic/Cape_Verde\nAntarctica/Mawson\nCuba\nMET\nGreenwich\nAustralia/Lord_Howe\nLibya\nAmerica/Danmarkshavn\nPacific/Tongatapu\nAfrica/Abidjan\nAsia/Manila\nEtc/GMT-14\nAustralia/Melbourne\nAmerica/Toronto\nPacific/Fakaofo\nAsia/Tokyo\nAmerica/Nome\nEtc/GMT+0\nAsia/Chongqing\nAmerica/Inuvik\nPacific/Kosrae\nAsia/Singapore\nEtc/GMT+5\nEurope/Copenhagen\nPortugal\nIndian/Reunion\nAsia/Sakhalin\nAmerica/Hermosillo\nPacific/Marquesas\nAmerica/Barbados\nAsia/Srednekolymsk\nAmerica/St_Vincent\nAmerica/Matamoros\nAsia/Bishkek\nEtc/GMT-0\nEtc/GMT-4\nTurkey\nEurope/Uzhgorod\nUS/Indiana-Starke\nAsia/Aden\nEtc/GMT-8\nGMT+0\nAmerica/Aruba\nAsia/Makassar\nAustralia/South\nAmerica/Argentina/Buenos_Aires\nEurope/Istanbul\nEurope/Nicosia\nAtlantic/Bermuda\nAsia/Kamchatka\nAsia/Damascus\nEurope/Tirane\nAustralia/Eucla\nAmerica/Argentina/ComodRivadavia\nAfrica/Maseru\nUS/Michigan\nHST\nAsia/Qyzylorda\nAfrica/Bissau\nAmerica/Winnipeg\nAmerica/Indiana/Marengo\nAmerica/Indiana/Tell_City\nPacific/Samoa\nChile/EasterIsland\nPacific/Port_Moresby\nEtc/GMT-13\nIndian/Comoro\nAsia/Chungking\nPacific/Chatham\nAustralia/LHI\nAmerica/Indiana/Vincennes\nEtc/GMT-11\nAntarctica/Casey\nAmerica/Panama\nAmerica/Santarem\nAfrica/Blantyre\nPacific/Tahiti\nAfrica/Windhoek\nAtlantic/South_Georgia\nPacific/Pago_Pago\nFactory\nAfrica/Algiers\nAfrica/Johannesburg\nAmerica/Dawson_Creek\nAmerica/Cambridge_Bay\nPacific/Johnston\nAmerica/Iqaluit\nAmerica/El_Salvador\nAfrica/Dakar\nAmerica/Recife\nAmerica/Los_Angeles\nAmerica/North_Dakota/Beulah\nMexico/General\nAsia/Istanbul\nAmerica/Halifax\nEtc/UCT\nAmerica/Montevideo\nAfrica/Tripoli\nCanada/Yukon\nAmerica/Argentina/La_Rioja\nPacific/Kiritimati\nPacific/Gambier\nEurope/Chisinau\nAsia/Omsk\nAsia/Ho_Chi_Minh\nAtlantic/Jan_Mayen\nAmerica/Punta_Arenas\nEurope/Minsk\nAtlantic/Madeira\nAustralia/Lindeman\nAfrica/Lubumbashi\nAmerica/Grenada\nNZ\nAmerica/New_York\nEurope/Kirov\nAmerica/Port-au-Prince\nIran\nAmerica/Monterrey\nCanada/Pacific\nEurope/Rome\nAmerica/Rainy_River\nAfrica/Douala\nEurope/Astrakhan\nPacific/Pohnpei\nAmerica/Grand_Turk\nGMT\nAmerica/Shiprock\nAmerica/Indiana/Knox\nAmerica/Jujuy\nEtc/GMT-2\nEtc/GMT\nAfrica/Cairo\nAfrica/Banjul\nCET\nGMT-0\nAmerica/St_Lucia\nAsia/Vientiane\nAsia/Choibalsan\nAmerica/Jamaica\nAustralia/Darwin\nAsia/Ujung_Pandang\nAmerica/Caracas\nPacific/Pitcairn\nAsia/Macau\nAsia/Hovd\nAntarctica/Davis\nAmerica/Louisville\nEST\nAfrica/Asmera\nAtlantic/Faeroe\nAsia/Baghdad\nAsia/Jerusalem\nAmerica/Porto_Acre\nAntarctica/Palmer\nEurope/Sofia\nEurope/Podgorica\nAsia/Hebron\nAmerica/Tijuana\nAntarctica/Troll\nAmerica/Ojinaga\nPacific/Rarotonga\nPacific/Funafuti\nEtc/GMT+12\nAmerica/Chicago\nPacific/Enderbury\nEurope/Kaliningrad\nEurope/Kiev\nAntarctica/Macquarie\nAustralia/Adelaide\nCanada/Newfoundland\nAsia/Kashgar\nAtlantic/Canary\nAmerica/Ensenada\nBrazil/West\nEgypt\nAsia/Tel_Aviv\nEurope/Paris\nEurope/Madrid\nIndian/Kerguelen\nAfrica/Kampala\nAmerica/Resolute\nIndian/Christmas\nNZ-CHAT\nEurope/Lisbon\nAfrica/Asmara\nEurope/Tiraspol\nAsia/Yerevan\nEurope/Busingen\nAustralia/Tasmania\nAfrica/Juba\nAsia/Chita\nAsia/Calcutta\nAmerica/Bahia\nEurope/Vienna\nEurope/Monaco\nBrazil/Acre\nPacific/Saipan\nAsia/Bahrain\nAsia/Dushanbe\nAmerica/Kentucky/Louisville\nAsia/Famagusta\nEurope/Skopje\nAsia/Hong_Kong\nAmerica/Creston\nEtc/UTC\nAmerica/Godthab\nWET\nAsia/Vladivostok\nEtc/GMT-7\nAustralia/Hobart\nEurope/Athens\nAmerica/Nipigon\nPacific/Chuuk\nAmerica/Montserrat\nEtc/GMT+4\nEurope/Budapest\nAsia/Qostanay\nAmerica/Cayenne\nAmerica/Menominee\nAsia/Barnaul\nAmerica/Cancun\nEurope/Vaduz\nAmerica/Antigua\nAmerica/Boise\nAmerica/Martinique\nAmerica/Atikokan\nAmerica/Kentucky/Monticello\nAmerica/Regina\nAmerica/Costa_Rica\nAfrica/Malabo\nEurope/Helsinki\nAsia/Harbin\nAmerica/Guadeloupe\nAmerica/Argentina/Ushuaia\nAmerica/Indiana/Indianapolis\nAfrica/Lagos\nAmerica/Belem\nAmerica/Cordoba\nAfrica/Nouakchott\nAsia/Ust-Nera\nEtc/GMT+2\nAsia/Magadan\nPacific/Efate\nAsia/Novokuznetsk\nPacific/Noumea\nEurope/Saratov\nAmerica/Thule\nEurope/Moscow\nIndian/Mahe\nAsia/Dili\nAmerica/Vancouver\nChile/Continental\nAsia/Kuwait\nAmerica/North_Dakota/New_Salem\nPoland\nAsia/Ulaanbaatar\nAsia/Baku\nAsia/Yakutsk\nEurope/Belfast\nPacific/Auckland\nAmerica/Kralendijk\nPacific/Palau\nAsia/Taipei\nAmerica/St_Barthelemy\nAmerica/Port_of_Spain\nBrazil/East\nAsia/Thimbu\nAfrica/Gaborone\nAmerica/Noronha\nEtc/GMT+3\nAmerica/Indiana/Winamac\nUniversal\nEurope/London\nlocaltime\nAsia/Tbilisi\nAmerica/Edmonton\nAmerica/Anguilla\nAmerica/Mazatlan\nAmerica/La_Paz\nPacific/Norfolk\nAsia/Irkutsk\nPRC\nEtc/GMT+10\nAmerica/Puerto_Rico\nAsia/Colombo\nROK\nAsia/Ulan_Bator\nAmerica/Ciudad_Juarez\nAfrica/Djibouti\nAustralia/West\nAfrica/Addis_Ababa\nAmerica/Argentina/San_Juan\nEurope/Isle_of_Man\nAsia/Atyrau\nGB\nNavajo\nAmerica/Santa_Isabel\nHongkong\nPacific/Truk\nEurope/Vilnius\nJapan\nAsia/Almaty\nEtc/GMT+11\nAfrica/Conakry\nAsia/Amman\nAtlantic/Azores\nAmerica/Blanc-Sablon\nAmerica/Belize\nEurope/Brussels\nEurope/San_Marino\nAfrica/Nairobi\nAsia/Pyongyang\nAsia/Jayapura\nIndian/Mayotte\nAmerica/Dominica\nAustralia/Queensland\nUS/Samoa\nAmerica/Fort_Wayne\nAmerica/St_Johns\nPST8PDT\nJamaica\nAmerica/Lima\nAmerica/Sitka\nAsia/Tashkent\nROC\nAfrica/Mbabane\nAmerica/Dawson\nAsia/Saigon\nPacific/Tarawa\nMexico/BajaSur\nAustralia/Sydney\nAmerica/Denver\nPacific/Ponape\nIceland\nEurope/Guernsey\nAfrica/Ndjamena\nAmerica/Chihuahua\nAmerica/Mendoza\nAmerica/Paramaribo\nEtc/GMT-3\nEST5EDT\nMST7MDT\nAsia/Tomsk\nAmerica/Rio_Branco\nAmerica/Montreal\nAmerica/Yakutat\nAfrica/El_Aaiun\nGB-Eire\nAmerica/North_Dakota/Center\nAfrica/Luanda\nAustralia/Yancowinna\nAfrica/Kinshasa\nEET\nAmerica/Nassau\nPacific/Wake\nAmerica/Rankin_Inlet\nAustralia/Currie\nUTC\nAsia/Kuala_Lumpur\n"
     ]
    }
   ],
   "source": [
    "zone_list = []\n",
    "for z in available_timezones():\n",
    "    zone_list.append(z)\n",
    "    print(z)"
   ]
  },
  {
   "cell_type": "code",
   "execution_count": 0,
   "metadata": {
    "application/vnd.databricks.v1+cell": {
     "cellMetadata": {
      "byteLimit": 2048000,
      "rowLimit": 10000
     },
     "inputWidgets": {},
     "nuid": "9b658602-2cbb-432a-bd47-1c205812264e",
     "showTitle": true,
     "tableResultSettingsMap": {},
     "title": "convert timezones"
    }
   },
   "outputs": [
    {
     "output_type": "stream",
     "name": "stdout",
     "output_type": "stream",
     "text": [
      "2023-05-05 12:00:00 None\n2023-05-05 08:00:00-04:00 EDT\n"
     ]
    }
   ],
   "source": [
    "# create datetime object for May 5, 2023 12:00 PM\n",
    "dt = datetime(2023, 5, 5, 12, 0)\n",
    "print(dt, dt.tzname())\n",
    "\n",
    "# associate the datetime object with the New York timezone\n",
    "my_tz = ZoneInfo('America/New_York')\n",
    "dt_ny = dt.astimezone(my_tz)\n",
    "\n",
    "# print the datetime object in the New York timezone\n",
    "print(dt_ny, dt_ny.tzname())"
   ]
  },
  {
   "cell_type": "code",
   "execution_count": 0,
   "metadata": {
    "application/vnd.databricks.v1+cell": {
     "cellMetadata": {
      "byteLimit": 2048000,
      "rowLimit": 10000
     },
     "inputWidgets": {},
     "nuid": "ab5b33c3-eb72-40fc-af75-0cd983298709",
     "showTitle": false,
     "tableResultSettingsMap": {},
     "title": ""
    }
   },
   "outputs": [
    {
     "output_type": "stream",
     "name": "stdout",
     "output_type": "stream",
     "text": [
      "Timezone: 2025-03-22 13:20:26.114356 None\nTimezone for America/New_York:  2025-03-22 09:20:26.114814-04:00 EDT\nUTC Offset: -1 day, 20:00:00\nDST Offset: 1:00:00\n"
     ]
    }
   ],
   "source": [
    "now = datetime.now()\n",
    "print(\"Timezone:\", now, now.tzname())\n",
    "\n",
    "# retrieve information about the New York timezone\n",
    "my_tz = ZoneInfo('America/New_York')\n",
    "\n",
    "# Get the current time in New York (timezone-aware)\n",
    "now_ny = datetime.now(my_tz)\n",
    "print(\"Timezone for America/New_York: \", now_ny, now_ny.tzname())\n",
    "\n",
    "# Print the timezone name, offset from UTC, and daylight saving time rules\n",
    "print(\"UTC Offset:\", now_ny.utcoffset())   # Offset from UTC\n",
    "print(\"DST Offset:\", now_ny.dst())         # Daylight Saving Time (DST) offset"
   ]
  },
  {
   "cell_type": "code",
   "execution_count": 0,
   "metadata": {
    "application/vnd.databricks.v1+cell": {
     "cellMetadata": {
      "byteLimit": 2048000,
      "rowLimit": 10000
     },
     "inputWidgets": {},
     "nuid": "86adb715-c07b-4b59-baa9-5cbda3b222fa",
     "showTitle": true,
     "tableResultSettingsMap": {},
     "title": "tzinfo=None"
    }
   },
   "outputs": [
    {
     "output_type": "stream",
     "name": "stdout",
     "output_type": "stream",
     "text": [
      "2020-11-01 05:20:40.002344 None\n2020-11-01 05:20:40.002344 None\n"
     ]
    },
    {
     "output_type": "execute_result",
     "data": {
      "text/plain": [
       "datetime.datetime(2020, 11, 1, 5, 20, 40, 2344)"
      ]
     },
     "execution_count": 5,
     "metadata": {},
     "output_type": "execute_result"
    }
   ],
   "source": [
    "dt_local = datetime(year=2020, month=11, day=1, hour=5, minute=20, second=40, microsecond=2344)\n",
    "dt_naive = datetime(year=2020, month=11, day=1, hour=5, minute=20, second=40, microsecond=2344, tzinfo=None)\n",
    "\n",
    "print(dt_local, dt_local.tzname())\n",
    "print(dt_naive, dt_naive.tzname())\n",
    "dt_naive"
   ]
  },
  {
   "cell_type": "code",
   "execution_count": 0,
   "metadata": {
    "application/vnd.databricks.v1+cell": {
     "cellMetadata": {
      "byteLimit": 2048000,
      "rowLimit": 10000
     },
     "inputWidgets": {},
     "nuid": "19147d81-9b5b-4ef7-b7d8-f45fc19a97a3",
     "showTitle": true,
     "tableResultSettingsMap": {},
     "title": "tzinfo=timezone.utc"
    }
   },
   "outputs": [
    {
     "output_type": "stream",
     "name": "stdout",
     "output_type": "stream",
     "text": [
      "Local_datetime:  2020-11-01 05:20:40.002344 None\nNaive_datetime:  2020-11-01 05:20:40.002344+00:00 UTC\n"
     ]
    }
   ],
   "source": [
    "dt_local = datetime(year=2020, month=11, day=1, hour=5, minute=20, second=40, microsecond=2344)\n",
    "dt_na = datetime(year=2020, month=11, day=1, hour=5, minute=20, second=40, microsecond=2344, tzinfo=timezone.utc)\n",
    "\n",
    "print(\"Local_datetime: \", dt_local, dt_local.tzname())\n",
    "print(\"Naive_datetime: \", dt_na, dt_na.tzname())"
   ]
  },
  {
   "cell_type": "code",
   "execution_count": 0,
   "metadata": {
    "application/vnd.databricks.v1+cell": {
     "cellMetadata": {
      "byteLimit": 2048000,
      "rowLimit": 10000
     },
     "inputWidgets": {},
     "nuid": "185168e2-e4ae-46be-b5ab-e1929d61cf71",
     "showTitle": true,
     "tableResultSettingsMap": {},
     "title": "Customize timezone of New_York using timedelta"
    }
   },
   "outputs": [
    {
     "output_type": "stream",
     "name": "stdout",
     "output_type": "stream",
     "text": [
      "2020-11-01 05:20:40.002344-04:00\nNew_York\n"
     ]
    }
   ],
   "source": [
    "my_timezone = timezone(timedelta(hours=-4), name=\"New_York\")\n",
    "dt_object_aware = datetime(year=2020, month=11, day=1, hour=5, minute=20, second=40, microsecond=2344, tzinfo=my_timezone)\n",
    "\n",
    "print(dt_object_aware)\n",
    "print(dt_object_aware.tzname())"
   ]
  },
  {
   "cell_type": "code",
   "execution_count": 0,
   "metadata": {
    "application/vnd.databricks.v1+cell": {
     "cellMetadata": {
      "byteLimit": 2048000,
      "rowLimit": 10000
     },
     "inputWidgets": {},
     "nuid": "218dadb4-3d4b-462a-97bf-8da14ece1ae2",
     "showTitle": true,
     "tableResultSettingsMap": {},
     "title": "tzinfo=ZoneInfo('America/New_York')"
    }
   },
   "outputs": [
    {
     "output_type": "stream",
     "name": "stdout",
     "output_type": "stream",
     "text": [
      "2025-11-01 05:20:40.002344-04:00\nEDT\n"
     ]
    }
   ],
   "source": [
    "dt_object_aware = datetime(year=2025, month=11, day=1, hour=5, minute=20, second=40, microsecond=2344, tzinfo=ZoneInfo('America/New_York'))\n",
    "\n",
    "print(dt_object_aware)\n",
    "print(dt_object_aware.tzname())"
   ]
  },
  {
   "cell_type": "code",
   "execution_count": 0,
   "metadata": {
    "application/vnd.databricks.v1+cell": {
     "cellMetadata": {
      "byteLimit": 2048000,
      "rowLimit": 10000
     },
     "inputWidgets": {},
     "nuid": "da84d7cb-d8f5-49a2-b6f5-48f23bfe0a21",
     "showTitle": true,
     "tableResultSettingsMap": {},
     "title": "day light"
    }
   },
   "outputs": [
    {
     "output_type": "stream",
     "name": "stdout",
     "output_type": "stream",
     "text": [
      "2025-03-01 05:20:40.002344-05:00\nEST\n"
     ]
    }
   ],
   "source": [
    "dt_object_aware = datetime(year=2025, month=3, day=1, hour=5, minute=20, second=40, microsecond=2344, tzinfo=ZoneInfo('America/New_York'))\n",
    "\n",
    "print(dt_object_aware)\n",
    "print(dt_object_aware.tzname())"
   ]
  },
  {
   "cell_type": "markdown",
   "metadata": {
    "application/vnd.databricks.v1+cell": {
     "cellMetadata": {},
     "inputWidgets": {},
     "nuid": "f35541cb-b650-4e25-96d7-e2e7c2d29f9e",
     "showTitle": false,
     "tableResultSettingsMap": {},
     "title": ""
    }
   },
   "source": [
    "- we should never use **customized method** and always use zoneinfo library."
   ]
  },
  {
   "cell_type": "markdown",
   "metadata": {
    "application/vnd.databricks.v1+cell": {
     "cellMetadata": {},
     "inputWidgets": {},
     "nuid": "fe4f0164-e064-4369-91b5-c4de1db67eec",
     "showTitle": false,
     "tableResultSettingsMap": {},
     "title": ""
    }
   },
   "source": [
    "     datetime.now(ZoneInfo(\"Europe/Paris\"))\n",
    "                      (or)\n",
    "     datetime.now(tz=ZoneInfo(\"Europe/Paris\"))"
   ]
  },
  {
   "cell_type": "code",
   "execution_count": 0,
   "metadata": {
    "application/vnd.databricks.v1+cell": {
     "cellMetadata": {
      "byteLimit": 2048000,
      "rowLimit": 10000
     },
     "inputWidgets": {},
     "nuid": "4b0ed54e-6f68-4a27-93f4-b0d5026aa4a5",
     "showTitle": true,
     "tableResultSettingsMap": {},
     "title": "Print \"Paris\" timezone"
    }
   },
   "outputs": [
    {
     "output_type": "stream",
     "name": "stdout",
     "output_type": "stream",
     "text": [
      "2025-03-20 04:11:58.893700+01:00\nCET\n"
     ]
    }
   ],
   "source": [
    "paris = datetime.now(tz=ZoneInfo(\"Europe/Paris\"))\n",
    "\n",
    "print(paris)\n",
    "print(paris.tzname())"
   ]
  },
  {
   "cell_type": "code",
   "execution_count": 0,
   "metadata": {
    "application/vnd.databricks.v1+cell": {
     "cellMetadata": {
      "byteLimit": 2048000,
      "rowLimit": 10000
     },
     "inputWidgets": {},
     "nuid": "5bbde7d6-3684-4213-a6c9-35ac10069555",
     "showTitle": true,
     "tableResultSettingsMap": {},
     "title": "Print \"Berlin\" timezone"
    }
   },
   "outputs": [
    {
     "output_type": "stream",
     "name": "stdout",
     "output_type": "stream",
     "text": [
      "2025-03-20 04:11:55.781181+01:00\nCET\n"
     ]
    }
   ],
   "source": [
    "berlin = datetime.now(ZoneInfo(\"Europe/Berlin\"))\n",
    "\n",
    "print(berlin)\n",
    "print(berlin.tzname())"
   ]
  },
  {
   "cell_type": "code",
   "execution_count": 0,
   "metadata": {
    "application/vnd.databricks.v1+cell": {
     "cellMetadata": {
      "byteLimit": 2048000,
      "rowLimit": 10000
     },
     "inputWidgets": {},
     "nuid": "53d93640-a60c-462b-8aed-e446420af2ea",
     "showTitle": true,
     "tableResultSettingsMap": {},
     "title": "Print \"New_York\" timezone"
    }
   },
   "outputs": [
    {
     "output_type": "stream",
     "name": "stdout",
     "output_type": "stream",
     "text": [
      "2025-03-19 23:12:01.995654-04:00\nEDT\n"
     ]
    }
   ],
   "source": [
    "New_York = datetime.now(tz=ZoneInfo(\"America/New_York\"))\n",
    "\n",
    "print(New_York)\n",
    "print(New_York.tzname())"
   ]
  },
  {
   "cell_type": "code",
   "execution_count": 0,
   "metadata": {
    "application/vnd.databricks.v1+cell": {
     "cellMetadata": {
      "byteLimit": 2048000,
      "rowLimit": 10000
     },
     "inputWidgets": {},
     "nuid": "d29da353-cef8-4bd4-a4f5-03c020cd3462",
     "showTitle": true,
     "tableResultSettingsMap": {},
     "title": "Print \"Singapore\" timezone"
    }
   },
   "outputs": [
    {
     "output_type": "stream",
     "name": "stdout",
     "output_type": "stream",
     "text": [
      "2025-03-22 21:33:53.998047+08:00\n+08\n"
     ]
    }
   ],
   "source": [
    "sinp = datetime.now(tz=ZoneInfo(\"Singapore\"))\n",
    "\n",
    "print(sinp)\n",
    "print(sinp.tzname())"
   ]
  },
  {
   "cell_type": "code",
   "execution_count": 0,
   "metadata": {
    "application/vnd.databricks.v1+cell": {
     "cellMetadata": {
      "byteLimit": 2048000,
      "rowLimit": 10000
     },
     "inputWidgets": {},
     "nuid": "b9e0be52-6afe-4059-8af3-e0e27bd0f280",
     "showTitle": true,
     "tableResultSettingsMap": {},
     "title": "Print \"Indian/Mahe\" timezone"
    }
   },
   "outputs": [
    {
     "output_type": "stream",
     "name": "stdout",
     "output_type": "stream",
     "text": [
      "2025-03-22 17:35:10.017200+04:00\n+04\n"
     ]
    }
   ],
   "source": [
    "ind = datetime.now(tz=ZoneInfo(\"Indian/Mahe\"))\n",
    "\n",
    "print(ind)\n",
    "print(ind.tzname())"
   ]
  }
 ],
 "metadata": {
  "application/vnd.databricks.v1+notebook": {
   "computePreferences": null,
   "dashboards": [],
   "environmentMetadata": {
    "base_environment": "",
    "client": "1"
   },
   "language": "python",
   "notebookMetadata": {
    "pythonIndentUnit": 4
   },
   "notebookName": "29_How to use function zoneinfo in Python",
   "widgets": {}
  }
 },
 "nbformat": 4,
 "nbformat_minor": 0
}
