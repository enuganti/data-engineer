{
 "cells": [
  {
   "cell_type": "markdown",
   "metadata": {
    "application/vnd.databricks.v1+cell": {
     "cellMetadata": {},
     "inputWidgets": {},
     "nuid": "e3401ef5-4dfe-460f-9a0c-1d0bb698e21e",
     "showTitle": false,
     "tableResultSettingsMap": {},
     "title": ""
    }
   },
   "source": [
    "#### **Replace**\n",
    "\n",
    "✅ The **replace()** method in Python’s **datetime module** allows you to create a **new datetime object** with **specific attributes modified** while keeping the **rest unchanged**.\n",
    "\n",
    "✅ This is useful for **adjusting parts of a datetime**, such as **changing the time, date, or timezone** without **affecting other components**.\n",
    "\n",
    "✅ replace() is **immutable** (it returns a **new object, does not modify the original**).\n",
    "\n",
    "✅ Useful for **partial updates of a datetime**.\n",
    "\n",
    "✅ Does not **automatically convert timezones**, only sets **tzinfo**."
   ]
  },
  {
   "cell_type": "markdown",
   "metadata": {
    "application/vnd.databricks.v1+cell": {
     "cellMetadata": {},
     "inputWidgets": {},
     "nuid": "2ed30319-82f4-4c1a-bb68-35b5df179227",
     "showTitle": false,
     "tableResultSettingsMap": {},
     "title": ""
    }
   },
   "source": [
    "**Key Purposes of replace() in datetime Objects**\n",
    "\n",
    "1) Modify **Specific Parts** of a **datetime**\n",
    "\n",
    "   - Change the **year, month, or time** while keeping other values **intact**.\n",
    "\n",
    "2) Set or Change Timezone **(tzinfo)**\n",
    "\n",
    "   - Assign a timezone to a **naive datetime object**.\n",
    "\n",
    "3) Normalize or Reset Time Components\n",
    "\n",
    "   - Set the time to **midnight for date-only** operations.\n",
    "\n",
    "4) Standardizing Datetime Formatting\n",
    "\n",
    "   - Force a **datetime** to always have certain **fixed values** for consistency."
   ]
  },
  {
   "cell_type": "markdown",
   "metadata": {
    "application/vnd.databricks.v1+cell": {
     "cellMetadata": {},
     "inputWidgets": {},
     "nuid": "848b4391-102c-4c08-8fcf-f936c74ddf4c",
     "showTitle": false,
     "tableResultSettingsMap": {},
     "title": ""
    }
   },
   "source": [
    "- **replace(tzinfo=ZoneInfo(...))** → Assigns a timezone **without changing the time**.\n",
    "\n",
    "- **astimezone(ZoneInfo(...))** → Converts **time to another timezone** correctly.\n",
    "\n",
    "- **strftime()** → Formats timestamps in **ISO 8601 format (yyyy-MM-ddTHH:mm:ss.SSSZ)**."
   ]
  },
  {
   "cell_type": "markdown",
   "metadata": {
    "application/vnd.databricks.v1+cell": {
     "cellMetadata": {},
     "inputWidgets": {},
     "nuid": "450df62a-3804-4a28-a75d-ba3b64826e28",
     "showTitle": false,
     "tableResultSettingsMap": {},
     "title": ""
    }
   },
   "source": [
    "#### **1) Changing Date (Year, Month, or Day)**"
   ]
  },
  {
   "cell_type": "code",
   "execution_count": 0,
   "metadata": {
    "application/vnd.databricks.v1+cell": {
     "cellMetadata": {
      "byteLimit": 2048000,
      "rowLimit": 10000
     },
     "inputWidgets": {},
     "nuid": "b26b2b0f-2dfa-4408-aa1b-9aea296f6cdd",
     "showTitle": true,
     "tableResultSettingsMap": {},
     "title": "Changing Specific date Components"
    }
   },
   "outputs": [
    {
     "output_type": "stream",
     "name": "stdout",
     "output_type": "stream",
     "text": [
      "2002-12-31\n"
     ]
    },
    {
     "output_type": "execute_result",
     "data": {
      "text/plain": [
       "datetime.date(2002, 12, 26)"
      ]
     },
     "execution_count": 2,
     "metadata": {},
     "output_type": "execute_result"
    }
   ],
   "source": [
    "from datetime import date\n",
    "d = date(2002, 12, 31)\n",
    "print(d)\n",
    "d.replace(day=26) # changing day from 31 to 26"
   ]
  },
  {
   "cell_type": "code",
   "execution_count": 0,
   "metadata": {
    "application/vnd.databricks.v1+cell": {
     "cellMetadata": {
      "byteLimit": 2048000,
      "rowLimit": 10000
     },
     "inputWidgets": {},
     "nuid": "f925a1d1-e962-4463-9b06-0f421e94ab16",
     "showTitle": true,
     "tableResultSettingsMap": {},
     "title": "Changing Specific date Components"
    }
   },
   "outputs": [
    {
     "output_type": "stream",
     "name": "stdout",
     "output_type": "stream",
     "text": [
      "2024-03-22 12:30:45\n2025-03-22 12:30:45\n2024-06-15 12:30:45\n"
     ]
    }
   ],
   "source": [
    "from datetime import datetime\n",
    "\n",
    "dt = datetime(2024, 3, 22, 12, 30, 45)\n",
    "print(dt)\n",
    "\n",
    "# Replace the year\n",
    "new_dt = dt.replace(year=2025)\n",
    "print(new_dt)\n",
    "\n",
    "# Replace the month and day\n",
    "new_dt = dt.replace(month=6, day=15)\n",
    "print(new_dt)"
   ]
  },
  {
   "cell_type": "code",
   "execution_count": 0,
   "metadata": {
    "application/vnd.databricks.v1+cell": {
     "cellMetadata": {
      "byteLimit": 2048000,
      "rowLimit": 10000
     },
     "inputWidgets": {},
     "nuid": "bdac26dc-ae30-419c-9367-6d191b819c95",
     "showTitle": true,
     "tableResultSettingsMap": {},
     "title": "Changing Specific date Components"
    }
   },
   "outputs": [
    {
     "output_type": "stream",
     "name": "stdout",
     "output_type": "stream",
     "text": [
      "Original: 2022-05-15 12:30:00\nModified: 2023-08-20 12:30:00\n"
     ]
    }
   ],
   "source": [
    "from datetime import datetime\n",
    "\n",
    "# Create a datetime object\n",
    "dt = datetime(2022, 5, 15, 12, 30, 0)\n",
    "print(\"Original:\", dt)\n",
    "\n",
    "# Replace the year, month, and day\n",
    "new_dt = dt.replace(year=2023, month=8, day=20)\n",
    "print(\"Modified:\", new_dt)"
   ]
  },
  {
   "cell_type": "markdown",
   "metadata": {
    "application/vnd.databricks.v1+cell": {
     "cellMetadata": {},
     "inputWidgets": {},
     "nuid": "691d96fc-0a1f-4299-b5c2-b616c9ae8d66",
     "showTitle": false,
     "tableResultSettingsMap": {},
     "title": ""
    }
   },
   "source": [
    "#### **2) Changing the Time (Hour, Minute, Second & Microsecond)**\n",
    "\n",
    "**a) Changing Only the Time**"
   ]
  },
  {
   "cell_type": "code",
   "execution_count": 0,
   "metadata": {
    "application/vnd.databricks.v1+cell": {
     "cellMetadata": {
      "byteLimit": 2048000,
      "rowLimit": 10000
     },
     "inputWidgets": {},
     "nuid": "fe79213b-d944-46d9-af5d-105c0badcec0",
     "showTitle": false,
     "tableResultSettingsMap": {},
     "title": ""
    }
   },
   "outputs": [
    {
     "output_type": "stream",
     "name": "stdout",
     "output_type": "stream",
     "text": [
      "2024-03-22 12:30:45\n2024-03-22 08:00:45\n"
     ]
    }
   ],
   "source": [
    "dt = datetime(2024, 3, 22, 12, 30, 45)\n",
    "print(dt)\n",
    "\n",
    "# Change only the hour and minute\n",
    "new_dt = dt.replace(hour=8, minute=0)\n",
    "print(new_dt)"
   ]
  },
  {
   "cell_type": "code",
   "execution_count": 0,
   "metadata": {
    "application/vnd.databricks.v1+cell": {
     "cellMetadata": {
      "byteLimit": 2048000,
      "rowLimit": 10000
     },
     "inputWidgets": {},
     "nuid": "2f243533-fa3d-4451-99ba-2dfa959b4158",
     "showTitle": false,
     "tableResultSettingsMap": {},
     "title": ""
    }
   },
   "outputs": [
    {
     "output_type": "stream",
     "name": "stdout",
     "output_type": "stream",
     "text": [
      "Original: 2022-05-15 12:30:00\nModified: 2022-05-15 18:45:30\n"
     ]
    }
   ],
   "source": [
    "from datetime import datetime\n",
    "\n",
    "# Create a datetime object\n",
    "dt = datetime(2022, 5, 15, 12, 30, 0)\n",
    "print(\"Original:\", dt)\n",
    "\n",
    "# Replace the hour, minute, and second\n",
    "new_dt = dt.replace(hour=18, minute=45, second=30)\n",
    "print(\"Modified:\", new_dt)"
   ]
  },
  {
   "cell_type": "markdown",
   "metadata": {
    "application/vnd.databricks.v1+cell": {
     "cellMetadata": {},
     "inputWidgets": {},
     "nuid": "7b7ca219-0775-4d7e-8586-a37a00eaac0c",
     "showTitle": false,
     "tableResultSettingsMap": {},
     "title": ""
    }
   },
   "source": [
    "**b) Adding Microseconds**"
   ]
  },
  {
   "cell_type": "code",
   "execution_count": 0,
   "metadata": {
    "application/vnd.databricks.v1+cell": {
     "cellMetadata": {
      "byteLimit": 2048000,
      "rowLimit": 10000
     },
     "inputWidgets": {},
     "nuid": "aca33cde-4829-4d4c-98b9-9a80f9fc7897",
     "showTitle": false,
     "tableResultSettingsMap": {},
     "title": ""
    }
   },
   "outputs": [
    {
     "output_type": "stream",
     "name": "stdout",
     "output_type": "stream",
     "text": [
      "2024-03-22 12:30:45\n2024-03-22 12:30:45.500000\n"
     ]
    }
   ],
   "source": [
    "dt = datetime(2024, 3, 22, 12, 30, 45)\n",
    "print(dt)\n",
    "\n",
    "# Add microseconds\n",
    "new_dt = dt.replace(microsecond=500000)\n",
    "print(new_dt)"
   ]
  },
  {
   "cell_type": "code",
   "execution_count": 0,
   "metadata": {
    "application/vnd.databricks.v1+cell": {
     "cellMetadata": {
      "byteLimit": 2048000,
      "rowLimit": 10000
     },
     "inputWidgets": {},
     "nuid": "6165b3aa-b279-41e6-a678-5b8fd797b8ca",
     "showTitle": true,
     "tableResultSettingsMap": {},
     "title": "Normalizing Datetime for Consistency"
    }
   },
   "outputs": [
    {
     "output_type": "stream",
     "name": "stdout",
     "output_type": "stream",
     "text": [
      "2025-03-22 10:45:30.123456\n2025-03-22 10:45:30\n"
     ]
    }
   ],
   "source": [
    "dt = datetime(2025, 3, 22, 10, 45, 30, 123456)\n",
    "print(dt)\n",
    "\n",
    "normalized_dt = dt.replace(microsecond=0)\n",
    "print(normalized_dt)"
   ]
  },
  {
   "cell_type": "markdown",
   "metadata": {
    "application/vnd.databricks.v1+cell": {
     "cellMetadata": {},
     "inputWidgets": {},
     "nuid": "7b325eab-71a1-4e99-8906-abada73c77db",
     "showTitle": false,
     "tableResultSettingsMap": {},
     "title": ""
    }
   },
   "source": [
    "**c) Changing the Time (Hour, Minute, Second, Microsecond)**"
   ]
  },
  {
   "cell_type": "code",
   "execution_count": 0,
   "metadata": {
    "application/vnd.databricks.v1+cell": {
     "cellMetadata": {
      "byteLimit": 2048000,
      "rowLimit": 10000
     },
     "inputWidgets": {},
     "nuid": "81f0d7ae-b3a6-438a-8cb9-fca45e194737",
     "showTitle": false,
     "tableResultSettingsMap": {},
     "title": ""
    }
   },
   "outputs": [
    {
     "output_type": "stream",
     "name": "stdout",
     "output_type": "stream",
     "text": [
      "2024-03-22 14:30:45.500000\n2024-03-22 09:15:00\n"
     ]
    }
   ],
   "source": [
    "dt = datetime(2024, 3, 22, 14, 30, 45, 500000)\n",
    "print(dt)\n",
    "\n",
    "dt_new = dt.replace(hour=9, minute=15, second=0, microsecond=0)\n",
    "print(dt_new)"
   ]
  },
  {
   "cell_type": "markdown",
   "metadata": {
    "application/vnd.databricks.v1+cell": {
     "cellMetadata": {},
     "inputWidgets": {},
     "nuid": "0a8a2b16-4f69-44d3-b8dd-d3bb9d229cc0",
     "showTitle": false,
     "tableResultSettingsMap": {},
     "title": ""
    }
   },
   "source": [
    "**d) Resetting Time to Midnight**"
   ]
  },
  {
   "cell_type": "code",
   "execution_count": 0,
   "metadata": {
    "application/vnd.databricks.v1+cell": {
     "cellMetadata": {
      "byteLimit": 2048000,
      "rowLimit": 10000
     },
     "inputWidgets": {},
     "nuid": "cefd78c1-0439-4dd9-a5c3-954f2d866560",
     "showTitle": false,
     "tableResultSettingsMap": {},
     "title": ""
    }
   },
   "outputs": [
    {
     "output_type": "stream",
     "name": "stdout",
     "output_type": "stream",
     "text": [
      "2025-03-22 14:30:45\n2025-03-22 00:00:00\n"
     ]
    }
   ],
   "source": [
    "dt = datetime(2025, 3, 22, 14, 30, 45)\n",
    "print(dt)\n",
    "\n",
    "midnight_dt = dt.replace(hour=0, minute=0, second=0, microsecond=0)\n",
    "print(midnight_dt)"
   ]
  },
  {
   "cell_type": "markdown",
   "metadata": {
    "application/vnd.databricks.v1+cell": {
     "cellMetadata": {},
     "inputWidgets": {},
     "nuid": "cfb667db-f5a9-432c-8129-2f439d7c6a40",
     "showTitle": false,
     "tableResultSettingsMap": {},
     "title": ""
    }
   },
   "source": [
    "#### **4) Combining Date and Time Replacements**"
   ]
  },
  {
   "cell_type": "code",
   "execution_count": 0,
   "metadata": {
    "application/vnd.databricks.v1+cell": {
     "cellMetadata": {
      "byteLimit": 2048000,
      "rowLimit": 10000
     },
     "inputWidgets": {},
     "nuid": "5399c70b-bca4-445f-b237-fbd11ae08036",
     "showTitle": false,
     "tableResultSettingsMap": {},
     "title": ""
    }
   },
   "outputs": [
    {
     "output_type": "stream",
     "name": "stdout",
     "output_type": "stream",
     "text": [
      "Original: 2022-05-15 12:30:00\nModified: 2024-01-01 00:00:00+00:00\n"
     ]
    }
   ],
   "source": [
    "from datetime import datetime, timezone\n",
    "\n",
    "# Create a datetime object\n",
    "dt = datetime(2022, 5, 15, 12, 30, 0)\n",
    "print(\"Original:\", dt)\n",
    "\n",
    "# Replace date, time, and add timezone information\n",
    "new_dt = dt.replace(year=2024, month=1, day=1, hour=0, minute=0, second=0, tzinfo=timezone.utc)\n",
    "print(\"Modified:\", new_dt)"
   ]
  },
  {
   "cell_type": "markdown",
   "metadata": {
    "application/vnd.databricks.v1+cell": {
     "cellMetadata": {},
     "inputWidgets": {},
     "nuid": "b63e1392-60a7-47cd-b2c1-abcd93f12144",
     "showTitle": false,
     "tableResultSettingsMap": {},
     "title": ""
    }
   },
   "source": [
    "**Note:** \n",
    "- The **replace** method creates a **new datetime object** with the **specified fields replaced**.\n",
    "\n",
    "- It **does not modify** the **original object**."
   ]
  },
  {
   "cell_type": "markdown",
   "metadata": {
    "application/vnd.databricks.v1+cell": {
     "cellMetadata": {},
     "inputWidgets": {},
     "nuid": "f64b3fe5-a4e9-4476-bc19-7eace6600eeb",
     "showTitle": false,
     "tableResultSettingsMap": {},
     "title": ""
    }
   },
   "source": [
    "#### **5) Changing Timezone**"
   ]
  },
  {
   "cell_type": "markdown",
   "metadata": {
    "application/vnd.databricks.v1+cell": {
     "cellMetadata": {},
     "inputWidgets": {},
     "nuid": "4671a80f-b098-4dc8-b5e6-37215af17c06",
     "showTitle": false,
     "tableResultSettingsMap": {},
     "title": ""
    }
   },
   "source": [
    "**a) Removing Timezone Information**"
   ]
  },
  {
   "cell_type": "code",
   "execution_count": 0,
   "metadata": {
    "application/vnd.databricks.v1+cell": {
     "cellMetadata": {
      "byteLimit": 2048000,
      "rowLimit": 10000
     },
     "inputWidgets": {},
     "nuid": "2c5aa656-7887-4171-801f-9801f2c36664",
     "showTitle": false,
     "tableResultSettingsMap": {},
     "title": ""
    }
   },
   "outputs": [
    {
     "output_type": "stream",
     "name": "stdout",
     "output_type": "stream",
     "text": [
      "2024-03-22 14:30:00+00:00\n2024-03-22 14:30:00\n"
     ]
    }
   ],
   "source": [
    "from datetime import datetime, timezone\n",
    "\n",
    "dt = datetime(2024, 3, 22, 14, 30, tzinfo=timezone.utc)\n",
    "print(dt)\n",
    "\n",
    "# Removing timezone info\n",
    "dt_naive = dt.replace(tzinfo=None)\n",
    "print(dt_naive)"
   ]
  },
  {
   "cell_type": "markdown",
   "metadata": {
    "application/vnd.databricks.v1+cell": {
     "cellMetadata": {},
     "inputWidgets": {},
     "nuid": "bad80446-e45f-4810-bcfe-9cef3765e01d",
     "showTitle": false,
     "tableResultSettingsMap": {},
     "title": ""
    }
   },
   "source": [
    "**b) Setting a Different Timezone (Without Converting Time)**"
   ]
  },
  {
   "cell_type": "code",
   "execution_count": 0,
   "metadata": {
    "application/vnd.databricks.v1+cell": {
     "cellMetadata": {
      "byteLimit": 2048000,
      "rowLimit": 10000
     },
     "inputWidgets": {},
     "nuid": "3fcfb48e-b871-4b3d-be56-beb6354ead66",
     "showTitle": true,
     "tableResultSettingsMap": {},
     "title": "Setting a Different Timezone"
    }
   },
   "outputs": [
    {
     "output_type": "stream",
     "name": "stdout",
     "output_type": "stream",
     "text": [
      "2024-03-22 12:30:45\n2024-03-22 12:30:45-05:00 UTC-05:00\n"
     ]
    }
   ],
   "source": [
    "from datetime import datetime, timezone, timedelta\n",
    "\n",
    "dt = datetime(2024, 3, 22, 12, 30, 45)\n",
    "print(dt)\n",
    "\n",
    "tz_offset = timezone(timedelta(hours=-5))  # Assigning EST (UTC-5)\n",
    "\n",
    "dt_tz = dt.replace(tzinfo=tz_offset)\n",
    "print(dt_tz, dt_tz.tzname())"
   ]
  },
  {
   "cell_type": "markdown",
   "metadata": {
    "application/vnd.databricks.v1+cell": {
     "cellMetadata": {},
     "inputWidgets": {},
     "nuid": "720e963f-f13a-43d9-aef8-c3b3873db8d0",
     "showTitle": false,
     "tableResultSettingsMap": {},
     "title": ""
    }
   },
   "source": [
    "**c) Setting a Timezone**\n",
    "\n",
    "- You can add **timezone information** to a **naive datetime object** (one without timezone info)."
   ]
  },
  {
   "cell_type": "code",
   "execution_count": 0,
   "metadata": {
    "application/vnd.databricks.v1+cell": {
     "cellMetadata": {
      "byteLimit": 2048000,
      "rowLimit": 10000
     },
     "inputWidgets": {},
     "nuid": "c171b343-d3f7-4b80-9f55-04a7859452b8",
     "showTitle": false,
     "tableResultSettingsMap": {},
     "title": ""
    }
   },
   "outputs": [
    {
     "output_type": "stream",
     "name": "stdout",
     "output_type": "stream",
     "text": [
      "Before: 2022-05-15 12:30:00 None\nAfter: 2022-05-15 12:30:00+00:00 UTC\n"
     ]
    }
   ],
   "source": [
    "from datetime import datetime, timezone\n",
    "\n",
    "# Create a naive datetime object (without tzinfo)\n",
    "dt = datetime(2022, 5, 15, 12, 30, 0)\n",
    "print(\"Before:\", dt, dt.tzinfo)\n",
    "\n",
    "# Replace the tzinfo with UTC timezone\n",
    "dt_utc = dt.replace(tzinfo=timezone.utc)\n",
    "print(\"After:\", dt_utc, dt_utc.tzinfo)"
   ]
  },
  {
   "cell_type": "code",
   "execution_count": 0,
   "metadata": {
    "application/vnd.databricks.v1+cell": {
     "cellMetadata": {
      "byteLimit": 2048000,
      "rowLimit": 10000
     },
     "inputWidgets": {},
     "nuid": "b89c9a79-3343-4aa1-994f-3c551165c91a",
     "showTitle": true,
     "tableResultSettingsMap": {},
     "title": "Replace today with ZoneInfo"
    }
   },
   "outputs": [
    {
     "output_type": "stream",
     "name": "stdout",
     "output_type": "stream",
     "text": [
      "today(), Without timezone:  2025-03-22 05:36:35.278111 None \n\nnow(), Without timezone:  2025-03-22 05:36:35.279164 None \n\nutcnow(), Without timezone:  2025-03-22 05:36:35.279257 None \n\nnow(), With UTC timezone:  2025-03-22 05:36:35.279164+00:00 UTC \n\ntoday(), With Tokyo timezone:  2025-03-22 05:36:35.278111+09:00 JST \n\ntoday(), With Central timezone:  2025-03-22 05:36:35.278111-05:00 CDT \n\ntoday(), With Chicago timezone:  2025-03-22 05:36:35.278111-05:00 CDT\n"
     ]
    }
   ],
   "source": [
    "from datetime import datetime\n",
    "from zoneinfo import ZoneInfo\n",
    "\n",
    "# Get current local datetime (without timezone)\n",
    "d = datetime.today()\n",
    "print(\"today(), Without timezone: \", d, d.tzname(), '\\n')\n",
    "\n",
    "# Get current UTC time\n",
    "dt = datetime.now()\n",
    "d_utc = datetime.utcnow()\n",
    "print(\"now(), Without timezone: \", dt, dt.tzname(), '\\n')\n",
    "print(\"utcnow(), Without timezone: \", d_utc, d_utc.tzname(), '\\n')\n",
    "\n",
    "d1 = dt.replace(tzinfo=timezone.utc)                     # Assign a UTC timezone\n",
    "d2 = d.replace(tzinfo=ZoneInfo('Asia/Tokyo'))            # Assign a timezone (Asia/Tokyo)\n",
    "d3 = d.replace(tzinfo=ZoneInfo(key='US/Central'))        # Assign a timezone (US/Central)\n",
    "d4 = d.replace(tzinfo=ZoneInfo('America/Chicago'))       # Assign a timezone (America/Chicago)\n",
    "\n",
    "print(\"now(), With UTC timezone: \", d1, d1.tzname(), '\\n')\n",
    "print(\"today(), With Tokyo timezone: \", d2, d2.tzname(), '\\n')\n",
    "print(\"today(), With Central timezone: \", d3, d3.tzname(), '\\n')\n",
    "print(\"today(), With Chicago timezone: \", d4, d4.tzname())"
   ]
  },
  {
   "cell_type": "markdown",
   "metadata": {
    "application/vnd.databricks.v1+cell": {
     "cellMetadata": {},
     "inputWidgets": {},
     "nuid": "04521949-2295-4840-9459-6173266c2921",
     "showTitle": false,
     "tableResultSettingsMap": {},
     "title": ""
    }
   },
   "source": [
    "**Note:**\n",
    "- **replace()** only **attaches a timezone**, it **doesn’t convert the time**."
   ]
  },
  {
   "cell_type": "code",
   "execution_count": 0,
   "metadata": {
    "application/vnd.databricks.v1+cell": {
     "cellMetadata": {
      "byteLimit": 2048000,
      "rowLimit": 10000
     },
     "inputWidgets": {},
     "nuid": "7c0fdf9d-991c-402d-be90-e6c27d3c5c0f",
     "showTitle": true,
     "tableResultSettingsMap": {},
     "title": "Replace current datetime"
    }
   },
   "outputs": [
    {
     "output_type": "stream",
     "name": "stdout",
     "output_type": "stream",
     "text": [
      "2025-03-22 05:31:41.668568 None\n2025-03-22 05:31:41.668568+00:00 UTC\n2025-03-22 05:31:41\n"
     ]
    }
   ],
   "source": [
    "import time\n",
    "from datetime import datetime, timezone\n",
    "\n",
    "dt = datetime.now()\n",
    "print(dt, dt.tzname())\n",
    "\n",
    "utc_time = dt.replace(tzinfo=timezone.utc) # This does not convert time; it only sets the timezone.\n",
    "print(utc_time, utc_time.tzname())\n",
    "\n",
    "strUTCdt = utc_time.strftime(\"%Y-%m-%d %H:%M:%S\")\n",
    "print(strUTCdt)"
   ]
  },
  {
   "cell_type": "code",
   "execution_count": 0,
   "metadata": {
    "application/vnd.databricks.v1+cell": {
     "cellMetadata": {
      "byteLimit": 2048000,
      "rowLimit": 10000
     },
     "inputWidgets": {},
     "nuid": "400452c1-9921-4695-91f9-6df6a8949cf1",
     "showTitle": true,
     "tableResultSettingsMap": {},
     "title": "Replace custom datetime"
    }
   },
   "outputs": [
    {
     "output_type": "stream",
     "name": "stdout",
     "output_type": "stream",
     "text": [
      "2024-03-22 12:30:45 None\n2024-03-22 12:30:45+00:00 UTC\n2024-03-22 12:30:45-05:00 CDT\n"
     ]
    }
   ],
   "source": [
    "# Naive datetime (no timezone)\n",
    "dt = datetime(2024, 3, 22, 12, 30, 45)\n",
    "print(dt, dt.tzname())\n",
    "\n",
    "dt_utc = dt.replace(tzinfo=timezone.utc)  # This does not convert time; it only sets the timezone.\n",
    "print(dt_utc, dt_utc.tzname())\n",
    "\n",
    "dt_Chic = dt.replace(tzinfo=ZoneInfo('America/Chicago'))  # This does not convert time;it only sets the timezone.\n",
    "print(dt_Chic,  dt_Chic.tzname())"
   ]
  },
  {
   "cell_type": "code",
   "execution_count": 0,
   "metadata": {
    "application/vnd.databricks.v1+cell": {
     "cellMetadata": {
      "byteLimit": 2048000,
      "rowLimit": 10000
     },
     "inputWidgets": {},
     "nuid": "e8f04464-4cba-413e-bc3e-1fabdbd04711",
     "showTitle": true,
     "tableResultSettingsMap": {},
     "title": "Handling Timezones with User Input"
    }
   },
   "outputs": [
    {
     "output_type": "stream",
     "name": "stdout",
     "output_type": "stream",
     "text": [
      "User Time (India): 2025-03-20 12:45:00\nUser Time Asia/Kolkata: 2025-03-20 12:45:00+05:30 IST\nConverted to UTC: 2025-03-20 12:45:00+00:00 UTC\n"
     ]
    }
   ],
   "source": [
    "from datetime import datetime\n",
    "from zoneinfo import ZoneInfo\n",
    "\n",
    "# Simulate user input as a string\n",
    "user_time = \"2025-03-20 12:45:00\"\n",
    "\n",
    "# Parse string and set timezone\n",
    "dt = datetime.strptime(user_time, \"%Y-%m-%d %H:%M:%S\")\n",
    "print(\"User Time (India):\", dt)\n",
    "\n",
    "dt_kolk = dt.replace(tzinfo=ZoneInfo(\"Asia/Kolkata\"))\n",
    "print(\"User Time Asia/Kolkata:\", dt_kolk, dt_kolk.tzname())\n",
    "\n",
    "# Convert to UTC\n",
    "dt_utc = dt.astimezone(ZoneInfo(\"UTC\"))\n",
    "print(\"Converted to UTC:\", dt_utc, dt_utc.tzname())"
   ]
  },
  {
   "cell_type": "code",
   "execution_count": 0,
   "metadata": {
    "application/vnd.databricks.v1+cell": {
     "cellMetadata": {
      "byteLimit": 2048000,
      "rowLimit": 10000
     },
     "inputWidgets": {},
     "nuid": "c02544bb-d049-4595-a624-90b68fa2c771",
     "showTitle": false,
     "tableResultSettingsMap": {},
     "title": ""
    }
   },
   "outputs": [
    {
     "output_type": "stream",
     "name": "stdout",
     "output_type": "stream",
     "text": [
      "Customize datetime:  2023-10-20 15:30:00 None\ntimedelta:  UTC-05:00\ntzinfo_None:  2023-10-20 15:30:00 None\ntzinfo_eastern:  2023-10-20 15:30:00-05:00 UTC-05:00\ntzinfo_UTC:  2023-10-20 15:30:00+00:00 UTC\nformatted:  2023-10-20 15:30:00\n"
     ]
    }
   ],
   "source": [
    "from datetime import datetime, timezone, timedelta\n",
    "\n",
    "# create a naive datetime object\n",
    "naive_datetime = datetime(2023, 10, 20, 15, 30)\n",
    "print(\"Customize datetime: \", naive_datetime, naive_datetime.tzname())\n",
    "\n",
    "# define the timezone using timedelta\n",
    "eastern = timezone(timedelta(hours=-5))\n",
    "print(\"timedelta: \", eastern)\n",
    "\n",
    "# Remove the timezone information from the datetime object\n",
    "dt_obj_wo_tz = naive_datetime.replace(tzinfo=None)\n",
    "print(\"tzinfo_None: \", dt_obj_wo_tz, dt_obj_wo_tz.tzname())\n",
    "\n",
    "# Make the datetime object timezone aware\n",
    "aware_datetime = naive_datetime.replace(tzinfo=eastern)\n",
    "print(\"tzinfo_eastern: \", aware_datetime, aware_datetime.tzname())\n",
    "\n",
    "# Add timezone information to the datetime object\n",
    "dt_obj_w_tz = naive_datetime.replace(tzinfo=timezone.utc)\n",
    "print(\"tzinfo_UTC: \", dt_obj_w_tz, dt_obj_w_tz.tzname())\n",
    "\n",
    "strUTCdt = dt_obj_w_tz.strftime(\"%Y-%m-%d %H:%M:%S\")\n",
    "print(\"formatted: \", strUTCdt)"
   ]
  }
 ],
 "metadata": {
  "application/vnd.databricks.v1+notebook": {
   "computePreferences": null,
   "dashboards": [],
   "environmentMetadata": {
    "base_environment": "",
    "client": "1"
   },
   "language": "python",
   "notebookMetadata": {
    "pythonIndentUnit": 4
   },
   "notebookName": "30_How to replace datetime in Python",
   "widgets": {}
  }
 },
 "nbformat": 4,
 "nbformat_minor": 0
}
