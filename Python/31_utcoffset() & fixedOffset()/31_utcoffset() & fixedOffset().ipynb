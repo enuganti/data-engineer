{
 "cells": [
  {
   "cell_type": "markdown",
   "metadata": {
    "application/vnd.databricks.v1+cell": {
     "cellMetadata": {},
     "inputWidgets": {},
     "nuid": "21e513ed-58d3-46e3-b5fa-d6ae77357814",
     "showTitle": false,
     "tableResultSettingsMap": {},
     "title": ""
    }
   },
   "source": [
    "#### **utcoffset()**"
   ]
  },
  {
   "cell_type": "markdown",
   "metadata": {
    "application/vnd.databricks.v1+cell": {
     "cellMetadata": {},
     "inputWidgets": {},
     "nuid": "ee5e1f6f-d84b-4895-a9f8-8e6dded578ee",
     "showTitle": false,
     "tableResultSettingsMap": {},
     "title": ""
    }
   },
   "source": [
    "- Works only with **timezone-aware (i.e., they have a tzinfo attribute)** datetime objects.\n",
    "\n",
    "- Returns **None** if the **datetime object** is **naive (has no timezone info)**.\n",
    "\n",
    "- The **utcoffset()** method in Python is used with **datetime objects** to return the **offset** of the **local time** from **UTC** (Coordinated Universal Time).\n",
    "\n",
    "- This is useful when working with time zones."
   ]
  },
  {
   "cell_type": "markdown",
   "metadata": {
    "application/vnd.databricks.v1+cell": {
     "cellMetadata": {},
     "inputWidgets": {},
     "nuid": "5b01e54f-e47c-4ced-b5c5-73dfe47b9a66",
     "showTitle": false,
     "tableResultSettingsMap": {},
     "title": ""
    }
   },
   "source": [
    "- The **utcoffset()** function is used to return a **timedelta object** that represents the **difference between the local time and UTC time**.\n",
    "\n",
    "  - Here **range** of the **utcoffset** is **“-timedelta(hours=24) <= offset <= timedelta(hours=24)”**.\n",
    "\n",
    "  - If the **offset** is **east of UTC**, then it is considered **positive** and if the **offset** is **west of UTC**, then it is considered **negative**.\n",
    "  \n",
    "  - Since there are **24 hours in a day**, **-timedelta(24) and timedelta(24)** are the **largest** values possible."
   ]
  },
  {
   "cell_type": "markdown",
   "metadata": {
    "application/vnd.databricks.v1+cell": {
     "cellMetadata": {},
     "inputWidgets": {},
     "nuid": "b1798961-e4f6-46c1-bb73-382d161018f4",
     "showTitle": false,
     "tableResultSettingsMap": {},
     "title": ""
    }
   },
   "source": [
    "**Syntax:**\n",
    "\n",
    "     utcoffset()\n",
    "\n",
    "**Parameters:** \n",
    "- This function **does not** accept any **parameter**.\n",
    "\n",
    "**Return values:** \n",
    "- This function returns a **timedelta object** representing the **difference between the local time and UTC time**."
   ]
  },
  {
   "cell_type": "code",
   "execution_count": 0,
   "metadata": {
    "application/vnd.databricks.v1+cell": {
     "cellMetadata": {
      "byteLimit": 2048000,
      "rowLimit": 10000
     },
     "inputWidgets": {},
     "nuid": "e3283d13-0408-4c98-b07e-79d47f958d3b",
     "showTitle": true,
     "tableResultSettingsMap": {},
     "title": "Handling None with Local datettime"
    }
   },
   "outputs": [
    {
     "output_type": "stream",
     "name": "stdout",
     "output_type": "stream",
     "text": [
      "current date & time:  2025-03-23 12:08:35.744786 None None\nutcoffset():  None\n"
     ]
    }
   ],
   "source": [
    "# Importing datetime and pytz module\n",
    "from datetime import datetime\n",
    "import pytz\n",
    "\n",
    "# Calling the now() function to get current date and time\n",
    "dt = datetime.now()\n",
    "print(\"current date & time: \", dt, dt.tzname(), dt.tzinfo)\n",
    "\n",
    "# Calling the utcoffset() function over the above initialized datetime\n",
    "print(\"utcoffset(): \", dt.utcoffset())"
   ]
  },
  {
   "cell_type": "markdown",
   "metadata": {
    "application/vnd.databricks.v1+cell": {
     "cellMetadata": {},
     "inputWidgets": {},
     "nuid": "b7a21981-8cec-44bd-bd5e-9bc384ae5aea",
     "showTitle": false,
     "tableResultSettingsMap": {},
     "title": ""
    }
   },
   "source": [
    "- Here output is **None** because **now()** function returns **date and time in UTC format**, hence the **difference** between the **local time** i.e, returned by now() function and **UTC** time is **none**."
   ]
  },
  {
   "cell_type": "code",
   "execution_count": 0,
   "metadata": {
    "application/vnd.databricks.v1+cell": {
     "cellMetadata": {
      "byteLimit": 2048000,
      "rowLimit": 10000
     },
     "inputWidgets": {},
     "nuid": "bdba3bb4-1b37-430c-8bb3-45a525c24844",
     "showTitle": true,
     "tableResultSettingsMap": {},
     "title": "Handling None (Naive datetime)"
    }
   },
   "outputs": [
    {
     "output_type": "stream",
     "name": "stdout",
     "output_type": "stream",
     "text": [
      "2025-03-22 12:00:00 None None\nNone\n"
     ]
    }
   ],
   "source": [
    "from datetime import datetime\n",
    "\n",
    "# Naive datetime (no tzinfo)\n",
    "naive_dt = datetime(2025, 3, 22, 12, 0, 0)\n",
    "print(naive_dt, naive_dt.tzname(), naive_dt.tzinfo)\n",
    "\n",
    "# Since this datetime has no timezone information, utcoffset() returns None\n",
    "print(naive_dt.utcoffset())"
   ]
  },
  {
   "cell_type": "code",
   "execution_count": 0,
   "metadata": {
    "application/vnd.databricks.v1+cell": {
     "cellMetadata": {
      "byteLimit": 2048000,
      "rowLimit": 10000
     },
     "inputWidgets": {},
     "nuid": "5b001cec-0f36-439a-8519-b754c547f7c8",
     "showTitle": true,
     "tableResultSettingsMap": {},
     "title": "utcoffset() with UTC timezone"
    }
   },
   "outputs": [
    {
     "output_type": "stream",
     "name": "stdout",
     "output_type": "stream",
     "text": [
      "2025-03-22 12:00:00+00:00 UTC\n0:00:00\n"
     ]
    }
   ],
   "source": [
    "from datetime import datetime, timezone\n",
    "\n",
    "# Aware datetime in UTC\n",
    "utc_dt = datetime(2025, 3, 22, 12, 0, 0, tzinfo=timezone.utc)\n",
    "print(utc_dt, utc_dt.tzname())\n",
    "\n",
    "# Since this datetime is in UTC, the offset from UTC is zero\n",
    "print(utc_dt.utcoffset())"
   ]
  },
  {
   "cell_type": "markdown",
   "metadata": {
    "application/vnd.databricks.v1+cell": {
     "cellMetadata": {},
     "inputWidgets": {},
     "nuid": "04839f2d-8cc3-44db-aa4d-0c30f9851a7e",
     "showTitle": false,
     "tableResultSettingsMap": {},
     "title": ""
    }
   },
   "source": [
    "- A datetime with **tzinfo=timezone.utc** has an **offset of 0 hours** relative to **UTC**, so **utcoffset()** returns **timedelta(0)**."
   ]
  },
  {
   "cell_type": "code",
   "execution_count": 0,
   "metadata": {
    "application/vnd.databricks.v1+cell": {
     "cellMetadata": {
      "byteLimit": 2048000,
      "rowLimit": 10000
     },
     "inputWidgets": {},
     "nuid": "0efe6e31-cffa-47e6-bb23-b1d9b5c45f7f",
     "showTitle": true,
     "tableResultSettingsMap": {},
     "title": "Getting the UTC Offset of a Timezone"
    }
   },
   "outputs": [
    {
     "output_type": "stream",
     "name": "stdout",
     "output_type": "stream",
     "text": [
      "2025-03-23 12:15:45.792619\n2025-03-23 21:15:45.811934+09:00\nUTC Offset for Tokyo: 9:00:00\n"
     ]
    }
   ],
   "source": [
    "from datetime import datetime\n",
    "import pytz\n",
    "\n",
    "dt = datetime.now()\n",
    "print(dt)\n",
    "\n",
    "# Get current time in that timezone\n",
    "now = datetime.now(pytz.timezone('Asia/Tokyo'))\n",
    "print(now)\n",
    "\n",
    "# Get UTC offset\n",
    "utc_offset = now.utcoffset()\n",
    "print(\"UTC Offset for Tokyo:\", utc_offset)"
   ]
  },
  {
   "cell_type": "code",
   "execution_count": 0,
   "metadata": {
    "application/vnd.databricks.v1+cell": {
     "cellMetadata": {
      "byteLimit": 2048000,
      "rowLimit": 10000
     },
     "inputWidgets": {},
     "nuid": "3b9e6655-f259-432f-a740-8b4d669498fe",
     "showTitle": false,
     "tableResultSettingsMap": {},
     "title": ""
    }
   },
   "outputs": [
    {
     "output_type": "stream",
     "name": "stdout",
     "output_type": "stream",
     "text": [
      "2024-03-22 12:00:00-05:00 UTC-05:00 UTC-05:00\nEST Offset: -1 day, 19:00:00\n"
     ]
    }
   ],
   "source": [
    "from datetime import datetime, timedelta\n",
    "\n",
    "# Create a timezone with a 5-hour offset (e.g., EST without daylight saving)\n",
    "est = timezone(timedelta(hours=-5))\n",
    "dt_est = datetime(2024, 3, 22, 12, 0, tzinfo=est)\n",
    "\n",
    "print(dt_est, dt_est.tzname(), dt_est.tzinfo)\n",
    "print(\"EST Offset:\", dt_est.utcoffset())"
   ]
  },
  {
   "cell_type": "code",
   "execution_count": 0,
   "metadata": {
    "application/vnd.databricks.v1+cell": {
     "cellMetadata": {
      "byteLimit": 2048000,
      "rowLimit": 10000
     },
     "inputWidgets": {},
     "nuid": "cd1d1eab-4aea-4136-bdf0-a60e2d0efc47",
     "showTitle": true,
     "tableResultSettingsMap": {},
     "title": "utcoffset() with a timezone-aware datetime"
    }
   },
   "outputs": [
    {
     "output_type": "stream",
     "name": "stdout",
     "output_type": "stream",
     "text": [
      "2024-03-22 12:00:00+05:30 UTC+05:30 UTC+05:30\n5:30:00\n"
     ]
    }
   ],
   "source": [
    "from datetime import datetime, timezone, timedelta\n",
    "\n",
    "# Define a timezone with UTC+5:30 offset\n",
    "tz_530 = timezone(timedelta(hours=5, minutes=30))\n",
    "\n",
    "# Create a timezone-aware datetime object\n",
    "dt = datetime(2024, 3, 22, 12, 0, tzinfo=tz_530)\n",
    "print(dt, dt.tzname(), dt.tzinfo)\n",
    "\n",
    "# Get the UTC offset\n",
    "print(dt.utcoffset())"
   ]
  },
  {
   "cell_type": "code",
   "execution_count": 0,
   "metadata": {
    "application/vnd.databricks.v1+cell": {
     "cellMetadata": {
      "byteLimit": 2048000,
      "rowLimit": 10000
     },
     "inputWidgets": {},
     "nuid": "6267b5a5-f43b-4be8-a8e5-3836c4c23762",
     "showTitle": true,
     "tableResultSettingsMap": {},
     "title": "Using astimezone() and then Calling utcoffset()"
    }
   },
   "outputs": [
    {
     "output_type": "stream",
     "name": "stdout",
     "output_type": "stream",
     "text": [
      "2025-03-22 12:00:00+00:00 UTC UTC\n2025-03-22 07:00:00-05:00 UTC-05:00 UTC-05:00\n-1 day, 19:00:00\n"
     ]
    }
   ],
   "source": [
    "from datetime import datetime, timezone, timedelta\n",
    "\n",
    "# Start with a UTC datetime\n",
    "utc_dt = datetime(2025, 3, 22, 12, 0, 0, tzinfo=timezone.utc)\n",
    "print(utc_dt, utc_dt.tzname(), utc_dt.tzinfo)\n",
    "\n",
    "# Convert it to another time zone (e.g., UTC-5)\n",
    "utc_minus_5 = timezone(timedelta(hours=-5))\n",
    "dt_converted = utc_dt.astimezone(utc_minus_5)\n",
    "print(dt_converted, dt_converted.tzname(), dt_converted.tzinfo)\n",
    "\n",
    "# Now check the offset in the new time zone\n",
    "print(dt_converted.utcoffset())"
   ]
  },
  {
   "cell_type": "markdown",
   "metadata": {
    "application/vnd.databricks.v1+cell": {
     "cellMetadata": {},
     "inputWidgets": {},
     "nuid": "fdc13c85-c78f-444f-ab75-af641a544df1",
     "showTitle": false,
     "tableResultSettingsMap": {},
     "title": ""
    }
   },
   "source": [
    "- We start with a UTC datetime.\n",
    "\n",
    "- We use **.astimezone()** to convert it to **UTC-5**.\n",
    "\n",
    "- The **utcoffset()** now shows **-5 hours from UTC** (in **Python**, sometimes it shows as **-1 day, 19:00:00** which is mathematically the same as **-5:00:00**)."
   ]
  },
  {
   "cell_type": "code",
   "execution_count": 0,
   "metadata": {
    "application/vnd.databricks.v1+cell": {
     "cellMetadata": {
      "byteLimit": 2048000,
      "rowLimit": 10000
     },
     "inputWidgets": {},
     "nuid": "03f15bbb-07d7-435f-9d86-25e8cdf22172",
     "showTitle": true,
     "tableResultSettingsMap": {},
     "title": "utcoffset() with pytz (better for handling DST)"
    }
   },
   "outputs": [
    {
     "output_type": "stream",
     "name": "stdout",
     "output_type": "stream",
     "text": [
      "2024-03-22 12:00:00-04:00\n-1 day, 20:00:00\n"
     ]
    }
   ],
   "source": [
    "from datetime import datetime\n",
    "import pytz\n",
    "\n",
    "# Get a timezone (New York)\n",
    "ny_tz = pytz.timezone(\"America/New_York\")\n",
    "\n",
    "# Create a timezone-aware datetime\n",
    "dt_ny = ny_tz.localize(datetime(2024, 3, 22, 12, 0))\n",
    "print(dt_ny)\n",
    "\n",
    "# Get the UTC offset\n",
    "print(dt_ny.utcoffset())"
   ]
  },
  {
   "cell_type": "code",
   "execution_count": 0,
   "metadata": {
    "application/vnd.databricks.v1+cell": {
     "cellMetadata": {
      "byteLimit": 2048000,
      "rowLimit": 10000
     },
     "inputWidgets": {},
     "nuid": "98a6a765-8b7d-415e-a081-9954bd664aa3",
     "showTitle": true,
     "tableResultSettingsMap": {},
     "title": "Finding the offset of time"
    }
   },
   "outputs": [
    {
     "output_type": "stream",
     "name": "stdout",
     "output_type": "stream",
     "text": [
      "current date & time:  2025-03-23 12:25:24.518672 None None\n2025-03-23 12:25:24.518672+05:30\nTime ahead of UTC by: 5:30:00\n"
     ]
    }
   ],
   "source": [
    "# difference between the local time and UTC time\n",
    "\n",
    "# Importing datetime and pytz module\n",
    "from datetime import datetime\n",
    "import pytz\n",
    "\n",
    "# Calling the now() function to get current date and time\n",
    "naive = datetime.now()\n",
    "print(\"current date & time: \", naive, naive.tzname(), naive.tzinfo)\n",
    "\n",
    "# adding a timezone\n",
    "timezone = pytz.timezone(\"Asia/Kolkata\")\n",
    "aware1 = timezone.localize(naive)\n",
    "print(aware1)\n",
    "\n",
    "# Calling the utcoffset() function over the above localized time\n",
    "print(\"Time ahead of UTC by:\", aware1.utcoffset())"
   ]
  },
  {
   "cell_type": "code",
   "execution_count": 0,
   "metadata": {
    "application/vnd.databricks.v1+cell": {
     "cellMetadata": {
      "byteLimit": 2048000,
      "rowLimit": 10000
     },
     "inputWidgets": {},
     "nuid": "73993b21-406e-45ac-ba6a-34af056fbf7c",
     "showTitle": true,
     "tableResultSettingsMap": {},
     "title": "Finding the offset of time"
    }
   },
   "outputs": [
    {
     "output_type": "stream",
     "name": "stdout",
     "output_type": "stream",
     "text": [
      "current date & time:  2025-03-23 12:26:48.242860 None None\n2025-03-23 12:26:48.242860+09:00\nTime ahead of UTC by: 9:00:00\n"
     ]
    }
   ],
   "source": [
    "# Importing datetime and pytz module\n",
    "from datetime import datetime\n",
    "import pytz\n",
    "\n",
    "# Calling the now() function to get current date and time\n",
    "naive = datetime.now()\n",
    "print(\"current date & time: \", naive, naive.tzname(), naive.tzinfo)\n",
    "\n",
    "# adding a timezone\n",
    "timezone = pytz.timezone(\"Asia/Tokyo\")\n",
    "aware1 = timezone.localize(naive)\n",
    "print(aware1)\n",
    "\n",
    "# Calling the utcoffset() function over the above localized time\n",
    "print(\"Time ahead of UTC by:\", aware1.utcoffset())"
   ]
  },
  {
   "cell_type": "code",
   "execution_count": 0,
   "metadata": {
    "application/vnd.databricks.v1+cell": {
     "cellMetadata": {
      "byteLimit": 2048000,
      "rowLimit": 10000
     },
     "inputWidgets": {},
     "nuid": "9505870f-ab58-4a28-a875-ebaa73feb261",
     "showTitle": true,
     "tableResultSettingsMap": {},
     "title": "Finding Negative Time Offset"
    }
   },
   "outputs": [
    {
     "output_type": "stream",
     "name": "stdout",
     "output_type": "stream",
     "text": [
      "current date & time:  2025-03-23 12:27:57.309812 None None\n2025-03-23 12:27:57.309812-07:00\nTime behind UTC by: 7:00:00\n"
     ]
    }
   ],
   "source": [
    "# Importing datetime and pytz module\n",
    "from datetime import datetime\n",
    "import pytz\n",
    "\n",
    "# Calling the now() function to get current date and time\n",
    "naive = datetime.now()\n",
    "print(\"current date & time: \", naive, naive.tzname(), naive.tzinfo)\n",
    "\n",
    "# adding a timezone\n",
    "timezone = pytz.timezone(\"America/Los_Angeles\")\n",
    "aware1 = timezone.localize(naive)\n",
    "print(aware1)\n",
    "\n",
    "# Calling the utcoffset() function over the above localized time\n",
    "print(\"Time behind UTC by:\", -aware1.utcoffset())"
   ]
  },
  {
   "cell_type": "markdown",
   "metadata": {
    "application/vnd.databricks.v1+cell": {
     "cellMetadata": {},
     "inputWidgets": {},
     "nuid": "2ac9dfaf-c601-4d73-bd74-22c800f90922",
     "showTitle": false,
     "tableResultSettingsMap": {},
     "title": ""
    }
   },
   "source": [
    "#### **FixedOffset**"
   ]
  },
  {
   "cell_type": "code",
   "execution_count": 0,
   "metadata": {
    "application/vnd.databricks.v1+cell": {
     "cellMetadata": {
      "byteLimit": 2048000,
      "rowLimit": 10000
     },
     "inputWidgets": {},
     "nuid": "a1ba43ca-8d02-4980-9ab7-99582f7985e0",
     "showTitle": true,
     "tableResultSettingsMap": {},
     "title": "replace"
    }
   },
   "outputs": [
    {
     "output_type": "stream",
     "name": "stdout",
     "output_type": "stream",
     "text": [
      "2025-03-23 12:00:00 None\nConverted Datetime: 2025-03-23 12:00:00+02:00\n"
     ]
    }
   ],
   "source": [
    "from datetime import datetime, timedelta, timezone\n",
    "\n",
    "naive_dt = datetime(2025, 3, 23, 12, 0)\n",
    "print(naive_dt, naive_dt.tzname())\n",
    "\n",
    "# Convert to fixed offset timezone (UTC+2:00)\n",
    "fixed_offset = timezone(timedelta(hours=2))\n",
    "dt_with_offset = naive_dt.replace(tzinfo=fixed_offset)\n",
    "\n",
    "print(\"Converted Datetime:\", dt_with_offset)"
   ]
  },
  {
   "cell_type": "code",
   "execution_count": 0,
   "metadata": {
    "application/vnd.databricks.v1+cell": {
     "cellMetadata": {
      "byteLimit": 2048000,
      "rowLimit": 10000
     },
     "inputWidgets": {},
     "nuid": "59979892-bdb4-418c-92d1-d01a649de1ab",
     "showTitle": true,
     "tableResultSettingsMap": {},
     "title": "utcoffset() with a Fixed UTC Offset (e.g., UTC+2)"
    }
   },
   "outputs": [
    {
     "output_type": "stream",
     "name": "stdout",
     "output_type": "stream",
     "text": [
      "2025-03-22 12:00:00+02:00 UTC+02:00\n2:00:00\n"
     ]
    }
   ],
   "source": [
    "from datetime import datetime, timezone, timedelta\n",
    "\n",
    "# Create a fixed offset for UTC+2\n",
    "utc_plus_2 = timezone(timedelta(hours=2))\n",
    "\n",
    "# Aware datetime in UTC+2\n",
    "dt_utc_plus_2 = datetime(2025, 3, 22, 12, 0, 0, tzinfo=utc_plus_2)\n",
    "print(dt_utc_plus_2, dt_utc_plus_2.tzname())\n",
    "\n",
    "# utcoffset() will show the offset of +2 hours\n",
    "print(dt_utc_plus_2.utcoffset())"
   ]
  },
  {
   "cell_type": "markdown",
   "metadata": {
    "application/vnd.databricks.v1+cell": {
     "cellMetadata": {},
     "inputWidgets": {},
     "nuid": "895f5674-ac6f-4ab2-abc8-8213eedc5fa1",
     "showTitle": false,
     "tableResultSettingsMap": {},
     "title": ""
    }
   },
   "source": [
    "- Here we created a timezone object with a **timedelta(hours=2)**.\n",
    "\n",
    "- The **utcoffset()** for this datetime is **+2:00:00 hours from UTC**."
   ]
  },
  {
   "cell_type": "code",
   "execution_count": 0,
   "metadata": {
    "application/vnd.databricks.v1+cell": {
     "cellMetadata": {
      "byteLimit": 2048000,
      "rowLimit": 10000
     },
     "inputWidgets": {},
     "nuid": "9e7e5f59-70df-481c-88b6-0062a036607f",
     "showTitle": false,
     "tableResultSettingsMap": {},
     "title": ""
    }
   },
   "outputs": [
    {
     "output_type": "stream",
     "name": "stdout",
     "output_type": "stream",
     "text": [
      "Datetime with Fixed Offset: 2025-03-23 15:30:00+05:30\n"
     ]
    }
   ],
   "source": [
    "from datetime import datetime, timedelta, timezone\n",
    "\n",
    "# Create a fixed offset timezone (UTC+5:30)\n",
    "fixed_offset = timezone(timedelta(hours=5, minutes=30))\n",
    "\n",
    "# Create a datetime object with this fixed offset\n",
    "dt = datetime(2025, 3, 23, 15, 30, tzinfo=fixed_offset)\n",
    "\n",
    "print(\"Datetime with Fixed Offset:\", dt)"
   ]
  },
  {
   "cell_type": "code",
   "execution_count": 0,
   "metadata": {
    "application/vnd.databricks.v1+cell": {
     "cellMetadata": {
      "byteLimit": 2048000,
      "rowLimit": 10000
     },
     "inputWidgets": {},
     "nuid": "79d1ef42-6f0d-45fe-b303-426c548fe39b",
     "showTitle": true,
     "tableResultSettingsMap": {},
     "title": "pytz: FixedOffset"
    }
   },
   "outputs": [
    {
     "output_type": "stream",
     "name": "stdout",
     "output_type": "stream",
     "text": [
      "2025-03-23 12:37:28.205897+04:30\n"
     ]
    }
   ],
   "source": [
    "from datetime import datetime\n",
    "import pytz\n",
    "\n",
    "# Define Europe timezone with a 4.5-hour offset (Asia/Kabul is UTC+4:30, no direct Europe zone)\n",
    "custom_tz = pytz.FixedOffset(270)  # 4 hours 30 minutes = 270 minutes\n",
    "\n",
    "# Get current time in that timezone\n",
    "europe_time = datetime.now(custom_tz)\n",
    "\n",
    "print(europe_time)"
   ]
  }
 ],
 "metadata": {
  "application/vnd.databricks.v1+notebook": {
   "computePreferences": null,
   "dashboards": [],
   "environmentMetadata": {
    "base_environment": "",
    "client": "1"
   },
   "language": "python",
   "notebookMetadata": {
    "pythonIndentUnit": 4
   },
   "notebookName": "31_utcoffset() & fixedOffset()",
   "widgets": {}
  }
 },
 "nbformat": 4,
 "nbformat_minor": 0
}
