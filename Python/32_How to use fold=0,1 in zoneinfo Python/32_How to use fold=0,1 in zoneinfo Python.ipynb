{
 "cells": [
  {
   "cell_type": "markdown",
   "metadata": {
    "application/vnd.databricks.v1+cell": {
     "cellMetadata": {},
     "inputWidgets": {},
     "nuid": "53411d28-1fdd-4414-a0d5-242ad60bde7f",
     "showTitle": false,
     "tableResultSettingsMap": {},
     "title": ""
    }
   },
   "source": [
    "**What is fold in datetime?**\n",
    "\n",
    "- **fold=0 and fold=1** in Python's **datetime module** are used when dealing with **ambiguous times** especially during the **end of daylight saving time (DST)**.\n",
    "\n",
    "- This feature is available in datetime starting from **Python 3.6**.\n",
    "\n",
    "  - **fold=0** refers to the **first occurrence** of an **ambiguous time** (**before** the clock was set back).\n",
    "\n",
    "  - **fold=1** refers to the **second occurrence** (after the clock has been set back).\n",
    "\n",
    "  - If you **don't specify fold**, Python assumes **fold=0** by default.\n",
    "\n",
    "  - The **fold=1** parameter in **dt.replace(fold=1)** is used to **handle ambiguous times** during the **end of daylight saving time (DST)** when **clocks are set back**.\n",
    "\n",
    "|  Fold |             Meaning            | Example  |\n",
    "|-------|--------------------------------|---------| \n",
    "|   0   | **First occurrence** of **ambiguous time** (DST active)       |  **1:30 AM during DST**  |\n",
    "|   1   | **Second occurrence** (after DST ends) (Standard time) | **1:30 AM after DST ends** |"
   ]
  },
  {
   "cell_type": "markdown",
   "metadata": {
    "application/vnd.databricks.v1+cell": {
     "cellMetadata": {},
     "inputWidgets": {},
     "nuid": "c318d91a-cafe-46d0-9bf2-2e504d1f8744",
     "showTitle": false,
     "tableResultSettingsMap": {},
     "title": ""
    }
   },
   "source": [
    "**What is an ambiguous time?**\n",
    "- Suppose **DST ends at 2:00 AM**, and the **clock goes back one hour** to **1:00 AM**.\n",
    "- So, **1:30 AM** happens **twice**\n",
    "  - once **before fallback** and **once after**."
   ]
  },
  {
   "cell_type": "markdown",
   "metadata": {
    "application/vnd.databricks.v1+cell": {
     "cellMetadata": {},
     "inputWidgets": {},
     "nuid": "aec1c109-4a75-462b-b670-4185b951d1bc",
     "showTitle": false,
     "tableResultSettingsMap": {},
     "title": ""
    }
   },
   "source": [
    "**Example: Handling DST Transition**\n",
    "\n",
    "- On **November 1, 2020, at 2:00 AM**, Chicago (Central Time) switched from **CDT (UTC-5) → CST (UTC-6)** because of the **end of daylight saving time**.\n",
    "\n",
    "- This means the **local time 1:00 AM – 1:59 AM** happens **twice**:\n",
    "\n",
    "  - **First occurrence:** Before the clock is **set back (CDT, UTC-5)**.\n",
    "\n",
    "  - **Second occurrence:** After the clock is **set back (CST, UTC-6)**.\n",
    "\n",
    "- **Day light saving time** starts in **March** and **ends** in **Nov**\n",
    "\n",
    "- In **March** clocked is moved **1hr forward** & in **Nov** clock is moved **1 hr back**.\n",
    "\n",
    "| Actual Event\t|    Clock Time    |\tDST Status    |\n",
    "|---------------|------------------|----------------|\n",
    "| 1:00 AM (before rollback)\t| 1:00 AM\t | DST (Daylight Saving Time) |\n",
    "| 1:30 AM (before rollback)\t| 1:30 AM\t | DST                        |\n",
    "| 2:00 AM (DST ends)\t| Clock moves back to 1:00 AM |\tNow Standard Time (not DST) |\n",
    "| 1:00 AM (after rollback)\t| 1:00 AM\t |  Standard Time |\n",
    "| 1:30 AM (after rollback)\t| 1:30 AM\t |  Standard Time |\n",
    "| 2:00 AM (after rollback)\t| 2:00 AM\t |  Standard Time |"
   ]
  },
  {
   "cell_type": "markdown",
   "metadata": {
    "application/vnd.databricks.v1+cell": {
     "cellMetadata": {},
     "inputWidgets": {},
     "nuid": "9a21507d-69ed-4a96-9595-95922806d4c4",
     "showTitle": false,
     "tableResultSettingsMap": {},
     "title": ""
    }
   },
   "source": [
    "|  Name  |            Description              |\n",
    "|--------|-------------------------------------|\n",
    "|  DST   |      Daylight Saving Time           |\n",
    "|  CDT   |      Central Daylight Time          |\n",
    "|  CST   |      Central Standard Time          |\n",
    "|  UTC   |      Coordinated Universal Time     |\n"
   ]
  },
  {
   "cell_type": "markdown",
   "metadata": {
    "application/vnd.databricks.v1+cell": {
     "cellMetadata": {},
     "inputWidgets": {},
     "nuid": "7889b5cb-3b4a-4677-81cc-d2c0ec174966",
     "showTitle": false,
     "tableResultSettingsMap": {},
     "title": ""
    }
   },
   "source": [
    "**1) Understanding fold=0 vs fold=1 During DST Transitions**\n",
    "- When **daylight saving time (DST) ends**, the clock is **set back one hour**, which means **one hour is repeated**.\n",
    "\n",
    "- When the **clocks** go **backward (e.g., from 2:00 AM to 1:00 AM in DST)**, the hour between **1:00 AM and 2:00 AM** occurs **twice**.\n",
    "\n",
    "- The **fold** attribute helps Python distinguish between the **first occurrence (fold=0) and the second occurrence (fold=1)**."
   ]
  },
  {
   "cell_type": "code",
   "execution_count": 0,
   "metadata": {
    "application/vnd.databricks.v1+cell": {
     "cellMetadata": {
      "byteLimit": 2048000,
      "rowLimit": 10000
     },
     "inputWidgets": {},
     "nuid": "c1a8e521-dd28-4cf2-9064-d934839510f7",
     "showTitle": true,
     "tableResultSettingsMap": {},
     "title": "Using fold=0 and fold=1 without timezones"
    }
   },
   "outputs": [
    {
     "output_type": "stream",
     "name": "stdout",
     "output_type": "stream",
     "text": [
      "First occurrence: 2023-11-05 01:30:00\nSecond occurrence: 2023-11-05 01:30:00\n"
     ]
    }
   ],
   "source": [
    "from datetime import datetime\n",
    "\n",
    "# Create two datetime objects with the same clock time\n",
    "dt1 = datetime(2023, 11, 5, 1, 30, fold=0)  # First 1:30 (during DST)\n",
    "dt2 = datetime(2023, 11, 5, 1, 30, fold=1)  # Second 1:30 (after DST ends)\n",
    "\n",
    "print(\"First occurrence:\", dt1)\n",
    "print(\"Second occurrence:\", dt2)"
   ]
  },
  {
   "cell_type": "code",
   "execution_count": 0,
   "metadata": {
    "application/vnd.databricks.v1+cell": {
     "cellMetadata": {
      "byteLimit": 2048000,
      "rowLimit": 10000
     },
     "inputWidgets": {},
     "nuid": "a01a6f91-cb96-4850-8d4d-3a83972a73cd",
     "showTitle": true,
     "tableResultSettingsMap": {},
     "title": "Example with timezone"
    }
   },
   "outputs": [
    {
     "output_type": "stream",
     "name": "stdout",
     "output_type": "stream",
     "text": [
      "First 1:30 AM (DST active): 2022-11-06 01:30:00-04:00\nSecond 1:30 AM (DST ended): 2022-11-06 01:30:00-05:00\nUTC Offset first: -1 day, 20:00:00\nUTC Offset second: -1 day, 19:00:00\n"
     ]
    }
   ],
   "source": [
    "from datetime import datetime\n",
    "from zoneinfo import ZoneInfo\n",
    "\n",
    "# We can use the zoneinfo module (Python 3.9+) to attach a timezone.\n",
    "# New York goes off DST on Nov 6, 2022\n",
    "zone = ZoneInfo(\"America/New_York\")\n",
    "\n",
    "# First 1:30 AM (DST is still active)\n",
    "dt1 = datetime(2022, 11, 6, 1, 30, tzinfo=zone, fold=0)\n",
    "\n",
    "# Second 1:30 AM (after DST ends)\n",
    "dt2 = datetime(2022, 11, 6, 1, 30, tzinfo=zone, fold=1)\n",
    "\n",
    "print(\"First 1:30 AM (DST active):\", dt1)\n",
    "print(\"Second 1:30 AM (DST ended):\", dt2)\n",
    "\n",
    "print(\"UTC Offset first:\", dt1.utcoffset())\n",
    "print(\"UTC Offset second:\", dt2.utcoffset())"
   ]
  },
  {
   "cell_type": "markdown",
   "metadata": {
    "application/vnd.databricks.v1+cell": {
     "cellMetadata": {},
     "inputWidgets": {},
     "nuid": "bae2177a-6fa9-46cd-9b49-5672c324ebcd",
     "showTitle": false,
     "tableResultSettingsMap": {},
     "title": ""
    }
   },
   "source": [
    "**Notice:**\n",
    "- The **first 1:30 AM** is in **DST (UTC-4)**.\n",
    "- The **second 1:30 AM** is in **standard time (UTC-5)**."
   ]
  },
  {
   "cell_type": "markdown",
   "metadata": {
    "application/vnd.databricks.v1+cell": {
     "cellMetadata": {},
     "inputWidgets": {},
     "nuid": "0ae7df13-789e-4d77-ad46-e55c863af3cd",
     "showTitle": false,
     "tableResultSettingsMap": {},
     "title": ""
    }
   },
   "source": [
    "**a) Comparing fold values**\n",
    "- **Fold doesn't affect** simple datetime equality unless **timezone rules** are involved."
   ]
  },
  {
   "cell_type": "code",
   "execution_count": 0,
   "metadata": {
    "application/vnd.databricks.v1+cell": {
     "cellMetadata": {
      "byteLimit": 2048000,
      "rowLimit": 10000
     },
     "inputWidgets": {},
     "nuid": "4accca34-e2c2-47bc-8f9b-0fd6c8f6fb8e",
     "showTitle": false,
     "tableResultSettingsMap": {},
     "title": ""
    }
   },
   "outputs": [
    {
     "output_type": "stream",
     "name": "stdout",
     "output_type": "stream",
     "text": [
      "True\n0 1\n"
     ]
    }
   ],
   "source": [
    "from datetime import datetime\n",
    "\n",
    "dt1 = datetime(2022, 11, 6, 1, 30, fold=0)\n",
    "dt2 = datetime(2022, 11, 6, 1, 30, fold=1)\n",
    "\n",
    "print(dt1 == dt2)  # True, since datetime ignores fold for comparison unless tz-aware\n",
    "print(dt1.fold, dt2.fold)  # Different fold values"
   ]
  },
  {
   "cell_type": "code",
   "execution_count": 0,
   "metadata": {
    "application/vnd.databricks.v1+cell": {
     "cellMetadata": {
      "byteLimit": 2048000,
      "rowLimit": 10000
     },
     "inputWidgets": {},
     "nuid": "7ec4a549-e739-4d31-94c0-9c06fa88269b",
     "showTitle": false,
     "tableResultSettingsMap": {},
     "title": ""
    }
   },
   "outputs": [
    {
     "output_type": "stream",
     "name": "stdout",
     "output_type": "stream",
     "text": [
      "True\n0 1\n"
     ]
    }
   ],
   "source": [
    "from datetime import datetime\n",
    "\n",
    "dt1 = datetime(2022, 11, 6, 1, 30, tzinfo=ZoneInfo(\"America/New_York\"), fold=0)\n",
    "dt2 = datetime(2022, 11, 6, 1, 30, tzinfo=ZoneInfo(\"America/New_York\"), fold=1)\n",
    "\n",
    "print(dt1 == dt2)  # True, since datetime ignores fold for comparison unless tz-aware\n",
    "print(dt1.fold, dt2.fold)  # Different fold values"
   ]
  },
  {
   "cell_type": "markdown",
   "metadata": {
    "application/vnd.databricks.v1+cell": {
     "cellMetadata": {},
     "inputWidgets": {},
     "nuid": "7f1c3898-a39f-4dcd-bf04-df19c1c7a4fa",
     "showTitle": false,
     "tableResultSettingsMap": {},
     "title": ""
    }
   },
   "source": [
    "- On **November 6, 2022, at 2:00 AM**, New York switched from **daylight saving time to standard time** — clocks go back **one hour**.\n",
    "- So **1:30 AM actually happens twice**:\n",
    "  - First **(fold=0)**: during Daylight Saving Time (UTC-4 hours).\n",
    "  - Second **(fold=1)**: during Standard Time (UTC-5 hours).\n",
    "\n",
    "- fold tells Python which of the two repeated times you mean:\n",
    "\n",
    "  - **fold=0:** before the clock is turned back.\n",
    "  - **fold=1:** after the clock is turned back.\n",
    "\n",
    "- Even though **dt1 and dt2** represent different moments in real time, when comparing two datetime objects, Python **ignores** the **fold** unless explicitly doing a **timezone-aware comparison**.\n",
    "\n",
    "- Python considers them **equal** unless you **manually check the timezone offsets**.\n",
    "\n"
   ]
  },
  {
   "cell_type": "code",
   "execution_count": 0,
   "metadata": {
    "application/vnd.databricks.v1+cell": {
     "cellMetadata": {
      "byteLimit": 2048000,
      "rowLimit": 10000
     },
     "inputWidgets": {},
     "nuid": "d176929c-5f02-4675-9cfc-52bc85b4a2e1",
     "showTitle": false,
     "tableResultSettingsMap": {},
     "title": ""
    }
   },
   "outputs": [
    {
     "output_type": "stream",
     "name": "stdout",
     "output_type": "stream",
     "text": [
      "True\n"
     ]
    }
   ],
   "source": [
    "from datetime import datetime\n",
    "import pytz\n",
    "\n",
    "def is_dst ():\n",
    "    \"\"\"Determine whether or not Daylight Savings Time (DST)\n",
    "    is currently in effect\"\"\"\n",
    "\n",
    "    x = datetime(datetime.now().year, 1, 1, 0, 0, 0, tzinfo=pytz.timezone('US/Eastern')) # Jan 1 of this year\n",
    "    y = datetime.now(pytz.timezone('US/Eastern'))\n",
    "\n",
    "    # if DST is in effect, their offsets will be different\n",
    "    return not (y.utcoffset() == x.utcoffset())\n",
    "\n",
    "print(is_dst())"
   ]
  },
  {
   "cell_type": "markdown",
   "metadata": {
    "application/vnd.databricks.v1+cell": {
     "cellMetadata": {},
     "inputWidgets": {},
     "nuid": "d4d94f83-bc48-4ed1-ac53-2de424b7b76b",
     "showTitle": false,
     "tableResultSettingsMap": {},
     "title": ""
    }
   },
   "source": [
    "**b) Handling an ambiguous time during fall back**\n",
    "- Let's check what happens when a **time** is **ambiguous** because it **occurs twice** during the **DST transition**.\n",
    "\n",
    "**c) Handling the same time twice during a DST transition**\n",
    "- When **DST ends** and clocks **\"fall back\"** a **particular time** may **occur twice**.\n",
    "- The **fold** parameter helps to **distinguish** between the **first and second occurrence** of that **time**."
   ]
  },
  {
   "cell_type": "code",
   "execution_count": 0,
   "metadata": {
    "application/vnd.databricks.v1+cell": {
     "cellMetadata": {
      "byteLimit": 2048000,
      "rowLimit": 10000
     },
     "inputWidgets": {},
     "nuid": "d0ce819c-3069-41fb-8316-a915b98dfbf9",
     "showTitle": true,
     "tableResultSettingsMap": {},
     "title": "pytz with localize"
    }
   },
   "outputs": [
    {
     "output_type": "stream",
     "name": "stdout",
     "output_type": "stream",
     "text": [
      "First 1:30 AM (DST): 2025-11-02 01:30:00-04:00 | DST: 1:00:00\nSecond 1:30 AM (Standard Time): 2025-11-02 01:30:00-05:00 | DST: 0:00:00\n"
     ]
    }
   ],
   "source": [
    "from datetime import datetime\n",
    "import pytz\n",
    "\n",
    "# Define the timezone\n",
    "eastern = pytz.timezone('US/Eastern')\n",
    "\n",
    "# Define a datetime string during the DST transition\n",
    "dt_str = '2025-11-02 01:30:00'   # Correct date for DST end is Nov 2, 2025 (not Nov 1)\n",
    "dt = datetime.strptime(dt_str, '%Y-%m-%d %H:%M:%S')\n",
    "\n",
    "# First occurrence (during DST)\n",
    "dt_first = eastern.localize(dt, is_dst=True)\n",
    "\n",
    "# Second occurrence (after fall back, Standard Time)\n",
    "dt_second = eastern.localize(dt, is_dst=False)\n",
    "\n",
    "print(\"First 1:30 AM (DST):\", dt_first, \"| DST:\", dt_first.dst())\n",
    "print(\"Second 1:30 AM (Standard Time):\", dt_second, \"| DST:\", dt_second.dst())"
   ]
  },
  {
   "cell_type": "markdown",
   "metadata": {
    "application/vnd.databricks.v1+cell": {
     "cellMetadata": {},
     "inputWidgets": {},
     "nuid": "64669ed2-1b03-47da-83b2-00e2f3c2b4ad",
     "showTitle": false,
     "tableResultSettingsMap": {},
     "title": ""
    }
   },
   "source": [
    "- **is_dst=True** (means first occurrence, still DST)\n",
    "- **is_dst=False** (means second occurrence, standard time)\n",
    "- **is_dst:** Optional (True/False). Helps resolve **ambiguous times** (like **2:00 AM happening twice**) during DST transitions."
   ]
  },
  {
   "cell_type": "markdown",
   "metadata": {
    "application/vnd.databricks.v1+cell": {
     "cellMetadata": {},
     "inputWidgets": {},
     "nuid": "92b82eca-4fe3-495d-996b-8602d9ed6726",
     "showTitle": false,
     "tableResultSettingsMap": {},
     "title": ""
    }
   },
   "source": [
    "- When you create a **datetime object** in Python, it’s **naive by default** — meaning it has **no timezone** information attached.\n",
    "- **.localize()** is a method provided by **pytz** to **attach a timezone** properly to a **naive datetime object**."
   ]
  },
  {
   "cell_type": "markdown",
   "metadata": {
    "application/vnd.databricks.v1+cell": {
     "cellMetadata": {},
     "inputWidgets": {},
     "nuid": "bc8dcf5e-f96f-4640-9ab8-c23e90333667",
     "showTitle": false,
     "tableResultSettingsMap": {},
     "title": ""
    }
   },
   "source": [
    "**fold=0** represents:\n",
    "- **first occurrence (before clocks are set back)**\n",
    "- The **time** during **daylight saving time (1:30 AM before the clock is turned back)**.\n",
    "- The time **before the clocks are set back** (i.e., during **daylight saving time**).\n",
    "\n",
    "**fold=1** represents:\n",
    "- **second occurrence (after the clocks fall back)**.\n",
    "- The **time** after the clock has been **turned back (1:30 AM again, but now it is standard time)**.\n",
    "- The time **after the clocks are set back** (i.e., **standard time or \"fall back\" time**)."
   ]
  },
  {
   "cell_type": "code",
   "execution_count": 0,
   "metadata": {
    "application/vnd.databricks.v1+cell": {
     "cellMetadata": {
      "byteLimit": 2048000,
      "rowLimit": 10000
     },
     "inputWidgets": {},
     "nuid": "7c2b4903-350c-454a-9081-0372279feb2a",
     "showTitle": true,
     "tableResultSettingsMap": {},
     "title": "zoneinfo (Python 3.9+)"
    }
   },
   "outputs": [
    {
     "output_type": "stream",
     "name": "stdout",
     "output_type": "stream",
     "text": [
      "First 1:30: 2025-11-02 01:30:00-04:00 | Fold: 0\nSecond 1:30: 2025-11-02 01:30:00-05:00 | Fold: 1\n"
     ]
    }
   ],
   "source": [
    "from datetime import datetime\n",
    "from zoneinfo import ZoneInfo\n",
    "\n",
    "# Correct date during fall back\n",
    "dt1 = datetime(2025, 11, 2, 1, 30, tzinfo=ZoneInfo(\"America/New_York\"))\n",
    "print(\"First 1:30:\", dt1, \"| Fold:\", dt1.fold)\n",
    "\n",
    "# To create second occurrence (after fallback), set fold=1 manually\n",
    "dt2 = dt1.replace(fold=1)\n",
    "print(\"Second 1:30:\", dt2, \"| Fold:\", dt2.fold)"
   ]
  },
  {
   "cell_type": "markdown",
   "metadata": {
    "application/vnd.databricks.v1+cell": {
     "cellMetadata": {},
     "inputWidgets": {},
     "nuid": "4fa3ab09-35f1-4043-8b78-677cefb8c0bf",
     "showTitle": false,
     "tableResultSettingsMap": {},
     "title": ""
    }
   },
   "source": [
    "**d) Handle DST transitions by checking fold value**\n",
    "- When working with **ambiguous times** during a **DST transition**, you can **check the fold value** and perform specific actions based on whether it is **0 or 1**."
   ]
  },
  {
   "cell_type": "code",
   "execution_count": 0,
   "metadata": {
    "application/vnd.databricks.v1+cell": {
     "cellMetadata": {
      "byteLimit": 2048000,
      "rowLimit": 10000
     },
     "inputWidgets": {},
     "nuid": "40d0e3e3-289f-4983-aedf-2be073e6fb88",
     "showTitle": false,
     "tableResultSettingsMap": {},
     "title": ""
    }
   },
   "outputs": [
    {
     "output_type": "stream",
     "name": "stdout",
     "output_type": "stream",
     "text": [
      "Datetime: 2025-11-02 01:30:00-04:00\nFold: 0\nThis is the first occurrence (before DST ends).\n"
     ]
    }
   ],
   "source": [
    "from datetime import datetime\n",
    "from zoneinfo import ZoneInfo\n",
    "\n",
    "# Example: DST end in the US Eastern Time Zone\n",
    "dt = datetime(2025, 11, 2, 1, 30, tzinfo=ZoneInfo(\"America/New_York\"))\n",
    "\n",
    "print(\"Datetime:\", dt)\n",
    "print(\"Fold:\", dt.fold)\n",
    "\n",
    "if dt.fold == 0:\n",
    "    print(\"This is the first occurrence (before DST ends).\")\n",
    "else:\n",
    "    print(\"This is the second occurrence (after DST ends).\")"
   ]
  },
  {
   "cell_type": "code",
   "execution_count": 0,
   "metadata": {
    "application/vnd.databricks.v1+cell": {
     "cellMetadata": {
      "byteLimit": 2048000,
      "rowLimit": 10000
     },
     "inputWidgets": {},
     "nuid": "fa448254-4c4e-4f01-8a31-13cc891b48fe",
     "showTitle": false,
     "tableResultSettingsMap": {},
     "title": ""
    }
   },
   "outputs": [
    {
     "output_type": "stream",
     "name": "stdout",
     "output_type": "stream",
     "text": [
      "First 1:30 AM: 2021-11-07 01:30:00-04:00 UTC Offset: -1 day, 20:00:00\nSecond 1:30 AM: 2021-11-07 01:30:00-05:00 UTC Offset: -1 day, 19:00:00\n"
     ]
    }
   ],
   "source": [
    "from datetime import datetime\n",
    "from zoneinfo import ZoneInfo  # available in Python 3.9+\n",
    "\n",
    "# America/New_York had DST end on Nov 7, 2021\n",
    "dt1 = datetime(2021, 11, 7, 1, 30, tzinfo=ZoneInfo(\"America/New_York\"))\n",
    "\n",
    "# By default fold=0 (first 1:30 AM, DST still active)\n",
    "print(\"First 1:30 AM:\", dt1, \"UTC Offset:\", dt1.utcoffset())\n",
    "\n",
    "# Now set fold=1 to represent second 1:30 AM (after DST ended)\n",
    "dt2 = dt1.replace(fold=1)\n",
    "\n",
    "print(\"Second 1:30 AM:\", dt2, \"UTC Offset:\", dt2.utcoffset())"
   ]
  },
  {
   "cell_type": "markdown",
   "metadata": {
    "application/vnd.databricks.v1+cell": {
     "cellMetadata": {},
     "inputWidgets": {},
     "nuid": "280d128a-1add-4f51-acc1-7704bff3a22c",
     "showTitle": false,
     "tableResultSettingsMap": {},
     "title": ""
    }
   },
   "source": [
    "- The **utcoffset()** now shows **-5 hours from UTC** (in **Python**, sometimes it shows as **-1 day, 19:00:00** which is mathematically the same as **-5:00:00**).\n",
    "\n",
    "**See how the UTC offset changes?**\n",
    "\n",
    "- **First 1:30 AM** → **UTC-4 hours (during DST)**\n",
    "- **Second 1:30 AM** → **UTC-5 hours (after DST ends)**"
   ]
  },
  {
   "cell_type": "markdown",
   "metadata": {
    "application/vnd.databricks.v1+cell": {
     "cellMetadata": {},
     "inputWidgets": {},
     "nuid": "6fd505de-1441-45f9-9f4c-305dd9aa3f89",
     "showTitle": false,
     "tableResultSettingsMap": {},
     "title": ""
    }
   },
   "source": [
    "**2) Checking the Difference Between fold=0 and fold=1**"
   ]
  },
  {
   "cell_type": "code",
   "execution_count": 0,
   "metadata": {
    "application/vnd.databricks.v1+cell": {
     "cellMetadata": {
      "byteLimit": 2048000,
      "rowLimit": 10000
     },
     "inputWidgets": {},
     "nuid": "87332e68-474b-42bf-9fde-0b06aa07db0d",
     "showTitle": false,
     "tableResultSettingsMap": {},
     "title": ""
    }
   },
   "outputs": [
    {
     "output_type": "stream",
     "name": "stdout",
     "output_type": "stream",
     "text": [
      "Difference: 0:00:00\n"
     ]
    }
   ],
   "source": [
    "from datetime import datetime\n",
    "from zoneinfo import ZoneInfo\n",
    "\n",
    "dt1 = datetime(2021, 11, 7, 1, 30, tzinfo=ZoneInfo(\"America/New_York\"), fold=0)  # first 1:30 AM\n",
    "dt2 = datetime(2021, 11, 7, 1, 30, tzinfo=ZoneInfo(\"America/New_York\"), fold=1)  # second 1:30 AM\n",
    "\n",
    "# We can calculate the difference between the two identical-looking timestamps.\n",
    "diff = dt2 - dt1\n",
    "print(\"Difference:\", diff)"
   ]
  },
  {
   "cell_type": "markdown",
   "metadata": {
    "application/vnd.databricks.v1+cell": {
     "cellMetadata": {},
     "inputWidgets": {},
     "nuid": "fe41fa28-110b-4b99-b82c-605bc0809cbd",
     "showTitle": false,
     "tableResultSettingsMap": {},
     "title": ""
    }
   },
   "source": [
    "- There is a **1-hour** difference between **fold=0 (before rollback) and fold=1 (after rollback)**.\n",
    "\n",
    "- So although the **\"wall clock time\" looks identical**, there's actually **1 hour** difference between **fold=0 and fold=1**."
   ]
  },
  {
   "cell_type": "markdown",
   "metadata": {
    "application/vnd.databricks.v1+cell": {
     "cellMetadata": {},
     "inputWidgets": {},
     "nuid": "6bae83e4-c1bd-470d-bf61-b29120d5820c",
     "showTitle": false,
     "tableResultSettingsMap": {},
     "title": ""
    }
   },
   "source": [
    "**3) Handling Forward Transitions (When DST Starts)**\n",
    "\n",
    "- When DST starts, clocks are **moved forward by one hour**, so **certain times do not exist** on that day.\n",
    "\n",
    "**Example: New York (Eastern Time) DST Start (March 8, 2020)**\n",
    "- At **2:00 AM**, clocks move **forward to 3:00 AM**, meaning **2:00–2:59 AM** never happened."
   ]
  },
  {
   "cell_type": "code",
   "execution_count": 0,
   "metadata": {
    "application/vnd.databricks.v1+cell": {
     "cellMetadata": {
      "byteLimit": 2048000,
      "rowLimit": 10000
     },
     "inputWidgets": {},
     "nuid": "cce9069a-e6f8-4f64-b411-d4a8620fc9c3",
     "showTitle": false,
     "tableResultSettingsMap": {},
     "title": ""
    }
   },
   "outputs": [
    {
     "output_type": "stream",
     "name": "stdout",
     "output_type": "stream",
     "text": [
      "2020-03-08 02:00:00-05:00\n"
     ]
    }
   ],
   "source": [
    "dt_missing = datetime(2020, 3, 8, 2, tzinfo=ZoneInfo(\"America/New_York\"))\n",
    "print(dt_missing)"
   ]
  },
  {
   "cell_type": "markdown",
   "metadata": {
    "application/vnd.databricks.v1+cell": {
     "cellMetadata": {},
     "inputWidgets": {},
     "nuid": "a94625e0-8a45-4340-bc48-f3bc0c2a8552",
     "showTitle": false,
     "tableResultSettingsMap": {},
     "title": ""
    }
   },
   "source": [
    "- **ValueError:** 2020-03-08 02:00:00 is **missing** in the **America/New_York** timezone.\n",
    "\n",
    "**Explanation:**\n",
    "\n",
    "- The time **2:00 AM–2:59 AM never existed** in **America/New_York** on that day due to the **DST jump**."
   ]
  },
  {
   "cell_type": "markdown",
   "metadata": {
    "application/vnd.databricks.v1+cell": {
     "cellMetadata": {},
     "inputWidgets": {},
     "nuid": "6bea6168-2bf3-42ea-a6bd-29ace444f0e1",
     "showTitle": false,
     "tableResultSettingsMap": {},
     "title": ""
    }
   },
   "source": [
    "**4) Simulating an Event Occurring Before and After DST Ends**\n",
    "\n",
    "- Imagine a log entry or a scheduled event happening on **November 1, 2020, at 1:30 AM** CST (Chicago time).\n",
    "\n",
    "- Since this time happens **twice**, we can store it properly using **fold**.\n",
    "\n",
    "**Example:** Storing Log Entries with fold"
   ]
  },
  {
   "cell_type": "code",
   "execution_count": 0,
   "metadata": {
    "application/vnd.databricks.v1+cell": {
     "cellMetadata": {
      "byteLimit": 2048000,
      "rowLimit": 10000
     },
     "inputWidgets": {},
     "nuid": "5fe7facf-9e1a-425d-8062-79b77c0edc05",
     "showTitle": false,
     "tableResultSettingsMap": {},
     "title": ""
    }
   },
   "outputs": [
    {
     "output_type": "stream",
     "name": "stdout",
     "output_type": "stream",
     "text": [
      "Log entry 1: 2020-11-01 01:30:00-05:00 -1 day, 19:00:00\nLog entry 2: 2020-11-01 01:30:00-06:00 -1 day, 18:00:00\n"
     ]
    }
   ],
   "source": [
    "log_entry1 = datetime(2020, 11, 1, 1, 30, tzinfo=ZoneInfo(\"America/Chicago\")).replace(fold=0)\n",
    "log_entry2 = datetime(2020, 11, 1, 1, 30, tzinfo=ZoneInfo(\"America/Chicago\")).replace(fold=1)\n",
    "\n",
    "print(\"Log entry 1:\", log_entry1, log_entry1.utcoffset())  # UTC-5\n",
    "print(\"Log entry 2:\", log_entry2, log_entry2.utcoffset())  # UTC-6"
   ]
  },
  {
   "cell_type": "markdown",
   "metadata": {
    "application/vnd.databricks.v1+cell": {
     "cellMetadata": {},
     "inputWidgets": {},
     "nuid": "9ffce6b9-047a-4250-95c6-c365c28fb5f6",
     "showTitle": false,
     "tableResultSettingsMap": {},
     "title": ""
    }
   },
   "source": [
    "- The same time appears twice in logs.\n",
    "- Using fold, we can distinguish between them."
   ]
  },
  {
   "cell_type": "code",
   "execution_count": 0,
   "metadata": {
    "application/vnd.databricks.v1+cell": {
     "cellMetadata": {
      "byteLimit": 2048000,
      "rowLimit": 10000
     },
     "inputWidgets": {},
     "nuid": "c7bfc937-cd8a-45c1-9d99-803473288432",
     "showTitle": false,
     "tableResultSettingsMap": {},
     "title": ""
    }
   },
   "outputs": [
    {
     "output_type": "stream",
     "name": "stdout",
     "output_type": "stream",
     "text": [
      "2024-11-03 01:30:00-04:00 Fold: 0\n2024-11-03 01:30:00-05:00 Fold: 1\n"
     ]
    }
   ],
   "source": [
    "from datetime import datetime\n",
    "from zoneinfo import ZoneInfo  # Python 3.9+\n",
    "\n",
    "# Transition from DST to Standard Time in New York (Nov 3, 2024, 1:30 AM)\n",
    "tz = ZoneInfo(\"America/New_York\")\n",
    "\n",
    "# First occurrence (before the rollback, still in DST)\n",
    "dt1 = datetime(2024, 11, 3, 1, 30, tzinfo=tz)\n",
    "print(dt1, \"Fold:\", dt1.fold)\n",
    "\n",
    "# Second occurrence (after the rollback, now in standard time)\n",
    "dt2 = datetime(2024, 11, 3, 1, 30, tzinfo=tz).replace(fold=1)\n",
    "print(dt2, \"Fold:\", dt2.fold)\n",
    "\n",
    "#2024-11-03 01:30:00-04:00 Fold: 0  # Still in DST (UTC-4)\n",
    "#2024-11-03 01:30:00-05:00 Fold: 1  # Standard Time (UTC-5)"
   ]
  },
  {
   "cell_type": "markdown",
   "metadata": {
    "application/vnd.databricks.v1+cell": {
     "cellMetadata": {},
     "inputWidgets": {},
     "nuid": "2c5edc47-6630-43f5-947c-0fd1966d11a0",
     "showTitle": false,
     "tableResultSettingsMap": {},
     "title": ""
    }
   },
   "source": [
    "**5) Avoiding Errors in Time Calculations**\n",
    "\n",
    "- If you're calculating the time difference across DST transitions, you should always check the fold attribute to ensure correctness.\n",
    "\n",
    "**Example:** Time Difference in DST Change"
   ]
  },
  {
   "cell_type": "code",
   "execution_count": 0,
   "metadata": {
    "application/vnd.databricks.v1+cell": {
     "cellMetadata": {
      "byteLimit": 2048000,
      "rowLimit": 10000
     },
     "inputWidgets": {},
     "nuid": "246d8459-0bc6-47ca-8b32-ae7849758661",
     "showTitle": false,
     "tableResultSettingsMap": {},
     "title": ""
    }
   },
   "outputs": [
    {
     "output_type": "stream",
     "name": "stdout",
     "output_type": "stream",
     "text": [
      "Time difference for fold=0: 1:00:00\nTime difference for fold=1: 1:00:00\n"
     ]
    }
   ],
   "source": [
    "# Before DST ends\n",
    "dt_before = datetime(2020, 11, 1, 0, 30, tzinfo=ZoneInfo(\"America/Chicago\"))\n",
    "# Second occurrence (after the rollbac\n",
    "dt_after_0 = datetime(2020, 11, 1, 1, 30, tzinfo=ZoneInfo(\"America/Chicago\")).replace(fold=1)\n",
    "# First occurrence (before the rollback)\n",
    "dt_after_1 = datetime(2020, 11, 1, 1, 30, tzinfo=ZoneInfo(\"America/Chicago\")).replace(fold=0)\n",
    "\n",
    "time_diff_0 = dt_after_0 - dt_before\n",
    "time_diff_1 = dt_after_1 - dt_before\n",
    "\n",
    "print(\"Time difference for fold=0:\", time_diff_0)\n",
    "print(\"Time difference for fold=1:\", time_diff_1)"
   ]
  },
  {
   "cell_type": "markdown",
   "metadata": {
    "application/vnd.databricks.v1+cell": {
     "cellMetadata": {},
     "inputWidgets": {},
     "nuid": "bd749db3-e36c-4de4-b7c3-5a7ac5aab846",
     "showTitle": false,
     "tableResultSettingsMap": {},
     "title": ""
    }
   },
   "source": [
    "**Time difference: 2:00:00**\n",
    "- (12:30 to 2) => 1:30 hrs\n",
    "\n",
    "  (1 to 1:30)  => 30 min\n",
    "\n",
    "**Explanation:**\n",
    "- If fold wasn't used properly, the difference might be calculated incorrectly."
   ]
  },
  {
   "cell_type": "code",
   "execution_count": 0,
   "metadata": {
    "application/vnd.databricks.v1+cell": {
     "cellMetadata": {
      "byteLimit": 2048000,
      "rowLimit": 10000
     },
     "inputWidgets": {},
     "nuid": "ed7570b8-18e6-4df9-8318-3d0dfdbc6510",
     "showTitle": false,
     "tableResultSettingsMap": {},
     "title": ""
    }
   },
   "outputs": [
    {
     "output_type": "stream",
     "name": "stdout",
     "output_type": "stream",
     "text": [
      "America/Chicago:  2020-11-01 01:00:00-05:00 CDT America/Chicago\nAfter set back:  2020-11-01 01:00:00-06:00 CST America/Chicago\nconvert DST to UTC:  2020-11-01 07:00:00+00:00\n"
     ]
    }
   ],
   "source": [
    "from datetime import datetime, timezone\n",
    "\n",
    "dt = datetime(2020, 11, 1, 1, tzinfo=ZoneInfo(\"America/Chicago\"))\n",
    "\n",
    "print(\"America/Chicago: \", dt, dt.tzname(), dt.tzinfo)\n",
    "\n",
    "dst = dt.replace(fold=1)\n",
    "\n",
    "print(\"After set back: \", dst, dst.tzname(), dst.tzinfo)\n",
    "print(\"convert DST to UTC: \", dst.astimezone(timezone.utc))"
   ]
  }
 ],
 "metadata": {
  "application/vnd.databricks.v1+notebook": {
   "computePreferences": null,
   "dashboards": [],
   "environmentMetadata": {
    "base_environment": "",
    "environment_version": "1"
   },
   "inputWidgetPreferences": null,
   "language": "python",
   "notebookMetadata": {
    "pythonIndentUnit": 4
   },
   "notebookName": "32_How to use fold=0,1 in zoneinfo Python",
   "widgets": {}
  }
 },
 "nbformat": 4,
 "nbformat_minor": 0
}