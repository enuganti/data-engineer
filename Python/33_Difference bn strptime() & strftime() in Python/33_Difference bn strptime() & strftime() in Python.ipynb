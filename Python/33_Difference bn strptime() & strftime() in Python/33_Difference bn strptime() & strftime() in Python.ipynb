{
 "cells": [
  {
   "cell_type": "markdown",
   "metadata": {
    "application/vnd.databricks.v1+cell": {
     "cellMetadata": {},
     "inputWidgets": {},
     "nuid": "bdb26602-dae0-4146-aaa4-535100277364",
     "showTitle": false,
     "tableResultSettingsMap": {},
     "title": ""
    }
   },
   "source": [
    "#### **Difference Between strptime() and strftime() in Python's datetime Module**\n",
    "\n",
    "- Both **strptime() and strftime()** are used to work with **date-time formatting**, but they serve different purposes:\n",
    "\n",
    "| Method      |\tPurpose   |\n",
    "|-------------|-----------|\n",
    "| strptime()\t| Parses a **string** into a **datetime** object |\n",
    "| strftime()\t| Formats a **datetime** object into a **string** |"
   ]
  },
  {
   "cell_type": "markdown",
   "metadata": {
    "application/vnd.databricks.v1+cell": {
     "cellMetadata": {},
     "inputWidgets": {},
     "nuid": "fa7fb8fa-f16b-4b39-acb9-821633eda2ac",
     "showTitle": false,
     "tableResultSettingsMap": {},
     "title": ""
    }
   },
   "source": [
    "%md\n",
    "#### **Common Format Codes**\n",
    "\n",
    "| Format Code |\tDescription\t| Example Output |\n",
    "|-------------|-------------|----------------|\n",
    "| %Y\t| Year (4 digits)\t| 2025 |\n",
    "| %y\t| Year (2 digits)\t| 25   |\n",
    "| %d\t| Day of month (01-31)\t | 22   |\n",
    "| %H  | Hour (24-hour)\t| 14   |\n",
    "| %I  | Hour (12-hour)\t| 02   |\n",
    "| %M\t| Minute (00-59)\t| 30   |\n",
    "| %S\t| Second (00-59)\t| 00   |\n",
    "| %p\t| AM/PM\t            | PM   |\n",
    "| %w  | Weekday as a number 0-6, 0 is Sunday | 3 |\n",
    "| %m\t| Month as a number 01-12   | 12       |\t\n",
    "| %f\t| Microsecond | 000000-999999\t548513 |\n",
    "| %z |\tUTC offset\t| +0100 |\t\n",
    "| %Z\t| Timezone\t| CST |\t\n",
    "| %j\t| Day number of year 001-366 |\t365 |\t\n",
    "| %U\t|Week number of year, Sunday as the first day of week, 00-53 |\t52 |\t\n",
    "| %W\t| Week number of year, Monday as the first day of week, 00-53\t| 52 |\t\n",
    "| %c\t| Local version of date and time\tMon Dec 31 17:41:00 | 2018 |\t\n",
    "| %C\t| Century |\t20 |\t\n",
    "| %x\t| Local version of date |\t12/31/18 |\t\n",
    "| %X |\tLocal version of time |\t17:41:00 |\t\n",
    "| %%\t| A % character |\t% |\t\n",
    "| %G\t| ISO 8601 year |\t2018 |\t\n",
    "| %u\t| ISO 8601 weekday (1-7) | \t1 |\t\n",
    "| %V\t| ISO 8601 weeknumber (01-53) |\t01 |\n"
   ]
  },
  {
   "cell_type": "markdown",
   "metadata": {
    "application/vnd.databricks.v1+cell": {
     "cellMetadata": {},
     "inputWidgets": {},
     "nuid": "4886ffd7-9fdf-423e-b699-04363cfb58c3",
     "showTitle": false,
     "tableResultSettingsMap": {},
     "title": ""
    }
   },
   "source": [
    "| Format Code |\tDescription\t| Example Output |\n",
    "|-------------|-------------|----------------|\n",
    "| %a    | Weekday, short version | Wed       |\n",
    "| %A    | Weekday, full version  | Wednesday |\n",
    "| %b\t  | Month name, short version | Mar    |\n",
    "| %B\t  | Month name, full version  | March  |"
   ]
  },
  {
   "cell_type": "markdown",
   "metadata": {
    "application/vnd.databricks.v1+cell": {
     "cellMetadata": {},
     "inputWidgets": {},
     "nuid": "745ac6b3-327e-484a-8b9e-04e883416639",
     "showTitle": false,
     "tableResultSettingsMap": {},
     "title": ""
    }
   },
   "source": [
    "#### **1) strptime() (Convert String to Datetime)**\n",
    "\n",
    "- The strptime() function is used to **convert** a **string representing a date and time**, converting it into a **datetime object**.\n",
    "\n",
    "- Requires a format string to interpret the input."
   ]
  },
  {
   "cell_type": "markdown",
   "metadata": {
    "application/vnd.databricks.v1+cell": {
     "cellMetadata": {},
     "inputWidgets": {},
     "nuid": "5b9029f0-acb1-4e66-bc5a-6ab628828486",
     "showTitle": false,
     "tableResultSettingsMap": {},
     "title": ""
    }
   },
   "source": [
    "**Syntax:**\n",
    "\n",
    "     datetime.strptime(time_data, format_data)\n",
    "\n",
    "**Parameter:**\n",
    "\n",
    "- **time_data** is the **time** present in **string** format.\n",
    "- **format_data** is the data present in **datetime format** which is converted from time_data using this function."
   ]
  },
  {
   "cell_type": "code",
   "execution_count": 0,
   "metadata": {
    "application/vnd.databricks.v1+cell": {
     "cellMetadata": {
      "byteLimit": 2048000,
      "rowLimit": 10000
     },
     "inputWidgets": {},
     "nuid": "5564ad7b-b660-47b3-9a74-9497f99d8b34",
     "showTitle": true,
     "tableResultSettingsMap": {},
     "title": "strptime()"
    }
   },
   "outputs": [
    {
     "output_type": "stream",
     "name": "stdout",
     "output_type": "stream",
     "text": [
      "21 June, 2018 <class 'str'>\n2018-06-21 00:00:00 <class 'datetime.datetime'>\n"
     ]
    }
   ],
   "source": [
    "from datetime import datetime\n",
    "\n",
    "date_string = \"21 June, 2018\"\n",
    "print(date_string, type(date_string))\n",
    "\n",
    "date_object = datetime.strptime(date_string, \"%d %B, %Y\")\n",
    "print(date_object, type(date_object))"
   ]
  },
  {
   "cell_type": "markdown",
   "metadata": {
    "application/vnd.databricks.v1+cell": {
     "cellMetadata": {},
     "inputWidgets": {},
     "nuid": "a5f067e4-78bd-4cd9-ac43-caf8bf8b7288",
     "showTitle": false,
     "tableResultSettingsMap": {},
     "title": ""
    }
   },
   "source": [
    "Based on the **string and format code** used, the method returns its **equivalent datetime** object.\n",
    "\n",
    "Here,\n",
    "\n",
    "- **%d** - Represents the day of the month. **Example: 01, 02, ..., 31**\n",
    "- **%B** - Month's name in full. **Example: January, February etc.**\n",
    "- **%Y** - Year in four digits. **Example: 2018, 2019 etc.**"
   ]
  },
  {
   "cell_type": "markdown",
   "metadata": {
    "application/vnd.databricks.v1+cell": {
     "cellMetadata": {},
     "inputWidgets": {},
     "nuid": "85caf178-f8dd-4490-92c0-6d42a0c567d9",
     "showTitle": false,
     "tableResultSettingsMap": {},
     "title": ""
    }
   },
   "source": [
    "**ValueError in strptime()**\n",
    "\n",
    "- If the **string (first argument) and the format code (second argument)** passed to the **strptime() doesn't match**, you will get **ValueError**."
   ]
  },
  {
   "cell_type": "code",
   "execution_count": 0,
   "metadata": {
    "application/vnd.databricks.v1+cell": {
     "cellMetadata": {
      "byteLimit": 2048000,
      "rowLimit": 10000
     },
     "inputWidgets": {},
     "nuid": "34651a75-2a5a-4298-a34b-86bda5f18431",
     "showTitle": false,
     "tableResultSettingsMap": {},
     "title": ""
    }
   },
   "outputs": [
    {
     "output_type": "display_data",
     "data": {
      "text/plain": [
       "\u001B[0;31m---------------------------------------------------------------------------\u001B[0m\n",
       "\u001B[0;31mValueError\u001B[0m                                Traceback (most recent call last)\n",
       "File \u001B[0;32m<command-2435821732053498>, line 4\u001B[0m\n",
       "\u001B[1;32m      1\u001B[0m \u001B[38;5;28;01mfrom\u001B[39;00m \u001B[38;5;21;01mdatetime\u001B[39;00m \u001B[38;5;28;01mimport\u001B[39;00m datetime\n",
       "\u001B[1;32m      3\u001B[0m date_string \u001B[38;5;241m=\u001B[39m \u001B[38;5;124m\"\u001B[39m\u001B[38;5;124m12/11/2018\u001B[39m\u001B[38;5;124m\"\u001B[39m\n",
       "\u001B[0;32m----> 4\u001B[0m date_object \u001B[38;5;241m=\u001B[39m datetime\u001B[38;5;241m.\u001B[39mstrptime(date_string, \u001B[38;5;124m\"\u001B[39m\u001B[38;5;132;01m%d\u001B[39;00m\u001B[38;5;124m \u001B[39m\u001B[38;5;124m%\u001B[39m\u001B[38;5;124mm \u001B[39m\u001B[38;5;124m%\u001B[39m\u001B[38;5;124mY\u001B[39m\u001B[38;5;124m\"\u001B[39m)\n",
       "\u001B[1;32m      6\u001B[0m \u001B[38;5;28mprint\u001B[39m(\u001B[38;5;124m\"\u001B[39m\u001B[38;5;124mdate_object =\u001B[39m\u001B[38;5;124m\"\u001B[39m, date_object)\n",
       "\n",
       "File \u001B[0;32m/usr/lib/python3.11/_strptime.py:568\u001B[0m, in \u001B[0;36m_strptime_datetime\u001B[0;34m(cls, data_string, format)\u001B[0m\n",
       "\u001B[1;32m    565\u001B[0m \u001B[38;5;28;01mdef\u001B[39;00m \u001B[38;5;21m_strptime_datetime\u001B[39m(\u001B[38;5;28mcls\u001B[39m, data_string, \u001B[38;5;28mformat\u001B[39m\u001B[38;5;241m=\u001B[39m\u001B[38;5;124m\"\u001B[39m\u001B[38;5;132;01m%a\u001B[39;00m\u001B[38;5;124m \u001B[39m\u001B[38;5;124m%\u001B[39m\u001B[38;5;124mb \u001B[39m\u001B[38;5;132;01m%d\u001B[39;00m\u001B[38;5;124m \u001B[39m\u001B[38;5;124m%\u001B[39m\u001B[38;5;124mH:\u001B[39m\u001B[38;5;124m%\u001B[39m\u001B[38;5;124mM:\u001B[39m\u001B[38;5;124m%\u001B[39m\u001B[38;5;124mS \u001B[39m\u001B[38;5;124m%\u001B[39m\u001B[38;5;124mY\u001B[39m\u001B[38;5;124m\"\u001B[39m):\n",
       "\u001B[1;32m    566\u001B[0m \u001B[38;5;250m    \u001B[39m\u001B[38;5;124;03m\"\"\"Return a class cls instance based on the input string and the\u001B[39;00m\n",
       "\u001B[1;32m    567\u001B[0m \u001B[38;5;124;03m    format string.\"\"\"\u001B[39;00m\n",
       "\u001B[0;32m--> 568\u001B[0m     tt, fraction, gmtoff_fraction \u001B[38;5;241m=\u001B[39m _strptime(data_string, \u001B[38;5;28mformat\u001B[39m)\n",
       "\u001B[1;32m    569\u001B[0m     tzname, gmtoff \u001B[38;5;241m=\u001B[39m tt[\u001B[38;5;241m-\u001B[39m\u001B[38;5;241m2\u001B[39m:]\n",
       "\u001B[1;32m    570\u001B[0m     args \u001B[38;5;241m=\u001B[39m tt[:\u001B[38;5;241m6\u001B[39m] \u001B[38;5;241m+\u001B[39m (fraction,)\n",
       "\n",
       "File \u001B[0;32m/usr/lib/python3.11/_strptime.py:349\u001B[0m, in \u001B[0;36m_strptime\u001B[0;34m(data_string, format)\u001B[0m\n",
       "\u001B[1;32m    347\u001B[0m found \u001B[38;5;241m=\u001B[39m format_regex\u001B[38;5;241m.\u001B[39mmatch(data_string)\n",
       "\u001B[1;32m    348\u001B[0m \u001B[38;5;28;01mif\u001B[39;00m \u001B[38;5;129;01mnot\u001B[39;00m found:\n",
       "\u001B[0;32m--> 349\u001B[0m     \u001B[38;5;28;01mraise\u001B[39;00m \u001B[38;5;167;01mValueError\u001B[39;00m(\u001B[38;5;124m\"\u001B[39m\u001B[38;5;124mtime data \u001B[39m\u001B[38;5;132;01m%r\u001B[39;00m\u001B[38;5;124m does not match format \u001B[39m\u001B[38;5;132;01m%r\u001B[39;00m\u001B[38;5;124m\"\u001B[39m \u001B[38;5;241m%\u001B[39m\n",
       "\u001B[1;32m    350\u001B[0m                      (data_string, \u001B[38;5;28mformat\u001B[39m))\n",
       "\u001B[1;32m    351\u001B[0m \u001B[38;5;28;01mif\u001B[39;00m \u001B[38;5;28mlen\u001B[39m(data_string) \u001B[38;5;241m!=\u001B[39m found\u001B[38;5;241m.\u001B[39mend():\n",
       "\u001B[1;32m    352\u001B[0m     \u001B[38;5;28;01mraise\u001B[39;00m \u001B[38;5;167;01mValueError\u001B[39;00m(\u001B[38;5;124m\"\u001B[39m\u001B[38;5;124munconverted data remains: \u001B[39m\u001B[38;5;132;01m%s\u001B[39;00m\u001B[38;5;124m\"\u001B[39m \u001B[38;5;241m%\u001B[39m\n",
       "\u001B[1;32m    353\u001B[0m                       data_string[found\u001B[38;5;241m.\u001B[39mend():])\n",
       "\n",
       "\u001B[0;31mValueError\u001B[0m: time data '12/11/2018' does not match format '%d %m %Y'"
      ]
     },
     "metadata": {
      "application/vnd.databricks.v1+output": {
       "addedWidgets": {},
       "arguments": {},
       "datasetInfos": [],
       "jupyterProps": {
        "ename": "ValueError",
        "evalue": "time data '12/11/2018' does not match format '%d %m %Y'"
       },
       "metadata": {
        "errorSummary": "<span class='ansi-red-fg'>ValueError</span>: time data '12/11/2018' does not match format '%d %m %Y'"
       },
       "removedWidgets": [],
       "sqlProps": null,
       "stackFrames": [
        "\u001B[0;31m---------------------------------------------------------------------------\u001B[0m",
        "\u001B[0;31mValueError\u001B[0m                                Traceback (most recent call last)",
        "File \u001B[0;32m<command-2435821732053498>, line 4\u001B[0m\n\u001B[1;32m      1\u001B[0m \u001B[38;5;28;01mfrom\u001B[39;00m \u001B[38;5;21;01mdatetime\u001B[39;00m \u001B[38;5;28;01mimport\u001B[39;00m datetime\n\u001B[1;32m      3\u001B[0m date_string \u001B[38;5;241m=\u001B[39m \u001B[38;5;124m\"\u001B[39m\u001B[38;5;124m12/11/2018\u001B[39m\u001B[38;5;124m\"\u001B[39m\n\u001B[0;32m----> 4\u001B[0m date_object \u001B[38;5;241m=\u001B[39m datetime\u001B[38;5;241m.\u001B[39mstrptime(date_string, \u001B[38;5;124m\"\u001B[39m\u001B[38;5;132;01m%d\u001B[39;00m\u001B[38;5;124m \u001B[39m\u001B[38;5;124m%\u001B[39m\u001B[38;5;124mm \u001B[39m\u001B[38;5;124m%\u001B[39m\u001B[38;5;124mY\u001B[39m\u001B[38;5;124m\"\u001B[39m)\n\u001B[1;32m      6\u001B[0m \u001B[38;5;28mprint\u001B[39m(\u001B[38;5;124m\"\u001B[39m\u001B[38;5;124mdate_object =\u001B[39m\u001B[38;5;124m\"\u001B[39m, date_object)\n",
        "File \u001B[0;32m/usr/lib/python3.11/_strptime.py:568\u001B[0m, in \u001B[0;36m_strptime_datetime\u001B[0;34m(cls, data_string, format)\u001B[0m\n\u001B[1;32m    565\u001B[0m \u001B[38;5;28;01mdef\u001B[39;00m \u001B[38;5;21m_strptime_datetime\u001B[39m(\u001B[38;5;28mcls\u001B[39m, data_string, \u001B[38;5;28mformat\u001B[39m\u001B[38;5;241m=\u001B[39m\u001B[38;5;124m\"\u001B[39m\u001B[38;5;132;01m%a\u001B[39;00m\u001B[38;5;124m \u001B[39m\u001B[38;5;124m%\u001B[39m\u001B[38;5;124mb \u001B[39m\u001B[38;5;132;01m%d\u001B[39;00m\u001B[38;5;124m \u001B[39m\u001B[38;5;124m%\u001B[39m\u001B[38;5;124mH:\u001B[39m\u001B[38;5;124m%\u001B[39m\u001B[38;5;124mM:\u001B[39m\u001B[38;5;124m%\u001B[39m\u001B[38;5;124mS \u001B[39m\u001B[38;5;124m%\u001B[39m\u001B[38;5;124mY\u001B[39m\u001B[38;5;124m\"\u001B[39m):\n\u001B[1;32m    566\u001B[0m \u001B[38;5;250m    \u001B[39m\u001B[38;5;124;03m\"\"\"Return a class cls instance based on the input string and the\u001B[39;00m\n\u001B[1;32m    567\u001B[0m \u001B[38;5;124;03m    format string.\"\"\"\u001B[39;00m\n\u001B[0;32m--> 568\u001B[0m     tt, fraction, gmtoff_fraction \u001B[38;5;241m=\u001B[39m _strptime(data_string, \u001B[38;5;28mformat\u001B[39m)\n\u001B[1;32m    569\u001B[0m     tzname, gmtoff \u001B[38;5;241m=\u001B[39m tt[\u001B[38;5;241m-\u001B[39m\u001B[38;5;241m2\u001B[39m:]\n\u001B[1;32m    570\u001B[0m     args \u001B[38;5;241m=\u001B[39m tt[:\u001B[38;5;241m6\u001B[39m] \u001B[38;5;241m+\u001B[39m (fraction,)\n",
        "File \u001B[0;32m/usr/lib/python3.11/_strptime.py:349\u001B[0m, in \u001B[0;36m_strptime\u001B[0;34m(data_string, format)\u001B[0m\n\u001B[1;32m    347\u001B[0m found \u001B[38;5;241m=\u001B[39m format_regex\u001B[38;5;241m.\u001B[39mmatch(data_string)\n\u001B[1;32m    348\u001B[0m \u001B[38;5;28;01mif\u001B[39;00m \u001B[38;5;129;01mnot\u001B[39;00m found:\n\u001B[0;32m--> 349\u001B[0m     \u001B[38;5;28;01mraise\u001B[39;00m \u001B[38;5;167;01mValueError\u001B[39;00m(\u001B[38;5;124m\"\u001B[39m\u001B[38;5;124mtime data \u001B[39m\u001B[38;5;132;01m%r\u001B[39;00m\u001B[38;5;124m does not match format \u001B[39m\u001B[38;5;132;01m%r\u001B[39;00m\u001B[38;5;124m\"\u001B[39m \u001B[38;5;241m%\u001B[39m\n\u001B[1;32m    350\u001B[0m                      (data_string, \u001B[38;5;28mformat\u001B[39m))\n\u001B[1;32m    351\u001B[0m \u001B[38;5;28;01mif\u001B[39;00m \u001B[38;5;28mlen\u001B[39m(data_string) \u001B[38;5;241m!=\u001B[39m found\u001B[38;5;241m.\u001B[39mend():\n\u001B[1;32m    352\u001B[0m     \u001B[38;5;28;01mraise\u001B[39;00m \u001B[38;5;167;01mValueError\u001B[39;00m(\u001B[38;5;124m\"\u001B[39m\u001B[38;5;124munconverted data remains: \u001B[39m\u001B[38;5;132;01m%s\u001B[39;00m\u001B[38;5;124m\"\u001B[39m \u001B[38;5;241m%\u001B[39m\n\u001B[1;32m    353\u001B[0m                       data_string[found\u001B[38;5;241m.\u001B[39mend():])\n",
        "\u001B[0;31mValueError\u001B[0m: time data '12/11/2018' does not match format '%d %m %Y'"
       ],
       "type": "baseError"
      }
     },
     "output_type": "display_data"
    }
   ],
   "source": [
    "from datetime import datetime\n",
    "\n",
    "date_string = \"12/11/2018\"\n",
    "date_object = datetime.strptime(date_string, \"%d %m %Y\")\n",
    "\n",
    "print(\"date_object =\", date_object)"
   ]
  },
  {
   "cell_type": "markdown",
   "metadata": {
    "application/vnd.databricks.v1+cell": {
     "cellMetadata": {},
     "inputWidgets": {},
     "nuid": "a81476dd-1050-455d-89a8-aaf0178a16e2",
     "showTitle": false,
     "tableResultSettingsMap": {},
     "title": ""
    }
   },
   "source": [
    "- If you run this program, you will get an error.\n",
    "\n",
    "- **ValueError:** time data '12/11/2018' **does not match** format '%d %m %Y'"
   ]
  },
  {
   "cell_type": "markdown",
   "metadata": {
    "application/vnd.databricks.v1+cell": {
     "cellMetadata": {},
     "inputWidgets": {},
     "nuid": "cee62205-1f3a-4144-aa8b-52771342f8c7",
     "showTitle": false,
     "tableResultSettingsMap": {},
     "title": ""
    }
   },
   "source": [
    "**a) Converting a string in a specific format to a datetime object**"
   ]
  },
  {
   "cell_type": "code",
   "execution_count": 0,
   "metadata": {
    "application/vnd.databricks.v1+cell": {
     "cellMetadata": {
      "byteLimit": 2048000,
      "rowLimit": 10000
     },
     "inputWidgets": {},
     "nuid": "3f860d63-1b70-4ec9-96f3-6fa3b6c28ece",
     "showTitle": false,
     "tableResultSettingsMap": {},
     "title": ""
    }
   },
   "outputs": [
    {
     "output_type": "stream",
     "name": "stdout",
     "output_type": "stream",
     "text": [
      "date_string = 21 June, 2018\ntype of date_string = <class 'str'>\ndate_object = 2018-06-21 00:00:00\ntype of date_object = <class 'datetime.datetime'>\n"
     ]
    }
   ],
   "source": [
    "from datetime import datetime\n",
    "\n",
    "date_string = \"21 June, 2018\"\n",
    "print(\"date_string =\", date_string)\n",
    "print(\"type of date_string =\", type(date_string))\n",
    "\n",
    "date_object = datetime.strptime(date_string, \"%d %B, %Y\")\n",
    "print(\"date_object =\", date_object)\n",
    "print(\"type of date_object =\", type(date_object))"
   ]
  },
  {
   "cell_type": "code",
   "execution_count": 0,
   "metadata": {
    "application/vnd.databricks.v1+cell": {
     "cellMetadata": {
      "byteLimit": 2048000,
      "rowLimit": 10000
     },
     "inputWidgets": {},
     "nuid": "e62e7cff-4af4-40fb-9377-2bd424264fa6",
     "showTitle": false,
     "tableResultSettingsMap": {},
     "title": ""
    }
   },
   "outputs": [
    {
     "output_type": "stream",
     "name": "stdout",
     "output_type": "stream",
     "text": [
      "dt_object1 = 2018-11-12 09:15:32\ndt_object2 = 2018-12-11 09:15:32\n"
     ]
    }
   ],
   "source": [
    "from datetime import datetime\n",
    "\n",
    "dt_string = \"12/11/2018 09:15:32\"\n",
    "\n",
    "# Considering date is in dd/mm/yyyy format\n",
    "dt_object1 = datetime.strptime(dt_string, \"%d/%m/%Y %H:%M:%S\")\n",
    "print(\"dt_object1 =\", dt_object1)\n",
    "\n",
    "# Considering date is in mm/dd/yyyy format\n",
    "dt_object2 = datetime.strptime(dt_string, \"%m/%d/%Y %H:%M:%S\")\n",
    "print(\"dt_object2 =\", dt_object2)"
   ]
  },
  {
   "cell_type": "code",
   "execution_count": 0,
   "metadata": {
    "application/vnd.databricks.v1+cell": {
     "cellMetadata": {
      "byteLimit": 2048000,
      "rowLimit": 10000
     },
     "inputWidgets": {},
     "nuid": "5112e154-3cbf-42c1-90f0-a894bed3dda0",
     "showTitle": false,
     "tableResultSettingsMap": {},
     "title": ""
    }
   },
   "outputs": [
    {
     "output_type": "stream",
     "name": "stdout",
     "output_type": "stream",
     "text": [
      "2023-02-28 14:30:00\n"
     ]
    }
   ],
   "source": [
    "from datetime import datetime\n",
    "\n",
    "# standard date and time format\n",
    "date_str = '2023-02-28 14:30:00'\n",
    "date_format = '%Y-%m-%d %H:%M:%S'\n",
    "\n",
    "date_obj = datetime.strptime(date_str, date_format)\n",
    "print(date_obj)"
   ]
  },
  {
   "cell_type": "code",
   "execution_count": 0,
   "metadata": {
    "application/vnd.databricks.v1+cell": {
     "cellMetadata": {
      "byteLimit": 2048000,
      "rowLimit": 10000
     },
     "inputWidgets": {},
     "nuid": "db805848-1db4-48a8-b36e-83eb512447ad",
     "showTitle": false,
     "tableResultSettingsMap": {},
     "title": ""
    }
   },
   "outputs": [
    {
     "output_type": "stream",
     "name": "stdout",
     "output_type": "stream",
     "text": [
      "2023-02-28 14:30:00\n"
     ]
    }
   ],
   "source": [
    "date_str = '02/28/2023 02:30 PM'\n",
    "date_format = '%m/%d/%Y %I:%M %p'\n",
    "\n",
    "date_obj = datetime.strptime(date_str, date_format)\n",
    "print(date_obj)"
   ]
  },
  {
   "cell_type": "markdown",
   "metadata": {
    "application/vnd.databricks.v1+cell": {
     "cellMetadata": {},
     "inputWidgets": {},
     "nuid": "634d5221-d8df-4f02-8dee-f7ec99f5d8a3",
     "showTitle": false,
     "tableResultSettingsMap": {},
     "title": ""
    }
   },
   "source": [
    "**b) Converting a string with timezone information to a datetime object**"
   ]
  },
  {
   "cell_type": "code",
   "execution_count": 0,
   "metadata": {
    "application/vnd.databricks.v1+cell": {
     "cellMetadata": {
      "byteLimit": 2048000,
      "rowLimit": 10000
     },
     "inputWidgets": {},
     "nuid": "fbcf0145-27eb-4f3c-a4ff-0fe4fbcc7886",
     "showTitle": false,
     "tableResultSettingsMap": {},
     "title": ""
    }
   },
   "outputs": [
    {
     "output_type": "stream",
     "name": "stdout",
     "output_type": "stream",
     "text": [
      "2023-02-28 14:30:00+05:30\n"
     ]
    }
   ],
   "source": [
    "from datetime import datetime\n",
    "\n",
    "date_str = '2023-02-28 14:30:00+05:30'\n",
    "date_format = '%Y-%m-%d %H:%M:%S%z'\n",
    "\n",
    "date_obj = datetime.strptime(date_str, date_format)\n",
    "print(date_obj)"
   ]
  },
  {
   "cell_type": "markdown",
   "metadata": {
    "application/vnd.databricks.v1+cell": {
     "cellMetadata": {},
     "inputWidgets": {},
     "nuid": "b848b830-86c6-4944-8e71-be7f24841773",
     "showTitle": false,
     "tableResultSettingsMap": {},
     "title": ""
    }
   },
   "source": [
    "#### **2) strftime() (Convert Datetime to String)**\n",
    "\n",
    "- Used to **convert** a **datetime object** into a **formatted string**.\n",
    "\n",
    "- Useful for displaying dates in a readable format."
   ]
  },
  {
   "cell_type": "markdown",
   "metadata": {
    "application/vnd.databricks.v1+cell": {
     "cellMetadata": {},
     "inputWidgets": {},
     "nuid": "23e7c7dc-008f-4f60-8f53-98fda412f5b9",
     "showTitle": false,
     "tableResultSettingsMap": {},
     "title": ""
    }
   },
   "source": [
    "#### **a) datetime to string using strftime()**"
   ]
  },
  {
   "cell_type": "code",
   "execution_count": 0,
   "metadata": {
    "application/vnd.databricks.v1+cell": {
     "cellMetadata": {
      "byteLimit": 2048000,
      "rowLimit": 10000
     },
     "inputWidgets": {},
     "nuid": "ce03bd67-dbec-48ee-9431-1533a557dabd",
     "showTitle": false,
     "tableResultSettingsMap": {},
     "title": ""
    }
   },
   "outputs": [
    {
     "output_type": "stream",
     "name": "stdout",
     "output_type": "stream",
     "text": [
      "2025-04-23 16:07:11.418940\nyear: 2025\nmonth: 04\nday: 23\nDate String: 23/04/2025\ntime: 16:07:11\ndate and time: 04/23/2025, 16:07:11\n"
     ]
    }
   ],
   "source": [
    "from datetime import datetime\n",
    "\n",
    "# current dateTime\n",
    "now = datetime.now()\n",
    "print(now)\n",
    "\n",
    "# year\n",
    "year = now.strftime(\"%Y\")\n",
    "print(\"year:\", year)\n",
    "\n",
    "# Month\n",
    "month = now.strftime(\"%m\")\n",
    "print(\"month:\", month)\n",
    "\n",
    "# Day\n",
    "day = now.strftime(\"%d\")\n",
    "print(\"day:\", day)\n",
    "\n",
    "# convert to date String\n",
    "date = now.strftime(\"%d/%m/%Y\")\n",
    "print('Date String:', date)\n",
    "\n",
    "# convert to time String\n",
    "time = now.strftime(\"%H:%M:%S\")\n",
    "print(\"time:\", time)\n",
    "\n",
    "date_time = now.strftime(\"%m/%d/%Y, %H:%M:%S\")\n",
    "print(\"date and time:\", date_time)"
   ]
  },
  {
   "cell_type": "code",
   "execution_count": 0,
   "metadata": {
    "application/vnd.databricks.v1+cell": {
     "cellMetadata": {
      "byteLimit": 2048000,
      "rowLimit": 10000
     },
     "inputWidgets": {},
     "nuid": "5a2bc28b-7330-4452-9427-bd55af80625b",
     "showTitle": false,
     "tableResultSettingsMap": {},
     "title": ""
    }
   },
   "outputs": [
    {
     "output_type": "stream",
     "name": "stdout",
     "output_type": "stream",
     "text": [
      "Current Datetime:  2025-04-23 16:01:36.542261\nformated datetime:  2025-04-23\nUTC format datetime:  2025-04-23T00:00:00\n"
     ]
    }
   ],
   "source": [
    "from datetime import datetime\n",
    "\n",
    "now = datetime.now()\n",
    "print(\"Current Datetime: \", now)\n",
    "\n",
    "now_format = datetime.now().strftime(\"%Y-%m-%d\")\n",
    "print(\"formated datetime: \", now_format)\n",
    "\n",
    "load_date = datetime.now().strftime(\"%Y-%m-%d\") + 'T00:00:00'\n",
    "print(\"UTC format datetime: \", load_date)"
   ]
  },
  {
   "cell_type": "code",
   "execution_count": 0,
   "metadata": {
    "application/vnd.databricks.v1+cell": {
     "cellMetadata": {
      "byteLimit": 2048000,
      "rowLimit": 10000
     },
     "inputWidgets": {},
     "nuid": "45961f88-c321-444c-a3c7-f8e4225da954",
     "showTitle": false,
     "tableResultSettingsMap": {},
     "title": ""
    }
   },
   "outputs": [
    {
     "output_type": "stream",
     "name": "stdout",
     "output_type": "stream",
     "text": [
      "2025-03-22 14:30:00 <class 'datetime.datetime'> None\n22-Mar-2025 02:30 PM <class 'str'>\n"
     ]
    }
   ],
   "source": [
    "from datetime import datetime\n",
    "\n",
    "# Datetime object\n",
    "dt = datetime(2025, 3, 22, 14, 30, 0)\n",
    "print(dt, type(dt), dt.tzname())\n",
    "\n",
    "# Convert datetime to string\n",
    "formatted_date = dt.strftime(\"%d-%b-%Y %I:%M %p\")\n",
    "print(formatted_date, type(formatted_date))"
   ]
  },
  {
   "cell_type": "markdown",
   "metadata": {
    "application/vnd.databricks.v1+cell": {
     "cellMetadata": {},
     "inputWidgets": {},
     "nuid": "6652d4be-97c0-4093-9fa1-a9cca23a36d1",
     "showTitle": false,
     "tableResultSettingsMap": {},
     "title": ""
    }
   },
   "source": [
    "- The format **\"%d-%b-%Y %I:%M %p\"** ensures the output is more readable."
   ]
  },
  {
   "cell_type": "markdown",
   "metadata": {
    "application/vnd.databricks.v1+cell": {
     "cellMetadata": {},
     "inputWidgets": {},
     "nuid": "e7efa7ce-634f-4f7a-955f-0f18a624e55f",
     "showTitle": false,
     "tableResultSettingsMap": {},
     "title": ""
    }
   },
   "source": [
    "#### **b) Represent Dates in Numerical Format**\n",
    "- The **numerical format** means to display the **day, month, year, hours, minutes, seconds** in **numbers**."
   ]
  },
  {
   "cell_type": "code",
   "execution_count": 0,
   "metadata": {
    "application/vnd.databricks.v1+cell": {
     "cellMetadata": {
      "byteLimit": 2048000,
      "rowLimit": 10000
     },
     "inputWidgets": {},
     "nuid": "0a79823f-c2e4-45cf-9b3f-c9bd65123026",
     "showTitle": false,
     "tableResultSettingsMap": {},
     "title": ""
    }
   },
   "outputs": [
    {
     "output_type": "stream",
     "name": "stdout",
     "output_type": "stream",
     "text": [
      "Current Date: 2025-03-25 03:00:13.996458\ndd-mm-yyyy HH:MM:SS: 25-03-25 03:00:13\ndd-mm-yyyy: 25-03-2025\ndd-mm-yy Format: 25-03-25\n"
     ]
    }
   ],
   "source": [
    "from datetime import datetime\n",
    "\n",
    "# Get current Date\n",
    "x_date = datetime.now()\n",
    "print('Current Date:', x_date)\n",
    "\n",
    "# Represent Dates in numerical format\n",
    "print(\"dd-mm-yyyy HH:MM:SS:\", x_date.strftime(\"%d-%m-%y %H:%M:%S\"))\n",
    "print(\"dd-mm-yyyy:\", x_date.strftime(\"%d-%m-%Y\"))\n",
    "print(\"dd-mm-yy Format:\", x_date.strftime(\"%d-%m-%y\"))"
   ]
  },
  {
   "cell_type": "markdown",
   "metadata": {
    "application/vnd.databricks.v1+cell": {
     "cellMetadata": {},
     "inputWidgets": {},
     "nuid": "ad808699-172c-4a89-b957-b21bac946169",
     "showTitle": false,
     "tableResultSettingsMap": {},
     "title": ""
    }
   },
   "source": [
    "#### **c) Represent Dates in Textual Format**\n",
    "\n",
    "- The textual format means to display the **month name and day name**. like, **Wednesday,07 July, 2021**. You can print the full name and short name of a day and month.\n",
    "\n",
    "  - **%A:** Full name of the day. Like, **Monday**\n",
    "  - **%a:** Short name of the day. Like, **Mon, Tue**\n",
    "  - **%B:** Full name of the month. Like, **December**\n",
    "  - **%b:** Short name of the month. Like, **Mar**"
   ]
  },
  {
   "cell_type": "markdown",
   "metadata": {
    "application/vnd.databricks.v1+cell": {
     "cellMetadata": {},
     "inputWidgets": {},
     "nuid": "5a4b88ed-87bc-4c72-a8c4-3a739d68b538",
     "showTitle": false,
     "tableResultSettingsMap": {},
     "title": ""
    }
   },
   "source": [
    "| Format Code |\tDescription\t| Example Output |\n",
    "|-------------|-------------|----------------|\n",
    "| %a    | Weekday, short version | Wed       |\n",
    "| %A    | Weekday, full version  | Wednesday |\n",
    "| %B\t| Month name, full version  | March    |\n",
    "| %b\t| Month name, short version | Mar      |"
   ]
  },
  {
   "cell_type": "code",
   "execution_count": 0,
   "metadata": {
    "application/vnd.databricks.v1+cell": {
     "cellMetadata": {
      "byteLimit": 2048000,
      "rowLimit": 10000
     },
     "inputWidgets": {},
     "nuid": "f15e6362-6743-4561-a1c7-5658e34281e7",
     "showTitle": false,
     "tableResultSettingsMap": {},
     "title": ""
    }
   },
   "outputs": [
    {
     "output_type": "stream",
     "name": "stdout",
     "output_type": "stream",
     "text": [
      "Current Date: 2025-03-25 03:00:18.298972\ndd-MonthName-yyyy: 25-March-2025\nDayName-dd-MonthName-yyyy: Tuesday,25 March, 2025\ndd-MonthName-yyyy: 25-Mar-2025\nDDD-dd-MMM-yyyy: Tue,25 Mar, 2025\n"
     ]
    }
   ],
   "source": [
    "from datetime import datetime\n",
    "\n",
    "# Get current Date\n",
    "x_date = datetime.now()\n",
    "print('Current Date:', x_date)\n",
    "\n",
    "# Represent Dates in full textual format\n",
    "print(\"dd-MonthName-yyyy:\", x_date.strftime(\"%d-%B-%Y\"))\n",
    "print(\"DayName-dd-MonthName-yyyy:\", x_date.strftime(\"%A,%d %B, %Y\"))\n",
    "\n",
    "# Represent dates in short textual format\n",
    "print(\"dd-MonthName-yyyy:\", x_date.strftime(\"%d-%b-%Y\"))\n",
    "print(\"DDD-dd-MMM-yyyy:\", x_date.strftime(\"%a,%d %b, %Y\"))"
   ]
  },
  {
   "cell_type": "markdown",
   "metadata": {
    "application/vnd.databricks.v1+cell": {
     "cellMetadata": {},
     "inputWidgets": {},
     "nuid": "abab9c25-19c5-4549-a969-e5c798cb4c0e",
     "showTitle": false,
     "tableResultSettingsMap": {},
     "title": ""
    }
   },
   "source": [
    "#### **d) Convert Date to String**"
   ]
  },
  {
   "cell_type": "code",
   "execution_count": 0,
   "metadata": {
    "application/vnd.databricks.v1+cell": {
     "cellMetadata": {
      "byteLimit": 2048000,
      "rowLimit": 10000
     },
     "inputWidgets": {},
     "nuid": "87e8e5fe-0757-4593-a945-4ad2d399035f",
     "showTitle": false,
     "tableResultSettingsMap": {},
     "title": ""
    }
   },
   "outputs": [
    {
     "output_type": "stream",
     "name": "stdout",
     "output_type": "stream",
     "text": [
      "Today's date: 2025-03-25\nDate String 25-03-25\n"
     ]
    }
   ],
   "source": [
    "from datetime import date\n",
    "\n",
    "# current date\n",
    "today = date.today()\n",
    "print(\"Today's date:\", today)\n",
    "\n",
    "# format date\n",
    "print('Date String', today.strftime(\"%d-%m-%y\"))"
   ]
  },
  {
   "cell_type": "code",
   "execution_count": 0,
   "metadata": {
    "application/vnd.databricks.v1+cell": {
     "cellMetadata": {
      "byteLimit": 2048000,
      "rowLimit": 10000
     },
     "inputWidgets": {},
     "nuid": "0186fe59-2ec3-4233-9022-857e2c224ae0",
     "showTitle": false,
     "tableResultSettingsMap": {},
     "title": ""
    }
   },
   "outputs": [
    {
     "output_type": "stream",
     "name": "stdout",
     "output_type": "stream",
     "text": [
      "Date String 25-03-25\n"
     ]
    }
   ],
   "source": [
    "from datetime import datetime\n",
    "\n",
    "# extract date object\n",
    "today = datetime.now().date()\n",
    "# format date\n",
    "print('Date String', today.strftime(\"%d-%m-%y\"))"
   ]
  },
  {
   "cell_type": "markdown",
   "metadata": {
    "application/vnd.databricks.v1+cell": {
     "cellMetadata": {},
     "inputWidgets": {},
     "nuid": "5dc98675-6936-49bd-b667-37b7df10cf59",
     "showTitle": false,
     "tableResultSettingsMap": {},
     "title": ""
    }
   },
   "source": [
    "#### **e) Convert Time Object to String Format**\n",
    "**i) Represent time in 24-hours and 12-hours Format**\n",
    "\n",
    " - Use the **%H-%M-%S** format code to display time in **24-hours format**.\n",
    " - Use the **%I-%M-%S** format code to display time in **12-hours format**."
   ]
  },
  {
   "cell_type": "code",
   "execution_count": 0,
   "metadata": {
    "application/vnd.databricks.v1+cell": {
     "cellMetadata": {
      "byteLimit": 2048000,
      "rowLimit": 10000
     },
     "inputWidgets": {},
     "nuid": "d2d561be-a4b5-4ad6-a6e4-e58e62863e72",
     "showTitle": false,
     "tableResultSettingsMap": {},
     "title": ""
    }
   },
   "outputs": [
    {
     "output_type": "stream",
     "name": "stdout",
     "output_type": "stream",
     "text": [
      "Current Time: 03:00:27.600562\nTime in 24 hours format: 03-00-27\nTime in 12 hours format: 03-00-27\n"
     ]
    }
   ],
   "source": [
    "from datetime import datetime\n",
    "\n",
    "# Get current time\n",
    "x_time = datetime.now().time()\n",
    "print('Current Time:', x_time)\n",
    "\n",
    "print(\"Time in 24 hours format:\", x_time.strftime(\"%H-%M-%S\"))\n",
    "print(\"Time in 12 hours format:\", x_time.strftime(\"%I-%M-%S\"))"
   ]
  },
  {
   "cell_type": "markdown",
   "metadata": {
    "application/vnd.databricks.v1+cell": {
     "cellMetadata": {},
     "inputWidgets": {},
     "nuid": "e919aeea-c60b-4462-8f75-dd7201d4fc13",
     "showTitle": false,
     "tableResultSettingsMap": {},
     "title": ""
    }
   },
   "source": [
    "**ii) Represent Time in Microseconds Format**\n",
    "  - Use the **%f** format code to represent time in **microsecond**.\n",
    "  - Use the **%p** format code to represent time in **AM/PM** format."
   ]
  },
  {
   "cell_type": "code",
   "execution_count": 0,
   "metadata": {
    "application/vnd.databricks.v1+cell": {
     "cellMetadata": {
      "byteLimit": 2048000,
      "rowLimit": 10000
     },
     "inputWidgets": {},
     "nuid": "57ff16cd-4930-4712-b97e-90710112b00b",
     "showTitle": false,
     "tableResultSettingsMap": {},
     "title": ""
    }
   },
   "outputs": [
    {
     "output_type": "stream",
     "name": "stdout",
     "output_type": "stream",
     "text": [
      "Current Time: 03:00:31.146310\nTime is: 03:00:31.146310\n"
     ]
    }
   ],
   "source": [
    "from datetime import datetime\n",
    "\n",
    "# Get current time\n",
    "x_time = datetime.now().time()\n",
    "print('Current Time:', x_time)\n",
    "\n",
    "# Represent time in Microseconds (HH:MM:SS.Microsecond)\n",
    "print(\"Time is:\", x_time.strftime(\"%H:%M:%S.%f\"))"
   ]
  },
  {
   "cell_type": "markdown",
   "metadata": {
    "application/vnd.databricks.v1+cell": {
     "cellMetadata": {},
     "inputWidgets": {},
     "nuid": "5c147b9e-8684-480f-bab4-669092b7cab4",
     "showTitle": false,
     "tableResultSettingsMap": {},
     "title": ""
    }
   },
   "source": [
    "**iii) Represent DateTime in Milliseconds**"
   ]
  },
  {
   "cell_type": "code",
   "execution_count": 0,
   "metadata": {
    "application/vnd.databricks.v1+cell": {
     "cellMetadata": {
      "byteLimit": 2048000,
      "rowLimit": 10000
     },
     "inputWidgets": {},
     "nuid": "abb8a28f-2d33-4ca6-bdd6-0366dd981e65",
     "showTitle": false,
     "tableResultSettingsMap": {},
     "title": ""
    }
   },
   "outputs": [
    {
     "output_type": "stream",
     "name": "stdout",
     "output_type": "stream",
     "text": [
      "2025-03-25 03:00:34.131\n"
     ]
    }
   ],
   "source": [
    "from datetime import datetime\n",
    "\n",
    "# Current Date and time with milliseconds\n",
    "print(datetime.now().strftime('%Y-%m-%d %H:%M:%S.%f')[:-3])"
   ]
  },
  {
   "cell_type": "markdown",
   "metadata": {
    "application/vnd.databricks.v1+cell": {
     "cellMetadata": {},
     "inputWidgets": {},
     "nuid": "4c2290e5-038f-4542-b9c6-a272e052f3c4",
     "showTitle": false,
     "tableResultSettingsMap": {},
     "title": ""
    }
   },
   "source": [
    "**iv) Represent Time in AM/PM Format**\n",
    "- Use the **%p** format code to represent time in **AM/PM** format."
   ]
  },
  {
   "cell_type": "code",
   "execution_count": 0,
   "metadata": {
    "application/vnd.databricks.v1+cell": {
     "cellMetadata": {
      "byteLimit": 2048000,
      "rowLimit": 10000
     },
     "inputWidgets": {},
     "nuid": "80abc4b3-e109-4a66-8c7e-623a7b28243d",
     "showTitle": false,
     "tableResultSettingsMap": {},
     "title": ""
    }
   },
   "outputs": [
    {
     "output_type": "stream",
     "name": "stdout",
     "output_type": "stream",
     "text": [
      "Current Time: 2025-03-25 03:00:37.086880\nTime is: 25-Mar-2025 03.00 AM\nTime is: 03.00 AM\n"
     ]
    }
   ],
   "source": [
    "from datetime import datetime\n",
    "\n",
    "# Get current Datetime\n",
    "dt = datetime.now()\n",
    "print('Current Time:', dt)\n",
    "\n",
    "# %p to represent datetime in AM/PM\n",
    "print(\"Time is:\", dt.strftime(\"%d-%b-%Y %I.%M %p\"))\n",
    "\n",
    "# Represent only time in AM/PM\n",
    "print(\"Time is:\", dt.time().strftime(\"%H.%M %p\"))"
   ]
  },
  {
   "cell_type": "markdown",
   "metadata": {
    "application/vnd.databricks.v1+cell": {
     "cellMetadata": {},
     "inputWidgets": {},
     "nuid": "a880bbf9-ba15-469c-b1c7-754758585b6c",
     "showTitle": false,
     "tableResultSettingsMap": {},
     "title": ""
    }
   },
   "source": [
    "**v) Creating string from a timestamp**"
   ]
  },
  {
   "cell_type": "code",
   "execution_count": 0,
   "metadata": {
    "application/vnd.databricks.v1+cell": {
     "cellMetadata": {
      "byteLimit": 2048000,
      "rowLimit": 10000
     },
     "inputWidgets": {},
     "nuid": "19e26ab8-5093-4b66-8367-6f80fd4d43c7",
     "showTitle": false,
     "tableResultSettingsMap": {},
     "title": ""
    }
   },
   "outputs": [
    {
     "output_type": "stream",
     "name": "stdout",
     "output_type": "stream",
     "text": [
      "Date time object: 2018-06-12 09:55:22\nOutput 2: 06/12/2018, 09:55:22\nOutput 3: 12 Jun, 2018\nOutput 4: 12 June, 2018\nOutput 5: 09AM\nOutput 1: Tue Jun 12 09:55:22 2018\nOutput 2: 06/12/18\nOutput 3: 09:55:22\n"
     ]
    }
   ],
   "source": [
    "from datetime import datetime\n",
    "\n",
    "timestamp = 1528797322\n",
    "date_time = datetime.fromtimestamp(timestamp)\n",
    "print(\"Date time object:\", date_time)\n",
    "\n",
    "d = date_time.strftime(\"%m/%d/%Y, %H:%M:%S\")\n",
    "print(\"Output 2:\", d)\t\n",
    "\n",
    "d = date_time.strftime(\"%d %b, %Y\")\n",
    "print(\"Output 3:\", d)\n",
    "\n",
    "d = date_time.strftime(\"%d %B, %Y\")\n",
    "print(\"Output 4:\", d)\n",
    "\n",
    "d = date_time.strftime(\"%I%p\")\n",
    "print(\"Output 5:\", d)\n",
    "\n",
    "d = date_time.strftime(\"%c\")\n",
    "print(\"Output 1:\", d)\t\n",
    "\n",
    "d = date_time.strftime(\"%x\")\n",
    "print(\"Output 2:\", d)\n",
    "\n",
    "d = date_time.strftime(\"%X\")\n",
    "print(\"Output 3:\", d)"
   ]
  },
  {
   "cell_type": "markdown",
   "metadata": {
    "application/vnd.databricks.v1+cell": {
     "cellMetadata": {},
     "inputWidgets": {},
     "nuid": "8b511880-854d-4703-8f05-61600ef9cc7e",
     "showTitle": false,
     "tableResultSettingsMap": {},
     "title": ""
    }
   },
   "source": [
    "#### **Key Differences**\n",
    "\n",
    "| Feature |\tstrptime() |\tstrftime() |\n",
    "|---------|------------|-------------|\n",
    "| Purpose\t| Converts a **string to datetime** |\tConverts **datetime to string** |\n",
    "| Input\t  | A **date string** |\tA **datetime object** |\n",
    "| Output\t| A **datetime object**\t| A formatted **date string** |\n",
    "| Example\t| **\"2025-03-22\" → datetime(2025, 3, 22)** | **datetime(2025, 3, 22) → \"22-Mar-2025\"** |"
   ]
  }
 ],
 "metadata": {
  "application/vnd.databricks.v1+notebook": {
   "computePreferences": null,
   "dashboards": [],
   "environmentMetadata": {
    "base_environment": "",
    "environment_version": "1"
   },
   "inputWidgetPreferences": null,
   "language": "python",
   "notebookMetadata": {
    "pythonIndentUnit": 4
   },
   "notebookName": "33_Difference bn strptime() & strftime() in Python",
   "widgets": {}
  }
 },
 "nbformat": 4,
 "nbformat_minor": 0
}