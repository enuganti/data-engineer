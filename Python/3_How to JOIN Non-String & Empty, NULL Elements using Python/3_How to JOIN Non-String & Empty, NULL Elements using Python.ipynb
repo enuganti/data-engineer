{
 "cells": [
  {
   "cell_type": "markdown",
   "metadata": {
    "application/vnd.databricks.v1+cell": {
     "cellMetadata": {},
     "inputWidgets": {},
     "nuid": "05e2b461-5c7d-433c-883b-13587c396924",
     "showTitle": false,
     "tableResultSettingsMap": {},
     "title": ""
    }
   },
   "source": [
    "**1) Handling Non-String Elements**\n",
    "\n",
    "- Python expects the elements of the sequence to be **strings**. If any element in the sequence is **not a string**, it will raise a **TypeError**.\n",
    "\n",
    "- To handle **non-string elements**, you can convert them to **strings** before using the **join()** method."
   ]
  },
  {
   "cell_type": "code",
   "execution_count": 0,
   "metadata": {
    "application/vnd.databricks.v1+cell": {
     "cellMetadata": {
      "byteLimit": 2048000,
      "rowLimit": 10000
     },
     "inputWidgets": {},
     "nuid": "02435bb9-4f60-4d1b-8b54-3f5363d82dd6",
     "showTitle": false,
     "tableResultSettingsMap": {},
     "title": ""
    }
   },
   "outputs": [
    {
     "output_type": "stream",
     "name": "stdout",
     "output_type": "stream",
     "text": [
      "1, 2, 3, 4, 5\n"
     ]
    }
   ],
   "source": [
    "# Using a list comprehension\n",
    "my_list = [1, 2, 3, 4, 5]\n",
    "separator = ', '\n",
    "result = separator.join(str(item) for item in my_list)\n",
    "print(result)"
   ]
  },
  {
   "cell_type": "markdown",
   "metadata": {
    "application/vnd.databricks.v1+cell": {
     "cellMetadata": {},
     "inputWidgets": {},
     "nuid": "e3b32884-b86a-4ad7-8d7a-9093d0d133ea",
     "showTitle": false,
     "tableResultSettingsMap": {},
     "title": ""
    }
   },
   "source": [
    "**2) Handling missing or empty elements**\n",
    "\n",
    "- When the **join()** method encounters **missing or empty** elements in a sequence, it treats them as **empty strings** during concatenation. This behaviour means that missing or empty elements do not disrupt the process of joining other elements. \n",
    "\n",
    "- If you want to handle missing or empty elements differently during joining, you can use conditional statements or filter out those elements before applying the join() method."
   ]
  },
  {
   "cell_type": "code",
   "execution_count": 0,
   "metadata": {
    "application/vnd.databricks.v1+cell": {
     "cellMetadata": {
      "byteLimit": 2048000,
      "rowLimit": 10000
     },
     "inputWidgets": {},
     "nuid": "584d44ed-0d70-496f-b7a8-80db13e91fff",
     "showTitle": false,
     "tableResultSettingsMap": {},
     "title": ""
    }
   },
   "outputs": [
    {
     "output_type": "stream",
     "name": "stdout",
     "output_type": "stream",
     "text": [
      "apple, orange, grape\n"
     ]
    }
   ],
   "source": [
    "my_list = ['apple', '', 'orange', None, 'grape'] \n",
    "separator = ', '\n",
    "result = separator.join(element for element in my_list if element)\n",
    "print(result)"
   ]
  },
  {
   "cell_type": "markdown",
   "metadata": {
    "application/vnd.databricks.v1+cell": {
     "cellMetadata": {},
     "inputWidgets": {},
     "nuid": "5b11aea0-23a2-4ead-b8cf-8d479e196766",
     "showTitle": false,
     "tableResultSettingsMap": {},
     "title": ""
    }
   },
   "source": [
    "- In this example, the list **my_list** contains **empty strings and a None value**.\n",
    "\n",
    "- By using a **conditional statement** within the generator expression, we **filter out the missing or empty elements (” and None)**.\n",
    "\n",
    "- The join() method then **concatenates** the remaining **non-empty** elements using the specified separator."
   ]
  },
  {
   "cell_type": "markdown",
   "metadata": {
    "application/vnd.databricks.v1+cell": {
     "cellMetadata": {},
     "inputWidgets": {},
     "nuid": "a053d79e-3d43-4635-bf41-4c608f81b21d",
     "showTitle": false,
     "tableResultSettingsMap": {},
     "title": ""
    }
   },
   "source": [
    "**3) Handling Lists with None Values**\n",
    "\n",
    "- If your list contains **None** values, you can use a **list comprehension** to remove the **None values or convert them to a string**."
   ]
  },
  {
   "cell_type": "code",
   "execution_count": 0,
   "metadata": {
    "application/vnd.databricks.v1+cell": {
     "cellMetadata": {
      "byteLimit": 2048000,
      "rowLimit": 10000
     },
     "inputWidgets": {},
     "nuid": "dce10501-dafa-48b6-ac5f-9d0b0652e4ed",
     "showTitle": false,
     "tableResultSettingsMap": {},
     "title": ""
    }
   },
   "outputs": [
    {
     "output_type": "stream",
     "name": "stdout",
     "output_type": "stream",
     "text": [
      "Hello World\n"
     ]
    }
   ],
   "source": [
    "list = ['Hello', None, 'World']\n",
    "string = ' '.join([str(i) for i in list if i is not None])\n",
    "print(string)"
   ]
  }
 ],
 "metadata": {
  "application/vnd.databricks.v1+notebook": {
   "computePreferences": null,
   "dashboards": [],
   "environmentMetadata": null,
   "language": "python",
   "notebookMetadata": {
    "pythonIndentUnit": 4
   },
   "notebookName": "3_How to JOIN Non-String & Empty, NULL Elements using Python",
   "widgets": {}
  }
 },
 "nbformat": 4,
 "nbformat_minor": 0
}
