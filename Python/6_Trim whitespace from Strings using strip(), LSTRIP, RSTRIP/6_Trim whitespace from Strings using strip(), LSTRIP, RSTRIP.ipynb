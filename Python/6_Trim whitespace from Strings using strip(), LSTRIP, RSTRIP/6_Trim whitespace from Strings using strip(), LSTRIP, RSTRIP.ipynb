{
 "cells": [
  {
   "cell_type": "markdown",
   "metadata": {
    "application/vnd.databricks.v1+cell": {
     "cellMetadata": {
      "byteLimit": 2048000,
      "rowLimit": 10000
     },
     "inputWidgets": {},
     "nuid": "597bd99d-d71d-4dd6-a3c0-c056a4b8fb8b",
     "showTitle": false,
     "tableResultSettingsMap": {},
     "title": ""
    }
   },
   "source": [
    "#### **strip()**\n",
    "\n",
    "- The **strip()** method in Python is used to **remove leading (starting)** and **trailing (ending) whitespaces** characters from a given **string**.\n",
    "\n",
    "- By **default**, it **removes whitespace** characters (**spaces, tabs, newlines**).\n",
    "\n",
    "- **Leading** means at the **beginning** of the string, **trailing** means at the **end**.\n",
    "\n",
    "- You can specify which **character(s) to remove**, if not, any **whitespaces will be removed**."
   ]
  },
  {
   "cell_type": "markdown",
   "metadata": {
    "application/vnd.databricks.v1+cell": {
     "cellMetadata": {
      "byteLimit": 2048000,
      "rowLimit": 10000
     },
     "inputWidgets": {},
     "nuid": "98cc6d36-5e4f-4c96-a216-8ec35df9fc4c",
     "showTitle": false,
     "tableResultSettingsMap": {},
     "title": ""
    }
   },
   "source": [
    "#### **Syntax**\n",
    "     string.strip([chars])\n",
    "\n",
    "**characters**:\n",
    "\n",
    "- Optional.\n",
    "- A **set of characters** to be **removed** from both the **leading (left) and trailing (right)** parts of a string.\n",
    "- If the **chars** argument is **not provided**, all **leading and trailing whitespaces** are **removed** from the **string**.\n",
    "\n",
    "**Return Value**\n",
    "\n",
    "- The method returns a **string** after **removing** both **leading and trailing** spaces/characters."
   ]
  },
  {
   "cell_type": "code",
   "execution_count": 0,
   "metadata": {
    "application/vnd.databricks.v1+cell": {
     "cellMetadata": {
      "byteLimit": 2048000,
      "rowLimit": 10000
     },
     "inputWidgets": {},
     "nuid": "f5c1ea9f-3784-4acc-b434-34f6cbb272e5",
     "showTitle": false,
     "tableResultSettingsMap": {},
     "title": ""
    }
   },
   "outputs": [],
   "source": [
    "dbutils.widgets.removeAll()\n",
    "dbutils.widgets.text(\"PRIMAY_KEYS\", \"\", \"PRIMAY_KEYS\")\n",
    "param_PRIMAY_KEYS = dbutils.widgets.get(\"PRIMAY_KEYS\")"
   ]
  },
  {
   "cell_type": "code",
   "execution_count": 0,
   "metadata": {
    "application/vnd.databricks.v1+cell": {
     "cellMetadata": {
      "byteLimit": 2048000,
      "rowLimit": 10000
     },
     "inputWidgets": {},
     "nuid": "aad0ce14-3ad5-49ef-a5d0-0934edf83a2b",
     "showTitle": false,
     "tableResultSettingsMap": {},
     "title": ""
    }
   },
   "outputs": [
    {
     "output_type": "stream",
     "name": "stdout",
     "output_type": "stream",
     "text": [
      "  serial_id  ,last_changed_date  \nserial_id  ,last_changed_date\n['serial_id  ', 'last_changed_date']\n"
     ]
    }
   ],
   "source": [
    "print(param_PRIMAY_KEYS)\n",
    "\n",
    "lstPKeys = param_PRIMAY_KEYS.strip()\n",
    "print(lstPKeys)\n",
    "\n",
    "lstPKeys_spit = param_PRIMAY_KEYS.strip().split(\",\")\n",
    "print(lstPKeys_spit)"
   ]
  },
  {
   "cell_type": "markdown",
   "metadata": {
    "application/vnd.databricks.v1+cell": {
     "cellMetadata": {
      "byteLimit": 2048000,
      "rowLimit": 10000
     },
     "inputWidgets": {},
     "nuid": "e7e23d2b-60ac-48eb-97b0-e0ad7c1dbc1e",
     "showTitle": false,
     "tableResultSettingsMap": {},
     "title": ""
    }
   },
   "source": [
    "**1) Remove leading and trailing whitespace from String**\n",
    "- **.strip()** with **no arguments** removes all **whitespace characters (spaces, tabs, newlines)** from **both ends** of the string.\n",
    "\n"
   ]
  },
  {
   "cell_type": "code",
   "execution_count": 0,
   "metadata": {
    "application/vnd.databricks.v1+cell": {
     "cellMetadata": {
      "byteLimit": 2048000,
      "rowLimit": 10000
     },
     "inputWidgets": {},
     "nuid": "3b9da684-72a6-4d62-88ad-0f0c20adfa34",
     "showTitle": false,
     "tableResultSettingsMap": {},
     "title": ""
    }
   },
   "outputs": [
    {
     "output_type": "stream",
     "name": "stdout",
     "output_type": "stream",
     "text": [
      "Before: '     Azure Data Factory     '\nAfter: 'Azure Data Factory'\n"
     ]
    }
   ],
   "source": [
    "# Remove spaces at the beginning and at the end of the string\n",
    "s = \"     Azure Data Factory     \"\n",
    "print(f\"Before: '{s}'\")\n",
    "print(f\"After: '{s.strip()}'\")"
   ]
  },
  {
   "cell_type": "code",
   "execution_count": 0,
   "metadata": {
    "application/vnd.databricks.v1+cell": {
     "cellMetadata": {
      "byteLimit": 2048000,
      "rowLimit": 10000
     },
     "inputWidgets": {},
     "nuid": "72332a46-80a7-41b6-b101-2a557d0b617d",
     "showTitle": false,
     "tableResultSettingsMap": {},
     "title": ""
    }
   },
   "outputs": [
    {
     "output_type": "execute_result",
     "data": {
      "text/plain": [
       "'This is a messy multi-line string.'"
      ]
     },
     "execution_count": 15,
     "metadata": {},
     "output_type": "execute_result"
    }
   ],
   "source": [
    "text = \"\"\"\\n\\t  This is a messy multi-line string.\n",
    "\n",
    "       \\t    \"\"\"\n",
    "text.strip()"
   ]
  },
  {
   "cell_type": "markdown",
   "metadata": {
    "application/vnd.databricks.v1+cell": {
     "cellMetadata": {
      "byteLimit": 2048000,
      "rowLimit": 10000
     },
     "inputWidgets": {},
     "nuid": "4fd4a708-5972-4d90-b82c-5301d2a9290c",
     "showTitle": false,
     "tableResultSettingsMap": {},
     "title": ""
    }
   },
   "source": [
    "**2) Remove \"only leading\" or \"only trailing\" whitespace**\n",
    "- **.lstrip()** removes whitespace from the **left (start)** of the string.\n",
    "\n",
    "- **.rstrip()** removes whitespace from the **right (end)** of the string."
   ]
  },
  {
   "cell_type": "code",
   "execution_count": 0,
   "metadata": {
    "application/vnd.databricks.v1+cell": {
     "cellMetadata": {
      "byteLimit": 2048000,
      "rowLimit": 10000
     },
     "inputWidgets": {},
     "nuid": "7b9bcb76-c891-4134-ac66-6e1aa3209f35",
     "showTitle": true,
     "tableResultSettingsMap": {},
     "title": "removing whitespace"
    }
   },
   "outputs": [
    {
     "output_type": "stream",
     "name": "stdout",
     "output_type": "stream",
     "text": [
      "Leading removed: 'Hello, Data Engineers!   '\nTrailing removed: '   Hello, Data Engineers!'\n"
     ]
    }
   ],
   "source": [
    "s = \"   Hello, Data Engineers!   \"\n",
    "print(f\"Leading removed: '{s.lstrip()}'\")   # Removes leading (left) spaces\n",
    "print(f\"Trailing removed: '{s.rstrip()}'\")  # Removes trailing (right) spaces"
   ]
  },
  {
   "cell_type": "code",
   "execution_count": 0,
   "metadata": {
    "application/vnd.databricks.v1+cell": {
     "cellMetadata": {
      "byteLimit": 2048000,
      "rowLimit": 10000
     },
     "inputWidgets": {},
     "nuid": "76d8cc8b-4878-4e5a-9271-64842b84a399",
     "showTitle": true,
     "tableResultSettingsMap": {},
     "title": "Removing specific characters"
    }
   },
   "outputs": [
    {
     "output_type": "stream",
     "name": "stdout",
     "output_type": "stream",
     "text": [
      "report---.pdf---\n---report---.pdf\n"
     ]
    }
   ],
   "source": [
    "filename = \"---report---.pdf---\"\n",
    "\n",
    "print(filename.lstrip('-'))  # Removes dots on the left\n",
    "\n",
    "print(filename.rstrip('-'))  # Removes dots on the right"
   ]
  },
  {
   "cell_type": "code",
   "execution_count": 0,
   "metadata": {
    "application/vnd.databricks.v1+cell": {
     "cellMetadata": {
      "byteLimit": 2048000,
      "rowLimit": 10000
     },
     "inputWidgets": {},
     "nuid": "d76e6e65-6eac-4a0e-90cb-5d62dd6aded9",
     "showTitle": true,
     "tableResultSettingsMap": {},
     "title": "Multiple characters"
    }
   },
   "outputs": [
    {
     "output_type": "stream",
     "name": "stdout",
     "output_type": "stream",
     "text": [
      "Pythonxy\nxyzPython\n"
     ]
    }
   ],
   "source": [
    "text = \"xyzPythonxy\"\n",
    "\n",
    "print(text.lstrip('xyz')) # (removes x, y, z from the left)\n",
    "\n",
    "print(text.rstrip('xyz')) # (removes x, y from the right — not the middle!)"
   ]
  },
  {
   "cell_type": "markdown",
   "metadata": {
    "application/vnd.databricks.v1+cell": {
     "cellMetadata": {},
     "inputWidgets": {},
     "nuid": "7ce357c1-4462-412b-baa8-8050783d69d4",
     "showTitle": false,
     "tableResultSettingsMap": {},
     "title": ""
    }
   },
   "source": [
    "- Just like **strip()**, both **lstrip() and rstrip()** will **remove** any of the specified characters **until** they **hit a character** that **isn't** in the **list**."
   ]
  },
  {
   "cell_type": "markdown",
   "metadata": {
    "application/vnd.databricks.v1+cell": {
     "cellMetadata": {
      "byteLimit": 2048000,
      "rowLimit": 10000
     },
     "inputWidgets": {},
     "nuid": "08389b31-8517-4892-a07b-a271dd2f8999",
     "showTitle": false,
     "tableResultSettingsMap": {},
     "title": ""
    }
   },
   "source": [
    "**3) Remove Custom / specific Characters from String**\n",
    "- you can pass a **string of characters** to **strip()**, and it will **remove** any of those characters from the **ends**."
   ]
  },
  {
   "cell_type": "code",
   "execution_count": 0,
   "metadata": {
    "application/vnd.databricks.v1+cell": {
     "cellMetadata": {
      "byteLimit": 2048000,
      "rowLimit": 10000
     },
     "inputWidgets": {},
     "nuid": "10fddfeb-1b10-48b7-a2e9-335701a7fb3a",
     "showTitle": false,
     "tableResultSettingsMap": {},
     "title": ""
    }
   },
   "outputs": [
    {
     "output_type": "stream",
     "name": "stdout",
     "output_type": "stream",
     "text": [
      "This product is incredible\nThis product is incredible\n"
     ]
    }
   ],
   "source": [
    "s1 = \"!!This product is incredible!!!\"\n",
    "print(s1.strip(\"!\"))\n",
    "\n",
    "s2 = \"¡¡¡This product is incredible!!!\"\n",
    "print(s2.strip(\"¡!\"))"
   ]
  },
  {
   "cell_type": "code",
   "execution_count": 0,
   "metadata": {
    "application/vnd.databricks.v1+cell": {
     "cellMetadata": {
      "byteLimit": 2048000,
      "rowLimit": 10000
     },
     "inputWidgets": {},
     "nuid": "9fe48e6f-2de7-4171-b47a-c55233b00819",
     "showTitle": false,
     "tableResultSettingsMap": {},
     "title": ""
    }
   },
   "outputs": [
    {
     "output_type": "stream",
     "name": "stdout",
     "output_type": "stream",
     "text": [
      "report.csv\n"
     ]
    }
   ],
   "source": [
    "filename = \"<<<report.csv>>>\"\n",
    "print(filename.strip(\"<>\"))  "
   ]
  },
  {
   "cell_type": "markdown",
   "metadata": {
    "application/vnd.databricks.v1+cell": {
     "cellMetadata": {
      "byteLimit": 2048000,
      "rowLimit": 10000
     },
     "inputWidgets": {},
     "nuid": "86254609-9ca3-43ad-9cba-cee8cbee843b",
     "showTitle": false,
     "tableResultSettingsMap": {},
     "title": ""
    }
   },
   "source": [
    "- Here **.strip(\"<>\")** removes all **< and >** characters from **both ends**, but stops when no more of those characters appear."
   ]
  },
  {
   "cell_type": "code",
   "execution_count": 0,
   "metadata": {
    "application/vnd.databricks.v1+cell": {
     "cellMetadata": {
      "byteLimit": 2048000,
      "rowLimit": 10000
     },
     "inputWidgets": {},
     "nuid": "a871bdac-a4fe-4050-b106-7c6ee1d163e3",
     "showTitle": false,
     "tableResultSettingsMap": {},
     "title": ""
    }
   },
   "outputs": [
    {
     "output_type": "stream",
     "name": "stdout",
     "output_type": "stream",
     "text": [
      "VisualStudioCICD\n"
     ]
    }
   ],
   "source": [
    "s = '  ##*#VisualStudioCICD#**##  '\n",
    "\n",
    "# removes all occurrences of '#', '*', and ' ' from start and end of the string\n",
    "res = s.strip('#* ')\n",
    "print(res)"
   ]
  },
  {
   "cell_type": "markdown",
   "metadata": {
    "application/vnd.databricks.v1+cell": {
     "cellMetadata": {
      "byteLimit": 2048000,
      "rowLimit": 10000
     },
     "inputWidgets": {},
     "nuid": "c7f4e791-ff7f-4a7a-9792-33408f05ee28",
     "showTitle": false,
     "tableResultSettingsMap": {},
     "title": ""
    }
   },
   "source": [
    "**Explanation:**\n",
    "\n",
    "- strip('#* ') removes any #, *, and **spaces** from both **beginning and end** of the string.\n",
    "\n",
    "- It **stops** stripping characters from both end once it encounters a **character** that are **not in the specified set of characters**."
   ]
  },
  {
   "cell_type": "code",
   "execution_count": 0,
   "metadata": {
    "application/vnd.databricks.v1+cell": {
     "cellMetadata": {
      "byteLimit": 2048000,
      "rowLimit": 10000
     },
     "inputWidgets": {},
     "nuid": "84fba35d-d4eb-4c1a-bb41-0ba77b8b99ef",
     "showTitle": true,
     "tableResultSettingsMap": {},
     "title": "Remove the leading and trailing characters"
    }
   },
   "outputs": [
    {
     "output_type": "stream",
     "name": "stdout",
     "output_type": "stream",
     "text": [
      "databricks\n"
     ]
    }
   ],
   "source": [
    "# Remove the leading and trailing characters\n",
    "txt = \",,,,,rrttgg.....databricks....rrr\"\n",
    "x = txt.strip(\",.grt\")\n",
    "print(x)"
   ]
  },
  {
   "cell_type": "code",
   "execution_count": 0,
   "metadata": {
    "application/vnd.databricks.v1+cell": {
     "cellMetadata": {
      "byteLimit": 2048000,
      "rowLimit": 10000
     },
     "inputWidgets": {},
     "nuid": "60fd1d15-0c7c-4fb7-8f7a-97907b18174a",
     "showTitle": false,
     "tableResultSettingsMap": {},
     "title": ""
    }
   },
   "outputs": [
    {
     "output_type": "display_data",
     "data": {
      "text/plain": [
       "1493596800000"
      ]
     },
     "metadata": {},
     "output_type": "display_data"
    }
   ],
   "source": [
    "date_str = \"/Date(1493596800000)/\"\n",
    "millis = int(date_str.strip(\"/Date()/\"))\n",
    "display(millis)"
   ]
  },
  {
   "cell_type": "code",
   "execution_count": 0,
   "metadata": {
    "application/vnd.databricks.v1+cell": {
     "cellMetadata": {
      "byteLimit": 2048000,
      "rowLimit": 10000
     },
     "inputWidgets": {},
     "nuid": "4b0c6599-2d29-46c0-b3c1-8d3a7640af57",
     "showTitle": false,
     "tableResultSettingsMap": {},
     "title": ""
    }
   },
   "outputs": [
    {
     "output_type": "stream",
     "name": "stdout",
     "output_type": "stream",
     "text": [
      "   ....aaaToppr learningaa....   \n   ....aaaToppr learningaa....   \nToppr learning\n"
     ]
    }
   ],
   "source": [
    "\n",
    "# strip() with character parameter\n",
    "string = '   ....aaaToppr learningaa....   '\n",
    "print(string)\n",
    "\n",
    "# Leading and trailing whitespaces are not removed\n",
    "print(string.strip('.a'))\n",
    "\n",
    "# All , ., a characters in the left and right of string are removed\n",
    "print(string.strip(' .a'))"
   ]
  },
  {
   "cell_type": "markdown",
   "metadata": {
    "application/vnd.databricks.v1+cell": {
     "cellMetadata": {},
     "inputWidgets": {},
     "nuid": "54e87b53-068e-4c71-967f-711a895dbfbb",
     "showTitle": false,
     "tableResultSettingsMap": {},
     "title": ""
    }
   },
   "source": [
    "**print(string.strip('.a'))**\n",
    "- You're passing **'.a'** to strip(), which means **remove any of these characters**: **'.' and 'a'** from **both the beginning and end of the string**.\n",
    "\n",
    "- BUT the problem is that the string **starts with whitespace**, and since **didn't include** the **space character** in the **.strip('.a')**.\n",
    "\n",
    "- So the strip() method **stops** at the **whitespace**, because it **only strips** from the **ends** and **stops** when it **hits a character not in the given set**.\n",
    "\n",
    "- **Doesn't remove anything**, because the **leading spaces** are not in **'.a'**, so Python **stops** right there."
   ]
  },
  {
   "cell_type": "markdown",
   "metadata": {
    "application/vnd.databricks.v1+cell": {
     "cellMetadata": {},
     "inputWidgets": {},
     "nuid": "29240691-7ba4-45b4-8394-737c6c6efe9f",
     "showTitle": false,
     "tableResultSettingsMap": {},
     "title": ""
    }
   },
   "source": [
    "**Correct usage**\n",
    "\n",
    "     print(string.strip(' .a'))\n",
    "\n",
    "- Here, you **included the space** in the **strip** set: **' .a'**.\n",
    "\n",
    "- Now Python will strip **spaces, dots, and 'a's** from **both** the **start and end** of the string — but **not from the middle**.\n",
    "\n",
    "- So it removes:\n",
    "\n",
    "  - Leading spaces\n",
    "  - Leading dots\n",
    "  - Leading 'a's\n",
    "  - Trailing 'a's\n",
    "  - Trailing dots\n",
    "  - Trailing spaces"
   ]
  },
  {
   "cell_type": "markdown",
   "metadata": {
    "application/vnd.databricks.v1+cell": {
     "cellMetadata": {},
     "inputWidgets": {},
     "nuid": "81672fab-b95e-4419-b16d-2de7e9592b5b",
     "showTitle": false,
     "tableResultSettingsMap": {},
     "title": ""
    }
   },
   "source": [
    "**Summary**\n",
    "\n",
    "- **.strip(chars)** removes only from the **start and end of the string**.\n",
    "\n",
    "- Stripping **stops** when it **hits a character not in the set**."
   ]
  },
  {
   "cell_type": "markdown",
   "metadata": {
    "application/vnd.databricks.v1+cell": {
     "cellMetadata": {
      "byteLimit": 2048000,
      "rowLimit": 10000
     },
     "inputWidgets": {},
     "nuid": "04005863-6460-462b-8fa9-550ccef789ba",
     "showTitle": false,
     "tableResultSettingsMap": {},
     "title": ""
    }
   },
   "source": [
    "**4) Remove newline and tab characters**\n",
    "- We can also **remove** the **leading and trailing newline characters (\\n)** from a **string**."
   ]
  },
  {
   "cell_type": "code",
   "execution_count": 0,
   "metadata": {
    "application/vnd.databricks.v1+cell": {
     "cellMetadata": {
      "byteLimit": 2048000,
      "rowLimit": 10000
     },
     "inputWidgets": {},
     "nuid": "f462691f-9250-4eb2-b182-d0c820970b54",
     "showTitle": false,
     "tableResultSettingsMap": {},
     "title": ""
    }
   },
   "outputs": [
    {
     "output_type": "stream",
     "name": "stdout",
     "output_type": "stream",
     "text": [
      "Updated String: Learn Python\n"
     ]
    }
   ],
   "source": [
    "s = '\\nLearn Python\\n'\n",
    "\n",
    "# Removing newline characters from both ends\n",
    "new_string = s.strip()\n",
    "print('Updated String:', new_string)"
   ]
  },
  {
   "cell_type": "code",
   "execution_count": 0,
   "metadata": {
    "application/vnd.databricks.v1+cell": {
     "cellMetadata": {
      "byteLimit": 2048000,
      "rowLimit": 10000
     },
     "inputWidgets": {},
     "nuid": "032ce1d0-0fb8-452c-ad42-6daf4759cd3d",
     "showTitle": false,
     "tableResultSettingsMap": {},
     "title": ""
    }
   },
   "outputs": [
    {
     "output_type": "stream",
     "name": "stdout",
     "output_type": "stream",
     "text": [
      "Hello\n"
     ]
    }
   ],
   "source": [
    "text = \"\\n\\n\\tHello\\n\\t\"\n",
    "stripped_text = text.strip()\n",
    "print(stripped_text)"
   ]
  },
  {
   "cell_type": "markdown",
   "metadata": {
    "application/vnd.databricks.v1+cell": {
     "cellMetadata": {
      "byteLimit": 2048000,
      "rowLimit": 10000
     },
     "inputWidgets": {},
     "nuid": "48e3e85f-6f36-499f-b266-0e36835b0e41",
     "showTitle": false,
     "tableResultSettingsMap": {},
     "title": ""
    }
   },
   "source": [
    "- This removes **newlines (\\n) and tabs (\\t)** from **both ends**."
   ]
  },
  {
   "cell_type": "markdown",
   "metadata": {
    "application/vnd.databricks.v1+cell": {
     "cellMetadata": {
      "byteLimit": 2048000,
      "rowLimit": 10000
     },
     "inputWidgets": {},
     "nuid": "fb3232e8-201d-45e0-987e-6fbf48b6cd13",
     "showTitle": false,
     "tableResultSettingsMap": {},
     "title": ""
    }
   },
   "source": [
    "**5) Use with input()**"
   ]
  },
  {
   "cell_type": "code",
   "execution_count": 0,
   "metadata": {
    "application/vnd.databricks.v1+cell": {
     "cellMetadata": {
      "byteLimit": 2048000,
      "rowLimit": 10000
     },
     "inputWidgets": {},
     "nuid": "ea646783-53db-40de-a2e0-cd34072c6fe2",
     "showTitle": false,
     "tableResultSettingsMap": {},
     "title": ""
    }
   },
   "outputs": [
    {
     "output_type": "display_data",
     "data": {
      "text/plain": [
       "Enter your name:   This is a messy multi-line string  "
      ]
     },
     "metadata": {},
     "output_type": "display_data"
    },
    {
     "output_type": "stream",
     "name": "stdout",
     "output_type": "stream",
     "text": [
      "This is a messy multi-line string\n"
     ]
    }
   ],
   "source": [
    "user_input = input(\"Enter your name: \").strip()\n",
    "print(user_input)\n",
    "\n",
    "#    secret   \n",
    "#   This is a messy multi-line string  "
   ]
  },
  {
   "cell_type": "markdown",
   "metadata": {
    "application/vnd.databricks.v1+cell": {
     "cellMetadata": {
      "byteLimit": 2048000,
      "rowLimit": 10000
     },
     "inputWidgets": {},
     "nuid": "eeca397d-ac52-4e95-98c2-592020910634",
     "showTitle": false,
     "tableResultSettingsMap": {},
     "title": ""
    }
   },
   "source": [
    "**6) Strip before comparison**"
   ]
  },
  {
   "cell_type": "code",
   "execution_count": 0,
   "metadata": {
    "application/vnd.databricks.v1+cell": {
     "cellMetadata": {
      "byteLimit": 2048000,
      "rowLimit": 10000
     },
     "inputWidgets": {},
     "nuid": "3ccf3536-1821-4145-8eda-6785eb6b6fbe",
     "showTitle": false,
     "tableResultSettingsMap": {},
     "title": ""
    }
   },
   "outputs": [
    {
     "output_type": "stream",
     "name": "stdout",
     "output_type": "stream",
     "text": [
      "Access granted.\n"
     ]
    }
   ],
   "source": [
    "password = \"secret\"\n",
    "entered_password = \" \\n\\tsecret\\t\\n \".strip()\n",
    "\n",
    "if entered_password == password:\n",
    "    print(\"Access granted.\")\n",
    "else:\n",
    "    print(\"Access denied.\")"
   ]
  },
  {
   "cell_type": "code",
   "execution_count": 0,
   "metadata": {
    "application/vnd.databricks.v1+cell": {
     "cellMetadata": {
      "byteLimit": 2048000,
      "rowLimit": 10000
     },
     "inputWidgets": {},
     "nuid": "e5508ef3-7bda-4cb9-b55e-a5e39ad99d36",
     "showTitle": false,
     "tableResultSettingsMap": {},
     "title": ""
    }
   },
   "outputs": [
    {
     "output_type": "stream",
     "name": "stdout",
     "output_type": "stream",
     "text": [
      "Access denied.\n"
     ]
    }
   ],
   "source": [
    "password = \"secret\"\n",
    "entered_password = \" \\n\\t.,,!!secret..,,,!!!!\\t\\n \".strip()\n",
    "\n",
    "if entered_password == password:\n",
    "    print(\"Access granted.\")\n",
    "else:\n",
    "    print(\"Access denied.\")"
   ]
  },
  {
   "cell_type": "markdown",
   "metadata": {
    "application/vnd.databricks.v1+cell": {
     "cellMetadata": {
      "byteLimit": 2048000,
      "rowLimit": 10000
     },
     "inputWidgets": {},
     "nuid": "79d7e5ce-b5f6-4297-84bf-f622ea3de025",
     "showTitle": false,
     "tableResultSettingsMap": {},
     "title": ""
    }
   },
   "source": [
    "**7) Cleaning CSV fields or log entries**\n",
    "- Using a **list comprehension** to **.strip()** each element."
   ]
  },
  {
   "cell_type": "code",
   "execution_count": 0,
   "metadata": {
    "application/vnd.databricks.v1+cell": {
     "cellMetadata": {
      "byteLimit": 2048000,
      "rowLimit": 10000
     },
     "inputWidgets": {},
     "nuid": "5d487de0-4d6a-4baa-a52e-a10bb76fc760",
     "showTitle": false,
     "tableResultSettingsMap": {},
     "title": ""
    }
   },
   "outputs": [
    {
     "output_type": "stream",
     "name": "stdout",
     "output_type": "stream",
     "text": [
      "['name', 'age', 'email', 'description']\n"
     ]
    }
   ],
   "source": [
    "raw_fields = [\" name \", \" age\", \"email \", \"\\n\\tdescription\\t\\n\"]\n",
    "clean_fields = [field.strip() for field in raw_fields]\n",
    "print(clean_fields)"
   ]
  },
  {
   "cell_type": "markdown",
   "metadata": {
    "application/vnd.databricks.v1+cell": {
     "cellMetadata": {
      "byteLimit": 2048000,
      "rowLimit": 10000
     },
     "inputWidgets": {},
     "nuid": "244a531e-9445-4bd8-8676-1ccfcd2beae2",
     "showTitle": false,
     "tableResultSettingsMap": {},
     "title": ""
    }
   },
   "source": [
    "**8) Chaining strip with other methods**\n",
    "- You can **combine** strip() with e.g. **.lower()** to standardize user input.\n",
    "\n",
    "- First remove **whitespace/newlines**, then **convert to lowercase**."
   ]
  },
  {
   "cell_type": "code",
   "execution_count": 0,
   "metadata": {
    "application/vnd.databricks.v1+cell": {
     "cellMetadata": {
      "byteLimit": 2048000,
      "rowLimit": 10000
     },
     "inputWidgets": {},
     "nuid": "77330151-16d9-45df-a057-0e97267606c9",
     "showTitle": false,
     "tableResultSettingsMap": {},
     "title": ""
    }
   },
   "outputs": [
    {
     "output_type": "stream",
     "name": "stdout",
     "output_type": "stream",
     "text": [
      "User agreed!\n"
     ]
    }
   ],
   "source": [
    "user_input = \"  YES\\n\"\n",
    "normalized = user_input.strip().lower()\n",
    "if normalized == \"yes\":\n",
    "    print(\"User agreed!\")"
   ]
  },
  {
   "cell_type": "markdown",
   "metadata": {
    "application/vnd.databricks.v1+cell": {
     "cellMetadata": {
      "byteLimit": 2048000,
      "rowLimit": 10000
     },
     "inputWidgets": {},
     "nuid": "be14bcdf-441d-4e33-96a0-97c7c2df5039",
     "showTitle": false,
     "tableResultSettingsMap": {},
     "title": ""
    }
   },
   "source": [
    "**9) Removing delimiters after splitting**"
   ]
  },
  {
   "cell_type": "code",
   "execution_count": 0,
   "metadata": {
    "application/vnd.databricks.v1+cell": {
     "cellMetadata": {
      "byteLimit": 2048000,
      "rowLimit": 10000
     },
     "inputWidgets": {},
     "nuid": "629f59ac-d2c5-4156-bdd0-5a407b7e688b",
     "showTitle": false,
     "tableResultSettingsMap": {},
     "title": ""
    }
   },
   "outputs": [
    {
     "output_type": "stream",
     "name": "stdout",
     "output_type": "stream",
     "text": [
      "['apple', ' banana ', ' cherry ', '']\n['apple', 'banana', 'cherry']\n"
     ]
    }
   ],
   "source": [
    "line = \"apple| banana | cherry |\"\n",
    "parts = line.split(\"|\")\n",
    "print(parts)\n",
    "\n",
    "ss = [p.strip() for p in parts if p.strip()]\n",
    "print(ss)  "
   ]
  },
  {
   "cell_type": "markdown",
   "metadata": {
    "application/vnd.databricks.v1+cell": {
     "cellMetadata": {
      "byteLimit": 2048000,
      "rowLimit": 10000
     },
     "inputWidgets": {},
     "nuid": "9ea66c25-5541-45f8-9437-e1d276a48afb",
     "showTitle": false,
     "tableResultSettingsMap": {},
     "title": ""
    }
   },
   "source": [
    "**10) Practical: File paths**\n",
    "- Ensures **no stray newline** at **end** when constructing **file paths**."
   ]
  },
  {
   "cell_type": "code",
   "execution_count": 0,
   "metadata": {
    "application/vnd.databricks.v1+cell": {
     "cellMetadata": {
      "byteLimit": 2048000,
      "rowLimit": 10000
     },
     "inputWidgets": {},
     "nuid": "3b3e290f-d41b-4115-a323-7478d5315e76",
     "showTitle": false,
     "tableResultSettingsMap": {},
     "title": ""
    }
   },
   "outputs": [],
   "source": [
    "line = \"\\n\\n/home/user/docs/report.pdf\\n\""
   ]
  },
  {
   "cell_type": "code",
   "execution_count": 0,
   "metadata": {
    "application/vnd.databricks.v1+cell": {
     "cellMetadata": {
      "byteLimit": 2048000,
      "rowLimit": 10000
     },
     "inputWidgets": {},
     "nuid": "b37cd345-975b-441d-a7ad-5f6795a28db0",
     "showTitle": false,
     "tableResultSettingsMap": {},
     "title": ""
    }
   },
   "outputs": [
    {
     "output_type": "stream",
     "name": "stdout",
     "output_type": "stream",
     "text": [
      "/home/user/docs/report.pdf\n\n"
     ]
    }
   ],
   "source": [
    "print(line.lstrip())  # Removes newlines from the beginning"
   ]
  },
  {
   "cell_type": "markdown",
   "metadata": {
    "application/vnd.databricks.v1+cell": {
     "cellMetadata": {},
     "inputWidgets": {},
     "nuid": "37ad8044-27bd-472e-a977-472c602ca974",
     "showTitle": false,
     "tableResultSettingsMap": {},
     "title": ""
    }
   },
   "source": [
    "**print(line.lstrip())**\n",
    "- This removes all **leading whitespace** characters **(including \\n)** from the **start** of the string.\n",
    "\n",
    "- So **\\n\\n** is **removed**, and you're **left with**\n",
    "  \n",
    "      /home/user/docs/report.pdf\\n\n",
    "\n",
    "- Which, when printed, gives: because **\\n** at the **end** causes a **newline**, but it’s **not visible**."
   ]
  },
  {
   "cell_type": "code",
   "execution_count": 0,
   "metadata": {
    "application/vnd.databricks.v1+cell": {
     "cellMetadata": {
      "byteLimit": 2048000,
      "rowLimit": 10000
     },
     "inputWidgets": {},
     "nuid": "82ea6773-6043-489c-ad5e-1674a9df2d0f",
     "showTitle": false,
     "tableResultSettingsMap": {},
     "title": ""
    }
   },
   "outputs": [
    {
     "output_type": "stream",
     "name": "stdout",
     "output_type": "stream",
     "text": [
      "\n\n/home/user/docs/report.pdf\n"
     ]
    }
   ],
   "source": [
    "print(line.rstrip())  # Removes newlines from the end"
   ]
  },
  {
   "cell_type": "markdown",
   "metadata": {
    "application/vnd.databricks.v1+cell": {
     "cellMetadata": {},
     "inputWidgets": {},
     "nuid": "fc3ec310-9be4-4f5e-886d-e888e6f6063c",
     "showTitle": false,
     "tableResultSettingsMap": {},
     "title": ""
    }
   },
   "source": [
    "**print(line.rstrip())**\n",
    "- This removes all **trailing whitespace** characters **(including \\n)** from the **end** of the string.\n",
    "\n",
    "- So the **final \\n** is **removed**, but the leading **\\n\\n** remains!\n",
    "\n",
    "- When you print that, it outputs you see a **blank line first**. Those **two \\n** characters are printed as **two newlines** before the actual path shows up."
   ]
  },
  {
   "cell_type": "code",
   "execution_count": 0,
   "metadata": {
    "application/vnd.databricks.v1+cell": {
     "cellMetadata": {
      "byteLimit": 2048000,
      "rowLimit": 10000
     },
     "inputWidgets": {},
     "nuid": "11a9079c-e96d-4961-a43d-1982caab7d78",
     "showTitle": true,
     "tableResultSettingsMap": {},
     "title": "To visualize the difference"
    }
   },
   "outputs": [
    {
     "output_type": "stream",
     "name": "stdout",
     "output_type": "stream",
     "text": [
      "LSTRIP:\n'/home/user/docs/report.pdf\\n'\nRSTRIP:\n'\\n\\n/home/user/docs/report.pdf'\n"
     ]
    }
   ],
   "source": [
    "line = \"\\n\\n/home/user/docs/report.pdf\\n\"\n",
    "\n",
    "print(\"LSTRIP:\")\n",
    "print(repr(line.lstrip()))\n",
    "\n",
    "print(\"RSTRIP:\")\n",
    "print(repr(line.rstrip()))"
   ]
  }
 ],
 "metadata": {
  "application/vnd.databricks.v1+notebook": {
   "computePreferences": null,
   "dashboards": [],
   "environmentMetadata": {
    "base_environment": "",
    "environment_version": "1"
   },
   "inputWidgetPreferences": null,
   "language": "python",
   "notebookMetadata": {
    "pythonIndentUnit": 4
   },
   "notebookName": "6_Trim whitespace from Strings using strip(), LSTRIP, RSTRIP",
   "widgets": {
    "PRIMAY_KEYS": {
     "currentValue": "  serial_id  ,last_changed_date  ",
     "nuid": "f55a6d08-4e3b-454a-8043-1ef9e8332495",
     "typedWidgetInfo": {
      "autoCreated": false,
      "defaultValue": "",
      "label": "PRIMAY_KEYS",
      "name": "PRIMAY_KEYS",
      "options": {
       "widgetDisplayType": "Text",
       "validationRegex": null
      },
      "parameterDataType": "String"
     },
     "widgetInfo": {
      "widgetType": "text",
      "defaultValue": "",
      "label": "PRIMAY_KEYS",
      "name": "PRIMAY_KEYS",
      "options": {
       "widgetType": "text",
       "autoCreated": null,
       "validationRegex": null
      }
     }
    }
   }
  }
 },
 "nbformat": 4,
 "nbformat_minor": 0
}