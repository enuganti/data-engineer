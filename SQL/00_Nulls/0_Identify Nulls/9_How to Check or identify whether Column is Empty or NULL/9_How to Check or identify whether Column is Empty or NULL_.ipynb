{
 "cells": [
  {
   "cell_type": "markdown",
   "metadata": {
    "application/vnd.databricks.v1+cell": {
     "cellMetadata": {},
     "inputWidgets": {},
     "nuid": "5e29d743-0292-49fa-9a93-22a59fb24274",
     "showTitle": false,
     "tableResultSettingsMap": {},
     "title": ""
    }
   },
   "source": [
    "#### How to Check whether Column is Empty or NULL?\n",
    "\n",
    "- There can be times when there is **NULL data** or **Column Value is Empty ('')**.\n",
    "- There are many methods or functions to **identify the NULL or Empty values** and Below are some of them:\n",
    "  - IS NULL\n",
    "  - IS NOT NULL\n",
    "  - ISNULL() Function\n",
    "  - NOT ISNULL() Function\n",
    "  - LEN()"
   ]
  },
  {
   "cell_type": "markdown",
   "metadata": {
    "application/vnd.databricks.v1+cell": {
     "cellMetadata": {},
     "inputWidgets": {},
     "nuid": "97a94719-d91b-4e0e-844d-5a5cf54bd195",
     "showTitle": false,
     "tableResultSettingsMap": {},
     "title": ""
    }
   },
   "source": [
    "##### 1) IS NULL"
   ]
  },
  {
   "cell_type": "code",
   "execution_count": 0,
   "metadata": {
    "application/vnd.databricks.v1+cell": {
     "cellMetadata": {
      "byteLimit": 2048000,
      "implicitDf": true,
      "rowLimit": 10000
     },
     "inputWidgets": {},
     "nuid": "e8c9c23f-3b16-450f-8b9b-c37bc359bade",
     "showTitle": false,
     "tableResultSettingsMap": {
      "0": {
       "dataGridStateBlob": "{\"version\":1,\"tableState\":{\"columnPinning\":{\"left\":[\"#row_number#\"],\"right\":[]},\"columnSizing\":{\"Remarks\":109},\"columnVisibility\":{}},\"settings\":{\"columns\":{}},\"syncTimestamp\":1755093757365}",
       "filterBlob": null,
       "queryPlanFiltersBlob": null,
       "tableResultIndex": 0
      }
     },
     "title": ""
    }
   },
   "outputs": [
    {
     "output_type": "display_data",
     "data": {
      "text/html": [
       "<style scoped>\n",
       "  .table-result-container {\n",
       "    max-height: 300px;\n",
       "    overflow: auto;\n",
       "  }\n",
       "  table, th, td {\n",
       "    border: 1px solid black;\n",
       "    border-collapse: collapse;\n",
       "  }\n",
       "  th, td {\n",
       "    padding: 5px;\n",
       "  }\n",
       "  th {\n",
       "    text-align: left;\n",
       "  }\n",
       "</style><div class='table-result-container'><table class='table-result'><thead style='background-color: white'><tr><th>StudID</th><th>StudentName</th><th>StudentClass</th><th>Remarks</th><th>ContactPhone</th></tr></thead><tbody><tr><td>1</td><td>Sunder</td><td>XII A</td><td>Good</td><td>null</td></tr><tr><td>2</td><td>Rajendra Kumar</td><td>XII A</td><td>Regular</td><td>9987654321</td></tr><tr><td>3</td><td>Ratnakar</td><td>XII A</td><td>null</td><td>null</td></tr><tr><td>4</td><td>Pradeep</td><td>XII B</td><td></td><td>null</td></tr><tr><td>5</td><td>Rajamohan K</td><td>XII B</td><td> </td><td>9876543210</td></tr><tr><td>6</td><td>Swaroop</td><td>XI A</td><td>null</td><td>null</td></tr><tr><td>7</td><td>Joseph</td><td>XI A</td><td>Regular</td><td>5544339977</td></tr><tr><td>8</td><td>Rajasekar</td><td>XI B</td><td></td><td>null</td></tr><tr><td>9</td><td>Hitesh</td><td>XII B</td><td>Medium</td><td>8865123456</td></tr><tr><td>10</td><td>Arun</td><td>XII B</td><td>null</td><td>null</td></tr><tr><td>11</td><td>Swetha</td><td>XI A</td><td>Average</td><td>7890054321</td></tr><tr><td>12</td><td>Jyoti</td><td>XI A</td><td> </td><td>null</td></tr><tr><td>13</td><td>Swaroop</td><td>XI B</td><td>null</td><td>null</td></tr><tr><td>14</td><td>Hemanth</td><td>XII B</td><td>Medium</td><td>7766554422</td></tr><tr><td>15</td><td>Rakesh</td><td>XII B</td><td></td><td>null</td></tr></tbody></table></div>"
      ]
     },
     "metadata": {
      "application/vnd.databricks.v1+output": {
       "addedWidgets": {},
       "aggData": [],
       "aggError": "",
       "aggOverflow": false,
       "aggSchema": [],
       "aggSeriesLimitReached": false,
       "aggType": "",
       "arguments": {},
       "columnCustomDisplayInfos": {},
       "data": [
        [
         1,
         "Sunder",
         "XII A",
         "Good",
         null
        ],
        [
         2,
         "Rajendra Kumar",
         "XII A",
         "Regular",
         "9987654321"
        ],
        [
         3,
         "Ratnakar",
         "XII A",
         null,
         null
        ],
        [
         4,
         "Pradeep",
         "XII B",
         "",
         null
        ],
        [
         5,
         "Rajamohan K",
         "XII B",
         " ",
         "9876543210"
        ],
        [
         6,
         "Swaroop",
         "XI A",
         null,
         null
        ],
        [
         7,
         "Joseph",
         "XI A",
         "Regular",
         "5544339977"
        ],
        [
         8,
         "Rajasekar",
         "XI B",
         "",
         null
        ],
        [
         9,
         "Hitesh",
         "XII B",
         "Medium",
         "8865123456"
        ],
        [
         10,
         "Arun",
         "XII B",
         null,
         null
        ],
        [
         11,
         "Swetha",
         "XI A",
         "Average",
         "7890054321"
        ],
        [
         12,
         "Jyoti",
         "XI A",
         " ",
         null
        ],
        [
         13,
         "Swaroop",
         "XI B",
         null,
         null
        ],
        [
         14,
         "Hemanth",
         "XII B",
         "Medium",
         "7766554422"
        ],
        [
         15,
         "Rakesh",
         "XII B",
         "",
         null
        ]
       ],
       "datasetInfos": [
        {
         "name": "_sqldf",
         "schema": {
          "fields": [
           {
            "metadata": {},
            "name": "StudID",
            "nullable": true,
            "type": "integer"
           },
           {
            "metadata": {
             "__CHAR_VARCHAR_TYPE_STRING": "varchar(50)"
            },
            "name": "StudentName",
            "nullable": true,
            "type": "string"
           },
           {
            "metadata": {
             "__CHAR_VARCHAR_TYPE_STRING": "varchar(10)"
            },
            "name": "StudentClass",
            "nullable": true,
            "type": "string"
           },
           {
            "metadata": {
             "__CHAR_VARCHAR_TYPE_STRING": "varchar(100)"
            },
            "name": "Remarks",
            "nullable": true,
            "type": "string"
           },
           {
            "metadata": {
             "__CHAR_VARCHAR_TYPE_STRING": "varchar(15)"
            },
            "name": "ContactPhone",
            "nullable": true,
            "type": "string"
           }
          ],
          "type": "struct"
         },
         "tableIdentifier": null,
         "typeStr": "pyspark.sql.connect.dataframe.DataFrame"
        }
       ],
       "dbfsResultPath": null,
       "isJsonSchema": true,
       "metadata": {
        "createTempViewForImplicitDf": true,
        "dataframeName": "_sqldf",
        "executionCount": 24
       },
       "overflow": false,
       "plotOptions": {
        "customPlotOptions": {},
        "displayType": "table",
        "pivotAggregation": null,
        "pivotColumns": null,
        "xColumns": null,
        "yColumns": null
       },
       "removedWidgets": [],
       "schema": [
        {
         "metadata": "{}",
         "name": "StudID",
         "type": "\"integer\""
        },
        {
         "metadata": "{\"__CHAR_VARCHAR_TYPE_STRING\": \"varchar(50)\"}",
         "name": "StudentName",
         "type": "\"string\""
        },
        {
         "metadata": "{\"__CHAR_VARCHAR_TYPE_STRING\": \"varchar(10)\"}",
         "name": "StudentClass",
         "type": "\"string\""
        },
        {
         "metadata": "{\"__CHAR_VARCHAR_TYPE_STRING\": \"varchar(100)\"}",
         "name": "Remarks",
         "type": "\"string\""
        },
        {
         "metadata": "{\"__CHAR_VARCHAR_TYPE_STRING\": \"varchar(15)\"}",
         "name": "ContactPhone",
         "type": "\"string\""
        }
       ],
       "type": "table"
      }
     },
     "output_type": "display_data"
    }
   ],
   "source": [
    "%sql\n",
    "-- Create sample table\n",
    "DROP TABLE IF EXISTS StudentsInfo;\n",
    "CREATE TABLE StudentsInfo (\n",
    "    StudID INT,\n",
    "    StudentName VARCHAR(50),\n",
    "    StudentClass VARCHAR(10),\n",
    "    Remarks VARCHAR(100),\n",
    "    ContactPhone VARCHAR(15)\n",
    ");\n",
    "\n",
    "-- Insert sample data\n",
    "INSERT INTO StudentsInfo VALUES\n",
    "(1, 'Sunder', 'XII A', 'Good', NULL),\n",
    "(2, 'Rajendra Kumar', 'XII A', 'Regular', '9987654321'),\n",
    "(3, 'Ratnakar', 'XII A', NULL, NULL),\n",
    "(4, 'Pradeep', 'XII B', '', NULL),\n",
    "(5, 'Rajamohan K', 'XII B', ' ', '9876543210'),\n",
    "(6, 'Swaroop', 'XI A', NULL, NULL),\n",
    "(7, 'Joseph', 'XI A', 'Regular', '5544339977'),\n",
    "(8, 'Rajasekar', 'XI B', '', NULL),\n",
    "(9, 'Hitesh', 'XII B', 'Medium', '8865123456'),\n",
    "(10, 'Arun', 'XII B', NULL, NULL),\n",
    "(11, 'Swetha', 'XI A', 'Average', '7890054321'),\n",
    "(12, 'Jyoti', 'XI A', ' ', NULL),\n",
    "(13, 'Swaroop', 'XI B', NULL, NULL),\n",
    "(14, 'Hemanth', 'XII B', 'Medium', '7766554422'),\n",
    "(15, 'Rakesh', 'XII B', '', NULL);\n",
    "\n",
    "SELECT * FROM StudentsInfo;"
   ]
  },
  {
   "cell_type": "code",
   "execution_count": 0,
   "metadata": {
    "application/vnd.databricks.v1+cell": {
     "cellMetadata": {
      "byteLimit": 2048000,
      "implicitDf": true,
      "rowLimit": 10000
     },
     "inputWidgets": {},
     "nuid": "b574ec28-d73d-4436-9d1b-0e4ecff4d358",
     "showTitle": false,
     "tableResultSettingsMap": {},
     "title": ""
    }
   },
   "outputs": [
    {
     "output_type": "display_data",
     "data": {
      "text/html": [
       "<style scoped>\n",
       "  .table-result-container {\n",
       "    max-height: 300px;\n",
       "    overflow: auto;\n",
       "  }\n",
       "  table, th, td {\n",
       "    border: 1px solid black;\n",
       "    border-collapse: collapse;\n",
       "  }\n",
       "  th, td {\n",
       "    padding: 5px;\n",
       "  }\n",
       "  th {\n",
       "    text-align: left;\n",
       "  }\n",
       "</style><div class='table-result-container'><table class='table-result'><thead style='background-color: white'><tr><th>StudID</th><th>StudentName</th><th>StudentClass</th><th>Remarks</th><th>ContactPhone</th></tr></thead><tbody><tr><td>3</td><td>Ratnakar</td><td>XII A</td><td>null</td><td>null</td></tr><tr><td>6</td><td>Swaroop</td><td>XI A</td><td>null</td><td>null</td></tr><tr><td>10</td><td>Arun</td><td>XII B</td><td>null</td><td>null</td></tr><tr><td>13</td><td>Swaroop</td><td>XI B</td><td>null</td><td>null</td></tr></tbody></table></div>"
      ]
     },
     "metadata": {
      "application/vnd.databricks.v1+output": {
       "addedWidgets": {},
       "aggData": [],
       "aggError": "",
       "aggOverflow": false,
       "aggSchema": [],
       "aggSeriesLimitReached": false,
       "aggType": "",
       "arguments": {},
       "columnCustomDisplayInfos": {},
       "data": [
        [
         3,
         "Ratnakar",
         "XII A",
         null,
         null
        ],
        [
         6,
         "Swaroop",
         "XI A",
         null,
         null
        ],
        [
         10,
         "Arun",
         "XII B",
         null,
         null
        ],
        [
         13,
         "Swaroop",
         "XI B",
         null,
         null
        ]
       ],
       "datasetInfos": [
        {
         "name": "_sqldf",
         "schema": {
          "fields": [
           {
            "metadata": {},
            "name": "StudID",
            "nullable": true,
            "type": "integer"
           },
           {
            "metadata": {
             "__CHAR_VARCHAR_TYPE_STRING": "varchar(50)"
            },
            "name": "StudentName",
            "nullable": true,
            "type": "string"
           },
           {
            "metadata": {
             "__CHAR_VARCHAR_TYPE_STRING": "varchar(10)"
            },
            "name": "StudentClass",
            "nullable": true,
            "type": "string"
           },
           {
            "metadata": {
             "__CHAR_VARCHAR_TYPE_STRING": "varchar(100)"
            },
            "name": "Remarks",
            "nullable": true,
            "type": "string"
           },
           {
            "metadata": {
             "__CHAR_VARCHAR_TYPE_STRING": "varchar(15)"
            },
            "name": "ContactPhone",
            "nullable": true,
            "type": "string"
           }
          ],
          "type": "struct"
         },
         "tableIdentifier": null,
         "typeStr": "pyspark.sql.connect.dataframe.DataFrame"
        }
       ],
       "dbfsResultPath": null,
       "isJsonSchema": true,
       "metadata": {
        "createTempViewForImplicitDf": true,
        "dataframeName": "_sqldf",
        "executionCount": 37
       },
       "overflow": false,
       "plotOptions": {
        "customPlotOptions": {},
        "displayType": "table",
        "pivotAggregation": null,
        "pivotColumns": null,
        "xColumns": null,
        "yColumns": null
       },
       "removedWidgets": [],
       "schema": [
        {
         "metadata": "{}",
         "name": "StudID",
         "type": "\"integer\""
        },
        {
         "metadata": "{\"__CHAR_VARCHAR_TYPE_STRING\": \"varchar(50)\"}",
         "name": "StudentName",
         "type": "\"string\""
        },
        {
         "metadata": "{\"__CHAR_VARCHAR_TYPE_STRING\": \"varchar(10)\"}",
         "name": "StudentClass",
         "type": "\"string\""
        },
        {
         "metadata": "{\"__CHAR_VARCHAR_TYPE_STRING\": \"varchar(100)\"}",
         "name": "Remarks",
         "type": "\"string\""
        },
        {
         "metadata": "{\"__CHAR_VARCHAR_TYPE_STRING\": \"varchar(15)\"}",
         "name": "ContactPhone",
         "type": "\"string\""
        }
       ],
       "type": "table"
      }
     },
     "output_type": "display_data"
    }
   ],
   "source": [
    "%sql\n",
    "-- Query to check NULL values in Remarks\n",
    "SELECT *\n",
    "FROM StudentsInfo\n",
    "WHERE Remarks IS NULL;"
   ]
  },
  {
   "cell_type": "code",
   "execution_count": 0,
   "metadata": {
    "application/vnd.databricks.v1+cell": {
     "cellMetadata": {
      "byteLimit": 2048000,
      "implicitDf": true,
      "rowLimit": 10000
     },
     "inputWidgets": {},
     "nuid": "88aa73eb-c838-4270-aa8c-5d5dcb48e3fc",
     "showTitle": false,
     "tableResultSettingsMap": {},
     "title": ""
    }
   },
   "outputs": [
    {
     "output_type": "display_data",
     "data": {
      "text/html": [
       "<style scoped>\n",
       "  .table-result-container {\n",
       "    max-height: 300px;\n",
       "    overflow: auto;\n",
       "  }\n",
       "  table, th, td {\n",
       "    border: 1px solid black;\n",
       "    border-collapse: collapse;\n",
       "  }\n",
       "  th, td {\n",
       "    padding: 5px;\n",
       "  }\n",
       "  th {\n",
       "    text-align: left;\n",
       "  }\n",
       "</style><div class='table-result-container'><table class='table-result'><thead style='background-color: white'><tr><th>Remarks</th></tr></thead><tbody><tr><td>null</td></tr><tr><td>null</td></tr><tr><td>null</td></tr><tr><td>null</td></tr></tbody></table></div>"
      ]
     },
     "metadata": {
      "application/vnd.databricks.v1+output": {
       "addedWidgets": {},
       "aggData": [],
       "aggError": "",
       "aggOverflow": false,
       "aggSchema": [],
       "aggSeriesLimitReached": false,
       "aggType": "",
       "arguments": {},
       "columnCustomDisplayInfos": {},
       "data": [
        [
         null
        ],
        [
         null
        ],
        [
         null
        ],
        [
         null
        ]
       ],
       "datasetInfos": [
        {
         "name": "_sqldf",
         "schema": {
          "fields": [
           {
            "metadata": {
             "__CHAR_VARCHAR_TYPE_STRING": "varchar(100)"
            },
            "name": "Remarks",
            "nullable": true,
            "type": "string"
           }
          ],
          "type": "struct"
         },
         "tableIdentifier": null,
         "typeStr": "pyspark.sql.connect.dataframe.DataFrame"
        }
       ],
       "dbfsResultPath": null,
       "isJsonSchema": true,
       "metadata": {
        "createTempViewForImplicitDf": true,
        "dataframeName": "_sqldf",
        "executionCount": 26
       },
       "overflow": false,
       "plotOptions": {
        "customPlotOptions": {},
        "displayType": "table",
        "pivotAggregation": null,
        "pivotColumns": null,
        "xColumns": null,
        "yColumns": null
       },
       "removedWidgets": [],
       "schema": [
        {
         "metadata": "{\"__CHAR_VARCHAR_TYPE_STRING\": \"varchar(100)\"}",
         "name": "Remarks",
         "type": "\"string\""
        }
       ],
       "type": "table"
      }
     },
     "output_type": "display_data"
    }
   ],
   "source": [
    "%sql\n",
    "-- Query to check NULL values in Remarks\n",
    "SELECT Remarks\n",
    "FROM StudentsInfo\n",
    "WHERE Remarks IS NULL;"
   ]
  },
  {
   "cell_type": "code",
   "execution_count": 0,
   "metadata": {
    "application/vnd.databricks.v1+cell": {
     "cellMetadata": {
      "byteLimit": 2048000,
      "implicitDf": true,
      "rowLimit": 10000
     },
     "inputWidgets": {},
     "nuid": "8e7f6b9f-3bab-47d6-985b-54b651bcadc9",
     "showTitle": false,
     "tableResultSettingsMap": {},
     "title": ""
    }
   },
   "outputs": [
    {
     "output_type": "display_data",
     "data": {
      "text/html": [
       "<style scoped>\n",
       "  .table-result-container {\n",
       "    max-height: 300px;\n",
       "    overflow: auto;\n",
       "  }\n",
       "  table, th, td {\n",
       "    border: 1px solid black;\n",
       "    border-collapse: collapse;\n",
       "  }\n",
       "  th, td {\n",
       "    padding: 5px;\n",
       "  }\n",
       "  th {\n",
       "    text-align: left;\n",
       "  }\n",
       "</style><div class='table-result-container'><table class='table-result'><thead style='background-color: white'><tr><th>StudID</th><th>StudentName</th><th>StudentClass</th><th>Remarks</th><th>ContactPhone</th></tr></thead><tbody><tr><td>1</td><td>Sunder</td><td>XII A</td><td>Good</td><td>null</td></tr><tr><td>3</td><td>Ratnakar</td><td>XII A</td><td>null</td><td>null</td></tr><tr><td>4</td><td>Pradeep</td><td>XII B</td><td></td><td>null</td></tr><tr><td>6</td><td>Swaroop</td><td>XI A</td><td>null</td><td>null</td></tr><tr><td>8</td><td>Rajasekar</td><td>XI B</td><td></td><td>null</td></tr><tr><td>10</td><td>Arun</td><td>XII B</td><td>null</td><td>null</td></tr><tr><td>12</td><td>Jyoti</td><td>XI A</td><td> </td><td>null</td></tr><tr><td>13</td><td>Swaroop</td><td>XI B</td><td>null</td><td>null</td></tr><tr><td>15</td><td>Rakesh</td><td>XII B</td><td></td><td>null</td></tr></tbody></table></div>"
      ]
     },
     "metadata": {
      "application/vnd.databricks.v1+output": {
       "addedWidgets": {},
       "aggData": [],
       "aggError": "",
       "aggOverflow": false,
       "aggSchema": [],
       "aggSeriesLimitReached": false,
       "aggType": "",
       "arguments": {},
       "columnCustomDisplayInfos": {},
       "data": [
        [
         1,
         "Sunder",
         "XII A",
         "Good",
         null
        ],
        [
         3,
         "Ratnakar",
         "XII A",
         null,
         null
        ],
        [
         4,
         "Pradeep",
         "XII B",
         "",
         null
        ],
        [
         6,
         "Swaroop",
         "XI A",
         null,
         null
        ],
        [
         8,
         "Rajasekar",
         "XI B",
         "",
         null
        ],
        [
         10,
         "Arun",
         "XII B",
         null,
         null
        ],
        [
         12,
         "Jyoti",
         "XI A",
         " ",
         null
        ],
        [
         13,
         "Swaroop",
         "XI B",
         null,
         null
        ],
        [
         15,
         "Rakesh",
         "XII B",
         "",
         null
        ]
       ],
       "datasetInfos": [
        {
         "name": "_sqldf",
         "schema": {
          "fields": [
           {
            "metadata": {},
            "name": "StudID",
            "nullable": true,
            "type": "integer"
           },
           {
            "metadata": {
             "__CHAR_VARCHAR_TYPE_STRING": "varchar(50)"
            },
            "name": "StudentName",
            "nullable": true,
            "type": "string"
           },
           {
            "metadata": {
             "__CHAR_VARCHAR_TYPE_STRING": "varchar(10)"
            },
            "name": "StudentClass",
            "nullable": true,
            "type": "string"
           },
           {
            "metadata": {
             "__CHAR_VARCHAR_TYPE_STRING": "varchar(100)"
            },
            "name": "Remarks",
            "nullable": true,
            "type": "string"
           },
           {
            "metadata": {
             "__CHAR_VARCHAR_TYPE_STRING": "varchar(15)"
            },
            "name": "ContactPhone",
            "nullable": true,
            "type": "string"
           }
          ],
          "type": "struct"
         },
         "tableIdentifier": null,
         "typeStr": "pyspark.sql.connect.dataframe.DataFrame"
        }
       ],
       "dbfsResultPath": null,
       "isJsonSchema": true,
       "metadata": {
        "createTempViewForImplicitDf": true,
        "dataframeName": "_sqldf",
        "executionCount": 27
       },
       "overflow": false,
       "plotOptions": {
        "customPlotOptions": {},
        "displayType": "table",
        "pivotAggregation": null,
        "pivotColumns": null,
        "xColumns": null,
        "yColumns": null
       },
       "removedWidgets": [],
       "schema": [
        {
         "metadata": "{}",
         "name": "StudID",
         "type": "\"integer\""
        },
        {
         "metadata": "{\"__CHAR_VARCHAR_TYPE_STRING\": \"varchar(50)\"}",
         "name": "StudentName",
         "type": "\"string\""
        },
        {
         "metadata": "{\"__CHAR_VARCHAR_TYPE_STRING\": \"varchar(10)\"}",
         "name": "StudentClass",
         "type": "\"string\""
        },
        {
         "metadata": "{\"__CHAR_VARCHAR_TYPE_STRING\": \"varchar(100)\"}",
         "name": "Remarks",
         "type": "\"string\""
        },
        {
         "metadata": "{\"__CHAR_VARCHAR_TYPE_STRING\": \"varchar(15)\"}",
         "name": "ContactPhone",
         "type": "\"string\""
        }
       ],
       "type": "table"
      }
     },
     "output_type": "display_data"
    }
   ],
   "source": [
    "%sql\n",
    "-- Query to check NULL values in ContactPhone\n",
    "SELECT *\n",
    "FROM StudentsInfo\n",
    "WHERE ContactPhone IS NULL;\n",
    "\n",
    "-- SELECT ContactPhone\n",
    "-- FROM StudentsInfo\n",
    "-- WHERE ContactPhone IS NULL;"
   ]
  },
  {
   "cell_type": "markdown",
   "metadata": {
    "application/vnd.databricks.v1+cell": {
     "cellMetadata": {},
     "inputWidgets": {},
     "nuid": "4e8930bd-335c-4552-bbce-03c6a4252f53",
     "showTitle": false,
     "tableResultSettingsMap": {},
     "title": ""
    }
   },
   "source": [
    "##### 2) IS NOT NULL"
   ]
  },
  {
   "cell_type": "code",
   "execution_count": 0,
   "metadata": {
    "application/vnd.databricks.v1+cell": {
     "cellMetadata": {
      "byteLimit": 2048000,
      "implicitDf": true,
      "rowLimit": 10000
     },
     "inputWidgets": {},
     "nuid": "cca76133-9d9d-409e-902a-f072bf9d130a",
     "showTitle": false,
     "tableResultSettingsMap": {},
     "title": ""
    }
   },
   "outputs": [
    {
     "output_type": "display_data",
     "data": {
      "text/html": [
       "<style scoped>\n",
       "  .table-result-container {\n",
       "    max-height: 300px;\n",
       "    overflow: auto;\n",
       "  }\n",
       "  table, th, td {\n",
       "    border: 1px solid black;\n",
       "    border-collapse: collapse;\n",
       "  }\n",
       "  th, td {\n",
       "    padding: 5px;\n",
       "  }\n",
       "  th {\n",
       "    text-align: left;\n",
       "  }\n",
       "</style><div class='table-result-container'><table class='table-result'><thead style='background-color: white'><tr><th>StudID</th><th>StudentName</th><th>StudentClass</th><th>Remarks</th><th>ContactPhone</th></tr></thead><tbody><tr><td>2</td><td>Rajendra Kumar</td><td>XII A</td><td>Regular</td><td>9987654321</td></tr><tr><td>5</td><td>Rajamohan K</td><td>XII B</td><td> </td><td>9876543210</td></tr><tr><td>7</td><td>Joseph</td><td>XI A</td><td>Regular</td><td>5544339977</td></tr><tr><td>9</td><td>Hitesh</td><td>XII B</td><td>Medium</td><td>8865123456</td></tr><tr><td>11</td><td>Swetha</td><td>XI A</td><td>Average</td><td>7890054321</td></tr><tr><td>14</td><td>Hemanth</td><td>XII B</td><td>Medium</td><td>7766554422</td></tr></tbody></table></div>"
      ]
     },
     "metadata": {
      "application/vnd.databricks.v1+output": {
       "addedWidgets": {},
       "aggData": [],
       "aggError": "",
       "aggOverflow": false,
       "aggSchema": [],
       "aggSeriesLimitReached": false,
       "aggType": "",
       "arguments": {},
       "columnCustomDisplayInfos": {},
       "data": [
        [
         2,
         "Rajendra Kumar",
         "XII A",
         "Regular",
         "9987654321"
        ],
        [
         5,
         "Rajamohan K",
         "XII B",
         " ",
         "9876543210"
        ],
        [
         7,
         "Joseph",
         "XI A",
         "Regular",
         "5544339977"
        ],
        [
         9,
         "Hitesh",
         "XII B",
         "Medium",
         "8865123456"
        ],
        [
         11,
         "Swetha",
         "XI A",
         "Average",
         "7890054321"
        ],
        [
         14,
         "Hemanth",
         "XII B",
         "Medium",
         "7766554422"
        ]
       ],
       "datasetInfos": [
        {
         "name": "_sqldf",
         "schema": {
          "fields": [
           {
            "metadata": {},
            "name": "StudID",
            "nullable": true,
            "type": "integer"
           },
           {
            "metadata": {
             "__CHAR_VARCHAR_TYPE_STRING": "varchar(50)"
            },
            "name": "StudentName",
            "nullable": true,
            "type": "string"
           },
           {
            "metadata": {
             "__CHAR_VARCHAR_TYPE_STRING": "varchar(10)"
            },
            "name": "StudentClass",
            "nullable": true,
            "type": "string"
           },
           {
            "metadata": {
             "__CHAR_VARCHAR_TYPE_STRING": "varchar(100)"
            },
            "name": "Remarks",
            "nullable": true,
            "type": "string"
           },
           {
            "metadata": {
             "__CHAR_VARCHAR_TYPE_STRING": "varchar(15)"
            },
            "name": "ContactPhone",
            "nullable": true,
            "type": "string"
           }
          ],
          "type": "struct"
         },
         "tableIdentifier": null,
         "typeStr": "pyspark.sql.connect.dataframe.DataFrame"
        }
       ],
       "dbfsResultPath": null,
       "isJsonSchema": true,
       "metadata": {
        "createTempViewForImplicitDf": true,
        "dataframeName": "_sqldf",
        "executionCount": 28
       },
       "overflow": false,
       "plotOptions": {
        "customPlotOptions": {},
        "displayType": "table",
        "pivotAggregation": null,
        "pivotColumns": null,
        "xColumns": null,
        "yColumns": null
       },
       "removedWidgets": [],
       "schema": [
        {
         "metadata": "{}",
         "name": "StudID",
         "type": "\"integer\""
        },
        {
         "metadata": "{\"__CHAR_VARCHAR_TYPE_STRING\": \"varchar(50)\"}",
         "name": "StudentName",
         "type": "\"string\""
        },
        {
         "metadata": "{\"__CHAR_VARCHAR_TYPE_STRING\": \"varchar(10)\"}",
         "name": "StudentClass",
         "type": "\"string\""
        },
        {
         "metadata": "{\"__CHAR_VARCHAR_TYPE_STRING\": \"varchar(100)\"}",
         "name": "Remarks",
         "type": "\"string\""
        },
        {
         "metadata": "{\"__CHAR_VARCHAR_TYPE_STRING\": \"varchar(15)\"}",
         "name": "ContactPhone",
         "type": "\"string\""
        }
       ],
       "type": "table"
      }
     },
     "output_type": "display_data"
    }
   ],
   "source": [
    "%sql\n",
    "-- Query to check NULL values in Remarks\n",
    "SELECT * FROM StudentsInfo\n",
    "WHERE ContactPhone IS NOT NULL;"
   ]
  },
  {
   "cell_type": "markdown",
   "metadata": {
    "application/vnd.databricks.v1+cell": {
     "cellMetadata": {},
     "inputWidgets": {},
     "nuid": "5268dad3-dfa8-404f-b5d1-d5ef0e05c881",
     "showTitle": false,
     "tableResultSettingsMap": {},
     "title": ""
    }
   },
   "source": [
    "- It is to be noted that **empty string value or column** with **spaces** are displayed in the output if it is there and only NULL is filtered out.\n",
    "- If we check the below query you can understand this as this column has **EMPTY ('') and SPACES (' ')**"
   ]
  },
  {
   "cell_type": "code",
   "execution_count": 0,
   "metadata": {
    "application/vnd.databricks.v1+cell": {
     "cellMetadata": {
      "byteLimit": 2048000,
      "implicitDf": true,
      "rowLimit": 10000
     },
     "inputWidgets": {},
     "nuid": "ec073a50-744c-4ed7-92b5-425eaf002c9b",
     "showTitle": false,
     "tableResultSettingsMap": {},
     "title": ""
    }
   },
   "outputs": [
    {
     "output_type": "display_data",
     "data": {
      "text/html": [
       "<style scoped>\n",
       "  .table-result-container {\n",
       "    max-height: 300px;\n",
       "    overflow: auto;\n",
       "  }\n",
       "  table, th, td {\n",
       "    border: 1px solid black;\n",
       "    border-collapse: collapse;\n",
       "  }\n",
       "  th, td {\n",
       "    padding: 5px;\n",
       "  }\n",
       "  th {\n",
       "    text-align: left;\n",
       "  }\n",
       "</style><div class='table-result-container'><table class='table-result'><thead style='background-color: white'><tr><th>StudID</th><th>StudentName</th><th>StudentClass</th><th>Remarks</th><th>ContactPhone</th></tr></thead><tbody><tr><td>1</td><td>Sunder</td><td>XII A</td><td>Good</td><td>null</td></tr><tr><td>2</td><td>Rajendra Kumar</td><td>XII A</td><td>Regular</td><td>9987654321</td></tr><tr><td>4</td><td>Pradeep</td><td>XII B</td><td></td><td>null</td></tr><tr><td>5</td><td>Rajamohan K</td><td>XII B</td><td> </td><td>9876543210</td></tr><tr><td>7</td><td>Joseph</td><td>XI A</td><td>Regular</td><td>5544339977</td></tr><tr><td>8</td><td>Rajasekar</td><td>XI B</td><td></td><td>null</td></tr><tr><td>9</td><td>Hitesh</td><td>XII B</td><td>Medium</td><td>8865123456</td></tr><tr><td>11</td><td>Swetha</td><td>XI A</td><td>Average</td><td>7890054321</td></tr><tr><td>12</td><td>Jyoti</td><td>XI A</td><td> </td><td>null</td></tr><tr><td>14</td><td>Hemanth</td><td>XII B</td><td>Medium</td><td>7766554422</td></tr><tr><td>15</td><td>Rakesh</td><td>XII B</td><td></td><td>null</td></tr></tbody></table></div>"
      ]
     },
     "metadata": {
      "application/vnd.databricks.v1+output": {
       "addedWidgets": {},
       "aggData": [],
       "aggError": "",
       "aggOverflow": false,
       "aggSchema": [],
       "aggSeriesLimitReached": false,
       "aggType": "",
       "arguments": {},
       "columnCustomDisplayInfos": {},
       "data": [
        [
         1,
         "Sunder",
         "XII A",
         "Good",
         null
        ],
        [
         2,
         "Rajendra Kumar",
         "XII A",
         "Regular",
         "9987654321"
        ],
        [
         4,
         "Pradeep",
         "XII B",
         "",
         null
        ],
        [
         5,
         "Rajamohan K",
         "XII B",
         " ",
         "9876543210"
        ],
        [
         7,
         "Joseph",
         "XI A",
         "Regular",
         "5544339977"
        ],
        [
         8,
         "Rajasekar",
         "XI B",
         "",
         null
        ],
        [
         9,
         "Hitesh",
         "XII B",
         "Medium",
         "8865123456"
        ],
        [
         11,
         "Swetha",
         "XI A",
         "Average",
         "7890054321"
        ],
        [
         12,
         "Jyoti",
         "XI A",
         " ",
         null
        ],
        [
         14,
         "Hemanth",
         "XII B",
         "Medium",
         "7766554422"
        ],
        [
         15,
         "Rakesh",
         "XII B",
         "",
         null
        ]
       ],
       "datasetInfos": [
        {
         "name": "_sqldf",
         "schema": {
          "fields": [
           {
            "metadata": {},
            "name": "StudID",
            "nullable": true,
            "type": "integer"
           },
           {
            "metadata": {
             "__CHAR_VARCHAR_TYPE_STRING": "varchar(50)"
            },
            "name": "StudentName",
            "nullable": true,
            "type": "string"
           },
           {
            "metadata": {
             "__CHAR_VARCHAR_TYPE_STRING": "varchar(10)"
            },
            "name": "StudentClass",
            "nullable": true,
            "type": "string"
           },
           {
            "metadata": {
             "__CHAR_VARCHAR_TYPE_STRING": "varchar(100)"
            },
            "name": "Remarks",
            "nullable": true,
            "type": "string"
           },
           {
            "metadata": {
             "__CHAR_VARCHAR_TYPE_STRING": "varchar(15)"
            },
            "name": "ContactPhone",
            "nullable": true,
            "type": "string"
           }
          ],
          "type": "struct"
         },
         "tableIdentifier": null,
         "typeStr": "pyspark.sql.connect.dataframe.DataFrame"
        }
       ],
       "dbfsResultPath": null,
       "isJsonSchema": true,
       "metadata": {
        "createTempViewForImplicitDf": true,
        "dataframeName": "_sqldf",
        "executionCount": 29
       },
       "overflow": false,
       "plotOptions": {
        "customPlotOptions": {},
        "displayType": "table",
        "pivotAggregation": null,
        "pivotColumns": null,
        "xColumns": null,
        "yColumns": null
       },
       "removedWidgets": [],
       "schema": [
        {
         "metadata": "{}",
         "name": "StudID",
         "type": "\"integer\""
        },
        {
         "metadata": "{\"__CHAR_VARCHAR_TYPE_STRING\": \"varchar(50)\"}",
         "name": "StudentName",
         "type": "\"string\""
        },
        {
         "metadata": "{\"__CHAR_VARCHAR_TYPE_STRING\": \"varchar(10)\"}",
         "name": "StudentClass",
         "type": "\"string\""
        },
        {
         "metadata": "{\"__CHAR_VARCHAR_TYPE_STRING\": \"varchar(100)\"}",
         "name": "Remarks",
         "type": "\"string\""
        },
        {
         "metadata": "{\"__CHAR_VARCHAR_TYPE_STRING\": \"varchar(15)\"}",
         "name": "ContactPhone",
         "type": "\"string\""
        }
       ],
       "type": "table"
      }
     },
     "output_type": "display_data"
    }
   ],
   "source": [
    "%sql\n",
    "-- Query to check NULL values in Remarks\n",
    "SELECT * FROM StudentsInfo\n",
    "WHERE Remarks IS NOT NULL;"
   ]
  },
  {
   "cell_type": "markdown",
   "metadata": {
    "application/vnd.databricks.v1+cell": {
     "cellMetadata": {},
     "inputWidgets": {},
     "nuid": "4c12ef15-d32c-45ac-945c-d6f867d8e030",
     "showTitle": false,
     "tableResultSettingsMap": {},
     "title": ""
    }
   },
   "source": [
    "##### 3) ISNULL()\n",
    "- Returns all records with **NULL** values and records having **Empty value ('')** or **Spaces (' ')** in the specified **column**."
   ]
  },
  {
   "cell_type": "code",
   "execution_count": 0,
   "metadata": {
    "application/vnd.databricks.v1+cell": {
     "cellMetadata": {
      "byteLimit": 2048000,
      "implicitDf": true,
      "rowLimit": 10000
     },
     "inputWidgets": {},
     "nuid": "12cf89eb-e29c-4c96-a28c-74a8a046f5b8",
     "showTitle": false,
     "tableResultSettingsMap": {},
     "title": ""
    }
   },
   "outputs": [
    {
     "output_type": "display_data",
     "data": {
      "text/html": [
       "<style scoped>\n",
       "  .table-result-container {\n",
       "    max-height: 300px;\n",
       "    overflow: auto;\n",
       "  }\n",
       "  table, th, td {\n",
       "    border: 1px solid black;\n",
       "    border-collapse: collapse;\n",
       "  }\n",
       "  th, td {\n",
       "    padding: 5px;\n",
       "  }\n",
       "  th {\n",
       "    text-align: left;\n",
       "  }\n",
       "</style><div class='table-result-container'><table class='table-result'><thead style='background-color: white'><tr><th>OBJECT_ID</th><th>Name</th><th>Department</th><th>Salary</th><th>Bonus</th><th>Remarks</th><th>ContactPhone</th><th>Status</th><th>description</th><th>weight</th><th>Feedback</th></tr></thead><tbody><tr><td>583069</td><td>Harish</td><td>Admin</td><td>50000.00</td><td>null</td><td>Good Attendance</td><td>null</td><td>null</td><td>E-Mail</td><td>100</td><td>Regular</td></tr><tr><td>510102</td><td></td><td>HR</td><td>45000.00</td><td>5000.00</td><td>Regular Attendance and studious</td><td>null</td><td>Finished</td><td>Internet</td><td>200</td><td>null</td></tr><tr><td>506654</td><td>Basha</td><td></td><td>60000.00</td><td>0.00</td><td></td><td>9876543210</td><td>Not Relevant</td><td>Social Media</td><td>null</td><td></td></tr><tr><td>583195</td><td>null</td><td>IT</td><td>52000.00</td><td>4000.00</td><td>null</td><td>null</td><td>Started</td><td>Messaging</td><td>10</td><td>Good</td></tr><tr><td>470450</td><td>Venky</td><td>SALES</td><td>50000.00</td><td>null</td><td>Good Attendance</td><td>null</td><td>Not Relevant</td><td>IoT</td><td>50</td><td></td></tr><tr><td>558253</td><td></td><td>HR</td><td>45000.00</td><td>5000.00</td><td>Regular Attendance and studious</td><td>null</td><td>Open</td><td>null</td><td>75</td><td>null</td></tr><tr><td>null</td><td>Krishna</td><td>null</td><td>60000.00</td><td>null</td><td>After markets</td><td>9876543210</td><td>null</td><td>Manual data entry</td><td>null</td><td>Regular</td></tr><tr><td>583181</td><td>Kiran</td><td>IT</td><td>52000.00</td><td>4000.00</td><td>null</td><td>null</td><td>Finished</td><td>Other</td><td>null</td><td>Medium</td></tr><tr><td>583119</td><td>Hitesh</td><td>Finance</td><td>60000.00</td><td>null</td><td></td><td>9876543210</td><td>null</td><td>Telephony</td><td>300</td><td>Average</td></tr><tr><td>577519</td><td></td><td>null</td><td>52000.00</td><td>4000.00</td><td>null</td><td>null</td><td>Not Relevant</td><td>null</td><td>500</td><td>Good</td></tr><tr><td>583151</td><td>Sushma</td><td>Accounts</td><td>52000.00</td><td>4000.00</td><td>Explained in detail</td><td>null</td><td>Open</td><td>Fax</td><td>null</td><td></td></tr><tr><td>583167</td><td>null</td><td>null</td><td>52000.00</td><td>0.00</td><td></td><td>null</td><td>Not Relevant</td><td>Feedback</td><td>250</td><td>Regular</td></tr><tr><td>583162</td><td>Buvan</td><td>null</td><td>52000.00</td><td>4000.00</td><td>null</td><td>null</td><td>null</td><td>WorkZone</td><td>350</td><td>null</td></tr><tr><td>575216</td><td>Mohan</td><td>Hardware</td><td>52000.00</td><td>4000.00</td><td>Nice Explanation</td><td>null</td><td>Open</td><td>IOT</td><td>null</td><td></td></tr><tr><td>null</td><td>null</td><td>null</td><td>52000.00</td><td>0.00</td><td></td><td>null</td><td>Finished</td><td>null</td><td>1000</td><td>Average</td></tr><tr><td>583173</td><td>Lohith</td><td></td><td>52000.00</td><td>4000.00</td><td>null</td><td>null</td><td>Finished</td><td>null</td><td>550</td><td>Good</td></tr><tr><td>583099</td><td>Loba</td><td>Maintenance</td><td>52000.00</td><td>0.00</td><td></td><td>null</td><td>Started</td><td>null</td><td>650</td><td>Excellent</td></tr></tbody></table></div>"
      ]
     },
     "metadata": {
      "application/vnd.databricks.v1+output": {
       "addedWidgets": {},
       "aggData": [],
       "aggError": "",
       "aggOverflow": false,
       "aggSchema": [],
       "aggSeriesLimitReached": false,
       "aggType": "",
       "arguments": {},
       "columnCustomDisplayInfos": {},
       "data": [
        [
         583069,
         "Harish",
         "Admin",
         "50000.00",
         null,
         "Good Attendance",
         null,
         null,
         "E-Mail",
         100,
         "Regular"
        ],
        [
         510102,
         "",
         "HR",
         "45000.00",
         "5000.00",
         "Regular Attendance and studious",
         null,
         "Finished",
         "Internet",
         200,
         null
        ],
        [
         506654,
         "Basha",
         "",
         "60000.00",
         "0.00",
         "",
         "9876543210",
         "Not Relevant",
         "Social Media",
         null,
         ""
        ],
        [
         583195,
         null,
         "IT",
         "52000.00",
         "4000.00",
         null,
         null,
         "Started",
         "Messaging",
         10,
         "Good"
        ],
        [
         470450,
         "Venky",
         "SALES",
         "50000.00",
         null,
         "Good Attendance",
         null,
         "Not Relevant",
         "IoT",
         50,
         ""
        ],
        [
         558253,
         "",
         "HR",
         "45000.00",
         "5000.00",
         "Regular Attendance and studious",
         null,
         "Open",
         null,
         75,
         null
        ],
        [
         null,
         "Krishna",
         null,
         "60000.00",
         null,
         "After markets",
         "9876543210",
         null,
         "Manual data entry",
         null,
         "Regular"
        ],
        [
         583181,
         "Kiran",
         "IT",
         "52000.00",
         "4000.00",
         null,
         null,
         "Finished",
         "Other",
         null,
         "Medium"
        ],
        [
         583119,
         "Hitesh",
         "Finance",
         "60000.00",
         null,
         "",
         "9876543210",
         null,
         "Telephony",
         300,
         "Average"
        ],
        [
         577519,
         "",
         null,
         "52000.00",
         "4000.00",
         null,
         null,
         "Not Relevant",
         null,
         500,
         "Good"
        ],
        [
         583151,
         "Sushma",
         "Accounts",
         "52000.00",
         "4000.00",
         "Explained in detail",
         null,
         "Open",
         "Fax",
         null,
         ""
        ],
        [
         583167,
         null,
         null,
         "52000.00",
         "0.00",
         "",
         null,
         "Not Relevant",
         "Feedback",
         250,
         "Regular"
        ],
        [
         583162,
         "Buvan",
         null,
         "52000.00",
         "4000.00",
         null,
         null,
         null,
         "WorkZone",
         350,
         null
        ],
        [
         575216,
         "Mohan",
         "Hardware",
         "52000.00",
         "4000.00",
         "Nice Explanation",
         null,
         "Open",
         "IOT",
         null,
         ""
        ],
        [
         null,
         null,
         null,
         "52000.00",
         "0.00",
         "",
         null,
         "Finished",
         null,
         1000,
         "Average"
        ],
        [
         583173,
         "Lohith",
         "",
         "52000.00",
         "4000.00",
         null,
         null,
         "Finished",
         null,
         550,
         "Good"
        ],
        [
         583099,
         "Loba",
         "Maintenance",
         "52000.00",
         "0.00",
         "",
         null,
         "Started",
         null,
         650,
         "Excellent"
        ]
       ],
       "datasetInfos": [
        {
         "name": "_sqldf",
         "schema": {
          "fields": [
           {
            "metadata": {},
            "name": "OBJECT_ID",
            "nullable": true,
            "type": "integer"
           },
           {
            "metadata": {
             "__CHAR_VARCHAR_TYPE_STRING": "varchar(50)"
            },
            "name": "Name",
            "nullable": true,
            "type": "string"
           },
           {
            "metadata": {
             "__CHAR_VARCHAR_TYPE_STRING": "varchar(30)"
            },
            "name": "Department",
            "nullable": true,
            "type": "string"
           },
           {
            "metadata": {},
            "name": "Salary",
            "nullable": true,
            "type": "decimal(10,2)"
           },
           {
            "metadata": {},
            "name": "Bonus",
            "nullable": true,
            "type": "decimal(10,2)"
           },
           {
            "metadata": {
             "__CHAR_VARCHAR_TYPE_STRING": "varchar(100)"
            },
            "name": "Remarks",
            "nullable": true,
            "type": "string"
           },
           {
            "metadata": {
             "__CHAR_VARCHAR_TYPE_STRING": "varchar(15)"
            },
            "name": "ContactPhone",
            "nullable": true,
            "type": "string"
           },
           {
            "metadata": {
             "__CHAR_VARCHAR_TYPE_STRING": "varchar(15)"
            },
            "name": "Status",
            "nullable": true,
            "type": "string"
           },
           {
            "metadata": {
             "__CHAR_VARCHAR_TYPE_STRING": "varchar(20)"
            },
            "name": "description",
            "nullable": true,
            "type": "string"
           },
           {
            "metadata": {},
            "name": "weight",
            "nullable": true,
            "type": "integer"
           },
           {
            "metadata": {
             "__CHAR_VARCHAR_TYPE_STRING": "varchar(20)"
            },
            "name": "Feedback",
            "nullable": true,
            "type": "string"
           }
          ],
          "type": "struct"
         },
         "tableIdentifier": null,
         "typeStr": "pyspark.sql.connect.dataframe.DataFrame"
        }
       ],
       "dbfsResultPath": null,
       "isJsonSchema": true,
       "metadata": {
        "createTempViewForImplicitDf": true,
        "dataframeName": "_sqldf",
        "executionCount": 2
       },
       "overflow": false,
       "plotOptions": {
        "customPlotOptions": {},
        "displayType": "table",
        "pivotAggregation": null,
        "pivotColumns": null,
        "xColumns": null,
        "yColumns": null
       },
       "removedWidgets": [],
       "schema": [
        {
         "metadata": "{}",
         "name": "OBJECT_ID",
         "type": "\"integer\""
        },
        {
         "metadata": "{\"__CHAR_VARCHAR_TYPE_STRING\": \"varchar(50)\"}",
         "name": "Name",
         "type": "\"string\""
        },
        {
         "metadata": "{\"__CHAR_VARCHAR_TYPE_STRING\": \"varchar(30)\"}",
         "name": "Department",
         "type": "\"string\""
        },
        {
         "metadata": "{}",
         "name": "Salary",
         "type": "\"decimal(10,2)\""
        },
        {
         "metadata": "{}",
         "name": "Bonus",
         "type": "\"decimal(10,2)\""
        },
        {
         "metadata": "{\"__CHAR_VARCHAR_TYPE_STRING\": \"varchar(100)\"}",
         "name": "Remarks",
         "type": "\"string\""
        },
        {
         "metadata": "{\"__CHAR_VARCHAR_TYPE_STRING\": \"varchar(15)\"}",
         "name": "ContactPhone",
         "type": "\"string\""
        },
        {
         "metadata": "{\"__CHAR_VARCHAR_TYPE_STRING\": \"varchar(15)\"}",
         "name": "Status",
         "type": "\"string\""
        },
        {
         "metadata": "{\"__CHAR_VARCHAR_TYPE_STRING\": \"varchar(20)\"}",
         "name": "description",
         "type": "\"string\""
        },
        {
         "metadata": "{}",
         "name": "weight",
         "type": "\"integer\""
        },
        {
         "metadata": "{\"__CHAR_VARCHAR_TYPE_STRING\": \"varchar(20)\"}",
         "name": "Feedback",
         "type": "\"string\""
        }
       ],
       "type": "table"
      }
     },
     "output_type": "display_data"
    }
   ],
   "source": [
    "%sql\n",
    "DROP TABLE IF EXISTS tblEmployeesIsNull;\n",
    "CREATE TABLE tblEmployeesIsNull (\n",
    "    OBJECT_ID INT,\n",
    "    Name VARCHAR(50),\n",
    "    Department VARCHAR(30),\n",
    "    Salary DECIMAL(10,2),\n",
    "    Bonus DECIMAL(10,2),\n",
    "    Remarks VARCHAR(100),\n",
    "    ContactPhone VARCHAR(15),\n",
    "    Status VARCHAR(15),\n",
    "    description VARCHAR(20),\n",
    "    weight int,\n",
    "    Feedback VARCHAR(20)\n",
    ");\n",
    "\n",
    "-- Insert sample data\n",
    "INSERT INTO tblEmployeesIsNull VALUES\n",
    "(583069, 'Harish', 'Admin', 50000, NULL, 'Good Attendance', NULL, NULL, 'E-Mail', 100, 'Regular'),\n",
    "(510102, \"\", 'HR', 45000, 5000, 'Regular Attendance and studious', NULL, 'Finished', 'Internet', 200, NULL),\n",
    "(506654, \"Basha\", \"\", 60000, 0, '', '9876543210', 'Not Relevant', 'Social Media', NULL, ''),\n",
    "(583195, NULL, 'IT', 52000, 4000, NULL, NULL, 'Started', 'Messaging', 10, 'Good'),\n",
    "(470450, \"Venky\", 'SALES', 50000, NULL, 'Good Attendance', NULL, 'Not Relevant', 'IoT', 50, ''),\n",
    "(558253, \"\", 'HR', 45000, 5000, 'Regular Attendance and studious', NULL, 'Open', NULL, 75, NULL),\n",
    "(NULL, \"Krishna\", NULL, 60000, NULL, 'After markets', '9876543210', NULL, 'Manual data entry', NULL, 'Regular'),\n",
    "(583181, \"Kiran\", 'IT', 52000, 4000, NULL, NULL, 'Finished', 'Other', NULL, 'Medium'),\n",
    "(583119, \"Hitesh\", 'Finance', 60000, NULL, '', '9876543210', NULL, 'Telephony', 300, 'Average'),\n",
    "(577519, \"\", NULL, 52000, 4000, NULL, NULL, 'Not Relevant', NULL, 500, 'Good'),\n",
    "(583151, \"Sushma\", 'Accounts', 52000, 4000, 'Explained in detail', NULL, 'Open', 'Fax', NULL, ''),\n",
    "(583167, NULL, NULL, 52000, 0, '', NULL, 'Not Relevant', 'Feedback', 250, 'Regular'),\n",
    "(583162, \"Buvan\", NULL, 52000, 4000, NULL, NULL, NULL, 'WorkZone', 350, NULL),\n",
    "(575216, \"Mohan\", 'Hardware', 52000, 4000, 'Nice Explanation', NULL, 'Open', 'IOT', NULL, ''),\n",
    "(NULL, NULL, NULL, 52000, 0, '', NULL, 'Finished', NULL, 1000, 'Average'),\n",
    "(583173, \"Lohith\", \"\", 52000, 4000, NULL, NULL, 'Finished', NULL, 550, 'Good'),\n",
    "(583099, \"Loba\", 'Maintenance', 52000, 0, '', NULL, 'Started', NULL, 650, 'Excellent');\n",
    "\n",
    "SELECT * FROM tblEmployeesIsNull;"
   ]
  },
  {
   "cell_type": "markdown",
   "metadata": {
    "application/vnd.databricks.v1+cell": {
     "cellMetadata": {},
     "inputWidgets": {},
     "nuid": "2723f419-9ccc-4aff-9b78-507a2c691be0",
     "showTitle": false,
     "tableResultSettingsMap": {},
     "title": ""
    }
   },
   "source": [
    "##### a) Filter Rows Where Bonus is NULL\n",
    "- Finds employees with **NULL** bonus values **(treated as 0)**."
   ]
  },
  {
   "cell_type": "code",
   "execution_count": 0,
   "metadata": {
    "application/vnd.databricks.v1+cell": {
     "cellMetadata": {
      "byteLimit": 2048000,
      "implicitDf": true,
      "rowLimit": 10000
     },
     "inputWidgets": {},
     "nuid": "f7fddc91-3636-4fb6-9783-b7dfb9a308ea",
     "showTitle": false,
     "tableResultSettingsMap": {},
     "title": ""
    }
   },
   "outputs": [
    {
     "output_type": "display_data",
     "data": {
      "text/html": [
       "<style scoped>\n",
       "  .table-result-container {\n",
       "    max-height: 300px;\n",
       "    overflow: auto;\n",
       "  }\n",
       "  table, th, td {\n",
       "    border: 1px solid black;\n",
       "    border-collapse: collapse;\n",
       "  }\n",
       "  th, td {\n",
       "    padding: 5px;\n",
       "  }\n",
       "  th {\n",
       "    text-align: left;\n",
       "  }\n",
       "</style><div class='table-result-container'><table class='table-result'><thead style='background-color: white'><tr><th>OBJECT_ID</th><th>Name</th><th>Department</th><th>Salary</th><th>Bonus</th><th>Remarks</th><th>ContactPhone</th><th>Status</th><th>description</th><th>weight</th><th>Feedback</th></tr></thead><tbody><tr><td>583069</td><td>Harish</td><td>Admin</td><td>50000.00</td><td>null</td><td>Good Attendance</td><td>null</td><td>null</td><td>E-Mail</td><td>100</td><td>Regular</td></tr><tr><td>506654</td><td>Basha</td><td></td><td>60000.00</td><td>0.00</td><td></td><td>9876543210</td><td>Not Relevant</td><td>Social Media</td><td>null</td><td></td></tr><tr><td>470450</td><td>Venky</td><td>SALES</td><td>50000.00</td><td>null</td><td>Good Attendance</td><td>null</td><td>Not Relevant</td><td>IoT</td><td>50</td><td></td></tr><tr><td>null</td><td>Krishna</td><td>null</td><td>60000.00</td><td>null</td><td>After markets</td><td>9876543210</td><td>null</td><td>Manual data entry</td><td>null</td><td>Regular</td></tr><tr><td>583119</td><td>Hitesh</td><td>Finance</td><td>60000.00</td><td>null</td><td></td><td>9876543210</td><td>null</td><td>Telephony</td><td>300</td><td>Average</td></tr><tr><td>583167</td><td>null</td><td>null</td><td>52000.00</td><td>0.00</td><td></td><td>null</td><td>Not Relevant</td><td>Feedback</td><td>250</td><td>Regular</td></tr><tr><td>null</td><td>null</td><td>null</td><td>52000.00</td><td>0.00</td><td></td><td>null</td><td>Finished</td><td>null</td><td>1000</td><td>Average</td></tr><tr><td>583099</td><td>Loba</td><td>Maintenance</td><td>52000.00</td><td>0.00</td><td></td><td>null</td><td>Started</td><td>null</td><td>650</td><td>Excellent</td></tr></tbody></table></div>"
      ]
     },
     "metadata": {
      "application/vnd.databricks.v1+output": {
       "addedWidgets": {},
       "aggData": [],
       "aggError": "",
       "aggOverflow": false,
       "aggSchema": [],
       "aggSeriesLimitReached": false,
       "aggType": "",
       "arguments": {},
       "columnCustomDisplayInfos": {},
       "data": [
        [
         583069,
         "Harish",
         "Admin",
         "50000.00",
         null,
         "Good Attendance",
         null,
         null,
         "E-Mail",
         100,
         "Regular"
        ],
        [
         506654,
         "Basha",
         "",
         "60000.00",
         "0.00",
         "",
         "9876543210",
         "Not Relevant",
         "Social Media",
         null,
         ""
        ],
        [
         470450,
         "Venky",
         "SALES",
         "50000.00",
         null,
         "Good Attendance",
         null,
         "Not Relevant",
         "IoT",
         50,
         ""
        ],
        [
         null,
         "Krishna",
         null,
         "60000.00",
         null,
         "After markets",
         "9876543210",
         null,
         "Manual data entry",
         null,
         "Regular"
        ],
        [
         583119,
         "Hitesh",
         "Finance",
         "60000.00",
         null,
         "",
         "9876543210",
         null,
         "Telephony",
         300,
         "Average"
        ],
        [
         583167,
         null,
         null,
         "52000.00",
         "0.00",
         "",
         null,
         "Not Relevant",
         "Feedback",
         250,
         "Regular"
        ],
        [
         null,
         null,
         null,
         "52000.00",
         "0.00",
         "",
         null,
         "Finished",
         null,
         1000,
         "Average"
        ],
        [
         583099,
         "Loba",
         "Maintenance",
         "52000.00",
         "0.00",
         "",
         null,
         "Started",
         null,
         650,
         "Excellent"
        ]
       ],
       "datasetInfos": [
        {
         "name": "_sqldf",
         "schema": {
          "fields": [
           {
            "metadata": {},
            "name": "OBJECT_ID",
            "nullable": true,
            "type": "integer"
           },
           {
            "metadata": {
             "__CHAR_VARCHAR_TYPE_STRING": "varchar(50)"
            },
            "name": "Name",
            "nullable": true,
            "type": "string"
           },
           {
            "metadata": {
             "__CHAR_VARCHAR_TYPE_STRING": "varchar(30)"
            },
            "name": "Department",
            "nullable": true,
            "type": "string"
           },
           {
            "metadata": {},
            "name": "Salary",
            "nullable": true,
            "type": "decimal(10,2)"
           },
           {
            "metadata": {},
            "name": "Bonus",
            "nullable": true,
            "type": "decimal(10,2)"
           },
           {
            "metadata": {
             "__CHAR_VARCHAR_TYPE_STRING": "varchar(100)"
            },
            "name": "Remarks",
            "nullable": true,
            "type": "string"
           },
           {
            "metadata": {
             "__CHAR_VARCHAR_TYPE_STRING": "varchar(15)"
            },
            "name": "ContactPhone",
            "nullable": true,
            "type": "string"
           },
           {
            "metadata": {
             "__CHAR_VARCHAR_TYPE_STRING": "varchar(15)"
            },
            "name": "Status",
            "nullable": true,
            "type": "string"
           },
           {
            "metadata": {
             "__CHAR_VARCHAR_TYPE_STRING": "varchar(20)"
            },
            "name": "description",
            "nullable": true,
            "type": "string"
           },
           {
            "metadata": {},
            "name": "weight",
            "nullable": true,
            "type": "integer"
           },
           {
            "metadata": {
             "__CHAR_VARCHAR_TYPE_STRING": "varchar(20)"
            },
            "name": "Feedback",
            "nullable": true,
            "type": "string"
           }
          ],
          "type": "struct"
         },
         "tableIdentifier": null,
         "typeStr": "pyspark.sql.connect.dataframe.DataFrame"
        }
       ],
       "dbfsResultPath": null,
       "isJsonSchema": true,
       "metadata": {
        "createTempViewForImplicitDf": true,
        "dataframeName": "_sqldf",
        "executionCount": 4
       },
       "overflow": false,
       "plotOptions": {
        "customPlotOptions": {},
        "displayType": "table",
        "pivotAggregation": null,
        "pivotColumns": null,
        "xColumns": null,
        "yColumns": null
       },
       "removedWidgets": [],
       "schema": [
        {
         "metadata": "{}",
         "name": "OBJECT_ID",
         "type": "\"integer\""
        },
        {
         "metadata": "{\"__CHAR_VARCHAR_TYPE_STRING\": \"varchar(50)\"}",
         "name": "Name",
         "type": "\"string\""
        },
        {
         "metadata": "{\"__CHAR_VARCHAR_TYPE_STRING\": \"varchar(30)\"}",
         "name": "Department",
         "type": "\"string\""
        },
        {
         "metadata": "{}",
         "name": "Salary",
         "type": "\"decimal(10,2)\""
        },
        {
         "metadata": "{}",
         "name": "Bonus",
         "type": "\"decimal(10,2)\""
        },
        {
         "metadata": "{\"__CHAR_VARCHAR_TYPE_STRING\": \"varchar(100)\"}",
         "name": "Remarks",
         "type": "\"string\""
        },
        {
         "metadata": "{\"__CHAR_VARCHAR_TYPE_STRING\": \"varchar(15)\"}",
         "name": "ContactPhone",
         "type": "\"string\""
        },
        {
         "metadata": "{\"__CHAR_VARCHAR_TYPE_STRING\": \"varchar(15)\"}",
         "name": "Status",
         "type": "\"string\""
        },
        {
         "metadata": "{\"__CHAR_VARCHAR_TYPE_STRING\": \"varchar(20)\"}",
         "name": "description",
         "type": "\"string\""
        },
        {
         "metadata": "{}",
         "name": "weight",
         "type": "\"integer\""
        },
        {
         "metadata": "{\"__CHAR_VARCHAR_TYPE_STRING\": \"varchar(20)\"}",
         "name": "Feedback",
         "type": "\"string\""
        }
       ],
       "type": "table"
      }
     },
     "output_type": "display_data"
    }
   ],
   "source": [
    "%sql\n",
    "SELECT *\n",
    "FROM tblEmployeesIsNull\n",
    "WHERE IFNULL(Bonus, 0) = 0;"
   ]
  },
  {
   "cell_type": "markdown",
   "metadata": {
    "application/vnd.databricks.v1+cell": {
     "cellMetadata": {},
     "inputWidgets": {},
     "nuid": "2c4f22b8-a629-4ad8-be92-4dd62253c283",
     "showTitle": false,
     "tableResultSettingsMap": {},
     "title": ""
    }
   },
   "source": [
    "**IFNULL(Bonus, 0)**\n",
    "\n",
    "- It **checks** if the **Bonus** value is **NULL**.\n",
    "- If **Bonus** is **NULL**, it returns **0** instead.\n",
    "- If **Bonus** is **NOT NULL**, it returns the **actual Bonus value**.\n",
    "\n",
    "**= 0**\n",
    "\n",
    "- This **filters** the **rows** so that:\n",
    "  - If Bonus was **NULL → IFNULL()** makes it **0** → **matches the condition**.\n",
    "  - If Bonus was **0** → **matches the condition**.\n",
    "  - Any **non-zero** Bonus values are **excluded**."
   ]
  },
  {
   "cell_type": "code",
   "execution_count": 0,
   "metadata": {
    "application/vnd.databricks.v1+cell": {
     "cellMetadata": {
      "byteLimit": 2048000,
      "implicitDf": true,
      "rowLimit": 10000
     },
     "inputWidgets": {},
     "nuid": "a726e9b8-cf6a-4bf5-8e20-6059f8f6cc1e",
     "showTitle": false,
     "tableResultSettingsMap": {},
     "title": ""
    }
   },
   "outputs": [
    {
     "output_type": "display_data",
     "data": {
      "text/html": [
       "<style scoped>\n",
       "  .table-result-container {\n",
       "    max-height: 300px;\n",
       "    overflow: auto;\n",
       "  }\n",
       "  table, th, td {\n",
       "    border: 1px solid black;\n",
       "    border-collapse: collapse;\n",
       "  }\n",
       "  th, td {\n",
       "    padding: 5px;\n",
       "  }\n",
       "  th {\n",
       "    text-align: left;\n",
       "  }\n",
       "</style><div class='table-result-container'><table class='table-result'><thead style='background-color: white'><tr><th>OBJECT_ID</th><th>Name</th><th>Department</th><th>Salary</th><th>Bonus</th><th>Remarks</th><th>ContactPhone</th><th>Status</th><th>description</th><th>weight</th><th>Feedback</th></tr></thead><tbody><tr><td>506654</td><td>Basha</td><td></td><td>60000.00</td><td>0.00</td><td></td><td>9876543210</td><td>Not Relevant</td><td>Social Media</td><td>null</td><td></td></tr><tr><td>583195</td><td>null</td><td>IT</td><td>52000.00</td><td>4000.00</td><td>null</td><td>null</td><td>Started</td><td>Messaging</td><td>10</td><td>Good</td></tr><tr><td>583181</td><td>Kiran</td><td>IT</td><td>52000.00</td><td>4000.00</td><td>null</td><td>null</td><td>Finished</td><td>Other</td><td>null</td><td>Medium</td></tr><tr><td>583119</td><td>Hitesh</td><td>Finance</td><td>60000.00</td><td>null</td><td></td><td>9876543210</td><td>null</td><td>Telephony</td><td>300</td><td>Average</td></tr><tr><td>577519</td><td></td><td>null</td><td>52000.00</td><td>4000.00</td><td>null</td><td>null</td><td>Not Relevant</td><td>null</td><td>500</td><td>Good</td></tr><tr><td>583167</td><td>null</td><td>null</td><td>52000.00</td><td>0.00</td><td></td><td>null</td><td>Not Relevant</td><td>Feedback</td><td>250</td><td>Regular</td></tr><tr><td>583162</td><td>Buvan</td><td>null</td><td>52000.00</td><td>4000.00</td><td>null</td><td>null</td><td>null</td><td>WorkZone</td><td>350</td><td>null</td></tr><tr><td>null</td><td>null</td><td>null</td><td>52000.00</td><td>0.00</td><td></td><td>null</td><td>Finished</td><td>null</td><td>1000</td><td>Average</td></tr><tr><td>583173</td><td>Lohith</td><td></td><td>52000.00</td><td>4000.00</td><td>null</td><td>null</td><td>Finished</td><td>null</td><td>550</td><td>Good</td></tr><tr><td>583099</td><td>Loba</td><td>Maintenance</td><td>52000.00</td><td>0.00</td><td></td><td>null</td><td>Started</td><td>null</td><td>650</td><td>Excellent</td></tr></tbody></table></div>"
      ]
     },
     "metadata": {
      "application/vnd.databricks.v1+output": {
       "addedWidgets": {},
       "aggData": [],
       "aggError": "",
       "aggOverflow": false,
       "aggSchema": [],
       "aggSeriesLimitReached": false,
       "aggType": "",
       "arguments": {},
       "columnCustomDisplayInfos": {},
       "data": [
        [
         506654,
         "Basha",
         "",
         "60000.00",
         "0.00",
         "",
         "9876543210",
         "Not Relevant",
         "Social Media",
         null,
         ""
        ],
        [
         583195,
         null,
         "IT",
         "52000.00",
         "4000.00",
         null,
         null,
         "Started",
         "Messaging",
         10,
         "Good"
        ],
        [
         583181,
         "Kiran",
         "IT",
         "52000.00",
         "4000.00",
         null,
         null,
         "Finished",
         "Other",
         null,
         "Medium"
        ],
        [
         583119,
         "Hitesh",
         "Finance",
         "60000.00",
         null,
         "",
         "9876543210",
         null,
         "Telephony",
         300,
         "Average"
        ],
        [
         577519,
         "",
         null,
         "52000.00",
         "4000.00",
         null,
         null,
         "Not Relevant",
         null,
         500,
         "Good"
        ],
        [
         583167,
         null,
         null,
         "52000.00",
         "0.00",
         "",
         null,
         "Not Relevant",
         "Feedback",
         250,
         "Regular"
        ],
        [
         583162,
         "Buvan",
         null,
         "52000.00",
         "4000.00",
         null,
         null,
         null,
         "WorkZone",
         350,
         null
        ],
        [
         null,
         null,
         null,
         "52000.00",
         "0.00",
         "",
         null,
         "Finished",
         null,
         1000,
         "Average"
        ],
        [
         583173,
         "Lohith",
         "",
         "52000.00",
         "4000.00",
         null,
         null,
         "Finished",
         null,
         550,
         "Good"
        ],
        [
         583099,
         "Loba",
         "Maintenance",
         "52000.00",
         "0.00",
         "",
         null,
         "Started",
         null,
         650,
         "Excellent"
        ]
       ],
       "datasetInfos": [
        {
         "name": "_sqldf",
         "schema": {
          "fields": [
           {
            "metadata": {},
            "name": "OBJECT_ID",
            "nullable": true,
            "type": "integer"
           },
           {
            "metadata": {
             "__CHAR_VARCHAR_TYPE_STRING": "varchar(50)"
            },
            "name": "Name",
            "nullable": true,
            "type": "string"
           },
           {
            "metadata": {
             "__CHAR_VARCHAR_TYPE_STRING": "varchar(30)"
            },
            "name": "Department",
            "nullable": true,
            "type": "string"
           },
           {
            "metadata": {},
            "name": "Salary",
            "nullable": true,
            "type": "decimal(10,2)"
           },
           {
            "metadata": {},
            "name": "Bonus",
            "nullable": true,
            "type": "decimal(10,2)"
           },
           {
            "metadata": {
             "__CHAR_VARCHAR_TYPE_STRING": "varchar(100)"
            },
            "name": "Remarks",
            "nullable": true,
            "type": "string"
           },
           {
            "metadata": {
             "__CHAR_VARCHAR_TYPE_STRING": "varchar(15)"
            },
            "name": "ContactPhone",
            "nullable": true,
            "type": "string"
           },
           {
            "metadata": {
             "__CHAR_VARCHAR_TYPE_STRING": "varchar(15)"
            },
            "name": "Status",
            "nullable": true,
            "type": "string"
           },
           {
            "metadata": {
             "__CHAR_VARCHAR_TYPE_STRING": "varchar(20)"
            },
            "name": "description",
            "nullable": true,
            "type": "string"
           },
           {
            "metadata": {},
            "name": "weight",
            "nullable": true,
            "type": "integer"
           },
           {
            "metadata": {
             "__CHAR_VARCHAR_TYPE_STRING": "varchar(20)"
            },
            "name": "Feedback",
            "nullable": true,
            "type": "string"
           }
          ],
          "type": "struct"
         },
         "tableIdentifier": null,
         "typeStr": "pyspark.sql.connect.dataframe.DataFrame"
        }
       ],
       "dbfsResultPath": null,
       "isJsonSchema": true,
       "metadata": {
        "createTempViewForImplicitDf": true,
        "dataframeName": "_sqldf",
        "executionCount": 3
       },
       "overflow": false,
       "plotOptions": {
        "customPlotOptions": {},
        "displayType": "table",
        "pivotAggregation": null,
        "pivotColumns": null,
        "xColumns": null,
        "yColumns": null
       },
       "removedWidgets": [],
       "schema": [
        {
         "metadata": "{}",
         "name": "OBJECT_ID",
         "type": "\"integer\""
        },
        {
         "metadata": "{\"__CHAR_VARCHAR_TYPE_STRING\": \"varchar(50)\"}",
         "name": "Name",
         "type": "\"string\""
        },
        {
         "metadata": "{\"__CHAR_VARCHAR_TYPE_STRING\": \"varchar(30)\"}",
         "name": "Department",
         "type": "\"string\""
        },
        {
         "metadata": "{}",
         "name": "Salary",
         "type": "\"decimal(10,2)\""
        },
        {
         "metadata": "{}",
         "name": "Bonus",
         "type": "\"decimal(10,2)\""
        },
        {
         "metadata": "{\"__CHAR_VARCHAR_TYPE_STRING\": \"varchar(100)\"}",
         "name": "Remarks",
         "type": "\"string\""
        },
        {
         "metadata": "{\"__CHAR_VARCHAR_TYPE_STRING\": \"varchar(15)\"}",
         "name": "ContactPhone",
         "type": "\"string\""
        },
        {
         "metadata": "{\"__CHAR_VARCHAR_TYPE_STRING\": \"varchar(15)\"}",
         "name": "Status",
         "type": "\"string\""
        },
        {
         "metadata": "{\"__CHAR_VARCHAR_TYPE_STRING\": \"varchar(20)\"}",
         "name": "description",
         "type": "\"string\""
        },
        {
         "metadata": "{}",
         "name": "weight",
         "type": "\"integer\""
        },
        {
         "metadata": "{\"__CHAR_VARCHAR_TYPE_STRING\": \"varchar(20)\"}",
         "name": "Feedback",
         "type": "\"string\""
        }
       ],
       "type": "table"
      }
     },
     "output_type": "display_data"
    }
   ],
   "source": [
    "%sql\n",
    "SELECT * FROM tblEmployeesIsNull \n",
    "WHERE ifnull(Remarks, '') = '';"
   ]
  },
  {
   "cell_type": "markdown",
   "metadata": {
    "application/vnd.databricks.v1+cell": {
     "cellMetadata": {},
     "inputWidgets": {},
     "nuid": "d3893a11-b3a0-484d-b2af-42ca08008365",
     "showTitle": false,
     "tableResultSettingsMap": {},
     "title": ""
    }
   },
   "source": [
    "**IFNULL(Remarks, '')**\n",
    "\n",
    "- It **checks** if the **Remarks** value is **NULL**.\n",
    "- If **Remarks** is **NULL**, it returns **Empty value ('')** instead.\n",
    "- If **Remarks** is **NOT NULL**, it returns the **actual Remarks value**.\n",
    "\n",
    "**= ''**\n",
    "\n",
    "- This **filters** the **rows** so that:\n",
    "  - If Remarks was **NULL → IFNULL()** makes it **Empty value ('')** → **matches the condition**.\n",
    "  - If Remarks was **Empty value ('')** → **matches the condition**.\n",
    "  - Any **non-zero** Remarks values are **excluded**."
   ]
  },
  {
   "cell_type": "markdown",
   "metadata": {
    "application/vnd.databricks.v1+cell": {
     "cellMetadata": {},
     "inputWidgets": {},
     "nuid": "48b11c2d-1277-41f9-80dd-c55ba74188f6",
     "showTitle": false,
     "tableResultSettingsMap": {},
     "title": ""
    }
   },
   "source": [
    "##### 4) NOT ISNULL() Function"
   ]
  },
  {
   "cell_type": "code",
   "execution_count": 0,
   "metadata": {
    "application/vnd.databricks.v1+cell": {
     "cellMetadata": {
      "byteLimit": 2048000,
      "implicitDf": true,
      "rowLimit": 10000
     },
     "inputWidgets": {},
     "nuid": "e2805b3c-8a4d-4547-bc76-ca51a4a3d259",
     "showTitle": false,
     "tableResultSettingsMap": {},
     "title": ""
    }
   },
   "outputs": [
    {
     "output_type": "display_data",
     "data": {
      "text/html": [
       "<style scoped>\n",
       "  .table-result-container {\n",
       "    max-height: 300px;\n",
       "    overflow: auto;\n",
       "  }\n",
       "  table, th, td {\n",
       "    border: 1px solid black;\n",
       "    border-collapse: collapse;\n",
       "  }\n",
       "  th, td {\n",
       "    padding: 5px;\n",
       "  }\n",
       "  th {\n",
       "    text-align: left;\n",
       "  }\n",
       "</style><div class='table-result-container'><table class='table-result'><thead style='background-color: white'><tr><th>OBJECT_ID</th><th>Name</th><th>Department</th><th>Salary</th><th>Bonus</th><th>Remarks</th><th>ContactPhone</th><th>Status</th><th>description</th><th>weight</th><th>Feedback</th></tr></thead><tbody><tr><td>583069</td><td>Harish</td><td>Admin</td><td>50000.00</td><td>null</td><td>Good Attendance</td><td>null</td><td>null</td><td>E-Mail</td><td>100</td><td>Regular</td></tr><tr><td>510102</td><td></td><td>HR</td><td>45000.00</td><td>5000.00</td><td>Regular Attendance and studious</td><td>null</td><td>Finished</td><td>Internet</td><td>200</td><td>null</td></tr><tr><td>470450</td><td>Venky</td><td>SALES</td><td>50000.00</td><td>null</td><td>Good Attendance</td><td>null</td><td>Not Relevant</td><td>IoT</td><td>50</td><td></td></tr><tr><td>558253</td><td></td><td>HR</td><td>45000.00</td><td>5000.00</td><td>Regular Attendance and studious</td><td>null</td><td>Open</td><td>null</td><td>75</td><td>null</td></tr><tr><td>null</td><td>Krishna</td><td>null</td><td>60000.00</td><td>null</td><td>After markets</td><td>9876543210</td><td>null</td><td>Manual data entry</td><td>null</td><td>Regular</td></tr><tr><td>583151</td><td>Sushma</td><td>Accounts</td><td>52000.00</td><td>4000.00</td><td>Explained in detail</td><td>null</td><td>Open</td><td>Fax</td><td>null</td><td></td></tr><tr><td>575216</td><td>Mohan</td><td>Hardware</td><td>52000.00</td><td>4000.00</td><td>Nice Explanation</td><td>null</td><td>Open</td><td>IOT</td><td>null</td><td></td></tr></tbody></table></div>"
      ]
     },
     "metadata": {
      "application/vnd.databricks.v1+output": {
       "addedWidgets": {},
       "aggData": [],
       "aggError": "",
       "aggOverflow": false,
       "aggSchema": [],
       "aggSeriesLimitReached": false,
       "aggType": "",
       "arguments": {},
       "columnCustomDisplayInfos": {},
       "data": [
        [
         583069,
         "Harish",
         "Admin",
         "50000.00",
         null,
         "Good Attendance",
         null,
         null,
         "E-Mail",
         100,
         "Regular"
        ],
        [
         510102,
         "",
         "HR",
         "45000.00",
         "5000.00",
         "Regular Attendance and studious",
         null,
         "Finished",
         "Internet",
         200,
         null
        ],
        [
         470450,
         "Venky",
         "SALES",
         "50000.00",
         null,
         "Good Attendance",
         null,
         "Not Relevant",
         "IoT",
         50,
         ""
        ],
        [
         558253,
         "",
         "HR",
         "45000.00",
         "5000.00",
         "Regular Attendance and studious",
         null,
         "Open",
         null,
         75,
         null
        ],
        [
         null,
         "Krishna",
         null,
         "60000.00",
         null,
         "After markets",
         "9876543210",
         null,
         "Manual data entry",
         null,
         "Regular"
        ],
        [
         583151,
         "Sushma",
         "Accounts",
         "52000.00",
         "4000.00",
         "Explained in detail",
         null,
         "Open",
         "Fax",
         null,
         ""
        ],
        [
         575216,
         "Mohan",
         "Hardware",
         "52000.00",
         "4000.00",
         "Nice Explanation",
         null,
         "Open",
         "IOT",
         null,
         ""
        ]
       ],
       "datasetInfos": [
        {
         "name": "_sqldf",
         "schema": {
          "fields": [
           {
            "metadata": {},
            "name": "OBJECT_ID",
            "nullable": true,
            "type": "integer"
           },
           {
            "metadata": {
             "__CHAR_VARCHAR_TYPE_STRING": "varchar(50)"
            },
            "name": "Name",
            "nullable": true,
            "type": "string"
           },
           {
            "metadata": {
             "__CHAR_VARCHAR_TYPE_STRING": "varchar(30)"
            },
            "name": "Department",
            "nullable": true,
            "type": "string"
           },
           {
            "metadata": {},
            "name": "Salary",
            "nullable": true,
            "type": "decimal(10,2)"
           },
           {
            "metadata": {},
            "name": "Bonus",
            "nullable": true,
            "type": "decimal(10,2)"
           },
           {
            "metadata": {
             "__CHAR_VARCHAR_TYPE_STRING": "varchar(100)"
            },
            "name": "Remarks",
            "nullable": true,
            "type": "string"
           },
           {
            "metadata": {
             "__CHAR_VARCHAR_TYPE_STRING": "varchar(15)"
            },
            "name": "ContactPhone",
            "nullable": true,
            "type": "string"
           },
           {
            "metadata": {
             "__CHAR_VARCHAR_TYPE_STRING": "varchar(15)"
            },
            "name": "Status",
            "nullable": true,
            "type": "string"
           },
           {
            "metadata": {
             "__CHAR_VARCHAR_TYPE_STRING": "varchar(20)"
            },
            "name": "description",
            "nullable": true,
            "type": "string"
           },
           {
            "metadata": {},
            "name": "weight",
            "nullable": true,
            "type": "integer"
           },
           {
            "metadata": {
             "__CHAR_VARCHAR_TYPE_STRING": "varchar(20)"
            },
            "name": "Feedback",
            "nullable": true,
            "type": "string"
           }
          ],
          "type": "struct"
         },
         "tableIdentifier": null,
         "typeStr": "pyspark.sql.connect.dataframe.DataFrame"
        }
       ],
       "dbfsResultPath": null,
       "isJsonSchema": true,
       "metadata": {
        "createTempViewForImplicitDf": true,
        "dataframeName": "_sqldf",
        "executionCount": 5
       },
       "overflow": false,
       "plotOptions": {
        "customPlotOptions": {},
        "displayType": "table",
        "pivotAggregation": null,
        "pivotColumns": null,
        "xColumns": null,
        "yColumns": null
       },
       "removedWidgets": [],
       "schema": [
        {
         "metadata": "{}",
         "name": "OBJECT_ID",
         "type": "\"integer\""
        },
        {
         "metadata": "{\"__CHAR_VARCHAR_TYPE_STRING\": \"varchar(50)\"}",
         "name": "Name",
         "type": "\"string\""
        },
        {
         "metadata": "{\"__CHAR_VARCHAR_TYPE_STRING\": \"varchar(30)\"}",
         "name": "Department",
         "type": "\"string\""
        },
        {
         "metadata": "{}",
         "name": "Salary",
         "type": "\"decimal(10,2)\""
        },
        {
         "metadata": "{}",
         "name": "Bonus",
         "type": "\"decimal(10,2)\""
        },
        {
         "metadata": "{\"__CHAR_VARCHAR_TYPE_STRING\": \"varchar(100)\"}",
         "name": "Remarks",
         "type": "\"string\""
        },
        {
         "metadata": "{\"__CHAR_VARCHAR_TYPE_STRING\": \"varchar(15)\"}",
         "name": "ContactPhone",
         "type": "\"string\""
        },
        {
         "metadata": "{\"__CHAR_VARCHAR_TYPE_STRING\": \"varchar(15)\"}",
         "name": "Status",
         "type": "\"string\""
        },
        {
         "metadata": "{\"__CHAR_VARCHAR_TYPE_STRING\": \"varchar(20)\"}",
         "name": "description",
         "type": "\"string\""
        },
        {
         "metadata": "{}",
         "name": "weight",
         "type": "\"integer\""
        },
        {
         "metadata": "{\"__CHAR_VARCHAR_TYPE_STRING\": \"varchar(20)\"}",
         "name": "Feedback",
         "type": "\"string\""
        }
       ],
       "type": "table"
      }
     },
     "output_type": "display_data"
    }
   ],
   "source": [
    "%sql\n",
    "SELECT * FROM tblEmployeesIsNull \n",
    "WHERE NOT IFNULL(Remarks, '') = '';"
   ]
  },
  {
   "cell_type": "markdown",
   "metadata": {
    "application/vnd.databricks.v1+cell": {
     "cellMetadata": {},
     "inputWidgets": {},
     "nuid": "e461db75-fd8b-45c3-98b0-5d72227c9819",
     "showTitle": false,
     "tableResultSettingsMap": {},
     "title": ""
    }
   },
   "source": [
    "##### 5) LEN()"
   ]
  },
  {
   "cell_type": "code",
   "execution_count": 0,
   "metadata": {
    "application/vnd.databricks.v1+cell": {
     "cellMetadata": {
      "byteLimit": 2048000,
      "implicitDf": true,
      "rowLimit": 10000
     },
     "inputWidgets": {},
     "nuid": "158932ca-a031-4ee6-892f-ecf37bab804f",
     "showTitle": false,
     "tableResultSettingsMap": {},
     "title": ""
    }
   },
   "outputs": [
    {
     "output_type": "display_data",
     "data": {
      "text/html": [
       "<style scoped>\n",
       "  .table-result-container {\n",
       "    max-height: 300px;\n",
       "    overflow: auto;\n",
       "  }\n",
       "  table, th, td {\n",
       "    border: 1px solid black;\n",
       "    border-collapse: collapse;\n",
       "  }\n",
       "  th, td {\n",
       "    padding: 5px;\n",
       "  }\n",
       "  th {\n",
       "    text-align: left;\n",
       "  }\n",
       "</style><div class='table-result-container'><table class='table-result'><thead style='background-color: white'><tr><th>StudID</th><th>StudentName</th><th>StudentClass</th><th>Remarks</th><th>ContactPhone</th></tr></thead><tbody><tr><td>4</td><td>Pradeep</td><td>XII B</td><td></td><td>null</td></tr><tr><td>8</td><td>Rajasekar</td><td>XI B</td><td></td><td>null</td></tr><tr><td>15</td><td>Rakesh</td><td>XII B</td><td></td><td>null</td></tr></tbody></table></div>"
      ]
     },
     "metadata": {
      "application/vnd.databricks.v1+output": {
       "addedWidgets": {},
       "aggData": [],
       "aggError": "",
       "aggOverflow": false,
       "aggSchema": [],
       "aggSeriesLimitReached": false,
       "aggType": "",
       "arguments": {},
       "columnCustomDisplayInfos": {},
       "data": [
        [
         4,
         "Pradeep",
         "XII B",
         "",
         null
        ],
        [
         8,
         "Rajasekar",
         "XI B",
         "",
         null
        ],
        [
         15,
         "Rakesh",
         "XII B",
         "",
         null
        ]
       ],
       "datasetInfos": [
        {
         "name": "_sqldf",
         "schema": {
          "fields": [
           {
            "metadata": {},
            "name": "StudID",
            "nullable": true,
            "type": "integer"
           },
           {
            "metadata": {
             "__CHAR_VARCHAR_TYPE_STRING": "varchar(50)"
            },
            "name": "StudentName",
            "nullable": true,
            "type": "string"
           },
           {
            "metadata": {
             "__CHAR_VARCHAR_TYPE_STRING": "varchar(10)"
            },
            "name": "StudentClass",
            "nullable": true,
            "type": "string"
           },
           {
            "metadata": {
             "__CHAR_VARCHAR_TYPE_STRING": "varchar(100)"
            },
            "name": "Remarks",
            "nullable": true,
            "type": "string"
           },
           {
            "metadata": {
             "__CHAR_VARCHAR_TYPE_STRING": "varchar(15)"
            },
            "name": "ContactPhone",
            "nullable": true,
            "type": "string"
           }
          ],
          "type": "struct"
         },
         "tableIdentifier": null,
         "typeStr": "pyspark.sql.connect.dataframe.DataFrame"
        }
       ],
       "dbfsResultPath": null,
       "isJsonSchema": true,
       "metadata": {
        "createTempViewForImplicitDf": true,
        "dataframeName": "_sqldf",
        "executionCount": 49
       },
       "overflow": false,
       "plotOptions": {
        "customPlotOptions": {},
        "displayType": "table",
        "pivotAggregation": null,
        "pivotColumns": null,
        "xColumns": null,
        "yColumns": null
       },
       "removedWidgets": [],
       "schema": [
        {
         "metadata": "{}",
         "name": "StudID",
         "type": "\"integer\""
        },
        {
         "metadata": "{\"__CHAR_VARCHAR_TYPE_STRING\": \"varchar(50)\"}",
         "name": "StudentName",
         "type": "\"string\""
        },
        {
         "metadata": "{\"__CHAR_VARCHAR_TYPE_STRING\": \"varchar(10)\"}",
         "name": "StudentClass",
         "type": "\"string\""
        },
        {
         "metadata": "{\"__CHAR_VARCHAR_TYPE_STRING\": \"varchar(100)\"}",
         "name": "Remarks",
         "type": "\"string\""
        },
        {
         "metadata": "{\"__CHAR_VARCHAR_TYPE_STRING\": \"varchar(15)\"}",
         "name": "ContactPhone",
         "type": "\"string\""
        }
       ],
       "type": "table"
      }
     },
     "output_type": "display_data"
    }
   ],
   "source": [
    "%sql\n",
    "SELECT * FROM StudentsInfo \n",
    "WHERE LEN(Remarks) = 0;"
   ]
  },
  {
   "cell_type": "markdown",
   "metadata": {
    "application/vnd.databricks.v1+cell": {
     "cellMetadata": {},
     "inputWidgets": {},
     "nuid": "a1476d57-39cd-4ec4-a050-d4f006172d9a",
     "showTitle": false,
     "tableResultSettingsMap": {},
     "title": ""
    }
   },
   "source": [
    "- **LEN(Remarks)** returns the **number of characters** in the Remarks column (**excluding trailing spaces**).\n",
    "- **= 0** means we are filtering rows where the Remarks column is an **empty string ('')**, i.e., it has **zero characters**.\n",
    "- This will not match NULL values. because **LEN(NULL)** returns **NULL**, and **NULL = 0 is false**."
   ]
  },
  {
   "cell_type": "code",
   "execution_count": 0,
   "metadata": {
    "application/vnd.databricks.v1+cell": {
     "cellMetadata": {
      "byteLimit": 2048000,
      "implicitDf": true,
      "rowLimit": 10000
     },
     "inputWidgets": {},
     "nuid": "1b7d4ba5-bfbd-43f4-89e6-31785576df0f",
     "showTitle": false,
     "tableResultSettingsMap": {},
     "title": ""
    }
   },
   "outputs": [
    {
     "output_type": "display_data",
     "data": {
      "text/html": [
       "<style scoped>\n",
       "  .table-result-container {\n",
       "    max-height: 300px;\n",
       "    overflow: auto;\n",
       "  }\n",
       "  table, th, td {\n",
       "    border: 1px solid black;\n",
       "    border-collapse: collapse;\n",
       "  }\n",
       "  th, td {\n",
       "    padding: 5px;\n",
       "  }\n",
       "  th {\n",
       "    text-align: left;\n",
       "  }\n",
       "</style><div class='table-result-container'><table class='table-result'><thead style='background-color: white'><tr><th>OBJECT_ID</th><th>Name</th><th>Department</th><th>Salary</th><th>Bonus</th><th>Remarks</th><th>ContactPhone</th><th>Status</th><th>description</th><th>weight</th><th>Feedback</th></tr></thead><tbody><tr><td>506654</td><td>Basha</td><td></td><td>60000.00</td><td>0.00</td><td></td><td>9876543210</td><td>Not Relevant</td><td>Social Media</td><td>null</td><td></td></tr><tr><td>583119</td><td>Hitesh</td><td>Finance</td><td>60000.00</td><td>null</td><td></td><td>9876543210</td><td>null</td><td>Telephony</td><td>300</td><td>Average</td></tr><tr><td>583167</td><td>null</td><td>null</td><td>52000.00</td><td>0.00</td><td></td><td>null</td><td>Not Relevant</td><td>Feedback</td><td>250</td><td>Regular</td></tr><tr><td>null</td><td>null</td><td>null</td><td>52000.00</td><td>0.00</td><td></td><td>null</td><td>Finished</td><td>null</td><td>1000</td><td>Average</td></tr><tr><td>583099</td><td>Loba</td><td>Maintenance</td><td>52000.00</td><td>0.00</td><td></td><td>null</td><td>Started</td><td>null</td><td>650</td><td>Excellent</td></tr></tbody></table></div>"
      ]
     },
     "metadata": {
      "application/vnd.databricks.v1+output": {
       "addedWidgets": {},
       "aggData": [],
       "aggError": "",
       "aggOverflow": false,
       "aggSchema": [],
       "aggSeriesLimitReached": false,
       "aggType": "",
       "arguments": {},
       "columnCustomDisplayInfos": {},
       "data": [
        [
         506654,
         "Basha",
         "",
         "60000.00",
         "0.00",
         "",
         "9876543210",
         "Not Relevant",
         "Social Media",
         null,
         ""
        ],
        [
         583119,
         "Hitesh",
         "Finance",
         "60000.00",
         null,
         "",
         "9876543210",
         null,
         "Telephony",
         300,
         "Average"
        ],
        [
         583167,
         null,
         null,
         "52000.00",
         "0.00",
         "",
         null,
         "Not Relevant",
         "Feedback",
         250,
         "Regular"
        ],
        [
         null,
         null,
         null,
         "52000.00",
         "0.00",
         "",
         null,
         "Finished",
         null,
         1000,
         "Average"
        ],
        [
         583099,
         "Loba",
         "Maintenance",
         "52000.00",
         "0.00",
         "",
         null,
         "Started",
         null,
         650,
         "Excellent"
        ]
       ],
       "datasetInfos": [
        {
         "name": "_sqldf",
         "schema": {
          "fields": [
           {
            "metadata": {},
            "name": "OBJECT_ID",
            "nullable": true,
            "type": "integer"
           },
           {
            "metadata": {
             "__CHAR_VARCHAR_TYPE_STRING": "varchar(50)"
            },
            "name": "Name",
            "nullable": true,
            "type": "string"
           },
           {
            "metadata": {
             "__CHAR_VARCHAR_TYPE_STRING": "varchar(30)"
            },
            "name": "Department",
            "nullable": true,
            "type": "string"
           },
           {
            "metadata": {},
            "name": "Salary",
            "nullable": true,
            "type": "decimal(10,2)"
           },
           {
            "metadata": {},
            "name": "Bonus",
            "nullable": true,
            "type": "decimal(10,2)"
           },
           {
            "metadata": {
             "__CHAR_VARCHAR_TYPE_STRING": "varchar(100)"
            },
            "name": "Remarks",
            "nullable": true,
            "type": "string"
           },
           {
            "metadata": {
             "__CHAR_VARCHAR_TYPE_STRING": "varchar(15)"
            },
            "name": "ContactPhone",
            "nullable": true,
            "type": "string"
           },
           {
            "metadata": {
             "__CHAR_VARCHAR_TYPE_STRING": "varchar(15)"
            },
            "name": "Status",
            "nullable": true,
            "type": "string"
           },
           {
            "metadata": {
             "__CHAR_VARCHAR_TYPE_STRING": "varchar(20)"
            },
            "name": "description",
            "nullable": true,
            "type": "string"
           },
           {
            "metadata": {},
            "name": "weight",
            "nullable": true,
            "type": "integer"
           },
           {
            "metadata": {
             "__CHAR_VARCHAR_TYPE_STRING": "varchar(20)"
            },
            "name": "Feedback",
            "nullable": true,
            "type": "string"
           }
          ],
          "type": "struct"
         },
         "tableIdentifier": null,
         "typeStr": "pyspark.sql.connect.dataframe.DataFrame"
        }
       ],
       "dbfsResultPath": null,
       "isJsonSchema": true,
       "metadata": {
        "createTempViewForImplicitDf": true,
        "dataframeName": "_sqldf",
        "executionCount": 6
       },
       "overflow": false,
       "plotOptions": {
        "customPlotOptions": {},
        "displayType": "table",
        "pivotAggregation": null,
        "pivotColumns": null,
        "xColumns": null,
        "yColumns": null
       },
       "removedWidgets": [],
       "schema": [
        {
         "metadata": "{}",
         "name": "OBJECT_ID",
         "type": "\"integer\""
        },
        {
         "metadata": "{\"__CHAR_VARCHAR_TYPE_STRING\": \"varchar(50)\"}",
         "name": "Name",
         "type": "\"string\""
        },
        {
         "metadata": "{\"__CHAR_VARCHAR_TYPE_STRING\": \"varchar(30)\"}",
         "name": "Department",
         "type": "\"string\""
        },
        {
         "metadata": "{}",
         "name": "Salary",
         "type": "\"decimal(10,2)\""
        },
        {
         "metadata": "{}",
         "name": "Bonus",
         "type": "\"decimal(10,2)\""
        },
        {
         "metadata": "{\"__CHAR_VARCHAR_TYPE_STRING\": \"varchar(100)\"}",
         "name": "Remarks",
         "type": "\"string\""
        },
        {
         "metadata": "{\"__CHAR_VARCHAR_TYPE_STRING\": \"varchar(15)\"}",
         "name": "ContactPhone",
         "type": "\"string\""
        },
        {
         "metadata": "{\"__CHAR_VARCHAR_TYPE_STRING\": \"varchar(15)\"}",
         "name": "Status",
         "type": "\"string\""
        },
        {
         "metadata": "{\"__CHAR_VARCHAR_TYPE_STRING\": \"varchar(20)\"}",
         "name": "description",
         "type": "\"string\""
        },
        {
         "metadata": "{}",
         "name": "weight",
         "type": "\"integer\""
        },
        {
         "metadata": "{\"__CHAR_VARCHAR_TYPE_STRING\": \"varchar(20)\"}",
         "name": "Feedback",
         "type": "\"string\""
        }
       ],
       "type": "table"
      }
     },
     "output_type": "display_data"
    }
   ],
   "source": [
    "%sql\n",
    "SELECT * FROM tblEmployeesIsNull \n",
    "WHERE LEN(Remarks) = 0;"
   ]
  }
 ],
 "metadata": {
  "application/vnd.databricks.v1+notebook": {
   "computePreferences": {
    "hardware": {
     "accelerator": null,
     "gpuPoolId": null,
     "memory": null
    }
   },
   "dashboards": [],
   "environmentMetadata": null,
   "inputWidgetPreferences": null,
   "language": "python",
   "notebookMetadata": {
    "mostRecentlyExecutedCommandWithImplicitDF": {
     "commandId": 7444361435060906,
     "dataframes": [
      "_sqldf"
     ]
    },
    "pythonIndentUnit": 4
   },
   "notebookName": "9_How to Check or identify whether Column is Empty or NULL?",
   "widgets": {}
  },
  "language_info": {
   "name": "python"
  }
 },
 "nbformat": 4,
 "nbformat_minor": 0
}