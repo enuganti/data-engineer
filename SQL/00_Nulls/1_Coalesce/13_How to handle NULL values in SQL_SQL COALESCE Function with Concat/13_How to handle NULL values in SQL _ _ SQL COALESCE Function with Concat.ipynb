{
 "cells": [
  {
   "cell_type": "markdown",
   "metadata": {
    "application/vnd.databricks.v1+cell": {
     "cellMetadata": {},
     "inputWidgets": {},
     "nuid": "c72bc86b-cfa4-4f8c-8508-fa0009a663c4",
     "showTitle": false,
     "tableResultSettingsMap": {},
     "title": ""
    }
   },
   "source": [
    "**1) Combine COALESCE with CONCAT**"
   ]
  },
  {
   "cell_type": "code",
   "execution_count": 0,
   "metadata": {
    "application/vnd.databricks.v1+cell": {
     "cellMetadata": {
      "byteLimit": 2048000,
      "implicitDf": true,
      "rowLimit": 10000
     },
     "inputWidgets": {},
     "nuid": "e91ee241-1559-4064-8b08-906db46e663a",
     "showTitle": false,
     "tableResultSettingsMap": {},
     "title": ""
    }
   },
   "outputs": [
    {
     "output_type": "display_data",
     "data": {
      "text/html": [
       "<style scoped>\n",
       "  .table-result-container {\n",
       "    max-height: 300px;\n",
       "    overflow: auto;\n",
       "  }\n",
       "  table, th, td {\n",
       "    border: 1px solid black;\n",
       "    border-collapse: collapse;\n",
       "  }\n",
       "  th, td {\n",
       "    padding: 5px;\n",
       "  }\n",
       "  th {\n",
       "    text-align: left;\n",
       "  }\n",
       "</style><div class='table-result-container'><table class='table-result'><thead style='background-color: white'><tr><th>contact_id</th><th>phone_mobile</th><th>phone_home</th></tr></thead><tbody><tr><td>1</td><td>9876543210</td><td>null</td></tr><tr><td>2</td><td>null</td><td>0401234567</td></tr><tr><td>3</td><td>null</td><td>null</td></tr><tr><td>4</td><td>null</td><td>080987654</td></tr><tr><td>5</td><td>987654321</td><td>null</td></tr><tr><td>6</td><td>6789654321</td><td>9887612345</td></tr></tbody></table></div>"
      ]
     },
     "metadata": {
      "application/vnd.databricks.v1+output": {
       "addedWidgets": {},
       "aggData": [],
       "aggError": "",
       "aggOverflow": false,
       "aggSchema": [],
       "aggSeriesLimitReached": false,
       "aggType": "",
       "arguments": {},
       "columnCustomDisplayInfos": {},
       "data": [
        [
         1,
         "9876543210",
         null
        ],
        [
         2,
         null,
         "0401234567"
        ],
        [
         3,
         null,
         null
        ],
        [
         4,
         null,
         "080987654"
        ],
        [
         5,
         "987654321",
         null
        ],
        [
         6,
         "6789654321",
         "9887612345"
        ]
       ],
       "datasetInfos": [],
       "dbfsResultPath": null,
       "isJsonSchema": true,
       "metadata": {
        "createTempViewForImplicitDf": true,
        "dataframeName": "_sqldf",
        "executionCount": 2
       },
       "overflow": false,
       "plotOptions": {
        "customPlotOptions": {},
        "displayType": "table",
        "pivotAggregation": null,
        "pivotColumns": null,
        "xColumns": null,
        "yColumns": null
       },
       "removedWidgets": [],
       "schema": [
        {
         "metadata": "{}",
         "name": "contact_id",
         "type": "\"integer\""
        },
        {
         "metadata": "{\"__CHAR_VARCHAR_TYPE_STRING\":\"varchar(15)\"}",
         "name": "phone_mobile",
         "type": "\"string\""
        },
        {
         "metadata": "{\"__CHAR_VARCHAR_TYPE_STRING\":\"varchar(15)\"}",
         "name": "phone_home",
         "type": "\"string\""
        }
       ],
       "type": "table"
      }
     },
     "output_type": "display_data"
    }
   ],
   "source": [
    "%sql\n",
    "DROP TABLE IF EXISTS tbl_coalesce_contacts;\n",
    "\n",
    "CREATE TABLE tbl_coalesce_contacts (\n",
    "    contact_id INT,\n",
    "    phone_mobile VARCHAR(15),\n",
    "    phone_home VARCHAR(15)\n",
    ");\n",
    "\n",
    "INSERT INTO tbl_coalesce_contacts\n",
    "VALUES\n",
    "(1, '9876543210', NULL),\n",
    "(2, NULL, '0401234567'),\n",
    "(3, NULL, NULL),\n",
    "(4, NULL, '080987654'),\n",
    "(5, '987654321', NULL),\n",
    "(6, '6789654321', '9887612345');\n",
    "\n",
    "SELECT * FROM tbl_coalesce_contacts;"
   ]
  },
  {
   "cell_type": "code",
   "execution_count": 0,
   "metadata": {
    "application/vnd.databricks.v1+cell": {
     "cellMetadata": {
      "byteLimit": 2048000,
      "implicitDf": true,
      "rowLimit": 10000
     },
     "inputWidgets": {},
     "nuid": "81c36cd0-7170-49a5-88e4-4ad90166e2c3",
     "showTitle": false,
     "tableResultSettingsMap": {},
     "title": ""
    }
   },
   "outputs": [
    {
     "output_type": "display_data",
     "data": {
      "text/html": [
       "<style scoped>\n",
       "  .table-result-container {\n",
       "    max-height: 300px;\n",
       "    overflow: auto;\n",
       "  }\n",
       "  table, th, td {\n",
       "    border: 1px solid black;\n",
       "    border-collapse: collapse;\n",
       "  }\n",
       "  th, td {\n",
       "    padding: 5px;\n",
       "  }\n",
       "  th {\n",
       "    text-align: left;\n",
       "  }\n",
       "</style><div class='table-result-container'><table class='table-result'><thead style='background-color: white'><tr><th>contact_id</th><th>phone_mobile</th><th>phone_home</th><th>Concate_Phone_Mobile</th><th>Concate_Phone_Home</th><th>preferred_contact</th></tr></thead><tbody><tr><td>1</td><td>9876543210</td><td>null</td><td>9876543210 (Mobile)</td><td>null</td><td>9876543210 (Mobile)</td></tr><tr><td>2</td><td>null</td><td>0401234567</td><td>null</td><td>0401234567 (Home)</td><td>0401234567 (Home)</td></tr><tr><td>3</td><td>null</td><td>null</td><td>null</td><td>null</td><td>No Phone</td></tr><tr><td>4</td><td>null</td><td>080987654</td><td>null</td><td>080987654 (Home)</td><td>080987654 (Home)</td></tr><tr><td>5</td><td>987654321</td><td>null</td><td>987654321 (Mobile)</td><td>null</td><td>987654321 (Mobile)</td></tr><tr><td>6</td><td>6789654321</td><td>9887612345</td><td>6789654321 (Mobile)</td><td>9887612345 (Home)</td><td>6789654321 (Mobile)</td></tr></tbody></table></div>"
      ]
     },
     "metadata": {
      "application/vnd.databricks.v1+output": {
       "addedWidgets": {},
       "aggData": [],
       "aggError": "",
       "aggOverflow": false,
       "aggSchema": [],
       "aggSeriesLimitReached": false,
       "aggType": "",
       "arguments": {},
       "columnCustomDisplayInfos": {},
       "data": [
        [
         1,
         "9876543210",
         null,
         "9876543210 (Mobile)",
         null,
         "9876543210 (Mobile)"
        ],
        [
         2,
         null,
         "0401234567",
         null,
         "0401234567 (Home)",
         "0401234567 (Home)"
        ],
        [
         3,
         null,
         null,
         null,
         null,
         "No Phone"
        ],
        [
         4,
         null,
         "080987654",
         null,
         "080987654 (Home)",
         "080987654 (Home)"
        ],
        [
         5,
         "987654321",
         null,
         "987654321 (Mobile)",
         null,
         "987654321 (Mobile)"
        ],
        [
         6,
         "6789654321",
         "9887612345",
         "6789654321 (Mobile)",
         "9887612345 (Home)",
         "6789654321 (Mobile)"
        ]
       ],
       "datasetInfos": [],
       "dbfsResultPath": null,
       "isJsonSchema": true,
       "metadata": {
        "createTempViewForImplicitDf": true,
        "dataframeName": "_sqldf",
        "executionCount": 3
       },
       "overflow": false,
       "plotOptions": {
        "customPlotOptions": {},
        "displayType": "table",
        "pivotAggregation": null,
        "pivotColumns": null,
        "xColumns": null,
        "yColumns": null
       },
       "removedWidgets": [],
       "schema": [
        {
         "metadata": "{}",
         "name": "contact_id",
         "type": "\"integer\""
        },
        {
         "metadata": "{\"__CHAR_VARCHAR_TYPE_STRING\":\"varchar(15)\"}",
         "name": "phone_mobile",
         "type": "\"string\""
        },
        {
         "metadata": "{\"__CHAR_VARCHAR_TYPE_STRING\":\"varchar(15)\"}",
         "name": "phone_home",
         "type": "\"string\""
        },
        {
         "metadata": "{}",
         "name": "Concate_Phone_Mobile",
         "type": "\"string\""
        },
        {
         "metadata": "{}",
         "name": "Concate_Phone_Home",
         "type": "\"string\""
        },
        {
         "metadata": "{}",
         "name": "preferred_contact",
         "type": "\"string\""
        }
       ],
       "type": "table"
      }
     },
     "output_type": "display_data"
    }
   ],
   "source": [
    "%sql\n",
    "SELECT contact_id, phone_mobile, phone_home,\n",
    "       CONCAT(phone_mobile, ' (Mobile)') AS Concate_Phone_Mobile,\n",
    "       CONCAT(phone_home, ' (Home)') AS Concate_Phone_Home,\n",
    "       COALESCE(\n",
    "           CONCAT(phone_mobile, ' (Mobile)'),\n",
    "           CONCAT(phone_home, ' (Home)'),\n",
    "           'No Phone') AS preferred_contact\n",
    "FROM tbl_coalesce_contacts;"
   ]
  },
  {
   "cell_type": "markdown",
   "metadata": {
    "application/vnd.databricks.v1+cell": {
     "cellMetadata": {},
     "inputWidgets": {},
     "nuid": "ee760062-3c01-4ec0-acca-40162ce2a657",
     "showTitle": false,
     "tableResultSettingsMap": {},
     "title": ""
    }
   },
   "source": [
    "**How it works:**\n",
    "\n",
    "- **CONCAT()** joins **strings** together.\n",
    "\n",
    "- **COALESCE()** returns the **first non-NULL** expression among its arguments.\n",
    "\n",
    "- If **phone_mobile is not NULL**, it returns that number labeled as **\"(Mobile)\"**.\n",
    "\n",
    "- If **phone_mobile** is **NULL** but **phone_home** is **available**, it returns that labeled as **\"(Home)\"**.\n",
    "\n",
    "- If **both are NULL**, it returns the string **\"No Phone\"**."
   ]
  },
  {
   "cell_type": "markdown",
   "metadata": {
    "application/vnd.databricks.v1+cell": {
     "cellMetadata": {},
     "inputWidgets": {},
     "nuid": "60ac158b-bcfb-4d1e-8224-9b5cf3fa114c",
     "showTitle": false,
     "tableResultSettingsMap": {},
     "title": ""
    }
   },
   "source": [
    "**EX 01**"
   ]
  },
  {
   "cell_type": "code",
   "execution_count": 0,
   "metadata": {
    "application/vnd.databricks.v1+cell": {
     "cellMetadata": {
      "byteLimit": 2048000,
      "implicitDf": true,
      "rowLimit": 10000
     },
     "inputWidgets": {},
     "nuid": "21e98240-efdc-4a4f-b281-ea1f0e543160",
     "showTitle": false,
     "tableResultSettingsMap": {},
     "title": ""
    }
   },
   "outputs": [
    {
     "output_type": "display_data",
     "data": {
      "text/html": [
       "<style scoped>\n",
       "  .table-result-container {\n",
       "    max-height: 300px;\n",
       "    overflow: auto;\n",
       "  }\n",
       "  table, th, td {\n",
       "    border: 1px solid black;\n",
       "    border-collapse: collapse;\n",
       "  }\n",
       "  th, td {\n",
       "    padding: 5px;\n",
       "  }\n",
       "  th {\n",
       "    text-align: left;\n",
       "  }\n",
       "</style><div class='table-result-container'><table class='table-result'><thead style='background-color: white'><tr><th>emp_id</th><th>first_name</th><th>last_name</th></tr></thead><tbody><tr><td>1</td><td>Ravi</td><td>Kumar</td></tr><tr><td>2</td><td>Bindu</td><td>null</td></tr><tr><td>3</td><td>null</td><td>Smitha</td></tr><tr><td>4</td><td>null</td><td>null</td></tr><tr><td>5</td><td>Bhanu</td><td>Prakash</td></tr></tbody></table></div>"
      ]
     },
     "metadata": {
      "application/vnd.databricks.v1+output": {
       "addedWidgets": {},
       "aggData": [],
       "aggError": "",
       "aggOverflow": false,
       "aggSchema": [],
       "aggSeriesLimitReached": false,
       "aggType": "",
       "arguments": {},
       "columnCustomDisplayInfos": {},
       "data": [
        [
         1,
         "Ravi",
         "Kumar"
        ],
        [
         2,
         "Bindu",
         null
        ],
        [
         3,
         null,
         "Smitha"
        ],
        [
         4,
         null,
         null
        ],
        [
         5,
         "Bhanu",
         "Prakash"
        ]
       ],
       "datasetInfos": [],
       "dbfsResultPath": null,
       "isJsonSchema": true,
       "metadata": {
        "createTempViewForImplicitDf": true,
        "dataframeName": "_sqldf",
        "executionCount": 5
       },
       "overflow": false,
       "plotOptions": {
        "customPlotOptions": {},
        "displayType": "table",
        "pivotAggregation": null,
        "pivotColumns": null,
        "xColumns": null,
        "yColumns": null
       },
       "removedWidgets": [],
       "schema": [
        {
         "metadata": "{}",
         "name": "emp_id",
         "type": "\"integer\""
        },
        {
         "metadata": "{\"__CHAR_VARCHAR_TYPE_STRING\":\"varchar(50)\"}",
         "name": "first_name",
         "type": "\"string\""
        },
        {
         "metadata": "{\"__CHAR_VARCHAR_TYPE_STRING\":\"varchar(50)\"}",
         "name": "last_name",
         "type": "\"string\""
        }
       ],
       "type": "table"
      }
     },
     "output_type": "display_data"
    }
   ],
   "source": [
    "%sql\n",
    "DROP TABLE IF EXISTS tbl_coalesce_concat_employees;\n",
    "\n",
    "-- Create the employees table\n",
    "CREATE TABLE tbl_coalesce_concat_employees (\n",
    "    emp_id INT,\n",
    "    first_name VARCHAR(50),\n",
    "    last_name VARCHAR(50)\n",
    ");\n",
    "\n",
    "-- Insert sample data\n",
    "INSERT INTO tbl_coalesce_concat_employees (emp_id, first_name, last_name)\n",
    "VALUES\n",
    "(1, 'Ravi', 'Kumar'),\n",
    "(2, 'Bindu', NULL),\n",
    "(3, NULL, 'Smitha'),\n",
    "(4, NULL, NULL),\n",
    "(5, 'Bhanu', 'Prakash');\n",
    "\n",
    "SELECT * FROM tbl_coalesce_concat_employees;"
   ]
  },
  {
   "cell_type": "code",
   "execution_count": 0,
   "metadata": {
    "application/vnd.databricks.v1+cell": {
     "cellMetadata": {
      "byteLimit": 2048000,
      "implicitDf": true,
      "rowLimit": 10000
     },
     "inputWidgets": {},
     "nuid": "0d6af31c-8205-4f60-bb3f-b4b5e60e927b",
     "showTitle": false,
     "tableResultSettingsMap": {},
     "title": ""
    }
   },
   "outputs": [
    {
     "output_type": "display_data",
     "data": {
      "text/html": [
       "<style scoped>\n",
       "  .table-result-container {\n",
       "    max-height: 300px;\n",
       "    overflow: auto;\n",
       "  }\n",
       "  table, th, td {\n",
       "    border: 1px solid black;\n",
       "    border-collapse: collapse;\n",
       "  }\n",
       "  th, td {\n",
       "    padding: 5px;\n",
       "  }\n",
       "  th {\n",
       "    text-align: left;\n",
       "  }\n",
       "</style><div class='table-result-container'><table class='table-result'><thead style='background-color: white'><tr><th>first_name</th><th>last_name</th><th>Coalesce_FirstName</th><th>Coalesce_LastName</th><th>Coalesce_FirstName_LastName</th></tr></thead><tbody><tr><td>Ravi</td><td>Kumar</td><td>Ravi</td><td>Kumar</td><td>Ravi_Kumar</td></tr><tr><td>Bindu</td><td>null</td><td>Bindu</td><td></td><td>Bindu_</td></tr><tr><td>null</td><td>Smitha</td><td></td><td>Smitha</td><td>_Smitha</td></tr><tr><td>null</td><td>null</td><td></td><td></td><td>_</td></tr><tr><td>Bhanu</td><td>Prakash</td><td>Bhanu</td><td>Prakash</td><td>Bhanu_Prakash</td></tr></tbody></table></div>"
      ]
     },
     "metadata": {
      "application/vnd.databricks.v1+output": {
       "addedWidgets": {},
       "aggData": [],
       "aggError": "",
       "aggOverflow": false,
       "aggSchema": [],
       "aggSeriesLimitReached": false,
       "aggType": "",
       "arguments": {},
       "columnCustomDisplayInfos": {},
       "data": [
        [
         "Ravi",
         "Kumar",
         "Ravi",
         "Kumar",
         "Ravi_Kumar"
        ],
        [
         "Bindu",
         null,
         "Bindu",
         "",
         "Bindu_"
        ],
        [
         null,
         "Smitha",
         "",
         "Smitha",
         "_Smitha"
        ],
        [
         null,
         null,
         "",
         "",
         "_"
        ],
        [
         "Bhanu",
         "Prakash",
         "Bhanu",
         "Prakash",
         "Bhanu_Prakash"
        ]
       ],
       "datasetInfos": [],
       "dbfsResultPath": null,
       "isJsonSchema": true,
       "metadata": {
        "createTempViewForImplicitDf": true,
        "dataframeName": "_sqldf",
        "executionCount": 7
       },
       "overflow": false,
       "plotOptions": {
        "customPlotOptions": {},
        "displayType": "table",
        "pivotAggregation": null,
        "pivotColumns": null,
        "xColumns": null,
        "yColumns": null
       },
       "removedWidgets": [],
       "schema": [
        {
         "metadata": "{\"__CHAR_VARCHAR_TYPE_STRING\":\"varchar(50)\"}",
         "name": "first_name",
         "type": "\"string\""
        },
        {
         "metadata": "{\"__CHAR_VARCHAR_TYPE_STRING\":\"varchar(50)\"}",
         "name": "last_name",
         "type": "\"string\""
        },
        {
         "metadata": "{}",
         "name": "Coalesce_FirstName",
         "type": "\"string\""
        },
        {
         "metadata": "{}",
         "name": "Coalesce_LastName",
         "type": "\"string\""
        },
        {
         "metadata": "{}",
         "name": "Coalesce_FirstName_LastName",
         "type": "\"string\""
        }
       ],
       "type": "table"
      }
     },
     "output_type": "display_data"
    }
   ],
   "source": [
    "%sql\n",
    "-- Query: Combine first_name and last_name using COALESCE and CONCAT\n",
    "SELECT first_name, last_name,\n",
    "       COALESCE(first_name, '') AS Coalesce_FirstName,\n",
    "       COALESCE(last_name, '') AS Coalesce_LastName,\n",
    "       CONCAT(\n",
    "         COALESCE(first_name, ''), \n",
    "         '_', \n",
    "         COALESCE(last_name, '')) AS Coalesce_FirstName_LastName\n",
    "FROM tbl_coalesce_concat_employees;"
   ]
  },
  {
   "cell_type": "markdown",
   "metadata": {
    "application/vnd.databricks.v1+cell": {
     "cellMetadata": {},
     "inputWidgets": {},
     "nuid": "8eda21c5-48f8-4c48-a0d9-eaf2d2da29fa",
     "showTitle": false,
     "tableResultSettingsMap": {},
     "title": ""
    }
   },
   "source": [
    "**Explanation:**\n",
    "\n",
    "- If **first_name** is **NULL**, it uses **'' (empty string)**.\n",
    "\n",
    "- If **last_name** is **NULL**, it also uses **''**.\n",
    "\n",
    "- The result is a safe **full name** with **no NULL** in output."
   ]
  },
  {
   "cell_type": "markdown",
   "metadata": {
    "application/vnd.databricks.v1+cell": {
     "cellMetadata": {},
     "inputWidgets": {},
     "nuid": "384a5732-8f7d-49ac-8f30-4a423b7f4009",
     "showTitle": false,
     "tableResultSettingsMap": {},
     "title": ""
    }
   },
   "source": [
    "**EX 02**"
   ]
  },
  {
   "cell_type": "code",
   "execution_count": 0,
   "metadata": {
    "application/vnd.databricks.v1+cell": {
     "cellMetadata": {
      "byteLimit": 2048000,
      "implicitDf": true,
      "rowLimit": 10000
     },
     "inputWidgets": {},
     "nuid": "eaf74010-037e-41ae-b2f0-ac81651caad3",
     "showTitle": false,
     "tableResultSettingsMap": {},
     "title": ""
    }
   },
   "outputs": [
    {
     "output_type": "display_data",
     "data": {
      "text/html": [
       "<style scoped>\n",
       "  .table-result-container {\n",
       "    max-height: 300px;\n",
       "    overflow: auto;\n",
       "  }\n",
       "  table, th, td {\n",
       "    border: 1px solid black;\n",
       "    border-collapse: collapse;\n",
       "  }\n",
       "  th, td {\n",
       "    padding: 5px;\n",
       "  }\n",
       "  th {\n",
       "    text-align: left;\n",
       "  }\n",
       "</style><div class='table-result-container'><table class='table-result'><thead style='background-color: white'><tr><th>contact_id</th><th>phone_mobile</th><th>phone_home</th></tr></thead><tbody><tr><td>1</td><td>9876543210</td><td>null</td></tr><tr><td>2</td><td>null</td><td>0401234567</td></tr><tr><td>3</td><td>null</td><td>null</td></tr><tr><td>4</td><td>null</td><td>080987654</td></tr><tr><td>5</td><td>987654321</td><td>null</td></tr></tbody></table></div>"
      ]
     },
     "metadata": {
      "application/vnd.databricks.v1+output": {
       "addedWidgets": {},
       "aggData": [],
       "aggError": "",
       "aggOverflow": false,
       "aggSchema": [],
       "aggSeriesLimitReached": false,
       "aggType": "",
       "arguments": {},
       "columnCustomDisplayInfos": {},
       "data": [
        [
         1,
         "9876543210",
         null
        ],
        [
         2,
         null,
         "0401234567"
        ],
        [
         3,
         null,
         null
        ],
        [
         4,
         null,
         "080987654"
        ],
        [
         5,
         "987654321",
         null
        ]
       ],
       "datasetInfos": [],
       "dbfsResultPath": null,
       "isJsonSchema": true,
       "metadata": {
        "createTempViewForImplicitDf": true,
        "dataframeName": "_sqldf",
        "executionCount": 9
       },
       "overflow": false,
       "plotOptions": {
        "customPlotOptions": {},
        "displayType": "table",
        "pivotAggregation": null,
        "pivotColumns": null,
        "xColumns": null,
        "yColumns": null
       },
       "removedWidgets": [],
       "schema": [
        {
         "metadata": "{}",
         "name": "contact_id",
         "type": "\"integer\""
        },
        {
         "metadata": "{\"__CHAR_VARCHAR_TYPE_STRING\":\"varchar(15)\"}",
         "name": "phone_mobile",
         "type": "\"string\""
        },
        {
         "metadata": "{\"__CHAR_VARCHAR_TYPE_STRING\":\"varchar(15)\"}",
         "name": "phone_home",
         "type": "\"string\""
        }
       ],
       "type": "table"
      }
     },
     "output_type": "display_data"
    }
   ],
   "source": [
    "%sql\n",
    "DROP TABLE IF EXISTS tbl_coalesce_concat_contacts;\n",
    "\n",
    "-- Create the table\n",
    "CREATE TABLE tbl_coalesce_concat_contacts (\n",
    "    contact_id INT,\n",
    "    phone_mobile VARCHAR(15),\n",
    "    phone_home VARCHAR(15)\n",
    ");\n",
    "\n",
    "-- Insert sample data\n",
    "INSERT INTO tbl_coalesce_concat_contacts (contact_id, phone_mobile, phone_home)\n",
    "VALUES\n",
    "(1, '9876543210', NULL),\n",
    "(2, NULL, '0401234567'),\n",
    "(3, NULL, NULL),\n",
    "(4, NULL, '080987654'),\n",
    "(5, '987654321', NULL);\n",
    "\n",
    "SELECT * FROM tbl_coalesce_concat_contacts;"
   ]
  },
  {
   "cell_type": "code",
   "execution_count": 0,
   "metadata": {
    "application/vnd.databricks.v1+cell": {
     "cellMetadata": {
      "byteLimit": 2048000,
      "implicitDf": true,
      "rowLimit": 10000
     },
     "inputWidgets": {},
     "nuid": "add020de-80de-4ce8-b38f-6627a95bb3e7",
     "showTitle": false,
     "tableResultSettingsMap": {},
     "title": ""
    }
   },
   "outputs": [
    {
     "output_type": "display_data",
     "data": {
      "text/html": [
       "<style scoped>\n",
       "  .table-result-container {\n",
       "    max-height: 300px;\n",
       "    overflow: auto;\n",
       "  }\n",
       "  table, th, td {\n",
       "    border: 1px solid black;\n",
       "    border-collapse: collapse;\n",
       "  }\n",
       "  th, td {\n",
       "    padding: 5px;\n",
       "  }\n",
       "  th {\n",
       "    text-align: left;\n",
       "  }\n",
       "</style><div class='table-result-container'><table class='table-result'><thead style='background-color: white'><tr><th>phone_mobile</th><th>phone_home</th><th>Coalesce_Phone_Mobile</th><th>Coalesce_Phone_Home</th><th>contact_info</th></tr></thead><tbody><tr><td>9876543210</td><td>null</td><td>9876543210</td><td>N/A</td><td>Mobile: 9876543210, Home: N/A</td></tr><tr><td>null</td><td>0401234567</td><td>N/A</td><td>0401234567</td><td>Mobile: N/A, Home: 0401234567</td></tr><tr><td>null</td><td>null</td><td>N/A</td><td>N/A</td><td>Mobile: N/A, Home: N/A</td></tr><tr><td>null</td><td>080987654</td><td>N/A</td><td>080987654</td><td>Mobile: N/A, Home: 080987654</td></tr><tr><td>987654321</td><td>null</td><td>987654321</td><td>N/A</td><td>Mobile: 987654321, Home: N/A</td></tr></tbody></table></div>"
      ]
     },
     "metadata": {
      "application/vnd.databricks.v1+output": {
       "addedWidgets": {},
       "aggData": [],
       "aggError": "",
       "aggOverflow": false,
       "aggSchema": [],
       "aggSeriesLimitReached": false,
       "aggType": "",
       "arguments": {},
       "columnCustomDisplayInfos": {},
       "data": [
        [
         "9876543210",
         null,
         "9876543210",
         "N/A",
         "Mobile: 9876543210, Home: N/A"
        ],
        [
         null,
         "0401234567",
         "N/A",
         "0401234567",
         "Mobile: N/A, Home: 0401234567"
        ],
        [
         null,
         null,
         "N/A",
         "N/A",
         "Mobile: N/A, Home: N/A"
        ],
        [
         null,
         "080987654",
         "N/A",
         "080987654",
         "Mobile: N/A, Home: 080987654"
        ],
        [
         "987654321",
         null,
         "987654321",
         "N/A",
         "Mobile: 987654321, Home: N/A"
        ]
       ],
       "datasetInfos": [],
       "dbfsResultPath": null,
       "isJsonSchema": true,
       "metadata": {
        "createTempViewForImplicitDf": true,
        "dataframeName": "_sqldf",
        "executionCount": 10
       },
       "overflow": false,
       "plotOptions": {
        "customPlotOptions": {},
        "displayType": "table",
        "pivotAggregation": null,
        "pivotColumns": null,
        "xColumns": null,
        "yColumns": null
       },
       "removedWidgets": [],
       "schema": [
        {
         "metadata": "{\"__CHAR_VARCHAR_TYPE_STRING\":\"varchar(15)\"}",
         "name": "phone_mobile",
         "type": "\"string\""
        },
        {
         "metadata": "{\"__CHAR_VARCHAR_TYPE_STRING\":\"varchar(15)\"}",
         "name": "phone_home",
         "type": "\"string\""
        },
        {
         "metadata": "{}",
         "name": "Coalesce_Phone_Mobile",
         "type": "\"string\""
        },
        {
         "metadata": "{}",
         "name": "Coalesce_Phone_Home",
         "type": "\"string\""
        },
        {
         "metadata": "{}",
         "name": "contact_info",
         "type": "\"string\""
        }
       ],
       "type": "table"
      }
     },
     "output_type": "display_data"
    }
   ],
   "source": [
    "%sql\n",
    "SELECT phone_mobile, phone_home,\n",
    "       COALESCE(phone_mobile, 'N/A') AS Coalesce_Phone_Mobile,\n",
    "       COALESCE(phone_home, 'N/A') AS Coalesce_Phone_Home,\n",
    "       CONCAT(\n",
    "        'Mobile: ', COALESCE(phone_mobile, 'N/A'),\n",
    "        ', Home: ', COALESCE(phone_home, 'N/A')) AS contact_info\n",
    "FROM tbl_coalesce_concat_contacts;"
   ]
  },
  {
   "cell_type": "markdown",
   "metadata": {
    "application/vnd.databricks.v1+cell": {
     "cellMetadata": {},
     "inputWidgets": {},
     "nuid": "81088829-9448-4578-897d-ee2c3f791d58",
     "showTitle": false,
     "tableResultSettingsMap": {},
     "title": ""
    }
   },
   "source": [
    "**EX 03**"
   ]
  },
  {
   "cell_type": "code",
   "execution_count": 0,
   "metadata": {
    "application/vnd.databricks.v1+cell": {
     "cellMetadata": {
      "byteLimit": 2048000,
      "implicitDf": true,
      "rowLimit": 10000
     },
     "inputWidgets": {},
     "nuid": "0d468722-87da-4b12-b6a8-12baf0325dbb",
     "showTitle": false,
     "tableResultSettingsMap": {},
     "title": ""
    }
   },
   "outputs": [
    {
     "output_type": "display_data",
     "data": {
      "text/html": [
       "<style scoped>\n",
       "  .table-result-container {\n",
       "    max-height: 300px;\n",
       "    overflow: auto;\n",
       "  }\n",
       "  table, th, td {\n",
       "    border: 1px solid black;\n",
       "    border-collapse: collapse;\n",
       "  }\n",
       "  th, td {\n",
       "    padding: 5px;\n",
       "  }\n",
       "  th {\n",
       "    text-align: left;\n",
       "  }\n",
       "</style><div class='table-result-container'><table class='table-result'><thead style='background-color: white'><tr><th>address_id</th><th>city</th><th>state</th><th>country</th></tr></thead><tbody><tr><td>1</td><td>Bangalore</td><td>Karnataka</td><td>India</td></tr><tr><td>2</td><td>null</td><td>California</td><td>USA</td></tr><tr><td>3</td><td>Toronto</td><td>null</td><td>Canada</td></tr><tr><td>4</td><td>null</td><td>null</td><td>null</td></tr><tr><td>5</td><td>London</td><td>England</td><td>null</td></tr></tbody></table></div>"
      ]
     },
     "metadata": {
      "application/vnd.databricks.v1+output": {
       "addedWidgets": {},
       "aggData": [],
       "aggError": "",
       "aggOverflow": false,
       "aggSchema": [],
       "aggSeriesLimitReached": false,
       "aggType": "",
       "arguments": {},
       "columnCustomDisplayInfos": {},
       "data": [
        [
         1,
         "Bangalore",
         "Karnataka",
         "India"
        ],
        [
         2,
         null,
         "California",
         "USA"
        ],
        [
         3,
         "Toronto",
         null,
         "Canada"
        ],
        [
         4,
         null,
         null,
         null
        ],
        [
         5,
         "London",
         "England",
         null
        ]
       ],
       "datasetInfos": [],
       "dbfsResultPath": null,
       "isJsonSchema": true,
       "metadata": {
        "createTempViewForImplicitDf": true,
        "dataframeName": "_sqldf",
        "executionCount": 12
       },
       "overflow": false,
       "plotOptions": {
        "customPlotOptions": {},
        "displayType": "table",
        "pivotAggregation": null,
        "pivotColumns": null,
        "xColumns": null,
        "yColumns": null
       },
       "removedWidgets": [],
       "schema": [
        {
         "metadata": "{}",
         "name": "address_id",
         "type": "\"integer\""
        },
        {
         "metadata": "{\"__CHAR_VARCHAR_TYPE_STRING\":\"varchar(50)\"}",
         "name": "city",
         "type": "\"string\""
        },
        {
         "metadata": "{\"__CHAR_VARCHAR_TYPE_STRING\":\"varchar(50)\"}",
         "name": "state",
         "type": "\"string\""
        },
        {
         "metadata": "{\"__CHAR_VARCHAR_TYPE_STRING\":\"varchar(50)\"}",
         "name": "country",
         "type": "\"string\""
        }
       ],
       "type": "table"
      }
     },
     "output_type": "display_data"
    }
   ],
   "source": [
    "%sql\n",
    "DROP TABLE IF EXISTS tbl_coalesce_concat_addresses;\n",
    "\n",
    "-- Create the table\n",
    "CREATE TABLE tbl_coalesce_concat_addresses (\n",
    "    address_id INT,\n",
    "    city VARCHAR(50),\n",
    "    state VARCHAR(50),\n",
    "    country VARCHAR(50)\n",
    ");\n",
    "\n",
    "-- Insert sample data\n",
    "INSERT INTO tbl_coalesce_concat_addresses (address_id, city, state, country)\n",
    "VALUES\n",
    "(1, 'Bangalore', 'Karnataka', 'India'),\n",
    "(2, NULL, 'California', 'USA'),\n",
    "(3, 'Toronto', NULL, 'Canada'),\n",
    "(4, NULL, NULL, NULL),\n",
    "(5, 'London', 'England', NULL);\n",
    "\n",
    "SELECT * FROM tbl_coalesce_concat_addresses;"
   ]
  },
  {
   "cell_type": "code",
   "execution_count": 0,
   "metadata": {
    "application/vnd.databricks.v1+cell": {
     "cellMetadata": {
      "byteLimit": 2048000,
      "implicitDf": true,
      "rowLimit": 10000
     },
     "inputWidgets": {},
     "nuid": "c8a3a34e-1dab-40e5-a85f-5ef0662f77d4",
     "showTitle": false,
     "tableResultSettingsMap": {},
     "title": ""
    }
   },
   "outputs": [
    {
     "output_type": "display_data",
     "data": {
      "text/html": [
       "<style scoped>\n",
       "  .table-result-container {\n",
       "    max-height: 300px;\n",
       "    overflow: auto;\n",
       "  }\n",
       "  table, th, td {\n",
       "    border: 1px solid black;\n",
       "    border-collapse: collapse;\n",
       "  }\n",
       "  th, td {\n",
       "    padding: 5px;\n",
       "  }\n",
       "  th {\n",
       "    text-align: left;\n",
       "  }\n",
       "</style><div class='table-result-container'><table class='table-result'><thead style='background-color: white'><tr><th>city</th><th>state</th><th>country</th><th>Colaesce_City</th><th>Colaesce_State</th><th>Colaesce_Country</th><th>location</th></tr></thead><tbody><tr><td>Bangalore</td><td>Karnataka</td><td>India</td><td>Bangalore</td><td>Karnataka</td><td>India</td><td>Bangalore - Karnataka - India</td></tr><tr><td>null</td><td>California</td><td>USA</td><td>Unknown City</td><td>California</td><td>USA</td><td>Unknown City - California - USA</td></tr><tr><td>Toronto</td><td>null</td><td>Canada</td><td>Toronto</td><td>Unknown State</td><td>Canada</td><td>Toronto - Unknown State - Canada</td></tr><tr><td>null</td><td>null</td><td>null</td><td>Unknown City</td><td>Unknown State</td><td>Unknown Country</td><td>Unknown City - Unknown State - Unknown Country</td></tr><tr><td>London</td><td>England</td><td>null</td><td>London</td><td>England</td><td>Unknown Country</td><td>London - England - Unknown Country</td></tr></tbody></table></div>"
      ]
     },
     "metadata": {
      "application/vnd.databricks.v1+output": {
       "addedWidgets": {},
       "aggData": [],
       "aggError": "",
       "aggOverflow": false,
       "aggSchema": [],
       "aggSeriesLimitReached": false,
       "aggType": "",
       "arguments": {},
       "columnCustomDisplayInfos": {},
       "data": [
        [
         "Bangalore",
         "Karnataka",
         "India",
         "Bangalore",
         "Karnataka",
         "India",
         "Bangalore - Karnataka - India"
        ],
        [
         null,
         "California",
         "USA",
         "Unknown City",
         "California",
         "USA",
         "Unknown City - California - USA"
        ],
        [
         "Toronto",
         null,
         "Canada",
         "Toronto",
         "Unknown State",
         "Canada",
         "Toronto - Unknown State - Canada"
        ],
        [
         null,
         null,
         null,
         "Unknown City",
         "Unknown State",
         "Unknown Country",
         "Unknown City - Unknown State - Unknown Country"
        ],
        [
         "London",
         "England",
         null,
         "London",
         "England",
         "Unknown Country",
         "London - England - Unknown Country"
        ]
       ],
       "datasetInfos": [],
       "dbfsResultPath": null,
       "isJsonSchema": true,
       "metadata": {
        "createTempViewForImplicitDf": true,
        "dataframeName": "_sqldf",
        "executionCount": 13
       },
       "overflow": false,
       "plotOptions": {
        "customPlotOptions": {},
        "displayType": "table",
        "pivotAggregation": null,
        "pivotColumns": null,
        "xColumns": null,
        "yColumns": null
       },
       "removedWidgets": [],
       "schema": [
        {
         "metadata": "{\"__CHAR_VARCHAR_TYPE_STRING\":\"varchar(50)\"}",
         "name": "city",
         "type": "\"string\""
        },
        {
         "metadata": "{\"__CHAR_VARCHAR_TYPE_STRING\":\"varchar(50)\"}",
         "name": "state",
         "type": "\"string\""
        },
        {
         "metadata": "{\"__CHAR_VARCHAR_TYPE_STRING\":\"varchar(50)\"}",
         "name": "country",
         "type": "\"string\""
        },
        {
         "metadata": "{}",
         "name": "Colaesce_City",
         "type": "\"string\""
        },
        {
         "metadata": "{}",
         "name": "Colaesce_State",
         "type": "\"string\""
        },
        {
         "metadata": "{}",
         "name": "Colaesce_Country",
         "type": "\"string\""
        },
        {
         "metadata": "{}",
         "name": "location",
         "type": "\"string\""
        }
       ],
       "type": "table"
      }
     },
     "output_type": "display_data"
    }
   ],
   "source": [
    "%sql\n",
    "SELECT city, state, country,\n",
    "       COALESCE(city, 'Unknown City') AS Colaesce_City,\n",
    "       COALESCE(state, 'Unknown State') AS Colaesce_State,\n",
    "       COALESCE(country, 'Unknown Country') AS Colaesce_Country,\n",
    "       CONCAT_WS(\n",
    "         ' - ',\n",
    "         COALESCE(city, 'Unknown City'),\n",
    "         COALESCE(state, 'Unknown State'),\n",
    "         COALESCE(country, 'Unknown Country')) AS location\n",
    "FROM tbl_coalesce_concat_addresses;"
   ]
  },
  {
   "cell_type": "markdown",
   "metadata": {
    "application/vnd.databricks.v1+cell": {
     "cellMetadata": {},
     "inputWidgets": {},
     "nuid": "4b5e250e-d0d3-430f-b356-26ba034836b5",
     "showTitle": false,
     "tableResultSettingsMap": {},
     "title": ""
    }
   },
   "source": [
    "- **CONCAT_WS(separator, ...) skips NULLs** automatically.\n",
    "\n",
    "- But if you still want **default values**, use **COALESCE**."
   ]
  }
 ],
 "metadata": {
  "application/vnd.databricks.v1+notebook": {
   "computePreferences": null,
   "dashboards": [],
   "environmentMetadata": {
    "base_environment": "",
    "environment_version": "1"
   },
   "inputWidgetPreferences": null,
   "language": "python",
   "notebookMetadata": {
    "mostRecentlyExecutedCommandWithImplicitDF": {
     "commandId": 1637788139846384,
     "dataframes": [
      "_sqldf"
     ]
    },
    "pythonIndentUnit": 4
   },
   "notebookName": "13_How to handle NULL values in SQL ? | SQL COALESCE Function with Concat",
   "widgets": {}
  }
 },
 "nbformat": 4,
 "nbformat_minor": 0
}