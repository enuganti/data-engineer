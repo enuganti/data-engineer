{
 "cells": [
  {
   "cell_type": "markdown",
   "metadata": {
    "application/vnd.databricks.v1+cell": {
     "cellMetadata": {},
     "inputWidgets": {},
     "nuid": "8dfd2858-206c-41c5-a882-5ec022ef42e4",
     "showTitle": false,
     "tableResultSettingsMap": {},
     "title": ""
    }
   },
   "source": [
    "#### a) concatenation operator: ||.\n",
    "  - It allows us to **merge two or more strings** into a **single output**.\n",
    "  - Combines **multiple columns or strings** into **one**.\n",
    "  - Works with **different data types** (text, numbers, dates)."
   ]
  },
  {
   "cell_type": "markdown",
   "metadata": {
    "application/vnd.databricks.v1+cell": {
     "cellMetadata": {},
     "inputWidgets": {},
     "nuid": "ef68f944-8a40-48ff-9ab2-d4a84e3756f9",
     "showTitle": false,
     "tableResultSettingsMap": {},
     "title": ""
    }
   },
   "source": [
    "**Syntax**\n",
    "\n",
    "     SELECT column1 || column2 AS new_column\n",
    "     FROM table_name;"
   ]
  },
  {
   "cell_type": "markdown",
   "metadata": {
    "application/vnd.databricks.v1+cell": {
     "cellMetadata": {},
     "inputWidgets": {},
     "nuid": "1bf5eacd-8e56-4c20-8089-b8bab68b43c0",
     "showTitle": false,
     "tableResultSettingsMap": {},
     "title": ""
    }
   },
   "source": [
    "**1) Concatenating First Name and Last Name**"
   ]
  },
  {
   "cell_type": "code",
   "execution_count": 0,
   "metadata": {
    "application/vnd.databricks.v1+cell": {
     "cellMetadata": {
      "byteLimit": 2048000,
      "implicitDf": true,
      "rowLimit": 10000
     },
     "inputWidgets": {},
     "nuid": "8f133c43-09b6-49f6-82e9-3e0a12963454",
     "showTitle": false,
     "tableResultSettingsMap": {},
     "title": ""
    }
   },
   "outputs": [
    {
     "output_type": "display_data",
     "data": {
      "text/html": [
       "<style scoped>\n",
       "  .table-result-container {\n",
       "    max-height: 300px;\n",
       "    overflow: auto;\n",
       "  }\n",
       "  table, th, td {\n",
       "    border: 1px solid black;\n",
       "    border-collapse: collapse;\n",
       "  }\n",
       "  th, td {\n",
       "    padding: 5px;\n",
       "  }\n",
       "  th {\n",
       "    text-align: left;\n",
       "  }\n",
       "</style><div class='table-result-container'><table class='table-result'><thead style='background-color: white'><tr><th>ID</th><th>First_Name</th><th>Last_Name</th><th>Salary</th><th>Age</th></tr></thead><tbody><tr><td>1</td><td>Rajesh</td><td>Kumar</td><td>16500</td><td>25</td></tr><tr><td>2</td><td>Gopinath</td><td>Munday</td><td>25600</td><td>28</td></tr><tr><td>3</td><td>Shekar</td><td>Varma</td><td>59800</td><td>32</td></tr><tr><td>4</td><td>Karishma</td><td>Yadav</td><td>956400</td><td>35</td></tr><tr><td>5</td><td>Kamlesh</td><td>Sharma</td><td>75800</td><td>29</td></tr><tr><td>6</td><td>Joshna</td><td>Kumari</td><td>257800</td><td>24</td></tr><tr><td>7</td><td>null</td><td>Paul</td><td>257800</td><td>24</td></tr><tr><td>8</td><td>Joshna</td><td>null</td><td>257800</td><td>24</td></tr></tbody></table></div>"
      ]
     },
     "metadata": {
      "application/vnd.databricks.v1+output": {
       "addedWidgets": {},
       "aggData": [],
       "aggError": "",
       "aggOverflow": false,
       "aggSchema": [],
       "aggSeriesLimitReached": false,
       "aggType": "",
       "arguments": {},
       "columnCustomDisplayInfos": {},
       "data": [
        [
         1,
         "Rajesh",
         "Kumar",
         16500,
         25
        ],
        [
         2,
         "Gopinath",
         "Munday",
         25600,
         28
        ],
        [
         3,
         "Shekar",
         "Varma",
         59800,
         32
        ],
        [
         4,
         "Karishma",
         "Yadav",
         956400,
         35
        ],
        [
         5,
         "Kamlesh",
         "Sharma",
         75800,
         29
        ],
        [
         6,
         "Joshna",
         "Kumari",
         257800,
         24
        ],
        [
         7,
         null,
         "Paul",
         257800,
         24
        ],
        [
         8,
         "Joshna",
         null,
         257800,
         24
        ]
       ],
       "datasetInfos": [],
       "dbfsResultPath": null,
       "isJsonSchema": true,
       "metadata": {
        "createTempViewForImplicitDf": true,
        "dataframeName": "_sqldf",
        "executionCount": 5
       },
       "overflow": false,
       "plotOptions": {
        "customPlotOptions": {},
        "displayType": "table",
        "pivotAggregation": null,
        "pivotColumns": null,
        "xColumns": null,
        "yColumns": null
       },
       "removedWidgets": [],
       "schema": [
        {
         "metadata": "{}",
         "name": "ID",
         "type": "\"integer\""
        },
        {
         "metadata": "{\"__CHAR_VARCHAR_TYPE_STRING\":\"varchar(50)\"}",
         "name": "First_Name",
         "type": "\"string\""
        },
        {
         "metadata": "{\"__CHAR_VARCHAR_TYPE_STRING\":\"varchar(50)\"}",
         "name": "Last_Name",
         "type": "\"string\""
        },
        {
         "metadata": "{}",
         "name": "Salary",
         "type": "\"integer\""
        },
        {
         "metadata": "{}",
         "name": "Age",
         "type": "\"integer\""
        }
       ],
       "type": "table"
      }
     },
     "output_type": "display_data"
    }
   ],
   "source": [
    "%sql\n",
    "DROP TABLE IF EXISTS tblConcatenateEmployees;\n",
    "\n",
    "-- Create the table\n",
    "CREATE TABLE tblConcatenateEmployees (\n",
    "    ID INT,\n",
    "    First_Name VARCHAR(50),\n",
    "    Last_Name VARCHAR(50),\n",
    "    Salary INT,\n",
    "    Age INT\n",
    ");\n",
    "\n",
    "-- Insert data\n",
    "INSERT INTO tblConcatenateEmployees (ID, First_Name, Last_Name, Salary, Age)\n",
    "VALUES\n",
    "(1, 'Rajesh', 'Kumar', 16500, 25),\n",
    "(2, 'Gopinath', 'Munday', 25600, 28),\n",
    "(3, 'Shekar', 'Varma', 59800, 32),\n",
    "(4, 'Karishma', 'Yadav', 956400, 35),\n",
    "(5, 'Kamlesh', 'Sharma', 75800, 29),\n",
    "(6, 'Joshna', 'Kumari', 257800, 24),\n",
    "(7, NULL, 'Paul', 257800, 24),\n",
    "(8, 'Joshna', NULL, 257800, 24);\n",
    "\n",
    "SELECT * FROM tblConcatenateEmployees;"
   ]
  },
  {
   "cell_type": "code",
   "execution_count": 0,
   "metadata": {
    "application/vnd.databricks.v1+cell": {
     "cellMetadata": {
      "byteLimit": 2048000,
      "implicitDf": true,
      "rowLimit": 10000
     },
     "inputWidgets": {},
     "nuid": "203bd40b-f743-433b-a480-c0f6b614ad7b",
     "showTitle": false,
     "tableResultSettingsMap": {},
     "title": ""
    }
   },
   "outputs": [
    {
     "output_type": "display_data",
     "data": {
      "text/html": [
       "<style scoped>\n",
       "  .table-result-container {\n",
       "    max-height: 300px;\n",
       "    overflow: auto;\n",
       "  }\n",
       "  table, th, td {\n",
       "    border: 1px solid black;\n",
       "    border-collapse: collapse;\n",
       "  }\n",
       "  th, td {\n",
       "    padding: 5px;\n",
       "  }\n",
       "  th {\n",
       "    text-align: left;\n",
       "  }\n",
       "</style><div class='table-result-container'><table class='table-result'><thead style='background-color: white'><tr><th>id</th><th>First_Name</th><th>Last_Name</th><th>Full_Name_FirstLastName</th><th>Salary</th></tr></thead><tbody><tr><td>1</td><td>Rajesh</td><td>Kumar</td><td>RajeshKumar</td><td>16500</td></tr><tr><td>2</td><td>Gopinath</td><td>Munday</td><td>GopinathMunday</td><td>25600</td></tr><tr><td>3</td><td>Shekar</td><td>Varma</td><td>ShekarVarma</td><td>59800</td></tr><tr><td>4</td><td>Karishma</td><td>Yadav</td><td>KarishmaYadav</td><td>956400</td></tr><tr><td>5</td><td>Kamlesh</td><td>Sharma</td><td>KamleshSharma</td><td>75800</td></tr><tr><td>6</td><td>Joshna</td><td>Kumari</td><td>JoshnaKumari</td><td>257800</td></tr><tr><td>7</td><td>null</td><td>Paul</td><td>null</td><td>257800</td></tr><tr><td>8</td><td>Joshna</td><td>null</td><td>null</td><td>257800</td></tr></tbody></table></div>"
      ]
     },
     "metadata": {
      "application/vnd.databricks.v1+output": {
       "addedWidgets": {},
       "aggData": [],
       "aggError": "",
       "aggOverflow": false,
       "aggSchema": [],
       "aggSeriesLimitReached": false,
       "aggType": "",
       "arguments": {},
       "columnCustomDisplayInfos": {},
       "data": [
        [
         1,
         "Rajesh",
         "Kumar",
         "RajeshKumar",
         16500
        ],
        [
         2,
         "Gopinath",
         "Munday",
         "GopinathMunday",
         25600
        ],
        [
         3,
         "Shekar",
         "Varma",
         "ShekarVarma",
         59800
        ],
        [
         4,
         "Karishma",
         "Yadav",
         "KarishmaYadav",
         956400
        ],
        [
         5,
         "Kamlesh",
         "Sharma",
         "KamleshSharma",
         75800
        ],
        [
         6,
         "Joshna",
         "Kumari",
         "JoshnaKumari",
         257800
        ],
        [
         7,
         null,
         "Paul",
         null,
         257800
        ],
        [
         8,
         "Joshna",
         null,
         null,
         257800
        ]
       ],
       "datasetInfos": [],
       "dbfsResultPath": null,
       "isJsonSchema": true,
       "metadata": {
        "createTempViewForImplicitDf": true,
        "dataframeName": "_sqldf",
        "executionCount": 6
       },
       "overflow": false,
       "plotOptions": {
        "customPlotOptions": {},
        "displayType": "table",
        "pivotAggregation": null,
        "pivotColumns": null,
        "xColumns": null,
        "yColumns": null
       },
       "removedWidgets": [],
       "schema": [
        {
         "metadata": "{}",
         "name": "id",
         "type": "\"integer\""
        },
        {
         "metadata": "{\"__CHAR_VARCHAR_TYPE_STRING\":\"varchar(50)\"}",
         "name": "First_Name",
         "type": "\"string\""
        },
        {
         "metadata": "{\"__CHAR_VARCHAR_TYPE_STRING\":\"varchar(50)\"}",
         "name": "Last_Name",
         "type": "\"string\""
        },
        {
         "metadata": "{}",
         "name": "Full_Name_FirstLastName",
         "type": "\"string\""
        },
        {
         "metadata": "{}",
         "name": "Salary",
         "type": "\"integer\""
        }
       ],
       "type": "table"
      }
     },
     "output_type": "display_data"
    }
   ],
   "source": [
    "%sql\n",
    "SELECT id,\n",
    "       First_Name, Last_Name,\n",
    "       First_Name || Last_Name AS Full_Name_FirstLastName,\n",
    "       Salary\n",
    "FROM tblConcatenateEmployees;"
   ]
  },
  {
   "cell_type": "markdown",
   "metadata": {
    "application/vnd.databricks.v1+cell": {
     "cellMetadata": {},
     "inputWidgets": {},
     "nuid": "3cf2c382-6997-4791-8dc5-e1065fbb8997",
     "showTitle": false,
     "tableResultSettingsMap": {},
     "title": ""
    }
   },
   "source": [
    "**2) Concatenating Strings with a Literal**"
   ]
  },
  {
   "cell_type": "code",
   "execution_count": 0,
   "metadata": {
    "application/vnd.databricks.v1+cell": {
     "cellMetadata": {
      "byteLimit": 2048000,
      "implicitDf": true,
      "rowLimit": 10000
     },
     "inputWidgets": {},
     "nuid": "62fa3b71-83e3-4b4c-902f-608395df8b03",
     "showTitle": false,
     "tableResultSettingsMap": {},
     "title": ""
    }
   },
   "outputs": [
    {
     "output_type": "display_data",
     "data": {
      "text/html": [
       "<style scoped>\n",
       "  .table-result-container {\n",
       "    max-height: 300px;\n",
       "    overflow: auto;\n",
       "  }\n",
       "  table, th, td {\n",
       "    border: 1px solid black;\n",
       "    border-collapse: collapse;\n",
       "  }\n",
       "  th, td {\n",
       "    padding: 5px;\n",
       "  }\n",
       "  th {\n",
       "    text-align: left;\n",
       "  }\n",
       "</style><div class='table-result-container'><table class='table-result'><thead style='background-color: white'><tr><th>id</th><th>First_Name</th><th>Last_Name</th><th>Salary</th><th>New_Column</th></tr></thead><tbody><tr><td>1</td><td>Rajesh</td><td>Kumar</td><td>16500</td><td>Rajesh has salary of 16500</td></tr><tr><td>2</td><td>Gopinath</td><td>Munday</td><td>25600</td><td>Gopinath has salary of 25600</td></tr><tr><td>3</td><td>Shekar</td><td>Varma</td><td>59800</td><td>Shekar has salary of 59800</td></tr><tr><td>4</td><td>Karishma</td><td>Yadav</td><td>956400</td><td>Karishma has salary of 956400</td></tr><tr><td>5</td><td>Kamlesh</td><td>Sharma</td><td>75800</td><td>Kamlesh has salary of 75800</td></tr><tr><td>6</td><td>Joshna</td><td>Kumari</td><td>257800</td><td>Joshna has salary of 257800</td></tr><tr><td>7</td><td>null</td><td>Paul</td><td>257800</td><td>null</td></tr><tr><td>8</td><td>Joshna</td><td>null</td><td>257800</td><td>Joshna has salary of 257800</td></tr></tbody></table></div>"
      ]
     },
     "metadata": {
      "application/vnd.databricks.v1+output": {
       "addedWidgets": {},
       "aggData": [],
       "aggError": "",
       "aggOverflow": false,
       "aggSchema": [],
       "aggSeriesLimitReached": false,
       "aggType": "",
       "arguments": {},
       "columnCustomDisplayInfos": {},
       "data": [
        [
         1,
         "Rajesh",
         "Kumar",
         16500,
         "Rajesh has salary of 16500"
        ],
        [
         2,
         "Gopinath",
         "Munday",
         25600,
         "Gopinath has salary of 25600"
        ],
        [
         3,
         "Shekar",
         "Varma",
         59800,
         "Shekar has salary of 59800"
        ],
        [
         4,
         "Karishma",
         "Yadav",
         956400,
         "Karishma has salary of 956400"
        ],
        [
         5,
         "Kamlesh",
         "Sharma",
         75800,
         "Kamlesh has salary of 75800"
        ],
        [
         6,
         "Joshna",
         "Kumari",
         257800,
         "Joshna has salary of 257800"
        ],
        [
         7,
         null,
         "Paul",
         257800,
         null
        ],
        [
         8,
         "Joshna",
         null,
         257800,
         "Joshna has salary of 257800"
        ]
       ],
       "datasetInfos": [],
       "dbfsResultPath": null,
       "isJsonSchema": true,
       "metadata": {
        "createTempViewForImplicitDf": true,
        "dataframeName": "_sqldf",
        "executionCount": 8
       },
       "overflow": false,
       "plotOptions": {
        "customPlotOptions": {},
        "displayType": "table",
        "pivotAggregation": null,
        "pivotColumns": null,
        "xColumns": null,
        "yColumns": null
       },
       "removedWidgets": [],
       "schema": [
        {
         "metadata": "{}",
         "name": "id",
         "type": "\"integer\""
        },
        {
         "metadata": "{\"__CHAR_VARCHAR_TYPE_STRING\":\"varchar(50)\"}",
         "name": "First_Name",
         "type": "\"string\""
        },
        {
         "metadata": "{\"__CHAR_VARCHAR_TYPE_STRING\":\"varchar(50)\"}",
         "name": "Last_Name",
         "type": "\"string\""
        },
        {
         "metadata": "{}",
         "name": "Salary",
         "type": "\"integer\""
        },
        {
         "metadata": "{}",
         "name": "New_Column",
         "type": "\"string\""
        }
       ],
       "type": "table"
      }
     },
     "output_type": "display_data"
    }
   ],
   "source": [
    "%sql\n",
    "SELECT id, First_Name, Last_Name, Salary, \n",
    "       First_Name||' has salary of '||Salary AS New_Column\n",
    "FROM tblConcatenateEmployees;"
   ]
  },
  {
   "cell_type": "markdown",
   "metadata": {
    "application/vnd.databricks.v1+cell": {
     "cellMetadata": {},
     "inputWidgets": {},
     "nuid": "88412b60-e1b6-4109-b30c-f99d5ec0e5fb",
     "showTitle": false,
     "tableResultSettingsMap": {},
     "title": ""
    }
   },
   "source": [
    "**3) Using a Number Literal in Concatenation**"
   ]
  },
  {
   "cell_type": "code",
   "execution_count": 0,
   "metadata": {
    "application/vnd.databricks.v1+cell": {
     "cellMetadata": {
      "byteLimit": 2048000,
      "implicitDf": true,
      "rowLimit": 10000
     },
     "inputWidgets": {},
     "nuid": "fb970ea6-3f07-49f5-bf2e-6586120acb66",
     "showTitle": false,
     "tableResultSettingsMap": {},
     "title": ""
    }
   },
   "outputs": [
    {
     "output_type": "display_data",
     "data": {
      "text/html": [
       "<style scoped>\n",
       "  .table-result-container {\n",
       "    max-height: 300px;\n",
       "    overflow: auto;\n",
       "  }\n",
       "  table, th, td {\n",
       "    border: 1px solid black;\n",
       "    border-collapse: collapse;\n",
       "  }\n",
       "  th, td {\n",
       "    padding: 5px;\n",
       "  }\n",
       "  th {\n",
       "    text-align: left;\n",
       "  }\n",
       "</style><div class='table-result-container'><table class='table-result'><thead style='background-color: white'><tr><th>id</th><th>First_Name</th><th>Last_Name</th><th>Salary</th><th>NewIDColumn</th></tr></thead><tbody><tr><td>1</td><td>Rajesh</td><td>Kumar</td><td>16500</td><td>Rajesh_100 has ID Number of 1</td></tr><tr><td>2</td><td>Gopinath</td><td>Munday</td><td>25600</td><td>Gopinath_100 has ID Number of 2</td></tr><tr><td>3</td><td>Shekar</td><td>Varma</td><td>59800</td><td>Shekar_100 has ID Number of 3</td></tr><tr><td>4</td><td>Karishma</td><td>Yadav</td><td>956400</td><td>Karishma_100 has ID Number of 4</td></tr><tr><td>5</td><td>Kamlesh</td><td>Sharma</td><td>75800</td><td>Kamlesh_100 has ID Number of 5</td></tr><tr><td>6</td><td>Joshna</td><td>Kumari</td><td>257800</td><td>Joshna_100 has ID Number of 6</td></tr><tr><td>7</td><td>null</td><td>Paul</td><td>257800</td><td>null</td></tr><tr><td>8</td><td>Joshna</td><td>null</td><td>257800</td><td>Joshna_100 has ID Number of 8</td></tr></tbody></table></div>"
      ]
     },
     "metadata": {
      "application/vnd.databricks.v1+output": {
       "addedWidgets": {},
       "aggData": [],
       "aggError": "",
       "aggOverflow": false,
       "aggSchema": [],
       "aggSeriesLimitReached": false,
       "aggType": "",
       "arguments": {},
       "columnCustomDisplayInfos": {},
       "data": [
        [
         1,
         "Rajesh",
         "Kumar",
         16500,
         "Rajesh_100 has ID Number of 1"
        ],
        [
         2,
         "Gopinath",
         "Munday",
         25600,
         "Gopinath_100 has ID Number of 2"
        ],
        [
         3,
         "Shekar",
         "Varma",
         59800,
         "Shekar_100 has ID Number of 3"
        ],
        [
         4,
         "Karishma",
         "Yadav",
         956400,
         "Karishma_100 has ID Number of 4"
        ],
        [
         5,
         "Kamlesh",
         "Sharma",
         75800,
         "Kamlesh_100 has ID Number of 5"
        ],
        [
         6,
         "Joshna",
         "Kumari",
         257800,
         "Joshna_100 has ID Number of 6"
        ],
        [
         7,
         null,
         "Paul",
         257800,
         null
        ],
        [
         8,
         "Joshna",
         null,
         257800,
         "Joshna_100 has ID Number of 8"
        ]
       ],
       "datasetInfos": [],
       "dbfsResultPath": null,
       "isJsonSchema": true,
       "metadata": {
        "createTempViewForImplicitDf": true,
        "dataframeName": "_sqldf",
        "executionCount": 11
       },
       "overflow": false,
       "plotOptions": {
        "customPlotOptions": {},
        "displayType": "table",
        "pivotAggregation": null,
        "pivotColumns": null,
        "xColumns": null,
        "yColumns": null
       },
       "removedWidgets": [],
       "schema": [
        {
         "metadata": "{}",
         "name": "id",
         "type": "\"integer\""
        },
        {
         "metadata": "{\"__CHAR_VARCHAR_TYPE_STRING\":\"varchar(50)\"}",
         "name": "First_Name",
         "type": "\"string\""
        },
        {
         "metadata": "{\"__CHAR_VARCHAR_TYPE_STRING\":\"varchar(50)\"}",
         "name": "Last_Name",
         "type": "\"string\""
        },
        {
         "metadata": "{}",
         "name": "Salary",
         "type": "\"integer\""
        },
        {
         "metadata": "{}",
         "name": "NewIDColumn",
         "type": "\"string\""
        }
       ],
       "type": "table"
      }
     },
     "output_type": "display_data"
    }
   ],
   "source": [
    "%sql\n",
    "SELECT id, First_Name, Last_Name, Salary,\n",
    "       First_Name || '_' || 100 || ' has ID Number of ' || id AS NewIDColumn\n",
    "FROM tblConcatenateEmployees;"
   ]
  },
  {
   "cell_type": "markdown",
   "metadata": {
    "application/vnd.databricks.v1+cell": {
     "cellMetadata": {},
     "inputWidgets": {},
     "nuid": "9c558157-109b-42ee-8278-ce01814e3dd9",
     "showTitle": false,
     "tableResultSettingsMap": {},
     "title": ""
    }
   },
   "source": [
    "**Difference b/n concat and concatenation (||)**\n",
    "\n",
    "     ('John', NULL)\n",
    "\n",
    "     # using concat\n",
    "     CONCAT('John', NULL) → 'John'\n",
    "     \n",
    "     # Using || (concatenation)\n",
    "     'John' || NULL → NULL\n",
    "\n",
    "     # best practice\n",
    "     SELECT ID, FIRST_NAME, LAST_NAME,\n",
    "            COALESCE(FIRST_NAME, '') || COALESCE(LAST_NAME, '') AS FULL_NAME,\n",
    "           SALARY\n",
    "     FROM tblConcatenateEmployees;"
   ]
  },
  {
   "cell_type": "markdown",
   "metadata": {
    "application/vnd.databricks.v1+cell": {
     "cellMetadata": {},
     "inputWidgets": {},
     "nuid": "752a4aa2-33e7-4d1a-8a07-fdf92802b5bc",
     "showTitle": false,
     "tableResultSettingsMap": {},
     "title": ""
    }
   },
   "source": [
    "#### b) Coalesce with Concatenation"
   ]
  },
  {
   "cell_type": "code",
   "execution_count": 0,
   "metadata": {
    "application/vnd.databricks.v1+cell": {
     "cellMetadata": {
      "byteLimit": 2048000,
      "implicitDf": true,
      "rowLimit": 10000
     },
     "inputWidgets": {},
     "nuid": "5bf8be95-4891-429a-b6b7-bf683812884b",
     "showTitle": false,
     "tableResultSettingsMap": {},
     "title": ""
    }
   },
   "outputs": [
    {
     "output_type": "display_data",
     "data": {
      "text/html": [
       "<style scoped>\n",
       "  .table-result-container {\n",
       "    max-height: 300px;\n",
       "    overflow: auto;\n",
       "  }\n",
       "  table, th, td {\n",
       "    border: 1px solid black;\n",
       "    border-collapse: collapse;\n",
       "  }\n",
       "  th, td {\n",
       "    padding: 5px;\n",
       "  }\n",
       "  th {\n",
       "    text-align: left;\n",
       "  }\n",
       "</style><div class='table-result-container'><table class='table-result'><thead style='background-color: white'><tr><th>contact_id</th><th>phone_mobile</th><th>phone_home</th></tr></thead><tbody><tr><td>1</td><td>9876543210</td><td>null</td></tr><tr><td>2</td><td>null</td><td>0401234567</td></tr><tr><td>3</td><td>null</td><td>null</td></tr><tr><td>4</td><td>null</td><td>080987654</td></tr><tr><td>5</td><td>987654321</td><td>null</td></tr><tr><td>6</td><td>6789654321</td><td>9887612345</td></tr></tbody></table></div>"
      ]
     },
     "metadata": {
      "application/vnd.databricks.v1+output": {
       "addedWidgets": {},
       "aggData": [],
       "aggError": "",
       "aggOverflow": false,
       "aggSchema": [],
       "aggSeriesLimitReached": false,
       "aggType": "",
       "arguments": {},
       "columnCustomDisplayInfos": {},
       "data": [
        [
         1,
         "9876543210",
         null
        ],
        [
         2,
         null,
         "0401234567"
        ],
        [
         3,
         null,
         null
        ],
        [
         4,
         null,
         "080987654"
        ],
        [
         5,
         "987654321",
         null
        ],
        [
         6,
         "6789654321",
         "9887612345"
        ]
       ],
       "datasetInfos": [],
       "dbfsResultPath": null,
       "isJsonSchema": true,
       "metadata": {
        "createTempViewForImplicitDf": true,
        "dataframeName": "_sqldf",
        "executionCount": 12
       },
       "overflow": false,
       "plotOptions": {
        "customPlotOptions": {},
        "displayType": "table",
        "pivotAggregation": null,
        "pivotColumns": null,
        "xColumns": null,
        "yColumns": null
       },
       "removedWidgets": [],
       "schema": [
        {
         "metadata": "{}",
         "name": "contact_id",
         "type": "\"integer\""
        },
        {
         "metadata": "{\"__CHAR_VARCHAR_TYPE_STRING\":\"varchar(15)\"}",
         "name": "phone_mobile",
         "type": "\"string\""
        },
        {
         "metadata": "{\"__CHAR_VARCHAR_TYPE_STRING\":\"varchar(15)\"}",
         "name": "phone_home",
         "type": "\"string\""
        }
       ],
       "type": "table"
      }
     },
     "output_type": "display_data"
    }
   ],
   "source": [
    "%sql\n",
    "DROP TABLE IF EXISTS tbl_concatenation_contacts;\n",
    "\n",
    "CREATE TABLE tbl_concatenation_contacts (\n",
    "    contact_id INT,\n",
    "    phone_mobile VARCHAR(15),\n",
    "    phone_home VARCHAR(15)\n",
    ");\n",
    "\n",
    "INSERT INTO tbl_concatenation_contacts\n",
    "VALUES\n",
    "(1, '9876543210', NULL),\n",
    "(2, NULL, '0401234567'),\n",
    "(3, NULL, NULL),\n",
    "(4, NULL, '080987654'),\n",
    "(5, '987654321', NULL),\n",
    "(6, '6789654321', '9887612345');\n",
    "\n",
    "SELECT * FROM tbl_concatenation_contacts;"
   ]
  },
  {
   "cell_type": "code",
   "execution_count": 0,
   "metadata": {
    "application/vnd.databricks.v1+cell": {
     "cellMetadata": {
      "byteLimit": 2048000,
      "implicitDf": true,
      "rowLimit": 10000
     },
     "inputWidgets": {},
     "nuid": "471129dc-d0d9-4733-aa85-fc123c404c1d",
     "showTitle": false,
     "tableResultSettingsMap": {},
     "title": ""
    }
   },
   "outputs": [
    {
     "output_type": "display_data",
     "data": {
      "text/html": [
       "<style scoped>\n",
       "  .table-result-container {\n",
       "    max-height: 300px;\n",
       "    overflow: auto;\n",
       "  }\n",
       "  table, th, td {\n",
       "    border: 1px solid black;\n",
       "    border-collapse: collapse;\n",
       "  }\n",
       "  th, td {\n",
       "    padding: 5px;\n",
       "  }\n",
       "  th {\n",
       "    text-align: left;\n",
       "  }\n",
       "</style><div class='table-result-container'><table class='table-result'><thead style='background-color: white'><tr><th>phone_mobile</th><th>phone_home</th><th>Phone_Mobile_Concatenation</th><th>Phone_Home_Concatenation</th><th>Comb_Phone_Mobile_Home</th></tr></thead><tbody><tr><td>9876543210</td><td>null</td><td>9876543210 (Mobile)</td><td>null</td><td>9876543210 (Mobile)</td></tr><tr><td>null</td><td>0401234567</td><td>null</td><td>0401234567 (Home)</td><td>0401234567 (Home)</td></tr><tr><td>null</td><td>null</td><td>null</td><td>null</td><td>No Phone</td></tr><tr><td>null</td><td>080987654</td><td>null</td><td>080987654 (Home)</td><td>080987654 (Home)</td></tr><tr><td>987654321</td><td>null</td><td>987654321 (Mobile)</td><td>null</td><td>987654321 (Mobile)</td></tr><tr><td>6789654321</td><td>9887612345</td><td>6789654321 (Mobile)</td><td>9887612345 (Home)</td><td>6789654321 (Mobile)</td></tr></tbody></table></div>"
      ]
     },
     "metadata": {
      "application/vnd.databricks.v1+output": {
       "addedWidgets": {},
       "aggData": [],
       "aggError": "",
       "aggOverflow": false,
       "aggSchema": [],
       "aggSeriesLimitReached": false,
       "aggType": "",
       "arguments": {},
       "columnCustomDisplayInfos": {},
       "data": [
        [
         "9876543210",
         null,
         "9876543210 (Mobile)",
         null,
         "9876543210 (Mobile)"
        ],
        [
         null,
         "0401234567",
         null,
         "0401234567 (Home)",
         "0401234567 (Home)"
        ],
        [
         null,
         null,
         null,
         null,
         "No Phone"
        ],
        [
         null,
         "080987654",
         null,
         "080987654 (Home)",
         "080987654 (Home)"
        ],
        [
         "987654321",
         null,
         "987654321 (Mobile)",
         null,
         "987654321 (Mobile)"
        ],
        [
         "6789654321",
         "9887612345",
         "6789654321 (Mobile)",
         "9887612345 (Home)",
         "6789654321 (Mobile)"
        ]
       ],
       "datasetInfos": [],
       "dbfsResultPath": null,
       "isJsonSchema": true,
       "metadata": {
        "createTempViewForImplicitDf": true,
        "dataframeName": "_sqldf",
        "executionCount": 15
       },
       "overflow": false,
       "plotOptions": {
        "customPlotOptions": {},
        "displayType": "table",
        "pivotAggregation": null,
        "pivotColumns": null,
        "xColumns": null,
        "yColumns": null
       },
       "removedWidgets": [],
       "schema": [
        {
         "metadata": "{\"__CHAR_VARCHAR_TYPE_STRING\":\"varchar(15)\"}",
         "name": "phone_mobile",
         "type": "\"string\""
        },
        {
         "metadata": "{\"__CHAR_VARCHAR_TYPE_STRING\":\"varchar(15)\"}",
         "name": "phone_home",
         "type": "\"string\""
        },
        {
         "metadata": "{}",
         "name": "Phone_Mobile_Concatenation",
         "type": "\"string\""
        },
        {
         "metadata": "{}",
         "name": "Phone_Home_Concatenation",
         "type": "\"string\""
        },
        {
         "metadata": "{}",
         "name": "Comb_Phone_Mobile_Home",
         "type": "\"string\""
        }
       ],
       "type": "table"
      }
     },
     "output_type": "display_data"
    }
   ],
   "source": [
    "%sql\n",
    "SELECT \n",
    "    phone_mobile, phone_home,\n",
    "    phone_mobile || ' (Mobile)' AS Phone_Mobile_Concatenation,\n",
    "    phone_home || ' (Home)' AS Phone_Home_Concatenation,\n",
    "    COALESCE(\n",
    "        phone_mobile || ' (Mobile)', \n",
    "        phone_home || ' (Home)',\n",
    "        'No Phone'\n",
    "    ) AS Comb_Phone_Mobile_Home\n",
    "FROM tbl_concatenation_contacts;"
   ]
  },
  {
   "cell_type": "markdown",
   "metadata": {
    "application/vnd.databricks.v1+cell": {
     "cellMetadata": {},
     "inputWidgets": {},
     "nuid": "a5d28b76-0c31-46ca-ba5f-ee8e4e3762f5",
     "showTitle": false,
     "tableResultSettingsMap": {},
     "title": ""
    }
   },
   "source": [
    "- If **phone_mobile** exists, **append ' (Mobile)'**.\n",
    "- If **not**, use **phone_home** with **' (Home)'**.\n",
    "- If **both are NULL**, show **'No Phone'**."
   ]
  },
  {
   "cell_type": "code",
   "execution_count": 0,
   "metadata": {
    "application/vnd.databricks.v1+cell": {
     "cellMetadata": {
      "byteLimit": 2048000,
      "implicitDf": true,
      "rowLimit": 10000
     },
     "inputWidgets": {},
     "nuid": "852f16b4-a211-414e-8465-e79dbc17f46a",
     "showTitle": false,
     "tableResultSettingsMap": {},
     "title": ""
    }
   },
   "outputs": [
    {
     "output_type": "display_data",
     "data": {
      "text/html": [
       "<style scoped>\n",
       "  .table-result-container {\n",
       "    max-height: 300px;\n",
       "    overflow: auto;\n",
       "  }\n",
       "  table, th, td {\n",
       "    border: 1px solid black;\n",
       "    border-collapse: collapse;\n",
       "  }\n",
       "  th, td {\n",
       "    padding: 5px;\n",
       "  }\n",
       "  th {\n",
       "    text-align: left;\n",
       "  }\n",
       "</style><div class='table-result-container'><table class='table-result'><thead style='background-color: white'><tr><th>contact_id</th><th>phone_mobile</th><th>Coalesce_Phone_Mobile</th><th>Concat_Phone_Mobile</th></tr></thead><tbody><tr><td>1</td><td>9876543210</td><td>9876543210</td><td>9876543210 Mobile</td></tr><tr><td>2</td><td>null</td><td></td><td> Mobile</td></tr><tr><td>3</td><td>null</td><td></td><td> Mobile</td></tr><tr><td>4</td><td>null</td><td></td><td> Mobile</td></tr><tr><td>5</td><td>987654321</td><td>987654321</td><td>987654321 Mobile</td></tr><tr><td>6</td><td>6789654321</td><td>6789654321</td><td>6789654321 Mobile</td></tr></tbody></table></div>"
      ]
     },
     "metadata": {
      "application/vnd.databricks.v1+output": {
       "addedWidgets": {},
       "aggData": [],
       "aggError": "",
       "aggOverflow": false,
       "aggSchema": [],
       "aggSeriesLimitReached": false,
       "aggType": "",
       "arguments": {},
       "columnCustomDisplayInfos": {},
       "data": [
        [
         1,
         "9876543210",
         "9876543210",
         "9876543210 Mobile"
        ],
        [
         2,
         null,
         "",
         " Mobile"
        ],
        [
         3,
         null,
         "",
         " Mobile"
        ],
        [
         4,
         null,
         "",
         " Mobile"
        ],
        [
         5,
         "987654321",
         "987654321",
         "987654321 Mobile"
        ],
        [
         6,
         "6789654321",
         "6789654321",
         "6789654321 Mobile"
        ]
       ],
       "datasetInfos": [],
       "dbfsResultPath": null,
       "isJsonSchema": true,
       "metadata": {
        "createTempViewForImplicitDf": true,
        "dataframeName": "_sqldf",
        "executionCount": 19
       },
       "overflow": false,
       "plotOptions": {
        "customPlotOptions": {},
        "displayType": "table",
        "pivotAggregation": null,
        "pivotColumns": null,
        "xColumns": null,
        "yColumns": null
       },
       "removedWidgets": [],
       "schema": [
        {
         "metadata": "{}",
         "name": "contact_id",
         "type": "\"integer\""
        },
        {
         "metadata": "{\"__CHAR_VARCHAR_TYPE_STRING\":\"varchar(15)\"}",
         "name": "phone_mobile",
         "type": "\"string\""
        },
        {
         "metadata": "{}",
         "name": "Coalesce_Phone_Mobile",
         "type": "\"string\""
        },
        {
         "metadata": "{}",
         "name": "Concat_Phone_Mobile",
         "type": "\"string\""
        }
       ],
       "type": "table"
      }
     },
     "output_type": "display_data"
    }
   ],
   "source": [
    "%sql\n",
    "SELECT contact_id, phone_mobile,\n",
    "       COALESCE(phone_mobile, '') AS Coalesce_Phone_Mobile,\n",
    "       COALESCE(phone_mobile, '') || ' Mobile' AS Concat_Phone_Mobile\n",
    "FROM tbl_concatenation_contacts;"
   ]
  },
  {
   "cell_type": "markdown",
   "metadata": {
    "application/vnd.databricks.v1+cell": {
     "cellMetadata": {},
     "inputWidgets": {},
     "nuid": "8e85a23d-9a5c-4bd2-a1ff-8888937c9910",
     "showTitle": false,
     "tableResultSettingsMap": {},
     "title": ""
    }
   },
   "source": [
    "- Labels a **mobile number** or shows just **' Mobile'** if **NULL**."
   ]
  },
  {
   "cell_type": "code",
   "execution_count": 0,
   "metadata": {
    "application/vnd.databricks.v1+cell": {
     "cellMetadata": {
      "byteLimit": 2048000,
      "implicitDf": true,
      "rowLimit": 10000
     },
     "inputWidgets": {},
     "nuid": "758878f5-ecca-408f-8270-8559271d7d84",
     "showTitle": false,
     "tableResultSettingsMap": {},
     "title": ""
    }
   },
   "outputs": [
    {
     "output_type": "display_data",
     "data": {
      "text/html": [
       "<style scoped>\n",
       "  .table-result-container {\n",
       "    max-height: 300px;\n",
       "    overflow: auto;\n",
       "  }\n",
       "  table, th, td {\n",
       "    border: 1px solid black;\n",
       "    border-collapse: collapse;\n",
       "  }\n",
       "  th, td {\n",
       "    padding: 5px;\n",
       "  }\n",
       "  th {\n",
       "    text-align: left;\n",
       "  }\n",
       "</style><div class='table-result-container'><table class='table-result'><thead style='background-color: white'><tr><th>phone_mobile</th><th>phone_home</th><th>Colaesce_Phone_Mobile</th><th>Colaesce_Phone_Home</th><th>Comb_Phone_Mobile_Home</th></tr></thead><tbody><tr><td>9876543210</td><td>null</td><td>9876543210</td><td></td><td>9876543210 / </td></tr><tr><td>null</td><td>0401234567</td><td></td><td>0401234567</td><td> / 0401234567</td></tr><tr><td>null</td><td>null</td><td></td><td></td><td> / </td></tr><tr><td>null</td><td>080987654</td><td></td><td>080987654</td><td> / 080987654</td></tr><tr><td>987654321</td><td>null</td><td>987654321</td><td></td><td>987654321 / </td></tr><tr><td>6789654321</td><td>9887612345</td><td>6789654321</td><td>9887612345</td><td>6789654321 / 9887612345</td></tr></tbody></table></div>"
      ]
     },
     "metadata": {
      "application/vnd.databricks.v1+output": {
       "addedWidgets": {},
       "aggData": [],
       "aggError": "",
       "aggOverflow": false,
       "aggSchema": [],
       "aggSeriesLimitReached": false,
       "aggType": "",
       "arguments": {},
       "columnCustomDisplayInfos": {},
       "data": [
        [
         "9876543210",
         null,
         "9876543210",
         "",
         "9876543210 / "
        ],
        [
         null,
         "0401234567",
         "",
         "0401234567",
         " / 0401234567"
        ],
        [
         null,
         null,
         "",
         "",
         " / "
        ],
        [
         null,
         "080987654",
         "",
         "080987654",
         " / 080987654"
        ],
        [
         "987654321",
         null,
         "987654321",
         "",
         "987654321 / "
        ],
        [
         "6789654321",
         "9887612345",
         "6789654321",
         "9887612345",
         "6789654321 / 9887612345"
        ]
       ],
       "datasetInfos": [],
       "dbfsResultPath": null,
       "isJsonSchema": true,
       "metadata": {
        "createTempViewForImplicitDf": true,
        "dataframeName": "_sqldf",
        "executionCount": 25
       },
       "overflow": false,
       "plotOptions": {
        "customPlotOptions": {},
        "displayType": "table",
        "pivotAggregation": null,
        "pivotColumns": null,
        "xColumns": null,
        "yColumns": null
       },
       "removedWidgets": [],
       "schema": [
        {
         "metadata": "{\"__CHAR_VARCHAR_TYPE_STRING\":\"varchar(15)\"}",
         "name": "phone_mobile",
         "type": "\"string\""
        },
        {
         "metadata": "{\"__CHAR_VARCHAR_TYPE_STRING\":\"varchar(15)\"}",
         "name": "phone_home",
         "type": "\"string\""
        },
        {
         "metadata": "{}",
         "name": "Colaesce_Phone_Mobile",
         "type": "\"string\""
        },
        {
         "metadata": "{}",
         "name": "Colaesce_Phone_Home",
         "type": "\"string\""
        },
        {
         "metadata": "{}",
         "name": "Comb_Phone_Mobile_Home",
         "type": "\"string\""
        }
       ],
       "type": "table"
      }
     },
     "output_type": "display_data"
    }
   ],
   "source": [
    "%sql\n",
    "SELECT phone_mobile, phone_home,\n",
    "       COALESCE(phone_mobile, '') AS Colaesce_Phone_Mobile,\n",
    "       COALESCE(phone_home, '') AS Colaesce_Phone_Home,\n",
    "       COALESCE(phone_mobile, '') || ' / ' || COALESCE(phone_home, '') AS Comb_Phone_Mobile_Home\n",
    "FROM tbl_concatenation_contacts;"
   ]
  }
 ],
 "metadata": {
  "application/vnd.databricks.v1+notebook": {
   "computePreferences": null,
   "dashboards": [],
   "environmentMetadata": {
    "base_environment": "",
    "environment_version": "1"
   },
   "inputWidgetPreferences": null,
   "language": "python",
   "notebookMetadata": {
    "mostRecentlyExecutedCommandWithImplicitDF": {
     "commandId": 1038907214207775,
     "dataframes": [
      "_sqldf"
     ]
    },
    "pythonIndentUnit": 4
   },
   "notebookName": "14_How to handle NULL values in SQL ? | SQL COALESCE Function with Concatenation",
   "widgets": {}
  }
 },
 "nbformat": 4,
 "nbformat_minor": 0
}