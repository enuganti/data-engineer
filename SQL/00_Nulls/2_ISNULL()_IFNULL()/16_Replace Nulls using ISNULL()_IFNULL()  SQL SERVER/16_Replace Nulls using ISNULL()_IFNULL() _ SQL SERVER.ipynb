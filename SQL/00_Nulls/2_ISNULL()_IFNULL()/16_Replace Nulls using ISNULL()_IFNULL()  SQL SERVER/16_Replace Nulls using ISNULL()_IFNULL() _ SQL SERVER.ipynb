{
 "cells": [
  {
   "cell_type": "markdown",
   "metadata": {
    "application/vnd.databricks.v1+cell": {
     "cellMetadata": {},
     "inputWidgets": {},
     "nuid": "c06344af-b38a-478d-b1d4-fc57ed38f05e",
     "showTitle": false,
     "tableResultSettingsMap": {},
     "title": ""
    }
   },
   "source": [
    "#### ISNULL() / IFNULL()\n",
    "\n",
    "- The ISNULL() function in SQL Server **replaces NULL values** with a **specified replacement value**.\n",
    "- used to **replace NULL values** with a **specified replacement value**.\n",
    "- The ISNULL() function is used to **return a specified value** if the expression is **NULL**, otherwise it returns the **expression** itself."
   ]
  },
  {
   "cell_type": "markdown",
   "metadata": {
    "application/vnd.databricks.v1+cell": {
     "cellMetadata": {},
     "inputWidgets": {},
     "nuid": "7acadb3b-fe87-4392-b5c9-41f565a5e985",
     "showTitle": false,
     "tableResultSettingsMap": {},
     "title": ""
    }
   },
   "source": [
    "- **IFNULL()** is a **MySQL** function (similar to **ISNULL() in SQL Server**).\n",
    "\n",
    "**SQL Server:**\n",
    "- isnull\n",
    "- coalesce\n",
    "\n",
    "**MySQL:**\n",
    "- iFnull\n",
    "- coalesce\n",
    "\n",
    "**Oracle:**\n",
    "- nvl\n",
    "- coalesce"
   ]
  },
  {
   "cell_type": "markdown",
   "metadata": {
    "application/vnd.databricks.v1+cell": {
     "cellMetadata": {},
     "inputWidgets": {},
     "nuid": "6ed35017-7e21-467e-9e2c-6dfe9ba27658",
     "showTitle": false,
     "tableResultSettingsMap": {},
     "title": ""
    }
   },
   "source": [
    "     SELECT IFNULL(Status, 'Finished') AS Status\n",
    "     FROM tbl_NonNull_Nulls_Blank; \n",
    "                  (or)\n",
    "     SELECT COALESCE(Status, 'Finished') AS Status\n",
    "     FROM tbl_NonNull_Nulls_Blank;\n",
    "\n",
    "❌ Avoid in Spark SQL:\n",
    "\n",
    "     ISNULL(Status, 'Finished')  -- ❌ This is for SQL Server, not Spark"
   ]
  },
  {
   "cell_type": "markdown",
   "metadata": {
    "application/vnd.databricks.v1+cell": {
     "cellMetadata": {},
     "inputWidgets": {},
     "nuid": "da95fe55-c008-4509-9fbd-e0c3bacbc1fc",
     "showTitle": false,
     "tableResultSettingsMap": {},
     "title": ""
    }
   },
   "source": [
    "#### Syntax\n",
    "\n",
    "     ISNULL(expression, replacement_value)\n",
    "\n",
    "- **expression:** The value/column to check for **NULL**.\n",
    "- **replacement_value:** Value to return if **expression is NULL**.\n"
   ]
  },
  {
   "cell_type": "code",
   "execution_count": 0,
   "metadata": {
    "application/vnd.databricks.v1+cell": {
     "cellMetadata": {
      "byteLimit": 2048000,
      "implicitDf": true,
      "rowLimit": 10000
     },
     "inputWidgets": {},
     "nuid": "aa9a14e5-8e1e-4726-83cb-a11b86c18191",
     "showTitle": false,
     "tableResultSettingsMap": {},
     "title": ""
    }
   },
   "outputs": [
    {
     "output_type": "display_data",
     "data": {
      "text/html": [
       "<style scoped>\n",
       "  .table-result-container {\n",
       "    max-height: 300px;\n",
       "    overflow: auto;\n",
       "  }\n",
       "  table, th, td {\n",
       "    border: 1px solid black;\n",
       "    border-collapse: collapse;\n",
       "  }\n",
       "  th, td {\n",
       "    padding: 5px;\n",
       "  }\n",
       "  th {\n",
       "    text-align: left;\n",
       "  }\n",
       "</style><div class='table-result-container'><table class='table-result'><thead style='background-color: white'><tr><th>IFNULL(NULL,'Database Engineer')</th></tr></thead><tbody><tr><td>Database Engineer</td></tr></tbody></table></div>"
      ]
     },
     "metadata": {
      "application/vnd.databricks.v1+output": {
       "addedWidgets": {},
       "aggData": [],
       "aggError": "",
       "aggOverflow": false,
       "aggSchema": [],
       "aggSeriesLimitReached": false,
       "aggType": "",
       "arguments": {},
       "columnCustomDisplayInfos": {},
       "data": [
        [
         "Database Engineer"
        ]
       ],
       "datasetInfos": [
        {
         "name": "_sqldf",
         "schema": {
          "fields": [
           {
            "metadata": {},
            "name": "IFNULL(NULL,'Database Engineer')",
            "nullable": false,
            "type": "string"
           }
          ],
          "type": "struct"
         },
         "tableIdentifier": null,
         "typeStr": "pyspark.sql.connect.dataframe.DataFrame"
        }
       ],
       "dbfsResultPath": null,
       "isJsonSchema": true,
       "metadata": {
        "createTempViewForImplicitDf": true,
        "dataframeName": "_sqldf",
        "executionCount": 5
       },
       "overflow": false,
       "plotOptions": {
        "customPlotOptions": {},
        "displayType": "table",
        "pivotAggregation": null,
        "pivotColumns": null,
        "xColumns": null,
        "yColumns": null
       },
       "removedWidgets": [],
       "schema": [
        {
         "metadata": "{}",
         "name": "IFNULL(NULL,'Database Engineer')",
         "type": "\"string\""
        }
       ],
       "type": "table"
      }
     },
     "output_type": "display_data"
    }
   ],
   "source": [
    "%sql\n",
    "SELECT IFNULL(NULL, 'Database Engineer');"
   ]
  },
  {
   "cell_type": "code",
   "execution_count": 0,
   "metadata": {
    "application/vnd.databricks.v1+cell": {
     "cellMetadata": {
      "byteLimit": 2048000,
      "implicitDf": true,
      "rowLimit": 10000
     },
     "inputWidgets": {},
     "nuid": "6b8655e7-fe75-4354-a7a4-67b38716beb1",
     "showTitle": false,
     "tableResultSettingsMap": {},
     "title": ""
    }
   },
   "outputs": [
    {
     "output_type": "display_data",
     "data": {
      "text/html": [
       "<style scoped>\n",
       "  .table-result-container {\n",
       "    max-height: 300px;\n",
       "    overflow: auto;\n",
       "  }\n",
       "  table, th, td {\n",
       "    border: 1px solid black;\n",
       "    border-collapse: collapse;\n",
       "  }\n",
       "  th, td {\n",
       "    padding: 5px;\n",
       "  }\n",
       "  th {\n",
       "    text-align: left;\n",
       "  }\n",
       "</style><div class='table-result-container'><table class='table-result'><thead style='background-color: white'><tr><th>Name</th></tr></thead><tbody><tr><td>Hello</td></tr></tbody></table></div>"
      ]
     },
     "metadata": {
      "application/vnd.databricks.v1+output": {
       "addedWidgets": {},
       "aggData": [],
       "aggError": "",
       "aggOverflow": false,
       "aggSchema": [],
       "aggSeriesLimitReached": false,
       "aggType": "",
       "arguments": {},
       "columnCustomDisplayInfos": {},
       "data": [
        [
         "Hello"
        ]
       ],
       "datasetInfos": [
        {
         "name": "_sqldf",
         "schema": {
          "fields": [
           {
            "metadata": {},
            "name": "Name",
            "nullable": false,
            "type": "string"
           }
          ],
          "type": "struct"
         },
         "tableIdentifier": null,
         "typeStr": "pyspark.sql.connect.dataframe.DataFrame"
        }
       ],
       "dbfsResultPath": null,
       "isJsonSchema": true,
       "metadata": {
        "createTempViewForImplicitDf": true,
        "dataframeName": "_sqldf",
        "executionCount": 9
       },
       "overflow": false,
       "plotOptions": {
        "customPlotOptions": {},
        "displayType": "table",
        "pivotAggregation": null,
        "pivotColumns": null,
        "xColumns": null,
        "yColumns": null
       },
       "removedWidgets": [],
       "schema": [
        {
         "metadata": "{}",
         "name": "Name",
         "type": "\"string\""
        }
       ],
       "type": "table"
      }
     },
     "output_type": "display_data"
    }
   ],
   "source": [
    "%sql\n",
    "SELECT IFNULL('Hello', 'Database Engineer') AS Name;"
   ]
  },
  {
   "cell_type": "code",
   "execution_count": 0,
   "metadata": {
    "application/vnd.databricks.v1+cell": {
     "cellMetadata": {
      "byteLimit": 2048000,
      "implicitDf": true,
      "rowLimit": 10000
     },
     "inputWidgets": {},
     "nuid": "1d6056b4-7471-4969-8f82-1bf92d13ab34",
     "showTitle": false,
     "tableResultSettingsMap": {},
     "title": ""
    }
   },
   "outputs": [
    {
     "output_type": "display_data",
     "data": {
      "text/html": [
       "<style scoped>\n",
       "  .table-result-container {\n",
       "    max-height: 300px;\n",
       "    overflow: auto;\n",
       "  }\n",
       "  table, th, td {\n",
       "    border: 1px solid black;\n",
       "    border-collapse: collapse;\n",
       "  }\n",
       "  th, td {\n",
       "    padding: 5px;\n",
       "  }\n",
       "  th {\n",
       "    text-align: left;\n",
       "  }\n",
       "</style><div class='table-result-container'><table class='table-result'><thead style='background-color: white'><tr><th>OBJECT_ID</th><th>Name</th><th>Department</th><th>Salary</th><th>Bonus</th><th>Remarks</th><th>ContactPhone</th><th>Status</th><th>description</th><th>weight</th><th>Feedback</th></tr></thead><tbody><tr><td>583069</td><td>Harish</td><td>Admin</td><td>50000.00</td><td>null</td><td>Good Attendance</td><td>null</td><td>null</td><td>E-Mail</td><td>100</td><td>Regular</td></tr><tr><td>510102</td><td></td><td>HR</td><td>45000.00</td><td>5000.00</td><td>Regular Attendance and studious</td><td>null</td><td>Finished</td><td>Internet</td><td>200</td><td>null</td></tr><tr><td>506654</td><td>Basha</td><td></td><td>60000.00</td><td>0.00</td><td></td><td>9876543210</td><td>Not Relevant</td><td>Social Media</td><td>null</td><td></td></tr><tr><td>583195</td><td>null</td><td>IT</td><td>52000.00</td><td>4000.00</td><td>null</td><td>null</td><td>Started</td><td>Messaging</td><td>10</td><td>Good</td></tr><tr><td>470450</td><td>Venky</td><td>SALES</td><td>50000.00</td><td>null</td><td>Good Attendance</td><td>null</td><td>Not Relevant</td><td>IoT</td><td>50</td><td></td></tr><tr><td>558253</td><td></td><td>HR</td><td>45000.00</td><td>5000.00</td><td>Regular Attendance and studious</td><td>null</td><td>Open</td><td>null</td><td>75</td><td>null</td></tr><tr><td>null</td><td>Krishna</td><td>null</td><td>60000.00</td><td>null</td><td>After markets</td><td>9876543210</td><td>null</td><td>Manual data entry</td><td>null</td><td>Regular</td></tr><tr><td>583181</td><td>Kiran</td><td>IT</td><td>52000.00</td><td>4000.00</td><td>null</td><td>null</td><td>Finished</td><td>Other</td><td>null</td><td>Medium</td></tr><tr><td>583119</td><td>Hitesh</td><td>Finance</td><td>60000.00</td><td>null</td><td></td><td>9876543210</td><td>null</td><td>Telephony</td><td>300</td><td>Average</td></tr><tr><td>577519</td><td></td><td>null</td><td>52000.00</td><td>4000.00</td><td>null</td><td>null</td><td>Not Relevant</td><td>null</td><td>500</td><td>Good</td></tr><tr><td>583151</td><td>Sushma</td><td>Accounts</td><td>52000.00</td><td>4000.00</td><td>Explained in detail</td><td>null</td><td>Open</td><td>Fax</td><td>null</td><td></td></tr><tr><td>583167</td><td>null</td><td>null</td><td>52000.00</td><td>0.00</td><td></td><td>null</td><td>Not Relevant</td><td>Feedback</td><td>250</td><td>Regular</td></tr><tr><td>583162</td><td>Buvan</td><td>null</td><td>52000.00</td><td>4000.00</td><td>null</td><td>null</td><td>null</td><td>WorkZone</td><td>350</td><td>null</td></tr><tr><td>575216</td><td>Mohan</td><td>Hardware</td><td>52000.00</td><td>4000.00</td><td>Nice Explanation</td><td>null</td><td>Open</td><td>IOT</td><td>null</td><td></td></tr><tr><td>null</td><td>null</td><td>null</td><td>52000.00</td><td>0.00</td><td></td><td>null</td><td>Finished</td><td>null</td><td>1000</td><td>Average</td></tr><tr><td>583173</td><td>Lohith</td><td></td><td>52000.00</td><td>4000.00</td><td>null</td><td>null</td><td>Finished</td><td>null</td><td>550</td><td>Good</td></tr><tr><td>583099</td><td>Loba</td><td>Maintenance</td><td>52000.00</td><td>0.00</td><td></td><td>null</td><td>Started</td><td>null</td><td>650</td><td>Excellent</td></tr></tbody></table></div>"
      ]
     },
     "metadata": {
      "application/vnd.databricks.v1+output": {
       "addedWidgets": {},
       "aggData": [],
       "aggError": "",
       "aggOverflow": false,
       "aggSchema": [],
       "aggSeriesLimitReached": false,
       "aggType": "",
       "arguments": {},
       "columnCustomDisplayInfos": {},
       "data": [
        [
         583069,
         "Harish",
         "Admin",
         "50000.00",
         null,
         "Good Attendance",
         null,
         null,
         "E-Mail",
         100,
         "Regular"
        ],
        [
         510102,
         "",
         "HR",
         "45000.00",
         "5000.00",
         "Regular Attendance and studious",
         null,
         "Finished",
         "Internet",
         200,
         null
        ],
        [
         506654,
         "Basha",
         "",
         "60000.00",
         "0.00",
         "",
         "9876543210",
         "Not Relevant",
         "Social Media",
         null,
         ""
        ],
        [
         583195,
         null,
         "IT",
         "52000.00",
         "4000.00",
         null,
         null,
         "Started",
         "Messaging",
         10,
         "Good"
        ],
        [
         470450,
         "Venky",
         "SALES",
         "50000.00",
         null,
         "Good Attendance",
         null,
         "Not Relevant",
         "IoT",
         50,
         ""
        ],
        [
         558253,
         "",
         "HR",
         "45000.00",
         "5000.00",
         "Regular Attendance and studious",
         null,
         "Open",
         null,
         75,
         null
        ],
        [
         null,
         "Krishna",
         null,
         "60000.00",
         null,
         "After markets",
         "9876543210",
         null,
         "Manual data entry",
         null,
         "Regular"
        ],
        [
         583181,
         "Kiran",
         "IT",
         "52000.00",
         "4000.00",
         null,
         null,
         "Finished",
         "Other",
         null,
         "Medium"
        ],
        [
         583119,
         "Hitesh",
         "Finance",
         "60000.00",
         null,
         "",
         "9876543210",
         null,
         "Telephony",
         300,
         "Average"
        ],
        [
         577519,
         "",
         null,
         "52000.00",
         "4000.00",
         null,
         null,
         "Not Relevant",
         null,
         500,
         "Good"
        ],
        [
         583151,
         "Sushma",
         "Accounts",
         "52000.00",
         "4000.00",
         "Explained in detail",
         null,
         "Open",
         "Fax",
         null,
         ""
        ],
        [
         583167,
         null,
         null,
         "52000.00",
         "0.00",
         "",
         null,
         "Not Relevant",
         "Feedback",
         250,
         "Regular"
        ],
        [
         583162,
         "Buvan",
         null,
         "52000.00",
         "4000.00",
         null,
         null,
         null,
         "WorkZone",
         350,
         null
        ],
        [
         575216,
         "Mohan",
         "Hardware",
         "52000.00",
         "4000.00",
         "Nice Explanation",
         null,
         "Open",
         "IOT",
         null,
         ""
        ],
        [
         null,
         null,
         null,
         "52000.00",
         "0.00",
         "",
         null,
         "Finished",
         null,
         1000,
         "Average"
        ],
        [
         583173,
         "Lohith",
         "",
         "52000.00",
         "4000.00",
         null,
         null,
         "Finished",
         null,
         550,
         "Good"
        ],
        [
         583099,
         "Loba",
         "Maintenance",
         "52000.00",
         "0.00",
         "",
         null,
         "Started",
         null,
         650,
         "Excellent"
        ]
       ],
       "datasetInfos": [
        {
         "name": "_sqldf",
         "schema": {
          "fields": [
           {
            "metadata": {},
            "name": "OBJECT_ID",
            "nullable": true,
            "type": "integer"
           },
           {
            "metadata": {
             "__CHAR_VARCHAR_TYPE_STRING": "varchar(50)"
            },
            "name": "Name",
            "nullable": true,
            "type": "string"
           },
           {
            "metadata": {
             "__CHAR_VARCHAR_TYPE_STRING": "varchar(30)"
            },
            "name": "Department",
            "nullable": true,
            "type": "string"
           },
           {
            "metadata": {},
            "name": "Salary",
            "nullable": true,
            "type": "decimal(10,2)"
           },
           {
            "metadata": {},
            "name": "Bonus",
            "nullable": true,
            "type": "decimal(10,2)"
           },
           {
            "metadata": {
             "__CHAR_VARCHAR_TYPE_STRING": "varchar(100)"
            },
            "name": "Remarks",
            "nullable": true,
            "type": "string"
           },
           {
            "metadata": {
             "__CHAR_VARCHAR_TYPE_STRING": "varchar(15)"
            },
            "name": "ContactPhone",
            "nullable": true,
            "type": "string"
           },
           {
            "metadata": {
             "__CHAR_VARCHAR_TYPE_STRING": "varchar(15)"
            },
            "name": "Status",
            "nullable": true,
            "type": "string"
           },
           {
            "metadata": {
             "__CHAR_VARCHAR_TYPE_STRING": "varchar(20)"
            },
            "name": "description",
            "nullable": true,
            "type": "string"
           },
           {
            "metadata": {},
            "name": "weight",
            "nullable": true,
            "type": "integer"
           },
           {
            "metadata": {
             "__CHAR_VARCHAR_TYPE_STRING": "varchar(20)"
            },
            "name": "Feedback",
            "nullable": true,
            "type": "string"
           }
          ],
          "type": "struct"
         },
         "tableIdentifier": null,
         "typeStr": "pyspark.sql.connect.dataframe.DataFrame"
        }
       ],
       "dbfsResultPath": null,
       "isJsonSchema": true,
       "metadata": {
        "createTempViewForImplicitDf": true,
        "dataframeName": "_sqldf",
        "executionCount": 13
       },
       "overflow": false,
       "plotOptions": {
        "customPlotOptions": {},
        "displayType": "table",
        "pivotAggregation": null,
        "pivotColumns": null,
        "xColumns": null,
        "yColumns": null
       },
       "removedWidgets": [],
       "schema": [
        {
         "metadata": "{}",
         "name": "OBJECT_ID",
         "type": "\"integer\""
        },
        {
         "metadata": "{\"__CHAR_VARCHAR_TYPE_STRING\": \"varchar(50)\"}",
         "name": "Name",
         "type": "\"string\""
        },
        {
         "metadata": "{\"__CHAR_VARCHAR_TYPE_STRING\": \"varchar(30)\"}",
         "name": "Department",
         "type": "\"string\""
        },
        {
         "metadata": "{}",
         "name": "Salary",
         "type": "\"decimal(10,2)\""
        },
        {
         "metadata": "{}",
         "name": "Bonus",
         "type": "\"decimal(10,2)\""
        },
        {
         "metadata": "{\"__CHAR_VARCHAR_TYPE_STRING\": \"varchar(100)\"}",
         "name": "Remarks",
         "type": "\"string\""
        },
        {
         "metadata": "{\"__CHAR_VARCHAR_TYPE_STRING\": \"varchar(15)\"}",
         "name": "ContactPhone",
         "type": "\"string\""
        },
        {
         "metadata": "{\"__CHAR_VARCHAR_TYPE_STRING\": \"varchar(15)\"}",
         "name": "Status",
         "type": "\"string\""
        },
        {
         "metadata": "{\"__CHAR_VARCHAR_TYPE_STRING\": \"varchar(20)\"}",
         "name": "description",
         "type": "\"string\""
        },
        {
         "metadata": "{}",
         "name": "weight",
         "type": "\"integer\""
        },
        {
         "metadata": "{\"__CHAR_VARCHAR_TYPE_STRING\": \"varchar(20)\"}",
         "name": "Feedback",
         "type": "\"string\""
        }
       ],
       "type": "table"
      }
     },
     "output_type": "display_data"
    }
   ],
   "source": [
    "%sql\n",
    "DROP TABLE IF EXISTS tblEmployeesIsNull;\n",
    "CREATE TABLE tblEmployeesIsNull (\n",
    "    OBJECT_ID INT,\n",
    "    Name VARCHAR(50),\n",
    "    Department VARCHAR(30),\n",
    "    Salary DECIMAL(10,2),\n",
    "    Bonus DECIMAL(10,2),\n",
    "    Remarks VARCHAR(100),\n",
    "    ContactPhone VARCHAR(15),\n",
    "    Status VARCHAR(15),\n",
    "    description VARCHAR(20),\n",
    "    weight int,\n",
    "    Feedback VARCHAR(20)\n",
    ");\n",
    "\n",
    "-- Insert sample data\n",
    "INSERT INTO tblEmployeesIsNull VALUES\n",
    "(583069, 'Harish', 'Admin', 50000, NULL, 'Good Attendance', NULL, NULL, 'E-Mail', 100, 'Regular'),\n",
    "(510102, \"\", 'HR', 45000, 5000, 'Regular Attendance and studious', NULL, 'Finished', 'Internet', 200, NULL),\n",
    "(506654, \"Basha\", \"\", 60000, 0, '', '9876543210', 'Not Relevant', 'Social Media', NULL, ''),\n",
    "(583195, NULL, 'IT', 52000, 4000, NULL, NULL, 'Started', 'Messaging', 10, 'Good'),\n",
    "(470450, \"Venky\", 'SALES', 50000, NULL, 'Good Attendance', NULL, 'Not Relevant', 'IoT', 50, ''),\n",
    "(558253, \"\", 'HR', 45000, 5000, 'Regular Attendance and studious', NULL, 'Open', NULL, 75, NULL),\n",
    "(NULL, \"Krishna\", NULL, 60000, NULL, 'After markets', '9876543210', NULL, 'Manual data entry', NULL, 'Regular'),\n",
    "(583181, \"Kiran\", 'IT', 52000, 4000, NULL, NULL, 'Finished', 'Other', NULL, 'Medium'),\n",
    "(583119, \"Hitesh\", 'Finance', 60000, NULL, '', '9876543210', NULL, 'Telephony', 300, 'Average'),\n",
    "(577519, \"\", NULL, 52000, 4000, NULL, NULL, 'Not Relevant', NULL, 500, 'Good'),\n",
    "(583151, \"Sushma\", 'Accounts', 52000, 4000, 'Explained in detail', NULL, 'Open', 'Fax', NULL, ''),\n",
    "(583167, NULL, NULL, 52000, 0, '', NULL, 'Not Relevant', 'Feedback', 250, 'Regular'),\n",
    "(583162, \"Buvan\", NULL, 52000, 4000, NULL, NULL, NULL, 'WorkZone', 350, NULL),\n",
    "(575216, \"Mohan\", 'Hardware', 52000, 4000, 'Nice Explanation', NULL, 'Open', 'IOT', NULL, ''),\n",
    "(NULL, NULL, NULL, 52000, 0, '', NULL, 'Finished', NULL, 1000, 'Average'),\n",
    "(583173, \"Lohith\", \"\", 52000, 4000, NULL, NULL, 'Finished', NULL, 550, 'Good'),\n",
    "(583099, \"Loba\", 'Maintenance', 52000, 0, '', NULL, 'Started', NULL, 650, 'Excellent');\n",
    "\n",
    "SELECT * FROM tblEmployeesIsNull;"
   ]
  },
  {
   "cell_type": "markdown",
   "metadata": {
    "application/vnd.databricks.v1+cell": {
     "cellMetadata": {},
     "inputWidgets": {},
     "nuid": "3c19eec3-2cc9-42eb-bad8-49a97dd0d412",
     "showTitle": false,
     "tableResultSettingsMap": {},
     "title": ""
    }
   },
   "source": [
    "##### 1) Replace NULL Values with Default\n",
    "- **Replaces NULL** in Bonus column with **0**."
   ]
  },
  {
   "cell_type": "code",
   "execution_count": 0,
   "metadata": {
    "application/vnd.databricks.v1+cell": {
     "cellMetadata": {
      "byteLimit": 2048000,
      "implicitDf": true,
      "rowLimit": 10000
     },
     "inputWidgets": {},
     "nuid": "1718b2cf-c79e-44ac-9ae9-bd9b68950249",
     "showTitle": false,
     "tableResultSettingsMap": {},
     "title": ""
    }
   },
   "outputs": [
    {
     "output_type": "display_data",
     "data": {
      "text/html": [
       "<style scoped>\n",
       "  .table-result-container {\n",
       "    max-height: 300px;\n",
       "    overflow: auto;\n",
       "  }\n",
       "  table, th, td {\n",
       "    border: 1px solid black;\n",
       "    border-collapse: collapse;\n",
       "  }\n",
       "  th, td {\n",
       "    padding: 5px;\n",
       "  }\n",
       "  th {\n",
       "    text-align: left;\n",
       "  }\n",
       "</style><div class='table-result-container'><table class='table-result'><thead style='background-color: white'><tr><th>OBJECT_ID</th><th>Name</th><th>Department</th><th>Bonus</th></tr></thead><tbody><tr><td>583069</td><td>Harish</td><td>Admin</td><td>0.00</td></tr><tr><td>510102</td><td></td><td>HR</td><td>5000.00</td></tr><tr><td>506654</td><td>Basha</td><td></td><td>0.00</td></tr><tr><td>583195</td><td>null</td><td>IT</td><td>4000.00</td></tr><tr><td>470450</td><td>Venky</td><td>SALES</td><td>0.00</td></tr><tr><td>558253</td><td></td><td>HR</td><td>5000.00</td></tr><tr><td>null</td><td>Krishna</td><td>null</td><td>0.00</td></tr><tr><td>583181</td><td>Kiran</td><td>IT</td><td>4000.00</td></tr><tr><td>583119</td><td>Hitesh</td><td>Finance</td><td>0.00</td></tr><tr><td>577519</td><td></td><td>null</td><td>4000.00</td></tr><tr><td>583151</td><td>Sushma</td><td>Accounts</td><td>4000.00</td></tr><tr><td>583167</td><td>null</td><td>null</td><td>0.00</td></tr><tr><td>583162</td><td>Buvan</td><td>null</td><td>4000.00</td></tr><tr><td>575216</td><td>Mohan</td><td>Hardware</td><td>4000.00</td></tr><tr><td>null</td><td>null</td><td>null</td><td>0.00</td></tr><tr><td>583173</td><td>Lohith</td><td></td><td>4000.00</td></tr><tr><td>583099</td><td>Loba</td><td>Maintenance</td><td>0.00</td></tr></tbody></table></div>"
      ]
     },
     "metadata": {
      "application/vnd.databricks.v1+output": {
       "addedWidgets": {},
       "aggData": [],
       "aggError": "",
       "aggOverflow": false,
       "aggSchema": [],
       "aggSeriesLimitReached": false,
       "aggType": "",
       "arguments": {},
       "columnCustomDisplayInfos": {},
       "data": [
        [
         583069,
         "Harish",
         "Admin",
         "0.00"
        ],
        [
         510102,
         "",
         "HR",
         "5000.00"
        ],
        [
         506654,
         "Basha",
         "",
         "0.00"
        ],
        [
         583195,
         null,
         "IT",
         "4000.00"
        ],
        [
         470450,
         "Venky",
         "SALES",
         "0.00"
        ],
        [
         558253,
         "",
         "HR",
         "5000.00"
        ],
        [
         null,
         "Krishna",
         null,
         "0.00"
        ],
        [
         583181,
         "Kiran",
         "IT",
         "4000.00"
        ],
        [
         583119,
         "Hitesh",
         "Finance",
         "0.00"
        ],
        [
         577519,
         "",
         null,
         "4000.00"
        ],
        [
         583151,
         "Sushma",
         "Accounts",
         "4000.00"
        ],
        [
         583167,
         null,
         null,
         "0.00"
        ],
        [
         583162,
         "Buvan",
         null,
         "4000.00"
        ],
        [
         575216,
         "Mohan",
         "Hardware",
         "4000.00"
        ],
        [
         null,
         null,
         null,
         "0.00"
        ],
        [
         583173,
         "Lohith",
         "",
         "4000.00"
        ],
        [
         583099,
         "Loba",
         "Maintenance",
         "0.00"
        ]
       ],
       "datasetInfos": [
        {
         "name": "_sqldf",
         "schema": {
          "fields": [
           {
            "metadata": {},
            "name": "OBJECT_ID",
            "nullable": true,
            "type": "integer"
           },
           {
            "metadata": {
             "__CHAR_VARCHAR_TYPE_STRING": "varchar(50)"
            },
            "name": "Name",
            "nullable": true,
            "type": "string"
           },
           {
            "metadata": {
             "__CHAR_VARCHAR_TYPE_STRING": "varchar(30)"
            },
            "name": "Department",
            "nullable": true,
            "type": "string"
           },
           {
            "metadata": {},
            "name": "Bonus",
            "nullable": false,
            "type": "decimal(12,2)"
           }
          ],
          "type": "struct"
         },
         "tableIdentifier": null,
         "typeStr": "pyspark.sql.connect.dataframe.DataFrame"
        }
       ],
       "dbfsResultPath": null,
       "isJsonSchema": true,
       "metadata": {
        "createTempViewForImplicitDf": true,
        "dataframeName": "_sqldf",
        "executionCount": 26
       },
       "overflow": false,
       "plotOptions": {
        "customPlotOptions": {},
        "displayType": "table",
        "pivotAggregation": null,
        "pivotColumns": null,
        "xColumns": null,
        "yColumns": null
       },
       "removedWidgets": [],
       "schema": [
        {
         "metadata": "{}",
         "name": "OBJECT_ID",
         "type": "\"integer\""
        },
        {
         "metadata": "{\"__CHAR_VARCHAR_TYPE_STRING\": \"varchar(50)\"}",
         "name": "Name",
         "type": "\"string\""
        },
        {
         "metadata": "{\"__CHAR_VARCHAR_TYPE_STRING\": \"varchar(30)\"}",
         "name": "Department",
         "type": "\"string\""
        },
        {
         "metadata": "{}",
         "name": "Bonus",
         "type": "\"decimal(12,2)\""
        }
       ],
       "type": "table"
      }
     },
     "output_type": "display_data"
    }
   ],
   "source": [
    "%sql\n",
    "SELECT OBJECT_ID, Name, Department,\n",
    "       IFNULL(Bonus, 0) AS Bonus\n",
    "FROM tblEmployeesIsNull;"
   ]
  },
  {
   "cell_type": "markdown",
   "metadata": {
    "application/vnd.databricks.v1+cell": {
     "cellMetadata": {},
     "inputWidgets": {},
     "nuid": "8eb11437-4693-4cb4-af5c-3c983a11c86a",
     "showTitle": false,
     "tableResultSettingsMap": {},
     "title": ""
    }
   },
   "source": [
    "##### 2) Replace NULL with Text\n",
    "- Shows **Not Assigned** if Department is **NULL**."
   ]
  },
  {
   "cell_type": "code",
   "execution_count": 0,
   "metadata": {
    "application/vnd.databricks.v1+cell": {
     "cellMetadata": {
      "byteLimit": 2048000,
      "implicitDf": true,
      "rowLimit": 10000
     },
     "inputWidgets": {},
     "nuid": "f44af927-bef8-4873-a528-9dd32ad885a8",
     "showTitle": false,
     "tableResultSettingsMap": {},
     "title": ""
    }
   },
   "outputs": [
    {
     "output_type": "display_data",
     "data": {
      "text/html": [
       "<style scoped>\n",
       "  .table-result-container {\n",
       "    max-height: 300px;\n",
       "    overflow: auto;\n",
       "  }\n",
       "  table, th, td {\n",
       "    border: 1px solid black;\n",
       "    border-collapse: collapse;\n",
       "  }\n",
       "  th, td {\n",
       "    padding: 5px;\n",
       "  }\n",
       "  th {\n",
       "    text-align: left;\n",
       "  }\n",
       "</style><div class='table-result-container'><table class='table-result'><thead style='background-color: white'><tr><th>OBJECT_ID</th><th>Name</th><th>Department</th></tr></thead><tbody><tr><td>583069</td><td>Harish</td><td>Admin</td></tr><tr><td>510102</td><td></td><td>HR</td></tr><tr><td>506654</td><td>Basha</td><td></td></tr><tr><td>583195</td><td>null</td><td>IT</td></tr><tr><td>470450</td><td>Venky</td><td>SALES</td></tr><tr><td>558253</td><td></td><td>HR</td></tr><tr><td>null</td><td>Krishna</td><td>Not Assigned</td></tr><tr><td>583181</td><td>Kiran</td><td>IT</td></tr><tr><td>583119</td><td>Hitesh</td><td>Finance</td></tr><tr><td>577519</td><td></td><td>Not Assigned</td></tr><tr><td>583151</td><td>Sushma</td><td>Accounts</td></tr><tr><td>583167</td><td>null</td><td>Not Assigned</td></tr><tr><td>583162</td><td>Buvan</td><td>Not Assigned</td></tr><tr><td>575216</td><td>Mohan</td><td>Hardware</td></tr><tr><td>null</td><td>null</td><td>Not Assigned</td></tr><tr><td>583173</td><td>Lohith</td><td></td></tr><tr><td>583099</td><td>Loba</td><td>Maintenance</td></tr></tbody></table></div>"
      ]
     },
     "metadata": {
      "application/vnd.databricks.v1+output": {
       "addedWidgets": {},
       "aggData": [],
       "aggError": "",
       "aggOverflow": false,
       "aggSchema": [],
       "aggSeriesLimitReached": false,
       "aggType": "",
       "arguments": {},
       "columnCustomDisplayInfos": {},
       "data": [
        [
         583069,
         "Harish",
         "Admin"
        ],
        [
         510102,
         "",
         "HR"
        ],
        [
         506654,
         "Basha",
         ""
        ],
        [
         583195,
         null,
         "IT"
        ],
        [
         470450,
         "Venky",
         "SALES"
        ],
        [
         558253,
         "",
         "HR"
        ],
        [
         null,
         "Krishna",
         "Not Assigned"
        ],
        [
         583181,
         "Kiran",
         "IT"
        ],
        [
         583119,
         "Hitesh",
         "Finance"
        ],
        [
         577519,
         "",
         "Not Assigned"
        ],
        [
         583151,
         "Sushma",
         "Accounts"
        ],
        [
         583167,
         null,
         "Not Assigned"
        ],
        [
         583162,
         "Buvan",
         "Not Assigned"
        ],
        [
         575216,
         "Mohan",
         "Hardware"
        ],
        [
         null,
         null,
         "Not Assigned"
        ],
        [
         583173,
         "Lohith",
         ""
        ],
        [
         583099,
         "Loba",
         "Maintenance"
        ]
       ],
       "datasetInfos": [
        {
         "name": "_sqldf",
         "schema": {
          "fields": [
           {
            "metadata": {},
            "name": "OBJECT_ID",
            "nullable": true,
            "type": "integer"
           },
           {
            "metadata": {
             "__CHAR_VARCHAR_TYPE_STRING": "varchar(50)"
            },
            "name": "Name",
            "nullable": true,
            "type": "string"
           },
           {
            "metadata": {},
            "name": "Department",
            "nullable": false,
            "type": "string"
           }
          ],
          "type": "struct"
         },
         "tableIdentifier": null,
         "typeStr": "pyspark.sql.connect.dataframe.DataFrame"
        }
       ],
       "dbfsResultPath": null,
       "isJsonSchema": true,
       "metadata": {
        "createTempViewForImplicitDf": true,
        "dataframeName": "_sqldf",
        "executionCount": 27
       },
       "overflow": false,
       "plotOptions": {
        "customPlotOptions": {},
        "displayType": "table",
        "pivotAggregation": null,
        "pivotColumns": null,
        "xColumns": null,
        "yColumns": null
       },
       "removedWidgets": [],
       "schema": [
        {
         "metadata": "{}",
         "name": "OBJECT_ID",
         "type": "\"integer\""
        },
        {
         "metadata": "{\"__CHAR_VARCHAR_TYPE_STRING\": \"varchar(50)\"}",
         "name": "Name",
         "type": "\"string\""
        },
        {
         "metadata": "{}",
         "name": "Department",
         "type": "\"string\""
        }
       ],
       "type": "table"
      }
     },
     "output_type": "display_data"
    }
   ],
   "source": [
    "%sql\n",
    "SELECT OBJECT_ID, Name,\n",
    "       IFNULL(Department, 'Not Assigned') AS Department\n",
    "FROM tblEmployeesIsNull;"
   ]
  },
  {
   "cell_type": "markdown",
   "metadata": {
    "application/vnd.databricks.v1+cell": {
     "cellMetadata": {},
     "inputWidgets": {},
     "nuid": "a4b6b62d-8089-46a3-bfff-a943b5570f50",
     "showTitle": false,
     "tableResultSettingsMap": {},
     "title": ""
    }
   },
   "source": [
    "##### 3) How to take sum / average?"
   ]
  },
  {
   "cell_type": "code",
   "execution_count": 0,
   "metadata": {
    "application/vnd.databricks.v1+cell": {
     "cellMetadata": {
      "byteLimit": 2048000,
      "implicitDf": true,
      "rowLimit": 10000
     },
     "inputWidgets": {},
     "nuid": "6f97226e-f54a-4f8d-b257-432a11fff88c",
     "showTitle": false,
     "tableResultSettingsMap": {},
     "title": ""
    }
   },
   "outputs": [
    {
     "output_type": "display_data",
     "data": {
      "text/html": [
       "<style scoped>\n",
       "  .table-result-container {\n",
       "    max-height: 300px;\n",
       "    overflow: auto;\n",
       "  }\n",
       "  table, th, td {\n",
       "    border: 1px solid black;\n",
       "    border-collapse: collapse;\n",
       "  }\n",
       "  th, td {\n",
       "    padding: 5px;\n",
       "  }\n",
       "  th {\n",
       "    text-align: left;\n",
       "  }\n",
       "</style><div class='table-result-container'><table class='table-result'><thead style='background-color: white'><tr><th>weight</th><th>Replace_Null</th></tr></thead><tbody><tr><td>100</td><td>100</td></tr><tr><td>200</td><td>200</td></tr><tr><td>null</td><td>100</td></tr><tr><td>10</td><td>10</td></tr><tr><td>50</td><td>50</td></tr><tr><td>75</td><td>75</td></tr><tr><td>null</td><td>100</td></tr><tr><td>null</td><td>100</td></tr><tr><td>300</td><td>300</td></tr><tr><td>500</td><td>500</td></tr><tr><td>null</td><td>100</td></tr><tr><td>250</td><td>250</td></tr><tr><td>350</td><td>350</td></tr><tr><td>null</td><td>100</td></tr><tr><td>1000</td><td>1000</td></tr><tr><td>550</td><td>550</td></tr><tr><td>650</td><td>650</td></tr></tbody></table></div>"
      ]
     },
     "metadata": {
      "application/vnd.databricks.v1+output": {
       "addedWidgets": {},
       "aggData": [],
       "aggError": "",
       "aggOverflow": false,
       "aggSchema": [],
       "aggSeriesLimitReached": false,
       "aggType": "",
       "arguments": {},
       "columnCustomDisplayInfos": {},
       "data": [
        [
         100,
         100
        ],
        [
         200,
         200
        ],
        [
         null,
         100
        ],
        [
         10,
         10
        ],
        [
         50,
         50
        ],
        [
         75,
         75
        ],
        [
         null,
         100
        ],
        [
         null,
         100
        ],
        [
         300,
         300
        ],
        [
         500,
         500
        ],
        [
         null,
         100
        ],
        [
         250,
         250
        ],
        [
         350,
         350
        ],
        [
         null,
         100
        ],
        [
         1000,
         1000
        ],
        [
         550,
         550
        ],
        [
         650,
         650
        ]
       ],
       "datasetInfos": [
        {
         "name": "_sqldf",
         "schema": {
          "fields": [
           {
            "metadata": {},
            "name": "weight",
            "nullable": true,
            "type": "integer"
           },
           {
            "metadata": {},
            "name": "Replace_Null",
            "nullable": false,
            "type": "integer"
           }
          ],
          "type": "struct"
         },
         "tableIdentifier": null,
         "typeStr": "pyspark.sql.connect.dataframe.DataFrame"
        }
       ],
       "dbfsResultPath": null,
       "isJsonSchema": true,
       "metadata": {
        "createTempViewForImplicitDf": true,
        "dataframeName": "_sqldf",
        "executionCount": 34
       },
       "overflow": false,
       "plotOptions": {
        "customPlotOptions": {},
        "displayType": "table",
        "pivotAggregation": null,
        "pivotColumns": null,
        "xColumns": null,
        "yColumns": null
       },
       "removedWidgets": [],
       "schema": [
        {
         "metadata": "{}",
         "name": "weight",
         "type": "\"integer\""
        },
        {
         "metadata": "{}",
         "name": "Replace_Null",
         "type": "\"integer\""
        }
       ],
       "type": "table"
      }
     },
     "output_type": "display_data"
    }
   ],
   "source": [
    "%sql\n",
    "SELECT weight,\n",
    "       IFNULL(weight, 100) Replace_Null\n",
    "FROM tblEmployeesIsNull;"
   ]
  },
  {
   "cell_type": "code",
   "execution_count": 0,
   "metadata": {
    "application/vnd.databricks.v1+cell": {
     "cellMetadata": {
      "byteLimit": 2048000,
      "implicitDf": true,
      "rowLimit": 10000
     },
     "inputWidgets": {},
     "nuid": "f2e8e573-131c-49d0-8b0d-e855ab6decb4",
     "showTitle": false,
     "tableResultSettingsMap": {},
     "title": ""
    }
   },
   "outputs": [
    {
     "output_type": "display_data",
     "data": {
      "text/html": [
       "<style scoped>\n",
       "  .table-result-container {\n",
       "    max-height: 300px;\n",
       "    overflow: auto;\n",
       "  }\n",
       "  table, th, td {\n",
       "    border: 1px solid black;\n",
       "    border-collapse: collapse;\n",
       "  }\n",
       "  th, td {\n",
       "    padding: 5px;\n",
       "  }\n",
       "  th {\n",
       "    text-align: left;\n",
       "  }\n",
       "</style><div class='table-result-container'><table class='table-result'><thead style='background-color: white'><tr><th>AvgWeight</th><th>SumWeight</th></tr></thead><tbody><tr><td>266.7647058823529</td><td>4535</td></tr></tbody></table></div>"
      ]
     },
     "metadata": {
      "application/vnd.databricks.v1+output": {
       "addedWidgets": {},
       "aggData": [],
       "aggError": "",
       "aggOverflow": false,
       "aggSchema": [],
       "aggSeriesLimitReached": false,
       "aggType": "",
       "arguments": {},
       "columnCustomDisplayInfos": {},
       "data": [
        [
         266.7647058823529,
         4535
        ]
       ],
       "datasetInfos": [
        {
         "name": "_sqldf",
         "schema": {
          "fields": [
           {
            "metadata": {},
            "name": "AvgWeight",
            "nullable": true,
            "type": "double"
           },
           {
            "metadata": {},
            "name": "SumWeight",
            "nullable": true,
            "type": "long"
           }
          ],
          "type": "struct"
         },
         "tableIdentifier": null,
         "typeStr": "pyspark.sql.connect.dataframe.DataFrame"
        }
       ],
       "dbfsResultPath": null,
       "isJsonSchema": true,
       "metadata": {
        "createTempViewForImplicitDf": true,
        "dataframeName": "_sqldf",
        "executionCount": 38
       },
       "overflow": false,
       "plotOptions": {
        "customPlotOptions": {},
        "displayType": "table",
        "pivotAggregation": null,
        "pivotColumns": null,
        "xColumns": null,
        "yColumns": null
       },
       "removedWidgets": [],
       "schema": [
        {
         "metadata": "{}",
         "name": "AvgWeight",
         "type": "\"double\""
        },
        {
         "metadata": "{}",
         "name": "SumWeight",
         "type": "\"long\""
        }
       ],
       "type": "table"
      }
     },
     "output_type": "display_data"
    }
   ],
   "source": [
    "%sql\n",
    "-- Query using ISNULL to replace NULL weights with 100, then take average\n",
    "SELECT AVG(IFNULL(weight, 100)) AS AvgWeight,\n",
    "       SUM(IFNULL(weight, 100)) AS SumWeight\n",
    "FROM tblEmployeesIsNull;"
   ]
  },
  {
   "cell_type": "markdown",
   "metadata": {
    "application/vnd.databricks.v1+cell": {
     "cellMetadata": {},
     "inputWidgets": {},
     "nuid": "1740417b-46ff-407c-8181-4b57e00cea18",
     "showTitle": false,
     "tableResultSettingsMap": {},
     "title": ""
    }
   },
   "source": [
    "##### 4) Use ISNULL() in a Calculation\n",
    "- Adds **Salary with Bonus**, treating missing bonus as **0**."
   ]
  },
  {
   "cell_type": "code",
   "execution_count": 0,
   "metadata": {
    "application/vnd.databricks.v1+cell": {
     "cellMetadata": {
      "byteLimit": 2048000,
      "implicitDf": true,
      "rowLimit": 10000
     },
     "inputWidgets": {},
     "nuid": "9ff810cb-d6d2-4f45-89b7-d55cf5350591",
     "showTitle": false,
     "tableResultSettingsMap": {},
     "title": ""
    }
   },
   "outputs": [
    {
     "output_type": "display_data",
     "data": {
      "text/html": [
       "<style scoped>\n",
       "  .table-result-container {\n",
       "    max-height: 300px;\n",
       "    overflow: auto;\n",
       "  }\n",
       "  table, th, td {\n",
       "    border: 1px solid black;\n",
       "    border-collapse: collapse;\n",
       "  }\n",
       "  th, td {\n",
       "    padding: 5px;\n",
       "  }\n",
       "  th {\n",
       "    text-align: left;\n",
       "  }\n",
       "</style><div class='table-result-container'><table class='table-result'><thead style='background-color: white'><tr><th>OBJECT_ID</th><th>Name</th><th>Salary</th><th>Bonus</th><th>TotalPay</th></tr></thead><tbody><tr><td>583069</td><td>Harish</td><td>50000.00</td><td>null</td><td>50750.00</td></tr><tr><td>510102</td><td></td><td>45000.00</td><td>5000.00</td><td>50000.00</td></tr><tr><td>506654</td><td>Basha</td><td>60000.00</td><td>0.00</td><td>60000.00</td></tr><tr><td>583195</td><td>null</td><td>52000.00</td><td>4000.00</td><td>56000.00</td></tr><tr><td>470450</td><td>Venky</td><td>50000.00</td><td>null</td><td>50750.00</td></tr><tr><td>558253</td><td></td><td>45000.00</td><td>5000.00</td><td>50000.00</td></tr><tr><td>null</td><td>Krishna</td><td>60000.00</td><td>null</td><td>60750.00</td></tr><tr><td>583181</td><td>Kiran</td><td>52000.00</td><td>4000.00</td><td>56000.00</td></tr><tr><td>583119</td><td>Hitesh</td><td>60000.00</td><td>null</td><td>60750.00</td></tr><tr><td>577519</td><td></td><td>52000.00</td><td>4000.00</td><td>56000.00</td></tr><tr><td>583151</td><td>Sushma</td><td>52000.00</td><td>4000.00</td><td>56000.00</td></tr><tr><td>583167</td><td>null</td><td>52000.00</td><td>0.00</td><td>52000.00</td></tr><tr><td>583162</td><td>Buvan</td><td>52000.00</td><td>4000.00</td><td>56000.00</td></tr><tr><td>575216</td><td>Mohan</td><td>52000.00</td><td>4000.00</td><td>56000.00</td></tr><tr><td>null</td><td>null</td><td>52000.00</td><td>0.00</td><td>52000.00</td></tr><tr><td>583173</td><td>Lohith</td><td>52000.00</td><td>4000.00</td><td>56000.00</td></tr><tr><td>583099</td><td>Loba</td><td>52000.00</td><td>0.00</td><td>52000.00</td></tr></tbody></table></div>"
      ]
     },
     "metadata": {
      "application/vnd.databricks.v1+output": {
       "addedWidgets": {},
       "aggData": [],
       "aggError": "",
       "aggOverflow": false,
       "aggSchema": [],
       "aggSeriesLimitReached": false,
       "aggType": "",
       "arguments": {},
       "columnCustomDisplayInfos": {},
       "data": [
        [
         583069,
         "Harish",
         "50000.00",
         null,
         "50750.00"
        ],
        [
         510102,
         "",
         "45000.00",
         "5000.00",
         "50000.00"
        ],
        [
         506654,
         "Basha",
         "60000.00",
         "0.00",
         "60000.00"
        ],
        [
         583195,
         null,
         "52000.00",
         "4000.00",
         "56000.00"
        ],
        [
         470450,
         "Venky",
         "50000.00",
         null,
         "50750.00"
        ],
        [
         558253,
         "",
         "45000.00",
         "5000.00",
         "50000.00"
        ],
        [
         null,
         "Krishna",
         "60000.00",
         null,
         "60750.00"
        ],
        [
         583181,
         "Kiran",
         "52000.00",
         "4000.00",
         "56000.00"
        ],
        [
         583119,
         "Hitesh",
         "60000.00",
         null,
         "60750.00"
        ],
        [
         577519,
         "",
         "52000.00",
         "4000.00",
         "56000.00"
        ],
        [
         583151,
         "Sushma",
         "52000.00",
         "4000.00",
         "56000.00"
        ],
        [
         583167,
         null,
         "52000.00",
         "0.00",
         "52000.00"
        ],
        [
         583162,
         "Buvan",
         "52000.00",
         "4000.00",
         "56000.00"
        ],
        [
         575216,
         "Mohan",
         "52000.00",
         "4000.00",
         "56000.00"
        ],
        [
         null,
         null,
         "52000.00",
         "0.00",
         "52000.00"
        ],
        [
         583173,
         "Lohith",
         "52000.00",
         "4000.00",
         "56000.00"
        ],
        [
         583099,
         "Loba",
         "52000.00",
         "0.00",
         "52000.00"
        ]
       ],
       "datasetInfos": [
        {
         "name": "_sqldf",
         "schema": {
          "fields": [
           {
            "metadata": {},
            "name": "OBJECT_ID",
            "nullable": true,
            "type": "integer"
           },
           {
            "metadata": {
             "__CHAR_VARCHAR_TYPE_STRING": "varchar(50)"
            },
            "name": "Name",
            "nullable": true,
            "type": "string"
           },
           {
            "metadata": {},
            "name": "Salary",
            "nullable": true,
            "type": "decimal(10,2)"
           },
           {
            "metadata": {},
            "name": "Bonus",
            "nullable": true,
            "type": "decimal(10,2)"
           },
           {
            "metadata": {},
            "name": "TotalPay",
            "nullable": true,
            "type": "decimal(13,2)"
           }
          ],
          "type": "struct"
         },
         "tableIdentifier": null,
         "typeStr": "pyspark.sql.connect.dataframe.DataFrame"
        }
       ],
       "dbfsResultPath": null,
       "isJsonSchema": true,
       "metadata": {
        "createTempViewForImplicitDf": true,
        "dataframeName": "_sqldf",
        "executionCount": 66
       },
       "overflow": false,
       "plotOptions": {
        "customPlotOptions": {},
        "displayType": "table",
        "pivotAggregation": null,
        "pivotColumns": null,
        "xColumns": null,
        "yColumns": null
       },
       "removedWidgets": [],
       "schema": [
        {
         "metadata": "{}",
         "name": "OBJECT_ID",
         "type": "\"integer\""
        },
        {
         "metadata": "{\"__CHAR_VARCHAR_TYPE_STRING\": \"varchar(50)\"}",
         "name": "Name",
         "type": "\"string\""
        },
        {
         "metadata": "{}",
         "name": "Salary",
         "type": "\"decimal(10,2)\""
        },
        {
         "metadata": "{}",
         "name": "Bonus",
         "type": "\"decimal(10,2)\""
        },
        {
         "metadata": "{}",
         "name": "TotalPay",
         "type": "\"decimal(13,2)\""
        }
       ],
       "type": "table"
      }
     },
     "output_type": "display_data"
    }
   ],
   "source": [
    "%sql\n",
    "SELECT OBJECT_ID, Name, Salary, Bonus,\n",
    "       Salary + IFNULL(Bonus, 750) AS TotalPay\n",
    "FROM tblEmployeesIsNull;"
   ]
  }
 ],
 "metadata": {
  "application/vnd.databricks.v1+notebook": {
   "computePreferences": {
    "hardware": {
     "accelerator": null,
     "gpuPoolId": null,
     "memory": null
    }
   },
   "dashboards": [],
   "environmentMetadata": {
    "base_environment": "",
    "environment_version": "2"
   },
   "inputWidgetPreferences": null,
   "language": "python",
   "notebookMetadata": {
    "mostRecentlyExecutedCommandWithImplicitDF": {
     "commandId": 7444361435060891,
     "dataframes": [
      "_sqldf"
     ]
    },
    "pythonIndentUnit": 4
   },
   "notebookName": "16_Replace Nulls using ISNULL()_IFNULL() | SQL SERVER",
   "widgets": {}
  },
  "language_info": {
   "name": "python"
  }
 },
 "nbformat": 4,
 "nbformat_minor": 0
}