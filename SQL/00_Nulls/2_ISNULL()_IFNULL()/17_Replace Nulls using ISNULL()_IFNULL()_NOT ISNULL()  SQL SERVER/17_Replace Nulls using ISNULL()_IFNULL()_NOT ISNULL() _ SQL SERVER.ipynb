{
 "cells": [
  {
   "cell_type": "markdown",
   "metadata": {
    "application/vnd.databricks.v1+cell": {
     "cellMetadata": {},
     "inputWidgets": {},
     "nuid": "c06344af-b38a-478d-b1d4-fc57ed38f05e",
     "showTitle": false,
     "tableResultSettingsMap": {},
     "title": ""
    }
   },
   "source": [
    "#### 1) ISNULL() / IFNULL()"
   ]
  },
  {
   "cell_type": "code",
   "execution_count": 0,
   "metadata": {
    "application/vnd.databricks.v1+cell": {
     "cellMetadata": {
      "byteLimit": 2048000,
      "implicitDf": true,
      "rowLimit": 10000
     },
     "inputWidgets": {},
     "nuid": "9d3e1ac4-ef62-46aa-a55c-14fda80d6597",
     "showTitle": false,
     "tableResultSettingsMap": {},
     "title": ""
    }
   },
   "outputs": [
    {
     "output_type": "display_data",
     "data": {
      "text/html": [
       "<style scoped>\n",
       "  .table-result-container {\n",
       "    max-height: 300px;\n",
       "    overflow: auto;\n",
       "  }\n",
       "  table, th, td {\n",
       "    border: 1px solid black;\n",
       "    border-collapse: collapse;\n",
       "  }\n",
       "  th, td {\n",
       "    padding: 5px;\n",
       "  }\n",
       "  th {\n",
       "    text-align: left;\n",
       "  }\n",
       "</style><div class='table-result-container'><table class='table-result'><thead style='background-color: white'><tr><th>SNo</th><th>first_name</th><th>middle_name</th><th>last_name</th><th>Product</th><th>ProductsSold</th><th>ItemsOrder</th><th>ItemPrice</th></tr></thead><tbody><tr><td>101</td><td>Rupesh</td><td>null</td><td>null</td><td>nut</td><td>100</td><td>50</td><td>200</td></tr><tr><td>102</td><td>Roshan</td><td>null</td><td>Swetha</td><td>bag</td><td>200</td><td>null</td><td>300</td></tr><tr><td>103</td><td>Rashi</td><td>Govardan</td><td>null</td><td>plug</td><td>150</td><td>50</td><td>100</td></tr><tr><td>104</td><td>null</td><td>Kasi</td><td>Gupta</td><td>cover</td><td>125</td><td>null</td><td>400</td></tr><tr><td>105</td><td>Ganesh</td><td>Kumar</td><td>Rao</td><td>light</td><td>100</td><td>25</td><td>500</td></tr><tr><td>106</td><td>Danush</td><td>Kannan</td><td>null</td><td>plywood</td><td>120</td><td>50</td><td>150</td></tr><tr><td>107</td><td>null</td><td>Kalki</td><td>Rayudu</td><td>glass</td><td>120</td><td>null</td><td>200</td></tr><tr><td>108</td><td>Gopesh</td><td>Singh</td><td>null</td><td>light</td><td>200</td><td>35</td><td>300</td></tr><tr><td>109</td><td>null</td><td>null</td><td>Dorai</td><td>vinyl</td><td>50</td><td>35</td><td>100</td></tr><tr><td>110</td><td>null</td><td>null</td><td>null</td><td>screw</td><td>100</td><td>35</td><td>200</td></tr></tbody></table></div>"
      ]
     },
     "metadata": {
      "application/vnd.databricks.v1+output": {
       "addedWidgets": {},
       "aggData": [],
       "aggError": "",
       "aggOverflow": false,
       "aggSchema": [],
       "aggSeriesLimitReached": false,
       "aggType": "",
       "arguments": {},
       "columnCustomDisplayInfos": {},
       "data": [
        [
         101,
         "Rupesh",
         null,
         null,
         "nut",
         100,
         50,
         200
        ],
        [
         102,
         "Roshan",
         null,
         "Swetha",
         "bag",
         200,
         null,
         300
        ],
        [
         103,
         "Rashi",
         "Govardan",
         null,
         "plug",
         150,
         50,
         100
        ],
        [
         104,
         null,
         "Kasi",
         "Gupta",
         "cover",
         125,
         null,
         400
        ],
        [
         105,
         "Ganesh",
         "Kumar",
         "Rao",
         "light",
         100,
         25,
         500
        ],
        [
         106,
         "Danush",
         "Kannan",
         null,
         "plywood",
         120,
         50,
         150
        ],
        [
         107,
         null,
         "Kalki",
         "Rayudu",
         "glass",
         120,
         null,
         200
        ],
        [
         108,
         "Gopesh",
         "Singh",
         null,
         "light",
         200,
         35,
         300
        ],
        [
         109,
         null,
         null,
         "Dorai",
         "vinyl",
         50,
         35,
         100
        ],
        [
         110,
         null,
         null,
         null,
         "screw",
         100,
         35,
         200
        ]
       ],
       "datasetInfos": [
        {
         "name": "_sqldf",
         "schema": {
          "fields": [
           {
            "metadata": {},
            "name": "SNo",
            "nullable": true,
            "type": "integer"
           },
           {
            "metadata": {
             "__CHAR_VARCHAR_TYPE_STRING": "varchar(20)"
            },
            "name": "first_name",
            "nullable": true,
            "type": "string"
           },
           {
            "metadata": {
             "__CHAR_VARCHAR_TYPE_STRING": "varchar(20)"
            },
            "name": "middle_name",
            "nullable": true,
            "type": "string"
           },
           {
            "metadata": {
             "__CHAR_VARCHAR_TYPE_STRING": "varchar(20)"
            },
            "name": "last_name",
            "nullable": true,
            "type": "string"
           },
           {
            "metadata": {
             "__CHAR_VARCHAR_TYPE_STRING": "varchar(20)"
            },
            "name": "Product",
            "nullable": true,
            "type": "string"
           },
           {
            "metadata": {},
            "name": "ProductsSold",
            "nullable": true,
            "type": "integer"
           },
           {
            "metadata": {},
            "name": "ItemsOrder",
            "nullable": true,
            "type": "integer"
           },
           {
            "metadata": {},
            "name": "ItemPrice",
            "nullable": true,
            "type": "integer"
           }
          ],
          "type": "struct"
         },
         "tableIdentifier": null,
         "typeStr": "pyspark.sql.connect.dataframe.DataFrame"
        }
       ],
       "dbfsResultPath": null,
       "isJsonSchema": true,
       "metadata": {
        "createTempViewForImplicitDf": true,
        "dataframeName": "_sqldf",
        "executionCount": 14
       },
       "overflow": false,
       "plotOptions": {
        "customPlotOptions": {},
        "displayType": "table",
        "pivotAggregation": null,
        "pivotColumns": null,
        "xColumns": null,
        "yColumns": null
       },
       "removedWidgets": [],
       "schema": [
        {
         "metadata": "{}",
         "name": "SNo",
         "type": "\"integer\""
        },
        {
         "metadata": "{\"__CHAR_VARCHAR_TYPE_STRING\": \"varchar(20)\"}",
         "name": "first_name",
         "type": "\"string\""
        },
        {
         "metadata": "{\"__CHAR_VARCHAR_TYPE_STRING\": \"varchar(20)\"}",
         "name": "middle_name",
         "type": "\"string\""
        },
        {
         "metadata": "{\"__CHAR_VARCHAR_TYPE_STRING\": \"varchar(20)\"}",
         "name": "last_name",
         "type": "\"string\""
        },
        {
         "metadata": "{\"__CHAR_VARCHAR_TYPE_STRING\": \"varchar(20)\"}",
         "name": "Product",
         "type": "\"string\""
        },
        {
         "metadata": "{}",
         "name": "ProductsSold",
         "type": "\"integer\""
        },
        {
         "metadata": "{}",
         "name": "ItemsOrder",
         "type": "\"integer\""
        },
        {
         "metadata": "{}",
         "name": "ItemPrice",
         "type": "\"integer\""
        }
       ],
       "type": "table"
      }
     },
     "output_type": "display_data"
    }
   ],
   "source": [
    "%sql\n",
    "DROP TABLE IF EXISTS tblProductIsNull;\n",
    "CREATE TABLE tblProductIsNull(\n",
    "     SNo int,\n",
    "     first_name varchar(20),\n",
    "     middle_name varchar(20),\n",
    "     last_name varchar(20),\n",
    "     Product varchar(20),\n",
    "     ProductsSold int,\n",
    "     ItemsOrder int,\n",
    "     ItemPrice int\n",
    ");\n",
    "\n",
    "INSERT INTO tblProductIsNull(SNo, first_name, middle_name, last_name, Product, ProductsSold, ItemsOrder, ItemPrice)\n",
    "VALUES\n",
    "(101, 'Rupesh', null, null, 'nut', 100, 50, 200),\n",
    "(102, 'Roshan', null, 'Swetha', 'bag', 200, null, 300),\n",
    "(103, 'Rashi', 'Govardan', null, 'plug', 150, 50, 100),\n",
    "(104, null, 'Kasi', 'Gupta', 'cover', 125, null, 400),\n",
    "(105, 'Ganesh', 'Kumar', 'Rao', 'light', 100, 25, 500),\n",
    "(106, 'Danush', 'Kannan', null, 'plywood', 120, 50, 150),\n",
    "(107, null, 'Kalki', 'Rayudu', 'glass', 120, null, 200),\n",
    "(108, 'Gopesh', 'Singh', null, 'light', 200, 35, 300),\n",
    "(109, null, null, 'Dorai', 'vinyl', 50, 35, 100),\n",
    "(110, null, null, null, 'screw', 100, 35, 200);\n",
    "\n",
    "SELECT * FROM tblProductIsNull;"
   ]
  },
  {
   "cell_type": "code",
   "execution_count": 0,
   "metadata": {
    "application/vnd.databricks.v1+cell": {
     "cellMetadata": {
      "byteLimit": 2048000,
      "implicitDf": true,
      "rowLimit": 10000
     },
     "inputWidgets": {},
     "nuid": "4ee974c6-04aa-47c2-bfcd-d7714aa05afd",
     "showTitle": false,
     "tableResultSettingsMap": {},
     "title": ""
    }
   },
   "outputs": [
    {
     "output_type": "display_data",
     "data": {
      "text/html": [
       "<style scoped>\n",
       "  .table-result-container {\n",
       "    max-height: 300px;\n",
       "    overflow: auto;\n",
       "  }\n",
       "  table, th, td {\n",
       "    border: 1px solid black;\n",
       "    border-collapse: collapse;\n",
       "  }\n",
       "  th, td {\n",
       "    padding: 5px;\n",
       "  }\n",
       "  th {\n",
       "    text-align: left;\n",
       "  }\n",
       "</style><div class='table-result-container'><table class='table-result'><thead style='background-color: white'><tr><th>first_name</th><th>FullName</th><th>middle_name</th><th>MiddleName</th><th>last_name</th><th>LastName</th></tr></thead><tbody><tr><td>Rupesh</td><td>Rupesh</td><td>null</td><td>MIDDLE-NAME</td><td>null</td><td>LAST-NAME</td></tr><tr><td>Roshan</td><td>Roshan</td><td>null</td><td>MIDDLE-NAME</td><td>Swetha</td><td>Swetha</td></tr><tr><td>Rashi</td><td>Rashi</td><td>Govardan</td><td>Govardan</td><td>null</td><td>LAST-NAME</td></tr><tr><td>null</td><td>FIRST-NAME</td><td>Kasi</td><td>Kasi</td><td>Gupta</td><td>Gupta</td></tr><tr><td>Ganesh</td><td>Ganesh</td><td>Ram</td><td>Ram</td><td>Ravi</td><td>Ravi</td></tr><tr><td>Danush</td><td>Danush</td><td>Kannan</td><td>Kannan</td><td>null</td><td>LAST-NAME</td></tr><tr><td>null</td><td>FIRST-NAME</td><td>Kalki</td><td>Kalki</td><td>Rayudu</td><td>Rayudu</td></tr><tr><td>Gopesh</td><td>Gopesh</td><td>Singh</td><td>Singh</td><td>null</td><td>LAST-NAME</td></tr><tr><td>null</td><td>FIRST-NAME</td><td>null</td><td>MIDDLE-NAME</td><td>Dorai</td><td>Dorai</td></tr><tr><td>null</td><td>FIRST-NAME</td><td>null</td><td>MIDDLE-NAME</td><td>null</td><td>LAST-NAME</td></tr></tbody></table></div>"
      ]
     },
     "metadata": {
      "application/vnd.databricks.v1+output": {
       "addedWidgets": {},
       "aggData": [],
       "aggError": "",
       "aggOverflow": false,
       "aggSchema": [],
       "aggSeriesLimitReached": false,
       "aggType": "",
       "arguments": {},
       "columnCustomDisplayInfos": {},
       "data": [
        [
         "Rupesh",
         "Rupesh",
         null,
         "MIDDLE-NAME",
         null,
         "LAST-NAME"
        ],
        [
         "Roshan",
         "Roshan",
         null,
         "MIDDLE-NAME",
         "Swetha",
         "Swetha"
        ],
        [
         "Rashi",
         "Rashi",
         "Govardan",
         "Govardan",
         null,
         "LAST-NAME"
        ],
        [
         null,
         "FIRST-NAME",
         "Kasi",
         "Kasi",
         "Gupta",
         "Gupta"
        ],
        [
         "Ganesh",
         "Ganesh",
         "Ram",
         "Ram",
         "Ravi",
         "Ravi"
        ],
        [
         "Danush",
         "Danush",
         "Kannan",
         "Kannan",
         null,
         "LAST-NAME"
        ],
        [
         null,
         "FIRST-NAME",
         "Kalki",
         "Kalki",
         "Rayudu",
         "Rayudu"
        ],
        [
         "Gopesh",
         "Gopesh",
         "Singh",
         "Singh",
         null,
         "LAST-NAME"
        ],
        [
         null,
         "FIRST-NAME",
         null,
         "MIDDLE-NAME",
         "Dorai",
         "Dorai"
        ],
        [
         null,
         "FIRST-NAME",
         null,
         "MIDDLE-NAME",
         null,
         "LAST-NAME"
        ]
       ],
       "datasetInfos": [
        {
         "name": "_sqldf",
         "schema": {
          "fields": [
           {
            "metadata": {
             "__CHAR_VARCHAR_TYPE_STRING": "varchar(20)"
            },
            "name": "first_name",
            "nullable": true,
            "type": "string"
           },
           {
            "metadata": {},
            "name": "FullName",
            "nullable": false,
            "type": "string"
           },
           {
            "metadata": {
             "__CHAR_VARCHAR_TYPE_STRING": "varchar(20)"
            },
            "name": "middle_name",
            "nullable": true,
            "type": "string"
           },
           {
            "metadata": {},
            "name": "MiddleName",
            "nullable": false,
            "type": "string"
           },
           {
            "metadata": {
             "__CHAR_VARCHAR_TYPE_STRING": "varchar(20)"
            },
            "name": "last_name",
            "nullable": true,
            "type": "string"
           },
           {
            "metadata": {},
            "name": "LastName",
            "nullable": false,
            "type": "string"
           }
          ],
          "type": "struct"
         },
         "tableIdentifier": null,
         "typeStr": "pyspark.sql.connect.dataframe.DataFrame"
        }
       ],
       "dbfsResultPath": null,
       "isJsonSchema": true,
       "metadata": {
        "createTempViewForImplicitDf": true,
        "dataframeName": "_sqldf",
        "executionCount": 4
       },
       "overflow": false,
       "plotOptions": {
        "customPlotOptions": {},
        "displayType": "table",
        "pivotAggregation": null,
        "pivotColumns": null,
        "xColumns": null,
        "yColumns": null
       },
       "removedWidgets": [],
       "schema": [
        {
         "metadata": "{\"__CHAR_VARCHAR_TYPE_STRING\": \"varchar(20)\"}",
         "name": "first_name",
         "type": "\"string\""
        },
        {
         "metadata": "{}",
         "name": "FullName",
         "type": "\"string\""
        },
        {
         "metadata": "{\"__CHAR_VARCHAR_TYPE_STRING\": \"varchar(20)\"}",
         "name": "middle_name",
         "type": "\"string\""
        },
        {
         "metadata": "{}",
         "name": "MiddleName",
         "type": "\"string\""
        },
        {
         "metadata": "{\"__CHAR_VARCHAR_TYPE_STRING\": \"varchar(20)\"}",
         "name": "last_name",
         "type": "\"string\""
        },
        {
         "metadata": "{}",
         "name": "LastName",
         "type": "\"string\""
        }
       ],
       "type": "table"
      }
     },
     "output_type": "display_data"
    }
   ],
   "source": [
    "%sql\n",
    "SELECT first_name,\n",
    "       IFNULL(first_name, 'FIRST-NAME') AS FullName,\n",
    "       middle_name,\n",
    "       IFNULL(middle_name, 'MIDDLE-NAME') AS MiddleName,\n",
    "       last_name,\n",
    "       IFNULL(last_name, 'LAST-NAME') AS LastName\n",
    "FROM tblProductIsNull;"
   ]
  },
  {
   "cell_type": "code",
   "execution_count": 0,
   "metadata": {
    "application/vnd.databricks.v1+cell": {
     "cellMetadata": {
      "byteLimit": 2048000,
      "implicitDf": true,
      "rowLimit": 10000
     },
     "inputWidgets": {},
     "nuid": "344fa27d-1dec-4335-9ad2-59d2c8dc7529",
     "showTitle": true,
     "tableResultSettingsMap": {},
     "title": "diff b/n isnull() & coalesce"
    }
   },
   "outputs": [
    {
     "output_type": "display_data",
     "data": {
      "text/html": [
       "<style scoped>\n",
       "  .table-result-container {\n",
       "    max-height: 300px;\n",
       "    overflow: auto;\n",
       "  }\n",
       "  table, th, td {\n",
       "    border: 1px solid black;\n",
       "    border-collapse: collapse;\n",
       "  }\n",
       "  th, td {\n",
       "    padding: 5px;\n",
       "  }\n",
       "  th {\n",
       "    text-align: left;\n",
       "  }\n",
       "</style><div class='table-result-container'><table class='table-result'><thead style='background-color: white'><tr><th>first_name</th><th>middle_name</th><th>last_name</th><th>FullName</th><th>CustName</th></tr></thead><tbody><tr><td>Rupesh</td><td>null</td><td>null</td><td>Rupesh</td><td>Rupesh</td></tr><tr><td>Roshan</td><td>null</td><td>Swetha</td><td>Roshan</td><td>Roshan</td></tr><tr><td>Rashi</td><td>Govardan</td><td>null</td><td>Rashi</td><td>Rashi</td></tr><tr><td>null</td><td>Kasi</td><td>Gupta</td><td>Kasi</td><td>Kasi</td></tr><tr><td>Ganesh</td><td>Ram</td><td>Ravi</td><td>Ganesh</td><td>Ganesh</td></tr><tr><td>Danush</td><td>Kannan</td><td>null</td><td>Danush</td><td>Danush</td></tr><tr><td>null</td><td>Kalki</td><td>Rayudu</td><td>Kalki</td><td>Kalki</td></tr><tr><td>Gopesh</td><td>Singh</td><td>null</td><td>Gopesh</td><td>Gopesh</td></tr><tr><td>null</td><td>null</td><td>Dorai</td><td>null</td><td>Dorai</td></tr><tr><td>null</td><td>null</td><td>null</td><td>null</td><td>Default</td></tr></tbody></table></div>"
      ]
     },
     "metadata": {
      "application/vnd.databricks.v1+output": {
       "addedWidgets": {},
       "aggData": [],
       "aggError": "",
       "aggOverflow": false,
       "aggSchema": [],
       "aggSeriesLimitReached": false,
       "aggType": "",
       "arguments": {},
       "columnCustomDisplayInfos": {},
       "data": [
        [
         "Rupesh",
         null,
         null,
         "Rupesh",
         "Rupesh"
        ],
        [
         "Roshan",
         null,
         "Swetha",
         "Roshan",
         "Roshan"
        ],
        [
         "Rashi",
         "Govardan",
         null,
         "Rashi",
         "Rashi"
        ],
        [
         null,
         "Kasi",
         "Gupta",
         "Kasi",
         "Kasi"
        ],
        [
         "Ganesh",
         "Ram",
         "Ravi",
         "Ganesh",
         "Ganesh"
        ],
        [
         "Danush",
         "Kannan",
         null,
         "Danush",
         "Danush"
        ],
        [
         null,
         "Kalki",
         "Rayudu",
         "Kalki",
         "Kalki"
        ],
        [
         "Gopesh",
         "Singh",
         null,
         "Gopesh",
         "Gopesh"
        ],
        [
         null,
         null,
         "Dorai",
         null,
         "Dorai"
        ],
        [
         null,
         null,
         null,
         null,
         "Default"
        ]
       ],
       "datasetInfos": [
        {
         "name": "_sqldf",
         "schema": {
          "fields": [
           {
            "metadata": {
             "__CHAR_VARCHAR_TYPE_STRING": "varchar(20)"
            },
            "name": "first_name",
            "nullable": true,
            "type": "string"
           },
           {
            "metadata": {
             "__CHAR_VARCHAR_TYPE_STRING": "varchar(20)"
            },
            "name": "middle_name",
            "nullable": true,
            "type": "string"
           },
           {
            "metadata": {
             "__CHAR_VARCHAR_TYPE_STRING": "varchar(20)"
            },
            "name": "last_name",
            "nullable": true,
            "type": "string"
           },
           {
            "metadata": {},
            "name": "FullName",
            "nullable": true,
            "type": "string"
           },
           {
            "metadata": {},
            "name": "CustName",
            "nullable": false,
            "type": "string"
           }
          ],
          "type": "struct"
         },
         "tableIdentifier": null,
         "typeStr": "pyspark.sql.connect.dataframe.DataFrame"
        }
       ],
       "dbfsResultPath": null,
       "isJsonSchema": true,
       "metadata": {
        "createTempViewForImplicitDf": true,
        "dataframeName": "_sqldf",
        "executionCount": 26
       },
       "overflow": false,
       "plotOptions": {
        "customPlotOptions": {},
        "displayType": "table",
        "pivotAggregation": null,
        "pivotColumns": null,
        "xColumns": null,
        "yColumns": null
       },
       "removedWidgets": [],
       "schema": [
        {
         "metadata": "{\"__CHAR_VARCHAR_TYPE_STRING\": \"varchar(20)\"}",
         "name": "first_name",
         "type": "\"string\""
        },
        {
         "metadata": "{\"__CHAR_VARCHAR_TYPE_STRING\": \"varchar(20)\"}",
         "name": "middle_name",
         "type": "\"string\""
        },
        {
         "metadata": "{\"__CHAR_VARCHAR_TYPE_STRING\": \"varchar(20)\"}",
         "name": "last_name",
         "type": "\"string\""
        },
        {
         "metadata": "{}",
         "name": "FullName",
         "type": "\"string\""
        },
        {
         "metadata": "{}",
         "name": "CustName",
         "type": "\"string\""
        }
       ],
       "type": "table"
      }
     },
     "output_type": "display_data"
    }
   ],
   "source": [
    "%sql\n",
    "SELECT first_name, middle_name, last_name,\n",
    "       IFNULL(first_name, middle_name) AS FullName,\n",
    "       COALESCE(first_name, middle_name, last_name, 'Default') AS CustName\n",
    "FROM tblProductIsNull;"
   ]
  },
  {
   "cell_type": "code",
   "execution_count": 0,
   "metadata": {
    "application/vnd.databricks.v1+cell": {
     "cellMetadata": {
      "byteLimit": 2048000,
      "implicitDf": true,
      "rowLimit": 10000
     },
     "inputWidgets": {},
     "nuid": "65fc2d1f-0137-43fa-8982-384bedeed329",
     "showTitle": false,
     "tableResultSettingsMap": {},
     "title": ""
    }
   },
   "outputs": [
    {
     "output_type": "display_data",
     "data": {
      "text/html": [
       "<style scoped>\n",
       "  .table-result-container {\n",
       "    max-height: 300px;\n",
       "    overflow: auto;\n",
       "  }\n",
       "  table, th, td {\n",
       "    border: 1px solid black;\n",
       "    border-collapse: collapse;\n",
       "  }\n",
       "  th, td {\n",
       "    padding: 5px;\n",
       "  }\n",
       "  th {\n",
       "    text-align: left;\n",
       "  }\n",
       "</style><div class='table-result-container'><table class='table-result'><thead style='background-color: white'><tr><th>first_name</th><th>middle_name</th><th>last_name</th><th>FullName</th><th>ProductsSold</th><th>ItemsOrder</th><th>ItemPrice</th><th>Total_Sales</th></tr></thead><tbody><tr><td>Rupesh</td><td>null</td><td>null</td><td>null</td><td>100</td><td>50</td><td>200</td><td>30000</td></tr><tr><td>Roshan</td><td>null</td><td>Swetha</td><td>null</td><td>200</td><td>null</td><td>300</td><td>null</td></tr><tr><td>Rashi</td><td>Govardan</td><td>null</td><td>null</td><td>150</td><td>50</td><td>100</td><td>20000</td></tr><tr><td>null</td><td>Kasi</td><td>Gupta</td><td>null</td><td>125</td><td>null</td><td>400</td><td>null</td></tr><tr><td>Ganesh</td><td>Kumar</td><td>Rao</td><td>Ganesh Kumar Rao</td><td>100</td><td>25</td><td>500</td><td>62500</td></tr><tr><td>Danush</td><td>Kannan</td><td>null</td><td>null</td><td>120</td><td>50</td><td>150</td><td>25500</td></tr><tr><td>null</td><td>Kalki</td><td>Rayudu</td><td>null</td><td>120</td><td>null</td><td>200</td><td>null</td></tr><tr><td>Gopesh</td><td>Singh</td><td>null</td><td>null</td><td>200</td><td>35</td><td>300</td><td>70500</td></tr><tr><td>null</td><td>null</td><td>Dorai</td><td>null</td><td>50</td><td>35</td><td>100</td><td>8500</td></tr><tr><td>null</td><td>null</td><td>null</td><td>null</td><td>100</td><td>35</td><td>200</td><td>27000</td></tr></tbody></table></div>"
      ]
     },
     "metadata": {
      "application/vnd.databricks.v1+output": {
       "addedWidgets": {},
       "aggData": [],
       "aggError": "",
       "aggOverflow": false,
       "aggSchema": [],
       "aggSeriesLimitReached": false,
       "aggType": "",
       "arguments": {},
       "columnCustomDisplayInfos": {},
       "data": [
        [
         "Rupesh",
         null,
         null,
         null,
         100,
         50,
         200,
         30000
        ],
        [
         "Roshan",
         null,
         "Swetha",
         null,
         200,
         null,
         300,
         null
        ],
        [
         "Rashi",
         "Govardan",
         null,
         null,
         150,
         50,
         100,
         20000
        ],
        [
         null,
         "Kasi",
         "Gupta",
         null,
         125,
         null,
         400,
         null
        ],
        [
         "Ganesh",
         "Kumar",
         "Rao",
         "Ganesh Kumar Rao",
         100,
         25,
         500,
         62500
        ],
        [
         "Danush",
         "Kannan",
         null,
         null,
         120,
         50,
         150,
         25500
        ],
        [
         null,
         "Kalki",
         "Rayudu",
         null,
         120,
         null,
         200,
         null
        ],
        [
         "Gopesh",
         "Singh",
         null,
         null,
         200,
         35,
         300,
         70500
        ],
        [
         null,
         null,
         "Dorai",
         null,
         50,
         35,
         100,
         8500
        ],
        [
         null,
         null,
         null,
         null,
         100,
         35,
         200,
         27000
        ]
       ],
       "datasetInfos": [
        {
         "name": "_sqldf",
         "schema": {
          "fields": [
           {
            "metadata": {
             "__CHAR_VARCHAR_TYPE_STRING": "varchar(20)"
            },
            "name": "first_name",
            "nullable": true,
            "type": "string"
           },
           {
            "metadata": {
             "__CHAR_VARCHAR_TYPE_STRING": "varchar(20)"
            },
            "name": "middle_name",
            "nullable": true,
            "type": "string"
           },
           {
            "metadata": {
             "__CHAR_VARCHAR_TYPE_STRING": "varchar(20)"
            },
            "name": "last_name",
            "nullable": true,
            "type": "string"
           },
           {
            "metadata": {},
            "name": "FullName",
            "nullable": true,
            "type": "string"
           },
           {
            "metadata": {},
            "name": "ProductsSold",
            "nullable": true,
            "type": "integer"
           },
           {
            "metadata": {},
            "name": "ItemsOrder",
            "nullable": true,
            "type": "integer"
           },
           {
            "metadata": {},
            "name": "ItemPrice",
            "nullable": true,
            "type": "integer"
           },
           {
            "metadata": {},
            "name": "Total_Sales",
            "nullable": true,
            "type": "integer"
           }
          ],
          "type": "struct"
         },
         "tableIdentifier": null,
         "typeStr": "pyspark.sql.connect.dataframe.DataFrame"
        }
       ],
       "dbfsResultPath": null,
       "isJsonSchema": true,
       "metadata": {
        "createTempViewForImplicitDf": true,
        "dataframeName": "_sqldf",
        "executionCount": 15
       },
       "overflow": false,
       "plotOptions": {
        "customPlotOptions": {},
        "displayType": "table",
        "pivotAggregation": null,
        "pivotColumns": null,
        "xColumns": null,
        "yColumns": null
       },
       "removedWidgets": [],
       "schema": [
        {
         "metadata": "{\"__CHAR_VARCHAR_TYPE_STRING\": \"varchar(20)\"}",
         "name": "first_name",
         "type": "\"string\""
        },
        {
         "metadata": "{\"__CHAR_VARCHAR_TYPE_STRING\": \"varchar(20)\"}",
         "name": "middle_name",
         "type": "\"string\""
        },
        {
         "metadata": "{\"__CHAR_VARCHAR_TYPE_STRING\": \"varchar(20)\"}",
         "name": "last_name",
         "type": "\"string\""
        },
        {
         "metadata": "{}",
         "name": "FullName",
         "type": "\"string\""
        },
        {
         "metadata": "{}",
         "name": "ProductsSold",
         "type": "\"integer\""
        },
        {
         "metadata": "{}",
         "name": "ItemsOrder",
         "type": "\"integer\""
        },
        {
         "metadata": "{}",
         "name": "ItemPrice",
         "type": "\"integer\""
        },
        {
         "metadata": "{}",
         "name": "Total_Sales",
         "type": "\"integer\""
        }
       ],
       "type": "table"
      }
     },
     "output_type": "display_data"
    }
   ],
   "source": [
    "%sql\n",
    "SELECT first_name, middle_name, last_name, \n",
    "       CONCAT(first_name, ' ', middle_name, ' ', last_name) AS FullName,\n",
    "       ProductsSold, ItemsOrder, ItemPrice,\n",
    "       (ProductsSold + ItemsOrder) * ItemPrice AS Total_Sales\n",
    "FROM tblProductIsNull;"
   ]
  },
  {
   "cell_type": "code",
   "execution_count": 0,
   "metadata": {
    "application/vnd.databricks.v1+cell": {
     "cellMetadata": {
      "byteLimit": 2048000,
      "implicitDf": true,
      "rowLimit": 10000
     },
     "inputWidgets": {},
     "nuid": "ff73a96d-a9c6-4f09-8581-f480186f3a52",
     "showTitle": false,
     "tableResultSettingsMap": {},
     "title": ""
    }
   },
   "outputs": [
    {
     "output_type": "display_data",
     "data": {
      "text/html": [
       "<style scoped>\n",
       "  .table-result-container {\n",
       "    max-height: 300px;\n",
       "    overflow: auto;\n",
       "  }\n",
       "  table, th, td {\n",
       "    border: 1px solid black;\n",
       "    border-collapse: collapse;\n",
       "  }\n",
       "  th, td {\n",
       "    padding: 5px;\n",
       "  }\n",
       "  th {\n",
       "    text-align: left;\n",
       "  }\n",
       "</style><div class='table-result-container'><table class='table-result'><thead style='background-color: white'><tr><th>first_name</th><th>middle_name</th><th>last_name</th><th>FullName</th><th>ProductsSold</th><th>ItemsOrder</th><th>ItemPrice</th><th>Total_Sales</th></tr></thead><tbody><tr><td>Rupesh</td><td>null</td><td>null</td><td>Rupesh MIDDLE-NAME LAST-NAME</td><td>100</td><td>50</td><td>200</td><td>30000</td></tr><tr><td>Roshan</td><td>null</td><td>Swetha</td><td>Roshan MIDDLE-NAME Swetha</td><td>200</td><td>null</td><td>300</td><td>60000</td></tr><tr><td>Rashi</td><td>Govardan</td><td>null</td><td>Rashi Govardan LAST-NAME</td><td>150</td><td>50</td><td>100</td><td>20000</td></tr><tr><td>null</td><td>Kasi</td><td>Gupta</td><td>FIRST-NAME Kasi Gupta</td><td>125</td><td>null</td><td>400</td><td>50000</td></tr><tr><td>Ganesh</td><td>Kumar</td><td>Rao</td><td>Ganesh Kumar Rao</td><td>100</td><td>25</td><td>500</td><td>62500</td></tr><tr><td>Danush</td><td>Kannan</td><td>null</td><td>Danush Kannan LAST-NAME</td><td>120</td><td>50</td><td>150</td><td>25500</td></tr><tr><td>null</td><td>Kalki</td><td>Rayudu</td><td>FIRST-NAME Kalki Rayudu</td><td>120</td><td>null</td><td>200</td><td>24000</td></tr><tr><td>Gopesh</td><td>Singh</td><td>null</td><td>Gopesh Singh LAST-NAME</td><td>200</td><td>35</td><td>300</td><td>70500</td></tr><tr><td>null</td><td>null</td><td>Dorai</td><td>FIRST-NAME MIDDLE-NAME Dorai</td><td>50</td><td>35</td><td>100</td><td>8500</td></tr><tr><td>null</td><td>null</td><td>null</td><td>FIRST-NAME MIDDLE-NAME LAST-NAME</td><td>100</td><td>35</td><td>200</td><td>27000</td></tr></tbody></table></div>"
      ]
     },
     "metadata": {
      "application/vnd.databricks.v1+output": {
       "addedWidgets": {},
       "aggData": [],
       "aggError": "",
       "aggOverflow": false,
       "aggSchema": [],
       "aggSeriesLimitReached": false,
       "aggType": "",
       "arguments": {},
       "columnCustomDisplayInfos": {},
       "data": [
        [
         "Rupesh",
         null,
         null,
         "Rupesh MIDDLE-NAME LAST-NAME",
         100,
         50,
         200,
         30000
        ],
        [
         "Roshan",
         null,
         "Swetha",
         "Roshan MIDDLE-NAME Swetha",
         200,
         null,
         300,
         60000
        ],
        [
         "Rashi",
         "Govardan",
         null,
         "Rashi Govardan LAST-NAME",
         150,
         50,
         100,
         20000
        ],
        [
         null,
         "Kasi",
         "Gupta",
         "FIRST-NAME Kasi Gupta",
         125,
         null,
         400,
         50000
        ],
        [
         "Ganesh",
         "Kumar",
         "Rao",
         "Ganesh Kumar Rao",
         100,
         25,
         500,
         62500
        ],
        [
         "Danush",
         "Kannan",
         null,
         "Danush Kannan LAST-NAME",
         120,
         50,
         150,
         25500
        ],
        [
         null,
         "Kalki",
         "Rayudu",
         "FIRST-NAME Kalki Rayudu",
         120,
         null,
         200,
         24000
        ],
        [
         "Gopesh",
         "Singh",
         null,
         "Gopesh Singh LAST-NAME",
         200,
         35,
         300,
         70500
        ],
        [
         null,
         null,
         "Dorai",
         "FIRST-NAME MIDDLE-NAME Dorai",
         50,
         35,
         100,
         8500
        ],
        [
         null,
         null,
         null,
         "FIRST-NAME MIDDLE-NAME LAST-NAME",
         100,
         35,
         200,
         27000
        ]
       ],
       "datasetInfos": [
        {
         "name": "_sqldf",
         "schema": {
          "fields": [
           {
            "metadata": {
             "__CHAR_VARCHAR_TYPE_STRING": "varchar(20)"
            },
            "name": "first_name",
            "nullable": true,
            "type": "string"
           },
           {
            "metadata": {
             "__CHAR_VARCHAR_TYPE_STRING": "varchar(20)"
            },
            "name": "middle_name",
            "nullable": true,
            "type": "string"
           },
           {
            "metadata": {
             "__CHAR_VARCHAR_TYPE_STRING": "varchar(20)"
            },
            "name": "last_name",
            "nullable": true,
            "type": "string"
           },
           {
            "metadata": {},
            "name": "FullName",
            "nullable": false,
            "type": "string"
           },
           {
            "metadata": {},
            "name": "ProductsSold",
            "nullable": true,
            "type": "integer"
           },
           {
            "metadata": {},
            "name": "ItemsOrder",
            "nullable": true,
            "type": "integer"
           },
           {
            "metadata": {},
            "name": "ItemPrice",
            "nullable": true,
            "type": "integer"
           },
           {
            "metadata": {},
            "name": "Total_Sales",
            "nullable": true,
            "type": "integer"
           }
          ],
          "type": "struct"
         },
         "tableIdentifier": null,
         "typeStr": "pyspark.sql.connect.dataframe.DataFrame"
        }
       ],
       "dbfsResultPath": null,
       "isJsonSchema": true,
       "metadata": {
        "createTempViewForImplicitDf": true,
        "dataframeName": "_sqldf",
        "executionCount": 20
       },
       "overflow": false,
       "plotOptions": {
        "customPlotOptions": {},
        "displayType": "table",
        "pivotAggregation": null,
        "pivotColumns": null,
        "xColumns": null,
        "yColumns": null
       },
       "removedWidgets": [],
       "schema": [
        {
         "metadata": "{\"__CHAR_VARCHAR_TYPE_STRING\": \"varchar(20)\"}",
         "name": "first_name",
         "type": "\"string\""
        },
        {
         "metadata": "{\"__CHAR_VARCHAR_TYPE_STRING\": \"varchar(20)\"}",
         "name": "middle_name",
         "type": "\"string\""
        },
        {
         "metadata": "{\"__CHAR_VARCHAR_TYPE_STRING\": \"varchar(20)\"}",
         "name": "last_name",
         "type": "\"string\""
        },
        {
         "metadata": "{}",
         "name": "FullName",
         "type": "\"string\""
        },
        {
         "metadata": "{}",
         "name": "ProductsSold",
         "type": "\"integer\""
        },
        {
         "metadata": "{}",
         "name": "ItemsOrder",
         "type": "\"integer\""
        },
        {
         "metadata": "{}",
         "name": "ItemPrice",
         "type": "\"integer\""
        },
        {
         "metadata": "{}",
         "name": "Total_Sales",
         "type": "\"integer\""
        }
       ],
       "type": "table"
      }
     },
     "output_type": "display_data"
    }
   ],
   "source": [
    "%sql\n",
    "SELECT first_name, middle_name, last_name,\n",
    "       CONCAT(IFNULL(first_name, 'FIRST-NAME'), ' ', IFNULL(middle_name, 'MIDDLE-NAME'), ' ', IFNULL(last_name, 'LAST-NAME')) AS FullName,\n",
    "       ProductsSold, ItemsOrder, ItemPrice, \n",
    "       (ProductsSold + IFNULL(ItemsOrder, 0)) * ItemPrice AS Total_Sales\n",
    "FROM tblProductIsNull;"
   ]
  },
  {
   "cell_type": "markdown",
   "metadata": {
    "application/vnd.databricks.v1+cell": {
     "cellMetadata": {},
     "inputWidgets": {},
     "nuid": "119f6839-74b9-4a0f-a4a7-3c380c402819",
     "showTitle": false,
     "tableResultSettingsMap": {},
     "title": ""
    }
   },
   "source": [
    "#### 2) NOT ISNULL()"
   ]
  },
  {
   "cell_type": "code",
   "execution_count": 0,
   "metadata": {
    "application/vnd.databricks.v1+cell": {
     "cellMetadata": {
      "byteLimit": 2048000,
      "implicitDf": true,
      "rowLimit": 10000
     },
     "inputWidgets": {},
     "nuid": "fd9dcd8c-5fe6-4bdf-84f0-7a2417045177",
     "showTitle": false,
     "tableResultSettingsMap": {},
     "title": ""
    }
   },
   "outputs": [
    {
     "output_type": "display_data",
     "data": {
      "text/html": [
       "<style scoped>\n",
       "  .table-result-container {\n",
       "    max-height: 300px;\n",
       "    overflow: auto;\n",
       "  }\n",
       "  table, th, td {\n",
       "    border: 1px solid black;\n",
       "    border-collapse: collapse;\n",
       "  }\n",
       "  th, td {\n",
       "    padding: 5px;\n",
       "  }\n",
       "  th {\n",
       "    text-align: left;\n",
       "  }\n",
       "</style><div class='table-result-container'><table class='table-result'><thead style='background-color: white'><tr><th>EmpID</th><th>Name</th><th>Bonus</th></tr></thead><tbody><tr><td>1</td><td>Joseph</td><td>5000.00</td></tr><tr><td>2</td><td>Anand</td><td>null</td></tr><tr><td>3</td><td>Anand</td><td>0.00</td></tr><tr><td>4</td><td>Robert</td><td>3000.00</td></tr><tr><td>5</td><td>Megha</td><td>null</td></tr><tr><td>6</td><td>Dravid</td><td>4500.00</td></tr><tr><td>7</td><td>Anand</td><td>0.00</td></tr></tbody></table></div>"
      ]
     },
     "metadata": {
      "application/vnd.databricks.v1+output": {
       "addedWidgets": {},
       "aggData": [],
       "aggError": "",
       "aggOverflow": false,
       "aggSchema": [],
       "aggSeriesLimitReached": false,
       "aggType": "",
       "arguments": {},
       "columnCustomDisplayInfos": {},
       "data": [
        [
         1,
         "Joseph",
         "5000.00"
        ],
        [
         2,
         "Anand",
         null
        ],
        [
         3,
         "Anand",
         "0.00"
        ],
        [
         4,
         "Robert",
         "3000.00"
        ],
        [
         5,
         "Megha",
         null
        ],
        [
         6,
         "Dravid",
         "4500.00"
        ],
        [
         7,
         "Anand",
         "0.00"
        ]
       ],
       "datasetInfos": [
        {
         "name": "_sqldf",
         "schema": {
          "fields": [
           {
            "metadata": {},
            "name": "EmpID",
            "nullable": true,
            "type": "integer"
           },
           {
            "metadata": {
             "__CHAR_VARCHAR_TYPE_STRING": "varchar(50)"
            },
            "name": "Name",
            "nullable": true,
            "type": "string"
           },
           {
            "metadata": {},
            "name": "Bonus",
            "nullable": true,
            "type": "decimal(10,2)"
           }
          ],
          "type": "struct"
         },
         "tableIdentifier": null,
         "typeStr": "pyspark.sql.connect.dataframe.DataFrame"
        }
       ],
       "dbfsResultPath": null,
       "isJsonSchema": true,
       "metadata": {
        "createTempViewForImplicitDf": true,
        "dataframeName": "_sqldf",
        "executionCount": 3
       },
       "overflow": false,
       "plotOptions": {
        "customPlotOptions": {},
        "displayType": "table",
        "pivotAggregation": null,
        "pivotColumns": null,
        "xColumns": null,
        "yColumns": null
       },
       "removedWidgets": [],
       "schema": [
        {
         "metadata": "{}",
         "name": "EmpID",
         "type": "\"integer\""
        },
        {
         "metadata": "{\"__CHAR_VARCHAR_TYPE_STRING\": \"varchar(50)\"}",
         "name": "Name",
         "type": "\"string\""
        },
        {
         "metadata": "{}",
         "name": "Bonus",
         "type": "\"decimal(10,2)\""
        }
       ],
       "type": "table"
      }
     },
     "output_type": "display_data"
    }
   ],
   "source": [
    "%sql\n",
    "DROP TABLE IF EXISTS tblEmployeesNotIsNull;\n",
    "CREATE TABLE tblEmployeesNotIsNull (\n",
    "    EmpID INT,\n",
    "    Name VARCHAR(50),\n",
    "    Bonus DECIMAL(10,2)\n",
    ");\n",
    "\n",
    "INSERT INTO tblEmployeesNotIsNull (EmpID, Name, Bonus) VALUES\n",
    "(1, 'Joseph', 5000.00),\n",
    "(2, 'Anand', NULL),\n",
    "(3, 'Anand', 0),\n",
    "(4, 'Robert', 3000.00),\n",
    "(5, 'Megha', NULL),\n",
    "(6, 'Dravid', 4500.00),\n",
    "(7, 'Anand', 0);\n",
    "\n",
    "SELECT * FROM tblEmployeesNotIsNull;"
   ]
  },
  {
   "cell_type": "markdown",
   "metadata": {
    "application/vnd.databricks.v1+cell": {
     "cellMetadata": {},
     "inputWidgets": {},
     "nuid": "96212562-fa84-4793-8fe9-9044149a5ef9",
     "showTitle": false,
     "tableResultSettingsMap": {},
     "title": ""
    }
   },
   "source": [
    "##### a) Using NOT ISNULL() in a WHERE clause\n",
    "- **ISNULL(Bonus, 0)** replaces **NULL with 0**.\n",
    "- **NOT ISNULL(Bonus, 0) = 0** means we are **excluding** rows where **Bonus is NULL or 0**."
   ]
  },
  {
   "cell_type": "code",
   "execution_count": 0,
   "metadata": {
    "application/vnd.databricks.v1+cell": {
     "cellMetadata": {
      "byteLimit": 2048000,
      "implicitDf": true,
      "rowLimit": 10000
     },
     "inputWidgets": {},
     "nuid": "e2c407ea-2c40-41a2-90b8-3ecf371c99cc",
     "showTitle": false,
     "tableResultSettingsMap": {},
     "title": ""
    }
   },
   "outputs": [
    {
     "output_type": "display_data",
     "data": {
      "text/html": [
       "<style scoped>\n",
       "  .table-result-container {\n",
       "    max-height: 300px;\n",
       "    overflow: auto;\n",
       "  }\n",
       "  table, th, td {\n",
       "    border: 1px solid black;\n",
       "    border-collapse: collapse;\n",
       "  }\n",
       "  th, td {\n",
       "    padding: 5px;\n",
       "  }\n",
       "  th {\n",
       "    text-align: left;\n",
       "  }\n",
       "</style><div class='table-result-container'><table class='table-result'><thead style='background-color: white'><tr><th>EmpID</th><th>Name</th><th>Bonus</th></tr></thead><tbody><tr><td>1</td><td>Joseph</td><td>5000.00</td></tr><tr><td>4</td><td>Robert</td><td>3000.00</td></tr><tr><td>6</td><td>Dravid</td><td>4500.00</td></tr></tbody></table></div>"
      ]
     },
     "metadata": {
      "application/vnd.databricks.v1+output": {
       "addedWidgets": {},
       "aggData": [],
       "aggError": "",
       "aggOverflow": false,
       "aggSchema": [],
       "aggSeriesLimitReached": false,
       "aggType": "",
       "arguments": {},
       "columnCustomDisplayInfos": {},
       "data": [
        [
         1,
         "Joseph",
         "5000.00"
        ],
        [
         4,
         "Robert",
         "3000.00"
        ],
        [
         6,
         "Dravid",
         "4500.00"
        ]
       ],
       "datasetInfos": [
        {
         "name": "_sqldf",
         "schema": {
          "fields": [
           {
            "metadata": {},
            "name": "EmpID",
            "nullable": true,
            "type": "integer"
           },
           {
            "metadata": {
             "__CHAR_VARCHAR_TYPE_STRING": "varchar(50)"
            },
            "name": "Name",
            "nullable": true,
            "type": "string"
           },
           {
            "metadata": {},
            "name": "Bonus",
            "nullable": true,
            "type": "decimal(10,2)"
           }
          ],
          "type": "struct"
         },
         "tableIdentifier": null,
         "typeStr": "pyspark.sql.connect.dataframe.DataFrame"
        }
       ],
       "dbfsResultPath": null,
       "isJsonSchema": true,
       "metadata": {
        "createTempViewForImplicitDf": true,
        "dataframeName": "_sqldf",
        "executionCount": 4
       },
       "overflow": false,
       "plotOptions": {
        "customPlotOptions": {},
        "displayType": "table",
        "pivotAggregation": null,
        "pivotColumns": null,
        "xColumns": null,
        "yColumns": null
       },
       "removedWidgets": [],
       "schema": [
        {
         "metadata": "{}",
         "name": "EmpID",
         "type": "\"integer\""
        },
        {
         "metadata": "{\"__CHAR_VARCHAR_TYPE_STRING\": \"varchar(50)\"}",
         "name": "Name",
         "type": "\"string\""
        },
        {
         "metadata": "{}",
         "name": "Bonus",
         "type": "\"decimal(10,2)\""
        }
       ],
       "type": "table"
      }
     },
     "output_type": "display_data"
    }
   ],
   "source": [
    "%sql\n",
    "SELECT *\n",
    "FROM tblEmployeesNotIsNull\n",
    "WHERE NOT IFNULL(Bonus, 0) = 0;"
   ]
  },
  {
   "cell_type": "code",
   "execution_count": 0,
   "metadata": {
    "application/vnd.databricks.v1+cell": {
     "cellMetadata": {
      "byteLimit": 2048000,
      "implicitDf": true,
      "rowLimit": 10000
     },
     "inputWidgets": {},
     "nuid": "1ad91433-4927-45c9-918e-753eaa485acb",
     "showTitle": false,
     "tableResultSettingsMap": {},
     "title": ""
    }
   },
   "outputs": [
    {
     "output_type": "display_data",
     "data": {
      "text/html": [
       "<style scoped>\n",
       "  .table-result-container {\n",
       "    max-height: 300px;\n",
       "    overflow: auto;\n",
       "  }\n",
       "  table, th, td {\n",
       "    border: 1px solid black;\n",
       "    border-collapse: collapse;\n",
       "  }\n",
       "  th, td {\n",
       "    padding: 5px;\n",
       "  }\n",
       "  th {\n",
       "    text-align: left;\n",
       "  }\n",
       "</style><div class='table-result-container'><table class='table-result'><thead style='background-color: white'><tr><th>EmpID</th><th>Name</th><th>Bonus</th></tr></thead><tbody><tr><td>2</td><td>Anand</td><td>null</td></tr><tr><td>3</td><td>Anand</td><td>0.00</td></tr><tr><td>5</td><td>Megha</td><td>null</td></tr><tr><td>7</td><td>Anand</td><td>0.00</td></tr></tbody></table></div>"
      ]
     },
     "metadata": {
      "application/vnd.databricks.v1+output": {
       "addedWidgets": {},
       "aggData": [],
       "aggError": "",
       "aggOverflow": false,
       "aggSchema": [],
       "aggSeriesLimitReached": false,
       "aggType": "",
       "arguments": {},
       "columnCustomDisplayInfos": {},
       "data": [
        [
         2,
         "Anand",
         null
        ],
        [
         3,
         "Anand",
         "0.00"
        ],
        [
         5,
         "Megha",
         null
        ],
        [
         7,
         "Anand",
         "0.00"
        ]
       ],
       "datasetInfos": [
        {
         "name": "_sqldf",
         "schema": {
          "fields": [
           {
            "metadata": {},
            "name": "EmpID",
            "nullable": true,
            "type": "integer"
           },
           {
            "metadata": {
             "__CHAR_VARCHAR_TYPE_STRING": "varchar(50)"
            },
            "name": "Name",
            "nullable": true,
            "type": "string"
           },
           {
            "metadata": {},
            "name": "Bonus",
            "nullable": true,
            "type": "decimal(10,2)"
           }
          ],
          "type": "struct"
         },
         "tableIdentifier": null,
         "typeStr": "pyspark.sql.connect.dataframe.DataFrame"
        }
       ],
       "dbfsResultPath": null,
       "isJsonSchema": true,
       "metadata": {
        "createTempViewForImplicitDf": true,
        "dataframeName": "_sqldf",
        "executionCount": 8
       },
       "overflow": false,
       "plotOptions": {
        "customPlotOptions": {},
        "displayType": "table",
        "pivotAggregation": null,
        "pivotColumns": null,
        "xColumns": null,
        "yColumns": null
       },
       "removedWidgets": [],
       "schema": [
        {
         "metadata": "{}",
         "name": "EmpID",
         "type": "\"integer\""
        },
        {
         "metadata": "{\"__CHAR_VARCHAR_TYPE_STRING\": \"varchar(50)\"}",
         "name": "Name",
         "type": "\"string\""
        },
        {
         "metadata": "{}",
         "name": "Bonus",
         "type": "\"decimal(10,2)\""
        }
       ],
       "type": "table"
      }
     },
     "output_type": "display_data"
    }
   ],
   "source": [
    "%sql\n",
    "SELECT *\n",
    "FROM tblEmployeesNotIsNull\n",
    "WHERE IFNULL(Bonus, 0) = 0;"
   ]
  },
  {
   "cell_type": "markdown",
   "metadata": {
    "application/vnd.databricks.v1+cell": {
     "cellMetadata": {},
     "inputWidgets": {},
     "nuid": "730144a9-363e-48b2-b11e-00e02ead1817",
     "showTitle": false,
     "tableResultSettingsMap": {},
     "title": ""
    }
   },
   "source": [
    "##### b) Count rows with non-null and non-zero Bonus"
   ]
  },
  {
   "cell_type": "code",
   "execution_count": 0,
   "metadata": {
    "application/vnd.databricks.v1+cell": {
     "cellMetadata": {
      "byteLimit": 2048000,
      "implicitDf": true,
      "rowLimit": 10000
     },
     "inputWidgets": {},
     "nuid": "b8a7cabe-a074-4431-b1be-18ac4966d939",
     "showTitle": false,
     "tableResultSettingsMap": {},
     "title": ""
    }
   },
   "outputs": [
    {
     "output_type": "display_data",
     "data": {
      "text/html": [
       "<style scoped>\n",
       "  .table-result-container {\n",
       "    max-height: 300px;\n",
       "    overflow: auto;\n",
       "  }\n",
       "  table, th, td {\n",
       "    border: 1px solid black;\n",
       "    border-collapse: collapse;\n",
       "  }\n",
       "  th, td {\n",
       "    padding: 5px;\n",
       "  }\n",
       "  th {\n",
       "    text-align: left;\n",
       "  }\n",
       "</style><div class='table-result-container'><table class='table-result'><thead style='background-color: white'><tr><th>CountValidBonus</th></tr></thead><tbody><tr><td>3</td></tr></tbody></table></div>"
      ]
     },
     "metadata": {
      "application/vnd.databricks.v1+output": {
       "addedWidgets": {},
       "aggData": [],
       "aggError": "",
       "aggOverflow": false,
       "aggSchema": [],
       "aggSeriesLimitReached": false,
       "aggType": "",
       "arguments": {},
       "columnCustomDisplayInfos": {},
       "data": [
        [
         3
        ]
       ],
       "datasetInfos": [
        {
         "name": "_sqldf",
         "schema": {
          "fields": [
           {
            "metadata": {},
            "name": "CountValidBonus",
            "nullable": false,
            "type": "long"
           }
          ],
          "type": "struct"
         },
         "tableIdentifier": null,
         "typeStr": "pyspark.sql.connect.dataframe.DataFrame"
        }
       ],
       "dbfsResultPath": null,
       "isJsonSchema": true,
       "metadata": {
        "createTempViewForImplicitDf": true,
        "dataframeName": "_sqldf",
        "executionCount": 10
       },
       "overflow": false,
       "plotOptions": {
        "customPlotOptions": {},
        "displayType": "table",
        "pivotAggregation": null,
        "pivotColumns": null,
        "xColumns": null,
        "yColumns": null
       },
       "removedWidgets": [],
       "schema": [
        {
         "metadata": "{}",
         "name": "CountValidBonus",
         "type": "\"long\""
        }
       ],
       "type": "table"
      }
     },
     "output_type": "display_data"
    }
   ],
   "source": [
    "%sql\n",
    "SELECT COUNT(*) AS CountValidBonus\n",
    "FROM tblEmployeesNotIsNull\n",
    "WHERE NOT IFNULL(Bonus, 0) = 0;"
   ]
  },
  {
   "cell_type": "code",
   "execution_count": 0,
   "metadata": {
    "application/vnd.databricks.v1+cell": {
     "cellMetadata": {
      "byteLimit": 2048000,
      "implicitDf": true,
      "rowLimit": 10000
     },
     "inputWidgets": {},
     "nuid": "a02a4014-6eec-4768-9f44-285b8cf79d6e",
     "showTitle": false,
     "tableResultSettingsMap": {},
     "title": ""
    }
   },
   "outputs": [
    {
     "output_type": "display_data",
     "data": {
      "text/html": [
       "<style scoped>\n",
       "  .table-result-container {\n",
       "    max-height: 300px;\n",
       "    overflow: auto;\n",
       "  }\n",
       "  table, th, td {\n",
       "    border: 1px solid black;\n",
       "    border-collapse: collapse;\n",
       "  }\n",
       "  th, td {\n",
       "    padding: 5px;\n",
       "  }\n",
       "  th {\n",
       "    text-align: left;\n",
       "  }\n",
       "</style><div class='table-result-container'><table class='table-result'><thead style='background-color: white'><tr><th>CountValidBonus</th></tr></thead><tbody><tr><td>4</td></tr></tbody></table></div>"
      ]
     },
     "metadata": {
      "application/vnd.databricks.v1+output": {
       "addedWidgets": {},
       "aggData": [],
       "aggError": "",
       "aggOverflow": false,
       "aggSchema": [],
       "aggSeriesLimitReached": false,
       "aggType": "",
       "arguments": {},
       "columnCustomDisplayInfos": {},
       "data": [
        [
         4
        ]
       ],
       "datasetInfos": [
        {
         "name": "_sqldf",
         "schema": {
          "fields": [
           {
            "metadata": {},
            "name": "CountValidBonus",
            "nullable": false,
            "type": "long"
           }
          ],
          "type": "struct"
         },
         "tableIdentifier": null,
         "typeStr": "pyspark.sql.connect.dataframe.DataFrame"
        }
       ],
       "dbfsResultPath": null,
       "isJsonSchema": true,
       "metadata": {
        "createTempViewForImplicitDf": true,
        "dataframeName": "_sqldf",
        "executionCount": 11
       },
       "overflow": false,
       "plotOptions": {
        "customPlotOptions": {},
        "displayType": "table",
        "pivotAggregation": null,
        "pivotColumns": null,
        "xColumns": null,
        "yColumns": null
       },
       "removedWidgets": [],
       "schema": [
        {
         "metadata": "{}",
         "name": "CountValidBonus",
         "type": "\"long\""
        }
       ],
       "type": "table"
      }
     },
     "output_type": "display_data"
    }
   ],
   "source": [
    "%sql\n",
    "SELECT COUNT(*) AS CountValidBonus\n",
    "FROM tblEmployeesNotIsNull\n",
    "WHERE IFNULL(Bonus, 0) = 0;"
   ]
  },
  {
   "cell_type": "markdown",
   "metadata": {
    "application/vnd.databricks.v1+cell": {
     "cellMetadata": {},
     "inputWidgets": {},
     "nuid": "edf11a7b-615a-44ad-a39c-f9f4d02353ff",
     "showTitle": false,
     "tableResultSettingsMap": {},
     "title": ""
    }
   },
   "source": [
    "##### c) Filtering rows that have an actual value (non-zero)\n",
    "- Returns only **employees** whose **bonus is greater than or equal to 1** after replacing **NULLs with 0**."
   ]
  },
  {
   "cell_type": "code",
   "execution_count": 0,
   "metadata": {
    "application/vnd.databricks.v1+cell": {
     "cellMetadata": {
      "byteLimit": 2048000,
      "implicitDf": true,
      "rowLimit": 10000
     },
     "inputWidgets": {},
     "nuid": "7362a3b7-6e3f-4041-ac11-be08f878f705",
     "showTitle": false,
     "tableResultSettingsMap": {},
     "title": ""
    }
   },
   "outputs": [
    {
     "output_type": "display_data",
     "data": {
      "text/html": [
       "<style scoped>\n",
       "  .table-result-container {\n",
       "    max-height: 300px;\n",
       "    overflow: auto;\n",
       "  }\n",
       "  table, th, td {\n",
       "    border: 1px solid black;\n",
       "    border-collapse: collapse;\n",
       "  }\n",
       "  th, td {\n",
       "    padding: 5px;\n",
       "  }\n",
       "  th {\n",
       "    text-align: left;\n",
       "  }\n",
       "</style><div class='table-result-container'><table class='table-result'><thead style='background-color: white'><tr><th>EmpID</th><th>Name</th><th>Bonus</th></tr></thead><tbody><tr><td>1</td><td>Joseph</td><td>5000.00</td></tr><tr><td>3</td><td>Robert</td><td>3000.00</td></tr><tr><td>5</td><td>Dravid</td><td>4500.00</td></tr></tbody></table></div>"
      ]
     },
     "metadata": {
      "application/vnd.databricks.v1+output": {
       "addedWidgets": {},
       "aggData": [],
       "aggError": "",
       "aggOverflow": false,
       "aggSchema": [],
       "aggSeriesLimitReached": false,
       "aggType": "",
       "arguments": {},
       "columnCustomDisplayInfos": {},
       "data": [
        [
         1,
         "Joseph",
         "5000.00"
        ],
        [
         3,
         "Robert",
         "3000.00"
        ],
        [
         5,
         "Dravid",
         "4500.00"
        ]
       ],
       "datasetInfos": [
        {
         "name": "_sqldf",
         "schema": {
          "fields": [
           {
            "metadata": {},
            "name": "EmpID",
            "nullable": false,
            "type": "integer"
           },
           {
            "metadata": {
             "__CHAR_VARCHAR_TYPE_STRING": "varchar(50)"
            },
            "name": "Name",
            "nullable": true,
            "type": "string"
           },
           {
            "metadata": {},
            "name": "Bonus",
            "nullable": true,
            "type": "decimal(10,2)"
           }
          ],
          "type": "struct"
         },
         "tableIdentifier": null,
         "typeStr": "pyspark.sql.connect.dataframe.DataFrame"
        }
       ],
       "dbfsResultPath": null,
       "isJsonSchema": true,
       "metadata": {
        "createTempViewForImplicitDf": true,
        "dataframeName": "_sqldf",
        "executionCount": 9
       },
       "overflow": false,
       "plotOptions": {
        "customPlotOptions": {},
        "displayType": "table",
        "pivotAggregation": null,
        "pivotColumns": null,
        "xColumns": null,
        "yColumns": null
       },
       "removedWidgets": [],
       "schema": [
        {
         "metadata": "{}",
         "name": "EmpID",
         "type": "\"integer\""
        },
        {
         "metadata": "{\"__CHAR_VARCHAR_TYPE_STRING\": \"varchar(50)\"}",
         "name": "Name",
         "type": "\"string\""
        },
        {
         "metadata": "{}",
         "name": "Bonus",
         "type": "\"decimal(10,2)\""
        }
       ],
       "type": "table"
      }
     },
     "output_type": "display_data"
    }
   ],
   "source": [
    "%sql\n",
    "SELECT *\n",
    "FROM tblEmployeesNotIsNull\n",
    "WHERE NOT IFNULL(Bonus, 0) < 1;"
   ]
  }
 ],
 "metadata": {
  "application/vnd.databricks.v1+notebook": {
   "computePreferences": {
    "hardware": {
     "accelerator": null,
     "gpuPoolId": null,
     "memory": null
    }
   },
   "dashboards": [],
   "environmentMetadata": {
    "base_environment": "",
    "environment_version": "2"
   },
   "inputWidgetPreferences": null,
   "language": "python",
   "notebookMetadata": {
    "mostRecentlyExecutedCommandWithImplicitDF": {
     "commandId": 7919536332480725,
     "dataframes": [
      "_sqldf"
     ]
    },
    "pythonIndentUnit": 4
   },
   "notebookName": "17_Replace Nulls using ISNULL()_IFNULL()_NOT ISNULL() | SQL SERVER",
   "widgets": {}
  },
  "language_info": {
   "name": "python"
  }
 },
 "nbformat": 4,
 "nbformat_minor": 0
}