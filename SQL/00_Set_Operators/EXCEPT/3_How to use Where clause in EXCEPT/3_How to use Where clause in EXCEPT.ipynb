{
 "cells": [
  {
   "cell_type": "markdown",
   "metadata": {
    "application/vnd.databricks.v1+cell": {
     "cellMetadata": {},
     "inputWidgets": {},
     "nuid": "883f94b4-d95c-47c5-8195-7261024c80f7",
     "showTitle": false,
     "tableResultSettingsMap": {},
     "title": ""
    }
   },
   "source": [
    "**1) Using WHERE clause in Except**\n",
    "\n",
    "**a) How to use Except operator on a single table?**"
   ]
  },
  {
   "cell_type": "code",
   "execution_count": 0,
   "metadata": {
    "application/vnd.databricks.v1+cell": {
     "cellMetadata": {
      "byteLimit": 2048000,
      "implicitDf": true,
      "rowLimit": 10000
     },
     "inputWidgets": {},
     "nuid": "cc5ffb6a-bd51-45bc-a5cf-83cd1c542aa6",
     "showTitle": false,
     "tableResultSettingsMap": {},
     "title": ""
    }
   },
   "outputs": [
    {
     "output_type": "display_data",
     "data": {
      "text/html": [
       "<style scoped>\n",
       "  .table-result-container {\n",
       "    max-height: 300px;\n",
       "    overflow: auto;\n",
       "  }\n",
       "  table, th, td {\n",
       "    border: 1px solid black;\n",
       "    border-collapse: collapse;\n",
       "  }\n",
       "  th, td {\n",
       "    padding: 5px;\n",
       "  }\n",
       "  th {\n",
       "    text-align: left;\n",
       "  }\n",
       "</style><div class='table-result-container'><table class='table-result'><thead style='background-color: white'><tr><th>EmployeeID</th><th>Name</th><th>Gender</th><th>Salary</th><th>Category</th></tr></thead><tbody><tr><td>101</td><td>Murali</td><td>M</td><td>52000</td><td>High</td></tr><tr><td>102</td><td>Stephy</td><td>F</td><td>55000</td><td>Low</td></tr><tr><td>103</td><td>Senthil</td><td>M</td><td>45000</td><td>Medium</td></tr><tr><td>104</td><td>Janardan</td><td>M</td><td>40000</td><td>Average</td></tr><tr><td>105</td><td>Sandhya</td><td>F</td><td>48000</td><td>Low</td></tr><tr><td>106</td><td>Vasavi</td><td>F</td><td>60000</td><td>High</td></tr><tr><td>107</td><td>Tarun</td><td>M</td><td>58000</td><td>Medium</td></tr><tr><td>108</td><td>Ganapathy</td><td>M</td><td>65000</td><td>Average</td></tr><tr><td>109</td><td>Trisha</td><td>F</td><td>67000</td><td>High</td></tr><tr><td>110</td><td>Balu</td><td>M</td><td>80000</td><td>Low</td></tr></tbody></table></div>"
      ]
     },
     "metadata": {
      "application/vnd.databricks.v1+output": {
       "addedWidgets": {},
       "aggData": [],
       "aggError": "",
       "aggOverflow": false,
       "aggSchema": [],
       "aggSeriesLimitReached": false,
       "aggType": "",
       "arguments": {},
       "columnCustomDisplayInfos": {},
       "data": [
        [
         101,
         "Murali",
         "M",
         52000,
         "High"
        ],
        [
         102,
         "Stephy",
         "F",
         55000,
         "Low"
        ],
        [
         103,
         "Senthil",
         "M",
         45000,
         "Medium"
        ],
        [
         104,
         "Janardan",
         "M",
         40000,
         "Average"
        ],
        [
         105,
         "Sandhya",
         "F",
         48000,
         "Low"
        ],
        [
         106,
         "Vasavi",
         "F",
         60000,
         "High"
        ],
        [
         107,
         "Tarun",
         "M",
         58000,
         "Medium"
        ],
        [
         108,
         "Ganapathy",
         "M",
         65000,
         "Average"
        ],
        [
         109,
         "Trisha",
         "F",
         67000,
         "High"
        ],
        [
         110,
         "Balu",
         "M",
         80000,
         "Low"
        ]
       ],
       "datasetInfos": [],
       "dbfsResultPath": null,
       "isJsonSchema": true,
       "metadata": {
        "createTempViewForImplicitDf": true,
        "dataframeName": "_sqldf",
        "executionCount": 2
       },
       "overflow": false,
       "plotOptions": {
        "customPlotOptions": {},
        "displayType": "table",
        "pivotAggregation": null,
        "pivotColumns": null,
        "xColumns": null,
        "yColumns": null
       },
       "removedWidgets": [],
       "schema": [
        {
         "metadata": "{}",
         "name": "EmployeeID",
         "type": "\"integer\""
        },
        {
         "metadata": "{\"__CHAR_VARCHAR_TYPE_STRING\":\"varchar(40)\"}",
         "name": "Name",
         "type": "\"string\""
        },
        {
         "metadata": "{\"__CHAR_VARCHAR_TYPE_STRING\":\"varchar(5)\"}",
         "name": "Gender",
         "type": "\"string\""
        },
        {
         "metadata": "{}",
         "name": "Salary",
         "type": "\"integer\""
        },
        {
         "metadata": "{\"__CHAR_VARCHAR_TYPE_STRING\":\"varchar(20)\"}",
         "name": "Category",
         "type": "\"string\""
        }
       ],
       "type": "table"
      }
     },
     "output_type": "display_data"
    }
   ],
   "source": [
    "%sql\n",
    "DROP TABLE IF EXISTS Except_tblSingleEmployees;\n",
    "\n",
    "Create table Except_tblSingleEmployees\n",
    "(\n",
    " EmployeeID int,\n",
    " Name VARCHAR(40),\n",
    " Gender VARCHAR(5),\n",
    " Salary INT,\n",
    " Category VARCHAR(20)\n",
    ");\n",
    "\n",
    "INSERT INTO Except_tblSingleEmployees VALUES (101, 'Murali', 'M', 52000, \"High\");\n",
    "INSERT INTO Except_tblSingleEmployees VALUES (102, 'Stephy', 'F', 55000, \"Low\");\n",
    "INSERT INTO Except_tblSingleEmployees VALUES (103, 'Senthil', 'M', 45000, \"Medium\");\n",
    "INSERT INTO Except_tblSingleEmployees VALUES (104, 'Janardan', 'M', 40000, \"Average\");\n",
    "INSERT INTO Except_tblSingleEmployees VALUES (105, 'Sandhya', 'F', 48000, \"Low\");\n",
    "INSERT INTO Except_tblSingleEmployees VALUES (106, 'Vasavi', 'F', 60000, \"High\");\n",
    "INSERT INTO Except_tblSingleEmployees VALUES (107, 'Tarun', 'M', 58000, \"Medium\");\n",
    "INSERT INTO Except_tblSingleEmployees VALUES (108, 'Ganapathy', 'M', 65000, \"Average\");\n",
    "INSERT INTO Except_tblSingleEmployees VALUES (109, 'Trisha', 'F', 67000, \"High\");\n",
    "INSERT INTO Except_tblSingleEmployees VALUES (110, 'Balu', 'M', 80000, \"Low\");\n",
    "\n",
    "SELECT * FROM Except_tblSingleEmployees ORDER BY EmployeeID;"
   ]
  },
  {
   "cell_type": "code",
   "execution_count": 0,
   "metadata": {
    "application/vnd.databricks.v1+cell": {
     "cellMetadata": {
      "byteLimit": 2048000,
      "implicitDf": true,
      "rowLimit": 10000
     },
     "inputWidgets": {},
     "nuid": "944846d6-c34e-40fa-97de-7bff2c2fec9c",
     "showTitle": false,
     "tableResultSettingsMap": {},
     "title": ""
    }
   },
   "outputs": [
    {
     "output_type": "display_data",
     "data": {
      "text/html": [
       "<style scoped>\n",
       "  .table-result-container {\n",
       "    max-height: 300px;\n",
       "    overflow: auto;\n",
       "  }\n",
       "  table, th, td {\n",
       "    border: 1px solid black;\n",
       "    border-collapse: collapse;\n",
       "  }\n",
       "  th, td {\n",
       "    padding: 5px;\n",
       "  }\n",
       "  th {\n",
       "    text-align: left;\n",
       "  }\n",
       "</style><div class='table-result-container'><table class='table-result'><thead style='background-color: white'><tr><th>EmployeeID</th><th>Name</th><th>Gender</th><th>Salary</th><th>Category</th></tr></thead><tbody><tr><td>101</td><td>Murali</td><td>M</td><td>52000</td><td>High</td></tr><tr><td>102</td><td>Stephy</td><td>F</td><td>55000</td><td>Low</td></tr><tr><td>107</td><td>Tarun</td><td>M</td><td>58000</td><td>Medium</td></tr></tbody></table></div>"
      ]
     },
     "metadata": {
      "application/vnd.databricks.v1+output": {
       "addedWidgets": {},
       "aggData": [],
       "aggError": "",
       "aggOverflow": false,
       "aggSchema": [],
       "aggSeriesLimitReached": false,
       "aggType": "",
       "arguments": {},
       "columnCustomDisplayInfos": {},
       "data": [
        [
         101,
         "Murali",
         "M",
         52000,
         "High"
        ],
        [
         102,
         "Stephy",
         "F",
         55000,
         "Low"
        ],
        [
         107,
         "Tarun",
         "M",
         58000,
         "Medium"
        ]
       ],
       "datasetInfos": [],
       "dbfsResultPath": null,
       "isJsonSchema": true,
       "metadata": {
        "createTempViewForImplicitDf": true,
        "dataframeName": "_sqldf",
        "executionCount": 7
       },
       "overflow": false,
       "plotOptions": {
        "customPlotOptions": {},
        "displayType": "table",
        "pivotAggregation": null,
        "pivotColumns": null,
        "xColumns": null,
        "yColumns": null
       },
       "removedWidgets": [],
       "schema": [
        {
         "metadata": "{}",
         "name": "EmployeeID",
         "type": "\"integer\""
        },
        {
         "metadata": "{\"__CHAR_VARCHAR_TYPE_STRING\":\"varchar(40)\"}",
         "name": "Name",
         "type": "\"string\""
        },
        {
         "metadata": "{\"__CHAR_VARCHAR_TYPE_STRING\":\"varchar(5)\"}",
         "name": "Gender",
         "type": "\"string\""
        },
        {
         "metadata": "{}",
         "name": "Salary",
         "type": "\"integer\""
        },
        {
         "metadata": "{\"__CHAR_VARCHAR_TYPE_STRING\":\"varchar(20)\"}",
         "name": "Category",
         "type": "\"string\""
        }
       ],
       "type": "table"
      }
     },
     "output_type": "display_data"
    }
   ],
   "source": [
    "%sql\n",
    "SELECT EmployeeID, Name, Gender, Salary, Category \n",
    "FROM Except_tblSingleEmployees\n",
    "WHERE Salary >= 50000\n",
    "EXCEPT\n",
    "SELECT EmployeeID, Name, Gender, Salary, Category\n",
    "FROM Except_tblSingleEmployees\n",
    "WHERE Salary >= 60000\n",
    "ORDER BY EmployeeID;"
   ]
  },
  {
   "cell_type": "markdown",
   "metadata": {
    "application/vnd.databricks.v1+cell": {
     "cellMetadata": {},
     "inputWidgets": {},
     "nuid": "3485f177-d03b-42d5-96b3-740215f26a69",
     "showTitle": false,
     "tableResultSettingsMap": {},
     "title": ""
    }
   },
   "source": [
    "**b) EXCEPT with BETWEEN Operator**"
   ]
  },
  {
   "cell_type": "code",
   "execution_count": 0,
   "metadata": {
    "application/vnd.databricks.v1+cell": {
     "cellMetadata": {
      "byteLimit": 2048000,
      "implicitDf": true,
      "rowLimit": 10000
     },
     "inputWidgets": {},
     "nuid": "4adc6d3b-d1eb-4090-945a-9d9d1a89ac62",
     "showTitle": false,
     "tableResultSettingsMap": {},
     "title": ""
    }
   },
   "outputs": [
    {
     "output_type": "display_data",
     "data": {
      "text/html": [
       "<style scoped>\n",
       "  .table-result-container {\n",
       "    max-height: 300px;\n",
       "    overflow: auto;\n",
       "  }\n",
       "  table, th, td {\n",
       "    border: 1px solid black;\n",
       "    border-collapse: collapse;\n",
       "  }\n",
       "  th, td {\n",
       "    padding: 5px;\n",
       "  }\n",
       "  th {\n",
       "    text-align: left;\n",
       "  }\n",
       "</style><div class='table-result-container'><table class='table-result'><thead style='background-color: white'><tr><th>ID</th><th>NAME</th><th>SUBJECT</th><th>AGE</th><th>HOBBY</th></tr></thead><tbody><tr><td>1</td><td>Naina</td><td>Maths</td><td>24</td><td>Cricket</td></tr><tr><td>2</td><td>Varun</td><td>Physics</td><td>26</td><td>Football</td></tr><tr><td>3</td><td>Dev</td><td>Maths</td><td>23</td><td>Cricket</td></tr><tr><td>4</td><td>Priya</td><td>Physics</td><td>25</td><td>Cricket</td></tr><tr><td>5</td><td>Aditya</td><td>Chemistry</td><td>21</td><td>Cricket</td></tr><tr><td>6</td><td>Kalyan</td><td>Maths</td><td>30</td><td>Football</td></tr><tr><td>7</td><td>Aditya</td><td>Chemistry</td><td>21</td><td>Cricket</td></tr><tr><td>8</td><td>Kalyan</td><td>Chemistry</td><td>32</td><td>Cricket</td></tr></tbody></table></div>"
      ]
     },
     "metadata": {
      "application/vnd.databricks.v1+output": {
       "addedWidgets": {},
       "aggData": [],
       "aggError": "",
       "aggOverflow": false,
       "aggSchema": [],
       "aggSeriesLimitReached": false,
       "aggType": "",
       "arguments": {},
       "columnCustomDisplayInfos": {},
       "data": [
        [
         1,
         "Naina",
         "Maths",
         24,
         "Cricket"
        ],
        [
         2,
         "Varun",
         "Physics",
         26,
         "Football"
        ],
        [
         3,
         "Dev",
         "Maths",
         23,
         "Cricket"
        ],
        [
         4,
         "Priya",
         "Physics",
         25,
         "Cricket"
        ],
        [
         5,
         "Aditya",
         "Chemistry",
         21,
         "Cricket"
        ],
        [
         6,
         "Kalyan",
         "Maths",
         30,
         "Football"
        ],
        [
         7,
         "Aditya",
         "Chemistry",
         21,
         "Cricket"
        ],
        [
         8,
         "Kalyan",
         "Chemistry",
         32,
         "Cricket"
        ]
       ],
       "datasetInfos": [],
       "dbfsResultPath": null,
       "isJsonSchema": true,
       "metadata": {
        "createTempViewForImplicitDf": true,
        "dataframeName": "_sqldf",
        "executionCount": 8
       },
       "overflow": false,
       "plotOptions": {
        "customPlotOptions": {},
        "displayType": "table",
        "pivotAggregation": null,
        "pivotColumns": null,
        "xColumns": null,
        "yColumns": null
       },
       "removedWidgets": [],
       "schema": [
        {
         "metadata": "{}",
         "name": "ID",
         "type": "\"integer\""
        },
        {
         "metadata": "{\"__CHAR_VARCHAR_TYPE_STRING\":\"varchar(20)\"}",
         "name": "NAME",
         "type": "\"string\""
        },
        {
         "metadata": "{\"__CHAR_VARCHAR_TYPE_STRING\":\"varchar(20)\"}",
         "name": "SUBJECT",
         "type": "\"string\""
        },
        {
         "metadata": "{}",
         "name": "AGE",
         "type": "\"integer\""
        },
        {
         "metadata": "{\"__CHAR_VARCHAR_TYPE_STRING\":\"varchar(20)\"}",
         "name": "HOBBY",
         "type": "\"string\""
        }
       ],
       "type": "table"
      }
     },
     "output_type": "display_data"
    }
   ],
   "source": [
    "%sql\n",
    "DROP TABLE IF EXISTS tbl_students;\n",
    "\n",
    "CREATE TABLE tbl_students(\n",
    "   ID INT NOT NULL, \n",
    "   NAME VARCHAR(20) NOT NULL, \n",
    "   SUBJECT VARCHAR(20) NOT NULL, \n",
    "   AGE INT NOT NULL, \n",
    "   HOBBY VARCHAR(20) NOT NULL\n",
    ");\n",
    "\n",
    "INSERT INTO tbl_students VALUES\n",
    "(1, 'Naina', 'Maths', 24, 'Cricket'),\n",
    "(2, 'Varun', 'Physics', 26, 'Football'),\n",
    "(3, 'Dev', 'Maths', 23, 'Cricket'),\n",
    "(4, 'Priya', 'Physics', 25, 'Cricket'),\n",
    "(5, 'Aditya', 'Chemistry', 21, 'Cricket'),\n",
    "(6, 'Kalyan', 'Maths', 30, 'Football'),\n",
    "(7, 'Aditya', 'Chemistry', 21, 'Cricket'),\n",
    "(8, 'Kalyan', 'Chemistry', 32, 'Cricket');\n",
    "\n",
    "SELECT * FROM tbl_students;"
   ]
  },
  {
   "cell_type": "code",
   "execution_count": 0,
   "metadata": {
    "application/vnd.databricks.v1+cell": {
     "cellMetadata": {
      "byteLimit": 2048000,
      "implicitDf": true,
      "rowLimit": 10000
     },
     "inputWidgets": {},
     "nuid": "f6871779-e755-4c60-9da8-c67400fb5237",
     "showTitle": false,
     "tableResultSettingsMap": {},
     "title": ""
    }
   },
   "outputs": [
    {
     "output_type": "display_data",
     "data": {
      "text/html": [
       "<style scoped>\n",
       "  .table-result-container {\n",
       "    max-height: 300px;\n",
       "    overflow: auto;\n",
       "  }\n",
       "  table, th, td {\n",
       "    border: 1px solid black;\n",
       "    border-collapse: collapse;\n",
       "  }\n",
       "  th, td {\n",
       "    padding: 5px;\n",
       "  }\n",
       "  th {\n",
       "    text-align: left;\n",
       "  }\n",
       "</style><div class='table-result-container'><table class='table-result'><thead style='background-color: white'><tr><th>ID</th><th>NAME</th><th>HOBBY</th><th>AGE</th></tr></thead><tbody><tr><td>1</td><td>Vijay</td><td>Cricket</td><td>18</td></tr><tr><td>2</td><td>Varun</td><td>Football</td><td>26</td></tr><tr><td>3</td><td>Surya</td><td>Cricket</td><td>19</td></tr><tr><td>4</td><td>Karthik</td><td>Cricket</td><td>25</td></tr><tr><td>5</td><td>Sunny</td><td>Football</td><td>26</td></tr><tr><td>6</td><td>Dev</td><td>Cricket</td><td>23</td></tr></tbody></table></div>"
      ]
     },
     "metadata": {
      "application/vnd.databricks.v1+output": {
       "addedWidgets": {},
       "aggData": [],
       "aggError": "",
       "aggOverflow": false,
       "aggSchema": [],
       "aggSeriesLimitReached": false,
       "aggType": "",
       "arguments": {},
       "columnCustomDisplayInfos": {},
       "data": [
        [
         1,
         "Vijay",
         "Cricket",
         18
        ],
        [
         2,
         "Varun",
         "Football",
         26
        ],
        [
         3,
         "Surya",
         "Cricket",
         19
        ],
        [
         4,
         "Karthik",
         "Cricket",
         25
        ],
        [
         5,
         "Sunny",
         "Football",
         26
        ],
        [
         6,
         "Dev",
         "Cricket",
         23
        ]
       ],
       "datasetInfos": [],
       "dbfsResultPath": null,
       "isJsonSchema": true,
       "metadata": {
        "createTempViewForImplicitDf": true,
        "dataframeName": "_sqldf",
        "executionCount": 9
       },
       "overflow": false,
       "plotOptions": {
        "customPlotOptions": {},
        "displayType": "table",
        "pivotAggregation": null,
        "pivotColumns": null,
        "xColumns": null,
        "yColumns": null
       },
       "removedWidgets": [],
       "schema": [
        {
         "metadata": "{}",
         "name": "ID",
         "type": "\"integer\""
        },
        {
         "metadata": "{\"__CHAR_VARCHAR_TYPE_STRING\":\"varchar(20)\"}",
         "name": "NAME",
         "type": "\"string\""
        },
        {
         "metadata": "{\"__CHAR_VARCHAR_TYPE_STRING\":\"varchar(20)\"}",
         "name": "HOBBY",
         "type": "\"string\""
        },
        {
         "metadata": "{}",
         "name": "AGE",
         "type": "\"integer\""
        }
       ],
       "type": "table"
      }
     },
     "output_type": "display_data"
    }
   ],
   "source": [
    "%sql\n",
    "DROP TABLE IF EXISTS tbl_students_hobby;\n",
    "\n",
    "CREATE TABLE tbl_students_hobby(\n",
    "   ID INT NOT NULL, \n",
    "   NAME VARCHAR(20) NOT NULL, \n",
    "   HOBBY VARCHAR(20) NOT NULL, \n",
    "   AGE INT NOT NULL\n",
    ");\n",
    "\n",
    "INSERT INTO tbl_students_hobby VALUES\n",
    "(1, 'Vijay', 'Cricket', 18),\n",
    "(2, 'Varun', 'Football', 26),\n",
    "(3, 'Surya', 'Cricket', 19),\n",
    "(4, 'Karthik', 'Cricket', 25),\n",
    "(5, 'Sunny', 'Football', 26),\n",
    "(6, 'Dev', 'Cricket', 23);\n",
    "\n",
    "SELECT * FROM tbl_students_hobby;"
   ]
  },
  {
   "cell_type": "code",
   "execution_count": 0,
   "metadata": {
    "application/vnd.databricks.v1+cell": {
     "cellMetadata": {
      "byteLimit": 2048000,
      "implicitDf": true,
      "rowLimit": 10000
     },
     "inputWidgets": {},
     "nuid": "d62d8127-e04e-4687-a349-ee5f626b63ab",
     "showTitle": false,
     "tableResultSettingsMap": {},
     "title": ""
    }
   },
   "outputs": [
    {
     "output_type": "display_data",
     "data": {
      "text/html": [
       "<style scoped>\n",
       "  .table-result-container {\n",
       "    max-height: 300px;\n",
       "    overflow: auto;\n",
       "  }\n",
       "  table, th, td {\n",
       "    border: 1px solid black;\n",
       "    border-collapse: collapse;\n",
       "  }\n",
       "  th, td {\n",
       "    padding: 5px;\n",
       "  }\n",
       "  th {\n",
       "    text-align: left;\n",
       "  }\n",
       "</style><div class='table-result-container'><table class='table-result'><thead style='background-color: white'><tr><th>NAME</th><th>HOBBY</th><th>AGE</th></tr></thead><tbody><tr><td>Kalyan</td><td>Football</td><td>30</td></tr><tr><td>Aditya</td><td>Cricket</td><td>21</td></tr><tr><td>Priya</td><td>Cricket</td><td>25</td></tr><tr><td>Naina</td><td>Cricket</td><td>24</td></tr></tbody></table></div>"
      ]
     },
     "metadata": {
      "application/vnd.databricks.v1+output": {
       "addedWidgets": {},
       "aggData": [],
       "aggError": "",
       "aggOverflow": false,
       "aggSchema": [],
       "aggSeriesLimitReached": false,
       "aggType": "",
       "arguments": {},
       "columnCustomDisplayInfos": {},
       "data": [
        [
         "Kalyan",
         "Football",
         30
        ],
        [
         "Aditya",
         "Cricket",
         21
        ],
        [
         "Priya",
         "Cricket",
         25
        ],
        [
         "Naina",
         "Cricket",
         24
        ]
       ],
       "datasetInfos": [],
       "dbfsResultPath": null,
       "isJsonSchema": true,
       "metadata": {
        "createTempViewForImplicitDf": true,
        "dataframeName": "_sqldf",
        "executionCount": 16
       },
       "overflow": false,
       "plotOptions": {
        "customPlotOptions": {},
        "displayType": "table",
        "pivotAggregation": null,
        "pivotColumns": null,
        "xColumns": null,
        "yColumns": null
       },
       "removedWidgets": [],
       "schema": [
        {
         "metadata": "{\"__CHAR_VARCHAR_TYPE_STRING\":\"varchar(20)\"}",
         "name": "NAME",
         "type": "\"string\""
        },
        {
         "metadata": "{\"__CHAR_VARCHAR_TYPE_STRING\":\"varchar(20)\"}",
         "name": "HOBBY",
         "type": "\"string\""
        },
        {
         "metadata": "{}",
         "name": "AGE",
         "type": "\"integer\""
        }
       ],
       "type": "table"
      }
     },
     "output_type": "display_data"
    }
   ],
   "source": [
    "%sql\n",
    "SELECT NAME, HOBBY, AGE\n",
    "FROM tbl_students\n",
    "WHERE AGE BETWEEN 20 AND 30\n",
    "EXCEPT \n",
    "SELECT NAME, HOBBY, AGE \n",
    "FROM tbl_students_hobby\n",
    "WHERE AGE BETWEEN 20 AND 30"
   ]
  },
  {
   "cell_type": "markdown",
   "metadata": {
    "application/vnd.databricks.v1+cell": {
     "cellMetadata": {},
     "inputWidgets": {},
     "nuid": "d0f89a1c-e47a-4eb1-80db-8a38dd00cb84",
     "showTitle": false,
     "tableResultSettingsMap": {},
     "title": ""
    }
   },
   "source": [
    "**Ex 02**"
   ]
  },
  {
   "cell_type": "code",
   "execution_count": 0,
   "metadata": {
    "application/vnd.databricks.v1+cell": {
     "cellMetadata": {
      "byteLimit": 2048000,
      "implicitDf": true,
      "rowLimit": 10000
     },
     "inputWidgets": {},
     "nuid": "e50077fb-6de4-4f84-a1f6-f1f6aaa91bc2",
     "showTitle": false,
     "tableResultSettingsMap": {},
     "title": ""
    }
   },
   "outputs": [
    {
     "output_type": "display_data",
     "data": {
      "text/html": [
       "<style scoped>\n",
       "  .table-result-container {\n",
       "    max-height: 300px;\n",
       "    overflow: auto;\n",
       "  }\n",
       "  table, th, td {\n",
       "    border: 1px solid black;\n",
       "    border-collapse: collapse;\n",
       "  }\n",
       "  th, td {\n",
       "    padding: 5px;\n",
       "  }\n",
       "  th {\n",
       "    text-align: left;\n",
       "  }\n",
       "</style><div class='table-result-container'><table class='table-result'><thead style='background-color: white'><tr><th>ID</th><th>Name</th><th>Department</th></tr></thead><tbody><tr><td>4</td><td>Sneha</td><td>Sales</td></tr><tr><td>1</td><td>Raj</td><td>Sales</td></tr><tr><td>2</td><td>Priya</td><td>HR</td></tr><tr><td>3</td><td>Akash</td><td>IT</td></tr></tbody></table></div>"
      ]
     },
     "metadata": {
      "application/vnd.databricks.v1+output": {
       "addedWidgets": {},
       "aggData": [],
       "aggError": "",
       "aggOverflow": false,
       "aggSchema": [],
       "aggSeriesLimitReached": false,
       "aggType": "",
       "arguments": {},
       "columnCustomDisplayInfos": {},
       "data": [
        [
         4,
         "Sneha",
         "Sales"
        ],
        [
         1,
         "Raj",
         "Sales"
        ],
        [
         2,
         "Priya",
         "HR"
        ],
        [
         3,
         "Akash",
         "IT"
        ]
       ],
       "datasetInfos": [],
       "dbfsResultPath": null,
       "isJsonSchema": true,
       "metadata": {
        "createTempViewForImplicitDf": true,
        "dataframeName": "_sqldf",
        "executionCount": 11
       },
       "overflow": false,
       "plotOptions": {
        "customPlotOptions": {},
        "displayType": "table",
        "pivotAggregation": null,
        "pivotColumns": null,
        "xColumns": null,
        "yColumns": null
       },
       "removedWidgets": [],
       "schema": [
        {
         "metadata": "{}",
         "name": "ID",
         "type": "\"integer\""
        },
        {
         "metadata": "{\"__CHAR_VARCHAR_TYPE_STRING\":\"varchar(40)\"}",
         "name": "Name",
         "type": "\"string\""
        },
        {
         "metadata": "{\"__CHAR_VARCHAR_TYPE_STRING\":\"varchar(5)\"}",
         "name": "Department",
         "type": "\"string\""
        }
       ],
       "type": "table"
      }
     },
     "output_type": "display_data"
    }
   ],
   "source": [
    "%sql\n",
    "DROP TABLE IF EXISTS tbl_Employees_India;\n",
    "\n",
    "Create table tbl_Employees_India\n",
    "(\n",
    " ID int,\n",
    " Name VARCHAR(40),\n",
    " Department VARCHAR(5)\n",
    ");\n",
    "\n",
    "INSERT INTO tbl_Employees_India VALUES (1, 'Raj', 'Sales');\n",
    "INSERT INTO tbl_Employees_India VALUES (2, 'Priya', 'HR');\n",
    "INSERT INTO tbl_Employees_India VALUES (3, 'Akash', 'IT');\n",
    "INSERT INTO tbl_Employees_India VALUES (4, 'Sneha', 'Sales');\n",
    "\n",
    "SELECT * FROM tbl_Employees_India;"
   ]
  },
  {
   "cell_type": "code",
   "execution_count": 0,
   "metadata": {
    "application/vnd.databricks.v1+cell": {
     "cellMetadata": {
      "byteLimit": 2048000,
      "implicitDf": true,
      "rowLimit": 10000
     },
     "inputWidgets": {},
     "nuid": "61c38803-bfc1-46d4-ba5e-ebdec1e3852d",
     "showTitle": false,
     "tableResultSettingsMap": {},
     "title": ""
    }
   },
   "outputs": [
    {
     "output_type": "display_data",
     "data": {
      "text/html": [
       "<style scoped>\n",
       "  .table-result-container {\n",
       "    max-height: 300px;\n",
       "    overflow: auto;\n",
       "  }\n",
       "  table, th, td {\n",
       "    border: 1px solid black;\n",
       "    border-collapse: collapse;\n",
       "  }\n",
       "  th, td {\n",
       "    padding: 5px;\n",
       "  }\n",
       "  th {\n",
       "    text-align: left;\n",
       "  }\n",
       "</style><div class='table-result-container'><table class='table-result'><thead style='background-color: white'><tr><th>ID</th><th>Name</th><th>Department</th></tr></thead><tbody><tr><td>5</td><td>John</td><td>Marketing</td></tr><tr><td>2</td><td>Priya</td><td>HR</td></tr><tr><td>3</td><td>Akash</td><td>IT</td></tr></tbody></table></div>"
      ]
     },
     "metadata": {
      "application/vnd.databricks.v1+output": {
       "addedWidgets": {},
       "aggData": [],
       "aggError": "",
       "aggOverflow": false,
       "aggSchema": [],
       "aggSeriesLimitReached": false,
       "aggType": "",
       "arguments": {},
       "columnCustomDisplayInfos": {},
       "data": [
        [
         5,
         "John",
         "Marketing"
        ],
        [
         2,
         "Priya",
         "HR"
        ],
        [
         3,
         "Akash",
         "IT"
        ]
       ],
       "datasetInfos": [],
       "dbfsResultPath": null,
       "isJsonSchema": true,
       "metadata": {
        "createTempViewForImplicitDf": true,
        "dataframeName": "_sqldf",
        "executionCount": 12
       },
       "overflow": false,
       "plotOptions": {
        "customPlotOptions": {},
        "displayType": "table",
        "pivotAggregation": null,
        "pivotColumns": null,
        "xColumns": null,
        "yColumns": null
       },
       "removedWidgets": [],
       "schema": [
        {
         "metadata": "{}",
         "name": "ID",
         "type": "\"integer\""
        },
        {
         "metadata": "{\"__CHAR_VARCHAR_TYPE_STRING\":\"varchar(40)\"}",
         "name": "Name",
         "type": "\"string\""
        },
        {
         "metadata": "{\"__CHAR_VARCHAR_TYPE_STRING\":\"varchar(15)\"}",
         "name": "Department",
         "type": "\"string\""
        }
       ],
       "type": "table"
      }
     },
     "output_type": "display_data"
    }
   ],
   "source": [
    "%sql\n",
    "DROP TABLE IF EXISTS tbl_Employees_USA;\n",
    "\n",
    "Create table tbl_Employees_USA\n",
    "(\n",
    " ID int,\n",
    " Name VARCHAR(40),\n",
    " Department VARCHAR(15)\n",
    ");\n",
    "\n",
    "INSERT INTO tbl_Employees_USA VALUES (2, 'Priya', 'HR');\n",
    "INSERT INTO tbl_Employees_USA VALUES (3, 'Akash', 'IT');\n",
    "INSERT INTO tbl_Employees_USA VALUES (5, 'John', 'Marketing');\n",
    "\n",
    "SELECT * FROM tbl_Employees_USA;"
   ]
  },
  {
   "cell_type": "code",
   "execution_count": 0,
   "metadata": {
    "application/vnd.databricks.v1+cell": {
     "cellMetadata": {
      "byteLimit": 2048000,
      "implicitDf": true,
      "rowLimit": 10000
     },
     "inputWidgets": {},
     "nuid": "7b263e31-ae42-451a-9442-1d1e87222cca",
     "showTitle": false,
     "tableResultSettingsMap": {},
     "title": ""
    }
   },
   "outputs": [
    {
     "output_type": "display_data",
     "data": {
      "text/html": [
       "<style scoped>\n",
       "  .table-result-container {\n",
       "    max-height: 300px;\n",
       "    overflow: auto;\n",
       "  }\n",
       "  table, th, td {\n",
       "    border: 1px solid black;\n",
       "    border-collapse: collapse;\n",
       "  }\n",
       "  th, td {\n",
       "    padding: 5px;\n",
       "  }\n",
       "  th {\n",
       "    text-align: left;\n",
       "  }\n",
       "</style><div class='table-result-container'><table class='table-result'><thead style='background-color: white'><tr><th>ID</th><th>Name</th></tr></thead><tbody><tr><td>4</td><td>Sneha</td></tr></tbody></table></div>"
      ]
     },
     "metadata": {
      "application/vnd.databricks.v1+output": {
       "addedWidgets": {},
       "aggData": [],
       "aggError": "",
       "aggOverflow": false,
       "aggSchema": [],
       "aggSeriesLimitReached": false,
       "aggType": "",
       "arguments": {},
       "columnCustomDisplayInfos": {},
       "data": [
        [
         4,
         "Sneha"
        ]
       ],
       "datasetInfos": [],
       "dbfsResultPath": null,
       "isJsonSchema": true,
       "metadata": {
        "createTempViewForImplicitDf": true,
        "dataframeName": "_sqldf",
        "executionCount": 18
       },
       "overflow": false,
       "plotOptions": {
        "customPlotOptions": {},
        "displayType": "table",
        "pivotAggregation": null,
        "pivotColumns": null,
        "xColumns": null,
        "yColumns": null
       },
       "removedWidgets": [],
       "schema": [
        {
         "metadata": "{}",
         "name": "ID",
         "type": "\"integer\""
        },
        {
         "metadata": "{\"__CHAR_VARCHAR_TYPE_STRING\":\"varchar(40)\"}",
         "name": "Name",
         "type": "\"string\""
        }
       ],
       "type": "table"
      }
     },
     "output_type": "display_data"
    }
   ],
   "source": [
    "\n",
    "%sql\n",
    "WITH OnlyIndia AS (\n",
    "    SELECT ID, Name FROM tbl_Employees_India\n",
    "    EXCEPT\n",
    "    SELECT ID, Name FROM tbl_Employees_USA\n",
    ")\n",
    "SELECT * FROM OnlyIndia\n",
    "WHERE Name LIKE 'S%';"
   ]
  }
 ],
 "metadata": {
  "application/vnd.databricks.v1+notebook": {
   "computePreferences": null,
   "dashboards": [],
   "environmentMetadata": {
    "base_environment": "",
    "environment_version": "1"
   },
   "inputWidgetPreferences": null,
   "language": "python",
   "notebookMetadata": {
    "mostRecentlyExecutedCommandWithImplicitDF": {
     "commandId": 3982440861234581,
     "dataframes": [
      "_sqldf"
     ]
    },
    "pythonIndentUnit": 4
   },
   "notebookName": "3_How to use Where clause in EXCEPT",
   "widgets": {}
  }
 },
 "nbformat": 4,
 "nbformat_minor": 0
}