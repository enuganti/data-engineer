{
 "cells": [
  {
   "cell_type": "markdown",
   "metadata": {
    "application/vnd.databricks.v1+cell": {
     "cellMetadata": {},
     "inputWidgets": {},
     "nuid": "dcacfa96-0067-48cb-8842-745b1890ef02",
     "showTitle": false,
     "tableResultSettingsMap": {},
     "title": ""
    }
   },
   "source": [
    "**COMPANY: NEUDESIC TECHNOLOGIES**"
   ]
  },
  {
   "cell_type": "markdown",
   "metadata": {
    "application/vnd.databricks.v1+cell": {
     "cellMetadata": {},
     "inputWidgets": {},
     "nuid": "78116861-d07f-4546-8813-4d89f4f7813f",
     "showTitle": false,
     "tableResultSettingsMap": {},
     "title": ""
    }
   },
   "source": [
    "**Question**\n",
    "- In this puzzle you have to Generate a **new column** called **Nums**(Number to call).The conditions to generate the new column (Nums) are-\n",
    "\n",
    "  - If the **MobileNum** is **not null** then take the value from the **MobileNum** and **append ‘MobileNum’** to the data.\n",
    "\n",
    "  - If the **MobileNum** is **null** then take the value from the **ResidenceNum**(if available)and **append ‘ResidenceNum’** to the data.\n",
    "\n",
    "  - If both **MobileNum and ResidenceNum** are **NOT NULL** then take the value from the **MobileNum** and **append ‘MobileNum’** to the data.\n",
    "\n",
    "  - If both **MobileNum and ResidenceNum** are **NULL** then we should get **NULL** as output.\n",
    "\n",
    "  - The challenge is to do this **without USING CASE Statement**.\n",
    "\n",
    "- For more details please check the sample input and expected output.\n"
   ]
  },
  {
   "cell_type": "markdown",
   "metadata": {
    "application/vnd.databricks.v1+cell": {
     "cellMetadata": {},
     "inputWidgets": {},
     "nuid": "b1edcd35-9816-44bf-b672-89614e9b508a",
     "showTitle": false,
     "tableResultSettingsMap": {},
     "title": ""
    }
   },
   "source": [
    "**Sample Input:**\n",
    "\n",
    "| Id   | Name     | MobileNum     | ResidenceNum |\n",
    "|------|----------|---------------|--------------|\n",
    "|1     | Joey     | 9762575422    |    NULL      |\n",
    "|2     | Ross     | 9987796244    |  8762575402  |\n",
    "|3     | Chandler |   NULL        |  7645764689  |\n",
    "|4     | Monica   | 8902567839    |  7825367901  |\n",
    "|5     | Rachel   |   NULL        |  7845637289  |\n",
    "|6     | Pheobe   | 9872435789    |  9838653469  |\n",
    "|7     | Gunther  |   NULL        |    NULL      |\n",
    "|8     | Mike     |   NULL        |  9700103678  |\n",
    "\n",
    "**Sample Output:**\n",
    "\n",
    "| Id   |  Name       |            Nums             |\n",
    "|------|-------------|-----------------------------|\n",
    "| 1    |  Joey       |   9762575422 MobileNum      |\n",
    "| 2    |  Ross       |   9987796244 MobileNum      |\n",
    "| 3    |  Chandler   |   7645764689 ResidenceNum   |\n",
    "| 4    |  Monica     |   8902567839 MobileNum      |\n",
    "| 5    |  Rachel     |   7845637289 ResidenceNum   |\n",
    "| 6    |  Pheobe     |   9872435789 MobileNum      |\n",
    "| 7    |  Gunther    |   NULL                      |\n",
    "| 8    |  Mike       |   9700103678 ResidenceNum   |"
   ]
  },
  {
   "cell_type": "code",
   "execution_count": 0,
   "metadata": {
    "application/vnd.databricks.v1+cell": {
     "cellMetadata": {
      "byteLimit": 2048000,
      "implicitDf": true,
      "rowLimit": 10000
     },
     "inputWidgets": {},
     "nuid": "f480639d-ec59-4435-8746-45c9da8daaf9",
     "showTitle": false,
     "tableResultSettingsMap": {},
     "title": ""
    }
   },
   "outputs": [
    {
     "output_type": "display_data",
     "data": {
      "text/html": [
       "<style scoped>\n",
       "  .table-result-container {\n",
       "    max-height: 300px;\n",
       "    overflow: auto;\n",
       "  }\n",
       "  table, th, td {\n",
       "    border: 1px solid black;\n",
       "    border-collapse: collapse;\n",
       "  }\n",
       "  th, td {\n",
       "    padding: 5px;\n",
       "  }\n",
       "  th {\n",
       "    text-align: left;\n",
       "  }\n",
       "</style><div class='table-result-container'><table class='table-result'><thead style='background-color: white'><tr><th>Id</th><th>Name</th><th>MobileNum</th><th>ResidenceNum</th></tr></thead><tbody><tr><td>1</td><td>Joey</td><td>9762575422</td><td>null</td></tr><tr><td>2</td><td>Ross</td><td>9987796244</td><td>8762575402</td></tr><tr><td>3</td><td>Chandler</td><td>null</td><td>7645764689</td></tr><tr><td>4</td><td>Monica</td><td>8902567839</td><td>7825367901</td></tr><tr><td>5</td><td>Rachel</td><td>null</td><td>7845637289</td></tr><tr><td>6</td><td>Pheobe</td><td>9872435789</td><td>9838653469</td></tr><tr><td>7</td><td>Gunther</td><td>null</td><td>null</td></tr><tr><td>8</td><td>Mike</td><td>null</td><td>9700103678</td></tr></tbody></table></div>"
      ]
     },
     "metadata": {
      "application/vnd.databricks.v1+output": {
       "addedWidgets": {},
       "aggData": [],
       "aggError": "",
       "aggOverflow": false,
       "aggSchema": [],
       "aggSeriesLimitReached": false,
       "aggType": "",
       "arguments": {},
       "columnCustomDisplayInfos": {},
       "data": [
        [
         1,
         "Joey",
         "9762575422",
         null
        ],
        [
         2,
         "Ross",
         "9987796244",
         "8762575402"
        ],
        [
         3,
         "Chandler",
         null,
         "7645764689"
        ],
        [
         4,
         "Monica",
         "8902567839",
         "7825367901"
        ],
        [
         5,
         "Rachel",
         null,
         "7845637289"
        ],
        [
         6,
         "Pheobe",
         "9872435789",
         "9838653469"
        ],
        [
         7,
         "Gunther",
         null,
         null
        ],
        [
         8,
         "Mike",
         null,
         "9700103678"
        ]
       ],
       "datasetInfos": [],
       "dbfsResultPath": null,
       "isJsonSchema": true,
       "metadata": {
        "createTempViewForImplicitDf": true,
        "dataframeName": "_sqldf",
        "executionCount": 2
       },
       "overflow": false,
       "plotOptions": {
        "customPlotOptions": {},
        "displayType": "table",
        "pivotAggregation": null,
        "pivotColumns": null,
        "xColumns": null,
        "yColumns": null
       },
       "removedWidgets": [],
       "schema": [
        {
         "metadata": "{}",
         "name": "Id",
         "type": "\"integer\""
        },
        {
         "metadata": "{\"__CHAR_VARCHAR_TYPE_STRING\":\"varchar(10)\"}",
         "name": "Name",
         "type": "\"string\""
        },
        {
         "metadata": "{\"__CHAR_VARCHAR_TYPE_STRING\":\"varchar(100)\"}",
         "name": "MobileNum",
         "type": "\"string\""
        },
        {
         "metadata": "{\"__CHAR_VARCHAR_TYPE_STRING\":\"varchar(100)\"}",
         "name": "ResidenceNum",
         "type": "\"string\""
        }
       ],
       "type": "table"
      }
     },
     "output_type": "display_data"
    }
   ],
   "source": [
    "%sql\n",
    "DROP TABLE IF EXISTS PhoneNumbers;\n",
    "\n",
    "CREATE TABLE PhoneNumbers\n",
    "(Id INT,\n",
    " Name VARCHAR(10),\n",
    " MobileNum VARCHAR(100),\n",
    " ResidenceNum VARCHAR(100)\n",
    ");\n",
    "\n",
    "INSERT INTO PhoneNumbers\n",
    "VALUES\n",
    "(1, 'Joey', '9762575422', NULL),\n",
    "(2, 'Ross', '9987796244', '8762575402'),\n",
    "(3, 'Chandler', NULL, '7645764689'),\n",
    "(4, 'Monica', '8902567839', '7825367901'),\n",
    "(5, 'Rachel', NULL, '7845637289'),\n",
    "(6, 'Pheobe', '9872435789', '9838653469'),\n",
    "(7, 'Gunther', NULL, NULL),\n",
    "(8, 'Mike', NULL, '9700103678');\n",
    "\n",
    "SELECT * FROM PhoneNumbers"
   ]
  },
  {
   "cell_type": "markdown",
   "metadata": {
    "application/vnd.databricks.v1+cell": {
     "cellMetadata": {},
     "inputWidgets": {},
     "nuid": "ebf52451-f571-4815-b08e-375f43b9436b",
     "showTitle": false,
     "tableResultSettingsMap": {},
     "title": ""
    }
   },
   "source": [
    "**Method 01**"
   ]
  },
  {
   "cell_type": "code",
   "execution_count": 0,
   "metadata": {
    "application/vnd.databricks.v1+cell": {
     "cellMetadata": {
      "byteLimit": 2048000,
      "implicitDf": true,
      "rowLimit": 10000
     },
     "inputWidgets": {},
     "nuid": "e4c745ca-1fc2-438f-a70d-a93ee75ed4b0",
     "showTitle": false,
     "tableResultSettingsMap": {},
     "title": ""
    }
   },
   "outputs": [
    {
     "output_type": "display_data",
     "data": {
      "text/html": [
       "<style scoped>\n",
       "  .table-result-container {\n",
       "    max-height: 300px;\n",
       "    overflow: auto;\n",
       "  }\n",
       "  table, th, td {\n",
       "    border: 1px solid black;\n",
       "    border-collapse: collapse;\n",
       "  }\n",
       "  th, td {\n",
       "    padding: 5px;\n",
       "  }\n",
       "  th {\n",
       "    text-align: left;\n",
       "  }\n",
       "</style><div class='table-result-container'><table class='table-result'><thead style='background-color: white'><tr><th>ID</th><th>NAME</th><th>Concat_MobileNum</th><th>Concat_ResidenceNum</th><th>Concat_MobileNum_ResidenceNum</th></tr></thead><tbody><tr><td>1</td><td>Joey</td><td>9762575422 MobileNum</td><td>null</td><td>9762575422 MobileNum</td></tr><tr><td>2</td><td>Ross</td><td>9987796244 MobileNum</td><td>8762575402 ResidenceNum</td><td>9987796244 MobileNum</td></tr><tr><td>3</td><td>Chandler</td><td>null</td><td>7645764689 ResidenceNum</td><td>7645764689 ResidenceNum</td></tr><tr><td>4</td><td>Monica</td><td>8902567839 MobileNum</td><td>7825367901 ResidenceNum</td><td>8902567839 MobileNum</td></tr><tr><td>5</td><td>Rachel</td><td>null</td><td>7845637289 ResidenceNum</td><td>7845637289 ResidenceNum</td></tr><tr><td>6</td><td>Pheobe</td><td>9872435789 MobileNum</td><td>9838653469 ResidenceNum</td><td>9872435789 MobileNum</td></tr><tr><td>7</td><td>Gunther</td><td>null</td><td>null</td><td>null</td></tr><tr><td>8</td><td>Mike</td><td>null</td><td>9700103678 ResidenceNum</td><td>9700103678 ResidenceNum</td></tr></tbody></table></div>"
      ]
     },
     "metadata": {
      "application/vnd.databricks.v1+output": {
       "addedWidgets": {},
       "aggData": [],
       "aggError": "",
       "aggOverflow": false,
       "aggSchema": [],
       "aggSeriesLimitReached": false,
       "aggType": "",
       "arguments": {},
       "columnCustomDisplayInfos": {},
       "data": [
        [
         1,
         "Joey",
         "9762575422 MobileNum",
         null,
         "9762575422 MobileNum"
        ],
        [
         2,
         "Ross",
         "9987796244 MobileNum",
         "8762575402 ResidenceNum",
         "9987796244 MobileNum"
        ],
        [
         3,
         "Chandler",
         null,
         "7645764689 ResidenceNum",
         "7645764689 ResidenceNum"
        ],
        [
         4,
         "Monica",
         "8902567839 MobileNum",
         "7825367901 ResidenceNum",
         "8902567839 MobileNum"
        ],
        [
         5,
         "Rachel",
         null,
         "7845637289 ResidenceNum",
         "7845637289 ResidenceNum"
        ],
        [
         6,
         "Pheobe",
         "9872435789 MobileNum",
         "9838653469 ResidenceNum",
         "9872435789 MobileNum"
        ],
        [
         7,
         "Gunther",
         null,
         null,
         null
        ],
        [
         8,
         "Mike",
         null,
         "9700103678 ResidenceNum",
         "9700103678 ResidenceNum"
        ]
       ],
       "datasetInfos": [],
       "dbfsResultPath": null,
       "isJsonSchema": true,
       "metadata": {
        "createTempViewForImplicitDf": true,
        "dataframeName": "_sqldf",
        "executionCount": 3
       },
       "overflow": false,
       "plotOptions": {
        "customPlotOptions": {},
        "displayType": "table",
        "pivotAggregation": null,
        "pivotColumns": null,
        "xColumns": null,
        "yColumns": null
       },
       "removedWidgets": [],
       "schema": [
        {
         "metadata": "{}",
         "name": "ID",
         "type": "\"integer\""
        },
        {
         "metadata": "{\"__CHAR_VARCHAR_TYPE_STRING\":\"varchar(10)\"}",
         "name": "NAME",
         "type": "\"string\""
        },
        {
         "metadata": "{}",
         "name": "Concat_MobileNum",
         "type": "\"string\""
        },
        {
         "metadata": "{}",
         "name": "Concat_ResidenceNum",
         "type": "\"string\""
        },
        {
         "metadata": "{}",
         "name": "Concat_MobileNum_ResidenceNum",
         "type": "\"string\""
        }
       ],
       "type": "table"
      }
     },
     "output_type": "display_data"
    }
   ],
   "source": [
    "%sql\n",
    "SELECT \n",
    "    ID, NAME,\n",
    "    CONCAT(MobileNum, ' MobileNum') AS Concat_MobileNum,\n",
    "    CONCAT(ResidenceNum, ' ResidenceNum') AS Concat_ResidenceNum,\n",
    "    COALESCE(\n",
    "        CONCAT(MobileNum, ' MobileNum'), \n",
    "        CONCAT(ResidenceNum, ' ResidenceNum'),\n",
    "        NULL\n",
    "    ) AS Concat_MobileNum_ResidenceNum\n",
    "FROM phonenumbers;"
   ]
  },
  {
   "cell_type": "markdown",
   "metadata": {
    "application/vnd.databricks.v1+cell": {
     "cellMetadata": {},
     "inputWidgets": {},
     "nuid": "c38aee4e-329e-41f8-9171-4fd5f0920b95",
     "showTitle": false,
     "tableResultSettingsMap": {},
     "title": ""
    }
   },
   "source": [
    "- **COALESCE** returns the **first non-NULL** value from the list of expressions provided.\n",
    "\n",
    "  - Concatenate MobileNum with the string ' MobileNum' (e.g., \"12345 MobileNum\").\n",
    "\n",
    "  - If MobileNum is NULL, it tries ResidenceNum + ' ResidenceNum'.\n",
    "\n",
    "  - If both are NULL, it returns NULL."
   ]
  },
  {
   "cell_type": "markdown",
   "metadata": {
    "application/vnd.databricks.v1+cell": {
     "cellMetadata": {},
     "inputWidgets": {},
     "nuid": "d4a853f5-88c2-41ab-a50d-b8b33a2c3dc1",
     "showTitle": false,
     "tableResultSettingsMap": {},
     "title": ""
    }
   },
   "source": [
    "**What it does overall:**\n",
    "\n",
    "For each record in phonenumbers:\n",
    "- It shows ID, NAME, and either:\n",
    "  - **\"MobileNum MobileNum\"** if **MobileNum is present**,\n",
    "  - or **\"ResidenceNum ResidenceNum\"** if **MobileNum is null**,\n",
    "  - or **NULL** if **both are missing**."
   ]
  },
  {
   "cell_type": "markdown",
   "metadata": {
    "application/vnd.databricks.v1+cell": {
     "cellMetadata": {},
     "inputWidgets": {},
     "nuid": "2b4b2417-6973-471e-a99c-5fc5d3414e02",
     "showTitle": false,
     "tableResultSettingsMap": {},
     "title": ""
    }
   },
   "source": [
    "**Method 02**"
   ]
  },
  {
   "cell_type": "code",
   "execution_count": 0,
   "metadata": {
    "application/vnd.databricks.v1+cell": {
     "cellMetadata": {
      "byteLimit": 2048000,
      "implicitDf": true,
      "rowLimit": 10000
     },
     "inputWidgets": {},
     "nuid": "5d4fc867-1ddd-4cd3-8730-7e1782183d54",
     "showTitle": false,
     "tableResultSettingsMap": {},
     "title": ""
    }
   },
   "outputs": [
    {
     "output_type": "display_data",
     "data": {
      "text/html": [
       "<style scoped>\n",
       "  .table-result-container {\n",
       "    max-height: 300px;\n",
       "    overflow: auto;\n",
       "  }\n",
       "  table, th, td {\n",
       "    border: 1px solid black;\n",
       "    border-collapse: collapse;\n",
       "  }\n",
       "  th, td {\n",
       "    padding: 5px;\n",
       "  }\n",
       "  th {\n",
       "    text-align: left;\n",
       "  }\n",
       "</style><div class='table-result-container'><table class='table-result'><thead style='background-color: white'><tr><th>ID</th><th>NAME</th><th>Concatenation_MobileNum</th><th>Concatenation_ResidenceNum</th><th>Coalesce_Concatenation_MobileResidenceNum</th></tr></thead><tbody><tr><td>1</td><td>Joey</td><td>9762575422 MobileNum</td><td>null</td><td>9762575422 MobileNum</td></tr><tr><td>2</td><td>Ross</td><td>9987796244 MobileNum</td><td>8762575402 ResidenceNum</td><td>9987796244 MobileNum</td></tr><tr><td>3</td><td>Chandler</td><td>null</td><td>7645764689 ResidenceNum</td><td>7645764689 ResidenceNum</td></tr><tr><td>4</td><td>Monica</td><td>8902567839 MobileNum</td><td>7825367901 ResidenceNum</td><td>8902567839 MobileNum</td></tr><tr><td>5</td><td>Rachel</td><td>null</td><td>7845637289 ResidenceNum</td><td>7845637289 ResidenceNum</td></tr><tr><td>6</td><td>Pheobe</td><td>9872435789 MobileNum</td><td>9838653469 ResidenceNum</td><td>9872435789 MobileNum</td></tr><tr><td>7</td><td>Gunther</td><td>null</td><td>null</td><td>null</td></tr><tr><td>8</td><td>Mike</td><td>null</td><td>9700103678 ResidenceNum</td><td>9700103678 ResidenceNum</td></tr></tbody></table></div>"
      ]
     },
     "metadata": {
      "application/vnd.databricks.v1+output": {
       "addedWidgets": {},
       "aggData": [],
       "aggError": "",
       "aggOverflow": false,
       "aggSchema": [],
       "aggSeriesLimitReached": false,
       "aggType": "",
       "arguments": {},
       "columnCustomDisplayInfos": {},
       "data": [
        [
         1,
         "Joey",
         "9762575422 MobileNum",
         null,
         "9762575422 MobileNum"
        ],
        [
         2,
         "Ross",
         "9987796244 MobileNum",
         "8762575402 ResidenceNum",
         "9987796244 MobileNum"
        ],
        [
         3,
         "Chandler",
         null,
         "7645764689 ResidenceNum",
         "7645764689 ResidenceNum"
        ],
        [
         4,
         "Monica",
         "8902567839 MobileNum",
         "7825367901 ResidenceNum",
         "8902567839 MobileNum"
        ],
        [
         5,
         "Rachel",
         null,
         "7845637289 ResidenceNum",
         "7845637289 ResidenceNum"
        ],
        [
         6,
         "Pheobe",
         "9872435789 MobileNum",
         "9838653469 ResidenceNum",
         "9872435789 MobileNum"
        ],
        [
         7,
         "Gunther",
         null,
         null,
         null
        ],
        [
         8,
         "Mike",
         null,
         "9700103678 ResidenceNum",
         "9700103678 ResidenceNum"
        ]
       ],
       "datasetInfos": [],
       "dbfsResultPath": null,
       "isJsonSchema": true,
       "metadata": {
        "createTempViewForImplicitDf": true,
        "dataframeName": "_sqldf",
        "executionCount": 4
       },
       "overflow": false,
       "plotOptions": {
        "customPlotOptions": {},
        "displayType": "table",
        "pivotAggregation": null,
        "pivotColumns": null,
        "xColumns": null,
        "yColumns": null
       },
       "removedWidgets": [],
       "schema": [
        {
         "metadata": "{}",
         "name": "ID",
         "type": "\"integer\""
        },
        {
         "metadata": "{\"__CHAR_VARCHAR_TYPE_STRING\":\"varchar(10)\"}",
         "name": "NAME",
         "type": "\"string\""
        },
        {
         "metadata": "{}",
         "name": "Concatenation_MobileNum",
         "type": "\"string\""
        },
        {
         "metadata": "{}",
         "name": "Concatenation_ResidenceNum",
         "type": "\"string\""
        },
        {
         "metadata": "{}",
         "name": "Coalesce_Concatenation_MobileResidenceNum",
         "type": "\"string\""
        }
       ],
       "type": "table"
      }
     },
     "output_type": "display_data"
    }
   ],
   "source": [
    "%sql\n",
    "SELECT \n",
    "    ID, NAME,\n",
    "    MobileNum || ' MobileNum' AS Concatenation_MobileNum,\n",
    "    ResidenceNum || ' ResidenceNum' AS Concatenation_ResidenceNum,\n",
    "    COALESCE(\n",
    "        MobileNum || ' MobileNum', \n",
    "        ResidenceNum || ' ResidenceNum',\n",
    "        NULL\n",
    "    ) AS Coalesce_Concatenation_MobileResidenceNum\n",
    "FROM phonenumbers;"
   ]
  },
  {
   "cell_type": "markdown",
   "metadata": {
    "application/vnd.databricks.v1+cell": {
     "cellMetadata": {},
     "inputWidgets": {},
     "nuid": "0bef094a-f72a-4de4-8a5d-520148d6550a",
     "showTitle": false,
     "tableResultSettingsMap": {},
     "title": ""
    }
   },
   "source": [
    "**Method 03**"
   ]
  },
  {
   "cell_type": "code",
   "execution_count": 0,
   "metadata": {
    "application/vnd.databricks.v1+cell": {
     "cellMetadata": {
      "byteLimit": 2048000,
      "implicitDf": true,
      "rowLimit": 10000
     },
     "inputWidgets": {},
     "nuid": "ab7fafd1-8eb5-41e4-af4b-7a57e31f57e0",
     "showTitle": false,
     "tableResultSettingsMap": {},
     "title": ""
    }
   },
   "outputs": [
    {
     "output_type": "display_data",
     "data": {
      "text/html": [
       "<style scoped>\n",
       "  .table-result-container {\n",
       "    max-height: 300px;\n",
       "    overflow: auto;\n",
       "  }\n",
       "  table, th, td {\n",
       "    border: 1px solid black;\n",
       "    border-collapse: collapse;\n",
       "  }\n",
       "  th, td {\n",
       "    padding: 5px;\n",
       "  }\n",
       "  th {\n",
       "    text-align: left;\n",
       "  }\n",
       "</style><div class='table-result-container'><table class='table-result'><thead style='background-color: white'><tr><th>id</th><th>name</th><th>Coalesce_mobile_residence</th><th>nums</th></tr></thead><tbody><tr><td>1</td><td>Joey</td><td>9762575422</td><td>9762575422 MobileNum</td></tr><tr><td>2</td><td>Ross</td><td>9987796244</td><td>9987796244 MobileNum</td></tr><tr><td>3</td><td>Chandler</td><td>7645764689</td><td>7645764689 ResidenceNum</td></tr><tr><td>4</td><td>Monica</td><td>8902567839</td><td>8902567839 MobileNum</td></tr><tr><td>5</td><td>Rachel</td><td>7845637289</td><td>7845637289 ResidenceNum</td></tr><tr><td>6</td><td>Pheobe</td><td>9872435789</td><td>9872435789 MobileNum</td></tr><tr><td>7</td><td>Gunther</td><td>null</td><td>null</td></tr><tr><td>8</td><td>Mike</td><td>9700103678</td><td>9700103678 ResidenceNum</td></tr></tbody></table></div>"
      ]
     },
     "metadata": {
      "application/vnd.databricks.v1+output": {
       "addedWidgets": {},
       "aggData": [],
       "aggError": "",
       "aggOverflow": false,
       "aggSchema": [],
       "aggSeriesLimitReached": false,
       "aggType": "",
       "arguments": {},
       "columnCustomDisplayInfos": {},
       "data": [
        [
         1,
         "Joey",
         "9762575422",
         "9762575422 MobileNum"
        ],
        [
         2,
         "Ross",
         "9987796244",
         "9987796244 MobileNum"
        ],
        [
         3,
         "Chandler",
         "7645764689",
         "7645764689 ResidenceNum"
        ],
        [
         4,
         "Monica",
         "8902567839",
         "8902567839 MobileNum"
        ],
        [
         5,
         "Rachel",
         "7845637289",
         "7845637289 ResidenceNum"
        ],
        [
         6,
         "Pheobe",
         "9872435789",
         "9872435789 MobileNum"
        ],
        [
         7,
         "Gunther",
         null,
         null
        ],
        [
         8,
         "Mike",
         "9700103678",
         "9700103678 ResidenceNum"
        ]
       ],
       "datasetInfos": [],
       "dbfsResultPath": null,
       "isJsonSchema": true,
       "metadata": {
        "createTempViewForImplicitDf": true,
        "dataframeName": "_sqldf",
        "executionCount": 5
       },
       "overflow": false,
       "plotOptions": {
        "customPlotOptions": {},
        "displayType": "table",
        "pivotAggregation": null,
        "pivotColumns": null,
        "xColumns": null,
        "yColumns": null
       },
       "removedWidgets": [],
       "schema": [
        {
         "metadata": "{}",
         "name": "id",
         "type": "\"integer\""
        },
        {
         "metadata": "{\"__CHAR_VARCHAR_TYPE_STRING\":\"varchar(10)\"}",
         "name": "name",
         "type": "\"string\""
        },
        {
         "metadata": "{}",
         "name": "Coalesce_mobile_residence",
         "type": "\"string\""
        },
        {
         "metadata": "{}",
         "name": "nums",
         "type": "\"string\""
        }
       ],
       "type": "table"
      }
     },
     "output_type": "display_data"
    }
   ],
   "source": [
    "%sql\n",
    "SELECT id, name,\n",
    "       COALESCE(mobilenum, residencenum) AS Coalesce_mobile_residence,\n",
    "       CONCAT(\n",
    "          COALESCE(mobilenum, residencenum),\n",
    "          ' ',\n",
    "          CASE\n",
    "            WHEN mobilenum <> '' THEN 'MobileNum'\n",
    "            WHEN residencenum <> '' THEN 'ResidenceNum'\n",
    "            ELSE NULL\n",
    "          END\n",
    "        ) AS nums\n",
    "FROM phonenumbers;"
   ]
  },
  {
   "cell_type": "markdown",
   "metadata": {
    "application/vnd.databricks.v1+cell": {
     "cellMetadata": {},
     "inputWidgets": {},
     "nuid": "d99f933f-e457-472a-bb31-99cce5234d6d",
     "showTitle": false,
     "tableResultSettingsMap": {},
     "title": ""
    }
   },
   "source": [
    "- If **mobilenum** is **not an empty string ('')**, it adds **'MobileNum'**.\n",
    "- Else if **residencenum** is **not an empty string**, it adds **'ResidenceNum'**.\n",
    "- If **both are empty strings**, it adds **NULL** (so CONCAT may result in just the number or null)."
   ]
  }
 ],
 "metadata": {
  "application/vnd.databricks.v1+notebook": {
   "computePreferences": null,
   "dashboards": [],
   "environmentMetadata": {
    "base_environment": "",
    "environment_version": "1"
   },
   "inputWidgetPreferences": null,
   "language": "python",
   "notebookMetadata": {
    "mostRecentlyExecutedCommandWithImplicitDF": {
     "commandId": 2182809190872782,
     "dataframes": [
      "_sqldf"
     ]
    },
    "pythonIndentUnit": 4
   },
   "notebookName": "11_NEUDESIC TECHNOLOGIES | SQL Interview Question",
   "widgets": {}
  }
 },
 "nbformat": 4,
 "nbformat_minor": 0
}