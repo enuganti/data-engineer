{
 "cells": [
  {
   "cell_type": "markdown",
   "metadata": {
    "application/vnd.databricks.v1+cell": {
     "cellMetadata": {},
     "inputWidgets": {},
     "nuid": "66f5abca-cff0-4e10-b016-84516b70b6ad",
     "showTitle": false,
     "tableResultSettingsMap": {},
     "title": ""
    }
   },
   "source": [
    "- To get **new records** from **one table** when compared to **another** based on a **primary key**, you typically use below approach.\n",
    "\n",
    "  - NOT EXISTS\n",
    "  - LEFT JOIN ... IS NULL\n",
    "  - NOT IN\n",
    "\n",
    "Let's assume:\n",
    "\n",
    "- **DBA_Data** is the **source** (e.g., latest or updated data).\n",
    "- **DBA_Details** is the **target** (e.g., existing or old data).\n",
    "- **EMP_ID** is the **primary key** in **both** tables."
   ]
  },
  {
   "cell_type": "markdown",
   "metadata": {
    "application/vnd.databricks.v1+cell": {
     "cellMetadata": {},
     "inputWidgets": {},
     "nuid": "90c975c9-812f-41a2-b024-5f956d5e6454",
     "showTitle": false,
     "tableResultSettingsMap": {},
     "title": ""
    }
   },
   "source": [
    "- **How to Select All Records from One Table That Do Not Exist in Another Table in SQL?**\n",
    "\n",
    "- **Write a SQL query to find records in Table A that are not in Table B without using NOT IN operator.**"
   ]
  },
  {
   "cell_type": "code",
   "execution_count": 0,
   "metadata": {
    "application/vnd.databricks.v1+cell": {
     "cellMetadata": {
      "byteLimit": 2048000,
      "implicitDf": true,
      "rowLimit": 10000
     },
     "inputWidgets": {},
     "nuid": "5ce25aa6-959d-4aec-acd6-d0fe061d5d50",
     "showTitle": false,
     "tableResultSettingsMap": {},
     "title": ""
    }
   },
   "outputs": [
    {
     "output_type": "display_data",
     "data": {
      "text/html": [
       "<style scoped>\n",
       "  .table-result-container {\n",
       "    max-height: 300px;\n",
       "    overflow: auto;\n",
       "  }\n",
       "  table, th, td {\n",
       "    border: 1px solid black;\n",
       "    border-collapse: collapse;\n",
       "  }\n",
       "  th, td {\n",
       "    padding: 5px;\n",
       "  }\n",
       "  th {\n",
       "    text-align: left;\n",
       "  }\n",
       "</style><div class='table-result-container'><table class='table-result'><thead style='background-color: white'><tr><th>EMP_ID</th><th>EMP_Name</th><th>EMP_Salary</th><th>EMP_Age</th></tr></thead><tbody><tr><td>SA001</td><td>Naresh</td><td>20000</td><td>26</td></tr><tr><td>SA002</td><td>Kumar</td><td>25000</td><td>27</td></tr><tr><td>SA003</td><td>Rahul</td><td>29000</td><td>29</td></tr><tr><td>SA004</td><td>Krishna</td><td>32000</td><td>31</td></tr><tr><td>SA005</td><td>David</td><td>35000</td><td>33</td></tr><tr><td>SA006</td><td>Himaja</td><td>39000</td><td>35</td></tr></tbody></table></div>"
      ]
     },
     "metadata": {
      "application/vnd.databricks.v1+output": {
       "addedWidgets": {},
       "aggData": [],
       "aggError": "",
       "aggOverflow": false,
       "aggSchema": [],
       "aggSeriesLimitReached": false,
       "aggType": "",
       "arguments": {},
       "columnCustomDisplayInfos": {},
       "data": [
        [
         "SA001",
         "Naresh",
         20000,
         26
        ],
        [
         "SA002",
         "Kumar",
         25000,
         27
        ],
        [
         "SA003",
         "Rahul",
         29000,
         29
        ],
        [
         "SA004",
         "Krishna",
         32000,
         31
        ],
        [
         "SA005",
         "David",
         35000,
         33
        ],
        [
         "SA006",
         "Himaja",
         39000,
         35
        ]
       ],
       "datasetInfos": [],
       "dbfsResultPath": null,
       "isJsonSchema": true,
       "metadata": {
        "createTempViewForImplicitDf": true,
        "dataframeName": "_sqldf",
        "executionCount": 3
       },
       "overflow": false,
       "plotOptions": {
        "customPlotOptions": {},
        "displayType": "table",
        "pivotAggregation": null,
        "pivotColumns": null,
        "xColumns": null,
        "yColumns": null
       },
       "removedWidgets": [],
       "schema": [
        {
         "metadata": "{\"__CHAR_VARCHAR_TYPE_STRING\":\"varchar(20)\"}",
         "name": "EMP_ID",
         "type": "\"string\""
        },
        {
         "metadata": "{\"__CHAR_VARCHAR_TYPE_STRING\":\"varchar(15)\"}",
         "name": "EMP_Name",
         "type": "\"string\""
        },
        {
         "metadata": "{}",
         "name": "EMP_Salary",
         "type": "\"integer\""
        },
        {
         "metadata": "{}",
         "name": "EMP_Age",
         "type": "\"integer\""
        }
       ],
       "type": "table"
      }
     },
     "output_type": "display_data"
    }
   ],
   "source": [
    "%sql\n",
    "DROP TABLE IF EXISTS DBA_Data;\n",
    "\n",
    "CREATE TABLE DBA_Data (\n",
    " EMP_ID VARCHAR(20),\n",
    " EMP_Name VARCHAR(15),\n",
    " EMP_Salary INT,\n",
    " EMP_Age INT\n",
    ");\n",
    "\n",
    "INSERT INTO DBA_Data\n",
    "VALUES\n",
    "(\"SA001\", \"Naresh\", 20000, 26),\n",
    "(\"SA002\", \"Kumar\", 25000, 27),\n",
    "(\"SA003\", \"Rahul\", 29000, 29),\n",
    "(\"SA004\", \"Krishna\", 32000, 31),\n",
    "(\"SA005\", \"David\", 35000, 33),\n",
    "(\"SA006\", \"Himaja\", 39000, 35);\n",
    "\n",
    "SELECT * FROM DBA_Data;"
   ]
  },
  {
   "cell_type": "code",
   "execution_count": 0,
   "metadata": {
    "application/vnd.databricks.v1+cell": {
     "cellMetadata": {
      "byteLimit": 2048000,
      "implicitDf": true,
      "rowLimit": 10000
     },
     "inputWidgets": {},
     "nuid": "595a8442-a6b1-4790-acf3-0f6d5ef90489",
     "showTitle": false,
     "tableResultSettingsMap": {},
     "title": ""
    }
   },
   "outputs": [
    {
     "output_type": "display_data",
     "data": {
      "text/html": [
       "<style scoped>\n",
       "  .table-result-container {\n",
       "    max-height: 300px;\n",
       "    overflow: auto;\n",
       "  }\n",
       "  table, th, td {\n",
       "    border: 1px solid black;\n",
       "    border-collapse: collapse;\n",
       "  }\n",
       "  th, td {\n",
       "    padding: 5px;\n",
       "  }\n",
       "  th {\n",
       "    text-align: left;\n",
       "  }\n",
       "</style><div class='table-result-container'><table class='table-result'><thead style='background-color: white'><tr><th>EMP_ID</th><th>EMP_Name</th><th>EMP_Designation</th><th>EMP_Age</th></tr></thead><tbody><tr><td>SA001</td><td>Naresh</td><td>SW Developer</td><td>32</td></tr><tr><td>SA003</td><td>Rohit</td><td>Web Developer</td><td>34</td></tr></tbody></table></div>"
      ]
     },
     "metadata": {
      "application/vnd.databricks.v1+output": {
       "addedWidgets": {},
       "aggData": [],
       "aggError": "",
       "aggOverflow": false,
       "aggSchema": [],
       "aggSeriesLimitReached": false,
       "aggType": "",
       "arguments": {},
       "columnCustomDisplayInfos": {},
       "data": [
        [
         "SA001",
         "Naresh",
         "SW Developer",
         32
        ],
        [
         "SA003",
         "Rohit",
         "Web Developer",
         34
        ]
       ],
       "datasetInfos": [],
       "dbfsResultPath": null,
       "isJsonSchema": true,
       "metadata": {
        "createTempViewForImplicitDf": true,
        "dataframeName": "_sqldf",
        "executionCount": 16
       },
       "overflow": false,
       "plotOptions": {
        "customPlotOptions": {},
        "displayType": "table",
        "pivotAggregation": null,
        "pivotColumns": null,
        "xColumns": null,
        "yColumns": null
       },
       "removedWidgets": [],
       "schema": [
        {
         "metadata": "{\"__CHAR_VARCHAR_TYPE_STRING\":\"varchar(20)\"}",
         "name": "EMP_ID",
         "type": "\"string\""
        },
        {
         "metadata": "{\"__CHAR_VARCHAR_TYPE_STRING\":\"varchar(15)\"}",
         "name": "EMP_Name",
         "type": "\"string\""
        },
        {
         "metadata": "{\"__CHAR_VARCHAR_TYPE_STRING\":\"varchar(15)\"}",
         "name": "EMP_Designation",
         "type": "\"string\""
        },
        {
         "metadata": "{}",
         "name": "EMP_Age",
         "type": "\"integer\""
        }
       ],
       "type": "table"
      }
     },
     "output_type": "display_data"
    }
   ],
   "source": [
    "%sql\n",
    "DROP TABLE IF EXISTS DBA_Details;\n",
    "\n",
    "CREATE TABLE DBA_Details (\n",
    " EMP_ID VARCHAR(20),\n",
    " EMP_Name VARCHAR(15),\n",
    " EMP_Designation VARCHAR(15),\n",
    " EMP_Age INT\n",
    ");\n",
    "\n",
    "INSERT INTO DBA_Details\n",
    "VALUES\n",
    "(\"SA001\", \"Naresh\", \"SW Developer\", 32),\n",
    "(\"SA003\", \"Rohit\", \"Web Developer\", 34);\n",
    "\n",
    "SELECT * FROM DBA_Details;"
   ]
  },
  {
   "cell_type": "markdown",
   "metadata": {
    "application/vnd.databricks.v1+cell": {
     "cellMetadata": {},
     "inputWidgets": {},
     "nuid": "6a5931ee-4ae7-4baf-8b12-a55f2792ffe6",
     "showTitle": false,
     "tableResultSettingsMap": {},
     "title": ""
    }
   },
   "source": [
    "**1) Using NOT EXISTS**\n",
    "- This gives you all rows in **DBA_Data** where the **EMP_ID** does **not exist** in **DBA_Details** — i.e., **new records**."
   ]
  },
  {
   "cell_type": "code",
   "execution_count": 0,
   "metadata": {
    "application/vnd.databricks.v1+cell": {
     "cellMetadata": {
      "byteLimit": 2048000,
      "implicitDf": true,
      "rowLimit": 10000
     },
     "inputWidgets": {},
     "nuid": "1b3ebf20-a3f9-410b-ab56-b4571ecc2a75",
     "showTitle": false,
     "tableResultSettingsMap": {},
     "title": ""
    }
   },
   "outputs": [
    {
     "output_type": "display_data",
     "data": {
      "text/html": [
       "<style scoped>\n",
       "  .table-result-container {\n",
       "    max-height: 300px;\n",
       "    overflow: auto;\n",
       "  }\n",
       "  table, th, td {\n",
       "    border: 1px solid black;\n",
       "    border-collapse: collapse;\n",
       "  }\n",
       "  th, td {\n",
       "    padding: 5px;\n",
       "  }\n",
       "  th {\n",
       "    text-align: left;\n",
       "  }\n",
       "</style><div class='table-result-container'><table class='table-result'><thead style='background-color: white'><tr><th>EMP_ID</th><th>EMP_Name</th><th>EMP_Salary</th><th>EMP_Age</th></tr></thead><tbody><tr><td>SA002</td><td>Kumar</td><td>25000</td><td>27</td></tr><tr><td>SA004</td><td>Krishna</td><td>32000</td><td>31</td></tr><tr><td>SA005</td><td>David</td><td>35000</td><td>33</td></tr><tr><td>SA006</td><td>Himaja</td><td>39000</td><td>35</td></tr></tbody></table></div>"
      ]
     },
     "metadata": {
      "application/vnd.databricks.v1+output": {
       "addedWidgets": {},
       "aggData": [],
       "aggError": "",
       "aggOverflow": false,
       "aggSchema": [],
       "aggSeriesLimitReached": false,
       "aggType": "",
       "arguments": {},
       "columnCustomDisplayInfos": {},
       "data": [
        [
         "SA002",
         "Kumar",
         25000,
         27
        ],
        [
         "SA004",
         "Krishna",
         32000,
         31
        ],
        [
         "SA005",
         "David",
         35000,
         33
        ],
        [
         "SA006",
         "Himaja",
         39000,
         35
        ]
       ],
       "datasetInfos": [],
       "dbfsResultPath": null,
       "isJsonSchema": true,
       "metadata": {
        "createTempViewForImplicitDf": true,
        "dataframeName": "_sqldf",
        "executionCount": 17
       },
       "overflow": false,
       "plotOptions": {
        "customPlotOptions": {},
        "displayType": "table",
        "pivotAggregation": null,
        "pivotColumns": null,
        "xColumns": null,
        "yColumns": null
       },
       "removedWidgets": [],
       "schema": [
        {
         "metadata": "{\"__CHAR_VARCHAR_TYPE_STRING\":\"varchar(20)\"}",
         "name": "EMP_ID",
         "type": "\"string\""
        },
        {
         "metadata": "{\"__CHAR_VARCHAR_TYPE_STRING\":\"varchar(15)\"}",
         "name": "EMP_Name",
         "type": "\"string\""
        },
        {
         "metadata": "{}",
         "name": "EMP_Salary",
         "type": "\"integer\""
        },
        {
         "metadata": "{}",
         "name": "EMP_Age",
         "type": "\"integer\""
        }
       ],
       "type": "table"
      }
     },
     "output_type": "display_data"
    }
   ],
   "source": [
    "%sql\n",
    "SELECT *\n",
    "FROM DBA_Data a\n",
    "WHERE NOT EXISTS (\n",
    "    SELECT EMP_ID\n",
    "    FROM DBA_Details b\n",
    "    WHERE a.EMP_ID = b.EMP_ID\n",
    ");"
   ]
  },
  {
   "cell_type": "markdown",
   "metadata": {
    "application/vnd.databricks.v1+cell": {
     "cellMetadata": {},
     "inputWidgets": {},
     "nuid": "1fa55a2c-6791-48e2-b2e4-23d43f5b97a3",
     "showTitle": false,
     "tableResultSettingsMap": {},
     "title": ""
    }
   },
   "source": [
    "**2) Using LEFT JOIN ... IS NULL**\n",
    "- This joins both tables and filters out rows where there's **no match** in **DBA_Details**"
   ]
  },
  {
   "cell_type": "code",
   "execution_count": 0,
   "metadata": {
    "application/vnd.databricks.v1+cell": {
     "cellMetadata": {
      "byteLimit": 2048000,
      "implicitDf": true,
      "rowLimit": 10000
     },
     "inputWidgets": {},
     "nuid": "6427106d-a178-4fc8-84fb-dd5c576b65eb",
     "showTitle": false,
     "tableResultSettingsMap": {},
     "title": ""
    }
   },
   "outputs": [
    {
     "output_type": "display_data",
     "data": {
      "text/html": [
       "<style scoped>\n",
       "  .table-result-container {\n",
       "    max-height: 300px;\n",
       "    overflow: auto;\n",
       "  }\n",
       "  table, th, td {\n",
       "    border: 1px solid black;\n",
       "    border-collapse: collapse;\n",
       "  }\n",
       "  th, td {\n",
       "    padding: 5px;\n",
       "  }\n",
       "  th {\n",
       "    text-align: left;\n",
       "  }\n",
       "</style><div class='table-result-container'><table class='table-result'><thead style='background-color: white'><tr><th>EMP_ID</th><th>EMP_Name</th><th>EMP_Salary</th><th>EMP_Age</th><th>EMP_ID</th><th>EMP_Name</th><th>EMP_Designation</th><th>EMP_Age</th></tr></thead><tbody><tr><td>SA001</td><td>Naresh</td><td>20000</td><td>26</td><td>SA001</td><td>Naresh</td><td>SW Developer</td><td>32</td></tr><tr><td>SA002</td><td>Kumar</td><td>25000</td><td>27</td><td>null</td><td>null</td><td>null</td><td>null</td></tr><tr><td>SA003</td><td>Rahul</td><td>29000</td><td>29</td><td>SA003</td><td>Rohit</td><td>Web Developer</td><td>34</td></tr><tr><td>SA004</td><td>Krishna</td><td>32000</td><td>31</td><td>null</td><td>null</td><td>null</td><td>null</td></tr><tr><td>SA005</td><td>David</td><td>35000</td><td>33</td><td>null</td><td>null</td><td>null</td><td>null</td></tr><tr><td>SA006</td><td>Himaja</td><td>39000</td><td>35</td><td>null</td><td>null</td><td>null</td><td>null</td></tr></tbody></table></div>"
      ]
     },
     "metadata": {
      "application/vnd.databricks.v1+output": {
       "addedWidgets": {},
       "aggData": [],
       "aggError": "",
       "aggOverflow": false,
       "aggSchema": [],
       "aggSeriesLimitReached": false,
       "aggType": "",
       "arguments": {},
       "columnCustomDisplayInfos": {},
       "data": [
        [
         "SA001",
         "Naresh",
         20000,
         26,
         "SA001",
         "Naresh",
         "SW Developer",
         32
        ],
        [
         "SA002",
         "Kumar",
         25000,
         27,
         null,
         null,
         null,
         null
        ],
        [
         "SA003",
         "Rahul",
         29000,
         29,
         "SA003",
         "Rohit",
         "Web Developer",
         34
        ],
        [
         "SA004",
         "Krishna",
         32000,
         31,
         null,
         null,
         null,
         null
        ],
        [
         "SA005",
         "David",
         35000,
         33,
         null,
         null,
         null,
         null
        ],
        [
         "SA006",
         "Himaja",
         39000,
         35,
         null,
         null,
         null,
         null
        ]
       ],
       "datasetInfos": [],
       "dbfsResultPath": null,
       "isJsonSchema": true,
       "metadata": {
        "createTempViewForImplicitDf": true,
        "dataframeName": "_sqldf",
        "executionCount": 18
       },
       "overflow": false,
       "plotOptions": {
        "customPlotOptions": {},
        "displayType": "table",
        "pivotAggregation": null,
        "pivotColumns": null,
        "xColumns": null,
        "yColumns": null
       },
       "removedWidgets": [],
       "schema": [
        {
         "metadata": "{\"__CHAR_VARCHAR_TYPE_STRING\":\"varchar(20)\"}",
         "name": "EMP_ID",
         "type": "\"string\""
        },
        {
         "metadata": "{\"__CHAR_VARCHAR_TYPE_STRING\":\"varchar(15)\"}",
         "name": "EMP_Name",
         "type": "\"string\""
        },
        {
         "metadata": "{}",
         "name": "EMP_Salary",
         "type": "\"integer\""
        },
        {
         "metadata": "{}",
         "name": "EMP_Age",
         "type": "\"integer\""
        },
        {
         "metadata": "{\"__CHAR_VARCHAR_TYPE_STRING\":\"varchar(20)\"}",
         "name": "EMP_ID",
         "type": "\"string\""
        },
        {
         "metadata": "{\"__CHAR_VARCHAR_TYPE_STRING\":\"varchar(15)\"}",
         "name": "EMP_Name",
         "type": "\"string\""
        },
        {
         "metadata": "{\"__CHAR_VARCHAR_TYPE_STRING\":\"varchar(15)\"}",
         "name": "EMP_Designation",
         "type": "\"string\""
        },
        {
         "metadata": "{}",
         "name": "EMP_Age",
         "type": "\"integer\""
        }
       ],
       "type": "table"
      }
     },
     "output_type": "display_data"
    }
   ],
   "source": [
    "%sql\n",
    "-- SELECT a.*, b.*\n",
    "SELECT *\n",
    "FROM DBA_Data a\n",
    "LEFT JOIN DBA_Details b ON a.EMP_ID = b.EMP_ID;"
   ]
  },
  {
   "cell_type": "code",
   "execution_count": 0,
   "metadata": {
    "application/vnd.databricks.v1+cell": {
     "cellMetadata": {
      "byteLimit": 2048000,
      "implicitDf": true,
      "rowLimit": 10000
     },
     "inputWidgets": {},
     "nuid": "124dcb29-c3ad-4be8-ae5a-90d6b988c39d",
     "showTitle": false,
     "tableResultSettingsMap": {},
     "title": ""
    }
   },
   "outputs": [
    {
     "output_type": "display_data",
     "data": {
      "text/html": [
       "<style scoped>\n",
       "  .table-result-container {\n",
       "    max-height: 300px;\n",
       "    overflow: auto;\n",
       "  }\n",
       "  table, th, td {\n",
       "    border: 1px solid black;\n",
       "    border-collapse: collapse;\n",
       "  }\n",
       "  th, td {\n",
       "    padding: 5px;\n",
       "  }\n",
       "  th {\n",
       "    text-align: left;\n",
       "  }\n",
       "</style><div class='table-result-container'><table class='table-result'><thead style='background-color: white'><tr><th>EMP_ID</th><th>EMP_Name</th><th>EMP_Salary</th><th>EMP_Age</th></tr></thead><tbody><tr><td>SA002</td><td>Kumar</td><td>25000</td><td>27</td></tr><tr><td>SA004</td><td>Krishna</td><td>32000</td><td>31</td></tr><tr><td>SA005</td><td>David</td><td>35000</td><td>33</td></tr><tr><td>SA006</td><td>Himaja</td><td>39000</td><td>35</td></tr></tbody></table></div>"
      ]
     },
     "metadata": {
      "application/vnd.databricks.v1+output": {
       "addedWidgets": {},
       "aggData": [],
       "aggError": "",
       "aggOverflow": false,
       "aggSchema": [],
       "aggSeriesLimitReached": false,
       "aggType": "",
       "arguments": {},
       "columnCustomDisplayInfos": {},
       "data": [
        [
         "SA002",
         "Kumar",
         25000,
         27
        ],
        [
         "SA004",
         "Krishna",
         32000,
         31
        ],
        [
         "SA005",
         "David",
         35000,
         33
        ],
        [
         "SA006",
         "Himaja",
         39000,
         35
        ]
       ],
       "datasetInfos": [],
       "dbfsResultPath": null,
       "isJsonSchema": true,
       "metadata": {
        "createTempViewForImplicitDf": true,
        "dataframeName": "_sqldf",
        "executionCount": 19
       },
       "overflow": false,
       "plotOptions": {
        "customPlotOptions": {},
        "displayType": "table",
        "pivotAggregation": null,
        "pivotColumns": null,
        "xColumns": null,
        "yColumns": null
       },
       "removedWidgets": [],
       "schema": [
        {
         "metadata": "{\"__CHAR_VARCHAR_TYPE_STRING\":\"varchar(20)\"}",
         "name": "EMP_ID",
         "type": "\"string\""
        },
        {
         "metadata": "{\"__CHAR_VARCHAR_TYPE_STRING\":\"varchar(15)\"}",
         "name": "EMP_Name",
         "type": "\"string\""
        },
        {
         "metadata": "{}",
         "name": "EMP_Salary",
         "type": "\"integer\""
        },
        {
         "metadata": "{}",
         "name": "EMP_Age",
         "type": "\"integer\""
        }
       ],
       "type": "table"
      }
     },
     "output_type": "display_data"
    }
   ],
   "source": [
    "%sql\n",
    "SELECT a.*\n",
    "FROM DBA_Data a\n",
    "LEFT JOIN DBA_Details b ON a.EMP_ID = b.EMP_ID\n",
    "WHERE b.EMP_ID IS NULL;"
   ]
  },
  {
   "cell_type": "markdown",
   "metadata": {
    "application/vnd.databricks.v1+cell": {
     "cellMetadata": {},
     "inputWidgets": {},
     "nuid": "61ed18b7-cad8-4d29-9c22-9886f5d7fb02",
     "showTitle": false,
     "tableResultSettingsMap": {},
     "title": ""
    }
   },
   "source": [
    "**3) Using NOT IN (Be careful with NULLs)**\n",
    "\n",
    "**Note:**\n",
    "- This can behave unexpectedly if **table_b.id** has any **NULL** values — it will return **zero rows**.\n",
    "- Prefer **NOT EXISTS or LEFT JOIN** unless you're sure **id is NOT NULL**."
   ]
  },
  {
   "cell_type": "code",
   "execution_count": 0,
   "metadata": {
    "application/vnd.databricks.v1+cell": {
     "cellMetadata": {
      "byteLimit": 2048000,
      "implicitDf": true,
      "rowLimit": 10000
     },
     "inputWidgets": {},
     "nuid": "566cb918-164d-41f2-ae59-46e5ac546c0d",
     "showTitle": false,
     "tableResultSettingsMap": {},
     "title": ""
    }
   },
   "outputs": [
    {
     "output_type": "display_data",
     "data": {
      "text/html": [
       "<style scoped>\n",
       "  .table-result-container {\n",
       "    max-height: 300px;\n",
       "    overflow: auto;\n",
       "  }\n",
       "  table, th, td {\n",
       "    border: 1px solid black;\n",
       "    border-collapse: collapse;\n",
       "  }\n",
       "  th, td {\n",
       "    padding: 5px;\n",
       "  }\n",
       "  th {\n",
       "    text-align: left;\n",
       "  }\n",
       "</style><div class='table-result-container'><table class='table-result'><thead style='background-color: white'><tr><th>EMP_ID</th><th>EMP_Name</th><th>EMP_Salary</th><th>EMP_Age</th></tr></thead><tbody><tr><td>SA002</td><td>Kumar</td><td>25000</td><td>27</td></tr><tr><td>SA004</td><td>Krishna</td><td>32000</td><td>31</td></tr><tr><td>SA005</td><td>David</td><td>35000</td><td>33</td></tr><tr><td>SA006</td><td>Himaja</td><td>39000</td><td>35</td></tr></tbody></table></div>"
      ]
     },
     "metadata": {
      "application/vnd.databricks.v1+output": {
       "addedWidgets": {},
       "aggData": [],
       "aggError": "",
       "aggOverflow": false,
       "aggSchema": [],
       "aggSeriesLimitReached": false,
       "aggType": "",
       "arguments": {},
       "columnCustomDisplayInfos": {},
       "data": [
        [
         "SA002",
         "Kumar",
         25000,
         27
        ],
        [
         "SA004",
         "Krishna",
         32000,
         31
        ],
        [
         "SA005",
         "David",
         35000,
         33
        ],
        [
         "SA006",
         "Himaja",
         39000,
         35
        ]
       ],
       "datasetInfos": [],
       "dbfsResultPath": null,
       "isJsonSchema": true,
       "metadata": {
        "createTempViewForImplicitDf": true,
        "dataframeName": "_sqldf",
        "executionCount": 20
       },
       "overflow": false,
       "plotOptions": {
        "customPlotOptions": {},
        "displayType": "table",
        "pivotAggregation": null,
        "pivotColumns": null,
        "xColumns": null,
        "yColumns": null
       },
       "removedWidgets": [],
       "schema": [
        {
         "metadata": "{\"__CHAR_VARCHAR_TYPE_STRING\":\"varchar(20)\"}",
         "name": "EMP_ID",
         "type": "\"string\""
        },
        {
         "metadata": "{\"__CHAR_VARCHAR_TYPE_STRING\":\"varchar(15)\"}",
         "name": "EMP_Name",
         "type": "\"string\""
        },
        {
         "metadata": "{}",
         "name": "EMP_Salary",
         "type": "\"integer\""
        },
        {
         "metadata": "{}",
         "name": "EMP_Age",
         "type": "\"integer\""
        }
       ],
       "type": "table"
      }
     },
     "output_type": "display_data"
    }
   ],
   "source": [
    "%sql\n",
    "SELECT * FROM DBA_Data\n",
    "WHERE EMP_ID NOT IN (\n",
    "    SELECT EMP_ID\n",
    "    FROM DBA_Details\n",
    ");"
   ]
  }
 ],
 "metadata": {
  "application/vnd.databricks.v1+notebook": {
   "computePreferences": null,
   "dashboards": [],
   "environmentMetadata": {
    "base_environment": "",
    "environment_version": "1"
   },
   "inputWidgetPreferences": null,
   "language": "python",
   "notebookMetadata": {
    "mostRecentlyExecutedCommandWithImplicitDF": {
     "commandId": 4061312958160752,
     "dataframes": [
      "_sqldf"
     ]
    },
    "pythonIndentUnit": 4
   },
   "notebookName": "9_How to get new records when compared bn bronze & silver tables",
   "widgets": {}
  }
 },
 "nbformat": 4,
 "nbformat_minor": 0
}