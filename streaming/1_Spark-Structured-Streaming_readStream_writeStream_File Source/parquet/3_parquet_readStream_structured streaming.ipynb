{
 "cells": [
  {
   "cell_type": "code",
   "execution_count": 0,
   "metadata": {
    "application/vnd.databricks.v1+cell": {
     "cellMetadata": {
      "byteLimit": 2048000,
      "rowLimit": 10000
     },
     "collapsed": true,
     "inputWidgets": {},
     "nuid": "d0e59ff3-8643-4ce7-9be7-edcab38b4a47",
     "showTitle": false,
     "title": ""
    }
   },
   "outputs": [
    {
     "output_type": "display_data",
     "data": {
      "text/html": [
       "<style scoped>\n",
       "  .table-result-container {\n",
       "    max-height: 300px;\n",
       "    overflow: auto;\n",
       "  }\n",
       "  table, th, td {\n",
       "    border: 1px solid black;\n",
       "    border-collapse: collapse;\n",
       "  }\n",
       "  th, td {\n",
       "    padding: 5px;\n",
       "  }\n",
       "  th {\n",
       "    text-align: left;\n",
       "  }\n",
       "</style><div class='table-result-container'><table class='table-result'><thead style='background-color: white'><tr><th>source</th><th>description</th><th>input_timestamp</th><th>last_update_timestamp</th><th>country</th><th>user</th><th>Location</th><th>Zipcode</th></tr></thead><tbody><tr><td>catalog</td><td>bravia</td><td>1124256609</td><td>1524256609</td><td>IND</td><td>Hari</td><td>Bangalore</td><td>560103</td></tr><tr><td>SAP</td><td>sony</td><td>1224256609</td><td>1424256609</td><td>US</td><td>Rajesh</td><td>Chennai</td><td>860103</td></tr><tr><td>ADLS</td><td>bse</td><td>1324256609</td><td>1524256609</td><td>CANADA</td><td>Lokesh</td><td>Hyderabad</td><td>755103</td></tr><tr><td>Blob</td><td>exchange</td><td>1424256609</td><td>1724256609</td><td>US</td><td>Sharath</td><td>Kochin</td><td>120103</td></tr><tr><td>SQL</td><td>Stock</td><td>1524256609</td><td>1664256609</td><td>SWEDEN</td><td>Sheetal</td><td>Delhi</td><td>875103</td></tr><tr><td>datawarehouse</td><td>azure</td><td>1624256609</td><td>1874256609</td><td>UK</td><td>Raj</td><td>Mumbai</td><td>123403</td></tr><tr><td>oracle</td><td>ADF</td><td>1779256609</td><td>188256609</td><td>Norway</td><td>Synapse</td><td>Nasik</td><td>456103</td></tr></tbody></table></div>"
      ]
     },
     "metadata": {
      "application/vnd.databricks.v1+output": {
       "addedWidgets": {},
       "aggData": [],
       "aggError": "",
       "aggOverflow": false,
       "aggSchema": [],
       "aggSeriesLimitReached": false,
       "aggType": "",
       "arguments": {},
       "columnCustomDisplayInfos": {},
       "data": [
        [
         "catalog",
         "bravia",
         1124256609,
         1524256609,
         "IND",
         "Hari",
         "Bangalore",
         "560103"
        ],
        [
         "SAP",
         "sony",
         1224256609,
         1424256609,
         "US",
         "Rajesh",
         "Chennai",
         "860103"
        ],
        [
         "ADLS",
         "bse",
         1324256609,
         1524256609,
         "CANADA",
         "Lokesh",
         "Hyderabad",
         "755103"
        ],
        [
         "Blob",
         "exchange",
         1424256609,
         1724256609,
         "US",
         "Sharath",
         "Kochin",
         "120103"
        ],
        [
         "SQL",
         "Stock",
         1524256609,
         1664256609,
         "SWEDEN",
         "Sheetal",
         "Delhi",
         "875103"
        ],
        [
         "datawarehouse",
         "azure",
         1624256609,
         1874256609,
         "UK",
         "Raj",
         "Mumbai",
         "123403"
        ],
        [
         "oracle",
         "ADF",
         1779256609,
         188256609,
         "Norway",
         "Synapse",
         "Nasik",
         "456103"
        ]
       ],
       "datasetInfos": [],
       "dbfsResultPath": null,
       "isJsonSchema": true,
       "metadata": {},
       "overflow": false,
       "plotOptions": {
        "customPlotOptions": {},
        "displayType": "table",
        "pivotAggregation": null,
        "pivotColumns": null,
        "xColumns": null,
        "yColumns": null
       },
       "removedWidgets": [],
       "schema": [
        {
         "metadata": "{}",
         "name": "source",
         "type": "\"string\""
        },
        {
         "metadata": "{}",
         "name": "description",
         "type": "\"string\""
        },
        {
         "metadata": "{}",
         "name": "input_timestamp",
         "type": "\"long\""
        },
        {
         "metadata": "{}",
         "name": "last_update_timestamp",
         "type": "\"long\""
        },
        {
         "metadata": "{}",
         "name": "country",
         "type": "\"string\""
        },
        {
         "metadata": "{}",
         "name": "user",
         "type": "\"string\""
        },
        {
         "metadata": "{}",
         "name": "Location",
         "type": "\"string\""
        },
        {
         "metadata": "{}",
         "name": "Zipcode",
         "type": "\"string\""
        }
       ],
       "type": "table"
      }
     },
     "output_type": "display_data"
    }
   ],
   "source": [
    "df = spark.read.parquet(\"/FileStore/tables/Streaming/Stream_readStream/csv/multiline_nested_parquet.parquet\")\n",
    "display(df)"
   ]
  },
  {
   "cell_type": "markdown",
   "metadata": {
    "application/vnd.databricks.v1+cell": {
     "cellMetadata": {},
     "inputWidgets": {},
     "nuid": "8db2a399-5033-4fde-8f7a-12e8f98f1b72",
     "showTitle": false,
     "title": ""
    }
   },
   "source": [
    "**Create folder in DBFS**"
   ]
  },
  {
   "cell_type": "code",
   "execution_count": 0,
   "metadata": {
    "application/vnd.databricks.v1+cell": {
     "cellMetadata": {
      "byteLimit": 2048000,
      "rowLimit": 10000
     },
     "inputWidgets": {},
     "nuid": "3e773ea1-833c-484f-a74d-0ad1d44dd8bf",
     "showTitle": true,
     "title": "Create Directories"
    }
   },
   "outputs": [
    {
     "output_type": "stream",
     "name": "stdout",
     "output_type": "stream",
     "text": [
      "Out[4]: True"
     ]
    }
   ],
   "source": [
    "dbutils.fs.mkdirs(\"/FileStore/tables/Streaming/Stream_checkpoint/csv\")\n",
    "dbutils.fs.mkdirs(\"/FileStore/tables/Streaming/Stream_checkpoint/json\")\n",
    "dbutils.fs.mkdirs(\"/FileStore/tables/Streaming/Stream_checkpoint/parquet\")\n",
    "dbutils.fs.mkdirs(\"/FileStore/tables/Streaming/Stream_checkpoint/orc\")\n",
    "dbutils.fs.mkdirs(\"/FileStore/tables/Streaming/Stream_checkpoint/avro\")\n",
    "\n",
    "dbutils.fs.mkdirs(\"/FileStore/tables/Streaming/Stream_readStream/csv/\")\n",
    "dbutils.fs.mkdirs(\"/FileStore/tables/Streaming/Stream_readStream/json/\")\n",
    "dbutils.fs.mkdirs(\"/FileStore/tables/Streaming/Stream_readStream/parquet/\")\n",
    "dbutils.fs.mkdirs(\"/FileStore/tables/Streaming/Stream_readStream/orc/\")\n",
    "dbutils.fs.mkdirs(\"/FileStore/tables/Streaming/Stream_readStream/avro/\")\n",
    "\n",
    "dbutils.fs.mkdirs(\"/FileStore/tables/Streaming/Stream_writeStream/csv/\")\n",
    "dbutils.fs.mkdirs(\"/FileStore/tables/Streaming/Stream_writeStream/json/\")\n",
    "dbutils.fs.mkdirs(\"/FileStore/tables/Streaming/Stream_writeStream/parquet/\")\n",
    "dbutils.fs.mkdirs(\"/FileStore/tables/Streaming/Stream_writeStream/orc/\")\n",
    "dbutils.fs.mkdirs(\"/FileStore/tables/Streaming/Stream_writeStream/avro/\")"
   ]
  },
  {
   "cell_type": "markdown",
   "metadata": {
    "application/vnd.databricks.v1+cell": {
     "cellMetadata": {},
     "inputWidgets": {},
     "nuid": "b0b2aae0-1709-497c-9f8e-d0be174cad50",
     "showTitle": false,
     "title": ""
    }
   },
   "source": [
    "**Delete folder in DBFS**"
   ]
  },
  {
   "cell_type": "code",
   "execution_count": 0,
   "metadata": {
    "application/vnd.databricks.v1+cell": {
     "cellMetadata": {
      "byteLimit": 2048000,
      "rowLimit": 10000
     },
     "inputWidgets": {},
     "nuid": "4228e6b8-87aa-4c97-a53f-82ab2ad387d1",
     "showTitle": true,
     "title": "Remove Directories"
    }
   },
   "outputs": [
    {
     "output_type": "stream",
     "name": "stdout",
     "output_type": "stream",
     "text": [
      "Out[1]: False"
     ]
    }
   ],
   "source": [
    "dbutils.fs.rm(\"/FileStore/tables/Streaming/Stream_checkpoint/csv\", True)\n",
    "dbutils.fs.rm(\"/FileStore/tables/Streaming/Stream_checkpoint/json\", True)\n",
    "dbutils.fs.rm(\"/FileStore/tables/Streaming/Stream_checkpoint/parquet\", True)\n",
    "dbutils.fs.rm(\"/FileStore/tables/Streaming/Stream_checkpoint/orc\", True)\n",
    "dbutils.fs.rm(\"/FileStore/tables/Streaming/Stream_checkpoint/avro\", True)\n",
    "\n",
    "dbutils.fs.rm(\"/FileStore/tables/Streaming/Stream_readStream/csv\", True)\n",
    "dbutils.fs.rm(\"/FileStore/tables/Streaming/Stream_readStream/json\", True)\n",
    "dbutils.fs.rm(\"/FileStore/tables/Streaming/Stream_readStream/parquet\", True)\n",
    "dbutils.fs.rm(\"/FileStore/tables/Streaming/Stream_readStream/orc\", True)\n",
    "dbutils.fs.rm(\"/FileStore/tables/Streaming/Stream_readStream/avro\", True)\n",
    "\n",
    "dbutils.fs.rm(\"/FileStore/tables/Streaming/Stream_writeStream/csv\", True)\n",
    "dbutils.fs.rm(\"/FileStore/tables/Streaming/Stream_writeStream/json\", True)\n",
    "dbutils.fs.rm(\"/FileStore/tables/Streaming/Stream_writeStream/parquet\", True)\n",
    "dbutils.fs.rm(\"/FileStore/tables/Streaming/Stream_writeStream/orc\", True)\n",
    "dbutils.fs.rm(\"/FileStore/tables/Streaming/Stream_writeStream/avro\", True)"
   ]
  },
  {
   "cell_type": "markdown",
   "metadata": {
    "application/vnd.databricks.v1+cell": {
     "cellMetadata": {},
     "inputWidgets": {},
     "nuid": "d3589528-7926-4a05-b7e3-b01ca6f03230",
     "showTitle": false,
     "title": ""
    }
   },
   "source": [
    "**Define schema for input JSON file**\n",
    "- schema must be specified when creating a streaming source dataframe, otherwise it will through error."
   ]
  },
  {
   "cell_type": "code",
   "execution_count": 0,
   "metadata": {
    "application/vnd.databricks.v1+cell": {
     "cellMetadata": {
      "byteLimit": 2048000,
      "rowLimit": 10000
     },
     "inputWidgets": {},
     "nuid": "86b1983c-e989-4fb3-a20e-e801ddf00dab",
     "showTitle": true,
     "title": "schema defined wrt JSON"
    }
   },
   "outputs": [],
   "source": [
    "from pyspark.sql.types import StructField, StructType, IntegerType, StringType, LongType\n",
    "\n",
    "schema_parquet = StructType([StructField('source',StringType(),False),\n",
    "                             StructField('description',StringType(),False),\n",
    "                             StructField('input_timestamp',LongType(),False),\n",
    "                             StructField('last_update_timestamp',LongType(),False),\n",
    "                             StructField('country',StringType(),False),\n",
    "                             StructField('user',StringType(),False),\n",
    "                             StructField('Location',StringType(),False),\n",
    "                             StructField('Zipcode',StringType(),False)]\n",
    "                           )"
   ]
  },
  {
   "cell_type": "markdown",
   "metadata": {
    "application/vnd.databricks.v1+cell": {
     "cellMetadata": {},
     "inputWidgets": {},
     "nuid": "8e38d96d-36a4-4a74-9837-854ca66cad0e",
     "showTitle": false,
     "title": ""
    }
   },
   "source": [
    "#### **1) readStream**"
   ]
  },
  {
   "cell_type": "code",
   "execution_count": 0,
   "metadata": {
    "application/vnd.databricks.v1+cell": {
     "cellMetadata": {
      "byteLimit": 2048000,
      "rowLimit": 10000
     },
     "inputWidgets": {},
     "nuid": "d4f82a77-3c67-4f23-ad03-6de8bff39e69",
     "showTitle": true,
     "title": "Read JSON files from input folder"
    }
   },
   "outputs": [
    {
     "output_type": "display_data",
     "data": {
      "text/html": [
       "<style scoped>\n",
       "  .table-result-container {\n",
       "    max-height: 300px;\n",
       "    overflow: auto;\n",
       "  }\n",
       "  table, th, td {\n",
       "    border: 1px solid black;\n",
       "    border-collapse: collapse;\n",
       "  }\n",
       "  th, td {\n",
       "    padding: 5px;\n",
       "  }\n",
       "  th {\n",
       "    text-align: left;\n",
       "  }\n",
       "</style><div class='table-result-container'><table class='table-result'><thead style='background-color: white'><tr><th>source</th><th>description</th><th>input_timestamp</th><th>last_update_timestamp</th><th>country</th><th>user</th><th>Location</th><th>Zipcode</th></tr></thead><tbody><tr><td>catalog</td><td>bravia</td><td>1124256609</td><td>1524256609</td><td>IND</td><td>Hari</td><td>Bangalore</td><td>560103</td></tr><tr><td>SAP</td><td>sony</td><td>1224256609</td><td>1424256609</td><td>US</td><td>Rajesh</td><td>Chennai</td><td>860103</td></tr><tr><td>ADLS</td><td>bse</td><td>1324256609</td><td>1524256609</td><td>CANADA</td><td>Lokesh</td><td>Hyderabad</td><td>755103</td></tr><tr><td>Blob</td><td>exchange</td><td>1424256609</td><td>1724256609</td><td>US</td><td>Sharath</td><td>Kochin</td><td>120103</td></tr><tr><td>SQL</td><td>Stock</td><td>1524256609</td><td>1664256609</td><td>SWEDEN</td><td>Sheetal</td><td>Delhi</td><td>875103</td></tr><tr><td>datawarehouse</td><td>azure</td><td>1624256609</td><td>1874256609</td><td>UK</td><td>Raj</td><td>Mumbai</td><td>123403</td></tr><tr><td>oracle</td><td>ADF</td><td>1779256609</td><td>188256609</td><td>Norway</td><td>Synapse</td><td>Nasik</td><td>456103</td></tr><tr><td>catalog</td><td>bravia</td><td>1124256609</td><td>1524256609</td><td>IND</td><td>Hari</td><td>Bangalore</td><td>560103</td></tr><tr><td>SAP</td><td>sony</td><td>1224256609</td><td>1424256609</td><td>US</td><td>Rajesh</td><td>Chennai</td><td>860103</td></tr><tr><td>ADLS</td><td>bse</td><td>1324256609</td><td>1524256609</td><td>CANADA</td><td>Lokesh</td><td>Hyderabad</td><td>755103</td></tr><tr><td>Blob</td><td>exchange</td><td>1424256609</td><td>1724256609</td><td>US</td><td>Sharath</td><td>Kochin</td><td>120103</td></tr><tr><td>SQL</td><td>Stock</td><td>1524256609</td><td>1664256609</td><td>SWEDEN</td><td>Sheetal</td><td>Delhi</td><td>875103</td></tr><tr><td>datawarehouse</td><td>azure</td><td>1624256609</td><td>1874256609</td><td>UK</td><td>Raj</td><td>Mumbai</td><td>123403</td></tr><tr><td>oracle</td><td>ADF</td><td>1779256609</td><td>188256609</td><td>Norway</td><td>Synapse</td><td>Nasik</td><td>456103</td></tr></tbody></table></div>"
      ]
     },
     "metadata": {
      "application/vnd.databricks.v1+output": {
       "addedWidgets": {},
       "aggData": [],
       "aggError": "",
       "aggOverflow": false,
       "aggSchema": [],
       "aggSeriesLimitReached": false,
       "aggType": "",
       "arguments": {},
       "columnCustomDisplayInfos": {},
       "data": [
        [
         "catalog",
         "bravia",
         1124256609,
         1524256609,
         "IND",
         "Hari",
         "Bangalore",
         "560103"
        ],
        [
         "SAP",
         "sony",
         1224256609,
         1424256609,
         "US",
         "Rajesh",
         "Chennai",
         "860103"
        ],
        [
         "ADLS",
         "bse",
         1324256609,
         1524256609,
         "CANADA",
         "Lokesh",
         "Hyderabad",
         "755103"
        ],
        [
         "Blob",
         "exchange",
         1424256609,
         1724256609,
         "US",
         "Sharath",
         "Kochin",
         "120103"
        ],
        [
         "SQL",
         "Stock",
         1524256609,
         1664256609,
         "SWEDEN",
         "Sheetal",
         "Delhi",
         "875103"
        ],
        [
         "datawarehouse",
         "azure",
         1624256609,
         1874256609,
         "UK",
         "Raj",
         "Mumbai",
         "123403"
        ],
        [
         "oracle",
         "ADF",
         1779256609,
         188256609,
         "Norway",
         "Synapse",
         "Nasik",
         "456103"
        ],
        [
         "catalog",
         "bravia",
         1124256609,
         1524256609,
         "IND",
         "Hari",
         "Bangalore",
         "560103"
        ],
        [
         "SAP",
         "sony",
         1224256609,
         1424256609,
         "US",
         "Rajesh",
         "Chennai",
         "860103"
        ],
        [
         "ADLS",
         "bse",
         1324256609,
         1524256609,
         "CANADA",
         "Lokesh",
         "Hyderabad",
         "755103"
        ],
        [
         "Blob",
         "exchange",
         1424256609,
         1724256609,
         "US",
         "Sharath",
         "Kochin",
         "120103"
        ],
        [
         "SQL",
         "Stock",
         1524256609,
         1664256609,
         "SWEDEN",
         "Sheetal",
         "Delhi",
         "875103"
        ],
        [
         "datawarehouse",
         "azure",
         1624256609,
         1874256609,
         "UK",
         "Raj",
         "Mumbai",
         "123403"
        ],
        [
         "oracle",
         "ADF",
         1779256609,
         188256609,
         "Norway",
         "Synapse",
         "Nasik",
         "456103"
        ]
       ],
       "datasetInfos": [],
       "dbfsResultPath": null,
       "isJsonSchema": true,
       "metadata": {
        "isDbfsCommandResult": false
       },
       "overflow": false,
       "plotOptions": {
        "customPlotOptions": {},
        "displayType": "table",
        "pivotAggregation": null,
        "pivotColumns": null,
        "xColumns": null,
        "yColumns": null
       },
       "removedWidgets": [],
       "schema": [
        {
         "metadata": "{}",
         "name": "source",
         "type": "\"string\""
        },
        {
         "metadata": "{}",
         "name": "description",
         "type": "\"string\""
        },
        {
         "metadata": "{}",
         "name": "input_timestamp",
         "type": "\"long\""
        },
        {
         "metadata": "{}",
         "name": "last_update_timestamp",
         "type": "\"long\""
        },
        {
         "metadata": "{}",
         "name": "country",
         "type": "\"string\""
        },
        {
         "metadata": "{}",
         "name": "user",
         "type": "\"string\""
        },
        {
         "metadata": "{}",
         "name": "Location",
         "type": "\"string\""
        },
        {
         "metadata": "{}",
         "name": "Zipcode",
         "type": "\"string\""
        }
       ],
       "type": "table"
      }
     },
     "output_type": "display_data"
    }
   ],
   "source": [
    "stream_parquet = spark.readStream\\\n",
    "                      .format(\"parquet\")\\\n",
    "                      .schema(schema_parquet)\\\n",
    "                      .parquet(\"/FileStore/tables/Streaming/Stream_readStream/parquet/\")\n",
    "\n",
    "print(stream_parquet.isStreaming)\n",
    "print(stream_parquet.printSchema())\n",
    "\n",
    "display(stream_parquet)\n",
    "\n",
    "# stream_parquet.awaitTermination()"
   ]
  },
  {
   "cell_type": "markdown",
   "metadata": {
    "application/vnd.databricks.v1+cell": {
     "cellMetadata": {},
     "inputWidgets": {},
     "nuid": "caf24a47-9033-42fa-b409-cf22e17c5d6c",
     "showTitle": false,
     "title": ""
    }
   },
   "source": [
    "#### **2) writeStream**"
   ]
  },
  {
   "cell_type": "markdown",
   "metadata": {
    "application/vnd.databricks.v1+cell": {
     "cellMetadata": {},
     "inputWidgets": {},
     "nuid": "4fd23e89-e5e8-43a4-b389-bfe474320ec4",
     "showTitle": false,
     "title": ""
    }
   },
   "source": [
    "**format('parquet')**"
   ]
  },
  {
   "cell_type": "code",
   "execution_count": 0,
   "metadata": {
    "application/vnd.databricks.v1+cell": {
     "cellMetadata": {
      "byteLimit": 2048000,
      "rowLimit": 10000
     },
     "inputWidgets": {},
     "nuid": "acccffc3-27e1-45be-84cc-7651c83d710c",
     "showTitle": false,
     "title": ""
    }
   },
   "outputs": [
    {
     "output_type": "display_data",
     "data": {
      "text/html": [
       "<style scoped>\n",
       "  .table-result-container {\n",
       "    max-height: 300px;\n",
       "    overflow: auto;\n",
       "  }\n",
       "  table, th, td {\n",
       "    border: 1px solid black;\n",
       "    border-collapse: collapse;\n",
       "  }\n",
       "  th, td {\n",
       "    padding: 5px;\n",
       "  }\n",
       "  th {\n",
       "    text-align: left;\n",
       "  }\n",
       "</style><div class='table-result-container'><table class='table-result'><thead style='background-color: white'><tr><th>source</th><th>description</th><th>input_timestamp</th><th>last_update_timestamp</th><th>country</th><th>user</th><th>Location</th><th>Zipcode</th></tr></thead><tbody><tr><td>catalog</td><td>bravia</td><td>1124256609</td><td>1524256609</td><td>IND</td><td>Hari</td><td>Bangalore</td><td>560103</td></tr><tr><td>SAP</td><td>sony</td><td>1224256609</td><td>1424256609</td><td>US</td><td>Rajesh</td><td>Chennai</td><td>860103</td></tr><tr><td>ADLS</td><td>bse</td><td>1324256609</td><td>1524256609</td><td>CANADA</td><td>Lokesh</td><td>Hyderabad</td><td>755103</td></tr><tr><td>Blob</td><td>exchange</td><td>1424256609</td><td>1724256609</td><td>US</td><td>Sharath</td><td>Kochin</td><td>120103</td></tr><tr><td>SQL</td><td>Stock</td><td>1524256609</td><td>1664256609</td><td>SWEDEN</td><td>Sheetal</td><td>Delhi</td><td>875103</td></tr><tr><td>datawarehouse</td><td>azure</td><td>1624256609</td><td>1874256609</td><td>UK</td><td>Raj</td><td>Mumbai</td><td>123403</td></tr><tr><td>oracle</td><td>ADF</td><td>1779256609</td><td>188256609</td><td>Norway</td><td>Synapse</td><td>Nasik</td><td>456103</td></tr><tr><td>catalog</td><td>bravia</td><td>1124256609</td><td>1524256609</td><td>IND</td><td>Hari</td><td>Bangalore</td><td>560103</td></tr><tr><td>SAP</td><td>sony</td><td>1224256609</td><td>1424256609</td><td>US</td><td>Rajesh</td><td>Chennai</td><td>860103</td></tr><tr><td>ADLS</td><td>bse</td><td>1324256609</td><td>1524256609</td><td>CANADA</td><td>Lokesh</td><td>Hyderabad</td><td>755103</td></tr><tr><td>Blob</td><td>exchange</td><td>1424256609</td><td>1724256609</td><td>US</td><td>Sharath</td><td>Kochin</td><td>120103</td></tr><tr><td>SQL</td><td>Stock</td><td>1524256609</td><td>1664256609</td><td>SWEDEN</td><td>Sheetal</td><td>Delhi</td><td>875103</td></tr><tr><td>datawarehouse</td><td>azure</td><td>1624256609</td><td>1874256609</td><td>UK</td><td>Raj</td><td>Mumbai</td><td>123403</td></tr><tr><td>oracle</td><td>ADF</td><td>1779256609</td><td>188256609</td><td>Norway</td><td>Synapse</td><td>Nasik</td><td>456103</td></tr></tbody></table></div>"
      ]
     },
     "metadata": {
      "application/vnd.databricks.v1+output": {
       "addedWidgets": {},
       "aggData": [],
       "aggError": "",
       "aggOverflow": false,
       "aggSchema": [],
       "aggSeriesLimitReached": false,
       "aggType": "",
       "arguments": {},
       "columnCustomDisplayInfos": {},
       "data": [
        [
         "catalog",
         "bravia",
         1124256609,
         1524256609,
         "IND",
         "Hari",
         "Bangalore",
         "560103"
        ],
        [
         "SAP",
         "sony",
         1224256609,
         1424256609,
         "US",
         "Rajesh",
         "Chennai",
         "860103"
        ],
        [
         "ADLS",
         "bse",
         1324256609,
         1524256609,
         "CANADA",
         "Lokesh",
         "Hyderabad",
         "755103"
        ],
        [
         "Blob",
         "exchange",
         1424256609,
         1724256609,
         "US",
         "Sharath",
         "Kochin",
         "120103"
        ],
        [
         "SQL",
         "Stock",
         1524256609,
         1664256609,
         "SWEDEN",
         "Sheetal",
         "Delhi",
         "875103"
        ],
        [
         "datawarehouse",
         "azure",
         1624256609,
         1874256609,
         "UK",
         "Raj",
         "Mumbai",
         "123403"
        ],
        [
         "oracle",
         "ADF",
         1779256609,
         188256609,
         "Norway",
         "Synapse",
         "Nasik",
         "456103"
        ],
        [
         "catalog",
         "bravia",
         1124256609,
         1524256609,
         "IND",
         "Hari",
         "Bangalore",
         "560103"
        ],
        [
         "SAP",
         "sony",
         1224256609,
         1424256609,
         "US",
         "Rajesh",
         "Chennai",
         "860103"
        ],
        [
         "ADLS",
         "bse",
         1324256609,
         1524256609,
         "CANADA",
         "Lokesh",
         "Hyderabad",
         "755103"
        ],
        [
         "Blob",
         "exchange",
         1424256609,
         1724256609,
         "US",
         "Sharath",
         "Kochin",
         "120103"
        ],
        [
         "SQL",
         "Stock",
         1524256609,
         1664256609,
         "SWEDEN",
         "Sheetal",
         "Delhi",
         "875103"
        ],
        [
         "datawarehouse",
         "azure",
         1624256609,
         1874256609,
         "UK",
         "Raj",
         "Mumbai",
         "123403"
        ],
        [
         "oracle",
         "ADF",
         1779256609,
         188256609,
         "Norway",
         "Synapse",
         "Nasik",
         "456103"
        ]
       ],
       "datasetInfos": [],
       "dbfsResultPath": null,
       "isJsonSchema": true,
       "metadata": {
        "isDbfsCommandResult": false
       },
       "overflow": false,
       "plotOptions": {
        "customPlotOptions": {},
        "displayType": "table",
        "pivotAggregation": null,
        "pivotColumns": null,
        "xColumns": null,
        "yColumns": null
       },
       "removedWidgets": [],
       "schema": [
        {
         "metadata": "{}",
         "name": "source",
         "type": "\"string\""
        },
        {
         "metadata": "{}",
         "name": "description",
         "type": "\"string\""
        },
        {
         "metadata": "{}",
         "name": "input_timestamp",
         "type": "\"long\""
        },
        {
         "metadata": "{}",
         "name": "last_update_timestamp",
         "type": "\"long\""
        },
        {
         "metadata": "{}",
         "name": "country",
         "type": "\"string\""
        },
        {
         "metadata": "{}",
         "name": "user",
         "type": "\"string\""
        },
        {
         "metadata": "{}",
         "name": "Location",
         "type": "\"string\""
        },
        {
         "metadata": "{}",
         "name": "Zipcode",
         "type": "\"string\""
        }
       ],
       "type": "table"
      }
     },
     "output_type": "display_data"
    }
   ],
   "source": [
    "check_point = \"/FileStore/tables/Streaming/Stream_checkpoint/parquet\"\n",
    "\n",
    "stream_parquet.writeStream\\\n",
    "              .format('parquet')\\\n",
    "              .outputMode('append')\\\n",
    "              .option(\"path\", \"/FileStore/tables/Streaming/Stream_writeStream/parquet/\")\\\n",
    "              .option(\"checkpointLocation\", check_point)\\\n",
    "              .start()\n",
    "\n",
    "display(stream_parquet)"
   ]
  },
  {
   "cell_type": "markdown",
   "metadata": {
    "application/vnd.databricks.v1+cell": {
     "cellMetadata": {},
     "inputWidgets": {},
     "nuid": "f1979e11-37a0-4363-b52d-03d0a7ee6ede",
     "showTitle": false,
     "title": ""
    }
   },
   "source": [
    "**verify the written stream data**"
   ]
  },
  {
   "cell_type": "code",
   "execution_count": 0,
   "metadata": {
    "application/vnd.databricks.v1+cell": {
     "cellMetadata": {
      "byteLimit": 2048000,
      "rowLimit": 10000
     },
     "inputWidgets": {},
     "nuid": "2e04dbd3-7ec8-44bb-b3a6-d2f594a18dad",
     "showTitle": false,
     "title": ""
    }
   },
   "outputs": [
    {
     "output_type": "display_data",
     "data": {
      "text/html": [
       "<style scoped>\n",
       "  .table-result-container {\n",
       "    max-height: 300px;\n",
       "    overflow: auto;\n",
       "  }\n",
       "  table, th, td {\n",
       "    border: 1px solid black;\n",
       "    border-collapse: collapse;\n",
       "  }\n",
       "  th, td {\n",
       "    padding: 5px;\n",
       "  }\n",
       "  th {\n",
       "    text-align: left;\n",
       "  }\n",
       "</style><div class='table-result-container'><table class='table-result'><thead style='background-color: white'><tr><th>source</th><th>description</th><th>input_timestamp</th><th>last_update_timestamp</th><th>country</th><th>user</th><th>Location</th><th>Zipcode</th></tr></thead><tbody><tr><td>catalog</td><td>bravia</td><td>1124256609</td><td>1524256609</td><td>IND</td><td>Hari</td><td>Bangalore</td><td>560103</td></tr><tr><td>SAP</td><td>sony</td><td>1224256609</td><td>1424256609</td><td>US</td><td>Rajesh</td><td>Chennai</td><td>860103</td></tr><tr><td>ADLS</td><td>bse</td><td>1324256609</td><td>1524256609</td><td>CANADA</td><td>Lokesh</td><td>Hyderabad</td><td>755103</td></tr><tr><td>Blob</td><td>exchange</td><td>1424256609</td><td>1724256609</td><td>US</td><td>Sharath</td><td>Kochin</td><td>120103</td></tr><tr><td>SQL</td><td>Stock</td><td>1524256609</td><td>1664256609</td><td>SWEDEN</td><td>Sheetal</td><td>Delhi</td><td>875103</td></tr><tr><td>datawarehouse</td><td>azure</td><td>1624256609</td><td>1874256609</td><td>UK</td><td>Raj</td><td>Mumbai</td><td>123403</td></tr><tr><td>oracle</td><td>ADF</td><td>1779256609</td><td>188256609</td><td>Norway</td><td>Synapse</td><td>Nasik</td><td>456103</td></tr><tr><td>catalog</td><td>bravia</td><td>1124256609</td><td>1524256609</td><td>IND</td><td>Hari</td><td>Bangalore</td><td>560103</td></tr><tr><td>SAP</td><td>sony</td><td>1224256609</td><td>1424256609</td><td>US</td><td>Rajesh</td><td>Chennai</td><td>860103</td></tr><tr><td>ADLS</td><td>bse</td><td>1324256609</td><td>1524256609</td><td>CANADA</td><td>Lokesh</td><td>Hyderabad</td><td>755103</td></tr><tr><td>Blob</td><td>exchange</td><td>1424256609</td><td>1724256609</td><td>US</td><td>Sharath</td><td>Kochin</td><td>120103</td></tr><tr><td>SQL</td><td>Stock</td><td>1524256609</td><td>1664256609</td><td>SWEDEN</td><td>Sheetal</td><td>Delhi</td><td>875103</td></tr><tr><td>datawarehouse</td><td>azure</td><td>1624256609</td><td>1874256609</td><td>UK</td><td>Raj</td><td>Mumbai</td><td>123403</td></tr><tr><td>oracle</td><td>ADF</td><td>1779256609</td><td>188256609</td><td>Norway</td><td>Synapse</td><td>Nasik</td><td>456103</td></tr></tbody></table></div>"
      ]
     },
     "metadata": {
      "application/vnd.databricks.v1+output": {
       "addedWidgets": {},
       "aggData": [],
       "aggError": "",
       "aggOverflow": false,
       "aggSchema": [],
       "aggSeriesLimitReached": false,
       "aggType": "",
       "arguments": {},
       "columnCustomDisplayInfos": {},
       "data": [
        [
         "catalog",
         "bravia",
         1124256609,
         1524256609,
         "IND",
         "Hari",
         "Bangalore",
         "560103"
        ],
        [
         "SAP",
         "sony",
         1224256609,
         1424256609,
         "US",
         "Rajesh",
         "Chennai",
         "860103"
        ],
        [
         "ADLS",
         "bse",
         1324256609,
         1524256609,
         "CANADA",
         "Lokesh",
         "Hyderabad",
         "755103"
        ],
        [
         "Blob",
         "exchange",
         1424256609,
         1724256609,
         "US",
         "Sharath",
         "Kochin",
         "120103"
        ],
        [
         "SQL",
         "Stock",
         1524256609,
         1664256609,
         "SWEDEN",
         "Sheetal",
         "Delhi",
         "875103"
        ],
        [
         "datawarehouse",
         "azure",
         1624256609,
         1874256609,
         "UK",
         "Raj",
         "Mumbai",
         "123403"
        ],
        [
         "oracle",
         "ADF",
         1779256609,
         188256609,
         "Norway",
         "Synapse",
         "Nasik",
         "456103"
        ],
        [
         "catalog",
         "bravia",
         1124256609,
         1524256609,
         "IND",
         "Hari",
         "Bangalore",
         "560103"
        ],
        [
         "SAP",
         "sony",
         1224256609,
         1424256609,
         "US",
         "Rajesh",
         "Chennai",
         "860103"
        ],
        [
         "ADLS",
         "bse",
         1324256609,
         1524256609,
         "CANADA",
         "Lokesh",
         "Hyderabad",
         "755103"
        ],
        [
         "Blob",
         "exchange",
         1424256609,
         1724256609,
         "US",
         "Sharath",
         "Kochin",
         "120103"
        ],
        [
         "SQL",
         "Stock",
         1524256609,
         1664256609,
         "SWEDEN",
         "Sheetal",
         "Delhi",
         "875103"
        ],
        [
         "datawarehouse",
         "azure",
         1624256609,
         1874256609,
         "UK",
         "Raj",
         "Mumbai",
         "123403"
        ],
        [
         "oracle",
         "ADF",
         1779256609,
         188256609,
         "Norway",
         "Synapse",
         "Nasik",
         "456103"
        ]
       ],
       "datasetInfos": [],
       "dbfsResultPath": null,
       "isJsonSchema": true,
       "metadata": {},
       "overflow": false,
       "plotOptions": {
        "customPlotOptions": {},
        "displayType": "table",
        "pivotAggregation": null,
        "pivotColumns": null,
        "xColumns": null,
        "yColumns": null
       },
       "removedWidgets": [],
       "schema": [
        {
         "metadata": "{}",
         "name": "source",
         "type": "\"string\""
        },
        {
         "metadata": "{}",
         "name": "description",
         "type": "\"string\""
        },
        {
         "metadata": "{}",
         "name": "input_timestamp",
         "type": "\"long\""
        },
        {
         "metadata": "{}",
         "name": "last_update_timestamp",
         "type": "\"long\""
        },
        {
         "metadata": "{}",
         "name": "country",
         "type": "\"string\""
        },
        {
         "metadata": "{}",
         "name": "user",
         "type": "\"string\""
        },
        {
         "metadata": "{}",
         "name": "Location",
         "type": "\"string\""
        },
        {
         "metadata": "{}",
         "name": "Zipcode",
         "type": "\"string\""
        }
       ],
       "type": "table"
      }
     },
     "output_type": "display_data"
    }
   ],
   "source": [
    "display(spark.read.format(\"parquet\").load(\"/FileStore/tables/Streaming/Stream_writeStream/parquet/*.parquet\"))"
   ]
  }
 ],
 "metadata": {
  "application/vnd.databricks.v1+notebook": {
   "dashboards": [],
   "environmentMetadata": null,
   "language": "python",
   "notebookMetadata": {
    "mostRecentlyExecutedCommandWithImplicitDF": {
     "commandId": 4046965238523516,
     "dataframes": [
      "_sqldf"
     ]
    },
    "pythonIndentUnit": 4
   },
   "notebookName": "3_parquet_readStream_structured streaming",
   "widgets": {}
  }
 },
 "nbformat": 4,
 "nbformat_minor": 0
}
